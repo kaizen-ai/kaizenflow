{
  "nbformat": 4,
  "nbformat_minor": 0,
  "metadata": {
    "colab": {
      "provenance": []
    },
    "kernelspec": {
      "name": "python3",
      "display_name": "Python 3"
    },
    "language_info": {
      "name": "python"
    }
  },
  "cells": [
    {
      "cell_type": "code",
      "source": [
        "# Install Java\n",
        "!apt-get update\n",
        "!apt-get install openjdk-8-jdk-headless -qq > /dev/null\n",
        "\n",
        "# Download and extract Hadoop\n",
        "!wget -q https://dlcdn.apache.org/hadoop/common/hadoop-3.4.0/hadoop-3.4.0.tar.gz\n",
        "!tar -xzf hadoop-3.4.0.tar.gz\n",
        "\n",
        "# Set environment variables\n",
        "import os\n",
        "os.environ[\"JAVA_HOME\"] = \"/usr/lib/jvm/java-8-openjdk-amd64\"\n",
        "os.environ[\"HADOOP_HOME\"] = \"/content/hadoop-3.4.0\"\n",
        "os.environ[\"PATH\"] += f\":{os.environ['HADOOP_HOME']}/bin\"\n",
        "\n",
        "# Verify Java and Hadoop installation\n",
        "!echo $JAVA_HOME\n",
        "!hadoop version\n"
      ],
      "metadata": {
        "colab": {
          "base_uri": "https://localhost:8080/"
        },
        "id": "cVGH9wWCYGis",
        "outputId": "9a2293fc-3cec-422a-f766-db874ba5d218"
      },
      "execution_count": null,
      "outputs": [
        {
          "output_type": "stream",
          "name": "stdout",
          "text": [
            "\r0% [Working]\r            \rHit:1 http://archive.ubuntu.com/ubuntu jammy InRelease\n",
            "\r0% [Waiting for headers] [Connecting to security.ubuntu.com (185.125.190.39)] [Connected to cloud.r-\r                                                                                                    \rGet:2 http://archive.ubuntu.com/ubuntu jammy-updates InRelease [119 kB]\n",
            "\r                                                                                                    \rGet:3 https://cloud.r-project.org/bin/linux/ubuntu jammy-cran40/ InRelease [3,626 B]\n",
            "Get:4 https://developer.download.nvidia.com/compute/cuda/repos/ubuntu2204/x86_64  InRelease [1,581 B]\n",
            "Get:5 http://security.ubuntu.com/ubuntu jammy-security InRelease [110 kB]\n",
            "Get:6 http://archive.ubuntu.com/ubuntu jammy-backports InRelease [109 kB]\n",
            "Hit:7 https://ppa.launchpadcontent.net/c2d4u.team/c2d4u4.0+/ubuntu jammy InRelease\n",
            "Hit:8 https://ppa.launchpadcontent.net/deadsnakes/ppa/ubuntu jammy InRelease\n",
            "Hit:9 https://ppa.launchpadcontent.net/graphics-drivers/ppa/ubuntu jammy InRelease\n",
            "Hit:10 https://ppa.launchpadcontent.net/ubuntugis/ppa/ubuntu jammy InRelease\n",
            "Get:11 https://developer.download.nvidia.com/compute/cuda/repos/ubuntu2204/x86_64  Packages [824 kB]\n",
            "Get:12 http://archive.ubuntu.com/ubuntu jammy-updates/main amd64 Packages [2,035 kB]\n",
            "Get:13 http://archive.ubuntu.com/ubuntu jammy-updates/universe amd64 Packages [1,370 kB]\n",
            "Get:14 http://archive.ubuntu.com/ubuntu jammy-backports/main amd64 Packages [81.0 kB]\n",
            "Get:15 http://archive.ubuntu.com/ubuntu jammy-backports/universe amd64 Packages [31.9 kB]\n",
            "Get:16 http://security.ubuntu.com/ubuntu jammy-security/main amd64 Packages [1,755 kB]\n",
            "Get:17 http://security.ubuntu.com/ubuntu jammy-security/universe amd64 Packages [1,077 kB]\n",
            "Get:18 http://security.ubuntu.com/ubuntu jammy-security/restricted amd64 Packages [2,265 kB]\n",
            "Fetched 9,783 kB in 4s (2,194 kB/s)\n",
            "Reading package lists... Done\n",
            "/usr/lib/jvm/java-8-openjdk-amd64\n",
            "Hadoop 3.4.0\n",
            "Source code repository git@github.com:apache/hadoop.git -r bd8b77f398f626bb7791783192ee7a5dfaeec760\n",
            "Compiled by root on 2024-03-04T06:35Z\n",
            "Compiled on platform linux-x86_64\n",
            "Compiled with protoc 3.21.12\n",
            "From source with checksum f7fe694a3613358b38812ae9c31114e\n",
            "This command was run using /content/hadoop-3.4.0/share/hadoop/common/hadoop-common-3.4.0.jar\n"
          ]
        }
      ]
    },
    {
      "cell_type": "markdown",
      "source": [
        "Defining the Dataset\n",
        "The dataset involves lines containing either a name, email address, or both.\n",
        "\n",
        "Example would be:\n",
        "\n",
        "Tom Jones - tom.jones@gmail.com\n",
        "\n",
        "Ethan Smith\n",
        "\n",
        "Chandler Johnson\n",
        "\n",
        "Brian Flaunders: bflaunders@yahoo.com\n",
        "\n",
        "Samantha Lipson"
      ],
      "metadata": {
        "id": "_lS6Fsc4YuAg"
      }
    },
    {
      "cell_type": "markdown",
      "source": [
        "The python mapper script I crafted will read each line separately, check if it contains an email address using a regex pattern, and output that."
      ],
      "metadata": {
        "id": "BOBaJ_J0Yyyy"
      }
    },
    {
      "cell_type": "code",
      "execution_count": null,
      "metadata": {
        "colab": {
          "base_uri": "https://localhost:8080/"
        },
        "id": "S0VidNO4CO7y",
        "outputId": "40adcf28-0c76-4007-9bae-09d9525af1bf"
      },
      "outputs": [
        {
          "output_type": "stream",
          "name": "stdout",
          "text": [
            "Writing email_mapper.py\n"
          ]
        }
      ],
      "source": [
        "%%writefile email_mapper.py\n",
        "#!/usr/bin/env python3\n",
        "import sys\n",
        "import re\n",
        "\n",
        "def email(line):\n",
        "    pattern = re.compile(r'\\b[A-Za-z0-9._%+-]+@[A-Za-z0-9.-]+\\.[A-Z|a-z]{2,}\\b')\n",
        "    if re.search(pattern, line):\n",
        "        return True\n",
        "    return False\n",
        "\n",
        "for line in sys.stdin:\n",
        "    line = line.strip()\n",
        "    if email(line):\n",
        "        print(line)\n",
        "\n",
        "\n"
      ]
    },
    {
      "cell_type": "code",
      "source": [
        "!chmod +x email_mapper.py\n",
        "\n",
        "\n"
      ],
      "metadata": {
        "id": "q4USHdB3CTk8"
      },
      "execution_count": null,
      "outputs": []
    },
    {
      "cell_type": "code",
      "source": [
        "!echo -e \"Lebron James - LebronJamess@NBA.com\\nLos Angeles Lakers\\nEmpty Line\\nLawyer: JaneJohnson@hotmail.com\\nDallas Cowboys\" | python email_mapper.py\n"
      ],
      "metadata": {
        "colab": {
          "base_uri": "https://localhost:8080/"
        },
        "id": "igCyzi94QA80",
        "outputId": "b7269c72-147b-408c-adfa-cdb85b9d028b"
      },
      "execution_count": null,
      "outputs": [
        {
          "output_type": "stream",
          "name": "stdout",
          "text": [
            "Lebron James - LebronJamess@NBA.com\n",
            "Lawyer: JaneJohnson@hotmail.com\n"
          ]
        }
      ]
    },
    {
      "cell_type": "code",
      "source": [
        "!echo -e \"Lebron James - LebronJamess@NBA.com\\nLos Angeles Lakers\\nEmpty Line\\nLawyer: JaneJohnson@hotmail.com\\nDallas Cowboys\" > input.txt\n"
      ],
      "metadata": {
        "id": "QuZ-e3GQTa9g"
      },
      "execution_count": null,
      "outputs": []
    },
    {
      "cell_type": "code",
      "source": [
        "!hadoop jar $HADOOP_HOME/share/hadoop/tools/lib/hadoop-streaming-3.4.0.jar \\\n",
        "    -files email_mapper.py \\\n",
        "    -input input.txt \\\n",
        "    -output output \\\n",
        "    -mapper email_mapper.py \\\n",
        "    -reducer NONE\n",
        "\n"
      ],
      "metadata": {
        "id": "crWs6QFEYjtI"
      },
      "execution_count": null,
      "outputs": []
    },
    {
      "cell_type": "code",
      "source": [
        "!cat output/*\n"
      ],
      "metadata": {
        "colab": {
          "base_uri": "https://localhost:8080/"
        },
        "id": "Q1G5Dka6SfkR",
        "outputId": "01f5e0ac-2d09-4537-ca07-21e927872b15"
      },
      "execution_count": null,
      "outputs": [
        {
          "output_type": "stream",
          "name": "stdout",
          "text": [
            "Lebron James - LebronJamess@NBA.com\t\n",
            "Lawyer: JaneJohnson@hotmail.com\t\n"
          ]
        }
      ]
    },
    {
      "cell_type": "code",
      "source": [
        "!git clone https://github.com/kaizen-ai/kaizenflow.git\n",
        "%cd kaizenflow\n"
      ],
      "metadata": {
        "colab": {
          "base_uri": "https://localhost:8080/"
        },
        "id": "AmTV0i5FIkmD",
        "outputId": "46ce35dd-afee-4710-9cd1-aefe25ecf8f0"
      },
      "execution_count": null,
      "outputs": [
        {
          "output_type": "stream",
          "name": "stdout",
          "text": [
            "Cloning into 'kaizenflow'...\n",
            "remote: Enumerating objects: 97586, done.\u001b[K\n",
            "remote: Counting objects: 100% (1626/1626), done.\u001b[K\n",
            "remote: Compressing objects: 100% (949/949), done.\u001b[K\n",
            "remote: Total 97586 (delta 666), reused 1438 (delta 555), pack-reused 95960\u001b[K\n",
            "Receiving objects: 100% (97586/97586), 370.30 MiB | 14.88 MiB/s, done.\n",
            "Resolving deltas: 100% (64868/64868), done.\n",
            "Updating files: 100% (3683/3683), done.\n",
            "/content/kaizenflow\n"
          ]
        }
      ]
    },
    {
      "cell_type": "code",
      "source": [
        "!git checkout Spring2024_Data_Filtering_with_Apache_Hadoop\n"
      ],
      "metadata": {
        "colab": {
          "base_uri": "https://localhost:8080/"
        },
        "id": "hkzyJnrpIu_u",
        "outputId": "51663ec6-01e1-40d0-fa76-8dd17e792027"
      },
      "execution_count": null,
      "outputs": [
        {
          "output_type": "stream",
          "name": "stdout",
          "text": [
            "Branch 'Spring2024_Data_Filtering_with_Apache_Hadoop' set up to track remote branch 'Spring2024_Data_Filtering_with_Apache_Hadoop' from 'origin'.\n",
            "Switched to a new branch 'Spring2024_Data_Filtering_with_Apache_Hadoop'\n"
          ]
        }
      ]
    },
    {
      "cell_type": "code",
      "source": [],
      "metadata": {
        "id": "ETd0bMbNI-bb"
      },
      "execution_count": null,
      "outputs": []
    }
  ]
}
