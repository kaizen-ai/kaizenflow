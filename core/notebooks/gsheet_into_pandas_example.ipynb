{
 "cells": [
  {
   "cell_type": "markdown",
   "metadata": {},
   "source": [
    "# Description"
   ]
  },
  {
   "cell_type": "markdown",
   "metadata": {},
   "source": [
    "This notebook provides an example of using the `gspread_pandas` library.\n",
    "\n",
    "The library accesses google sheets and loads them into pandas dataframes."
   ]
  },
  {
   "cell_type": "markdown",
   "metadata": {},
   "source": [
    "# Imports"
   ]
  },
  {
   "cell_type": "code",
   "execution_count": 8,
   "metadata": {
    "ExecuteTime": {
     "end_time": "2024-06-22T20:34:03.269680Z",
     "start_time": "2024-06-22T20:34:03.260970Z"
    }
   },
   "outputs": [
    {
     "name": "stdout",
     "output_type": "stream",
     "text": [
      "5.11.3\n",
      "3.2.3\n"
     ]
    }
   ],
   "source": [
    "import gspread\n",
    "print(gspread.__version__)\n",
    "\n",
    "import gspread_pandas\n",
    "print(gspread_pandas.__version__)"
   ]
  },
  {
   "cell_type": "markdown",
   "metadata": {},
   "source": [
    "# Test gspread"
   ]
  },
  {
   "cell_type": "code",
   "execution_count": 37,
   "metadata": {
    "ExecuteTime": {
     "end_time": "2024-06-22T21:07:13.047628Z",
     "start_time": "2024-06-22T21:07:13.040613Z"
    }
   },
   "outputs": [],
   "source": [
    "# This is a \"Test\" spreadsheet.\n",
    "# It needs to be shared with the email in the JSON file\n",
    "# \"client_email\": \"gp-gspread@gspread-gp.iam.gserviceaccount.com\",\n",
    "gsheet_url = \"https://docs.google.com/spreadsheets/d/1w9qvrZF5nuhLwphMHzz8hBI59Y6rRHkh2lFa2FeUSa8/edit#gid=0\"\n",
    "gsheet_name = \"Test\""
   ]
  },
  {
   "cell_type": "code",
   "execution_count": 34,
   "metadata": {
    "ExecuteTime": {
     "end_time": "2024-06-22T21:06:56.950459Z",
     "start_time": "2024-06-22T21:06:56.923083Z"
    }
   },
   "outputs": [],
   "source": [
    "import gspread\n",
    "\n",
    "gc = gspread.service_account(filename=\"/home/.config/gspread_pandas/google_secret.json\")"
   ]
  },
  {
   "cell_type": "code",
   "execution_count": 39,
   "metadata": {
    "ExecuteTime": {
     "end_time": "2024-06-22T21:07:38.463398Z",
     "start_time": "2024-06-22T21:07:37.721913Z"
    }
   },
   "outputs": [
    {
     "name": "stdout",
     "output_type": "stream",
     "text": [
      "[['hello']]\n"
     ]
    }
   ],
   "source": [
    "#sh = gc.open(gsheet_url)\n",
    "sh = gc.open(gsheet_name)\n",
    "\n",
    "print(sh.sheet1.get('A1'))"
   ]
  },
  {
   "cell_type": "markdown",
   "metadata": {},
   "source": [
    "## Test gspread-pandas"
   ]
  },
  {
   "cell_type": "code",
   "execution_count": 40,
   "metadata": {
    "ExecuteTime": {
     "end_time": "2024-06-22T21:07:42.690381Z",
     "start_time": "2024-06-22T21:07:42.684449Z"
    }
   },
   "outputs": [],
   "source": [
    "import gspread_pandas"
   ]
  },
  {
   "cell_type": "code",
   "execution_count": 41,
   "metadata": {
    "ExecuteTime": {
     "end_time": "2024-06-22T21:07:44.197433Z",
     "start_time": "2024-06-22T21:07:44.184501Z"
    }
   },
   "outputs": [
    {
     "data": {
      "text/plain": [
       "'gspread-gp'"
      ]
     },
     "execution_count": 41,
     "metadata": {},
     "output_type": "execute_result"
    }
   ],
   "source": [
    "#gspread_pandas.conf.get_config()\n",
    "gspread_pandas.conf.get_config()[\"project_id\"]"
   ]
  },
  {
   "cell_type": "code",
   "execution_count": 43,
   "metadata": {
    "ExecuteTime": {
     "end_time": "2024-06-22T21:10:36.142873Z",
     "start_time": "2024-06-22T21:10:34.932941Z"
    }
   },
   "outputs": [],
   "source": [
    "spread = gspread_pandas.Spread(gsheet_url)"
   ]
  },
  {
   "cell_type": "code",
   "execution_count": 44,
   "metadata": {
    "ExecuteTime": {
     "end_time": "2024-06-22T21:10:36.228902Z",
     "start_time": "2024-06-22T21:10:36.146971Z"
    }
   },
   "outputs": [
    {
     "data": {
      "text/plain": [
       "<gspread_pandas.spread.Spread - 'User: 'gp-gspread@gspread-gp.iam.gserviceaccount.com', Spread: 'Test', Sheet: 'Sheet1''>"
      ]
     },
     "execution_count": 44,
     "metadata": {},
     "output_type": "execute_result"
    }
   ],
   "source": [
    "spread"
   ]
  },
  {
   "cell_type": "code",
   "execution_count": 45,
   "metadata": {
    "ExecuteTime": {
     "end_time": "2024-06-22T21:10:37.150928Z",
     "start_time": "2024-06-22T21:10:37.010127Z"
    }
   },
   "outputs": [
    {
     "data": {
      "text/plain": [
       "[<Worksheet 'Sheet1' id:0>]"
      ]
     },
     "execution_count": 45,
     "metadata": {},
     "output_type": "execute_result"
    }
   ],
   "source": [
    "spread.sheets"
   ]
  },
  {
   "cell_type": "code",
   "execution_count": 46,
   "metadata": {
    "ExecuteTime": {
     "end_time": "2024-06-22T21:10:40.171913Z",
     "start_time": "2024-06-22T21:10:39.917640Z"
    }
   },
   "outputs": [
    {
     "name": "stdout",
     "output_type": "stream",
     "text": [
      "(0, 1)\n",
      "<class 'pandas.core.frame.DataFrame'>\n"
     ]
    },
    {
     "data": {
      "text/html": [
       "<div>\n",
       "<style scoped>\n",
       "    .dataframe tbody tr th:only-of-type {\n",
       "        vertical-align: middle;\n",
       "    }\n",
       "\n",
       "    .dataframe tbody tr th {\n",
       "        vertical-align: top;\n",
       "    }\n",
       "\n",
       "    .dataframe thead th {\n",
       "        text-align: right;\n",
       "    }\n",
       "</style>\n",
       "<table border=\"1\" class=\"dataframe\">\n",
       "  <thead>\n",
       "    <tr style=\"text-align: right;\">\n",
       "      <th></th>\n",
       "      <th>hello</th>\n",
       "    </tr>\n",
       "  </thead>\n",
       "  <tbody>\n",
       "  </tbody>\n",
       "</table>\n",
       "</div>"
      ],
      "text/plain": [
       "Empty DataFrame\n",
       "Columns: [hello]\n",
       "Index: []"
      ]
     },
     "execution_count": 46,
     "metadata": {},
     "output_type": "execute_result"
    }
   ],
   "source": [
    "df = spread.sheet_to_df(index=None)\n",
    "print(df.shape)\n",
    "print(type(df))\n",
    "df.head()"
   ]
  }
 ],
 "metadata": {
  "kernelspec": {
   "display_name": "Python 3 (ipykernel)",
   "language": "python",
   "name": "python3"
  },
  "language_info": {
   "codemirror_mode": {
    "name": "ipython",
    "version": 3
   },
   "file_extension": ".py",
   "mimetype": "text/x-python",
   "name": "python",
   "nbconvert_exporter": "python",
   "pygments_lexer": "ipython3",
   "version": "3.9.5"
  },
  "toc": {
   "base_numbering": 1,
   "nav_menu": {},
   "number_sections": true,
   "sideBar": true,
   "skip_h1_title": false,
   "title_cell": "Table of Contents",
   "title_sidebar": "Contents",
   "toc_cell": false,
   "toc_position": {},
   "toc_section_display": true,
   "toc_window_display": false
  }
 },
 "nbformat": 4,
 "nbformat_minor": 4
}
