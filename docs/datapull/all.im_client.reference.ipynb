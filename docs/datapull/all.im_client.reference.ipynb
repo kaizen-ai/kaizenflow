{
 "cells": [
  {
   "cell_type": "markdown",
   "id": "15e7a2ca",
   "metadata": {},
   "source": [
    "# Descriptions"
   ]
  },
  {
   "cell_type": "markdown",
   "id": "4726aedf",
   "metadata": {},
   "source": [
    "The notebook demonstrates how to use `ImClient`."
   ]
  },
  {
   "cell_type": "code",
   "execution_count": 2,
   "id": "52f88528",
   "metadata": {
    "ExecuteTime": {
     "end_time": "2024-07-09T16:11:30.605602Z",
     "start_time": "2024-07-09T16:11:29.111565Z"
    }
   },
   "outputs": [],
   "source": [
    "%load_ext autoreload\n",
    "%autoreload 2\n",
    "%matplotlib inline"
   ]
  },
  {
   "cell_type": "markdown",
   "id": "c9d4577e",
   "metadata": {},
   "source": [
    "# Imports"
   ]
  },
  {
   "cell_type": "code",
   "execution_count": 3,
   "id": "c71d7cca",
   "metadata": {
    "ExecuteTime": {
     "end_time": "2024-07-09T16:11:35.519984Z",
     "start_time": "2024-07-09T16:11:30.609641Z"
    }
   },
   "outputs": [
    {
     "name": "stderr",
     "output_type": "stream",
     "text": [
      "/app/amp/core/statistics/random_samples.py:12: TqdmExperimentalWarning: Using `tqdm.autonotebook.tqdm` in notebook mode. Use `tqdm.tqdm` instead to force console mode (e.g. in jupyter console)\n",
      "  from tqdm.autonotebook import tqdm\n",
      "\u001b[33mWARNING\u001b[0m: No module named 'gluonts'\n"
     ]
    }
   ],
   "source": [
    "import logging\n",
    "\n",
    "import pandas as pd\n",
    "\n",
    "import core.config as cconfig\n",
    "import core.finance as cofinanc\n",
    "import helpers.hdbg as hdbg\n",
    "import helpers.henv as henv\n",
    "import helpers.hprint as hprint\n",
    "import im_v2.ccxt.data.client as icdcl\n",
    "import im_v2.common.data.client as icdc\n",
    "import im_v2.common.db.db_utils as imvcddbut\n",
    "import im_v2.common.universe as ivcu"
   ]
  },
  {
   "cell_type": "code",
   "execution_count": 4,
   "id": "9634b705",
   "metadata": {
    "ExecuteTime": {
     "end_time": "2024-07-09T16:11:36.140075Z",
     "start_time": "2024-07-09T16:11:35.522476Z"
    }
   },
   "outputs": [
    {
     "name": "stdout",
     "output_type": "stream",
     "text": [
      "\u001b[0mWARNING: Running in Jupyter\n",
      "INFO  > cmd='/venv/lib/python3.9/site-packages/ipykernel_launcher.py -f /home/.local/share/jupyter/runtime/kernel-7560fff5-7ca3-435a-963b-9784515151a3.json'\n",
      "INFO  # Git\n",
      "  branch_name='CmampTask8935_Prepare_crypto.com_resampled_data_to_1_min'\n",
      "  hash='af02ed974'\n",
      "  # Last commits:\n",
      "    * af02ed974 jsmerix  Update docs with crypto.com reference                             (   7 hours ago) Tue Jul 9 09:31:26 2024  (HEAD -> CmampTask8935_Prepare_crypto.com_resampled_data_to_1_min, origin/CmampTask8935_Prepare_crypto.com_resampled_data_to_1_min)\n",
      "    * 0182aefb4 jsmerix  Add resampling DAG                                                (  21 hours ago) Mon Jul 8 19:39:21 2024           \n",
      "    * 3d921ae5f Shayan   AlertManager optimization (#8912)                                 (  21 hours ago) Mon Jul 8 19:36:26 2024  (origin/master, origin/HEAD, master)\n",
      "# Machine info\n",
      "  system=Linux\n",
      "  node name=a3ebf2999eba\n",
      "  release=5.15.0-1058-aws\n",
      "  version=#64~20.04.1-Ubuntu SMP Tue Apr 9 11:12:27 UTC 2024\n",
      "  machine=x86_64\n",
      "  processor=x86_64\n",
      "  cpu count=8\n",
      "  cpu freq=scpufreq(current=2499.998, min=0.0, max=0.0)\n",
      "  memory=svmem(total=33280274432, available=14323953664, percent=57.0, used=18477502464, free=2412744704, active=8852414464, inactive=18046820352, buffers=2125819904, cached=10264207360, shared=1282048, slab=3346731008)\n",
      "  disk usage=sdiskusage(total=218506772480, used=93191958528, free=125298036736, percent=42.7)\n",
      "# Packages\n",
      "  python: 3.9.5\n",
      "  cvxopt: 1.3.2\n",
      "  cvxpy: 1.4.2\n",
      "  gluonnlp: ?\n",
      "  gluonts: ?\n",
      "  joblib: 1.3.2\n",
      "  mxnet: ?\n",
      "  numpy: 1.26.0\n",
      "  pandas: 2.1.1\n",
      "  pyarrow: 15.0.0\n",
      "  scipy: 1.11.3\n",
      "  seaborn: 0.13.0\n",
      "  sklearn: 1.3.1\n",
      "  statsmodels: 0.14.0\n"
     ]
    }
   ],
   "source": [
    "log_level = logging.INFO\n",
    "hdbg.init_logger(verbosity=log_level)\n",
    "\n",
    "_LOG = logging.getLogger(__name__)\n",
    "\n",
    "_LOG.info(\"%s\", henv.get_system_signature()[0])\n",
    "\n",
    "hprint.config_notebook()"
   ]
  },
  {
   "cell_type": "markdown",
   "id": "c9aa596c",
   "metadata": {},
   "source": [
    "# Config"
   ]
  },
  {
   "cell_type": "code",
   "execution_count": null,
   "id": "dbf91c6a",
   "metadata": {},
   "outputs": [],
   "source": [
    "config = {\n",
    "    \"universe\": {\n",
    "        \"vendor\": \"CCXT\",\n",
    "        \"mode\": \"trade\",\n",
    "        \"version\": \"v7.4\",\n",
    "        \"as_full_symbol\": True,\n",
    "    },\n",
    "    \"start_timestamp\": pd.Timestamp(\"2023-09-11T00:00:00\", tz=\"UTC\"),\n",
    "    \"end_timestamp\": pd.Timestamp(\"2023-09-11T04:00:00\", tz=\"UTC\"),\n",
    "    \"columns\": None,\n",
    "    \"filter_data_mode\": \"assert\",\n",
    "    \"ohlcv_parquet_config\": {\n",
    "        \"vendor\": \"ccxt\",\n",
    "        \"universe_version\": \"v7.4\",\n",
    "        \"root_dir\": \"s3://cryptokaizen-data/v3\",\n",
    "        \"partition_mode\": \"by_year_month\",\n",
    "        \"dataset\": \"ohlcv\",\n",
    "        \"contract_type\": \"futures\",\n",
    "        \"data_snapshot\": \"\",\n",
    "        \"aws_profile\": \"ck\",\n",
    "        \"resample_1min\": False,\n",
    "        \"version\": \"v1_0_0\",\n",
    "        \"download_universe_version\": \"v7_3\",\n",
    "        \"tag\": \"downloaded_1min\",\n",
    "    },\n",
    "    \"bid_ask_parquet_config\": {\n",
    "        \"vendor\": \"ccxt\",\n",
    "        \"universe_version\": \"v7.4\",\n",
    "        \"root_dir\": \"s3://cryptokaizen-data-test/v3\",\n",
    "        \"partition_mode\": \"by_year_month\",\n",
    "        \"dataset\": \"bid_ask\",\n",
    "        \"contract_type\": \"futures\",\n",
    "        \"data_snapshot\": \"\",\n",
    "        \"version\": \"v1_0_0\",\n",
    "        \"download_universe_version\": \"v7\",\n",
    "        \"tag\": \"resampled_1min\",\n",
    "        \"aws_profile\": \"ck\",\n",
    "    },\n",
    "    \"ohlcv_db_config\": {\n",
    "        \"universe_version\": \"infer_from_data\",\n",
    "        \"db_connection\": imvcddbut.DbConnectionManager.get_connection(\"preprod\"),\n",
    "        \"table_name\": \"ccxt_ohlcv_futures\",\n",
    "        \"resample_1min\": False,\n",
    "    },\n",
    "}\n",
    "config = cconfig.Config().from_dict(config)\n",
    "print(config)"
   ]
  },
  {
   "cell_type": "markdown",
   "id": "2559e5ec",
   "metadata": {},
   "source": [
    "# CCXT Binance 1-minute futures data"
   ]
  },
  {
   "cell_type": "code",
   "execution_count": null,
   "id": "94b6aa05",
   "metadata": {},
   "outputs": [],
   "source": [
    "full_symbols = ivcu.get_vendor_universe(**config[\"universe\"])\n",
    "_LOG.info(\"Full symbols number=%s\", len(full_symbols))\n",
    "full_symbols[:5]"
   ]
  },
  {
   "cell_type": "markdown",
   "id": "b69a7aff",
   "metadata": {},
   "source": [
    "## OHLCV Parquet"
   ]
  },
  {
   "cell_type": "code",
   "execution_count": null,
   "id": "60c4ff2b",
   "metadata": {},
   "outputs": [],
   "source": [
    "ohlcv_im_client = icdc.HistoricalPqByCurrencyPairTileClient(\n",
    "    **config[\"ohlcv_parquet_config\"]\n",
    ")"
   ]
  },
  {
   "cell_type": "code",
   "execution_count": null,
   "id": "f0860176",
   "metadata": {},
   "outputs": [],
   "source": [
    "ohlcv_data = ohlcv_im_client.read_data(\n",
    "    full_symbols,\n",
    "    config[\"start_timestamp\"],\n",
    "    config[\"end_timestamp\"],\n",
    "    config[\"columns\"],\n",
    "    config[\"filter_data_mode\"],\n",
    ")\n",
    "ohlcv_data.head()"
   ]
  },
  {
   "cell_type": "markdown",
   "id": "de0933ba",
   "metadata": {},
   "source": [
    "## Bid/ask Parquet"
   ]
  },
  {
   "cell_type": "code",
   "execution_count": null,
   "id": "bb5d5b9b",
   "metadata": {},
   "outputs": [],
   "source": [
    "bid_ask_im_client = icdc.HistoricalPqByCurrencyPairTileClient(\n",
    "    **config[\"bid_ask_parquet_config\"]\n",
    ")"
   ]
  },
  {
   "cell_type": "code",
   "execution_count": null,
   "id": "202bdb97",
   "metadata": {},
   "outputs": [],
   "source": [
    "bid_ask_data = bid_ask_im_client.read_data(\n",
    "    full_symbols,\n",
    "    config[\"start_timestamp\"],\n",
    "    config[\"end_timestamp\"],\n",
    "    config[\"columns\"],\n",
    "    config[\"filter_data_mode\"],\n",
    ")\n",
    "bid_ask_data.head()"
   ]
  },
  {
   "cell_type": "markdown",
   "id": "c0863e81",
   "metadata": {},
   "source": [
    "## OHLCV Database"
   ]
  },
  {
   "cell_type": "code",
   "execution_count": null,
   "id": "8ab822a1",
   "metadata": {},
   "outputs": [],
   "source": [
    "ohlcv_db_im_client = icdcl.CcxtSqlRealTimeImClient(**config[\"ohlcv_db_config\"])"
   ]
  },
  {
   "cell_type": "code",
   "execution_count": null,
   "id": "c384c375",
   "metadata": {},
   "outputs": [],
   "source": [
    "ohlcv_db_data = ohlcv_db_im_client.read_data(\n",
    "    full_symbols,\n",
    "    config[\"start_timestamp\"],\n",
    "    config[\"end_timestamp\"],\n",
    "    config[\"columns\"],\n",
    "    config[\"filter_data_mode\"],\n",
    ")\n",
    "ohlcv_db_data.head()"
   ]
  },
  {
   "cell_type": "markdown",
   "id": "4a8f7df0",
   "metadata": {},
   "source": [
    "# Mock `ImClient`"
   ]
  },
  {
   "cell_type": "code",
   "execution_count": null,
   "id": "39116b16",
   "metadata": {},
   "outputs": [],
   "source": [
    "df = cofinanc.get_MarketData_df6(full_symbols)\n",
    "df.head()"
   ]
  },
  {
   "cell_type": "code",
   "execution_count": null,
   "id": "df7afa97",
   "metadata": {},
   "outputs": [],
   "source": [
    "dataframe_im_client = icdc.DataFrameImClient(\n",
    "    df,\n",
    "    full_symbols,\n",
    ")"
   ]
  },
  {
   "cell_type": "code",
   "execution_count": null,
   "id": "911ee9ab",
   "metadata": {},
   "outputs": [],
   "source": [
    "start_timestamp = pd.Timestamp(\"2000-01-01 09:35:00-05:00\")\n",
    "end_timestamp = pd.Timestamp(\"2000-01-01 10:31:00-05:00\")\n",
    "#\n",
    "ohlcv_from_df_data = dataframe_im_client.read_data(\n",
    "    full_symbols,\n",
    "    start_timestamp,\n",
    "    end_timestamp,\n",
    "    config[\"columns\"],\n",
    "    config[\"filter_data_mode\"],\n",
    ")\n",
    "ohlcv_from_df_data.head()"
   ]
  },
  {
   "cell_type": "markdown",
   "id": "c073c5d1",
   "metadata": {},
   "source": [
    "# CCXT Crypto.com 1-minute bid/ask futures data"
   ]
  },
  {
   "cell_type": "code",
   "execution_count": 5,
   "id": "826b3f3b",
   "metadata": {
    "ExecuteTime": {
     "end_time": "2024-07-09T16:11:37.951690Z",
     "start_time": "2024-07-09T16:11:37.891199Z"
    }
   },
   "outputs": [
    {
     "name": "stdout",
     "output_type": "stream",
     "text": [
      "universe: \n",
      "  vendor: CCXT\n",
      "  mode: trade\n",
      "  version: v7.5\n",
      "  as_full_symbol: True\n",
      "start_timestamp: 2024-01-22 00:00:00+00:00\n",
      "end_timestamp: 2024-07-08 23:59:00+00:00\n",
      "columns: None\n",
      "filter_data_mode: assert\n",
      "bid_ask_parquet_config: \n",
      "  vendor: ccxt\n",
      "  universe_version: v7.5\n",
      "  root_dir: s3://cryptokaizen-data.preprod/tokyo/v3\n",
      "  partition_mode: by_year_month\n",
      "  dataset: bid_ask\n",
      "  contract_type: futures\n",
      "  data_snapshot: \n",
      "  version: v2_0_0\n",
      "  download_universe_version: v7_5\n",
      "  tag: resampled_1min\n",
      "  aws_profile: ck\n"
     ]
    }
   ],
   "source": [
    "config = {\n",
    "    \"universe\": {\n",
    "        \"vendor\": \"CCXT\",\n",
    "        \"mode\": \"trade\",\n",
    "        \"version\": \"v7.5\",\n",
    "        \"as_full_symbol\": True,\n",
    "    },\n",
    "    # This is roughly the span of the dataset but there will be gaps for sure.\n",
    "    \"start_timestamp\": pd.Timestamp(\"2024-01-22T00:00:00\", tz=\"UTC\"),\n",
    "    \"end_timestamp\": pd.Timestamp(\"2024-07-08T23:59:00\", tz=\"UTC\"),\n",
    "    \"columns\": None,\n",
    "    \"filter_data_mode\": \"assert\",\n",
    "    \"bid_ask_parquet_config\": {\n",
    "        \"vendor\": \"ccxt\",\n",
    "        \"universe_version\": \"v7.5\",\n",
    "        \"root_dir\": \"s3://cryptokaizen-data.preprod/tokyo/v3\",\n",
    "        \"partition_mode\": \"by_year_month\",\n",
    "        \"dataset\": \"bid_ask\",\n",
    "        \"contract_type\": \"futures\",\n",
    "        \"data_snapshot\": \"\",\n",
    "        \"version\": \"v2_0_0\",\n",
    "        \"download_universe_version\": \"v7_5\",\n",
    "        \"tag\": \"resampled_1min\",\n",
    "        \"aws_profile\": \"ck\",\n",
    "    },\n",
    "}\n",
    "config = cconfig.Config().from_dict(config)\n",
    "print(config)"
   ]
  },
  {
   "cell_type": "code",
   "execution_count": 6,
   "id": "172bfa5b",
   "metadata": {
    "ExecuteTime": {
     "end_time": "2024-07-09T16:11:39.870623Z",
     "start_time": "2024-07-09T16:11:39.752059Z"
    }
   },
   "outputs": [
    {
     "data": {
      "text/plain": [
       "['cryptocom::BTC_USD', 'cryptocom::ETH_USD']"
      ]
     },
     "execution_count": 6,
     "metadata": {},
     "output_type": "execute_result"
    }
   ],
   "source": [
    "full_symbols = ivcu.get_vendor_universe(**config[\"universe\"])\n",
    "# Filter crypto.com symbols\n",
    "full_symbols = [fs for fs in full_symbols if fs.startswith(\"crypto\")]\n",
    "full_symbols"
   ]
  },
  {
   "cell_type": "code",
   "execution_count": 7,
   "id": "6ee63776",
   "metadata": {
    "ExecuteTime": {
     "end_time": "2024-07-09T16:11:40.061098Z",
     "start_time": "2024-07-09T16:11:40.020194Z"
    }
   },
   "outputs": [],
   "source": [
    "bid_ask_im_client = icdc.HistoricalPqByCurrencyPairTileClient(\n",
    "    **config[\"bid_ask_parquet_config\"]\n",
    ")"
   ]
  },
  {
   "cell_type": "code",
   "execution_count": 8,
   "id": "cc324c01",
   "metadata": {
    "ExecuteTime": {
     "end_time": "2024-07-09T16:11:57.774638Z",
     "start_time": "2024-07-09T16:11:41.370973Z"
    }
   },
   "outputs": [
    {
     "data": {
      "text/html": [
       "<div>\n",
       "<style scoped>\n",
       "    .dataframe tbody tr th:only-of-type {\n",
       "        vertical-align: middle;\n",
       "    }\n",
       "\n",
       "    .dataframe tbody tr th {\n",
       "        vertical-align: top;\n",
       "    }\n",
       "\n",
       "    .dataframe thead th {\n",
       "        text-align: right;\n",
       "    }\n",
       "</style>\n",
       "<table border=\"1\" class=\"dataframe\">\n",
       "  <thead>\n",
       "    <tr style=\"text-align: right;\">\n",
       "      <th></th>\n",
       "      <th>full_symbol</th>\n",
       "      <th>level_1.bid_price.open</th>\n",
       "      <th>level_1.bid_size.open</th>\n",
       "      <th>level_1.ask_price.open</th>\n",
       "      <th>level_1.ask_size.open</th>\n",
       "      <th>level_1.bid_ask_midpoint.open</th>\n",
       "      <th>level_1.half_spread.open</th>\n",
       "      <th>level_1.log_size_imbalance.open</th>\n",
       "      <th>level_1.bid_price.close</th>\n",
       "      <th>level_1.bid_size.close</th>\n",
       "      <th>level_1.ask_price.close</th>\n",
       "      <th>level_1.ask_size.close</th>\n",
       "      <th>level_1.bid_ask_midpoint.close</th>\n",
       "      <th>level_1.half_spread.close</th>\n",
       "      <th>level_1.log_size_imbalance.close</th>\n",
       "      <th>level_1.bid_price.high</th>\n",
       "      <th>level_1.bid_size.max</th>\n",
       "      <th>level_1.ask_price.high</th>\n",
       "      <th>level_1.ask_size.max</th>\n",
       "      <th>level_1.bid_ask_midpoint.max</th>\n",
       "      <th>level_1.half_spread.max</th>\n",
       "      <th>level_1.log_size_imbalance.max</th>\n",
       "      <th>level_1.bid_price.low</th>\n",
       "      <th>level_1.bid_size.min</th>\n",
       "      <th>level_1.ask_price.low</th>\n",
       "      <th>level_1.ask_size.min</th>\n",
       "      <th>level_1.bid_ask_midpoint.min</th>\n",
       "      <th>level_1.half_spread.min</th>\n",
       "      <th>level_1.log_size_imbalance.min</th>\n",
       "      <th>level_1.bid_price.mean</th>\n",
       "      <th>level_1.bid_size.mean</th>\n",
       "      <th>level_1.ask_price.mean</th>\n",
       "      <th>level_1.ask_size.mean</th>\n",
       "      <th>level_1.bid_ask_midpoint.mean</th>\n",
       "      <th>level_1.half_spread.mean</th>\n",
       "      <th>level_1.log_size_imbalance.mean</th>\n",
       "      <th>level_1.bid_ask_midpoint_var.100ms</th>\n",
       "      <th>level_1.bid_ask_midpoint_autocovar.100ms</th>\n",
       "      <th>level_1.log_size_imbalance_var.100ms</th>\n",
       "      <th>level_1.log_size_imbalance_autocovar.100ms</th>\n",
       "      <th>knowledge_timestamp</th>\n",
       "    </tr>\n",
       "    <tr>\n",
       "      <th>timestamp</th>\n",
       "      <th></th>\n",
       "      <th></th>\n",
       "      <th></th>\n",
       "      <th></th>\n",
       "      <th></th>\n",
       "      <th></th>\n",
       "      <th></th>\n",
       "      <th></th>\n",
       "      <th></th>\n",
       "      <th></th>\n",
       "      <th></th>\n",
       "      <th></th>\n",
       "      <th></th>\n",
       "      <th></th>\n",
       "      <th></th>\n",
       "      <th></th>\n",
       "      <th></th>\n",
       "      <th></th>\n",
       "      <th></th>\n",
       "      <th></th>\n",
       "      <th></th>\n",
       "      <th></th>\n",
       "      <th></th>\n",
       "      <th></th>\n",
       "      <th></th>\n",
       "      <th></th>\n",
       "      <th></th>\n",
       "      <th></th>\n",
       "      <th></th>\n",
       "      <th></th>\n",
       "      <th></th>\n",
       "      <th></th>\n",
       "      <th></th>\n",
       "      <th></th>\n",
       "      <th></th>\n",
       "      <th></th>\n",
       "      <th></th>\n",
       "      <th></th>\n",
       "      <th></th>\n",
       "      <th></th>\n",
       "      <th></th>\n",
       "    </tr>\n",
       "  </thead>\n",
       "  <tbody>\n",
       "    <tr>\n",
       "      <th>2024-01-23 11:29:00+00:00</th>\n",
       "      <td>cryptocom::BTC_USD</td>\n",
       "      <td>38827.50</td>\n",
       "      <td>0.060</td>\n",
       "      <td>38830.80</td>\n",
       "      <td>0.0350</td>\n",
       "      <td>38829.150</td>\n",
       "      <td>1.650</td>\n",
       "      <td>0.538996</td>\n",
       "      <td>38819.00</td>\n",
       "      <td>0.009</td>\n",
       "      <td>38821.20</td>\n",
       "      <td>0.1700</td>\n",
       "      <td>38820.100</td>\n",
       "      <td>1.100</td>\n",
       "      <td>-2.938574</td>\n",
       "      <td>38834.90</td>\n",
       "      <td>0.3750</td>\n",
       "      <td>38836.40</td>\n",
       "      <td>0.4600</td>\n",
       "      <td>38835.650</td>\n",
       "      <td>3.450</td>\n",
       "      <td>2.212973</td>\n",
       "      <td>38813.60</td>\n",
       "      <td>0.0032</td>\n",
       "      <td>38815.40</td>\n",
       "      <td>0.0100</td>\n",
       "      <td>38814.550</td>\n",
       "      <td>0.050</td>\n",
       "      <td>-3.688879</td>\n",
       "      <td>38823.636183</td>\n",
       "      <td>0.125929</td>\n",
       "      <td>38824.124851</td>\n",
       "      <td>0.196511</td>\n",
       "      <td>38823.880517</td>\n",
       "      <td>0.244334</td>\n",
       "      <td>-0.567412</td>\n",
       "      <td>343.797500</td>\n",
       "      <td>6.997500</td>\n",
       "      <td>1032.046499</td>\n",
       "      <td>871.614512</td>\n",
       "      <td>2024-07-08 16:05:31.432740+00:00</td>\n",
       "    </tr>\n",
       "    <tr>\n",
       "      <th>2024-01-23 11:29:00+00:00</th>\n",
       "      <td>cryptocom::ETH_USD</td>\n",
       "      <td>2225.20</td>\n",
       "      <td>0.800</td>\n",
       "      <td>2225.21</td>\n",
       "      <td>0.1572</td>\n",
       "      <td>2225.205</td>\n",
       "      <td>0.005</td>\n",
       "      <td>1.627093</td>\n",
       "      <td>2223.46</td>\n",
       "      <td>0.300</td>\n",
       "      <td>2223.51</td>\n",
       "      <td>1.5000</td>\n",
       "      <td>2223.485</td>\n",
       "      <td>0.025</td>\n",
       "      <td>-1.609438</td>\n",
       "      <td>2225.35</td>\n",
       "      <td>4.2197</td>\n",
       "      <td>2225.37</td>\n",
       "      <td>5.5000</td>\n",
       "      <td>2225.355</td>\n",
       "      <td>0.105</td>\n",
       "      <td>3.101093</td>\n",
       "      <td>2223.31</td>\n",
       "      <td>0.0500</td>\n",
       "      <td>2223.32</td>\n",
       "      <td>0.0675</td>\n",
       "      <td>2223.315</td>\n",
       "      <td>0.005</td>\n",
       "      <td>-3.178054</td>\n",
       "      <td>2224.303499</td>\n",
       "      <td>1.637590</td>\n",
       "      <td>2224.328251</td>\n",
       "      <td>1.473110</td>\n",
       "      <td>2224.315875</td>\n",
       "      <td>0.012376</td>\n",
       "      <td>0.099942</td>\n",
       "      <td>2.225450</td>\n",
       "      <td>-0.006650</td>\n",
       "      <td>628.014035</td>\n",
       "      <td>504.645611</td>\n",
       "      <td>2024-07-08 16:05:31.432740+00:00</td>\n",
       "    </tr>\n",
       "    <tr>\n",
       "      <th>2024-01-23 11:30:00+00:00</th>\n",
       "      <td>cryptocom::BTC_USD</td>\n",
       "      <td>38819.00</td>\n",
       "      <td>0.009</td>\n",
       "      <td>38821.20</td>\n",
       "      <td>0.1700</td>\n",
       "      <td>38820.100</td>\n",
       "      <td>1.100</td>\n",
       "      <td>-2.938574</td>\n",
       "      <td>38775.30</td>\n",
       "      <td>0.009</td>\n",
       "      <td>38787.20</td>\n",
       "      <td>0.0039</td>\n",
       "      <td>38781.250</td>\n",
       "      <td>5.950</td>\n",
       "      <td>0.836248</td>\n",
       "      <td>38826.00</td>\n",
       "      <td>0.4638</td>\n",
       "      <td>38826.30</td>\n",
       "      <td>0.4600</td>\n",
       "      <td>38826.050</td>\n",
       "      <td>5.950</td>\n",
       "      <td>3.081675</td>\n",
       "      <td>38775.30</td>\n",
       "      <td>0.0039</td>\n",
       "      <td>38784.10</td>\n",
       "      <td>0.0011</td>\n",
       "      <td>38779.700</td>\n",
       "      <td>0.050</td>\n",
       "      <td>-2.938574</td>\n",
       "      <td>38808.575000</td>\n",
       "      <td>0.124053</td>\n",
       "      <td>38809.357167</td>\n",
       "      <td>0.141019</td>\n",
       "      <td>38808.966083</td>\n",
       "      <td>0.391083</td>\n",
       "      <td>-0.096310</td>\n",
       "      <td>507.042500</td>\n",
       "      <td>43.625000</td>\n",
       "      <td>1200.530356</td>\n",
       "      <td>1034.071692</td>\n",
       "      <td>2024-07-08 16:05:31.432740+00:00</td>\n",
       "    </tr>\n",
       "    <tr>\n",
       "      <th>2024-01-23 11:30:00+00:00</th>\n",
       "      <td>cryptocom::ETH_USD</td>\n",
       "      <td>2223.46</td>\n",
       "      <td>0.300</td>\n",
       "      <td>2223.51</td>\n",
       "      <td>1.5000</td>\n",
       "      <td>2223.485</td>\n",
       "      <td>0.025</td>\n",
       "      <td>-1.609438</td>\n",
       "      <td>2221.67</td>\n",
       "      <td>0.400</td>\n",
       "      <td>2222.33</td>\n",
       "      <td>0.0675</td>\n",
       "      <td>2222.000</td>\n",
       "      <td>0.330</td>\n",
       "      <td>1.779337</td>\n",
       "      <td>2224.01</td>\n",
       "      <td>5.5000</td>\n",
       "      <td>2224.09</td>\n",
       "      <td>5.5000</td>\n",
       "      <td>2224.050</td>\n",
       "      <td>0.330</td>\n",
       "      <td>1.927892</td>\n",
       "      <td>2221.66</td>\n",
       "      <td>0.0500</td>\n",
       "      <td>2222.01</td>\n",
       "      <td>0.0675</td>\n",
       "      <td>2221.835</td>\n",
       "      <td>0.005</td>\n",
       "      <td>-2.772589</td>\n",
       "      <td>2223.210367</td>\n",
       "      <td>1.543130</td>\n",
       "      <td>2223.252233</td>\n",
       "      <td>1.706554</td>\n",
       "      <td>2223.231300</td>\n",
       "      <td>0.020933</td>\n",
       "      <td>-0.168377</td>\n",
       "      <td>2.045125</td>\n",
       "      <td>0.009825</td>\n",
       "      <td>916.115778</td>\n",
       "      <td>796.514091</td>\n",
       "      <td>2024-07-08 16:05:31.432740+00:00</td>\n",
       "    </tr>\n",
       "    <tr>\n",
       "      <th>2024-01-23 11:31:00+00:00</th>\n",
       "      <td>cryptocom::BTC_USD</td>\n",
       "      <td>38775.80</td>\n",
       "      <td>0.010</td>\n",
       "      <td>38787.30</td>\n",
       "      <td>0.0039</td>\n",
       "      <td>38781.550</td>\n",
       "      <td>5.750</td>\n",
       "      <td>0.941609</td>\n",
       "      <td>38853.00</td>\n",
       "      <td>0.120</td>\n",
       "      <td>38853.10</td>\n",
       "      <td>0.2150</td>\n",
       "      <td>38853.050</td>\n",
       "      <td>0.050</td>\n",
       "      <td>-0.583146</td>\n",
       "      <td>38856.00</td>\n",
       "      <td>0.3394</td>\n",
       "      <td>38856.20</td>\n",
       "      <td>1.1309</td>\n",
       "      <td>38856.050</td>\n",
       "      <td>14.600</td>\n",
       "      <td>4.081441</td>\n",
       "      <td>38750.00</td>\n",
       "      <td>0.0030</td>\n",
       "      <td>38767.20</td>\n",
       "      <td>0.0030</td>\n",
       "      <td>38758.600</td>\n",
       "      <td>0.050</td>\n",
       "      <td>-4.009661</td>\n",
       "      <td>38803.725833</td>\n",
       "      <td>0.095184</td>\n",
       "      <td>38808.664167</td>\n",
       "      <td>0.067639</td>\n",
       "      <td>38806.195000</td>\n",
       "      <td>2.469167</td>\n",
       "      <td>0.407146</td>\n",
       "      <td>1458.015000</td>\n",
       "      <td>4.262500</td>\n",
       "      <td>1686.949833</td>\n",
       "      <td>1404.414832</td>\n",
       "      <td>2024-07-08 16:05:31.432740+00:00</td>\n",
       "    </tr>\n",
       "  </tbody>\n",
       "</table>\n",
       "</div>"
      ],
      "text/plain": [
       "                                  full_symbol  level_1.bid_price.open  level_1.bid_size.open  level_1.ask_price.open  level_1.ask_size.open  level_1.bid_ask_midpoint.open  level_1.half_spread.open  level_1.log_size_imbalance.open  level_1.bid_price.close  level_1.bid_size.close  level_1.ask_price.close  level_1.ask_size.close  level_1.bid_ask_midpoint.close  level_1.half_spread.close  level_1.log_size_imbalance.close  level_1.bid_price.high  level_1.bid_size.max  level_1.ask_price.high  level_1.ask_size.max  level_1.bid_ask_midpoint.max  level_1.half_spread.max  level_1.log_size_imbalance.max  level_1.bid_price.low  level_1.bid_size.min  level_1.ask_price.low  level_1.ask_size.min  level_1.bid_ask_midpoint.min  level_1.half_spread.min  level_1.log_size_imbalance.min  level_1.bid_price.mean  level_1.bid_size.mean  level_1.ask_price.mean  level_1.ask_size.mean  level_1.bid_ask_midpoint.mean  level_1.half_spread.mean  level_1.log_size_imbalance.mean  level_1.bid_ask_midpoint_var.100ms  \\\n",
       "timestamp                                                                                                                                                                                                                                                                                                                                                                                                                                                                                                                                                                                                                                                                                                                                                                                                                                                                                                                                                                                                                              \n",
       "2024-01-23 11:29:00+00:00  cryptocom::BTC_USD                38827.50                  0.060                38830.80                 0.0350                      38829.150                     1.650                         0.538996                 38819.00                   0.009                 38821.20                  0.1700                       38820.100                      1.100                         -2.938574                38834.90                0.3750                38836.40                0.4600                     38835.650                    3.450                        2.212973               38813.60                0.0032               38815.40                0.0100                     38814.550                    0.050                       -3.688879            38823.636183               0.125929            38824.124851               0.196511                   38823.880517                  0.244334                        -0.567412                          343.797500   \n",
       "2024-01-23 11:29:00+00:00  cryptocom::ETH_USD                 2225.20                  0.800                 2225.21                 0.1572                       2225.205                     0.005                         1.627093                  2223.46                   0.300                  2223.51                  1.5000                        2223.485                      0.025                         -1.609438                 2225.35                4.2197                 2225.37                5.5000                      2225.355                    0.105                        3.101093                2223.31                0.0500                2223.32                0.0675                      2223.315                    0.005                       -3.178054             2224.303499               1.637590             2224.328251               1.473110                    2224.315875                  0.012376                         0.099942                            2.225450   \n",
       "2024-01-23 11:30:00+00:00  cryptocom::BTC_USD                38819.00                  0.009                38821.20                 0.1700                      38820.100                     1.100                        -2.938574                 38775.30                   0.009                 38787.20                  0.0039                       38781.250                      5.950                          0.836248                38826.00                0.4638                38826.30                0.4600                     38826.050                    5.950                        3.081675               38775.30                0.0039               38784.10                0.0011                     38779.700                    0.050                       -2.938574            38808.575000               0.124053            38809.357167               0.141019                   38808.966083                  0.391083                        -0.096310                          507.042500   \n",
       "2024-01-23 11:30:00+00:00  cryptocom::ETH_USD                 2223.46                  0.300                 2223.51                 1.5000                       2223.485                     0.025                        -1.609438                  2221.67                   0.400                  2222.33                  0.0675                        2222.000                      0.330                          1.779337                 2224.01                5.5000                 2224.09                5.5000                      2224.050                    0.330                        1.927892                2221.66                0.0500                2222.01                0.0675                      2221.835                    0.005                       -2.772589             2223.210367               1.543130             2223.252233               1.706554                    2223.231300                  0.020933                        -0.168377                            2.045125   \n",
       "2024-01-23 11:31:00+00:00  cryptocom::BTC_USD                38775.80                  0.010                38787.30                 0.0039                      38781.550                     5.750                         0.941609                 38853.00                   0.120                 38853.10                  0.2150                       38853.050                      0.050                         -0.583146                38856.00                0.3394                38856.20                1.1309                     38856.050                   14.600                        4.081441               38750.00                0.0030               38767.20                0.0030                     38758.600                    0.050                       -4.009661            38803.725833               0.095184            38808.664167               0.067639                   38806.195000                  2.469167                         0.407146                         1458.015000   \n",
       "\n",
       "                           level_1.bid_ask_midpoint_autocovar.100ms  level_1.log_size_imbalance_var.100ms  level_1.log_size_imbalance_autocovar.100ms              knowledge_timestamp  \n",
       "timestamp                                                                                                                                                                               \n",
       "2024-01-23 11:29:00+00:00                                  6.997500                           1032.046499                                  871.614512 2024-07-08 16:05:31.432740+00:00  \n",
       "2024-01-23 11:29:00+00:00                                 -0.006650                            628.014035                                  504.645611 2024-07-08 16:05:31.432740+00:00  \n",
       "2024-01-23 11:30:00+00:00                                 43.625000                           1200.530356                                 1034.071692 2024-07-08 16:05:31.432740+00:00  \n",
       "2024-01-23 11:30:00+00:00                                  0.009825                            916.115778                                  796.514091 2024-07-08 16:05:31.432740+00:00  \n",
       "2024-01-23 11:31:00+00:00                                  4.262500                           1686.949833                                 1404.414832 2024-07-08 16:05:31.432740+00:00  "
      ]
     },
     "execution_count": 8,
     "metadata": {},
     "output_type": "execute_result"
    }
   ],
   "source": [
    "bid_ask_data = bid_ask_im_client.read_data(\n",
    "    full_symbols,\n",
    "    config[\"start_timestamp\"],\n",
    "    config[\"end_timestamp\"],\n",
    "    config[\"columns\"],\n",
    "    config[\"filter_data_mode\"],\n",
    ")\n",
    "bid_ask_data.head()"
   ]
  },
  {
   "cell_type": "code",
   "execution_count": null,
   "id": "03ea8a83",
   "metadata": {},
   "outputs": [],
   "source": []
  }
 ],
 "metadata": {
  "kernelspec": {
   "display_name": "Python 3 (ipykernel)",
   "language": "python",
   "name": "python3"
  },
  "language_info": {
   "codemirror_mode": {
    "name": "ipython",
    "version": 3
   },
   "file_extension": ".py",
   "mimetype": "text/x-python",
   "name": "python",
   "nbconvert_exporter": "python",
   "pygments_lexer": "ipython3",
   "version": "3.9.5"
  },
  "toc": {
   "base_numbering": 1,
   "nav_menu": {},
   "number_sections": true,
   "sideBar": true,
   "skip_h1_title": false,
   "title_cell": "Table of Contents",
   "title_sidebar": "Contents",
   "toc_cell": false,
   "toc_position": {},
   "toc_section_display": true,
   "toc_window_display": false
  }
 },
 "nbformat": 4,
 "nbformat_minor": 5
}
