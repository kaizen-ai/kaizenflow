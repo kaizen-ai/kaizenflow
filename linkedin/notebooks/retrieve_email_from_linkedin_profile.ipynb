{
 "cells": [
  {
   "cell_type": "markdown",
   "id": "0ef1867c",
   "metadata": {},
   "source": [
    "# Description\n",
    "\n",
    "This notebook is used for prototyping, testing, and researching different services that are able to retrieve emails from a LinkedIn profile. The goal is to optimize speed. Emails can be either personal or professional."
   ]
  },
  {
   "cell_type": "code",
   "execution_count": 1,
   "id": "d10a69ab",
   "metadata": {
    "ExecuteTime": {
     "end_time": "2023-11-14T02:17:52.360626Z",
     "start_time": "2023-11-14T02:17:50.247627Z"
    }
   },
   "outputs": [],
   "source": [
    "# imports\n",
    "\n",
    "import requests"
   ]
  },
  {
   "cell_type": "markdown",
   "id": "182f81be",
   "metadata": {},
   "source": [
    "## Phantom Buster\n",
    "\n",
    "- Launched the email finder phantom manually though the site\n",
    "- Successfully found the personal email of a first degree connection in 1 minute and 23 seconds\n",
    "- Failed to find personal email and professional email of a second degree connection in 32 seconds"
   ]
  },
  {
   "cell_type": "markdown",
   "id": "6e12bf13",
   "metadata": {},
   "source": [
    "### Proxycurl"
   ]
  },
  {
   "cell_type": "code",
   "execution_count": 3,
   "id": "41af9d2b",
   "metadata": {
    "ExecuteTime": {
     "end_time": "2023-11-14T02:18:12.599440Z",
     "start_time": "2023-11-14T02:18:10.413894Z"
    }
   },
   "outputs": [
    {
     "name": "stdout",
     "output_type": "stream",
     "text": [
      "{'emails': [], 'invalid_emails': ['llixandru@accel.com']}\n"
     ]
    }
   ],
   "source": [
    "api_key = \"QYJhl24azHc6G0Gpw3hCBw\"\n",
    "headers = {\"Authorization\": \"Bearer \" + api_key}\n",
    "api_endpoint = \"https://nubela.co/proxycurl/api/contact-api/personal-email\"\n",
    "params = {\n",
    "    \"linkedin_profile_url\": \"https://www.linkedin.com/in/luciana-lixandru-11042875/\",\n",
    "    \"email_validation\": \"include\",\n",
    "    \"page_size\": \"0\",\n",
    "}\n",
    "response = requests.get(api_endpoint, params=params, headers=headers, timeout=30)\n",
    "print(response.json())"
   ]
  },
  {
   "cell_type": "code",
   "execution_count": 4,
   "id": "ef33c1b7",
   "metadata": {
    "ExecuteTime": {
     "end_time": "2023-11-14T02:26:29.011476Z",
     "start_time": "2023-11-14T02:26:27.597211Z"
    }
   },
   "outputs": [
    {
     "name": "stdout",
     "output_type": "stream",
     "text": [
      "{'email_queue_count': 0}\n"
     ]
    }
   ],
   "source": [
    "api_key = \"QYJhl24azHc6G0Gpw3hCBw\"\n",
    "headers = {\"Authorization\": \"Bearer \" + api_key}\n",
    "api_endpoint = \"https://nubela.co/proxycurl/api/linkedin/profile/email\"\n",
    "params = {\n",
    "    \"linkedin_profile_url\": \"https://www.linkedin.com/in/luciana-lixandru-11042875/\",\n",
    "    \"callback_url\": \"\",\n",
    "}\n",
    "response = requests.get(api_endpoint, params=params, headers=headers, timeout=30)\n",
    "print(response.json())"
   ]
  },
  {
   "cell_type": "markdown",
   "id": "5d92b936",
   "metadata": {},
   "source": [
    "### Hunter.io"
   ]
  },
  {
   "cell_type": "code",
   "execution_count": 7,
   "id": "22d823c5",
   "metadata": {
    "ExecuteTime": {
     "end_time": "2023-11-14T05:21:15.056970Z",
     "start_time": "2023-11-14T05:21:13.860930Z"
    }
   },
   "outputs": [
    {
     "name": "stdout",
     "output_type": "stream",
     "text": [
      "{'data': {'first_name': 'Luciana', 'last_name': 'Lixandru', 'email': 'luciana@sequoiacap.com', 'score': 96, 'domain': 'sequoiacap.com', 'accept_all': False, 'position': 'European Chief', 'twitter': 'lucianalix', 'linkedin_url': 'https://www.linkedin.com/in/luciana-lixandru-11042875/', 'phone_number': None, 'company': 'Sequoia Capital', 'sources': [{'domain': 'sequoiacap.com', 'uri': 'http://sequoiacap.com/people/luciana-lixandru', 'extracted_on': '2022-02-02', 'last_seen_on': '2023-10-08', 'still_on_page': True}], 'verification': {'date': '2023-08-30', 'status': 'valid'}}, 'meta': {'params': {'first_name': 'Luciana', 'last_name': 'Lixandru', 'full_name': None, 'domain': 'sequoiacap.com', 'company': None, 'max_duration': None}}}\n"
     ]
    }
   ],
   "source": [
    "api_key = \"1b16dae54dd5040c19a1e20962bf21cc3e85faa1\"\n",
    "domain = \"sequoiacap.com\"\n",
    "first_name = \"Luciana\"\n",
    "last_name = \"Lixandru\"\n",
    "api_endpoint = f\"https://api.hunter.io/v2/email-finder?domain={domain}&first_name={first_name}&last_name={last_name}&api_key={api_key}\"\n",
    "response = requests.get(api_endpoint, timeout=30)\n",
    "print(response.json())"
   ]
  },
  {
   "cell_type": "markdown",
   "id": "fa47330b",
   "metadata": {},
   "source": [
    "### Dropcontact.com"
   ]
  },
  {
   "cell_type": "code",
   "execution_count": 18,
   "id": "236bf25c",
   "metadata": {
    "ExecuteTime": {
     "end_time": "2023-11-14T05:34:24.195013Z",
     "start_time": "2023-11-14T05:34:23.622722Z"
    }
   },
   "outputs": [
    {
     "data": {
      "text/plain": [
       "{'credits_left': 96,\n",
       " 'error': False,\n",
       " 'request_id': 'nwncnfkrfbcikjf',\n",
       " 'success': True}"
      ]
     },
     "execution_count": 18,
     "metadata": {},
     "output_type": "execute_result"
    }
   ],
   "source": [
    "api_key = \"Vw56pIPdNU63qlHCQb87ctInqRyg8U\"\n",
    "response = requests.post(\n",
    "    \"https://api.dropcontact.io/batch\",\n",
    "    json={\n",
    "        \"data\": [\n",
    "            {\n",
    "                \"first_name\": \"Luciana\",\n",
    "                \"last_name\": \"Lixandru\",\n",
    "                \"company\": \"Sequoia Capital\",\n",
    "            }\n",
    "        ],\n",
    "        \"siren\": True,\n",
    "        \"language\": \"en\",\n",
    "    },\n",
    "    headers={\"Content-Type\": \"application/json\", \"X-Access-Token\": api_key},\n",
    ")\n",
    "response.json()"
   ]
  },
  {
   "cell_type": "code",
   "execution_count": 21,
   "id": "b7bba520",
   "metadata": {
    "ExecuteTime": {
     "end_time": "2023-11-14T05:34:47.079950Z",
     "start_time": "2023-11-14T05:34:46.557017Z"
    }
   },
   "outputs": [
    {
     "data": {
      "text/plain": [
       "{'credits_left': 95,\n",
       " 'data': [{'first_name': 'Luciana',\n",
       "   'last_name': 'Lixandru',\n",
       "   'full_name': 'Luciana Lixandru',\n",
       "   'civility': 'Mrs',\n",
       "   'linkedin': 'www.linkedin.com/in/luciana-lixandru-11042875',\n",
       "   'job': 'Partner',\n",
       "   'email': [{'email': 'llixandru@sequoiacap.com',\n",
       "     'qualification': 'catch-all@pro'}],\n",
       "   'company': 'Sequoia Capital',\n",
       "   'website': 'www.sequoiacap.com',\n",
       "   'company_linkedin': 'www.linkedin.com/company/sequoia',\n",
       "   'phone': '+1 650-854-3927'}],\n",
       " 'error': False,\n",
       " 'success': True}"
      ]
     },
     "execution_count": 21,
     "metadata": {},
     "output_type": "execute_result"
    }
   ],
   "source": [
    "request_id = \"nwncnfkrfbcikjf\"\n",
    "response = requests.get(\n",
    "    \"https://api.dropcontact.io/batch/{}\".format(request_id),\n",
    "    headers={\"X-Access-Token\": api_key},\n",
    ")\n",
    "response.json()"
   ]
  },
  {
   "cell_type": "markdown",
   "id": "fbfe052b",
   "metadata": {},
   "source": [
    "### Snov.io - Paid API use only"
   ]
  }
 ],
 "metadata": {
  "kernelspec": {
   "display_name": "Python 3 (ipykernel)",
   "language": "python",
   "name": "python3"
  },
  "language_info": {
   "codemirror_mode": {
    "name": "ipython",
    "version": 3
   },
   "file_extension": ".py",
   "mimetype": "text/x-python",
   "name": "python",
   "nbconvert_exporter": "python",
   "pygments_lexer": "ipython3",
   "version": "3.9.5"
  },
  "toc": {
   "base_numbering": 1,
   "nav_menu": {},
   "number_sections": true,
   "sideBar": true,
   "skip_h1_title": false,
   "title_cell": "Table of Contents",
   "title_sidebar": "Contents",
   "toc_cell": false,
   "toc_position": {},
   "toc_section_display": true,
   "toc_window_display": false
  }
 },
 "nbformat": 4,
 "nbformat_minor": 5
}
