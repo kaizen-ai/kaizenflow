{
 "cells": [
  {
   "cell_type": "markdown",
   "id": "48e2db54",
   "metadata": {
    "ExecuteTime": {
     "end_time": "2023-09-19T13:43:18.203017Z",
     "start_time": "2023-09-19T13:43:18.156372Z"
    }
   },
   "source": [
    "# DataFlow"
   ]
  },
  {
   "cell_type": "markdown",
   "id": "136d3c8a",
   "metadata": {},
   "source": [
    "## Introduction"
   ]
  },
  {
   "cell_type": "markdown",
   "id": "e3bc55dd",
   "metadata": {},
   "source": [
    "### Purpose"
   ]
  },
  {
   "cell_type": "markdown",
   "id": "d198e216",
   "metadata": {},
   "source": [
    "DataFlow is a framework designed to\n",
    "- facilitate rapid and flexible prototyping\n",
    "- deploy pipelines from research to production without software re-writes\n",
    "- make complex data transformations understandable, repeatable, and debuggable"
   ]
  },
  {
   "cell_type": "markdown",
   "id": "ed0b1cc8",
   "metadata": {},
   "source": [
    "Though beyond the scope of this cookbook, we note that DataFlow\n",
    "- can simulate the entire flow from reading market data to placing trades\n",
    "- supports both point-in-time (to eliminate future peeking) and vectorized (for speed) simulations\n",
    "- supports parameter sweeps (e.g., a suite parametrized backtests)\n",
    "- utilizes caching and data tiling for time/memory optimization\n",
    "- provides detailed logging, with intermediate results and computational performance information"
   ]
  },
  {
   "cell_type": "markdown",
   "id": "f9981d21",
   "metadata": {
    "ExecuteTime": {
     "end_time": "2023-09-19T19:13:47.306147Z",
     "start_time": "2023-09-19T19:13:47.163096Z"
    }
   },
   "source": [
    "### Key Concepts"
   ]
  },
  {
   "cell_type": "markdown",
   "id": "bca2e1dd",
   "metadata": {},
   "source": [
    "DataFlow is a graph computing framework. The fundamental object is a DAG\n",
    "(Directed Acyclic Graph) that consists of Nodes (input/output or computational)."
   ]
  },
  {
   "cell_type": "markdown",
   "id": "16f11332",
   "metadata": {},
   "source": [
    "Many data transformations common in quantitative finance may be\n",
    "implemented by a DAG with a single source and a single sink.\n",
    "In these pipelines, data (e.g., market data) enters the\n",
    "pipeline through the source node and then proceeds to flow from\n",
    "one node to the next, never to revisit a previously visited node."
   ]
  },
  {
   "cell_type": "markdown",
   "id": "2e36f9a9",
   "metadata": {},
   "source": [
    "### Features"
   ]
  },
  {
   "cell_type": "markdown",
   "id": "9a7c58e9",
   "metadata": {},
   "source": [
    "Examples of operations that may be performed by nodes include:\n",
    "- Loading market data\n",
    "- Resampling OHLCV bars\n",
    "- Computing TWAP/VWAP when resampling\n",
    "- Calculating volatility of returns\n",
    "- Adjusting returns by volatility\n",
    "- Applying EMAs (or other filters) to signals\n",
    "- Performing per-asset operations, each requiring multiple features\n",
    "- Performing cross-sectional operations (e.g., factor residualization, Gaussian ranking)\n",
    "- Learning/applying a machine learning model (e.g., using `sklearn`)\n",
    "- Applying custom (user-written) functions to data"
   ]
  },
  {
   "cell_type": "markdown",
   "id": "569b2fb4",
   "metadata": {},
   "source": [
    "Further examples include nodes that maintain relevant trading\n",
    "state, or that interact with an external environment:\n",
    "- Updating and processing current positions\n",
    "- Performing portfolio optimization\n",
    "- Generating orders\n",
    "- Submitting orders to an API"
   ]
  },
  {
   "cell_type": "markdown",
   "id": "313a8610",
   "metadata": {},
   "source": [
    "### Cookbook Outline"
   ]
  },
  {
   "cell_type": "markdown",
   "id": "1f241ffb",
   "metadata": {},
   "source": [
    "This cookbook provides examples of how to use DataFlow in quantitative finance.\n",
    "\n",
    "We first introduce the standard supported data format. Next we show how to\n",
    "build and run a DAG in a notebook. Finally, we provide examples of nodes\n",
    "and pipelines geared toward quantitative finance."
   ]
  },
  {
   "cell_type": "markdown",
   "id": "b8c949d8",
   "metadata": {},
   "source": [
    "# Notebook imports"
   ]
  },
  {
   "cell_type": "code",
   "execution_count": 1,
   "id": "f8ac2fb1",
   "metadata": {
    "ExecuteTime": {
     "end_time": "2023-09-20T14:34:18.174042Z",
     "start_time": "2023-09-20T14:34:17.601551Z"
    }
   },
   "outputs": [],
   "source": [
    "%load_ext autoreload\n",
    "%autoreload 2\n",
    "%matplotlib inline"
   ]
  },
  {
   "cell_type": "code",
   "execution_count": 2,
   "id": "f14cd4b7",
   "metadata": {
    "ExecuteTime": {
     "end_time": "2023-09-20T14:34:22.077637Z",
     "start_time": "2023-09-20T14:34:18.175026Z"
    }
   },
   "outputs": [
    {
     "name": "stderr",
     "output_type": "stream",
     "text": [
      "/app/amp/core/statistics/random_samples.py:12: TqdmExperimentalWarning: Using `tqdm.autonotebook.tqdm` in notebook mode. Use `tqdm.tqdm` instead to force console mode (e.g. in jupyter console)\n",
      "  from tqdm.autonotebook import tqdm\n"
     ]
    }
   ],
   "source": [
    "import logging\n",
    "\n",
    "import pandas as pd\n",
    "\n",
    "import core.finance as cofinanc\n",
    "import dataflow.core as dtfcore\n",
    "import helpers.hdbg as hdbg\n",
    "import helpers.henv as henv\n",
    "import helpers.hpandas as hpandas\n",
    "import helpers.hprint as hprint"
   ]
  },
  {
   "cell_type": "code",
   "execution_count": 3,
   "id": "693a4158",
   "metadata": {
    "ExecuteTime": {
     "end_time": "2023-09-20T14:34:22.512714Z",
     "start_time": "2023-09-20T14:34:22.079302Z"
    }
   },
   "outputs": [
    {
     "name": "stdout",
     "output_type": "stream",
     "text": [
      "\u001B[0m\u001B[36mINFO\u001B[0m: > cmd='/venv/lib/python3.8/site-packages/ipykernel_launcher.py -f /home/.local/share/jupyter/runtime/kernel-25c9e4f3-21e7-4af3-9a95-fa914060b8d9.json'\n",
      "WARNING: Running in Jupyter\n",
      "DEBUG Effective logging level=10\n",
      "DEBUG Shut up 108 modules: botocore.configprovider, botocore.utils, matplotlib, matplotlib.dates, botocore.compat, fsspec, matplotlib.style, botocore.history, botocore.retries.adaptive, botocore.credentials, matplotlib.artist, matplotlib.dviread, botocore.session, asyncio, botocore.paginate, botocore, matplotlib.category, matplotlib.figure, botocore.regions, boto3.resources.base, matplotlib.style.core, botocore.args, s3fs, urllib3.util, matplotlib.pyplot, boto3.resources.factory, botocore.endpoint, matplotlib._layoutgrid, matplotlib.mathtext, matplotlib.texmanager, matplotlib._constrained_layout, urllib3.connectionpool, botocore.handlers, botocore.response, botocore.retries.special, boto3, urllib3.poolmanager, matplotlib.backend_bases, matplotlib.axes, matplotlib.axes._axes, botocore.discovery, matplotlib.colorbar, botocore.parsers, matplotlib.gridspec, matplotlib.ticker, urllib3, urllib3.connection, botocore.awsrequest, boto3.resources.collection, matplotlib.textpath, urllib3.util.retry, botocore.retryhandler, boto3.resources.model, botocore.httpsession, botocore.auth, matplotlib.image, matplotlib.text, botocore.hooks, boto3.resources.action, invoke, matplotlib._afm, matplotlib.axis, urllib3.response, matplotlib.font_manager, botocore.waiter, matplotlib.axes._base, botocore.client, botocore.loaders, botocore.retries.standard, boto3.resources, matplotlib.lines, botocore.retries, botocore.monitoring\n",
      "DEBUG > (cd . && cd \"$(git rev-parse --show-toplevel)/..\" && (git rev-parse --is-inside-work-tree | grep -q true)) 2>&1\n",
      "DEBUG > (git rev-parse --show-superproject-working-tree) 2>&1\n",
      "\u001B[31m-----------------------------------------------------------------------------\n",
      "This code is not in sync with the container:\n",
      "code_version='1.7.0' != container_version='1.6.0'\n",
      "-----------------------------------------------------------------------------\n",
      "You need to:\n",
      "- merge origin/master into your branch with `invoke git_merge_master`\n",
      "- pull the latest container with `invoke docker_pull`\u001B[0m\n",
      "DEBUG > (git branch --show-current) 2>&1\n",
      "DEBUG > (git rev-parse --short HEAD) 2>&1\n",
      "DEBUG > (git log --date=local --oneline --graph --date-order --decorate --pretty=format:'%h %<(8)%aN%  %<(65)%s (%>(14)%ar) %ad %<(10)%d' -3) 2>&1\n",
      "(CVXPY) Sep 20 02:34:22 PM: Encountered unexpected exception importing solver GLPK:\n",
      "ImportError(\"cannot import name 'glpk' from 'cvxopt' (/venv/lib/python3.8/site-packages/cvxopt/__init__.py)\")\n",
      "(CVXPY) Sep 20 02:34:22 PM: Encountered unexpected exception importing solver GLPK_MI:\n",
      "ImportError(\"cannot import name 'glpk' from 'cvxopt' (/venv/lib/python3.8/site-packages/cvxopt/__init__.py)\")\n",
      "\u001B[33mWARNING\u001B[0m: libarmpl_lp64_mp.so: cannot open shared object file: No such file or directory\n",
      "INFO  # Git\n",
      "  branch_name='CmampTask5458_Create_dataflow_cookbook'\n",
      "  hash='35f2a4b0f'\n",
      "  # Last commits:\n",
      "    * 35f2a4b0f paul     Checkpoint                                                        (37 minutes ago) Wed Sep 20 13:57:46 2023  (HEAD -> CmampTask5458_Create_dataflow_cookbook, origin/CmampTask5458_Create_dataflow_cookbook)\n",
      "    * 1fe420586 paul     Checkpoint                                                        (  14 hours ago) Wed Sep 20 00:50:07 2023           \n",
      "    * 4d2c06a11 paul     Checkpoint                                                        (  18 hours ago) Tue Sep 19 20:49:10 2023           \n",
      "# Machine info\n",
      "  system=Linux\n",
      "  node name=41966b2f75ea\n",
      "  release=5.15.49-linuxkit\n",
      "  version=#1 SMP PREEMPT Tue Sep 13 07:51:32 UTC 2022\n",
      "  machine=aarch64\n",
      "  processor=aarch64\n",
      "  cpu count=5\n",
      "  cpu freq=None\n",
      "  memory=svmem(total=8232894464, available=4857348096, percent=41.0, used=2863468544, free=1789677568, active=1191452672, inactive=4469964800, buffers=147619840, cached=3432128512, shared=304238592, slab=670769152)\n",
      "  disk usage=sdiskusage(total=62671097856, used=25010905088, free=34443476992, percent=42.1)\n",
      "# Packages\n",
      "  python: 3.8.10\n",
      "  cvxopt: 1.3.2\n",
      "  cvxpy: 1.3.2\n",
      "  gluonnlp: ?\n",
      "  gluonts: 0.6.7\n",
      "  joblib: 1.3.2\n",
      "  mxnet: 1.3.2\n",
      "  numpy: 1.20.3\n",
      "  pandas: 1.5.1\n",
      "  pyarrow: 10.0.0\n",
      "  scipy: 1.10.1\n",
      "  seaborn: 0.12.2\n",
      "  sklearn: 1.3.0\n",
      "  statsmodels: 0.14.0\n"
     ]
    }
   ],
   "source": [
    "hdbg.init_logger(verbosity=logging.DEBUG)\n",
    "\n",
    "_LOG = logging.getLogger(__name__)\n",
    "\n",
    "_LOG.info(\"%s\", henv.get_system_signature()[0])\n",
    "\n",
    "hprint.config_notebook()"
   ]
  },
  {
   "cell_type": "markdown",
   "id": "71154c77",
   "metadata": {},
   "source": []
  },
  {
   "cell_type": "markdown",
   "id": "df60bc7c",
   "metadata": {},
   "source": [
    "# The DataFlow data format"
   ]
  },
  {
   "cell_type": "markdown",
   "id": "56eaff0d",
   "metadata": {},
   "source": [
    "We begin by loading synthetic OHLCV bar data.\n",
    "\n",
    "Note that the asset ID's are integers."
   ]
  },
  {
   "cell_type": "code",
   "execution_count": 4,
   "id": "232d7e31",
   "metadata": {
    "ExecuteTime": {
     "end_time": "2023-09-20T14:34:22.580622Z",
     "start_time": "2023-09-20T14:34:22.513980Z"
    }
   },
   "outputs": [
    {
     "name": "stdout",
     "output_type": "stream",
     "text": [
      "DEBUG 1-min bar volatility in bps=4\n",
      "DEBUG 1-min bar expected count=200\n",
      "DEBUG 1-min bar volatility in bps=4\n",
      "DEBUG 1-min bar expected count=200\n",
      "DEBUG 1-min bar volatility in bps=4\n",
      "DEBUG 1-min bar expected count=200\n"
     ]
    },
    {
     "data": {
      "text/html": [
       "<div>\n",
       "<style scoped>\n",
       "    .dataframe tbody tr th:only-of-type {\n",
       "        vertical-align: middle;\n",
       "    }\n",
       "\n",
       "    .dataframe tbody tr th {\n",
       "        vertical-align: top;\n",
       "    }\n",
       "\n",
       "    .dataframe thead th {\n",
       "        text-align: right;\n",
       "    }\n",
       "</style>\n",
       "<table border=\"1\" class=\"dataframe\">\n",
       "  <thead>\n",
       "    <tr style=\"text-align: right;\">\n",
       "      <th></th>\n",
       "      <th>start_datetime</th>\n",
       "      <th>end_datetime</th>\n",
       "      <th>timestamp_db</th>\n",
       "      <th>open</th>\n",
       "      <th>high</th>\n",
       "      <th>low</th>\n",
       "      <th>close</th>\n",
       "      <th>volume</th>\n",
       "      <th>asset_id</th>\n",
       "    </tr>\n",
       "  </thead>\n",
       "  <tbody>\n",
       "    <tr>\n",
       "      <th>0</th>\n",
       "      <td>2023-01-03 09:30:00-05:00</td>\n",
       "      <td>2023-01-03 09:35:00-05:00</td>\n",
       "      <td>2023-01-03 09:35:10-05:00</td>\n",
       "      <td>999.56</td>\n",
       "      <td>999.56</td>\n",
       "      <td>998.96</td>\n",
       "      <td>998.96</td>\n",
       "      <td>1002</td>\n",
       "      <td>101</td>\n",
       "    </tr>\n",
       "    <tr>\n",
       "      <th>1</th>\n",
       "      <td>2023-01-03 09:30:00-05:00</td>\n",
       "      <td>2023-01-03 09:35:00-05:00</td>\n",
       "      <td>2023-01-03 09:35:10-05:00</td>\n",
       "      <td>1000.01</td>\n",
       "      <td>1001.05</td>\n",
       "      <td>1000.01</td>\n",
       "      <td>1000.72</td>\n",
       "      <td>970</td>\n",
       "      <td>201</td>\n",
       "    </tr>\n",
       "    <tr>\n",
       "      <th>2</th>\n",
       "      <td>2023-01-03 09:30:00-05:00</td>\n",
       "      <td>2023-01-03 09:35:00-05:00</td>\n",
       "      <td>2023-01-03 09:35:10-05:00</td>\n",
       "      <td>1000.0</td>\n",
       "      <td>1001.65</td>\n",
       "      <td>1000.0</td>\n",
       "      <td>1001.65</td>\n",
       "      <td>935</td>\n",
       "      <td>301</td>\n",
       "    </tr>\n",
       "    <tr>\n",
       "      <th></th>\n",
       "      <td>...</td>\n",
       "      <td>...</td>\n",
       "      <td>...</td>\n",
       "      <td>...</td>\n",
       "      <td>...</td>\n",
       "      <td>...</td>\n",
       "      <td>...</td>\n",
       "      <td>...</td>\n",
       "      <td>...</td>\n",
       "    </tr>\n",
       "    <tr>\n",
       "      <th>69</th>\n",
       "      <td>2023-01-03 11:25:00-05:00</td>\n",
       "      <td>2023-01-03 11:30:00-05:00</td>\n",
       "      <td>2023-01-03 11:30:10-05:00</td>\n",
       "      <td>992.54</td>\n",
       "      <td>993.4</td>\n",
       "      <td>992.54</td>\n",
       "      <td>993.33</td>\n",
       "      <td>1008</td>\n",
       "      <td>101</td>\n",
       "    </tr>\n",
       "    <tr>\n",
       "      <th>70</th>\n",
       "      <td>2023-01-03 11:25:00-05:00</td>\n",
       "      <td>2023-01-03 11:30:00-05:00</td>\n",
       "      <td>2023-01-03 11:30:10-05:00</td>\n",
       "      <td>1000.82</td>\n",
       "      <td>1002.38</td>\n",
       "      <td>1000.82</td>\n",
       "      <td>1001.79</td>\n",
       "      <td>997</td>\n",
       "      <td>201</td>\n",
       "    </tr>\n",
       "    <tr>\n",
       "      <th>71</th>\n",
       "      <td>2023-01-03 11:25:00-05:00</td>\n",
       "      <td>2023-01-03 11:30:00-05:00</td>\n",
       "      <td>2023-01-03 11:30:10-05:00</td>\n",
       "      <td>1001.58</td>\n",
       "      <td>1002.38</td>\n",
       "      <td>1001.58</td>\n",
       "      <td>1001.93</td>\n",
       "      <td>913</td>\n",
       "      <td>301</td>\n",
       "    </tr>\n",
       "  </tbody>\n",
       "</table>\n",
       "</div>"
      ],
      "text/plain": [
       "               start_datetime               end_datetime               timestamp_db     open     high      low    close volume asset_id\n",
       "0   2023-01-03 09:30:00-05:00  2023-01-03 09:35:00-05:00  2023-01-03 09:35:10-05:00   999.56   999.56   998.96   998.96   1002      101\n",
       "1   2023-01-03 09:30:00-05:00  2023-01-03 09:35:00-05:00  2023-01-03 09:35:10-05:00  1000.01  1001.05  1000.01  1000.72    970      201\n",
       "2   2023-01-03 09:30:00-05:00  2023-01-03 09:35:00-05:00  2023-01-03 09:35:10-05:00   1000.0  1001.65   1000.0  1001.65    935      301\n",
       "                          ...                        ...                        ...      ...      ...      ...      ...    ...      ...\n",
       "69  2023-01-03 11:25:00-05:00  2023-01-03 11:30:00-05:00  2023-01-03 11:30:10-05:00   992.54    993.4   992.54   993.33   1008      101\n",
       "70  2023-01-03 11:25:00-05:00  2023-01-03 11:30:00-05:00  2023-01-03 11:30:10-05:00  1000.82  1002.38  1000.82  1001.79    997      201\n",
       "71  2023-01-03 11:25:00-05:00  2023-01-03 11:30:00-05:00  2023-01-03 11:30:10-05:00  1001.58  1002.38  1001.58  1001.93    913      301"
      ]
     },
     "metadata": {},
     "output_type": "display_data"
    },
    {
     "name": "stdout",
     "output_type": "stream",
     "text": [
      "DEBUG None\n"
     ]
    }
   ],
   "source": [
    "# Generate synthetic OHLCV data.\n",
    "tz = \"America/New_York\"\n",
    "start_datetime = pd.Timestamp(\"2023-01-03 09:30:00\", tz=tz)\n",
    "end_datetime = pd.Timestamp(\"2023-01-03 11:30:00\", tz=tz)\n",
    "asset_ids = [101, 201, 301]\n",
    "bar_duration = \"5T\"\n",
    "#\n",
    "random_ohlcv_bars = cofinanc.generate_random_ohlcv_bars(\n",
    "    start_datetime,\n",
    "    end_datetime,\n",
    "    asset_ids,\n",
    "    bar_duration=bar_duration,\n",
    ")\n",
    "_LOG.debug(hpandas.df_to_str(random_ohlcv_bars))"
   ]
  },
  {
   "cell_type": "markdown",
   "id": "227e7443",
   "metadata": {},
   "source": [
    "Next we\n",
    "- drop the \"start_datetime\" and \"timestamp_df\" columns\n",
    "- use \"end_datetime\" as the dataframe index\n",
    "- pivot on \"asset_id\" so that the dataframe has two levels of column indices\n",
    "  - the first level consists of features\n",
    "  - the second level consists of asset ids"
   ]
  },
  {
   "cell_type": "code",
   "execution_count": 5,
   "id": "849e1925",
   "metadata": {
    "ExecuteTime": {
     "end_time": "2023-09-20T14:34:22.613807Z",
     "start_time": "2023-09-20T14:34:22.581531Z"
    }
   },
   "outputs": [
    {
     "data": {
      "text/html": [
       "<div>\n",
       "<style scoped>\n",
       "    .dataframe tbody tr th:only-of-type {\n",
       "        vertical-align: middle;\n",
       "    }\n",
       "\n",
       "    .dataframe tbody tr th {\n",
       "        vertical-align: top;\n",
       "    }\n",
       "\n",
       "    .dataframe thead tr th {\n",
       "        text-align: left;\n",
       "    }\n",
       "</style>\n",
       "<table border=\"1\" class=\"dataframe\">\n",
       "  <thead>\n",
       "    <tr>\n",
       "      <th></th>\n",
       "      <th colspan=\"3\" halign=\"left\">open</th>\n",
       "      <th colspan=\"3\" halign=\"left\">high</th>\n",
       "      <th colspan=\"3\" halign=\"left\">low</th>\n",
       "      <th colspan=\"3\" halign=\"left\">close</th>\n",
       "      <th colspan=\"3\" halign=\"left\">volume</th>\n",
       "    </tr>\n",
       "    <tr>\n",
       "      <th>asset_id</th>\n",
       "      <th>101</th>\n",
       "      <th>201</th>\n",
       "      <th>301</th>\n",
       "      <th>101</th>\n",
       "      <th>201</th>\n",
       "      <th>301</th>\n",
       "      <th>101</th>\n",
       "      <th>201</th>\n",
       "      <th>301</th>\n",
       "      <th>101</th>\n",
       "      <th>201</th>\n",
       "      <th>301</th>\n",
       "      <th>101</th>\n",
       "      <th>201</th>\n",
       "      <th>301</th>\n",
       "    </tr>\n",
       "  </thead>\n",
       "  <tbody>\n",
       "    <tr>\n",
       "      <th>2023-01-03 09:35:00-05:00</th>\n",
       "      <td>999.56</td>\n",
       "      <td>1000.01</td>\n",
       "      <td>1000.0</td>\n",
       "      <td>999.56</td>\n",
       "      <td>1001.05</td>\n",
       "      <td>1001.65</td>\n",
       "      <td>998.96</td>\n",
       "      <td>1000.01</td>\n",
       "      <td>1000.0</td>\n",
       "      <td>998.96</td>\n",
       "      <td>1000.72</td>\n",
       "      <td>1001.65</td>\n",
       "      <td>1002</td>\n",
       "      <td>970</td>\n",
       "      <td>935</td>\n",
       "    </tr>\n",
       "    <tr>\n",
       "      <th>2023-01-03 09:40:00-05:00</th>\n",
       "      <td>999.01</td>\n",
       "      <td>1000.51</td>\n",
       "      <td>1001.17</td>\n",
       "      <td>999.88</td>\n",
       "      <td>1001.02</td>\n",
       "      <td>1001.17</td>\n",
       "      <td>999.01</td>\n",
       "      <td>1000.28</td>\n",
       "      <td>1000.35</td>\n",
       "      <td>999.7</td>\n",
       "      <td>1000.28</td>\n",
       "      <td>1000.74</td>\n",
       "      <td>1015</td>\n",
       "      <td>985</td>\n",
       "      <td>948</td>\n",
       "    </tr>\n",
       "    <tr>\n",
       "      <th>2023-01-03 09:45:00-05:00</th>\n",
       "      <td>999.4</td>\n",
       "      <td>1000.91</td>\n",
       "      <td>1000.74</td>\n",
       "      <td>999.4</td>\n",
       "      <td>1001.14</td>\n",
       "      <td>1000.93</td>\n",
       "      <td>998.53</td>\n",
       "      <td>1000.87</td>\n",
       "      <td>999.87</td>\n",
       "      <td>998.53</td>\n",
       "      <td>1000.93</td>\n",
       "      <td>999.87</td>\n",
       "      <td>961</td>\n",
       "      <td>1006</td>\n",
       "      <td>997</td>\n",
       "    </tr>\n",
       "    <tr>\n",
       "      <th></th>\n",
       "      <td>...</td>\n",
       "      <td>...</td>\n",
       "      <td>...</td>\n",
       "      <td>...</td>\n",
       "      <td>...</td>\n",
       "      <td>...</td>\n",
       "      <td>...</td>\n",
       "      <td>...</td>\n",
       "      <td>...</td>\n",
       "      <td>...</td>\n",
       "      <td>...</td>\n",
       "      <td>...</td>\n",
       "      <td>...</td>\n",
       "      <td>...</td>\n",
       "      <td>...</td>\n",
       "    </tr>\n",
       "    <tr>\n",
       "      <th>2023-01-03 11:20:00-05:00</th>\n",
       "      <td>992.35</td>\n",
       "      <td>1000.33</td>\n",
       "      <td>1000.24</td>\n",
       "      <td>992.49</td>\n",
       "      <td>1000.62</td>\n",
       "      <td>1000.67</td>\n",
       "      <td>992.12</td>\n",
       "      <td>999.97</td>\n",
       "      <td>1000.24</td>\n",
       "      <td>992.38</td>\n",
       "      <td>999.97</td>\n",
       "      <td>1000.55</td>\n",
       "      <td>956</td>\n",
       "      <td>975</td>\n",
       "      <td>1019</td>\n",
       "    </tr>\n",
       "    <tr>\n",
       "      <th>2023-01-03 11:25:00-05:00</th>\n",
       "      <td>991.9</td>\n",
       "      <td>1000.5</td>\n",
       "      <td>1000.77</td>\n",
       "      <td>993.31</td>\n",
       "      <td>1001.58</td>\n",
       "      <td>1001.67</td>\n",
       "      <td>991.9</td>\n",
       "      <td>1000.5</td>\n",
       "      <td>1000.77</td>\n",
       "      <td>993.13</td>\n",
       "      <td>1001.4</td>\n",
       "      <td>1001.04</td>\n",
       "      <td>1011</td>\n",
       "      <td>972</td>\n",
       "      <td>1043</td>\n",
       "    </tr>\n",
       "    <tr>\n",
       "      <th>2023-01-03 11:30:00-05:00</th>\n",
       "      <td>992.54</td>\n",
       "      <td>1000.82</td>\n",
       "      <td>1001.58</td>\n",
       "      <td>993.4</td>\n",
       "      <td>1002.38</td>\n",
       "      <td>1002.38</td>\n",
       "      <td>992.54</td>\n",
       "      <td>1000.82</td>\n",
       "      <td>1001.58</td>\n",
       "      <td>993.33</td>\n",
       "      <td>1001.79</td>\n",
       "      <td>1001.93</td>\n",
       "      <td>1008</td>\n",
       "      <td>997</td>\n",
       "      <td>913</td>\n",
       "    </tr>\n",
       "  </tbody>\n",
       "</table>\n",
       "</div>"
      ],
      "text/plain": [
       "                             open                      high                       low                     close                   volume            \n",
       "asset_id                      101      201      301     101      201      301     101      201      301     101      201      301    101   201   301\n",
       "2023-01-03 09:35:00-05:00  999.56  1000.01   1000.0  999.56  1001.05  1001.65  998.96  1000.01   1000.0  998.96  1000.72  1001.65   1002   970   935\n",
       "2023-01-03 09:40:00-05:00  999.01  1000.51  1001.17  999.88  1001.02  1001.17  999.01  1000.28  1000.35   999.7  1000.28  1000.74   1015   985   948\n",
       "2023-01-03 09:45:00-05:00   999.4  1000.91  1000.74   999.4  1001.14  1000.93  998.53  1000.87   999.87  998.53  1000.93   999.87    961  1006   997\n",
       "                              ...      ...      ...     ...      ...      ...     ...      ...      ...     ...      ...      ...    ...   ...   ...\n",
       "2023-01-03 11:20:00-05:00  992.35  1000.33  1000.24  992.49  1000.62  1000.67  992.12   999.97  1000.24  992.38   999.97  1000.55    956   975  1019\n",
       "2023-01-03 11:25:00-05:00   991.9   1000.5  1000.77  993.31  1001.58  1001.67   991.9   1000.5  1000.77  993.13   1001.4  1001.04   1011   972  1043\n",
       "2023-01-03 11:30:00-05:00  992.54  1000.82  1001.58   993.4  1002.38  1002.38  992.54  1000.82  1001.58  993.33  1001.79  1001.93   1008   997   913"
      ]
     },
     "metadata": {},
     "output_type": "display_data"
    },
    {
     "name": "stdout",
     "output_type": "stream",
     "text": [
      "DEBUG None\n"
     ]
    }
   ],
   "source": [
    "# Put the synthetic data into \"DataFlow format\".\n",
    "market_data = random_ohlcv_bars.drop(\n",
    "    columns=[\"start_datetime\", \"timestamp_db\"]\n",
    ").pivot(index=\"end_datetime\", columns=\"asset_id\")\n",
    "_LOG.debug(hpandas.df_to_str(market_data))"
   ]
  },
  {
   "cell_type": "code",
   "execution_count": 6,
   "id": "041a0a6b",
   "metadata": {
    "ExecuteTime": {
     "end_time": "2023-09-20T14:34:22.636350Z",
     "start_time": "2023-09-20T14:34:22.614915Z"
    }
   },
   "outputs": [
    {
     "data": {
      "text/plain": [
       "Index(['open', 'high', 'low', 'close', 'volume'], dtype='object')"
      ]
     },
     "metadata": {},
     "output_type": "display_data"
    },
    {
     "data": {
      "text/plain": [
       "Int64Index([101, 201, 301], dtype='int64', name='asset_id')"
      ]
     },
     "metadata": {},
     "output_type": "display_data"
    }
   ],
   "source": [
    "# The asset features appear as column level `0`:\n",
    "display(market_data.columns.levels[0])\n",
    "# The asset ids appear as column level `1`:\n",
    "display(market_data.columns.levels[1])"
   ]
  },
  {
   "cell_type": "code",
   "execution_count": null,
   "outputs": [],
   "source": [],
   "metadata": {
    "collapsed": false
   }
  },
  {
   "cell_type": "markdown",
   "id": "13da21bf",
   "metadata": {
    "ExecuteTime": {
     "end_time": "2023-09-19T19:42:03.614848Z",
     "start_time": "2023-09-19T19:42:03.577513Z"
    }
   },
   "source": [
    "# DataFlow DAGs and Nodes"
   ]
  },
  {
   "cell_type": "markdown",
   "id": "65e5b39c",
   "metadata": {},
   "source": [
    "## Working with single nodes"
   ]
  },
  {
   "cell_type": "markdown",
   "id": "fa205f18",
   "metadata": {},
   "source": [
    "DataFlow nodes can be used stand-alone outside of any DAG.\n",
    "Because every nontrivial DAG has at least one node, we introduce\n",
    "nodes before DAGs."
   ]
  },
  {
   "cell_type": "markdown",
   "id": "fdfaa7ee",
   "metadata": {},
   "source": [
    "### Wrapping a dataframe in a source node"
   ]
  },
  {
   "cell_type": "markdown",
   "id": "e4e8554f",
   "metadata": {},
   "source": [
    "A dataframe may be wrapped in a DataFlow source node. This functionality is\n",
    "useful in prototyping in a notebook and in writing unit tests."
   ]
  },
  {
   "cell_type": "code",
   "execution_count": 7,
   "id": "5b2c01a3",
   "metadata": {
    "ExecuteTime": {
     "end_time": "2023-09-20T14:34:22.657959Z",
     "start_time": "2023-09-20T14:34:22.637895Z"
    }
   },
   "outputs": [],
   "source": [
    "# `nid` is short for \"node id\"\n",
    "nid = \"df_data_source\"\n",
    "df_data_source = dtfcore.DfDataSource(nid, market_data)"
   ]
  },
  {
   "cell_type": "code",
   "execution_count": null,
   "outputs": [],
   "source": [],
   "metadata": {
    "collapsed": false
   }
  },
  {
   "cell_type": "markdown",
   "id": "ebed57ba",
   "metadata": {},
   "source": [
    "Two of the most important methods on a dataflow are `fit` and `predict`.\n",
    "These methods only differ if the node learns state, e.g., fits a\n",
    "smoothing parameter or learns regression coefficients. In those cases,\n",
    "setting appropriate `fit` and `predict` time intervals is important.\n",
    "This functionality will be demonstrated later in the cookbook."
   ]
  },
  {
   "cell_type": "markdown",
   "id": "a5e75ce1",
   "metadata": {},
   "source": [
    "The output of a dataflow node is a dictionary of dataframes. In most cases,\n",
    "the node has a single output, and \"df_out\" is the default dictionary key."
   ]
  },
  {
   "cell_type": "code",
   "execution_count": 8,
   "id": "00d5d610",
   "metadata": {
    "ExecuteTime": {
     "end_time": "2023-09-20T14:34:22.695711Z",
     "start_time": "2023-09-20T14:34:22.659266Z"
    }
   },
   "outputs": [
    {
     "data": {
      "text/html": [
       "<div>\n",
       "<style scoped>\n",
       "    .dataframe tbody tr th:only-of-type {\n",
       "        vertical-align: middle;\n",
       "    }\n",
       "\n",
       "    .dataframe tbody tr th {\n",
       "        vertical-align: top;\n",
       "    }\n",
       "\n",
       "    .dataframe thead tr th {\n",
       "        text-align: left;\n",
       "    }\n",
       "</style>\n",
       "<table border=\"1\" class=\"dataframe\">\n",
       "  <thead>\n",
       "    <tr>\n",
       "      <th></th>\n",
       "      <th colspan=\"3\" halign=\"left\">open</th>\n",
       "      <th colspan=\"3\" halign=\"left\">high</th>\n",
       "      <th colspan=\"3\" halign=\"left\">low</th>\n",
       "      <th colspan=\"3\" halign=\"left\">close</th>\n",
       "      <th colspan=\"3\" halign=\"left\">volume</th>\n",
       "    </tr>\n",
       "    <tr>\n",
       "      <th>asset_id</th>\n",
       "      <th>101</th>\n",
       "      <th>201</th>\n",
       "      <th>301</th>\n",
       "      <th>101</th>\n",
       "      <th>201</th>\n",
       "      <th>301</th>\n",
       "      <th>101</th>\n",
       "      <th>201</th>\n",
       "      <th>301</th>\n",
       "      <th>101</th>\n",
       "      <th>201</th>\n",
       "      <th>301</th>\n",
       "      <th>101</th>\n",
       "      <th>201</th>\n",
       "      <th>301</th>\n",
       "    </tr>\n",
       "  </thead>\n",
       "  <tbody>\n",
       "    <tr>\n",
       "      <th>2023-01-03 09:35:00-05:00</th>\n",
       "      <td>999.56</td>\n",
       "      <td>1000.01</td>\n",
       "      <td>1000.0</td>\n",
       "      <td>999.56</td>\n",
       "      <td>1001.05</td>\n",
       "      <td>1001.65</td>\n",
       "      <td>998.96</td>\n",
       "      <td>1000.01</td>\n",
       "      <td>1000.0</td>\n",
       "      <td>998.96</td>\n",
       "      <td>1000.72</td>\n",
       "      <td>1001.65</td>\n",
       "      <td>1002</td>\n",
       "      <td>970</td>\n",
       "      <td>935</td>\n",
       "    </tr>\n",
       "    <tr>\n",
       "      <th>2023-01-03 09:40:00-05:00</th>\n",
       "      <td>999.01</td>\n",
       "      <td>1000.51</td>\n",
       "      <td>1001.17</td>\n",
       "      <td>999.88</td>\n",
       "      <td>1001.02</td>\n",
       "      <td>1001.17</td>\n",
       "      <td>999.01</td>\n",
       "      <td>1000.28</td>\n",
       "      <td>1000.35</td>\n",
       "      <td>999.7</td>\n",
       "      <td>1000.28</td>\n",
       "      <td>1000.74</td>\n",
       "      <td>1015</td>\n",
       "      <td>985</td>\n",
       "      <td>948</td>\n",
       "    </tr>\n",
       "    <tr>\n",
       "      <th>2023-01-03 09:45:00-05:00</th>\n",
       "      <td>999.4</td>\n",
       "      <td>1000.91</td>\n",
       "      <td>1000.74</td>\n",
       "      <td>999.4</td>\n",
       "      <td>1001.14</td>\n",
       "      <td>1000.93</td>\n",
       "      <td>998.53</td>\n",
       "      <td>1000.87</td>\n",
       "      <td>999.87</td>\n",
       "      <td>998.53</td>\n",
       "      <td>1000.93</td>\n",
       "      <td>999.87</td>\n",
       "      <td>961</td>\n",
       "      <td>1006</td>\n",
       "      <td>997</td>\n",
       "    </tr>\n",
       "    <tr>\n",
       "      <th></th>\n",
       "      <td>...</td>\n",
       "      <td>...</td>\n",
       "      <td>...</td>\n",
       "      <td>...</td>\n",
       "      <td>...</td>\n",
       "      <td>...</td>\n",
       "      <td>...</td>\n",
       "      <td>...</td>\n",
       "      <td>...</td>\n",
       "      <td>...</td>\n",
       "      <td>...</td>\n",
       "      <td>...</td>\n",
       "      <td>...</td>\n",
       "      <td>...</td>\n",
       "      <td>...</td>\n",
       "    </tr>\n",
       "    <tr>\n",
       "      <th>2023-01-03 11:20:00-05:00</th>\n",
       "      <td>992.35</td>\n",
       "      <td>1000.33</td>\n",
       "      <td>1000.24</td>\n",
       "      <td>992.49</td>\n",
       "      <td>1000.62</td>\n",
       "      <td>1000.67</td>\n",
       "      <td>992.12</td>\n",
       "      <td>999.97</td>\n",
       "      <td>1000.24</td>\n",
       "      <td>992.38</td>\n",
       "      <td>999.97</td>\n",
       "      <td>1000.55</td>\n",
       "      <td>956</td>\n",
       "      <td>975</td>\n",
       "      <td>1019</td>\n",
       "    </tr>\n",
       "    <tr>\n",
       "      <th>2023-01-03 11:25:00-05:00</th>\n",
       "      <td>991.9</td>\n",
       "      <td>1000.5</td>\n",
       "      <td>1000.77</td>\n",
       "      <td>993.31</td>\n",
       "      <td>1001.58</td>\n",
       "      <td>1001.67</td>\n",
       "      <td>991.9</td>\n",
       "      <td>1000.5</td>\n",
       "      <td>1000.77</td>\n",
       "      <td>993.13</td>\n",
       "      <td>1001.4</td>\n",
       "      <td>1001.04</td>\n",
       "      <td>1011</td>\n",
       "      <td>972</td>\n",
       "      <td>1043</td>\n",
       "    </tr>\n",
       "    <tr>\n",
       "      <th>2023-01-03 11:30:00-05:00</th>\n",
       "      <td>992.54</td>\n",
       "      <td>1000.82</td>\n",
       "      <td>1001.58</td>\n",
       "      <td>993.4</td>\n",
       "      <td>1002.38</td>\n",
       "      <td>1002.38</td>\n",
       "      <td>992.54</td>\n",
       "      <td>1000.82</td>\n",
       "      <td>1001.58</td>\n",
       "      <td>993.33</td>\n",
       "      <td>1001.79</td>\n",
       "      <td>1001.93</td>\n",
       "      <td>1008</td>\n",
       "      <td>997</td>\n",
       "      <td>913</td>\n",
       "    </tr>\n",
       "  </tbody>\n",
       "</table>\n",
       "</div>"
      ],
      "text/plain": [
       "                             open                      high                       low                     close                   volume            \n",
       "asset_id                      101      201      301     101      201      301     101      201      301     101      201      301    101   201   301\n",
       "2023-01-03 09:35:00-05:00  999.56  1000.01   1000.0  999.56  1001.05  1001.65  998.96  1000.01   1000.0  998.96  1000.72  1001.65   1002   970   935\n",
       "2023-01-03 09:40:00-05:00  999.01  1000.51  1001.17  999.88  1001.02  1001.17  999.01  1000.28  1000.35   999.7  1000.28  1000.74   1015   985   948\n",
       "2023-01-03 09:45:00-05:00   999.4  1000.91  1000.74   999.4  1001.14  1000.93  998.53  1000.87   999.87  998.53  1000.93   999.87    961  1006   997\n",
       "                              ...      ...      ...     ...      ...      ...     ...      ...      ...     ...      ...      ...    ...   ...   ...\n",
       "2023-01-03 11:20:00-05:00  992.35  1000.33  1000.24  992.49  1000.62  1000.67  992.12   999.97  1000.24  992.38   999.97  1000.55    956   975  1019\n",
       "2023-01-03 11:25:00-05:00   991.9   1000.5  1000.77  993.31  1001.58  1001.67   991.9   1000.5  1000.77  993.13   1001.4  1001.04   1011   972  1043\n",
       "2023-01-03 11:30:00-05:00  992.54  1000.82  1001.58   993.4  1002.38  1002.38  992.54  1000.82  1001.58  993.33  1001.79  1001.93   1008   997   913"
      ]
     },
     "metadata": {},
     "output_type": "display_data"
    },
    {
     "name": "stdout",
     "output_type": "stream",
     "text": [
      "DEBUG None\n"
     ]
    }
   ],
   "source": [
    "df_out_fit = df_data_source.fit()[\"df_out\"]\n",
    "_LOG.debug(hpandas.df_to_str(df_out_fit))"
   ]
  },
  {
   "cell_type": "code",
   "execution_count": 9,
   "id": "a5433dba",
   "metadata": {
    "ExecuteTime": {
     "end_time": "2023-09-20T14:34:22.727371Z",
     "start_time": "2023-09-20T14:34:22.697835Z"
    }
   },
   "outputs": [
    {
     "data": {
      "text/html": [
       "<div>\n",
       "<style scoped>\n",
       "    .dataframe tbody tr th:only-of-type {\n",
       "        vertical-align: middle;\n",
       "    }\n",
       "\n",
       "    .dataframe tbody tr th {\n",
       "        vertical-align: top;\n",
       "    }\n",
       "\n",
       "    .dataframe thead tr th {\n",
       "        text-align: left;\n",
       "    }\n",
       "</style>\n",
       "<table border=\"1\" class=\"dataframe\">\n",
       "  <thead>\n",
       "    <tr>\n",
       "      <th></th>\n",
       "      <th colspan=\"3\" halign=\"left\">open</th>\n",
       "      <th colspan=\"3\" halign=\"left\">high</th>\n",
       "      <th colspan=\"3\" halign=\"left\">low</th>\n",
       "      <th colspan=\"3\" halign=\"left\">close</th>\n",
       "      <th colspan=\"3\" halign=\"left\">volume</th>\n",
       "    </tr>\n",
       "    <tr>\n",
       "      <th>asset_id</th>\n",
       "      <th>101</th>\n",
       "      <th>201</th>\n",
       "      <th>301</th>\n",
       "      <th>101</th>\n",
       "      <th>201</th>\n",
       "      <th>301</th>\n",
       "      <th>101</th>\n",
       "      <th>201</th>\n",
       "      <th>301</th>\n",
       "      <th>101</th>\n",
       "      <th>201</th>\n",
       "      <th>301</th>\n",
       "      <th>101</th>\n",
       "      <th>201</th>\n",
       "      <th>301</th>\n",
       "    </tr>\n",
       "  </thead>\n",
       "  <tbody>\n",
       "    <tr>\n",
       "      <th>2023-01-03 09:35:00-05:00</th>\n",
       "      <td>999.56</td>\n",
       "      <td>1000.01</td>\n",
       "      <td>1000.0</td>\n",
       "      <td>999.56</td>\n",
       "      <td>1001.05</td>\n",
       "      <td>1001.65</td>\n",
       "      <td>998.96</td>\n",
       "      <td>1000.01</td>\n",
       "      <td>1000.0</td>\n",
       "      <td>998.96</td>\n",
       "      <td>1000.72</td>\n",
       "      <td>1001.65</td>\n",
       "      <td>1002</td>\n",
       "      <td>970</td>\n",
       "      <td>935</td>\n",
       "    </tr>\n",
       "    <tr>\n",
       "      <th>2023-01-03 09:40:00-05:00</th>\n",
       "      <td>999.01</td>\n",
       "      <td>1000.51</td>\n",
       "      <td>1001.17</td>\n",
       "      <td>999.88</td>\n",
       "      <td>1001.02</td>\n",
       "      <td>1001.17</td>\n",
       "      <td>999.01</td>\n",
       "      <td>1000.28</td>\n",
       "      <td>1000.35</td>\n",
       "      <td>999.7</td>\n",
       "      <td>1000.28</td>\n",
       "      <td>1000.74</td>\n",
       "      <td>1015</td>\n",
       "      <td>985</td>\n",
       "      <td>948</td>\n",
       "    </tr>\n",
       "    <tr>\n",
       "      <th>2023-01-03 09:45:00-05:00</th>\n",
       "      <td>999.4</td>\n",
       "      <td>1000.91</td>\n",
       "      <td>1000.74</td>\n",
       "      <td>999.4</td>\n",
       "      <td>1001.14</td>\n",
       "      <td>1000.93</td>\n",
       "      <td>998.53</td>\n",
       "      <td>1000.87</td>\n",
       "      <td>999.87</td>\n",
       "      <td>998.53</td>\n",
       "      <td>1000.93</td>\n",
       "      <td>999.87</td>\n",
       "      <td>961</td>\n",
       "      <td>1006</td>\n",
       "      <td>997</td>\n",
       "    </tr>\n",
       "    <tr>\n",
       "      <th></th>\n",
       "      <td>...</td>\n",
       "      <td>...</td>\n",
       "      <td>...</td>\n",
       "      <td>...</td>\n",
       "      <td>...</td>\n",
       "      <td>...</td>\n",
       "      <td>...</td>\n",
       "      <td>...</td>\n",
       "      <td>...</td>\n",
       "      <td>...</td>\n",
       "      <td>...</td>\n",
       "      <td>...</td>\n",
       "      <td>...</td>\n",
       "      <td>...</td>\n",
       "      <td>...</td>\n",
       "    </tr>\n",
       "    <tr>\n",
       "      <th>2023-01-03 11:20:00-05:00</th>\n",
       "      <td>992.35</td>\n",
       "      <td>1000.33</td>\n",
       "      <td>1000.24</td>\n",
       "      <td>992.49</td>\n",
       "      <td>1000.62</td>\n",
       "      <td>1000.67</td>\n",
       "      <td>992.12</td>\n",
       "      <td>999.97</td>\n",
       "      <td>1000.24</td>\n",
       "      <td>992.38</td>\n",
       "      <td>999.97</td>\n",
       "      <td>1000.55</td>\n",
       "      <td>956</td>\n",
       "      <td>975</td>\n",
       "      <td>1019</td>\n",
       "    </tr>\n",
       "    <tr>\n",
       "      <th>2023-01-03 11:25:00-05:00</th>\n",
       "      <td>991.9</td>\n",
       "      <td>1000.5</td>\n",
       "      <td>1000.77</td>\n",
       "      <td>993.31</td>\n",
       "      <td>1001.58</td>\n",
       "      <td>1001.67</td>\n",
       "      <td>991.9</td>\n",
       "      <td>1000.5</td>\n",
       "      <td>1000.77</td>\n",
       "      <td>993.13</td>\n",
       "      <td>1001.4</td>\n",
       "      <td>1001.04</td>\n",
       "      <td>1011</td>\n",
       "      <td>972</td>\n",
       "      <td>1043</td>\n",
       "    </tr>\n",
       "    <tr>\n",
       "      <th>2023-01-03 11:30:00-05:00</th>\n",
       "      <td>992.54</td>\n",
       "      <td>1000.82</td>\n",
       "      <td>1001.58</td>\n",
       "      <td>993.4</td>\n",
       "      <td>1002.38</td>\n",
       "      <td>1002.38</td>\n",
       "      <td>992.54</td>\n",
       "      <td>1000.82</td>\n",
       "      <td>1001.58</td>\n",
       "      <td>993.33</td>\n",
       "      <td>1001.79</td>\n",
       "      <td>1001.93</td>\n",
       "      <td>1008</td>\n",
       "      <td>997</td>\n",
       "      <td>913</td>\n",
       "    </tr>\n",
       "  </tbody>\n",
       "</table>\n",
       "</div>"
      ],
      "text/plain": [
       "                             open                      high                       low                     close                   volume            \n",
       "asset_id                      101      201      301     101      201      301     101      201      301     101      201      301    101   201   301\n",
       "2023-01-03 09:35:00-05:00  999.56  1000.01   1000.0  999.56  1001.05  1001.65  998.96  1000.01   1000.0  998.96  1000.72  1001.65   1002   970   935\n",
       "2023-01-03 09:40:00-05:00  999.01  1000.51  1001.17  999.88  1001.02  1001.17  999.01  1000.28  1000.35   999.7  1000.28  1000.74   1015   985   948\n",
       "2023-01-03 09:45:00-05:00   999.4  1000.91  1000.74   999.4  1001.14  1000.93  998.53  1000.87   999.87  998.53  1000.93   999.87    961  1006   997\n",
       "                              ...      ...      ...     ...      ...      ...     ...      ...      ...     ...      ...      ...    ...   ...   ...\n",
       "2023-01-03 11:20:00-05:00  992.35  1000.33  1000.24  992.49  1000.62  1000.67  992.12   999.97  1000.24  992.38   999.97  1000.55    956   975  1019\n",
       "2023-01-03 11:25:00-05:00   991.9   1000.5  1000.77  993.31  1001.58  1001.67   991.9   1000.5  1000.77  993.13   1001.4  1001.04   1011   972  1043\n",
       "2023-01-03 11:30:00-05:00  992.54  1000.82  1001.58   993.4  1002.38  1002.38  992.54  1000.82  1001.58  993.33  1001.79  1001.93   1008   997   913"
      ]
     },
     "metadata": {},
     "output_type": "display_data"
    },
    {
     "name": "stdout",
     "output_type": "stream",
     "text": [
      "DEBUG None\n"
     ]
    }
   ],
   "source": [
    "df_out_predict = df_data_source.predict()[\"df_out\"]\n",
    "_LOG.debug(hpandas.df_to_str(df_out_predict))"
   ]
  },
  {
   "cell_type": "code",
   "execution_count": 10,
   "id": "1630acfd",
   "metadata": {
    "ExecuteTime": {
     "end_time": "2023-09-20T14:34:22.750392Z",
     "start_time": "2023-09-20T14:34:22.728511Z"
    }
   },
   "outputs": [
    {
     "data": {
      "text/plain": [
       "0.0"
      ]
     },
     "execution_count": 10,
     "metadata": {},
     "output_type": "execute_result"
    }
   ],
   "source": [
    "# Note that the two outputs agree, as expected.\n",
    "(df_out_fit - df_out_predict).abs().sum().sum()"
   ]
  },
  {
   "cell_type": "markdown",
   "id": "a2d30d15",
   "metadata": {},
   "source": [
    "### Using a single node to transform data"
   ]
  },
  {
   "cell_type": "markdown",
   "id": "66c45263",
   "metadata": {
    "ExecuteTime": {
     "end_time": "2023-09-19T20:27:28.178154Z",
     "start_time": "2023-09-19T20:27:28.141850Z"
    }
   },
   "source": [
    "#### Example"
   ]
  },
  {
   "cell_type": "markdown",
   "id": "d6bb3be4",
   "metadata": {},
   "source": [
    "Here we show how to use a single node to perform the operation of\n",
    "computing return from price.\n",
    "\n",
    "To perform this task, we use a general type of transformer node called\n",
    "`GroupedColDfToDfTransformer`. This node allows us to\n",
    "- specify features to analyze\n",
    "- perform an operation using those features per-asset\n",
    "- define the per-asset operation as a function that operates on a single-column-level dataframe\n",
    "- configure column names for the output(s)\n",
    "\n",
    "The user-define function can be specified as a regular python function or as a lambda."
   ]
  },
  {
   "cell_type": "code",
   "execution_count": 11,
   "id": "64dc916a",
   "metadata": {
    "ExecuteTime": {
     "end_time": "2023-09-20T14:34:22.771790Z",
     "start_time": "2023-09-20T14:34:22.751624Z"
    }
   },
   "outputs": [],
   "source": [
    "# Prepare a DataFlow transformer node to compute percentage returns.\n",
    "nid = \"compute_rets_node\"\n",
    "compute_rets_node = dtfcore.GroupedColDfToDfTransformer(\n",
    "    nid,\n",
    "    transformer_func=lambda x: x.pct_change(),\n",
    "    in_col_groups=[(\"close\",)],\n",
    "    out_col_group=(),\n",
    "    col_mapping={\"close\": \"ret_0\"},\n",
    ")"
   ]
  },
  {
   "cell_type": "code",
   "execution_count": 12,
   "id": "0876c27a",
   "metadata": {
    "ExecuteTime": {
     "end_time": "2023-09-20T14:34:22.819719Z",
     "start_time": "2023-09-20T14:34:22.773028Z"
    }
   },
   "outputs": [
    {
     "name": "stdout",
     "output_type": "stream",
     "text": [
      "DEBUG out_col_names=['close']\n",
      "DEBUG keys=[101, 201, 301]\n",
      "DEBUG col group roots=[()]\n",
      "DEBUG Using symbol=`101` for reference index and columns\n"
     ]
    },
    {
     "data": {
      "text/html": [
       "<div>\n",
       "<style scoped>\n",
       "    .dataframe tbody tr th:only-of-type {\n",
       "        vertical-align: middle;\n",
       "    }\n",
       "\n",
       "    .dataframe tbody tr th {\n",
       "        vertical-align: top;\n",
       "    }\n",
       "\n",
       "    .dataframe thead tr th {\n",
       "        text-align: left;\n",
       "    }\n",
       "</style>\n",
       "<table border=\"1\" class=\"dataframe\">\n",
       "  <thead>\n",
       "    <tr>\n",
       "      <th></th>\n",
       "      <th colspan=\"3\" halign=\"left\">ret_0</th>\n",
       "      <th colspan=\"3\" halign=\"left\">open</th>\n",
       "      <th colspan=\"3\" halign=\"left\">high</th>\n",
       "      <th colspan=\"3\" halign=\"left\">low</th>\n",
       "      <th colspan=\"3\" halign=\"left\">close</th>\n",
       "      <th colspan=\"3\" halign=\"left\">volume</th>\n",
       "    </tr>\n",
       "    <tr>\n",
       "      <th></th>\n",
       "      <th>101</th>\n",
       "      <th>201</th>\n",
       "      <th>301</th>\n",
       "      <th>101</th>\n",
       "      <th>201</th>\n",
       "      <th>301</th>\n",
       "      <th>101</th>\n",
       "      <th>201</th>\n",
       "      <th>301</th>\n",
       "      <th>101</th>\n",
       "      <th>201</th>\n",
       "      <th>301</th>\n",
       "      <th>101</th>\n",
       "      <th>201</th>\n",
       "      <th>301</th>\n",
       "      <th>101</th>\n",
       "      <th>201</th>\n",
       "      <th>301</th>\n",
       "    </tr>\n",
       "  </thead>\n",
       "  <tbody>\n",
       "    <tr>\n",
       "      <th>2023-01-03 09:35:00-05:00</th>\n",
       "      <td>NaN</td>\n",
       "      <td>NaN</td>\n",
       "      <td>NaN</td>\n",
       "      <td>999.56</td>\n",
       "      <td>1000.01</td>\n",
       "      <td>1000.0</td>\n",
       "      <td>999.56</td>\n",
       "      <td>1001.05</td>\n",
       "      <td>1001.65</td>\n",
       "      <td>998.96</td>\n",
       "      <td>1000.01</td>\n",
       "      <td>1000.0</td>\n",
       "      <td>998.96</td>\n",
       "      <td>1000.72</td>\n",
       "      <td>1001.65</td>\n",
       "      <td>1002</td>\n",
       "      <td>970</td>\n",
       "      <td>935</td>\n",
       "    </tr>\n",
       "    <tr>\n",
       "      <th>2023-01-03 09:40:00-05:00</th>\n",
       "      <td>0.000741</td>\n",
       "      <td>-0.00044</td>\n",
       "      <td>-0.000909</td>\n",
       "      <td>999.01</td>\n",
       "      <td>1000.51</td>\n",
       "      <td>1001.17</td>\n",
       "      <td>999.88</td>\n",
       "      <td>1001.02</td>\n",
       "      <td>1001.17</td>\n",
       "      <td>999.01</td>\n",
       "      <td>1000.28</td>\n",
       "      <td>1000.35</td>\n",
       "      <td>999.7</td>\n",
       "      <td>1000.28</td>\n",
       "      <td>1000.74</td>\n",
       "      <td>1015</td>\n",
       "      <td>985</td>\n",
       "      <td>948</td>\n",
       "    </tr>\n",
       "    <tr>\n",
       "      <th>2023-01-03 09:45:00-05:00</th>\n",
       "      <td>-0.00117</td>\n",
       "      <td>0.00065</td>\n",
       "      <td>-0.000869</td>\n",
       "      <td>999.4</td>\n",
       "      <td>1000.91</td>\n",
       "      <td>1000.74</td>\n",
       "      <td>999.4</td>\n",
       "      <td>1001.14</td>\n",
       "      <td>1000.93</td>\n",
       "      <td>998.53</td>\n",
       "      <td>1000.87</td>\n",
       "      <td>999.87</td>\n",
       "      <td>998.53</td>\n",
       "      <td>1000.93</td>\n",
       "      <td>999.87</td>\n",
       "      <td>961</td>\n",
       "      <td>1006</td>\n",
       "      <td>997</td>\n",
       "    </tr>\n",
       "    <tr>\n",
       "      <th></th>\n",
       "      <td>...</td>\n",
       "      <td>...</td>\n",
       "      <td>...</td>\n",
       "      <td>...</td>\n",
       "      <td>...</td>\n",
       "      <td>...</td>\n",
       "      <td>...</td>\n",
       "      <td>...</td>\n",
       "      <td>...</td>\n",
       "      <td>...</td>\n",
       "      <td>...</td>\n",
       "      <td>...</td>\n",
       "      <td>...</td>\n",
       "      <td>...</td>\n",
       "      <td>...</td>\n",
       "      <td>...</td>\n",
       "      <td>...</td>\n",
       "      <td>...</td>\n",
       "    </tr>\n",
       "    <tr>\n",
       "      <th>2023-01-03 11:20:00-05:00</th>\n",
       "      <td>0.000423</td>\n",
       "      <td>-0.000879</td>\n",
       "      <td>0.00025</td>\n",
       "      <td>992.35</td>\n",
       "      <td>1000.33</td>\n",
       "      <td>1000.24</td>\n",
       "      <td>992.49</td>\n",
       "      <td>1000.62</td>\n",
       "      <td>1000.67</td>\n",
       "      <td>992.12</td>\n",
       "      <td>999.97</td>\n",
       "      <td>1000.24</td>\n",
       "      <td>992.38</td>\n",
       "      <td>999.97</td>\n",
       "      <td>1000.55</td>\n",
       "      <td>956</td>\n",
       "      <td>975</td>\n",
       "      <td>1019</td>\n",
       "    </tr>\n",
       "    <tr>\n",
       "      <th>2023-01-03 11:25:00-05:00</th>\n",
       "      <td>0.000756</td>\n",
       "      <td>0.00143</td>\n",
       "      <td>0.00049</td>\n",
       "      <td>991.9</td>\n",
       "      <td>1000.5</td>\n",
       "      <td>1000.77</td>\n",
       "      <td>993.31</td>\n",
       "      <td>1001.58</td>\n",
       "      <td>1001.67</td>\n",
       "      <td>991.9</td>\n",
       "      <td>1000.5</td>\n",
       "      <td>1000.77</td>\n",
       "      <td>993.13</td>\n",
       "      <td>1001.4</td>\n",
       "      <td>1001.04</td>\n",
       "      <td>1011</td>\n",
       "      <td>972</td>\n",
       "      <td>1043</td>\n",
       "    </tr>\n",
       "    <tr>\n",
       "      <th>2023-01-03 11:30:00-05:00</th>\n",
       "      <td>0.000201</td>\n",
       "      <td>0.000389</td>\n",
       "      <td>0.000889</td>\n",
       "      <td>992.54</td>\n",
       "      <td>1000.82</td>\n",
       "      <td>1001.58</td>\n",
       "      <td>993.4</td>\n",
       "      <td>1002.38</td>\n",
       "      <td>1002.38</td>\n",
       "      <td>992.54</td>\n",
       "      <td>1000.82</td>\n",
       "      <td>1001.58</td>\n",
       "      <td>993.33</td>\n",
       "      <td>1001.79</td>\n",
       "      <td>1001.93</td>\n",
       "      <td>1008</td>\n",
       "      <td>997</td>\n",
       "      <td>913</td>\n",
       "    </tr>\n",
       "  </tbody>\n",
       "</table>\n",
       "</div>"
      ],
      "text/plain": [
       "                              ret_0                        open                      high                       low                     close                   volume            \n",
       "                                101       201       301     101      201      301     101      201      301     101      201      301     101      201      301    101   201   301\n",
       "2023-01-03 09:35:00-05:00       NaN       NaN       NaN  999.56  1000.01   1000.0  999.56  1001.05  1001.65  998.96  1000.01   1000.0  998.96  1000.72  1001.65   1002   970   935\n",
       "2023-01-03 09:40:00-05:00  0.000741  -0.00044 -0.000909  999.01  1000.51  1001.17  999.88  1001.02  1001.17  999.01  1000.28  1000.35   999.7  1000.28  1000.74   1015   985   948\n",
       "2023-01-03 09:45:00-05:00  -0.00117   0.00065 -0.000869   999.4  1000.91  1000.74   999.4  1001.14  1000.93  998.53  1000.87   999.87  998.53  1000.93   999.87    961  1006   997\n",
       "                                ...       ...       ...     ...      ...      ...     ...      ...      ...     ...      ...      ...     ...      ...      ...    ...   ...   ...\n",
       "2023-01-03 11:20:00-05:00  0.000423 -0.000879   0.00025  992.35  1000.33  1000.24  992.49  1000.62  1000.67  992.12   999.97  1000.24  992.38   999.97  1000.55    956   975  1019\n",
       "2023-01-03 11:25:00-05:00  0.000756   0.00143   0.00049   991.9   1000.5  1000.77  993.31  1001.58  1001.67   991.9   1000.5  1000.77  993.13   1001.4  1001.04   1011   972  1043\n",
       "2023-01-03 11:30:00-05:00  0.000201  0.000389  0.000889  992.54  1000.82  1001.58   993.4  1002.38  1002.38  992.54  1000.82  1001.58  993.33  1001.79  1001.93   1008   997   913"
      ]
     },
     "metadata": {},
     "output_type": "display_data"
    },
    {
     "name": "stdout",
     "output_type": "stream",
     "text": [
      "DEBUG None\n"
     ]
    }
   ],
   "source": [
    "# Run the node on the dataframe `market_data`.\n",
    "compute_rets_df_out = compute_rets_node.fit(market_data)[\"df_out\"]\n",
    "_LOG.debug(hpandas.df_to_str(compute_rets_df_out))"
   ]
  },
  {
   "cell_type": "markdown",
   "id": "7235358b",
   "metadata": {},
   "source": [
    "Note that, by default, columns are appended. This behavior is configurable\n",
    "so that, if desired, input columns are discarded and only explicit outputs\n",
    "are preserved."
   ]
  },
  {
   "cell_type": "code",
   "execution_count": 13,
   "id": "1da0e57f",
   "metadata": {
    "ExecuteTime": {
     "end_time": "2023-09-20T14:34:22.840165Z",
     "start_time": "2023-09-20T14:34:22.820771Z"
    }
   },
   "outputs": [],
   "source": [
    "# Prepare a DataFlow transformer node to compute percentage returns\n",
    "#  and only return percentage returns.\n",
    "nid = \"compute_rets_node_v2\"\n",
    "compute_rets_node_v2 = dtfcore.GroupedColDfToDfTransformer(\n",
    "    nid,\n",
    "    transformer_func=lambda x: x.pct_change(),\n",
    "    in_col_groups=[(\"close\",)],\n",
    "    out_col_group=(),\n",
    "    col_mapping={\"close\": \"ret_0\"},\n",
    "    # This var is `True` by default.\n",
    "    join_output_with_input=False,\n",
    ")"
   ]
  },
  {
   "cell_type": "code",
   "execution_count": 14,
   "id": "efa318ab",
   "metadata": {
    "ExecuteTime": {
     "end_time": "2023-09-20T14:34:22.875616Z",
     "start_time": "2023-09-20T14:34:22.841548Z"
    }
   },
   "outputs": [
    {
     "name": "stdout",
     "output_type": "stream",
     "text": [
      "DEBUG out_col_names=['close']\n",
      "DEBUG keys=[101, 201, 301]\n",
      "DEBUG col group roots=[()]\n",
      "DEBUG Using symbol=`101` for reference index and columns\n"
     ]
    },
    {
     "data": {
      "text/html": [
       "<div>\n",
       "<style scoped>\n",
       "    .dataframe tbody tr th:only-of-type {\n",
       "        vertical-align: middle;\n",
       "    }\n",
       "\n",
       "    .dataframe tbody tr th {\n",
       "        vertical-align: top;\n",
       "    }\n",
       "\n",
       "    .dataframe thead tr th {\n",
       "        text-align: left;\n",
       "    }\n",
       "</style>\n",
       "<table border=\"1\" class=\"dataframe\">\n",
       "  <thead>\n",
       "    <tr>\n",
       "      <th></th>\n",
       "      <th colspan=\"3\" halign=\"left\">ret_0</th>\n",
       "    </tr>\n",
       "    <tr>\n",
       "      <th></th>\n",
       "      <th>101</th>\n",
       "      <th>201</th>\n",
       "      <th>301</th>\n",
       "    </tr>\n",
       "  </thead>\n",
       "  <tbody>\n",
       "    <tr>\n",
       "      <th>2023-01-03 09:35:00-05:00</th>\n",
       "      <td>NaN</td>\n",
       "      <td>NaN</td>\n",
       "      <td>NaN</td>\n",
       "    </tr>\n",
       "    <tr>\n",
       "      <th>2023-01-03 09:40:00-05:00</th>\n",
       "      <td>0.000741</td>\n",
       "      <td>-0.00044</td>\n",
       "      <td>-0.000909</td>\n",
       "    </tr>\n",
       "    <tr>\n",
       "      <th>2023-01-03 09:45:00-05:00</th>\n",
       "      <td>-0.00117</td>\n",
       "      <td>0.00065</td>\n",
       "      <td>-0.000869</td>\n",
       "    </tr>\n",
       "    <tr>\n",
       "      <th></th>\n",
       "      <td>...</td>\n",
       "      <td>...</td>\n",
       "      <td>...</td>\n",
       "    </tr>\n",
       "    <tr>\n",
       "      <th>2023-01-03 11:20:00-05:00</th>\n",
       "      <td>0.000423</td>\n",
       "      <td>-0.000879</td>\n",
       "      <td>0.00025</td>\n",
       "    </tr>\n",
       "    <tr>\n",
       "      <th>2023-01-03 11:25:00-05:00</th>\n",
       "      <td>0.000756</td>\n",
       "      <td>0.00143</td>\n",
       "      <td>0.00049</td>\n",
       "    </tr>\n",
       "    <tr>\n",
       "      <th>2023-01-03 11:30:00-05:00</th>\n",
       "      <td>0.000201</td>\n",
       "      <td>0.000389</td>\n",
       "      <td>0.000889</td>\n",
       "    </tr>\n",
       "  </tbody>\n",
       "</table>\n",
       "</div>"
      ],
      "text/plain": [
       "                              ret_0                    \n",
       "                                101       201       301\n",
       "2023-01-03 09:35:00-05:00       NaN       NaN       NaN\n",
       "2023-01-03 09:40:00-05:00  0.000741  -0.00044 -0.000909\n",
       "2023-01-03 09:45:00-05:00  -0.00117   0.00065 -0.000869\n",
       "                                ...       ...       ...\n",
       "2023-01-03 11:20:00-05:00  0.000423 -0.000879   0.00025\n",
       "2023-01-03 11:25:00-05:00  0.000756   0.00143   0.00049\n",
       "2023-01-03 11:30:00-05:00  0.000201  0.000389  0.000889"
      ]
     },
     "metadata": {},
     "output_type": "display_data"
    },
    {
     "name": "stdout",
     "output_type": "stream",
     "text": [
      "DEBUG None\n"
     ]
    }
   ],
   "source": [
    "compute_rets_v2_df_out = compute_rets_node_v2.fit(market_data)[\"df_out\"]\n",
    "_LOG.debug(hpandas.df_to_str(compute_rets_v2_df_out))"
   ]
  },
  {
   "cell_type": "markdown",
   "id": "88915db7",
   "metadata": {},
   "source": [
    "#### Example"
   ]
  },
  {
   "cell_type": "markdown",
   "id": "0f25c606",
   "metadata": {},
   "source": [
    "Next we demonstrate a transformer node that requires multiple\n",
    "columns as input."
   ]
  },
  {
   "cell_type": "code",
   "execution_count": 15,
   "id": "471a3d6c",
   "metadata": {
    "ExecuteTime": {
     "end_time": "2023-09-20T14:34:22.897234Z",
     "start_time": "2023-09-20T14:34:22.876496Z"
    },
    "run_control": {
     "marked": true
    }
   },
   "outputs": [],
   "source": [
    "def compute_high_low_mean(df: pd.DataFrame) -> pd.DataFrame:\n",
    "    result = (df[\"high\"] + df[\"low\"]) / 2\n",
    "    result.name = \"high_low_mean\"\n",
    "    return result.to_frame()"
   ]
  },
  {
   "cell_type": "code",
   "execution_count": 16,
   "id": "5c2465ae",
   "metadata": {
    "ExecuteTime": {
     "end_time": "2023-09-20T14:34:22.917755Z",
     "start_time": "2023-09-20T14:34:22.898447Z"
    }
   },
   "outputs": [],
   "source": [
    "nid = \"compute_high_low_mean_node\"\n",
    "compute_high_low_mean_node = dtfcore.GroupedColDfToDfTransformer(\n",
    "    nid,\n",
    "    transformer_func=compute_high_low_mean,\n",
    "    in_col_groups=[\n",
    "        (\"high\",),\n",
    "        (\"low\",),\n",
    "    ],\n",
    "    out_col_group=(),\n",
    ")"
   ]
  },
  {
   "cell_type": "code",
   "execution_count": 17,
   "id": "7c1e3b73",
   "metadata": {
    "ExecuteTime": {
     "end_time": "2023-09-20T14:34:22.960321Z",
     "start_time": "2023-09-20T14:34:22.918928Z"
    }
   },
   "outputs": [
    {
     "name": "stdout",
     "output_type": "stream",
     "text": [
      "DEBUG out_col_names=['high', 'low']\n",
      "DEBUG keys=[101, 201, 301]\n",
      "DEBUG col group roots=[()]\n",
      "DEBUG Using symbol=`101` for reference index and columns\n"
     ]
    },
    {
     "data": {
      "text/html": [
       "<div>\n",
       "<style scoped>\n",
       "    .dataframe tbody tr th:only-of-type {\n",
       "        vertical-align: middle;\n",
       "    }\n",
       "\n",
       "    .dataframe tbody tr th {\n",
       "        vertical-align: top;\n",
       "    }\n",
       "\n",
       "    .dataframe thead tr th {\n",
       "        text-align: left;\n",
       "    }\n",
       "</style>\n",
       "<table border=\"1\" class=\"dataframe\">\n",
       "  <thead>\n",
       "    <tr>\n",
       "      <th></th>\n",
       "      <th colspan=\"3\" halign=\"left\">high_low_mean</th>\n",
       "      <th colspan=\"3\" halign=\"left\">open</th>\n",
       "      <th colspan=\"3\" halign=\"left\">high</th>\n",
       "      <th colspan=\"3\" halign=\"left\">low</th>\n",
       "      <th colspan=\"3\" halign=\"left\">close</th>\n",
       "      <th colspan=\"3\" halign=\"left\">volume</th>\n",
       "    </tr>\n",
       "    <tr>\n",
       "      <th></th>\n",
       "      <th>101</th>\n",
       "      <th>201</th>\n",
       "      <th>301</th>\n",
       "      <th>101</th>\n",
       "      <th>201</th>\n",
       "      <th>301</th>\n",
       "      <th>101</th>\n",
       "      <th>201</th>\n",
       "      <th>301</th>\n",
       "      <th>101</th>\n",
       "      <th>201</th>\n",
       "      <th>301</th>\n",
       "      <th>101</th>\n",
       "      <th>201</th>\n",
       "      <th>301</th>\n",
       "      <th>101</th>\n",
       "      <th>201</th>\n",
       "      <th>301</th>\n",
       "    </tr>\n",
       "  </thead>\n",
       "  <tbody>\n",
       "    <tr>\n",
       "      <th>2023-01-03 09:35:00-05:00</th>\n",
       "      <td>999.26</td>\n",
       "      <td>1000.53</td>\n",
       "      <td>1000.825</td>\n",
       "      <td>999.56</td>\n",
       "      <td>1000.01</td>\n",
       "      <td>1000.0</td>\n",
       "      <td>999.56</td>\n",
       "      <td>1001.05</td>\n",
       "      <td>1001.65</td>\n",
       "      <td>998.96</td>\n",
       "      <td>1000.01</td>\n",
       "      <td>1000.0</td>\n",
       "      <td>998.96</td>\n",
       "      <td>1000.72</td>\n",
       "      <td>1001.65</td>\n",
       "      <td>1002</td>\n",
       "      <td>970</td>\n",
       "      <td>935</td>\n",
       "    </tr>\n",
       "    <tr>\n",
       "      <th>2023-01-03 09:40:00-05:00</th>\n",
       "      <td>999.445</td>\n",
       "      <td>1000.65</td>\n",
       "      <td>1000.76</td>\n",
       "      <td>999.01</td>\n",
       "      <td>1000.51</td>\n",
       "      <td>1001.17</td>\n",
       "      <td>999.88</td>\n",
       "      <td>1001.02</td>\n",
       "      <td>1001.17</td>\n",
       "      <td>999.01</td>\n",
       "      <td>1000.28</td>\n",
       "      <td>1000.35</td>\n",
       "      <td>999.7</td>\n",
       "      <td>1000.28</td>\n",
       "      <td>1000.74</td>\n",
       "      <td>1015</td>\n",
       "      <td>985</td>\n",
       "      <td>948</td>\n",
       "    </tr>\n",
       "    <tr>\n",
       "      <th>2023-01-03 09:45:00-05:00</th>\n",
       "      <td>998.965</td>\n",
       "      <td>1001.005</td>\n",
       "      <td>1000.4</td>\n",
       "      <td>999.4</td>\n",
       "      <td>1000.91</td>\n",
       "      <td>1000.74</td>\n",
       "      <td>999.4</td>\n",
       "      <td>1001.14</td>\n",
       "      <td>1000.93</td>\n",
       "      <td>998.53</td>\n",
       "      <td>1000.87</td>\n",
       "      <td>999.87</td>\n",
       "      <td>998.53</td>\n",
       "      <td>1000.93</td>\n",
       "      <td>999.87</td>\n",
       "      <td>961</td>\n",
       "      <td>1006</td>\n",
       "      <td>997</td>\n",
       "    </tr>\n",
       "    <tr>\n",
       "      <th></th>\n",
       "      <td>...</td>\n",
       "      <td>...</td>\n",
       "      <td>...</td>\n",
       "      <td>...</td>\n",
       "      <td>...</td>\n",
       "      <td>...</td>\n",
       "      <td>...</td>\n",
       "      <td>...</td>\n",
       "      <td>...</td>\n",
       "      <td>...</td>\n",
       "      <td>...</td>\n",
       "      <td>...</td>\n",
       "      <td>...</td>\n",
       "      <td>...</td>\n",
       "      <td>...</td>\n",
       "      <td>...</td>\n",
       "      <td>...</td>\n",
       "      <td>...</td>\n",
       "    </tr>\n",
       "    <tr>\n",
       "      <th>2023-01-03 11:20:00-05:00</th>\n",
       "      <td>992.305</td>\n",
       "      <td>1000.295</td>\n",
       "      <td>1000.455</td>\n",
       "      <td>992.35</td>\n",
       "      <td>1000.33</td>\n",
       "      <td>1000.24</td>\n",
       "      <td>992.49</td>\n",
       "      <td>1000.62</td>\n",
       "      <td>1000.67</td>\n",
       "      <td>992.12</td>\n",
       "      <td>999.97</td>\n",
       "      <td>1000.24</td>\n",
       "      <td>992.38</td>\n",
       "      <td>999.97</td>\n",
       "      <td>1000.55</td>\n",
       "      <td>956</td>\n",
       "      <td>975</td>\n",
       "      <td>1019</td>\n",
       "    </tr>\n",
       "    <tr>\n",
       "      <th>2023-01-03 11:25:00-05:00</th>\n",
       "      <td>992.605</td>\n",
       "      <td>1001.04</td>\n",
       "      <td>1001.22</td>\n",
       "      <td>991.9</td>\n",
       "      <td>1000.5</td>\n",
       "      <td>1000.77</td>\n",
       "      <td>993.31</td>\n",
       "      <td>1001.58</td>\n",
       "      <td>1001.67</td>\n",
       "      <td>991.9</td>\n",
       "      <td>1000.5</td>\n",
       "      <td>1000.77</td>\n",
       "      <td>993.13</td>\n",
       "      <td>1001.4</td>\n",
       "      <td>1001.04</td>\n",
       "      <td>1011</td>\n",
       "      <td>972</td>\n",
       "      <td>1043</td>\n",
       "    </tr>\n",
       "    <tr>\n",
       "      <th>2023-01-03 11:30:00-05:00</th>\n",
       "      <td>992.97</td>\n",
       "      <td>1001.6</td>\n",
       "      <td>1001.98</td>\n",
       "      <td>992.54</td>\n",
       "      <td>1000.82</td>\n",
       "      <td>1001.58</td>\n",
       "      <td>993.4</td>\n",
       "      <td>1002.38</td>\n",
       "      <td>1002.38</td>\n",
       "      <td>992.54</td>\n",
       "      <td>1000.82</td>\n",
       "      <td>1001.58</td>\n",
       "      <td>993.33</td>\n",
       "      <td>1001.79</td>\n",
       "      <td>1001.93</td>\n",
       "      <td>1008</td>\n",
       "      <td>997</td>\n",
       "      <td>913</td>\n",
       "    </tr>\n",
       "  </tbody>\n",
       "</table>\n",
       "</div>"
      ],
      "text/plain": [
       "                          high_low_mean                        open                      high                       low                     close                   volume            \n",
       "                                    101       201       301     101      201      301     101      201      301     101      201      301     101      201      301    101   201   301\n",
       "2023-01-03 09:35:00-05:00        999.26   1000.53  1000.825  999.56  1000.01   1000.0  999.56  1001.05  1001.65  998.96  1000.01   1000.0  998.96  1000.72  1001.65   1002   970   935\n",
       "2023-01-03 09:40:00-05:00       999.445   1000.65   1000.76  999.01  1000.51  1001.17  999.88  1001.02  1001.17  999.01  1000.28  1000.35   999.7  1000.28  1000.74   1015   985   948\n",
       "2023-01-03 09:45:00-05:00       998.965  1001.005    1000.4   999.4  1000.91  1000.74   999.4  1001.14  1000.93  998.53  1000.87   999.87  998.53  1000.93   999.87    961  1006   997\n",
       "                                    ...       ...       ...     ...      ...      ...     ...      ...      ...     ...      ...      ...     ...      ...      ...    ...   ...   ...\n",
       "2023-01-03 11:20:00-05:00       992.305  1000.295  1000.455  992.35  1000.33  1000.24  992.49  1000.62  1000.67  992.12   999.97  1000.24  992.38   999.97  1000.55    956   975  1019\n",
       "2023-01-03 11:25:00-05:00       992.605   1001.04   1001.22   991.9   1000.5  1000.77  993.31  1001.58  1001.67   991.9   1000.5  1000.77  993.13   1001.4  1001.04   1011   972  1043\n",
       "2023-01-03 11:30:00-05:00        992.97    1001.6   1001.98  992.54  1000.82  1001.58   993.4  1002.38  1002.38  992.54  1000.82  1001.58  993.33  1001.79  1001.93   1008   997   913"
      ]
     },
     "metadata": {},
     "output_type": "display_data"
    },
    {
     "name": "stdout",
     "output_type": "stream",
     "text": [
      "DEBUG None\n"
     ]
    }
   ],
   "source": [
    "compute_high_low_mean_df_out = compute_high_low_mean_node.fit(market_data)[\n",
    "    \"df_out\"\n",
    "]\n",
    "_LOG.debug(hpandas.df_to_str(compute_high_low_mean_df_out))"
   ]
  },
  {
   "cell_type": "markdown",
   "id": "d1b5adcd",
   "metadata": {},
   "source": [
    "## Working with DAGs"
   ]
  },
  {
   "cell_type": "markdown",
   "id": "ca9cd0d0",
   "metadata": {},
   "source": [
    "We now introduce DataFlow DAGs.\n",
    "\n",
    "We begin by constructing an empty DAG. Next, we sequentially add\n",
    "computation nodes to the DAG. In this process, we will demonstrate\n",
    "ways to work with DAGs interactively in a notebook."
   ]
  },
  {
   "cell_type": "markdown",
   "id": "f9321984",
   "metadata": {},
   "source": [
    "### Instantiating a DAG"
   ]
  },
  {
   "cell_type": "code",
   "execution_count": 18,
   "id": "f353fe73",
   "metadata": {
    "ExecuteTime": {
     "end_time": "2023-09-20T14:34:22.982781Z",
     "start_time": "2023-09-20T14:34:22.961360Z"
    }
   },
   "outputs": [
    {
     "name": "stdout",
     "output_type": "stream",
     "text": [
      "DEBUG name='my_dag', mode=None\n",
      "DEBUG save_node_io='', profile_execution=False, dst_dir=None\n"
     ]
    },
    {
     "data": {
      "text/plain": [
       "<dataflow.core.dag.DAG at 0xffff3a2f1160>:\n",
       "  _nx_dag='DiGraph with 0 nodes and 0 edges' <networkx.classes.digraph.DiGraph>\n",
       "  _name='my_dag' <str>\n",
       "  _mode='strict' <str>\n",
       "  _save_node_io='' <str>\n",
       "  _profile_execution='False' <bool>\n",
       "  _dst_dir='None' <NoneType>\n",
       "  force_free_nodes='False' <bool>\n",
       "  nodes=[]\n",
       "  edges=[]\n",
       "  json=\n",
       "  {\n",
       "      \"directed\": true,\n",
       "      \"graph\": {},\n",
       "      \"links\": [],\n",
       "      \"multigraph\": false,\n",
       "      \"nodes\": []\n",
       "  }"
      ]
     },
     "metadata": {},
     "output_type": "display_data"
    }
   ],
   "source": [
    "name = \"my_dag\"\n",
    "dag = dtfcore.DAG(name=name)\n",
    "# Note that DAG objects can print information about their state.\n",
    "display(dag)"
   ]
  },
  {
   "cell_type": "markdown",
   "id": "1b6d7616",
   "metadata": {},
   "source": [
    "### Adding nodes to a DAG"
   ]
  },
  {
   "cell_type": "markdown",
   "id": "ed279963",
   "metadata": {},
   "source": [
    "For single-sink DAGs, the method `append_to_tail()` may\n",
    "be used to add nodes to a DAG. If the DAG is empty, this simply\n",
    "adds the node to the DAG as its only node.\n",
    "\n",
    "Complementing `append_to_tail()` is the method `insert_to_head()`,\n",
    "valid for single-source DAGs. This can be useful in cases where one\n",
    "wants to build a DAG independent of a particular data source (and\n",
    "then insert a data source as the last step prior to execution).\n",
    "\n",
    "Adding nodes for more complicated DAG topologies involves calling two\n",
    "methods: (1) `add_node()`, which registers the node with the DAG, and\n",
    "(2) `connect()`, which requires specifying parent and child nids for\n",
    "creating a directed edge from `parent` to `child`."
   ]
  },
  {
   "cell_type": "code",
   "execution_count": 19,
   "id": "ecc01399",
   "metadata": {
    "ExecuteTime": {
     "end_time": "2023-09-20T14:34:23.003209Z",
     "start_time": "2023-09-20T14:34:22.983790Z"
    }
   },
   "outputs": [],
   "source": [
    "nid = \"df_data_source\"\n",
    "df_data_source = dtfcore.DfDataSource(nid, market_data)\n",
    "dag.append_to_tail(df_data_source)"
   ]
  },
  {
   "cell_type": "markdown",
   "id": "ba89da72",
   "metadata": {},
   "source": [
    "Note that appending a node is not idempotent, i.e., invoking\n",
    "`dag.append_to_tail(df_data_source)` a second time will attempt to\n",
    "add the `df_data_source` node to the graph a second time, appending it\n",
    "to the existing `df_data_source` node. In this particular example,\n",
    "the operation will fail because the `nid` is the same (DAGs are\n",
    "prohibited from having two nodes with the same node id)."
   ]
  },
  {
   "cell_type": "code",
   "execution_count": 20,
   "id": "e4b7bd74",
   "metadata": {
    "ExecuteTime": {
     "end_time": "2023-09-20T14:34:23.024876Z",
     "start_time": "2023-09-20T14:34:23.004376Z"
    }
   },
   "outputs": [
    {
     "data": {
      "text/plain": [
       "<dataflow.core.dag.DAG at 0xffff3a2f1160>:\n",
       "  _nx_dag='DiGraph with 1 nodes and 0 edges' <networkx.classes.digraph.DiGraph>\n",
       "  _name='my_dag' <str>\n",
       "  _mode='strict' <str>\n",
       "  _save_node_io='' <str>\n",
       "  _profile_execution='False' <bool>\n",
       "  _dst_dir='None' <NoneType>\n",
       "  force_free_nodes='False' <bool>\n",
       "  nodes=[('df_data_source', {'stage': <dataflow.core.nodes.sources.DfDataSource object at 0xffff3a30ba60>})]\n",
       "  edges=[]\n",
       "  json=\n",
       "  {\n",
       "      \"directed\": true,\n",
       "      \"graph\": {},\n",
       "      \"links\": [],\n",
       "      \"multigraph\": false,\n",
       "      \"nodes\": [\n",
       "          {\n",
       "              \"id\": \"df_data_source\",\n",
       "              \"stage\": \"DfDataSource\"\n",
       "          }\n",
       "      ]\n",
       "  }"
      ]
     },
     "execution_count": 20,
     "metadata": {},
     "output_type": "execute_result"
    }
   ],
   "source": [
    "# The node \"df_data_source\" now appears in the DAG string representation.\n",
    "dag"
   ]
  },
  {
   "cell_type": "markdown",
   "id": "3316ebd8",
   "metadata": {},
   "source": [
    "Next, we append a return computation node to the DAG and again\n",
    "display the DAG's string representation."
   ]
  },
  {
   "cell_type": "code",
   "execution_count": 21,
   "id": "e42604c2",
   "metadata": {
    "ExecuteTime": {
     "end_time": "2023-09-20T14:34:23.046702Z",
     "start_time": "2023-09-20T14:34:23.026047Z"
    }
   },
   "outputs": [],
   "source": [
    "nid = \"compute_rets_node\"\n",
    "compute_rets_node = dtfcore.GroupedColDfToDfTransformer(\n",
    "    nid,\n",
    "    transformer_func=lambda x: x.pct_change(),\n",
    "    in_col_groups=[(\"close\",)],\n",
    "    out_col_group=(),\n",
    "    col_mapping={\"close\": \"ret_0\"},\n",
    ")"
   ]
  },
  {
   "cell_type": "code",
   "execution_count": 22,
   "id": "91a57d11",
   "metadata": {
    "ExecuteTime": {
     "end_time": "2023-09-20T14:34:23.068891Z",
     "start_time": "2023-09-20T14:34:23.048057Z"
    }
   },
   "outputs": [],
   "source": [
    "dag.append_to_tail(compute_rets_node)"
   ]
  },
  {
   "cell_type": "code",
   "execution_count": 23,
   "id": "657dd768",
   "metadata": {
    "ExecuteTime": {
     "end_time": "2023-09-20T14:34:23.089871Z",
     "start_time": "2023-09-20T14:34:23.070294Z"
    }
   },
   "outputs": [
    {
     "data": {
      "text/plain": [
       "<dataflow.core.dag.DAG at 0xffff3a2f1160>:\n",
       "  _nx_dag='DiGraph with 2 nodes and 1 edges' <networkx.classes.digraph.DiGraph>\n",
       "  _name='my_dag' <str>\n",
       "  _mode='strict' <str>\n",
       "  _save_node_io='' <str>\n",
       "  _profile_execution='False' <bool>\n",
       "  _dst_dir='None' <NoneType>\n",
       "  force_free_nodes='False' <bool>\n",
       "  nodes=[('df_data_source', {'stage': <dataflow.core.nodes.sources.DfDataSource object at 0xffff3a30ba60>}), ('compute_rets_node', {'stage': <dataflow.core.nodes.transformers.GroupedColDfToDfTransformer object at 0xffff3a51cc10>})]\n",
       "  edges=[('df_data_source', 'compute_rets_node', {'df_in': 'df_out'})]\n",
       "  json=\n",
       "  {\n",
       "      \"directed\": true,\n",
       "      \"graph\": {},\n",
       "      \"links\": [\n",
       "          {\n",
       "              \"df_in\": \"df_out\",\n",
       "              \"source\": \"df_data_source\",\n",
       "              \"target\": \"compute_rets_node\"\n",
       "          }\n",
       "      ],\n",
       "      \"multigraph\": false,\n",
       "      \"nodes\": [\n",
       "          {\n",
       "              \"id\": \"df_data_source\",\n",
       "              \"stage\": \"DfDataSource\"\n",
       "          },\n",
       "          {\n",
       "              \"id\": \"compute_rets_node\",\n",
       "              \"stage\": \"GroupedColDfToDfTransformer\"\n",
       "          }\n",
       "      ]\n",
       "  }"
      ]
     },
     "execution_count": 23,
     "metadata": {},
     "output_type": "execute_result"
    }
   ],
   "source": [
    "dag"
   ]
  },
  {
   "cell_type": "markdown",
   "id": "9a8cae71",
   "metadata": {},
   "source": [
    "Whether a DAG has a single source may be determined by calling\n",
    "`has_single_source()`.\n",
    "The source nid of a single-source DAG may be identified by calling\n",
    "`get_unique_source()`.\n",
    "If the source is in fact not unique, then the method will assert.\n",
    "\n",
    "Analogous functions exist for determining whether a single sink\n",
    "exists and for extracting its nid in the event that it does."
   ]
  },
  {
   "cell_type": "code",
   "execution_count": 24,
   "id": "545c4e12",
   "metadata": {
    "ExecuteTime": {
     "end_time": "2023-09-20T14:34:23.111481Z",
     "start_time": "2023-09-20T14:34:23.090836Z"
    }
   },
   "outputs": [
    {
     "data": {
      "text/plain": [
       "True"
      ]
     },
     "execution_count": 24,
     "metadata": {},
     "output_type": "execute_result"
    }
   ],
   "source": [
    "# `dag` has a unique source.\n",
    "dag.has_single_sink()"
   ]
  },
  {
   "cell_type": "code",
   "execution_count": 25,
   "id": "1bcfaf4a",
   "metadata": {
    "ExecuteTime": {
     "end_time": "2023-09-20T14:34:23.132148Z",
     "start_time": "2023-09-20T14:34:23.112759Z"
    }
   },
   "outputs": [
    {
     "data": {
      "text/plain": [
       "'df_data_source'"
      ]
     },
     "execution_count": 25,
     "metadata": {},
     "output_type": "execute_result"
    }
   ],
   "source": [
    "# This function returns the `nid` of the unique source.\n",
    "dag.get_unique_source()"
   ]
  },
  {
   "cell_type": "code",
   "execution_count": 26,
   "id": "5f8c03b3",
   "metadata": {
    "ExecuteTime": {
     "end_time": "2023-09-20T14:34:23.153520Z",
     "start_time": "2023-09-20T14:34:23.133051Z"
    }
   },
   "outputs": [
    {
     "data": {
      "text/plain": [
       "True"
      ]
     },
     "execution_count": 26,
     "metadata": {},
     "output_type": "execute_result"
    }
   ],
   "source": [
    "# `dag` has a unique sink.\n",
    "dag.has_single_sink()"
   ]
  },
  {
   "cell_type": "code",
   "execution_count": 27,
   "id": "03761941",
   "metadata": {
    "ExecuteTime": {
     "end_time": "2023-09-20T14:34:23.176704Z",
     "start_time": "2023-09-20T14:34:23.156031Z"
    }
   },
   "outputs": [
    {
     "data": {
      "text/plain": [
       "'compute_rets_node'"
      ]
     },
     "execution_count": 27,
     "metadata": {},
     "output_type": "execute_result"
    }
   ],
   "source": [
    "# This function returns the `nid` of the unique sink.\n",
    "dag.get_unique_sink()"
   ]
  },
  {
   "cell_type": "markdown",
   "id": "6dbc1c5f",
   "metadata": {},
   "source": [
    "### Visualizing a DAG"
   ]
  },
  {
   "cell_type": "markdown",
   "id": "cedae741",
   "metadata": {},
   "source": [
    "We may display the DAG in a notebook in the following way."
   ]
  },
  {
   "cell_type": "code",
   "execution_count": 28,
   "id": "c9cd1d4e",
   "metadata": {
    "ExecuteTime": {
     "end_time": "2023-09-20T14:34:23.215663Z",
     "start_time": "2023-09-20T14:34:23.177924Z"
    }
   },
   "outputs": [
    {
     "data": {
      "image/png": "[encoded data removed]",
      "text/plain": [
       "<IPython.core.display.Image object>"
      ]
     },
     "execution_count": 28,
     "metadata": {},
     "output_type": "execute_result"
    }
   ],
   "source": [
    "dtfcore.draw(dag)"
   ]
  },
  {
   "cell_type": "markdown",
   "id": "55f28626",
   "metadata": {},
   "source": [
    "The convenience function `dtfcore.draw_to_file()` may be used to save\n",
    "the image of the graph of a \".png\" file."
   ]
  },
  {
   "cell_type": "markdown",
   "id": "c4235177",
   "metadata": {},
   "source": [
    "### Executing DAGs"
   ]
  },
  {
   "cell_type": "markdown",
   "id": "5ea18a8b",
   "metadata": {},
   "source": [
    "DAGs are executed by specifying\n",
    "- the node whose results are desired\n",
    "- the mode of operation (\"fit\" or \"predict\")\n",
    "\n",
    "The function used for execution is `run_leq_node()`. As the naming\n",
    "suggests, all ancestor nodes of the result node specified are\n",
    "executed (always respecting topological order).\n",
    "\n",
    "Unless one deliberately introduces random effects in a DAG node,\n",
    "DAG execution is deterministic and idempotent, i.e.,\n",
    "running the same DAG in the same way on the same data\n",
    "yields the same results."
   ]
  },
  {
   "cell_type": "code",
   "execution_count": 29,
   "id": "8f8195a5",
   "metadata": {
    "ExecuteTime": {
     "end_time": "2023-09-20T14:34:23.274704Z",
     "start_time": "2023-09-20T14:34:23.216590Z"
    }
   },
   "outputs": [
    {
     "data": {
      "application/vnd.jupyter.widget-view+json": {
       "model_id": "c61d00480074449ea78f6c668ae2dc9b",
       "version_major": 2,
       "version_minor": 0
      },
      "text/plain": [
       "run_leq_node:   0%|          | 0/2 [00:00<?, ?it/s]"
      ]
     },
     "metadata": {},
     "output_type": "display_data"
    },
    {
     "name": "stdout",
     "output_type": "stream",
     "text": [
      "DEBUG Executing node 'df_data_source'\n",
      "DEBUG \n",
      "################################################################################\n",
      "Executing method 'fit' for node topological_id=0 nid='df_data_source' ...\n",
      "################################################################################\n",
      "DEBUG kwargs are {}\n",
      "DEBUG node_execution ...\n",
      "DEBUG node_execution done (0.004 s)\n",
      "DEBUG Executing node 'compute_rets_node'\n",
      "DEBUG \n",
      "################################################################################\n",
      "Executing method 'fit' for node topological_id=1 nid='compute_rets_node' ...\n",
      "################################################################################\n",
      "DEBUG pred_nid=df_data_source, nid=compute_rets_node\n",
      "DEBUG kwargs are {'df_in':                              open                      high                       low                     close                   volume            \n",
      "asset_id                      101      201      301     101      201      301     101      201      301     101      201      301    101   201   301\n",
      "end_datetime                                                                                                                                        \n",
      "2023-01-03 09:35:00-05:00  999.56  1000.01  1000.00  999.56  1001.05  1001.65  998.96  1000.01  1000.00  998.96  1000.72  1001.65   1002   970   935\n",
      "2023-01-03 09:40:00-05:00  999.01  1000.51  1001.17  999.88  1001.02  1001.17  999.01  1000.28  1000.35  999.70  1000.28  1000.74   1015   985   948\n",
      "2023-01-03 09:45:00-05:00  999.40  1000.91  1000.74  999.40  1001.14  1000.93  998.53  1000.87   999.87  998.53  1000.93   999.87    961  1006   997\n",
      "2023-01-03 09:50:00-05:00  998.08  1001.12  1000.58  998.20  1001.58  1001.53  997.39  1001.12  1000.58  997.56  1001.58  1001.53   1031  1005   977\n",
      "2023-01-03 09:55:00-05:00  997.17  1001.23  1001.80  997.17  1001.23  1001.80  996.42   999.75  1001.17  996.63   999.75  1001.17   1010  1022   988\n",
      "2023-01-03 10:00:00-05:00  995.88   999.42  1000.93  996.76   999.42  1000.93  995.71   998.16  1000.20  996.76   998.18  1000.20    944  1017   940\n",
      "2023-01-03 10:05:00-05:00  996.66   998.54  1000.53  996.66   998.59  1000.53  995.93   998.15   999.46  995.96   998.59   999.46    964   994  1022\n",
      "2023-01-03 10:10:00-05:00  996.57   998.47   999.36  997.00   999.10   999.99  996.57   998.47   999.22  996.89   998.69   999.99    998  1027  1050\n",
      "2023-01-03 10:15:00-05:00  996.63   998.83  1000.15  996.84   999.37  1000.49  996.34   998.59   999.92  996.65   998.59  1000.49    932  1023  1009\n",
      "2023-01-03 10:20:00-05:00  997.11   998.26  1000.74  997.18   998.26  1000.74  996.65   997.53   999.67  996.83   997.53   999.89   1012   996   985\n",
      "2023-01-03 10:25:00-05:00  996.30   998.08   999.74  996.51   999.20  1000.58  996.21   998.08   999.74  996.45   999.20  1000.58   1019   958   990\n",
      "2023-01-03 10:30:00-05:00  995.58   998.67  1001.23  995.58   999.16  1003.47  994.73   998.45  1001.23  994.73   998.59  1003.47    995   973   998\n",
      "2023-01-03 10:35:00-05:00  994.34   998.49  1003.55  994.34   998.80  1003.79  993.56   998.49  1002.80  993.56   998.76  1002.80   1011  1024  1081\n",
      "2023-01-03 10:40:00-05:00  992.74   998.41  1002.45  992.74   998.80  1002.79  992.11   998.41  1001.42  992.35   998.59  1001.42    947   983  1016\n",
      "2023-01-03 10:45:00-05:00  992.67   999.03  1001.29  992.67   999.95  1001.96  992.31   999.03  1001.19  992.36   999.95  1001.96   1049  1066  1057\n",
      "2023-01-03 10:50:00-05:00  991.81  1000.67  1002.05  991.81  1000.67  1002.29  991.35  1000.04  1001.38  991.35  1000.54  1001.48    986  1013  1013\n",
      "2023-01-03 10:55:00-05:00  991.27  1000.14  1001.74  991.48  1000.89  1002.91  990.78  1000.14  1001.74  990.78  1000.89  1002.91   1043  1013   956\n",
      "2023-01-03 11:00:00-05:00  991.46  1000.25  1002.21  991.90  1000.30  1002.34  990.89   999.60  1001.73  991.12  1000.30  1001.73   1000  1007   989\n",
      "2023-01-03 11:05:00-05:00  990.89  1001.11  1002.20  991.27  1001.11  1002.34  990.89  1000.17  1001.93  991.22  1001.09  1002.34    981   971  1050\n",
      "2023-01-03 11:10:00-05:00  991.03  1001.26  1001.77  992.26  1001.26  1002.20  990.99  1000.96  1001.77  992.26  1000.99  1001.78   1023  1001   990\n",
      "2023-01-03 11:15:00-05:00  992.18  1000.69  1000.90  992.59  1000.97  1000.90  991.96  1000.69  1000.30  991.96  1000.85  1000.30   1021   949  1045\n",
      "2023-01-03 11:20:00-05:00  992.35  1000.33  1000.24  992.49  1000.62  1000.67  992.12   999.97  1000.24  992.38   999.97  1000.55    956   975  1019\n",
      "2023-01-03 11:25:00-05:00  991.90  1000.50  1000.77  993.31  1001.58  1001.67  991.90  1000.50  1000.77  993.13  1001.40  1001.04   1011   972  1043\n",
      "2023-01-03 11:30:00-05:00  992.54  1000.82  1001.58  993.40  1002.38  1002.38  992.54  1000.82  1001.58  993.33  1001.79  1001.93   1008   997   913}\n",
      "DEBUG node_execution ...\n",
      "DEBUG out_col_names=['close']\n",
      "DEBUG keys=[101, 201, 301]\n",
      "DEBUG col group roots=[()]\n",
      "DEBUG Using symbol=`101` for reference index and columns\n",
      "DEBUG node_execution done (0.013 s)\n"
     ]
    },
    {
     "data": {
      "text/html": [
       "<div>\n",
       "<style scoped>\n",
       "    .dataframe tbody tr th:only-of-type {\n",
       "        vertical-align: middle;\n",
       "    }\n",
       "\n",
       "    .dataframe tbody tr th {\n",
       "        vertical-align: top;\n",
       "    }\n",
       "\n",
       "    .dataframe thead tr th {\n",
       "        text-align: left;\n",
       "    }\n",
       "</style>\n",
       "<table border=\"1\" class=\"dataframe\">\n",
       "  <thead>\n",
       "    <tr>\n",
       "      <th></th>\n",
       "      <th colspan=\"3\" halign=\"left\">ret_0</th>\n",
       "      <th colspan=\"3\" halign=\"left\">open</th>\n",
       "      <th colspan=\"3\" halign=\"left\">high</th>\n",
       "      <th colspan=\"3\" halign=\"left\">low</th>\n",
       "      <th colspan=\"3\" halign=\"left\">close</th>\n",
       "      <th colspan=\"3\" halign=\"left\">volume</th>\n",
       "    </tr>\n",
       "    <tr>\n",
       "      <th></th>\n",
       "      <th>101</th>\n",
       "      <th>201</th>\n",
       "      <th>301</th>\n",
       "      <th>101</th>\n",
       "      <th>201</th>\n",
       "      <th>301</th>\n",
       "      <th>101</th>\n",
       "      <th>201</th>\n",
       "      <th>301</th>\n",
       "      <th>101</th>\n",
       "      <th>201</th>\n",
       "      <th>301</th>\n",
       "      <th>101</th>\n",
       "      <th>201</th>\n",
       "      <th>301</th>\n",
       "      <th>101</th>\n",
       "      <th>201</th>\n",
       "      <th>301</th>\n",
       "    </tr>\n",
       "  </thead>\n",
       "  <tbody>\n",
       "    <tr>\n",
       "      <th>2023-01-03 09:35:00-05:00</th>\n",
       "      <td>NaN</td>\n",
       "      <td>NaN</td>\n",
       "      <td>NaN</td>\n",
       "      <td>999.56</td>\n",
       "      <td>1000.01</td>\n",
       "      <td>1000.0</td>\n",
       "      <td>999.56</td>\n",
       "      <td>1001.05</td>\n",
       "      <td>1001.65</td>\n",
       "      <td>998.96</td>\n",
       "      <td>1000.01</td>\n",
       "      <td>1000.0</td>\n",
       "      <td>998.96</td>\n",
       "      <td>1000.72</td>\n",
       "      <td>1001.65</td>\n",
       "      <td>1002</td>\n",
       "      <td>970</td>\n",
       "      <td>935</td>\n",
       "    </tr>\n",
       "    <tr>\n",
       "      <th>2023-01-03 09:40:00-05:00</th>\n",
       "      <td>0.000741</td>\n",
       "      <td>-0.00044</td>\n",
       "      <td>-0.000909</td>\n",
       "      <td>999.01</td>\n",
       "      <td>1000.51</td>\n",
       "      <td>1001.17</td>\n",
       "      <td>999.88</td>\n",
       "      <td>1001.02</td>\n",
       "      <td>1001.17</td>\n",
       "      <td>999.01</td>\n",
       "      <td>1000.28</td>\n",
       "      <td>1000.35</td>\n",
       "      <td>999.7</td>\n",
       "      <td>1000.28</td>\n",
       "      <td>1000.74</td>\n",
       "      <td>1015</td>\n",
       "      <td>985</td>\n",
       "      <td>948</td>\n",
       "    </tr>\n",
       "    <tr>\n",
       "      <th>2023-01-03 09:45:00-05:00</th>\n",
       "      <td>-0.00117</td>\n",
       "      <td>0.00065</td>\n",
       "      <td>-0.000869</td>\n",
       "      <td>999.4</td>\n",
       "      <td>1000.91</td>\n",
       "      <td>1000.74</td>\n",
       "      <td>999.4</td>\n",
       "      <td>1001.14</td>\n",
       "      <td>1000.93</td>\n",
       "      <td>998.53</td>\n",
       "      <td>1000.87</td>\n",
       "      <td>999.87</td>\n",
       "      <td>998.53</td>\n",
       "      <td>1000.93</td>\n",
       "      <td>999.87</td>\n",
       "      <td>961</td>\n",
       "      <td>1006</td>\n",
       "      <td>997</td>\n",
       "    </tr>\n",
       "    <tr>\n",
       "      <th></th>\n",
       "      <td>...</td>\n",
       "      <td>...</td>\n",
       "      <td>...</td>\n",
       "      <td>...</td>\n",
       "      <td>...</td>\n",
       "      <td>...</td>\n",
       "      <td>...</td>\n",
       "      <td>...</td>\n",
       "      <td>...</td>\n",
       "      <td>...</td>\n",
       "      <td>...</td>\n",
       "      <td>...</td>\n",
       "      <td>...</td>\n",
       "      <td>...</td>\n",
       "      <td>...</td>\n",
       "      <td>...</td>\n",
       "      <td>...</td>\n",
       "      <td>...</td>\n",
       "    </tr>\n",
       "    <tr>\n",
       "      <th>2023-01-03 11:20:00-05:00</th>\n",
       "      <td>0.000423</td>\n",
       "      <td>-0.000879</td>\n",
       "      <td>0.00025</td>\n",
       "      <td>992.35</td>\n",
       "      <td>1000.33</td>\n",
       "      <td>1000.24</td>\n",
       "      <td>992.49</td>\n",
       "      <td>1000.62</td>\n",
       "      <td>1000.67</td>\n",
       "      <td>992.12</td>\n",
       "      <td>999.97</td>\n",
       "      <td>1000.24</td>\n",
       "      <td>992.38</td>\n",
       "      <td>999.97</td>\n",
       "      <td>1000.55</td>\n",
       "      <td>956</td>\n",
       "      <td>975</td>\n",
       "      <td>1019</td>\n",
       "    </tr>\n",
       "    <tr>\n",
       "      <th>2023-01-03 11:25:00-05:00</th>\n",
       "      <td>0.000756</td>\n",
       "      <td>0.00143</td>\n",
       "      <td>0.00049</td>\n",
       "      <td>991.9</td>\n",
       "      <td>1000.5</td>\n",
       "      <td>1000.77</td>\n",
       "      <td>993.31</td>\n",
       "      <td>1001.58</td>\n",
       "      <td>1001.67</td>\n",
       "      <td>991.9</td>\n",
       "      <td>1000.5</td>\n",
       "      <td>1000.77</td>\n",
       "      <td>993.13</td>\n",
       "      <td>1001.4</td>\n",
       "      <td>1001.04</td>\n",
       "      <td>1011</td>\n",
       "      <td>972</td>\n",
       "      <td>1043</td>\n",
       "    </tr>\n",
       "    <tr>\n",
       "      <th>2023-01-03 11:30:00-05:00</th>\n",
       "      <td>0.000201</td>\n",
       "      <td>0.000389</td>\n",
       "      <td>0.000889</td>\n",
       "      <td>992.54</td>\n",
       "      <td>1000.82</td>\n",
       "      <td>1001.58</td>\n",
       "      <td>993.4</td>\n",
       "      <td>1002.38</td>\n",
       "      <td>1002.38</td>\n",
       "      <td>992.54</td>\n",
       "      <td>1000.82</td>\n",
       "      <td>1001.58</td>\n",
       "      <td>993.33</td>\n",
       "      <td>1001.79</td>\n",
       "      <td>1001.93</td>\n",
       "      <td>1008</td>\n",
       "      <td>997</td>\n",
       "      <td>913</td>\n",
       "    </tr>\n",
       "  </tbody>\n",
       "</table>\n",
       "</div>"
      ],
      "text/plain": [
       "                              ret_0                        open                      high                       low                     close                   volume            \n",
       "                                101       201       301     101      201      301     101      201      301     101      201      301     101      201      301    101   201   301\n",
       "2023-01-03 09:35:00-05:00       NaN       NaN       NaN  999.56  1000.01   1000.0  999.56  1001.05  1001.65  998.96  1000.01   1000.0  998.96  1000.72  1001.65   1002   970   935\n",
       "2023-01-03 09:40:00-05:00  0.000741  -0.00044 -0.000909  999.01  1000.51  1001.17  999.88  1001.02  1001.17  999.01  1000.28  1000.35   999.7  1000.28  1000.74   1015   985   948\n",
       "2023-01-03 09:45:00-05:00  -0.00117   0.00065 -0.000869   999.4  1000.91  1000.74   999.4  1001.14  1000.93  998.53  1000.87   999.87  998.53  1000.93   999.87    961  1006   997\n",
       "                                ...       ...       ...     ...      ...      ...     ...      ...      ...     ...      ...      ...     ...      ...      ...    ...   ...   ...\n",
       "2023-01-03 11:20:00-05:00  0.000423 -0.000879   0.00025  992.35  1000.33  1000.24  992.49  1000.62  1000.67  992.12   999.97  1000.24  992.38   999.97  1000.55    956   975  1019\n",
       "2023-01-03 11:25:00-05:00  0.000756   0.00143   0.00049   991.9   1000.5  1000.77  993.31  1001.58  1001.67   991.9   1000.5  1000.77  993.13   1001.4  1001.04   1011   972  1043\n",
       "2023-01-03 11:30:00-05:00  0.000201  0.000389  0.000889  992.54  1000.82  1001.58   993.4  1002.38  1002.38  992.54  1000.82  1001.58  993.33  1001.79  1001.93   1008   997   913"
      ]
     },
     "metadata": {},
     "output_type": "display_data"
    },
    {
     "name": "stdout",
     "output_type": "stream",
     "text": [
      "DEBUG None\n"
     ]
    }
   ],
   "source": [
    "# An example DAG execution.\n",
    "dag_df_out = dag.run_leq_node(\"compute_rets_node\", \"fit\")[\"df_out\"]\n",
    "_LOG.debug(hpandas.df_to_str(dag_df_out))"
   ]
  },
  {
   "cell_type": "markdown",
   "id": "c0126815",
   "metadata": {},
   "source": [
    "Note that one need not specify the sink node when executing a DAG.\n",
    "Specifying execution up to an intermediate node or even source node\n",
    "is useful for verifying the correctness of data transformations and\n",
    "debugging potential issues or unexpected behavior.\n",
    "\n",
    "In the following example, we specify the source node."
   ]
  },
  {
   "cell_type": "code",
   "execution_count": 30,
   "id": "2c166844",
   "metadata": {
    "ExecuteTime": {
     "end_time": "2023-09-20T14:34:23.312861Z",
     "start_time": "2023-09-20T14:34:23.275618Z"
    }
   },
   "outputs": [
    {
     "data": {
      "application/vnd.jupyter.widget-view+json": {
       "model_id": "b10c4df6bace4830bf3da203cc3482c9",
       "version_major": 2,
       "version_minor": 0
      },
      "text/plain": [
       "run_leq_node:   0%|          | 0/1 [00:00<?, ?it/s]"
      ]
     },
     "metadata": {},
     "output_type": "display_data"
    },
    {
     "name": "stdout",
     "output_type": "stream",
     "text": [
      "DEBUG Executing node 'df_data_source'\n",
      "DEBUG \n",
      "################################################################################\n",
      "Executing method 'fit' for node topological_id=0 nid='df_data_source' ...\n",
      "################################################################################\n",
      "DEBUG kwargs are {}\n",
      "DEBUG node_execution ...\n",
      "DEBUG node_execution done (0.004 s)\n"
     ]
    },
    {
     "data": {
      "text/html": [
       "<div>\n",
       "<style scoped>\n",
       "    .dataframe tbody tr th:only-of-type {\n",
       "        vertical-align: middle;\n",
       "    }\n",
       "\n",
       "    .dataframe tbody tr th {\n",
       "        vertical-align: top;\n",
       "    }\n",
       "\n",
       "    .dataframe thead tr th {\n",
       "        text-align: left;\n",
       "    }\n",
       "</style>\n",
       "<table border=\"1\" class=\"dataframe\">\n",
       "  <thead>\n",
       "    <tr>\n",
       "      <th></th>\n",
       "      <th colspan=\"3\" halign=\"left\">open</th>\n",
       "      <th colspan=\"3\" halign=\"left\">high</th>\n",
       "      <th colspan=\"3\" halign=\"left\">low</th>\n",
       "      <th colspan=\"3\" halign=\"left\">close</th>\n",
       "      <th colspan=\"3\" halign=\"left\">volume</th>\n",
       "    </tr>\n",
       "    <tr>\n",
       "      <th>asset_id</th>\n",
       "      <th>101</th>\n",
       "      <th>201</th>\n",
       "      <th>301</th>\n",
       "      <th>101</th>\n",
       "      <th>201</th>\n",
       "      <th>301</th>\n",
       "      <th>101</th>\n",
       "      <th>201</th>\n",
       "      <th>301</th>\n",
       "      <th>101</th>\n",
       "      <th>201</th>\n",
       "      <th>301</th>\n",
       "      <th>101</th>\n",
       "      <th>201</th>\n",
       "      <th>301</th>\n",
       "    </tr>\n",
       "  </thead>\n",
       "  <tbody>\n",
       "    <tr>\n",
       "      <th>2023-01-03 09:35:00-05:00</th>\n",
       "      <td>999.56</td>\n",
       "      <td>1000.01</td>\n",
       "      <td>1000.0</td>\n",
       "      <td>999.56</td>\n",
       "      <td>1001.05</td>\n",
       "      <td>1001.65</td>\n",
       "      <td>998.96</td>\n",
       "      <td>1000.01</td>\n",
       "      <td>1000.0</td>\n",
       "      <td>998.96</td>\n",
       "      <td>1000.72</td>\n",
       "      <td>1001.65</td>\n",
       "      <td>1002</td>\n",
       "      <td>970</td>\n",
       "      <td>935</td>\n",
       "    </tr>\n",
       "    <tr>\n",
       "      <th>2023-01-03 09:40:00-05:00</th>\n",
       "      <td>999.01</td>\n",
       "      <td>1000.51</td>\n",
       "      <td>1001.17</td>\n",
       "      <td>999.88</td>\n",
       "      <td>1001.02</td>\n",
       "      <td>1001.17</td>\n",
       "      <td>999.01</td>\n",
       "      <td>1000.28</td>\n",
       "      <td>1000.35</td>\n",
       "      <td>999.7</td>\n",
       "      <td>1000.28</td>\n",
       "      <td>1000.74</td>\n",
       "      <td>1015</td>\n",
       "      <td>985</td>\n",
       "      <td>948</td>\n",
       "    </tr>\n",
       "    <tr>\n",
       "      <th>2023-01-03 09:45:00-05:00</th>\n",
       "      <td>999.4</td>\n",
       "      <td>1000.91</td>\n",
       "      <td>1000.74</td>\n",
       "      <td>999.4</td>\n",
       "      <td>1001.14</td>\n",
       "      <td>1000.93</td>\n",
       "      <td>998.53</td>\n",
       "      <td>1000.87</td>\n",
       "      <td>999.87</td>\n",
       "      <td>998.53</td>\n",
       "      <td>1000.93</td>\n",
       "      <td>999.87</td>\n",
       "      <td>961</td>\n",
       "      <td>1006</td>\n",
       "      <td>997</td>\n",
       "    </tr>\n",
       "    <tr>\n",
       "      <th></th>\n",
       "      <td>...</td>\n",
       "      <td>...</td>\n",
       "      <td>...</td>\n",
       "      <td>...</td>\n",
       "      <td>...</td>\n",
       "      <td>...</td>\n",
       "      <td>...</td>\n",
       "      <td>...</td>\n",
       "      <td>...</td>\n",
       "      <td>...</td>\n",
       "      <td>...</td>\n",
       "      <td>...</td>\n",
       "      <td>...</td>\n",
       "      <td>...</td>\n",
       "      <td>...</td>\n",
       "    </tr>\n",
       "    <tr>\n",
       "      <th>2023-01-03 11:20:00-05:00</th>\n",
       "      <td>992.35</td>\n",
       "      <td>1000.33</td>\n",
       "      <td>1000.24</td>\n",
       "      <td>992.49</td>\n",
       "      <td>1000.62</td>\n",
       "      <td>1000.67</td>\n",
       "      <td>992.12</td>\n",
       "      <td>999.97</td>\n",
       "      <td>1000.24</td>\n",
       "      <td>992.38</td>\n",
       "      <td>999.97</td>\n",
       "      <td>1000.55</td>\n",
       "      <td>956</td>\n",
       "      <td>975</td>\n",
       "      <td>1019</td>\n",
       "    </tr>\n",
       "    <tr>\n",
       "      <th>2023-01-03 11:25:00-05:00</th>\n",
       "      <td>991.9</td>\n",
       "      <td>1000.5</td>\n",
       "      <td>1000.77</td>\n",
       "      <td>993.31</td>\n",
       "      <td>1001.58</td>\n",
       "      <td>1001.67</td>\n",
       "      <td>991.9</td>\n",
       "      <td>1000.5</td>\n",
       "      <td>1000.77</td>\n",
       "      <td>993.13</td>\n",
       "      <td>1001.4</td>\n",
       "      <td>1001.04</td>\n",
       "      <td>1011</td>\n",
       "      <td>972</td>\n",
       "      <td>1043</td>\n",
       "    </tr>\n",
       "    <tr>\n",
       "      <th>2023-01-03 11:30:00-05:00</th>\n",
       "      <td>992.54</td>\n",
       "      <td>1000.82</td>\n",
       "      <td>1001.58</td>\n",
       "      <td>993.4</td>\n",
       "      <td>1002.38</td>\n",
       "      <td>1002.38</td>\n",
       "      <td>992.54</td>\n",
       "      <td>1000.82</td>\n",
       "      <td>1001.58</td>\n",
       "      <td>993.33</td>\n",
       "      <td>1001.79</td>\n",
       "      <td>1001.93</td>\n",
       "      <td>1008</td>\n",
       "      <td>997</td>\n",
       "      <td>913</td>\n",
       "    </tr>\n",
       "  </tbody>\n",
       "</table>\n",
       "</div>"
      ],
      "text/plain": [
       "                             open                      high                       low                     close                   volume            \n",
       "asset_id                      101      201      301     101      201      301     101      201      301     101      201      301    101   201   301\n",
       "2023-01-03 09:35:00-05:00  999.56  1000.01   1000.0  999.56  1001.05  1001.65  998.96  1000.01   1000.0  998.96  1000.72  1001.65   1002   970   935\n",
       "2023-01-03 09:40:00-05:00  999.01  1000.51  1001.17  999.88  1001.02  1001.17  999.01  1000.28  1000.35   999.7  1000.28  1000.74   1015   985   948\n",
       "2023-01-03 09:45:00-05:00   999.4  1000.91  1000.74   999.4  1001.14  1000.93  998.53  1000.87   999.87  998.53  1000.93   999.87    961  1006   997\n",
       "                              ...      ...      ...     ...      ...      ...     ...      ...      ...     ...      ...      ...    ...   ...   ...\n",
       "2023-01-03 11:20:00-05:00  992.35  1000.33  1000.24  992.49  1000.62  1000.67  992.12   999.97  1000.24  992.38   999.97  1000.55    956   975  1019\n",
       "2023-01-03 11:25:00-05:00   991.9   1000.5  1000.77  993.31  1001.58  1001.67   991.9   1000.5  1000.77  993.13   1001.4  1001.04   1011   972  1043\n",
       "2023-01-03 11:30:00-05:00  992.54  1000.82  1001.58   993.4  1002.38  1002.38  992.54  1000.82  1001.58  993.33  1001.79  1001.93   1008   997   913"
      ]
     },
     "metadata": {},
     "output_type": "display_data"
    },
    {
     "name": "stdout",
     "output_type": "stream",
     "text": [
      "DEBUG None\n"
     ]
    }
   ],
   "source": [
    "dag_source_df_out = dag.run_leq_node(\"df_data_source\", \"fit\")[\"df_out\"]\n",
    "_LOG.debug(hpandas.df_to_str(dag_source_df_out))"
   ]
  },
  {
   "cell_type": "markdown",
   "id": "7b7322fe",
   "metadata": {},
   "source": [
    "### Interactive DAG construction in a notebook"
   ]
  },
  {
   "cell_type": "markdown",
   "id": "6fda821d",
   "metadata": {},
   "source": [
    "In this section we introduce a feature of DAGs that can be particularly\n",
    "useful in interactive notebook sessions.\n",
    "\n",
    "A common workflow is to rapidly develop a prototype of a data transformation\n",
    "step in a notebook, then wrap the transformation in a DAG node or break it\n",
    "into a handful of steps, each with its own node.\n",
    "\n",
    "This process often involves some level of experimentation. For example, one\n",
    "may begin by wrapping a large transformation into a single node, only to\n",
    "decide later to split it into multiple nodes. Alternatively, one may decide\n",
    "to add a preprocessing step to the computational pipeline. In either case,\n",
    "the update requires making a change to the DAG.\n",
    "\n",
    "Changing the DAG can always be accomplished by re-instatiating the object\n",
    "and repeating the necessary construction steps. However, sometimes it is\n",
    "more convenient to alter the DAG in-place.\n",
    "\n",
    "The most basic ways to alter the DAG in-place are to use the following methods:\n",
    "- `add_node()`\n",
    "- `connect()`\n",
    "- `remove_node()`\n",
    "\n",
    "We note that calling `remove_node()` removes all connections to or from the\n",
    "node to be removed.\n",
    "\n",
    "In the default DAG mode, `mode=\"strict\"`, `add_node()` is not idempotent.\n",
    "Calling it twice with the same node will result in an assertion.\n",
    "If, however, the DAG is instantiated with `mode=\"loose\"`, then `add_node()`\n",
    "becomes idempotent in the sense that the DAG will be the same whether the\n",
    "method is invoked one time or multiple times.\n",
    "\n",
    "Beyond that behavior, invoking `add_node()` on a node that already belongs\n",
    "to the DAG will\n",
    "- Remove the node to be added\n",
    "- Remove all of that node's successors and incident edges\n",
    "- Re-add the node to the graph (but not incident edges or successors)\n",
    "\n",
    "This behavior makes it easier to re-run DAG construction notebook cells\n",
    "without requiring a complete re-instantiation and re-build. In order\n",
    "to take advantages of this behavior, one must use the lower-level methods\n",
    "`add_node()` and `connect()` rather than the convenience method `append_to_tail()`."
   ]
  },
  {
   "cell_type": "markdown",
   "id": "a9a3d195",
   "metadata": {},
   "source": [
    "In the following, we demonstrate how to build a DAG with these methods\n",
    "and show how the behavior is idempotent."
   ]
  },
  {
   "cell_type": "code",
   "execution_count": 31,
   "id": "f491ad26",
   "metadata": {
    "ExecuteTime": {
     "end_time": "2023-09-20T14:34:23.339645Z",
     "start_time": "2023-09-20T14:34:23.314139Z"
    }
   },
   "outputs": [
    {
     "name": "stdout",
     "output_type": "stream",
     "text": [
      "DEBUG name='my_dag', mode='loose'\n",
      "DEBUG save_node_io='', profile_execution=False, dst_dir=None\n"
     ]
    },
    {
     "data": {
      "text/plain": [
       "<dataflow.core.dag.DAG at 0xffff3a546370>:\n",
       "  _nx_dag='DiGraph with 0 nodes and 0 edges' <networkx.classes.digraph.DiGraph>\n",
       "  _name='my_dag' <str>\n",
       "  _mode='loose' <str>\n",
       "  _save_node_io='' <str>\n",
       "  _profile_execution='False' <bool>\n",
       "  _dst_dir='None' <NoneType>\n",
       "  force_free_nodes='False' <bool>\n",
       "  nodes=[]\n",
       "  edges=[]\n",
       "  json=\n",
       "  {\n",
       "      \"directed\": true,\n",
       "      \"graph\": {},\n",
       "      \"links\": [],\n",
       "      \"multigraph\": false,\n",
       "      \"nodes\": []\n",
       "  }"
      ]
     },
     "metadata": {},
     "output_type": "display_data"
    }
   ],
   "source": [
    "name = \"my_dag\"\n",
    "# The default `mode` is \"strict\".\n",
    "mode = \"loose\"\n",
    "dag = dtfcore.DAG(name=name, mode=mode)\n",
    "# Note that DAG objects can print information about their state.\n",
    "display(dag)"
   ]
  },
  {
   "cell_type": "code",
   "execution_count": 32,
   "id": "36acd278",
   "metadata": {
    "ExecuteTime": {
     "end_time": "2023-09-20T14:34:23.379296Z",
     "start_time": "2023-09-20T14:34:23.341511Z"
    }
   },
   "outputs": [
    {
     "data": {
      "image/png": "[encoded data removed]",
      "text/plain": [
       "<IPython.core.display.Image object>"
      ]
     },
     "execution_count": 32,
     "metadata": {},
     "output_type": "execute_result"
    }
   ],
   "source": [
    "# Specify the data source node.\n",
    "nid = \"df_data_source\"\n",
    "df_data_source = dtfcore.DfDataSource(nid, market_data)\n",
    "# Add the data source node to the DAG.\n",
    "dag.add_node(df_data_source)\n",
    "# Draw the DAG.\n",
    "dtfcore.draw(dag)"
   ]
  },
  {
   "cell_type": "code",
   "execution_count": 33,
   "id": "bdcf05c3",
   "metadata": {
    "ExecuteTime": {
     "end_time": "2023-09-20T14:34:23.426578Z",
     "start_time": "2023-09-20T14:34:23.380242Z"
    }
   },
   "outputs": [
    {
     "name": "stdout",
     "output_type": "stream",
     "text": [
      "WARNING Node `df_data_source` is already in DAG. Removing existing node, successors, and all incident edges of such nodes\n",
      "WARNING Removing nid=df_data_source\n"
     ]
    },
    {
     "data": {
      "image/png": "[encoded data removed]",
      "text/plain": [
       "<IPython.core.display.Image object>"
      ]
     },
     "execution_count": 33,
     "metadata": {},
     "output_type": "execute_result"
    }
   ],
   "source": [
    "# Call `add_node()` a second time.\n",
    "dag.add_node(df_data_source)\n",
    "# Draw the DAG.\n",
    "dtfcore.draw(dag)"
   ]
  },
  {
   "cell_type": "code",
   "execution_count": 34,
   "id": "e3e5575a",
   "metadata": {
    "ExecuteTime": {
     "end_time": "2023-09-20T14:34:23.463416Z",
     "start_time": "2023-09-20T14:34:23.427804Z"
    }
   },
   "outputs": [
    {
     "data": {
      "image/png": "[encoded data removed]",
      "text/plain": [
       "<IPython.core.display.Image object>"
      ]
     },
     "execution_count": 34,
     "metadata": {},
     "output_type": "execute_result"
    }
   ],
   "source": [
    "# Specify a return computation node.\n",
    "nid = \"compute_rets_node\"\n",
    "compute_rets_node = dtfcore.GroupedColDfToDfTransformer(\n",
    "    nid,\n",
    "    transformer_func=lambda x: x.pct_change(),\n",
    "    in_col_groups=[(\"close\",)],\n",
    "    out_col_group=(),\n",
    "    col_mapping={\"close\": \"ret_0\"},\n",
    ")\n",
    "# Draw the DAG.\n",
    "dtfcore.draw(dag)"
   ]
  },
  {
   "cell_type": "code",
   "execution_count": 35,
   "id": "78be3781",
   "metadata": {
    "ExecuteTime": {
     "end_time": "2023-09-20T14:34:23.500538Z",
     "start_time": "2023-09-20T14:34:23.464403Z"
    }
   },
   "outputs": [
    {
     "data": {
      "image/png": "[encoded data removed]",
      "text/plain": [
       "<IPython.core.display.Image object>"
      ]
     },
     "execution_count": 35,
     "metadata": {},
     "output_type": "execute_result"
    }
   ],
   "source": [
    "# Add the return computation node to the graph.\n",
    "dag.add_node(compute_rets_node)\n",
    "# Connect the data source node to the return computation node.\n",
    "dag.connect(\"df_data_source\", \"compute_rets_node\")\n",
    "# Draw the DAG.\n",
    "dtfcore.draw(dag)"
   ]
  },
  {
   "cell_type": "code",
   "execution_count": 36,
   "id": "f3f30256",
   "metadata": {
    "ExecuteTime": {
     "end_time": "2023-09-20T14:34:23.538763Z",
     "start_time": "2023-09-20T14:34:23.501406Z"
    }
   },
   "outputs": [
    {
     "name": "stdout",
     "output_type": "stream",
     "text": [
      "WARNING Node `compute_rets_node` is already in DAG. Removing existing node, successors, and all incident edges of such nodes\n",
      "WARNING Removing nid=compute_rets_node\n"
     ]
    },
    {
     "data": {
      "image/png": "[encoded data removed]",
      "text/plain": [
       "<IPython.core.display.Image object>"
      ]
     },
     "execution_count": 36,
     "metadata": {},
     "output_type": "execute_result"
    }
   ],
   "source": [
    "# Call `add_node()` a second time with `compute_rets_node`.\n",
    "dag.add_node(compute_rets_node)\n",
    "# Draw the DAG.\n",
    "dtfcore.draw(dag)"
   ]
  },
  {
   "cell_type": "code",
   "execution_count": 37,
   "id": "02b4c035",
   "metadata": {
    "ExecuteTime": {
     "end_time": "2023-09-20T14:34:23.576379Z",
     "start_time": "2023-09-20T14:34:23.539814Z"
    }
   },
   "outputs": [
    {
     "data": {
      "image/png": "[encoded data removed]",
      "text/plain": [
       "<IPython.core.display.Image object>"
      ]
     },
     "execution_count": 37,
     "metadata": {},
     "output_type": "execute_result"
    }
   ],
   "source": [
    "# Re-connect the data source node to the return computation node.\n",
    "dag.connect(\"df_data_source\", \"compute_rets_node\")\n",
    "# Draw the DAG.\n",
    "dtfcore.draw(dag)"
   ]
  },
  {
   "cell_type": "markdown",
   "id": "dcc24d9d",
   "metadata": {},
   "source": [
    "# Cookbook Examples"
   ]
  },
  {
   "cell_type": "markdown",
   "id": "9e1d5501",
   "metadata": {},
   "source": [
    "## Resampling OHLCV bars"
   ]
  },
  {
   "cell_type": "markdown",
   "id": "67e35713",
   "metadata": {},
   "source": [
    "In this example, we resample OHLCV data, returning OHLCV columns as\n",
    "well as TWAP and VWAP prices computed from the input \"close\" prices.\n",
    "\n",
    "The output frequency of the data is specified with a string following\n",
    "pandas' semantics, e.g,. \"10T\" would denote 10 minutes, and \"1B\" would\n",
    "denote 1 business day.\n",
    "\n",
    "The resampling example provided here is not the only way to implement\n",
    "resampling. Any user-defined resampling procedure could be used instead."
   ]
  },
  {
   "cell_type": "code",
   "execution_count": 38,
   "id": "037b8efc",
   "metadata": {
    "ExecuteTime": {
     "end_time": "2023-09-20T14:34:23.599326Z",
     "start_time": "2023-09-20T14:34:23.577632Z"
    }
   },
   "outputs": [],
   "source": [
    "# This controls the output data frequency.\n",
    "resampling_rule = \"30T\"\n",
    "# This is a configuration for the resampling node.\n",
    "# - \"in_col_groups\" specifies the input columns to feed to the node\n",
    "# - \"out_col_group\" is unused and should be set to an empty tuple\n",
    "# - \"transformer_kwargs\" consists of arguments to be forward to `transformer_func`,\n",
    "#   which in this case is `cofinanc.resample_bars()`. This may be replaced with any\n",
    "#   user-defined function as desired.\n",
    "# - \"reindex_like_input\" is `True` by default, but set to `False` here, because a\n",
    "#   resampling operation in general changes the index\n",
    "# - \"join_output_with_input\" is `True` by default (columns are appended), but set\n",
    "#   to `False` here, since we wish to replace the input data with the resampled data\n",
    "node_config = {\n",
    "    \"in_col_groups\": [\n",
    "        (\"close\",),\n",
    "        (\"high\",),\n",
    "        (\"low\",),\n",
    "        (\"open\",),\n",
    "        (\"volume\",),\n",
    "    ],\n",
    "    \"out_col_group\": (),\n",
    "    \"transformer_kwargs\": {\n",
    "        \"rule\": resampling_rule,\n",
    "        \"resampling_groups\": [\n",
    "            ({\"close\": \"close\"}, \"last\", {}),\n",
    "            ({\"high\": \"high\"}, \"max\", {}),\n",
    "            ({\"low\": \"low\"}, \"min\", {}),\n",
    "            ({\"open\": \"open\"}, \"first\", {}),\n",
    "            (\n",
    "                {\"volume\": \"volume\"},\n",
    "                \"sum\",\n",
    "                {\"min_count\": 1},\n",
    "            ),\n",
    "            (\n",
    "                {\n",
    "                    \"close\": \"twap\",\n",
    "                },\n",
    "                \"mean\",\n",
    "                {},\n",
    "            ),\n",
    "        ],\n",
    "        \"vwap_groups\": [\n",
    "            (\"close\", \"volume\", \"vwap\"),\n",
    "        ],\n",
    "    },\n",
    "    \"reindex_like_input\": False,\n",
    "    \"join_output_with_input\": False,\n",
    "}\n",
    "nid = \"resample\"\n",
    "node = dtfcore.GroupedColDfToDfTransformer(\n",
    "    nid,\n",
    "    transformer_func=cofinanc.resample_bars,\n",
    "    **node_config,\n",
    ")"
   ]
  },
  {
   "cell_type": "code",
   "execution_count": 39,
   "id": "c45cdbab",
   "metadata": {
    "ExecuteTime": {
     "end_time": "2023-09-20T14:34:23.664170Z",
     "start_time": "2023-09-20T14:34:23.600759Z"
    }
   },
   "outputs": [
    {
     "name": "stdout",
     "output_type": "stream",
     "text": [
      "DEBUG out_col_names=['close', 'high', 'low', 'open', 'volume']\n",
      "DEBUG keys=[101, 201, 301]\n",
      "DEBUG col group roots=[()]\n",
      "DEBUG Using symbol=`101` for reference index and columns\n"
     ]
    },
    {
     "data": {
      "text/html": [
       "<div>\n",
       "<style scoped>\n",
       "    .dataframe tbody tr th:only-of-type {\n",
       "        vertical-align: middle;\n",
       "    }\n",
       "\n",
       "    .dataframe tbody tr th {\n",
       "        vertical-align: top;\n",
       "    }\n",
       "\n",
       "    .dataframe thead tr th {\n",
       "        text-align: left;\n",
       "    }\n",
       "\n",
       "    .dataframe thead tr:last-of-type th {\n",
       "        text-align: right;\n",
       "    }\n",
       "</style>\n",
       "<table border=\"1\" class=\"dataframe\">\n",
       "  <thead>\n",
       "    <tr>\n",
       "      <th></th>\n",
       "      <th colspan=\"3\" halign=\"left\">close</th>\n",
       "      <th colspan=\"3\" halign=\"left\">high</th>\n",
       "      <th colspan=\"3\" halign=\"left\">low</th>\n",
       "      <th colspan=\"3\" halign=\"left\">open</th>\n",
       "      <th colspan=\"3\" halign=\"left\">twap</th>\n",
       "      <th colspan=\"3\" halign=\"left\">volume</th>\n",
       "      <th colspan=\"3\" halign=\"left\">vwap</th>\n",
       "    </tr>\n",
       "    <tr>\n",
       "      <th></th>\n",
       "      <th>101</th>\n",
       "      <th>201</th>\n",
       "      <th>301</th>\n",
       "      <th>101</th>\n",
       "      <th>201</th>\n",
       "      <th>301</th>\n",
       "      <th>101</th>\n",
       "      <th>201</th>\n",
       "      <th>301</th>\n",
       "      <th>101</th>\n",
       "      <th>201</th>\n",
       "      <th>301</th>\n",
       "      <th>101</th>\n",
       "      <th>201</th>\n",
       "      <th>301</th>\n",
       "      <th>101</th>\n",
       "      <th>201</th>\n",
       "      <th>301</th>\n",
       "      <th>101</th>\n",
       "      <th>201</th>\n",
       "      <th>301</th>\n",
       "    </tr>\n",
       "    <tr>\n",
       "      <th>end_datetime</th>\n",
       "      <th></th>\n",
       "      <th></th>\n",
       "      <th></th>\n",
       "      <th></th>\n",
       "      <th></th>\n",
       "      <th></th>\n",
       "      <th></th>\n",
       "      <th></th>\n",
       "      <th></th>\n",
       "      <th></th>\n",
       "      <th></th>\n",
       "      <th></th>\n",
       "      <th></th>\n",
       "      <th></th>\n",
       "      <th></th>\n",
       "      <th></th>\n",
       "      <th></th>\n",
       "      <th></th>\n",
       "      <th></th>\n",
       "      <th></th>\n",
       "      <th></th>\n",
       "    </tr>\n",
       "  </thead>\n",
       "  <tbody>\n",
       "    <tr>\n",
       "      <th>2023-01-03 10:00:00-05:00</th>\n",
       "      <td>996.76</td>\n",
       "      <td>998.18</td>\n",
       "      <td>1000.20</td>\n",
       "      <td>999.88</td>\n",
       "      <td>1001.58</td>\n",
       "      <td>1001.80</td>\n",
       "      <td>995.71</td>\n",
       "      <td>998.16</td>\n",
       "      <td>999.87</td>\n",
       "      <td>999.56</td>\n",
       "      <td>1000.01</td>\n",
       "      <td>1000.00</td>\n",
       "      <td>998.023333</td>\n",
       "      <td>1000.240000</td>\n",
       "      <td>1000.860000</td>\n",
       "      <td>5963</td>\n",
       "      <td>6005</td>\n",
       "      <td>5785</td>\n",
       "      <td>998.031670</td>\n",
       "      <td>1000.231680</td>\n",
       "      <td>1000.856254</td>\n",
       "    </tr>\n",
       "    <tr>\n",
       "      <th>2023-01-03 10:30:00-05:00</th>\n",
       "      <td>994.73</td>\n",
       "      <td>998.59</td>\n",
       "      <td>1003.47</td>\n",
       "      <td>997.18</td>\n",
       "      <td>999.37</td>\n",
       "      <td>1003.47</td>\n",
       "      <td>994.73</td>\n",
       "      <td>997.53</td>\n",
       "      <td>999.22</td>\n",
       "      <td>996.66</td>\n",
       "      <td>998.54</td>\n",
       "      <td>1000.53</td>\n",
       "      <td>996.251667</td>\n",
       "      <td>998.531667</td>\n",
       "      <td>1000.646667</td>\n",
       "      <td>5920</td>\n",
       "      <td>5971</td>\n",
       "      <td>6054</td>\n",
       "      <td>996.251743</td>\n",
       "      <td>998.528255</td>\n",
       "      <td>1000.637750</td>\n",
       "    </tr>\n",
       "    <tr>\n",
       "      <th>2023-01-03 11:00:00-05:00</th>\n",
       "      <td>991.12</td>\n",
       "      <td>1000.30</td>\n",
       "      <td>1001.73</td>\n",
       "      <td>994.34</td>\n",
       "      <td>1000.89</td>\n",
       "      <td>1003.79</td>\n",
       "      <td>990.78</td>\n",
       "      <td>998.41</td>\n",
       "      <td>1001.19</td>\n",
       "      <td>994.34</td>\n",
       "      <td>998.49</td>\n",
       "      <td>1003.55</td>\n",
       "      <td>991.920000</td>\n",
       "      <td>999.838333</td>\n",
       "      <td>1002.050000</td>\n",
       "      <td>6036</td>\n",
       "      <td>6106</td>\n",
       "      <td>6112</td>\n",
       "      <td>991.915986</td>\n",
       "      <td>999.843040</td>\n",
       "      <td>1002.050623</td>\n",
       "    </tr>\n",
       "    <tr>\n",
       "      <th>2023-01-03 11:30:00-05:00</th>\n",
       "      <td>993.33</td>\n",
       "      <td>1001.79</td>\n",
       "      <td>1001.93</td>\n",
       "      <td>993.40</td>\n",
       "      <td>1002.38</td>\n",
       "      <td>1002.38</td>\n",
       "      <td>990.89</td>\n",
       "      <td>999.97</td>\n",
       "      <td>1000.24</td>\n",
       "      <td>990.89</td>\n",
       "      <td>1001.11</td>\n",
       "      <td>1002.20</td>\n",
       "      <td>992.380000</td>\n",
       "      <td>1001.015000</td>\n",
       "      <td>1001.323333</td>\n",
       "      <td>6000</td>\n",
       "      <td>5865</td>\n",
       "      <td>6060</td>\n",
       "      <td>992.384385</td>\n",
       "      <td>1001.018280</td>\n",
       "      <td>1001.310224</td>\n",
       "    </tr>\n",
       "  </tbody>\n",
       "</table>\n",
       "</div>"
      ],
      "text/plain": [
       "                            close                      high                       low                     open                          twap                           volume                    vwap                          \n",
       "                              101      201      301     101      201      301     101     201      301     101      201      301         101          201          301    101   201   301         101          201          301\n",
       "end_datetime                                                                                                                                                                                                                   \n",
       "2023-01-03 10:00:00-05:00  996.76   998.18  1000.20  999.88  1001.58  1001.80  995.71  998.16   999.87  999.56  1000.01  1000.00  998.023333  1000.240000  1000.860000   5963  6005  5785  998.031670  1000.231680  1000.856254\n",
       "2023-01-03 10:30:00-05:00  994.73   998.59  1003.47  997.18   999.37  1003.47  994.73  997.53   999.22  996.66   998.54  1000.53  996.251667   998.531667  1000.646667   5920  5971  6054  996.251743   998.528255  1000.637750\n",
       "2023-01-03 11:00:00-05:00  991.12  1000.30  1001.73  994.34  1000.89  1003.79  990.78  998.41  1001.19  994.34   998.49  1003.55  991.920000   999.838333  1002.050000   6036  6106  6112  991.915986   999.843040  1002.050623\n",
       "2023-01-03 11:30:00-05:00  993.33  1001.79  1001.93  993.40  1002.38  1002.38  990.89  999.97  1000.24  990.89  1001.11  1002.20  992.380000  1001.015000  1001.323333   6000  5865  6060  992.384385  1001.018280  1001.310224"
      ]
     },
     "metadata": {},
     "output_type": "display_data"
    },
    {
     "name": "stdout",
     "output_type": "stream",
     "text": [
      "DEBUG None\n"
     ]
    }
   ],
   "source": [
    "# Execute the node.\n",
    "df_out = node.fit(market_data)[\"df_out\"]\n",
    "_LOG.debug(hpandas.df_to_str(df_out))"
   ]
  },
  {
   "cell_type": "code",
   "execution_count": null,
   "id": "e240e7ef",
   "metadata": {},
   "outputs": [],
   "source": []
  }
 ],
 "metadata": {
  "kernelspec": {
   "display_name": "Python 3 (ipykernel)",
   "language": "python",
   "name": "python3"
  },
  "language_info": {
   "codemirror_mode": {
    "name": "ipython",
    "version": 3
   },
   "file_extension": ".py",
   "mimetype": "text/x-python",
   "name": "python",
   "nbconvert_exporter": "python",
   "pygments_lexer": "ipython3",
   "version": "3.8.10"
  },
  "toc": {
   "base_numbering": 1,
   "nav_menu": {},
   "number_sections": true,
   "sideBar": true,
   "skip_h1_title": false,
   "title_cell": "Table of Contents",
   "title_sidebar": "Contents",
   "toc_cell": false,
   "toc_position": {},
   "toc_section_display": true,
   "toc_window_display": false
  }
 },
 "nbformat": 4,
 "nbformat_minor": 5
}
