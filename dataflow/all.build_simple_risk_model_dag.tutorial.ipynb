{
 "cells": [
  {
   "cell_type": "markdown",
   "id": "16a64c12",
   "metadata": {},
   "source": [
    "Implement a simple risk model estimation framework."
   ]
  },
  {
   "cell_type": "markdown",
   "id": "4646d956",
   "metadata": {},
   "source": [
    "# Imports"
   ]
  },
  {
   "cell_type": "code",
   "execution_count": 1,
   "id": "52b6e9bf",
   "metadata": {
    "ExecuteTime": {
     "end_time": "2023-06-04T18:41:15.034328Z",
     "start_time": "2023-06-04T18:41:10.922299Z"
    }
   },
   "outputs": [
    {
     "name": "stderr",
     "output_type": "stream",
     "text": [
      "/app/core/signal_processing/decorrelation.py:12: TqdmExperimentalWarning: Using `tqdm.autonotebook.tqdm` in notebook mode. Use `tqdm.tqdm` instead to force console mode (e.g. in jupyter console)\n",
      "  from tqdm.autonotebook import tqdm\n"
     ]
    }
   ],
   "source": [
    "import logging\n",
    "\n",
    "import matplotlib.pyplot as plt\n",
    "import numpy as np\n",
    "import pandas as pd\n",
    "import sklearn.linear_model as slmode\n",
    "\n",
    "import core.artificial_signal_generators as carsigen\n",
    "import core.config as cconfig\n",
    "import core.features as cofeatur\n",
    "import core.finance as cofinanc\n",
    "import core.finance.market_data_example as cfmadaex\n",
    "import core.signal_processing as csigproc\n",
    "import dataflow.core as dtfcore\n",
    "import dataflow.system as dtfsys\n",
    "import helpers.hdbg as hdbg\n",
    "import helpers.hprint as hprint"
   ]
  },
  {
   "cell_type": "code",
   "execution_count": 2,
   "id": "eff83ad1",
   "metadata": {
    "ExecuteTime": {
     "end_time": "2023-06-04T18:41:15.057826Z",
     "start_time": "2023-06-04T18:41:15.036898Z"
    }
   },
   "outputs": [
    {
     "name": "stdout",
     "output_type": "stream",
     "text": [
      "\u001b[0m\u001b[36mINFO\u001b[0m: > cmd='/venv/lib/python3.8/site-packages/ipykernel_launcher.py -f /home/.local/share/jupyter/runtime/kernel-352f8814-e59a-4edc-abe8-f56b7fe7240b.json'\n",
      "WARNING: Running in Jupyter\n"
     ]
    }
   ],
   "source": [
    "hdbg.init_logger(verbosity=logging.INFO)\n",
    "\n",
    "_LOG = logging.getLogger(__name__)\n",
    "\n",
    "hprint.config_notebook()"
   ]
  },
  {
   "cell_type": "markdown",
   "id": "51564267",
   "metadata": {},
   "source": [
    "# Generate input data"
   ]
  },
  {
   "cell_type": "code",
   "execution_count": 3,
   "id": "0d7927e1",
   "metadata": {
    "ExecuteTime": {
     "end_time": "2023-06-04T18:41:15.064841Z",
     "start_time": "2023-06-04T18:41:15.062100Z"
    }
   },
   "outputs": [],
   "source": [
    "# Assume there are `n` assets\n",
    "# - Generate returns for the `n` assets at each time `t` (normalized)\n",
    "# - Generate `k` features for each asset (centered, normalized)\n",
    "# - Wrap in a dataframe source node"
   ]
  },
  {
   "cell_type": "code",
   "execution_count": 4,
   "id": "e593a67d",
   "metadata": {
    "ExecuteTime": {
     "end_time": "2023-06-04T18:41:15.071360Z",
     "start_time": "2023-06-04T18:41:15.066708Z"
    }
   },
   "outputs": [],
   "source": [
    "n_assets = 4\n",
    "n_features = 2\n",
    "n_periods = 10\n",
    "freq = \"B\"\n",
    "period_start = \"2023-05-01\"\n",
    "rng_seed = 1"
   ]
  },
  {
   "cell_type": "code",
   "execution_count": 5,
   "id": "c3700637",
   "metadata": {
    "ExecuteTime": {
     "end_time": "2023-06-04T18:41:15.083071Z",
     "start_time": "2023-06-04T18:41:15.074436Z"
    }
   },
   "outputs": [],
   "source": [
    "def get_random_data(\n",
    "    n_assets: int,\n",
    "    n_features: int,\n",
    "    n_periods: int,\n",
    "    period_start: str,\n",
    "    freq: str,\n",
    "    seed: int\n",
    ") -> pd.DataFrame():\n",
    "    \"\"\"\n",
    "    Generate a dataframe of random returns and random features.\n",
    "    \"\"\"\n",
    "    # Create datetime index for dataframe.\n",
    "    idx = pd.date_range(start=period_start, periods=n_periods, freq=freq)\n",
    "    # Create columns names for the X matrix.\n",
    "    cols = [f\"x_{k}\" for k in range(1, n_features + 1)]\n",
    "    cols = cols + [\"ret_0\"]\n",
    "    # Instantiate random number generator.\n",
    "    rng = np.random.default_rng(rng_seed)\n",
    "    dfs = {}\n",
    "    for n in range(n_assets):\n",
    "        asset_id = 100 + n\n",
    "        dfs[asset_id] = pd.DataFrame(rng.standard_normal(\n",
    "            (n_periods, n_features + 1)\n",
    "        ), idx, cols)\n",
    "    df = pd.concat(dfs, axis=1).swaplevel(axis=1).sort_index(axis=1)\n",
    "    return df"
   ]
  },
  {
   "cell_type": "code",
   "execution_count": 6,
   "id": "027b7713",
   "metadata": {
    "ExecuteTime": {
     "end_time": "2023-06-04T18:41:15.127564Z",
     "start_time": "2023-06-04T18:41:15.085835Z"
    }
   },
   "outputs": [
    {
     "data": {
      "text/html": [
       "<div>\n",
       "<style scoped>\n",
       "    .dataframe tbody tr th:only-of-type {\n",
       "        vertical-align: middle;\n",
       "    }\n",
       "\n",
       "    .dataframe tbody tr th {\n",
       "        vertical-align: top;\n",
       "    }\n",
       "\n",
       "    .dataframe thead tr th {\n",
       "        text-align: left;\n",
       "    }\n",
       "</style>\n",
       "<table border=\"1\" class=\"dataframe\">\n",
       "  <thead>\n",
       "    <tr>\n",
       "      <th></th>\n",
       "      <th colspan=\"4\" halign=\"left\">ret_0</th>\n",
       "      <th colspan=\"4\" halign=\"left\">x_1</th>\n",
       "      <th colspan=\"4\" halign=\"left\">x_2</th>\n",
       "    </tr>\n",
       "    <tr>\n",
       "      <th></th>\n",
       "      <th>100</th>\n",
       "      <th>101</th>\n",
       "      <th>102</th>\n",
       "      <th>103</th>\n",
       "      <th>100</th>\n",
       "      <th>101</th>\n",
       "      <th>102</th>\n",
       "      <th>103</th>\n",
       "      <th>100</th>\n",
       "      <th>101</th>\n",
       "      <th>102</th>\n",
       "      <th>103</th>\n",
       "    </tr>\n",
       "  </thead>\n",
       "  <tbody>\n",
       "    <tr>\n",
       "      <th>2023-05-01</th>\n",
       "      <td>0.330437</td>\n",
       "      <td>-0.377605</td>\n",
       "      <td>-0.982188</td>\n",
       "      <td>-0.094828</td>\n",
       "      <td>0.345584</td>\n",
       "      <td>2.117839</td>\n",
       "      <td>0.054102</td>\n",
       "      <td>0.876242</td>\n",
       "      <td>0.821618</td>\n",
       "      <td>-1.112021</td>\n",
       "      <td>0.272791</td>\n",
       "      <td>0.256486</td>\n",
       "    </tr>\n",
       "    <tr>\n",
       "      <th>2023-05-02</th>\n",
       "      <td>0.446375</td>\n",
       "      <td>0.663063</td>\n",
       "      <td>-0.466750</td>\n",
       "      <td>-2.250854</td>\n",
       "      <td>-1.303157</td>\n",
       "      <td>2.042772</td>\n",
       "      <td>-1.107373</td>\n",
       "      <td>-0.258848</td>\n",
       "      <td>0.905356</td>\n",
       "      <td>0.646703</td>\n",
       "      <td>0.199585</td>\n",
       "      <td>1.055743</td>\n",
       "    </tr>\n",
       "    <tr>\n",
       "      <th>2023-05-03</th>\n",
       "      <td>0.364572</td>\n",
       "      <td>0.167465</td>\n",
       "      <td>-1.648787</td>\n",
       "      <td>-1.425349</td>\n",
       "      <td>-0.536953</td>\n",
       "      <td>-0.514006</td>\n",
       "      <td>0.235506</td>\n",
       "      <td>-0.138655</td>\n",
       "      <td>0.581118</td>\n",
       "      <td>-1.648075</td>\n",
       "      <td>0.759520</td>\n",
       "      <td>0.033000</td>\n",
       "    </tr>\n",
       "    <tr>\n",
       "      <th>2023-05-04</th>\n",
       "      <td>0.546713</td>\n",
       "      <td>-0.683227</td>\n",
       "      <td>-0.297527</td>\n",
       "      <td>0.862445</td>\n",
       "      <td>0.294132</td>\n",
       "      <td>0.109014</td>\n",
       "      <td>0.254388</td>\n",
       "      <td>0.332814</td>\n",
       "      <td>0.028422</td>\n",
       "      <td>-1.227352</td>\n",
       "      <td>1.224647</td>\n",
       "      <td>-0.651281</td>\n",
       "    </tr>\n",
       "    <tr>\n",
       "      <th>2023-05-05</th>\n",
       "      <td>-0.482119</td>\n",
       "      <td>-0.098270</td>\n",
       "      <td>0.253447</td>\n",
       "      <td>1.218844</td>\n",
       "      <td>-0.736454</td>\n",
       "      <td>-0.072044</td>\n",
       "      <td>-0.810815</td>\n",
       "      <td>-0.125592</td>\n",
       "      <td>-0.162910</td>\n",
       "      <td>-0.944752</td>\n",
       "      <td>0.752244</td>\n",
       "      <td>0.669153</td>\n",
       "    </tr>\n",
       "  </tbody>\n",
       "</table>\n",
       "</div>"
      ],
      "text/plain": [
       "               ret_0                                     x_1                                     x_2                              \n",
       "                 100       101       102       103       100       101       102       103       100       101       102       103\n",
       "2023-05-01  0.330437 -0.377605 -0.982188 -0.094828  0.345584  2.117839  0.054102  0.876242  0.821618 -1.112021  0.272791  0.256486\n",
       "2023-05-02  0.446375  0.663063 -0.466750 -2.250854 -1.303157  2.042772 -1.107373 -0.258848  0.905356  0.646703  0.199585  1.055743\n",
       "2023-05-03  0.364572  0.167465 -1.648787 -1.425349 -0.536953 -0.514006  0.235506 -0.138655  0.581118 -1.648075  0.759520  0.033000\n",
       "2023-05-04  0.546713 -0.683227 -0.297527  0.862445  0.294132  0.109014  0.254388  0.332814  0.028422 -1.227352  1.224647 -0.651281\n",
       "2023-05-05 -0.482119 -0.098270  0.253447  1.218844 -0.736454 -0.072044 -0.810815 -0.125592 -0.162910 -0.944752  0.752244  0.669153"
      ]
     },
     "metadata": {},
     "output_type": "display_data"
    }
   ],
   "source": [
    "# The innermost column level consists of the asset ids.\n",
    "# The outermost column level is comprised of the column names (features,\n",
    "#  returns, price data, etc.).\n",
    "data = get_random_data(\n",
    "    n_assets,\n",
    "    n_features,\n",
    "    n_periods,\n",
    "    period_start,\n",
    "    freq,\n",
    "    rng_seed\n",
    ")\n",
    "display(data.head())"
   ]
  },
  {
   "cell_type": "markdown",
   "id": "bd788e65",
   "metadata": {},
   "source": [
    "## Instantiate a node and DAG"
   ]
  },
  {
   "cell_type": "code",
   "execution_count": 7,
   "id": "566fb449",
   "metadata": {
    "ExecuteTime": {
     "end_time": "2023-06-04T18:41:15.134622Z",
     "start_time": "2023-06-04T18:41:15.130450Z"
    }
   },
   "outputs": [],
   "source": [
    "# Here use instantiate a `DataSource` object, which is a subclass of a\n",
    "#. dataflow `Node`.\n",
    "# Dataflow supports various source nodes, such as\n",
    "# - a node that wraps a dataframe (as we use here)\n",
    "# - a node that wraps a function (where the output of the function is\n",
    "#   a dataframe)\n",
    "# - a node that loads data from disk\n",
    "# - a node that supplies data from our `MarketData` object\n",
    "node = dtfcore.DfDataSource(\"data\", data)"
   ]
  },
  {
   "cell_type": "code",
   "execution_count": 8,
   "id": "7e566e00",
   "metadata": {
    "ExecuteTime": {
     "end_time": "2023-06-04T18:41:15.142740Z",
     "start_time": "2023-06-04T18:41:15.138663Z"
    }
   },
   "outputs": [],
   "source": [
    "# A DAG consists of (fully instantiated) Nodes along with the directed\n",
    "#  edges between them.\n",
    "# In this example notebook, we build a DAG incrementally.\n",
    "# For DAGs we re-use, we specify in code a `DagBuilder` object, which\n",
    "#  specifies how to build a DAG and provides a means to configure it.\n",
    "dag = dtfcore.DAG(name=\"simple_risk_model\", mode=\"loose\")"
   ]
  },
  {
   "cell_type": "code",
   "execution_count": 9,
   "id": "9ede3ad6",
   "metadata": {
    "ExecuteTime": {
     "end_time": "2023-06-04T18:41:15.170576Z",
     "start_time": "2023-06-04T18:41:15.147820Z"
    }
   },
   "outputs": [
    {
     "data": {
      "image/png": "[encoded data removed]",
      "text/plain": [
       "<IPython.core.display.Image object>"
      ]
     },
     "execution_count": 9,
     "metadata": {},
     "output_type": "execute_result"
    }
   ],
   "source": [
    "# Here we use a convenience method for linear DAGs.\n",
    "dag.append_to_tail(node)\n",
    "# At each stage in this notebook, we draw the DAG.\n",
    "dtfcore.draw(dag)"
   ]
  },
  {
   "cell_type": "code",
   "execution_count": 10,
   "id": "fd40d820",
   "metadata": {
    "ExecuteTime": {
     "end_time": "2023-06-04T18:41:15.219107Z",
     "start_time": "2023-06-04T18:41:15.173157Z"
    }
   },
   "outputs": [
    {
     "data": {
      "application/vnd.jupyter.widget-view+json": {
       "model_id": "c29bbddcd0e0472f8c4ca65588ac7ef3",
       "version_major": 2,
       "version_minor": 0
      },
      "text/plain": [
       "run_leq_node:   0%|          | 0/1 [00:00<?, ?it/s]"
      ]
     },
     "metadata": {},
     "output_type": "display_data"
    }
   ],
   "source": [
    "# We specify which node to run \"up to\" and whether to run in \"fit\" or\n",
    "#  \"predict\" mode.\n",
    "# All nodes that are less than or equal to the specified node\n",
    "#  (in the topological sense) are executed.\n",
    "data_df = dag.run_leq_node(\"data\", \"fit\")[\"df_out\"]"
   ]
  },
  {
   "cell_type": "code",
   "execution_count": 11,
   "id": "993fab3d",
   "metadata": {
    "ExecuteTime": {
     "end_time": "2023-06-04T18:41:15.239059Z",
     "start_time": "2023-06-04T18:41:15.221552Z"
    }
   },
   "outputs": [
    {
     "data": {
      "text/html": [
       "<div>\n",
       "<style scoped>\n",
       "    .dataframe tbody tr th:only-of-type {\n",
       "        vertical-align: middle;\n",
       "    }\n",
       "\n",
       "    .dataframe tbody tr th {\n",
       "        vertical-align: top;\n",
       "    }\n",
       "\n",
       "    .dataframe thead tr th {\n",
       "        text-align: left;\n",
       "    }\n",
       "</style>\n",
       "<table border=\"1\" class=\"dataframe\">\n",
       "  <thead>\n",
       "    <tr>\n",
       "      <th></th>\n",
       "      <th colspan=\"4\" halign=\"left\">ret_0</th>\n",
       "      <th colspan=\"4\" halign=\"left\">x_1</th>\n",
       "      <th colspan=\"4\" halign=\"left\">x_2</th>\n",
       "    </tr>\n",
       "    <tr>\n",
       "      <th></th>\n",
       "      <th>100</th>\n",
       "      <th>101</th>\n",
       "      <th>102</th>\n",
       "      <th>103</th>\n",
       "      <th>100</th>\n",
       "      <th>101</th>\n",
       "      <th>102</th>\n",
       "      <th>103</th>\n",
       "      <th>100</th>\n",
       "      <th>101</th>\n",
       "      <th>102</th>\n",
       "      <th>103</th>\n",
       "    </tr>\n",
       "  </thead>\n",
       "  <tbody>\n",
       "    <tr>\n",
       "      <th>2023-05-01</th>\n",
       "      <td>0.330437</td>\n",
       "      <td>-0.377605</td>\n",
       "      <td>-0.982188</td>\n",
       "      <td>-0.094828</td>\n",
       "      <td>0.345584</td>\n",
       "      <td>2.117839</td>\n",
       "      <td>0.054102</td>\n",
       "      <td>0.876242</td>\n",
       "      <td>0.821618</td>\n",
       "      <td>-1.112021</td>\n",
       "      <td>0.272791</td>\n",
       "      <td>0.256486</td>\n",
       "    </tr>\n",
       "    <tr>\n",
       "      <th>2023-05-02</th>\n",
       "      <td>0.446375</td>\n",
       "      <td>0.663063</td>\n",
       "      <td>-0.466750</td>\n",
       "      <td>-2.250854</td>\n",
       "      <td>-1.303157</td>\n",
       "      <td>2.042772</td>\n",
       "      <td>-1.107373</td>\n",
       "      <td>-0.258848</td>\n",
       "      <td>0.905356</td>\n",
       "      <td>0.646703</td>\n",
       "      <td>0.199585</td>\n",
       "      <td>1.055743</td>\n",
       "    </tr>\n",
       "    <tr>\n",
       "      <th>2023-05-03</th>\n",
       "      <td>0.364572</td>\n",
       "      <td>0.167465</td>\n",
       "      <td>-1.648787</td>\n",
       "      <td>-1.425349</td>\n",
       "      <td>-0.536953</td>\n",
       "      <td>-0.514006</td>\n",
       "      <td>0.235506</td>\n",
       "      <td>-0.138655</td>\n",
       "      <td>0.581118</td>\n",
       "      <td>-1.648075</td>\n",
       "      <td>0.759520</td>\n",
       "      <td>0.033000</td>\n",
       "    </tr>\n",
       "    <tr>\n",
       "      <th>2023-05-04</th>\n",
       "      <td>0.546713</td>\n",
       "      <td>-0.683227</td>\n",
       "      <td>-0.297527</td>\n",
       "      <td>0.862445</td>\n",
       "      <td>0.294132</td>\n",
       "      <td>0.109014</td>\n",
       "      <td>0.254388</td>\n",
       "      <td>0.332814</td>\n",
       "      <td>0.028422</td>\n",
       "      <td>-1.227352</td>\n",
       "      <td>1.224647</td>\n",
       "      <td>-0.651281</td>\n",
       "    </tr>\n",
       "    <tr>\n",
       "      <th>2023-05-05</th>\n",
       "      <td>-0.482119</td>\n",
       "      <td>-0.098270</td>\n",
       "      <td>0.253447</td>\n",
       "      <td>1.218844</td>\n",
       "      <td>-0.736454</td>\n",
       "      <td>-0.072044</td>\n",
       "      <td>-0.810815</td>\n",
       "      <td>-0.125592</td>\n",
       "      <td>-0.162910</td>\n",
       "      <td>-0.944752</td>\n",
       "      <td>0.752244</td>\n",
       "      <td>0.669153</td>\n",
       "    </tr>\n",
       "  </tbody>\n",
       "</table>\n",
       "</div>"
      ],
      "text/plain": [
       "               ret_0                                     x_1                                     x_2                              \n",
       "                 100       101       102       103       100       101       102       103       100       101       102       103\n",
       "2023-05-01  0.330437 -0.377605 -0.982188 -0.094828  0.345584  2.117839  0.054102  0.876242  0.821618 -1.112021  0.272791  0.256486\n",
       "2023-05-02  0.446375  0.663063 -0.466750 -2.250854 -1.303157  2.042772 -1.107373 -0.258848  0.905356  0.646703  0.199585  1.055743\n",
       "2023-05-03  0.364572  0.167465 -1.648787 -1.425349 -0.536953 -0.514006  0.235506 -0.138655  0.581118 -1.648075  0.759520  0.033000\n",
       "2023-05-04  0.546713 -0.683227 -0.297527  0.862445  0.294132  0.109014  0.254388  0.332814  0.028422 -1.227352  1.224647 -0.651281\n",
       "2023-05-05 -0.482119 -0.098270  0.253447  1.218844 -0.736454 -0.072044 -0.810815 -0.125592 -0.162910 -0.944752  0.752244  0.669153"
      ]
     },
     "execution_count": 11,
     "metadata": {},
     "output_type": "execute_result"
    }
   ],
   "source": [
    "# The data matches the input data.\n",
    "# In this notebook, all data is processed at once. However, dataflow\n",
    "#  supports the notion of a clock and supports running in an\n",
    "#  incremental mode.\n",
    "data_df.head()"
   ]
  },
  {
   "cell_type": "markdown",
   "id": "93b6f4c6",
   "metadata": {},
   "source": [
    "# Estimate model components"
   ]
  },
  {
   "cell_type": "markdown",
   "id": "2f0ed0f2",
   "metadata": {},
   "source": [
    "## Estimate beta"
   ]
  },
  {
   "cell_type": "code",
   "execution_count": 12,
   "id": "cea512f6",
   "metadata": {
    "ExecuteTime": {
     "end_time": "2023-06-04T18:41:15.247463Z",
     "start_time": "2023-06-04T18:41:15.241197Z"
    }
   },
   "outputs": [
    {
     "data": {
      "text/plain": [
       "Index(['ret_0', 'x_1', 'x_2'], dtype='object')"
      ]
     },
     "metadata": {},
     "output_type": "display_data"
    }
   ],
   "source": [
    "cols = data.columns.levels[0]\n",
    "display(cols)\n",
    "x_vars = list(cols.difference([\"ret_0\"]))\n",
    "y_vars = [\"ret_0\"]"
   ]
  },
  {
   "cell_type": "code",
   "execution_count": 13,
   "id": "da3c8d1c",
   "metadata": {
    "ExecuteTime": {
     "end_time": "2023-06-04T18:41:15.255209Z",
     "start_time": "2023-06-04T18:41:15.250669Z"
    }
   },
   "outputs": [],
   "source": [
    "# Use one of the dataflow nodes that wraps sklearn.\n",
    "# This node\n",
    "# - wraps supervised models\n",
    "# - learns a model for each asset independently (we also have a wrapper\n",
    "#   that pools across all assets)\n",
    "# The \"model_func\" specifies which sklearn model to use.\n",
    "# The sklearn model is configured through \"model_kwargs\", which are\n",
    "#  forwarded to the model.\n",
    "node_config = {\n",
    "    \"in_col_groups\": [(x,) for x in cols],\n",
    "    \"out_col_group\": (),\n",
    "    \"x_vars\": x_vars,\n",
    "    \"y_vars\": y_vars,\n",
    "    \"steps_ahead\": 1,\n",
    "    \"model_func\": slmode.LinearRegression,\n",
    "    \"model_kwargs\": {\n",
    "        \"fit_intercept\": False,\n",
    "    },\n",
    "    \"nan_mode\": \"drop\",\n",
    "}\n",
    "node = dtfcore.MultiindexSkLearnModel(\n",
    "    \"sklearn\",\n",
    "    **node_config,\n",
    ")"
   ]
  },
  {
   "cell_type": "code",
   "execution_count": 14,
   "id": "65d67a11",
   "metadata": {
    "ExecuteTime": {
     "end_time": "2023-06-04T18:41:15.280019Z",
     "start_time": "2023-06-04T18:41:15.257364Z"
    }
   },
   "outputs": [
    {
     "data": {
      "image/png": "[encoded data removed]",
      "text/plain": [
       "<IPython.core.display.Image object>"
      ]
     },
     "execution_count": 14,
     "metadata": {},
     "output_type": "execute_result"
    }
   ],
   "source": [
    "dag.append_to_tail(node)\n",
    "dtfcore.draw(dag)"
   ]
  },
  {
   "cell_type": "code",
   "execution_count": 15,
   "id": "c2a9d797",
   "metadata": {
    "ExecuteTime": {
     "end_time": "2023-06-04T18:41:15.424928Z",
     "start_time": "2023-06-04T18:41:15.282107Z"
    }
   },
   "outputs": [
    {
     "data": {
      "application/vnd.jupyter.widget-view+json": {
       "model_id": "f12a1e1866c1424b859a3c76c5b8556f",
       "version_major": 2,
       "version_minor": 0
      },
      "text/plain": [
       "run_leq_node:   0%|          | 0/2 [00:00<?, ?it/s]"
      ]
     },
     "metadata": {},
     "output_type": "display_data"
    }
   ],
   "source": [
    "sklearn_df = dag.run_leq_node(\"sklearn\", \"fit\")[\"df_out\"]"
   ]
  },
  {
   "cell_type": "code",
   "execution_count": 16,
   "id": "4f74039e",
   "metadata": {
    "ExecuteTime": {
     "end_time": "2023-06-04T18:41:15.453701Z",
     "start_time": "2023-06-04T18:41:15.427435Z"
    }
   },
   "outputs": [
    {
     "data": {
      "text/html": [
       "<div>\n",
       "<style scoped>\n",
       "    .dataframe tbody tr th:only-of-type {\n",
       "        vertical-align: middle;\n",
       "    }\n",
       "\n",
       "    .dataframe tbody tr th {\n",
       "        vertical-align: top;\n",
       "    }\n",
       "\n",
       "    .dataframe thead tr th {\n",
       "        text-align: left;\n",
       "    }\n",
       "</style>\n",
       "<table border=\"1\" class=\"dataframe\">\n",
       "  <thead>\n",
       "    <tr>\n",
       "      <th></th>\n",
       "      <th colspan=\"4\" halign=\"left\">ret_0.shift_-1</th>\n",
       "      <th colspan=\"4\" halign=\"left\">ret_0.shift_-1_hat</th>\n",
       "      <th colspan=\"4\" halign=\"left\">ret_0</th>\n",
       "      <th colspan=\"4\" halign=\"left\">x_1</th>\n",
       "      <th colspan=\"4\" halign=\"left\">x_2</th>\n",
       "    </tr>\n",
       "    <tr>\n",
       "      <th></th>\n",
       "      <th>100</th>\n",
       "      <th>101</th>\n",
       "      <th>102</th>\n",
       "      <th>103</th>\n",
       "      <th>100</th>\n",
       "      <th>101</th>\n",
       "      <th>102</th>\n",
       "      <th>103</th>\n",
       "      <th>100</th>\n",
       "      <th>101</th>\n",
       "      <th>102</th>\n",
       "      <th>103</th>\n",
       "      <th>100</th>\n",
       "      <th>101</th>\n",
       "      <th>102</th>\n",
       "      <th>103</th>\n",
       "      <th>100</th>\n",
       "      <th>101</th>\n",
       "      <th>102</th>\n",
       "      <th>103</th>\n",
       "    </tr>\n",
       "  </thead>\n",
       "  <tbody>\n",
       "    <tr>\n",
       "      <th>2023-05-01</th>\n",
       "      <td>0.446375</td>\n",
       "      <td>0.663063</td>\n",
       "      <td>-0.466750</td>\n",
       "      <td>-2.250854</td>\n",
       "      <td>0.039724</td>\n",
       "      <td>-0.003303</td>\n",
       "      <td>0.082740</td>\n",
       "      <td>-0.529041</td>\n",
       "      <td>0.330437</td>\n",
       "      <td>-0.377605</td>\n",
       "      <td>-0.982188</td>\n",
       "      <td>-0.094828</td>\n",
       "      <td>0.345584</td>\n",
       "      <td>2.117839</td>\n",
       "      <td>0.054102</td>\n",
       "      <td>0.876242</td>\n",
       "      <td>0.821618</td>\n",
       "      <td>-1.112021</td>\n",
       "      <td>0.272791</td>\n",
       "      <td>0.256486</td>\n",
       "    </tr>\n",
       "    <tr>\n",
       "      <th>2023-05-02</th>\n",
       "      <td>0.364572</td>\n",
       "      <td>0.167465</td>\n",
       "      <td>-1.648787</td>\n",
       "      <td>-1.425349</td>\n",
       "      <td>0.408234</td>\n",
       "      <td>0.329971</td>\n",
       "      <td>-1.242679</td>\n",
       "      <td>-1.199168</td>\n",
       "      <td>0.446375</td>\n",
       "      <td>0.663063</td>\n",
       "      <td>-0.466750</td>\n",
       "      <td>-2.250854</td>\n",
       "      <td>-1.303157</td>\n",
       "      <td>2.042772</td>\n",
       "      <td>-1.107373</td>\n",
       "      <td>-0.258848</td>\n",
       "      <td>0.905356</td>\n",
       "      <td>0.646703</td>\n",
       "      <td>0.199585</td>\n",
       "      <td>1.055743</td>\n",
       "    </tr>\n",
       "    <tr>\n",
       "      <th>2023-05-03</th>\n",
       "      <td>0.546713</td>\n",
       "      <td>-0.683227</td>\n",
       "      <td>-0.297527</td>\n",
       "      <td>0.862445</td>\n",
       "      <td>0.197211</td>\n",
       "      <td>-0.370850</td>\n",
       "      <td>0.326803</td>\n",
       "      <td>-0.004435</td>\n",
       "      <td>0.364572</td>\n",
       "      <td>0.167465</td>\n",
       "      <td>-1.648787</td>\n",
       "      <td>-1.425349</td>\n",
       "      <td>-0.536953</td>\n",
       "      <td>-0.514006</td>\n",
       "      <td>0.235506</td>\n",
       "      <td>-0.138655</td>\n",
       "      <td>0.581118</td>\n",
       "      <td>-1.648075</td>\n",
       "      <td>0.759520</td>\n",
       "      <td>0.033000</td>\n",
       "    </tr>\n",
       "    <tr>\n",
       "      <th>2023-05-04</th>\n",
       "      <td>-0.482119</td>\n",
       "      <td>-0.098270</td>\n",
       "      <td>0.253447</td>\n",
       "      <td>1.218844</td>\n",
       "      <td>-0.059698</td>\n",
       "      <td>-0.226907</td>\n",
       "      <td>0.384520</td>\n",
       "      <td>0.695936</td>\n",
       "      <td>0.546713</td>\n",
       "      <td>-0.683227</td>\n",
       "      <td>-0.297527</td>\n",
       "      <td>0.862445</td>\n",
       "      <td>0.294132</td>\n",
       "      <td>0.109014</td>\n",
       "      <td>0.254388</td>\n",
       "      <td>0.332814</td>\n",
       "      <td>0.028422</td>\n",
       "      <td>-1.227352</td>\n",
       "      <td>1.224647</td>\n",
       "      <td>-0.651281</td>\n",
       "    </tr>\n",
       "    <tr>\n",
       "      <th>2023-05-05</th>\n",
       "      <td>-0.292457</td>\n",
       "      <td>-0.506292</td>\n",
       "      <td>-1.481818</td>\n",
       "      <td>-1.514319</td>\n",
       "      <td>0.136685</td>\n",
       "      <td>-0.190286</td>\n",
       "      <td>-0.862632</td>\n",
       "      <td>-0.769797</td>\n",
       "      <td>-0.482119</td>\n",
       "      <td>-0.098270</td>\n",
       "      <td>0.253447</td>\n",
       "      <td>1.218844</td>\n",
       "      <td>-0.736454</td>\n",
       "      <td>-0.072044</td>\n",
       "      <td>-0.810815</td>\n",
       "      <td>-0.125592</td>\n",
       "      <td>-0.162910</td>\n",
       "      <td>-0.944752</td>\n",
       "      <td>0.752244</td>\n",
       "      <td>0.669153</td>\n",
       "    </tr>\n",
       "  </tbody>\n",
       "</table>\n",
       "</div>"
      ],
      "text/plain": [
       "           ret_0.shift_-1                               ret_0.shift_-1_hat                                   ret_0                                     x_1                                     x_2                              \n",
       "                      100       101       102       103                100       101       102       103       100       101       102       103       100       101       102       103       100       101       102       103\n",
       "2023-05-01       0.446375  0.663063 -0.466750 -2.250854           0.039724 -0.003303  0.082740 -0.529041  0.330437 -0.377605 -0.982188 -0.094828  0.345584  2.117839  0.054102  0.876242  0.821618 -1.112021  0.272791  0.256486\n",
       "2023-05-02       0.364572  0.167465 -1.648787 -1.425349           0.408234  0.329971 -1.242679 -1.199168  0.446375  0.663063 -0.466750 -2.250854 -1.303157  2.042772 -1.107373 -0.258848  0.905356  0.646703  0.199585  1.055743\n",
       "2023-05-03       0.546713 -0.683227 -0.297527  0.862445           0.197211 -0.370850  0.326803 -0.004435  0.364572  0.167465 -1.648787 -1.425349 -0.536953 -0.514006  0.235506 -0.138655  0.581118 -1.648075  0.759520  0.033000\n",
       "2023-05-04      -0.482119 -0.098270  0.253447  1.218844          -0.059698 -0.226907  0.384520  0.695936  0.546713 -0.683227 -0.297527  0.862445  0.294132  0.109014  0.254388  0.332814  0.028422 -1.227352  1.224647 -0.651281\n",
       "2023-05-05      -0.292457 -0.506292 -1.481818 -1.514319           0.136685 -0.190286 -0.862632 -0.769797 -0.482119 -0.098270  0.253447  1.218844 -0.736454 -0.072044 -0.810815 -0.125592 -0.162910 -0.944752  0.752244  0.669153"
      ]
     },
     "execution_count": 16,
     "metadata": {},
     "output_type": "execute_result"
    }
   ],
   "source": [
    "sklearn_df.head()"
   ]
  },
  {
   "cell_type": "markdown",
   "id": "91949bfa",
   "metadata": {},
   "source": [
    "## Estimate residual returns variances"
   ]
  },
  {
   "cell_type": "code",
   "execution_count": 17,
   "id": "23408b9e",
   "metadata": {
    "ExecuteTime": {
     "end_time": "2023-06-04T18:41:15.485352Z",
     "start_time": "2023-06-04T18:41:15.456541Z"
    }
   },
   "outputs": [
    {
     "data": {
      "text/html": [
       "<div>\n",
       "<style scoped>\n",
       "    .dataframe tbody tr th:only-of-type {\n",
       "        vertical-align: middle;\n",
       "    }\n",
       "\n",
       "    .dataframe tbody tr th {\n",
       "        vertical-align: top;\n",
       "    }\n",
       "\n",
       "    .dataframe thead tr th {\n",
       "        text-align: left;\n",
       "    }\n",
       "</style>\n",
       "<table border=\"1\" class=\"dataframe\">\n",
       "  <thead>\n",
       "    <tr>\n",
       "      <th></th>\n",
       "      <th colspan=\"4\" halign=\"left\">ret_0.shift_-1</th>\n",
       "      <th colspan=\"4\" halign=\"left\">ret_0.shift_-1_hat</th>\n",
       "      <th colspan=\"4\" halign=\"left\">ret_0</th>\n",
       "      <th colspan=\"4\" halign=\"left\">x_1</th>\n",
       "      <th colspan=\"4\" halign=\"left\">x_2</th>\n",
       "    </tr>\n",
       "    <tr>\n",
       "      <th></th>\n",
       "      <th>100</th>\n",
       "      <th>101</th>\n",
       "      <th>102</th>\n",
       "      <th>103</th>\n",
       "      <th>100</th>\n",
       "      <th>101</th>\n",
       "      <th>102</th>\n",
       "      <th>103</th>\n",
       "      <th>100</th>\n",
       "      <th>101</th>\n",
       "      <th>102</th>\n",
       "      <th>103</th>\n",
       "      <th>100</th>\n",
       "      <th>101</th>\n",
       "      <th>102</th>\n",
       "      <th>103</th>\n",
       "      <th>100</th>\n",
       "      <th>101</th>\n",
       "      <th>102</th>\n",
       "      <th>103</th>\n",
       "    </tr>\n",
       "  </thead>\n",
       "  <tbody>\n",
       "    <tr>\n",
       "      <th>2023-05-01</th>\n",
       "      <td>0.446375</td>\n",
       "      <td>0.663063</td>\n",
       "      <td>-0.466750</td>\n",
       "      <td>-2.250854</td>\n",
       "      <td>0.039724</td>\n",
       "      <td>-0.003303</td>\n",
       "      <td>0.082740</td>\n",
       "      <td>-0.529041</td>\n",
       "      <td>0.330437</td>\n",
       "      <td>-0.377605</td>\n",
       "      <td>-0.982188</td>\n",
       "      <td>-0.094828</td>\n",
       "      <td>0.345584</td>\n",
       "      <td>2.117839</td>\n",
       "      <td>0.054102</td>\n",
       "      <td>0.876242</td>\n",
       "      <td>0.821618</td>\n",
       "      <td>-1.112021</td>\n",
       "      <td>0.272791</td>\n",
       "      <td>0.256486</td>\n",
       "    </tr>\n",
       "    <tr>\n",
       "      <th>2023-05-02</th>\n",
       "      <td>0.364572</td>\n",
       "      <td>0.167465</td>\n",
       "      <td>-1.648787</td>\n",
       "      <td>-1.425349</td>\n",
       "      <td>0.408234</td>\n",
       "      <td>0.329971</td>\n",
       "      <td>-1.242679</td>\n",
       "      <td>-1.199168</td>\n",
       "      <td>0.446375</td>\n",
       "      <td>0.663063</td>\n",
       "      <td>-0.466750</td>\n",
       "      <td>-2.250854</td>\n",
       "      <td>-1.303157</td>\n",
       "      <td>2.042772</td>\n",
       "      <td>-1.107373</td>\n",
       "      <td>-0.258848</td>\n",
       "      <td>0.905356</td>\n",
       "      <td>0.646703</td>\n",
       "      <td>0.199585</td>\n",
       "      <td>1.055743</td>\n",
       "    </tr>\n",
       "    <tr>\n",
       "      <th>2023-05-03</th>\n",
       "      <td>0.546713</td>\n",
       "      <td>-0.683227</td>\n",
       "      <td>-0.297527</td>\n",
       "      <td>0.862445</td>\n",
       "      <td>0.197211</td>\n",
       "      <td>-0.370850</td>\n",
       "      <td>0.326803</td>\n",
       "      <td>-0.004435</td>\n",
       "      <td>0.364572</td>\n",
       "      <td>0.167465</td>\n",
       "      <td>-1.648787</td>\n",
       "      <td>-1.425349</td>\n",
       "      <td>-0.536953</td>\n",
       "      <td>-0.514006</td>\n",
       "      <td>0.235506</td>\n",
       "      <td>-0.138655</td>\n",
       "      <td>0.581118</td>\n",
       "      <td>-1.648075</td>\n",
       "      <td>0.759520</td>\n",
       "      <td>0.033000</td>\n",
       "    </tr>\n",
       "    <tr>\n",
       "      <th>2023-05-04</th>\n",
       "      <td>-0.482119</td>\n",
       "      <td>-0.098270</td>\n",
       "      <td>0.253447</td>\n",
       "      <td>1.218844</td>\n",
       "      <td>-0.059698</td>\n",
       "      <td>-0.226907</td>\n",
       "      <td>0.384520</td>\n",
       "      <td>0.695936</td>\n",
       "      <td>0.546713</td>\n",
       "      <td>-0.683227</td>\n",
       "      <td>-0.297527</td>\n",
       "      <td>0.862445</td>\n",
       "      <td>0.294132</td>\n",
       "      <td>0.109014</td>\n",
       "      <td>0.254388</td>\n",
       "      <td>0.332814</td>\n",
       "      <td>0.028422</td>\n",
       "      <td>-1.227352</td>\n",
       "      <td>1.224647</td>\n",
       "      <td>-0.651281</td>\n",
       "    </tr>\n",
       "    <tr>\n",
       "      <th>2023-05-05</th>\n",
       "      <td>-0.292457</td>\n",
       "      <td>-0.506292</td>\n",
       "      <td>-1.481818</td>\n",
       "      <td>-1.514319</td>\n",
       "      <td>0.136685</td>\n",
       "      <td>-0.190286</td>\n",
       "      <td>-0.862632</td>\n",
       "      <td>-0.769797</td>\n",
       "      <td>-0.482119</td>\n",
       "      <td>-0.098270</td>\n",
       "      <td>0.253447</td>\n",
       "      <td>1.218844</td>\n",
       "      <td>-0.736454</td>\n",
       "      <td>-0.072044</td>\n",
       "      <td>-0.810815</td>\n",
       "      <td>-0.125592</td>\n",
       "      <td>-0.162910</td>\n",
       "      <td>-0.944752</td>\n",
       "      <td>0.752244</td>\n",
       "      <td>0.669153</td>\n",
       "    </tr>\n",
       "  </tbody>\n",
       "</table>\n",
       "</div>"
      ],
      "text/plain": [
       "           ret_0.shift_-1                               ret_0.shift_-1_hat                                   ret_0                                     x_1                                     x_2                              \n",
       "                      100       101       102       103                100       101       102       103       100       101       102       103       100       101       102       103       100       101       102       103\n",
       "2023-05-01       0.446375  0.663063 -0.466750 -2.250854           0.039724 -0.003303  0.082740 -0.529041  0.330437 -0.377605 -0.982188 -0.094828  0.345584  2.117839  0.054102  0.876242  0.821618 -1.112021  0.272791  0.256486\n",
       "2023-05-02       0.364572  0.167465 -1.648787 -1.425349           0.408234  0.329971 -1.242679 -1.199168  0.446375  0.663063 -0.466750 -2.250854 -1.303157  2.042772 -1.107373 -0.258848  0.905356  0.646703  0.199585  1.055743\n",
       "2023-05-03       0.546713 -0.683227 -0.297527  0.862445           0.197211 -0.370850  0.326803 -0.004435  0.364572  0.167465 -1.648787 -1.425349 -0.536953 -0.514006  0.235506 -0.138655  0.581118 -1.648075  0.759520  0.033000\n",
       "2023-05-04      -0.482119 -0.098270  0.253447  1.218844          -0.059698 -0.226907  0.384520  0.695936  0.546713 -0.683227 -0.297527  0.862445  0.294132  0.109014  0.254388  0.332814  0.028422 -1.227352  1.224647 -0.651281\n",
       "2023-05-05      -0.292457 -0.506292 -1.481818 -1.514319           0.136685 -0.190286 -0.862632 -0.769797 -0.482119 -0.098270  0.253447  1.218844 -0.736454 -0.072044 -0.810815 -0.125592 -0.162910 -0.944752  0.752244  0.669153"
      ]
     },
     "execution_count": 17,
     "metadata": {},
     "output_type": "execute_result"
    }
   ],
   "source": [
    "sklearn_df.head()"
   ]
  },
  {
   "cell_type": "code",
   "execution_count": 18,
   "id": "43dc655d",
   "metadata": {
    "ExecuteTime": {
     "end_time": "2023-06-04T18:41:15.495036Z",
     "start_time": "2023-06-04T18:41:15.488396Z"
    }
   },
   "outputs": [],
   "source": [
    "# The sklearn modeling node does not automatically perform the\n",
    "#  residualization. (We do have a different sklearn node that\n",
    "#  learns a factor model (e.g., PCA) and automatically\n",
    "#  residualizes.)\n",
    "# Here we create a node to do the column arithmetic.\n",
    "node_config = {\n",
    "    \"in_col_groups\": [\n",
    "        (\"ret_0.shift_-1\",), \n",
    "        (\"ret_0.shift_-1_hat\",),\n",
    "    ],\n",
    "    \"out_col_group\": (),\n",
    "    \"transformer_func\": cofeatur.combine_columns,\n",
    "    \"transformer_kwargs\": {\n",
    "        \"term1_col\": \"ret_0.shift_-1\",\n",
    "        \"term2_col\": \"ret_0.shift_-1_hat\",\n",
    "        \"out_col\": \"residual.shift_-1\",\n",
    "        \"operation\": \"sub\"\n",
    "    }\n",
    "}\n",
    "node = dtfcore.GroupedColDfToDfTransformer(\n",
    "    \"residualize\",\n",
    "    **node_config,\n",
    ")"
   ]
  },
  {
   "cell_type": "code",
   "execution_count": 19,
   "id": "9ee2ca6b",
   "metadata": {
    "ExecuteTime": {
     "end_time": "2023-06-04T18:41:15.523294Z",
     "start_time": "2023-06-04T18:41:15.497636Z"
    }
   },
   "outputs": [
    {
     "data": {
      "image/png": "[encoded data removed]",
      "text/plain": [
       "<IPython.core.display.Image object>"
      ]
     },
     "execution_count": 19,
     "metadata": {},
     "output_type": "execute_result"
    }
   ],
   "source": [
    "dag.append_to_tail(node)\n",
    "dtfcore.draw(dag)"
   ]
  },
  {
   "cell_type": "code",
   "execution_count": 20,
   "id": "0ac40a70",
   "metadata": {
    "ExecuteTime": {
     "end_time": "2023-06-04T18:41:15.719647Z",
     "start_time": "2023-06-04T18:41:15.527024Z"
    }
   },
   "outputs": [
    {
     "data": {
      "application/vnd.jupyter.widget-view+json": {
       "model_id": "54bed6de9d954f97b575f6cc9ce2e1e4",
       "version_major": 2,
       "version_minor": 0
      },
      "text/plain": [
       "run_leq_node:   0%|          | 0/3 [00:00<?, ?it/s]"
      ]
     },
     "metadata": {},
     "output_type": "display_data"
    },
    {
     "name": "stderr",
     "output_type": "stream",
     "text": [
      "/app/helpers/hdbg.py:311: PerformanceWarning: indexing past lexsort depth may impact performance.\n",
      "  cond = value in valid_values\n"
     ]
    }
   ],
   "source": [
    "residualize_df = dag.run_leq_node(\"residualize\", \"fit\")[\"df_out\"]"
   ]
  },
  {
   "cell_type": "code",
   "execution_count": 21,
   "id": "1d8b3812",
   "metadata": {
    "ExecuteTime": {
     "end_time": "2023-06-04T18:41:15.755146Z",
     "start_time": "2023-06-04T18:41:15.722963Z"
    }
   },
   "outputs": [
    {
     "data": {
      "text/html": [
       "<div>\n",
       "<style scoped>\n",
       "    .dataframe tbody tr th:only-of-type {\n",
       "        vertical-align: middle;\n",
       "    }\n",
       "\n",
       "    .dataframe tbody tr th {\n",
       "        vertical-align: top;\n",
       "    }\n",
       "\n",
       "    .dataframe thead tr th {\n",
       "        text-align: left;\n",
       "    }\n",
       "</style>\n",
       "<table border=\"1\" class=\"dataframe\">\n",
       "  <thead>\n",
       "    <tr>\n",
       "      <th></th>\n",
       "      <th colspan=\"4\" halign=\"left\">residual.shift_-1</th>\n",
       "      <th colspan=\"4\" halign=\"left\">ret_0.shift_-1</th>\n",
       "      <th colspan=\"4\" halign=\"left\">ret_0.shift_-1_hat</th>\n",
       "      <th colspan=\"4\" halign=\"left\">ret_0</th>\n",
       "      <th colspan=\"4\" halign=\"left\">x_1</th>\n",
       "      <th colspan=\"4\" halign=\"left\">x_2</th>\n",
       "    </tr>\n",
       "    <tr>\n",
       "      <th></th>\n",
       "      <th>100</th>\n",
       "      <th>101</th>\n",
       "      <th>102</th>\n",
       "      <th>103</th>\n",
       "      <th>100</th>\n",
       "      <th>101</th>\n",
       "      <th>102</th>\n",
       "      <th>103</th>\n",
       "      <th>100</th>\n",
       "      <th>101</th>\n",
       "      <th>102</th>\n",
       "      <th>103</th>\n",
       "      <th>100</th>\n",
       "      <th>101</th>\n",
       "      <th>102</th>\n",
       "      <th>103</th>\n",
       "      <th>100</th>\n",
       "      <th>101</th>\n",
       "      <th>102</th>\n",
       "      <th>103</th>\n",
       "      <th>100</th>\n",
       "      <th>101</th>\n",
       "      <th>102</th>\n",
       "      <th>103</th>\n",
       "    </tr>\n",
       "  </thead>\n",
       "  <tbody>\n",
       "    <tr>\n",
       "      <th>2023-05-01</th>\n",
       "      <td>0.406651</td>\n",
       "      <td>0.666367</td>\n",
       "      <td>-0.549490</td>\n",
       "      <td>-1.721813</td>\n",
       "      <td>0.446375</td>\n",
       "      <td>0.663063</td>\n",
       "      <td>-0.466750</td>\n",
       "      <td>-2.250854</td>\n",
       "      <td>0.039724</td>\n",
       "      <td>-0.003303</td>\n",
       "      <td>0.082740</td>\n",
       "      <td>-0.529041</td>\n",
       "      <td>0.330437</td>\n",
       "      <td>-0.377605</td>\n",
       "      <td>-0.982188</td>\n",
       "      <td>-0.094828</td>\n",
       "      <td>0.345584</td>\n",
       "      <td>2.117839</td>\n",
       "      <td>0.054102</td>\n",
       "      <td>0.876242</td>\n",
       "      <td>0.821618</td>\n",
       "      <td>-1.112021</td>\n",
       "      <td>0.272791</td>\n",
       "      <td>0.256486</td>\n",
       "    </tr>\n",
       "    <tr>\n",
       "      <th>2023-05-02</th>\n",
       "      <td>-0.043662</td>\n",
       "      <td>-0.162506</td>\n",
       "      <td>-0.406108</td>\n",
       "      <td>-0.226181</td>\n",
       "      <td>0.364572</td>\n",
       "      <td>0.167465</td>\n",
       "      <td>-1.648787</td>\n",
       "      <td>-1.425349</td>\n",
       "      <td>0.408234</td>\n",
       "      <td>0.329971</td>\n",
       "      <td>-1.242679</td>\n",
       "      <td>-1.199168</td>\n",
       "      <td>0.446375</td>\n",
       "      <td>0.663063</td>\n",
       "      <td>-0.466750</td>\n",
       "      <td>-2.250854</td>\n",
       "      <td>-1.303157</td>\n",
       "      <td>2.042772</td>\n",
       "      <td>-1.107373</td>\n",
       "      <td>-0.258848</td>\n",
       "      <td>0.905356</td>\n",
       "      <td>0.646703</td>\n",
       "      <td>0.199585</td>\n",
       "      <td>1.055743</td>\n",
       "    </tr>\n",
       "    <tr>\n",
       "      <th>2023-05-03</th>\n",
       "      <td>0.349502</td>\n",
       "      <td>-0.312376</td>\n",
       "      <td>-0.624330</td>\n",
       "      <td>0.866880</td>\n",
       "      <td>0.546713</td>\n",
       "      <td>-0.683227</td>\n",
       "      <td>-0.297527</td>\n",
       "      <td>0.862445</td>\n",
       "      <td>0.197211</td>\n",
       "      <td>-0.370850</td>\n",
       "      <td>0.326803</td>\n",
       "      <td>-0.004435</td>\n",
       "      <td>0.364572</td>\n",
       "      <td>0.167465</td>\n",
       "      <td>-1.648787</td>\n",
       "      <td>-1.425349</td>\n",
       "      <td>-0.536953</td>\n",
       "      <td>-0.514006</td>\n",
       "      <td>0.235506</td>\n",
       "      <td>-0.138655</td>\n",
       "      <td>0.581118</td>\n",
       "      <td>-1.648075</td>\n",
       "      <td>0.759520</td>\n",
       "      <td>0.033000</td>\n",
       "    </tr>\n",
       "    <tr>\n",
       "      <th>2023-05-04</th>\n",
       "      <td>-0.422422</td>\n",
       "      <td>0.128637</td>\n",
       "      <td>-0.131074</td>\n",
       "      <td>0.522907</td>\n",
       "      <td>-0.482119</td>\n",
       "      <td>-0.098270</td>\n",
       "      <td>0.253447</td>\n",
       "      <td>1.218844</td>\n",
       "      <td>-0.059698</td>\n",
       "      <td>-0.226907</td>\n",
       "      <td>0.384520</td>\n",
       "      <td>0.695936</td>\n",
       "      <td>0.546713</td>\n",
       "      <td>-0.683227</td>\n",
       "      <td>-0.297527</td>\n",
       "      <td>0.862445</td>\n",
       "      <td>0.294132</td>\n",
       "      <td>0.109014</td>\n",
       "      <td>0.254388</td>\n",
       "      <td>0.332814</td>\n",
       "      <td>0.028422</td>\n",
       "      <td>-1.227352</td>\n",
       "      <td>1.224647</td>\n",
       "      <td>-0.651281</td>\n",
       "    </tr>\n",
       "    <tr>\n",
       "      <th>2023-05-05</th>\n",
       "      <td>-0.429141</td>\n",
       "      <td>-0.316006</td>\n",
       "      <td>-0.619186</td>\n",
       "      <td>-0.744521</td>\n",
       "      <td>-0.292457</td>\n",
       "      <td>-0.506292</td>\n",
       "      <td>-1.481818</td>\n",
       "      <td>-1.514319</td>\n",
       "      <td>0.136685</td>\n",
       "      <td>-0.190286</td>\n",
       "      <td>-0.862632</td>\n",
       "      <td>-0.769797</td>\n",
       "      <td>-0.482119</td>\n",
       "      <td>-0.098270</td>\n",
       "      <td>0.253447</td>\n",
       "      <td>1.218844</td>\n",
       "      <td>-0.736454</td>\n",
       "      <td>-0.072044</td>\n",
       "      <td>-0.810815</td>\n",
       "      <td>-0.125592</td>\n",
       "      <td>-0.162910</td>\n",
       "      <td>-0.944752</td>\n",
       "      <td>0.752244</td>\n",
       "      <td>0.669153</td>\n",
       "    </tr>\n",
       "  </tbody>\n",
       "</table>\n",
       "</div>"
      ],
      "text/plain": [
       "           residual.shift_-1                               ret_0.shift_-1                               ret_0.shift_-1_hat                                   ret_0                                     x_1                                     x_2                              \n",
       "                         100       101       102       103            100       101       102       103                100       101       102       103       100       101       102       103       100       101       102       103       100       101       102       103\n",
       "2023-05-01          0.406651  0.666367 -0.549490 -1.721813       0.446375  0.663063 -0.466750 -2.250854           0.039724 -0.003303  0.082740 -0.529041  0.330437 -0.377605 -0.982188 -0.094828  0.345584  2.117839  0.054102  0.876242  0.821618 -1.112021  0.272791  0.256486\n",
       "2023-05-02         -0.043662 -0.162506 -0.406108 -0.226181       0.364572  0.167465 -1.648787 -1.425349           0.408234  0.329971 -1.242679 -1.199168  0.446375  0.663063 -0.466750 -2.250854 -1.303157  2.042772 -1.107373 -0.258848  0.905356  0.646703  0.199585  1.055743\n",
       "2023-05-03          0.349502 -0.312376 -0.624330  0.866880       0.546713 -0.683227 -0.297527  0.862445           0.197211 -0.370850  0.326803 -0.004435  0.364572  0.167465 -1.648787 -1.425349 -0.536953 -0.514006  0.235506 -0.138655  0.581118 -1.648075  0.759520  0.033000\n",
       "2023-05-04         -0.422422  0.128637 -0.131074  0.522907      -0.482119 -0.098270  0.253447  1.218844          -0.059698 -0.226907  0.384520  0.695936  0.546713 -0.683227 -0.297527  0.862445  0.294132  0.109014  0.254388  0.332814  0.028422 -1.227352  1.224647 -0.651281\n",
       "2023-05-05         -0.429141 -0.316006 -0.619186 -0.744521      -0.292457 -0.506292 -1.481818 -1.514319           0.136685 -0.190286 -0.862632 -0.769797 -0.482119 -0.098270  0.253447  1.218844 -0.736454 -0.072044 -0.810815 -0.125592 -0.162910 -0.944752  0.752244  0.669153"
      ]
     },
     "execution_count": 21,
     "metadata": {},
     "output_type": "execute_result"
    }
   ],
   "source": [
    "residualize_df.head()"
   ]
  },
  {
   "cell_type": "code",
   "execution_count": 22,
   "id": "9e8a7e2a",
   "metadata": {
    "ExecuteTime": {
     "end_time": "2023-06-04T18:41:15.762829Z",
     "start_time": "2023-06-04T18:41:15.758505Z"
    }
   },
   "outputs": [],
   "source": [
    "# Next we use a simple EWMA to explicitly estimate the variances of the\n",
    "#  residuals (though the sklearn model is internally computing this in\n",
    "#  the regression).\n",
    "node_config = {\n",
    "    \"in_col_group\": (\"residual.shift_-1\",), \n",
    "    \"out_col_group\": (\"smoothed_squared_residual.shift_-1\",),\n",
    "    \"transformer_func\": csigproc.compute_rolling_norm,\n",
    "    \"transformer_kwargs\": {\n",
    "        \"tau\": 10,\n",
    "    }\n",
    "}\n",
    "node = dtfcore.SeriesToSeriesTransformer(\n",
    "    \"compute_rolling_norm\",\n",
    "    **node_config,\n",
    ")"
   ]
  },
  {
   "cell_type": "code",
   "execution_count": 23,
   "id": "ba0cc13e",
   "metadata": {
    "ExecuteTime": {
     "end_time": "2023-06-04T18:41:15.796822Z",
     "start_time": "2023-06-04T18:41:15.765539Z"
    }
   },
   "outputs": [
    {
     "data": {
      "image/png": "[encoded data removed]",
      "text/plain": [
       "<IPython.core.display.Image object>"
      ]
     },
     "execution_count": 23,
     "metadata": {},
     "output_type": "execute_result"
    }
   ],
   "source": [
    "dag.append_to_tail(node)\n",
    "dtfcore.draw(dag)"
   ]
  },
  {
   "cell_type": "code",
   "execution_count": 24,
   "id": "fd53bd40",
   "metadata": {
    "ExecuteTime": {
     "end_time": "2023-06-04T18:41:16.025010Z",
     "start_time": "2023-06-04T18:41:15.798821Z"
    }
   },
   "outputs": [
    {
     "data": {
      "application/vnd.jupyter.widget-view+json": {
       "model_id": "495a9ee3c8d74aeab1a2bd06cbc5f057",
       "version_major": 2,
       "version_minor": 0
      },
      "text/plain": [
       "run_leq_node:   0%|          | 0/4 [00:00<?, ?it/s]"
      ]
     },
     "metadata": {},
     "output_type": "display_data"
    },
    {
     "name": "stderr",
     "output_type": "stream",
     "text": [
      "/app/helpers/hdbg.py:311: PerformanceWarning: indexing past lexsort depth may impact performance.\n",
      "  cond = value in valid_values\n"
     ]
    }
   ],
   "source": [
    "compute_rolling_norm_df = dag.run_leq_node(\n",
    "    \"compute_rolling_norm\", \"fit\"\n",
    ")[\"df_out\"]"
   ]
  },
  {
   "cell_type": "code",
   "execution_count": 25,
   "id": "095bf768",
   "metadata": {
    "ExecuteTime": {
     "end_time": "2023-06-04T18:41:16.065071Z",
     "start_time": "2023-06-04T18:41:16.027440Z"
    }
   },
   "outputs": [
    {
     "data": {
      "text/html": [
       "<div>\n",
       "<style scoped>\n",
       "    .dataframe tbody tr th:only-of-type {\n",
       "        vertical-align: middle;\n",
       "    }\n",
       "\n",
       "    .dataframe tbody tr th {\n",
       "        vertical-align: top;\n",
       "    }\n",
       "\n",
       "    .dataframe thead tr th {\n",
       "        text-align: left;\n",
       "    }\n",
       "</style>\n",
       "<table border=\"1\" class=\"dataframe\">\n",
       "  <thead>\n",
       "    <tr>\n",
       "      <th></th>\n",
       "      <th colspan=\"4\" halign=\"left\">smoothed_squared_residual.shift_-1</th>\n",
       "      <th colspan=\"4\" halign=\"left\">residual.shift_-1</th>\n",
       "      <th colspan=\"4\" halign=\"left\">ret_0.shift_-1</th>\n",
       "      <th colspan=\"4\" halign=\"left\">ret_0.shift_-1_hat</th>\n",
       "      <th colspan=\"4\" halign=\"left\">ret_0</th>\n",
       "      <th colspan=\"4\" halign=\"left\">x_1</th>\n",
       "      <th colspan=\"4\" halign=\"left\">x_2</th>\n",
       "    </tr>\n",
       "    <tr>\n",
       "      <th></th>\n",
       "      <th>100</th>\n",
       "      <th>101</th>\n",
       "      <th>102</th>\n",
       "      <th>103</th>\n",
       "      <th>100</th>\n",
       "      <th>101</th>\n",
       "      <th>102</th>\n",
       "      <th>103</th>\n",
       "      <th>100</th>\n",
       "      <th>101</th>\n",
       "      <th>102</th>\n",
       "      <th>103</th>\n",
       "      <th>100</th>\n",
       "      <th>101</th>\n",
       "      <th>102</th>\n",
       "      <th>103</th>\n",
       "      <th>100</th>\n",
       "      <th>101</th>\n",
       "      <th>102</th>\n",
       "      <th>103</th>\n",
       "      <th>100</th>\n",
       "      <th>101</th>\n",
       "      <th>102</th>\n",
       "      <th>103</th>\n",
       "      <th>100</th>\n",
       "      <th>101</th>\n",
       "      <th>102</th>\n",
       "      <th>103</th>\n",
       "    </tr>\n",
       "  </thead>\n",
       "  <tbody>\n",
       "    <tr>\n",
       "      <th>2023-05-01</th>\n",
       "      <td>0.406651</td>\n",
       "      <td>0.666367</td>\n",
       "      <td>0.549490</td>\n",
       "      <td>1.721813</td>\n",
       "      <td>0.406651</td>\n",
       "      <td>0.666367</td>\n",
       "      <td>-0.549490</td>\n",
       "      <td>-1.721813</td>\n",
       "      <td>0.446375</td>\n",
       "      <td>0.663063</td>\n",
       "      <td>-0.466750</td>\n",
       "      <td>-2.250854</td>\n",
       "      <td>0.039724</td>\n",
       "      <td>-0.003303</td>\n",
       "      <td>0.082740</td>\n",
       "      <td>-0.529041</td>\n",
       "      <td>0.330437</td>\n",
       "      <td>-0.377605</td>\n",
       "      <td>-0.982188</td>\n",
       "      <td>-0.094828</td>\n",
       "      <td>0.345584</td>\n",
       "      <td>2.117839</td>\n",
       "      <td>0.054102</td>\n",
       "      <td>0.876242</td>\n",
       "      <td>0.821618</td>\n",
       "      <td>-1.112021</td>\n",
       "      <td>0.272791</td>\n",
       "      <td>0.256486</td>\n",
       "    </tr>\n",
       "    <tr>\n",
       "      <th>2023-05-02</th>\n",
       "      <td>0.282050</td>\n",
       "      <td>0.474125</td>\n",
       "      <td>0.479592</td>\n",
       "      <td>1.197966</td>\n",
       "      <td>-0.043662</td>\n",
       "      <td>-0.162506</td>\n",
       "      <td>-0.406108</td>\n",
       "      <td>-0.226181</td>\n",
       "      <td>0.364572</td>\n",
       "      <td>0.167465</td>\n",
       "      <td>-1.648787</td>\n",
       "      <td>-1.425349</td>\n",
       "      <td>0.408234</td>\n",
       "      <td>0.329971</td>\n",
       "      <td>-1.242679</td>\n",
       "      <td>-1.199168</td>\n",
       "      <td>0.446375</td>\n",
       "      <td>0.663063</td>\n",
       "      <td>-0.466750</td>\n",
       "      <td>-2.250854</td>\n",
       "      <td>-1.303157</td>\n",
       "      <td>2.042772</td>\n",
       "      <td>-1.107373</td>\n",
       "      <td>-0.258848</td>\n",
       "      <td>0.905356</td>\n",
       "      <td>0.646703</td>\n",
       "      <td>0.199585</td>\n",
       "      <td>1.055743</td>\n",
       "    </tr>\n",
       "    <tr>\n",
       "      <th>2023-05-03</th>\n",
       "      <td>0.308534</td>\n",
       "      <td>0.422001</td>\n",
       "      <td>0.537284</td>\n",
       "      <td>1.088170</td>\n",
       "      <td>0.349502</td>\n",
       "      <td>-0.312376</td>\n",
       "      <td>-0.624330</td>\n",
       "      <td>0.866880</td>\n",
       "      <td>0.546713</td>\n",
       "      <td>-0.683227</td>\n",
       "      <td>-0.297527</td>\n",
       "      <td>0.862445</td>\n",
       "      <td>0.197211</td>\n",
       "      <td>-0.370850</td>\n",
       "      <td>0.326803</td>\n",
       "      <td>-0.004435</td>\n",
       "      <td>0.364572</td>\n",
       "      <td>0.167465</td>\n",
       "      <td>-1.648787</td>\n",
       "      <td>-1.425349</td>\n",
       "      <td>-0.536953</td>\n",
       "      <td>-0.514006</td>\n",
       "      <td>0.235506</td>\n",
       "      <td>-0.138655</td>\n",
       "      <td>0.581118</td>\n",
       "      <td>-1.648075</td>\n",
       "      <td>0.759520</td>\n",
       "      <td>0.033000</td>\n",
       "    </tr>\n",
       "    <tr>\n",
       "      <th>2023-05-04</th>\n",
       "      <td>0.345286</td>\n",
       "      <td>0.362570</td>\n",
       "      <td>0.458593</td>\n",
       "      <td>0.959814</td>\n",
       "      <td>-0.422422</td>\n",
       "      <td>0.128637</td>\n",
       "      <td>-0.131074</td>\n",
       "      <td>0.522907</td>\n",
       "      <td>-0.482119</td>\n",
       "      <td>-0.098270</td>\n",
       "      <td>0.253447</td>\n",
       "      <td>1.218844</td>\n",
       "      <td>-0.059698</td>\n",
       "      <td>-0.226907</td>\n",
       "      <td>0.384520</td>\n",
       "      <td>0.695936</td>\n",
       "      <td>0.546713</td>\n",
       "      <td>-0.683227</td>\n",
       "      <td>-0.297527</td>\n",
       "      <td>0.862445</td>\n",
       "      <td>0.294132</td>\n",
       "      <td>0.109014</td>\n",
       "      <td>0.254388</td>\n",
       "      <td>0.332814</td>\n",
       "      <td>0.028422</td>\n",
       "      <td>-1.227352</td>\n",
       "      <td>1.224647</td>\n",
       "      <td>-0.651281</td>\n",
       "    </tr>\n",
       "    <tr>\n",
       "      <th>2023-05-05</th>\n",
       "      <td>0.367326</td>\n",
       "      <td>0.351874</td>\n",
       "      <td>0.502164</td>\n",
       "      <td>0.912414</td>\n",
       "      <td>-0.429141</td>\n",
       "      <td>-0.316006</td>\n",
       "      <td>-0.619186</td>\n",
       "      <td>-0.744521</td>\n",
       "      <td>-0.292457</td>\n",
       "      <td>-0.506292</td>\n",
       "      <td>-1.481818</td>\n",
       "      <td>-1.514319</td>\n",
       "      <td>0.136685</td>\n",
       "      <td>-0.190286</td>\n",
       "      <td>-0.862632</td>\n",
       "      <td>-0.769797</td>\n",
       "      <td>-0.482119</td>\n",
       "      <td>-0.098270</td>\n",
       "      <td>0.253447</td>\n",
       "      <td>1.218844</td>\n",
       "      <td>-0.736454</td>\n",
       "      <td>-0.072044</td>\n",
       "      <td>-0.810815</td>\n",
       "      <td>-0.125592</td>\n",
       "      <td>-0.162910</td>\n",
       "      <td>-0.944752</td>\n",
       "      <td>0.752244</td>\n",
       "      <td>0.669153</td>\n",
       "    </tr>\n",
       "  </tbody>\n",
       "</table>\n",
       "</div>"
      ],
      "text/plain": [
       "           smoothed_squared_residual.shift_-1                               residual.shift_-1                               ret_0.shift_-1                               ret_0.shift_-1_hat                                   ret_0                                     x_1                                     x_2                              \n",
       "                                          100       101       102       103               100       101       102       103            100       101       102       103                100       101       102       103       100       101       102       103       100       101       102       103       100       101       102       103\n",
       "2023-05-01                           0.406651  0.666367  0.549490  1.721813          0.406651  0.666367 -0.549490 -1.721813       0.446375  0.663063 -0.466750 -2.250854           0.039724 -0.003303  0.082740 -0.529041  0.330437 -0.377605 -0.982188 -0.094828  0.345584  2.117839  0.054102  0.876242  0.821618 -1.112021  0.272791  0.256486\n",
       "2023-05-02                           0.282050  0.474125  0.479592  1.197966         -0.043662 -0.162506 -0.406108 -0.226181       0.364572  0.167465 -1.648787 -1.425349           0.408234  0.329971 -1.242679 -1.199168  0.446375  0.663063 -0.466750 -2.250854 -1.303157  2.042772 -1.107373 -0.258848  0.905356  0.646703  0.199585  1.055743\n",
       "2023-05-03                           0.308534  0.422001  0.537284  1.088170          0.349502 -0.312376 -0.624330  0.866880       0.546713 -0.683227 -0.297527  0.862445           0.197211 -0.370850  0.326803 -0.004435  0.364572  0.167465 -1.648787 -1.425349 -0.536953 -0.514006  0.235506 -0.138655  0.581118 -1.648075  0.759520  0.033000\n",
       "2023-05-04                           0.345286  0.362570  0.458593  0.959814         -0.422422  0.128637 -0.131074  0.522907      -0.482119 -0.098270  0.253447  1.218844          -0.059698 -0.226907  0.384520  0.695936  0.546713 -0.683227 -0.297527  0.862445  0.294132  0.109014  0.254388  0.332814  0.028422 -1.227352  1.224647 -0.651281\n",
       "2023-05-05                           0.367326  0.351874  0.502164  0.912414         -0.429141 -0.316006 -0.619186 -0.744521      -0.292457 -0.506292 -1.481818 -1.514319           0.136685 -0.190286 -0.862632 -0.769797 -0.482119 -0.098270  0.253447  1.218844 -0.736454 -0.072044 -0.810815 -0.125592 -0.162910 -0.944752  0.752244  0.669153"
      ]
     },
     "execution_count": 25,
     "metadata": {},
     "output_type": "execute_result"
    }
   ],
   "source": [
    "compute_rolling_norm_df.head()"
   ]
  },
  {
   "cell_type": "markdown",
   "id": "68433eb0",
   "metadata": {},
   "source": [
    "## Estimate factor returns variance-covariance matrices"
   ]
  },
  {
   "cell_type": "code",
   "execution_count": 26,
   "id": "6b6ffbe7",
   "metadata": {
    "ExecuteTime": {
     "end_time": "2023-06-04T18:41:16.070139Z",
     "start_time": "2023-06-04T18:41:16.067708Z"
    }
   },
   "outputs": [],
   "source": [
    "# TODO: We can compute beta beta^transpose, linearizing the matrix as\n",
    "#  feature columns, and then apply EWMA smoothing as above."
   ]
  },
  {
   "cell_type": "markdown",
   "id": "b862f74e",
   "metadata": {},
   "source": [
    "# Extract estimates and compute statistics"
   ]
  },
  {
   "cell_type": "code",
   "execution_count": 27,
   "id": "3407ca77",
   "metadata": {
    "ExecuteTime": {
     "end_time": "2023-06-04T18:41:16.080456Z",
     "start_time": "2023-06-04T18:41:16.075639Z"
    }
   },
   "outputs": [
    {
     "data": {
      "text/plain": [
       "dict_keys(['_key_fit_state', \"_info['fit']\"])"
      ]
     },
     "metadata": {},
     "output_type": "display_data"
    }
   ],
   "source": [
    "# Information supplementary to the dataframes can be accessed\n",
    "# (such as any sklearn model info).\n",
    "sklearn_fit_state = dag.get_node(\"sklearn\").get_fit_state()\n",
    "display(sklearn_fit_state.keys())"
   ]
  },
  {
   "cell_type": "code",
   "execution_count": 28,
   "id": "7fbdfaee",
   "metadata": {
    "ExecuteTime": {
     "end_time": "2023-06-04T18:41:16.090695Z",
     "start_time": "2023-06-04T18:41:16.082288Z"
    }
   },
   "outputs": [
    {
     "data": {
      "text/plain": [
       "{'_model': LinearRegression(fit_intercept=False),\n",
       " \"_info['fit']\": OrderedDict([('model_x_vars', ['x_1', 'x_2']),\n",
       "              ('model_params',\n",
       "               {'copy_X': True,\n",
       "                'fit_intercept': False,\n",
       "                'n_jobs': None,\n",
       "                'normalize': 'deprecated',\n",
       "                'positive': False}),\n",
       "              ('model_attributes',\n",
       "               OrderedDict([('fit_intercept', False),\n",
       "                            ('normalize', 'deprecated'),\n",
       "                            ('copy_X', True),\n",
       "                            ('n_jobs', None),\n",
       "                            ('positive', False),\n",
       "                            ('n_features_in_', 2),\n",
       "                            ('coef_', array([[-0.21643078,  0.13938234]])),\n",
       "                            ('rank_', 2),\n",
       "                            ('singular_', array([3.67883457, 2.18353991])),\n",
       "                            ('intercept_', 0.0)])),\n",
       "              ('model_score', 0.07223187389865093),\n",
       "              ('df_out_info',\n",
       "               \"<class 'pandas.core.frame.DataFrame'>\\nDatetimeIndex: 9 entries, 2023-05-01 to 2023-05-11\\nFreq: B\\nData columns (total 2 columns):\\n #   Column              Non-Null Count  Dtype  \\n---  ------              --------------  -----  \\n 0   ret_0.shift_-1      9 non-null      float64\\n 1   ret_0.shift_-1_hat  9 non-null      float64\\ndtypes: float64(2)\")])}"
      ]
     },
     "execution_count": 28,
     "metadata": {},
     "output_type": "execute_result"
    }
   ],
   "source": [
    "# Note that we may recover from sklearn information such as\n",
    "# - model coefficients\n",
    "# - model score\n",
    "# - full model specification\n",
    "sklearn_fit_state[\"_key_fit_state\"][100]"
   ]
  },
  {
   "cell_type": "markdown",
   "id": "88af80a3",
   "metadata": {},
   "source": [
    "# Alternative DAG construction method"
   ]
  },
  {
   "cell_type": "code",
   "execution_count": 29,
   "id": "fcf0ea02",
   "metadata": {
    "ExecuteTime": {
     "end_time": "2023-06-04T18:41:16.108727Z",
     "start_time": "2023-06-04T18:41:16.093447Z"
    }
   },
   "outputs": [],
   "source": [
    "# In transferring this DAG from a notebook to code, we would do something\n",
    "# similar to the following:\n",
    "\n",
    "class SimpleRiskModel_DagBuilder(dtfcore.DagBuilder):\n",
    "    \"\"\"\n",
    "    A pipeline similar to real feature processing.\n",
    "    \"\"\"\n",
    "\n",
    "    @staticmethod\n",
    "    def get_column_name(tag: str) -> str:\n",
    "        \"\"\"\n",
    "        See description in the parent class.\n",
    "        \"\"\"\n",
    "        raise NotImplementedError\n",
    "\n",
    "    def get_trading_period(\n",
    "        self, config: cconfig.Config, mark_key_as_used: bool\n",
    "    ) -> str:\n",
    "        \"\"\"\n",
    "        See description in the parent class.\n",
    "        \"\"\"\n",
    "        _ = self\n",
    "        raise NotImplementedError\n",
    "\n",
    "    def get_required_lookback_in_effective_days(\n",
    "        self, config: cconfig.Config, mark_key_as_used: bool\n",
    "    ) -> str:\n",
    "        \"\"\"\n",
    "        See description in the parent class.\n",
    "        \"\"\"\n",
    "        raise NotImplementedError\n",
    "\n",
    "    def set_weights(\n",
    "        self, config: cconfig.Config, weights: pd.Series\n",
    "    ) -> cconfig.Config:\n",
    "        \"\"\"\n",
    "        See description in the parent class.\n",
    "        \"\"\"\n",
    "        raise NotImplementedError\n",
    "\n",
    "    def convert_to_fast_prod_setup(\n",
    "        self, config: cconfig.Config\n",
    "    ) -> cconfig.Config:\n",
    "        \"\"\"\n",
    "        See description in the parent class.\n",
    "        \"\"\"\n",
    "        raise NotImplementedError\n",
    "\n",
    "    def get_config_template(self) -> cconfig.Config:\n",
    "        dict_ = {\n",
    "            self._get_nid(\"sklearn\"): {\n",
    "                \"in_col_groups\": [(x,) for x in cols],\n",
    "                \"out_col_group\": (),\n",
    "                \"x_vars\": x_vars,\n",
    "                \"y_vars\": y_vars,\n",
    "                \"steps_ahead\": 1,\n",
    "                \"model_kwargs\": {\n",
    "                    \"fit_intercept\": False,\n",
    "                },\n",
    "                \"nan_mode\": \"drop\",\n",
    "            },\n",
    "            self._get_nid(\"residualize\"): {\n",
    "                \"in_col_groups\": [\n",
    "                    (\"ret_0.shift_-1\",), \n",
    "                    (\"ret_0.shift_-1_hat\",),\n",
    "                ],\n",
    "                \"out_col_group\": (),\n",
    "                \"transformer_kwargs\": {\n",
    "                    \"term1_col\": \"ret_0.shift_-1\",\n",
    "                    \"term2_col\": \"ret_0.shift_-1_hat\",\n",
    "                    \"out_col\": \"residual.shift_-1\",\n",
    "                    \"operation\": \"sub\"\n",
    "                }\n",
    "            },\n",
    "            self._get_nid(\"compute_rolling_node\"): {\n",
    "                \"in_col_group\": (\"residual.shift_-1\",), \n",
    "                \"out_col_group\": (\"smoothed_squared_residual.shift_-1\",),\n",
    "                \"transformer_kwargs\": {\n",
    "                    \"tau\": 10,\n",
    "                }\n",
    "            },\n",
    "        }\n",
    "        config = cconfig.Config.from_dict(dict_)\n",
    "        return config\n",
    "\n",
    "    def _get_dag(\n",
    "        self,\n",
    "        config: cconfig.Config,\n",
    "        mode: str = \"strict\",\n",
    "    ) -> dtfcore.DAG:\n",
    "        dag = dtfcore.DAG(mode=mode)\n",
    "        _LOG.debug(\"%s\", config)\n",
    "        #\n",
    "        stage = \"sklearn\"\n",
    "        nid = self._get_nid(stage)\n",
    "        node = dtfcore.MultiindexSkLearnModel(\n",
    "            nid,\n",
    "            model_func=slmode.LinearRegression,\n",
    "            **config[nid].to_dict(),\n",
    "        )\n",
    "        dag.append_to_tail(node)\n",
    "        #\n",
    "        node = dtfcore.GroupedColDfToDfTransformer(\n",
    "            \"residualize\",\n",
    "            transformer_func=cofeatur.combine_columns,\n",
    "            **config[nid].to_dict(),\n",
    "        )\n",
    "        dag.append_to_tail(node)\n",
    "        #\n",
    "        node = dtfcore.SeriesToSeriesTransformer(\n",
    "            nid,\n",
    "            transformer_func=csigproc.compute_rolling_norm,\n",
    "            **config[nid].to_dict(),\n",
    "        )\n",
    "        dag.append_to_tail(node)\n",
    "        #\n",
    "        return dag"
   ]
  },
  {
   "cell_type": "code",
   "execution_count": null,
   "id": "c1593155",
   "metadata": {},
   "outputs": [],
   "source": []
  }
 ],
 "metadata": {
  "kernelspec": {
   "display_name": "Python 3 (ipykernel)",
   "language": "python",
   "name": "python3"
  },
  "language_info": {
   "codemirror_mode": {
    "name": "ipython",
    "version": 3
   },
   "file_extension": ".py",
   "mimetype": "text/x-python",
   "name": "python",
   "nbconvert_exporter": "python",
   "pygments_lexer": "ipython3",
   "version": "3.9.5"
  },
  "toc": {
   "base_numbering": 1,
   "nav_menu": {},
   "number_sections": true,
   "sideBar": true,
   "skip_h1_title": false,
   "title_cell": "Table of Contents",
   "title_sidebar": "Contents",
   "toc_cell": false,
   "toc_position": {},
   "toc_section_display": true,
   "toc_window_display": false
  }
 },
 "nbformat": 4,
 "nbformat_minor": 5
}
