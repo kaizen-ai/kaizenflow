{
 "cells": [
  {
   "cell_type": "markdown",
   "id": "20a3847c",
   "metadata": {},
   "source": [
    "# Description"
   ]
  },
  {
   "cell_type": "markdown",
   "id": "a8940e91",
   "metadata": {},
   "source": [
    "Display the backtest results as the output of the `ForecastEvaluator`, created in `Master_research_backtest_analyzer` notebook.\n",
    "\n",
    "The user provides a list of the outputs of the 2nd stage of the backtest, and the notebook displays the portfolio stats for the provided runs."
   ]
  },
  {
   "cell_type": "markdown",
   "id": "b6b1d9f4",
   "metadata": {},
   "source": [
    "# Imports"
   ]
  },
  {
   "cell_type": "code",
   "execution_count": null,
   "id": "c2716a98",
   "metadata": {},
   "outputs": [],
   "source": [
    "%load_ext autoreload\n",
    "%autoreload 2\n",
    "%matplotlib inline"
   ]
  },
  {
   "cell_type": "code",
   "execution_count": null,
   "id": "8682c985",
   "metadata": {},
   "outputs": [],
   "source": [
    "import logging\n",
    "\n",
    "import pandas as pd\n",
    "\n",
    "import core.config as cconfig\n",
    "import core.plotting as coplotti\n",
    "import dataflow.model as dtfmod\n",
    "import helpers.hdbg as hdbg\n",
    "import helpers.henv as henv\n",
    "import helpers.hprint as hprint"
   ]
  },
  {
   "cell_type": "code",
   "execution_count": null,
   "id": "ce1c22cf",
   "metadata": {},
   "outputs": [],
   "source": [
    "hdbg.init_logger(verbosity=logging.INFO)\n",
    "\n",
    "_LOG = logging.getLogger(__name__)\n",
    "\n",
    "_LOG.info(\"%s\", henv.get_system_signature()[0])\n",
    "\n",
    "hprint.config_notebook()"
   ]
  },
  {
   "cell_type": "markdown",
   "id": "b0da9a70",
   "metadata": {},
   "source": [
    "# Build the config dict"
   ]
  },
  {
   "cell_type": "code",
   "execution_count": null,
   "id": "405ee038",
   "metadata": {},
   "outputs": [],
   "source": [
    "# Get config from env when running the notebook via the `run_notebook.py` script.\n",
    "default_config = cconfig.get_config_from_env()\n",
    "if default_config:\n",
    "    _LOG.info(\"Using config from env vars\")\n",
    "else:\n",
    "    _LOG.info(\"Using hardwired config\")\n",
    "    default_config_dict = {\n",
    "        # Provide a list of experiment output dirs for analysis.\n",
    "        \"system_log_dirs\": [\n",
    "            \"/shared_data/backtest.C14a.config1/build_tile_configs.C14a.ccxt_v8_1-all.15T.2023-08-01_2024-07-07.ins.run0/portfolio_dfs/20240708_125433/default_config\"\n",
    "        ],\n",
    "        \"pnl_resampling_frequency\": \"D\",\n",
    "        \"bin_annotated_portfolio_df_kwargs\": {\n",
    "            \"proportion_of_data_per_bin\": 0.2,\n",
    "            \"normalize_prediction_col_values\": False,\n",
    "        },\n",
    "        # Start date to trim the data for analysis.\n",
    "        # To use all data, use \"None\".\n",
    "        # Example of `start_date` value:\n",
    "        # \"start_date\": pd.Timestamp(\"2023-08-01\", tz=\"US/Eastern\")\n",
    "        \"start_date\": None,\n",
    "    }\n",
    "    # Build config from dict.\n",
    "    default_config = cconfig.Config().from_dict(default_config_dict)\n",
    "print(default_config)"
   ]
  },
  {
   "cell_type": "markdown",
   "id": "b718ef29",
   "metadata": {},
   "source": [
    "# Load portfolio metrics"
   ]
  },
  {
   "cell_type": "code",
   "execution_count": null,
   "id": "04c8e72a",
   "metadata": {},
   "outputs": [],
   "source": [
    "# Load the portfolio DFs and stats.\n",
    "bar_metrics_dict = {}\n",
    "portfolio_df_dict = {}\n",
    "start_date = default_config[\"start_date\"]\n",
    "for index, system_log_dir in enumerate(default_config[\"system_log_dirs\"]):\n",
    "    (\n",
    "        portfolio_df,\n",
    "        bar_metrics,\n",
    "    ) = dtfmod.AbstractForecastEvaluator.load_portfolio_and_stats(system_log_dir)\n",
    "    bar_metrics_dict[index] = bar_metrics.loc[start_date:]\n",
    "    portfolio_df_dict[index] = portfolio_df.loc[start_date:]\n",
    "    # Trim to given start_date, if provided.\n",
    "    if start_date is not None:\n",
    "        _LOG.warning(\"Trimming data starting from %s\", str(start_date))\n",
    "        bar_metrics = bar_metrics.loc[start_date:]\n",
    "        portfolio_df = portfolio_df.loc[start_date:]\n",
    "    bar_metrics_dict[index] = bar_metrics\n",
    "    portfolio_df_dict[index] = portfolio_df\n",
    "portfolio_stats_df = pd.concat(bar_metrics_dict, axis=1)"
   ]
  },
  {
   "cell_type": "markdown",
   "id": "88b0c6ea",
   "metadata": {},
   "source": [
    "# Portfolio stats"
   ]
  },
  {
   "cell_type": "code",
   "execution_count": null,
   "id": "5a5a0e39",
   "metadata": {},
   "outputs": [],
   "source": [
    "coplotti.plot_portfolio_stats(\n",
    "    portfolio_stats_df, freq=default_config[\"pnl_resampling_frequency\"]\n",
    ")"
   ]
  },
  {
   "cell_type": "code",
   "execution_count": null,
   "id": "ef6a1e49",
   "metadata": {},
   "outputs": [],
   "source": [
    "# Plot binned stats.\n",
    "coplotti.plot_portfolio_binned_stats(\n",
    "    portfolio_df_dict,\n",
    "    **default_config[\"bin_annotated_portfolio_df_kwargs\"],\n",
    ")"
   ]
  },
  {
   "cell_type": "markdown",
   "id": "04d4e030",
   "metadata": {},
   "source": [
    "# Aggregate portfolio stats"
   ]
  },
  {
   "cell_type": "code",
   "execution_count": null,
   "id": "feae652a",
   "metadata": {},
   "outputs": [],
   "source": [
    "stats_computer = dtfmod.StatsComputer()"
   ]
  },
  {
   "cell_type": "code",
   "execution_count": null,
   "id": "c50c9971",
   "metadata": {},
   "outputs": [],
   "source": [
    "portfolio_stats, daily_metrics = stats_computer.compute_portfolio_stats(\n",
    "    portfolio_stats_df,\n",
    "    default_config[\"pnl_resampling_frequency\"],\n",
    ")\n",
    "display(portfolio_stats)"
   ]
  },
  {
   "cell_type": "code",
   "execution_count": null,
   "id": "54a4c0ee",
   "metadata": {},
   "outputs": [],
   "source": []
  }
 ],
 "metadata": {
  "kernelspec": {
   "display_name": "Python 3 (ipykernel)",
   "language": "python",
   "name": "python3"
  },
  "language_info": {
   "codemirror_mode": {
    "name": "ipython",
    "version": 3
   },
   "file_extension": ".py",
   "mimetype": "text/x-python",
   "name": "python",
   "nbconvert_exporter": "python",
   "pygments_lexer": "ipython3",
   "version": "3.9.5"
  },
  "toc": {
   "base_numbering": 1,
   "nav_menu": {},
   "number_sections": true,
   "sideBar": true,
   "skip_h1_title": false,
   "title_cell": "Table of Contents",
   "title_sidebar": "Contents",
   "toc_cell": false,
   "toc_position": {},
   "toc_section_display": true,
   "toc_window_display": false
  }
 },
 "nbformat": 4,
 "nbformat_minor": 5
}
