{
 "cells": [
  {
   "cell_type": "markdown",
   "id": "3d29b0fc",
   "metadata": {},
   "source": [
    "# Description"
   ]
  },
  {
   "cell_type": "markdown",
   "id": "ea2192be",
   "metadata": {},
   "source": [
    "Print out all the links to the published notebooks stored in the given text file."
   ]
  },
  {
   "cell_type": "markdown",
   "id": "fb579415",
   "metadata": {
    "ExecuteTime": {
     "end_time": "2024-04-17T06:08:19.416013Z",
     "start_time": "2024-04-17T06:08:19.400943Z"
    }
   },
   "source": [
    "# Imports"
   ]
  },
  {
   "cell_type": "code",
   "execution_count": 1,
   "id": "97bbec36",
   "metadata": {
    "ExecuteTime": {
     "end_time": "2024-06-03T14:51:02.277870Z",
     "start_time": "2024-06-03T14:51:00.241417Z"
    }
   },
   "outputs": [],
   "source": [
    "%load_ext autoreload\n",
    "%autoreload 2\n",
    "%matplotlib inline"
   ]
  },
  {
   "cell_type": "code",
   "execution_count": 2,
   "id": "518df056",
   "metadata": {
    "ExecuteTime": {
     "end_time": "2024-06-03T14:51:13.825723Z",
     "start_time": "2024-06-03T14:51:02.283381Z"
    }
   },
   "outputs": [
    {
     "name": "stderr",
     "output_type": "stream",
     "text": [
      "/app/amp/core/statistics/random_samples.py:12: TqdmExperimentalWarning: Using `tqdm.autonotebook.tqdm` in notebook mode. Use `tqdm.tqdm` instead to force console mode (e.g. in jupyter console)\n",
      "  from tqdm.autonotebook import tqdm\n",
      "\u001b[33mWARNING\u001b[0m: No module named 'gluonts'\n",
      "\u001b[33mWARNING\u001b[0m: No module named 'gluonts'\n"
     ]
    }
   ],
   "source": [
    "import logging\n",
    "import os\n",
    "\n",
    "import pandas as pd\n",
    "from IPython.display import HTML, display\n",
    "\n",
    "import core.config as cconfig\n",
    "import helpers.hdbg as hdbg\n",
    "import helpers.henv as henv\n",
    "import helpers.hprint as hprint\n",
    "import oms.broker.ccxt.ccxt_logger as obcccclo\n",
    "import oms.execution_analysis_configs as oexancon"
   ]
  },
  {
   "cell_type": "code",
   "execution_count": 3,
   "id": "f0793aa5",
   "metadata": {
    "ExecuteTime": {
     "end_time": "2024-06-03T14:51:14.190603Z",
     "start_time": "2024-06-03T14:51:13.828361Z"
    }
   },
   "outputs": [
    {
     "name": "stdout",
     "output_type": "stream",
     "text": [
      "\u001b[0mWARNING: Running in Jupyter\n",
      "INFO  > cmd='/venv/lib/python3.9/site-packages/ipykernel_launcher.py -f /home/.local/share/jupyter/runtime/kernel-32ed6b6f-d96c-4319-af8e-6703b856aab5.json'\n",
      "INFO  # Git\n",
      "  branch_name='CmTask8300_fix_post_run_balances'\n",
      "  hash='7134a6a38'\n",
      "  # Last commits:\n",
      "    *   7134a6a38 Nina Lee Merge branch 'master' into CmTask8300_fix_post_run_balances       (   3 hours ago) Mon Jun 3 11:59:46 2024  (HEAD -> CmTask8300_fix_post_run_balances, origin/CmTask8300_fix_post_run_balances)\n",
      "    |\\  \n",
      "    | * 3cce8bf2b pavolrabatin CmTask8421_Add_aws_efs_access_point_Resource_to_the_EFS_Module (#8465) (   5 hours ago) Mon Jun 3 10:15:39 2024  (origin/CmampTask8483_Improve_shadow_trading_website_for_investors)\n",
      "    | * 6abdbbfc7 Henry Wu CmTask8414_Get_Info_From_Folkapp (#8430)                          (    2 days ago) Sat Jun 1 16:22:00 2024           \n",
      "# Machine info\n",
      "  system=Linux\n",
      "  node name=260429f2eaf6\n",
      "  release=5.15.0-1056-aws\n",
      "  version=#61~20.04.1-Ubuntu SMP Wed Mar 13 17:40:41 UTC 2024\n",
      "  machine=x86_64\n",
      "  processor=x86_64\n",
      "  cpu count=8\n",
      "  cpu freq=scpufreq(current=2499.998, min=0.0, max=0.0)\n",
      "  memory=svmem(total=33280270336, available=23448489984, percent=29.5, used=9218338816, free=9639698432, active=8056532992, inactive=11503702016, buffers=2085707776, cached=12336525312, shared=1216512, slab=3659063296)\n",
      "  disk usage=sdiskusage(total=218506772480, used=71570612224, free=146919383040, percent=32.8)\n",
      "# Packages\n",
      "  python: 3.9.5\n",
      "  cvxopt: 1.3.2\n",
      "  cvxpy: 1.4.2\n",
      "  gluonnlp: ?\n",
      "  gluonts: ?\n",
      "  joblib: 1.3.2\n",
      "  mxnet: ?\n",
      "  numpy: 1.26.0\n",
      "  pandas: 2.1.1\n",
      "  pyarrow: 15.0.0\n",
      "  scipy: 1.11.3\n",
      "  seaborn: 0.13.0\n",
      "  sklearn: 1.3.1\n",
      "  statsmodels: 0.14.0\n"
     ]
    }
   ],
   "source": [
    "hdbg.init_logger(verbosity=logging.INFO)\n",
    "_LOG = logging.getLogger(__name__)\n",
    "_LOG.info(\"%s\", henv.get_system_signature()[0])\n",
    "hprint.config_notebook()"
   ]
  },
  {
   "cell_type": "markdown",
   "id": "fd7787ab",
   "metadata": {},
   "source": [
    "# Config"
   ]
  },
  {
   "cell_type": "code",
   "execution_count": 4,
   "id": "6aa23d4c",
   "metadata": {
    "ExecuteTime": {
     "end_time": "2024-06-03T14:51:14.292705Z",
     "start_time": "2024-06-03T14:51:14.198190Z"
    },
    "lines_to_next_cell": 2
   },
   "outputs": [
    {
     "name": "stdout",
     "output_type": "stream",
     "text": [
      "timestamp_dir: /shared_data/CmTask7852_5/system_reconciliation/C11a/prod/20240509_155500.20240509_165000\n",
      "analysis_notebooks_file_path: /shared_data/CmTask7852_5/system_reconciliation/C11a/prod/20240509_155500.20240509_165000/system_log_dir.manual/analysis_notebooks/analysis_notebooks_links.csv\n"
     ]
    }
   ],
   "source": [
    "config = cconfig.get_config_from_env()\n",
    "if config:\n",
    "    _LOG.info(\"Using config from env vars\")\n",
    "else:\n",
    "    system_log_dir = \"/shared_data/CmTask7852_5/system_reconciliation/C11a/prod/20240509_155500.20240509_165000/system_log_dir.manual\"\n",
    "    timestamp_dir, _ = os.path.split(system_log_dir)\n",
    "    analysis_notebooks_file_path = os.path.join(\n",
    "        system_log_dir,\n",
    "        \"analysis_notebooks\",\n",
    "        \"analysis_notebooks_links.csv\",\n",
    "    )\n",
    "    config_list = oexancon.get_master_trading_system_report_notebook_config(\n",
    "        timestamp_dir, analysis_notebooks_file_path\n",
    "    )\n",
    "    config = config_list[0]\n",
    "print(config)"
   ]
  },
  {
   "cell_type": "markdown",
   "id": "cce89904",
   "metadata": {
    "lines_to_next_cell": 2
   },
   "source": [
    "# Utils"
   ]
  },
  {
   "cell_type": "code",
   "execution_count": 5,
   "id": "533b734b",
   "metadata": {
    "ExecuteTime": {
     "end_time": "2024-06-03T14:51:14.369796Z",
     "start_time": "2024-06-03T14:51:14.299223Z"
    }
   },
   "outputs": [],
   "source": [
    "# TODO(Vlad): The same as in the `Master_buildmeister_dashboard`. Have to be moved to the helpers.\n",
    "# TODO(Toma): Move functions to `oms/notebooks/notebooks_utils.py`.\n",
    "def make_clickable(url: str) -> str:\n",
    "    \"\"\"\n",
    "    Wrapper to make the URL value clickable.\n",
    "\n",
    "    :param url: URL value to convert\n",
    "    :return: clickable URL link\n",
    "    \"\"\"\n",
    "    return f'<a href=\"{url}\" target=\"_blank\">{url}</a>'\n",
    "\n",
    "\n",
    "def get_balances(ccxt_log: obcccclo.CcxtLogger) -> pd.DataFrame:\n",
    "    \"\"\"\n",
    "    Load balances Dataframe.\n",
    "    \"\"\"\n",
    "    balances = ccxt_log.load_balances()\n",
    "    # Get the balances JSON from the list returned by `load_balances` and\n",
    "    # transform per-asset information to Dataframe.\n",
    "    # Pick the latest balance to process the edge case when the data from\n",
    "    # multiple runs is saved to the same directory due to re-runs.\n",
    "    if len(balances) > 1:\n",
    "        # TODO(Toma): consider assert.\n",
    "        _LOG.info(\"Multiple files found, using the balances from the latest run\")\n",
    "    balances_df = pd.DataFrame(balances[-1][\"info\"][\"assets\"])\n",
    "    balances_df = balances_df[[\"asset\", \"walletBalance\"]]\n",
    "    return balances_df"
   ]
  },
  {
   "cell_type": "markdown",
   "id": "3b8577a8",
   "metadata": {},
   "source": [
    "# Print the notebooks links"
   ]
  },
  {
   "cell_type": "code",
   "execution_count": 6,
   "id": "0aaef93f",
   "metadata": {
    "ExecuteTime": {
     "end_time": "2024-06-03T14:51:14.461726Z",
     "start_time": "2024-06-03T14:51:14.373044Z"
    }
   },
   "outputs": [
    {
     "data": {
      "text/html": [
       "<table border=\"1\" class=\"dataframe\">\n",
       "  <thead>\n",
       "    <tr style=\"text-align: right;\">\n",
       "      <th></th>\n",
       "      <th>Notebook Name</th>\n",
       "      <th>URL</th>\n",
       "    </tr>\n",
       "  </thead>\n",
       "  <tbody>\n",
       "    <tr>\n",
       "      <th>0</th>\n",
       "      <td>Master_system_reconciliation_fast</td>\n",
       "      <td><a href=\"http://172.30.2.44/CmTask7895/Master_system_reconciliation_fast.0.20240509-131036.html\" target=\"_blank\">http://172.30.2.44/CmTask7895/Master_system_reconciliation_fast.0.20240509-131036.html</a></td>\n",
       "    </tr>\n",
       "    <tr>\n",
       "      <th>1</th>\n",
       "      <td>Master_broker_portfolio_reconciliation</td>\n",
       "      <td><a href=\"http://172.30.2.44/CmTask7895/Master_broker_portfolio_reconciliation.0.20240513-130258.html\" target=\"_blank\">http://172.30.2.44/CmTask7895/Master_broker_portfolio_reconciliation.0.20240513-130258.html</a></td>\n",
       "    </tr>\n",
       "    <tr>\n",
       "      <th>2</th>\n",
       "      <td>Master_broker_debugging</td>\n",
       "      <td><a href=\"http://172.30.2.44/CmTask7895/Master_broker_debugging.0.20240513-130434.html\" target=\"_blank\">http://172.30.2.44/CmTask7895/Master_broker_debugging.0.20240513-130434.html</a></td>\n",
       "    </tr>\n",
       "    <tr>\n",
       "      <th>3</th>\n",
       "      <td>Master_execution_analysis</td>\n",
       "      <td><a href=\"http://172.30.2.44/CmTask7895/Master_execution_analysis.0.20240513-130641.html\" target=\"_blank\">http://172.30.2.44/CmTask7895/Master_execution_analysis.0.20240513-130641.html</a></td>\n",
       "    </tr>\n",
       "    <tr>\n",
       "      <th>4</th>\n",
       "      <td>Master_bid_ask_execution_analysis</td>\n",
       "      <td><a href=\"http://172.30.2.44/CmTask7895/Master_bid_ask_execution_analysis.0.20240513-131524.html\" target=\"_blank\">http://172.30.2.44/CmTask7895/Master_bid_ask_execution_analysis.0.20240513-131524.html</a></td>\n",
       "    </tr>\n",
       "  </tbody>\n",
       "</table>"
      ],
      "text/plain": [
       "<IPython.core.display.HTML object>"
      ]
     },
     "metadata": {},
     "output_type": "display_data"
    }
   ],
   "source": [
    "df = pd.read_csv(config[\"analysis_notebooks_file_path\"])\n",
    "df[\"URL\"] = df[\"URL\"].apply(make_clickable)\n",
    "display(HTML(df.to_html(escape=False)))"
   ]
  },
  {
   "cell_type": "markdown",
   "id": "8fbb5ac5",
   "metadata": {},
   "source": [
    "# Load balances"
   ]
  },
  {
   "cell_type": "markdown",
   "id": "b25a4790",
   "metadata": {
    "run_control": {
     "marked": false
    }
   },
   "source": [
    "## Before run"
   ]
  },
  {
   "cell_type": "code",
   "execution_count": 7,
   "id": "bf6eb88c",
   "metadata": {
    "ExecuteTime": {
     "end_time": "2024-06-03T14:51:14.544413Z",
     "start_time": "2024-06-03T14:51:14.465695Z"
    }
   },
   "outputs": [
    {
     "name": "stdout",
     "output_type": "stream",
     "text": [
      "WARNING Path '/shared_data/CmTask7852_5/system_reconciliation/C11a/prod/20240509_155500.20240509_165000/flatten_account.before/broker_config.json' doesn't exist!\n",
      "WARNING Path '/shared_data/CmTask7852_5/system_reconciliation/C11a/prod/20240509_155500.20240509_165000/flatten_account.before/args.json' doesn't exist!\n",
      "WARNING Path '/shared_data/CmTask7852_5/system_reconciliation/C11a/prod/20240509_155500.20240509_165000/flatten_account.before/child_order_fills' doesn't exist!\n",
      "WARNING Path '/shared_data/CmTask7852_5/system_reconciliation/C11a/prod/20240509_155500.20240509_165000/flatten_account.before/ccxt_child_order_responses' doesn't exist!\n",
      "WARNING Path '/shared_data/CmTask7852_5/system_reconciliation/C11a/prod/20240509_155500.20240509_165000/flatten_account.before/oms_child_orders' doesn't exist!\n",
      "WARNING Path '/shared_data/CmTask7852_5/system_reconciliation/C11a/prod/20240509_155500.20240509_165000/flatten_account.before/oms_parent_orders' doesn't exist!\n",
      "WARNING Path '/shared_data/CmTask7852_5/system_reconciliation/C11a/prod/20240509_155500.20240509_165000/flatten_account.before/bid_ask' doesn't exist!\n",
      "WARNING Path '/shared_data/CmTask7852_5/system_reconciliation/C11a/prod/20240509_155500.20240509_165000/flatten_account.before/bid_ask' doesn't exist!\n",
      "WARNING Path '/shared_data/CmTask7852_5/system_reconciliation/C11a/prod/20240509_155500.20240509_165000/flatten_account.before/reduce_only/ccxt_child_order_responses' doesn't exist!\n",
      "WARNING Path '/shared_data/CmTask7852_5/system_reconciliation/C11a/prod/20240509_155500.20240509_165000/flatten_account.before/reduce_only/oms_child_orders' doesn't exist!\n"
     ]
    }
   ],
   "source": [
    "# Init the log reader.\n",
    "log_dir = os.path.join(config[\"timestamp_dir\"], \"flatten_account.before\")\n",
    "ccxt_log_reader = obcccclo.CcxtLogger(log_dir)"
   ]
  },
  {
   "cell_type": "code",
   "execution_count": 8,
   "id": "dba8895d",
   "metadata": {
    "ExecuteTime": {
     "end_time": "2024-06-03T14:51:14.881418Z",
     "start_time": "2024-06-03T14:51:14.547498Z"
    }
   },
   "outputs": [
    {
     "data": {
      "application/vnd.jupyter.widget-view+json": {
       "model_id": "6d1ade57eab94e4fb0025af94004c0eb",
       "version_major": 2,
       "version_minor": 0
      },
      "text/plain": [
       "Loading '/shared_data/CmTask7852_5/system_reconciliation/C11a/prod/20240509_155500.20240509_165000/flatten_acc…"
      ]
     },
     "metadata": {},
     "output_type": "display_data"
    },
    {
     "data": {
      "text/html": [
       "<div>\n",
       "<style scoped>\n",
       "    .dataframe tbody tr th:only-of-type {\n",
       "        vertical-align: middle;\n",
       "    }\n",
       "\n",
       "    .dataframe tbody tr th {\n",
       "        vertical-align: top;\n",
       "    }\n",
       "\n",
       "    .dataframe thead th {\n",
       "        text-align: right;\n",
       "    }\n",
       "</style>\n",
       "<table border=\"1\" class=\"dataframe\">\n",
       "  <thead>\n",
       "    <tr style=\"text-align: right;\">\n",
       "      <th></th>\n",
       "      <th>asset</th>\n",
       "      <th>walletBalance</th>\n",
       "    </tr>\n",
       "  </thead>\n",
       "  <tbody>\n",
       "    <tr>\n",
       "      <th>0</th>\n",
       "      <td>FDUSD</td>\n",
       "      <td>0.00000000</td>\n",
       "    </tr>\n",
       "    <tr>\n",
       "      <th>1</th>\n",
       "      <td>BTC</td>\n",
       "      <td>0.00000000</td>\n",
       "    </tr>\n",
       "    <tr>\n",
       "      <th>2</th>\n",
       "      <td>XRP</td>\n",
       "      <td>0.00000000</td>\n",
       "    </tr>\n",
       "    <tr>\n",
       "      <th>3</th>\n",
       "      <td>TUSD</td>\n",
       "      <td>0.00000000</td>\n",
       "    </tr>\n",
       "    <tr>\n",
       "      <th>4</th>\n",
       "      <td>BNB</td>\n",
       "      <td>0.00000000</td>\n",
       "    </tr>\n",
       "    <tr>\n",
       "      <th>5</th>\n",
       "      <td>ETH</td>\n",
       "      <td>0.00000000</td>\n",
       "    </tr>\n",
       "    <tr>\n",
       "      <th>6</th>\n",
       "      <td>USDT</td>\n",
       "      <td>8574.04872986</td>\n",
       "    </tr>\n",
       "    <tr>\n",
       "      <th>7</th>\n",
       "      <td>USDC</td>\n",
       "      <td>0.00000000</td>\n",
       "    </tr>\n",
       "  </tbody>\n",
       "</table>\n",
       "</div>"
      ],
      "text/plain": [
       "   asset  walletBalance\n",
       "0  FDUSD     0.00000000\n",
       "1    BTC     0.00000000\n",
       "2    XRP     0.00000000\n",
       "3   TUSD     0.00000000\n",
       "4    BNB     0.00000000\n",
       "5    ETH     0.00000000\n",
       "6   USDT  8574.04872986\n",
       "7   USDC     0.00000000"
      ]
     },
     "metadata": {},
     "output_type": "display_data"
    }
   ],
   "source": [
    "balances_df = get_balances(ccxt_log_reader)\n",
    "display(balances_df)"
   ]
  },
  {
   "cell_type": "markdown",
   "id": "20d9dccb",
   "metadata": {
    "ExecuteTime": {
     "end_time": "2024-05-01T23:49:07.857969Z",
     "start_time": "2024-05-01T23:49:07.787309Z"
    }
   },
   "source": [
    "## After run"
   ]
  },
  {
   "cell_type": "code",
   "execution_count": 9,
   "id": "75898765",
   "metadata": {
    "ExecuteTime": {
     "end_time": "2024-06-03T14:51:15.006732Z",
     "start_time": "2024-06-03T14:51:14.885499Z"
    }
   },
   "outputs": [
    {
     "name": "stdout",
     "output_type": "stream",
     "text": [
      "WARNING Path '/shared_data/CmTask7852_5/system_reconciliation/C11a/prod/20240509_155500.20240509_165000/flatten_account.after/broker_config.json' doesn't exist!\n",
      "WARNING Path '/shared_data/CmTask7852_5/system_reconciliation/C11a/prod/20240509_155500.20240509_165000/flatten_account.after/args.json' doesn't exist!\n",
      "WARNING Path '/shared_data/CmTask7852_5/system_reconciliation/C11a/prod/20240509_155500.20240509_165000/flatten_account.after/child_order_fills' doesn't exist!\n",
      "WARNING Path '/shared_data/CmTask7852_5/system_reconciliation/C11a/prod/20240509_155500.20240509_165000/flatten_account.after/ccxt_child_order_responses' doesn't exist!\n",
      "WARNING Path '/shared_data/CmTask7852_5/system_reconciliation/C11a/prod/20240509_155500.20240509_165000/flatten_account.after/oms_child_orders' doesn't exist!\n",
      "WARNING Path '/shared_data/CmTask7852_5/system_reconciliation/C11a/prod/20240509_155500.20240509_165000/flatten_account.after/oms_parent_orders' doesn't exist!\n",
      "WARNING Path '/shared_data/CmTask7852_5/system_reconciliation/C11a/prod/20240509_155500.20240509_165000/flatten_account.after/bid_ask' doesn't exist!\n",
      "WARNING Path '/shared_data/CmTask7852_5/system_reconciliation/C11a/prod/20240509_155500.20240509_165000/flatten_account.after/bid_ask' doesn't exist!\n",
      "WARNING Path '/shared_data/CmTask7852_5/system_reconciliation/C11a/prod/20240509_155500.20240509_165000/flatten_account.after/reduce_only/ccxt_child_order_responses' doesn't exist!\n",
      "WARNING Path '/shared_data/CmTask7852_5/system_reconciliation/C11a/prod/20240509_155500.20240509_165000/flatten_account.after/reduce_only/oms_child_orders' doesn't exist!\n"
     ]
    }
   ],
   "source": [
    "# Init the log reader.\n",
    "log_dir = os.path.join(config[\"timestamp_dir\"], \"flatten_account.after\")\n",
    "ccxt_log_reader = obcccclo.CcxtLogger(log_dir)"
   ]
  },
  {
   "cell_type": "code",
   "execution_count": 10,
   "id": "dd74b659",
   "metadata": {
    "ExecuteTime": {
     "end_time": "2024-06-03T14:51:15.326918Z",
     "start_time": "2024-06-03T14:51:15.011320Z"
    }
   },
   "outputs": [
    {
     "data": {
      "application/vnd.jupyter.widget-view+json": {
       "model_id": "82131903330948e99ef49640ec3de850",
       "version_major": 2,
       "version_minor": 0
      },
      "text/plain": [
       "Loading '/shared_data/CmTask7852_5/system_reconciliation/C11a/prod/20240509_155500.20240509_165000/flatten_acc…"
      ]
     },
     "metadata": {},
     "output_type": "display_data"
    },
    {
     "data": {
      "text/html": [
       "<div>\n",
       "<style scoped>\n",
       "    .dataframe tbody tr th:only-of-type {\n",
       "        vertical-align: middle;\n",
       "    }\n",
       "\n",
       "    .dataframe tbody tr th {\n",
       "        vertical-align: top;\n",
       "    }\n",
       "\n",
       "    .dataframe thead th {\n",
       "        text-align: right;\n",
       "    }\n",
       "</style>\n",
       "<table border=\"1\" class=\"dataframe\">\n",
       "  <thead>\n",
       "    <tr style=\"text-align: right;\">\n",
       "      <th></th>\n",
       "      <th>asset</th>\n",
       "      <th>walletBalance</th>\n",
       "    </tr>\n",
       "  </thead>\n",
       "  <tbody>\n",
       "    <tr>\n",
       "      <th>0</th>\n",
       "      <td>FDUSD</td>\n",
       "      <td>0.00000000</td>\n",
       "    </tr>\n",
       "    <tr>\n",
       "      <th>1</th>\n",
       "      <td>BTC</td>\n",
       "      <td>0.00000000</td>\n",
       "    </tr>\n",
       "    <tr>\n",
       "      <th>2</th>\n",
       "      <td>XRP</td>\n",
       "      <td>0.00000000</td>\n",
       "    </tr>\n",
       "    <tr>\n",
       "      <th>3</th>\n",
       "      <td>TUSD</td>\n",
       "      <td>0.00000000</td>\n",
       "    </tr>\n",
       "    <tr>\n",
       "      <th>4</th>\n",
       "      <td>BNB</td>\n",
       "      <td>0.00000000</td>\n",
       "    </tr>\n",
       "    <tr>\n",
       "      <th>5</th>\n",
       "      <td>ETH</td>\n",
       "      <td>0.00000000</td>\n",
       "    </tr>\n",
       "    <tr>\n",
       "      <th>6</th>\n",
       "      <td>USDT</td>\n",
       "      <td>8570.33015946</td>\n",
       "    </tr>\n",
       "    <tr>\n",
       "      <th>7</th>\n",
       "      <td>USDC</td>\n",
       "      <td>0.00000000</td>\n",
       "    </tr>\n",
       "  </tbody>\n",
       "</table>\n",
       "</div>"
      ],
      "text/plain": [
       "   asset  walletBalance\n",
       "0  FDUSD     0.00000000\n",
       "1    BTC     0.00000000\n",
       "2    XRP     0.00000000\n",
       "3   TUSD     0.00000000\n",
       "4    BNB     0.00000000\n",
       "5    ETH     0.00000000\n",
       "6   USDT  8570.33015946\n",
       "7   USDC     0.00000000"
      ]
     },
     "metadata": {},
     "output_type": "display_data"
    }
   ],
   "source": [
    "balances_df = get_balances(ccxt_log_reader)\n",
    "display(balances_df)"
   ]
  },
  {
   "cell_type": "code",
   "execution_count": null,
   "id": "6be6c5f7",
   "metadata": {},
   "outputs": [],
   "source": []
  }
 ],
 "metadata": {
  "kernelspec": {
   "display_name": "Python 3 (ipykernel)",
   "language": "python",
   "name": "python3"
  },
  "language_info": {
   "codemirror_mode": {
    "name": "ipython",
    "version": 3
   },
   "file_extension": ".py",
   "mimetype": "text/x-python",
   "name": "python",
   "nbconvert_exporter": "python",
   "pygments_lexer": "ipython3",
   "version": "3.9.5"
  },
  "toc": {
   "base_numbering": 1,
   "nav_menu": {},
   "number_sections": true,
   "sideBar": true,
   "skip_h1_title": false,
   "title_cell": "Table of Contents",
   "title_sidebar": "Contents",
   "toc_cell": false,
   "toc_position": {},
   "toc_section_display": true,
   "toc_window_display": false
  }
 },
 "nbformat": 4,
 "nbformat_minor": 5
}
