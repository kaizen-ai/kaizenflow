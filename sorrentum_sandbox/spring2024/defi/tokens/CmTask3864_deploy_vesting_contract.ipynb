{
 "cells": [
  {
   "cell_type": "markdown",
   "id": "b8141a8c",
   "metadata": {},
   "source": [
    "# Imports"
   ]
  },
  {
   "cell_type": "code",
   "execution_count": 3,
   "id": "b9023fe2",
   "metadata": {},
   "outputs": [],
   "source": [
    "import requests\n",
    "import os\n",
    "import sys\n",
    "import web3\n",
    "from eth_account import Account\n",
    "from eth_account.signers.local import LocalAccount\n",
    "from web3 import Web3, EthereumTesterProvider\n",
    "from web3.middleware import construct_sign_and_send_raw_middleware\n",
    "\n",
    "import solcx"
   ]
  },
  {
   "cell_type": "markdown",
   "id": "438f90f1",
   "metadata": {},
   "source": [
    "# Functions"
   ]
  },
  {
   "cell_type": "code",
   "execution_count": 4,
   "id": "1c8762ef",
   "metadata": {},
   "outputs": [],
   "source": [
    "def compile_source_file(file_path):\n",
    "    with open(file_path, 'r') as f:\n",
    "        source = f.read()\n",
    "    return solcx.compile_source(source, output_values=[\"abi\", \"bin\", \"bin-runtime\"])"
   ]
  },
  {
   "cell_type": "markdown",
   "id": "9e8c32b0",
   "metadata": {},
   "source": [
    "# Deploy vesting contract to Goerli"
   ]
  },
  {
   "cell_type": "code",
   "execution_count": 5,
   "id": "35a3fdb4",
   "metadata": {},
   "outputs": [
    {
     "name": "stdout",
     "output_type": "stream",
     "text": [
      "isConnected= True\n"
     ]
    }
   ],
   "source": [
    "# Get the Infura key.\n",
    "infura_key=os.environ[\"INFURA_KEY\"]\n",
    "# Connect with Infura.\n",
    "infura_url = f\"https://goerli.infura.io/v3/{infura_key}\"\n",
    "\n",
    "w3 = web3.Web3(web3.Web3.HTTPProvider(infura_url))\n",
    "print(\"isConnected=\", w3.isConnected())"
   ]
  },
  {
   "cell_type": "code",
   "execution_count": 6,
   "id": "cc39cfd3",
   "metadata": {},
   "outputs": [],
   "source": [
    "account_addr = \"0x6531e2613bbbEEcd898356F7b9bEfBaEfd42804B\"\n",
    "private_key = os.environ[\"PRIVATE_KEY\"]\n",
    "\n",
    "account: LocalAccount = Account.from_key(private_key)\n",
    "w3.middleware_onion.add(construct_sign_and_send_raw_middleware(account))"
   ]
  },
  {
   "cell_type": "code",
   "execution_count": 21,
   "id": "03e8badc",
   "metadata": {},
   "outputs": [],
   "source": [
    "compiled_vesting = compile_source_file(\"contracts/TokenTimelock.sol\")\n",
    "interface_vesting = compiled_vesting[\"<stdin>:TokenTimelock\"]"
   ]
  },
  {
   "cell_type": "code",
   "execution_count": 8,
   "id": "5ad731c1",
   "metadata": {},
   "outputs": [],
   "source": [
    "token_addr = \"0x14E3Cd22bAF93aAE4f8F576fD8Fb918f1016bB81\"\n",
    "func = w3.eth.contract(\n",
    "    abi=interface[\"abi\"],\n",
    "    bytecode=interface[\"bin\"]).constructor(token_addr)\n",
    "# Deploy the Vesting to Goerli.\n",
    "tx_hash = func.transact({\"from\": account_addr})"
   ]
  },
  {
   "cell_type": "code",
   "execution_count": 9,
   "id": "a7e3ca19",
   "metadata": {},
   "outputs": [
    {
     "data": {
      "text/plain": [
       "HexBytes('0x08e2dfa9c1c754993621e094284800bb2f4b34ceb588a9309321e16e721c17aa')"
      ]
     },
     "execution_count": 9,
     "metadata": {},
     "output_type": "execute_result"
    }
   ],
   "source": [
    "tx_hash"
   ]
  },
  {
   "cell_type": "code",
   "execution_count": 10,
   "id": "86c2ed05",
   "metadata": {},
   "outputs": [],
   "source": [
    "reciept = w3.eth.get_transaction_receipt(tx_hash)"
   ]
  },
  {
   "cell_type": "code",
   "execution_count": 11,
   "id": "3c52f887",
   "metadata": {},
   "outputs": [
    {
     "data": {
      "text/plain": [
       "AttributeDict({'blockHash': HexBytes('0x7ad95146cadd45bbe1401a709496e128a06c08cc2c61fc9fdcbeacd922fb5863'),\n",
       " 'blockNumber': 8577860,\n",
       " 'contractAddress': '0x9727Bf5A74efDfB346ee6b47086bE4f52d7D422a',\n",
       " 'cumulativeGasUsed': 21209946,\n",
       " 'effectiveGasPrice': 135673366166,\n",
       " 'from': '0x6531e2613bbbEEcd898356F7b9bEfBaEfd42804B',\n",
       " 'gasUsed': 1620365,\n",
       " 'logs': [AttributeDict({'address': '0x9727Bf5A74efDfB346ee6b47086bE4f52d7D422a',\n",
       "   'blockHash': HexBytes('0x7ad95146cadd45bbe1401a709496e128a06c08cc2c61fc9fdcbeacd922fb5863'),\n",
       "   'blockNumber': 8577860,\n",
       "   'data': '0x',\n",
       "   'logIndex': 188,\n",
       "   'removed': False,\n",
       "   'topics': [HexBytes('0x8be0079c531659141344cd1fd0a4f28419497f9722a3daafe3b4186f6b6457e0'),\n",
       "    HexBytes('0x0000000000000000000000000000000000000000000000000000000000000000'),\n",
       "    HexBytes('0x0000000000000000000000006531e2613bbbeecd898356f7b9befbaefd42804b')],\n",
       "   'transactionHash': HexBytes('0x08e2dfa9c1c754993621e094284800bb2f4b34ceb588a9309321e16e721c17aa'),\n",
       "   'transactionIndex': 120})],\n",
       " 'logsBloom': HexBytes('0x00000000000000000000000000000000000000800000000000800000000000000000000000000000000000000000000000000000004000000000000000000000000000000000000000010000000000000001000000000000000000000000000000000000020000000000000000000800000000000000000000000000000000400000000000000000000000000000000000000000000000000000000800000000000000000000000000000000000000000000000000000000000000000000000000000000008000000000008000000000000000000000000000000000000020000000000000000000000000000000000000000000000000000000000000000000'),\n",
       " 'status': 1,\n",
       " 'to': None,\n",
       " 'transactionHash': HexBytes('0x08e2dfa9c1c754993621e094284800bb2f4b34ceb588a9309321e16e721c17aa'),\n",
       " 'transactionIndex': 120,\n",
       " 'type': '0x2'})"
      ]
     },
     "execution_count": 11,
     "metadata": {},
     "output_type": "execute_result"
    }
   ],
   "source": [
    "reciept"
   ]
  },
  {
   "cell_type": "markdown",
   "id": "e0712b9b",
   "metadata": {},
   "source": [
    "# Deployment price"
   ]
  },
  {
   "cell_type": "code",
   "execution_count": 12,
   "id": "eef9a3b8",
   "metadata": {},
   "outputs": [],
   "source": [
    "gas_used = 1_620_365\n",
    "gas_price_gwei = 23\n",
    "eth_price = 1_654\n",
    "\n",
    "total_gwei = gas_used * gas_price_gwei\n",
    "total_eth = total_gwei * 0.000000001"
   ]
  },
  {
   "cell_type": "code",
   "execution_count": 14,
   "id": "3acfb151",
   "metadata": {},
   "outputs": [
    {
     "data": {
      "text/plain": [
       "0.037268395"
      ]
     },
     "execution_count": 14,
     "metadata": {},
     "output_type": "execute_result"
    }
   ],
   "source": [
    "total_eth"
   ]
  },
  {
   "cell_type": "code",
   "execution_count": 13,
   "id": "af1b8adb",
   "metadata": {},
   "outputs": [
    {
     "data": {
      "text/plain": [
       "61.64192533000001"
      ]
     },
     "execution_count": 13,
     "metadata": {},
     "output_type": "execute_result"
    }
   ],
   "source": [
    "total_eth * eth_price"
   ]
  },
  {
   "cell_type": "markdown",
   "id": "637fd0d2",
   "metadata": {},
   "source": [
    "# Interactions"
   ]
  },
  {
   "cell_type": "markdown",
   "id": "dc688a49",
   "metadata": {},
   "source": [
    "Get vesting contract."
   ]
  },
  {
   "cell_type": "code",
   "execution_count": 22,
   "id": "06124a4d",
   "metadata": {},
   "outputs": [],
   "source": [
    "vesting = w3.eth.contract(address=reciept[\"contractAddress\"], abi=interface_vesting[\"abi\"])"
   ]
  },
  {
   "cell_type": "markdown",
   "id": "ee97ce02",
   "metadata": {},
   "source": [
    "Send Sorrentum tokens to the vesting contract"
   ]
  },
  {
   "cell_type": "code",
   "execution_count": 20,
   "id": "213a2ec6",
   "metadata": {},
   "outputs": [],
   "source": [
    "# Get token contract.\n",
    "compiled_token = compile_source_file(\"contracts/SorrentumToken.sol\")\n",
    "interface_token = compiled_token[\"<stdin>:SorrentumToken\"]\n",
    "surr_token = w3.eth.contract(address=token_addr, abi=interface[\"abi\"])"
   ]
  },
  {
   "cell_type": "markdown",
   "id": "13082e2b",
   "metadata": {},
   "source": [
    "Send 10 tokens to vesting contract."
   ]
  },
  {
   "cell_type": "code",
   "execution_count": 45,
   "id": "6d05adbd",
   "metadata": {},
   "outputs": [],
   "source": [
    "tx_hash = surr_token.functions.transfer(reciept[\"contractAddress\"], 10*10**18).transact({\"from\": account_addr})"
   ]
  },
  {
   "cell_type": "markdown",
   "id": "cadb96c7",
   "metadata": {},
   "source": [
    "Check the balance."
   ]
  },
  {
   "cell_type": "code",
   "execution_count": 46,
   "id": "64c642a3",
   "metadata": {},
   "outputs": [
    {
     "data": {
      "text/plain": [
       "1000000000000000000"
      ]
     },
     "execution_count": 46,
     "metadata": {},
     "output_type": "execute_result"
    }
   ],
   "source": [
    "vesting.functions.getContractBalance().call()"
   ]
  },
  {
   "cell_type": "markdown",
   "id": "49b5156f",
   "metadata": {},
   "source": [
    "**Add student 1**"
   ]
  },
  {
   "cell_type": "code",
   "execution_count": 26,
   "id": "cce8253c",
   "metadata": {},
   "outputs": [],
   "source": [
    "student1 = \"0x051D41a881dcc9E946Cd08aE030f3Baf31d12550\"\n",
    "# Wed Mar 01 2023 13:10:24 GMT+0000\n",
    "release_time1 = 1677676224"
   ]
  },
  {
   "cell_type": "code",
   "execution_count": 27,
   "id": "4b40f53e",
   "metadata": {},
   "outputs": [],
   "source": [
    "tx_hash = vesting.functions.addParticipant(student1, 3*10**18, release_time1).transact({\"from\": account_addr})"
   ]
  },
  {
   "cell_type": "code",
   "execution_count": 28,
   "id": "c0aee4cc",
   "metadata": {},
   "outputs": [
    {
     "data": {
      "text/plain": [
       "HexBytes('0xec5001605864a6cd300f9c9e8111509b5422823980befabd3b03a18c978d3ad7')"
      ]
     },
     "execution_count": 28,
     "metadata": {},
     "output_type": "execute_result"
    }
   ],
   "source": [
    "tx_hash"
   ]
  },
  {
   "cell_type": "markdown",
   "id": "366c17a7",
   "metadata": {},
   "source": [
    "Check the student data."
   ]
  },
  {
   "cell_type": "code",
   "execution_count": 33,
   "id": "98cf496b",
   "metadata": {},
   "outputs": [
    {
     "data": {
      "text/plain": [
       "1677676224"
      ]
     },
     "execution_count": 33,
     "metadata": {},
     "output_type": "execute_result"
    }
   ],
   "source": [
    "vesting.functions.getReleaseTimestamp(student1).call()"
   ]
  },
  {
   "cell_type": "code",
   "execution_count": 34,
   "id": "1d330e61",
   "metadata": {},
   "outputs": [
    {
     "data": {
      "text/plain": [
       "3000000000000000000"
      ]
     },
     "execution_count": 34,
     "metadata": {},
     "output_type": "execute_result"
    }
   ],
   "source": [
    "vesting.functions.getTokensAmountLocked(student1).call() "
   ]
  },
  {
   "cell_type": "markdown",
   "id": "e7ecc449",
   "metadata": {},
   "source": [
    "**Add student 2**"
   ]
  },
  {
   "cell_type": "code",
   "execution_count": 30,
   "id": "2df1d43a",
   "metadata": {},
   "outputs": [],
   "source": [
    "student2 = \"0xad1Ef7f653995b55C7B4005B9bE18Ab989F7128e\"\n",
    "# Wed Mar 01 2023 13:30:24 GMT+0000\n",
    "release_time2 = 1677677424"
   ]
  },
  {
   "cell_type": "code",
   "execution_count": 31,
   "id": "b4f886bb",
   "metadata": {},
   "outputs": [],
   "source": [
    "tx_hash = vesting.functions.addParticipant(student2, 2*10**18, release_time2).transact({\"from\": account_addr})"
   ]
  },
  {
   "cell_type": "code",
   "execution_count": 32,
   "id": "8a230681",
   "metadata": {},
   "outputs": [
    {
     "data": {
      "text/plain": [
       "HexBytes('0xc347035e87b487a43db5c2a51e969e60a7b7aa2bd85d45e7183cc6ac2bc49454')"
      ]
     },
     "execution_count": 32,
     "metadata": {},
     "output_type": "execute_result"
    }
   ],
   "source": [
    "tx_hash"
   ]
  },
  {
   "cell_type": "markdown",
   "id": "79ded120",
   "metadata": {},
   "source": [
    "Check student data"
   ]
  },
  {
   "cell_type": "code",
   "execution_count": 35,
   "id": "c28c59bf",
   "metadata": {},
   "outputs": [
    {
     "data": {
      "text/plain": [
       "1677677424"
      ]
     },
     "execution_count": 35,
     "metadata": {},
     "output_type": "execute_result"
    }
   ],
   "source": [
    "vesting.functions.getReleaseTimestamp(student2).call()"
   ]
  },
  {
   "cell_type": "code",
   "execution_count": 36,
   "id": "bc920081",
   "metadata": {},
   "outputs": [
    {
     "data": {
      "text/plain": [
       "2000000000000000000"
      ]
     },
     "execution_count": 36,
     "metadata": {},
     "output_type": "execute_result"
    }
   ],
   "source": [
    "vesting.functions.getTokensAmountLocked(student2).call() "
   ]
  },
  {
   "cell_type": "markdown",
   "id": "b8d0c48b",
   "metadata": {},
   "source": [
    "**Add 2 more tokens to student 2**"
   ]
  },
  {
   "cell_type": "code",
   "execution_count": 37,
   "id": "84c50d91",
   "metadata": {},
   "outputs": [],
   "source": [
    "tx_hash = vesting.functions.addAmount(student2, 2*10**18).transact({\"from\": account_addr})"
   ]
  },
  {
   "cell_type": "code",
   "execution_count": 38,
   "id": "f91032b8",
   "metadata": {},
   "outputs": [
    {
     "data": {
      "text/plain": [
       "HexBytes('0x566005b1fb276e710dbbc57a6a45ce947c01907e1af5aefeeafa1d99e2f6e481')"
      ]
     },
     "execution_count": 38,
     "metadata": {},
     "output_type": "execute_result"
    }
   ],
   "source": [
    "tx_hash"
   ]
  },
  {
   "cell_type": "markdown",
   "id": "1af3fbc2",
   "metadata": {},
   "source": [
    "Check updated student amount."
   ]
  },
  {
   "cell_type": "code",
   "execution_count": 39,
   "id": "8587980f",
   "metadata": {},
   "outputs": [
    {
     "data": {
      "text/plain": [
       "4000000000000000000"
      ]
     },
     "execution_count": 39,
     "metadata": {},
     "output_type": "execute_result"
    }
   ],
   "source": [
    "vesting.functions.getTokensAmountLocked(student2).call() "
   ]
  },
  {
   "cell_type": "markdown",
   "id": "a06db45e",
   "metadata": {},
   "source": [
    "**Release tokens**"
   ]
  },
  {
   "cell_type": "markdown",
   "id": "b78eaaa9",
   "metadata": {},
   "source": [
    "Connect to student1 wallet."
   ]
  },
  {
   "cell_type": "code",
   "execution_count": 55,
   "id": "ff4d48c3",
   "metadata": {},
   "outputs": [],
   "source": [
    "student1_private_key = os.environ[\"STUDENT1_KEY\"]\n",
    "\n",
    "account: LocalAccount = Account.from_key(student1_private_key)\n",
    "w3.middleware_onion.add(construct_sign_and_send_raw_middleware(account))"
   ]
  },
  {
   "cell_type": "markdown",
   "id": "355d5918",
   "metadata": {},
   "source": [
    "Check student balance."
   ]
  },
  {
   "cell_type": "code",
   "execution_count": 42,
   "id": "c621e2f4",
   "metadata": {},
   "outputs": [
    {
     "data": {
      "text/plain": [
       "0"
      ]
     },
     "execution_count": 42,
     "metadata": {},
     "output_type": "execute_result"
    }
   ],
   "source": [
    "surr_token.functions.balanceOf(student1).call()"
   ]
  },
  {
   "cell_type": "markdown",
   "id": "4c760e28",
   "metadata": {},
   "source": [
    "Release tokens (student1 account needs to have some ETH to make a transaction)"
   ]
  },
  {
   "cell_type": "code",
   "execution_count": 58,
   "id": "dbabfd41",
   "metadata": {},
   "outputs": [],
   "source": [
    "tx_hash = vesting.functions.releaseTokens().transact({\"from\": student1})"
   ]
  },
  {
   "cell_type": "code",
   "execution_count": 59,
   "id": "3db7e468",
   "metadata": {},
   "outputs": [
    {
     "data": {
      "text/plain": [
       "HexBytes('0x29b48db72685565e7d711676fa9bf7eedf6f9631fa4aa5290129482d50eed65d')"
      ]
     },
     "execution_count": 59,
     "metadata": {},
     "output_type": "execute_result"
    }
   ],
   "source": [
    "tx_hash"
   ]
  },
  {
   "cell_type": "code",
   "execution_count": 60,
   "id": "70435aa0",
   "metadata": {},
   "outputs": [
    {
     "data": {
      "text/plain": [
       "3000000000000000000"
      ]
     },
     "execution_count": 60,
     "metadata": {},
     "output_type": "execute_result"
    }
   ],
   "source": [
    "surr_token.functions.balanceOf(student1).call()"
   ]
  },
  {
   "cell_type": "code",
   "execution_count": null,
   "id": "e0252149",
   "metadata": {},
   "outputs": [],
   "source": []
  }
 ],
 "metadata": {
  "kernelspec": {
   "display_name": "Python 3 (ipykernel)",
   "language": "python",
   "name": "python3"
  },
  "language_info": {
   "codemirror_mode": {
    "name": "ipython",
    "version": 3
   },
   "file_extension": ".py",
   "mimetype": "text/x-python",
   "name": "python",
   "nbconvert_exporter": "python",
   "pygments_lexer": "ipython3",
   "version": "3.10.6"
  }
 },
 "nbformat": 4,
 "nbformat_minor": 5
}
