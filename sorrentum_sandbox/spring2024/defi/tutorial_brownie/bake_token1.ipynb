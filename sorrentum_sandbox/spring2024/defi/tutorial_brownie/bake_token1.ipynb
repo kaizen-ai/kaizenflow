{
 "cells": [
  {
   "cell_type": "code",
   "execution_count": 1,
   "id": "7fabb961",
   "metadata": {
    "ExecuteTime": {
     "end_time": "2023-01-15T21:30:34.512562Z",
     "start_time": "2023-01-15T21:30:33.541518Z"
    }
   },
   "outputs": [
    {
     "name": "stderr",
     "output_type": "stream",
     "text": [
      "/usr/local/lib/python3.10/dist-packages/brownie/network/main.py:44: BrownieEnvironmentWarning: Development network has a block height of 223\n",
      "  warnings.warn(\n"
     ]
    },
    {
     "name": "stdout",
     "output_type": "stream",
     "text": [
      "Attached to local RPC client listening at '127.0.0.1:8545'...\n"
     ]
    }
   ],
   "source": [
    "# From https://ethereum.stackexchange.com/questions/111254/how-to-call-brownie-run-with-extra-script-parameters\n",
    "\n",
    "# TODO(gp): @Toma Use connect_to_brownie\n",
    "import brownie\n",
    "target = 'development'\n",
    "#target = 'goerli'\n",
    "if brownie.network.is_connected():\n",
    "    brownie.network.disconnect(target)\n",
    "brownie.network.connect(target)\n",
    "try:\n",
    "    project = brownie.project.load('/data/tutorial_brownie/bake_token1')\n",
    "except brownie.exceptions.ProjectAlreadyLoaded:\n",
    "    pass"
   ]
  },
  {
   "cell_type": "code",
   "execution_count": 2,
   "id": "96c09940",
   "metadata": {
    "ExecuteTime": {
     "end_time": "2023-01-15T21:30:39.447981Z",
     "start_time": "2023-01-15T21:30:39.445127Z"
    }
   },
   "outputs": [],
   "source": [
    "from brownie import *"
   ]
  },
  {
   "cell_type": "code",
   "execution_count": 4,
   "id": "a443a8fb",
   "metadata": {
    "ExecuteTime": {
     "end_time": "2023-01-15T21:31:04.332261Z",
     "start_time": "2023-01-15T21:31:04.327019Z"
    }
   },
   "outputs": [
    {
     "name": "stdout",
     "output_type": "stream",
     "text": [
      "Token= <brownie.network.contract.ContractContainer object at 0x7f85327acd30>\n",
      "type(Token)= <class 'brownie.network.contract.ContractContainer'>\n",
      "Token.deploy= <ContractConstructor 'Token.constructor(string\u001b[0;1;34m _name\u001b[0;m, string\u001b[0;1;34m _symbol\u001b[0;m, uint256\u001b[0;1;34m _decimals\u001b[0;m, uint256\u001b[0;1;34m _totalSupply\u001b[0;m)'>\n"
     ]
    }
   ],
   "source": [
    "Token =  project.BakeToken1Project.Token\n",
    "print(\"Token=\", Token)\n",
    "print(\"type(Token)=\", type(Token))\n",
    "print(\"Token.deploy=\", Token.deploy)"
   ]
  },
  {
   "cell_type": "markdown",
   "id": "42639573",
   "metadata": {},
   "source": [
    "# Core functionality"
   ]
  },
  {
   "cell_type": "markdown",
   "id": "2bbe7fb4",
   "metadata": {},
   "source": [
    "## Working with Accounts"
   ]
  },
  {
   "cell_type": "code",
   "execution_count": 5,
   "id": "0aec98cb",
   "metadata": {
    "ExecuteTime": {
     "end_time": "2023-01-15T21:31:13.303488Z",
     "start_time": "2023-01-15T21:31:13.286918Z"
    }
   },
   "outputs": [
    {
     "data": {
      "text/plain": [
       "[<Account '0x90F8bf6A479f320ead074411a4B0e7944Ea8c9C1'>,\n",
       " <Account '0xFFcf8FDEE72ac11b5c542428B35EEF5769C409f0'>,\n",
       " <Account '0x22d491Bde2303f2f43325b2108D26f1eAbA1e32b'>,\n",
       " <Account '0xE11BA2b4D45Eaed5996Cd0823791E0C93114882d'>,\n",
       " <Account '0xd03ea8624C8C5987235048901fB614fDcA89b117'>,\n",
       " <Account '0x95cED938F7991cd0dFcb48F0a06a40FA1aF46EBC'>,\n",
       " <Account '0x3E5e9111Ae8eB78Fe1CC3bb8915d5D461F3Ef9A9'>,\n",
       " <Account '0x28a8746e75304c0780E011BEd21C72cD78cd535E'>,\n",
       " <Account '0xACa94ef8bD5ffEE41947b4585a84BdA5a3d3DA6E'>,\n",
       " <Account '0x1dF62f291b2E969fB0849d99D9Ce41e2F137006e'>]"
      ]
     },
     "execution_count": 5,
     "metadata": {},
     "output_type": "execute_result"
    }
   ],
   "source": [
    "list(accounts)"
   ]
  },
  {
   "cell_type": "code",
   "execution_count": 6,
   "id": "f786650c",
   "metadata": {
    "ExecuteTime": {
     "end_time": "2023-01-15T21:31:25.669613Z",
     "start_time": "2023-01-15T21:31:25.664683Z"
    }
   },
   "outputs": [
    {
     "data": {
      "text/plain": [
       "<Account '0x90F8bf6A479f320ead074411a4B0e7944Ea8c9C1'>"
      ]
     },
     "execution_count": 6,
     "metadata": {},
     "output_type": "execute_result"
    }
   ],
   "source": [
    "accounts[0]"
   ]
  },
  {
   "cell_type": "code",
   "execution_count": null,
   "id": "72377154",
   "metadata": {
    "ExecuteTime": {
     "end_time": "2023-01-15T21:30:17.174511Z",
     "start_time": "2023-01-15T21:30:17.168625Z"
    }
   },
   "outputs": [],
   "source": [
    "#dir(accounts[0])"
   ]
  },
  {
   "cell_type": "code",
   "execution_count": 7,
   "id": "dc10b5e8",
   "metadata": {
    "ExecuteTime": {
     "end_time": "2023-01-15T21:31:32.572917Z",
     "start_time": "2023-01-15T21:31:32.532101Z"
    }
   },
   "outputs": [
    {
     "name": "stdout",
     "output_type": "stream",
     "text": [
      "931962862639958315000\n",
      "1055898062580000000000\n",
      "total= 1987860925219958315000\n"
     ]
    }
   ],
   "source": [
    "print(accounts[0].balance())\n",
    "print(accounts[1].balance())\n",
    "\n",
    "print(\"total=\", accounts[0].balance() + accounts[1].balance())"
   ]
  },
  {
   "cell_type": "code",
   "execution_count": 8,
   "id": "5c22b1f6",
   "metadata": {
    "ExecuteTime": {
     "end_time": "2023-01-15T21:31:36.628692Z",
     "start_time": "2023-01-15T21:31:36.619907Z"
    }
   },
   "outputs": [],
   "source": [
    "# From https://stackoverflow.com/questions/71341281/awaiting-transaction-in-the-mempool\n",
    "\n",
    "if True:\n",
    "    # In dev mode.\n",
    "    from brownie.network import gas_price\n",
    "    from brownie.network.gas.strategies import LinearScalingStrategy\n",
    "\n",
    "    gas_strategy = LinearScalingStrategy(\"60 gwei\", \"70 gwei\", 1.1)\n",
    "\n",
    "    #if network.show_active() == \"development\":\n",
    "    gas_price(gas_strategy)"
   ]
  },
  {
   "cell_type": "code",
   "execution_count": 9,
   "id": "60e31731",
   "metadata": {
    "ExecuteTime": {
     "end_time": "2023-01-15T21:31:46.614277Z",
     "start_time": "2023-01-15T21:31:46.546286Z"
    }
   },
   "outputs": [
    {
     "name": "stdout",
     "output_type": "stream",
     "text": [
      "\r",
      "Transaction sent: \u001b[0;1;34m0x7718cf16dee0175a5d77687add2766519c6605d345be5c6bbbb4e77d3138e81b\u001b[0;m\n",
      "  Gas price: \u001b[0;1;34m60.0\u001b[0;m gwei   Gas limit: \u001b[0;1;34m30000000\u001b[0;m   Nonce: \u001b[0;1;34m28\u001b[0;m\n",
      "\r",
      "  Transaction confirmed   Block: \u001b[0;1;34m224\u001b[0;m   Gas used: \u001b[0;1;34m21000\u001b[0;m (\u001b[0;1;34m0.07%\u001b[0;m)\n",
      "\n"
     ]
    },
    {
     "data": {
      "text/plain": [
       "<Transaction '\u001b[0;m0x7718cf16dee0175a5d77687add2766519c6605d345be5c6bbbb4e77d3138e81b\u001b[0;m'>"
      ]
     },
     "execution_count": 9,
     "metadata": {},
     "output_type": "execute_result"
    }
   ],
   "source": [
    "# Transfer 10 ether from account 0 to account 1.\n",
    "accounts[0].transfer(accounts[1], \"10 ether\")"
   ]
  },
  {
   "cell_type": "code",
   "execution_count": 11,
   "id": "223265ce",
   "metadata": {
    "ExecuteTime": {
     "end_time": "2023-01-15T21:32:02.712962Z",
     "start_time": "2023-01-15T21:32:02.686592Z"
    }
   },
   "outputs": [
    {
     "name": "stdout",
     "output_type": "stream",
     "text": [
      "921961602639958315000\n",
      "1065898062580000000000\n",
      "total= 1987859665219958315000\n"
     ]
    }
   ],
   "source": [
    "print(accounts[0].balance())\n",
    "print(accounts[1].balance())\n",
    "\n",
    "print(\"total=\", accounts[0].balance() + accounts[1].balance())"
   ]
  },
  {
   "cell_type": "markdown",
   "id": "a6d4bfcb",
   "metadata": {},
   "source": [
    "### Generating, adding, unlocking accounts"
   ]
  },
  {
   "cell_type": "code",
   "execution_count": 13,
   "id": "b571911c",
   "metadata": {
    "ExecuteTime": {
     "end_time": "2023-01-15T21:32:19.671158Z",
     "start_time": "2023-01-15T21:32:19.639448Z"
    }
   },
   "outputs": [
    {
     "name": "stdout",
     "output_type": "stream",
     "text": [
      "mnemonic: '\u001b[0;1;36methics feature patient puzzle arch duck heavy foot alone witness flash museum\u001b[0;m'\n"
     ]
    },
    {
     "data": {
      "text/plain": [
       "<LocalAccount '0x3F7b432B635310900FBf01Efc52b4997a98af029'>"
      ]
     },
     "execution_count": 13,
     "metadata": {},
     "output_type": "execute_result"
    }
   ],
   "source": [
    "# Generate a random account.\n",
    "accounts.add()"
   ]
  },
  {
   "cell_type": "code",
   "execution_count": 14,
   "id": "b6c9105c",
   "metadata": {
    "ExecuteTime": {
     "end_time": "2023-01-15T21:32:35.447042Z",
     "start_time": "2023-01-15T21:32:35.444183Z"
    }
   },
   "outputs": [],
   "source": [
    "# Add it to the local accounts.\n",
    "# accounts.add('0xca751356c37a98109fd969d8e79b42d768587efc6ba35e878bc8c093ed95d8a9')"
   ]
  },
  {
   "cell_type": "code",
   "execution_count": 15,
   "id": "237e9e02",
   "metadata": {
    "ExecuteTime": {
     "end_time": "2023-01-15T21:32:36.794467Z",
     "start_time": "2023-01-15T21:32:36.788436Z"
    }
   },
   "outputs": [
    {
     "data": {
      "text/plain": [
       "[<Account '0x90F8bf6A479f320ead074411a4B0e7944Ea8c9C1'>,\n",
       " <Account '0xFFcf8FDEE72ac11b5c542428B35EEF5769C409f0'>,\n",
       " <Account '0x22d491Bde2303f2f43325b2108D26f1eAbA1e32b'>,\n",
       " <Account '0xE11BA2b4D45Eaed5996Cd0823791E0C93114882d'>,\n",
       " <Account '0xd03ea8624C8C5987235048901fB614fDcA89b117'>,\n",
       " <Account '0x95cED938F7991cd0dFcb48F0a06a40FA1aF46EBC'>,\n",
       " <Account '0x3E5e9111Ae8eB78Fe1CC3bb8915d5D461F3Ef9A9'>,\n",
       " <Account '0x28a8746e75304c0780E011BEd21C72cD78cd535E'>,\n",
       " <Account '0xACa94ef8bD5ffEE41947b4585a84BdA5a3d3DA6E'>,\n",
       " <Account '0x1dF62f291b2E969fB0849d99D9Ce41e2F137006e'>,\n",
       " <LocalAccount '0xDD7B6E3E322EE9be03e1A33B6e04aFfE0d8Fc08c'>,\n",
       " <LocalAccount '0x3F7b432B635310900FBf01Efc52b4997a98af029'>]"
      ]
     },
     "execution_count": 15,
     "metadata": {},
     "output_type": "execute_result"
    }
   ],
   "source": [
    "list(accounts)"
   ]
  },
  {
   "cell_type": "markdown",
   "id": "8b26263c",
   "metadata": {
    "ExecuteTime": {
     "end_time": "2022-12-19T22:58:02.542929Z",
     "start_time": "2022-12-19T22:58:02.538838Z"
    }
   },
   "source": [
    "### Broadcasting multiple transactions"
   ]
  },
  {
   "cell_type": "code",
   "execution_count": 16,
   "id": "9fe96dc4",
   "metadata": {
    "ExecuteTime": {
     "end_time": "2023-01-15T21:32:59.114953Z",
     "start_time": "2023-01-15T21:32:58.964533Z"
    }
   },
   "outputs": [
    {
     "name": "stdout",
     "output_type": "stream",
     "text": [
      "\r",
      "Transaction sent: \u001b[0;1;34m0xfc7396dde30100061326283a401331b64aa0ac9c955bcac462691dffd6c703c5\u001b[0;m\n",
      "  Gas price: \u001b[0;1;34m60.0\u001b[0;m gwei   Gas limit: \u001b[0;1;34m30000000\u001b[0;m   Nonce: \u001b[0;1;34m29\u001b[0;m\n",
      "\r",
      "  Transaction confirmed   Block: \u001b[0;1;34m225\u001b[0;m   Gas used: \u001b[0;1;34m21000\u001b[0;m (\u001b[0;1;34m0.07%\u001b[0;m)\n",
      "\n",
      "\r",
      "Transaction sent: \u001b[0;1;34m0xc208167fcedb3db0cb5657d1eb87c4fcb76c493a1169cacda80a83f01c313652\u001b[0;m\n",
      "  Gas price: \u001b[0;1;34m60.0\u001b[0;m gwei   Gas limit: \u001b[0;1;34m30000000\u001b[0;m   Nonce: \u001b[0;1;34m30\u001b[0;m\n",
      "\r",
      "  Transaction confirmed   Block: \u001b[0;1;34m226\u001b[0;m   Gas used: \u001b[0;1;34m21000\u001b[0;m (\u001b[0;1;34m0.07%\u001b[0;m)\n",
      "\n",
      "\r",
      "Transaction sent: \u001b[0;1;34m0xcc34422b7a83e115c9ac523d36bc485bc694ed551c370aa24f228675d1f57a0c\u001b[0;m\n",
      "  Gas price: \u001b[0;1;34m60.0\u001b[0;m gwei   Gas limit: \u001b[0;1;34m30000000\u001b[0;m   Nonce: \u001b[0;1;34m31\u001b[0;m\n",
      "\r",
      "  Transaction confirmed   Block: \u001b[0;1;34m227\u001b[0;m   Gas used: \u001b[0;1;34m21000\u001b[0;m (\u001b[0;1;34m0.07%\u001b[0;m)\n",
      "\n",
      "[<Status.Confirmed: 1>, <Status.Confirmed: 1>, <Status.Confirmed: 1>]\n"
     ]
    }
   ],
   "source": [
    "# Blocking transactions.\n",
    "transactions = [\n",
    "    accounts[0].transfer(accounts[i], \"1 ether\") for i in range(1, 4)\n",
    "]\n",
    "print([tx.status for tx in transactions])"
   ]
  },
  {
   "cell_type": "code",
   "execution_count": 21,
   "id": "b8b4e73b",
   "metadata": {
    "ExecuteTime": {
     "end_time": "2023-01-15T21:33:18.454265Z",
     "start_time": "2023-01-15T21:33:18.448806Z"
    }
   },
   "outputs": [
    {
     "name": "stdout",
     "output_type": "stream",
     "text": [
      "[<Status.Confirmed: 1>, <Status.Confirmed: 1>, <Status.Confirmed: 1>]\n"
     ]
    }
   ],
   "source": [
    "print([tx.status for tx in transactions])"
   ]
  },
  {
   "cell_type": "code",
   "execution_count": 22,
   "id": "1b9133ed",
   "metadata": {
    "ExecuteTime": {
     "end_time": "2023-01-15T21:33:24.222876Z",
     "start_time": "2023-01-15T21:33:24.069517Z"
    }
   },
   "outputs": [
    {
     "name": "stdout",
     "output_type": "stream",
     "text": [
      "\r",
      "Transaction sent: \u001b[0;1;34m0x714ea125ae05d7187a99c168af391f431050dab283433216c9ae7b5d37a319ac\u001b[0;m\n",
      "  Gas price: \u001b[0;1;34m60.0\u001b[0;m gwei   Gas limit: \u001b[0;1;34m30000000\u001b[0;m   Nonce: \u001b[0;1;34m32\u001b[0;m\n",
      "\r",
      "Transaction sent: \u001b[0;1;34m0xea2d10f9f514d072ea8383871bc1be60b7ba9d2a5aa2dd6d126b1236699cd525\u001b[0;m\n",
      "  Gas price: \u001b[0;1;34m60.0\u001b[0;m gwei   Gas limit: \u001b[0;1;34m30000000\u001b[0;m   Nonce: \u001b[0;1;34m33\u001b[0;m\n",
      "\r",
      "Transaction sent: \u001b[0;1;34m0xdecdc0579ee0a6ecbeca73083a6f307fc8045459d1bb1e137960d2196e958eb9\u001b[0;m\n",
      "  Gas price: \u001b[0;1;34m60.0\u001b[0;m gwei   Gas limit: \u001b[0;1;34m30000000\u001b[0;m   Nonce: \u001b[0;1;34m34\u001b[0;m\n",
      "[<Status.Confirmed: 1>, <Status.Confirmed: 1>, <Status.Pending: -1>]\n"
     ]
    }
   ],
   "source": [
    "# Not blocking transactions.\n",
    "transactions = [\n",
    "    accounts[0].transfer(accounts[i], \"1 ether\", required_confs=0)\n",
    "    for i in range(1, 4)\n",
    "]\n",
    "print([tx.status for tx in transactions])"
   ]
  },
  {
   "cell_type": "code",
   "execution_count": 26,
   "id": "748d49b5",
   "metadata": {
    "ExecuteTime": {
     "end_time": "2023-01-15T21:33:30.916142Z",
     "start_time": "2023-01-15T21:33:30.909957Z"
    }
   },
   "outputs": [
    {
     "name": "stdout",
     "output_type": "stream",
     "text": [
      "[<Status.Confirmed: 1>, <Status.Confirmed: 1>, <Status.Confirmed: 1>]\n"
     ]
    }
   ],
   "source": [
    "print([tx.status for tx in transactions])"
   ]
  },
  {
   "cell_type": "code",
   "execution_count": 28,
   "id": "c876e14f",
   "metadata": {
    "ExecuteTime": {
     "end_time": "2023-01-15T21:33:38.890002Z",
     "start_time": "2023-01-15T21:33:38.884769Z"
    }
   },
   "outputs": [
    {
     "data": {
      "text/plain": [
       "[<Transaction '\u001b[0;m0x7718cf16dee0175a5d77687add2766519c6605d345be5c6bbbb4e77d3138e81b\u001b[0;m'>,\n",
       " <Transaction '\u001b[0;m0xfc7396dde30100061326283a401331b64aa0ac9c955bcac462691dffd6c703c5\u001b[0;m'>,\n",
       " <Transaction '\u001b[0;m0xc208167fcedb3db0cb5657d1eb87c4fcb76c493a1169cacda80a83f01c313652\u001b[0;m'>,\n",
       " <Transaction '\u001b[0;m0xcc34422b7a83e115c9ac523d36bc485bc694ed551c370aa24f228675d1f57a0c\u001b[0;m'>,\n",
       " <Transaction '\u001b[0;m0x714ea125ae05d7187a99c168af391f431050dab283433216c9ae7b5d37a319ac\u001b[0;m'>,\n",
       " <Transaction '\u001b[0;m0xea2d10f9f514d072ea8383871bc1be60b7ba9d2a5aa2dd6d126b1236699cd525\u001b[0;m'>,\n",
       " <Transaction '\u001b[0;m0xdecdc0579ee0a6ecbeca73083a6f307fc8045459d1bb1e137960d2196e958eb9\u001b[0;m'>]"
      ]
     },
     "execution_count": 28,
     "metadata": {},
     "output_type": "execute_result"
    }
   ],
   "source": [
    "# Print history of transactions.\n",
    "list(history)"
   ]
  },
  {
   "cell_type": "markdown",
   "id": "ed1600e6",
   "metadata": {},
   "source": [
    "## Working with Contracts"
   ]
  },
  {
   "cell_type": "markdown",
   "id": "19eb710f",
   "metadata": {},
   "source": [
    "### Deploying contracts"
   ]
  },
  {
   "cell_type": "code",
   "execution_count": 29,
   "id": "95291c40",
   "metadata": {
    "ExecuteTime": {
     "end_time": "2023-01-15T21:33:49.083020Z",
     "start_time": "2023-01-15T21:33:48.991839Z"
    }
   },
   "outputs": [
    {
     "name": "stdout",
     "output_type": "stream",
     "text": [
      "\r",
      "Transaction sent: \u001b[0;1;34m0x708d23ddc5e551181a40a345f7a88ce72797dc4867bc6af8104e8c80d5692ce1\u001b[0;m\n",
      "  Gas price: \u001b[0;1;34m60.0\u001b[0;m gwei   Gas limit: \u001b[0;1;34m30000000\u001b[0;m   Nonce: \u001b[0;1;34m8\u001b[0;m\n",
      "\r",
      "  Token.constructor confirmed   Block: \u001b[0;1;34m231\u001b[0;m   Gas used: \u001b[0;1;34m521405\u001b[0;m (\u001b[0;1;34m1.74%\u001b[0;m)\n",
      "  Token deployed at: \u001b[0;1;34m0x9e2C43153aa0007E6172af3733021A227480f008\u001b[0;m\n",
      "\n"
     ]
    }
   ],
   "source": [
    "# Deploy Token contract from account 1.\n",
    "token = Token.deploy(\"Test token\", \"TST\", 18, 1e23, {\"from\": accounts[1]})"
   ]
  },
  {
   "cell_type": "code",
   "execution_count": 31,
   "id": "253686e9",
   "metadata": {
    "ExecuteTime": {
     "end_time": "2023-01-15T21:34:16.935240Z",
     "start_time": "2023-01-15T21:34:16.928398Z"
    }
   },
   "outputs": [
    {
     "data": {
      "text/plain": [
       "<Token Contract '0x9e2C43153aa0007E6172af3733021A227480f008'>"
      ]
     },
     "execution_count": 31,
     "metadata": {},
     "output_type": "execute_result"
    }
   ],
   "source": [
    "# Print the contract address.\n",
    "token"
   ]
  },
  {
   "cell_type": "code",
   "execution_count": 33,
   "id": "fbba48f8",
   "metadata": {
    "ExecuteTime": {
     "end_time": "2023-01-15T21:34:36.925045Z",
     "start_time": "2023-01-15T21:34:36.919129Z"
    }
   },
   "outputs": [
    {
     "data": {
      "text/plain": [
       "[<Token Contract '0x9e2C43153aa0007E6172af3733021A227480f008'>]"
      ]
     },
     "execution_count": 33,
     "metadata": {},
     "output_type": "execute_result"
    }
   ],
   "source": [
    "# Deployed contracts are saved in brownie.\n",
    "list(Token)"
   ]
  },
  {
   "cell_type": "code",
   "execution_count": 34,
   "id": "3ee50863",
   "metadata": {
    "ExecuteTime": {
     "end_time": "2023-01-15T21:34:45.474690Z",
     "start_time": "2023-01-15T21:34:45.472028Z"
    }
   },
   "outputs": [],
   "source": [
    "# You can interact with contracts via\n",
    "# - transactions (broadcast to the network, write value on the blockchain, cost gas)\n",
    "# - calls (not broadcast, read value, retrieve values using a getter method)"
   ]
  },
  {
   "cell_type": "code",
   "execution_count": 35,
   "id": "10c69045",
   "metadata": {
    "ExecuteTime": {
     "end_time": "2023-01-15T21:34:46.862255Z",
     "start_time": "2023-01-15T21:34:46.857557Z"
    }
   },
   "outputs": [
    {
     "name": "stdout",
     "output_type": "stream",
     "text": [
      "<ContractTx 'transfer(address\u001b[0;1;34m _to\u001b[0;m, uint256\u001b[0;1;34m _value\u001b[0;m)'>\n"
     ]
    }
   ],
   "source": [
    "# Print the signature.\n",
    "print(token.transfer)"
   ]
  },
  {
   "cell_type": "code",
   "execution_count": 36,
   "id": "c6ab2cd6",
   "metadata": {
    "ExecuteTime": {
     "end_time": "2023-01-15T21:34:48.581493Z",
     "start_time": "2023-01-15T21:34:48.575958Z"
    }
   },
   "outputs": [
    {
     "name": "stdout",
     "output_type": "stream",
     "text": [
      "transfer(address\u001b[0;1;34m _to\u001b[0;m, uint256\u001b[0;1;34m _value\u001b[0;m)\n",
      "  \u001b[0;1;35m@notice \u001b[0;mTransfer tokens to a specified address\n",
      "  \u001b[0;1;35m@param \u001b[0;1;34m_to\u001b[0;m The address to transfer to\n",
      "  \u001b[0;1;35m@param \u001b[0;1;34m_value\u001b[0;m The amount to be transferred\n",
      "  \u001b[0;1;35m@return \u001b[0;mSuccess boolean\n",
      "\n"
     ]
    }
   ],
   "source": [
    "# NatSpec.\n",
    "token.transfer.info()"
   ]
  },
  {
   "cell_type": "code",
   "execution_count": 37,
   "id": "4d28c74b",
   "metadata": {
    "ExecuteTime": {
     "end_time": "2023-01-15T21:34:51.826234Z",
     "start_time": "2023-01-15T21:34:51.820891Z"
    }
   },
   "outputs": [
    {
     "name": "stdout",
     "output_type": "stream",
     "text": [
      "<ContractCall 'balanceOf(address\u001b[0;1;34m _owner\u001b[0;m)'>\n"
     ]
    }
   ],
   "source": [
    "print(token.balanceOf)"
   ]
  },
  {
   "cell_type": "markdown",
   "id": "931363c3",
   "metadata": {
    "ExecuteTime": {
     "end_time": "2022-12-19T23:18:18.527980Z",
     "start_time": "2022-12-19T23:18:18.524089Z"
    }
   },
   "source": [
    "### Transactions"
   ]
  },
  {
   "cell_type": "code",
   "execution_count": 42,
   "id": "4d715bb6",
   "metadata": {
    "ExecuteTime": {
     "end_time": "2023-01-15T21:40:40.375389Z",
     "start_time": "2023-01-15T21:40:40.369528Z"
    }
   },
   "outputs": [
    {
     "data": {
      "text/plain": [
       "<Token Contract '0x9e2C43153aa0007E6172af3733021A227480f008'>"
      ]
     },
     "execution_count": 42,
     "metadata": {},
     "output_type": "execute_result"
    }
   ],
   "source": [
    "token = Token[0]"
   ]
  },
  {
   "cell_type": "code",
   "execution_count": null,
   "id": "dedec884",
   "metadata": {
    "ExecuteTime": {
     "end_time": "2023-01-15T21:30:18.231336Z",
     "start_time": "2023-01-15T21:30:18.147345Z"
    }
   },
   "outputs": [],
   "source": [
    "# Transfer \n",
    "token.transfer(accounts[1], 1e9, {'from': accounts[1]})\n",
    "#token.transfer.call(accounts[1], 1e9, {'from': accounts[1]})"
   ]
  },
  {
   "cell_type": "code",
   "execution_count": null,
   "id": "1d726462",
   "metadata": {
    "ExecuteTime": {
     "end_time": "2023-01-15T21:30:18.279959Z",
     "start_time": "2023-01-15T21:30:18.274860Z"
    }
   },
   "outputs": [],
   "source": [
    "# TODO(gp): Finish"
   ]
  },
  {
   "cell_type": "markdown",
   "id": "3f5e345d",
   "metadata": {
    "ExecuteTime": {
     "end_time": "2022-12-19T23:23:50.239631Z",
     "start_time": "2022-12-19T23:23:50.235868Z"
    }
   },
   "source": [
    "## Setting transaction gas prices"
   ]
  },
  {
   "cell_type": "markdown",
   "id": "4dcc4435",
   "metadata": {
    "ExecuteTime": {
     "end_time": "2022-12-19T23:24:20.970245Z",
     "start_time": "2022-12-19T23:24:20.966488Z"
    }
   },
   "source": [
    "### Dynamic fee strategies"
   ]
  },
  {
   "cell_type": "code",
   "execution_count": null,
   "id": "6ccccb4f",
   "metadata": {
    "ExecuteTime": {
     "end_time": "2023-01-15T21:30:18.288660Z",
     "start_time": "2023-01-15T21:30:18.284237Z"
    }
   },
   "outputs": [],
   "source": [
    "# Instead of specifying `gas_price~ you can specify `priority_fee` and `max_fee`."
   ]
  },
  {
   "cell_type": "code",
   "execution_count": null,
   "id": "2d137c3b",
   "metadata": {
    "ExecuteTime": {
     "end_time": "2023-01-15T21:30:18.303551Z",
     "start_time": "2023-01-15T21:30:18.292941Z"
    }
   },
   "outputs": [],
   "source": [
    "chain.priority_fee"
   ]
  },
  {
   "cell_type": "code",
   "execution_count": null,
   "id": "87b21e32",
   "metadata": {
    "ExecuteTime": {
     "end_time": "2023-01-15T21:30:18.323519Z",
     "start_time": "2023-01-15T21:30:18.307940Z"
    }
   },
   "outputs": [],
   "source": [
    "chain.base_fee"
   ]
  },
  {
   "cell_type": "code",
   "execution_count": null,
   "id": "3eeda9a7",
   "metadata": {
    "ExecuteTime": {
     "end_time": "2023-01-15T21:30:18.401738Z",
     "start_time": "2023-01-15T21:30:18.327929Z"
    }
   },
   "outputs": [],
   "source": [
    "accounts[0].transfer(accounts[1], priority_fee=\"2 gwei\")"
   ]
  },
  {
   "cell_type": "markdown",
   "id": "913b66f7",
   "metadata": {
    "ExecuteTime": {
     "end_time": "2022-12-19T23:27:31.637456Z",
     "start_time": "2022-12-19T23:27:31.628907Z"
    }
   },
   "source": [
    "### Gas strategies\n",
    "\n",
    "Gas strategies generate gas price for a transaction, and replace pending transactions within the mempool.\n",
    "\n",
    "- simple: provide gas price once\n",
    "- block: provide initial gas price, and replace transactions given number of blocks mined\n",
    "- time: provide initial gas price, and replace transactions based on the amount of time"
   ]
  },
  {
   "cell_type": "markdown",
   "id": "fc992f3f",
   "metadata": {},
   "source": [
    "## Interacting with the blockchain"
   ]
  },
  {
   "cell_type": "code",
   "execution_count": null,
   "id": "0b90eda0",
   "metadata": {
    "ExecuteTime": {
     "end_time": "2023-01-15T21:30:18.416798Z",
     "start_time": "2023-01-15T21:30:18.404356Z"
    }
   },
   "outputs": [],
   "source": [
    "chain"
   ]
  },
  {
   "cell_type": "code",
   "execution_count": null,
   "id": "431529a0",
   "metadata": {
    "ExecuteTime": {
     "end_time": "2023-01-15T21:30:18.422629Z",
     "start_time": "2023-01-15T21:30:18.419067Z"
    }
   },
   "outputs": [],
   "source": [
    "# Print block.\n",
    "#chain[527]"
   ]
  },
  {
   "cell_type": "code",
   "execution_count": null,
   "id": "9ec4cb3c",
   "metadata": {
    "ExecuteTime": {
     "end_time": "2023-01-15T21:30:18.437607Z",
     "start_time": "2023-01-15T21:30:18.426209Z"
    }
   },
   "outputs": [],
   "source": [
    "len(chain)"
   ]
  },
  {
   "cell_type": "code",
   "execution_count": null,
   "id": "068517ec",
   "metadata": {
    "ExecuteTime": {
     "end_time": "2023-01-15T21:30:18.449769Z",
     "start_time": "2023-01-15T21:30:18.439876Z"
    }
   },
   "outputs": [],
   "source": [
    "web3.eth.block_number"
   ]
  },
  {
   "cell_type": "code",
   "execution_count": null,
   "id": "0055df21",
   "metadata": {
    "ExecuteTime": {
     "end_time": "2023-01-15T21:30:18.468620Z",
     "start_time": "2023-01-15T21:30:18.454129Z"
    }
   },
   "outputs": [],
   "source": [
    "web3.eth.get_block('latest')"
   ]
  },
  {
   "cell_type": "markdown",
   "id": "4aa5665a",
   "metadata": {
    "ExecuteTime": {
     "end_time": "2022-12-19T23:35:35.628878Z",
     "start_time": "2022-12-19T23:35:35.624826Z"
    }
   },
   "source": [
    "### Accessing transaction data"
   ]
  },
  {
   "cell_type": "code",
   "execution_count": null,
   "id": "a7c82fe0",
   "metadata": {
    "ExecuteTime": {
     "end_time": "2023-01-15T21:30:18.479710Z",
     "start_time": "2023-01-15T21:30:18.472069Z"
    }
   },
   "outputs": [],
   "source": [
    "# transactions broadcasted during the current session\n",
    "list(history)"
   ]
  },
  {
   "cell_type": "code",
   "execution_count": null,
   "id": "aa158970",
   "metadata": {
    "ExecuteTime": {
     "end_time": "2023-01-15T21:30:18.493590Z",
     "start_time": "2023-01-15T21:30:18.483228Z"
    }
   },
   "outputs": [],
   "source": [
    "history.filter(sender=accounts[0], value=\"1 ether\")"
   ]
  },
  {
   "cell_type": "code",
   "execution_count": null,
   "id": "cef350ae",
   "metadata": {
    "ExecuteTime": {
     "end_time": "2023-01-15T21:30:18.501297Z",
     "start_time": "2023-01-15T21:30:18.497373Z"
    }
   },
   "outputs": [],
   "source": [
    "if False:\n",
    "    tx = chain.get_transaction(\"0xda676ef03d9287b48c5f647e33175905cf1c2b0f386277ef8b13e3321950258a\")\n",
    "    dir(tx)"
   ]
  },
  {
   "cell_type": "markdown",
   "id": "949b99da",
   "metadata": {
    "ExecuteTime": {
     "end_time": "2022-12-19T23:38:22.275613Z",
     "start_time": "2022-12-19T23:38:22.265986Z"
    }
   },
   "source": [
    "### Manipulating the development chain\n",
    "\n",
    "- ganache supports mining, snapshotting, time travel"
   ]
  },
  {
   "cell_type": "code",
   "execution_count": null,
   "id": "048d32b2",
   "metadata": {
    "ExecuteTime": {
     "end_time": "2023-01-15T21:30:18.519073Z",
     "start_time": "2023-01-15T21:30:18.506948Z"
    }
   },
   "outputs": [],
   "source": [
    "web3.eth.block_number"
   ]
  },
  {
   "cell_type": "code",
   "execution_count": null,
   "id": "2ad68b6a",
   "metadata": {
    "ExecuteTime": {
     "end_time": "2023-01-15T21:30:19.183959Z",
     "start_time": "2023-01-15T21:30:18.523266Z"
    }
   },
   "outputs": [],
   "source": [
    "# ganache mines a new block when you broadcast a transaction\n",
    "# Mine empty blocks.\n",
    "chain.mine(50)"
   ]
  },
  {
   "cell_type": "code",
   "execution_count": null,
   "id": "6e65d7da",
   "metadata": {
    "ExecuteTime": {
     "end_time": "2023-01-15T21:30:19.193789Z",
     "start_time": "2023-01-15T21:30:19.185745Z"
    }
   },
   "outputs": [],
   "source": [
    "web3.eth.block_number"
   ]
  },
  {
   "cell_type": "code",
   "execution_count": null,
   "id": "f5b72064",
   "metadata": {
    "ExecuteTime": {
     "end_time": "2023-01-15T21:30:19.201045Z",
     "start_time": "2023-01-15T21:30:19.197138Z"
    }
   },
   "outputs": [],
   "source": [
    "# TODO()"
   ]
  },
  {
   "cell_type": "markdown",
   "id": "d179d949",
   "metadata": {
    "ExecuteTime": {
     "end_time": "2022-12-19T23:40:12.851557Z",
     "start_time": "2022-12-19T23:40:12.848001Z"
    }
   },
   "source": [
    "## Inspecting and debugging transactions"
   ]
  },
  {
   "cell_type": "code",
   "execution_count": null,
   "id": "e88d67cc",
   "metadata": {
    "ExecuteTime": {
     "end_time": "2023-01-15T21:30:19.274212Z",
     "start_time": "2023-01-15T21:30:19.203972Z"
    }
   },
   "outputs": [],
   "source": [
    "tx = Token[0].transfer(accounts[1], 1e18, {'from': accounts[1], \"required_confs\": 0})"
   ]
  },
  {
   "cell_type": "code",
   "execution_count": null,
   "id": "7b04a731",
   "metadata": {
    "ExecuteTime": {
     "end_time": "2023-01-15T21:30:19.304231Z",
     "start_time": "2023-01-15T21:30:19.290542Z"
    }
   },
   "outputs": [],
   "source": [
    "tx.status"
   ]
  },
  {
   "cell_type": "code",
   "execution_count": null,
   "id": "4ef3f432",
   "metadata": {
    "ExecuteTime": {
     "end_time": "2023-01-15T21:30:19.311680Z",
     "start_time": "2023-01-15T21:30:19.307177Z"
    }
   },
   "outputs": [],
   "source": [
    "tx.revert_msg"
   ]
  },
  {
   "cell_type": "code",
   "execution_count": null,
   "id": "611dcfbe",
   "metadata": {
    "ExecuteTime": {
     "end_time": "2023-01-15T21:30:19.343165Z",
     "start_time": "2023-01-15T21:30:19.314371Z"
    }
   },
   "outputs": [],
   "source": [
    "tx.info()"
   ]
  },
  {
   "cell_type": "code",
   "execution_count": null,
   "id": "130e765f",
   "metadata": {
    "ExecuteTime": {
     "end_time": "2023-01-15T21:30:19.351859Z",
     "start_time": "2023-01-15T21:30:19.346752Z"
    }
   },
   "outputs": [],
   "source": [
    "tx.events"
   ]
  },
  {
   "cell_type": "code",
   "execution_count": null,
   "id": "dc5d3e91",
   "metadata": {
    "ExecuteTime": {
     "end_time": "2023-01-15T21:30:19.362431Z",
     "start_time": "2023-01-15T21:30:19.354871Z"
    }
   },
   "outputs": [],
   "source": [
    "tx.traceback()"
   ]
  },
  {
   "cell_type": "markdown",
   "id": "624ea9a5",
   "metadata": {
    "ExecuteTime": {
     "end_time": "2022-12-19T23:49:37.894073Z",
     "start_time": "2022-12-19T23:49:37.890803Z"
    }
   },
   "source": [
    "### Inspecting the trace"
   ]
  },
  {
   "cell_type": "markdown",
   "id": "f786f8bd",
   "metadata": {},
   "source": [
    "## Data types\n",
    "\n",
    "brownie always return ether in Wei."
   ]
  },
  {
   "cell_type": "code",
   "execution_count": null,
   "id": "e61567e0",
   "metadata": {
    "ExecuteTime": {
     "end_time": "2023-01-15T21:30:19.376592Z",
     "start_time": "2023-01-15T21:30:19.365737Z"
    }
   },
   "outputs": [],
   "source": [
    "Wei(\"1 ether\")"
   ]
  },
  {
   "cell_type": "code",
   "execution_count": null,
   "id": "214029ea",
   "metadata": {
    "ExecuteTime": {
     "end_time": "2023-01-15T21:30:19.389673Z",
     "start_time": "2023-01-15T21:30:19.380098Z"
    }
   },
   "outputs": [],
   "source": [
    "Wei(\"12.49 gwei\")"
   ]
  },
  {
   "cell_type": "markdown",
   "id": "3213ddbd",
   "metadata": {
    "ExecuteTime": {
     "end_time": "2022-12-19T23:51:35.309769Z",
     "start_time": "2022-12-19T23:51:35.305920Z"
    }
   },
   "source": [
    "# Testing"
   ]
  },
  {
   "cell_type": "markdown",
   "id": "d01dcdf4",
   "metadata": {
    "ExecuteTime": {
     "end_time": "2022-12-19T23:51:45.591647Z",
     "start_time": "2022-12-19T23:51:45.588252Z"
    }
   },
   "source": [
    "# Networks and deployment"
   ]
  },
  {
   "cell_type": "code",
   "execution_count": null,
   "id": "b6e5205f",
   "metadata": {
    "ExecuteTime": {
     "end_time": "2023-01-15T21:30:19.401861Z",
     "start_time": "2023-01-15T21:30:19.393678Z"
    }
   },
   "outputs": [],
   "source": [
    "import brownie\n",
    "from brownie import *"
   ]
  },
  {
   "cell_type": "code",
   "execution_count": null,
   "id": "921a2cdb",
   "metadata": {
    "ExecuteTime": {
     "end_time": "2023-01-15T21:30:19.481342Z",
     "start_time": "2023-01-15T21:30:19.406744Z"
    }
   },
   "outputs": [],
   "source": [
    "target = 'goerli'\n",
    "if brownie.network.is_connected():\n",
    "    brownie.network.disconnect(target)\n",
    "brownie.network.connect(target)\n",
    "try:\n",
    "    project = brownie.project.load('/data/tutorial_brownie/bake_token1')\n",
    "except brownie.exceptions.ProjectAlreadyLoaded:\n",
    "    pass"
   ]
  },
  {
   "cell_type": "code",
   "execution_count": null,
   "id": "952a3338",
   "metadata": {
    "ExecuteTime": {
     "end_time": "2023-01-15T21:30:19.483570Z",
     "start_time": "2023-01-15T21:30:19.483552Z"
    }
   },
   "outputs": [],
   "source": [
    "list(accounts)"
   ]
  },
  {
   "cell_type": "code",
   "execution_count": null,
   "id": "676e015e",
   "metadata": {
    "ExecuteTime": {
     "end_time": "2023-01-15T21:30:19.485515Z",
     "start_time": "2023-01-15T21:30:19.485499Z"
    }
   },
   "outputs": [],
   "source": [
    "accounts.load('goerli')"
   ]
  },
  {
   "cell_type": "code",
   "execution_count": null,
   "id": "3b1164f6",
   "metadata": {
    "ExecuteTime": {
     "end_time": "2023-01-15T21:30:19.487131Z",
     "start_time": "2023-01-15T21:30:19.487115Z"
    }
   },
   "outputs": [],
   "source": [
    "account = accounts[0]"
   ]
  },
  {
   "cell_type": "markdown",
   "id": "244cf654",
   "metadata": {},
   "source": [
    "## Connect to blockchain"
   ]
  },
  {
   "cell_type": "code",
   "execution_count": null,
   "id": "1743b173",
   "metadata": {
    "ExecuteTime": {
     "end_time": "2023-01-15T21:30:19.488898Z",
     "start_time": "2023-01-15T21:30:19.488881Z"
    }
   },
   "outputs": [],
   "source": [
    "!curl --url https://goerli.infura.io/v3/$WEB3_INFURA_PROJECT_ID -X POST -H \"Content-Type: application/json\" -d '{\"jsonrpc\":\"2.0\",\"method\":\"eth_blockNumber\",\"params\":[],\"id\":1}'"
   ]
  },
  {
   "cell_type": "code",
   "execution_count": null,
   "id": "9e30f0b0",
   "metadata": {
    "ExecuteTime": {
     "end_time": "2023-01-15T21:30:19.490623Z",
     "start_time": "2023-01-15T21:30:19.490607Z"
    }
   },
   "outputs": [],
   "source": [
    "# Test Infura key.\n",
    "import os\n",
    "\n",
    "infura_key=os.environ[\"WEB3_INFURA_PROJECT_ID\"]\n",
    "\n",
    "import web3 as web3_lib\n",
    "\n",
    "infura_url = f\"https://goerli.infura.io/v3/{infura_key}\"\n",
    "web3 = web3_lib.Web3(web3_lib.Web3.HTTPProvider(infura_url))\n",
    "print(\"isConnected=\", web3.isConnected())"
   ]
  },
  {
   "cell_type": "code",
   "execution_count": null,
   "id": "2c87f987",
   "metadata": {
    "ExecuteTime": {
     "end_time": "2023-01-15T21:30:19.492858Z",
     "start_time": "2023-01-15T21:30:19.492837Z"
    }
   },
   "outputs": [],
   "source": [
    "account = \"0x980D0Ca15A31aB8157CF0F108Dfa250192dc77b4\"\n",
    "balance = web3.eth.getBalance(account)\n",
    "print(balance)\n",
    "print(web3.fromWei(balance, \"ether\"))"
   ]
  },
  {
   "cell_type": "code",
   "execution_count": null,
   "id": "e2b67e67",
   "metadata": {
    "ExecuteTime": {
     "end_time": "2023-01-15T21:30:19.495143Z",
     "start_time": "2023-01-15T21:30:19.495126Z"
    }
   },
   "outputs": [],
   "source": [
    "abi_file = \"/data/tutorial_brownie/bake_token1/build/contracts/Token.json\"\n",
    "import json\n",
    "f = open(abi_file)\n",
    "abi = json.load(f)[\"abi\"]"
   ]
  },
  {
   "cell_type": "code",
   "execution_count": null,
   "id": "acc3bd31",
   "metadata": {
    "ExecuteTime": {
     "end_time": "2023-01-15T21:30:19.499272Z",
     "start_time": "2023-01-15T21:30:19.499255Z"
    }
   },
   "outputs": [],
   "source": [
    "address = \"0x90B5CaA560725d29B3dd7f7cA9a4fC1A09Ee01F6\"\n",
    "contract = web3.eth.contract(address=address, abi=abi)"
   ]
  },
  {
   "cell_type": "code",
   "execution_count": null,
   "id": "d3a769e3",
   "metadata": {
    "ExecuteTime": {
     "end_time": "2023-01-15T21:30:19.501116Z",
     "start_time": "2023-01-15T21:30:19.501095Z"
    }
   },
   "outputs": [],
   "source": [
    "contract.functions.__dict__.keys()"
   ]
  },
  {
   "cell_type": "code",
   "execution_count": null,
   "id": "9202e3e2",
   "metadata": {
    "ExecuteTime": {
     "end_time": "2023-01-15T21:30:19.502785Z",
     "start_time": "2023-01-15T21:30:19.502768Z"
    }
   },
   "outputs": [],
   "source": [
    "totalSupply = contract.functions.totalSupply().call()\n",
    "print(\"name=\", contract.functions.name().call())\n",
    "print(\"symbol=\", contract.functions.symbol().call())\n",
    "print(\"totalSupply=\", web3.fromWei(totalSupply, 'ether'))\n",
    "\n",
    "balance = contract.functions.balanceOf(account).call()\n",
    "print(web3.fromWei(balance, 'ether'))"
   ]
  }
 ],
 "metadata": {
  "kernelspec": {
   "display_name": "Python 3 (ipykernel)",
   "language": "python",
   "name": "python3"
  },
  "language_info": {
   "codemirror_mode": {
    "name": "ipython",
    "version": 3
   },
   "file_extension": ".py",
   "mimetype": "text/x-python",
   "name": "python",
   "nbconvert_exporter": "python",
   "pygments_lexer": "ipython3",
   "version": "3.10.6"
  },
  "toc": {
   "base_numbering": 1,
   "nav_menu": {},
   "number_sections": true,
   "sideBar": true,
   "skip_h1_title": false,
   "title_cell": "Table of Contents",
   "title_sidebar": "Contents",
   "toc_cell": false,
   "toc_position": {},
   "toc_section_display": false,
   "toc_window_display": false
  }
 },
 "nbformat": 4,
 "nbformat_minor": 5
}
