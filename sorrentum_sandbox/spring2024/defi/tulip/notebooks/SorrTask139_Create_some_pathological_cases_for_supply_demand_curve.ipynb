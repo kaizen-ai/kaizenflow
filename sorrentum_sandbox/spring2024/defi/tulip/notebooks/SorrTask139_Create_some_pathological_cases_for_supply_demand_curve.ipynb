{
 "cells": [
  {
   "cell_type": "code",
   "execution_count": 1,
   "id": "9d67ffc3",
   "metadata": {
    "ExecuteTime": {
     "end_time": "2023-05-31T20:20:16.020090Z",
     "start_time": "2023-05-31T20:20:14.808906Z"
    }
   },
   "outputs": [],
   "source": [
    "%load_ext autoreload\n",
    "%autoreload 2\n",
    "\n",
    "import logging\n",
    "\n",
    "import matplotlib.pyplot as plt\n",
    "import pandas as pd\n",
    "\n",
    "import defi.tulip.implementation.order as dtuimord\n",
    "import defi.tulip.implementation.supply_demand as dtimsude\n",
    "import helpers.hdbg as hdbg\n",
    "import helpers.henv as henv\n",
    "import helpers.hprint as hprint"
   ]
  },
  {
   "cell_type": "code",
   "execution_count": 2,
   "id": "006f03cf",
   "metadata": {
    "ExecuteTime": {
     "end_time": "2023-05-31T20:20:16.138683Z",
     "start_time": "2023-05-31T20:20:16.023842Z"
    }
   },
   "outputs": [],
   "source": [
    "try:\n",
    "    import pulp\n",
    "except ImportError:\n",
    "    !sudo /bin/bash -c \"(source /venv/bin/activate; pip install pulp)\"\n",
    "    pass\n",
    "import defi.tulip.implementation.optimize as dtuimopt"
   ]
  },
  {
   "cell_type": "code",
   "execution_count": 3,
   "id": "5a9332f4",
   "metadata": {
    "ExecuteTime": {
     "end_time": "2023-05-31T20:20:18.537171Z",
     "start_time": "2023-05-31T20:20:16.141181Z"
    }
   },
   "outputs": [
    {
     "name": "stdout",
     "output_type": "stream",
     "text": [
      "\u001b[0m\u001b[36mINFO\u001b[0m: > cmd='/venv/lib/python3.8/site-packages/ipykernel_launcher.py -f /home/.local/share/jupyter/runtime/kernel-26438979-aea5-4d45-8c42-c767ad920324.json'\n",
      "WARNING: Running in Jupyter\n",
      "DEBUG Effective logging level=10\n",
      "DEBUG Shut up 28 modules: asyncio, matplotlib.axis, matplotlib.axes, matplotlib.style.core, matplotlib.font_manager, matplotlib.lines, matplotlib.figure, matplotlib._afm, matplotlib.image, matplotlib.style, matplotlib.axes._axes, matplotlib._constrained_layout, matplotlib, matplotlib.colorbar, matplotlib.textpath, matplotlib.pyplot, matplotlib.artist, matplotlib.mathtext, matplotlib.texmanager, matplotlib.text, matplotlib.category, matplotlib.gridspec, matplotlib.dates, matplotlib.backend_bases, matplotlib.dviread, matplotlib._layoutgrid, matplotlib.axes._base, matplotlib.ticker\n",
      "DEBUG > (cd . && cd \"$(git rev-parse --show-toplevel)/..\" && (git rev-parse --is-inside-work-tree | grep -q true)) 2>&1\n",
      "DEBUG > (git rev-parse --show-toplevel) 2>&1\n",
      "\u001b[31m-----------------------------------------------------------------------------\n",
      "This code is not in sync with the container:\n",
      "code_version='1.4.3' != container_version='1.4.0'\n",
      "-----------------------------------------------------------------------------\n",
      "You need to:\n",
      "- merge origin/master into your branch with `invoke git_merge_master`\n",
      "- pull the latest container with `invoke docker_pull`\u001b[0m\n",
      "DEBUG > (git branch --show-current) 2>&1\n",
      "DEBUG > (git rev-parse --short HEAD) 2>&1\n",
      "DEBUG > (git log --date=local --oneline --graph --date-order --decorate --pretty=format:'%h %<(8)%aN%  %<(65)%s (%>(14)%ar) %ad %<(10)%d' -3) 2>&1\n",
      "INFO  # Git\n",
      "  branch_name='SorrTask154_Follow_ups'\n",
      "  hash='df3abeeae'\n",
      "  # Last commits:\n",
      "    *   df3abeeae dan      Merge branch 'master' into SorrTask154_Follow_ups                 (   6 hours ago) Wed May 31 14:08:51 2023  (HEAD -> SorrTask154_Follow_ups)\n",
      "    |\\  \n",
      "    | * 60645429a Samarth KaPatel SorrTask291_Update Signing_up_for_Sorrentum.md (#291)             (   7 hours ago) Wed May 31 13:09:36 2023  (origin/master, origin/Issue287_Build_Docker_Image_For_Multiple_Architectures, origin/HEAD, master)\n",
      "    | * 6994f6891 GP Saggese Update Quick_start_for_developing.md                              (   7 hours ago) Wed May 31 12:54:04 2023           \n",
      "# Machine info\n",
      "  system=Linux\n",
      "  node name=307e1a340dd0\n",
      "  release=5.15.0-1033-aws\n",
      "  version=#37~20.04.1-Ubuntu SMP Fri Mar 17 11:39:30 UTC 2023\n",
      "  machine=x86_64\n",
      "  processor=x86_64\n",
      "  cpu count=8\n",
      "  cpu freq=scpufreq(current=2499.998, min=0.0, max=0.0)\n",
      "  memory=svmem(total=33292873728, available=28779200512, percent=13.6, used=4036132864, free=3008118784, active=10904559616, inactive=15796797440, buffers=2858573824, cached=23390048256, shared=2453504, slab=3299422208)\n",
      "  disk usage=sdiskusage(total=156052275200, used=52479750144, free=103555747840, percent=33.6)\n",
      "# Packages\n",
      "  python: 3.8.10\n",
      "  cvxopt: 1.3.0\n",
      "  cvxpy: 1.2.2\n",
      "  gluonnlp: ?\n",
      "  gluonts: 0.6.7\n",
      "  joblib: 1.2.0\n",
      "  mxnet: 1.9.1\n",
      "  numpy: 1.23.4\n",
      "  pandas: 1.5.1\n",
      "  pyarrow: 10.0.0\n",
      "  scipy: 1.9.3\n",
      "  seaborn: 0.12.1\n",
      "  sklearn: 1.1.3\n",
      "  statsmodels: 0.13.5\n"
     ]
    }
   ],
   "source": [
    "hdbg.init_logger(verbosity=logging.DEBUG)\n",
    "\n",
    "_LOG = logging.getLogger(__name__)\n",
    "\n",
    "_LOG.info(\"%s\", henv.get_system_signature()[0])\n",
    "\n",
    "hprint.config_notebook()"
   ]
  },
  {
   "cell_type": "markdown",
   "id": "c0020c03",
   "metadata": {},
   "source": [
    "# Pathological cases"
   ]
  },
  {
   "cell_type": "markdown",
   "id": "13bd9eb6",
   "metadata": {},
   "source": [
    "## Get orders and set prices."
   ]
  },
  {
   "cell_type": "code",
   "execution_count": 4,
   "id": "3a9cdec9",
   "metadata": {
    "ExecuteTime": {
     "end_time": "2023-05-31T20:20:18.572128Z",
     "start_time": "2023-05-31T20:20:18.543022Z"
    }
   },
   "outputs": [],
   "source": [
    "base_token = \"BTC\"\n",
    "quote_token = \"ETH\""
   ]
  },
  {
   "cell_type": "code",
   "execution_count": 5,
   "id": "692c56fc",
   "metadata": {
    "ExecuteTime": {
     "end_time": "2023-05-31T20:20:18.618622Z",
     "start_time": "2023-05-31T20:20:18.574787Z"
    }
   },
   "outputs": [
    {
     "data": {
      "text/plain": [
       "ETH\n",
       "1.0    1.5\n",
       "2.0    2.0\n",
       "3.0    3.0\n",
       "4.0    3.5\n",
       "Name: BTC.supply, dtype: float64"
      ]
     },
     "execution_count": 5,
     "metadata": {},
     "output_type": "execute_result"
    }
   ],
   "source": [
    "quantities = [1.0, 2.0, 3.0, 4.0]\n",
    "limit_prices = [1.5, 2.0, 3.0, 3.5]\n",
    "type_ = \"supply\"\n",
    "curve_name = \".\".join([base_token, type_])\n",
    "#\n",
    "discrete_supply_curve = pd.Series(\n",
    "    index=quantities,\n",
    "    data=limit_prices,\n",
    "    name=curve_name,\n",
    ")\n",
    "discrete_supply_curve.index.name = quote_token\n",
    "discrete_supply_curve"
   ]
  },
  {
   "cell_type": "code",
   "execution_count": 6,
   "id": "deee046d",
   "metadata": {
    "ExecuteTime": {
     "end_time": "2023-05-31T20:20:39.116014Z",
     "start_time": "2023-05-31T20:20:39.063348Z"
    }
   },
   "outputs": [
    {
     "data": {
      "text/html": [
       "<div>\n",
       "<style scoped>\n",
       "    .dataframe tbody tr th:only-of-type {\n",
       "        vertical-align: middle;\n",
       "    }\n",
       "\n",
       "    .dataframe tbody tr th {\n",
       "        vertical-align: top;\n",
       "    }\n",
       "\n",
       "    .dataframe thead th {\n",
       "        text-align: right;\n",
       "    }\n",
       "</style>\n",
       "<table border=\"1\" class=\"dataframe\">\n",
       "  <thead>\n",
       "    <tr style=\"text-align: right;\">\n",
       "      <th></th>\n",
       "      <th>timestamp</th>\n",
       "      <th>action</th>\n",
       "      <th>quantity</th>\n",
       "      <th>base_token</th>\n",
       "      <th>limit_price</th>\n",
       "      <th>quote_token</th>\n",
       "      <th>deposit_address</th>\n",
       "    </tr>\n",
       "  </thead>\n",
       "  <tbody>\n",
       "    <tr>\n",
       "      <th>0</th>\n",
       "      <td>2023-05-31 20:20:39.095666+00:00</td>\n",
       "      <td>sell</td>\n",
       "      <td>1</td>\n",
       "      <td>BTC</td>\n",
       "      <td>1.5</td>\n",
       "      <td>ETH</td>\n",
       "      <td>2</td>\n",
       "    </tr>\n",
       "    <tr>\n",
       "      <th>1</th>\n",
       "      <td>2023-05-31 20:20:39.095761+00:00</td>\n",
       "      <td>sell</td>\n",
       "      <td>1</td>\n",
       "      <td>BTC</td>\n",
       "      <td>2.0</td>\n",
       "      <td>ETH</td>\n",
       "      <td>1</td>\n",
       "    </tr>\n",
       "    <tr>\n",
       "      <th>2</th>\n",
       "      <td>2023-05-31 20:20:39.095774+00:00</td>\n",
       "      <td>sell</td>\n",
       "      <td>1</td>\n",
       "      <td>BTC</td>\n",
       "      <td>3.0</td>\n",
       "      <td>ETH</td>\n",
       "      <td>5</td>\n",
       "    </tr>\n",
       "    <tr>\n",
       "      <th>3</th>\n",
       "      <td>2023-05-31 20:20:39.095783+00:00</td>\n",
       "      <td>sell</td>\n",
       "      <td>1</td>\n",
       "      <td>BTC</td>\n",
       "      <td>3.5</td>\n",
       "      <td>ETH</td>\n",
       "      <td>4</td>\n",
       "    </tr>\n",
       "  </tbody>\n",
       "</table>\n",
       "</div>"
      ],
      "text/plain": [
       "                         timestamp action  quantity base_token  limit_price quote_token  deposit_address\n",
       "0 2023-05-31 20:20:39.095666+00:00   sell         1        BTC          1.5         ETH                2\n",
       "1 2023-05-31 20:20:39.095761+00:00   sell         1        BTC          2.0         ETH                1\n",
       "2 2023-05-31 20:20:39.095774+00:00   sell         1        BTC          3.0         ETH                5\n",
       "3 2023-05-31 20:20:39.095783+00:00   sell         1        BTC          3.5         ETH                4"
      ]
     },
     "execution_count": 6,
     "metadata": {},
     "output_type": "execute_result"
    }
   ],
   "source": [
    "supply_orders1 = dtimsude.convert_discrete_curve_to_limit_orders(\n",
    "    discrete_supply_curve\n",
    ")\n",
    "supply_orders_df1 = dtuimord.convert_orders_to_dataframe(supply_orders1)\n",
    "supply_orders_df1"
   ]
  },
  {
   "cell_type": "code",
   "execution_count": 7,
   "id": "21efb15b",
   "metadata": {
    "ExecuteTime": {
     "end_time": "2023-05-31T20:20:41.948010Z",
     "start_time": "2023-05-31T20:20:41.906772Z"
    }
   },
   "outputs": [
    {
     "data": {
      "text/plain": [
       "ETH\n",
       "1.0    3.5\n",
       "2.0    2.5\n",
       "3.0    2.0\n",
       "4.0    1.5\n",
       "Name: BTC.demand, dtype: float64"
      ]
     },
     "execution_count": 7,
     "metadata": {},
     "output_type": "execute_result"
    }
   ],
   "source": [
    "quantities = [1.0, 2.0, 3.0, 4.0]\n",
    "limit_prices = [3.5, 2.5, 2.0, 1.5]\n",
    "type_ = \"demand\"\n",
    "curve_name = \".\".join([base_token, type_])\n",
    "#\n",
    "discrete_demand_curve = pd.Series(\n",
    "    index=quantities,\n",
    "    data=limit_prices,\n",
    "    name=curve_name,\n",
    ")\n",
    "discrete_demand_curve.index.name = quote_token\n",
    "discrete_demand_curve"
   ]
  },
  {
   "cell_type": "code",
   "execution_count": 8,
   "id": "fa0ea2c9",
   "metadata": {
    "ExecuteTime": {
     "end_time": "2023-05-31T20:20:44.919429Z",
     "start_time": "2023-05-31T20:20:44.870540Z"
    }
   },
   "outputs": [
    {
     "data": {
      "text/html": [
       "<div>\n",
       "<style scoped>\n",
       "    .dataframe tbody tr th:only-of-type {\n",
       "        vertical-align: middle;\n",
       "    }\n",
       "\n",
       "    .dataframe tbody tr th {\n",
       "        vertical-align: top;\n",
       "    }\n",
       "\n",
       "    .dataframe thead th {\n",
       "        text-align: right;\n",
       "    }\n",
       "</style>\n",
       "<table border=\"1\" class=\"dataframe\">\n",
       "  <thead>\n",
       "    <tr style=\"text-align: right;\">\n",
       "      <th></th>\n",
       "      <th>timestamp</th>\n",
       "      <th>action</th>\n",
       "      <th>quantity</th>\n",
       "      <th>base_token</th>\n",
       "      <th>limit_price</th>\n",
       "      <th>quote_token</th>\n",
       "      <th>deposit_address</th>\n",
       "    </tr>\n",
       "  </thead>\n",
       "  <tbody>\n",
       "    <tr>\n",
       "      <th>0</th>\n",
       "      <td>2023-05-31 20:20:44.898754+00:00</td>\n",
       "      <td>buy</td>\n",
       "      <td>1</td>\n",
       "      <td>BTC</td>\n",
       "      <td>3.5</td>\n",
       "      <td>ETH</td>\n",
       "      <td>2</td>\n",
       "    </tr>\n",
       "    <tr>\n",
       "      <th>1</th>\n",
       "      <td>2023-05-31 20:20:44.898797+00:00</td>\n",
       "      <td>buy</td>\n",
       "      <td>1</td>\n",
       "      <td>BTC</td>\n",
       "      <td>2.5</td>\n",
       "      <td>ETH</td>\n",
       "      <td>1</td>\n",
       "    </tr>\n",
       "    <tr>\n",
       "      <th>2</th>\n",
       "      <td>2023-05-31 20:20:44.898808+00:00</td>\n",
       "      <td>buy</td>\n",
       "      <td>1</td>\n",
       "      <td>BTC</td>\n",
       "      <td>2.0</td>\n",
       "      <td>ETH</td>\n",
       "      <td>5</td>\n",
       "    </tr>\n",
       "    <tr>\n",
       "      <th>3</th>\n",
       "      <td>2023-05-31 20:20:44.898817+00:00</td>\n",
       "      <td>buy</td>\n",
       "      <td>1</td>\n",
       "      <td>BTC</td>\n",
       "      <td>1.5</td>\n",
       "      <td>ETH</td>\n",
       "      <td>4</td>\n",
       "    </tr>\n",
       "  </tbody>\n",
       "</table>\n",
       "</div>"
      ],
      "text/plain": [
       "                         timestamp action  quantity base_token  limit_price quote_token  deposit_address\n",
       "0 2023-05-31 20:20:44.898754+00:00    buy         1        BTC          3.5         ETH                2\n",
       "1 2023-05-31 20:20:44.898797+00:00    buy         1        BTC          2.5         ETH                1\n",
       "2 2023-05-31 20:20:44.898808+00:00    buy         1        BTC          2.0         ETH                5\n",
       "3 2023-05-31 20:20:44.898817+00:00    buy         1        BTC          1.5         ETH                4"
      ]
     },
     "execution_count": 8,
     "metadata": {},
     "output_type": "execute_result"
    }
   ],
   "source": [
    "demand_orders1 = dtimsude.convert_discrete_curve_to_limit_orders(\n",
    "    discrete_demand_curve\n",
    ")\n",
    "demand_orders_df1 = dtuimord.convert_orders_to_dataframe(demand_orders1)\n",
    "demand_orders_df1"
   ]
  },
  {
   "cell_type": "code",
   "execution_count": 9,
   "id": "133b1137",
   "metadata": {
    "ExecuteTime": {
     "end_time": "2023-05-31T20:20:48.118697Z",
     "start_time": "2023-05-31T20:20:48.078602Z"
    }
   },
   "outputs": [],
   "source": [
    "prices = {\"BTC\": 1, \"ETH\": 2}"
   ]
  },
  {
   "cell_type": "markdown",
   "id": "fee327c6",
   "metadata": {},
   "source": [
    "## Multiple intersection points at quantity Q'"
   ]
  },
  {
   "cell_type": "code",
   "execution_count": 10,
   "id": "92249f40",
   "metadata": {
    "ExecuteTime": {
     "end_time": "2023-05-31T20:21:04.962199Z",
     "start_time": "2023-05-31T20:21:04.918161Z"
    }
   },
   "outputs": [
    {
     "data": {
      "text/plain": [
       "ETH\n",
       "1    1.5\n",
       "2    2.0\n",
       "3    3.0\n",
       "4    3.5\n",
       "Name: BTC.supply, dtype: Float64"
      ]
     },
     "execution_count": 10,
     "metadata": {},
     "output_type": "execute_result"
    }
   ],
   "source": [
    "type_ = \"supply\"\n",
    "supply_curve1 = dtimsude.get_supply_demand_discrete_curve(\n",
    "    type_, supply_orders_df1\n",
    ")\n",
    "supply_curve1"
   ]
  },
  {
   "cell_type": "code",
   "execution_count": 12,
   "id": "08b78712",
   "metadata": {
    "ExecuteTime": {
     "end_time": "2023-05-31T20:21:21.277615Z",
     "start_time": "2023-05-31T20:21:21.219986Z"
    }
   },
   "outputs": [],
   "source": [
    "supply_orders_ = dtimsude.convert_discrete_curve_to_limit_orders(supply_curve1)"
   ]
  },
  {
   "cell_type": "code",
   "execution_count": 13,
   "id": "9b99b8dc",
   "metadata": {
    "ExecuteTime": {
     "end_time": "2023-05-31T20:21:22.785111Z",
     "start_time": "2023-05-31T20:21:22.722330Z"
    }
   },
   "outputs": [
    {
     "data": {
      "text/plain": [
       "ETH\n",
       "1    3.5\n",
       "2    2.5\n",
       "3    2.0\n",
       "4    1.5\n",
       "Name: BTC.demand, dtype: Float64"
      ]
     },
     "execution_count": 13,
     "metadata": {},
     "output_type": "execute_result"
    }
   ],
   "source": [
    "type_ = \"demand\"\n",
    "demand_curve1 = dtimsude.get_supply_demand_discrete_curve(\n",
    "    type_, demand_orders_df1\n",
    ")\n",
    "demand_curve1"
   ]
  },
  {
   "cell_type": "code",
   "execution_count": 16,
   "id": "f1d25ee1",
   "metadata": {
    "ExecuteTime": {
     "end_time": "2023-05-31T20:21:51.146176Z",
     "start_time": "2023-05-31T20:21:50.758102Z"
    }
   },
   "outputs": [
    {
     "data": {
      "image/png": "[encoded data removed]",
      "text/plain": [
       "<Figure size 2000x500 with 1 Axes>"
      ]
     },
     "metadata": {},
     "output_type": "display_data"
    }
   ],
   "source": [
    "dtimsude.plot_discrete_curve(demand_curve1)\n",
    "dtimsude.plot_discrete_curve(supply_curve1)\n",
    "plt.show()"
   ]
  },
  {
   "cell_type": "code",
   "execution_count": 17,
   "id": "fdd93b91",
   "metadata": {
    "ExecuteTime": {
     "end_time": "2023-05-31T20:22:03.180093Z",
     "start_time": "2023-05-31T20:22:03.029502Z"
    },
    "run_control": {
     "marked": false
    }
   },
   "outputs": [
    {
     "name": "stdout",
     "output_type": "stream",
     "text": [
      "DEBUG orders=[timestamp=2023-05-31 20:20:39.095666+00:00 action=sell quantity=1.0 base_token=BTC limit_price=1.5 quote_token=ETH deposit_address=2 wallet_address=2, timestamp=2023-05-31 20:20:39.095761+00:00 action=sell quantity=1.0 base_token=BTC limit_price=2.0 quote_token=ETH deposit_address=1 wallet_address=1, timestamp=2023-05-31 20:20:39.095774+00:00 action=sell quantity=1.0 base_token=BTC limit_price=3.0 quote_token=ETH deposit_address=5 wallet_address=5, timestamp=2023-05-31 20:20:39.095783+00:00 action=sell quantity=1.0 base_token=BTC limit_price=3.5 quote_token=ETH deposit_address=4 wallet_address=4, timestamp=2023-05-31 20:20:44.898754+00:00 action=buy quantity=1.0 base_token=BTC limit_price=3.5 quote_token=ETH deposit_address=2 wallet_address=2, timestamp=2023-05-31 20:20:44.898797+00:00 action=buy quantity=1.0 base_token=BTC limit_price=2.5 quote_token=ETH deposit_address=1 wallet_address=1, timestamp=2023-05-31 20:20:44.898808+00:00 action=buy quantity=1.0 base_token=BTC limit_price=2.0 quote_token=ETH deposit_address=5 wallet_address=5, timestamp=2023-05-31 20:20:44.898817+00:00 action=buy quantity=1.0 base_token=BTC limit_price=1.5 quote_token=ETH deposit_address=4 wallet_address=4]\n",
      "DEBUG prices={'BTC': 1, 'ETH': 2}\n",
      "DEBUG /venv/lib/python3.8/site-packages/pulp/solverdir/cbc/linux/64/cbc /tmp/907fe6c6a1644c689494bedc2d492d1a-pulp.mps max timeMode elapsed branch printingOptions all solution /tmp/907fe6c6a1644c689494bedc2d492d1a-pulp.sol \n"
     ]
    },
    {
     "data": {
      "text/html": [
       "<div>\n",
       "<style scoped>\n",
       "    .dataframe tbody tr th:only-of-type {\n",
       "        vertical-align: middle;\n",
       "    }\n",
       "\n",
       "    .dataframe tbody tr th {\n",
       "        vertical-align: top;\n",
       "    }\n",
       "\n",
       "    .dataframe thead th {\n",
       "        text-align: right;\n",
       "    }\n",
       "</style>\n",
       "<table border=\"1\" class=\"dataframe\">\n",
       "  <thead>\n",
       "    <tr style=\"text-align: right;\">\n",
       "      <th></th>\n",
       "      <th>timestamp</th>\n",
       "      <th>action</th>\n",
       "      <th>quantity</th>\n",
       "      <th>base_token</th>\n",
       "      <th>limit_price</th>\n",
       "      <th>quote_token</th>\n",
       "      <th>deposit_address</th>\n",
       "      <th>q_pi_star</th>\n",
       "      <th>q_tau_star</th>\n",
       "      <th>effective_price</th>\n",
       "    </tr>\n",
       "  </thead>\n",
       "  <tbody>\n",
       "    <tr>\n",
       "      <th>0</th>\n",
       "      <td>2023-05-31 20:20:39.095666+00:00</td>\n",
       "      <td>sell</td>\n",
       "      <td>1</td>\n",
       "      <td>BTC</td>\n",
       "      <td>1.5</td>\n",
       "      <td>ETH</td>\n",
       "      <td>2</td>\n",
       "      <td>1.0</td>\n",
       "      <td>2.0</td>\n",
       "      <td>2.0</td>\n",
       "    </tr>\n",
       "    <tr>\n",
       "      <th>1</th>\n",
       "      <td>2023-05-31 20:20:39.095761+00:00</td>\n",
       "      <td>sell</td>\n",
       "      <td>1</td>\n",
       "      <td>BTC</td>\n",
       "      <td>2.0</td>\n",
       "      <td>ETH</td>\n",
       "      <td>1</td>\n",
       "      <td>1.0</td>\n",
       "      <td>2.0</td>\n",
       "      <td>2.0</td>\n",
       "    </tr>\n",
       "    <tr>\n",
       "      <th>2</th>\n",
       "      <td>2023-05-31 20:20:39.095774+00:00</td>\n",
       "      <td>sell</td>\n",
       "      <td>1</td>\n",
       "      <td>BTC</td>\n",
       "      <td>3.0</td>\n",
       "      <td>ETH</td>\n",
       "      <td>5</td>\n",
       "      <td>0.0</td>\n",
       "      <td>0.0</td>\n",
       "      <td>NaN</td>\n",
       "    </tr>\n",
       "    <tr>\n",
       "      <th>3</th>\n",
       "      <td>2023-05-31 20:20:39.095783+00:00</td>\n",
       "      <td>sell</td>\n",
       "      <td>1</td>\n",
       "      <td>BTC</td>\n",
       "      <td>3.5</td>\n",
       "      <td>ETH</td>\n",
       "      <td>4</td>\n",
       "      <td>0.0</td>\n",
       "      <td>0.0</td>\n",
       "      <td>NaN</td>\n",
       "    </tr>\n",
       "    <tr>\n",
       "      <th>4</th>\n",
       "      <td>2023-05-31 20:20:44.898754+00:00</td>\n",
       "      <td>buy</td>\n",
       "      <td>1</td>\n",
       "      <td>BTC</td>\n",
       "      <td>3.5</td>\n",
       "      <td>ETH</td>\n",
       "      <td>2</td>\n",
       "      <td>1.0</td>\n",
       "      <td>2.0</td>\n",
       "      <td>2.0</td>\n",
       "    </tr>\n",
       "    <tr>\n",
       "      <th>5</th>\n",
       "      <td>2023-05-31 20:20:44.898797+00:00</td>\n",
       "      <td>buy</td>\n",
       "      <td>1</td>\n",
       "      <td>BTC</td>\n",
       "      <td>2.5</td>\n",
       "      <td>ETH</td>\n",
       "      <td>1</td>\n",
       "      <td>1.0</td>\n",
       "      <td>2.0</td>\n",
       "      <td>2.0</td>\n",
       "    </tr>\n",
       "    <tr>\n",
       "      <th>6</th>\n",
       "      <td>2023-05-31 20:20:44.898808+00:00</td>\n",
       "      <td>buy</td>\n",
       "      <td>1</td>\n",
       "      <td>BTC</td>\n",
       "      <td>2.0</td>\n",
       "      <td>ETH</td>\n",
       "      <td>5</td>\n",
       "      <td>0.0</td>\n",
       "      <td>0.0</td>\n",
       "      <td>NaN</td>\n",
       "    </tr>\n",
       "    <tr>\n",
       "      <th>7</th>\n",
       "      <td>2023-05-31 20:20:44.898817+00:00</td>\n",
       "      <td>buy</td>\n",
       "      <td>1</td>\n",
       "      <td>BTC</td>\n",
       "      <td>1.5</td>\n",
       "      <td>ETH</td>\n",
       "      <td>4</td>\n",
       "      <td>0.0</td>\n",
       "      <td>0.0</td>\n",
       "      <td>NaN</td>\n",
       "    </tr>\n",
       "  </tbody>\n",
       "</table>\n",
       "</div>"
      ],
      "text/plain": [
       "                         timestamp action  quantity base_token  limit_price quote_token  deposit_address  q_pi_star  q_tau_star  effective_price\n",
       "0 2023-05-31 20:20:39.095666+00:00   sell         1        BTC          1.5         ETH                2        1.0         2.0              2.0\n",
       "1 2023-05-31 20:20:39.095761+00:00   sell         1        BTC          2.0         ETH                1        1.0         2.0              2.0\n",
       "2 2023-05-31 20:20:39.095774+00:00   sell         1        BTC          3.0         ETH                5        0.0         0.0              NaN\n",
       "3 2023-05-31 20:20:39.095783+00:00   sell         1        BTC          3.5         ETH                4        0.0         0.0              NaN\n",
       "4 2023-05-31 20:20:44.898754+00:00    buy         1        BTC          3.5         ETH                2        1.0         2.0              2.0\n",
       "5 2023-05-31 20:20:44.898797+00:00    buy         1        BTC          2.5         ETH                1        1.0         2.0              2.0\n",
       "6 2023-05-31 20:20:44.898808+00:00    buy         1        BTC          2.0         ETH                5        0.0         0.0              NaN\n",
       "7 2023-05-31 20:20:44.898817+00:00    buy         1        BTC          1.5         ETH                4        0.0         0.0              NaN"
      ]
     },
     "metadata": {},
     "output_type": "display_data"
    }
   ],
   "source": [
    "all_orders1 = supply_orders1 + demand_orders1\n",
    "daocross_results1 = dtuimopt.run_daocross_solver(all_orders1, prices)\n",
    "display(daocross_results1)"
   ]
  },
  {
   "cell_type": "code",
   "execution_count": 18,
   "id": "1bb8cbd6",
   "metadata": {
    "ExecuteTime": {
     "end_time": "2023-05-31T20:22:03.578558Z",
     "start_time": "2023-05-31T20:22:03.457470Z"
    }
   },
   "outputs": [
    {
     "name": "stdout",
     "output_type": "stream",
     "text": [
      "DEBUG orders=[timestamp=2023-05-31 20:20:39.095666+00:00 action=sell quantity=1.0 base_token=BTC limit_price=1.5 quote_token=ETH deposit_address=2 wallet_address=2, timestamp=2023-05-31 20:20:39.095761+00:00 action=sell quantity=1.0 base_token=BTC limit_price=2.0 quote_token=ETH deposit_address=1 wallet_address=1, timestamp=2023-05-31 20:20:39.095774+00:00 action=sell quantity=1.0 base_token=BTC limit_price=3.0 quote_token=ETH deposit_address=5 wallet_address=5, timestamp=2023-05-31 20:20:39.095783+00:00 action=sell quantity=1.0 base_token=BTC limit_price=3.5 quote_token=ETH deposit_address=4 wallet_address=4, timestamp=2023-05-31 20:20:44.898754+00:00 action=buy quantity=1.0 base_token=BTC limit_price=3.5 quote_token=ETH deposit_address=2 wallet_address=2, timestamp=2023-05-31 20:20:44.898797+00:00 action=buy quantity=1.0 base_token=BTC limit_price=2.5 quote_token=ETH deposit_address=1 wallet_address=1, timestamp=2023-05-31 20:20:44.898808+00:00 action=buy quantity=1.0 base_token=BTC limit_price=2.0 quote_token=ETH deposit_address=5 wallet_address=5, timestamp=2023-05-31 20:20:44.898817+00:00 action=buy quantity=1.0 base_token=BTC limit_price=1.5 quote_token=ETH deposit_address=4 wallet_address=4]\n",
      "DEBUG /venv/lib/python3.8/site-packages/pulp/solverdir/cbc/linux/64/cbc /tmp/d1d5fefd7b1d471f93ea913124df9390-pulp.mps max timeMode elapsed branch printingOptions all solution /tmp/d1d5fefd7b1d471f93ea913124df9390-pulp.sol \n",
      "Welcome to the CBC MILP Solver \n",
      "Version: 2.10.3 \n",
      "Build Date: Dec 15 2019 \n",
      "\n",
      "command line - /venv/lib/python3.8/site-packages/pulp/solverdir/cbc/linux/64/cbc /tmp/d1d5fefd7b1d471f93ea913124df9390-pulp.mps max timeMode elapsed branch printingOptions all solution /tmp/d1d5fefd7b1d471f93ea913124df9390-pulp.sol (default strategy 1)\n",
      "At line 2 NAME          MODEL\n",
      "At line 3 ROWS\n",
      "At line 23 COLUMNS\n",
      "At line 80 RHS\n",
      "At line 99 BOUNDS\n",
      "At line 100 ENDATA\n",
      "Problem MODEL has 18 rows, 16 columns and 40 elements\n",
      "Coin0008I MODEL read with 0 errors\n",
      "Option for timeMode changed from cpu to elapsed\n",
      "Presolve 2 (-16) rows, 8 (-8) columns and 16 (-24) elements\n",
      "0  Obj -0 Dual inf 26.999992 (8)\n",
      "2  Obj 25.75\n",
      "Optimal - objective value 25.75\n",
      "After Postsolve, objective 25.75, infeasibilities - dual 0 (0), primal 0 (0)\n",
      "Optimal objective 25.75 - 2 iterations time 0.002, Presolve 0.00\n",
      "Option for printingOptions changed from normal to all\n",
      "Total time (CPU seconds):       0.00   (Wallclock seconds):       0.00\n",
      "\n"
     ]
    },
    {
     "data": {
      "text/html": [
       "<div>\n",
       "<style scoped>\n",
       "    .dataframe tbody tr th:only-of-type {\n",
       "        vertical-align: middle;\n",
       "    }\n",
       "\n",
       "    .dataframe tbody tr th {\n",
       "        vertical-align: top;\n",
       "    }\n",
       "\n",
       "    .dataframe thead th {\n",
       "        text-align: right;\n",
       "    }\n",
       "</style>\n",
       "<table border=\"1\" class=\"dataframe\">\n",
       "  <thead>\n",
       "    <tr style=\"text-align: right;\">\n",
       "      <th></th>\n",
       "      <th>timestamp</th>\n",
       "      <th>action</th>\n",
       "      <th>quantity</th>\n",
       "      <th>base_token</th>\n",
       "      <th>limit_price</th>\n",
       "      <th>quote_token</th>\n",
       "      <th>deposit_address</th>\n",
       "      <th>q_pi_star</th>\n",
       "      <th>q_tau_star</th>\n",
       "      <th>effective_price</th>\n",
       "    </tr>\n",
       "  </thead>\n",
       "  <tbody>\n",
       "    <tr>\n",
       "      <th>0</th>\n",
       "      <td>2023-05-31 20:20:39.095666+00:00</td>\n",
       "      <td>sell</td>\n",
       "      <td>1</td>\n",
       "      <td>BTC</td>\n",
       "      <td>1.5</td>\n",
       "      <td>ETH</td>\n",
       "      <td>2</td>\n",
       "      <td>1.00</td>\n",
       "      <td>1.500</td>\n",
       "      <td>1.5</td>\n",
       "    </tr>\n",
       "    <tr>\n",
       "      <th>1</th>\n",
       "      <td>2023-05-31 20:20:39.095761+00:00</td>\n",
       "      <td>sell</td>\n",
       "      <td>1</td>\n",
       "      <td>BTC</td>\n",
       "      <td>2.0</td>\n",
       "      <td>ETH</td>\n",
       "      <td>1</td>\n",
       "      <td>1.00</td>\n",
       "      <td>2.000</td>\n",
       "      <td>2.0</td>\n",
       "    </tr>\n",
       "    <tr>\n",
       "      <th>2</th>\n",
       "      <td>2023-05-31 20:20:39.095774+00:00</td>\n",
       "      <td>sell</td>\n",
       "      <td>1</td>\n",
       "      <td>BTC</td>\n",
       "      <td>3.0</td>\n",
       "      <td>ETH</td>\n",
       "      <td>5</td>\n",
       "      <td>1.00</td>\n",
       "      <td>3.000</td>\n",
       "      <td>3.0</td>\n",
       "    </tr>\n",
       "    <tr>\n",
       "      <th>3</th>\n",
       "      <td>2023-05-31 20:20:39.095783+00:00</td>\n",
       "      <td>sell</td>\n",
       "      <td>1</td>\n",
       "      <td>BTC</td>\n",
       "      <td>3.5</td>\n",
       "      <td>ETH</td>\n",
       "      <td>4</td>\n",
       "      <td>0.75</td>\n",
       "      <td>2.625</td>\n",
       "      <td>3.5</td>\n",
       "    </tr>\n",
       "    <tr>\n",
       "      <th>4</th>\n",
       "      <td>2023-05-31 20:20:44.898754+00:00</td>\n",
       "      <td>buy</td>\n",
       "      <td>1</td>\n",
       "      <td>BTC</td>\n",
       "      <td>3.5</td>\n",
       "      <td>ETH</td>\n",
       "      <td>2</td>\n",
       "      <td>1.00</td>\n",
       "      <td>3.500</td>\n",
       "      <td>3.5</td>\n",
       "    </tr>\n",
       "    <tr>\n",
       "      <th>5</th>\n",
       "      <td>2023-05-31 20:20:44.898797+00:00</td>\n",
       "      <td>buy</td>\n",
       "      <td>1</td>\n",
       "      <td>BTC</td>\n",
       "      <td>2.5</td>\n",
       "      <td>ETH</td>\n",
       "      <td>1</td>\n",
       "      <td>1.00</td>\n",
       "      <td>2.500</td>\n",
       "      <td>2.5</td>\n",
       "    </tr>\n",
       "    <tr>\n",
       "      <th>6</th>\n",
       "      <td>2023-05-31 20:20:44.898808+00:00</td>\n",
       "      <td>buy</td>\n",
       "      <td>1</td>\n",
       "      <td>BTC</td>\n",
       "      <td>2.0</td>\n",
       "      <td>ETH</td>\n",
       "      <td>5</td>\n",
       "      <td>1.00</td>\n",
       "      <td>2.000</td>\n",
       "      <td>2.0</td>\n",
       "    </tr>\n",
       "    <tr>\n",
       "      <th>7</th>\n",
       "      <td>2023-05-31 20:20:44.898817+00:00</td>\n",
       "      <td>buy</td>\n",
       "      <td>1</td>\n",
       "      <td>BTC</td>\n",
       "      <td>1.5</td>\n",
       "      <td>ETH</td>\n",
       "      <td>4</td>\n",
       "      <td>0.75</td>\n",
       "      <td>1.125</td>\n",
       "      <td>1.5</td>\n",
       "    </tr>\n",
       "  </tbody>\n",
       "</table>\n",
       "</div>"
      ],
      "text/plain": [
       "                         timestamp action  quantity base_token  limit_price quote_token  deposit_address  q_pi_star  q_tau_star  effective_price\n",
       "0 2023-05-31 20:20:39.095666+00:00   sell         1        BTC          1.5         ETH                2       1.00       1.500              1.5\n",
       "1 2023-05-31 20:20:39.095761+00:00   sell         1        BTC          2.0         ETH                1       1.00       2.000              2.0\n",
       "2 2023-05-31 20:20:39.095774+00:00   sell         1        BTC          3.0         ETH                5       1.00       3.000              3.0\n",
       "3 2023-05-31 20:20:39.095783+00:00   sell         1        BTC          3.5         ETH                4       0.75       2.625              3.5\n",
       "4 2023-05-31 20:20:44.898754+00:00    buy         1        BTC          3.5         ETH                2       1.00       3.500              3.5\n",
       "5 2023-05-31 20:20:44.898797+00:00    buy         1        BTC          2.5         ETH                1       1.00       2.500              2.5\n",
       "6 2023-05-31 20:20:44.898808+00:00    buy         1        BTC          2.0         ETH                5       1.00       2.000              2.0\n",
       "7 2023-05-31 20:20:44.898817+00:00    buy         1        BTC          1.5         ETH                4       0.75       1.125              1.5"
      ]
     },
     "metadata": {},
     "output_type": "display_data"
    }
   ],
   "source": [
    "daoswap_results1 = dtuimopt.run_daoswap_solver(all_orders1)\n",
    "display(daoswap_results1)"
   ]
  },
  {
   "cell_type": "markdown",
   "id": "00204897",
   "metadata": {},
   "source": [
    "## Multiple intersection points at price P'"
   ]
  },
  {
   "cell_type": "code",
   "execution_count": 19,
   "id": "f2450de6",
   "metadata": {
    "ExecuteTime": {
     "end_time": "2023-05-31T20:22:09.920182Z",
     "start_time": "2023-05-31T20:22:09.871749Z"
    }
   },
   "outputs": [
    {
     "data": {
      "text/html": [
       "<div>\n",
       "<style scoped>\n",
       "    .dataframe tbody tr th:only-of-type {\n",
       "        vertical-align: middle;\n",
       "    }\n",
       "\n",
       "    .dataframe tbody tr th {\n",
       "        vertical-align: top;\n",
       "    }\n",
       "\n",
       "    .dataframe thead th {\n",
       "        text-align: right;\n",
       "    }\n",
       "</style>\n",
       "<table border=\"1\" class=\"dataframe\">\n",
       "  <thead>\n",
       "    <tr style=\"text-align: right;\">\n",
       "      <th></th>\n",
       "      <th>timestamp</th>\n",
       "      <th>action</th>\n",
       "      <th>quantity</th>\n",
       "      <th>base_token</th>\n",
       "      <th>limit_price</th>\n",
       "      <th>quote_token</th>\n",
       "      <th>deposit_address</th>\n",
       "    </tr>\n",
       "  </thead>\n",
       "  <tbody>\n",
       "    <tr>\n",
       "      <th>0</th>\n",
       "      <td>2023-05-31 20:22:09.902073+00:00</td>\n",
       "      <td>sell</td>\n",
       "      <td>2</td>\n",
       "      <td>BTC</td>\n",
       "      <td>1.5</td>\n",
       "      <td>ETH</td>\n",
       "      <td>2</td>\n",
       "    </tr>\n",
       "    <tr>\n",
       "      <th>1</th>\n",
       "      <td>2023-05-31 20:22:09.902128+00:00</td>\n",
       "      <td>sell</td>\n",
       "      <td>2</td>\n",
       "      <td>BTC</td>\n",
       "      <td>2.0</td>\n",
       "      <td>ETH</td>\n",
       "      <td>1</td>\n",
       "    </tr>\n",
       "    <tr>\n",
       "      <th>2</th>\n",
       "      <td>2023-05-31 20:22:09.902139+00:00</td>\n",
       "      <td>sell</td>\n",
       "      <td>2</td>\n",
       "      <td>BTC</td>\n",
       "      <td>3.0</td>\n",
       "      <td>ETH</td>\n",
       "      <td>5</td>\n",
       "    </tr>\n",
       "    <tr>\n",
       "      <th>3</th>\n",
       "      <td>2023-05-31 20:22:09.902148+00:00</td>\n",
       "      <td>sell</td>\n",
       "      <td>2</td>\n",
       "      <td>BTC</td>\n",
       "      <td>3.5</td>\n",
       "      <td>ETH</td>\n",
       "      <td>4</td>\n",
       "    </tr>\n",
       "  </tbody>\n",
       "</table>\n",
       "</div>"
      ],
      "text/plain": [
       "                         timestamp action  quantity base_token  limit_price quote_token  deposit_address\n",
       "0 2023-05-31 20:22:09.902073+00:00   sell         2        BTC          1.5         ETH                2\n",
       "1 2023-05-31 20:22:09.902128+00:00   sell         2        BTC          2.0         ETH                1\n",
       "2 2023-05-31 20:22:09.902139+00:00   sell         2        BTC          3.0         ETH                5\n",
       "3 2023-05-31 20:22:09.902148+00:00   sell         2        BTC          3.5         ETH                4"
      ]
     },
     "execution_count": 19,
     "metadata": {},
     "output_type": "execute_result"
    }
   ],
   "source": [
    "quantity_const = 1.0\n",
    "supply_orders2 = dtimsude.convert_discrete_curve_to_limit_orders(\n",
    "    discrete_supply_curve,\n",
    "    quantity_const=quantity_const,\n",
    ")\n",
    "supply_orders_df2 = dtuimord.convert_orders_to_dataframe(supply_orders2)\n",
    "supply_orders_df2"
   ]
  },
  {
   "cell_type": "code",
   "execution_count": 20,
   "id": "891a683e",
   "metadata": {
    "ExecuteTime": {
     "end_time": "2023-05-31T20:22:12.374182Z",
     "start_time": "2023-05-31T20:22:12.340623Z"
    }
   },
   "outputs": [
    {
     "data": {
      "text/plain": [
       "ETH\n",
       "2    1.5\n",
       "4    2.0\n",
       "6    3.0\n",
       "8    3.5\n",
       "Name: BTC.supply, dtype: Float64"
      ]
     },
     "execution_count": 20,
     "metadata": {},
     "output_type": "execute_result"
    }
   ],
   "source": [
    "type_ = \"supply\"\n",
    "supply_curve2 = dtimsude.get_supply_demand_discrete_curve(\n",
    "    type_, supply_orders_df2\n",
    ")\n",
    "supply_curve2"
   ]
  },
  {
   "cell_type": "code",
   "execution_count": 21,
   "id": "fb9c4bd6",
   "metadata": {
    "ExecuteTime": {
     "end_time": "2023-05-31T20:22:30.053111Z",
     "start_time": "2023-05-31T20:22:29.637417Z"
    }
   },
   "outputs": [
    {
     "data": {
      "image/png": "[encoded data removed]",
      "text/plain": [
       "<Figure size 2000x500 with 1 Axes>"
      ]
     },
     "metadata": {},
     "output_type": "display_data"
    }
   ],
   "source": [
    "dtimsude.plot_discrete_curve(demand_curve1)\n",
    "dtimsude.plot_discrete_curve(supply_curve2)\n",
    "plt.show()"
   ]
  },
  {
   "cell_type": "code",
   "execution_count": 22,
   "id": "58092056",
   "metadata": {
    "ExecuteTime": {
     "end_time": "2023-05-31T20:22:34.908969Z",
     "start_time": "2023-05-31T20:22:34.765617Z"
    }
   },
   "outputs": [
    {
     "name": "stdout",
     "output_type": "stream",
     "text": [
      "DEBUG orders=[timestamp=2023-05-31 20:22:09.902073+00:00 action=sell quantity=2.0 base_token=BTC limit_price=1.5 quote_token=ETH deposit_address=2 wallet_address=2, timestamp=2023-05-31 20:22:09.902128+00:00 action=sell quantity=2.0 base_token=BTC limit_price=2.0 quote_token=ETH deposit_address=1 wallet_address=1, timestamp=2023-05-31 20:22:09.902139+00:00 action=sell quantity=2.0 base_token=BTC limit_price=3.0 quote_token=ETH deposit_address=5 wallet_address=5, timestamp=2023-05-31 20:22:09.902148+00:00 action=sell quantity=2.0 base_token=BTC limit_price=3.5 quote_token=ETH deposit_address=4 wallet_address=4, timestamp=2023-05-31 20:20:44.898754+00:00 action=buy quantity=1.0 base_token=BTC limit_price=3.5 quote_token=ETH deposit_address=2 wallet_address=2, timestamp=2023-05-31 20:20:44.898797+00:00 action=buy quantity=1.0 base_token=BTC limit_price=2.5 quote_token=ETH deposit_address=1 wallet_address=1, timestamp=2023-05-31 20:20:44.898808+00:00 action=buy quantity=1.0 base_token=BTC limit_price=2.0 quote_token=ETH deposit_address=5 wallet_address=5, timestamp=2023-05-31 20:20:44.898817+00:00 action=buy quantity=1.0 base_token=BTC limit_price=1.5 quote_token=ETH deposit_address=4 wallet_address=4]\n",
      "DEBUG prices={'BTC': 1, 'ETH': 2}\n",
      "DEBUG /venv/lib/python3.8/site-packages/pulp/solverdir/cbc/linux/64/cbc /tmp/18a80116e11b4c239513315e03ceaa05-pulp.mps max timeMode elapsed branch printingOptions all solution /tmp/18a80116e11b4c239513315e03ceaa05-pulp.sol \n"
     ]
    },
    {
     "data": {
      "text/html": [
       "<div>\n",
       "<style scoped>\n",
       "    .dataframe tbody tr th:only-of-type {\n",
       "        vertical-align: middle;\n",
       "    }\n",
       "\n",
       "    .dataframe tbody tr th {\n",
       "        vertical-align: top;\n",
       "    }\n",
       "\n",
       "    .dataframe thead th {\n",
       "        text-align: right;\n",
       "    }\n",
       "</style>\n",
       "<table border=\"1\" class=\"dataframe\">\n",
       "  <thead>\n",
       "    <tr style=\"text-align: right;\">\n",
       "      <th></th>\n",
       "      <th>timestamp</th>\n",
       "      <th>action</th>\n",
       "      <th>quantity</th>\n",
       "      <th>base_token</th>\n",
       "      <th>limit_price</th>\n",
       "      <th>quote_token</th>\n",
       "      <th>deposit_address</th>\n",
       "      <th>q_pi_star</th>\n",
       "      <th>q_tau_star</th>\n",
       "      <th>effective_price</th>\n",
       "    </tr>\n",
       "  </thead>\n",
       "  <tbody>\n",
       "    <tr>\n",
       "      <th>0</th>\n",
       "      <td>2023-05-31 20:22:09.902073+00:00</td>\n",
       "      <td>sell</td>\n",
       "      <td>2</td>\n",
       "      <td>BTC</td>\n",
       "      <td>1.5</td>\n",
       "      <td>ETH</td>\n",
       "      <td>2</td>\n",
       "      <td>1.0</td>\n",
       "      <td>2.0</td>\n",
       "      <td>2.0</td>\n",
       "    </tr>\n",
       "    <tr>\n",
       "      <th>1</th>\n",
       "      <td>2023-05-31 20:22:09.902128+00:00</td>\n",
       "      <td>sell</td>\n",
       "      <td>2</td>\n",
       "      <td>BTC</td>\n",
       "      <td>2.0</td>\n",
       "      <td>ETH</td>\n",
       "      <td>1</td>\n",
       "      <td>2.0</td>\n",
       "      <td>4.0</td>\n",
       "      <td>2.0</td>\n",
       "    </tr>\n",
       "    <tr>\n",
       "      <th>2</th>\n",
       "      <td>2023-05-31 20:22:09.902139+00:00</td>\n",
       "      <td>sell</td>\n",
       "      <td>2</td>\n",
       "      <td>BTC</td>\n",
       "      <td>3.0</td>\n",
       "      <td>ETH</td>\n",
       "      <td>5</td>\n",
       "      <td>0.0</td>\n",
       "      <td>0.0</td>\n",
       "      <td>NaN</td>\n",
       "    </tr>\n",
       "    <tr>\n",
       "      <th>3</th>\n",
       "      <td>2023-05-31 20:22:09.902148+00:00</td>\n",
       "      <td>sell</td>\n",
       "      <td>2</td>\n",
       "      <td>BTC</td>\n",
       "      <td>3.5</td>\n",
       "      <td>ETH</td>\n",
       "      <td>4</td>\n",
       "      <td>0.0</td>\n",
       "      <td>0.0</td>\n",
       "      <td>NaN</td>\n",
       "    </tr>\n",
       "    <tr>\n",
       "      <th>4</th>\n",
       "      <td>2023-05-31 20:20:44.898754+00:00</td>\n",
       "      <td>buy</td>\n",
       "      <td>1</td>\n",
       "      <td>BTC</td>\n",
       "      <td>3.5</td>\n",
       "      <td>ETH</td>\n",
       "      <td>2</td>\n",
       "      <td>1.0</td>\n",
       "      <td>2.0</td>\n",
       "      <td>2.0</td>\n",
       "    </tr>\n",
       "    <tr>\n",
       "      <th>5</th>\n",
       "      <td>2023-05-31 20:20:44.898797+00:00</td>\n",
       "      <td>buy</td>\n",
       "      <td>1</td>\n",
       "      <td>BTC</td>\n",
       "      <td>2.5</td>\n",
       "      <td>ETH</td>\n",
       "      <td>1</td>\n",
       "      <td>1.0</td>\n",
       "      <td>2.0</td>\n",
       "      <td>2.0</td>\n",
       "    </tr>\n",
       "    <tr>\n",
       "      <th>6</th>\n",
       "      <td>2023-05-31 20:20:44.898808+00:00</td>\n",
       "      <td>buy</td>\n",
       "      <td>1</td>\n",
       "      <td>BTC</td>\n",
       "      <td>2.0</td>\n",
       "      <td>ETH</td>\n",
       "      <td>5</td>\n",
       "      <td>1.0</td>\n",
       "      <td>2.0</td>\n",
       "      <td>2.0</td>\n",
       "    </tr>\n",
       "    <tr>\n",
       "      <th>7</th>\n",
       "      <td>2023-05-31 20:20:44.898817+00:00</td>\n",
       "      <td>buy</td>\n",
       "      <td>1</td>\n",
       "      <td>BTC</td>\n",
       "      <td>1.5</td>\n",
       "      <td>ETH</td>\n",
       "      <td>4</td>\n",
       "      <td>0.0</td>\n",
       "      <td>0.0</td>\n",
       "      <td>NaN</td>\n",
       "    </tr>\n",
       "  </tbody>\n",
       "</table>\n",
       "</div>"
      ],
      "text/plain": [
       "                         timestamp action  quantity base_token  limit_price quote_token  deposit_address  q_pi_star  q_tau_star  effective_price\n",
       "0 2023-05-31 20:22:09.902073+00:00   sell         2        BTC          1.5         ETH                2        1.0         2.0              2.0\n",
       "1 2023-05-31 20:22:09.902128+00:00   sell         2        BTC          2.0         ETH                1        2.0         4.0              2.0\n",
       "2 2023-05-31 20:22:09.902139+00:00   sell         2        BTC          3.0         ETH                5        0.0         0.0              NaN\n",
       "3 2023-05-31 20:22:09.902148+00:00   sell         2        BTC          3.5         ETH                4        0.0         0.0              NaN\n",
       "4 2023-05-31 20:20:44.898754+00:00    buy         1        BTC          3.5         ETH                2        1.0         2.0              2.0\n",
       "5 2023-05-31 20:20:44.898797+00:00    buy         1        BTC          2.5         ETH                1        1.0         2.0              2.0\n",
       "6 2023-05-31 20:20:44.898808+00:00    buy         1        BTC          2.0         ETH                5        1.0         2.0              2.0\n",
       "7 2023-05-31 20:20:44.898817+00:00    buy         1        BTC          1.5         ETH                4        0.0         0.0              NaN"
      ]
     },
     "metadata": {},
     "output_type": "display_data"
    }
   ],
   "source": [
    "all_orders2 = supply_orders2 + demand_orders1\n",
    "daocross_results2 = dtuimopt.run_daocross_solver(all_orders2, prices)\n",
    "display(daocross_results2)"
   ]
  },
  {
   "cell_type": "code",
   "execution_count": 23,
   "id": "1cd314ab",
   "metadata": {
    "ExecuteTime": {
     "end_time": "2023-05-31T20:22:35.110856Z",
     "start_time": "2023-05-31T20:22:35.013358Z"
    }
   },
   "outputs": [
    {
     "name": "stdout",
     "output_type": "stream",
     "text": [
      "DEBUG orders=[timestamp=2023-05-31 20:22:09.902073+00:00 action=sell quantity=2.0 base_token=BTC limit_price=1.5 quote_token=ETH deposit_address=2 wallet_address=2, timestamp=2023-05-31 20:22:09.902128+00:00 action=sell quantity=2.0 base_token=BTC limit_price=2.0 quote_token=ETH deposit_address=1 wallet_address=1, timestamp=2023-05-31 20:22:09.902139+00:00 action=sell quantity=2.0 base_token=BTC limit_price=3.0 quote_token=ETH deposit_address=5 wallet_address=5, timestamp=2023-05-31 20:22:09.902148+00:00 action=sell quantity=2.0 base_token=BTC limit_price=3.5 quote_token=ETH deposit_address=4 wallet_address=4, timestamp=2023-05-31 20:20:44.898754+00:00 action=buy quantity=1.0 base_token=BTC limit_price=3.5 quote_token=ETH deposit_address=2 wallet_address=2, timestamp=2023-05-31 20:20:44.898797+00:00 action=buy quantity=1.0 base_token=BTC limit_price=2.5 quote_token=ETH deposit_address=1 wallet_address=1, timestamp=2023-05-31 20:20:44.898808+00:00 action=buy quantity=1.0 base_token=BTC limit_price=2.0 quote_token=ETH deposit_address=5 wallet_address=5, timestamp=2023-05-31 20:20:44.898817+00:00 action=buy quantity=1.0 base_token=BTC limit_price=1.5 quote_token=ETH deposit_address=4 wallet_address=4]\n",
      "DEBUG /venv/lib/python3.8/site-packages/pulp/solverdir/cbc/linux/64/cbc /tmp/3793777181c54b5894f104b7e6cc836d-pulp.mps max timeMode elapsed branch printingOptions all solution /tmp/3793777181c54b5894f104b7e6cc836d-pulp.sol \n",
      "Welcome to the CBC MILP Solver \n",
      "Version: 2.10.3 \n",
      "Build Date: Dec 15 2019 \n",
      "\n",
      "command line - /venv/lib/python3.8/site-packages/pulp/solverdir/cbc/linux/64/cbc /tmp/3793777181c54b5894f104b7e6cc836d-pulp.mps max timeMode elapsed branch printingOptions all solution /tmp/3793777181c54b5894f104b7e6cc836d-pulp.sol (default strategy 1)\n",
      "At line 2 NAME          MODEL\n",
      "At line 3 ROWS\n",
      "At line 23 COLUMNS\n",
      "At line 80 RHS\n",
      "At line 99 BOUNDS\n",
      "At line 100 ENDATA\n",
      "Problem MODEL has 18 rows, 16 columns and 40 elements\n",
      "Coin0008I MODEL read with 0 errors\n",
      "Option for timeMode changed from cpu to elapsed\n",
      "Presolve 2 (-16) rows, 8 (-8) columns and 16 (-24) elements\n",
      "0  Obj -0 Dual inf 26.999992 (8)\n",
      "3  Obj 27\n",
      "Optimal - objective value 27\n",
      "After Postsolve, objective 27, infeasibilities - dual 0 (0), primal 0 (0)\n",
      "Optimal objective 27 - 3 iterations time 0.002, Presolve 0.00\n",
      "Option for printingOptions changed from normal to all\n",
      "Total time (CPU seconds):       0.00   (Wallclock seconds):       0.00\n",
      "\n"
     ]
    },
    {
     "data": {
      "text/html": [
       "<div>\n",
       "<style scoped>\n",
       "    .dataframe tbody tr th:only-of-type {\n",
       "        vertical-align: middle;\n",
       "    }\n",
       "\n",
       "    .dataframe tbody tr th {\n",
       "        vertical-align: top;\n",
       "    }\n",
       "\n",
       "    .dataframe thead th {\n",
       "        text-align: right;\n",
       "    }\n",
       "</style>\n",
       "<table border=\"1\" class=\"dataframe\">\n",
       "  <thead>\n",
       "    <tr style=\"text-align: right;\">\n",
       "      <th></th>\n",
       "      <th>timestamp</th>\n",
       "      <th>action</th>\n",
       "      <th>quantity</th>\n",
       "      <th>base_token</th>\n",
       "      <th>limit_price</th>\n",
       "      <th>quote_token</th>\n",
       "      <th>deposit_address</th>\n",
       "      <th>q_pi_star</th>\n",
       "      <th>q_tau_star</th>\n",
       "      <th>effective_price</th>\n",
       "    </tr>\n",
       "  </thead>\n",
       "  <tbody>\n",
       "    <tr>\n",
       "      <th>0</th>\n",
       "      <td>2023-05-31 20:22:09.902073+00:00</td>\n",
       "      <td>sell</td>\n",
       "      <td>2</td>\n",
       "      <td>BTC</td>\n",
       "      <td>1.5</td>\n",
       "      <td>ETH</td>\n",
       "      <td>2</td>\n",
       "      <td>0.333333</td>\n",
       "      <td>0.5</td>\n",
       "      <td>1.5</td>\n",
       "    </tr>\n",
       "    <tr>\n",
       "      <th>1</th>\n",
       "      <td>2023-05-31 20:22:09.902128+00:00</td>\n",
       "      <td>sell</td>\n",
       "      <td>2</td>\n",
       "      <td>BTC</td>\n",
       "      <td>2.0</td>\n",
       "      <td>ETH</td>\n",
       "      <td>1</td>\n",
       "      <td>2.000000</td>\n",
       "      <td>4.0</td>\n",
       "      <td>2.0</td>\n",
       "    </tr>\n",
       "    <tr>\n",
       "      <th>2</th>\n",
       "      <td>2023-05-31 20:22:09.902139+00:00</td>\n",
       "      <td>sell</td>\n",
       "      <td>2</td>\n",
       "      <td>BTC</td>\n",
       "      <td>3.0</td>\n",
       "      <td>ETH</td>\n",
       "      <td>5</td>\n",
       "      <td>1.666667</td>\n",
       "      <td>5.0</td>\n",
       "      <td>3.0</td>\n",
       "    </tr>\n",
       "    <tr>\n",
       "      <th>3</th>\n",
       "      <td>2023-05-31 20:22:09.902148+00:00</td>\n",
       "      <td>sell</td>\n",
       "      <td>2</td>\n",
       "      <td>BTC</td>\n",
       "      <td>3.5</td>\n",
       "      <td>ETH</td>\n",
       "      <td>4</td>\n",
       "      <td>0.000000</td>\n",
       "      <td>-0.0</td>\n",
       "      <td>NaN</td>\n",
       "    </tr>\n",
       "    <tr>\n",
       "      <th>4</th>\n",
       "      <td>2023-05-31 20:20:44.898754+00:00</td>\n",
       "      <td>buy</td>\n",
       "      <td>1</td>\n",
       "      <td>BTC</td>\n",
       "      <td>3.5</td>\n",
       "      <td>ETH</td>\n",
       "      <td>2</td>\n",
       "      <td>1.000000</td>\n",
       "      <td>3.5</td>\n",
       "      <td>3.5</td>\n",
       "    </tr>\n",
       "    <tr>\n",
       "      <th>5</th>\n",
       "      <td>2023-05-31 20:20:44.898797+00:00</td>\n",
       "      <td>buy</td>\n",
       "      <td>1</td>\n",
       "      <td>BTC</td>\n",
       "      <td>2.5</td>\n",
       "      <td>ETH</td>\n",
       "      <td>1</td>\n",
       "      <td>1.000000</td>\n",
       "      <td>2.5</td>\n",
       "      <td>2.5</td>\n",
       "    </tr>\n",
       "    <tr>\n",
       "      <th>6</th>\n",
       "      <td>2023-05-31 20:20:44.898808+00:00</td>\n",
       "      <td>buy</td>\n",
       "      <td>1</td>\n",
       "      <td>BTC</td>\n",
       "      <td>2.0</td>\n",
       "      <td>ETH</td>\n",
       "      <td>5</td>\n",
       "      <td>1.000000</td>\n",
       "      <td>2.0</td>\n",
       "      <td>2.0</td>\n",
       "    </tr>\n",
       "    <tr>\n",
       "      <th>7</th>\n",
       "      <td>2023-05-31 20:20:44.898817+00:00</td>\n",
       "      <td>buy</td>\n",
       "      <td>1</td>\n",
       "      <td>BTC</td>\n",
       "      <td>1.5</td>\n",
       "      <td>ETH</td>\n",
       "      <td>4</td>\n",
       "      <td>1.000000</td>\n",
       "      <td>1.5</td>\n",
       "      <td>1.5</td>\n",
       "    </tr>\n",
       "  </tbody>\n",
       "</table>\n",
       "</div>"
      ],
      "text/plain": [
       "                         timestamp action  quantity base_token  limit_price quote_token  deposit_address  q_pi_star  q_tau_star  effective_price\n",
       "0 2023-05-31 20:22:09.902073+00:00   sell         2        BTC          1.5         ETH                2   0.333333         0.5              1.5\n",
       "1 2023-05-31 20:22:09.902128+00:00   sell         2        BTC          2.0         ETH                1   2.000000         4.0              2.0\n",
       "2 2023-05-31 20:22:09.902139+00:00   sell         2        BTC          3.0         ETH                5   1.666667         5.0              3.0\n",
       "3 2023-05-31 20:22:09.902148+00:00   sell         2        BTC          3.5         ETH                4   0.000000        -0.0              NaN\n",
       "4 2023-05-31 20:20:44.898754+00:00    buy         1        BTC          3.5         ETH                2   1.000000         3.5              3.5\n",
       "5 2023-05-31 20:20:44.898797+00:00    buy         1        BTC          2.5         ETH                1   1.000000         2.5              2.5\n",
       "6 2023-05-31 20:20:44.898808+00:00    buy         1        BTC          2.0         ETH                5   1.000000         2.0              2.0\n",
       "7 2023-05-31 20:20:44.898817+00:00    buy         1        BTC          1.5         ETH                4   1.000000         1.5              1.5"
      ]
     },
     "metadata": {},
     "output_type": "display_data"
    }
   ],
   "source": [
    "daoswap_results2 = dtuimopt.run_daoswap_solver(all_orders2)\n",
    "display(daoswap_results2)"
   ]
  },
  {
   "cell_type": "markdown",
   "id": "fbd590d1",
   "metadata": {},
   "source": [
    "## No intersection"
   ]
  },
  {
   "cell_type": "code",
   "execution_count": 24,
   "id": "287b0106",
   "metadata": {
    "ExecuteTime": {
     "end_time": "2023-05-31T20:22:43.029204Z",
     "start_time": "2023-05-31T20:22:42.955889Z"
    }
   },
   "outputs": [
    {
     "data": {
      "text/html": [
       "<div>\n",
       "<style scoped>\n",
       "    .dataframe tbody tr th:only-of-type {\n",
       "        vertical-align: middle;\n",
       "    }\n",
       "\n",
       "    .dataframe tbody tr th {\n",
       "        vertical-align: top;\n",
       "    }\n",
       "\n",
       "    .dataframe thead th {\n",
       "        text-align: right;\n",
       "    }\n",
       "</style>\n",
       "<table border=\"1\" class=\"dataframe\">\n",
       "  <thead>\n",
       "    <tr style=\"text-align: right;\">\n",
       "      <th></th>\n",
       "      <th>timestamp</th>\n",
       "      <th>action</th>\n",
       "      <th>quantity</th>\n",
       "      <th>base_token</th>\n",
       "      <th>limit_price</th>\n",
       "      <th>quote_token</th>\n",
       "      <th>deposit_address</th>\n",
       "    </tr>\n",
       "  </thead>\n",
       "  <tbody>\n",
       "    <tr>\n",
       "      <th>0</th>\n",
       "      <td>2023-05-31 20:22:43.003934+00:00</td>\n",
       "      <td>sell</td>\n",
       "      <td>1</td>\n",
       "      <td>BTC</td>\n",
       "      <td>4.5</td>\n",
       "      <td>ETH</td>\n",
       "      <td>2</td>\n",
       "    </tr>\n",
       "    <tr>\n",
       "      <th>1</th>\n",
       "      <td>2023-05-31 20:22:43.004110+00:00</td>\n",
       "      <td>sell</td>\n",
       "      <td>1</td>\n",
       "      <td>BTC</td>\n",
       "      <td>5.0</td>\n",
       "      <td>ETH</td>\n",
       "      <td>1</td>\n",
       "    </tr>\n",
       "    <tr>\n",
       "      <th>2</th>\n",
       "      <td>2023-05-31 20:22:43.004134+00:00</td>\n",
       "      <td>sell</td>\n",
       "      <td>1</td>\n",
       "      <td>BTC</td>\n",
       "      <td>6.0</td>\n",
       "      <td>ETH</td>\n",
       "      <td>5</td>\n",
       "    </tr>\n",
       "    <tr>\n",
       "      <th>3</th>\n",
       "      <td>2023-05-31 20:22:43.004145+00:00</td>\n",
       "      <td>sell</td>\n",
       "      <td>1</td>\n",
       "      <td>BTC</td>\n",
       "      <td>6.5</td>\n",
       "      <td>ETH</td>\n",
       "      <td>4</td>\n",
       "    </tr>\n",
       "  </tbody>\n",
       "</table>\n",
       "</div>"
      ],
      "text/plain": [
       "                         timestamp action  quantity base_token  limit_price quote_token  deposit_address\n",
       "0 2023-05-31 20:22:43.003934+00:00   sell         1        BTC          4.5         ETH                2\n",
       "1 2023-05-31 20:22:43.004110+00:00   sell         1        BTC          5.0         ETH                1\n",
       "2 2023-05-31 20:22:43.004134+00:00   sell         1        BTC          6.0         ETH                5\n",
       "3 2023-05-31 20:22:43.004145+00:00   sell         1        BTC          6.5         ETH                4"
      ]
     },
     "execution_count": 24,
     "metadata": {},
     "output_type": "execute_result"
    }
   ],
   "source": [
    "limit_price_const = 3.0\n",
    "supply_orders3 = dtimsude.convert_discrete_curve_to_limit_orders(\n",
    "    discrete_supply_curve,\n",
    "    limit_price_const=limit_price_const,\n",
    ")\n",
    "supply_orders_df3 = dtuimord.convert_orders_to_dataframe(supply_orders3)\n",
    "supply_orders_df3"
   ]
  },
  {
   "cell_type": "code",
   "execution_count": 25,
   "id": "6e387ea2",
   "metadata": {
    "ExecuteTime": {
     "end_time": "2023-05-31T20:22:46.168745Z",
     "start_time": "2023-05-31T20:22:46.132036Z"
    }
   },
   "outputs": [
    {
     "data": {
      "text/plain": [
       "ETH\n",
       "1    4.5\n",
       "2    5.0\n",
       "3    6.0\n",
       "4    6.5\n",
       "Name: BTC.supply, dtype: Float64"
      ]
     },
     "execution_count": 25,
     "metadata": {},
     "output_type": "execute_result"
    }
   ],
   "source": [
    "type_ = \"supply\"\n",
    "supply_curve3 = dtimsude.get_supply_demand_discrete_curve(\n",
    "    type_, supply_orders_df3\n",
    ")\n",
    "supply_curve3"
   ]
  },
  {
   "cell_type": "code",
   "execution_count": 26,
   "id": "86157503",
   "metadata": {
    "ExecuteTime": {
     "end_time": "2023-05-31T20:23:06.299157Z",
     "start_time": "2023-05-31T20:23:05.884037Z"
    }
   },
   "outputs": [
    {
     "data": {
      "image/png": "[encoded data removed]",
      "text/plain": [
       "<Figure size 2000x500 with 1 Axes>"
      ]
     },
     "metadata": {},
     "output_type": "display_data"
    }
   ],
   "source": [
    "dtimsude.plot_discrete_curve(demand_curve1)\n",
    "dtimsude.plot_discrete_curve(supply_curve3)\n",
    "plt.show()"
   ]
  },
  {
   "cell_type": "code",
   "execution_count": 27,
   "id": "8707d5a6",
   "metadata": {
    "ExecuteTime": {
     "end_time": "2023-05-31T20:23:11.038572Z",
     "start_time": "2023-05-31T20:23:10.911347Z"
    }
   },
   "outputs": [
    {
     "name": "stdout",
     "output_type": "stream",
     "text": [
      "DEBUG orders=[timestamp=2023-05-31 20:22:43.003934+00:00 action=sell quantity=1.0 base_token=BTC limit_price=4.5 quote_token=ETH deposit_address=2 wallet_address=2, timestamp=2023-05-31 20:22:43.004110+00:00 action=sell quantity=1.0 base_token=BTC limit_price=5.0 quote_token=ETH deposit_address=1 wallet_address=1, timestamp=2023-05-31 20:22:43.004134+00:00 action=sell quantity=1.0 base_token=BTC limit_price=6.0 quote_token=ETH deposit_address=5 wallet_address=5, timestamp=2023-05-31 20:22:43.004145+00:00 action=sell quantity=1.0 base_token=BTC limit_price=6.5 quote_token=ETH deposit_address=4 wallet_address=4, timestamp=2023-05-31 20:20:44.898754+00:00 action=buy quantity=1.0 base_token=BTC limit_price=3.5 quote_token=ETH deposit_address=2 wallet_address=2, timestamp=2023-05-31 20:20:44.898797+00:00 action=buy quantity=1.0 base_token=BTC limit_price=2.5 quote_token=ETH deposit_address=1 wallet_address=1, timestamp=2023-05-31 20:20:44.898808+00:00 action=buy quantity=1.0 base_token=BTC limit_price=2.0 quote_token=ETH deposit_address=5 wallet_address=5, timestamp=2023-05-31 20:20:44.898817+00:00 action=buy quantity=1.0 base_token=BTC limit_price=1.5 quote_token=ETH deposit_address=4 wallet_address=4]\n",
      "DEBUG prices={'BTC': 1, 'ETH': 2}\n",
      "DEBUG /venv/lib/python3.8/site-packages/pulp/solverdir/cbc/linux/64/cbc /tmp/6b9e8a56c392499495b0c572492e560a-pulp.mps max timeMode elapsed branch printingOptions all solution /tmp/6b9e8a56c392499495b0c572492e560a-pulp.sol \n"
     ]
    },
    {
     "data": {
      "text/html": [
       "<div>\n",
       "<style scoped>\n",
       "    .dataframe tbody tr th:only-of-type {\n",
       "        vertical-align: middle;\n",
       "    }\n",
       "\n",
       "    .dataframe tbody tr th {\n",
       "        vertical-align: top;\n",
       "    }\n",
       "\n",
       "    .dataframe thead th {\n",
       "        text-align: right;\n",
       "    }\n",
       "</style>\n",
       "<table border=\"1\" class=\"dataframe\">\n",
       "  <thead>\n",
       "    <tr style=\"text-align: right;\">\n",
       "      <th></th>\n",
       "      <th>timestamp</th>\n",
       "      <th>action</th>\n",
       "      <th>quantity</th>\n",
       "      <th>base_token</th>\n",
       "      <th>limit_price</th>\n",
       "      <th>quote_token</th>\n",
       "      <th>deposit_address</th>\n",
       "      <th>q_pi_star</th>\n",
       "      <th>q_tau_star</th>\n",
       "      <th>effective_price</th>\n",
       "    </tr>\n",
       "  </thead>\n",
       "  <tbody>\n",
       "    <tr>\n",
       "      <th>0</th>\n",
       "      <td>2023-05-31 20:22:43.003934+00:00</td>\n",
       "      <td>sell</td>\n",
       "      <td>1</td>\n",
       "      <td>BTC</td>\n",
       "      <td>4.5</td>\n",
       "      <td>ETH</td>\n",
       "      <td>2</td>\n",
       "      <td>0.0</td>\n",
       "      <td>0.0</td>\n",
       "      <td>NaN</td>\n",
       "    </tr>\n",
       "    <tr>\n",
       "      <th>1</th>\n",
       "      <td>2023-05-31 20:22:43.004110+00:00</td>\n",
       "      <td>sell</td>\n",
       "      <td>1</td>\n",
       "      <td>BTC</td>\n",
       "      <td>5.0</td>\n",
       "      <td>ETH</td>\n",
       "      <td>1</td>\n",
       "      <td>0.0</td>\n",
       "      <td>0.0</td>\n",
       "      <td>NaN</td>\n",
       "    </tr>\n",
       "    <tr>\n",
       "      <th>2</th>\n",
       "      <td>2023-05-31 20:22:43.004134+00:00</td>\n",
       "      <td>sell</td>\n",
       "      <td>1</td>\n",
       "      <td>BTC</td>\n",
       "      <td>6.0</td>\n",
       "      <td>ETH</td>\n",
       "      <td>5</td>\n",
       "      <td>0.0</td>\n",
       "      <td>0.0</td>\n",
       "      <td>NaN</td>\n",
       "    </tr>\n",
       "    <tr>\n",
       "      <th>3</th>\n",
       "      <td>2023-05-31 20:22:43.004145+00:00</td>\n",
       "      <td>sell</td>\n",
       "      <td>1</td>\n",
       "      <td>BTC</td>\n",
       "      <td>6.5</td>\n",
       "      <td>ETH</td>\n",
       "      <td>4</td>\n",
       "      <td>0.0</td>\n",
       "      <td>0.0</td>\n",
       "      <td>NaN</td>\n",
       "    </tr>\n",
       "    <tr>\n",
       "      <th>4</th>\n",
       "      <td>2023-05-31 20:20:44.898754+00:00</td>\n",
       "      <td>buy</td>\n",
       "      <td>1</td>\n",
       "      <td>BTC</td>\n",
       "      <td>3.5</td>\n",
       "      <td>ETH</td>\n",
       "      <td>2</td>\n",
       "      <td>0.0</td>\n",
       "      <td>0.0</td>\n",
       "      <td>NaN</td>\n",
       "    </tr>\n",
       "    <tr>\n",
       "      <th>5</th>\n",
       "      <td>2023-05-31 20:20:44.898797+00:00</td>\n",
       "      <td>buy</td>\n",
       "      <td>1</td>\n",
       "      <td>BTC</td>\n",
       "      <td>2.5</td>\n",
       "      <td>ETH</td>\n",
       "      <td>1</td>\n",
       "      <td>0.0</td>\n",
       "      <td>0.0</td>\n",
       "      <td>NaN</td>\n",
       "    </tr>\n",
       "    <tr>\n",
       "      <th>6</th>\n",
       "      <td>2023-05-31 20:20:44.898808+00:00</td>\n",
       "      <td>buy</td>\n",
       "      <td>1</td>\n",
       "      <td>BTC</td>\n",
       "      <td>2.0</td>\n",
       "      <td>ETH</td>\n",
       "      <td>5</td>\n",
       "      <td>0.0</td>\n",
       "      <td>0.0</td>\n",
       "      <td>NaN</td>\n",
       "    </tr>\n",
       "    <tr>\n",
       "      <th>7</th>\n",
       "      <td>2023-05-31 20:20:44.898817+00:00</td>\n",
       "      <td>buy</td>\n",
       "      <td>1</td>\n",
       "      <td>BTC</td>\n",
       "      <td>1.5</td>\n",
       "      <td>ETH</td>\n",
       "      <td>4</td>\n",
       "      <td>0.0</td>\n",
       "      <td>0.0</td>\n",
       "      <td>NaN</td>\n",
       "    </tr>\n",
       "  </tbody>\n",
       "</table>\n",
       "</div>"
      ],
      "text/plain": [
       "                         timestamp action  quantity base_token  limit_price quote_token  deposit_address  q_pi_star  q_tau_star  effective_price\n",
       "0 2023-05-31 20:22:43.003934+00:00   sell         1        BTC          4.5         ETH                2        0.0         0.0              NaN\n",
       "1 2023-05-31 20:22:43.004110+00:00   sell         1        BTC          5.0         ETH                1        0.0         0.0              NaN\n",
       "2 2023-05-31 20:22:43.004134+00:00   sell         1        BTC          6.0         ETH                5        0.0         0.0              NaN\n",
       "3 2023-05-31 20:22:43.004145+00:00   sell         1        BTC          6.5         ETH                4        0.0         0.0              NaN\n",
       "4 2023-05-31 20:20:44.898754+00:00    buy         1        BTC          3.5         ETH                2        0.0         0.0              NaN\n",
       "5 2023-05-31 20:20:44.898797+00:00    buy         1        BTC          2.5         ETH                1        0.0         0.0              NaN\n",
       "6 2023-05-31 20:20:44.898808+00:00    buy         1        BTC          2.0         ETH                5        0.0         0.0              NaN\n",
       "7 2023-05-31 20:20:44.898817+00:00    buy         1        BTC          1.5         ETH                4        0.0         0.0              NaN"
      ]
     },
     "metadata": {},
     "output_type": "display_data"
    }
   ],
   "source": [
    "all_orders3 = supply_orders3 + demand_orders1\n",
    "daocross_results3 = dtuimopt.run_daocross_solver(all_orders3, prices)\n",
    "display(daocross_results3)"
   ]
  },
  {
   "cell_type": "code",
   "execution_count": 28,
   "id": "fb05331d",
   "metadata": {
    "ExecuteTime": {
     "end_time": "2023-05-31T20:23:11.325528Z",
     "start_time": "2023-05-31T20:23:11.205834Z"
    }
   },
   "outputs": [
    {
     "name": "stdout",
     "output_type": "stream",
     "text": [
      "DEBUG orders=[timestamp=2023-05-31 20:22:43.003934+00:00 action=sell quantity=1.0 base_token=BTC limit_price=4.5 quote_token=ETH deposit_address=2 wallet_address=2, timestamp=2023-05-31 20:22:43.004110+00:00 action=sell quantity=1.0 base_token=BTC limit_price=5.0 quote_token=ETH deposit_address=1 wallet_address=1, timestamp=2023-05-31 20:22:43.004134+00:00 action=sell quantity=1.0 base_token=BTC limit_price=6.0 quote_token=ETH deposit_address=5 wallet_address=5, timestamp=2023-05-31 20:22:43.004145+00:00 action=sell quantity=1.0 base_token=BTC limit_price=6.5 quote_token=ETH deposit_address=4 wallet_address=4, timestamp=2023-05-31 20:20:44.898754+00:00 action=buy quantity=1.0 base_token=BTC limit_price=3.5 quote_token=ETH deposit_address=2 wallet_address=2, timestamp=2023-05-31 20:20:44.898797+00:00 action=buy quantity=1.0 base_token=BTC limit_price=2.5 quote_token=ETH deposit_address=1 wallet_address=1, timestamp=2023-05-31 20:20:44.898808+00:00 action=buy quantity=1.0 base_token=BTC limit_price=2.0 quote_token=ETH deposit_address=5 wallet_address=5, timestamp=2023-05-31 20:20:44.898817+00:00 action=buy quantity=1.0 base_token=BTC limit_price=1.5 quote_token=ETH deposit_address=4 wallet_address=4]\n",
      "DEBUG /venv/lib/python3.8/site-packages/pulp/solverdir/cbc/linux/64/cbc /tmp/8d473678198e41a8ad07de7cd8b28e6a-pulp.mps max timeMode elapsed branch printingOptions all solution /tmp/8d473678198e41a8ad07de7cd8b28e6a-pulp.sol \n",
      "Welcome to the CBC MILP Solver \n",
      "Version: 2.10.3 \n",
      "Build Date: Dec 15 2019 \n",
      "\n",
      "command line - /venv/lib/python3.8/site-packages/pulp/solverdir/cbc/linux/64/cbc /tmp/8d473678198e41a8ad07de7cd8b28e6a-pulp.mps max timeMode elapsed branch printingOptions all solution /tmp/8d473678198e41a8ad07de7cd8b28e6a-pulp.sol (default strategy 1)\n",
      "At line 2 NAME          MODEL\n",
      "At line 3 ROWS\n",
      "At line 23 COLUMNS\n",
      "At line 80 RHS\n",
      "At line 99 BOUNDS\n",
      "At line 100 ENDATA\n",
      "Problem MODEL has 18 rows, 16 columns and 40 elements\n",
      "Coin0008I MODEL read with 0 errors\n",
      "Option for timeMode changed from cpu to elapsed\n",
      "Presolve 2 (-16) rows, 8 (-8) columns and 16 (-24) elements\n",
      "0  Obj -0 Dual inf 16.156647 (8)\n",
      "3  Obj -0\n",
      "Optimal - objective value 0\n",
      "After Postsolve, objective 0, infeasibilities - dual 0 (0), primal 0 (0)\n",
      "Optimal objective 0 - 3 iterations time 0.002, Presolve 0.00\n",
      "Option for printingOptions changed from normal to all\n",
      "Total time (CPU seconds):       0.00   (Wallclock seconds):       0.00\n",
      "\n"
     ]
    },
    {
     "data": {
      "text/html": [
       "<div>\n",
       "<style scoped>\n",
       "    .dataframe tbody tr th:only-of-type {\n",
       "        vertical-align: middle;\n",
       "    }\n",
       "\n",
       "    .dataframe tbody tr th {\n",
       "        vertical-align: top;\n",
       "    }\n",
       "\n",
       "    .dataframe thead th {\n",
       "        text-align: right;\n",
       "    }\n",
       "</style>\n",
       "<table border=\"1\" class=\"dataframe\">\n",
       "  <thead>\n",
       "    <tr style=\"text-align: right;\">\n",
       "      <th></th>\n",
       "      <th>timestamp</th>\n",
       "      <th>action</th>\n",
       "      <th>quantity</th>\n",
       "      <th>base_token</th>\n",
       "      <th>limit_price</th>\n",
       "      <th>quote_token</th>\n",
       "      <th>deposit_address</th>\n",
       "      <th>q_pi_star</th>\n",
       "      <th>q_tau_star</th>\n",
       "      <th>effective_price</th>\n",
       "    </tr>\n",
       "  </thead>\n",
       "  <tbody>\n",
       "    <tr>\n",
       "      <th>0</th>\n",
       "      <td>2023-05-31 20:22:43.003934+00:00</td>\n",
       "      <td>sell</td>\n",
       "      <td>1</td>\n",
       "      <td>BTC</td>\n",
       "      <td>4.5</td>\n",
       "      <td>ETH</td>\n",
       "      <td>2</td>\n",
       "      <td>0.0</td>\n",
       "      <td>-0.0</td>\n",
       "      <td>NaN</td>\n",
       "    </tr>\n",
       "    <tr>\n",
       "      <th>1</th>\n",
       "      <td>2023-05-31 20:22:43.004110+00:00</td>\n",
       "      <td>sell</td>\n",
       "      <td>1</td>\n",
       "      <td>BTC</td>\n",
       "      <td>5.0</td>\n",
       "      <td>ETH</td>\n",
       "      <td>1</td>\n",
       "      <td>0.0</td>\n",
       "      <td>-0.0</td>\n",
       "      <td>NaN</td>\n",
       "    </tr>\n",
       "    <tr>\n",
       "      <th>2</th>\n",
       "      <td>2023-05-31 20:22:43.004134+00:00</td>\n",
       "      <td>sell</td>\n",
       "      <td>1</td>\n",
       "      <td>BTC</td>\n",
       "      <td>6.0</td>\n",
       "      <td>ETH</td>\n",
       "      <td>5</td>\n",
       "      <td>0.0</td>\n",
       "      <td>-0.0</td>\n",
       "      <td>NaN</td>\n",
       "    </tr>\n",
       "    <tr>\n",
       "      <th>3</th>\n",
       "      <td>2023-05-31 20:22:43.004145+00:00</td>\n",
       "      <td>sell</td>\n",
       "      <td>1</td>\n",
       "      <td>BTC</td>\n",
       "      <td>6.5</td>\n",
       "      <td>ETH</td>\n",
       "      <td>4</td>\n",
       "      <td>0.0</td>\n",
       "      <td>-0.0</td>\n",
       "      <td>NaN</td>\n",
       "    </tr>\n",
       "    <tr>\n",
       "      <th>4</th>\n",
       "      <td>2023-05-31 20:20:44.898754+00:00</td>\n",
       "      <td>buy</td>\n",
       "      <td>1</td>\n",
       "      <td>BTC</td>\n",
       "      <td>3.5</td>\n",
       "      <td>ETH</td>\n",
       "      <td>2</td>\n",
       "      <td>0.0</td>\n",
       "      <td>0.0</td>\n",
       "      <td>NaN</td>\n",
       "    </tr>\n",
       "    <tr>\n",
       "      <th>5</th>\n",
       "      <td>2023-05-31 20:20:44.898797+00:00</td>\n",
       "      <td>buy</td>\n",
       "      <td>1</td>\n",
       "      <td>BTC</td>\n",
       "      <td>2.5</td>\n",
       "      <td>ETH</td>\n",
       "      <td>1</td>\n",
       "      <td>0.0</td>\n",
       "      <td>0.0</td>\n",
       "      <td>NaN</td>\n",
       "    </tr>\n",
       "    <tr>\n",
       "      <th>6</th>\n",
       "      <td>2023-05-31 20:20:44.898808+00:00</td>\n",
       "      <td>buy</td>\n",
       "      <td>1</td>\n",
       "      <td>BTC</td>\n",
       "      <td>2.0</td>\n",
       "      <td>ETH</td>\n",
       "      <td>5</td>\n",
       "      <td>0.0</td>\n",
       "      <td>0.0</td>\n",
       "      <td>NaN</td>\n",
       "    </tr>\n",
       "    <tr>\n",
       "      <th>7</th>\n",
       "      <td>2023-05-31 20:20:44.898817+00:00</td>\n",
       "      <td>buy</td>\n",
       "      <td>1</td>\n",
       "      <td>BTC</td>\n",
       "      <td>1.5</td>\n",
       "      <td>ETH</td>\n",
       "      <td>4</td>\n",
       "      <td>0.0</td>\n",
       "      <td>0.0</td>\n",
       "      <td>NaN</td>\n",
       "    </tr>\n",
       "  </tbody>\n",
       "</table>\n",
       "</div>"
      ],
      "text/plain": [
       "                         timestamp action  quantity base_token  limit_price quote_token  deposit_address  q_pi_star  q_tau_star  effective_price\n",
       "0 2023-05-31 20:22:43.003934+00:00   sell         1        BTC          4.5         ETH                2        0.0        -0.0              NaN\n",
       "1 2023-05-31 20:22:43.004110+00:00   sell         1        BTC          5.0         ETH                1        0.0        -0.0              NaN\n",
       "2 2023-05-31 20:22:43.004134+00:00   sell         1        BTC          6.0         ETH                5        0.0        -0.0              NaN\n",
       "3 2023-05-31 20:22:43.004145+00:00   sell         1        BTC          6.5         ETH                4        0.0        -0.0              NaN\n",
       "4 2023-05-31 20:20:44.898754+00:00    buy         1        BTC          3.5         ETH                2        0.0         0.0              NaN\n",
       "5 2023-05-31 20:20:44.898797+00:00    buy         1        BTC          2.5         ETH                1        0.0         0.0              NaN\n",
       "6 2023-05-31 20:20:44.898808+00:00    buy         1        BTC          2.0         ETH                5        0.0         0.0              NaN\n",
       "7 2023-05-31 20:20:44.898817+00:00    buy         1        BTC          1.5         ETH                4        0.0         0.0              NaN"
      ]
     },
     "metadata": {},
     "output_type": "display_data"
    }
   ],
   "source": [
    "daoswap_results3 = dtuimopt.run_daoswap_solver(all_orders3)\n",
    "display(daoswap_results3)"
   ]
  },
  {
   "cell_type": "code",
   "execution_count": null,
   "id": "d1ec62e0",
   "metadata": {},
   "outputs": [],
   "source": []
  }
 ],
 "metadata": {
  "kernelspec": {
   "display_name": "Python 3 (ipykernel)",
   "language": "python",
   "name": "python3"
  },
  "language_info": {
   "codemirror_mode": {
    "name": "ipython",
    "version": 3
   },
   "file_extension": ".py",
   "mimetype": "text/x-python",
   "name": "python",
   "nbconvert_exporter": "python",
   "pygments_lexer": "ipython3",
   "version": "3.8.10"
  },
  "toc": {
   "base_numbering": 1,
   "nav_menu": {},
   "number_sections": true,
   "sideBar": true,
   "skip_h1_title": false,
   "title_cell": "Table of Contents",
   "title_sidebar": "Contents",
   "toc_cell": false,
   "toc_position": {},
   "toc_section_display": true,
   "toc_window_display": false
  }
 },
 "nbformat": 4,
 "nbformat_minor": 5
}
