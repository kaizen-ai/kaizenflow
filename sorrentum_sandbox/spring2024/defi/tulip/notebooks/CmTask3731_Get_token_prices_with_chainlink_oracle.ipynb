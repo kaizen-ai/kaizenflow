{
 "cells": [
  {
   "cell_type": "markdown",
   "id": "a28927c9",
   "metadata": {},
   "source": [
    "# Imports"
   ]
  },
  {
   "cell_type": "code",
   "execution_count": 1,
   "id": "f26e49c0",
   "metadata": {},
   "outputs": [],
   "source": [
    "import os\n",
    "import sys\n",
    "import time\n",
    "import pprint\n",
    "\n",
    "from eth_account import Account\n",
    "from eth_account.signers.local import LocalAccount\n",
    "import web3\n",
    "from web3 import Web3, EthereumTesterProvider\n",
    "from web3.middleware import construct_sign_and_send_raw_middleware\n",
    "import solcx"
   ]
  },
  {
   "cell_type": "markdown",
   "id": "1bd45868",
   "metadata": {},
   "source": [
    "# Set-up Alchemy & Accounts"
   ]
  },
  {
   "cell_type": "code",
   "execution_count": 2,
   "id": "77d20feb",
   "metadata": {},
   "outputs": [
    {
     "name": "stdout",
     "output_type": "stream",
     "text": [
      "True\n"
     ]
    }
   ],
   "source": [
    "infura_key = os.environ[\"INFURA_KEY\"]\n",
    "infura_url = f\"https://goerli.infura.io/v3/{infura_key}\"\n",
    "w3 = Web3(Web3.HTTPProvider(infura_url))\n",
    "\n",
    "print(w3.isConnected())"
   ]
  },
  {
   "cell_type": "code",
   "execution_count": 3,
   "id": "a8ff1156",
   "metadata": {},
   "outputs": [
    {
     "name": "stdout",
     "output_type": "stream",
     "text": [
      "Your hot wallet address is 0x6531e2613bbbEEcd898356F7b9bEfBaEfd42804B\n"
     ]
    }
   ],
   "source": [
    "account_addr = \"0x6531e2613bbbEEcd898356F7b9bEfBaEfd42804B\"\n",
    "private_key = os.environ[\"PRIVATE_KEY\"]\n",
    "\n",
    "account: LocalAccount = Account.from_key(private_key)\n",
    "w3.middleware_onion.add(construct_sign_and_send_raw_middleware(account))\n",
    "\n",
    "print(f\"Your hot wallet address is {account.address}\")"
   ]
  },
  {
   "cell_type": "markdown",
   "id": "f903c372",
   "metadata": {},
   "source": [
    "# Functions"
   ]
  },
  {
   "cell_type": "code",
   "execution_count": 5,
   "id": "20419e74",
   "metadata": {},
   "outputs": [],
   "source": [
    "def compile_source_file(file_path):\n",
    "    with open(file_path, 'r') as f:\n",
    "        source = f.read()\n",
    "    return solcx.compile_source(source, output_values=[\"abi\", \"bin\", \"bin-runtime\"])"
   ]
  },
  {
   "cell_type": "markdown",
   "id": "318196c0",
   "metadata": {},
   "source": [
    "# Compile contract"
   ]
  },
  {
   "cell_type": "code",
   "execution_count": 6,
   "id": "d3bf9c3b",
   "metadata": {},
   "outputs": [],
   "source": [
    "compiled = compile_source_file(\"contracts/PriceOracle.sol\")\n",
    "contract_interface = compiled[\"<stdin>:PriceOracle\"]"
   ]
  },
  {
   "cell_type": "markdown",
   "id": "b977b87a",
   "metadata": {},
   "source": [
    "# LINK/ETH"
   ]
  },
  {
   "cell_type": "code",
   "execution_count": 7,
   "id": "77f6843d",
   "metadata": {},
   "outputs": [],
   "source": [
    "# Address to LINK/ETH oracle in Goerli network.\n",
    "priceFeedAddress = \"0xb4c4a493AB6356497713A78FFA6c60FB53517c63\"\n",
    "\n",
    "func=w3.eth.contract(\n",
    "    abi=contract_interface[\"abi\"],\n",
    "    bytecode=contract_interface[\"bin\"]).constructor(priceFeedAddress)\n",
    "\n",
    "tx_hash = func.transact({\"from\": account_addr})"
   ]
  },
  {
   "cell_type": "code",
   "execution_count": null,
   "id": "fcbac46f",
   "metadata": {},
   "outputs": [],
   "source": [
    "address = w3.eth.get_transaction_receipt(tx_hash)[\"contractAddress\"]\n",
    "contract = w3.eth.contract(address=address, abi=contract_interface[\"abi\"])\n",
    "\n",
    "# Get price of LINK token in wei.\n",
    "link_wei = contract.functions.getLatestPrice().call()"
   ]
  },
  {
   "cell_type": "code",
   "execution_count": 18,
   "id": "976c2e16",
   "metadata": {},
   "outputs": [
    {
     "data": {
      "text/plain": [
       "0.004056058300937638"
      ]
     },
     "execution_count": 18,
     "metadata": {},
     "output_type": "execute_result"
    }
   ],
   "source": [
    "# Get price in ETH\n",
    "link_wei/10**18"
   ]
  },
  {
   "cell_type": "markdown",
   "id": "4037a5b5",
   "metadata": {},
   "source": [
    "# BTC/ETH"
   ]
  },
  {
   "cell_type": "code",
   "execution_count": 24,
   "id": "5dfed85b",
   "metadata": {},
   "outputs": [],
   "source": [
    "# Address to BTC/ETH oracle in Goerli network.\n",
    "priceFeedAddress = \"0x779877A7B0D9E8603169DdbD7836e478b4624789\"\n",
    "\n",
    "func=w3.eth.contract(\n",
    "    abi=contract_interface[\"abi\"],\n",
    "    bytecode=contract_interface[\"bin\"]).constructor(priceFeedAddress)\n",
    "\n",
    "tx_hash = func.transact({\"from\": account_addr})"
   ]
  },
  {
   "cell_type": "code",
   "execution_count": 27,
   "id": "e800b2c3",
   "metadata": {},
   "outputs": [],
   "source": [
    "address = w3.eth.get_transaction_receipt(tx_hash)[\"contractAddress\"]\n",
    "contract = w3.eth.contract(address=address, abi=contract_interface[\"abi\"])\n",
    "\n",
    "# Get price of BTC in wei.\n",
    "btc_eth = contract.functions.getLatestPrice().call()"
   ]
  },
  {
   "cell_type": "code",
   "execution_count": 28,
   "id": "cc842b76",
   "metadata": {},
   "outputs": [
    {
     "data": {
      "text/plain": [
       "14.853088403199164"
      ]
     },
     "execution_count": 28,
     "metadata": {},
     "output_type": "execute_result"
    }
   ],
   "source": [
    "# Get price in ETH\n",
    "btc_eth/10**18"
   ]
  },
  {
   "cell_type": "code",
   "execution_count": 20,
   "id": "bd7b5521",
   "metadata": {},
   "outputs": [
    {
     "data": {
      "text/plain": [
       "4097403941144435"
      ]
     },
     "execution_count": 20,
     "metadata": {},
     "output_type": "execute_result"
    }
   ],
   "source": [
    "btc_eth"
   ]
  },
  {
   "cell_type": "markdown",
   "id": "e2b3c557",
   "metadata": {},
   "source": [
    "# BTC/USD"
   ]
  },
  {
   "cell_type": "code",
   "execution_count": 29,
   "id": "dc072f39",
   "metadata": {},
   "outputs": [],
   "source": [
    "# Address to BTC/USD oracle in Goerli network.\n",
    "priceFeedAddress = \"0xA39434A63A52E749F02807ae27335515BA4b07F7\"\n",
    "\n",
    "func=w3.eth.contract(\n",
    "    abi=contract_interface[\"abi\"],\n",
    "    bytecode=contract_interface[\"bin\"]).constructor(priceFeedAddress)\n",
    "\n",
    "tx_hash = func.transact({\"from\": account_addr})"
   ]
  },
  {
   "cell_type": "code",
   "execution_count": 30,
   "id": "1a88b832",
   "metadata": {},
   "outputs": [],
   "source": [
    "address = w3.eth.get_transaction_receipt(tx_hash)[\"contractAddress\"]\n",
    "contract = w3.eth.contract(address=address, abi=contract_interface[\"abi\"])\n",
    "\n",
    "# Get price of BTC in USD.\n",
    "btc_usd = contract.functions.getLatestPrice().call()"
   ]
  },
  {
   "cell_type": "code",
   "execution_count": 34,
   "id": "b2b679a8",
   "metadata": {},
   "outputs": [
    {
     "data": {
      "text/plain": [
       "25886.9"
      ]
     },
     "execution_count": 34,
     "metadata": {},
     "output_type": "execute_result"
    }
   ],
   "source": [
    "# Get price in USD.\n",
    "# Price typically scaled by 1e8 (or 10^8) to accommodate decimal values.\n",
    "btc_usd / 100000000"
   ]
  },
  {
   "cell_type": "code",
   "execution_count": null,
   "id": "69ae61da",
   "metadata": {},
   "outputs": [],
   "source": []
  }
 ],
 "metadata": {
  "kernelspec": {
   "display_name": "Python 3 (ipykernel)",
   "language": "python",
   "name": "python3"
  },
  "language_info": {
   "codemirror_mode": {
    "name": "ipython",
    "version": 3
   },
   "file_extension": ".py",
   "mimetype": "text/x-python",
   "name": "python",
   "nbconvert_exporter": "python",
   "pygments_lexer": "ipython3",
   "version": "3.10.6"
  }
 },
 "nbformat": 4,
 "nbformat_minor": 5
}
