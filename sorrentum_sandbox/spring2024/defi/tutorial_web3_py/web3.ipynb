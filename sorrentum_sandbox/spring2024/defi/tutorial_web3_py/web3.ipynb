{
 "cells": [
  {
   "cell_type": "code",
   "execution_count": 18,
   "id": "acb4bacc",
   "metadata": {
    "ExecuteTime": {
     "end_time": "2022-12-24T09:42:04.002867Z",
     "start_time": "2022-12-24T09:42:03.972767Z"
    }
   },
   "outputs": [],
   "source": [
    "# https://web3py.readthedocs.io/en/v5/"
   ]
  },
  {
   "cell_type": "markdown",
   "id": "4c35e9e0",
   "metadata": {},
   "source": [
    "# Intro"
   ]
  },
  {
   "cell_type": "markdown",
   "id": "8e2875a1",
   "metadata": {
    "ExecuteTime": {
     "end_time": "2022-12-23T00:49:03.012189Z",
     "start_time": "2022-12-23T00:49:03.008664Z"
    }
   },
   "source": [
    "## Quickstart"
   ]
  },
  {
   "cell_type": "code",
   "execution_count": 1,
   "id": "1a0c7e8f",
   "metadata": {
    "ExecuteTime": {
     "end_time": "2022-12-24T08:51:43.124195Z",
     "start_time": "2022-12-24T08:51:42.428914Z"
    }
   },
   "outputs": [],
   "source": [
    "%load_ext autoreload\n",
    "%autoreload 2\n",
    "\n",
    "import os\n",
    "import sys\n",
    "import web3\n",
    "\n",
    "sys.path.append(\"..\")\n",
    "import web3_utils as w3ut"
   ]
  },
  {
   "cell_type": "code",
   "execution_count": 2,
   "id": "b73f9325",
   "metadata": {
    "ExecuteTime": {
     "end_time": "2022-12-24T08:51:45.233071Z",
     "start_time": "2022-12-24T08:51:44.821881Z"
    }
   },
   "outputs": [
    {
     "name": "stdout",
     "output_type": "stream",
     "text": [
      "{\"jsonrpc\":\"2.0\",\"id\":1,\"result\":\"0xf8024c\"}"
     ]
    }
   ],
   "source": [
    "# Get the Infura key.\n",
    "infura_key=os.environ[\"WEB3_INFURA_PROJECT_ID\"]\n",
    "\n",
    "# Test Infura key.\n",
    "!curl --url https://mainnet.infura.io/v3/$WEB3_INFURA_PROJECT_ID -X POST -H \"Content-Type: application/json\" -d '{\"jsonrpc\":\"2.0\",\"method\":\"eth_blockNumber\",\"params\":[],\"id\":1}'"
   ]
  },
  {
   "cell_type": "code",
   "execution_count": 4,
   "id": "a4d83762",
   "metadata": {
    "ExecuteTime": {
     "end_time": "2022-12-24T08:51:56.739969Z",
     "start_time": "2022-12-24T08:51:56.646023Z"
    }
   },
   "outputs": [
    {
     "name": "stdout",
     "output_type": "stream",
     "text": [
      "isConnected= True\n"
     ]
    }
   ],
   "source": [
    "# Connect with Infura.\n",
    "#infura_url = f\"https://mainnet.infura.io/v3/{infura_key}\"\n",
    "infura_url = f\"https://goerli.infura.io/v3/{infura_key}\"\n",
    "\n",
    "w3 = web3.Web3(web3.Web3.HTTPProvider(infura_url))\n",
    "print(\"isConnected=\", w3.isConnected())"
   ]
  },
  {
   "cell_type": "code",
   "execution_count": 5,
   "id": "8b752c60",
   "metadata": {
    "ExecuteTime": {
     "end_time": "2022-12-24T08:51:57.770073Z",
     "start_time": "2022-12-24T08:51:57.675160Z"
    }
   },
   "outputs": [
    {
     "name": "stdout",
     "output_type": "stream",
     "text": [
      "blockNumber= 16253517\n"
     ]
    }
   ],
   "source": [
    "print(\"blockNumber=\", w3.eth.blockNumber)"
   ]
  },
  {
   "cell_type": "code",
   "execution_count": 6,
   "id": "95baf95e",
   "metadata": {
    "ExecuteTime": {
     "end_time": "2022-12-24T08:51:59.867308Z",
     "start_time": "2022-12-24T08:51:59.759408Z"
    },
    "scrolled": true
   },
   "outputs": [
    {
     "data": {
      "text/plain": [
       "AttributeDict({'baseFeePerGas': 10352238940,\n",
       " 'difficulty': 0,\n",
       " 'extraData': HexBytes('0x6265617665726275696c642e6f7267'),\n",
       " 'gasLimit': 30000000,\n",
       " 'gasUsed': 27350403,\n",
       " 'hash': HexBytes('0x5378788b50970cbff94645a6f13c5519bb8f61d30d3b1f643de30ea716509060'),\n",
       " 'logsBloom': HexBytes('0x10a4018cc640350894d43c28f730522a1863378a409040c3f7f90b86edc0951ca42d03d81195020008529f01010e13d9060cc778db387d4e4e450c6112766890822a7c74c5808998eb8f228c7534402c83c2a98ce2f1db40b4d964779203e8a00b08a80c72132e56804d3012000219a14e100c768c9c069cc62102514c9b30022826c31e9536abc4004c49000131442c37b2002313ebc06d60748140787178a59b804fe2b110ec13379900e28d50b4bd76e543646c8286a314c20016a7bb0b52c109a24320e1c07102650280699a440681b10cf191ef20d06a8a5f3f19a4b4888439b31a8054c2f2b04e738181314a3a427847410358d460821d5e115821d10b'),\n",
       " 'miner': '0x95222290DD7278Aa3Ddd389Cc1E1d165CC4BAfe5',\n",
       " 'mixHash': HexBytes('0x1f2ea80c5453302dfa0e2dd9b55685efacc8e9dafe912f7204fd8066d6ff0cf4'),\n",
       " 'nonce': HexBytes('0x0000000000000000'),\n",
       " 'number': 16253517,\n",
       " 'parentHash': HexBytes('0xf15b9fe83f94fb21f1709ea2520c4ee3d5d33939ef956fdda56e812963383ff2'),\n",
       " 'receiptsRoot': HexBytes('0xc8ab128439bcfa25f70246216495920062ab2edc0aef1acbb9d0df34779f9e37'),\n",
       " 'sha3Uncles': HexBytes('0x1dcc4de8dec75d7aab85b567b6ccd41ad312451b948a7413f0a142fd40d49347'),\n",
       " 'size': 61395,\n",
       " 'stateRoot': HexBytes('0xc550fb66b082d5b0e13d16680d66d789c95c130a76a5413c5813873931af4183'),\n",
       " 'timestamp': 1671871907,\n",
       " 'totalDifficulty': 58750003716598352816469,\n",
       " 'transactions': [HexBytes('0x73bed39abaa2f0255800063502823f646a84866bf22443214923b583333916a1'),\n",
       "  HexBytes('0xf05a4bf11e7aa15e8be7325382b2db4f3b7312c89a0e07edab40436287dd71e9'),\n",
       "  HexBytes('0x2c497aefb569c4cb8cf30db9ac67f2508d13a27c3991fdfb5a840a8d3ebc0508'),\n",
       "  HexBytes('0x71bf55cea0dcfecefbfdbc4566db897e3aec7514369152f4559f75c1bc27ee90'),\n",
       "  HexBytes('0x7a6eba2e58b667e61c8aeaa956781059c4ec1abebd3e3ac0fdb7c21ef1886ba0'),\n",
       "  HexBytes('0xe4621495bb0e16eac4443156989aadbd0ebcbd64106cbaa15968d38f3af57a40'),\n",
       "  HexBytes('0xc0f6b5711dee624b040ea979cc30f43d36c4d03ed8dc70b6e6c0ac53b770f44c'),\n",
       "  HexBytes('0xc043d6a13e428b92b528ba213cb95ab8ff2e0755d217d43a8561569eda95d318'),\n",
       "  HexBytes('0x30f181a5a44f2e83fb55441c4493d4315618fc5b1e09f51f1f7e4be66787048f'),\n",
       "  HexBytes('0xe8dfde3d1858fabeff5e993ec1d4e4a86490456ed62bdd10db3f539a488751e6'),\n",
       "  HexBytes('0x2ef9b0d410172e225a03e1a8ffa6ecfd9c7e23aff29e11dbcbd657a693f44fe4'),\n",
       "  HexBytes('0xe2107094c2cc1aa47b77ec9834e93629c3d6e8272b4ca73c8068c173ab43cda3'),\n",
       "  HexBytes('0x9d7e243b1308472a51e512a899dad53474a019f914d4b1054c636935447b2f1d'),\n",
       "  HexBytes('0x1cd49a725d766d1138b6bb0c74d2f4f0639cb3d73ed898c07810283fdbc4e124'),\n",
       "  HexBytes('0xdbeea86c8953932b98cf9e380e5e3357f0d7e21760d703d3260b2ad315fcf92d'),\n",
       "  HexBytes('0x04a31c3c15978a19111ff1f2fdea1cd799be37a2b88bf0f1123bb517baa5e1e5'),\n",
       "  HexBytes('0x0587f742db83fb904cd4c7afd1246902b5f5ae3dd3d820827a53491f40119bff'),\n",
       "  HexBytes('0xdc82604ae8c6a1bc10c25fc6ebbdc77236864455271a67b477bc15083f2c28f3'),\n",
       "  HexBytes('0x8d4f0119915ab3b11637caa90ae18612302f4b7c82e28640cad836c4c7f46806'),\n",
       "  HexBytes('0x5d5be4e828ccbc102f667e67d9982bcccda291881560b81eea939d096ad9ceb7'),\n",
       "  HexBytes('0x5df4fb8f718a9aa46360124a11e7f6c726c57631746e055dccdfcd314755c711'),\n",
       "  HexBytes('0x12c8498e882b4f8b54ca028e1939e0f057c41f213e8bef5d3fc979d88acc287a'),\n",
       "  HexBytes('0xd0b8603ae604cb94be1615f920ee50d8b383c114854ad0ed63ee2228d8e5e4ea'),\n",
       "  HexBytes('0x432ff05c9bc9011bfafcee9636642e82a93d5244698ce39cf2d8ca381d59d01c'),\n",
       "  HexBytes('0xe83538ff23b06cbe9c9b539bc849dc7831749a59f17c92aa2df806d5dab71fb2'),\n",
       "  HexBytes('0xf387499b227b26cf9fc0b4e55a4417a8f94675f17cc1fa53c89d50c16dcce436'),\n",
       "  HexBytes('0x393bfcf040d4dc2566a3d75849abb7a3673f935b6e695714b6651e139d8f0c64'),\n",
       "  HexBytes('0xb2d9617509ecf2a76d92a1637c64233e9f17eaf5e403ecaabb7010fce585f18f'),\n",
       "  HexBytes('0xeb188e7b215257fb97c812b96d1978710fb773bf536f5a290812d322ffdd189b'),\n",
       "  HexBytes('0xf3db446ce53344e53789b4aca7a3f561c0add875e315f5a79a0e3dab25abf387'),\n",
       "  HexBytes('0x65512d32237d5aadf6e0c607601adf1736cce26af95850bb6169a6a0d801ab05'),\n",
       "  HexBytes('0xe79830e2bad31ff9f6f265993de260ffd635e3019cd5779fefe842f04eb857fd'),\n",
       "  HexBytes('0xdc443e49996367356947da22ebd501f913b48851945b8ab6ae81f3e161836ffb'),\n",
       "  HexBytes('0x79c137cf7076224b57be9c4b50bf509df5b5517cc43661d2222ec5197b75cf6e'),\n",
       "  HexBytes('0x44cf23c37d9267de8666fe8e917cdaeb0cb44e88494501bb7a24eb2b6b6a615c'),\n",
       "  HexBytes('0xbc222fad1c33649fb36e44d902452a8990bc00ebe1b07251dc313cd782d04d52'),\n",
       "  HexBytes('0xb99cd751aa1c0bd8bc4f2e43ea179254990f09fb268caf47db31197a4df36064'),\n",
       "  HexBytes('0xafcf40bbc5d438746015ce883128228c418a1cde126aacc0f77bd7ebe5132349'),\n",
       "  HexBytes('0x43d667198f193f6c734a28ab5c6d8b6c67f973a38bcb6d24fa89e0e8df996d1e'),\n",
       "  HexBytes('0x1b28605a202d871c73bfaa755c285178dc2949b2667e7d32f4b4dc1ab4aa6f8a'),\n",
       "  HexBytes('0x785a50af313c5a7c43f11ad32b66622d25988f4ba53a844fec7c54c44141064d'),\n",
       "  HexBytes('0x1910f0ba1f2babbe668e60c3cfdd107705d4a432f251079835ec4490f607a0c7'),\n",
       "  HexBytes('0xca9a73a98611f6618b0744320c3e9c629dd470cc8b0a369b6734b0624033a1f3'),\n",
       "  HexBytes('0xd27fc0a1e7b7ab9036d8f53106e936a7f36bc71a91871a6055205f677be0fb00'),\n",
       "  HexBytes('0x7ec29f865c188d36496f90aa0f7abcb208bc25937165658d8fcb811da5361c60'),\n",
       "  HexBytes('0x731f52a88e3377c4e18e05b1121f69f666592521541beff5d89e1e4da6e048cc'),\n",
       "  HexBytes('0x83cbe0f3862aeecc200b57007d3753971459167248165109e13e89d3ad1db55c'),\n",
       "  HexBytes('0x07d4bbaee2609bae33f40f7e37f13cdeaca05d595d7b131d97b89f924bf23605'),\n",
       "  HexBytes('0xdc020ab6fb334afea47ba446a44397facf018c1141b6a42b12b16d5cfb3390cc'),\n",
       "  HexBytes('0x9beb1ed83c17a3148306dc09db53ecb9ff2f949c3306385c3e5bc71bbedae142'),\n",
       "  HexBytes('0x17817078bed957826291b2b82b7b186ceaf13a4f4b4570a560c3507b758fff7c'),\n",
       "  HexBytes('0x2b6f8668f8978f5dc3ab8cab707b86873435bbf1db057c98676ef737c4b30de8'),\n",
       "  HexBytes('0x3f6387a083f962434e6d94a39852b90a4aec83de0e04b0c147567dc7af47e42b'),\n",
       "  HexBytes('0xc9349ef104f0825f6f3e8b0e10a7f97f2e5f3f430cfd3baadf3aa7d9501ac029'),\n",
       "  HexBytes('0x24a012cb08c42600bba7311fa0758c151e0f473b42be0ac651d3ffd5b43391d6'),\n",
       "  HexBytes('0xeaa03ddbc3880f4c811099d2843f30e44e12838347340dc9c09d8ec3a7570d6c'),\n",
       "  HexBytes('0xd2e3a5af3c7d83cc4325e66f08f54bdf8dda427c6a0b9275a0879e66e6b00734'),\n",
       "  HexBytes('0x90c4da356b332202d11adf03fceda82a7d8f16574523d4d6725bdfaf26319732'),\n",
       "  HexBytes('0x46b5e27d30122cb75343f6db2dcdb5ba3d606c80d3a7591842e37d597d1d650e'),\n",
       "  HexBytes('0x76bec8aa7098105696f5c6f100c7e9b64c1de092644ddc089d838a6717e422c2'),\n",
       "  HexBytes('0x2e12ec1f8920625145cfa407aeeca9cf3b220d395f797f650714ee4a3d167e70'),\n",
       "  HexBytes('0x6ebf7bce847f30ec1633b0d1ebbe4fe5b65f0058c31bca331d0db13c3d0b19f3'),\n",
       "  HexBytes('0xe4fa041f938c50527623f770a92a7d2586b222fa7eeac4be5d776a6c09087e35'),\n",
       "  HexBytes('0x2587eeb4c95236ea69bb265258ed07ef9345fc06042fc83fb7301a163d72acdc'),\n",
       "  HexBytes('0x98f432e981505d50d6744eaa0a311cdd98e2043eb512ac954d51a4888c691504'),\n",
       "  HexBytes('0x6ebe1c843872677d7adeaf304da63ba9375c20779f1e571f70a9153a2a96fd24'),\n",
       "  HexBytes('0x43d122b9b47b34d62db114f9e095d0873afdeaee356d52480430ede29a3718fa'),\n",
       "  HexBytes('0x053742ce1b6f5560f2d7eb340abd9f9e752919bd411be043994443c19f1614e1'),\n",
       "  HexBytes('0x7ac2edf2e85b91f19bf902289ea478e5e0b14f4da69eb1473bee5cfc1df0e8aa'),\n",
       "  HexBytes('0xbd365322c3a65fa9962266b731e50d3b71a087baa515949589cce1fd2bd1534e'),\n",
       "  HexBytes('0x6aad40a683fc69eda982c68562e5534e0d052cb390f840184e991785d0d99d5f'),\n",
       "  HexBytes('0xcfd25fc0433dec8851ccbd1439ddea406d9d1da896a9e0dadbb91909b9eba4f3'),\n",
       "  HexBytes('0x663f2356d6bd663b32075ead67f642865526ee1a2bee418a06f88cf527bb3899'),\n",
       "  HexBytes('0x3e571be244f6ba043cf1b980352faa7d502b33f2d11e54bd2304c7699ee4e783'),\n",
       "  HexBytes('0x19e8e52b1ba44312548940a50bdde27f74d65da04792af0579dd1a93acff9365'),\n",
       "  HexBytes('0xba9292d1595e6ed59b349cda89103a9e82b5d6556e4e373e00126b8eadd316ea'),\n",
       "  HexBytes('0x5b3385b281b82c6adaebe8d0afed6bdc743f62b5e5ab2cda1a96be9275bbf614'),\n",
       "  HexBytes('0xc77661c5240062f48cc76901abf16aa43b5b57e645f86075c7395b3f7e16f8ef'),\n",
       "  HexBytes('0x15636e290597c5a067c9bc9f482e3436eb49415c612767c7d88ddcdcb4612d3d'),\n",
       "  HexBytes('0x0fe5c81713cd180370d28a8df55bd1ef28b3abd07a6e7ddbb896b244ab50398e'),\n",
       "  HexBytes('0x095530396962ecc99bf500dceaa689331d2dcb3c590be099f885e200982c76c1'),\n",
       "  HexBytes('0x2b99181b7f80a1f110080911deadeb6725c30b089a6fe0f076fc486c5fce75ab'),\n",
       "  HexBytes('0x3e57fe06fce3510e934e7d72abdeb24c3a873eada4fb040f47a17a00d3c0b959'),\n",
       "  HexBytes('0x744b36091dae01a91a135e6912cf9f84839b653dce7f97896b42eb223f889ae5'),\n",
       "  HexBytes('0xdd746b36d8b96a22291047af54fe57686a97ebd21193951a776850fde9762afe'),\n",
       "  HexBytes('0x2b269c9ff0894420dbf9fbe478104b80a0559a469d7051d63a29a4f2e6685240'),\n",
       "  HexBytes('0x557ea612a26cecff65f23fce8e1bb562b2d72ccd12c007eef82bf1255cac00a9'),\n",
       "  HexBytes('0x7a8c22adfaf392171a5fef36c057bb7b3504f929961774c4b0c879859e624214'),\n",
       "  HexBytes('0xde7fdf8d09925d690be92de42cc79eb8ac573b18eb7a7f8a67c46307cd7f5065'),\n",
       "  HexBytes('0x0e1832e3ac4687e4548b4853217db717797f2f77551c86c6f0ae6058c8c731bf'),\n",
       "  HexBytes('0x08219567d748911b28be2e2640e902653951c2c59ecafc53bdcdab2af287245b'),\n",
       "  HexBytes('0x74f0e4e17231a8f45e495f81b8bd439243675b03cd653e23994c8028eb4fcc89'),\n",
       "  HexBytes('0x4a80ff33486b909a0542db3422580c4b805cd1fbe5546827ff883176241d7363'),\n",
       "  HexBytes('0x14312c03bc9f7322f2e1417a1c58824b97f3647fb589aa8ebdf0d12f719d642a'),\n",
       "  HexBytes('0xd918b6e0c7f81068ffef38ba27e1aad2916c1cc7c784962583d3963c477af34c'),\n",
       "  HexBytes('0xbe3e8f3767c888512877597c752876debc6b8b87313c6abdf1b2caec745280d4'),\n",
       "  HexBytes('0x04b6428bbd1df93a79b1cd1d9bcc917c589e69f0e41d4f15ca9481908e0b9fc5'),\n",
       "  HexBytes('0x2d878640071260bb8027807ae8ad0e0384807af17bece127581704cc12d4fd3b'),\n",
       "  HexBytes('0x9d1e78903caccf7c1071e2774d7e60fc5e516aed786cf25f04699bb26c40fc12'),\n",
       "  HexBytes('0x3a2938d301667067df531229a011eaa306dae968f62a60c6f957944bebc56fe0'),\n",
       "  HexBytes('0xa2c02d640822f6af7a2b07a4ef69579c6dfcb197544fa3acbd8df25814f0d76a'),\n",
       "  HexBytes('0xee7ec08644721ec994b504f352ffdb3b0c71dbf89973d74fc8639a517bdc6f9b'),\n",
       "  HexBytes('0x41095fcb91ab44233aba5fa5d0385ace4674323996ba6b8a48ca2be16c104fe4'),\n",
       "  HexBytes('0x00d08d067055a33ae8bd16555c519bac9f97b39ce4da38bb6960c061ef1d8183'),\n",
       "  HexBytes('0x22fc92b7f70a25de5ec17b24a0547c97bc1149c3961e1d411a1c7e35d632b7e9'),\n",
       "  HexBytes('0xac2a3932dcb8f7ee0f8f68e385184a88b4cbb565c3357718e91e3a6fb018ecbb'),\n",
       "  HexBytes('0x064715b7b7ca52ff17db360e6ea9530fce2ba3b40db69a88e94d7cb8912dfa64'),\n",
       "  HexBytes('0x2255e34c6e097e90f3e120d8e27e6c6e38018238148a7c84aa69fcdead17d2a6'),\n",
       "  HexBytes('0x20bd587fdff13adea18a92d4277cbd3880d5bb6e0a859bc40268408d3c85cb41'),\n",
       "  HexBytes('0x118fcec43177d9a145866983e9d9b19e078374ebb8e47fbd0605efce9157a6c1'),\n",
       "  HexBytes('0x9e6eacadc0bfa3ac9a757dc03d2dc216e38f4fa7f93f28300ae6d0d87d344637'),\n",
       "  HexBytes('0x3105c63eb00801dfd114dabd89137fcc03ba32e69b2b86a229d05abb8bae3f94'),\n",
       "  HexBytes('0x516289310e6a9a89366900b00fa8faa4ed3a1122652b6f8bd26e975eccba2962'),\n",
       "  HexBytes('0xd06a66bfe0de9019c408755779c1f724f025d05c97a0aa21281af0dd9548b69d'),\n",
       "  HexBytes('0xbe62f0c310910e2150155404af20d12fd00e6d3ee352a2d3b4edc91adc40b87b'),\n",
       "  HexBytes('0xe957308196c737868b877883aaf4700568de67f02afe9fce6caa74e097c48936'),\n",
       "  HexBytes('0xa3d7bb2e8cfd0117f887cab9c7e0212597996e9f476c1820fd5a8d57a3caa1e6'),\n",
       "  HexBytes('0xa298c8b9a17a0ffa488e2020b82852b9d114f1af877d44624b7e276ab92e3d1a')],\n",
       " 'transactionsRoot': HexBytes('0xa4452ef21fdc51cf6649cd705ff48c0a152d98b5dbf86628b88927154c7f68c8'),\n",
       " 'uncles': []})"
      ]
     },
     "execution_count": 6,
     "metadata": {},
     "output_type": "execute_result"
    }
   ],
   "source": [
    "w3.eth.get_block('latest')"
   ]
  },
  {
   "cell_type": "code",
   "execution_count": 7,
   "id": "f30be5fd",
   "metadata": {
    "ExecuteTime": {
     "end_time": "2022-12-24T08:52:06.276435Z",
     "start_time": "2022-12-24T08:52:06.175331Z"
    }
   },
   "outputs": [
    {
     "name": "stdout",
     "output_type": "stream",
     "text": [
      "1.155769163E-8\n"
     ]
    }
   ],
   "source": [
    "print(w3.fromWei(w3.eth.gas_price, \"ether\"))"
   ]
  },
  {
   "cell_type": "code",
   "execution_count": 8,
   "id": "c9b57083",
   "metadata": {
    "ExecuteTime": {
     "end_time": "2022-12-24T08:52:17.457478Z",
     "start_time": "2022-12-24T08:52:17.433460Z"
    }
   },
   "outputs": [],
   "source": [
    "def gas_estimate(w3, func):\n",
    "    gas_estimate = func.estimate_gas()\n",
    "    print(\"gas_estimate [units]=\", gas_estimate)\n",
    "    # Wei / unit.\n",
    "    gas_price = w3.eth.gas_price\n",
    "    print(\"gas_price [wei]=\", gas_price)\n",
    "    print(\"gas_price [wei]=\", w3.fromWei(gas_price, \"gwei\"))\n",
    "    #\n",
    "    gas_cost = gas_estimate * gas_price\n",
    "    gas_cost_eth = w3.fromWei(gas_cost, \"ether\")\n",
    "    #\n",
    "    eth_price_USD = 1200\n",
    "    gas_cost_USD = gas_cost_eth * eth_price_USD\n",
    "    return gas_cost_USD"
   ]
  },
  {
   "cell_type": "markdown",
   "id": "352310b0",
   "metadata": {},
   "source": [
    "## Overview"
   ]
  },
  {
   "cell_type": "code",
   "execution_count": 9,
   "id": "701458f4",
   "metadata": {
    "ExecuteTime": {
     "end_time": "2022-12-24T08:52:21.621979Z",
     "start_time": "2022-12-24T08:52:21.598940Z"
    }
   },
   "outputs": [
    {
     "data": {
      "text/plain": [
       "1000000000000000000"
      ]
     },
     "execution_count": 9,
     "metadata": {},
     "output_type": "execute_result"
    }
   ],
   "source": [
    "# 1 ether is 1e18 wei (so it's two gwei).\n",
    "w3.toWei(1, 'ether')"
   ]
  },
  {
   "cell_type": "code",
   "execution_count": 10,
   "id": "aa52b415",
   "metadata": {
    "ExecuteTime": {
     "end_time": "2022-12-24T08:52:22.026098Z",
     "start_time": "2022-12-24T08:52:22.003310Z"
    }
   },
   "outputs": [
    {
     "data": {
      "text/plain": [
       "Decimal('1E-18')"
      ]
     },
     "execution_count": 10,
     "metadata": {},
     "output_type": "execute_result"
    }
   ],
   "source": [
    "w3.fromWei(1, 'ether')"
   ]
  },
  {
   "cell_type": "code",
   "execution_count": 11,
   "id": "5d1e06f2",
   "metadata": {
    "ExecuteTime": {
     "end_time": "2022-12-24T08:52:22.433459Z",
     "start_time": "2022-12-24T08:52:22.411113Z"
    }
   },
   "outputs": [
    {
     "data": {
      "text/plain": [
       "Decimal('1E-9')"
      ]
     },
     "execution_count": 11,
     "metadata": {},
     "output_type": "execute_result"
    }
   ],
   "source": [
    "w3.fromWei(1, 'gwei')"
   ]
  },
  {
   "cell_type": "markdown",
   "id": "179a6b86",
   "metadata": {
    "ExecuteTime": {
     "end_time": "2022-12-23T01:36:26.401513Z",
     "start_time": "2022-12-23T01:36:26.398197Z"
    }
   },
   "source": [
    "# Guides"
   ]
  },
  {
   "cell_type": "markdown",
   "id": "ead5f189",
   "metadata": {},
   "source": [
    "## Examples"
   ]
  },
  {
   "cell_type": "markdown",
   "id": "81d638bc",
   "metadata": {
    "ExecuteTime": {
     "end_time": "2022-12-23T01:46:08.897874Z",
     "start_time": "2022-12-23T01:46:08.894517Z"
    }
   },
   "source": [
    "### Looking up blocks"
   ]
  },
  {
   "cell_type": "code",
   "execution_count": 12,
   "id": "d41fffdb",
   "metadata": {
    "ExecuteTime": {
     "end_time": "2022-12-24T08:52:26.769627Z",
     "start_time": "2022-12-24T08:52:26.663285Z"
    },
    "run_control": {
     "marked": true
    }
   },
   "outputs": [
    {
     "data": {
      "text/plain": [
       "AttributeDict({'difficulty': 735512610763,\n",
       " 'extraData': HexBytes('0x476574682f76312e302e302f6c696e75782f676f312e342e32'),\n",
       " 'gasLimit': 5000,\n",
       " 'gasUsed': 0,\n",
       " 'hash': HexBytes('0x767c2bfb3bdee3f78676c1285cd757bcd5d8c272cef2eb30d9733800a78c0b6d'),\n",
       " 'logsBloom': HexBytes('0x00000000000000000000000000000000000000000000000000000000000000000000000000000000000000000000000000000000000000000000000000000000000000000000000000000000000000000000000000000000000000000000000000000000000000000000000000000000000000000000000000000000000000000000000000000000000000000000000000000000000000000000000000000000000000000000000000000000000000000000000000000000000000000000000000000000000000000000000000000000000000000000000000000000000000000000000000000000000000000000000000000000000000000000000000000000'),\n",
       " 'miner': '0xad5C1768e5974C231b2148169da064e61910f31a',\n",
       " 'mixHash': HexBytes('0x31d9ec7e3855aeba37fd92aa1639845e70b360a60f77f12eff530429ef8cfcba'),\n",
       " 'nonce': HexBytes('0x549f882c5f356f85'),\n",
       " 'number': 12345,\n",
       " 'parentHash': HexBytes('0x4b3c1d7e65a507b62734feca1ee9f27a5379e318bd52ae62de7ba67dbeac66a3'),\n",
       " 'receiptsRoot': HexBytes('0x56e81f171bcc55a6ff8345e692c0f86e5b48e01b996cadc001622fb5e363b421'),\n",
       " 'sha3Uncles': HexBytes('0x1dcc4de8dec75d7aab85b567b6ccd41ad312451b948a7413f0a142fd40d49347'),\n",
       " 'size': 539,\n",
       " 'stateRoot': HexBytes('0xca495e22ed6b88c61714d129dbc8c94f5bf966ac581c09a57c0a72d0e55e7286'),\n",
       " 'timestamp': 1438367030,\n",
       " 'totalDifficulty': 3862140487204603,\n",
       " 'transactions': [],\n",
       " 'transactionsRoot': HexBytes('0x56e81f171bcc55a6ff8345e692c0f86e5b48e01b996cadc001622fb5e363b421'),\n",
       " 'uncles': []})"
      ]
     },
     "execution_count": 12,
     "metadata": {},
     "output_type": "execute_result"
    }
   ],
   "source": [
    "w3.eth.get_block(12345)"
   ]
  },
  {
   "cell_type": "code",
   "execution_count": 13,
   "id": "119aa50e",
   "metadata": {
    "ExecuteTime": {
     "end_time": "2022-12-24T08:52:29.846395Z",
     "start_time": "2022-12-24T08:52:29.735014Z"
    }
   },
   "outputs": [
    {
     "data": {
      "text/plain": [
       "AttributeDict({'baseFeePerGas': 10134175379,\n",
       " 'difficulty': 0,\n",
       " 'extraData': HexBytes('0xd883010b00846765746888676f312e31392e31856c696e7578'),\n",
       " 'gasLimit': 30000000,\n",
       " 'gasUsed': 7048161,\n",
       " 'hash': HexBytes('0x4150322dcff88d8e4c0b82bcee7c15dae95f4282dc9f8aae7365f4557fdedae5'),\n",
       " 'logsBloom': HexBytes('0x002c101880931580128d42a2813111a224452000c6009080261109001860d3200803831aa8804040405010155a08b100a28c7660c9026c001a041078d030350080f14178448419486a02478cf230316000c042e1c453444c198306458840f31b0221000552020006022880090020482700085e7040100490d0197450c13862042c01833021121114c14b0c4300b2200001670c09c3445018603045461130140a8a400d62e0076c818a1403e12540c48c4002804c6018c8020500091010a03906c3208c07710b08c01080425031440406300122701498c812604609878000680e8134b08800002002620ccfe4090d1a301010514d380885e200808d9204463881'),\n",
       " 'miner': '0x473780deAF4a2Ac070BBbA936B0cdefe7F267dFc',\n",
       " 'mixHash': HexBytes('0x8d5ed1cbfe48842fa522dacb72423311d9eb13950bad1e370e23f48e75999190'),\n",
       " 'nonce': HexBytes('0x0000000000000000'),\n",
       " 'number': 16253520,\n",
       " 'parentHash': HexBytes('0xb2f78d4ebfcc56f1de46fb241f3420799209e0fa4f53629a30e8f2e15c840c7f'),\n",
       " 'receiptsRoot': HexBytes('0x750d7df5e3e722905647620cf198cd26154c8e012441b0c3da183a5eacc733be'),\n",
       " 'sha3Uncles': HexBytes('0x1dcc4de8dec75d7aab85b567b6ccd41ad312451b948a7413f0a142fd40d49347'),\n",
       " 'size': 58669,\n",
       " 'stateRoot': HexBytes('0x072ac3f699d03fb6f25092312df50971d7ef0892f83e5b5cc7852fa500cf8640'),\n",
       " 'timestamp': 1671871943,\n",
       " 'totalDifficulty': 58750003716598352816469,\n",
       " 'transactions': [HexBytes('0x4c671c14ef2dba984f908d2c0432a72e8e47a0e8d9aea432619fe00328a95d2c'),\n",
       "  HexBytes('0xeae609eef83e4f8ca6b982cc1f2a227ccdfa2969454986d3549a1b9aecb590d8'),\n",
       "  HexBytes('0x06922eb4981f7c0219f702bf13a7a595876cfa1a3d8fe671e9f022688760a9f6'),\n",
       "  HexBytes('0x9c6817597edf8d4fc9ec6c8f83e0d04b4e8806a5b060166550121669504d53ae'),\n",
       "  HexBytes('0x47fcfd67c701ade32169629887ea4df94a5363da58564924f593897a764d04c5'),\n",
       "  HexBytes('0x24ed0d6313fc7a19e7fc10c4c5dcc727029bf2f1be21e47c4a650bbcacfca329'),\n",
       "  HexBytes('0x196033fcd33447add8d915543de4c19a24b124d0720ec241f88e293fe73b9f08'),\n",
       "  HexBytes('0x55261397121c2a5eb362b98c5069d9e68a594b2f0be073c5b190bc98adc0f92e'),\n",
       "  HexBytes('0x0688a0a19e2f931e456b82bce966b249bfaf3dd43189c12c86cf8bbad1a1d531'),\n",
       "  HexBytes('0xad4edd1b6f29154bda3dd7293e0234214bf90db3078256d0ebf94ce6cc6e9556'),\n",
       "  HexBytes('0x15ce0eb16a2b7ecabb6046b93a8c5638680afe37699f73e036ee0902bd71b820'),\n",
       "  HexBytes('0xe9722f14763b40e98359d9fbd5ac37ebf5afa3028ca12083619d93c212d87a9a'),\n",
       "  HexBytes('0x2fd523b0cc6a87553b091f93d1ce869d54245c5a4627239f4b28031c788481f5'),\n",
       "  HexBytes('0x19c65ccf782c182864ad558294ec30593cc8b29503eeba6bb15f820d64803dc5'),\n",
       "  HexBytes('0x95f67a8ee4045c857370ec8fdb49429a9ffba23ebd11d48d42b0a7bc6edcb813'),\n",
       "  HexBytes('0x55a5225e05a2ac4ec3b2e3e3d14bf83ba7d20d24df00a69817d39a27c54ebabe'),\n",
       "  HexBytes('0x9e996317b9e2bda23f9b832d034def1f11cc381467c19e035bb48331ed3cd594'),\n",
       "  HexBytes('0xad5f7fd614b6bf80bcd30fca8fe30cb55a19e0faefed0ce7aabebd3e7bce3824'),\n",
       "  HexBytes('0xfbf3da00f148423accb503af41e9614ca953ea941a4075642ea51ecb678bafa4'),\n",
       "  HexBytes('0xac6adb8987ae48d316f16e90d03e0b250ea98812688a690ffe3a5ac2985311fb'),\n",
       "  HexBytes('0xc94ed6875635a09d1065b80a7a746745ba6c2ca9362ffb4c1de4c9d541be6655'),\n",
       "  HexBytes('0xbaefe886a5474804357a463cd5041b0c9d21265059f3f0fde73f3acb37c4ed24'),\n",
       "  HexBytes('0x6b9645a35443466540b553edb0324b01ac929cc5f06688e5c64e086322596a27'),\n",
       "  HexBytes('0x517bc1ad5cedde8469d63026b5860968378a9dc8ed90b107ec921d7536a04e54'),\n",
       "  HexBytes('0xf71a7860fa806a1b4701b61c255ece300d6d40a5921f13751bbba187dafcb333'),\n",
       "  HexBytes('0xaf5a37f23a88c95db17be8542cd782029bfb24e1fa69fe3fac2846cd9050f4b0'),\n",
       "  HexBytes('0x3e7573c012ca5140fe21ee39b07ebb9fe98a676acb3a84f4621d222d07dc9cd3'),\n",
       "  HexBytes('0xa99e8c809f38e856ed91a22f2f738d9dd3ce378e7cf24ccfa269069c9273319e'),\n",
       "  HexBytes('0x5b834f9864223f1e66fc18ecf9ebd23b0c085d4408432cdd34df7d81866cbb34'),\n",
       "  HexBytes('0x3a29ba1db1a3fbeb9e2dac2a569da6d1eb8a935ac03640e6a02dd90b73ec072f'),\n",
       "  HexBytes('0xb603c1228836bc0ddb374a1a0b66fda775b56a42524e1e33b26704b004f58bc7'),\n",
       "  HexBytes('0x3b10bc829ba945c1b011022a53213904c3c320e8ec0adb9eaf7ca3d5c88b0d18'),\n",
       "  HexBytes('0x677609255eec97566a6dedac115ca60ba380304d1342b99088a9d7b5d38978b9'),\n",
       "  HexBytes('0x11d62f999b73401fdb7755abfbc02a7ffe7f1a5c37fe13409f458e918299720d'),\n",
       "  HexBytes('0x724f95e2e37a05e25b18895f01638021227109af740954c2df5e8f98ef7851c5'),\n",
       "  HexBytes('0x0fddd4aaf653fc3cb6d97b1f4ea0c6daceafff652ea2fa45c9cba06ddf7e4b81'),\n",
       "  HexBytes('0xccd009c5fbda99614b8997fb299abef604fc28108a5690c2aa207c588d708013'),\n",
       "  HexBytes('0x8053d4484cb34c571dd2fac2aa37ef81f2cc91f3dcc667ccf54e2a7b9e79b11b'),\n",
       "  HexBytes('0x51c30d62b48ea9acdecd219fc6483effc4d68f59966303029717ebe634de637e'),\n",
       "  HexBytes('0xcc252217adc35085f44f15a15d2be58f1aee5875af7d279cfa5000222872b4c6'),\n",
       "  HexBytes('0xf95fdc44c75320629a02ee7fc7860298adf3f0a246e303a311dc970c6333ee7d'),\n",
       "  HexBytes('0x9c87e39e3aee683f478948a62b4e57acdf9fafc59848ee9110377caee5620fc3'),\n",
       "  HexBytes('0x97c354fed8feb6179076c11f2b8a58b290893a2b9b4c07df5d24b30a1eaf95ec'),\n",
       "  HexBytes('0x64b31646955ec4ecabc71911969591b4dd3d89d8c6e65334e88b600642caf438'),\n",
       "  HexBytes('0x7c2564ad85f9cc1ba3203d24a578f37b111fd80d7af7effc28badc4a845f600b'),\n",
       "  HexBytes('0x3e24450cd5db47bf74112b89df737fe935e9c8a1cff2b24d4a520cf29288c94c'),\n",
       "  HexBytes('0x2ffd802372d7916af55170034d9082d0d072a7bd9ece7b2da942fc902488fac0'),\n",
       "  HexBytes('0xe82bd43b586d8005891dc78213b44060ef8c37f404cbb6e646b363dc36620286'),\n",
       "  HexBytes('0x9ef9c565d0b02a4a282da0ab3a767e70d78aca4b63c0571eacdcf7caecc57924'),\n",
       "  HexBytes('0x00ac05219e97f584975679ec84373bfd2cce454744e2aaa162441b838b5474f7'),\n",
       "  HexBytes('0xd902a35556d1a0df758b6e76b01e4a136d3d19d45df96adb7bf4b512da89ff55'),\n",
       "  HexBytes('0x9857cd728636556119e91f3ae153d2882346b258cd335cbc42f1d69f360368a3'),\n",
       "  HexBytes('0x2584a56ae2c3b5a045cef5d66fe5c2c52e0354ff2e84ec707413f45df8b6f740'),\n",
       "  HexBytes('0x490103f3e63088485b39626b9d989117da646c12df453faff8f6baf8fb32e28e'),\n",
       "  HexBytes('0x5290145620456d84ec63478fcfe3b7e9139eedbaa79ba45c668a9191479e760f'),\n",
       "  HexBytes('0x3df0abc0de977de70580447a079b9a3d752b62060ad86edbca16c90b931b4825'),\n",
       "  HexBytes('0x65e089967418ae09ca080b7430fbdcd358578b696295d32a5479b3ad553bf75a'),\n",
       "  HexBytes('0xc488aaf262de38430b4c497d9786a7f53cc48d5ee605c9ca4a671623f2658d16'),\n",
       "  HexBytes('0x6d4f61ed6fa8edc9be6d6ec44de32d7fbceb71c0c17763cb02f6613449c5323b'),\n",
       "  HexBytes('0x472a46106bc9e5d7bffdd741ce17c6a7eefccffa3c3f2e7ca840b8d6a8b46bf3'),\n",
       "  HexBytes('0xa05c03399fd160db2347defa65316406c5e534b56e8d68a61ec83cf13edb03d0'),\n",
       "  HexBytes('0x08002eb88496119b6f7c7fde34665459e154384509bdff45f9f5605f51a35206'),\n",
       "  HexBytes('0xd278383356dd228151942176d78529040525e894a2be6a3366b6859beacc40cd'),\n",
       "  HexBytes('0xc315daee8547d2164355eb4105e4fa468db7d25e153a503623272db8117c157a'),\n",
       "  HexBytes('0xb827d5af9cc71682d0a9f67bbf980085497edb8cd9b2c9baf5ccb4a0e3d33041'),\n",
       "  HexBytes('0x7d66ee71de2902efc93f68a46580204b55ea2a67caa63768d6f3e02eeeb603f2'),\n",
       "  HexBytes('0x4696adc892c4f41c466c2a7c597b885cf41a458388217e74dca60d903e6c18a4'),\n",
       "  HexBytes('0x2abecd3e96653ce5d4342a1f1f7f45a8455ad80236d3f73d944f9a0684cb94e8'),\n",
       "  HexBytes('0x263f3159908b44db99fcba2a5041c5ec5fac36fe87c4146645981a20523f894a'),\n",
       "  HexBytes('0xddaac56e31072848b076ab70bd02cca7c5e69a64bafffec3129ecaccd10f95a4'),\n",
       "  HexBytes('0x3d91d77bd64cd19216ab911dc8c83b1439470d343f0d549e71fb76c0cdc07769'),\n",
       "  HexBytes('0x0feb4dcb6268488dee6b5260fb6389a9a372a0bcdabdcc9bc1dbdaa56e9d9e13'),\n",
       "  HexBytes('0x993d8cb2004a3eaf234a987636a7cfa0462e0a8793341ade19cf22297dda33c0'),\n",
       "  HexBytes('0x2f2d4aab3a6d334bb1c726bd9c44c15b32a2d36978a97f92a400d5d7e3b5d352'),\n",
       "  HexBytes('0x0217f820e00dfed248c2a6b02c6cb622f93bb9f4c318c307e8de4dc7ffd85df8'),\n",
       "  HexBytes('0xb4be6b3e5fb152d53e2aae33035916128739274a97de0d2dd7eccbb4678ac2f0'),\n",
       "  HexBytes('0x1b61cf197b845c058ad46591d56b15c05987e17b13d98bb425feafd8b43d83e3'),\n",
       "  HexBytes('0x9327467985dfe8ffa0eaa324d2d00f5b89dbfda1bee435f832cada9e04efee59'),\n",
       "  HexBytes('0x976182616f0c3dd2285273137a8ce0c893f9ea7a398e7f058462549b9b3b9deb'),\n",
       "  HexBytes('0xaccd8d60d8b225a8a886042181dc57b7d0be28330800aeb09b5e10b7f86e9fd5'),\n",
       "  HexBytes('0x33c171c8ffb9537fa252ff80bdc6a074be55efcb7a5eb1b9cf52b10efdbfd6c7'),\n",
       "  HexBytes('0xb8002b162b2b774eb58117dbd6b7956a90690b4946b214f3a894dda982e6421d'),\n",
       "  HexBytes('0x0abbc1d0dc94837c8d124ffe48c65f5638b536b51e914b67496940aa2aa36aa9'),\n",
       "  HexBytes('0x7cf44191513f8d03c0c8b913efd2916c1cb83aa1ccc3dad7ab0b949ee435d40a'),\n",
       "  HexBytes('0x65d3868b90997f140f2544b6551c74eb69f243fddc2699882f9b21fdcb94a731'),\n",
       "  HexBytes('0xbec64d34941661a22f7f389be36b53eb0efdfb31bfee106366e39902c2d87181'),\n",
       "  HexBytes('0x9af1b3a858877f801680c8e91c00990651cf85c1c94f47f4ddc6133c7a372d15'),\n",
       "  HexBytes('0xc0218459fe33c0b0a52bc96b351b1a42db69677a8bc5355c17f1e904a59c8dbf'),\n",
       "  HexBytes('0x3d9392f9e9b249ccee4aaf8c0815d6e62fe58833700b4875d9c59c6ae23496ff'),\n",
       "  HexBytes('0xc5e326fa44334d473ac5c50900f085036ea0e84fb7393a37e17aac93a1815a64'),\n",
       "  HexBytes('0xc5f6334261bb07063a6bfa78a5fc20f6ea18a7e536f585b5a67c626ca457f5c9')],\n",
       " 'transactionsRoot': HexBytes('0x5b8970c3fe9390fb95a8d5df91b91763015aec291a56921020822ae3284d6853'),\n",
       " 'uncles': []})"
      ]
     },
     "execution_count": 13,
     "metadata": {},
     "output_type": "execute_result"
    }
   ],
   "source": [
    "w3.eth.get_block('latest')"
   ]
  },
  {
   "cell_type": "code",
   "execution_count": 14,
   "id": "0dd1bee6",
   "metadata": {
    "ExecuteTime": {
     "end_time": "2022-12-24T08:52:30.989208Z",
     "start_time": "2022-12-24T08:52:30.882724Z"
    }
   },
   "outputs": [
    {
     "data": {
      "text/plain": [
       "16253520"
      ]
     },
     "execution_count": 14,
     "metadata": {},
     "output_type": "execute_result"
    }
   ],
   "source": [
    "w3.eth.block_number"
   ]
  },
  {
   "cell_type": "code",
   "execution_count": 15,
   "id": "86722632",
   "metadata": {
    "ExecuteTime": {
     "end_time": "2022-12-24T08:52:35.755123Z",
     "start_time": "2022-12-24T08:52:35.653221Z"
    }
   },
   "outputs": [
    {
     "name": "stdout",
     "output_type": "stream",
     "text": [
      "wei= 357785283382519607971817\n",
      "eth= 357785.283382519607971817\n"
     ]
    }
   ],
   "source": [
    "#account = \"0x90e63c3d53E0Ea496845b7a03ec7548B70014A91\"\n",
    "account = \"0x742d35Cc6634C0532925a3b844Bc454e4438f44e\"\n",
    "balance = w3.eth.get_balance(account)\n",
    "print(\"wei=\", balance)\n",
    "print(\"eth=\", w3.fromWei(balance, \"ether\"))"
   ]
  },
  {
   "cell_type": "code",
   "execution_count": 16,
   "id": "9a607146",
   "metadata": {
    "ExecuteTime": {
     "end_time": "2022-12-24T08:52:44.586965Z",
     "start_time": "2022-12-24T08:52:44.492723Z"
    }
   },
   "outputs": [
    {
     "data": {
      "text/plain": [
       "AttributeDict({'blockHash': HexBytes('0x4e3a3754410177e6937ef1f84bba68ea139e8d1a2258c5f85db9f1cd715a1bdd'),\n",
       " 'blockNumber': 46147,\n",
       " 'from': '0xA1E4380A3B1f749673E270229993eE55F35663b4',\n",
       " 'gas': 21000,\n",
       " 'gasPrice': 50000000000000,\n",
       " 'hash': HexBytes('0x5c504ed432cb51138bcf09aa5e8a410dd4a1e204ef84bfed1be16dfba1b22060'),\n",
       " 'input': '0x',\n",
       " 'nonce': 0,\n",
       " 'r': HexBytes('0x88ff6cf0fefd94db46111149ae4bfc179e9b94721fffd821d38d16464b3f71d0'),\n",
       " 's': HexBytes('0x45e0aff800961cfce805daef7016b9b675c137a6a41a548f7b60a3484c06a33a'),\n",
       " 'to': '0x5DF9B87991262F6BA471F09758CDE1c0FC1De734',\n",
       " 'transactionIndex': 0,\n",
       " 'type': '0x0',\n",
       " 'v': 28,\n",
       " 'value': 31337})"
      ]
     },
     "execution_count": 16,
     "metadata": {},
     "output_type": "execute_result"
    }
   ],
   "source": [
    "w3.eth.get_transaction(\"0x5c504ed432cb51138bcf09aa5e8a410dd4a1e204ef84bfed1be16dfba1b22060\")"
   ]
  },
  {
   "cell_type": "code",
   "execution_count": 17,
   "id": "86700f82",
   "metadata": {
    "ExecuteTime": {
     "end_time": "2022-12-24T08:52:45.652204Z",
     "start_time": "2022-12-24T08:52:45.550902Z"
    },
    "run_control": {
     "marked": true
    }
   },
   "outputs": [
    {
     "data": {
      "text/plain": [
       "AttributeDict({'blockHash': HexBytes('0x4e3a3754410177e6937ef1f84bba68ea139e8d1a2258c5f85db9f1cd715a1bdd'),\n",
       " 'blockNumber': 46147,\n",
       " 'contractAddress': None,\n",
       " 'cumulativeGasUsed': 21000,\n",
       " 'effectiveGasPrice': 50000000000000,\n",
       " 'from': '0xA1E4380A3B1f749673E270229993eE55F35663b4',\n",
       " 'gasUsed': 21000,\n",
       " 'logs': [],\n",
       " 'logsBloom': HexBytes('0x00000000000000000000000000000000000000000000000000000000000000000000000000000000000000000000000000000000000000000000000000000000000000000000000000000000000000000000000000000000000000000000000000000000000000000000000000000000000000000000000000000000000000000000000000000000000000000000000000000000000000000000000000000000000000000000000000000000000000000000000000000000000000000000000000000000000000000000000000000000000000000000000000000000000000000000000000000000000000000000000000000000000000000000000000000000'),\n",
       " 'root': '0x96a8e009d2b88b1483e6941e6812e32263b05683fac202abc622a3e31aed1957',\n",
       " 'to': '0x5DF9B87991262F6BA471F09758CDE1c0FC1De734',\n",
       " 'transactionHash': HexBytes('0x5c504ed432cb51138bcf09aa5e8a410dd4a1e204ef84bfed1be16dfba1b22060'),\n",
       " 'transactionIndex': 0,\n",
       " 'type': '0x0'})"
      ]
     },
     "execution_count": 17,
     "metadata": {},
     "output_type": "execute_result"
    }
   ],
   "source": [
    "# When a transaction is mined, one can get the receipt.\n",
    "w3.eth.get_transaction_receipt(\"0x5c504ed432cb51138bcf09aa5e8a410dd4a1e204ef84bfed1be16dfba1b22060\")"
   ]
  },
  {
   "cell_type": "markdown",
   "id": "b178a60d",
   "metadata": {},
   "source": [
    "### Contracts"
   ]
  },
  {
   "cell_type": "code",
   "execution_count": null,
   "id": "3b712b43",
   "metadata": {
    "ExecuteTime": {
     "end_time": "2022-12-23T01:46:42.708239Z",
     "start_time": "2022-12-23T01:46:42.660848Z"
    }
   },
   "outputs": [],
   "source": [
    "address = '0x1f9840a85d5aF5bf1D1762F925BDADdC4201F988'\n",
    "abi = '[{\"inputs\":[{\"internalType\":\"address\",\"name\":\"account\",\"type\":\"address\"},{\"internalType\":\"address\",\"name\":\"minter_\",\"type\":\"address\"},...'\n",
    "contract_instance = w3.eth.contract(address=address, abi=abi)"
   ]
  },
  {
   "cell_type": "markdown",
   "id": "2e97c09f",
   "metadata": {},
   "source": [
    "### Working with ERC20 token."
   ]
  },
  {
   "cell_type": "code",
   "execution_count": 68,
   "id": "54ca9dfe",
   "metadata": {
    "ExecuteTime": {
     "end_time": "2022-12-23T09:33:45.032627Z",
     "start_time": "2022-12-23T09:33:45.012531Z"
    }
   },
   "outputs": [],
   "source": [
    "# Address of OMG token.\n",
    "# https://etherscan.io/address/0xd26114cd6EE289AccF82350c8d8487fedB8A0C07\n",
    "address = \"0xd26114cd6EE289AccF82350c8d8487fedB8A0C07\"\n",
    "abi = json.loads('[{\"constant\":true,\"inputs\":[],\"name\":\"mintingFinished\",\"outputs\":[{\"name\":\"\",\"type\":\"bool\"}],\"payable\":false,\"type\":\"function\"},{\"constant\":true,\"inputs\":[],\"name\":\"name\",\"outputs\":[{\"name\":\"\",\"type\":\"string\"}],\"payable\":false,\"type\":\"function\"},{\"constant\":false,\"inputs\":[{\"name\":\"_spender\",\"type\":\"address\"},{\"name\":\"_value\",\"type\":\"uint256\"}],\"name\":\"approve\",\"outputs\":[],\"payable\":false,\"type\":\"function\"},{\"constant\":true,\"inputs\":[],\"name\":\"totalSupply\",\"outputs\":[{\"name\":\"\",\"type\":\"uint256\"}],\"payable\":false,\"type\":\"function\"},{\"constant\":false,\"inputs\":[{\"name\":\"_from\",\"type\":\"address\"},{\"name\":\"_to\",\"type\":\"address\"},{\"name\":\"_value\",\"type\":\"uint256\"}],\"name\":\"transferFrom\",\"outputs\":[],\"payable\":false,\"type\":\"function\"},{\"constant\":true,\"inputs\":[],\"name\":\"decimals\",\"outputs\":[{\"name\":\"\",\"type\":\"uint256\"}],\"payable\":false,\"type\":\"function\"},{\"constant\":false,\"inputs\":[],\"name\":\"unpause\",\"outputs\":[{\"name\":\"\",\"type\":\"bool\"}],\"payable\":false,\"type\":\"function\"},{\"constant\":false,\"inputs\":[{\"name\":\"_to\",\"type\":\"address\"},{\"name\":\"_amount\",\"type\":\"uint256\"}],\"name\":\"mint\",\"outputs\":[{\"name\":\"\",\"type\":\"bool\"}],\"payable\":false,\"type\":\"function\"},{\"constant\":true,\"inputs\":[],\"name\":\"paused\",\"outputs\":[{\"name\":\"\",\"type\":\"bool\"}],\"payable\":false,\"type\":\"function\"},{\"constant\":true,\"inputs\":[{\"name\":\"_owner\",\"type\":\"address\"}],\"name\":\"balanceOf\",\"outputs\":[{\"name\":\"balance\",\"type\":\"uint256\"}],\"payable\":false,\"type\":\"function\"},{\"constant\":false,\"inputs\":[],\"name\":\"finishMinting\",\"outputs\":[{\"name\":\"\",\"type\":\"bool\"}],\"payable\":false,\"type\":\"function\"},{\"constant\":false,\"inputs\":[],\"name\":\"pause\",\"outputs\":[{\"name\":\"\",\"type\":\"bool\"}],\"payable\":false,\"type\":\"function\"},{\"constant\":true,\"inputs\":[],\"name\":\"owner\",\"outputs\":[{\"name\":\"\",\"type\":\"address\"}],\"payable\":false,\"type\":\"function\"},{\"constant\":true,\"inputs\":[],\"name\":\"symbol\",\"outputs\":[{\"name\":\"\",\"type\":\"string\"}],\"payable\":false,\"type\":\"function\"},{\"constant\":false,\"inputs\":[{\"name\":\"_to\",\"type\":\"address\"},{\"name\":\"_value\",\"type\":\"uint256\"}],\"name\":\"transfer\",\"outputs\":[],\"payable\":false,\"type\":\"function\"},{\"constant\":false,\"inputs\":[{\"name\":\"_to\",\"type\":\"address\"},{\"name\":\"_amount\",\"type\":\"uint256\"},{\"name\":\"_releaseTime\",\"type\":\"uint256\"}],\"name\":\"mintTimelocked\",\"outputs\":[{\"name\":\"\",\"type\":\"address\"}],\"payable\":false,\"type\":\"function\"},{\"constant\":true,\"inputs\":[{\"name\":\"_owner\",\"type\":\"address\"},{\"name\":\"_spender\",\"type\":\"address\"}],\"name\":\"allowance\",\"outputs\":[{\"name\":\"remaining\",\"type\":\"uint256\"}],\"payable\":false,\"type\":\"function\"},{\"constant\":false,\"inputs\":[{\"name\":\"newOwner\",\"type\":\"address\"}],\"name\":\"transferOwnership\",\"outputs\":[],\"payable\":false,\"type\":\"function\"},{\"anonymous\":false,\"inputs\":[{\"indexed\":true,\"name\":\"to\",\"type\":\"address\"},{\"indexed\":false,\"name\":\"value\",\"type\":\"uint256\"}],\"name\":\"Mint\",\"type\":\"event\"},{\"anonymous\":false,\"inputs\":[],\"name\":\"MintFinished\",\"type\":\"event\"},{\"anonymous\":false,\"inputs\":[],\"name\":\"Pause\",\"type\":\"event\"},{\"anonymous\":false,\"inputs\":[],\"name\":\"Unpause\",\"type\":\"event\"},{\"anonymous\":false,\"inputs\":[{\"indexed\":true,\"name\":\"owner\",\"type\":\"address\"},{\"indexed\":true,\"name\":\"spender\",\"type\":\"address\"},{\"indexed\":false,\"name\":\"value\",\"type\":\"uint256\"}],\"name\":\"Approval\",\"type\":\"event\"},{\"anonymous\":false,\"inputs\":[{\"indexed\":true,\"name\":\"from\",\"type\":\"address\"},{\"indexed\":true,\"name\":\"to\",\"type\":\"address\"},{\"indexed\":false,\"name\":\"value\",\"type\":\"uint256\"}],\"name\":\"Transfer\",\"type\":\"event\"}]')\n",
    "\n",
    "contract = w3.eth.contract(address=address, abi=abi)"
   ]
  },
  {
   "cell_type": "code",
   "execution_count": 69,
   "id": "9c0e3628",
   "metadata": {
    "ExecuteTime": {
     "end_time": "2022-12-23T09:33:48.275177Z",
     "start_time": "2022-12-23T09:33:48.269498Z"
    }
   },
   "outputs": [
    {
     "data": {
      "text/plain": [
       "dict_keys(['abi', 'web3', 'address', '_functions', 'mintingFinished', 'name', 'approve', 'totalSupply', 'transferFrom', 'decimals', 'unpause', 'mint', 'paused', 'balanceOf', 'finishMinting', 'pause', 'owner', 'symbol', 'transfer', 'mintTimelocked', 'allowance', 'transferOwnership'])"
      ]
     },
     "execution_count": 69,
     "metadata": {},
     "output_type": "execute_result"
    }
   ],
   "source": [
    "# Print the functions available in this contract.\n",
    "contract.functions.__dict__.keys()"
   ]
  },
  {
   "cell_type": "code",
   "execution_count": 94,
   "id": "a629d427",
   "metadata": {
    "ExecuteTime": {
     "end_time": "2022-12-23T09:42:21.322739Z",
     "start_time": "2022-12-23T09:42:20.508221Z"
    }
   },
   "outputs": [
    {
     "name": "stdout",
     "output_type": "stream",
     "text": [
      "name= OMGToken\n",
      "symbol= OMG\n",
      "decimals= 18\n",
      "totalSupply= 140245398.245132780789239631\n",
      "totalSupply [eth] 140245398.24513277\n",
      "balance= 29658.3775824820233562\n"
     ]
    }
   ],
   "source": [
    "print(\"name=\", contract.functions.name().call())\n",
    "print(\"symbol=\", contract.functions.symbol().call())\n",
    "decimals = contract.functions.decimals().call()\n",
    "print(\"decimals=\", decimals)\n",
    "totalSupply = contract.functions.totalSupply().call()\n",
    "print(\"totalSupply=\", w3.fromWei(totalSupply, 'ether'))\n",
    "print(\"totalSupply [eth]\", totalSupply / 10 ** decimals)\n",
    "\n",
    "rich_account_addr_goerli = '0xd26114cd6EE289AccF82350c8d8487fedB8A0C07'\n",
    "balance = contract.functions.balanceOf(rich_account_addr_goerli).call()\n",
    "print(\"balance=\", w3.fromWei(balance, 'ether'))"
   ]
  },
  {
   "cell_type": "code",
   "execution_count": 107,
   "id": "a7796a54",
   "metadata": {
    "ExecuteTime": {
     "end_time": "2022-12-23T09:50:55.386137Z",
     "start_time": "2022-12-23T09:50:55.198108Z"
    }
   },
   "outputs": [
    {
     "data": {
      "text/plain": [
       "[]"
      ]
     },
     "execution_count": 107,
     "metadata": {},
     "output_type": "execute_result"
    }
   ],
   "source": [
    "contract.events.Transfer.createFilter(fromBlock=\"latest\").get_all_entries()"
   ]
  },
  {
   "cell_type": "code",
   "execution_count": 121,
   "id": "690407d2",
   "metadata": {
    "ExecuteTime": {
     "end_time": "2022-12-23T10:03:16.637341Z",
     "start_time": "2022-12-23T10:03:16.390287Z"
    }
   },
   "outputs": [
    {
     "name": "stdout",
     "output_type": "stream",
     "text": [
      "gas_estimate [units]= 54074\n",
      "gas_price [wei]= 37994730\n"
     ]
    },
    {
     "data": {
      "text/plain": [
       "Decimal('0.00308179054503000')"
      ]
     },
     "execution_count": 121,
     "metadata": {},
     "output_type": "execute_result"
    }
   ],
   "source": [
    "alice = '0x7E5F4552091A69125d5DfCb7b8C2659029395Bdf'\n",
    "bob = '0x2B5AD5c4795c026514f8317c7a215E218DcCD6cF'\n",
    "\n",
    "func = contract.functions.transfer(bob, 100)\n",
    "\n",
    "gas_estimate(w3, func)"
   ]
  },
  {
   "cell_type": "code",
   "execution_count": 131,
   "id": "fbe4fb16",
   "metadata": {
    "ExecuteTime": {
     "end_time": "2022-12-23T10:16:24.153030Z",
     "start_time": "2022-12-23T10:16:23.907917Z"
    }
   },
   "outputs": [
    {
     "name": "stdout",
     "output_type": "stream",
     "text": [
      "gas_estimate [units]= 54074\n",
      "gas_price [wei]= 12253427038\n",
      "gas_price [wei]= 12.253427038\n"
     ]
    },
    {
     "data": {
      "text/plain": [
       "Decimal('0.795110176383374400')"
      ]
     },
     "execution_count": 131,
     "metadata": {},
     "output_type": "execute_result"
    }
   ],
   "source": [
    "alice = '0x7E5F4552091A69125d5DfCb7b8C2659029395Bdf'\n",
    "bob = '0x2B5AD5c4795c026514f8317c7a215E218DcCD6cF'\n",
    "\n",
    "func = contract.functions.transfer(bob, 100)\n",
    "\n",
    "gas_estimate(w3, func)"
   ]
  },
  {
   "cell_type": "markdown",
   "id": "7c096450",
   "metadata": {},
   "source": [
    "# Ganache"
   ]
  },
  {
   "cell_type": "code",
   "execution_count": 31,
   "id": "a960d638",
   "metadata": {
    "ExecuteTime": {
     "end_time": "2022-12-23T09:14:15.062897Z",
     "start_time": "2022-12-23T09:14:15.056668Z"
    }
   },
   "outputs": [],
   "source": [
    "ganache_url = \"http://127.0.0.1:8545\"\n",
    "w3 = web3.Web3(web3.Web3.HTTPProvider(ganache_url))"
   ]
  },
  {
   "cell_type": "code",
   "execution_count": null,
   "id": "d7f5af62",
   "metadata": {},
   "outputs": [],
   "source": [
    "# Install private key.\n",
    "\n",
    "import os\n",
    "from eth_account import Account\n",
    "from eth_account.signers.local import LocalAccount\n",
    "from web3 import Web3, EthereumTesterProvider\n",
    "from web3.middleware import construct_sign_and_send_raw_middleware\n",
    "\n",
    "account_addr = \"0x90F8bf6A479f320ead074411a4B0e7944Ea8c9C1\"\n",
    "private_key = \"0x4f3edf983ac636a65a842ce7c78d9aa706d3b113bce9c46f30d7d21715b23b1d\"\n",
    "\n",
    "account: LocalAccount = Account.from_key(private_key)\n",
    "w3.middleware_onion.add(construct_sign_and_send_raw_middleware(account))\n",
    "\n",
    "print(f\"Your hot wallet address is {account.address}\")"
   ]
  },
  {
   "cell_type": "markdown",
   "id": "5f1e88de",
   "metadata": {},
   "source": [
    "## Deploy contract"
   ]
  },
  {
   "cell_type": "code",
   "execution_count": 64,
   "id": "82fdf5c4",
   "metadata": {
    "ExecuteTime": {
     "end_time": "2022-12-23T09:30:44.655378Z",
     "start_time": "2022-12-23T09:30:44.488173Z"
    }
   },
   "outputs": [
    {
     "name": "stdout",
     "output_type": "stream",
     "text": [
      "contract_id= <stdin>:StoreVar\n",
      "contract_interface= {'abi': [{'anonymous': False, 'inputs': [{'indexed': True, 'internalType': 'uint256', 'name': '_var', 'type': 'uint256'}], 'name': 'MyEvent', 'type': 'event'}, {'inputs': [], 'name': '_myVar', 'outputs': [{'internalType': 'uint8', 'name': '', 'type': 'uint8'}], 'stateMutability': 'view', 'type': 'function'}, {'inputs': [], 'name': 'getVar', 'outputs': [{'internalType': 'uint8', 'name': '', 'type': 'uint8'}], 'stateMutability': 'view', 'type': 'function'}, {'inputs': [{'internalType': 'uint8', 'name': '_var', 'type': 'uint8'}], 'name': 'setVar', 'outputs': [], 'stateMutability': 'nonpayable', 'type': 'function'}], 'bin': '608060405234801561001057600080fd5b506101dd806100206000396000f3fe608060405234801561001057600080fd5b50600436106100415760003560e01c806301ad4d8714610046578063477a5c9814610064578063edd89c0814610082575b600080fd5b61004e61009e565b60405161005b919061012e565b60405180910390f35b61006c6100af565b604051610079919061012e565b60405180910390f35b61009c6004803603810190610097919061017a565b6100c5565b005b60008054906101000a900460ff1681565b60008060009054906101000a900460ff16905090565b806000806101000a81548160ff021916908360ff1602179055508060ff167f6c2b4666ba8da5a95717621d879a77de725f3d816709b9cbe9f059b8f875e28460405160405180910390a250565b600060ff82169050919050565b61012881610112565b82525050565b6000602082019050610143600083018461011f565b92915050565b600080fd5b61015781610112565b811461016257600080fd5b50565b6000813590506101748161014e565b92915050565b6000602082840312156101905761018f610149565b5b600061019e84828501610165565b9150509291505056fea2646970667358221220eef1a2f617383015bd0b44038fffb838e32c12210ad0541725617c3ef3a17a7864736f6c63430008110033', 'bin-runtime': '608060405234801561001057600080fd5b50600436106100415760003560e01c806301ad4d8714610046578063477a5c9814610064578063edd89c0814610082575b600080fd5b61004e61009e565b60405161005b919061012e565b60405180910390f35b61006c6100af565b604051610079919061012e565b60405180910390f35b61009c6004803603810190610097919061017a565b6100c5565b005b60008054906101000a900460ff1681565b60008060009054906101000a900460ff16905090565b806000806101000a81548160ff021916908360ff1602179055508060ff167f6c2b4666ba8da5a95717621d879a77de725f3d816709b9cbe9f059b8f875e28460405160405180910390a250565b600060ff82169050919050565b61012881610112565b82525050565b6000602082019050610143600083018461011f565b92915050565b600080fd5b61015781610112565b811461016257600080fd5b50565b6000813590506101748161014e565b92915050565b6000602082840312156101905761018f610149565b5b600061019e84828501610165565b9150509291505056fea2646970667358221220eef1a2f617383015bd0b44038fffb838e32c12210ad0541725617c3ef3a17a7864736f6c63430008110033'}\n",
      "gas_estimate= 156205\n",
      "Deployed to 0x9b1f7F645351AF3631a656421eD2e40f2802E6c0\n"
     ]
    }
   ],
   "source": [
    "import sys\n",
    "import time\n",
    "import pprint\n",
    "\n",
    "#from web3.providers.eth_tester import EthereumTesterProvider\n",
    "from web3 import Web3\n",
    "#from eth_tester import PyEVMBackend\n",
    "import solcx\n",
    "\n",
    "\n",
    "def compile_source_file(file_path):\n",
    "    with open(file_path, 'r') as f:\n",
    "        source = f.read()\n",
    "    return solcx.compile_source(source)\n",
    "\n",
    "\n",
    "def deploy_contract(w3, account, contract_interface):\n",
    "    func = w3.eth.contract(\n",
    "        abi=contract_interface[\"abi\"],\n",
    "        bytecode=contract_interface[\"bin\"]).constructor()\n",
    "    #\n",
    "    gas_estimate = func.estimate_gas()\n",
    "    print(\"gas_estimate=\", gas_estimate) \n",
    "    #\n",
    "    tx_hash = func.transact({\"from\": account})\n",
    "    address = w3.eth.get_transaction_receipt(tx_hash)[\"contractAddress\"]\n",
    "    return address\n",
    "\n",
    "\n",
    "source = \"\"\"\n",
    "// SPDX-License-Identifier: MIT\n",
    "pragma solidity ^0.8.17;\n",
    "\n",
    "contract StoreVar {\n",
    "    uint8 public _myVar;\n",
    "    event MyEvent(uint indexed _var);\n",
    "\n",
    "    function setVar(uint8 _var) public {\n",
    "        _myVar = _var;\n",
    "        emit MyEvent(_var);\n",
    "    }\n",
    "\n",
    "    function getVar() public view returns (uint8) {\n",
    "        return _myVar;\n",
    "    }\n",
    "}\n",
    "\"\"\"\n",
    "\n",
    "contract_path = \"contract.sol\"\n",
    "with open(contract_path, \"w\") as f:\n",
    "    f.write(source)\n",
    "compiled_sol = solcx.compile_source(\n",
    "    source, output_values=[\"abi\", \"bin\", \"bin-runtime\"])\n",
    "contract_id, contract_interface = compiled_sol.popitem()\n",
    "\n",
    "print(\"contract_id=\", contract_id)\n",
    "print(\"contract_interface=\", contract_interface)\n",
    "\n",
    "address = deploy_contract(w3, account_addr, contract_interface)\n",
    "print(\"Deployed to\", address)"
   ]
  },
  {
   "cell_type": "code",
   "execution_count": 60,
   "id": "0d5f13d1",
   "metadata": {
    "ExecuteTime": {
     "end_time": "2022-12-23T09:29:29.458902Z",
     "start_time": "2022-12-23T09:29:29.268974Z"
    }
   },
   "outputs": [
    {
     "name": "stdout",
     "output_type": "stream",
     "text": [
      "gas_estimate= 26093\n",
      "{'blockHash': HexBytes('0x734ec1d47a4dfe18fdb5e999412bbc7f1ca08ad8c92cd477f32e0d07f8539c2c'),\n",
      " 'blockNumber': 9,\n",
      " 'contractAddress': None,\n",
      " 'cumulativeGasUsed': 27866,\n",
      " 'effectiveGasPrice': 1302415189,\n",
      " 'from': '0x90F8bf6A479f320ead074411a4B0e7944Ea8c9C1',\n",
      " 'gasUsed': 27866,\n",
      " 'logs': [AttributeDict({'address': '0xCfEB869F69431e42cdB54A4F4f105C19C080A601', 'blockHash': HexBytes('0x734ec1d47a4dfe18fdb5e999412bbc7f1ca08ad8c92cd477f32e0d07f8539c2c'), 'blockNumber': 9, 'data': '0x', 'logIndex': 0, 'removed': False, 'topics': [HexBytes('0x6c2b4666ba8da5a95717621d879a77de725f3d816709b9cbe9f059b8f875e284'), HexBytes('0x0000000000000000000000000000000000000000000000000000000000000080')], 'transactionHash': HexBytes('0x2771f2e215d51f6c33476b9ca3597b723aacea936af6b7820a3cad64583830f9'), 'transactionIndex': 0})],\n",
      " 'logsBloom': HexBytes('0x00000000000000000000000000000000000000000000000000000000000000000000000000000002000000000000000000000000000000000000000020000000000000000000000000000000000000000000000000000000000000000000000000000000000000000000000000000000000008000000000000000000000000000000000000000000000000000000000000000000000000000000000000000020000000000000000000000000000000000000000000000004000000000000000000080000400000000000000000000000000000000000000000400000001000000000000000000000000000000000000000000000000000000000000000000000'),\n",
      " 'status': 1,\n",
      " 'to': '0xCfEB869F69431e42cdB54A4F4f105C19C080A601',\n",
      " 'transactionHash': HexBytes('0x2771f2e215d51f6c33476b9ca3597b723aacea936af6b7820a3cad64583830f9'),\n",
      " 'transactionIndex': 0,\n",
      " 'type': '0x2'}\n",
      "Status= 1\n"
     ]
    }
   ],
   "source": [
    "contract = w3.eth.contract(address=address, abi=contract_interface[\"abi\"])\n",
    "gas_estimate = contract.functions.setVar(255).estimate_gas()\n",
    "print(\"gas_estimate=\", gas_estimate)\n",
    "\n",
    "# setVar.\n",
    "tx_hash = contract.functions.setVar(128).transact({\"from\": account_addr})\n",
    "receipt = w3.eth.wait_for_transaction_receipt(tx_hash)\n",
    "pprint.pprint(dict(receipt))\n",
    "print(\"Status=\", receipt[\"status\"])"
   ]
  },
  {
   "cell_type": "code",
   "execution_count": 62,
   "id": "006b48cd",
   "metadata": {
    "ExecuteTime": {
     "end_time": "2022-12-23T09:29:34.757612Z",
     "start_time": "2022-12-23T09:29:34.716598Z"
    }
   },
   "outputs": [
    {
     "name": "stdout",
     "output_type": "stream",
     "text": [
      "gas_estimate= 23543\n"
     ]
    },
    {
     "data": {
      "text/plain": [
       "128"
      ]
     },
     "execution_count": 62,
     "metadata": {},
     "output_type": "execute_result"
    }
   ],
   "source": [
    "# Execute read.\n",
    "gas_estimate = contract.functions.getVar().estimate_gas()\n",
    "print(\"gas_estimate=\", gas_estimate)\n",
    "\n",
    "contract.functions.getVar().call()"
   ]
  },
  {
   "cell_type": "code",
   "execution_count": 20,
   "id": "4a0591c1",
   "metadata": {
    "ExecuteTime": {
     "end_time": "2022-12-23T09:01:36.372690Z",
     "start_time": "2022-12-23T09:01:36.221184Z"
    }
   },
   "outputs": [
    {
     "name": "stdout",
     "output_type": "stream",
     "text": [
      "Compiler run successful, no output requested.\r\n"
     ]
    }
   ],
   "source": [
    "#!solc contract.sol"
   ]
  },
  {
   "cell_type": "markdown",
   "id": "c8be69b1",
   "metadata": {},
   "source": [
    "## Transfers"
   ]
  },
  {
   "cell_type": "code",
   "execution_count": null,
   "id": "ef45b711",
   "metadata": {
    "ExecuteTime": {
     "end_time": "2022-12-18T15:16:46.658340Z",
     "start_time": "2022-12-18T15:16:46.617028Z"
    }
   },
   "outputs": [],
   "source": [
    "account1 = \"0x90F8bf6A479f320ead074411a4B0e7944Ea8c9C1\"\n",
    "account2 = \"0xFFcf8FDEE72ac11b5c542428B35EEF5769C409f0\"\n",
    "\n",
    "priv_key1 = \"0x4f3edf983ac636a65a842ce7c78d9aa706d3b113bce9c46f30d7d21715b23b1d\"\n",
    "\n",
    "# Send Eth from account1 to 2.\n",
    "nonce = web3.eth.getTransactionCount(account1)\n",
    "print(\"nonce=\", nonce)\n",
    "\n",
    "tx = {\n",
    "    'nonce': nonce,\n",
    "    'to': account2,\n",
    "    'value': web3.toWei(1, 'ether'),\n",
    "    # Gas limit.\n",
    "    'gas': int(2e6),\n",
    "    'gasPrice': web3.toWei('50', 'gwei')\n",
    "}\n",
    "print(\"tx=\", tx)\n",
    "\n",
    "signed_tx = web3.eth.account.signTransaction(tx, priv_key1)\n",
    "print(\"signed_tx=\", signed_tx)\n",
    "\n",
    "tx_hash = web3.eth.sendRawTransaction(signed_tx.rawTransaction)\n",
    "print(\"tx_hash=\", tx_hash)"
   ]
  },
  {
   "cell_type": "code",
   "execution_count": null,
   "id": "2e52b3c5",
   "metadata": {
    "ExecuteTime": {
     "end_time": "2022-12-18T15:18:49.910284Z",
     "start_time": "2022-12-18T15:18:49.900682Z"
    }
   },
   "outputs": [],
   "source": [
    "print(web3.eth.block_number)"
   ]
  },
  {
   "cell_type": "code",
   "execution_count": null,
   "id": "889dc9ac",
   "metadata": {
    "ExecuteTime": {
     "end_time": "2022-12-18T15:19:05.503219Z",
     "start_time": "2022-12-18T15:19:05.485241Z"
    }
   },
   "outputs": [],
   "source": [
    "print(web3.eth.get_balance(account1))\n",
    "print(web3.eth.get_balance(account2))"
   ]
  }
 ],
 "metadata": {
  "kernelspec": {
   "display_name": "Python 3 (ipykernel)",
   "language": "python",
   "name": "python3"
  },
  "language_info": {
   "codemirror_mode": {
    "name": "ipython",
    "version": 3
   },
   "file_extension": ".py",
   "mimetype": "text/x-python",
   "name": "python",
   "nbconvert_exporter": "python",
   "pygments_lexer": "ipython3",
   "version": "3.10.6"
  },
  "toc": {
   "base_numbering": 1,
   "nav_menu": {},
   "number_sections": true,
   "sideBar": true,
   "skip_h1_title": false,
   "title_cell": "Table of Contents",
   "title_sidebar": "Contents",
   "toc_cell": false,
   "toc_position": {},
   "toc_section_display": true,
   "toc_window_display": true
  }
 },
 "nbformat": 4,
 "nbformat_minor": 5
}
