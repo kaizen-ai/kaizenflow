{
 "cells": [
  {
   "cell_type": "code",
   "execution_count": 1,
   "id": "59167ed2-125e-4376-9ea0-8f037cd8858c",
   "metadata": {},
   "outputs": [],
   "source": [
    "import requests\n",
    "import json"
   ]
  },
  {
   "cell_type": "markdown",
   "id": "6e752bfb",
   "metadata": {},
   "source": [
    "## Creating a user"
   ]
  },
  {
   "cell_type": "code",
   "execution_count": 2,
   "id": "4c8bdb66-6885-4668-a535-b20f8a7f9564",
   "metadata": {},
   "outputs": [
    {
     "name": "stdout",
     "output_type": "stream",
     "text": [
      "Failed to create User: {\n",
      "  \"message\": \"User registered successfully\",\n",
      "  \"user_id\": \"788ed94925c384a87a8dc866a71c061e\"\n",
      "}\n",
      "\n"
     ]
    }
   ],
   "source": [
    "# Registration\n",
    "user_data = {\n",
    "    'username': 'Test User',\n",
    "    'email': 'testuser@test.com',\n",
    "    'password': 'MockPassword'\n",
    "}\n",
    "response = requests.post('http://flask-app:5000/register', json=user_data)\n",
    "\n",
    "# Check if the request was successful\n",
    "if response.status_code == 200:\n",
    "    print('User created successfully!')\n",
    "    \n",
    "    # Print the task data returned by the server\n",
    "    print('User:', response.json())\n",
    "else:\n",
    "    print('Failed to create User:', response.text)"
   ]
  },
  {
   "cell_type": "markdown",
   "id": "5f9b1b16",
   "metadata": {},
   "source": [
    "## Logging in a user"
   ]
  },
  {
   "cell_type": "code",
   "execution_count": 5,
   "id": "c7ad26df-8545-46cd-ab58-774d13334374",
   "metadata": {},
   "outputs": [
    {
     "name": "stdout",
     "output_type": "stream",
     "text": [
      "User: {'message': 'Login successful', 'user_id': '788ed94925c384a87a8dc866a71c061e'}\n"
     ]
    }
   ],
   "source": [
    "# Logging in a user\n",
    "user_data = {\n",
    "    'username': 'Test User',\n",
    "    'password': 'MockPassword'\n",
    "}\n",
    "response = requests.post('http://flask-app:5000/login', json=user_data)\n",
    "# Check if the request was successful\n",
    "if response.status_code == 200:\n",
    "    user_id = response.json()['user_id']\n",
    "    print('User:', response.json())\n",
    "else:\n",
    "    print('Failed to create User:', response.text)"
   ]
  },
  {
   "cell_type": "markdown",
   "id": "9c1cba5d",
   "metadata": {},
   "source": [
    "# Creating a Task"
   ]
  },
  {
   "cell_type": "code",
   "execution_count": 6,
   "id": "264f3406-e995-4ee7-a8c8-631dbcfb39c9",
   "metadata": {},
   "outputs": [
    {
     "name": "stdout",
     "output_type": "stream",
     "text": [
      "Task created successfully!\n",
      "Task: {'message': 'Task assigned successfully', 'task_details': {'assigned_to': '788ed94925c384a87a8dc866a71c061e', 'category': 'school', 'deadline': '05/10/2024', 'status': 'pending', 'task_description': 'This is a sample task description', 'task_name': 'SampleTask'}, 'task_id': '62bb48ca480036ca738f00e0109c4b44'}\n"
     ]
    }
   ],
   "source": [
    "# Creating a new task\n",
    "task_data = {\n",
    "    'user_id': user_id,\n",
    "    'task_name': 'SampleTask',\n",
    "    'task_description': 'This is a sample task description',\n",
    "    'deadline': '05/10/2024',\n",
    "    'category': 'school'\n",
    "}\n",
    "\n",
    "response = requests.post('http://flask-app:5000/tasks', json=task_data)\n",
    "\n",
    "# Check if the request was successful\n",
    "if response.status_code == 201:\n",
    "    print('Task created successfully!')\n",
    "    # Print the task data returned by the server\n",
    "    print('Task:', response.json())\n",
    "else:\n",
    "    print('Failed to create task:', response.text)"
   ]
  },
  {
   "cell_type": "markdown",
   "id": "3c05bf94",
   "metadata": {},
   "source": [
    "## Getting all tasks for a given user"
   ]
  },
  {
   "cell_type": "code",
   "execution_count": 7,
   "id": "74af5b2d-2559-43da-9cdc-17a9b9dbf02d",
   "metadata": {},
   "outputs": [
    {
     "name": "stdout",
     "output_type": "stream",
     "text": [
      "All tasks: {'user_tasks': [{'category': 'school', 'deadline': '05/10/2024', 'status': 'pending', 'task_description': 'This is a sample task description', 'task_id': '62bb48ca480036ca738f00e0109c4b44', 'task_name': 'SampleTask'}]}\n"
     ]
    }
   ],
   "source": [
    "# Getting all of the task\n",
    "response = requests.get(f'http://flask-app:5000/tasks/{user_id}')\n",
    "\n",
    "if response.status_code == 201:\n",
    "    tasks = response.json()\n",
    "    task_ids = [task['task_id'] for task in tasks['user_tasks']]\n",
    "    print('All tasks:', tasks)\n",
    "else:\n",
    "    print('Failed to get tasks:', response.text)"
   ]
  },
  {
   "cell_type": "code",
   "execution_count": 8,
   "id": "0ae5dc94-6686-4da8-9f64-b49c727d9151",
   "metadata": {},
   "outputs": [],
   "source": [
    "task_id = task_ids[0]"
   ]
  },
  {
   "cell_type": "markdown",
   "id": "1e398817",
   "metadata": {},
   "source": [
    "## Getting a single task for a given user"
   ]
  },
  {
   "cell_type": "code",
   "execution_count": 9,
   "id": "4b21c7bd-e3a1-42a1-a3ac-cbe74872cb12",
   "metadata": {},
   "outputs": [
    {
     "name": "stdout",
     "output_type": "stream",
     "text": [
      "Task: {'category': 'school', 'deadline': '05/10/2024', 'status': 'pending', 'task_description': 'This is a sample task description', 'task_id': '62bb48ca480036ca738f00e0109c4b44', 'task_name': 'SampleTask'}\n"
     ]
    }
   ],
   "source": [
    "# Getting a single task using the task id\n",
    "response = requests.get(f'http://flask-app:5000/tasks/{user_id}/SampleTask')\n",
    "\n",
    "# Check if the request was successful\n",
    "if response.status_code == 200:\n",
    "    # Print the task data returned by the server\n",
    "    print('Task:', response.json())\n",
    "else:\n",
    "    print('Failed to retrieve task:', response.text)"
   ]
  },
  {
   "cell_type": "markdown",
   "id": "2d49d04a",
   "metadata": {},
   "source": [
    "## Getting a task by category"
   ]
  },
  {
   "cell_type": "code",
   "execution_count": 10,
   "id": "56224dc3-399a-40e8-a3ba-441dee9e607e",
   "metadata": {},
   "outputs": [
    {
     "name": "stdout",
     "output_type": "stream",
     "text": [
      "Task: {'tasks_in_category': [{'deadline': '05/10/2024', 'status': 'pending', 'task_description': 'This is a sample task description', 'task_id': '62bb48ca480036ca738f00e0109c4b44', 'task_name': 'SampleTask'}]}\n"
     ]
    }
   ],
   "source": [
    "# Getting a single task using the task id\n",
    "response = requests.get(f'http://flask-app:5000/tasks/category/school')\n",
    "\n",
    "# Check if the request was successful\n",
    "if response.status_code == 200:\n",
    "    # Print the task data returned by the server\n",
    "    print('Task:', response.json())\n",
    "else:\n",
    "    print('Failed to retrieve task:', response.text)"
   ]
  },
  {
   "cell_type": "markdown",
   "id": "d5fba5e0-bebd-4cce-bd2b-eed9728a9054",
   "metadata": {},
   "source": [
    "## Updating a task"
   ]
  },
  {
   "cell_type": "code",
   "execution_count": 11,
   "id": "7c9bceae-ced7-4df8-8878-c1b060ff35fd",
   "metadata": {},
   "outputs": [
    {
     "name": "stdout",
     "output_type": "stream",
     "text": [
      "Task updated successfully.\n"
     ]
    }
   ],
   "source": [
    "# Updating a task\n",
    "updated_task_data = {\n",
    "    'task_name': 'Updated Task Name',\n",
    "    'task_description': 'Updated task description',\n",
    "    'status': 'completed',\n",
    "    'deadline': '05/10/2024',\n",
    "    'category': 'school'\n",
    "}\n",
    "\n",
    "response = requests.put(f'http://flask-app:5000/tasks/{task_id}', json=updated_task_data)\n",
    "\n",
    "if response.status_code == 200:\n",
    "    print(\"Task updated successfully.\")\n",
    "else:\n",
    "    print(\"Failed to update task:\", response.json()['error'])"
   ]
  },
  {
   "cell_type": "markdown",
   "id": "abf5a57e",
   "metadata": {},
   "source": [
    "## Deleting a Task"
   ]
  },
  {
   "cell_type": "code",
   "execution_count": 12,
   "id": "3176c095-ec92-4906-9282-e5c29d9a39e8",
   "metadata": {},
   "outputs": [
    {
     "name": "stdout",
     "output_type": "stream",
     "text": [
      "Task: {'message': 'Task deleted successfully'}\n"
     ]
    }
   ],
   "source": [
    "# Deleting a task\n",
    "response = requests.delete(f'http://flask-app:5000/tasks/{task_id}')\n",
    "\n",
    "# Check if the request was successful\n",
    "if response.status_code == 200:\n",
    "    # Print the task data returned by the server\n",
    "    print('Task:', response.json())\n",
    "else:\n",
    "    print('Failed to retrieve task:', response.text)"
   ]
  }
 ],
 "metadata": {
  "kernelspec": {
   "display_name": "Python 3 (ipykernel)",
   "language": "python",
   "name": "python3"
  },
  "language_info": {
   "codemirror_mode": {
    "name": "ipython",
    "version": 3
   },
   "file_extension": ".py",
   "mimetype": "text/x-python",
   "name": "python",
   "nbconvert_exporter": "python",
   "pygments_lexer": "ipython3",
   "version": "3.11.6"
  }
 },
 "nbformat": 4,
 "nbformat_minor": 5
}
