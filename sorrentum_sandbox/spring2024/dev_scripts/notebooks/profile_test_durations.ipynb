{
 "cells": [
  {
   "cell_type": "markdown",
   "id": "46b7e2e1",
   "metadata": {},
   "source": [
    "# Description"
   ]
  },
  {
   "cell_type": "markdown",
   "id": "1370a7fd",
   "metadata": {},
   "source": [
    "Profile tests durations for test list."
   ]
  },
  {
   "cell_type": "markdown",
   "id": "67db3906",
   "metadata": {},
   "source": [
    "# Imports"
   ]
  },
  {
   "cell_type": "code",
   "execution_count": 1,
   "id": "35c13bc0",
   "metadata": {
    "ExecuteTime": {
     "end_time": "2021-12-01T22:16:44.588122Z",
     "start_time": "2021-12-01T22:16:44.155600Z"
    }
   },
   "outputs": [],
   "source": [
    "import logging\n",
    "import re\n",
    "\n",
    "import matplotlib.pyplot as plt\n",
    "\n",
    "import helpers.hdbg as hdbg\n",
    "import helpers.henv as henv\n",
    "import helpers.hio as hio\n",
    "import helpers.hprint as hprint"
   ]
  },
  {
   "cell_type": "code",
   "execution_count": 2,
   "id": "99d03c4b",
   "metadata": {
    "ExecuteTime": {
     "end_time": "2021-12-01T22:16:46.440818Z",
     "start_time": "2021-12-01T22:16:44.590819Z"
    }
   },
   "outputs": [
    {
     "name": "stdout",
     "output_type": "stream",
     "text": [
      "\u001b[0m\u001b[36mINFO\u001b[0m: > cmd='/venv/lib/python3.8/site-packages/ipykernel_launcher.py -f /home/.local/share/jupyter/runtime/kernel-4aaa5ec0-0f3d-44a8-820f-d29487c6ad24.json'\n",
      "\u001b[33mWARNING\u001b[0m: Running in Jupyter\n",
      ">>ENV<<: is_inside_container=True: code_version=cmamp-1.0.0, container_version=cmamp-1.0.0, is_inside_docker=True, is_inside_ci=False, CI_defined=True, CI=''\n",
      ">>ENV<<: AM_AWS_PROFILE=True AM_ECR_BASE_PATH=True AM_S3_BUCKET=True AM_TELEGRAM_TOKEN=True AWS_ACCESS_KEY_ID=False AWS_DEFAULT_REGION=False AWS_SECRET_ACCESS_KEY=False GH_ACTION_ACCESS_TOKEN=True\n",
      "# Git\n",
      "    branch_name='CmTask640_Measure_duration_of_the_tests'\n",
      "    hash='81169d525'\n",
      "    # Last commits:\n",
      "      * 81169d525 julias   CmTask640: Add test category to plot title                        (   5 hours ago) Wed Dec 1 17:41:09 2021  (HEAD -> CmTask640_Measure_duration_of_the_tests, origin/CmTask640_Measure_duration_of_the_tests)\n",
      "      * 471f2d227 julias   CMTask640: Profile tests by category                              (   5 hours ago) Wed Dec 1 17:36:07 2021           \n",
      "      * fe0cd5572 Julia    CMTask391: Fix calls to run_fast_tests, run_slow_tests after merge (   5 hours ago) Wed Dec 1 17:21:55 2021  (origin/CMTask391_Add_limit_to_test_duration, CMTask391_Add_limit_to_test_duration)\n",
      "# Machine info\n",
      "    system=Linux\n",
      "    node name=9258941a3581\n",
      "    release=5.4.0-1057-aws\n",
      "    version=#60~18.04.1-Ubuntu SMP Thu Sep 9 20:38:09 UTC 2021\n",
      "    machine=x86_64\n",
      "    processor=x86_64\n",
      "    cpu count=4\n",
      "    cpu freq=scpufreq(current=2499.998, min=0.0, max=0.0)\n",
      "    memory=svmem(total=16596852736, available=6584856576, percent=60.3, used=9620447232, free=1179090944, active=11071164416, inactive=2945417216, buffers=441610240, cached=5355704320, shared=54628352, slab=1123217408)\n",
      "    disk usage=sdiskusage(total=133167038464, used=66060378112, free=67089883136, percent=49.6)\n",
      "# Packages\n",
      "    python: 3.8.10\n",
      "    gluonnlp: ?\n",
      "    gluonts: 0.6.7\n",
      "    joblib: 1.0.1\n",
      "    mxnet: 1.8.0\n",
      "    numpy: 1.21.1\n",
      "    pandas: 1.3.3\n",
      "    pyarrow: 5.0.0\n",
      "    scipy: 1.6.1\n",
      "    seaborn: 0.11.2\n",
      "    sklearn: 1.0\n",
      "    statsmodels: 0.12.2\n",
      "\u001b[33mWARNING\u001b[0m: Disabling annoying warnings\n"
     ]
    }
   ],
   "source": [
    "hdbg.init_logger(verbosity=logging.INFO)\n",
    "\n",
    "_LOG = logging.getLogger(__name__)\n",
    "\n",
    "_LOG.info(\"%s\", henv.get_system_signature()[0])\n",
    "\n",
    "hprint.config_notebook()"
   ]
  },
  {
   "cell_type": "code",
   "execution_count": 3,
   "id": "8a8b27e7",
   "metadata": {
    "ExecuteTime": {
     "end_time": "2021-12-01T22:16:46.445533Z",
     "start_time": "2021-12-01T22:16:46.442591Z"
    }
   },
   "outputs": [],
   "source": [
    "# `test_list_name` can be \"fast_tests\", \"slow_tests\", \"superslow_tests\",\n",
    "# and \"fast_slow_tests\".\n",
    "\n",
    "config = {\"test_list_name\": \"fast_slow_tests\"}"
   ]
  },
  {
   "cell_type": "markdown",
   "id": "e2f1abe9",
   "metadata": {},
   "source": [
    "# Functions"
   ]
  },
  {
   "cell_type": "code",
   "execution_count": 4,
   "id": "33da7bf3",
   "metadata": {
    "ExecuteTime": {
     "end_time": "2021-12-01T22:16:46.451939Z",
     "start_time": "2021-12-01T22:16:46.448241Z"
    }
   },
   "outputs": [],
   "source": [
    "def get_profiling_command(test_list_name: str):\n",
    "    \"\"\"\n",
    "    Get command for profiling selected test type.\n",
    "\n",
    "    Output command needs to be run from the command line outside the\n",
    "    notebook and container.\n",
    "    \"\"\"\n",
    "    hdbg.dassert_in(\n",
    "        test_list_name,\n",
    "        [\"fast_tests\", \"slow_tests\", \"superslow_tests\", \"fast_slow_tests\"],\n",
    "    )\n",
    "    command = f\"invoke run_{test_list_name} -p 'dev_scripts --durations 0' 2>&1 | tee tmp.{test_list_name}_profile.txt\"\n",
    "    return command"
   ]
  },
  {
   "cell_type": "markdown",
   "id": "b03d600b",
   "metadata": {},
   "source": [
    "# Profile"
   ]
  },
  {
   "cell_type": "code",
   "execution_count": 5,
   "id": "0caa80c3",
   "metadata": {
    "ExecuteTime": {
     "end_time": "2021-12-01T22:16:46.457884Z",
     "start_time": "2021-12-01T22:16:46.453756Z"
    },
    "scrolled": true
   },
   "outputs": [
    {
     "name": "stdout",
     "output_type": "stream",
     "text": [
      "invoke run_fast_slow_tests -p 'dev_scripts --durations 0' 2>&1 | tee tmp.fast_slow_tests_profile.txt\n"
     ]
    }
   ],
   "source": [
    "print(get_profiling_command(config[\"test_list_name\"]))"
   ]
  },
  {
   "cell_type": "markdown",
   "id": "0dafe2a0",
   "metadata": {},
   "source": [
    "You need to post this command to the terminal and wait for the tests to pass."
   ]
  },
  {
   "cell_type": "code",
   "execution_count": 6,
   "id": "a0307eaa",
   "metadata": {
    "ExecuteTime": {
     "end_time": "2021-12-01T22:16:46.462894Z",
     "start_time": "2021-12-01T22:16:46.459943Z"
    }
   },
   "outputs": [],
   "source": [
    "test_output = hio.from_file(f\"/app/tmp.{config['test_list_name']}_profile.txt\")"
   ]
  },
  {
   "cell_type": "code",
   "execution_count": 7,
   "id": "0342da9b",
   "metadata": {
    "ExecuteTime": {
     "end_time": "2021-12-01T22:16:46.469259Z",
     "start_time": "2021-12-01T22:16:46.465221Z"
    }
   },
   "outputs": [
    {
     "name": "stdout",
     "output_type": "stream",
     "text": [
      "\u001b[0m\u001b[36mINFO\u001b[0m: > cmd='/data/julias/src/venv/amp.client_venv/bin/invoke run_fast_slow_tests --stage local -p dev_scripts --durations 0'\n",
      ">>ENV<<: is_inside_container=False: code_version=None, container_version=None, is_inside_docker=False, is_inside_ci=False, CI_defined=False, CI='nan'\n",
      ">>ENV<<: AM_AWS_PROFILE=True AM_ECR_BASE_PATH=True AM_S3_BUCKET=True AM_TELEGRAM_TOKEN=True AWS_ACCESS_KEY_ID=False AWS_DEFAULT_REGION=False AWS_SECRET_ACCESS_KEY=False GH_ACTION_ACCESS_TOKEN=False\n",
      ">>ENV<<: is_inside_container=False: code_version=None, container_version=None, is_inside_docker=False, is_inside_ci=False, CI_defined=False, CI='nan'\n",
      ">>ENV<<: AM_AWS_PROFILE=True AM_ECR_BASE_PATH=True AM_S3_BUCKET=True AM_TELEGRAM_TOKEN=True AWS_ACCESS_KEY_ID=False AWS_DEFAULT_REGION=False AWS_SECRET_ACCESS_KEY=False GH_ACTION_ACCESS_TOKEN=False\n",
      "\u001b[95m## run_fast_slow_tests: \u001b[0m\n",
      "\u001b[95m## run_fast_tests: \u001b[0m\n",
      "12:20:36 \u001b[36mINFO \u001b[0m lib_tasks           : _run_test_cmd                 : 2197: cmd=IMAGE=665840871993.dkr.ecr.us-east-1.amazonaws.com/cmamp:local-julias \\\n",
      "        docker-compose \\\n",
      "        --file /data/julias/src/cmamp1/devops/compose/docker-compose.yml \\\n",
      "        --env-file devops/env/default.env \\\n",
      "        run \\\n",
      "        --rm \\\n",
      "        --user $(id -u):$(id -g) \\\n",
      "        app \\\n",
      "        'pytest -m \"not slow and not superslow\" dev_scripts --durations 0 --timeout 5' \n",
      "  ==> The AM_PUBLISH_NOTEBOOK_LOCAL_PATH variable is not set. Defaulting to a blank string.\n",
      "  ==> The AWS_ACCESS_KEY_ID variable is not set. Defaulting to a blank string.\n",
      "  ==> The AWS_DEFAULT_REGION variable is not set. Defaulting to a blank string.\n",
      "  ==> The AWS_SECRET_ACCESS_KEY variable is not set. Defaulting to a blank string.\n",
      "  ==> Found orphan containers (compose_im_app_1, compose_im_postgres_local_1) for this project. If you removed or renamed this service in your compose file, you can run this command with the --remove-orphans flag to clean it up.\n",
      "  ==> Creating compose_app_run ... \n",
      "  ==> Creating compose_app_run ... done\n",
      "  ==> ##> devops/docker_run/entrypoint.sh\n",
      "  ==> UID=1011\n",
      "  ==> GID=1011\n",
      "  ==> # Activate environment\n",
      "  ==> ##> devops/docker_run/setenv.sh\n",
      "  ==> # Set PATH\n",
      "  ==> PATH=/app/documentation/scripts:/app/dev_scripts/testing:/app/dev_scripts/notebooks:/app/dev_scripts/install:/app/dev_scripts/infra:/app/dev_scripts/git:/app/dev_scripts/aws:/app/dev_scripts:/app:.:/venv/bin:/usr/local/sbin:/usr/local/bin:/usr/sbin:/usr/bin:/sbin:/bin\n",
      "  ==> # Set PYTHONPATH\n",
      "  ==> PYTHONPATH=/app:\n",
      "  ==> # Configure env\n",
      "  ==> Testing sudo\n",
      "  ==> /app\n",
      "  ==> Setting up Docker\n",
      "  ==> { \"storage-driver\": \"vfs\" }\n",
      "  ==>  * Starting Docker: docker       \u001b[80G \n",
      "\u001b[74G[ OK ]\n",
      "  ==>  * Docker is running\n",
      "  ==> # Check AWS authentication setup\n",
      "  ==>       Name                    Value             Type    Location\n",
      "  ==>       ----                    -----             ----    --------\n",
      "  ==>    profile                       am           manual    --profile\n",
      "  ==> access_key     ****************PHQL shared-credentials-file    \n",
      "  ==> secret_key     ****************DleP shared-credentials-file    \n",
      "  ==>     region                us-east-1      config-file    ~/.aws/config\n",
      "  ==> CONTAINER_VERSION=''\n",
      "  ==> BUILD_TAG=''\n",
      "  ==> which python: /venv/bin/python\n",
      "  ==> python -V: Python 3.8.10\n",
      "  ==> docker -v: Docker version 20.10.11, build dea9396\n",
      "  ==> docker-compose -v: docker-compose version 1.25.0, build unknown\n",
      "  ==> PATH=/app/documentation/scripts:/app/dev_scripts/testing:/app/dev_scripts/notebooks:/app/dev_scripts/install:/app/dev_scripts/infra:/app/dev_scripts/git:/app/dev_scripts/aws:/app/dev_scripts:/app:.:/venv/bin:/usr/local/sbin:/usr/local/bin:/usr/sbin:/usr/bin:/sbin:/bin\n",
      "  ==> PYTHONPATH=/app:\n",
      "  ==> entrypoint.sh: 'pytest -m \"not slow and not superslow\" dev_scripts --durations 0 --timeout 5'\n",
      "  ==> \u001b[1m============================= test session starts ==============================\u001b[0m\n",
      "  ==> platform linux -- Python 3.8.10, pytest-6.2.5, py-1.10.0, pluggy-1.0.0 -- /venv/bin/python3\n",
      "  ==> cachedir: .pytest_cache\n",
      "  ==> rootdir: /app, configfile: pytest.ini\n",
      "  ==> plugins: flaky-3.7.0, forked-1.3.0, instafail-0.4.2, cov-2.12.1, xdist-2.4.0, timeout-2.0.1\n",
      "  ==> timeout: 5.0s\n",
      "  ==> timeout method: signal\n",
      "  ==> timeout func_only: False\n",
      "  ==> \u001b[1mcollecting ... \u001b[0m>>ENV<<: is_inside_container=True: code_version=cmamp-1.0.0, container_version=cmamp-1.0.0, is_inside_docker=True, is_inside_ci=False, CI_defined=True, CI=''\n",
      "  ==> >>ENV<<: AM_AWS_PROFILE=True AM_ECR_BASE_PATH=True AM_S3_BUCKET=True AM_TELEGRAM_TOKEN=True AWS_ACCESS_KEY_ID=False AWS_DEFAULT_REGION=False AWS_SECRET_ACCESS_KEY=False GH_ACTION_ACCESS_TOKEN=True\n",
      "  ==> # Git\n",
      "  ==>     branch_name='CMTask391_Add_limit_to_test_duration'\n",
      "  ==>     hash='ef66574eb'\n",
      "  ==>     # Last commits:\n",
      "  ==>       * ef66574eb Julia    CMTask391: Mark tests failing due to timeout as slow and superslow (  15 hours ago) Wed Dec 1 02:29:54 2021  (HEAD -> CMTask391_Add_limit_to_test_duration, origin/CMTask391_Add_limit_to_test_duration)\n",
      "  ==>       * f1d2bd12e Julia    CMTask391: Change handling of unused `ctx` param                  (  15 hours ago) Wed Dec 1 02:24:43 2021           \n",
      "  ==>       * ffb3c7434 Julia    CMTask391: Add docstrings, minor changes                          (  15 hours ago) Wed Dec 1 02:19:03 2021           \n",
      "  ==> # Machine info\n",
      "  ==>     system=Linux\n",
      "  ==>     node name=df349671262e\n",
      "  ==>     release=5.4.0-1057-aws\n",
      "  ==>     version=#60~18.04.1-Ubuntu SMP Thu Sep 9 20:38:09 UTC 2021\n",
      "  ==>     machine=x86_64\n",
      "  ==>     processor=x86_64\n",
      "  ==>     cpu count=4\n",
      "  ==>     cpu freq=scpufreq(current=2499.998, min=0.0, max=0.0)\n",
      "  ==>     memory=svmem(total=16596852736, available=9071747072, percent=45.3, used=7151857664, free=2344804352, active=10354958336, inactive=2687275008, buffers=1027870720, cached=6072320000, shared=48971776, slab=937553920)\n",
      "  ==>     disk usage=sdiskusage(total=133167038464, used=52284936192, free=80865325056, percent=39.3)\n",
      "  ==> # Packages\n",
      "  ==>     python: 3.8.10\n",
      "  ==>     gluonnlp: ?\n",
      "  ==>     gluonts: 0.6.7\n",
      "  ==>     joblib: 1.0.1\n",
      "  ==>     mxnet: 1.8.0\n",
      "  ==>     numpy: 1.21.1\n",
      "  ==>     pandas: 1.3.3\n",
      "  ==>     pyarrow: 5.0.0\n",
      "  ==>     scipy: 1.6.1\n",
      "  ==>     seaborn: 0.11.2\n",
      "  ==>     sklearn: 1.0\n",
      "  ==>     statsmodels: 0.12.2\n",
      "  ==> \u001b[0m\u001b[36mINFO\u001b[0m: > cmd='/venv/bin/pytest -m not slow and not superslow dev_scripts --durations 0 --timeout 5'\n",
      "  ==> \u001b[36mINFO\u001b[0m: Saving log to file 'tmp.pytest_logger.log'\n",
      "  ==> \u001b[1m\n",
      "collected 22 items / 6 deselected / 16 selected                                \u001b[0m\n",
      "  ==> \n",
      "  ==> dev_scripts/infra/test/test_all.py::Test_ssh_tunnel::test1 \u001b[33mSKIPPED\u001b[0m (...)\u001b[32m [  6%]\u001b[0m\n",
      "  ==> dev_scripts/test/test_amp_dev_scripts.py::Test_url_py1::test_get_file_name1 (0.00 s) \u001b[32mPASSED\u001b[0m\u001b[32m [ 12%]\u001b[0m\n",
      "  ==> dev_scripts/test/test_amp_dev_scripts.py::Test_url_py1::test_get_file_name2 (0.00 s) \u001b[32mPASSED\u001b[0m\u001b[32m [ 18%]\u001b[0m\n",
      "  ==> dev_scripts/test/test_amp_dev_scripts.py::Test_url_py1::test_run1 (0.61 s) \u001b[32mPASSED\u001b[0m\u001b[32m [ 25%]\u001b[0m\n",
      "  ==> dev_scripts/test/test_amp_dev_scripts.py::Test_env1::test_get_system_signature1 (0.17 s) \u001b[32mPASSED\u001b[0m\u001b[32m [ 31%]\u001b[0m\n",
      "  ==> dev_scripts/test/test_toml_merge.py::TestMergeToml::test1 (0.00 s) \u001b[32mPASSED\u001b[0m\u001b[32m         [ 37%]\u001b[0m\n",
      "  ==> dev_scripts/test/test_toml_merge.py::TestMergeToml::test2 (0.00 s) \u001b[32mPASSED\u001b[0m\u001b[32m         [ 43%]\u001b[0m\n",
      "  ==> dev_scripts/test/test_toml_merge.py::TestMergeToml::test3 (0.00 s) \u001b[32mPASSED\u001b[0m\u001b[32m         [ 50%]\u001b[0m\n",
      "  ==> dev_scripts/git/git_hooks/test/test_install_hooks.py::Test_git_hooks_utils1::test_caesar1 (0.00 s) \u001b[32mPASSED\u001b[0m\u001b[32m [ 56%]\u001b[0m\n",
      "  ==> dev_scripts/git/git_hooks/test/test_install_hooks.py::Test_git_hooks_utils1::test_check_author1 \u001b[33mSKIPPED\u001b[0m\u001b[32m [ 62%]\u001b[0m\n",
      "  ==> dev_scripts/git/git_hooks/test/test_install_hooks.py::Test_git_hooks_utils1::test_check_file_size1 (0.03 s) \u001b[32mPASSED\u001b[0m\u001b[32m [ 68%]\u001b[0m\n",
      "  ==> dev_scripts/git/git_hooks/test/test_install_hooks.py::Test_git_hooks_utils1::test_check_master1 (0.01 s) \u001b[32mPASSED\u001b[0m\u001b[32m [ 75%]\u001b[0m\n",
      "  ==> dev_scripts/git/git_hooks/test/test_install_hooks.py::Test_git_hooks_utils1::test_check_words_in_text1 (0.00 s) \u001b[32mPASSED\u001b[0m\u001b[32m [ 81%]\u001b[0m\n",
      "  ==> dev_scripts/git/git_hooks/test/test_install_hooks.py::Test_git_hooks_utils1::test_regex1 (0.00 s) \u001b[32mPASSED\u001b[0m\u001b[32m [ 87%]\u001b[0m\n",
      "  ==> dev_scripts/git/git_hooks/test/test_install_hooks.py::Test_git_hooks_utils1::test_regex2 (0.00 s) \u001b[32mPASSED\u001b[0m\u001b[32m [ 93%]\u001b[0m\n",
      "  ==> dev_scripts/git/git_hooks/test/test_install_hooks.py::Test_git_hooks_utils1::test_regex3 (0.00 s) \u001b[32mPASSED\u001b[0m\u001b[32m [100%]\u001b[0m\n",
      "  ==> \n",
      "  ==> ============================== slowest durations ===============================\n",
      "  ==> 0.61s call     dev_scripts/test/test_amp_dev_scripts.py::Test_url_py1::test_run1\n",
      "  ==> 0.18s call     dev_scripts/test/test_amp_dev_scripts.py::Test_env1::test_get_system_signature1\n",
      "  ==> 0.03s call     dev_scripts/git/git_hooks/test/test_install_hooks.py::Test_git_hooks_utils1::test_check_file_size1\n",
      "  ==> 0.02s call     dev_scripts/git/git_hooks/test/test_install_hooks.py::Test_git_hooks_utils1::test_check_master1\n",
      "  ==> 0.01s call     dev_scripts/test/test_toml_merge.py::TestMergeToml::test1\n",
      "  ==> 0.01s call     dev_scripts/git/git_hooks/test/test_install_hooks.py::Test_git_hooks_utils1::test_regex1\n",
      "  ==> 0.01s call     dev_scripts/test/test_toml_merge.py::TestMergeToml::test2\n",
      "  ==> 0.01s call     dev_scripts/git/git_hooks/test/test_install_hooks.py::Test_git_hooks_utils1::test_check_words_in_text1\n",
      "  ==> 0.00s call     dev_scripts/git/git_hooks/test/test_install_hooks.py::Test_git_hooks_utils1::test_caesar1\n",
      "  ==> 0.00s call     dev_scripts/test/test_toml_merge.py::TestMergeToml::test3\n",
      "  ==> 0.00s call     dev_scripts/git/git_hooks/test/test_install_hooks.py::Test_git_hooks_utils1::test_regex3\n",
      "  ==> 0.00s call     dev_scripts/git/git_hooks/test/test_install_hooks.py::Test_git_hooks_utils1::test_regex2\n",
      "  ==> 0.00s call     dev_scripts/test/test_amp_dev_scripts.py::Test_url_py1::test_get_file_name1\n",
      "  ==> 0.00s call     dev_scripts/test/test_amp_dev_scripts.py::Test_url_py1::test_get_file_name2\n",
      "  ==> 0.00s setup    dev_scripts/test/test_amp_dev_scripts.py::Test_url_py1::test_get_file_name1\n",
      "  ==> 0.00s setup    dev_scripts/test/test_toml_merge.py::TestMergeToml::test1\n",
      "  ==> 0.00s setup    dev_scripts/test/test_amp_dev_scripts.py::Test_env1::test_get_system_signature1\n",
      "  ==> 0.00s setup    dev_scripts/git/git_hooks/test/test_install_hooks.py::Test_git_hooks_utils1::test_check_words_in_text1\n",
      "  ==> 0.00s teardown dev_scripts/test/test_amp_dev_scripts.py::Test_env1::test_get_system_signature1\n",
      "  ==> 0.00s setup    dev_scripts/git/git_hooks/test/test_install_hooks.py::Test_git_hooks_utils1::test_check_master1\n",
      "  ==> 0.00s teardown dev_scripts/test/test_amp_dev_scripts.py::Test_url_py1::test_run1\n",
      "  ==> 0.00s setup    dev_scripts/git/git_hooks/test/test_install_hooks.py::Test_git_hooks_utils1::test_regex1\n",
      "  ==> 0.00s setup    dev_scripts/git/git_hooks/test/test_install_hooks.py::Test_git_hooks_utils1::test_regex2\n",
      "  ==> 0.00s setup    dev_scripts/git/git_hooks/test/test_install_hooks.py::Test_git_hooks_utils1::test_caesar1\n",
      "  ==> 0.00s setup    dev_scripts/test/test_toml_merge.py::TestMergeToml::test3\n",
      "  ==> 0.00s setup    dev_scripts/git/git_hooks/test/test_install_hooks.py::Test_git_hooks_utils1::test_regex3\n",
      "  ==> 0.00s setup    dev_scripts/git/git_hooks/test/test_install_hooks.py::Test_git_hooks_utils1::test_check_file_size1\n",
      "  ==> 0.00s teardown dev_scripts/git/git_hooks/test/test_install_hooks.py::Test_git_hooks_utils1::test_check_master1\n",
      "  ==> 0.00s setup    dev_scripts/test/test_amp_dev_scripts.py::Test_url_py1::test_get_file_name2\n",
      "  ==> 0.00s teardown dev_scripts/test/test_toml_merge.py::TestMergeToml::test3\n",
      "  ==> 0.00s teardown dev_scripts/git/git_hooks/test/test_install_hooks.py::Test_git_hooks_utils1::test_check_file_size1\n",
      "  ==> 0.00s setup    dev_scripts/test/test_toml_merge.py::TestMergeToml::test2\n",
      "  ==> 0.00s teardown dev_scripts/git/git_hooks/test/test_install_hooks.py::Test_git_hooks_utils1::test_regex3\n",
      "  ==> 0.00s setup    dev_scripts/test/test_amp_dev_scripts.py::Test_url_py1::test_run1\n",
      "  ==> 0.00s teardown dev_scripts/git/git_hooks/test/test_install_hooks.py::Test_git_hooks_utils1::test_check_words_in_text1\n",
      "  ==> 0.00s teardown dev_scripts/test/test_toml_merge.py::TestMergeToml::test2\n",
      "  ==> 0.00s teardown dev_scripts/test/test_amp_dev_scripts.py::Test_url_py1::test_get_file_name1\n",
      "  ==> 0.00s teardown dev_scripts/git/git_hooks/test/test_install_hooks.py::Test_git_hooks_utils1::test_regex1\n",
      "  ==> 0.00s teardown dev_scripts/git/git_hooks/test/test_install_hooks.py::Test_git_hooks_utils1::test_regex2\n",
      "  ==> 0.00s setup    dev_scripts/infra/test/test_all.py::Test_ssh_tunnel::test1\n",
      "  ==> 0.00s teardown dev_scripts/test/test_toml_merge.py::TestMergeToml::test1\n",
      "  ==> 0.00s teardown dev_scripts/git/git_hooks/test/test_install_hooks.py::Test_git_hooks_utils1::test_caesar1\n",
      "  ==> 0.00s teardown dev_scripts/test/test_amp_dev_scripts.py::Test_url_py1::test_get_file_name2\n",
      "  ==> 0.00s setup    dev_scripts/git/git_hooks/test/test_install_hooks.py::Test_git_hooks_utils1::test_check_author1\n",
      "  ==> 0.00s teardown dev_scripts/infra/test/test_all.py::Test_ssh_tunnel::test1\n",
      "  ==> 0.00s teardown dev_scripts/git/git_hooks/test/test_install_hooks.py::Test_git_hooks_utils1::test_check_author1\n",
      "  ==> =========================== short test summary info ============================\n",
      "  ==> SKIPPED [1] dev_scripts/infra/test/test_all.py: unconditional skip\n",
      "  ==> SKIPPED [1] dev_scripts/git/git_hooks/test/test_install_hooks.py:21: There are no Git credentials inside Docker\n",
      "  ==> \u001b[32m================= \u001b[32m\u001b[1m14 passed\u001b[0m, \u001b[33m2 skipped\u001b[0m, \u001b[33m6 deselected\u001b[0m\u001b[32m in 3.10s\u001b[0m\u001b[32m ==================\u001b[0m\n",
      "\u001b[95m## run_slow_tests: \u001b[0m\n",
      "12:20:44 \u001b[36mINFO \u001b[0m lib_tasks           : _run_test_cmd                 : 2197: cmd=IMAGE=665840871993.dkr.ecr.us-east-1.amazonaws.com/cmamp:local-julias \\\n",
      "        docker-compose \\\n",
      "        --file /data/julias/src/cmamp1/devops/compose/docker-compose.yml \\\n",
      "        --env-file devops/env/default.env \\\n",
      "        run \\\n",
      "        --rm \\\n",
      "        --user $(id -u):$(id -g) \\\n",
      "        app \\\n",
      "        'pytest -m \"slow and not superslow\" dev_scripts --durations 0 --timeout 30' \n",
      "  ==> The AM_PUBLISH_NOTEBOOK_LOCAL_PATH variable is not set. Defaulting to a blank string.\n",
      "  ==> The AWS_ACCESS_KEY_ID variable is not set. Defaulting to a blank string.\n",
      "  ==> The AWS_DEFAULT_REGION variable is not set. Defaulting to a blank string.\n",
      "  ==> The AWS_SECRET_ACCESS_KEY variable is not set. Defaulting to a blank string.\n",
      "  ==> Found orphan containers (compose_im_postgres_local_1, compose_im_app_1) for this project. If you removed or renamed this service in your compose file, you can run this command with the --remove-orphans flag to clean it up.\n",
      "  ==> Creating compose_app_run ... \n",
      "  ==> Creating compose_app_run ... done\n",
      "  ==> ##> devops/docker_run/entrypoint.sh\n",
      "  ==> UID=1011\n",
      "  ==> GID=1011\n",
      "  ==> # Activate environment\n",
      "  ==> ##> devops/docker_run/setenv.sh\n",
      "  ==> # Set PATH\n",
      "  ==> PATH=/app/documentation/scripts:/app/dev_scripts/testing:/app/dev_scripts/notebooks:/app/dev_scripts/install:/app/dev_scripts/infra:/app/dev_scripts/git:/app/dev_scripts/aws:/app/dev_scripts:/app:.:/venv/bin:/usr/local/sbin:/usr/local/bin:/usr/sbin:/usr/bin:/sbin:/bin\n",
      "  ==> # Set PYTHONPATH\n",
      "  ==> PYTHONPATH=/app:\n",
      "  ==> # Configure env\n",
      "  ==> Testing sudo\n",
      "  ==> /app\n",
      "  ==> Setting up Docker\n",
      "  ==> { \"storage-driver\": \"vfs\" }\n",
      "  ==>  * Starting Docker: docker       \u001b[80G \n",
      "\u001b[74G[ OK ]\n",
      "  ==>  * Docker is running\n",
      "  ==> # Check AWS authentication setup\n",
      "  ==>       Name                    Value             Type    Location\n",
      "  ==>       ----                    -----             ----    --------\n",
      "  ==>    profile                       am           manual    --profile\n",
      "  ==> access_key     ****************PHQL shared-credentials-file    \n",
      "  ==> secret_key     ****************DleP shared-credentials-file    \n",
      "  ==>     region                us-east-1      config-file    ~/.aws/config\n",
      "  ==> CONTAINER_VERSION=''\n",
      "  ==> BUILD_TAG=''\n",
      "  ==> which python: /venv/bin/python\n",
      "  ==> python -V: Python 3.8.10\n",
      "  ==> docker -v: Docker version 20.10.11, build dea9396\n",
      "  ==> docker-compose -v: docker-compose version 1.25.0, build unknown\n",
      "  ==> PATH=/app/documentation/scripts:/app/dev_scripts/testing:/app/dev_scripts/notebooks:/app/dev_scripts/install:/app/dev_scripts/infra:/app/dev_scripts/git:/app/dev_scripts/aws:/app/dev_scripts:/app:.:/venv/bin:/usr/local/sbin:/usr/local/bin:/usr/sbin:/usr/bin:/sbin:/bin\n",
      "  ==> PYTHONPATH=/app:\n",
      "  ==> entrypoint.sh: 'pytest -m \"slow and not superslow\" dev_scripts --durations 0 --timeout 30'\n",
      "  ==> \u001b[1m============================= test session starts ==============================\u001b[0m\n",
      "  ==> platform linux -- Python 3.8.10, pytest-6.2.5, py-1.10.0, pluggy-1.0.0 -- /venv/bin/python3\n",
      "  ==> cachedir: .pytest_cache\n",
      "  ==> rootdir: /app, configfile: pytest.ini\n",
      "  ==> plugins: flaky-3.7.0, forked-1.3.0, instafail-0.4.2, cov-2.12.1, xdist-2.4.0, timeout-2.0.1\n",
      "  ==> timeout: 30.0s\n",
      "  ==> timeout method: signal\n",
      "  ==> timeout func_only: False\n",
      "  ==> \u001b[1mcollecting ... \u001b[0m>>ENV<<: is_inside_container=True: code_version=cmamp-1.0.0, container_version=cmamp-1.0.0, is_inside_docker=True, is_inside_ci=False, CI_defined=True, CI=''\n",
      "  ==> >>ENV<<: AM_AWS_PROFILE=True AM_ECR_BASE_PATH=True AM_S3_BUCKET=True AM_TELEGRAM_TOKEN=True AWS_ACCESS_KEY_ID=False AWS_DEFAULT_REGION=False AWS_SECRET_ACCESS_KEY=False GH_ACTION_ACCESS_TOKEN=True\n",
      "  ==> # Git\n",
      "  ==>     branch_name='CMTask391_Add_limit_to_test_duration'\n",
      "  ==>     hash='ef66574eb'\n",
      "  ==>     # Last commits:\n",
      "  ==>       * ef66574eb Julia    CMTask391: Mark tests failing due to timeout as slow and superslow (  15 hours ago) Wed Dec 1 02:29:54 2021  (HEAD -> CMTask391_Add_limit_to_test_duration, origin/CMTask391_Add_limit_to_test_duration)\n",
      "  ==>       * f1d2bd12e Julia    CMTask391: Change handling of unused `ctx` param                  (  15 hours ago) Wed Dec 1 02:24:43 2021           \n",
      "  ==>       * ffb3c7434 Julia    CMTask391: Add docstrings, minor changes                          (  15 hours ago) Wed Dec 1 02:19:03 2021           \n",
      "  ==> # Machine info\n",
      "  ==>     system=Linux\n",
      "  ==>     node name=1bcf1c9f24f8\n",
      "  ==>     release=5.4.0-1057-aws\n",
      "  ==>     version=#60~18.04.1-Ubuntu SMP Thu Sep 9 20:38:09 UTC 2021\n",
      "  ==>     machine=x86_64\n",
      "  ==>     processor=x86_64\n",
      "  ==>     cpu count=4\n",
      "  ==>     cpu freq=scpufreq(current=2499.998, min=0.0, max=0.0)\n",
      "  ==>     memory=svmem(total=16596852736, available=9071484928, percent=45.3, used=7152177152, free=2315563008, active=10355122176, inactive=2716078080, buffers=1027874816, cached=6101237760, shared=48971776, slab=938098688)\n",
      "  ==>     disk usage=sdiskusage(total=133167038464, used=52284944384, free=80865316864, percent=39.3)\n",
      "  ==> # Packages\n",
      "  ==>     python: 3.8.10\n",
      "  ==>     gluonnlp: ?\n",
      "  ==>     gluonts: 0.6.7\n",
      "  ==>     joblib: 1.0.1\n",
      "  ==>     mxnet: 1.8.0\n",
      "  ==>     numpy: 1.21.1\n",
      "  ==>     pandas: 1.3.3\n",
      "  ==>     pyarrow: 5.0.0\n",
      "  ==>     scipy: 1.6.1\n",
      "  ==>     seaborn: 0.11.2\n",
      "  ==>     sklearn: 1.0\n",
      "  ==>     statsmodels: 0.12.2\n",
      "  ==> \u001b[0m\u001b[36mINFO\u001b[0m: > cmd='/venv/bin/pytest -m slow and not superslow dev_scripts --durations 0 --timeout 30'\n",
      "  ==> \u001b[36mINFO\u001b[0m: Saving log to file 'tmp.pytest_logger.log'\n",
      "  ==> \u001b[1m\n",
      "collected 22 items / 16 deselected / 6 selected                                \u001b[0m\n",
      "  ==> \n",
      "  ==> dev_scripts/test/test_run_notebook.py::TestRunNotebook1::test_parallel1 (14.80 s) \u001b[32mPASSED\u001b[0m\u001b[32m [ 16%]\u001b[0m\n",
      "  ==> dev_scripts/test/test_run_notebook.py::TestRunNotebook1::test_serial1 (12.06 s) \u001b[32mPASSED\u001b[0m\u001b[32m [ 33%]\u001b[0m\n",
      "  ==> dev_scripts/test/test_run_notebook.py::TestRunNotebook2::test_parallel1 (17.81 s) \u001b[32mPASSED\u001b[0m\u001b[32m [ 50%]\u001b[0m\n",
      "  ==> dev_scripts/test/test_run_notebook.py::TestRunNotebook2::test_parallel2 (17.59 s) \u001b[32mPASSED\u001b[0m\u001b[32m [ 66%]\u001b[0m\n",
      "  ==> dev_scripts/test/test_run_notebook.py::TestRunNotebook2::test_serial1 (14.25 s) \u001b[32mPASSED\u001b[0m\u001b[32m [ 83%]\u001b[0m\n",
      "  ==> dev_scripts/test/test_run_notebook.py::TestRunNotebook2::test_serial2 (15.11 s) \u001b[32mPASSED\u001b[0m\u001b[32m [100%]\u001b[0m\n",
      "  ==> \n",
      "  ==> ============================== slowest durations ===============================\n",
      "  ==> 17.82s call     dev_scripts/test/test_run_notebook.py::TestRunNotebook2::test_parallel1\n",
      "  ==> 17.60s call     dev_scripts/test/test_run_notebook.py::TestRunNotebook2::test_parallel2\n",
      "  ==> 15.11s call     dev_scripts/test/test_run_notebook.py::TestRunNotebook2::test_serial2\n",
      "  ==> 14.80s call     dev_scripts/test/test_run_notebook.py::TestRunNotebook1::test_parallel1\n",
      "  ==> 14.25s call     dev_scripts/test/test_run_notebook.py::TestRunNotebook2::test_serial1\n",
      "  ==> 12.07s call     dev_scripts/test/test_run_notebook.py::TestRunNotebook1::test_serial1\n",
      "  ==> 0.00s setup    dev_scripts/test/test_run_notebook.py::TestRunNotebook1::test_parallel1\n",
      "  ==> 0.00s setup    dev_scripts/test/test_run_notebook.py::TestRunNotebook2::test_parallel2\n",
      "  ==> 0.00s setup    dev_scripts/test/test_run_notebook.py::TestRunNotebook2::test_parallel1\n",
      "  ==> 0.00s teardown dev_scripts/test/test_run_notebook.py::TestRunNotebook2::test_serial2\n",
      "  ==> 0.00s setup    dev_scripts/test/test_run_notebook.py::TestRunNotebook2::test_serial2\n",
      "  ==> 0.00s teardown dev_scripts/test/test_run_notebook.py::TestRunNotebook1::test_serial1\n",
      "  ==> 0.00s setup    dev_scripts/test/test_run_notebook.py::TestRunNotebook2::test_serial1\n",
      "  ==> 0.00s teardown dev_scripts/test/test_run_notebook.py::TestRunNotebook1::test_parallel1\n",
      "  ==> 0.00s setup    dev_scripts/test/test_run_notebook.py::TestRunNotebook1::test_serial1\n",
      "  ==> 0.00s teardown dev_scripts/test/test_run_notebook.py::TestRunNotebook2::test_serial1\n",
      "  ==> 0.00s teardown dev_scripts/test/test_run_notebook.py::TestRunNotebook2::test_parallel2\n",
      "  ==> 0.00s teardown dev_scripts/test/test_run_notebook.py::TestRunNotebook2::test_parallel1\n",
      "  ==> \u001b[32m================= \u001b[32m\u001b[1m6 passed\u001b[0m, \u001b[33m16 deselected\u001b[0m\u001b[32m in 93.89s (0:01:33)\u001b[0m\u001b[32m ==================\u001b[0m\n",
      "\n"
     ]
    }
   ],
   "source": [
    "print(test_output)"
   ]
  },
  {
   "cell_type": "markdown",
   "id": "cebe460d",
   "metadata": {},
   "source": [
    "Let's profile only calls, ignoring setups and teardowns."
   ]
  },
  {
   "cell_type": "code",
   "execution_count": 8,
   "id": "c6a9fb86",
   "metadata": {
    "ExecuteTime": {
     "end_time": "2021-12-01T22:16:46.480856Z",
     "start_time": "2021-12-01T22:16:46.470760Z"
    }
   },
   "outputs": [
    {
     "data": {
      "text/plain": [
       "[0.61,\n",
       " 0.18,\n",
       " 0.03,\n",
       " 0.02,\n",
       " 0.01,\n",
       " 0.01,\n",
       " 0.01,\n",
       " 0.01,\n",
       " 0.0,\n",
       " 0.0,\n",
       " 0.0,\n",
       " 0.0,\n",
       " 0.0,\n",
       " 0.0,\n",
       " 17.82,\n",
       " 17.6,\n",
       " 15.11,\n",
       " 14.8,\n",
       " 14.25,\n",
       " 12.07]"
      ]
     },
     "execution_count": 8,
     "metadata": {},
     "output_type": "execute_result"
    }
   ],
   "source": [
    "durations = re.findall(\"\\n  ==> (.*)s call\", test_output)\n",
    "durations = [float(duration) for duration in durations]\n",
    "durations"
   ]
  },
  {
   "cell_type": "code",
   "execution_count": 9,
   "id": "b00215b4",
   "metadata": {
    "ExecuteTime": {
     "end_time": "2021-12-01T22:16:46.767278Z",
     "start_time": "2021-12-01T22:16:46.482737Z"
    },
    "run_control": {
     "marked": true
    }
   },
   "outputs": [
    {
     "data": {
      "image/png": "[encoded data removed]",
      "text/plain": [
       "<Figure size 1440x360 with 1 Axes>"
      ]
     },
     "metadata": {},
     "output_type": "display_data"
    }
   ],
   "source": [
    "plt.hist(durations)\n",
    "_ = plt.title(f\"Durations of {config['test_list_name']} in seconds\")"
   ]
  },
  {
   "cell_type": "code",
   "execution_count": null,
   "id": "87e71bda",
   "metadata": {},
   "outputs": [],
   "source": []
  }
 ],
 "metadata": {
  "kernelspec": {
   "display_name": "Python 3 (ipykernel)",
   "language": "python",
   "name": "python3"
  },
  "language_info": {
   "codemirror_mode": {
    "name": "ipython",
    "version": 3
   },
   "file_extension": ".py",
   "mimetype": "text/x-python",
   "name": "python",
   "nbconvert_exporter": "python",
   "pygments_lexer": "ipython3",
   "version": "3.8.10"
  },
  "toc": {
   "base_numbering": 1,
   "nav_menu": {},
   "number_sections": true,
   "sideBar": true,
   "skip_h1_title": false,
   "title_cell": "Table of Contents",
   "title_sidebar": "Contents",
   "toc_cell": false,
   "toc_position": {},
   "toc_section_display": true,
   "toc_window_display": false
  }
 },
 "nbformat": 4,
 "nbformat_minor": 5
}
