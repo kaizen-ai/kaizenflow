#!/bin/bash -e

# """
# Search in .ipynb files.
# """

source helpers.sh

parse_jack_cmd_opts "$@"

cmd="find $dir \( -name '*.ipynb' \) -print0 | xargs -0 ack $ACK_OPTS '$regex'"
execute_with_verbose $cmd
