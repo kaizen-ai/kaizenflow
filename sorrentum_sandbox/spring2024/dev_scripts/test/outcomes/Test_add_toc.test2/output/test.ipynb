{
    "cells": [
        {
            "cell_type": "markdown",
            "metadata": {},
            "source": [
                "CONTENTS:\n",
                "- [Regular heading](#regular-heading)\n",
                "  - [Second-level heading](#second-level-heading)\n",
                "    - [And third-level in the same cell](#and-third-level-in-the-same-cell)\n",
                "      - [Heading after some regular text in the same cell](#heading-after-some-regular-text-in-the-same-cell)\n",
                "- [Heading with several whitespaces on the left](#heading-with-several-whitespaces-on-the-left)\n",
                "  - [Heading with regular text after it in the same cell](#heading-with-regular-text-after-it-in-the-same-cell)\n",
                "- [Heading with hash signs # inside](#heading-with-hash-signs-#-inside)"
            ]
        },
        {
            "cell_type": "markdown",
            "metadata": {},
            "source": [
                "<a name='regular-heading'></a>\n",
                "# Regular heading"
            ]
        },
        {
            "cell_type": "code",
            "execution_count": 1,
            "metadata": {},
            "outputs": [],
            "source": [
                "test_code = 1"
            ]
        },
        {
            "cell_type": "markdown",
            "metadata": {},
            "source": [
                "text without headings"
            ]
        },
        {
            "cell_type": "markdown",
            "metadata": {},
            "source": [
                "<a name='and-third-level-in-the-same-cell'></a>\n",
                "<a name='second-level-heading'></a>\n",
                "## Second-level heading\n",
                "\n",
                "### And third-level in the same cell"
            ]
        },
        {
            "cell_type": "markdown",
            "metadata": {},
            "source": [
                "<a name='heading-after-some-regular-text-in-the-same-cell'></a>\n",
                "some text before heading\n",
                "\n",
                "#### Heading after some regular text in the same cell"
            ]
        },
        {
            "cell_type": "markdown",
            "metadata": {},
            "source": [
                "<a name='heading-with-several-whitespaces-on-the-left'></a>\n",
                "  # Heading with several whitespaces on the left"
            ]
        },
        {
            "cell_type": "markdown",
            "metadata": {},
            "source": [
                "some more text ## After regular text on the same line -- will not be picked up"
            ]
        },
        {
            "cell_type": "markdown",
            "metadata": {},
            "source": [
                "<a name='heading-with-regular-text-after-it-in-the-same-cell'></a>\n",
                "## Heading with regular text after it in the same cell\n",
                "\n",
                "some regular text after the heading in the same cell"
            ]
        },
        {
            "cell_type": "markdown",
            "metadata": {},
            "source": [
                "#Will not be picked up because of a whitespace missing after hash"
            ]
        },
        {
            "cell_type": "markdown",
            "metadata": {},
            "source": [
                "<a name='heading-with-hash-signs-#-inside'></a>\n",
                "# Heading with hash signs # inside"
            ]
        }
    ],
    "metadata": {
        "kernelspec": {
            "display_name": "Python 3 (ipykernel)",
            "language": "python",
            "name": "python3"
        },
        "language_info": {
            "codemirror_mode": {
                "name": "ipython",
                "version": 3
            },
            "file_extension": ".py",
            "mimetype": "text/x-python",
            "name": "python",
            "nbconvert_exporter": "python",
            "pygments_lexer": "ipython3",
            "version": "3.9.5"
        }
    },
    "nbformat": 4,
    "nbformat_minor": 5
}
