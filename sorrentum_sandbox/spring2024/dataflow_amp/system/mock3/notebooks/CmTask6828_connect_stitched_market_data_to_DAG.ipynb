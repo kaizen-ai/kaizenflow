{
 "cells": [
  {
   "cell_type": "markdown",
   "id": "34f49b38",
   "metadata": {},
   "source": [
    "# Descrption"
   ]
  },
  {
   "cell_type": "markdown",
   "id": "38e0fe69",
   "metadata": {},
   "source": [
    "The notebook runs the Mock3 pipeline using stitched data (OHLCV and bid/ask)."
   ]
  },
  {
   "cell_type": "markdown",
   "id": "5050b39c",
   "metadata": {},
   "source": [
    "# Imports"
   ]
  },
  {
   "cell_type": "code",
   "execution_count": 1,
   "id": "13b992b2",
   "metadata": {
    "ExecuteTime": {
     "end_time": "2024-02-14T19:25:08.579830Z",
     "start_time": "2024-02-14T19:25:07.065810Z"
    }
   },
   "outputs": [],
   "source": [
    "%load_ext autoreload\n",
    "%autoreload 2\n",
    "%matplotlib inline"
   ]
  },
  {
   "cell_type": "code",
   "execution_count": 2,
   "id": "3469e662",
   "metadata": {
    "ExecuteTime": {
     "end_time": "2024-02-14T19:25:16.591637Z",
     "start_time": "2024-02-14T19:25:08.582968Z"
    }
   },
   "outputs": [
    {
     "name": "stderr",
     "output_type": "stream",
     "text": [
      "/app/core/statistics/random_samples.py:12: TqdmExperimentalWarning: Using `tqdm.autonotebook.tqdm` in notebook mode. Use `tqdm.tqdm` instead to force console mode (e.g. in jupyter console)\n",
      "  from tqdm.autonotebook import tqdm\n",
      "\u001b[33mWARNING\u001b[0m: No module named 'gluonts'\n",
      "\u001b[33mWARNING\u001b[0m: No module named 'gluonts'\n"
     ]
    }
   ],
   "source": [
    "import logging\n",
    "\n",
    "import pandas as pd\n",
    "\n",
    "import core.config as cconfig\n",
    "import core.finance.bid_ask as cfibiask\n",
    "import dataflow.core as dtfcore\n",
    "import dataflow.system as dtfsys\n",
    "import dataflow_amp.pipelines.mock3.mock3_pipeline as dtfapmmopi\n",
    "import helpers.hdbg as hdbg\n",
    "import helpers.henv as henv\n",
    "import helpers.hprint as hprint\n",
    "import im_v2.ccxt.data.client as icdcl\n",
    "import im_v2.common.universe as ivcu\n",
    "import market_data.market_data_example as mdmadaex"
   ]
  },
  {
   "cell_type": "code",
   "execution_count": 3,
   "id": "c0fcfde7",
   "metadata": {
    "ExecuteTime": {
     "end_time": "2024-02-14T19:25:16.901793Z",
     "start_time": "2024-02-14T19:25:16.594832Z"
    },
    "lines_to_next_cell": 2
   },
   "outputs": [
    {
     "name": "stdout",
     "output_type": "stream",
     "text": [
      "\u001b[0m\u001b[36mINFO\u001b[0m: > cmd='/venv/lib/python3.9/site-packages/ipykernel_launcher.py -f /home/.local/share/jupyter/runtime/kernel-57407bf9-fd5a-461e-aa26-e2bd27c3ebe4.json'\n",
      "WARNING: Running in Jupyter\n",
      "INFO  # Git\n",
      "  branch_name='CmTask7174_Centralize_get_bid_ask_columns_by_level'\n",
      "  hash='ac2b791a1'\n",
      "  # Last commits:\n",
      "    * ac2b791a1 tamriq   CmTask7174: fix linter for mock3_forecast_system_example          (49 seconds ago) Wed Feb 14 19:24:27 2024  (HEAD -> CmTask7174_Centralize_get_bid_ask_columns_by_level)\n",
      "    * 9a93a7429 tamriq   CmTask7174: linter fix                                            (   4 hours ago) Wed Feb 14 15:25:27 2024           \n",
      "    * 51b0000cc tamriq   CmTask7174: fix typo                                              (   4 hours ago) Wed Feb 14 15:15:35 2024           \n",
      "# Machine info\n",
      "  system=Linux\n",
      "  node name=74fe9314c391\n",
      "  release=5.15.0-1052-aws\n",
      "  version=#57~20.04.1-Ubuntu SMP Mon Jan 15 17:04:56 UTC 2024\n",
      "  machine=x86_64\n",
      "  processor=x86_64\n",
      "  cpu count=8\n",
      "  cpu freq=scpufreq(current=2499.998, min=0.0, max=0.0)\n",
      "  memory=svmem(total=33280278528, available=13115215872, percent=60.6, used=19663622144, free=1293656064, active=5915086848, inactive=19696992256, buffers=2682290176, cached=9640710144, shared=11317248, slab=5931597824)\n",
      "  disk usage=sdiskusage(total=156052275200, used=102846894080, free=53188603904, percent=65.9)\n",
      "# Packages\n",
      "  python: 3.9.5\n",
      "  cvxopt: 1.3.2\n",
      "  cvxpy: 1.4.1\n",
      "  gluonnlp: ?\n",
      "  gluonts: ?\n",
      "  joblib: 1.3.2\n",
      "  mxnet: ?\n",
      "  numpy: 1.26.0\n",
      "  pandas: 2.1.1\n",
      "  pyarrow: 10.0.0\n",
      "  scipy: 1.11.3\n",
      "  seaborn: 0.13.0\n",
      "  sklearn: 1.3.1\n",
      "  statsmodels: 0.14.0\n"
     ]
    }
   ],
   "source": [
    "hdbg.init_logger(verbosity=logging.INFO)\n",
    "\n",
    "_LOG = logging.getLogger(__name__)\n",
    "\n",
    "_LOG.info(\"%s\", henv.get_system_signature()[0])\n",
    "\n",
    "hprint.config_notebook()"
   ]
  },
  {
   "cell_type": "markdown",
   "id": "cc5912de",
   "metadata": {},
   "source": [
    "# Config"
   ]
  },
  {
   "cell_type": "code",
   "execution_count": 4,
   "id": "817828c8",
   "metadata": {
    "ExecuteTime": {
     "end_time": "2024-02-14T19:25:16.970420Z",
     "start_time": "2024-02-14T19:25:16.905768Z"
    }
   },
   "outputs": [
    {
     "name": "stdout",
     "output_type": "stream",
     "text": [
      "INFO  Order book depth=1\n"
     ]
    }
   ],
   "source": [
    "bid_ask_level = 1\n",
    "_LOG.info(\"Order book depth=%s\", bid_ask_level)"
   ]
  },
  {
   "cell_type": "code",
   "execution_count": 5,
   "id": "bba53cf4",
   "metadata": {
    "ExecuteTime": {
     "end_time": "2024-02-14T19:25:17.028944Z",
     "start_time": "2024-02-14T19:25:16.972964Z"
    }
   },
   "outputs": [
    {
     "name": "stdout",
     "output_type": "stream",
     "text": [
      "INFO  Trade universe version=v7.5\n"
     ]
    }
   ],
   "source": [
    "trade_universe_version = \"v7.5\"\n",
    "_LOG.info(\"Trade universe version=%s\", trade_universe_version)"
   ]
  },
  {
   "cell_type": "code",
   "execution_count": 6,
   "id": "a8ac3349",
   "metadata": {
    "ExecuteTime": {
     "end_time": "2024-02-14T19:25:17.176443Z",
     "start_time": "2024-02-14T19:25:17.031717Z"
    }
   },
   "outputs": [
    {
     "name": "stdout",
     "output_type": "stream",
     "text": [
      "universe: \n",
      "  vendor: CCXT\n",
      "  version: v7.5\n",
      "  mode: trade\n",
      "start_timestamp: 2023-09-11 00:00:00+00:00\n",
      "end_timestamp: 2023-09-11 04:00:00+00:00\n",
      "ohlcv_market_data: \n",
      "  ohlcv_im_client_config: \n",
      "    download_universe_version: v7_3\n",
      "    dataset: ohlcv\n",
      "    contract_type: futures\n",
      "    data_snapshot: \n",
      "    universe_version: v7.5\n",
      "    root_dir: s3://cryptokaizen-data.preprod/v3/\n",
      "    partition_mode: by_year_month\n",
      "    version: v1_0_0\n",
      "    tag: downloaded_1min\n",
      "    aws_profile: ck\n",
      "  ts_col_name: timestamp\n",
      "  columns: None\n",
      "  column_remap: None\n",
      "  wall_clock_time: 2100-01-01 00:00:00+00:00\n",
      "  filter_data_mode: assert\n",
      "bid_ask_market_data: \n",
      "  bid_ask_im_client_config: \n",
      "    download_universe_version: v7\n",
      "    dataset: bid_ask\n",
      "    contract_type: futures\n",
      "    data_snapshot: \n",
      "    universe_version: v7.5\n",
      "    root_dir: s3://cryptokaizen-data.preprod/v3/\n",
      "    partition_mode: by_year_month\n",
      "    version: v1_0_0\n",
      "    tag: resampled_1min\n",
      "    aws_profile: ck\n",
      "  ts_col_name: timestamp\n",
      "  columns: ['level_1.bid_price.open', 'level_1.bid_price.high', 'level_1.bid_price.low', 'level_1.bid_price.close', 'level_1.bid_price.mean', 'level_1.bid_size.open', 'level_1.bid_size.max', 'level_1.bid_size.min', 'level_1.bid_size.close', 'level_1.bid_size.mean', 'level_1.ask_price.open', 'level_1.ask_price.high', 'level_1.ask_price.low', 'level_1.ask_price.close', 'level_1.ask_price.mean', 'level_1.ask_size.open', 'level_1.ask_size.max', 'level_1.ask_size.min', 'level_1.ask_size.close', 'level_1.ask_size.mean', 'asset_id', 'full_symbol', 'start_ts', 'knowledge_timestamp']\n",
      "  column_remap: None\n",
      "  wall_clock_time: 2100-01-01 00:00:00+00:00\n",
      "  filter_data_mode: assert\n",
      "stitched_market_data: \n",
      "  ts_col_name: timestamp\n",
      "  columns: None\n",
      "  column_remap: None\n",
      "  filter_data_mode: warn_and_trim\n",
      "historical_data_source: \n",
      "  nid: read_data\n",
      "  ts_col_name: end_ts\n",
      "  multiindex_output: True\n",
      "  columns_to_remove: ['start_ts', 'full_symbol']\n"
     ]
    }
   ],
   "source": [
    "config = {\n",
    "    \"universe\": {\n",
    "        \"vendor\": \"CCXT\",\n",
    "        \"version\": trade_universe_version,\n",
    "        \"mode\": \"trade\",\n",
    "    },\n",
    "    \"start_timestamp\": pd.Timestamp(\"2023-09-11T00:00:00\", tz=\"UTC\"),\n",
    "    \"end_timestamp\": pd.Timestamp(\"2023-09-11T04:00:00\", tz=\"UTC\"),\n",
    "    \"ohlcv_market_data\": {\n",
    "        \"ohlcv_im_client_config\": {\n",
    "            # Download universe version.\n",
    "            \"download_universe_version\": \"v7_3\",\n",
    "            \"dataset\": \"ohlcv\",\n",
    "            \"contract_type\": \"futures\",\n",
    "            # Data snapshot is not applicable for data version = \"v3\".\n",
    "            \"data_snapshot\": \"\",\n",
    "            \"universe_version\": trade_universe_version,\n",
    "            # Data currently residing in the test bucket\n",
    "            \"root_dir\": \"s3://cryptokaizen-data.preprod/v3/\",\n",
    "            \"partition_mode\": \"by_year_month\",\n",
    "            \"version\": \"v1_0_0\",\n",
    "            \"tag\": \"downloaded_1min\",\n",
    "            \"aws_profile\": \"ck\",\n",
    "        },\n",
    "        \"ts_col_name\": \"timestamp\",\n",
    "        \"columns\": None,\n",
    "        \"column_remap\": None,\n",
    "        \"wall_clock_time\": pd.Timestamp(\"2100-01-01T00:00:00+00:00\"),\n",
    "        \"filter_data_mode\": \"assert\",\n",
    "    },\n",
    "    \"bid_ask_market_data\": {\n",
    "        \"bid_ask_im_client_config\": {\n",
    "            # Download universe version.\n",
    "            \"download_universe_version\": \"v7\",\n",
    "            \"dataset\": \"bid_ask\",\n",
    "            \"contract_type\": \"futures\",\n",
    "            # Data snapshot is not applicable for data version = \"v3\".\n",
    "            \"data_snapshot\": \"\",\n",
    "            \"universe_version\": trade_universe_version,\n",
    "            # Data currently residing in the test bucket\n",
    "            \"root_dir\": \"s3://cryptokaizen-data.preprod/v3/\",\n",
    "            \"partition_mode\": \"by_year_month\",\n",
    "            \"version\": \"v1_0_0\",\n",
    "            \"tag\": \"resampled_1min\",\n",
    "            \"aws_profile\": \"ck\",\n",
    "        },\n",
    "        \"ts_col_name\": \"timestamp\",\n",
    "        # TODO(Grisha): for some reason the current filtering mechanism filters out `asset_ids` which\n",
    "        # makes it impossible to stitch the 2 market data dfs. So adding the necessary columns manually.\n",
    "        \"columns\": cfibiask.get_bid_ask_columns_by_level(bid_ask_level)\n",
    "        + [\"asset_id\", \"full_symbol\", \"start_ts\", \"knowledge_timestamp\"],\n",
    "        \"column_remap\": None,\n",
    "        \"wall_clock_time\": pd.Timestamp(\"2100-01-01T00:00:00+00:00\"),\n",
    "        \"filter_data_mode\": \"assert\",\n",
    "    },\n",
    "    \"stitched_market_data\": {\n",
    "        \"ts_col_name\": \"timestamp\",\n",
    "        \"columns\": None,\n",
    "        \"column_remap\": None,\n",
    "        # TODO(Grisha): check why it fails when the mode is `assert`.\n",
    "        \"filter_data_mode\": \"warn_and_trim\",\n",
    "    },\n",
    "    \"historical_data_source\": {\n",
    "        \"nid\": \"read_data\",\n",
    "        \"ts_col_name\": \"end_ts\",\n",
    "        \"multiindex_output\": True,\n",
    "        \"columns_to_remove\": [\"start_ts\", \"full_symbol\"],\n",
    "    },\n",
    "}\n",
    "config = cconfig.Config().from_dict(config)\n",
    "print(config)"
   ]
  },
  {
   "cell_type": "markdown",
   "id": "681e74c7",
   "metadata": {},
   "source": [
    "# HistoricalDataSource"
   ]
  },
  {
   "cell_type": "code",
   "execution_count": 7,
   "id": "2c053596",
   "metadata": {
    "ExecuteTime": {
     "end_time": "2024-02-14T19:25:17.305497Z",
     "start_time": "2024-02-14T19:25:17.179053Z"
    }
   },
   "outputs": [
    {
     "name": "stdout",
     "output_type": "stream",
     "text": [
      "INFO  Full symbols=['binance::BTC_USDT', 'binance::ETH_USDT']\n"
     ]
    }
   ],
   "source": [
    "as_full_symbol = True\n",
    "full_symbols = ivcu.get_vendor_universe(\n",
    "    config[\"universe\"][\"vendor\"],\n",
    "    config[\"universe\"][\"mode\"],\n",
    "    version=config[\"universe\"][\"version\"],\n",
    "    as_full_symbol=as_full_symbol,\n",
    ")\n",
    "# Use only a subset for the demonstration.\n",
    "_LOG.info(\"Full symbols=%s\", full_symbols)"
   ]
  },
  {
   "cell_type": "code",
   "execution_count": 8,
   "id": "434195a3",
   "metadata": {
    "ExecuteTime": {
     "end_time": "2024-02-14T19:25:17.369230Z",
     "start_time": "2024-02-14T19:25:17.308449Z"
    }
   },
   "outputs": [
    {
     "name": "stdout",
     "output_type": "stream",
     "text": [
      "INFO  Asset ids=[1467591036, 1464553467]\n"
     ]
    }
   ],
   "source": [
    "asset_ids = list(ivcu.build_numerical_to_string_id_mapping(full_symbols).keys())\n",
    "_LOG.info(\"Asset ids=%s\", asset_ids)"
   ]
  },
  {
   "cell_type": "code",
   "execution_count": 9,
   "id": "5aa2c438",
   "metadata": {
    "ExecuteTime": {
     "end_time": "2024-02-14T19:25:17.432641Z",
     "start_time": "2024-02-14T19:25:17.372220Z"
    }
   },
   "outputs": [],
   "source": [
    "ohlcv_im_client = icdcl.CcxtHistoricalPqByTileClient(\n",
    "    **config[\"ohlcv_market_data\"][\"ohlcv_im_client_config\"]\n",
    ")\n",
    "ohlcv_market_data = mdmadaex.get_HistoricalImClientMarketData_example1(\n",
    "    ohlcv_im_client,\n",
    "    asset_ids,\n",
    "    config[\"ohlcv_market_data\"][\"columns\"],\n",
    "    config[\"ohlcv_market_data\"][\"column_remap\"],\n",
    "    wall_clock_time=config[\"ohlcv_market_data\"][\"wall_clock_time\"],\n",
    "    filter_data_mode=config[\"ohlcv_market_data\"][\"filter_data_mode\"],\n",
    ")"
   ]
  },
  {
   "cell_type": "code",
   "execution_count": 10,
   "id": "89d2e5e7",
   "metadata": {
    "ExecuteTime": {
     "end_time": "2024-02-14T19:25:17.494297Z",
     "start_time": "2024-02-14T19:25:17.436801Z"
    }
   },
   "outputs": [],
   "source": [
    "bid_ask_im_client = icdcl.CcxtHistoricalPqByTileClient(\n",
    "    **config[\"bid_ask_market_data\"][\"bid_ask_im_client_config\"]\n",
    ")\n",
    "bid_ask_market_data = mdmadaex.get_HistoricalImClientMarketData_example1(\n",
    "    bid_ask_im_client,\n",
    "    asset_ids,\n",
    "    config[\"bid_ask_market_data\"][\"columns\"],\n",
    "    config[\"bid_ask_market_data\"][\"column_remap\"],\n",
    "    wall_clock_time=config[\"bid_ask_market_data\"][\"wall_clock_time\"],\n",
    "    filter_data_mode=config[\"bid_ask_market_data\"][\"filter_data_mode\"],\n",
    ")"
   ]
  },
  {
   "cell_type": "code",
   "execution_count": 11,
   "id": "ebbae9f9",
   "metadata": {
    "ExecuteTime": {
     "end_time": "2024-02-14T19:25:17.574286Z",
     "start_time": "2024-02-14T19:25:17.496442Z"
    }
   },
   "outputs": [],
   "source": [
    "stitched_mdata = mdmadaex.get_HorizontalStitchedMarketData_example1(\n",
    "    bid_ask_market_data,\n",
    "    ohlcv_market_data,\n",
    "    asset_ids,\n",
    "    config[\"stitched_market_data\"][\"columns\"],\n",
    "    config[\"stitched_market_data\"][\"column_remap\"],\n",
    "    filter_data_mode=config[\"stitched_market_data\"][\"filter_data_mode\"],\n",
    ")"
   ]
  },
  {
   "cell_type": "code",
   "execution_count": 12,
   "id": "597d1c37",
   "metadata": {
    "ExecuteTime": {
     "end_time": "2024-02-14T19:25:17.635441Z",
     "start_time": "2024-02-14T19:25:17.576869Z"
    }
   },
   "outputs": [],
   "source": [
    "data_source_node = dtfsys.HistoricalDataSource(\n",
    "    config[\"historical_data_source\"][\"nid\"],\n",
    "    stitched_mdata,\n",
    "    config[\"historical_data_source\"][\"ts_col_name\"],\n",
    "    config[\"historical_data_source\"][\"multiindex_output\"],\n",
    "    col_names_to_remove=config[\"historical_data_source\"][\"columns_to_remove\"],\n",
    ")\n",
    "data_source_node.set_fit_intervals(\n",
    "    [(config[\"start_timestamp\"], config[\"end_timestamp\"])]\n",
    ")"
   ]
  },
  {
   "cell_type": "markdown",
   "id": "877e01c1",
   "metadata": {},
   "source": [
    "# Build and run the DAG"
   ]
  },
  {
   "cell_type": "code",
   "execution_count": 13,
   "id": "0067d838",
   "metadata": {
    "ExecuteTime": {
     "end_time": "2024-02-14T19:25:17.840551Z",
     "start_time": "2024-02-14T19:25:17.638688Z"
    }
   },
   "outputs": [
    {
     "data": {
      "image/png": "[encoded data removed]",
      "text/plain": [
       "<IPython.core.display.Image object>"
      ]
     },
     "execution_count": 13,
     "metadata": {},
     "output_type": "execute_result"
    }
   ],
   "source": [
    "dag_builder = dtfapmmopi.Mock3_DagBuilder()\n",
    "dag = dag_builder.get_fully_built_dag()\n",
    "dtfcore.draw(dag)"
   ]
  },
  {
   "cell_type": "code",
   "execution_count": 14,
   "id": "4f89e8cc",
   "metadata": {
    "ExecuteTime": {
     "end_time": "2024-02-14T19:25:17.925379Z",
     "start_time": "2024-02-14T19:25:17.843092Z"
    }
   },
   "outputs": [
    {
     "data": {
      "image/png": "[encoded data removed]",
      "text/plain": [
       "<IPython.core.display.Image object>"
      ]
     },
     "execution_count": 14,
     "metadata": {},
     "output_type": "execute_result"
    }
   ],
   "source": [
    "dag.insert_at_head(data_source_node)\n",
    "dtfcore.draw(dag)"
   ]
  },
  {
   "cell_type": "code",
   "execution_count": 15,
   "id": "19416bdd",
   "metadata": {
    "ExecuteTime": {
     "end_time": "2024-02-14T19:25:25.176878Z",
     "start_time": "2024-02-14T19:25:17.927716Z"
    },
    "run_control": {
     "marked": true
    }
   },
   "outputs": [
    {
     "data": {
      "application/vnd.jupyter.widget-view+json": {
       "model_id": "55330580e15f467e83471e662c731afd",
       "version_major": 2,
       "version_minor": 0
      },
      "text/plain": [
       "run_leq_node:   0%|          | 0/4 [00:00<?, ?it/s]"
      ]
     },
     "metadata": {},
     "output_type": "display_data"
    },
    {
     "name": "stderr",
     "output_type": "stream",
     "text": [
      "/app/helpers/hdbg.py:292: PerformanceWarning: indexing past lexsort depth may impact performance.\n",
      "  cond = value in valid_values\n",
      "/app/helpers/hdbg.py:292: PerformanceWarning: indexing past lexsort depth may impact performance.\n",
      "  cond = value in valid_values\n"
     ]
    },
    {
     "data": {
      "text/html": [
       "<div>\n",
       "<style scoped>\n",
       "    .dataframe tbody tr th:only-of-type {\n",
       "        vertical-align: middle;\n",
       "    }\n",
       "\n",
       "    .dataframe tbody tr th {\n",
       "        vertical-align: top;\n",
       "    }\n",
       "\n",
       "    .dataframe thead tr th {\n",
       "        text-align: left;\n",
       "    }\n",
       "\n",
       "    .dataframe thead tr:last-of-type th {\n",
       "        text-align: right;\n",
       "    }\n",
       "</style>\n",
       "<table border=\"1\" class=\"dataframe\">\n",
       "  <thead>\n",
       "    <tr>\n",
       "      <th></th>\n",
       "      <th colspan=\"2\" halign=\"left\">half_spread_in_bps</th>\n",
       "      <th colspan=\"2\" halign=\"left\">bid_ask_midpoint</th>\n",
       "      <th colspan=\"2\" halign=\"left\">half_spread</th>\n",
       "      <th colspan=\"2\" halign=\"left\">close</th>\n",
       "      <th colspan=\"2\" halign=\"left\">high</th>\n",
       "      <th colspan=\"2\" halign=\"left\">knowledge_timestamp</th>\n",
       "      <th colspan=\"2\" halign=\"left\">level_1.ask_price.close</th>\n",
       "      <th colspan=\"2\" halign=\"left\">level_1.ask_price.high</th>\n",
       "      <th colspan=\"2\" halign=\"left\">level_1.ask_price.low</th>\n",
       "      <th colspan=\"2\" halign=\"left\">level_1.ask_price.mean</th>\n",
       "      <th colspan=\"2\" halign=\"left\">level_1.ask_price.open</th>\n",
       "      <th colspan=\"2\" halign=\"left\">level_1.ask_size.close</th>\n",
       "      <th colspan=\"2\" halign=\"left\">level_1.ask_size.max</th>\n",
       "      <th colspan=\"2\" halign=\"left\">level_1.ask_size.mean</th>\n",
       "      <th colspan=\"2\" halign=\"left\">level_1.ask_size.min</th>\n",
       "      <th colspan=\"2\" halign=\"left\">level_1.ask_size.open</th>\n",
       "      <th colspan=\"2\" halign=\"left\">level_1.bid_price.close</th>\n",
       "      <th colspan=\"2\" halign=\"left\">level_1.bid_price.high</th>\n",
       "      <th colspan=\"2\" halign=\"left\">level_1.bid_price.low</th>\n",
       "      <th colspan=\"2\" halign=\"left\">level_1.bid_price.mean</th>\n",
       "      <th colspan=\"2\" halign=\"left\">level_1.bid_price.open</th>\n",
       "      <th colspan=\"2\" halign=\"left\">level_1.bid_size.close</th>\n",
       "      <th colspan=\"2\" halign=\"left\">level_1.bid_size.max</th>\n",
       "      <th colspan=\"2\" halign=\"left\">level_1.bid_size.mean</th>\n",
       "      <th colspan=\"2\" halign=\"left\">level_1.bid_size.min</th>\n",
       "      <th colspan=\"2\" halign=\"left\">level_1.bid_size.open</th>\n",
       "      <th colspan=\"2\" halign=\"left\">low</th>\n",
       "      <th colspan=\"2\" halign=\"left\">open</th>\n",
       "      <th colspan=\"2\" halign=\"left\">volume</th>\n",
       "    </tr>\n",
       "    <tr>\n",
       "      <th></th>\n",
       "      <th>1464553467</th>\n",
       "      <th>1467591036</th>\n",
       "      <th>1464553467</th>\n",
       "      <th>1467591036</th>\n",
       "      <th>1464553467</th>\n",
       "      <th>1467591036</th>\n",
       "      <th>1464553467</th>\n",
       "      <th>1467591036</th>\n",
       "      <th>1464553467</th>\n",
       "      <th>1467591036</th>\n",
       "      <th>1464553467</th>\n",
       "      <th>1467591036</th>\n",
       "      <th>1464553467</th>\n",
       "      <th>1467591036</th>\n",
       "      <th>1464553467</th>\n",
       "      <th>1467591036</th>\n",
       "      <th>1464553467</th>\n",
       "      <th>1467591036</th>\n",
       "      <th>1464553467</th>\n",
       "      <th>1467591036</th>\n",
       "      <th>1464553467</th>\n",
       "      <th>1467591036</th>\n",
       "      <th>1464553467</th>\n",
       "      <th>1467591036</th>\n",
       "      <th>1464553467</th>\n",
       "      <th>1467591036</th>\n",
       "      <th>1464553467</th>\n",
       "      <th>1467591036</th>\n",
       "      <th>1464553467</th>\n",
       "      <th>1467591036</th>\n",
       "      <th>1464553467</th>\n",
       "      <th>1467591036</th>\n",
       "      <th>1464553467</th>\n",
       "      <th>1467591036</th>\n",
       "      <th>1464553467</th>\n",
       "      <th>1467591036</th>\n",
       "      <th>1464553467</th>\n",
       "      <th>1467591036</th>\n",
       "      <th>1464553467</th>\n",
       "      <th>1467591036</th>\n",
       "      <th>1464553467</th>\n",
       "      <th>1467591036</th>\n",
       "      <th>1464553467</th>\n",
       "      <th>1467591036</th>\n",
       "      <th>1464553467</th>\n",
       "      <th>1467591036</th>\n",
       "      <th>1464553467</th>\n",
       "      <th>1467591036</th>\n",
       "      <th>1464553467</th>\n",
       "      <th>1467591036</th>\n",
       "      <th>1464553467</th>\n",
       "      <th>1467591036</th>\n",
       "      <th>1464553467</th>\n",
       "      <th>1467591036</th>\n",
       "      <th>1464553467</th>\n",
       "      <th>1467591036</th>\n",
       "      <th>1464553467</th>\n",
       "      <th>1467591036</th>\n",
       "    </tr>\n",
       "    <tr>\n",
       "      <th>end_ts</th>\n",
       "      <th></th>\n",
       "      <th></th>\n",
       "      <th></th>\n",
       "      <th></th>\n",
       "      <th></th>\n",
       "      <th></th>\n",
       "      <th></th>\n",
       "      <th></th>\n",
       "      <th></th>\n",
       "      <th></th>\n",
       "      <th></th>\n",
       "      <th></th>\n",
       "      <th></th>\n",
       "      <th></th>\n",
       "      <th></th>\n",
       "      <th></th>\n",
       "      <th></th>\n",
       "      <th></th>\n",
       "      <th></th>\n",
       "      <th></th>\n",
       "      <th></th>\n",
       "      <th></th>\n",
       "      <th></th>\n",
       "      <th></th>\n",
       "      <th></th>\n",
       "      <th></th>\n",
       "      <th></th>\n",
       "      <th></th>\n",
       "      <th></th>\n",
       "      <th></th>\n",
       "      <th></th>\n",
       "      <th></th>\n",
       "      <th></th>\n",
       "      <th></th>\n",
       "      <th></th>\n",
       "      <th></th>\n",
       "      <th></th>\n",
       "      <th></th>\n",
       "      <th></th>\n",
       "      <th></th>\n",
       "      <th></th>\n",
       "      <th></th>\n",
       "      <th></th>\n",
       "      <th></th>\n",
       "      <th></th>\n",
       "      <th></th>\n",
       "      <th></th>\n",
       "      <th></th>\n",
       "      <th></th>\n",
       "      <th></th>\n",
       "      <th></th>\n",
       "      <th></th>\n",
       "      <th></th>\n",
       "      <th></th>\n",
       "      <th></th>\n",
       "      <th></th>\n",
       "      <th></th>\n",
       "      <th></th>\n",
       "    </tr>\n",
       "  </thead>\n",
       "  <tbody>\n",
       "    <tr>\n",
       "      <th>2023-09-10 20:00:00-04:00</th>\n",
       "      <td>0.030932</td>\n",
       "      <td>0.019358</td>\n",
       "      <td>1616.465</td>\n",
       "      <td>25828.45</td>\n",
       "      <td>0.005</td>\n",
       "      <td>0.05</td>\n",
       "      <td>1616.47</td>\n",
       "      <td>25828.4</td>\n",
       "      <td>1616.87</td>\n",
       "      <td>25830.5</td>\n",
       "      <td>2023-11-30 21:37:09.705931+00:00</td>\n",
       "      <td>2023-11-30 21:37:09.705931+00:00</td>\n",
       "      <td>1616.47</td>\n",
       "      <td>25828.5</td>\n",
       "      <td>1616.88</td>\n",
       "      <td>25830.5</td>\n",
       "      <td>1616.47</td>\n",
       "      <td>25828.5</td>\n",
       "      <td>1616.673821</td>\n",
       "      <td>25829.231837</td>\n",
       "      <td>1616.88</td>\n",
       "      <td>25829.0</td>\n",
       "      <td>49.234</td>\n",
       "      <td>9.031</td>\n",
       "      <td>164.987</td>\n",
       "      <td>25.098</td>\n",
       "      <td>90.262045</td>\n",
       "      <td>9.467396</td>\n",
       "      <td>5.071</td>\n",
       "      <td>0.039</td>\n",
       "      <td>92.699</td>\n",
       "      <td>1.766</td>\n",
       "      <td>1616.46</td>\n",
       "      <td>25828.4</td>\n",
       "      <td>1616.87</td>\n",
       "      <td>25830.4</td>\n",
       "      <td>1616.46</td>\n",
       "      <td>25828.4</td>\n",
       "      <td>1616.663780</td>\n",
       "      <td>25829.131837</td>\n",
       "      <td>1616.87</td>\n",
       "      <td>25828.9</td>\n",
       "      <td>39.984</td>\n",
       "      <td>4.178</td>\n",
       "      <td>99.315</td>\n",
       "      <td>24.253</td>\n",
       "      <td>22.051272</td>\n",
       "      <td>8.006967</td>\n",
       "      <td>0.069</td>\n",
       "      <td>0.051</td>\n",
       "      <td>1.947</td>\n",
       "      <td>23.794</td>\n",
       "      <td>1616.46</td>\n",
       "      <td>25828.4</td>\n",
       "      <td>1616.87</td>\n",
       "      <td>25829.0</td>\n",
       "      <td>392.478</td>\n",
       "      <td>35.063</td>\n",
       "    </tr>\n",
       "    <tr>\n",
       "      <th>2023-09-10 20:01:00-04:00</th>\n",
       "      <td>0.030921</td>\n",
       "      <td>0.019353</td>\n",
       "      <td>1617.035</td>\n",
       "      <td>25835.75</td>\n",
       "      <td>0.005</td>\n",
       "      <td>0.05</td>\n",
       "      <td>1617.04</td>\n",
       "      <td>25835.7</td>\n",
       "      <td>1617.22</td>\n",
       "      <td>25835.8</td>\n",
       "      <td>2023-11-30 21:37:31.833535+00:00</td>\n",
       "      <td>2023-11-30 21:37:31.833535+00:00</td>\n",
       "      <td>1617.04</td>\n",
       "      <td>25835.8</td>\n",
       "      <td>1617.22</td>\n",
       "      <td>25835.8</td>\n",
       "      <td>1616.47</td>\n",
       "      <td>25828.5</td>\n",
       "      <td>1617.017342</td>\n",
       "      <td>25833.188750</td>\n",
       "      <td>1616.47</td>\n",
       "      <td>25828.5</td>\n",
       "      <td>9.077</td>\n",
       "      <td>10.631</td>\n",
       "      <td>193.070</td>\n",
       "      <td>24.754</td>\n",
       "      <td>60.578127</td>\n",
       "      <td>6.137950</td>\n",
       "      <td>0.001</td>\n",
       "      <td>0.005</td>\n",
       "      <td>26.691</td>\n",
       "      <td>9.038</td>\n",
       "      <td>1617.03</td>\n",
       "      <td>25835.7</td>\n",
       "      <td>1617.21</td>\n",
       "      <td>25835.7</td>\n",
       "      <td>1616.46</td>\n",
       "      <td>25828.4</td>\n",
       "      <td>1617.006498</td>\n",
       "      <td>25833.086667</td>\n",
       "      <td>1616.46</td>\n",
       "      <td>25828.4</td>\n",
       "      <td>81.301</td>\n",
       "      <td>4.403</td>\n",
       "      <td>176.820</td>\n",
       "      <td>40.841</td>\n",
       "      <td>51.149008</td>\n",
       "      <td>16.718008</td>\n",
       "      <td>0.010</td>\n",
       "      <td>0.047</td>\n",
       "      <td>96.056</td>\n",
       "      <td>3.307</td>\n",
       "      <td>1616.46</td>\n",
       "      <td>25828.1</td>\n",
       "      <td>1616.46</td>\n",
       "      <td>25828.4</td>\n",
       "      <td>2311.134</td>\n",
       "      <td>152.568</td>\n",
       "    </tr>\n",
       "    <tr>\n",
       "      <th>2023-09-10 20:02:00-04:00</th>\n",
       "      <td>0.030934</td>\n",
       "      <td>0.019365</td>\n",
       "      <td>1616.345</td>\n",
       "      <td>25820.35</td>\n",
       "      <td>0.005</td>\n",
       "      <td>0.05</td>\n",
       "      <td>1616.34</td>\n",
       "      <td>25820.4</td>\n",
       "      <td>1617.04</td>\n",
       "      <td>25835.8</td>\n",
       "      <td>2023-11-30 21:37:31.833535+00:00</td>\n",
       "      <td>2023-11-30 21:37:31.833535+00:00</td>\n",
       "      <td>1616.35</td>\n",
       "      <td>25820.4</td>\n",
       "      <td>1617.04</td>\n",
       "      <td>25835.8</td>\n",
       "      <td>1616.35</td>\n",
       "      <td>25820.4</td>\n",
       "      <td>1616.732417</td>\n",
       "      <td>25826.551037</td>\n",
       "      <td>1617.04</td>\n",
       "      <td>25835.8</td>\n",
       "      <td>83.930</td>\n",
       "      <td>10.543</td>\n",
       "      <td>313.826</td>\n",
       "      <td>27.207</td>\n",
       "      <td>72.540588</td>\n",
       "      <td>14.634087</td>\n",
       "      <td>4.727</td>\n",
       "      <td>0.491</td>\n",
       "      <td>13.554</td>\n",
       "      <td>10.637</td>\n",
       "      <td>1616.34</td>\n",
       "      <td>25820.3</td>\n",
       "      <td>1617.03</td>\n",
       "      <td>25835.7</td>\n",
       "      <td>1616.34</td>\n",
       "      <td>25820.3</td>\n",
       "      <td>1616.722417</td>\n",
       "      <td>25826.451037</td>\n",
       "      <td>1617.03</td>\n",
       "      <td>25835.7</td>\n",
       "      <td>14.256</td>\n",
       "      <td>5.850</td>\n",
       "      <td>124.889</td>\n",
       "      <td>18.013</td>\n",
       "      <td>31.368475</td>\n",
       "      <td>5.641544</td>\n",
       "      <td>0.008</td>\n",
       "      <td>0.045</td>\n",
       "      <td>86.929</td>\n",
       "      <td>4.227</td>\n",
       "      <td>1616.34</td>\n",
       "      <td>25820.3</td>\n",
       "      <td>1617.04</td>\n",
       "      <td>25835.8</td>\n",
       "      <td>1018.178</td>\n",
       "      <td>121.519</td>\n",
       "    </tr>\n",
       "    <tr>\n",
       "      <th>2023-09-10 20:03:00-04:00</th>\n",
       "      <td>0.030936</td>\n",
       "      <td>0.019362</td>\n",
       "      <td>1616.235</td>\n",
       "      <td>25823.45</td>\n",
       "      <td>0.005</td>\n",
       "      <td>0.05</td>\n",
       "      <td>1616.24</td>\n",
       "      <td>25823.5</td>\n",
       "      <td>1616.65</td>\n",
       "      <td>25828.4</td>\n",
       "      <td>2023-11-30 21:37:31.833535+00:00</td>\n",
       "      <td>2023-11-30 21:37:31.833535+00:00</td>\n",
       "      <td>1616.24</td>\n",
       "      <td>25823.5</td>\n",
       "      <td>1616.65</td>\n",
       "      <td>25828.4</td>\n",
       "      <td>1616.09</td>\n",
       "      <td>25818.5</td>\n",
       "      <td>1616.292116</td>\n",
       "      <td>25822.571369</td>\n",
       "      <td>1616.34</td>\n",
       "      <td>25820.4</td>\n",
       "      <td>50.655</td>\n",
       "      <td>0.803</td>\n",
       "      <td>173.671</td>\n",
       "      <td>22.784</td>\n",
       "      <td>51.319515</td>\n",
       "      <td>6.750008</td>\n",
       "      <td>0.005</td>\n",
       "      <td>0.034</td>\n",
       "      <td>44.275</td>\n",
       "      <td>10.548</td>\n",
       "      <td>1616.23</td>\n",
       "      <td>25823.4</td>\n",
       "      <td>1616.64</td>\n",
       "      <td>25828.3</td>\n",
       "      <td>1616.08</td>\n",
       "      <td>25818.4</td>\n",
       "      <td>1616.282116</td>\n",
       "      <td>25822.470954</td>\n",
       "      <td>1616.33</td>\n",
       "      <td>25820.3</td>\n",
       "      <td>182.573</td>\n",
       "      <td>17.998</td>\n",
       "      <td>286.728</td>\n",
       "      <td>25.075</td>\n",
       "      <td>78.769315</td>\n",
       "      <td>10.412838</td>\n",
       "      <td>0.524</td>\n",
       "      <td>0.037</td>\n",
       "      <td>26.094</td>\n",
       "      <td>4.758</td>\n",
       "      <td>1616.02</td>\n",
       "      <td>25818.4</td>\n",
       "      <td>1616.34</td>\n",
       "      <td>25820.4</td>\n",
       "      <td>1007.892</td>\n",
       "      <td>102.191</td>\n",
       "    </tr>\n",
       "    <tr>\n",
       "      <th>2023-09-10 20:04:00-04:00</th>\n",
       "      <td>0.030923</td>\n",
       "      <td>0.019352</td>\n",
       "      <td>1616.915</td>\n",
       "      <td>25836.55</td>\n",
       "      <td>0.005</td>\n",
       "      <td>0.05</td>\n",
       "      <td>1616.91</td>\n",
       "      <td>25836.6</td>\n",
       "      <td>1617.17</td>\n",
       "      <td>25838.7</td>\n",
       "      <td>2023-11-30 21:37:31.833535+00:00</td>\n",
       "      <td>2023-11-30 21:37:31.833535+00:00</td>\n",
       "      <td>1616.92</td>\n",
       "      <td>25836.6</td>\n",
       "      <td>1617.17</td>\n",
       "      <td>25838.7</td>\n",
       "      <td>1616.23</td>\n",
       "      <td>25823.5</td>\n",
       "      <td>1616.766694</td>\n",
       "      <td>25834.211570</td>\n",
       "      <td>1616.24</td>\n",
       "      <td>25823.5</td>\n",
       "      <td>10.976</td>\n",
       "      <td>14.751</td>\n",
       "      <td>368.600</td>\n",
       "      <td>17.403</td>\n",
       "      <td>34.740719</td>\n",
       "      <td>5.511008</td>\n",
       "      <td>0.012</td>\n",
       "      <td>0.001</td>\n",
       "      <td>50.655</td>\n",
       "      <td>0.819</td>\n",
       "      <td>1616.91</td>\n",
       "      <td>25836.5</td>\n",
       "      <td>1617.16</td>\n",
       "      <td>25838.6</td>\n",
       "      <td>1616.22</td>\n",
       "      <td>25823.4</td>\n",
       "      <td>1616.756653</td>\n",
       "      <td>25834.111570</td>\n",
       "      <td>1616.23</td>\n",
       "      <td>25823.4</td>\n",
       "      <td>73.273</td>\n",
       "      <td>2.077</td>\n",
       "      <td>216.570</td>\n",
       "      <td>25.893</td>\n",
       "      <td>75.759992</td>\n",
       "      <td>8.421421</td>\n",
       "      <td>0.004</td>\n",
       "      <td>0.136</td>\n",
       "      <td>182.573</td>\n",
       "      <td>18.004</td>\n",
       "      <td>1616.22</td>\n",
       "      <td>25823.4</td>\n",
       "      <td>1616.23</td>\n",
       "      <td>25823.5</td>\n",
       "      <td>1314.709</td>\n",
       "      <td>112.531</td>\n",
       "    </tr>\n",
       "  </tbody>\n",
       "</table>\n",
       "</div>"
      ],
      "text/plain": [
       "                          half_spread_in_bps            bid_ask_midpoint            half_spread                 close                  high                         knowledge_timestamp                                  level_1.ask_price.close            level_1.ask_price.high            level_1.ask_price.low            level_1.ask_price.mean               level_1.ask_price.open            level_1.ask_size.close            level_1.ask_size.max            level_1.ask_size.mean            level_1.ask_size.min            level_1.ask_size.open            level_1.bid_price.close            level_1.bid_price.high            level_1.bid_price.low            level_1.bid_price.mean               level_1.bid_price.open            level_1.bid_size.close            level_1.bid_size.max            level_1.bid_size.mean            level_1.bid_size.min            level_1.bid_size.open                   low                  open                volume           \n",
       "                                  1464553467 1467591036       1464553467 1467591036  1464553467 1467591036 1464553467 1467591036 1464553467 1467591036                       1464553467                       1467591036              1464553467 1467591036             1464553467 1467591036            1464553467 1467591036             1464553467    1467591036             1464553467 1467591036             1464553467 1467591036           1464553467 1467591036            1464553467 1467591036           1464553467 1467591036            1464553467 1467591036              1464553467 1467591036             1464553467 1467591036            1464553467 1467591036             1464553467    1467591036             1464553467 1467591036             1464553467 1467591036           1464553467 1467591036            1464553467 1467591036           1464553467 1467591036            1464553467 1467591036 1464553467 1467591036 1464553467 1467591036 1464553467 1467591036\n",
       "end_ts                                                                                                                                                                                                                                                                                                                                                                                                                                                                                                                                                                                                                                                                                                                                                                                                                                                                                                                                                                                      \n",
       "2023-09-10 20:00:00-04:00           0.030932   0.019358         1616.465   25828.45       0.005       0.05    1616.47    25828.4    1616.87    25830.5 2023-11-30 21:37:09.705931+00:00 2023-11-30 21:37:09.705931+00:00                 1616.47    25828.5                1616.88    25830.5               1616.47    25828.5            1616.673821  25829.231837                1616.88    25829.0                 49.234      9.031              164.987     25.098             90.262045   9.467396                5.071      0.039                92.699      1.766                 1616.46    25828.4                1616.87    25830.4               1616.46    25828.4            1616.663780  25829.131837                1616.87    25828.9                 39.984      4.178               99.315     24.253             22.051272   8.006967                0.069      0.051                 1.947     23.794    1616.46    25828.4    1616.87    25829.0    392.478     35.063\n",
       "2023-09-10 20:01:00-04:00           0.030921   0.019353         1617.035   25835.75       0.005       0.05    1617.04    25835.7    1617.22    25835.8 2023-11-30 21:37:31.833535+00:00 2023-11-30 21:37:31.833535+00:00                 1617.04    25835.8                1617.22    25835.8               1616.47    25828.5            1617.017342  25833.188750                1616.47    25828.5                  9.077     10.631              193.070     24.754             60.578127   6.137950                0.001      0.005                26.691      9.038                 1617.03    25835.7                1617.21    25835.7               1616.46    25828.4            1617.006498  25833.086667                1616.46    25828.4                 81.301      4.403              176.820     40.841             51.149008  16.718008                0.010      0.047                96.056      3.307    1616.46    25828.1    1616.46    25828.4   2311.134    152.568\n",
       "2023-09-10 20:02:00-04:00           0.030934   0.019365         1616.345   25820.35       0.005       0.05    1616.34    25820.4    1617.04    25835.8 2023-11-30 21:37:31.833535+00:00 2023-11-30 21:37:31.833535+00:00                 1616.35    25820.4                1617.04    25835.8               1616.35    25820.4            1616.732417  25826.551037                1617.04    25835.8                 83.930     10.543              313.826     27.207             72.540588  14.634087                4.727      0.491                13.554     10.637                 1616.34    25820.3                1617.03    25835.7               1616.34    25820.3            1616.722417  25826.451037                1617.03    25835.7                 14.256      5.850              124.889     18.013             31.368475   5.641544                0.008      0.045                86.929      4.227    1616.34    25820.3    1617.04    25835.8   1018.178    121.519\n",
       "2023-09-10 20:03:00-04:00           0.030936   0.019362         1616.235   25823.45       0.005       0.05    1616.24    25823.5    1616.65    25828.4 2023-11-30 21:37:31.833535+00:00 2023-11-30 21:37:31.833535+00:00                 1616.24    25823.5                1616.65    25828.4               1616.09    25818.5            1616.292116  25822.571369                1616.34    25820.4                 50.655      0.803              173.671     22.784             51.319515   6.750008                0.005      0.034                44.275     10.548                 1616.23    25823.4                1616.64    25828.3               1616.08    25818.4            1616.282116  25822.470954                1616.33    25820.3                182.573     17.998              286.728     25.075             78.769315  10.412838                0.524      0.037                26.094      4.758    1616.02    25818.4    1616.34    25820.4   1007.892    102.191\n",
       "2023-09-10 20:04:00-04:00           0.030923   0.019352         1616.915   25836.55       0.005       0.05    1616.91    25836.6    1617.17    25838.7 2023-11-30 21:37:31.833535+00:00 2023-11-30 21:37:31.833535+00:00                 1616.92    25836.6                1617.17    25838.7               1616.23    25823.5            1616.766694  25834.211570                1616.24    25823.5                 10.976     14.751              368.600     17.403             34.740719   5.511008                0.012      0.001                50.655      0.819                 1616.91    25836.5                1617.16    25838.6               1616.22    25823.4            1616.756653  25834.111570                1616.23    25823.4                 73.273      2.077              216.570     25.893             75.759992   8.421421                0.004      0.136               182.573     18.004    1616.22    25823.4    1616.23    25823.5   1314.709    112.531"
      ]
     },
     "execution_count": 15,
     "metadata": {},
     "output_type": "execute_result"
    }
   ],
   "source": [
    "dag_df_out = dag.run_leq_node(\"compute_half_spread_in_bps\", \"fit\")[\"df_out\"]\n",
    "dag_df_out.head(5)"
   ]
  }
 ],
 "metadata": {
  "kernelspec": {
   "display_name": "Python 3 (ipykernel)",
   "language": "python",
   "name": "python3"
  },
  "language_info": {
   "codemirror_mode": {
    "name": "ipython",
    "version": 3
   },
   "file_extension": ".py",
   "mimetype": "text/x-python",
   "name": "python",
   "nbconvert_exporter": "python",
   "pygments_lexer": "ipython3",
   "version": "3.9.5"
  },
  "toc": {
   "base_numbering": 1,
   "nav_menu": {},
   "number_sections": true,
   "sideBar": true,
   "skip_h1_title": false,
   "title_cell": "Table of Contents",
   "title_sidebar": "Contents",
   "toc_cell": false,
   "toc_position": {},
   "toc_section_display": true,
   "toc_window_display": false
  }
 },
 "nbformat": 4,
 "nbformat_minor": 5
}
