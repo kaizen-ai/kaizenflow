{
  "nbformat": 4,
  "nbformat_minor": 0,
  "metadata": {
    "colab": {
      "provenance": []
    },
    "kernelspec": {
      "name": "python3",
      "display_name": "Python 3"
    },
    "language_info": {
      "name": "python"
    }
  },
  "cells": [
    {
      "cell_type": "code",
      "source": [
        "import pandas as pd\n",
        "import avro.schema\n",
        "from avro.datafile import DataFileReader, DataFileWriter\n",
        "from avro.io import DatumReader, DatumWriter"
      ],
      "metadata": {
        "id": "lB32-JYV_rt5"
      },
      "execution_count": null,
      "outputs": []
    },
    {
      "cell_type": "markdown",
      "source": [
        "## Prepare JSON Data"
      ],
      "metadata": {
        "id": "05IaMDinmBbA"
      }
    },
    {
      "cell_type": "code",
      "source": [
        "# Read and convert data\n",
        "df = pd.read_json('books.json', encoding='utf-8')\n",
        "books = df.to_dict(orient='records')\n",
        "samples = books[:5]"
      ],
      "metadata": {
        "id": "XR6-qMCo_m6v"
      },
      "execution_count": null,
      "outputs": []
    },
    {
      "cell_type": "markdown",
      "source": [
        "## Serialization & Deserialization"
      ],
      "metadata": {
        "id": "e5_bJ7gWZKRk"
      }
    },
    {
      "cell_type": "markdown",
      "source": [
        "#### Schema Parsing"
      ],
      "metadata": {
        "id": "6XCEVAGQl6uK"
      }
    },
    {
      "cell_type": "code",
      "source": [
        "# Read and store schema content\n",
        "schema = avro.schema.parse(open(\"Book.avsc\", \"rb\").read())"
      ],
      "metadata": {
        "id": "tGrR415zGlJr"
      },
      "execution_count": null,
      "outputs": []
    },
    {
      "cell_type": "markdown",
      "source": [
        "#### JSON data serialized into Avro format"
      ],
      "metadata": {
        "id": "2DsvGpdVmK8W"
      }
    },
    {
      "cell_type": "code",
      "source": [
        "# Create a Avro file and store serialized data\n",
        "with DataFileWriter(open(\"books.avro\", \"wb\"), DatumWriter(), schema) as writer:\n",
        "  # Iterates over each item in data and append it to the Avro file\n",
        "  for item in books:\n",
        "    writer.append(item)"
      ],
      "metadata": {
        "id": "fZjqBbTlMd7d"
      },
      "execution_count": null,
      "outputs": []
    },
    {
      "cell_type": "markdown",
      "source": [
        "### Deserialize Avro data back into Python dictionaries"
      ],
      "metadata": {
        "id": "sN39XQP7mad2"
      }
    },
    {
      "cell_type": "code",
      "source": [
        "# Read Avro data from the Avro file\n",
        "reader = DataFileReader(open(\"books.avro\", \"rb\"), DatumReader())\n",
        "# Iterates over and print each record in the file\n",
        "for books in reader:\n",
        "    print(books)\n",
        "reader.close()"
      ],
      "metadata": {
        "id": "21FYMjg6O3hX"
      },
      "execution_count": null,
      "outputs": []
    },
    {
      "cell_type": "markdown",
      "source": [
        "## Schema Evolution"
      ],
      "metadata": {
        "id": "b-uu2p_aZQK6"
      }
    },
    {
      "cell_type": "code",
      "source": [
        "schema_rates = avro.schema.parse(open(\"Book_with_rates.avsc\", \"rb\").read())"
      ],
      "metadata": {
        "id": "CwrTeqGnZT2p"
      },
      "execution_count": null,
      "outputs": []
    },
    {
      "cell_type": "markdown",
      "source": [
        "#### Serialize data with new schema"
      ],
      "metadata": {
        "id": "JpdSl8VPfr8A"
      }
    },
    {
      "cell_type": "code",
      "source": [
        "with DataFileWriter(open(\"samples.avro\", \"wb\"), DatumWriter(), schema_rates) as writer:\n",
        "  for item in samples:\n",
        "    writer.append(item)"
      ],
      "metadata": {
        "id": "cpXGQeL-ZxSJ"
      },
      "execution_count": null,
      "outputs": []
    },
    {
      "cell_type": "markdown",
      "source": [
        "#### Deserialize data with both old and new schemas"
      ],
      "metadata": {
        "id": "mlexOamHfxcH"
      }
    },
    {
      "cell_type": "code",
      "source": [
        "with DataFileReader(open(\"samples.avro\", \"rb\"), DatumReader(schema)) as reader:\n",
        "  for book in reader:\n",
        "    print(book)"
      ],
      "metadata": {
        "id": "VlwH_wEUb8Kr"
      },
      "execution_count": null,
      "outputs": []
    },
    {
      "cell_type": "code",
      "source": [
        "with DataFileReader(open(\"samples.avro\", \"rb\"), DatumReader(schema_rates)) as reader:\n",
        "  for book in reader:\n",
        "    print(book)"
      ],
      "metadata": {
        "id": "JaXFsDLUe7Gs"
      },
      "execution_count": null,
      "outputs": []
    },
    {
      "cell_type": "markdown",
      "source": [
        "## Compatibility Testing"
      ],
      "metadata": {
        "id": "ookH2pCQmMl0"
      }
    },
    {
      "cell_type": "markdown",
      "source": [
        "#### Serialization with old schema and Deserialization with new schema"
      ],
      "metadata": {
        "id": "t3Oj0jiymu5J"
      }
    },
    {
      "cell_type": "code",
      "source": [
        "with DataFileWriter(open(\"samples_oldSchema.avro\", \"wb\"), DatumWriter(), schema) as writer:\n",
        "  for item in samples:\n",
        "    writer.append(item)"
      ],
      "metadata": {
        "id": "OKgId6yXmQU-"
      },
      "execution_count": null,
      "outputs": []
    },
    {
      "cell_type": "code",
      "source": [
        "with DataFileReader(open(\"samples_oldSchema.avro\", \"rb\"), DatumReader(schema_rates)) as reader:\n",
        "  for book in reader:\n",
        "    print(book)"
      ],
      "metadata": {
        "id": "Y02JbXlVmiA7"
      },
      "execution_count": null,
      "outputs": []
    },
    {
      "cell_type": "markdown",
      "source": [
        "#### Serialization with new schema and Deserialization with old schema"
      ],
      "metadata": {
        "id": "QT3QqST9m65m"
      }
    },
    {
      "cell_type": "code",
      "source": [
        "with DataFileWriter(open(\"samples_newSchema.avro\", \"wb\"), DatumWriter(), schema_rates) as writer:\n",
        "  for item in samples:\n",
        "    writer.append(item)"
      ],
      "metadata": {
        "id": "FW1fTl4RnA9J"
      },
      "execution_count": null,
      "outputs": []
    },
    {
      "cell_type": "code",
      "source": [
        "with DataFileReader(open(\"samples_newSchema.avro\", \"rb\"), DatumReader(schema)) as reader:\n",
        "  for book in reader:\n",
        "    print(book)"
      ],
      "metadata": {
        "id": "Yhq1oj-UnqzR"
      },
      "execution_count": null,
      "outputs": []
    },
    {
      "cell_type": "markdown",
      "source": [
        "## Backward-incompatible Change"
      ],
      "metadata": {
        "id": "MwWhsTpTkOxy"
      }
    },
    {
      "cell_type": "code",
      "source": [
        "schema_noImage = schema_rates = avro.schema.parse(open(\"Book_no_images.avsc\", \"rb\").read())"
      ],
      "metadata": {
        "id": "R1hpMR-PlkQH"
      },
      "execution_count": null,
      "outputs": []
    },
    {
      "cell_type": "code",
      "source": [
        "with DataFileWriter(open(\"samples.avro\", \"wb\"), DatumWriter(), schema_noImage) as writer:\n",
        "  for item in samples:\n",
        "    writer.append(item)"
      ],
      "metadata": {
        "id": "SGLAH93BkQm6"
      },
      "execution_count": null,
      "outputs": []
    }
  ]
}