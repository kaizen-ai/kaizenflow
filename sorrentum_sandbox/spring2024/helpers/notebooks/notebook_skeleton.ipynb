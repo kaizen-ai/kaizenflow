{
 "cells": [
  {
   "cell_type": "markdown",
   "metadata": {},
   "source": [
    "# Description\n",
    "\n",
    "This notebook examines ..."
   ]
  },
  {
   "cell_type": "code",
   "execution_count": 1,
   "metadata": {
    "ExecuteTime": {
     "end_time": "2021-04-02T18:11:14.828251Z",
     "start_time": "2021-04-02T18:11:14.514771Z"
    }
   },
   "outputs": [],
   "source": [
    "%load_ext autoreload\n",
    "%autoreload 2\n",
    "\n",
    "import logging\n",
    "\n",
    "import helpers.hdbg as hdbg\n",
    "import helpers.henv as henv\n",
    "import helpers.hprint as hprint"
   ]
  },
  {
   "cell_type": "code",
   "execution_count": 3,
   "metadata": {
    "ExecuteTime": {
     "end_time": "2021-04-02T18:11:24.635995Z",
     "start_time": "2021-04-02T18:11:18.239237Z"
    }
   },
   "outputs": [
    {
     "name": "stdout",
     "output_type": "stream",
     "text": [
      "# Packages\n",
      "         python: 3.7.10\n",
      "       gluonnlp: 0.10.0\n",
      "        gluonts: 0.6.7\n",
      "         joblib: 1.0.1\n",
      "          mxnet: 1.8.0\n",
      "          numpy: 1.20.1\n",
      "         pandas: 1.2.3\n",
      "        pyarrow: 3.0.0\n",
      "          scipy: 1.6.1\n",
      "        seaborn: 0.11.1\n",
      "        sklearn: 0.24.1\n",
      "    statsmodels: 0.12.2\n",
      "# Last commits:\n",
      "  * 9c84f6d4 saggese  Lint                                                              (68 minutes ago) Fri Apr 2 17:03:37 2021  (HEAD -> AmpTask1179_Audit_IM_03, origin/AmpTask1179_Audit_IM_03)\n",
      "  * 0a999a51 saggese  Improve comments                                                  (   2 hours ago) Fri Apr 2 16:40:50 2021           \n",
      "  * 199ec5ae saggese  Improve comments                                                  (   2 hours ago) Fri Apr 2 16:26:43 2021           \n"
     ]
    }
   ],
   "source": [
    "print(henv.get_system_signature()[0])\n",
    "\n",
    "hprint.config_notebook()"
   ]
  },
  {
   "cell_type": "code",
   "execution_count": 4,
   "metadata": {
    "ExecuteTime": {
     "end_time": "2021-04-02T18:11:24.668793Z",
     "start_time": "2021-04-02T18:11:24.638503Z"
    }
   },
   "outputs": [
    {
     "name": "stdout",
     "output_type": "stream",
     "text": [
      "\u001b[0mWARNING: Running in Jupyter\n"
     ]
    }
   ],
   "source": [
    "# hdbg.init_logger(verbosity=logging.DEBUG)\n",
    "hdbg.init_logger(verbosity=logging.INFO)\n",
    "# hdbg.test_logger()\n",
    "_LOG = logging.getLogger(__name__)"
   ]
  }
 ],
 "metadata": {
  "jupytext": {
   "formats": "ipynb,py:percent"
  },
  "kernelspec": {
   "display_name": "Python 3 (ipykernel)",
   "language": "python",
   "name": "python3"
  },
  "language_info": {
   "codemirror_mode": {
    "name": "ipython",
    "version": 3
   },
   "file_extension": ".py",
   "mimetype": "text/x-python",
   "name": "python",
   "nbconvert_exporter": "python",
   "pygments_lexer": "ipython3",
   "version": "3.8.10"
  },
  "toc": {
   "base_numbering": 1,
   "nav_menu": {},
   "number_sections": true,
   "sideBar": true,
   "skip_h1_title": false,
   "title_cell": "Table of Contents",
   "title_sidebar": "Contents",
   "toc_cell": false,
   "toc_position": {},
   "toc_section_display": true,
   "toc_window_display": true
  }
 },
 "nbformat": 4,
 "nbformat_minor": 2
}
