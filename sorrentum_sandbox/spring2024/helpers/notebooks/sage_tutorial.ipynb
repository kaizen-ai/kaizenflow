{
 "cells": [
  {
   "cell_type": "markdown",
   "id": "ae351077",
   "metadata": {},
   "source": [
    "# Maple\n",
    "\n",
    "https://www.sagemath.org/"
   ]
  },
  {
   "cell_type": "code",
   "execution_count": 5,
   "id": "67b105e6",
   "metadata": {
    "ExecuteTime": {
     "end_time": "2022-11-24T08:59:38.281663Z",
     "start_time": "2022-11-24T08:59:32.166395Z"
    }
   },
   "outputs": [
    {
     "name": "stdout",
     "output_type": "stream",
     "text": [
      "Collecting sagemath\n",
      "  Downloading sagemath-1.3.0.tar.gz (9.4 kB)\n",
      "Collecting cython>=0.26\n",
      "  Downloading Cython-0.29.32-cp38-cp38-manylinux_2_17_x86_64.manylinux2014_x86_64.manylinux_2_24_x86_64.whl (1.9 MB)\n",
      "\u001b[K     |████████████████████████████████| 1.9 MB 3.2 MB/s eta 0:00:01\n",
      "\u001b[?25hBuilding wheels for collected packages: sagemath\n",
      "  Building wheel for sagemath (setup.py) ... \u001b[?25ldone\n",
      "\u001b[?25h  Created wheel for sagemath: filename=sagemath-1.3.0-py3-none-any.whl size=9330 sha256=eb8efd936116026e66a021d4bdd88dc4d9ce207fd633706229625d26878de267\n",
      "  Stored in directory: /root/.cache/pip/wheels/da/63/1f/6dc0b464e0fec31a0d318d11748e11be903fe893fd6fb713fe\n",
      "Successfully built sagemath\n",
      "Installing collected packages: cython, sagemath\n",
      "Successfully installed cython-0.29.32 sagemath-1.3.0\n"
     ]
    }
   ],
   "source": [
    "!sudo /bin/bash -c \"(source /venv/bin/activate; pip install sagemath)\""
   ]
  },
  {
   "cell_type": "code",
   "execution_count": null,
   "id": "70f1c613",
   "metadata": {},
   "outputs": [],
   "source": []
  },
  {
   "cell_type": "markdown",
   "id": "8dd49c0c",
   "metadata": {},
   "source": [
    "# Sympy"
   ]
  },
  {
   "cell_type": "code",
   "execution_count": 3,
   "id": "bab397f4",
   "metadata": {
    "ExecuteTime": {
     "end_time": "2022-11-24T08:59:31.082906Z",
     "start_time": "2022-11-24T08:59:08.303577Z"
    }
   },
   "outputs": [
    {
     "name": "stdout",
     "output_type": "stream",
     "text": [
      "Collecting sympy\n",
      "  Downloading sympy-1.11.1-py3-none-any.whl (6.5 MB)\n",
      "\u001b[K     |████████████████████████████████| 6.5 MB 4.4 MB/s eta 0:00:01\n",
      "\u001b[?25hCollecting mpmath>=0.19\n",
      "  Downloading mpmath-1.2.1-py3-none-any.whl (532 kB)\n",
      "\u001b[K     |████████████████████████████████| 532 kB 6.2 MB/s eta 0:00:01\n",
      "\u001b[?25hInstalling collected packages: mpmath, sympy\n",
      "Successfully installed mpmath-1.2.1 sympy-1.11.1\n"
     ]
    }
   ],
   "source": [
    "!sudo /bin/bash -c \"(source /venv/bin/activate; pip install sympy)\""
   ]
  },
  {
   "cell_type": "markdown",
   "id": "c32a78b2",
   "metadata": {},
   "source": [
    "## Features\n",
    "\n",
    "https://docs.sympy.org/latest/tutorials/intro-tutorial/features.html#"
   ]
  },
  {
   "cell_type": "markdown",
   "id": "547104ae",
   "metadata": {},
   "source": [
    "## Logic\n",
    "\n",
    "https://docs.sympy.org/latest/tutorials/intro-tutorial/intro.html#what-is-symbolic-computation"
   ]
  },
  {
   "cell_type": "code",
   "execution_count": 6,
   "id": "016ffec6",
   "metadata": {
    "ExecuteTime": {
     "end_time": "2022-11-24T08:59:48.097485Z",
     "start_time": "2022-11-24T08:59:47.660109Z"
    }
   },
   "outputs": [],
   "source": [
    "from sympy import *"
   ]
  },
  {
   "cell_type": "code",
   "execution_count": 8,
   "id": "15a65c7c",
   "metadata": {
    "ExecuteTime": {
     "end_time": "2022-11-24T09:01:58.628860Z",
     "start_time": "2022-11-24T09:01:58.614742Z"
    }
   },
   "outputs": [
    {
     "data": {
      "text/latex": [
       "$\\displaystyle y \\vee \\left(x \\wedge y\\right)$"
      ],
      "text/plain": [
       "y | (x & y)"
      ]
     },
     "execution_count": 8,
     "metadata": {},
     "output_type": "execute_result"
    }
   ],
   "source": [
    "x, y = symbols('x,y')\n",
    "y | (x & y)"
   ]
  },
  {
   "cell_type": "code",
   "execution_count": 9,
   "id": "c016e526",
   "metadata": {
    "ExecuteTime": {
     "end_time": "2022-11-24T09:02:16.425181Z",
     "start_time": "2022-11-24T09:02:16.418742Z"
    }
   },
   "outputs": [
    {
     "data": {
      "text/latex": [
       "$\\displaystyle x \\Rightarrow y$"
      ],
      "text/plain": [
       "Implies(x, y)"
      ]
     },
     "execution_count": 9,
     "metadata": {},
     "output_type": "execute_result"
    }
   ],
   "source": [
    "x >> y"
   ]
  },
  {
   "cell_type": "code",
   "execution_count": 10,
   "id": "961ab5b7",
   "metadata": {
    "ExecuteTime": {
     "end_time": "2022-11-24T09:02:36.687945Z",
     "start_time": "2022-11-24T09:02:36.681518Z"
    }
   },
   "outputs": [
    {
     "data": {
      "text/latex": [
       "$\\displaystyle \\text{True}$"
      ],
      "text/plain": [
       "True"
      ]
     },
     "execution_count": 10,
     "metadata": {},
     "output_type": "execute_result"
    }
   ],
   "source": [
    "# Evaluate an expression.\n",
    "(y & x).subs({x: True, y: True})"
   ]
  },
  {
   "cell_type": "code",
   "execution_count": 11,
   "id": "d36a6df4",
   "metadata": {
    "ExecuteTime": {
     "end_time": "2022-11-24T09:03:53.122377Z",
     "start_time": "2022-11-24T09:03:53.108926Z"
    }
   },
   "outputs": [
    {
     "data": {
      "text/latex": [
       "$\\displaystyle \\left(x \\wedge \\neg w\\right) \\vee \\left(y \\wedge z \\wedge \\neg x\\right)$"
      ],
      "text/plain": [
       "(x & ~w) | (y & z & ~x)"
      ]
     },
     "execution_count": 11,
     "metadata": {},
     "output_type": "execute_result"
    }
   ],
   "source": [
    "w, x, y, z = symbols('w x y z')\n",
    "minterms = [{w: 0, x: 1}, {y: 1, z: 1, x:0}]\n",
    "SOPform([w, x, y, z], minterms)"
   ]
  },
  {
   "cell_type": "code",
   "execution_count": 12,
   "id": "351f8a29",
   "metadata": {
    "ExecuteTime": {
     "end_time": "2022-11-24T09:04:52.260031Z",
     "start_time": "2022-11-24T09:04:52.244286Z"
    }
   },
   "outputs": [
    {
     "data": {
      "text/latex": [
       "$\\displaystyle \\neg x \\wedge \\neg y$"
      ],
      "text/plain": [
       "~x & ~y"
      ]
     },
     "execution_count": 12,
     "metadata": {},
     "output_type": "execute_result"
    }
   ],
   "source": [
    "b = (~x & ~y & ~z) | ( ~x & ~y & z)\n",
    "simplify_logic(b)"
   ]
  },
  {
   "cell_type": "code",
   "execution_count": 15,
   "id": "6997a50b",
   "metadata": {
    "ExecuteTime": {
     "end_time": "2022-11-24T09:07:01.070407Z",
     "start_time": "2022-11-24T09:07:01.063092Z"
    }
   },
   "outputs": [
    {
     "name": "stdout",
     "output_type": "stream",
     "text": [
      "[0, 0] -> True\n",
      "[0, 1] -> True\n",
      "[1, 0] -> False\n",
      "[1, 1] -> True\n"
     ]
    }
   ],
   "source": [
    "# Compute truth table.\n",
    "from sympy.logic.boolalg import truth_table\n",
    "\n",
    "table = truth_table(x >> y, [x, y])\n",
    "for t in table:\n",
    "    print(f\"{t[0]} -> {t[1]}\")"
   ]
  },
  {
   "cell_type": "code",
   "execution_count": 16,
   "id": "c70e51cf",
   "metadata": {
    "ExecuteTime": {
     "end_time": "2022-11-24T09:08:01.433951Z",
     "start_time": "2022-11-24T09:08:01.298800Z"
    }
   },
   "outputs": [
    {
     "data": {
      "text/plain": [
       "False"
      ]
     },
     "execution_count": 16,
     "metadata": {},
     "output_type": "execute_result"
    }
   ],
   "source": [
    "satisfiable(x & ~x)"
   ]
  },
  {
   "cell_type": "code",
   "execution_count": 17,
   "id": "f9d0eda7",
   "metadata": {
    "ExecuteTime": {
     "end_time": "2022-11-24T09:08:14.379803Z",
     "start_time": "2022-11-24T09:08:14.364702Z"
    }
   },
   "outputs": [
    {
     "data": {
      "text/plain": [
       "{y: True, x: True}"
      ]
     },
     "execution_count": 17,
     "metadata": {},
     "output_type": "execute_result"
    }
   ],
   "source": [
    "satisfiable((x | y) & (x | ~y) & (~x | y))"
   ]
  },
  {
   "cell_type": "code",
   "execution_count": 22,
   "id": "782bd93c",
   "metadata": {
    "ExecuteTime": {
     "end_time": "2022-11-24T09:28:42.188931Z",
     "start_time": "2022-11-24T09:28:42.124276Z"
    }
   },
   "outputs": [
    {
     "data": {
      "text/plain": [
       "{L: True, Q: True, B: False, N: False}"
      ]
     },
     "execution_count": 22,
     "metadata": {},
     "output_type": "execute_result"
    }
   ],
   "source": [
    "# - (not L => Q and B and N)\n",
    "# - (N => not L)\n",
    "# - not Q => B\n",
    "# - not B\n",
    "\n",
    "L, N, Q, B = symbols('L N Q B')\n",
    "\n",
    "C = Implies(~L, Q & B & N) & Implies(N, ~L) & Implies(~Q, B) & ~B\n",
    "satisfiable(C)"
   ]
  },
  {
   "cell_type": "code",
   "execution_count": null,
   "id": "1298f34b",
   "metadata": {},
   "outputs": [],
   "source": [
    "## Stats\n",
    "\n",
    "https://docs.sympy.org/latest/modules/stats.html#"
   ]
  }
 ],
 "metadata": {
  "kernelspec": {
   "display_name": "Python 3 (ipykernel)",
   "language": "python",
   "name": "python3"
  },
  "language_info": {
   "codemirror_mode": {
    "name": "ipython",
    "version": 3
   },
   "file_extension": ".py",
   "mimetype": "text/x-python",
   "name": "python",
   "nbconvert_exporter": "python",
   "pygments_lexer": "ipython3",
   "version": "3.8.10"
  },
  "toc": {
   "base_numbering": 1,
   "nav_menu": {},
   "number_sections": true,
   "sideBar": true,
   "skip_h1_title": false,
   "title_cell": "Table of Contents",
   "title_sidebar": "Contents",
   "toc_cell": false,
   "toc_position": {},
   "toc_section_display": true,
   "toc_window_display": false
  }
 },
 "nbformat": 4,
 "nbformat_minor": 5
}
