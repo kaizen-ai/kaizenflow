{
 "cells": [
  {
   "cell_type": "markdown",
   "id": "7f006671",
   "metadata": {},
   "source": [
    "# 0 Imports"
   ]
  },
  {
   "cell_type": "code",
   "execution_count": 9,
   "id": "72e9fcab",
   "metadata": {
    "ExecuteTime": {
     "end_time": "2023-05-23T13:48:39.514915Z",
     "start_time": "2023-05-23T13:48:39.476610Z"
    }
   },
   "outputs": [
    {
     "name": "stdout",
     "output_type": "stream",
     "text": [
      "The autoreload extension is already loaded. To reload it, use:\n",
      "  %reload_ext autoreload\n"
     ]
    }
   ],
   "source": [
    "import datetime\n",
    "import logging\n",
    "\n",
    "import dataflow.model as dtfmod\n",
    "import helpers.hdbg as hdbg\n",
    "import helpers.henv as henv\n",
    "import helpers.hpandas as hpandas\n",
    "import reconciliation as reconcil\n",
    "\n",
    "%load_ext autoreload\n",
    "%autoreload 2"
   ]
  },
  {
   "cell_type": "code",
   "execution_count": 10,
   "id": "33acc8dd",
   "metadata": {
    "ExecuteTime": {
     "end_time": "2023-05-23T13:48:40.420571Z",
     "start_time": "2023-05-23T13:48:39.653348Z"
    }
   },
   "outputs": [
    {
     "name": "stdout",
     "output_type": "stream",
     "text": [
      "\u001b[0m\u001b[33mWARNING\u001b[0m: Logger already initialized: skipping\n",
      "\u001b[31m-----------------------------------------------------------------------------\n",
      "This code is not in sync with the container:\n",
      "code_version='1.4.3' != container_version='1.4.0'\n",
      "-----------------------------------------------------------------------------\n",
      "You need to:\n",
      "- merge origin/master into your branch with `invoke git_merge_master`\n",
      "- pull the latest container with `invoke docker_pull`\u001b[0m\n",
      "INFO  # Git\n",
      "  branch_name='CmTask4085_Create_a_dash_plotly_web_app_to_serve_PnL_graphs'\n",
      "  hash='04891460b'\n",
      "  # Last commits:\n",
      "    * 04891460b jsmerix  Apply changes to make deployment to ECS easier                    (    2 days ago) Sun May 21 19:35:37 2023  (HEAD -> CmTask4085_Create_a_dash_plotly_web_app_to_serve_PnL_graphs, origin/CmTask4085_Create_a_dash_plotly_web_app_to_serve_PnL_graphs)\n",
      "    * e946bbb45 vlady    CmTask4085: try to get 2019 data                                  (    2 days ago) Sun May 21 14:56:14 2023           \n",
      "    * aa3859f1b vlady    CmTask4085: playing around 2019 and 2022                          (    2 days ago) Sun May 21 14:05:03 2023           \n",
      "# Machine info\n",
      "  system=Linux\n",
      "  node name=0f553b01c400\n",
      "  release=5.15.0-1033-aws\n",
      "  version=#37~20.04.1-Ubuntu SMP Fri Mar 17 11:39:30 UTC 2023\n",
      "  machine=x86_64\n",
      "  processor=x86_64\n",
      "  cpu count=8\n",
      "  cpu freq=scpufreq(current=2499.998, min=0.0, max=0.0)\n",
      "  memory=svmem(total=33292873728, available=28335038464, percent=14.9, used=4496592896, free=7153131520, active=9847173120, inactive=12833628160, buffers=2373431296, cached=19269718016, shared=2088960, slab=3188613120)\n",
      "  disk usage=sdiskusage(total=156052275200, used=48127385600, free=107908112384, percent=30.8)\n",
      "# Packages\n",
      "  python: 3.8.10\n",
      "  cvxopt: 1.3.0\n",
      "  cvxpy: 1.2.2\n",
      "  gluonnlp: ?\n",
      "  gluonts: 0.6.7\n",
      "  joblib: 1.2.0\n",
      "  mxnet: 1.9.1\n",
      "  numpy: 1.23.4\n",
      "  pandas: 1.5.1\n",
      "  pyarrow: 10.0.0\n",
      "  scipy: 1.9.3\n",
      "  seaborn: 0.12.1\n",
      "  sklearn: 1.1.3\n",
      "  statsmodels: 0.13.5\n"
     ]
    },
    {
     "ename": "NameError",
     "evalue": "name 'hprint' is not defined",
     "output_type": "error",
     "traceback": [
      "\u001b[0;31m---------------------------------------------------------------------------\u001b[0m",
      "\u001b[0;31mNameError\u001b[0m                                 Traceback (most recent call last)",
      "Cell \u001b[0;32mIn [10], line 7\u001b[0m\n\u001b[1;32m      3\u001b[0m _LOG \u001b[38;5;241m=\u001b[39m logging\u001b[38;5;241m.\u001b[39mgetLogger(\u001b[38;5;18m__name__\u001b[39m)\n\u001b[1;32m      5\u001b[0m _LOG\u001b[38;5;241m.\u001b[39minfo(\u001b[38;5;124m\"\u001b[39m\u001b[38;5;132;01m%s\u001b[39;00m\u001b[38;5;124m\"\u001b[39m, henv\u001b[38;5;241m.\u001b[39mget_system_signature()[\u001b[38;5;241m0\u001b[39m])\n\u001b[0;32m----> 7\u001b[0m \u001b[43mhprint\u001b[49m\u001b[38;5;241m.\u001b[39mconfig_notebook()\n",
      "\u001b[0;31mNameError\u001b[0m: name 'hprint' is not defined"
     ]
    }
   ],
   "source": [
    "hdbg.init_logger(verbosity=logging.INFO)\n",
    "\n",
    "_LOG = logging.getLogger(__name__)\n",
    "\n",
    "_LOG.info(\"%s\", henv.get_system_signature()[0])\n",
    "\n",
    "hprint.config_notebook()"
   ]
  },
  {
   "cell_type": "markdown",
   "id": "f28097c8",
   "metadata": {
    "heading_collapsed": true
   },
   "source": [
    "# Current and yesterday"
   ]
  },
  {
   "cell_type": "code",
   "execution_count": 18,
   "id": "639a39eb",
   "metadata": {
    "ExecuteTime": {
     "end_time": "2023-05-12T16:29:08.948570Z",
     "start_time": "2023-05-12T16:29:07.827537Z"
    },
    "hidden": true
   },
   "outputs": [
    {
     "data": {
      "application/vnd.jupyter.widget-view+json": {
       "model_id": "b2a899d558d0432287eabb0ba9ebf991",
       "version_major": 2,
       "version_minor": 0
      },
      "text/plain": [
       "Loading `holdings_shares` files...:   0%|          | 0/40 [00:00<?, ?it/s]"
      ]
     },
     "metadata": {},
     "output_type": "display_data"
    },
    {
     "data": {
      "application/vnd.jupyter.widget-view+json": {
       "model_id": "b048b4891aa54189af572e60f75acb50",
       "version_major": 2,
       "version_minor": 0
      },
      "text/plain": [
       "Loading `holdings_notional` files...:   0%|          | 0/40 [00:00<?, ?it/s]"
      ]
     },
     "metadata": {},
     "output_type": "display_data"
    },
    {
     "data": {
      "application/vnd.jupyter.widget-view+json": {
       "model_id": "a4f950efcaa7432d8a35b8dbc3f821b3",
       "version_major": 2,
       "version_minor": 0
      },
      "text/plain": [
       "Loading `executed_trades_shares` files...:   0%|          | 0/40 [00:00<?, ?it/s]"
      ]
     },
     "metadata": {},
     "output_type": "display_data"
    },
    {
     "data": {
      "application/vnd.jupyter.widget-view+json": {
       "model_id": "1c9f62dd0e614aa09bdec038f4c827c6",
       "version_major": 2,
       "version_minor": 0
      },
      "text/plain": [
       "Loading `executed_trades_notional` files...:   0%|          | 0/40 [00:00<?, ?it/s]"
      ]
     },
     "metadata": {},
     "output_type": "display_data"
    },
    {
     "data": {
      "application/vnd.jupyter.widget-view+json": {
       "model_id": "95f8dce0e185436d9d311e0134850ca6",
       "version_major": 2,
       "version_minor": 0
      },
      "text/plain": [
       "Loading `statistics` files...:   0%|          | 0/40 [00:00<?, ?it/s]"
      ]
     },
     "metadata": {},
     "output_type": "display_data"
    }
   ],
   "source": [
    "\n",
    "\n",
    "# Load portfolio stats.\n",
    "portfolio_dir = \"/shared_data/ecs/preprod/system_reconciliation/C1b/20230512/system_log_dir.scheduled.20230512_131000.20230513_130500/process_forecasts/portfolio\"\n",
    "_, stats_df = reconcil.load_portfolio_artifacts(portfolio_dir)\n",
    "# Compute cumulative PnL.\n",
    "cumulative_pnl = stats_df[\"pnl\"].cumsum()"
   ]
  },
  {
   "cell_type": "code",
   "execution_count": 19,
   "id": "68e8331a",
   "metadata": {
    "ExecuteTime": {
     "end_time": "2023-05-12T16:29:10.016479Z",
     "start_time": "2023-05-12T16:29:10.009382Z"
    },
    "hidden": true
   },
   "outputs": [
    {
     "data": {
      "text/plain": [
       "min   2023-05-12 09:10:26.885080-04:00\n",
       "max   2023-05-12 12:25:29.066000-04:00\n",
       "dtype: datetime64[ns, America/New_York]"
      ]
     },
     "execution_count": 19,
     "metadata": {},
     "output_type": "execute_result"
    }
   ],
   "source": [
    "import pandas as pd\n",
    "\n",
    "pd.Series(cumulative_pnl.index).agg([\"min\", \"max\"])"
   ]
  },
  {
   "cell_type": "code",
   "execution_count": 21,
   "id": "d1404482",
   "metadata": {
    "ExecuteTime": {
     "end_time": "2023-05-12T16:29:29.108800Z",
     "start_time": "2023-05-12T16:29:29.104428Z"
    },
    "hidden": true
   },
   "outputs": [
    {
     "data": {
      "text/plain": [
       "40"
      ]
     },
     "execution_count": 21,
     "metadata": {},
     "output_type": "execute_result"
    }
   ],
   "source": [
    "len(cumulative_pnl)"
   ]
  },
  {
   "cell_type": "code",
   "execution_count": 22,
   "id": "ba97bd6b",
   "metadata": {
    "ExecuteTime": {
     "end_time": "2023-05-12T17:05:00.905762Z",
     "start_time": "2023-05-12T17:05:00.891891Z"
    },
    "hidden": true
   },
   "outputs": [
    {
     "data": {
      "text/plain": [
       "2023-05-12 09:10:26.885080-04:00         NaN\n",
       "2023-05-12 09:15:27.809574-04:00    0.000000\n",
       "2023-05-12 09:20:27.916222-04:00    0.011590\n",
       "2023-05-12 09:25:27.824705-04:00    0.412628\n",
       "2023-05-12 09:30:27.476925-04:00    1.284630\n",
       "2023-05-12 09:35:28.217933-04:00    1.513002\n",
       "2023-05-12 09:40:28.123337-04:00    1.131088\n",
       "2023-05-12 09:45:28.153602-04:00    1.360020\n",
       "2023-05-12 09:50:28.140456-04:00    1.302930\n",
       "2023-05-12 09:55:28.123882-04:00    1.885242\n",
       "2023-05-12 10:00:28.041807-04:00    1.177472\n",
       "2023-05-12 10:05:28.272136-04:00   -1.388858\n",
       "2023-05-12 10:10:27.604003-04:00   -1.800218\n",
       "2023-05-12 10:15:27.666166-04:00   -1.924870\n",
       "2023-05-12 10:20:28.133223-04:00   -2.232368\n",
       "2023-05-12 10:25:28.233470-04:00   -4.023156\n",
       "2023-05-12 10:30:27.877971-04:00   -2.098846\n",
       "2023-05-12 10:35:28.297183-04:00   -3.937118\n",
       "2023-05-12 10:40:28.470814-04:00   -4.592824\n",
       "2023-05-12 10:45:28.689129-04:00   -2.565432\n",
       "2023-05-12 10:50:28.060867-04:00   -4.562436\n",
       "2023-05-12 10:55:28.329841-04:00   -3.717878\n",
       "2023-05-12 11:00:29.055773-04:00   -3.000476\n",
       "2023-05-12 11:05:28.115575-04:00   -3.656656\n",
       "2023-05-12 11:10:29.173963-04:00   -5.175456\n",
       "2023-05-12 11:15:27.933961-04:00   -4.937544\n",
       "2023-05-12 11:20:27.306480-04:00   -5.299104\n",
       "2023-05-12 11:25:27.770669-04:00   -5.163766\n",
       "2023-05-12 11:30:27.823956-04:00   -6.394338\n",
       "2023-05-12 11:35:28.073742-04:00   -5.748394\n",
       "2023-05-12 11:40:27.706306-04:00   -5.009870\n",
       "2023-05-12 11:45:28.097467-04:00   -4.613578\n",
       "2023-05-12 11:50:27.972498-04:00   -5.190778\n",
       "2023-05-12 11:55:27.829073-04:00   -5.655040\n",
       "2023-05-12 12:00:28.307079-04:00   -5.286818\n",
       "2023-05-12 12:05:28.532109-04:00   -4.965712\n",
       "2023-05-12 12:10:28.849035-04:00   -4.055210\n",
       "2023-05-12 12:15:28.688375-04:00   -5.552738\n",
       "2023-05-12 12:20:29.015273-04:00   -6.282786\n",
       "2023-05-12 12:25:29.066000-04:00   -6.940344\n",
       "Name: pnl, dtype: float64"
      ]
     },
     "execution_count": 22,
     "metadata": {},
     "output_type": "execute_result"
    }
   ],
   "source": [
    "cumulative_pnl"
   ]
  },
  {
   "cell_type": "code",
   "execution_count": 3,
   "id": "7736b89d",
   "metadata": {
    "ExecuteTime": {
     "end_time": "2023-03-31T11:25:44.475013Z",
     "start_time": "2023-03-31T11:25:44.151672Z"
    },
    "hidden": true
   },
   "outputs": [
    {
     "data": {
      "text/plain": [
       "<AxesSubplot: >"
      ]
     },
     "execution_count": 3,
     "metadata": {},
     "output_type": "execute_result"
    },
    {
     "data": {
      "image/png": "[encoded data removed]",
      "text/plain": [
       "<Figure size 640x480 with 1 Axes>"
      ]
     },
     "metadata": {},
     "output_type": "display_data"
    }
   ],
   "source": [
    "cumulative_pnl.plot()"
   ]
  },
  {
   "cell_type": "markdown",
   "id": "21f05ec1",
   "metadata": {},
   "source": [
    "# since 2022 and since 2019"
   ]
  },
  {
   "cell_type": "code",
   "execution_count": 2,
   "id": "bb287c6d",
   "metadata": {
    "ExecuteTime": {
     "end_time": "2023-05-23T13:45:32.550371Z",
     "start_time": "2023-05-23T13:45:16.693514Z"
    }
   },
   "outputs": [
    {
     "data": {
      "application/vnd.jupyter.widget-view+json": {
       "model_id": "e7d82b57c7ca41fb9332bed9a2002255",
       "version_major": 2,
       "version_minor": 0
      },
      "text/plain": [
       "  0%|          | 0/5 [00:00<?, ?it/s]"
      ]
     },
     "metadata": {},
     "output_type": "display_data"
    }
   ],
   "source": [
    "dir_name = \"/shared_data/model/historical/pnl_for_website/build_tile_configs.C3a.ccxt_v7_1-all.5T.2019-09-01_2023-05-15.ins/tiled_results/\"\n",
    "start_date = datetime.date(2019, 9, 1)\n",
    "end_date = datetime.date(2023, 5, 15)\n",
    "asset_id_col = \"asset_id\"\n",
    "data_cols = {\n",
    "    \"price\": \"vwap\",\n",
    "    \"volatility\": \"garman_klass_vol\",\n",
    "    \"prediction\": \"feature\",\n",
    "}\n",
    "data_cols_list = list(data_cols.values())\n",
    "iter_ = dtfmod.yield_processed_parquet_tiles_by_year(\n",
    "    dir_name,\n",
    "    start_date,\n",
    "    end_date,\n",
    "    asset_id_col,\n",
    "    data_cols_list,\n",
    "    asset_ids=None,\n",
    ")\n",
    "df_res = hpandas.get_df_from_iterator(iter_)"
   ]
  },
  {
   "cell_type": "code",
   "execution_count": 3,
   "id": "8b154631",
   "metadata": {
    "ExecuteTime": {
     "end_time": "2023-05-23T13:46:00.722431Z",
     "start_time": "2023-05-23T13:46:00.717834Z"
    }
   },
   "outputs": [],
   "source": [
    "fep = dtfmod.ForecastEvaluatorFromPrices(\n",
    "    data_cols[\"price\"],\n",
    "    data_cols[\"volatility\"],\n",
    "    data_cols[\"prediction\"],\n",
    ")"
   ]
  },
  {
   "cell_type": "code",
   "execution_count": 11,
   "id": "d8f15ea0",
   "metadata": {
    "ExecuteTime": {
     "end_time": "2023-05-23T13:48:57.570265Z",
     "start_time": "2023-05-23T13:48:50.447444Z"
    }
   },
   "outputs": [
    {
     "name": "stdout",
     "output_type": "stream",
     "text": [
      "INFO  spread is `None`; imputing spread_lower_bound=0.000100\n"
     ]
    }
   ],
   "source": [
    "_, bar_metrics = fep.annotate_forecasts(\n",
    "    df_res,\n",
    "    quantization=\"no_quantization\",\n",
    "    burn_in_bars=3,\n",
    "    style=\"longitudinal\",\n",
    "    liquidate_at_end_of_day=False,\n",
    "    initialize_beginning_of_day_trades_to_zero=False,\n",
    ")"
   ]
  },
  {
   "cell_type": "code",
   "execution_count": 12,
   "id": "1e21fbd0",
   "metadata": {
    "ExecuteTime": {
     "end_time": "2023-05-23T13:52:22.323055Z",
     "start_time": "2023-05-23T13:52:22.244974Z"
    }
   },
   "outputs": [],
   "source": [
    "cumul_pnl = bar_metrics[\"pnl\"].resample(\"D\").sum(min_count=1).cumsum()"
   ]
  },
  {
   "cell_type": "code",
   "execution_count": 13,
   "id": "ab4a2ef0",
   "metadata": {
    "ExecuteTime": {
     "end_time": "2023-05-23T13:52:29.341601Z",
     "start_time": "2023-05-23T13:52:28.965971Z"
    }
   },
   "outputs": [
    {
     "data": {
      "text/plain": [
       "<AxesSubplot: xlabel='end_ts'>"
      ]
     },
     "execution_count": 13,
     "metadata": {},
     "output_type": "execute_result"
    },
    {
     "data": {
      "image/png": "[encoded data removed]",
      "text/plain": [
       "<Figure size 640x480 with 1 Axes>"
      ]
     },
     "metadata": {},
     "output_type": "display_data"
    }
   ],
   "source": [
    "cumul_pnl.plot()"
   ]
  },
  {
   "cell_type": "code",
   "execution_count": null,
   "id": "2037876e",
   "metadata": {},
   "outputs": [],
   "source": []
  }
 ],
 "metadata": {
  "kernelspec": {
   "display_name": "Python 3 (ipykernel)",
   "language": "python",
   "name": "python3"
  },
  "language_info": {
   "codemirror_mode": {
    "name": "ipython",
    "version": 3
   },
   "file_extension": ".py",
   "mimetype": "text/x-python",
   "name": "python",
   "nbconvert_exporter": "python",
   "pygments_lexer": "ipython3",
   "version": "3.9.5"
  },
  "toc": {
   "base_numbering": 1,
   "nav_menu": {},
   "number_sections": true,
   "sideBar": true,
   "skip_h1_title": false,
   "title_cell": "Table of Contents",
   "title_sidebar": "Contents",
   "toc_cell": false,
   "toc_position": {},
   "toc_section_display": true,
   "toc_window_display": false
  }
 },
 "nbformat": 4,
 "nbformat_minor": 5
}
