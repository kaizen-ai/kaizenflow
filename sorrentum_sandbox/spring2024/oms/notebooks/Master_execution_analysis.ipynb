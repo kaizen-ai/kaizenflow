{
 "cells": [
  {
   "cell_type": "markdown",
   "id": "d5a3f1b3",
   "metadata": {},
   "source": [
    "# Description\n",
    "\n",
    "Analyze trading execution quality."
   ]
  },
  {
   "cell_type": "code",
   "execution_count": null,
   "id": "0232d547",
   "metadata": {
    "run_control": {
     "marked": true
    }
   },
   "outputs": [],
   "source": [
    "%load_ext autoreload\n",
    "%autoreload 2\n",
    "import logging\n",
    "import os\n",
    "\n",
    "import numpy as np\n",
    "import pandas as pd\n",
    "\n",
    "import core.config as cconfig\n",
    "import core.finance as cofinanc\n",
    "import core.finance.target_position_df_processing as cftpdp\n",
    "import core.plotting as coplotti\n",
    "import core.plotting.execution_stats as cplexsta\n",
    "import core.statistics as costatis\n",
    "import dataflow_amp.system.Cx as dtfamsysc\n",
    "import helpers.hdbg as hdbg\n",
    "import helpers.henv as henv\n",
    "import helpers.hpandas as hpandas\n",
    "import helpers.hprint as hprint\n",
    "import im_v2.ccxt.utils as imv2ccuti\n",
    "import im_v2.common.universe as ivcu\n",
    "import oms.broker.ccxt.ccxt_aggregation_functions as obccagfu\n",
    "import oms.broker.ccxt.ccxt_execution_quality as obccexqu\n",
    "import oms.broker.ccxt.ccxt_logger as obcccclo\n",
    "import oms.child_order_quantity_computer.child_order_quantity_computer_instances as ocoqccoqci\n",
    "import oms.order.order_converter as oororcon"
   ]
  },
  {
   "cell_type": "code",
   "execution_count": null,
   "id": "b4acd0e3",
   "metadata": {},
   "outputs": [],
   "source": [
    "hdbg.init_logger(verbosity=logging.INFO)\n",
    "\n",
    "_LOG = logging.getLogger(__name__)\n",
    "\n",
    "_LOG.info(\"%s\", henv.get_system_signature()[0])\n",
    "\n",
    "hprint.config_notebook()"
   ]
  },
  {
   "cell_type": "markdown",
   "id": "785aca75",
   "metadata": {},
   "source": [
    "# Config"
   ]
  },
  {
   "cell_type": "code",
   "execution_count": null,
   "id": "fffee551",
   "metadata": {},
   "outputs": [],
   "source": [
    "# When running manually, specify the path to the config to load config from file,\n",
    "# for e.g., `.../reconciliation_notebook/fast/result_0/config.pkl`.\n",
    "config_file_name = None\n",
    "config = cconfig.get_notebook_config(config_file_name)\n",
    "if config is None:\n",
    "    system_log_dir = \"/shared_data/ecs/test/system_reconciliation/C12a/prod/20240219_150900.20240219_160600/system_log_dir.manual/process_forecasts\"\n",
    "    id_col = \"asset_id\"\n",
    "    price_col = \"close\"\n",
    "    universe_version = \"v8.1\"\n",
    "    vendor = \"CCXT\"\n",
    "    mode = \"trade\"\n",
    "    test_asset_id = 1020313424\n",
    "    bar_duration = \"5T\"\n",
    "    child_order_execution_freq = \"10S\"\n",
    "    use_historical = True\n",
    "    system_config_dir = system_log_dir.rstrip(\"/process_forecasts\")\n",
    "    # Load pickled SystemConfig.\n",
    "    config_path = os.path.join(\n",
    "        system_config_dir, \"system_config.output.values_as_strings.pkl\"\n",
    "    )\n",
    "    system_config = cconfig.load_config_from_pickle(config_path)\n",
    "    # Get table name from SystemConfig.\n",
    "    table_name = system_config[\n",
    "        \"market_data_config\", \"im_client_config\", \"table_name\"\n",
    "    ]\n",
    "    #\n",
    "    config_dict = {\n",
    "        \"meta\": {\n",
    "            \"id_col\": id_col,\n",
    "            \"price_col\": price_col,\n",
    "            \"use_historical\": use_historical,\n",
    "        },\n",
    "        \"system_log_dir\": system_log_dir,\n",
    "        \"market_data\": {\n",
    "            \"vendor\": vendor,\n",
    "            \"mode\": mode,\n",
    "            \"universe\": {\n",
    "                \"universe_version\": universe_version,\n",
    "                \"test_asset_id\": test_asset_id,\n",
    "            },\n",
    "            \"im_client_config\": {\"table_name\": table_name},\n",
    "        },\n",
    "        \"execution_parameters\": {\n",
    "            \"bar_duration\": bar_duration,\n",
    "            \"execution_freq\": child_order_execution_freq,\n",
    "        },\n",
    "    }\n",
    "    config = cconfig.Config.from_dict(config_dict)\n",
    "print(config)"
   ]
  },
  {
   "cell_type": "code",
   "execution_count": null,
   "id": "18a3e357",
   "metadata": {
    "lines_to_next_cell": 2,
    "run_control": {
     "marked": true
    }
   },
   "outputs": [],
   "source": [
    "# Init the log reader.\n",
    "log_dir = config.get_and_mark_as_used((\"system_log_dir\",))\n",
    "ccxt_log_reader = obcccclo.CcxtLogger(log_dir)"
   ]
  },
  {
   "cell_type": "code",
   "execution_count": null,
   "id": "55f4f12b",
   "metadata": {},
   "outputs": [],
   "source": [
    "# Print the Broker config.\n",
    "try:\n",
    "    broker_config = ccxt_log_reader.load_broker_config(abort_on_missing_data=True)\n",
    "    print(hprint.to_pretty_str(broker_config))\n",
    "    scheduler_type = broker_config[\"child_order_quantity_computer\"][\"object_type\"]\n",
    "except FileNotFoundError:\n",
    "    _LOG.warning(\n",
    "        \"broker_config file not present in %s, assuming Dynamic Scheduling\",\n",
    "        log_dir,\n",
    "    )\n",
    "    scheduler_type = \"DynamicSchedulingChildOrderQuantityComputer\""
   ]
  },
  {
   "cell_type": "code",
   "execution_count": null,
   "id": "2786299d",
   "metadata": {},
   "outputs": [],
   "source": [
    "# Print the used Config, if any.\n",
    "experiment_config = obcccclo.load_config_for_execution_analysis(log_dir)\n",
    "if experiment_config:\n",
    "    print(experiment_config)"
   ]
  },
  {
   "cell_type": "code",
   "execution_count": null,
   "id": "74cdd5a8",
   "metadata": {},
   "outputs": [],
   "source": [
    "# Get the test asset ID from the config.\n",
    "test_asset_id = config.get_and_mark_as_used(\n",
    "    (\"market_data\", \"universe\", \"test_asset_id\")\n",
    ")\n",
    "id_col = config.get_and_mark_as_used((\"meta\", \"id_col\"))\n",
    "price_col = config.get_and_mark_as_used((\"meta\", \"price_col\"))"
   ]
  },
  {
   "cell_type": "code",
   "execution_count": null,
   "id": "184bb7f6",
   "metadata": {},
   "outputs": [],
   "source": [
    "bar_duration = config.get_and_mark_as_used(\n",
    "    (\"execution_parameters\", \"bar_duration\")\n",
    ")\n",
    "exec_freq = config.get_and_mark_as_used(\n",
    "    (\"execution_parameters\", \"execution_freq\")\n",
    ")\n",
    "# Initialize scheduler according to it's type.\n",
    "scheduler = ocoqccoqci.get_child_order_quantity_computer_instance1(scheduler_type)\n",
    "# Get the range of expected number of child orders.\n",
    "range_filter = scheduler.get_range_filter(bar_duration, exec_freq)"
   ]
  },
  {
   "cell_type": "markdown",
   "id": "4ebab948",
   "metadata": {},
   "source": [
    "# Load and aggregate data"
   ]
  },
  {
   "cell_type": "markdown",
   "id": "def4b2d1",
   "metadata": {},
   "source": [
    "## Load CCXT data"
   ]
  },
  {
   "cell_type": "code",
   "execution_count": null,
   "id": "4b30d704",
   "metadata": {},
   "outputs": [],
   "source": [
    "data = ccxt_log_reader.load_all_data(\n",
    "    convert_to_dataframe=True, abort_on_missing_data=False\n",
    ")"
   ]
  },
  {
   "cell_type": "markdown",
   "id": "4235bf1c",
   "metadata": {},
   "source": [
    "### Order responses"
   ]
  },
  {
   "cell_type": "code",
   "execution_count": null,
   "id": "9dd2d5f5",
   "metadata": {},
   "outputs": [],
   "source": [
    "ccxt_order_response_df = data[\"ccxt_order_responses\"]\n",
    "ccxt_order_response_df.head(3)"
   ]
  },
  {
   "cell_type": "code",
   "execution_count": null,
   "id": "0c30586d",
   "metadata": {},
   "outputs": [],
   "source": [
    "ccxt_order_response_df.loc[1][\"info\"]"
   ]
  },
  {
   "cell_type": "code",
   "execution_count": null,
   "id": "c9cd7f55",
   "metadata": {},
   "outputs": [],
   "source": [
    "ccxt_order_response_df.info()"
   ]
  },
  {
   "cell_type": "markdown",
   "id": "6713c0a3",
   "metadata": {},
   "source": [
    "### OMS child orders"
   ]
  },
  {
   "cell_type": "code",
   "execution_count": null,
   "id": "02219d63",
   "metadata": {},
   "outputs": [],
   "source": [
    "child_order_df = data[\"oms_child_orders\"]\n",
    "# TODO: group by asset, agg by mean total_vol_to_spread_bps, chart.\n",
    "child_order_df.head(3)"
   ]
  },
  {
   "cell_type": "code",
   "execution_count": null,
   "id": "450219de",
   "metadata": {},
   "outputs": [],
   "source": [
    "child_order_df.info()"
   ]
  },
  {
   "cell_type": "markdown",
   "id": "9ea4c737",
   "metadata": {},
   "source": [
    "### CCXT fills (trades)"
   ]
  },
  {
   "cell_type": "code",
   "execution_count": null,
   "id": "3c0e848d",
   "metadata": {},
   "outputs": [],
   "source": [
    "fills_df = data[\"ccxt_trades\"]\n",
    "# Annotate fills with child order wave ID.\n",
    "fills_df = obccexqu.annotate_fills_df_with_wave_id(fills_df, child_order_df)\n",
    "fills_df.head(3)"
   ]
  },
  {
   "cell_type": "code",
   "execution_count": null,
   "id": "b0e76595",
   "metadata": {},
   "outputs": [],
   "source": [
    "fills_df.info()"
   ]
  },
  {
   "cell_type": "markdown",
   "id": "dfe9a3fe",
   "metadata": {},
   "source": [
    "### OMS parent orders"
   ]
  },
  {
   "cell_type": "code",
   "execution_count": null,
   "id": "cd0a25be",
   "metadata": {},
   "outputs": [],
   "source": [
    "parent_order_df = data[\"oms_parent_orders\"]\n",
    "parent_order_df.head(3)"
   ]
  },
  {
   "cell_type": "code",
   "execution_count": null,
   "id": "ebe9883c",
   "metadata": {},
   "outputs": [],
   "source": [
    "parent_order_df.info()"
   ]
  },
  {
   "cell_type": "markdown",
   "id": "b35972e6",
   "metadata": {},
   "source": [
    "### CCXT fills"
   ]
  },
  {
   "cell_type": "code",
   "execution_count": null,
   "id": "99060325",
   "metadata": {},
   "outputs": [],
   "source": [
    "ccxt_fills = data[\"ccxt_fills\"]\n",
    "ccxt_fills.head(3)"
   ]
  },
  {
   "cell_type": "code",
   "execution_count": null,
   "id": "3041c7df",
   "metadata": {},
   "outputs": [],
   "source": [
    "ccxt_fills.info()"
   ]
  },
  {
   "cell_type": "code",
   "execution_count": null,
   "id": "c70653eb",
   "metadata": {},
   "outputs": [],
   "source": [
    "# Check if `test_asset_id` is present\n",
    "# If the `test_asset_id` is not present, choose the first traded asset.\n",
    "traded_asset_ids = sorted(set(child_order_df[\"asset_id\"]))\n",
    "if test_asset_id not in traded_asset_ids:\n",
    "    test_asset_id = traded_asset_ids[0]\n",
    "_LOG.info(\"test_asset_id=%s\", test_asset_id)"
   ]
  },
  {
   "cell_type": "markdown",
   "id": "ed64690b",
   "metadata": {},
   "source": [
    "## Aggregate CCXT Data"
   ]
  },
  {
   "cell_type": "code",
   "execution_count": null,
   "id": "95f2de8e",
   "metadata": {},
   "outputs": [],
   "source": [
    "bar_duration = config.get_and_mark_as_used(\n",
    "    (\"execution_parameters\", \"bar_duration\")\n",
    ")\n",
    "# TODO(Paul): Look into adding tqdm.\n",
    "# Aggregate order responses by bar.\n",
    "bar_ccxt_order_aggregation = obccagfu.aggregate_ccxt_orders_by_bar(\n",
    "    ccxt_order_response_df, bar_duration\n",
    ")\n",
    "# Aggregate fills by order.\n",
    "ccxt_order_fills = obccagfu.aggregate_fills_by_order(fills_df)\n",
    "# Aggregate fills by bar.\n",
    "bar_fills = obccagfu.aggregate_fills_by_bar(\n",
    "    fills_df, bar_duration, groupby_id_col=id_col\n",
    ")\n",
    "# Aggregate buy/sell trade prices by bar.\n",
    "trade_prices = obccagfu.compute_buy_sell_prices_by_bar(\n",
    "    fills_df, bar_duration, groupby_id_col=id_col\n",
    ")\n",
    "# Aggregate OMS child orders.\n",
    "bar_child_order_aggregation = obccagfu.aggregate_child_limit_orders_by_bar(\n",
    "    child_order_df, bar_duration\n",
    ")"
   ]
  },
  {
   "cell_type": "code",
   "execution_count": null,
   "id": "0fb18196",
   "metadata": {},
   "outputs": [],
   "source": [
    "bar_ccxt_order_aggregation.head(3)"
   ]
  },
  {
   "cell_type": "code",
   "execution_count": null,
   "id": "5190f1b7",
   "metadata": {},
   "outputs": [],
   "source": [
    "ccxt_order_fills.head(3)"
   ]
  },
  {
   "cell_type": "code",
   "execution_count": null,
   "id": "533bc400",
   "metadata": {},
   "outputs": [],
   "source": [
    "bar_fills.head(3)"
   ]
  },
  {
   "cell_type": "code",
   "execution_count": null,
   "id": "39be3c81",
   "metadata": {},
   "outputs": [],
   "source": [
    "trade_prices.head(3)"
   ]
  },
  {
   "cell_type": "code",
   "execution_count": null,
   "id": "612e834e",
   "metadata": {},
   "outputs": [],
   "source": [
    "bar_child_order_aggregation.head(3)"
   ]
  },
  {
   "cell_type": "code",
   "execution_count": null,
   "id": "2cb8d46f",
   "metadata": {},
   "outputs": [],
   "source": [
    "cofinanc.get_asset_slice(bar_ccxt_order_aggregation, test_asset_id)"
   ]
  },
  {
   "cell_type": "markdown",
   "id": "b3e5afe7",
   "metadata": {},
   "source": [
    "### Align CCXT orders and fills"
   ]
  },
  {
   "cell_type": "code",
   "execution_count": null,
   "id": "91c91723",
   "metadata": {},
   "outputs": [],
   "source": [
    "# Get filled and unfilled CCXT orders.\n",
    "filled_ccxt_orders, unfilled_ccxt_orders = obccexqu.align_ccxt_orders_and_fills(\n",
    "    ccxt_order_response_df, fills_df\n",
    ")"
   ]
  },
  {
   "cell_type": "code",
   "execution_count": null,
   "id": "702ad99b",
   "metadata": {},
   "outputs": [],
   "source": [
    "filled_ccxt_orders.head(3)"
   ]
  },
  {
   "cell_type": "code",
   "execution_count": null,
   "id": "a9d881bf",
   "metadata": {},
   "outputs": [],
   "source": [
    "unfilled_ccxt_orders.head(3)"
   ]
  },
  {
   "cell_type": "markdown",
   "id": "2ebdbbbb",
   "metadata": {},
   "source": [
    "## Load OHLCV data"
   ]
  },
  {
   "cell_type": "code",
   "execution_count": null,
   "id": "5b6c38ac",
   "metadata": {},
   "outputs": [],
   "source": [
    "# TODO(Paul): Refine the cuts around the first and last bars.\n",
    "start_timestamp = bar_fills[\"first_datetime\"].min() - pd.Timedelta(bar_duration)\n",
    "_LOG.info(\"start_timestamp=%s\", start_timestamp)\n",
    "end_timestamp = bar_fills[\"last_datetime\"].max() + pd.Timedelta(bar_duration)\n",
    "_LOG.info(\"end_timestamp=%s\", end_timestamp)"
   ]
  },
  {
   "cell_type": "code",
   "execution_count": null,
   "id": "20f8d4da",
   "metadata": {},
   "outputs": [],
   "source": [
    "universe_version = config.get_and_mark_as_used(\n",
    "    (\"market_data\", \"universe\", \"universe_version\")\n",
    ")\n",
    "vendor = config.get_and_mark_as_used(\n",
    "    (\n",
    "        \"market_data\",\n",
    "        \"vendor\",\n",
    "    )\n",
    ")\n",
    "mode = config.get_and_mark_as_used(\n",
    "    (\n",
    "        \"market_data\",\n",
    "        \"mode\",\n",
    "    )\n",
    ")\n",
    "table_name = config.get_and_mark_as_used(\n",
    "    (\n",
    "        \"market_data\",\n",
    "        \"im_client_config\",\n",
    "        \"table_name\",\n",
    "    )\n",
    ")\n",
    "# Get asset ids.\n",
    "asset_ids = ivcu.get_vendor_universe_as_asset_ids(universe_version, vendor, mode)\n",
    "# Get prod `MarketData`.\n",
    "db_stage = \"preprod\"\n",
    "market_data = dtfamsysc.get_Cx_RealTimeMarketData_prod_instance1(\n",
    "    asset_ids, db_stage, table_name=table_name\n",
    ")\n",
    "# Load and resample OHLCV data.\n",
    "ohlcv_bars = dtfamsysc.load_and_resample_ohlcv_data(\n",
    "    market_data,\n",
    "    start_timestamp,\n",
    "    end_timestamp,\n",
    "    bar_duration,\n",
    ")\n",
    "hpandas.df_to_str(ohlcv_bars, num_rows=5, log_level=logging.INFO)"
   ]
  },
  {
   "cell_type": "markdown",
   "id": "cdbf8764",
   "metadata": {},
   "source": [
    "## Load universe and get symbol/asset_id mappings"
   ]
  },
  {
   "cell_type": "code",
   "execution_count": null,
   "id": "4bc5209a",
   "metadata": {},
   "outputs": [],
   "source": [
    "# Get the universe to map asset_id's.\n",
    "universe = ivcu.get_vendor_universe(\n",
    "    \"CCXT\", \"trade\", version=universe_version, as_full_symbol=True\n",
    ")\n",
    "# Get the asset_id/symbol mapping.\n",
    "asset_id_to_symbol_mapping = ivcu.build_numerical_to_string_id_mapping(universe)\n",
    "# Get the symbol/asset_id mapping.\n",
    "symbol_to_asset_id_mapping = {\n",
    "    imv2ccuti.convert_full_symbol_to_binance_symbol(symbol): asset_id\n",
    "    for asset_id, symbol in asset_id_to_symbol_mapping.items()\n",
    "}"
   ]
  },
  {
   "cell_type": "markdown",
   "id": "f1935837",
   "metadata": {},
   "source": [
    "## Load exchange tick sizes by asset id"
   ]
  },
  {
   "cell_type": "code",
   "execution_count": null,
   "id": "582ed9e5",
   "metadata": {},
   "outputs": [],
   "source": [
    "# Load exchange markets and restrict to the asset universe.\n",
    "exchange_markets = data[\"exchange_markets\"].loc[symbol_to_asset_id_mapping.keys()]\n",
    "exchange_markets.head(3)"
   ]
  },
  {
   "cell_type": "code",
   "execution_count": null,
   "id": "78b39418",
   "metadata": {},
   "outputs": [],
   "source": [
    "# Get the minimum tick size per asset.\n",
    "price_tick_srs = exchange_markets[\"precision\"].apply(lambda x: x[\"price\"])\n",
    "price_tick_srs = price_tick_srs.apply(lambda x: 10**-x)\n",
    "# Map index to the asset_id.\n",
    "price_tick_srs.index = price_tick_srs.index.map(symbol_to_asset_id_mapping)\n",
    "price_tick_srs.head(3)"
   ]
  },
  {
   "cell_type": "markdown",
   "id": "989fdcfe",
   "metadata": {},
   "source": [
    "# Cross-checks"
   ]
  },
  {
   "cell_type": "markdown",
   "id": "938d59ed",
   "metadata": {},
   "source": [
    "## Basic checks"
   ]
  },
  {
   "cell_type": "markdown",
   "id": "3946b18e",
   "metadata": {},
   "source": [
    "- Number of bars and assets\n",
    "- Moments\n",
    "- Non-submitted orders"
   ]
  },
  {
   "cell_type": "code",
   "execution_count": null,
   "id": "8e3dc905",
   "metadata": {},
   "outputs": [],
   "source": [
    "# Verify number of bars in the parent order DF.\n",
    "number_of_bars = int(\n",
    "    np.ceil(\n",
    "        (\n",
    "            parent_order_df[\"end_timestamp\"].max()\n",
    "            - parent_order_df[\"start_timestamp\"].min()\n",
    "        )\n",
    "        / bar_duration\n",
    "    )\n",
    ")\n",
    "_LOG.info(\"number of bars=%d\", number_of_bars)"
   ]
  },
  {
   "cell_type": "code",
   "execution_count": null,
   "id": "558c8fe1",
   "metadata": {
    "run_control": {
     "marked": false
    }
   },
   "outputs": [],
   "source": [
    "# Check number of unique asset IDs.\n",
    "unique_asset_id_count = len(parent_order_df[\"asset_id\"].unique())\n",
    "_LOG.info(\"unique asset_id count=%d\", unique_asset_id_count)"
   ]
  },
  {
   "cell_type": "code",
   "execution_count": null,
   "id": "bec154c2",
   "metadata": {},
   "outputs": [],
   "source": [
    "# Share counts should change if there are many orders and we are getting fills.\n",
    "costatis.compute_moments(parent_order_df[\"curr_num_shares\"])"
   ]
  },
  {
   "cell_type": "code",
   "execution_count": null,
   "id": "e720fe49",
   "metadata": {},
   "outputs": [],
   "source": [
    "# Verify that test asset id is present in the CCXT fills.\n",
    "hdbg.dassert_in(test_asset_id, fills_df[id_col].unique())"
   ]
  },
  {
   "cell_type": "code",
   "execution_count": null,
   "id": "cdb55b25",
   "metadata": {},
   "outputs": [],
   "source": [
    "inconsistent_order_num_df = bar_ccxt_order_aggregation[\"order_count\"].stack()[\n",
    "    ~bar_ccxt_order_aggregation[\"order_count\"].stack().isin(range_filter)\n",
    "]\n",
    "if not inconsistent_order_num_df.empty:\n",
    "    child_order_df[\n",
    "        (\n",
    "            child_order_df[\"creation_timestamp\"]\n",
    "            > inconsistent_order_num_df.index.min()[0]\n",
    "        )\n",
    "        & (\n",
    "            child_order_df[\"creation_timestamp\"]\n",
    "            < inconsistent_order_num_df.index.max()[0]\n",
    "        )\n",
    "        & (child_order_df[id_col].isin(inconsistent_order_num_df.index[1]))\n",
    "    ]"
   ]
  },
  {
   "cell_type": "code",
   "execution_count": null,
   "id": "bad8011b",
   "metadata": {},
   "outputs": [],
   "source": [
    "# The number of child orders can be greater than the number of order responses\n",
    "# if the child order was not accepted by the exchange.\n",
    "# In this case the child order should have an error message (see cells below).\n",
    "# If some non-submitted orders don't have an error message, it indicates a bug.\n",
    "_LOG.info(\n",
    "    f\"child orders in child_order_df={child_order_df.shape[0]}\\n\\\n",
    "responses in ccxt_order_response_df={ccxt_order_response_df.shape[0]}\\n\\\n",
    "child_order_df-ccxt_order_response_df={child_order_df.shape[0]-ccxt_order_response_df.shape[0]}\"\n",
    ")"
   ]
  },
  {
   "cell_type": "code",
   "execution_count": null,
   "id": "0f74a9ae",
   "metadata": {},
   "outputs": [],
   "source": [
    "# Get child orders that were generated but did not get an order response.\n",
    "no_response_orders = child_order_df[child_order_df[\"ccxt_id\"] == -1]\n",
    "no_response_orders[\"error_msg\"] = no_response_orders[\"extra_params\"].apply(\n",
    "    lambda x: x.get(\"error_msg\", \"\")\n",
    ")"
   ]
  },
  {
   "cell_type": "code",
   "execution_count": null,
   "id": "3a919bde",
   "metadata": {},
   "outputs": [],
   "source": [
    "# Check the error messages for child orders that did not come through.\n",
    "# Display error messages grouped by symbol.\n",
    "no_response_orders[\"full_symbol\"] = no_response_orders[\"asset_id\"].map(\n",
    "    asset_id_to_symbol_mapping\n",
    ")\n",
    "# Get value counts of error messages.\n",
    "error_msg = no_response_orders.groupby(\"full_symbol\")[\"error_msg\"].value_counts()\n",
    "error_msg"
   ]
  },
  {
   "cell_type": "code",
   "execution_count": null,
   "id": "e01cecba",
   "metadata": {},
   "outputs": [],
   "source": [
    "# Check child orders with no response and no logged error message.\n",
    "no_response_orders[no_response_orders[\"error_msg\"] == \"\"]"
   ]
  },
  {
   "cell_type": "markdown",
   "id": "1b7aad0f",
   "metadata": {},
   "source": [
    "## Consistency checks"
   ]
  },
  {
   "cell_type": "markdown",
   "id": "c27271d7",
   "metadata": {},
   "source": [
    "- Number of trades per order and bar\n",
    "- Number of buys/sells\n",
    "- TWAP/VWAP difference"
   ]
  },
  {
   "cell_type": "code",
   "execution_count": null,
   "id": "d37d42e3",
   "metadata": {},
   "outputs": [],
   "source": [
    "# For a given bar and a given instrument, we expect to see as number of trades between 0 and X,\n",
    "# where X is the maximum number of child orders per bar.\n",
    "bar_ccxt_order_aggregation[\n",
    "    \"order_count\"\n",
    "].stack().value_counts().sort_index().plot(kind=\"bar\")"
   ]
  },
  {
   "cell_type": "code",
   "execution_count": null,
   "id": "4731bd13",
   "metadata": {},
   "outputs": [],
   "source": [
    "# Display order count by bar.\n",
    "bar_ccxt_order_aggregation[\"order_count\"]"
   ]
  },
  {
   "cell_type": "code",
   "execution_count": null,
   "id": "39a1fb7b",
   "metadata": {},
   "outputs": [],
   "source": [
    "# If `buy_count` and `sell_count` are both greater than zero for an order,\n",
    "#  it indicates a bug.\n",
    "has_buys = ccxt_order_fills[\"buy_count\"] > 0\n",
    "has_sells = ccxt_order_fills[\"sell_count\"] > 0\n",
    "# This dataframe should have zero rows.\n",
    "ccxt_order_fills.loc[has_buys & has_sells].shape[0]"
   ]
  },
  {
   "cell_type": "code",
   "execution_count": null,
   "id": "e1b8cc1c",
   "metadata": {},
   "outputs": [],
   "source": [
    "# If `buy_count` and `sell_count` are both greater than zero for an instrument and bar,\n",
    "#  there is likely a bar alignment or timing problem.\n",
    "has_buys = bar_fills[\"buy_count\"] > 0\n",
    "has_sells = bar_fills[\"sell_count\"] > 0\n",
    "# This dataframe should be empty.\n",
    "bar_fills.loc[has_buys & has_sells].shape[0]"
   ]
  },
  {
   "cell_type": "code",
   "execution_count": null,
   "id": "d82c0ef5",
   "metadata": {},
   "outputs": [],
   "source": [
    "# If `order_twap` and `order_vwap` are different for a given instrument and bar,\n",
    "#  then we are likely submitting orders of differing sizes.\n",
    "# Use rounding to ignore machine precision artifacts.\n",
    "#\n",
    "# If this number is not zero, then closely inspect the dataframe (without summing\n",
    "# absolute values).\n",
    "bar_ccxt_order_aggregation[\"buy_limit_twap\"].subtract(\n",
    "    bar_ccxt_order_aggregation[\"buy_limit_vwap\"]\n",
    ").abs().sum().sum().round(9)"
   ]
  },
  {
   "cell_type": "code",
   "execution_count": null,
   "id": "8dae0b2f",
   "metadata": {},
   "outputs": [],
   "source": [
    "# Analogous check but for sells.\n",
    "bar_ccxt_order_aggregation[\"sell_limit_twap\"].subtract(\n",
    "    bar_ccxt_order_aggregation[\"sell_limit_vwap\"]\n",
    ").abs().sum().sum().round(9)"
   ]
  },
  {
   "cell_type": "code",
   "execution_count": null,
   "id": "17c8dca3",
   "metadata": {},
   "outputs": [],
   "source": [
    "# Plot order counts by timestamp.\n",
    "col = \"order_count\"\n",
    "coplotti.plot_boxplot(bar_ccxt_order_aggregation[col], \"by_row\", ylabel=col)"
   ]
  },
  {
   "cell_type": "code",
   "execution_count": null,
   "id": "c50ff6ee",
   "metadata": {},
   "outputs": [],
   "source": [
    "# Plot order counts by asset.\n",
    "col = \"order_count\"\n",
    "coplotti.plot_boxplot(bar_ccxt_order_aggregation[col], \"by_col\", ylabel=col)"
   ]
  },
  {
   "cell_type": "markdown",
   "id": "fa485818",
   "metadata": {},
   "source": [
    "# Fee summary"
   ]
  },
  {
   "cell_type": "code",
   "execution_count": null,
   "id": "3e891302",
   "metadata": {},
   "outputs": [],
   "source": [
    "group_by_col = \"is_buy\"\n",
    "obccexqu.generate_fee_summary(fills_df, \"is_buy\")"
   ]
  },
  {
   "cell_type": "code",
   "execution_count": null,
   "id": "d3f56eee",
   "metadata": {},
   "outputs": [],
   "source": [
    "group_by_col = \"is_maker\"\n",
    "obccexqu.generate_fee_summary(fills_df, group_by_col)"
   ]
  },
  {
   "cell_type": "code",
   "execution_count": null,
   "id": "d2f76237",
   "metadata": {},
   "outputs": [],
   "source": [
    "group_by_col = \"is_positive_realized_pnl\"\n",
    "obccexqu.generate_fee_summary(fills_df, group_by_col)"
   ]
  },
  {
   "cell_type": "code",
   "execution_count": null,
   "id": "aa9cfb84",
   "metadata": {},
   "outputs": [],
   "source": [
    "group_by_col = \"wave_id\"\n",
    "obccexqu.generate_fee_summary(fills_df, group_by_col)"
   ]
  },
  {
   "cell_type": "code",
   "execution_count": null,
   "id": "556df5ad",
   "metadata": {},
   "outputs": [],
   "source": [
    "# Get by-wave summary for a single test asset.\n",
    "test_fills = fills_df[fills_df[\"asset_id\"] == test_asset_id]\n",
    "group_by_col = \"wave_id\"\n",
    "obccexqu.generate_fee_summary(test_fills, group_by_col)"
   ]
  },
  {
   "cell_type": "markdown",
   "id": "c86b0e58",
   "metadata": {},
   "source": [
    "# Time to fill"
   ]
  },
  {
   "cell_type": "markdown",
   "id": "919f15ee",
   "metadata": {},
   "source": [
    "## ECDFs"
   ]
  },
  {
   "cell_type": "code",
   "execution_count": null,
   "id": "f81e824b",
   "metadata": {},
   "outputs": [],
   "source": [
    "# Compute and plot time to fill ECDFs.\n",
    "adj_fill_ecdfs = obccexqu.compute_adj_fill_ecdfs(\n",
    "    fills_df, ccxt_order_response_df, child_order_df\n",
    ")\n",
    "adj_fill_ecdfs.plot()"
   ]
  },
  {
   "cell_type": "code",
   "execution_count": null,
   "id": "2928f777",
   "metadata": {},
   "outputs": [],
   "source": [
    "# Plot ECDFs by child order wave.\n",
    "if \"wave_id\" in child_order_df.columns:\n",
    "    cplexsta.plot_adj_fill_ecdfs(\n",
    "        fills_df,\n",
    "        ccxt_order_response_df,\n",
    "        child_order_df,\n",
    "    )"
   ]
  },
  {
   "cell_type": "markdown",
   "id": "040d776b",
   "metadata": {},
   "source": [
    "## Average order lifespan in seconds"
   ]
  },
  {
   "cell_type": "code",
   "execution_count": null,
   "id": "fe54b4c7",
   "metadata": {
    "run_control": {
     "marked": false
    }
   },
   "outputs": [],
   "source": [
    "# Map symbol to asset ID.\n",
    "ccxt_fills[\"asset_id\"] = ccxt_fills[\"symbol\"].apply(\n",
    "    lambda x: symbol_to_asset_id_mapping[x]\n",
    ")\n",
    "# Convert `datetime` column from string to timestamp.\n",
    "ccxt_fills[\"datetime\"] = ccxt_fills[\"datetime\"].apply(\n",
    "    lambda x: pd.to_datetime(x, utc=True)\n",
    ")"
   ]
  },
  {
   "cell_type": "code",
   "execution_count": null,
   "id": "f4fea3bd",
   "metadata": {},
   "outputs": [],
   "source": [
    "# `datetime` is the time the order appeared on the exchange.\n",
    "# `order_update_datetime` is the time the order was closed.\n",
    "# Calculate average order lifespan by asset based on the exchange data.\n",
    "ccxt_fills[\"lifespan_in_seconds\"] = (\n",
    "    ccxt_fills[\"order_update_datetime\"] - ccxt_fills[\"datetime\"]\n",
    ").apply(lambda x: x.total_seconds())\n",
    "ccxt_fills.groupby(\"asset_id\").apply(lambda x: x[\"lifespan_in_seconds\"].mean())"
   ]
  },
  {
   "cell_type": "code",
   "execution_count": null,
   "id": "0642d3b1",
   "metadata": {
    "run_control": {
     "marked": true
    }
   },
   "outputs": [],
   "source": [
    "order_to_lifespan = ccxt_fills.set_index(\"order\")[\"lifespan_in_seconds\"].to_dict()\n",
    "child_order_df[\"lifespan_in_seconds\"] = child_order_df[\"ccxt_id\"].apply(\n",
    "    lambda x: order_to_lifespan.get(x)\n",
    ")"
   ]
  },
  {
   "cell_type": "markdown",
   "id": "477bc2a8",
   "metadata": {},
   "source": [
    "# Execution quality"
   ]
  },
  {
   "cell_type": "markdown",
   "id": "c8937b7d",
   "metadata": {},
   "source": [
    "## Compute `target_position_df` and `portfolio_df`"
   ]
  },
  {
   "cell_type": "code",
   "execution_count": null,
   "id": "50038c9e",
   "metadata": {},
   "outputs": [],
   "source": [
    "price_df = ohlcv_bars[price_col]\n",
    "target_position_df = oororcon.convert_order_df_to_target_position_df(\n",
    "    parent_order_df,\n",
    "    price_df,\n",
    ")\n",
    "hpandas.df_to_str(target_position_df, num_rows=5, log_level=logging.INFO)"
   ]
  },
  {
   "cell_type": "code",
   "execution_count": null,
   "id": "43385139",
   "metadata": {},
   "outputs": [],
   "source": [
    "portfolio_df = obccexqu.convert_bar_fills_to_portfolio_df(\n",
    "    bar_fills,\n",
    "    price_df,\n",
    ")\n",
    "hpandas.df_to_str(portfolio_df, num_rows=5, log_level=logging.INFO)"
   ]
  },
  {
   "cell_type": "markdown",
   "id": "cdbb3677",
   "metadata": {},
   "source": [
    "## PNL and price for the test asset"
   ]
  },
  {
   "cell_type": "code",
   "execution_count": null,
   "id": "e7f6724f",
   "metadata": {},
   "outputs": [],
   "source": [
    "portfolio_df[\"pnl\"][test_asset_id].cumsum().plot()"
   ]
  },
  {
   "cell_type": "code",
   "execution_count": null,
   "id": "4ebae764",
   "metadata": {},
   "outputs": [],
   "source": [
    "target_position_df[\"price\"][test_asset_id].plot()"
   ]
  },
  {
   "cell_type": "markdown",
   "id": "111f9b62",
   "metadata": {},
   "source": [
    "## Compute execution quality"
   ]
  },
  {
   "cell_type": "code",
   "execution_count": null,
   "id": "997f41c3",
   "metadata": {},
   "outputs": [],
   "source": [
    "(\n",
    "    execution_quality_df,\n",
    "    execution_quality_stats_df,\n",
    ") = cftpdp.compute_execution_quality_df(\n",
    "    portfolio_df,\n",
    "    target_position_df,\n",
    ")\n",
    "hpandas.df_to_str(execution_quality_df, num_rows=5, log_level=logging.INFO)\n",
    "hpandas.df_to_str(execution_quality_stats_df, num_rows=5, log_level=logging.INFO)"
   ]
  },
  {
   "cell_type": "code",
   "execution_count": null,
   "id": "f5875298",
   "metadata": {},
   "outputs": [],
   "source": [
    "execution_quality_df.columns.levels[0].to_list()"
   ]
  },
  {
   "cell_type": "code",
   "execution_count": null,
   "id": "5aff74a4",
   "metadata": {},
   "outputs": [],
   "source": [
    "coplotti.plot_execution_ecdfs(execution_quality_df)"
   ]
  },
  {
   "cell_type": "markdown",
   "id": "7a6fb718",
   "metadata": {},
   "source": [
    "## Compute and plot portfolio stats"
   ]
  },
  {
   "cell_type": "code",
   "execution_count": null,
   "id": "34e42c7f",
   "metadata": {},
   "outputs": [],
   "source": [
    "coplotti.plot_portfolio_stats(execution_quality_stats_df)"
   ]
  },
  {
   "cell_type": "code",
   "execution_count": null,
   "id": "1306340d",
   "metadata": {},
   "outputs": [],
   "source": [
    "coplotti.plot_execution_stats(execution_quality_stats_df)"
   ]
  },
  {
   "cell_type": "markdown",
   "id": "f64d119c",
   "metadata": {},
   "source": [
    "##  Filled order execution quality"
   ]
  },
  {
   "cell_type": "code",
   "execution_count": null,
   "id": "98be4263",
   "metadata": {},
   "outputs": [],
   "source": [
    "filled_order_execution_quality = obccexqu.compute_filled_order_execution_quality(\n",
    "    filled_ccxt_orders, tick_decimals=6\n",
    ")\n",
    "filled_order_execution_quality.head()"
   ]
  },
  {
   "cell_type": "code",
   "execution_count": null,
   "id": "b5299955",
   "metadata": {},
   "outputs": [],
   "source": [
    "# If any value is negative (up to machine precision), except for `direction`, it indicates a bug.\n",
    "filled_order_execution_quality.loc[\n",
    "    (filled_order_execution_quality.drop(\"direction\", axis=1).round(9) < 0).any(\n",
    "        axis=1\n",
    "    )\n",
    "].shape[0]"
   ]
  },
  {
   "cell_type": "code",
   "execution_count": null,
   "id": "320d80f7",
   "metadata": {},
   "outputs": [],
   "source": [
    "filled_order_execution_quality.min()"
   ]
  },
  {
   "cell_type": "code",
   "execution_count": null,
   "id": "ff99b307",
   "metadata": {},
   "outputs": [],
   "source": [
    "filled_order_execution_quality.max()"
   ]
  },
  {
   "cell_type": "markdown",
   "id": "7c981213",
   "metadata": {},
   "source": [
    "## Compare bar trade prices to OHLCV TWAP"
   ]
  },
  {
   "cell_type": "code",
   "execution_count": null,
   "id": "cc031c3f",
   "metadata": {},
   "outputs": [],
   "source": [
    "actual_and_ohlcv_price_df = {\n",
    "    \"buy_trade_price\": trade_prices[\"buy_trade_price\"],\n",
    "    \"sell_trade_price\": trade_prices[\"sell_trade_price\"],\n",
    "    \"twap\": ohlcv_bars[\"twap\"],\n",
    "    \"high\": ohlcv_bars[\"high\"],\n",
    "    \"low\": ohlcv_bars[\"low\"],\n",
    "}\n",
    "actual_and_ohlcv_price_df = pd.concat(actual_and_ohlcv_price_df, axis=1)\n",
    "hpandas.df_to_str(actual_and_ohlcv_price_df, num_rows=5, log_level=logging.INFO)"
   ]
  },
  {
   "cell_type": "code",
   "execution_count": null,
   "id": "97a6c261",
   "metadata": {},
   "outputs": [],
   "source": [
    "actual_vs_ohlcv_execution_df = cofinanc.compute_ref_price_execution_quality(\n",
    "    actual_and_ohlcv_price_df,\n",
    "    \"twap\",\n",
    "    \"twap\",\n",
    "    \"buy_trade_price\",\n",
    "    \"sell_trade_price\",\n",
    ")\n",
    "hpandas.df_to_str(\n",
    "    actual_vs_ohlcv_execution_df, num_rows=5, log_level=logging.INFO\n",
    ")"
   ]
  },
  {
   "cell_type": "code",
   "execution_count": null,
   "id": "b3e2cd65",
   "metadata": {},
   "outputs": [],
   "source": [
    "actual_vs_ohlcv_execution_df.columns.levels[0].to_list()"
   ]
  },
  {
   "cell_type": "code",
   "execution_count": null,
   "id": "dbf4fad5",
   "metadata": {},
   "outputs": [],
   "source": [
    "# Some values can be missing in `buy_trade_price` and `sell_trade_price` columns.\n",
    "# Interpolate missing values to build continuous line.\n",
    "cofinanc.get_asset_slice(actual_and_ohlcv_price_df, test_asset_id).interpolate(\n",
    "    method=\"zero\"\n",
    ").plot()"
   ]
  },
  {
   "cell_type": "markdown",
   "id": "5e3830e2",
   "metadata": {},
   "source": [
    "## Spread and High-Low Range"
   ]
  },
  {
   "cell_type": "markdown",
   "id": "a56d88a8",
   "metadata": {},
   "source": [
    "### Average bid/ask spread by asset_id"
   ]
  },
  {
   "cell_type": "code",
   "execution_count": null,
   "id": "5446b882",
   "metadata": {},
   "outputs": [],
   "source": [
    "# Display average notional spread per instrument.\n",
    "average_spread_notional = child_order_df.groupby(\"asset_id\")[\"spread\"].mean()\n",
    "average_spread_notional"
   ]
  },
  {
   "cell_type": "code",
   "execution_count": null,
   "id": "03a29cba",
   "metadata": {},
   "outputs": [],
   "source": [
    "child_order_df.head()"
   ]
  },
  {
   "cell_type": "code",
   "execution_count": null,
   "id": "7ce43654",
   "metadata": {},
   "outputs": [],
   "source": [
    "# Display average spread per instrument in bps.\n",
    "average_spread_bps = (\n",
    "    child_order_df.groupby(\"asset_id\")[\"spread_bps\"].mean().sort_values()\n",
    ")\n",
    "average_spread_bps"
   ]
  },
  {
   "cell_type": "code",
   "execution_count": null,
   "id": "04c99212",
   "metadata": {},
   "outputs": [],
   "source": [
    "average_spread_bps.plot(\n",
    "    kind=\"bar\",\n",
    "    title=\"Average Spread per Instrument in Basis Points\",\n",
    "    xlabel=\"Instrument\",\n",
    "    ylabel=\"Average Spread (bps)\",\n",
    ")"
   ]
  },
  {
   "cell_type": "markdown",
   "id": "dd22c0b6",
   "metadata": {},
   "source": [
    "### OHLCV high-low spread to tick ratio"
   ]
  },
  {
   "cell_type": "code",
   "execution_count": null,
   "id": "55c13654",
   "metadata": {},
   "outputs": [],
   "source": [
    "# Calculate the high-low spread to tick ratio.\n",
    "high_low_range = (ohlcv_bars[\"high\"] - ohlcv_bars[\"low\"]) / price_tick_srs\n",
    "# Plot average.\n",
    "high_low_range.mean().sort_values(ascending=False).plot(\n",
    "    kind=\"bar\",\n",
    "    logy=True,\n",
    "    title=\"Average High/Low Range per Instrument (log)\",\n",
    "    xlabel=\"Instrument\",\n",
    "    ylabel=\"Average High/Low Range (log)\",\n",
    ")"
   ]
  },
  {
   "cell_type": "markdown",
   "id": "cb15a57c",
   "metadata": {},
   "source": [
    "# Child order DF stats"
   ]
  },
  {
   "cell_type": "markdown",
   "id": "9dadf490",
   "metadata": {},
   "source": [
    "## Volatility"
   ]
  },
  {
   "cell_type": "code",
   "execution_count": null,
   "id": "37d3192b",
   "metadata": {},
   "outputs": [],
   "source": [
    "# Average volatility in bps by asset.\n",
    "# Note: `mean()` used as a placeholder.\n",
    "child_order_df.groupby(\"asset_id\")[\"total_vol_bps\"].mean()"
   ]
  },
  {
   "cell_type": "code",
   "execution_count": null,
   "id": "3e73edc4",
   "metadata": {},
   "outputs": [],
   "source": [
    "# Total volatility in bps histogram.\n",
    "child_order_df[\"total_vol_bps\"].hist()"
   ]
  },
  {
   "cell_type": "markdown",
   "id": "1c4e43e4",
   "metadata": {},
   "source": [
    "## Bid/ask"
   ]
  },
  {
   "cell_type": "code",
   "execution_count": null,
   "id": "71783ed3",
   "metadata": {},
   "outputs": [],
   "source": [
    "# Average bid cost by asset.\n",
    "avg_bid_price_by_asset = child_order_df.groupby(\"asset_id\")[\n",
    "    \"latest_bid_price\"\n",
    "].mean()\n",
    "_LOG.info(avg_bid_price_by_asset)\n",
    "avg_bid_size_by_asset = child_order_df.groupby(\"asset_id\")[\n",
    "    \"latest_bid_size\"\n",
    "].mean()\n",
    "_LOG.info(avg_bid_size_by_asset)\n",
    "avg_bid_cost_by_asset = avg_bid_price_by_asset * avg_bid_size_by_asset\n",
    "avg_bid_cost_by_asset"
   ]
  },
  {
   "cell_type": "code",
   "execution_count": null,
   "id": "f69bb838",
   "metadata": {},
   "outputs": [],
   "source": [
    "# Average ask cost by asset.\n",
    "avg_ask_price_by_asset = child_order_df.groupby(\"asset_id\")[\n",
    "    \"latest_ask_price\"\n",
    "].mean()\n",
    "_LOG.info(avg_ask_price_by_asset)\n",
    "avg_ask_size_by_asset = child_order_df.groupby(\"asset_id\")[\n",
    "    \"latest_ask_size\"\n",
    "].mean()\n",
    "_LOG.info(avg_ask_size_by_asset)\n",
    "avg_ask_cost_by_asset = avg_ask_price_by_asset * avg_ask_size_by_asset\n",
    "avg_ask_cost_by_asset"
   ]
  },
  {
   "cell_type": "markdown",
   "id": "cb0c844f",
   "metadata": {},
   "source": [
    "# Analyze filled orders"
   ]
  },
  {
   "cell_type": "code",
   "execution_count": null,
   "id": "eab41861",
   "metadata": {},
   "outputs": [],
   "source": [
    "# Group child orders by corresponding parent order.\n",
    "child_order_df[\"parent_order_id\"] = child_order_df.extra_params.apply(\n",
    "    lambda x: x[\"oms_parent_order_id\"]\n",
    ")\n",
    "child_order_df_by_parent = child_order_df.reset_index().set_index(\n",
    "    [\"parent_order_id\", \"order_id\"]\n",
    ")"
   ]
  },
  {
   "cell_type": "markdown",
   "id": "aa016908",
   "metadata": {},
   "source": [
    "## Filled order slippage normalized by parent order"
   ]
  },
  {
   "cell_type": "markdown",
   "id": "9d4169c7",
   "metadata": {},
   "source": [
    "Calculate filled order slippage as a difference between the bid/ask midpoint at the start of the parent order execution and the execution price of the filled order."
   ]
  },
  {
   "cell_type": "code",
   "execution_count": null,
   "id": "d9b506d0",
   "metadata": {},
   "outputs": [],
   "source": [
    "first_mid_price_by_parent = child_order_df_by_parent.groupby(level=0)[\n",
    "    \"latest_mid_price\"\n",
    "].first()"
   ]
  },
  {
   "cell_type": "code",
   "execution_count": null,
   "id": "67b5da43",
   "metadata": {
    "lines_to_next_cell": 2
   },
   "outputs": [],
   "source": [
    "# Add filled order slippage for each child order.\n",
    "child_order_df_by_parent[\"order_slippage\"] = (\n",
    "    first_mid_price_by_parent - child_order_df_by_parent[\"limit_price\"]\n",
    ")"
   ]
  },
  {
   "cell_type": "code",
   "execution_count": null,
   "id": "f91cbb86",
   "metadata": {},
   "outputs": [],
   "source": [
    "# Filter to only unfilled child orders.\n",
    "filled_child_order_df = child_order_df_by_parent[\n",
    "    child_order_df_by_parent[\"ccxt_id\"].isin(filled_ccxt_orders.index)\n",
    "]\n",
    "filled_child_order_df[[\"asset_id\", \"order_slippage\"]]"
   ]
  },
  {
   "cell_type": "markdown",
   "id": "0b82b253",
   "metadata": {},
   "source": [
    "# Analyze unfilled orders"
   ]
  },
  {
   "cell_type": "markdown",
   "id": "e6a0569c",
   "metadata": {},
   "source": [
    "## Underfill execution quality"
   ]
  },
  {
   "cell_type": "markdown",
   "id": "9c95c50f",
   "metadata": {},
   "source": [
    "### Underfill notional"
   ]
  },
  {
   "cell_type": "code",
   "execution_count": null,
   "id": "2cc0aba4",
   "metadata": {},
   "outputs": [],
   "source": [
    "# Get the total underfill notional for the run per asset.\n",
    "execution_quality_df[\"underfill_notional\"].abs().sum().round(9)"
   ]
  },
  {
   "cell_type": "code",
   "execution_count": null,
   "id": "b8ac4dde",
   "metadata": {},
   "outputs": [],
   "source": [
    "# Get the total underfill notional for the run per bar.\n",
    "execution_quality_df[\"underfill_notional\"].abs().sum(axis=1).round(9)"
   ]
  },
  {
   "cell_type": "code",
   "execution_count": null,
   "id": "4cf77724",
   "metadata": {},
   "outputs": [],
   "source": [
    "# Get the total underfill notional.\n",
    "execution_quality_df[\"underfill_notional\"].abs().sum().sum().round(9)"
   ]
  },
  {
   "cell_type": "markdown",
   "id": "9f6afd49",
   "metadata": {},
   "source": [
    "### Aggregate fill rate"
   ]
  },
  {
   "cell_type": "code",
   "execution_count": null,
   "id": "abe097fb",
   "metadata": {},
   "outputs": [],
   "source": [
    "underfill_notional = execution_quality_df[\"underfill_notional\"].abs().sum()\n",
    "executed_volume_notional = portfolio_df[\"executed_trades_notional\"].abs().sum()\n",
    "executed_volume_notional / (underfill_notional + executed_volume_notional)"
   ]
  },
  {
   "cell_type": "code",
   "execution_count": null,
   "id": "699684e6",
   "metadata": {},
   "outputs": [],
   "source": [
    "# Total portfolio aggregate fill rate.\n",
    "total_underfill_notional = underfill_notional.sum()\n",
    "total_executed_volume_notional = executed_volume_notional.sum()\n",
    "total_executed_volume_notional / (\n",
    "    total_underfill_notional + total_executed_volume_notional\n",
    ")"
   ]
  },
  {
   "cell_type": "markdown",
   "id": "868c1caf",
   "metadata": {},
   "source": [
    "### Underfill share count"
   ]
  },
  {
   "cell_type": "code",
   "execution_count": null,
   "id": "3b1672d1",
   "metadata": {},
   "outputs": [],
   "source": [
    "# Get underfill share count per asset.\n",
    "execution_quality_df[\"underfill_share_count\"].abs().sum().round(9)"
   ]
  },
  {
   "cell_type": "markdown",
   "id": "ad94f351",
   "metadata": {},
   "source": [
    "### Notional slippage"
   ]
  },
  {
   "cell_type": "code",
   "execution_count": null,
   "id": "db156d41",
   "metadata": {},
   "outputs": [],
   "source": [
    "# Total slippage.\n",
    "execution_quality_df[\"slippage_notional\"].sum().sum().round(9)"
   ]
  },
  {
   "cell_type": "code",
   "execution_count": null,
   "id": "2f4e35b3",
   "metadata": {},
   "outputs": [],
   "source": [
    "# Notional slippage by asset.\n",
    "execution_quality_df[\"slippage_notional\"].sum().round(9)"
   ]
  },
  {
   "cell_type": "code",
   "execution_count": null,
   "id": "9251f6cc",
   "metadata": {},
   "outputs": [],
   "source": [
    "# Slippage in bps by timestamp.\n",
    "execution_quality_df[\"slippage_notional\"].sum(axis=1).round(9)"
   ]
  },
  {
   "cell_type": "markdown",
   "id": "f425033e",
   "metadata": {},
   "source": [
    "### Slippage in bps adjusted by total executed volume"
   ]
  },
  {
   "cell_type": "code",
   "execution_count": null,
   "id": "45aad9ec",
   "metadata": {},
   "outputs": [],
   "source": [
    "# Total.\n",
    "execution_quality_df[\n",
    "    \"slippage_notional\"\n",
    "].sum().sum() * 1e4 / executed_volume_notional.sum().round(9)"
   ]
  },
  {
   "cell_type": "code",
   "execution_count": null,
   "id": "882e1b30",
   "metadata": {},
   "outputs": [],
   "source": [
    "# By asset.\n",
    "execution_quality_df[\n",
    "    \"slippage_notional\"\n",
    "].sum() * 1e4 / executed_volume_notional.round(9)"
   ]
  },
  {
   "cell_type": "code",
   "execution_count": null,
   "id": "08e71dde",
   "metadata": {
    "lines_to_next_cell": 2
   },
   "outputs": [],
   "source": [
    "# By timestamp.\n",
    "execution_quality_df[\"slippage_notional\"].sum(axis=1) * 1e4 / portfolio_df[\n",
    "    \"executed_trades_notional\"\n",
    "].abs().sum(axis=1).round(9)"
   ]
  },
  {
   "cell_type": "markdown",
   "id": "85902305",
   "metadata": {},
   "source": [
    "### Slippage in bps over volatility"
   ]
  },
  {
   "cell_type": "code",
   "execution_count": null,
   "id": "577ef4dc",
   "metadata": {},
   "outputs": [],
   "source": [
    "execution_quality_df[\"slippage_in_bps\"].mean() / average_spread_bps"
   ]
  },
  {
   "cell_type": "markdown",
   "id": "e70d83b0",
   "metadata": {},
   "source": [
    "## Compute vol-adjusted close price"
   ]
  },
  {
   "cell_type": "code",
   "execution_count": null,
   "id": "a7bb9d4a",
   "metadata": {},
   "outputs": [],
   "source": [
    "zero_vol = child_order_df_by_parent[child_order_df_by_parent[\"total_vol\"] == 0]\n",
    "if not zero_vol.empty:\n",
    "    _LOG.warning(\n",
    "        \"%d `total_vol` values will be replaces with NaN\",\n",
    "        len(zero_vol),\n",
    "    )\n",
    "    display(zero_vol)\n",
    "    # Replace zeros with NaN to avoid division by zero.\n",
    "    child_order_df_by_parent[\"total_vol\"] = child_order_df_by_parent[\n",
    "        \"total_vol\"\n",
    "    ].replace(0, np.nan)"
   ]
  },
  {
   "cell_type": "code",
   "execution_count": null,
   "id": "b88a543f",
   "metadata": {},
   "outputs": [],
   "source": [
    "# Get `close` price as defined in `get_adjusted_close_price` docstring.\n",
    "child_order_df_by_parent[\"close\"] = child_order_df_by_parent.groupby(level=0)[\n",
    "    \"latest_mid_price\"\n",
    "].shift(-1)\n",
    "# Calculate volatility-adjusted close price.\n",
    "adjusted_close = list(\n",
    "    map(\n",
    "        obccexqu.get_adjusted_close_price,\n",
    "        child_order_df_by_parent[\"close\"],\n",
    "        child_order_df_by_parent[\"latest_mid_price\"],\n",
    "        child_order_df_by_parent[\"total_vol\"],\n",
    "    )\n",
    ")\n",
    "child_order_df_by_parent[\"adj_close\"] = adjusted_close"
   ]
  },
  {
   "cell_type": "code",
   "execution_count": null,
   "id": "2d6f0d0b",
   "metadata": {},
   "outputs": [],
   "source": [
    "# Filter to only unfilled child orders.\n",
    "unfilled_child_order_df = child_order_df_by_parent[\n",
    "    child_order_df_by_parent[\"ccxt_id\"].isin(unfilled_ccxt_orders.index)\n",
    "]\n",
    "unfilled_child_order_df.head(3)"
   ]
  },
  {
   "cell_type": "code",
   "execution_count": null,
   "id": "e87ca43e",
   "metadata": {},
   "outputs": [],
   "source": [
    "# Separate unfilled child orders by side.\n",
    "unfilled_child_order_df_buy = unfilled_child_order_df[\n",
    "    unfilled_child_order_df[\"diff_num_shares\"] > 0\n",
    "]\n",
    "unfilled_child_order_df_sell = unfilled_child_order_df[\n",
    "    unfilled_child_order_df[\"diff_num_shares\"] < 0\n",
    "]"
   ]
  },
  {
   "cell_type": "code",
   "execution_count": null,
   "id": "4e9e3c4a",
   "metadata": {},
   "outputs": [],
   "source": [
    "# Display mean adjusted close by side.\n",
    "_LOG.info(\n",
    "    \"Mean adjusted close for unfilled buy orders: %s\",\n",
    "    unfilled_child_order_df_buy[\"adj_close\"].dropna().mean(),\n",
    ")\n",
    "_LOG.info(\n",
    "    \"Mean adjusted close for unfilled sell orders: %s\",\n",
    "    unfilled_child_order_df_sell[\"adj_close\"].dropna().mean(),\n",
    ")"
   ]
  },
  {
   "cell_type": "code",
   "execution_count": null,
   "id": "ef3e510e",
   "metadata": {},
   "outputs": [],
   "source": [
    "# Display mean adjusted close by wave_id, buy orders.\n",
    "unfilled_child_order_df_buy.groupby(\"wave_id\")[\"adj_close\"].mean().round(9)"
   ]
  },
  {
   "cell_type": "code",
   "execution_count": null,
   "id": "53848131",
   "metadata": {},
   "outputs": [],
   "source": [
    "# Display mean adjusted close by wave_id, sell orders.\n",
    "unfilled_child_order_df_sell.groupby(\"wave_id\")[\"adj_close\"].mean().round(9)"
   ]
  },
  {
   "cell_type": "markdown",
   "id": "2c3db9b5",
   "metadata": {},
   "source": [
    "# Config after notebook run"
   ]
  },
  {
   "cell_type": "code",
   "execution_count": null,
   "id": "07c5e877",
   "metadata": {},
   "outputs": [],
   "source": [
    "print(config.to_string(mode=\"verbose\"))"
   ]
  },
  {
   "cell_type": "code",
   "execution_count": null,
   "id": "f5051425",
   "metadata": {},
   "outputs": [],
   "source": []
  }
 ],
 "metadata": {
  "kernelspec": {
   "display_name": "Python 3 (ipykernel)",
   "language": "python",
   "name": "python3"
  },
  "language_info": {
   "codemirror_mode": {
    "name": "ipython",
    "version": 3
   },
   "file_extension": ".py",
   "mimetype": "text/x-python",
   "name": "python",
   "nbconvert_exporter": "python",
   "pygments_lexer": "ipython3",
   "version": "3.9.5"
  },
  "toc": {
   "base_numbering": 1,
   "nav_menu": {},
   "number_sections": true,
   "sideBar": true,
   "skip_h1_title": false,
   "title_cell": "Table of Contents",
   "title_sidebar": "Contents",
   "toc_cell": false,
   "toc_position": {},
   "toc_section_display": true,
   "toc_window_display": false
  }
 },
 "nbformat": 4,
 "nbformat_minor": 5
}
