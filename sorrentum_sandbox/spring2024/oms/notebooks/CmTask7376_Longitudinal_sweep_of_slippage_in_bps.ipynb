{
 "cells": [
  {
   "cell_type": "markdown",
   "id": "2692785d",
   "metadata": {},
   "source": [
    "# Description"
   ]
  },
  {
   "cell_type": "markdown",
   "id": "df841dd3",
   "metadata": {},
   "source": [
    "Calculate longitudinal sweep of slippage in bps."
   ]
  },
  {
   "cell_type": "markdown",
   "id": "be7c0711",
   "metadata": {},
   "source": [
    "# Imports"
   ]
  },
  {
   "cell_type": "code",
   "execution_count": 18,
   "id": "478254af",
   "metadata": {
    "ExecuteTime": {
     "end_time": "2024-03-06T16:58:25.273545Z",
     "start_time": "2024-03-06T16:58:25.233184Z"
    }
   },
   "outputs": [
    {
     "name": "stdout",
     "output_type": "stream",
     "text": [
      "The autoreload extension is already loaded. To reload it, use:\n",
      "  %reload_ext autoreload\n"
     ]
    }
   ],
   "source": [
    "%load_ext autoreload\n",
    "%autoreload 2\n",
    "import logging\n",
    "\n",
    "import pandas as pd\n",
    "\n",
    "import core.config as cconfig\n",
    "import core.finance.target_position_df_processing as cftpdp\n",
    "import dataflow_amp.system.Cx as dtfamsysc\n",
    "import helpers.hdbg as hdbg\n",
    "import helpers.henv as henv\n",
    "import helpers.hprint as hprint\n",
    "import im_v2.common.universe as ivcu\n",
    "import oms.broker.ccxt.ccxt_aggregation_functions as obccagfu\n",
    "import oms.broker.ccxt.ccxt_execution_quality as obccexqu\n",
    "import oms.broker.ccxt.ccxt_logger as obcccclo\n",
    "import oms.order.order_converter as oororcon"
   ]
  },
  {
   "cell_type": "code",
   "execution_count": 19,
   "id": "a88b3cc4",
   "metadata": {
    "ExecuteTime": {
     "end_time": "2024-03-06T16:58:25.438439Z",
     "start_time": "2024-03-06T16:58:25.276124Z"
    }
   },
   "outputs": [
    {
     "name": "stdout",
     "output_type": "stream",
     "text": [
      "\u001b[0m\u001b[33mWARNING\u001b[0m: Logger already initialized: skipping\n",
      "INFO  # Git\n",
      "  branch_name='CmTask7376_Longitudina_sweep_of_slippage_in_bps'\n",
      "  hash='96e6da278'\n",
      "  # Last commits:\n",
      "    *   96e6da278 Danya Tikhomirov Merge branch 'master' into CmTask7376_Longitudina_sweep_of_slippage_in_bps (   5 hours ago) Wed Mar 6 12:24:45 2024  (HEAD -> CmTask7376_Longitudina_sweep_of_slippage_in_bps, origin/CmTask7376_Longitudina_sweep_of_slippage_in_bps)\n",
      "    |\\  \n",
      "    | * 0bfc20d14 Sameep Pote CmTask7435_Kill_get_Cx_NonTime_ForecastSystem_for_unit_tests_example1 (#7449) (   6 hours ago) Wed Mar 6 10:48:18 2024  (origin/CmampTask7456_Allow_downloading_parts_of_universe)\n",
      "    | * 497e81b9d Sameep Pote CmTask7334 create new universe 1 (#7458)                          (  20 hours ago) Tue Mar 5 20:37:30 2024           \n",
      "# Machine info\n",
      "  system=Linux\n",
      "  node name=5de9a1b8ea9d\n",
      "  release=5.15.0-1053-aws\n",
      "  version=#58~20.04.1-Ubuntu SMP Mon Jan 22 17:15:01 UTC 2024\n",
      "  machine=x86_64\n",
      "  processor=x86_64\n",
      "  cpu count=8\n",
      "  cpu freq=scpufreq(current=2499.992, min=0.0, max=0.0)\n",
      "  memory=svmem(total=33280278528, available=18610479104, percent=44.1, used=14193618944, free=4921065472, active=10164826112, inactive=14921076736, buffers=2034040832, cached=12131553280, shared=1777664, slab=2747117568)\n",
      "  disk usage=sdiskusage(total=218506772480, used=126509490176, free=91980505088, percent=57.9)\n",
      "# Packages\n",
      "  python: 3.9.5\n",
      "  cvxopt: 1.3.2\n",
      "  cvxpy: 1.4.2\n",
      "  gluonnlp: ?\n",
      "  gluonts: ?\n",
      "  joblib: 1.3.2\n",
      "  mxnet: ?\n",
      "  numpy: 1.26.0\n",
      "  pandas: 2.1.1\n",
      "  pyarrow: 14.0.2\n",
      "  scipy: 1.11.3\n",
      "  seaborn: 0.13.0\n",
      "  sklearn: 1.3.1\n",
      "  statsmodels: 0.14.0\n"
     ]
    }
   ],
   "source": [
    "hdbg.init_logger(verbosity=logging.INFO)\n",
    "\n",
    "_LOG = logging.getLogger(__name__)\n",
    "\n",
    "_LOG.info(\"%s\", henv.get_system_signature()[0])\n",
    "\n",
    "hprint.config_notebook()"
   ]
  },
  {
   "cell_type": "markdown",
   "id": "bc2b2d40",
   "metadata": {},
   "source": [
    "# Config"
   ]
  },
  {
   "cell_type": "code",
   "execution_count": 26,
   "id": "5ad9ec43",
   "metadata": {
    "ExecuteTime": {
     "end_time": "2024-03-06T17:42:39.213737Z",
     "start_time": "2024-03-06T17:42:39.173164Z"
    }
   },
   "outputs": [],
   "source": [
    "# TODO(Toma): turn this into master notebook."
   ]
  },
  {
   "cell_type": "code",
   "execution_count": 20,
   "id": "29c2a62d",
   "metadata": {
    "ExecuteTime": {
     "end_time": "2024-03-06T16:58:25.487475Z",
     "start_time": "2024-03-06T16:58:25.440555Z"
    }
   },
   "outputs": [
    {
     "name": "stdout",
     "output_type": "stream",
     "text": [
      "meta: \n",
      "  id_col: asset_id\n",
      "ohlcv_market_data: \n",
      "  vendor: CCXT\n",
      "  mode: trade\n",
      "  universe: \n",
      "    universe_version: v7.5\n",
      "execution_parameters: \n",
      "  bar_duration: 3T\n"
     ]
    }
   ],
   "source": [
    "config = cconfig.get_config_from_env()\n",
    "if config:\n",
    "    _LOG.info(\"Using config from env vars\")\n",
    "else:\n",
    "    id_col = \"asset_id\"\n",
    "    universe_version = \"v7.5\"\n",
    "    vendor = \"CCXT\"\n",
    "    mode = \"trade\"\n",
    "    bar_duration = \"3T\"\n",
    "    config_dict = {\n",
    "        \"meta\": {\"id_col\": id_col},\n",
    "        \"ohlcv_market_data\": {\n",
    "            \"vendor\": vendor,\n",
    "            \"mode\": mode,\n",
    "            \"universe\": {\n",
    "                \"universe_version\": universe_version,\n",
    "            },\n",
    "        },\n",
    "        \"execution_parameters\": {\n",
    "            \"bar_duration\": bar_duration,\n",
    "        },\n",
    "    }\n",
    "    config = cconfig.Config.from_dict(config_dict)\n",
    "print(config)"
   ]
  },
  {
   "cell_type": "markdown",
   "id": "b74aff97",
   "metadata": {},
   "source": [
    "# Specify the paths to experiments"
   ]
  },
  {
   "cell_type": "code",
   "execution_count": 21,
   "id": "5641f594",
   "metadata": {
    "ExecuteTime": {
     "end_time": "2024-03-06T16:58:25.523898Z",
     "start_time": "2024-03-06T16:58:25.489417Z"
    }
   },
   "outputs": [],
   "source": [
    "# Provide full system_log_dir paths with `process_forecasts` from Algo execution doc.\n",
    "paths_to_process = [\n",
    "    \"/shared_data/ecs_tokyo/test/system_reconciliation/C12a/prod/20240221_115700.20240221_125400/system_log_dir.manual/process_forecasts\",\n",
    "    \"/shared_data/ecs_tokyo/test/system_reconciliation/C12a/prod/20240221_144500.20240221_154200/system_log_dir.manual/process_forecasts\",\n",
    "    \"/shared_data/ecs_tokyo/test/system_reconciliation/C12a/prod/20240219_150900.20240219_160600/system_log_dir.manual/process_forecasts\",\n",
    "    \"/shared_data/ecs_tokyo/test/system_reconciliation/C12a/prod/20240223_160900.20240223_170600/system_log_dir.manual/process_forecasts\",\n",
    "    \"/shared_data/ecs_tokyo/test/system_reconciliation/C12a/prod/20240219_165700.20240219_175400/system_log_dir.manual/process_forecasts\",\n",
    "]"
   ]
  },
  {
   "cell_type": "markdown",
   "id": "c697690c",
   "metadata": {},
   "source": [
    "# Process the experiments"
   ]
  },
  {
   "cell_type": "code",
   "execution_count": 22,
   "id": "c797343c",
   "metadata": {
    "ExecuteTime": {
     "end_time": "2024-03-06T16:58:25.627248Z",
     "start_time": "2024-03-06T16:58:25.527090Z"
    }
   },
   "outputs": [],
   "source": [
    "id_col = config.get_and_mark_as_used((\"meta\", \"id_col\"))\n",
    "universe_version = config.get_and_mark_as_used(\n",
    "    (\"ohlcv_market_data\", \"universe\", \"universe_version\")\n",
    ")\n",
    "vendor = config.get_and_mark_as_used((\"ohlcv_market_data\", \"vendor\"))\n",
    "mode = config.get_and_mark_as_used((\"ohlcv_market_data\", \"mode\"))\n",
    "bar_duration = config.get_and_mark_as_used(\n",
    "    (\"execution_parameters\", \"bar_duration\")\n",
    ")"
   ]
  },
  {
   "cell_type": "code",
   "execution_count": 23,
   "id": "a5020753",
   "metadata": {
    "ExecuteTime": {
     "end_time": "2024-03-06T17:18:04.529317Z",
     "start_time": "2024-03-06T16:58:25.629081Z"
    },
    "run_control": {
     "marked": false
    },
    "scrolled": false
   },
   "outputs": [
    {
     "name": "stdout",
     "output_type": "stream",
     "text": [
      "INFO  Processing `/shared_data/ecs_tokyo/test/system_reconciliation/C12a/prod/20240221_115700.20240221_125400/system_log_dir.manual/process_forecasts`\n",
      "WARNING Path '/shared_data/ecs_tokyo/test/system_reconciliation/C12a/prod/20240221_115700.20240221_125400/system_log_dir.manual/process_forecasts/args.json' doesn't exist!\n",
      "WARNING Path '/shared_data/ecs_tokyo/test/system_reconciliation/C12a/prod/20240221_115700.20240221_125400/system_log_dir.manual/process_forecasts/balances' doesn't exist!\n",
      "WARNING Path '/shared_data/ecs_tokyo/test/system_reconciliation/C12a/prod/20240221_115700.20240221_125400/system_log_dir.manual/process_forecasts/reduce_only/ccxt_child_order_responses' doesn't exist!\n",
      "WARNING Path '/shared_data/ecs_tokyo/test/system_reconciliation/C12a/prod/20240221_115700.20240221_125400/system_log_dir.manual/process_forecasts/reduce_only/oms_child_orders' doesn't exist!\n"
     ]
    },
    {
     "data": {
      "application/vnd.jupyter.widget-view+json": {
       "model_id": "61277f99d63542b58770028aa85e9135",
       "version_major": 2,
       "version_minor": 0
      },
      "text/plain": [
       "Loading files from '/shared_data/ecs_tokyo/test/system_reconciliation/C12a/prod/20240221_115700.20240221_12540…"
      ]
     },
     "metadata": {},
     "output_type": "display_data"
    },
    {
     "data": {
      "application/vnd.jupyter.widget-view+json": {
       "model_id": "391b2887996949a6be76a1ae1f9e031d",
       "version_major": 2,
       "version_minor": 0
      },
      "text/plain": [
       "Loading `/shared_data/ecs_tokyo/test/system_reconciliation/C12a/prod/20240221_115700.20240221_125400/system_lo…"
      ]
     },
     "metadata": {},
     "output_type": "display_data"
    },
    {
     "name": "stderr",
     "output_type": "stream",
     "text": [
      "/app/helpers/hsql_implementation.py:582: UserWarning: pandas only supports SQLAlchemy connectable (engine/connection) or database string URI or sqlite3 DBAPI2 connection. Other DBAPI2 objects are not tested. Please consider using SQLAlchemy.\n",
      "  df = pd.read_sql_query(query, connection)\n"
     ]
    },
    {
     "name": "stdout",
     "output_type": "stream",
     "text": [
      "INFO  fit_intervals=[(Timestamp('2024-02-21 11:54:24.714000+0000', tz='UTC'), Timestamp('2024-02-21 12:57:10.734000+0000', tz='UTC'))]\n",
      "INFO  Processing `/shared_data/ecs_tokyo/test/system_reconciliation/C12a/prod/20240221_144500.20240221_154200/system_log_dir.manual/process_forecasts`\n"
     ]
    },
    {
     "name": "stderr",
     "output_type": "stream",
     "text": [
      "/app/core/finance/portfolio_df_processing/slippage.py:90: FutureWarning: The default fill_method='pad' in DataFrame.pct_change is deprecated and will be removed in a future version. Call ffill before calling pct_change to retain current behavior and silence this warning.\n",
      "  1e4 * side * holdings_price_per_share.pct_change().shift(-1)\n"
     ]
    },
    {
     "name": "stdout",
     "output_type": "stream",
     "text": [
      "WARNING Path '/shared_data/ecs_tokyo/test/system_reconciliation/C12a/prod/20240221_144500.20240221_154200/system_log_dir.manual/process_forecasts/args.json' doesn't exist!\n",
      "WARNING Path '/shared_data/ecs_tokyo/test/system_reconciliation/C12a/prod/20240221_144500.20240221_154200/system_log_dir.manual/process_forecasts/balances' doesn't exist!\n",
      "WARNING Path '/shared_data/ecs_tokyo/test/system_reconciliation/C12a/prod/20240221_144500.20240221_154200/system_log_dir.manual/process_forecasts/reduce_only/ccxt_child_order_responses' doesn't exist!\n",
      "WARNING Path '/shared_data/ecs_tokyo/test/system_reconciliation/C12a/prod/20240221_144500.20240221_154200/system_log_dir.manual/process_forecasts/reduce_only/oms_child_orders' doesn't exist!\n"
     ]
    },
    {
     "data": {
      "application/vnd.jupyter.widget-view+json": {
       "model_id": "cea4cd891f354d009f1f1aefac3b5ffd",
       "version_major": 2,
       "version_minor": 0
      },
      "text/plain": [
       "Loading files from '/shared_data/ecs_tokyo/test/system_reconciliation/C12a/prod/20240221_144500.20240221_15420…"
      ]
     },
     "metadata": {},
     "output_type": "display_data"
    },
    {
     "data": {
      "application/vnd.jupyter.widget-view+json": {
       "model_id": "70d24dc6fb814bd3b8071a9005d3c0aa",
       "version_major": 2,
       "version_minor": 0
      },
      "text/plain": [
       "Loading `/shared_data/ecs_tokyo/test/system_reconciliation/C12a/prod/20240221_144500.20240221_154200/system_lo…"
      ]
     },
     "metadata": {},
     "output_type": "display_data"
    },
    {
     "name": "stderr",
     "output_type": "stream",
     "text": [
      "/app/helpers/hsql_implementation.py:582: UserWarning: pandas only supports SQLAlchemy connectable (engine/connection) or database string URI or sqlite3 DBAPI2 connection. Other DBAPI2 objects are not tested. Please consider using SQLAlchemy.\n",
      "  df = pd.read_sql_query(query, connection)\n"
     ]
    },
    {
     "name": "stdout",
     "output_type": "stream",
     "text": [
      "INFO  fit_intervals=[(Timestamp('2024-02-21 14:42:20.631000+0000', tz='UTC'), Timestamp('2024-02-21 15:45:50.153000+0000', tz='UTC'))]\n",
      "INFO  Processing `/shared_data/ecs_tokyo/test/system_reconciliation/C12a/prod/20240219_150900.20240219_160600/system_log_dir.manual/process_forecasts`\n",
      "WARNING Path '/shared_data/ecs_tokyo/test/system_reconciliation/C12a/prod/20240219_150900.20240219_160600/system_log_dir.manual/process_forecasts/args.json' doesn't exist!\n",
      "WARNING Path '/shared_data/ecs_tokyo/test/system_reconciliation/C12a/prod/20240219_150900.20240219_160600/system_log_dir.manual/process_forecasts/balances' doesn't exist!\n",
      "WARNING Path '/shared_data/ecs_tokyo/test/system_reconciliation/C12a/prod/20240219_150900.20240219_160600/system_log_dir.manual/process_forecasts/reduce_only/ccxt_child_order_responses' doesn't exist!\n",
      "WARNING Path '/shared_data/ecs_tokyo/test/system_reconciliation/C12a/prod/20240219_150900.20240219_160600/system_log_dir.manual/process_forecasts/reduce_only/oms_child_orders' doesn't exist!\n"
     ]
    },
    {
     "data": {
      "application/vnd.jupyter.widget-view+json": {
       "model_id": "f3ab8fc4b41e473db8cd7afe3b431909",
       "version_major": 2,
       "version_minor": 0
      },
      "text/plain": [
       "Loading files from '/shared_data/ecs_tokyo/test/system_reconciliation/C12a/prod/20240219_150900.20240219_16060…"
      ]
     },
     "metadata": {},
     "output_type": "display_data"
    },
    {
     "data": {
      "application/vnd.jupyter.widget-view+json": {
       "model_id": "5bb7d752424e4d9488c980a418ebfe48",
       "version_major": 2,
       "version_minor": 0
      },
      "text/plain": [
       "Loading `/shared_data/ecs_tokyo/test/system_reconciliation/C12a/prod/20240219_150900.20240219_160600/system_lo…"
      ]
     },
     "metadata": {},
     "output_type": "display_data"
    },
    {
     "name": "stderr",
     "output_type": "stream",
     "text": [
      "/app/helpers/hsql_implementation.py:582: UserWarning: pandas only supports SQLAlchemy connectable (engine/connection) or database string URI or sqlite3 DBAPI2 connection. Other DBAPI2 objects are not tested. Please consider using SQLAlchemy.\n",
      "  df = pd.read_sql_query(query, connection)\n"
     ]
    },
    {
     "name": "stdout",
     "output_type": "stream",
     "text": [
      "INFO  fit_intervals=[(Timestamp('2024-02-19 15:06:26.149000+0000', tz='UTC'), Timestamp('2024-02-19 16:10:00.644000+0000', tz='UTC'))]\n",
      "INFO  Processing `/shared_data/ecs_tokyo/test/system_reconciliation/C12a/prod/20240223_160900.20240223_170600/system_log_dir.manual/process_forecasts`\n",
      "WARNING Path '/shared_data/ecs_tokyo/test/system_reconciliation/C12a/prod/20240223_160900.20240223_170600/system_log_dir.manual/process_forecasts/args.json' doesn't exist!\n",
      "WARNING Path '/shared_data/ecs_tokyo/test/system_reconciliation/C12a/prod/20240223_160900.20240223_170600/system_log_dir.manual/process_forecasts/balances' doesn't exist!\n",
      "WARNING Path '/shared_data/ecs_tokyo/test/system_reconciliation/C12a/prod/20240223_160900.20240223_170600/system_log_dir.manual/process_forecasts/reduce_only/ccxt_child_order_responses' doesn't exist!\n",
      "WARNING Path '/shared_data/ecs_tokyo/test/system_reconciliation/C12a/prod/20240223_160900.20240223_170600/system_log_dir.manual/process_forecasts/reduce_only/oms_child_orders' doesn't exist!\n"
     ]
    },
    {
     "data": {
      "application/vnd.jupyter.widget-view+json": {
       "model_id": "327bef52041a473aa05f92ec8c67dad5",
       "version_major": 2,
       "version_minor": 0
      },
      "text/plain": [
       "Loading files from '/shared_data/ecs_tokyo/test/system_reconciliation/C12a/prod/20240223_160900.20240223_17060…"
      ]
     },
     "metadata": {},
     "output_type": "display_data"
    },
    {
     "data": {
      "application/vnd.jupyter.widget-view+json": {
       "model_id": "4c0fabecd7d947b5b17f453bfd32a727",
       "version_major": 2,
       "version_minor": 0
      },
      "text/plain": [
       "Loading `/shared_data/ecs_tokyo/test/system_reconciliation/C12a/prod/20240223_160900.20240223_170600/system_lo…"
      ]
     },
     "metadata": {},
     "output_type": "display_data"
    },
    {
     "name": "stderr",
     "output_type": "stream",
     "text": [
      "/app/helpers/hsql_implementation.py:582: UserWarning: pandas only supports SQLAlchemy connectable (engine/connection) or database string URI or sqlite3 DBAPI2 connection. Other DBAPI2 objects are not tested. Please consider using SQLAlchemy.\n",
      "  df = pd.read_sql_query(query, connection)\n"
     ]
    },
    {
     "name": "stdout",
     "output_type": "stream",
     "text": [
      "INFO  fit_intervals=[(Timestamp('2024-02-23 16:06:12.247000+0000', tz='UTC'), Timestamp('2024-02-23 16:36:09.035000+0000', tz='UTC'))]\n",
      "INFO  Processing `/shared_data/ecs_tokyo/test/system_reconciliation/C12a/prod/20240219_165700.20240219_175400/system_log_dir.manual/process_forecasts`\n",
      "WARNING Path '/shared_data/ecs_tokyo/test/system_reconciliation/C12a/prod/20240219_165700.20240219_175400/system_log_dir.manual/process_forecasts/args.json' doesn't exist!\n",
      "WARNING Path '/shared_data/ecs_tokyo/test/system_reconciliation/C12a/prod/20240219_165700.20240219_175400/system_log_dir.manual/process_forecasts/balances' doesn't exist!\n",
      "WARNING Path '/shared_data/ecs_tokyo/test/system_reconciliation/C12a/prod/20240219_165700.20240219_175400/system_log_dir.manual/process_forecasts/reduce_only/ccxt_child_order_responses' doesn't exist!\n",
      "WARNING Path '/shared_data/ecs_tokyo/test/system_reconciliation/C12a/prod/20240219_165700.20240219_175400/system_log_dir.manual/process_forecasts/reduce_only/oms_child_orders' doesn't exist!\n"
     ]
    },
    {
     "data": {
      "application/vnd.jupyter.widget-view+json": {
       "model_id": "c214c8887ab4451384fe13d019ade196",
       "version_major": 2,
       "version_minor": 0
      },
      "text/plain": [
       "Loading files from '/shared_data/ecs_tokyo/test/system_reconciliation/C12a/prod/20240219_165700.20240219_17540…"
      ]
     },
     "metadata": {},
     "output_type": "display_data"
    },
    {
     "data": {
      "application/vnd.jupyter.widget-view+json": {
       "model_id": "47d34de1b6594eee984cd5c7dedc2055",
       "version_major": 2,
       "version_minor": 0
      },
      "text/plain": [
       "Loading `/shared_data/ecs_tokyo/test/system_reconciliation/C12a/prod/20240219_165700.20240219_175400/system_lo…"
      ]
     },
     "metadata": {},
     "output_type": "display_data"
    },
    {
     "name": "stderr",
     "output_type": "stream",
     "text": [
      "/app/helpers/hsql_implementation.py:582: UserWarning: pandas only supports SQLAlchemy connectable (engine/connection) or database string URI or sqlite3 DBAPI2 connection. Other DBAPI2 objects are not tested. Please consider using SQLAlchemy.\n",
      "  df = pd.read_sql_query(query, connection)\n"
     ]
    },
    {
     "name": "stdout",
     "output_type": "stream",
     "text": [
      "INFO  fit_intervals=[(Timestamp('2024-02-19 16:54:17.936000+0000', tz='UTC'), Timestamp('2024-02-19 17:57:13.856000+0000', tz='UTC'))]\n"
     ]
    }
   ],
   "source": [
    "slippage_in_bps_rows = []\n",
    "\n",
    "# TODO(Toma): move to a lib.\n",
    "for log_dir in paths_to_process:\n",
    "    _LOG.info(\"Processing `%s`\", log_dir)\n",
    "    # Init the log reader.\n",
    "    ccxt_log_reader = obcccclo.CcxtLogger(log_dir)\n",
    "    # # Load and aggregate data.\n",
    "    # ## Load OMS parent orders.\n",
    "    parent_order_df = ccxt_log_reader.load_oms_parent_order(\n",
    "        convert_to_dataframe=True, abort_on_missing_data=False\n",
    "    )\n",
    "    # ## Load CCXT fills (trades).\n",
    "    fills_df = ccxt_log_reader.load_ccxt_trades(\n",
    "        convert_to_dataframe=True, abort_on_missing_data=False\n",
    "    )\n",
    "    # ## Aggregate CCXT Data.\n",
    "    bar_fills = obccagfu.aggregate_fills_by_bar(\n",
    "        fills_df, bar_duration, groupby_id_col=id_col\n",
    "    )\n",
    "    # ## Load OHLCV data.\n",
    "    start_timestamp = bar_fills[\"first_datetime\"].min() - pd.Timedelta(\n",
    "        bar_duration\n",
    "    )\n",
    "    end_timestamp = bar_fills[\"last_datetime\"].max() + pd.Timedelta(bar_duration)\n",
    "    # Get asset ids.\n",
    "    asset_ids = ivcu.get_vendor_universe_as_asset_ids(\n",
    "        universe_version, vendor, mode\n",
    "    )\n",
    "    # Get prod `MarketData`.\n",
    "    db_stage = \"preprod\"\n",
    "    market_data = dtfamsysc.get_Cx_RealTimeMarketData_prod_instance1(\n",
    "        asset_ids, db_stage\n",
    "    )\n",
    "    # Load and resample OHLCV data.\n",
    "    ohlcv_bars = dtfamsysc.load_and_resample_ohlcv_data(\n",
    "        market_data,\n",
    "        start_timestamp,\n",
    "        end_timestamp,\n",
    "        bar_duration,\n",
    "    )\n",
    "    # # Execution quality.\n",
    "    # Compute `target_position_df` and `portfolio_df`.\n",
    "    price_df = ohlcv_bars[\"close\"]\n",
    "    target_position_df = oororcon.convert_order_df_to_target_position_df(\n",
    "        parent_order_df,\n",
    "        price_df,\n",
    "    )\n",
    "    portfolio_df = obccexqu.convert_bar_fills_to_portfolio_df(\n",
    "        bar_fills,\n",
    "        price_df,\n",
    "    )\n",
    "    (\n",
    "        execution_quality_df,\n",
    "        execution_quality_stats_df,\n",
    "    ) = cftpdp.compute_execution_quality_df(\n",
    "        portfolio_df,\n",
    "        target_position_df,\n",
    "    )\n",
    "    # Calculate slippage in BPS.\n",
    "    # TODO(Toma): improve the way mean is calculated.\n",
    "    slippage_in_bps = execution_quality_df[\"slippage_in_bps\"].mean()\n",
    "    # TODO(Toma): add caching previous calculations using decorator, PP with GP.\n",
    "    row = pd.DataFrame(slippage_in_bps.to_dict(), index=[start_timestamp])\n",
    "    slippage_in_bps_rows.append(row)"
   ]
  },
  {
   "cell_type": "markdown",
   "id": "88a2abf6",
   "metadata": {
    "ExecuteTime": {
     "end_time": "2024-02-29T20:46:00.806004Z",
     "start_time": "2024-02-29T20:46:00.667009Z"
    }
   },
   "source": [
    "# Build the longitudinal sweep of slippage Dataframe"
   ]
  },
  {
   "cell_type": "code",
   "execution_count": 24,
   "id": "12e01435",
   "metadata": {
    "ExecuteTime": {
     "end_time": "2024-03-06T17:18:04.583495Z",
     "start_time": "2024-03-06T17:18:04.532350Z"
    }
   },
   "outputs": [],
   "source": [
    "slippage_in_bps_df = pd.concat(slippage_in_bps_rows).sort_index()"
   ]
  },
  {
   "cell_type": "code",
   "execution_count": 25,
   "id": "60a78abe",
   "metadata": {
    "ExecuteTime": {
     "end_time": "2024-03-06T17:18:04.643770Z",
     "start_time": "2024-03-06T17:18:04.586288Z"
    }
   },
   "outputs": [
    {
     "data": {
      "text/html": [
       "<div>\n",
       "<style scoped>\n",
       "    .dataframe tbody tr th:only-of-type {\n",
       "        vertical-align: middle;\n",
       "    }\n",
       "\n",
       "    .dataframe tbody tr th {\n",
       "        vertical-align: top;\n",
       "    }\n",
       "\n",
       "    .dataframe thead th {\n",
       "        text-align: right;\n",
       "    }\n",
       "</style>\n",
       "<table border=\"1\" class=\"dataframe\">\n",
       "  <thead>\n",
       "    <tr style=\"text-align: right;\">\n",
       "      <th></th>\n",
       "      <th>1464553467</th>\n",
       "      <th>1467591036</th>\n",
       "    </tr>\n",
       "  </thead>\n",
       "  <tbody>\n",
       "    <tr>\n",
       "      <th>2024-02-19 15:06:26.149000+00:00</th>\n",
       "      <td>0.787916</td>\n",
       "      <td>2.805950</td>\n",
       "    </tr>\n",
       "    <tr>\n",
       "      <th>2024-02-19 16:54:17.936000+00:00</th>\n",
       "      <td>3.503681</td>\n",
       "      <td>8.694168</td>\n",
       "    </tr>\n",
       "    <tr>\n",
       "      <th>2024-02-21 11:54:24.714000+00:00</th>\n",
       "      <td>2.812249</td>\n",
       "      <td>-7.244264</td>\n",
       "    </tr>\n",
       "    <tr>\n",
       "      <th>2024-02-21 14:42:20.631000+00:00</th>\n",
       "      <td>0.017361</td>\n",
       "      <td>-1.806226</td>\n",
       "    </tr>\n",
       "    <tr>\n",
       "      <th>2024-02-23 16:06:12.247000+00:00</th>\n",
       "      <td>5.074236</td>\n",
       "      <td>4.071793</td>\n",
       "    </tr>\n",
       "  </tbody>\n",
       "</table>\n",
       "</div>"
      ],
      "text/plain": [
       "                                  1464553467  1467591036\n",
       "2024-02-19 15:06:26.149000+00:00    0.787916    2.805950\n",
       "2024-02-19 16:54:17.936000+00:00    3.503681    8.694168\n",
       "2024-02-21 11:54:24.714000+00:00    2.812249   -7.244264\n",
       "2024-02-21 14:42:20.631000+00:00    0.017361   -1.806226\n",
       "2024-02-23 16:06:12.247000+00:00    5.074236    4.071793"
      ]
     },
     "execution_count": 25,
     "metadata": {},
     "output_type": "execute_result"
    }
   ],
   "source": [
    "slippage_in_bps_df"
   ]
  },
  {
   "cell_type": "code",
   "execution_count": null,
   "id": "9192a7a2",
   "metadata": {},
   "outputs": [],
   "source": []
  }
 ],
 "metadata": {
  "kernelspec": {
   "display_name": "Python 3 (ipykernel)",
   "language": "python",
   "name": "python3"
  },
  "language_info": {
   "codemirror_mode": {
    "name": "ipython",
    "version": 3
   },
   "file_extension": ".py",
   "mimetype": "text/x-python",
   "name": "python",
   "nbconvert_exporter": "python",
   "pygments_lexer": "ipython3",
   "version": "3.9.5"
  },
  "toc": {
   "base_numbering": 1,
   "nav_menu": {},
   "number_sections": true,
   "sideBar": true,
   "skip_h1_title": false,
   "title_cell": "Table of Contents",
   "title_sidebar": "Contents",
   "toc_cell": false,
   "toc_position": {},
   "toc_section_display": true,
   "toc_window_display": false
  }
 },
 "nbformat": 4,
 "nbformat_minor": 5
}
