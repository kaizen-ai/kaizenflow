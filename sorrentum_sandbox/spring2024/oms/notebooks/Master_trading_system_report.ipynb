{
 "cells": [
  {
   "cell_type": "markdown",
   "id": "3d29b0fc",
   "metadata": {},
   "source": [
    "# Description"
   ]
  },
  {
   "cell_type": "markdown",
   "id": "ea2192be",
   "metadata": {},
   "source": [
    "Print out all the links to the published notebooks stored in the given text file."
   ]
  },
  {
   "cell_type": "markdown",
   "id": "fb579415",
   "metadata": {
    "ExecuteTime": {
     "end_time": "2024-04-17T06:08:19.416013Z",
     "start_time": "2024-04-17T06:08:19.400943Z"
    }
   },
   "source": [
    "# Imports"
   ]
  },
  {
   "cell_type": "code",
   "execution_count": 1,
   "id": "97bbec36",
   "metadata": {
    "ExecuteTime": {
     "end_time": "2024-05-10T10:50:56.917665Z",
     "start_time": "2024-05-10T10:50:55.703000Z"
    }
   },
   "outputs": [],
   "source": [
    "%load_ext autoreload\n",
    "%autoreload 2\n",
    "%matplotlib inline"
   ]
  },
  {
   "cell_type": "code",
   "execution_count": 2,
   "id": "518df056",
   "metadata": {
    "ExecuteTime": {
     "end_time": "2024-05-10T10:51:04.858311Z",
     "start_time": "2024-05-10T10:50:56.919904Z"
    }
   },
   "outputs": [
    {
     "name": "stderr",
     "output_type": "stream",
     "text": [
      "/app/amp/core/statistics/random_samples.py:12: TqdmExperimentalWarning: Using `tqdm.autonotebook.tqdm` in notebook mode. Use `tqdm.tqdm` instead to force console mode (e.g. in jupyter console)\n",
      "  from tqdm.autonotebook import tqdm\n",
      "\u001b[33mWARNING\u001b[0m: No module named 'gluonts'\n",
      "\u001b[33mWARNING\u001b[0m: No module named 'gluonts'\n"
     ]
    }
   ],
   "source": [
    "import logging\n",
    "import os\n",
    "\n",
    "import pandas as pd\n",
    "from IPython.display import HTML, display\n",
    "\n",
    "import core.config as cconfig\n",
    "import helpers.hdbg as hdbg\n",
    "import helpers.henv as henv\n",
    "import helpers.hprint as hprint\n",
    "import oms.broker.ccxt.ccxt_logger as obcccclo\n",
    "import oms.execution_analysis_configs as oexancon"
   ]
  },
  {
   "cell_type": "code",
   "execution_count": 3,
   "id": "f0793aa5",
   "metadata": {
    "ExecuteTime": {
     "end_time": "2024-05-10T10:51:05.017470Z",
     "start_time": "2024-05-10T10:51:04.861007Z"
    }
   },
   "outputs": [
    {
     "name": "stdout",
     "output_type": "stream",
     "text": [
      "\u001b[0mWARNING: Running in Jupyter\n",
      "INFO  > cmd='/venv/lib/python3.9/site-packages/ipykernel_launcher.py -f /home/.local/share/jupyter/runtime/kernel-87bef640-d1f8-4efb-aa2d-bd89ee5d5732.json'\n",
      "INFO  # Git\n",
      "  branch_name='CmTask7852_Add_mechanism_to_read_config_from_file_in_all_the_notebooks_Samarth'\n",
      "  hash='a233de0c6'\n",
      "  # Last commits:\n",
      "    *   a233de0c6 Vlad     Merge branch 'master' into CmTask7852_Add_mechanism_to_read_config_from_file_in_all_the_notebooks_Samarth (   6 hours ago) Fri May 10 04:25:12 2024  (HEAD -> CmTask7852_Add_mechanism_to_read_config_from_file_in_all_the_notebooks_Samarth, origin/CmTask7852_Add_mechanism_to_read_config_from_file_in_all_the_notebooks_Samarth)\n",
      "    |\\  \n",
      "    * | 5e4928dc5 vlady    CmTask7852: lint                                                  (   6 hours ago) Fri May 10 04:24:08 2024           \n",
      "    * | ec7a5e378 vlady    CmTask7852: work on comments                                      (   6 hours ago) Fri May 10 04:22:27 2024           \n",
      "# Machine info\n",
      "  system=Linux\n",
      "  node name=bfe6c1fb9574\n",
      "  release=5.15.0-1058-aws\n",
      "  version=#64~20.04.1-Ubuntu SMP Tue Apr 9 11:12:27 UTC 2024\n",
      "  machine=x86_64\n",
      "  processor=x86_64\n",
      "  cpu count=8\n",
      "  cpu freq=scpufreq(current=2499.998, min=0.0, max=0.0)\n",
      "  memory=svmem(total=33280266240, available=28875038720, percent=13.2, used=3921514496, free=22423228416, active=3514601472, inactive=5186752512, buffers=2476949504, cached=4458573824, shared=9723904, slab=1842675712)\n",
      "  disk usage=sdiskusage(total=218506772480, used=100136947712, free=118353047552, percent=45.8)\n",
      "# Packages\n",
      "  python: 3.9.5\n",
      "  cvxopt: 1.3.2\n",
      "  cvxpy: 1.4.2\n",
      "  gluonnlp: ?\n",
      "  gluonts: ?\n",
      "  joblib: 1.3.2\n",
      "  mxnet: ?\n",
      "  numpy: 1.26.0\n",
      "  pandas: 2.1.1\n",
      "  pyarrow: 15.0.0\n",
      "  scipy: 1.11.3\n",
      "  seaborn: 0.13.0\n",
      "  sklearn: 1.3.1\n",
      "  statsmodels: 0.14.0\n"
     ]
    }
   ],
   "source": [
    "hdbg.init_logger(verbosity=logging.INFO)\n",
    "_LOG = logging.getLogger(__name__)\n",
    "_LOG.info(\"%s\", henv.get_system_signature()[0])\n",
    "hprint.config_notebook()"
   ]
  },
  {
   "cell_type": "markdown",
   "id": "fd7787ab",
   "metadata": {},
   "source": [
    "# Config"
   ]
  },
  {
   "cell_type": "code",
   "execution_count": 4,
   "id": "6aa23d4c",
   "metadata": {
    "ExecuteTime": {
     "end_time": "2024-05-10T10:51:05.067028Z",
     "start_time": "2024-05-10T10:51:05.020321Z"
    },
    "lines_to_next_cell": 2
   },
   "outputs": [
    {
     "name": "stdout",
     "output_type": "stream",
     "text": [
      "timestamp_dir: /shared_data/CmTask7895/system_reconciliation/C11a/prod/20240419_103500.20240419_113000/\n",
      "analysis_notebooks_file_path: /shared_data/CmTask7895/system_reconciliation/C11a/prod/20240419_103500.20240419_113000/system_log_dir.manual/analysis_notebooks/analysis_notebooks_links.csv\n"
     ]
    }
   ],
   "source": [
    "config = cconfig.get_config_from_env()\n",
    "if config:\n",
    "    _LOG.info(\"Using config from env vars\")\n",
    "else:\n",
    "    timestamp_dir = \"/shared_data/CmTask7895/system_reconciliation/C11a/prod/20240419_103500.20240419_113000/\"\n",
    "    analysis_notebooks_file_path = os.path.join(\n",
    "        timestamp_dir,\n",
    "        \"system_log_dir.manual\",\n",
    "        \"analysis_notebooks\",\n",
    "        \"analysis_notebooks_links.csv\",\n",
    "    )\n",
    "    config_list = oexancon.get_master_trading_system_report_notebook_config(\n",
    "        timestamp_dir, analysis_notebooks_file_path\n",
    "    )\n",
    "    config = config_list[0]\n",
    "print(config)"
   ]
  },
  {
   "cell_type": "markdown",
   "id": "cce89904",
   "metadata": {
    "lines_to_next_cell": 2
   },
   "source": [
    "# Utils"
   ]
  },
  {
   "cell_type": "code",
   "execution_count": 5,
   "id": "533b734b",
   "metadata": {
    "ExecuteTime": {
     "end_time": "2024-05-10T10:51:58.235774Z",
     "start_time": "2024-05-10T10:51:58.194698Z"
    }
   },
   "outputs": [],
   "source": [
    "# TODO(Vlad): The same as in the `Master_buildmeister_dashboard`. Have to be moved to the helpers.\n",
    "# TODO(Toma): Move functions to `oms/notebooks/notebooks_utils.py`.\n",
    "def make_clickable(url: str) -> str:\n",
    "    \"\"\"\n",
    "    Wrapper to make the URL value clickable.\n",
    "\n",
    "    :param url: URL value to convert\n",
    "    :return: clickable URL link\n",
    "    \"\"\"\n",
    "    return f'<a href=\"{url}\" target=\"_blank\">{url}</a>'\n",
    "\n",
    "\n",
    "def get_balances(ccxt_log: obcccclo.CcxtLogger) -> pd.DataFrame:\n",
    "    \"\"\"\n",
    "    Load balances Dataframe.\n",
    "    \"\"\"\n",
    "    balances_before = ccxt_log_reader.load_balances()\n",
    "    # Get the balances JSON from 1-element list returned by `load_balances` and\n",
    "    # transform per-asset information to Dataframe.\n",
    "    balances_df = pd.DataFrame(balances_before[0][\"info\"][\"assets\"])\n",
    "    balances_df = balances_df[[\"asset\", \"walletBalance\"]]\n",
    "    return balances_df"
   ]
  },
  {
   "cell_type": "markdown",
   "id": "3b8577a8",
   "metadata": {},
   "source": [
    "# Print the notebooks links"
   ]
  },
  {
   "cell_type": "code",
   "execution_count": 6,
   "id": "0aaef93f",
   "metadata": {
    "ExecuteTime": {
     "end_time": "2024-05-10T10:51:58.964247Z",
     "start_time": "2024-05-10T10:51:58.903789Z"
    }
   },
   "outputs": [
    {
     "data": {
      "text/html": [
       "<table border=\"1\" class=\"dataframe\">\n",
       "  <thead>\n",
       "    <tr style=\"text-align: right;\">\n",
       "      <th></th>\n",
       "      <th>Notebook Name</th>\n",
       "      <th>URL</th>\n",
       "    </tr>\n",
       "  </thead>\n",
       "  <tbody>\n",
       "    <tr>\n",
       "      <th>0</th>\n",
       "      <td>Master_system_reconciliation_fast</td>\n",
       "      <td><a href=\"http://172.30.2.44/CmTask7895/Master_system_reconciliation_fast.0.20240419-075053.html\" target=\"_blank\">http://172.30.2.44/CmTask7895/Master_system_reconciliation_fast.0.20240419-075053.html</a></td>\n",
       "    </tr>\n",
       "    <tr>\n",
       "      <th>1</th>\n",
       "      <td>Master_bid_ask_execution_analysis</td>\n",
       "      <td><a href=\"http://172.30.2.44/CmTask7895/Master_bid_ask_execution_analysis.0.20240425-085726.html\" target=\"_blank\">http://172.30.2.44/CmTask7895/Master_bid_ask_execution_analysis.0.20240425-085726.html</a></td>\n",
       "    </tr>\n",
       "    <tr>\n",
       "      <th>2</th>\n",
       "      <td>Master_execution_analysis</td>\n",
       "      <td><a href=\"http://172.30.2.44/CmTask7895/Master_execution_analysis.0.20240425-085918.html\" target=\"_blank\">http://172.30.2.44/CmTask7895/Master_execution_analysis.0.20240425-085918.html</a></td>\n",
       "    </tr>\n",
       "    <tr>\n",
       "      <th>3</th>\n",
       "      <td>Master_broker_debugging</td>\n",
       "      <td><a href=\"http://172.30.2.44/CmTask7895/Master_broker_debugging.0.20240425-090009.html\" target=\"_blank\">http://172.30.2.44/CmTask7895/Master_broker_debugging.0.20240425-090009.html</a></td>\n",
       "    </tr>\n",
       "    <tr>\n",
       "      <th>4</th>\n",
       "      <td>Master_broker_portfolio_reconciliation</td>\n",
       "      <td><a href=\"http://172.30.2.44/CmTask7895/Master_broker_portfolio_reconciliation.0.20240425-090213.html\" target=\"_blank\">http://172.30.2.44/CmTask7895/Master_broker_portfolio_reconciliation.0.20240425-090213.html</a></td>\n",
       "    </tr>\n",
       "  </tbody>\n",
       "</table>"
      ],
      "text/plain": [
       "<IPython.core.display.HTML object>"
      ]
     },
     "metadata": {},
     "output_type": "display_data"
    }
   ],
   "source": [
    "df = pd.read_csv(config[\"analysis_notebooks_file_path\"])\n",
    "df[\"URL\"] = df[\"URL\"].apply(make_clickable)\n",
    "display(HTML(df.to_html(escape=False)))"
   ]
  },
  {
   "cell_type": "markdown",
   "id": "8fbb5ac5",
   "metadata": {},
   "source": [
    "# Load balances"
   ]
  },
  {
   "cell_type": "markdown",
   "id": "b25a4790",
   "metadata": {
    "run_control": {
     "marked": false
    }
   },
   "source": [
    "## Before run"
   ]
  },
  {
   "cell_type": "code",
   "execution_count": 7,
   "id": "bf6eb88c",
   "metadata": {
    "ExecuteTime": {
     "end_time": "2024-05-10T10:52:00.372214Z",
     "start_time": "2024-05-10T10:52:00.308929Z"
    }
   },
   "outputs": [
    {
     "name": "stdout",
     "output_type": "stream",
     "text": [
      "WARNING Path '/shared_data/CmTask7895/system_reconciliation/C11a/prod/20240419_103500.20240419_113000/flatten_account.before/broker_config.json' doesn't exist!\n",
      "WARNING Path '/shared_data/CmTask7895/system_reconciliation/C11a/prod/20240419_103500.20240419_113000/flatten_account.before/args.json' doesn't exist!\n",
      "WARNING Path '/shared_data/CmTask7895/system_reconciliation/C11a/prod/20240419_103500.20240419_113000/flatten_account.before/child_order_fills' doesn't exist!\n",
      "WARNING Path '/shared_data/CmTask7895/system_reconciliation/C11a/prod/20240419_103500.20240419_113000/flatten_account.before/ccxt_child_order_responses' doesn't exist!\n",
      "WARNING Path '/shared_data/CmTask7895/system_reconciliation/C11a/prod/20240419_103500.20240419_113000/flatten_account.before/oms_child_orders' doesn't exist!\n",
      "WARNING Path '/shared_data/CmTask7895/system_reconciliation/C11a/prod/20240419_103500.20240419_113000/flatten_account.before/oms_parent_orders' doesn't exist!\n",
      "WARNING Path '/shared_data/CmTask7895/system_reconciliation/C11a/prod/20240419_103500.20240419_113000/flatten_account.before/bid_ask' doesn't exist!\n",
      "WARNING Path '/shared_data/CmTask7895/system_reconciliation/C11a/prod/20240419_103500.20240419_113000/flatten_account.before/bid_ask' doesn't exist!\n",
      "WARNING Path '/shared_data/CmTask7895/system_reconciliation/C11a/prod/20240419_103500.20240419_113000/flatten_account.before/exchange_markets' doesn't exist!\n",
      "WARNING Path '/shared_data/CmTask7895/system_reconciliation/C11a/prod/20240419_103500.20240419_113000/flatten_account.before/leverage_info' doesn't exist!\n",
      "WARNING Path '/shared_data/CmTask7895/system_reconciliation/C11a/prod/20240419_103500.20240419_113000/flatten_account.before/positions' doesn't exist!\n",
      "WARNING Path '/shared_data/CmTask7895/system_reconciliation/C11a/prod/20240419_103500.20240419_113000/flatten_account.before/reduce_only/ccxt_child_order_responses' doesn't exist!\n",
      "WARNING Path '/shared_data/CmTask7895/system_reconciliation/C11a/prod/20240419_103500.20240419_113000/flatten_account.before/reduce_only/oms_child_orders' doesn't exist!\n"
     ]
    }
   ],
   "source": [
    "# Init the log reader.\n",
    "log_dir = os.path.join(config[\"timestamp_dir\"], \"flatten_account.before\")\n",
    "ccxt_log_reader = obcccclo.CcxtLogger(log_dir)"
   ]
  },
  {
   "cell_type": "code",
   "execution_count": 8,
   "id": "dba8895d",
   "metadata": {
    "ExecuteTime": {
     "end_time": "2024-05-10T10:52:01.339753Z",
     "start_time": "2024-05-10T10:52:01.189629Z"
    }
   },
   "outputs": [
    {
     "data": {
      "application/vnd.jupyter.widget-view+json": {
       "model_id": "b6cdf9bdb846429fb1eafa6519339a94",
       "version_major": 2,
       "version_minor": 0
      },
      "text/plain": [
       "Loading '/shared_data/CmTask7895/system_reconciliation/C11a/prod/20240419_103500.20240419_113000/flatten_accou…"
      ]
     },
     "metadata": {},
     "output_type": "display_data"
    },
    {
     "data": {
      "text/html": [
       "<div>\n",
       "<style scoped>\n",
       "    .dataframe tbody tr th:only-of-type {\n",
       "        vertical-align: middle;\n",
       "    }\n",
       "\n",
       "    .dataframe tbody tr th {\n",
       "        vertical-align: top;\n",
       "    }\n",
       "\n",
       "    .dataframe thead th {\n",
       "        text-align: right;\n",
       "    }\n",
       "</style>\n",
       "<table border=\"1\" class=\"dataframe\">\n",
       "  <thead>\n",
       "    <tr style=\"text-align: right;\">\n",
       "      <th></th>\n",
       "      <th>asset</th>\n",
       "      <th>walletBalance</th>\n",
       "    </tr>\n",
       "  </thead>\n",
       "  <tbody>\n",
       "    <tr>\n",
       "      <th>0</th>\n",
       "      <td>FDUSD</td>\n",
       "      <td>0.00000000</td>\n",
       "    </tr>\n",
       "    <tr>\n",
       "      <th>1</th>\n",
       "      <td>BTC</td>\n",
       "      <td>0.00000000</td>\n",
       "    </tr>\n",
       "    <tr>\n",
       "      <th>2</th>\n",
       "      <td>XRP</td>\n",
       "      <td>0.00000000</td>\n",
       "    </tr>\n",
       "    <tr>\n",
       "      <th>3</th>\n",
       "      <td>TUSD</td>\n",
       "      <td>0.00000000</td>\n",
       "    </tr>\n",
       "    <tr>\n",
       "      <th>4</th>\n",
       "      <td>BNB</td>\n",
       "      <td>0.00000000</td>\n",
       "    </tr>\n",
       "    <tr>\n",
       "      <th>5</th>\n",
       "      <td>ETH</td>\n",
       "      <td>0.00000000</td>\n",
       "    </tr>\n",
       "    <tr>\n",
       "      <th>6</th>\n",
       "      <td>USDT</td>\n",
       "      <td>8595.65037912</td>\n",
       "    </tr>\n",
       "    <tr>\n",
       "      <th>7</th>\n",
       "      <td>USDC</td>\n",
       "      <td>0.00000000</td>\n",
       "    </tr>\n",
       "  </tbody>\n",
       "</table>\n",
       "</div>"
      ],
      "text/plain": [
       "   asset  walletBalance\n",
       "0  FDUSD     0.00000000\n",
       "1    BTC     0.00000000\n",
       "2    XRP     0.00000000\n",
       "3   TUSD     0.00000000\n",
       "4    BNB     0.00000000\n",
       "5    ETH     0.00000000\n",
       "6   USDT  8595.65037912\n",
       "7   USDC     0.00000000"
      ]
     },
     "metadata": {},
     "output_type": "display_data"
    }
   ],
   "source": [
    "balances_df = get_balances(ccxt_log_reader)\n",
    "display(balances_df)"
   ]
  },
  {
   "cell_type": "markdown",
   "id": "20d9dccb",
   "metadata": {
    "ExecuteTime": {
     "end_time": "2024-05-01T23:49:07.857969Z",
     "start_time": "2024-05-01T23:49:07.787309Z"
    }
   },
   "source": [
    "## After run"
   ]
  },
  {
   "cell_type": "code",
   "execution_count": 9,
   "id": "75898765",
   "metadata": {
    "ExecuteTime": {
     "end_time": "2024-05-10T10:52:02.105804Z",
     "start_time": "2024-05-10T10:52:02.030622Z"
    }
   },
   "outputs": [
    {
     "name": "stdout",
     "output_type": "stream",
     "text": [
      "WARNING Path '/shared_data/CmTask7895/system_reconciliation/C11a/prod/20240419_103500.20240419_113000/flatten_account.after/broker_config.json' doesn't exist!\n",
      "WARNING Path '/shared_data/CmTask7895/system_reconciliation/C11a/prod/20240419_103500.20240419_113000/flatten_account.after/args.json' doesn't exist!\n",
      "WARNING Path '/shared_data/CmTask7895/system_reconciliation/C11a/prod/20240419_103500.20240419_113000/flatten_account.after/child_order_fills' doesn't exist!\n",
      "WARNING Path '/shared_data/CmTask7895/system_reconciliation/C11a/prod/20240419_103500.20240419_113000/flatten_account.after/ccxt_child_order_responses' doesn't exist!\n",
      "WARNING Path '/shared_data/CmTask7895/system_reconciliation/C11a/prod/20240419_103500.20240419_113000/flatten_account.after/oms_child_orders' doesn't exist!\n",
      "WARNING Path '/shared_data/CmTask7895/system_reconciliation/C11a/prod/20240419_103500.20240419_113000/flatten_account.after/oms_parent_orders' doesn't exist!\n",
      "WARNING Path '/shared_data/CmTask7895/system_reconciliation/C11a/prod/20240419_103500.20240419_113000/flatten_account.after/bid_ask' doesn't exist!\n",
      "WARNING Path '/shared_data/CmTask7895/system_reconciliation/C11a/prod/20240419_103500.20240419_113000/flatten_account.after/bid_ask' doesn't exist!\n",
      "WARNING Path '/shared_data/CmTask7895/system_reconciliation/C11a/prod/20240419_103500.20240419_113000/flatten_account.after/exchange_markets' doesn't exist!\n",
      "WARNING Path '/shared_data/CmTask7895/system_reconciliation/C11a/prod/20240419_103500.20240419_113000/flatten_account.after/leverage_info' doesn't exist!\n",
      "WARNING Path '/shared_data/CmTask7895/system_reconciliation/C11a/prod/20240419_103500.20240419_113000/flatten_account.after/positions' doesn't exist!\n",
      "WARNING Path '/shared_data/CmTask7895/system_reconciliation/C11a/prod/20240419_103500.20240419_113000/flatten_account.after/reduce_only/ccxt_child_order_responses' doesn't exist!\n",
      "WARNING Path '/shared_data/CmTask7895/system_reconciliation/C11a/prod/20240419_103500.20240419_113000/flatten_account.after/reduce_only/oms_child_orders' doesn't exist!\n"
     ]
    }
   ],
   "source": [
    "# Init the log reader.\n",
    "log_dir = os.path.join(config[\"timestamp_dir\"], \"flatten_account.after\")\n",
    "ccxt_log_reader = obcccclo.CcxtLogger(log_dir)"
   ]
  },
  {
   "cell_type": "code",
   "execution_count": 10,
   "id": "dd74b659",
   "metadata": {
    "ExecuteTime": {
     "end_time": "2024-05-10T10:52:02.657496Z",
     "start_time": "2024-05-10T10:52:02.525422Z"
    }
   },
   "outputs": [
    {
     "data": {
      "application/vnd.jupyter.widget-view+json": {
       "model_id": "0d4914f6e670457fb63783e360feb6ee",
       "version_major": 2,
       "version_minor": 0
      },
      "text/plain": [
       "Loading '/shared_data/CmTask7895/system_reconciliation/C11a/prod/20240419_103500.20240419_113000/flatten_accou…"
      ]
     },
     "metadata": {},
     "output_type": "display_data"
    },
    {
     "data": {
      "text/html": [
       "<div>\n",
       "<style scoped>\n",
       "    .dataframe tbody tr th:only-of-type {\n",
       "        vertical-align: middle;\n",
       "    }\n",
       "\n",
       "    .dataframe tbody tr th {\n",
       "        vertical-align: top;\n",
       "    }\n",
       "\n",
       "    .dataframe thead th {\n",
       "        text-align: right;\n",
       "    }\n",
       "</style>\n",
       "<table border=\"1\" class=\"dataframe\">\n",
       "  <thead>\n",
       "    <tr style=\"text-align: right;\">\n",
       "      <th></th>\n",
       "      <th>asset</th>\n",
       "      <th>walletBalance</th>\n",
       "    </tr>\n",
       "  </thead>\n",
       "  <tbody>\n",
       "    <tr>\n",
       "      <th>0</th>\n",
       "      <td>FDUSD</td>\n",
       "      <td>0.00000000</td>\n",
       "    </tr>\n",
       "    <tr>\n",
       "      <th>1</th>\n",
       "      <td>BTC</td>\n",
       "      <td>0.00000000</td>\n",
       "    </tr>\n",
       "    <tr>\n",
       "      <th>2</th>\n",
       "      <td>XRP</td>\n",
       "      <td>0.00000000</td>\n",
       "    </tr>\n",
       "    <tr>\n",
       "      <th>3</th>\n",
       "      <td>TUSD</td>\n",
       "      <td>0.00000000</td>\n",
       "    </tr>\n",
       "    <tr>\n",
       "      <th>4</th>\n",
       "      <td>BNB</td>\n",
       "      <td>0.00000000</td>\n",
       "    </tr>\n",
       "    <tr>\n",
       "      <th>5</th>\n",
       "      <td>ETH</td>\n",
       "      <td>0.00000000</td>\n",
       "    </tr>\n",
       "    <tr>\n",
       "      <th>6</th>\n",
       "      <td>USDT</td>\n",
       "      <td>8595.65037912</td>\n",
       "    </tr>\n",
       "    <tr>\n",
       "      <th>7</th>\n",
       "      <td>USDC</td>\n",
       "      <td>0.00000000</td>\n",
       "    </tr>\n",
       "  </tbody>\n",
       "</table>\n",
       "</div>"
      ],
      "text/plain": [
       "   asset  walletBalance\n",
       "0  FDUSD     0.00000000\n",
       "1    BTC     0.00000000\n",
       "2    XRP     0.00000000\n",
       "3   TUSD     0.00000000\n",
       "4    BNB     0.00000000\n",
       "5    ETH     0.00000000\n",
       "6   USDT  8595.65037912\n",
       "7   USDC     0.00000000"
      ]
     },
     "metadata": {},
     "output_type": "display_data"
    }
   ],
   "source": [
    "balances_df = get_balances(ccxt_log_reader)\n",
    "display(balances_df)"
   ]
  },
  {
   "cell_type": "code",
   "execution_count": null,
   "id": "7c2ec68e",
   "metadata": {},
   "outputs": [],
   "source": []
  }
 ],
 "metadata": {
  "kernelspec": {
   "display_name": "Python 3 (ipykernel)",
   "language": "python",
   "name": "python3"
  },
  "language_info": {
   "codemirror_mode": {
    "name": "ipython",
    "version": 3
   },
   "file_extension": ".py",
   "mimetype": "text/x-python",
   "name": "python",
   "nbconvert_exporter": "python",
   "pygments_lexer": "ipython3",
   "version": "3.9.5"
  },
  "toc": {
   "base_numbering": 1,
   "nav_menu": {},
   "number_sections": true,
   "sideBar": true,
   "skip_h1_title": false,
   "title_cell": "Table of Contents",
   "title_sidebar": "Contents",
   "toc_cell": false,
   "toc_position": {},
   "toc_section_display": true,
   "toc_window_display": false
  }
 },
 "nbformat": 4,
 "nbformat_minor": 5
}
