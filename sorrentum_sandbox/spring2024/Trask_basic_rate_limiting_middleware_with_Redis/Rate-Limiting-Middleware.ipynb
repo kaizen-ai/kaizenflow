{
 "cells": [
  {
   "cell_type": "code",
   "execution_count": 8,
   "id": "75ea9d8a-3bf1-464d-87af-8b2ced13312b",
   "metadata": {},
   "outputs": [],
   "source": [
    "import redis\n",
    "from datetime import timedelta\n",
    "#ss -nltp to check localhost ports\n",
    "r = redis.Redis(host='localhost', port=6379, db=0)"
   ]
  },
  {
   "cell_type": "code",
   "execution_count": 19,
   "id": "6f1ff7b8-0b70-4132-aa8a-dc75ab884c0f",
   "metadata": {},
   "outputs": [
    {
     "name": "stdout",
     "output_type": "stream",
     "text": [
      "✅ Request is allowed\n",
      "✅ Request is allowed\n",
      "✅ Request is allowed\n",
      "✅ Request is allowed\n",
      "✅ Request is allowed\n",
      "✅ Request is allowed\n",
      "✅ Request is allowed\n",
      "✅ Request is allowed\n",
      "✅ Request is allowed\n",
      "✅ Request is allowed\n"
     ]
    }
   ],
   "source": [
    "# Leaky bucket rate limiting algorithm: https://dev.to/astagi/rate-limiting-using-python-and-redis-58gk\n",
    "def request_is_limited(r: redis.Redis, key: str, limit: int, period: timedelta):\n",
    "    period_in_seconds = int(period.total_seconds())\n",
    "    t = r.time()[0]\n",
    "    separation = round(period_in_seconds / limit)\n",
    "    r.setnx(key, 0)\n",
    "    tat = max(int(r.get(key)), t)\n",
    "    if tat - t <= period_in_seconds - separation:\n",
    "        new_tat = max(tat, t) + separation\n",
    "        r.set(key, new_tat)\n",
    "        return False\n",
    "    return True\n",
    "\n",
    "r = redis.Redis(host='127.0.0.1', port=6379, db=0)\n",
    "requests = 10\n",
    "\n",
    "for i in range(requests):\n",
    "    if request_is_limited(r, 'admin', 10, timedelta(minutes=1)):\n",
    "        print ('🛑 Request is limited')\n",
    "    else:\n",
    "        print ('✅ Request is allowed')"
   ]
  },
  {
   "cell_type": "code",
   "execution_count": null,
   "id": "9f616dd0-a53d-4fd4-97fa-55dd0619f849",
   "metadata": {},
   "outputs": [],
   "source": []
  }
 ],
 "metadata": {
  "kernelspec": {
   "display_name": "Python 3 (ipykernel)",
   "language": "python",
   "name": "python3"
  },
  "language_info": {
   "codemirror_mode": {
    "name": "ipython",
    "version": 3
   },
   "file_extension": ".py",
   "mimetype": "text/x-python",
   "name": "python",
   "nbconvert_exporter": "python",
   "pygments_lexer": "ipython3",
   "version": "3.10.12"
  }
 },
 "nbformat": 4,
 "nbformat_minor": 5
}
