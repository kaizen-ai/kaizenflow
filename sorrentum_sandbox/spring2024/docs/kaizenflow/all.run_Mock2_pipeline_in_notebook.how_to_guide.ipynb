{
 "cells": [
  {
   "cell_type": "markdown",
   "id": "762840b6",
   "metadata": {},
   "source": [
    "# Description"
   ]
  },
  {
   "cell_type": "markdown",
   "id": "94724370",
   "metadata": {},
   "source": [
    "Adapted from docs/dataflow/ck.run_batch_computation_dag.tutorial.ipynb\n",
    "\n",
    "Build and run Mock2"
   ]
  },
  {
   "cell_type": "markdown",
   "id": "07486223",
   "metadata": {},
   "source": [
    "# Imports"
   ]
  },
  {
   "cell_type": "code",
   "execution_count": null,
   "id": "1c31c460",
   "metadata": {},
   "outputs": [],
   "source": [
    "import logging\n",
    "\n",
    "import dataflow.core as dtfcore\n",
    "import dataflow.system as dtfsys\n",
    "import helpers.hdbg as hdbg\n",
    "import helpers.hprint as hprint"
   ]
  },
  {
   "cell_type": "code",
   "execution_count": null,
   "id": "2a1bd9ae",
   "metadata": {},
   "outputs": [],
   "source": [
    "hdbg.init_logger(verbosity=logging.INFO)\n",
    "\n",
    "_LOG = logging.getLogger(__name__)\n",
    "\n",
    "hprint.config_notebook()"
   ]
  },
  {
   "cell_type": "markdown",
   "id": "239d12df",
   "metadata": {},
   "source": [
    "# Build DAG"
   ]
  },
  {
   "cell_type": "markdown",
   "id": "c145a70a",
   "metadata": {},
   "source": [
    "Build a `DagBuilder` object that defines a model's configuration\n",
    "- `get_config_template()`: creates a configuration for each DAG Node\n",
    "- `_get_dag()`: specifies all the DAG Nodes and builds a DAG using these Nodes"
   ]
  },
  {
   "cell_type": "code",
   "execution_count": null,
   "id": "91f7f031",
   "metadata": {},
   "outputs": [],
   "source": [
    "import dataflow_amp.pipelines.mock2.mock2_pipeline as dapmmopi\n",
    "\n",
    "dag_builder = dapmmopi.Mock2_DagBuilder()\n",
    "dag_config = dag_builder.get_config_template()\n",
    "print(dag_config)"
   ]
  },
  {
   "cell_type": "code",
   "execution_count": null,
   "id": "c5504ef4",
   "metadata": {},
   "outputs": [],
   "source": [
    "# Plot the model.\n",
    "dag = dag_builder.get_dag(dag_config)\n",
    "dtfcore.draw(dag)"
   ]
  },
  {
   "cell_type": "markdown",
   "id": "ffcc77dd",
   "metadata": {},
   "source": [
    "# Add a node with data"
   ]
  },
  {
   "cell_type": "markdown",
   "id": "32d4c8cc",
   "metadata": {},
   "source": [
    "## Build im_client"
   ]
  },
  {
   "cell_type": "code",
   "execution_count": null,
   "id": "9bad448e",
   "metadata": {},
   "outputs": [],
   "source": [
    "import im_v2.common.data.client.historical_pq_clients as imvcdchpcl\n",
    "\n",
    "root_dir = \"s3://cryptokaizen-data-test/v3/bulk\"\n",
    "\n",
    "im_client_config_dict = {\n",
    "    \"vendor\": \"bloomberg\",\n",
    "    \"universe_version\": \"v1\",\n",
    "    \"root_dir\": root_dir,\n",
    "    \"partition_mode\": \"by_year_month\",\n",
    "    \"dataset\": \"ohlcv\",\n",
    "    \"contract_type\": \"spot\",\n",
    "    \"data_snapshot\": \"\",\n",
    "    \"download_mode\": \"manual\",\n",
    "    \"downloading_entity\": \"\",\n",
    "    \"aws_profile\": \"ck\",\n",
    "    \"resample_1min\": False,\n",
    "    \"version\": \"v1_0_0\",\n",
    "    \"download_universe_version\": \"v1\",\n",
    "    \"tag\": \"resampled_1min\",\n",
    "}\n",
    "\n",
    "im_client = imvcdchpcl.HistoricalPqByCurrencyPairTileClient(\n",
    "    **im_client_config_dict\n",
    ")"
   ]
  },
  {
   "cell_type": "code",
   "execution_count": null,
   "id": "299c598c",
   "metadata": {},
   "outputs": [],
   "source": [
    "# Show how to read the raw data through the `ImClient`.\n",
    "full_symbols = [\"us_market::MSFT\"]\n",
    "start_ts = end_ts = None\n",
    "columns = None\n",
    "filter_data_mode = \"assert\"\n",
    "datapull_data = im_client.read_data(\n",
    "    full_symbols, start_ts, end_ts, columns, filter_data_mode\n",
    ")\n",
    "display(datapull_data)"
   ]
  },
  {
   "cell_type": "markdown",
   "id": "e955fcaa",
   "metadata": {},
   "source": [
    "## Read universe"
   ]
  },
  {
   "cell_type": "code",
   "execution_count": null,
   "id": "c786d21b",
   "metadata": {},
   "outputs": [],
   "source": [
    "import dataflow.universe as dtfuniver\n",
    "\n",
    "universe_str = \"bloomberg_v1-top1\"\n",
    "full_symbols = dtfuniver.get_universe(universe_str)\n",
    "asset_ids = im_client.get_asset_ids_from_full_symbols(full_symbols)\n",
    "\n",
    "print(asset_ids)"
   ]
  },
  {
   "cell_type": "markdown",
   "id": "5dbcf2b8",
   "metadata": {},
   "source": [
    "## Build market_data"
   ]
  },
  {
   "cell_type": "code",
   "execution_count": null,
   "id": "3210d835",
   "metadata": {},
   "outputs": [],
   "source": [
    "import market_data as mdata\n",
    "\n",
    "columns = None\n",
    "columns_remap = None\n",
    "market_data = mdata.get_HistoricalImClientMarketData_example1(\n",
    "    im_client, asset_ids, columns, columns_remap\n",
    ")"
   ]
  },
  {
   "cell_type": "code",
   "execution_count": null,
   "id": "8acb5c6e",
   "metadata": {},
   "outputs": [],
   "source": [
    "# Print data in market data format.\n",
    "timestamp_column_name = \"end_ts\"\n",
    "tmp_data = market_data.get_data_for_interval(\n",
    "    start_ts, end_ts, timestamp_column_name, asset_ids\n",
    ")\n",
    "display(tmp_data)"
   ]
  },
  {
   "cell_type": "markdown",
   "id": "5162dfa5",
   "metadata": {},
   "source": [
    "## Build a HistoricalDataSource"
   ]
  },
  {
   "cell_type": "code",
   "execution_count": null,
   "id": "57ee25d6",
   "metadata": {},
   "outputs": [],
   "source": [
    "stage = \"read_data\"\n",
    "multiindex_output = True\n",
    "col_names_to_remove = [\"start_ts\"]\n",
    "timestamp_column_name = \"end_ts\"\n",
    "node = dtfsys.HistoricalDataSource(\n",
    "    stage,\n",
    "    market_data,\n",
    "    timestamp_column_name,\n",
    "    multiindex_output,\n",
    "    col_names_to_remove=col_names_to_remove,\n",
    ")"
   ]
  },
  {
   "cell_type": "code",
   "execution_count": null,
   "id": "56c8b873",
   "metadata": {},
   "outputs": [],
   "source": [
    "# Data in dataflow format.\n",
    "node.fit()[\"df_out\"]"
   ]
  },
  {
   "cell_type": "code",
   "execution_count": null,
   "id": "79b96d82",
   "metadata": {},
   "outputs": [],
   "source": [
    "dag.insert_at_head(node)\n",
    "dtfcore.draw(dag)"
   ]
  },
  {
   "cell_type": "code",
   "execution_count": null,
   "id": "9644153e",
   "metadata": {},
   "outputs": [],
   "source": [
    "# Run the DAG.\n",
    "dag_runner = dtfcore.FitPredictDagRunner(dag)\n",
    "dag_runner.set_fit_intervals(\n",
    "    [\n",
    "        (\n",
    "            tmp_data.index.min(),\n",
    "            tmp_data.index.max(),\n",
    "        )\n",
    "    ],\n",
    ")\n",
    "fit_result_bundle = dag_runner.fit()\n",
    "#\n",
    "result_df = fit_result_bundle.result_df\n",
    "result_df.head()"
   ]
  },
  {
   "cell_type": "code",
   "execution_count": null,
   "id": "80dcc5b0",
   "metadata": {},
   "outputs": [],
   "source": [
    "result_df.dropna()"
   ]
  }
 ],
 "metadata": {
  "kernelspec": {
   "display_name": "Python 3 (ipykernel)",
   "language": "python",
   "name": "python3"
  }
 },
 "nbformat": 4,
 "nbformat_minor": 5
}
