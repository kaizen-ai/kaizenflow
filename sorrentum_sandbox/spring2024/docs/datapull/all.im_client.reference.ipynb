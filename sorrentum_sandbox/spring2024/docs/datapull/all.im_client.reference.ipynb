{
 "cells": [
  {
   "cell_type": "markdown",
   "id": "15e7a2ca",
   "metadata": {},
   "source": [
    "# Descriptions"
   ]
  },
  {
   "cell_type": "markdown",
   "id": "4726aedf",
   "metadata": {},
   "source": [
    "The notebook demonstrates how to use `ImClient`."
   ]
  },
  {
   "cell_type": "code",
   "execution_count": null,
   "id": "52f88528",
   "metadata": {},
   "outputs": [],
   "source": [
    "%load_ext autoreload\n",
    "%autoreload 2\n",
    "%matplotlib inline"
   ]
  },
  {
   "cell_type": "markdown",
   "id": "c9d4577e",
   "metadata": {},
   "source": [
    "# Imports"
   ]
  },
  {
   "cell_type": "code",
   "execution_count": null,
   "id": "c71d7cca",
   "metadata": {},
   "outputs": [],
   "source": [
    "import logging\n",
    "\n",
    "import pandas as pd\n",
    "\n",
    "import core.config as cconfig\n",
    "import core.finance as cofinanc\n",
    "import helpers.hdbg as hdbg\n",
    "import helpers.henv as henv\n",
    "import helpers.hprint as hprint\n",
    "import im_v2.ccxt.data.client as icdcl\n",
    "import im_v2.common.data.client as icdc\n",
    "import im_v2.common.db.db_utils as imvcddbut\n",
    "import im_v2.common.universe as ivcu"
   ]
  },
  {
   "cell_type": "code",
   "execution_count": null,
   "id": "9634b705",
   "metadata": {},
   "outputs": [],
   "source": [
    "log_level = logging.INFO\n",
    "hdbg.init_logger(verbosity=log_level)\n",
    "\n",
    "_LOG = logging.getLogger(__name__)\n",
    "\n",
    "_LOG.info(\"%s\", henv.get_system_signature()[0])\n",
    "\n",
    "hprint.config_notebook()"
   ]
  },
  {
   "cell_type": "markdown",
   "id": "c9aa596c",
   "metadata": {},
   "source": [
    "# Config"
   ]
  },
  {
   "cell_type": "code",
   "execution_count": null,
   "id": "dbf91c6a",
   "metadata": {},
   "outputs": [],
   "source": [
    "config = {\n",
    "    \"universe\": {\n",
    "        \"vendor\": \"CCXT\",\n",
    "        \"mode\": \"trade\",\n",
    "        \"version\": \"v7.4\",\n",
    "        \"as_full_symbol\": True,\n",
    "    },\n",
    "    \"start_timestamp\": pd.Timestamp(\"2023-09-11T00:00:00\", tz=\"UTC\"),\n",
    "    \"end_timestamp\": pd.Timestamp(\"2023-09-11T04:00:00\", tz=\"UTC\"),\n",
    "    \"columns\": None,\n",
    "    \"filter_data_mode\": \"assert\",\n",
    "    \"ohlcv_parquet_config\": {\n",
    "        \"vendor\": \"ccxt\",\n",
    "        \"universe_version\": \"v7.4\",\n",
    "        \"root_dir\": \"s3://cryptokaizen-data/v3\",\n",
    "        \"partition_mode\": \"by_year_month\",\n",
    "        \"dataset\": \"ohlcv\",\n",
    "        \"contract_type\": \"futures\",\n",
    "        \"data_snapshot\": \"\",\n",
    "        \"aws_profile\": \"ck\",\n",
    "        \"resample_1min\": False,\n",
    "        \"version\": \"v1_0_0\",\n",
    "        \"download_universe_version\": \"v7_3\",\n",
    "        \"tag\": \"downloaded_1min\",\n",
    "    },\n",
    "    \"bid_ask_parquet_config\": {\n",
    "        \"vendor\": \"ccxt\",\n",
    "        \"universe_version\": \"v7.4\",\n",
    "        \"root_dir\": \"s3://cryptokaizen-data-test/v3\",\n",
    "        \"partition_mode\": \"by_year_month\",\n",
    "        \"dataset\": \"bid_ask\",\n",
    "        \"contract_type\": \"futures\",\n",
    "        \"data_snapshot\": \"\",\n",
    "        \"version\": \"v1_0_0\",\n",
    "        \"download_universe_version\": \"v7\",\n",
    "        \"tag\": \"resampled_1min\",\n",
    "        \"aws_profile\": \"ck\",\n",
    "    },\n",
    "    \"ohlcv_db_config\": {\n",
    "        \"universe_version\": \"infer_from_data\",\n",
    "        \"db_connection\": imvcddbut.DbConnectionManager.get_connection(\"preprod\"),\n",
    "        \"table_name\": \"ccxt_ohlcv_futures\",\n",
    "        \"resample_1min\": False,\n",
    "    },\n",
    "}\n",
    "config = cconfig.Config().from_dict(config)\n",
    "print(config)"
   ]
  },
  {
   "cell_type": "markdown",
   "id": "2559e5ec",
   "metadata": {},
   "source": [
    "# CCXT Binance 1-minute futures data"
   ]
  },
  {
   "cell_type": "code",
   "execution_count": null,
   "id": "94b6aa05",
   "metadata": {},
   "outputs": [],
   "source": [
    "full_symbols = ivcu.get_vendor_universe(**config[\"universe\"])\n",
    "_LOG.info(\"Full symbols number=%s\", len(full_symbols))\n",
    "full_symbols[:5]"
   ]
  },
  {
   "cell_type": "markdown",
   "id": "b69a7aff",
   "metadata": {},
   "source": [
    "## OHLCV Parquet"
   ]
  },
  {
   "cell_type": "code",
   "execution_count": null,
   "id": "60c4ff2b",
   "metadata": {},
   "outputs": [],
   "source": [
    "ohlcv_im_client = icdc.HistoricalPqByCurrencyPairTileClient(\n",
    "    **config[\"ohlcv_parquet_config\"]\n",
    ")"
   ]
  },
  {
   "cell_type": "code",
   "execution_count": null,
   "id": "f0860176",
   "metadata": {},
   "outputs": [],
   "source": [
    "ohlcv_data = ohlcv_im_client.read_data(\n",
    "    full_symbols,\n",
    "    config[\"start_timestamp\"],\n",
    "    config[\"end_timestamp\"],\n",
    "    config[\"columns\"],\n",
    "    config[\"filter_data_mode\"],\n",
    ")\n",
    "ohlcv_data.head()"
   ]
  },
  {
   "cell_type": "markdown",
   "id": "de0933ba",
   "metadata": {},
   "source": [
    "## Bid/ask Parquet"
   ]
  },
  {
   "cell_type": "code",
   "execution_count": null,
   "id": "bb5d5b9b",
   "metadata": {},
   "outputs": [],
   "source": [
    "bid_ask_im_client = icdc.HistoricalPqByCurrencyPairTileClient(\n",
    "    **config[\"bid_ask_parquet_config\"]\n",
    ")"
   ]
  },
  {
   "cell_type": "code",
   "execution_count": null,
   "id": "202bdb97",
   "metadata": {},
   "outputs": [],
   "source": [
    "bid_ask_data = bid_ask_im_client.read_data(\n",
    "    full_symbols,\n",
    "    config[\"start_timestamp\"],\n",
    "    config[\"end_timestamp\"],\n",
    "    config[\"columns\"],\n",
    "    config[\"filter_data_mode\"],\n",
    ")\n",
    "bid_ask_data.head()"
   ]
  },
  {
   "cell_type": "markdown",
   "id": "c0863e81",
   "metadata": {},
   "source": [
    "## OHLCV Database"
   ]
  },
  {
   "cell_type": "code",
   "execution_count": null,
   "id": "8ab822a1",
   "metadata": {},
   "outputs": [],
   "source": [
    "ohlcv_db_im_client = icdcl.CcxtSqlRealTimeImClient(**config[\"ohlcv_db_config\"])"
   ]
  },
  {
   "cell_type": "code",
   "execution_count": null,
   "id": "c384c375",
   "metadata": {},
   "outputs": [],
   "source": [
    "ohlcv_db_data = ohlcv_db_im_client.read_data(\n",
    "    full_symbols,\n",
    "    config[\"start_timestamp\"],\n",
    "    config[\"end_timestamp\"],\n",
    "    config[\"columns\"],\n",
    "    config[\"filter_data_mode\"],\n",
    ")\n",
    "ohlcv_db_data.head()"
   ]
  },
  {
   "cell_type": "markdown",
   "id": "4a8f7df0",
   "metadata": {},
   "source": [
    "# Mock `ImClient`"
   ]
  },
  {
   "cell_type": "code",
   "execution_count": null,
   "id": "39116b16",
   "metadata": {},
   "outputs": [],
   "source": [
    "df = cofinanc.get_MarketData_df6(full_symbols)\n",
    "df.head()"
   ]
  },
  {
   "cell_type": "code",
   "execution_count": null,
   "id": "df7afa97",
   "metadata": {},
   "outputs": [],
   "source": [
    "dataframe_im_client = icdc.DataFrameImClient(\n",
    "    df,\n",
    "    full_symbols,\n",
    ")"
   ]
  },
  {
   "cell_type": "code",
   "execution_count": null,
   "id": "911ee9ab",
   "metadata": {},
   "outputs": [],
   "source": [
    "start_timestamp = pd.Timestamp(\"2000-01-01 09:35:00-05:00\")\n",
    "end_timestamp = pd.Timestamp(\"2000-01-01 10:31:00-05:00\")\n",
    "#\n",
    "ohlcv_from_df_data = dataframe_im_client.read_data(\n",
    "    full_symbols,\n",
    "    start_timestamp,\n",
    "    end_timestamp,\n",
    "    config[\"columns\"],\n",
    "    config[\"filter_data_mode\"],\n",
    ")\n",
    "ohlcv_from_df_data.head()"
   ]
  },
  {
   "cell_type": "code",
   "execution_count": null,
   "id": "73901076",
   "metadata": {},
   "outputs": [],
   "source": []
  }
 ],
 "metadata": {
  "kernelspec": {
   "display_name": "Python 3 (ipykernel)",
   "language": "python",
   "name": "python3"
  }
 },
 "nbformat": 4,
 "nbformat_minor": 5
}
