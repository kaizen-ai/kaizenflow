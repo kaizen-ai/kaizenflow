{
 "cells": [
  {
   "cell_type": "code",
   "execution_count": 1,
   "id": "53cc3419-02a1-4a8a-814b-f989c386454a",
   "metadata": {},
   "outputs": [],
   "source": [
    "from neo4j import GraphDatabase\n",
    "\n",
    "URI_container = \"neo4j://neo4j:7687\"\n",
    "URI_local = \"bolt://localhost:7687\"\n",
    "URI = URI_container"
   ]
  },
  {
   "cell_type": "code",
   "execution_count": null,
   "id": "4529275a-1858-4045-b34b-07f3c94df06c",
   "metadata": {},
   "outputs": [],
   "source": [
    "with GraphDatabase.driver(URI) as driver:\n",
    "    result = driver.execute_query(\"\"\"\n",
    "    match (n:Person)-[r:USED]-(c:CreditCard), (c)-[s:SENT]-(t:Transaction), (t)-[]-(m:Merchant)\n",
    "    where t.amt > 200\n",
    "    return t\n",
    "    \"\"\")\n",
    "    frequent_high_transactions = driver.execute_query(\"\"\"\n",
    "    match (c:CreditCard)-[s:SENT]-(t1:Transaction), (c)-[:SENT]-(t2:Transaction)\n",
    "    where t1.amt > 200 and t2.amt > 200 and t2.trans_date - duration('P7D')<= t1.trans_date <= t2.trans_date + duration('P7D')\n",
    "    return t1, t2\n",
    "    order by t1.trans_date\n",
    "    \"\"\")\n",
    "    duplicate_transaction_different_cards = drive.execute_query(\"\"\"\n",
    "    match (c2:CreditCard)-[:SENT]-(t:Transaction)-[:SENT]-(c1:CreditCard)\n",
    "    where c1.cc_num <> c2.cc_num\n",
    "    return t,c1,c2\n",
    "    \"\"\")\n",
    "    frequent_transactions_grocery_pos= drive.execute_query(\"\"\"\n",
    "    match (m:Merchant {category:\"grocery_pos\"})-[:RECEIVED]-(t1:Transaction)-[:SENT]-(c:CreditCard), (c)-[:SENT]-(t2:Transaction)\n",
    "    where t1.trans_date - duration('P7D') <= t2.trans_date <= t1.trans_date + duration('P7D') and t1.amt > 50 and t2.amt > 50\n",
    "    return m,t1,t2, c\n",
    "    \"\"\")\n",
    "    frequent_transactions_online_shopping= drive.execute_query(\"\"\"\n",
    "    match (m:Merchant {category:\"shopping_net\"})-[:RECEIVED]-(t1:Transaction)-[:SENT]-(c:CreditCard), (c)-[:SENT]-(t2:Transaction)\n",
    "    where t1.trans_date - duration('P7D') <= t2.trans_date <= t1.trans_date + duration('P7D') and t1.amt > 50 and t2.amt > 50\n",
    "    return m,t1,t2, c\n",
    "    \"\"\")\n",
    "    transaction_distance = drive.execute_query(\"\"\"\n",
    "    match (p:Person)-[:RESIDES_IN]-(l:Location),(p)-[:USED]-(c:CreditCard),(c)-[:SENT]-(t:Transaction),(t)-[:RECEIVED]-(m:Merchant)\n",
    "    where m.category =~ '.*(?<!net)$'\n",
    "    with\n",
    "        point({longitude:l.long, latitude: l.lat, crs: 'WGS-84'}) AS personLoc,\n",
    "        point({longitude: m.merch_long, latitude: m.merch_lat, crs: 'WGS-84'}) AS merchLoc,\n",
    "        t.trans_num AS transaction_num,\n",
    "        m.category AS category\n",
    "    RETURN transaction_num, category, round(point.distance(personLoc, merchLoc)/1000) AS transactionDistance\n",
    "    ORDER BY transactionDistance DESC\n",
    "    limit 1000\n",
    "    \"\"\")\n",
    "    "
   ]
  }
 ],
 "metadata": {
  "kernelspec": {
   "display_name": "Python 3 (ipykernel)",
   "language": "python",
   "name": "python3"
  },
  "language_info": {
   "codemirror_mode": {
    "name": "ipython",
    "version": 3
   },
   "file_extension": ".py",
   "mimetype": "text/x-python",
   "name": "python",
   "nbconvert_exporter": "python",
   "pygments_lexer": "ipython3",
   "version": "3.10.12"
  }
 },
 "nbformat": 4,
 "nbformat_minor": 5
}
