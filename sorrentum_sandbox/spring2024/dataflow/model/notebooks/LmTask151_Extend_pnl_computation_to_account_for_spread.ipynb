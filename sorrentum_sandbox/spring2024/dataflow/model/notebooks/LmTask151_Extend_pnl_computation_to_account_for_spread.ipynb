{
 "cells": [
  {
   "cell_type": "code",
   "execution_count": 1,
   "id": "bc7f29a1",
   "metadata": {
    "ExecuteTime": {
     "end_time": "2021-09-13T15:47:09.126468Z",
     "start_time": "2021-09-13T15:47:08.316163Z"
    }
   },
   "outputs": [
    {
     "name": "stdout",
     "output_type": "stream",
     "text": [
      "\u001b[33mWARNING\u001b[0m: Disabling annoying warnings\n",
      "\u001b[0m\u001b[36mINFO\u001b[0m: > cmd='/venv/lib/python3.8/site-packages/ipykernel_launcher.py -f /root/.local/share/jupyter/runtime/kernel-b3588eaa-207d-4cc0-a3ce-351e8ada76f1.json'\n",
      "\u001b[33mWARNING\u001b[0m: Running in Jupyter\n"
     ]
    }
   ],
   "source": [
    "%load_ext autoreload\n",
    "%autoreload 2\n",
    "\n",
    "import logging\n",
    "\n",
    "import helpers.hdbg as hdbg\n",
    "import helpers.hprint as hprint\n",
    "\n",
    "hprint.config_notebook()\n",
    "\n",
    "# hdbg.init_logger(verbosity=logging.DEBUG)\n",
    "hdbg.init_logger(verbosity=logging.INFO)\n",
    "# hdbg.test_logger()\n",
    "_LOG = logging.getLogger(__name__)"
   ]
  },
  {
   "cell_type": "markdown",
   "id": "912622ca",
   "metadata": {},
   "source": [
    "# Generate random data"
   ]
  },
  {
   "cell_type": "code",
   "execution_count": 2,
   "id": "e7f2a496",
   "metadata": {
    "ExecuteTime": {
     "end_time": "2021-09-13T15:47:09.178668Z",
     "start_time": "2021-09-13T15:47:09.128023Z"
    }
   },
   "outputs": [
    {
     "data": {
      "text/html": [
       "<div>\n",
       "<style scoped>\n",
       "    .dataframe tbody tr th:only-of-type {\n",
       "        vertical-align: middle;\n",
       "    }\n",
       "\n",
       "    .dataframe tbody tr th {\n",
       "        vertical-align: top;\n",
       "    }\n",
       "\n",
       "    .dataframe thead th {\n",
       "        text-align: right;\n",
       "    }\n",
       "</style>\n",
       "<table border=\"1\" class=\"dataframe\">\n",
       "  <thead>\n",
       "    <tr style=\"text-align: right;\">\n",
       "      <th></th>\n",
       "      <th>price</th>\n",
       "      <th>ask</th>\n",
       "      <th>bid</th>\n",
       "    </tr>\n",
       "  </thead>\n",
       "  <tbody>\n",
       "    <tr>\n",
       "      <th>2021-09-12 09:30:00</th>\n",
       "      <td>100.496714</td>\n",
       "      <td>100.722490</td>\n",
       "      <td>100.381066</td>\n",
       "    </tr>\n",
       "    <tr>\n",
       "      <th>2021-09-12 09:31:00</th>\n",
       "      <td>100.358450</td>\n",
       "      <td>100.425978</td>\n",
       "      <td>100.057346</td>\n",
       "    </tr>\n",
       "    <tr>\n",
       "      <th>2021-09-12 09:32:00</th>\n",
       "      <td>101.006138</td>\n",
       "      <td>102.430887</td>\n",
       "      <td>99.527616</td>\n",
       "    </tr>\n",
       "  </tbody>\n",
       "</table>\n",
       "</div>"
      ],
      "text/plain": [
       "                          price         ask         bid\n",
       "2021-09-12 09:30:00  100.496714  100.722490  100.381066\n",
       "2021-09-12 09:31:00  100.358450  100.425978  100.057346\n",
       "2021-09-12 09:32:00  101.006138  102.430887   99.527616"
      ]
     },
     "metadata": {},
     "output_type": "display_data"
    },
    {
     "data": {
      "text/html": [
       "<div>\n",
       "<style scoped>\n",
       "    .dataframe tbody tr th:only-of-type {\n",
       "        vertical-align: middle;\n",
       "    }\n",
       "\n",
       "    .dataframe tbody tr th {\n",
       "        vertical-align: top;\n",
       "    }\n",
       "\n",
       "    .dataframe thead th {\n",
       "        text-align: right;\n",
       "    }\n",
       "</style>\n",
       "<table border=\"1\" class=\"dataframe\">\n",
       "  <thead>\n",
       "    <tr style=\"text-align: right;\">\n",
       "      <th></th>\n",
       "      <th>price</th>\n",
       "      <th>ask</th>\n",
       "      <th>bid</th>\n",
       "    </tr>\n",
       "  </thead>\n",
       "  <tbody>\n",
       "    <tr>\n",
       "      <th>2021-09-12 09:48:00</th>\n",
       "      <td>97.986332</td>\n",
       "      <td>98.183194</td>\n",
       "      <td>97.507158</td>\n",
       "    </tr>\n",
       "    <tr>\n",
       "      <th>2021-09-12 09:49:00</th>\n",
       "      <td>96.574029</td>\n",
       "      <td>97.312495</td>\n",
       "      <td>96.388370</td>\n",
       "    </tr>\n",
       "    <tr>\n",
       "      <th>2021-09-12 09:50:00</th>\n",
       "      <td>98.039678</td>\n",
       "      <td>98.211046</td>\n",
       "      <td>96.933343</td>\n",
       "    </tr>\n",
       "  </tbody>\n",
       "</table>\n",
       "</div>"
      ],
      "text/plain": [
       "                         price        ask        bid\n",
       "2021-09-12 09:48:00  97.986332  98.183194  97.507158\n",
       "2021-09-12 09:49:00  96.574029  97.312495  96.388370\n",
       "2021-09-12 09:50:00  98.039678  98.211046  96.933343"
      ]
     },
     "metadata": {},
     "output_type": "display_data"
    }
   ],
   "source": [
    "import numpy as np\n",
    "\n",
    "import oms.obsolete.pnl_simulator as oobpnsim\n",
    "\n",
    "df = oobpnsim.get_random_market_data(21)\n",
    "\n",
    "display(df.head(3))\n",
    "display(df.tail(3))"
   ]
  },
  {
   "cell_type": "markdown",
   "id": "24b7cac5",
   "metadata": {},
   "source": [
    "## Lag-based PnL vs Level1 simulation"
   ]
  },
  {
   "cell_type": "code",
   "execution_count": 3,
   "id": "a86263c4",
   "metadata": {
    "ExecuteTime": {
     "end_time": "2021-09-13T15:47:09.214798Z",
     "start_time": "2021-09-13T15:47:09.181439Z"
    }
   },
   "outputs": [
    {
     "data": {
      "text/html": [
       "<div>\n",
       "<style scoped>\n",
       "    .dataframe tbody tr th:only-of-type {\n",
       "        vertical-align: middle;\n",
       "    }\n",
       "\n",
       "    .dataframe tbody tr th {\n",
       "        vertical-align: top;\n",
       "    }\n",
       "\n",
       "    .dataframe thead th {\n",
       "        text-align: right;\n",
       "    }\n",
       "</style>\n",
       "<table border=\"1\" class=\"dataframe\">\n",
       "  <thead>\n",
       "    <tr style=\"text-align: right;\">\n",
       "      <th></th>\n",
       "      <th>price</th>\n",
       "      <th>ask</th>\n",
       "      <th>bid</th>\n",
       "      <th>ret_0</th>\n",
       "      <th>preds</th>\n",
       "    </tr>\n",
       "  </thead>\n",
       "  <tbody>\n",
       "    <tr>\n",
       "      <th>2021-09-12 09:30:00</th>\n",
       "      <td>100.496714</td>\n",
       "      <td>100.722490</td>\n",
       "      <td>100.381066</td>\n",
       "      <td>NaN</td>\n",
       "      <td>-1.0</td>\n",
       "    </tr>\n",
       "    <tr>\n",
       "      <th>2021-09-12 09:35:00</th>\n",
       "      <td>102.060878</td>\n",
       "      <td>103.211871</td>\n",
       "      <td>101.003756</td>\n",
       "      <td>0.015564</td>\n",
       "      <td>1.0</td>\n",
       "    </tr>\n",
       "    <tr>\n",
       "      <th>2021-09-12 09:40:00</th>\n",
       "      <td>104.017193</td>\n",
       "      <td>105.869472</td>\n",
       "      <td>103.340271</td>\n",
       "      <td>0.019168</td>\n",
       "      <td>1.0</td>\n",
       "    </tr>\n",
       "    <tr>\n",
       "      <th>2021-09-12 09:45:00</th>\n",
       "      <td>99.592940</td>\n",
       "      <td>99.801804</td>\n",
       "      <td>99.283728</td>\n",
       "      <td>-0.042534</td>\n",
       "      <td>0.0</td>\n",
       "    </tr>\n",
       "    <tr>\n",
       "      <th>2021-09-12 09:50:00</th>\n",
       "      <td>98.039678</td>\n",
       "      <td>98.211046</td>\n",
       "      <td>96.933343</td>\n",
       "      <td>-0.015596</td>\n",
       "      <td>0.0</td>\n",
       "    </tr>\n",
       "  </tbody>\n",
       "</table>\n",
       "</div>"
      ],
      "text/plain": [
       "                          price         ask         bid     ret_0  preds\n",
       "2021-09-12 09:30:00  100.496714  100.722490  100.381066       NaN   -1.0\n",
       "2021-09-12 09:35:00  102.060878  103.211871  101.003756  0.015564    1.0\n",
       "2021-09-12 09:40:00  104.017193  105.869472  103.340271  0.019168    1.0\n",
       "2021-09-12 09:45:00   99.592940   99.801804   99.283728 -0.042534    0.0\n",
       "2021-09-12 09:50:00   98.039678   98.211046   96.933343 -0.015596    0.0"
      ]
     },
     "metadata": {},
     "output_type": "display_data"
    }
   ],
   "source": [
    "mode = \"instantaneous\"\n",
    "df_5mins = oobpnsim.resample_data(df, mode)\n",
    "display(df_5mins)"
   ]
  },
  {
   "cell_type": "code",
   "execution_count": 4,
   "id": "9b3d1573",
   "metadata": {
    "ExecuteTime": {
     "end_time": "2021-09-13T15:47:09.494918Z",
     "start_time": "2021-09-13T15:47:09.217046Z"
    }
   },
   "outputs": [
    {
     "data": {
      "text/plain": [
       "<AxesSubplot:>"
      ]
     },
     "execution_count": 4,
     "metadata": {},
     "output_type": "execute_result"
    },
    {
     "data": {
      "image/png": "[encoded data removed]",
      "text/plain": [
       "<Figure size 1440x360 with 1 Axes>"
      ]
     },
     "metadata": {},
     "output_type": "display_data"
    }
   ],
   "source": [
    "df.plot()"
   ]
  },
  {
   "cell_type": "code",
   "execution_count": 5,
   "id": "61f808a0",
   "metadata": {
    "ExecuteTime": {
     "end_time": "2021-09-13T15:47:09.530415Z",
     "start_time": "2021-09-13T15:47:09.496934Z"
    }
   },
   "outputs": [
    {
     "data": {
      "text/html": [
       "<div>\n",
       "<style scoped>\n",
       "    .dataframe tbody tr th:only-of-type {\n",
       "        vertical-align: middle;\n",
       "    }\n",
       "\n",
       "    .dataframe tbody tr th {\n",
       "        vertical-align: top;\n",
       "    }\n",
       "\n",
       "    .dataframe thead th {\n",
       "        text-align: right;\n",
       "    }\n",
       "</style>\n",
       "<table border=\"1\" class=\"dataframe\">\n",
       "  <thead>\n",
       "    <tr style=\"text-align: right;\">\n",
       "      <th></th>\n",
       "      <th>price</th>\n",
       "      <th>preds</th>\n",
       "      <th>ret_0</th>\n",
       "    </tr>\n",
       "  </thead>\n",
       "  <tbody>\n",
       "    <tr>\n",
       "      <th>2021-09-12 09:30:00</th>\n",
       "      <td>100</td>\n",
       "      <td>1.0</td>\n",
       "      <td>NaN</td>\n",
       "    </tr>\n",
       "    <tr>\n",
       "      <th>2021-09-12 09:35:00</th>\n",
       "      <td>90</td>\n",
       "      <td>-1.0</td>\n",
       "      <td>-0.100000</td>\n",
       "    </tr>\n",
       "    <tr>\n",
       "      <th>2021-09-12 09:40:00</th>\n",
       "      <td>80</td>\n",
       "      <td>1.0</td>\n",
       "      <td>-0.111111</td>\n",
       "    </tr>\n",
       "    <tr>\n",
       "      <th>2021-09-12 09:45:00</th>\n",
       "      <td>90</td>\n",
       "      <td>0.0</td>\n",
       "      <td>0.125000</td>\n",
       "    </tr>\n",
       "    <tr>\n",
       "      <th>2021-09-12 09:50:00</th>\n",
       "      <td>70</td>\n",
       "      <td>0.0</td>\n",
       "      <td>-0.222222</td>\n",
       "    </tr>\n",
       "  </tbody>\n",
       "</table>\n",
       "</div>"
      ],
      "text/plain": [
       "                     price  preds     ret_0\n",
       "2021-09-12 09:30:00    100    1.0       NaN\n",
       "2021-09-12 09:35:00     90   -1.0 -0.100000\n",
       "2021-09-12 09:40:00     80    1.0 -0.111111\n",
       "2021-09-12 09:45:00     90    0.0  0.125000\n",
       "2021-09-12 09:50:00     70    0.0 -0.222222"
      ]
     },
     "metadata": {},
     "output_type": "display_data"
    }
   ],
   "source": [
    "df, df_5mins = oobpnsim.get_example_market_data1()\n",
    "\n",
    "display(df_5mins)"
   ]
  },
  {
   "cell_type": "code",
   "execution_count": 6,
   "id": "9cfaedf4",
   "metadata": {
    "ExecuteTime": {
     "end_time": "2021-09-13T15:47:09.559955Z",
     "start_time": "2021-09-13T15:47:09.532929Z"
    }
   },
   "outputs": [
    {
     "name": "stdout",
     "output_type": "stream",
     "text": [
      "60.49382716049382 -0.39506172839506176\n"
     ]
    }
   ],
   "source": [
    "# Compute pnl using simulation.\n",
    "w0 = 100.0\n",
    "final_w, tot_ret, df_5mins = oobpnsim.compute_pnl_level1(w0, df, df_5mins)\n",
    "\n",
    "print(final_w, tot_ret)"
   ]
  },
  {
   "cell_type": "code",
   "execution_count": 7,
   "id": "483a4396",
   "metadata": {
    "ExecuteTime": {
     "end_time": "2021-09-13T15:47:09.588543Z",
     "start_time": "2021-09-13T15:47:09.561949Z"
    }
   },
   "outputs": [
    {
     "name": "stdout",
     "output_type": "stream",
     "text": [
      "tot_ret= -0.39506172839506176\n",
      "tot_ret2= -0.3950617283950618\n"
     ]
    }
   ],
   "source": [
    "# Compute pnl using lags.\n",
    "# df_5mins[\"pnl\"] = df_5mins[\"preds\"] * df_5mins[\"ret_0\"].shift(-2)\n",
    "# tot_ret2 = (1 + df_5mins[\"pnl\"]).prod() - 1\n",
    "# display(df_5mins[:-1])\n",
    "\n",
    "tot_ret2, df_5mins = oobpnsim.compute_lag_pnl(df_5mins)\n",
    "\n",
    "# Check that the results are the same.\n",
    "print(\"tot_ret=\", tot_ret)\n",
    "print(\"tot_ret2=\", tot_ret2)\n",
    "np.testing.assert_almost_equal(tot_ret, tot_ret2)"
   ]
  },
  {
   "cell_type": "markdown",
   "id": "d977e20c",
   "metadata": {},
   "source": [
    "## Lag-based PnL vs Level1 vs Level2 simulation"
   ]
  },
  {
   "cell_type": "code",
   "execution_count": 8,
   "id": "caff6a10",
   "metadata": {
    "ExecuteTime": {
     "end_time": "2021-09-13T15:47:09.656700Z",
     "start_time": "2021-09-13T15:47:09.591721Z"
    },
    "scrolled": false
   },
   "outputs": [
    {
     "data": {
      "text/html": [
       "<div>\n",
       "<style scoped>\n",
       "    .dataframe tbody tr th:only-of-type {\n",
       "        vertical-align: middle;\n",
       "    }\n",
       "\n",
       "    .dataframe tbody tr th {\n",
       "        vertical-align: top;\n",
       "    }\n",
       "\n",
       "    .dataframe thead th {\n",
       "        text-align: right;\n",
       "    }\n",
       "</style>\n",
       "<table border=\"1\" class=\"dataframe\">\n",
       "  <thead>\n",
       "    <tr style=\"text-align: right;\">\n",
       "      <th></th>\n",
       "      <th>price</th>\n",
       "      <th>preds</th>\n",
       "      <th>ret_0</th>\n",
       "      <th>num_shares</th>\n",
       "      <th>diff</th>\n",
       "      <th>wealth</th>\n",
       "      <th>pnl.sim1</th>\n",
       "      <th>pnl.lag</th>\n",
       "      <th>target_n_shares</th>\n",
       "      <th>cash</th>\n",
       "      <th>holdings</th>\n",
       "      <th>diff_n_shares</th>\n",
       "      <th>filled_n_shares</th>\n",
       "      <th>cash+1</th>\n",
       "      <th>holdings+1</th>\n",
       "      <th>pnl.sim2</th>\n",
       "    </tr>\n",
       "  </thead>\n",
       "  <tbody>\n",
       "    <tr>\n",
       "      <th>2021-09-12 09:30:00</th>\n",
       "      <td>100</td>\n",
       "      <td>1.0</td>\n",
       "      <td>NaN</td>\n",
       "      <td>11.111111</td>\n",
       "      <td>-111.111111</td>\n",
       "      <td>1000.000000</td>\n",
       "      <td>-0.111111</td>\n",
       "      <td>-0.111111</td>\n",
       "      <td>11.111111</td>\n",
       "      <td>1.000000e+03</td>\n",
       "      <td>0.000000</td>\n",
       "      <td>11.111111</td>\n",
       "      <td>11.111111</td>\n",
       "      <td>0.000000e+00</td>\n",
       "      <td>11.111111</td>\n",
       "      <td>NaN</td>\n",
       "    </tr>\n",
       "    <tr>\n",
       "      <th>2021-09-12 09:35:00</th>\n",
       "      <td>90</td>\n",
       "      <td>-1.0</td>\n",
       "      <td>-0.100000</td>\n",
       "      <td>11.111111</td>\n",
       "      <td>-111.111111</td>\n",
       "      <td>1000.000000</td>\n",
       "      <td>-0.125000</td>\n",
       "      <td>-0.125000</td>\n",
       "      <td>-11.111111</td>\n",
       "      <td>0.000000e+00</td>\n",
       "      <td>11.111111</td>\n",
       "      <td>-22.222222</td>\n",
       "      <td>-22.222222</td>\n",
       "      <td>1.777778e+03</td>\n",
       "      <td>-11.111111</td>\n",
       "      <td>0.000000</td>\n",
       "    </tr>\n",
       "    <tr>\n",
       "      <th>2021-09-12 09:40:00</th>\n",
       "      <td>80</td>\n",
       "      <td>1.0</td>\n",
       "      <td>-0.111111</td>\n",
       "      <td>8.641975</td>\n",
       "      <td>-172.839506</td>\n",
       "      <td>888.888889</td>\n",
       "      <td>-0.222222</td>\n",
       "      <td>-0.222222</td>\n",
       "      <td>8.641975</td>\n",
       "      <td>1.777778e+03</td>\n",
       "      <td>-11.111111</td>\n",
       "      <td>19.753086</td>\n",
       "      <td>19.753086</td>\n",
       "      <td>-2.273737e-13</td>\n",
       "      <td>8.641975</td>\n",
       "      <td>-0.111111</td>\n",
       "    </tr>\n",
       "    <tr>\n",
       "      <th>2021-09-12 09:45:00</th>\n",
       "      <td>90</td>\n",
       "      <td>0.0</td>\n",
       "      <td>0.125000</td>\n",
       "      <td>NaN</td>\n",
       "      <td>NaN</td>\n",
       "      <td>777.777778</td>\n",
       "      <td>0.000000</td>\n",
       "      <td>NaN</td>\n",
       "      <td>0.000000</td>\n",
       "      <td>-2.273737e-13</td>\n",
       "      <td>8.641975</td>\n",
       "      <td>-8.641975</td>\n",
       "      <td>-8.641975</td>\n",
       "      <td>6.049383e+02</td>\n",
       "      <td>0.000000</td>\n",
       "      <td>-0.125000</td>\n",
       "    </tr>\n",
       "    <tr>\n",
       "      <th>2021-09-12 09:50:00</th>\n",
       "      <td>70</td>\n",
       "      <td>0.0</td>\n",
       "      <td>-0.222222</td>\n",
       "      <td>NaN</td>\n",
       "      <td>NaN</td>\n",
       "      <td>604.938272</td>\n",
       "      <td>0.000000</td>\n",
       "      <td>NaN</td>\n",
       "      <td>NaN</td>\n",
       "      <td>NaN</td>\n",
       "      <td>NaN</td>\n",
       "      <td>NaN</td>\n",
       "      <td>NaN</td>\n",
       "      <td>NaN</td>\n",
       "      <td>NaN</td>\n",
       "      <td>-0.222222</td>\n",
       "    </tr>\n",
       "  </tbody>\n",
       "</table>\n",
       "</div>"
      ],
      "text/plain": [
       "                     price  preds     ret_0  num_shares        diff       wealth  pnl.sim1   pnl.lag  target_n_shares          cash   holdings  diff_n_shares  filled_n_shares        cash+1  holdings+1  pnl.sim2\n",
       "2021-09-12 09:30:00    100    1.0       NaN   11.111111 -111.111111  1000.000000 -0.111111 -0.111111        11.111111  1.000000e+03   0.000000      11.111111        11.111111  0.000000e+00   11.111111       NaN\n",
       "2021-09-12 09:35:00     90   -1.0 -0.100000   11.111111 -111.111111  1000.000000 -0.125000 -0.125000       -11.111111  0.000000e+00  11.111111     -22.222222       -22.222222  1.777778e+03  -11.111111  0.000000\n",
       "2021-09-12 09:40:00     80    1.0 -0.111111    8.641975 -172.839506   888.888889 -0.222222 -0.222222         8.641975  1.777778e+03 -11.111111      19.753086        19.753086 -2.273737e-13    8.641975 -0.111111\n",
       "2021-09-12 09:45:00     90    0.0  0.125000         NaN         NaN   777.777778  0.000000       NaN         0.000000 -2.273737e-13   8.641975      -8.641975        -8.641975  6.049383e+02    0.000000 -0.125000\n",
       "2021-09-12 09:50:00     70    0.0 -0.222222         NaN         NaN   604.938272  0.000000       NaN              NaN           NaN        NaN            NaN              NaN           NaN         NaN -0.222222"
      ]
     },
     "execution_count": 8,
     "metadata": {},
     "output_type": "execute_result"
    }
   ],
   "source": [
    "mode = \"instantaneous\"\n",
    "df, df_5mins = oobpnsim.get_example_market_data1()\n",
    "\n",
    "# Level 1 sim.\n",
    "initial_wealth = 1000\n",
    "final_w, tot_ret, df_5mins = oobpnsim.compute_pnl_level1(\n",
    "    initial_wealth, df, df_5mins\n",
    ")\n",
    "# Lag-based sim.\n",
    "tot_ret2, df_5mins = oobpnsim.compute_lag_pnl(df_5mins)\n",
    "\n",
    "# Level 2 sim.\n",
    "config = {\n",
    "    \"price_column\": \"price\",\n",
    "    \"future_snoop_allocation\": True,\n",
    "    \"order_type\": \"price.end\",\n",
    "}\n",
    "\n",
    "df_5mins = oobpnsim.compute_pnl_level2(df, df_5mins, initial_wealth, config)\n",
    "\n",
    "df_5mins"
   ]
  }
 ],
 "metadata": {
  "kernelspec": {
   "display_name": "Python 3 (ipykernel)",
   "language": "python",
   "name": "python3"
  },
  "language_info": {
   "codemirror_mode": {
    "name": "ipython",
    "version": 3
   },
   "file_extension": ".py",
   "mimetype": "text/x-python",
   "name": "python",
   "nbconvert_exporter": "python",
   "pygments_lexer": "ipython3",
   "version": "3.8.10"
  },
  "toc": {
   "base_numbering": 1,
   "nav_menu": {},
   "number_sections": true,
   "sideBar": true,
   "skip_h1_title": false,
   "title_cell": "Table of Contents",
   "title_sidebar": "Contents",
   "toc_cell": false,
   "toc_position": {
    "height": "calc(100% - 180px)",
    "left": "10px",
    "top": "150px",
    "width": "165px"
   },
   "toc_section_display": true,
   "toc_window_display": true
  }
 },
 "nbformat": 4,
 "nbformat_minor": 5
}
