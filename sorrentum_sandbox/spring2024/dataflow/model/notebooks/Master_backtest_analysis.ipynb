{
 "cells": [
  {
   "cell_type": "markdown",
   "id": "2d11862d",
   "metadata": {},
   "source": [
    "# Description"
   ]
  },
  {
   "cell_type": "markdown",
   "id": "d72f3c02",
   "metadata": {},
   "source": [
    "Display the backtest results as the output of the `ForecastEvaluator`, created in `Master_research_backtest_analyzer` notebook.\n",
    "\n",
    "The user provides a list of the outputs of the 2nd stage of the backtest, and the notebook displays the portfolio stats for the provided runs."
   ]
  },
  {
   "cell_type": "markdown",
   "id": "98f1765f",
   "metadata": {},
   "source": [
    "# Imports"
   ]
  },
  {
   "cell_type": "code",
   "execution_count": 1,
   "id": "090c3bcc",
   "metadata": {
    "ExecuteTime": {
     "end_time": "2024-05-02T11:00:54.020260Z",
     "start_time": "2024-05-02T11:00:52.623564Z"
    }
   },
   "outputs": [],
   "source": [
    "%load_ext autoreload\n",
    "%autoreload 2\n",
    "%matplotlib inline"
   ]
  },
  {
   "cell_type": "code",
   "execution_count": null,
   "id": "b4f2d17e",
   "metadata": {
    "ExecuteTime": {
     "start_time": "2024-05-02T11:00:52.480Z"
    }
   },
   "outputs": [],
   "source": [
    "import logging\n",
    "\n",
    "import pandas as pd\n",
    "\n",
    "import core.config as cconfig\n",
    "import core.plotting as coplotti\n",
    "import dataflow.model as dtfmod\n",
    "import helpers.hdbg as hdbg\n",
    "import helpers.henv as henv\n",
    "import helpers.hprint as hprint"
   ]
  },
  {
   "cell_type": "code",
   "execution_count": null,
   "id": "85a60f5c",
   "metadata": {
    "ExecuteTime": {
     "start_time": "2024-05-02T11:00:52.481Z"
    }
   },
   "outputs": [],
   "source": [
    "hdbg.init_logger(verbosity=logging.INFO)\n",
    "\n",
    "_LOG = logging.getLogger(__name__)\n",
    "\n",
    "_LOG.info(\"%s\", henv.get_system_signature()[0])\n",
    "\n",
    "hprint.config_notebook()"
   ]
  },
  {
   "cell_type": "markdown",
   "id": "3ef83f20",
   "metadata": {},
   "source": [
    "# Build the config dict"
   ]
  },
  {
   "cell_type": "code",
   "execution_count": null,
   "id": "ca3efa5a",
   "metadata": {
    "ExecuteTime": {
     "start_time": "2024-05-02T11:00:52.482Z"
    }
   },
   "outputs": [],
   "source": [
    "# Get config from env when running the notebook via the `run_notebook.py` script.\n",
    "default_config = cconfig.get_config_from_env()\n",
    "if default_config:\n",
    "    _LOG.info(\"Using config from env vars\")\n",
    "else:\n",
    "    _LOG.info(\"Using hardwired config\")\n",
    "    default_config_dict = {\n",
    "        # Provide a list of experiment output dirs for analysis.\n",
    "        \"system_log_dirs\": [\n",
    "\"/shared_data/backtest.danya/build_tile_configs.C11a.ccxt_v8_1-all.5T.2023-08-01_2024-03-31.ins.run0/portfolio_dfs/20240501_183113/forecast_evaluator_kwargs:optimizer_config_dict:transaction_cost_penalty=1.4\",\n",
    "\"/shared_data/backtest.danya/build_tile_configs.C11a.ccxt_v8_1-all.5T.2023-08-01_2024-03-31.ins.run0/portfolio_dfs/20240501_183113/forecast_evaluator_kwargs:optimizer_config_dict:transaction_cost_penalty=1.6\",\n",
    "\"/shared_data/backtest.danya/build_tile_configs.C11a.ccxt_v8_1-all.5T.2023-08-01_2024-03-31.ins.run0/portfolio_dfs/20240501_183113/forecast_evaluator_kwargs:optimizer_config_dict:transaction_cost_penalty=1.8\",\n",
    "        ],\n",
    "        \"pnl_resampling_frequency\": \"D\",\n",
    "    }\n",
    "    # Build config from dict.\n",
    "    default_config = cconfig.Config().from_dict(default_config_dict)\n",
    "print(default_config)"
   ]
  },
  {
   "cell_type": "markdown",
   "id": "e5f074d9",
   "metadata": {},
   "source": [
    "# Load portfolio metrics"
   ]
  },
  {
   "cell_type": "code",
   "execution_count": null,
   "id": "5eb8ff13",
   "metadata": {
    "ExecuteTime": {
     "start_time": "2024-05-02T11:00:52.484Z"
    }
   },
   "outputs": [],
   "source": [
    "# Load the portfolio metrics.\n",
    "bar_metrics_dict = {}\n",
    "for index, system_log_dir in enumerate(default_config[\"system_log_dirs\"]):\n",
    "    bar_metrics = dtfmod.AbstractForecastEvaluator.load_portfolio_stats(system_log_dir)\n",
    "    bar_metrics_dict[index] = bar_metrics\n",
    "portfolio_stats_df = pd.concat(bar_metrics_dict, axis=1)"
   ]
  },
  {
   "cell_type": "markdown",
   "id": "4c64fd4d",
   "metadata": {},
   "source": [
    "# Portfolio stats"
   ]
  },
  {
   "cell_type": "code",
   "execution_count": null,
   "id": "e8931eae",
   "metadata": {
    "ExecuteTime": {
     "start_time": "2024-05-02T11:00:52.485Z"
    }
   },
   "outputs": [],
   "source": [
    "coplotti.plot_portfolio_stats(\n",
    "    portfolio_stats_df, freq=default_config[\"pnl_resampling_frequency\"]\n",
    ")"
   ]
  },
  {
   "cell_type": "markdown",
   "id": "d395865d",
   "metadata": {},
   "source": [
    "# Aggregate portfolio stats"
   ]
  },
  {
   "cell_type": "code",
   "execution_count": null,
   "id": "bf20154c",
   "metadata": {
    "ExecuteTime": {
     "start_time": "2024-05-02T11:00:52.486Z"
    }
   },
   "outputs": [],
   "source": [
    "stats_computer = dtfmod.StatsComputer()"
   ]
  },
  {
   "cell_type": "code",
   "execution_count": null,
   "id": "ce48b9d5",
   "metadata": {
    "ExecuteTime": {
     "start_time": "2024-05-02T11:00:52.487Z"
    }
   },
   "outputs": [],
   "source": [
    "portfolio_stats, daily_metrics = stats_computer.compute_portfolio_stats(\n",
    "    portfolio_stats_df,\n",
    "    default_config[\"pnl_resampling_frequency\"],\n",
    ")\n",
    "display(portfolio_stats)"
   ]
  },
  {
   "cell_type": "code",
   "execution_count": null,
   "id": "fa727f5b",
   "metadata": {},
   "outputs": [],
   "source": []
  }
 ],
 "metadata": {
  "kernelspec": {
   "display_name": "Python 3 (ipykernel)",
   "language": "python",
   "name": "python3"
  },
  "language_info": {
   "codemirror_mode": {
    "name": "ipython",
    "version": 3
   },
   "file_extension": ".py",
   "mimetype": "text/x-python",
   "name": "python",
   "nbconvert_exporter": "python",
   "pygments_lexer": "ipython3",
   "version": "3.9.5"
  },
  "toc": {
   "base_numbering": 1,
   "nav_menu": {},
   "number_sections": true,
   "sideBar": true,
   "skip_h1_title": false,
   "title_cell": "Table of Contents",
   "title_sidebar": "Contents",
   "toc_cell": false,
   "toc_position": {},
   "toc_section_display": true,
   "toc_window_display": false
  }
 },
 "nbformat": 4,
 "nbformat_minor": 5
}
