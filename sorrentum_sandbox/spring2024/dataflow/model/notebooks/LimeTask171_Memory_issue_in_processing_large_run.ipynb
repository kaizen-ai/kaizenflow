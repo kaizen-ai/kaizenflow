{
 "cells": [
  {
   "cell_type": "markdown",
   "id": "894bd7f4",
   "metadata": {},
   "source": [
    "# Description"
   ]
  },
  {
   "cell_type": "markdown",
   "id": "3e4948ed",
   "metadata": {},
   "source": [
    "- Initialize with returns, alpha, and spread\n",
    "- Evaluate portfolios generated from the alpha"
   ]
  },
  {
   "cell_type": "markdown",
   "id": "4f1dfe0f",
   "metadata": {},
   "source": [
    "# Imports"
   ]
  },
  {
   "cell_type": "code",
   "execution_count": 1,
   "id": "618718d5",
   "metadata": {
    "ExecuteTime": {
     "end_time": "2021-10-27T21:50:16.697779Z",
     "start_time": "2021-10-27T21:50:14.055300Z"
    }
   },
   "outputs": [],
   "source": [
    "%load_ext autoreload\n",
    "%autoreload 2\n",
    "\n",
    "import logging\n",
    "\n",
    "import dataflow_model.model_evaluator as cdtfmomoev\n",
    "\n",
    "import core.config as cconfig\n",
    "import helpers.hdbg as hdbg\n",
    "import helpers.hprint as hprint"
   ]
  },
  {
   "cell_type": "code",
   "execution_count": 2,
   "id": "55a5059e",
   "metadata": {
    "ExecuteTime": {
     "end_time": "2021-10-27T21:50:18.068314Z",
     "start_time": "2021-10-27T21:50:18.028804Z"
    }
   },
   "outputs": [
    {
     "name": "stdout",
     "output_type": "stream",
     "text": [
      "\u001b[0m\u001b[36mINFO\u001b[0m: > cmd='/venv/lib/python3.8/site-packages/ipykernel_launcher.py -f /root/.local/share/jupyter/runtime/kernel-1f48b812-7077-4eef-92ee-487b37d1fc5c.json'\n",
      "\u001b[33mWARNING\u001b[0m: Running in Jupyter\n",
      "\u001b[33mWARNING\u001b[0m: Disabling annoying warnings\n"
     ]
    }
   ],
   "source": [
    "hdbg.init_logger(verbosity=logging.INFO)\n",
    "# hdbg.init_logger(verbosity=logging.DEBUG)\n",
    "\n",
    "_LOG = logging.getLogger(__name__)\n",
    "\n",
    "# _LOG.info(\"%s\", env.get_system_signature()[0])\n",
    "\n",
    "hprint.config_notebook()"
   ]
  },
  {
   "cell_type": "markdown",
   "id": "79359cff",
   "metadata": {},
   "source": [
    "# Notebook config"
   ]
  },
  {
   "cell_type": "code",
   "execution_count": 3,
   "id": "f11b2967",
   "metadata": {
    "ExecuteTime": {
     "end_time": "2021-10-27T21:50:19.902520Z",
     "start_time": "2021-10-27T21:50:19.867852Z"
    }
   },
   "outputs": [
    {
     "name": "stdout",
     "output_type": "stream",
     "text": [
      "Environment variable 'AM_CONFIG_CODE' not defined: no config retrieved\n",
      "load_experiment_kwargs:\n",
      "  src_dir: \n",
      "  file_name: result_bundle.v2_0.pkl\n",
      "  experiment_type: ins_oos\n",
      "  selected_idxs: None\n",
      "  aws_profile: None\n",
      "strategy_evaluator_kwargs:\n",
      "  returns_col: mid_ret_0\n",
      "  position_intent_col: position_intent_1\n",
      "  spread_col: spread\n",
      "  abort_on_error: True\n",
      "bh_adj_threshold: 0.1\n",
      "resample_rule: W\n"
     ]
    }
   ],
   "source": [
    "# Read from env var.\n",
    "eval_config = cconfig.Config.from_env_var(\"AM_CONFIG_CODE\")\n",
    "\n",
    "if eval_config is None:\n",
    "    experiment_dir = \"\"\n",
    "    aws_profile = None\n",
    "    selected_idxs = None\n",
    "\n",
    "    eval_config = cconfig.Config.from_dict(\n",
    "        {\n",
    "            \"load_experiment_kwargs\": {\n",
    "                \"src_dir\": experiment_dir,\n",
    "                \"file_name\": \"result_bundle.v2_0.pkl\",\n",
    "                \"experiment_type\": \"ins_oos\",\n",
    "                \"selected_idxs\": selected_idxs,\n",
    "                \"aws_profile\": aws_profile,\n",
    "            },\n",
    "            \"strategy_evaluator_kwargs\": {\n",
    "                \"returns_col\": \"mid_ret_0\",\n",
    "                \"position_intent_col\": \"position_intent_1\",\n",
    "                \"spread_col\": \"spread\",\n",
    "                \"abort_on_error\": True,\n",
    "            },\n",
    "            \"bh_adj_threshold\": 0.1,\n",
    "            \"resample_rule\": \"W\",\n",
    "        }\n",
    "    )\n",
    "\n",
    "print(str(eval_config))"
   ]
  },
  {
   "cell_type": "code",
   "execution_count": 5,
   "id": "73a294a2",
   "metadata": {
    "ExecuteTime": {
     "end_time": "2021-10-27T21:50:29.131811Z",
     "start_time": "2021-10-27T21:50:29.101209Z"
    }
   },
   "outputs": [],
   "source": [
    "# result_bundle_dict[0]"
   ]
  },
  {
   "cell_type": "code",
   "execution_count": 6,
   "id": "736dfdf1",
   "metadata": {
    "ExecuteTime": {
     "end_time": "2021-10-27T21:50:31.656709Z",
     "start_time": "2021-10-27T21:50:31.610477Z"
    },
    "scrolled": false
   },
   "outputs": [
    {
     "name": "stdout",
     "output_type": "stream",
     "text": [
      "Before load_experiment_artifacts: memory_usage=rss=0.239GB vms=2.668GB mem_pct=0%\n",
      "# Load artifacts 'result_bundle.v2_0.pkl' from ''\n",
      "Found 0 experiment subdirs in ''\n"
     ]
    },
    {
     "ename": "AssertionError",
     "evalue": "\n################################################################################\n* Failed assertion *\n1 <= 0\nCan't find subdirs in '{}'\n################################################################################\n",
     "output_type": "error",
     "traceback": [
      "\u001b[0;31m---------------------------------------------------------------------------\u001b[0m",
      "\u001b[0;31mAssertionError\u001b[0m                            Traceback (most recent call last)",
      "\u001b[0;32m/tmp/ipykernel_76/1762501290.py\u001b[0m in \u001b[0;36m<module>\u001b[0;34m\u001b[0m\n\u001b[1;32m      1\u001b[0m \u001b[0;31m# Build the ModelEvaluator from the eval config.\u001b[0m\u001b[0;34m\u001b[0m\u001b[0;34m\u001b[0m\u001b[0;34m\u001b[0m\u001b[0m\n\u001b[0;32m----> 2\u001b[0;31m \u001b[0mevaluator\u001b[0m \u001b[0;34m=\u001b[0m \u001b[0mmodeval\u001b[0m\u001b[0;34m.\u001b[0m\u001b[0mStrategyEvaluator\u001b[0m\u001b[0;34m.\u001b[0m\u001b[0mfrom_eval_config\u001b[0m\u001b[0;34m(\u001b[0m\u001b[0meval_config\u001b[0m\u001b[0;34m)\u001b[0m\u001b[0;34m\u001b[0m\u001b[0;34m\u001b[0m\u001b[0m\n\u001b[0m",
      "\u001b[0;32m/app/amp/core/dataflow_model/model_evaluator.py\u001b[0m in \u001b[0;36mfrom_eval_config\u001b[0;34m(cls, eval_config)\u001b[0m\n\u001b[1;32m    156\u001b[0m             ]\n\u001b[1;32m    157\u001b[0m         }\n\u001b[0;32m--> 158\u001b[0;31m         \u001b[0mresult_bundle_dict\u001b[0m \u001b[0;34m=\u001b[0m \u001b[0mcdtfmouti\u001b[0m\u001b[0;34m.\u001b[0m\u001b[0mload_experiment_artifacts\u001b[0m\u001b[0;34m(\u001b[0m\u001b[0;34m**\u001b[0m\u001b[0mload_config\u001b[0m\u001b[0;34m)\u001b[0m\u001b[0;34m\u001b[0m\u001b[0;34m\u001b[0m\u001b[0m\n\u001b[0m\u001b[1;32m    159\u001b[0m         \u001b[0;31m# Build the StrategyEvaluator.\u001b[0m\u001b[0;34m\u001b[0m\u001b[0;34m\u001b[0m\u001b[0;34m\u001b[0m\u001b[0m\n\u001b[1;32m    160\u001b[0m         evaluator = StrategyEvaluator.from_result_bundle_dict(\n",
      "\u001b[0;32m/app/amp/core/dataflow_model/utils.py\u001b[0m in \u001b[0;36mload_experiment_artifacts\u001b[0;34m(src_dir, file_name, experiment_type, load_rb_kwargs, selected_idxs, aws_profile)\u001b[0m\n\u001b[1;32m    538\u001b[0m     \u001b[0;31m# TODO(gp): We might want also to compare to the original experiments Configs.\u001b[0m\u001b[0;34m\u001b[0m\u001b[0;34m\u001b[0m\u001b[0;34m\u001b[0m\u001b[0m\n\u001b[1;32m    539\u001b[0m     \u001b[0martifacts\u001b[0m \u001b[0;34m=\u001b[0m \u001b[0mcollections\u001b[0m\u001b[0;34m.\u001b[0m\u001b[0mOrderedDict\u001b[0m\u001b[0;34m(\u001b[0m\u001b[0;34m)\u001b[0m\u001b[0;34m\u001b[0m\u001b[0;34m\u001b[0m\u001b[0m\n\u001b[0;32m--> 540\u001b[0;31m     \u001b[0;32mfor\u001b[0m \u001b[0mkey\u001b[0m\u001b[0;34m,\u001b[0m \u001b[0martifact\u001b[0m \u001b[0;32min\u001b[0m \u001b[0miter\u001b[0m\u001b[0;34m:\u001b[0m\u001b[0;34m\u001b[0m\u001b[0;34m\u001b[0m\u001b[0m\n\u001b[0m\u001b[1;32m    541\u001b[0m         _LOG.info(\n\u001b[1;32m    542\u001b[0m             \u001b[0;34m\"load_experiment_artifacts: memory_usage=%s\"\u001b[0m\u001b[0;34m,\u001b[0m\u001b[0;34m\u001b[0m\u001b[0;34m\u001b[0m\u001b[0m\n",
      "\u001b[0;32m/app/amp/core/dataflow_model/utils.py\u001b[0m in \u001b[0;36myield_experiment_artifacts\u001b[0;34m(src_dir, file_name, load_rb_kwargs, selected_idxs, aws_profile)\u001b[0m\n\u001b[1;32m    424\u001b[0m     \u001b[0m_LOG\u001b[0m\u001b[0;34m.\u001b[0m\u001b[0minfo\u001b[0m\u001b[0;34m(\u001b[0m\u001b[0;34m\"# Load artifacts '%s' from '%s'\"\u001b[0m\u001b[0;34m,\u001b[0m \u001b[0mfile_name\u001b[0m\u001b[0;34m,\u001b[0m \u001b[0msrc_dir\u001b[0m\u001b[0;34m)\u001b[0m\u001b[0;34m\u001b[0m\u001b[0;34m\u001b[0m\u001b[0m\n\u001b[1;32m    425\u001b[0m     \u001b[0;31m# Get the experiment subdirs.\u001b[0m\u001b[0;34m\u001b[0m\u001b[0;34m\u001b[0m\u001b[0;34m\u001b[0m\u001b[0m\n\u001b[0;32m--> 426\u001b[0;31m     src_dir, experiment_subdirs = _get_experiment_subdirs(\n\u001b[0m\u001b[1;32m    427\u001b[0m         \u001b[0msrc_dir\u001b[0m\u001b[0;34m,\u001b[0m \u001b[0mselected_idxs\u001b[0m\u001b[0;34m,\u001b[0m \u001b[0maws_profile\u001b[0m\u001b[0;34m=\u001b[0m\u001b[0maws_profile\u001b[0m\u001b[0;34m\u001b[0m\u001b[0;34m\u001b[0m\u001b[0m\n\u001b[1;32m    428\u001b[0m     )\n",
      "\u001b[0;32m/app/amp/core/dataflow_model/utils.py\u001b[0m in \u001b[0;36m_get_experiment_subdirs\u001b[0;34m(src_dir, selected_idxs, aws_profile)\u001b[0m\n\u001b[1;32m    352\u001b[0m     \u001b[0;31m# Subset the experiment subdirs based on the selected keys.\u001b[0m\u001b[0;34m\u001b[0m\u001b[0;34m\u001b[0m\u001b[0;34m\u001b[0m\u001b[0m\n\u001b[1;32m    353\u001b[0m     \u001b[0mexperiment_subdirs\u001b[0m \u001b[0;34m=\u001b[0m \u001b[0;34m{\u001b[0m\u001b[0mkey\u001b[0m\u001b[0;34m:\u001b[0m \u001b[0mconfig_idx_to_dir\u001b[0m\u001b[0;34m[\u001b[0m\u001b[0mkey\u001b[0m\u001b[0;34m]\u001b[0m \u001b[0;32mfor\u001b[0m \u001b[0mkey\u001b[0m \u001b[0;32min\u001b[0m \u001b[0mselected_keys\u001b[0m\u001b[0;34m}\u001b[0m\u001b[0;34m\u001b[0m\u001b[0;34m\u001b[0m\u001b[0m\n\u001b[0;32m--> 354\u001b[0;31m     hdbg.dassert_lte(\n\u001b[0m\u001b[1;32m    355\u001b[0m         \u001b[0;36m1\u001b[0m\u001b[0;34m,\u001b[0m\u001b[0;34m\u001b[0m\u001b[0;34m\u001b[0m\u001b[0m\n\u001b[1;32m    356\u001b[0m         \u001b[0mlen\u001b[0m\u001b[0;34m(\u001b[0m\u001b[0mexperiment_subdirs\u001b[0m\u001b[0;34m)\u001b[0m\u001b[0;34m,\u001b[0m\u001b[0;34m\u001b[0m\u001b[0;34m\u001b[0m\u001b[0m\n",
      "\u001b[0;32m/app/amp/helpers/dbg.py\u001b[0m in \u001b[0;36mdassert_lte\u001b[0;34m(val1, val2, msg, *args)\u001b[0m\n\u001b[1;32m    173\u001b[0m     \u001b[0;32mif\u001b[0m \u001b[0;32mnot\u001b[0m \u001b[0mcond\u001b[0m\u001b[0;34m:\u001b[0m\u001b[0;34m\u001b[0m\u001b[0;34m\u001b[0m\u001b[0m\n\u001b[1;32m    174\u001b[0m         \u001b[0mtxt\u001b[0m \u001b[0;34m=\u001b[0m \u001b[0;34m\"%s <= %s\"\u001b[0m \u001b[0;34m%\u001b[0m \u001b[0;34m(\u001b[0m\u001b[0mval1\u001b[0m\u001b[0;34m,\u001b[0m \u001b[0mval2\u001b[0m\u001b[0;34m)\u001b[0m\u001b[0;34m\u001b[0m\u001b[0;34m\u001b[0m\u001b[0m\n\u001b[0;32m--> 175\u001b[0;31m         \u001b[0m_dfatal\u001b[0m\u001b[0;34m(\u001b[0m\u001b[0mtxt\u001b[0m\u001b[0;34m,\u001b[0m \u001b[0mmsg\u001b[0m\u001b[0;34m,\u001b[0m \u001b[0;34m*\u001b[0m\u001b[0margs\u001b[0m\u001b[0;34m)\u001b[0m\u001b[0;34m\u001b[0m\u001b[0;34m\u001b[0m\u001b[0m\n\u001b[0m\u001b[1;32m    176\u001b[0m \u001b[0;34m\u001b[0m\u001b[0m\n\u001b[1;32m    177\u001b[0m \u001b[0;34m\u001b[0m\u001b[0m\n",
      "\u001b[0;32m/app/amp/helpers/dbg.py\u001b[0m in \u001b[0;36m_dfatal\u001b[0;34m(txt, msg, *args)\u001b[0m\n\u001b[1;32m    113\u001b[0m             \u001b[0mdfatal_txt\u001b[0m \u001b[0;34m+=\u001b[0m \u001b[0;34m\"\\n\"\u001b[0m\u001b[0;34m\u001b[0m\u001b[0;34m\u001b[0m\u001b[0m\n\u001b[1;32m    114\u001b[0m         \u001b[0mdfatal_txt\u001b[0m \u001b[0;34m+=\u001b[0m \u001b[0mmsg\u001b[0m\u001b[0;34m\u001b[0m\u001b[0;34m\u001b[0m\u001b[0m\n\u001b[0;32m--> 115\u001b[0;31m     \u001b[0mdfatal\u001b[0m\u001b[0;34m(\u001b[0m\u001b[0mdfatal_txt\u001b[0m\u001b[0;34m)\u001b[0m\u001b[0;34m\u001b[0m\u001b[0;34m\u001b[0m\u001b[0m\n\u001b[0m\u001b[1;32m    116\u001b[0m \u001b[0;34m\u001b[0m\u001b[0m\n\u001b[1;32m    117\u001b[0m \u001b[0;34m\u001b[0m\u001b[0m\n",
      "\u001b[0;32m/app/amp/helpers/dbg.py\u001b[0m in \u001b[0;36mdfatal\u001b[0;34m(message, assertion_type)\u001b[0m\n\u001b[1;32m     59\u001b[0m     \u001b[0;32mif\u001b[0m \u001b[0massertion_type\u001b[0m \u001b[0;32mis\u001b[0m \u001b[0;32mNone\u001b[0m\u001b[0;34m:\u001b[0m\u001b[0;34m\u001b[0m\u001b[0;34m\u001b[0m\u001b[0m\n\u001b[1;32m     60\u001b[0m         \u001b[0massertion_type\u001b[0m \u001b[0;34m=\u001b[0m \u001b[0mAssertionError\u001b[0m\u001b[0;34m\u001b[0m\u001b[0;34m\u001b[0m\u001b[0m\n\u001b[0;32m---> 61\u001b[0;31m     \u001b[0;32mraise\u001b[0m \u001b[0massertion_type\u001b[0m\u001b[0;34m(\u001b[0m\u001b[0mret\u001b[0m\u001b[0;34m)\u001b[0m\u001b[0;34m\u001b[0m\u001b[0;34m\u001b[0m\u001b[0m\n\u001b[0m\u001b[1;32m     62\u001b[0m \u001b[0;34m\u001b[0m\u001b[0m\n\u001b[1;32m     63\u001b[0m \u001b[0;34m\u001b[0m\u001b[0m\n",
      "\u001b[0;31mAssertionError\u001b[0m: \n################################################################################\n* Failed assertion *\n1 <= 0\nCan't find subdirs in '{}'\n################################################################################\n"
     ]
    }
   ],
   "source": [
    "# Build the ModelEvaluator from the eval config.\n",
    "evaluator = cdtfmomoev.StrategyEvaluator.from_eval_config(eval_config)"
   ]
  },
  {
   "cell_type": "code",
   "execution_count": 7,
   "id": "0005a879",
   "metadata": {
    "ExecuteTime": {
     "end_time": "2021-09-16T19:18:48.438210Z",
     "start_time": "2021-09-16T19:18:45.898360Z"
    }
   },
   "outputs": [],
   "source": [
    "if False:\n",
    "    import helpers.hpickle as hpickle\n",
    "\n",
    "    hpickle.to_pickle(evaluator, \"evaluator.pkl\")"
   ]
  },
  {
   "cell_type": "code",
   "execution_count": null,
   "id": "62f141e8",
   "metadata": {},
   "outputs": [],
   "source": [
    "assert 0"
   ]
  },
  {
   "cell_type": "markdown",
   "id": "ba457894",
   "metadata": {},
   "source": [
    "# Restart from pickle"
   ]
  },
  {
   "cell_type": "code",
   "execution_count": 9,
   "id": "ffbe3722",
   "metadata": {
    "ExecuteTime": {
     "end_time": "2021-09-16T19:19:05.247050Z",
     "start_time": "2021-09-16T19:19:04.048297Z"
    }
   },
   "outputs": [
    {
     "name": "stdout",
     "output_type": "stream",
     "text": [
      "5.0G\tevaluator.pkl\r\n"
     ]
    }
   ],
   "source": [
    "!du -h evaluator.pkl"
   ]
  },
  {
   "cell_type": "code",
   "execution_count": 10,
   "id": "25b5ef06",
   "metadata": {
    "ExecuteTime": {
     "end_time": "2021-09-16T19:19:25.725352Z",
     "start_time": "2021-09-16T19:19:12.029219Z"
    },
    "scrolled": true
   },
   "outputs": [
    {
     "name": "stdout",
     "output_type": "stream",
     "text": [
      "Before StrategyEvaluator.compute_pnl: memory_usage=rss=9.301GB vms=13.404GB mem_pct=15%\n"
     ]
    },
    {
     "data": {
      "application/vnd.jupyter.widget-view+json": {
       "model_id": "9ced29cdc3044b5ab0821135676c1b69",
       "version_major": 2,
       "version_minor": 0
      },
      "text/plain": [
       "  0%|          | 0/594 [00:00<?, ?it/s]"
      ]
     },
     "metadata": {},
     "output_type": "display_data"
    },
    {
     "name": "stdout",
     "output_type": "stream",
     "text": [
      "StrategyEvaluator.compute_pnl: memory_usage=rss=9.320GB vms=13.424GB mem_pct=15%\n",
      "StrategyEvaluator.compute_pnl: memory_usage=rss=9.323GB vms=13.426GB mem_pct=15%\n",
      "StrategyEvaluator.compute_pnl: memory_usage=rss=9.338GB vms=13.442GB mem_pct=15%\n",
      "StrategyEvaluator.compute_pnl: memory_usage=rss=9.351GB vms=13.455GB mem_pct=15%\n",
      "StrategyEvaluator.compute_pnl: memory_usage=rss=9.362GB vms=13.465GB mem_pct=15%\n",
      "StrategyEvaluator.compute_pnl: memory_usage=rss=9.373GB vms=13.476GB mem_pct=15%\n",
      "StrategyEvaluator.compute_pnl: memory_usage=rss=9.384GB vms=13.487GB mem_pct=15%\n",
      "StrategyEvaluator.compute_pnl: memory_usage=rss=9.395GB vms=13.498GB mem_pct=15%\n",
      "StrategyEvaluator.compute_pnl: memory_usage=rss=9.406GB vms=13.509GB mem_pct=15%\n",
      "StrategyEvaluator.compute_pnl: memory_usage=rss=9.417GB vms=13.520GB mem_pct=15%\n",
      "StrategyEvaluator.compute_pnl: memory_usage=rss=9.417GB vms=13.520GB mem_pct=15%\n",
      "StrategyEvaluator.compute_pnl: memory_usage=rss=9.428GB vms=13.532GB mem_pct=15%\n",
      "StrategyEvaluator.compute_pnl: memory_usage=rss=9.441GB vms=13.545GB mem_pct=15%\n",
      "StrategyEvaluator.compute_pnl: memory_usage=rss=9.452GB vms=13.556GB mem_pct=15%\n",
      "StrategyEvaluator.compute_pnl: memory_usage=rss=9.463GB vms=13.566GB mem_pct=15%\n",
      "StrategyEvaluator.compute_pnl: memory_usage=rss=9.474GB vms=13.577GB mem_pct=15%\n",
      "StrategyEvaluator.compute_pnl: memory_usage=rss=9.485GB vms=13.588GB mem_pct=15%\n",
      "StrategyEvaluator.compute_pnl: memory_usage=rss=9.496GB vms=13.599GB mem_pct=15%\n",
      "StrategyEvaluator.compute_pnl: memory_usage=rss=9.507GB vms=13.610GB mem_pct=15%\n",
      "StrategyEvaluator.compute_pnl: memory_usage=rss=9.517GB vms=13.621GB mem_pct=15%\n",
      "StrategyEvaluator.compute_pnl: memory_usage=rss=9.528GB vms=13.632GB mem_pct=15%\n",
      "StrategyEvaluator.compute_pnl: memory_usage=rss=9.539GB vms=13.643GB mem_pct=15%\n",
      "StrategyEvaluator.compute_pnl: memory_usage=rss=9.550GB vms=13.653GB mem_pct=15%\n",
      "StrategyEvaluator.compute_pnl: memory_usage=rss=9.561GB vms=13.664GB mem_pct=15%\n",
      "StrategyEvaluator.compute_pnl: memory_usage=rss=9.572GB vms=13.675GB mem_pct=15%\n",
      "StrategyEvaluator.compute_pnl: memory_usage=rss=9.583GB vms=13.686GB mem_pct=15%\n",
      "StrategyEvaluator.compute_pnl: memory_usage=rss=9.594GB vms=13.697GB mem_pct=15%\n",
      "StrategyEvaluator.compute_pnl: memory_usage=rss=9.599GB vms=13.703GB mem_pct=15%\n",
      "StrategyEvaluator.compute_pnl: memory_usage=rss=9.614GB vms=13.717GB mem_pct=16%\n",
      "StrategyEvaluator.compute_pnl: memory_usage=rss=9.626GB vms=13.729GB mem_pct=16%\n",
      "StrategyEvaluator.compute_pnl: memory_usage=rss=9.640GB vms=13.743GB mem_pct=16%\n",
      "StrategyEvaluator.compute_pnl: memory_usage=rss=9.640GB vms=13.743GB mem_pct=16%\n",
      "StrategyEvaluator.compute_pnl: memory_usage=rss=9.653GB vms=13.757GB mem_pct=16%\n",
      "StrategyEvaluator.compute_pnl: memory_usage=rss=9.666GB vms=13.770GB mem_pct=16%\n",
      "StrategyEvaluator.compute_pnl: memory_usage=rss=9.677GB vms=13.781GB mem_pct=16%\n",
      "StrategyEvaluator.compute_pnl: memory_usage=rss=9.688GB vms=13.791GB mem_pct=16%\n",
      "StrategyEvaluator.compute_pnl: memory_usage=rss=9.697GB vms=13.801GB mem_pct=16%\n",
      "StrategyEvaluator.compute_pnl: memory_usage=rss=9.711GB vms=13.814GB mem_pct=16%\n",
      "StrategyEvaluator.compute_pnl: memory_usage=rss=9.722GB vms=13.825GB mem_pct=16%\n",
      "StrategyEvaluator.compute_pnl: memory_usage=rss=9.733GB vms=13.836GB mem_pct=16%\n",
      "StrategyEvaluator.compute_pnl: memory_usage=rss=9.744GB vms=13.847GB mem_pct=16%\n",
      "StrategyEvaluator.compute_pnl: memory_usage=rss=9.754GB vms=13.858GB mem_pct=16%\n",
      "StrategyEvaluator.compute_pnl: memory_usage=rss=9.766GB vms=13.869GB mem_pct=16%\n",
      "StrategyEvaluator.compute_pnl: memory_usage=rss=9.776GB vms=13.880GB mem_pct=16%\n",
      "StrategyEvaluator.compute_pnl: memory_usage=rss=9.783GB vms=13.886GB mem_pct=16%\n",
      "StrategyEvaluator.compute_pnl: memory_usage=rss=9.797GB vms=13.900GB mem_pct=16%\n",
      "StrategyEvaluator.compute_pnl: memory_usage=rss=9.797GB vms=13.900GB mem_pct=16%\n",
      "StrategyEvaluator.compute_pnl: memory_usage=rss=9.813GB vms=13.916GB mem_pct=16%\n",
      "StrategyEvaluator.compute_pnl: memory_usage=rss=9.826GB vms=13.929GB mem_pct=16%\n",
      "StrategyEvaluator.compute_pnl: memory_usage=rss=9.837GB vms=13.940GB mem_pct=16%\n",
      "StrategyEvaluator.compute_pnl: memory_usage=rss=9.847GB vms=13.951GB mem_pct=16%\n",
      "StrategyEvaluator.compute_pnl: memory_usage=rss=9.858GB vms=13.962GB mem_pct=16%\n",
      "StrategyEvaluator.compute_pnl: memory_usage=rss=9.869GB vms=13.972GB mem_pct=16%\n",
      "StrategyEvaluator.compute_pnl: memory_usage=rss=9.880GB vms=13.983GB mem_pct=16%\n",
      "StrategyEvaluator.compute_pnl: memory_usage=rss=9.891GB vms=13.994GB mem_pct=16%\n",
      "StrategyEvaluator.compute_pnl: memory_usage=rss=9.902GB vms=14.005GB mem_pct=16%\n",
      "StrategyEvaluator.compute_pnl: memory_usage=rss=9.902GB vms=14.005GB mem_pct=16%\n",
      "StrategyEvaluator.compute_pnl: memory_usage=rss=9.915GB vms=14.018GB mem_pct=16%\n",
      "StrategyEvaluator.compute_pnl: memory_usage=rss=9.928GB vms=14.031GB mem_pct=16%\n",
      "StrategyEvaluator.compute_pnl: memory_usage=rss=9.939GB vms=14.042GB mem_pct=16%\n",
      "StrategyEvaluator.compute_pnl: memory_usage=rss=9.950GB vms=14.053GB mem_pct=16%\n",
      "StrategyEvaluator.compute_pnl: memory_usage=rss=9.961GB vms=14.064GB mem_pct=16%\n",
      "StrategyEvaluator.compute_pnl: memory_usage=rss=9.970GB vms=14.073GB mem_pct=16%\n",
      "StrategyEvaluator.compute_pnl: memory_usage=rss=9.984GB vms=14.087GB mem_pct=16%\n",
      "StrategyEvaluator.compute_pnl: memory_usage=rss=9.995GB vms=14.098GB mem_pct=16%\n",
      "StrategyEvaluator.compute_pnl: memory_usage=rss=10.006GB vms=14.109GB mem_pct=16%\n",
      "StrategyEvaluator.compute_pnl: memory_usage=rss=10.016GB vms=14.120GB mem_pct=16%\n",
      "StrategyEvaluator.compute_pnl: memory_usage=rss=10.027GB vms=14.131GB mem_pct=16%\n",
      "StrategyEvaluator.compute_pnl: memory_usage=rss=10.038GB vms=14.142GB mem_pct=16%\n",
      "StrategyEvaluator.compute_pnl: memory_usage=rss=10.048GB vms=14.151GB mem_pct=16%\n",
      "StrategyEvaluator.compute_pnl: memory_usage=rss=10.061GB vms=14.165GB mem_pct=16%\n",
      "StrategyEvaluator.compute_pnl: memory_usage=rss=10.072GB vms=14.175GB mem_pct=16%\n",
      "StrategyEvaluator.compute_pnl: memory_usage=rss=10.083GB vms=14.186GB mem_pct=16%\n",
      "StrategyEvaluator.compute_pnl: memory_usage=rss=10.094GB vms=14.197GB mem_pct=16%\n",
      "StrategyEvaluator.compute_pnl: memory_usage=rss=10.105GB vms=14.208GB mem_pct=16%\n",
      "StrategyEvaluator.compute_pnl: memory_usage=rss=10.116GB vms=14.219GB mem_pct=16%\n",
      "StrategyEvaluator.compute_pnl: memory_usage=rss=10.127GB vms=14.230GB mem_pct=16%\n",
      "StrategyEvaluator.compute_pnl: memory_usage=rss=10.138GB vms=14.241GB mem_pct=16%\n",
      "StrategyEvaluator.compute_pnl: memory_usage=rss=10.148GB vms=14.252GB mem_pct=16%\n",
      "StrategyEvaluator.compute_pnl: memory_usage=rss=10.159GB vms=14.263GB mem_pct=16%\n",
      "StrategyEvaluator.compute_pnl: memory_usage=rss=10.170GB vms=14.273GB mem_pct=16%\n",
      "StrategyEvaluator.compute_pnl: memory_usage=rss=10.181GB vms=14.284GB mem_pct=16%\n",
      "StrategyEvaluator.compute_pnl: memory_usage=rss=10.192GB vms=14.295GB mem_pct=16%\n",
      "StrategyEvaluator.compute_pnl: memory_usage=rss=10.203GB vms=14.306GB mem_pct=16%\n",
      "StrategyEvaluator.compute_pnl: memory_usage=rss=10.214GB vms=14.317GB mem_pct=16%\n",
      "StrategyEvaluator.compute_pnl: memory_usage=rss=10.224GB vms=14.328GB mem_pct=16%\n",
      "StrategyEvaluator.compute_pnl: memory_usage=rss=10.235GB vms=14.339GB mem_pct=17%\n",
      "StrategyEvaluator.compute_pnl: memory_usage=rss=10.246GB vms=14.350GB mem_pct=17%\n",
      "StrategyEvaluator.compute_pnl: memory_usage=rss=10.257GB vms=14.360GB mem_pct=17%\n",
      "StrategyEvaluator.compute_pnl: memory_usage=rss=10.268GB vms=14.371GB mem_pct=17%\n",
      "StrategyEvaluator.compute_pnl: memory_usage=rss=10.279GB vms=14.382GB mem_pct=17%\n",
      "StrategyEvaluator.compute_pnl: memory_usage=rss=10.290GB vms=14.393GB mem_pct=17%\n",
      "StrategyEvaluator.compute_pnl: memory_usage=rss=10.301GB vms=14.404GB mem_pct=17%\n",
      "StrategyEvaluator.compute_pnl: memory_usage=rss=10.312GB vms=14.415GB mem_pct=17%\n",
      "StrategyEvaluator.compute_pnl: memory_usage=rss=10.322GB vms=14.426GB mem_pct=17%\n",
      "StrategyEvaluator.compute_pnl: memory_usage=rss=10.323GB vms=14.426GB mem_pct=17%\n",
      "StrategyEvaluator.compute_pnl: memory_usage=rss=10.334GB vms=14.438GB mem_pct=17%\n",
      "StrategyEvaluator.compute_pnl: memory_usage=rss=10.347GB vms=14.451GB mem_pct=17%\n",
      "StrategyEvaluator.compute_pnl: memory_usage=rss=10.358GB vms=14.461GB mem_pct=17%\n",
      "StrategyEvaluator.compute_pnl: memory_usage=rss=10.369GB vms=14.472GB mem_pct=17%\n",
      "StrategyEvaluator.compute_pnl: memory_usage=rss=10.380GB vms=14.483GB mem_pct=17%\n"
     ]
    },
    {
     "name": "stdout",
     "output_type": "stream",
     "text": [
      "StrategyEvaluator.compute_pnl: memory_usage=rss=10.389GB vms=14.492GB mem_pct=17%\n",
      "StrategyEvaluator.compute_pnl: memory_usage=rss=10.403GB vms=14.506GB mem_pct=17%\n",
      "StrategyEvaluator.compute_pnl: memory_usage=rss=10.414GB vms=14.517GB mem_pct=17%\n",
      "StrategyEvaluator.compute_pnl: memory_usage=rss=10.414GB vms=14.517GB mem_pct=17%\n",
      "StrategyEvaluator.compute_pnl: memory_usage=rss=10.427GB vms=14.530GB mem_pct=17%\n",
      "StrategyEvaluator.compute_pnl: memory_usage=rss=10.440GB vms=14.543GB mem_pct=17%\n",
      "StrategyEvaluator.compute_pnl: memory_usage=rss=10.451GB vms=14.554GB mem_pct=17%\n",
      "StrategyEvaluator.compute_pnl: memory_usage=rss=10.462GB vms=14.565GB mem_pct=17%\n",
      "StrategyEvaluator.compute_pnl: memory_usage=rss=10.473GB vms=14.576GB mem_pct=17%\n",
      "StrategyEvaluator.compute_pnl: memory_usage=rss=10.483GB vms=14.587GB mem_pct=17%\n",
      "StrategyEvaluator.compute_pnl: memory_usage=rss=10.494GB vms=14.598GB mem_pct=17%\n",
      "StrategyEvaluator.compute_pnl: memory_usage=rss=10.505GB vms=14.609GB mem_pct=17%\n",
      "StrategyEvaluator.compute_pnl: memory_usage=rss=10.516GB vms=14.619GB mem_pct=17%\n",
      "StrategyEvaluator.compute_pnl: memory_usage=rss=10.527GB vms=14.630GB mem_pct=17%\n",
      "StrategyEvaluator.compute_pnl: memory_usage=rss=10.538GB vms=14.641GB mem_pct=17%\n",
      "StrategyEvaluator.compute_pnl: memory_usage=rss=10.549GB vms=14.652GB mem_pct=17%\n",
      "StrategyEvaluator.compute_pnl: memory_usage=rss=10.560GB vms=14.663GB mem_pct=17%\n",
      "StrategyEvaluator.compute_pnl: memory_usage=rss=10.571GB vms=14.674GB mem_pct=17%\n",
      "StrategyEvaluator.compute_pnl: memory_usage=rss=10.581GB vms=14.685GB mem_pct=17%\n",
      "StrategyEvaluator.compute_pnl: memory_usage=rss=10.592GB vms=14.696GB mem_pct=17%\n",
      "StrategyEvaluator.compute_pnl: memory_usage=rss=10.603GB vms=14.706GB mem_pct=17%\n",
      "StrategyEvaluator.compute_pnl: memory_usage=rss=10.614GB vms=14.717GB mem_pct=17%\n",
      "StrategyEvaluator.compute_pnl: memory_usage=rss=10.625GB vms=14.728GB mem_pct=17%\n",
      "StrategyEvaluator.compute_pnl: memory_usage=rss=10.636GB vms=14.739GB mem_pct=17%\n",
      "StrategyEvaluator.compute_pnl: memory_usage=rss=10.647GB vms=14.750GB mem_pct=17%\n",
      "StrategyEvaluator.compute_pnl: memory_usage=rss=10.658GB vms=14.761GB mem_pct=17%\n",
      "StrategyEvaluator.compute_pnl: memory_usage=rss=10.668GB vms=14.772GB mem_pct=17%\n",
      "StrategyEvaluator.compute_pnl: memory_usage=rss=10.679GB vms=14.783GB mem_pct=17%\n",
      "StrategyEvaluator.compute_pnl: memory_usage=rss=10.690GB vms=14.794GB mem_pct=17%\n",
      "StrategyEvaluator.compute_pnl: memory_usage=rss=10.701GB vms=14.804GB mem_pct=17%\n",
      "StrategyEvaluator.compute_pnl: memory_usage=rss=10.712GB vms=14.815GB mem_pct=17%\n",
      "StrategyEvaluator.compute_pnl: memory_usage=rss=10.723GB vms=14.826GB mem_pct=17%\n",
      "StrategyEvaluator.compute_pnl: memory_usage=rss=10.734GB vms=14.837GB mem_pct=17%\n",
      "StrategyEvaluator.compute_pnl: memory_usage=rss=10.745GB vms=14.848GB mem_pct=17%\n",
      "StrategyEvaluator.compute_pnl: memory_usage=rss=10.755GB vms=14.859GB mem_pct=17%\n",
      "StrategyEvaluator.compute_pnl: memory_usage=rss=10.766GB vms=14.870GB mem_pct=17%\n",
      "StrategyEvaluator.compute_pnl: memory_usage=rss=10.771GB vms=14.874GB mem_pct=17%\n",
      "StrategyEvaluator.compute_pnl: memory_usage=rss=10.785GB vms=14.888GB mem_pct=17%\n",
      "StrategyEvaluator.compute_pnl: memory_usage=rss=10.798GB vms=14.901GB mem_pct=17%\n",
      "StrategyEvaluator.compute_pnl: memory_usage=rss=10.809GB vms=14.912GB mem_pct=17%\n",
      "StrategyEvaluator.compute_pnl: memory_usage=rss=10.820GB vms=14.923GB mem_pct=17%\n",
      "StrategyEvaluator.compute_pnl: memory_usage=rss=10.831GB vms=14.934GB mem_pct=17%\n",
      "StrategyEvaluator.compute_pnl: memory_usage=rss=10.842GB vms=14.945GB mem_pct=17%\n",
      "StrategyEvaluator.compute_pnl: memory_usage=rss=10.853GB vms=14.956GB mem_pct=18%\n",
      "StrategyEvaluator.compute_pnl: memory_usage=rss=10.863GB vms=14.967GB mem_pct=18%\n",
      "StrategyEvaluator.compute_pnl: memory_usage=rss=10.874GB vms=14.978GB mem_pct=18%\n",
      "StrategyEvaluator.compute_pnl: memory_usage=rss=10.885GB vms=14.989GB mem_pct=18%\n",
      "StrategyEvaluator.compute_pnl: memory_usage=rss=10.896GB vms=14.999GB mem_pct=18%\n",
      "StrategyEvaluator.compute_pnl: memory_usage=rss=10.907GB vms=15.010GB mem_pct=18%\n",
      "StrategyEvaluator.compute_pnl: memory_usage=rss=10.918GB vms=15.021GB mem_pct=18%\n",
      "StrategyEvaluator.compute_pnl: memory_usage=rss=10.920GB vms=15.023GB mem_pct=18%\n",
      "StrategyEvaluator.compute_pnl: memory_usage=rss=10.934GB vms=15.038GB mem_pct=18%\n",
      "StrategyEvaluator.compute_pnl: memory_usage=rss=10.947GB vms=15.051GB mem_pct=18%\n",
      "StrategyEvaluator.compute_pnl: memory_usage=rss=10.958GB vms=15.061GB mem_pct=18%\n",
      "StrategyEvaluator.compute_pnl: memory_usage=rss=10.969GB vms=15.072GB mem_pct=18%\n",
      "StrategyEvaluator.compute_pnl: memory_usage=rss=10.980GB vms=15.083GB mem_pct=18%\n",
      "StrategyEvaluator.compute_pnl: memory_usage=rss=10.991GB vms=15.094GB mem_pct=18%\n",
      "StrategyEvaluator.compute_pnl: memory_usage=rss=11.002GB vms=15.105GB mem_pct=18%\n",
      "StrategyEvaluator.compute_pnl: memory_usage=rss=11.012GB vms=15.116GB mem_pct=18%\n",
      "StrategyEvaluator.compute_pnl: memory_usage=rss=11.022GB vms=15.126GB mem_pct=18%\n",
      "StrategyEvaluator.compute_pnl: memory_usage=rss=11.036GB vms=15.139GB mem_pct=18%\n",
      "StrategyEvaluator.compute_pnl: memory_usage=rss=11.047GB vms=15.150GB mem_pct=18%\n",
      "StrategyEvaluator.compute_pnl: memory_usage=rss=11.058GB vms=15.161GB mem_pct=18%\n",
      "StrategyEvaluator.compute_pnl: memory_usage=rss=11.068GB vms=15.172GB mem_pct=18%\n",
      "StrategyEvaluator.compute_pnl: memory_usage=rss=11.079GB vms=15.183GB mem_pct=18%\n",
      "StrategyEvaluator.compute_pnl: memory_usage=rss=11.090GB vms=15.194GB mem_pct=18%\n",
      "StrategyEvaluator.compute_pnl: memory_usage=rss=11.101GB vms=15.204GB mem_pct=18%\n",
      "StrategyEvaluator.compute_pnl: memory_usage=rss=11.112GB vms=15.215GB mem_pct=18%\n",
      "StrategyEvaluator.compute_pnl: memory_usage=rss=11.123GB vms=15.226GB mem_pct=18%\n",
      "StrategyEvaluator.compute_pnl: memory_usage=rss=11.134GB vms=15.237GB mem_pct=18%\n",
      "StrategyEvaluator.compute_pnl: memory_usage=rss=11.145GB vms=15.248GB mem_pct=18%\n",
      "StrategyEvaluator.compute_pnl: memory_usage=rss=11.155GB vms=15.259GB mem_pct=18%\n",
      "StrategyEvaluator.compute_pnl: memory_usage=rss=11.166GB vms=15.270GB mem_pct=18%\n",
      "StrategyEvaluator.compute_pnl: memory_usage=rss=11.166GB vms=15.270GB mem_pct=18%\n",
      "StrategyEvaluator.compute_pnl: memory_usage=rss=11.182GB vms=15.286GB mem_pct=18%\n",
      "StrategyEvaluator.compute_pnl: memory_usage=rss=11.195GB vms=15.299GB mem_pct=18%\n",
      "StrategyEvaluator.compute_pnl: memory_usage=rss=11.206GB vms=15.309GB mem_pct=18%\n",
      "StrategyEvaluator.compute_pnl: memory_usage=rss=11.219GB vms=15.323GB mem_pct=18%\n",
      "StrategyEvaluator.compute_pnl: memory_usage=rss=11.230GB vms=15.333GB mem_pct=18%\n",
      "StrategyEvaluator.compute_pnl: memory_usage=rss=11.241GB vms=15.344GB mem_pct=18%\n",
      "StrategyEvaluator.compute_pnl: memory_usage=rss=11.252GB vms=15.355GB mem_pct=18%\n",
      "StrategyEvaluator.compute_pnl: memory_usage=rss=11.263GB vms=15.366GB mem_pct=18%\n",
      "StrategyEvaluator.compute_pnl: memory_usage=rss=11.274GB vms=15.377GB mem_pct=18%\n",
      "StrategyEvaluator.compute_pnl: memory_usage=rss=11.285GB vms=15.388GB mem_pct=18%\n",
      "StrategyEvaluator.compute_pnl: memory_usage=rss=11.295GB vms=15.399GB mem_pct=18%\n",
      "StrategyEvaluator.compute_pnl: memory_usage=rss=11.306GB vms=15.410GB mem_pct=18%\n",
      "StrategyEvaluator.compute_pnl: memory_usage=rss=11.317GB vms=15.420GB mem_pct=18%\n",
      "StrategyEvaluator.compute_pnl: memory_usage=rss=11.328GB vms=15.431GB mem_pct=18%\n",
      "StrategyEvaluator.compute_pnl: memory_usage=rss=11.328GB vms=15.431GB mem_pct=18%\n",
      "StrategyEvaluator.compute_pnl: memory_usage=rss=11.342GB vms=15.445GB mem_pct=18%\n",
      "StrategyEvaluator.compute_pnl: memory_usage=rss=11.355GB vms=15.458GB mem_pct=18%\n",
      "StrategyEvaluator.compute_pnl: memory_usage=rss=11.366GB vms=15.469GB mem_pct=18%\n",
      "StrategyEvaluator.compute_pnl: memory_usage=rss=11.377GB vms=15.480GB mem_pct=18%\n",
      "StrategyEvaluator.compute_pnl: memory_usage=rss=11.377GB vms=15.480GB mem_pct=18%\n",
      "StrategyEvaluator.compute_pnl: memory_usage=rss=11.390GB vms=15.493GB mem_pct=18%\n",
      "StrategyEvaluator.compute_pnl: memory_usage=rss=11.403GB vms=15.506GB mem_pct=18%\n",
      "StrategyEvaluator.compute_pnl: memory_usage=rss=11.411GB vms=15.514GB mem_pct=18%\n",
      "StrategyEvaluator.compute_pnl: memory_usage=rss=11.424GB vms=15.527GB mem_pct=18%\n",
      "StrategyEvaluator.compute_pnl: memory_usage=rss=11.437GB vms=15.540GB mem_pct=18%\n",
      "StrategyEvaluator.compute_pnl: memory_usage=rss=11.440GB vms=15.543GB mem_pct=18%\n"
     ]
    },
    {
     "name": "stdout",
     "output_type": "stream",
     "text": [
      "StrategyEvaluator.compute_pnl: memory_usage=rss=11.454GB vms=15.557GB mem_pct=18%\n",
      "StrategyEvaluator.compute_pnl: memory_usage=rss=11.467GB vms=15.570GB mem_pct=19%\n",
      "StrategyEvaluator.compute_pnl: memory_usage=rss=11.478GB vms=15.581GB mem_pct=19%\n",
      "StrategyEvaluator.compute_pnl: memory_usage=rss=11.488GB vms=15.592GB mem_pct=19%\n",
      "StrategyEvaluator.compute_pnl: memory_usage=rss=11.499GB vms=15.603GB mem_pct=19%\n",
      "StrategyEvaluator.compute_pnl: memory_usage=rss=11.510GB vms=15.614GB mem_pct=19%\n",
      "StrategyEvaluator.compute_pnl: memory_usage=rss=11.521GB vms=15.625GB mem_pct=19%\n",
      "StrategyEvaluator.compute_pnl: memory_usage=rss=11.521GB vms=15.625GB mem_pct=19%\n",
      "StrategyEvaluator.compute_pnl: memory_usage=rss=11.521GB vms=15.625GB mem_pct=19%\n",
      "StrategyEvaluator.compute_pnl: memory_usage=rss=11.537GB vms=15.641GB mem_pct=19%\n",
      "StrategyEvaluator.compute_pnl: memory_usage=rss=11.551GB vms=15.654GB mem_pct=19%\n",
      "StrategyEvaluator.compute_pnl: memory_usage=rss=11.561GB vms=15.665GB mem_pct=19%\n",
      "StrategyEvaluator.compute_pnl: memory_usage=rss=11.572GB vms=15.676GB mem_pct=19%\n",
      "StrategyEvaluator.compute_pnl: memory_usage=rss=11.572GB vms=15.676GB mem_pct=19%\n",
      "StrategyEvaluator.compute_pnl: memory_usage=rss=11.587GB vms=15.690GB mem_pct=19%\n",
      "StrategyEvaluator.compute_pnl: memory_usage=rss=11.600GB vms=15.703GB mem_pct=19%\n",
      "StrategyEvaluator.compute_pnl: memory_usage=rss=11.611GB vms=15.714GB mem_pct=19%\n",
      "StrategyEvaluator.compute_pnl: memory_usage=rss=11.622GB vms=15.725GB mem_pct=19%\n",
      "StrategyEvaluator.compute_pnl: memory_usage=rss=11.632GB vms=15.736GB mem_pct=19%\n",
      "StrategyEvaluator.compute_pnl: memory_usage=rss=11.643GB vms=15.747GB mem_pct=19%\n",
      "StrategyEvaluator.compute_pnl: memory_usage=rss=11.654GB vms=15.758GB mem_pct=19%\n",
      "StrategyEvaluator.compute_pnl: memory_usage=rss=11.665GB vms=15.768GB mem_pct=19%\n",
      "StrategyEvaluator.compute_pnl: memory_usage=rss=11.676GB vms=15.779GB mem_pct=19%\n",
      "StrategyEvaluator.compute_pnl: memory_usage=rss=11.687GB vms=15.790GB mem_pct=19%\n",
      "StrategyEvaluator.compute_pnl: memory_usage=rss=11.698GB vms=15.801GB mem_pct=19%\n",
      "StrategyEvaluator.compute_pnl: memory_usage=rss=11.709GB vms=15.812GB mem_pct=19%\n",
      "StrategyEvaluator.compute_pnl: memory_usage=rss=11.715GB vms=15.818GB mem_pct=19%\n",
      "StrategyEvaluator.compute_pnl: memory_usage=rss=11.729GB vms=15.832GB mem_pct=19%\n",
      "StrategyEvaluator.compute_pnl: memory_usage=rss=11.742GB vms=15.845GB mem_pct=19%\n",
      "StrategyEvaluator.compute_pnl: memory_usage=rss=11.753GB vms=15.856GB mem_pct=19%\n",
      "StrategyEvaluator.compute_pnl: memory_usage=rss=11.764GB vms=15.867GB mem_pct=19%\n",
      "StrategyEvaluator.compute_pnl: memory_usage=rss=11.775GB vms=15.878GB mem_pct=19%\n",
      "StrategyEvaluator.compute_pnl: memory_usage=rss=11.786GB vms=15.889GB mem_pct=19%\n",
      "StrategyEvaluator.compute_pnl: memory_usage=rss=11.796GB vms=15.900GB mem_pct=19%\n",
      "StrategyEvaluator.compute_pnl: memory_usage=rss=11.807GB vms=15.911GB mem_pct=19%\n",
      "StrategyEvaluator.compute_pnl: memory_usage=rss=11.818GB vms=15.922GB mem_pct=19%\n",
      "StrategyEvaluator.compute_pnl: memory_usage=rss=11.829GB vms=15.933GB mem_pct=19%\n",
      "StrategyEvaluator.compute_pnl: memory_usage=rss=11.840GB vms=15.943GB mem_pct=19%\n",
      "StrategyEvaluator.compute_pnl: memory_usage=rss=11.851GB vms=15.954GB mem_pct=19%\n",
      "StrategyEvaluator.compute_pnl: memory_usage=rss=11.862GB vms=15.965GB mem_pct=19%\n",
      "StrategyEvaluator.compute_pnl: memory_usage=rss=11.873GB vms=15.976GB mem_pct=19%\n",
      "StrategyEvaluator.compute_pnl: memory_usage=rss=11.884GB vms=15.987GB mem_pct=19%\n",
      "StrategyEvaluator.compute_pnl: memory_usage=rss=11.895GB vms=15.998GB mem_pct=19%\n",
      "StrategyEvaluator.compute_pnl: memory_usage=rss=11.905GB vms=16.009GB mem_pct=19%\n",
      "StrategyEvaluator.compute_pnl: memory_usage=rss=11.916GB vms=16.020GB mem_pct=19%\n",
      "StrategyEvaluator.compute_pnl: memory_usage=rss=11.927GB vms=16.030GB mem_pct=19%\n",
      "StrategyEvaluator.compute_pnl: memory_usage=rss=11.938GB vms=16.041GB mem_pct=19%\n",
      "StrategyEvaluator.compute_pnl: memory_usage=rss=11.949GB vms=16.052GB mem_pct=19%\n",
      "StrategyEvaluator.compute_pnl: memory_usage=rss=11.952GB vms=16.056GB mem_pct=19%\n",
      "StrategyEvaluator.compute_pnl: memory_usage=rss=11.964GB vms=16.068GB mem_pct=19%\n",
      "StrategyEvaluator.compute_pnl: memory_usage=rss=11.980GB vms=16.084GB mem_pct=19%\n",
      "StrategyEvaluator.compute_pnl: memory_usage=rss=11.994GB vms=16.097GB mem_pct=19%\n",
      "StrategyEvaluator.compute_pnl: memory_usage=rss=11.996GB vms=16.099GB mem_pct=19%\n",
      "StrategyEvaluator.compute_pnl: memory_usage=rss=12.010GB vms=16.113GB mem_pct=19%\n",
      "StrategyEvaluator.compute_pnl: memory_usage=rss=12.023GB vms=16.126GB mem_pct=19%\n",
      "StrategyEvaluator.compute_pnl: memory_usage=rss=12.034GB vms=16.137GB mem_pct=19%\n",
      "StrategyEvaluator.compute_pnl: memory_usage=rss=12.045GB vms=16.148GB mem_pct=19%\n",
      "StrategyEvaluator.compute_pnl: memory_usage=rss=12.056GB vms=16.159GB mem_pct=19%\n",
      "StrategyEvaluator.compute_pnl: memory_usage=rss=12.066GB vms=16.170GB mem_pct=19%\n",
      "StrategyEvaluator.compute_pnl: memory_usage=rss=12.080GB vms=16.183GB mem_pct=19%\n",
      "StrategyEvaluator.compute_pnl: memory_usage=rss=12.090GB vms=16.194GB mem_pct=20%\n",
      "StrategyEvaluator.compute_pnl: memory_usage=rss=12.101GB vms=16.205GB mem_pct=20%\n",
      "StrategyEvaluator.compute_pnl: memory_usage=rss=12.112GB vms=16.215GB mem_pct=20%\n",
      "StrategyEvaluator.compute_pnl: memory_usage=rss=12.123GB vms=16.226GB mem_pct=20%\n",
      "StrategyEvaluator.compute_pnl: memory_usage=rss=12.134GB vms=16.237GB mem_pct=20%\n",
      "StrategyEvaluator.compute_pnl: memory_usage=rss=12.145GB vms=16.248GB mem_pct=20%\n",
      "StrategyEvaluator.compute_pnl: memory_usage=rss=12.156GB vms=16.259GB mem_pct=20%\n",
      "StrategyEvaluator.compute_pnl: memory_usage=rss=12.167GB vms=16.270GB mem_pct=20%\n",
      "StrategyEvaluator.compute_pnl: memory_usage=rss=12.167GB vms=16.270GB mem_pct=20%\n",
      "StrategyEvaluator.compute_pnl: memory_usage=rss=12.182GB vms=16.286GB mem_pct=20%\n",
      "StrategyEvaluator.compute_pnl: memory_usage=rss=12.191GB vms=16.294GB mem_pct=20%\n",
      "StrategyEvaluator.compute_pnl: memory_usage=rss=12.205GB vms=16.308GB mem_pct=20%\n",
      "StrategyEvaluator.compute_pnl: memory_usage=rss=12.214GB vms=16.317GB mem_pct=20%\n",
      "StrategyEvaluator.compute_pnl: memory_usage=rss=12.228GB vms=16.331GB mem_pct=20%\n",
      "StrategyEvaluator.compute_pnl: memory_usage=rss=12.239GB vms=16.342GB mem_pct=20%\n",
      "StrategyEvaluator.compute_pnl: memory_usage=rss=12.239GB vms=16.342GB mem_pct=20%\n",
      "StrategyEvaluator.compute_pnl: memory_usage=rss=12.252GB vms=16.355GB mem_pct=20%\n",
      "StrategyEvaluator.compute_pnl: memory_usage=rss=12.260GB vms=16.363GB mem_pct=20%\n",
      "StrategyEvaluator.compute_pnl: memory_usage=rss=12.274GB vms=16.378GB mem_pct=20%\n",
      "StrategyEvaluator.compute_pnl: memory_usage=rss=12.285GB vms=16.388GB mem_pct=20%\n",
      "StrategyEvaluator.compute_pnl: memory_usage=rss=12.296GB vms=16.399GB mem_pct=20%\n",
      "StrategyEvaluator.compute_pnl: memory_usage=rss=12.307GB vms=16.410GB mem_pct=20%\n",
      "StrategyEvaluator.compute_pnl: memory_usage=rss=12.318GB vms=16.421GB mem_pct=20%\n",
      "StrategyEvaluator.compute_pnl: memory_usage=rss=12.329GB vms=16.432GB mem_pct=20%\n",
      "StrategyEvaluator.compute_pnl: memory_usage=rss=12.339GB vms=16.443GB mem_pct=20%\n",
      "StrategyEvaluator.compute_pnl: memory_usage=rss=12.350GB vms=16.454GB mem_pct=20%\n",
      "StrategyEvaluator.compute_pnl: memory_usage=rss=12.361GB vms=16.465GB mem_pct=20%\n",
      "StrategyEvaluator.compute_pnl: memory_usage=rss=12.372GB vms=16.475GB mem_pct=20%\n",
      "StrategyEvaluator.compute_pnl: memory_usage=rss=12.383GB vms=16.486GB mem_pct=20%\n",
      "StrategyEvaluator.compute_pnl: memory_usage=rss=12.394GB vms=16.497GB mem_pct=20%\n",
      "StrategyEvaluator.compute_pnl: memory_usage=rss=12.405GB vms=16.508GB mem_pct=20%\n",
      "StrategyEvaluator.compute_pnl: memory_usage=rss=12.416GB vms=16.519GB mem_pct=20%\n",
      "StrategyEvaluator.compute_pnl: memory_usage=rss=12.427GB vms=16.530GB mem_pct=20%\n",
      "StrategyEvaluator.compute_pnl: memory_usage=rss=12.437GB vms=16.541GB mem_pct=20%\n",
      "StrategyEvaluator.compute_pnl: memory_usage=rss=12.448GB vms=16.552GB mem_pct=20%\n",
      "StrategyEvaluator.compute_pnl: memory_usage=rss=12.459GB vms=16.563GB mem_pct=20%\n",
      "StrategyEvaluator.compute_pnl: memory_usage=rss=12.470GB vms=16.573GB mem_pct=20%\n",
      "StrategyEvaluator.compute_pnl: memory_usage=rss=12.481GB vms=16.584GB mem_pct=20%\n",
      "StrategyEvaluator.compute_pnl: memory_usage=rss=12.492GB vms=16.595GB mem_pct=20%\n",
      "StrategyEvaluator.compute_pnl: memory_usage=rss=12.503GB vms=16.606GB mem_pct=20%\n"
     ]
    },
    {
     "name": "stdout",
     "output_type": "stream",
     "text": [
      "StrategyEvaluator.compute_pnl: memory_usage=rss=12.514GB vms=16.617GB mem_pct=20%\n",
      "StrategyEvaluator.compute_pnl: memory_usage=rss=12.524GB vms=16.628GB mem_pct=20%\n",
      "StrategyEvaluator.compute_pnl: memory_usage=rss=12.535GB vms=16.639GB mem_pct=20%\n",
      "StrategyEvaluator.compute_pnl: memory_usage=rss=12.546GB vms=16.650GB mem_pct=20%\n",
      "StrategyEvaluator.compute_pnl: memory_usage=rss=12.557GB vms=16.660GB mem_pct=20%\n",
      "StrategyEvaluator.compute_pnl: memory_usage=rss=12.568GB vms=16.671GB mem_pct=20%\n",
      "StrategyEvaluator.compute_pnl: memory_usage=rss=12.579GB vms=16.682GB mem_pct=20%\n",
      "StrategyEvaluator.compute_pnl: memory_usage=rss=12.579GB vms=16.682GB mem_pct=20%\n",
      "StrategyEvaluator.compute_pnl: memory_usage=rss=12.591GB vms=16.695GB mem_pct=20%\n",
      "StrategyEvaluator.compute_pnl: memory_usage=rss=12.604GB vms=16.708GB mem_pct=20%\n",
      "StrategyEvaluator.compute_pnl: memory_usage=rss=12.615GB vms=16.719GB mem_pct=20%\n",
      "StrategyEvaluator.compute_pnl: memory_usage=rss=12.626GB vms=16.729GB mem_pct=20%\n",
      "StrategyEvaluator.compute_pnl: memory_usage=rss=12.637GB vms=16.740GB mem_pct=20%\n",
      "StrategyEvaluator.compute_pnl: memory_usage=rss=12.648GB vms=16.751GB mem_pct=20%\n",
      "StrategyEvaluator.compute_pnl: memory_usage=rss=12.659GB vms=16.762GB mem_pct=20%\n",
      "StrategyEvaluator.compute_pnl: memory_usage=rss=12.670GB vms=16.773GB mem_pct=20%\n",
      "StrategyEvaluator.compute_pnl: memory_usage=rss=12.681GB vms=16.784GB mem_pct=20%\n",
      "StrategyEvaluator.compute_pnl: memory_usage=rss=12.691GB vms=16.795GB mem_pct=20%\n",
      "StrategyEvaluator.compute_pnl: memory_usage=rss=12.702GB vms=16.806GB mem_pct=20%\n",
      "StrategyEvaluator.compute_pnl: memory_usage=rss=12.713GB vms=16.816GB mem_pct=21%\n",
      "StrategyEvaluator.compute_pnl: memory_usage=rss=12.724GB vms=16.827GB mem_pct=21%\n",
      "StrategyEvaluator.compute_pnl: memory_usage=rss=12.735GB vms=16.838GB mem_pct=21%\n",
      "StrategyEvaluator.compute_pnl: memory_usage=rss=12.746GB vms=16.849GB mem_pct=21%\n",
      "StrategyEvaluator.compute_pnl: memory_usage=rss=12.757GB vms=16.860GB mem_pct=21%\n",
      "StrategyEvaluator.compute_pnl: memory_usage=rss=12.768GB vms=16.871GB mem_pct=21%\n",
      "StrategyEvaluator.compute_pnl: memory_usage=rss=12.778GB vms=16.882GB mem_pct=21%\n",
      "StrategyEvaluator.compute_pnl: memory_usage=rss=12.789GB vms=16.893GB mem_pct=21%\n",
      "StrategyEvaluator.compute_pnl: memory_usage=rss=12.800GB vms=16.904GB mem_pct=21%\n",
      "StrategyEvaluator.compute_pnl: memory_usage=rss=12.811GB vms=16.914GB mem_pct=21%\n",
      "StrategyEvaluator.compute_pnl: memory_usage=rss=12.822GB vms=16.925GB mem_pct=21%\n",
      "StrategyEvaluator.compute_pnl: memory_usage=rss=12.833GB vms=16.936GB mem_pct=21%\n",
      "StrategyEvaluator.compute_pnl: memory_usage=rss=12.844GB vms=16.947GB mem_pct=21%\n",
      "StrategyEvaluator.compute_pnl: memory_usage=rss=12.850GB vms=16.953GB mem_pct=21%\n",
      "StrategyEvaluator.compute_pnl: memory_usage=rss=12.864GB vms=16.967GB mem_pct=21%\n",
      "StrategyEvaluator.compute_pnl: memory_usage=rss=12.868GB vms=16.972GB mem_pct=21%\n",
      "StrategyEvaluator.compute_pnl: memory_usage=rss=12.883GB vms=16.986GB mem_pct=21%\n",
      "StrategyEvaluator.compute_pnl: memory_usage=rss=12.896GB vms=16.999GB mem_pct=21%\n",
      "StrategyEvaluator.compute_pnl: memory_usage=rss=12.907GB vms=17.010GB mem_pct=21%\n",
      "StrategyEvaluator.compute_pnl: memory_usage=rss=12.917GB vms=17.021GB mem_pct=21%\n",
      "StrategyEvaluator.compute_pnl: memory_usage=rss=12.928GB vms=17.032GB mem_pct=21%\n",
      "StrategyEvaluator.compute_pnl: memory_usage=rss=12.939GB vms=17.042GB mem_pct=21%\n",
      "StrategyEvaluator.compute_pnl: memory_usage=rss=12.950GB vms=17.053GB mem_pct=21%\n",
      "StrategyEvaluator.compute_pnl: memory_usage=rss=12.961GB vms=17.064GB mem_pct=21%\n",
      "StrategyEvaluator.compute_pnl: memory_usage=rss=12.972GB vms=17.075GB mem_pct=21%\n",
      "StrategyEvaluator.compute_pnl: memory_usage=rss=12.983GB vms=17.086GB mem_pct=21%\n",
      "StrategyEvaluator.compute_pnl: memory_usage=rss=12.994GB vms=17.097GB mem_pct=21%\n",
      "StrategyEvaluator.compute_pnl: memory_usage=rss=13.004GB vms=17.108GB mem_pct=21%\n",
      "StrategyEvaluator.compute_pnl: memory_usage=rss=13.014GB vms=17.117GB mem_pct=21%\n",
      "StrategyEvaluator.compute_pnl: memory_usage=rss=13.014GB vms=17.117GB mem_pct=21%\n",
      "StrategyEvaluator.compute_pnl: memory_usage=rss=13.029GB vms=17.132GB mem_pct=21%\n",
      "StrategyEvaluator.compute_pnl: memory_usage=rss=13.029GB vms=17.132GB mem_pct=21%\n",
      "StrategyEvaluator.compute_pnl: memory_usage=rss=13.044GB vms=17.147GB mem_pct=21%\n",
      "StrategyEvaluator.compute_pnl: memory_usage=rss=13.057GB vms=17.160GB mem_pct=21%\n",
      "StrategyEvaluator.compute_pnl: memory_usage=rss=13.068GB vms=17.171GB mem_pct=21%\n",
      "StrategyEvaluator.compute_pnl: memory_usage=rss=13.079GB vms=17.182GB mem_pct=21%\n",
      "StrategyEvaluator.compute_pnl: memory_usage=rss=13.083GB vms=17.186GB mem_pct=21%\n",
      "StrategyEvaluator.compute_pnl: memory_usage=rss=13.083GB vms=17.186GB mem_pct=21%\n",
      "StrategyEvaluator.compute_pnl: memory_usage=rss=13.099GB vms=17.202GB mem_pct=21%\n",
      "StrategyEvaluator.compute_pnl: memory_usage=rss=13.115GB vms=17.218GB mem_pct=21%\n",
      "StrategyEvaluator.compute_pnl: memory_usage=rss=13.128GB vms=17.231GB mem_pct=21%\n",
      "StrategyEvaluator.compute_pnl: memory_usage=rss=13.139GB vms=17.242GB mem_pct=21%\n",
      "StrategyEvaluator.compute_pnl: memory_usage=rss=13.150GB vms=17.253GB mem_pct=21%\n",
      "StrategyEvaluator.compute_pnl: memory_usage=rss=13.161GB vms=17.264GB mem_pct=21%\n",
      "StrategyEvaluator.compute_pnl: memory_usage=rss=13.171GB vms=17.275GB mem_pct=21%\n",
      "StrategyEvaluator.compute_pnl: memory_usage=rss=13.172GB vms=17.275GB mem_pct=21%\n",
      "StrategyEvaluator.compute_pnl: memory_usage=rss=13.187GB vms=17.290GB mem_pct=21%\n",
      "StrategyEvaluator.compute_pnl: memory_usage=rss=13.200GB vms=17.303GB mem_pct=21%\n",
      "StrategyEvaluator.compute_pnl: memory_usage=rss=13.211GB vms=17.314GB mem_pct=21%\n",
      "StrategyEvaluator.compute_pnl: memory_usage=rss=13.222GB vms=17.325GB mem_pct=21%\n",
      "StrategyEvaluator.compute_pnl: memory_usage=rss=13.233GB vms=17.336GB mem_pct=21%\n",
      "StrategyEvaluator.compute_pnl: memory_usage=rss=13.244GB vms=17.347GB mem_pct=21%\n",
      "StrategyEvaluator.compute_pnl: memory_usage=rss=13.254GB vms=17.357GB mem_pct=21%\n",
      "StrategyEvaluator.compute_pnl: memory_usage=rss=13.267GB vms=17.371GB mem_pct=21%\n",
      "StrategyEvaluator.compute_pnl: memory_usage=rss=13.278GB vms=17.381GB mem_pct=21%\n",
      "StrategyEvaluator.compute_pnl: memory_usage=rss=13.289GB vms=17.392GB mem_pct=21%\n",
      "StrategyEvaluator.compute_pnl: memory_usage=rss=13.300GB vms=17.403GB mem_pct=21%\n",
      "StrategyEvaluator.compute_pnl: memory_usage=rss=13.311GB vms=17.414GB mem_pct=21%\n",
      "StrategyEvaluator.compute_pnl: memory_usage=rss=13.322GB vms=17.425GB mem_pct=21%\n",
      "StrategyEvaluator.compute_pnl: memory_usage=rss=13.332GB vms=17.436GB mem_pct=22%\n",
      "StrategyEvaluator.compute_pnl: memory_usage=rss=13.343GB vms=17.447GB mem_pct=22%\n",
      "StrategyEvaluator.compute_pnl: memory_usage=rss=13.354GB vms=17.458GB mem_pct=22%\n",
      "StrategyEvaluator.compute_pnl: memory_usage=rss=13.364GB vms=17.467GB mem_pct=22%\n",
      "StrategyEvaluator.compute_pnl: memory_usage=rss=13.378GB vms=17.481GB mem_pct=22%\n",
      "StrategyEvaluator.compute_pnl: memory_usage=rss=13.389GB vms=17.492GB mem_pct=22%\n",
      "StrategyEvaluator.compute_pnl: memory_usage=rss=13.399GB vms=17.503GB mem_pct=22%\n",
      "StrategyEvaluator.compute_pnl: memory_usage=rss=13.410GB vms=17.514GB mem_pct=22%\n",
      "StrategyEvaluator.compute_pnl: memory_usage=rss=13.421GB vms=17.524GB mem_pct=22%\n",
      "StrategyEvaluator.compute_pnl: memory_usage=rss=13.432GB vms=17.535GB mem_pct=22%\n",
      "StrategyEvaluator.compute_pnl: memory_usage=rss=13.443GB vms=17.546GB mem_pct=22%\n",
      "StrategyEvaluator.compute_pnl: memory_usage=rss=13.443GB vms=17.546GB mem_pct=22%\n",
      "StrategyEvaluator.compute_pnl: memory_usage=rss=13.455GB vms=17.558GB mem_pct=22%\n",
      "StrategyEvaluator.compute_pnl: memory_usage=rss=13.468GB vms=17.571GB mem_pct=22%\n",
      "StrategyEvaluator.compute_pnl: memory_usage=rss=13.479GB vms=17.582GB mem_pct=22%\n",
      "StrategyEvaluator.compute_pnl: memory_usage=rss=13.490GB vms=17.593GB mem_pct=22%\n",
      "StrategyEvaluator.compute_pnl: memory_usage=rss=13.501GB vms=17.604GB mem_pct=22%\n",
      "StrategyEvaluator.compute_pnl: memory_usage=rss=13.501GB vms=17.604GB mem_pct=22%\n",
      "StrategyEvaluator.compute_pnl: memory_usage=rss=13.514GB vms=17.617GB mem_pct=22%\n",
      "StrategyEvaluator.compute_pnl: memory_usage=rss=13.527GB vms=17.630GB mem_pct=22%\n",
      "StrategyEvaluator.compute_pnl: memory_usage=rss=13.538GB vms=17.641GB mem_pct=22%\n",
      "StrategyEvaluator.compute_pnl: memory_usage=rss=13.538GB vms=17.641GB mem_pct=22%\n"
     ]
    },
    {
     "name": "stdout",
     "output_type": "stream",
     "text": [
      "StrategyEvaluator.compute_pnl: memory_usage=rss=13.553GB vms=17.656GB mem_pct=22%\n",
      "StrategyEvaluator.compute_pnl: memory_usage=rss=13.566GB vms=17.669GB mem_pct=22%\n",
      "StrategyEvaluator.compute_pnl: memory_usage=rss=13.577GB vms=17.680GB mem_pct=22%\n",
      "StrategyEvaluator.compute_pnl: memory_usage=rss=13.588GB vms=17.691GB mem_pct=22%\n",
      "StrategyEvaluator.compute_pnl: memory_usage=rss=13.599GB vms=17.702GB mem_pct=22%\n",
      "StrategyEvaluator.compute_pnl: memory_usage=rss=13.610GB vms=17.713GB mem_pct=22%\n",
      "StrategyEvaluator.compute_pnl: memory_usage=rss=13.620GB vms=17.724GB mem_pct=22%\n",
      "StrategyEvaluator.compute_pnl: memory_usage=rss=13.631GB vms=17.735GB mem_pct=22%\n",
      "StrategyEvaluator.compute_pnl: memory_usage=rss=13.642GB vms=17.746GB mem_pct=22%\n",
      "StrategyEvaluator.compute_pnl: memory_usage=rss=13.642GB vms=17.746GB mem_pct=22%\n",
      "StrategyEvaluator.compute_pnl: memory_usage=rss=13.648GB vms=17.751GB mem_pct=22%\n",
      "StrategyEvaluator.compute_pnl: memory_usage=rss=13.664GB vms=17.767GB mem_pct=22%\n",
      "StrategyEvaluator.compute_pnl: memory_usage=rss=13.677GB vms=17.780GB mem_pct=22%\n",
      "StrategyEvaluator.compute_pnl: memory_usage=rss=13.687GB vms=17.791GB mem_pct=22%\n",
      "StrategyEvaluator.compute_pnl: memory_usage=rss=13.698GB vms=17.802GB mem_pct=22%\n",
      "StrategyEvaluator.compute_pnl: memory_usage=rss=13.709GB vms=17.813GB mem_pct=22%\n",
      "StrategyEvaluator.compute_pnl: memory_usage=rss=13.720GB vms=17.824GB mem_pct=22%\n",
      "StrategyEvaluator.compute_pnl: memory_usage=rss=13.731GB vms=17.834GB mem_pct=22%\n",
      "StrategyEvaluator.compute_pnl: memory_usage=rss=13.744GB vms=17.847GB mem_pct=22%\n",
      "StrategyEvaluator.compute_pnl: memory_usage=rss=13.755GB vms=17.858GB mem_pct=22%\n",
      "StrategyEvaluator.compute_pnl: memory_usage=rss=13.766GB vms=17.869GB mem_pct=22%\n",
      "StrategyEvaluator.compute_pnl: memory_usage=rss=13.777GB vms=17.880GB mem_pct=22%\n",
      "StrategyEvaluator.compute_pnl: memory_usage=rss=13.787GB vms=17.891GB mem_pct=22%\n",
      "StrategyEvaluator.compute_pnl: memory_usage=rss=13.798GB vms=17.902GB mem_pct=22%\n",
      "StrategyEvaluator.compute_pnl: memory_usage=rss=13.809GB vms=17.913GB mem_pct=22%\n",
      "StrategyEvaluator.compute_pnl: memory_usage=rss=13.820GB vms=17.923GB mem_pct=22%\n",
      "StrategyEvaluator.compute_pnl: memory_usage=rss=13.831GB vms=17.934GB mem_pct=22%\n",
      "StrategyEvaluator.compute_pnl: memory_usage=rss=13.842GB vms=17.945GB mem_pct=22%\n",
      "StrategyEvaluator.compute_pnl: memory_usage=rss=13.853GB vms=17.956GB mem_pct=22%\n",
      "StrategyEvaluator.compute_pnl: memory_usage=rss=13.864GB vms=17.967GB mem_pct=22%\n",
      "StrategyEvaluator.compute_pnl: memory_usage=rss=13.874GB vms=17.978GB mem_pct=22%\n",
      "StrategyEvaluator.compute_pnl: memory_usage=rss=13.885GB vms=17.989GB mem_pct=22%\n",
      "StrategyEvaluator.compute_pnl: memory_usage=rss=13.886GB vms=17.989GB mem_pct=22%\n",
      "StrategyEvaluator.compute_pnl: memory_usage=rss=13.898GB vms=18.001GB mem_pct=22%\n",
      "StrategyEvaluator.compute_pnl: memory_usage=rss=13.906GB vms=18.010GB mem_pct=22%\n",
      "StrategyEvaluator.compute_pnl: memory_usage=rss=13.920GB vms=18.024GB mem_pct=22%\n",
      "StrategyEvaluator.compute_pnl: memory_usage=rss=13.931GB vms=18.035GB mem_pct=22%\n",
      "StrategyEvaluator.compute_pnl: memory_usage=rss=13.942GB vms=18.045GB mem_pct=22%\n",
      "StrategyEvaluator.compute_pnl: memory_usage=rss=13.953GB vms=18.056GB mem_pct=23%\n",
      "StrategyEvaluator.compute_pnl: memory_usage=rss=13.959GB vms=18.063GB mem_pct=23%\n",
      "StrategyEvaluator.compute_pnl: memory_usage=rss=13.973GB vms=18.077GB mem_pct=23%\n",
      "StrategyEvaluator.compute_pnl: memory_usage=rss=13.987GB vms=18.090GB mem_pct=23%\n",
      "StrategyEvaluator.compute_pnl: memory_usage=rss=13.998GB vms=18.101GB mem_pct=23%\n",
      "StrategyEvaluator.compute_pnl: memory_usage=rss=14.008GB vms=18.112GB mem_pct=23%\n",
      "StrategyEvaluator.compute_pnl: memory_usage=rss=14.008GB vms=18.112GB mem_pct=23%\n",
      "StrategyEvaluator.compute_pnl: memory_usage=rss=14.021GB vms=18.124GB mem_pct=23%\n",
      "StrategyEvaluator.compute_pnl: memory_usage=rss=14.034GB vms=18.137GB mem_pct=23%\n",
      "StrategyEvaluator.compute_pnl: memory_usage=rss=14.045GB vms=18.148GB mem_pct=23%\n",
      "StrategyEvaluator.compute_pnl: memory_usage=rss=14.055GB vms=18.159GB mem_pct=23%\n",
      "StrategyEvaluator.compute_pnl: memory_usage=rss=14.066GB vms=18.170GB mem_pct=23%\n",
      "StrategyEvaluator.compute_pnl: memory_usage=rss=14.077GB vms=18.181GB mem_pct=23%\n",
      "StrategyEvaluator.compute_pnl: memory_usage=rss=14.088GB vms=18.191GB mem_pct=23%\n",
      "StrategyEvaluator.compute_pnl: memory_usage=rss=14.099GB vms=18.202GB mem_pct=23%\n",
      "StrategyEvaluator.compute_pnl: memory_usage=rss=14.110GB vms=18.213GB mem_pct=23%\n",
      "StrategyEvaluator.compute_pnl: memory_usage=rss=14.121GB vms=18.224GB mem_pct=23%\n",
      "StrategyEvaluator.compute_pnl: memory_usage=rss=14.121GB vms=18.224GB mem_pct=23%\n",
      "StrategyEvaluator.compute_pnl: memory_usage=rss=14.134GB vms=18.237GB mem_pct=23%\n",
      "StrategyEvaluator.compute_pnl: memory_usage=rss=14.147GB vms=18.251GB mem_pct=23%\n",
      "StrategyEvaluator.compute_pnl: memory_usage=rss=14.147GB vms=18.251GB mem_pct=23%\n",
      "StrategyEvaluator.compute_pnl: memory_usage=rss=14.162GB vms=18.265GB mem_pct=23%\n",
      "StrategyEvaluator.compute_pnl: memory_usage=rss=14.175GB vms=18.278GB mem_pct=23%\n",
      "StrategyEvaluator.compute_pnl: memory_usage=rss=14.186GB vms=18.289GB mem_pct=23%\n",
      "StrategyEvaluator.compute_pnl: memory_usage=rss=14.196GB vms=18.300GB mem_pct=23%\n",
      "StrategyEvaluator.compute_pnl: memory_usage=rss=14.207GB vms=18.311GB mem_pct=23%\n",
      "StrategyEvaluator.compute_pnl: memory_usage=rss=14.218GB vms=18.322GB mem_pct=23%\n",
      "StrategyEvaluator.compute_pnl: memory_usage=rss=14.229GB vms=18.332GB mem_pct=23%\n",
      "StrategyEvaluator.compute_pnl: memory_usage=rss=14.240GB vms=18.343GB mem_pct=23%\n",
      "StrategyEvaluator.compute_pnl: memory_usage=rss=14.251GB vms=18.354GB mem_pct=23%\n",
      "StrategyEvaluator.compute_pnl: memory_usage=rss=14.262GB vms=18.365GB mem_pct=23%\n",
      "StrategyEvaluator.compute_pnl: memory_usage=rss=14.273GB vms=18.376GB mem_pct=23%\n",
      "StrategyEvaluator.compute_pnl: memory_usage=rss=14.284GB vms=18.387GB mem_pct=23%\n",
      "StrategyEvaluator.compute_pnl: memory_usage=rss=14.294GB vms=18.398GB mem_pct=23%\n",
      "StrategyEvaluator.compute_pnl: memory_usage=rss=14.305GB vms=18.409GB mem_pct=23%\n",
      "StrategyEvaluator.compute_pnl: memory_usage=rss=14.316GB vms=18.419GB mem_pct=23%\n",
      "StrategyEvaluator.compute_pnl: memory_usage=rss=14.327GB vms=18.430GB mem_pct=23%\n",
      "StrategyEvaluator.compute_pnl: memory_usage=rss=14.338GB vms=18.441GB mem_pct=23%\n",
      "StrategyEvaluator.compute_pnl: memory_usage=rss=14.349GB vms=18.452GB mem_pct=23%\n",
      "StrategyEvaluator.compute_pnl: memory_usage=rss=14.358GB vms=18.461GB mem_pct=23%\n",
      "StrategyEvaluator.compute_pnl: memory_usage=rss=14.372GB vms=18.475GB mem_pct=23%\n",
      "StrategyEvaluator.compute_pnl: memory_usage=rss=14.382GB vms=18.486GB mem_pct=23%\n",
      "StrategyEvaluator.compute_pnl: memory_usage=rss=14.393GB vms=18.497GB mem_pct=23%\n",
      "StrategyEvaluator.compute_pnl: memory_usage=rss=14.399GB vms=18.502GB mem_pct=23%\n",
      "StrategyEvaluator.compute_pnl: memory_usage=rss=14.414GB vms=18.517GB mem_pct=23%\n",
      "StrategyEvaluator.compute_pnl: memory_usage=rss=14.427GB vms=18.530GB mem_pct=23%\n",
      "StrategyEvaluator.compute_pnl: memory_usage=rss=14.437GB vms=18.541GB mem_pct=23%\n",
      "StrategyEvaluator.compute_pnl: memory_usage=rss=14.448GB vms=18.552GB mem_pct=23%\n",
      "StrategyEvaluator.compute_pnl: memory_usage=rss=14.459GB vms=18.562GB mem_pct=23%\n",
      "StrategyEvaluator.compute_pnl: memory_usage=rss=14.472GB vms=18.576GB mem_pct=23%\n",
      "StrategyEvaluator.compute_pnl: memory_usage=rss=14.483GB vms=18.586GB mem_pct=23%\n",
      "StrategyEvaluator.compute_pnl: memory_usage=rss=14.491GB vms=18.594GB mem_pct=23%\n",
      "StrategyEvaluator.compute_pnl: memory_usage=rss=14.504GB vms=18.608GB mem_pct=23%\n",
      "StrategyEvaluator.compute_pnl: memory_usage=rss=14.517GB vms=18.621GB mem_pct=23%\n",
      "StrategyEvaluator.compute_pnl: memory_usage=rss=14.528GB vms=18.632GB mem_pct=23%\n",
      "StrategyEvaluator.compute_pnl: memory_usage=rss=14.539GB vms=18.643GB mem_pct=23%\n",
      "StrategyEvaluator.compute_pnl: memory_usage=rss=14.550GB vms=18.653GB mem_pct=23%\n",
      "StrategyEvaluator.compute_pnl: memory_usage=rss=14.561GB vms=18.664GB mem_pct=23%\n",
      "StrategyEvaluator.compute_pnl: memory_usage=rss=14.572GB vms=18.675GB mem_pct=24%\n",
      "StrategyEvaluator.compute_pnl: memory_usage=rss=14.583GB vms=18.686GB mem_pct=24%\n",
      "StrategyEvaluator.compute_pnl: memory_usage=rss=14.583GB vms=18.686GB mem_pct=24%\n",
      "StrategyEvaluator.compute_pnl: memory_usage=rss=14.588GB vms=18.691GB mem_pct=24%\n"
     ]
    },
    {
     "name": "stdout",
     "output_type": "stream",
     "text": [
      "StrategyEvaluator.compute_pnl: memory_usage=rss=14.604GB vms=18.707GB mem_pct=24%\n",
      "StrategyEvaluator.compute_pnl: memory_usage=rss=14.617GB vms=18.720GB mem_pct=24%\n",
      "StrategyEvaluator.compute_pnl: memory_usage=rss=14.628GB vms=18.731GB mem_pct=24%\n",
      "StrategyEvaluator.compute_pnl: memory_usage=rss=14.628GB vms=18.731GB mem_pct=24%\n",
      "StrategyEvaluator.compute_pnl: memory_usage=rss=14.640GB vms=18.743GB mem_pct=24%\n",
      "StrategyEvaluator.compute_pnl: memory_usage=rss=14.653GB vms=18.756GB mem_pct=24%\n",
      "StrategyEvaluator.compute_pnl: memory_usage=rss=14.664GB vms=18.767GB mem_pct=24%\n",
      "StrategyEvaluator.compute_pnl: memory_usage=rss=14.675GB vms=18.778GB mem_pct=24%\n",
      "StrategyEvaluator.compute_pnl: memory_usage=rss=14.686GB vms=18.789GB mem_pct=24%\n",
      "StrategyEvaluator.compute_pnl: memory_usage=rss=14.696GB vms=18.800GB mem_pct=24%\n",
      "StrategyEvaluator.compute_pnl: memory_usage=rss=14.707GB vms=18.811GB mem_pct=24%\n",
      "StrategyEvaluator.compute_pnl: memory_usage=rss=14.718GB vms=18.821GB mem_pct=24%\n",
      "StrategyEvaluator.compute_pnl: memory_usage=rss=14.724GB vms=18.828GB mem_pct=24%\n",
      "StrategyEvaluator.compute_pnl: memory_usage=rss=14.739GB vms=18.842GB mem_pct=24%\n",
      "StrategyEvaluator.compute_pnl: memory_usage=rss=14.752GB vms=18.855GB mem_pct=24%\n",
      "StrategyEvaluator.compute_pnl: memory_usage=rss=14.763GB vms=18.866GB mem_pct=24%\n",
      "StrategyEvaluator.compute_pnl: memory_usage=rss=14.773GB vms=18.877GB mem_pct=24%\n",
      "StrategyEvaluator.compute_pnl: memory_usage=rss=14.784GB vms=18.888GB mem_pct=24%\n",
      "StrategyEvaluator.compute_pnl: memory_usage=rss=14.793GB vms=18.897GB mem_pct=24%\n",
      "StrategyEvaluator.compute_pnl: memory_usage=rss=14.793GB vms=18.897GB mem_pct=24%\n",
      "StrategyEvaluator.compute_pnl: memory_usage=rss=14.808GB vms=18.912GB mem_pct=24%\n",
      "StrategyEvaluator.compute_pnl: memory_usage=rss=14.821GB vms=18.925GB mem_pct=24%\n",
      "StrategyEvaluator.compute_pnl: memory_usage=rss=14.832GB vms=18.936GB mem_pct=24%\n",
      "StrategyEvaluator.compute_pnl: memory_usage=rss=14.843GB vms=18.947GB mem_pct=24%\n",
      "StrategyEvaluator.compute_pnl: memory_usage=rss=14.854GB vms=18.957GB mem_pct=24%\n",
      "StrategyEvaluator.compute_pnl: memory_usage=rss=14.865GB vms=18.968GB mem_pct=24%\n",
      "StrategyEvaluator.compute_pnl: memory_usage=rss=14.865GB vms=18.968GB mem_pct=24%\n",
      "StrategyEvaluator.compute_pnl: memory_usage=rss=14.879GB vms=18.982GB mem_pct=24%\n",
      "StrategyEvaluator.compute_pnl: memory_usage=rss=14.892GB vms=18.995GB mem_pct=24%\n",
      "StrategyEvaluator.compute_pnl: memory_usage=rss=14.903GB vms=19.006GB mem_pct=24%\n",
      "StrategyEvaluator.compute_pnl: memory_usage=rss=14.914GB vms=19.017GB mem_pct=24%\n",
      "StrategyEvaluator.compute_pnl: memory_usage=rss=14.914GB vms=19.017GB mem_pct=24%\n",
      "StrategyEvaluator.compute_pnl: memory_usage=rss=14.926GB vms=19.029GB mem_pct=24%\n",
      "StrategyEvaluator.compute_pnl: memory_usage=rss=14.939GB vms=19.042GB mem_pct=24%\n",
      "StrategyEvaluator.compute_pnl: memory_usage=rss=14.950GB vms=19.053GB mem_pct=24%\n",
      "StrategyEvaluator.compute_pnl: memory_usage=rss=14.961GB vms=19.064GB mem_pct=24%\n",
      "StrategyEvaluator.compute_pnl: memory_usage=rss=14.961GB vms=19.064GB mem_pct=24%\n",
      "StrategyEvaluator.compute_pnl: memory_usage=rss=14.972GB vms=19.076GB mem_pct=24%\n",
      "StrategyEvaluator.compute_pnl: memory_usage=rss=14.986GB vms=19.089GB mem_pct=24%\n",
      "StrategyEvaluator.compute_pnl: memory_usage=rss=14.996GB vms=19.100GB mem_pct=24%\n",
      "StrategyEvaluator.compute_pnl: memory_usage=rss=15.007GB vms=19.111GB mem_pct=24%\n",
      "StrategyEvaluator.compute_pnl: memory_usage=rss=15.018GB vms=19.121GB mem_pct=24%\n",
      "StrategyEvaluator.compute_pnl: memory_usage=rss=15.029GB vms=19.132GB mem_pct=24%\n",
      "StrategyEvaluator.compute_pnl: memory_usage=rss=15.040GB vms=19.143GB mem_pct=24%\n",
      "StrategyEvaluator.compute_pnl: memory_usage=rss=15.051GB vms=19.154GB mem_pct=24%\n",
      "StrategyEvaluator.compute_pnl: memory_usage=rss=15.062GB vms=19.165GB mem_pct=24%\n",
      "StrategyEvaluator.compute_pnl: memory_usage=rss=15.072GB vms=19.176GB mem_pct=24%\n",
      "StrategyEvaluator.compute_pnl: memory_usage=rss=15.083GB vms=19.187GB mem_pct=24%\n",
      "StrategyEvaluator.compute_pnl: memory_usage=rss=15.094GB vms=19.198GB mem_pct=24%\n",
      "StrategyEvaluator.compute_pnl: memory_usage=rss=15.105GB vms=19.208GB mem_pct=24%\n",
      "StrategyEvaluator.compute_pnl: memory_usage=rss=15.105GB vms=19.209GB mem_pct=24%\n",
      "StrategyEvaluator.compute_pnl: memory_usage=rss=15.121GB vms=19.224GB mem_pct=24%\n",
      "StrategyEvaluator.compute_pnl: memory_usage=rss=15.134GB vms=19.237GB mem_pct=24%\n",
      "StrategyEvaluator.compute_pnl: memory_usage=rss=15.145GB vms=19.248GB mem_pct=24%\n",
      "StrategyEvaluator.compute_pnl: memory_usage=rss=15.156GB vms=19.259GB mem_pct=24%\n",
      "StrategyEvaluator.compute_pnl: memory_usage=rss=15.156GB vms=19.259GB mem_pct=24%\n",
      "StrategyEvaluator.compute_pnl: memory_usage=rss=15.168GB vms=19.272GB mem_pct=24%\n",
      "StrategyEvaluator.compute_pnl: memory_usage=rss=15.182GB vms=19.285GB mem_pct=24%\n",
      "StrategyEvaluator.compute_pnl: memory_usage=rss=15.192GB vms=19.296GB mem_pct=25%\n",
      "StrategyEvaluator.compute_pnl: memory_usage=rss=15.203GB vms=19.307GB mem_pct=25%\n",
      "StrategyEvaluator.compute_pnl: memory_usage=rss=15.214GB vms=19.317GB mem_pct=25%\n",
      "StrategyEvaluator.compute_pnl: memory_usage=rss=15.225GB vms=19.328GB mem_pct=25%\n",
      "StrategyEvaluator.compute_pnl: memory_usage=rss=15.231GB vms=19.334GB mem_pct=25%\n",
      "StrategyEvaluator.compute_pnl: memory_usage=rss=15.245GB vms=19.349GB mem_pct=25%\n",
      "StrategyEvaluator.compute_pnl: memory_usage=rss=15.258GB vms=19.362GB mem_pct=25%\n",
      "StrategyEvaluator.compute_pnl: memory_usage=rss=15.269GB vms=19.372GB mem_pct=25%\n",
      "StrategyEvaluator.compute_pnl: memory_usage=rss=15.280GB vms=19.383GB mem_pct=25%\n",
      "StrategyEvaluator.compute_pnl: memory_usage=rss=15.291GB vms=19.394GB mem_pct=25%\n",
      "StrategyEvaluator.compute_pnl: memory_usage=rss=15.302GB vms=19.405GB mem_pct=25%\n",
      "StrategyEvaluator.compute_pnl: memory_usage=rss=15.313GB vms=19.416GB mem_pct=25%\n",
      "StrategyEvaluator.compute_pnl: memory_usage=rss=15.313GB vms=19.416GB mem_pct=25%\n",
      "StrategyEvaluator.compute_pnl: memory_usage=rss=15.326GB vms=19.430GB mem_pct=25%\n",
      "StrategyEvaluator.compute_pnl: memory_usage=rss=15.339GB vms=19.443GB mem_pct=25%\n",
      "StrategyEvaluator.compute_pnl: memory_usage=rss=15.350GB vms=19.454GB mem_pct=25%\n",
      "StrategyEvaluator.compute_pnl: memory_usage=rss=15.361GB vms=19.464GB mem_pct=25%\n",
      "StrategyEvaluator.compute_pnl: memory_usage=rss=15.372GB vms=19.475GB mem_pct=25%\n",
      "StrategyEvaluator.compute_pnl: memory_usage=rss=15.383GB vms=19.486GB mem_pct=25%\n",
      "StrategyEvaluator.compute_pnl: memory_usage=rss=15.394GB vms=19.497GB mem_pct=25%\n",
      "StrategyEvaluator.compute_pnl: memory_usage=rss=15.405GB vms=19.508GB mem_pct=25%\n",
      "StrategyEvaluator.compute_pnl: memory_usage=rss=15.405GB vms=19.508GB mem_pct=25%\n",
      "StrategyEvaluator.compute_pnl: memory_usage=rss=15.405GB vms=19.508GB mem_pct=25%\n",
      "StrategyEvaluator.compute_pnl: memory_usage=rss=15.405GB vms=19.508GB mem_pct=25%\n",
      "StrategyEvaluator.compute_pnl: memory_usage=rss=15.405GB vms=19.508GB mem_pct=25%\n",
      "StrategyEvaluator.compute_pnl: memory_usage=rss=15.407GB vms=19.510GB mem_pct=25%\n",
      "StrategyEvaluator.compute_pnl: memory_usage=rss=15.410GB vms=19.513GB mem_pct=25%\n",
      "StrategyEvaluator.compute_pnl: memory_usage=rss=15.412GB vms=19.515GB mem_pct=25%\n",
      "StrategyEvaluator.compute_pnl: memory_usage=rss=15.412GB vms=19.515GB mem_pct=25%\n",
      "StrategyEvaluator.compute_pnl: memory_usage=rss=15.415GB vms=19.518GB mem_pct=25%\n",
      "StrategyEvaluator.compute_pnl: memory_usage=rss=15.417GB vms=19.520GB mem_pct=25%\n",
      "StrategyEvaluator.compute_pnl: memory_usage=rss=15.419GB vms=19.522GB mem_pct=25%\n",
      "StrategyEvaluator.compute_pnl: memory_usage=rss=15.421GB vms=19.524GB mem_pct=25%\n",
      "StrategyEvaluator.compute_pnl: memory_usage=rss=15.421GB vms=19.524GB mem_pct=25%\n",
      "StrategyEvaluator.compute_pnl: memory_usage=rss=15.421GB vms=19.524GB mem_pct=25%\n"
     ]
    }
   ],
   "source": [
    "spread_fraction_paid = 0\n",
    "# keys = range(3)\n",
    "keys = None\n",
    "# result = evaluator.compute_pnl(key_type=\"attribute\", keys=keys)\n",
    "pnl_dict = evaluator.compute_pnl(\n",
    "    spread_fraction_paid, keys=keys, key_type=\"instrument\"\n",
    ")\n",
    "\n",
    "# pnl_dict[0]"
   ]
  },
  {
   "cell_type": "code",
   "execution_count": null,
   "id": "1cc15717",
   "metadata": {
    "ExecuteTime": {
     "end_time": "2021-09-16T15:44:32.669570Z",
     "start_time": "2021-09-16T15:44:32.641686Z"
    },
    "scrolled": false
   },
   "outputs": [],
   "source": [
    "# spread_fraction_paid = 0\n",
    "# evaluator.calculate_stats(spread_fraction_paid)\n",
    "\n",
    "import numpy as np"
   ]
  },
  {
   "cell_type": "code",
   "execution_count": 13,
   "id": "413c8fe2",
   "metadata": {
    "ExecuteTime": {
     "end_time": "2021-09-16T19:21:28.509467Z",
     "start_time": "2021-09-16T19:21:28.477240Z"
    }
   },
   "outputs": [],
   "source": [
    "import pandas as pd"
   ]
  },
  {
   "cell_type": "code",
   "execution_count": null,
   "id": "fe6e19ae",
   "metadata": {
    "ExecuteTime": {
     "end_time": "2021-09-16T16:03:47.692821Z",
     "start_time": "2021-09-16T16:03:47.390040Z"
    }
   },
   "outputs": [],
   "source": [
    "print(hdbg.get_memory_usage_as_str(None))\n",
    "\n",
    "# del pnl_dict\n",
    "\n",
    "import gc\n",
    "\n",
    "gc.collect()\n",
    "\n",
    "print(hdbg.get_memory_usage_as_str(None))"
   ]
  },
  {
   "cell_type": "code",
   "execution_count": 41,
   "id": "d98e0db5",
   "metadata": {
    "ExecuteTime": {
     "end_time": "2021-09-16T19:54:04.524145Z",
     "start_time": "2021-09-16T19:52:55.345813Z"
    }
   },
   "outputs": [
    {
     "name": "stdout",
     "output_type": "stream",
     "text": [
      "Before StrategyEvaluator.compute_pnl: memory_usage=rss=36.143GB vms=40.329GB mem_pct=58%\n"
     ]
    },
    {
     "data": {
      "application/vnd.jupyter.widget-view+json": {
       "model_id": "c421808d788141e8aba283762a1d0345",
       "version_major": 2,
       "version_minor": 0
      },
      "text/plain": [
       "  0%|          | 0/594 [00:00<?, ?it/s]"
      ]
     },
     "metadata": {},
     "output_type": "display_data"
    },
    {
     "name": "stdout",
     "output_type": "stream",
     "text": [
      "rss=36.144GB vms=40.330GB mem_pct=58%\n",
      "Before StrategyEvaluator.compute_pnl: memory_usage=rss=36.144GB vms=40.330GB mem_pct=58%\n"
     ]
    },
    {
     "data": {
      "application/vnd.jupyter.widget-view+json": {
       "model_id": "b25b78fbb21a4466a1efccb5f8faf3fb",
       "version_major": 2,
       "version_minor": 0
      },
      "text/plain": [
       "  0%|          | 0/594 [00:00<?, ?it/s]"
      ]
     },
     "metadata": {},
     "output_type": "display_data"
    },
    {
     "name": "stdout",
     "output_type": "stream",
     "text": [
      "rss=36.144GB vms=40.330GB mem_pct=58%\n",
      "Before StrategyEvaluator.compute_pnl: memory_usage=rss=36.144GB vms=40.330GB mem_pct=58%\n"
     ]
    },
    {
     "data": {
      "application/vnd.jupyter.widget-view+json": {
       "model_id": "36c7bfbde38f45b7b981d0721ab87579",
       "version_major": 2,
       "version_minor": 0
      },
      "text/plain": [
       "  0%|          | 0/594 [00:00<?, ?it/s]"
      ]
     },
     "metadata": {},
     "output_type": "display_data"
    },
    {
     "name": "stdout",
     "output_type": "stream",
     "text": [
      "rss=36.145GB vms=40.330GB mem_pct=58%\n",
      "Before StrategyEvaluator.compute_pnl: memory_usage=rss=36.145GB vms=40.330GB mem_pct=58%\n"
     ]
    },
    {
     "data": {
      "application/vnd.jupyter.widget-view+json": {
       "model_id": "c091e4253ada46a19699b08ff3c2a03d",
       "version_major": 2,
       "version_minor": 0
      },
      "text/plain": [
       "  0%|          | 0/594 [00:00<?, ?it/s]"
      ]
     },
     "metadata": {},
     "output_type": "display_data"
    },
    {
     "name": "stdout",
     "output_type": "stream",
     "text": [
      "rss=36.145GB vms=40.330GB mem_pct=58%\n",
      "Before StrategyEvaluator.compute_pnl: memory_usage=rss=36.145GB vms=40.330GB mem_pct=58%\n"
     ]
    },
    {
     "data": {
      "application/vnd.jupyter.widget-view+json": {
       "model_id": "5b19c64d454d4167b25adb921a56ace7",
       "version_major": 2,
       "version_minor": 0
      },
      "text/plain": [
       "  0%|          | 0/594 [00:00<?, ?it/s]"
      ]
     },
     "metadata": {},
     "output_type": "display_data"
    },
    {
     "name": "stdout",
     "output_type": "stream",
     "text": [
      "rss=36.145GB vms=40.330GB mem_pct=58%\n",
      "Before StrategyEvaluator.compute_pnl: memory_usage=rss=36.145GB vms=40.330GB mem_pct=58%\n"
     ]
    },
    {
     "data": {
      "application/vnd.jupyter.widget-view+json": {
       "model_id": "8b3ae505e4c54d309f3ac1863f91f538",
       "version_major": 2,
       "version_minor": 0
      },
      "text/plain": [
       "  0%|          | 0/594 [00:00<?, ?it/s]"
      ]
     },
     "metadata": {},
     "output_type": "display_data"
    },
    {
     "name": "stdout",
     "output_type": "stream",
     "text": [
      "rss=36.145GB vms=40.330GB mem_pct=58%\n",
      "Before StrategyEvaluator.compute_pnl: memory_usage=rss=36.145GB vms=40.330GB mem_pct=58%\n"
     ]
    },
    {
     "data": {
      "application/vnd.jupyter.widget-view+json": {
       "model_id": "ce249fcb726b46eb9000eda671c47950",
       "version_major": 2,
       "version_minor": 0
      },
      "text/plain": [
       "  0%|          | 0/594 [00:00<?, ?it/s]"
      ]
     },
     "metadata": {},
     "output_type": "display_data"
    },
    {
     "name": "stdout",
     "output_type": "stream",
     "text": [
      "rss=36.145GB vms=40.330GB mem_pct=58%\n"
     ]
    }
   ],
   "source": [
    "def _compute_pnl_dict(spread_fraction_paid):\n",
    "    # keys = range(3)\n",
    "    keys = None\n",
    "    # result = evaluator.compute_pnl(key_type=\"attribute\", keys=keys)\n",
    "    pnl_dict = evaluator.compute_pnl(\n",
    "        spread_fraction_paid, keys=keys, key_type=\"instrument\"\n",
    "    )\n",
    "    return pnl_dict\n",
    "\n",
    "\n",
    "def _get_pnl_df(pnl_dict):\n",
    "    dfs = []\n",
    "    for key in list(pnl_dict.keys()):\n",
    "        srs = pnl_dict[key][\"pnl_0\"] - pnl_dict[key][\"spread_cost_0\"]\n",
    "        srs.name = key\n",
    "        dfs.append(srs)\n",
    "    df = pd.concat(dfs, axis=1)\n",
    "    # df.resample(\"1B\").sum\n",
    "    return df\n",
    "\n",
    "\n",
    "def _aggregate_pnl(df):\n",
    "    aggr_pnl = (\n",
    "        df.resample(\"1B\")\n",
    "        .sum()\n",
    "        .drop([224, 554, 311, 384, 589, 404], axis=1)\n",
    "        .sum(axis=1)\n",
    "        .cumsum()\n",
    "    )\n",
    "    return aggr_pnl\n",
    "\n",
    "\n",
    "final_df = []\n",
    "for sfp in [-0.05, -0.03, -0.01, 0.0, 0.01, 0.02, 0.03]:\n",
    "    # for sfp in [-0.05, -0.03]:\n",
    "    pnl_dict = _compute_pnl_dict(sfp)\n",
    "\n",
    "    df = _get_pnl_df(pnl_dict)\n",
    "    # print(df.shape)\n",
    "    # df.head()\n",
    "\n",
    "    aggr_df = _aggregate_pnl(df)\n",
    "    # aggr_df.plot()\n",
    "    aggr_df.name = sfp\n",
    "    final_df.append(aggr_df)\n",
    "\n",
    "    print(hdbg.get_memory_usage_as_str(None))"
   ]
  },
  {
   "cell_type": "code",
   "execution_count": 42,
   "id": "ef7bd86b",
   "metadata": {
    "ExecuteTime": {
     "end_time": "2021-09-16T19:58:41.199354Z",
     "start_time": "2021-09-16T19:58:40.747718Z"
    }
   },
   "outputs": [
    {
     "data": {
      "text/plain": [
       "<AxesSubplot:xlabel='end_time'>"
      ]
     },
     "execution_count": 42,
     "metadata": {},
     "output_type": "execute_result"
    },
    {
     "data": {
      "image/png": "[encoded data removed]",
      "text/plain": [
       "<Figure size 1440x360 with 1 Axes>"
      ]
     },
     "metadata": {},
     "output_type": "display_data"
    }
   ],
   "source": [
    "final_df2 = pd.concat(final_df, axis=1)\n",
    "\n",
    "final_df2.plot()"
   ]
  },
  {
   "cell_type": "code",
   "execution_count": 40,
   "id": "054a1983",
   "metadata": {
    "ExecuteTime": {
     "end_time": "2021-09-16T19:41:57.963287Z",
     "start_time": "2021-09-16T19:41:57.913262Z"
    }
   },
   "outputs": [
    {
     "name": "stdout",
     "output_type": "stream",
     "text": [
      "ins -0.05    -3.689358\n",
      "-0.03     0.681758\n",
      "-0.01     5.349892\n",
      " 0.00     7.684394\n",
      " 0.01     9.953903\n",
      " 0.02    12.114064\n",
      " 0.03    14.129344\n",
      "dtype: float64\n",
      "oos -0.05   -10.545006\n",
      "-0.03    -5.292084\n",
      "-0.01     0.586564\n",
      " 0.00     3.665737\n",
      " 0.01     6.768439\n",
      " 0.02     9.836597\n",
      " 0.03    12.813622\n",
      "dtype: float64\n"
     ]
    }
   ],
   "source": [
    "def sr(srs):\n",
    "    return srs.mean() / srs.std() * np.sqrt(252)\n",
    "\n",
    "\n",
    "print(\"ins\", sr(final_df2[:\"2017-01-01\"].diff()))\n",
    "print(\"oos\", sr(final_df2[\"2017-01-01\":].diff()))"
   ]
  },
  {
   "cell_type": "markdown",
   "id": "9ac7c38a",
   "metadata": {},
   "source": [
    "# Compare to event-based"
   ]
  },
  {
   "cell_type": "code",
   "execution_count": 57,
   "id": "aee2d9f1",
   "metadata": {
    "ExecuteTime": {
     "end_time": "2021-09-16T21:25:05.503748Z",
     "start_time": "2021-09-16T21:25:04.796576Z"
    }
   },
   "outputs": [
    {
     "name": "stdout",
     "output_type": "stream",
     "text": [
      "[-0.09999999999999998, 0.0, 0.020000000000000018, 0.040000000000000036, 0.06000000000000005]\n",
      "Before StrategyEvaluator.compute_pnl: memory_usage=rss=36.220GB vms=40.405GB mem_pct=58%\n"
     ]
    },
    {
     "data": {
      "application/vnd.jupyter.widget-view+json": {
       "model_id": "e918b9386bdb46668519483eed91b9ef",
       "version_major": 2,
       "version_minor": 0
      },
      "text/plain": [
       "  0%|          | 0/1 [00:00<?, ?it/s]"
      ]
     },
     "metadata": {},
     "output_type": "display_data"
    },
    {
     "name": "stdout",
     "output_type": "stream",
     "text": [
      "Before StrategyEvaluator.compute_pnl: memory_usage=rss=36.220GB vms=40.405GB mem_pct=58%\n"
     ]
    },
    {
     "data": {
      "application/vnd.jupyter.widget-view+json": {
       "model_id": "607b5e843060467a9ce51724e154b0be",
       "version_major": 2,
       "version_minor": 0
      },
      "text/plain": [
       "  0%|          | 0/1 [00:00<?, ?it/s]"
      ]
     },
     "metadata": {},
     "output_type": "display_data"
    },
    {
     "name": "stdout",
     "output_type": "stream",
     "text": [
      "Before StrategyEvaluator.compute_pnl: memory_usage=rss=36.220GB vms=40.405GB mem_pct=58%\n"
     ]
    },
    {
     "data": {
      "application/vnd.jupyter.widget-view+json": {
       "model_id": "25ee6be9556a4c93b4b7fb543b474a99",
       "version_major": 2,
       "version_minor": 0
      },
      "text/plain": [
       "  0%|          | 0/1 [00:00<?, ?it/s]"
      ]
     },
     "metadata": {},
     "output_type": "display_data"
    },
    {
     "name": "stdout",
     "output_type": "stream",
     "text": [
      "Before StrategyEvaluator.compute_pnl: memory_usage=rss=36.220GB vms=40.405GB mem_pct=58%\n"
     ]
    },
    {
     "data": {
      "application/vnd.jupyter.widget-view+json": {
       "model_id": "829bcc58e42645e3aa398dd8de46f73d",
       "version_major": 2,
       "version_minor": 0
      },
      "text/plain": [
       "  0%|          | 0/1 [00:00<?, ?it/s]"
      ]
     },
     "metadata": {},
     "output_type": "display_data"
    },
    {
     "name": "stdout",
     "output_type": "stream",
     "text": [
      "Before StrategyEvaluator.compute_pnl: memory_usage=rss=36.220GB vms=40.405GB mem_pct=58%\n"
     ]
    },
    {
     "data": {
      "application/vnd.jupyter.widget-view+json": {
       "model_id": "cc1e844c5777403dac64e5bdaf5ca014",
       "version_major": 2,
       "version_minor": 0
      },
      "text/plain": [
       "  0%|          | 0/1 [00:00<?, ?it/s]"
      ]
     },
     "metadata": {},
     "output_type": "display_data"
    },
    {
     "data": {
      "text/plain": [
       "<AxesSubplot:xlabel='end_time'>"
      ]
     },
     "execution_count": 57,
     "metadata": {},
     "output_type": "execute_result"
    },
    {
     "data": {
      "image/png": "[encoded data removed]",
      "text/plain": [
       "<Figure size 1440x360 with 1 Axes>"
      ]
     },
     "metadata": {},
     "output_type": "display_data"
    }
   ],
   "source": [
    "sfp_gp = [0.45, 0.5, 0.51, 0.52, 0.53]\n",
    "sfp_paul = [(x - 0.5) * 2 for x in sfp_gp]\n",
    "print(sfp_paul)\n",
    "final_df = []\n",
    "for sfp in sfp_paul:\n",
    "    # keys = range(3)\n",
    "    keys = [0]\n",
    "    # result = evaluator.compute_pnl(key_type=\"attribute\", keys=keys)\n",
    "    pnl_dict = evaluator.compute_pnl(sfp, keys=keys, key_type=\"instrument\")\n",
    "\n",
    "    key = keys[0]\n",
    "    srs = pnl_dict[key][\"pnl_0\"] - pnl_dict[key][\"spread_cost_0\"]\n",
    "    srs.name = sfp\n",
    "\n",
    "    final_df.append(srs)\n",
    "\n",
    "final_df = pd.concat(final_df, axis=1)\n",
    "\n",
    "final_df.resample(\"1B\").sum().cumsum().plot()"
   ]
  },
  {
   "cell_type": "code",
   "execution_count": 48,
   "id": "2dedbcbc",
   "metadata": {
    "ExecuteTime": {
     "end_time": "2021-09-16T21:17:16.314813Z",
     "start_time": "2021-09-16T21:17:13.720298Z"
    }
   },
   "outputs": [
    {
     "data": {
      "text/plain": [
       "<AxesSubplot:xlabel='end_time'>"
      ]
     },
     "execution_count": 48,
     "metadata": {},
     "output_type": "execute_result"
    },
    {
     "data": {
      "image/png": "[encoded data removed]",
      "text/plain": [
       "<Figure size 1440x360 with 1 Axes>"
      ]
     },
     "metadata": {},
     "output_type": "display_data"
    }
   ],
   "source": [
    "srs.cumsum().plot()"
   ]
  },
  {
   "cell_type": "markdown",
   "id": "da2308a4",
   "metadata": {},
   "source": [
    "# Remove crap"
   ]
  },
  {
   "cell_type": "code",
   "execution_count": null,
   "id": "3ac126b3",
   "metadata": {
    "ExecuteTime": {
     "end_time": "2021-09-16T16:32:06.504682Z",
     "start_time": "2021-09-16T16:32:05.715525Z"
    }
   },
   "outputs": [],
   "source": [
    "pnlf_ = df.resample(\"1B\").sum().diff()\n",
    "\n",
    "pos = abs(pnl_).max()\n",
    "pos\n",
    "# mask = pnl_.tail(1) < 0\n",
    "# pnl_.tail(1)[mask]"
   ]
  },
  {
   "cell_type": "code",
   "execution_count": null,
   "id": "ab2aef2c",
   "metadata": {
    "ExecuteTime": {
     "end_time": "2021-09-16T16:33:58.407602Z",
     "start_time": "2021-09-16T16:33:58.376248Z"
    }
   },
   "outputs": [],
   "source": [
    "# pos.iloc[0].sort_values()\n",
    "pos.sort_values().tail(10)"
   ]
  },
  {
   "cell_type": "code",
   "execution_count": null,
   "id": "7edcecc9",
   "metadata": {
    "ExecuteTime": {
     "end_time": "2021-09-16T16:16:30.369170Z",
     "start_time": "2021-09-16T16:16:29.593535Z"
    }
   },
   "outputs": [],
   "source": [
    "# df.resample(\"1B\").sum().sum(axis=0).argmin()"
   ]
  },
  {
   "cell_type": "code",
   "execution_count": null,
   "id": "46d869a3",
   "metadata": {
    "ExecuteTime": {
     "end_time": "2021-09-16T16:01:46.218982Z",
     "start_time": "2021-09-16T16:01:46.188563Z"
    }
   },
   "outputs": [],
   "source": [
    "# hdbg.get_memory_usage_as_str(None)"
   ]
  },
  {
   "cell_type": "code",
   "execution_count": 16,
   "id": "2affefe5",
   "metadata": {
    "ExecuteTime": {
     "end_time": "2021-09-16T19:21:54.817817Z",
     "start_time": "2021-09-16T19:21:53.612727Z"
    }
   },
   "outputs": [
    {
     "data": {
      "text/plain": [
       "<AxesSubplot:xlabel='end_time'>"
      ]
     },
     "execution_count": 16,
     "metadata": {},
     "output_type": "execute_result"
    },
    {
     "data": {
      "image/png": "[encoded data removed]",
      "text/plain": [
       "<Figure size 1440x360 with 1 Axes>"
      ]
     },
     "metadata": {},
     "output_type": "display_data"
    }
   ],
   "source": [
    "# #df.sum(axis=1).resample(\"1B\").sum().cumsum().plot(color=\"k\")\n",
    "# df.resample(\"1B\").sum().sum(axis=1).cumsum().plot(color=\"k\")"
   ]
  },
  {
   "cell_type": "code",
   "execution_count": 17,
   "id": "bff42d66",
   "metadata": {
    "ExecuteTime": {
     "end_time": "2021-09-16T19:22:12.439359Z",
     "start_time": "2021-09-16T19:22:11.333547Z"
    }
   },
   "outputs": [
    {
     "data": {
      "text/plain": [
       "<AxesSubplot:xlabel='end_time'>"
      ]
     },
     "execution_count": 17,
     "metadata": {},
     "output_type": "execute_result"
    },
    {
     "data": {
      "image/png": "[encoded data removed]",
      "text/plain": [
       "<Figure size 1440x360 with 1 Axes>"
      ]
     },
     "metadata": {},
     "output_type": "display_data"
    }
   ],
   "source": [
    "aggr_pnl = (\n",
    "    df.resample(\"1B\")\n",
    "    .sum()\n",
    "    .drop([224, 554, 311, 384, 589, 404], axis=1)\n",
    "    .sum(axis=1)\n",
    "    .cumsum()\n",
    ")\n",
    "\n",
    "aggr_pnl.plot(color=\"k\")"
   ]
  },
  {
   "cell_type": "code",
   "execution_count": null,
   "id": "88bb66d6",
   "metadata": {
    "ExecuteTime": {
     "end_time": "2021-09-16T16:42:56.345310Z",
     "start_time": "2021-09-16T16:42:56.310219Z"
    }
   },
   "outputs": [],
   "source": [
    "import numpy as np\n",
    "\n",
    "\n",
    "def sr(srs):\n",
    "    return srs.mean() / srs.std() * np.sqrt(252)\n",
    "\n",
    "\n",
    "print(\"ins\", sr(aggr_pnl[:\"2017-01-01\"].diff()))\n",
    "print(\"oos\", sr(aggr_pnl[\"2017-01-01\":].diff()))"
   ]
  },
  {
   "cell_type": "code",
   "execution_count": null,
   "id": "b4608344",
   "metadata": {
    "ExecuteTime": {
     "end_time": "2021-09-16T16:45:07.562661Z",
     "start_time": "2021-09-16T16:45:07.270298Z"
    }
   },
   "outputs": [],
   "source": [
    "aggr_pnl[\"2018-06-06\":].plot()"
   ]
  }
 ],
 "metadata": {
  "kernelspec": {
   "display_name": "Python 3 (ipykernel)",
   "language": "python",
   "name": "python3"
  },
  "language_info": {
   "codemirror_mode": {
    "name": "ipython",
    "version": 3
   },
   "file_extension": ".py",
   "mimetype": "text/x-python",
   "name": "python",
   "nbconvert_exporter": "python",
   "pygments_lexer": "ipython3",
   "version": "3.8.10"
  },
  "toc": {
   "base_numbering": 1,
   "nav_menu": {},
   "number_sections": true,
   "sideBar": true,
   "skip_h1_title": false,
   "title_cell": "Table of Contents",
   "title_sidebar": "Contents",
   "toc_cell": false,
   "toc_position": {},
   "toc_section_display": true,
   "toc_window_display": false
  }
 },
 "nbformat": 4,
 "nbformat_minor": 5
}
