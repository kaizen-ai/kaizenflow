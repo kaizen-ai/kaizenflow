{
 "cells": [
  {
   "cell_type": "code",
   "execution_count": null,
   "metadata": {},
   "outputs": [],
   "source": [
    "pip install py2neo"
   ]
  },
  {
   "cell_type": "markdown",
   "metadata": {},
   "source": [
    "# Overview of the data\n",
    "For creating the social network graph I sourced the [Twitter friends dataset](https://www.kaggle.com/datasets/hwassner/TwitterFriends) data from Kaggle. The data contains 40,000 rows of user information, for the sake of visualization in neo4j I have randomly sampled 300 rows of the original data into a seperate dataframe that can be seen below. "
   ]
  },
  {
   "cell_type": "code",
   "execution_count": 1,
   "metadata": {},
   "outputs": [],
   "source": [
    "from py2neo import Graph, Node, Relationship\n",
    "import pandas as pd\n",
    "import ast"
   ]
  },
  {
   "cell_type": "code",
   "execution_count": 2,
   "metadata": {},
   "outputs": [
    {
     "name": "stdout",
     "output_type": "stream",
     "text": [
      "/home/jovyan/work\n"
     ]
    }
   ],
   "source": [
    "# To change the working directory to the current directory.\n",
    "%cd /home/jovyan/work\n",
    "\n",
    "# Connect to the Neo4j database.\n",
    "graph = Graph(\"bolt://neo4j:7687\", auth=(\"neo4j\", \"password\"))"
   ]
  },
  {
   "cell_type": "code",
   "execution_count": 3,
   "metadata": {},
   "outputs": [
    {
     "data": {
      "text/html": [
       "<div>\n",
       "<style scoped>\n",
       "    .dataframe tbody tr th:only-of-type {\n",
       "        vertical-align: middle;\n",
       "    }\n",
       "\n",
       "    .dataframe tbody tr th {\n",
       "        vertical-align: top;\n",
       "    }\n",
       "\n",
       "    .dataframe thead th {\n",
       "        text-align: right;\n",
       "    }\n",
       "</style>\n",
       "<table border=\"1\" class=\"dataframe\">\n",
       "  <thead>\n",
       "    <tr style=\"text-align: right;\">\n",
       "      <th></th>\n",
       "      <th>screenName</th>\n",
       "      <th>tags</th>\n",
       "      <th>avatar</th>\n",
       "      <th>followersCount</th>\n",
       "      <th>friendsCount</th>\n",
       "      <th>lang</th>\n",
       "      <th>lastSeen</th>\n",
       "      <th>tweetId</th>\n",
       "      <th>id</th>\n",
       "      <th>friends</th>\n",
       "    </tr>\n",
       "  </thead>\n",
       "  <tbody>\n",
       "    <tr>\n",
       "      <th>0</th>\n",
       "      <td>\"\"\"camvaleska\"\"\"</td>\n",
       "      <td>\"[ \"\"#respecttylerjoseph\"\" ]\"</td>\n",
       "      <td>\"\"\"http://pbs.twimg.com/profile_images/7275889...</td>\n",
       "      <td>3012</td>\n",
       "      <td>977</td>\n",
       "      <td>\"\"\"en\"\"\"</td>\n",
       "      <td>1472264461130</td>\n",
       "      <td>\"\"\"769302434405572608\"\"\"</td>\n",
       "      <td>82823</td>\n",
       "      <td>[20241, 26779, 28737, 71597, 68647, 65249, 548...</td>\n",
       "    </tr>\n",
       "    <tr>\n",
       "      <th>1</th>\n",
       "      <td>\"\"\"unareid14\"\"\"</td>\n",
       "      <td>\"[ \"\"#nationaldogday\"\" ]\"</td>\n",
       "      <td>\"\"\"http://pbs.twimg.com/profile_images/7600919...</td>\n",
       "      <td>828</td>\n",
       "      <td>471</td>\n",
       "      <td>\"\"\"en\"\"\"</td>\n",
       "      <td>1472264323580</td>\n",
       "      <td>\"\"\"769303240445943808\"\"\"</td>\n",
       "      <td>23526</td>\n",
       "      <td>[37000, 87755]</td>\n",
       "    </tr>\n",
       "    <tr>\n",
       "      <th>2</th>\n",
       "      <td>\"\"\"nikki_nkr\"\"\"</td>\n",
       "      <td>\"[ \"\"#nationaldogday\"\" ]\"</td>\n",
       "      <td>\"\"\"http://pbs.twimg.com/profile_images/7530701...</td>\n",
       "      <td>346</td>\n",
       "      <td>271</td>\n",
       "      <td>\"\"\"en\"\"\"</td>\n",
       "      <td>1472258558820</td>\n",
       "      <td>\"\"\"769298506112638977\"\"\"</td>\n",
       "      <td>26590</td>\n",
       "      <td>[47359, 94038, 28887, 58357, 62781, 95756, 71397]</td>\n",
       "    </tr>\n",
       "    <tr>\n",
       "      <th>3</th>\n",
       "      <td>\"\"\"itsathirahnasir\"\"\"</td>\n",
       "      <td>\"[ \"\"#happyjungkookday\"\" ]\"</td>\n",
       "      <td>\"\"\"http://pbs.twimg.com/profile_images/7706216...</td>\n",
       "      <td>186</td>\n",
       "      <td>114</td>\n",
       "      <td>\"\"\"en\"\"\"</td>\n",
       "      <td>1472669105070</td>\n",
       "      <td>\"\"\"771055063825387520\"\"\"</td>\n",
       "      <td>97667</td>\n",
       "      <td>[37460, 84837, 50155]</td>\n",
       "    </tr>\n",
       "    <tr>\n",
       "      <th>4</th>\n",
       "      <td>\"\"\"_ughcrying\"\"\"</td>\n",
       "      <td>\"[ \"\"#respecttylerjoseph\"\" ]\"</td>\n",
       "      <td>\"\"\"http://pbs.twimg.com/profile_images/7664517...</td>\n",
       "      <td>256</td>\n",
       "      <td>220</td>\n",
       "      <td>\"\"\"en\"\"\"</td>\n",
       "      <td>1472266228272</td>\n",
       "      <td>\"\"\"769305146392064000\"\"\"</td>\n",
       "      <td>48114</td>\n",
       "      <td>[]</td>\n",
       "    </tr>\n",
       "  </tbody>\n",
       "</table>\n",
       "</div>"
      ],
      "text/plain": [
       "              screenName                           tags  \\\n",
       "0       \"\"\"camvaleska\"\"\"  \"[ \"\"#respecttylerjoseph\"\" ]\"   \n",
       "1        \"\"\"unareid14\"\"\"      \"[ \"\"#nationaldogday\"\" ]\"   \n",
       "2        \"\"\"nikki_nkr\"\"\"      \"[ \"\"#nationaldogday\"\" ]\"   \n",
       "3  \"\"\"itsathirahnasir\"\"\"    \"[ \"\"#happyjungkookday\"\" ]\"   \n",
       "4       \"\"\"_ughcrying\"\"\"  \"[ \"\"#respecttylerjoseph\"\" ]\"   \n",
       "\n",
       "                                              avatar  followersCount  \\\n",
       "0  \"\"\"http://pbs.twimg.com/profile_images/7275889...            3012   \n",
       "1  \"\"\"http://pbs.twimg.com/profile_images/7600919...             828   \n",
       "2  \"\"\"http://pbs.twimg.com/profile_images/7530701...             346   \n",
       "3  \"\"\"http://pbs.twimg.com/profile_images/7706216...             186   \n",
       "4  \"\"\"http://pbs.twimg.com/profile_images/7664517...             256   \n",
       "\n",
       "   friendsCount      lang       lastSeen                   tweetId     id  \\\n",
       "0           977  \"\"\"en\"\"\"  1472264461130  \"\"\"769302434405572608\"\"\"  82823   \n",
       "1           471  \"\"\"en\"\"\"  1472264323580  \"\"\"769303240445943808\"\"\"  23526   \n",
       "2           271  \"\"\"en\"\"\"  1472258558820  \"\"\"769298506112638977\"\"\"  26590   \n",
       "3           114  \"\"\"en\"\"\"  1472669105070  \"\"\"771055063825387520\"\"\"  97667   \n",
       "4           220  \"\"\"en\"\"\"  1472266228272  \"\"\"769305146392064000\"\"\"  48114   \n",
       "\n",
       "                                             friends  \n",
       "0  [20241, 26779, 28737, 71597, 68647, 65249, 548...  \n",
       "1                                     [37000, 87755]  \n",
       "2  [47359, 94038, 28887, 58357, 62781, 95756, 71397]  \n",
       "3                              [37460, 84837, 50155]  \n",
       "4                                                 []  "
      ]
     },
     "execution_count": 3,
     "metadata": {},
     "output_type": "execute_result"
    }
   ],
   "source": [
    "# Load the CSV data into a pandas DataFrame.\n",
    "data = pd.read_csv('data/data.csv')\n",
    "\n",
    "data.head()"
   ]
  },
  {
   "cell_type": "markdown",
   "metadata": {},
   "source": [
    "## Creating nodes and relationships\n",
    "We are utilizing the below function to create nodes as users, tags and HAS_TAG, FRIENDS_WITH as relationships between the nodes using cypher queries. "
   ]
  },
  {
   "cell_type": "code",
   "execution_count": 4,
   "metadata": {},
   "outputs": [],
   "source": [
    "\n",
    "def create_user_nodes_tags_and_friendships(data):\n",
    "    for index, row in data.iterrows():\n",
    "        # Create user node\n",
    "        user_node = Node(\"User\",\n",
    "                         id=row['id'],\n",
    "                         screenName=row['screenName'],\n",
    "                         avatar=row['avatar'],\n",
    "                         followersCount=row['followersCount'],\n",
    "                         friendsCount=row['friendsCount'],\n",
    "                         lang=row['lang'],\n",
    "                         lastSeen=row['lastSeen'],\n",
    "                         tweetId=row['tweetId'])\n",
    "        graph.create(user_node)\n",
    "\n",
    "        # Create tags as nodes\n",
    "        tags_list = row['tags'].strip('[]').split(', ')\n",
    "        for tag in tags_list:\n",
    "            if tag:\n",
    "                tag_node = Node(\"Tag\", name=tag.strip().strip('\"'))\n",
    "                graph.merge(tag_node, \"Tag\", \"name\")\n",
    "                relationship = Relationship(user_node, \"HAS_TAG\", tag_node)\n",
    "                graph.create(relationship)\n",
    "\n",
    "        # Convert the 'friends' column from string representation to a list of user IDs\n",
    "        friends_list = ast.literal_eval(row['friends'])\n",
    "\n",
    "        # Create relationships between the user and their friends\n",
    "        for friend_id in friends_list:\n",
    "            friend_node = graph.nodes.match(\"User\", id=friend_id).first()  # Get the friend node from the database\n",
    "            if friend_node:\n",
    "                friendship = Relationship(user_node, \"FRIENDS_WITH\", friend_node)\n",
    "                graph.create(friendship)\n",
    "\n",
    "\n",
    "create_user_nodes_tags_and_friendships(data)\n"
   ]
  }
 ],
 "metadata": {
  "kernelspec": {
   "display_name": "Python 3 (ipykernel)",
   "language": "python",
   "name": "python3"
  },
  "language_info": {
   "codemirror_mode": {
    "name": "ipython",
    "version": 3
   },
   "file_extension": ".py",
   "mimetype": "text/x-python",
   "name": "python",
   "nbconvert_exporter": "python",
   "pygments_lexer": "ipython3",
   "version": "3.11.6"
  }
 },
 "nbformat": 4,
 "nbformat_minor": 4
}
