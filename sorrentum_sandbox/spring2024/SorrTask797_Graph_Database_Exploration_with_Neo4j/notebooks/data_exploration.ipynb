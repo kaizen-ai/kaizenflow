{
 "cells": [
  {
   "cell_type": "code",
   "execution_count": 1,
   "metadata": {},
   "outputs": [],
   "source": [
    "from py2neo import Graph"
   ]
  },
  {
   "cell_type": "code",
   "execution_count": 2,
   "metadata": {},
   "outputs": [
    {
     "name": "stdout",
     "output_type": "stream",
     "text": [
      "/home/jovyan/work\n"
     ]
    }
   ],
   "source": [
    "%cd /home/jovyan/work\n",
    "\n",
    "# Connect to the Neo4j database.\n",
    "graph = Graph(\"bolt://neo4j:7687\", auth=(\"neo4j\", \"password\"))"
   ]
  },
  {
   "cell_type": "markdown",
   "metadata": {},
   "source": [
    "### Statistical Analysis\n",
    "To check if the cypher queries from `load_data.ipynb` have executed correctly and to see if the data got stored properly in the neo4j database."
   ]
  },
  {
   "cell_type": "code",
   "execution_count": 3,
   "metadata": {},
   "outputs": [
    {
     "name": "stdout",
     "output_type": "stream",
     "text": [
      "Total Users: 300\n",
      "Total Tags: 39\n",
      "Total Friendships: 937\n",
      "Average Friends Count: 1445.1558164354315\n"
     ]
    }
   ],
   "source": [
    "# Count nodes and relationships.\n",
    "total_users = graph.evaluate(\"MATCH (u:User) RETURN count(u)\")\n",
    "total_tags = graph.evaluate(\"MATCH (t:Tag) RETURN count(t)\")\n",
    "total_friendships = graph.evaluate(\"MATCH ()-[f:FRIENDS_WITH]->() RETURN count(f)\")\n",
    "\n",
    "print(\"Total Users:\", total_users)\n",
    "print(\"Total Tags:\", total_tags)\n",
    "print(\"Total Friendships:\", total_friendships)\n",
    "\n",
    "# Average friends count.\n",
    "average_friends_count = graph.evaluate(\"MATCH (u:User)-[:FRIENDS_WITH]->(f) RETURN AVG(u.friendsCount)\")\n",
    "print(\"Average Friends Count:\", average_friends_count)"
   ]
  }
 ],
 "metadata": {
  "kernelspec": {
   "display_name": "Python 3 (ipykernel)",
   "language": "python",
   "name": "python3"
  },
  "language_info": {
   "codemirror_mode": {
    "name": "ipython",
    "version": 3
   },
   "file_extension": ".py",
   "mimetype": "text/x-python",
   "name": "python",
   "nbconvert_exporter": "python",
   "pygments_lexer": "ipython3",
   "version": "3.11.6"
  }
 },
 "nbformat": 4,
 "nbformat_minor": 4
}
