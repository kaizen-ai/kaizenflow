{
 "cells": [
  {
   "cell_type": "markdown",
   "metadata": {},
   "source": [
    "# Uploading Data to Neo4j Server\n",
    "## The Marvel Comics character collaboration graph\n",
    "For this demonstrative project, we will be using graph data from *The Marvel Comics character collaboration graph* originally constructed by Cesc Rosselló, Ricardo Alberich, and Joe Miro from the University of the Balearic Islands. The data pulls from Marvel's superhero comic books, linking hero's to the stories they appear in. While this is obviosuly a non-serious use, it is still demonstraive of the capabilties of a dockerized environment for doing data analysis on graph data.\n",
    "\n",
    "\n",
    "## The Uploading Code\n",
    "We use the py2neo python package to interact with the server. In the code below we define and then call functions to read our relevant data into python, then use py2neo to communicate with the server, making queries to create our intended graph structure. Also notice that before calling the nodes or relationships function, that we first create index specifications for the server. We do this because index values can be matched much more efficiently, helping speed up the uploading process.\n",
    "\n",
    "**Please note that uploading the data may take a few minutes depending on your system (around 5 minutes)** "
   ]
  },
  {
   "cell_type": "code",
   "execution_count": 1,
   "metadata": {},
   "outputs": [
    {
     "name": "stdout",
     "output_type": "stream",
     "text": [
      "/home/jovyan/work\n",
      "Index creation time: 0.75 seconds\n",
      "Node creation time: 40.31 seconds\n",
      "Relationship creation time: 304.51 seconds\n"
     ]
    }
   ],
   "source": [
    "%cd /home/jovyan/work\n",
    "from py2neo import Graph, Node, Relationship, NodeMatcher\n",
    "import csv\n",
    "import time\n",
    "\n",
    "# Connect to the Neo4j database\n",
    "graph = Graph(\"bolt://neo4j:7687\", auth=(\"neo4j\", \"1234\"))\n",
    "\n",
    "# Function to create nodes\n",
    "def create_nodes_from_csv(file_path):\n",
    "    with open(file_path, newline='', encoding='utf-8') as csvfile:\n",
    "        reader = csv.DictReader(csvfile)\n",
    "        for row in reader:\n",
    "            node = Node(row['type'], name=row['node'])\n",
    "            graph.create(node)\n",
    "\n",
    "# Function to create relationships\n",
    "def create_relationships_from_csv(file_path):\n",
    "    with open(file_path, newline='', encoding='utf-8') as csvfile:\n",
    "        reader = csv.DictReader(csvfile)\n",
    "        for row in reader:\n",
    "            hero_name = row['hero']\n",
    "            comic_name = row['comic']\n",
    "            hero = NodeMatcher(graph).match(\"hero\", name=hero_name).first()\n",
    "            comic = NodeMatcher(graph).match(\"comic\", name=comic_name).first()\n",
    "            if hero and comic:\n",
    "                relationship = Relationship(hero, \"APPEARS_IN\", comic)\n",
    "                graph.create(relationship)\n",
    "            \n",
    "\n",
    "# Create indexes\n",
    "start_time = time.time()\n",
    "graph.run(\"CREATE INDEX ON :hero(name)\")\n",
    "graph.run(\"CREATE INDEX ON :comic(name)\")\n",
    "index_creation_time = time.time() - start_time\n",
    "print(f\"Index creation time: {index_creation_time:.2f} seconds\")\n",
    "\n",
    "# Upload nodes from nodes.csv\n",
    "start_time = time.time()\n",
    "create_nodes_from_csv(\"data/nodes.csv\")\n",
    "node_creation_time = time.time() - start_time\n",
    "print(f\"Node creation time: {node_creation_time:.2f} seconds\")\n",
    "\n",
    "# Upload relationships from edges.csv\n",
    "start_time = time.time()\n",
    "create_relationships_from_csv(\"data/edges.csv\")\n",
    "relationship_creation_time = time.time() - start_time\n",
    "print(f\"Relationship creation time: {relationship_creation_time:.2f} seconds\")\n"
   ]
  }
 ],
 "metadata": {
  "kernelspec": {
   "display_name": "Python 3 (ipykernel)",
   "language": "python",
   "name": "python3"
  },
  "language_info": {
   "codemirror_mode": {
    "name": "ipython",
    "version": 3
   },
   "file_extension": ".py",
   "mimetype": "text/x-python",
   "name": "python",
   "nbconvert_exporter": "python",
   "pygments_lexer": "ipython3",
   "version": "3.11.6"
  }
 },
 "nbformat": 4,
 "nbformat_minor": 4
}
