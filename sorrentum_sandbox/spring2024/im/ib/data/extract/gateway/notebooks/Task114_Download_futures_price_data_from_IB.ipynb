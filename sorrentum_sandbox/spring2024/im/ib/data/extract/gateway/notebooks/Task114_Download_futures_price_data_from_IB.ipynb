{
 "cells": [
  {
   "cell_type": "markdown",
   "id": "loose-sampling",
   "metadata": {},
   "source": [
    "# Imports"
   ]
  },
  {
   "cell_type": "code",
   "execution_count": null,
   "id": "previous-compensation",
   "metadata": {
    "ExecuteTime": {
     "end_time": "2021-02-19T22:47:17.155753Z",
     "start_time": "2021-02-19T22:47:17.094371Z"
    }
   },
   "outputs": [],
   "source": [
    "%load_ext autoreload\n",
    "%autoreload 2\n",
    "\n",
    "import ib_insync\n",
    "\n",
    "print(ib_insync.__all__)\n",
    "\n",
    "import helpers.hdbg as hdbg\n",
    "import helpers.hprint as hprint\n",
    "import im.ib.data.extract.gateway.utils as imidegaut"
   ]
  },
  {
   "cell_type": "markdown",
   "id": "aging-billy",
   "metadata": {},
   "source": [
    "# Connect"
   ]
  },
  {
   "cell_type": "code",
   "execution_count": null,
   "id": "nervous-suspension",
   "metadata": {
    "ExecuteTime": {
     "end_time": "2021-02-18T00:20:23.993729Z",
     "start_time": "2021-02-18T00:20:23.944751Z"
    }
   },
   "outputs": [],
   "source": [
    "ib = imidegaut.ib_connect(client_id=100, is_notebook=True)"
   ]
  },
  {
   "cell_type": "markdown",
   "id": "exposed-warrant",
   "metadata": {},
   "source": [
    "# Historical data"
   ]
  },
  {
   "cell_type": "code",
   "execution_count": null,
   "id": "focused-service",
   "metadata": {
    "ExecuteTime": {
     "end_time": "2021-02-17T12:33:05.785080Z",
     "start_time": "2021-02-17T12:33:05.555091Z"
    }
   },
   "outputs": [],
   "source": [
    "import logging\n",
    "\n",
    "# hdbg.init_logger(verbosity=logging.DEBUG)\n",
    "hdbg.init_logger(verbosity=logging.INFO)"
   ]
  },
  {
   "cell_type": "code",
   "execution_count": null,
   "id": "royal-stuff",
   "metadata": {},
   "outputs": [],
   "source": []
  },
  {
   "cell_type": "code",
   "execution_count": null,
   "id": "considerable-sussex",
   "metadata": {
    "ExecuteTime": {
     "end_time": "2021-02-17T01:39:15.679833Z",
     "start_time": "2021-02-17T01:39:15.641702Z"
    }
   },
   "outputs": [],
   "source": [
    "# start_ts = pd.to_datetime(pd.Timestamp(\"2018-02-01 06:00:00\").tz_localize(tz=\"America/New_York\"))\n",
    "# import datetime\n",
    "\n",
    "# #datetime.datetime.combine(start_ts, datetime.time())"
   ]
  },
  {
   "cell_type": "code",
   "execution_count": null,
   "id": "genetic-observation",
   "metadata": {
    "ExecuteTime": {
     "end_time": "2021-02-17T01:39:18.002685Z",
     "start_time": "2021-02-17T01:39:17.960283Z"
    }
   },
   "outputs": [],
   "source": [
    "# dt = start_ts.to_pydatetime()\n",
    "# print(dt)\n",
    "\n",
    "# #datetime.datetime.combine(dt, datetime.time()).tz_localize(tz=\"America/New_York\")\n",
    "# dt.replace(hour=0, minute=0, second=0)"
   ]
  },
  {
   "cell_type": "code",
   "execution_count": null,
   "id": "adolescent-ukraine",
   "metadata": {
    "ExecuteTime": {
     "end_time": "2021-02-17T21:43:20.423123Z",
     "start_time": "2021-02-17T21:43:09.007567Z"
    }
   },
   "outputs": [],
   "source": [
    "start_ts = pd.Timestamp(\"2019-05-28 15:00\").tz_localize(tz=\"America/New_York\")\n",
    "end_ts = pd.Timestamp(\"2019-05-29 15:00\").tz_localize(tz=\"America/New_York\")\n",
    "barSizeSetting = \"1 hour\"\n",
    "\n",
    "bars = imidegaut.get_data(\n",
    "    ib, contract, start_ts, end_ts, barSizeSetting, whatToShow, useRTH\n",
    ")"
   ]
  },
  {
   "cell_type": "code",
   "execution_count": null,
   "id": "potential-atlantic",
   "metadata": {
    "ExecuteTime": {
     "end_time": "2021-02-17T12:33:14.602942Z",
     "start_time": "2021-02-17T12:33:14.475912Z"
    },
    "scrolled": true
   },
   "outputs": [],
   "source": [
    "start_ts = pd.Timestamp(\"2019-05-28 15:00\").tz_localize(tz=\"America/New_York\")\n",
    "end_ts = pd.Timestamp(\"2019-05-29 15:00\").tz_localize(tz=\"America/New_York\")\n",
    "barSizeSetting = \"1 hour\"\n",
    "\n",
    "bars = imidegaut.get_data(\n",
    "    ib, contract, start_ts, end_ts, barSizeSetting, whatToShow, useRTH\n",
    ")"
   ]
  },
  {
   "cell_type": "code",
   "execution_count": null,
   "id": "remarkable-disorder",
   "metadata": {
    "ExecuteTime": {
     "end_time": "2021-02-17T01:54:19.047029Z",
     "start_time": "2021-02-17T01:54:18.694405Z"
    }
   },
   "outputs": [],
   "source": [
    "start_ts = pd.Timestamp(\"2019-05-27\").tz_localize(tz=\"America/New_York\")\n",
    "end_ts = pd.Timestamp(\"2019-05-28\").tz_localize(tz=\"America/New_York\")\n",
    "barSizeSetting = \"1 hour\"\n",
    "\n",
    "bars = imidegaut.get_data(\n",
    "    ib, contract, start_ts, end_ts, barSizeSetting, whatToShow, useRTH\n",
    ")"
   ]
  },
  {
   "cell_type": "code",
   "execution_count": null,
   "id": "impressive-track",
   "metadata": {
    "ExecuteTime": {
     "end_time": "2021-02-17T01:52:41.681570Z",
     "start_time": "2021-02-17T01:52:31.535276Z"
    }
   },
   "outputs": [],
   "source": [
    "start_ts2 = start_ts - pd.DateOffset(days=1)\n",
    "end_ts2 = end_ts + pd.DateOffset(days=1)\n",
    "barSizeSetting = \"1 hour\"\n",
    "\n",
    "bars2 = imidegaut.get_data(\n",
    "    ib, contract, start_ts2, end_ts2, barSizeSetting, whatToShow, useRTH\n",
    ")"
   ]
  },
  {
   "cell_type": "code",
   "execution_count": null,
   "id": "elementary-rider",
   "metadata": {
    "ExecuteTime": {
     "end_time": "2021-02-17T01:46:36.703575Z",
     "start_time": "2021-02-17T01:46:36.662095Z"
    }
   },
   "outputs": [],
   "source": [
    "set(bars.index).issubset(bars2.index)"
   ]
  },
  {
   "cell_type": "code",
   "execution_count": null,
   "id": "frequent-liver",
   "metadata": {
    "ExecuteTime": {
     "end_time": "2021-02-17T21:42:44.522883Z",
     "start_time": "2021-02-17T21:42:38.035672Z"
    }
   },
   "outputs": [],
   "source": [
    "start_ts = pd.Timestamp(\"2019-04-01 15:00\").tz_localize(tz=\"America/New_York\")\n",
    "end_ts = pd.Timestamp(\"2019-05-01 15:00\").tz_localize(tz=\"America/New_York\")\n",
    "\n",
    "df = imidegaut.get_historical_data2(\n",
    "    ib, contract, start_ts, end_ts, barSizeSetting, whatToShow, useRTH\n",
    ")"
   ]
  },
  {
   "cell_type": "code",
   "execution_count": null,
   "id": "northern-spirituality",
   "metadata": {
    "ExecuteTime": {
     "end_time": "2021-02-17T00:39:11.512828Z",
     "start_time": "2021-02-17T00:38:14.426462Z"
    }
   },
   "outputs": [],
   "source": [
    "import pandas as pd\n",
    "\n",
    "contract = ib_insync.ContFuture(\"ES\", \"GLOBEX\", \"USD\")\n",
    "whatToShow = \"TRADES\"\n",
    "durationStr = \"2 D\"\n",
    "barSizeSetting = \"1 min\"\n",
    "useRTH = False\n",
    "# useRTH = True\n",
    "\n",
    "# start_ts = pd.to_datetime(pd.Timestamp(\"2018-02-01\"))\n",
    "# Saturday June 1, 2019\n",
    "end_ts = pd.to_datetime(\n",
    "    pd.Timestamp(\"2019-05-30 00:00:00\") + pd.DateOffset(days=1)\n",
    ")\n",
    "# end_ts = pd.to_datetime(pd.Timestamp(\"2019-05-30 18:00:00\"))\n",
    "# print(start_ts, end_ts)\n",
    "print(\"end_ts=\", end_ts)\n",
    "\n",
    "bars = imidegaut.req_historical_data(\n",
    "    ib, contract, end_ts, durationStr, barSizeSetting, whatToShow, useRTH\n",
    ")\n",
    "\n",
    "print(\n",
    "    \"durationStr=%s barSizeSetting=%s useRTH=%s\"\n",
    "    % (durationStr, barSizeSetting, useRTH)\n",
    ")\n",
    "print(\"bars=[%s, %s]\" % (bars.index[0], bars.index[-1]))\n",
    "print(\"diff=\", bars.index[-1] - bars.index[0])\n",
    "\n",
    "bars[\"close\"].plot()"
   ]
  },
  {
   "cell_type": "code",
   "execution_count": null,
   "id": "changed-folks",
   "metadata": {
    "ExecuteTime": {
     "end_time": "2021-02-17T21:38:34.017933Z",
     "start_time": "2021-02-17T21:38:33.985861Z"
    }
   },
   "outputs": [],
   "source": [
    "pd.date_range(start=\"2019-04-01 00:00:00\", end=\"2019-05-01 00:00:00\", freq=\"2D\")"
   ]
  },
  {
   "cell_type": "code",
   "execution_count": 14,
   "id": "human-traveler",
   "metadata": {
    "ExecuteTime": {
     "end_time": "2021-02-19T23:24:36.435227Z",
     "start_time": "2021-02-19T23:24:36.396671Z"
    }
   },
   "outputs": [
    {
     "name": "stdout",
     "output_type": "stream",
     "text": [
      "hello\n"
     ]
    }
   ],
   "source": []
  },
  {
   "cell_type": "code",
   "execution_count": null,
   "id": "basic-telephone",
   "metadata": {
    "ExecuteTime": {
     "end_time": "2021-02-15T18:28:00.720554Z",
     "start_time": "2021-02-15T18:28:00.680344Z"
    }
   },
   "outputs": [],
   "source": [
    "(bars.index[-1] - bars.index[0])"
   ]
  },
  {
   "cell_type": "code",
   "execution_count": null,
   "id": "frozen-navigator",
   "metadata": {
    "ExecuteTime": {
     "end_time": "2021-02-17T22:59:17.164742Z",
     "start_time": "2021-02-17T22:59:17.126787Z"
    }
   },
   "outputs": [],
   "source": [
    "import pandas as pd"
   ]
  },
  {
   "cell_type": "code",
   "execution_count": null,
   "id": "quality-variance",
   "metadata": {
    "ExecuteTime": {
     "end_time": "2021-02-18T01:31:42.018967Z",
     "start_time": "2021-02-18T01:31:36.487362Z"
    }
   },
   "outputs": [],
   "source": [
    "# 1 = Live\n",
    "# 2 = Frozen\n",
    "# 3 = Delayed\n",
    "# 4 = Delayed frozen\n",
    "ib.reqMarketDataType(4)\n",
    "\n",
    "if False:\n",
    "    contract = ib_insync.Stock(\"TSLA\", \"SMART\", \"USD\")\n",
    "    whatToShow = \"TRADES\"\n",
    "elif False:\n",
    "    contract = ib_insync.Future(\"ES\", \"202109\", \"GLOBEX\")\n",
    "    whatToShow = \"TRADES\"\n",
    "elif True:\n",
    "    contract = ib_insync.ContFuture(\"ES\", \"GLOBEX\", \"USD\")\n",
    "    whatToShow = \"TRADES\"\n",
    "else:\n",
    "    contract = ib_insync.Forex(\"EURUSD\")\n",
    "    whatToShow = \"MIDPOINT\"\n",
    "\n",
    "if False:\n",
    "    durationStr = \"1 Y\"\n",
    "    barSizeSetting = \"1 day\"\n",
    "    # barSizeSetting='1 hour'\n",
    "else:\n",
    "    durationStr = \"1 D\"\n",
    "    barSizeSetting = \"1 hour\"\n",
    "\n",
    "print(\"contract=\", contract)\n",
    "print(\"whatToShow=\", whatToShow)\n",
    "print(\"durationStr=\", durationStr)\n",
    "print(\"barSizeSetting=\", barSizeSetting)\n",
    "\n",
    "# endDateTime = pd.Timestamp(\"2020-12-11 18:00:00\")\n",
    "endDateTime = pd.Timestamp(\"2020-12-13 18:00:00\")\n",
    "# endDateTime = \"\"\n",
    "\n",
    "# Get the datetime of earliest available historical data for the contract.\n",
    "start_ts = ib.reqHeadTimeStamp(contract, whatToShow=whatToShow, useRTH=True)\n",
    "print(\"start_ts=\", start_ts)\n",
    "bars = ib.reqHistoricalData(\n",
    "    contract,\n",
    "    endDateTime=endDateTime,\n",
    "    durationStr=durationStr,\n",
    "    barSizeSetting=barSizeSetting,\n",
    "    whatToShow=whatToShow,\n",
    "    useRTH=True,\n",
    "    formatDate=1,\n",
    ")\n",
    "print(\"len(bars)=\", len(bars))\n",
    "print(ib_insync.util.df(bars))"
   ]
  },
  {
   "cell_type": "code",
   "execution_count": null,
   "id": "affiliated-makeup",
   "metadata": {
    "ExecuteTime": {
     "end_time": "2021-02-17T23:07:05.035393Z",
     "start_time": "2021-02-17T23:07:04.998560Z"
    }
   },
   "outputs": [],
   "source": [
    "ib_insync.IB.RaiseRequestErrors = True"
   ]
  },
  {
   "cell_type": "code",
   "execution_count": null,
   "id": "liquid-ceremony",
   "metadata": {
    "ExecuteTime": {
     "end_time": "2021-02-17T23:02:11.930061Z",
     "start_time": "2021-02-17T23:02:11.897037Z"
    }
   },
   "outputs": [],
   "source": [
    "bars"
   ]
  },
  {
   "cell_type": "code",
   "execution_count": null,
   "id": "roman-fruit",
   "metadata": {
    "ExecuteTime": {
     "end_time": "2021-02-18T01:10:06.394642Z",
     "start_time": "2021-02-18T01:10:06.331433Z"
    }
   },
   "outputs": [],
   "source": [
    "hdbg.shutup_chatty_modules(verbose=True)"
   ]
  },
  {
   "cell_type": "code",
   "execution_count": null,
   "id": "single-basement",
   "metadata": {
    "ExecuteTime": {
     "end_time": "2021-02-18T00:26:45.492134Z",
     "start_time": "2021-02-18T00:24:16.347922Z"
    }
   },
   "outputs": [],
   "source": [
    "import pandas as pd\n",
    "\n",
    "contract = ib_insync.ContFuture(\"ES\", \"GLOBEX\", \"USD\")\n",
    "whatToShow = \"TRADES\"\n",
    "durationStr = \"2 D\"\n",
    "barSizeSetting = \"1 min\"\n",
    "useRTH = False\n",
    "\n",
    "start_ts = pd.Timestamp(\"2018-01-28 15:00\").tz_localize(tz=\"America/New_York\")\n",
    "end_ts = pd.Timestamp(\"2018-02-28 15:00\").tz_localize(tz=\"America/New_York\")\n",
    "\n",
    "tasks = imidegaut.get_historical_data_workload(\n",
    "    contract, start_ts, end_ts, barSizeSetting, whatToShow, useRTH\n",
    ")\n",
    "print(len(tasks))\n",
    "\n",
    "imidegaut.get_historical_data2(ib, tasks)"
   ]
  },
  {
   "cell_type": "markdown",
   "id": "pointed-empire",
   "metadata": {},
   "source": [
    "##"
   ]
  },
  {
   "cell_type": "code",
   "execution_count": 2,
   "id": "least-reserve",
   "metadata": {
    "ExecuteTime": {
     "end_time": "2021-02-19T23:02:10.980853Z",
     "start_time": "2021-02-19T23:02:10.895905Z"
    }
   },
   "outputs": [
    {
     "name": "stdout",
     "output_type": "stream",
     "text": [
      "The autoreload extension is already loaded. To reload it, use:\n",
      "  %reload_ext autoreload\n",
      "['util', 'Event', 'SoftDollarTier', 'PriceIncrement', 'Execution', 'CommissionReport', 'BarList', 'BarDataList', 'RealTimeBarList', 'BarData', 'RealTimeBar', 'HistogramData', 'NewsProvider', 'DepthMktDataDescription', 'ScannerSubscription', 'ScanDataList', 'FundamentalRatios', 'ExecutionFilter', 'PnL', 'PnLSingle', 'AccountValue', 'TickData', 'TickByTickAllLast', 'TickByTickBidAsk', 'TickByTickMidPoint', 'HistoricalTick', 'HistoricalTickBidAsk', 'HistoricalTickLast', 'TickAttrib', 'TickAttribBidAsk', 'TickAttribLast', 'MktDepthData', 'DOMLevel', 'TradeLogEntry', 'FamilyCode', 'SmartComponent', 'PortfolioItem', 'Position', 'Fill', 'OptionComputation', 'OptionChain', 'Dividends', 'NewsArticle', 'HistoricalNews', 'NewsTick', 'NewsBulletin', 'ConnectionStats', 'Contract', 'Stock', 'Option', 'Future', 'ContFuture', 'Forex', 'Index', 'CFD', 'Commodity', 'Bond', 'FuturesOption', 'MutualFund', 'Warrant', 'Bag', 'TagValue', 'ComboLeg', 'DeltaNeutralContract', 'ContractDetails', 'ContractDescription', 'ScanData', 'Trade', 'Order', 'OrderStatus', 'OrderState', 'OrderComboLeg', 'LimitOrder', 'MarketOrder', 'StopOrder', 'StopLimitOrder', 'BracketOrder', 'OrderCondition', 'ExecutionCondition', 'MarginCondition', 'TimeCondition', 'PriceCondition', 'PercentChangeCondition', 'VolumeCondition', 'Ticker', 'IB', 'Client', 'RequestError', 'Wrapper', 'FlexReport', 'FlexError', 'IBC', 'IBController', 'Watchdog']\n"
     ]
    }
   ],
   "source": [
    "%load_ext autoreload\n",
    "%autoreload 2\n",
    "\n",
    "import ib_insync\n",
    "\n",
    "print(ib_insync.__all__)"
   ]
  },
  {
   "cell_type": "code",
   "execution_count": 3,
   "id": "apart-crowd",
   "metadata": {
    "ExecuteTime": {
     "end_time": "2021-02-19T23:02:15.093571Z",
     "start_time": "2021-02-19T23:02:15.047622Z"
    }
   },
   "outputs": [
    {
     "name": "stdout",
     "output_type": "stream",
     "text": [
      "\u001b[0mWARNING: Running in Jupyter\n",
      "Shutting up 34 modules\n"
     ]
    }
   ],
   "source": [
    "import logging\n",
    "\n",
    "import helpers.hdbg as hdbg\n",
    "import helpers.hprint as hprint\n",
    "import im.ib.data.extract.gateway.utils as imidegaut\n",
    "\n",
    "hdbg.init_logger(verbosity=logging.DEBUG)\n",
    "# hdbg.init_logger(verbosity=logging.INFO)\n",
    "\n",
    "import pandas as pd\n",
    "\n",
    "hdbg.shutup_chatty_modules(verbose=False)"
   ]
  },
  {
   "cell_type": "code",
   "execution_count": 4,
   "id": "subject-stroke",
   "metadata": {
    "ExecuteTime": {
     "end_time": "2021-02-19T23:02:15.145178Z",
     "start_time": "2021-02-19T23:02:15.095778Z"
    }
   },
   "outputs": [
    {
     "name": "stdout",
     "output_type": "stream",
     "text": [
      "Connected!\n"
     ]
    }
   ],
   "source": [
    "ib = imidegaut.ib_connect(8, is_notebook=True)"
   ]
  },
  {
   "cell_type": "code",
   "execution_count": 5,
   "id": "imported-excess",
   "metadata": {
    "ExecuteTime": {
     "end_time": "2021-02-19T23:02:15.186474Z",
     "start_time": "2021-02-19T23:02:15.146981Z"
    }
   },
   "outputs": [],
   "source": [
    "# #start_ts = pd.Timestamp(\"2018-01-28 15:00\").tz_localize(tz=\"America/New_York\")\n",
    "# start_ts = pd.Timestamp(\"2018-01-28 18:00\").tz_localize(tz=\"America/New_York\")\n",
    "# end_ts = pd.Timestamp(\"2018-02-28 15:00\").tz_localize(tz=\"America/New_York\")\n",
    "\n",
    "# dates = []\n",
    "# if (start_ts.hour, start_ts.minute) > (18, 0):\n",
    "#     dates = [start_ts]\n",
    "#     # Align start_ts to 18:00.\n",
    "#     start_ts = start_ts.replace(hour=18, minute=18)\n",
    "# elif (start_ts.hour, start_ts.minute) < (18, 0):\n",
    "#     dates = [start_ts]\n",
    "#     # Align start_ts to 18:00 of the day before.\n",
    "#     start_ts = start_ts.replace(hour=18, minute=18)\n",
    "#     start_ts -= pd.DateOffset(days=1)\n",
    "\n",
    "# hdbg.dassert_eq((start_ts.hour, start_ts.minute), (18, 0))\n",
    "# dates += pd.date_range(start=start_ts, end=end_ts, freq='2D').tolist()\n",
    "# print(dates)"
   ]
  },
  {
   "cell_type": "code",
   "execution_count": 6,
   "id": "italian-waste",
   "metadata": {
    "ExecuteTime": {
     "end_time": "2021-02-19T23:02:15.228416Z",
     "start_time": "2021-02-19T23:02:15.188301Z"
    }
   },
   "outputs": [],
   "source": [
    "# import datetime\n",
    "# start_ts = pd.Timestamp(datetime.datetime(2017,6,25,0,31,53,993000))\n",
    "# print(start_ts)\n",
    "\n",
    "# start_ts.round('1s')"
   ]
  },
  {
   "cell_type": "code",
   "execution_count": 8,
   "id": "flush-certificate",
   "metadata": {
    "ExecuteTime": {
     "end_time": "2021-02-19T23:04:01.662087Z",
     "start_time": "2021-02-19T23:03:01.449295Z"
    },
    "scrolled": false
   },
   "outputs": [
    {
     "name": "stdout",
     "output_type": "stream",
     "text": [
      "start_ts='2018-01-28 15:00:00-05:00' end_ts='2018-02-01 15:00:00-05:00'\n",
      "ts='2018-01-28 15:00:00-05:00'\n",
      "-> ts='2018-01-29 18:00:00-05:00' dates=[Timestamp('2018-01-28 15:00:00-0500', tz='America/New_York')]\n",
      "ts='2018-02-01 15:00:00-05:00'\n",
      "-> ts='2018-01-31 18:00:00-05:00' dates=[Timestamp('2018-02-01 15:00:00-0500', tz='America/New_York')]\n",
      "start_ts_tmp='2018-01-29 18:00:00-05:00' end_ts_tmp='2018-01-31 18:00:00-05:00'\n",
      "-> dates=[Timestamp('2018-01-28 15:00:00-0500', tz='America/New_York'), Timestamp('2018-01-29 18:00:00-0500', tz='America/New_York', freq='2D'), Timestamp('2018-01-31 18:00:00-0500', tz='America/New_York', freq='2D'), Timestamp('2018-02-01 15:00:00-0500', tz='America/New_York')]\n"
     ]
    },
    {
     "data": {
      "application/vnd.jupyter.widget-view+json": {
       "model_id": "4831d5a0643d4a5e9ccf5abc9ee07ed0",
       "version_major": 2,
       "version_minor": 0
      },
      "text/plain": [
       "  0%|          | 0/3 [00:00<?, ?it/s]"
      ]
     },
     "metadata": {},
     "output_type": "display_data"
    },
    {
     "name": "stdout",
     "output_type": "stream",
     "text": [
      "task=(<IB connected to 127.0.0.1:7497 clientId=8>, ContFuture(symbol='ES', exchange='GLOBEX', localSymbol='USD'), Timestamp('2018-01-29 18:00:00-0500', tz='America/New_York', freq='2D'), '2 D', '1 hour', 'TRADES', False)\n",
      "df=len=4 [2018-01-29 14:00:00-05:00, 2018-01-29 16:30:00-05:00]\n",
      "task=(<IB connected to 127.0.0.1:7497 clientId=8>, ContFuture(symbol='ES', exchange='GLOBEX', localSymbol='USD'), Timestamp('2018-01-31 18:00:00-0500', tz='America/New_York', freq='2D'), '2 D', '1 hour', 'TRADES', False)\n",
      "df=len=26 [2018-01-29 22:00:00-05:00, 2018-01-31 16:30:00-05:00]\n",
      "task=(<IB connected to 127.0.0.1:7497 clientId=8>, ContFuture(symbol='ES', exchange='GLOBEX', localSymbol='USD'), Timestamp('2018-02-01 15:00:00-0500', tz='America/New_York'), '2 D', '1 hour', 'TRADES', False)\n",
      "df=len=14 [2018-01-31 12:00:00-05:00, 2018-02-01 14:00:00-05:00]\n"
     ]
    }
   ],
   "source": [
    "contract = ib_insync.ContFuture(\"ES\", \"GLOBEX\", \"USD\")\n",
    "whatToShow = \"TRADES\"\n",
    "durationStr = \"2 D\"\n",
    "barSizeSetting = \"1 hour\"\n",
    "useRTH = False\n",
    "\n",
    "start_ts = pd.Timestamp(\"2018-01-28 15:00\").tz_localize(tz=\"America/New_York\")\n",
    "end_ts = pd.Timestamp(\"2018-02-01 15:00\").tz_localize(tz=\"America/New_York\")\n",
    "\n",
    "tasks = imidegaut.get_historical_data_workload(\n",
    "    ib, contract, start_ts, end_ts, barSizeSetting, whatToShow, useRTH\n",
    ")\n",
    "\n",
    "df = imidegaut.get_historical_data2(tasks)"
   ]
  },
  {
   "cell_type": "code",
   "execution_count": null,
   "id": "a631d8c9",
   "metadata": {},
   "outputs": [],
   "source": []
  },
  {
   "cell_type": "code",
   "execution_count": 9,
   "id": "intensive-marketplace",
   "metadata": {
    "ExecuteTime": {
     "end_time": "2021-02-19T23:04:05.903367Z",
     "start_time": "2021-02-19T23:04:05.837649Z"
    }
   },
   "outputs": [
    {
     "data": {
      "text/html": [
       "<div>\n",
       "<style scoped>\n",
       "    .dataframe tbody tr th:only-of-type {\n",
       "        vertical-align: middle;\n",
       "    }\n",
       "\n",
       "    .dataframe tbody tr th {\n",
       "        vertical-align: top;\n",
       "    }\n",
       "\n",
       "    .dataframe thead th {\n",
       "        text-align: right;\n",
       "    }\n",
       "</style>\n",
       "<table border=\"1\" class=\"dataframe\">\n",
       "  <thead>\n",
       "    <tr style=\"text-align: right;\">\n",
       "      <th></th>\n",
       "      <th>open</th>\n",
       "      <th>high</th>\n",
       "      <th>low</th>\n",
       "      <th>close</th>\n",
       "      <th>volume</th>\n",
       "      <th>average</th>\n",
       "      <th>barCount</th>\n",
       "    </tr>\n",
       "    <tr>\n",
       "      <th>date</th>\n",
       "      <th></th>\n",
       "      <th></th>\n",
       "      <th></th>\n",
       "      <th></th>\n",
       "      <th></th>\n",
       "      <th></th>\n",
       "      <th></th>\n",
       "    </tr>\n",
       "  </thead>\n",
       "  <tbody>\n",
       "    <tr>\n",
       "      <th>2018-01-29 14:00:00-05:00</th>\n",
       "      <td>2879.00</td>\n",
       "      <td>2879.00</td>\n",
       "      <td>2879.00</td>\n",
       "      <td>2879.00</td>\n",
       "      <td>1</td>\n",
       "      <td>2879.00</td>\n",
       "      <td>1</td>\n",
       "    </tr>\n",
       "    <tr>\n",
       "      <th>2018-01-29 15:00:00-05:00</th>\n",
       "      <td>2877.00</td>\n",
       "      <td>2877.00</td>\n",
       "      <td>2877.00</td>\n",
       "      <td>2877.00</td>\n",
       "      <td>1</td>\n",
       "      <td>2877.00</td>\n",
       "      <td>1</td>\n",
       "    </tr>\n",
       "    <tr>\n",
       "      <th>2018-01-29 16:00:00-05:00</th>\n",
       "      <td>2877.00</td>\n",
       "      <td>2877.00</td>\n",
       "      <td>2877.00</td>\n",
       "      <td>2877.00</td>\n",
       "      <td>0</td>\n",
       "      <td>2877.00</td>\n",
       "      <td>0</td>\n",
       "    </tr>\n",
       "    <tr>\n",
       "      <th>2018-01-29 16:30:00-05:00</th>\n",
       "      <td>2877.00</td>\n",
       "      <td>2877.00</td>\n",
       "      <td>2877.00</td>\n",
       "      <td>2877.00</td>\n",
       "      <td>0</td>\n",
       "      <td>2877.00</td>\n",
       "      <td>0</td>\n",
       "    </tr>\n",
       "    <tr>\n",
       "      <th>2018-01-29 22:00:00-05:00</th>\n",
       "      <td>2859.25</td>\n",
       "      <td>2859.25</td>\n",
       "      <td>2859.25</td>\n",
       "      <td>2859.25</td>\n",
       "      <td>2</td>\n",
       "      <td>2859.25</td>\n",
       "      <td>2</td>\n",
       "    </tr>\n",
       "    <tr>\n",
       "      <th>2018-01-29 23:00:00-05:00</th>\n",
       "      <td>2859.25</td>\n",
       "      <td>2859.25</td>\n",
       "      <td>2859.25</td>\n",
       "      <td>2859.25</td>\n",
       "      <td>0</td>\n",
       "      <td>2859.25</td>\n",
       "      <td>0</td>\n",
       "    </tr>\n",
       "    <tr>\n",
       "      <th>2018-01-30 00:00:00-05:00</th>\n",
       "      <td>2859.25</td>\n",
       "      <td>2859.25</td>\n",
       "      <td>2859.25</td>\n",
       "      <td>2859.25</td>\n",
       "      <td>0</td>\n",
       "      <td>2859.25</td>\n",
       "      <td>0</td>\n",
       "    </tr>\n",
       "    <tr>\n",
       "      <th>2018-01-30 01:00:00-05:00</th>\n",
       "      <td>2859.25</td>\n",
       "      <td>2859.25</td>\n",
       "      <td>2859.25</td>\n",
       "      <td>2859.25</td>\n",
       "      <td>0</td>\n",
       "      <td>2859.25</td>\n",
       "      <td>0</td>\n",
       "    </tr>\n",
       "    <tr>\n",
       "      <th>2018-01-30 02:00:00-05:00</th>\n",
       "      <td>2859.25</td>\n",
       "      <td>2859.25</td>\n",
       "      <td>2859.25</td>\n",
       "      <td>2859.25</td>\n",
       "      <td>0</td>\n",
       "      <td>2859.25</td>\n",
       "      <td>0</td>\n",
       "    </tr>\n",
       "    <tr>\n",
       "      <th>2018-01-30 03:00:00-05:00</th>\n",
       "      <td>2859.25</td>\n",
       "      <td>2859.25</td>\n",
       "      <td>2859.25</td>\n",
       "      <td>2859.25</td>\n",
       "      <td>0</td>\n",
       "      <td>2859.25</td>\n",
       "      <td>0</td>\n",
       "    </tr>\n",
       "    <tr>\n",
       "      <th>2018-01-30 04:00:00-05:00</th>\n",
       "      <td>2859.25</td>\n",
       "      <td>2859.25</td>\n",
       "      <td>2859.25</td>\n",
       "      <td>2859.25</td>\n",
       "      <td>0</td>\n",
       "      <td>2859.25</td>\n",
       "      <td>0</td>\n",
       "    </tr>\n",
       "    <tr>\n",
       "      <th>2018-01-30 05:00:00-05:00</th>\n",
       "      <td>2859.25</td>\n",
       "      <td>2859.25</td>\n",
       "      <td>2859.25</td>\n",
       "      <td>2859.25</td>\n",
       "      <td>0</td>\n",
       "      <td>2859.25</td>\n",
       "      <td>0</td>\n",
       "    </tr>\n",
       "    <tr>\n",
       "      <th>2018-01-30 06:00:00-05:00</th>\n",
       "      <td>2859.25</td>\n",
       "      <td>2859.25</td>\n",
       "      <td>2859.25</td>\n",
       "      <td>2859.25</td>\n",
       "      <td>0</td>\n",
       "      <td>2859.25</td>\n",
       "      <td>0</td>\n",
       "    </tr>\n",
       "    <tr>\n",
       "      <th>2018-01-30 07:00:00-05:00</th>\n",
       "      <td>2859.25</td>\n",
       "      <td>2859.25</td>\n",
       "      <td>2859.25</td>\n",
       "      <td>2859.25</td>\n",
       "      <td>1</td>\n",
       "      <td>2859.25</td>\n",
       "      <td>1</td>\n",
       "    </tr>\n",
       "    <tr>\n",
       "      <th>2018-01-30 08:00:00-05:00</th>\n",
       "      <td>2859.25</td>\n",
       "      <td>2859.25</td>\n",
       "      <td>2859.25</td>\n",
       "      <td>2859.25</td>\n",
       "      <td>0</td>\n",
       "      <td>2859.25</td>\n",
       "      <td>0</td>\n",
       "    </tr>\n",
       "    <tr>\n",
       "      <th>2018-01-30 09:00:00-05:00</th>\n",
       "      <td>2859.25</td>\n",
       "      <td>2859.25</td>\n",
       "      <td>2859.25</td>\n",
       "      <td>2859.25</td>\n",
       "      <td>0</td>\n",
       "      <td>2859.25</td>\n",
       "      <td>0</td>\n",
       "    </tr>\n",
       "    <tr>\n",
       "      <th>2018-01-30 10:00:00-05:00</th>\n",
       "      <td>2859.25</td>\n",
       "      <td>2859.25</td>\n",
       "      <td>2859.25</td>\n",
       "      <td>2859.25</td>\n",
       "      <td>0</td>\n",
       "      <td>2859.25</td>\n",
       "      <td>0</td>\n",
       "    </tr>\n",
       "    <tr>\n",
       "      <th>2018-01-30 11:00:00-05:00</th>\n",
       "      <td>2859.25</td>\n",
       "      <td>2859.25</td>\n",
       "      <td>2859.25</td>\n",
       "      <td>2859.25</td>\n",
       "      <td>0</td>\n",
       "      <td>2859.25</td>\n",
       "      <td>0</td>\n",
       "    </tr>\n",
       "    <tr>\n",
       "      <th>2018-01-30 12:00:00-05:00</th>\n",
       "      <td>2859.25</td>\n",
       "      <td>2859.25</td>\n",
       "      <td>2859.25</td>\n",
       "      <td>2859.25</td>\n",
       "      <td>0</td>\n",
       "      <td>2859.25</td>\n",
       "      <td>0</td>\n",
       "    </tr>\n",
       "    <tr>\n",
       "      <th>2018-01-30 13:00:00-05:00</th>\n",
       "      <td>2859.25</td>\n",
       "      <td>2859.25</td>\n",
       "      <td>2859.25</td>\n",
       "      <td>2859.25</td>\n",
       "      <td>0</td>\n",
       "      <td>2859.25</td>\n",
       "      <td>0</td>\n",
       "    </tr>\n",
       "    <tr>\n",
       "      <th>2018-01-30 14:00:00-05:00</th>\n",
       "      <td>2859.25</td>\n",
       "      <td>2859.25</td>\n",
       "      <td>2859.25</td>\n",
       "      <td>2859.25</td>\n",
       "      <td>0</td>\n",
       "      <td>2859.25</td>\n",
       "      <td>0</td>\n",
       "    </tr>\n",
       "    <tr>\n",
       "      <th>2018-01-30 15:00:00-05:00</th>\n",
       "      <td>2859.25</td>\n",
       "      <td>2859.25</td>\n",
       "      <td>2859.25</td>\n",
       "      <td>2859.25</td>\n",
       "      <td>0</td>\n",
       "      <td>2859.25</td>\n",
       "      <td>0</td>\n",
       "    </tr>\n",
       "    <tr>\n",
       "      <th>2018-01-30 16:00:00-05:00</th>\n",
       "      <td>2845.00</td>\n",
       "      <td>2845.00</td>\n",
       "      <td>2845.00</td>\n",
       "      <td>2845.00</td>\n",
       "      <td>1</td>\n",
       "      <td>2845.00</td>\n",
       "      <td>1</td>\n",
       "    </tr>\n",
       "    <tr>\n",
       "      <th>2018-01-30 16:30:00-05:00</th>\n",
       "      <td>2845.00</td>\n",
       "      <td>2845.00</td>\n",
       "      <td>2845.00</td>\n",
       "      <td>2845.00</td>\n",
       "      <td>0</td>\n",
       "      <td>2845.00</td>\n",
       "      <td>0</td>\n",
       "    </tr>\n",
       "    <tr>\n",
       "      <th>2018-01-31 12:00:00-05:00</th>\n",
       "      <td>2846.50</td>\n",
       "      <td>2846.50</td>\n",
       "      <td>2846.50</td>\n",
       "      <td>2846.50</td>\n",
       "      <td>2</td>\n",
       "      <td>2846.50</td>\n",
       "      <td>1</td>\n",
       "    </tr>\n",
       "    <tr>\n",
       "      <th>2018-01-31 13:00:00-05:00</th>\n",
       "      <td>2846.50</td>\n",
       "      <td>2846.50</td>\n",
       "      <td>2846.50</td>\n",
       "      <td>2846.50</td>\n",
       "      <td>0</td>\n",
       "      <td>2846.50</td>\n",
       "      <td>0</td>\n",
       "    </tr>\n",
       "    <tr>\n",
       "      <th>2018-01-31 14:00:00-05:00</th>\n",
       "      <td>2846.50</td>\n",
       "      <td>2846.50</td>\n",
       "      <td>2846.50</td>\n",
       "      <td>2846.50</td>\n",
       "      <td>0</td>\n",
       "      <td>2846.50</td>\n",
       "      <td>0</td>\n",
       "    </tr>\n",
       "    <tr>\n",
       "      <th>2018-01-31 15:00:00-05:00</th>\n",
       "      <td>2846.50</td>\n",
       "      <td>2846.50</td>\n",
       "      <td>2846.50</td>\n",
       "      <td>2846.50</td>\n",
       "      <td>0</td>\n",
       "      <td>2846.50</td>\n",
       "      <td>0</td>\n",
       "    </tr>\n",
       "    <tr>\n",
       "      <th>2018-01-31 16:00:00-05:00</th>\n",
       "      <td>2846.50</td>\n",
       "      <td>2846.50</td>\n",
       "      <td>2846.50</td>\n",
       "      <td>2846.50</td>\n",
       "      <td>0</td>\n",
       "      <td>2846.50</td>\n",
       "      <td>0</td>\n",
       "    </tr>\n",
       "    <tr>\n",
       "      <th>2018-01-31 16:30:00-05:00</th>\n",
       "      <td>2846.50</td>\n",
       "      <td>2846.50</td>\n",
       "      <td>2846.50</td>\n",
       "      <td>2846.50</td>\n",
       "      <td>0</td>\n",
       "      <td>2846.50</td>\n",
       "      <td>0</td>\n",
       "    </tr>\n",
       "    <tr>\n",
       "      <th>2018-01-31 12:00:00-05:00</th>\n",
       "      <td>2846.50</td>\n",
       "      <td>2846.50</td>\n",
       "      <td>2846.50</td>\n",
       "      <td>2846.50</td>\n",
       "      <td>2</td>\n",
       "      <td>2846.50</td>\n",
       "      <td>1</td>\n",
       "    </tr>\n",
       "    <tr>\n",
       "      <th>2018-01-31 13:00:00-05:00</th>\n",
       "      <td>2846.50</td>\n",
       "      <td>2846.50</td>\n",
       "      <td>2846.50</td>\n",
       "      <td>2846.50</td>\n",
       "      <td>0</td>\n",
       "      <td>2846.50</td>\n",
       "      <td>0</td>\n",
       "    </tr>\n",
       "    <tr>\n",
       "      <th>2018-01-31 14:00:00-05:00</th>\n",
       "      <td>2846.50</td>\n",
       "      <td>2846.50</td>\n",
       "      <td>2846.50</td>\n",
       "      <td>2846.50</td>\n",
       "      <td>0</td>\n",
       "      <td>2846.50</td>\n",
       "      <td>0</td>\n",
       "    </tr>\n",
       "    <tr>\n",
       "      <th>2018-01-31 15:00:00-05:00</th>\n",
       "      <td>2846.50</td>\n",
       "      <td>2846.50</td>\n",
       "      <td>2846.50</td>\n",
       "      <td>2846.50</td>\n",
       "      <td>0</td>\n",
       "      <td>2846.50</td>\n",
       "      <td>0</td>\n",
       "    </tr>\n",
       "    <tr>\n",
       "      <th>2018-01-31 16:00:00-05:00</th>\n",
       "      <td>2846.50</td>\n",
       "      <td>2846.50</td>\n",
       "      <td>2846.50</td>\n",
       "      <td>2846.50</td>\n",
       "      <td>0</td>\n",
       "      <td>2846.50</td>\n",
       "      <td>0</td>\n",
       "    </tr>\n",
       "    <tr>\n",
       "      <th>2018-01-31 16:30:00-05:00</th>\n",
       "      <td>2846.50</td>\n",
       "      <td>2846.50</td>\n",
       "      <td>2846.50</td>\n",
       "      <td>2846.50</td>\n",
       "      <td>0</td>\n",
       "      <td>2846.50</td>\n",
       "      <td>0</td>\n",
       "    </tr>\n",
       "    <tr>\n",
       "      <th>2018-02-01 07:00:00-05:00</th>\n",
       "      <td>2847.25</td>\n",
       "      <td>2847.25</td>\n",
       "      <td>2847.25</td>\n",
       "      <td>2847.25</td>\n",
       "      <td>1</td>\n",
       "      <td>2847.25</td>\n",
       "      <td>1</td>\n",
       "    </tr>\n",
       "    <tr>\n",
       "      <th>2018-02-01 08:00:00-05:00</th>\n",
       "      <td>2844.75</td>\n",
       "      <td>2844.75</td>\n",
       "      <td>2844.75</td>\n",
       "      <td>2844.75</td>\n",
       "      <td>1</td>\n",
       "      <td>2844.75</td>\n",
       "      <td>1</td>\n",
       "    </tr>\n",
       "    <tr>\n",
       "      <th>2018-02-01 09:00:00-05:00</th>\n",
       "      <td>2844.75</td>\n",
       "      <td>2844.75</td>\n",
       "      <td>2844.75</td>\n",
       "      <td>2844.75</td>\n",
       "      <td>0</td>\n",
       "      <td>2844.75</td>\n",
       "      <td>0</td>\n",
       "    </tr>\n",
       "    <tr>\n",
       "      <th>2018-02-01 10:00:00-05:00</th>\n",
       "      <td>2844.75</td>\n",
       "      <td>2844.75</td>\n",
       "      <td>2844.75</td>\n",
       "      <td>2844.75</td>\n",
       "      <td>0</td>\n",
       "      <td>2844.75</td>\n",
       "      <td>0</td>\n",
       "    </tr>\n",
       "    <tr>\n",
       "      <th>2018-02-01 11:00:00-05:00</th>\n",
       "      <td>2844.75</td>\n",
       "      <td>2844.75</td>\n",
       "      <td>2844.75</td>\n",
       "      <td>2844.75</td>\n",
       "      <td>0</td>\n",
       "      <td>2844.75</td>\n",
       "      <td>0</td>\n",
       "    </tr>\n",
       "    <tr>\n",
       "      <th>2018-02-01 12:00:00-05:00</th>\n",
       "      <td>2844.75</td>\n",
       "      <td>2844.75</td>\n",
       "      <td>2844.75</td>\n",
       "      <td>2844.75</td>\n",
       "      <td>0</td>\n",
       "      <td>2844.75</td>\n",
       "      <td>0</td>\n",
       "    </tr>\n",
       "    <tr>\n",
       "      <th>2018-02-01 13:00:00-05:00</th>\n",
       "      <td>2844.75</td>\n",
       "      <td>2844.75</td>\n",
       "      <td>2844.75</td>\n",
       "      <td>2844.75</td>\n",
       "      <td>0</td>\n",
       "      <td>2844.75</td>\n",
       "      <td>0</td>\n",
       "    </tr>\n",
       "    <tr>\n",
       "      <th>2018-02-01 14:00:00-05:00</th>\n",
       "      <td>2844.75</td>\n",
       "      <td>2844.75</td>\n",
       "      <td>2844.75</td>\n",
       "      <td>2844.75</td>\n",
       "      <td>0</td>\n",
       "      <td>2844.75</td>\n",
       "      <td>0</td>\n",
       "    </tr>\n",
       "  </tbody>\n",
       "</table>\n",
       "</div>"
      ],
      "text/plain": [
       "                              open     high      low    close  volume  \\\n",
       "date                                                                    \n",
       "2018-01-29 14:00:00-05:00  2879.00  2879.00  2879.00  2879.00       1   \n",
       "2018-01-29 15:00:00-05:00  2877.00  2877.00  2877.00  2877.00       1   \n",
       "2018-01-29 16:00:00-05:00  2877.00  2877.00  2877.00  2877.00       0   \n",
       "2018-01-29 16:30:00-05:00  2877.00  2877.00  2877.00  2877.00       0   \n",
       "2018-01-29 22:00:00-05:00  2859.25  2859.25  2859.25  2859.25       2   \n",
       "2018-01-29 23:00:00-05:00  2859.25  2859.25  2859.25  2859.25       0   \n",
       "2018-01-30 00:00:00-05:00  2859.25  2859.25  2859.25  2859.25       0   \n",
       "2018-01-30 01:00:00-05:00  2859.25  2859.25  2859.25  2859.25       0   \n",
       "2018-01-30 02:00:00-05:00  2859.25  2859.25  2859.25  2859.25       0   \n",
       "2018-01-30 03:00:00-05:00  2859.25  2859.25  2859.25  2859.25       0   \n",
       "2018-01-30 04:00:00-05:00  2859.25  2859.25  2859.25  2859.25       0   \n",
       "2018-01-30 05:00:00-05:00  2859.25  2859.25  2859.25  2859.25       0   \n",
       "2018-01-30 06:00:00-05:00  2859.25  2859.25  2859.25  2859.25       0   \n",
       "2018-01-30 07:00:00-05:00  2859.25  2859.25  2859.25  2859.25       1   \n",
       "2018-01-30 08:00:00-05:00  2859.25  2859.25  2859.25  2859.25       0   \n",
       "2018-01-30 09:00:00-05:00  2859.25  2859.25  2859.25  2859.25       0   \n",
       "2018-01-30 10:00:00-05:00  2859.25  2859.25  2859.25  2859.25       0   \n",
       "2018-01-30 11:00:00-05:00  2859.25  2859.25  2859.25  2859.25       0   \n",
       "2018-01-30 12:00:00-05:00  2859.25  2859.25  2859.25  2859.25       0   \n",
       "2018-01-30 13:00:00-05:00  2859.25  2859.25  2859.25  2859.25       0   \n",
       "2018-01-30 14:00:00-05:00  2859.25  2859.25  2859.25  2859.25       0   \n",
       "2018-01-30 15:00:00-05:00  2859.25  2859.25  2859.25  2859.25       0   \n",
       "2018-01-30 16:00:00-05:00  2845.00  2845.00  2845.00  2845.00       1   \n",
       "2018-01-30 16:30:00-05:00  2845.00  2845.00  2845.00  2845.00       0   \n",
       "2018-01-31 12:00:00-05:00  2846.50  2846.50  2846.50  2846.50       2   \n",
       "2018-01-31 13:00:00-05:00  2846.50  2846.50  2846.50  2846.50       0   \n",
       "2018-01-31 14:00:00-05:00  2846.50  2846.50  2846.50  2846.50       0   \n",
       "2018-01-31 15:00:00-05:00  2846.50  2846.50  2846.50  2846.50       0   \n",
       "2018-01-31 16:00:00-05:00  2846.50  2846.50  2846.50  2846.50       0   \n",
       "2018-01-31 16:30:00-05:00  2846.50  2846.50  2846.50  2846.50       0   \n",
       "2018-01-31 12:00:00-05:00  2846.50  2846.50  2846.50  2846.50       2   \n",
       "2018-01-31 13:00:00-05:00  2846.50  2846.50  2846.50  2846.50       0   \n",
       "2018-01-31 14:00:00-05:00  2846.50  2846.50  2846.50  2846.50       0   \n",
       "2018-01-31 15:00:00-05:00  2846.50  2846.50  2846.50  2846.50       0   \n",
       "2018-01-31 16:00:00-05:00  2846.50  2846.50  2846.50  2846.50       0   \n",
       "2018-01-31 16:30:00-05:00  2846.50  2846.50  2846.50  2846.50       0   \n",
       "2018-02-01 07:00:00-05:00  2847.25  2847.25  2847.25  2847.25       1   \n",
       "2018-02-01 08:00:00-05:00  2844.75  2844.75  2844.75  2844.75       1   \n",
       "2018-02-01 09:00:00-05:00  2844.75  2844.75  2844.75  2844.75       0   \n",
       "2018-02-01 10:00:00-05:00  2844.75  2844.75  2844.75  2844.75       0   \n",
       "2018-02-01 11:00:00-05:00  2844.75  2844.75  2844.75  2844.75       0   \n",
       "2018-02-01 12:00:00-05:00  2844.75  2844.75  2844.75  2844.75       0   \n",
       "2018-02-01 13:00:00-05:00  2844.75  2844.75  2844.75  2844.75       0   \n",
       "2018-02-01 14:00:00-05:00  2844.75  2844.75  2844.75  2844.75       0   \n",
       "\n",
       "                           average  barCount  \n",
       "date                                          \n",
       "2018-01-29 14:00:00-05:00  2879.00         1  \n",
       "2018-01-29 15:00:00-05:00  2877.00         1  \n",
       "2018-01-29 16:00:00-05:00  2877.00         0  \n",
       "2018-01-29 16:30:00-05:00  2877.00         0  \n",
       "2018-01-29 22:00:00-05:00  2859.25         2  \n",
       "2018-01-29 23:00:00-05:00  2859.25         0  \n",
       "2018-01-30 00:00:00-05:00  2859.25         0  \n",
       "2018-01-30 01:00:00-05:00  2859.25         0  \n",
       "2018-01-30 02:00:00-05:00  2859.25         0  \n",
       "2018-01-30 03:00:00-05:00  2859.25         0  \n",
       "2018-01-30 04:00:00-05:00  2859.25         0  \n",
       "2018-01-30 05:00:00-05:00  2859.25         0  \n",
       "2018-01-30 06:00:00-05:00  2859.25         0  \n",
       "2018-01-30 07:00:00-05:00  2859.25         1  \n",
       "2018-01-30 08:00:00-05:00  2859.25         0  \n",
       "2018-01-30 09:00:00-05:00  2859.25         0  \n",
       "2018-01-30 10:00:00-05:00  2859.25         0  \n",
       "2018-01-30 11:00:00-05:00  2859.25         0  \n",
       "2018-01-30 12:00:00-05:00  2859.25         0  \n",
       "2018-01-30 13:00:00-05:00  2859.25         0  \n",
       "2018-01-30 14:00:00-05:00  2859.25         0  \n",
       "2018-01-30 15:00:00-05:00  2859.25         0  \n",
       "2018-01-30 16:00:00-05:00  2845.00         1  \n",
       "2018-01-30 16:30:00-05:00  2845.00         0  \n",
       "2018-01-31 12:00:00-05:00  2846.50         1  \n",
       "2018-01-31 13:00:00-05:00  2846.50         0  \n",
       "2018-01-31 14:00:00-05:00  2846.50         0  \n",
       "2018-01-31 15:00:00-05:00  2846.50         0  \n",
       "2018-01-31 16:00:00-05:00  2846.50         0  \n",
       "2018-01-31 16:30:00-05:00  2846.50         0  \n",
       "2018-01-31 12:00:00-05:00  2846.50         1  \n",
       "2018-01-31 13:00:00-05:00  2846.50         0  \n",
       "2018-01-31 14:00:00-05:00  2846.50         0  \n",
       "2018-01-31 15:00:00-05:00  2846.50         0  \n",
       "2018-01-31 16:00:00-05:00  2846.50         0  \n",
       "2018-01-31 16:30:00-05:00  2846.50         0  \n",
       "2018-02-01 07:00:00-05:00  2847.25         1  \n",
       "2018-02-01 08:00:00-05:00  2844.75         1  \n",
       "2018-02-01 09:00:00-05:00  2844.75         0  \n",
       "2018-02-01 10:00:00-05:00  2844.75         0  \n",
       "2018-02-01 11:00:00-05:00  2844.75         0  \n",
       "2018-02-01 12:00:00-05:00  2844.75         0  \n",
       "2018-02-01 13:00:00-05:00  2844.75         0  \n",
       "2018-02-01 14:00:00-05:00  2844.75         0  "
      ]
     },
     "execution_count": 9,
     "metadata": {},
     "output_type": "execute_result"
    }
   ],
   "source": [
    "df"
   ]
  },
  {
   "cell_type": "code",
   "execution_count": 10,
   "id": "eastern-vanilla",
   "metadata": {
    "ExecuteTime": {
     "end_time": "2021-02-19T23:07:04.050133Z",
     "start_time": "2021-02-19T23:05:03.808097Z"
    }
   },
   "outputs": [
    {
     "name": "stdout",
     "output_type": "stream",
     "text": [
      "start_ts='2018-01-28 15:00:00-05:00' end_ts='2018-02-01 15:00:00-05:00'\n",
      "Requesting data for curr_ts='2018-02-01 15:00:00-05:00'\n",
      "df=len=14 [2018-01-31 12:00:00-05:00, 2018-02-01 14:00:00-05:00]\n",
      "df=len=14 [2018-01-31 12:00:00-05:00, 2018-02-01 14:00:00-05:00]\n",
      "                             open    high     low   close  volume  average  \\\n",
      "date                                                                         \n",
      "2018-01-31 12:00:00-05:00  2846.5  2846.5  2846.5  2846.5       2   2846.5   \n",
      "2018-01-31 13:00:00-05:00  2846.5  2846.5  2846.5  2846.5       0   2846.5   \n",
      "2018-01-31 14:00:00-05:00  2846.5  2846.5  2846.5  2846.5       0   2846.5   \n",
      "\n",
      "                           barCount  \n",
      "date                                 \n",
      "2018-01-31 12:00:00-05:00         1  \n",
      "2018-01-31 13:00:00-05:00         0  \n",
      "2018-01-31 14:00:00-05:00         0  \n",
      "curr_ts='2018-01-31 12:00:00-05:00'\n",
      "Requesting data for curr_ts='2018-01-31 12:00:00-05:00'\n",
      "df=len=20 [2018-01-29 22:00:00-05:00, 2018-01-30 16:30:00-05:00]\n",
      "df=len=20 [2018-01-29 22:00:00-05:00, 2018-01-30 16:30:00-05:00]\n",
      "                              open     high      low    close  volume  \\\n",
      "date                                                                    \n",
      "2018-01-29 22:00:00-05:00  2859.25  2859.25  2859.25  2859.25       2   \n",
      "2018-01-29 23:00:00-05:00  2859.25  2859.25  2859.25  2859.25       0   \n",
      "2018-01-30 00:00:00-05:00  2859.25  2859.25  2859.25  2859.25       0   \n",
      "\n",
      "                           average  barCount  \n",
      "date                                          \n",
      "2018-01-29 22:00:00-05:00  2859.25         2  \n",
      "2018-01-29 23:00:00-05:00  2859.25         0  \n",
      "2018-01-30 00:00:00-05:00  2859.25         0  \n",
      "curr_ts='2018-01-29 22:00:00-05:00'\n",
      "Requesting data for curr_ts='2018-01-29 22:00:00-05:00'\n",
      "df=len=4 [2018-01-29 14:00:00-05:00, 2018-01-29 16:30:00-05:00]\n",
      "df=len=4 [2018-01-29 14:00:00-05:00, 2018-01-29 16:30:00-05:00]\n",
      "                             open    high     low   close  volume  average  \\\n",
      "date                                                                         \n",
      "2018-01-29 14:00:00-05:00  2879.0  2879.0  2879.0  2879.0       1   2879.0   \n",
      "2018-01-29 15:00:00-05:00  2877.0  2877.0  2877.0  2877.0       1   2877.0   \n",
      "2018-01-29 16:00:00-05:00  2877.0  2877.0  2877.0  2877.0       0   2877.0   \n",
      "\n",
      "                           barCount  \n",
      "date                                 \n",
      "2018-01-29 14:00:00-05:00         1  \n",
      "2018-01-29 15:00:00-05:00         1  \n",
      "2018-01-29 16:00:00-05:00         0  \n",
      "curr_ts='2018-01-29 14:00:00-05:00'\n",
      "Requesting data for curr_ts='2018-01-29 14:00:00-05:00'\n",
      "API error: 162: Historical Market Data Service error message:HMDS query returned no data: ESH1@GLOBEX Trades\n",
      "API error: 162: Historical Market Data Service error message:HMDS query returned no data: ESH1@GLOBEX Trades\n",
      "API error: 162: Historical Market Data Service error message:HMDS query returned no data: ESH1@GLOBEX Trades\n"
     ]
    },
    {
     "ename": "AttributeError",
     "evalue": "'NoneType' object has no attribute 'set_index'",
     "output_type": "error",
     "traceback": [
      "\u001b[0;31m---------------------------------------------------------------------------\u001b[0m",
      "\u001b[0;31mAttributeError\u001b[0m                            Traceback (most recent call last)",
      "\u001b[0;32m<ipython-input-10-5f819205555b>\u001b[0m in \u001b[0;36m<module>\u001b[0;34m\u001b[0m\n\u001b[0;32m----> 1\u001b[0;31m df2 = ibutils.get_historical_data_with_IB_loop(ib, contract, start_ts, end_ts, durationStr,\n\u001b[0m\u001b[1;32m      2\u001b[0m                                                       \u001b[0mbarSizeSetting\u001b[0m\u001b[0;34m,\u001b[0m\u001b[0;34m\u001b[0m\u001b[0;34m\u001b[0m\u001b[0m\n\u001b[1;32m      3\u001b[0m                                                       whatToShow, useRTH)\n",
      "\u001b[0;32m~/src/amp/im.ib.data.extract.gateway/utils.py\u001b[0m in \u001b[0;36mget_historical_data_with_IB_loop\u001b[0;34m(ib, contract, start_ts, end_ts, durationStr, barSizeSetting, whatToShow, useRTH, use_progress_bar, num_retry)\u001b[0m\n\u001b[1;32m    168\u001b[0m     \u001b[0;32mwhile\u001b[0m \u001b[0;32mTrue\u001b[0m\u001b[0;34m:\u001b[0m\u001b[0;34m\u001b[0m\u001b[0;34m\u001b[0m\u001b[0m\n\u001b[1;32m    169\u001b[0m         \u001b[0m_LOG\u001b[0m\u001b[0;34m.\u001b[0m\u001b[0mdebug\u001b[0m\u001b[0;34m(\u001b[0m\u001b[0;34m\"Requesting data for curr_ts='%s'\"\u001b[0m\u001b[0;34m,\u001b[0m \u001b[0mcurr_ts\u001b[0m\u001b[0;34m)\u001b[0m\u001b[0;34m\u001b[0m\u001b[0;34m\u001b[0m\u001b[0m\n\u001b[0;32m--> 170\u001b[0;31m         df= get_historical_data(ib, contract, curr_ts, durationStr,\n\u001b[0m\u001b[1;32m    171\u001b[0m                                          barSizeSetting, whatToShow, useRTH, num_retry=num_retry)\n\u001b[1;32m    172\u001b[0m         \u001b[0;32mif\u001b[0m \u001b[0mdf\u001b[0m \u001b[0;32mis\u001b[0m \u001b[0;32mNone\u001b[0m\u001b[0;34m:\u001b[0m\u001b[0;34m\u001b[0m\u001b[0;34m\u001b[0m\u001b[0m\n",
      "\u001b[0;32m~/src/amp/im.ib.data.extract.gateway/utils.py\u001b[0m in \u001b[0;36mget_historical_data\u001b[0;34m(ib, contract, end_ts, durationStr, barSizeSetting, whatToShow, useRTH, num_retry)\u001b[0m\n\u001b[1;32m    121\u001b[0m     \u001b[0;31m# Organize the data as a dataframe with increasing times.\u001b[0m\u001b[0;34m\u001b[0m\u001b[0;34m\u001b[0m\u001b[0;34m\u001b[0m\u001b[0m\n\u001b[1;32m    122\u001b[0m     \u001b[0mdf\u001b[0m \u001b[0;34m=\u001b[0m \u001b[0mib_insync\u001b[0m\u001b[0;34m.\u001b[0m\u001b[0mutil\u001b[0m\u001b[0;34m.\u001b[0m\u001b[0mdf\u001b[0m\u001b[0;34m(\u001b[0m\u001b[0mbars\u001b[0m\u001b[0;34m)\u001b[0m\u001b[0;34m\u001b[0m\u001b[0;34m\u001b[0m\u001b[0m\n\u001b[0;32m--> 123\u001b[0;31m     \u001b[0mdf\u001b[0m\u001b[0;34m.\u001b[0m\u001b[0mset_index\u001b[0m\u001b[0;34m(\u001b[0m\u001b[0;34m\"date\"\u001b[0m\u001b[0;34m,\u001b[0m \u001b[0mdrop\u001b[0m\u001b[0;34m=\u001b[0m\u001b[0;32mTrue\u001b[0m\u001b[0;34m,\u001b[0m \u001b[0minplace\u001b[0m\u001b[0;34m=\u001b[0m\u001b[0;32mTrue\u001b[0m\u001b[0;34m)\u001b[0m\u001b[0;34m\u001b[0m\u001b[0;34m\u001b[0m\u001b[0m\n\u001b[0m\u001b[1;32m    124\u001b[0m     \u001b[0mdbg\u001b[0m\u001b[0;34m.\u001b[0m\u001b[0mdassert_monotonic_index\u001b[0m\u001b[0;34m(\u001b[0m\u001b[0mdf\u001b[0m\u001b[0;34m)\u001b[0m\u001b[0;34m\u001b[0m\u001b[0;34m\u001b[0m\u001b[0m\n\u001b[1;32m    125\u001b[0m     \u001b[0;31m# Convert to ET.\u001b[0m\u001b[0;34m\u001b[0m\u001b[0;34m\u001b[0m\u001b[0;34m\u001b[0m\u001b[0m\n",
      "\u001b[0;31mAttributeError\u001b[0m: 'NoneType' object has no attribute 'set_index'"
     ]
    }
   ],
   "source": [
    "df2 = imidegaut.get_historical_data_with_IB_loop(\n",
    "    ib,\n",
    "    contract,\n",
    "    start_ts,\n",
    "    end_ts,\n",
    "    durationStr,\n",
    "    barSizeSetting,\n",
    "    whatToShow,\n",
    "    useRTH,\n",
    ")"
   ]
  },
  {
   "cell_type": "code",
   "execution_count": null,
   "id": "manufactured-suicide",
   "metadata": {},
   "outputs": [],
   "source": [
    "hprint.print(df.index)"
   ]
  },
  {
   "cell_type": "code",
   "execution_count": null,
   "id": "binary-lyric",
   "metadata": {},
   "outputs": [],
   "source": [
    "contract = ib_insync.ContFuture(\"ES\", \"GLOBEX\", \"USD\")\n",
    "whatToShow = \"TRADES\"\n",
    "durationStr = \"1 D\"\n",
    "barSizeSetting = \"1 hour\"\n",
    "# 2021-02-18 is a Thursday and it's full day.\n",
    "start_ts = pd.Timestamp(\"2021-02-17 00:00:00\")\n",
    "end_ts = pd.Timestamp(\"2021-02-18 23:59:59\")\n",
    "useRTH = False\n",
    "df, return_ts_seq = imidegaut.get_historical_data_with_IB_loop(\n",
    "    ib,\n",
    "    contract,\n",
    "    start_ts,\n",
    "    end_ts,\n",
    "    durationStr,\n",
    "    barSizeSetting,\n",
    "    whatToShow,\n",
    "    useRTH,\n",
    "    return_ts_seq=True,\n",
    ")\n",
    "print(return_ts_seq)"
   ]
  },
  {
   "cell_type": "code",
   "execution_count": 21,
   "id": "adult-access",
   "metadata": {
    "ExecuteTime": {
     "end_time": "2021-02-19T23:31:04.262475Z",
     "start_time": "2021-02-19T23:31:04.223515Z"
    }
   },
   "outputs": [
    {
     "name": "stdout",
     "output_type": "stream",
     "text": [
      "(datetime.datetime(2021, 2, 18, 23, 59, 59, tzinfo=<DstTzInfo 'America/New_York' EST-1 day, 19:00:00 STD>), Timestamp('2021-02-18 18:00:00-0500', tz='America/New_York'))\n",
      "(Timestamp('2021-02-18 18:00:00-0500', tz='America/New_York'), Timestamp('2021-02-17 18:00:00-0500', tz='America/New_York'))\n",
      "(Timestamp('2021-02-17 18:00:00-0500', tz='America/New_York'), Timestamp('2021-02-16 18:00:00-0500', tz='America/New_York'))\n"
     ]
    }
   ],
   "source": [
    "print(\"\\n\".join(map(str, return_ts_seq)))"
   ]
  }
 ],
 "metadata": {
  "kernelspec": {
   "display_name": "Python [conda env:.conda-dev] *",
   "language": "python",
   "name": "conda-env-.conda-dev-py"
  },
  "language_info": {
   "codemirror_mode": {
    "name": "ipython",
    "version": 3
   },
   "file_extension": ".py",
   "mimetype": "text/x-python",
   "name": "python",
   "nbconvert_exporter": "python",
   "pygments_lexer": "ipython3",
   "version": "3.8.6"
  },
  "toc": {
   "base_numbering": 1,
   "nav_menu": {},
   "number_sections": true,
   "sideBar": true,
   "skip_h1_title": false,
   "title_cell": "Table of Contents",
   "title_sidebar": "Contents",
   "toc_cell": false,
   "toc_position": {
    "height": "calc(100% - 180px)",
    "left": "10px",
    "top": "150px",
    "width": "165px"
   },
   "toc_section_display": true,
   "toc_window_display": true
  }
 },
 "nbformat": 4,
 "nbformat_minor": 5
}
