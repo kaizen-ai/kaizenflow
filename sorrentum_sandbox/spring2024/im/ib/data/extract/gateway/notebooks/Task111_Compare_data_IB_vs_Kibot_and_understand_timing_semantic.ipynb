{
 "cells": [
  {
   "cell_type": "markdown",
   "metadata": {
    "ExecuteTime": {
     "end_time": "2021-01-29T21:12:31.745956Z",
     "start_time": "2021-01-29T21:12:31.743526Z"
    }
   },
   "source": [
    "## Imports"
   ]
  },
  {
   "cell_type": "code",
   "execution_count": 1,
   "metadata": {
    "ExecuteTime": {
     "end_time": "2021-02-17T22:04:37.329400Z",
     "start_time": "2021-02-17T22:04:35.161117Z"
    }
   },
   "outputs": [
    {
     "name": "stderr",
     "output_type": "stream",
     "text": [
      "/Users/saggese/src/amp/im/kibot/metadata/load/kibot_metadata.py:465: TqdmExperimentalWarning: Using `tqdm.autonotebook.tqdm` in notebook mode. Use `tqdm.tqdm` instead to force console mode (e.g. in jupyter console)\n",
      "  from tqdm.autonotebook import tqdm\n"
     ]
    }
   ],
   "source": [
    "%load_ext autoreload\n",
    "%autoreload 2\n",
    "%matplotlib inline\n",
    "\n",
    "import datetime\n",
    "import logging\n",
    "\n",
    "import matplotlib.pyplot as plt\n",
    "import pandas as pd\n",
    "\n",
    "import core.explore as coexplor\n",
    "import helpers.hdbg as hdbg\n",
    "import helpers.henv as henv\n",
    "import helpers.hpandas as hpandas\n",
    "import helpers.hprint as hprint\n",
    "import im.ib.data.extract.gateway.utils as imidegaut\n",
    "import im.kibot as vakibot"
   ]
  },
  {
   "cell_type": "code",
   "execution_count": 2,
   "metadata": {
    "ExecuteTime": {
     "end_time": "2021-02-17T22:04:40.711486Z",
     "start_time": "2021-02-17T22:04:38.880280Z"
    }
   },
   "outputs": [
    {
     "name": "stdout",
     "output_type": "stream",
     "text": [
      "\u001b[0mWARNING: Running in Jupyter\n",
      "# Packages\n",
      "         python: 3.7.6\n",
      "       gluonnlp: 0.9.1\n",
      "        gluonts: 0.5.0\n",
      "         joblib: 0.15.1\n",
      "          mxnet: 1.6.0\n",
      "          numpy: 1.19.2\n",
      "         pandas: 1.0.5\n",
      "        pyarrow: 0.17.1\n",
      "          scipy: 1.4.1\n",
      "        seaborn: 0.10.1\n",
      "        sklearn: 0.23.1\n",
      "    statsmodels: 0.11.1\n",
      "# Last commits:\n",
      "  * c43ef11 saggese  End-to-end comparison of Kibot and IB                             (26 seconds ago) Wed Feb 17 17:04:14 2021  (HEAD -> Task109_Extract_futures_prices_from_dockerized_TWS, origin/Task109_Extract_futures_prices_from_dockerized_TWS)\n",
      "  * 50fc6e8 saggese  Checkpoint                                                        (  20 hours ago) Tue Feb 16 21:08:05 2021           \n",
      "  * a4c054c saggese  Checkpoint                                                        (    2 days ago) Mon Feb 15 20:51:20 2021           \n"
     ]
    }
   ],
   "source": [
    "hdbg.init_logger(verbosity=logging.INFO)\n",
    "\n",
    "_LOG = logging.getLogger(__name__)\n",
    "\n",
    "_LOG.info(\"%s\", henv.get_system_signature()[0])\n",
    "\n",
    "hprint.config_notebook()"
   ]
  },
  {
   "cell_type": "code",
   "execution_count": 5,
   "metadata": {
    "ExecuteTime": {
     "end_time": "2021-02-17T22:04:58.384379Z",
     "start_time": "2021-02-17T22:04:58.327222Z"
    }
   },
   "outputs": [],
   "source": [
    "def get_min_max_from_index(df):\n",
    "    min_dt = min(df.index)\n",
    "    max_dt = max(df.index)\n",
    "    if True:\n",
    "        min_dt = str(pd.Timestamp(min_dt).date())\n",
    "        max_dt = str(pd.Timestamp(max_dt).date())\n",
    "    print(\"min=\", min_dt)\n",
    "    print(\"max=\", max_dt)\n",
    "    return min_dt, max_dt\n",
    "\n",
    "\n",
    "def print_df(df, n=3):\n",
    "    print(\"shape=\", df.shape)\n",
    "    display(df.head(n))\n",
    "    display(df.tail(n))"
   ]
  },
  {
   "cell_type": "markdown",
   "metadata": {},
   "source": [
    "# Kibot"
   ]
  },
  {
   "cell_type": "code",
   "execution_count": 7,
   "metadata": {
    "ExecuteTime": {
     "end_time": "2021-02-17T22:05:32.394263Z",
     "start_time": "2021-02-17T22:05:31.336979Z"
    }
   },
   "outputs": [],
   "source": [
    "df_kibot = vakibot.KibotS3DataLoader().read_data(\n",
    "    \"Kibot\",\n",
    "    \"ES\",\n",
    "    vakibot.AssetClass.Futures,\n",
    "    vakibot.Frequency.Minutely,\n",
    "    vakibot.ContractType.Continuous,\n",
    ")\n",
    "df_kibot.head()\n",
    "df_kibot_orig = df_kibot.copy()"
   ]
  },
  {
   "cell_type": "code",
   "execution_count": 9,
   "metadata": {
    "ExecuteTime": {
     "end_time": "2021-02-17T22:05:46.661034Z",
     "start_time": "2021-02-17T22:05:46.261432Z"
    }
   },
   "outputs": [
    {
     "name": "stdout",
     "output_type": "stream",
     "text": [
      "shape= (3413857, 5)\n"
     ]
    },
    {
     "data": {
      "text/html": [
       "<div>\n",
       "<style scoped>\n",
       "    .dataframe tbody tr th:only-of-type {\n",
       "        vertical-align: middle;\n",
       "    }\n",
       "\n",
       "    .dataframe tbody tr th {\n",
       "        vertical-align: top;\n",
       "    }\n",
       "\n",
       "    .dataframe thead th {\n",
       "        text-align: right;\n",
       "    }\n",
       "</style>\n",
       "<table border=\"1\" class=\"dataframe\">\n",
       "  <thead>\n",
       "    <tr style=\"text-align: right;\">\n",
       "      <th></th>\n",
       "      <th>open</th>\n",
       "      <th>high</th>\n",
       "      <th>low</th>\n",
       "      <th>close</th>\n",
       "      <th>volume</th>\n",
       "    </tr>\n",
       "    <tr>\n",
       "      <th>datetime</th>\n",
       "      <th></th>\n",
       "      <th></th>\n",
       "      <th></th>\n",
       "      <th></th>\n",
       "      <th></th>\n",
       "    </tr>\n",
       "  </thead>\n",
       "  <tbody>\n",
       "    <tr>\n",
       "      <th>2009-09-27 18:00:00-04:00</th>\n",
       "      <td>1042.25</td>\n",
       "      <td>1043.25</td>\n",
       "      <td>1042.25</td>\n",
       "      <td>1043.00</td>\n",
       "      <td>1354</td>\n",
       "    </tr>\n",
       "    <tr>\n",
       "      <th>2009-09-27 18:01:00-04:00</th>\n",
       "      <td>1043.25</td>\n",
       "      <td>1043.50</td>\n",
       "      <td>1042.75</td>\n",
       "      <td>1042.75</td>\n",
       "      <td>778</td>\n",
       "    </tr>\n",
       "  </tbody>\n",
       "</table>\n",
       "</div>"
      ],
      "text/plain": [
       "                              open     high      low    close  volume\n",
       "datetime                                                             \n",
       "2009-09-27 18:00:00-04:00  1042.25  1043.25  1042.25  1043.00    1354\n",
       "2009-09-27 18:01:00-04:00  1043.25  1043.50  1042.75  1042.75     778"
      ]
     },
     "metadata": {},
     "output_type": "display_data"
    },
    {
     "data": {
      "text/html": [
       "<div>\n",
       "<style scoped>\n",
       "    .dataframe tbody tr th:only-of-type {\n",
       "        vertical-align: middle;\n",
       "    }\n",
       "\n",
       "    .dataframe tbody tr th {\n",
       "        vertical-align: top;\n",
       "    }\n",
       "\n",
       "    .dataframe thead th {\n",
       "        text-align: right;\n",
       "    }\n",
       "</style>\n",
       "<table border=\"1\" class=\"dataframe\">\n",
       "  <thead>\n",
       "    <tr style=\"text-align: right;\">\n",
       "      <th></th>\n",
       "      <th>open</th>\n",
       "      <th>high</th>\n",
       "      <th>low</th>\n",
       "      <th>close</th>\n",
       "      <th>volume</th>\n",
       "    </tr>\n",
       "    <tr>\n",
       "      <th>datetime</th>\n",
       "      <th></th>\n",
       "      <th></th>\n",
       "      <th></th>\n",
       "      <th></th>\n",
       "      <th></th>\n",
       "    </tr>\n",
       "  </thead>\n",
       "  <tbody>\n",
       "    <tr>\n",
       "      <th>2019-07-19 16:58:00-04:00</th>\n",
       "      <td>2972.25</td>\n",
       "      <td>2972.50</td>\n",
       "      <td>2971.5</td>\n",
       "      <td>2971.5</td>\n",
       "      <td>458</td>\n",
       "    </tr>\n",
       "    <tr>\n",
       "      <th>2019-07-19 16:59:00-04:00</th>\n",
       "      <td>2971.75</td>\n",
       "      <td>2971.75</td>\n",
       "      <td>2969.5</td>\n",
       "      <td>2971.0</td>\n",
       "      <td>2338</td>\n",
       "    </tr>\n",
       "  </tbody>\n",
       "</table>\n",
       "</div>"
      ],
      "text/plain": [
       "                              open     high     low   close  volume\n",
       "datetime                                                           \n",
       "2019-07-19 16:58:00-04:00  2972.25  2972.50  2971.5  2971.5     458\n",
       "2019-07-19 16:59:00-04:00  2971.75  2971.75  2969.5  2971.0    2338"
      ]
     },
     "metadata": {},
     "output_type": "display_data"
    }
   ],
   "source": [
    "df_kibot = df_kibot_orig.copy()\n",
    "df_kibot.rename({\"vol\": \"volume\"}, axis=1, inplace=True)\n",
    "# df_kibot.index = pd.to_datetime(df_kibot.index, utc=True).tz_convert(tz='America/New_York')\n",
    "df_kibot.index = pd.to_datetime(df_kibot.index).tz_localize(tz=\"America/New_York\")\n",
    "\n",
    "print_df(df_kibot, n=2)"
   ]
  },
  {
   "cell_type": "code",
   "execution_count": 10,
   "metadata": {
    "ExecuteTime": {
     "end_time": "2021-02-17T22:06:02.011379Z",
     "start_time": "2021-02-17T22:05:59.752720Z"
    },
    "scrolled": false
   },
   "outputs": [
    {
     "name": "stdout",
     "output_type": "stream",
     "text": [
      "2019-05-27 00:00:00 Monday\n",
      "2019-05-30 00:00:00 Thursday\n",
      "samples=4321 [2019-05-27 00:00:00-04:00, 2019-05-30 00:00:00-04:00]\n",
      "2019-05-27 Monday\n",
      "2019-05-28 Tuesday\n",
      "2019-05-29 Wednesday\n",
      "2019-05-30 Thursday\n",
      "samples=4321 [2019-05-27 00:00:00-04:00, 2019-05-30 00:00:00-04:00]\n",
      "datetime\n",
      "2019-05-27 00:35:00-04:00    False\n",
      "2019-05-27 00:43:00-04:00    False\n",
      "2019-05-27 07:25:00-04:00    False\n",
      "2019-05-27 13:00:00-04:00    False\n",
      "2019-05-27 13:01:00-04:00    False\n",
      "Name: volume, dtype: bool\n",
      "no support= 454\n",
      "with support= 3867\n"
     ]
    },
    {
     "data": {
      "image/png": "[encoded data removed]",
      "text/plain": [
       "<Figure size 1440x720 with 3 Axes>"
      ]
     },
     "metadata": {},
     "output_type": "display_data"
    }
   ],
   "source": [
    "fig, (ax1, ax2, ax3) = plt.subplots(\n",
    "    nrows=3, ncols=1, sharex=True, figsize=(20, 10)\n",
    ")\n",
    "\n",
    "df_tmp = df_kibot.resample(\"1T\").mean()\n",
    "\n",
    "a = pd.Timestamp(\"2019-05-27 00:00:00\")\n",
    "# a = pd.Timestamp(\"2019-05-29 00:00:00\")\n",
    "# a = pd.Timestamp(\"2019-06-02 00:00:00\")\n",
    "print(a, a.day_name())\n",
    "\n",
    "# b = a + pd.DateOffset(14)\n",
    "# b = a + pd.DateOffset(7)\n",
    "b = a + pd.DateOffset(3)\n",
    "# b = a + pd.DateOffset(1)\n",
    "print(b, b.day_name())\n",
    "\n",
    "df_tmp = df_tmp[a:b][[\"close\", \"volume\"]]\n",
    "print(\n",
    "    \"samples=%d [%s, %s]\" % (df_tmp.shape[0], df_tmp.index[0], df_tmp.index[-1])\n",
    ")\n",
    "\n",
    "dates = sorted(list(set(df_tmp.index.date)))  # .unique()\n",
    "for date in dates:\n",
    "    print(date, pd.Timestamp(date).day_name())\n",
    "\n",
    "df_tmp = df_tmp.resample(\"1T\").mean()\n",
    "df_tmp[\"close\"].plot(ax=ax1)\n",
    "df_tmp[\"volume\"].plot(ax=ax2)\n",
    "print(\n",
    "    \"samples=%d [%s, %s]\" % (df_tmp.shape[0], df_tmp.index[0], df_tmp.index[-1])\n",
    ")\n",
    "\n",
    "#\n",
    "# df_tmp2 = df_tmp.resample(\"1T\").mean()\n",
    "# print(\"samples=%d [%s, %s]\" % (df_tmp2.shape[0], df_tmp2.index[0], df_tmp2.index[-1]))\n",
    "\n",
    "# support = ~pd.isnull(df_tmp[\"close\"])\n",
    "support = ~pd.isnull(df_tmp[\"volume\"])\n",
    "print(support[~support].head())\n",
    "print(\"no support=\", (~support[~support]).sum())\n",
    "print(\"with support=\", support[support].sum())\n",
    "pd.DataFrame(1.0 * support).plot(ax=ax3)\n",
    "\n",
    "for date in dates:\n",
    "    for h, m in ((9, 0), (16, 30)):\n",
    "        date_tmp = datetime.datetime.combine(date, datetime.time(h, m))\n",
    "        date_tmp = pd.Timestamp(date_tmp).tz_localize(tz=\"America/New_York\")\n",
    "        plt.axvline(date_tmp, color=\"red\", linestyle=\"--\", linewidth=3)"
   ]
  },
  {
   "cell_type": "markdown",
   "metadata": {},
   "source": [
    "# IB"
   ]
  },
  {
   "cell_type": "code",
   "execution_count": 13,
   "metadata": {
    "ExecuteTime": {
     "end_time": "2021-02-17T22:06:31.417166Z",
     "start_time": "2021-02-17T22:06:31.343115Z"
    }
   },
   "outputs": [
    {
     "name": "stdout",
     "output_type": "stream",
     "text": [
      "Connecting to 127.0.0.1:7497 with clientId 1...\n",
      "Connected\n",
      "Logged on to server version 152\n",
      "API connection ready\n",
      "Warning 2104, reqId -1: Market data farm connection is OK:usfarm.nj\n",
      "Warning 2104, reqId -1: Market data farm connection is OK:eufarm\n",
      "Warning 2104, reqId -1: Market data farm connection is OK:usfuture\n",
      "Warning 2104, reqId -1: Market data farm connection is OK:cashfarm\n",
      "Warning 2104, reqId -1: Market data farm connection is OK:usfarm\n",
      "Warning 2106, reqId -1: HMDS data farm connection is OK:ushmds\n",
      "Warning 2158, reqId -1: Sec-def data farm connection is OK:secdefil\n",
      "position: Position(account='DU3235841', contract=Forex('EURUSD', conId=12087792, localSymbol='EUR.USD', tradingClass='EUR.USD'), position=-3900.0, avgCost=1.2093013)\n",
      "updatePortfolio: PortfolioItem(contract=Forex('EURUSD', conId=12087792, right='0', primaryExchange='IDEALPRO', localSymbol='EUR.USD', tradingClass='EUR.USD'), position=-3900.0, marketPrice=1.204085, marketValue=-4695.93, averageCost=1.2093013, unrealizedPNL=20.34, realizedPNL=0.0, account='DU3235841')\n",
      "Synchronization complete\n",
      "Connected!\n"
     ]
    }
   ],
   "source": [
    "import ib_insync\n",
    "\n",
    "ib = imidegaut.ib_connect(1)"
   ]
  },
  {
   "cell_type": "code",
   "execution_count": 37,
   "metadata": {
    "ExecuteTime": {
     "end_time": "2021-02-17T22:16:40.302441Z",
     "start_time": "2021-02-17T22:16:18.829893Z"
    }
   },
   "outputs": [],
   "source": [
    "contract = ib_insync.ContFuture(\"ES\", \"GLOBEX\", \"USD\")\n",
    "whatToShow = \"TRADES\"\n",
    "barSizeSetting = \"1 min\"\n",
    "# barSizeSetting = '1 hour'\n",
    "useRTH = False\n",
    "\n",
    "start_ts = pd.Timestamp(\"2019-05-28 15:00\").tz_localize(tz=\"America/New_York\")\n",
    "end_ts = pd.Timestamp(\"2019-05-29 15:00\").tz_localize(tz=\"America/New_York\")\n",
    "\n",
    "# file_name = \"ES.csv\"\n",
    "# if os.path.exists(file_name):\n",
    "# df_ib = imidegaut.get_data(ib, contract, start_ts, end_ts, barSizeSetting, whatToShow, useRTH)\n",
    "# df_ib.to_csv(\"ES.csv\")\n",
    "\n",
    "durationStr = \"1 D\"\n",
    "df_ib = imidegaut.req_historical_data(\n",
    "    ib, contract, end_ts, durationStr, barSizeSetting, whatToShow, useRTH\n",
    ")"
   ]
  },
  {
   "cell_type": "code",
   "execution_count": 38,
   "metadata": {
    "ExecuteTime": {
     "end_time": "2021-02-17T22:16:48.877589Z",
     "start_time": "2021-02-17T22:16:48.825301Z"
    }
   },
   "outputs": [
    {
     "data": {
      "text/html": [
       "<div>\n",
       "<style scoped>\n",
       "    .dataframe tbody tr th:only-of-type {\n",
       "        vertical-align: middle;\n",
       "    }\n",
       "\n",
       "    .dataframe tbody tr th {\n",
       "        vertical-align: top;\n",
       "    }\n",
       "\n",
       "    .dataframe thead th {\n",
       "        text-align: right;\n",
       "    }\n",
       "</style>\n",
       "<table border=\"1\" class=\"dataframe\">\n",
       "  <thead>\n",
       "    <tr style=\"text-align: right;\">\n",
       "      <th></th>\n",
       "      <th>open</th>\n",
       "      <th>high</th>\n",
       "      <th>low</th>\n",
       "      <th>close</th>\n",
       "      <th>volume</th>\n",
       "      <th>average</th>\n",
       "      <th>barCount</th>\n",
       "    </tr>\n",
       "    <tr>\n",
       "      <th>date</th>\n",
       "      <th></th>\n",
       "      <th></th>\n",
       "      <th></th>\n",
       "      <th></th>\n",
       "      <th></th>\n",
       "      <th></th>\n",
       "      <th></th>\n",
       "    </tr>\n",
       "  </thead>\n",
       "  <tbody>\n",
       "    <tr>\n",
       "      <th>2019-05-28 18:00:00-04:00</th>\n",
       "      <td>2804.25</td>\n",
       "      <td>2805.25</td>\n",
       "      <td>2802.25</td>\n",
       "      <td>2803.5</td>\n",
       "      <td>1398</td>\n",
       "      <td>2803.700</td>\n",
       "      <td>322</td>\n",
       "    </tr>\n",
       "    <tr>\n",
       "      <th>2019-05-28 18:01:00-04:00</th>\n",
       "      <td>2803.50</td>\n",
       "      <td>2804.00</td>\n",
       "      <td>2803.25</td>\n",
       "      <td>2803.5</td>\n",
       "      <td>322</td>\n",
       "      <td>2803.725</td>\n",
       "      <td>86</td>\n",
       "    </tr>\n",
       "  </tbody>\n",
       "</table>\n",
       "</div>"
      ],
      "text/plain": [
       "                              open     high      low   close  volume   average  barCount\n",
       "date                                                                                    \n",
       "2019-05-28 18:00:00-04:00  2804.25  2805.25  2802.25  2803.5    1398  2803.700       322\n",
       "2019-05-28 18:01:00-04:00  2803.50  2804.00  2803.25  2803.5     322  2803.725        86"
      ]
     },
     "metadata": {},
     "output_type": "display_data"
    },
    {
     "name": "stdout",
     "output_type": "stream",
     "text": [
      "2019-05-28 18:00:00-04:00 2019-05-29 14:59:00-04:00\n"
     ]
    },
    {
     "data": {
      "text/html": [
       "<div>\n",
       "<style scoped>\n",
       "    .dataframe tbody tr th:only-of-type {\n",
       "        vertical-align: middle;\n",
       "    }\n",
       "\n",
       "    .dataframe tbody tr th {\n",
       "        vertical-align: top;\n",
       "    }\n",
       "\n",
       "    .dataframe thead th {\n",
       "        text-align: right;\n",
       "    }\n",
       "</style>\n",
       "<table border=\"1\" class=\"dataframe\">\n",
       "  <thead>\n",
       "    <tr style=\"text-align: right;\">\n",
       "      <th></th>\n",
       "      <th>open</th>\n",
       "      <th>high</th>\n",
       "      <th>low</th>\n",
       "      <th>close</th>\n",
       "      <th>volume</th>\n",
       "    </tr>\n",
       "    <tr>\n",
       "      <th>datetime</th>\n",
       "      <th></th>\n",
       "      <th></th>\n",
       "      <th></th>\n",
       "      <th></th>\n",
       "      <th></th>\n",
       "    </tr>\n",
       "  </thead>\n",
       "  <tbody>\n",
       "    <tr>\n",
       "      <th>2009-09-27 18:00:00-04:00</th>\n",
       "      <td>1042.25</td>\n",
       "      <td>1043.25</td>\n",
       "      <td>1042.25</td>\n",
       "      <td>1043.00</td>\n",
       "      <td>1354</td>\n",
       "    </tr>\n",
       "    <tr>\n",
       "      <th>2009-09-27 18:01:00-04:00</th>\n",
       "      <td>1043.25</td>\n",
       "      <td>1043.50</td>\n",
       "      <td>1042.75</td>\n",
       "      <td>1042.75</td>\n",
       "      <td>778</td>\n",
       "    </tr>\n",
       "  </tbody>\n",
       "</table>\n",
       "</div>"
      ],
      "text/plain": [
       "                              open     high      low    close  volume\n",
       "datetime                                                             \n",
       "2009-09-27 18:00:00-04:00  1042.25  1043.25  1042.25  1043.00    1354\n",
       "2009-09-27 18:01:00-04:00  1043.25  1043.50  1042.75  1042.75     778"
      ]
     },
     "metadata": {},
     "output_type": "display_data"
    },
    {
     "name": "stdout",
     "output_type": "stream",
     "text": [
      "2009-09-27 18:00:00-04:00 2019-07-19 16:59:00-04:00\n"
     ]
    }
   ],
   "source": [
    "display(df_ib.head(2))\n",
    "print(df_ib.index[0], df_ib.index[-1])\n",
    "\n",
    "display(df_kibot.head(2))\n",
    "print(df_kibot.index[0], df_kibot.index[-1])"
   ]
  },
  {
   "cell_type": "markdown",
   "metadata": {},
   "source": [
    "# Compare"
   ]
  },
  {
   "cell_type": "code",
   "execution_count": 93,
   "metadata": {
    "ExecuteTime": {
     "end_time": "2021-02-17T22:27:11.675233Z",
     "start_time": "2021-02-17T22:27:11.625052Z"
    }
   },
   "outputs": [
    {
     "name": "stdout",
     "output_type": "stream",
     "text": [
      "updatePortfolio: PortfolioItem(contract=Forex('EURUSD', conId=12087792, right='0', primaryExchange='IDEALPRO', localSymbol='EUR.USD', tradingClass='EUR.USD'), position=-3900.0, marketPrice=1.204425, marketValue=-4697.26, averageCost=1.2093013, unrealizedPNL=19.02, realizedPNL=0.0, account='DU3235841')\n",
      "updatePortfolio: PortfolioItem(contract=Forex('EURUSD', conId=12087792, right='0', primaryExchange='IDEALPRO', localSymbol='EUR.USD', tradingClass='EUR.USD'), position=-3900.0, marketPrice=1.20456005, marketValue=-4697.78, averageCost=1.2093013, unrealizedPNL=18.49, realizedPNL=0.0, account='DU3235841')\n",
      "updatePortfolio: PortfolioItem(contract=Forex('EURUSD', conId=12087792, right='0', primaryExchange='IDEALPRO', localSymbol='EUR.USD', tradingClass='EUR.USD'), position=-3900.0, marketPrice=1.20441495, marketValue=-4697.22, averageCost=1.2093013, unrealizedPNL=19.06, realizedPNL=0.0, account='DU3235841')\n",
      "updatePortfolio: PortfolioItem(contract=Forex('EURUSD', conId=12087792, right='0', primaryExchange='IDEALPRO', localSymbol='EUR.USD', tradingClass='EUR.USD'), position=-3900.0, marketPrice=1.20449495, marketValue=-4697.53, averageCost=1.2093013, unrealizedPNL=18.74, realizedPNL=0.0, account='DU3235841')\n",
      "Warning 2103, reqId -1: Market data farm connection is broken:usfuture\n",
      "Warning 2104, reqId -1: Market data farm connection is OK:usfuture\n",
      "updatePortfolio: PortfolioItem(contract=Forex('EURUSD', conId=12087792, right='0', primaryExchange='IDEALPRO', localSymbol='EUR.USD', tradingClass='EUR.USD'), position=-3900.0, marketPrice=1.204455, marketValue=-4697.37, averageCost=1.2093013, unrealizedPNL=18.9, realizedPNL=0.0, account='DU3235841')\n",
      "updatePortfolio: PortfolioItem(contract=Forex('EURUSD', conId=12087792, right='0', primaryExchange='IDEALPRO', localSymbol='EUR.USD', tradingClass='EUR.USD'), position=-3900.0, marketPrice=1.204535, marketValue=-4697.69, averageCost=1.2093013, unrealizedPNL=18.59, realizedPNL=0.0, account='DU3235841')\n",
      "updatePortfolio: PortfolioItem(contract=Forex('EURUSD', conId=12087792, right='0', primaryExchange='IDEALPRO', localSymbol='EUR.USD', tradingClass='EUR.USD'), position=-3900.0, marketPrice=1.20447005, marketValue=-4697.43, averageCost=1.2093013, unrealizedPNL=18.84, realizedPNL=0.0, account='DU3235841')\n",
      "updatePortfolio: PortfolioItem(contract=Forex('EURUSD', conId=12087792, right='0', primaryExchange='IDEALPRO', localSymbol='EUR.USD', tradingClass='EUR.USD'), position=-3900.0, marketPrice=1.20439005, marketValue=-4697.12, averageCost=1.2093013, unrealizedPNL=19.15, realizedPNL=0.0, account='DU3235841')\n",
      "updatePortfolio: PortfolioItem(contract=Forex('EURUSD', conId=12087792, right='0', primaryExchange='IDEALPRO', localSymbol='EUR.USD', tradingClass='EUR.USD'), position=-3900.0, marketPrice=1.20448005, marketValue=-4697.47, averageCost=1.2093013, unrealizedPNL=18.8, realizedPNL=0.0, account='DU3235841')\n",
      "position: Position(account='DU3235841', contract=Forex('EURUSD', conId=12087792, localSymbol='EUR.USD', tradingClass='EUR.USD'), position=0.0, avgCost=0.0)\n",
      "updatePortfolio: PortfolioItem(contract=Forex('EURUSD', conId=12087792, right='0', primaryExchange='IDEALPRO', localSymbol='EUR.USD', tradingClass='EUR.USD'), position=0.0, marketPrice=1.20448005, marketValue=0.0, averageCost=0.0, unrealizedPNL=0.0, realizedPNL=15.84, account='DU3235841')\n",
      "position: Position(account='DU3235841', contract=Forex('EURUSD', conId=12087792, localSymbol='EUR.USD', tradingClass='EUR.USD'), position=0.0, avgCost=0.0)\n",
      "position: Position(account='DU3235841', contract=Forex('EURUSD', conId=12087792, localSymbol='EUR.USD', tradingClass='EUR.USD'), position=0.0, avgCost=0.0)\n"
     ]
    }
   ],
   "source": [
    "target_col = \"close\"\n",
    "# target_col = \"open\"\n",
    "# target_col = \"high\"\n",
    "# target_col = \"volume\""
   ]
  },
  {
   "cell_type": "code",
   "execution_count": 88,
   "metadata": {
    "ExecuteTime": {
     "end_time": "2021-02-17T22:27:00.228991Z",
     "start_time": "2021-02-17T22:27:00.148814Z"
    }
   },
   "outputs": [
    {
     "name": "stdout",
     "output_type": "stream",
     "text": [
      "shape= (1260, 7)\n"
     ]
    },
    {
     "data": {
      "text/html": [
       "<div>\n",
       "<style scoped>\n",
       "    .dataframe tbody tr th:only-of-type {\n",
       "        vertical-align: middle;\n",
       "    }\n",
       "\n",
       "    .dataframe tbody tr th {\n",
       "        vertical-align: top;\n",
       "    }\n",
       "\n",
       "    .dataframe thead th {\n",
       "        text-align: right;\n",
       "    }\n",
       "</style>\n",
       "<table border=\"1\" class=\"dataframe\">\n",
       "  <thead>\n",
       "    <tr style=\"text-align: right;\">\n",
       "      <th></th>\n",
       "      <th>open</th>\n",
       "      <th>high</th>\n",
       "      <th>low</th>\n",
       "      <th>close</th>\n",
       "      <th>volume</th>\n",
       "      <th>average</th>\n",
       "      <th>barCount</th>\n",
       "    </tr>\n",
       "    <tr>\n",
       "      <th>date</th>\n",
       "      <th></th>\n",
       "      <th></th>\n",
       "      <th></th>\n",
       "      <th></th>\n",
       "      <th></th>\n",
       "      <th></th>\n",
       "      <th></th>\n",
       "    </tr>\n",
       "  </thead>\n",
       "  <tbody>\n",
       "    <tr>\n",
       "      <th>2019-05-28 18:00:00-04:00</th>\n",
       "      <td>2804.25</td>\n",
       "      <td>2805.25</td>\n",
       "      <td>2802.25</td>\n",
       "      <td>2803.5</td>\n",
       "      <td>1398</td>\n",
       "      <td>2803.7</td>\n",
       "      <td>322</td>\n",
       "    </tr>\n",
       "  </tbody>\n",
       "</table>\n",
       "</div>"
      ],
      "text/plain": [
       "                              open     high      low   close  volume  average  barCount\n",
       "date                                                                                   \n",
       "2019-05-28 18:00:00-04:00  2804.25  2805.25  2802.25  2803.5    1398   2803.7       322"
      ]
     },
     "metadata": {},
     "output_type": "display_data"
    },
    {
     "data": {
      "text/html": [
       "<div>\n",
       "<style scoped>\n",
       "    .dataframe tbody tr th:only-of-type {\n",
       "        vertical-align: middle;\n",
       "    }\n",
       "\n",
       "    .dataframe tbody tr th {\n",
       "        vertical-align: top;\n",
       "    }\n",
       "\n",
       "    .dataframe thead th {\n",
       "        text-align: right;\n",
       "    }\n",
       "</style>\n",
       "<table border=\"1\" class=\"dataframe\">\n",
       "  <thead>\n",
       "    <tr style=\"text-align: right;\">\n",
       "      <th></th>\n",
       "      <th>open</th>\n",
       "      <th>high</th>\n",
       "      <th>low</th>\n",
       "      <th>close</th>\n",
       "      <th>volume</th>\n",
       "      <th>average</th>\n",
       "      <th>barCount</th>\n",
       "    </tr>\n",
       "    <tr>\n",
       "      <th>date</th>\n",
       "      <th></th>\n",
       "      <th></th>\n",
       "      <th></th>\n",
       "      <th></th>\n",
       "      <th></th>\n",
       "      <th></th>\n",
       "      <th></th>\n",
       "    </tr>\n",
       "  </thead>\n",
       "  <tbody>\n",
       "    <tr>\n",
       "      <th>2019-05-29 14:59:00-04:00</th>\n",
       "      <td>2774.0</td>\n",
       "      <td>2774.5</td>\n",
       "      <td>2773.75</td>\n",
       "      <td>2774.25</td>\n",
       "      <td>1611</td>\n",
       "      <td>2774.125</td>\n",
       "      <td>212</td>\n",
       "    </tr>\n",
       "  </tbody>\n",
       "</table>\n",
       "</div>"
      ],
      "text/plain": [
       "                             open    high      low    close  volume   average  barCount\n",
       "date                                                                                   \n",
       "2019-05-29 14:59:00-04:00  2774.0  2774.5  2773.75  2774.25    1611  2774.125       212"
      ]
     },
     "metadata": {},
     "output_type": "display_data"
    },
    {
     "name": "stdout",
     "output_type": "stream",
     "text": [
      "shape= (3413857, 5)\n"
     ]
    },
    {
     "data": {
      "text/html": [
       "<div>\n",
       "<style scoped>\n",
       "    .dataframe tbody tr th:only-of-type {\n",
       "        vertical-align: middle;\n",
       "    }\n",
       "\n",
       "    .dataframe tbody tr th {\n",
       "        vertical-align: top;\n",
       "    }\n",
       "\n",
       "    .dataframe thead th {\n",
       "        text-align: right;\n",
       "    }\n",
       "</style>\n",
       "<table border=\"1\" class=\"dataframe\">\n",
       "  <thead>\n",
       "    <tr style=\"text-align: right;\">\n",
       "      <th></th>\n",
       "      <th>open</th>\n",
       "      <th>high</th>\n",
       "      <th>low</th>\n",
       "      <th>close</th>\n",
       "      <th>volume</th>\n",
       "    </tr>\n",
       "    <tr>\n",
       "      <th>datetime</th>\n",
       "      <th></th>\n",
       "      <th></th>\n",
       "      <th></th>\n",
       "      <th></th>\n",
       "      <th></th>\n",
       "    </tr>\n",
       "  </thead>\n",
       "  <tbody>\n",
       "    <tr>\n",
       "      <th>2009-09-27 18:00:00-04:00</th>\n",
       "      <td>1042.25</td>\n",
       "      <td>1043.25</td>\n",
       "      <td>1042.25</td>\n",
       "      <td>1043.0</td>\n",
       "      <td>1354</td>\n",
       "    </tr>\n",
       "  </tbody>\n",
       "</table>\n",
       "</div>"
      ],
      "text/plain": [
       "                              open     high      low   close  volume\n",
       "datetime                                                            \n",
       "2009-09-27 18:00:00-04:00  1042.25  1043.25  1042.25  1043.0    1354"
      ]
     },
     "metadata": {},
     "output_type": "display_data"
    },
    {
     "data": {
      "text/html": [
       "<div>\n",
       "<style scoped>\n",
       "    .dataframe tbody tr th:only-of-type {\n",
       "        vertical-align: middle;\n",
       "    }\n",
       "\n",
       "    .dataframe tbody tr th {\n",
       "        vertical-align: top;\n",
       "    }\n",
       "\n",
       "    .dataframe thead th {\n",
       "        text-align: right;\n",
       "    }\n",
       "</style>\n",
       "<table border=\"1\" class=\"dataframe\">\n",
       "  <thead>\n",
       "    <tr style=\"text-align: right;\">\n",
       "      <th></th>\n",
       "      <th>open</th>\n",
       "      <th>high</th>\n",
       "      <th>low</th>\n",
       "      <th>close</th>\n",
       "      <th>volume</th>\n",
       "    </tr>\n",
       "    <tr>\n",
       "      <th>datetime</th>\n",
       "      <th></th>\n",
       "      <th></th>\n",
       "      <th></th>\n",
       "      <th></th>\n",
       "      <th></th>\n",
       "    </tr>\n",
       "  </thead>\n",
       "  <tbody>\n",
       "    <tr>\n",
       "      <th>2019-07-19 16:59:00-04:00</th>\n",
       "      <td>2971.75</td>\n",
       "      <td>2971.75</td>\n",
       "      <td>2969.5</td>\n",
       "      <td>2971.0</td>\n",
       "      <td>2338</td>\n",
       "    </tr>\n",
       "  </tbody>\n",
       "</table>\n",
       "</div>"
      ],
      "text/plain": [
       "                              open     high     low   close  volume\n",
       "datetime                                                           \n",
       "2019-07-19 16:59:00-04:00  2971.75  2971.75  2969.5  2971.0    2338"
      ]
     },
     "metadata": {},
     "output_type": "display_data"
    }
   ],
   "source": [
    "if True:\n",
    "    print_df(df_ib, n=1)\n",
    "    print_df(df_kibot, n=1)"
   ]
  },
  {
   "cell_type": "code",
   "execution_count": 89,
   "metadata": {
    "ExecuteTime": {
     "end_time": "2021-02-17T22:27:00.604052Z",
     "start_time": "2021-02-17T22:27:00.231768Z"
    }
   },
   "outputs": [
    {
     "data": {
      "text/html": [
       "<div>\n",
       "<style scoped>\n",
       "    .dataframe tbody tr th:only-of-type {\n",
       "        vertical-align: middle;\n",
       "    }\n",
       "\n",
       "    .dataframe tbody tr th {\n",
       "        vertical-align: top;\n",
       "    }\n",
       "\n",
       "    .dataframe thead th {\n",
       "        text-align: right;\n",
       "    }\n",
       "</style>\n",
       "<table border=\"1\" class=\"dataframe\">\n",
       "  <thead>\n",
       "    <tr style=\"text-align: right;\">\n",
       "      <th></th>\n",
       "      <th>open_ib</th>\n",
       "      <th>high_ib</th>\n",
       "      <th>low_ib</th>\n",
       "      <th>close_ib</th>\n",
       "      <th>volume_ib</th>\n",
       "      <th>average_ib</th>\n",
       "      <th>barCount_ib</th>\n",
       "      <th>open_kibot</th>\n",
       "      <th>high_kibot</th>\n",
       "      <th>low_kibot</th>\n",
       "      <th>close_kibot</th>\n",
       "      <th>volume_kibot</th>\n",
       "    </tr>\n",
       "  </thead>\n",
       "  <tbody>\n",
       "    <tr>\n",
       "      <th>2019-05-28 18:00:00-04:00</th>\n",
       "      <td>2804.25</td>\n",
       "      <td>2805.25</td>\n",
       "      <td>2802.25</td>\n",
       "      <td>2803.5</td>\n",
       "      <td>1398</td>\n",
       "      <td>2803.7</td>\n",
       "      <td>322</td>\n",
       "      <td>2804.25</td>\n",
       "      <td>2805.25</td>\n",
       "      <td>2802.25</td>\n",
       "      <td>2803.5</td>\n",
       "      <td>1398</td>\n",
       "    </tr>\n",
       "  </tbody>\n",
       "</table>\n",
       "</div>"
      ],
      "text/plain": [
       "                           open_ib  high_ib   low_ib  close_ib  volume_ib  average_ib  barCount_ib  open_kibot  high_kibot  low_kibot  close_kibot  volume_kibot\n",
       "2019-05-28 18:00:00-04:00  2804.25  2805.25  2802.25    2803.5       1398      2803.7          322     2804.25     2805.25    2802.25       2803.5          1398"
      ]
     },
     "metadata": {},
     "output_type": "display_data"
    },
    {
     "data": {
      "text/html": [
       "<div>\n",
       "<style scoped>\n",
       "    .dataframe tbody tr th:only-of-type {\n",
       "        vertical-align: middle;\n",
       "    }\n",
       "\n",
       "    .dataframe tbody tr th {\n",
       "        vertical-align: top;\n",
       "    }\n",
       "\n",
       "    .dataframe thead th {\n",
       "        text-align: right;\n",
       "    }\n",
       "</style>\n",
       "<table border=\"1\" class=\"dataframe\">\n",
       "  <thead>\n",
       "    <tr style=\"text-align: right;\">\n",
       "      <th></th>\n",
       "      <th>volume_ib</th>\n",
       "      <th>volume_kibot</th>\n",
       "    </tr>\n",
       "  </thead>\n",
       "  <tbody>\n",
       "    <tr>\n",
       "      <th>2019-05-28 18:00:00-04:00</th>\n",
       "      <td>1398</td>\n",
       "      <td>1398</td>\n",
       "    </tr>\n",
       "    <tr>\n",
       "      <th>2019-05-28 18:01:00-04:00</th>\n",
       "      <td>322</td>\n",
       "      <td>322</td>\n",
       "    </tr>\n",
       "    <tr>\n",
       "      <th>2019-05-28 18:02:00-04:00</th>\n",
       "      <td>425</td>\n",
       "      <td>425</td>\n",
       "    </tr>\n",
       "    <tr>\n",
       "      <th>2019-05-28 18:03:00-04:00</th>\n",
       "      <td>393</td>\n",
       "      <td>393</td>\n",
       "    </tr>\n",
       "    <tr>\n",
       "      <th>2019-05-28 18:04:00-04:00</th>\n",
       "      <td>341</td>\n",
       "      <td>341</td>\n",
       "    </tr>\n",
       "    <tr>\n",
       "      <th>2019-05-28 18:05:00-04:00</th>\n",
       "      <td>150</td>\n",
       "      <td>150</td>\n",
       "    </tr>\n",
       "    <tr>\n",
       "      <th>2019-05-28 18:06:00-04:00</th>\n",
       "      <td>102</td>\n",
       "      <td>102</td>\n",
       "    </tr>\n",
       "    <tr>\n",
       "      <th>2019-05-28 18:07:00-04:00</th>\n",
       "      <td>77</td>\n",
       "      <td>77</td>\n",
       "    </tr>\n",
       "    <tr>\n",
       "      <th>2019-05-28 18:08:00-04:00</th>\n",
       "      <td>125</td>\n",
       "      <td>125</td>\n",
       "    </tr>\n",
       "    <tr>\n",
       "      <th>2019-05-28 18:09:00-04:00</th>\n",
       "      <td>86</td>\n",
       "      <td>86</td>\n",
       "    </tr>\n",
       "  </tbody>\n",
       "</table>\n",
       "</div>"
      ],
      "text/plain": [
       "                           volume_ib  volume_kibot\n",
       "2019-05-28 18:00:00-04:00       1398          1398\n",
       "2019-05-28 18:01:00-04:00        322           322\n",
       "2019-05-28 18:02:00-04:00        425           425\n",
       "2019-05-28 18:03:00-04:00        393           393\n",
       "2019-05-28 18:04:00-04:00        341           341\n",
       "2019-05-28 18:05:00-04:00        150           150\n",
       "2019-05-28 18:06:00-04:00        102           102\n",
       "2019-05-28 18:07:00-04:00         77            77\n",
       "2019-05-28 18:08:00-04:00        125           125\n",
       "2019-05-28 18:09:00-04:00         86            86"
      ]
     },
     "metadata": {},
     "output_type": "display_data"
    },
    {
     "data": {
      "text/plain": [
       "<matplotlib.axes._subplots.AxesSubplot at 0x7fa5a6aa4590>"
      ]
     },
     "execution_count": 89,
     "metadata": {},
     "output_type": "execute_result"
    },
    {
     "data": {
      "image/png": "[encoded data removed]",
      "text/plain": [
       "<Figure size 1440x360 with 1 Axes>"
      ]
     },
     "metadata": {},
     "output_type": "display_data"
    }
   ],
   "source": [
    "# min_dt = \"2013-10-06\"\n",
    "# max_dt = \"2013-10-09\"\n",
    "min_dt = start_ts\n",
    "max_dt = end_ts\n",
    "\n",
    "#\n",
    "df_ib_tmp = df_ib.loc[min_dt:max_dt]\n",
    "df_ib_tmp.columns = [\"%s_ib\" % c for c in df_ib_tmp.columns]\n",
    "df_ib_tmp.head()\n",
    "#\n",
    "df_kibot_tmp = df_kibot.loc[min_dt:max_dt]\n",
    "df_kibot_tmp.columns = [\"%s_kibot\" % c for c in df_kibot_tmp.columns]\n",
    "df_kibot_tmp.head()\n",
    "\n",
    "# df = pd.concat([df_ib_tmp, df_kibot_tmp], axis=1, join=\"outer\")\n",
    "df = pd.concat([df_ib_tmp, df_kibot_tmp], axis=1, join=\"inner\")\n",
    "display(df.head(1))\n",
    "\n",
    "# Shift.\n",
    "df[\"%s_ib\" % target_col] = df[\"%s_ib\" % target_col].shift(0)\n",
    "\n",
    "# Filter columns.\n",
    "display(df[cols].head(10))\n",
    "cols = [\"%s_%s\" % (target_col, src) for src in \"ib kibot\".split()]\n",
    "df[cols].plot()"
   ]
  },
  {
   "cell_type": "code",
   "execution_count": 90,
   "metadata": {
    "ExecuteTime": {
     "end_time": "2021-02-17T22:27:00.929709Z",
     "start_time": "2021-02-17T22:27:00.605969Z"
    }
   },
   "outputs": [
    {
     "data": {
      "text/plain": [
       "<matplotlib.axes._subplots.AxesSubplot at 0x7fa5a7592890>"
      ]
     },
     "execution_count": 90,
     "metadata": {},
     "output_type": "execute_result"
    },
    {
     "data": {
      "image/png": "[encoded data removed]",
      "text/plain": [
       "<Figure size 1440x360 with 1 Axes>"
      ]
     },
     "metadata": {},
     "output_type": "display_data"
    }
   ],
   "source": [
    "df.iloc[:100][cols].plot()"
   ]
  },
  {
   "cell_type": "code",
   "execution_count": 91,
   "metadata": {
    "ExecuteTime": {
     "end_time": "2021-02-17T22:27:01.540674Z",
     "start_time": "2021-02-17T22:27:00.931380Z"
    }
   },
   "outputs": [
    {
     "data": {
      "text/plain": [
       "array([[<matplotlib.axes._subplots.AxesSubplot object at 0x7fa5a7f47ed0>]],\n",
       "      dtype=object)"
      ]
     },
     "execution_count": 91,
     "metadata": {},
     "output_type": "execute_result"
    },
    {
     "data": {
      "image/png": "[encoded data removed]",
      "text/plain": [
       "<Figure size 1440x360 with 1 Axes>"
      ]
     },
     "metadata": {},
     "output_type": "display_data"
    },
    {
     "data": {
      "image/png": "[encoded data removed]",
      "text/plain": [
       "<Figure size 1440x360 with 1 Axes>"
      ]
     },
     "metadata": {},
     "output_type": "display_data"
    }
   ],
   "source": [
    "ds1 = \"ib\"\n",
    "ds2 = \"kibot\"\n",
    "diff = df[target_col + \"_\" + ds1] - df[target_col + \"_\" + ds2]\n",
    "\n",
    "diff.plot()\n",
    "\n",
    "hpandas.dropna(pd.DataFrame(diff), drop_infs=True).hist(bins=101)"
   ]
  },
  {
   "cell_type": "code",
   "execution_count": 92,
   "metadata": {
    "ExecuteTime": {
     "end_time": "2021-02-17T22:27:02.227751Z",
     "start_time": "2021-02-17T22:27:01.541962Z"
    }
   },
   "outputs": [
    {
     "name": "stdout",
     "output_type": "stream",
     "text": [
      "                                 OLS Regression Results                                \n",
      "=======================================================================================\n",
      "Dep. Variable:                high_ib   R-squared (uncentered):                   1.000\n",
      "Model:                            OLS   Adj. R-squared (uncentered):              1.000\n",
      "Method:                 Least Squares   F-statistic:                                inf\n",
      "Date:                Wed, 17 Feb 2021   Prob (F-statistic):                        0.00\n",
      "Time:                        17:27:01   Log-Likelihood:                             inf\n",
      "No. Observations:                1260   AIC:                                       -inf\n",
      "Df Residuals:                    1259   BIC:                                       -inf\n",
      "Df Model:                           1                                                  \n",
      "Covariance Type:            nonrobust                                                  \n",
      "==============================================================================\n",
      "                 coef    std err          t      P>|t|      [0.025      0.975]\n",
      "------------------------------------------------------------------------------\n",
      "high_kibot     1.0000          0        inf      0.000       1.000       1.000\n",
      "==============================================================================\n",
      "Omnibus:                     3349.728   Durbin-Watson:                     nan\n",
      "Prob(Omnibus):                  0.000   Jarque-Bera (JB):              472.500\n",
      "Skew:                           0.000   Prob(JB):                    2.50e-103\n",
      "Kurtosis:                       0.000   Cond. No.                         1.00\n",
      "==============================================================================\n",
      "\n",
      "Warnings:\n",
      "[1] Standard Errors assume that the covariance matrix of the errors is correctly specified.\n"
     ]
    },
    {
     "name": "stderr",
     "output_type": "stream",
     "text": [
      "/Users/saggese/.conda/envs/develop/lib/python3.7/site-packages/statsmodels/base/model.py:1362: RuntimeWarning: divide by zero encountered in true_divide\n",
      "  return self.params / self.bse\n",
      "/Users/saggese/.conda/envs/develop/lib/python3.7/site-packages/statsmodels/regression/linear_model.py:1774: RuntimeWarning: divide by zero encountered in double_scalars\n",
      "  return self.mse_model/self.mse_resid\n",
      "/Users/saggese/.conda/envs/develop/lib/python3.7/site-packages/statsmodels/regression/linear_model.py:889: RuntimeWarning: divide by zero encountered in log\n",
      "  llf = -nobs2*np.log(2*np.pi) - nobs2*np.log(ssr / nobs) - nobs2\n",
      "/Users/saggese/.conda/envs/develop/lib/python3.7/site-packages/statsmodels/stats/stattools.py:46: RuntimeWarning: invalid value encountered in double_scalars\n",
      "  dw = np.sum(diff_resids**2, axis=axis) / np.sum(resids**2, axis=axis)\n"
     ]
    },
    {
     "data": {
      "image/png": "[encoded data removed]",
      "text/plain": [
       "<Figure size 360x360 with 3 Axes>"
      ]
     },
     "metadata": {},
     "output_type": "display_data"
    }
   ],
   "source": [
    "intercept = False\n",
    "coexplor.ols_regress(\n",
    "    df,\n",
    "    target_col + \"_\" + ds1,\n",
    "    target_col + \"_\" + ds2,\n",
    "    intercept,\n",
    "    jointplot_=True,\n",
    "    max_nrows=None,\n",
    ")"
   ]
  }
 ],
 "metadata": {
  "kernelspec": {
   "display_name": "Python [conda env:.conda-develop] *",
   "language": "python",
   "name": "conda-env-.conda-develop-py"
  },
  "language_info": {
   "codemirror_mode": {
    "name": "ipython",
    "version": 3
   },
   "file_extension": ".py",
   "mimetype": "text/x-python",
   "name": "python",
   "nbconvert_exporter": "python",
   "pygments_lexer": "ipython3",
   "version": "3.7.6"
  },
  "toc": {
   "base_numbering": 1,
   "nav_menu": {},
   "number_sections": true,
   "sideBar": true,
   "skip_h1_title": false,
   "title_cell": "Table of Contents",
   "title_sidebar": "Contents",
   "toc_cell": false,
   "toc_position": {},
   "toc_section_display": true,
   "toc_window_display": true
  }
 },
 "nbformat": 4,
 "nbformat_minor": 4
}
