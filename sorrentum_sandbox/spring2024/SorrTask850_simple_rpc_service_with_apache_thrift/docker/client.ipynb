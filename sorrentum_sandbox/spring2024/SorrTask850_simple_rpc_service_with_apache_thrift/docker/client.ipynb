{
 "cells": [
  {
   "cell_type": "code",
   "execution_count": null,
   "metadata": {},
   "outputs": [],
   "source": [
    "import sys\n",
    "sys.path.append('sorrentum_sandbox\\spring2024\\SorrTask850_simple_rpc_service_with_apache_thrift\\docker\\gen-py')\n",
    "from gen_py.SimpleService import SimpleService\n",
    "from gen_py.SimpleService.ttypes import *"
   ]
  },
  {
   "cell_type": "code",
   "execution_count": null,
   "metadata": {},
   "outputs": [],
   "source": [
    "from thrift import Thrift\n",
    "from thrift.transport import TSocket\n",
    "from thrift.transport import TTransport\n",
    "from thrift.protocol import TBinaryProtocol\n",
    "\n",
    "def main():\n",
    "    transport = TSocket.TSocket('thrift-server', 9090)\n",
    "    transport = TTransport.TBufferedTransport(transport)\n",
    "    protocol = TBinaryProtocol.TBinaryProtocol(transport)\n",
    "    client = SimpleService.Client(protocol)\n",
    "\n",
    "    try:\n",
    "        transport.open()\n",
    "\n",
    "        print(client.sayHello(\"Alvino\"))\n",
    "        print(\"1 + 2 =\", client.addNumbers(1, 2))\n",
    "        print(\"Person Info:\", client.getPersonInfo(1))\n",
    "        print(\"List Students:\", client.listStudents(\"Engineering\"))\n",
    "        print(\"Vote Count:\", client.countVotes({\"Alvino\": 3, \"Bob\": 5}))\n",
    "        \n",
    "        try:\n",
    "            print(\"Find Person by Email:\", client.findPersonByEmail(\"alvino@umd.edu\"))\n",
    "        except PersonNotFound as e:\n",
    "            print(e.message)\n",
    "        \n",
    "        try:\n",
    "            print(\"Find Person by Email:\", client.findPersonByEmail(\"alvinoangelo@umd.edu\"))\n",
    "        except PersonNotFound as e:\n",
    "            print(e.message)\n",
    "        \n",
    "        client.logMessage(\"This is a test log message.\")\n",
    "\n",
    "    except Thrift.TException as tx:\n",
    "        print(f\"{tx.message}\")\n",
    "    finally:\n",
    "        transport.close()\n",
    "\n",
    "if __name__ == '__main__':\n",
    "    main()\n"
   ]
  }
 ],
 "metadata": {
  "kernelspec": {
   "display_name": "Python 3 (ipykernel)",
   "language": "python",
   "name": "python3"
  },
  "language_info": {
   "codemirror_mode": {
    "name": "ipython",
    "version": 3
   },
   "file_extension": ".py",
   "mimetype": "text/x-python",
   "name": "python",
   "nbconvert_exporter": "python",
   "pygments_lexer": "ipython3",
   "version": "3.8.9"
  }
 },
 "nbformat": 4,
 "nbformat_minor": 4
}
