{
 "cells": [
  {
   "cell_type": "code",
   "execution_count": null,
   "metadata": {},
   "outputs": [],
   "source": [
    "import sys\n",
    "sys.path.append('sorrentum_sandbox\\spring2024\\SorrTask850_simple_rpc_service_with_apache_thrift\\docker\\gen-py')\n",
    "from gen_py.SimpleService import SimpleService\n",
    "from gen_py.SimpleService.ttypes import *"
   ]
  },
  {
   "cell_type": "code",
   "execution_count": null,
   "metadata": {},
   "outputs": [],
   "source": [
    "from thrift.transport import TSocket\n",
    "from thrift.transport import TTransport\n",
    "from thrift.protocol import TBinaryProtocol\n",
    "from thrift.server import TServer\n",
    "\n",
    "class SimpleServiceHandler:\n",
    "    # Return String\n",
    "    def sayHello(self, name):\n",
    "        return f\"Hello, {name}!\"\n",
    "\n",
    "    # Return integer\n",
    "    def addNumbers(self, num1, num2):\n",
    "        return num1 + num2\n",
    "\n",
    "    # Return struct\n",
    "    def getPersonInfo(self, personId):\n",
    "        return Person(id=personId, name=\"Alvino Angelo\", age=23, email=\"alvino@umd.edu\")\n",
    "\n",
    "    # Return list\n",
    "    def listStudents(self, department):\n",
    "        return [Student(id=1, name=\"Alvino\", department=department), Student(id=2, name=\"Bob\", department=department)]\n",
    "\n",
    "    # Return count\n",
    "    def countVotes(self, votes):\n",
    "        return {k: v for k, v in votes.items()}\n",
    "\n",
    "    # Error handling\n",
    "    def findPersonByEmail(self, email):\n",
    "        if email == \"alvino@umd.edu\":\n",
    "            return Person(id=1, name=\"Alvino Angelo\", age=23, email=email)\n",
    "        else:\n",
    "            raise PersonNotFound(f\"No person found with email {email}\")\n",
    "\n",
    "    # One-way method\n",
    "    def logMessage(self, message):\n",
    "        print(f\"Logging: {message}\")\n",
    "\n",
    "if __name__ == '__main__':\n",
    "    handler = SimpleServiceHandler()\n",
    "    processor = SimpleService.Processor(handler)\n",
    "    transport = TSocket.TServerSocket(port=9090)\n",
    "    tfactory = TTransport.TBufferedTransportFactory()\n",
    "    pfactory = TBinaryProtocol.TBinaryProtocolFactory()\n",
    "\n",
    "    server = TServer.TSimpleServer(processor, transport, tfactory, pfactory)\n",
    "    print(\"Starting the server...\")\n",
    "    server.serve()\n",
    "    print(\"Server stopped.\")"
   ]
  }
 ],
 "metadata": {
  "kernelspec": {
   "display_name": "Python 3",
   "language": "python",
   "name": "python3"
  },
  "language_info": {
   "codemirror_mode": {
    "name": "ipython",
    "version": 3
   },
   "file_extension": ".py",
   "mimetype": "text/x-python",
   "name": "python",
   "nbconvert_exporter": "python",
   "pygments_lexer": "ipython3",
   "version": "3.8.9"
  }
 },
 "nbformat": 4,
 "nbformat_minor": 2
}
