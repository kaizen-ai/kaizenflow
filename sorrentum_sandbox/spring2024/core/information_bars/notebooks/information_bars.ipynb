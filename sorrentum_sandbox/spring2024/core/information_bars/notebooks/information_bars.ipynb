{
 "cells": [
  {
   "cell_type": "markdown",
   "metadata": {
    "collapsed": false
   },
   "source": [
    "# Imports\n",
    "\n",
    "Importing all required modules."
   ]
  },
  {
   "cell_type": "code",
   "execution_count": 39,
   "metadata": {},
   "outputs": [
    {
     "name": "stdout",
     "output_type": "stream",
     "text": [
      "The autoreload extension is already loaded. To reload it, use:\n",
      "  %reload_ext autoreload\n"
     ]
    }
   ],
   "source": [
    "%load_ext autoreload\n",
    "%autoreload 2\n",
    "%matplotlib inline\n",
    "\n",
    "import matplotlib.pyplot as plt\n",
    "import numpy as np\n",
    "import pandas as pd\n",
    "import scipy.stats as stats\n",
    "import seaborn as sns\n",
    "import statsmodels.api as sm\n",
    "\n",
    "import core.information_bars.bars as cib\n",
    "\n",
    "# TODO(vr): Use below when Tick data will be in PQ on S3\n",
    "# import im.kibot.data.load as vkdl\n",
    "import im.kibot.data.load.file_path_generator as vkdlf\n",
    "import im.kibot.data.types as vkdt\n",
    "\n",
    "plt.style.use(\"seaborn-talk\")\n",
    "plt.style.use(\"bmh\")"
   ]
  },
  {
   "cell_type": "markdown",
   "metadata": {
    "collapsed": false,
    "pycharm": {
     "name": "#%% md\n"
    }
   },
   "source": [
    "# Constants\n",
    "\n",
    "Defining constants to work with through this notebook."
   ]
  },
  {
   "cell_type": "code",
   "execution_count": 63,
   "metadata": {
    "collapsed": false,
    "lines_to_next_cell": 2,
    "pycharm": {
     "name": "#%%\n"
    }
   },
   "outputs": [],
   "source": [
    "TICK_M = 100\n",
    "VOLUME_M = 100\n",
    "DOLLAR_VOLUME_M = 100\n",
    "PLOT_FIGURE_SIZE = (10, 7)"
   ]
  },
  {
   "cell_type": "markdown",
   "metadata": {
    "collapsed": false
   },
   "source": [
    "# Download"
   ]
  },
  {
   "cell_type": "code",
   "execution_count": 41,
   "metadata": {
    "collapsed": false,
    "pycharm": {
     "name": "#%%\n"
    }
   },
   "outputs": [
    {
     "data": {
      "text/html": [
       "<div>\n",
       "<style scoped>\n",
       "    .dataframe tbody tr th:only-of-type {\n",
       "        vertical-align: middle;\n",
       "    }\n",
       "\n",
       "    .dataframe tbody tr th {\n",
       "        vertical-align: top;\n",
       "    }\n",
       "\n",
       "    .dataframe thead th {\n",
       "        text-align: right;\n",
       "    }\n",
       "</style>\n",
       "<table border=\"1\" class=\"dataframe\">\n",
       "  <thead>\n",
       "    <tr style=\"text-align: right;\">\n",
       "      <th></th>\n",
       "      <th>date_time</th>\n",
       "      <th>price</th>\n",
       "      <th>volume</th>\n",
       "    </tr>\n",
       "  </thead>\n",
       "  <tbody>\n",
       "    <tr>\n",
       "      <th>0</th>\n",
       "      <td>2009-09-28 03:13:24</td>\n",
       "      <td>246.8</td>\n",
       "      <td>1</td>\n",
       "    </tr>\n",
       "    <tr>\n",
       "      <th>1</th>\n",
       "      <td>2009-09-28 03:15:27</td>\n",
       "      <td>246.4</td>\n",
       "      <td>1</td>\n",
       "    </tr>\n",
       "    <tr>\n",
       "      <th>2</th>\n",
       "      <td>2009-09-28 03:17:29</td>\n",
       "      <td>246.2</td>\n",
       "      <td>1</td>\n",
       "    </tr>\n",
       "    <tr>\n",
       "      <th>3</th>\n",
       "      <td>2009-09-28 03:19:31</td>\n",
       "      <td>245.7</td>\n",
       "      <td>1</td>\n",
       "    </tr>\n",
       "    <tr>\n",
       "      <th>4</th>\n",
       "      <td>2009-09-28 03:21:34</td>\n",
       "      <td>245.7</td>\n",
       "      <td>1</td>\n",
       "    </tr>\n",
       "    <tr>\n",
       "      <th>...</th>\n",
       "      <td>...</td>\n",
       "      <td>...</td>\n",
       "      <td>...</td>\n",
       "    </tr>\n",
       "    <tr>\n",
       "      <th>995</th>\n",
       "      <td>2009-10-20 05:49:22</td>\n",
       "      <td>249.8</td>\n",
       "      <td>25</td>\n",
       "    </tr>\n",
       "    <tr>\n",
       "      <th>996</th>\n",
       "      <td>2009-10-20 06:05:02</td>\n",
       "      <td>249.8</td>\n",
       "      <td>25</td>\n",
       "    </tr>\n",
       "    <tr>\n",
       "      <th>997</th>\n",
       "      <td>2009-10-20 06:20:56</td>\n",
       "      <td>249.8</td>\n",
       "      <td>13</td>\n",
       "    </tr>\n",
       "    <tr>\n",
       "      <th>998</th>\n",
       "      <td>2009-10-20 06:26:07</td>\n",
       "      <td>249.8</td>\n",
       "      <td>12</td>\n",
       "    </tr>\n",
       "    <tr>\n",
       "      <th>999</th>\n",
       "      <td>2009-10-20 06:33:19</td>\n",
       "      <td>249.9</td>\n",
       "      <td>25</td>\n",
       "    </tr>\n",
       "  </tbody>\n",
       "</table>\n",
       "<p>1000 rows Ã 3 columns</p>\n",
       "</div>"
      ],
      "text/plain": [
       "              date_time  price  volume\n",
       "0   2009-09-28 03:13:24  246.8       1\n",
       "1   2009-09-28 03:15:27  246.4       1\n",
       "2   2009-09-28 03:17:29  246.2       1\n",
       "3   2009-09-28 03:19:31  245.7       1\n",
       "4   2009-09-28 03:21:34  245.7       1\n",
       "..                  ...    ...     ...\n",
       "995 2009-10-20 05:49:22  249.8      25\n",
       "996 2009-10-20 06:05:02  249.8      25\n",
       "997 2009-10-20 06:20:56  249.8      13\n",
       "998 2009-10-20 06:26:07  249.8      12\n",
       "999 2009-10-20 06:33:19  249.9      25\n",
       "\n",
       "[1000 rows x 3 columns]"
      ]
     },
     "execution_count": 41,
     "metadata": {},
     "output_type": "execute_result"
    }
   ],
   "source": [
    "# TODO(vr): Use below when Tick data will be in PQ on S3\n",
    "# downloader = vkdl.KibotDataLoader()\n",
    "# source_df = downloader.read_data(\n",
    "#     symbol='TT',\n",
    "#     asset_class=vkdt.AssetClass.Futures,\n",
    "#     frequency=vkdt.Frequency.Tick,\n",
    "#     contract_type=vkdt.ContractType.Continuous,\n",
    "#     nrows=1000\n",
    "# )\n",
    "# source_df\n",
    "\n",
    "path_generator = vkdlf.FilePathGenerator()\n",
    "remote_path = path_generator.generate_file_path(\n",
    "    symbol=\"TT\",\n",
    "    asset_class=vkdt.AssetClass.Futures,\n",
    "    frequency=vkdt.Frequency.Tick,\n",
    "    contract_type=vkdt.ContractType.Continuous,\n",
    "    ext=vkdt.Extension.CSV,\n",
    ")\n",
    "source_df = pd.read_csv(\n",
    "    remote_path,\n",
    "    header=0,\n",
    "    nrows=1000,\n",
    "    parse_dates=[[\"date\", \"time\"]],\n",
    "    names=[\"date\", \"time\", \"price\", \"volume\"],\n",
    ")\n",
    "source_df"
   ]
  },
  {
   "cell_type": "code",
   "execution_count": 42,
   "metadata": {
    "collapsed": false,
    "pycharm": {
     "name": "#%%\n"
    }
   },
   "outputs": [],
   "source": [
    "df = source_df.copy()\n",
    "df.set_index(\"date_time\", inplace=True)"
   ]
  },
  {
   "cell_type": "markdown",
   "metadata": {
    "collapsed": false,
    "pycharm": {
     "name": "#%% md\n"
    }
   },
   "source": [
    "# Bars"
   ]
  },
  {
   "cell_type": "markdown",
   "metadata": {
    "collapsed": false
   },
   "source": [
    "## Tick Bars"
   ]
  },
  {
   "cell_type": "code",
   "execution_count": 43,
   "metadata": {
    "collapsed": false,
    "pycharm": {
     "name": "#%%\n"
    }
   },
   "outputs": [
    {
     "name": "stdout",
     "output_type": "stream",
     "text": [
      "num ticks: 10\n",
      "volume ratio: 934.0\n",
      "dollar ratio: 441531.0\n"
     ]
    },
    {
     "data": {
      "text/html": [
       "<div>\n",
       "<style scoped>\n",
       "    .dataframe tbody tr th:only-of-type {\n",
       "        vertical-align: middle;\n",
       "    }\n",
       "\n",
       "    .dataframe tbody tr th {\n",
       "        vertical-align: top;\n",
       "    }\n",
       "\n",
       "    .dataframe thead th {\n",
       "        text-align: right;\n",
       "    }\n",
       "</style>\n",
       "<table border=\"1\" class=\"dataframe\">\n",
       "  <thead>\n",
       "    <tr style=\"text-align: right;\">\n",
       "      <th></th>\n",
       "      <th>tick_num</th>\n",
       "      <th>open</th>\n",
       "      <th>high</th>\n",
       "      <th>low</th>\n",
       "      <th>close</th>\n",
       "      <th>volume</th>\n",
       "      <th>cum_buy_volume</th>\n",
       "      <th>cum_ticks</th>\n",
       "      <th>cum_dollar_value</th>\n",
       "    </tr>\n",
       "    <tr>\n",
       "      <th>date_time</th>\n",
       "      <th></th>\n",
       "      <th></th>\n",
       "      <th></th>\n",
       "      <th></th>\n",
       "      <th></th>\n",
       "      <th></th>\n",
       "      <th></th>\n",
       "      <th></th>\n",
       "      <th></th>\n",
       "    </tr>\n",
       "  </thead>\n",
       "  <tbody>\n",
       "    <tr>\n",
       "      <th>2009-09-29 07:44:26</th>\n",
       "      <td>100</td>\n",
       "      <td>246.8</td>\n",
       "      <td>251.3</td>\n",
       "      <td>244.7</td>\n",
       "      <td>250.4</td>\n",
       "      <td>1567</td>\n",
       "      <td>844</td>\n",
       "      <td>100</td>\n",
       "      <td>389604.6</td>\n",
       "    </tr>\n",
       "    <tr>\n",
       "      <th>2009-10-05 10:27:11</th>\n",
       "      <td>200</td>\n",
       "      <td>250.2</td>\n",
       "      <td>252.1</td>\n",
       "      <td>241.3</td>\n",
       "      <td>247.0</td>\n",
       "      <td>4344</td>\n",
       "      <td>1652</td>\n",
       "      <td>100</td>\n",
       "      <td>1073017.6</td>\n",
       "    </tr>\n",
       "    <tr>\n",
       "      <th>2009-10-08 07:19:59</th>\n",
       "      <td>300</td>\n",
       "      <td>247.7</td>\n",
       "      <td>249.6</td>\n",
       "      <td>247.0</td>\n",
       "      <td>247.3</td>\n",
       "      <td>1933</td>\n",
       "      <td>1245</td>\n",
       "      <td>100</td>\n",
       "      <td>480745.3</td>\n",
       "    </tr>\n",
       "    <tr>\n",
       "      <th>2009-10-08 08:06:23</th>\n",
       "      <td>400</td>\n",
       "      <td>247.4</td>\n",
       "      <td>247.9</td>\n",
       "      <td>247.1</td>\n",
       "      <td>247.4</td>\n",
       "      <td>234</td>\n",
       "      <td>198</td>\n",
       "      <td>100</td>\n",
       "      <td>57943.5</td>\n",
       "    </tr>\n",
       "    <tr>\n",
       "      <th>2009-10-08 08:54:43</th>\n",
       "      <td>500</td>\n",
       "      <td>247.4</td>\n",
       "      <td>248.1</td>\n",
       "      <td>246.6</td>\n",
       "      <td>247.1</td>\n",
       "      <td>101</td>\n",
       "      <td>41</td>\n",
       "      <td>100</td>\n",
       "      <td>24959.8</td>\n",
       "    </tr>\n",
       "    <tr>\n",
       "      <th>2009-10-08 09:41:07</th>\n",
       "      <td>600</td>\n",
       "      <td>247.1</td>\n",
       "      <td>247.3</td>\n",
       "      <td>246.0</td>\n",
       "      <td>246.6</td>\n",
       "      <td>295</td>\n",
       "      <td>242</td>\n",
       "      <td>100</td>\n",
       "      <td>72758.9</td>\n",
       "    </tr>\n",
       "    <tr>\n",
       "      <th>2009-10-08 10:26:04</th>\n",
       "      <td>700</td>\n",
       "      <td>246.5</td>\n",
       "      <td>246.7</td>\n",
       "      <td>245.6</td>\n",
       "      <td>246.5</td>\n",
       "      <td>253</td>\n",
       "      <td>51</td>\n",
       "      <td>100</td>\n",
       "      <td>62308.6</td>\n",
       "    </tr>\n",
       "    <tr>\n",
       "      <th>2009-10-08 11:13:05</th>\n",
       "      <td>800</td>\n",
       "      <td>246.5</td>\n",
       "      <td>246.9</td>\n",
       "      <td>246.3</td>\n",
       "      <td>246.8</td>\n",
       "      <td>101</td>\n",
       "      <td>58</td>\n",
       "      <td>100</td>\n",
       "      <td>24906.2</td>\n",
       "    </tr>\n",
       "    <tr>\n",
       "      <th>2009-10-14 07:53:55</th>\n",
       "      <td>900</td>\n",
       "      <td>246.9</td>\n",
       "      <td>250.0</td>\n",
       "      <td>244.1</td>\n",
       "      <td>247.9</td>\n",
       "      <td>3956</td>\n",
       "      <td>1792</td>\n",
       "      <td>100</td>\n",
       "      <td>974873.2</td>\n",
       "    </tr>\n",
       "    <tr>\n",
       "      <th>2009-10-20 06:33:19</th>\n",
       "      <td>1000</td>\n",
       "      <td>247.9</td>\n",
       "      <td>249.9</td>\n",
       "      <td>245.4</td>\n",
       "      <td>249.9</td>\n",
       "      <td>5058</td>\n",
       "      <td>3222</td>\n",
       "      <td>100</td>\n",
       "      <td>1254191.0</td>\n",
       "    </tr>\n",
       "  </tbody>\n",
       "</table>\n",
       "</div>"
      ],
      "text/plain": [
       "                     tick_num   open   high    low  close  volume  \\\n",
       "date_time                                                           \n",
       "2009-09-29 07:44:26       100  246.8  251.3  244.7  250.4    1567   \n",
       "2009-10-05 10:27:11       200  250.2  252.1  241.3  247.0    4344   \n",
       "2009-10-08 07:19:59       300  247.7  249.6  247.0  247.3    1933   \n",
       "2009-10-08 08:06:23       400  247.4  247.9  247.1  247.4     234   \n",
       "2009-10-08 08:54:43       500  247.4  248.1  246.6  247.1     101   \n",
       "2009-10-08 09:41:07       600  247.1  247.3  246.0  246.6     295   \n",
       "2009-10-08 10:26:04       700  246.5  246.7  245.6  246.5     253   \n",
       "2009-10-08 11:13:05       800  246.5  246.9  246.3  246.8     101   \n",
       "2009-10-14 07:53:55       900  246.9  250.0  244.1  247.9    3956   \n",
       "2009-10-20 06:33:19      1000  247.9  249.9  245.4  249.9    5058   \n",
       "\n",
       "                     cum_buy_volume  cum_ticks  cum_dollar_value  \n",
       "date_time                                                         \n",
       "2009-09-29 07:44:26             844        100          389604.6  \n",
       "2009-10-05 10:27:11            1652        100         1073017.6  \n",
       "2009-10-08 07:19:59            1245        100          480745.3  \n",
       "2009-10-08 08:06:23             198        100           57943.5  \n",
       "2009-10-08 08:54:43              41        100           24959.8  \n",
       "2009-10-08 09:41:07             242        100           72758.9  \n",
       "2009-10-08 10:26:04              51        100           62308.6  \n",
       "2009-10-08 11:13:05              58        100           24906.2  \n",
       "2009-10-14 07:53:55            1792        100          974873.2  \n",
       "2009-10-20 06:33:19            3222        100         1254191.0  "
      ]
     },
     "execution_count": 43,
     "metadata": {},
     "output_type": "execute_result"
    }
   ],
   "source": [
    "tick_df = cib.get_tick_bars(source_df, threshold=TICK_M)\n",
    "tick_df.set_index(\"date_time\", inplace=True)\n",
    "n_ticks = tick_df.shape[0]\n",
    "volume_ratio = (tick_df.cum_buy_volume.sum() / n_ticks).round()\n",
    "dollar_ratio = (tick_df.cum_dollar_value.sum() / n_ticks).round()\n",
    "print(f\"num ticks: {n_ticks:,}\")\n",
    "print(f\"volume ratio: {volume_ratio}\")\n",
    "print(f\"dollar ratio: {dollar_ratio}\")\n",
    "tick_df"
   ]
  },
  {
   "cell_type": "markdown",
   "metadata": {
    "collapsed": false
   },
   "source": [
    "## Volume Bars"
   ]
  },
  {
   "cell_type": "code",
   "execution_count": 44,
   "metadata": {
    "collapsed": false,
    "pycharm": {
     "name": "#%%\n"
    }
   },
   "outputs": [
    {
     "data": {
      "text/html": [
       "<div>\n",
       "<style scoped>\n",
       "    .dataframe tbody tr th:only-of-type {\n",
       "        vertical-align: middle;\n",
       "    }\n",
       "\n",
       "    .dataframe tbody tr th {\n",
       "        vertical-align: top;\n",
       "    }\n",
       "\n",
       "    .dataframe thead th {\n",
       "        text-align: right;\n",
       "    }\n",
       "</style>\n",
       "<table border=\"1\" class=\"dataframe\">\n",
       "  <thead>\n",
       "    <tr style=\"text-align: right;\">\n",
       "      <th></th>\n",
       "      <th>tick_num</th>\n",
       "      <th>open</th>\n",
       "      <th>high</th>\n",
       "      <th>low</th>\n",
       "      <th>close</th>\n",
       "      <th>volume</th>\n",
       "      <th>cum_buy_volume</th>\n",
       "      <th>cum_ticks</th>\n",
       "      <th>cum_dollar_value</th>\n",
       "    </tr>\n",
       "    <tr>\n",
       "      <th>date_time</th>\n",
       "      <th></th>\n",
       "      <th></th>\n",
       "      <th></th>\n",
       "      <th></th>\n",
       "      <th></th>\n",
       "      <th></th>\n",
       "      <th></th>\n",
       "      <th></th>\n",
       "      <th></th>\n",
       "    </tr>\n",
       "  </thead>\n",
       "  <tbody>\n",
       "    <tr>\n",
       "      <th>2009-09-28 03:24:27</th>\n",
       "      <td>12</td>\n",
       "      <td>246.8</td>\n",
       "      <td>247.3</td>\n",
       "      <td>245.7</td>\n",
       "      <td>247.3</td>\n",
       "      <td>106</td>\n",
       "      <td>101</td>\n",
       "      <td>12</td>\n",
       "      <td>26133.0</td>\n",
       "    </tr>\n",
       "    <tr>\n",
       "      <th>2009-09-28 04:03:35</th>\n",
       "      <td>21</td>\n",
       "      <td>247.4</td>\n",
       "      <td>248.5</td>\n",
       "      <td>244.9</td>\n",
       "      <td>244.9</td>\n",
       "      <td>178</td>\n",
       "      <td>20</td>\n",
       "      <td>9</td>\n",
       "      <td>43676.2</td>\n",
       "    </tr>\n",
       "    <tr>\n",
       "      <th>2009-09-28 05:55:50</th>\n",
       "      <td>54</td>\n",
       "      <td>244.7</td>\n",
       "      <td>246.2</td>\n",
       "      <td>244.7</td>\n",
       "      <td>245.1</td>\n",
       "      <td>102</td>\n",
       "      <td>25</td>\n",
       "      <td>33</td>\n",
       "      <td>25049.9</td>\n",
       "    </tr>\n",
       "    <tr>\n",
       "      <th>2009-09-28 08:24:18</th>\n",
       "      <td>86</td>\n",
       "      <td>245.3</td>\n",
       "      <td>247.3</td>\n",
       "      <td>244.8</td>\n",
       "      <td>247.3</td>\n",
       "      <td>118</td>\n",
       "      <td>104</td>\n",
       "      <td>32</td>\n",
       "      <td>29056.8</td>\n",
       "    </tr>\n",
       "    <tr>\n",
       "      <th>2009-09-28 09:04:19</th>\n",
       "      <td>88</td>\n",
       "      <td>247.8</td>\n",
       "      <td>247.8</td>\n",
       "      <td>247.6</td>\n",
       "      <td>247.6</td>\n",
       "      <td>208</td>\n",
       "      <td>8</td>\n",
       "      <td>2</td>\n",
       "      <td>51502.4</td>\n",
       "    </tr>\n",
       "    <tr>\n",
       "      <th>...</th>\n",
       "      <td>...</td>\n",
       "      <td>...</td>\n",
       "      <td>...</td>\n",
       "      <td>...</td>\n",
       "      <td>...</td>\n",
       "      <td>...</td>\n",
       "      <td>...</td>\n",
       "      <td>...</td>\n",
       "      <td>...</td>\n",
       "    </tr>\n",
       "    <tr>\n",
       "      <th>2009-10-16 08:22:29</th>\n",
       "      <td>977</td>\n",
       "      <td>247.0</td>\n",
       "      <td>247.4</td>\n",
       "      <td>245.8</td>\n",
       "      <td>245.8</td>\n",
       "      <td>153</td>\n",
       "      <td>50</td>\n",
       "      <td>3</td>\n",
       "      <td>37741.4</td>\n",
       "    </tr>\n",
       "    <tr>\n",
       "      <th>2009-10-19 11:12:36</th>\n",
       "      <td>984</td>\n",
       "      <td>245.4</td>\n",
       "      <td>247.6</td>\n",
       "      <td>245.4</td>\n",
       "      <td>247.6</td>\n",
       "      <td>219</td>\n",
       "      <td>163</td>\n",
       "      <td>7</td>\n",
       "      <td>54092.9</td>\n",
       "    </tr>\n",
       "    <tr>\n",
       "      <th>2009-10-20 04:25:32</th>\n",
       "      <td>988</td>\n",
       "      <td>247.6</td>\n",
       "      <td>248.8</td>\n",
       "      <td>247.6</td>\n",
       "      <td>248.8</td>\n",
       "      <td>142</td>\n",
       "      <td>142</td>\n",
       "      <td>4</td>\n",
       "      <td>35307.4</td>\n",
       "    </tr>\n",
       "    <tr>\n",
       "      <th>2009-10-20 05:18:35</th>\n",
       "      <td>994</td>\n",
       "      <td>249.0</td>\n",
       "      <td>249.8</td>\n",
       "      <td>249.0</td>\n",
       "      <td>249.8</td>\n",
       "      <td>100</td>\n",
       "      <td>100</td>\n",
       "      <td>6</td>\n",
       "      <td>24932.5</td>\n",
       "    </tr>\n",
       "    <tr>\n",
       "      <th>2009-10-20 06:26:07</th>\n",
       "      <td>999</td>\n",
       "      <td>249.7</td>\n",
       "      <td>249.8</td>\n",
       "      <td>249.7</td>\n",
       "      <td>249.8</td>\n",
       "      <td>100</td>\n",
       "      <td>75</td>\n",
       "      <td>5</td>\n",
       "      <td>24977.5</td>\n",
       "    </tr>\n",
       "  </tbody>\n",
       "</table>\n",
       "<p>129 rows Ã 9 columns</p>\n",
       "</div>"
      ],
      "text/plain": [
       "                     tick_num   open   high    low  close  volume  \\\n",
       "date_time                                                           \n",
       "2009-09-28 03:24:27        12  246.8  247.3  245.7  247.3     106   \n",
       "2009-09-28 04:03:35        21  247.4  248.5  244.9  244.9     178   \n",
       "2009-09-28 05:55:50        54  244.7  246.2  244.7  245.1     102   \n",
       "2009-09-28 08:24:18        86  245.3  247.3  244.8  247.3     118   \n",
       "2009-09-28 09:04:19        88  247.8  247.8  247.6  247.6     208   \n",
       "...                       ...    ...    ...    ...    ...     ...   \n",
       "2009-10-16 08:22:29       977  247.0  247.4  245.8  245.8     153   \n",
       "2009-10-19 11:12:36       984  245.4  247.6  245.4  247.6     219   \n",
       "2009-10-20 04:25:32       988  247.6  248.8  247.6  248.8     142   \n",
       "2009-10-20 05:18:35       994  249.0  249.8  249.0  249.8     100   \n",
       "2009-10-20 06:26:07       999  249.7  249.8  249.7  249.8     100   \n",
       "\n",
       "                     cum_buy_volume  cum_ticks  cum_dollar_value  \n",
       "date_time                                                         \n",
       "2009-09-28 03:24:27             101         12           26133.0  \n",
       "2009-09-28 04:03:35              20          9           43676.2  \n",
       "2009-09-28 05:55:50              25         33           25049.9  \n",
       "2009-09-28 08:24:18             104         32           29056.8  \n",
       "2009-09-28 09:04:19               8          2           51502.4  \n",
       "...                             ...        ...               ...  \n",
       "2009-10-16 08:22:29              50          3           37741.4  \n",
       "2009-10-19 11:12:36             163          7           54092.9  \n",
       "2009-10-20 04:25:32             142          4           35307.4  \n",
       "2009-10-20 05:18:35             100          6           24932.5  \n",
       "2009-10-20 06:26:07              75          5           24977.5  \n",
       "\n",
       "[129 rows x 9 columns]"
      ]
     },
     "execution_count": 44,
     "metadata": {},
     "output_type": "execute_result"
    }
   ],
   "source": [
    "v_bar_df = cib.get_volume_bars(source_df, threshold=VOLUME_M)\n",
    "v_bar_df.set_index(\"date_time\", inplace=True)\n",
    "v_bar_df"
   ]
  },
  {
   "cell_type": "markdown",
   "metadata": {
    "collapsed": false
   },
   "source": [
    "## Dollar Bars"
   ]
  },
  {
   "cell_type": "code",
   "execution_count": 45,
   "metadata": {
    "collapsed": false,
    "pycharm": {
     "name": "#%%\n"
    }
   },
   "outputs": [
    {
     "data": {
      "text/html": [
       "<div>\n",
       "<style scoped>\n",
       "    .dataframe tbody tr th:only-of-type {\n",
       "        vertical-align: middle;\n",
       "    }\n",
       "\n",
       "    .dataframe tbody tr th {\n",
       "        vertical-align: top;\n",
       "    }\n",
       "\n",
       "    .dataframe thead th {\n",
       "        text-align: right;\n",
       "    }\n",
       "</style>\n",
       "<table border=\"1\" class=\"dataframe\">\n",
       "  <thead>\n",
       "    <tr style=\"text-align: right;\">\n",
       "      <th></th>\n",
       "      <th>tick_num</th>\n",
       "      <th>open</th>\n",
       "      <th>high</th>\n",
       "      <th>low</th>\n",
       "      <th>close</th>\n",
       "      <th>volume</th>\n",
       "      <th>cum_buy_volume</th>\n",
       "      <th>cum_ticks</th>\n",
       "      <th>cum_dollar_value</th>\n",
       "    </tr>\n",
       "    <tr>\n",
       "      <th>date_time</th>\n",
       "      <th></th>\n",
       "      <th></th>\n",
       "      <th></th>\n",
       "      <th></th>\n",
       "      <th></th>\n",
       "      <th></th>\n",
       "      <th></th>\n",
       "      <th></th>\n",
       "      <th></th>\n",
       "    </tr>\n",
       "  </thead>\n",
       "  <tbody>\n",
       "    <tr>\n",
       "      <th>2009-09-28 03:13:24</th>\n",
       "      <td>1</td>\n",
       "      <td>246.8</td>\n",
       "      <td>246.8</td>\n",
       "      <td>246.8</td>\n",
       "      <td>246.8</td>\n",
       "      <td>1</td>\n",
       "      <td>0</td>\n",
       "      <td>1</td>\n",
       "      <td>246.8</td>\n",
       "    </tr>\n",
       "    <tr>\n",
       "      <th>2009-09-28 03:15:27</th>\n",
       "      <td>2</td>\n",
       "      <td>246.4</td>\n",
       "      <td>246.4</td>\n",
       "      <td>246.4</td>\n",
       "      <td>246.4</td>\n",
       "      <td>1</td>\n",
       "      <td>0</td>\n",
       "      <td>1</td>\n",
       "      <td>246.4</td>\n",
       "    </tr>\n",
       "    <tr>\n",
       "      <th>2009-09-28 03:17:29</th>\n",
       "      <td>3</td>\n",
       "      <td>246.2</td>\n",
       "      <td>246.2</td>\n",
       "      <td>246.2</td>\n",
       "      <td>246.2</td>\n",
       "      <td>1</td>\n",
       "      <td>0</td>\n",
       "      <td>1</td>\n",
       "      <td>246.2</td>\n",
       "    </tr>\n",
       "    <tr>\n",
       "      <th>2009-09-28 03:19:31</th>\n",
       "      <td>4</td>\n",
       "      <td>245.7</td>\n",
       "      <td>245.7</td>\n",
       "      <td>245.7</td>\n",
       "      <td>245.7</td>\n",
       "      <td>1</td>\n",
       "      <td>0</td>\n",
       "      <td>1</td>\n",
       "      <td>245.7</td>\n",
       "    </tr>\n",
       "    <tr>\n",
       "      <th>2009-09-28 03:21:34</th>\n",
       "      <td>5</td>\n",
       "      <td>245.7</td>\n",
       "      <td>245.7</td>\n",
       "      <td>245.7</td>\n",
       "      <td>245.7</td>\n",
       "      <td>1</td>\n",
       "      <td>0</td>\n",
       "      <td>1</td>\n",
       "      <td>245.7</td>\n",
       "    </tr>\n",
       "    <tr>\n",
       "      <th>...</th>\n",
       "      <td>...</td>\n",
       "      <td>...</td>\n",
       "      <td>...</td>\n",
       "      <td>...</td>\n",
       "      <td>...</td>\n",
       "      <td>...</td>\n",
       "      <td>...</td>\n",
       "      <td>...</td>\n",
       "      <td>...</td>\n",
       "    </tr>\n",
       "    <tr>\n",
       "      <th>2009-10-20 05:49:22</th>\n",
       "      <td>996</td>\n",
       "      <td>249.8</td>\n",
       "      <td>249.8</td>\n",
       "      <td>249.8</td>\n",
       "      <td>249.8</td>\n",
       "      <td>25</td>\n",
       "      <td>25</td>\n",
       "      <td>1</td>\n",
       "      <td>6245.0</td>\n",
       "    </tr>\n",
       "    <tr>\n",
       "      <th>2009-10-20 06:05:02</th>\n",
       "      <td>997</td>\n",
       "      <td>249.8</td>\n",
       "      <td>249.8</td>\n",
       "      <td>249.8</td>\n",
       "      <td>249.8</td>\n",
       "      <td>25</td>\n",
       "      <td>25</td>\n",
       "      <td>1</td>\n",
       "      <td>6245.0</td>\n",
       "    </tr>\n",
       "    <tr>\n",
       "      <th>2009-10-20 06:20:56</th>\n",
       "      <td>998</td>\n",
       "      <td>249.8</td>\n",
       "      <td>249.8</td>\n",
       "      <td>249.8</td>\n",
       "      <td>249.8</td>\n",
       "      <td>13</td>\n",
       "      <td>13</td>\n",
       "      <td>1</td>\n",
       "      <td>3247.4</td>\n",
       "    </tr>\n",
       "    <tr>\n",
       "      <th>2009-10-20 06:26:07</th>\n",
       "      <td>999</td>\n",
       "      <td>249.8</td>\n",
       "      <td>249.8</td>\n",
       "      <td>249.8</td>\n",
       "      <td>249.8</td>\n",
       "      <td>12</td>\n",
       "      <td>12</td>\n",
       "      <td>1</td>\n",
       "      <td>2997.6</td>\n",
       "    </tr>\n",
       "    <tr>\n",
       "      <th>2009-10-20 06:33:19</th>\n",
       "      <td>1000</td>\n",
       "      <td>249.9</td>\n",
       "      <td>249.9</td>\n",
       "      <td>249.9</td>\n",
       "      <td>249.9</td>\n",
       "      <td>25</td>\n",
       "      <td>25</td>\n",
       "      <td>1</td>\n",
       "      <td>6247.5</td>\n",
       "    </tr>\n",
       "  </tbody>\n",
       "</table>\n",
       "<p>1000 rows Ã 9 columns</p>\n",
       "</div>"
      ],
      "text/plain": [
       "                     tick_num   open   high    low  close  volume  \\\n",
       "date_time                                                           \n",
       "2009-09-28 03:13:24         1  246.8  246.8  246.8  246.8       1   \n",
       "2009-09-28 03:15:27         2  246.4  246.4  246.4  246.4       1   \n",
       "2009-09-28 03:17:29         3  246.2  246.2  246.2  246.2       1   \n",
       "2009-09-28 03:19:31         4  245.7  245.7  245.7  245.7       1   \n",
       "2009-09-28 03:21:34         5  245.7  245.7  245.7  245.7       1   \n",
       "...                       ...    ...    ...    ...    ...     ...   \n",
       "2009-10-20 05:49:22       996  249.8  249.8  249.8  249.8      25   \n",
       "2009-10-20 06:05:02       997  249.8  249.8  249.8  249.8      25   \n",
       "2009-10-20 06:20:56       998  249.8  249.8  249.8  249.8      13   \n",
       "2009-10-20 06:26:07       999  249.8  249.8  249.8  249.8      12   \n",
       "2009-10-20 06:33:19      1000  249.9  249.9  249.9  249.9      25   \n",
       "\n",
       "                     cum_buy_volume  cum_ticks  cum_dollar_value  \n",
       "date_time                                                         \n",
       "2009-09-28 03:13:24               0          1             246.8  \n",
       "2009-09-28 03:15:27               0          1             246.4  \n",
       "2009-09-28 03:17:29               0          1             246.2  \n",
       "2009-09-28 03:19:31               0          1             245.7  \n",
       "2009-09-28 03:21:34               0          1             245.7  \n",
       "...                             ...        ...               ...  \n",
       "2009-10-20 05:49:22              25          1            6245.0  \n",
       "2009-10-20 06:05:02              25          1            6245.0  \n",
       "2009-10-20 06:20:56              13          1            3247.4  \n",
       "2009-10-20 06:26:07              12          1            2997.6  \n",
       "2009-10-20 06:33:19              25          1            6247.5  \n",
       "\n",
       "[1000 rows x 9 columns]"
      ]
     },
     "execution_count": 45,
     "metadata": {},
     "output_type": "execute_result"
    }
   ],
   "source": [
    "dv_bar_df = cib.get_dollar_bars(source_df, threshold=DOLLAR_VOLUME_M)\n",
    "dv_bar_df.set_index(\"date_time\", inplace=True)\n",
    "dv_bar_df"
   ]
  },
  {
   "cell_type": "markdown",
   "metadata": {
    "collapsed": false,
    "pycharm": {
     "name": "#%% md\n"
    }
   },
   "source": [
    "# Analyzing the Bars"
   ]
  },
  {
   "cell_type": "markdown",
   "metadata": {
    "collapsed": false,
    "pycharm": {
     "name": "#%% md\n"
    }
   },
   "source": [
    "## Count Quantity of Bars By Each Bar Type (Weekly)\n",
    "\n",
    "Compare series. Scale them so that we compare \"apples\" to \"apples\"."
   ]
  },
  {
   "cell_type": "code",
   "execution_count": 46,
   "metadata": {
    "collapsed": false,
    "pycharm": {
     "name": "#%%\n"
    }
   },
   "outputs": [],
   "source": [
    "def count_bars(df, price_col=\"cum_dollar_value\"):\n",
    "    return df.resample(\"s\")[price_col].count()\n",
    "\n",
    "\n",
    "def scale(s):\n",
    "    return (s - s.min()) / (s.max() - s.min())"
   ]
  },
  {
   "cell_type": "code",
   "execution_count": 47,
   "metadata": {
    "collapsed": false,
    "pycharm": {
     "name": "#%%\n"
    }
   },
   "outputs": [],
   "source": [
    "tc = scale(count_bars(tick_df))\n",
    "vc = scale(count_bars(v_bar_df))\n",
    "dc = scale(count_bars(dv_bar_df))\n",
    "dfc = scale(count_bars(df, price_col=\"price\"))"
   ]
  },
  {
   "cell_type": "code",
   "execution_count": 48,
   "metadata": {
    "collapsed": false,
    "pycharm": {
     "name": "#%%\n"
    }
   },
   "outputs": [
    {
     "data": {
      "text/plain": [
       "<matplotlib.legend.Legend at 0x159f850a0>"
      ]
     },
     "execution_count": 48,
     "metadata": {},
     "output_type": "execute_result"
    },
    {
     "data": {
      "image/png": "[encoded data removed]",
      "text/plain": [
       "<Figure size 720x504 with 1 Axes>"
      ]
     },
     "metadata": {
      "needs_background": "light"
     },
     "output_type": "display_data"
    }
   ],
   "source": [
    "f, ax = plt.subplots(figsize=PLOT_FIGURE_SIZE)\n",
    "tc.plot(ax=ax, ls=\"-\", label=\"tick count\")\n",
    "vc.plot(ax=ax, ls=\"--\", label=\"volume count\")\n",
    "dc.plot(ax=ax, ls=\"-.\", label=\"dollar count\")\n",
    "ax.set_title(\"scaled bar counts\")\n",
    "ax.legend()"
   ]
  },
  {
   "cell_type": "markdown",
   "metadata": {
    "collapsed": false,
    "pycharm": {
     "name": "#%% md\n"
    }
   },
   "source": [
    "## Which Bar Type Has Most Stable Counts?"
   ]
  },
  {
   "cell_type": "code",
   "execution_count": 49,
   "metadata": {
    "collapsed": false,
    "pycharm": {
     "name": "#%%\n"
    }
   },
   "outputs": [
    {
     "data": {
      "text/plain": [
       "tick      0.002350\n",
       "dollar    0.003117\n",
       "df        0.003117\n",
       "volume    0.004139\n",
       "dtype: float64"
      ]
     },
     "execution_count": 49,
     "metadata": {},
     "output_type": "execute_result"
    }
   ],
   "source": [
    "bar_types = [\"tick\", \"volume\", \"dollar\", \"df\"]\n",
    "bar_std = [tc.std(), vc.std(), dc.std(), dfc.std()]\n",
    "counts = pd.Series(bar_std, index=bar_types)\n",
    "counts.sort_values()"
   ]
  },
  {
   "cell_type": "markdown",
   "metadata": {
    "collapsed": false,
    "pycharm": {
     "name": "#%% md\n"
    }
   },
   "source": [
    "## Which Bar Type Has the Lowest Serial Correlation?"
   ]
  },
  {
   "cell_type": "code",
   "execution_count": 50,
   "metadata": {
    "collapsed": false,
    "pycharm": {
     "name": "#%%\n"
    }
   },
   "outputs": [],
   "source": [
    "def returns(s):\n",
    "    arr = np.diff(np.log(s))\n",
    "    return pd.Series(arr, index=s.index[1:])"
   ]
  },
  {
   "cell_type": "code",
   "execution_count": 51,
   "metadata": {
    "collapsed": false,
    "pycharm": {
     "name": "#%%\n"
    }
   },
   "outputs": [],
   "source": [
    "tr = returns(tick_df.cum_dollar_value)\n",
    "vr = returns(v_bar_df.cum_dollar_value)\n",
    "dr = returns(dv_bar_df.cum_dollar_value)\n",
    "df_ret = returns(df.price)\n",
    "\n",
    "bar_returns = [tr, vr, dr, df_ret]"
   ]
  },
  {
   "cell_type": "code",
   "execution_count": 52,
   "metadata": {
    "collapsed": false,
    "pycharm": {
     "name": "#%%\n"
    }
   },
   "outputs": [],
   "source": [
    "def get_test_stats(bar_types, bar_returns, test_func, *args, **kwargs):\n",
    "\n",
    "    dct = {\n",
    "        bar_plot: (int(bar_ret.shape[0]), test_func(bar_ret, *args, **kwargs))\n",
    "        for bar_plot, bar_ret in zip(bar_types, bar_returns)\n",
    "    }\n",
    "\n",
    "    df = (\n",
    "        pd.DataFrame.from_dict(dct)\n",
    "        .rename(index={0: \"sample_size\", 1: f\"{test_func.__name__}_stat\"})\n",
    "        .T\n",
    "    )\n",
    "    return df\n",
    "\n",
    "\n",
    "autocorrs = get_test_stats(bar_types, bar_returns, pd.Series.autocorr)"
   ]
  },
  {
   "cell_type": "code",
   "execution_count": 53,
   "metadata": {
    "collapsed": false,
    "pycharm": {
     "name": "#%%\n"
    }
   },
   "outputs": [
    {
     "data": {
      "text/html": [
       "<div>\n",
       "<style scoped>\n",
       "    .dataframe tbody tr th:only-of-type {\n",
       "        vertical-align: middle;\n",
       "    }\n",
       "\n",
       "    .dataframe tbody tr th {\n",
       "        vertical-align: top;\n",
       "    }\n",
       "\n",
       "    .dataframe thead th {\n",
       "        text-align: right;\n",
       "    }\n",
       "</style>\n",
       "<table border=\"1\" class=\"dataframe\">\n",
       "  <thead>\n",
       "    <tr style=\"text-align: right;\">\n",
       "      <th></th>\n",
       "      <th>sample_size</th>\n",
       "      <th>autocorr_stat</th>\n",
       "    </tr>\n",
       "  </thead>\n",
       "  <tbody>\n",
       "    <tr>\n",
       "      <th>volume</th>\n",
       "      <td>128.0</td>\n",
       "      <td>-0.488608</td>\n",
       "    </tr>\n",
       "    <tr>\n",
       "      <th>dollar</th>\n",
       "      <td>999.0</td>\n",
       "      <td>-0.394214</td>\n",
       "    </tr>\n",
       "    <tr>\n",
       "      <th>tick</th>\n",
       "      <td>9.0</td>\n",
       "      <td>-0.032794</td>\n",
       "    </tr>\n",
       "    <tr>\n",
       "      <th>df</th>\n",
       "      <td>999.0</td>\n",
       "      <td>-0.018129</td>\n",
       "    </tr>\n",
       "  </tbody>\n",
       "</table>\n",
       "</div>"
      ],
      "text/plain": [
       "        sample_size  autocorr_stat\n",
       "volume        128.0      -0.488608\n",
       "dollar        999.0      -0.394214\n",
       "tick            9.0      -0.032794\n",
       "df            999.0      -0.018129"
      ]
     },
     "execution_count": 53,
     "metadata": {},
     "output_type": "execute_result"
    }
   ],
   "source": [
    "autocorrs.sort_values(\"autocorr_stat\")"
   ]
  },
  {
   "cell_type": "code",
   "execution_count": 54,
   "metadata": {
    "collapsed": false,
    "pycharm": {
     "name": "#%%\n"
    }
   },
   "outputs": [
    {
     "data": {
      "text/html": [
       "<div>\n",
       "<style scoped>\n",
       "    .dataframe tbody tr th:only-of-type {\n",
       "        vertical-align: middle;\n",
       "    }\n",
       "\n",
       "    .dataframe tbody tr th {\n",
       "        vertical-align: top;\n",
       "    }\n",
       "\n",
       "    .dataframe thead th {\n",
       "        text-align: right;\n",
       "    }\n",
       "</style>\n",
       "<table border=\"1\" class=\"dataframe\">\n",
       "  <thead>\n",
       "    <tr style=\"text-align: right;\">\n",
       "      <th></th>\n",
       "      <th>sample_size</th>\n",
       "      <th>autocorr_stat</th>\n",
       "    </tr>\n",
       "  </thead>\n",
       "  <tbody>\n",
       "    <tr>\n",
       "      <th>df</th>\n",
       "      <td>999.0</td>\n",
       "      <td>0.018129</td>\n",
       "    </tr>\n",
       "    <tr>\n",
       "      <th>tick</th>\n",
       "      <td>9.0</td>\n",
       "      <td>0.032794</td>\n",
       "    </tr>\n",
       "    <tr>\n",
       "      <th>dollar</th>\n",
       "      <td>999.0</td>\n",
       "      <td>0.394214</td>\n",
       "    </tr>\n",
       "    <tr>\n",
       "      <th>volume</th>\n",
       "      <td>128.0</td>\n",
       "      <td>0.488608</td>\n",
       "    </tr>\n",
       "  </tbody>\n",
       "</table>\n",
       "</div>"
      ],
      "text/plain": [
       "        sample_size  autocorr_stat\n",
       "df            999.0       0.018129\n",
       "tick            9.0       0.032794\n",
       "dollar        999.0       0.394214\n",
       "volume        128.0       0.488608"
      ]
     },
     "execution_count": 54,
     "metadata": {},
     "output_type": "execute_result"
    }
   ],
   "source": [
    "autocorrs.abs().sort_values(\"autocorr_stat\")"
   ]
  },
  {
   "cell_type": "code",
   "execution_count": 55,
   "metadata": {
    "collapsed": false,
    "pycharm": {
     "name": "#%%\n"
    }
   },
   "outputs": [],
   "source": [
    "def plot_autocorr(bar_types, bar_returns):\n",
    "    _, axes = plt.subplots(len(bar_types), figsize=PLOT_FIGURE_SIZE)\n",
    "    min_lags = min(map(len, bar_returns))\n",
    "    for i, (bar_plot, typ) in enumerate(zip(bar_returns, bar_types)):\n",
    "        sm.graphics.tsa.plot_acf(\n",
    "            bar_plot,\n",
    "            lags=min_lags - 1,\n",
    "            ax=axes[i],\n",
    "            alpha=0.05,\n",
    "            unbiased=True,\n",
    "            fft=True,\n",
    "            zero=False,\n",
    "            title=f\"{typ} AutoCorr\",\n",
    "        )\n",
    "    plt.tight_layout()\n",
    "\n",
    "\n",
    "def plot_hist(bar_types, bar_returns):\n",
    "    _, axes = plt.subplots(len(bar_types), figsize=PLOT_FIGURE_SIZE)\n",
    "    for i, (bar_plot, typ) in enumerate(zip(bar_returns, bar_types)):\n",
    "        g = sns.distplot(bar_plot, ax=axes[i], kde=False, label=typ)\n",
    "        g.set(yscale=\"log\")\n",
    "        axes[i].legend()\n",
    "    plt.tight_layout()"
   ]
  },
  {
   "cell_type": "code",
   "execution_count": 56,
   "metadata": {
    "collapsed": false,
    "pycharm": {
     "name": "#%%\n"
    }
   },
   "outputs": [
    {
     "name": "stderr",
     "output_type": "stream",
     "text": [
      "<ipython-input-55-9b35769ca1cf>:5: FutureWarning: the 'unbiased'' keyword is deprecated, use 'adjusted' instead\n",
      "  sm.graphics.tsa.plot_acf(bar,\n",
      "<ipython-input-55-9b35769ca1cf>:5: FutureWarning: the 'unbiased'' keyword is deprecated, use 'adjusted' instead\n",
      "  sm.graphics.tsa.plot_acf(bar,\n",
      "<ipython-input-55-9b35769ca1cf>:5: FutureWarning: the 'unbiased'' keyword is deprecated, use 'adjusted' instead\n",
      "  sm.graphics.tsa.plot_acf(bar,\n",
      "<ipython-input-55-9b35769ca1cf>:5: FutureWarning: the 'unbiased'' keyword is deprecated, use 'adjusted' instead\n",
      "  sm.graphics.tsa.plot_acf(bar,\n"
     ]
    },
    {
     "data": {
      "image/png": "[encoded data removed]",
      "text/plain": [
       "<Figure size 720x504 with 4 Axes>"
      ]
     },
     "metadata": {
      "needs_background": "light"
     },
     "output_type": "display_data"
    }
   ],
   "source": [
    "plot_autocorr(bar_types, bar_returns)"
   ]
  },
  {
   "cell_type": "code",
   "execution_count": 57,
   "metadata": {
    "collapsed": false,
    "pycharm": {
     "name": "#%%\n"
    }
   },
   "outputs": [
    {
     "data": {
      "image/png": "[encoded data removed]",
      "text/plain": [
       "<Figure size 720x504 with 4 Axes>"
      ]
     },
     "metadata": {
      "needs_background": "light"
     },
     "output_type": "display_data"
    }
   ],
   "source": [
    "plot_hist(bar_types, bar_returns)"
   ]
  },
  {
   "cell_type": "markdown",
   "metadata": {
    "collapsed": false,
    "pycharm": {
     "name": "#%% md\n"
    }
   },
   "source": [
    "## Partition Bar Series into Monthly, Compute Variance of Returns, and Variance of Variance"
   ]
  },
  {
   "cell_type": "code",
   "execution_count": 58,
   "metadata": {
    "collapsed": false,
    "pycharm": {
     "name": "#%%\n"
    }
   },
   "outputs": [],
   "source": [
    "def partition_monthly(s):\n",
    "    return s.resample(\"1M\").var()"
   ]
  },
  {
   "cell_type": "code",
   "execution_count": 59,
   "metadata": {
    "collapsed": false,
    "pycharm": {
     "name": "#%%\n"
    }
   },
   "outputs": [],
   "source": [
    "tr_rs = partition_monthly(tr)\n",
    "vr_rs = partition_monthly(vr)\n",
    "dr_rs = partition_monthly(dr)\n",
    "df_ret_rs = partition_monthly(df_ret)\n",
    "monthly_vars = [tr_rs, vr_rs, dr_rs, df_ret_rs]"
   ]
  },
  {
   "cell_type": "code",
   "execution_count": 60,
   "metadata": {
    "collapsed": false,
    "pycharm": {
     "name": "#%%\n"
    }
   },
   "outputs": [
    {
     "data": {
      "text/html": [
       "<div>\n",
       "<style scoped>\n",
       "    .dataframe tbody tr th:only-of-type {\n",
       "        vertical-align: middle;\n",
       "    }\n",
       "\n",
       "    .dataframe tbody tr th {\n",
       "        vertical-align: top;\n",
       "    }\n",
       "\n",
       "    .dataframe thead th {\n",
       "        text-align: right;\n",
       "    }\n",
       "</style>\n",
       "<table border=\"1\" class=\"dataframe\">\n",
       "  <thead>\n",
       "    <tr style=\"text-align: right;\">\n",
       "      <th></th>\n",
       "      <th>sample_size</th>\n",
       "      <th>var_stat</th>\n",
       "    </tr>\n",
       "  </thead>\n",
       "  <tbody>\n",
       "    <tr>\n",
       "      <th>tick</th>\n",
       "      <td>1.0</td>\n",
       "      <td>0.000000e+00</td>\n",
       "    </tr>\n",
       "    <tr>\n",
       "      <th>df</th>\n",
       "      <td>2.0</td>\n",
       "      <td>2.352561e-12</td>\n",
       "    </tr>\n",
       "    <tr>\n",
       "      <th>volume</th>\n",
       "      <td>2.0</td>\n",
       "      <td>2.337756e-03</td>\n",
       "    </tr>\n",
       "    <tr>\n",
       "      <th>dollar</th>\n",
       "      <td>2.0</td>\n",
       "      <td>6.022845e-01</td>\n",
       "    </tr>\n",
       "  </tbody>\n",
       "</table>\n",
       "</div>"
      ],
      "text/plain": [
       "        sample_size      var_stat\n",
       "tick            1.0  0.000000e+00\n",
       "df              2.0  2.352561e-12\n",
       "volume          2.0  2.337756e-03\n",
       "dollar          2.0  6.022845e-01"
      ]
     },
     "execution_count": 60,
     "metadata": {},
     "output_type": "execute_result"
    }
   ],
   "source": [
    "get_test_stats(bar_types, monthly_vars, np.var).sort_values(\"var_stat\")"
   ]
  },
  {
   "cell_type": "markdown",
   "metadata": {
    "collapsed": false,
    "pycharm": {
     "name": "#%% md\n"
    }
   },
   "source": [
    "## Compute Jarque-Bera Test, Which Has The Lowest Test Statistic?"
   ]
  },
  {
   "cell_type": "code",
   "execution_count": 61,
   "metadata": {
    "collapsed": false,
    "pycharm": {
     "name": "#%%\n"
    }
   },
   "outputs": [
    {
     "data": {
      "text/html": [
       "<div>\n",
       "<style scoped>\n",
       "    .dataframe tbody tr th:only-of-type {\n",
       "        vertical-align: middle;\n",
       "    }\n",
       "\n",
       "    .dataframe tbody tr th {\n",
       "        vertical-align: top;\n",
       "    }\n",
       "\n",
       "    .dataframe thead th {\n",
       "        text-align: right;\n",
       "    }\n",
       "</style>\n",
       "<table border=\"1\" class=\"dataframe\">\n",
       "  <thead>\n",
       "    <tr style=\"text-align: right;\">\n",
       "      <th></th>\n",
       "      <th>sample_size</th>\n",
       "      <th>jb_stat</th>\n",
       "    </tr>\n",
       "  </thead>\n",
       "  <tbody>\n",
       "    <tr>\n",
       "      <th>volume</th>\n",
       "      <td>128.0</td>\n",
       "      <td>0.427577</td>\n",
       "    </tr>\n",
       "    <tr>\n",
       "      <th>tick</th>\n",
       "      <td>9.0</td>\n",
       "      <td>1.282019</td>\n",
       "    </tr>\n",
       "    <tr>\n",
       "      <th>dollar</th>\n",
       "      <td>999.0</td>\n",
       "      <td>1731.003924</td>\n",
       "    </tr>\n",
       "    <tr>\n",
       "      <th>df</th>\n",
       "      <td>999.0</td>\n",
       "      <td>13309.106992</td>\n",
       "    </tr>\n",
       "  </tbody>\n",
       "</table>\n",
       "</div>"
      ],
      "text/plain": [
       "        sample_size       jb_stat\n",
       "volume        128.0      0.427577\n",
       "tick            9.0      1.282019\n",
       "dollar        999.0   1731.003924\n",
       "df            999.0  13309.106992"
      ]
     },
     "execution_count": 61,
     "metadata": {},
     "output_type": "execute_result"
    }
   ],
   "source": [
    "def jb(x, test=True):\n",
    "    np.random.seed(12345678)\n",
    "    if test:\n",
    "        return stats.jarque_bera(x)[0]\n",
    "    return stats.jarque_bera(x)[1]\n",
    "\n",
    "\n",
    "get_test_stats(bar_types, bar_returns, jb).sort_values(\"jb_stat\")"
   ]
  },
  {
   "cell_type": "markdown",
   "metadata": {
    "collapsed": false,
    "pycharm": {
     "name": "#%% md\n"
    }
   },
   "source": [
    "## Compute Shapiro-Wilk Test\n",
    "\n",
    "Shapiro-Wilk test statistic > larger is better."
   ]
  },
  {
   "cell_type": "code",
   "execution_count": 62,
   "metadata": {
    "collapsed": false,
    "pycharm": {
     "name": "#%%\n"
    }
   },
   "outputs": [
    {
     "data": {
      "text/html": [
       "<div>\n",
       "<style scoped>\n",
       "    .dataframe tbody tr th:only-of-type {\n",
       "        vertical-align: middle;\n",
       "    }\n",
       "\n",
       "    .dataframe tbody tr th {\n",
       "        vertical-align: top;\n",
       "    }\n",
       "\n",
       "    .dataframe thead th {\n",
       "        text-align: right;\n",
       "    }\n",
       "</style>\n",
       "<table border=\"1\" class=\"dataframe\">\n",
       "  <thead>\n",
       "    <tr style=\"text-align: right;\">\n",
       "      <th></th>\n",
       "      <th>sample_size</th>\n",
       "      <th>shapiro_stat</th>\n",
       "    </tr>\n",
       "  </thead>\n",
       "  <tbody>\n",
       "    <tr>\n",
       "      <th>volume</th>\n",
       "      <td>128.0</td>\n",
       "      <td>0.988020</td>\n",
       "    </tr>\n",
       "    <tr>\n",
       "      <th>tick</th>\n",
       "      <td>9.0</td>\n",
       "      <td>0.917787</td>\n",
       "    </tr>\n",
       "    <tr>\n",
       "      <th>dollar</th>\n",
       "      <td>999.0</td>\n",
       "      <td>0.722935</td>\n",
       "    </tr>\n",
       "    <tr>\n",
       "      <th>df</th>\n",
       "      <td>999.0</td>\n",
       "      <td>0.659137</td>\n",
       "    </tr>\n",
       "  </tbody>\n",
       "</table>\n",
       "</div>"
      ],
      "text/plain": [
       "        sample_size  shapiro_stat\n",
       "volume        128.0      0.988020\n",
       "tick            9.0      0.917787\n",
       "dollar        999.0      0.722935\n",
       "df            999.0      0.659137"
      ]
     },
     "execution_count": 62,
     "metadata": {},
     "output_type": "execute_result"
    }
   ],
   "source": [
    "def shapiro(x, test=True):\n",
    "    np.random.seed(12345678)\n",
    "    if test:\n",
    "        return stats.shapiro(x)[0]\n",
    "    return stats.shapiro(x)[1]\n",
    "\n",
    "\n",
    "get_test_stats(bar_types, bar_returns, shapiro).sort_values(\"shapiro_stat\")[::-1]"
   ]
  }
 ],
 "metadata": {
  "jupytext": {
   "formats": "ipynb,py:percent"
  },
  "kernelspec": {
   "display_name": "Python 3",
   "language": "python",
   "name": "python3"
  },
  "language_info": {
   "codemirror_mode": {
    "name": "ipython",
    "version": 3
   },
   "file_extension": ".py",
   "mimetype": "text/x-python",
   "name": "python",
   "nbconvert_exporter": "python",
   "pygments_lexer": "ipython3",
   "version": "3.7.7"
  }
 },
 "nbformat": 4,
 "nbformat_minor": 4
}