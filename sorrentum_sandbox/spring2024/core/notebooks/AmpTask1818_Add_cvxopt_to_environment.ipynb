{
 "cells": [
  {
   "cell_type": "code",
   "execution_count": 1,
   "id": "a02b3663",
   "metadata": {},
   "outputs": [],
   "source": [
    "# !pip install cvxopt\n",
    "import cvxpy as cp"
   ]
  },
  {
   "cell_type": "code",
   "execution_count": null,
   "id": "b0adf7dd",
   "metadata": {},
   "outputs": [],
   "source": [
    "import numpy as np"
   ]
  },
  {
   "cell_type": "markdown",
   "id": "bc8d7b0d",
   "metadata": {},
   "source": [
    "# Example 1"
   ]
  },
  {
   "cell_type": "code",
   "execution_count": 2,
   "id": "09a2ffe5",
   "metadata": {},
   "outputs": [
    {
     "name": "stdout",
     "output_type": "stream",
     "text": [
      "[-1.79109255e-19  2.85112420e-02  2.79973443e-19  3.37658729e-20\n",
      " -2.72802663e-19  1.49285011e-01 -9.94082533e-20  8.35373900e-20\n",
      "  2.46718649e-01  5.78224144e-01 -4.03739463e-19  1.01242860e-03\n",
      " -9.28486180e-20  2.26767464e-01 -1.58813678e-19 -8.97232272e-20\n",
      " -1.22145729e-19 -1.51509428e-19  1.12060672e-19 -3.48318635e-19]\n",
      "[ 2.50938945  0.          2.78354615  1.79425782 13.08579183  0.\n",
      "  0.73716363  3.35344995  0.          0.          8.93825054  0.\n",
      "  7.02955161  0.          4.71068649  3.18873635  2.06090107 10.08166738\n",
      "  3.0481157   8.53268239]\n"
     ]
    }
   ],
   "source": [
    "# Reproduce the example from `https://www.cvxpy.org/index.html`.\n",
    "\n",
    "# Problem data.\n",
    "m = 30\n",
    "n = 20\n",
    "np.random.seed(1)\n",
    "A = np.random.randn(m, n)\n",
    "b = np.random.randn(m)\n",
    "\n",
    "# Construct the problem.\n",
    "x = cp.Variable(n)\n",
    "objective = cp.Minimize(cp.sum_squares(A @ x - b))\n",
    "constraints = [0 <= x, x <= 1]\n",
    "prob = cp.Problem(objective, constraints)\n",
    "\n",
    "# The optimal objective value is returned by `prob.solve()`.\n",
    "result = prob.solve()\n",
    "# The optimal value for x is stored in `x.value`.\n",
    "print(x.value)\n",
    "# The optimal Lagrange multiplier for a constraint is stored in\n",
    "# `constraint.dual_value`.\n",
    "print(constraints[0].dual_value)"
   ]
  },
  {
   "cell_type": "code",
   "execution_count": 8,
   "id": "d9162d5c",
   "metadata": {},
   "outputs": [],
   "source": [
    "# https://www.cvxpy.org/tutorial/advanced/index.html#getting-the-standard-form\n",
    "pd1, pd2, pd3 = prob.get_problem_data(cp.CVXOPT)"
   ]
  },
  {
   "cell_type": "code",
   "execution_count": 5,
   "id": "6bcde40b",
   "metadata": {},
   "outputs": [
    {
     "data": {
      "text/plain": [
       "{'param_prob': <cvxpy.reductions.dcp2cone.cone_matrix_stuffing.ParamConeProg at 0x7f97b06ad850>,\n",
       " 'dims': (zero: 0, nonneg: 40, exp: 0, soc: [32], psd: [], p3d: []),\n",
       " 'c': array([1., 0., 0., 0., 0., 0., 0., 0., 0., 0., 0., 0., 0., 0., 0., 0., 0.,\n",
       "        0., 0., 0., 0.]),\n",
       " 'A': None,\n",
       " 'b': None,\n",
       " 'G': <72x21 sparse matrix of type '<class 'numpy.float64'>'\n",
       " \twith 642 stored elements in Compressed Sparse Column format>,\n",
       " 'h': array([ 0.        ,  0.        ,  0.        ,  0.        ,  0.        ,\n",
       "         0.        ,  0.        ,  0.        ,  0.        ,  0.        ,\n",
       "         0.        ,  0.        ,  0.        ,  0.        ,  0.        ,\n",
       "         0.        ,  0.        ,  0.        ,  0.        ,  0.        ,\n",
       "         1.        ,  1.        ,  1.        ,  1.        ,  1.        ,\n",
       "         1.        ,  1.        ,  1.        ,  1.        ,  1.        ,\n",
       "         1.        ,  1.        ,  1.        ,  1.        ,  1.        ,\n",
       "         1.        ,  1.        ,  1.        ,  1.        ,  1.        ,\n",
       "         1.        ,  1.        ,  2.14592856, -0.99031722,  1.9041242 ,\n",
       "         1.0362911 ,  2.92280721,  1.03269582, -0.70223379,  0.13754093,\n",
       "         2.69552988, -2.94147971, -0.67444188, -2.01613087, -1.57045384,\n",
       "         1.32973553,  3.89009392,  1.83084874, -2.4503117 ,  2.10709215,\n",
       "        -1.63208737,  1.22481395, -0.78621849,  3.64783971, -2.33415033,\n",
       "         0.0793374 , -1.7716516 , -0.3797233 , -1.59612759,  0.20386408,\n",
       "        -1.48671309,  3.01914537])}"
      ]
     },
     "execution_count": 5,
     "metadata": {},
     "output_type": "execute_result"
    }
   ],
   "source": [
    "pd1"
   ]
  },
  {
   "cell_type": "code",
   "execution_count": 6,
   "id": "6e9660eb",
   "metadata": {},
   "outputs": [
    {
     "data": {
      "text/plain": [
       "Chain(reductions=[<cvxpy.reductions.dcp2cone.dcp2cone.Dcp2Cone object at 0x7f97b06bb090>, <cvxpy.reductions.cvx_attr2constr.CvxAttr2Constr object at 0x7f97b06bbf10>, <cvxpy.reductions.dcp2cone.cone_matrix_stuffing.ConeMatrixStuffing object at 0x7f97b06bb190>, <cvxpy.reductions.solvers.conic_solvers.cvxopt_conif.CVXOPT object at 0x7f97b0388b50>])"
      ]
     },
     "execution_count": 6,
     "metadata": {},
     "output_type": "execute_result"
    }
   ],
   "source": [
    "pd2"
   ]
  },
  {
   "cell_type": "code",
   "execution_count": 7,
   "id": "ee74b74d",
   "metadata": {},
   "outputs": [
    {
     "data": {
      "text/plain": [
       "[<cvxpy.reductions.inverse_data.InverseData at 0x7f97b058fb90>,\n",
       " (),\n",
       " <cvxpy.reductions.inverse_data.InverseData at 0x7f97b059b390>,\n",
       " {'var_id': 66,\n",
       "  'dims': (zero: 0, nonneg: 40, exp: 0, soc: [32], psd: [], p3d: []),\n",
       "  'eq_constr': [],\n",
       "  'other_constr': [NonNeg(Expression(AFFINE, UNKNOWN, (20,))),\n",
       "   NonNeg(Expression(AFFINE, UNKNOWN, (20,))),\n",
       "   SOC(Expression(AFFINE, UNKNOWN, (1,)))],\n",
       "  'offset': array(0.)}]"
      ]
     },
     "execution_count": 7,
     "metadata": {},
     "output_type": "execute_result"
    }
   ],
   "source": [
    "pd3"
   ]
  },
  {
   "cell_type": "markdown",
   "id": "954dd5cb",
   "metadata": {},
   "source": [
    "# Example 2"
   ]
  },
  {
   "cell_type": "code",
   "execution_count": 34,
   "id": "c02a1f4d",
   "metadata": {},
   "outputs": [],
   "source": [
    "# https://druce.ai/2020/12/portfolio-opimization"
   ]
  },
  {
   "cell_type": "code",
   "execution_count": 35,
   "id": "5bf18d0c",
   "metadata": {},
   "outputs": [],
   "source": [
    "# Problem data.\n",
    "m = 100\n",
    "n = 20\n",
    "np.random.seed(1)\n",
    "historical_mu = np.random.randn(m, n)"
   ]
  },
  {
   "cell_type": "code",
   "execution_count": 18,
   "id": "743b0c2a",
   "metadata": {},
   "outputs": [],
   "source": [
    "mu = np.random.randn(n)"
   ]
  },
  {
   "cell_type": "code",
   "execution_count": 27,
   "id": "d2bc4521",
   "metadata": {},
   "outputs": [],
   "source": [
    "# The `transpose()` is necessary.\n",
    "covariance = np.cov(historical_mu.transpose())"
   ]
  },
  {
   "cell_type": "code",
   "execution_count": 24,
   "id": "e495a835",
   "metadata": {},
   "outputs": [],
   "source": [
    "weights = cp.Variable(n)"
   ]
  },
  {
   "cell_type": "code",
   "execution_count": 25,
   "id": "37cc7d37",
   "metadata": {},
   "outputs": [],
   "source": [
    "rets = mu.T @ weights"
   ]
  },
  {
   "cell_type": "code",
   "execution_count": 50,
   "id": "4b357f11",
   "metadata": {},
   "outputs": [],
   "source": [
    "portfolio_variance = cp.quad_form(weights, covariance)"
   ]
  },
  {
   "cell_type": "code",
   "execution_count": 51,
   "id": "8b03062f",
   "metadata": {},
   "outputs": [],
   "source": [
    "minimize_variance = cp.Problem(\n",
    "    cp.Minimize(portfolio_variance), [cp.sum(weights) == 1]\n",
    ")"
   ]
  },
  {
   "cell_type": "code",
   "execution_count": 52,
   "id": "ce7c90be",
   "metadata": {},
   "outputs": [
    {
     "data": {
      "text/plain": [
       "0.03149854482732454"
      ]
     },
     "execution_count": 52,
     "metadata": {},
     "output_type": "execute_result"
    }
   ],
   "source": [
    "minimize_variance.solve()"
   ]
  },
  {
   "cell_type": "code",
   "execution_count": 53,
   "id": "f96feec0",
   "metadata": {},
   "outputs": [
    {
     "data": {
      "text/plain": [
       "-0.061490906784330925"
      ]
     },
     "execution_count": 53,
     "metadata": {},
     "output_type": "execute_result"
    }
   ],
   "source": [
    "rets.value"
   ]
  },
  {
   "cell_type": "code",
   "execution_count": 42,
   "id": "0db49862",
   "metadata": {},
   "outputs": [
    {
     "data": {
      "text/plain": [
       "array([0.04577215, 0.04920539, 0.0221771 , 0.06538957, 0.0103917 ,\n",
       "       0.01044984, 0.06562787, 0.07408221, 0.05158417, 0.08106313,\n",
       "       0.03762758, 0.10165571, 0.03088424, 0.08039891, 0.05895037,\n",
       "       0.076406  , 0.0082815 , 0.02650216, 0.05957543, 0.04397498])"
      ]
     },
     "execution_count": 42,
     "metadata": {},
     "output_type": "execute_result"
    }
   ],
   "source": [
    "weights.value"
   ]
  },
  {
   "cell_type": "code",
   "execution_count": 54,
   "id": "11ee5788",
   "metadata": {},
   "outputs": [],
   "source": [
    "maximize_returns = cp.Problem(\n",
    "    cp.Maximize(rets),\n",
    "    [\n",
    "        cp.sum(weights) == 1,\n",
    "        # Long-short will try to increase leverage to infinity (and fail to converge)\n",
    "        weights >= 0,\n",
    "    ],\n",
    ")"
   ]
  },
  {
   "cell_type": "code",
   "execution_count": 55,
   "id": "b07aad9b",
   "metadata": {},
   "outputs": [
    {
     "data": {
      "text/plain": [
       "1.4969952468999923"
      ]
     },
     "execution_count": 55,
     "metadata": {},
     "output_type": "execute_result"
    }
   ],
   "source": [
    "maximize_returns.solve()"
   ]
  },
  {
   "cell_type": "code",
   "execution_count": 56,
   "id": "1fd0e3eb",
   "metadata": {},
   "outputs": [
    {
     "data": {
      "text/plain": [
       "1.2686101771457268"
      ]
     },
     "execution_count": 56,
     "metadata": {},
     "output_type": "execute_result"
    }
   ],
   "source": [
    "portfolio_variance.value"
   ]
  },
  {
   "cell_type": "code",
   "execution_count": 57,
   "id": "f21693fe",
   "metadata": {},
   "outputs": [],
   "source": [
    "maximize_returns_2 = cp.Problem(\n",
    "    cp.Maximize(rets),\n",
    "    [\n",
    "        cp.norm(weights) <= 1.5,\n",
    "        cp.sum(weights) == 1,\n",
    "        portfolio_variance <= 0.05,\n",
    "    ],\n",
    ")"
   ]
  },
  {
   "cell_type": "code",
   "execution_count": 58,
   "id": "f8071291",
   "metadata": {},
   "outputs": [
    {
     "data": {
      "text/plain": [
       "0.5737763507055227"
      ]
     },
     "execution_count": 58,
     "metadata": {},
     "output_type": "execute_result"
    }
   ],
   "source": [
    "maximize_returns_2.solve()"
   ]
  },
  {
   "cell_type": "code",
   "execution_count": 63,
   "id": "170097d3",
   "metadata": {},
   "outputs": [
    {
     "data": {
      "text/plain": [
       "0.049999999968532514"
      ]
     },
     "execution_count": 63,
     "metadata": {},
     "output_type": "execute_result"
    }
   ],
   "source": [
    "portfolio_variance.value"
   ]
  },
  {
   "cell_type": "markdown",
   "id": "cb064691",
   "metadata": {},
   "source": [
    "# More examples"
   ]
  },
  {
   "cell_type": "code",
   "execution_count": 33,
   "id": "770cee9d",
   "metadata": {},
   "outputs": [],
   "source": [
    "# https://nbviewer.org/github/cvxgrp/cvx_short_course/blob/master/applications/portfolio_optimization.ipynb"
   ]
  },
  {
   "cell_type": "code",
   "execution_count": null,
   "id": "0ea259fd",
   "metadata": {},
   "outputs": [],
   "source": [
    "# https://github.com/druce/portfolio_optimization/blob/master/Portfolio%20optimization.ipynb"
   ]
  }
 ],
 "metadata": {
  "kernelspec": {
   "display_name": "Python 3 (ipykernel)",
   "language": "python",
   "name": "python3"
  },
  "language_info": {
   "codemirror_mode": {
    "name": "ipython",
    "version": 3
   },
   "file_extension": ".py",
   "mimetype": "text/x-python",
   "name": "python",
   "nbconvert_exporter": "python",
   "pygments_lexer": "ipython3",
   "version": "3.8.10"
  },
  "toc": {
   "base_numbering": 1,
   "nav_menu": {},
   "number_sections": true,
   "sideBar": true,
   "skip_h1_title": false,
   "title_cell": "Table of Contents",
   "title_sidebar": "Contents",
   "toc_cell": false,
   "toc_position": {},
   "toc_section_display": true,
   "toc_window_display": false
  }
 },
 "nbformat": 4,
 "nbformat_minor": 5
}
