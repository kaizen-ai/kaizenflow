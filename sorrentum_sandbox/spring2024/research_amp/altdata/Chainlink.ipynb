{
 "cells": [
  {
   "cell_type": "markdown",
   "id": "7dc02e22",
   "metadata": {},
   "source": [
    "# Description"
   ]
  },
  {
   "cell_type": "markdown",
   "id": "f1f4aff3",
   "metadata": {},
   "source": [
    "This notebook demonstrates the access to Chainlink price feeds.\n",
    "\n",
    "The notebook follows the example from the documentation:\n",
    "- https://docs.chain.link/data-feeds/price-feeds\n",
    "- API reference: https://docs.chain.link/data-feeds/price-feeds/api-reference"
   ]
  },
  {
   "cell_type": "code",
   "execution_count": 1,
   "id": "656b7386",
   "metadata": {
    "ExecuteTime": {
     "end_time": "2023-01-13T17:16:04.721456Z",
     "start_time": "2023-01-13T17:15:58.184669Z"
    }
   },
   "outputs": [
    {
     "name": "stdout",
     "output_type": "stream",
     "text": [
      "Requirement already satisfied: pip in /venv/lib/python3.8/site-packages (22.3.1)\n",
      "Requirement already satisfied: web3 in /venv/lib/python3.8/site-packages (5.31.3)\n",
      "Requirement already satisfied: hexbytes<1.0.0,>=0.1.0 in /venv/lib/python3.8/site-packages (from web3) (0.3.0)\n",
      "Requirement already satisfied: eth-utils<2.0.0,>=1.9.5 in /venv/lib/python3.8/site-packages (from web3) (1.9.5)\n",
      "Requirement already satisfied: jsonschema<5,>=3.2.0 in /venv/lib/python3.8/site-packages (from web3) (4.17.0)\n",
      "Requirement already satisfied: requests<3.0.0,>=2.16.0 in /venv/lib/python3.8/site-packages (from web3) (2.28.1)\n",
      "Requirement already satisfied: websockets<10,>=9.1 in /venv/lib/python3.8/site-packages (from web3) (9.1)\n",
      "Requirement already satisfied: eth-typing<3.0.0,>=2.0.0 in /venv/lib/python3.8/site-packages (from web3) (2.3.0)\n",
      "Requirement already satisfied: aiohttp<4,>=3.7.4.post0 in /venv/lib/python3.8/site-packages (from web3) (3.8.3)\n",
      "Requirement already satisfied: eth-hash[pycryptodome]<1.0.0,>=0.2.0 in /venv/lib/python3.8/site-packages (from web3) (0.5.1)\n",
      "Requirement already satisfied: lru-dict<2.0.0,>=1.1.6 in /venv/lib/python3.8/site-packages (from web3) (1.1.8)\n",
      "Requirement already satisfied: protobuf==3.19.5 in /venv/lib/python3.8/site-packages (from web3) (3.19.5)\n",
      "Requirement already satisfied: eth-rlp<0.3 in /venv/lib/python3.8/site-packages (from web3) (0.2.1)\n",
      "Requirement already satisfied: ipfshttpclient==0.8.0a2 in /venv/lib/python3.8/site-packages (from web3) (0.8.0a2)\n",
      "Requirement already satisfied: eth-account<0.6.0,>=0.5.9 in /venv/lib/python3.8/site-packages (from web3) (0.5.9)\n",
      "Requirement already satisfied: eth-abi<3.0.0,>=2.2.0 in /venv/lib/python3.8/site-packages (from web3) (2.2.0)\n",
      "Requirement already satisfied: multiaddr>=0.0.7 in /venv/lib/python3.8/site-packages (from ipfshttpclient==0.8.0a2->web3) (0.0.9)\n",
      "Requirement already satisfied: async-timeout<5.0,>=4.0.0a3 in /venv/lib/python3.8/site-packages (from aiohttp<4,>=3.7.4.post0->web3) (4.0.2)\n",
      "Requirement already satisfied: yarl<2.0,>=1.0 in /venv/lib/python3.8/site-packages (from aiohttp<4,>=3.7.4.post0->web3) (1.8.1)\n",
      "Requirement already satisfied: charset-normalizer<3.0,>=2.0 in /venv/lib/python3.8/site-packages (from aiohttp<4,>=3.7.4.post0->web3) (2.1.1)\n",
      "Requirement already satisfied: frozenlist>=1.1.1 in /venv/lib/python3.8/site-packages (from aiohttp<4,>=3.7.4.post0->web3) (1.3.3)\n",
      "Requirement already satisfied: aiosignal>=1.1.2 in /venv/lib/python3.8/site-packages (from aiohttp<4,>=3.7.4.post0->web3) (1.3.1)\n",
      "Requirement already satisfied: multidict<7.0,>=4.5 in /venv/lib/python3.8/site-packages (from aiohttp<4,>=3.7.4.post0->web3) (6.0.2)\n",
      "Requirement already satisfied: attrs>=17.3.0 in /venv/lib/python3.8/site-packages (from aiohttp<4,>=3.7.4.post0->web3) (22.1.0)\n",
      "Requirement already satisfied: parsimonious<0.9.0,>=0.8.0 in /venv/lib/python3.8/site-packages (from eth-abi<3.0.0,>=2.2.0->web3) (0.8.1)\n",
      "Requirement already satisfied: bitarray<3,>=1.2.1 in /venv/lib/python3.8/site-packages (from eth-account<0.6.0,>=0.5.9->web3) (2.6.2)\n",
      "Requirement already satisfied: rlp<3,>=1.0.0 in /venv/lib/python3.8/site-packages (from eth-account<0.6.0,>=0.5.9->web3) (2.0.1)\n",
      "Requirement already satisfied: eth-keys<0.4.0,>=0.3.4 in /venv/lib/python3.8/site-packages (from eth-account<0.6.0,>=0.5.9->web3) (0.3.4)\n",
      "Requirement already satisfied: eth-keyfile<0.6.0,>=0.5.0 in /venv/lib/python3.8/site-packages (from eth-account<0.6.0,>=0.5.9->web3) (0.5.1)\n",
      "Requirement already satisfied: pycryptodome<4,>=3.6.6 in /venv/lib/python3.8/site-packages (from eth-hash[pycryptodome]<1.0.0,>=0.2.0->web3) (3.16.0)\n",
      "Requirement already satisfied: cytoolz<1.0.0,>=0.10.1 in /venv/lib/python3.8/site-packages (from eth-utils<2.0.0,>=1.9.5->web3) (0.12.1)\n",
      "Requirement already satisfied: importlib-resources>=1.4.0 in /venv/lib/python3.8/site-packages (from jsonschema<5,>=3.2.0->web3) (5.10.0)\n",
      "Requirement already satisfied: pyrsistent!=0.17.0,!=0.17.1,!=0.17.2,>=0.14.0 in /venv/lib/python3.8/site-packages (from jsonschema<5,>=3.2.0->web3) (0.19.2)\n",
      "Requirement already satisfied: pkgutil-resolve-name>=1.3.10 in /venv/lib/python3.8/site-packages (from jsonschema<5,>=3.2.0->web3) (1.3.10)\n",
      "Requirement already satisfied: urllib3<1.27,>=1.21.1 in /venv/lib/python3.8/site-packages (from requests<3.0.0,>=2.16.0->web3) (1.26.12)\n",
      "Requirement already satisfied: certifi>=2017.4.17 in /venv/lib/python3.8/site-packages (from requests<3.0.0,>=2.16.0->web3) (2022.9.24)\n",
      "Requirement already satisfied: idna<4,>=2.5 in /venv/lib/python3.8/site-packages (from requests<3.0.0,>=2.16.0->web3) (3.4)\n",
      "Requirement already satisfied: toolz>=0.8.0 in /venv/lib/python3.8/site-packages (from cytoolz<1.0.0,>=0.10.1->eth-utils<2.0.0,>=1.9.5->web3) (0.12.0)\n",
      "Requirement already satisfied: zipp>=3.1.0 in /venv/lib/python3.8/site-packages (from importlib-resources>=1.4.0->jsonschema<5,>=3.2.0->web3) (3.10.0)\n",
      "Requirement already satisfied: netaddr in /venv/lib/python3.8/site-packages (from multiaddr>=0.0.7->ipfshttpclient==0.8.0a2->web3) (0.8.0)\n",
      "Requirement already satisfied: six in /venv/lib/python3.8/site-packages (from multiaddr>=0.0.7->ipfshttpclient==0.8.0a2->web3) (1.16.0)\n",
      "Requirement already satisfied: varint in /venv/lib/python3.8/site-packages (from multiaddr>=0.0.7->ipfshttpclient==0.8.0a2->web3) (1.0.2)\n",
      "Requirement already satisfied: base58 in /venv/lib/python3.8/site-packages (from multiaddr>=0.0.7->ipfshttpclient==0.8.0a2->web3) (2.1.1)\n"
     ]
    }
   ],
   "source": [
    "!sudo /bin/bash -c \"(source /venv/bin/activate; pip install --upgrade pip)\"\n",
    "!sudo /bin/bash -c \"(source /venv/bin/activate; pip install web3)\""
   ]
  },
  {
   "cell_type": "markdown",
   "id": "d494de10",
   "metadata": {},
   "source": [
    "# Imports"
   ]
  },
  {
   "cell_type": "code",
   "execution_count": 30,
   "id": "813e0c66",
   "metadata": {
    "ExecuteTime": {
     "end_time": "2023-01-13T18:01:50.937275Z",
     "start_time": "2023-01-13T18:01:50.784045Z"
    }
   },
   "outputs": [],
   "source": [
    "import numpy as np\n",
    "from web3 import Web3"
   ]
  },
  {
   "cell_type": "markdown",
   "id": "28e37392",
   "metadata": {},
   "source": [
    "# Access to price feeds"
   ]
  },
  {
   "cell_type": "markdown",
   "id": "c6f907d0",
   "metadata": {},
   "source": [
    "## Latest data"
   ]
  },
  {
   "cell_type": "markdown",
   "id": "e3ccfa5e",
   "metadata": {},
   "source": [
    "## Example from the docs"
   ]
  },
  {
   "cell_type": "markdown",
   "id": "60a5a4ea",
   "metadata": {},
   "source": [
    "Copy of the example from the documentation: https://docs.chain.link/data-feeds/price-feeds/#python"
   ]
  },
  {
   "cell_type": "code",
   "execution_count": 3,
   "id": "478dcc8b",
   "metadata": {
    "ExecuteTime": {
     "end_time": "2023-01-13T17:16:05.676168Z",
     "start_time": "2023-01-13T17:16:05.100239Z"
    }
   },
   "outputs": [
    {
     "name": "stdout",
     "output_type": "stream",
     "text": [
      "[18446744073709558876, 1911683599682, 1673626908, 1673626908, 18446744073709558876]\n"
     ]
    }
   ],
   "source": [
    "# Change this to use your own RPC URL\n",
    "web3 = Web3(Web3.HTTPProvider(\"https://rpc.ankr.com/eth_goerli\"))\n",
    "# AggregatorV3Interface ABI\n",
    "abi = '[{\"inputs\":[],\"name\":\"decimals\",\"outputs\":[{\"internalType\":\"uint8\",\"name\":\"\",\"type\":\"uint8\"}],\"stateMutability\":\"view\",\"type\":\"function\"},{\"inputs\":[],\"name\":\"description\",\"outputs\":[{\"internalType\":\"string\",\"name\":\"\",\"type\":\"string\"}],\"stateMutability\":\"view\",\"type\":\"function\"},{\"inputs\":[{\"internalType\":\"uint80\",\"name\":\"_roundId\",\"type\":\"uint80\"}],\"name\":\"getRoundData\",\"outputs\":[{\"internalType\":\"uint80\",\"name\":\"roundId\",\"type\":\"uint80\"},{\"internalType\":\"int256\",\"name\":\"answer\",\"type\":\"int256\"},{\"internalType\":\"uint256\",\"name\":\"startedAt\",\"type\":\"uint256\"},{\"internalType\":\"uint256\",\"name\":\"updatedAt\",\"type\":\"uint256\"},{\"internalType\":\"uint80\",\"name\":\"answeredInRound\",\"type\":\"uint80\"}],\"stateMutability\":\"view\",\"type\":\"function\"},{\"inputs\":[],\"name\":\"latestRoundData\",\"outputs\":[{\"internalType\":\"uint80\",\"name\":\"roundId\",\"type\":\"uint80\"},{\"internalType\":\"int256\",\"name\":\"answer\",\"type\":\"int256\"},{\"internalType\":\"uint256\",\"name\":\"startedAt\",\"type\":\"uint256\"},{\"internalType\":\"uint256\",\"name\":\"updatedAt\",\"type\":\"uint256\"},{\"internalType\":\"uint80\",\"name\":\"answeredInRound\",\"type\":\"uint80\"}],\"stateMutability\":\"view\",\"type\":\"function\"},{\"inputs\":[],\"name\":\"version\",\"outputs\":[{\"internalType\":\"uint256\",\"name\":\"\",\"type\":\"uint256\"}],\"stateMutability\":\"view\",\"type\":\"function\"}]'\n",
    "# Price Feed address\n",
    "addr = \"0xA39434A63A52E749F02807ae27335515BA4b07F7\"\n",
    "\n",
    "# Set up contract instance\n",
    "contract = web3.eth.contract(address=addr, abi=abi)\n",
    "# Make call to latestRoundData()\n",
    "latestData = contract.functions.latestRoundData().call()\n",
    "print(latestData)"
   ]
  },
  {
   "cell_type": "markdown",
   "id": "e934150f",
   "metadata": {},
   "source": [
    "From the API reference, the fields are as follows:\n",
    "\n",
    "- roundId: The round ID.\n",
    "- answer: The price.\n",
    "- startedAt: Timestamp of when the round started.\n",
    "- updatedAt: Timestamp of when the round was updated.\n",
    "- answeredInRound: The round ID of the round in which the answer was computed."
   ]
  },
  {
   "cell_type": "code",
   "execution_count": 4,
   "id": "596e6992",
   "metadata": {
    "ExecuteTime": {
     "end_time": "2023-01-13T17:16:06.029784Z",
     "start_time": "2023-01-13T17:16:05.678623Z"
    }
   },
   "outputs": [
    {
     "name": "stdout",
     "output_type": "stream",
     "text": [
      "8\n"
     ]
    }
   ],
   "source": [
    "decimals = contract.functions.decimals().call()\n",
    "print(decimals)"
   ]
  },
  {
   "cell_type": "code",
   "execution_count": 5,
   "id": "14b87039",
   "metadata": {
    "ExecuteTime": {
     "end_time": "2023-01-13T17:16:06.241650Z",
     "start_time": "2023-01-13T17:16:06.033408Z"
    }
   },
   "outputs": [
    {
     "name": "stdout",
     "output_type": "stream",
     "text": [
      "BTC / USD\n"
     ]
    }
   ],
   "source": [
    "description = contract.functions.description().call()\n",
    "print(description)"
   ]
  },
  {
   "cell_type": "code",
   "execution_count": 6,
   "id": "c70466c1",
   "metadata": {
    "ExecuteTime": {
     "end_time": "2023-01-13T17:16:06.488510Z",
     "start_time": "2023-01-13T17:16:06.243776Z"
    }
   },
   "outputs": [
    {
     "name": "stdout",
     "output_type": "stream",
     "text": [
      "[18446744073709558875, 1920384630000, 1673623272, 1673623272, 18446744073709558875]\n"
     ]
    }
   ],
   "source": [
    "round_data = contract.functions.getRoundData(18446744073709558875).call()\n",
    "print(round_data)"
   ]
  },
  {
   "cell_type": "markdown",
   "id": "e92cdcc0",
   "metadata": {},
   "source": [
    "## Historical data"
   ]
  },
  {
   "cell_type": "markdown",
   "id": "f24b0be2",
   "metadata": {},
   "source": [
    "### Example from the docs"
   ]
  },
  {
   "cell_type": "code",
   "execution_count": 7,
   "id": "f67c7c13",
   "metadata": {
    "ExecuteTime": {
     "end_time": "2023-01-13T17:16:44.827168Z",
     "start_time": "2023-01-13T17:16:44.458317Z"
    }
   },
   "outputs": [
    {
     "name": "stdout",
     "output_type": "stream",
     "text": [
      "[18446744073709554177, 2341569000000, 1659550351, 1659550351, 18446744073709554177]\n"
     ]
    }
   ],
   "source": [
    "#  Valid roundId must be known. They are NOT incremental.\n",
    "# invalidRoundId = 18446744073709562300\n",
    "validRoundId = 18446744073709554177\n",
    "\n",
    "historicalData = contract.functions.getRoundData(validRoundId).call()\n",
    "print(historicalData)"
   ]
  },
  {
   "cell_type": "markdown",
   "id": "d1ee7412",
   "metadata": {},
   "source": [
    "Historical data is being given on a by-round basis.\n",
    "\n",
    "In order to get data on all valid Round IDs:\n",
    "\n",
    "-"
   ]
  },
  {
   "cell_type": "markdown",
   "id": "f0729ae7",
   "metadata": {},
   "source": [
    "## Getting the same data from ETH mainnet"
   ]
  },
  {
   "cell_type": "markdown",
   "id": "67bfae6f",
   "metadata": {},
   "source": [
    "- Accessing the same data from mainnet for ADA/USD currency pair\n",
    "- List of mainnet price feeds: https://docs.chain.link/data-feeds/price-feeds/addresses#Ethereum%20Mainnet\n",
    "- RPC of ethereum mainnet: https://rpc.ankr.com/eth"
   ]
  },
  {
   "cell_type": "code",
   "execution_count": 8,
   "id": "76f3775b",
   "metadata": {
    "ExecuteTime": {
     "end_time": "2023-01-13T17:34:30.039013Z",
     "start_time": "2023-01-13T17:34:30.034080Z"
    }
   },
   "outputs": [],
   "source": [
    "web3 = Web3(Web3.HTTPProvider(\"https://rpc.ankr.com/eth\"))\n",
    "addr = \"0xAE48c91dF1fE419994FFDa27da09D5aC69c30f55\"  # Corresponds to https://app.ens.domains/name/ada-usd.data.eth"
   ]
  },
  {
   "cell_type": "code",
   "execution_count": 19,
   "id": "beeaa588",
   "metadata": {
    "ExecuteTime": {
     "end_time": "2023-01-13T17:55:21.832674Z",
     "start_time": "2023-01-13T17:55:21.583628Z"
    }
   },
   "outputs": [
    {
     "name": "stdout",
     "output_type": "stream",
     "text": [
      "[55340232221128666997, 33110628, 1673623871, 1673623871, 55340232221128666997]\n"
     ]
    }
   ],
   "source": [
    "# Set up contract instance\n",
    "contract = web3.eth.contract(address=addr, abi=abi)\n",
    "# Make call to latestRoundData().\n",
    "# Output:\n",
    "# roundId: The round ID.\n",
    "# answer: The price.\n",
    "# startedAt: Timestamp of when the round started.\n",
    "# updatedAt: Timestamp of when the round was updated.\n",
    "# answeredInRound: The round ID of the round in which the answer was computed.\n",
    "latestData = contract.functions.latestRoundData().call()\n",
    "print(latestData)"
   ]
  },
  {
   "cell_type": "markdown",
   "id": "93a85bdf",
   "metadata": {},
   "source": [
    "This corresponds with the price provided here: https://data.chain.link/ethereum/mainnet/crypto-usd/ada-usd.\n",
    "\n",
    "With price at $0.33110628, it seems like the response in that field is the number of lowest decimals, i.e. if the price goes to the 8th decimal, everything with less than 8 digits represents value below 1.\n",
    "\n",
    "The number of decimals can be found at the `decimals` API endpoint."
   ]
  },
  {
   "cell_type": "code",
   "execution_count": 11,
   "id": "e5c4c68f",
   "metadata": {
    "ExecuteTime": {
     "end_time": "2023-01-13T17:42:29.454913Z",
     "start_time": "2023-01-13T17:42:28.919365Z"
    }
   },
   "outputs": [
    {
     "name": "stdout",
     "output_type": "stream",
     "text": [
      "decimals=8\n",
      "descrition=ADA / USD\n",
      "[55340232221128666997, 33110628, 1673623871, 1673623871, 55340232221128666997]\n"
     ]
    }
   ],
   "source": [
    "decimals = contract.functions.decimals().call()\n",
    "print(f\"decimals={decimals}\")\n",
    "description = contract.functions.description().call()\n",
    "print(f\"descrition={description}\")\n",
    "round_data = contract.functions.getRoundData(55340232221128666997).call()\n",
    "print(round_data)"
   ]
  },
  {
   "cell_type": "markdown",
   "id": "6a92e3c5",
   "metadata": {},
   "source": [
    "Accessing other round IDs incrementally by reducing the latest round ID by one:"
   ]
  },
  {
   "cell_type": "code",
   "execution_count": 17,
   "id": "e5756321",
   "metadata": {
    "ExecuteTime": {
     "end_time": "2023-01-13T17:51:17.872789Z",
     "start_time": "2023-01-13T17:51:17.619916Z"
    }
   },
   "outputs": [
    {
     "name": "stdout",
     "output_type": "stream",
     "text": [
      "[55340232221128666996, 32766841, 1673615375, 1673615375, 55340232221128666996]\n"
     ]
    }
   ],
   "source": [
    "round_data = contract.functions.getRoundData(55340232221128666996).call()\n",
    "print(round_data)"
   ]
  },
  {
   "cell_type": "code",
   "execution_count": 18,
   "id": "02509162",
   "metadata": {
    "ExecuteTime": {
     "end_time": "2023-01-13T17:51:22.037069Z",
     "start_time": "2023-01-13T17:51:21.915530Z"
    }
   },
   "outputs": [
    {
     "name": "stdout",
     "output_type": "stream",
     "text": [
      "[55340232221128666995, 33098386, 1673606279, 1673606279, 55340232221128666995]\n"
     ]
    }
   ],
   "source": [
    "round_data = contract.functions.getRoundData(55340232221128666995).call()\n",
    "print(round_data)"
   ]
  },
  {
   "cell_type": "markdown",
   "id": "624d3132",
   "metadata": {},
   "source": [
    "The round ID is not originally incremental, but this link in the API describes how to get to the end of the round history:\n",
    "\n",
    "https://docs.chain.link/data-feeds/price-feeds/historical-data\n",
    "\n",
    "The proxy that is being used by the `web3` lib takes care of this problem and the roundID is provided with an incremental increase of 1.\n"
   ]
  },
  {
   "cell_type": "markdown",
   "id": "99605bd6",
   "metadata": {},
   "source": [
    "## Summary"
   ]
  },
  {
   "cell_type": "markdown",
   "id": "f549fda0",
   "metadata": {},
   "source": [
    "- Chainlink provides a comprehensive data feed for Crypto prices on multiple mainnet networks\n",
    "- All historical data can be accessed by iterating over incremental roundIDs\n",
    "- The timestamps at the data are not incremental since the network state change is triggered rather than updated regularly"
   ]
  },
  {
   "cell_type": "code",
   "execution_count": null,
   "id": "a3445916",
   "metadata": {},
   "outputs": [],
   "source": []
  }
 ],
 "metadata": {
  "kernelspec": {
   "display_name": "Python 3 (ipykernel)",
   "language": "python",
   "name": "python3"
  },
  "language_info": {
   "codemirror_mode": {
    "name": "ipython",
    "version": 3
   },
   "file_extension": ".py",
   "mimetype": "text/x-python",
   "name": "python",
   "nbconvert_exporter": "python",
   "pygments_lexer": "ipython3",
   "version": "3.8.10"
  },
  "toc": {
   "base_numbering": 1,
   "nav_menu": {},
   "number_sections": true,
   "sideBar": true,
   "skip_h1_title": false,
   "title_cell": "Table of Contents",
   "title_sidebar": "Contents",
   "toc_cell": false,
   "toc_position": {},
   "toc_section_display": true,
   "toc_window_display": false
  }
 },
 "nbformat": 4,
 "nbformat_minor": 5
}
