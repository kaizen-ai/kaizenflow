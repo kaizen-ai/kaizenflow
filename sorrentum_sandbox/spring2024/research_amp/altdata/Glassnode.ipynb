{
 "cells": [
  {
   "cell_type": "markdown",
   "id": "3f1d939b",
   "metadata": {},
   "source": [
    "# Description"
   ]
  },
  {
   "cell_type": "markdown",
   "id": "3f5df888",
   "metadata": {},
   "source": [
    "This notebook examines free endpoints in Glassnode Studio.\n",
    "- Website: https://studio.glassnode.com/\n",
    "- API docs: https://docs.glassnode.com/basic-api/endpoints"
   ]
  },
  {
   "cell_type": "markdown",
   "id": "ba3c2477",
   "metadata": {},
   "source": [
    "# Imports"
   ]
  },
  {
   "cell_type": "code",
   "execution_count": 1,
   "id": "b7ddff11",
   "metadata": {
    "ExecuteTime": {
     "end_time": "2023-02-21T19:31:31.232316Z",
     "start_time": "2023-02-21T19:31:30.809196Z"
    }
   },
   "outputs": [],
   "source": [
    "import json\n",
    "import os\n",
    "\n",
    "import requests"
   ]
  },
  {
   "cell_type": "markdown",
   "id": "8f64104a",
   "metadata": {},
   "source": [
    "How to get the API keys:\n",
    "\n",
    "https://docs.glassnode.com/basic-api/api-key"
   ]
  },
  {
   "cell_type": "code",
   "execution_count": 2,
   "id": "09fdfda0",
   "metadata": {
    "ExecuteTime": {
     "end_time": "2023-02-21T19:31:31.236887Z",
     "start_time": "2023-02-21T19:31:31.234186Z"
    }
   },
   "outputs": [],
   "source": [
    "api_key = \"\""
   ]
  },
  {
   "cell_type": "markdown",
   "id": "48cda614",
   "metadata": {},
   "source": [
    "# Endpoints\n",
    "- Due to abundance of endpoints, only several will be provided for each category.\n",
    "- API endpoints available for the free tier can be found under Tier 1 Metrics at this address: https://studio.glassnode.com/catalog\n",
    "- For the free tier, the only time resolution available for bar data is 24 hours"
   ]
  },
  {
   "cell_type": "markdown",
   "id": "50e0f099",
   "metadata": {},
   "source": [
    "## Addresses\n",
    "https://docs.glassnode.com/basic-api/endpoints/addresses"
   ]
  },
  {
   "cell_type": "code",
   "execution_count": 3,
   "id": "2ab60188",
   "metadata": {
    "ExecuteTime": {
     "end_time": "2023-02-21T19:31:32.482461Z",
     "start_time": "2023-02-21T19:31:31.239695Z"
    },
    "run_control": {
     "marked": true
    }
   },
   "outputs": [
    {
     "data": {
      "text/plain": [
       "[{'t': '2023-02-11T00:00:00Z', 'v': 881403},\n",
       " {'t': '2023-02-12T00:00:00Z', 'v': 874172},\n",
       " {'t': '2023-02-13T00:00:00Z', 'v': 968062},\n",
       " {'t': '2023-02-14T00:00:00Z', 'v': 909720},\n",
       " {'t': '2023-02-15T00:00:00Z', 'v': 991193},\n",
       " {'t': '2023-02-16T00:00:00Z', 'v': 1124110},\n",
       " {'t': '2023-02-17T00:00:00Z', 'v': 1049427},\n",
       " {'t': '2023-02-18T00:00:00Z', 'v': 1051881},\n",
       " {'t': '2023-02-19T00:00:00Z', 'v': 917926},\n",
       " {'t': '2023-02-20T00:00:00Z', 'v': 907647}]"
      ]
     },
     "metadata": {},
     "output_type": "display_data"
    },
    {
     "data": {
      "text/plain": [
       "[{'t': '2009-01-03T00:00:00Z', 'v': 0},\n",
       " {'t': '2009-01-04T00:00:00Z', 'v': 0},\n",
       " {'t': '2009-01-05T00:00:00Z', 'v': 0},\n",
       " {'t': '2009-01-06T00:00:00Z', 'v': 0},\n",
       " {'t': '2009-01-07T00:00:00Z', 'v': 0},\n",
       " {'t': '2009-01-08T00:00:00Z', 'v': 0},\n",
       " {'t': '2009-01-09T00:00:00Z', 'v': 0},\n",
       " {'t': '2009-01-10T00:00:00Z', 'v': 0},\n",
       " {'t': '2009-01-11T00:00:00Z', 'v': 0},\n",
       " {'t': '2009-01-12T00:00:00Z', 'v': 8}]"
      ]
     },
     "metadata": {},
     "output_type": "display_data"
    }
   ],
   "source": [
    "# Active addresses.\n",
    "res = requests.get(\n",
    "    \"https://api.glassnode.com/v1/metrics/addresses/active_count\",\n",
    "    params={\"a\": \"BTC\", \"api_key\": api_key, \"timestamp_format\": \"humanized\"},\n",
    ")\n",
    "display(res.json()[-10:])\n",
    "display(res.json()[:10])"
   ]
  },
  {
   "cell_type": "code",
   "execution_count": 4,
   "id": "0b258f6c",
   "metadata": {
    "ExecuteTime": {
     "end_time": "2023-02-21T19:31:32.768094Z",
     "start_time": "2023-02-21T19:31:32.484325Z"
    }
   },
   "outputs": [
    {
     "data": {
      "text/plain": [
       "[{'t': '2023-02-11T00:00:00Z', 'v': 521230},\n",
       " {'t': '2023-02-12T00:00:00Z', 'v': 533350},\n",
       " {'t': '2023-02-13T00:00:00Z', 'v': 614945},\n",
       " {'t': '2023-02-14T00:00:00Z', 'v': 542590},\n",
       " {'t': '2023-02-15T00:00:00Z', 'v': 626597},\n",
       " {'t': '2023-02-16T00:00:00Z', 'v': 751608},\n",
       " {'t': '2023-02-17T00:00:00Z', 'v': 711649},\n",
       " {'t': '2023-02-18T00:00:00Z', 'v': 735489},\n",
       " {'t': '2023-02-19T00:00:00Z', 'v': 638814},\n",
       " {'t': '2023-02-20T00:00:00Z', 'v': 604581}]"
      ]
     },
     "metadata": {},
     "output_type": "display_data"
    }
   ],
   "source": [
    "# Sending addresses.\n",
    "res = requests.get(\n",
    "    \"https://api.glassnode.com/v1/metrics/addresses/sending_count\",\n",
    "    params={\"a\": \"BTC\", \"api_key\": api_key, \"timestamp_format\": \"humanized\"},\n",
    ")\n",
    "display(res.json()[-10:])"
   ]
  },
  {
   "cell_type": "markdown",
   "id": "4176388f",
   "metadata": {},
   "source": [
    "## Blockchain\n",
    "https://docs.glassnode.com/basic-api/endpoints/blockchain"
   ]
  },
  {
   "cell_type": "code",
   "execution_count": 5,
   "id": "6fc55398",
   "metadata": {
    "ExecuteTime": {
     "end_time": "2023-02-21T19:31:33.122304Z",
     "start_time": "2023-02-21T19:31:32.769949Z"
    }
   },
   "outputs": [
    {
     "data": {
      "text/plain": [
       "[{'t': '2023-02-11T00:00:00Z', 'v': 148},\n",
       " {'t': '2023-02-12T00:00:00Z', 'v': 162},\n",
       " {'t': '2023-02-13T00:00:00Z', 'v': 156},\n",
       " {'t': '2023-02-14T00:00:00Z', 'v': 154},\n",
       " {'t': '2023-02-15T00:00:00Z', 'v': 163},\n",
       " {'t': '2023-02-16T00:00:00Z', 'v': 179},\n",
       " {'t': '2023-02-17T00:00:00Z', 'v': 165},\n",
       " {'t': '2023-02-18T00:00:00Z', 'v': 168},\n",
       " {'t': '2023-02-19T00:00:00Z', 'v': 162},\n",
       " {'t': '2023-02-20T00:00:00Z', 'v': 147}]"
      ]
     },
     "metadata": {},
     "output_type": "display_data"
    }
   ],
   "source": [
    "# Blocks mined.\n",
    "res = requests.get(\n",
    "    \"https://api.glassnode.com/v1/metrics/blockchain/block_count\",\n",
    "    params={\"a\": \"BTC\", \"api_key\": api_key, \"timestamp_format\": \"humanized\"},\n",
    ")\n",
    "display(res.json()[-10:])"
   ]
  },
  {
   "cell_type": "code",
   "execution_count": 6,
   "id": "f3046a5a",
   "metadata": {
    "ExecuteTime": {
     "end_time": "2023-02-21T19:31:33.487211Z",
     "start_time": "2023-02-21T19:31:33.124580Z"
    }
   },
   "outputs": [
    {
     "data": {
      "text/plain": [
       "[{'t': '2023-02-11T00:00:00Z', 'v': 2358842.83108108},\n",
       " {'t': '2023-02-12T00:00:00Z', 'v': 2517537.57407407},\n",
       " {'t': '2023-02-13T00:00:00Z', 'v': 2162067.40384615},\n",
       " {'t': '2023-02-14T00:00:00Z', 'v': 2336343.97402597},\n",
       " {'t': '2023-02-15T00:00:00Z', 'v': 2190209.36196319},\n",
       " {'t': '2023-02-16T00:00:00Z', 'v': 2106646.05027933},\n",
       " {'t': '2023-02-17T00:00:00Z', 'v': 2048259.18181818},\n",
       " {'t': '2023-02-18T00:00:00Z', 'v': 2114063.75},\n",
       " {'t': '2023-02-19T00:00:00Z', 'v': 2263326.35802469},\n",
       " {'t': '2023-02-20T00:00:00Z', 'v': 2145953.93877551}]"
      ]
     },
     "metadata": {},
     "output_type": "display_data"
    }
   ],
   "source": [
    "# Block size (Mean).\n",
    "res = requests.get(\n",
    "    \"https://api.glassnode.com/v1/metrics/blockchain/block_size_mean\",\n",
    "    params={\"a\": \"BTC\", \"api_key\": api_key, \"timestamp_format\": \"humanized\"},\n",
    ")\n",
    "display(res.json()[-10:])"
   ]
  },
  {
   "cell_type": "code",
   "execution_count": 7,
   "id": "c82e9eae",
   "metadata": {
    "ExecuteTime": {
     "end_time": "2023-02-21T19:31:33.908742Z",
     "start_time": "2023-02-21T19:31:33.488895Z"
    }
   },
   "outputs": [
    {
     "data": {
      "text/plain": [
       "[{'t': '2023-02-11T00:00:00Z', 'v': 560.608108108108},\n",
       " {'t': '2023-02-12T00:00:00Z', 'v': 546.777777777778},\n",
       " {'t': '2023-02-13T00:00:00Z', 'v': 563.955128205128},\n",
       " {'t': '2023-02-14T00:00:00Z', 'v': 552.253246753247},\n",
       " {'t': '2023-02-15T00:00:00Z', 'v': 537.515337423313},\n",
       " {'t': '2023-02-16T00:00:00Z', 'v': 483.217877094972},\n",
       " {'t': '2023-02-17T00:00:00Z', 'v': 523.187878787879},\n",
       " {'t': '2023-02-18T00:00:00Z', 'v': 515.869047619048},\n",
       " {'t': '2023-02-19T00:00:00Z', 'v': 530.820987654321},\n",
       " {'t': '2023-02-20T00:00:00Z', 'v': 587.557823129252}]"
      ]
     },
     "metadata": {},
     "output_type": "display_data"
    }
   ],
   "source": [
    "# Block interval (Mean).\n",
    "res = requests.get(\n",
    "    \"https://api.glassnode.com/v1/metrics/blockchain/block_interval_mean\",\n",
    "    params={\"a\": \"BTC\", \"api_key\": api_key, \"timestamp_format\": \"humanized\"},\n",
    ")\n",
    "display(res.json()[-10:])"
   ]
  },
  {
   "cell_type": "code",
   "execution_count": 8,
   "id": "9001a2df",
   "metadata": {
    "ExecuteTime": {
     "end_time": "2023-02-21T19:31:34.431892Z",
     "start_time": "2023-02-21T19:31:33.910902Z"
    }
   },
   "outputs": [
    {
     "data": {
      "text/plain": [
       "[{'t': '2023-02-11T00:00:00Z', 'v': 824434.21396684},\n",
       " {'t': '2023-02-12T00:00:00Z', 'v': 710143.12992754},\n",
       " {'t': '2023-02-13T00:00:00Z', 'v': 872938.39143094},\n",
       " {'t': '2023-02-14T00:00:00Z', 'v': 764498.93957352},\n",
       " {'t': '2023-02-15T00:00:00Z', 'v': 814499.26464966},\n",
       " {'t': '2023-02-16T00:00:00Z', 'v': 1009943.34151085},\n",
       " {'t': '2023-02-17T00:00:00Z', 'v': 930402.3711331},\n",
       " {'t': '2023-02-18T00:00:00Z', 'v': 606231.26033894},\n",
       " {'t': '2023-02-19T00:00:00Z', 'v': 498507.27525841},\n",
       " {'t': '2023-02-20T00:00:00Z', 'v': 698279.65122461}]"
      ]
     },
     "metadata": {},
     "output_type": "display_data"
    }
   ],
   "source": [
    "# UTXO Value Created (Total).\n",
    "res = requests.get(\n",
    "    \"https://api.glassnode.com/v1/metrics/blockchain/utxo_created_value_sum\",\n",
    "    params={\"a\": \"BTC\", \"api_key\": api_key, \"timestamp_format\": \"humanized\"},\n",
    ")\n",
    "display(res.json()[-10:])"
   ]
  },
  {
   "cell_type": "markdown",
   "id": "57e9ffcc",
   "metadata": {},
   "source": [
    "## Distribution\n",
    "https://docs.glassnode.com/basic-api/endpoints/distribution"
   ]
  },
  {
   "cell_type": "code",
   "execution_count": 9,
   "id": "e1e9dc1c",
   "metadata": {
    "ExecuteTime": {
     "end_time": "2023-02-21T19:31:34.851213Z",
     "start_time": "2023-02-21T19:31:34.435683Z"
    }
   },
   "outputs": [
    {
     "data": {
      "text/plain": [
       "{'balances': {'BTC': 365508.455090411,\n",
       "  'BUSD': 10636890283.2248,\n",
       "  'ETH': 4522870.51003087,\n",
       "  'FET': 624351067.448322,\n",
       "  'LINK': 67061328.0612401,\n",
       "  'MATIC': 230501338.42896,\n",
       "  'SAND': 438473215.125786,\n",
       "  'SHIB': 85605794842373.5,\n",
       "  'USDC': 2995204826.15391,\n",
       "  'USDT': 1686059206.51052},\n",
       " 'changes': {'BTC': 1248.64607399999,\n",
       "  'BUSD': -342786485.468145,\n",
       "  'ETH': -10947.3426329643,\n",
       "  'FET': -637773.008294344,\n",
       "  'LINK': -6767.95483370125,\n",
       "  'MATIC': 991292.516904742,\n",
       "  'SAND': 6881727.98152,\n",
       "  'SHIB': 134067861470.219,\n",
       "  'USDC': 114228024.013233,\n",
       "  'USDT': 2076823.61943626},\n",
       " 't': 1676851200}"
      ]
     },
     "metadata": {},
     "output_type": "display_data"
    }
   ],
   "source": [
    "# Proof of reserve (current).\n",
    "res = requests.get(\n",
    "    \"https://api.glassnode.com/v1/metrics/distribution/proof_of_reserves_all_latest\",\n",
    "    params={\"a\": \"BTC\", \"api_key\": api_key, \"timestamp_format\": \"humanized\"},\n",
    ")\n",
    "display(res.json())"
   ]
  },
  {
   "cell_type": "code",
   "execution_count": 10,
   "id": "6161d20b",
   "metadata": {
    "ExecuteTime": {
     "end_time": "2023-02-21T19:31:35.193206Z",
     "start_time": "2023-02-21T19:31:34.852945Z"
    }
   },
   "outputs": [
    {
     "data": {
      "text/plain": [
       "[{'t': '2023-02-11T00:00:00Z', 'v': 364334.071162801},\n",
       " {'t': '2023-02-12T00:00:00Z', 'v': 363164.676562461},\n",
       " {'t': '2023-02-13T00:00:00Z', 'v': 358218.338297361},\n",
       " {'t': '2023-02-14T00:00:00Z', 'v': 353833.314238981},\n",
       " {'t': '2023-02-15T00:00:00Z', 'v': 358201.576603331},\n",
       " {'t': '2023-02-16T00:00:00Z', 'v': 363970.848464281},\n",
       " {'t': '2023-02-17T00:00:00Z', 'v': 362783.606812011},\n",
       " {'t': '2023-02-18T00:00:00Z', 'v': 364565.040811021},\n",
       " {'t': '2023-02-19T00:00:00Z', 'v': 364259.809016411},\n",
       " {'t': '2023-02-20T00:00:00Z', 'v': 365508.455090411}]"
      ]
     },
     "metadata": {},
     "output_type": "display_data"
    }
   ],
   "source": [
    "# Proof of reserve.\n",
    "res = requests.get(\n",
    "    \"https://api.glassnode.com/v1/metrics/distribution/proof_of_reserves\",\n",
    "    params={\"a\": \"BTC\", \"api_key\": api_key, \"timestamp_format\": \"humanized\"},\n",
    ")\n",
    "display(res.json()[-10:])"
   ]
  },
  {
   "cell_type": "markdown",
   "id": "089be08b",
   "metadata": {},
   "source": [
    "## ETH 2.0\n",
    "https://docs.glassnode.com/basic-api/endpoints/eth2"
   ]
  },
  {
   "cell_type": "code",
   "execution_count": 11,
   "id": "773e733d",
   "metadata": {
    "ExecuteTime": {
     "end_time": "2023-02-21T19:31:35.493682Z",
     "start_time": "2023-02-21T19:31:35.195256Z"
    }
   },
   "outputs": [
    {
     "data": {
      "text/plain": [
       "[{'t': '2023-02-11T00:00:00Z', 'v': 530774},\n",
       " {'t': '2023-02-12T00:00:00Z', 'v': 531234},\n",
       " {'t': '2023-02-13T00:00:00Z', 'v': 531599},\n",
       " {'t': '2023-02-14T00:00:00Z', 'v': 532733},\n",
       " {'t': '2023-02-15T00:00:00Z', 'v': 533256},\n",
       " {'t': '2023-02-16T00:00:00Z', 'v': 534208},\n",
       " {'t': '2023-02-17T00:00:00Z', 'v': 534864},\n",
       " {'t': '2023-02-18T00:00:00Z', 'v': 535338},\n",
       " {'t': '2023-02-19T00:00:00Z', 'v': 535963},\n",
       " {'t': '2023-02-20T00:00:00Z', 'v': 537241}]"
      ]
     },
     "metadata": {},
     "output_type": "display_data"
    }
   ],
   "source": [
    "# ETH 2.0 total number of deposits.\n",
    "res = requests.get(\n",
    "    \"https://api.glassnode.com/v1/metrics/eth2/staking_total_deposits_count\",\n",
    "    params={\"a\": \"BTC\", \"api_key\": api_key, \"timestamp_format\": \"humanized\"},\n",
    ")\n",
    "display(res.json()[-10:])"
   ]
  },
  {
   "cell_type": "code",
   "execution_count": 12,
   "id": "fd40ee1d",
   "metadata": {
    "ExecuteTime": {
     "end_time": "2023-02-21T19:31:35.815921Z",
     "start_time": "2023-02-21T19:31:35.495772Z"
    }
   },
   "outputs": [
    {
     "data": {
      "text/plain": [
       "[{'t': '2023-02-11T00:00:00Z', 'v': 16578295},\n",
       " {'t': '2023-02-12T00:00:00Z', 'v': 16589415},\n",
       " {'t': '2023-02-13T00:00:00Z', 'v': 16597703},\n",
       " {'t': '2023-02-14T00:00:00Z', 'v': 16632487},\n",
       " {'t': '2023-02-15T00:00:00Z', 'v': 16648615},\n",
       " {'t': '2023-02-16T00:00:00Z', 'v': 16678631},\n",
       " {'t': '2023-02-17T00:00:00Z', 'v': 16697447},\n",
       " {'t': '2023-02-18T00:00:00Z', 'v': 16710791},\n",
       " {'t': '2023-02-19T00:00:00Z', 'v': 16729191},\n",
       " {'t': '2023-02-20T00:00:00Z', 'v': 16767911}]"
      ]
     },
     "metadata": {},
     "output_type": "display_data"
    }
   ],
   "source": [
    "# ETH 2.0 total value staked.\n",
    "res = requests.get(\n",
    "    \"https://api.glassnode.com/v1/metrics/eth2/staking_total_volume_sum\",\n",
    "    params={\"a\": \"BTC\", \"api_key\": api_key, \"timestamp_format\": \"humanized\"},\n",
    ")\n",
    "display(res.json()[-10:])"
   ]
  },
  {
   "cell_type": "markdown",
   "id": "b3e9149a",
   "metadata": {},
   "source": [
    "## Fees\n",
    "https://docs.glassnode.com/basic-api/endpoints/fees"
   ]
  },
  {
   "cell_type": "code",
   "execution_count": 13,
   "id": "69325c83",
   "metadata": {
    "ExecuteTime": {
     "end_time": "2023-02-21T19:31:36.631143Z",
     "start_time": "2023-02-21T19:31:35.817645Z"
    }
   },
   "outputs": [
    {
     "data": {
      "text/plain": [
       "[{'t': '2023-02-11T00:00:00Z', 'v': 22.1872627},\n",
       " {'t': '2023-02-12T00:00:00Z', 'v': 19.21587499},\n",
       " {'t': '2023-02-13T00:00:00Z', 'v': 24.25921585},\n",
       " {'t': '2023-02-14T00:00:00Z', 'v': 25.81457179},\n",
       " {'t': '2023-02-15T00:00:00Z', 'v': 35.34902814},\n",
       " {'t': '2023-02-16T00:00:00Z', 'v': 31.27073097},\n",
       " {'t': '2023-02-17T00:00:00Z', 'v': 26.67825905},\n",
       " {'t': '2023-02-18T00:00:00Z', 'v': 19.94819627},\n",
       " {'t': '2023-02-19T00:00:00Z', 'v': 15.39227625},\n",
       " {'t': '2023-02-20T00:00:00Z', 'v': 17.8770258}]"
      ]
     },
     "metadata": {},
     "output_type": "display_data"
    }
   ],
   "source": [
    "# Fees (total).\n",
    "res = requests.get(\n",
    "    \"https://api.glassnode.com/v1/metrics/fees/volume_sum\",\n",
    "    params={\"a\": \"BTC\", \"api_key\": api_key, \"timestamp_format\": \"humanized\"},\n",
    ")\n",
    "display(res.json()[-10:])"
   ]
  },
  {
   "cell_type": "code",
   "execution_count": 14,
   "id": "981778fd",
   "metadata": {
    "ExecuteTime": {
     "end_time": "2023-02-21T19:31:37.230615Z",
     "start_time": "2023-02-21T19:31:36.633061Z"
    }
   },
   "outputs": [
    {
     "data": {
      "text/plain": [
       "[{'t': '2023-02-11T00:00:00Z', 'v': 21415378130.4162},\n",
       " {'t': '2023-02-12T00:00:00Z', 'v': 21067638894.8072},\n",
       " {'t': '2023-02-13T00:00:00Z', 'v': 29595631552.337},\n",
       " {'t': '2023-02-14T00:00:00Z', 'v': 64056071185.84141},\n",
       " {'t': '2023-02-15T00:00:00Z', 'v': 42442291537.1247},\n",
       " {'t': '2023-02-16T00:00:00Z', 'v': 44451859861.4704},\n",
       " {'t': '2023-02-17T00:00:00Z', 'v': 40142664079.836},\n",
       " {'t': '2023-02-18T00:00:00Z', 'v': 30627715817.538597},\n",
       " {'t': '2023-02-19T00:00:00Z', 'v': 29673223534.9583},\n",
       " {'t': '2023-02-20T00:00:00Z', 'v': 37171212039.1664}]"
      ]
     },
     "metadata": {},
     "output_type": "display_data"
    }
   ],
   "source": [
    "# Gas price (mean).\n",
    "res = requests.get(\n",
    "    \"https://api.glassnode.com/v1/metrics/fees/gas_price_mean\",\n",
    "    params={\"a\": \"ETH\", \"api_key\": api_key, \"timestamp_format\": \"humanized\"},\n",
    ")\n",
    "display(res.json()[-10:])"
   ]
  },
  {
   "cell_type": "code",
   "execution_count": 15,
   "id": "87f268cc",
   "metadata": {
    "ExecuteTime": {
     "end_time": "2023-02-21T19:31:37.601554Z",
     "start_time": "2023-02-21T19:31:37.232657Z"
    }
   },
   "outputs": [
    {
     "data": {
      "text/plain": [
       "[{'t': '2023-02-11T00:00:00Z', 'v': 112861.151329235},\n",
       " {'t': '2023-02-12T00:00:00Z', 'v': 113920.572373088},\n",
       " {'t': '2023-02-13T00:00:00Z', 'v': 102725.989681837},\n",
       " {'t': '2023-02-14T00:00:00Z', 'v': 94902.386667145},\n",
       " {'t': '2023-02-15T00:00:00Z', 'v': 93030.458008974},\n",
       " {'t': '2023-02-16T00:00:00Z', 'v': 94992.396023528},\n",
       " {'t': '2023-02-17T00:00:00Z', 'v': 100535.07160782},\n",
       " {'t': '2023-02-18T00:00:00Z', 'v': 110572.932285569},\n",
       " {'t': '2023-02-19T00:00:00Z', 'v': 107455.599522745},\n",
       " {'t': '2023-02-20T00:00:00Z', 'v': 101826.782338341}]"
      ]
     },
     "metadata": {},
     "output_type": "display_data"
    }
   ],
   "source": [
    "# Gas used (mean).\n",
    "res = requests.get(\n",
    "    \"https://api.glassnode.com/v1/metrics/fees/gas_used_mean\",\n",
    "    params={\"a\": \"ETH\", \"api_key\": api_key, \"timestamp_format\": \"humanized\"},\n",
    ")\n",
    "display(res.json()[-10:])"
   ]
  },
  {
   "cell_type": "markdown",
   "id": "03f65cfd",
   "metadata": {},
   "source": [
    "## Indicators\n",
    "https://docs.glassnode.com/basic-api/endpoints/indicators"
   ]
  },
  {
   "cell_type": "code",
   "execution_count": 16,
   "id": "5cb294e4",
   "metadata": {
    "ExecuteTime": {
     "end_time": "2023-02-21T19:31:38.122889Z",
     "start_time": "2023-02-21T19:31:37.603086Z"
    }
   },
   "outputs": [
    {
     "data": {
      "text/plain": [
       "[{'t': '2023-02-11T00:00:00Z', 'v': 0.998579294760912},\n",
       " {'t': '2023-02-12T00:00:00Z', 'v': 0.99847796954588},\n",
       " {'t': '2023-02-13T00:00:00Z', 'v': 0.996047946339671},\n",
       " {'t': '2023-02-14T00:00:00Z', 'v': 0.999574306297345},\n",
       " {'t': '2023-02-15T00:00:00Z', 'v': 1.00858277861096},\n",
       " {'t': '2023-02-16T00:00:00Z', 'v': 1.01511966660277},\n",
       " {'t': '2023-02-17T00:00:00Z', 'v': 1.00385201837154},\n",
       " {'t': '2023-02-18T00:00:00Z', 'v': 1.00520424929362},\n",
       " {'t': '2023-02-19T00:00:00Z', 'v': 1.00529792526948},\n",
       " {'t': '2023-02-20T00:00:00Z', 'v': 1.00535139633832}]"
      ]
     },
     "metadata": {},
     "output_type": "display_data"
    }
   ],
   "source": [
    "# SOPR.\n",
    "res = requests.get(\n",
    "    \"https://api.glassnode.com/v1/metrics/indicators/sopr\",\n",
    "    params={\"a\": \"BTC\", \"api_key\": api_key, \"timestamp_format\": \"humanized\"},\n",
    ")\n",
    "display(res.json()[-10:])"
   ]
  },
  {
   "cell_type": "code",
   "execution_count": 17,
   "id": "3d6e82c4",
   "metadata": {
    "ExecuteTime": {
     "end_time": "2023-02-21T19:31:38.810078Z",
     "start_time": "2023-02-21T19:31:38.125122Z"
    },
    "scrolled": true
   },
   "outputs": [
    {
     "data": {
      "text/plain": [
       "[{'t': '2023-02-11T00:00:00Z',\n",
       "  'o': {'ma128': 155713146288092520000000,\n",
       "   'ma14': 169011010965861000000000,\n",
       "   'ma200': 145831258916601000000000,\n",
       "   'ma25': 165684064541434200000000,\n",
       "   'ma40': 159590503885496830000000,\n",
       "   'ma60': 156622069577008400000000,\n",
       "   'ma9': 169011010965861000000000,\n",
       "   'ma90': 156228041297763200000000}},\n",
       " {'t': '2023-02-12T00:00:00Z',\n",
       "  'o': {'ma128': 155974731670088380000000,\n",
       "   'ma14': 168951328588567830000000,\n",
       "   'ma200': 146077442836383960000000,\n",
       "   'ma25': 165953092085097970000000,\n",
       "   'ma40': 160134121088825100000000,\n",
       "   'ma60': 156973689132538150000000,\n",
       "   'ma9': 168918171712293880000000,\n",
       "   'ma90': 156342297031423060000000}},\n",
       " {'t': '2023-02-13T00:00:00Z',\n",
       "  'o': {'ma128': 156236317052084240000000,\n",
       "   'ma14': 168891646211274700000000,\n",
       "   'ma200': 146323626756166930000000,\n",
       "   'ma25': 166222119628761700000000,\n",
       "   'ma40': 160677738292153340000000,\n",
       "   'ma60': 157325308688067940000000,\n",
       "   'ma9': 168825332458726770000000,\n",
       "   'ma90': 156456552765082970000000}},\n",
       " {'t': '2023-02-14T00:00:00Z',\n",
       "  'o': {'ma128': 156497902434080100000000,\n",
       "   'ma14': 168831963833981560000000,\n",
       "   'ma200': 146569810675949900000000,\n",
       "   'ma25': 166491147172425400000000,\n",
       "   'ma40': 161221355495481600000000,\n",
       "   'ma60': 157676928243597700000000,\n",
       "   'ma9': 168732493205159660000000,\n",
       "   'ma90': 156570808498742870000000}},\n",
       " {'t': '2023-02-15T00:00:00Z',\n",
       "  'o': {'ma128': 156616873225980100000000,\n",
       "   'ma14': 168772281456688400000000,\n",
       "   'ma200': 146815994595732880000000,\n",
       "   'ma25': 166760174716089130000000,\n",
       "   'ma40': 161764972698809860000000,\n",
       "   'ma60': 158028547799127500000000,\n",
       "   'ma9': 168639653951592550000000,\n",
       "   'ma90': 156685064232402770000000}},\n",
       " {'t': '2023-02-16T00:00:00Z',\n",
       "  'o': {'ma128': 156735844017880050000000,\n",
       "   'ma14': 168712599079395260000000,\n",
       "   'ma200': 147062178515515830000000,\n",
       "   'ma25': 167029202259752860000000,\n",
       "   'ma40': 162308589902138100000000,\n",
       "   'ma60': 158380167354657250000000,\n",
       "   'ma9': 168546814698025440000000,\n",
       "   'ma90': 156799319966062670000000}},\n",
       " {'t': '2023-02-17T00:00:00Z',\n",
       "  'o': {'ma128': 156854814809780000000000,\n",
       "   'ma14': 168652916702102130000000,\n",
       "   'ma200': 147308362435298800000000,\n",
       "   'ma25': 167298229803416580000000,\n",
       "   'ma40': 162852207105466370000000,\n",
       "   'ma60': 158651633207785700000000,\n",
       "   'ma9': 168453975444458330000000,\n",
       "   'ma90': 156913575699722570000000}},\n",
       " {'t': '2023-02-18T00:00:00Z',\n",
       "  'o': {'ma128': 156973785601679970000000,\n",
       "   'ma14': 168593234324809000000000,\n",
       "   'ma200': 147554546355081760000000,\n",
       "   'ma25': 167567257347080330000000,\n",
       "   'ma40': 163395824308794620000000,\n",
       "   'ma60': 158923099060914130000000,\n",
       "   'ma9': 168361136190891220000000,\n",
       "   'ma90': 157018845634100270000000}},\n",
       " {'t': '2023-02-19T00:00:00Z',\n",
       "  'o': {'ma128': 157092756393579930000000,\n",
       "   'ma14': 168533551947515830000000,\n",
       "   'ma200': 147800730274864730000000,\n",
       "   'ma25': 167836284890744050000000,\n",
       "   'ma40': 163939441512122880000000,\n",
       "   'ma60': 159194564914042550000000,\n",
       "   'ma9': 168268296937324100000000,\n",
       "   'ma90': 157124115568478020000000}},\n",
       " {'t': '2023-02-20T00:00:00Z',\n",
       "  'o': {'ma128': 157211727185479900000000,\n",
       "   'ma14': 168473869570222700000000,\n",
       "   'ma200': 148036561164769630000000,\n",
       "   'ma25': 168105312434407770000000,\n",
       "   'ma40': 164483058715451170000000,\n",
       "   'ma60': 159466030767171000000000,\n",
       "   'ma9': 168175457683757000000000,\n",
       "   'ma90': 157229385502855730000000}}]"
      ]
     },
     "metadata": {},
     "output_type": "display_data"
    }
   ],
   "source": [
    "# Difficulty ribbon.\n",
    "res = requests.get(\n",
    "    \"https://api.glassnode.com/v1/metrics/indicators/difficulty_ribbon\",\n",
    "    params={\"a\": \"BTC\", \"api_key\": api_key, \"timestamp_format\": \"humanized\"},\n",
    ")\n",
    "display(res.json()[-10:])"
   ]
  },
  {
   "cell_type": "markdown",
   "id": "ab397c58",
   "metadata": {},
   "source": [
    "## Institutions\n",
    "https://docs.glassnode.com/basic-api/endpoints/institutions"
   ]
  },
  {
   "cell_type": "code",
   "execution_count": 18,
   "id": "fcff9ac2",
   "metadata": {
    "ExecuteTime": {
     "end_time": "2023-02-21T19:31:39.259445Z",
     "start_time": "2023-02-21T19:31:38.812336Z"
    }
   },
   "outputs": [
    {
     "data": {
      "text/plain": [
       "[{'t': '2023-02-08T00:00:00Z', 'v': 23632.747783},\n",
       " {'t': '2023-02-09T00:00:00Z', 'v': 23568.231945},\n",
       " {'t': '2023-02-10T00:00:00Z', 'v': 23069.87919},\n",
       " {'t': '2023-02-11T00:00:00Z', 'v': 23069.87919},\n",
       " {'t': '2023-02-12T00:00:00Z', 'v': 23069.87919},\n",
       " {'t': '2023-02-13T00:00:00Z', 'v': 22828.469774},\n",
       " {'t': '2023-02-14T00:00:00Z', 'v': 22769.632133},\n",
       " {'t': '2023-02-15T00:00:00Z', 'v': 22719.721733},\n",
       " {'t': '2023-02-16T00:00:00Z', 'v': 22675.392859},\n",
       " {'t': '2023-02-17T00:00:00Z', 'v': 22870.594458}]"
      ]
     },
     "metadata": {},
     "output_type": "display_data"
    }
   ],
   "source": [
    "# Purpose Bitcoin ETF holdings.\n",
    "res = requests.get(\n",
    "    \"https://api.glassnode.com/v1/metrics/institutions/purpose_etf_holdings_sum\",\n",
    "    params={\"a\": \"BTC\", \"api_key\": api_key, \"timestamp_format\": \"humanized\"},\n",
    ")\n",
    "display(res.json()[-10:])"
   ]
  },
  {
   "cell_type": "markdown",
   "id": "5d6fa3d1",
   "metadata": {},
   "source": [
    "## Market\n",
    "https://docs.glassnode.com/basic-api/endpoints/market"
   ]
  },
  {
   "cell_type": "code",
   "execution_count": 19,
   "id": "3a3171d6",
   "metadata": {
    "ExecuteTime": {
     "end_time": "2023-02-21T19:31:39.636474Z",
     "start_time": "2023-02-21T19:31:39.261125Z"
    }
   },
   "outputs": [
    {
     "data": {
      "text/plain": [
       "[{'t': '2023-02-11T00:00:00Z', 'v': 421862582164.6586},\n",
       " {'t': '2023-02-12T00:00:00Z', 'v': 419886562442.359},\n",
       " {'t': '2023-02-13T00:00:00Z', 'v': 420842817692.29425},\n",
       " {'t': '2023-02-14T00:00:00Z', 'v': 428780852736.36334},\n",
       " {'t': '2023-02-15T00:00:00Z', 'v': 468716662227.7077},\n",
       " {'t': '2023-02-16T00:00:00Z', 'v': 456424512763.54364},\n",
       " {'t': '2023-02-17T00:00:00Z', 'v': 474212466347.3344},\n",
       " {'t': '2023-02-18T00:00:00Z', 'v': 475362535219.63116},\n",
       " {'t': '2023-02-19T00:00:00Z', 'v': 470042030538.6679},\n",
       " {'t': '2023-02-20T00:00:00Z', 'v': 478606560236.50574}]"
      ]
     },
     "metadata": {},
     "output_type": "display_data"
    }
   ],
   "source": [
    "# Market cap.\n",
    "res = requests.get(\n",
    "    \"https://api.glassnode.com/v1/metrics/market/marketcap_usd\",\n",
    "    params={\"a\": \"BTC\", \"api_key\": api_key, \"timestamp_format\": \"humanized\"},\n",
    ")\n",
    "display(res.json()[-10:])"
   ]
  },
  {
   "cell_type": "code",
   "execution_count": 20,
   "id": "e731a14f",
   "metadata": {
    "ExecuteTime": {
     "end_time": "2023-02-21T19:31:41.635416Z",
     "start_time": "2023-02-21T19:31:39.638289Z"
    },
    "scrolled": true
   },
   "outputs": [
    {
     "data": {
      "text/plain": [
       "[{'t': '2023-02-12T00:00:00Z',\n",
       "  'o': {'c': 21768.024951463125,\n",
       "   'h': 22053.716864708476,\n",
       "   'l': 21697.680040970907,\n",
       "   'o': 21870.874064054547}},\n",
       " {'t': '2023-02-13T00:00:00Z',\n",
       "  'o': {'c': 21816.4969923938,\n",
       "   'h': 21892.102051840247,\n",
       "   'l': 21471.729773423976,\n",
       "   'o': 21788.203986260593}},\n",
       " {'t': '2023-02-14T00:00:00Z',\n",
       "  'o': {'c': 22226.89579602301,\n",
       "   'h': 22284.52967633953,\n",
       "   'l': 21647.42304471194,\n",
       "   'o': 21808.10177360093}},\n",
       " {'t': '2023-02-15T00:00:00Z',\n",
       "  'o': {'c': 24295.78232684403,\n",
       "   'h': 24295.78232684403,\n",
       "   'l': 22086.864931336102,\n",
       "   'o': 22220.80414369751}},\n",
       " {'t': '2023-02-16T00:00:00Z',\n",
       "  'o': {'c': 23657.250699214906,\n",
       "   'h': 25104.38919240721,\n",
       "   'l': 23657.250699214906,\n",
       "   'o': 24307.350197799304}},\n",
       " {'t': '2023-02-17T00:00:00Z',\n",
       "  'o': {'c': 24577.916547537967,\n",
       "   'h': 24906.66811078968,\n",
       "   'l': 23499.02826773525,\n",
       "   'o': 23623.474480806268}},\n",
       " {'t': '2023-02-18T00:00:00Z',\n",
       "  'o': {'c': 24636.182656897337,\n",
       "   'h': 24761.111014275368,\n",
       "   'l': 24472.263981542936,\n",
       "   'o': 24565.295999850914}},\n",
       " {'t': '2023-02-19T00:00:00Z',\n",
       "  'o': {'c': 24359.163469117113,\n",
       "   'h': 25073.742840707655,\n",
       "   'l': 24359.163469117113,\n",
       "   'o': 24641.276948425817}},\n",
       " {'t': '2023-02-20T00:00:00Z',\n",
       "  'o': {'c': 24801.82540365762,\n",
       "   'h': 25020.45951252541,\n",
       "   'l': 23943.303063763437,\n",
       "   'o': 24327.641672282658}},\n",
       " {'t': '2023-02-21T00:00:00Z',\n",
       "  'o': {'c': 24588.10808067936,\n",
       "   'h': 25126.851685722035,\n",
       "   'l': 24364.318706368435,\n",
       "   'o': 24833.048914297397}}]"
      ]
     },
     "metadata": {},
     "output_type": "display_data"
    }
   ],
   "source": [
    "# Price OHLC.\n",
    "res = requests.get(\n",
    "    \"https://api.glassnode.com/v1/metrics/market/price_usd_ohlc\",\n",
    "    params={\"a\": \"BTC\", \"api_key\": api_key, \"timestamp_format\": \"humanized\"},\n",
    ")\n",
    "display(res.json()[-10:])"
   ]
  },
  {
   "cell_type": "markdown",
   "id": "a9213b4e",
   "metadata": {},
   "source": [
    "## Mining\n",
    "https://docs.glassnode.com/basic-api/endpoints/mining"
   ]
  },
  {
   "cell_type": "code",
   "execution_count": 21,
   "id": "22ebd6cc",
   "metadata": {
    "ExecuteTime": {
     "end_time": "2023-02-21T19:31:41.926402Z",
     "start_time": "2023-02-21T19:31:41.637233Z"
    }
   },
   "outputs": [
    {
     "data": {
      "text/plain": [
       "[{'t': '2023-02-11T00:00:00Z', 'v': 169011010965861000000000},\n",
       " {'t': '2023-02-12T00:00:00Z', 'v': 168175457683757000000000},\n",
       " {'t': '2023-02-13T00:00:00Z', 'v': 168175457683757000000000},\n",
       " {'t': '2023-02-14T00:00:00Z', 'v': 168175457683757000000000},\n",
       " {'t': '2023-02-15T00:00:00Z', 'v': 168175457683757000000000},\n",
       " {'t': '2023-02-16T00:00:00Z', 'v': 168175457683757000000000},\n",
       " {'t': '2023-02-17T00:00:00Z', 'v': 168175457683757000000000},\n",
       " {'t': '2023-02-18T00:00:00Z', 'v': 168175457683757000000000},\n",
       " {'t': '2023-02-19T00:00:00Z', 'v': 168175457683757000000000},\n",
       " {'t': '2023-02-20T00:00:00Z', 'v': 168175457683757000000000}]"
      ]
     },
     "metadata": {},
     "output_type": "display_data"
    }
   ],
   "source": [
    "# Difficulty.\n",
    "res = requests.get(\n",
    "    \"https://api.glassnode.com/v1/metrics/mining/difficulty_latest\",\n",
    "    params={\"a\": \"BTC\", \"api_key\": api_key, \"timestamp_format\": \"humanized\"},\n",
    ")\n",
    "display(res.json()[-10:])"
   ]
  },
  {
   "cell_type": "code",
   "execution_count": 22,
   "id": "1fbe0336",
   "metadata": {
    "ExecuteTime": {
     "end_time": "2023-02-21T19:31:42.197414Z",
     "start_time": "2023-02-21T19:31:41.928262Z"
    }
   },
   "outputs": [
    {
     "data": {
      "text/plain": [
       "[{'t': '2023-02-11T00:00:00Z', 'v': 301477999553422000000},\n",
       " {'t': '2023-02-12T00:00:00Z', 'v': 308128433487877000000},\n",
       " {'t': '2023-02-13T00:00:00Z', 'v': 298207160947362000000},\n",
       " {'t': '2023-02-14T00:00:00Z', 'v': 304525973676891000000},\n",
       " {'t': '2023-02-15T00:00:00Z', 'v': 312875644609397000000},\n",
       " {'t': '2023-02-16T00:00:00Z', 'v': 348032359015359000000},\n",
       " {'t': '2023-02-17T00:00:00Z', 'v': 321443719364037000000},\n",
       " {'t': '2023-02-18T00:00:00Z', 'v': 326004164157468000000},\n",
       " {'t': '2023-02-19T00:00:00Z', 'v': 316821417380119000000},\n",
       " {'t': '2023-02-20T00:00:00Z', 'v': 286227926960580000000}]"
      ]
     },
     "metadata": {},
     "output_type": "display_data"
    }
   ],
   "source": [
    "# Hash Rate.\n",
    "res = requests.get(\n",
    "    \"https://api.glassnode.com/v1/metrics/mining/hash_rate_mean\",\n",
    "    params={\"a\": \"BTC\", \"api_key\": api_key, \"timestamp_format\": \"humanized\"},\n",
    ")\n",
    "display(res.json()[-10:])"
   ]
  },
  {
   "cell_type": "markdown",
   "id": "a1aa7ccb",
   "metadata": {},
   "source": [
    "## Protocols\n",
    "https://docs.glassnode.com/basic-api/endpoints/protocols"
   ]
  },
  {
   "cell_type": "code",
   "execution_count": 23,
   "id": "059c002f",
   "metadata": {
    "ExecuteTime": {
     "end_time": "2023-02-21T19:31:42.533548Z",
     "start_time": "2023-02-21T19:31:42.199510Z"
    }
   },
   "outputs": [
    {
     "data": {
      "text/plain": [
       "[{'t': '2023-02-11T00:00:00Z', 'v': 711275.7440381639},\n",
       " {'t': '2023-02-12T00:00:00Z', 'v': 715544.2605853755},\n",
       " {'t': '2023-02-13T00:00:00Z', 'v': 714364.0584573247},\n",
       " {'t': '2023-02-14T00:00:00Z', 'v': 708568.6595895634},\n",
       " {'t': '2023-02-15T00:00:00Z', 'v': 703481.6770254232},\n",
       " {'t': '2023-02-16T00:00:00Z', 'v': 706146.0062758833},\n",
       " {'t': '2023-02-17T00:00:00Z', 'v': 703820.8142743264},\n",
       " {'t': '2023-02-18T00:00:00Z', 'v': 706406.4768236184},\n",
       " {'t': '2023-02-19T00:00:00Z', 'v': 707778.009400569},\n",
       " {'t': '2023-02-20T00:00:00Z', 'v': 706115.9535449031}]"
      ]
     },
     "metadata": {},
     "output_type": "display_data"
    }
   ],
   "source": [
    "# Uniswap liqudity.\n",
    "res = requests.get(\n",
    "    \"https://api.glassnode.com/v1/metrics/protocols/uniswap_liquidity_latest\",\n",
    "    params={\"a\": \"ETH\", \"api_key\": api_key, \"timestamp_format\": \"humanized\"},\n",
    ")\n",
    "display(res.json()[-10:])"
   ]
  },
  {
   "cell_type": "markdown",
   "id": "a32e893e",
   "metadata": {},
   "source": [
    "## Supply\n",
    "https://docs.glassnode.com/basic-api/endpoints/supply"
   ]
  },
  {
   "cell_type": "code",
   "execution_count": 24,
   "id": "c389e020",
   "metadata": {
    "ExecuteTime": {
     "end_time": "2023-02-21T19:31:42.902406Z",
     "start_time": "2023-02-21T19:31:42.535176Z"
    }
   },
   "outputs": [
    {
     "data": {
      "text/plain": [
       "[{'t': '2023-02-11T00:00:00Z', 'v': 120539216.59103717},\n",
       " {'t': '2023-02-12T00:00:00Z', 'v': 120539266.3366267},\n",
       " {'t': '2023-02-13T00:00:00Z', 'v': 120538559.83496962},\n",
       " {'t': '2023-02-14T00:00:00Z', 'v': 120534830.68105814},\n",
       " {'t': '2023-02-15T00:00:00Z', 'v': 120532690.11553489},\n",
       " {'t': '2023-02-16T00:00:00Z', 'v': 120530425.81780592},\n",
       " {'t': '2023-02-17T00:00:00Z', 'v': 120528593.30755615},\n",
       " {'t': '2023-02-18T00:00:00Z', 'v': 120527651.48608728},\n",
       " {'t': '2023-02-19T00:00:00Z', 'v': 120526939.6064239},\n",
       " {'t': '2023-02-20T00:00:00Z', 'v': 120525555.90402004}]"
      ]
     },
     "metadata": {},
     "output_type": "display_data"
    }
   ],
   "source": [
    "# Circulating supply.\n",
    "res = requests.get(\n",
    "    \"https://api.glassnode.com/v1/metrics/supply/current\",\n",
    "    params={\"a\": \"ETH\", \"api_key\": api_key, \"timestamp_format\": \"humanized\"},\n",
    ")\n",
    "display(res.json()[-10:])"
   ]
  },
  {
   "cell_type": "markdown",
   "id": "7912c2ca",
   "metadata": {},
   "source": [
    "## Transactions\n",
    "https://docs.glassnode.com/basic-api/endpoints/transactions"
   ]
  },
  {
   "cell_type": "code",
   "execution_count": 25,
   "id": "f4387de0",
   "metadata": {
    "ExecuteTime": {
     "end_time": "2023-02-21T19:31:43.291258Z",
     "start_time": "2023-02-21T19:31:42.904158Z"
    }
   },
   "outputs": [
    {
     "data": {
      "text/plain": [
       "[{'t': '2023-02-11T00:00:00Z', 'v': 930107},\n",
       " {'t': '2023-02-12T00:00:00Z', 'v': 928275},\n",
       " {'t': '2023-02-13T00:00:00Z', 'v': 1024251},\n",
       " {'t': '2023-02-14T00:00:00Z', 'v': 1112166},\n",
       " {'t': '2023-02-15T00:00:00Z', 'v': 1130106},\n",
       " {'t': '2023-02-16T00:00:00Z', 'v': 1105027},\n",
       " {'t': '2023-02-17T00:00:00Z', 'v': 1036087},\n",
       " {'t': '2023-02-18T00:00:00Z', 'v': 941335},\n",
       " {'t': '2023-02-19T00:00:00Z', 'v': 968353},\n",
       " {'t': '2023-02-20T00:00:00Z', 'v': 1019340}]"
      ]
     },
     "metadata": {},
     "output_type": "display_data"
    }
   ],
   "source": [
    "# Transaction counts.\n",
    "res = requests.get(\n",
    "    \"https://api.glassnode.com/v1/metrics/transactions/count\",\n",
    "    params={\"a\": \"ETH\", \"api_key\": api_key, \"timestamp_format\": \"humanized\"},\n",
    ")\n",
    "display(res.json()[-10:])"
   ]
  },
  {
   "cell_type": "code",
   "execution_count": 26,
   "id": "a3787912",
   "metadata": {
    "ExecuteTime": {
     "end_time": "2023-02-21T19:31:43.707732Z",
     "start_time": "2023-02-21T19:31:43.293026Z"
    }
   },
   "outputs": [
    {
     "data": {
      "text/plain": [
       "[{'t': '2023-02-11T00:00:00Z', 'v': 413028},\n",
       " {'t': '2023-02-12T00:00:00Z', 'v': 411950},\n",
       " {'t': '2023-02-13T00:00:00Z', 'v': 422644},\n",
       " {'t': '2023-02-14T00:00:00Z', 'v': 452709},\n",
       " {'t': '2023-02-15T00:00:00Z', 'v': 454968},\n",
       " {'t': '2023-02-16T00:00:00Z', 'v': 463051},\n",
       " {'t': '2023-02-17T00:00:00Z', 'v': 450027},\n",
       " {'t': '2023-02-18T00:00:00Z', 'v': 410384},\n",
       " {'t': '2023-02-19T00:00:00Z', 'v': 409298},\n",
       " {'t': '2023-02-20T00:00:00Z', 'v': 443110}]"
      ]
     },
     "metadata": {},
     "output_type": "display_data"
    }
   ],
   "source": [
    "# Transfer counts.\n",
    "res = requests.get(\n",
    "    \"https://api.glassnode.com/v1/metrics/transactions/transfers_count\",\n",
    "    params={\"a\": \"ETH\", \"api_key\": api_key, \"timestamp_format\": \"humanized\"},\n",
    ")\n",
    "display(res.json()[-10:])"
   ]
  },
  {
   "cell_type": "code",
   "execution_count": 27,
   "id": "a2d64c44",
   "metadata": {
    "ExecuteTime": {
     "end_time": "2023-02-21T19:31:44.004129Z",
     "start_time": "2023-02-21T19:31:43.711746Z"
    }
   },
   "outputs": [
    {
     "data": {
      "text/plain": [
       "[{'t': '2023-02-11T00:00:00Z', 'v': 1258.83623708458},\n",
       " {'t': '2023-02-12T00:00:00Z', 'v': 1554.25547517595},\n",
       " {'t': '2023-02-13T00:00:00Z', 'v': 1127.19753453687},\n",
       " {'t': '2023-02-14T00:00:00Z', 'v': 1189.23557433247},\n",
       " {'t': '2023-02-15T00:00:00Z', 'v': 1097.2928370074},\n",
       " {'t': '2023-02-16T00:00:00Z', 'v': 1094.31212485342},\n",
       " {'t': '2023-02-17T00:00:00Z', 'v': 1052.34739563058},\n",
       " {'t': '2023-02-18T00:00:00Z', 'v': 1283.67070455119},\n",
       " {'t': '2023-02-19T00:00:00Z', 'v': 1525.95778874813},\n",
       " {'t': '2023-02-20T00:00:00Z', 'v': 1168.44040024598}]"
      ]
     },
     "metadata": {},
     "output_type": "display_data"
    }
   ],
   "source": [
    "# Transaction size (mean).\n",
    "res = requests.get(\n",
    "    \"https://api.glassnode.com/v1/metrics/transactions/size_mean\",\n",
    "    params={\"a\": \"BTC\", \"api_key\": api_key, \"timestamp_format\": \"humanized\"},\n",
    ")\n",
    "display(res.json()[-10:])"
   ]
  },
  {
   "cell_type": "code",
   "execution_count": 28,
   "id": "3371f6ac",
   "metadata": {
    "ExecuteTime": {
     "end_time": "2023-02-21T19:31:44.453301Z",
     "start_time": "2023-02-21T19:31:44.005989Z"
    }
   },
   "outputs": [
    {
     "data": {
      "text/plain": [
       "[{'t': '2023-02-11T00:00:00Z', 'v': 2.96982175993704},\n",
       " {'t': '2023-02-12T00:00:00Z', 'v': 2.70275650828443},\n",
       " {'t': '2023-02-13T00:00:00Z', 'v': 2.91449807374026},\n",
       " {'t': '2023-02-14T00:00:00Z', 'v': 2.52401040995749},\n",
       " {'t': '2023-02-15T00:00:00Z', 'v': 2.50062301718588},\n",
       " {'t': '2023-02-16T00:00:00Z', 'v': 2.92801052088018},\n",
       " {'t': '2023-02-17T00:00:00Z', 'v': 2.89429745986095},\n",
       " {'t': '2023-02-18T00:00:00Z', 'v': 2.18761996942728},\n",
       " {'t': '2023-02-19T00:00:00Z', 'v': 2.07072552480879},\n",
       " {'t': '2023-02-20T00:00:00Z', 'v': 2.58338343520564}]"
      ]
     },
     "metadata": {},
     "output_type": "display_data"
    }
   ],
   "source": [
    "# Transfer size (mean).\n",
    "res = requests.get(\n",
    "    \"https://api.glassnode.com/v1/metrics/transactions/transfers_volume_mean\",\n",
    "    params={\"a\": \"BTC\", \"api_key\": api_key, \"timestamp_format\": \"humanized\"},\n",
    ")\n",
    "display(res.json()[-10:])"
   ]
  }
 ],
 "metadata": {
  "kernelspec": {
   "display_name": "Python 3 (ipykernel)",
   "language": "python",
   "name": "python3"
  },
  "language_info": {
   "codemirror_mode": {
    "name": "ipython",
    "version": 3
   },
   "file_extension": ".py",
   "mimetype": "text/x-python",
   "name": "python",
   "nbconvert_exporter": "python",
   "pygments_lexer": "ipython3",
   "version": "3.8.10"
  },
  "toc": {
   "base_numbering": 1,
   "nav_menu": {},
   "number_sections": true,
   "sideBar": true,
   "skip_h1_title": false,
   "title_cell": "Table of Contents",
   "title_sidebar": "Contents",
   "toc_cell": false,
   "toc_position": {},
   "toc_section_display": true,
   "toc_window_display": false
  }
 },
 "nbformat": 4,
 "nbformat_minor": 5
}
