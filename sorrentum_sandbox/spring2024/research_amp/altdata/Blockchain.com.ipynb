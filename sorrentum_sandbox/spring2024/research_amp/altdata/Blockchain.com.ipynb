{
 "cells": [
  {
   "cell_type": "markdown",
   "id": "c10aa98b",
   "metadata": {},
   "source": [
    "# Description"
   ]
  },
  {
   "cell_type": "markdown",
   "id": "d73faf0e",
   "metadata": {},
   "source": [
    "This notebook contains the examples of the outputs for relevant endpoints of the [blockchain.com](blockchain.com) API."
   ]
  },
  {
   "cell_type": "code",
   "execution_count": 1,
   "id": "e7482a4e",
   "metadata": {
    "ExecuteTime": {
     "end_time": "2022-12-02T18:58:20.998168Z",
     "start_time": "2022-12-02T18:58:20.443594Z"
    }
   },
   "outputs": [],
   "source": [
    "import logging\n",
    "\n",
    "import requests\n",
    "\n",
    "import helpers.hdbg as hdbg\n",
    "import helpers.henv as henv\n",
    "import helpers.hprint as hprint"
   ]
  },
  {
   "cell_type": "code",
   "execution_count": 2,
   "id": "1878b733",
   "metadata": {
    "ExecuteTime": {
     "end_time": "2022-12-02T18:58:22.959650Z",
     "start_time": "2022-12-02T18:58:21.006758Z"
    }
   },
   "outputs": [
    {
     "name": "stdout",
     "output_type": "stream",
     "text": [
      "\u001b[0m\u001b[36mINFO\u001b[0m: > cmd='/venv/lib/python3.8/site-packages/ipykernel_launcher.py -f /home/.local/share/jupyter/runtime/kernel-d3b96bff-0069-4f5b-ac86-c2bde3f54668.json'\n",
      "WARNING: Running in Jupyter\n",
      "INFO  # Git\n",
      "  branch_name='CMTask3220_blockchaincom_api_notebook'\n",
      "  hash='ab6ca5c09'\n",
      "  # Last commits:\n",
      "    * ab6ca5c09 Nina Lee Cm task3332 create an invoke target that flattens a ccxt account (#3335) (   2 hours ago) Fri Dec 2 16:42:27 2022  (HEAD -> CMTask3220_blockchaincom_api_notebook, origin/master, origin/HEAD, origin/CMTask3220_blockchaincom_api_notebook, master)\n",
      "    * 7eba33c4d Nina Lee CMtask3091 Check whether DAG output is self consistent  (#3199)   (   3 hours ago) Fri Dec 2 16:25:30 2022           \n",
      "    * 648ef609a Nina Lee Cm task3281 fix reconciliation notebook invoke (#3287)            (  23 hours ago) Thu Dec 1 19:34:19 2022           \n",
      "# Machine info\n",
      "  system=Linux\n",
      "  node name=072842cfb2f0\n",
      "  release=5.15.0-1023-aws\n",
      "  version=#27~20.04.1-Ubuntu SMP Wed Oct 26 20:02:26 UTC 2022\n",
      "  machine=x86_64\n",
      "  processor=x86_64\n",
      "  cpu count=8\n",
      "  cpu freq=scpufreq(current=2499.998, min=0.0, max=0.0)\n",
      "  memory=svmem(total=33292886016, available=28616204288, percent=14.0, used=4205793280, free=16325033984, active=4906553344, inactive=10379718656, buffers=1653977088, cached=11108081664, shared=9875456, slab=1432707072)\n",
      "  disk usage=sdiskusage(total=156052275200, used=25565368320, free=130470129664, percent=16.4)\n",
      "# Packages\n",
      "  python: 3.8.10\n",
      "  cvxopt: 1.3.0\n",
      "  cvxpy: 1.2.2\n",
      "  gluonnlp: ?\n",
      "  gluonts: 0.6.7\n",
      "  joblib: 1.2.0\n",
      "  mxnet: 1.9.1\n",
      "  numpy: 1.23.4\n",
      "  pandas: 1.5.1\n",
      "  pyarrow: 10.0.0\n",
      "  scipy: 1.9.3\n",
      "  seaborn: 0.12.1\n",
      "  sklearn: 1.1.3\n",
      "  statsmodels: 0.13.5\n"
     ]
    }
   ],
   "source": [
    "hdbg.init_logger(verbosity=logging.INFO)\n",
    "\n",
    "_LOG = logging.getLogger(__name__)\n",
    "\n",
    "_LOG.info(\"%s\", henv.get_system_signature()[0])\n",
    "\n",
    "hprint.config_notebook()"
   ]
  },
  {
   "cell_type": "markdown",
   "id": "89e090f3",
   "metadata": {},
   "source": [
    "# Blockchain Data API (REST)"
   ]
  },
  {
   "cell_type": "markdown",
   "id": "82f98f4c",
   "metadata": {},
   "source": [
    "https://www.blockchain.com/explorer/api/blockchain_api"
   ]
  },
  {
   "cell_type": "markdown",
   "id": "d4fac26d",
   "metadata": {},
   "source": [
    "## Unconfirmed Transactions"
   ]
  },
  {
   "cell_type": "markdown",
   "id": "803c726a",
   "metadata": {},
   "source": [
    "A list of all current unconfirmed transactions."
   ]
  },
  {
   "cell_type": "code",
   "execution_count": 3,
   "id": "f229f2ce",
   "metadata": {
    "ExecuteTime": {
     "end_time": "2022-12-02T18:58:22.965570Z",
     "start_time": "2022-12-02T18:58:22.962393Z"
    }
   },
   "outputs": [],
   "source": [
    "api_url = \"https://blockchain.info/unconfirmed-transactions?format=json\""
   ]
  },
  {
   "cell_type": "code",
   "execution_count": 4,
   "id": "de9cb707",
   "metadata": {
    "ExecuteTime": {
     "end_time": "2022-12-02T18:58:23.217065Z",
     "start_time": "2022-12-02T18:58:22.968037Z"
    }
   },
   "outputs": [
    {
     "data": {
      "text/plain": [
       "dict_keys(['txs'])"
      ]
     },
     "metadata": {},
     "output_type": "display_data"
    }
   ],
   "source": [
    "response = requests.get(api_url)\n",
    "data = response.json()\n",
    "display(data.keys())"
   ]
  },
  {
   "cell_type": "code",
   "execution_count": 5,
   "id": "67cefb18",
   "metadata": {
    "ExecuteTime": {
     "end_time": "2022-12-02T18:58:23.233161Z",
     "start_time": "2022-12-02T18:58:23.219702Z"
    }
   },
   "outputs": [
    {
     "data": {
      "text/plain": [
       "100"
      ]
     },
     "metadata": {},
     "output_type": "display_data"
    },
    {
     "data": {
      "text/plain": [
       "[{'hash': 'a8fa7529c13d1f5326c886f7b625ebca5c12580d840e38f6197ec65ecd2b22e7',\n",
       "  'ver': 2,\n",
       "  'vin_sz': 1,\n",
       "  'vout_sz': 10,\n",
       "  'size': 478,\n",
       "  'weight': 1585,\n",
       "  'fee': 13895,\n",
       "  'relayed_by': '0.0.0.0',\n",
       "  'lock_time': 765628,\n",
       "  'tx_index': 8132286393080015,\n",
       "  'double_spend': False,\n",
       "  'time': 1670007495,\n",
       "  'block_index': None,\n",
       "  'block_height': None,\n",
       "  'inputs': [{'sequence': 4294967293,\n",
       "    'witness': '02473044022075ccd346118b98309cb7bf5f0a80a65d7e88e3afceb4d2bea0bda5d62a0452b50220043eaa91fd3cda7059642dbc296b91628090213ac03a81bf04aea4792bf0439e01210249ab7379661713397d28790fa033ad4121f32d1d2feede336ff1fc1b5fc469ec',\n",
       "    'script': '',\n",
       "    'index': 0,\n",
       "    'prev_out': {'addr': 'bc1qy9xkdpptchr0phkgum67vu0kl45e6jd43wvzyr',\n",
       "     'n': 4,\n",
       "     'script': '0014214d66842bc5c6f0dec8e6f5e671f6fd699d49b5',\n",
       "     'spending_outpoints': [{'n': 0, 'tx_index': 8132286393080015}],\n",
       "     'spent': True,\n",
       "     'tx_index': 572515243033248,\n",
       "     'type': 0,\n",
       "     'value': 33036167}}],\n",
       "  'out': [{'type': 0,\n",
       "    'spent': False,\n",
       "    'value': 198333,\n",
       "    'spending_outpoints': [],\n",
       "    'n': 0,\n",
       "    'tx_index': 8132286393080015,\n",
       "    'script': '76a91476f57e22b4d12a48755d2a247eff28c3c47fa04388ac',\n",
       "    'addr': '1BqzpmbvqJ7uvRBgaFfCeauqzJWCCdGhmy'},\n",
       "   {'type': 0,\n",
       "    'spent': False,\n",
       "    'value': 2283505,\n",
       "    'spending_outpoints': [],\n",
       "    'n': 1,\n",
       "    'tx_index': 8132286393080015,\n",
       "    'script': '0014bbbf5cb1fe6df385ce93d7628337d2056f65a855',\n",
       "    'addr': 'bc1qhwl4ev07dhectn5n6a3gxd7jq4hkt2z4z3kxym'},\n",
       "   {'type': 0,\n",
       "    'spent': False,\n",
       "    'value': 28980736,\n",
       "    'spending_outpoints': [],\n",
       "    'n': 2,\n",
       "    'tx_index': 8132286393080015,\n",
       "    'script': '0014e40fb1fc100015d5ab57bfdf6a87a1da51163f41',\n",
       "    'addr': 'bc1qus8mrlqsqq2at26hhl0k4papmfg3v06pz6pedc'},\n",
       "   {'type': 0,\n",
       "    'spent': False,\n",
       "    'value': 477500,\n",
       "    'spending_outpoints': [],\n",
       "    'n': 3,\n",
       "    'tx_index': 8132286393080015,\n",
       "    'script': 'a914663eb96eace78fa6d288fca22bbc99fa6ccee30c87',\n",
       "    'addr': '3B1dzGsB8TwXxfDfFdNVN2dZnbfwVYCqvT'},\n",
       "   {'type': 0,\n",
       "    'spent': False,\n",
       "    'value': 304814,\n",
       "    'spending_outpoints': [],\n",
       "    'n': 4,\n",
       "    'tx_index': 8132286393080015,\n",
       "    'script': '76a91414a3c1809160aaaaf4e73525581c8e6de89700af88ac',\n",
       "    'addr': '12t8go3Jivj5gLcKwKc48mhw2jjkr8cvbg'},\n",
       "   {'type': 0,\n",
       "    'spent': False,\n",
       "    'value': 40480,\n",
       "    'spending_outpoints': [],\n",
       "    'n': 5,\n",
       "    'tx_index': 8132286393080015,\n",
       "    'script': '001411770337bc28bc455094f475d9e50caa5a1f4e0b',\n",
       "    'addr': 'bc1qz9msxdau9z7y25y5736anegv4fdp7nst9x02g5'},\n",
       "   {'type': 0,\n",
       "    'spent': False,\n",
       "    'value': 234986,\n",
       "    'spending_outpoints': [],\n",
       "    'n': 6,\n",
       "    'tx_index': 8132286393080015,\n",
       "    'script': 'a91416eba988ae6df1a2e43f3a37b69304abbc7475e687',\n",
       "    'addr': '33nD6s3Ys6DhK6BPue5id8NhipSaASwG61'},\n",
       "   {'type': 0,\n",
       "    'spent': False,\n",
       "    'value': 89133,\n",
       "    'spending_outpoints': [],\n",
       "    'n': 7,\n",
       "    'tx_index': 8132286393080015,\n",
       "    'script': '0014b5f7ace473b58eccc60592c3ba63027d7a119f59',\n",
       "    'addr': 'bc1qkhm6eernkk8ve3s9jtpm5ccz04apr86e56ltv0'},\n",
       "   {'type': 0,\n",
       "    'spent': False,\n",
       "    'value': 267218,\n",
       "    'spending_outpoints': [],\n",
       "    'n': 8,\n",
       "    'tx_index': 8132286393080015,\n",
       "    'script': '00147e993e8b62124a0c0e43daffa3ddb1f619152e13',\n",
       "    'addr': 'bc1q06vnazmzzf9qcrjrmtl68hd37cv32tsna5ftut'},\n",
       "   {'type': 0,\n",
       "    'spent': False,\n",
       "    'value': 145567,\n",
       "    'spending_outpoints': [],\n",
       "    'n': 9,\n",
       "    'tx_index': 8132286393080015,\n",
       "    'script': '0014441c7d6897fb6d387538f66edc251220ce1a68ee',\n",
       "    'addr': 'bc1qgsw866yhldknsafc7ehdcfgjyr8p568whd9v2k'}],\n",
       "  'rbf': True},\n",
       " {'hash': 'db1ed125d56eb8adf2f088ec9d6d8bc334ef9e810436ce4fb2deff40041ec4d2',\n",
       "  'ver': 2,\n",
       "  'vin_sz': 1,\n",
       "  'vout_sz': 1,\n",
       "  'size': 195,\n",
       "  'weight': 450,\n",
       "  'fee': 5893,\n",
       "  'relayed_by': '0.0.0.0',\n",
       "  'lock_time': 0,\n",
       "  'tx_index': 7415672288583675,\n",
       "  'double_spend': False,\n",
       "  'time': 1670007495,\n",
       "  'block_index': None,\n",
       "  'block_height': None,\n",
       "  'inputs': [{'sequence': 4294967295,\n",
       "    'witness': '02483045022100b5cb1ed63e9e378f3f38965e830e8e2bce9cd7e0a3cc415977c345f7d57712be022026c4843432e50a06489e76a49fa878edd8c462cfe50deaf2a9a07bac4ac22888012103ada9ee4e2d60962388a8c710fb89eba4ba4e50def411cd475e8cf4aedbc4462a',\n",
       "    'script': '',\n",
       "    'index': 0,\n",
       "    'prev_out': {'addr': 'bc1qja0x2dpfhmc7lkqyxdpr238prfwvz8z5hatu8d',\n",
       "     'n': 14,\n",
       "     'script': '0014975e653429bef1efd80433423544e11a5cc11c54',\n",
       "     'spending_outpoints': [{'n': 0, 'tx_index': 7415672288583675}],\n",
       "     'spent': True,\n",
       "     'tx_index': 1599189291504747,\n",
       "     'type': 0,\n",
       "     'value': 2547173}}],\n",
       "  'out': [{'type': 0,\n",
       "    'spent': False,\n",
       "    'value': 2541280,\n",
       "    'spending_outpoints': [],\n",
       "    'n': 0,\n",
       "    'tx_index': 7415672288583675,\n",
       "    'script': '76a914e5fc247c8f5f1036cd7df89c5c0ca7b0e50f613588ac',\n",
       "    'addr': '1My3o6jxycNtNbPN5BSRTB1kzUNx79ZYrJ'}]},\n",
       " {'hash': '9590dfc215a157408dcab762574841e5ca3545d5ef7e90efdcf9d0d75169829e',\n",
       "  'ver': 2,\n",
       "  'vin_sz': 5,\n",
       "  'vout_sz': 2,\n",
       "  'size': 817,\n",
       "  'weight': 1648,\n",
       "  'fee': 19997,\n",
       "  'relayed_by': '0.0.0.0',\n",
       "  'lock_time': 0,\n",
       "  'tx_index': 5577054397069855,\n",
       "  'double_spend': False,\n",
       "  'time': 1670007495,\n",
       "  'block_index': None,\n",
       "  'block_height': None,\n",
       "  'inputs': [{'sequence': 4294967295,\n",
       "    'witness': '02473044022060edbbdce0c38ed5614b6bdf7b7345eda06f4f6458af758972370b795c2f21ac02202c3d0afa78973d8d4d1048bd30a255fc4673c3df78b33960dd6cc67585933a78012103ab08661c327985656e326440348fb286dab459a1884bc6f3de864bea6702a5b4',\n",
       "    'script': '',\n",
       "    'index': 0,\n",
       "    'prev_out': {'addr': 'bc1qvymyvqngx6l765nkrv9l3xwrs0uj0vr2y5gtxq',\n",
       "     'n': 0,\n",
       "     'script': '0014613646026836bfed52761b0bf899c383f927b06a',\n",
       "     'spending_outpoints': [{'n': 0, 'tx_index': 5577054397069855}],\n",
       "     'spent': True,\n",
       "     'tx_index': 6913687869366642,\n",
       "     'type': 0,\n",
       "     'value': 106577}},\n",
       "   {'sequence': 4294967295,\n",
       "    'witness': '0247304402201cc624e949e5640deaa7cdead55e0254adaae0168b6b2e2797aa3e7d6f3a9d720220034ef9f1cc8babddd654a60153cdf5ddcf3464340ad6b3f4b27af75c108b973401210248b0f423e3d5487ebae7e3420e74789990be28152c8fd0c69185af67cf5dbd28',\n",
       "    'script': '',\n",
       "    'index': 1,\n",
       "    'prev_out': {'addr': 'bc1q85d6yt4s9szsuy7zs9fcqu2vm8tg6dhm3kn88g',\n",
       "     'n': 1,\n",
       "     'script': '00143d1ba22eb02c050e13c2815380714cd9d68d36fb',\n",
       "     'spending_outpoints': [{'n': 1, 'tx_index': 5577054397069855}],\n",
       "     'spent': True,\n",
       "     'tx_index': 6548952165449422,\n",
       "     'type': 0,\n",
       "     'value': 87067}},\n",
       "   {'sequence': 4294967295,\n",
       "    'witness': '02483045022100ac2369de9cd4fca14d004c23b87d01157ee50d209c60b0c3141109b31c9e59f2022036868eb29805bafbe4b417fc31d6bc483f5a19b694121bbc00040f770bcaabd501210248b0f423e3d5487ebae7e3420e74789990be28152c8fd0c69185af67cf5dbd28',\n",
       "    'script': '',\n",
       "    'index': 2,\n",
       "    'prev_out': {'addr': 'bc1q85d6yt4s9szsuy7zs9fcqu2vm8tg6dhm3kn88g',\n",
       "     'n': 8,\n",
       "     'script': '00143d1ba22eb02c050e13c2815380714cd9d68d36fb',\n",
       "     'spending_outpoints': [{'n': 2, 'tx_index': 5577054397069855}],\n",
       "     'spent': True,\n",
       "     'tx_index': 2744758586095115,\n",
       "     'type': 0,\n",
       "     'value': 90934}},\n",
       "   {'sequence': 4294967295,\n",
       "    'witness': '02483045022100bee262840a724b2336d269024291729fe792907f1a741fbe1a89e3b3db3be42b02200c2c1e9a746d5e2660d5c41a1563d6faf99af145106b784203cca2cf8dee57a401210241378a34da24166d47fd56356b8f052287aedbd7ad5c8909cadc40564d1780e4',\n",
       "    'script': '',\n",
       "    'index': 3,\n",
       "    'prev_out': {'addr': 'bc1qda9rwa8t5n5p0jtthvxnxy3yw9klz42kswxhxe',\n",
       "     'n': 0,\n",
       "     'script': '00146f4a3774eba4e817c96bbb0d331224716df15556',\n",
       "     'spending_outpoints': [{'n': 3, 'tx_index': 5577054397069855}],\n",
       "     'spent': True,\n",
       "     'tx_index': 7546304993386759,\n",
       "     'type': 0,\n",
       "     'value': 38392}},\n",
       "   {'sequence': 4294967295,\n",
       "    'witness': '02483045022100c26ba5a1149d9a71d0be5a56ccfbf4768f4833021b1250df0b79098d3fb55ff30220533fc7db0db0d2c5a2eba7d55f9c048bd7cfb9085563c066171d1bf8a013b8cc01210248b0f423e3d5487ebae7e3420e74789990be28152c8fd0c69185af67cf5dbd28',\n",
       "    'script': '',\n",
       "    'index': 4,\n",
       "    'prev_out': {'addr': 'bc1q85d6yt4s9szsuy7zs9fcqu2vm8tg6dhm3kn88g',\n",
       "     'n': 1,\n",
       "     'script': '00143d1ba22eb02c050e13c2815380714cd9d68d36fb',\n",
       "     'spending_outpoints': [{'n': 4, 'tx_index': 5577054397069855}],\n",
       "     'spent': True,\n",
       "     'tx_index': 3104181923230951,\n",
       "     'type': 0,\n",
       "     'value': 99554}}],\n",
       "  'out': [{'type': 0,\n",
       "    'spent': False,\n",
       "    'value': 356263,\n",
       "    'spending_outpoints': [],\n",
       "    'n': 0,\n",
       "    'tx_index': 5577054397069855,\n",
       "    'script': '00148b1ab32e94e81a4cc240ad43c85b0ff39a2d5529',\n",
       "    'addr': 'bc1q3vdtxt55aqdyesjq44puskc07wdz64fflzsayg'},\n",
       "   {'type': 0,\n",
       "    'spent': False,\n",
       "    'value': 46264,\n",
       "    'spending_outpoints': [],\n",
       "    'n': 1,\n",
       "    'tx_index': 5577054397069855,\n",
       "    'script': '001428eb8ecc6804463388af1f2a36f1b6381b94f66a',\n",
       "    'addr': 'bc1q9r4canrgq3rr8z90ru4rdudk8qdefan2cvch4c'}]}]"
      ]
     },
     "metadata": {},
     "output_type": "display_data"
    }
   ],
   "source": [
    "data = data[\"txs\"]\n",
    "display(len(data))\n",
    "display(data[:3])"
   ]
  },
  {
   "cell_type": "code",
   "execution_count": 6,
   "id": "cfe2fbba",
   "metadata": {
    "ExecuteTime": {
     "end_time": "2022-12-02T18:58:23.244547Z",
     "start_time": "2022-12-02T18:58:23.235617Z"
    }
   },
   "outputs": [
    {
     "data": {
      "text/plain": [
       "{'hash': 'a8fa7529c13d1f5326c886f7b625ebca5c12580d840e38f6197ec65ecd2b22e7',\n",
       " 'ver': 2,\n",
       " 'vin_sz': 1,\n",
       " 'vout_sz': 10,\n",
       " 'size': 478,\n",
       " 'weight': 1585,\n",
       " 'fee': 13895,\n",
       " 'relayed_by': '0.0.0.0',\n",
       " 'lock_time': 765628,\n",
       " 'tx_index': 8132286393080015,\n",
       " 'double_spend': False,\n",
       " 'time': 1670007495,\n",
       " 'block_index': None,\n",
       " 'block_height': None,\n",
       " 'inputs': [{'sequence': 4294967293,\n",
       "   'witness': '02473044022075ccd346118b98309cb7bf5f0a80a65d7e88e3afceb4d2bea0bda5d62a0452b50220043eaa91fd3cda7059642dbc296b91628090213ac03a81bf04aea4792bf0439e01210249ab7379661713397d28790fa033ad4121f32d1d2feede336ff1fc1b5fc469ec',\n",
       "   'script': '',\n",
       "   'index': 0,\n",
       "   'prev_out': {'addr': 'bc1qy9xkdpptchr0phkgum67vu0kl45e6jd43wvzyr',\n",
       "    'n': 4,\n",
       "    'script': '0014214d66842bc5c6f0dec8e6f5e671f6fd699d49b5',\n",
       "    'spending_outpoints': [{'n': 0, 'tx_index': 8132286393080015}],\n",
       "    'spent': True,\n",
       "    'tx_index': 572515243033248,\n",
       "    'type': 0,\n",
       "    'value': 33036167}}],\n",
       " 'out': [{'type': 0,\n",
       "   'spent': False,\n",
       "   'value': 198333,\n",
       "   'spending_outpoints': [],\n",
       "   'n': 0,\n",
       "   'tx_index': 8132286393080015,\n",
       "   'script': '76a91476f57e22b4d12a48755d2a247eff28c3c47fa04388ac',\n",
       "   'addr': '1BqzpmbvqJ7uvRBgaFfCeauqzJWCCdGhmy'},\n",
       "  {'type': 0,\n",
       "   'spent': False,\n",
       "   'value': 2283505,\n",
       "   'spending_outpoints': [],\n",
       "   'n': 1,\n",
       "   'tx_index': 8132286393080015,\n",
       "   'script': '0014bbbf5cb1fe6df385ce93d7628337d2056f65a855',\n",
       "   'addr': 'bc1qhwl4ev07dhectn5n6a3gxd7jq4hkt2z4z3kxym'},\n",
       "  {'type': 0,\n",
       "   'spent': False,\n",
       "   'value': 28980736,\n",
       "   'spending_outpoints': [],\n",
       "   'n': 2,\n",
       "   'tx_index': 8132286393080015,\n",
       "   'script': '0014e40fb1fc100015d5ab57bfdf6a87a1da51163f41',\n",
       "   'addr': 'bc1qus8mrlqsqq2at26hhl0k4papmfg3v06pz6pedc'},\n",
       "  {'type': 0,\n",
       "   'spent': False,\n",
       "   'value': 477500,\n",
       "   'spending_outpoints': [],\n",
       "   'n': 3,\n",
       "   'tx_index': 8132286393080015,\n",
       "   'script': 'a914663eb96eace78fa6d288fca22bbc99fa6ccee30c87',\n",
       "   'addr': '3B1dzGsB8TwXxfDfFdNVN2dZnbfwVYCqvT'},\n",
       "  {'type': 0,\n",
       "   'spent': False,\n",
       "   'value': 304814,\n",
       "   'spending_outpoints': [],\n",
       "   'n': 4,\n",
       "   'tx_index': 8132286393080015,\n",
       "   'script': '76a91414a3c1809160aaaaf4e73525581c8e6de89700af88ac',\n",
       "   'addr': '12t8go3Jivj5gLcKwKc48mhw2jjkr8cvbg'},\n",
       "  {'type': 0,\n",
       "   'spent': False,\n",
       "   'value': 40480,\n",
       "   'spending_outpoints': [],\n",
       "   'n': 5,\n",
       "   'tx_index': 8132286393080015,\n",
       "   'script': '001411770337bc28bc455094f475d9e50caa5a1f4e0b',\n",
       "   'addr': 'bc1qz9msxdau9z7y25y5736anegv4fdp7nst9x02g5'},\n",
       "  {'type': 0,\n",
       "   'spent': False,\n",
       "   'value': 234986,\n",
       "   'spending_outpoints': [],\n",
       "   'n': 6,\n",
       "   'tx_index': 8132286393080015,\n",
       "   'script': 'a91416eba988ae6df1a2e43f3a37b69304abbc7475e687',\n",
       "   'addr': '33nD6s3Ys6DhK6BPue5id8NhipSaASwG61'},\n",
       "  {'type': 0,\n",
       "   'spent': False,\n",
       "   'value': 89133,\n",
       "   'spending_outpoints': [],\n",
       "   'n': 7,\n",
       "   'tx_index': 8132286393080015,\n",
       "   'script': '0014b5f7ace473b58eccc60592c3ba63027d7a119f59',\n",
       "   'addr': 'bc1qkhm6eernkk8ve3s9jtpm5ccz04apr86e56ltv0'},\n",
       "  {'type': 0,\n",
       "   'spent': False,\n",
       "   'value': 267218,\n",
       "   'spending_outpoints': [],\n",
       "   'n': 8,\n",
       "   'tx_index': 8132286393080015,\n",
       "   'script': '00147e993e8b62124a0c0e43daffa3ddb1f619152e13',\n",
       "   'addr': 'bc1q06vnazmzzf9qcrjrmtl68hd37cv32tsna5ftut'},\n",
       "  {'type': 0,\n",
       "   'spent': False,\n",
       "   'value': 145567,\n",
       "   'spending_outpoints': [],\n",
       "   'n': 9,\n",
       "   'tx_index': 8132286393080015,\n",
       "   'script': '0014441c7d6897fb6d387538f66edc251220ce1a68ee',\n",
       "   'addr': 'bc1qgsw866yhldknsafc7ehdcfgjyr8p568whd9v2k'}],\n",
       " 'rbf': True}"
      ]
     },
     "metadata": {},
     "output_type": "display_data"
    }
   ],
   "source": [
    "display(data[0])"
   ]
  },
  {
   "cell_type": "markdown",
   "id": "908376c3",
   "metadata": {},
   "source": [
    "### Comment"
   ]
  },
  {
   "cell_type": "markdown",
   "id": "f0ec6690",
   "metadata": {},
   "source": [
    "- It seems like only the latest 100 transactions is returned through REST\n",
    "- The time of the transaction is not recorded\n",
    "- `value` can be stored in satoshi or this is not related to monetary value.\n",
    "- There is no API endpoint for ETH, but it can be scraped from their website:\n",
    "https://www.blockchain.com/eth/unconfirmed-transactions\n",
    "- In general, it seems like this data is meant to be received from websocket API"
   ]
  },
  {
   "cell_type": "markdown",
   "id": "1771252a",
   "metadata": {},
   "source": [
    "## Chart data"
   ]
  },
  {
   "cell_type": "markdown",
   "id": "6db57404",
   "metadata": {},
   "source": [
    "Data from charts found in https://www.blockchain.com/explorer/charts\n",
    "\n",
    "An example is given for Estimated Transaction Value on BTC blockchain:\n",
    "https://www.blockchain.com/explorer/charts/estimated-transaction-volume-usd"
   ]
  },
  {
   "cell_type": "code",
   "execution_count": 7,
   "id": "f5ec73c7",
   "metadata": {
    "ExecuteTime": {
     "end_time": "2022-12-02T18:58:23.564908Z",
     "start_time": "2022-12-02T18:58:23.247175Z"
    }
   },
   "outputs": [
    {
     "data": {
      "text/plain": [
       "'<!DOCTYPE html><html lang=\"en\"><head><meta name=\"viewport\" content=\"width=device-width\"/><meta charSet=\"utf-8\"/><title>Blockchain.com | Charts - Unknown Chart</title><meta name=\"apple-mobile-web-app-capable\" content=\"yes\"/><meta content=\"block explorer, bitcoin explorer, blockchain explorer, transac'"
      ]
     },
     "execution_count": 7,
     "metadata": {},
     "output_type": "execute_result"
    }
   ],
   "source": [
    "api_url = (\n",
    "    \"https://blockchain.info/charts/$estimated-transaction-volume-usd?format=json\"\n",
    ")\n",
    "response = requests.get(api_url)\n",
    "response.text[:300]"
   ]
  },
  {
   "cell_type": "code",
   "execution_count": 8,
   "id": "176e26f9",
   "metadata": {
    "ExecuteTime": {
     "end_time": "2022-12-02T18:58:23.870686Z",
     "start_time": "2022-12-02T18:58:23.567621Z"
    }
   },
   "outputs": [
    {
     "data": {
      "text/plain": [
       "'<!DOCTYPE html><html lang=\"en\"><head><meta name=\"viewport\" content=\"width=device-width\"/><meta charSet=\"utf-8\"/><title>Blockchain.com | Charts - Unknown Chart</title><meta name=\"apple-mobile-web-app-capable\" content=\"yes\"/><meta content=\"block explorer, bitcoin explorer, blockchain explorer, transac'"
      ]
     },
     "execution_count": 8,
     "metadata": {},
     "output_type": "execute_result"
    }
   ],
   "source": [
    "api_url = \"https://blockchain.info/charts/$market-price?format=json\"\n",
    "response = requests.get(api_url)\n",
    "response.text[:300]"
   ]
  },
  {
   "cell_type": "markdown",
   "id": "a0dc74d5",
   "metadata": {},
   "source": [
    "### Comment"
   ]
  },
  {
   "cell_type": "markdown",
   "id": "4cbdbac2",
   "metadata": {},
   "source": [
    "- The API instructions are not clear - the requests return only the HTML page of the chart in question, although the page itself has a JSON download. Probably a different API should be used."
   ]
  },
  {
   "cell_type": "markdown",
   "id": "0a69af5a",
   "metadata": {},
   "source": [
    "# Query API"
   ]
  },
  {
   "cell_type": "markdown",
   "id": "599abb00",
   "metadata": {
    "ExecuteTime": {
     "end_time": "2022-12-02T17:35:49.140508Z",
     "start_time": "2022-12-02T17:35:49.136880Z"
    }
   },
   "source": [
    "https://www.blockchain.com/explorer/api/q"
   ]
  },
  {
   "cell_type": "markdown",
   "id": "7726ca9c",
   "metadata": {},
   "source": [
    "Not described here due to limitations:\n",
    "- Too few endpoints of which all are plaintext;\n",
    "- A limit to 1 request per 10 seconds"
   ]
  },
  {
   "cell_type": "markdown",
   "id": "0b6edb1f",
   "metadata": {},
   "source": [
    "# Blockchain.com Explorer API (Websocket)"
   ]
  },
  {
   "cell_type": "markdown",
   "id": "3526fe58",
   "metadata": {},
   "source": [
    "https://www.blockchain.com/explorer/api/api_websocket"
   ]
  },
  {
   "cell_type": "markdown",
   "id": "699eb2b0",
   "metadata": {},
   "source": [
    "Not described here due to issues with running websocket/asyncio in jupyter notebook environment.\n",
    "\n",
    "TODO(Danya): Should we update the `websockets` library?"
   ]
  },
  {
   "cell_type": "code",
   "execution_count": 9,
   "id": "9dec2aac",
   "metadata": {
    "ExecuteTime": {
     "end_time": "2022-12-02T18:58:23.877987Z",
     "start_time": "2022-12-02T18:58:23.875484Z"
    }
   },
   "outputs": [],
   "source": [
    "# api_endpoint = \"wss://ws.blockchain.info/inv\"\n",
    "# # ws = websocket.WebSocket()\n",
    "# # ws.connect(api_endpoint)\n",
    "# with contextlib.closing(websocket.create_connection(\"wss://ws.blockchain.info/inv\")) as conn:\n",
    "#     print(conn.recv_data())"
   ]
  },
  {
   "cell_type": "markdown",
   "id": "63518c14",
   "metadata": {},
   "source": [
    "# Exchange Rates API"
   ]
  },
  {
   "cell_type": "markdown",
   "id": "6518bd9d",
   "metadata": {},
   "source": [
    "https://www.blockchain.com/explorer/api/exchange_rates_api"
   ]
  },
  {
   "cell_type": "code",
   "execution_count": 10,
   "id": "614c6cc2",
   "metadata": {
    "ExecuteTime": {
     "end_time": "2022-12-02T18:58:23.950534Z",
     "start_time": "2022-12-02T18:58:23.880306Z"
    }
   },
   "outputs": [],
   "source": [
    "api_url = \"https://blockchain.info/ticker\"\n",
    "response = requests.get(api_url)\n",
    "data = response.json()"
   ]
  },
  {
   "cell_type": "code",
   "execution_count": 11,
   "id": "25acd398",
   "metadata": {
    "ExecuteTime": {
     "end_time": "2022-12-02T18:58:23.957397Z",
     "start_time": "2022-12-02T18:58:23.953207Z"
    }
   },
   "outputs": [
    {
     "data": {
      "text/plain": [
       "28"
      ]
     },
     "metadata": {},
     "output_type": "display_data"
    }
   ],
   "source": [
    "display(len(data.keys()))"
   ]
  },
  {
   "cell_type": "code",
   "execution_count": 12,
   "id": "9cecfff5",
   "metadata": {
    "ExecuteTime": {
     "end_time": "2022-12-02T18:58:23.968576Z",
     "start_time": "2022-12-02T18:58:23.959650Z"
    }
   },
   "outputs": [
    {
     "data": {
      "text/plain": [
       "{'ARS': {'15m': 5370929.75,\n",
       "  'last': 5370929.75,\n",
       "  'buy': 5370929.75,\n",
       "  'sell': 5370929.75,\n",
       "  'symbol': 'ARS'},\n",
       " 'AUD': {'15m': 24879.88,\n",
       "  'last': 24879.88,\n",
       "  'buy': 24879.88,\n",
       "  'sell': 24879.88,\n",
       "  'symbol': 'AUD'},\n",
       " 'BRL': {'15m': 89090.5,\n",
       "  'last': 89090.5,\n",
       "  'buy': 89090.5,\n",
       "  'sell': 89090.5,\n",
       "  'symbol': 'BRL'},\n",
       " 'CAD': {'15m': 22825.02,\n",
       "  'last': 22825.02,\n",
       "  'buy': 22825.02,\n",
       "  'sell': 22825.02,\n",
       "  'symbol': 'CAD'},\n",
       " 'CHF': {'15m': 15863.73,\n",
       "  'last': 15863.73,\n",
       "  'buy': 15863.73,\n",
       "  'sell': 15863.73,\n",
       "  'symbol': 'CHF'},\n",
       " 'CLP': {'15m': 15222541.71,\n",
       "  'last': 15222541.71,\n",
       "  'buy': 15222541.71,\n",
       "  'sell': 15222541.71,\n",
       "  'symbol': 'CLP'},\n",
       " 'CNY': {'15m': 125012.44,\n",
       "  'last': 125012.44,\n",
       "  'buy': 125012.44,\n",
       "  'sell': 125012.44,\n",
       "  'symbol': 'CNY'},\n",
       " 'CZK': {'15m': 393552.16,\n",
       "  'last': 393552.16,\n",
       "  'buy': 393552.16,\n",
       "  'sell': 393552.16,\n",
       "  'symbol': 'CZK'},\n",
       " 'DKK': {'15m': 156296.0,\n",
       "  'last': 156296.0,\n",
       "  'buy': 156296.0,\n",
       "  'sell': 156296.0,\n",
       "  'symbol': 'DKK'},\n",
       " 'EUR': {'15m': 16125.94,\n",
       "  'last': 16125.94,\n",
       "  'buy': 16125.94,\n",
       "  'sell': 16125.94,\n",
       "  'symbol': 'EUR'},\n",
       " 'GBP': {'15m': 13809.18,\n",
       "  'last': 13809.18,\n",
       "  'buy': 13809.18,\n",
       "  'sell': 13809.18,\n",
       "  'symbol': 'GBP'},\n",
       " 'HKD': {'15m': 132083.27,\n",
       "  'last': 132083.27,\n",
       "  'buy': 132083.27,\n",
       "  'sell': 132083.27,\n",
       "  'symbol': 'HKD'},\n",
       " 'HRK': {'15m': 127786.2,\n",
       "  'last': 127786.2,\n",
       "  'buy': 127786.2,\n",
       "  'sell': 127786.2,\n",
       "  'symbol': 'HRK'},\n",
       " 'HUF': {'15m': 7655619.54,\n",
       "  'last': 7655619.54,\n",
       "  'buy': 7655619.54,\n",
       "  'sell': 7655619.54,\n",
       "  'symbol': 'HUF'},\n",
       " 'INR': {'15m': 1373578.86,\n",
       "  'last': 1373578.86,\n",
       "  'buy': 1373578.86,\n",
       "  'sell': 1373578.86,\n",
       "  'symbol': 'INR'},\n",
       " 'ISK': {'15m': 2558479.52,\n",
       "  'last': 2558479.52,\n",
       "  'buy': 2558479.52,\n",
       "  'sell': 2558479.52,\n",
       "  'symbol': 'ISK'},\n",
       " 'JPY': {'15m': 2291934.08,\n",
       "  'last': 2291934.08,\n",
       "  'buy': 2291934.08,\n",
       "  'sell': 2291934.08,\n",
       "  'symbol': 'JPY'},\n",
       " 'KRW': {'15m': 22804798.7,\n",
       "  'last': 22804798.7,\n",
       "  'buy': 22804798.7,\n",
       "  'sell': 22804798.7,\n",
       "  'symbol': 'KRW'},\n",
       " 'NZD': {'15m': 26515.83,\n",
       "  'last': 26515.83,\n",
       "  'buy': 26515.83,\n",
       "  'sell': 26515.83,\n",
       "  'symbol': 'NZD'},\n",
       " 'PLN': {'15m': 75827.91,\n",
       "  'last': 75827.91,\n",
       "  'buy': 75827.91,\n",
       "  'sell': 75827.91,\n",
       "  'symbol': 'PLN'},\n",
       " 'RON': {'15m': 75385.79,\n",
       "  'last': 75385.79,\n",
       "  'buy': 75385.79,\n",
       "  'sell': 75385.79,\n",
       "  'symbol': 'RON'},\n",
       " 'RUB': {'15m': 1049170.88,\n",
       "  'last': 1049170.88,\n",
       "  'buy': 1049170.88,\n",
       "  'sell': 1049170.88,\n",
       "  'symbol': 'RUB'},\n",
       " 'SEK': {'15m': 175296.83,\n",
       "  'last': 175296.83,\n",
       "  'buy': 175296.83,\n",
       "  'sell': 175296.83,\n",
       "  'symbol': 'SEK'},\n",
       " 'SGD': {'15m': 23101.2,\n",
       "  'last': 23101.2,\n",
       "  'buy': 23101.2,\n",
       "  'sell': 23101.2,\n",
       "  'symbol': 'SGD'},\n",
       " 'THB': {'15m': 593009.63,\n",
       "  'last': 593009.63,\n",
       "  'buy': 593009.63,\n",
       "  'sell': 593009.63,\n",
       "  'symbol': 'THB'},\n",
       " 'TRY': {'15m': 321517.37,\n",
       "  'last': 321517.37,\n",
       "  'buy': 321517.37,\n",
       "  'sell': 321517.37,\n",
       "  'symbol': 'TRY'},\n",
       " 'TWD': {'15m': 929813.95,\n",
       "  'last': 929813.95,\n",
       "  'buy': 929813.95,\n",
       "  'sell': 929813.95,\n",
       "  'symbol': 'TWD'},\n",
       " 'USD': {'15m': 16957.67,\n",
       "  'last': 16957.67,\n",
       "  'buy': 16957.67,\n",
       "  'sell': 16957.67,\n",
       "  'symbol': 'USD'}}"
      ]
     },
     "metadata": {},
     "output_type": "display_data"
    }
   ],
   "source": [
    "display(data)"
   ]
  },
  {
   "cell_type": "code",
   "execution_count": 13,
   "id": "49f966e0",
   "metadata": {
    "ExecuteTime": {
     "end_time": "2022-12-02T18:58:24.060265Z",
     "start_time": "2022-12-02T18:58:23.971081Z"
    }
   },
   "outputs": [
    {
     "data": {
      "text/plain": [
       "0.00953038"
      ]
     },
     "metadata": {},
     "output_type": "display_data"
    }
   ],
   "source": [
    "api_url = \"https://blockchain.info/tobtc?currency=RUB&value=10000\"\n",
    "response = requests.get(api_url)\n",
    "data = response.json()\n",
    "display(data)"
   ]
  },
  {
   "cell_type": "markdown",
   "id": "a68633b6",
   "metadata": {},
   "source": [
    "### Comment"
   ]
  },
  {
   "cell_type": "markdown",
   "id": "ddc4c370",
   "metadata": {},
   "source": [
    "- A simple mechanism for exchanging BTC to fiat\n",
    "- Data goes back only 15m\n",
    "- In general, very limited"
   ]
  },
  {
   "cell_type": "markdown",
   "id": "f29578de",
   "metadata": {},
   "source": [
    "# Blockchain Charts & Statistics API"
   ]
  },
  {
   "cell_type": "markdown",
   "id": "b2e83262",
   "metadata": {},
   "source": [
    "https://www.blockchain.com/explorer/api/charts_api"
   ]
  },
  {
   "cell_type": "markdown",
   "id": "8717f1ec",
   "metadata": {},
   "source": [
    "## Charts data"
   ]
  },
  {
   "cell_type": "markdown",
   "id": "1e0a4b26",
   "metadata": {},
   "source": [
    "Data on charts found at https://www.blockchain.com/explorer/charts\n",
    "\n",
    "The example used is [Estimated Transaction Value (USD)](https://www.blockchain.com/explorer/charts/estimated-transaction-volume-usd)"
   ]
  },
  {
   "cell_type": "markdown",
   "id": "624d4a01",
   "metadata": {},
   "source": [
    "### Data with default parameters"
   ]
  },
  {
   "cell_type": "code",
   "execution_count": 14,
   "id": "f6fe89c5",
   "metadata": {
    "ExecuteTime": {
     "end_time": "2022-12-02T18:58:24.203353Z",
     "start_time": "2022-12-02T18:58:24.062724Z"
    }
   },
   "outputs": [
    {
     "data": {
      "text/plain": [
       "6"
      ]
     },
     "metadata": {},
     "output_type": "display_data"
    },
    {
     "data": {
      "text/plain": [
       "dict_keys(['status', 'name', 'unit', 'period', 'description', 'values'])"
      ]
     },
     "metadata": {},
     "output_type": "display_data"
    }
   ],
   "source": [
    "api_url = \"https://api.blockchain.info/charts/estimated-transaction-volume-usd\"\n",
    "response = requests.get(api_url)\n",
    "data = response.json()\n",
    "display(len(data.keys()))\n",
    "display(data.keys())"
   ]
  },
  {
   "cell_type": "code",
   "execution_count": 15,
   "id": "7a1a21ad",
   "metadata": {
    "ExecuteTime": {
     "end_time": "2022-12-02T18:58:24.235291Z",
     "start_time": "2022-12-02T18:58:24.205823Z"
    }
   },
   "outputs": [
    {
     "data": {
      "text/plain": [
       "{'status': 'ok',\n",
       " 'name': 'Estimated USD Transaction Value',\n",
       " 'unit': 'USD',\n",
       " 'period': 'day',\n",
       " 'description': 'The Estimated Transaction Value in USD value.',\n",
       " 'values': [{'x': 1638403200, 'y': 7681001473.682921},\n",
       "  {'x': 1638489600, 'y': 5995006290.502215},\n",
       "  {'x': 1638576000, 'y': 7581447200.454808},\n",
       "  {'x': 1638662400, 'y': 3421960961.3978696},\n",
       "  {'x': 1638748800, 'y': 7568392055.448132},\n",
       "  {'x': 1638835200, 'y': 6656838608.239965},\n",
       "  {'x': 1638921600, 'y': 6017762761.471306},\n",
       "  {'x': 1639008000, 'y': 7507375135.427462},\n",
       "  {'x': 1639094400, 'y': 4646748174.122106},\n",
       "  {'x': 1639267200, 'y': 1275484167.4894624},\n",
       "  {'x': 1639353600, 'y': 4853087723.234491},\n",
       "  {'x': 1639440000, 'y': 4698418162.43944},\n",
       "  {'x': 1639526400, 'y': 3686557930.097905},\n",
       "  {'x': 1639612800, 'y': 4310775515.150582},\n",
       "  {'x': 1639699200, 'y': 4982379395.599065},\n",
       "  {'x': 1639785600, 'y': 2953090166.838448},\n",
       "  {'x': 1639872000, 'y': 1192663841.0107796},\n",
       "  {'x': 1639958400, 'y': 5179702380.911862},\n",
       "  {'x': 1640131200, 'y': 4726284070.96699},\n",
       "  {'x': 1640217600, 'y': 6161478519.5308075},\n",
       "  {'x': 1640390400, 'y': 5400013382.068076},\n",
       "  {'x': 1640476800, 'y': 1467023519.278454},\n",
       "  {'x': 1640563200, 'y': 4021079891.0736294},\n",
       "  {'x': 1640649600, 'y': 4649088409.620785},\n",
       "  {'x': 1640736000, 'y': 6252375351.267551},\n",
       "  {'x': 1640822400, 'y': 4495058364.967323},\n",
       "  {'x': 1640908800, 'y': 8132766321.979922},\n",
       "  {'x': 1640995200, 'y': 2251115696.6149817},\n",
       "  {'x': 1641081600, 'y': 1452133098.9064906},\n",
       "  {'x': 1641168000, 'y': 2876707531.398016},\n",
       "  {'x': 1641254400, 'y': 6318179076.736239},\n",
       "  {'x': 1641340800, 'y': 4120168493.1743636},\n",
       "  {'x': 1641427200, 'y': 6001701242.969663},\n",
       "  {'x': 1641513600, 'y': 5738802120.501829},\n",
       "  {'x': 1641600000, 'y': 1793479669.1852403},\n",
       "  {'x': 1641686400, 'y': 1714179077.4363956},\n",
       "  {'x': 1641772800, 'y': 4284557316.178955},\n",
       "  {'x': 1641859200, 'y': 5047411626.824847},\n",
       "  {'x': 1641945600, 'y': 4190460072.2756243},\n",
       "  {'x': 1642032000, 'y': 4128979408.8463817},\n",
       "  {'x': 1642118400, 'y': 4033611360.8800573},\n",
       "  {'x': 1642204800, 'y': 1544258174.202277},\n",
       "  {'x': 1642291200, 'y': 1212228816.9349117},\n",
       "  {'x': 1642377600, 'y': 3617010045.4515376},\n",
       "  {'x': 1642464000, 'y': 3467788987.631183},\n",
       "  {'x': 1642550400, 'y': 6283645420.733321},\n",
       "  {'x': 1642636800, 'y': 4889817377.076394},\n",
       "  {'x': 1642723200, 'y': 9008771354.63786},\n",
       "  {'x': 1642809600, 'y': 5255522709.505004},\n",
       "  {'x': 1642896000, 'y': 2570198094.106021},\n",
       "  {'x': 1642982400, 'y': 7041455187.922009},\n",
       "  {'x': 1643068800, 'y': 4793129267.316919},\n",
       "  {'x': 1643155200, 'y': 4724487375.564173},\n",
       "  {'x': 1643241600, 'y': 5371981515.875196},\n",
       "  {'x': 1643328000, 'y': 4157373396.2608657},\n",
       "  {'x': 1643414400, 'y': 4795236874.619529},\n",
       "  {'x': 1643500800, 'y': 6463007675.5186},\n",
       "  {'x': 1643587200, 'y': 4888913631.257135},\n",
       "  {'x': 1643673600, 'y': 8106321716.426824},\n",
       "  {'x': 1643760000, 'y': 2772975354.8362947},\n",
       "  {'x': 1643846400, 'y': 3817962311.6168633},\n",
       "  {'x': 1643932800, 'y': 4038621760.862401},\n",
       "  {'x': 1644019200, 'y': 3223821586.2602415},\n",
       "  {'x': 1644105600, 'y': 1779702571.4899006},\n",
       "  {'x': 1644192000, 'y': 5383799346.894287},\n",
       "  {'x': 1644278400, 'y': 5859754859.502207},\n",
       "  {'x': 1644364800, 'y': 3696031097.5932536},\n",
       "  {'x': 1644451200, 'y': 5445221748.908677},\n",
       "  {'x': 1644537600, 'y': 6311800630.988444},\n",
       "  {'x': 1644624000, 'y': 2253577642.102851},\n",
       "  {'x': 1644710400, 'y': 1353922240.451119},\n",
       "  {'x': 1644796800, 'y': 3738130873.146192},\n",
       "  {'x': 1644883200, 'y': 5996275894.199901},\n",
       "  {'x': 1644969600, 'y': 3802128926.759299},\n",
       "  {'x': 1645056000, 'y': 3727008285.934386},\n",
       "  {'x': 1645142400, 'y': 4086558916.785429},\n",
       "  {'x': 1645228800, 'y': 1623004423.9240785},\n",
       "  {'x': 1645315200, 'y': 1468226673.0557508},\n",
       "  {'x': 1645401600, 'y': 4035714191.610417},\n",
       "  {'x': 1645488000, 'y': 3543912810.2535915},\n",
       "  {'x': 1645574400, 'y': 3017861449.2149425},\n",
       "  {'x': 1645660800, 'y': 6195394916.861324},\n",
       "  {'x': 1645747200, 'y': 5331044431.493843},\n",
       "  {'x': 1645833600, 'y': 2407133265.9638343},\n",
       "  {'x': 1645920000, 'y': 1844114530.6029348},\n",
       "  {'x': 1646006400, 'y': 6046602126.393123},\n",
       "  {'x': 1646092800, 'y': 6893627293.511368},\n",
       "  {'x': 1646179200, 'y': 5450897868.437432},\n",
       "  {'x': 1646265600, 'y': 4573611315.379651},\n",
       "  {'x': 1646352000, 'y': 5677847228.457849},\n",
       "  {'x': 1646438400, 'y': 1614301923.4661283},\n",
       "  {'x': 1646524800, 'y': 1221415770.8337603},\n",
       "  {'x': 1646611200, 'y': 4567257671.422741},\n",
       "  {'x': 1646697600, 'y': 3918673432.2063947},\n",
       "  {'x': 1646784000, 'y': 6199177258.927656},\n",
       "  {'x': 1646870400, 'y': 4863647840.941094},\n",
       "  {'x': 1646956800, 'y': 5267029596.149032},\n",
       "  {'x': 1647043200, 'y': 1419859005.3521538},\n",
       "  {'x': 1647129600, 'y': 1439995804.8020916},\n",
       "  {'x': 1647216000, 'y': 3127649162.2382407},\n",
       "  {'x': 1647302400, 'y': 3536984794.9247446},\n",
       "  {'x': 1647388800, 'y': 4560772406.06279},\n",
       "  {'x': 1647475200, 'y': 6626010100.106291},\n",
       "  {'x': 1647561600, 'y': 5901502528.208304},\n",
       "  {'x': 1647648000, 'y': 2228834886.153519},\n",
       "  {'x': 1647734400, 'y': 1286402952.1416473},\n",
       "  {'x': 1647820800, 'y': 6292318394.145836},\n",
       "  {'x': 1647907200, 'y': 4455877254.227707},\n",
       "  {'x': 1647993600, 'y': 3963031462.550204},\n",
       "  {'x': 1648080000, 'y': 4246198423.515624},\n",
       "  {'x': 1648166400, 'y': 7477966817.127207},\n",
       "  {'x': 1648252800, 'y': 1885491261.55507},\n",
       "  {'x': 1648339200, 'y': 4081241680.3127346},\n",
       "  {'x': 1648425600, 'y': 7054190211.628341},\n",
       "  {'x': 1648512000, 'y': 7432137463.165101},\n",
       "  {'x': 1648598400, 'y': 5223175410.299848},\n",
       "  {'x': 1648684800, 'y': 7725089743.2688265},\n",
       "  {'x': 1648771200, 'y': 6420672356.962391},\n",
       "  {'x': 1648857600, 'y': 2491811084.6347647},\n",
       "  {'x': 1648944000, 'y': 2061001713.0147858},\n",
       "  {'x': 1649030400, 'y': 4927607024.269423},\n",
       "  {'x': 1649116800, 'y': 4109973025.185322},\n",
       "  {'x': 1649203200, 'y': 4973307102.4678755},\n",
       "  {'x': 1649289600, 'y': 4397281337.2992325},\n",
       "  {'x': 1649376000, 'y': 3214336086.8389087},\n",
       "  {'x': 1649462400, 'y': 2025819116.5886803},\n",
       "  {'x': 1649548800, 'y': 1859650890.1898177},\n",
       "  {'x': 1649635200, 'y': 5145118168.094051},\n",
       "  {'x': 1649721600, 'y': 3550344586.310289},\n",
       "  {'x': 1649808000, 'y': 3702852305.151144},\n",
       "  {'x': 1649894400, 'y': 6126220619.5982895},\n",
       "  {'x': 1649980800, 'y': 2508777341.1963906},\n",
       "  {'x': 1650067200, 'y': 1777062284.0750253},\n",
       "  {'x': 1650153600, 'y': 1246709618.6163137},\n",
       "  {'x': 1650240000, 'y': 3262749299.0192986},\n",
       "  {'x': 1650326400, 'y': 3752455855.7969346},\n",
       "  {'x': 1650412800, 'y': 5390335872.441646},\n",
       "  {'x': 1650499200, 'y': 9221622580.084011},\n",
       "  {'x': 1650585600, 'y': 3034892219.620398},\n",
       "  {'x': 1650672000, 'y': 1324626784.014653},\n",
       "  {'x': 1650758400, 'y': 1742817144.3961654},\n",
       "  {'x': 1650844800, 'y': 3754783006.1736846},\n",
       "  {'x': 1650931200, 'y': 4582894825.063292},\n",
       "  {'x': 1651017600, 'y': 4169765279.274275},\n",
       "  {'x': 1651104000, 'y': 4742383660.078528},\n",
       "  {'x': 1651190400, 'y': 4937991047.844668},\n",
       "  {'x': 1651276800, 'y': 1835325492.4708261},\n",
       "  {'x': 1651363200, 'y': 1690042804.5955749},\n",
       "  {'x': 1651449600, 'y': 4705106674.739815},\n",
       "  {'x': 1651536000, 'y': 5567418515.404906},\n",
       "  {'x': 1651622400, 'y': 5527403781.564573},\n",
       "  {'x': 1651708800, 'y': 7042747167.161246},\n",
       "  {'x': 1651795200, 'y': 6460559731.289358},\n",
       "  {'x': 1651881600, 'y': 2176974949.927244},\n",
       "  {'x': 1651968000, 'y': 4391326158.686935},\n",
       "  {'x': 1652054400, 'y': 14932580725.771221},\n",
       "  {'x': 1652140800, 'y': 10996659378.460312},\n",
       "  {'x': 1652227200, 'y': 12212415420.468674},\n",
       "  {'x': 1652313600, 'y': 12591985211.029484},\n",
       "  {'x': 1652400000, 'y': 6761962664.73493},\n",
       "  {'x': 1652486400, 'y': 4499178550.730882},\n",
       "  {'x': 1652572800, 'y': 2364626051.315557},\n",
       "  {'x': 1652659200, 'y': 5806992357.103736},\n",
       "  {'x': 1652745600, 'y': 5663926191.593393},\n",
       "  {'x': 1652832000, 'y': 4686908961.0082655},\n",
       "  {'x': 1652918400, 'y': 5002474733.237197},\n",
       "  {'x': 1653004800, 'y': 4929623686.819292},\n",
       "  {'x': 1653091200, 'y': 1464248134.8857608},\n",
       "  {'x': 1653177600, 'y': 1693623105.0447593},\n",
       "  {'x': 1653264000, 'y': 4939484942.570603},\n",
       "  {'x': 1653350400, 'y': 4517108862.027523},\n",
       "  {'x': 1653436800, 'y': 3514350504.7282414},\n",
       "  {'x': 1653523200, 'y': 4044772416.690988},\n",
       "  {'x': 1653609600, 'y': 4870838399.668383},\n",
       "  {'x': 1653696000, 'y': 1523894827.3321545},\n",
       "  {'x': 1653782400, 'y': 1417152774.2209327},\n",
       "  {'x': 1653868800, 'y': 3565732409.560262},\n",
       "  {'x': 1653955200, 'y': 5263021003.393884},\n",
       "  {'x': 1654041600, 'y': 6314626333.189133},\n",
       "  {'x': 1654128000, 'y': 3618792850.8776355},\n",
       "  {'x': 1654214400, 'y': 4251283075.0981903},\n",
       "  {'x': 1654300800, 'y': 1757094779.0007696},\n",
       "  {'x': 1654387200, 'y': 1540123226.9928355},\n",
       "  {'x': 1654473600, 'y': 5095285503.61707},\n",
       "  {'x': 1654560000, 'y': 4259209247.746276},\n",
       "  {'x': 1654646400, 'y': 3082029799.7370043},\n",
       "  {'x': 1654732800, 'y': 4372610134.024386},\n",
       "  {'x': 1654819200, 'y': 4046793102.939683},\n",
       "  {'x': 1654905600, 'y': 2694837263.3840175},\n",
       "  {'x': 1654992000, 'y': 3659361988.8007083},\n",
       "  {'x': 1655078400, 'y': 12462579881.445564},\n",
       "  {'x': 1655164800, 'y': 10990569683.083328},\n",
       "  {'x': 1655251200, 'y': 9897143640.083742},\n",
       "  {'x': 1655337600, 'y': 7109991512.203534},\n",
       "  {'x': 1655424000, 'y': 7921356377.946116},\n",
       "  {'x': 1655510400, 'y': 8496328973.902106},\n",
       "  {'x': 1655596800, 'y': 3068667429.006106},\n",
       "  {'x': 1655683200, 'y': 3817198453.166467},\n",
       "  {'x': 1655769600, 'y': 4422516356.572248},\n",
       "  {'x': 1655856000, 'y': 4390329667.811968},\n",
       "  {'x': 1655942400, 'y': 3082609509.484813},\n",
       "  {'x': 1656028800, 'y': 4160260072.480788},\n",
       "  {'x': 1656115200, 'y': 1389427160.3704894},\n",
       "  {'x': 1656201600, 'y': 858032632.7980883},\n",
       "  {'x': 1656288000, 'y': 4634269413.105559},\n",
       "  {'x': 1656374400, 'y': 2917809496.024267},\n",
       "  {'x': 1656460800, 'y': 4029772477.0700636},\n",
       "  {'x': 1656547200, 'y': 4201108881.3462367},\n",
       "  {'x': 1656633600, 'y': 4546355473.617748},\n",
       "  {'x': 1656720000, 'y': 1297140271.5816472},\n",
       "  {'x': 1656806400, 'y': 1321981862.8392267},\n",
       "  {'x': 1656892800, 'y': 1972142139.0050864},\n",
       "  {'x': 1656979200, 'y': 2225404516.1830726},\n",
       "  {'x': 1657065600, 'y': 3265960864.0146112},\n",
       "  {'x': 1657152000, 'y': 3226941641.1462502},\n",
       "  {'x': 1657238400, 'y': 3453731278.2904954},\n",
       "  {'x': 1657324800, 'y': 2217461123.425512},\n",
       "  {'x': 1657411200, 'y': 1077713609.741559},\n",
       "  {'x': 1657497600, 'y': 3083629594.6453485},\n",
       "  {'x': 1657584000, 'y': 2693606547.083132},\n",
       "  {'x': 1657670400, 'y': 2383177233.7305536},\n",
       "  {'x': 1657756800, 'y': 3350075175.695963},\n",
       "  {'x': 1657843200, 'y': 3883871138.0040417},\n",
       "  {'x': 1657929600, 'y': 1392874214.3324618},\n",
       "  {'x': 1658016000, 'y': 1903059654.775057},\n",
       "  {'x': 1658102400, 'y': 3392335964.2140756},\n",
       "  {'x': 1658188800, 'y': 4686873167.751223},\n",
       "  {'x': 1658275200, 'y': 3376687092.8781495},\n",
       "  {'x': 1658361600, 'y': 6542475947.197538},\n",
       "  {'x': 1658448000, 'y': 2968088068.9026737},\n",
       "  {'x': 1658534400, 'y': 1605649425.5929158},\n",
       "  {'x': 1658620800, 'y': 986955946.3014323},\n",
       "  {'x': 1658707200, 'y': 2240841200.856595},\n",
       "  {'x': 1658793600, 'y': 2529268854.929778},\n",
       "  {'x': 1658880000, 'y': 2043786368.01846},\n",
       "  {'x': 1658966400, 'y': 3762271329.7370615},\n",
       "  {'x': 1659052800, 'y': 3110903345.229869},\n",
       "  {'x': 1659139200, 'y': 1279164246.4561443},\n",
       "  {'x': 1659225600, 'y': 1438862646.8271215},\n",
       "  {'x': 1659312000, 'y': 2648018548.7209826},\n",
       "  {'x': 1659398400, 'y': 2412379200.6057954},\n",
       "  {'x': 1659484800, 'y': 2835680869.9736896},\n",
       "  {'x': 1659571200, 'y': 2162588110.938917},\n",
       "  {'x': 1659657600, 'y': 2233455342.127898},\n",
       "  {'x': 1659744000, 'y': 861842752.5742803},\n",
       "  {'x': 1659830400, 'y': 1123561072.3019845},\n",
       "  {'x': 1659916800, 'y': 2294099110.488635},\n",
       "  {'x': 1660003200, 'y': 2572928084.4797115},\n",
       "  {'x': 1660089600, 'y': 3582463514.5152545},\n",
       "  {'x': 1660176000, 'y': 2882199944.2436247},\n",
       "  {'x': 1660262400, 'y': 2439184815.0623903},\n",
       "  {'x': 1660348800, 'y': 1386200465.2578113},\n",
       "  {'x': 1660435200, 'y': 982849307.8036118},\n",
       "  {'x': 1660521600, 'y': 2486543315.2726755},\n",
       "  {'x': 1660608000, 'y': 2698602541.9688473},\n",
       "  {'x': 1660694400, 'y': 2992025085.7634916},\n",
       "  {'x': 1660780800, 'y': 2417721838.724551},\n",
       "  {'x': 1660867200, 'y': 3627489929.5612745},\n",
       "  {'x': 1660953600, 'y': 946263990.6468556},\n",
       "  {'x': 1661040000, 'y': 729684429.3867123},\n",
       "  {'x': 1661126400, 'y': 2363547456.2653685},\n",
       "  {'x': 1661212800, 'y': 1933412558.3110597},\n",
       "  {'x': 1661299200, 'y': 1805257439.5020328},\n",
       "  {'x': 1661385600, 'y': 2158452625.428465},\n",
       "  {'x': 1661472000, 'y': 2261441431.608619},\n",
       "  {'x': 1661558400, 'y': 1378816166.8416512},\n",
       "  {'x': 1661644800, 'y': 846944690.4889036},\n",
       "  {'x': 1661731200, 'y': 2049485398.2473187},\n",
       "  {'x': 1661817600, 'y': 3088297716.030527},\n",
       "  {'x': 1661904000, 'y': 3158897967.281669},\n",
       "  {'x': 1661990400, 'y': 2826592301.64455},\n",
       "  {'x': 1662076800, 'y': 2841992710.129957},\n",
       "  {'x': 1662163200, 'y': 879894659.7350975},\n",
       "  {'x': 1662249600, 'y': 1061944387.4621817},\n",
       "  {'x': 1662336000, 'y': 2108564796.6818683},\n",
       "  {'x': 1662422400, 'y': 3297609881.85563},\n",
       "  {'x': 1662508800, 'y': 2541455673.941922},\n",
       "  {'x': 1662595200, 'y': 2474305281.4342155},\n",
       "  {'x': 1662681600, 'y': 3189528071.2113605},\n",
       "  {'x': 1662768000, 'y': 1198401082.0638466},\n",
       "  {'x': 1662854400, 'y': 1050210815.9310844},\n",
       "  {'x': 1662940800, 'y': 2667188471.304402},\n",
       "  {'x': 1663027200, 'y': 3305786865.7575417},\n",
       "  {'x': 1663113600, 'y': 2626909249.0787134},\n",
       "  {'x': 1663200000, 'y': 2092789197.2823946},\n",
       "  {'x': 1663286400, 'y': 1962561324.819881},\n",
       "  {'x': 1663372800, 'y': 1089606552.5209684},\n",
       "  {'x': 1663459200, 'y': 807694674.9715831},\n",
       "  {'x': 1663545600, 'y': 2970259317.4220386},\n",
       "  {'x': 1663632000, 'y': 2717351706.3375545},\n",
       "  {'x': 1663718400, 'y': 2239450838.1861763},\n",
       "  {'x': 1663804800, 'y': 2210473679.6390266},\n",
       "  {'x': 1663891200, 'y': 2446313226.405114},\n",
       "  {'x': 1663977600, 'y': 699317517.3886788},\n",
       "  {'x': 1664064000, 'y': 817600603.2540488},\n",
       "  {'x': 1664150400, 'y': 1851841537.4975586},\n",
       "  {'x': 1664236800, 'y': 3180479746.765458},\n",
       "  {'x': 1664323200, 'y': 2710524700.147913},\n",
       "  {'x': 1664409600, 'y': 4122653170.856393},\n",
       "  {'x': 1664496000, 'y': 3332833908.4582715},\n",
       "  {'x': 1664582400, 'y': 1129631640.2910287},\n",
       "  {'x': 1664668800, 'y': 798931959.4859155},\n",
       "  {'x': 1664755200, 'y': 2248298045.0180764},\n",
       "  {'x': 1664841600, 'y': 2313129003.749914},\n",
       "  {'x': 1664928000, 'y': 2788889389.9968886},\n",
       "  {'x': 1665014400, 'y': 2029020482.26716},\n",
       "  {'x': 1665100800, 'y': 2979008361.5673966},\n",
       "  {'x': 1665187200, 'y': 891595342.2797585},\n",
       "  {'x': 1665273600, 'y': 700741117.6826907},\n",
       "  {'x': 1665360000, 'y': 1310563231.2162657},\n",
       "  {'x': 1665446400, 'y': 2173820182.1836033},\n",
       "  {'x': 1665532800, 'y': 2086811717.5881875},\n",
       "  {'x': 1665619200, 'y': 2403635798.2811112},\n",
       "  {'x': 1665705600, 'y': 2335762972.911618},\n",
       "  {'x': 1665792000, 'y': 946841174.6741695},\n",
       "  {'x': 1665878400, 'y': 699358774.9119637},\n",
       "  {'x': 1665964800, 'y': 2043650927.987136},\n",
       "  {'x': 1666051200, 'y': 2990446419.475771},\n",
       "  {'x': 1666137600, 'y': 2197621700.887798},\n",
       "  {'x': 1666224000, 'y': 1790440267.6969275},\n",
       "  {'x': 1666310400, 'y': 1556397811.0604718},\n",
       "  {'x': 1666396800, 'y': 986726492.5600873},\n",
       "  {'x': 1666483200, 'y': 863875132.0819519},\n",
       "  {'x': 1666569600, 'y': 1942021342.2147148},\n",
       "  {'x': 1666656000, 'y': 2029922329.8604708},\n",
       "  {'x': 1666742400, 'y': 4840001389.030845},\n",
       "  {'x': 1666828800, 'y': 2744026771.3671246},\n",
       "  {'x': 1666915200, 'y': 2120803275.9058766},\n",
       "  {'x': 1667001600, 'y': 1370810442.8355875},\n",
       "  {'x': 1667088000, 'y': 862100447.192454},\n",
       "  {'x': 1667174400, 'y': 2733690209.9784727},\n",
       "  {'x': 1667260800, 'y': 2591653015.966983},\n",
       "  {'x': 1667347200, 'y': 2385280093.312358},\n",
       "  {'x': 1667433600, 'y': 2064861958.308632},\n",
       "  {'x': 1667520000, 'y': 4952741205.334531},\n",
       "  {'x': 1667606400, 'y': 1405293791.173831},\n",
       "  {'x': 1667692800, 'y': 1500762814.556163},\n",
       "  {'x': 1667779200, 'y': 3854033179.2232313},\n",
       "  {'x': 1667865600, 'y': 5247264405.265705},\n",
       "  {'x': 1667952000, 'y': 6268866124.602172},\n",
       "  {'x': 1668038400, 'y': 5450942995.332227},\n",
       "  {'x': 1668124800, 'y': 5098440479.49329},\n",
       "  {'x': 1668211200, 'y': 2961978333.8520007},\n",
       "  {'x': 1668297600, 'y': 1494812299.9661403},\n",
       "  {'x': 1668384000, 'y': 4115043713.8673615},\n",
       "  {'x': 1668470400, 'y': 2979130079.220169},\n",
       "  {'x': 1668556800, 'y': 3591834000.308391},\n",
       "  {'x': 1668643200, 'y': 3913955462.5747924},\n",
       "  {'x': 1668729600, 'y': 6403239141.743098},\n",
       "  {'x': 1668816000, 'y': 1261281057.6791189},\n",
       "  {'x': 1668902400, 'y': 1331263228.0854974},\n",
       "  {'x': 1668988800, 'y': 2601329025.735664},\n",
       "  {'x': 1669075200, 'y': 2641080662.9541574},\n",
       "  {'x': 1669161600, 'y': 3366476108.1194096},\n",
       "  {'x': 1669248000, 'y': 1701790442.6046393},\n",
       "  {'x': 1669334400, 'y': 2167501567.0760984},\n",
       "  {'x': 1669420800, 'y': 1207868138.6460793},\n",
       "  {'x': 1669507200, 'y': 928264619.5263703},\n",
       "  {'x': 1669593600, 'y': 1617313064.3047447},\n",
       "  {'x': 1669680000, 'y': 2334673188.7997},\n",
       "  {'x': 1669766400, 'y': 2125827290.735983},\n",
       "  {'x': 1669852800, 'y': 2626041872.0538573}]}"
      ]
     },
     "execution_count": 15,
     "metadata": {},
     "output_type": "execute_result"
    }
   ],
   "source": [
    "data"
   ]
  },
  {
   "cell_type": "markdown",
   "id": "c958eb15",
   "metadata": {},
   "source": [
    "### Providing a specific timeframe (to catch all available historical data)"
   ]
  },
  {
   "cell_type": "code",
   "execution_count": 16,
   "id": "0fd12ac7",
   "metadata": {
    "ExecuteTime": {
     "end_time": "2022-12-02T18:58:24.330779Z",
     "start_time": "2022-12-02T18:58:24.237567Z"
    }
   },
   "outputs": [
    {
     "data": {
      "text/plain": [
       "6"
      ]
     },
     "metadata": {},
     "output_type": "display_data"
    },
    {
     "data": {
      "text/plain": [
       "dict_keys(['status', 'name', 'unit', 'period', 'description', 'values'])"
      ]
     },
     "metadata": {},
     "output_type": "display_data"
    }
   ],
   "source": [
    "api_url = \"https://api.blockchain.info/charts/estimated-transaction-volume-usd?start=2011-01-01?sampled=False\"\n",
    "response = requests.get(api_url)\n",
    "data = response.json()\n",
    "display(len(data.keys()))\n",
    "display(data.keys())"
   ]
  },
  {
   "cell_type": "code",
   "execution_count": 17,
   "id": "6b15cfa3",
   "metadata": {
    "ExecuteTime": {
     "end_time": "2022-12-02T18:58:24.338249Z",
     "start_time": "2022-12-02T18:58:24.333585Z"
    }
   },
   "outputs": [
    {
     "data": {
      "text/plain": [
       "352"
      ]
     },
     "execution_count": 17,
     "metadata": {},
     "output_type": "execute_result"
    }
   ],
   "source": [
    "len(data[\"values\"])"
   ]
  },
  {
   "cell_type": "markdown",
   "id": "acb264ec",
   "metadata": {},
   "source": [
    "### Comment"
   ]
  },
  {
   "cell_type": "markdown",
   "id": "e3cb1226",
   "metadata": {},
   "source": [
    "- Data on this chart goes at least as far back as 2010\n",
    "- The `timespan` parameter does not work (at least with this particular chart), but by default the API returns daily data for the entire year\n",
    "- The data is only for BTC, but contains loads of historical data"
   ]
  },
  {
   "cell_type": "markdown",
   "id": "3d8c7f2e",
   "metadata": {},
   "source": [
    "## Stats data"
   ]
  },
  {
   "cell_type": "markdown",
   "id": "c223048c",
   "metadata": {},
   "source": [
    "Current statistics for BTC. No parameters."
   ]
  },
  {
   "cell_type": "code",
   "execution_count": 18,
   "id": "ffb22ed1",
   "metadata": {
    "ExecuteTime": {
     "end_time": "2022-12-02T18:58:24.436681Z",
     "start_time": "2022-12-02T18:58:24.340455Z"
    }
   },
   "outputs": [
    {
     "data": {
      "text/plain": [
       "20"
      ]
     },
     "metadata": {},
     "output_type": "display_data"
    },
    {
     "data": {
      "text/plain": [
       "dict_keys(['timestamp', 'market_price_usd', 'hash_rate', 'total_fees_btc', 'n_btc_mined', 'n_tx', 'n_blocks_mined', 'minutes_between_blocks', 'totalbc', 'n_blocks_total', 'estimated_transaction_volume_usd', 'blocks_size', 'miners_revenue_usd', 'nextretarget', 'difficulty', 'estimated_btc_sent', 'miners_revenue_btc', 'total_btc_sent', 'trade_volume_btc', 'trade_volume_usd'])"
      ]
     },
     "metadata": {},
     "output_type": "display_data"
    }
   ],
   "source": [
    "api_url = \"https://api.blockchain.info/stats\"\n",
    "response = requests.get(api_url)\n",
    "data = response.json()\n",
    "display(len(data.keys()))\n",
    "display(data.keys())"
   ]
  },
  {
   "cell_type": "code",
   "execution_count": 19,
   "id": "03dd696b",
   "metadata": {
    "ExecuteTime": {
     "end_time": "2022-12-02T18:58:24.444067Z",
     "start_time": "2022-12-02T18:58:24.439379Z"
    }
   },
   "outputs": [
    {
     "data": {
      "text/plain": [
       "{'timestamp': 1670007421000.0,\n",
       " 'market_price_usd': 16938.35,\n",
       " 'hash_rate': 235112834947.79333,\n",
       " 'total_fees_btc': -80000000000,\n",
       " 'n_btc_mined': 80000000000,\n",
       " 'n_tx': 275602,\n",
       " 'n_blocks_mined': 128,\n",
       " 'minutes_between_blocks': 10.6142,\n",
       " 'totalbc': 1922268125000000,\n",
       " 'n_blocks_total': 765629,\n",
       " 'estimated_transaction_volume_usd': 1930526034.3230443,\n",
       " 'blocks_size': 176310971,\n",
       " 'miners_revenue_usd': 0.0,\n",
       " 'nextretarget': 766079,\n",
       " 'difficulty': 36950494067222,\n",
       " 'estimated_btc_sent': 11397367714819,\n",
       " 'miners_revenue_btc': 0,\n",
       " 'total_btc_sent': 79162736083678,\n",
       " 'trade_volume_btc': 5625.71,\n",
       " 'trade_volume_usd': 95290244.9785}"
      ]
     },
     "metadata": {},
     "output_type": "display_data"
    }
   ],
   "source": [
    "display(data)"
   ]
  },
  {
   "cell_type": "markdown",
   "id": "97b06b93",
   "metadata": {},
   "source": [
    "### Comment"
   ]
  },
  {
   "cell_type": "markdown",
   "id": "b5a4af29",
   "metadata": {},
   "source": [
    "- Data is rounded up to minutes, so it is probably updated every minute\n",
    "- No endpoint for historical data provided"
   ]
  }
 ],
 "metadata": {
  "kernelspec": {
   "display_name": "Python 3 (ipykernel)",
   "language": "python",
   "name": "python3"
  },
  "language_info": {
   "codemirror_mode": {
    "name": "ipython",
    "version": 3
   },
   "file_extension": ".py",
   "mimetype": "text/x-python",
   "name": "python",
   "nbconvert_exporter": "python",
   "pygments_lexer": "ipython3",
   "version": "3.8.10"
  },
  "toc": {
   "base_numbering": 1,
   "nav_menu": {},
   "number_sections": true,
   "sideBar": true,
   "skip_h1_title": false,
   "title_cell": "Table of Contents",
   "title_sidebar": "Contents",
   "toc_cell": false,
   "toc_position": {},
   "toc_section_display": true,
   "toc_window_display": false
  }
 },
 "nbformat": 4,
 "nbformat_minor": 5
}
