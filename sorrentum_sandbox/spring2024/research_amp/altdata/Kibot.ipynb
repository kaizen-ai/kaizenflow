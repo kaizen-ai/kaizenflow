{
 "cells": [
  {
   "cell_type": "markdown",
   "id": "ef586eba",
   "metadata": {},
   "source": [
    "# Description"
   ]
  },
  {
   "cell_type": "markdown",
   "id": "ed925830",
   "metadata": {},
   "source": [
    "This notebook contains examples of data from http://www.kibot.com/\n",
    "- The data is loaded using code from `im/kibot/data/`"
   ]
  },
  {
   "cell_type": "code",
   "execution_count": 1,
   "id": "023c60ee",
   "metadata": {
    "ExecuteTime": {
     "end_time": "2023-02-05T21:46:37.237960Z",
     "start_time": "2023-02-05T21:46:35.307063Z"
    }
   },
   "outputs": [
    {
     "name": "stderr",
     "output_type": "stream",
     "text": [
      "/app/im/kibot/metadata/load/kibot_metadata.py:16: TqdmExperimentalWarning: Using `tqdm.autonotebook.tqdm` in notebook mode. Use `tqdm.tqdm` instead to force console mode (e.g. in jupyter console)\n",
      "  from tqdm.autonotebook import tqdm\n"
     ]
    }
   ],
   "source": [
    "%load_ext autoreload\n",
    "%autoreload 2\n",
    "%matplotlib inline\n",
    "\n",
    "import logging\n",
    "import os\n",
    "\n",
    "import pandas as pd\n",
    "import requests\n",
    "import requests.adapters as radapt\n",
    "import requests.packages.urllib3.util as rpuuti\n",
    "import tqdm\n",
    "\n",
    "import helpers.hdbg as hdbg\n",
    "import helpers.henv as henv\n",
    "import helpers.hio as hio\n",
    "import helpers.hprint as hprint\n",
    "import im.kibot.data.config as imkidacon\n",
    "import im.kibot.data.extract.download as imkdaexdo\n",
    "import im.kibot.metadata.load.kibot_metadata as imkmlkime"
   ]
  },
  {
   "cell_type": "code",
   "execution_count": 2,
   "id": "3a2a85f3",
   "metadata": {
    "ExecuteTime": {
     "end_time": "2023-02-05T21:46:38.585836Z",
     "start_time": "2023-02-05T21:46:37.241906Z"
    }
   },
   "outputs": [
    {
     "name": "stdout",
     "output_type": "stream",
     "text": [
      "\u001b[0m\u001b[36mINFO\u001b[0m: > cmd='/venv/lib/python3.8/site-packages/ipykernel_launcher.py -f /home/.local/share/jupyter/runtime/kernel-c96d9ca5-0cea-4a77-bacb-b233dde0605d.json'\n",
      "WARNING: Running in Jupyter\n",
      "\u001b[31m-----------------------------------------------------------------------------\n",
      "This code is not in sync with the container:\n",
      "code_version='1.4.2' != container_version='1.4.0'\n",
      "-----------------------------------------------------------------------------\n",
      "You need to:\n",
      "- merge origin/master into your branch with `invoke git_merge_master`\n",
      "- pull the latest container with `invoke docker_pull`\u001b[0m\n",
      "INFO  # Git\n",
      "  branch_name='CMTask3743_kibot_gallery'\n",
      "  hash='e34617faf'\n",
      "  # Last commits:\n",
      "    * e34617faf Daniil Tikhomirov CMTask3743: Add notebook                                          ( 2 minutes ago) Sun Feb 5 21:44:26 2023  (HEAD -> CMTask3743_kibot_gallery, origin/CMTask3743_kibot_gallery)\n",
      "    *   006f59faa Daniil Tikhomirov CMTask3551: Merge                                                 (    4 days ago) Wed Feb 1 15:14:08 2023  (origin/CMTask3551_convert_submit_twap_into_a_model_adaptation_to_orange, CMTask3551_convert_submit_twap_into_a_model_adaptation_to_orange)\n",
      "    |\\  \n",
      "    | * 5c71601cb Daniil Tikhomirov Cm task3551 convert submit twap into a model (#3697)              (    4 days ago) Wed Feb 1 14:59:55 2023  (origin/master, origin/HEAD, master)\n",
      "# Machine info\n",
      "  system=Linux\n",
      "  node name=b93a1e3b5a2c\n",
      "  release=5.15.0-1026-aws\n",
      "  version=#30~20.04.2-Ubuntu SMP Fri Nov 25 14:53:22 UTC 2022\n",
      "  machine=x86_64\n",
      "  processor=x86_64\n",
      "  cpu count=8\n",
      "  cpu freq=scpufreq(current=2499.998, min=0.0, max=0.0)\n",
      "  memory=svmem(total=33292886016, available=21836918784, percent=34.4, used=10987823104, free=840798208, active=9224040448, inactive=21143576576, buffers=2647506944, cached=18816757760, shared=9916416, slab=1797234688)\n",
      "  disk usage=sdiskusage(total=156052275200, used=25327366144, free=130708131840, percent=16.2)\n",
      "# Packages\n",
      "  python: 3.8.10\n",
      "  cvxopt: 1.3.0\n",
      "  cvxpy: 1.2.2\n",
      "  gluonnlp: ?\n",
      "  gluonts: 0.6.7\n",
      "  joblib: 1.2.0\n",
      "  mxnet: 1.9.1\n",
      "  numpy: 1.23.4\n",
      "  pandas: 1.5.1\n",
      "  pyarrow: 10.0.0\n",
      "  scipy: 1.9.3\n",
      "  seaborn: 0.12.1\n",
      "  sklearn: 1.1.3\n",
      "  statsmodels: 0.13.5\n"
     ]
    }
   ],
   "source": [
    "hdbg.init_logger(verbosity=logging.INFO)\n",
    "\n",
    "_LOG = logging.getLogger(__name__)\n",
    "\n",
    "_LOG.info(\"%s\", henv.get_system_signature()[0])\n",
    "\n",
    "hprint.config_notebook()"
   ]
  },
  {
   "cell_type": "markdown",
   "id": "0fd8534c",
   "metadata": {},
   "source": [
    "# Metadata"
   ]
  },
  {
   "cell_type": "markdown",
   "id": "1d03f478",
   "metadata": {},
   "source": [
    "- Load Kibot Metadata to estimate contracts and equities available"
   ]
  },
  {
   "cell_type": "markdown",
   "id": "4eaa9928",
   "metadata": {},
   "source": [
    "## Continuous contracts"
   ]
  },
  {
   "cell_type": "code",
   "execution_count": 3,
   "id": "b2b75a9a",
   "metadata": {
    "ExecuteTime": {
     "end_time": "2023-02-05T21:46:45.425392Z",
     "start_time": "2023-02-05T21:46:38.588107Z"
    }
   },
   "outputs": [],
   "source": [
    "kibot_metadata = imkmlkime.KibotMetadata()"
   ]
  },
  {
   "cell_type": "code",
   "execution_count": 4,
   "id": "068cb62f",
   "metadata": {
    "ExecuteTime": {
     "end_time": "2023-02-05T21:46:45.493522Z",
     "start_time": "2023-02-05T21:46:45.429264Z"
    }
   },
   "outputs": [],
   "source": [
    "# Get available contract types based on `KibotMetadata` documentation.\n",
    "contract_types = [\"1min\", \"daily\", \"tick-bid-ask\"]"
   ]
  },
  {
   "cell_type": "code",
   "execution_count": 5,
   "id": "1144943f",
   "metadata": {
    "ExecuteTime": {
     "end_time": "2023-02-05T21:46:45.581167Z",
     "start_time": "2023-02-05T21:46:45.497649Z"
    }
   },
   "outputs": [
    {
     "name": "stdout",
     "output_type": "stream",
     "text": [
      "(252, 12)\n"
     ]
    },
    {
     "data": {
      "text/html": [
       "<div>\n",
       "<style scoped>\n",
       "    .dataframe tbody tr th:only-of-type {\n",
       "        vertical-align: middle;\n",
       "    }\n",
       "\n",
       "    .dataframe tbody tr th {\n",
       "        vertical-align: top;\n",
       "    }\n",
       "\n",
       "    .dataframe thead th {\n",
       "        text-align: right;\n",
       "    }\n",
       "</style>\n",
       "<table border=\"1\" class=\"dataframe\">\n",
       "  <thead>\n",
       "    <tr style=\"text-align: right;\">\n",
       "      <th></th>\n",
       "      <th>Kibot_symbol</th>\n",
       "      <th>Description</th>\n",
       "      <th>StartDate</th>\n",
       "      <th>Exchange</th>\n",
       "      <th>Exchange_group</th>\n",
       "      <th>Exchange_abbreviation</th>\n",
       "      <th>Exchange_symbol</th>\n",
       "      <th>num_contracts</th>\n",
       "      <th>min_contract</th>\n",
       "      <th>max_contract</th>\n",
       "      <th>num_expiries</th>\n",
       "      <th>expiries</th>\n",
       "    </tr>\n",
       "  </thead>\n",
       "  <tbody>\n",
       "    <tr>\n",
       "      <th>0</th>\n",
       "      <td>AC</td>\n",
       "      <td>CONTINUOUS ETHANOL CONTRACT</td>\n",
       "      <td>2009-09-28</td>\n",
       "      <td>Chicago Board Of Trade (CBOT GLOBEX)</td>\n",
       "      <td>CME</td>\n",
       "      <td>CBOT</td>\n",
       "      <td>EH</td>\n",
       "      <td>122</td>\n",
       "      <td>2009-10-01</td>\n",
       "      <td>2019-12-01</td>\n",
       "      <td>12</td>\n",
       "      <td>[1, 2, 3, 4, 5, 6, 7, 8, 9, 10, 11, 12]</td>\n",
       "    </tr>\n",
       "    <tr>\n",
       "      <th>1</th>\n",
       "      <td>AD</td>\n",
       "      <td>CONTINUOUS AUSTRALIAN DOLLAR CONTRACT</td>\n",
       "      <td>2009-09-27</td>\n",
       "      <td>Chicago Mercantile Exchange (CME GLOBEX)</td>\n",
       "      <td>NaN</td>\n",
       "      <td>NaN</td>\n",
       "      <td>NaN</td>\n",
       "      <td>65</td>\n",
       "      <td>2009-12-01</td>\n",
       "      <td>2020-12-01</td>\n",
       "      <td>12</td>\n",
       "      <td>[1, 2, 3, 4, 5, 6, 7, 8, 9, 10, 11, 12]</td>\n",
       "    </tr>\n",
       "    <tr>\n",
       "      <th>2</th>\n",
       "      <td>AE</td>\n",
       "      <td>CONTINUOUS BLOOMBERG COMMODITY INDEX CONTRACT</td>\n",
       "      <td>NaT</td>\n",
       "      <td>NaN</td>\n",
       "      <td>CME</td>\n",
       "      <td>CBOT</td>\n",
       "      <td>AW</td>\n",
       "      <td>38</td>\n",
       "      <td>2010-06-01</td>\n",
       "      <td>2019-09-01</td>\n",
       "      <td>4</td>\n",
       "      <td>[3, 6, 9, 12]</td>\n",
       "    </tr>\n",
       "  </tbody>\n",
       "</table>\n",
       "</div>"
      ],
      "text/plain": [
       "  Kibot_symbol                                    Description  StartDate                                  Exchange Exchange_group Exchange_abbreviation Exchange_symbol  num_contracts min_contract max_contract  num_expiries                                 expiries\n",
       "0           AC                    CONTINUOUS ETHANOL CONTRACT 2009-09-28      Chicago Board Of Trade (CBOT GLOBEX)            CME                  CBOT              EH            122   2009-10-01   2019-12-01            12  [1, 2, 3, 4, 5, 6, 7, 8, 9, 10, 11, 12]\n",
       "1           AD          CONTINUOUS AUSTRALIAN DOLLAR CONTRACT 2009-09-27  Chicago Mercantile Exchange (CME GLOBEX)            NaN                   NaN             NaN             65   2009-12-01   2020-12-01            12  [1, 2, 3, 4, 5, 6, 7, 8, 9, 10, 11, 12]\n",
       "2           AE  CONTINUOUS BLOOMBERG COMMODITY INDEX CONTRACT        NaT                                       NaN            CME                  CBOT              AW             38   2010-06-01   2019-09-01             4                            [3, 6, 9, 12]"
      ]
     },
     "metadata": {},
     "output_type": "display_data"
    },
    {
     "data": {
      "text/html": [
       "<div>\n",
       "<style scoped>\n",
       "    .dataframe tbody tr th:only-of-type {\n",
       "        vertical-align: middle;\n",
       "    }\n",
       "\n",
       "    .dataframe tbody tr th {\n",
       "        vertical-align: top;\n",
       "    }\n",
       "\n",
       "    .dataframe thead th {\n",
       "        text-align: right;\n",
       "    }\n",
       "</style>\n",
       "<table border=\"1\" class=\"dataframe\">\n",
       "  <thead>\n",
       "    <tr style=\"text-align: right;\">\n",
       "      <th></th>\n",
       "      <th>Kibot_symbol</th>\n",
       "      <th>Description</th>\n",
       "      <th>StartDate</th>\n",
       "      <th>Exchange</th>\n",
       "      <th>Exchange_group</th>\n",
       "      <th>Exchange_abbreviation</th>\n",
       "      <th>Exchange_symbol</th>\n",
       "      <th>num_contracts</th>\n",
       "      <th>min_contract</th>\n",
       "      <th>max_contract</th>\n",
       "      <th>num_expiries</th>\n",
       "      <th>expiries</th>\n",
       "    </tr>\n",
       "  </thead>\n",
       "  <tbody>\n",
       "    <tr>\n",
       "      <th>249</th>\n",
       "      <td>ZLT</td>\n",
       "      <td>CONTINUOUS SOYBEAN OIL TAS CONTRACT</td>\n",
       "      <td>NaT</td>\n",
       "      <td>NaN</td>\n",
       "      <td>CME</td>\n",
       "      <td>CBOT</td>\n",
       "      <td>ZLT</td>\n",
       "      <td>36</td>\n",
       "      <td>2015-07-01</td>\n",
       "      <td>2019-12-01</td>\n",
       "      <td>8</td>\n",
       "      <td>[1, 3, 5, 7, 8, 9, 10, 12]</td>\n",
       "    </tr>\n",
       "    <tr>\n",
       "      <th>250</th>\n",
       "      <td>ZMT</td>\n",
       "      <td>CONTINUOUS SOYBEAN MEAL TAS CONTRACT</td>\n",
       "      <td>NaT</td>\n",
       "      <td>NaN</td>\n",
       "      <td>CME</td>\n",
       "      <td>CBOT</td>\n",
       "      <td>ZMT</td>\n",
       "      <td>37</td>\n",
       "      <td>2015-07-01</td>\n",
       "      <td>2019-12-01</td>\n",
       "      <td>8</td>\n",
       "      <td>[1, 3, 5, 7, 8, 9, 10, 12]</td>\n",
       "    </tr>\n",
       "    <tr>\n",
       "      <th>251</th>\n",
       "      <td>ZWT</td>\n",
       "      <td>CONTINUOUS WHEAT TAS CONTRACT</td>\n",
       "      <td>NaT</td>\n",
       "      <td>NaN</td>\n",
       "      <td>CME</td>\n",
       "      <td>CBOT</td>\n",
       "      <td>ZWT</td>\n",
       "      <td>25</td>\n",
       "      <td>2015-07-01</td>\n",
       "      <td>2020-07-01</td>\n",
       "      <td>5</td>\n",
       "      <td>[3, 5, 7, 9, 12]</td>\n",
       "    </tr>\n",
       "  </tbody>\n",
       "</table>\n",
       "</div>"
      ],
      "text/plain": [
       "    Kibot_symbol                           Description StartDate Exchange Exchange_group Exchange_abbreviation Exchange_symbol  num_contracts min_contract max_contract  num_expiries                    expiries\n",
       "249          ZLT   CONTINUOUS SOYBEAN OIL TAS CONTRACT       NaT      NaN            CME                  CBOT             ZLT             36   2015-07-01   2019-12-01             8  [1, 3, 5, 7, 8, 9, 10, 12]\n",
       "250          ZMT  CONTINUOUS SOYBEAN MEAL TAS CONTRACT       NaT      NaN            CME                  CBOT             ZMT             37   2015-07-01   2019-12-01             8  [1, 3, 5, 7, 8, 9, 10, 12]\n",
       "251          ZWT         CONTINUOUS WHEAT TAS CONTRACT       NaT      NaN            CME                  CBOT             ZWT             25   2015-07-01   2020-07-01             5            [3, 5, 7, 9, 12]"
      ]
     },
     "metadata": {},
     "output_type": "display_data"
    }
   ],
   "source": [
    "min_metadata = kibot_metadata.get_metadata(\"1min\")\n",
    "print(min_metadata.shape)\n",
    "display(min_metadata.head(3))\n",
    "display(min_metadata.tail(3))"
   ]
  },
  {
   "cell_type": "code",
   "execution_count": 6,
   "id": "f0a74503",
   "metadata": {
    "ExecuteTime": {
     "end_time": "2023-02-05T21:46:45.644306Z",
     "start_time": "2023-02-05T21:46:45.583937Z"
    }
   },
   "outputs": [
    {
     "name": "stdout",
     "output_type": "stream",
     "text": [
      "(252, 12)\n"
     ]
    },
    {
     "data": {
      "text/html": [
       "<div>\n",
       "<style scoped>\n",
       "    .dataframe tbody tr th:only-of-type {\n",
       "        vertical-align: middle;\n",
       "    }\n",
       "\n",
       "    .dataframe tbody tr th {\n",
       "        vertical-align: top;\n",
       "    }\n",
       "\n",
       "    .dataframe thead th {\n",
       "        text-align: right;\n",
       "    }\n",
       "</style>\n",
       "<table border=\"1\" class=\"dataframe\">\n",
       "  <thead>\n",
       "    <tr style=\"text-align: right;\">\n",
       "      <th></th>\n",
       "      <th>Kibot_symbol</th>\n",
       "      <th>Description</th>\n",
       "      <th>StartDate</th>\n",
       "      <th>Exchange</th>\n",
       "      <th>Exchange_group</th>\n",
       "      <th>Exchange_abbreviation</th>\n",
       "      <th>Exchange_symbol</th>\n",
       "      <th>num_contracts</th>\n",
       "      <th>min_contract</th>\n",
       "      <th>max_contract</th>\n",
       "      <th>num_expiries</th>\n",
       "      <th>expiries</th>\n",
       "    </tr>\n",
       "  </thead>\n",
       "  <tbody>\n",
       "    <tr>\n",
       "      <th>0</th>\n",
       "      <td>AC</td>\n",
       "      <td>CONTINUOUS ETHANOL CONTRACT</td>\n",
       "      <td>2009-09-28</td>\n",
       "      <td>Chicago Board Of Trade (CBOT GLOBEX)</td>\n",
       "      <td>CME</td>\n",
       "      <td>CBOT</td>\n",
       "      <td>EH</td>\n",
       "      <td>122</td>\n",
       "      <td>2009-10-01</td>\n",
       "      <td>2019-12-01</td>\n",
       "      <td>12</td>\n",
       "      <td>[1, 2, 3, 4, 5, 6, 7, 8, 9, 10, 11, 12]</td>\n",
       "    </tr>\n",
       "    <tr>\n",
       "      <th>1</th>\n",
       "      <td>AD</td>\n",
       "      <td>CONTINUOUS AUSTRALIAN DOLLAR CONTRACT</td>\n",
       "      <td>2009-09-27</td>\n",
       "      <td>Chicago Mercantile Exchange (CME GLOBEX)</td>\n",
       "      <td>NaN</td>\n",
       "      <td>NaN</td>\n",
       "      <td>NaN</td>\n",
       "      <td>65</td>\n",
       "      <td>2009-12-01</td>\n",
       "      <td>2020-12-01</td>\n",
       "      <td>12</td>\n",
       "      <td>[1, 2, 3, 4, 5, 6, 7, 8, 9, 10, 11, 12]</td>\n",
       "    </tr>\n",
       "    <tr>\n",
       "      <th>2</th>\n",
       "      <td>AE</td>\n",
       "      <td>CONTINUOUS BLOOMBERG COMMODITY INDEX CONTRACT</td>\n",
       "      <td>NaT</td>\n",
       "      <td>NaN</td>\n",
       "      <td>CME</td>\n",
       "      <td>CBOT</td>\n",
       "      <td>AW</td>\n",
       "      <td>38</td>\n",
       "      <td>2010-06-01</td>\n",
       "      <td>2019-09-01</td>\n",
       "      <td>4</td>\n",
       "      <td>[3, 6, 9, 12]</td>\n",
       "    </tr>\n",
       "  </tbody>\n",
       "</table>\n",
       "</div>"
      ],
      "text/plain": [
       "  Kibot_symbol                                    Description  StartDate                                  Exchange Exchange_group Exchange_abbreviation Exchange_symbol  num_contracts min_contract max_contract  num_expiries                                 expiries\n",
       "0           AC                    CONTINUOUS ETHANOL CONTRACT 2009-09-28      Chicago Board Of Trade (CBOT GLOBEX)            CME                  CBOT              EH            122   2009-10-01   2019-12-01            12  [1, 2, 3, 4, 5, 6, 7, 8, 9, 10, 11, 12]\n",
       "1           AD          CONTINUOUS AUSTRALIAN DOLLAR CONTRACT 2009-09-27  Chicago Mercantile Exchange (CME GLOBEX)            NaN                   NaN             NaN             65   2009-12-01   2020-12-01            12  [1, 2, 3, 4, 5, 6, 7, 8, 9, 10, 11, 12]\n",
       "2           AE  CONTINUOUS BLOOMBERG COMMODITY INDEX CONTRACT        NaT                                       NaN            CME                  CBOT              AW             38   2010-06-01   2019-09-01             4                            [3, 6, 9, 12]"
      ]
     },
     "metadata": {},
     "output_type": "display_data"
    },
    {
     "data": {
      "text/html": [
       "<div>\n",
       "<style scoped>\n",
       "    .dataframe tbody tr th:only-of-type {\n",
       "        vertical-align: middle;\n",
       "    }\n",
       "\n",
       "    .dataframe tbody tr th {\n",
       "        vertical-align: top;\n",
       "    }\n",
       "\n",
       "    .dataframe thead th {\n",
       "        text-align: right;\n",
       "    }\n",
       "</style>\n",
       "<table border=\"1\" class=\"dataframe\">\n",
       "  <thead>\n",
       "    <tr style=\"text-align: right;\">\n",
       "      <th></th>\n",
       "      <th>Kibot_symbol</th>\n",
       "      <th>Description</th>\n",
       "      <th>StartDate</th>\n",
       "      <th>Exchange</th>\n",
       "      <th>Exchange_group</th>\n",
       "      <th>Exchange_abbreviation</th>\n",
       "      <th>Exchange_symbol</th>\n",
       "      <th>num_contracts</th>\n",
       "      <th>min_contract</th>\n",
       "      <th>max_contract</th>\n",
       "      <th>num_expiries</th>\n",
       "      <th>expiries</th>\n",
       "    </tr>\n",
       "  </thead>\n",
       "  <tbody>\n",
       "    <tr>\n",
       "      <th>249</th>\n",
       "      <td>ZLT</td>\n",
       "      <td>CONTINUOUS SOYBEAN OIL TAS CONTRACT</td>\n",
       "      <td>NaT</td>\n",
       "      <td>NaN</td>\n",
       "      <td>CME</td>\n",
       "      <td>CBOT</td>\n",
       "      <td>ZLT</td>\n",
       "      <td>36</td>\n",
       "      <td>2015-07-01</td>\n",
       "      <td>2019-12-01</td>\n",
       "      <td>8</td>\n",
       "      <td>[1, 3, 5, 7, 8, 9, 10, 12]</td>\n",
       "    </tr>\n",
       "    <tr>\n",
       "      <th>250</th>\n",
       "      <td>ZMT</td>\n",
       "      <td>CONTINUOUS SOYBEAN MEAL TAS CONTRACT</td>\n",
       "      <td>NaT</td>\n",
       "      <td>NaN</td>\n",
       "      <td>CME</td>\n",
       "      <td>CBOT</td>\n",
       "      <td>ZMT</td>\n",
       "      <td>37</td>\n",
       "      <td>2015-07-01</td>\n",
       "      <td>2019-12-01</td>\n",
       "      <td>8</td>\n",
       "      <td>[1, 3, 5, 7, 8, 9, 10, 12]</td>\n",
       "    </tr>\n",
       "    <tr>\n",
       "      <th>251</th>\n",
       "      <td>ZWT</td>\n",
       "      <td>CONTINUOUS WHEAT TAS CONTRACT</td>\n",
       "      <td>NaT</td>\n",
       "      <td>NaN</td>\n",
       "      <td>CME</td>\n",
       "      <td>CBOT</td>\n",
       "      <td>ZWT</td>\n",
       "      <td>25</td>\n",
       "      <td>2015-07-01</td>\n",
       "      <td>2020-07-01</td>\n",
       "      <td>5</td>\n",
       "      <td>[3, 5, 7, 9, 12]</td>\n",
       "    </tr>\n",
       "  </tbody>\n",
       "</table>\n",
       "</div>"
      ],
      "text/plain": [
       "    Kibot_symbol                           Description StartDate Exchange Exchange_group Exchange_abbreviation Exchange_symbol  num_contracts min_contract max_contract  num_expiries                    expiries\n",
       "249          ZLT   CONTINUOUS SOYBEAN OIL TAS CONTRACT       NaT      NaN            CME                  CBOT             ZLT             36   2015-07-01   2019-12-01             8  [1, 3, 5, 7, 8, 9, 10, 12]\n",
       "250          ZMT  CONTINUOUS SOYBEAN MEAL TAS CONTRACT       NaT      NaN            CME                  CBOT             ZMT             37   2015-07-01   2019-12-01             8  [1, 3, 5, 7, 8, 9, 10, 12]\n",
       "251          ZWT         CONTINUOUS WHEAT TAS CONTRACT       NaT      NaN            CME                  CBOT             ZWT             25   2015-07-01   2020-07-01             5            [3, 5, 7, 9, 12]"
      ]
     },
     "metadata": {},
     "output_type": "display_data"
    }
   ],
   "source": [
    "daily_metadata = kibot_metadata.get_metadata(\"daily\")\n",
    "print(daily_metadata.shape)\n",
    "display(daily_metadata.head(3))\n",
    "display(daily_metadata.tail(3))"
   ]
  },
  {
   "cell_type": "code",
   "execution_count": 7,
   "id": "f62dde6f",
   "metadata": {
    "ExecuteTime": {
     "end_time": "2023-02-05T21:46:45.721887Z",
     "start_time": "2023-02-05T21:46:45.647865Z"
    }
   },
   "outputs": [
    {
     "name": "stdout",
     "output_type": "stream",
     "text": [
      "(128, 12)\n"
     ]
    },
    {
     "data": {
      "text/html": [
       "<div>\n",
       "<style scoped>\n",
       "    .dataframe tbody tr th:only-of-type {\n",
       "        vertical-align: middle;\n",
       "    }\n",
       "\n",
       "    .dataframe tbody tr th {\n",
       "        vertical-align: top;\n",
       "    }\n",
       "\n",
       "    .dataframe thead th {\n",
       "        text-align: right;\n",
       "    }\n",
       "</style>\n",
       "<table border=\"1\" class=\"dataframe\">\n",
       "  <thead>\n",
       "    <tr style=\"text-align: right;\">\n",
       "      <th></th>\n",
       "      <th>Kibot_symbol</th>\n",
       "      <th>Description</th>\n",
       "      <th>StartDate</th>\n",
       "      <th>Exchange</th>\n",
       "      <th>Exchange_group</th>\n",
       "      <th>Exchange_abbreviation</th>\n",
       "      <th>Exchange_symbol</th>\n",
       "      <th>num_contracts</th>\n",
       "      <th>min_contract</th>\n",
       "      <th>max_contract</th>\n",
       "      <th>num_expiries</th>\n",
       "      <th>expiries</th>\n",
       "    </tr>\n",
       "  </thead>\n",
       "  <tbody>\n",
       "    <tr>\n",
       "      <th>0</th>\n",
       "      <td>AC</td>\n",
       "      <td>CONTINUOUS ETHANOL CONTRACT</td>\n",
       "      <td>2009-09-28</td>\n",
       "      <td>Chicago Board Of Trade (CBOT GLOBEX)</td>\n",
       "      <td>CME</td>\n",
       "      <td>CBOT</td>\n",
       "      <td>EH</td>\n",
       "      <td>116.0</td>\n",
       "      <td>2010-04-01</td>\n",
       "      <td>2019-12-01</td>\n",
       "      <td>12.0</td>\n",
       "      <td>[1, 2, 3, 4, 5, 6, 7, 8, 9, 10, 11, 12]</td>\n",
       "    </tr>\n",
       "    <tr>\n",
       "      <th>1</th>\n",
       "      <td>AD</td>\n",
       "      <td>CONTINUOUS AUSTRALIAN DOLLAR CONTRACT</td>\n",
       "      <td>2009-09-27</td>\n",
       "      <td>Chicago Mercantile Exchange (CME GLOBEX)</td>\n",
       "      <td>NaN</td>\n",
       "      <td>NaN</td>\n",
       "      <td>NaN</td>\n",
       "      <td>63.0</td>\n",
       "      <td>2010-06-01</td>\n",
       "      <td>2020-12-01</td>\n",
       "      <td>12.0</td>\n",
       "      <td>[1, 2, 3, 4, 5, 6, 7, 8, 9, 10, 11, 12]</td>\n",
       "    </tr>\n",
       "    <tr>\n",
       "      <th>2</th>\n",
       "      <td>AJY</td>\n",
       "      <td>CONTINUOUS AUSTRALIAN $/JAPANESE YEN CONTRACT</td>\n",
       "      <td>2009-10-21</td>\n",
       "      <td>Chicago Mercantile Exchange (CME GLOBEX)</td>\n",
       "      <td>NaN</td>\n",
       "      <td>NaN</td>\n",
       "      <td>NaN</td>\n",
       "      <td>39.0</td>\n",
       "      <td>2010-06-01</td>\n",
       "      <td>2019-12-01</td>\n",
       "      <td>4.0</td>\n",
       "      <td>[3, 6, 9, 12]</td>\n",
       "    </tr>\n",
       "  </tbody>\n",
       "</table>\n",
       "</div>"
      ],
      "text/plain": [
       "  Kibot_symbol                                    Description  StartDate                                  Exchange Exchange_group Exchange_abbreviation Exchange_symbol  num_contracts min_contract max_contract  num_expiries                                 expiries\n",
       "0           AC                    CONTINUOUS ETHANOL CONTRACT 2009-09-28      Chicago Board Of Trade (CBOT GLOBEX)            CME                  CBOT              EH          116.0   2010-04-01   2019-12-01          12.0  [1, 2, 3, 4, 5, 6, 7, 8, 9, 10, 11, 12]\n",
       "1           AD          CONTINUOUS AUSTRALIAN DOLLAR CONTRACT 2009-09-27  Chicago Mercantile Exchange (CME GLOBEX)            NaN                   NaN             NaN           63.0   2010-06-01   2020-12-01          12.0  [1, 2, 3, 4, 5, 6, 7, 8, 9, 10, 11, 12]\n",
       "2          AJY  CONTINUOUS AUSTRALIAN $/JAPANESE YEN CONTRACT 2009-10-21  Chicago Mercantile Exchange (CME GLOBEX)            NaN                   NaN             NaN           39.0   2010-06-01   2019-12-01           4.0                            [3, 6, 9, 12]"
      ]
     },
     "metadata": {},
     "output_type": "display_data"
    },
    {
     "data": {
      "text/html": [
       "<div>\n",
       "<style scoped>\n",
       "    .dataframe tbody tr th:only-of-type {\n",
       "        vertical-align: middle;\n",
       "    }\n",
       "\n",
       "    .dataframe tbody tr th {\n",
       "        vertical-align: top;\n",
       "    }\n",
       "\n",
       "    .dataframe thead th {\n",
       "        text-align: right;\n",
       "    }\n",
       "</style>\n",
       "<table border=\"1\" class=\"dataframe\">\n",
       "  <thead>\n",
       "    <tr style=\"text-align: right;\">\n",
       "      <th></th>\n",
       "      <th>Kibot_symbol</th>\n",
       "      <th>Description</th>\n",
       "      <th>StartDate</th>\n",
       "      <th>Exchange</th>\n",
       "      <th>Exchange_group</th>\n",
       "      <th>Exchange_abbreviation</th>\n",
       "      <th>Exchange_symbol</th>\n",
       "      <th>num_contracts</th>\n",
       "      <th>min_contract</th>\n",
       "      <th>max_contract</th>\n",
       "      <th>num_expiries</th>\n",
       "      <th>expiries</th>\n",
       "    </tr>\n",
       "  </thead>\n",
       "  <tbody>\n",
       "    <tr>\n",
       "      <th>125</th>\n",
       "      <td>ZLT</td>\n",
       "      <td>NaN</td>\n",
       "      <td>NaT</td>\n",
       "      <td>NaN</td>\n",
       "      <td>CME</td>\n",
       "      <td>CBOT</td>\n",
       "      <td>ZLT</td>\n",
       "      <td>NaN</td>\n",
       "      <td>NaT</td>\n",
       "      <td>NaT</td>\n",
       "      <td>NaN</td>\n",
       "      <td>NaN</td>\n",
       "    </tr>\n",
       "    <tr>\n",
       "      <th>126</th>\n",
       "      <td>ZMT</td>\n",
       "      <td>NaN</td>\n",
       "      <td>NaT</td>\n",
       "      <td>NaN</td>\n",
       "      <td>CME</td>\n",
       "      <td>CBOT</td>\n",
       "      <td>ZMT</td>\n",
       "      <td>NaN</td>\n",
       "      <td>NaT</td>\n",
       "      <td>NaT</td>\n",
       "      <td>NaN</td>\n",
       "      <td>NaN</td>\n",
       "    </tr>\n",
       "    <tr>\n",
       "      <th>127</th>\n",
       "      <td>ZWT</td>\n",
       "      <td>NaN</td>\n",
       "      <td>NaT</td>\n",
       "      <td>NaN</td>\n",
       "      <td>CME</td>\n",
       "      <td>CBOT</td>\n",
       "      <td>ZWT</td>\n",
       "      <td>NaN</td>\n",
       "      <td>NaT</td>\n",
       "      <td>NaT</td>\n",
       "      <td>NaN</td>\n",
       "      <td>NaN</td>\n",
       "    </tr>\n",
       "  </tbody>\n",
       "</table>\n",
       "</div>"
      ],
      "text/plain": [
       "    Kibot_symbol Description StartDate Exchange Exchange_group Exchange_abbreviation Exchange_symbol  num_contracts min_contract max_contract  num_expiries expiries\n",
       "125          ZLT         NaN       NaT      NaN            CME                  CBOT             ZLT            NaN          NaT          NaT           NaN      NaN\n",
       "126          ZMT         NaN       NaT      NaN            CME                  CBOT             ZMT            NaN          NaT          NaT           NaN      NaN\n",
       "127          ZWT         NaN       NaT      NaN            CME                  CBOT             ZWT            NaN          NaT          NaT           NaN      NaN"
      ]
     },
     "metadata": {},
     "output_type": "display_data"
    }
   ],
   "source": [
    "tick_metadata = kibot_metadata.get_metadata(\"tick-bid-ask\")\n",
    "print(tick_metadata.shape)\n",
    "display(tick_metadata.head(3))\n",
    "display(tick_metadata.tail(3))"
   ]
  },
  {
   "cell_type": "markdown",
   "id": "c6f6b9f6",
   "metadata": {},
   "source": [
    "# Downloading data"
   ]
  },
  {
   "cell_type": "markdown",
   "id": "8564bebd",
   "metadata": {},
   "source": [
    "- An example of data downloaded from Kibot\n",
    "- `im/kibot/data/extract/download.py` is a script that puts compressed data to S3\n",
    "   - Examples of metadata of already downloaded datasets is provided above\n",
    "- Here we download a small dataset to provide an example of the data"
   ]
  },
  {
   "cell_type": "markdown",
   "id": "d34248d1",
   "metadata": {},
   "source": [
    "## Downloading continuous futures dataset"
   ]
  },
  {
   "cell_type": "markdown",
   "id": "93de5bab",
   "metadata": {},
   "source": [
    "- On the example of `all_futures_continuous_contracts_daily`\n",
    "- This section follows the `im/kibot/data/extract/download.py` script, focusing on saving the output locally and demonstrating intermediary parsing results."
   ]
  },
  {
   "cell_type": "code",
   "execution_count": 8,
   "id": "1a9add35",
   "metadata": {
    "ExecuteTime": {
     "end_time": "2023-02-05T21:46:45.758601Z",
     "start_time": "2023-02-05T21:46:45.725127Z"
    }
   },
   "outputs": [],
   "source": [
    "# Create directories.\n",
    "source_dir = \"source_data\"\n",
    "hio.create_dir(source_dir, incremental=False)\n",
    "converted_dir = \"converted_data\"\n",
    "hio.create_dir(converted_dir, incremental=False)"
   ]
  },
  {
   "cell_type": "code",
   "execution_count": 9,
   "id": "0ce2fd41",
   "metadata": {
    "ExecuteTime": {
     "end_time": "2023-02-05T21:46:45.795546Z",
     "start_time": "2023-02-05T21:46:45.761267Z"
    }
   },
   "outputs": [],
   "source": [
    "# Load local login information.\n",
    "with open(\"kibot_login.txt\", \"r\") as f:\n",
    "    file = f.read()\n",
    "    username = file.split(\"\\n\")[0]\n",
    "    password = file.split(\"\\n\")[1]"
   ]
  },
  {
   "cell_type": "code",
   "execution_count": 10,
   "id": "3f42fe00",
   "metadata": {
    "ExecuteTime": {
     "end_time": "2023-02-05T21:46:45.832221Z",
     "start_time": "2023-02-05T21:46:45.799311Z"
    }
   },
   "outputs": [
    {
     "data": {
      "text/plain": [
       "'Aben@comcast.net'"
      ]
     },
     "execution_count": 10,
     "metadata": {},
     "output_type": "execute_result"
    }
   ],
   "source": [
    "username"
   ]
  },
  {
   "cell_type": "code",
   "execution_count": 11,
   "id": "8824221f",
   "metadata": {
    "ExecuteTime": {
     "end_time": "2023-02-05T21:46:46.280346Z",
     "start_time": "2023-02-05T21:46:45.834486Z"
    }
   },
   "outputs": [],
   "source": [
    "# Log in.\n",
    "requests_session = requests.Session()\n",
    "requests_retry = rpuuti.Retry(\n",
    "    total=12,\n",
    "    backoff_factor=2,\n",
    "    status_forcelist=[104, 403, 500, 501, 502, 503, 504],\n",
    ")\n",
    "requests_session.mount(\"http://\", radapt.HTTPAdapter(max_retries=requests_retry))\n",
    "requests_session.mount(\"https://\", radapt.HTTPAdapter(max_retries=requests_retry))\n",
    "kibot_account = imkidacon.ENDPOINT + \"account.aspx\"\n",
    "login_result = imkdaexdo._log_in(\n",
    "    kibot_account, username, str(password), requests_session\n",
    ")"
   ]
  },
  {
   "cell_type": "code",
   "execution_count": 12,
   "id": "d406b0aa",
   "metadata": {
    "ExecuteTime": {
     "end_time": "2023-02-05T21:46:46.535658Z",
     "start_time": "2023-02-05T21:46:46.298003Z"
    },
    "run_control": {
     "marked": true
    }
   },
   "outputs": [
    {
     "name": "stdout",
     "output_type": "stream",
     "text": [
      "WARNING Missing 'source_data/my_account.html': downloading it\n",
      "INFO  Requesting page 'http://www.kibot.com/account.aspx'\n",
      "INFO  Storing page to 'source_data/my_account.html'\n"
     ]
    },
    {
     "data": {
      "text/html": [
       "<div>\n",
       "<style scoped>\n",
       "    .dataframe tbody tr th:only-of-type {\n",
       "        vertical-align: middle;\n",
       "    }\n",
       "\n",
       "    .dataframe tbody tr th {\n",
       "        vertical-align: top;\n",
       "    }\n",
       "\n",
       "    .dataframe thead th {\n",
       "        text-align: right;\n",
       "    }\n",
       "</style>\n",
       "<table border=\"1\" class=\"dataframe\">\n",
       "  <thead>\n",
       "    <tr style=\"text-align: right;\">\n",
       "      <th></th>\n",
       "      <th>dataset</th>\n",
       "      <th>link</th>\n",
       "    </tr>\n",
       "  </thead>\n",
       "  <tbody>\n",
       "    <tr>\n",
       "      <th>0</th>\n",
       "      <td>all_stocks_1min</td>\n",
       "      <td>/download.aspx?product=0,All_Stocks_1min</td>\n",
       "    </tr>\n",
       "    <tr>\n",
       "      <th>1</th>\n",
       "      <td>all_stocks_unadjusted_1min</td>\n",
       "      <td>/download.aspx?product=0,All_Stocks_unadjusted...</td>\n",
       "    </tr>\n",
       "    <tr>\n",
       "      <th>2</th>\n",
       "      <td>all_stocks_daily</td>\n",
       "      <td>/download.aspx?product=0,All_Stocks_daily</td>\n",
       "    </tr>\n",
       "  </tbody>\n",
       "</table>\n",
       "</div>"
      ],
      "text/plain": [
       "                      dataset                                               link\n",
       "0             all_stocks_1min           /download.aspx?product=0,All_Stocks_1min\n",
       "1  all_stocks_unadjusted_1min  /download.aspx?product=0,All_Stocks_unadjusted...\n",
       "2            all_stocks_daily          /download.aspx?product=0,All_Stocks_daily"
      ]
     },
     "execution_count": 12,
     "metadata": {},
     "output_type": "execute_result"
    }
   ],
   "source": [
    "my_account_file = os.path.join(source_dir, \"my_account.html\")\n",
    "# Download my account html page.\n",
    "if not os.path.exists(my_account_file):\n",
    "    _LOG.warning(\"Missing '%s': downloading it\", my_account_file)\n",
    "    imkdaexdo._download_page(my_account_file, kibot_account, requests_session)\n",
    "dataset_links_csv_file = os.path.join(converted_dir, \"dataset_links.csv\")\n",
    "# Extract available datasets.\n",
    "dle = imkdaexdo.DatasetListExtractor()\n",
    "dataset_links_df = dle.extract_dataset_links(\n",
    "    os.path.join(source_dir, \"my_account.html\")\n",
    ")\n",
    "dataset_links_df.head(3)"
   ]
  },
  {
   "cell_type": "code",
   "execution_count": 13,
   "id": "42269759",
   "metadata": {
    "ExecuteTime": {
     "end_time": "2023-02-05T21:46:47.061719Z",
     "start_time": "2023-02-05T21:46:46.539105Z"
    }
   },
   "outputs": [
    {
     "name": "stdout",
     "output_type": "stream",
     "text": [
      "INFO  Saving to S3 in 's3://cryptokaizen-data/data/kibot/all_futures_continuous_contracts_daily'\n",
      "WARNING Missing source_data/all_futures_continuous_contracts_daily.html: downloading it\n",
      "INFO  Requesting page 'http://www.kibot.com/download.aspx?product=4,All_Futures_Continuous_Contracts_daily'\n",
      "INFO  Storing page to 'source_data/all_futures_continuous_contracts_daily.html'\n",
      "WARNING Parsing 'source_data/all_futures_continuous_contracts_daily.html'\n",
      "INFO  Number of files to download: 234:\n",
      "0  # Symbol                                               Link                                 Description\n",
      "1  1     JY  http://api.kibot.com/?action=download&link=151...            CONTINUOUS JAPANESE YEN CONTRACT\n",
      "2  2     TY  http://api.kibot.com/?action=download&link=151...  CONTINUOUS 10 YR US TREASURY NOTE CONTRACT\n",
      "3  3     FV  http://api.kibot.com/?action=download&link=iui...   CONTINUOUS 5 YR US TREASURY NOTE CONTRACT\n",
      "4  4     ES  http://api.kibot.com/?action=download&link=t1t...          CONTINUOUS E-MINI S&P 500 CONTRACT\n",
      "5  5     EU  http://api.kibot.com/?action=download&link=v3v...                 CONTINUOUS EURO FX CONTRACT\n"
     ]
    },
    {
     "data": {
      "text/html": [
       "<div>\n",
       "<style scoped>\n",
       "    .dataframe tbody tr th:only-of-type {\n",
       "        vertical-align: middle;\n",
       "    }\n",
       "\n",
       "    .dataframe tbody tr th {\n",
       "        vertical-align: top;\n",
       "    }\n",
       "\n",
       "    .dataframe thead th {\n",
       "        text-align: right;\n",
       "    }\n",
       "</style>\n",
       "<table border=\"1\" class=\"dataframe\">\n",
       "  <thead>\n",
       "    <tr style=\"text-align: right;\">\n",
       "      <th></th>\n",
       "      <th>#</th>\n",
       "      <th>Symbol</th>\n",
       "      <th>Link</th>\n",
       "      <th>Description</th>\n",
       "    </tr>\n",
       "  </thead>\n",
       "  <tbody>\n",
       "    <tr>\n",
       "      <th>1</th>\n",
       "      <td>1</td>\n",
       "      <td>JY</td>\n",
       "      <td>http://api.kibot.com/?action=download&amp;link=151...</td>\n",
       "      <td>CONTINUOUS JAPANESE YEN CONTRACT</td>\n",
       "    </tr>\n",
       "    <tr>\n",
       "      <th>2</th>\n",
       "      <td>2</td>\n",
       "      <td>TY</td>\n",
       "      <td>http://api.kibot.com/?action=download&amp;link=151...</td>\n",
       "      <td>CONTINUOUS 10 YR US TREASURY NOTE CONTRACT</td>\n",
       "    </tr>\n",
       "    <tr>\n",
       "      <th>3</th>\n",
       "      <td>3</td>\n",
       "      <td>FV</td>\n",
       "      <td>http://api.kibot.com/?action=download&amp;link=iui...</td>\n",
       "      <td>CONTINUOUS 5 YR US TREASURY NOTE CONTRACT</td>\n",
       "    </tr>\n",
       "  </tbody>\n",
       "</table>\n",
       "</div>"
      ],
      "text/plain": [
       "0  # Symbol                                               Link                                 Description\n",
       "1  1     JY  http://api.kibot.com/?action=download&link=151...            CONTINUOUS JAPANESE YEN CONTRACT\n",
       "2  2     TY  http://api.kibot.com/?action=download&link=151...  CONTINUOUS 10 YR US TREASURY NOTE CONTRACT\n",
       "3  3     FV  http://api.kibot.com/?action=download&link=iui...   CONTINUOUS 5 YR US TREASURY NOTE CONTRACT"
      ]
     },
     "execution_count": 13,
     "metadata": {},
     "output_type": "execute_result"
    }
   ],
   "source": [
    "# Create a directory for target dataset.\n",
    "dataset = \"all_futures_continuous_contracts_daily\"\n",
    "dataset_dir = os.path.join(converted_dir, dataset)\n",
    "hio.create_dir(dataset_dir, incremental=True)\n",
    "# Get specific payload addresses.\n",
    "de = imkdaexdo.DatasetExtractor(dataset, requests_session)\n",
    "to_download = de.get_dataset_payloads_to_download(\n",
    "    dataset_links_df,\n",
    "    source_dir,\n",
    "    converted_dir,\n",
    ")\n",
    "to_download.head(3)"
   ]
  },
  {
   "cell_type": "code",
   "execution_count": 14,
   "id": "d2bc7a74",
   "metadata": {
    "ExecuteTime": {
     "end_time": "2023-02-05T21:46:47.122215Z",
     "start_time": "2023-02-05T21:46:47.064983Z"
    },
    "run_control": {
     "marked": false
    }
   },
   "outputs": [
    {
     "name": "stderr",
     "output_type": "stream",
     "text": [
      "\r",
      "Downloading Kibot data:   0%|                           | 0/234 [00:00<?, ?it/s]"
     ]
    }
   ],
   "source": [
    "# Download payloads.\n",
    "func = lambda row: de.download_payload_page(\n",
    "    dataset_dir,\n",
    "    row,\n",
    "    **{\n",
    "        \"download_compressed\": True,\n",
    "        \"skip_if_exists\": False,\n",
    "        \"clean_up_artifacts\": False,\n",
    "    },\n",
    ")\n",
    "# Download a single payload from Kibot.\n",
    "tqdm_ = tqdm.tqdm(\n",
    "    to_download.iloc[1:2].iterrows(),\n",
    "    total=len(to_download),\n",
    "    desc=\"Downloading Kibot data\",\n",
    ")"
   ]
  },
  {
   "cell_type": "code",
   "execution_count": 15,
   "id": "0ad310dc",
   "metadata": {
    "ExecuteTime": {
     "end_time": "2023-02-05T21:46:49.925502Z",
     "start_time": "2023-02-05T21:46:47.125802Z"
    }
   },
   "outputs": [
    {
     "name": "stderr",
     "output_type": "stream",
     "text": [
      "Downloading Kibot data:   0%|                   | 1/234 [00:02<10:52,  2.80s/it]"
     ]
    },
    {
     "name": "stdout",
     "output_type": "stream",
     "text": [
      "['TY.csv.gz']\n"
     ]
    },
    {
     "name": "stderr",
     "output_type": "stream",
     "text": [
      "\n"
     ]
    }
   ],
   "source": [
    "for _, row in tqdm_:\n",
    "    func(row)\n",
    "# Show downloaded files.\n",
    "print(os.listdir(dataset_dir))"
   ]
  },
  {
   "cell_type": "code",
   "execution_count": 16,
   "id": "d7567974",
   "metadata": {
    "ExecuteTime": {
     "end_time": "2023-02-05T21:46:50.021264Z",
     "start_time": "2023-02-05T21:46:49.928520Z"
    },
    "run_control": {
     "marked": true
    }
   },
   "outputs": [
    {
     "data": {
      "text/html": [
       "<div>\n",
       "<style scoped>\n",
       "    .dataframe tbody tr th:only-of-type {\n",
       "        vertical-align: middle;\n",
       "    }\n",
       "\n",
       "    .dataframe tbody tr th {\n",
       "        vertical-align: top;\n",
       "    }\n",
       "\n",
       "    .dataframe thead th {\n",
       "        text-align: right;\n",
       "    }\n",
       "</style>\n",
       "<table border=\"1\" class=\"dataframe\">\n",
       "  <thead>\n",
       "    <tr style=\"text-align: right;\">\n",
       "      <th></th>\n",
       "      <th>05/03/1982</th>\n",
       "      <th>64.1875</th>\n",
       "      <th>64.3125</th>\n",
       "      <th>63.9375</th>\n",
       "      <th>63.9375.1</th>\n",
       "      <th>0</th>\n",
       "    </tr>\n",
       "  </thead>\n",
       "  <tbody>\n",
       "    <tr>\n",
       "      <th>0</th>\n",
       "      <td>05/04/1982</td>\n",
       "      <td>63.812500</td>\n",
       "      <td>64.500000</td>\n",
       "      <td>63.718800</td>\n",
       "      <td>64.437500</td>\n",
       "      <td>0</td>\n",
       "    </tr>\n",
       "    <tr>\n",
       "      <th>1</th>\n",
       "      <td>05/05/1982</td>\n",
       "      <td>64.593803</td>\n",
       "      <td>64.812500</td>\n",
       "      <td>64.375000</td>\n",
       "      <td>64.531197</td>\n",
       "      <td>0</td>\n",
       "    </tr>\n",
       "    <tr>\n",
       "      <th>2</th>\n",
       "      <td>05/06/1982</td>\n",
       "      <td>64.937500</td>\n",
       "      <td>65.406197</td>\n",
       "      <td>64.906197</td>\n",
       "      <td>65.375000</td>\n",
       "      <td>0</td>\n",
       "    </tr>\n",
       "    <tr>\n",
       "      <th>3</th>\n",
       "      <td>05/07/1982</td>\n",
       "      <td>65.656197</td>\n",
       "      <td>65.750000</td>\n",
       "      <td>65.312500</td>\n",
       "      <td>65.687500</td>\n",
       "      <td>0</td>\n",
       "    </tr>\n",
       "    <tr>\n",
       "      <th>4</th>\n",
       "      <td>05/10/1982</td>\n",
       "      <td>65.406197</td>\n",
       "      <td>65.656197</td>\n",
       "      <td>65.312500</td>\n",
       "      <td>65.468803</td>\n",
       "      <td>0</td>\n",
       "    </tr>\n",
       "  </tbody>\n",
       "</table>\n",
       "</div>"
      ],
      "text/plain": [
       "   05/03/1982    64.1875    64.3125    63.9375  63.9375.1  0\n",
       "0  05/04/1982  63.812500  64.500000  63.718800  64.437500  0\n",
       "1  05/05/1982  64.593803  64.812500  64.375000  64.531197  0\n",
       "2  05/06/1982  64.937500  65.406197  64.906197  65.375000  0\n",
       "3  05/07/1982  65.656197  65.750000  65.312500  65.687500  0\n",
       "4  05/10/1982  65.406197  65.656197  65.312500  65.468803  0"
      ]
     },
     "metadata": {},
     "output_type": "display_data"
    },
    {
     "data": {
      "text/html": [
       "<div>\n",
       "<style scoped>\n",
       "    .dataframe tbody tr th:only-of-type {\n",
       "        vertical-align: middle;\n",
       "    }\n",
       "\n",
       "    .dataframe tbody tr th {\n",
       "        vertical-align: top;\n",
       "    }\n",
       "\n",
       "    .dataframe thead th {\n",
       "        text-align: right;\n",
       "    }\n",
       "</style>\n",
       "<table border=\"1\" class=\"dataframe\">\n",
       "  <thead>\n",
       "    <tr style=\"text-align: right;\">\n",
       "      <th></th>\n",
       "      <th>05/03/1982</th>\n",
       "      <th>64.1875</th>\n",
       "      <th>64.3125</th>\n",
       "      <th>63.9375</th>\n",
       "      <th>63.9375.1</th>\n",
       "      <th>0</th>\n",
       "    </tr>\n",
       "  </thead>\n",
       "  <tbody>\n",
       "    <tr>\n",
       "      <th>8548</th>\n",
       "      <td>01/30/2023</td>\n",
       "      <td>114.656250</td>\n",
       "      <td>114.781250</td>\n",
       "      <td>114.171875</td>\n",
       "      <td>114.281250</td>\n",
       "      <td>1185210</td>\n",
       "    </tr>\n",
       "    <tr>\n",
       "      <th>8549</th>\n",
       "      <td>01/31/2023</td>\n",
       "      <td>114.406250</td>\n",
       "      <td>114.812500</td>\n",
       "      <td>114.296875</td>\n",
       "      <td>114.515625</td>\n",
       "      <td>2074922</td>\n",
       "    </tr>\n",
       "    <tr>\n",
       "      <th>8550</th>\n",
       "      <td>02/01/2023</td>\n",
       "      <td>114.640625</td>\n",
       "      <td>115.593750</td>\n",
       "      <td>114.546875</td>\n",
       "      <td>115.484375</td>\n",
       "      <td>2129670</td>\n",
       "    </tr>\n",
       "    <tr>\n",
       "      <th>8551</th>\n",
       "      <td>02/02/2023</td>\n",
       "      <td>115.312500</td>\n",
       "      <td>116.000000</td>\n",
       "      <td>115.312500</td>\n",
       "      <td>115.546875</td>\n",
       "      <td>1955041</td>\n",
       "    </tr>\n",
       "    <tr>\n",
       "      <th>8552</th>\n",
       "      <td>02/03/2023</td>\n",
       "      <td>115.500000</td>\n",
       "      <td>115.703125</td>\n",
       "      <td>114.250000</td>\n",
       "      <td>114.421875</td>\n",
       "      <td>2445886</td>\n",
       "    </tr>\n",
       "  </tbody>\n",
       "</table>\n",
       "</div>"
      ],
      "text/plain": [
       "      05/03/1982     64.1875     64.3125     63.9375   63.9375.1        0\n",
       "8548  01/30/2023  114.656250  114.781250  114.171875  114.281250  1185210\n",
       "8549  01/31/2023  114.406250  114.812500  114.296875  114.515625  2074922\n",
       "8550  02/01/2023  114.640625  115.593750  114.546875  115.484375  2129670\n",
       "8551  02/02/2023  115.312500  116.000000  115.312500  115.546875  1955041\n",
       "8552  02/03/2023  115.500000  115.703125  114.250000  114.421875  2445886"
      ]
     },
     "metadata": {},
     "output_type": "display_data"
    }
   ],
   "source": [
    "# Example of output data.\n",
    "df = pd.read_csv(os.path.join(dataset_dir, \"TY.csv.gz\"))\n",
    "display(df.head(5))\n",
    "display(df.tail(5))"
   ]
  },
  {
   "cell_type": "code",
   "execution_count": null,
   "id": "5f231e4c",
   "metadata": {},
   "outputs": [],
   "source": []
  }
 ],
 "metadata": {
  "kernelspec": {
   "display_name": "Python 3 (ipykernel)",
   "language": "python",
   "name": "python3"
  },
  "language_info": {
   "codemirror_mode": {
    "name": "ipython",
    "version": 3
   },
   "file_extension": ".py",
   "mimetype": "text/x-python",
   "name": "python",
   "nbconvert_exporter": "python",
   "pygments_lexer": "ipython3",
   "version": "3.8.10"
  },
  "toc": {
   "base_numbering": 1,
   "nav_menu": {},
   "number_sections": true,
   "sideBar": true,
   "skip_h1_title": false,
   "title_cell": "Table of Contents",
   "title_sidebar": "Contents",
   "toc_cell": false,
   "toc_position": {},
   "toc_section_display": true,
   "toc_window_display": false
  }
 },
 "nbformat": 4,
 "nbformat_minor": 5
}
