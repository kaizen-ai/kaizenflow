{
 "cells": [
  {
   "cell_type": "markdown",
   "id": "b8d96ebe",
   "metadata": {},
   "source": [
    "This is spin off from `CMTask2703_Perform_manual_reconciliation_of_OB_data` notebook\n",
    "We would like to reconcile data collected ~200ms via CCXT with historical data from CryptoChassis"
   ]
  },
  {
   "cell_type": "markdown",
   "id": "13ea08e1",
   "metadata": {},
   "source": [
    "- CCXT data = CCXT real-time DB bid-ask data collection for futures\n",
    "- CC data = CryptoChassis historical Parquet bid-ask futures data"
   ]
  },
  {
   "cell_type": "markdown",
   "id": "e545da78",
   "metadata": {},
   "source": [
    "# Imports"
   ]
  },
  {
   "cell_type": "code",
   "execution_count": 1,
   "id": "c4780eec",
   "metadata": {
    "ExecuteTime": {
     "end_time": "2022-10-12T11:25:22.828113Z",
     "start_time": "2022-10-12T11:25:21.951063Z"
    }
   },
   "outputs": [
    {
     "name": "stderr",
     "output_type": "stream",
     "text": [
      "/app/helpers/hparquet.py:19: TqdmExperimentalWarning: Using `tqdm.autonotebook.tqdm` in notebook mode. Use `tqdm.tqdm` instead to force console mode (e.g. in jupyter console)\n",
      "  from tqdm.autonotebook import tqdm\n"
     ]
    }
   ],
   "source": [
    "%load_ext autoreload\n",
    "%autoreload 2\n",
    "\n",
    "import logging\n",
    "\n",
    "import pandas as pd\n",
    "\n",
    "import helpers.hdatetime as hdateti\n",
    "import helpers.hdbg as hdbg\n",
    "import helpers.henv as henv\n",
    "import helpers.hpandas as hpandas\n",
    "import helpers.hparquet as hparque\n",
    "import helpers.hprint as hprint\n",
    "import helpers.hsql as hsql\n",
    "import im_v2.im_lib_tasks as imvimlita"
   ]
  },
  {
   "cell_type": "code",
   "execution_count": 2,
   "id": "409c1bfd",
   "metadata": {
    "ExecuteTime": {
     "end_time": "2022-10-12T11:25:24.458063Z",
     "start_time": "2022-10-12T11:25:22.831180Z"
    },
    "scrolled": true
   },
   "outputs": [
    {
     "name": "stdout",
     "output_type": "stream",
     "text": [
      "\u001b[0m\u001b[36mINFO\u001b[0m: > cmd='/venv/lib/python3.8/site-packages/ipykernel_launcher.py -f /home/.local/share/jupyter/runtime/kernel-f2e97df8-a422-4554-a88a-2cb834609870.json'\n",
      "WARNING: Running in Jupyter\n",
      "INFO  # Git\n",
      "  branch_name='CmTask2912_Implement_Websocket_Extractor'\n",
      "  hash='eaddf9e92'\n",
      "  # Last commits:\n",
      "    * eaddf9e92 jsmerix  Add websocket data reconciliation notebook                        (  18 hours ago) Tue Oct 11 17:43:16 2022  (HEAD -> CmTask2912_Implement_Websocket_Extractor, origin/CmTask2912_Implement_Websocket_Extractor)\n",
      "    * 2ad6766cb jsmerix  Rename attribute                                                  (    4 days ago) Sat Oct 8 16:28:37 2022           \n",
      "    * 9e48b5313 jsmerix  Update Talos extractor to avoid missing abstract methods error    (    4 days ago) Sat Oct 8 16:27:59 2022           \n",
      "# Machine info\n",
      "  system=Linux\n",
      "  node name=e5090f74aa2a\n",
      "  release=5.15.0-1019-aws\n",
      "  version=#23~20.04.1-Ubuntu SMP Thu Aug 18 03:20:14 UTC 2022\n",
      "  machine=x86_64\n",
      "  processor=x86_64\n",
      "  cpu count=8\n",
      "  cpu freq=scpufreq(current=2499.998, min=0.0, max=0.0)\n",
      "  memory=svmem(total=33292894208, available=20120813568, percent=39.6, used=12474736640, free=8599982080, active=6574759936, inactive=15236698112, buffers=1174142976, cached=11044032512, shared=232579072, slab=2350219264)\n",
      "  disk usage=sdiskusage(total=156052275200, used=32479268864, free=123556229120, percent=20.8)\n",
      "# Packages\n",
      "  python: 3.8.10\n",
      "  gluonnlp: ?\n",
      "  gluonts: 0.6.7\n",
      "  joblib: 1.2.0\n",
      "  mxnet: 1.9.1\n",
      "  numpy: 1.23.3\n",
      "  pandas: 1.5.0\n",
      "  pyarrow: 9.0.0\n",
      "  scipy: 1.9.1\n",
      "  seaborn: 0.12.0\n",
      "  sklearn: 1.1.2\n",
      "  statsmodels: 0.13.2\n"
     ]
    }
   ],
   "source": [
    "hdbg.init_logger(verbosity=logging.INFO)\n",
    "\n",
    "_LOG = logging.getLogger(__name__)\n",
    "\n",
    "_LOG.info(\"%s\", henv.get_system_signature()[0])\n",
    "\n",
    "hprint.config_notebook()"
   ]
  },
  {
   "cell_type": "markdown",
   "id": "9e225fc3",
   "metadata": {},
   "source": [
    "# Load the data\n",
    "\n",
    "For CCXT data we have multiple data points within a single, we resample to second by taking the latest entry within\n",
    "a second"
   ]
  },
  {
   "cell_type": "markdown",
   "id": "bf6019d1",
   "metadata": {},
   "source": [
    "## Specify universe"
   ]
  },
  {
   "cell_type": "code",
   "execution_count": 3,
   "id": "b1a060d4",
   "metadata": {
    "ExecuteTime": {
     "end_time": "2022-10-12T11:25:24.483429Z",
     "start_time": "2022-10-12T11:25:24.460752Z"
    }
   },
   "outputs": [],
   "source": [
    "universe = [\n",
    "    \"binance::SOL_USDT\",\n",
    "    \"binance::DOGE_USDT\",\n",
    "    \"binance::BNB_USDT\",\n",
    "    \"binance::ETH_USDT\",\n",
    "    \"binance::BTC_USDT\",\n",
    "]"
   ]
  },
  {
   "cell_type": "markdown",
   "id": "0eb611b3",
   "metadata": {},
   "source": [
    "## Load data"
   ]
  },
  {
   "cell_type": "code",
   "execution_count": 4,
   "id": "2bb201c8",
   "metadata": {
    "ExecuteTime": {
     "end_time": "2022-10-12T11:25:24.512467Z",
     "start_time": "2022-10-12T11:25:24.486730Z"
    }
   },
   "outputs": [],
   "source": [
    "start_ts = pd.Timestamp(\"2022-10-11 17:00:00+00:00\")\n",
    "end_ts = pd.Timestamp(\"2022-10-11 18:00:00+00:00\")\n",
    "start_ts_unix = hdateti.convert_timestamp_to_unix_epoch(start_ts)\n",
    "end_ts_unix = hdateti.convert_timestamp_to_unix_epoch(end_ts)"
   ]
  },
  {
   "cell_type": "markdown",
   "id": "96c2c233",
   "metadata": {},
   "source": [
    "### CC data"
   ]
  },
  {
   "cell_type": "code",
   "execution_count": 5,
   "id": "aaf8dcfa",
   "metadata": {
    "ExecuteTime": {
     "end_time": "2022-10-12T11:25:30.151064Z",
     "start_time": "2022-10-12T11:25:24.514396Z"
    }
   },
   "outputs": [],
   "source": [
    "filters = [(\"year\", \"=\", 2022), (\"month\", \"=\", 10)]\n",
    "file_name = \"s3://cryptokaizen-data.preprod/reorg/daily_staged.airflow.pq/bid_ask-futures/crypto_chassis/binance/\"\n",
    "df = hparque.from_parquet(file_name, filters=filters, aws_profile=\"ck\")"
   ]
  },
  {
   "cell_type": "code",
   "execution_count": 6,
   "id": "cfb78e89",
   "metadata": {
    "ExecuteTime": {
     "end_time": "2022-10-12T11:25:30.192009Z",
     "start_time": "2022-10-12T11:25:30.153556Z"
    }
   },
   "outputs": [
    {
     "data": {
      "text/html": [
       "<div>\n",
       "<style scoped>\n",
       "    .dataframe tbody tr th:only-of-type {\n",
       "        vertical-align: middle;\n",
       "    }\n",
       "\n",
       "    .dataframe tbody tr th {\n",
       "        vertical-align: top;\n",
       "    }\n",
       "\n",
       "    .dataframe thead th {\n",
       "        text-align: right;\n",
       "    }\n",
       "</style>\n",
       "<table border=\"1\" class=\"dataframe\">\n",
       "  <thead>\n",
       "    <tr style=\"text-align: right;\">\n",
       "      <th></th>\n",
       "      <th>timestamp</th>\n",
       "      <th>bid_price</th>\n",
       "      <th>bid_size</th>\n",
       "      <th>ask_price</th>\n",
       "      <th>ask_size</th>\n",
       "      <th>exchange_id</th>\n",
       "      <th>knowledge_timestamp</th>\n",
       "      <th>currency_pair</th>\n",
       "      <th>year</th>\n",
       "      <th>month</th>\n",
       "    </tr>\n",
       "    <tr>\n",
       "      <th>timestamp</th>\n",
       "      <th></th>\n",
       "      <th></th>\n",
       "      <th></th>\n",
       "      <th></th>\n",
       "      <th></th>\n",
       "      <th></th>\n",
       "      <th></th>\n",
       "      <th></th>\n",
       "      <th></th>\n",
       "      <th></th>\n",
       "    </tr>\n",
       "  </thead>\n",
       "  <tbody>\n",
       "    <tr>\n",
       "      <th>2022-10-07 00:00:00+00:00</th>\n",
       "      <td>1665100800</td>\n",
       "      <td>0.4285</td>\n",
       "      <td>65997.0</td>\n",
       "      <td>0.4286</td>\n",
       "      <td>186646.0</td>\n",
       "      <td>binance</td>\n",
       "      <td>2022-10-09 00:26:22.997214+00:00</td>\n",
       "      <td>ADA_USDT</td>\n",
       "      <td>2022</td>\n",
       "      <td>10</td>\n",
       "    </tr>\n",
       "    <tr>\n",
       "      <th>2022-10-07 00:00:01+00:00</th>\n",
       "      <td>1665100801</td>\n",
       "      <td>0.4284</td>\n",
       "      <td>50367.0</td>\n",
       "      <td>0.4285</td>\n",
       "      <td>84562.0</td>\n",
       "      <td>binance</td>\n",
       "      <td>2022-10-09 00:26:22.997214+00:00</td>\n",
       "      <td>ADA_USDT</td>\n",
       "      <td>2022</td>\n",
       "      <td>10</td>\n",
       "    </tr>\n",
       "    <tr>\n",
       "      <th>2022-10-07 00:00:03+00:00</th>\n",
       "      <td>1665100803</td>\n",
       "      <td>0.4284</td>\n",
       "      <td>45702.0</td>\n",
       "      <td>0.4285</td>\n",
       "      <td>84562.0</td>\n",
       "      <td>binance</td>\n",
       "      <td>2022-10-09 00:26:22.997214+00:00</td>\n",
       "      <td>ADA_USDT</td>\n",
       "      <td>2022</td>\n",
       "      <td>10</td>\n",
       "    </tr>\n",
       "    <tr>\n",
       "      <th>2022-10-07 00:00:05+00:00</th>\n",
       "      <td>1665100805</td>\n",
       "      <td>0.4284</td>\n",
       "      <td>43969.0</td>\n",
       "      <td>0.4285</td>\n",
       "      <td>84562.0</td>\n",
       "      <td>binance</td>\n",
       "      <td>2022-10-09 00:26:22.997214+00:00</td>\n",
       "      <td>ADA_USDT</td>\n",
       "      <td>2022</td>\n",
       "      <td>10</td>\n",
       "    </tr>\n",
       "    <tr>\n",
       "      <th>2022-10-07 00:00:07+00:00</th>\n",
       "      <td>1665100807</td>\n",
       "      <td>0.4284</td>\n",
       "      <td>68826.0</td>\n",
       "      <td>0.4285</td>\n",
       "      <td>107099.0</td>\n",
       "      <td>binance</td>\n",
       "      <td>2022-10-09 00:26:22.997214+00:00</td>\n",
       "      <td>ADA_USDT</td>\n",
       "      <td>2022</td>\n",
       "      <td>10</td>\n",
       "    </tr>\n",
       "  </tbody>\n",
       "</table>\n",
       "</div>"
      ],
      "text/plain": [
       "                            timestamp  bid_price  bid_size  ask_price  ask_size exchange_id              knowledge_timestamp currency_pair  year  month\n",
       "timestamp                                                                                                                                              \n",
       "2022-10-07 00:00:00+00:00  1665100800     0.4285   65997.0     0.4286  186646.0     binance 2022-10-09 00:26:22.997214+00:00      ADA_USDT  2022     10\n",
       "2022-10-07 00:00:01+00:00  1665100801     0.4284   50367.0     0.4285   84562.0     binance 2022-10-09 00:26:22.997214+00:00      ADA_USDT  2022     10\n",
       "2022-10-07 00:00:03+00:00  1665100803     0.4284   45702.0     0.4285   84562.0     binance 2022-10-09 00:26:22.997214+00:00      ADA_USDT  2022     10\n",
       "2022-10-07 00:00:05+00:00  1665100805     0.4284   43969.0     0.4285   84562.0     binance 2022-10-09 00:26:22.997214+00:00      ADA_USDT  2022     10\n",
       "2022-10-07 00:00:07+00:00  1665100807     0.4284   68826.0     0.4285  107099.0     binance 2022-10-09 00:26:22.997214+00:00      ADA_USDT  2022     10"
      ]
     },
     "execution_count": 6,
     "metadata": {},
     "output_type": "execute_result"
    }
   ],
   "source": [
    "df.head()"
   ]
  },
  {
   "cell_type": "code",
   "execution_count": 7,
   "id": "e43148bd",
   "metadata": {
    "ExecuteTime": {
     "end_time": "2022-10-12T11:25:30.297441Z",
     "start_time": "2022-10-12T11:25:30.194844Z"
    }
   },
   "outputs": [
    {
     "data": {
      "text/plain": [
       "Timestamp('2022-10-11 23:59:59+0000', tz='UTC')"
      ]
     },
     "execution_count": 7,
     "metadata": {},
     "output_type": "execute_result"
    }
   ],
   "source": [
    "df.index.max()"
   ]
  },
  {
   "cell_type": "code",
   "execution_count": 8,
   "id": "271001ab",
   "metadata": {
    "ExecuteTime": {
     "end_time": "2022-10-12T11:25:30.551060Z",
     "start_time": "2022-10-12T11:25:30.299669Z"
    }
   },
   "outputs": [],
   "source": [
    "df_chassis = df.loc[(df.index >= start_ts) & (df.index <= end_ts)]\n",
    "df_chassis = df_chassis.drop_duplicates()\n",
    "df_chassis[\"full_symbol\"] = \"binance::\" + df_chassis[\"currency_pair\"]\n",
    "df_chassis = df_chassis[df_chassis[\"full_symbol\"].isin(universe)]\n",
    "df_chassis = df_chassis[\n",
    "    [\"bid_size\", \"bid_price\", \"ask_size\", \"ask_price\", \"full_symbol\"]\n",
    "]\n",
    "df_chassis = df_chassis.reset_index().set_index([\"timestamp\", \"full_symbol\"])\n",
    "# We drop the first row because CC labels right side of the intrval during resampling, meaning for CCXT we will have\n",
    "# one less row\n",
    "df_chassis = df_chassis.drop(start_ts)"
   ]
  },
  {
   "cell_type": "code",
   "execution_count": 9,
   "id": "9e1b500a",
   "metadata": {
    "ExecuteTime": {
     "end_time": "2022-10-12T11:25:30.589268Z",
     "start_time": "2022-10-12T11:25:30.553826Z"
    }
   },
   "outputs": [
    {
     "data": {
      "text/html": [
       "<div>\n",
       "<style scoped>\n",
       "    .dataframe tbody tr th:only-of-type {\n",
       "        vertical-align: middle;\n",
       "    }\n",
       "\n",
       "    .dataframe tbody tr th {\n",
       "        vertical-align: top;\n",
       "    }\n",
       "\n",
       "    .dataframe thead th {\n",
       "        text-align: right;\n",
       "    }\n",
       "</style>\n",
       "<table border=\"1\" class=\"dataframe\">\n",
       "  <thead>\n",
       "    <tr style=\"text-align: right;\">\n",
       "      <th></th>\n",
       "      <th></th>\n",
       "      <th>bid_size</th>\n",
       "      <th>bid_price</th>\n",
       "      <th>ask_size</th>\n",
       "      <th>ask_price</th>\n",
       "    </tr>\n",
       "    <tr>\n",
       "      <th>timestamp</th>\n",
       "      <th>full_symbol</th>\n",
       "      <th></th>\n",
       "      <th></th>\n",
       "      <th></th>\n",
       "      <th></th>\n",
       "    </tr>\n",
       "  </thead>\n",
       "  <tbody>\n",
       "    <tr>\n",
       "      <th>2022-10-11 17:59:56+00:00</th>\n",
       "      <th>binance::SOL_USDT</th>\n",
       "      <td>587.0</td>\n",
       "      <td>31.63</td>\n",
       "      <td>998.0</td>\n",
       "      <td>31.64</td>\n",
       "    </tr>\n",
       "    <tr>\n",
       "      <th>2022-10-11 17:59:57+00:00</th>\n",
       "      <th>binance::SOL_USDT</th>\n",
       "      <td>1495.0</td>\n",
       "      <td>31.64</td>\n",
       "      <td>951.0</td>\n",
       "      <td>31.65</td>\n",
       "    </tr>\n",
       "    <tr>\n",
       "      <th>2022-10-11 17:59:58+00:00</th>\n",
       "      <th>binance::SOL_USDT</th>\n",
       "      <td>1512.0</td>\n",
       "      <td>31.64</td>\n",
       "      <td>951.0</td>\n",
       "      <td>31.65</td>\n",
       "    </tr>\n",
       "    <tr>\n",
       "      <th>2022-10-11 17:59:59+00:00</th>\n",
       "      <th>binance::SOL_USDT</th>\n",
       "      <td>1469.0</td>\n",
       "      <td>31.64</td>\n",
       "      <td>1363.0</td>\n",
       "      <td>31.65</td>\n",
       "    </tr>\n",
       "    <tr>\n",
       "      <th>2022-10-11 18:00:00+00:00</th>\n",
       "      <th>binance::SOL_USDT</th>\n",
       "      <td>1487.0</td>\n",
       "      <td>31.64</td>\n",
       "      <td>949.0</td>\n",
       "      <td>31.65</td>\n",
       "    </tr>\n",
       "  </tbody>\n",
       "</table>\n",
       "</div>"
      ],
      "text/plain": [
       "                                             bid_size  bid_price  ask_size  ask_price\n",
       "timestamp                 full_symbol                                                \n",
       "2022-10-11 17:59:56+00:00 binance::SOL_USDT     587.0      31.63     998.0      31.64\n",
       "2022-10-11 17:59:57+00:00 binance::SOL_USDT    1495.0      31.64     951.0      31.65\n",
       "2022-10-11 17:59:58+00:00 binance::SOL_USDT    1512.0      31.64     951.0      31.65\n",
       "2022-10-11 17:59:59+00:00 binance::SOL_USDT    1469.0      31.64    1363.0      31.65\n",
       "2022-10-11 18:00:00+00:00 binance::SOL_USDT    1487.0      31.64     949.0      31.65"
      ]
     },
     "execution_count": 9,
     "metadata": {},
     "output_type": "execute_result"
    }
   ],
   "source": [
    "df_chassis.tail()"
   ]
  },
  {
   "cell_type": "code",
   "execution_count": 10,
   "id": "881e4a98",
   "metadata": {
    "ExecuteTime": {
     "end_time": "2022-10-12T11:25:30.618141Z",
     "start_time": "2022-10-12T11:25:30.593036Z"
    }
   },
   "outputs": [
    {
     "data": {
      "text/plain": [
       "(35632, 4)"
      ]
     },
     "execution_count": 10,
     "metadata": {},
     "output_type": "execute_result"
    }
   ],
   "source": [
    "df_chassis.shape"
   ]
  },
  {
   "cell_type": "code",
   "execution_count": 11,
   "id": "e7000882",
   "metadata": {
    "ExecuteTime": {
     "end_time": "2022-10-12T11:25:30.659752Z",
     "start_time": "2022-10-12T11:25:30.621858Z"
    }
   },
   "outputs": [
    {
     "data": {
      "text/html": [
       "<div>\n",
       "<style scoped>\n",
       "    .dataframe tbody tr th:only-of-type {\n",
       "        vertical-align: middle;\n",
       "    }\n",
       "\n",
       "    .dataframe tbody tr th {\n",
       "        vertical-align: top;\n",
       "    }\n",
       "\n",
       "    .dataframe thead th {\n",
       "        text-align: right;\n",
       "    }\n",
       "</style>\n",
       "<table border=\"1\" class=\"dataframe\">\n",
       "  <thead>\n",
       "    <tr style=\"text-align: right;\">\n",
       "      <th></th>\n",
       "      <th></th>\n",
       "      <th>bid_size</th>\n",
       "      <th>bid_price</th>\n",
       "      <th>ask_size</th>\n",
       "      <th>ask_price</th>\n",
       "    </tr>\n",
       "    <tr>\n",
       "      <th>timestamp</th>\n",
       "      <th>full_symbol</th>\n",
       "      <th></th>\n",
       "      <th></th>\n",
       "      <th></th>\n",
       "      <th></th>\n",
       "    </tr>\n",
       "  </thead>\n",
       "  <tbody>\n",
       "    <tr>\n",
       "      <th>2022-10-11 17:00:01+00:00</th>\n",
       "      <th>binance::BTC_USDT</th>\n",
       "      <td>12.477</td>\n",
       "      <td>19145.8</td>\n",
       "      <td>1.741</td>\n",
       "      <td>19145.9</td>\n",
       "    </tr>\n",
       "    <tr>\n",
       "      <th>2022-10-11 17:00:02+00:00</th>\n",
       "      <th>binance::BTC_USDT</th>\n",
       "      <td>4.687</td>\n",
       "      <td>19145.8</td>\n",
       "      <td>19.584</td>\n",
       "      <td>19145.9</td>\n",
       "    </tr>\n",
       "    <tr>\n",
       "      <th>2022-10-11 17:00:03+00:00</th>\n",
       "      <th>binance::BTC_USDT</th>\n",
       "      <td>45.384</td>\n",
       "      <td>19145.9</td>\n",
       "      <td>1.496</td>\n",
       "      <td>19146.0</td>\n",
       "    </tr>\n",
       "    <tr>\n",
       "      <th>2022-10-11 17:00:04+00:00</th>\n",
       "      <th>binance::BTC_USDT</th>\n",
       "      <td>26.743</td>\n",
       "      <td>19146.4</td>\n",
       "      <td>10.655</td>\n",
       "      <td>19146.5</td>\n",
       "    </tr>\n",
       "    <tr>\n",
       "      <th>2022-10-11 17:00:05+00:00</th>\n",
       "      <th>binance::BTC_USDT</th>\n",
       "      <td>39.214</td>\n",
       "      <td>19147.6</td>\n",
       "      <td>0.512</td>\n",
       "      <td>19147.7</td>\n",
       "    </tr>\n",
       "  </tbody>\n",
       "</table>\n",
       "</div>"
      ],
      "text/plain": [
       "                                             bid_size  bid_price  ask_size  ask_price\n",
       "timestamp                 full_symbol                                                \n",
       "2022-10-11 17:00:01+00:00 binance::BTC_USDT    12.477    19145.8     1.741    19145.9\n",
       "2022-10-11 17:00:02+00:00 binance::BTC_USDT     4.687    19145.8    19.584    19145.9\n",
       "2022-10-11 17:00:03+00:00 binance::BTC_USDT    45.384    19145.9     1.496    19146.0\n",
       "2022-10-11 17:00:04+00:00 binance::BTC_USDT    26.743    19146.4    10.655    19146.5\n",
       "2022-10-11 17:00:05+00:00 binance::BTC_USDT    39.214    19147.6     0.512    19147.7"
      ]
     },
     "execution_count": 11,
     "metadata": {},
     "output_type": "execute_result"
    }
   ],
   "source": [
    "df_chassis[df_chassis.index.isin([\"binance::BTC_USDT\"], level=1)].head()"
   ]
  },
  {
   "cell_type": "markdown",
   "id": "c48a2b9e",
   "metadata": {},
   "source": [
    "### CCXT data"
   ]
  },
  {
   "cell_type": "code",
   "execution_count": 12,
   "id": "7cd52889",
   "metadata": {
    "ExecuteTime": {
     "end_time": "2022-10-12T11:25:31.534928Z",
     "start_time": "2022-10-12T11:25:30.662272Z"
    }
   },
   "outputs": [],
   "source": [
    "env_file = imvimlita.get_db_env_path(\"dev\")\n",
    "connection_params = hsql.get_connection_info_from_env_file(env_file)\n",
    "db_connection = hsql.get_connection(*connection_params)"
   ]
  },
  {
   "cell_type": "code",
   "execution_count": 13,
   "id": "aa1f53ed",
   "metadata": {
    "ExecuteTime": {
     "end_time": "2022-10-12T11:25:31.579790Z",
     "start_time": "2022-10-12T11:25:31.537511Z"
    }
   },
   "outputs": [
    {
     "data": {
      "text/plain": [
       "'SELECT * FROM public.ccxt_bid_ask_futures_test WHERE level = 1 AND timestamp >= 1665507600000 AND timestamp <= 1665511200000'"
      ]
     },
     "execution_count": 13,
     "metadata": {},
     "output_type": "execute_result"
    }
   ],
   "source": [
    "query = f\"SELECT * FROM public.ccxt_bid_ask_futures_test \\\n",
    "WHERE level = 1 AND timestamp >= {start_ts_unix} AND timestamp <= {end_ts_unix}\"\n",
    "query"
   ]
  },
  {
   "cell_type": "code",
   "execution_count": 14,
   "id": "eb40c11d",
   "metadata": {
    "ExecuteTime": {
     "end_time": "2022-10-12T11:25:38.932672Z",
     "start_time": "2022-10-12T11:25:31.582188Z"
    },
    "scrolled": true
   },
   "outputs": [
    {
     "name": "stderr",
     "output_type": "stream",
     "text": [
      "/app/helpers/hsql_implementation.py:550: UserWarning: pandas only supports SQLAlchemy connectable (engine/connection) or database string URI or sqlite3 DBAPI2 connection. Other DBAPI2 objects are not tested. Please consider using SQLAlchemy.\n",
      "  df = pd.read_sql_query(query, connection)\n"
     ]
    }
   ],
   "source": [
    "df_ccxt = hsql.execute_query_to_df(db_connection, query)\n",
    "df_ccxt[\"timestamp\"] = df_ccxt[\"timestamp\"].map(\n",
    "    hdateti.convert_unix_epoch_to_timestamp\n",
    ")\n",
    "df_ccxt = df_ccxt.reset_index(drop=True).set_index([\"timestamp\"])"
   ]
  },
  {
   "cell_type": "code",
   "execution_count": 15,
   "id": "9ea47864",
   "metadata": {
    "ExecuteTime": {
     "end_time": "2022-10-12T11:25:39.345112Z",
     "start_time": "2022-10-12T11:25:38.934957Z"
    }
   },
   "outputs": [],
   "source": [
    "# Use label right to match crypto chassis data\n",
    "df_ccxt[\"full_symbol\"] = \"binance::\" + df_ccxt[\"currency_pair\"]\n",
    "dfs_ccxt = []\n",
    "for fs in universe:\n",
    "    df_fs = df_ccxt[df_ccxt[\"full_symbol\"] == fs]\n",
    "    df_fs = (\n",
    "        df_fs[[\"bid_size\", \"bid_price\", \"ask_size\", \"ask_price\"]]\n",
    "        .resample(\"S\", label=\"right\")\n",
    "        .mean()\n",
    "    )\n",
    "    df_fs[\"full_symbol\"] = fs\n",
    "    df_fs = df_fs.reset_index().set_index([\"timestamp\", \"full_symbol\"])\n",
    "    dfs_ccxt.append(df_fs)\n",
    "df_ccxt_sec_last = pd.concat(dfs_ccxt)"
   ]
  },
  {
   "cell_type": "markdown",
   "id": "0d4539db",
   "metadata": {},
   "source": [
    "# Analysis"
   ]
  },
  {
   "cell_type": "code",
   "execution_count": 16,
   "id": "518426fe",
   "metadata": {
    "ExecuteTime": {
     "end_time": "2022-10-12T11:25:39.371838Z",
     "start_time": "2022-10-12T11:25:39.348206Z"
    }
   },
   "outputs": [],
   "source": [
    "data_ccxt = df_ccxt_sec_last\n",
    "data_cc = df_chassis"
   ]
  },
  {
   "cell_type": "code",
   "execution_count": 17,
   "id": "118b7edc",
   "metadata": {
    "ExecuteTime": {
     "end_time": "2022-10-12T11:25:39.396925Z",
     "start_time": "2022-10-12T11:25:39.373799Z"
    }
   },
   "outputs": [],
   "source": [
    "bid_ask_cols = [\"bid_size\", \"bid_price\", \"ask_size\", \"ask_price\", \"full_symbol\"]"
   ]
  },
  {
   "cell_type": "markdown",
   "id": "7d9a6c62",
   "metadata": {},
   "source": [
    "## Merge CC and DB data into one DataFrame"
   ]
  },
  {
   "cell_type": "code",
   "execution_count": 18,
   "id": "3d763fe3",
   "metadata": {
    "ExecuteTime": {
     "end_time": "2022-10-12T11:25:39.580678Z",
     "start_time": "2022-10-12T11:25:39.399271Z"
    }
   },
   "outputs": [
    {
     "name": "stdout",
     "output_type": "stream",
     "text": [
      "INFO  Start date = 2022-10-11 17:00:01+00:00\n",
      "INFO  End date = 2022-10-11 18:00:00+00:00\n",
      "INFO  Avg observations per coin = 7163.2\n",
      "INFO  Number of observations with NaNs in CryptoChassis = 184\n",
      "INFO  Number of observations with NaNs in CCXT = 0\n",
      "INFO  removed rows with nans: 184 / 35816 = 0.51%\n"
     ]
    },
    {
     "data": {
      "text/html": [
       "<div>\n",
       "<style scoped>\n",
       "    .dataframe tbody tr th:only-of-type {\n",
       "        vertical-align: middle;\n",
       "    }\n",
       "\n",
       "    .dataframe tbody tr th {\n",
       "        vertical-align: top;\n",
       "    }\n",
       "\n",
       "    .dataframe thead th {\n",
       "        text-align: right;\n",
       "    }\n",
       "</style>\n",
       "<table border=\"1\" class=\"dataframe\">\n",
       "  <thead>\n",
       "    <tr style=\"text-align: right;\">\n",
       "      <th></th>\n",
       "      <th></th>\n",
       "      <th>ask_price_cc</th>\n",
       "      <th>ask_price_ccxt</th>\n",
       "      <th>ask_size_cc</th>\n",
       "      <th>ask_size_ccxt</th>\n",
       "      <th>bid_price_cc</th>\n",
       "      <th>bid_price_ccxt</th>\n",
       "      <th>bid_size_cc</th>\n",
       "      <th>bid_size_ccxt</th>\n",
       "    </tr>\n",
       "    <tr>\n",
       "      <th>timestamp</th>\n",
       "      <th>full_symbol</th>\n",
       "      <th></th>\n",
       "      <th></th>\n",
       "      <th></th>\n",
       "      <th></th>\n",
       "      <th></th>\n",
       "      <th></th>\n",
       "      <th></th>\n",
       "      <th></th>\n",
       "    </tr>\n",
       "  </thead>\n",
       "  <tbody>\n",
       "    <tr>\n",
       "      <th rowspan=\"5\" valign=\"top\">2022-10-11 18:00:00+00:00</th>\n",
       "      <th>binance::DOGE_USDT</th>\n",
       "      <td>0.06025</td>\n",
       "      <td>0.06025</td>\n",
       "      <td>281744.000</td>\n",
       "      <td>280241.200</td>\n",
       "      <td>0.06024</td>\n",
       "      <td>0.06024</td>\n",
       "      <td>130636.000</td>\n",
       "      <td>130546.800000</td>\n",
       "    </tr>\n",
       "    <tr>\n",
       "      <th>binance::ETH_USDT</th>\n",
       "      <td>1290.48000</td>\n",
       "      <td>1290.48000</td>\n",
       "      <td>160.683</td>\n",
       "      <td>156.342</td>\n",
       "      <td>1290.47000</td>\n",
       "      <td>1290.47000</td>\n",
       "      <td>0.004</td>\n",
       "      <td>0.709600</td>\n",
       "    </tr>\n",
       "    <tr>\n",
       "      <th>binance::ETH_USDT</th>\n",
       "      <td>1290.48000</td>\n",
       "      <td>1290.48000</td>\n",
       "      <td>160.683</td>\n",
       "      <td>156.342</td>\n",
       "      <td>1290.47000</td>\n",
       "      <td>1290.47000</td>\n",
       "      <td>0.004</td>\n",
       "      <td>0.709600</td>\n",
       "    </tr>\n",
       "    <tr>\n",
       "      <th>binance::SOL_USDT</th>\n",
       "      <td>31.65000</td>\n",
       "      <td>31.65000</td>\n",
       "      <td>949.000</td>\n",
       "      <td>1087.000</td>\n",
       "      <td>31.64000</td>\n",
       "      <td>31.64000</td>\n",
       "      <td>1487.000</td>\n",
       "      <td>1480.833333</td>\n",
       "    </tr>\n",
       "    <tr>\n",
       "      <th>binance::SOL_USDT</th>\n",
       "      <td>31.65000</td>\n",
       "      <td>31.65000</td>\n",
       "      <td>949.000</td>\n",
       "      <td>1087.000</td>\n",
       "      <td>31.64000</td>\n",
       "      <td>31.64000</td>\n",
       "      <td>1487.000</td>\n",
       "      <td>1480.833333</td>\n",
       "    </tr>\n",
       "  </tbody>\n",
       "</table>\n",
       "</div>"
      ],
      "text/plain": [
       "                                              ask_price_cc  ask_price_ccxt  ask_size_cc  ask_size_ccxt  bid_price_cc  bid_price_ccxt  bid_size_cc  bid_size_ccxt\n",
       "timestamp                 full_symbol                                                                                                                           \n",
       "2022-10-11 18:00:00+00:00 binance::DOGE_USDT       0.06025         0.06025   281744.000     280241.200       0.06024         0.06024   130636.000  130546.800000\n",
       "                          binance::ETH_USDT     1290.48000      1290.48000      160.683        156.342    1290.47000      1290.47000        0.004       0.709600\n",
       "                          binance::ETH_USDT     1290.48000      1290.48000      160.683        156.342    1290.47000      1290.47000        0.004       0.709600\n",
       "                          binance::SOL_USDT       31.65000        31.65000      949.000       1087.000      31.64000        31.64000     1487.000    1480.833333\n",
       "                          binance::SOL_USDT       31.65000        31.65000      949.000       1087.000      31.64000        31.64000     1487.000    1480.833333"
      ]
     },
     "metadata": {},
     "output_type": "display_data"
    }
   ],
   "source": [
    "data = data_ccxt.merge(\n",
    "    data_cc,\n",
    "    how=\"outer\",\n",
    "    left_index=True,\n",
    "    right_index=True,\n",
    "    suffixes=(\"_ccxt\", \"_cc\"),\n",
    ")\n",
    "_LOG.info(\"Start date = %s\", data.reset_index()[\"timestamp\"].min())\n",
    "_LOG.info(\"End date = %s\", data.reset_index()[\"timestamp\"].max())\n",
    "_LOG.info(\n",
    "    \"Avg observations per coin = %s\",\n",
    "    len(data) / len(data.reset_index()[\"full_symbol\"].unique()),\n",
    ")\n",
    "# Move the same metrics from two vendors together.\n",
    "data = data.reindex(sorted(data.columns), axis=1)\n",
    "# NaNs observation.\n",
    "_LOG.info(\n",
    "    \"Number of observations with NaNs in CryptoChassis = %s\",\n",
    "    len(data[data[\"bid_price_cc\"].isna()]),\n",
    ")\n",
    "_LOG.info(\n",
    "    \"Number of observations with NaNs in CCXT = %s\",\n",
    "    len(data[data[\"bid_price_ccxt\"].isna()]),\n",
    ")\n",
    "# Remove NaNs.\n",
    "data = hpandas.dropna(data, report_stats=True)\n",
    "#\n",
    "display(data.tail())"
   ]
  },
  {
   "cell_type": "markdown",
   "id": "9559b7fd",
   "metadata": {},
   "source": [
    "## Calculate differences"
   ]
  },
  {
   "cell_type": "code",
   "execution_count": 19,
   "id": "69503bb3",
   "metadata": {
    "ExecuteTime": {
     "end_time": "2022-10-12T11:25:39.635360Z",
     "start_time": "2022-10-12T11:25:39.584550Z"
    }
   },
   "outputs": [
    {
     "data": {
      "text/html": [
       "<div>\n",
       "<style scoped>\n",
       "    .dataframe tbody tr th:only-of-type {\n",
       "        vertical-align: middle;\n",
       "    }\n",
       "\n",
       "    .dataframe tbody tr th {\n",
       "        vertical-align: top;\n",
       "    }\n",
       "\n",
       "    .dataframe thead th {\n",
       "        text-align: right;\n",
       "    }\n",
       "</style>\n",
       "<table border=\"1\" class=\"dataframe\">\n",
       "  <thead>\n",
       "    <tr style=\"text-align: right;\">\n",
       "      <th></th>\n",
       "      <th></th>\n",
       "      <th>ask_price_cc</th>\n",
       "      <th>ask_price_ccxt</th>\n",
       "      <th>ask_size_cc</th>\n",
       "      <th>ask_size_ccxt</th>\n",
       "      <th>bid_price_cc</th>\n",
       "      <th>bid_price_ccxt</th>\n",
       "      <th>bid_size_cc</th>\n",
       "      <th>bid_size_ccxt</th>\n",
       "      <th>bid_size_diff</th>\n",
       "      <th>bid_size_relative_diff_pct</th>\n",
       "      <th>bid_price_diff</th>\n",
       "      <th>bid_price_relative_diff_pct</th>\n",
       "      <th>ask_size_diff</th>\n",
       "      <th>ask_size_relative_diff_pct</th>\n",
       "      <th>ask_price_diff</th>\n",
       "      <th>ask_price_relative_diff_pct</th>\n",
       "    </tr>\n",
       "    <tr>\n",
       "      <th>timestamp</th>\n",
       "      <th>full_symbol</th>\n",
       "      <th></th>\n",
       "      <th></th>\n",
       "      <th></th>\n",
       "      <th></th>\n",
       "      <th></th>\n",
       "      <th></th>\n",
       "      <th></th>\n",
       "      <th></th>\n",
       "      <th></th>\n",
       "      <th></th>\n",
       "      <th></th>\n",
       "      <th></th>\n",
       "      <th></th>\n",
       "      <th></th>\n",
       "      <th></th>\n",
       "      <th></th>\n",
       "    </tr>\n",
       "  </thead>\n",
       "  <tbody>\n",
       "    <tr>\n",
       "      <th rowspan=\"5\" valign=\"top\">2022-10-11 17:00:01+00:00</th>\n",
       "      <th>binance::BNB_USDT</th>\n",
       "      <td>273.37000</td>\n",
       "      <td>273.37000</td>\n",
       "      <td>9.830</td>\n",
       "      <td>17.988333</td>\n",
       "      <td>273.36000</td>\n",
       "      <td>273.36000</td>\n",
       "      <td>105.320</td>\n",
       "      <td>93.118333</td>\n",
       "      <td>12.201667</td>\n",
       "      <td>13.103399</td>\n",
       "      <td>0.0</td>\n",
       "      <td>0.0</td>\n",
       "      <td>-8.158333</td>\n",
       "      <td>-45.353470</td>\n",
       "      <td>0.0</td>\n",
       "      <td>0.0</td>\n",
       "    </tr>\n",
       "    <tr>\n",
       "      <th>binance::BNB_USDT</th>\n",
       "      <td>273.37000</td>\n",
       "      <td>273.37000</td>\n",
       "      <td>9.830</td>\n",
       "      <td>17.988333</td>\n",
       "      <td>273.36000</td>\n",
       "      <td>273.36000</td>\n",
       "      <td>105.320</td>\n",
       "      <td>93.118333</td>\n",
       "      <td>12.201667</td>\n",
       "      <td>13.103399</td>\n",
       "      <td>0.0</td>\n",
       "      <td>0.0</td>\n",
       "      <td>-8.158333</td>\n",
       "      <td>-45.353470</td>\n",
       "      <td>0.0</td>\n",
       "      <td>0.0</td>\n",
       "    </tr>\n",
       "    <tr>\n",
       "      <th>binance::BTC_USDT</th>\n",
       "      <td>19145.90000</td>\n",
       "      <td>19145.90000</td>\n",
       "      <td>1.741</td>\n",
       "      <td>5.614600</td>\n",
       "      <td>19145.80000</td>\n",
       "      <td>19145.80000</td>\n",
       "      <td>12.477</td>\n",
       "      <td>9.693600</td>\n",
       "      <td>2.783400</td>\n",
       "      <td>28.713791</td>\n",
       "      <td>0.0</td>\n",
       "      <td>0.0</td>\n",
       "      <td>-3.873600</td>\n",
       "      <td>-68.991558</td>\n",
       "      <td>0.0</td>\n",
       "      <td>0.0</td>\n",
       "    </tr>\n",
       "    <tr>\n",
       "      <th>binance::BTC_USDT</th>\n",
       "      <td>19145.90000</td>\n",
       "      <td>19145.90000</td>\n",
       "      <td>1.741</td>\n",
       "      <td>5.614600</td>\n",
       "      <td>19145.80000</td>\n",
       "      <td>19145.80000</td>\n",
       "      <td>12.477</td>\n",
       "      <td>9.693600</td>\n",
       "      <td>2.783400</td>\n",
       "      <td>28.713791</td>\n",
       "      <td>0.0</td>\n",
       "      <td>0.0</td>\n",
       "      <td>-3.873600</td>\n",
       "      <td>-68.991558</td>\n",
       "      <td>0.0</td>\n",
       "      <td>0.0</td>\n",
       "    </tr>\n",
       "    <tr>\n",
       "      <th>binance::DOGE_USDT</th>\n",
       "      <td>0.06049</td>\n",
       "      <td>0.06049</td>\n",
       "      <td>108377.000</td>\n",
       "      <td>85385.000000</td>\n",
       "      <td>0.06048</td>\n",
       "      <td>0.06048</td>\n",
       "      <td>353180.000</td>\n",
       "      <td>351197.500000</td>\n",
       "      <td>1982.500000</td>\n",
       "      <td>0.564497</td>\n",
       "      <td>0.0</td>\n",
       "      <td>0.0</td>\n",
       "      <td>22992.000000</td>\n",
       "      <td>26.927446</td>\n",
       "      <td>0.0</td>\n",
       "      <td>0.0</td>\n",
       "    </tr>\n",
       "  </tbody>\n",
       "</table>\n",
       "</div>"
      ],
      "text/plain": [
       "                                              ask_price_cc  ask_price_ccxt  ask_size_cc  ask_size_ccxt  bid_price_cc  bid_price_ccxt  bid_size_cc  bid_size_ccxt  bid_size_diff  bid_size_relative_diff_pct  bid_price_diff  bid_price_relative_diff_pct  ask_size_diff  ask_size_relative_diff_pct  ask_price_diff  ask_price_relative_diff_pct\n",
       "timestamp                 full_symbol                                                                                                                                                                                                                                                                                                           \n",
       "2022-10-11 17:00:01+00:00 binance::BNB_USDT      273.37000       273.37000        9.830      17.988333     273.36000       273.36000      105.320      93.118333      12.201667                   13.103399             0.0                          0.0      -8.158333                  -45.353470             0.0                          0.0\n",
       "                          binance::BNB_USDT      273.37000       273.37000        9.830      17.988333     273.36000       273.36000      105.320      93.118333      12.201667                   13.103399             0.0                          0.0      -8.158333                  -45.353470             0.0                          0.0\n",
       "                          binance::BTC_USDT    19145.90000     19145.90000        1.741       5.614600   19145.80000     19145.80000       12.477       9.693600       2.783400                   28.713791             0.0                          0.0      -3.873600                  -68.991558             0.0                          0.0\n",
       "                          binance::BTC_USDT    19145.90000     19145.90000        1.741       5.614600   19145.80000     19145.80000       12.477       9.693600       2.783400                   28.713791             0.0                          0.0      -3.873600                  -68.991558             0.0                          0.0\n",
       "                          binance::DOGE_USDT       0.06049         0.06049   108377.000   85385.000000       0.06048         0.06048   353180.000  351197.500000    1982.500000                    0.564497             0.0                          0.0   22992.000000                   26.927446             0.0                          0.0"
      ]
     },
     "execution_count": 19,
     "metadata": {},
     "output_type": "execute_result"
    }
   ],
   "source": [
    "# Full symbol will not be relevant in calculation loops below.\n",
    "bid_ask_cols.remove(\"full_symbol\")\n",
    "# Each bid ask value will have a notional and a relative difference between two sources.\n",
    "for col in bid_ask_cols:\n",
    "    # Notional difference: CC value - DB value.\n",
    "    data[f\"{col}_diff\"] = data[f\"{col}_cc\"] - data[f\"{col}_ccxt\"]\n",
    "    # Relative value: (CC value - DB value)/DB value.\n",
    "    data[f\"{col}_relative_diff_pct\"] = (\n",
    "        100 * (data[f\"{col}_cc\"] - data[f\"{col}_ccxt\"]) / data[f\"{col}_ccxt\"]\n",
    "    )\n",
    "#\n",
    "data.head()"
   ]
  },
  {
   "cell_type": "code",
   "execution_count": 20,
   "id": "312e29c1",
   "metadata": {
    "ExecuteTime": {
     "end_time": "2022-10-12T11:25:39.673833Z",
     "start_time": "2022-10-12T11:25:39.637394Z"
    }
   },
   "outputs": [],
   "source": [
    "# Calculate the mean value of differences for each coin.\n",
    "diff_stats = []\n",
    "grouper = data.groupby([\"full_symbol\"])\n",
    "for col in bid_ask_cols:\n",
    "    diff_stats.append(grouper[f\"{col}_diff\"].mean())\n",
    "    diff_stats.append(grouper[f\"{col}_relative_diff_pct\"].mean())\n",
    "#\n",
    "diff_stats = pd.concat(diff_stats, axis=1)"
   ]
  },
  {
   "cell_type": "markdown",
   "id": "b76c0202",
   "metadata": {},
   "source": [
    "## Show stats for differences (in %)"
   ]
  },
  {
   "cell_type": "markdown",
   "id": "6c134fd8",
   "metadata": {
    "ExecuteTime": {
     "end_time": "2022-09-12T21:19:37.253671Z",
     "start_time": "2022-09-12T21:19:37.222938Z"
    }
   },
   "source": [
    "### Prices"
   ]
  },
  {
   "cell_type": "code",
   "execution_count": 21,
   "id": "784f9427",
   "metadata": {
    "ExecuteTime": {
     "end_time": "2022-10-12T11:25:39.708879Z",
     "start_time": "2022-10-12T11:25:39.676171Z"
    }
   },
   "outputs": [
    {
     "data": {
      "text/html": [
       "<div>\n",
       "<style scoped>\n",
       "    .dataframe tbody tr th:only-of-type {\n",
       "        vertical-align: middle;\n",
       "    }\n",
       "\n",
       "    .dataframe tbody tr th {\n",
       "        vertical-align: top;\n",
       "    }\n",
       "\n",
       "    .dataframe thead th {\n",
       "        text-align: right;\n",
       "    }\n",
       "</style>\n",
       "<table border=\"1\" class=\"dataframe\">\n",
       "  <thead>\n",
       "    <tr style=\"text-align: right;\">\n",
       "      <th></th>\n",
       "      <th>bid_price_relative_diff_pct</th>\n",
       "      <th>ask_price_relative_diff_pct</th>\n",
       "    </tr>\n",
       "    <tr>\n",
       "      <th>full_symbol</th>\n",
       "      <th></th>\n",
       "      <th></th>\n",
       "    </tr>\n",
       "  </thead>\n",
       "  <tbody>\n",
       "    <tr>\n",
       "      <th>binance::BNB_USDT</th>\n",
       "      <td>0.000026</td>\n",
       "      <td>0.000027</td>\n",
       "    </tr>\n",
       "    <tr>\n",
       "      <th>binance::BTC_USDT</th>\n",
       "      <td>0.000040</td>\n",
       "      <td>0.000040</td>\n",
       "    </tr>\n",
       "    <tr>\n",
       "      <th>binance::DOGE_USDT</th>\n",
       "      <td>-0.000078</td>\n",
       "      <td>-0.000081</td>\n",
       "    </tr>\n",
       "    <tr>\n",
       "      <th>binance::ETH_USDT</th>\n",
       "      <td>0.000010</td>\n",
       "      <td>0.000010</td>\n",
       "    </tr>\n",
       "    <tr>\n",
       "      <th>binance::SOL_USDT</th>\n",
       "      <td>-0.000021</td>\n",
       "      <td>-0.000032</td>\n",
       "    </tr>\n",
       "  </tbody>\n",
       "</table>\n",
       "</div>"
      ],
      "text/plain": [
       "                    bid_price_relative_diff_pct  ask_price_relative_diff_pct\n",
       "full_symbol                                                                 \n",
       "binance::BNB_USDT                      0.000026                     0.000027\n",
       "binance::BTC_USDT                      0.000040                     0.000040\n",
       "binance::DOGE_USDT                    -0.000078                    -0.000081\n",
       "binance::ETH_USDT                      0.000010                     0.000010\n",
       "binance::SOL_USDT                     -0.000021                    -0.000032"
      ]
     },
     "execution_count": 21,
     "metadata": {},
     "output_type": "execute_result"
    }
   ],
   "source": [
    "diff_stats[[\"bid_price_relative_diff_pct\", \"ask_price_relative_diff_pct\"]]"
   ]
  },
  {
   "cell_type": "markdown",
   "id": "94181a52",
   "metadata": {},
   "source": [
    "As one can see, the difference between bid and ask prices in DB and CC are less than 1%."
   ]
  },
  {
   "cell_type": "markdown",
   "id": "c8db897a",
   "metadata": {},
   "source": [
    "### Sizes"
   ]
  },
  {
   "cell_type": "code",
   "execution_count": 22,
   "id": "1dcdcfc8",
   "metadata": {
    "ExecuteTime": {
     "end_time": "2022-10-12T11:25:39.738558Z",
     "start_time": "2022-10-12T11:25:39.711029Z"
    }
   },
   "outputs": [
    {
     "data": {
      "text/html": [
       "<div>\n",
       "<style scoped>\n",
       "    .dataframe tbody tr th:only-of-type {\n",
       "        vertical-align: middle;\n",
       "    }\n",
       "\n",
       "    .dataframe tbody tr th {\n",
       "        vertical-align: top;\n",
       "    }\n",
       "\n",
       "    .dataframe thead th {\n",
       "        text-align: right;\n",
       "    }\n",
       "</style>\n",
       "<table border=\"1\" class=\"dataframe\">\n",
       "  <thead>\n",
       "    <tr style=\"text-align: right;\">\n",
       "      <th></th>\n",
       "      <th>bid_size_relative_diff_pct</th>\n",
       "      <th>ask_size_relative_diff_pct</th>\n",
       "    </tr>\n",
       "    <tr>\n",
       "      <th>full_symbol</th>\n",
       "      <th></th>\n",
       "      <th></th>\n",
       "    </tr>\n",
       "  </thead>\n",
       "  <tbody>\n",
       "    <tr>\n",
       "      <th>binance::BNB_USDT</th>\n",
       "      <td>0.697237</td>\n",
       "      <td>4.003010</td>\n",
       "    </tr>\n",
       "    <tr>\n",
       "      <th>binance::BTC_USDT</th>\n",
       "      <td>2.271014</td>\n",
       "      <td>7.265841</td>\n",
       "    </tr>\n",
       "    <tr>\n",
       "      <th>binance::DOGE_USDT</th>\n",
       "      <td>1.019151</td>\n",
       "      <td>0.122283</td>\n",
       "    </tr>\n",
       "    <tr>\n",
       "      <th>binance::ETH_USDT</th>\n",
       "      <td>2.540136</td>\n",
       "      <td>7.109853</td>\n",
       "    </tr>\n",
       "    <tr>\n",
       "      <th>binance::SOL_USDT</th>\n",
       "      <td>-0.186687</td>\n",
       "      <td>0.012566</td>\n",
       "    </tr>\n",
       "  </tbody>\n",
       "</table>\n",
       "</div>"
      ],
      "text/plain": [
       "                    bid_size_relative_diff_pct  ask_size_relative_diff_pct\n",
       "full_symbol                                                               \n",
       "binance::BNB_USDT                     0.697237                    4.003010\n",
       "binance::BTC_USDT                     2.271014                    7.265841\n",
       "binance::DOGE_USDT                    1.019151                    0.122283\n",
       "binance::ETH_USDT                     2.540136                    7.109853\n",
       "binance::SOL_USDT                    -0.186687                    0.012566"
      ]
     },
     "execution_count": 22,
     "metadata": {},
     "output_type": "execute_result"
    }
   ],
   "source": [
    "diff_stats[[\"bid_size_relative_diff_pct\", \"ask_size_relative_diff_pct\"]]"
   ]
  },
  {
   "cell_type": "markdown",
   "id": "3338e9b6",
   "metadata": {},
   "source": [
    "## Correlations"
   ]
  },
  {
   "cell_type": "markdown",
   "id": "6700ca9e",
   "metadata": {},
   "source": [
    "### Bid price"
   ]
  },
  {
   "cell_type": "code",
   "execution_count": 23,
   "id": "dcd1dc9b",
   "metadata": {
    "ExecuteTime": {
     "end_time": "2022-10-12T11:25:39.787333Z",
     "start_time": "2022-10-12T11:25:39.741301Z"
    }
   },
   "outputs": [
    {
     "data": {
      "text/html": [
       "<div>\n",
       "<style scoped>\n",
       "    .dataframe tbody tr th:only-of-type {\n",
       "        vertical-align: middle;\n",
       "    }\n",
       "\n",
       "    .dataframe tbody tr th {\n",
       "        vertical-align: top;\n",
       "    }\n",
       "\n",
       "    .dataframe thead th {\n",
       "        text-align: right;\n",
       "    }\n",
       "</style>\n",
       "<table border=\"1\" class=\"dataframe\">\n",
       "  <thead>\n",
       "    <tr style=\"text-align: right;\">\n",
       "      <th></th>\n",
       "      <th></th>\n",
       "      <th>bid_price_cc</th>\n",
       "      <th>bid_price_ccxt</th>\n",
       "    </tr>\n",
       "    <tr>\n",
       "      <th>full_symbol</th>\n",
       "      <th></th>\n",
       "      <th></th>\n",
       "      <th></th>\n",
       "    </tr>\n",
       "  </thead>\n",
       "  <tbody>\n",
       "    <tr>\n",
       "      <th rowspan=\"2\" valign=\"top\">binance::BNB_USDT</th>\n",
       "      <th>bid_price_cc</th>\n",
       "      <td>1.000000</td>\n",
       "      <td>0.999741</td>\n",
       "    </tr>\n",
       "    <tr>\n",
       "      <th>bid_price_ccxt</th>\n",
       "      <td>0.999741</td>\n",
       "      <td>1.000000</td>\n",
       "    </tr>\n",
       "    <tr>\n",
       "      <th rowspan=\"2\" valign=\"top\">binance::BTC_USDT</th>\n",
       "      <th>bid_price_cc</th>\n",
       "      <td>1.000000</td>\n",
       "      <td>0.999416</td>\n",
       "    </tr>\n",
       "    <tr>\n",
       "      <th>bid_price_ccxt</th>\n",
       "      <td>0.999416</td>\n",
       "      <td>1.000000</td>\n",
       "    </tr>\n",
       "    <tr>\n",
       "      <th rowspan=\"2\" valign=\"top\">binance::DOGE_USDT</th>\n",
       "      <th>bid_price_cc</th>\n",
       "      <td>1.000000</td>\n",
       "      <td>0.999524</td>\n",
       "    </tr>\n",
       "    <tr>\n",
       "      <th>bid_price_ccxt</th>\n",
       "      <td>0.999524</td>\n",
       "      <td>1.000000</td>\n",
       "    </tr>\n",
       "    <tr>\n",
       "      <th rowspan=\"2\" valign=\"top\">binance::ETH_USDT</th>\n",
       "      <th>bid_price_cc</th>\n",
       "      <td>1.000000</td>\n",
       "      <td>0.999776</td>\n",
       "    </tr>\n",
       "    <tr>\n",
       "      <th>bid_price_ccxt</th>\n",
       "      <td>0.999776</td>\n",
       "      <td>1.000000</td>\n",
       "    </tr>\n",
       "    <tr>\n",
       "      <th rowspan=\"2\" valign=\"top\">binance::SOL_USDT</th>\n",
       "      <th>bid_price_cc</th>\n",
       "      <td>1.000000</td>\n",
       "      <td>0.998906</td>\n",
       "    </tr>\n",
       "    <tr>\n",
       "      <th>bid_price_ccxt</th>\n",
       "      <td>0.998906</td>\n",
       "      <td>1.000000</td>\n",
       "    </tr>\n",
       "  </tbody>\n",
       "</table>\n",
       "</div>"
      ],
      "text/plain": [
       "                                   bid_price_cc  bid_price_ccxt\n",
       "full_symbol                                                    \n",
       "binance::BNB_USDT  bid_price_cc        1.000000        0.999741\n",
       "                   bid_price_ccxt      0.999741        1.000000\n",
       "binance::BTC_USDT  bid_price_cc        1.000000        0.999416\n",
       "                   bid_price_ccxt      0.999416        1.000000\n",
       "binance::DOGE_USDT bid_price_cc        1.000000        0.999524\n",
       "                   bid_price_ccxt      0.999524        1.000000\n",
       "binance::ETH_USDT  bid_price_cc        1.000000        0.999776\n",
       "                   bid_price_ccxt      0.999776        1.000000\n",
       "binance::SOL_USDT  bid_price_cc        1.000000        0.998906\n",
       "                   bid_price_ccxt      0.998906        1.000000"
      ]
     },
     "execution_count": 23,
     "metadata": {},
     "output_type": "execute_result"
    }
   ],
   "source": [
    "bid_price_corr_matrix = (\n",
    "    data[[\"bid_price_cc\", \"bid_price_ccxt\"]].groupby(level=1).corr()\n",
    ")\n",
    "bid_price_corr_matrix"
   ]
  },
  {
   "cell_type": "markdown",
   "id": "16c63702",
   "metadata": {},
   "source": [
    "Correlation stats confirms the stats above: bid prices in DB and CC are highly correlated."
   ]
  },
  {
   "cell_type": "markdown",
   "id": "69fe3db0",
   "metadata": {},
   "source": [
    "### Ask price"
   ]
  },
  {
   "cell_type": "code",
   "execution_count": 24,
   "id": "98ee7b65",
   "metadata": {
    "ExecuteTime": {
     "end_time": "2022-10-12T11:25:39.860672Z",
     "start_time": "2022-10-12T11:25:39.790172Z"
    },
    "scrolled": false
   },
   "outputs": [
    {
     "data": {
      "text/html": [
       "<div>\n",
       "<style scoped>\n",
       "    .dataframe tbody tr th:only-of-type {\n",
       "        vertical-align: middle;\n",
       "    }\n",
       "\n",
       "    .dataframe tbody tr th {\n",
       "        vertical-align: top;\n",
       "    }\n",
       "\n",
       "    .dataframe thead th {\n",
       "        text-align: right;\n",
       "    }\n",
       "</style>\n",
       "<table border=\"1\" class=\"dataframe\">\n",
       "  <thead>\n",
       "    <tr style=\"text-align: right;\">\n",
       "      <th></th>\n",
       "      <th></th>\n",
       "      <th>ask_price_cc</th>\n",
       "      <th>ask_price_ccxt</th>\n",
       "    </tr>\n",
       "    <tr>\n",
       "      <th>full_symbol</th>\n",
       "      <th></th>\n",
       "      <th></th>\n",
       "      <th></th>\n",
       "    </tr>\n",
       "  </thead>\n",
       "  <tbody>\n",
       "    <tr>\n",
       "      <th rowspan=\"2\" valign=\"top\">binance::BNB_USDT</th>\n",
       "      <th>ask_price_cc</th>\n",
       "      <td>1.000000</td>\n",
       "      <td>0.999729</td>\n",
       "    </tr>\n",
       "    <tr>\n",
       "      <th>ask_price_ccxt</th>\n",
       "      <td>0.999729</td>\n",
       "      <td>1.000000</td>\n",
       "    </tr>\n",
       "    <tr>\n",
       "      <th rowspan=\"2\" valign=\"top\">binance::BTC_USDT</th>\n",
       "      <th>ask_price_cc</th>\n",
       "      <td>1.000000</td>\n",
       "      <td>0.999418</td>\n",
       "    </tr>\n",
       "    <tr>\n",
       "      <th>ask_price_ccxt</th>\n",
       "      <td>0.999418</td>\n",
       "      <td>1.000000</td>\n",
       "    </tr>\n",
       "    <tr>\n",
       "      <th rowspan=\"2\" valign=\"top\">binance::DOGE_USDT</th>\n",
       "      <th>ask_price_cc</th>\n",
       "      <td>1.000000</td>\n",
       "      <td>0.999514</td>\n",
       "    </tr>\n",
       "    <tr>\n",
       "      <th>ask_price_ccxt</th>\n",
       "      <td>0.999514</td>\n",
       "      <td>1.000000</td>\n",
       "    </tr>\n",
       "    <tr>\n",
       "      <th rowspan=\"2\" valign=\"top\">binance::ETH_USDT</th>\n",
       "      <th>ask_price_cc</th>\n",
       "      <td>1.000000</td>\n",
       "      <td>0.999777</td>\n",
       "    </tr>\n",
       "    <tr>\n",
       "      <th>ask_price_ccxt</th>\n",
       "      <td>0.999777</td>\n",
       "      <td>1.000000</td>\n",
       "    </tr>\n",
       "    <tr>\n",
       "      <th rowspan=\"2\" valign=\"top\">binance::SOL_USDT</th>\n",
       "      <th>ask_price_cc</th>\n",
       "      <td>1.000000</td>\n",
       "      <td>0.998897</td>\n",
       "    </tr>\n",
       "    <tr>\n",
       "      <th>ask_price_ccxt</th>\n",
       "      <td>0.998897</td>\n",
       "      <td>1.000000</td>\n",
       "    </tr>\n",
       "  </tbody>\n",
       "</table>\n",
       "</div>"
      ],
      "text/plain": [
       "                                   ask_price_cc  ask_price_ccxt\n",
       "full_symbol                                                    \n",
       "binance::BNB_USDT  ask_price_cc        1.000000        0.999729\n",
       "                   ask_price_ccxt      0.999729        1.000000\n",
       "binance::BTC_USDT  ask_price_cc        1.000000        0.999418\n",
       "                   ask_price_ccxt      0.999418        1.000000\n",
       "binance::DOGE_USDT ask_price_cc        1.000000        0.999514\n",
       "                   ask_price_ccxt      0.999514        1.000000\n",
       "binance::ETH_USDT  ask_price_cc        1.000000        0.999777\n",
       "                   ask_price_ccxt      0.999777        1.000000\n",
       "binance::SOL_USDT  ask_price_cc        1.000000        0.998897\n",
       "                   ask_price_ccxt      0.998897        1.000000"
      ]
     },
     "execution_count": 24,
     "metadata": {},
     "output_type": "execute_result"
    }
   ],
   "source": [
    "ask_price_corr_matrix = (\n",
    "    data[[\"ask_price_cc\", \"ask_price_ccxt\"]].groupby(level=1).corr()\n",
    ")\n",
    "ask_price_corr_matrix"
   ]
  },
  {
   "cell_type": "markdown",
   "id": "5b325cb3",
   "metadata": {},
   "source": [
    "Correlation stats confirms the stats above: ask prices in DB and CC are highly correlated."
   ]
  },
  {
   "cell_type": "markdown",
   "id": "3409d2e7",
   "metadata": {},
   "source": [
    "### Bid size"
   ]
  },
  {
   "cell_type": "code",
   "execution_count": 25,
   "id": "241929a5",
   "metadata": {
    "ExecuteTime": {
     "end_time": "2022-10-12T11:25:39.900620Z",
     "start_time": "2022-10-12T11:25:39.863271Z"
    }
   },
   "outputs": [
    {
     "data": {
      "text/html": [
       "<div>\n",
       "<style scoped>\n",
       "    .dataframe tbody tr th:only-of-type {\n",
       "        vertical-align: middle;\n",
       "    }\n",
       "\n",
       "    .dataframe tbody tr th {\n",
       "        vertical-align: top;\n",
       "    }\n",
       "\n",
       "    .dataframe thead th {\n",
       "        text-align: right;\n",
       "    }\n",
       "</style>\n",
       "<table border=\"1\" class=\"dataframe\">\n",
       "  <thead>\n",
       "    <tr style=\"text-align: right;\">\n",
       "      <th></th>\n",
       "      <th></th>\n",
       "      <th>bid_size_cc</th>\n",
       "      <th>bid_size_ccxt</th>\n",
       "    </tr>\n",
       "    <tr>\n",
       "      <th>full_symbol</th>\n",
       "      <th></th>\n",
       "      <th></th>\n",
       "      <th></th>\n",
       "    </tr>\n",
       "  </thead>\n",
       "  <tbody>\n",
       "    <tr>\n",
       "      <th rowspan=\"2\" valign=\"top\">binance::BNB_USDT</th>\n",
       "      <th>bid_size_cc</th>\n",
       "      <td>1.000000</td>\n",
       "      <td>0.954510</td>\n",
       "    </tr>\n",
       "    <tr>\n",
       "      <th>bid_size_ccxt</th>\n",
       "      <td>0.954510</td>\n",
       "      <td>1.000000</td>\n",
       "    </tr>\n",
       "    <tr>\n",
       "      <th rowspan=\"2\" valign=\"top\">binance::BTC_USDT</th>\n",
       "      <th>bid_size_cc</th>\n",
       "      <td>1.000000</td>\n",
       "      <td>0.940405</td>\n",
       "    </tr>\n",
       "    <tr>\n",
       "      <th>bid_size_ccxt</th>\n",
       "      <td>0.940405</td>\n",
       "      <td>1.000000</td>\n",
       "    </tr>\n",
       "    <tr>\n",
       "      <th rowspan=\"2\" valign=\"top\">binance::DOGE_USDT</th>\n",
       "      <th>bid_size_cc</th>\n",
       "      <td>1.000000</td>\n",
       "      <td>0.958969</td>\n",
       "    </tr>\n",
       "    <tr>\n",
       "      <th>bid_size_ccxt</th>\n",
       "      <td>0.958969</td>\n",
       "      <td>1.000000</td>\n",
       "    </tr>\n",
       "    <tr>\n",
       "      <th rowspan=\"2\" valign=\"top\">binance::ETH_USDT</th>\n",
       "      <th>bid_size_cc</th>\n",
       "      <td>1.000000</td>\n",
       "      <td>0.950931</td>\n",
       "    </tr>\n",
       "    <tr>\n",
       "      <th>bid_size_ccxt</th>\n",
       "      <td>0.950931</td>\n",
       "      <td>1.000000</td>\n",
       "    </tr>\n",
       "    <tr>\n",
       "      <th rowspan=\"2\" valign=\"top\">binance::SOL_USDT</th>\n",
       "      <th>bid_size_cc</th>\n",
       "      <td>1.000000</td>\n",
       "      <td>0.971197</td>\n",
       "    </tr>\n",
       "    <tr>\n",
       "      <th>bid_size_ccxt</th>\n",
       "      <td>0.971197</td>\n",
       "      <td>1.000000</td>\n",
       "    </tr>\n",
       "  </tbody>\n",
       "</table>\n",
       "</div>"
      ],
      "text/plain": [
       "                                  bid_size_cc  bid_size_ccxt\n",
       "full_symbol                                                 \n",
       "binance::BNB_USDT  bid_size_cc       1.000000       0.954510\n",
       "                   bid_size_ccxt     0.954510       1.000000\n",
       "binance::BTC_USDT  bid_size_cc       1.000000       0.940405\n",
       "                   bid_size_ccxt     0.940405       1.000000\n",
       "binance::DOGE_USDT bid_size_cc       1.000000       0.958969\n",
       "                   bid_size_ccxt     0.958969       1.000000\n",
       "binance::ETH_USDT  bid_size_cc       1.000000       0.950931\n",
       "                   bid_size_ccxt     0.950931       1.000000\n",
       "binance::SOL_USDT  bid_size_cc       1.000000       0.971197\n",
       "                   bid_size_ccxt     0.971197       1.000000"
      ]
     },
     "execution_count": 25,
     "metadata": {},
     "output_type": "execute_result"
    }
   ],
   "source": [
    "bid_size_corr_matrix = (\n",
    "    data[[\"bid_size_cc\", \"bid_size_ccxt\"]].groupby(level=1).corr()\n",
    ")\n",
    "bid_size_corr_matrix"
   ]
  },
  {
   "cell_type": "markdown",
   "id": "30dc617b",
   "metadata": {},
   "source": [
    "Correlation stats confirms the stats above: bid sizes in DB and CC are highly correlated."
   ]
  },
  {
   "cell_type": "markdown",
   "id": "b76d93ec",
   "metadata": {},
   "source": [
    "### Ask size"
   ]
  },
  {
   "cell_type": "code",
   "execution_count": 26,
   "id": "416436b8",
   "metadata": {
    "ExecuteTime": {
     "end_time": "2022-10-12T11:25:39.943764Z",
     "start_time": "2022-10-12T11:25:39.903134Z"
    }
   },
   "outputs": [
    {
     "data": {
      "text/html": [
       "<div>\n",
       "<style scoped>\n",
       "    .dataframe tbody tr th:only-of-type {\n",
       "        vertical-align: middle;\n",
       "    }\n",
       "\n",
       "    .dataframe tbody tr th {\n",
       "        vertical-align: top;\n",
       "    }\n",
       "\n",
       "    .dataframe thead th {\n",
       "        text-align: right;\n",
       "    }\n",
       "</style>\n",
       "<table border=\"1\" class=\"dataframe\">\n",
       "  <thead>\n",
       "    <tr style=\"text-align: right;\">\n",
       "      <th></th>\n",
       "      <th></th>\n",
       "      <th>ask_size_cc</th>\n",
       "      <th>ask_size_ccxt</th>\n",
       "    </tr>\n",
       "    <tr>\n",
       "      <th>full_symbol</th>\n",
       "      <th></th>\n",
       "      <th></th>\n",
       "      <th></th>\n",
       "    </tr>\n",
       "  </thead>\n",
       "  <tbody>\n",
       "    <tr>\n",
       "      <th rowspan=\"2\" valign=\"top\">binance::BNB_USDT</th>\n",
       "      <th>ask_size_cc</th>\n",
       "      <td>1.000000</td>\n",
       "      <td>0.900568</td>\n",
       "    </tr>\n",
       "    <tr>\n",
       "      <th>ask_size_ccxt</th>\n",
       "      <td>0.900568</td>\n",
       "      <td>1.000000</td>\n",
       "    </tr>\n",
       "    <tr>\n",
       "      <th rowspan=\"2\" valign=\"top\">binance::BTC_USDT</th>\n",
       "      <th>ask_size_cc</th>\n",
       "      <td>1.000000</td>\n",
       "      <td>0.941578</td>\n",
       "    </tr>\n",
       "    <tr>\n",
       "      <th>ask_size_ccxt</th>\n",
       "      <td>0.941578</td>\n",
       "      <td>1.000000</td>\n",
       "    </tr>\n",
       "    <tr>\n",
       "      <th rowspan=\"2\" valign=\"top\">binance::DOGE_USDT</th>\n",
       "      <th>ask_size_cc</th>\n",
       "      <td>1.000000</td>\n",
       "      <td>0.966280</td>\n",
       "    </tr>\n",
       "    <tr>\n",
       "      <th>ask_size_ccxt</th>\n",
       "      <td>0.966280</td>\n",
       "      <td>1.000000</td>\n",
       "    </tr>\n",
       "    <tr>\n",
       "      <th rowspan=\"2\" valign=\"top\">binance::ETH_USDT</th>\n",
       "      <th>ask_size_cc</th>\n",
       "      <td>1.000000</td>\n",
       "      <td>0.939599</td>\n",
       "    </tr>\n",
       "    <tr>\n",
       "      <th>ask_size_ccxt</th>\n",
       "      <td>0.939599</td>\n",
       "      <td>1.000000</td>\n",
       "    </tr>\n",
       "    <tr>\n",
       "      <th rowspan=\"2\" valign=\"top\">binance::SOL_USDT</th>\n",
       "      <th>ask_size_cc</th>\n",
       "      <td>1.000000</td>\n",
       "      <td>0.973529</td>\n",
       "    </tr>\n",
       "    <tr>\n",
       "      <th>ask_size_ccxt</th>\n",
       "      <td>0.973529</td>\n",
       "      <td>1.000000</td>\n",
       "    </tr>\n",
       "  </tbody>\n",
       "</table>\n",
       "</div>"
      ],
      "text/plain": [
       "                                  ask_size_cc  ask_size_ccxt\n",
       "full_symbol                                                 \n",
       "binance::BNB_USDT  ask_size_cc       1.000000       0.900568\n",
       "                   ask_size_ccxt     0.900568       1.000000\n",
       "binance::BTC_USDT  ask_size_cc       1.000000       0.941578\n",
       "                   ask_size_ccxt     0.941578       1.000000\n",
       "binance::DOGE_USDT ask_size_cc       1.000000       0.966280\n",
       "                   ask_size_ccxt     0.966280       1.000000\n",
       "binance::ETH_USDT  ask_size_cc       1.000000       0.939599\n",
       "                   ask_size_ccxt     0.939599       1.000000\n",
       "binance::SOL_USDT  ask_size_cc       1.000000       0.973529\n",
       "                   ask_size_ccxt     0.973529       1.000000"
      ]
     },
     "execution_count": 26,
     "metadata": {},
     "output_type": "execute_result"
    }
   ],
   "source": [
    "ask_size_corr_matrix = (\n",
    "    data[[\"ask_size_cc\", \"ask_size_ccxt\"]].groupby(level=1).corr()\n",
    ")\n",
    "ask_size_corr_matrix"
   ]
  },
  {
   "cell_type": "markdown",
   "id": "870767f1",
   "metadata": {},
   "source": [
    "Correlation stats confirms the stats above: ask sizes in DB and CC are highly correlated."
   ]
  }
 ],
 "metadata": {
  "kernelspec": {
   "display_name": "Python 3 (ipykernel)",
   "language": "python",
   "name": "python3"
  },
  "language_info": {
   "codemirror_mode": {
    "name": "ipython",
    "version": 3
   },
   "file_extension": ".py",
   "mimetype": "text/x-python",
   "name": "python",
   "nbconvert_exporter": "python",
   "pygments_lexer": "ipython3",
   "version": "3.8.10"
  },
  "toc": {
   "base_numbering": 1,
   "nav_menu": {},
   "number_sections": true,
   "sideBar": true,
   "skip_h1_title": false,
   "title_cell": "Table of Contents",
   "title_sidebar": "Contents",
   "toc_cell": false,
   "toc_position": {
    "height": "calc(100% - 180px)",
    "left": "10px",
    "top": "150px",
    "width": "269.667px"
   },
   "toc_section_display": true,
   "toc_window_display": true
  }
 },
 "nbformat": 4,
 "nbformat_minor": 5
}
