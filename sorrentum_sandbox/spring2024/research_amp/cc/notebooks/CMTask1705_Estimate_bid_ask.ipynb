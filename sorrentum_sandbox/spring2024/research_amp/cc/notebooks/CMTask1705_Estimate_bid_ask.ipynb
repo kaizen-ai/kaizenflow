{
 "cells": [
  {
   "attachments": {},
   "cell_type": "markdown",
   "id": "2e36afc6",
   "metadata": {},
   "source": [
    "# Imports"
   ]
  },
  {
   "cell_type": "code",
   "execution_count": 1,
   "id": "939efd27",
   "metadata": {
    "ExecuteTime": {
     "end_time": "2022-04-25T16:40:34.198205Z",
     "start_time": "2022-04-25T16:40:31.722760Z"
    }
   },
   "outputs": [],
   "source": [
    "import logging\n",
    "\n",
    "import pandas as pd\n",
    "import requests\n",
    "\n",
    "import core.finance.resampling as cfinresa\n",
    "import helpers.hdatetime as hdateti\n",
    "import helpers.hdbg as hdbg\n",
    "import helpers.hprint as hprint\n",
    "import im_v2.ccxt.data.extract.exchange_class as imvcdeexcl"
   ]
  },
  {
   "cell_type": "code",
   "execution_count": 2,
   "id": "1b1cbad6",
   "metadata": {
    "ExecuteTime": {
     "end_time": "2022-04-25T16:40:35.251669Z",
     "start_time": "2022-04-25T16:40:34.201252Z"
    }
   },
   "outputs": [
    {
     "name": "stdout",
     "output_type": "stream",
     "text": [
      "\u001b[0m\u001b[36mINFO\u001b[0m: > cmd='/venv/lib/python3.8/site-packages/ipykernel_launcher.py -f /home/.local/share/jupyter/runtime/kernel-bcd87e13-bfa4-4ea2-8a36-f727556486f6.json'\n",
      "WARNING: Running in Jupyter\n",
      "\u001b[33mWARNING\u001b[0m: Disabling annoying warnings\n"
     ]
    }
   ],
   "source": [
    "hdbg.init_logger(verbosity=logging.INFO)\n",
    "\n",
    "_LOG = logging.getLogger(__name__)\n",
    "\n",
    "hprint.config_notebook()"
   ]
  },
  {
   "attachments": {},
   "cell_type": "markdown",
   "id": "fc55bd36",
   "metadata": {},
   "source": [
    "# Bid-ask data snippet (current implementation)"
   ]
  },
  {
   "cell_type": "code",
   "execution_count": 3,
   "id": "b68f3d2a",
   "metadata": {
    "ExecuteTime": {
     "end_time": "2022-04-25T16:40:36.594114Z",
     "start_time": "2022-04-25T16:40:35.253663Z"
    }
   },
   "outputs": [],
   "source": [
    "# Specify params.\n",
    "exchange_id = \"binance\"\n",
    "# Initiate the client.\n",
    "bid_ask_client = imvcdeexcl.CcxtExchange(exchange_id)"
   ]
  },
  {
   "cell_type": "code",
   "execution_count": 4,
   "id": "8dfd6cd0",
   "metadata": {
    "ExecuteTime": {
     "end_time": "2022-04-25T16:40:36.846826Z",
     "start_time": "2022-04-25T16:40:36.596618Z"
    }
   },
   "outputs": [],
   "source": [
    "# Load the data snippet for BTC.\n",
    "currency_pair = \"BTC_USDT\"\n",
    "ba_df = bid_ask_client.download_order_book(currency_pair)"
   ]
  },
  {
   "cell_type": "code",
   "execution_count": 5,
   "id": "20c8c4d9",
   "metadata": {
    "ExecuteTime": {
     "end_time": "2022-04-25T16:40:36.862952Z",
     "start_time": "2022-04-25T16:40:36.849777Z"
    }
   },
   "outputs": [
    {
     "data": {
      "text/plain": [
       "{'symbol': 'BTC/USDT',\n",
       " 'bids': [[39429.75, 0.09976],\n",
       "  [39429.27, 0.00027],\n",
       "  [39428.5, 0.20008],\n",
       "  [39426.49, 0.06],\n",
       "  [39425.51, 0.00037],\n",
       "  [39423.66, 0.00364],\n",
       "  [39422.77, 0.045],\n",
       "  [39422.55, 0.06],\n",
       "  [39422.13, 0.00027],\n",
       "  [39422.12, 0.00266],\n",
       "  [39421.8, 0.0471],\n",
       "  [39421.56, 0.0009],\n",
       "  [39421.48, 0.31755],\n",
       "  [39421.47, 0.14729],\n",
       "  [39421.09, 0.44316],\n",
       "  [39420.88, 0.00037],\n",
       "  [39420.81, 0.04717],\n",
       "  [39420.75, 0.38033],\n",
       "  [39420.61, 0.8],\n",
       "  [39420.11, 0.01105],\n",
       "  [39420.0, 0.05074],\n",
       "  [39419.9, 0.1268],\n",
       "  [39419.85, 0.38034],\n",
       "  [39419.82, 0.04675],\n",
       "  [39419.8, 0.924],\n",
       "  [39419.42, 0.001],\n",
       "  [39419.17, 0.0005],\n",
       "  [39418.83, 0.0194],\n",
       "  [39418.16, 0.0003],\n",
       "  [39418.1, 0.0095],\n",
       "  [39417.79, 0.1],\n",
       "  [39417.35, 0.01775],\n",
       "  [39417.19, 0.00037],\n",
       "  [39417.02, 0.60143],\n",
       "  [39416.77, 0.94299],\n",
       "  [39416.26, 0.15109],\n",
       "  [39416.21, 0.48],\n",
       "  [39416.08, 0.00486],\n",
       "  [39416.0, 0.00166],\n",
       "  [39415.92, 0.2],\n",
       "  [39415.86, 0.14086],\n",
       "  [39415.57, 0.0006],\n",
       "  [39415.54, 0.0633],\n",
       "  [39415.01, 0.01369],\n",
       "  [39414.96, 0.1198],\n",
       "  [39414.95, 0.2952],\n",
       "  [39414.88, 0.00526],\n",
       "  [39414.56, 0.03086],\n",
       "  [39414.15, 0.00037],\n",
       "  [39414.14, 0.03804],\n",
       "  [39414.06, 0.2535],\n",
       "  [39413.88, 0.13071],\n",
       "  [39413.4, 0.38038],\n",
       "  [39413.28, 0.3804],\n",
       "  [39412.18, 0.00037],\n",
       "  [39412.15, 0.0008],\n",
       "  [39411.9, 0.13174],\n",
       "  [39411.8, 0.0005],\n",
       "  [39411.66, 0.747],\n",
       "  [39411.53, 0.00847],\n",
       "  [39411.5, 0.01324],\n",
       "  [39411.05, 0.48],\n",
       "  [39410.74, 0.03982],\n",
       "  [39410.46, 0.02537],\n",
       "  [39410.01, 0.07612],\n",
       "  [39410.0, 0.05075],\n",
       "  [39409.92, 0.00763],\n",
       "  [39409.82, 0.16],\n",
       "  [39409.48, 0.048],\n",
       "  [39409.18, 0.00037],\n",
       "  [39408.46, 0.01605],\n",
       "  [39408.11, 0.0007],\n",
       "  [39407.71, 2.00846],\n",
       "  [39407.32, 1.002],\n",
       "  [39407.31, 0.29783],\n",
       "  [39407.17, 2.02494],\n",
       "  [39407.16, 3.70317],\n",
       "  [39406.6, 0.00037],\n",
       "  [39406.38, 0.06618],\n",
       "  [39406.24, 0.03968],\n",
       "  [39406.14, 0.48],\n",
       "  [39404.91, 0.1585],\n",
       "  [39404.41, 0.04],\n",
       "  [39402.73, 1.19492],\n",
       "  [39402.63, 0.00223],\n",
       "  [39402.2, 0.02],\n",
       "  [39402.15, 0.12368],\n",
       "  [39402.0, 0.33062],\n",
       "  [39401.73, 0.06383],\n",
       "  [39401.21, 0.01324],\n",
       "  [39400.99, 0.00127],\n",
       "  [39400.46, 0.02649],\n",
       "  [39400.3, 0.15912],\n",
       "  [39400.25, 0.00033],\n",
       "  [39400.14, 0.00255],\n",
       "  [39400.0, 0.07017],\n",
       "  [39399.54, 1.91018],\n",
       "  [39398.91, 0.01268],\n",
       "  [39398.79, 0.023],\n",
       "  [39398.6, 0.0005]],\n",
       " 'asks': [[39429.76, 8.40391],\n",
       "  [39430.04, 0.00608],\n",
       "  [39430.86, 0.04],\n",
       "  [39431.21, 0.07538],\n",
       "  [39431.22, 2.67107],\n",
       "  [39431.23, 0.25265],\n",
       "  [39431.24, 0.25],\n",
       "  [39431.42, 0.08],\n",
       "  [39431.53, 0.12679],\n",
       "  [39432.21, 0.28538],\n",
       "  [39432.33, 0.2536],\n",
       "  [39432.81, 0.53234],\n",
       "  [39432.82, 0.34242],\n",
       "  [39433.39, 0.09891],\n",
       "  [39433.4, 0.25265],\n",
       "  [39433.75, 0.25359],\n",
       "  [39433.76, 0.01275],\n",
       "  [39434.17, 0.09891],\n",
       "  [39434.4, 0.15672],\n",
       "  [39434.98, 0.09891],\n",
       "  [39434.99, 0.25357],\n",
       "  [39435.36, 0.25265],\n",
       "  [39435.38, 0.25265],\n",
       "  [39435.43, 0.34239],\n",
       "  [39435.84, 0.00679],\n",
       "  [39437.87, 0.38597],\n",
       "  [39438.29, 0.25265],\n",
       "  [39438.3, 0.25265],\n",
       "  [39438.34, 0.49119],\n",
       "  [39438.36, 0.52501],\n",
       "  [39438.49, 0.25356],\n",
       "  [39438.72, 0.0133],\n",
       "  [39439.01, 0.25355],\n",
       "  [39439.33, 0.001],\n",
       "  [39439.62, 0.13734],\n",
       "  [39440.0, 0.05198],\n",
       "  [39440.45, 0.1],\n",
       "  [39440.99, 0.28531],\n",
       "  [39441.11, 0.01996],\n",
       "  [39441.29, 0.025],\n",
       "  [39441.3, 0.00037],\n",
       "  [39441.6, 0.13085],\n",
       "  [39442.29, 0.481],\n",
       "  [39443.27, 0.00037],\n",
       "  [39443.58, 0.12166],\n",
       "  [39444.28, 0.07476],\n",
       "  [39444.49, 0.25265],\n",
       "  [39444.72, 1.90457],\n",
       "  [39445.23, 0.07782],\n",
       "  [39445.24, 0.00037],\n",
       "  [39445.53, 0.00026],\n",
       "  [39445.56, 0.00589],\n",
       "  [39447.21, 0.00037],\n",
       "  [39447.61, 0.29049],\n",
       "  [39447.78, 0.00811],\n",
       "  [39447.85, 0.25265],\n",
       "  [39447.86, 0.25265],\n",
       "  [39448.07, 0.00026],\n",
       "  [39448.08, 0.57216],\n",
       "  [39450.0, 0.0519],\n",
       "  [39450.06, 0.1091],\n",
       "  [39450.07, 0.43575],\n",
       "  [39450.19, 0.38],\n",
       "  [39450.73, 0.00037],\n",
       "  [39450.74, 0.1585],\n",
       "  [39451.87, 0.07796],\n",
       "  [39452.28, 0.00788],\n",
       "  [39452.89, 1.91876],\n",
       "  [39453.59, 0.0567],\n",
       "  [39453.67, 0.02647],\n",
       "  [39453.69, 0.48],\n",
       "  [39455.14, 0.06251],\n",
       "  [39455.76, 0.55312],\n",
       "  [39455.81, 0.04812],\n",
       "  [39455.92, 0.1],\n",
       "  [39456.0, 0.0003],\n",
       "  [39456.42, 0.04],\n",
       "  [39456.79, 0.008],\n",
       "  [39456.91, 0.18],\n",
       "  [39457.04, 0.3],\n",
       "  [39457.14, 0.1],\n",
       "  [39457.23, 0.15],\n",
       "  [39457.33, 0.0633],\n",
       "  [39458.81, 0.09887],\n",
       "  [39459.1, 0.48],\n",
       "  [39459.42, 0.04885],\n",
       "  [39459.6, 0.2],\n",
       "  [39460.0, 0.0507],\n",
       "  [39460.38, 0.02648],\n",
       "  [39460.41, 0.04931],\n",
       "  [39460.78, 0.09886],\n",
       "  [39461.33, 0.00768],\n",
       "  [39461.4, 0.04564],\n",
       "  [39462.39, 0.04785],\n",
       "  [39462.41, 0.01324],\n",
       "  [39463.05, 0.48],\n",
       "  [39463.14, 0.25265],\n",
       "  [39463.7, 0.00297],\n",
       "  [39464.23, 1.27405],\n",
       "  [39464.24, 2.67855]],\n",
       " 'timestamp': None,\n",
       " 'datetime': None,\n",
       " 'nonce': 18721059560}"
      ]
     },
     "execution_count": 5,
     "metadata": {},
     "output_type": "execute_result"
    }
   ],
   "source": [
    "ba_df"
   ]
  },
  {
   "attachments": {},
   "cell_type": "markdown",
   "id": "d674bf3b",
   "metadata": {},
   "source": [
    "As one can see, the current implementation of bid-ask data loader only allows to show the order book at the exact moment of its initiation."
   ]
  },
  {
   "attachments": {},
   "cell_type": "markdown",
   "id": "42ab9b55",
   "metadata": {},
   "source": [
    "# Bid-ask data extraction (proposed solution)"
   ]
  },
  {
   "attachments": {},
   "cell_type": "markdown",
   "id": "9211dc11",
   "metadata": {},
   "source": [
    "Thanks to the research that was done in #193, we had a notion that the bid-ask data can be downloaded via open sources and specifically - _crypto-chassis_.\n",
    "For more details one can see https://github.com/cryptokaizen/cmamp/issues/193#issuecomment-974822385\n",
    "\n",
    "Few words about the data:\n",
    "- API page: https://github.com/crypto-chassis/cryptochassis-data-api-docs#information\n",
    "   - Specifically, `Market Depth` section\n",
    "- each GET request allow to download one day of 1-second snapshot data on market depth (aka order books or Level 2 data) up to a depth of 10"
   ]
  },
  {
   "attachments": {},
   "cell_type": "markdown",
   "id": "d05bc162",
   "metadata": {},
   "source": [
    "## Example of a raw data"
   ]
  },
  {
   "attachments": {},
   "cell_type": "markdown",
   "id": "57fc892a",
   "metadata": {},
   "source": [
    "For the example I am taking the data with he following characteristics:\n",
    "- `full_symbol` = binance::BTC_USDT\n",
    "- depth = 1 (default option)"
   ]
  },
  {
   "cell_type": "code",
   "execution_count": 6,
   "id": "a56db597",
   "metadata": {
    "ExecuteTime": {
     "end_time": "2022-04-25T16:40:38.532355Z",
     "start_time": "2022-04-25T16:40:36.866295Z"
    },
    "run_control": {
     "marked": false
    }
   },
   "outputs": [],
   "source": [
    "example_date = \"2022-01-01\"\n",
    "r = requests.get(\n",
    "    f\"https://api.cryptochassis.com/v1/market-depth/binance/btc-usdt?startTime={example_date}\"\n",
    ")\n",
    "example_data = pd.read_csv(r.json()[\"urls\"][0][\"url\"], compression=\"gzip\")"
   ]
  },
  {
   "cell_type": "code",
   "execution_count": 7,
   "id": "de75e1ce",
   "metadata": {
    "ExecuteTime": {
     "end_time": "2022-04-25T16:40:38.543917Z",
     "start_time": "2022-04-25T16:40:38.534174Z"
    }
   },
   "outputs": [
    {
     "data": {
      "text/html": [
       "<div>\n",
       "<style scoped>\n",
       "    .dataframe tbody tr th:only-of-type {\n",
       "        vertical-align: middle;\n",
       "    }\n",
       "\n",
       "    .dataframe tbody tr th {\n",
       "        vertical-align: top;\n",
       "    }\n",
       "\n",
       "    .dataframe thead th {\n",
       "        text-align: right;\n",
       "    }\n",
       "</style>\n",
       "<table border=\"1\" class=\"dataframe\">\n",
       "  <thead>\n",
       "    <tr style=\"text-align: right;\">\n",
       "      <th></th>\n",
       "      <th>time_seconds</th>\n",
       "      <th>bid_price_bid_size</th>\n",
       "      <th>ask_price_ask_size</th>\n",
       "    </tr>\n",
       "  </thead>\n",
       "  <tbody>\n",
       "    <tr>\n",
       "      <th>0</th>\n",
       "      <td>1640995200</td>\n",
       "      <td>46214.01_1.08286</td>\n",
       "      <td>46214.02_0.24793</td>\n",
       "    </tr>\n",
       "    <tr>\n",
       "      <th>1</th>\n",
       "      <td>1640995201</td>\n",
       "      <td>46216.92_0.04341</td>\n",
       "      <td>46216.93_1.72798</td>\n",
       "    </tr>\n",
       "    <tr>\n",
       "      <th>2</th>\n",
       "      <td>1640995202</td>\n",
       "      <td>46220.82_0.86682</td>\n",
       "      <td>46220.83_1.10668</td>\n",
       "    </tr>\n",
       "    <tr>\n",
       "      <th>3</th>\n",
       "      <td>1640995203</td>\n",
       "      <td>46220.82_1.05178</td>\n",
       "      <td>46220.83_0.785</td>\n",
       "    </tr>\n",
       "    <tr>\n",
       "      <th>4</th>\n",
       "      <td>1640995204</td>\n",
       "      <td>46220.82_1.85231</td>\n",
       "      <td>46220.83_1.06233</td>\n",
       "    </tr>\n",
       "  </tbody>\n",
       "</table>\n",
       "</div>"
      ],
      "text/plain": [
       "   time_seconds bid_price_bid_size ask_price_ask_size\n",
       "0    1640995200   46214.01_1.08286   46214.02_0.24793\n",
       "1    1640995201   46216.92_0.04341   46216.93_1.72798\n",
       "2    1640995202   46220.82_0.86682   46220.83_1.10668\n",
       "3    1640995203   46220.82_1.05178     46220.83_0.785\n",
       "4    1640995204   46220.82_1.85231   46220.83_1.06233"
      ]
     },
     "execution_count": 7,
     "metadata": {},
     "output_type": "execute_result"
    }
   ],
   "source": [
    "example_data.head()"
   ]
  },
  {
   "attachments": {},
   "cell_type": "markdown",
   "id": "cd4ad04e",
   "metadata": {},
   "source": [
    "## Get historical data"
   ]
  },
  {
   "attachments": {},
   "cell_type": "markdown",
   "id": "bbd49e79",
   "metadata": {},
   "source": [
    "Each request is strictly limited to get only one day of bid-ask data. That's why I want to propose the solution that allows to get the DataFrame for any desired time range of historical data."
   ]
  },
  {
   "attachments": {},
   "cell_type": "markdown",
   "id": "efb7bb8f",
   "metadata": {},
   "source": [
    "### Functions that convert data to the C-K format"
   ]
  },
  {
   "cell_type": "code",
   "execution_count": 8,
   "id": "f26ece10",
   "metadata": {
    "ExecuteTime": {
     "end_time": "2022-04-25T16:40:38.551937Z",
     "start_time": "2022-04-25T16:40:38.545831Z"
    }
   },
   "outputs": [],
   "source": [
    "def clean_up_raw_bid_ask_data(df):\n",
    "    # Split the columns to differentiate between `price` and `size`.\n",
    "    df[[\"bid_price\", \"bid_size\"]] = df[\"bid_price_bid_size\"].str.split(\n",
    "        \"_\", expand=True\n",
    "    )\n",
    "    df[[\"ask_price\", \"ask_size\"]] = df[\"ask_price_ask_size\"].str.split(\n",
    "        \"_\", expand=True\n",
    "    )\n",
    "    df = df.drop(columns=[\"bid_price_bid_size\", \"ask_price_ask_size\"])\n",
    "    # Convert `timestamps` to the usual format.\n",
    "    df = df.rename(columns={\"time_seconds\": \"timestamp\"})\n",
    "    df[\"timestamp\"] = df[\"timestamp\"].apply(\n",
    "        lambda x: hdateti.convert_unix_epoch_to_timestamp(x, unit=\"s\")\n",
    "    )\n",
    "    df = df.set_index(\"timestamp\")\n",
    "    # Convert to `float`.\n",
    "    for cols in df.columns:\n",
    "        df[cols] = df[cols].astype(float)\n",
    "    # Add `full_symbol` (hardcoded solution).\n",
    "    df[\"full_symbol\"] = \"binance::BTC_USDT\"\n",
    "    return df"
   ]
  },
  {
   "cell_type": "code",
   "execution_count": 9,
   "id": "00441054",
   "metadata": {
    "ExecuteTime": {
     "end_time": "2022-04-25T16:40:38.559032Z",
     "start_time": "2022-04-25T16:40:38.555201Z"
    }
   },
   "outputs": [],
   "source": [
    "def resample_bid_ask(df, resampling_rule):\n",
    "    \"\"\"\n",
    "    In the current format the data is presented in the `seconds` frequency. In\n",
    "    order to convert it to the minutely (or other) frequencies the following\n",
    "    aggregation rules are applied:\n",
    "\n",
    "    - Size is the sum of all sizes during the resampling period\n",
    "    - Price is the mean of all prices during the resampling period\n",
    "    \"\"\"\n",
    "    new_df = cfinresa.resample(df, rule=resampling_rule).agg(\n",
    "        {\n",
    "            \"bid_price\": \"mean\",\n",
    "            \"bid_size\": \"sum\",\n",
    "            \"ask_price\": \"mean\",\n",
    "            \"ask_size\": \"sum\",\n",
    "            \"full_symbol\": \"last\",\n",
    "        }\n",
    "    )\n",
    "    return new_df"
   ]
  },
  {
   "cell_type": "code",
   "execution_count": 10,
   "id": "fc566dcb",
   "metadata": {
    "ExecuteTime": {
     "end_time": "2022-04-25T16:40:38.566479Z",
     "start_time": "2022-04-25T16:40:38.561221Z"
    }
   },
   "outputs": [],
   "source": [
    "def process_bid_ask_data(df):\n",
    "    # Convert the data to the right format.\n",
    "    converted_df = clean_up_raw_bid_ask_data(df)\n",
    "    # Resample.\n",
    "    converted_resampled_df = resample_bid_ask(converted_df, \"1T\")\n",
    "    return converted_resampled_df"
   ]
  },
  {
   "attachments": {},
   "cell_type": "markdown",
   "id": "d8eadc19",
   "metadata": {},
   "source": [
    "### Load historical data"
   ]
  },
  {
   "attachments": {},
   "cell_type": "markdown",
   "id": "24001bd0",
   "metadata": {},
   "source": [
    "For the example I am taking the data with he following characteristics:\n",
    "- `full_symbol` = binance::BTC_USDT\n",
    "- depth = 1 (default option)\n",
    "- start_ts = \"2022-01-01\"\n",
    "- end_ts = \"2022-01-30\" (15 days in total)"
   ]
  },
  {
   "cell_type": "code",
   "execution_count": 11,
   "id": "46415be9",
   "metadata": {
    "ExecuteTime": {
     "end_time": "2022-04-25T16:40:38.571998Z",
     "start_time": "2022-04-25T16:40:38.568304Z"
    }
   },
   "outputs": [],
   "source": [
    "# Get the list of all dates in the range.\n",
    "datelist = pd.date_range(\"2022-01-01\", periods=30).tolist()\n",
    "datelist = [str(x.strftime(\"%Y-%m-%d\")) for x in datelist]"
   ]
  },
  {
   "cell_type": "code",
   "execution_count": 12,
   "id": "0b750378",
   "metadata": {
    "ExecuteTime": {
     "end_time": "2022-04-25T16:41:29.493089Z",
     "start_time": "2022-04-25T16:40:38.574195Z"
    }
   },
   "outputs": [],
   "source": [
    "# Using the variables from `datelist` the multiple requests can be sent to the API.\n",
    "result = []\n",
    "for date in datelist:\n",
    "    # Interaction with the API.\n",
    "    r = requests.get(\n",
    "        f\"https://api.cryptochassis.com/v1/market-depth/binance/btc-usdt?startTime={date}\"\n",
    "    )\n",
    "    data = pd.read_csv(r.json()[\"urls\"][0][\"url\"], compression=\"gzip\")\n",
    "    # Attaching it day-by-day to the final DataFrame.\n",
    "    result.append(data)\n",
    "bid_ask_df = pd.concat(result)"
   ]
  },
  {
   "cell_type": "code",
   "execution_count": 13,
   "id": "ee560ddc",
   "metadata": {
    "ExecuteTime": {
     "end_time": "2022-04-25T16:42:07.385432Z",
     "start_time": "2022-04-25T16:41:29.494789Z"
    }
   },
   "outputs": [],
   "source": [
    "# Transforming the data.\n",
    "processed_data = process_bid_ask_data(bid_ask_df)"
   ]
  },
  {
   "cell_type": "code",
   "execution_count": 14,
   "id": "2d115329",
   "metadata": {
    "ExecuteTime": {
     "end_time": "2022-04-25T16:42:07.404837Z",
     "start_time": "2022-04-25T16:42:07.387849Z"
    }
   },
   "outputs": [
    {
     "data": {
      "text/plain": [
       "(43201, 5)"
      ]
     },
     "metadata": {},
     "output_type": "display_data"
    },
    {
     "data": {
      "text/html": [
       "<div>\n",
       "<style scoped>\n",
       "    .dataframe tbody tr th:only-of-type {\n",
       "        vertical-align: middle;\n",
       "    }\n",
       "\n",
       "    .dataframe tbody tr th {\n",
       "        vertical-align: top;\n",
       "    }\n",
       "\n",
       "    .dataframe thead th {\n",
       "        text-align: right;\n",
       "    }\n",
       "</style>\n",
       "<table border=\"1\" class=\"dataframe\">\n",
       "  <thead>\n",
       "    <tr style=\"text-align: right;\">\n",
       "      <th></th>\n",
       "      <th>bid_price</th>\n",
       "      <th>bid_size</th>\n",
       "      <th>ask_price</th>\n",
       "      <th>ask_size</th>\n",
       "      <th>full_symbol</th>\n",
       "    </tr>\n",
       "    <tr>\n",
       "      <th>timestamp</th>\n",
       "      <th></th>\n",
       "      <th></th>\n",
       "      <th></th>\n",
       "      <th></th>\n",
       "      <th></th>\n",
       "    </tr>\n",
       "  </thead>\n",
       "  <tbody>\n",
       "    <tr>\n",
       "      <th>2022-01-01 00:00:00+00:00</th>\n",
       "      <td>46214.010000</td>\n",
       "      <td>1.08286</td>\n",
       "      <td>46214.020000</td>\n",
       "      <td>0.24793</td>\n",
       "      <td>binance::BTC_USDT</td>\n",
       "    </tr>\n",
       "    <tr>\n",
       "      <th>2022-01-01 00:01:00+00:00</th>\n",
       "      <td>46247.429167</td>\n",
       "      <td>29.78377</td>\n",
       "      <td>46247.692500</td>\n",
       "      <td>36.79080</td>\n",
       "      <td>binance::BTC_USDT</td>\n",
       "    </tr>\n",
       "    <tr>\n",
       "      <th>2022-01-01 00:02:00+00:00</th>\n",
       "      <td>46262.766167</td>\n",
       "      <td>26.08551</td>\n",
       "      <td>46263.049833</td>\n",
       "      <td>35.87070</td>\n",
       "      <td>binance::BTC_USDT</td>\n",
       "    </tr>\n",
       "    <tr>\n",
       "      <th>2022-01-01 00:03:00+00:00</th>\n",
       "      <td>46345.883167</td>\n",
       "      <td>45.60706</td>\n",
       "      <td>46346.071000</td>\n",
       "      <td>39.95809</td>\n",
       "      <td>binance::BTC_USDT</td>\n",
       "    </tr>\n",
       "    <tr>\n",
       "      <th>2022-01-01 00:04:00+00:00</th>\n",
       "      <td>46352.099667</td>\n",
       "      <td>49.22233</td>\n",
       "      <td>46352.251667</td>\n",
       "      <td>44.05137</td>\n",
       "      <td>binance::BTC_USDT</td>\n",
       "    </tr>\n",
       "    <tr>\n",
       "      <th>...</th>\n",
       "      <td>...</td>\n",
       "      <td>...</td>\n",
       "      <td>...</td>\n",
       "      <td>...</td>\n",
       "      <td>...</td>\n",
       "    </tr>\n",
       "    <tr>\n",
       "      <th>2022-01-30 23:56:00+00:00</th>\n",
       "      <td>37930.353559</td>\n",
       "      <td>23.68421</td>\n",
       "      <td>37930.674237</td>\n",
       "      <td>28.78032</td>\n",
       "      <td>binance::BTC_USDT</td>\n",
       "    </tr>\n",
       "    <tr>\n",
       "      <th>2022-01-30 23:57:00+00:00</th>\n",
       "      <td>37899.581333</td>\n",
       "      <td>18.37171</td>\n",
       "      <td>37899.765167</td>\n",
       "      <td>39.71293</td>\n",
       "      <td>binance::BTC_USDT</td>\n",
       "    </tr>\n",
       "    <tr>\n",
       "      <th>2022-01-30 23:58:00+00:00</th>\n",
       "      <td>37893.692373</td>\n",
       "      <td>25.83638</td>\n",
       "      <td>37893.762542</td>\n",
       "      <td>19.31441</td>\n",
       "      <td>binance::BTC_USDT</td>\n",
       "    </tr>\n",
       "    <tr>\n",
       "      <th>2022-01-30 23:59:00+00:00</th>\n",
       "      <td>37888.562000</td>\n",
       "      <td>8.64161</td>\n",
       "      <td>37888.833500</td>\n",
       "      <td>16.46435</td>\n",
       "      <td>binance::BTC_USDT</td>\n",
       "    </tr>\n",
       "    <tr>\n",
       "      <th>2022-01-31 00:00:00+00:00</th>\n",
       "      <td>37907.769322</td>\n",
       "      <td>28.62206</td>\n",
       "      <td>37907.837458</td>\n",
       "      <td>22.74359</td>\n",
       "      <td>binance::BTC_USDT</td>\n",
       "    </tr>\n",
       "  </tbody>\n",
       "</table>\n",
       "<p>43201 rows × 5 columns</p>\n",
       "</div>"
      ],
      "text/plain": [
       "                              bid_price  bid_size     ask_price  ask_size        full_symbol\n",
       "timestamp                                                                                   \n",
       "2022-01-01 00:00:00+00:00  46214.010000   1.08286  46214.020000   0.24793  binance::BTC_USDT\n",
       "2022-01-01 00:01:00+00:00  46247.429167  29.78377  46247.692500  36.79080  binance::BTC_USDT\n",
       "2022-01-01 00:02:00+00:00  46262.766167  26.08551  46263.049833  35.87070  binance::BTC_USDT\n",
       "2022-01-01 00:03:00+00:00  46345.883167  45.60706  46346.071000  39.95809  binance::BTC_USDT\n",
       "2022-01-01 00:04:00+00:00  46352.099667  49.22233  46352.251667  44.05137  binance::BTC_USDT\n",
       "...                                 ...       ...           ...       ...                ...\n",
       "2022-01-30 23:56:00+00:00  37930.353559  23.68421  37930.674237  28.78032  binance::BTC_USDT\n",
       "2022-01-30 23:57:00+00:00  37899.581333  18.37171  37899.765167  39.71293  binance::BTC_USDT\n",
       "2022-01-30 23:58:00+00:00  37893.692373  25.83638  37893.762542  19.31441  binance::BTC_USDT\n",
       "2022-01-30 23:59:00+00:00  37888.562000   8.64161  37888.833500  16.46435  binance::BTC_USDT\n",
       "2022-01-31 00:00:00+00:00  37907.769322  28.62206  37907.837458  22.74359  binance::BTC_USDT\n",
       "\n",
       "[43201 rows x 5 columns]"
      ]
     },
     "metadata": {},
     "output_type": "display_data"
    }
   ],
   "source": [
    "# Show the data.\n",
    "display(processed_data.shape)\n",
    "display(processed_data)"
   ]
  },
  {
   "attachments": {},
   "cell_type": "markdown",
   "id": "d73f9e24",
   "metadata": {},
   "source": [
    "Now, this data is in the format that is compatible for working with CCXT OHLCV data.\n",
    "\n",
    "It takes ±1.5mins to load and process data for 1 month (30 days), so it shouldn't take much time to load big chunks of historical data."
   ]
  }
 ],
 "metadata": {
  "kernelspec": {
   "display_name": "Python 3 (ipykernel)",
   "language": "python",
   "name": "python3"
  },
  "language_info": {
   "codemirror_mode": {
    "name": "ipython",
    "version": 3
   },
   "file_extension": ".py",
   "mimetype": "text/x-python",
   "name": "python",
   "nbconvert_exporter": "python",
   "pygments_lexer": "ipython3",
   "version": "3.8.10"
  },
  "toc": {
   "base_numbering": 1,
   "nav_menu": {},
   "number_sections": true,
   "sideBar": true,
   "skip_h1_title": false,
   "title_cell": "Table of Contents",
   "title_sidebar": "Contents",
   "toc_cell": false,
   "toc_position": {},
   "toc_section_display": true,
   "toc_window_display": false
  }
 },
 "nbformat": 4,
 "nbformat_minor": 5
}
