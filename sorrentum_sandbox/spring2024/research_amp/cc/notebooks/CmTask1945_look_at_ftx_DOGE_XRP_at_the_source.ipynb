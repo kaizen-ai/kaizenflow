{
 "cells": [
  {
   "cell_type": "markdown",
   "id": "67f4dab6",
   "metadata": {},
   "source": [
    "# Description"
   ]
  },
  {
   "cell_type": "markdown",
   "id": "acb69229",
   "metadata": {},
   "source": [
    "This notebook performs a check that missing data is not present at source."
   ]
  },
  {
   "cell_type": "markdown",
   "id": "4b935ab9",
   "metadata": {},
   "source": [
    "# Imports"
   ]
  },
  {
   "cell_type": "code",
   "execution_count": 1,
   "id": "32686f6d",
   "metadata": {
    "ExecuteTime": {
     "end_time": "2022-05-24T20:31:47.469575Z",
     "start_time": "2022-05-24T20:31:45.141443Z"
    }
   },
   "outputs": [
    {
     "name": "stderr",
     "output_type": "stream",
     "text": [
      "/app/helpers/hparquet.py:17: TqdmExperimentalWarning: Using `tqdm.autonotebook.tqdm` in notebook mode. Use `tqdm.tqdm` instead to force console mode (e.g. in jupyter console)\n",
      "  from tqdm.autonotebook import tqdm\n"
     ]
    }
   ],
   "source": [
    "import logging\n",
    "import os\n",
    "\n",
    "import pandas as pd\n",
    "import requests\n",
    "\n",
    "import core.statistics as costatis\n",
    "import helpers.hdatetime as hdateti\n",
    "import helpers.hdbg as hdbg\n",
    "import helpers.henv as henv\n",
    "import helpers.hpandas as hpandas\n",
    "import helpers.hprint as hprint\n",
    "import helpers.hs3 as hs3\n",
    "import im_v2.crypto_chassis.data.client.crypto_chassis_clients as imvccdcccc"
   ]
  },
  {
   "cell_type": "code",
   "execution_count": 2,
   "id": "69de3eb6",
   "metadata": {
    "ExecuteTime": {
     "end_time": "2022-05-24T20:31:48.564232Z",
     "start_time": "2022-05-24T20:31:47.471299Z"
    }
   },
   "outputs": [
    {
     "name": "stdout",
     "output_type": "stream",
     "text": [
      "\u001b[0m\u001b[36mINFO\u001b[0m: > cmd='/venv/lib/python3.8/site-packages/ipykernel_launcher.py -f /home/.local/share/jupyter/runtime/kernel-7a838d8b-c28d-455d-99dc-66e7d27bfba1.json'\n",
      "WARNING: Running in Jupyter\n",
      "INFO  # Git\n",
      "    branch_name='CMTask1945_look_at_FTX_DOGE_XRP_at_the_source'\n",
      "    hash='780acfb9c'\n",
      "    # Last commits:\n",
      "      *   780acfb9c Nina Lee Merge branch 'master' into CMTask1945_look_at_FTX_DOGE_XRP_at_the_source (59 minutes ago) Tue May 24 19:32:56 2022  (HEAD -> CMTask1945_look_at_FTX_DOGE_XRP_at_the_source, origin/CMTask1945_look_at_FTX_DOGE_XRP_at_the_source)\n",
      "      |\\  \n",
      "      * | 1d2a4ac4d Nina Lee fix                                                               (62 minutes ago) Tue May 24 19:30:07 2022           \n",
      "      | * 9a9239503 DanilYachmenev Cm task1966 make master cross vendor qa (#1991)                   (   5 hours ago) Tue May 24 15:34:22 2022  (origin/master, origin/HEAD, master, CMTask1999_Move_get_timestamp_stats_get_bad_data_stats_from_the_cross_vendor_QA_notebook_to_a_lib)\n",
      "# Machine info\n",
      "    system=Linux\n",
      "    node name=a6158320ff3c\n",
      "    release=5.13.0-1022-aws\n",
      "    version=#24~20.04.1-Ubuntu SMP Thu Apr 7 22:10:15 UTC 2022\n",
      "    machine=x86_64\n",
      "    processor=x86_64\n",
      "    cpu count=8\n",
      "    cpu freq=scpufreq(current=2499.998, min=0.0, max=0.0)\n",
      "    memory=svmem(total=33294798848, available=17064812544, percent=48.7, used=15427198976, free=11941572608, active=3333226496, inactive=16258007040, buffers=1147760640, cached=4778266624, shared=318853120, slab=1299931136)\n",
      "    disk usage=sdiskusage(total=156066836480, used=25279406080, free=130770653184, percent=16.2)\n",
      "# Packages\n",
      "    python: 3.8.10\n",
      "    gluonnlp: ?\n",
      "    gluonts: 0.6.7\n",
      "    joblib: 1.1.0\n",
      "    mxnet: 1.9.0\n",
      "    numpy: 1.22.3\n",
      "    pandas: 1.4.2\n",
      "    pyarrow: 7.0.0\n",
      "    scipy: 1.6.1\n",
      "    seaborn: 0.11.2\n",
      "    sklearn: 1.0.2\n",
      "    statsmodels: 0.13.2\n",
      "\u001b[33mWARNING\u001b[0m: Disabling annoying warnings\n"
     ]
    }
   ],
   "source": [
    "hdbg.init_logger(verbosity=logging.INFO)\n",
    "\n",
    "_LOG = logging.getLogger(__name__)\n",
    "\n",
    "_LOG.info(\"%s\", henv.get_system_signature()[0])\n",
    "\n",
    "hprint.config_notebook()"
   ]
  },
  {
   "cell_type": "markdown",
   "id": "6a562354",
   "metadata": {},
   "source": [
    "# Functions"
   ]
  },
  {
   "cell_type": "code",
   "execution_count": 3,
   "id": "f1d54baf",
   "metadata": {
    "ExecuteTime": {
     "end_time": "2022-05-24T20:31:48.579168Z",
     "start_time": "2022-05-24T20:31:48.566543Z"
    }
   },
   "outputs": [],
   "source": [
    "def _get_full_symbol_data_for_year_month(\n",
    "    df: pd.DataFrame, full_symbol: str, year: int, month: int\n",
    ") -> pd.DataFrame:\n",
    "    \"\"\"\n",
    "    Get data for one full symbol for a specific year and month.\n",
    "    \"\"\"\n",
    "    df = df[\n",
    "        (df.index.year == year)\n",
    "        & (df.index.month == month)\n",
    "        & (df[\"full_symbol\"] == full_symbol)\n",
    "    ]\n",
    "    df = df.round(8)\n",
    "    if \"knowledge_timestamp\" in df.columns.to_list():\n",
    "        df = df.drop(columns=[\"knowledge_timestamp\"])\n",
    "        df.index.name = \"time_seconds\"\n",
    "    return df\n",
    "\n",
    "\n",
    "def _get_qa_stats(data: pd.DataFrame, source: str) -> pd.DataFrame:\n",
    "    \"\"\"\n",
    "    Get quality assurance stats per full symbol.\n",
    "    \"\"\"\n",
    "    res_stats = []\n",
    "    for full_symbol, symbol_data in data.groupby(\"full_symbol\"):\n",
    "        # Compute stats for a full symbol.\n",
    "        symbol_stats = pd.Series(dtype=\"object\", name=full_symbol)\n",
    "        symbol_stats[\"source\"] = source\n",
    "        symbol_stats[\"min_timestamp\"] = symbol_data.index.min()\n",
    "        symbol_stats[\"max_timestamp\"] = symbol_data.index.max()\n",
    "        symbol_stats[\"NaNs [%]\"] = 100 * (\n",
    "            costatis.compute_frac_nan(symbol_data[\"close\"])\n",
    "        )\n",
    "        symbol_stats[\"volume=0 [%]\"] = 100 * (\n",
    "            symbol_data[symbol_data[\"volume\"] == 0].shape[0]\n",
    "            / symbol_data.shape[0]\n",
    "        )\n",
    "        symbol_stats[\"bad data [%]\"] = (\n",
    "            symbol_stats[\"NaNs [%]\"] + symbol_stats[\"volume=0 [%]\"]\n",
    "        )\n",
    "        res_stats.append(symbol_stats)\n",
    "    res_stats_df = pd.concat(res_stats, axis=1).T\n",
    "    return res_stats_df\n",
    "\n",
    "\n",
    "def _load_crypto_chassis_ohlcv(exchange_id: str, currency_pair: str):\n",
    "    \"\"\"\n",
    "    Load data from CryptoChassis API.\n",
    "    \"\"\"\n",
    "    r = requests.get(\n",
    "        f\"https://api.cryptochassis.com/v1/ohlc/{exchange_id}/{currency_pair}?startTime=0\"\n",
    "    )\n",
    "    df = pd.read_csv(r.json()[\"historical\"][\"urls\"][0][\"url\"], compression=\"gzip\")\n",
    "    df[\"time_seconds\"] = df[\"time_seconds\"].apply(\n",
    "        lambda x: hdateti.convert_unix_epoch_to_timestamp(x, unit=\"s\")\n",
    "    )\n",
    "    df = df.set_index(\"time_seconds\")\n",
    "    full_symbol = (\n",
    "        f\"{exchange_id.lower()}::{currency_pair.upper().replace('-', '_')}\"\n",
    "    )\n",
    "    df.insert(0, \"full_symbol\", full_symbol)\n",
    "    return df"
   ]
  },
  {
   "cell_type": "markdown",
   "id": "e7710203",
   "metadata": {},
   "source": [
    "# Load data from CryptoChassis API"
   ]
  },
  {
   "cell_type": "code",
   "execution_count": 4,
   "id": "04c4a6e0",
   "metadata": {
    "ExecuteTime": {
     "end_time": "2022-05-24T20:32:09.405477Z",
     "start_time": "2022-05-24T20:31:48.581179Z"
    }
   },
   "outputs": [],
   "source": [
    "source_ftx_xrp = _load_crypto_chassis_ohlcv(\"ftx\", \"xrp-usdt\")\n",
    "source_ftx_xrp_2022_4 = _get_full_symbol_data_for_year_month(\n",
    "    source_ftx_xrp, \"ftx::XRP_USDT\", 2022, 4\n",
    ")"
   ]
  },
  {
   "cell_type": "code",
   "execution_count": 5,
   "id": "32791232",
   "metadata": {
    "ExecuteTime": {
     "end_time": "2022-05-24T20:32:27.606526Z",
     "start_time": "2022-05-24T20:32:09.407346Z"
    }
   },
   "outputs": [],
   "source": [
    "source_ftx_doge = _load_crypto_chassis_ohlcv(\"ftx\", \"doge-usdt\")\n",
    "source_ftx_doge_2022_3 = _get_full_symbol_data_for_year_month(\n",
    "    source_ftx_doge, \"ftx::DOGE_USDT\", 2022, 3\n",
    ")"
   ]
  },
  {
   "cell_type": "markdown",
   "id": "835c8bc5",
   "metadata": {},
   "source": [
    "# Load data with client"
   ]
  },
  {
   "cell_type": "code",
   "execution_count": 6,
   "id": "8c5f87b4",
   "metadata": {
    "ExecuteTime": {
     "end_time": "2022-05-24T20:32:27.692917Z",
     "start_time": "2022-05-24T20:32:27.608555Z"
    }
   },
   "outputs": [],
   "source": [
    "universe_version = \"v1\"\n",
    "resample_1min = False\n",
    "root_dir = os.path.join(\n",
    "    hs3.get_s3_bucket_path(\"ck\"),\n",
    "    \"reorg\",\n",
    "    \"historical.manual.pq\",\n",
    ")\n",
    "partition_mode = \"by_year_month\"\n",
    "client = imvccdcccc.CryptoChassisHistoricalPqByTileClient(\n",
    "    universe_version, resample_1min, root_dir, partition_mode, aws_profile=\"ck\"\n",
    ")"
   ]
  },
  {
   "cell_type": "code",
   "execution_count": 7,
   "id": "6097df40",
   "metadata": {
    "ExecuteTime": {
     "end_time": "2022-05-24T20:32:31.762329Z",
     "start_time": "2022-05-24T20:32:27.695336Z"
    }
   },
   "outputs": [],
   "source": [
    "start_ts = None\n",
    "end_ts = None\n",
    "columns = None\n",
    "filter_data_mode = \"assert\"\n",
    "full_symbols = [\"ftx::XRP_USDT\", \"ftx::DOGE_USDT\"]\n",
    "s3_ftx = client.read_data(\n",
    "    full_symbols, start_ts, end_ts, columns, filter_data_mode\n",
    ")"
   ]
  },
  {
   "cell_type": "markdown",
   "id": "b77757b1",
   "metadata": {},
   "source": [
    "# Compare data"
   ]
  },
  {
   "cell_type": "markdown",
   "id": "5baf1bc7",
   "metadata": {},
   "source": [
    "## ftx::XRP_USDT"
   ]
  },
  {
   "cell_type": "code",
   "execution_count": 8,
   "id": "c3f62b1d",
   "metadata": {
    "ExecuteTime": {
     "end_time": "2022-05-24T20:32:32.001571Z",
     "start_time": "2022-05-24T20:32:31.765123Z"
    }
   },
   "outputs": [
    {
     "data": {
      "text/plain": [
       "True"
      ]
     },
     "execution_count": 8,
     "metadata": {},
     "output_type": "execute_result"
    }
   ],
   "source": [
    "s3_ftx_xrp_2022_04 = _get_full_symbol_data_for_year_month(\n",
    "    s3_ftx, \"ftx::XRP_USDT\", 2022, 4\n",
    ")\n",
    "s3_ftx_xrp_2022_04.shape[0] == source_ftx_xrp_2022_4.shape[0]"
   ]
  },
  {
   "cell_type": "markdown",
   "id": "ae35adc7",
   "metadata": {},
   "source": [
    "## ftx::DOGE_USDT"
   ]
  },
  {
   "cell_type": "code",
   "execution_count": 9,
   "id": "d5e98f51",
   "metadata": {
    "ExecuteTime": {
     "end_time": "2022-05-24T20:32:32.199677Z",
     "start_time": "2022-05-24T20:32:32.003304Z"
    }
   },
   "outputs": [
    {
     "data": {
      "text/plain": [
       "True"
      ]
     },
     "execution_count": 9,
     "metadata": {},
     "output_type": "execute_result"
    }
   ],
   "source": [
    "s3_ftx_doge_2022_3 = _get_full_symbol_data_for_year_month(\n",
    "    s3_ftx, \"ftx::DOGE_USDT\", 2022, 3\n",
    ")\n",
    "source_ftx_doge_2022_3.shape[0] == s3_ftx_doge_2022_3.shape[0]"
   ]
  },
  {
   "cell_type": "code",
   "execution_count": 10,
   "id": "f22bb23a",
   "metadata": {
    "ExecuteTime": {
     "end_time": "2022-05-24T20:32:32.207778Z",
     "start_time": "2022-05-24T20:32:32.202119Z"
    }
   },
   "outputs": [
    {
     "data": {
      "text/plain": [
       "0"
      ]
     },
     "execution_count": 10,
     "metadata": {},
     "output_type": "execute_result"
    }
   ],
   "source": [
    "# There are no NaNs for ftx::DOGE_USDT for all period storing on S3.\n",
    "s3_ftx_doge_2022_3[s3_ftx_doge_2022_3[\"close\"].isna()].shape[0]"
   ]
  },
  {
   "cell_type": "code",
   "execution_count": 11,
   "id": "b12ae588",
   "metadata": {
    "ExecuteTime": {
     "end_time": "2022-05-24T20:32:32.215643Z",
     "start_time": "2022-05-24T20:32:32.209213Z"
    }
   },
   "outputs": [
    {
     "data": {
      "text/plain": [
       "0"
      ]
     },
     "execution_count": 11,
     "metadata": {},
     "output_type": "execute_result"
    }
   ],
   "source": [
    "# There is no volume=0 in the S3 data.\n",
    "s3_ftx_doge_2022_3[s3_ftx_doge_2022_3[\"volume\"] == 0].shape[0]"
   ]
  },
  {
   "cell_type": "markdown",
   "id": "42552a9b",
   "metadata": {},
   "source": [
    "### Compare non-resampled data from source and S3"
   ]
  },
  {
   "cell_type": "code",
   "execution_count": 12,
   "id": "19977ec7",
   "metadata": {
    "ExecuteTime": {
     "end_time": "2022-05-24T20:32:32.237902Z",
     "start_time": "2022-05-24T20:32:32.217525Z"
    }
   },
   "outputs": [
    {
     "data": {
      "text/plain": [
       "full_symbol  open  high  low   close  volume  vwap  number_of_trades  twap\n",
       "True         True  True  True  True   True    True  True              True    20248\n",
       "dtype: int64"
      ]
     },
     "execution_count": 12,
     "metadata": {},
     "output_type": "execute_result"
    }
   ],
   "source": [
    "# Check if data in both datasets are equal.\n",
    "s3_ftx_doge_2022_3.eq(source_ftx_doge_2022_3, axis=1).value_counts()"
   ]
  },
  {
   "cell_type": "markdown",
   "id": "3f948789",
   "metadata": {},
   "source": [
    "### Compare resampled data from the source and S3"
   ]
  },
  {
   "cell_type": "code",
   "execution_count": 13,
   "id": "a31418c5",
   "metadata": {
    "ExecuteTime": {
     "end_time": "2022-05-24T20:32:32.255296Z",
     "start_time": "2022-05-24T20:32:32.240408Z"
    }
   },
   "outputs": [
    {
     "data": {
      "text/plain": [
       "24392"
      ]
     },
     "execution_count": 13,
     "metadata": {},
     "output_type": "execute_result"
    }
   ],
   "source": [
    "source_ftx_doge_2022_3_resampled = hpandas.resample_df(\n",
    "    source_ftx_doge_2022_3, \"T\"\n",
    ")\n",
    "source_ftx_doge_2022_3_resampled[\"full_symbol\"] = \"ftx::DOGE_USDT\"\n",
    "# Check how much NaNs in the resampled data.\n",
    "source_ftx_doge_2022_3_resampled[\n",
    "    source_ftx_doge_2022_3_resampled[\"close\"].isna()\n",
    "].shape[0]"
   ]
  },
  {
   "cell_type": "code",
   "execution_count": 14,
   "id": "721cdd1d",
   "metadata": {
    "ExecuteTime": {
     "end_time": "2022-05-24T20:32:32.272837Z",
     "start_time": "2022-05-24T20:32:32.257080Z"
    }
   },
   "outputs": [
    {
     "data": {
      "text/plain": [
       "24392"
      ]
     },
     "execution_count": 14,
     "metadata": {},
     "output_type": "execute_result"
    }
   ],
   "source": [
    "s3_ftx_doge_2022_3_resampled = hpandas.resample_df(s3_ftx_doge_2022_3, \"T\")\n",
    "s3_ftx_doge_2022_3_resampled[\"full_symbol\"] = \"ftx::DOGE_USDT\"\n",
    "# Check how much NaNs in the resampled data.\n",
    "s3_ftx_doge_2022_3_resampled[s3_ftx_doge_2022_3_resampled[\"close\"].isna()].shape[\n",
    "    0\n",
    "]"
   ]
  },
  {
   "cell_type": "code",
   "execution_count": 15,
   "id": "0bc46cc4",
   "metadata": {
    "ExecuteTime": {
     "end_time": "2022-05-24T20:32:32.330214Z",
     "start_time": "2022-05-24T20:32:32.275309Z"
    }
   },
   "outputs": [],
   "source": [
    "s3_stats = _get_qa_stats(s3_ftx_doge_2022_3, \"s3\")\n",
    "source_stats = _get_qa_stats(source_ftx_doge_2022_3, \"CryptoChassis\")\n",
    "s3_resampled_stats = _get_qa_stats(s3_ftx_doge_2022_3_resampled, \"s3_resampled\")\n",
    "source_resampled_stats = _get_qa_stats(\n",
    "    source_ftx_doge_2022_3_resampled, \"CryptoChassis_resampled\"\n",
    ")"
   ]
  },
  {
   "cell_type": "code",
   "execution_count": 16,
   "id": "041d80bc",
   "metadata": {
    "ExecuteTime": {
     "end_time": "2022-05-24T20:32:32.346650Z",
     "start_time": "2022-05-24T20:32:32.332205Z"
    }
   },
   "outputs": [
    {
     "data": {
      "text/html": [
       "<div>\n",
       "<style scoped>\n",
       "    .dataframe tbody tr th:only-of-type {\n",
       "        vertical-align: middle;\n",
       "    }\n",
       "\n",
       "    .dataframe tbody tr th {\n",
       "        vertical-align: top;\n",
       "    }\n",
       "\n",
       "    .dataframe thead th {\n",
       "        text-align: right;\n",
       "    }\n",
       "</style>\n",
       "<table border=\"1\" class=\"dataframe\">\n",
       "  <thead>\n",
       "    <tr style=\"text-align: right;\">\n",
       "      <th></th>\n",
       "      <th>source</th>\n",
       "      <th>min_timestamp</th>\n",
       "      <th>max_timestamp</th>\n",
       "      <th>NaNs [%]</th>\n",
       "      <th>volume=0 [%]</th>\n",
       "      <th>bad data [%]</th>\n",
       "    </tr>\n",
       "  </thead>\n",
       "  <tbody>\n",
       "    <tr>\n",
       "      <th>ftx::DOGE_USDT</th>\n",
       "      <td>s3</td>\n",
       "      <td>2022-03-01 00:00:00+00:00</td>\n",
       "      <td>2022-03-31 23:59:00+00:00</td>\n",
       "      <td>0.0</td>\n",
       "      <td>0.0</td>\n",
       "      <td>0.0</td>\n",
       "    </tr>\n",
       "    <tr>\n",
       "      <th>ftx::DOGE_USDT</th>\n",
       "      <td>CryptoChassis</td>\n",
       "      <td>2022-03-01 00:00:00+00:00</td>\n",
       "      <td>2022-03-31 23:59:00+00:00</td>\n",
       "      <td>0.0</td>\n",
       "      <td>0.0</td>\n",
       "      <td>0.0</td>\n",
       "    </tr>\n",
       "    <tr>\n",
       "      <th>ftx::DOGE_USDT</th>\n",
       "      <td>s3_resampled</td>\n",
       "      <td>2022-03-01 00:00:00+00:00</td>\n",
       "      <td>2022-03-31 23:59:00+00:00</td>\n",
       "      <td>54.641577</td>\n",
       "      <td>0.0</td>\n",
       "      <td>54.641577</td>\n",
       "    </tr>\n",
       "    <tr>\n",
       "      <th>ftx::DOGE_USDT</th>\n",
       "      <td>CryptoChassis_resampled</td>\n",
       "      <td>2022-03-01 00:00:00+00:00</td>\n",
       "      <td>2022-03-31 23:59:00+00:00</td>\n",
       "      <td>54.641577</td>\n",
       "      <td>0.0</td>\n",
       "      <td>54.641577</td>\n",
       "    </tr>\n",
       "  </tbody>\n",
       "</table>\n",
       "</div>"
      ],
      "text/plain": [
       "                                 source             min_timestamp             max_timestamp   NaNs [%] volume=0 [%] bad data [%]\n",
       "ftx::DOGE_USDT                       s3 2022-03-01 00:00:00+00:00 2022-03-31 23:59:00+00:00        0.0          0.0          0.0\n",
       "ftx::DOGE_USDT            CryptoChassis 2022-03-01 00:00:00+00:00 2022-03-31 23:59:00+00:00        0.0          0.0          0.0\n",
       "ftx::DOGE_USDT             s3_resampled 2022-03-01 00:00:00+00:00 2022-03-31 23:59:00+00:00  54.641577          0.0    54.641577\n",
       "ftx::DOGE_USDT  CryptoChassis_resampled 2022-03-01 00:00:00+00:00 2022-03-31 23:59:00+00:00  54.641577          0.0    54.641577"
      ]
     },
     "execution_count": 16,
     "metadata": {},
     "output_type": "execute_result"
    }
   ],
   "source": [
    "stats = pd.concat(\n",
    "    [s3_stats, source_stats, s3_resampled_stats, source_resampled_stats]\n",
    ")\n",
    "stats"
   ]
  },
  {
   "cell_type": "markdown",
   "id": "3fbe6f33",
   "metadata": {},
   "source": [
    "Equal amount of NaNs after resampling. Data with NaNs on S3 is absent at the source."
   ]
  }
 ],
 "metadata": {
  "kernelspec": {
   "display_name": "Python 3 (ipykernel)",
   "language": "python",
   "name": "python3"
  },
  "language_info": {
   "codemirror_mode": {
    "name": "ipython",
    "version": 3
   },
   "file_extension": ".py",
   "mimetype": "text/x-python",
   "name": "python",
   "nbconvert_exporter": "python",
   "pygments_lexer": "ipython3",
   "version": "3.8.10"
  },
  "toc": {
   "base_numbering": 1,
   "nav_menu": {},
   "number_sections": true,
   "sideBar": true,
   "skip_h1_title": false,
   "title_cell": "Table of Contents",
   "title_sidebar": "Contents",
   "toc_cell": false,
   "toc_position": {},
   "toc_section_display": true,
   "toc_window_display": false
  }
 },
 "nbformat": 4,
 "nbformat_minor": 5
}
