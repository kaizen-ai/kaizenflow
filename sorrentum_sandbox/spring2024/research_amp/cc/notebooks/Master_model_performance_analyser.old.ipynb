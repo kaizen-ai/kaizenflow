{
 "cells": [
  {
   "cell_type": "markdown",
   "id": "4d75d00e",
   "metadata": {},
   "source": [
    "# Description"
   ]
  },
  {
   "cell_type": "markdown",
   "id": "0f710a02",
   "metadata": {},
   "source": [
    "Compute and analyze model performance stats."
   ]
  },
  {
   "cell_type": "markdown",
   "id": "4549477a",
   "metadata": {},
   "source": [
    "# Imports"
   ]
  },
  {
   "cell_type": "code",
   "execution_count": 1,
   "id": "3e783ed1",
   "metadata": {
    "ExecuteTime": {
     "end_time": "2022-07-07T13:26:47.345010Z",
     "start_time": "2022-07-07T13:26:45.860615Z"
    }
   },
   "outputs": [],
   "source": [
    "%load_ext autoreload\n",
    "%autoreload 2\n",
    "%matplotlib inline"
   ]
  },
  {
   "cell_type": "code",
   "execution_count": 2,
   "id": "fbc596de",
   "metadata": {
    "ExecuteTime": {
     "end_time": "2022-07-07T13:26:50.383585Z",
     "start_time": "2022-07-07T13:26:47.347439Z"
    }
   },
   "outputs": [
    {
     "name": "stderr",
     "output_type": "stream",
     "text": [
      "/app/dataflow/core/dag.py:15: TqdmExperimentalWarning: Using `tqdm.autonotebook.tqdm` in notebook mode. Use `tqdm.tqdm` instead to force console mode (e.g. in jupyter console)\n",
      "  from tqdm.autonotebook import tqdm\n"
     ]
    },
    {
     "name": "stdout",
     "output_type": "stream",
     "text": [
      "\u001b[0m\u001b[36mINFO\u001b[0m: > cmd='/venv/lib/python3.8/site-packages/ipykernel_launcher.py -f /home/.local/share/jupyter/runtime/kernel-14b68de8-a164-4348-af3b-9d7cbabd422d.json'\n",
      "WARNING: Running in Jupyter\n"
     ]
    }
   ],
   "source": [
    "import datetime\n",
    "import logging\n",
    "from typing import Any, Callable, List\n",
    "\n",
    "import ipywidgets as widgets\n",
    "import matplotlib.pyplot as plt\n",
    "import numpy as np\n",
    "import pandas as pd\n",
    "import scipy.stats as st\n",
    "\n",
    "import core.config.config_ as cconconf\n",
    "import core.config.config_utils as ccocouti\n",
    "import core.statistics.requires_statsmodels as cstresta\n",
    "import core.statistics.sharpe_ratio as cstshrat\n",
    "import dataflow.model as dtfmod\n",
    "import helpers.hdbg as hdbg\n",
    "import helpers.henv as henv\n",
    "import helpers.hpandas as hpandas\n",
    "import helpers.hprint as hprint\n",
    "import im_v2.crypto_chassis.data.client as iccdc"
   ]
  },
  {
   "cell_type": "code",
   "execution_count": 3,
   "id": "717d24a8",
   "metadata": {
    "ExecuteTime": {
     "end_time": "2022-07-07T13:26:50.542579Z",
     "start_time": "2022-07-07T13:26:50.386482Z"
    },
    "scrolled": true
   },
   "outputs": [
    {
     "name": "stdout",
     "output_type": "stream",
     "text": [
      "\u001b[0m\u001b[33mWARNING\u001b[0m: Logger already initialized: skipping\n",
      "INFO  # Git\n",
      "    branch_name='CMTask2294_Unify_ImClient_examples_for_CCXT_and_CryptoChassis'\n",
      "    hash='68b0d0925'\n",
      "    # Last commits:\n",
      "      *   68b0d0925 Nina Lee Merge branch 'master' into CMTask2294_Unify_ImClient_examples_for_CCXT_and_CryptoChassis (21 minutes ago) Thu Jul 7 13:05:40 2022  (HEAD -> CMTask2294_Unify_ImClient_examples_for_CCXT_and_CryptoChassis, origin/CMTask2294_Unify_ImClient_examples_for_CCXT_and_CryptoChassis)\n",
      "      |\\  \n",
      "      | * a61aa42eb DanilYachmenev Cmtask2266: add 1 month period for test (#2296)                   (31 minutes ago) Thu Jul 7 12:55:51 2022  (origin/master, origin/HEAD)\n",
      "      * | 099daa6ca Nina Lee updated calls                                                     (37 minutes ago) Thu Jul 7 12:49:29 2022           \n",
      "# Machine info\n",
      "    system=Linux\n",
      "    node name=a800a26c72d5\n",
      "    release=5.13.0-1022-aws\n",
      "    version=#24~20.04.1-Ubuntu SMP Thu Apr 7 22:10:15 UTC 2022\n",
      "    machine=x86_64\n",
      "    processor=x86_64\n",
      "    cpu count=8\n",
      "    cpu freq=scpufreq(current=2499.998, min=0.0, max=0.0)\n",
      "    memory=svmem(total=33294798848, available=20900671488, percent=37.2, used=11635621888, free=9298796544, active=6005682176, inactive=15637479424, buffers=934797312, cached=11425583104, shared=280768512, slab=1836097536)\n",
      "    disk usage=sdiskusage(total=156066836480, used=26743250944, free=129306808320, percent=17.1)\n",
      "# Packages\n",
      "    python: 3.8.10\n",
      "    gluonnlp: ?\n",
      "    gluonts: 0.6.7\n",
      "    joblib: 1.1.0\n",
      "    mxnet: 1.9.0\n",
      "    numpy: 1.22.3\n",
      "    pandas: 1.4.2\n",
      "    pyarrow: 7.0.0\n",
      "    scipy: 1.6.1\n",
      "    seaborn: 0.11.2\n",
      "    sklearn: 1.0.2\n",
      "    statsmodels: 0.13.2\n",
      "\u001b[33mWARNING\u001b[0m: Disabling annoying warnings\n"
     ]
    }
   ],
   "source": [
    "hdbg.init_logger(verbosity=logging.INFO)\n",
    "\n",
    "_LOG = logging.getLogger(__name__)\n",
    "\n",
    "_LOG.info(\"%s\", henv.get_system_signature()[0])\n",
    "\n",
    "hprint.config_notebook()"
   ]
  },
  {
   "cell_type": "markdown",
   "id": "f7dd094b",
   "metadata": {},
   "source": [
    "# Configs"
   ]
  },
  {
   "cell_type": "code",
   "execution_count": 4,
   "id": "be23c175",
   "metadata": {
    "ExecuteTime": {
     "end_time": "2022-07-07T13:26:50.599235Z",
     "start_time": "2022-07-07T13:26:50.544930Z"
    }
   },
   "outputs": [],
   "source": [
    "def get_notebook_config() -> cconconf.Config:\n",
    "    \"\"\"\n",
    "    Get notebook specific config.\n",
    "    \"\"\"\n",
    "    config = cconconf.Config()\n",
    "    param_dict = {\n",
    "        \"im_client_params\": {\n",
    "            \"universe_version\": \"v2\",\n",
    "            \"resample_1min\": True,\n",
    "            \"dataset\": \"ohlcv\",\n",
    "            \"contract_type\": \"spot\",\n",
    "            \"data_snapshot\": \"20220530\",\n",
    "        },\n",
    "        \"data\": {\n",
    "            \"dir_name\": \"/shared_data/model/historical/experiment.E1a.crypto_chassis_v2-all.5T.2018_2022/tiled_results/\",\n",
    "            \"columns\": \"volume vwap vwap.ret_0 vwap.ret_0.vol_adj vwap.ret_0.vol_adj.c vwap.ret_0.vol_adj.shift_-2 vwap.ret_0.vol_adj.shift_-2_hat\".split(),\n",
    "            \"start_date\": datetime.date(2018, 1, 1),\n",
    "            \"end_date\": datetime.date(2022, 5, 1),\n",
    "        },\n",
    "        \"column_names\": {\n",
    "            \"asset_id\": \"asset_id\",\n",
    "            \"timestamp\": \"end_ts\",\n",
    "            \"volume\": \"volume\",\n",
    "            \"y\": \"vwap.ret_0.vol_adj.shift_-2\",\n",
    "            \"y_hat\": \"vwap.ret_0.vol_adj.shift_-2_hat\",\n",
    "            \"hit\": \"hit\",\n",
    "            \"trade_pnl\": \"trade_pnl\",\n",
    "        },\n",
    "        \"stats_kwargs\": {\n",
    "            \"quantile_ranks\": 10,\n",
    "            # 28500 is the number of 5-minute intervals in ATH in a year.\n",
    "            \"time_scaling\": 28500,\n",
    "            \"n_resamples\": 1000,\n",
    "            \"alpha\": 0.05,\n",
    "        },\n",
    "        \"plot_kwargs\": {\n",
    "            \"y_min_lim_hit_rate\": 49,\n",
    "            \"y_max_lim_hit_rate\": 54,\n",
    "            \"color\": \"C0\",\n",
    "            \"capsize\": 0.2,\n",
    "            \"xticks_rotation\": 70,\n",
    "        },\n",
    "    }\n",
    "    config = cconfig.Config.from_dict(param_dict)\n",
    "    return config"
   ]
  },
  {
   "cell_type": "code",
   "execution_count": 5,
   "id": "fde4341e",
   "metadata": {
    "ExecuteTime": {
     "end_time": "2022-07-07T13:26:50.792360Z",
     "start_time": "2022-07-07T13:26:50.602164Z"
    }
   },
   "outputs": [
    {
     "name": "stdout",
     "output_type": "stream",
     "text": [
      "im_client_params:\n",
      "  universe_version: v2\n",
      "  resample_1min: True\n",
      "  dataset: ohlcv\n",
      "  contract_type: spot\n",
      "  data_snapshot: 20220530\n",
      "data:\n",
      "  dir_name: /shared_data/model/historical/experiment.E1a.crypto_chassis_v2-all.5T.2018_2022/tiled_results/\n",
      "  columns: ['volume', 'vwap', 'vwap.ret_0', 'vwap.ret_0.vol_adj', 'vwap.ret_0.vol_adj.c', 'vwap.ret_0.vol_adj.shift_-2', 'vwap.ret_0.vol_adj.shift_-2_hat']\n",
      "  start_date: 2018-01-01\n",
      "  end_date: 2022-05-01\n",
      "column_names:\n",
      "  asset_id: asset_id\n",
      "  timestamp: end_ts\n",
      "  volume: volume\n",
      "  y: vwap.ret_0.vol_adj.shift_-2\n",
      "  y_hat: vwap.ret_0.vol_adj.shift_-2_hat\n",
      "  hit: hit\n",
      "  trade_pnl: trade_pnl\n",
      "stats_kwargs:\n",
      "  quantile_ranks: 10\n",
      "  time_scaling: 28500\n",
      "  n_resamples: 1000\n",
      "  alpha: 0.05\n",
      "plot_kwargs:\n",
      "  y_min_lim_hit_rate: 49\n",
      "  y_max_lim_hit_rate: 54\n",
      "  color: C0\n",
      "  capsize: 0.2\n",
      "  xticks_rotation: 70\n"
     ]
    }
   ],
   "source": [
    "config = get_notebook_config()\n",
    "print(config)"
   ]
  },
  {
   "cell_type": "markdown",
   "id": "0b3b5de5",
   "metadata": {},
   "source": [
    "# Functions"
   ]
  },
  {
   "cell_type": "code",
   "execution_count": 6,
   "id": "862ac8a8",
   "metadata": {
    "ExecuteTime": {
     "end_time": "2022-07-07T13:26:50.859336Z",
     "start_time": "2022-07-07T13:26:50.795489Z"
    }
   },
   "outputs": [],
   "source": [
    "def load_predictions_df(config: cconconf.Config) -> pd.DataFrame:\n",
    "    \"\"\"\n",
    "    Get data with ML predictions.\n",
    "    \"\"\"\n",
    "    backtest_df_iter = dtfmod.yield_processed_parquet_tiles_by_year(\n",
    "        config[\"data\"][\"dir_name\"],\n",
    "        config[\"data\"][\"start_date\"],\n",
    "        config[\"data\"][\"end_date\"],\n",
    "        config[\"column_names\"][\"asset_id\"],\n",
    "        data_cols=config[\"data\"][\"columns\"],\n",
    "        asset_ids=None,\n",
    "    )\n",
    "    #\n",
    "    #\n",
    "    predict_df = pd.concat(backtest_df_iter)\n",
    "    predict_df = predict_df.sort_index()\n",
    "    return predict_df\n",
    "\n",
    "\n",
    "# TODO(Max): Move the code out of the lib so we can unit test,\n",
    "# e.g., we want to add (small) specific unit tests for hit.\n",
    "# TODO(Max): Harmonize the code with calculate_hit_rate and other code there.\n",
    "# E.g., factor out the piece of calculate_hit_rate that computes hit, etc.\n",
    "def preprocess_predictions_df(\n",
    "    config: cconconf.Config, predict_df: pd.DataFrame\n",
    ") -> pd.DataFrame:\n",
    "    \"\"\"\n",
    "    Preprocess data with ML predictions for analysis.\n",
    "\n",
    "    Input:\n",
    "\n",
    "    ```\n",
    "                        volume                  vwap\n",
    "    asset_id            1464553467  1467591036  1464553467  1467591036\n",
    "    end_ts\n",
    "    2018-01-01 09:35:00   314.0657     47.3976    729.7789  12887.3945\n",
    "    2018-01-01 09:40:00   178.6543     35.1098    731.0134  12913.6854\n",
    "    ```\n",
    "\n",
    "    Output:\n",
    "\n",
    "    ```\n",
    "                                              volume        vwap\n",
    "    end_ts                        asset_id\n",
    "    2018-01-01 09:35:00  binance::ETH_USDT  314.0657    729.7789\n",
    "                         binance::BTC_USDT   47.3976  12887.3945\n",
    "    2018-01-01 09:40:00  binance::ETH_USDT  178.6543    731.0134\n",
    "                         binance::BTC_USDT   35.1098  12913.6854\n",
    "    ```\n",
    "    \"\"\"\n",
    "    # Convert the prediction stats data to Multiindex by time and asset id.\n",
    "    metrics_df = predict_df.stack()\n",
    "    # Drop NaNs to compute the performance statistics.\n",
    "    metrics_df = hpandas.dropna(metrics_df, report_stats=True)\n",
    "    # Compute hit.\n",
    "    metrics_df[\"hit\"] = (\n",
    "        metrics_df[config[\"column_names\"][\"y\"]]\n",
    "        * metrics_df[config[\"column_names\"][\"y_hat\"]]\n",
    "        >= 0\n",
    "    )\n",
    "    # Convert hit rates to desired format (`calculate_hit_rate` input).\n",
    "    metrics_df[\"hit\"] = metrics_df[\"hit\"].replace(True, 1)\n",
    "    metrics_df[\"hit\"] = metrics_df[\"hit\"].replace(False, -1)\n",
    "    # Compute trade PnL.\n",
    "    metrics_df[\"trade_pnl\"] = (\n",
    "        metrics_df[config[\"column_names\"][\"y\"]]\n",
    "        * metrics_df[config[\"column_names\"][\"y_hat\"]]\n",
    "    )\n",
    "    # TODO(*): Think about avoiding using `ImClient` for mapping.\n",
    "    # Convert asset ids to full symbols using `ImClient` mapping.\n",
    "    im_client = iccdc.get_CryptoChassisHistoricalPqByTileClient_example1(\n",
    "        **config[\"im_client_params\"]\n",
    "    )\n",
    "    metrics_df.index = metrics_df.index.set_levels(\n",
    "        metrics_df.index.levels[1].map(\n",
    "            im_client._asset_id_to_full_symbol_mapping\n",
    "        ),\n",
    "        level=1,\n",
    "    )\n",
    "    return metrics_df\n",
    "\n",
    "\n",
    "# TODO(*): Consider using bootstraping function from SciPy\n",
    "#  https://docs.scipy.org/doc/scipy/reference/generated/scipy.stats.bootstrap.html.\n",
    "# TODO(Dan): Consider to return CI values.\n",
    "def bootstrap(\n",
    "    data: pd.Series, func: Callable, n_resamples: int = 100\n",
    ") -> List[Any]:\n",
    "    \"\"\"\n",
    "    Bootstrap computations on specified number of data resamples.\n",
    "\n",
    "    :param data: input data to resample\n",
    "    :param func: function accepting a series and returning a single scalar value\n",
    "    :param n_resamples: number of resamples to create\n",
    "    :return: bootstrapped computations\n",
    "    \"\"\"\n",
    "    res_list = []\n",
    "    for i in range(n_resamples):\n",
    "        resampled_data = data.sample(frac=1, replace=True)\n",
    "        res = func(resampled_data)\n",
    "        res_list.append(res)\n",
    "    return res_list\n",
    "\n",
    "\n",
    "def compute_sharpe_ratio(\n",
    "    config: cconconf.Config, metrics_df: pd.DataFrame, by_col: str\n",
    ") -> None:\n",
    "    \"\"\"\n",
    "    Compute Sharpe Ratio by specified column.\n",
    "    \"\"\"\n",
    "    res_list = []\n",
    "    for by, data in metrics_df.groupby(by_col):\n",
    "        srs = data[config[\"column_names\"][\"trade_pnl\"]].dropna()\n",
    "        func = lambda pnl: cstshrat.compute_sharpe_ratio(\n",
    "            pnl, time_scaling=config[\"stats_kwargs\"][\"time_scaling\"]\n",
    "        )\n",
    "        # Multiple Sharpe Ratios are being computed on many resamples\n",
    "        # in order to find and plot confidence intervals.\n",
    "        sharpe_ratio_srs = pd.Series(\n",
    "            bootstrap(srs, func, config[\"stats_kwargs\"][\"n_resamples\"]),\n",
    "            name=\"sharpe_ratio\",\n",
    "        )\n",
    "        # Transform and combine data for plotting.\n",
    "        sharpe_ratio_df = sharpe_ratio_srs.to_frame()\n",
    "        sharpe_ratio_df[by_col] = by\n",
    "        res_list.append(sharpe_ratio_df)\n",
    "    res_df = pd.concat(res_list)\n",
    "    #\n",
    "    return res_df\n",
    "\n",
    "\n",
    "def calculate_hit_rate_with_CI(\n",
    "    df: pd.DataFrame, group_by: str, value_col: str\n",
    ") -> pd.DataFrame:\n",
    "    \"\"\"\n",
    "    Compute hit rates, confidence intervals and errors relative to the specific\n",
    "    entity.\n",
    "\n",
    "    :param df: data with hit rates values\n",
    "    :param group_by: column name for grouping entity\n",
    "    :param value_col: column name for PnL data\n",
    "    :return: data with CIs and errors\n",
    "    \"\"\"\n",
    "    # Calculate mean value of statistics as well as CIs for each entity.\n",
    "    hit_df_stacked = df.groupby([group_by])[value_col].apply(\n",
    "        lambda data: cstresta.calculate_hit_rate(\n",
    "            data, alpha=config[\"stats_kwargs\"][\"alpha\"]\n",
    "        )\n",
    "    )\n",
    "    # Process the output and add errors.\n",
    "    hit_df = hit_df_stacked.unstack()\n",
    "    hit_errors_df = add_errors_to_ci_data(hit_df)\n",
    "    return hit_errors_df\n",
    "\n",
    "\n",
    "def calculate_CI_for_PnLs_or_SR(\n",
    "    df: pd.DataFrame, group_by: str, value_col: str\n",
    ") -> pd.DataFrame:\n",
    "    \"\"\"\n",
    "    Compute mean PnL or Sharpe Ratio, confidence intervals and errors relative\n",
    "    to the specific entity.\n",
    "\n",
    "    :param df: data with PnL or Sharpe Ratio values\n",
    "    :param group_by: column name for grouping entity\n",
    "    :param value_col: column name for PnL or Sharpe Ratio data\n",
    "    :return: data with CIs and errors\n",
    "    \"\"\"\n",
    "    grouper = df.groupby([group_by])[value_col]\n",
    "    # Calculate mean value of statistics for each entity.\n",
    "    pnl_df = grouper.mean().to_frame()\n",
    "    # Compute confidence intervals.\n",
    "    conf_ints = grouper.apply(\n",
    "        lambda data: st.t.interval(\n",
    "            1 - config[\"stats_kwargs\"][\"alpha\"],\n",
    "            data.size - 1,\n",
    "            np.mean(data),\n",
    "            st.sem(data),\n",
    "        )\n",
    "    )\n",
    "    # Attach confidence intervals to the mean value data.\n",
    "    pnl_df[[\"low\", \"high\"]] = pd.DataFrame(conf_ints.tolist(), index=pnl_df.index)\n",
    "    # Unify columns and calculate errors (required values for plotting).\n",
    "    pnl_errors_df = add_errors_to_ci_data(pnl_df)\n",
    "    return pnl_errors_df\n",
    "\n",
    "\n",
    "def add_errors_to_ci_data(df: pd.DataFrame) -> pd.DataFrame:\n",
    "    \"\"\"\n",
    "    Process CI data and add errors.\n",
    "    \"\"\"\n",
    "    # Unify columns for all plotting data.\n",
    "    df.columns = [\"y\", \"ci_low\", \"ci_high\"]\n",
    "    # Required values for plotting (`yerr` input).\n",
    "    df[\"errors\"] = (df[\"ci_high\"] - df[\"ci_low\"]) / 2\n",
    "    return df\n",
    "\n",
    "\n",
    "def plot_stats_barplot(\n",
    "    df: pd.DataFrame,\n",
    "    sort_by: str,\n",
    "    ascending: bool,\n",
    "    ylabel: str,\n",
    "    ylim_min: str,\n",
    "    ylim_max: str,\n",
    ") -> None:\n",
    "    \"\"\"\n",
    "    :param df: data with prediction statistics\n",
    "    :param sort_by: sorting parameter (e.g., by value, by asset, or None)\n",
    "    :param ylabel: name of the Y-axis graph\n",
    "    :param ylim_min: lower value on Y-axis graph scale\n",
    "    :param ylim_max: upper value on Y-axis graph scale\n",
    "    :return: barplot with model performance statistics\n",
    "    \"\"\"\n",
    "    # Sort data according to the input params.\n",
    "    if sort_by == \"x\":\n",
    "        df_sorted = df.sort_index(ascending=ascending)\n",
    "    elif not sort_by:\n",
    "        df_sorted = df.copy()\n",
    "    else:\n",
    "        df_sorted = df.sort_values(by=sort_by, ascending=ascending)\n",
    "    # Specify errors for plotting.\n",
    "    errors = df_sorted[\"errors\"]\n",
    "    # Plotting params.\n",
    "    df_sorted[\"y\"].plot.bar(\n",
    "        yerr=errors,\n",
    "        capsize=4,\n",
    "        width=0.8,\n",
    "    )\n",
    "    plt.xticks(rotation=xticks_rotation)\n",
    "    plt.ylabel(ylabel)\n",
    "    plt.ylim(ylim_min, ylim_max)\n",
    "    plt.show()\n",
    "\n",
    "\n",
    "def plot_bars_with_widget(\n",
    "    df: pd.DataFrame,\n",
    "    ylabel: str,\n",
    "    ylim_min: float,\n",
    "    ylim_max: float,\n",
    ") -> None:\n",
    "    \"\"\"\n",
    "    Add widgets to expand the sorting parameters for barplots.\n",
    "\n",
    "    :param df: data with prediction statistics\n",
    "    :param ylabel: name of the Y-axis graph\n",
    "    :param ylim_min: lower value on Y-axis graph scale\n",
    "    :param ylim_max: upper value on Y-axis graph scale\n",
    "    :return: barplot with edible model performance statistics\n",
    "    \"\"\"\n",
    "    _ = widgets.interact(\n",
    "        plot_stats_barplot,\n",
    "        df=widgets.fixed(df),\n",
    "        sort_by=widgets.ToggleButtons(\n",
    "            options=[\"x\", \"y\", \"ci_low\", \"ci_high\", False], description=\"Sort by:\"\n",
    "        ),\n",
    "        ascending=widgets.ToggleButtons(\n",
    "            options=[True, False], description=\"Ascending:\"\n",
    "        ),\n",
    "        ylabel=widgets.fixed(ylabel),\n",
    "        ylim_min=widgets.FloatText(\n",
    "            value=ylim_min,\n",
    "            description=\"Min y-value:\",\n",
    "        ),\n",
    "        ylim_max=widgets.FloatText(\n",
    "            value=ylim_max,\n",
    "            description=\"Max y-value:\",\n",
    "        ),\n",
    "    )"
   ]
  },
  {
   "cell_type": "markdown",
   "id": "cd96a4ed",
   "metadata": {},
   "source": [
    "# Load data with predictions"
   ]
  },
  {
   "cell_type": "code",
   "execution_count": 7,
   "id": "a776540a",
   "metadata": {
    "ExecuteTime": {
     "end_time": "2022-07-07T13:26:54.809174Z",
     "start_time": "2022-07-07T13:26:50.862022Z"
    }
   },
   "outputs": [
    {
     "data": {
      "application/vnd.jupyter.widget-view+json": {
       "model_id": "be3feb5754204930b4ace834693fe132",
       "version_major": 2,
       "version_minor": 0
      },
      "text/plain": [
       "  0%|          | 0/5 [00:00<?, ?it/s]"
      ]
     },
     "metadata": {},
     "output_type": "display_data"
    },
    {
     "name": "stdout",
     "output_type": "stream",
     "text": [
      "(123119, 224)\n"
     ]
    },
    {
     "data": {
      "text/html": [
       "<div>\n",
       "<style scoped>\n",
       "    .dataframe tbody tr th:only-of-type {\n",
       "        vertical-align: middle;\n",
       "    }\n",
       "\n",
       "    .dataframe tbody tr th {\n",
       "        vertical-align: top;\n",
       "    }\n",
       "\n",
       "    .dataframe thead tr th {\n",
       "        text-align: left;\n",
       "    }\n",
       "\n",
       "    .dataframe thead tr:last-of-type th {\n",
       "        text-align: right;\n",
       "    }\n",
       "</style>\n",
       "<table border=\"1\" class=\"dataframe\">\n",
       "  <thead>\n",
       "    <tr>\n",
       "      <th></th>\n",
       "      <th colspan=\"3\" halign=\"left\">volume</th>\n",
       "      <th colspan=\"3\" halign=\"left\">vwap</th>\n",
       "      <th colspan=\"3\" halign=\"left\">vwap.ret_0</th>\n",
       "      <th colspan=\"3\" halign=\"left\">vwap.ret_0.vol_adj</th>\n",
       "      <th colspan=\"3\" halign=\"left\">vwap.ret_0.vol_adj.c</th>\n",
       "      <th colspan=\"3\" halign=\"left\">vwap.ret_0.vol_adj.shift_-2</th>\n",
       "      <th colspan=\"3\" halign=\"left\">vwap.ret_0.vol_adj.shift_-2_hat</th>\n",
       "      <th colspan=\"29\" halign=\"left\">volume</th>\n",
       "      <th colspan=\"29\" halign=\"left\">vwap</th>\n",
       "      <th colspan=\"29\" halign=\"left\">vwap.ret_0</th>\n",
       "      <th colspan=\"29\" halign=\"left\">vwap.ret_0.vol_adj</th>\n",
       "      <th colspan=\"29\" halign=\"left\">vwap.ret_0.vol_adj.c</th>\n",
       "      <th colspan=\"29\" halign=\"left\">vwap.ret_0.vol_adj.shift_-2</th>\n",
       "      <th colspan=\"29\" halign=\"left\">vwap.ret_0.vol_adj.shift_-2_hat</th>\n",
       "    </tr>\n",
       "    <tr>\n",
       "      <th>asset_id</th>\n",
       "      <th>1464553467</th>\n",
       "      <th>1467591036</th>\n",
       "      <th>2061507978</th>\n",
       "      <th>1464553467</th>\n",
       "      <th>1467591036</th>\n",
       "      <th>2061507978</th>\n",
       "      <th>1464553467</th>\n",
       "      <th>1467591036</th>\n",
       "      <th>2061507978</th>\n",
       "      <th>1464553467</th>\n",
       "      <th>1467591036</th>\n",
       "      <th>2061507978</th>\n",
       "      <th>1464553467</th>\n",
       "      <th>1467591036</th>\n",
       "      <th>2061507978</th>\n",
       "      <th>1464553467</th>\n",
       "      <th>1467591036</th>\n",
       "      <th>2061507978</th>\n",
       "      <th>1464553467</th>\n",
       "      <th>1467591036</th>\n",
       "      <th>2061507978</th>\n",
       "      <th>1032127330</th>\n",
       "      <th>1269521755</th>\n",
       "      <th>1345967712</th>\n",
       "      <th>1480530030</th>\n",
       "      <th>1579162287</th>\n",
       "      <th>1606590437</th>\n",
       "      <th>2002879833</th>\n",
       "      <th>2050321118</th>\n",
       "      <th>2061357471</th>\n",
       "      <th>2063960810</th>\n",
       "      <th>2152163375</th>\n",
       "      <th>2237530510</th>\n",
       "      <th>2425180446</th>\n",
       "      <th>2502756391</th>\n",
       "      <th>2568064341</th>\n",
       "      <th>2743007870</th>\n",
       "      <th>2870803583</th>\n",
       "      <th>2871263732</th>\n",
       "      <th>3065029174</th>\n",
       "      <th>3145747555</th>\n",
       "      <th>3187272957</th>\n",
       "      <th>3254199816</th>\n",
       "      <th>3303714233</th>\n",
       "      <th>3554906657</th>\n",
       "      <th>6132418113</th>\n",
       "      <th>6352701412</th>\n",
       "      <th>6514937930</th>\n",
       "      <th>7348328528</th>\n",
       "      <th>8968126878</th>\n",
       "      <th>1032127330</th>\n",
       "      <th>1269521755</th>\n",
       "      <th>1345967712</th>\n",
       "      <th>1480530030</th>\n",
       "      <th>1579162287</th>\n",
       "      <th>1606590437</th>\n",
       "      <th>2002879833</th>\n",
       "      <th>2050321118</th>\n",
       "      <th>2061357471</th>\n",
       "      <th>2063960810</th>\n",
       "      <th>2152163375</th>\n",
       "      <th>2237530510</th>\n",
       "      <th>2425180446</th>\n",
       "      <th>2502756391</th>\n",
       "      <th>2568064341</th>\n",
       "      <th>2743007870</th>\n",
       "      <th>2870803583</th>\n",
       "      <th>2871263732</th>\n",
       "      <th>3065029174</th>\n",
       "      <th>3145747555</th>\n",
       "      <th>3187272957</th>\n",
       "      <th>3254199816</th>\n",
       "      <th>3303714233</th>\n",
       "      <th>3554906657</th>\n",
       "      <th>6132418113</th>\n",
       "      <th>6352701412</th>\n",
       "      <th>6514937930</th>\n",
       "      <th>7348328528</th>\n",
       "      <th>8968126878</th>\n",
       "      <th>1032127330</th>\n",
       "      <th>1269521755</th>\n",
       "      <th>1345967712</th>\n",
       "      <th>1480530030</th>\n",
       "      <th>1579162287</th>\n",
       "      <th>1606590437</th>\n",
       "      <th>2002879833</th>\n",
       "      <th>2050321118</th>\n",
       "      <th>2061357471</th>\n",
       "      <th>2063960810</th>\n",
       "      <th>2152163375</th>\n",
       "      <th>2237530510</th>\n",
       "      <th>2425180446</th>\n",
       "      <th>2502756391</th>\n",
       "      <th>2568064341</th>\n",
       "      <th>2743007870</th>\n",
       "      <th>2870803583</th>\n",
       "      <th>2871263732</th>\n",
       "      <th>3065029174</th>\n",
       "      <th>3145747555</th>\n",
       "      <th>3187272957</th>\n",
       "      <th>3254199816</th>\n",
       "      <th>3303714233</th>\n",
       "      <th>3554906657</th>\n",
       "      <th>6132418113</th>\n",
       "      <th>6352701412</th>\n",
       "      <th>6514937930</th>\n",
       "      <th>7348328528</th>\n",
       "      <th>8968126878</th>\n",
       "      <th>1032127330</th>\n",
       "      <th>1269521755</th>\n",
       "      <th>1345967712</th>\n",
       "      <th>1480530030</th>\n",
       "      <th>1579162287</th>\n",
       "      <th>1606590437</th>\n",
       "      <th>2002879833</th>\n",
       "      <th>2050321118</th>\n",
       "      <th>2061357471</th>\n",
       "      <th>2063960810</th>\n",
       "      <th>2152163375</th>\n",
       "      <th>2237530510</th>\n",
       "      <th>2425180446</th>\n",
       "      <th>2502756391</th>\n",
       "      <th>2568064341</th>\n",
       "      <th>2743007870</th>\n",
       "      <th>2870803583</th>\n",
       "      <th>2871263732</th>\n",
       "      <th>3065029174</th>\n",
       "      <th>3145747555</th>\n",
       "      <th>3187272957</th>\n",
       "      <th>3254199816</th>\n",
       "      <th>3303714233</th>\n",
       "      <th>3554906657</th>\n",
       "      <th>6132418113</th>\n",
       "      <th>6352701412</th>\n",
       "      <th>6514937930</th>\n",
       "      <th>7348328528</th>\n",
       "      <th>8968126878</th>\n",
       "      <th>1032127330</th>\n",
       "      <th>1269521755</th>\n",
       "      <th>1345967712</th>\n",
       "      <th>1480530030</th>\n",
       "      <th>1579162287</th>\n",
       "      <th>1606590437</th>\n",
       "      <th>2002879833</th>\n",
       "      <th>2050321118</th>\n",
       "      <th>2061357471</th>\n",
       "      <th>2063960810</th>\n",
       "      <th>2152163375</th>\n",
       "      <th>2237530510</th>\n",
       "      <th>2425180446</th>\n",
       "      <th>2502756391</th>\n",
       "      <th>2568064341</th>\n",
       "      <th>2743007870</th>\n",
       "      <th>2870803583</th>\n",
       "      <th>2871263732</th>\n",
       "      <th>3065029174</th>\n",
       "      <th>3145747555</th>\n",
       "      <th>3187272957</th>\n",
       "      <th>3254199816</th>\n",
       "      <th>3303714233</th>\n",
       "      <th>3554906657</th>\n",
       "      <th>6132418113</th>\n",
       "      <th>6352701412</th>\n",
       "      <th>6514937930</th>\n",
       "      <th>7348328528</th>\n",
       "      <th>8968126878</th>\n",
       "      <th>1032127330</th>\n",
       "      <th>1269521755</th>\n",
       "      <th>1345967712</th>\n",
       "      <th>1480530030</th>\n",
       "      <th>1579162287</th>\n",
       "      <th>1606590437</th>\n",
       "      <th>2002879833</th>\n",
       "      <th>2050321118</th>\n",
       "      <th>2061357471</th>\n",
       "      <th>2063960810</th>\n",
       "      <th>2152163375</th>\n",
       "      <th>2237530510</th>\n",
       "      <th>2425180446</th>\n",
       "      <th>2502756391</th>\n",
       "      <th>2568064341</th>\n",
       "      <th>2743007870</th>\n",
       "      <th>2870803583</th>\n",
       "      <th>2871263732</th>\n",
       "      <th>3065029174</th>\n",
       "      <th>3145747555</th>\n",
       "      <th>3187272957</th>\n",
       "      <th>3254199816</th>\n",
       "      <th>3303714233</th>\n",
       "      <th>3554906657</th>\n",
       "      <th>6132418113</th>\n",
       "      <th>6352701412</th>\n",
       "      <th>6514937930</th>\n",
       "      <th>7348328528</th>\n",
       "      <th>8968126878</th>\n",
       "      <th>1032127330</th>\n",
       "      <th>1269521755</th>\n",
       "      <th>1345967712</th>\n",
       "      <th>1480530030</th>\n",
       "      <th>1579162287</th>\n",
       "      <th>1606590437</th>\n",
       "      <th>2002879833</th>\n",
       "      <th>2050321118</th>\n",
       "      <th>2061357471</th>\n",
       "      <th>2063960810</th>\n",
       "      <th>2152163375</th>\n",
       "      <th>2237530510</th>\n",
       "      <th>2425180446</th>\n",
       "      <th>2502756391</th>\n",
       "      <th>2568064341</th>\n",
       "      <th>2743007870</th>\n",
       "      <th>2870803583</th>\n",
       "      <th>2871263732</th>\n",
       "      <th>3065029174</th>\n",
       "      <th>3145747555</th>\n",
       "      <th>3187272957</th>\n",
       "      <th>3254199816</th>\n",
       "      <th>3303714233</th>\n",
       "      <th>3554906657</th>\n",
       "      <th>6132418113</th>\n",
       "      <th>6352701412</th>\n",
       "      <th>6514937930</th>\n",
       "      <th>7348328528</th>\n",
       "      <th>8968126878</th>\n",
       "    </tr>\n",
       "    <tr>\n",
       "      <th>end_ts</th>\n",
       "      <th></th>\n",
       "      <th></th>\n",
       "      <th></th>\n",
       "      <th></th>\n",
       "      <th></th>\n",
       "      <th></th>\n",
       "      <th></th>\n",
       "      <th></th>\n",
       "      <th></th>\n",
       "      <th></th>\n",
       "      <th></th>\n",
       "      <th></th>\n",
       "      <th></th>\n",
       "      <th></th>\n",
       "      <th></th>\n",
       "      <th></th>\n",
       "      <th></th>\n",
       "      <th></th>\n",
       "      <th></th>\n",
       "      <th></th>\n",
       "      <th></th>\n",
       "      <th></th>\n",
       "      <th></th>\n",
       "      <th></th>\n",
       "      <th></th>\n",
       "      <th></th>\n",
       "      <th></th>\n",
       "      <th></th>\n",
       "      <th></th>\n",
       "      <th></th>\n",
       "      <th></th>\n",
       "      <th></th>\n",
       "      <th></th>\n",
       "      <th></th>\n",
       "      <th></th>\n",
       "      <th></th>\n",
       "      <th></th>\n",
       "      <th></th>\n",
       "      <th></th>\n",
       "      <th></th>\n",
       "      <th></th>\n",
       "      <th></th>\n",
       "      <th></th>\n",
       "      <th></th>\n",
       "      <th></th>\n",
       "      <th></th>\n",
       "      <th></th>\n",
       "      <th></th>\n",
       "      <th></th>\n",
       "      <th></th>\n",
       "      <th></th>\n",
       "      <th></th>\n",
       "      <th></th>\n",
       "      <th></th>\n",
       "      <th></th>\n",
       "      <th></th>\n",
       "      <th></th>\n",
       "      <th></th>\n",
       "      <th></th>\n",
       "      <th></th>\n",
       "      <th></th>\n",
       "      <th></th>\n",
       "      <th></th>\n",
       "      <th></th>\n",
       "      <th></th>\n",
       "      <th></th>\n",
       "      <th></th>\n",
       "      <th></th>\n",
       "      <th></th>\n",
       "      <th></th>\n",
       "      <th></th>\n",
       "      <th></th>\n",
       "      <th></th>\n",
       "      <th></th>\n",
       "      <th></th>\n",
       "      <th></th>\n",
       "      <th></th>\n",
       "      <th></th>\n",
       "      <th></th>\n",
       "      <th></th>\n",
       "      <th></th>\n",
       "      <th></th>\n",
       "      <th></th>\n",
       "      <th></th>\n",
       "      <th></th>\n",
       "      <th></th>\n",
       "      <th></th>\n",
       "      <th></th>\n",
       "      <th></th>\n",
       "      <th></th>\n",
       "      <th></th>\n",
       "      <th></th>\n",
       "      <th></th>\n",
       "      <th></th>\n",
       "      <th></th>\n",
       "      <th></th>\n",
       "      <th></th>\n",
       "      <th></th>\n",
       "      <th></th>\n",
       "      <th></th>\n",
       "      <th></th>\n",
       "      <th></th>\n",
       "      <th></th>\n",
       "      <th></th>\n",
       "      <th></th>\n",
       "      <th></th>\n",
       "      <th></th>\n",
       "      <th></th>\n",
       "      <th></th>\n",
       "      <th></th>\n",
       "      <th></th>\n",
       "      <th></th>\n",
       "      <th></th>\n",
       "      <th></th>\n",
       "      <th></th>\n",
       "      <th></th>\n",
       "      <th></th>\n",
       "      <th></th>\n",
       "      <th></th>\n",
       "      <th></th>\n",
       "      <th></th>\n",
       "      <th></th>\n",
       "      <th></th>\n",
       "      <th></th>\n",
       "      <th></th>\n",
       "      <th></th>\n",
       "      <th></th>\n",
       "      <th></th>\n",
       "      <th></th>\n",
       "      <th></th>\n",
       "      <th></th>\n",
       "      <th></th>\n",
       "      <th></th>\n",
       "      <th></th>\n",
       "      <th></th>\n",
       "      <th></th>\n",
       "      <th></th>\n",
       "      <th></th>\n",
       "      <th></th>\n",
       "      <th></th>\n",
       "      <th></th>\n",
       "      <th></th>\n",
       "      <th></th>\n",
       "      <th></th>\n",
       "      <th></th>\n",
       "      <th></th>\n",
       "      <th></th>\n",
       "      <th></th>\n",
       "      <th></th>\n",
       "      <th></th>\n",
       "      <th></th>\n",
       "      <th></th>\n",
       "      <th></th>\n",
       "      <th></th>\n",
       "      <th></th>\n",
       "      <th></th>\n",
       "      <th></th>\n",
       "      <th></th>\n",
       "      <th></th>\n",
       "      <th></th>\n",
       "      <th></th>\n",
       "      <th></th>\n",
       "      <th></th>\n",
       "      <th></th>\n",
       "      <th></th>\n",
       "      <th></th>\n",
       "      <th></th>\n",
       "      <th></th>\n",
       "      <th></th>\n",
       "      <th></th>\n",
       "      <th></th>\n",
       "      <th></th>\n",
       "      <th></th>\n",
       "      <th></th>\n",
       "      <th></th>\n",
       "      <th></th>\n",
       "      <th></th>\n",
       "      <th></th>\n",
       "      <th></th>\n",
       "      <th></th>\n",
       "      <th></th>\n",
       "      <th></th>\n",
       "      <th></th>\n",
       "      <th></th>\n",
       "      <th></th>\n",
       "      <th></th>\n",
       "      <th></th>\n",
       "      <th></th>\n",
       "      <th></th>\n",
       "      <th></th>\n",
       "      <th></th>\n",
       "      <th></th>\n",
       "      <th></th>\n",
       "      <th></th>\n",
       "      <th></th>\n",
       "      <th></th>\n",
       "      <th></th>\n",
       "      <th></th>\n",
       "      <th></th>\n",
       "      <th></th>\n",
       "      <th></th>\n",
       "      <th></th>\n",
       "      <th></th>\n",
       "      <th></th>\n",
       "      <th></th>\n",
       "      <th></th>\n",
       "      <th></th>\n",
       "      <th></th>\n",
       "      <th></th>\n",
       "      <th></th>\n",
       "      <th></th>\n",
       "      <th></th>\n",
       "      <th></th>\n",
       "      <th></th>\n",
       "      <th></th>\n",
       "      <th></th>\n",
       "      <th></th>\n",
       "      <th></th>\n",
       "      <th></th>\n",
       "      <th></th>\n",
       "      <th></th>\n",
       "      <th></th>\n",
       "      <th></th>\n",
       "      <th></th>\n",
       "    </tr>\n",
       "  </thead>\n",
       "  <tbody>\n",
       "    <tr>\n",
       "      <th>2018-01-01 09:35:00-05:00</th>\n",
       "      <td>314.06346</td>\n",
       "      <td>47.446994</td>\n",
       "      <td>NaN</td>\n",
       "      <td>729.777396</td>\n",
       "      <td>12887.299954</td>\n",
       "      <td>NaN</td>\n",
       "      <td>NaN</td>\n",
       "      <td>NaN</td>\n",
       "      <td>NaN</td>\n",
       "      <td>NaN</td>\n",
       "      <td>NaN</td>\n",
       "      <td>NaN</td>\n",
       "      <td>NaN</td>\n",
       "      <td>NaN</td>\n",
       "      <td>NaN</td>\n",
       "      <td>NaN</td>\n",
       "      <td>NaN</td>\n",
       "      <td>NaN</td>\n",
       "      <td>NaN</td>\n",
       "      <td>NaN</td>\n",
       "      <td>NaN</td>\n",
       "      <td>NaN</td>\n",
       "      <td>NaN</td>\n",
       "      <td>NaN</td>\n",
       "      <td>NaN</td>\n",
       "      <td>NaN</td>\n",
       "      <td>NaN</td>\n",
       "      <td>NaN</td>\n",
       "      <td>NaN</td>\n",
       "      <td>NaN</td>\n",
       "      <td>NaN</td>\n",
       "      <td>NaN</td>\n",
       "      <td>NaN</td>\n",
       "      <td>NaN</td>\n",
       "      <td>NaN</td>\n",
       "      <td>NaN</td>\n",
       "      <td>NaN</td>\n",
       "      <td>NaN</td>\n",
       "      <td>NaN</td>\n",
       "      <td>NaN</td>\n",
       "      <td>NaN</td>\n",
       "      <td>NaN</td>\n",
       "      <td>NaN</td>\n",
       "      <td>NaN</td>\n",
       "      <td>NaN</td>\n",
       "      <td>NaN</td>\n",
       "      <td>NaN</td>\n",
       "      <td>NaN</td>\n",
       "      <td>NaN</td>\n",
       "      <td>NaN</td>\n",
       "      <td>NaN</td>\n",
       "      <td>NaN</td>\n",
       "      <td>NaN</td>\n",
       "      <td>NaN</td>\n",
       "      <td>NaN</td>\n",
       "      <td>NaN</td>\n",
       "      <td>NaN</td>\n",
       "      <td>NaN</td>\n",
       "      <td>NaN</td>\n",
       "      <td>NaN</td>\n",
       "      <td>NaN</td>\n",
       "      <td>NaN</td>\n",
       "      <td>NaN</td>\n",
       "      <td>NaN</td>\n",
       "      <td>NaN</td>\n",
       "      <td>NaN</td>\n",
       "      <td>NaN</td>\n",
       "      <td>NaN</td>\n",
       "      <td>NaN</td>\n",
       "      <td>NaN</td>\n",
       "      <td>NaN</td>\n",
       "      <td>NaN</td>\n",
       "      <td>NaN</td>\n",
       "      <td>NaN</td>\n",
       "      <td>NaN</td>\n",
       "      <td>NaN</td>\n",
       "      <td>NaN</td>\n",
       "      <td>NaN</td>\n",
       "      <td>NaN</td>\n",
       "      <td>NaN</td>\n",
       "      <td>NaN</td>\n",
       "      <td>NaN</td>\n",
       "      <td>NaN</td>\n",
       "      <td>NaN</td>\n",
       "      <td>NaN</td>\n",
       "      <td>NaN</td>\n",
       "      <td>NaN</td>\n",
       "      <td>NaN</td>\n",
       "      <td>NaN</td>\n",
       "      <td>NaN</td>\n",
       "      <td>NaN</td>\n",
       "      <td>NaN</td>\n",
       "      <td>NaN</td>\n",
       "      <td>NaN</td>\n",
       "      <td>NaN</td>\n",
       "      <td>NaN</td>\n",
       "      <td>NaN</td>\n",
       "      <td>NaN</td>\n",
       "      <td>NaN</td>\n",
       "      <td>NaN</td>\n",
       "      <td>NaN</td>\n",
       "      <td>NaN</td>\n",
       "      <td>NaN</td>\n",
       "      <td>NaN</td>\n",
       "      <td>NaN</td>\n",
       "      <td>NaN</td>\n",
       "      <td>NaN</td>\n",
       "      <td>NaN</td>\n",
       "      <td>NaN</td>\n",
       "      <td>NaN</td>\n",
       "      <td>NaN</td>\n",
       "      <td>NaN</td>\n",
       "      <td>NaN</td>\n",
       "      <td>NaN</td>\n",
       "      <td>NaN</td>\n",
       "      <td>NaN</td>\n",
       "      <td>NaN</td>\n",
       "      <td>NaN</td>\n",
       "      <td>NaN</td>\n",
       "      <td>NaN</td>\n",
       "      <td>NaN</td>\n",
       "      <td>NaN</td>\n",
       "      <td>NaN</td>\n",
       "      <td>NaN</td>\n",
       "      <td>NaN</td>\n",
       "      <td>NaN</td>\n",
       "      <td>NaN</td>\n",
       "      <td>NaN</td>\n",
       "      <td>NaN</td>\n",
       "      <td>NaN</td>\n",
       "      <td>NaN</td>\n",
       "      <td>NaN</td>\n",
       "      <td>NaN</td>\n",
       "      <td>NaN</td>\n",
       "      <td>NaN</td>\n",
       "      <td>NaN</td>\n",
       "      <td>NaN</td>\n",
       "      <td>NaN</td>\n",
       "      <td>NaN</td>\n",
       "      <td>NaN</td>\n",
       "      <td>NaN</td>\n",
       "      <td>NaN</td>\n",
       "      <td>NaN</td>\n",
       "      <td>NaN</td>\n",
       "      <td>NaN</td>\n",
       "      <td>NaN</td>\n",
       "      <td>NaN</td>\n",
       "      <td>NaN</td>\n",
       "      <td>NaN</td>\n",
       "      <td>NaN</td>\n",
       "      <td>NaN</td>\n",
       "      <td>NaN</td>\n",
       "      <td>NaN</td>\n",
       "      <td>NaN</td>\n",
       "      <td>NaN</td>\n",
       "      <td>NaN</td>\n",
       "      <td>NaN</td>\n",
       "      <td>NaN</td>\n",
       "      <td>NaN</td>\n",
       "      <td>NaN</td>\n",
       "      <td>NaN</td>\n",
       "      <td>NaN</td>\n",
       "      <td>NaN</td>\n",
       "      <td>NaN</td>\n",
       "      <td>NaN</td>\n",
       "      <td>NaN</td>\n",
       "      <td>NaN</td>\n",
       "      <td>NaN</td>\n",
       "      <td>NaN</td>\n",
       "      <td>NaN</td>\n",
       "      <td>NaN</td>\n",
       "      <td>NaN</td>\n",
       "      <td>NaN</td>\n",
       "      <td>NaN</td>\n",
       "      <td>NaN</td>\n",
       "      <td>NaN</td>\n",
       "      <td>NaN</td>\n",
       "      <td>NaN</td>\n",
       "      <td>NaN</td>\n",
       "      <td>NaN</td>\n",
       "      <td>NaN</td>\n",
       "      <td>NaN</td>\n",
       "      <td>NaN</td>\n",
       "      <td>NaN</td>\n",
       "      <td>NaN</td>\n",
       "      <td>NaN</td>\n",
       "      <td>NaN</td>\n",
       "      <td>NaN</td>\n",
       "      <td>NaN</td>\n",
       "      <td>NaN</td>\n",
       "      <td>NaN</td>\n",
       "      <td>NaN</td>\n",
       "      <td>NaN</td>\n",
       "      <td>NaN</td>\n",
       "      <td>NaN</td>\n",
       "      <td>NaN</td>\n",
       "      <td>NaN</td>\n",
       "      <td>NaN</td>\n",
       "      <td>NaN</td>\n",
       "      <td>NaN</td>\n",
       "      <td>NaN</td>\n",
       "      <td>NaN</td>\n",
       "      <td>NaN</td>\n",
       "      <td>NaN</td>\n",
       "      <td>NaN</td>\n",
       "      <td>NaN</td>\n",
       "      <td>NaN</td>\n",
       "      <td>NaN</td>\n",
       "      <td>NaN</td>\n",
       "      <td>NaN</td>\n",
       "      <td>NaN</td>\n",
       "      <td>NaN</td>\n",
       "      <td>NaN</td>\n",
       "      <td>NaN</td>\n",
       "      <td>NaN</td>\n",
       "      <td>NaN</td>\n",
       "      <td>NaN</td>\n",
       "      <td>NaN</td>\n",
       "      <td>NaN</td>\n",
       "      <td>NaN</td>\n",
       "      <td>NaN</td>\n",
       "      <td>NaN</td>\n",
       "      <td>NaN</td>\n",
       "      <td>NaN</td>\n",
       "    </tr>\n",
       "    <tr>\n",
       "      <th>2018-01-01 09:40:00-05:00</th>\n",
       "      <td>178.63246</td>\n",
       "      <td>35.739673</td>\n",
       "      <td>NaN</td>\n",
       "      <td>731.019329</td>\n",
       "      <td>12913.685019</td>\n",
       "      <td>NaN</td>\n",
       "      <td>0.001700</td>\n",
       "      <td>0.002045</td>\n",
       "      <td>NaN</td>\n",
       "      <td>NaN</td>\n",
       "      <td>NaN</td>\n",
       "      <td>NaN</td>\n",
       "      <td>NaN</td>\n",
       "      <td>NaN</td>\n",
       "      <td>NaN</td>\n",
       "      <td>NaN</td>\n",
       "      <td>NaN</td>\n",
       "      <td>NaN</td>\n",
       "      <td>NaN</td>\n",
       "      <td>NaN</td>\n",
       "      <td>NaN</td>\n",
       "      <td>NaN</td>\n",
       "      <td>NaN</td>\n",
       "      <td>NaN</td>\n",
       "      <td>NaN</td>\n",
       "      <td>NaN</td>\n",
       "      <td>NaN</td>\n",
       "      <td>NaN</td>\n",
       "      <td>NaN</td>\n",
       "      <td>NaN</td>\n",
       "      <td>NaN</td>\n",
       "      <td>NaN</td>\n",
       "      <td>NaN</td>\n",
       "      <td>NaN</td>\n",
       "      <td>NaN</td>\n",
       "      <td>NaN</td>\n",
       "      <td>NaN</td>\n",
       "      <td>NaN</td>\n",
       "      <td>NaN</td>\n",
       "      <td>NaN</td>\n",
       "      <td>NaN</td>\n",
       "      <td>NaN</td>\n",
       "      <td>NaN</td>\n",
       "      <td>NaN</td>\n",
       "      <td>NaN</td>\n",
       "      <td>NaN</td>\n",
       "      <td>NaN</td>\n",
       "      <td>NaN</td>\n",
       "      <td>NaN</td>\n",
       "      <td>NaN</td>\n",
       "      <td>NaN</td>\n",
       "      <td>NaN</td>\n",
       "      <td>NaN</td>\n",
       "      <td>NaN</td>\n",
       "      <td>NaN</td>\n",
       "      <td>NaN</td>\n",
       "      <td>NaN</td>\n",
       "      <td>NaN</td>\n",
       "      <td>NaN</td>\n",
       "      <td>NaN</td>\n",
       "      <td>NaN</td>\n",
       "      <td>NaN</td>\n",
       "      <td>NaN</td>\n",
       "      <td>NaN</td>\n",
       "      <td>NaN</td>\n",
       "      <td>NaN</td>\n",
       "      <td>NaN</td>\n",
       "      <td>NaN</td>\n",
       "      <td>NaN</td>\n",
       "      <td>NaN</td>\n",
       "      <td>NaN</td>\n",
       "      <td>NaN</td>\n",
       "      <td>NaN</td>\n",
       "      <td>NaN</td>\n",
       "      <td>NaN</td>\n",
       "      <td>NaN</td>\n",
       "      <td>NaN</td>\n",
       "      <td>NaN</td>\n",
       "      <td>NaN</td>\n",
       "      <td>NaN</td>\n",
       "      <td>NaN</td>\n",
       "      <td>NaN</td>\n",
       "      <td>NaN</td>\n",
       "      <td>NaN</td>\n",
       "      <td>NaN</td>\n",
       "      <td>NaN</td>\n",
       "      <td>NaN</td>\n",
       "      <td>NaN</td>\n",
       "      <td>NaN</td>\n",
       "      <td>NaN</td>\n",
       "      <td>NaN</td>\n",
       "      <td>NaN</td>\n",
       "      <td>NaN</td>\n",
       "      <td>NaN</td>\n",
       "      <td>NaN</td>\n",
       "      <td>NaN</td>\n",
       "      <td>NaN</td>\n",
       "      <td>NaN</td>\n",
       "      <td>NaN</td>\n",
       "      <td>NaN</td>\n",
       "      <td>NaN</td>\n",
       "      <td>NaN</td>\n",
       "      <td>NaN</td>\n",
       "      <td>NaN</td>\n",
       "      <td>NaN</td>\n",
       "      <td>NaN</td>\n",
       "      <td>NaN</td>\n",
       "      <td>NaN</td>\n",
       "      <td>NaN</td>\n",
       "      <td>NaN</td>\n",
       "      <td>NaN</td>\n",
       "      <td>NaN</td>\n",
       "      <td>NaN</td>\n",
       "      <td>NaN</td>\n",
       "      <td>NaN</td>\n",
       "      <td>NaN</td>\n",
       "      <td>NaN</td>\n",
       "      <td>NaN</td>\n",
       "      <td>NaN</td>\n",
       "      <td>NaN</td>\n",
       "      <td>NaN</td>\n",
       "      <td>NaN</td>\n",
       "      <td>NaN</td>\n",
       "      <td>NaN</td>\n",
       "      <td>NaN</td>\n",
       "      <td>NaN</td>\n",
       "      <td>NaN</td>\n",
       "      <td>NaN</td>\n",
       "      <td>NaN</td>\n",
       "      <td>NaN</td>\n",
       "      <td>NaN</td>\n",
       "      <td>NaN</td>\n",
       "      <td>NaN</td>\n",
       "      <td>NaN</td>\n",
       "      <td>NaN</td>\n",
       "      <td>NaN</td>\n",
       "      <td>NaN</td>\n",
       "      <td>NaN</td>\n",
       "      <td>NaN</td>\n",
       "      <td>NaN</td>\n",
       "      <td>NaN</td>\n",
       "      <td>NaN</td>\n",
       "      <td>NaN</td>\n",
       "      <td>NaN</td>\n",
       "      <td>NaN</td>\n",
       "      <td>NaN</td>\n",
       "      <td>NaN</td>\n",
       "      <td>NaN</td>\n",
       "      <td>NaN</td>\n",
       "      <td>NaN</td>\n",
       "      <td>NaN</td>\n",
       "      <td>NaN</td>\n",
       "      <td>NaN</td>\n",
       "      <td>NaN</td>\n",
       "      <td>NaN</td>\n",
       "      <td>NaN</td>\n",
       "      <td>NaN</td>\n",
       "      <td>NaN</td>\n",
       "      <td>NaN</td>\n",
       "      <td>NaN</td>\n",
       "      <td>NaN</td>\n",
       "      <td>NaN</td>\n",
       "      <td>NaN</td>\n",
       "      <td>NaN</td>\n",
       "      <td>NaN</td>\n",
       "      <td>NaN</td>\n",
       "      <td>NaN</td>\n",
       "      <td>NaN</td>\n",
       "      <td>NaN</td>\n",
       "      <td>NaN</td>\n",
       "      <td>NaN</td>\n",
       "      <td>NaN</td>\n",
       "      <td>NaN</td>\n",
       "      <td>NaN</td>\n",
       "      <td>NaN</td>\n",
       "      <td>NaN</td>\n",
       "      <td>NaN</td>\n",
       "      <td>NaN</td>\n",
       "      <td>NaN</td>\n",
       "      <td>NaN</td>\n",
       "      <td>NaN</td>\n",
       "      <td>NaN</td>\n",
       "      <td>NaN</td>\n",
       "      <td>NaN</td>\n",
       "      <td>NaN</td>\n",
       "      <td>NaN</td>\n",
       "      <td>NaN</td>\n",
       "      <td>NaN</td>\n",
       "      <td>NaN</td>\n",
       "      <td>NaN</td>\n",
       "      <td>NaN</td>\n",
       "      <td>NaN</td>\n",
       "      <td>NaN</td>\n",
       "      <td>NaN</td>\n",
       "      <td>NaN</td>\n",
       "      <td>NaN</td>\n",
       "      <td>NaN</td>\n",
       "      <td>NaN</td>\n",
       "      <td>NaN</td>\n",
       "      <td>NaN</td>\n",
       "      <td>NaN</td>\n",
       "      <td>NaN</td>\n",
       "      <td>NaN</td>\n",
       "      <td>NaN</td>\n",
       "      <td>NaN</td>\n",
       "      <td>NaN</td>\n",
       "      <td>NaN</td>\n",
       "      <td>NaN</td>\n",
       "      <td>NaN</td>\n",
       "      <td>NaN</td>\n",
       "      <td>NaN</td>\n",
       "      <td>NaN</td>\n",
       "      <td>NaN</td>\n",
       "      <td>NaN</td>\n",
       "      <td>NaN</td>\n",
       "      <td>NaN</td>\n",
       "      <td>NaN</td>\n",
       "      <td>NaN</td>\n",
       "      <td>NaN</td>\n",
       "      <td>NaN</td>\n",
       "      <td>NaN</td>\n",
       "      <td>NaN</td>\n",
       "      <td>NaN</td>\n",
       "      <td>NaN</td>\n",
       "    </tr>\n",
       "    <tr>\n",
       "      <th>2018-01-01 09:45:00-05:00</th>\n",
       "      <td>222.53335</td>\n",
       "      <td>42.027924</td>\n",
       "      <td>NaN</td>\n",
       "      <td>734.082241</td>\n",
       "      <td>12995.308947</td>\n",
       "      <td>NaN</td>\n",
       "      <td>0.004181</td>\n",
       "      <td>0.006301</td>\n",
       "      <td>NaN</td>\n",
       "      <td>NaN</td>\n",
       "      <td>NaN</td>\n",
       "      <td>NaN</td>\n",
       "      <td>NaN</td>\n",
       "      <td>NaN</td>\n",
       "      <td>NaN</td>\n",
       "      <td>NaN</td>\n",
       "      <td>NaN</td>\n",
       "      <td>NaN</td>\n",
       "      <td>NaN</td>\n",
       "      <td>NaN</td>\n",
       "      <td>NaN</td>\n",
       "      <td>NaN</td>\n",
       "      <td>NaN</td>\n",
       "      <td>NaN</td>\n",
       "      <td>NaN</td>\n",
       "      <td>NaN</td>\n",
       "      <td>NaN</td>\n",
       "      <td>NaN</td>\n",
       "      <td>NaN</td>\n",
       "      <td>NaN</td>\n",
       "      <td>NaN</td>\n",
       "      <td>NaN</td>\n",
       "      <td>NaN</td>\n",
       "      <td>NaN</td>\n",
       "      <td>NaN</td>\n",
       "      <td>NaN</td>\n",
       "      <td>NaN</td>\n",
       "      <td>NaN</td>\n",
       "      <td>NaN</td>\n",
       "      <td>NaN</td>\n",
       "      <td>NaN</td>\n",
       "      <td>NaN</td>\n",
       "      <td>NaN</td>\n",
       "      <td>NaN</td>\n",
       "      <td>NaN</td>\n",
       "      <td>NaN</td>\n",
       "      <td>NaN</td>\n",
       "      <td>NaN</td>\n",
       "      <td>NaN</td>\n",
       "      <td>NaN</td>\n",
       "      <td>NaN</td>\n",
       "      <td>NaN</td>\n",
       "      <td>NaN</td>\n",
       "      <td>NaN</td>\n",
       "      <td>NaN</td>\n",
       "      <td>NaN</td>\n",
       "      <td>NaN</td>\n",
       "      <td>NaN</td>\n",
       "      <td>NaN</td>\n",
       "      <td>NaN</td>\n",
       "      <td>NaN</td>\n",
       "      <td>NaN</td>\n",
       "      <td>NaN</td>\n",
       "      <td>NaN</td>\n",
       "      <td>NaN</td>\n",
       "      <td>NaN</td>\n",
       "      <td>NaN</td>\n",
       "      <td>NaN</td>\n",
       "      <td>NaN</td>\n",
       "      <td>NaN</td>\n",
       "      <td>NaN</td>\n",
       "      <td>NaN</td>\n",
       "      <td>NaN</td>\n",
       "      <td>NaN</td>\n",
       "      <td>NaN</td>\n",
       "      <td>NaN</td>\n",
       "      <td>NaN</td>\n",
       "      <td>NaN</td>\n",
       "      <td>NaN</td>\n",
       "      <td>NaN</td>\n",
       "      <td>NaN</td>\n",
       "      <td>NaN</td>\n",
       "      <td>NaN</td>\n",
       "      <td>NaN</td>\n",
       "      <td>NaN</td>\n",
       "      <td>NaN</td>\n",
       "      <td>NaN</td>\n",
       "      <td>NaN</td>\n",
       "      <td>NaN</td>\n",
       "      <td>NaN</td>\n",
       "      <td>NaN</td>\n",
       "      <td>NaN</td>\n",
       "      <td>NaN</td>\n",
       "      <td>NaN</td>\n",
       "      <td>NaN</td>\n",
       "      <td>NaN</td>\n",
       "      <td>NaN</td>\n",
       "      <td>NaN</td>\n",
       "      <td>NaN</td>\n",
       "      <td>NaN</td>\n",
       "      <td>NaN</td>\n",
       "      <td>NaN</td>\n",
       "      <td>NaN</td>\n",
       "      <td>NaN</td>\n",
       "      <td>NaN</td>\n",
       "      <td>NaN</td>\n",
       "      <td>NaN</td>\n",
       "      <td>NaN</td>\n",
       "      <td>NaN</td>\n",
       "      <td>NaN</td>\n",
       "      <td>NaN</td>\n",
       "      <td>NaN</td>\n",
       "      <td>NaN</td>\n",
       "      <td>NaN</td>\n",
       "      <td>NaN</td>\n",
       "      <td>NaN</td>\n",
       "      <td>NaN</td>\n",
       "      <td>NaN</td>\n",
       "      <td>NaN</td>\n",
       "      <td>NaN</td>\n",
       "      <td>NaN</td>\n",
       "      <td>NaN</td>\n",
       "      <td>NaN</td>\n",
       "      <td>NaN</td>\n",
       "      <td>NaN</td>\n",
       "      <td>NaN</td>\n",
       "      <td>NaN</td>\n",
       "      <td>NaN</td>\n",
       "      <td>NaN</td>\n",
       "      <td>NaN</td>\n",
       "      <td>NaN</td>\n",
       "      <td>NaN</td>\n",
       "      <td>NaN</td>\n",
       "      <td>NaN</td>\n",
       "      <td>NaN</td>\n",
       "      <td>NaN</td>\n",
       "      <td>NaN</td>\n",
       "      <td>NaN</td>\n",
       "      <td>NaN</td>\n",
       "      <td>NaN</td>\n",
       "      <td>NaN</td>\n",
       "      <td>NaN</td>\n",
       "      <td>NaN</td>\n",
       "      <td>NaN</td>\n",
       "      <td>NaN</td>\n",
       "      <td>NaN</td>\n",
       "      <td>NaN</td>\n",
       "      <td>NaN</td>\n",
       "      <td>NaN</td>\n",
       "      <td>NaN</td>\n",
       "      <td>NaN</td>\n",
       "      <td>NaN</td>\n",
       "      <td>NaN</td>\n",
       "      <td>NaN</td>\n",
       "      <td>NaN</td>\n",
       "      <td>NaN</td>\n",
       "      <td>NaN</td>\n",
       "      <td>NaN</td>\n",
       "      <td>NaN</td>\n",
       "      <td>NaN</td>\n",
       "      <td>NaN</td>\n",
       "      <td>NaN</td>\n",
       "      <td>NaN</td>\n",
       "      <td>NaN</td>\n",
       "      <td>NaN</td>\n",
       "      <td>NaN</td>\n",
       "      <td>NaN</td>\n",
       "      <td>NaN</td>\n",
       "      <td>NaN</td>\n",
       "      <td>NaN</td>\n",
       "      <td>NaN</td>\n",
       "      <td>NaN</td>\n",
       "      <td>NaN</td>\n",
       "      <td>NaN</td>\n",
       "      <td>NaN</td>\n",
       "      <td>NaN</td>\n",
       "      <td>NaN</td>\n",
       "      <td>NaN</td>\n",
       "      <td>NaN</td>\n",
       "      <td>NaN</td>\n",
       "      <td>NaN</td>\n",
       "      <td>NaN</td>\n",
       "      <td>NaN</td>\n",
       "      <td>NaN</td>\n",
       "      <td>NaN</td>\n",
       "      <td>NaN</td>\n",
       "      <td>NaN</td>\n",
       "      <td>NaN</td>\n",
       "      <td>NaN</td>\n",
       "      <td>NaN</td>\n",
       "      <td>NaN</td>\n",
       "      <td>NaN</td>\n",
       "      <td>NaN</td>\n",
       "      <td>NaN</td>\n",
       "      <td>NaN</td>\n",
       "      <td>NaN</td>\n",
       "      <td>NaN</td>\n",
       "      <td>NaN</td>\n",
       "      <td>NaN</td>\n",
       "      <td>NaN</td>\n",
       "      <td>NaN</td>\n",
       "      <td>NaN</td>\n",
       "      <td>NaN</td>\n",
       "      <td>NaN</td>\n",
       "      <td>NaN</td>\n",
       "      <td>NaN</td>\n",
       "      <td>NaN</td>\n",
       "      <td>NaN</td>\n",
       "      <td>NaN</td>\n",
       "      <td>NaN</td>\n",
       "      <td>NaN</td>\n",
       "      <td>NaN</td>\n",
       "      <td>NaN</td>\n",
       "      <td>NaN</td>\n",
       "      <td>NaN</td>\n",
       "      <td>NaN</td>\n",
       "      <td>NaN</td>\n",
       "      <td>NaN</td>\n",
       "      <td>NaN</td>\n",
       "      <td>NaN</td>\n",
       "      <td>NaN</td>\n",
       "      <td>NaN</td>\n",
       "      <td>NaN</td>\n",
       "      <td>NaN</td>\n",
       "    </tr>\n",
       "  </tbody>\n",
       "</table>\n",
       "</div>"
      ],
      "text/plain": [
       "                              volume                              vwap                          vwap.ret_0                       vwap.ret_0.vol_adj                       vwap.ret_0.vol_adj.c                       vwap.ret_0.vol_adj.shift_-2                       vwap.ret_0.vol_adj.shift_-2_hat                           volume                                                                                                                                                                                                                                                                                                                           vwap                                                                                                                                                                                                                                                                                                                     vwap.ret_0                                              \\\n",
       "asset_id                  1464553467 1467591036 2061507978  1464553467    1467591036 2061507978 1464553467 1467591036 2061507978         1464553467 1467591036 2061507978           1464553467 1467591036 2061507978           1464553467 1467591036 2061507978               1464553467 1467591036 2061507978 1032127330 1269521755 1345967712 1480530030 1579162287 1606590437 2002879833 2050321118 2061357471 2063960810 2152163375 2237530510 2425180446 2502756391 2568064341 2743007870 2870803583 2871263732 3065029174 3145747555 3187272957 3254199816 3303714233 3554906657 6132418113 6352701412 6514937930 7348328528 8968126878 1032127330 1269521755 1345967712 1480530030 1579162287 1606590437 2002879833 2050321118 2061357471 2063960810 2152163375 2237530510 2425180446 2502756391 2568064341 2743007870 2870803583 2871263732 3065029174 3145747555 3187272957 3254199816 3303714233 3554906657 6132418113 6352701412 6514937930 7348328528 8968126878 1032127330 1269521755 1345967712 1480530030 1579162287   \n",
       "end_ts                                                                                                                                                                                                                                                                                                                                                                                                                                                                                                                                                                                                                                                                                                                                                                                                                                                                                                                                                                                                                                \n",
       "2018-01-01 09:35:00-05:00  314.06346  47.446994        NaN  729.777396  12887.299954        NaN        NaN        NaN        NaN                NaN        NaN        NaN                  NaN        NaN        NaN                  NaN        NaN        NaN                      NaN        NaN        NaN        NaN        NaN        NaN        NaN        NaN        NaN        NaN        NaN        NaN        NaN        NaN        NaN        NaN        NaN        NaN        NaN        NaN        NaN        NaN        NaN        NaN        NaN        NaN        NaN        NaN        NaN        NaN        NaN        NaN        NaN        NaN        NaN        NaN        NaN        NaN        NaN        NaN        NaN        NaN        NaN        NaN        NaN        NaN        NaN        NaN        NaN        NaN        NaN        NaN        NaN        NaN        NaN        NaN        NaN        NaN        NaN        NaN        NaN        NaN        NaN        NaN        NaN        NaN   \n",
       "2018-01-01 09:40:00-05:00  178.63246  35.739673        NaN  731.019329  12913.685019        NaN   0.001700   0.002045        NaN                NaN        NaN        NaN                  NaN        NaN        NaN                  NaN        NaN        NaN                      NaN        NaN        NaN        NaN        NaN        NaN        NaN        NaN        NaN        NaN        NaN        NaN        NaN        NaN        NaN        NaN        NaN        NaN        NaN        NaN        NaN        NaN        NaN        NaN        NaN        NaN        NaN        NaN        NaN        NaN        NaN        NaN        NaN        NaN        NaN        NaN        NaN        NaN        NaN        NaN        NaN        NaN        NaN        NaN        NaN        NaN        NaN        NaN        NaN        NaN        NaN        NaN        NaN        NaN        NaN        NaN        NaN        NaN        NaN        NaN        NaN        NaN        NaN        NaN        NaN        NaN   \n",
       "2018-01-01 09:45:00-05:00  222.53335  42.027924        NaN  734.082241  12995.308947        NaN   0.004181   0.006301        NaN                NaN        NaN        NaN                  NaN        NaN        NaN                  NaN        NaN        NaN                      NaN        NaN        NaN        NaN        NaN        NaN        NaN        NaN        NaN        NaN        NaN        NaN        NaN        NaN        NaN        NaN        NaN        NaN        NaN        NaN        NaN        NaN        NaN        NaN        NaN        NaN        NaN        NaN        NaN        NaN        NaN        NaN        NaN        NaN        NaN        NaN        NaN        NaN        NaN        NaN        NaN        NaN        NaN        NaN        NaN        NaN        NaN        NaN        NaN        NaN        NaN        NaN        NaN        NaN        NaN        NaN        NaN        NaN        NaN        NaN        NaN        NaN        NaN        NaN        NaN        NaN   \n",
       "\n",
       "                                                                                                                                                                                                                                                                                                  vwap.ret_0.vol_adj                                                                                                                                                                                                                                                                                                                     vwap.ret_0.vol_adj.c                                                                                                                                                                                                                                                                                                                     vwap.ret_0.vol_adj.shift_-2                        \\\n",
       "asset_id                  1606590437 2002879833 2050321118 2061357471 2063960810 2152163375 2237530510 2425180446 2502756391 2568064341 2743007870 2870803583 2871263732 3065029174 3145747555 3187272957 3254199816 3303714233 3554906657 6132418113 6352701412 6514937930 7348328528 8968126878         1032127330 1269521755 1345967712 1480530030 1579162287 1606590437 2002879833 2050321118 2061357471 2063960810 2152163375 2237530510 2425180446 2502756391 2568064341 2743007870 2870803583 2871263732 3065029174 3145747555 3187272957 3254199816 3303714233 3554906657 6132418113 6352701412 6514937930 7348328528 8968126878           1032127330 1269521755 1345967712 1480530030 1579162287 1606590437 2002879833 2050321118 2061357471 2063960810 2152163375 2237530510 2425180446 2502756391 2568064341 2743007870 2870803583 2871263732 3065029174 3145747555 3187272957 3254199816 3303714233 3554906657 6132418113 6352701412 6514937930 7348328528 8968126878           1032127330 1269521755 1345967712   \n",
       "end_ts                                                                                                                                                                                                                                                                                                                                                                                                                                                                                                                                                                                                                                                                                                                                                                                                                                                                                                                                                                                                                         \n",
       "2018-01-01 09:35:00-05:00        NaN        NaN        NaN        NaN        NaN        NaN        NaN        NaN        NaN        NaN        NaN        NaN        NaN        NaN        NaN        NaN        NaN        NaN        NaN        NaN        NaN        NaN        NaN        NaN                NaN        NaN        NaN        NaN        NaN        NaN        NaN        NaN        NaN        NaN        NaN        NaN        NaN        NaN        NaN        NaN        NaN        NaN        NaN        NaN        NaN        NaN        NaN        NaN        NaN        NaN        NaN        NaN        NaN                  NaN        NaN        NaN        NaN        NaN        NaN        NaN        NaN        NaN        NaN        NaN        NaN        NaN        NaN        NaN        NaN        NaN        NaN        NaN        NaN        NaN        NaN        NaN        NaN        NaN        NaN        NaN        NaN        NaN                  NaN        NaN        NaN   \n",
       "2018-01-01 09:40:00-05:00        NaN        NaN        NaN        NaN        NaN        NaN        NaN        NaN        NaN        NaN        NaN        NaN        NaN        NaN        NaN        NaN        NaN        NaN        NaN        NaN        NaN        NaN        NaN        NaN                NaN        NaN        NaN        NaN        NaN        NaN        NaN        NaN        NaN        NaN        NaN        NaN        NaN        NaN        NaN        NaN        NaN        NaN        NaN        NaN        NaN        NaN        NaN        NaN        NaN        NaN        NaN        NaN        NaN                  NaN        NaN        NaN        NaN        NaN        NaN        NaN        NaN        NaN        NaN        NaN        NaN        NaN        NaN        NaN        NaN        NaN        NaN        NaN        NaN        NaN        NaN        NaN        NaN        NaN        NaN        NaN        NaN        NaN                  NaN        NaN        NaN   \n",
       "2018-01-01 09:45:00-05:00        NaN        NaN        NaN        NaN        NaN        NaN        NaN        NaN        NaN        NaN        NaN        NaN        NaN        NaN        NaN        NaN        NaN        NaN        NaN        NaN        NaN        NaN        NaN        NaN                NaN        NaN        NaN        NaN        NaN        NaN        NaN        NaN        NaN        NaN        NaN        NaN        NaN        NaN        NaN        NaN        NaN        NaN        NaN        NaN        NaN        NaN        NaN        NaN        NaN        NaN        NaN        NaN        NaN                  NaN        NaN        NaN        NaN        NaN        NaN        NaN        NaN        NaN        NaN        NaN        NaN        NaN        NaN        NaN        NaN        NaN        NaN        NaN        NaN        NaN        NaN        NaN        NaN        NaN        NaN        NaN        NaN        NaN                  NaN        NaN        NaN   \n",
       "\n",
       "                                                                                                                                                                                                                                                                                                                        vwap.ret_0.vol_adj.shift_-2_hat                                                                                                                                                                                                                                                                                                                      \n",
       "asset_id                  1480530030 1579162287 1606590437 2002879833 2050321118 2061357471 2063960810 2152163375 2237530510 2425180446 2502756391 2568064341 2743007870 2870803583 2871263732 3065029174 3145747555 3187272957 3254199816 3303714233 3554906657 6132418113 6352701412 6514937930 7348328528 8968126878               1032127330 1269521755 1345967712 1480530030 1579162287 1606590437 2002879833 2050321118 2061357471 2063960810 2152163375 2237530510 2425180446 2502756391 2568064341 2743007870 2870803583 2871263732 3065029174 3145747555 3187272957 3254199816 3303714233 3554906657 6132418113 6352701412 6514937930 7348328528 8968126878  \n",
       "end_ts                                                                                                                                                                                                                                                                                                                                                                                                                                                                                                                                                                                                                                                                \n",
       "2018-01-01 09:35:00-05:00        NaN        NaN        NaN        NaN        NaN        NaN        NaN        NaN        NaN        NaN        NaN        NaN        NaN        NaN        NaN        NaN        NaN        NaN        NaN        NaN        NaN        NaN        NaN        NaN        NaN        NaN                      NaN        NaN        NaN        NaN        NaN        NaN        NaN        NaN        NaN        NaN        NaN        NaN        NaN        NaN        NaN        NaN        NaN        NaN        NaN        NaN        NaN        NaN        NaN        NaN        NaN        NaN        NaN        NaN        NaN  \n",
       "2018-01-01 09:40:00-05:00        NaN        NaN        NaN        NaN        NaN        NaN        NaN        NaN        NaN        NaN        NaN        NaN        NaN        NaN        NaN        NaN        NaN        NaN        NaN        NaN        NaN        NaN        NaN        NaN        NaN        NaN                      NaN        NaN        NaN        NaN        NaN        NaN        NaN        NaN        NaN        NaN        NaN        NaN        NaN        NaN        NaN        NaN        NaN        NaN        NaN        NaN        NaN        NaN        NaN        NaN        NaN        NaN        NaN        NaN        NaN  \n",
       "2018-01-01 09:45:00-05:00        NaN        NaN        NaN        NaN        NaN        NaN        NaN        NaN        NaN        NaN        NaN        NaN        NaN        NaN        NaN        NaN        NaN        NaN        NaN        NaN        NaN        NaN        NaN        NaN        NaN        NaN                      NaN        NaN        NaN        NaN        NaN        NaN        NaN        NaN        NaN        NaN        NaN        NaN        NaN        NaN        NaN        NaN        NaN        NaN        NaN        NaN        NaN        NaN        NaN        NaN        NaN        NaN        NaN        NaN        NaN  "
      ]
     },
     "execution_count": 7,
     "metadata": {},
     "output_type": "execute_result"
    }
   ],
   "source": [
    "predict_df = load_predictions_df(config)\n",
    "print(predict_df.shape)\n",
    "predict_df.head(3)"
   ]
  },
  {
   "cell_type": "markdown",
   "id": "1f8d0c59",
   "metadata": {},
   "source": [
    "# Compute overall PnL"
   ]
  },
  {
   "cell_type": "code",
   "execution_count": 8,
   "id": "c0e507a4",
   "metadata": {
    "ExecuteTime": {
     "end_time": "2022-07-07T13:26:56.341033Z",
     "start_time": "2022-07-07T13:26:54.811201Z"
    }
   },
   "outputs": [
    {
     "data": {
      "text/plain": [
       "<AxesSubplot:xlabel='end_ts'>"
      ]
     },
     "execution_count": 8,
     "metadata": {},
     "output_type": "execute_result"
    },
    {
     "data": {
      "image/png": "[encoded data removed]",
      "text/plain": [
       "<Figure size 1440x360 with 1 Axes>"
      ]
     },
     "metadata": {},
     "output_type": "display_data"
    }
   ],
   "source": [
    "(\n",
    "    predict_df[config[\"column_names\"][\"y\"]]\n",
    "    * predict_df[config[\"column_names\"][\"y_hat\"]]\n",
    ").sum(axis=1).cumsum().plot()"
   ]
  },
  {
   "cell_type": "markdown",
   "id": "3d38a3ec",
   "metadata": {
    "ExecuteTime": {
     "end_time": "2022-06-07T15:16:51.217880Z",
     "start_time": "2022-06-07T15:16:51.176565Z"
    }
   },
   "source": [
    "# Get data for analysis"
   ]
  },
  {
   "cell_type": "code",
   "execution_count": 9,
   "id": "443bc51a",
   "metadata": {
    "ExecuteTime": {
     "end_time": "2022-07-07T13:26:57.667810Z",
     "start_time": "2022-07-07T13:26:56.345584Z"
    }
   },
   "outputs": [
    {
     "name": "stdout",
     "output_type": "stream",
     "text": [
      "INFO  removed rows with nans: 44027 / 887113 = 4.96%\n"
     ]
    },
    {
     "data": {
      "text/html": [
       "<div>\n",
       "<style scoped>\n",
       "    .dataframe tbody tr th:only-of-type {\n",
       "        vertical-align: middle;\n",
       "    }\n",
       "\n",
       "    .dataframe tbody tr th {\n",
       "        vertical-align: top;\n",
       "    }\n",
       "\n",
       "    .dataframe thead th {\n",
       "        text-align: right;\n",
       "    }\n",
       "</style>\n",
       "<table border=\"1\" class=\"dataframe\">\n",
       "  <thead>\n",
       "    <tr style=\"text-align: right;\">\n",
       "      <th></th>\n",
       "      <th></th>\n",
       "      <th>volume</th>\n",
       "      <th>vwap</th>\n",
       "      <th>vwap.ret_0</th>\n",
       "      <th>vwap.ret_0.vol_adj</th>\n",
       "      <th>vwap.ret_0.vol_adj.c</th>\n",
       "      <th>vwap.ret_0.vol_adj.shift_-2</th>\n",
       "      <th>vwap.ret_0.vol_adj.shift_-2_hat</th>\n",
       "      <th>hit</th>\n",
       "      <th>trade_pnl</th>\n",
       "    </tr>\n",
       "    <tr>\n",
       "      <th>end_ts</th>\n",
       "      <th>asset_id</th>\n",
       "      <th></th>\n",
       "      <th></th>\n",
       "      <th></th>\n",
       "      <th></th>\n",
       "      <th></th>\n",
       "      <th></th>\n",
       "      <th></th>\n",
       "      <th></th>\n",
       "      <th></th>\n",
       "    </tr>\n",
       "  </thead>\n",
       "  <tbody>\n",
       "    <tr>\n",
       "      <th rowspan=\"2\" valign=\"top\">2018-01-04 12:00:00-05:00</th>\n",
       "      <th>binance::ETH_USDT</th>\n",
       "      <td>677.267720</td>\n",
       "      <td>993.835677</td>\n",
       "      <td>0.001891</td>\n",
       "      <td>1.954649</td>\n",
       "      <td>1.812616</td>\n",
       "      <td>-0.393211</td>\n",
       "      <td>0.075405</td>\n",
       "      <td>-1</td>\n",
       "      <td>-0.029650</td>\n",
       "    </tr>\n",
       "    <tr>\n",
       "      <th>binance::BTC_USDT</th>\n",
       "      <td>117.433287</td>\n",
       "      <td>14469.739034</td>\n",
       "      <td>0.003955</td>\n",
       "      <td>1.437304</td>\n",
       "      <td>1.378481</td>\n",
       "      <td>1.259730</td>\n",
       "      <td>0.068264</td>\n",
       "      <td>1</td>\n",
       "      <td>0.085995</td>\n",
       "    </tr>\n",
       "    <tr>\n",
       "      <th rowspan=\"2\" valign=\"top\">2018-01-04 12:05:00-05:00</th>\n",
       "      <th>binance::ETH_USDT</th>\n",
       "      <td>936.989460</td>\n",
       "      <td>993.949461</td>\n",
       "      <td>0.000114</td>\n",
       "      <td>0.078415</td>\n",
       "      <td>0.078405</td>\n",
       "      <td>0.110683</td>\n",
       "      <td>0.087400</td>\n",
       "      <td>1</td>\n",
       "      <td>0.009674</td>\n",
       "    </tr>\n",
       "    <tr>\n",
       "      <th>binance::BTC_USDT</th>\n",
       "      <td>77.354675</td>\n",
       "      <td>14432.219854</td>\n",
       "      <td>-0.002596</td>\n",
       "      <td>-1.253307</td>\n",
       "      <td>-1.213842</td>\n",
       "      <td>0.535206</td>\n",
       "      <td>-0.040640</td>\n",
       "      <td>-1</td>\n",
       "      <td>-0.021751</td>\n",
       "    </tr>\n",
       "    <tr>\n",
       "      <th>2018-01-04 12:10:00-05:00</th>\n",
       "      <th>binance::ETH_USDT</th>\n",
       "      <td>655.104630</td>\n",
       "      <td>993.344329</td>\n",
       "      <td>-0.000609</td>\n",
       "      <td>-0.393211</td>\n",
       "      <td>-0.391949</td>\n",
       "      <td>0.642775</td>\n",
       "      <td>0.093588</td>\n",
       "      <td>1</td>\n",
       "      <td>0.060156</td>\n",
       "    </tr>\n",
       "  </tbody>\n",
       "</table>\n",
       "</div>"
      ],
      "text/plain": [
       "                                                 volume          vwap  vwap.ret_0  vwap.ret_0.vol_adj  vwap.ret_0.vol_adj.c  vwap.ret_0.vol_adj.shift_-2  vwap.ret_0.vol_adj.shift_-2_hat  hit  trade_pnl\n",
       "end_ts                    asset_id                                                                                                                                                         \n",
       "2018-01-04 12:00:00-05:00 binance::ETH_USDT  677.267720    993.835677    0.001891            1.954649              1.812616             -0.393211                  0.075405   -1  -0.029650\n",
       "                          binance::BTC_USDT  117.433287  14469.739034    0.003955            1.437304              1.378481              1.259730                  0.068264    1   0.085995\n",
       "2018-01-04 12:05:00-05:00 binance::ETH_USDT  936.989460    993.949461    0.000114            0.078415              0.078405              0.110683                  0.087400    1   0.009674\n",
       "                          binance::BTC_USDT   77.354675  14432.219854   -0.002596           -1.253307             -1.213842              0.535206                 -0.040640   -1  -0.021751\n",
       "2018-01-04 12:10:00-05:00 binance::ETH_USDT  655.104630    993.344329   -0.000609           -0.393211             -0.391949              0.642775                  0.093588    1   0.060156"
      ]
     },
     "execution_count": 9,
     "metadata": {},
     "output_type": "execute_result"
    }
   ],
   "source": [
    "metrics_df = preprocess_predictions_df(config, predict_df)\n",
    "metrics_df.head()"
   ]
  },
  {
   "cell_type": "code",
   "execution_count": 10,
   "id": "2016ceb0",
   "metadata": {
    "ExecuteTime": {
     "end_time": "2022-07-07T13:26:57.912489Z",
     "start_time": "2022-07-07T13:26:57.670847Z"
    }
   },
   "outputs": [],
   "source": [
    "# Reset index to ease further preprocessing.\n",
    "# TODO(Dan): Move index resetting under plotting funtions.\n",
    "metrics_df_reset_index = metrics_df.reset_index()"
   ]
  },
  {
   "cell_type": "markdown",
   "id": "88f725d6",
   "metadata": {},
   "source": [
    "# Stats"
   ]
  },
  {
   "cell_type": "code",
   "execution_count": 11,
   "id": "f1876d33",
   "metadata": {
    "ExecuteTime": {
     "end_time": "2022-07-07T13:26:57.979106Z",
     "start_time": "2022-07-07T13:26:57.916125Z"
    }
   },
   "outputs": [],
   "source": [
    "# Set oftenly used config parameters.\n",
    "asset_id = config[\"column_names\"][\"asset_id\"]\n",
    "timestamp = config[\"column_names\"][\"timestamp\"]\n",
    "volume = config[\"column_names\"][\"volume\"]\n",
    "y = config[\"column_names\"][\"y\"]\n",
    "y_hat = config[\"column_names\"][\"y_hat\"]\n",
    "hit = config[\"column_names\"][\"hit\"]\n",
    "trade_pnl = config[\"column_names\"][\"trade_pnl\"]\n",
    "#\n",
    "quantile_ranks = config[\"stats_kwargs\"][\"quantile_ranks\"]\n",
    "y_min_lim_hit_rate = config[\"plot_kwargs\"][\"y_min_lim_hit_rate\"]\n",
    "y_max_lim_hit_rate = config[\"plot_kwargs\"][\"y_max_lim_hit_rate\"]\n",
    "color = config[\"plot_kwargs\"][\"color\"]\n",
    "capsize = config[\"plot_kwargs\"][\"capsize\"]\n",
    "xticks_rotation = config[\"plot_kwargs\"][\"xticks_rotation\"]"
   ]
  },
  {
   "cell_type": "markdown",
   "id": "a9adc0d8",
   "metadata": {},
   "source": [
    "## By asset"
   ]
  },
  {
   "cell_type": "markdown",
   "id": "bef6de58",
   "metadata": {},
   "source": [
    "### Hit rate"
   ]
  },
  {
   "cell_type": "code",
   "execution_count": 12,
   "id": "394b5c73",
   "metadata": {
    "ExecuteTime": {
     "end_time": "2022-07-07T13:26:58.784918Z",
     "start_time": "2022-07-07T13:26:57.982202Z"
    }
   },
   "outputs": [
    {
     "data": {
      "application/vnd.jupyter.widget-view+json": {
       "model_id": "2cb197786cba49838ab6fa2a545ea9ba",
       "version_major": 2,
       "version_minor": 0
      },
      "text/plain": [
       "interactive(children=(ToggleButtons(description='Sort by:', options=('x', 'y', 'ci_low', 'ci_high', False), vaÃÂÃÂ¢ÃÂÃÂÃÂÃÂ¦"
      ]
     },
     "metadata": {},
     "output_type": "display_data"
    }
   ],
   "source": [
    "hit_by_asset = calculate_hit_rate_with_CI(metrics_df_reset_index, asset_id, hit)\n",
    "plot_bars_with_widget(\n",
    "    hit_by_asset, \"hit_rate\", y_min_lim_hit_rate, y_max_lim_hit_rate\n",
    ")"
   ]
  },
  {
   "cell_type": "markdown",
   "id": "00479511",
   "metadata": {},
   "source": [
    "### PnL"
   ]
  },
  {
   "cell_type": "code",
   "execution_count": 13,
   "id": "9437678a",
   "metadata": {
    "ExecuteTime": {
     "end_time": "2022-07-07T13:26:59.408486Z",
     "start_time": "2022-07-07T13:26:58.786563Z"
    },
    "scrolled": false
   },
   "outputs": [
    {
     "data": {
      "application/vnd.jupyter.widget-view+json": {
       "model_id": "8ae69c4083b245f7b81b3d91b4d6603a",
       "version_major": 2,
       "version_minor": 0
      },
      "text/plain": [
       "interactive(children=(ToggleButtons(description='Sort by:', options=('x', 'y', 'ci_low', 'ci_high', False), vaÃÂÃÂ¢ÃÂÃÂÃÂÃÂ¦"
      ]
     },
     "metadata": {},
     "output_type": "display_data"
    }
   ],
   "source": [
    "# Compute PnL for each asset id.\n",
    "pnl_stats = (\n",
    "    metrics_df.groupby(asset_id)[trade_pnl].sum().sort_values(ascending=False)\n",
    ")\n",
    "pnl_stats = pnl_stats.rename(\"y\").to_frame()\n",
    "# Confidence Intervals are currently excluded.\n",
    "pnl_stats[\"errors\"] = 0\n",
    "# Plot PnL per asset id.\n",
    "# TODO(Max): infer y-limits automatically.\n",
    "plot_bars_with_widget(pnl_stats, \"avg_pnl_by_asset\", 0, 450)"
   ]
  },
  {
   "cell_type": "code",
   "execution_count": 14,
   "id": "d93b8335",
   "metadata": {
    "ExecuteTime": {
     "end_time": "2022-07-07T13:27:30.881450Z",
     "start_time": "2022-07-07T13:26:59.410958Z"
    }
   },
   "outputs": [
    {
     "data": {
      "image/png": "[encoded data removed]",
      "text/plain": [
       "<Figure size 1440x360 with 1 Axes>"
      ]
     },
     "metadata": {},
     "output_type": "display_data"
    }
   ],
   "source": [
    "# Plot cumulative PnL over time per asset id.\n",
    "_ = metrics_df[trade_pnl].dropna().unstack().cumsum().plot()"
   ]
  },
  {
   "cell_type": "code",
   "execution_count": 15,
   "id": "8eb14519",
   "metadata": {
    "ExecuteTime": {
     "end_time": "2022-07-07T13:27:31.854526Z",
     "start_time": "2022-07-07T13:27:30.883945Z"
    }
   },
   "outputs": [
    {
     "data": {
      "application/vnd.jupyter.widget-view+json": {
       "model_id": "2a262cf6736144bfb1a943c46ee2eca4",
       "version_major": 2,
       "version_minor": 0
      },
      "text/plain": [
       "interactive(children=(ToggleButtons(description='Sort by:', options=('x', 'y', 'ci_low', 'ci_high', False), vaÃÂÃÂ¢ÃÂÃÂÃÂÃÂ¦"
      ]
     },
     "metadata": {},
     "output_type": "display_data"
    }
   ],
   "source": [
    "# Plot average trade PnL per asset id.\n",
    "avg_pnl_by_asset = calculate_CI_for_PnLs_or_SR(\n",
    "    metrics_df_reset_index, asset_id, trade_pnl\n",
    ")\n",
    "# TODO(Max): infer y-limits automatically.\n",
    "plot_bars_with_widget(avg_pnl_by_asset, \"avg_pnl_by_asset\", 0, 0.005)"
   ]
  },
  {
   "cell_type": "markdown",
   "id": "e02e918e",
   "metadata": {},
   "source": [
    "### Sharpe Ratio"
   ]
  },
  {
   "cell_type": "code",
   "execution_count": 16,
   "id": "347274ba",
   "metadata": {
    "ExecuteTime": {
     "end_time": "2022-07-07T13:28:18.768594Z",
     "start_time": "2022-07-07T13:27:31.857911Z"
    }
   },
   "outputs": [
    {
     "data": {
      "application/vnd.jupyter.widget-view+json": {
       "model_id": "3e37fdde57614a39bc7effa4b7d162f0",
       "version_major": 2,
       "version_minor": 0
      },
      "text/plain": [
       "interactive(children=(ToggleButtons(description='Sort by:', options=('x', 'y', 'ci_low', 'ci_high', False), vaÃÂÃÂ¢ÃÂÃÂÃÂÃÂ¦"
      ]
     },
     "metadata": {},
     "output_type": "display_data"
    }
   ],
   "source": [
    "# Compute bootstrapped Sharpe Ratio.\n",
    "sr_by_asset = compute_sharpe_ratio(config, metrics_df_reset_index, asset_id)\n",
    "# Add CIs and errors.\n",
    "sr_ci_by_asset = calculate_CI_for_PnLs_or_SR(\n",
    "    sr_by_asset, asset_id, \"sharpe_ratio\"\n",
    ")\n",
    "# Visualize results.\n",
    "plot_bars_with_widget(sr_ci_by_asset, \"sharpe_ratio\", 0, 9)"
   ]
  },
  {
   "cell_type": "markdown",
   "id": "ebb2ad71",
   "metadata": {},
   "source": [
    "## By time"
   ]
  },
  {
   "cell_type": "code",
   "execution_count": 17,
   "id": "2406cf0e",
   "metadata": {
    "ExecuteTime": {
     "end_time": "2022-07-07T13:28:19.685082Z",
     "start_time": "2022-07-07T13:28:18.773059Z"
    }
   },
   "outputs": [],
   "source": [
    "metrics_df_reset_index[\"hour\"] = metrics_df_reset_index[timestamp].dt.hour\n",
    "metrics_df_reset_index[\"weekday\"] = metrics_df_reset_index[\n",
    "    timestamp\n",
    "].dt.day_name()\n",
    "metrics_df_reset_index[\"month\"] = metrics_df_reset_index[\n",
    "    timestamp\n",
    "].dt.month_name()"
   ]
  },
  {
   "cell_type": "markdown",
   "id": "4de2397a",
   "metadata": {},
   "source": [
    "### Hit Rate"
   ]
  },
  {
   "cell_type": "code",
   "execution_count": 18,
   "id": "b458aed6",
   "metadata": {
    "ExecuteTime": {
     "end_time": "2022-07-07T13:28:20.054787Z",
     "start_time": "2022-07-07T13:28:19.693005Z"
    }
   },
   "outputs": [
    {
     "data": {
      "application/vnd.jupyter.widget-view+json": {
       "model_id": "547b605f3a34437daf8673d03ab09cfa",
       "version_major": 2,
       "version_minor": 0
      },
      "text/plain": [
       "interactive(children=(ToggleButtons(description='Sort by:', options=('x', 'y', 'ci_low', 'ci_high', False), vaÃÂÃÂ¢ÃÂÃÂÃÂÃÂ¦"
      ]
     },
     "metadata": {},
     "output_type": "display_data"
    }
   ],
   "source": [
    "hits_by_time_hour = calculate_hit_rate_with_CI(\n",
    "    metrics_df_reset_index, \"hour\", hit\n",
    ")\n",
    "plot_bars_with_widget(\n",
    "    hits_by_time_hour, \"avg_hit_rate\", y_min_lim_hit_rate, y_max_lim_hit_rate\n",
    ")"
   ]
  },
  {
   "cell_type": "code",
   "execution_count": 19,
   "id": "4b70798e",
   "metadata": {
    "ExecuteTime": {
     "end_time": "2022-07-07T13:28:20.461346Z",
     "start_time": "2022-07-07T13:28:20.056610Z"
    }
   },
   "outputs": [
    {
     "data": {
      "application/vnd.jupyter.widget-view+json": {
       "model_id": "73db6aeec817437c84ffc48adb49cc91",
       "version_major": 2,
       "version_minor": 0
      },
      "text/plain": [
       "interactive(children=(ToggleButtons(description='Sort by:', options=('x', 'y', 'ci_low', 'ci_high', False), vaÃÂÃÂ¢ÃÂÃÂÃÂÃÂ¦"
      ]
     },
     "metadata": {},
     "output_type": "display_data"
    }
   ],
   "source": [
    "hits_by_time_weekday = calculate_hit_rate_with_CI(\n",
    "    metrics_df_reset_index, \"weekday\", hit\n",
    ")\n",
    "plot_bars_with_widget(\n",
    "    hits_by_time_weekday, \"avg_hit_rate\", y_min_lim_hit_rate, y_max_lim_hit_rate\n",
    ")"
   ]
  },
  {
   "cell_type": "code",
   "execution_count": 20,
   "id": "be5764e4",
   "metadata": {
    "ExecuteTime": {
     "end_time": "2022-07-07T13:28:20.935158Z",
     "start_time": "2022-07-07T13:28:20.463207Z"
    }
   },
   "outputs": [
    {
     "data": {
      "application/vnd.jupyter.widget-view+json": {
       "model_id": "e7590de875f847e3939b4606bd872818",
       "version_major": 2,
       "version_minor": 0
      },
      "text/plain": [
       "interactive(children=(ToggleButtons(description='Sort by:', options=('x', 'y', 'ci_low', 'ci_high', False), vaÃÂÃÂ¢ÃÂÃÂÃÂÃÂ¦"
      ]
     },
     "metadata": {},
     "output_type": "display_data"
    }
   ],
   "source": [
    "hits_by_time_month = calculate_hit_rate_with_CI(\n",
    "    metrics_df_reset_index, \"month\", hit\n",
    ")\n",
    "plot_bars_with_widget(\n",
    "    hits_by_time_month, \"avg_hit_rate\", y_min_lim_hit_rate, y_max_lim_hit_rate\n",
    ")"
   ]
  },
  {
   "cell_type": "markdown",
   "id": "a1ba14ac",
   "metadata": {},
   "source": [
    "### PnL"
   ]
  },
  {
   "cell_type": "code",
   "execution_count": 21,
   "id": "bf379b37",
   "metadata": {
    "ExecuteTime": {
     "end_time": "2022-07-07T13:28:21.287641Z",
     "start_time": "2022-07-07T13:28:20.937706Z"
    }
   },
   "outputs": [
    {
     "data": {
      "application/vnd.jupyter.widget-view+json": {
       "model_id": "d1246eb6d1bf42dc80255a61a7e8d490",
       "version_major": 2,
       "version_minor": 0
      },
      "text/plain": [
       "interactive(children=(ToggleButtons(description='Sort by:', options=('x', 'y', 'ci_low', 'ci_high', False), vaÃÂÃÂ¢ÃÂÃÂÃÂÃÂ¦"
      ]
     },
     "metadata": {},
     "output_type": "display_data"
    }
   ],
   "source": [
    "pnl_by_time_hour = calculate_CI_for_PnLs_or_SR(\n",
    "    metrics_df_reset_index, \"hour\", trade_pnl\n",
    ")\n",
    "# TODO(Max): infer y-limits automatically.\n",
    "plot_bars_with_widget(pnl_by_time_hour, \"avg_pnl\", 0, 0.005)"
   ]
  },
  {
   "cell_type": "code",
   "execution_count": 22,
   "id": "3b4e7353",
   "metadata": {
    "ExecuteTime": {
     "end_time": "2022-07-07T13:28:21.704809Z",
     "start_time": "2022-07-07T13:28:21.289754Z"
    }
   },
   "outputs": [
    {
     "data": {
      "application/vnd.jupyter.widget-view+json": {
       "model_id": "74ff584d8fa544f5ad40baaae47fdd84",
       "version_major": 2,
       "version_minor": 0
      },
      "text/plain": [
       "interactive(children=(ToggleButtons(description='Sort by:', options=('x', 'y', 'ci_low', 'ci_high', False), vaÃÂÃÂ¢ÃÂÃÂÃÂÃÂ¦"
      ]
     },
     "metadata": {},
     "output_type": "display_data"
    }
   ],
   "source": [
    "pnl_by_time_weekday = calculate_CI_for_PnLs_or_SR(\n",
    "    metrics_df_reset_index, \"weekday\", trade_pnl\n",
    ")\n",
    "# TODO(Max): infer y-limits automatically.\n",
    "plot_bars_with_widget(pnl_by_time_weekday, \"avg_pnl\", 0, 0.004)"
   ]
  },
  {
   "cell_type": "code",
   "execution_count": 23,
   "id": "2976b08a",
   "metadata": {
    "ExecuteTime": {
     "end_time": "2022-07-07T13:28:22.156479Z",
     "start_time": "2022-07-07T13:28:21.707541Z"
    }
   },
   "outputs": [
    {
     "data": {
      "application/vnd.jupyter.widget-view+json": {
       "model_id": "85fc5d16109d474bb354d48822d48a55",
       "version_major": 2,
       "version_minor": 0
      },
      "text/plain": [
       "interactive(children=(ToggleButtons(description='Sort by:', options=('x', 'y', 'ci_low', 'ci_high', False), vaÃÂÃÂ¢ÃÂÃÂÃÂÃÂ¦"
      ]
     },
     "metadata": {},
     "output_type": "display_data"
    }
   ],
   "source": [
    "pnl_by_time_month = calculate_CI_for_PnLs_or_SR(\n",
    "    metrics_df_reset_index, \"month\", trade_pnl\n",
    ")\n",
    "# TODO(Max): infer y-limits automatically.\n",
    "plot_bars_with_widget(pnl_by_time_month, \"avg_pnl\", 0, 0.0055)"
   ]
  },
  {
   "cell_type": "markdown",
   "id": "f2199fad",
   "metadata": {},
   "source": [
    "### Sharpe Ratio"
   ]
  },
  {
   "cell_type": "code",
   "execution_count": 24,
   "id": "5addec55",
   "metadata": {
    "ExecuteTime": {
     "end_time": "2022-07-07T13:29:06.253658Z",
     "start_time": "2022-07-07T13:28:22.158476Z"
    }
   },
   "outputs": [
    {
     "data": {
      "application/vnd.jupyter.widget-view+json": {
       "model_id": "4d6a65f6535f41e98a840002c5592a08",
       "version_major": 2,
       "version_minor": 0
      },
      "text/plain": [
       "interactive(children=(ToggleButtons(description='Sort by:', options=('x', 'y', 'ci_low', 'ci_high', False), vaÃÂÃÂ¢ÃÂÃÂÃÂÃÂ¦"
      ]
     },
     "metadata": {},
     "output_type": "display_data"
    }
   ],
   "source": [
    "# Compute bootstrapped Sharpe Ratio.\n",
    "sr_by_hour = compute_sharpe_ratio(config, metrics_df_reset_index, \"hour\")\n",
    "# Add CIs and errors.\n",
    "sr_ci_by_hour = calculate_CI_for_PnLs_or_SR(sr_by_hour, \"hour\", \"sharpe_ratio\")\n",
    "# Visualize results.\n",
    "plot_bars_with_widget(sr_ci_by_hour, \"sharpe_ratio\", 0, 9)"
   ]
  },
  {
   "cell_type": "code",
   "execution_count": 25,
   "id": "31bf4d54",
   "metadata": {
    "ExecuteTime": {
     "end_time": "2022-07-07T13:29:36.158086Z",
     "start_time": "2022-07-07T13:29:06.256044Z"
    }
   },
   "outputs": [
    {
     "data": {
      "application/vnd.jupyter.widget-view+json": {
       "model_id": "67e5bdd0a9764360a38938993fd4fdbe",
       "version_major": 2,
       "version_minor": 0
      },
      "text/plain": [
       "interactive(children=(ToggleButtons(description='Sort by:', options=('x', 'y', 'ci_low', 'ci_high', False), vaÃÂÃÂ¢ÃÂÃÂÃÂÃÂ¦"
      ]
     },
     "metadata": {},
     "output_type": "display_data"
    }
   ],
   "source": [
    "# Compute bootstrapped Sharpe Ratio.\n",
    "sr_by_weekday = compute_sharpe_ratio(config, metrics_df_reset_index, \"weekday\")\n",
    "# Add CIs and errors.\n",
    "sr_ci_by_weekday = calculate_CI_for_PnLs_or_SR(\n",
    "    sr_by_weekday, \"weekday\", \"sharpe_ratio\"\n",
    ")\n",
    "# Visualize results.\n",
    "plot_bars_with_widget(sr_ci_by_weekday, \"sharpe_ratio\", 0, 7)"
   ]
  },
  {
   "cell_type": "code",
   "execution_count": 26,
   "id": "a09b5acd",
   "metadata": {
    "ExecuteTime": {
     "end_time": "2022-07-07T13:30:13.690775Z",
     "start_time": "2022-07-07T13:29:36.161683Z"
    }
   },
   "outputs": [
    {
     "data": {
      "application/vnd.jupyter.widget-view+json": {
       "model_id": "cdee7bd8ec09465da5cd304fe8c8fa1d",
       "version_major": 2,
       "version_minor": 0
      },
      "text/plain": [
       "interactive(children=(ToggleButtons(description='Sort by:', options=('x', 'y', 'ci_low', 'ci_high', False), vaÃÂÃÂ¢ÃÂÃÂÃÂÃÂ¦"
      ]
     },
     "metadata": {},
     "output_type": "display_data"
    }
   ],
   "source": [
    "# Compute bootstrapped Sharpe Ratio.\n",
    "sr_by_month = compute_sharpe_ratio(config, metrics_df_reset_index, \"month\")\n",
    "# Add CIs and errors.\n",
    "sr_ci_by_month = calculate_CI_for_PnLs_or_SR(sr_by_month, \"month\", \"sharpe_ratio\")\n",
    "# Visualize results.\n",
    "plot_bars_with_widget(sr_ci_by_month, \"sharpe_ratio\", 0, 9)"
   ]
  },
  {
   "cell_type": "markdown",
   "id": "2c45a76a",
   "metadata": {
    "ExecuteTime": {
     "end_time": "2022-06-14T11:44:52.359488Z",
     "start_time": "2022-06-14T11:44:52.304630Z"
    }
   },
   "source": [
    "## By prediction magnitude"
   ]
  },
  {
   "cell_type": "code",
   "execution_count": 27,
   "id": "ca68ee01",
   "metadata": {
    "ExecuteTime": {
     "end_time": "2022-07-07T13:30:13.856054Z",
     "start_time": "2022-07-07T13:30:13.708169Z"
    }
   },
   "outputs": [],
   "source": [
    "prediction_magnitude = \".\".join([y_hat, \"quantile_rank\"])\n",
    "metrics_df_reset_index[prediction_magnitude] = pd.qcut(\n",
    "    metrics_df_reset_index[y_hat], quantile_ranks, labels=False\n",
    ")"
   ]
  },
  {
   "cell_type": "markdown",
   "id": "6ef087c7",
   "metadata": {},
   "source": [
    "### Hit rate"
   ]
  },
  {
   "cell_type": "code",
   "execution_count": 28,
   "id": "c8b97960",
   "metadata": {
    "ExecuteTime": {
     "end_time": "2022-07-07T13:30:14.411945Z",
     "start_time": "2022-07-07T13:30:13.858854Z"
    }
   },
   "outputs": [
    {
     "data": {
      "application/vnd.jupyter.widget-view+json": {
       "model_id": "415e3b83c20e420d9bb23142baea8c42",
       "version_major": 2,
       "version_minor": 0
      },
      "text/plain": [
       "interactive(children=(ToggleButtons(description='Sort by:', options=('x', 'y', 'ci_low', 'ci_high', False), vaÃÂÃÂ¢ÃÂÃÂÃÂÃÂ¦"
      ]
     },
     "metadata": {},
     "output_type": "display_data"
    }
   ],
   "source": [
    "hits_by_prediction_magnitude = calculate_hit_rate_with_CI(\n",
    "    metrics_df_reset_index, prediction_magnitude, hit\n",
    ")\n",
    "plot_bars_with_widget(\n",
    "    hits_by_prediction_magnitude,\n",
    "    \"avg_hit_rate\",\n",
    "    y_min_lim_hit_rate,\n",
    "    y_max_lim_hit_rate,\n",
    ")"
   ]
  },
  {
   "cell_type": "markdown",
   "id": "fbe1e578",
   "metadata": {
    "ExecuteTime": {
     "end_time": "2022-06-14T11:50:54.479960Z",
     "start_time": "2022-06-14T11:50:54.436323Z"
    }
   },
   "source": [
    "### PnL"
   ]
  },
  {
   "cell_type": "code",
   "execution_count": 29,
   "id": "311cd7f9",
   "metadata": {
    "ExecuteTime": {
     "end_time": "2022-07-07T13:30:14.792920Z",
     "start_time": "2022-07-07T13:30:14.413838Z"
    }
   },
   "outputs": [
    {
     "data": {
      "application/vnd.jupyter.widget-view+json": {
       "model_id": "4fc484dac88247c5a555b20d12f481be",
       "version_major": 2,
       "version_minor": 0
      },
      "text/plain": [
       "interactive(children=(ToggleButtons(description='Sort by:', options=('x', 'y', 'ci_low', 'ci_high', False), vaÃÂÃÂ¢ÃÂÃÂÃÂÃÂ¦"
      ]
     },
     "metadata": {},
     "output_type": "display_data"
    }
   ],
   "source": [
    "pnl_by_prediction_magnitude = calculate_CI_for_PnLs_or_SR(\n",
    "    metrics_df_reset_index, prediction_magnitude, trade_pnl\n",
    ")\n",
    "# TODO(Max): infer y-limits automatically.\n",
    "plot_bars_with_widget(pnl_by_prediction_magnitude, \"avg_pnl\", 0, 0.01)"
   ]
  },
  {
   "cell_type": "markdown",
   "id": "82a47a31",
   "metadata": {},
   "source": [
    "### Sharpe Ratio"
   ]
  },
  {
   "cell_type": "code",
   "execution_count": 30,
   "id": "505a805f",
   "metadata": {
    "ExecuteTime": {
     "end_time": "2022-07-07T13:30:50.444990Z",
     "start_time": "2022-07-07T13:30:14.794601Z"
    }
   },
   "outputs": [
    {
     "data": {
      "application/vnd.jupyter.widget-view+json": {
       "model_id": "6608f6d17ce546839910303ddfe161c1",
       "version_major": 2,
       "version_minor": 0
      },
      "text/plain": [
       "interactive(children=(ToggleButtons(description='Sort by:', options=('x', 'y', 'ci_low', 'ci_high', False), vaÃÂÃÂ¢ÃÂÃÂÃÂÃÂ¦"
      ]
     },
     "metadata": {},
     "output_type": "display_data"
    }
   ],
   "source": [
    "# Compute bootstrapped Sharpe Ratio.\n",
    "sr_by_prediction_magnitude = compute_sharpe_ratio(\n",
    "    config, metrics_df_reset_index, prediction_magnitude\n",
    ")\n",
    "# Add CIs and errors.\n",
    "sr_ci_by_prediction_magnitude = calculate_CI_for_PnLs_or_SR(\n",
    "    sr_by_prediction_magnitude, prediction_magnitude, \"sharpe_ratio\"\n",
    ")\n",
    "# Visualize results.\n",
    "plot_bars_with_widget(sr_ci_by_prediction_magnitude, \"sharpe_ratio\", -1, 12)"
   ]
  },
  {
   "cell_type": "markdown",
   "id": "1b689693",
   "metadata": {},
   "source": [
    "## By volume"
   ]
  },
  {
   "cell_type": "code",
   "execution_count": 31,
   "id": "eecade72",
   "metadata": {
    "ExecuteTime": {
     "end_time": "2022-07-07T13:30:50.792046Z",
     "start_time": "2022-07-07T13:30:50.446942Z"
    }
   },
   "outputs": [],
   "source": [
    "volume_quantile = \".\".join([volume, \"quantile_rank\"])\n",
    "metrics_df_reset_index[volume_quantile] = metrics_df_reset_index.groupby(\n",
    "    asset_id\n",
    ")[volume].transform(lambda x: pd.qcut(x, quantile_ranks, labels=False))"
   ]
  },
  {
   "cell_type": "markdown",
   "id": "f6c7b2ad",
   "metadata": {},
   "source": [
    "### Hit rate"
   ]
  },
  {
   "cell_type": "code",
   "execution_count": 32,
   "id": "3de4c8d0",
   "metadata": {
    "ExecuteTime": {
     "end_time": "2022-07-07T13:30:51.222984Z",
     "start_time": "2022-07-07T13:30:50.794013Z"
    }
   },
   "outputs": [
    {
     "data": {
      "application/vnd.jupyter.widget-view+json": {
       "model_id": "c119f8fe1efc455cabd2042159a8e192",
       "version_major": 2,
       "version_minor": 0
      },
      "text/plain": [
       "interactive(children=(ToggleButtons(description='Sort by:', options=('x', 'y', 'ci_low', 'ci_high', False), vaÃÂÃÂ¢ÃÂÃÂÃÂÃÂ¦"
      ]
     },
     "metadata": {},
     "output_type": "display_data"
    }
   ],
   "source": [
    "hits_by_volume = calculate_hit_rate_with_CI(\n",
    "    metrics_df_reset_index, volume_quantile, hit\n",
    ")\n",
    "plot_bars_with_widget(\n",
    "    hits_by_volume, \"avg_hit_rate\", y_min_lim_hit_rate, y_max_lim_hit_rate\n",
    ")"
   ]
  },
  {
   "cell_type": "markdown",
   "id": "34dc2c05",
   "metadata": {},
   "source": [
    "### PnL"
   ]
  },
  {
   "cell_type": "code",
   "execution_count": 33,
   "id": "dc998b0d",
   "metadata": {
    "ExecuteTime": {
     "end_time": "2022-07-07T13:30:51.614993Z",
     "start_time": "2022-07-07T13:30:51.224845Z"
    }
   },
   "outputs": [
    {
     "data": {
      "application/vnd.jupyter.widget-view+json": {
       "model_id": "b8ec5101e894471a88150438920186c3",
       "version_major": 2,
       "version_minor": 0
      },
      "text/plain": [
       "interactive(children=(ToggleButtons(description='Sort by:', options=('x', 'y', 'ci_low', 'ci_high', False), vaÃÂÃÂ¢ÃÂÃÂÃÂÃÂ¦"
      ]
     },
     "metadata": {},
     "output_type": "display_data"
    }
   ],
   "source": [
    "pnl_by_volume = calculate_CI_for_PnLs_or_SR(\n",
    "    metrics_df_reset_index, volume_quantile, trade_pnl\n",
    ")\n",
    "# TODO(Max): infer y-limits automatically.\n",
    "plot_bars_with_widget(pnl_by_volume, \"avg_pnl\", 0.0005, 0.0045)"
   ]
  },
  {
   "cell_type": "markdown",
   "id": "763d33da",
   "metadata": {},
   "source": [
    "### Sharpe Ratio"
   ]
  },
  {
   "cell_type": "code",
   "execution_count": 34,
   "id": "100442f0",
   "metadata": {
    "ExecuteTime": {
     "end_time": "2022-07-07T13:31:28.360569Z",
     "start_time": "2022-07-07T13:30:51.617441Z"
    }
   },
   "outputs": [
    {
     "data": {
      "application/vnd.jupyter.widget-view+json": {
       "model_id": "0354da4e314746d7bfa62838e9fac9c2",
       "version_major": 2,
       "version_minor": 0
      },
      "text/plain": [
       "interactive(children=(ToggleButtons(description='Sort by:', options=('x', 'y', 'ci_low', 'ci_high', False), vaÃÂÃÂ¢ÃÂÃÂÃÂÃÂ¦"
      ]
     },
     "metadata": {},
     "output_type": "display_data"
    }
   ],
   "source": [
    "# Compute bootstrapped Sharpe Ratio.\n",
    "sr_by_volume_quantile = compute_sharpe_ratio(\n",
    "    config, metrics_df_reset_index, volume_quantile\n",
    ")\n",
    "# Add CIs and errors.\n",
    "sr_ci_by_volume_quantile = calculate_CI_for_PnLs_or_SR(\n",
    "    sr_by_volume_quantile, volume_quantile, \"sharpe_ratio\"\n",
    ")\n",
    "# Visualize results.\n",
    "plot_bars_with_widget(sr_ci_by_volume_quantile, \"sharpe_ratio\", 0, 9)"
   ]
  }
 ],
 "metadata": {
  "kernelspec": {
   "display_name": "Python 3 (ipykernel)",
   "language": "python",
   "name": "python3"
  },
  "language_info": {
   "codemirror_mode": {
    "name": "ipython",
    "version": 3
   },
   "file_extension": ".py",
   "mimetype": "text/x-python",
   "name": "python",
   "nbconvert_exporter": "python",
   "pygments_lexer": "ipython3",
   "version": "3.8.10"
  },
  "toc": {
   "base_numbering": 1,
   "nav_menu": {},
   "number_sections": true,
   "sideBar": true,
   "skip_h1_title": false,
   "title_cell": "Table of Contents",
   "title_sidebar": "Contents",
   "toc_cell": false,
   "toc_position": {
    "height": "calc(100% - 180px)",
    "left": "10px",
    "top": "150px",
    "width": "165px"
   },
   "toc_section_display": true,
   "toc_window_display": true
  }
 },
 "nbformat": 4,
 "nbformat_minor": 5
}
