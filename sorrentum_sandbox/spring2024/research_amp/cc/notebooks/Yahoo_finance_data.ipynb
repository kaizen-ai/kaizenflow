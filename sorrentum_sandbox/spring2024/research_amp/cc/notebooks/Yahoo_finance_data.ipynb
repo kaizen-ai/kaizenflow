{
 "cells": [
  {
   "cell_type": "code",
   "execution_count": 1,
   "id": "7b1aedb3",
   "metadata": {
    "ExecuteTime": {
     "end_time": "2023-09-11T13:12:09.375732Z",
     "start_time": "2023-09-11T13:12:00.847788Z"
    }
   },
   "outputs": [
    {
     "name": "stderr",
     "output_type": "stream",
     "text": [
      "/app/amp/core/statistics/random_samples.py:12: TqdmExperimentalWarning: Using `tqdm.autonotebook.tqdm` in notebook mode. Use `tqdm.tqdm` instead to force console mode (e.g. in jupyter console)\n",
      "  from tqdm.autonotebook import tqdm\n"
     ]
    }
   ],
   "source": [
    "%load_ext autoreload\n",
    "%autoreload 2\n",
    "\n",
    "import logging\n",
    "import sys\n",
    "\n",
    "import numpy as np\n",
    "import pandas as pd\n",
    "\n",
    "import core.config as cconfig\n",
    "import core.finance as cofinanc\n",
    "import core.plotting as coplotti\n",
    "import core.statistics as costatis\n",
    "import helpers.hdbg as hdbg\n",
    "import helpers.henv as henv\n",
    "import helpers.hpandas as hpandas\n",
    "import helpers.hprint as hprint"
   ]
  },
  {
   "cell_type": "code",
   "execution_count": 2,
   "id": "54fc7ddb",
   "metadata": {
    "ExecuteTime": {
     "end_time": "2023-09-11T13:12:09.678488Z",
     "start_time": "2023-09-11T13:12:09.378784Z"
    }
   },
   "outputs": [
    {
     "name": "stdout",
     "output_type": "stream",
     "text": [
      "\u001b[0m\u001b[36mINFO\u001b[0m: > cmd='/venv/lib/python3.8/site-packages/ipykernel_launcher.py -f /home/.local/share/jupyter/runtime/kernel-dfc01f1f-fd70-41bf-807b-12b73d25b2b4.json'\n",
      "WARNING: Running in Jupyter\n",
      "INFO  # Git\n",
      "  branch_name='master'\n",
      "  hash='825e419ec'\n",
      "  # Last commits:\n",
      "    * 825e419ec Toma Jordania CmTask5290: sync_wait_until2 -> sync_wait_until (#5315)           (50 minutes ago) Mon Sep 11 12:21:53 2023  (HEAD -> master, origin/master, origin/HEAD)\n",
      "    * 0ecb158b2 DanilYachmenev Cm task4873 allow config overrides when running a historical backtest (#5054) (  17 hours ago) Sun Sep 10 20:19:51 2023           \n",
      "    * 8b071bb20 Sonaal   run linter (#5344)                                                (    2 days ago) Sat Sep 9 01:53:19 2023           \n",
      "# Machine info\n",
      "  system=Linux\n",
      "  node name=d76eef28c2ee\n",
      "  release=5.15.0-1043-aws\n",
      "  version=#48~20.04.1-Ubuntu SMP Wed Aug 16 18:26:32 UTC 2023\n",
      "  machine=x86_64\n",
      "  processor=x86_64\n",
      "  cpu count=8\n",
      "  cpu freq=scpufreq(current=2500.0040000000004, min=0.0, max=0.0)\n",
      "  memory=svmem(total=33280282624, available=22102376448, percent=33.6, used=10678497280, free=13242204160, active=4799557632, inactive=13127766016, buffers=1776623616, cached=7582957568, shared=24137728, slab=1812688896)\n",
      "  disk usage=sdiskusage(total=156052275200, used=48192557056, free=107842940928, percent=30.9)\n",
      "# Packages\n",
      "  python: 3.8.10\n",
      "  cvxopt: 1.3.2\n",
      "  cvxpy: 1.3.2\n",
      "  gluonnlp: ?\n",
      "  gluonts: 0.6.7\n",
      "  joblib: 1.3.2\n",
      "  mxnet: 1.9.1\n",
      "  numpy: 1.20.3\n",
      "  pandas: 1.5.1\n",
      "  pyarrow: 10.0.0\n",
      "  scipy: 1.10.1\n",
      "  seaborn: 0.12.2\n",
      "  sklearn: 1.3.0\n",
      "  statsmodels: 0.14.0\n"
     ]
    }
   ],
   "source": [
    "hdbg.init_logger(verbosity=logging.INFO)\n",
    "\n",
    "_LOG = logging.getLogger(__name__)\n",
    "\n",
    "_LOG.info(\"%s\", henv.get_system_signature()[0])\n",
    "\n",
    "hprint.config_notebook()"
   ]
  },
  {
   "cell_type": "markdown",
   "id": "46abc93b",
   "metadata": {},
   "source": [
    "# Package `pandas-datareader`"
   ]
  },
  {
   "cell_type": "code",
   "execution_count": 4,
   "id": "9310c510",
   "metadata": {
    "ExecuteTime": {
     "end_time": "2023-09-11T13:12:16.954601Z",
     "start_time": "2023-09-11T13:12:12.498316Z"
    }
   },
   "outputs": [
    {
     "name": "stdout",
     "output_type": "stream",
     "text": [
      "Requirement already up-to-date: pandas_datareader in /venv/lib/python3.8/site-packages (0.10.0)\n",
      "Requirement already satisfied, skipping upgrade: requests>=2.19.0 in /venv/lib/python3.8/site-packages (from pandas_datareader) (2.31.0)\n",
      "Requirement already satisfied, skipping upgrade: pandas>=0.23 in /venv/lib/python3.8/site-packages (from pandas_datareader) (1.5.1)\n",
      "Requirement already satisfied, skipping upgrade: lxml in /venv/lib/python3.8/site-packages (from pandas_datareader) (4.9.3)\n",
      "Requirement already satisfied, skipping upgrade: charset-normalizer<4,>=2 in /venv/lib/python3.8/site-packages (from requests>=2.19.0->pandas_datareader) (3.2.0)\n",
      "Requirement already satisfied, skipping upgrade: certifi>=2017.4.17 in /venv/lib/python3.8/site-packages (from requests>=2.19.0->pandas_datareader) (2023.7.22)\n",
      "Requirement already satisfied, skipping upgrade: urllib3<3,>=1.21.1 in /venv/lib/python3.8/site-packages (from requests>=2.19.0->pandas_datareader) (1.26.16)\n",
      "Requirement already satisfied, skipping upgrade: idna<4,>=2.5 in /venv/lib/python3.8/site-packages (from requests>=2.19.0->pandas_datareader) (3.4)\n",
      "Requirement already satisfied, skipping upgrade: python-dateutil>=2.8.1 in /venv/lib/python3.8/site-packages (from pandas>=0.23->pandas_datareader) (2.8.2)\n",
      "Requirement already satisfied, skipping upgrade: numpy>=1.20.3; python_version < \"3.10\" in /venv/lib/python3.8/site-packages (from pandas>=0.23->pandas_datareader) (1.20.3)\n",
      "Requirement already satisfied, skipping upgrade: pytz>=2020.1 in /venv/lib/python3.8/site-packages (from pandas>=0.23->pandas_datareader) (2023.3)\n",
      "Requirement already satisfied, skipping upgrade: six>=1.5 in /venv/lib/python3.8/site-packages (from python-dateutil>=2.8.1->pandas>=0.23->pandas_datareader) (1.16.0)\n"
     ]
    }
   ],
   "source": [
    "!sudo {sys.executable} -m pip install --upgrade pandas_datareader"
   ]
  },
  {
   "cell_type": "code",
   "execution_count": 5,
   "id": "2d285093",
   "metadata": {
    "ExecuteTime": {
     "end_time": "2023-09-11T13:12:17.013924Z",
     "start_time": "2023-09-11T13:12:16.957637Z"
    }
   },
   "outputs": [],
   "source": [
    "import pandas_datareader as pdr"
   ]
  },
  {
   "cell_type": "code",
   "execution_count": 6,
   "id": "20a3c6d8",
   "metadata": {
    "ExecuteTime": {
     "end_time": "2023-09-11T13:12:17.060133Z",
     "start_time": "2023-09-11T13:12:17.016589Z"
    }
   },
   "outputs": [
    {
     "data": {
      "text/plain": [
       "'0.10.0'"
      ]
     },
     "execution_count": 6,
     "metadata": {},
     "output_type": "execute_result"
    }
   ],
   "source": [
    "pdr.__version__"
   ]
  },
  {
   "cell_type": "code",
   "execution_count": 7,
   "id": "f4cf47ca",
   "metadata": {
    "ExecuteTime": {
     "end_time": "2023-09-11T13:12:18.701472Z",
     "start_time": "2023-09-11T13:12:17.062502Z"
    }
   },
   "outputs": [
    {
     "ename": "RemoteDataError",
     "evalue": "Unable to read URL: https://query1.finance.yahoo.com/v7/finance/quote?symbols=MSFT&lang=en-US&corsDomain=finance.yahoo.com&.tsrc=finance\nResponse Text:\nb'{\"finance\":{\"result\":null,\"error\":{\"code\":\"Unauthorized\",\"description\":\"Invalid Cookie\"}}}'",
     "output_type": "error",
     "traceback": [
      "\u001b[0;31m---------------------------------------------------------------------------\u001b[0m",
      "\u001b[0;31mRemoteDataError\u001b[0m                           Traceback (most recent call last)",
      "Cell \u001b[0;32mIn[7], line 1\u001b[0m\n\u001b[0;32m----> 1\u001b[0m \u001b[43mpdr\u001b[49m\u001b[38;5;241;43m.\u001b[39;49m\u001b[43mget_quote_yahoo\u001b[49m\u001b[43m(\u001b[49m\u001b[38;5;124;43m\"\u001b[39;49m\u001b[38;5;124;43mMSFT\u001b[39;49m\u001b[38;5;124;43m\"\u001b[39;49m\u001b[43m)\u001b[49m\n",
      "File \u001b[0;32m/venv/lib/python3.8/site-packages/pandas_datareader/data.py:96\u001b[0m, in \u001b[0;36mget_quote_yahoo\u001b[0;34m(*args, **kwargs)\u001b[0m\n\u001b[1;32m     95\u001b[0m \u001b[38;5;28;01mdef\u001b[39;00m \u001b[38;5;21mget_quote_yahoo\u001b[39m(\u001b[38;5;241m*\u001b[39margs, \u001b[38;5;241m*\u001b[39m\u001b[38;5;241m*\u001b[39mkwargs):\n\u001b[0;32m---> 96\u001b[0m     \u001b[38;5;28;01mreturn\u001b[39;00m \u001b[43mYahooQuotesReader\u001b[49m\u001b[43m(\u001b[49m\u001b[38;5;241;43m*\u001b[39;49m\u001b[43margs\u001b[49m\u001b[43m,\u001b[49m\u001b[43m \u001b[49m\u001b[38;5;241;43m*\u001b[39;49m\u001b[38;5;241;43m*\u001b[39;49m\u001b[43mkwargs\u001b[49m\u001b[43m)\u001b[49m\u001b[38;5;241;43m.\u001b[39;49m\u001b[43mread\u001b[49m\u001b[43m(\u001b[49m\u001b[43m)\u001b[49m\n",
      "File \u001b[0;32m/venv/lib/python3.8/site-packages/pandas_datareader/yahoo/quotes.py:49\u001b[0m, in \u001b[0;36mYahooQuotesReader.read\u001b[0;34m(self)\u001b[0m\n\u001b[1;32m     47\u001b[0m \u001b[38;5;28;01mdef\u001b[39;00m \u001b[38;5;21mread\u001b[39m(\u001b[38;5;28mself\u001b[39m):\n\u001b[1;32m     48\u001b[0m     \u001b[38;5;28;01mif\u001b[39;00m \u001b[38;5;28misinstance\u001b[39m(\u001b[38;5;28mself\u001b[39m\u001b[38;5;241m.\u001b[39msymbols, string_types):\n\u001b[0;32m---> 49\u001b[0m         \u001b[38;5;28;01mreturn\u001b[39;00m \u001b[38;5;28;43mself\u001b[39;49m\u001b[38;5;241;43m.\u001b[39;49m\u001b[43m_read_one_data\u001b[49m\u001b[43m(\u001b[49m\u001b[38;5;28;43mself\u001b[39;49m\u001b[38;5;241;43m.\u001b[39;49m\u001b[43murl\u001b[49m\u001b[43m,\u001b[49m\u001b[43m \u001b[49m\u001b[38;5;28;43mself\u001b[39;49m\u001b[38;5;241;43m.\u001b[39;49m\u001b[43mparams\u001b[49m\u001b[43m(\u001b[49m\u001b[38;5;28;43mself\u001b[39;49m\u001b[38;5;241;43m.\u001b[39;49m\u001b[43msymbols\u001b[49m\u001b[43m)\u001b[49m\u001b[43m)\u001b[49m\n\u001b[1;32m     50\u001b[0m     \u001b[38;5;28;01melse\u001b[39;00m:\n\u001b[1;32m     51\u001b[0m         data \u001b[38;5;241m=\u001b[39m OrderedDict()\n",
      "File \u001b[0;32m/venv/lib/python3.8/site-packages/pandas_datareader/base.py:108\u001b[0m, in \u001b[0;36m_BaseReader._read_one_data\u001b[0;34m(self, url, params)\u001b[0m\n\u001b[1;32m    106\u001b[0m \u001b[38;5;250m\u001b[39m\u001b[38;5;124;03m\"\"\"read one data from specified URL\"\"\"\u001b[39;00m\n\u001b[1;32m    107\u001b[0m \u001b[38;5;28;01mif\u001b[39;00m \u001b[38;5;28mself\u001b[39m\u001b[38;5;241m.\u001b[39m_format \u001b[38;5;241m==\u001b[39m \u001b[38;5;124m\"\u001b[39m\u001b[38;5;124mstring\u001b[39m\u001b[38;5;124m\"\u001b[39m:\n\u001b[0;32m--> 108\u001b[0m     out \u001b[38;5;241m=\u001b[39m \u001b[38;5;28;43mself\u001b[39;49m\u001b[38;5;241;43m.\u001b[39;49m\u001b[43m_read_url_as_StringIO\u001b[49m\u001b[43m(\u001b[49m\u001b[43murl\u001b[49m\u001b[43m,\u001b[49m\u001b[43m \u001b[49m\u001b[43mparams\u001b[49m\u001b[38;5;241;43m=\u001b[39;49m\u001b[43mparams\u001b[49m\u001b[43m)\u001b[49m\n\u001b[1;32m    109\u001b[0m \u001b[38;5;28;01melif\u001b[39;00m \u001b[38;5;28mself\u001b[39m\u001b[38;5;241m.\u001b[39m_format \u001b[38;5;241m==\u001b[39m \u001b[38;5;124m\"\u001b[39m\u001b[38;5;124mjson\u001b[39m\u001b[38;5;124m\"\u001b[39m:\n\u001b[1;32m    110\u001b[0m     out \u001b[38;5;241m=\u001b[39m \u001b[38;5;28mself\u001b[39m\u001b[38;5;241m.\u001b[39m_get_response(url, params\u001b[38;5;241m=\u001b[39mparams)\u001b[38;5;241m.\u001b[39mjson()\n",
      "File \u001b[0;32m/venv/lib/python3.8/site-packages/pandas_datareader/base.py:119\u001b[0m, in \u001b[0;36m_BaseReader._read_url_as_StringIO\u001b[0;34m(self, url, params)\u001b[0m\n\u001b[1;32m    115\u001b[0m \u001b[38;5;28;01mdef\u001b[39;00m \u001b[38;5;21m_read_url_as_StringIO\u001b[39m(\u001b[38;5;28mself\u001b[39m, url, params\u001b[38;5;241m=\u001b[39m\u001b[38;5;28;01mNone\u001b[39;00m):\n\u001b[1;32m    116\u001b[0m \u001b[38;5;250m    \u001b[39m\u001b[38;5;124;03m\"\"\"\u001b[39;00m\n\u001b[1;32m    117\u001b[0m \u001b[38;5;124;03m    Open url (and retry)\u001b[39;00m\n\u001b[1;32m    118\u001b[0m \u001b[38;5;124;03m    \"\"\"\u001b[39;00m\n\u001b[0;32m--> 119\u001b[0m     response \u001b[38;5;241m=\u001b[39m \u001b[38;5;28;43mself\u001b[39;49m\u001b[38;5;241;43m.\u001b[39;49m\u001b[43m_get_response\u001b[49m\u001b[43m(\u001b[49m\u001b[43murl\u001b[49m\u001b[43m,\u001b[49m\u001b[43m \u001b[49m\u001b[43mparams\u001b[49m\u001b[38;5;241;43m=\u001b[39;49m\u001b[43mparams\u001b[49m\u001b[43m)\u001b[49m\n\u001b[1;32m    120\u001b[0m     text \u001b[38;5;241m=\u001b[39m \u001b[38;5;28mself\u001b[39m\u001b[38;5;241m.\u001b[39m_sanitize_response(response)\n\u001b[1;32m    121\u001b[0m     out \u001b[38;5;241m=\u001b[39m StringIO()\n",
      "File \u001b[0;32m/venv/lib/python3.8/site-packages/pandas_datareader/base.py:181\u001b[0m, in \u001b[0;36m_BaseReader._get_response\u001b[0;34m(self, url, params, headers)\u001b[0m\n\u001b[1;32m    178\u001b[0m \u001b[38;5;28;01mif\u001b[39;00m last_response_text:\n\u001b[1;32m    179\u001b[0m     msg \u001b[38;5;241m+\u001b[39m\u001b[38;5;241m=\u001b[39m \u001b[38;5;124m\"\u001b[39m\u001b[38;5;130;01m\\n\u001b[39;00m\u001b[38;5;124mResponse Text:\u001b[39m\u001b[38;5;130;01m\\n\u001b[39;00m\u001b[38;5;132;01m{0}\u001b[39;00m\u001b[38;5;124m\"\u001b[39m\u001b[38;5;241m.\u001b[39mformat(last_response_text)\n\u001b[0;32m--> 181\u001b[0m \u001b[38;5;28;01mraise\u001b[39;00m RemoteDataError(msg)\n",
      "\u001b[0;31mRemoteDataError\u001b[0m: Unable to read URL: https://query1.finance.yahoo.com/v7/finance/quote?symbols=MSFT&lang=en-US&corsDomain=finance.yahoo.com&.tsrc=finance\nResponse Text:\nb'{\"finance\":{\"result\":null,\"error\":{\"code\":\"Unauthorized\",\"description\":\"Invalid Cookie\"}}}'"
     ]
    }
   ],
   "source": [
    "pdr.get_quote_yahoo(\"MSFT\")"
   ]
  },
  {
   "cell_type": "code",
   "execution_count": 10,
   "id": "f7744252",
   "metadata": {
    "ExecuteTime": {
     "end_time": "2023-09-11T13:13:51.182227Z",
     "start_time": "2023-09-11T13:13:49.736782Z"
    }
   },
   "outputs": [
    {
     "name": "stderr",
     "output_type": "stream",
     "text": [
      "/tmp/ipykernel_38658/1269081905.py:14: FutureWarning: the 'access_key'' keyword is deprecated, use 'api_key' instead.\n",
      "  df = pdr.DataReader(\n"
     ]
    },
    {
     "ename": "TypeError",
     "evalue": "string indices must be integers",
     "output_type": "error",
     "traceback": [
      "\u001b[0;31m---------------------------------------------------------------------------\u001b[0m",
      "\u001b[0;31mTypeError\u001b[0m                                 Traceback (most recent call last)",
      "Cell \u001b[0;32mIn[10], line 14\u001b[0m\n\u001b[1;32m     11\u001b[0m url \u001b[38;5;241m=\u001b[39m \u001b[38;5;124m'\u001b[39m\u001b[38;5;124mhttps://query1.finance.yahoo.com/v7/finance/download/\u001b[39m\u001b[38;5;132;01m{}\u001b[39;00m\u001b[38;5;124m?period1=\u001b[39m\u001b[38;5;132;01m{}\u001b[39;00m\u001b[38;5;124m&period2=\u001b[39m\u001b[38;5;132;01m{}\u001b[39;00m\u001b[38;5;124m&interval=1d&events=history\u001b[39m\u001b[38;5;124m'\u001b[39m\u001b[38;5;241m.\u001b[39mformat(ticker, start_date, end_date)\n\u001b[1;32m     13\u001b[0m \u001b[38;5;66;03m# Use Python Pandas Datareader to retrieve data from the new URL\u001b[39;00m\n\u001b[0;32m---> 14\u001b[0m df \u001b[38;5;241m=\u001b[39m \u001b[43mpdr\u001b[49m\u001b[38;5;241;43m.\u001b[39;49m\u001b[43mDataReader\u001b[49m\u001b[43m(\u001b[49m\n\u001b[1;32m     15\u001b[0m \u001b[43m    \u001b[49m\u001b[43mticker\u001b[49m\u001b[43m,\u001b[49m\n\u001b[1;32m     16\u001b[0m \u001b[43m    \u001b[49m\u001b[43mdata_source\u001b[49m\u001b[43m,\u001b[49m\u001b[43m \u001b[49m\n\u001b[1;32m     17\u001b[0m \u001b[43m    \u001b[49m\u001b[43mstart_date\u001b[49m\u001b[43m,\u001b[49m\n\u001b[1;32m     18\u001b[0m \u001b[43m    \u001b[49m\u001b[43mend_date\u001b[49m\u001b[43m,\u001b[49m\n\u001b[1;32m     19\u001b[0m \u001b[43m    \u001b[49m\u001b[43maccess_key\u001b[49m\u001b[38;5;241;43m=\u001b[39;49m\u001b[43murl\u001b[49m\u001b[43m,\u001b[49m\n\u001b[1;32m     20\u001b[0m \u001b[43m)\u001b[49m\n",
      "File \u001b[0;32m/venv/lib/python3.8/site-packages/pandas/util/_decorators.py:211\u001b[0m, in \u001b[0;36mdeprecate_kwarg.<locals>._deprecate_kwarg.<locals>.wrapper\u001b[0;34m(*args, **kwargs)\u001b[0m\n\u001b[1;32m    209\u001b[0m     \u001b[38;5;28;01melse\u001b[39;00m:\n\u001b[1;32m    210\u001b[0m         kwargs[new_arg_name] \u001b[38;5;241m=\u001b[39m new_arg_value\n\u001b[0;32m--> 211\u001b[0m \u001b[38;5;28;01mreturn\u001b[39;00m \u001b[43mfunc\u001b[49m\u001b[43m(\u001b[49m\u001b[38;5;241;43m*\u001b[39;49m\u001b[43margs\u001b[49m\u001b[43m,\u001b[49m\u001b[43m \u001b[49m\u001b[38;5;241;43m*\u001b[39;49m\u001b[38;5;241;43m*\u001b[39;49m\u001b[43mkwargs\u001b[49m\u001b[43m)\u001b[49m\n",
      "File \u001b[0;32m/venv/lib/python3.8/site-packages/pandas_datareader/data.py:370\u001b[0m, in \u001b[0;36mDataReader\u001b[0;34m(name, data_source, start, end, retry_count, pause, session, api_key)\u001b[0m\n\u001b[1;32m    367\u001b[0m     \u001b[38;5;28;01mraise\u001b[39;00m \u001b[38;5;167;01mNotImplementedError\u001b[39;00m(msg)\n\u001b[1;32m    369\u001b[0m \u001b[38;5;28;01mif\u001b[39;00m data_source \u001b[38;5;241m==\u001b[39m \u001b[38;5;124m\"\u001b[39m\u001b[38;5;124myahoo\u001b[39m\u001b[38;5;124m\"\u001b[39m:\n\u001b[0;32m--> 370\u001b[0m     \u001b[38;5;28;01mreturn\u001b[39;00m \u001b[43mYahooDailyReader\u001b[49m\u001b[43m(\u001b[49m\n\u001b[1;32m    371\u001b[0m \u001b[43m        \u001b[49m\u001b[43msymbols\u001b[49m\u001b[38;5;241;43m=\u001b[39;49m\u001b[43mname\u001b[49m\u001b[43m,\u001b[49m\n\u001b[1;32m    372\u001b[0m \u001b[43m        \u001b[49m\u001b[43mstart\u001b[49m\u001b[38;5;241;43m=\u001b[39;49m\u001b[43mstart\u001b[49m\u001b[43m,\u001b[49m\n\u001b[1;32m    373\u001b[0m \u001b[43m        \u001b[49m\u001b[43mend\u001b[49m\u001b[38;5;241;43m=\u001b[39;49m\u001b[43mend\u001b[49m\u001b[43m,\u001b[49m\n\u001b[1;32m    374\u001b[0m \u001b[43m        \u001b[49m\u001b[43madjust_price\u001b[49m\u001b[38;5;241;43m=\u001b[39;49m\u001b[38;5;28;43;01mFalse\u001b[39;49;00m\u001b[43m,\u001b[49m\n\u001b[1;32m    375\u001b[0m \u001b[43m        \u001b[49m\u001b[43mchunksize\u001b[49m\u001b[38;5;241;43m=\u001b[39;49m\u001b[38;5;241;43m25\u001b[39;49m\u001b[43m,\u001b[49m\n\u001b[1;32m    376\u001b[0m \u001b[43m        \u001b[49m\u001b[43mretry_count\u001b[49m\u001b[38;5;241;43m=\u001b[39;49m\u001b[43mretry_count\u001b[49m\u001b[43m,\u001b[49m\n\u001b[1;32m    377\u001b[0m \u001b[43m        \u001b[49m\u001b[43mpause\u001b[49m\u001b[38;5;241;43m=\u001b[39;49m\u001b[43mpause\u001b[49m\u001b[43m,\u001b[49m\n\u001b[1;32m    378\u001b[0m \u001b[43m        \u001b[49m\u001b[43msession\u001b[49m\u001b[38;5;241;43m=\u001b[39;49m\u001b[43msession\u001b[49m\u001b[43m,\u001b[49m\n\u001b[1;32m    379\u001b[0m \u001b[43m    \u001b[49m\u001b[43m)\u001b[49m\u001b[38;5;241;43m.\u001b[39;49m\u001b[43mread\u001b[49m\u001b[43m(\u001b[49m\u001b[43m)\u001b[49m\n\u001b[1;32m    381\u001b[0m \u001b[38;5;28;01melif\u001b[39;00m data_source \u001b[38;5;241m==\u001b[39m \u001b[38;5;124m\"\u001b[39m\u001b[38;5;124miex\u001b[39m\u001b[38;5;124m\"\u001b[39m:\n\u001b[1;32m    382\u001b[0m     \u001b[38;5;28;01mreturn\u001b[39;00m IEXDailyReader(\n\u001b[1;32m    383\u001b[0m         symbols\u001b[38;5;241m=\u001b[39mname,\n\u001b[1;32m    384\u001b[0m         start\u001b[38;5;241m=\u001b[39mstart,\n\u001b[0;32m   (...)\u001b[0m\n\u001b[1;32m    390\u001b[0m         session\u001b[38;5;241m=\u001b[39msession,\n\u001b[1;32m    391\u001b[0m     )\u001b[38;5;241m.\u001b[39mread()\n",
      "File \u001b[0;32m/venv/lib/python3.8/site-packages/pandas_datareader/base.py:253\u001b[0m, in \u001b[0;36m_DailyBaseReader.read\u001b[0;34m(self)\u001b[0m\n\u001b[1;32m    251\u001b[0m \u001b[38;5;66;03m# If a single symbol, (e.g., 'GOOG')\u001b[39;00m\n\u001b[1;32m    252\u001b[0m \u001b[38;5;28;01mif\u001b[39;00m \u001b[38;5;28misinstance\u001b[39m(\u001b[38;5;28mself\u001b[39m\u001b[38;5;241m.\u001b[39msymbols, (string_types, \u001b[38;5;28mint\u001b[39m)):\n\u001b[0;32m--> 253\u001b[0m     df \u001b[38;5;241m=\u001b[39m \u001b[38;5;28;43mself\u001b[39;49m\u001b[38;5;241;43m.\u001b[39;49m\u001b[43m_read_one_data\u001b[49m\u001b[43m(\u001b[49m\u001b[38;5;28;43mself\u001b[39;49m\u001b[38;5;241;43m.\u001b[39;49m\u001b[43murl\u001b[49m\u001b[43m,\u001b[49m\u001b[43m \u001b[49m\u001b[43mparams\u001b[49m\u001b[38;5;241;43m=\u001b[39;49m\u001b[38;5;28;43mself\u001b[39;49m\u001b[38;5;241;43m.\u001b[39;49m\u001b[43m_get_params\u001b[49m\u001b[43m(\u001b[49m\u001b[38;5;28;43mself\u001b[39;49m\u001b[38;5;241;43m.\u001b[39;49m\u001b[43msymbols\u001b[49m\u001b[43m)\u001b[49m\u001b[43m)\u001b[49m\n\u001b[1;32m    254\u001b[0m \u001b[38;5;66;03m# Or multiple symbols, (e.g., ['GOOG', 'AAPL', 'MSFT'])\u001b[39;00m\n\u001b[1;32m    255\u001b[0m \u001b[38;5;28;01melif\u001b[39;00m \u001b[38;5;28misinstance\u001b[39m(\u001b[38;5;28mself\u001b[39m\u001b[38;5;241m.\u001b[39msymbols, DataFrame):\n",
      "File \u001b[0;32m/venv/lib/python3.8/site-packages/pandas_datareader/yahoo/daily.py:153\u001b[0m, in \u001b[0;36mYahooDailyReader._read_one_data\u001b[0;34m(self, url, params)\u001b[0m\n\u001b[1;32m    151\u001b[0m \u001b[38;5;28;01mtry\u001b[39;00m:\n\u001b[1;32m    152\u001b[0m     j \u001b[38;5;241m=\u001b[39m json\u001b[38;5;241m.\u001b[39mloads(re\u001b[38;5;241m.\u001b[39msearch(ptrn, resp\u001b[38;5;241m.\u001b[39mtext, re\u001b[38;5;241m.\u001b[39mDOTALL)\u001b[38;5;241m.\u001b[39mgroup(\u001b[38;5;241m1\u001b[39m))\n\u001b[0;32m--> 153\u001b[0m     data \u001b[38;5;241m=\u001b[39m \u001b[43mj\u001b[49m\u001b[43m[\u001b[49m\u001b[38;5;124;43m\"\u001b[39;49m\u001b[38;5;124;43mcontext\u001b[39;49m\u001b[38;5;124;43m\"\u001b[39;49m\u001b[43m]\u001b[49m\u001b[43m[\u001b[49m\u001b[38;5;124;43m\"\u001b[39;49m\u001b[38;5;124;43mdispatcher\u001b[39;49m\u001b[38;5;124;43m\"\u001b[39;49m\u001b[43m]\u001b[49m\u001b[43m[\u001b[49m\u001b[38;5;124;43m\"\u001b[39;49m\u001b[38;5;124;43mstores\u001b[39;49m\u001b[38;5;124;43m\"\u001b[39;49m\u001b[43m]\u001b[49m\u001b[43m[\u001b[49m\u001b[38;5;124;43m\"\u001b[39;49m\u001b[38;5;124;43mHistoricalPriceStore\u001b[39;49m\u001b[38;5;124;43m\"\u001b[39;49m\u001b[43m]\u001b[49m\n\u001b[1;32m    154\u001b[0m \u001b[38;5;28;01mexcept\u001b[39;00m \u001b[38;5;167;01mKeyError\u001b[39;00m:\n\u001b[1;32m    155\u001b[0m     msg \u001b[38;5;241m=\u001b[39m \u001b[38;5;124m\"\u001b[39m\u001b[38;5;124mNo data fetched for symbol \u001b[39m\u001b[38;5;132;01m{}\u001b[39;00m\u001b[38;5;124m using \u001b[39m\u001b[38;5;132;01m{}\u001b[39;00m\u001b[38;5;124m\"\u001b[39m\n",
      "\u001b[0;31mTypeError\u001b[0m: string indices must be integers"
     ]
    }
   ],
   "source": [
    "# https://saturncloud.io/blog/how-to-use-python-pandas-datareader-with-yahoo-finances-changed-url/\n",
    "# Define the data source\n",
    "data_source = 'yahoo'\n",
    "\n",
    "# Define the stock symbol and the date range\n",
    "ticker = 'AAPL'\n",
    "start_date = '2022-01-01'\n",
    "end_date = '2022-01-10'\n",
    "\n",
    "# Define the new URL\n",
    "url = 'https://query1.finance.yahoo.com/v7/finance/download/{}?period1={}&period2={}&interval=1d&events=history'.format(ticker, start_date, end_date)\n",
    "\n",
    "# Use Python Pandas Datareader to retrieve data from the new URL\n",
    "df = pdr.DataReader(\n",
    "    ticker,\n",
    "    data_source, \n",
    "    start_date,\n",
    "    end_date,\n",
    "    access_key=url,\n",
    ")"
   ]
  },
  {
   "cell_type": "markdown",
   "id": "560cd42b",
   "metadata": {},
   "source": [
    "# Package `yahoo_fin`"
   ]
  },
  {
   "cell_type": "code",
   "execution_count": 11,
   "id": "37419a46",
   "metadata": {
    "ExecuteTime": {
     "end_time": "2023-09-11T13:15:37.661311Z",
     "start_time": "2023-09-11T13:15:31.286203Z"
    }
   },
   "outputs": [
    {
     "name": "stdout",
     "output_type": "stream",
     "text": [
      "Collecting yahoo_fin\n",
      "  Using cached yahoo_fin-0.8.9.1-py3-none-any.whl (10 kB)\n",
      "Collecting requests-html\n",
      "  Using cached requests_html-0.10.0-py3-none-any.whl (13 kB)\n",
      "Requirement already satisfied, skipping upgrade: pandas in /venv/lib/python3.8/site-packages (from yahoo_fin) (1.5.1)\n",
      "Collecting feedparser\n",
      "  Using cached feedparser-6.0.10-py3-none-any.whl (81 kB)\n",
      "Requirement already satisfied, skipping upgrade: requests in /venv/lib/python3.8/site-packages (from yahoo_fin) (2.31.0)\n",
      "Collecting parse\n",
      "  Using cached parse-1.19.1-py2.py3-none-any.whl (18 kB)\n",
      "Collecting pyquery\n",
      "  Using cached pyquery-2.0.0-py3-none-any.whl (22 kB)\n",
      "Requirement already satisfied, skipping upgrade: bs4 in /venv/lib/python3.8/site-packages (from requests-html->yahoo_fin) (0.0.1)\n",
      "Collecting fake-useragent\n",
      "  Using cached fake_useragent-1.2.1-py3-none-any.whl (14 kB)\n",
      "Collecting pyppeteer>=0.0.14\n",
      "  Using cached pyppeteer-1.0.2-py3-none-any.whl (83 kB)\n",
      "Collecting w3lib\n",
      "  Using cached w3lib-2.1.2-py3-none-any.whl (21 kB)\n",
      "Requirement already satisfied, skipping upgrade: numpy>=1.20.3; python_version < \"3.10\" in /venv/lib/python3.8/site-packages (from pandas->yahoo_fin) (1.20.3)\n",
      "Requirement already satisfied, skipping upgrade: pytz>=2020.1 in /venv/lib/python3.8/site-packages (from pandas->yahoo_fin) (2023.3)\n",
      "Requirement already satisfied, skipping upgrade: python-dateutil>=2.8.1 in /venv/lib/python3.8/site-packages (from pandas->yahoo_fin) (2.8.2)\n",
      "Processing /root/.cache/pip/wheels/83/63/2f/117884c3b19d46b64d3d61690333aa80c88dc14050e269c546/sgmllib3k-1.0.0-py3-none-any.whl\n",
      "Requirement already satisfied, skipping upgrade: urllib3<3,>=1.21.1 in /venv/lib/python3.8/site-packages (from requests->yahoo_fin) (1.26.16)\n",
      "Requirement already satisfied, skipping upgrade: charset-normalizer<4,>=2 in /venv/lib/python3.8/site-packages (from requests->yahoo_fin) (3.2.0)\n",
      "Requirement already satisfied, skipping upgrade: certifi>=2017.4.17 in /venv/lib/python3.8/site-packages (from requests->yahoo_fin) (2023.7.22)\n",
      "Requirement already satisfied, skipping upgrade: idna<4,>=2.5 in /venv/lib/python3.8/site-packages (from requests->yahoo_fin) (3.4)\n",
      "Requirement already satisfied, skipping upgrade: lxml>=2.1 in /venv/lib/python3.8/site-packages (from pyquery->requests-html->yahoo_fin) (4.9.3)\n",
      "Collecting cssselect>=1.2.0\n",
      "  Using cached cssselect-1.2.0-py2.py3-none-any.whl (18 kB)\n",
      "Requirement already satisfied, skipping upgrade: beautifulsoup4 in /venv/lib/python3.8/site-packages (from bs4->requests-html->yahoo_fin) (4.12.2)\n",
      "Requirement already satisfied, skipping upgrade: importlib-resources>=5.0; python_version < \"3.10\" in /venv/lib/python3.8/site-packages (from fake-useragent->requests-html->yahoo_fin) (6.0.1)\n",
      "Collecting pyee<9.0.0,>=8.1.0\n",
      "  Using cached pyee-8.2.2-py2.py3-none-any.whl (12 kB)\n",
      "Collecting websockets<11.0,>=10.0\n",
      "  Using cached websockets-10.4-cp38-cp38-manylinux_2_5_x86_64.manylinux1_x86_64.manylinux_2_17_x86_64.manylinux2014_x86_64.whl (106 kB)\n",
      "Requirement already satisfied, skipping upgrade: tqdm<5.0.0,>=4.42.1 in /venv/lib/python3.8/site-packages (from pyppeteer>=0.0.14->requests-html->yahoo_fin) (4.66.1)\n",
      "Collecting appdirs<2.0.0,>=1.4.3\n",
      "  Using cached appdirs-1.4.4-py2.py3-none-any.whl (9.6 kB)\n",
      "Requirement already satisfied, skipping upgrade: importlib-metadata>=1.4 in /venv/lib/python3.8/site-packages (from pyppeteer>=0.0.14->requests-html->yahoo_fin) (6.8.0)\n",
      "Requirement already satisfied, skipping upgrade: six>=1.5 in /venv/lib/python3.8/site-packages (from python-dateutil>=2.8.1->pandas->yahoo_fin) (1.16.0)\n",
      "Requirement already satisfied, skipping upgrade: soupsieve>1.2 in /venv/lib/python3.8/site-packages (from beautifulsoup4->bs4->requests-html->yahoo_fin) (2.4.1)\n",
      "Requirement already satisfied, skipping upgrade: zipp>=3.1.0; python_version < \"3.10\" in /venv/lib/python3.8/site-packages (from importlib-resources>=5.0; python_version < \"3.10\"->fake-useragent->requests-html->yahoo_fin) (3.16.2)\n",
      "Installing collected packages: parse, cssselect, pyquery, fake-useragent, pyee, websockets, appdirs, pyppeteer, w3lib, requests-html, sgmllib3k, feedparser, yahoo-fin\n",
      "Successfully installed appdirs-1.4.4 cssselect-1.2.0 fake-useragent-1.2.1 feedparser-6.0.10 parse-1.19.1 pyee-8.2.2 pyppeteer-1.0.2 pyquery-2.0.0 requests-html-0.10.0 sgmllib3k-1.0.0 w3lib-2.1.2 websockets-10.4 yahoo-fin-0.8.9.1\n"
     ]
    }
   ],
   "source": [
    "# https://theautomatic.net/2018/01/25/coding-yahoo_fin-package/\n",
    "!sudo {sys.executable} -m pip install --upgrade yahoo_fin"
   ]
  },
  {
   "cell_type": "code",
   "execution_count": 12,
   "id": "210055b6",
   "metadata": {
    "ExecuteTime": {
     "end_time": "2023-09-11T13:15:43.217986Z",
     "start_time": "2023-09-11T13:15:42.934098Z"
    }
   },
   "outputs": [],
   "source": [
    "import yahoo_fin as yfin"
   ]
  },
  {
   "cell_type": "code",
   "execution_count": 16,
   "id": "d5c0e470",
   "metadata": {
    "ExecuteTime": {
     "end_time": "2023-09-11T13:17:10.763704Z",
     "start_time": "2023-09-11T13:17:10.712274Z"
    }
   },
   "outputs": [],
   "source": [
    "import yahoo_fin.stock_info as si"
   ]
  },
  {
   "cell_type": "code",
   "execution_count": 19,
   "id": "4192e2a5",
   "metadata": {
    "ExecuteTime": {
     "end_time": "2023-09-11T13:17:40.624496Z",
     "start_time": "2023-09-11T13:17:40.499799Z"
    }
   },
   "outputs": [],
   "source": [
    "amzn = si.get_data(\"amzn\", start_date = \"01/01/2017\", end_date = \"01/31/2017\")"
   ]
  },
  {
   "cell_type": "code",
   "execution_count": 20,
   "id": "65c826a8",
   "metadata": {
    "ExecuteTime": {
     "end_time": "2023-09-11T13:17:42.547879Z",
     "start_time": "2023-09-11T13:17:42.451889Z"
    }
   },
   "outputs": [
    {
     "data": {
      "text/html": [
       "<div>\n",
       "<style scoped>\n",
       "    .dataframe tbody tr th:only-of-type {\n",
       "        vertical-align: middle;\n",
       "    }\n",
       "\n",
       "    .dataframe tbody tr th {\n",
       "        vertical-align: top;\n",
       "    }\n",
       "\n",
       "    .dataframe thead th {\n",
       "        text-align: right;\n",
       "    }\n",
       "</style>\n",
       "<table border=\"1\" class=\"dataframe\">\n",
       "  <thead>\n",
       "    <tr style=\"text-align: right;\">\n",
       "      <th></th>\n",
       "      <th>open</th>\n",
       "      <th>high</th>\n",
       "      <th>low</th>\n",
       "      <th>close</th>\n",
       "      <th>adjclose</th>\n",
       "      <th>volume</th>\n",
       "      <th>ticker</th>\n",
       "    </tr>\n",
       "  </thead>\n",
       "  <tbody>\n",
       "    <tr>\n",
       "      <th>2017-01-03</th>\n",
       "      <td>37.896000</td>\n",
       "      <td>37.938000</td>\n",
       "      <td>37.384998</td>\n",
       "      <td>37.683498</td>\n",
       "      <td>37.683498</td>\n",
       "      <td>70422000</td>\n",
       "      <td>AMZN</td>\n",
       "    </tr>\n",
       "    <tr>\n",
       "      <th>2017-01-04</th>\n",
       "      <td>37.919498</td>\n",
       "      <td>37.984001</td>\n",
       "      <td>37.709999</td>\n",
       "      <td>37.859001</td>\n",
       "      <td>37.859001</td>\n",
       "      <td>50210000</td>\n",
       "      <td>AMZN</td>\n",
       "    </tr>\n",
       "    <tr>\n",
       "      <th>2017-01-05</th>\n",
       "      <td>38.077499</td>\n",
       "      <td>39.119999</td>\n",
       "      <td>38.013000</td>\n",
       "      <td>39.022499</td>\n",
       "      <td>39.022499</td>\n",
       "      <td>116602000</td>\n",
       "      <td>AMZN</td>\n",
       "    </tr>\n",
       "    <tr>\n",
       "      <th>2017-01-06</th>\n",
       "      <td>39.118000</td>\n",
       "      <td>39.972000</td>\n",
       "      <td>38.924000</td>\n",
       "      <td>39.799500</td>\n",
       "      <td>39.799500</td>\n",
       "      <td>119724000</td>\n",
       "      <td>AMZN</td>\n",
       "    </tr>\n",
       "    <tr>\n",
       "      <th>2017-01-09</th>\n",
       "      <td>39.900002</td>\n",
       "      <td>40.088501</td>\n",
       "      <td>39.588501</td>\n",
       "      <td>39.846001</td>\n",
       "      <td>39.846001</td>\n",
       "      <td>68922000</td>\n",
       "      <td>AMZN</td>\n",
       "    </tr>\n",
       "    <tr>\n",
       "      <th>2017-01-10</th>\n",
       "      <td>39.830002</td>\n",
       "      <td>39.900002</td>\n",
       "      <td>39.477001</td>\n",
       "      <td>39.794998</td>\n",
       "      <td>39.794998</td>\n",
       "      <td>51168000</td>\n",
       "      <td>AMZN</td>\n",
       "    </tr>\n",
       "    <tr>\n",
       "      <th>2017-01-11</th>\n",
       "      <td>39.682999</td>\n",
       "      <td>39.974998</td>\n",
       "      <td>39.475498</td>\n",
       "      <td>39.951000</td>\n",
       "      <td>39.951000</td>\n",
       "      <td>59856000</td>\n",
       "      <td>AMZN</td>\n",
       "    </tr>\n",
       "    <tr>\n",
       "      <th>2017-01-12</th>\n",
       "      <td>40.015499</td>\n",
       "      <td>40.706501</td>\n",
       "      <td>39.974998</td>\n",
       "      <td>40.681999</td>\n",
       "      <td>40.681999</td>\n",
       "      <td>97478000</td>\n",
       "      <td>AMZN</td>\n",
       "    </tr>\n",
       "    <tr>\n",
       "      <th>2017-01-13</th>\n",
       "      <td>40.716000</td>\n",
       "      <td>41.082500</td>\n",
       "      <td>40.570000</td>\n",
       "      <td>40.856998</td>\n",
       "      <td>40.856998</td>\n",
       "      <td>75838000</td>\n",
       "      <td>AMZN</td>\n",
       "    </tr>\n",
       "    <tr>\n",
       "      <th>2017-01-17</th>\n",
       "      <td>40.785000</td>\n",
       "      <td>40.799999</td>\n",
       "      <td>40.172001</td>\n",
       "      <td>40.486000</td>\n",
       "      <td>40.486000</td>\n",
       "      <td>73410000</td>\n",
       "      <td>AMZN</td>\n",
       "    </tr>\n",
       "    <tr>\n",
       "      <th>2017-01-18</th>\n",
       "      <td>40.474998</td>\n",
       "      <td>40.586498</td>\n",
       "      <td>40.213501</td>\n",
       "      <td>40.374001</td>\n",
       "      <td>40.374001</td>\n",
       "      <td>47084000</td>\n",
       "      <td>AMZN</td>\n",
       "    </tr>\n",
       "    <tr>\n",
       "      <th>2017-01-19</th>\n",
       "      <td>40.500000</td>\n",
       "      <td>40.675499</td>\n",
       "      <td>40.366001</td>\n",
       "      <td>40.452000</td>\n",
       "      <td>40.452000</td>\n",
       "      <td>50816000</td>\n",
       "      <td>AMZN</td>\n",
       "    </tr>\n",
       "    <tr>\n",
       "      <th>2017-01-20</th>\n",
       "      <td>40.764000</td>\n",
       "      <td>40.800999</td>\n",
       "      <td>40.313000</td>\n",
       "      <td>40.416500</td>\n",
       "      <td>40.416500</td>\n",
       "      <td>67524000</td>\n",
       "      <td>AMZN</td>\n",
       "    </tr>\n",
       "    <tr>\n",
       "      <th>2017-01-23</th>\n",
       "      <td>40.340000</td>\n",
       "      <td>40.924999</td>\n",
       "      <td>40.254002</td>\n",
       "      <td>40.894001</td>\n",
       "      <td>40.894001</td>\n",
       "      <td>55950000</td>\n",
       "      <td>AMZN</td>\n",
       "    </tr>\n",
       "    <tr>\n",
       "      <th>2017-01-24</th>\n",
       "      <td>41.099998</td>\n",
       "      <td>41.199501</td>\n",
       "      <td>40.724998</td>\n",
       "      <td>41.122002</td>\n",
       "      <td>41.122002</td>\n",
       "      <td>59434000</td>\n",
       "      <td>AMZN</td>\n",
       "    </tr>\n",
       "    <tr>\n",
       "      <th>2017-01-25</th>\n",
       "      <td>41.289501</td>\n",
       "      <td>41.870998</td>\n",
       "      <td>41.264500</td>\n",
       "      <td>41.826000</td>\n",
       "      <td>41.826000</td>\n",
       "      <td>78452000</td>\n",
       "      <td>AMZN</td>\n",
       "    </tr>\n",
       "    <tr>\n",
       "      <th>2017-01-26</th>\n",
       "      <td>41.776501</td>\n",
       "      <td>42.192001</td>\n",
       "      <td>41.650002</td>\n",
       "      <td>41.957500</td>\n",
       "      <td>41.957500</td>\n",
       "      <td>71726000</td>\n",
       "      <td>AMZN</td>\n",
       "    </tr>\n",
       "    <tr>\n",
       "      <th>2017-01-27</th>\n",
       "      <td>41.950001</td>\n",
       "      <td>41.985001</td>\n",
       "      <td>41.472000</td>\n",
       "      <td>41.788502</td>\n",
       "      <td>41.788502</td>\n",
       "      <td>59974000</td>\n",
       "      <td>AMZN</td>\n",
       "    </tr>\n",
       "    <tr>\n",
       "      <th>2017-01-30</th>\n",
       "      <td>41.650002</td>\n",
       "      <td>41.674999</td>\n",
       "      <td>40.819000</td>\n",
       "      <td>41.519001</td>\n",
       "      <td>41.519001</td>\n",
       "      <td>74946000</td>\n",
       "      <td>AMZN</td>\n",
       "    </tr>\n",
       "  </tbody>\n",
       "</table>\n",
       "</div>"
      ],
      "text/plain": [
       "                 open       high        low      close   adjclose     volume ticker\n",
       "2017-01-03  37.896000  37.938000  37.384998  37.683498  37.683498   70422000   AMZN\n",
       "2017-01-04  37.919498  37.984001  37.709999  37.859001  37.859001   50210000   AMZN\n",
       "2017-01-05  38.077499  39.119999  38.013000  39.022499  39.022499  116602000   AMZN\n",
       "2017-01-06  39.118000  39.972000  38.924000  39.799500  39.799500  119724000   AMZN\n",
       "2017-01-09  39.900002  40.088501  39.588501  39.846001  39.846001   68922000   AMZN\n",
       "2017-01-10  39.830002  39.900002  39.477001  39.794998  39.794998   51168000   AMZN\n",
       "2017-01-11  39.682999  39.974998  39.475498  39.951000  39.951000   59856000   AMZN\n",
       "2017-01-12  40.015499  40.706501  39.974998  40.681999  40.681999   97478000   AMZN\n",
       "2017-01-13  40.716000  41.082500  40.570000  40.856998  40.856998   75838000   AMZN\n",
       "2017-01-17  40.785000  40.799999  40.172001  40.486000  40.486000   73410000   AMZN\n",
       "2017-01-18  40.474998  40.586498  40.213501  40.374001  40.374001   47084000   AMZN\n",
       "2017-01-19  40.500000  40.675499  40.366001  40.452000  40.452000   50816000   AMZN\n",
       "2017-01-20  40.764000  40.800999  40.313000  40.416500  40.416500   67524000   AMZN\n",
       "2017-01-23  40.340000  40.924999  40.254002  40.894001  40.894001   55950000   AMZN\n",
       "2017-01-24  41.099998  41.199501  40.724998  41.122002  41.122002   59434000   AMZN\n",
       "2017-01-25  41.289501  41.870998  41.264500  41.826000  41.826000   78452000   AMZN\n",
       "2017-01-26  41.776501  42.192001  41.650002  41.957500  41.957500   71726000   AMZN\n",
       "2017-01-27  41.950001  41.985001  41.472000  41.788502  41.788502   59974000   AMZN\n",
       "2017-01-30  41.650002  41.674999  40.819000  41.519001  41.519001   74946000   AMZN"
      ]
     },
     "execution_count": 20,
     "metadata": {},
     "output_type": "execute_result"
    }
   ],
   "source": [
    "amzn"
   ]
  },
  {
   "cell_type": "markdown",
   "id": "eaaaf55f",
   "metadata": {},
   "source": [
    "# Package `yfinance`"
   ]
  },
  {
   "cell_type": "code",
   "execution_count": 21,
   "id": "1aca9003",
   "metadata": {
    "ExecuteTime": {
     "end_time": "2023-09-11T13:21:45.695354Z",
     "start_time": "2023-09-11T13:21:39.716078Z"
    }
   },
   "outputs": [
    {
     "name": "stdout",
     "output_type": "stream",
     "text": [
      "Collecting yfinance\n",
      "  Downloading yfinance-0.2.28-py2.py3-none-any.whl (65 kB)\n",
      "\u001b[K     |████████████████████████████████| 65 kB 3.7 MB/s  eta 0:00:01\n",
      "\u001b[?25hCollecting frozendict>=2.3.4\n",
      "  Downloading frozendict-2.3.8-cp38-cp38-manylinux_2_17_x86_64.manylinux2014_x86_64.whl (113 kB)\n",
      "\u001b[K     |████████████████████████████████| 113 kB 23.0 MB/s eta 0:00:01\n",
      "\u001b[?25hRequirement already satisfied: beautifulsoup4>=4.11.1 in /venv/lib/python3.8/site-packages (from yfinance) (4.12.2)\n",
      "Requirement already satisfied: pytz>=2022.5 in /venv/lib/python3.8/site-packages (from yfinance) (2023.3)\n",
      "Requirement already satisfied: appdirs>=1.4.4 in /venv/lib/python3.8/site-packages (from yfinance) (1.4.4)\n",
      "Collecting html5lib>=1.1\n",
      "  Downloading html5lib-1.1-py2.py3-none-any.whl (112 kB)\n",
      "\u001b[K     |████████████████████████████████| 112 kB 35.1 MB/s eta 0:00:01\n",
      "\u001b[?25hCollecting multitasking>=0.0.7\n",
      "  Downloading multitasking-0.0.11-py3-none-any.whl (8.5 kB)\n",
      "Requirement already satisfied: lxml>=4.9.1 in /venv/lib/python3.8/site-packages (from yfinance) (4.9.3)\n",
      "Requirement already satisfied: numpy>=1.16.5 in /venv/lib/python3.8/site-packages (from yfinance) (1.20.3)\n",
      "Requirement already satisfied: pandas>=1.3.0 in /venv/lib/python3.8/site-packages (from yfinance) (1.5.1)\n",
      "Requirement already satisfied: requests>=2.31 in /venv/lib/python3.8/site-packages (from yfinance) (2.31.0)\n",
      "Requirement already satisfied: soupsieve>1.2 in /venv/lib/python3.8/site-packages (from beautifulsoup4>=4.11.1->yfinance) (2.4.1)\n",
      "Requirement already satisfied: webencodings in /venv/lib/python3.8/site-packages (from html5lib>=1.1->yfinance) (0.5.1)\n",
      "Requirement already satisfied: six>=1.9 in /venv/lib/python3.8/site-packages (from html5lib>=1.1->yfinance) (1.16.0)\n",
      "Requirement already satisfied: python-dateutil>=2.8.1 in /venv/lib/python3.8/site-packages (from pandas>=1.3.0->yfinance) (2.8.2)\n",
      "Requirement already satisfied: urllib3<3,>=1.21.1 in /venv/lib/python3.8/site-packages (from requests>=2.31->yfinance) (1.26.16)\n",
      "Requirement already satisfied: idna<4,>=2.5 in /venv/lib/python3.8/site-packages (from requests>=2.31->yfinance) (3.4)\n",
      "Requirement already satisfied: charset-normalizer<4,>=2 in /venv/lib/python3.8/site-packages (from requests>=2.31->yfinance) (3.2.0)\n",
      "Requirement already satisfied: certifi>=2017.4.17 in /venv/lib/python3.8/site-packages (from requests>=2.31->yfinance) (2023.7.22)\n",
      "Installing collected packages: frozendict, html5lib, multitasking, yfinance\n",
      "Successfully installed frozendict-2.3.8 html5lib-1.1 multitasking-0.0.11 yfinance-0.2.28\n"
     ]
    }
   ],
   "source": [
    "!sudo {sys.executable} -m pip install yfinance"
   ]
  },
  {
   "cell_type": "code",
   "execution_count": 22,
   "id": "a06cc9c4",
   "metadata": {
    "ExecuteTime": {
     "end_time": "2023-09-11T13:22:05.344280Z",
     "start_time": "2023-09-11T13:22:05.253543Z"
    }
   },
   "outputs": [],
   "source": [
    "import yfinance as yf"
   ]
  },
  {
   "cell_type": "code",
   "execution_count": 28,
   "id": "d2a9db2f",
   "metadata": {
    "ExecuteTime": {
     "end_time": "2023-09-11T13:22:38.468110Z",
     "start_time": "2023-09-11T13:22:38.391588Z"
    }
   },
   "outputs": [],
   "source": [
    "aapl = yf.Ticker(\"aapl\")"
   ]
  },
  {
   "cell_type": "code",
   "execution_count": 31,
   "id": "e5c7ce4d",
   "metadata": {
    "ExecuteTime": {
     "end_time": "2023-09-11T13:23:04.846171Z",
     "start_time": "2023-09-11T13:23:04.579359Z"
    }
   },
   "outputs": [
    {
     "data": {
      "text/html": [
       "<div>\n",
       "<style scoped>\n",
       "    .dataframe tbody tr th:only-of-type {\n",
       "        vertical-align: middle;\n",
       "    }\n",
       "\n",
       "    .dataframe tbody tr th {\n",
       "        vertical-align: top;\n",
       "    }\n",
       "\n",
       "    .dataframe thead th {\n",
       "        text-align: right;\n",
       "    }\n",
       "</style>\n",
       "<table border=\"1\" class=\"dataframe\">\n",
       "  <thead>\n",
       "    <tr style=\"text-align: right;\">\n",
       "      <th></th>\n",
       "      <th>Open</th>\n",
       "      <th>High</th>\n",
       "      <th>Low</th>\n",
       "      <th>Close</th>\n",
       "      <th>Volume</th>\n",
       "      <th>Dividends</th>\n",
       "      <th>Stock Splits</th>\n",
       "    </tr>\n",
       "    <tr>\n",
       "      <th>Date</th>\n",
       "      <th></th>\n",
       "      <th></th>\n",
       "      <th></th>\n",
       "      <th></th>\n",
       "      <th></th>\n",
       "      <th></th>\n",
       "      <th></th>\n",
       "    </tr>\n",
       "  </thead>\n",
       "  <tbody>\n",
       "    <tr>\n",
       "      <th>2020-06-02 00:00:00-04:00</th>\n",
       "      <td>78.622054</td>\n",
       "      <td>79.281426</td>\n",
       "      <td>78.175935</td>\n",
       "      <td>79.256912</td>\n",
       "      <td>87642800</td>\n",
       "      <td>0.0</td>\n",
       "      <td>0.0</td>\n",
       "    </tr>\n",
       "    <tr>\n",
       "      <th>2020-06-03 00:00:00-04:00</th>\n",
       "      <td>79.580462</td>\n",
       "      <td>79.957948</td>\n",
       "      <td>79.001976</td>\n",
       "      <td>79.693214</td>\n",
       "      <td>104491200</td>\n",
       "      <td>0.0</td>\n",
       "      <td>0.0</td>\n",
       "    </tr>\n",
       "    <tr>\n",
       "      <th>2020-06-04 00:00:00-04:00</th>\n",
       "      <td>79.514288</td>\n",
       "      <td>79.815780</td>\n",
       "      <td>78.629403</td>\n",
       "      <td>79.006889</td>\n",
       "      <td>87560400</td>\n",
       "      <td>0.0</td>\n",
       "      <td>0.0</td>\n",
       "    </tr>\n",
       "    <tr>\n",
       "      <th>2020-06-05 00:00:00-04:00</th>\n",
       "      <td>79.259358</td>\n",
       "      <td>81.318360</td>\n",
       "      <td>79.229945</td>\n",
       "      <td>81.257080</td>\n",
       "      <td>137250400</td>\n",
       "      <td>0.0</td>\n",
       "      <td>0.0</td>\n",
       "    </tr>\n",
       "  </tbody>\n",
       "</table>\n",
       "</div>"
      ],
      "text/plain": [
       "                                Open       High        Low      Close     Volume  Dividends  Stock Splits\n",
       "Date                                                                                                     \n",
       "2020-06-02 00:00:00-04:00  78.622054  79.281426  78.175935  79.256912   87642800        0.0           0.0\n",
       "2020-06-03 00:00:00-04:00  79.580462  79.957948  79.001976  79.693214  104491200        0.0           0.0\n",
       "2020-06-04 00:00:00-04:00  79.514288  79.815780  78.629403  79.006889   87560400        0.0           0.0\n",
       "2020-06-05 00:00:00-04:00  79.259358  81.318360  79.229945  81.257080  137250400        0.0           0.0"
      ]
     },
     "execution_count": 31,
     "metadata": {},
     "output_type": "execute_result"
    }
   ],
   "source": [
    "aapl_historical = aapl.history(start=\"2020-06-02\", end=\"2020-06-07\", interval=\"1d\")\n",
    "aapl_historical"
   ]
  },
  {
   "cell_type": "markdown",
   "id": "b3a7803a",
   "metadata": {},
   "source": [
    "# Alternatives"
   ]
  },
  {
   "cell_type": "code",
   "execution_count": 32,
   "id": "fabcecf4",
   "metadata": {
    "ExecuteTime": {
     "end_time": "2023-09-11T13:34:39.423917Z",
     "start_time": "2023-09-11T13:34:39.371107Z"
    }
   },
   "outputs": [],
   "source": [
    "# https://robotwealth.com/yahoo-prices-r-easy/"
   ]
  },
  {
   "cell_type": "code",
   "execution_count": null,
   "id": "468bffb5",
   "metadata": {},
   "outputs": [],
   "source": []
  }
 ],
 "metadata": {
  "kernelspec": {
   "display_name": "Python 3 (ipykernel)",
   "language": "python",
   "name": "python3"
  },
  "language_info": {
   "codemirror_mode": {
    "name": "ipython",
    "version": 3
   },
   "file_extension": ".py",
   "mimetype": "text/x-python",
   "name": "python",
   "nbconvert_exporter": "python",
   "pygments_lexer": "ipython3",
   "version": "3.8.10"
  },
  "toc": {
   "base_numbering": 1,
   "nav_menu": {},
   "number_sections": true,
   "sideBar": true,
   "skip_h1_title": false,
   "title_cell": "Table of Contents",
   "title_sidebar": "Contents",
   "toc_cell": false,
   "toc_position": {},
   "toc_section_display": true,
   "toc_window_display": false
  }
 },
 "nbformat": 4,
 "nbformat_minor": 5
}
