{
 "cells": [
  {
   "cell_type": "markdown",
   "id": "aaf3d508",
   "metadata": {},
   "source": [
    "# Description"
   ]
  },
  {
   "cell_type": "markdown",
   "id": "f510bec1",
   "metadata": {},
   "source": [
    "This notebook performs cross-vendor QA checks to compare vendors in terms of:\n",
    "   - Difference and intersection of vendor universes\n",
    "   - Time intervals, i.e. which vendor has the longest data available for each full symbol in intersecting universe\n",
    "   - Data quality (bad data [%], missing bars [%], volume=0 [%], NaNs [%]) for intersecting universe and time intervals"
   ]
  },
  {
   "cell_type": "markdown",
   "id": "0de95713",
   "metadata": {},
   "source": [
    "# Imports"
   ]
  },
  {
   "cell_type": "code",
   "execution_count": null,
   "id": "9f4a78ea",
   "metadata": {},
   "outputs": [],
   "source": [
    "import logging\n",
    "import os\n",
    "\n",
    "import core.config.config_ as cconconf\n",
    "import helpers.hdbg as hdbg\n",
    "import helpers.henv as henv\n",
    "import helpers.hprint as hprint\n",
    "import helpers.hs3 as hs3\n",
    "import im_v2.ccxt.data.client as icdcl\n",
    "import im_v2.crypto_chassis.data.client as iccdc\n",
    "import research_amp.cc.qa as ramccqa"
   ]
  },
  {
   "cell_type": "code",
   "execution_count": null,
   "id": "08570f79",
   "metadata": {
    "lines_to_next_cell": 2
   },
   "outputs": [],
   "source": [
    "hdbg.init_logger(verbosity=logging.INFO)\n",
    "\n",
    "_LOG = logging.getLogger(__name__)\n",
    "\n",
    "_LOG.info(\"%s\", henv.get_system_signature()[0])\n",
    "\n",
    "hprint.config_notebook()"
   ]
  },
  {
   "cell_type": "markdown",
   "id": "bded94c7",
   "metadata": {
    "lines_to_next_cell": 2
   },
   "source": [
    "# Configs"
   ]
  },
  {
   "cell_type": "code",
   "execution_count": null,
   "id": "e1f4376b",
   "metadata": {},
   "outputs": [],
   "source": [
    "def get_master_cross_vendor_qa_config() -> cconconf.Config:\n",
    "    \"\"\"\n",
    "    Get task1966-specific config.\n",
    "    \"\"\"\n",
    "    config = cconconf.Config()\n",
    "    param_dict = {\n",
    "        \"data\": {\n",
    "            \"ccxt\": {\n",
    "                \"universe_version\": \"v3\",\n",
    "                \"resample_1min\": False,\n",
    "                \"root_dir\": os.path.join(\n",
    "                    hs3.get_s3_bucket_path(\"ck\"), \"reorg\", \"historical.manual.pq\"\n",
    "                ),\n",
    "                \"partition_mode\": \"by_year_month\",\n",
    "                \"dataset\": \"ohlcv\",\n",
    "                \"contract_type\": \"spot\",\n",
    "                \"download_universe_version\": \"v7_3\",\n",
    "                \"aws_profile\": \"ck\",\n",
    "            },\n",
    "            \"crypto_chassis\": {\n",
    "                \"universe_version\": \"v1\",\n",
    "                \"resample_1min\": False,\n",
    "                \"root_dir\": os.path.join(\n",
    "                    hs3.get_s3_bucket_path(\"ck\"), \"reorg\", \"historical.manual.pq\"\n",
    "                ),\n",
    "                \"partition_mode\": \"by_year_month\",\n",
    "                \"dataset\": \"ohlcv\",\n",
    "                \"contract_type\": \"spot\",\n",
    "                \"aws_profile\": \"ck\",\n",
    "            },\n",
    "            # Parameters for data query.\n",
    "            \"read_data\": {\n",
    "                \"start_ts\": None,\n",
    "                \"end_ts\": None,\n",
    "                \"columns\": [\"full_symbol\", \"close\", \"volume\"],\n",
    "                \"filter_data_mode\": \"assert\",\n",
    "            },\n",
    "        },\n",
    "        \"column_names\": {\n",
    "            \"full_symbol\": \"full_symbol\",\n",
    "            \"close_price\": \"close\",\n",
    "        },\n",
    "        \"stats\": {\n",
    "            \"threshold\": 30,\n",
    "        },\n",
    "    }\n",
    "    config = cconfig.Config.from_dict(param_dict)\n",
    "    return config"
   ]
  },
  {
   "cell_type": "code",
   "execution_count": null,
   "id": "d1aea789",
   "metadata": {},
   "outputs": [],
   "source": [
    "config = get_master_cross_vendor_qa_config()\n",
    "print(config)"
   ]
  },
  {
   "cell_type": "markdown",
   "id": "1f58b0a5",
   "metadata": {},
   "source": [
    "# Compare universes"
   ]
  },
  {
   "cell_type": "code",
   "execution_count": null,
   "id": "44e01fac",
   "metadata": {},
   "outputs": [],
   "source": [
    "crypto_chassis_client = iccdc.CryptoChassisHistoricalPqByTileClient(\n",
    "    **config[\"data\"][\"crypto_chassis\"]\n",
    ")\n",
    "ccxt_client = icdcl.CcxtHistoricalPqByTileClient(**config[\"data\"][\"ccxt\"])"
   ]
  },
  {
   "cell_type": "code",
   "execution_count": null,
   "id": "90802d31",
   "metadata": {},
   "outputs": [],
   "source": [
    "crypto_chassis_universe = crypto_chassis_client.get_universe()\n",
    "ccxt_universe = ccxt_client.get_universe()"
   ]
  },
  {
   "cell_type": "code",
   "execution_count": null,
   "id": "cd7931d1",
   "metadata": {},
   "outputs": [],
   "source": [
    "common_universe = list(set(crypto_chassis_universe) & set(ccxt_universe))"
   ]
  },
  {
   "cell_type": "code",
   "execution_count": null,
   "id": "c72e1f55",
   "metadata": {},
   "outputs": [],
   "source": [
    "compare_universe = hprint.set_diff_to_str(\n",
    "    crypto_chassis_universe, ccxt_universe, add_space=True\n",
    ")\n",
    "print(compare_universe)"
   ]
  },
  {
   "cell_type": "markdown",
   "id": "dea5f669",
   "metadata": {},
   "source": [
    "# Compare Binance QA stats"
   ]
  },
  {
   "cell_type": "code",
   "execution_count": null,
   "id": "0d109a04",
   "metadata": {},
   "outputs": [],
   "source": [
    "binance_universe = [\n",
    "    full_symbol\n",
    "    for full_symbol in common_universe\n",
    "    if full_symbol.startswith(\"binance\")\n",
    "]\n",
    "binance_universe"
   ]
  },
  {
   "cell_type": "code",
   "execution_count": null,
   "id": "f899e8d4",
   "metadata": {},
   "outputs": [],
   "source": [
    "ccxt_binance_data = ccxt_client.read_data(\n",
    "    binance_universe, **config[\"data\"][\"read_data\"]\n",
    ")\n",
    "ccxt_binance_data.head(3)"
   ]
  },
  {
   "cell_type": "code",
   "execution_count": null,
   "id": "0685fc64",
   "metadata": {},
   "outputs": [],
   "source": [
    "crypto_chassis_binance_data = crypto_chassis_client.read_data(\n",
    "    binance_universe, **config[\"data\"][\"read_data\"]\n",
    ")\n",
    "crypto_chassis_binance_data.head(3)"
   ]
  },
  {
   "cell_type": "code",
   "execution_count": null,
   "id": "ebdc9611",
   "metadata": {},
   "outputs": [],
   "source": [
    "crypto_chassis_vendor = \"Crypto Chassis\"\n",
    "crypto_chassis_timestamp_binance_stats = ramccqa.get_timestamp_stats(\n",
    "    crypto_chassis_binance_data, crypto_chassis_vendor\n",
    ")\n",
    "ccxt_vendor = \"CCXT\"\n",
    "ccxt_timestamp_binance_stats = ramccqa.get_timestamp_stats(\n",
    "    ccxt_binance_data, ccxt_vendor\n",
    ")\n",
    "#\n",
    "binance_timestamp_stats_qa = ramccqa.compare_data_stats(\n",
    "    crypto_chassis_timestamp_binance_stats,\n",
    "    ccxt_timestamp_binance_stats,\n",
    ")\n",
    "binance_timestamp_stats_qa"
   ]
  },
  {
   "cell_type": "code",
   "execution_count": null,
   "id": "69d1c166",
   "metadata": {},
   "outputs": [],
   "source": [
    "agg_level_full_symbol = [\"full_symbol\"]\n",
    "crypto_chassis_bad_data_binance_stats = ramccqa.get_bad_data_stats(\n",
    "    crypto_chassis_binance_data, agg_level_full_symbol, crypto_chassis_vendor\n",
    ")\n",
    "ccxt_bad_data_binance_stats = ramccqa.get_bad_data_stats(\n",
    "    ccxt_binance_data, agg_level_full_symbol, ccxt_vendor\n",
    ")\n",
    "#\n",
    "binance_bad_data_stats_qa = ramccqa.compare_data_stats(\n",
    "    crypto_chassis_bad_data_binance_stats,\n",
    "    ccxt_bad_data_binance_stats,\n",
    ")\n",
    "binance_bad_data_stats_qa"
   ]
  },
  {
   "cell_type": "code",
   "execution_count": null,
   "id": "d3732c9d",
   "metadata": {},
   "outputs": [],
   "source": [
    "agg_level_full_symbol_year_month = [\"full_symbol\", \"year\", \"month\"]\n",
    "crypto_chassis_bad_data_binance_stats_by_year_month = ramccqa.get_bad_data_stats(\n",
    "    crypto_chassis_binance_data,\n",
    "    agg_level_full_symbol_year_month,\n",
    "    crypto_chassis_vendor,\n",
    ")\n",
    "ccxt_bad_data_binance_stats_by_year_month = ramccqa.get_bad_data_stats(\n",
    "    ccxt_binance_data, agg_level_full_symbol_year_month, ccxt_vendor\n",
    ")\n",
    "#\n",
    "binance_bad_data_stats_by_year_month_qa = ramccqa.compare_data_stats(\n",
    "    crypto_chassis_bad_data_binance_stats_by_year_month,\n",
    "    ccxt_bad_data_binance_stats_by_year_month,\n",
    ")\n",
    "binance_bad_data_stats_by_year_month_qa"
   ]
  },
  {
   "cell_type": "code",
   "execution_count": null,
   "id": "a86be992",
   "metadata": {},
   "outputs": [],
   "source": [
    "ramccqa.plot_bad_data_by_year_month_stats(\n",
    "    binance_bad_data_stats_by_year_month_qa, config[\"stats\"][\"threshold\"]\n",
    ")"
   ]
  },
  {
   "cell_type": "markdown",
   "id": "86ea3577",
   "metadata": {},
   "source": [
    "# Compare FTX QA stats"
   ]
  },
  {
   "cell_type": "code",
   "execution_count": null,
   "id": "133189f5",
   "metadata": {},
   "outputs": [],
   "source": [
    "ftx_universe = [\n",
    "    full_symbol\n",
    "    for full_symbol in common_universe\n",
    "    if full_symbol.startswith(\"ftx\")\n",
    "]\n",
    "ftx_universe"
   ]
  },
  {
   "cell_type": "code",
   "execution_count": null,
   "id": "8d64d5ed",
   "metadata": {},
   "outputs": [],
   "source": [
    "ccxt_ftx_data = ccxt_client.read_data(ftx_universe, **config[\"data\"][\"read_data\"])\n",
    "ccxt_ftx_data.head(3)"
   ]
  },
  {
   "cell_type": "code",
   "execution_count": null,
   "id": "a2feb94b",
   "metadata": {},
   "outputs": [],
   "source": [
    "crypto_chassis_ftx_data = crypto_chassis_client.read_data(\n",
    "    ftx_universe, **config[\"data\"][\"read_data\"]\n",
    ")\n",
    "crypto_chassis_ftx_data.head(3)"
   ]
  },
  {
   "cell_type": "code",
   "execution_count": null,
   "id": "d1425f37",
   "metadata": {},
   "outputs": [],
   "source": [
    "crypto_chassis_timestamp_ftx_stats = ramccqa.get_timestamp_stats(\n",
    "    crypto_chassis_ftx_data, crypto_chassis_vendor\n",
    ")\n",
    "ccxt_timestamp_ftx_stats = ramccqa.get_timestamp_stats(ccxt_ftx_data, ccxt_vendor)\n",
    "#\n",
    "ftx_timestamp_stats_qa = ramccqa.compare_data_stats(\n",
    "    crypto_chassis_timestamp_ftx_stats,\n",
    "    ccxt_timestamp_ftx_stats,\n",
    ")\n",
    "ftx_timestamp_stats_qa"
   ]
  },
  {
   "cell_type": "code",
   "execution_count": null,
   "id": "d265d93f",
   "metadata": {},
   "outputs": [],
   "source": [
    "crypto_chassis_bad_data_ftx_stats = ramccqa.get_bad_data_stats(\n",
    "    crypto_chassis_ftx_data, agg_level_full_symbol, crypto_chassis_vendor\n",
    ")\n",
    "ccxt_bad_data_ftx_stats = ramccqa.get_bad_data_stats(\n",
    "    ccxt_ftx_data, agg_level_full_symbol, ccxt_vendor\n",
    ")\n",
    "#\n",
    "ftx_bad_data_stats_qa = ramccqa.compare_data_stats(\n",
    "    crypto_chassis_bad_data_ftx_stats,\n",
    "    ccxt_bad_data_ftx_stats,\n",
    ")\n",
    "ftx_bad_data_stats_qa"
   ]
  },
  {
   "cell_type": "code",
   "execution_count": null,
   "id": "f03362e7",
   "metadata": {},
   "outputs": [],
   "source": [
    "crypto_chassis_bad_data_ftx_stats_by_year_month = ramccqa.get_bad_data_stats(\n",
    "    crypto_chassis_ftx_data,\n",
    "    agg_level_full_symbol_year_month,\n",
    "    crypto_chassis_vendor,\n",
    ")\n",
    "ccxt_bad_data_ftx_stats_by_year_month = ramccqa.get_bad_data_stats(\n",
    "    ccxt_ftx_data, agg_level_full_symbol_year_month, ccxt_vendor\n",
    ")\n",
    "#\n",
    "ftx_bad_data_stats_by_year_month_qa = ramccqa.compare_data_stats(\n",
    "    crypto_chassis_bad_data_ftx_stats_by_year_month,\n",
    "    ccxt_bad_data_ftx_stats_by_year_month,\n",
    ")\n",
    "ftx_bad_data_stats_by_year_month_qa"
   ]
  },
  {
   "cell_type": "code",
   "execution_count": null,
   "id": "c55f48b0",
   "metadata": {},
   "outputs": [],
   "source": [
    "ramccqa.plot_bad_data_by_year_month_stats(\n",
    "    ftx_bad_data_stats_by_year_month_qa, config[\"stats\"][\"threshold\"]\n",
    ")"
   ]
  },
  {
   "cell_type": "markdown",
   "id": "97e42959",
   "metadata": {},
   "source": [
    "# Compare Gateio QA stats"
   ]
  },
  {
   "cell_type": "code",
   "execution_count": null,
   "id": "cf118798",
   "metadata": {},
   "outputs": [],
   "source": [
    "gateio_universe = [\n",
    "    full_symbol\n",
    "    for full_symbol in common_universe\n",
    "    if full_symbol.startswith(\"gateio\")\n",
    "]\n",
    "gateio_universe"
   ]
  },
  {
   "cell_type": "code",
   "execution_count": null,
   "id": "b0c17ba1",
   "metadata": {},
   "outputs": [],
   "source": [
    "ccxt_gateio_data = ccxt_client.read_data(\n",
    "    gateio_universe, **config[\"data\"][\"read_data\"]\n",
    ")\n",
    "ccxt_gateio_data.head(3)"
   ]
  },
  {
   "cell_type": "code",
   "execution_count": null,
   "id": "6141d55a",
   "metadata": {},
   "outputs": [],
   "source": [
    "crypto_chassis_gateio_data = crypto_chassis_client.read_data(\n",
    "    gateio_universe, **config[\"data\"][\"read_data\"]\n",
    ")\n",
    "crypto_chassis_gateio_data.head(3)"
   ]
  },
  {
   "cell_type": "code",
   "execution_count": null,
   "id": "0b7746cd",
   "metadata": {},
   "outputs": [],
   "source": [
    "crypto_chassis_timestamp_gateio_stats = ramccqa.get_timestamp_stats(\n",
    "    crypto_chassis_gateio_data, crypto_chassis_vendor\n",
    ")\n",
    "ccxt_timestamp_gateio_stats = ramccqa.get_timestamp_stats(\n",
    "    ccxt_gateio_data, ccxt_vendor\n",
    ")\n",
    "#\n",
    "gateio_timestamp_stats_qa = ramccqa.compare_data_stats(\n",
    "    crypto_chassis_timestamp_gateio_stats,\n",
    "    ccxt_timestamp_gateio_stats,\n",
    ")\n",
    "gateio_timestamp_stats_qa"
   ]
  },
  {
   "cell_type": "code",
   "execution_count": null,
   "id": "2c8cfa24",
   "metadata": {},
   "outputs": [],
   "source": [
    "crypto_chassis_bad_data_gateio_stats = ramccqa.get_bad_data_stats(\n",
    "    crypto_chassis_gateio_data, agg_level_full_symbol, crypto_chassis_vendor\n",
    ")\n",
    "ccxt_bad_data_gateio_stats = ramccqa.get_bad_data_stats(\n",
    "    ccxt_gateio_data, agg_level_full_symbol, ccxt_vendor\n",
    ")\n",
    "#\n",
    "gateio_bad_data_stats_qa = ramccqa.compare_data_stats(\n",
    "    crypto_chassis_bad_data_gateio_stats,\n",
    "    ccxt_bad_data_gateio_stats,\n",
    ")\n",
    "gateio_bad_data_stats_qa"
   ]
  },
  {
   "cell_type": "code",
   "execution_count": null,
   "id": "53ec9bd2",
   "metadata": {},
   "outputs": [],
   "source": [
    "crypto_chassis_bad_data_gateio_stats_by_year_month = ramccqa.get_bad_data_stats(\n",
    "    crypto_chassis_gateio_data,\n",
    "    agg_level_full_symbol_year_month,\n",
    "    crypto_chassis_vendor,\n",
    ")\n",
    "ccxt_bad_data_gateio_stats_by_year_month = ramccqa.get_bad_data_stats(\n",
    "    ccxt_gateio_data, agg_level_full_symbol_year_month, ccxt_vendor\n",
    ")\n",
    "#\n",
    "gateio_bad_data_stats_by_year_month_qa = ramccqa.compare_data_stats(\n",
    "    crypto_chassis_bad_data_gateio_stats_by_year_month,\n",
    "    ccxt_bad_data_gateio_stats_by_year_month,\n",
    ")\n",
    "gateio_bad_data_stats_by_year_month_qa"
   ]
  },
  {
   "cell_type": "code",
   "execution_count": null,
   "id": "3f2884ab",
   "metadata": {},
   "outputs": [],
   "source": [
    "ramccqa.plot_bad_data_by_year_month_stats(\n",
    "    gateio_bad_data_stats_by_year_month_qa, config[\"stats\"][\"threshold\"]\n",
    ")"
   ]
  },
  {
   "cell_type": "markdown",
   "id": "ef1b8250",
   "metadata": {},
   "source": [
    "# Compare Kucoin QA stats"
   ]
  },
  {
   "cell_type": "code",
   "execution_count": null,
   "id": "922c1647",
   "metadata": {},
   "outputs": [],
   "source": [
    "kucoin_universe = [\n",
    "    full_symbol\n",
    "    for full_symbol in common_universe\n",
    "    if full_symbol.startswith(\"kucoin\")\n",
    "]\n",
    "kucoin_universe"
   ]
  },
  {
   "cell_type": "code",
   "execution_count": null,
   "id": "53341905",
   "metadata": {},
   "outputs": [],
   "source": [
    "ccxt_kucoin_data = ccxt_client.read_data(\n",
    "    kucoin_universe, **config[\"data\"][\"read_data\"]\n",
    ")\n",
    "ccxt_kucoin_data.head(3)"
   ]
  },
  {
   "cell_type": "code",
   "execution_count": null,
   "id": "27da60d2",
   "metadata": {},
   "outputs": [],
   "source": [
    "crypto_chassis_kucoin_data = crypto_chassis_client.read_data(\n",
    "    kucoin_universe, **config[\"data\"][\"read_data\"]\n",
    ")\n",
    "crypto_chassis_kucoin_data.head(3)"
   ]
  },
  {
   "cell_type": "code",
   "execution_count": null,
   "id": "0c9e6506",
   "metadata": {},
   "outputs": [],
   "source": [
    "crypto_chassis_timestamp_kucoin_stats = ramccqa.get_timestamp_stats(\n",
    "    crypto_chassis_kucoin_data, crypto_chassis_vendor\n",
    ")\n",
    "ccxt_timestamp_kucoin_stats = ramccqa.get_timestamp_stats(\n",
    "    ccxt_kucoin_data, ccxt_vendor\n",
    ")\n",
    "#\n",
    "kucoin_timestamp_stats_qa = ramccqa.compare_data_stats(\n",
    "    crypto_chassis_timestamp_kucoin_stats,\n",
    "    ccxt_timestamp_kucoin_stats,\n",
    ")\n",
    "kucoin_timestamp_stats_qa"
   ]
  },
  {
   "cell_type": "code",
   "execution_count": null,
   "id": "12f7c61d",
   "metadata": {},
   "outputs": [],
   "source": [
    "crypto_chassis_bad_data_kucoin_stats = ramccqa.get_bad_data_stats(\n",
    "    crypto_chassis_kucoin_data, agg_level_full_symbol, crypto_chassis_vendor\n",
    ")\n",
    "ccxt_bad_data_kucoin_stats = ramccqa.get_bad_data_stats(\n",
    "    ccxt_kucoin_data, agg_level_full_symbol, ccxt_vendor\n",
    ")\n",
    "#\n",
    "kucoin_bad_data_stats_qa = ramccqa.compare_data_stats(\n",
    "    crypto_chassis_bad_data_kucoin_stats,\n",
    "    ccxt_bad_data_kucoin_stats,\n",
    ")\n",
    "kucoin_bad_data_stats_qa"
   ]
  },
  {
   "cell_type": "code",
   "execution_count": null,
   "id": "7f210480",
   "metadata": {},
   "outputs": [],
   "source": [
    "crypto_chassis_bad_data_kucoin_stats_by_year_month = ramccqa.get_bad_data_stats(\n",
    "    crypto_chassis_kucoin_data,\n",
    "    agg_level_full_symbol_year_month,\n",
    "    crypto_chassis_vendor,\n",
    ")\n",
    "ccxt_bad_data_kucoin_stats_by_year_month = ramccqa.get_bad_data_stats(\n",
    "    ccxt_kucoin_data, agg_level_full_symbol_year_month, ccxt_vendor\n",
    ")\n",
    "#\n",
    "kucoin_bad_data_stats_by_year_month_qa = ramccqa.compare_data_stats(\n",
    "    crypto_chassis_bad_data_kucoin_stats_by_year_month,\n",
    "    ccxt_bad_data_kucoin_stats_by_year_month,\n",
    ")\n",
    "kucoin_bad_data_stats_by_year_month_qa"
   ]
  },
  {
   "cell_type": "code",
   "execution_count": null,
   "id": "2b1f2f3a",
   "metadata": {},
   "outputs": [],
   "source": [
    "ramccqa.plot_bad_data_by_year_month_stats(\n",
    "    kucoin_bad_data_stats_by_year_month_qa, config[\"stats\"][\"threshold\"]\n",
    ")"
   ]
  }
 ],
 "metadata": {
  "kernelspec": {
   "display_name": "Python 3 (ipykernel)",
   "language": "python",
   "name": "python3"
  }
 },
 "nbformat": 4,
 "nbformat_minor": 5
}
