{
 "cells": [
  {
   "cell_type": "markdown",
   "id": "54da1cc1",
   "metadata": {},
   "source": [
    "# Imports"
   ]
  },
  {
   "cell_type": "code",
   "execution_count": 1,
   "id": "44249f9a",
   "metadata": {
    "ExecuteTime": {
     "end_time": "2022-05-27T14:44:52.019709Z",
     "start_time": "2022-05-27T14:44:45.429803Z"
    }
   },
   "outputs": [
    {
     "name": "stderr",
     "output_type": "stream",
     "text": [
      "/app/core/explore.py:39: TqdmExperimentalWarning: Using `tqdm.autonotebook.tqdm` in notebook mode. Use `tqdm.tqdm` instead to force console mode (e.g. in jupyter console)\n",
      "  import tqdm.autonotebook as tauton\n"
     ]
    }
   ],
   "source": [
    "%load_ext autoreload\n",
    "%autoreload 2\n",
    "\n",
    "import logging\n",
    "import os\n",
    "import warnings\n",
    "from datetime import timedelta\n",
    "\n",
    "import matplotlib.pyplot as plt\n",
    "import numpy as np\n",
    "import pandas as pd\n",
    "import sklearn.metrics as metrics\n",
    "from sklearn.linear_model import LinearRegression\n",
    "from sklearn.model_selection import GridSearchCV, TimeSeriesSplit, cross_val_score\n",
    "\n",
    "import core.config.config_ as cconconf\n",
    "import core.config.config_utils as ccocouti\n",
    "import core.explore as coexplor\n",
    "import core.features as cofeatur\n",
    "import core.finance.resampling as cfinresa\n",
    "import helpers.hdbg as hdbg\n",
    "import helpers.hpandas as hpandas\n",
    "import helpers.hprint as hprint\n",
    "import helpers.hs3 as hs3\n",
    "import im_v2.crypto_chassis.data.client.crypto_chassis_clients as imvccdcccc\n",
    "import research_amp.cc.crypto_chassis_api as raccchap\n",
    "import research_amp.transform as ramptran"
   ]
  },
  {
   "cell_type": "code",
   "execution_count": 2,
   "id": "296c560f",
   "metadata": {
    "ExecuteTime": {
     "end_time": "2022-05-27T14:44:52.070302Z",
     "start_time": "2022-05-27T14:44:52.022898Z"
    }
   },
   "outputs": [],
   "source": [
    "warnings.filterwarnings(\"ignore\")"
   ]
  },
  {
   "cell_type": "code",
   "execution_count": 3,
   "id": "6153685d",
   "metadata": {
    "ExecuteTime": {
     "end_time": "2022-05-27T14:44:52.144606Z",
     "start_time": "2022-05-27T14:44:52.074451Z"
    }
   },
   "outputs": [
    {
     "name": "stdout",
     "output_type": "stream",
     "text": [
      "\u001b[0m\u001b[36mINFO\u001b[0m: > cmd='/venv/lib/python3.8/site-packages/ipykernel_launcher.py -f /home/.local/share/jupyter/runtime/kernel-185f1a01-1be1-415b-9c78-7f8b02066193.json'\n",
      "WARNING: Running in Jupyter\n",
      "\u001b[33mWARNING\u001b[0m: Disabling annoying warnings\n"
     ]
    }
   ],
   "source": [
    "hdbg.init_logger(verbosity=logging.INFO)\n",
    "\n",
    "_LOG = logging.getLogger(__name__)\n",
    "\n",
    "hprint.config_notebook()"
   ]
  },
  {
   "cell_type": "markdown",
   "id": "03cde933",
   "metadata": {},
   "source": [
    "# Config"
   ]
  },
  {
   "cell_type": "code",
   "execution_count": 11,
   "id": "542fec59",
   "metadata": {
    "ExecuteTime": {
     "end_time": "2022-05-27T14:47:58.110337Z",
     "start_time": "2022-05-27T14:47:58.066288Z"
    }
   },
   "outputs": [
    {
     "name": "stdout",
     "output_type": "stream",
     "text": [
      "data:\n",
      "  im_client:\n",
      "    universe_version: v1\n",
      "    resample_1min: True\n",
      "    root_dir: s3://cryptokaizen-data/reorg/historical.manual.pq\n",
      "    partition_mode: by_year_month\n",
      "    data_snapshot: latest\n",
      "    aws_profile: ck\n",
      "  read_data:\n",
      "    full_symbols: ['binance::BTC_USDT']\n",
      "    start_ts: 2022-01-01 00:00:00+00:00\n",
      "    end_ts: 2022-03-31 23:59:00+00:00\n",
      "    columns: None\n",
      "    filter_data_mode: assert\n",
      "analysis:\n",
      "  resampling_rule: 5T\n",
      "  target_value: volume\n",
      "model:\n",
      "  delay_lag: 1\n",
      "  num_lags: 4\n"
     ]
    }
   ],
   "source": [
    "def get_cmtask1953_config() -> cconconf.Config:\n",
    "    config = cconconf.Config()\n",
    "    param_dict = {\n",
    "        \"data\": {\n",
    "            # Parameters for client initialization.\n",
    "            # TODO(max): ohlcv_im_client\n",
    "            \"im_client\": {\n",
    "                \"universe_version\": \"v1\",\n",
    "                \"resample_1min\": True,\n",
    "                \"root_dir\": os.path.join(\n",
    "                    # hs3.get_s3_bucket_path(\"ck\"),\n",
    "                    \"s3://cryptokaizen-data\",\n",
    "                    \"reorg\",\n",
    "                    \"historical.manual.pq\",\n",
    "                ),\n",
    "                \"partition_mode\": \"by_year_month\",\n",
    "                \"data_snapshot\": \"latest\",\n",
    "                \"aws_profile\": \"ck\",\n",
    "            },\n",
    "            # TODO(max): bid_ask_im_client\n",
    "            # Parameters for data query.\n",
    "            \"read_data\": {\n",
    "                \"full_symbols\": [\"binance::BTC_USDT\"],\n",
    "                \"start_ts\": pd.Timestamp(\"2022-01-01 00:00\", tz=\"UTC\"),\n",
    "                \"end_ts\": pd.Timestamp(\"2022-03-31 23:59\", tz=\"UTC\"),\n",
    "                \"columns\": None,\n",
    "                \"filter_data_mode\": \"assert\",\n",
    "            },\n",
    "        },\n",
    "        \"analysis\": {\n",
    "            \"resampling_rule\": \"5T\",\n",
    "            \"target_value\": \"volume\",\n",
    "        },\n",
    "        \"model\": {\n",
    "            \"delay_lag\": 1,\n",
    "            \"num_lags\": 4,\n",
    "        },\n",
    "    }\n",
    "    config = cconfig.Config.from_dict(param_dict)\n",
    "    return config\n",
    "\n",
    "\n",
    "config = get_cmtask1953_config()\n",
    "print(config)"
   ]
  },
  {
   "cell_type": "markdown",
   "id": "74027f12",
   "metadata": {},
   "source": [
    "# Load the data"
   ]
  },
  {
   "cell_type": "markdown",
   "id": "49f1fd6d",
   "metadata": {},
   "source": [
    "## OHLCV"
   ]
  },
  {
   "cell_type": "code",
   "execution_count": 13,
   "id": "fddd0618",
   "metadata": {
    "ExecuteTime": {
     "end_time": "2022-05-27T14:50:26.737188Z",
     "start_time": "2022-05-27T14:50:19.400282Z"
    }
   },
   "outputs": [
    {
     "data": {
      "text/html": [
       "<div>\n",
       "<style scoped>\n",
       "    .dataframe tbody tr th:only-of-type {\n",
       "        vertical-align: middle;\n",
       "    }\n",
       "\n",
       "    .dataframe tbody tr th {\n",
       "        vertical-align: top;\n",
       "    }\n",
       "\n",
       "    .dataframe thead th {\n",
       "        text-align: right;\n",
       "    }\n",
       "</style>\n",
       "<table border=\"1\" class=\"dataframe\">\n",
       "  <thead>\n",
       "    <tr style=\"text-align: right;\">\n",
       "      <th></th>\n",
       "      <th>open</th>\n",
       "      <th>high</th>\n",
       "      <th>low</th>\n",
       "      <th>close</th>\n",
       "      <th>volume</th>\n",
       "    </tr>\n",
       "    <tr>\n",
       "      <th>timestamp</th>\n",
       "      <th></th>\n",
       "      <th></th>\n",
       "      <th></th>\n",
       "      <th></th>\n",
       "      <th></th>\n",
       "    </tr>\n",
       "  </thead>\n",
       "  <tbody>\n",
       "    <tr>\n",
       "      <th>2022-01-01 00:00:00+00:00</th>\n",
       "      <td>46216.93</td>\n",
       "      <td>46271.08</td>\n",
       "      <td>46208.37</td>\n",
       "      <td>46250.00</td>\n",
       "      <td>40.57574</td>\n",
       "    </tr>\n",
       "    <tr>\n",
       "      <th>2022-01-01 00:05:00+00:00</th>\n",
       "      <td>46250.00</td>\n",
       "      <td>46443.56</td>\n",
       "      <td>46234.39</td>\n",
       "      <td>46436.03</td>\n",
       "      <td>180.96666</td>\n",
       "    </tr>\n",
       "    <tr>\n",
       "      <th>2022-01-01 00:10:00+00:00</th>\n",
       "      <td>46436.03</td>\n",
       "      <td>46527.26</td>\n",
       "      <td>46341.55</td>\n",
       "      <td>46379.80</td>\n",
       "      <td>98.22629</td>\n",
       "    </tr>\n",
       "  </tbody>\n",
       "</table>\n",
       "</div>"
      ],
      "text/plain": [
       "                               open      high       low     close     volume\n",
       "timestamp                                                                   \n",
       "2022-01-01 00:00:00+00:00  46216.93  46271.08  46208.37  46250.00   40.57574\n",
       "2022-01-01 00:05:00+00:00  46250.00  46443.56  46234.39  46436.03  180.96666\n",
       "2022-01-01 00:10:00+00:00  46436.03  46527.26  46341.55  46379.80   98.22629"
      ]
     },
     "execution_count": 13,
     "metadata": {},
     "output_type": "execute_result"
    }
   ],
   "source": [
    "# Initiate the client.\n",
    "client = imvccdcccc.CryptoChassisHistoricalPqByTileClient(\n",
    "    **config[\"data\"][\"im_client\"]\n",
    ")\n",
    "# Load OHLCV data.\n",
    "# TODO(max): -> df_ohlcv\n",
    "btc_ohlcv = client.read_data(**config[\"data\"][\"read_data\"])\n",
    "# Post-processing.\n",
    "# TODO(max): load only a subset of the data from the config\n",
    "ohlcv_cols = [\n",
    "    # \"open\",\n",
    "    # \"high\",\n",
    "    # \"low\",\n",
    "    \"close\",\n",
    "    \"volume\",\n",
    "]\n",
    "btc_ohlcv = btc_ohlcv[ohlcv_cols]\n",
    "# Resample.\n",
    "# TODO(max): compute features on 1 min grid and then resample later\n",
    "btc_ohlcv = cfinresa.resample_ohlcv_bars(\n",
    "    btc_ohlcv, config[\"analysis\"][\"resampling_rule\"]\n",
    ")\n",
    "btc_ohlcv.head(3)"
   ]
  },
  {
   "cell_type": "markdown",
   "id": "70c0fa2b",
   "metadata": {},
   "source": [
    "## Bid ask data"
   ]
  },
  {
   "cell_type": "code",
   "execution_count": 18,
   "id": "c51d8ea0",
   "metadata": {
    "ExecuteTime": {
     "end_time": "2022-05-27T14:58:13.672248Z",
     "start_time": "2022-05-27T14:57:18.164092Z"
    }
   },
   "outputs": [
    {
     "name": "stdout",
     "output_type": "stream",
     "text": [
      "1\n",
      "2\n",
      "3\n"
     ]
    },
    {
     "data": {
      "text/html": [
       "<div>\n",
       "<style scoped>\n",
       "    .dataframe tbody tr th:only-of-type {\n",
       "        vertical-align: middle;\n",
       "    }\n",
       "\n",
       "    .dataframe tbody tr th {\n",
       "        vertical-align: top;\n",
       "    }\n",
       "\n",
       "    .dataframe thead th {\n",
       "        text-align: right;\n",
       "    }\n",
       "</style>\n",
       "<table border=\"1\" class=\"dataframe\">\n",
       "  <thead>\n",
       "    <tr style=\"text-align: right;\">\n",
       "      <th></th>\n",
       "      <th>bid_size</th>\n",
       "      <th>ask_size</th>\n",
       "      <th>bid_price</th>\n",
       "      <th>ask_price</th>\n",
       "      <th>mid</th>\n",
       "      <th>quoted_spread</th>\n",
       "    </tr>\n",
       "    <tr>\n",
       "      <th>timestamp</th>\n",
       "      <th></th>\n",
       "      <th></th>\n",
       "      <th></th>\n",
       "      <th></th>\n",
       "      <th></th>\n",
       "      <th></th>\n",
       "    </tr>\n",
       "  </thead>\n",
       "  <tbody>\n",
       "    <tr>\n",
       "      <th>2022-01-01 00:00:00+00:00</th>\n",
       "      <td>1.08286</td>\n",
       "      <td>0.24793</td>\n",
       "      <td>46214.011719</td>\n",
       "      <td>46214.019531</td>\n",
       "      <td>46214.015625</td>\n",
       "      <td>0.007812</td>\n",
       "    </tr>\n",
       "    <tr>\n",
       "      <th>2022-01-01 00:05:00+00:00</th>\n",
       "      <td>0.15683</td>\n",
       "      <td>0.56893</td>\n",
       "      <td>46321.339844</td>\n",
       "      <td>46321.351562</td>\n",
       "      <td>46321.343750</td>\n",
       "      <td>0.011719</td>\n",
       "    </tr>\n",
       "    <tr>\n",
       "      <th>2022-01-01 00:10:00+00:00</th>\n",
       "      <td>0.39963</td>\n",
       "      <td>0.69478</td>\n",
       "      <td>46371.140625</td>\n",
       "      <td>46371.148438</td>\n",
       "      <td>46371.144531</td>\n",
       "      <td>0.007812</td>\n",
       "    </tr>\n",
       "  </tbody>\n",
       "</table>\n",
       "</div>"
      ],
      "text/plain": [
       "                           bid_size  ask_size     bid_price     ask_price           mid  quoted_spread\n",
       "timestamp                                                                                             \n",
       "2022-01-01 00:00:00+00:00   1.08286   0.24793  46214.011719  46214.019531  46214.015625       0.007812\n",
       "2022-01-01 00:05:00+00:00   0.15683   0.56893  46321.339844  46321.351562  46321.343750       0.011719\n",
       "2022-01-01 00:10:00+00:00   0.39963   0.69478  46371.140625  46371.148438  46371.144531       0.007812"
      ]
     },
     "execution_count": 18,
     "metadata": {},
     "output_type": "execute_result"
    }
   ],
   "source": [
    "start_date = config[\"data\"][\"read_data\"][\"start_ts\"]\n",
    "end_date = config[\"data\"][\"read_data\"][\"end_ts\"]\n",
    "\n",
    "# TODO(max): move also this part to sub-config ImClientBidAsk\n",
    "\n",
    "# Load bid ask from s3. Note: works only for 2022 for now.\n",
    "# TODO(Grisha, Dan): How to load the bid/ask data through ImClient?\n",
    "result = []\n",
    "import helpers.hparquet as hparque\n",
    "\n",
    "for i in range(start_date.month, end_date.month + 1):\n",
    "    print(i)\n",
    "    tmp_df = hparque.from_parquet(\n",
    "        f\"s3://cryptokaizen-data/reorg/historical.manual.pq/20220520/bid_ask/crypto_chassis/binance/currency_pair=BTC_USDT/year=2022/month={i}/data.parquet\",\n",
    "        aws_profile=\"ck\",\n",
    "    )\n",
    "    result.append(tmp_df)\n",
    "bid_ask_btc = pd.concat(result)\n",
    "bid_ask_btc = bid_ask_btc[:end_date]\n",
    "# Add `full_symbol` (necessary param for `calculate_bid_ask_statistics`).\n",
    "bid_ask_btc[\"full_symbol\"] = str(config[\"data\"][\"read_data\"][\"full_symbols\"])[\n",
    "    2:-2\n",
    "]\n",
    "# Choose only valid cols.\n",
    "bid_ask_btc = bid_ask_btc[\n",
    "    [\"bid_price\", \"bid_size\", \"ask_price\", \"ask_size\", \"full_symbol\"]\n",
    "]\n",
    "# Resample.\n",
    "bid_ask_btc = raccchap.resample_bid_ask(\n",
    "    bid_ask_btc, config[\"analysis\"][\"resampling_rule\"]\n",
    ")\n",
    "# Convert.\n",
    "for cols in bid_ask_btc.columns[:-1]:\n",
    "    bid_ask_btc[cols] = pd.to_numeric(bid_ask_btc[cols], downcast=\"float\")\n",
    "\n",
    "# Compute bid ask stats.\n",
    "bid_ask_btc = ramptran.calculate_bid_ask_statistics(bid_ask_btc)\n",
    "# Choose only necessary values.\n",
    "bid_ask_btc = bid_ask_btc.swaplevel(axis=1)[\"binance::BTC_USDT\"][\n",
    "    [\"bid_size\", \"ask_size\", \"bid_price\", \"ask_price\", \"mid\", \"quoted_spread\"]\n",
    "]\n",
    "\n",
    "bid_ask_btc.head(3)"
   ]
  },
  {
   "cell_type": "markdown",
   "id": "a3aad4de",
   "metadata": {},
   "source": [
    "## Combined"
   ]
  },
  {
   "cell_type": "code",
   "execution_count": 19,
   "id": "73201765",
   "metadata": {
    "ExecuteTime": {
     "end_time": "2022-05-27T14:58:19.330616Z",
     "start_time": "2022-05-27T14:58:19.272795Z"
    }
   },
   "outputs": [
    {
     "data": {
      "text/html": [
       "<div>\n",
       "<style scoped>\n",
       "    .dataframe tbody tr th:only-of-type {\n",
       "        vertical-align: middle;\n",
       "    }\n",
       "\n",
       "    .dataframe tbody tr th {\n",
       "        vertical-align: top;\n",
       "    }\n",
       "\n",
       "    .dataframe thead th {\n",
       "        text-align: right;\n",
       "    }\n",
       "</style>\n",
       "<table border=\"1\" class=\"dataframe\">\n",
       "  <thead>\n",
       "    <tr style=\"text-align: right;\">\n",
       "      <th></th>\n",
       "      <th>open</th>\n",
       "      <th>high</th>\n",
       "      <th>low</th>\n",
       "      <th>close</th>\n",
       "      <th>volume</th>\n",
       "      <th>bid_size</th>\n",
       "      <th>ask_size</th>\n",
       "      <th>bid_price</th>\n",
       "      <th>ask_price</th>\n",
       "      <th>mid</th>\n",
       "      <th>quoted_spread</th>\n",
       "    </tr>\n",
       "    <tr>\n",
       "      <th>timestamp</th>\n",
       "      <th></th>\n",
       "      <th></th>\n",
       "      <th></th>\n",
       "      <th></th>\n",
       "      <th></th>\n",
       "      <th></th>\n",
       "      <th></th>\n",
       "      <th></th>\n",
       "      <th></th>\n",
       "      <th></th>\n",
       "      <th></th>\n",
       "    </tr>\n",
       "  </thead>\n",
       "  <tbody>\n",
       "    <tr>\n",
       "      <th>2022-01-01 00:00:00+00:00</th>\n",
       "      <td>46216.93</td>\n",
       "      <td>46271.08</td>\n",
       "      <td>46208.37</td>\n",
       "      <td>46250.00</td>\n",
       "      <td>40.57574</td>\n",
       "      <td>1.08286</td>\n",
       "      <td>0.24793</td>\n",
       "      <td>46214.011719</td>\n",
       "      <td>46214.019531</td>\n",
       "      <td>46214.015625</td>\n",
       "      <td>0.007812</td>\n",
       "    </tr>\n",
       "    <tr>\n",
       "      <th>2022-01-01 00:05:00+00:00</th>\n",
       "      <td>46250.00</td>\n",
       "      <td>46443.56</td>\n",
       "      <td>46234.39</td>\n",
       "      <td>46436.03</td>\n",
       "      <td>180.96666</td>\n",
       "      <td>0.15683</td>\n",
       "      <td>0.56893</td>\n",
       "      <td>46321.339844</td>\n",
       "      <td>46321.351562</td>\n",
       "      <td>46321.343750</td>\n",
       "      <td>0.011719</td>\n",
       "    </tr>\n",
       "    <tr>\n",
       "      <th>2022-01-01 00:10:00+00:00</th>\n",
       "      <td>46436.03</td>\n",
       "      <td>46527.26</td>\n",
       "      <td>46341.55</td>\n",
       "      <td>46379.80</td>\n",
       "      <td>98.22629</td>\n",
       "      <td>0.39963</td>\n",
       "      <td>0.69478</td>\n",
       "      <td>46371.140625</td>\n",
       "      <td>46371.148438</td>\n",
       "      <td>46371.144531</td>\n",
       "      <td>0.007812</td>\n",
       "    </tr>\n",
       "  </tbody>\n",
       "</table>\n",
       "</div>"
      ],
      "text/plain": [
       "                               open      high       low     close     volume  bid_size  ask_size     bid_price     ask_price           mid  quoted_spread\n",
       "timestamp                                                                                                                                                \n",
       "2022-01-01 00:00:00+00:00  46216.93  46271.08  46208.37  46250.00   40.57574   1.08286   0.24793  46214.011719  46214.019531  46214.015625       0.007812\n",
       "2022-01-01 00:05:00+00:00  46250.00  46443.56  46234.39  46436.03  180.96666   0.15683   0.56893  46321.339844  46321.351562  46321.343750       0.011719\n",
       "2022-01-01 00:10:00+00:00  46436.03  46527.26  46341.55  46379.80   98.22629   0.39963   0.69478  46371.140625  46371.148438  46371.144531       0.007812"
      ]
     },
     "execution_count": 19,
     "metadata": {},
     "output_type": "execute_result"
    }
   ],
   "source": [
    "# OHLCV + bid ask\n",
    "btc = pd.concat([btc_ohlcv, bid_ask_btc], axis=1)\n",
    "btc.head(3)"
   ]
  },
  {
   "cell_type": "markdown",
   "id": "ace30295",
   "metadata": {},
   "source": [
    "# Create and test functions for each estimator"
   ]
  },
  {
   "cell_type": "markdown",
   "id": "9a2bd409",
   "metadata": {},
   "source": [
    "## Estimate intraday spread, volume"
   ]
  },
  {
   "cell_type": "code",
   "execution_count": 20,
   "id": "335e291e",
   "metadata": {
    "ExecuteTime": {
     "end_time": "2022-05-27T15:00:03.067960Z",
     "start_time": "2022-05-27T15:00:03.021551Z"
    }
   },
   "outputs": [],
   "source": [
    "def get_target_value(df: pd.DataFrame, timestamp: pd.Timestamp, column_name: str):\n",
    "    \"\"\"\n",
    "    :param df: data that contains spread and/or volume\n",
    "    :param timestamp: timestamp for prediciton\n",
    "    :param column_name: targeted estimation value (e.g., \"quoted_spread\", \"volume\")\n",
    "    :return: value of targeted spread or volume\n",
    "    \"\"\"\n",
    "    hpandas.dassert_monotonic_index(df.index)\n",
    "    if timestamp >= df.index.min() and timestamp <= df.index.max():\n",
    "        value = df[column_name].loc[timestamp]\n",
    "    else:\n",
    "        value = np.nan\n",
    "    return value"
   ]
  },
  {
   "cell_type": "code",
   "execution_count": 21,
   "id": "e7784353",
   "metadata": {
    "ExecuteTime": {
     "end_time": "2022-05-27T15:00:05.529319Z",
     "start_time": "2022-05-27T15:00:05.475182Z"
    }
   },
   "outputs": [
    {
     "data": {
      "text/plain": [
       "0.0078125"
      ]
     },
     "metadata": {},
     "output_type": "display_data"
    },
    {
     "data": {
      "text/plain": [
       "40.57574"
      ]
     },
     "metadata": {},
     "output_type": "display_data"
    }
   ],
   "source": [
    "date = pd.Timestamp(\"2022-01-01 00:00\", tz=\"UTC\")\n",
    "display(get_target_value(btc, date, \"quoted_spread\"))\n",
    "display(get_target_value(btc, date, \"volume\"))"
   ]
  },
  {
   "cell_type": "markdown",
   "id": "d57e0fe1",
   "metadata": {},
   "source": [
    "## Naive estimator"
   ]
  },
  {
   "cell_type": "markdown",
   "id": "0e0536d5",
   "metadata": {},
   "source": [
    "Value(t+2) = Value(t)"
   ]
  },
  {
   "cell_type": "code",
   "execution_count": 22,
   "id": "59416f26",
   "metadata": {
    "ExecuteTime": {
     "end_time": "2022-05-27T15:00:47.866477Z",
     "start_time": "2022-05-27T15:00:47.819798Z"
    }
   },
   "outputs": [],
   "source": [
    "# TODO(max): delete this guy, because we will use lags\n",
    "def get_naive_value(\n",
    "    df: pd.DataFrame,\n",
    "    timestamp: pd.Timestamp,\n",
    "    column_name: str,\n",
    "    delay_in_mins: int = 2,\n",
    ") -> float:\n",
    "    \"\"\"\n",
    "    Estimator for a given time is a `t - delay_in_mins` of a real value.\n",
    "\n",
    "    :param df: data that contains spread and/or volume\n",
    "    :param timestamp: timestamp for prediciton\n",
    "    :param column_name: targeted estimation value (e.g., \"quoted_spread\", \"volume\")\n",
    "    :param delay_in_mins: desired gap for target estimator, in mins\n",
    "    :return: value of predicted spread or volume\n",
    "    \"\"\"\n",
    "    # Check and define delay.\n",
    "    hdbg.dassert_lte(1, delay_in_mins)\n",
    "    delay_in_mins = timedelta(minutes=delay_in_mins)\n",
    "    # Get the value.\n",
    "    lookup_timestamp = timestamp - delay_in_mins\n",
    "    if lookup_timestamp >= df.index.min() and lookup_timestamp <= df.index.max():\n",
    "        value = get_target_value(df, lookup_timestamp, column_name)\n",
    "    else:\n",
    "        value = np.nan\n",
    "    return value"
   ]
  },
  {
   "cell_type": "code",
   "execution_count": 23,
   "id": "94eec9c3",
   "metadata": {
    "ExecuteTime": {
     "end_time": "2022-05-27T15:00:50.051897Z",
     "start_time": "2022-05-27T15:00:50.003030Z"
    }
   },
   "outputs": [
    {
     "data": {
      "text/plain": [
       "0.0078125"
      ]
     },
     "metadata": {},
     "output_type": "display_data"
    },
    {
     "data": {
      "text/plain": [
       "51.08863"
      ]
     },
     "metadata": {},
     "output_type": "display_data"
    }
   ],
   "source": [
    "date = pd.Timestamp(\"2022-01-01 10:00\", tz=\"UTC\")\n",
    "display(get_naive_value(btc, date, \"quoted_spread\", delay_in_mins=10))\n",
    "display(get_naive_value(btc, date, \"volume\", delay_in_mins=10))"
   ]
  },
  {
   "cell_type": "markdown",
   "id": "ee476ef0",
   "metadata": {},
   "source": [
    "## Look back N days"
   ]
  },
  {
   "cell_type": "markdown",
   "id": "85269e03",
   "metadata": {},
   "source": [
    "spread_lookback(t) = E_date[spread(t, date)]"
   ]
  },
  {
   "cell_type": "code",
   "execution_count": 24,
   "id": "52366786",
   "metadata": {
    "ExecuteTime": {
     "end_time": "2022-05-27T15:00:54.646717Z",
     "start_time": "2022-05-27T15:00:54.582702Z"
    }
   },
   "outputs": [],
   "source": [
    "# Add column with intraday time.\n",
    "btc[\"time\"] = btc.index.time"
   ]
  },
  {
   "cell_type": "code",
   "execution_count": 25,
   "id": "6b46e4c7",
   "metadata": {
    "ExecuteTime": {
     "end_time": "2022-05-27T15:01:01.547177Z",
     "start_time": "2022-05-27T15:01:01.498477Z"
    }
   },
   "outputs": [],
   "source": [
    "# TODO(max): -> get_average_intraday_value\n",
    "# TODO(max): This is a feature specific of volume, spread, and volatility (not useful for returns)\n",
    "def get_lookback_value(\n",
    "    df: pd.DataFrame,\n",
    "    timestamp: pd.Timestamp,\n",
    "    lookback_days: int,\n",
    "    column_name: str,\n",
    "    delay: int = 0,\n",
    "    mode: str = \"mean\",\n",
    ") -> float:\n",
    "    \"\"\"\n",
    "    1) Set the period that is equal `timestamp for prediciton` - N days (lookback_days).\n",
    "    2) For that period, calculate mean (or median) value for spread in time during days.\n",
    "    3) Choose this mean value as an estimation for spread in the given timestamp.\n",
    "\n",
    "    :param df: data that contains spread\n",
    "    :param timestamp: timestamp for prediciton\n",
    "    :param lookback_days: historical period for estimation, in days\n",
    "    :param column_name: targeted estimation value (e.g., \"quoted_spread\", \"volume\")\n",
    "    :param delay: how many minutes to substract from the lookback starting period\n",
    "    :param mode: 'mean' or 'median'\n",
    "    :return: value of predicted spread\n",
    "    \"\"\"\n",
    "    # Choose sample data using lookback period (with a delay).\n",
    "    start_date = timestamp - timedelta(days=lookback_days, minutes=delay)\n",
    "    if start_date >= df.index.min() and start_date <= df.index.max():\n",
    "        sample = df.loc[start_date:timestamp]\n",
    "        # Look for the reference value for the period.\n",
    "        time_grouper = sample.groupby(\"time\")\n",
    "        if mode == \"mean\":\n",
    "            grouped = time_grouper[column_name].mean().to_frame()\n",
    "        else:\n",
    "            grouped = time_grouper[column_name].median().to_frame()\n",
    "        # Choose the lookback spread for a given time.\n",
    "        value = get_target_value(grouped, timestamp.time(), column_name)\n",
    "    else:\n",
    "        value = np.nan\n",
    "    return value"
   ]
  },
  {
   "cell_type": "code",
   "execution_count": 26,
   "id": "a5c08371",
   "metadata": {
    "ExecuteTime": {
     "end_time": "2022-05-27T15:01:03.653398Z",
     "start_time": "2022-05-27T15:01:03.593288Z"
    },
    "lines_to_next_cell": 2
   },
   "outputs": [
    {
     "data": {
      "text/plain": [
       "0.5471354"
      ]
     },
     "metadata": {},
     "output_type": "display_data"
    },
    {
     "data": {
      "text/plain": [
       "131.84975533333332"
      ]
     },
     "metadata": {},
     "output_type": "display_data"
    }
   ],
   "source": [
    "date = pd.Timestamp(\"2022-01-21 19:00\", tz=\"UTC\")\n",
    "display(get_lookback_value(btc, date, 14, \"quoted_spread\"))\n",
    "display(get_lookback_value(btc, date, 14, \"volume\"))"
   ]
  },
  {
   "cell_type": "markdown",
   "id": "61d6e6de",
   "metadata": {},
   "source": [
    "# Collect all estimators for the whole period"
   ]
  },
  {
   "cell_type": "code",
   "execution_count": 27,
   "id": "645e56f2",
   "metadata": {
    "ExecuteTime": {
     "end_time": "2022-05-27T15:01:10.774082Z",
     "start_time": "2022-05-27T15:01:10.717100Z"
    }
   },
   "outputs": [],
   "source": [
    "# This is building the ml_df\n",
    "# the predicted var is always y\n",
    "# compute lags\n",
    "# add the median feature\n",
    "\n",
    "\n",
    "def collect_real_naive_lookback_est(\n",
    "    estimators_df: pd.DataFrame,\n",
    "    original_df,\n",
    "    target: str,\n",
    "    est_type: str,\n",
    "    delay_in_mins: int = 2,\n",
    "    lookback: int = 14,\n",
    ") -> pd.DataFrame:\n",
    "    \"\"\"\n",
    "    :param target: e.g., \"spread\" or \"volume\"\n",
    "    :param est_type: e.g., \"real\", \"naive\" or \"lookback\"\n",
    "    \"\"\"\n",
    "    estimators_df[f\"{est_type}_{target}\"] = estimators_df.index\n",
    "    # Add the values of a real value.\n",
    "    if est_type == \"real\":\n",
    "        estimators_df[f\"{est_type}_{target}_0\"] = estimators_df[\n",
    "            f\"{est_type}_{target}\"\n",
    "        ].apply(lambda x: get_target_value(original_df, x, target))\n",
    "        estimators_df = estimators_df.drop(columns=[f\"{est_type}_{target}\"])\n",
    "    # Add the values of naive estimator.\n",
    "    elif est_type == \"naive\":\n",
    "        estimators_df[f\"{est_type}_{target}\"] = estimators_df[\n",
    "            f\"{est_type}_{target}\"\n",
    "        ].apply(lambda x: get_naive_value(original_df, x, target, delay_in_mins))\n",
    "    # Add the values of lookback estimator.\n",
    "    else:\n",
    "        estimators_df[f\"{est_type}_{target}\"] = estimators_df[\n",
    "            f\"{est_type}_{target}\"\n",
    "        ].apply(lambda x: get_lookback_value(original_df, x, lookback, target))\n",
    "    return estimators_df"
   ]
  },
  {
   "cell_type": "code",
   "execution_count": 28,
   "id": "f472ae78",
   "metadata": {
    "ExecuteTime": {
     "end_time": "2022-05-27T15:01:57.528628Z",
     "start_time": "2022-05-27T15:01:12.811125Z"
    },
    "scrolled": false
   },
   "outputs": [
    {
     "data": {
      "text/html": [
       "<div>\n",
       "<style scoped>\n",
       "    .dataframe tbody tr th:only-of-type {\n",
       "        vertical-align: middle;\n",
       "    }\n",
       "\n",
       "    .dataframe tbody tr th {\n",
       "        vertical-align: top;\n",
       "    }\n",
       "\n",
       "    .dataframe thead th {\n",
       "        text-align: right;\n",
       "    }\n",
       "</style>\n",
       "<table border=\"1\" class=\"dataframe\">\n",
       "  <thead>\n",
       "    <tr style=\"text-align: right;\">\n",
       "      <th></th>\n",
       "      <th>real_volume_0</th>\n",
       "      <th>naive_volume</th>\n",
       "      <th>lookback_volume</th>\n",
       "    </tr>\n",
       "    <tr>\n",
       "      <th>timestamp</th>\n",
       "      <th></th>\n",
       "      <th></th>\n",
       "      <th></th>\n",
       "    </tr>\n",
       "  </thead>\n",
       "  <tbody>\n",
       "    <tr>\n",
       "      <th>2022-01-01 00:05:00+00:00</th>\n",
       "      <td>180.96666</td>\n",
       "      <td>NaN</td>\n",
       "      <td>NaN</td>\n",
       "    </tr>\n",
       "    <tr>\n",
       "      <th>2022-01-01 00:10:00+00:00</th>\n",
       "      <td>98.22629</td>\n",
       "      <td>40.57574</td>\n",
       "      <td>NaN</td>\n",
       "    </tr>\n",
       "    <tr>\n",
       "      <th>2022-01-01 00:15:00+00:00</th>\n",
       "      <td>75.29742</td>\n",
       "      <td>180.96666</td>\n",
       "      <td>NaN</td>\n",
       "    </tr>\n",
       "    <tr>\n",
       "      <th>2022-01-01 00:20:00+00:00</th>\n",
       "      <td>119.35267</td>\n",
       "      <td>98.22629</td>\n",
       "      <td>NaN</td>\n",
       "    </tr>\n",
       "    <tr>\n",
       "      <th>2022-01-01 00:25:00+00:00</th>\n",
       "      <td>127.82181</td>\n",
       "      <td>75.29742</td>\n",
       "      <td>NaN</td>\n",
       "    </tr>\n",
       "    <tr>\n",
       "      <th>...</th>\n",
       "      <td>...</td>\n",
       "      <td>...</td>\n",
       "      <td>...</td>\n",
       "    </tr>\n",
       "    <tr>\n",
       "      <th>2022-03-31 23:40:00+00:00</th>\n",
       "      <td>40.98121</td>\n",
       "      <td>59.69498</td>\n",
       "      <td>81.329710</td>\n",
       "    </tr>\n",
       "    <tr>\n",
       "      <th>2022-03-31 23:45:00+00:00</th>\n",
       "      <td>1198.07187</td>\n",
       "      <td>103.27376</td>\n",
       "      <td>180.786126</td>\n",
       "    </tr>\n",
       "    <tr>\n",
       "      <th>2022-03-31 23:50:00+00:00</th>\n",
       "      <td>402.19303</td>\n",
       "      <td>40.98121</td>\n",
       "      <td>125.821641</td>\n",
       "    </tr>\n",
       "    <tr>\n",
       "      <th>2022-03-31 23:55:00+00:00</th>\n",
       "      <td>234.16575</td>\n",
       "      <td>1198.07187</td>\n",
       "      <td>148.622894</td>\n",
       "    </tr>\n",
       "    <tr>\n",
       "      <th>2022-04-01 00:00:00+00:00</th>\n",
       "      <td>127.43150</td>\n",
       "      <td>402.19303</td>\n",
       "      <td>136.871765</td>\n",
       "    </tr>\n",
       "  </tbody>\n",
       "</table>\n",
       "<p>25920 rows Ã 3 columns</p>\n",
       "</div>"
      ],
      "text/plain": [
       "                           real_volume_0  naive_volume  lookback_volume\n",
       "timestamp                                                              \n",
       "2022-01-01 00:05:00+00:00      180.96666           NaN              NaN\n",
       "2022-01-01 00:10:00+00:00       98.22629      40.57574              NaN\n",
       "2022-01-01 00:15:00+00:00       75.29742     180.96666              NaN\n",
       "2022-01-01 00:20:00+00:00      119.35267      98.22629              NaN\n",
       "2022-01-01 00:25:00+00:00      127.82181      75.29742              NaN\n",
       "...                                  ...           ...              ...\n",
       "2022-03-31 23:40:00+00:00       40.98121      59.69498        81.329710\n",
       "2022-03-31 23:45:00+00:00     1198.07187     103.27376       180.786126\n",
       "2022-03-31 23:50:00+00:00      402.19303      40.98121       125.821641\n",
       "2022-03-31 23:55:00+00:00      234.16575    1198.07187       148.622894\n",
       "2022-04-01 00:00:00+00:00      127.43150     402.19303       136.871765\n",
       "\n",
       "[25920 rows x 3 columns]"
      ]
     },
     "execution_count": 28,
     "metadata": {},
     "output_type": "execute_result"
    }
   ],
   "source": [
    "# Generate the separate DataFrame for estimators.\n",
    "estimators = pd.DataFrame(index=btc.index[1:])\n",
    "# Choose the target value.\n",
    "target = config[\"analysis\"][\"target_value\"]\n",
    "delay_in_mins = int(config[\"analysis\"][\"resampling_rule\"][0]) * 2\n",
    "\n",
    "estimators = collect_real_naive_lookback_est(estimators, btc, target, \"real\")\n",
    "estimators = collect_real_naive_lookback_est(\n",
    "    estimators, btc, target, \"naive\", delay_in_mins\n",
    ")\n",
    "estimators = collect_real_naive_lookback_est(estimators, btc, target, \"lookback\")\n",
    "estimators"
   ]
  },
  {
   "cell_type": "markdown",
   "id": "6fabd6db",
   "metadata": {},
   "source": [
    "# Evaluate results"
   ]
  },
  {
   "cell_type": "code",
   "execution_count": null,
   "id": "e4a2a6f5",
   "metadata": {
    "ExecuteTime": {
     "end_time": "2022-05-27T14:44:55.133542Z",
     "start_time": "2022-05-27T14:44:55.133522Z"
    }
   },
   "outputs": [],
   "source": [
    "def get_mean_error(\n",
    "    df: pd.DataFrame,\n",
    "    column_name_actual: str,\n",
    "    column_name_estimator: str,\n",
    "    num_std: int = 1,\n",
    "    print_results: bool = True,\n",
    ") -> pd.Series:\n",
    "    \"\"\"\n",
    "    - Calculate the error of difference between real and estimated values.\n",
    "    - Show the mean and +/- num_std*standard_deviation levels.\n",
    "\n",
    "    :param df: data with real values and estimators\n",
    "    :param column_name_actual: e.g., \"spread\", \"volume\")\n",
    "    :param column_name_estimator: estimator (e.g., \"naive_spread\", \"lookback_spread\")\n",
    "    :param num_std: number of standard deviations from mean\n",
    "    :param print_results: whether or not print results\n",
    "    :return: errors for each data point\n",
    "    \"\"\"\n",
    "    err = (\n",
    "        abs(df[column_name_actual] - df[column_name_estimator])\n",
    "        / df[column_name_actual]\n",
    "    )\n",
    "    err_mean = err.mean()\n",
    "    err_std = err.std()\n",
    "    if print_results:\n",
    "        print(\n",
    "            f\"Mean error + {num_std} std = {err_mean+num_std*err_std} \\\n",
    "              \\nMean error = {err_mean}\\\n",
    "              \\nMean error - {num_std} std = {err_mean-num_std*err_std}\"\n",
    "        )\n",
    "    return err"
   ]
  },
  {
   "cell_type": "code",
   "execution_count": 29,
   "id": "78e2f308",
   "metadata": {
    "ExecuteTime": {
     "end_time": "2022-05-27T15:07:36.106605Z",
     "start_time": "2022-05-27T15:07:36.032234Z"
    },
    "scrolled": true
   },
   "outputs": [
    {
     "data": {
      "text/html": [
       "<div>\n",
       "<style scoped>\n",
       "    .dataframe tbody tr th:only-of-type {\n",
       "        vertical-align: middle;\n",
       "    }\n",
       "\n",
       "    .dataframe tbody tr th {\n",
       "        vertical-align: top;\n",
       "    }\n",
       "\n",
       "    .dataframe thead th {\n",
       "        text-align: right;\n",
       "    }\n",
       "</style>\n",
       "<table border=\"1\" class=\"dataframe\">\n",
       "  <thead>\n",
       "    <tr style=\"text-align: right;\">\n",
       "      <th></th>\n",
       "      <th>real_volume_0</th>\n",
       "      <th>naive_volume</th>\n",
       "      <th>lookback_volume</th>\n",
       "    </tr>\n",
       "    <tr>\n",
       "      <th>timestamp</th>\n",
       "      <th></th>\n",
       "      <th></th>\n",
       "      <th></th>\n",
       "    </tr>\n",
       "  </thead>\n",
       "  <tbody>\n",
       "    <tr>\n",
       "      <th>2022-01-15 00:00:00+00:00</th>\n",
       "      <td>56.55966</td>\n",
       "      <td>38.06835</td>\n",
       "      <td>89.419022</td>\n",
       "    </tr>\n",
       "    <tr>\n",
       "      <th>2022-01-15 00:05:00+00:00</th>\n",
       "      <td>114.03765</td>\n",
       "      <td>40.31712</td>\n",
       "      <td>142.334147</td>\n",
       "    </tr>\n",
       "    <tr>\n",
       "      <th>2022-01-15 00:10:00+00:00</th>\n",
       "      <td>85.44440</td>\n",
       "      <td>56.55966</td>\n",
       "      <td>130.306665</td>\n",
       "    </tr>\n",
       "  </tbody>\n",
       "</table>\n",
       "</div>"
      ],
      "text/plain": [
       "                           real_volume_0  naive_volume  lookback_volume\n",
       "timestamp                                                              \n",
       "2022-01-15 00:00:00+00:00       56.55966      38.06835        89.419022\n",
       "2022-01-15 00:05:00+00:00      114.03765      40.31712       142.334147\n",
       "2022-01-15 00:10:00+00:00       85.44440      56.55966       130.306665"
      ]
     },
     "execution_count": 29,
     "metadata": {},
     "output_type": "execute_result"
    }
   ],
   "source": [
    "# Choose the period that is equally filled by both estimators.\n",
    "test = estimators[estimators[f\"lookback_{target}\"].notna()]\n",
    "test.head(3)"
   ]
  },
  {
   "cell_type": "markdown",
   "id": "1d271e87",
   "metadata": {},
   "source": [
    "## Naive estimator"
   ]
  },
  {
   "cell_type": "code",
   "execution_count": null,
   "id": "f97ef424",
   "metadata": {},
   "outputs": [],
   "source": [
    "# TODO(max): Remove this since it's just testing each predictor by itself in the new framework"
   ]
  },
  {
   "cell_type": "code",
   "execution_count": null,
   "id": "22f8db41",
   "metadata": {
    "ExecuteTime": {
     "end_time": "2022-05-27T14:44:55.139140Z",
     "start_time": "2022-05-27T14:44:55.139067Z"
    }
   },
   "outputs": [],
   "source": [
    "# # Mean error and upper/lower level of errors' standard deviation.\n",
    "# column_name_actual = f\"real_{target}_0\"\n",
    "# column_name_estimator = f\"naive_{target}\"\n",
    "# naive_err = get_mean_error(test, column_name_actual, column_name_estimator)"
   ]
  },
  {
   "cell_type": "code",
   "execution_count": null,
   "id": "48ae9f7a",
   "metadata": {
    "ExecuteTime": {
     "end_time": "2022-05-27T14:44:55.141759Z",
     "start_time": "2022-05-27T14:44:55.141705Z"
    },
    "run_control": {
     "marked": false
    }
   },
   "outputs": [],
   "source": [
    "# # Regress (OLS) between `real_spread` and `naive_spread`.\n",
    "# predicted_var = f\"real_{target}_0\"\n",
    "# predictor_vars = f\"naive_{target}\"\n",
    "# intercept = True\n",
    "# # Run OLS.\n",
    "# coexplor.ols_regress(\n",
    "#     test,\n",
    "#     predicted_var,\n",
    "#     predictor_vars,\n",
    "#     intercept,\n",
    "# )"
   ]
  },
  {
   "cell_type": "code",
   "execution_count": null,
   "id": "6f4c279b",
   "metadata": {
    "ExecuteTime": {
     "end_time": "2022-05-27T14:44:55.146077Z",
     "start_time": "2022-05-27T14:44:55.146048Z"
    }
   },
   "outputs": [],
   "source": [
    "# test[[f\"real_{target}_0\", f\"naive_{target}\"]].plot(figsize=(15, 7))"
   ]
  },
  {
   "cell_type": "markdown",
   "id": "df698048",
   "metadata": {},
   "source": [
    "## Lookback estimator"
   ]
  },
  {
   "cell_type": "code",
   "execution_count": null,
   "id": "ce817220",
   "metadata": {
    "ExecuteTime": {
     "end_time": "2022-05-27T14:44:55.148608Z",
     "start_time": "2022-05-27T14:44:55.148586Z"
    }
   },
   "outputs": [],
   "source": [
    "# # Mean error and upper/lower level of errors' standard deviation.\n",
    "# column_name_actual = f\"real_{target}_0\"\n",
    "# column_name_estimator = f\"lookback_{target}\"\n",
    "# lookback_err = get_mean_error(test, column_name_actual, column_name_estimator)"
   ]
  },
  {
   "cell_type": "code",
   "execution_count": null,
   "id": "16e802f8",
   "metadata": {
    "ExecuteTime": {
     "end_time": "2022-05-27T14:44:55.152776Z",
     "start_time": "2022-05-27T14:44:55.152735Z"
    }
   },
   "outputs": [],
   "source": [
    "# # Regress (OLS) between `real_spread` and `lookback_spread`.\n",
    "# predicted_var = f\"real_{target}_0\"\n",
    "# predictor_vars = f\"lookback_{target}\"\n",
    "# intercept = True\n",
    "# # Run OLS.\n",
    "# coexplor.ols_regress(\n",
    "#     test,\n",
    "#     predicted_var,\n",
    "#     predictor_vars,\n",
    "#     intercept,\n",
    "# )"
   ]
  },
  {
   "cell_type": "code",
   "execution_count": null,
   "id": "d7da15e7",
   "metadata": {
    "ExecuteTime": {
     "end_time": "2022-05-27T14:44:55.154879Z",
     "start_time": "2022-05-27T14:44:55.154846Z"
    },
    "scrolled": false
   },
   "outputs": [],
   "source": [
    "# test[[f\"real_{target}_0\", f\"lookback_{target}\"]].plot(figsize=(15, 7))"
   ]
  },
  {
   "cell_type": "markdown",
   "id": "d005654f",
   "metadata": {},
   "source": [
    "# Predict via sklearn"
   ]
  },
  {
   "cell_type": "markdown",
   "id": "e8953538",
   "metadata": {},
   "source": [
    "## Functions"
   ]
  },
  {
   "cell_type": "code",
   "execution_count": 30,
   "id": "fd42e93f",
   "metadata": {
    "ExecuteTime": {
     "end_time": "2022-05-27T15:08:44.914812Z",
     "start_time": "2022-05-27T15:08:44.858510Z"
    }
   },
   "outputs": [],
   "source": [
    "def regression_results(y_true, y_pred, mae_only: bool = True):\n",
    "    # Regression metrics\n",
    "    mean_absolute_error = metrics.mean_absolute_error(y_true, y_pred)\n",
    "    print(\"MAE: \", round(mean_absolute_error, 4))\n",
    "    if not mae_only:\n",
    "        explained_variance = metrics.explained_variance_score(y_true, y_pred)\n",
    "        mse = metrics.mean_squared_error(y_true, y_pred)\n",
    "        mean_squared_log_error = metrics.mean_squared_log_error(y_true, y_pred)\n",
    "        metrics.median_absolute_error(y_true, y_pred)\n",
    "        r2 = metrics.r2_score(y_true, y_pred)\n",
    "        print(\"mean_squared_log_error: \", round(mean_squared_log_error, 4))\n",
    "        print(\"explained_variance: \", round(explained_variance, 4))\n",
    "        print(\"r2: \", round(r2, 4))\n",
    "        print(\"MAE: \", round(mean_absolute_error, 4))\n",
    "        print(\"MSE: \", round(mse, 4))\n",
    "        print(\"RMSE: \", round(np.sqrt(mse), 4))"
   ]
  },
  {
   "cell_type": "markdown",
   "id": "a2f0d3fc",
   "metadata": {},
   "source": [
    "## Defining training and test sets"
   ]
  },
  {
   "cell_type": "code",
   "execution_count": null,
   "id": "fd9b3f3b",
   "metadata": {},
   "outputs": [],
   "source": [
    "# TODO(max): test_sk -> ml_df"
   ]
  },
  {
   "cell_type": "code",
   "execution_count": 32,
   "id": "1a3b847e",
   "metadata": {
    "ExecuteTime": {
     "end_time": "2022-05-27T15:10:14.196258Z",
     "start_time": "2022-05-27T15:10:14.129638Z"
    },
    "scrolled": true
   },
   "outputs": [
    {
     "name": "stdout",
     "output_type": "stream",
     "text": [
      "OrderedDict([('y_var', 'real_volume_0'), ('x_vars', ['real_volume_2', 'real_volume_3', 'real_volume_4', 'real_volume_5']), ('before_df.shape', (21888, 7)), ('after_df.shape', (21883, 7))])\n"
     ]
    },
    {
     "data": {
      "text/plain": [
       "(21883, 6)"
      ]
     },
     "metadata": {},
     "output_type": "display_data"
    },
    {
     "data": {
      "text/html": [
       "<div>\n",
       "<style scoped>\n",
       "    .dataframe tbody tr th:only-of-type {\n",
       "        vertical-align: middle;\n",
       "    }\n",
       "\n",
       "    .dataframe tbody tr th {\n",
       "        vertical-align: top;\n",
       "    }\n",
       "\n",
       "    .dataframe thead th {\n",
       "        text-align: right;\n",
       "    }\n",
       "</style>\n",
       "<table border=\"1\" class=\"dataframe\">\n",
       "  <thead>\n",
       "    <tr style=\"text-align: right;\">\n",
       "      <th></th>\n",
       "      <th>real_volume_0</th>\n",
       "      <th>lookback_volume</th>\n",
       "      <th>real_volume_2</th>\n",
       "      <th>real_volume_3</th>\n",
       "      <th>real_volume_4</th>\n",
       "      <th>real_volume_5</th>\n",
       "    </tr>\n",
       "    <tr>\n",
       "      <th>timestamp</th>\n",
       "      <th></th>\n",
       "      <th></th>\n",
       "      <th></th>\n",
       "      <th></th>\n",
       "      <th></th>\n",
       "      <th></th>\n",
       "    </tr>\n",
       "  </thead>\n",
       "  <tbody>\n",
       "    <tr>\n",
       "      <th>2022-03-31 23:45:00+00:00</th>\n",
       "      <td>1198.07187</td>\n",
       "      <td>180.786126</td>\n",
       "      <td>103.27376</td>\n",
       "      <td>59.69498</td>\n",
       "      <td>77.29344</td>\n",
       "      <td>127.96985</td>\n",
       "    </tr>\n",
       "    <tr>\n",
       "      <th>2022-03-31 23:50:00+00:00</th>\n",
       "      <td>402.19303</td>\n",
       "      <td>125.821641</td>\n",
       "      <td>40.98121</td>\n",
       "      <td>103.27376</td>\n",
       "      <td>59.69498</td>\n",
       "      <td>77.29344</td>\n",
       "    </tr>\n",
       "    <tr>\n",
       "      <th>2022-03-31 23:55:00+00:00</th>\n",
       "      <td>234.16575</td>\n",
       "      <td>148.622894</td>\n",
       "      <td>1198.07187</td>\n",
       "      <td>40.98121</td>\n",
       "      <td>103.27376</td>\n",
       "      <td>59.69498</td>\n",
       "    </tr>\n",
       "  </tbody>\n",
       "</table>\n",
       "</div>"
      ],
      "text/plain": [
       "                           real_volume_0  lookback_volume  real_volume_2  real_volume_3  real_volume_4  real_volume_5\n",
       "timestamp                                                                                                            \n",
       "2022-03-31 23:45:00+00:00     1198.07187       180.786126      103.27376       59.69498       77.29344      127.96985\n",
       "2022-03-31 23:50:00+00:00      402.19303       125.821641       40.98121      103.27376       59.69498       77.29344\n",
       "2022-03-31 23:55:00+00:00      234.16575       148.622894     1198.07187       40.98121      103.27376       59.69498"
      ]
     },
     "metadata": {},
     "output_type": "display_data"
    },
    {
     "name": "stdout",
     "output_type": "stream",
     "text": [
      "Set of prediciton features = ['lookback_volume', 'real_volume_2', 'real_volume_3', 'real_volume_4', 'real_volume_5']\n"
     ]
    }
   ],
   "source": [
    "# Drop NaNs.\n",
    "test_sk = hpandas.dropna(test)\n",
    "# Get rid of days with only one observations (first and last rows).\n",
    "test_sk = test_sk.iloc[:-1]\n",
    "# Add more lags as features\n",
    "delay_lag = config[\"model\"][\"delay_lag\"]\n",
    "num_lags = config[\"model\"][\"num_lags\"]\n",
    "test_sk, info = cofeatur.compute_lagged_features(\n",
    "    test_sk, f\"real_{target}_0\", delay_lag=delay_lag, num_lags=num_lags\n",
    ")\n",
    "# Hardcoded solution: omit \"naive\" estimator in favor of new lag estimators.\n",
    "test_sk = test_sk.drop(columns=[f\"naive_{target}\"])\n",
    "print(info)\n",
    "# Display the results.\n",
    "# display(test_sk.corr())\n",
    "display(test_sk.shape)\n",
    "display(test_sk.tail(3))\n",
    "print(f\"Set of prediciton features = {list(test_sk.columns[1:])}\")"
   ]
  },
  {
   "cell_type": "markdown",
   "id": "eb3c7887",
   "metadata": {},
   "source": [
    "## Train / test data separation"
   ]
  },
  {
   "cell_type": "code",
   "execution_count": 33,
   "id": "60a04074",
   "metadata": {
    "ExecuteTime": {
     "end_time": "2022-05-27T15:12:26.687341Z",
     "start_time": "2022-05-27T15:12:26.280188Z"
    }
   },
   "outputs": [],
   "source": [
    "# TODO(max): Use time series splits vs train/test\n",
    "start_test = test_sk.index[0].date()\n",
    "end_test = test_sk.index[-1].date()\n",
    "\n",
    "# Training dataset.\n",
    "X_train = test_sk.loc[start_test:\"2022-03-24\"].drop([f\"real_{target}_0\"], axis=1)\n",
    "y_train = test_sk.loc[start_test:\"2022-03-24\", f\"real_{target}_0\"]\n",
    "\n",
    "# Testing dataset.\n",
    "X_test = test_sk.loc[\"2022-03-25\":end_test].drop([f\"real_{target}_0\"], axis=1)\n",
    "y_test = test_sk.loc[\"2022-03-25\":end_test, f\"real_{target}_0\"]"
   ]
  },
  {
   "cell_type": "code",
   "execution_count": 35,
   "id": "5e24d6a9",
   "metadata": {
    "ExecuteTime": {
     "end_time": "2022-05-27T15:12:42.082574Z",
     "start_time": "2022-05-27T15:12:42.039291Z"
    }
   },
   "outputs": [
    {
     "name": "stdout",
     "output_type": "stream",
     "text": [
      "69\n"
     ]
    }
   ],
   "source": [
    "n_splits = (X_train.index.max() - X_train.index.min()).days + 1\n",
    "print(n_splits)"
   ]
  },
  {
   "cell_type": "markdown",
   "id": "1e5c7bd6",
   "metadata": {},
   "source": [
    "## Models Evaluation"
   ]
  },
  {
   "cell_type": "code",
   "execution_count": null,
   "id": "51b1c6bd",
   "metadata": {
    "ExecuteTime": {
     "end_time": "2022-05-27T14:44:55.169592Z",
     "start_time": "2022-05-27T14:44:55.169572Z"
    }
   },
   "outputs": [],
   "source": [
    "# Create a set of various estimation modes.\n",
    "models = []\n",
    "models.append((\"LR\", LinearRegression()))\n",
    "# models.append((\"NN\", MLPRegressor(solver=\"lbfgs\")))  # neural network\n",
    "# models.append((\"KNN\", KNeighborsRegressor()))\n",
    "# models.append(\n",
    "#    (\"RF\", RandomForestRegressor(n_estimators=10))\n",
    "# )  # Ensemble method - collection of many decision trees\n",
    "# models.append((\"SVR\", SVR(gamma=\"auto\")))  # kernel = linear\n",
    "models"
   ]
  },
  {
   "cell_type": "code",
   "execution_count": null,
   "id": "783f84fa",
   "metadata": {
    "ExecuteTime": {
     "end_time": "2022-05-27T14:44:55.173644Z",
     "start_time": "2022-05-27T14:44:55.173619Z"
    },
    "scrolled": true
   },
   "outputs": [],
   "source": [
    "# Evaluate each model in turn\n",
    "results = []\n",
    "names = []\n",
    "results_stats = pd.DataFrame()\n",
    "for name, model in models:\n",
    "    # TimeSeries Cross validation\n",
    "    tscv = TimeSeriesSplit(n_splits=n_splits)\n",
    "\n",
    "    cv_results = cross_val_score(model, X_train, y_train, cv=tscv, scoring=\"r2\")\n",
    "    results.append(cv_results)\n",
    "    names.append(name)\n",
    "    print(\"%s: %f (%f)\" % (name, cv_results.mean(), cv_results.std()))\n",
    "\n",
    "    results_stats.loc[name, \"mean_perf\"] = cv_results.mean()\n",
    "    results_stats.loc[name, \"std_dev_perf\"] = cv_results.std()\n",
    "\n",
    "display(results_stats.sort_values(\"mean_perf\", ascending=False))"
   ]
  },
  {
   "cell_type": "code",
   "execution_count": null,
   "id": "527b5e5c",
   "metadata": {
    "ExecuteTime": {
     "end_time": "2022-05-27T14:44:55.175621Z",
     "start_time": "2022-05-27T14:44:55.175604Z"
    }
   },
   "outputs": [],
   "source": [
    "# Compare Algorithms\n",
    "plt.boxplot(results, labels=names)\n",
    "plt.title(\"Algorithm Comparison\")\n",
    "plt.show()"
   ]
  },
  {
   "cell_type": "markdown",
   "id": "61fb5ac3",
   "metadata": {},
   "source": [
    "### Grid Searching Hyperparameters (LinearRegression)"
   ]
  },
  {
   "cell_type": "code",
   "execution_count": null,
   "id": "43a99c2d",
   "metadata": {
    "ExecuteTime": {
     "end_time": "2022-05-27T14:44:55.177429Z",
     "start_time": "2022-05-27T14:44:55.177412Z"
    },
    "run_control": {
     "marked": false
    }
   },
   "outputs": [],
   "source": [
    "# Model param variations.\n",
    "model = LinearRegression()\n",
    "param_search = {\n",
    "    \"fit_intercept\": [True, False],\n",
    "    \"normalize\": [True, False],\n",
    "    \"n_jobs\": [1, 20, 50],\n",
    "    \"positive\": [True, False],\n",
    "}\n",
    "tscv = TimeSeriesSplit(n_splits=n_splits)\n",
    "# If scoring = None, the estimator's score method is used.\n",
    "\n",
    "# Run the model with different param variations.\n",
    "gsearch = GridSearchCV(\n",
    "    estimator=model,\n",
    "    cv=tscv,\n",
    "    param_grid=param_search,\n",
    ")\n",
    "gsearch.fit(X_train, y_train)"
   ]
  },
  {
   "cell_type": "code",
   "execution_count": null,
   "id": "d9703717",
   "metadata": {
    "ExecuteTime": {
     "end_time": "2022-05-27T14:44:55.179309Z",
     "start_time": "2022-05-27T14:44:55.179292Z"
    }
   },
   "outputs": [],
   "source": [
    "# Results of the best param fit.\n",
    "best_score = gsearch.best_score_\n",
    "best_model = gsearch.best_estimator_\n",
    "display(best_score)\n",
    "display(best_model)"
   ]
  },
  {
   "cell_type": "markdown",
   "id": "221049b0",
   "metadata": {},
   "source": [
    "#### Evaluate results using testing sample"
   ]
  },
  {
   "cell_type": "code",
   "execution_count": null,
   "id": "9367f397",
   "metadata": {
    "ExecuteTime": {
     "end_time": "2022-05-27T14:44:55.181282Z",
     "start_time": "2022-05-27T14:44:55.181265Z"
    }
   },
   "outputs": [],
   "source": [
    "# Estimate testing results.\n",
    "y_true = y_test.values\n",
    "y_pred = best_model.predict(X_test)\n",
    "regression_results(y_true, y_pred)"
   ]
  },
  {
   "cell_type": "code",
   "execution_count": null,
   "id": "5868bf98",
   "metadata": {
    "ExecuteTime": {
     "end_time": "2022-05-27T14:44:55.184297Z",
     "start_time": "2022-05-27T14:44:55.184277Z"
    }
   },
   "outputs": [],
   "source": [
    "# Check coefficients.\n",
    "coef = pd.DataFrame(\n",
    "    {\"coef_value\": best_model.coef_}, index=best_model.feature_names_in_\n",
    ")\n",
    "coef = coef.sort_values(by=\"coef_value\", ascending=False)\n",
    "coef"
   ]
  },
  {
   "cell_type": "code",
   "execution_count": null,
   "id": "67de5b2d",
   "metadata": {
    "ExecuteTime": {
     "end_time": "2022-05-27T14:44:55.187871Z",
     "start_time": "2022-05-27T14:44:55.187830Z"
    }
   },
   "outputs": [],
   "source": [
    "# Plot the results of predicting on testing sample.\n",
    "lr_test = pd.concat([pd.Series(y_true), pd.Series(y_pred)], axis=1)\n",
    "lr_test.columns = [\"true\", \"predicted\"]\n",
    "lr_test.index = y_test.index\n",
    "lr_test.plot(figsize=(15, 7))"
   ]
  },
  {
   "cell_type": "code",
   "execution_count": null,
   "id": "2b0619a0",
   "metadata": {
    "ExecuteTime": {
     "end_time": "2022-05-27T14:44:55.190934Z",
     "start_time": "2022-05-27T14:44:55.190918Z"
    }
   },
   "outputs": [],
   "source": [
    "# Plot the difference between true and predicted values.\n",
    "lr_test[\"diff\"] = lr_test[\"true\"] - lr_test[\"predicted\"]\n",
    "lr_test[\"diff\"].plot(figsize=(15, 7))"
   ]
  }
 ],
 "metadata": {
  "kernelspec": {
   "display_name": "Python 3 (ipykernel)",
   "language": "python",
   "name": "python3"
  },
  "language_info": {
   "codemirror_mode": {
    "name": "ipython",
    "version": 3
   },
   "file_extension": ".py",
   "mimetype": "text/x-python",
   "name": "python",
   "nbconvert_exporter": "python",
   "pygments_lexer": "ipython3",
   "version": "3.8.10"
  },
  "toc": {
   "base_numbering": 1,
   "nav_menu": {},
   "number_sections": true,
   "sideBar": true,
   "skip_h1_title": false,
   "title_cell": "Table of Contents",
   "title_sidebar": "Contents",
   "toc_cell": false,
   "toc_position": {},
   "toc_section_display": true,
   "toc_window_display": true
  }
 },
 "nbformat": 4,
 "nbformat_minor": 5
}
