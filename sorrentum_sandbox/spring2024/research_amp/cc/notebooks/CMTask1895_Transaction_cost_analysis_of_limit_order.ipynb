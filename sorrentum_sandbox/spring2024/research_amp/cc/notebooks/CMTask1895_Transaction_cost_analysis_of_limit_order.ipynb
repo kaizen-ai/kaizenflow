{
 "cells": [
  {
   "cell_type": "markdown",
   "id": "c7d6dcf3",
   "metadata": {},
   "source": [
    "# Imports"
   ]
  },
  {
   "cell_type": "code",
   "execution_count": 1,
   "id": "b2d58645",
   "metadata": {
    "ExecuteTime": {
     "end_time": "2022-05-18T12:42:52.387009Z",
     "start_time": "2022-05-18T12:42:48.777738Z"
    }
   },
   "outputs": [
    {
     "name": "stderr",
     "output_type": "stream",
     "text": [
      "/app/core/explore.py:39: TqdmExperimentalWarning: Using `tqdm.autonotebook.tqdm` in notebook mode. Use `tqdm.tqdm` instead to force console mode (e.g. in jupyter console)\n",
      "  import tqdm.autonotebook as tauton\n"
     ]
    }
   ],
   "source": [
    "%load_ext autoreload\n",
    "%autoreload 2\n",
    "\n",
    "\n",
    "import logging\n",
    "from datetime import timedelta\n",
    "\n",
    "import pandas as pd\n",
    "import seaborn as sns\n",
    "\n",
    "import core.plotting.normality as cplonorm\n",
    "import helpers.hdbg as hdbg\n",
    "import helpers.hprint as hprint\n",
    "import research_amp.transform as ramptran"
   ]
  },
  {
   "cell_type": "code",
   "execution_count": 2,
   "id": "1d7eee6b",
   "metadata": {
    "ExecuteTime": {
     "end_time": "2022-05-18T12:42:52.445330Z",
     "start_time": "2022-05-18T12:42:52.390124Z"
    }
   },
   "outputs": [
    {
     "name": "stdout",
     "output_type": "stream",
     "text": [
      "\u001b[0m\u001b[36mINFO\u001b[0m: > cmd='/venv/lib/python3.8/site-packages/ipykernel_launcher.py -f /home/.local/share/jupyter/runtime/kernel-da61723e-0535-4cbe-b8f4-486822540eb3.json'\n",
      "WARNING: Running in Jupyter\n",
      "\u001b[33mWARNING\u001b[0m: Disabling annoying warnings\n"
     ]
    }
   ],
   "source": [
    "hdbg.init_logger(verbosity=logging.INFO)\n",
    "\n",
    "_LOG = logging.getLogger(__name__)\n",
    "\n",
    "hprint.config_notebook()"
   ]
  },
  {
   "cell_type": "markdown",
   "id": "f6bd1ef0",
   "metadata": {},
   "source": [
    "# Load the data"
   ]
  },
  {
   "cell_type": "markdown",
   "id": "ba1a48f1",
   "metadata": {},
   "source": [
    "## OHLCV"
   ]
  },
  {
   "cell_type": "code",
   "execution_count": 3,
   "id": "3fd3a4cf",
   "metadata": {
    "ExecuteTime": {
     "end_time": "2022-05-18T12:42:52.762224Z",
     "start_time": "2022-05-18T12:42:52.450903Z"
    },
    "run_control": {
     "marked": false
    }
   },
   "outputs": [
    {
     "data": {
      "text/html": [
       "<div>\n",
       "<style scoped>\n",
       "    .dataframe tbody tr th:only-of-type {\n",
       "        vertical-align: middle;\n",
       "    }\n",
       "\n",
       "    .dataframe tbody tr th {\n",
       "        vertical-align: top;\n",
       "    }\n",
       "\n",
       "    .dataframe thead th {\n",
       "        text-align: right;\n",
       "    }\n",
       "</style>\n",
       "<table border=\"1\" class=\"dataframe\">\n",
       "  <thead>\n",
       "    <tr style=\"text-align: right;\">\n",
       "      <th></th>\n",
       "      <th>open</th>\n",
       "      <th>high</th>\n",
       "      <th>low</th>\n",
       "      <th>close</th>\n",
       "      <th>volume</th>\n",
       "    </tr>\n",
       "    <tr>\n",
       "      <th>timestamp</th>\n",
       "      <th></th>\n",
       "      <th></th>\n",
       "      <th></th>\n",
       "      <th></th>\n",
       "      <th></th>\n",
       "    </tr>\n",
       "  </thead>\n",
       "  <tbody>\n",
       "    <tr>\n",
       "      <th>2022-01-01 00:00:00+00:00</th>\n",
       "      <td>46216.93</td>\n",
       "      <td>46271.08</td>\n",
       "      <td>46208.37</td>\n",
       "      <td>46250.00</td>\n",
       "      <td>40.57574</td>\n",
       "    </tr>\n",
       "    <tr>\n",
       "      <th>2022-01-01 00:01:00+00:00</th>\n",
       "      <td>46250.00</td>\n",
       "      <td>46344.23</td>\n",
       "      <td>46234.39</td>\n",
       "      <td>46312.76</td>\n",
       "      <td>42.38106</td>\n",
       "    </tr>\n",
       "    <tr>\n",
       "      <th>2022-01-01 00:02:00+00:00</th>\n",
       "      <td>46312.76</td>\n",
       "      <td>46381.69</td>\n",
       "      <td>46292.75</td>\n",
       "      <td>46368.73</td>\n",
       "      <td>51.29955</td>\n",
       "    </tr>\n",
       "  </tbody>\n",
       "</table>\n",
       "</div>"
      ],
      "text/plain": [
       "                               open      high       low     close    volume\n",
       "timestamp                                                                  \n",
       "2022-01-01 00:00:00+00:00  46216.93  46271.08  46208.37  46250.00  40.57574\n",
       "2022-01-01 00:01:00+00:00  46250.00  46344.23  46234.39  46312.76  42.38106\n",
       "2022-01-01 00:02:00+00:00  46312.76  46381.69  46292.75  46368.73  51.29955"
      ]
     },
     "execution_count": 3,
     "metadata": {},
     "output_type": "execute_result"
    }
   ],
   "source": [
    "# Read saved 1 month of data.\n",
    "ohlcv_cc = pd.read_csv(\"/shared_data/cc_ohlcv.csv\", index_col=\"timestamp\")\n",
    "btc_ohlcv = ohlcv_cc[ohlcv_cc[\"full_symbol\"] == \"binance::BTC_USDT\"]\n",
    "btc_ohlcv.index = pd.to_datetime(btc_ohlcv.index)\n",
    "ohlcv_cols = [\n",
    "    \"open\",\n",
    "    \"high\",\n",
    "    \"low\",\n",
    "    \"close\",\n",
    "    \"volume\",\n",
    "]\n",
    "btc_ohlcv = btc_ohlcv[ohlcv_cols]\n",
    "btc_ohlcv.head(3)"
   ]
  },
  {
   "cell_type": "markdown",
   "id": "f78dfdbf",
   "metadata": {},
   "source": [
    "## Bid-ask data"
   ]
  },
  {
   "cell_type": "markdown",
   "id": "06b0e352",
   "metadata": {},
   "source": [
    "Specs for the current data snapshot:\n",
    "- Originally, bid-ask data from crypto-chassis appears in `seconds` frequency\n",
    "- In order to be consistent with the OHLCV data one needs to resample it to `1-minute` frequency\n",
    "- While resampling the `last` parameter was set for both price and sizes\n",
    "- Data range: January 2022"
   ]
  },
  {
   "cell_type": "code",
   "execution_count": 4,
   "id": "b91015b5",
   "metadata": {
    "ExecuteTime": {
     "end_time": "2022-05-18T12:42:52.904957Z",
     "start_time": "2022-05-18T12:42:52.764811Z"
    },
    "run_control": {
     "marked": false
    }
   },
   "outputs": [
    {
     "data": {
      "text/html": [
       "<div>\n",
       "<style scoped>\n",
       "    .dataframe tbody tr th:only-of-type {\n",
       "        vertical-align: middle;\n",
       "    }\n",
       "\n",
       "    .dataframe tbody tr th {\n",
       "        vertical-align: top;\n",
       "    }\n",
       "\n",
       "    .dataframe thead th {\n",
       "        text-align: right;\n",
       "    }\n",
       "</style>\n",
       "<table border=\"1\" class=\"dataframe\">\n",
       "  <thead>\n",
       "    <tr style=\"text-align: right;\">\n",
       "      <th></th>\n",
       "      <th>bid_price</th>\n",
       "      <th>bid_size</th>\n",
       "      <th>ask_price</th>\n",
       "      <th>ask_size</th>\n",
       "      <th>full_symbol</th>\n",
       "    </tr>\n",
       "    <tr>\n",
       "      <th>timestamp</th>\n",
       "      <th></th>\n",
       "      <th></th>\n",
       "      <th></th>\n",
       "      <th></th>\n",
       "      <th></th>\n",
       "    </tr>\n",
       "  </thead>\n",
       "  <tbody>\n",
       "    <tr>\n",
       "      <th>2022-01-01 00:00:00+00:00</th>\n",
       "      <td>46214.01</td>\n",
       "      <td>1.08286</td>\n",
       "      <td>46214.02</td>\n",
       "      <td>0.24793</td>\n",
       "      <td>binance::BTC_USDT</td>\n",
       "    </tr>\n",
       "    <tr>\n",
       "      <th>2022-01-01 00:01:00+00:00</th>\n",
       "      <td>46250.00</td>\n",
       "      <td>0.31064</td>\n",
       "      <td>46250.01</td>\n",
       "      <td>0.47658</td>\n",
       "      <td>binance::BTC_USDT</td>\n",
       "    </tr>\n",
       "    <tr>\n",
       "      <th>2022-01-01 00:02:00+00:00</th>\n",
       "      <td>46310.01</td>\n",
       "      <td>0.99036</td>\n",
       "      <td>46318.11</td>\n",
       "      <td>0.03050</td>\n",
       "      <td>binance::BTC_USDT</td>\n",
       "    </tr>\n",
       "  </tbody>\n",
       "</table>\n",
       "</div>"
      ],
      "text/plain": [
       "                           bid_price  bid_size  ask_price  ask_size        full_symbol\n",
       "timestamp                                                                             \n",
       "2022-01-01 00:00:00+00:00   46214.01   1.08286   46214.02   0.24793  binance::BTC_USDT\n",
       "2022-01-01 00:01:00+00:00   46250.00   0.31064   46250.01   0.47658  binance::BTC_USDT\n",
       "2022-01-01 00:02:00+00:00   46310.01   0.99036   46318.11   0.03050  binance::BTC_USDT"
      ]
     },
     "execution_count": 4,
     "metadata": {},
     "output_type": "execute_result"
    }
   ],
   "source": [
    "# Read saved 1 month of data.\n",
    "bid_ask_btc = pd.read_csv(\n",
    "    \"/shared_data/bid_ask_btc_jan22_1min_last.csv\", index_col=\"timestamp\"\n",
    ")\n",
    "bid_ask_btc.index = pd.to_datetime(bid_ask_btc.index)\n",
    "\n",
    "# Read from crypto_chassis directly.\n",
    "# Specify the params.\n",
    "# full_symbols = [\"binance::BTC_USDT\"]\n",
    "# start_date = pd.Timestamp(\"2022-01-01\", tz=\"UTC\")\n",
    "# end_date = pd.Timestamp(\"2022-02-01\", tz=\"UTC\")\n",
    "# Get the data.\n",
    "# bid_ask_df = raccchap.read_and_resample_bid_ask_data(\n",
    "#   full_symbols, start_date, end_date, \"1T\"\n",
    "# )\n",
    "bid_ask_btc.head(3)"
   ]
  },
  {
   "cell_type": "code",
   "execution_count": 5,
   "id": "db9021e7",
   "metadata": {
    "ExecuteTime": {
     "end_time": "2022-05-18T12:42:53.100822Z",
     "start_time": "2022-05-18T12:42:52.907122Z"
    }
   },
   "outputs": [
    {
     "data": {
      "text/html": [
       "<div>\n",
       "<style scoped>\n",
       "    .dataframe tbody tr th:only-of-type {\n",
       "        vertical-align: middle;\n",
       "    }\n",
       "\n",
       "    .dataframe tbody tr th {\n",
       "        vertical-align: top;\n",
       "    }\n",
       "\n",
       "    .dataframe thead th {\n",
       "        text-align: right;\n",
       "    }\n",
       "</style>\n",
       "<table border=\"1\" class=\"dataframe\">\n",
       "  <thead>\n",
       "    <tr style=\"text-align: right;\">\n",
       "      <th></th>\n",
       "      <th>bid_price</th>\n",
       "      <th>bid_size</th>\n",
       "      <th>ask_price</th>\n",
       "      <th>ask_size</th>\n",
       "      <th>full_symbol</th>\n",
       "    </tr>\n",
       "    <tr>\n",
       "      <th>timestamp</th>\n",
       "      <th></th>\n",
       "      <th></th>\n",
       "      <th></th>\n",
       "      <th></th>\n",
       "      <th></th>\n",
       "    </tr>\n",
       "  </thead>\n",
       "  <tbody>\n",
       "    <tr>\n",
       "      <th>2022-01-01 00:00:00+00:00</th>\n",
       "      <td>46214.01</td>\n",
       "      <td>1.08286</td>\n",
       "      <td>46214.02</td>\n",
       "      <td>0.24793</td>\n",
       "      <td>binance::BTC_USDT</td>\n",
       "    </tr>\n",
       "    <tr>\n",
       "      <th>2022-01-01 00:01:00+00:00</th>\n",
       "      <td>46250.00</td>\n",
       "      <td>0.31064</td>\n",
       "      <td>46250.01</td>\n",
       "      <td>0.47658</td>\n",
       "      <td>binance::BTC_USDT</td>\n",
       "    </tr>\n",
       "    <tr>\n",
       "      <th>2022-01-01 00:02:00+00:00</th>\n",
       "      <td>46310.01</td>\n",
       "      <td>0.99036</td>\n",
       "      <td>46318.11</td>\n",
       "      <td>0.03050</td>\n",
       "      <td>binance::BTC_USDT</td>\n",
       "    </tr>\n",
       "    <tr>\n",
       "      <th>2022-01-01 00:03:00+00:00</th>\n",
       "      <td>46368.72</td>\n",
       "      <td>0.42379</td>\n",
       "      <td>46368.73</td>\n",
       "      <td>1.16237</td>\n",
       "      <td>binance::BTC_USDT</td>\n",
       "    </tr>\n",
       "    <tr>\n",
       "      <th>2022-01-01 00:04:00+00:00</th>\n",
       "      <td>46331.07</td>\n",
       "      <td>1.44732</td>\n",
       "      <td>46331.08</td>\n",
       "      <td>1.09106</td>\n",
       "      <td>binance::BTC_USDT</td>\n",
       "    </tr>\n",
       "  </tbody>\n",
       "</table>\n",
       "</div>"
      ],
      "text/plain": [
       "                           bid_price  bid_size  ask_price  ask_size        full_symbol\n",
       "timestamp                                                                             \n",
       "2022-01-01 00:00:00+00:00   46214.01   1.08286   46214.02   0.24793  binance::BTC_USDT\n",
       "2022-01-01 00:01:00+00:00   46250.00   0.31064   46250.01   0.47658  binance::BTC_USDT\n",
       "2022-01-01 00:02:00+00:00   46310.01   0.99036   46318.11   0.03050  binance::BTC_USDT\n",
       "2022-01-01 00:03:00+00:00   46368.72   0.42379   46368.73   1.16237  binance::BTC_USDT\n",
       "2022-01-01 00:04:00+00:00   46331.07   1.44732   46331.08   1.09106  binance::BTC_USDT"
      ]
     },
     "metadata": {},
     "output_type": "display_data"
    },
    {
     "data": {
      "text/html": [
       "<div>\n",
       "<style scoped>\n",
       "    .dataframe tbody tr th:only-of-type {\n",
       "        vertical-align: middle;\n",
       "    }\n",
       "\n",
       "    .dataframe tbody tr th {\n",
       "        vertical-align: top;\n",
       "    }\n",
       "\n",
       "    .dataframe thead tr th {\n",
       "        text-align: left;\n",
       "    }\n",
       "\n",
       "    .dataframe thead tr:last-of-type th {\n",
       "        text-align: right;\n",
       "    }\n",
       "</style>\n",
       "<table border=\"1\" class=\"dataframe\">\n",
       "  <thead>\n",
       "    <tr>\n",
       "      <th></th>\n",
       "      <th>ask_price</th>\n",
       "      <th>ask_size</th>\n",
       "      <th>bid_price</th>\n",
       "      <th>bid_size</th>\n",
       "    </tr>\n",
       "    <tr>\n",
       "      <th></th>\n",
       "      <th>binance::BTC_USDT</th>\n",
       "      <th>binance::BTC_USDT</th>\n",
       "      <th>binance::BTC_USDT</th>\n",
       "      <th>binance::BTC_USDT</th>\n",
       "    </tr>\n",
       "    <tr>\n",
       "      <th>timestamp</th>\n",
       "      <th></th>\n",
       "      <th></th>\n",
       "      <th></th>\n",
       "      <th></th>\n",
       "    </tr>\n",
       "  </thead>\n",
       "  <tbody>\n",
       "    <tr>\n",
       "      <th>2022-01-01 00:00:00+00:00</th>\n",
       "      <td>46214.02</td>\n",
       "      <td>0.24793</td>\n",
       "      <td>46214.01</td>\n",
       "      <td>1.08286</td>\n",
       "    </tr>\n",
       "    <tr>\n",
       "      <th>2022-01-01 00:01:00+00:00</th>\n",
       "      <td>46250.01</td>\n",
       "      <td>0.47658</td>\n",
       "      <td>46250.00</td>\n",
       "      <td>0.31064</td>\n",
       "    </tr>\n",
       "    <tr>\n",
       "      <th>2022-01-01 00:02:00+00:00</th>\n",
       "      <td>46318.11</td>\n",
       "      <td>0.03050</td>\n",
       "      <td>46310.01</td>\n",
       "      <td>0.99036</td>\n",
       "    </tr>\n",
       "    <tr>\n",
       "      <th>2022-01-01 00:03:00+00:00</th>\n",
       "      <td>46368.73</td>\n",
       "      <td>1.16237</td>\n",
       "      <td>46368.72</td>\n",
       "      <td>0.42379</td>\n",
       "    </tr>\n",
       "    <tr>\n",
       "      <th>2022-01-01 00:04:00+00:00</th>\n",
       "      <td>46331.08</td>\n",
       "      <td>1.09106</td>\n",
       "      <td>46331.07</td>\n",
       "      <td>1.44732</td>\n",
       "    </tr>\n",
       "  </tbody>\n",
       "</table>\n",
       "</div>"
      ],
      "text/plain": [
       "                                  ask_price          ask_size         bid_price          bid_size\n",
       "                          binance::BTC_USDT binance::BTC_USDT binance::BTC_USDT binance::BTC_USDT\n",
       "timestamp                                                                                        \n",
       "2022-01-01 00:00:00+00:00          46214.02           0.24793          46214.01           1.08286\n",
       "2022-01-01 00:01:00+00:00          46250.01           0.47658          46250.00           0.31064\n",
       "2022-01-01 00:02:00+00:00          46318.11           0.03050          46310.01           0.99036\n",
       "2022-01-01 00:03:00+00:00          46368.73           1.16237          46368.72           0.42379\n",
       "2022-01-01 00:04:00+00:00          46331.08           1.09106          46331.07           1.44732"
      ]
     },
     "metadata": {},
     "output_type": "display_data"
    },
    {
     "data": {
      "text/html": [
       "<div>\n",
       "<style scoped>\n",
       "    .dataframe tbody tr th:only-of-type {\n",
       "        vertical-align: middle;\n",
       "    }\n",
       "\n",
       "    .dataframe tbody tr th {\n",
       "        vertical-align: top;\n",
       "    }\n",
       "\n",
       "    .dataframe thead th {\n",
       "        text-align: right;\n",
       "    }\n",
       "</style>\n",
       "<table border=\"1\" class=\"dataframe\">\n",
       "  <thead>\n",
       "    <tr style=\"text-align: right;\">\n",
       "      <th></th>\n",
       "      <th>bid_size</th>\n",
       "      <th>ask_size</th>\n",
       "      <th>bid_price</th>\n",
       "      <th>ask_price</th>\n",
       "      <th>mid</th>\n",
       "      <th>quoted_spread</th>\n",
       "    </tr>\n",
       "    <tr>\n",
       "      <th>timestamp</th>\n",
       "      <th></th>\n",
       "      <th></th>\n",
       "      <th></th>\n",
       "      <th></th>\n",
       "      <th></th>\n",
       "      <th></th>\n",
       "    </tr>\n",
       "  </thead>\n",
       "  <tbody>\n",
       "    <tr>\n",
       "      <th>2021-12-31 23:59:00+00:00</th>\n",
       "      <td>1.08286</td>\n",
       "      <td>0.24793</td>\n",
       "      <td>46214.01</td>\n",
       "      <td>46214.02</td>\n",
       "      <td>46214.015</td>\n",
       "      <td>0.01</td>\n",
       "    </tr>\n",
       "    <tr>\n",
       "      <th>2022-01-01 00:00:00+00:00</th>\n",
       "      <td>0.31064</td>\n",
       "      <td>0.47658</td>\n",
       "      <td>46250.00</td>\n",
       "      <td>46250.01</td>\n",
       "      <td>46250.005</td>\n",
       "      <td>0.01</td>\n",
       "    </tr>\n",
       "    <tr>\n",
       "      <th>2022-01-01 00:01:00+00:00</th>\n",
       "      <td>0.99036</td>\n",
       "      <td>0.03050</td>\n",
       "      <td>46310.01</td>\n",
       "      <td>46318.11</td>\n",
       "      <td>46314.060</td>\n",
       "      <td>8.10</td>\n",
       "    </tr>\n",
       "    <tr>\n",
       "      <th>2022-01-01 00:02:00+00:00</th>\n",
       "      <td>0.42379</td>\n",
       "      <td>1.16237</td>\n",
       "      <td>46368.72</td>\n",
       "      <td>46368.73</td>\n",
       "      <td>46368.725</td>\n",
       "      <td>0.01</td>\n",
       "    </tr>\n",
       "    <tr>\n",
       "      <th>2022-01-01 00:03:00+00:00</th>\n",
       "      <td>1.44732</td>\n",
       "      <td>1.09106</td>\n",
       "      <td>46331.07</td>\n",
       "      <td>46331.08</td>\n",
       "      <td>46331.075</td>\n",
       "      <td>0.01</td>\n",
       "    </tr>\n",
       "    <tr>\n",
       "      <th>...</th>\n",
       "      <td>...</td>\n",
       "      <td>...</td>\n",
       "      <td>...</td>\n",
       "      <td>...</td>\n",
       "      <td>...</td>\n",
       "      <td>...</td>\n",
       "    </tr>\n",
       "    <tr>\n",
       "      <th>2022-01-31 23:55:00+00:00</th>\n",
       "      <td>0.16829</td>\n",
       "      <td>0.36869</td>\n",
       "      <td>38486.24</td>\n",
       "      <td>38486.25</td>\n",
       "      <td>38486.245</td>\n",
       "      <td>0.01</td>\n",
       "    </tr>\n",
       "    <tr>\n",
       "      <th>2022-01-31 23:56:00+00:00</th>\n",
       "      <td>0.54947</td>\n",
       "      <td>1.81137</td>\n",
       "      <td>38499.99</td>\n",
       "      <td>38500.00</td>\n",
       "      <td>38499.995</td>\n",
       "      <td>0.01</td>\n",
       "    </tr>\n",
       "    <tr>\n",
       "      <th>2022-01-31 23:57:00+00:00</th>\n",
       "      <td>0.02032</td>\n",
       "      <td>0.95172</td>\n",
       "      <td>38495.51</td>\n",
       "      <td>38495.52</td>\n",
       "      <td>38495.515</td>\n",
       "      <td>0.01</td>\n",
       "    </tr>\n",
       "    <tr>\n",
       "      <th>2022-01-31 23:58:00+00:00</th>\n",
       "      <td>0.89151</td>\n",
       "      <td>0.18650</td>\n",
       "      <td>38500.98</td>\n",
       "      <td>38500.99</td>\n",
       "      <td>38500.985</td>\n",
       "      <td>0.01</td>\n",
       "    </tr>\n",
       "    <tr>\n",
       "      <th>2022-01-31 23:59:00+00:00</th>\n",
       "      <td>0.54286</td>\n",
       "      <td>1.53105</td>\n",
       "      <td>38463.88</td>\n",
       "      <td>38463.89</td>\n",
       "      <td>38463.885</td>\n",
       "      <td>0.01</td>\n",
       "    </tr>\n",
       "  </tbody>\n",
       "</table>\n",
       "<p>44641 rows × 6 columns</p>\n",
       "</div>"
      ],
      "text/plain": [
       "                           bid_size  ask_size  bid_price  ask_price        mid  quoted_spread\n",
       "timestamp                                                                                    \n",
       "2021-12-31 23:59:00+00:00   1.08286   0.24793   46214.01   46214.02  46214.015           0.01\n",
       "2022-01-01 00:00:00+00:00   0.31064   0.47658   46250.00   46250.01  46250.005           0.01\n",
       "2022-01-01 00:01:00+00:00   0.99036   0.03050   46310.01   46318.11  46314.060           8.10\n",
       "2022-01-01 00:02:00+00:00   0.42379   1.16237   46368.72   46368.73  46368.725           0.01\n",
       "2022-01-01 00:03:00+00:00   1.44732   1.09106   46331.07   46331.08  46331.075           0.01\n",
       "...                             ...       ...        ...        ...        ...            ...\n",
       "2022-01-31 23:55:00+00:00   0.16829   0.36869   38486.24   38486.25  38486.245           0.01\n",
       "2022-01-31 23:56:00+00:00   0.54947   1.81137   38499.99   38500.00  38499.995           0.01\n",
       "2022-01-31 23:57:00+00:00   0.02032   0.95172   38495.51   38495.52  38495.515           0.01\n",
       "2022-01-31 23:58:00+00:00   0.89151   0.18650   38500.98   38500.99  38500.985           0.01\n",
       "2022-01-31 23:59:00+00:00   0.54286   1.53105   38463.88   38463.89  38463.885           0.01\n",
       "\n",
       "[44641 rows x 6 columns]"
      ]
     },
     "execution_count": 5,
     "metadata": {},
     "output_type": "execute_result"
    }
   ],
   "source": [
    "# Transform the data.\n",
    "bid_ask_btc.index = pd.to_datetime(bid_ask_btc.index)\n",
    "# Compute bid ask stats.\n",
    "bid_ask_btc = ramptran.calculate_bid_ask_statistics(bid_ask_btc)\n",
    "# Choose only necessary values.\n",
    "bid_ask_btc = bid_ask_btc.swaplevel(axis=1)[\"binance::BTC_USDT\"][\n",
    "    [\"bid_size\", \"ask_size\", \"bid_price\", \"ask_price\", \"mid\", \"quoted_spread\"]\n",
    "]\n",
    "bid_ask_btc.index = bid_ask_btc.index.shift(-1, freq=\"T\")\n",
    "bid_ask_btc"
   ]
  },
  {
   "cell_type": "markdown",
   "id": "1cffc280",
   "metadata": {},
   "source": [
    "## Combined"
   ]
  },
  {
   "cell_type": "code",
   "execution_count": 6,
   "id": "2dc9d9d0",
   "metadata": {
    "ExecuteTime": {
     "end_time": "2022-05-18T12:42:53.163097Z",
     "start_time": "2022-05-18T12:42:53.102848Z"
    }
   },
   "outputs": [
    {
     "data": {
      "text/html": [
       "<div>\n",
       "<style scoped>\n",
       "    .dataframe tbody tr th:only-of-type {\n",
       "        vertical-align: middle;\n",
       "    }\n",
       "\n",
       "    .dataframe tbody tr th {\n",
       "        vertical-align: top;\n",
       "    }\n",
       "\n",
       "    .dataframe thead th {\n",
       "        text-align: right;\n",
       "    }\n",
       "</style>\n",
       "<table border=\"1\" class=\"dataframe\">\n",
       "  <thead>\n",
       "    <tr style=\"text-align: right;\">\n",
       "      <th></th>\n",
       "      <th>open</th>\n",
       "      <th>high</th>\n",
       "      <th>low</th>\n",
       "      <th>close</th>\n",
       "      <th>volume</th>\n",
       "      <th>bid_size</th>\n",
       "      <th>ask_size</th>\n",
       "      <th>bid_price</th>\n",
       "      <th>ask_price</th>\n",
       "      <th>mid</th>\n",
       "      <th>quoted_spread</th>\n",
       "    </tr>\n",
       "    <tr>\n",
       "      <th>timestamp</th>\n",
       "      <th></th>\n",
       "      <th></th>\n",
       "      <th></th>\n",
       "      <th></th>\n",
       "      <th></th>\n",
       "      <th></th>\n",
       "      <th></th>\n",
       "      <th></th>\n",
       "      <th></th>\n",
       "      <th></th>\n",
       "      <th></th>\n",
       "    </tr>\n",
       "  </thead>\n",
       "  <tbody>\n",
       "    <tr>\n",
       "      <th>2021-12-31 23:59:00+00:00</th>\n",
       "      <td>NaN</td>\n",
       "      <td>NaN</td>\n",
       "      <td>NaN</td>\n",
       "      <td>NaN</td>\n",
       "      <td>NaN</td>\n",
       "      <td>1.08286</td>\n",
       "      <td>0.24793</td>\n",
       "      <td>46214.01</td>\n",
       "      <td>46214.02</td>\n",
       "      <td>46214.015</td>\n",
       "      <td>0.01</td>\n",
       "    </tr>\n",
       "    <tr>\n",
       "      <th>2022-01-01 00:00:00+00:00</th>\n",
       "      <td>46216.93</td>\n",
       "      <td>46271.08</td>\n",
       "      <td>46208.37</td>\n",
       "      <td>46250.00</td>\n",
       "      <td>40.57574</td>\n",
       "      <td>0.31064</td>\n",
       "      <td>0.47658</td>\n",
       "      <td>46250.00</td>\n",
       "      <td>46250.01</td>\n",
       "      <td>46250.005</td>\n",
       "      <td>0.01</td>\n",
       "    </tr>\n",
       "    <tr>\n",
       "      <th>2022-01-01 00:01:00+00:00</th>\n",
       "      <td>46250.00</td>\n",
       "      <td>46344.23</td>\n",
       "      <td>46234.39</td>\n",
       "      <td>46312.76</td>\n",
       "      <td>42.38106</td>\n",
       "      <td>0.99036</td>\n",
       "      <td>0.03050</td>\n",
       "      <td>46310.01</td>\n",
       "      <td>46318.11</td>\n",
       "      <td>46314.060</td>\n",
       "      <td>8.10</td>\n",
       "    </tr>\n",
       "  </tbody>\n",
       "</table>\n",
       "</div>"
      ],
      "text/plain": [
       "                               open      high       low     close    volume  bid_size  ask_size  bid_price  ask_price        mid  quoted_spread\n",
       "timestamp                                                                                                                                      \n",
       "2021-12-31 23:59:00+00:00       NaN       NaN       NaN       NaN       NaN   1.08286   0.24793   46214.01   46214.02  46214.015           0.01\n",
       "2022-01-01 00:00:00+00:00  46216.93  46271.08  46208.37  46250.00  40.57574   0.31064   0.47658   46250.00   46250.01  46250.005           0.01\n",
       "2022-01-01 00:01:00+00:00  46250.00  46344.23  46234.39  46312.76  42.38106   0.99036   0.03050   46310.01   46318.11  46314.060           8.10"
      ]
     },
     "execution_count": 6,
     "metadata": {},
     "output_type": "execute_result"
    }
   ],
   "source": [
    "# OHLCV + bid ask\n",
    "btc = pd.concat([btc_ohlcv, bid_ask_btc], axis=1)\n",
    "btc.head(3)"
   ]
  },
  {
   "cell_type": "code",
   "execution_count": 7,
   "id": "4f58de73",
   "metadata": {
    "ExecuteTime": {
     "end_time": "2022-05-18T12:42:53.512517Z",
     "start_time": "2022-05-18T12:42:53.165529Z"
    },
    "run_control": {
     "marked": false
    }
   },
   "outputs": [
    {
     "name": "stdout",
     "output_type": "stream",
     "text": [
      "Share of close prices outside bid-ask spread: 0.459\n"
     ]
    },
    {
     "data": {
      "text/plain": [
       "<AxesSubplot:xlabel='timestamp'>"
      ]
     },
     "execution_count": 7,
     "metadata": {},
     "output_type": "execute_result"
    },
    {
     "data": {
      "image/png": "[encoded data removed]",
      "text/plain": [
       "<Figure size 1080x504 with 1 Axes>"
      ]
     },
     "metadata": {},
     "output_type": "display_data"
    }
   ],
   "source": [
    "# Sanity check.\n",
    "close_outside_ba = len(\n",
    "    btc.loc[(btc[\"close\"] > btc[\"ask_price\"]) | (btc[\"close\"] < btc[\"bid_price\"])]\n",
    ")\n",
    "print(\n",
    "    f\"Share of close prices outside bid-ask spread: %.3f\"\n",
    "    % (close_outside_ba / len(btc))\n",
    ")\n",
    "btc[[\"close\", \"bid_price\", \"ask_price\"]].head(100).plot(figsize=(15, 7))"
   ]
  },
  {
   "cell_type": "markdown",
   "id": "2956f047",
   "metadata": {},
   "source": [
    "# Analysis"
   ]
  },
  {
   "cell_type": "markdown",
   "id": "73dd0fb7",
   "metadata": {},
   "source": [
    "## Functions"
   ]
  },
  {
   "cell_type": "code",
   "execution_count": 8,
   "id": "f1fd8539",
   "metadata": {
    "ExecuteTime": {
     "end_time": "2022-05-18T12:42:53.565826Z",
     "start_time": "2022-05-18T12:42:53.514684Z"
    },
    "run_control": {
     "marked": false
    }
   },
   "outputs": [],
   "source": [
    "def compute_execution(df: pd.DataFrame, is_buy: bool = True) -> pd.DataFrame:\n",
    "    \"\"\"\n",
    "    Compute execution statistics in the trade interval for a given limit order.\n",
    "    Collected statistics for a given trading period:\n",
    "\n",
    "    - executed_volume: the volume that was available in the bars where there was execution.\n",
    "    - executed_notional: the amount of dollars we could have executed assuming to sweep\n",
    "    the first level of the order book.\n",
    "    - executed_bars: in how many bars there was an execution.\n",
    "    - executed_avg_price: average price for which there was execution\n",
    "\n",
    "    :param df: data of time interval for trading period\n",
    "    :param is_buy: transaction side (i.e., True for `buy`, False for `sell`)\n",
    "    :return: calculated stats for a given trade interval\n",
    "    \"\"\"\n",
    "    result = {}\n",
    "    # Execution is triggered if `limit_price` is inside [low,high] interval of close price.\n",
    "    # It is guarantee that there was execution in [low, high] of close price, and thus our\n",
    "    # order would have triggered.\n",
    "    # TODO(gp): more precisely we should use [low, high] of ask / bid (depending on the direction)\n",
    "    # to trigger an execution.\n",
    "    df[\"execution_is_triggered\"] = (df[\"high\"] >= df[\"limit_price\"]) & (\n",
    "        df[\"low\"] <= df[\"limit_price\"]\n",
    "    )\n",
    "    # Set the volume that will be triggered during transaction.\n",
    "    if is_buy:\n",
    "        size_col = \"ask_size\"\n",
    "    else:\n",
    "        size_col = \"bid_size\"\n",
    "    # Execution volume.\n",
    "    result[\"executed_volume\"] = (\n",
    "        df[size_col] * df[\"execution_is_triggered\"]\n",
    "    ).sum()\n",
    "    # The notional executed volume.\n",
    "    result[\"executed_notional\"] = (df[size_col] * df[\"limit_price\"]).sum()\n",
    "    # Executed bars.\n",
    "    result[\"executed_bars\"] = df[\"execution_is_triggered\"].sum()\n",
    "    # Executed average price.\n",
    "    result[\"executed_avg_price\"] = (\n",
    "        df[\"limit_price\"] * df[\"execution_is_triggered\"]\n",
    "    ).mean()\n",
    "    # Build a DataFrame with all the results and mark it at the end of the interval.\n",
    "    result = pd.DataFrame(result, index=[df.index[-1]])\n",
    "    return result\n",
    "\n",
    "\n",
    "def compute_transaction_cost(\n",
    "    df,\n",
    "    start_time,\n",
    "    interval_in_mins: int = 10,\n",
    "    trade_in_mins: int = 5,\n",
    "    is_buy: bool = True,\n",
    ") -> pd.DataFrame:\n",
    "    \"\"\"\n",
    "    Given prices and ask / bids in the bars (a, b] marked at the end of the\n",
    "    interval, compute the cost to enter a buy / sell trade in the interval\n",
    "    [start_time, start_time + interval_in_mins) and the pnl from holding\n",
    "    between.\n",
    "\n",
    "    Collected statistics for a given trading period:\n",
    "\n",
    "    - Stats from `compute_execution()`\n",
    "    - close_price_holding_period: close price at the end of holding period\n",
    "    - trade_pnl_per_share: difference between start and close price (holding period)\n",
    "    - holding_notional: volume obtained from the trading period multiplied by close_price_holding_period\n",
    "    - notional_diff: difference between notional trading values from trading and holding periods\n",
    "\n",
    "    :param df: combined OHLCV and bid-ask data\n",
    "    :param interval_in_mins: number of minutes during holding period\n",
    "    :param trade_in_mins: number of minutes during trading period\n",
    "    :param is_buy: transaction side (i.e., True for `buy`, False for `sell`)\n",
    "    :return: transaction costs stats for the interval\n",
    "    \"\"\"\n",
    "    hdbg.dassert_lt(trade_in_mins, interval_in_mins)\n",
    "    # The position is entered in the interval:\n",
    "    # [start_time, start_time + trade_in_mins)\n",
    "    trade_in_mins = timedelta(minutes=trade_in_mins)\n",
    "    trade_interval = df.loc[\n",
    "        start_time : start_time + trade_in_mins - timedelta(minutes=1)\n",
    "    ].copy()\n",
    "    # Add \"limit_price\" to df.\n",
    "    if is_buy:\n",
    "        trade_interval[\"limit_price\"] = (\n",
    "            trade_interval.loc[start_time][\"ask_price\"] - 0.01\n",
    "        )\n",
    "    else:\n",
    "        trade_interval[\"limit_price\"] = (\n",
    "            trade_interval.loc[start_time][\"bid_price\"] + 0.01\n",
    "        )\n",
    "    result = compute_execution(trade_interval, is_buy)\n",
    "    # The position is held during the interval:\n",
    "    # [start_time + trade_in_mins, start_time + interval_in_mins).\n",
    "    interval_in_mins = (\n",
    "        timedelta(minutes=interval_in_mins) + trade_in_mins - timedelta(minutes=1)\n",
    "    )\n",
    "    # Start / end prices for the holding period.\n",
    "    start_price = df.loc[start_time + trade_in_mins][\"close\"]\n",
    "    end_price = df.loc[start_time + interval_in_mins][\"close\"]\n",
    "    # Difference between start and close price (holding period).\n",
    "    if is_buy:\n",
    "        trade_pnl_per_share = start_price - end_price\n",
    "    else:\n",
    "        trade_pnl_per_share = -(start_price - end_price)\n",
    "    result[\"trade_pnl_per_share\"] = trade_pnl_per_share\n",
    "    # Close price at the end of holding period.\n",
    "    result[\"close_price_holding_period\"] = end_price\n",
    "    # Notional value of holding position.\n",
    "    result[\"holding_notional\"] = (\n",
    "        result[\"close_price_holding_period\"] * result[\"executed_volume\"]\n",
    "    )\n",
    "    # Difference between notional trading values from trading and holding periods.\n",
    "    result[\"notional_diff\"] = (\n",
    "        result[\"holding_notional\"] - result[\"executed_notional\"]\n",
    "    )\n",
    "    return result\n",
    "\n",
    "\n",
    "def calculate_number_of_total_intervals(\n",
    "    df: pd.DataFrame, total_interval: int\n",
    ") -> range:\n",
    "    \"\"\"\n",
    "    Computes the number of iterations in the loop, so every interval can be\n",
    "    processed.\n",
    "\n",
    "    :param df: combined OHLCV and bid-ask data\n",
    "    :param total_interval: the sum of intervals for holding and trading periods\n",
    "    \"\"\"\n",
    "    trans_int_in_sec = total_interval * 60\n",
    "    total_period = (df.index.max() - df.index.min()).total_seconds()\n",
    "    num_intervals = total_period / trans_int_in_sec\n",
    "    num_intervals = range(int(num_intervals))\n",
    "    return num_intervals"
   ]
  },
  {
   "cell_type": "code",
   "execution_count": 9,
   "id": "55cc4d4e",
   "metadata": {
    "ExecuteTime": {
     "end_time": "2022-05-18T12:43:10.271055Z",
     "start_time": "2022-05-18T12:42:53.568469Z"
    }
   },
   "outputs": [
    {
     "data": {
      "text/html": [
       "<div>\n",
       "<style scoped>\n",
       "    .dataframe tbody tr th:only-of-type {\n",
       "        vertical-align: middle;\n",
       "    }\n",
       "\n",
       "    .dataframe tbody tr th {\n",
       "        vertical-align: top;\n",
       "    }\n",
       "\n",
       "    .dataframe thead th {\n",
       "        text-align: right;\n",
       "    }\n",
       "</style>\n",
       "<table border=\"1\" class=\"dataframe\">\n",
       "  <thead>\n",
       "    <tr style=\"text-align: right;\">\n",
       "      <th></th>\n",
       "      <th>executed_volume</th>\n",
       "      <th>executed_notional</th>\n",
       "      <th>executed_bars</th>\n",
       "      <th>executed_avg_price</th>\n",
       "      <th>trade_pnl_per_share</th>\n",
       "      <th>close_price_holding_period</th>\n",
       "      <th>holding_notional</th>\n",
       "      <th>notional_diff</th>\n",
       "    </tr>\n",
       "  </thead>\n",
       "  <tbody>\n",
       "    <tr>\n",
       "      <th>2022-01-01 00:03:00+00:00</th>\n",
       "      <td>0.47658</td>\n",
       "      <td>139032.076244</td>\n",
       "      <td>1</td>\n",
       "      <td>9242.802</td>\n",
       "      <td>-7.66</td>\n",
       "      <td>46329.00</td>\n",
       "      <td>22079.474820</td>\n",
       "      <td>-116952.601424</td>\n",
       "    </tr>\n",
       "    <tr>\n",
       "      <th>2022-01-01 00:18:00+00:00</th>\n",
       "      <td>0.46022</td>\n",
       "      <td>47282.326455</td>\n",
       "      <td>2</td>\n",
       "      <td>18533.004</td>\n",
       "      <td>-67.48</td>\n",
       "      <td>46361.38</td>\n",
       "      <td>21336.434304</td>\n",
       "      <td>-25945.892151</td>\n",
       "    </tr>\n",
       "    <tr>\n",
       "      <th>2022-01-01 00:33:00+00:00</th>\n",
       "      <td>3.18477</td>\n",
       "      <td>147695.014506</td>\n",
       "      <td>5</td>\n",
       "      <td>46375.410</td>\n",
       "      <td>-214.19</td>\n",
       "      <td>46657.84</td>\n",
       "      <td>148594.489097</td>\n",
       "      <td>899.474591</td>\n",
       "    </tr>\n",
       "  </tbody>\n",
       "</table>\n",
       "</div>"
      ],
      "text/plain": [
       "                           executed_volume  executed_notional  executed_bars  executed_avg_price  trade_pnl_per_share  close_price_holding_period  holding_notional  notional_diff\n",
       "2022-01-01 00:03:00+00:00          0.47658      139032.076244              1            9242.802                -7.66                    46329.00      22079.474820 -116952.601424\n",
       "2022-01-01 00:18:00+00:00          0.46022       47282.326455              2           18533.004               -67.48                    46361.38      21336.434304  -25945.892151\n",
       "2022-01-01 00:33:00+00:00          3.18477      147695.014506              5           46375.410              -214.19                    46657.84     148594.489097     899.474591"
      ]
     },
     "execution_count": 9,
     "metadata": {},
     "output_type": "execute_result"
    }
   ],
   "source": [
    "# Set the params.\n",
    "start_time = btc.index.min()\n",
    "interval_in_mins = 10\n",
    "trade_in_mins = 5\n",
    "total_interval = interval_in_mins + trade_in_mins\n",
    "is_buy = True\n",
    "# Set the number of total intervals.\n",
    "num_intervals = calculate_number_of_total_intervals(btc, total_interval)\n",
    "# Calculate transaction cost stats for each period inside the sample.\n",
    "final_result = []\n",
    "for i in num_intervals:\n",
    "    # Calculate transaction cost for each interval.\n",
    "    result_tmp = compute_transaction_cost(\n",
    "        btc, start_time, interval_in_mins, trade_in_mins, is_buy\n",
    "    )\n",
    "    final_result.append(result_tmp)\n",
    "    # Define new `start_time` for the next period.\n",
    "    start_time = start_time + timedelta(minutes=total_interval)\n",
    "# Combine the stats from all periods.\n",
    "final_result = pd.concat(final_result)\n",
    "final_result.head(3)"
   ]
  },
  {
   "cell_type": "markdown",
   "id": "3d32ff43",
   "metadata": {},
   "source": [
    "# The distribution of money made - money spent"
   ]
  },
  {
   "cell_type": "code",
   "execution_count": 10,
   "id": "93d3c0a8",
   "metadata": {
    "ExecuteTime": {
     "end_time": "2022-05-18T12:43:10.319831Z",
     "start_time": "2022-05-18T12:43:10.273062Z"
    }
   },
   "outputs": [
    {
     "data": {
      "text/plain": [
       "count    2.976000e+03\n",
       "mean    -6.145572e+04\n",
       "std      1.169567e+05\n",
       "min     -3.821649e+06\n",
       "25%     -7.873457e+04\n",
       "50%     -3.459562e+04\n",
       "75%     -1.114034e+04\n",
       "max      2.538349e+03\n",
       "Name: notional_diff, dtype: float64"
      ]
     },
     "execution_count": 10,
     "metadata": {},
     "output_type": "execute_result"
    }
   ],
   "source": [
    "post_results = final_result.copy()\n",
    "post_results[\"notional_diff\"].describe()"
   ]
  },
  {
   "cell_type": "code",
   "execution_count": 11,
   "id": "299c1c84",
   "metadata": {
    "ExecuteTime": {
     "end_time": "2022-05-18T12:43:11.561693Z",
     "start_time": "2022-05-18T12:43:10.321959Z"
    }
   },
   "outputs": [
    {
     "data": {
      "text/plain": [
       "<seaborn.axisgrid.FacetGrid at 0x7fa6bb8209d0>"
      ]
     },
     "execution_count": 11,
     "metadata": {},
     "output_type": "execute_result"
    },
    {
     "data": {
      "image/png": "[encoded data removed]",
      "text/plain": [
       "<Figure size 360x360 with 1 Axes>"
      ]
     },
     "metadata": {},
     "output_type": "display_data"
    }
   ],
   "source": [
    "sns.displot(post_results, x=\"notional_diff\")"
   ]
  },
  {
   "cell_type": "code",
   "execution_count": 12,
   "id": "98db7695",
   "metadata": {
    "ExecuteTime": {
     "end_time": "2022-05-18T12:43:11.804572Z",
     "start_time": "2022-05-18T12:43:11.563834Z"
    }
   },
   "outputs": [
    {
     "data": {
      "image/png": "[encoded data removed]",
      "text/plain": [
       "<Figure size 1440x360 with 1 Axes>"
      ]
     },
     "metadata": {},
     "output_type": "display_data"
    }
   ],
   "source": [
    "# Visualize the result\n",
    "cplonorm.plot_qq(post_results[\"notional_diff\"])"
   ]
  }
 ],
 "metadata": {
  "kernelspec": {
   "display_name": "Python 3 (ipykernel)",
   "language": "python",
   "name": "python3"
  },
  "language_info": {
   "codemirror_mode": {
    "name": "ipython",
    "version": 3
   },
   "file_extension": ".py",
   "mimetype": "text/x-python",
   "name": "python",
   "nbconvert_exporter": "python",
   "pygments_lexer": "ipython3",
   "version": "3.8.10"
  },
  "toc": {
   "base_numbering": 1,
   "nav_menu": {
    "height": "133px",
    "width": "228px"
   },
   "number_sections": true,
   "sideBar": true,
   "skip_h1_title": false,
   "title_cell": "Table of Contents",
   "title_sidebar": "Contents",
   "toc_cell": false,
   "toc_position": {},
   "toc_section_display": true,
   "toc_window_display": false
  }
 },
 "nbformat": 4,
 "nbformat_minor": 5
}
