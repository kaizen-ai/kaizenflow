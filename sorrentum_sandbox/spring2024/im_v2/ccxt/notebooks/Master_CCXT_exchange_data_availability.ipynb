{
 "cells": [
  {
   "cell_type": "markdown",
   "id": "789c6fe9",
   "metadata": {},
   "source": [
    "# Imports"
   ]
  },
  {
   "cell_type": "markdown",
   "id": "0c0d2b95",
   "metadata": {},
   "source": [
    "## Update CCXT to latest version"
   ]
  },
  {
   "cell_type": "code",
   "execution_count": 1,
   "id": "de66dc5d",
   "metadata": {
    "ExecuteTime": {
     "end_time": "2024-01-09T13:55:25.050823Z",
     "start_time": "2024-01-09T13:55:19.617183Z"
    },
    "scrolled": true
   },
   "outputs": [
    {
     "name": "stdout",
     "output_type": "stream",
     "text": [
      "Requirement already up-to-date: ccxt in /venv/lib/python3.9/site-packages (4.2.10)\n",
      "Requirement already satisfied, skipping upgrade: cryptography>=2.6.1 in /venv/lib/python3.9/site-packages (from ccxt) (3.4.7)\n",
      "Requirement already satisfied, skipping upgrade: aiodns>=1.1.1; python_version >= \"3.5.2\" in /venv/lib/python3.9/site-packages (from ccxt) (3.0.0)\n",
      "Requirement already satisfied, skipping upgrade: requests>=2.18.4 in /venv/lib/python3.9/site-packages (from ccxt) (2.31.0)\n",
      "Requirement already satisfied, skipping upgrade: certifi>=2018.1.18 in /venv/lib/python3.9/site-packages (from ccxt) (2023.7.22)\n",
      "Requirement already satisfied, skipping upgrade: yarl>=1.7.2; python_version >= \"3.5.2\" in /venv/lib/python3.9/site-packages (from ccxt) (1.9.2)\n",
      "Requirement already satisfied, skipping upgrade: aiohttp>=3.8; python_version >= \"3.5.2\" in /venv/lib/python3.9/site-packages (from ccxt) (3.8.5)\n",
      "Requirement already satisfied, skipping upgrade: typing-extensions>=4.4.0 in /venv/lib/python3.9/site-packages (from ccxt) (4.8.0)\n",
      "Requirement already satisfied, skipping upgrade: setuptools>=60.9.0 in /venv/lib/python3.9/site-packages (from ccxt) (69.0.3)\n",
      "Requirement already satisfied, skipping upgrade: cffi>=1.12 in /venv/lib/python3.9/site-packages (from cryptography>=2.6.1->ccxt) (1.16.0)\n",
      "Requirement already satisfied, skipping upgrade: pycares>=4.0.0 in /venv/lib/python3.9/site-packages (from aiodns>=1.1.1; python_version >= \"3.5.2\"->ccxt) (4.3.0)\n",
      "Requirement already satisfied, skipping upgrade: idna<4,>=2.5 in /venv/lib/python3.9/site-packages (from requests>=2.18.4->ccxt) (3.4)\n",
      "Requirement already satisfied, skipping upgrade: charset-normalizer<4,>=2 in /venv/lib/python3.9/site-packages (from requests>=2.18.4->ccxt) (3.3.0)\n",
      "Requirement already satisfied, skipping upgrade: urllib3<3,>=1.21.1 in /venv/lib/python3.9/site-packages (from requests>=2.18.4->ccxt) (1.26.17)\n",
      "Requirement already satisfied, skipping upgrade: multidict>=4.0 in /venv/lib/python3.9/site-packages (from yarl>=1.7.2; python_version >= \"3.5.2\"->ccxt) (6.0.4)\n",
      "Requirement already satisfied, skipping upgrade: async-timeout<5.0,>=4.0.0a3 in /venv/lib/python3.9/site-packages (from aiohttp>=3.8; python_version >= \"3.5.2\"->ccxt) (4.0.3)\n",
      "Requirement already satisfied, skipping upgrade: aiosignal>=1.1.2 in /venv/lib/python3.9/site-packages (from aiohttp>=3.8; python_version >= \"3.5.2\"->ccxt) (1.3.1)\n",
      "Requirement already satisfied, skipping upgrade: frozenlist>=1.1.1 in /venv/lib/python3.9/site-packages (from aiohttp>=3.8; python_version >= \"3.5.2\"->ccxt) (1.4.0)\n",
      "Requirement already satisfied, skipping upgrade: attrs>=17.3.0 in /venv/lib/python3.9/site-packages (from aiohttp>=3.8; python_version >= \"3.5.2\"->ccxt) (23.1.0)\n",
      "Requirement already satisfied, skipping upgrade: pycparser in /venv/lib/python3.9/site-packages (from cffi>=1.12->cryptography>=2.6.1->ccxt) (2.21)\n"
     ]
    }
   ],
   "source": [
    "# adhoc to get latest CCXT version.\n",
    "!sudo /bin/bash -c \"(source /venv/bin/activate; pip install --upgrade ccxt)\""
   ]
  },
  {
   "cell_type": "code",
   "execution_count": 2,
   "id": "36d507ec",
   "metadata": {
    "ExecuteTime": {
     "end_time": "2024-01-09T13:55:27.436135Z",
     "start_time": "2024-01-09T13:55:25.055574Z"
    }
   },
   "outputs": [
    {
     "data": {
      "text/plain": [
       "'4.2.10'"
      ]
     },
     "execution_count": 2,
     "metadata": {},
     "output_type": "execute_result"
    }
   ],
   "source": [
    "import ccxt\n",
    "import pandas as pd\n",
    "\n",
    "import im_v2.ccxt.data.extract.extractor as imvcdexex\n",
    "\n",
    "ccxt.__version__"
   ]
  },
  {
   "cell_type": "markdown",
   "id": "66d7c057",
   "metadata": {},
   "source": [
    "## All available exchanges"
   ]
  },
  {
   "cell_type": "code",
   "execution_count": 3,
   "id": "51c53c80",
   "metadata": {
    "ExecuteTime": {
     "end_time": "2024-01-09T13:55:27.442624Z",
     "start_time": "2024-01-09T13:55:27.438694Z"
    }
   },
   "outputs": [
    {
     "name": "stdout",
     "output_type": "stream",
     "text": [
      "['ace', 'alpaca', 'ascendex', 'bequant', 'bigone', 'binance', 'binancecoinm', 'binanceus', 'binanceusdm', 'bingx', 'bit2c', 'bitbank', 'bitbay', 'bitbns', 'bitcoincom', 'bitfinex', 'bitfinex2', 'bitflyer', 'bitforex', 'bitget', 'bithumb', 'bitmart', 'bitmex', 'bitopro', 'bitpanda', 'bitrue', 'bitso', 'bitstamp', 'bitteam', 'bitvavo', 'bl3p', 'blockchaincom', 'btcalpha', 'btcbox', 'btcmarkets', 'btcturk', 'bybit', 'cex', 'coinbase', 'coinbasepro', 'coincheck', 'coinex', 'coinlist', 'coinmate', 'coinone', 'coinsph', 'coinspot', 'cryptocom', 'currencycom', 'delta', 'deribit', 'digifinex', 'exmo', 'fmfwio', 'gate', 'gateio', 'gemini', 'hitbtc', 'hitbtc3', 'hollaex', 'htx', 'huobi', 'huobijp', 'idex', 'independentreserve', 'indodax', 'kraken', 'krakenfutures', 'kucoin', 'kucoinfutures', 'kuna', 'latoken', 'lbank', 'luno', 'lykke', 'mercado', 'mexc', 'ndax', 'novadax', 'oceanex', 'okcoin', 'okx', 'p2b', 'paymium', 'phemex', 'poloniex', 'poloniexfutures', 'probit', 'timex', 'tokocrypto', 'upbit', 'wavesexchange', 'wazirx', 'whitebit', 'woo', 'yobit', 'zaif', 'zonda']\n"
     ]
    }
   ],
   "source": [
    "print(ccxt.exchanges)"
   ]
  },
  {
   "cell_type": "markdown",
   "id": "93132d58",
   "metadata": {},
   "source": [
    "# binanceus REST"
   ]
  },
  {
   "cell_type": "markdown",
   "id": "8089d145",
   "metadata": {},
   "source": [
    "## binanceus REST spot"
   ]
  },
  {
   "cell_type": "code",
   "execution_count": null,
   "id": "e3b01bde",
   "metadata": {
    "ExecuteTime": {
     "end_time": "2024-01-09T13:21:30.787457Z",
     "start_time": "2024-01-09T13:21:30.115206Z"
    }
   },
   "outputs": [],
   "source": [
    "exchange_id = \"binanceus\"\n",
    "contract_type = \"spot\"\n",
    "extractor = imvcdexex.CcxtExtractor(exchange_id, contract_type)"
   ]
  },
  {
   "cell_type": "markdown",
   "id": "be31ff6e",
   "metadata": {},
   "source": [
    "### binanceus REST spot Bid Ask"
   ]
  },
  {
   "cell_type": "code",
   "execution_count": null,
   "id": "59e18918",
   "metadata": {
    "ExecuteTime": {
     "end_time": "2024-01-09T13:21:31.149116Z",
     "start_time": "2024-01-09T13:21:30.789536Z"
    }
   },
   "outputs": [],
   "source": [
    "currency_pair = \"BTC_USDT\"\n",
    "# currency_pair_for_download = extractor.convert_currency_pair(currency_pair)\n",
    "start_timestamp = pd.Timestamp(\"2023-01-01 00:00:00\")\n",
    "end_timestamp = pd.Timestamp(\"2023-01-01 01:00:00\")\n",
    "bid_ask_depth = 10\n",
    "data_type = \"bid_ask\"\n",
    "data = extractor.download_data(\n",
    "    data_type,\n",
    "    exchange_id,\n",
    "    currency_pair,\n",
    "    start_timestamp=start_timestamp,\n",
    "    end_timestamp=end_timestamp,\n",
    "    depth=bid_ask_depth,\n",
    ")\n",
    "data.head()"
   ]
  },
  {
   "cell_type": "markdown",
   "id": "e167c7a7",
   "metadata": {},
   "source": [
    "### binanceus REST spot OHLCV"
   ]
  },
  {
   "cell_type": "code",
   "execution_count": null,
   "id": "9579e5cb",
   "metadata": {
    "ExecuteTime": {
     "end_time": "2024-01-09T13:21:31.575851Z",
     "start_time": "2024-01-09T13:21:31.151147Z"
    }
   },
   "outputs": [],
   "source": [
    "data_type = \"ohlcv\"\n",
    "data = extractor.download_data(\n",
    "    data_type,\n",
    "    exchange_id,\n",
    "    currency_pair,\n",
    "    start_timestamp=start_timestamp,\n",
    "    end_timestamp=end_timestamp,\n",
    "    depth=bid_ask_depth,\n",
    ")\n",
    "data.head()"
   ]
  },
  {
   "cell_type": "markdown",
   "id": "73591d24",
   "metadata": {},
   "source": [
    "### binanceus REST spot Trades"
   ]
  },
  {
   "cell_type": "code",
   "execution_count": null,
   "id": "e422338e",
   "metadata": {
    "ExecuteTime": {
     "end_time": "2024-01-09T13:21:32.598312Z",
     "start_time": "2024-01-09T13:21:31.578873Z"
    }
   },
   "outputs": [],
   "source": [
    "ccxt_exchange = ccxt.binanceus()\n",
    "data = pd.DataFrame(ccxt_exchange.fetch_trades(\"BTC/USDT\"))"
   ]
  },
  {
   "cell_type": "code",
   "execution_count": null,
   "id": "33b1dacf",
   "metadata": {
    "ExecuteTime": {
     "end_time": "2024-01-09T13:21:32.621475Z",
     "start_time": "2024-01-09T13:21:32.601265Z"
    }
   },
   "outputs": [],
   "source": [
    "data.head()"
   ]
  },
  {
   "cell_type": "markdown",
   "id": "0f8f6e63",
   "metadata": {},
   "source": [
    "# bybit REST"
   ]
  },
  {
   "cell_type": "code",
   "execution_count": null,
   "id": "597b240b",
   "metadata": {
    "ExecuteTime": {
     "end_time": "2024-01-09T13:21:32.626855Z",
     "start_time": "2024-01-09T13:21:32.623910Z"
    }
   },
   "outputs": [],
   "source": [
    "exchange_id = \"bybit\""
   ]
  },
  {
   "cell_type": "markdown",
   "id": "01592ad2",
   "metadata": {},
   "source": [
    "## bybit REST spot"
   ]
  },
  {
   "cell_type": "code",
   "execution_count": null,
   "id": "790ca361",
   "metadata": {
    "ExecuteTime": {
     "end_time": "2024-01-09T13:21:36.780543Z",
     "start_time": "2024-01-09T13:21:32.630837Z"
    }
   },
   "outputs": [],
   "source": [
    "contract_type = \"spot\"\n",
    "extractor = imvcdexex.CcxtExtractor(exchange_id, contract_type)"
   ]
  },
  {
   "cell_type": "markdown",
   "id": "4678f556",
   "metadata": {},
   "source": [
    "### bybit REST spot  Bid Ask"
   ]
  },
  {
   "cell_type": "code",
   "execution_count": null,
   "id": "69ce4c82",
   "metadata": {
    "ExecuteTime": {
     "end_time": "2024-01-09T13:21:36.789329Z",
     "start_time": "2024-01-09T13:21:36.782804Z"
    }
   },
   "outputs": [],
   "source": [
    "pd.Series(extractor.get_exchange_currency_pairs()).head()"
   ]
  },
  {
   "cell_type": "code",
   "execution_count": null,
   "id": "947efa89",
   "metadata": {
    "ExecuteTime": {
     "end_time": "2024-01-09T13:21:36.991960Z",
     "start_time": "2024-01-09T13:21:36.791574Z"
    }
   },
   "outputs": [],
   "source": [
    "# currency_pair = \"BTC_USDT\"\n",
    "# currency_pair_for_download = extractor.convert_currency_pair(currency_pair)\n",
    "start_timestamp = pd.Timestamp(\"2023-01-01 00:00:00\")\n",
    "end_timestamp = pd.Timestamp(\"2023-01-01 01:00:00\")\n",
    "currency_pair_for_download = \"BTC_USDT\"\n",
    "bid_ask_depth = 10\n",
    "data_type = \"bid_ask\"\n",
    "data = extractor.download_data(\n",
    "    data_type,\n",
    "    exchange_id,\n",
    "    currency_pair_for_download,\n",
    "    start_timestamp=start_timestamp,\n",
    "    end_timestamp=end_timestamp,\n",
    "    depth=bid_ask_depth,\n",
    ")\n",
    "data"
   ]
  },
  {
   "cell_type": "code",
   "execution_count": null,
   "id": "93e17a9d",
   "metadata": {
    "ExecuteTime": {
     "end_time": "2024-01-09T13:21:37.006847Z",
     "start_time": "2024-01-09T13:21:36.994091Z"
    }
   },
   "outputs": [],
   "source": [
    "bybit_exchange = ccxt.bybit()"
   ]
  },
  {
   "cell_type": "code",
   "execution_count": null,
   "id": "996f5ba7",
   "metadata": {
    "ExecuteTime": {
     "end_time": "2024-01-09T13:21:39.136077Z",
     "start_time": "2024-01-09T13:21:37.009213Z"
    }
   },
   "outputs": [],
   "source": [
    "pd.DataFrame(bybit_exchange.load_markets().keys()).head()"
   ]
  },
  {
   "cell_type": "code",
   "execution_count": null,
   "id": "2565783e",
   "metadata": {
    "ExecuteTime": {
     "end_time": "2024-01-09T13:21:39.685966Z",
     "start_time": "2024-01-09T13:21:39.138192Z"
    }
   },
   "outputs": [],
   "source": [
    "currency_pair = \"BTC/USDT:USDT\"\n",
    "pd.DataFrame(bybit_exchange.fetch_order_book(currency_pair)).head()"
   ]
  },
  {
   "cell_type": "markdown",
   "id": "fbdf7a06",
   "metadata": {},
   "source": [
    "### bybit REST spot OHLCV"
   ]
  },
  {
   "cell_type": "code",
   "execution_count": null,
   "id": "aa0ed021",
   "metadata": {
    "ExecuteTime": {
     "end_time": "2024-01-09T13:21:40.397837Z",
     "start_time": "2024-01-09T13:21:39.688651Z"
    }
   },
   "outputs": [],
   "source": [
    "pd.DataFrame(bybit_exchange.fetch_ohlcv(currency_pair)).head()"
   ]
  },
  {
   "cell_type": "markdown",
   "id": "bfc14f92",
   "metadata": {},
   "source": [
    "### bybit REST spot Trades"
   ]
  },
  {
   "cell_type": "code",
   "execution_count": null,
   "id": "baeb9c8e",
   "metadata": {
    "ExecuteTime": {
     "end_time": "2024-01-09T13:21:40.404983Z",
     "start_time": "2024-01-09T13:21:40.400574Z"
    }
   },
   "outputs": [],
   "source": [
    "bybit_exchange.has[\"fetchTrades\"]"
   ]
  },
  {
   "cell_type": "code",
   "execution_count": null,
   "id": "c7695576",
   "metadata": {
    "ExecuteTime": {
     "end_time": "2024-01-09T13:21:40.828613Z",
     "start_time": "2024-01-09T13:21:40.407604Z"
    }
   },
   "outputs": [],
   "source": [
    "pd.DataFrame(bybit_exchange.fetch_trades(currency_pair)).head()"
   ]
  },
  {
   "cell_type": "markdown",
   "id": "f5444445",
   "metadata": {},
   "source": [
    "## bybit REST Futures"
   ]
  },
  {
   "cell_type": "code",
   "execution_count": null,
   "id": "2db5990d",
   "metadata": {
    "ExecuteTime": {
     "end_time": "2024-01-09T13:21:40.836403Z",
     "start_time": "2024-01-09T13:21:40.831545Z"
    }
   },
   "outputs": [],
   "source": [
    "[key for key in bybit_exchange.has if \"futur\" in key.lower()]"
   ]
  },
  {
   "cell_type": "code",
   "execution_count": null,
   "id": "50930a2b",
   "metadata": {
    "ExecuteTime": {
     "end_time": "2024-01-09T13:21:40.843628Z",
     "start_time": "2024-01-09T13:21:40.839076Z"
    },
    "lines_to_next_cell": 2
   },
   "outputs": [],
   "source": [
    "bybit_exchange.has[\"future\"]"
   ]
  },
  {
   "cell_type": "markdown",
   "id": "c4e887bf",
   "metadata": {},
   "source": [
    "### bybit REST Futures Bid Ask"
   ]
  },
  {
   "cell_type": "code",
   "execution_count": null,
   "id": "2b2b4c33",
   "metadata": {
    "ExecuteTime": {
     "end_time": "2024-01-09T13:21:40.849429Z",
     "start_time": "2024-01-09T13:21:40.845835Z"
    }
   },
   "outputs": [],
   "source": [
    "help(bybit_exchange.fetch_order_book)"
   ]
  },
  {
   "cell_type": "code",
   "execution_count": null,
   "id": "ccde3e25",
   "metadata": {
    "ExecuteTime": {
     "end_time": "2024-01-09T13:21:51.325042Z",
     "start_time": "2024-01-09T13:21:51.129652Z"
    }
   },
   "outputs": [],
   "source": [
    "currency_pair = \"BTC/USDT:USDT\"\n",
    "future_params = {\"options\": {\"defaultType\": \"future\"}}\n",
    "pd.DataFrame(\n",
    "    bybit_exchange.fetch_order_book(currency_pair, 10, future_params)\n",
    ").head()"
   ]
  },
  {
   "cell_type": "markdown",
   "id": "88a8176f",
   "metadata": {},
   "source": [
    "### bybit REST Futures OHLCV"
   ]
  },
  {
   "cell_type": "code",
   "execution_count": null,
   "id": "500a7751",
   "metadata": {
    "ExecuteTime": {
     "end_time": "2024-01-08T15:41:54.687928Z",
     "start_time": "2024-01-08T15:41:54.683760Z"
    }
   },
   "outputs": [],
   "source": [
    "help(bybit_exchange.fetch_ohlcv)"
   ]
  },
  {
   "cell_type": "code",
   "execution_count": null,
   "id": "1523186c",
   "metadata": {
    "ExecuteTime": {
     "end_time": "2024-01-08T15:41:55.807709Z",
     "start_time": "2024-01-08T15:41:55.058879Z"
    }
   },
   "outputs": [],
   "source": [
    "pd.DataFrame(\n",
    "    bybit_exchange.fetch_ohlcv(currency_pair, \"1m\", params=future_params)\n",
    ").head()\n",
    "# pd.DataFrame(bybit_exchange.fetch_ohlcv(currency_pair)).head()"
   ]
  },
  {
   "cell_type": "markdown",
   "id": "524733d8",
   "metadata": {},
   "source": [
    "### bybit REST Futures trades"
   ]
  },
  {
   "cell_type": "code",
   "execution_count": null,
   "id": "592174d1",
   "metadata": {
    "ExecuteTime": {
     "end_time": "2024-01-08T15:41:56.632915Z",
     "start_time": "2024-01-08T15:41:56.063776Z"
    }
   },
   "outputs": [],
   "source": [
    "pd.DataFrame(\n",
    "    bybit_exchange.fetch_trades(currency_pair, params=future_params)\n",
    ").head()"
   ]
  },
  {
   "cell_type": "markdown",
   "id": "3a5af9e8",
   "metadata": {},
   "source": [
    "# kucoin REST"
   ]
  },
  {
   "cell_type": "code",
   "execution_count": null,
   "id": "2bf4f222",
   "metadata": {
    "ExecuteTime": {
     "end_time": "2024-01-08T15:41:56.858582Z",
     "start_time": "2024-01-08T15:41:56.854894Z"
    }
   },
   "outputs": [],
   "source": [
    "exchange_id = \"kucoin\""
   ]
  },
  {
   "cell_type": "markdown",
   "id": "11d7eaf8",
   "metadata": {},
   "source": [
    "## kucoin REST SPOT"
   ]
  },
  {
   "cell_type": "code",
   "execution_count": null,
   "id": "993a6605",
   "metadata": {
    "ExecuteTime": {
     "end_time": "2024-01-08T15:41:59.299367Z",
     "start_time": "2024-01-08T15:41:57.204974Z"
    }
   },
   "outputs": [],
   "source": [
    "contract_type = \"spot\"\n",
    "extractor = imvcdexex.CcxtExtractor(exchange_id, contract_type)"
   ]
  },
  {
   "cell_type": "markdown",
   "id": "a906b5f3",
   "metadata": {},
   "source": [
    "### kucoin REST SPOT Bid Ask"
   ]
  },
  {
   "cell_type": "code",
   "execution_count": null,
   "id": "7b8b6584",
   "metadata": {
    "ExecuteTime": {
     "end_time": "2024-01-08T15:41:59.619314Z",
     "start_time": "2024-01-08T15:41:59.302990Z"
    }
   },
   "outputs": [],
   "source": [
    "currency_pair = \"BTC_USDT\"\n",
    "# currency_pair_for_download = extractor.convert_currency_pair(currency_pair)\n",
    "start_timestamp = pd.Timestamp(\"2023-01-01 00:00:00\")\n",
    "end_timestamp = pd.Timestamp(\"2023-01-01 01:00:00\")\n",
    "bid_ask_depth = 20\n",
    "data_type = \"bid_ask\"\n",
    "data = extractor.download_data(\n",
    "    data_type,\n",
    "    exchange_id,\n",
    "    currency_pair,\n",
    "    start_timestamp=start_timestamp,\n",
    "    end_timestamp=end_timestamp,\n",
    "    depth=bid_ask_depth,\n",
    ")\n",
    "data.head()"
   ]
  },
  {
   "cell_type": "markdown",
   "id": "18d95f43",
   "metadata": {},
   "source": [
    "### kucoin REST SPOT OHLCV"
   ]
  },
  {
   "cell_type": "code",
   "execution_count": null,
   "id": "276a4838",
   "metadata": {
    "ExecuteTime": {
     "end_time": "2024-01-08T15:42:00.241429Z",
     "start_time": "2024-01-08T15:41:59.621675Z"
    }
   },
   "outputs": [],
   "source": [
    "data_type = \"ohlcv\"\n",
    "data = extractor.download_data(\n",
    "    data_type,\n",
    "    exchange_id,\n",
    "    currency_pair,\n",
    "    start_timestamp=start_timestamp,\n",
    "    end_timestamp=end_timestamp,\n",
    ")\n",
    "data.head()"
   ]
  },
  {
   "cell_type": "markdown",
   "id": "864f3877",
   "metadata": {},
   "source": [
    "### kucoin REST SPOT Trades"
   ]
  },
  {
   "cell_type": "code",
   "execution_count": null,
   "id": "4d5294c0",
   "metadata": {
    "ExecuteTime": {
     "end_time": "2024-01-08T15:42:00.255287Z",
     "start_time": "2024-01-08T15:42:00.246011Z"
    }
   },
   "outputs": [],
   "source": [
    "kucoin_exchange = ccxt.kucoin()"
   ]
  },
  {
   "cell_type": "code",
   "execution_count": null,
   "id": "194f5514",
   "metadata": {
    "ExecuteTime": {
     "end_time": "2024-01-08T15:42:00.262946Z",
     "start_time": "2024-01-08T15:42:00.257730Z"
    }
   },
   "outputs": [],
   "source": [
    "kucoin_exchange.has[\"fetchTrades\"]"
   ]
  },
  {
   "cell_type": "code",
   "execution_count": null,
   "id": "eef380e1",
   "metadata": {
    "ExecuteTime": {
     "end_time": "2024-01-08T15:42:02.881619Z",
     "start_time": "2024-01-08T15:42:00.265776Z"
    },
    "lines_to_next_cell": 2
   },
   "outputs": [],
   "source": [
    "data = pd.Series(kucoin_exchange.load_markets().keys())\n",
    "data[data.str.startswith(\"BTC\")]"
   ]
  },
  {
   "cell_type": "code",
   "execution_count": null,
   "id": "3bed456d",
   "metadata": {
    "ExecuteTime": {
     "end_time": "2024-01-08T15:42:03.240440Z",
     "start_time": "2024-01-08T15:42:02.884260Z"
    }
   },
   "outputs": [],
   "source": [
    "currency_pair = \"BTC/USDT\"\n",
    "pd.DataFrame(kucoin_exchange.fetch_trades(currency_pair)).head()"
   ]
  },
  {
   "cell_type": "markdown",
   "id": "b2efe739",
   "metadata": {},
   "source": [
    "\n",
    "## kucoin REST futures"
   ]
  },
  {
   "cell_type": "code",
   "execution_count": null,
   "id": "68112201",
   "metadata": {
    "ExecuteTime": {
     "end_time": "2024-01-08T15:42:03.247722Z",
     "start_time": "2024-01-08T15:42:03.242839Z"
    }
   },
   "outputs": [],
   "source": [
    "kucoin_exchange.has[\"future\"]"
   ]
  },
  {
   "cell_type": "markdown",
   "id": "4a772b20",
   "metadata": {},
   "source": [
    "# okx REST"
   ]
  },
  {
   "cell_type": "code",
   "execution_count": null,
   "id": "3cc6ca02",
   "metadata": {
    "ExecuteTime": {
     "end_time": "2024-01-08T15:42:03.253050Z",
     "start_time": "2024-01-08T15:42:03.249827Z"
    }
   },
   "outputs": [],
   "source": [
    "exchange_id = \"okx\""
   ]
  },
  {
   "cell_type": "markdown",
   "id": "5c1912f5",
   "metadata": {},
   "source": [
    "## okx REST SPOT"
   ]
  },
  {
   "cell_type": "code",
   "execution_count": null,
   "id": "f99c10bc",
   "metadata": {
    "ExecuteTime": {
     "end_time": "2024-01-08T15:42:05.229626Z",
     "start_time": "2024-01-08T15:42:03.257595Z"
    }
   },
   "outputs": [],
   "source": [
    "contract_type = \"spot\"\n",
    "extractor = imvcdexex.CcxtExtractor(exchange_id, contract_type)"
   ]
  },
  {
   "cell_type": "markdown",
   "id": "95009403",
   "metadata": {},
   "source": [
    "### okx REST SPOT Bid Ask"
   ]
  },
  {
   "cell_type": "code",
   "execution_count": null,
   "id": "7a529498",
   "metadata": {
    "ExecuteTime": {
     "end_time": "2024-01-08T15:42:05.482368Z",
     "start_time": "2024-01-08T15:42:05.232059Z"
    }
   },
   "outputs": [],
   "source": [
    "currency_pair = \"BTC_USDT\"\n",
    "start_timestamp = pd.Timestamp(\"2023-01-01 00:00:00\")\n",
    "end_timestamp = pd.Timestamp(\"2023-01-01 05:00:00\")\n",
    "bid_ask_depth = 20\n",
    "data_type = \"bid_ask\"\n",
    "data = extractor.download_data(\n",
    "    data_type,\n",
    "    exchange_id,\n",
    "    currency_pair,\n",
    "    start_timestamp=start_timestamp,\n",
    "    end_timestamp=end_timestamp,\n",
    "    depth=bid_ask_depth,\n",
    ")\n",
    "data.head()"
   ]
  },
  {
   "cell_type": "markdown",
   "id": "4be062d8",
   "metadata": {},
   "source": [
    "### okx REST SPOT OHLCV"
   ]
  },
  {
   "cell_type": "code",
   "execution_count": null,
   "id": "bb24b24f",
   "metadata": {
    "ExecuteTime": {
     "end_time": "2024-01-08T15:42:06.004089Z",
     "start_time": "2024-01-08T15:42:05.484783Z"
    }
   },
   "outputs": [],
   "source": [
    "data_type = \"ohlcv\"\n",
    "data = extractor.download_data(\n",
    "    data_type,\n",
    "    exchange_id,\n",
    "    currency_pair,\n",
    "    start_timestamp=start_timestamp,\n",
    "    end_timestamp=end_timestamp,\n",
    "    depth=bid_ask_depth,\n",
    ")\n",
    "data.head()"
   ]
  },
  {
   "cell_type": "code",
   "execution_count": null,
   "id": "5a670bb7",
   "metadata": {
    "ExecuteTime": {
     "end_time": "2024-01-08T15:42:08.618138Z",
     "start_time": "2024-01-08T15:42:06.006564Z"
    }
   },
   "outputs": [],
   "source": [
    "okx_exchange = ccxt.okx()\n",
    "currency_pair = \"BTC/USDT:USDT\"\n",
    "pd.DataFrame(okx_exchange.fetch_ohlcv(currency_pair)).head()"
   ]
  },
  {
   "cell_type": "markdown",
   "id": "7c32709b",
   "metadata": {},
   "source": [
    "### okx REST SPOT trades"
   ]
  },
  {
   "cell_type": "code",
   "execution_count": null,
   "id": "c96764a3",
   "metadata": {
    "ExecuteTime": {
     "end_time": "2024-01-08T15:42:08.625436Z",
     "start_time": "2024-01-08T15:42:08.620808Z"
    }
   },
   "outputs": [],
   "source": [
    "okx_exchange.has[\"fetchTrades\"]"
   ]
  },
  {
   "cell_type": "code",
   "execution_count": null,
   "id": "dbc04095",
   "metadata": {
    "ExecuteTime": {
     "end_time": "2024-01-08T15:42:08.954984Z",
     "start_time": "2024-01-08T15:42:08.627487Z"
    }
   },
   "outputs": [],
   "source": [
    "pd.DataFrame(okx_exchange.fetch_trades(currency_pair)).head()"
   ]
  },
  {
   "cell_type": "markdown",
   "id": "d1ddf345",
   "metadata": {},
   "source": [
    "## okx REST futures"
   ]
  },
  {
   "cell_type": "code",
   "execution_count": null,
   "id": "dd01d6d1",
   "metadata": {
    "ExecuteTime": {
     "end_time": "2024-01-08T15:42:08.963305Z",
     "start_time": "2024-01-08T15:42:08.958722Z"
    }
   },
   "outputs": [],
   "source": [
    "okx_exchange.has[\"future\"]"
   ]
  },
  {
   "cell_type": "code",
   "execution_count": null,
   "id": "afcdff40",
   "metadata": {
    "ExecuteTime": {
     "end_time": "2024-01-08T15:42:08.969186Z",
     "start_time": "2024-01-08T15:42:08.965493Z"
    }
   },
   "outputs": [],
   "source": [
    "future_params = {\"options\": {\"defaultType\": \"future\"}}"
   ]
  },
  {
   "cell_type": "code",
   "execution_count": null,
   "id": "a76b5158",
   "metadata": {
    "ExecuteTime": {
     "end_time": "2024-01-08T15:42:08.974932Z",
     "start_time": "2024-01-08T15:42:08.971055Z"
    }
   },
   "outputs": [],
   "source": [
    "help(okx_exchange.fetch_order_book)"
   ]
  },
  {
   "cell_type": "markdown",
   "id": "19d1d6d9",
   "metadata": {},
   "source": [
    "### okx REST futures bid_ask"
   ]
  },
  {
   "cell_type": "code",
   "execution_count": null,
   "id": "395eaa6e",
   "metadata": {
    "ExecuteTime": {
     "end_time": "2024-01-08T15:42:20.527695Z",
     "start_time": "2024-01-08T15:42:20.266206Z"
    }
   },
   "outputs": [],
   "source": [
    "pd.DataFrame(\n",
    "    okx_exchange.fetch_order_book(currency_pair, 10, future_params)\n",
    ").head()"
   ]
  },
  {
   "cell_type": "markdown",
   "id": "2c63d8cb",
   "metadata": {},
   "source": [
    "### okx REST futures OHLCV"
   ]
  },
  {
   "cell_type": "code",
   "execution_count": null,
   "id": "1eb48b7c",
   "metadata": {
    "ExecuteTime": {
     "end_time": "2024-01-08T15:43:32.885339Z",
     "start_time": "2024-01-08T15:43:32.634594Z"
    }
   },
   "outputs": [],
   "source": [
    "pd.DataFrame(okx_exchange.fetch_ohlcv(currency_pair, params=future_params)).head()"
   ]
  },
  {
   "cell_type": "markdown",
   "id": "0815054b",
   "metadata": {},
   "source": [
    "### okx REST futures OHLCV trades"
   ]
  },
  {
   "cell_type": "code",
   "execution_count": null,
   "id": "969d26cd",
   "metadata": {
    "ExecuteTime": {
     "end_time": "2024-01-08T15:43:33.838793Z",
     "start_time": "2024-01-08T15:43:33.534187Z"
    }
   },
   "outputs": [],
   "source": [
    "pd.DataFrame(\n",
    "    okx_exchange.fetch_trades(currency_pair, params=future_params)\n",
    ").head()"
   ]
  },
  {
   "cell_type": "markdown",
   "id": "e5f3a437",
   "metadata": {},
   "source": [
    "# deribit REST"
   ]
  },
  {
   "cell_type": "code",
   "execution_count": null,
   "id": "b97e08ad",
   "metadata": {
    "ExecuteTime": {
     "end_time": "2024-01-08T15:43:34.380316Z",
     "start_time": "2024-01-08T15:43:34.377398Z"
    }
   },
   "outputs": [],
   "source": [
    "exchange_id = \"deribit\""
   ]
  },
  {
   "cell_type": "markdown",
   "id": "41196e31",
   "metadata": {},
   "source": [
    "## deribit REST SPOT"
   ]
  },
  {
   "cell_type": "code",
   "execution_count": null,
   "id": "43ccac13",
   "metadata": {
    "ExecuteTime": {
     "end_time": "2024-01-08T15:43:36.188356Z",
     "start_time": "2024-01-08T15:43:35.373960Z"
    }
   },
   "outputs": [],
   "source": [
    "contract_type = \"spot\"\n",
    "extractor = imvcdexex.CcxtExtractor(exchange_id, contract_type)"
   ]
  },
  {
   "cell_type": "markdown",
   "id": "93d768d9",
   "metadata": {},
   "source": [
    "### deribit REST SPOT bid_ask"
   ]
  },
  {
   "cell_type": "code",
   "execution_count": null,
   "id": "21ef9e7e",
   "metadata": {
    "ExecuteTime": {
     "end_time": "2024-01-08T15:43:37.779155Z",
     "start_time": "2024-01-08T15:43:36.203105Z"
    }
   },
   "outputs": [],
   "source": [
    "currency_pair = \"BTC_USDT\"\n",
    "start_timestamp = pd.Timestamp(\"2023-01-01 00:00:00\")\n",
    "end_timestamp = pd.Timestamp(\"2023-01-01 05:00:00\")\n",
    "bid_ask_depth = 20\n",
    "data_type = \"bid_ask\"\n",
    "data = extractor.download_data(\n",
    "    data_type,\n",
    "    exchange_id,\n",
    "    currency_pair,\n",
    "    start_timestamp=start_timestamp,\n",
    "    end_timestamp=end_timestamp,\n",
    "    depth=bid_ask_depth,\n",
    ")\n",
    "data.head()"
   ]
  },
  {
   "cell_type": "code",
   "execution_count": null,
   "id": "317ddc2d",
   "metadata": {
    "ExecuteTime": {
     "end_time": "2024-01-08T15:43:37.781902Z",
     "start_time": "2024-01-08T15:43:37.781881Z"
    },
    "lines_to_next_cell": 2
   },
   "outputs": [],
   "source": [
    "deribit_exchange = ccxt.deribit()\n",
    "data = pd.Series(deribit_exchange.load_markets().keys())\n",
    "data[data.str.startswith(\"BTC\")].head()"
   ]
  },
  {
   "cell_type": "code",
   "execution_count": null,
   "id": "1a919db3",
   "metadata": {
    "ExecuteTime": {
     "end_time": "2024-01-08T15:43:37.783614Z",
     "start_time": "2024-01-08T15:43:37.783598Z"
    }
   },
   "outputs": [],
   "source": [
    "currency_pair = \"BTC/USDC:USDC\"\n",
    "pd.DataFrame(deribit_exchange.fetch_order_book(currency_pair)).head()"
   ]
  },
  {
   "cell_type": "markdown",
   "id": "6fdc263a",
   "metadata": {},
   "source": [
    "### deribit REST SPOT ohlcv"
   ]
  },
  {
   "cell_type": "code",
   "execution_count": null,
   "id": "163c9a43",
   "metadata": {
    "ExecuteTime": {
     "end_time": "2024-01-08T15:43:37.785298Z",
     "start_time": "2024-01-08T15:43:37.785281Z"
    }
   },
   "outputs": [],
   "source": [
    "pd.DataFrame(deribit_exchange.fetch_ohlcv(currency_pair)).head()"
   ]
  },
  {
   "cell_type": "markdown",
   "id": "76e1582b",
   "metadata": {},
   "source": [
    "### deribit REST SPOT trades"
   ]
  },
  {
   "cell_type": "code",
   "execution_count": null,
   "id": "3237478f",
   "metadata": {
    "ExecuteTime": {
     "end_time": "2024-01-08T15:43:37.787290Z",
     "start_time": "2024-01-08T15:43:37.787271Z"
    }
   },
   "outputs": [],
   "source": [
    "pd.DataFrame(deribit_exchange.fetch_trades(currency_pair)).head()"
   ]
  },
  {
   "cell_type": "markdown",
   "id": "f10d0dca",
   "metadata": {},
   "source": [
    "## deribit REST futures"
   ]
  },
  {
   "cell_type": "code",
   "execution_count": null,
   "id": "9bd30fc6",
   "metadata": {
    "ExecuteTime": {
     "end_time": "2024-01-08T15:43:38.124646Z",
     "start_time": "2024-01-08T15:43:38.098138Z"
    }
   },
   "outputs": [],
   "source": [
    "deribit_exchange.has[\"future\"]"
   ]
  },
  {
   "cell_type": "markdown",
   "id": "8e80091b",
   "metadata": {},
   "source": [
    "### deribit REST futures bid_ask"
   ]
  },
  {
   "cell_type": "code",
   "execution_count": null,
   "id": "84032e6a",
   "metadata": {
    "ExecuteTime": {
     "end_time": "2024-01-08T15:43:38.524799Z",
     "start_time": "2024-01-08T15:43:38.496833Z"
    }
   },
   "outputs": [],
   "source": [
    "currency_pair = \"BTC/USDC:USDC\"\n",
    "pd.DataFrame(\n",
    "    deribit_exchange.fetch_order_book(currency_pair, params=future_params)\n",
    ").head()"
   ]
  },
  {
   "cell_type": "markdown",
   "id": "c04eed70",
   "metadata": {},
   "source": [
    "### deribit REST futures ohlcv"
   ]
  },
  {
   "cell_type": "code",
   "execution_count": null,
   "id": "d2d65d72",
   "metadata": {
    "ExecuteTime": {
     "end_time": "2024-01-08T15:43:38.971091Z",
     "start_time": "2024-01-08T15:43:38.943798Z"
    }
   },
   "outputs": [],
   "source": [
    "pd.DataFrame(\n",
    "    deribit_exchange.fetch_ohlcv(currency_pair, params=future_params)\n",
    ").head()"
   ]
  },
  {
   "cell_type": "markdown",
   "id": "7a2aef26",
   "metadata": {},
   "source": [
    "### deribit REST futures trades"
   ]
  },
  {
   "cell_type": "code",
   "execution_count": null,
   "id": "4d370d12",
   "metadata": {
    "ExecuteTime": {
     "end_time": "2024-01-08T15:43:40.324759Z",
     "start_time": "2024-01-08T15:43:40.296547Z"
    }
   },
   "outputs": [],
   "source": [
    "pd.DataFrame(\n",
    "    deribit_exchange.fetch_trades(currency_pair, params=future_params)\n",
    ").head()"
   ]
  },
  {
   "cell_type": "markdown",
   "id": "039ab202",
   "metadata": {},
   "source": [
    "# coinbasepro REST"
   ]
  },
  {
   "cell_type": "code",
   "execution_count": null,
   "id": "92481b26",
   "metadata": {
    "ExecuteTime": {
     "end_time": "2023-12-20T10:09:56.696515Z",
     "start_time": "2023-12-20T10:09:56.693765Z"
    }
   },
   "outputs": [],
   "source": [
    "exchange_id = \"coinbasepro\""
   ]
  },
  {
   "cell_type": "markdown",
   "id": "ef0569da",
   "metadata": {
    "ExecuteTime": {
     "end_time": "2023-02-02T18:19:35.465488Z",
     "start_time": "2023-02-02T18:19:35.462358Z"
    }
   },
   "source": [
    "## coinbasepro REST spot"
   ]
  },
  {
   "cell_type": "code",
   "execution_count": null,
   "id": "4ce4799f",
   "metadata": {
    "ExecuteTime": {
     "end_time": "2023-12-20T10:09:59.546313Z",
     "start_time": "2023-12-20T10:09:59.399197Z"
    }
   },
   "outputs": [],
   "source": [
    "contract_type = \"spot\"\n",
    "extractor = imvcdexex.CcxtExtractor(exchange_id, contract_type)"
   ]
  },
  {
   "cell_type": "markdown",
   "id": "7b224443",
   "metadata": {},
   "source": [
    "### coinbasepro REST spot bid_ask"
   ]
  },
  {
   "cell_type": "code",
   "execution_count": null,
   "id": "443d92c2",
   "metadata": {
    "ExecuteTime": {
     "end_time": "2023-12-20T10:10:23.855196Z",
     "start_time": "2023-12-20T10:10:23.550239Z"
    }
   },
   "outputs": [],
   "source": [
    "currency_pair = \"BTC_USDT\"\n",
    "start_timestamp = pd.Timestamp(\"2023-01-01 00:00:00\")\n",
    "end_timestamp = pd.Timestamp(\"2023-01-01 05:00:00\")\n",
    "bid_ask_depth = 20\n",
    "data_type = \"bid_ask\"\n",
    "data = extractor.download_data(\n",
    "    data_type,\n",
    "    exchange_id,\n",
    "    currency_pair,\n",
    "    start_timestamp=start_timestamp,\n",
    "    end_timestamp=end_timestamp,\n",
    "    depth=bid_ask_depth,\n",
    ")\n",
    "data.head()"
   ]
  },
  {
   "cell_type": "code",
   "execution_count": null,
   "id": "2275b3ba",
   "metadata": {
    "ExecuteTime": {
     "end_time": "2023-12-20T10:10:50.070802Z",
     "start_time": "2023-12-20T10:10:50.064638Z"
    }
   },
   "outputs": [],
   "source": [
    "coinbasepro_exchange = ccxt.coinbasepro()"
   ]
  },
  {
   "cell_type": "code",
   "execution_count": null,
   "id": "386e96e9",
   "metadata": {
    "ExecuteTime": {
     "end_time": "2023-12-20T10:10:51.870823Z",
     "start_time": "2023-12-20T10:10:51.867381Z"
    }
   },
   "outputs": [],
   "source": [
    "help(coinbasepro_exchange.fetch_order_book)"
   ]
  },
  {
   "cell_type": "code",
   "execution_count": null,
   "id": "83e7395f",
   "metadata": {
    "ExecuteTime": {
     "end_time": "2023-12-20T10:10:55.499008Z",
     "start_time": "2023-12-20T10:10:54.999536Z"
    }
   },
   "outputs": [],
   "source": [
    "currency_pair = \"BTC/USDT\"\n",
    "pd.DataFrame(\n",
    "    coinbasepro_exchange.fetch_order_book(currency_pair, limit=10)\n",
    ").head()"
   ]
  },
  {
   "cell_type": "markdown",
   "id": "7bcbfbbf",
   "metadata": {},
   "source": [
    "### coinbasepro REST spot ohlcv"
   ]
  },
  {
   "cell_type": "code",
   "execution_count": null,
   "id": "99b9eb3e",
   "metadata": {
    "ExecuteTime": {
     "end_time": "2023-12-20T10:11:54.097289Z",
     "start_time": "2023-12-20T10:11:53.912873Z"
    }
   },
   "outputs": [],
   "source": [
    "pd.DataFrame(coinbasepro_exchange.fetch_ohlcv(currency_pair)).head()"
   ]
  },
  {
   "cell_type": "markdown",
   "id": "d44739f5",
   "metadata": {},
   "source": [
    "### coinbasepro REST spot trades"
   ]
  },
  {
   "cell_type": "code",
   "execution_count": null,
   "id": "ef763303",
   "metadata": {
    "ExecuteTime": {
     "end_time": "2023-12-20T10:11:57.053837Z",
     "start_time": "2023-12-20T10:11:56.808577Z"
    }
   },
   "outputs": [],
   "source": [
    "pd.DataFrame(coinbasepro_exchange.fetch_trades(currency_pair)).head()"
   ]
  },
  {
   "cell_type": "markdown",
   "id": "ea634769",
   "metadata": {},
   "source": [
    "## coinbasepro REST futures"
   ]
  },
  {
   "cell_type": "code",
   "execution_count": null,
   "id": "bd26dd3d",
   "metadata": {
    "ExecuteTime": {
     "end_time": "2023-12-20T10:12:00.769151Z",
     "start_time": "2023-12-20T10:12:00.764504Z"
    }
   },
   "outputs": [],
   "source": [
    "coinbasepro_exchange.has[\"future\"]"
   ]
  },
  {
   "cell_type": "markdown",
   "id": "1e1d09eb",
   "metadata": {},
   "source": [
    "# kraken REST"
   ]
  },
  {
   "cell_type": "code",
   "execution_count": null,
   "id": "c68070f9",
   "metadata": {
    "ExecuteTime": {
     "end_time": "2023-12-20T10:12:03.229354Z",
     "start_time": "2023-12-20T10:12:03.225904Z"
    }
   },
   "outputs": [],
   "source": [
    "exchange_id = \"kraken\""
   ]
  },
  {
   "cell_type": "markdown",
   "id": "23578154",
   "metadata": {},
   "source": [
    "## kraken REST spot"
   ]
  },
  {
   "cell_type": "code",
   "execution_count": null,
   "id": "5ea393ed",
   "metadata": {
    "ExecuteTime": {
     "end_time": "2023-12-20T10:12:07.058155Z",
     "start_time": "2023-12-20T10:12:06.865579Z"
    }
   },
   "outputs": [],
   "source": [
    "contract_type = \"spot\"\n",
    "extractor = imvcdexex.CcxtExtractor(exchange_id, contract_type)"
   ]
  },
  {
   "cell_type": "markdown",
   "id": "23fb2744",
   "metadata": {},
   "source": [
    "### kraken REST spot bid_ask"
   ]
  },
  {
   "cell_type": "code",
   "execution_count": null,
   "id": "4fe470c5",
   "metadata": {
    "ExecuteTime": {
     "end_time": "2023-12-20T10:12:22.121506Z",
     "start_time": "2023-12-20T10:12:21.708055Z"
    }
   },
   "outputs": [],
   "source": [
    "currency_pair = \"BTC_USDT\"\n",
    "currency_pair_for_download = extractor.convert_currency_pair(currency_pair)\n",
    "start_timestamp = pd.Timestamp(\"2023-01-01 00:00:00\")\n",
    "end_timestamp = pd.Timestamp(\"2023-01-01 05:00:00\")\n",
    "bid_ask_depth = 10\n",
    "data_type = \"bid_ask\"\n",
    "data = extractor.download_data(\n",
    "    data_type,\n",
    "    exchange_id,\n",
    "    currency_pair,\n",
    "    start_timestamp=start_timestamp,\n",
    "    end_timestamp=end_timestamp,\n",
    "    depth=bid_ask_depth,\n",
    ")\n",
    "data.head()"
   ]
  },
  {
   "cell_type": "code",
   "execution_count": null,
   "id": "0e6d145b",
   "metadata": {
    "ExecuteTime": {
     "end_time": "2023-12-20T10:12:40.915552Z",
     "start_time": "2023-12-20T10:12:40.909309Z"
    }
   },
   "outputs": [],
   "source": [
    "kraken_exchange = ccxt.kraken()"
   ]
  },
  {
   "cell_type": "code",
   "execution_count": null,
   "id": "bd772ffa",
   "metadata": {
    "ExecuteTime": {
     "end_time": "2023-12-20T10:12:46.551901Z",
     "start_time": "2023-12-20T10:12:44.348258Z"
    }
   },
   "outputs": [],
   "source": [
    "currency_pair = \"BTC/USDT\"\n",
    "pd.DataFrame(kraken_exchange.fetch_order_book(currency_pair)).head()"
   ]
  },
  {
   "cell_type": "markdown",
   "id": "5a221940",
   "metadata": {},
   "source": [
    "### kraken REST spot ohlcv"
   ]
  },
  {
   "cell_type": "code",
   "execution_count": null,
   "id": "51d04fcd",
   "metadata": {
    "ExecuteTime": {
     "end_time": "2023-12-20T10:12:50.558908Z",
     "start_time": "2023-12-20T10:12:50.257657Z"
    }
   },
   "outputs": [],
   "source": [
    "pd.DataFrame(kraken_exchange.fetch_ohlcv(currency_pair)).head()"
   ]
  },
  {
   "cell_type": "markdown",
   "id": "5cf86e19",
   "metadata": {},
   "source": [
    "### kraken REST spot trades"
   ]
  },
  {
   "cell_type": "code",
   "execution_count": null,
   "id": "ac324125",
   "metadata": {
    "ExecuteTime": {
     "end_time": "2023-12-20T10:12:54.605596Z",
     "start_time": "2023-12-20T10:12:54.316383Z"
    }
   },
   "outputs": [],
   "source": [
    "pd.DataFrame(kraken_exchange.fetch_trades(currency_pair)).head()"
   ]
  },
  {
   "cell_type": "markdown",
   "id": "4f42e7f4",
   "metadata": {},
   "source": [
    "## kraken REST futures"
   ]
  },
  {
   "cell_type": "code",
   "execution_count": null,
   "id": "73de9ca2",
   "metadata": {
    "ExecuteTime": {
     "end_time": "2023-12-20T10:12:58.478045Z",
     "start_time": "2023-12-20T10:12:58.472498Z"
    }
   },
   "outputs": [],
   "source": [
    "kraken_exchange.has[\"future\"]"
   ]
  },
  {
   "cell_type": "markdown",
   "id": "6a60ae30",
   "metadata": {},
   "source": [
    "# cryptocom"
   ]
  },
  {
   "cell_type": "markdown",
   "id": "6c3e9be0",
   "metadata": {},
   "source": [
    "## cryptocom REST spot"
   ]
  },
  {
   "cell_type": "code",
   "execution_count": 4,
   "id": "10a028dc",
   "metadata": {
    "ExecuteTime": {
     "end_time": "2024-01-09T13:55:31.079843Z",
     "start_time": "2024-01-09T13:55:29.828028Z"
    }
   },
   "outputs": [],
   "source": [
    "exchange_id = \"cryptocom\"\n",
    "cryptocom = ccxt.cryptocom()\n",
    "market_info = pd.DataFrame.from_dict(cryptocom.load_markets(), orient=\"index\")\n",
    "contract_type = \"spot\"\n",
    "extractor = imvcdexex.CcxtExtractor(exchange_id, contract_type)"
   ]
  },
  {
   "cell_type": "markdown",
   "id": "51b97a9f",
   "metadata": {},
   "source": [
    "### cryptocom REST spot Bid Ask"
   ]
  },
  {
   "cell_type": "code",
   "execution_count": 5,
   "id": "c05d2ae8",
   "metadata": {
    "ExecuteTime": {
     "end_time": "2024-01-09T13:55:33.595345Z",
     "start_time": "2024-01-09T13:55:33.450518Z"
    }
   },
   "outputs": [
    {
     "data": {
      "text/html": [
       "<div>\n",
       "<style scoped>\n",
       "    .dataframe tbody tr th:only-of-type {\n",
       "        vertical-align: middle;\n",
       "    }\n",
       "\n",
       "    .dataframe tbody tr th {\n",
       "        vertical-align: top;\n",
       "    }\n",
       "\n",
       "    .dataframe thead th {\n",
       "        text-align: right;\n",
       "    }\n",
       "</style>\n",
       "<table border=\"1\" class=\"dataframe\">\n",
       "  <thead>\n",
       "    <tr style=\"text-align: right;\">\n",
       "      <th></th>\n",
       "      <th>id</th>\n",
       "      <th>lowercaseId</th>\n",
       "      <th>symbol</th>\n",
       "      <th>base</th>\n",
       "      <th>quote</th>\n",
       "      <th>settle</th>\n",
       "      <th>baseId</th>\n",
       "      <th>quoteId</th>\n",
       "      <th>settleId</th>\n",
       "      <th>type</th>\n",
       "      <th>...</th>\n",
       "      <th>expiry</th>\n",
       "      <th>expiryDatetime</th>\n",
       "      <th>strike</th>\n",
       "      <th>optionType</th>\n",
       "      <th>precision</th>\n",
       "      <th>limits</th>\n",
       "      <th>created</th>\n",
       "      <th>info</th>\n",
       "      <th>percentage</th>\n",
       "      <th>tiers</th>\n",
       "    </tr>\n",
       "  </thead>\n",
       "  <tbody>\n",
       "    <tr>\n",
       "      <th>1INCH/USD</th>\n",
       "      <td>1INCH_USD</td>\n",
       "      <td>None</td>\n",
       "      <td>1INCH/USD</td>\n",
       "      <td>1INCH</td>\n",
       "      <td>USD</td>\n",
       "      <td>None</td>\n",
       "      <td>1INCH</td>\n",
       "      <td>USD</td>\n",
       "      <td>None</td>\n",
       "      <td>spot</td>\n",
       "      <td>...</td>\n",
       "      <td>NaN</td>\n",
       "      <td>None</td>\n",
       "      <td>None</td>\n",
       "      <td>None</td>\n",
       "      <td>{'amount': 0.1, 'price': 1e-05, 'cost': None, ...</td>\n",
       "      <td>{'leverage': {'min': 1.0, 'max': 50.0}, 'amoun...</td>\n",
       "      <td>None</td>\n",
       "      <td>{'symbol': '1INCH_USD', 'inst_type': 'CCY_PAIR...</td>\n",
       "      <td>True</td>\n",
       "      <td>{'maker': [[0.0, 0.004], [25000.0, 0.0035], [5...</td>\n",
       "    </tr>\n",
       "    <tr>\n",
       "      <th>1INCH/USDT</th>\n",
       "      <td>1INCH_USDT</td>\n",
       "      <td>None</td>\n",
       "      <td>1INCH/USDT</td>\n",
       "      <td>1INCH</td>\n",
       "      <td>USDT</td>\n",
       "      <td>None</td>\n",
       "      <td>1INCH</td>\n",
       "      <td>USDT</td>\n",
       "      <td>None</td>\n",
       "      <td>spot</td>\n",
       "      <td>...</td>\n",
       "      <td>NaN</td>\n",
       "      <td>None</td>\n",
       "      <td>None</td>\n",
       "      <td>None</td>\n",
       "      <td>{'amount': 0.1, 'price': 1e-05, 'cost': None, ...</td>\n",
       "      <td>{'leverage': {'min': 1.0, 'max': 50.0}, 'amoun...</td>\n",
       "      <td>None</td>\n",
       "      <td>{'symbol': '1INCH_USDT', 'inst_type': 'CCY_PAI...</td>\n",
       "      <td>True</td>\n",
       "      <td>{'maker': [[0.0, 0.004], [25000.0, 0.0035], [5...</td>\n",
       "    </tr>\n",
       "    <tr>\n",
       "      <th>AAVE/USD</th>\n",
       "      <td>AAVE_USD</td>\n",
       "      <td>None</td>\n",
       "      <td>AAVE/USD</td>\n",
       "      <td>AAVE</td>\n",
       "      <td>USD</td>\n",
       "      <td>None</td>\n",
       "      <td>AAVE</td>\n",
       "      <td>USD</td>\n",
       "      <td>None</td>\n",
       "      <td>spot</td>\n",
       "      <td>...</td>\n",
       "      <td>NaN</td>\n",
       "      <td>None</td>\n",
       "      <td>None</td>\n",
       "      <td>None</td>\n",
       "      <td>{'amount': 0.001, 'price': 0.001, 'cost': None...</td>\n",
       "      <td>{'leverage': {'min': 1.0, 'max': 50.0}, 'amoun...</td>\n",
       "      <td>None</td>\n",
       "      <td>{'symbol': 'AAVE_USD', 'inst_type': 'CCY_PAIR'...</td>\n",
       "      <td>True</td>\n",
       "      <td>{'maker': [[0.0, 0.004], [25000.0, 0.0035], [5...</td>\n",
       "    </tr>\n",
       "    <tr>\n",
       "      <th>AAVE/USDT</th>\n",
       "      <td>AAVE_USDT</td>\n",
       "      <td>None</td>\n",
       "      <td>AAVE/USDT</td>\n",
       "      <td>AAVE</td>\n",
       "      <td>USDT</td>\n",
       "      <td>None</td>\n",
       "      <td>AAVE</td>\n",
       "      <td>USDT</td>\n",
       "      <td>None</td>\n",
       "      <td>spot</td>\n",
       "      <td>...</td>\n",
       "      <td>NaN</td>\n",
       "      <td>None</td>\n",
       "      <td>None</td>\n",
       "      <td>None</td>\n",
       "      <td>{'amount': 0.001, 'price': 0.001, 'cost': None...</td>\n",
       "      <td>{'leverage': {'min': 1.0, 'max': 50.0}, 'amoun...</td>\n",
       "      <td>None</td>\n",
       "      <td>{'symbol': 'AAVE_USDT', 'inst_type': 'CCY_PAIR...</td>\n",
       "      <td>True</td>\n",
       "      <td>{'maker': [[0.0, 0.004], [25000.0, 0.0035], [5...</td>\n",
       "    </tr>\n",
       "    <tr>\n",
       "      <th>ACA/USD</th>\n",
       "      <td>ACA_USD</td>\n",
       "      <td>None</td>\n",
       "      <td>ACA/USD</td>\n",
       "      <td>ACA</td>\n",
       "      <td>USD</td>\n",
       "      <td>None</td>\n",
       "      <td>ACA</td>\n",
       "      <td>USD</td>\n",
       "      <td>None</td>\n",
       "      <td>spot</td>\n",
       "      <td>...</td>\n",
       "      <td>NaN</td>\n",
       "      <td>None</td>\n",
       "      <td>None</td>\n",
       "      <td>None</td>\n",
       "      <td>{'amount': 1.0, 'price': 1e-05, 'cost': None, ...</td>\n",
       "      <td>{'leverage': {'min': 1.0, 'max': 50.0}, 'amoun...</td>\n",
       "      <td>None</td>\n",
       "      <td>{'symbol': 'ACA_USD', 'inst_type': 'CCY_PAIR',...</td>\n",
       "      <td>True</td>\n",
       "      <td>{'maker': [[0.0, 0.004], [25000.0, 0.0035], [5...</td>\n",
       "    </tr>\n",
       "    <tr>\n",
       "      <th>...</th>\n",
       "      <td>...</td>\n",
       "      <td>...</td>\n",
       "      <td>...</td>\n",
       "      <td>...</td>\n",
       "      <td>...</td>\n",
       "      <td>...</td>\n",
       "      <td>...</td>\n",
       "      <td>...</td>\n",
       "      <td>...</td>\n",
       "      <td>...</td>\n",
       "      <td>...</td>\n",
       "      <td>...</td>\n",
       "      <td>...</td>\n",
       "      <td>...</td>\n",
       "      <td>...</td>\n",
       "      <td>...</td>\n",
       "      <td>...</td>\n",
       "      <td>...</td>\n",
       "      <td>...</td>\n",
       "      <td>...</td>\n",
       "      <td>...</td>\n",
       "    </tr>\n",
       "    <tr>\n",
       "      <th>ZED/USD</th>\n",
       "      <td>ZED_USD</td>\n",
       "      <td>None</td>\n",
       "      <td>ZED/USD</td>\n",
       "      <td>ZED</td>\n",
       "      <td>USD</td>\n",
       "      <td>None</td>\n",
       "      <td>ZED</td>\n",
       "      <td>USD</td>\n",
       "      <td>None</td>\n",
       "      <td>spot</td>\n",
       "      <td>...</td>\n",
       "      <td>NaN</td>\n",
       "      <td>None</td>\n",
       "      <td>None</td>\n",
       "      <td>None</td>\n",
       "      <td>{'amount': 10.0, 'price': 1e-06, 'cost': None,...</td>\n",
       "      <td>{'leverage': {'min': 1.0, 'max': 50.0}, 'amoun...</td>\n",
       "      <td>None</td>\n",
       "      <td>{'symbol': 'ZED_USD', 'inst_type': 'CCY_PAIR',...</td>\n",
       "      <td>True</td>\n",
       "      <td>{'maker': [[0.0, 0.004], [25000.0, 0.0035], [5...</td>\n",
       "    </tr>\n",
       "    <tr>\n",
       "      <th>ZIL/USD</th>\n",
       "      <td>ZIL_USD</td>\n",
       "      <td>None</td>\n",
       "      <td>ZIL/USD</td>\n",
       "      <td>ZIL</td>\n",
       "      <td>USD</td>\n",
       "      <td>None</td>\n",
       "      <td>ZIL</td>\n",
       "      <td>USD</td>\n",
       "      <td>None</td>\n",
       "      <td>spot</td>\n",
       "      <td>...</td>\n",
       "      <td>NaN</td>\n",
       "      <td>None</td>\n",
       "      <td>None</td>\n",
       "      <td>None</td>\n",
       "      <td>{'amount': 10.0, 'price': 1e-06, 'cost': None,...</td>\n",
       "      <td>{'leverage': {'min': 1.0, 'max': 50.0}, 'amoun...</td>\n",
       "      <td>None</td>\n",
       "      <td>{'symbol': 'ZIL_USD', 'inst_type': 'CCY_PAIR',...</td>\n",
       "      <td>True</td>\n",
       "      <td>{'maker': [[0.0, 0.004], [25000.0, 0.0035], [5...</td>\n",
       "    </tr>\n",
       "    <tr>\n",
       "      <th>ZIL/USDT</th>\n",
       "      <td>ZIL_USDT</td>\n",
       "      <td>None</td>\n",
       "      <td>ZIL/USDT</td>\n",
       "      <td>ZIL</td>\n",
       "      <td>USDT</td>\n",
       "      <td>None</td>\n",
       "      <td>ZIL</td>\n",
       "      <td>USDT</td>\n",
       "      <td>None</td>\n",
       "      <td>spot</td>\n",
       "      <td>...</td>\n",
       "      <td>NaN</td>\n",
       "      <td>None</td>\n",
       "      <td>None</td>\n",
       "      <td>None</td>\n",
       "      <td>{'amount': 10.0, 'price': 1e-06, 'cost': None,...</td>\n",
       "      <td>{'leverage': {'min': 1.0, 'max': 50.0}, 'amoun...</td>\n",
       "      <td>None</td>\n",
       "      <td>{'symbol': 'ZIL_USDT', 'inst_type': 'CCY_PAIR'...</td>\n",
       "      <td>True</td>\n",
       "      <td>{'maker': [[0.0, 0.004], [25000.0, 0.0035], [5...</td>\n",
       "    </tr>\n",
       "    <tr>\n",
       "      <th>ZRX/USD</th>\n",
       "      <td>ZRX_USD</td>\n",
       "      <td>None</td>\n",
       "      <td>ZRX/USD</td>\n",
       "      <td>ZRX</td>\n",
       "      <td>USD</td>\n",
       "      <td>None</td>\n",
       "      <td>ZRX</td>\n",
       "      <td>USD</td>\n",
       "      <td>None</td>\n",
       "      <td>spot</td>\n",
       "      <td>...</td>\n",
       "      <td>NaN</td>\n",
       "      <td>None</td>\n",
       "      <td>None</td>\n",
       "      <td>None</td>\n",
       "      <td>{'amount': 1.0, 'price': 1e-05, 'cost': None, ...</td>\n",
       "      <td>{'leverage': {'min': 1.0, 'max': 50.0}, 'amoun...</td>\n",
       "      <td>None</td>\n",
       "      <td>{'symbol': 'ZRX_USD', 'inst_type': 'CCY_PAIR',...</td>\n",
       "      <td>True</td>\n",
       "      <td>{'maker': [[0.0, 0.004], [25000.0, 0.0035], [5...</td>\n",
       "    </tr>\n",
       "    <tr>\n",
       "      <th>ZRX/USDT</th>\n",
       "      <td>ZRX_USDT</td>\n",
       "      <td>None</td>\n",
       "      <td>ZRX/USDT</td>\n",
       "      <td>ZRX</td>\n",
       "      <td>USDT</td>\n",
       "      <td>None</td>\n",
       "      <td>ZRX</td>\n",
       "      <td>USDT</td>\n",
       "      <td>None</td>\n",
       "      <td>spot</td>\n",
       "      <td>...</td>\n",
       "      <td>NaN</td>\n",
       "      <td>None</td>\n",
       "      <td>None</td>\n",
       "      <td>None</td>\n",
       "      <td>{'amount': 1.0, 'price': 1e-05, 'cost': None, ...</td>\n",
       "      <td>{'leverage': {'min': 1.0, 'max': 50.0}, 'amoun...</td>\n",
       "      <td>None</td>\n",
       "      <td>{'symbol': 'ZRX_USDT', 'inst_type': 'CCY_PAIR'...</td>\n",
       "      <td>True</td>\n",
       "      <td>{'maker': [[0.0, 0.004], [25000.0, 0.0035], [5...</td>\n",
       "    </tr>\n",
       "  </tbody>\n",
       "</table>\n",
       "<p>517 rows × 34 columns</p>\n",
       "</div>"
      ],
      "text/plain": [
       "                    id lowercaseId      symbol   base quote settle baseId  \\\n",
       "1INCH/USD    1INCH_USD        None   1INCH/USD  1INCH   USD   None  1INCH   \n",
       "1INCH/USDT  1INCH_USDT        None  1INCH/USDT  1INCH  USDT   None  1INCH   \n",
       "AAVE/USD      AAVE_USD        None    AAVE/USD   AAVE   USD   None   AAVE   \n",
       "AAVE/USDT    AAVE_USDT        None   AAVE/USDT   AAVE  USDT   None   AAVE   \n",
       "ACA/USD        ACA_USD        None     ACA/USD    ACA   USD   None    ACA   \n",
       "...                ...         ...         ...    ...   ...    ...    ...   \n",
       "ZED/USD        ZED_USD        None     ZED/USD    ZED   USD   None    ZED   \n",
       "ZIL/USD        ZIL_USD        None     ZIL/USD    ZIL   USD   None    ZIL   \n",
       "ZIL/USDT      ZIL_USDT        None    ZIL/USDT    ZIL  USDT   None    ZIL   \n",
       "ZRX/USD        ZRX_USD        None     ZRX/USD    ZRX   USD   None    ZRX   \n",
       "ZRX/USDT      ZRX_USDT        None    ZRX/USDT    ZRX  USDT   None    ZRX   \n",
       "\n",
       "           quoteId settleId  type  ...  expiry  expiryDatetime  strike  \\\n",
       "1INCH/USD      USD     None  spot  ...     NaN            None    None   \n",
       "1INCH/USDT    USDT     None  spot  ...     NaN            None    None   \n",
       "AAVE/USD       USD     None  spot  ...     NaN            None    None   \n",
       "AAVE/USDT     USDT     None  spot  ...     NaN            None    None   \n",
       "ACA/USD        USD     None  spot  ...     NaN            None    None   \n",
       "...            ...      ...   ...  ...     ...             ...     ...   \n",
       "ZED/USD        USD     None  spot  ...     NaN            None    None   \n",
       "ZIL/USD        USD     None  spot  ...     NaN            None    None   \n",
       "ZIL/USDT      USDT     None  spot  ...     NaN            None    None   \n",
       "ZRX/USD        USD     None  spot  ...     NaN            None    None   \n",
       "ZRX/USDT      USDT     None  spot  ...     NaN            None    None   \n",
       "\n",
       "            optionType                                          precision  \\\n",
       "1INCH/USD         None  {'amount': 0.1, 'price': 1e-05, 'cost': None, ...   \n",
       "1INCH/USDT        None  {'amount': 0.1, 'price': 1e-05, 'cost': None, ...   \n",
       "AAVE/USD          None  {'amount': 0.001, 'price': 0.001, 'cost': None...   \n",
       "AAVE/USDT         None  {'amount': 0.001, 'price': 0.001, 'cost': None...   \n",
       "ACA/USD           None  {'amount': 1.0, 'price': 1e-05, 'cost': None, ...   \n",
       "...                ...                                                ...   \n",
       "ZED/USD           None  {'amount': 10.0, 'price': 1e-06, 'cost': None,...   \n",
       "ZIL/USD           None  {'amount': 10.0, 'price': 1e-06, 'cost': None,...   \n",
       "ZIL/USDT          None  {'amount': 10.0, 'price': 1e-06, 'cost': None,...   \n",
       "ZRX/USD           None  {'amount': 1.0, 'price': 1e-05, 'cost': None, ...   \n",
       "ZRX/USDT          None  {'amount': 1.0, 'price': 1e-05, 'cost': None, ...   \n",
       "\n",
       "                                                       limits  created  \\\n",
       "1INCH/USD   {'leverage': {'min': 1.0, 'max': 50.0}, 'amoun...     None   \n",
       "1INCH/USDT  {'leverage': {'min': 1.0, 'max': 50.0}, 'amoun...     None   \n",
       "AAVE/USD    {'leverage': {'min': 1.0, 'max': 50.0}, 'amoun...     None   \n",
       "AAVE/USDT   {'leverage': {'min': 1.0, 'max': 50.0}, 'amoun...     None   \n",
       "ACA/USD     {'leverage': {'min': 1.0, 'max': 50.0}, 'amoun...     None   \n",
       "...                                                       ...      ...   \n",
       "ZED/USD     {'leverage': {'min': 1.0, 'max': 50.0}, 'amoun...     None   \n",
       "ZIL/USD     {'leverage': {'min': 1.0, 'max': 50.0}, 'amoun...     None   \n",
       "ZIL/USDT    {'leverage': {'min': 1.0, 'max': 50.0}, 'amoun...     None   \n",
       "ZRX/USD     {'leverage': {'min': 1.0, 'max': 50.0}, 'amoun...     None   \n",
       "ZRX/USDT    {'leverage': {'min': 1.0, 'max': 50.0}, 'amoun...     None   \n",
       "\n",
       "                                                         info percentage  \\\n",
       "1INCH/USD   {'symbol': '1INCH_USD', 'inst_type': 'CCY_PAIR...       True   \n",
       "1INCH/USDT  {'symbol': '1INCH_USDT', 'inst_type': 'CCY_PAI...       True   \n",
       "AAVE/USD    {'symbol': 'AAVE_USD', 'inst_type': 'CCY_PAIR'...       True   \n",
       "AAVE/USDT   {'symbol': 'AAVE_USDT', 'inst_type': 'CCY_PAIR...       True   \n",
       "ACA/USD     {'symbol': 'ACA_USD', 'inst_type': 'CCY_PAIR',...       True   \n",
       "...                                                       ...        ...   \n",
       "ZED/USD     {'symbol': 'ZED_USD', 'inst_type': 'CCY_PAIR',...       True   \n",
       "ZIL/USD     {'symbol': 'ZIL_USD', 'inst_type': 'CCY_PAIR',...       True   \n",
       "ZIL/USDT    {'symbol': 'ZIL_USDT', 'inst_type': 'CCY_PAIR'...       True   \n",
       "ZRX/USD     {'symbol': 'ZRX_USD', 'inst_type': 'CCY_PAIR',...       True   \n",
       "ZRX/USDT    {'symbol': 'ZRX_USDT', 'inst_type': 'CCY_PAIR'...       True   \n",
       "\n",
       "                                                        tiers  \n",
       "1INCH/USD   {'maker': [[0.0, 0.004], [25000.0, 0.0035], [5...  \n",
       "1INCH/USDT  {'maker': [[0.0, 0.004], [25000.0, 0.0035], [5...  \n",
       "AAVE/USD    {'maker': [[0.0, 0.004], [25000.0, 0.0035], [5...  \n",
       "AAVE/USDT   {'maker': [[0.0, 0.004], [25000.0, 0.0035], [5...  \n",
       "ACA/USD     {'maker': [[0.0, 0.004], [25000.0, 0.0035], [5...  \n",
       "...                                                       ...  \n",
       "ZED/USD     {'maker': [[0.0, 0.004], [25000.0, 0.0035], [5...  \n",
       "ZIL/USD     {'maker': [[0.0, 0.004], [25000.0, 0.0035], [5...  \n",
       "ZIL/USDT    {'maker': [[0.0, 0.004], [25000.0, 0.0035], [5...  \n",
       "ZRX/USD     {'maker': [[0.0, 0.004], [25000.0, 0.0035], [5...  \n",
       "ZRX/USDT    {'maker': [[0.0, 0.004], [25000.0, 0.0035], [5...  \n",
       "\n",
       "[517 rows x 34 columns]"
      ]
     },
     "execution_count": 5,
     "metadata": {},
     "output_type": "execute_result"
    }
   ],
   "source": [
    "spot_symbols = market_info[market_info[\"spot\"] == True]\n",
    "spot_symbols"
   ]
  },
  {
   "cell_type": "code",
   "execution_count": 6,
   "id": "cc099542",
   "metadata": {
    "ExecuteTime": {
     "end_time": "2024-01-09T13:55:34.716318Z",
     "start_time": "2024-01-09T13:55:34.365756Z"
    }
   },
   "outputs": [
    {
     "data": {
      "text/plain": [
       "{'symbol': 'BTC/USDT',\n",
       " 'bids': [[46844.91, 0.02166, 5],\n",
       "  [46839.15, 0.02466, 1],\n",
       "  [46839.14, 0.02596, 1],\n",
       "  [46838.15, 0.04236, 2],\n",
       "  [46836.81, 1e-05, 1]],\n",
       " 'asks': [[46844.92, 0.36053, 6],\n",
       "  [46844.96, 0.1067, 1],\n",
       "  [46846.1, 0.1, 1],\n",
       "  [46846.16, 0.06401, 1],\n",
       "  [46851.6, 0.06923, 4]],\n",
       " 'timestamp': 1704808534483,\n",
       " 'datetime': '2024-01-09T13:55:34.483Z',\n",
       " 'nonce': None}"
      ]
     },
     "execution_count": 6,
     "metadata": {},
     "output_type": "execute_result"
    }
   ],
   "source": [
    "bid_ask_data = cryptocom.fetch_order_book(\"BTC/USDT\", params={\"depth\": 5})\n",
    "bid_ask_data"
   ]
  },
  {
   "cell_type": "markdown",
   "id": "ff6c2732",
   "metadata": {},
   "source": [
    "### cryptocom REST spot OHLCV"
   ]
  },
  {
   "cell_type": "code",
   "execution_count": 7,
   "id": "459b901a",
   "metadata": {
    "ExecuteTime": {
     "end_time": "2024-01-09T13:55:36.713287Z",
     "start_time": "2024-01-09T13:55:36.373698Z"
    }
   },
   "outputs": [
    {
     "data": {
      "text/plain": [
       "[[1673186160000, 16932.39, 16932.39, 16932.39, 16932.39, 0.04867],\n",
       " [1673186220000, 16932.38, 16932.39, 16932.38, 16932.39, 0.10001],\n",
       " [1673186280000, 16932.38, 16932.39, 16932.38, 16932.39, 0.05826],\n",
       " [1673186340000, 16932.39, 16932.89, 16932.39, 16932.89, 0.35169],\n",
       " [1673186400000, 16933.09, 16933.09, 16933.09, 16933.09, 0.00396]]"
      ]
     },
     "execution_count": 7,
     "metadata": {},
     "output_type": "execute_result"
    }
   ],
   "source": [
    "ohlcv1 = cryptocom.fetchOHLCV(\n",
    "    \"BTC/USDT\",\n",
    "    params={\"start_ts\": 1673182859000, \"end_ts\": 1673186459000, \"count\": 5},\n",
    ")\n",
    "ohlcv1"
   ]
  },
  {
   "cell_type": "code",
   "execution_count": 8,
   "id": "3be86626",
   "metadata": {
    "ExecuteTime": {
     "end_time": "2024-01-09T13:56:13.979038Z",
     "start_time": "2024-01-09T13:55:37.491809Z"
    }
   },
   "outputs": [],
   "source": [
    "# Get historical data over a long period of time\n",
    "# 300 is maximum number of rows that can be extracted with a single call to fetchOHLCV.\n",
    "# the function provides latest 300 rows so we have to move back to get historical data.\n",
    "# Method to get historical data from 1st Dec 2023 to 31st Dec 2023\n",
    "start_time = 1701388800000  # 12/01/2023\n",
    "end_time = 1703116800000  # 12/31/2023\n",
    "data = pd.DataFrame()\n",
    "while end_time != start_time:\n",
    "    ohlcv = pd.DataFrame(\n",
    "        cryptocom.fetchOHLCV(\n",
    "            \"BTC/USDT\",\n",
    "            \"1m\",\n",
    "            params={\n",
    "                \"timeframe\": \"M1\",\n",
    "                \"start_ts\": start_time,\n",
    "                \"end_ts\": end_time,\n",
    "                \"count\": 300,\n",
    "            },\n",
    "        )\n",
    "    )\n",
    "    if end_time != ohlcv.iloc[0, 0]:\n",
    "        data = pd.concat([ohlcv, data], ignore_index=True)\n",
    "        end_time = ohlcv.iloc[0, 0]"
   ]
  },
  {
   "cell_type": "code",
   "execution_count": 9,
   "id": "fef7bdf6",
   "metadata": {
    "ExecuteTime": {
     "end_time": "2024-01-09T13:56:13.997226Z",
     "start_time": "2024-01-09T13:56:13.981639Z"
    }
   },
   "outputs": [
    {
     "data": {
      "text/html": [
       "<div>\n",
       "<style scoped>\n",
       "    .dataframe tbody tr th:only-of-type {\n",
       "        vertical-align: middle;\n",
       "    }\n",
       "\n",
       "    .dataframe tbody tr th {\n",
       "        vertical-align: top;\n",
       "    }\n",
       "\n",
       "    .dataframe thead th {\n",
       "        text-align: right;\n",
       "    }\n",
       "</style>\n",
       "<table border=\"1\" class=\"dataframe\">\n",
       "  <thead>\n",
       "    <tr style=\"text-align: right;\">\n",
       "      <th></th>\n",
       "      <th>0</th>\n",
       "      <th>1</th>\n",
       "      <th>2</th>\n",
       "      <th>3</th>\n",
       "      <th>4</th>\n",
       "      <th>5</th>\n",
       "    </tr>\n",
       "  </thead>\n",
       "  <tbody>\n",
       "    <tr>\n",
       "      <th>0</th>\n",
       "      <td>1701388800000</td>\n",
       "      <td>37729.09</td>\n",
       "      <td>37750.50</td>\n",
       "      <td>37723.03</td>\n",
       "      <td>37742.14</td>\n",
       "      <td>1.51171</td>\n",
       "    </tr>\n",
       "    <tr>\n",
       "      <th>1</th>\n",
       "      <td>1701388860000</td>\n",
       "      <td>37742.14</td>\n",
       "      <td>37742.14</td>\n",
       "      <td>37722.36</td>\n",
       "      <td>37722.36</td>\n",
       "      <td>1.00583</td>\n",
       "    </tr>\n",
       "    <tr>\n",
       "      <th>2</th>\n",
       "      <td>1701388920000</td>\n",
       "      <td>37721.76</td>\n",
       "      <td>37721.76</td>\n",
       "      <td>37699.12</td>\n",
       "      <td>37700.74</td>\n",
       "      <td>0.77192</td>\n",
       "    </tr>\n",
       "    <tr>\n",
       "      <th>3</th>\n",
       "      <td>1701388980000</td>\n",
       "      <td>37698.73</td>\n",
       "      <td>37703.89</td>\n",
       "      <td>37698.72</td>\n",
       "      <td>37701.56</td>\n",
       "      <td>0.51464</td>\n",
       "    </tr>\n",
       "    <tr>\n",
       "      <th>4</th>\n",
       "      <td>1701389040000</td>\n",
       "      <td>37701.56</td>\n",
       "      <td>37702.38</td>\n",
       "      <td>37690.84</td>\n",
       "      <td>37690.84</td>\n",
       "      <td>1.56497</td>\n",
       "    </tr>\n",
       "    <tr>\n",
       "      <th>...</th>\n",
       "      <td>...</td>\n",
       "      <td>...</td>\n",
       "      <td>...</td>\n",
       "      <td>...</td>\n",
       "      <td>...</td>\n",
       "      <td>...</td>\n",
       "    </tr>\n",
       "    <tr>\n",
       "      <th>28795</th>\n",
       "      <td>1703116500000</td>\n",
       "      <td>43652.77</td>\n",
       "      <td>43658.55</td>\n",
       "      <td>43611.20</td>\n",
       "      <td>43611.20</td>\n",
       "      <td>2.94553</td>\n",
       "    </tr>\n",
       "    <tr>\n",
       "      <th>28796</th>\n",
       "      <td>1703116560000</td>\n",
       "      <td>43611.20</td>\n",
       "      <td>43628.64</td>\n",
       "      <td>43611.20</td>\n",
       "      <td>43619.50</td>\n",
       "      <td>2.35138</td>\n",
       "    </tr>\n",
       "    <tr>\n",
       "      <th>28797</th>\n",
       "      <td>1703116620000</td>\n",
       "      <td>43623.40</td>\n",
       "      <td>43632.22</td>\n",
       "      <td>43610.70</td>\n",
       "      <td>43630.12</td>\n",
       "      <td>1.68019</td>\n",
       "    </tr>\n",
       "    <tr>\n",
       "      <th>28798</th>\n",
       "      <td>1703116680000</td>\n",
       "      <td>43627.45</td>\n",
       "      <td>43656.39</td>\n",
       "      <td>43627.45</td>\n",
       "      <td>43649.92</td>\n",
       "      <td>2.83103</td>\n",
       "    </tr>\n",
       "    <tr>\n",
       "      <th>28799</th>\n",
       "      <td>1703116740000</td>\n",
       "      <td>43649.93</td>\n",
       "      <td>43670.34</td>\n",
       "      <td>43649.93</td>\n",
       "      <td>43670.34</td>\n",
       "      <td>2.31139</td>\n",
       "    </tr>\n",
       "  </tbody>\n",
       "</table>\n",
       "<p>28800 rows × 6 columns</p>\n",
       "</div>"
      ],
      "text/plain": [
       "                   0         1         2         3         4        5\n",
       "0      1701388800000  37729.09  37750.50  37723.03  37742.14  1.51171\n",
       "1      1701388860000  37742.14  37742.14  37722.36  37722.36  1.00583\n",
       "2      1701388920000  37721.76  37721.76  37699.12  37700.74  0.77192\n",
       "3      1701388980000  37698.73  37703.89  37698.72  37701.56  0.51464\n",
       "4      1701389040000  37701.56  37702.38  37690.84  37690.84  1.56497\n",
       "...              ...       ...       ...       ...       ...      ...\n",
       "28795  1703116500000  43652.77  43658.55  43611.20  43611.20  2.94553\n",
       "28796  1703116560000  43611.20  43628.64  43611.20  43619.50  2.35138\n",
       "28797  1703116620000  43623.40  43632.22  43610.70  43630.12  1.68019\n",
       "28798  1703116680000  43627.45  43656.39  43627.45  43649.92  2.83103\n",
       "28799  1703116740000  43649.93  43670.34  43649.93  43670.34  2.31139\n",
       "\n",
       "[28800 rows x 6 columns]"
      ]
     },
     "execution_count": 9,
     "metadata": {},
     "output_type": "execute_result"
    }
   ],
   "source": [
    "data"
   ]
  },
  {
   "cell_type": "markdown",
   "id": "4880eae9",
   "metadata": {},
   "source": [
    "### cryptocom REST SPOT trades"
   ]
  },
  {
   "cell_type": "code",
   "execution_count": 10,
   "id": "20cbe42d",
   "metadata": {
    "ExecuteTime": {
     "end_time": "2024-01-09T13:56:14.350017Z",
     "start_time": "2024-01-09T13:56:13.999179Z"
    }
   },
   "outputs": [
    {
     "data": {
      "text/html": [
       "<div>\n",
       "<style scoped>\n",
       "    .dataframe tbody tr th:only-of-type {\n",
       "        vertical-align: middle;\n",
       "    }\n",
       "\n",
       "    .dataframe tbody tr th {\n",
       "        vertical-align: top;\n",
       "    }\n",
       "\n",
       "    .dataframe thead th {\n",
       "        text-align: right;\n",
       "    }\n",
       "</style>\n",
       "<table border=\"1\" class=\"dataframe\">\n",
       "  <thead>\n",
       "    <tr style=\"text-align: right;\">\n",
       "      <th></th>\n",
       "      <th>info</th>\n",
       "      <th>id</th>\n",
       "      <th>timestamp</th>\n",
       "      <th>datetime</th>\n",
       "      <th>symbol</th>\n",
       "      <th>order</th>\n",
       "      <th>side</th>\n",
       "      <th>takerOrMaker</th>\n",
       "      <th>price</th>\n",
       "      <th>amount</th>\n",
       "      <th>cost</th>\n",
       "      <th>type</th>\n",
       "      <th>fee</th>\n",
       "      <th>fees</th>\n",
       "    </tr>\n",
       "  </thead>\n",
       "  <tbody>\n",
       "    <tr>\n",
       "      <th>0</th>\n",
       "      <td>{'d': '5755600341609575439', 't': '16731863856...</td>\n",
       "      <td>5755600341609575439</td>\n",
       "      <td>1673186385625</td>\n",
       "      <td>2023-01-08T13:59:45.625Z</td>\n",
       "      <td>BTC/USDT</td>\n",
       "      <td>None</td>\n",
       "      <td>buy</td>\n",
       "      <td>None</td>\n",
       "      <td>16932.89</td>\n",
       "      <td>0.00354</td>\n",
       "      <td>59.942431</td>\n",
       "      <td>None</td>\n",
       "      <td>{'currency': None, 'cost': None}</td>\n",
       "      <td>[{'currency': None, 'cost': None}]</td>\n",
       "    </tr>\n",
       "    <tr>\n",
       "      <th>1</th>\n",
       "      <td>{'d': '4989988395095588346', 't': '16731864001...</td>\n",
       "      <td>4989988395095588346</td>\n",
       "      <td>1673186400143</td>\n",
       "      <td>2023-01-08T14:00:00.143Z</td>\n",
       "      <td>BTC/USDT</td>\n",
       "      <td>None</td>\n",
       "      <td>buy</td>\n",
       "      <td>None</td>\n",
       "      <td>16933.09</td>\n",
       "      <td>0.00044</td>\n",
       "      <td>7.450560</td>\n",
       "      <td>None</td>\n",
       "      <td>{'currency': None, 'cost': None}</td>\n",
       "      <td>[{'currency': None, 'cost': None}]</td>\n",
       "    </tr>\n",
       "    <tr>\n",
       "      <th>2</th>\n",
       "      <td>{'d': '4611686031863082083', 't': '16731864588...</td>\n",
       "      <td>4611686031863082083</td>\n",
       "      <td>1673186458885</td>\n",
       "      <td>2023-01-08T14:00:58.885Z</td>\n",
       "      <td>BTC/USDT</td>\n",
       "      <td>None</td>\n",
       "      <td>buy</td>\n",
       "      <td>None</td>\n",
       "      <td>16933.09</td>\n",
       "      <td>0.00001</td>\n",
       "      <td>0.169331</td>\n",
       "      <td>None</td>\n",
       "      <td>{'currency': None, 'cost': None}</td>\n",
       "      <td>[{'currency': None, 'cost': None}]</td>\n",
       "    </tr>\n",
       "    <tr>\n",
       "      <th>3</th>\n",
       "      <td>{'d': '4611686031863082084', 't': '16731864588...</td>\n",
       "      <td>4611686031863082084</td>\n",
       "      <td>1673186458885</td>\n",
       "      <td>2023-01-08T14:00:58.885Z</td>\n",
       "      <td>BTC/USDT</td>\n",
       "      <td>None</td>\n",
       "      <td>buy</td>\n",
       "      <td>None</td>\n",
       "      <td>16933.09</td>\n",
       "      <td>0.00215</td>\n",
       "      <td>36.406143</td>\n",
       "      <td>None</td>\n",
       "      <td>{'currency': None, 'cost': None}</td>\n",
       "      <td>[{'currency': None, 'cost': None}]</td>\n",
       "    </tr>\n",
       "    <tr>\n",
       "      <th>4</th>\n",
       "      <td>{'d': '4989988395095749545', 't': '16731864588...</td>\n",
       "      <td>4989988395095749545</td>\n",
       "      <td>1673186458885</td>\n",
       "      <td>2023-01-08T14:00:58.885Z</td>\n",
       "      <td>BTC/USDT</td>\n",
       "      <td>None</td>\n",
       "      <td>buy</td>\n",
       "      <td>None</td>\n",
       "      <td>16933.09</td>\n",
       "      <td>0.00136</td>\n",
       "      <td>23.029002</td>\n",
       "      <td>None</td>\n",
       "      <td>{'currency': None, 'cost': None}</td>\n",
       "      <td>[{'currency': None, 'cost': None}]</td>\n",
       "    </tr>\n",
       "  </tbody>\n",
       "</table>\n",
       "</div>"
      ],
      "text/plain": [
       "                                                info                   id  \\\n",
       "0  {'d': '5755600341609575439', 't': '16731863856...  5755600341609575439   \n",
       "1  {'d': '4989988395095588346', 't': '16731864001...  4989988395095588346   \n",
       "2  {'d': '4611686031863082083', 't': '16731864588...  4611686031863082083   \n",
       "3  {'d': '4611686031863082084', 't': '16731864588...  4611686031863082084   \n",
       "4  {'d': '4989988395095749545', 't': '16731864588...  4989988395095749545   \n",
       "\n",
       "       timestamp                  datetime    symbol order side takerOrMaker  \\\n",
       "0  1673186385625  2023-01-08T13:59:45.625Z  BTC/USDT  None  buy         None   \n",
       "1  1673186400143  2023-01-08T14:00:00.143Z  BTC/USDT  None  buy         None   \n",
       "2  1673186458885  2023-01-08T14:00:58.885Z  BTC/USDT  None  buy         None   \n",
       "3  1673186458885  2023-01-08T14:00:58.885Z  BTC/USDT  None  buy         None   \n",
       "4  1673186458885  2023-01-08T14:00:58.885Z  BTC/USDT  None  buy         None   \n",
       "\n",
       "      price   amount       cost  type                               fee  \\\n",
       "0  16932.89  0.00354  59.942431  None  {'currency': None, 'cost': None}   \n",
       "1  16933.09  0.00044   7.450560  None  {'currency': None, 'cost': None}   \n",
       "2  16933.09  0.00001   0.169331  None  {'currency': None, 'cost': None}   \n",
       "3  16933.09  0.00215  36.406143  None  {'currency': None, 'cost': None}   \n",
       "4  16933.09  0.00136  23.029002  None  {'currency': None, 'cost': None}   \n",
       "\n",
       "                                 fees  \n",
       "0  [{'currency': None, 'cost': None}]  \n",
       "1  [{'currency': None, 'cost': None}]  \n",
       "2  [{'currency': None, 'cost': None}]  \n",
       "3  [{'currency': None, 'cost': None}]  \n",
       "4  [{'currency': None, 'cost': None}]  "
      ]
     },
     "execution_count": 10,
     "metadata": {},
     "output_type": "execute_result"
    }
   ],
   "source": [
    "data = pd.DataFrame(\n",
    "    cryptocom.fetch_trades(\n",
    "        \"BTC/USDT\",\n",
    "        params={\"start_ts\": 1673182859000, \"end_ts\": 1673186459000, \"count\": 5},\n",
    "    )\n",
    ")\n",
    "data.head()"
   ]
  },
  {
   "cell_type": "markdown",
   "id": "d2393b2f",
   "metadata": {},
   "source": [
    "## cryptocom REST Futures"
   ]
  },
  {
   "cell_type": "code",
   "execution_count": 11,
   "id": "cfe2a8c2",
   "metadata": {
    "ExecuteTime": {
     "end_time": "2024-01-09T13:56:14.357729Z",
     "start_time": "2024-01-09T13:56:14.353599Z"
    }
   },
   "outputs": [
    {
     "data": {
      "text/plain": [
       "True"
      ]
     },
     "execution_count": 11,
     "metadata": {},
     "output_type": "execute_result"
    }
   ],
   "source": [
    "cryptocom.has[\"future\"]"
   ]
  },
  {
   "cell_type": "code",
   "execution_count": 12,
   "id": "9fbe9987",
   "metadata": {
    "ExecuteTime": {
     "end_time": "2024-01-09T13:56:14.472905Z",
     "start_time": "2024-01-09T13:56:14.359826Z"
    }
   },
   "outputs": [
    {
     "data": {
      "text/html": [
       "<div>\n",
       "<style scoped>\n",
       "    .dataframe tbody tr th:only-of-type {\n",
       "        vertical-align: middle;\n",
       "    }\n",
       "\n",
       "    .dataframe tbody tr th {\n",
       "        vertical-align: top;\n",
       "    }\n",
       "\n",
       "    .dataframe thead th {\n",
       "        text-align: right;\n",
       "    }\n",
       "</style>\n",
       "<table border=\"1\" class=\"dataframe\">\n",
       "  <thead>\n",
       "    <tr style=\"text-align: right;\">\n",
       "      <th></th>\n",
       "      <th>id</th>\n",
       "      <th>lowercaseId</th>\n",
       "      <th>symbol</th>\n",
       "      <th>base</th>\n",
       "      <th>quote</th>\n",
       "      <th>settle</th>\n",
       "      <th>baseId</th>\n",
       "      <th>quoteId</th>\n",
       "      <th>settleId</th>\n",
       "      <th>type</th>\n",
       "      <th>...</th>\n",
       "      <th>expiry</th>\n",
       "      <th>expiryDatetime</th>\n",
       "      <th>strike</th>\n",
       "      <th>optionType</th>\n",
       "      <th>precision</th>\n",
       "      <th>limits</th>\n",
       "      <th>created</th>\n",
       "      <th>info</th>\n",
       "      <th>percentage</th>\n",
       "      <th>tiers</th>\n",
       "    </tr>\n",
       "  </thead>\n",
       "  <tbody>\n",
       "    <tr>\n",
       "      <th>BTC/USD:USD-240126</th>\n",
       "      <td>BTCUSD-240126</td>\n",
       "      <td>None</td>\n",
       "      <td>BTC/USD:USD-240126</td>\n",
       "      <td>BTC</td>\n",
       "      <td>USD</td>\n",
       "      <td>USD</td>\n",
       "      <td>BTC</td>\n",
       "      <td>USD</td>\n",
       "      <td>USD</td>\n",
       "      <td>future</td>\n",
       "      <td>...</td>\n",
       "      <td>1.706256e+12</td>\n",
       "      <td>2024-01-26T08:00:00.000Z</td>\n",
       "      <td>None</td>\n",
       "      <td>None</td>\n",
       "      <td>{'amount': 0.0001, 'price': 0.1, 'cost': None,...</td>\n",
       "      <td>{'leverage': {'min': 1.0, 'max': 100.0}, 'amou...</td>\n",
       "      <td>None</td>\n",
       "      <td>{'symbol': 'BTCUSD-240126', 'inst_type': 'FUTU...</td>\n",
       "      <td>True</td>\n",
       "      <td>{'maker': [[0.0, 0.004], [25000.0, 0.0035], [5...</td>\n",
       "    </tr>\n",
       "    <tr>\n",
       "      <th>BTC/USD:USD-240223</th>\n",
       "      <td>BTCUSD-240223</td>\n",
       "      <td>None</td>\n",
       "      <td>BTC/USD:USD-240223</td>\n",
       "      <td>BTC</td>\n",
       "      <td>USD</td>\n",
       "      <td>USD</td>\n",
       "      <td>BTC</td>\n",
       "      <td>USD</td>\n",
       "      <td>USD</td>\n",
       "      <td>future</td>\n",
       "      <td>...</td>\n",
       "      <td>1.708675e+12</td>\n",
       "      <td>2024-02-23T08:00:00.000Z</td>\n",
       "      <td>None</td>\n",
       "      <td>None</td>\n",
       "      <td>{'amount': 0.0001, 'price': 0.1, 'cost': None,...</td>\n",
       "      <td>{'leverage': {'min': 1.0, 'max': 100.0}, 'amou...</td>\n",
       "      <td>None</td>\n",
       "      <td>{'symbol': 'BTCUSD-240223', 'inst_type': 'FUTU...</td>\n",
       "      <td>True</td>\n",
       "      <td>{'maker': [[0.0, 0.004], [25000.0, 0.0035], [5...</td>\n",
       "    </tr>\n",
       "    <tr>\n",
       "      <th>BTC/USD:USD-240329</th>\n",
       "      <td>BTCUSD-240329</td>\n",
       "      <td>None</td>\n",
       "      <td>BTC/USD:USD-240329</td>\n",
       "      <td>BTC</td>\n",
       "      <td>USD</td>\n",
       "      <td>USD</td>\n",
       "      <td>BTC</td>\n",
       "      <td>USD</td>\n",
       "      <td>USD</td>\n",
       "      <td>future</td>\n",
       "      <td>...</td>\n",
       "      <td>1.711699e+12</td>\n",
       "      <td>2024-03-29T08:00:00.000Z</td>\n",
       "      <td>None</td>\n",
       "      <td>None</td>\n",
       "      <td>{'amount': 0.0001, 'price': 0.1, 'cost': None,...</td>\n",
       "      <td>{'leverage': {'min': 1.0, 'max': 100.0}, 'amou...</td>\n",
       "      <td>None</td>\n",
       "      <td>{'symbol': 'BTCUSD-240329', 'inst_type': 'FUTU...</td>\n",
       "      <td>True</td>\n",
       "      <td>{'maker': [[0.0, 0.004], [25000.0, 0.0035], [5...</td>\n",
       "    </tr>\n",
       "    <tr>\n",
       "      <th>BTC/USD:USD-240628</th>\n",
       "      <td>BTCUSD-240628</td>\n",
       "      <td>None</td>\n",
       "      <td>BTC/USD:USD-240628</td>\n",
       "      <td>BTC</td>\n",
       "      <td>USD</td>\n",
       "      <td>USD</td>\n",
       "      <td>BTC</td>\n",
       "      <td>USD</td>\n",
       "      <td>USD</td>\n",
       "      <td>future</td>\n",
       "      <td>...</td>\n",
       "      <td>1.719562e+12</td>\n",
       "      <td>2024-06-28T08:00:00.000Z</td>\n",
       "      <td>None</td>\n",
       "      <td>None</td>\n",
       "      <td>{'amount': 0.0001, 'price': 0.1, 'cost': None,...</td>\n",
       "      <td>{'leverage': {'min': 1.0, 'max': 100.0}, 'amou...</td>\n",
       "      <td>None</td>\n",
       "      <td>{'symbol': 'BTCUSD-240628', 'inst_type': 'FUTU...</td>\n",
       "      <td>True</td>\n",
       "      <td>{'maker': [[0.0, 0.004], [25000.0, 0.0035], [5...</td>\n",
       "    </tr>\n",
       "    <tr>\n",
       "      <th>ETH/USD:USD-240126</th>\n",
       "      <td>ETHUSD-240126</td>\n",
       "      <td>None</td>\n",
       "      <td>ETH/USD:USD-240126</td>\n",
       "      <td>ETH</td>\n",
       "      <td>USD</td>\n",
       "      <td>USD</td>\n",
       "      <td>ETH</td>\n",
       "      <td>USD</td>\n",
       "      <td>USD</td>\n",
       "      <td>future</td>\n",
       "      <td>...</td>\n",
       "      <td>1.706256e+12</td>\n",
       "      <td>2024-01-26T08:00:00.000Z</td>\n",
       "      <td>None</td>\n",
       "      <td>None</td>\n",
       "      <td>{'amount': 0.0001, 'price': 0.01, 'cost': None...</td>\n",
       "      <td>{'leverage': {'min': 1.0, 'max': 100.0}, 'amou...</td>\n",
       "      <td>None</td>\n",
       "      <td>{'symbol': 'ETHUSD-240126', 'inst_type': 'FUTU...</td>\n",
       "      <td>True</td>\n",
       "      <td>{'maker': [[0.0, 0.004], [25000.0, 0.0035], [5...</td>\n",
       "    </tr>\n",
       "    <tr>\n",
       "      <th>ETH/USD:USD-240223</th>\n",
       "      <td>ETHUSD-240223</td>\n",
       "      <td>None</td>\n",
       "      <td>ETH/USD:USD-240223</td>\n",
       "      <td>ETH</td>\n",
       "      <td>USD</td>\n",
       "      <td>USD</td>\n",
       "      <td>ETH</td>\n",
       "      <td>USD</td>\n",
       "      <td>USD</td>\n",
       "      <td>future</td>\n",
       "      <td>...</td>\n",
       "      <td>1.708675e+12</td>\n",
       "      <td>2024-02-23T08:00:00.000Z</td>\n",
       "      <td>None</td>\n",
       "      <td>None</td>\n",
       "      <td>{'amount': 0.0001, 'price': 0.01, 'cost': None...</td>\n",
       "      <td>{'leverage': {'min': 1.0, 'max': 100.0}, 'amou...</td>\n",
       "      <td>None</td>\n",
       "      <td>{'symbol': 'ETHUSD-240223', 'inst_type': 'FUTU...</td>\n",
       "      <td>True</td>\n",
       "      <td>{'maker': [[0.0, 0.004], [25000.0, 0.0035], [5...</td>\n",
       "    </tr>\n",
       "    <tr>\n",
       "      <th>ETH/USD:USD-240329</th>\n",
       "      <td>ETHUSD-240329</td>\n",
       "      <td>None</td>\n",
       "      <td>ETH/USD:USD-240329</td>\n",
       "      <td>ETH</td>\n",
       "      <td>USD</td>\n",
       "      <td>USD</td>\n",
       "      <td>ETH</td>\n",
       "      <td>USD</td>\n",
       "      <td>USD</td>\n",
       "      <td>future</td>\n",
       "      <td>...</td>\n",
       "      <td>1.711699e+12</td>\n",
       "      <td>2024-03-29T08:00:00.000Z</td>\n",
       "      <td>None</td>\n",
       "      <td>None</td>\n",
       "      <td>{'amount': 0.0001, 'price': 0.01, 'cost': None...</td>\n",
       "      <td>{'leverage': {'min': 1.0, 'max': 100.0}, 'amou...</td>\n",
       "      <td>None</td>\n",
       "      <td>{'symbol': 'ETHUSD-240329', 'inst_type': 'FUTU...</td>\n",
       "      <td>True</td>\n",
       "      <td>{'maker': [[0.0, 0.004], [25000.0, 0.0035], [5...</td>\n",
       "    </tr>\n",
       "    <tr>\n",
       "      <th>ETH/USD:USD-240628</th>\n",
       "      <td>ETHUSD-240628</td>\n",
       "      <td>None</td>\n",
       "      <td>ETH/USD:USD-240628</td>\n",
       "      <td>ETH</td>\n",
       "      <td>USD</td>\n",
       "      <td>USD</td>\n",
       "      <td>ETH</td>\n",
       "      <td>USD</td>\n",
       "      <td>USD</td>\n",
       "      <td>future</td>\n",
       "      <td>...</td>\n",
       "      <td>1.719562e+12</td>\n",
       "      <td>2024-06-28T08:00:00.000Z</td>\n",
       "      <td>None</td>\n",
       "      <td>None</td>\n",
       "      <td>{'amount': 0.0001, 'price': 0.01, 'cost': None...</td>\n",
       "      <td>{'leverage': {'min': 1.0, 'max': 100.0}, 'amou...</td>\n",
       "      <td>None</td>\n",
       "      <td>{'symbol': 'ETHUSD-240628', 'inst_type': 'FUTU...</td>\n",
       "      <td>True</td>\n",
       "      <td>{'maker': [[0.0, 0.004], [25000.0, 0.0035], [5...</td>\n",
       "    </tr>\n",
       "  </tbody>\n",
       "</table>\n",
       "<p>8 rows × 34 columns</p>\n",
       "</div>"
      ],
      "text/plain": [
       "                               id lowercaseId              symbol base quote  \\\n",
       "BTC/USD:USD-240126  BTCUSD-240126        None  BTC/USD:USD-240126  BTC   USD   \n",
       "BTC/USD:USD-240223  BTCUSD-240223        None  BTC/USD:USD-240223  BTC   USD   \n",
       "BTC/USD:USD-240329  BTCUSD-240329        None  BTC/USD:USD-240329  BTC   USD   \n",
       "BTC/USD:USD-240628  BTCUSD-240628        None  BTC/USD:USD-240628  BTC   USD   \n",
       "ETH/USD:USD-240126  ETHUSD-240126        None  ETH/USD:USD-240126  ETH   USD   \n",
       "ETH/USD:USD-240223  ETHUSD-240223        None  ETH/USD:USD-240223  ETH   USD   \n",
       "ETH/USD:USD-240329  ETHUSD-240329        None  ETH/USD:USD-240329  ETH   USD   \n",
       "ETH/USD:USD-240628  ETHUSD-240628        None  ETH/USD:USD-240628  ETH   USD   \n",
       "\n",
       "                   settle baseId quoteId settleId    type  ...        expiry  \\\n",
       "BTC/USD:USD-240126    USD    BTC     USD      USD  future  ...  1.706256e+12   \n",
       "BTC/USD:USD-240223    USD    BTC     USD      USD  future  ...  1.708675e+12   \n",
       "BTC/USD:USD-240329    USD    BTC     USD      USD  future  ...  1.711699e+12   \n",
       "BTC/USD:USD-240628    USD    BTC     USD      USD  future  ...  1.719562e+12   \n",
       "ETH/USD:USD-240126    USD    ETH     USD      USD  future  ...  1.706256e+12   \n",
       "ETH/USD:USD-240223    USD    ETH     USD      USD  future  ...  1.708675e+12   \n",
       "ETH/USD:USD-240329    USD    ETH     USD      USD  future  ...  1.711699e+12   \n",
       "ETH/USD:USD-240628    USD    ETH     USD      USD  future  ...  1.719562e+12   \n",
       "\n",
       "                              expiryDatetime  strike  optionType  \\\n",
       "BTC/USD:USD-240126  2024-01-26T08:00:00.000Z    None        None   \n",
       "BTC/USD:USD-240223  2024-02-23T08:00:00.000Z    None        None   \n",
       "BTC/USD:USD-240329  2024-03-29T08:00:00.000Z    None        None   \n",
       "BTC/USD:USD-240628  2024-06-28T08:00:00.000Z    None        None   \n",
       "ETH/USD:USD-240126  2024-01-26T08:00:00.000Z    None        None   \n",
       "ETH/USD:USD-240223  2024-02-23T08:00:00.000Z    None        None   \n",
       "ETH/USD:USD-240329  2024-03-29T08:00:00.000Z    None        None   \n",
       "ETH/USD:USD-240628  2024-06-28T08:00:00.000Z    None        None   \n",
       "\n",
       "                                                            precision  \\\n",
       "BTC/USD:USD-240126  {'amount': 0.0001, 'price': 0.1, 'cost': None,...   \n",
       "BTC/USD:USD-240223  {'amount': 0.0001, 'price': 0.1, 'cost': None,...   \n",
       "BTC/USD:USD-240329  {'amount': 0.0001, 'price': 0.1, 'cost': None,...   \n",
       "BTC/USD:USD-240628  {'amount': 0.0001, 'price': 0.1, 'cost': None,...   \n",
       "ETH/USD:USD-240126  {'amount': 0.0001, 'price': 0.01, 'cost': None...   \n",
       "ETH/USD:USD-240223  {'amount': 0.0001, 'price': 0.01, 'cost': None...   \n",
       "ETH/USD:USD-240329  {'amount': 0.0001, 'price': 0.01, 'cost': None...   \n",
       "ETH/USD:USD-240628  {'amount': 0.0001, 'price': 0.01, 'cost': None...   \n",
       "\n",
       "                                                               limits  \\\n",
       "BTC/USD:USD-240126  {'leverage': {'min': 1.0, 'max': 100.0}, 'amou...   \n",
       "BTC/USD:USD-240223  {'leverage': {'min': 1.0, 'max': 100.0}, 'amou...   \n",
       "BTC/USD:USD-240329  {'leverage': {'min': 1.0, 'max': 100.0}, 'amou...   \n",
       "BTC/USD:USD-240628  {'leverage': {'min': 1.0, 'max': 100.0}, 'amou...   \n",
       "ETH/USD:USD-240126  {'leverage': {'min': 1.0, 'max': 100.0}, 'amou...   \n",
       "ETH/USD:USD-240223  {'leverage': {'min': 1.0, 'max': 100.0}, 'amou...   \n",
       "ETH/USD:USD-240329  {'leverage': {'min': 1.0, 'max': 100.0}, 'amou...   \n",
       "ETH/USD:USD-240628  {'leverage': {'min': 1.0, 'max': 100.0}, 'amou...   \n",
       "\n",
       "                    created  \\\n",
       "BTC/USD:USD-240126     None   \n",
       "BTC/USD:USD-240223     None   \n",
       "BTC/USD:USD-240329     None   \n",
       "BTC/USD:USD-240628     None   \n",
       "ETH/USD:USD-240126     None   \n",
       "ETH/USD:USD-240223     None   \n",
       "ETH/USD:USD-240329     None   \n",
       "ETH/USD:USD-240628     None   \n",
       "\n",
       "                                                                 info  \\\n",
       "BTC/USD:USD-240126  {'symbol': 'BTCUSD-240126', 'inst_type': 'FUTU...   \n",
       "BTC/USD:USD-240223  {'symbol': 'BTCUSD-240223', 'inst_type': 'FUTU...   \n",
       "BTC/USD:USD-240329  {'symbol': 'BTCUSD-240329', 'inst_type': 'FUTU...   \n",
       "BTC/USD:USD-240628  {'symbol': 'BTCUSD-240628', 'inst_type': 'FUTU...   \n",
       "ETH/USD:USD-240126  {'symbol': 'ETHUSD-240126', 'inst_type': 'FUTU...   \n",
       "ETH/USD:USD-240223  {'symbol': 'ETHUSD-240223', 'inst_type': 'FUTU...   \n",
       "ETH/USD:USD-240329  {'symbol': 'ETHUSD-240329', 'inst_type': 'FUTU...   \n",
       "ETH/USD:USD-240628  {'symbol': 'ETHUSD-240628', 'inst_type': 'FUTU...   \n",
       "\n",
       "                   percentage  \\\n",
       "BTC/USD:USD-240126       True   \n",
       "BTC/USD:USD-240223       True   \n",
       "BTC/USD:USD-240329       True   \n",
       "BTC/USD:USD-240628       True   \n",
       "ETH/USD:USD-240126       True   \n",
       "ETH/USD:USD-240223       True   \n",
       "ETH/USD:USD-240329       True   \n",
       "ETH/USD:USD-240628       True   \n",
       "\n",
       "                                                                tiers  \n",
       "BTC/USD:USD-240126  {'maker': [[0.0, 0.004], [25000.0, 0.0035], [5...  \n",
       "BTC/USD:USD-240223  {'maker': [[0.0, 0.004], [25000.0, 0.0035], [5...  \n",
       "BTC/USD:USD-240329  {'maker': [[0.0, 0.004], [25000.0, 0.0035], [5...  \n",
       "BTC/USD:USD-240628  {'maker': [[0.0, 0.004], [25000.0, 0.0035], [5...  \n",
       "ETH/USD:USD-240126  {'maker': [[0.0, 0.004], [25000.0, 0.0035], [5...  \n",
       "ETH/USD:USD-240223  {'maker': [[0.0, 0.004], [25000.0, 0.0035], [5...  \n",
       "ETH/USD:USD-240329  {'maker': [[0.0, 0.004], [25000.0, 0.0035], [5...  \n",
       "ETH/USD:USD-240628  {'maker': [[0.0, 0.004], [25000.0, 0.0035], [5...  \n",
       "\n",
       "[8 rows x 34 columns]"
      ]
     },
     "execution_count": 12,
     "metadata": {},
     "output_type": "execute_result"
    }
   ],
   "source": [
    "futures_symbols = market_info[market_info[\"future\"] == True]\n",
    "futures_symbols"
   ]
  },
  {
   "cell_type": "markdown",
   "id": "4d76b1df",
   "metadata": {},
   "source": [
    "### cryptocom REST Futures Bid Ask"
   ]
  },
  {
   "cell_type": "code",
   "execution_count": 13,
   "id": "cf05a8a6",
   "metadata": {
    "ExecuteTime": {
     "end_time": "2024-01-09T13:56:14.478676Z",
     "start_time": "2024-01-09T13:56:14.475161Z"
    }
   },
   "outputs": [
    {
     "name": "stdout",
     "output_type": "stream",
     "text": [
      "Help on method fetch_order_book in module ccxt.cryptocom:\n",
      "\n",
      "fetch_order_book(symbol: str, limit: Optional[int] = None, params={}) -> ccxt.base.types.OrderBook method of ccxt.cryptocom.cryptocom instance\n",
      "    fetches information on open orders with bid(buy) and ask(sell) prices, volumes and other data\n",
      "    :see: https://exchange-docs.crypto.com/exchange/v1/rest-ws/index.html#public-get-book\n",
      "    :param str symbol: unified symbol of the market to fetch the order book for\n",
      "    :param int [limit]: the number of order book entries to return, max 50\n",
      "    :param dict [params]: extra parameters specific to the exchange API endpoint\n",
      "    :returns dict: A dictionary of `order book structures <https://docs.ccxt.com/#/?id=order-book-structure>` indexed by market symbols\n",
      "\n"
     ]
    }
   ],
   "source": [
    "help(cryptocom.fetch_order_book)"
   ]
  },
  {
   "cell_type": "code",
   "execution_count": 14,
   "id": "7fe7fb32",
   "metadata": {
    "ExecuteTime": {
     "end_time": "2024-01-09T13:56:14.822979Z",
     "start_time": "2024-01-09T13:56:14.481052Z"
    }
   },
   "outputs": [
    {
     "data": {
      "text/html": [
       "<div>\n",
       "<style scoped>\n",
       "    .dataframe tbody tr th:only-of-type {\n",
       "        vertical-align: middle;\n",
       "    }\n",
       "\n",
       "    .dataframe tbody tr th {\n",
       "        vertical-align: top;\n",
       "    }\n",
       "\n",
       "    .dataframe thead th {\n",
       "        text-align: right;\n",
       "    }\n",
       "</style>\n",
       "<table border=\"1\" class=\"dataframe\">\n",
       "  <thead>\n",
       "    <tr style=\"text-align: right;\">\n",
       "      <th></th>\n",
       "      <th>symbol</th>\n",
       "      <th>bids</th>\n",
       "      <th>asks</th>\n",
       "      <th>timestamp</th>\n",
       "      <th>datetime</th>\n",
       "      <th>nonce</th>\n",
       "    </tr>\n",
       "  </thead>\n",
       "  <tbody>\n",
       "    <tr>\n",
       "      <th>0</th>\n",
       "      <td>BTCUSD-240126</td>\n",
       "      <td>[47071.4, 0.58, 2]</td>\n",
       "      <td>[47260.0, 0.08, 1]</td>\n",
       "      <td>1704808574487</td>\n",
       "      <td>2024-01-09T13:56:14.487Z</td>\n",
       "      <td>None</td>\n",
       "    </tr>\n",
       "    <tr>\n",
       "      <th>1</th>\n",
       "      <td>BTCUSD-240126</td>\n",
       "      <td>[47056.0, 0.08, 1]</td>\n",
       "      <td>[47469.7, 0.08, 1]</td>\n",
       "      <td>1704808574487</td>\n",
       "      <td>2024-01-09T13:56:14.487Z</td>\n",
       "      <td>None</td>\n",
       "    </tr>\n",
       "    <tr>\n",
       "      <th>2</th>\n",
       "      <td>BTCUSD-240126</td>\n",
       "      <td>[43499.9, 0.0001, 1]</td>\n",
       "      <td>[47487.5, 0.1, 1]</td>\n",
       "      <td>1704808574487</td>\n",
       "      <td>2024-01-09T13:56:14.487Z</td>\n",
       "      <td>None</td>\n",
       "    </tr>\n",
       "    <tr>\n",
       "      <th>3</th>\n",
       "      <td>BTCUSD-240126</td>\n",
       "      <td>[42909.0, 0.0001, 1]</td>\n",
       "      <td>[47529.5, 0.1, 1]</td>\n",
       "      <td>1704808574487</td>\n",
       "      <td>2024-01-09T13:56:14.487Z</td>\n",
       "      <td>None</td>\n",
       "    </tr>\n",
       "    <tr>\n",
       "      <th>4</th>\n",
       "      <td>BTCUSD-240126</td>\n",
       "      <td>[42899.0, 0.0004, 2]</td>\n",
       "      <td>[47571.5, 0.1, 1]</td>\n",
       "      <td>1704808574487</td>\n",
       "      <td>2024-01-09T13:56:14.487Z</td>\n",
       "      <td>None</td>\n",
       "    </tr>\n",
       "  </tbody>\n",
       "</table>\n",
       "</div>"
      ],
      "text/plain": [
       "          symbol                  bids                asks      timestamp  \\\n",
       "0  BTCUSD-240126    [47071.4, 0.58, 2]  [47260.0, 0.08, 1]  1704808574487   \n",
       "1  BTCUSD-240126    [47056.0, 0.08, 1]  [47469.7, 0.08, 1]  1704808574487   \n",
       "2  BTCUSD-240126  [43499.9, 0.0001, 1]   [47487.5, 0.1, 1]  1704808574487   \n",
       "3  BTCUSD-240126  [42909.0, 0.0001, 1]   [47529.5, 0.1, 1]  1704808574487   \n",
       "4  BTCUSD-240126  [42899.0, 0.0004, 2]   [47571.5, 0.1, 1]  1704808574487   \n",
       "\n",
       "                   datetime nonce  \n",
       "0  2024-01-09T13:56:14.487Z  None  \n",
       "1  2024-01-09T13:56:14.487Z  None  \n",
       "2  2024-01-09T13:56:14.487Z  None  \n",
       "3  2024-01-09T13:56:14.487Z  None  \n",
       "4  2024-01-09T13:56:14.487Z  None  "
      ]
     },
     "execution_count": 14,
     "metadata": {},
     "output_type": "execute_result"
    }
   ],
   "source": [
    "currency_pair = \"BTCUSD-240126\"\n",
    "pd.DataFrame(cryptocom.fetch_order_book(currency_pair, 10)).head()"
   ]
  },
  {
   "cell_type": "markdown",
   "id": "d9a1224b",
   "metadata": {},
   "source": [
    "### cryptocom REST Futures OHLCV"
   ]
  },
  {
   "cell_type": "code",
   "execution_count": 15,
   "id": "53dbec9a",
   "metadata": {
    "ExecuteTime": {
     "end_time": "2024-01-09T13:56:15.156203Z",
     "start_time": "2024-01-09T13:56:14.825304Z"
    }
   },
   "outputs": [
    {
     "data": {
      "text/html": [
       "<div>\n",
       "<style scoped>\n",
       "    .dataframe tbody tr th:only-of-type {\n",
       "        vertical-align: middle;\n",
       "    }\n",
       "\n",
       "    .dataframe tbody tr th {\n",
       "        vertical-align: top;\n",
       "    }\n",
       "\n",
       "    .dataframe thead th {\n",
       "        text-align: right;\n",
       "    }\n",
       "</style>\n",
       "<table border=\"1\" class=\"dataframe\">\n",
       "  <thead>\n",
       "    <tr style=\"text-align: right;\">\n",
       "      <th></th>\n",
       "      <th>0</th>\n",
       "      <th>1</th>\n",
       "      <th>2</th>\n",
       "      <th>3</th>\n",
       "      <th>4</th>\n",
       "      <th>5</th>\n",
       "    </tr>\n",
       "  </thead>\n",
       "  <tbody>\n",
       "    <tr>\n",
       "      <th>0</th>\n",
       "      <td>1704807120000</td>\n",
       "      <td>46981.7</td>\n",
       "      <td>46998.1</td>\n",
       "      <td>46963.2</td>\n",
       "      <td>46998.1</td>\n",
       "      <td>0.0003</td>\n",
       "    </tr>\n",
       "    <tr>\n",
       "      <th>1</th>\n",
       "      <td>1704807180000</td>\n",
       "      <td>47047.5</td>\n",
       "      <td>47047.5</td>\n",
       "      <td>47012.8</td>\n",
       "      <td>47012.8</td>\n",
       "      <td>0.0002</td>\n",
       "    </tr>\n",
       "    <tr>\n",
       "      <th>2</th>\n",
       "      <td>1704807240000</td>\n",
       "      <td>47017.4</td>\n",
       "      <td>47017.4</td>\n",
       "      <td>47015.6</td>\n",
       "      <td>47015.6</td>\n",
       "      <td>0.0002</td>\n",
       "    </tr>\n",
       "    <tr>\n",
       "      <th>3</th>\n",
       "      <td>1704807300000</td>\n",
       "      <td>47003.2</td>\n",
       "      <td>47014.5</td>\n",
       "      <td>46979.5</td>\n",
       "      <td>46979.5</td>\n",
       "      <td>0.0003</td>\n",
       "    </tr>\n",
       "    <tr>\n",
       "      <th>4</th>\n",
       "      <td>1704807360000</td>\n",
       "      <td>46920.8</td>\n",
       "      <td>46954.2</td>\n",
       "      <td>46920.8</td>\n",
       "      <td>46954.2</td>\n",
       "      <td>0.0002</td>\n",
       "    </tr>\n",
       "  </tbody>\n",
       "</table>\n",
       "</div>"
      ],
      "text/plain": [
       "               0        1        2        3        4       5\n",
       "0  1704807120000  46981.7  46998.1  46963.2  46998.1  0.0003\n",
       "1  1704807180000  47047.5  47047.5  47012.8  47012.8  0.0002\n",
       "2  1704807240000  47017.4  47017.4  47015.6  47015.6  0.0002\n",
       "3  1704807300000  47003.2  47014.5  46979.5  46979.5  0.0003\n",
       "4  1704807360000  46920.8  46954.2  46920.8  46954.2  0.0002"
      ]
     },
     "execution_count": 15,
     "metadata": {},
     "output_type": "execute_result"
    }
   ],
   "source": [
    "pd.DataFrame(cryptocom.fetch_ohlcv(currency_pair, \"1m\")).head()"
   ]
  },
  {
   "cell_type": "markdown",
   "id": "2cd7ec7d",
   "metadata": {},
   "source": [
    "### cryptocom REST Futures trades"
   ]
  },
  {
   "cell_type": "code",
   "execution_count": 16,
   "id": "b8501071",
   "metadata": {
    "ExecuteTime": {
     "end_time": "2024-01-09T13:56:15.499924Z",
     "start_time": "2024-01-09T13:56:15.158504Z"
    }
   },
   "outputs": [
    {
     "data": {
      "text/html": [
       "<div>\n",
       "<style scoped>\n",
       "    .dataframe tbody tr th:only-of-type {\n",
       "        vertical-align: middle;\n",
       "    }\n",
       "\n",
       "    .dataframe tbody tr th {\n",
       "        vertical-align: top;\n",
       "    }\n",
       "\n",
       "    .dataframe thead th {\n",
       "        text-align: right;\n",
       "    }\n",
       "</style>\n",
       "<table border=\"1\" class=\"dataframe\">\n",
       "  <thead>\n",
       "    <tr style=\"text-align: right;\">\n",
       "      <th></th>\n",
       "      <th>info</th>\n",
       "      <th>id</th>\n",
       "      <th>timestamp</th>\n",
       "      <th>datetime</th>\n",
       "      <th>symbol</th>\n",
       "      <th>order</th>\n",
       "      <th>side</th>\n",
       "      <th>takerOrMaker</th>\n",
       "      <th>price</th>\n",
       "      <th>amount</th>\n",
       "      <th>cost</th>\n",
       "      <th>type</th>\n",
       "      <th>fee</th>\n",
       "      <th>fees</th>\n",
       "    </tr>\n",
       "  </thead>\n",
       "  <tbody>\n",
       "    <tr>\n",
       "      <th>0</th>\n",
       "      <td>{'d': '1704807980668962330', 't': '17048079806...</td>\n",
       "      <td>1704807980668962330</td>\n",
       "      <td>1704807980668</td>\n",
       "      <td>2024-01-09T13:46:20.668Z</td>\n",
       "      <td>BTC/USD:USD-240126</td>\n",
       "      <td>None</td>\n",
       "      <td>sell</td>\n",
       "      <td>None</td>\n",
       "      <td>46908.5</td>\n",
       "      <td>0.0001</td>\n",
       "      <td>4.69085</td>\n",
       "      <td>None</td>\n",
       "      <td>{'currency': None, 'cost': None}</td>\n",
       "      <td>[{'currency': None, 'cost': None}]</td>\n",
       "    </tr>\n",
       "    <tr>\n",
       "      <th>1</th>\n",
       "      <td>{'d': '1704808001869007565', 't': '17048080018...</td>\n",
       "      <td>1704808001869007565</td>\n",
       "      <td>1704808001869</td>\n",
       "      <td>2024-01-09T13:46:41.869Z</td>\n",
       "      <td>BTC/USD:USD-240126</td>\n",
       "      <td>None</td>\n",
       "      <td>sell</td>\n",
       "      <td>None</td>\n",
       "      <td>46971.0</td>\n",
       "      <td>0.0001</td>\n",
       "      <td>4.69710</td>\n",
       "      <td>None</td>\n",
       "      <td>{'currency': None, 'cost': None}</td>\n",
       "      <td>[{'currency': None, 'cost': None}]</td>\n",
       "    </tr>\n",
       "    <tr>\n",
       "      <th>2</th>\n",
       "      <td>{'d': '1704808027572523123', 't': '17048080275...</td>\n",
       "      <td>1704808027572523123</td>\n",
       "      <td>1704808027572</td>\n",
       "      <td>2024-01-09T13:47:07.572Z</td>\n",
       "      <td>BTC/USD:USD-240126</td>\n",
       "      <td>None</td>\n",
       "      <td>buy</td>\n",
       "      <td>None</td>\n",
       "      <td>46985.5</td>\n",
       "      <td>0.0001</td>\n",
       "      <td>4.69855</td>\n",
       "      <td>None</td>\n",
       "      <td>{'currency': None, 'cost': None}</td>\n",
       "      <td>[{'currency': None, 'cost': None}]</td>\n",
       "    </tr>\n",
       "    <tr>\n",
       "      <th>3</th>\n",
       "      <td>{'d': '1704808063268795461', 't': '17048080632...</td>\n",
       "      <td>1704808063268795461</td>\n",
       "      <td>1704808063268</td>\n",
       "      <td>2024-01-09T13:47:43.268Z</td>\n",
       "      <td>BTC/USD:USD-240126</td>\n",
       "      <td>None</td>\n",
       "      <td>buy</td>\n",
       "      <td>None</td>\n",
       "      <td>47051.1</td>\n",
       "      <td>0.0001</td>\n",
       "      <td>4.70511</td>\n",
       "      <td>None</td>\n",
       "      <td>{'currency': None, 'cost': None}</td>\n",
       "      <td>[{'currency': None, 'cost': None}]</td>\n",
       "    </tr>\n",
       "    <tr>\n",
       "      <th>4</th>\n",
       "      <td>{'d': '1704808087268887504', 't': '17048080872...</td>\n",
       "      <td>1704808087268887504</td>\n",
       "      <td>1704808087268</td>\n",
       "      <td>2024-01-09T13:48:07.268Z</td>\n",
       "      <td>BTC/USD:USD-240126</td>\n",
       "      <td>None</td>\n",
       "      <td>sell</td>\n",
       "      <td>None</td>\n",
       "      <td>47071.4</td>\n",
       "      <td>0.0001</td>\n",
       "      <td>4.70714</td>\n",
       "      <td>None</td>\n",
       "      <td>{'currency': None, 'cost': None}</td>\n",
       "      <td>[{'currency': None, 'cost': None}]</td>\n",
       "    </tr>\n",
       "  </tbody>\n",
       "</table>\n",
       "</div>"
      ],
      "text/plain": [
       "                                                info                   id  \\\n",
       "0  {'d': '1704807980668962330', 't': '17048079806...  1704807980668962330   \n",
       "1  {'d': '1704808001869007565', 't': '17048080018...  1704808001869007565   \n",
       "2  {'d': '1704808027572523123', 't': '17048080275...  1704808027572523123   \n",
       "3  {'d': '1704808063268795461', 't': '17048080632...  1704808063268795461   \n",
       "4  {'d': '1704808087268887504', 't': '17048080872...  1704808087268887504   \n",
       "\n",
       "       timestamp                  datetime              symbol order  side  \\\n",
       "0  1704807980668  2024-01-09T13:46:20.668Z  BTC/USD:USD-240126  None  sell   \n",
       "1  1704808001869  2024-01-09T13:46:41.869Z  BTC/USD:USD-240126  None  sell   \n",
       "2  1704808027572  2024-01-09T13:47:07.572Z  BTC/USD:USD-240126  None   buy   \n",
       "3  1704808063268  2024-01-09T13:47:43.268Z  BTC/USD:USD-240126  None   buy   \n",
       "4  1704808087268  2024-01-09T13:48:07.268Z  BTC/USD:USD-240126  None  sell   \n",
       "\n",
       "  takerOrMaker    price  amount     cost  type  \\\n",
       "0         None  46908.5  0.0001  4.69085  None   \n",
       "1         None  46971.0  0.0001  4.69710  None   \n",
       "2         None  46985.5  0.0001  4.69855  None   \n",
       "3         None  47051.1  0.0001  4.70511  None   \n",
       "4         None  47071.4  0.0001  4.70714  None   \n",
       "\n",
       "                                fee                                fees  \n",
       "0  {'currency': None, 'cost': None}  [{'currency': None, 'cost': None}]  \n",
       "1  {'currency': None, 'cost': None}  [{'currency': None, 'cost': None}]  \n",
       "2  {'currency': None, 'cost': None}  [{'currency': None, 'cost': None}]  \n",
       "3  {'currency': None, 'cost': None}  [{'currency': None, 'cost': None}]  \n",
       "4  {'currency': None, 'cost': None}  [{'currency': None, 'cost': None}]  "
      ]
     },
     "execution_count": 16,
     "metadata": {},
     "output_type": "execute_result"
    }
   ],
   "source": [
    "pd.DataFrame(cryptocom.fetch_trades(currency_pair)).head()"
   ]
  },
  {
   "cell_type": "code",
   "execution_count": null,
   "id": "2204ee61",
   "metadata": {},
   "outputs": [],
   "source": []
  }
 ],
 "metadata": {
  "kernelspec": {
   "display_name": "Python 3 (ipykernel)",
   "language": "python",
   "name": "python3"
  },
  "language_info": {
   "codemirror_mode": {
    "name": "ipython",
    "version": 3
   },
   "file_extension": ".py",
   "mimetype": "text/x-python",
   "name": "python",
   "nbconvert_exporter": "python",
   "pygments_lexer": "ipython3",
   "version": "3.9.5"
  },
  "toc": {
   "base_numbering": 1,
   "nav_menu": {},
   "number_sections": true,
   "sideBar": true,
   "skip_h1_title": false,
   "title_cell": "Table of Contents",
   "title_sidebar": "Contents",
   "toc_cell": false,
   "toc_position": {},
   "toc_section_display": true,
   "toc_window_display": false
  }
 },
 "nbformat": 4,
 "nbformat_minor": 5
}
