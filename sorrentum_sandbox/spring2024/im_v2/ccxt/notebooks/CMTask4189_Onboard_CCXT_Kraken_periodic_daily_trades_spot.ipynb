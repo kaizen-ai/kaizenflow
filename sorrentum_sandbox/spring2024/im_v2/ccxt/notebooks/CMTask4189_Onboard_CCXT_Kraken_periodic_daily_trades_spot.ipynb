{
 "cells": [
  {
   "cell_type": "markdown",
   "id": "eaf05ec1",
   "metadata": {
    "heading_collapsed": true
   },
   "source": [
    "# Imports"
   ]
  },
  {
   "cell_type": "code",
   "execution_count": 1,
   "id": "0d80c28c",
   "metadata": {
    "ExecuteTime": {
     "end_time": "2023-04-21T14:22:34.429839Z",
     "start_time": "2023-04-21T14:22:30.038571Z"
    },
    "hidden": true
   },
   "outputs": [
    {
     "name": "stderr",
     "output_type": "stream",
     "text": [
      "/app/core/signal_processing/decorrelation.py:12: TqdmExperimentalWarning: Using `tqdm.autonotebook.tqdm` in notebook mode. Use `tqdm.tqdm` instead to force console mode (e.g. in jupyter console)\n",
      "  from tqdm.autonotebook import tqdm\n"
     ]
    }
   ],
   "source": [
    "import logging\n",
    "\n",
    "import pandas as pd\n",
    "\n",
    "import helpers.hdatetime as hdateti\n",
    "import helpers.hdbg as hdbg\n",
    "import helpers.henv as henv\n",
    "import helpers.hpandas as hpandas\n",
    "import helpers.hprint as hprint\n",
    "import im_v2.ccxt.data.extract.extractor as imvcdexex\n",
    "import im_v2.common.data.client.im_raw_data_client as imvcdcimrdc\n",
    "import im_v2.common.data.qa.dataset_validator as imvcdqdava\n",
    "import im_v2.common.data.qa.qa_check as imvcdqqach\n",
    "import im_v2.common.universe as ivcu\n",
    "import im_v2.common.universe.universe as imvcounun\n",
    "\n",
    "%load_ext autoreload\n",
    "%autoreload 2"
   ]
  },
  {
   "cell_type": "code",
   "execution_count": 2,
   "id": "aecd42b2",
   "metadata": {
    "ExecuteTime": {
     "end_time": "2023-04-21T14:22:34.759061Z",
     "start_time": "2023-04-21T14:22:34.432631Z"
    },
    "hidden": true
   },
   "outputs": [
    {
     "name": "stdout",
     "output_type": "stream",
     "text": [
      "\u001b[0m\u001b[36mINFO\u001b[0m: > cmd='/venv/lib/python3.8/site-packages/ipykernel_launcher.py -f /home/.local/share/jupyter/runtime/kernel-1d2324e4-e974-4b47-a91e-69bd0e316088.json'\n",
      "WARNING: Running in Jupyter\n",
      "\u001b[31m-----------------------------------------------------------------------------\n",
      "This code is not in sync with the container:\n",
      "code_version='1.4.3' != container_version='1.4.0'\n",
      "-----------------------------------------------------------------------------\n",
      "You need to:\n",
      "- merge origin/master into your branch with `invoke git_merge_master`\n",
      "- pull the latest container with `invoke docker_pull`\u001b[0m\n",
      "INFO  # Git\n",
      "  branch_name='CmTask4189_Onboard_CCXT_Kraken_periodic_daily_trades_spot'\n",
      "  hash='ec49e07af'\n",
      "  # Last commits:\n",
      "    * ec49e07af vlady    CmTask4189: added new symbols in the kraken universe              (    4 days ago) Mon Apr 17 19:01:52 2023  (HEAD -> CmTask4189_Onboard_CCXT_Kraken_periodic_daily_trades_spot, origin/CmTask4189_Onboard_CCXT_Kraken_periodic_daily_trades_spot)\n",
      "    * 56c5e0a9e vlady    CmTask4189: gallery update                                        (   10 days ago) Tue Apr 11 14:16:40 2023           \n",
      "    * 9f0d0e138 vlady    CmTask4189: apply some QA checks in the notebook                  (   10 days ago) Tue Apr 11 13:59:08 2023           \n",
      "# Machine info\n",
      "  system=Linux\n",
      "  node name=7fd160e9dd79\n",
      "  release=5.15.0-1033-aws\n",
      "  version=#37~20.04.1-Ubuntu SMP Fri Mar 17 11:39:30 UTC 2023\n",
      "  machine=x86_64\n",
      "  processor=x86_64\n",
      "  cpu count=8\n",
      "  cpu freq=scpufreq(current=2499.998, min=0.0, max=0.0)\n",
      "  memory=svmem(total=33292873728, available=29077729280, percent=12.7, used=3756449792, free=326725632, active=10127572992, inactive=17631043584, buffers=2155122688, cached=27054575616, shared=2232320, slab=4931596288)\n",
      "  disk usage=sdiskusage(total=156052275200, used=48885067776, free=107150430208, percent=31.3)\n",
      "# Packages\n",
      "  python: 3.8.10\n",
      "  cvxopt: 1.3.0\n",
      "  cvxpy: 1.2.2\n",
      "  gluonnlp: ?\n",
      "  gluonts: 0.6.7\n",
      "  joblib: 1.2.0\n",
      "  mxnet: 1.9.1\n",
      "  numpy: 1.23.4\n",
      "  pandas: 1.5.1\n",
      "  pyarrow: 10.0.0\n",
      "  scipy: 1.9.3\n",
      "  seaborn: 0.12.1\n",
      "  sklearn: 1.1.3\n",
      "  statsmodels: 0.13.5\n"
     ]
    }
   ],
   "source": [
    "hdbg.init_logger(verbosity=logging.INFO)\n",
    "\n",
    "_LOG = logging.getLogger(__name__)\n",
    "\n",
    "_LOG.info(\"%s\", henv.get_system_signature()[0])\n",
    "\n",
    "hprint.config_notebook()"
   ]
  },
  {
   "cell_type": "markdown",
   "id": "f9a18558",
   "metadata": {
    "heading_collapsed": true
   },
   "source": [
    "# Bare CCXT extractor test"
   ]
  },
  {
   "cell_type": "code",
   "execution_count": 116,
   "id": "b3526c28",
   "metadata": {
    "ExecuteTime": {
     "end_time": "2023-04-21T15:28:16.390579Z",
     "start_time": "2023-04-21T15:28:16.354467Z"
    },
    "hidden": true
   },
   "outputs": [],
   "source": [
    "since = None"
   ]
  },
  {
   "cell_type": "code",
   "execution_count": 120,
   "id": "252cc53d",
   "metadata": {
    "ExecuteTime": {
     "end_time": "2023-04-21T15:29:41.950468Z",
     "start_time": "2023-04-21T15:29:39.143597Z"
    },
    "hidden": true,
    "lines_to_next_cell": 2
   },
   "outputs": [],
   "source": [
    "import ccxt\n",
    "\n",
    "extractor = ccxt.kraken()\n",
    "\n",
    "start_timestamp = pd.Timestamp(\"2021-01-01T00:00:00+00:00\")\n",
    "start_timestamp = hdateti.convert_timestamp_to_unix_epoch(start_timestamp)\n",
    "currency_pair = \"ETH/USDT\"\n",
    "\n",
    "data = extractor.fetch_trades(\n",
    "    currency_pair,\n",
    "    since=since or start_timestamp,\n",
    ")"
   ]
  },
  {
   "cell_type": "code",
   "execution_count": 122,
   "id": "14a412be",
   "metadata": {
    "ExecuteTime": {
     "end_time": "2023-04-21T15:29:56.368721Z",
     "start_time": "2023-04-21T15:29:56.335413Z"
    },
    "hidden": true
   },
   "outputs": [
    {
     "data": {
      "text/plain": [
       "{'id': '306690',\n",
       " 'order': None,\n",
       " 'info': ['743.14000',\n",
       "  '2.80536389',\n",
       "  '1609509956.2953913',\n",
       "  'b',\n",
       "  'm',\n",
       "  '',\n",
       "  '306690'],\n",
       " 'timestamp': 1609509956295,\n",
       " 'datetime': '2021-01-01T14:05:56.295Z',\n",
       " 'symbol': 'ETH/USDT',\n",
       " 'type': 'market',\n",
       " 'side': 'buy',\n",
       " 'takerOrMaker': None,\n",
       " 'price': 743.14,\n",
       " 'amount': 2.80536389,\n",
       " 'cost': 2084.7781212146,\n",
       " 'fee': None,\n",
       " 'fees': []}"
      ]
     },
     "execution_count": 122,
     "metadata": {},
     "output_type": "execute_result"
    }
   ],
   "source": [
    "data[0]"
   ]
  },
  {
   "cell_type": "code",
   "execution_count": 119,
   "id": "5855ea0b",
   "metadata": {
    "ExecuteTime": {
     "end_time": "2023-04-21T15:29:35.342260Z",
     "start_time": "2023-04-21T15:29:35.304864Z"
    },
    "hidden": true
   },
   "outputs": [],
   "source": [
    "since = data[-1][\"timestamp\"]"
   ]
  },
  {
   "cell_type": "code",
   "execution_count": 95,
   "id": "739a6573",
   "metadata": {
    "ExecuteTime": {
     "end_time": "2023-04-21T15:03:40.962643Z",
     "start_time": "2023-04-21T15:03:40.926769Z"
    },
    "hidden": true
   },
   "outputs": [],
   "source": [
    "data = pd.DataFrame(data)"
   ]
  },
  {
   "cell_type": "code",
   "execution_count": 96,
   "id": "c31b17e3",
   "metadata": {
    "ExecuteTime": {
     "end_time": "2023-04-21T15:03:41.397253Z",
     "start_time": "2023-04-21T15:03:41.346351Z"
    },
    "hidden": true
   },
   "outputs": [
    {
     "data": {
      "text/html": [
       "<div>\n",
       "<style scoped>\n",
       "    .dataframe tbody tr th:only-of-type {\n",
       "        vertical-align: middle;\n",
       "    }\n",
       "\n",
       "    .dataframe tbody tr th {\n",
       "        vertical-align: top;\n",
       "    }\n",
       "\n",
       "    .dataframe thead th {\n",
       "        text-align: right;\n",
       "    }\n",
       "</style>\n",
       "<table border=\"1\" class=\"dataframe\">\n",
       "  <thead>\n",
       "    <tr style=\"text-align: right;\">\n",
       "      <th></th>\n",
       "      <th>id</th>\n",
       "      <th>order</th>\n",
       "      <th>info</th>\n",
       "      <th>timestamp</th>\n",
       "      <th>datetime</th>\n",
       "      <th>symbol</th>\n",
       "      <th>type</th>\n",
       "      <th>side</th>\n",
       "      <th>takerOrMaker</th>\n",
       "      <th>price</th>\n",
       "      <th>amount</th>\n",
       "      <th>cost</th>\n",
       "      <th>fee</th>\n",
       "      <th>fees</th>\n",
       "    </tr>\n",
       "  </thead>\n",
       "  <tbody>\n",
       "    <tr>\n",
       "      <th>0</th>\n",
       "      <td>306690</td>\n",
       "      <td>None</td>\n",
       "      <td>[743.14000, 2.80536389, 1609509956.2953913, b,...</td>\n",
       "      <td>1609509956295</td>\n",
       "      <td>2021-01-01T14:05:56.295Z</td>\n",
       "      <td>ETH/USDT</td>\n",
       "      <td>market</td>\n",
       "      <td>buy</td>\n",
       "      <td>None</td>\n",
       "      <td>743.14</td>\n",
       "      <td>2.805364</td>\n",
       "      <td>2084.778121</td>\n",
       "      <td>None</td>\n",
       "      <td>[]</td>\n",
       "    </tr>\n",
       "    <tr>\n",
       "      <th>1</th>\n",
       "      <td>306691</td>\n",
       "      <td>None</td>\n",
       "      <td>[743.14000, 0.96000000, 1609509956.2967162, b,...</td>\n",
       "      <td>1609509956296</td>\n",
       "      <td>2021-01-01T14:05:56.296Z</td>\n",
       "      <td>ETH/USDT</td>\n",
       "      <td>market</td>\n",
       "      <td>buy</td>\n",
       "      <td>None</td>\n",
       "      <td>743.14</td>\n",
       "      <td>0.960000</td>\n",
       "      <td>713.414400</td>\n",
       "      <td>None</td>\n",
       "      <td>[]</td>\n",
       "    </tr>\n",
       "    <tr>\n",
       "      <th>2</th>\n",
       "      <td>306692</td>\n",
       "      <td>None</td>\n",
       "      <td>[743.15000, 0.70000000, 1609509956.298092, b, ...</td>\n",
       "      <td>1609509956298</td>\n",
       "      <td>2021-01-01T14:05:56.298Z</td>\n",
       "      <td>ETH/USDT</td>\n",
       "      <td>market</td>\n",
       "      <td>buy</td>\n",
       "      <td>None</td>\n",
       "      <td>743.15</td>\n",
       "      <td>0.700000</td>\n",
       "      <td>520.205000</td>\n",
       "      <td>None</td>\n",
       "      <td>[]</td>\n",
       "    </tr>\n",
       "    <tr>\n",
       "      <th>3</th>\n",
       "      <td>306693</td>\n",
       "      <td>None</td>\n",
       "      <td>[743.19000, 0.63267197, 1609509956.2997396, b,...</td>\n",
       "      <td>1609509956299</td>\n",
       "      <td>2021-01-01T14:05:56.299Z</td>\n",
       "      <td>ETH/USDT</td>\n",
       "      <td>market</td>\n",
       "      <td>buy</td>\n",
       "      <td>None</td>\n",
       "      <td>743.19</td>\n",
       "      <td>0.632672</td>\n",
       "      <td>470.195481</td>\n",
       "      <td>None</td>\n",
       "      <td>[]</td>\n",
       "    </tr>\n",
       "    <tr>\n",
       "      <th>4</th>\n",
       "      <td>306694</td>\n",
       "      <td>None</td>\n",
       "      <td>[740.28000, 0.30168360, 1609510398.675571, b, ...</td>\n",
       "      <td>1609510398675</td>\n",
       "      <td>2021-01-01T14:13:18.675Z</td>\n",
       "      <td>ETH/USDT</td>\n",
       "      <td>limit</td>\n",
       "      <td>buy</td>\n",
       "      <td>None</td>\n",
       "      <td>740.28</td>\n",
       "      <td>0.301684</td>\n",
       "      <td>223.330335</td>\n",
       "      <td>None</td>\n",
       "      <td>[]</td>\n",
       "    </tr>\n",
       "  </tbody>\n",
       "</table>\n",
       "</div>"
      ],
      "text/plain": [
       "       id order                                               info      timestamp                  datetime    symbol    type side takerOrMaker   price    amount         cost   fee fees\n",
       "0  306690  None  [743.14000, 2.80536389, 1609509956.2953913, b,...  1609509956295  2021-01-01T14:05:56.295Z  ETH/USDT  market  buy         None  743.14  2.805364  2084.778121  None   []\n",
       "1  306691  None  [743.14000, 0.96000000, 1609509956.2967162, b,...  1609509956296  2021-01-01T14:05:56.296Z  ETH/USDT  market  buy         None  743.14  0.960000   713.414400  None   []\n",
       "2  306692  None  [743.15000, 0.70000000, 1609509956.298092, b, ...  1609509956298  2021-01-01T14:05:56.298Z  ETH/USDT  market  buy         None  743.15  0.700000   520.205000  None   []\n",
       "3  306693  None  [743.19000, 0.63267197, 1609509956.2997396, b,...  1609509956299  2021-01-01T14:05:56.299Z  ETH/USDT  market  buy         None  743.19  0.632672   470.195481  None   []\n",
       "4  306694  None  [740.28000, 0.30168360, 1609510398.675571, b, ...  1609510398675  2021-01-01T14:13:18.675Z  ETH/USDT   limit  buy         None  740.28  0.301684   223.330335  None   []"
      ]
     },
     "execution_count": 96,
     "metadata": {},
     "output_type": "execute_result"
    }
   ],
   "source": [
    "data.head()"
   ]
  },
  {
   "cell_type": "code",
   "execution_count": 97,
   "id": "9825d577",
   "metadata": {
    "ExecuteTime": {
     "end_time": "2023-04-21T15:03:42.322119Z",
     "start_time": "2023-04-21T15:03:42.285108Z"
    },
    "hidden": true
   },
   "outputs": [
    {
     "data": {
      "text/plain": [
       "min   2021-01-01 14:05:56.295\n",
       "max   2021-01-02 08:30:39.047\n",
       "Name: timestamp, dtype: datetime64[ns]"
      ]
     },
     "execution_count": 97,
     "metadata": {},
     "output_type": "execute_result"
    }
   ],
   "source": [
    "data.timestamp.agg([\"min\", \"max\"]).apply(pd.Timestamp, unit=\"ms\")"
   ]
  },
  {
   "cell_type": "code",
   "execution_count": 107,
   "id": "d651c39d",
   "metadata": {
    "ExecuteTime": {
     "end_time": "2023-04-21T15:19:07.716871Z",
     "start_time": "2023-04-21T15:19:07.682762Z"
    },
    "hidden": true
   },
   "outputs": [],
   "source": [
    "last_data_id = 1609509956295391408"
   ]
  },
  {
   "cell_type": "code",
   "execution_count": 114,
   "id": "daa6e77d",
   "metadata": {
    "ExecuteTime": {
     "end_time": "2023-04-21T15:19:56.823080Z",
     "start_time": "2023-04-21T15:19:56.502905Z"
    },
    "hidden": true
   },
   "outputs": [],
   "source": [
    "params = {\"fromId\": last_data_id}\n",
    "data = extractor.fetch_trades(currency_pair, since=160950995629539.1408)"
   ]
  },
  {
   "cell_type": "code",
   "execution_count": 115,
   "id": "823b1a41",
   "metadata": {
    "ExecuteTime": {
     "end_time": "2023-04-21T15:19:57.442943Z",
     "start_time": "2023-04-21T15:19:57.406350Z"
    },
    "hidden": true
   },
   "outputs": [
    {
     "data": {
      "text/plain": [
       "[]"
      ]
     },
     "execution_count": 115,
     "metadata": {},
     "output_type": "execute_result"
    }
   ],
   "source": [
    "data"
   ]
  },
  {
   "cell_type": "code",
   "execution_count": 105,
   "id": "5cae34c7",
   "metadata": {
    "ExecuteTime": {
     "end_time": "2023-04-21T15:18:32.884365Z",
     "start_time": "2023-04-21T15:18:32.852048Z"
    },
    "hidden": true
   },
   "outputs": [],
   "source": [
    "since = data[-1][\"info\"][-1]"
   ]
  },
  {
   "cell_type": "markdown",
   "id": "b52dcaa7",
   "metadata": {},
   "source": [
    "# CCXT extractor test"
   ]
  },
  {
   "cell_type": "code",
   "execution_count": 123,
   "id": "a9b7bb8f",
   "metadata": {
    "ExecuteTime": {
     "end_time": "2023-04-21T16:37:32.969309Z",
     "start_time": "2023-04-21T16:37:31.839554Z"
    }
   },
   "outputs": [],
   "source": [
    "import im_v2.ccxt.data.extract.extractor as imvcdexex\n",
    "\n",
    "exchange_id = \"kraken\"\n",
    "contract_type = \"spot\"\n",
    "ccxt_extractor = imvcdexex.CcxtExtractor(exchange_id, contract_type)"
   ]
  },
  {
   "cell_type": "code",
   "execution_count": 125,
   "id": "8caa861d",
   "metadata": {
    "ExecuteTime": {
     "end_time": "2023-04-21T16:41:36.302278Z",
     "start_time": "2023-04-21T16:40:59.675520Z"
    }
   },
   "outputs": [],
   "source": [
    "data_type = \"trades\"\n",
    "currency_pair = \"ETH/USDT\"\n",
    "converted_currency_pair = currency_pair\n",
    "start_timestamp = pd.Timestamp(\"2021-01-01T00:00:00+00:00\")\n",
    "end_timestamp = pd.Timestamp(\"2021-01-07T23:59:59+00:00\")\n",
    "data = ccxt_extractor.download_data(\n",
    "    data_type,\n",
    "    exchange_id,\n",
    "    converted_currency_pair,\n",
    "    start_timestamp=start_timestamp,\n",
    "    end_timestamp=end_timestamp,\n",
    "    depth=10,\n",
    ")"
   ]
  },
  {
   "cell_type": "code",
   "execution_count": 126,
   "id": "9e82f174",
   "metadata": {
    "ExecuteTime": {
     "end_time": "2023-04-21T16:42:13.665538Z",
     "start_time": "2023-04-21T16:42:13.610428Z"
    }
   },
   "outputs": [
    {
     "data": {
      "text/html": [
       "<div>\n",
       "<style scoped>\n",
       "    .dataframe tbody tr th:only-of-type {\n",
       "        vertical-align: middle;\n",
       "    }\n",
       "\n",
       "    .dataframe tbody tr th {\n",
       "        vertical-align: top;\n",
       "    }\n",
       "\n",
       "    .dataframe thead th {\n",
       "        text-align: right;\n",
       "    }\n",
       "</style>\n",
       "<table border=\"1\" class=\"dataframe\">\n",
       "  <thead>\n",
       "    <tr style=\"text-align: right;\">\n",
       "      <th></th>\n",
       "      <th>timestamp</th>\n",
       "      <th>symbol</th>\n",
       "      <th>side</th>\n",
       "      <th>price</th>\n",
       "      <th>amount</th>\n",
       "      <th>end_download_timestamp</th>\n",
       "    </tr>\n",
       "  </thead>\n",
       "  <tbody>\n",
       "    <tr>\n",
       "      <th>0</th>\n",
       "      <td>1609459218231</td>\n",
       "      <td>ETH/USDT</td>\n",
       "      <td>sell</td>\n",
       "      <td>735.91</td>\n",
       "      <td>0.035530</td>\n",
       "      <td>2023-04-21 16:41:36.288763+00:00</td>\n",
       "    </tr>\n",
       "    <tr>\n",
       "      <th>1</th>\n",
       "      <td>1609459326746</td>\n",
       "      <td>ETH/USDT</td>\n",
       "      <td>buy</td>\n",
       "      <td>738.76</td>\n",
       "      <td>0.373670</td>\n",
       "      <td>2023-04-21 16:41:36.288763+00:00</td>\n",
       "    </tr>\n",
       "    <tr>\n",
       "      <th>2</th>\n",
       "      <td>1609459326749</td>\n",
       "      <td>ETH/USDT</td>\n",
       "      <td>buy</td>\n",
       "      <td>738.76</td>\n",
       "      <td>0.783000</td>\n",
       "      <td>2023-04-21 16:41:36.288763+00:00</td>\n",
       "    </tr>\n",
       "    <tr>\n",
       "      <th>3</th>\n",
       "      <td>1609459387015</td>\n",
       "      <td>ETH/USDT</td>\n",
       "      <td>sell</td>\n",
       "      <td>737.36</td>\n",
       "      <td>1.015312</td>\n",
       "      <td>2023-04-21 16:41:36.288763+00:00</td>\n",
       "    </tr>\n",
       "    <tr>\n",
       "      <th>4</th>\n",
       "      <td>1609459387018</td>\n",
       "      <td>ETH/USDT</td>\n",
       "      <td>sell</td>\n",
       "      <td>737.35</td>\n",
       "      <td>1.213466</td>\n",
       "      <td>2023-04-21 16:41:36.288763+00:00</td>\n",
       "    </tr>\n",
       "  </tbody>\n",
       "</table>\n",
       "</div>"
      ],
      "text/plain": [
       "       timestamp    symbol  side   price    amount            end_download_timestamp\n",
       "0  1609459218231  ETH/USDT  sell  735.91  0.035530  2023-04-21 16:41:36.288763+00:00\n",
       "1  1609459326746  ETH/USDT   buy  738.76  0.373670  2023-04-21 16:41:36.288763+00:00\n",
       "2  1609459326749  ETH/USDT   buy  738.76  0.783000  2023-04-21 16:41:36.288763+00:00\n",
       "3  1609459387015  ETH/USDT  sell  737.36  1.015312  2023-04-21 16:41:36.288763+00:00\n",
       "4  1609459387018  ETH/USDT  sell  737.35  1.213466  2023-04-21 16:41:36.288763+00:00"
      ]
     },
     "execution_count": 126,
     "metadata": {},
     "output_type": "execute_result"
    }
   ],
   "source": [
    "data.head()"
   ]
  },
  {
   "cell_type": "code",
   "execution_count": 30,
   "id": "5d577ef1",
   "metadata": {
    "ExecuteTime": {
     "end_time": "2023-04-21T14:35:18.425945Z",
     "start_time": "2023-04-21T14:35:18.388880Z"
    }
   },
   "outputs": [],
   "source": [
    "data[\"timestamp1\"] = data[\"timestamp\"].apply(pd.Timestamp, unit=\"ms\")"
   ]
  },
  {
   "cell_type": "code",
   "execution_count": 31,
   "id": "f5fbf716",
   "metadata": {
    "ExecuteTime": {
     "end_time": "2023-04-21T14:35:20.468258Z",
     "start_time": "2023-04-21T14:35:20.432239Z"
    }
   },
   "outputs": [
    {
     "data": {
      "text/plain": [
       "1000"
      ]
     },
     "execution_count": 31,
     "metadata": {},
     "output_type": "execute_result"
    }
   ],
   "source": [
    "len(data)"
   ]
  },
  {
   "cell_type": "code",
   "execution_count": 127,
   "id": "1601c11b",
   "metadata": {
    "ExecuteTime": {
     "end_time": "2023-04-21T16:42:18.935310Z",
     "start_time": "2023-04-21T16:42:18.895400Z"
    }
   },
   "outputs": [
    {
     "data": {
      "text/plain": [
       "min   2021-01-01 00:00:18.231\n",
       "max   2021-01-07 23:59:12.423\n",
       "Name: timestamp, dtype: datetime64[ns]"
      ]
     },
     "execution_count": 127,
     "metadata": {},
     "output_type": "execute_result"
    }
   ],
   "source": [
    "data.timestamp.agg([\"min\", \"max\"]).apply(pd.Timestamp, unit=\"ms\")"
   ]
  },
  {
   "cell_type": "code",
   "execution_count": 10,
   "id": "3e4c63e8",
   "metadata": {
    "ExecuteTime": {
     "end_time": "2023-04-10T19:33:36.801332Z",
     "start_time": "2023-04-10T19:33:36.758875Z"
    }
   },
   "outputs": [
    {
     "data": {
      "text/plain": [
       "False"
      ]
     },
     "execution_count": 10,
     "metadata": {},
     "output_type": "execute_result"
    }
   ],
   "source": [
    "data.isna().any().any()"
   ]
  },
  {
   "cell_type": "markdown",
   "id": "9153d21c",
   "metadata": {},
   "source": [
    "# Bulk script data download"
   ]
  },
  {
   "cell_type": "code",
   "execution_count": 4,
   "id": "53e13618",
   "metadata": {
    "ExecuteTime": {
     "end_time": "2023-04-17T18:53:41.886842Z",
     "start_time": "2023-04-17T18:53:14.882790Z"
    }
   },
   "outputs": [
    {
     "name": "stdout",
     "output_type": "stream",
     "text": [
      "\u001b[0m\u001b[36mINFO\u001b[0m: > cmd='/app/im_v2/common/data/extract/download_bulk.py --download_mode periodic_daily --downloading_entity airflow --action_tag downloaded_1min --vendor ccxt --start_timestamp 2023-02-01T00:00:00+00:00 --end_timestamp 2023-02-20T00:00:00+00:00 --exchange_id kraken --incremental --universe v7.4 --aws_profile ck --data_type trades --data_format parquet --contract_type spot --s3_path s3://cryptokaizen-data-test/'\n",
      "report_memory_usage=False report_cpu_usage=False\n",
      "\u001b[36mINFO\u001b[0m: Saving log to file '/app/im_v2/common/data/extract/download_bulk.py.log'\n",
      "14:53:19 - \u001b[36mINFO \u001b[0m dataset_schema_utils.py _get_dataset_schema_file_path:39 Loading dataset schema file: /app/data_schema/dataset_schema_versions/dataset_schema_v3.json\n",
      "14:53:19 - \u001b[36mINFO \u001b[0m dataset_schema_utils.py get_dataset_schema:74          Loaded dataset schema version v3\n",
      "14:53:20 - \u001b[36mINFO \u001b[0m dataset_schema_utils.py _get_dataset_schema_file_path:39 Loading dataset schema file: /app/data_schema/dataset_schema_versions/dataset_schema_v3.json\n",
      "14:53:20 - \u001b[36mINFO \u001b[0m dataset_schema_utils.py get_dataset_schema:74          Loaded dataset schema version v3\n",
      "14:53:22 - \u001b[36mINFO \u001b[0m extract_utils.py download_historical_data:734          Saving the dataset into s3://cryptokaizen-data-test/v3/periodic_daily/airflow/downloaded_1min/parquet/trades/spot/v7_4/ccxt/kraken/v1_0_0\n",
      "14:53:23 - \u001b[36mINFO \u001b[0m extract_utils.py download_historical_data:734          Saving the dataset into s3://cryptokaizen-data-test/v3/periodic_daily/airflow/downloaded_1min/parquet/trades/spot/v7_4/ccxt/kraken/v1_0_0\n",
      "14:53:24 - \u001b[36mINFO \u001b[0m extract_utils.py download_historical_data:734          Saving the dataset into s3://cryptokaizen-data-test/v3/periodic_daily/airflow/downloaded_1min/parquet/trades/spot/v7_4/ccxt/kraken/v1_0_0\n",
      "14:53:26 - \u001b[36mINFO \u001b[0m extract_utils.py download_historical_data:734          Saving the dataset into s3://cryptokaizen-data-test/v3/periodic_daily/airflow/downloaded_1min/parquet/trades/spot/v7_4/ccxt/kraken/v1_0_0\n",
      "14:53:27 - \u001b[36mINFO \u001b[0m extract_utils.py download_historical_data:734          Saving the dataset into s3://cryptokaizen-data-test/v3/periodic_daily/airflow/downloaded_1min/parquet/trades/spot/v7_4/ccxt/kraken/v1_0_0\n",
      "14:53:28 - \u001b[36mINFO \u001b[0m extract_utils.py download_historical_data:734          Saving the dataset into s3://cryptokaizen-data-test/v3/periodic_daily/airflow/downloaded_1min/parquet/trades/spot/v7_4/ccxt/kraken/v1_0_0\n",
      "14:53:29 - \u001b[36mINFO \u001b[0m extract_utils.py download_historical_data:734          Saving the dataset into s3://cryptokaizen-data-test/v3/periodic_daily/airflow/downloaded_1min/parquet/trades/spot/v7_4/ccxt/kraken/v1_0_0\n",
      "14:53:30 - \u001b[36mINFO \u001b[0m extract_utils.py download_historical_data:734          Saving the dataset into s3://cryptokaizen-data-test/v3/periodic_daily/airflow/downloaded_1min/parquet/trades/spot/v7_4/ccxt/kraken/v1_0_0\n",
      "14:53:31 - \u001b[36mINFO \u001b[0m extract_utils.py download_historical_data:734          Saving the dataset into s3://cryptokaizen-data-test/v3/periodic_daily/airflow/downloaded_1min/parquet/trades/spot/v7_4/ccxt/kraken/v1_0_0\n",
      "14:53:32 - \u001b[36mINFO \u001b[0m extract_utils.py download_historical_data:734          Saving the dataset into s3://cryptokaizen-data-test/v3/periodic_daily/airflow/downloaded_1min/parquet/trades/spot/v7_4/ccxt/kraken/v1_0_0\n",
      "14:53:33 - \u001b[36mINFO \u001b[0m extract_utils.py download_historical_data:734          Saving the dataset into s3://cryptokaizen-data-test/v3/periodic_daily/airflow/downloaded_1min/parquet/trades/spot/v7_4/ccxt/kraken/v1_0_0\n",
      "14:53:34 - \u001b[36mINFO \u001b[0m extract_utils.py download_historical_data:734          Saving the dataset into s3://cryptokaizen-data-test/v3/periodic_daily/airflow/downloaded_1min/parquet/trades/spot/v7_4/ccxt/kraken/v1_0_0\n",
      "14:53:35 - \u001b[36mINFO \u001b[0m extract_utils.py download_historical_data:734          Saving the dataset into s3://cryptokaizen-data-test/v3/periodic_daily/airflow/downloaded_1min/parquet/trades/spot/v7_4/ccxt/kraken/v1_0_0\n",
      "14:53:36 - \u001b[36mINFO \u001b[0m extract_utils.py download_historical_data:734          Saving the dataset into s3://cryptokaizen-data-test/v3/periodic_daily/airflow/downloaded_1min/parquet/trades/spot/v7_4/ccxt/kraken/v1_0_0\n",
      "14:53:37 - \u001b[36mINFO \u001b[0m extract_utils.py download_historical_data:734          Saving the dataset into s3://cryptokaizen-data-test/v3/periodic_daily/airflow/downloaded_1min/parquet/trades/spot/v7_4/ccxt/kraken/v1_0_0\n",
      "14:53:39 - \u001b[36mINFO \u001b[0m extract_utils.py download_historical_data:734          Saving the dataset into s3://cryptokaizen-data-test/v3/periodic_daily/airflow/downloaded_1min/parquet/trades/spot/v7_4/ccxt/kraken/v1_0_0\n",
      "14:53:39 - \u001b[36mINFO \u001b[0m extract_utils.py download_historical_data:734          Saving the dataset into s3://cryptokaizen-data-test/v3/periodic_daily/airflow/downloaded_1min/parquet/trades/spot/v7_4/ccxt/kraken/v1_0_0\n",
      "14:53:40 - \u001b[36mINFO \u001b[0m extract_utils.py download_historical_data:734          Saving the dataset into s3://cryptokaizen-data-test/v3/periodic_daily/airflow/downloaded_1min/parquet/trades/spot/v7_4/ccxt/kraken/v1_0_0\n",
      "14:53:41 - \u001b[36mINFO \u001b[0m hcache.py clear_global_cache:292                       Before clear_global_cache: 'global mem' cache: path='/mnt/tmpfs/tmp.cache.mem', size=32.0 KB\n",
      "14:53:41 - \u001b[41mWARN \u001b[0m hcache.py clear_global_cache:293                       Resetting 'global mem' cache '/mnt/tmpfs/tmp.cache.mem'\n",
      "14:53:41 - \u001b[41mWARN \u001b[0m hcache.py clear_global_cache:303                       Destroying '/mnt/tmpfs/tmp.cache.mem' ...\n",
      "14:53:41 - \u001b[36mINFO \u001b[0m hcache.py clear_global_cache:319                       After clear_global_cache: 'global mem' cache: path='/mnt/tmpfs/tmp.cache.mem', size=nan\n"
     ]
    }
   ],
   "source": [
    "%%bash\n",
    "/app/im_v2/common/data/extract/download_bulk.py \\\n",
    "    --download_mode 'periodic_daily' \\\n",
    "    --downloading_entity 'airflow' \\\n",
    "    --action_tag 'downloaded_1min' \\\n",
    "    --vendor 'ccxt' \\\n",
    "    --start_timestamp '2023-02-01T00:00:00+00:00' \\\n",
    "    --end_timestamp '2023-02-20T00:00:00+00:00' \\\n",
    "    --exchange_id 'kraken' \\\n",
    "    --incremental \\\n",
    "    --universe 'v7.4' \\\n",
    "    --aws_profile 'ck' \\\n",
    "    --data_type 'trades' \\\n",
    "    --data_format 'parquet' \\\n",
    "    --contract_type 'spot' \\\n",
    "    --s3_path 's3://cryptokaizen-data-test/'"
   ]
  },
  {
   "cell_type": "markdown",
   "id": "b5419f2a",
   "metadata": {},
   "source": [
    "# Read and check data by RawReader"
   ]
  },
  {
   "cell_type": "code",
   "execution_count": 5,
   "id": "e1ffaf4e",
   "metadata": {
    "ExecuteTime": {
     "end_time": "2023-04-17T18:54:22.274582Z",
     "start_time": "2023-04-17T18:54:15.962748Z"
    },
    "lines_to_next_cell": 2
   },
   "outputs": [
    {
     "name": "stdout",
     "output_type": "stream",
     "text": [
      "INFO  Loading dataset schema file: /app/data_schema/dataset_schema_versions/dataset_schema_v3.json\n",
      "INFO  Loaded dataset schema version v3\n",
      "INFO  Loading dataset schema file: /app/data_schema/dataset_schema_versions/dataset_schema_v3.json\n",
      "INFO  Loaded dataset schema version v3\n",
      "INFO  Loading dataset schema file: /app/data_schema/dataset_schema_versions/dataset_schema_v3.json\n",
      "INFO  Loaded dataset schema version v3\n"
     ]
    }
   ],
   "source": [
    "signature = \"periodic_daily.airflow.downloaded_1min.parquet.trades.spot.v7_4.ccxt.kraken.v1_0_0\"\n",
    "reader = imvcdcimrdc.RawDataReader(signature, stage=\"test\")\n",
    "start_timestamp = pd.Timestamp(\"2023-02-01T00:00:00+00:00\")\n",
    "end_timestamp = pd.Timestamp(\"2023-02-20T00:00:00+00:00\")\n",
    "trades = reader.read_data(start_timestamp, end_timestamp)"
   ]
  },
  {
   "cell_type": "code",
   "execution_count": 6,
   "id": "6bf92ca0",
   "metadata": {
    "ExecuteTime": {
     "end_time": "2023-04-17T18:54:22.339946Z",
     "start_time": "2023-04-17T18:54:22.277740Z"
    }
   },
   "outputs": [
    {
     "data": {
      "text/html": [
       "<div>\n",
       "<style scoped>\n",
       "    .dataframe tbody tr th:only-of-type {\n",
       "        vertical-align: middle;\n",
       "    }\n",
       "\n",
       "    .dataframe tbody tr th {\n",
       "        vertical-align: top;\n",
       "    }\n",
       "\n",
       "    .dataframe thead th {\n",
       "        text-align: right;\n",
       "    }\n",
       "</style>\n",
       "<table border=\"1\" class=\"dataframe\">\n",
       "  <thead>\n",
       "    <tr style=\"text-align: right;\">\n",
       "      <th></th>\n",
       "      <th>timestamp</th>\n",
       "      <th>symbol</th>\n",
       "      <th>side</th>\n",
       "      <th>price</th>\n",
       "      <th>amount</th>\n",
       "      <th>exchange_id</th>\n",
       "      <th>knowledge_timestamp</th>\n",
       "      <th>currency_pair</th>\n",
       "      <th>year</th>\n",
       "      <th>month</th>\n",
       "      <th>day</th>\n",
       "    </tr>\n",
       "    <tr>\n",
       "      <th>timestamp</th>\n",
       "      <th></th>\n",
       "      <th></th>\n",
       "      <th></th>\n",
       "      <th></th>\n",
       "      <th></th>\n",
       "      <th></th>\n",
       "      <th></th>\n",
       "      <th></th>\n",
       "      <th></th>\n",
       "      <th></th>\n",
       "      <th></th>\n",
       "    </tr>\n",
       "  </thead>\n",
       "  <tbody>\n",
       "    <tr>\n",
       "      <th>2023-02-01 00:11:20.376000+00:00</th>\n",
       "      <td>1675210280376</td>\n",
       "      <td>ADA/USDT</td>\n",
       "      <td>buy</td>\n",
       "      <td>0.389438</td>\n",
       "      <td>15.000000</td>\n",
       "      <td>kraken</td>\n",
       "      <td>2023-04-17 18:53:32.446532+00:00</td>\n",
       "      <td>ADA_USDT</td>\n",
       "      <td>2023</td>\n",
       "      <td>2</td>\n",
       "      <td>1</td>\n",
       "    </tr>\n",
       "    <tr>\n",
       "      <th>2023-02-01 00:41:59.149000+00:00</th>\n",
       "      <td>1675212119149</td>\n",
       "      <td>ADA/USDT</td>\n",
       "      <td>buy</td>\n",
       "      <td>0.390383</td>\n",
       "      <td>15.000000</td>\n",
       "      <td>kraken</td>\n",
       "      <td>2023-04-17 18:53:32.446532+00:00</td>\n",
       "      <td>ADA_USDT</td>\n",
       "      <td>2023</td>\n",
       "      <td>2</td>\n",
       "      <td>1</td>\n",
       "    </tr>\n",
       "    <tr>\n",
       "      <th>2023-02-01 00:42:25.063000+00:00</th>\n",
       "      <td>1675212145063</td>\n",
       "      <td>ADA/USDT</td>\n",
       "      <td>sell</td>\n",
       "      <td>0.389947</td>\n",
       "      <td>15.000000</td>\n",
       "      <td>kraken</td>\n",
       "      <td>2023-04-17 18:53:32.446532+00:00</td>\n",
       "      <td>ADA_USDT</td>\n",
       "      <td>2023</td>\n",
       "      <td>2</td>\n",
       "      <td>1</td>\n",
       "    </tr>\n",
       "    <tr>\n",
       "      <th>2023-02-01 00:42:27.405000+00:00</th>\n",
       "      <td>1675212147405</td>\n",
       "      <td>ADA/USDT</td>\n",
       "      <td>buy</td>\n",
       "      <td>0.390153</td>\n",
       "      <td>15.000000</td>\n",
       "      <td>kraken</td>\n",
       "      <td>2023-04-17 18:53:32.446532+00:00</td>\n",
       "      <td>ADA_USDT</td>\n",
       "      <td>2023</td>\n",
       "      <td>2</td>\n",
       "      <td>1</td>\n",
       "    </tr>\n",
       "    <tr>\n",
       "      <th>2023-02-01 00:42:51.891000+00:00</th>\n",
       "      <td>1675212171891</td>\n",
       "      <td>ADA/USDT</td>\n",
       "      <td>buy</td>\n",
       "      <td>0.389907</td>\n",
       "      <td>15.000000</td>\n",
       "      <td>kraken</td>\n",
       "      <td>2023-04-17 18:53:32.446532+00:00</td>\n",
       "      <td>ADA_USDT</td>\n",
       "      <td>2023</td>\n",
       "      <td>2</td>\n",
       "      <td>1</td>\n",
       "    </tr>\n",
       "    <tr>\n",
       "      <th>...</th>\n",
       "      <td>...</td>\n",
       "      <td>...</td>\n",
       "      <td>...</td>\n",
       "      <td>...</td>\n",
       "      <td>...</td>\n",
       "      <td>...</td>\n",
       "      <td>...</td>\n",
       "      <td>...</td>\n",
       "      <td>...</td>\n",
       "      <td>...</td>\n",
       "      <td>...</td>\n",
       "    </tr>\n",
       "    <tr>\n",
       "      <th>2023-02-03 14:51:33.681000+00:00</th>\n",
       "      <td>1675435893681</td>\n",
       "      <td>XRP/USDT</td>\n",
       "      <td>buy</td>\n",
       "      <td>0.411280</td>\n",
       "      <td>2540.150019</td>\n",
       "      <td>kraken</td>\n",
       "      <td>2023-04-17 18:53:28.350857+00:00</td>\n",
       "      <td>XRP_USDT</td>\n",
       "      <td>2023</td>\n",
       "      <td>2</td>\n",
       "      <td>3</td>\n",
       "    </tr>\n",
       "    <tr>\n",
       "      <th>2023-02-03 14:51:33.681000+00:00</th>\n",
       "      <td>1675435893681</td>\n",
       "      <td>XRP/USDT</td>\n",
       "      <td>buy</td>\n",
       "      <td>0.411290</td>\n",
       "      <td>13042.648019</td>\n",
       "      <td>kraken</td>\n",
       "      <td>2023-04-17 18:53:28.350857+00:00</td>\n",
       "      <td>XRP_USDT</td>\n",
       "      <td>2023</td>\n",
       "      <td>2</td>\n",
       "      <td>3</td>\n",
       "    </tr>\n",
       "    <tr>\n",
       "      <th>2023-02-03 14:51:33.681000+00:00</th>\n",
       "      <td>1675435893681</td>\n",
       "      <td>XRP/USDT</td>\n",
       "      <td>buy</td>\n",
       "      <td>0.411500</td>\n",
       "      <td>1270.452268</td>\n",
       "      <td>kraken</td>\n",
       "      <td>2023-04-17 18:53:28.350857+00:00</td>\n",
       "      <td>XRP_USDT</td>\n",
       "      <td>2023</td>\n",
       "      <td>2</td>\n",
       "      <td>3</td>\n",
       "    </tr>\n",
       "    <tr>\n",
       "      <th>2023-02-03 14:52:05.868000+00:00</th>\n",
       "      <td>1675435925868</td>\n",
       "      <td>XRP/USDT</td>\n",
       "      <td>sell</td>\n",
       "      <td>0.410770</td>\n",
       "      <td>88.000000</td>\n",
       "      <td>kraken</td>\n",
       "      <td>2023-04-17 18:53:28.350857+00:00</td>\n",
       "      <td>XRP_USDT</td>\n",
       "      <td>2023</td>\n",
       "      <td>2</td>\n",
       "      <td>3</td>\n",
       "    </tr>\n",
       "    <tr>\n",
       "      <th>2023-02-03 14:53:33.238000+00:00</th>\n",
       "      <td>1675436013238</td>\n",
       "      <td>XRP/USDT</td>\n",
       "      <td>buy</td>\n",
       "      <td>0.410430</td>\n",
       "      <td>132.652579</td>\n",
       "      <td>kraken</td>\n",
       "      <td>2023-04-17 18:53:28.350857+00:00</td>\n",
       "      <td>XRP_USDT</td>\n",
       "      <td>2023</td>\n",
       "      <td>2</td>\n",
       "      <td>3</td>\n",
       "    </tr>\n",
       "  </tbody>\n",
       "</table>\n",
       "<p>18000 rows × 11 columns</p>\n",
       "</div>"
      ],
      "text/plain": [
       "                                      timestamp    symbol  side     price        amount exchange_id              knowledge_timestamp currency_pair  year  month  day\n",
       "timestamp                                                                                                                                                           \n",
       "2023-02-01 00:11:20.376000+00:00  1675210280376  ADA/USDT   buy  0.389438     15.000000      kraken 2023-04-17 18:53:32.446532+00:00      ADA_USDT  2023      2    1\n",
       "2023-02-01 00:41:59.149000+00:00  1675212119149  ADA/USDT   buy  0.390383     15.000000      kraken 2023-04-17 18:53:32.446532+00:00      ADA_USDT  2023      2    1\n",
       "2023-02-01 00:42:25.063000+00:00  1675212145063  ADA/USDT  sell  0.389947     15.000000      kraken 2023-04-17 18:53:32.446532+00:00      ADA_USDT  2023      2    1\n",
       "2023-02-01 00:42:27.405000+00:00  1675212147405  ADA/USDT   buy  0.390153     15.000000      kraken 2023-04-17 18:53:32.446532+00:00      ADA_USDT  2023      2    1\n",
       "2023-02-01 00:42:51.891000+00:00  1675212171891  ADA/USDT   buy  0.389907     15.000000      kraken 2023-04-17 18:53:32.446532+00:00      ADA_USDT  2023      2    1\n",
       "...                                         ...       ...   ...       ...           ...         ...                              ...           ...   ...    ...  ...\n",
       "2023-02-03 14:51:33.681000+00:00  1675435893681  XRP/USDT   buy  0.411280   2540.150019      kraken 2023-04-17 18:53:28.350857+00:00      XRP_USDT  2023      2    3\n",
       "2023-02-03 14:51:33.681000+00:00  1675435893681  XRP/USDT   buy  0.411290  13042.648019      kraken 2023-04-17 18:53:28.350857+00:00      XRP_USDT  2023      2    3\n",
       "2023-02-03 14:51:33.681000+00:00  1675435893681  XRP/USDT   buy  0.411500   1270.452268      kraken 2023-04-17 18:53:28.350857+00:00      XRP_USDT  2023      2    3\n",
       "2023-02-03 14:52:05.868000+00:00  1675435925868  XRP/USDT  sell  0.410770     88.000000      kraken 2023-04-17 18:53:28.350857+00:00      XRP_USDT  2023      2    3\n",
       "2023-02-03 14:53:33.238000+00:00  1675436013238  XRP/USDT   buy  0.410430    132.652579      kraken 2023-04-17 18:53:28.350857+00:00      XRP_USDT  2023      2    3\n",
       "\n",
       "[18000 rows x 11 columns]"
      ]
     },
     "execution_count": 6,
     "metadata": {},
     "output_type": "execute_result"
    }
   ],
   "source": [
    "trades"
   ]
  },
  {
   "cell_type": "code",
   "execution_count": 7,
   "id": "1705357b",
   "metadata": {
    "ExecuteTime": {
     "end_time": "2023-04-17T18:54:28.368186Z",
     "start_time": "2023-04-17T18:54:28.322647Z"
    }
   },
   "outputs": [
    {
     "data": {
      "text/plain": [
       "False"
      ]
     },
     "execution_count": 7,
     "metadata": {},
     "output_type": "execute_result"
    }
   ],
   "source": [
    "trades.isna().any().any()"
   ]
  },
  {
   "cell_type": "code",
   "execution_count": 9,
   "id": "b1c5ddf2",
   "metadata": {
    "ExecuteTime": {
     "end_time": "2023-04-17T18:55:03.362951Z",
     "start_time": "2023-04-17T18:55:03.322367Z"
    }
   },
   "outputs": [
    {
     "data": {
      "text/plain": [
       "0       ADA_USDT\n",
       "1       APE_USDT\n",
       "2           ATOM\n",
       "3      AVAX_USDT\n",
       "4            BCH\n",
       "5       BTC_USDT\n",
       "6       DAI_USDT\n",
       "7      DOGE_USDT\n",
       "8       DOT_USDT\n",
       "9       ETH_USDT\n",
       "10          LINK\n",
       "11      LTC_USDT\n",
       "12    MATIC_USDT\n",
       "13     SHIB_USDT\n",
       "14      SOL_USDT\n",
       "15     USDC_USDT\n",
       "16           XMR\n",
       "17      XRP_USDT\n",
       "dtype: object"
      ]
     },
     "execution_count": 9,
     "metadata": {},
     "output_type": "execute_result"
    }
   ],
   "source": [
    "pd.Series(trades.currency_pair.unique())"
   ]
  },
  {
   "cell_type": "code",
   "execution_count": 10,
   "id": "3081dcec",
   "metadata": {
    "ExecuteTime": {
     "end_time": "2023-04-17T18:57:31.247274Z",
     "start_time": "2023-04-17T18:57:31.213503Z"
    }
   },
   "outputs": [],
   "source": [
    "a = [\n",
    "    \"ETH_USDT\",\n",
    "    \"BTC_USDT\",\n",
    "    \"APE_USDT\",\n",
    "    \"MATIC_USDT\",\n",
    "    \"DOT_USDT\",\n",
    "    \"XRP_USDT\",\n",
    "    \"DOGE_USDT\",\n",
    "    \"SOL_USDT\",\n",
    "    \"USDC_USDT\",\n",
    "    \"ADA_USDT\",\n",
    "    \"LTC_USDT\",\n",
    "    \"SHIB_USDT\",\n",
    "    \"AVAX_USDT\",\n",
    "    \"DAI_USDT\",\n",
    "    \"LINK/USDT\",\n",
    "    \"ATOM/USDT\",\n",
    "    \"XMR/USDT\",\n",
    "    \"BCH/USDT\",\n",
    "]"
   ]
  },
  {
   "cell_type": "code",
   "execution_count": 19,
   "id": "cc9cbcae",
   "metadata": {
    "ExecuteTime": {
     "end_time": "2023-04-17T19:00:51.513990Z",
     "start_time": "2023-04-17T19:00:51.471328Z"
    }
   },
   "outputs": [],
   "source": [
    "unique_currency_pair = pd.Series(trades.currency_pair.unique())"
   ]
  },
  {
   "cell_type": "code",
   "execution_count": 21,
   "id": "ceca26c5",
   "metadata": {
    "ExecuteTime": {
     "end_time": "2023-04-17T19:01:19.058619Z",
     "start_time": "2023-04-17T19:01:19.021487Z"
    }
   },
   "outputs": [
    {
     "data": {
      "text/plain": [
       "2     ATOM\n",
       "4      BCH\n",
       "10    LINK\n",
       "16     XMR\n",
       "dtype: object"
      ]
     },
     "execution_count": 21,
     "metadata": {},
     "output_type": "execute_result"
    }
   ],
   "source": [
    "unique_currency_pair[~unique_currency_pair.isin(a)]"
   ]
  },
  {
   "cell_type": "markdown",
   "id": "837f7ba5",
   "metadata": {},
   "source": [
    "# QA  exploratory analysis"
   ]
  },
  {
   "cell_type": "code",
   "execution_count": 73,
   "id": "75d061ee",
   "metadata": {
    "ExecuteTime": {
     "end_time": "2023-04-11T13:57:49.647377Z",
     "start_time": "2023-04-11T13:57:49.611795Z"
    },
    "run_control": {
     "marked": false
    }
   },
   "outputs": [],
   "source": [
    "mode = \"download\"\n",
    "vendor_name = \"CCXT\"\n",
    "version = \"v7.4\"\n",
    "universe = imvcounun.get_vendor_universe(vendor_name, mode, version=version)\n",
    "universe_list = universe[exchange_id]\n",
    "qa_check_list = [\n",
    "    imvcdqqach.NaNChecks(),\n",
    "    imvcdqqach.FullUniversePresentCheck(universe_list),\n",
    "]\n",
    "dataset_validator1 = imvcdqdava.DataFrameDatasetValidator(qa_check_list)"
   ]
  },
  {
   "cell_type": "code",
   "execution_count": 74,
   "id": "1a769454",
   "metadata": {
    "ExecuteTime": {
     "end_time": "2023-04-11T13:57:50.220185Z",
     "start_time": "2023-04-11T13:57:50.137480Z"
    }
   },
   "outputs": [
    {
     "name": "stdout",
     "output_type": "stream",
     "text": [
      "INFO  Running all QA checks:\n",
      "INFO  \tNaNChecks: PASSED\n"
     ]
    },
    {
     "ename": "AssertionError",
     "evalue": "\n################################################################################\n\tFullUniversePresentCheck: FAILED: Found missing symbols in dataset:\n\t{'MATIC_USDT', 'APE_USDT', 'AVAX_USDT', 'SOL_USDT'}\n################################################################################\n",
     "output_type": "error",
     "traceback": [
      "\u001b[0;31m---------------------------------------------------------------------------\u001b[0m",
      "\u001b[0;31mAssertionError\u001b[0m                            Traceback (most recent call last)",
      "Cell \u001b[0;32mIn [74], line 1\u001b[0m\n\u001b[0;32m----> 1\u001b[0m \u001b[43mdataset_validator1\u001b[49m\u001b[38;5;241;43m.\u001b[39;49m\u001b[43mrun_all_checks\u001b[49m\u001b[43m(\u001b[49m\u001b[43m[\u001b[49m\u001b[43mtrades\u001b[49m\u001b[43m]\u001b[49m\u001b[43m,\u001b[49m\u001b[43m \u001b[49m\u001b[43m_LOG\u001b[49m\u001b[43m)\u001b[49m\n",
      "File \u001b[0;32m/app/im_v2/common/data/qa/dataset_validator.py:26\u001b[0m, in \u001b[0;36mDataFrameDatasetValidator.run_all_checks\u001b[0;34m(self, datasets, logger)\u001b[0m\n\u001b[1;32m     24\u001b[0m \u001b[38;5;28;01mif\u001b[39;00m error_msgs:\n\u001b[1;32m     25\u001b[0m     error_msg \u001b[38;5;241m=\u001b[39m \u001b[38;5;124m\"\u001b[39m\u001b[38;5;130;01m\\n\u001b[39;00m\u001b[38;5;124m\"\u001b[39m\u001b[38;5;241m.\u001b[39mjoin(error_msgs)\n\u001b[0;32m---> 26\u001b[0m     \u001b[43mhdbg\u001b[49m\u001b[38;5;241;43m.\u001b[39;49m\u001b[43mdfatal\u001b[49m\u001b[43m(\u001b[49m\u001b[43merror_msg\u001b[49m\u001b[43m)\u001b[49m\n",
      "File \u001b[0;32m/app/helpers/hdbg.py:71\u001b[0m, in \u001b[0;36mdfatal\u001b[0;34m(message, assertion_type)\u001b[0m\n\u001b[1;32m     69\u001b[0m \u001b[38;5;28;01mif\u001b[39;00m assertion_type \u001b[38;5;129;01mis\u001b[39;00m \u001b[38;5;28;01mNone\u001b[39;00m:\n\u001b[1;32m     70\u001b[0m     assertion_type \u001b[38;5;241m=\u001b[39m \u001b[38;5;167;01mAssertionError\u001b[39;00m\n\u001b[0;32m---> 71\u001b[0m \u001b[38;5;28;01mraise\u001b[39;00m assertion_type(ret)\n",
      "\u001b[0;31mAssertionError\u001b[0m: \n################################################################################\n\tFullUniversePresentCheck: FAILED: Found missing symbols in dataset:\n\t{'MATIC_USDT', 'APE_USDT', 'AVAX_USDT', 'SOL_USDT'}\n################################################################################\n"
     ]
    }
   ],
   "source": [
    "dataset_validator1.run_all_checks([trades])"
   ]
  },
  {
   "cell_type": "code",
   "execution_count": null,
   "id": "f74c2255",
   "metadata": {},
   "outputs": [],
   "source": []
  }
 ],
 "metadata": {
  "kernelspec": {
   "display_name": "Python 3 (ipykernel)",
   "language": "python",
   "name": "python3"
  },
  "language_info": {
   "codemirror_mode": {
    "name": "ipython",
    "version": 3
   },
   "file_extension": ".py",
   "mimetype": "text/x-python",
   "name": "python",
   "nbconvert_exporter": "python",
   "pygments_lexer": "ipython3",
   "version": "3.9.5"
  },
  "toc": {
   "base_numbering": 1,
   "nav_menu": {},
   "number_sections": true,
   "sideBar": true,
   "skip_h1_title": false,
   "title_cell": "Table of Contents",
   "title_sidebar": "Contents",
   "toc_cell": false,
   "toc_position": {},
   "toc_section_display": true,
   "toc_window_display": false
  }
 },
 "nbformat": 4,
 "nbformat_minor": 5
}
