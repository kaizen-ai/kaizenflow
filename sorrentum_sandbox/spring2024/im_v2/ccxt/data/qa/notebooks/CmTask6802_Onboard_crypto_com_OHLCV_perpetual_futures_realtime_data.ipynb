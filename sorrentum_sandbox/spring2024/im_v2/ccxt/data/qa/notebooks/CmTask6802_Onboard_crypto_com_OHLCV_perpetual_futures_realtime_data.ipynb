{
 "cells": [
  {
   "cell_type": "markdown",
   "id": "31fd9046",
   "metadata": {},
   "source": [
    "## Importing Libraries"
   ]
  },
  {
   "cell_type": "code",
   "execution_count": 1,
   "id": "dbe1c82c",
   "metadata": {
    "ExecuteTime": {
     "end_time": "2024-01-17T15:11:55.977987Z",
     "start_time": "2024-01-17T15:11:47.372892Z"
    }
   },
   "outputs": [
    {
     "name": "stderr",
     "output_type": "stream",
     "text": [
      "/app/core/statistics/random_samples.py:12: TqdmExperimentalWarning: Using `tqdm.autonotebook.tqdm` in notebook mode. Use `tqdm.tqdm` instead to force console mode (e.g. in jupyter console)\n",
      "  from tqdm.autonotebook import tqdm\n",
      "\u001b[33mWARNING\u001b[0m: No module named 'gluonts'\n"
     ]
    }
   ],
   "source": [
    "import ccxt\n",
    "import pandas as pd\n",
    "\n",
    "import im_v2.ccxt.data.extract.cryptocom_extractor as imvcdecrex\n",
    "import im_v2.common.data.client.im_raw_data_client as imvcdcimrdc\n",
    "import im_v2.common.universe.universe as imvcounun"
   ]
  },
  {
   "cell_type": "code",
   "execution_count": 2,
   "id": "09eee5af",
   "metadata": {
    "ExecuteTime": {
     "end_time": "2024-01-17T15:11:55.989218Z",
     "start_time": "2024-01-17T15:11:55.981479Z"
    }
   },
   "outputs": [
    {
     "data": {
      "text/plain": [
       "'4.2.13'"
      ]
     },
     "execution_count": 2,
     "metadata": {},
     "output_type": "execute_result"
    }
   ],
   "source": [
    "ccxt.__version__"
   ]
  },
  {
   "cell_type": "code",
   "execution_count": 3,
   "id": "20e21e1a",
   "metadata": {
    "ExecuteTime": {
     "end_time": "2024-01-17T15:11:56.000479Z",
     "start_time": "2024-01-17T15:11:55.991584Z"
    },
    "lines_to_next_cell": 2
   },
   "outputs": [],
   "source": [
    "ccxt_exchange = ccxt.cryptocom()"
   ]
  },
  {
   "cell_type": "markdown",
   "id": "0fc27f1c",
   "metadata": {
    "ExecuteTime": {
     "end_time": "2024-01-16T14:33:57.937859Z",
     "start_time": "2024-01-16T14:33:57.934710Z"
    },
    "lines_to_next_cell": 2
   },
   "source": [
    "## Function to get error percentage between data downlaoded from websocket and data downloaded from REST api calls"
   ]
  },
  {
   "cell_type": "code",
   "execution_count": 4,
   "id": "147a89ad",
   "metadata": {
    "ExecuteTime": {
     "end_time": "2024-01-17T15:11:56.011434Z",
     "start_time": "2024-01-17T15:11:56.003211Z"
    }
   },
   "outputs": [],
   "source": [
    "def get_error(REST_ohlcv, fil_data):\n",
    "    merged_df = pd.merge(REST_ohlcv, fil_data, on=\"timestamp\")\n",
    "    #     print(merged_df)\n",
    "    merged_df[\"open_error\"] = (\n",
    "        100 * abs(merged_df[\"open_x\"] - merged_df[\"open_y\"]) / merged_df[\"open_y\"]\n",
    "    )\n",
    "    merged_df[\"high_error\"] = (\n",
    "        100 * abs(merged_df[\"high_x\"] - merged_df[\"high_y\"]) / merged_df[\"high_y\"]\n",
    "    )\n",
    "    merged_df[\"low_error\"] = (\n",
    "        100 * abs(merged_df[\"low_x\"] - merged_df[\"low_y\"]) / merged_df[\"low_y\"]\n",
    "    )\n",
    "    merged_df[\"close_error\"] = (\n",
    "        100\n",
    "        * abs(merged_df[\"close_x\"] - merged_df[\"close_y\"])\n",
    "        / merged_df[\"close_y\"]\n",
    "    )\n",
    "    merged_df[\"volume_error\"] = (\n",
    "        100\n",
    "        * abs(merged_df[\"volume_x\"] - merged_df[\"volume_y\"])\n",
    "        / merged_df[\"volume_y\"]\n",
    "    )\n",
    "    print(\"Avg Open error  :\", merged_df[\"open_error\"].mean().round(2))\n",
    "    print(\"Avg Close error :\", merged_df[\"close_error\"].mean().round(2))\n",
    "    print(\"Avg High error  :\", merged_df[\"high_error\"].mean().round(2))\n",
    "    print(\"Avg Low error   :\", merged_df[\"low_error\"].mean().round(2))\n",
    "    print(\"Avg Volume error:\", merged_df[\"volume_error\"].mean().round(2))"
   ]
  },
  {
   "cell_type": "code",
   "execution_count": 5,
   "id": "807b6ec6",
   "metadata": {
    "ExecuteTime": {
     "end_time": "2024-01-17T15:11:56.019249Z",
     "start_time": "2024-01-17T15:11:56.013704Z"
    }
   },
   "outputs": [],
   "source": [
    "def ohlcv_cross_data_qa(\n",
    "    start_time,\n",
    "    end_time,\n",
    "    symbol,\n",
    "    exchange,\n",
    "    *,\n",
    "    signature=\"realtime.airflow.downloaded_1min.postgres.ohlcv.futures.v7_4.ccxt.cryptocom.v1_0_0\",\n",
    "    stage=\"test\",\n",
    "):\n",
    "    data_reader = imvcdcimrdc.RawDataReader(signature, stage=stage)\n",
    "    ohlcv_trades_data = data_reader.read_data(\n",
    "        pd.Timestamp(start_time), pd.Timestamp(end_time)\n",
    "    )\n",
    "    filtered_data = ohlcv_trades_data[\n",
    "        ohlcv_trades_data[\"currency_pair\"] == symbol\n",
    "    ]\n",
    "    REST_ohlcv = exchange.download_data(\n",
    "        data_type=\"ohlcv\",\n",
    "        currency_pair=symbol,\n",
    "        exchange_id=\"cryptocom\",\n",
    "        start_timestamp=pd.Timestamp(start_time),\n",
    "        end_timestamp=pd.Timestamp(end_time),\n",
    "        depth=1,\n",
    "    )\n",
    "    print(\"Error % for symbol:\", symbol)\n",
    "    get_error(REST_ohlcv, filtered_data)"
   ]
  },
  {
   "cell_type": "markdown",
   "id": "52c8b757",
   "metadata": {},
   "source": [
    "## Getting list of symbols from desired Universe"
   ]
  },
  {
   "cell_type": "code",
   "execution_count": 6,
   "id": "47a0d4f7",
   "metadata": {
    "ExecuteTime": {
     "end_time": "2024-01-17T15:11:56.556465Z",
     "start_time": "2024-01-17T15:11:56.498411Z"
    }
   },
   "outputs": [
    {
     "data": {
      "text/plain": [
       "['ETH_USD',\n",
       " 'BTC_USD',\n",
       " 'SAND_USD',\n",
       " 'STORJ_USD',\n",
       " 'GMT_USD',\n",
       " 'AVAX_USD',\n",
       " 'APE_USD',\n",
       " 'MATIC_USD',\n",
       " 'DYDX_USD',\n",
       " 'DOT_USD',\n",
       " 'LINK_USD',\n",
       " 'XRP_USD',\n",
       " 'RUNE_USD',\n",
       " 'NEAR_USD',\n",
       " 'FTM_USD',\n",
       " 'WAVES_USD',\n",
       " 'AXS_USD',\n",
       " 'OGN_USD',\n",
       " 'DOGE_USD',\n",
       " 'SOL_USD']"
      ]
     },
     "execution_count": 6,
     "metadata": {},
     "output_type": "execute_result"
    }
   ],
   "source": [
    "vendor_name = \"CCXT\"\n",
    "mode = \"download\"\n",
    "version = \"v7.4\"\n",
    "universe = imvcounun.get_vendor_universe(vendor_name, mode, version=version)\n",
    "universe_list = universe[\"cryptocom\"]\n",
    "len(universe_list)\n",
    "universe_list"
   ]
  },
  {
   "cell_type": "markdown",
   "id": "4d719410",
   "metadata": {},
   "source": [
    "## QA Check"
   ]
  },
  {
   "cell_type": "code",
   "execution_count": 7,
   "id": "bd60794c",
   "metadata": {
    "ExecuteTime": {
     "end_time": "2024-01-17T15:12:47.070213Z",
     "start_time": "2024-01-17T15:12:33.560534Z"
    },
    "scrolled": false
   },
   "outputs": [
    {
     "name": "stderr",
     "output_type": "stream",
     "text": [
      "/app/helpers/hsql_implementation.py:582: UserWarning: pandas only supports SQLAlchemy connectable (engine/connection) or database string URI or sqlite3 DBAPI2 connection. Other DBAPI2 objects are not tested. Please consider using SQLAlchemy.\n",
      "  df = pd.read_sql_query(query, connection)\n",
      "100%|█████████████████████████████████████████████████████████████████████████████████████████████████████████████████████████████████████████████████████████████████████████████████████████████| 1/1 [00:00<00:00,  1.78it/s]\n",
      "/app/helpers/hsql_implementation.py:582: UserWarning: pandas only supports SQLAlchemy connectable (engine/connection) or database string URI or sqlite3 DBAPI2 connection. Other DBAPI2 objects are not tested. Please consider using SQLAlchemy.\n",
      "  df = pd.read_sql_query(query, connection)\n"
     ]
    },
    {
     "name": "stdout",
     "output_type": "stream",
     "text": [
      "Error % for symbol: ETH_USD\n",
      "Avg Open error  : 0.0\n",
      "Avg Close error : 0.0\n",
      "Avg High error  : 0.0\n",
      "Avg Low error   : 0.0\n",
      "Avg Volume error: 0.0\n"
     ]
    },
    {
     "name": "stderr",
     "output_type": "stream",
     "text": [
      "100%|█████████████████████████████████████████████████████████████████████████████████████████████████████████████████████████████████████████████████████████████████████████████████████████████| 1/1 [00:00<00:00,  1.65it/s]\n",
      "/app/helpers/hsql_implementation.py:582: UserWarning: pandas only supports SQLAlchemy connectable (engine/connection) or database string URI or sqlite3 DBAPI2 connection. Other DBAPI2 objects are not tested. Please consider using SQLAlchemy.\n",
      "  df = pd.read_sql_query(query, connection)\n"
     ]
    },
    {
     "name": "stdout",
     "output_type": "stream",
     "text": [
      "Error % for symbol: BTC_USD\n",
      "Avg Open error  : 0.0\n",
      "Avg Close error : 0.0\n",
      "Avg High error  : 0.0\n",
      "Avg Low error   : 0.0\n",
      "Avg Volume error: 0.0\n"
     ]
    },
    {
     "name": "stderr",
     "output_type": "stream",
     "text": [
      "100%|█████████████████████████████████████████████████████████████████████████████████████████████████████████████████████████████████████████████████████████████████████████████████████████████| 1/1 [00:00<00:00,  1.77it/s]\n",
      "/app/helpers/hsql_implementation.py:582: UserWarning: pandas only supports SQLAlchemy connectable (engine/connection) or database string URI or sqlite3 DBAPI2 connection. Other DBAPI2 objects are not tested. Please consider using SQLAlchemy.\n",
      "  df = pd.read_sql_query(query, connection)\n"
     ]
    },
    {
     "name": "stdout",
     "output_type": "stream",
     "text": [
      "Error % for symbol: SAND_USD\n",
      "Avg Open error  : 0.0\n",
      "Avg Close error : 0.0\n",
      "Avg High error  : 0.0\n",
      "Avg Low error   : 0.0\n",
      "Avg Volume error: 0.0\n"
     ]
    },
    {
     "name": "stderr",
     "output_type": "stream",
     "text": [
      "100%|█████████████████████████████████████████████████████████████████████████████████████████████████████████████████████████████████████████████████████████████████████████████████████████████| 1/1 [00:00<00:00,  1.77it/s]\n",
      "/app/helpers/hsql_implementation.py:582: UserWarning: pandas only supports SQLAlchemy connectable (engine/connection) or database string URI or sqlite3 DBAPI2 connection. Other DBAPI2 objects are not tested. Please consider using SQLAlchemy.\n",
      "  df = pd.read_sql_query(query, connection)\n"
     ]
    },
    {
     "name": "stdout",
     "output_type": "stream",
     "text": [
      "Error % for symbol: STORJ_USD\n",
      "Avg Open error  : 0.0\n",
      "Avg Close error : 0.0\n",
      "Avg High error  : 0.0\n",
      "Avg Low error   : 0.0\n",
      "Avg Volume error: 0.0\n"
     ]
    },
    {
     "name": "stderr",
     "output_type": "stream",
     "text": [
      "100%|█████████████████████████████████████████████████████████████████████████████████████████████████████████████████████████████████████████████████████████████████████████████████████████████| 1/1 [00:00<00:00,  1.70it/s]\n",
      "/app/helpers/hsql_implementation.py:582: UserWarning: pandas only supports SQLAlchemy connectable (engine/connection) or database string URI or sqlite3 DBAPI2 connection. Other DBAPI2 objects are not tested. Please consider using SQLAlchemy.\n",
      "  df = pd.read_sql_query(query, connection)\n"
     ]
    },
    {
     "name": "stdout",
     "output_type": "stream",
     "text": [
      "Error % for symbol: GMT_USD\n",
      "Avg Open error  : 0.0\n",
      "Avg Close error : 0.0\n",
      "Avg High error  : 0.0\n",
      "Avg Low error   : 0.0\n",
      "Avg Volume error: 0.0\n"
     ]
    },
    {
     "name": "stderr",
     "output_type": "stream",
     "text": [
      "100%|█████████████████████████████████████████████████████████████████████████████████████████████████████████████████████████████████████████████████████████████████████████████████████████████| 1/1 [00:00<00:00,  1.75it/s]\n",
      "/app/helpers/hsql_implementation.py:582: UserWarning: pandas only supports SQLAlchemy connectable (engine/connection) or database string URI or sqlite3 DBAPI2 connection. Other DBAPI2 objects are not tested. Please consider using SQLAlchemy.\n",
      "  df = pd.read_sql_query(query, connection)\n"
     ]
    },
    {
     "name": "stdout",
     "output_type": "stream",
     "text": [
      "Error % for symbol: AVAX_USD\n",
      "Avg Open error  : 0.0\n",
      "Avg Close error : 0.0\n",
      "Avg High error  : 0.0\n",
      "Avg Low error   : 0.0\n",
      "Avg Volume error: 0.0\n"
     ]
    },
    {
     "name": "stderr",
     "output_type": "stream",
     "text": [
      "100%|█████████████████████████████████████████████████████████████████████████████████████████████████████████████████████████████████████████████████████████████████████████████████████████████| 1/1 [00:00<00:00,  1.77it/s]\n",
      "/app/helpers/hsql_implementation.py:582: UserWarning: pandas only supports SQLAlchemy connectable (engine/connection) or database string URI or sqlite3 DBAPI2 connection. Other DBAPI2 objects are not tested. Please consider using SQLAlchemy.\n",
      "  df = pd.read_sql_query(query, connection)\n"
     ]
    },
    {
     "name": "stdout",
     "output_type": "stream",
     "text": [
      "Error % for symbol: APE_USD\n",
      "Avg Open error  : 0.0\n",
      "Avg Close error : 0.0\n",
      "Avg High error  : 0.0\n",
      "Avg Low error   : 0.0\n",
      "Avg Volume error: 0.0\n"
     ]
    },
    {
     "name": "stderr",
     "output_type": "stream",
     "text": [
      "100%|█████████████████████████████████████████████████████████████████████████████████████████████████████████████████████████████████████████████████████████████████████████████████████████████| 1/1 [00:00<00:00,  1.76it/s]\n",
      "/app/helpers/hsql_implementation.py:582: UserWarning: pandas only supports SQLAlchemy connectable (engine/connection) or database string URI or sqlite3 DBAPI2 connection. Other DBAPI2 objects are not tested. Please consider using SQLAlchemy.\n",
      "  df = pd.read_sql_query(query, connection)\n"
     ]
    },
    {
     "name": "stdout",
     "output_type": "stream",
     "text": [
      "Error % for symbol: MATIC_USD\n",
      "Avg Open error  : 0.0\n",
      "Avg Close error : 0.0\n",
      "Avg High error  : 0.0\n",
      "Avg Low error   : 0.0\n",
      "Avg Volume error: 0.0\n"
     ]
    },
    {
     "name": "stderr",
     "output_type": "stream",
     "text": [
      "100%|█████████████████████████████████████████████████████████████████████████████████████████████████████████████████████████████████████████████████████████████████████████████████████████████| 1/1 [00:00<00:00,  1.75it/s]\n",
      "/app/helpers/hsql_implementation.py:582: UserWarning: pandas only supports SQLAlchemy connectable (engine/connection) or database string URI or sqlite3 DBAPI2 connection. Other DBAPI2 objects are not tested. Please consider using SQLAlchemy.\n",
      "  df = pd.read_sql_query(query, connection)\n"
     ]
    },
    {
     "name": "stdout",
     "output_type": "stream",
     "text": [
      "Error % for symbol: DYDX_USD\n",
      "Avg Open error  : 0.0\n",
      "Avg Close error : 0.0\n",
      "Avg High error  : 0.0\n",
      "Avg Low error   : 0.0\n",
      "Avg Volume error: 0.0\n"
     ]
    },
    {
     "name": "stderr",
     "output_type": "stream",
     "text": [
      "100%|█████████████████████████████████████████████████████████████████████████████████████████████████████████████████████████████████████████████████████████████████████████████████████████████| 1/1 [00:00<00:00,  1.77it/s]\n",
      "/app/helpers/hsql_implementation.py:582: UserWarning: pandas only supports SQLAlchemy connectable (engine/connection) or database string URI or sqlite3 DBAPI2 connection. Other DBAPI2 objects are not tested. Please consider using SQLAlchemy.\n",
      "  df = pd.read_sql_query(query, connection)\n"
     ]
    },
    {
     "name": "stdout",
     "output_type": "stream",
     "text": [
      "Error % for symbol: DOT_USD\n",
      "Avg Open error  : 0.0\n",
      "Avg Close error : 0.0\n",
      "Avg High error  : 0.0\n",
      "Avg Low error   : 0.0\n",
      "Avg Volume error: 0.0\n"
     ]
    },
    {
     "name": "stderr",
     "output_type": "stream",
     "text": [
      "100%|█████████████████████████████████████████████████████████████████████████████████████████████████████████████████████████████████████████████████████████████████████████████████████████████| 1/1 [00:00<00:00,  1.68it/s]\n",
      "/app/helpers/hsql_implementation.py:582: UserWarning: pandas only supports SQLAlchemy connectable (engine/connection) or database string URI or sqlite3 DBAPI2 connection. Other DBAPI2 objects are not tested. Please consider using SQLAlchemy.\n",
      "  df = pd.read_sql_query(query, connection)\n"
     ]
    },
    {
     "name": "stdout",
     "output_type": "stream",
     "text": [
      "Error % for symbol: LINK_USD\n",
      "Avg Open error  : 0.0\n",
      "Avg Close error : 0.0\n",
      "Avg High error  : 0.0\n",
      "Avg Low error   : 0.0\n",
      "Avg Volume error: 0.0\n"
     ]
    },
    {
     "name": "stderr",
     "output_type": "stream",
     "text": [
      "100%|█████████████████████████████████████████████████████████████████████████████████████████████████████████████████████████████████████████████████████████████████████████████████████████████| 1/1 [00:00<00:00,  1.77it/s]\n",
      "/app/helpers/hsql_implementation.py:582: UserWarning: pandas only supports SQLAlchemy connectable (engine/connection) or database string URI or sqlite3 DBAPI2 connection. Other DBAPI2 objects are not tested. Please consider using SQLAlchemy.\n",
      "  df = pd.read_sql_query(query, connection)\n"
     ]
    },
    {
     "name": "stdout",
     "output_type": "stream",
     "text": [
      "Error % for symbol: XRP_USD\n",
      "Avg Open error  : 0.0\n",
      "Avg Close error : 0.0\n",
      "Avg High error  : 0.0\n",
      "Avg Low error   : 0.0\n",
      "Avg Volume error: 0.0\n"
     ]
    },
    {
     "name": "stderr",
     "output_type": "stream",
     "text": [
      "100%|█████████████████████████████████████████████████████████████████████████████████████████████████████████████████████████████████████████████████████████████████████████████████████████████| 1/1 [00:00<00:00,  1.61it/s]\n",
      "/app/helpers/hsql_implementation.py:582: UserWarning: pandas only supports SQLAlchemy connectable (engine/connection) or database string URI or sqlite3 DBAPI2 connection. Other DBAPI2 objects are not tested. Please consider using SQLAlchemy.\n",
      "  df = pd.read_sql_query(query, connection)\n"
     ]
    },
    {
     "name": "stdout",
     "output_type": "stream",
     "text": [
      "Error % for symbol: RUNE_USD\n",
      "Avg Open error  : 0.0\n",
      "Avg Close error : 0.0\n",
      "Avg High error  : 0.0\n",
      "Avg Low error   : 0.0\n",
      "Avg Volume error: 0.0\n"
     ]
    },
    {
     "name": "stderr",
     "output_type": "stream",
     "text": [
      "100%|█████████████████████████████████████████████████████████████████████████████████████████████████████████████████████████████████████████████████████████████████████████████████████████████| 1/1 [00:00<00:00,  1.68it/s]\n",
      "/app/helpers/hsql_implementation.py:582: UserWarning: pandas only supports SQLAlchemy connectable (engine/connection) or database string URI or sqlite3 DBAPI2 connection. Other DBAPI2 objects are not tested. Please consider using SQLAlchemy.\n",
      "  df = pd.read_sql_query(query, connection)\n"
     ]
    },
    {
     "name": "stdout",
     "output_type": "stream",
     "text": [
      "Error % for symbol: NEAR_USD\n",
      "Avg Open error  : 0.0\n",
      "Avg Close error : 0.0\n",
      "Avg High error  : 0.0\n",
      "Avg Low error   : 0.0\n",
      "Avg Volume error: 0.0\n"
     ]
    },
    {
     "name": "stderr",
     "output_type": "stream",
     "text": [
      "100%|█████████████████████████████████████████████████████████████████████████████████████████████████████████████████████████████████████████████████████████████████████████████████████████████| 1/1 [00:00<00:00,  1.71it/s]\n",
      "/app/helpers/hsql_implementation.py:582: UserWarning: pandas only supports SQLAlchemy connectable (engine/connection) or database string URI or sqlite3 DBAPI2 connection. Other DBAPI2 objects are not tested. Please consider using SQLAlchemy.\n",
      "  df = pd.read_sql_query(query, connection)\n"
     ]
    },
    {
     "name": "stdout",
     "output_type": "stream",
     "text": [
      "Error % for symbol: FTM_USD\n",
      "Avg Open error  : 0.0\n",
      "Avg Close error : 0.0\n",
      "Avg High error  : 0.0\n",
      "Avg Low error   : 0.0\n",
      "Avg Volume error: 0.0\n"
     ]
    },
    {
     "name": "stderr",
     "output_type": "stream",
     "text": [
      "100%|█████████████████████████████████████████████████████████████████████████████████████████████████████████████████████████████████████████████████████████████████████████████████████████████| 1/1 [00:00<00:00,  1.81it/s]\n",
      "/app/helpers/hsql_implementation.py:582: UserWarning: pandas only supports SQLAlchemy connectable (engine/connection) or database string URI or sqlite3 DBAPI2 connection. Other DBAPI2 objects are not tested. Please consider using SQLAlchemy.\n",
      "  df = pd.read_sql_query(query, connection)\n"
     ]
    },
    {
     "name": "stdout",
     "output_type": "stream",
     "text": [
      "Error % for symbol: WAVES_USD\n",
      "Avg Open error  : 0.0\n",
      "Avg Close error : 0.0\n",
      "Avg High error  : 0.0\n",
      "Avg Low error   : 0.0\n",
      "Avg Volume error: 0.0\n"
     ]
    },
    {
     "name": "stderr",
     "output_type": "stream",
     "text": [
      "100%|█████████████████████████████████████████████████████████████████████████████████████████████████████████████████████████████████████████████████████████████████████████████████████████████| 1/1 [00:00<00:00,  1.71it/s]\n",
      "/app/helpers/hsql_implementation.py:582: UserWarning: pandas only supports SQLAlchemy connectable (engine/connection) or database string URI or sqlite3 DBAPI2 connection. Other DBAPI2 objects are not tested. Please consider using SQLAlchemy.\n",
      "  df = pd.read_sql_query(query, connection)\n"
     ]
    },
    {
     "name": "stdout",
     "output_type": "stream",
     "text": [
      "Error % for symbol: AXS_USD\n",
      "Avg Open error  : 0.0\n",
      "Avg Close error : 0.0\n",
      "Avg High error  : 0.0\n",
      "Avg Low error   : 0.0\n",
      "Avg Volume error: 0.0\n"
     ]
    },
    {
     "name": "stderr",
     "output_type": "stream",
     "text": [
      "100%|█████████████████████████████████████████████████████████████████████████████████████████████████████████████████████████████████████████████████████████████████████████████████████████████| 1/1 [00:00<00:00,  1.58it/s]\n",
      "/app/helpers/hsql_implementation.py:582: UserWarning: pandas only supports SQLAlchemy connectable (engine/connection) or database string URI or sqlite3 DBAPI2 connection. Other DBAPI2 objects are not tested. Please consider using SQLAlchemy.\n",
      "  df = pd.read_sql_query(query, connection)\n"
     ]
    },
    {
     "name": "stdout",
     "output_type": "stream",
     "text": [
      "Error % for symbol: OGN_USD\n",
      "Avg Open error  : 0.0\n",
      "Avg Close error : 0.0\n",
      "Avg High error  : 0.0\n",
      "Avg Low error   : 0.0\n",
      "Avg Volume error: 0.0\n"
     ]
    },
    {
     "name": "stderr",
     "output_type": "stream",
     "text": [
      "100%|█████████████████████████████████████████████████████████████████████████████████████████████████████████████████████████████████████████████████████████████████████████████████████████████| 1/1 [00:00<00:00,  1.82it/s]\n",
      "/app/helpers/hsql_implementation.py:582: UserWarning: pandas only supports SQLAlchemy connectable (engine/connection) or database string URI or sqlite3 DBAPI2 connection. Other DBAPI2 objects are not tested. Please consider using SQLAlchemy.\n",
      "  df = pd.read_sql_query(query, connection)\n"
     ]
    },
    {
     "name": "stdout",
     "output_type": "stream",
     "text": [
      "Error % for symbol: DOGE_USD\n",
      "Avg Open error  : 0.0\n",
      "Avg Close error : 0.0\n",
      "Avg High error  : 0.0\n",
      "Avg Low error   : 0.0\n",
      "Avg Volume error: 0.0\n"
     ]
    },
    {
     "name": "stderr",
     "output_type": "stream",
     "text": [
      "100%|█████████████████████████████████████████████████████████████████████████████████████████████████████████████████████████████████████████████████████████████████████████████████████████████| 1/1 [00:00<00:00,  1.81it/s]"
     ]
    },
    {
     "name": "stdout",
     "output_type": "stream",
     "text": [
      "Error % for symbol: SOL_USD\n",
      "Avg Open error  : 0.0\n",
      "Avg Close error : 0.0\n",
      "Avg High error  : 0.0\n",
      "Avg Low error   : 0.0\n",
      "Avg Volume error: 0.0\n"
     ]
    },
    {
     "name": "stderr",
     "output_type": "stream",
     "text": [
      "\n"
     ]
    }
   ],
   "source": [
    "start_time = \"2024-01-17T20:10:00+05:30\"\n",
    "end_time = \"2024-01-17T20:40:00+05:30\"\n",
    "exchange = imvcdecrex.CryptocomCcxtExtractor(\"cryptocom\", \"futures\")\n",
    "for symbol in universe_list:\n",
    "    ohlcv_cross_data_qa(start_time, end_time, symbol, exchange)"
   ]
  },
  {
   "cell_type": "code",
   "execution_count": null,
   "id": "059f3623",
   "metadata": {
    "ExecuteTime": {
     "end_time": "2024-01-17T07:22:14.149306Z",
     "start_time": "2024-01-17T07:22:14.144277Z"
    }
   },
   "outputs": [],
   "source": []
  }
 ],
 "metadata": {
  "kernelspec": {
   "display_name": "Python 3 (ipykernel)",
   "language": "python",
   "name": "python3"
  },
  "language_info": {
   "codemirror_mode": {
    "name": "ipython",
    "version": 3
   },
   "file_extension": ".py",
   "mimetype": "text/x-python",
   "name": "python",
   "nbconvert_exporter": "python",
   "pygments_lexer": "ipython3",
   "version": "3.9.5"
  },
  "toc": {
   "base_numbering": 1,
   "nav_menu": {},
   "number_sections": true,
   "sideBar": true,
   "skip_h1_title": false,
   "title_cell": "Table of Contents",
   "title_sidebar": "Contents",
   "toc_cell": false,
   "toc_position": {},
   "toc_section_display": true,
   "toc_window_display": false
  }
 },
 "nbformat": 4,
 "nbformat_minor": 5
}
