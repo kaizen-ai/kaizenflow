{
 "cells": [
  {
   "cell_type": "code",
   "execution_count": 8,
   "id": "a2fe1943",
   "metadata": {
    "ExecuteTime": {
     "end_time": "2021-06-27T12:45:41.546607Z",
     "start_time": "2021-06-27T12:45:41.542416Z"
    }
   },
   "outputs": [
    {
     "name": "stdout",
     "output_type": "stream",
     "text": [
      "The autoreload extension is already loaded. To reload it, use:\n",
      "  %reload_ext autoreload\n"
     ]
    }
   ],
   "source": [
    "%load_ext autoreload\n",
    "%autoreload 2\n",
    "\n",
    "import datetime\n",
    "import os\n",
    "\n",
    "import pandas as pd\n",
    "import s3fs\n",
    "from pyarrow import parquet\n",
    "\n",
    "# import helpers.hs3 as hs3\n",
    "import im_v2.ig.data.client.historical_bars as imvidchiba"
   ]
  },
  {
   "cell_type": "code",
   "execution_count": null,
   "id": "95384419",
   "metadata": {
    "ExecuteTime": {
     "end_time": "2021-06-25T00:44:00.635099Z",
     "start_time": "2021-06-25T00:44:00.632735Z"
    }
   },
   "outputs": [],
   "source": [
    "#!aws s3 ls --profile default s3://iglp-core-data/ds/ext/bars/taq/v1.0-prod/60/"
   ]
  },
  {
   "cell_type": "code",
   "execution_count": null,
   "id": "36a1c868",
   "metadata": {
    "ExecuteTime": {
     "end_time": "2021-06-25T00:44:02.091960Z",
     "start_time": "2021-06-25T00:44:02.089218Z"
    }
   },
   "outputs": [],
   "source": [
    "root_path = \"s3://iglp-core-data/ds/ext/bars/taq/v1.0-prod/60/\"\n",
    "\n",
    "# filesystem = s3fs.S3FileSystem(profile=\"default\") if path.startswith('s3://') else None\n",
    "# filesystem.ls(path)\n",
    "# dataset = parquet.ParquetDataset(args.path, filesystem=filesystem)\n",
    "\n",
    "s3 = s3fs.S3FileSystem(profile=\"default\")\n",
    "\n",
    "# s3.ls(path)"
   ]
  },
  {
   "cell_type": "code",
   "execution_count": null,
   "id": "35c4e10a",
   "metadata": {
    "ExecuteTime": {
     "end_time": "2021-06-17T11:06:51.302174Z",
     "start_time": "2021-06-17T11:06:49.389Z"
    }
   },
   "outputs": [],
   "source": [
    "# path = \"s3://iglp-core-data/ds/ext/bars/taq/v1.0-prod/60/\"\n",
    "\n",
    "# #s3 = hs3.get_s3fs(aws_profile=\"saml-spm-sasm\")\n",
    "# s3 = hs3.get_s3fs(aws_profile=\"default\")\n",
    "# print(s3)\n",
    "# #s3.ls(\"s3://iglp-core-data/\")\n",
    "# #dates = hs3.listdir(PATH, mode=\"non-recursive\", aws_profile=\"saml-spm-sasm\")\n",
    "\n",
    "# dates = s3.ls(path)"
   ]
  },
  {
   "cell_type": "code",
   "execution_count": null,
   "id": "3124d956",
   "metadata": {
    "ExecuteTime": {
     "end_time": "2021-06-17T12:18:03.687584Z",
     "start_time": "2021-06-17T12:17:20.071100Z"
    }
   },
   "outputs": [],
   "source": [
    "filesystem = s3fs.S3FileSystem()\n",
    "igid = 11000\n",
    "filters = []\n",
    "for igid in range(igid, igid + 2000):\n",
    "    filters.append([(\"igid\", \"=\", igid)])\n",
    "print(len(filters))\n",
    "date = \"20200106\"\n",
    "columns = \"start_time end_time ticker close volume\".split()\n",
    "\n",
    "path = os.path.join(root_path, date, \"data.parquet\")\n",
    "dataset = parquet.ParquetDataset(\n",
    "    path, filesystem=filesystem, filters=filters, use_ligacy_dataset=False\n",
    ")\n",
    "# table = dataset.read()#columns=columns)\n",
    "table = dataset.read(columns=columns)\n",
    "df = table.to_pandas()\n",
    "print(df.shape)\n",
    "print(len(df[\"igid\"].unique()))"
   ]
  },
  {
   "cell_type": "code",
   "execution_count": null,
   "id": "dc00d758",
   "metadata": {
    "ExecuteTime": {
     "end_time": "2021-06-22T22:35:23.798753Z",
     "start_time": "2021-06-22T22:35:22.255566Z"
    }
   },
   "outputs": [],
   "source": [
    "filesystem = s3fs.S3FileSystem()\n",
    "igid = 10971\n",
    "filters = [(\"igid\", \"=\", igid)]\n",
    "print(len(filters))\n",
    "date = \"20200106\"\n",
    "columns = \"start_time end_time ticker close volume igid\".split()\n",
    "\n",
    "path = os.path.join(root_path, date, \"data.parquet\")\n",
    "dataset = parquet.ParquetDataset(\n",
    "    path, filesystem=filesystem, filters=filters, use_ligacy_dataset=False\n",
    ")\n",
    "# table = dataset.read()#columns=columns)\n",
    "table = dataset.read(columns=columns)\n",
    "df = table.to_pandas()\n",
    "print(df.shape)\n",
    "print(len(df[\"igid\"].unique()))"
   ]
  },
  {
   "cell_type": "code",
   "execution_count": null,
   "id": "d1ed8ace",
   "metadata": {
    "ExecuteTime": {
     "end_time": "2021-06-25T00:44:07.942095Z",
     "start_time": "2021-06-25T00:44:04.730979Z"
    }
   },
   "outputs": [],
   "source": [
    "filesystem = s3fs.S3FileSystem()\n",
    "date = \"20210106\"\n",
    "columns = \"start_time end_time ticker close volume igid\".split()\n",
    "filters = None\n",
    "path = os.path.join(root_path, date, \"data.parquet\")\n",
    "dataset = parquet.ParquetDataset(\n",
    "    path, filesystem=filesystem, filters=filters, use_ligacy_dataset=False\n",
    ")\n",
    "# table = dataset.read()#columns=columns)\n",
    "table = dataset.read(columns=columns)\n",
    "df = table.to_pandas()\n",
    "print(df.shape)\n",
    "print(len(df[\"igid\"].unique()))"
   ]
  },
  {
   "cell_type": "code",
   "execution_count": null,
   "id": "c6c7abf4",
   "metadata": {
    "ExecuteTime": {
     "end_time": "2021-06-25T00:46:16.439796Z",
     "start_time": "2021-06-25T00:46:16.423942Z"
    }
   },
   "outputs": [],
   "source": [
    "df.head()"
   ]
  },
  {
   "cell_type": "code",
   "execution_count": null,
   "id": "10a866a3",
   "metadata": {
    "ExecuteTime": {
     "end_time": "2021-06-25T00:45:35.938240Z",
     "start_time": "2021-06-25T00:45:35.600650Z"
    }
   },
   "outputs": [],
   "source": [
    "df.dropna(inplace=True)"
   ]
  },
  {
   "cell_type": "code",
   "execution_count": null,
   "id": "bfa024cd",
   "metadata": {
    "ExecuteTime": {
     "end_time": "2021-06-25T00:45:46.690491Z",
     "start_time": "2021-06-25T00:45:36.930848Z"
    }
   },
   "outputs": [],
   "source": [
    "imvidchiba.process_data(df)"
   ]
  },
  {
   "cell_type": "code",
   "execution_count": null,
   "id": "0a692773",
   "metadata": {
    "ExecuteTime": {
     "end_time": "2021-06-25T00:50:00.883592Z",
     "start_time": "2021-06-25T00:50:00.747060Z"
    }
   },
   "outputs": [],
   "source": [
    "ticker_map = df[[\"igid\", \"ticker\"]].groupby(\"igid\").first()[\"ticker\"]\n",
    "\n",
    "ticker_map"
   ]
  },
  {
   "cell_type": "code",
   "execution_count": null,
   "id": "bfc65e24",
   "metadata": {
    "ExecuteTime": {
     "end_time": "2021-06-25T11:41:03.003384Z",
     "start_time": "2021-06-25T11:41:02.997750Z"
    }
   },
   "outputs": [],
   "source": [
    "igid_by_trading_vol.head(100)[\"ticker\"].to_csv(\"top_100_by_trading_volume.csv\")"
   ]
  },
  {
   "cell_type": "code",
   "execution_count": null,
   "id": "728eb22a",
   "metadata": {
    "ExecuteTime": {
     "end_time": "2021-06-25T11:50:53.258808Z",
     "start_time": "2021-06-25T11:50:53.254227Z"
    }
   },
   "outputs": [],
   "source": [
    "df_tmp.loc[13684]"
   ]
  },
  {
   "cell_type": "code",
   "execution_count": 20,
   "id": "8be48495",
   "metadata": {
    "ExecuteTime": {
     "end_time": "2021-06-27T12:48:56.022956Z",
     "start_time": "2021-06-27T12:48:54.815162Z"
    }
   },
   "outputs": [
    {
     "data": {
      "application/vnd.jupyter.widget-view+json": {
       "model_id": "4ebe586973f941869553c6658d9a9f59",
       "version_major": 2,
       "version_minor": 0
      },
      "text/plain": [
       "Retrieving TAQ data:   0%|          | 0/1 [00:00<?, ?it/s]"
      ]
     },
     "metadata": {},
     "output_type": "display_data"
    }
   ],
   "source": [
    "# igids = None\n",
    "igids = [13684]\n",
    "dates = [datetime.date(2021, 1, 6)]\n",
    "columns = [\"close\", \"volume\", \"ticker\"]\n",
    "\n",
    "df = imvidchiba.get_cached_bar_data_for_date_interval(\n",
    "    igids, dates, columns=columns\n",
    ")"
   ]
  },
  {
   "cell_type": "code",
   "execution_count": 21,
   "id": "d518c93f",
   "metadata": {
    "ExecuteTime": {
     "end_time": "2021-06-27T12:48:57.981110Z",
     "start_time": "2021-06-27T12:48:57.965789Z"
    }
   },
   "outputs": [
    {
     "name": "stdout",
     "output_type": "stream",
     "text": [
      "min index=2021-01-06 09:01:00-05:00\n",
      "max index=2021-01-06 16:59:00-05:00\n",
      "num unique index=479\n",
      "df.shape=(479, 4)\n",
      "igids=None\n",
      "found igids=1\n"
     ]
    }
   ],
   "source": [
    "print(imvidchiba.compute_bar_data_stats(df, igid))"
   ]
  },
  {
   "cell_type": "code",
   "execution_count": 22,
   "id": "1bff9b79",
   "metadata": {
    "ExecuteTime": {
     "end_time": "2021-06-27T12:49:00.244174Z",
     "start_time": "2021-06-27T12:49:00.225417Z"
    }
   },
   "outputs": [
    {
     "data": {
      "text/html": [
       "<div>\n",
       "<style scoped>\n",
       "    .dataframe tbody tr th:only-of-type {\n",
       "        vertical-align: middle;\n",
       "    }\n",
       "\n",
       "    .dataframe tbody tr th {\n",
       "        vertical-align: top;\n",
       "    }\n",
       "\n",
       "    .dataframe thead th {\n",
       "        text-align: right;\n",
       "    }\n",
       "</style>\n",
       "<table border=\"1\" class=\"dataframe\">\n",
       "  <thead>\n",
       "    <tr style=\"text-align: right;\">\n",
       "      <th></th>\n",
       "      <th>close</th>\n",
       "      <th>volume</th>\n",
       "      <th>ticker</th>\n",
       "      <th>igid</th>\n",
       "    </tr>\n",
       "    <tr>\n",
       "      <th>end_time</th>\n",
       "      <th></th>\n",
       "      <th></th>\n",
       "      <th></th>\n",
       "      <th></th>\n",
       "    </tr>\n",
       "  </thead>\n",
       "  <tbody>\n",
       "    <tr>\n",
       "      <th>2021-01-06 09:01:00-05:00</th>\n",
       "      <td>NaN</td>\n",
       "      <td>0</td>\n",
       "      <td>TSLA</td>\n",
       "      <td>13684</td>\n",
       "    </tr>\n",
       "    <tr>\n",
       "      <th>2021-01-06 09:02:00-05:00</th>\n",
       "      <td>NaN</td>\n",
       "      <td>0</td>\n",
       "      <td>TSLA</td>\n",
       "      <td>13684</td>\n",
       "    </tr>\n",
       "    <tr>\n",
       "      <th>2021-01-06 09:03:00-05:00</th>\n",
       "      <td>NaN</td>\n",
       "      <td>0</td>\n",
       "      <td>TSLA</td>\n",
       "      <td>13684</td>\n",
       "    </tr>\n",
       "  </tbody>\n",
       "</table>\n",
       "</div>"
      ],
      "text/plain": [
       "                           close  volume ticker   igid\n",
       "end_time                                              \n",
       "2021-01-06 09:01:00-05:00    NaN       0   TSLA  13684\n",
       "2021-01-06 09:02:00-05:00    NaN       0   TSLA  13684\n",
       "2021-01-06 09:03:00-05:00    NaN       0   TSLA  13684"
      ]
     },
     "execution_count": 22,
     "metadata": {},
     "output_type": "execute_result"
    }
   ],
   "source": [
    "df.head(3)"
   ]
  },
  {
   "cell_type": "code",
   "execution_count": 23,
   "id": "f1fd30fd",
   "metadata": {
    "ExecuteTime": {
     "end_time": "2021-06-27T12:49:02.691463Z",
     "start_time": "2021-06-27T12:49:02.661126Z"
    }
   },
   "outputs": [
    {
     "name": "stdout",
     "output_type": "stream",
     "text": [
      "         volume       close ticker\n",
      "igid                              \n",
      "13684  41558750  764.893882   TSLA\n"
     ]
    },
    {
     "data": {
      "text/html": [
       "<div>\n",
       "<style scoped>\n",
       "    .dataframe tbody tr th:only-of-type {\n",
       "        vertical-align: middle;\n",
       "    }\n",
       "\n",
       "    .dataframe tbody tr th {\n",
       "        vertical-align: top;\n",
       "    }\n",
       "\n",
       "    .dataframe thead th {\n",
       "        text-align: right;\n",
       "    }\n",
       "</style>\n",
       "<table border=\"1\" class=\"dataframe\">\n",
       "  <thead>\n",
       "    <tr style=\"text-align: right;\">\n",
       "      <th></th>\n",
       "      <th>volume</th>\n",
       "      <th>close</th>\n",
       "      <th>ticker</th>\n",
       "      <th>notional</th>\n",
       "    </tr>\n",
       "    <tr>\n",
       "      <th>igid</th>\n",
       "      <th></th>\n",
       "      <th></th>\n",
       "      <th></th>\n",
       "      <th></th>\n",
       "    </tr>\n",
       "  </thead>\n",
       "  <tbody>\n",
       "    <tr>\n",
       "      <th>13684</th>\n",
       "      <td>41558750</td>\n",
       "      <td>764.893882</td>\n",
       "      <td>TSLA</td>\n",
       "      <td>3.178803e+10</td>\n",
       "    </tr>\n",
       "  </tbody>\n",
       "</table>\n",
       "</div>"
      ],
      "text/plain": [
       "         volume       close ticker      notional\n",
       "igid                                            \n",
       "13684  41558750  764.893882   TSLA  3.178803e+10"
      ]
     },
     "execution_count": 23,
     "metadata": {},
     "output_type": "execute_result"
    }
   ],
   "source": [
    "volume = df.groupby(\"igid\")[[\"volume\"]].sum()\n",
    "price = df.groupby(\"igid\")[[\"close\"]].mean()\n",
    "ticker_map = df.groupby(\"igid\")[[\"ticker\"]].first()\n",
    "\n",
    "df_tmp = pd.concat([volume, price, ticker_map], axis=1)\n",
    "print(df_tmp.head())\n",
    "\n",
    "df_tmp[\"notional\"] = df_tmp[\"volume\"] * df_tmp[\"close\"]\n",
    "\n",
    "igid_by_trading_vol = df_tmp.sort_values(by=\"notional\", ascending=False)\n",
    "\n",
    "igid_by_trading_vol.head(100)"
   ]
  }
 ],
 "metadata": {
  "kernelspec": {
   "display_name": "Python 3",
   "language": "python",
   "name": "python3"
  },
  "language_info": {
   "codemirror_mode": {
    "name": "ipython",
    "version": 3
   },
   "file_extension": ".py",
   "mimetype": "text/x-python",
   "name": "python",
   "nbconvert_exporter": "python",
   "pygments_lexer": "ipython3",
   "version": "3.8.5"
  },
  "toc": {
   "base_numbering": 1,
   "nav_menu": {},
   "number_sections": true,
   "sideBar": true,
   "skip_h1_title": false,
   "title_cell": "Table of Contents",
   "title_sidebar": "Contents",
   "toc_cell": false,
   "toc_position": {},
   "toc_section_display": true,
   "toc_window_display": false
  }
 },
 "nbformat": 4,
 "nbformat_minor": 5
}
