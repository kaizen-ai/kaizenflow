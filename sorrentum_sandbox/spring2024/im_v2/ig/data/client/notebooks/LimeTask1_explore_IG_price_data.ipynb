{
 "cells": [
  {
   "cell_type": "markdown",
   "id": "af4bb43c",
   "metadata": {},
   "source": [
    "## Description\n",
    "\n",
    "Analyzes TAQ bar prices from IG"
   ]
  },
  {
   "cell_type": "code",
   "execution_count": 2,
   "id": "2d6ff3c9",
   "metadata": {
    "ExecuteTime": {
     "end_time": "2021-07-16T17:34:15.459179Z",
     "start_time": "2021-07-16T17:34:14.264957Z"
    }
   },
   "outputs": [],
   "source": [
    "import datetime\n",
    "\n",
    "import pandas as pd\n",
    "import s3fs\n",
    "import seaborn as sns\n",
    "import statsmodels\n",
    "import statsmodels.api\n",
    "from pyarrow import parquet"
   ]
  },
  {
   "cell_type": "markdown",
   "id": "a784c788",
   "metadata": {},
   "source": [
    "# IG data"
   ]
  },
  {
   "cell_type": "code",
   "execution_count": 5,
   "id": "c50d0d50",
   "metadata": {
    "ExecuteTime": {
     "end_time": "2021-07-16T17:36:37.573139Z",
     "start_time": "2021-07-16T17:36:24.978570Z"
    }
   },
   "outputs": [],
   "source": [
    "# Load one day of data: 2019-01-07 is a Monday.\n",
    "\n",
    "# path = \"s3://iglp-core-data/ds/ext/bars/taq/v1.0-prod/300/20210603/data.parquet\"\n",
    "# path = \"s3://iglp-core-data/ds/ext/bars/taq/v1.0-prod/300/20190107/data.parquet\"\n",
    "path = \"s3://iglp-core-data/ds/ext/bars/taq/v1.0-prod/60/20190107/data.parquet\"\n",
    "columns = None\n",
    "filesystem = s3fs.S3FileSystem() if path.startswith(\"s3://\") else None\n",
    "dataset = parquet.ParquetDataset(path, filesystem=filesystem)\n",
    "table = dataset.read(columns=columns)\n",
    "df_taq_bars = table.to_pandas()\n",
    "# .to_csv(sys.stdout, index=False, quoting=csv.QUOTE_NONNUMERIC)"
   ]
  },
  {
   "cell_type": "code",
   "execution_count": 6,
   "id": "4cb3fd48",
   "metadata": {
    "ExecuteTime": {
     "end_time": "2021-07-16T17:39:18.168566Z",
     "start_time": "2021-07-16T17:39:17.772817Z"
    }
   },
   "outputs": [
    {
     "name": "stdout",
     "output_type": "stream",
     "text": [
      "df_taq_bars.shape= (4079164, 50)\n",
      "Index(['vendor_date', 'interval', 'start_time', 'end_time', 'ticker',\n",
      "       'currency', 'open', 'close', 'low', 'high', 'volume', 'notional',\n",
      "       'last_trade_time', 'all_day_volume', 'all_day_notional', 'day_volume',\n",
      "       'day_notional', 'day_vol_prc_sqr', 'day_num_trade', 'bid', 'ask',\n",
      "       'bid_size', 'ask_size', 'good_bid', 'good_ask', 'good_bid_size',\n",
      "       'good_ask_size', 'day_spread', 'day_num_spread', 'day_low', 'day_high',\n",
      "       'last_trade', 'last_trade_volume', 'bid_high', 'ask_high', 'bid_low',\n",
      "       'ask_low', 'sided_bid_count', 'sided_bid_shares', 'sided_bid_notional',\n",
      "       'day_sided_bid_count', 'day_sided_bid_shares', 'day_sided_bid_notional',\n",
      "       'sided_ask_count', 'sided_ask_shares', 'sided_ask_notional',\n",
      "       'day_sided_ask_count', 'day_sided_ask_shares', 'day_sided_ask_notional',\n",
      "       'igid'],\n",
      "      dtype='object')\n",
      "tickers= 8516\n",
      "igid= 8476\n",
      "currency= ['USD']\n"
     ]
    }
   ],
   "source": [
    "print(\"df_taq_bars.shape=\", df_taq_bars.shape)\n",
    "\n",
    "print(df_taq_bars.columns)\n",
    "\n",
    "print(\"tickers=\", len(df_taq_bars[\"ticker\"].unique()))\n",
    "\n",
    "print(\"igid=\", len(df_taq_bars[\"igid\"].unique()))\n",
    "\n",
    "print(\"currency=\", df_taq_bars[\"currency\"].unique())"
   ]
  },
  {
   "cell_type": "code",
   "execution_count": 12,
   "id": "79b7d5d7",
   "metadata": {
    "ExecuteTime": {
     "end_time": "2021-07-16T17:42:36.084219Z",
     "start_time": "2021-07-16T17:42:36.082084Z"
    }
   },
   "outputs": [],
   "source": [
    "# print(\"\\n\".join(map(str, df_taq_bars.iloc[0].values)))"
   ]
  },
  {
   "cell_type": "code",
   "execution_count": 13,
   "id": "60268110",
   "metadata": {
    "ExecuteTime": {
     "end_time": "2021-07-16T17:42:37.929204Z",
     "start_time": "2021-07-16T17:42:37.894372Z"
    },
    "scrolled": true
   },
   "outputs": [
    {
     "data": {
      "text/html": [
       "<div>\n",
       "<style scoped>\n",
       "    .dataframe tbody tr th:only-of-type {\n",
       "        vertical-align: middle;\n",
       "    }\n",
       "\n",
       "    .dataframe tbody tr th {\n",
       "        vertical-align: top;\n",
       "    }\n",
       "\n",
       "    .dataframe thead th {\n",
       "        text-align: right;\n",
       "    }\n",
       "</style>\n",
       "<table border=\"1\" class=\"dataframe\">\n",
       "  <thead>\n",
       "    <tr style=\"text-align: right;\">\n",
       "      <th></th>\n",
       "      <th>vendor_date</th>\n",
       "      <th>interval</th>\n",
       "      <th>start_time</th>\n",
       "      <th>end_time</th>\n",
       "      <th>ticker</th>\n",
       "      <th>currency</th>\n",
       "      <th>open</th>\n",
       "      <th>close</th>\n",
       "      <th>low</th>\n",
       "      <th>high</th>\n",
       "      <th>...</th>\n",
       "      <th>day_sided_bid_count</th>\n",
       "      <th>day_sided_bid_shares</th>\n",
       "      <th>day_sided_bid_notional</th>\n",
       "      <th>sided_ask_count</th>\n",
       "      <th>sided_ask_shares</th>\n",
       "      <th>sided_ask_notional</th>\n",
       "      <th>day_sided_ask_count</th>\n",
       "      <th>day_sided_ask_shares</th>\n",
       "      <th>day_sided_ask_notional</th>\n",
       "      <th>igid</th>\n",
       "    </tr>\n",
       "  </thead>\n",
       "  <tbody>\n",
       "    <tr>\n",
       "      <th>0</th>\n",
       "      <td>2019-01-07</td>\n",
       "      <td>60</td>\n",
       "      <td>1546869600</td>\n",
       "      <td>1546869660</td>\n",
       "      <td>A</td>\n",
       "      <td>USD</td>\n",
       "      <td>NaN</td>\n",
       "      <td>NaN</td>\n",
       "      <td>NaN</td>\n",
       "      <td>NaN</td>\n",
       "      <td>...</td>\n",
       "      <td>0</td>\n",
       "      <td>0</td>\n",
       "      <td>0.0</td>\n",
       "      <td>0</td>\n",
       "      <td>0</td>\n",
       "      <td>0.0</td>\n",
       "      <td>0</td>\n",
       "      <td>0</td>\n",
       "      <td>0.0</td>\n",
       "      <td>16572.0</td>\n",
       "    </tr>\n",
       "    <tr>\n",
       "      <th>1</th>\n",
       "      <td>2019-01-07</td>\n",
       "      <td>60</td>\n",
       "      <td>1546869600</td>\n",
       "      <td>1546869660</td>\n",
       "      <td>AA</td>\n",
       "      <td>USD</td>\n",
       "      <td>NaN</td>\n",
       "      <td>NaN</td>\n",
       "      <td>NaN</td>\n",
       "      <td>NaN</td>\n",
       "      <td>...</td>\n",
       "      <td>0</td>\n",
       "      <td>0</td>\n",
       "      <td>0.0</td>\n",
       "      <td>0</td>\n",
       "      <td>0</td>\n",
       "      <td>0.0</td>\n",
       "      <td>0</td>\n",
       "      <td>0</td>\n",
       "      <td>0.0</td>\n",
       "      <td>1218568.0</td>\n",
       "    </tr>\n",
       "    <tr>\n",
       "      <th>2</th>\n",
       "      <td>2019-01-07</td>\n",
       "      <td>60</td>\n",
       "      <td>1546869600</td>\n",
       "      <td>1546869660</td>\n",
       "      <td>AAAU</td>\n",
       "      <td>USD</td>\n",
       "      <td>NaN</td>\n",
       "      <td>NaN</td>\n",
       "      <td>NaN</td>\n",
       "      <td>NaN</td>\n",
       "      <td>...</td>\n",
       "      <td>0</td>\n",
       "      <td>0</td>\n",
       "      <td>0.0</td>\n",
       "      <td>0</td>\n",
       "      <td>0</td>\n",
       "      <td>0.0</td>\n",
       "      <td>0</td>\n",
       "      <td>0</td>\n",
       "      <td>0.0</td>\n",
       "      <td>1428781.0</td>\n",
       "    </tr>\n",
       "  </tbody>\n",
       "</table>\n",
       "<p>3 rows Ã 50 columns</p>\n",
       "</div>"
      ],
      "text/plain": [
       "  vendor_date  interval  start_time    end_time ticker currency  open  close  \\\n",
       "0  2019-01-07        60  1546869600  1546869660      A      USD   NaN    NaN   \n",
       "1  2019-01-07        60  1546869600  1546869660     AA      USD   NaN    NaN   \n",
       "2  2019-01-07        60  1546869600  1546869660   AAAU      USD   NaN    NaN   \n",
       "\n",
       "   low  high  ...  day_sided_bid_count  day_sided_bid_shares  \\\n",
       "0  NaN   NaN  ...                    0                     0   \n",
       "1  NaN   NaN  ...                    0                     0   \n",
       "2  NaN   NaN  ...                    0                     0   \n",
       "\n",
       "   day_sided_bid_notional  sided_ask_count  sided_ask_shares  \\\n",
       "0                     0.0                0                 0   \n",
       "1                     0.0                0                 0   \n",
       "2                     0.0                0                 0   \n",
       "\n",
       "   sided_ask_notional  day_sided_ask_count  day_sided_ask_shares  \\\n",
       "0                 0.0                    0                     0   \n",
       "1                 0.0                    0                     0   \n",
       "2                 0.0                    0                     0   \n",
       "\n",
       "   day_sided_ask_notional       igid  \n",
       "0                     0.0    16572.0  \n",
       "1                     0.0  1218568.0  \n",
       "2                     0.0  1428781.0  \n",
       "\n",
       "[3 rows x 50 columns]"
      ]
     },
     "metadata": {},
     "output_type": "display_data"
    },
    {
     "data": {
      "text/html": [
       "<div>\n",
       "<style scoped>\n",
       "    .dataframe tbody tr th:only-of-type {\n",
       "        vertical-align: middle;\n",
       "    }\n",
       "\n",
       "    .dataframe tbody tr th {\n",
       "        vertical-align: top;\n",
       "    }\n",
       "\n",
       "    .dataframe thead th {\n",
       "        text-align: right;\n",
       "    }\n",
       "</style>\n",
       "<table border=\"1\" class=\"dataframe\">\n",
       "  <thead>\n",
       "    <tr style=\"text-align: right;\">\n",
       "      <th></th>\n",
       "      <th>vendor_date</th>\n",
       "      <th>interval</th>\n",
       "      <th>start_time</th>\n",
       "      <th>end_time</th>\n",
       "      <th>ticker</th>\n",
       "      <th>currency</th>\n",
       "      <th>open</th>\n",
       "      <th>close</th>\n",
       "      <th>low</th>\n",
       "      <th>high</th>\n",
       "      <th>...</th>\n",
       "      <th>day_sided_bid_count</th>\n",
       "      <th>day_sided_bid_shares</th>\n",
       "      <th>day_sided_bid_notional</th>\n",
       "      <th>sided_ask_count</th>\n",
       "      <th>sided_ask_shares</th>\n",
       "      <th>sided_ask_notional</th>\n",
       "      <th>day_sided_ask_count</th>\n",
       "      <th>day_sided_ask_shares</th>\n",
       "      <th>day_sided_ask_notional</th>\n",
       "      <th>igid</th>\n",
       "    </tr>\n",
       "  </thead>\n",
       "  <tbody>\n",
       "    <tr>\n",
       "      <th>4079161</th>\n",
       "      <td>2019-01-07</td>\n",
       "      <td>60</td>\n",
       "      <td>1546898280</td>\n",
       "      <td>1546898340</td>\n",
       "      <td>ZXZZ.T</td>\n",
       "      <td>USD</td>\n",
       "      <td>NaN</td>\n",
       "      <td>NaN</td>\n",
       "      <td>NaN</td>\n",
       "      <td>NaN</td>\n",
       "      <td>...</td>\n",
       "      <td>8</td>\n",
       "      <td>1000</td>\n",
       "      <td>5.500900e+04</td>\n",
       "      <td>0</td>\n",
       "      <td>0</td>\n",
       "      <td>0.0</td>\n",
       "      <td>6</td>\n",
       "      <td>700</td>\n",
       "      <td>3.940000e+04</td>\n",
       "      <td>926565.0</td>\n",
       "    </tr>\n",
       "    <tr>\n",
       "      <th>4079162</th>\n",
       "      <td>2019-01-07</td>\n",
       "      <td>60</td>\n",
       "      <td>1546898280</td>\n",
       "      <td>1546898340</td>\n",
       "      <td>ZYME</td>\n",
       "      <td>USD</td>\n",
       "      <td>NaN</td>\n",
       "      <td>NaN</td>\n",
       "      <td>NaN</td>\n",
       "      <td>NaN</td>\n",
       "      <td>...</td>\n",
       "      <td>366</td>\n",
       "      <td>69447</td>\n",
       "      <td>1.060614e+06</td>\n",
       "      <td>0</td>\n",
       "      <td>0</td>\n",
       "      <td>0.0</td>\n",
       "      <td>722</td>\n",
       "      <td>120109</td>\n",
       "      <td>1.843956e+06</td>\n",
       "      <td>1228878.0</td>\n",
       "    </tr>\n",
       "    <tr>\n",
       "      <th>4079163</th>\n",
       "      <td>2019-01-07</td>\n",
       "      <td>60</td>\n",
       "      <td>1546898280</td>\n",
       "      <td>1546898340</td>\n",
       "      <td>ZYNE</td>\n",
       "      <td>USD</td>\n",
       "      <td>NaN</td>\n",
       "      <td>NaN</td>\n",
       "      <td>NaN</td>\n",
       "      <td>NaN</td>\n",
       "      <td>...</td>\n",
       "      <td>1036</td>\n",
       "      <td>224384</td>\n",
       "      <td>9.026236e+05</td>\n",
       "      <td>0</td>\n",
       "      <td>0</td>\n",
       "      <td>0.0</td>\n",
       "      <td>1331</td>\n",
       "      <td>223640</td>\n",
       "      <td>9.048678e+05</td>\n",
       "      <td>927406.0</td>\n",
       "    </tr>\n",
       "  </tbody>\n",
       "</table>\n",
       "<p>3 rows Ã 50 columns</p>\n",
       "</div>"
      ],
      "text/plain": [
       "        vendor_date  interval  start_time    end_time  ticker currency  open  \\\n",
       "4079161  2019-01-07        60  1546898280  1546898340  ZXZZ.T      USD   NaN   \n",
       "4079162  2019-01-07        60  1546898280  1546898340    ZYME      USD   NaN   \n",
       "4079163  2019-01-07        60  1546898280  1546898340    ZYNE      USD   NaN   \n",
       "\n",
       "         close  low  high  ...  day_sided_bid_count  day_sided_bid_shares  \\\n",
       "4079161    NaN  NaN   NaN  ...                    8                  1000   \n",
       "4079162    NaN  NaN   NaN  ...                  366                 69447   \n",
       "4079163    NaN  NaN   NaN  ...                 1036                224384   \n",
       "\n",
       "         day_sided_bid_notional  sided_ask_count  sided_ask_shares  \\\n",
       "4079161            5.500900e+04                0                 0   \n",
       "4079162            1.060614e+06                0                 0   \n",
       "4079163            9.026236e+05                0                 0   \n",
       "\n",
       "         sided_ask_notional  day_sided_ask_count  day_sided_ask_shares  \\\n",
       "4079161                 0.0                    6                   700   \n",
       "4079162                 0.0                  722                120109   \n",
       "4079163                 0.0                 1331                223640   \n",
       "\n",
       "         day_sided_ask_notional       igid  \n",
       "4079161            3.940000e+04   926565.0  \n",
       "4079162            1.843956e+06  1228878.0  \n",
       "4079163            9.048678e+05   927406.0  \n",
       "\n",
       "[3 rows x 50 columns]"
      ]
     },
     "metadata": {},
     "output_type": "display_data"
    }
   ],
   "source": [
    "display(df_taq_bars.head(3))\n",
    "\n",
    "display(df_taq_bars.tail(3))"
   ]
  },
  {
   "cell_type": "code",
   "execution_count": 14,
   "id": "a0a389c9",
   "metadata": {
    "ExecuteTime": {
     "end_time": "2021-07-16T17:42:51.070578Z",
     "start_time": "2021-07-16T17:42:50.831653Z"
    }
   },
   "outputs": [
    {
     "name": "stdout",
     "output_type": "stream",
     "text": [
      "(479, 50)\n"
     ]
    },
    {
     "data": {
      "text/html": [
       "<div>\n",
       "<style scoped>\n",
       "    .dataframe tbody tr th:only-of-type {\n",
       "        vertical-align: middle;\n",
       "    }\n",
       "\n",
       "    .dataframe tbody tr th {\n",
       "        vertical-align: top;\n",
       "    }\n",
       "\n",
       "    .dataframe thead th {\n",
       "        text-align: right;\n",
       "    }\n",
       "</style>\n",
       "<table border=\"1\" class=\"dataframe\">\n",
       "  <thead>\n",
       "    <tr style=\"text-align: right;\">\n",
       "      <th></th>\n",
       "      <th>start_time</th>\n",
       "      <th>end_time</th>\n",
       "      <th>ticker</th>\n",
       "      <th>currency</th>\n",
       "      <th>open</th>\n",
       "      <th>close</th>\n",
       "      <th>low</th>\n",
       "      <th>high</th>\n",
       "      <th>volume</th>\n",
       "    </tr>\n",
       "  </thead>\n",
       "  <tbody>\n",
       "    <tr>\n",
       "      <th>13</th>\n",
       "      <td>1546869600</td>\n",
       "      <td>1546869660</td>\n",
       "      <td>AAPL</td>\n",
       "      <td>USD</td>\n",
       "      <td>NaN</td>\n",
       "      <td>NaN</td>\n",
       "      <td>NaN</td>\n",
       "      <td>NaN</td>\n",
       "      <td>0</td>\n",
       "    </tr>\n",
       "    <tr>\n",
       "      <th>8529</th>\n",
       "      <td>1546869660</td>\n",
       "      <td>1546869720</td>\n",
       "      <td>AAPL</td>\n",
       "      <td>USD</td>\n",
       "      <td>NaN</td>\n",
       "      <td>NaN</td>\n",
       "      <td>NaN</td>\n",
       "      <td>NaN</td>\n",
       "      <td>0</td>\n",
       "    </tr>\n",
       "    <tr>\n",
       "      <th>17045</th>\n",
       "      <td>1546869720</td>\n",
       "      <td>1546869780</td>\n",
       "      <td>AAPL</td>\n",
       "      <td>USD</td>\n",
       "      <td>NaN</td>\n",
       "      <td>NaN</td>\n",
       "      <td>NaN</td>\n",
       "      <td>NaN</td>\n",
       "      <td>0</td>\n",
       "    </tr>\n",
       "  </tbody>\n",
       "</table>\n",
       "</div>"
      ],
      "text/plain": [
       "       start_time    end_time ticker currency  open  close  low  high  volume\n",
       "13     1546869600  1546869660   AAPL      USD   NaN    NaN  NaN   NaN       0\n",
       "8529   1546869660  1546869720   AAPL      USD   NaN    NaN  NaN   NaN       0\n",
       "17045  1546869720  1546869780   AAPL      USD   NaN    NaN  NaN   NaN       0"
      ]
     },
     "execution_count": 14,
     "metadata": {},
     "output_type": "execute_result"
    }
   ],
   "source": [
    "# Get AAPL data for a subset of columns.\n",
    "mask = df_taq_bars[\"ticker\"] == \"AAPL\"\n",
    "df_ig = df_taq_bars[mask]\n",
    "print(df_ig.shape)\n",
    "\n",
    "columns = [\n",
    "    \"start_time\",\n",
    "    \"end_time\",\n",
    "    \"ticker\",\n",
    "    \"currency\",\n",
    "    \"open\",\n",
    "    \"close\",\n",
    "    \"low\",\n",
    "    \"high\",\n",
    "    \"volume\",\n",
    "]\n",
    "df_ig = df_ig[columns]\n",
    "\n",
    "df_ig.head(3)"
   ]
  },
  {
   "cell_type": "code",
   "execution_count": 15,
   "id": "8ee65150",
   "metadata": {
    "ExecuteTime": {
     "end_time": "2021-07-16T17:54:01.711366Z",
     "start_time": "2021-07-16T17:54:01.675071Z"
    }
   },
   "outputs": [
    {
     "data": {
      "text/html": [
       "<div>\n",
       "<style scoped>\n",
       "    .dataframe tbody tr th:only-of-type {\n",
       "        vertical-align: middle;\n",
       "    }\n",
       "\n",
       "    .dataframe tbody tr th {\n",
       "        vertical-align: top;\n",
       "    }\n",
       "\n",
       "    .dataframe thead th {\n",
       "        text-align: right;\n",
       "    }\n",
       "</style>\n",
       "<table border=\"1\" class=\"dataframe\">\n",
       "  <thead>\n",
       "    <tr style=\"text-align: right;\">\n",
       "      <th></th>\n",
       "      <th>end_time</th>\n",
       "      <th>ticker</th>\n",
       "      <th>currency</th>\n",
       "      <th>open</th>\n",
       "      <th>close</th>\n",
       "      <th>low</th>\n",
       "      <th>high</th>\n",
       "      <th>volume</th>\n",
       "    </tr>\n",
       "    <tr>\n",
       "      <th>start_time</th>\n",
       "      <th></th>\n",
       "      <th></th>\n",
       "      <th></th>\n",
       "      <th></th>\n",
       "      <th></th>\n",
       "      <th></th>\n",
       "      <th></th>\n",
       "      <th></th>\n",
       "    </tr>\n",
       "  </thead>\n",
       "  <tbody>\n",
       "    <tr>\n",
       "      <th>2019-01-07 09:00:00-05:00</th>\n",
       "      <td>2019-01-07 09:01:00-05:00</td>\n",
       "      <td>AAPL</td>\n",
       "      <td>USD</td>\n",
       "      <td>NaN</td>\n",
       "      <td>NaN</td>\n",
       "      <td>NaN</td>\n",
       "      <td>NaN</td>\n",
       "      <td>0</td>\n",
       "    </tr>\n",
       "    <tr>\n",
       "      <th>2019-01-07 09:01:00-05:00</th>\n",
       "      <td>2019-01-07 09:02:00-05:00</td>\n",
       "      <td>AAPL</td>\n",
       "      <td>USD</td>\n",
       "      <td>NaN</td>\n",
       "      <td>NaN</td>\n",
       "      <td>NaN</td>\n",
       "      <td>NaN</td>\n",
       "      <td>0</td>\n",
       "    </tr>\n",
       "    <tr>\n",
       "      <th>2019-01-07 09:02:00-05:00</th>\n",
       "      <td>2019-01-07 09:03:00-05:00</td>\n",
       "      <td>AAPL</td>\n",
       "      <td>USD</td>\n",
       "      <td>NaN</td>\n",
       "      <td>NaN</td>\n",
       "      <td>NaN</td>\n",
       "      <td>NaN</td>\n",
       "      <td>0</td>\n",
       "    </tr>\n",
       "    <tr>\n",
       "      <th>2019-01-07 09:03:00-05:00</th>\n",
       "      <td>2019-01-07 09:04:00-05:00</td>\n",
       "      <td>AAPL</td>\n",
       "      <td>USD</td>\n",
       "      <td>NaN</td>\n",
       "      <td>NaN</td>\n",
       "      <td>NaN</td>\n",
       "      <td>NaN</td>\n",
       "      <td>0</td>\n",
       "    </tr>\n",
       "    <tr>\n",
       "      <th>2019-01-07 09:04:00-05:00</th>\n",
       "      <td>2019-01-07 09:05:00-05:00</td>\n",
       "      <td>AAPL</td>\n",
       "      <td>USD</td>\n",
       "      <td>NaN</td>\n",
       "      <td>NaN</td>\n",
       "      <td>NaN</td>\n",
       "      <td>NaN</td>\n",
       "      <td>0</td>\n",
       "    </tr>\n",
       "  </tbody>\n",
       "</table>\n",
       "</div>"
      ],
      "text/plain": [
       "                                           end_time ticker currency  open  \\\n",
       "start_time                                                                  \n",
       "2019-01-07 09:00:00-05:00 2019-01-07 09:01:00-05:00   AAPL      USD   NaN   \n",
       "2019-01-07 09:01:00-05:00 2019-01-07 09:02:00-05:00   AAPL      USD   NaN   \n",
       "2019-01-07 09:02:00-05:00 2019-01-07 09:03:00-05:00   AAPL      USD   NaN   \n",
       "2019-01-07 09:03:00-05:00 2019-01-07 09:04:00-05:00   AAPL      USD   NaN   \n",
       "2019-01-07 09:04:00-05:00 2019-01-07 09:05:00-05:00   AAPL      USD   NaN   \n",
       "\n",
       "                           close  low  high  volume  \n",
       "start_time                                           \n",
       "2019-01-07 09:00:00-05:00    NaN  NaN   NaN       0  \n",
       "2019-01-07 09:01:00-05:00    NaN  NaN   NaN       0  \n",
       "2019-01-07 09:02:00-05:00    NaN  NaN   NaN       0  \n",
       "2019-01-07 09:03:00-05:00    NaN  NaN   NaN       0  \n",
       "2019-01-07 09:04:00-05:00    NaN  NaN   NaN       0  "
      ]
     },
     "metadata": {},
     "output_type": "display_data"
    }
   ],
   "source": [
    "def to_et(df, col_name):\n",
    "    df = df.copy()\n",
    "    vals = df[col_name].apply(datetime.datetime.fromtimestamp)\n",
    "    # print(vals)\n",
    "    vals = vals.dt.tz_localize(\"UTC\").dt.tz_convert(\"America/New_York\")\n",
    "    df[col_name] = vals\n",
    "    return df\n",
    "\n",
    "\n",
    "df_ig2 = to_et(df_ig, \"start_time\")\n",
    "df_ig2 = to_et(df_ig2, \"end_time\")\n",
    "df_ig2.set_index(\"start_time\", drop=True, inplace=True)\n",
    "\n",
    "display(df_ig2.head())\n",
    "# display(df_ig2.tail())\n",
    "# display(df_ig2[df_ig2.index > \"2019-01-07 09:20\"].head())\n",
    "# display(df_ig2[df_ig2.index < \"2019-01-07 16:03\"].tail())"
   ]
  },
  {
   "cell_type": "code",
   "execution_count": null,
   "id": "0d3f073b",
   "metadata": {
    "ExecuteTime": {
     "end_time": "2021-06-14T13:19:33.652716Z",
     "start_time": "2021-06-14T13:19:33.641743Z"
    }
   },
   "outputs": [],
   "source": [
    "display(df_ig2[df_ig2.index > \"2019-01-07 09:27\"].head())"
   ]
  },
  {
   "cell_type": "code",
   "execution_count": null,
   "id": "603486bc",
   "metadata": {
    "ExecuteTime": {
     "end_time": "2021-06-14T13:19:33.665541Z",
     "start_time": "2021-06-14T13:19:33.655101Z"
    }
   },
   "outputs": [],
   "source": [
    "display(df_ig2[df_ig2.index < \"2019-01-07 16:03\"].tail())"
   ]
  },
  {
   "cell_type": "code",
   "execution_count": null,
   "id": "95c7e6da",
   "metadata": {
    "ExecuteTime": {
     "end_time": "2021-06-14T13:19:33.798799Z",
     "start_time": "2021-06-14T13:19:33.667154Z"
    }
   },
   "outputs": [],
   "source": [
    "df_ig2[\"close\"].plot()"
   ]
  },
  {
   "cell_type": "code",
   "execution_count": null,
   "id": "5659bf02",
   "metadata": {
    "ExecuteTime": {
     "end_time": "2021-06-14T13:19:33.911024Z",
     "start_time": "2021-06-14T13:19:33.800176Z"
    },
    "scrolled": true
   },
   "outputs": [],
   "source": [
    "df_ig2[\"volume\"].plot()"
   ]
  },
  {
   "cell_type": "markdown",
   "id": "a9212e31",
   "metadata": {},
   "source": [
    "# Load ref data"
   ]
  },
  {
   "cell_type": "code",
   "execution_count": null,
   "id": "525ee94e",
   "metadata": {
    "ExecuteTime": {
     "end_time": "2021-06-14T13:19:33.952508Z",
     "start_time": "2021-06-14T13:19:33.912344Z"
    }
   },
   "outputs": [],
   "source": [
    "file_name = \"/app/aapl.csv\"\n",
    "df_ref = pd.read_csv(file_name)\n",
    "display(df_ref.head())\n",
    "\n",
    "df_ref[\"datetime\"] = pd.to_datetime(df_ref[\"datetime\"])\n",
    "# df_ref[\"datetime\"] = df_ref[\"datetime\"].dt.tz_localize('UTC').dt.tz_convert('America/New_York')\n",
    "df_ref[\"datetime\"] = df_ref[\"datetime\"].dt.tz_localize(\"America/New_York\")\n",
    "df_ref.set_index(\"datetime\", inplace=True, drop=True)\n",
    "# df_ref = df_ref[(df_ref.index >= \"2019-01-07\") & (df_ref.index < \"2019-01-08\")]\n",
    "df_ref = df_ref[\n",
    "    (df_ref.index >= \"2019-01-07 09:30\") & (df_ref.index <= \"2019-01-07 16:00\")\n",
    "]\n",
    "df_ref.rename({\"vol\": \"volume\"}, axis=\"columns\", inplace=True)\n",
    "\n",
    "display(df_ref.head())\n",
    "display(df_ref.tail())"
   ]
  },
  {
   "cell_type": "code",
   "execution_count": null,
   "id": "ac527478",
   "metadata": {
    "ExecuteTime": {
     "end_time": "2021-06-14T13:19:33.955572Z",
     "start_time": "2021-06-14T13:19:33.953830Z"
    }
   },
   "outputs": [],
   "source": [
    "# display(df_ref[df_ref.index > \"2019-01-07 09:27\"].head())\n",
    "\n",
    "# display(df_ref[df_ref.index < \"2019-01-07 16:03\"].tail())"
   ]
  },
  {
   "cell_type": "code",
   "execution_count": null,
   "id": "bec7ec9d",
   "metadata": {
    "ExecuteTime": {
     "end_time": "2021-06-14T13:19:34.067783Z",
     "start_time": "2021-06-14T13:19:33.956623Z"
    }
   },
   "outputs": [],
   "source": [
    "df_ref[\"close\"].plot()"
   ]
  },
  {
   "cell_type": "code",
   "execution_count": null,
   "id": "e1878111",
   "metadata": {
    "ExecuteTime": {
     "end_time": "2021-06-14T13:19:34.181840Z",
     "start_time": "2021-06-14T13:19:34.069036Z"
    }
   },
   "outputs": [],
   "source": [
    "df_ref[\"volume\"].plot()"
   ]
  },
  {
   "cell_type": "markdown",
   "id": "6237b502",
   "metadata": {},
   "source": [
    "# Comparison"
   ]
  },
  {
   "cell_type": "code",
   "execution_count": null,
   "id": "98f5451a",
   "metadata": {
    "ExecuteTime": {
     "end_time": "2021-06-14T13:19:34.198959Z",
     "start_time": "2021-06-14T13:19:34.183193Z"
    }
   },
   "outputs": [],
   "source": [
    "display(df_ig2.head())\n",
    "display(df_ref.head())"
   ]
  },
  {
   "cell_type": "code",
   "execution_count": null,
   "id": "7cebc424",
   "metadata": {
    "ExecuteTime": {
     "end_time": "2021-06-14T13:19:34.218776Z",
     "start_time": "2021-06-14T13:19:34.200306Z"
    }
   },
   "outputs": [],
   "source": [
    "# Notice how the 16:00:00 bars differ\n",
    "display(df_ig2.dropna().tail())\n",
    "display(df_ref.dropna().tail())"
   ]
  },
  {
   "cell_type": "code",
   "execution_count": null,
   "id": "10ea27d2",
   "metadata": {
    "ExecuteTime": {
     "end_time": "2021-06-14T13:19:34.221925Z",
     "start_time": "2021-06-14T13:19:34.220074Z"
    }
   },
   "outputs": [],
   "source": [
    "target_col_name = \"close\""
   ]
  },
  {
   "cell_type": "code",
   "execution_count": null,
   "id": "7dd2c03d",
   "metadata": {
    "ExecuteTime": {
     "end_time": "2021-06-14T13:19:34.231725Z",
     "start_time": "2021-06-14T13:19:34.223189Z"
    }
   },
   "outputs": [],
   "source": [
    "col_names = [target_col_name]\n",
    "df_all = df_ig2[col_names].merge(\n",
    "    df_ref[col_names],\n",
    "    left_index=True,\n",
    "    right_index=True,\n",
    "    how=\"outer\",\n",
    "    suffixes=[\"_ig\", \"_ref\"],\n",
    ")\n",
    "df_all.head()"
   ]
  },
  {
   "cell_type": "code",
   "execution_count": null,
   "id": "1946fbef",
   "metadata": {
    "ExecuteTime": {
     "end_time": "2021-06-14T13:19:34.245816Z",
     "start_time": "2021-06-14T13:19:34.233022Z"
    }
   },
   "outputs": [],
   "source": [
    "# Notice that the precisions appear to be different across the two columns\n",
    "#   (and within the same day for the \"_ig\" column)\n",
    "display(df_all.dropna().head())\n",
    "display(df_all.dropna().tail())"
   ]
  },
  {
   "cell_type": "code",
   "execution_count": null,
   "id": "0d8aec85",
   "metadata": {
    "ExecuteTime": {
     "end_time": "2021-06-14T13:19:34.253803Z",
     "start_time": "2021-06-14T13:19:34.247034Z"
    }
   },
   "outputs": [],
   "source": [
    "df_all.dropna().tail()"
   ]
  },
  {
   "cell_type": "code",
   "execution_count": null,
   "id": "8273ea50",
   "metadata": {
    "ExecuteTime": {
     "end_time": "2021-06-14T13:19:34.395314Z",
     "start_time": "2021-06-14T13:19:34.255034Z"
    }
   },
   "outputs": [],
   "source": [
    "df_all.plot()"
   ]
  },
  {
   "cell_type": "code",
   "execution_count": null,
   "id": "fcd32d0d",
   "metadata": {
    "ExecuteTime": {
     "end_time": "2021-06-14T13:19:34.399799Z",
     "start_time": "2021-06-14T13:19:34.396696Z"
    }
   },
   "outputs": [],
   "source": [
    "df_all.columns[0]"
   ]
  },
  {
   "cell_type": "code",
   "execution_count": null,
   "id": "141de96c",
   "metadata": {
    "ExecuteTime": {
     "end_time": "2021-06-14T13:19:34.404954Z",
     "start_time": "2021-06-14T13:19:34.402475Z"
    }
   },
   "outputs": [],
   "source": [
    "def calculate_diffs(df, shifts=0):\n",
    "    df = df.diff()\n",
    "    df[\"diff_of_diffs\"] = df[df.columns[0]] - df[df.columns[1]].shift(shifts)\n",
    "    return df"
   ]
  },
  {
   "cell_type": "code",
   "execution_count": null,
   "id": "69e158f5",
   "metadata": {
    "ExecuteTime": {
     "end_time": "2021-06-14T13:19:34.410424Z",
     "start_time": "2021-06-14T13:19:34.406411Z"
    }
   },
   "outputs": [],
   "source": [
    "diffs = calculate_diffs(df_all, 0)"
   ]
  },
  {
   "cell_type": "code",
   "execution_count": null,
   "id": "66136d95",
   "metadata": {
    "ExecuteTime": {
     "end_time": "2021-06-14T13:19:34.423319Z",
     "start_time": "2021-06-14T13:19:34.411646Z"
    }
   },
   "outputs": [],
   "source": [
    "diffs.dropna()"
   ]
  },
  {
   "cell_type": "code",
   "execution_count": null,
   "id": "6831f704",
   "metadata": {
    "ExecuteTime": {
     "end_time": "2021-06-14T13:19:34.539840Z",
     "start_time": "2021-06-14T13:19:34.424513Z"
    }
   },
   "outputs": [],
   "source": [
    "diffs[\"diff_of_diffs\"].plot()"
   ]
  },
  {
   "cell_type": "code",
   "execution_count": null,
   "id": "cf26dcf8",
   "metadata": {
    "ExecuteTime": {
     "end_time": "2021-06-14T13:19:34.647649Z",
     "start_time": "2021-06-14T13:19:34.541049Z"
    },
    "scrolled": true
   },
   "outputs": [],
   "source": [
    "diffs[\"diff_of_diffs\"].cumsum().plot()"
   ]
  },
  {
   "cell_type": "code",
   "execution_count": null,
   "id": "c986b3aa",
   "metadata": {
    "ExecuteTime": {
     "end_time": "2021-06-14T13:19:34.793659Z",
     "start_time": "2021-06-14T13:19:34.648795Z"
    },
    "scrolled": true
   },
   "outputs": [],
   "source": [
    "diffs[\"diff_of_diffs\"].hist(bins=30)"
   ]
  },
  {
   "cell_type": "code",
   "execution_count": null,
   "id": "010fdcef",
   "metadata": {
    "ExecuteTime": {
     "end_time": "2021-06-14T13:19:34.798459Z",
     "start_time": "2021-06-14T13:19:34.794907Z"
    }
   },
   "outputs": [],
   "source": [
    "diffs[\"diff_of_diffs\"].mean(), diffs[\"diff_of_diffs\"].std()"
   ]
  },
  {
   "cell_type": "code",
   "execution_count": null,
   "id": "0ebd8f0e",
   "metadata": {
    "ExecuteTime": {
     "end_time": "2021-06-14T13:19:34.803301Z",
     "start_time": "2021-06-14T13:19:34.799616Z"
    }
   },
   "outputs": [],
   "source": [
    "diffs[\"diff_of_diffs\"].apply(abs).sum()"
   ]
  },
  {
   "cell_type": "code",
   "execution_count": null,
   "id": "82c71ee6",
   "metadata": {
    "ExecuteTime": {
     "end_time": "2021-06-14T13:19:35.011498Z",
     "start_time": "2021-06-14T13:19:34.804415Z"
    }
   },
   "outputs": [],
   "source": [
    "# Force all the data to be centered around 100.\n",
    "df_all -= df_all.mean(axis=0)\n",
    "df_all += 100.0\n",
    "\n",
    "df_all.plot()"
   ]
  },
  {
   "cell_type": "code",
   "execution_count": null,
   "id": "abb74dc3",
   "metadata": {
    "ExecuteTime": {
     "end_time": "2021-06-14T13:19:35.153719Z",
     "start_time": "2021-06-14T13:19:35.012766Z"
    }
   },
   "outputs": [],
   "source": [
    "rets = df_all.pct_change()\n",
    "\n",
    "rets.plot()"
   ]
  },
  {
   "cell_type": "code",
   "execution_count": null,
   "id": "f7822d04",
   "metadata": {
    "ExecuteTime": {
     "end_time": "2021-06-14T13:19:35.280299Z",
     "start_time": "2021-06-14T13:19:35.154970Z"
    }
   },
   "outputs": [],
   "source": [
    "# df_all[col_names].loc[\"2019-01-07 09:30\":\"2019-01-07 12:00\"].plot()\n",
    "# df_all[col_names].loc[\"2019-01-07 09:30\":\"2019-01-07 09:35\"].plot()\n",
    "df_all.loc[\"2019-01-07 09:35\":\"2019-01-07 09:40\"].plot()"
   ]
  },
  {
   "cell_type": "code",
   "execution_count": null,
   "id": "12fedf98",
   "metadata": {
    "ExecuteTime": {
     "end_time": "2021-06-14T13:19:35.626339Z",
     "start_time": "2021-06-14T13:19:35.281552Z"
    },
    "scrolled": false
   },
   "outputs": [],
   "source": [
    "predicted_var = diffs.columns[0]\n",
    "predictor_var = diffs.columns[1]\n",
    "\n",
    "df = diffs[[predicted_var, predictor_var]].copy()\n",
    "df[predicted_var] = df[predicted_var].shift(0)\n",
    "df = df.dropna()\n",
    "\n",
    "intercept = True\n",
    "model = statsmodels.api.OLS(\n",
    "    df[predicted_var], df[predictor_var], hasconst=intercept\n",
    ").fit()\n",
    "print(model.summary().as_text())\n",
    "\n",
    "sns.jointplot(x=predictor_var, y=predicted_var, data=df)"
   ]
  },
  {
   "cell_type": "code",
   "execution_count": null,
   "id": "41c9d6e4",
   "metadata": {},
   "outputs": [],
   "source": []
  }
 ],
 "metadata": {
  "kernelspec": {
   "display_name": "Python 3 (ipykernel)",
   "language": "python",
   "name": "python3"
  },
  "language_info": {
   "codemirror_mode": {
    "name": "ipython",
    "version": 3
   },
   "file_extension": ".py",
   "mimetype": "text/x-python",
   "name": "python",
   "nbconvert_exporter": "python",
   "pygments_lexer": "ipython3",
   "version": "3.8.10"
  },
  "toc": {
   "base_numbering": 1,
   "nav_menu": {},
   "number_sections": true,
   "sideBar": true,
   "skip_h1_title": false,
   "title_cell": "Table of Contents",
   "title_sidebar": "Contents",
   "toc_cell": false,
   "toc_position": {},
   "toc_section_display": true,
   "toc_window_display": true
  }
 },
 "nbformat": 4,
 "nbformat_minor": 5
}
