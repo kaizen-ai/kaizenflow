{
 "cells": [
  {
   "cell_type": "code",
   "execution_count": 1,
   "id": "ef20094e",
   "metadata": {
    "ExecuteTime": {
     "end_time": "2021-06-15T14:02:45.641845Z",
     "start_time": "2021-06-15T14:02:45.138625Z"
    }
   },
   "outputs": [
    {
     "name": "stderr",
     "output_type": "stream",
     "text": [
      "/app/vendors_lime/taq_bars/utils.py:13: TqdmExperimentalWarning: Using `tqdm.autonotebook.tqdm` in notebook mode. Use `tqdm.tqdm` instead to force console mode (e.g. in jupyter console)\n",
      "  from tqdm.autonotebook import tqdm\n"
     ]
    }
   ],
   "source": [
    "%load_ext autoreload\n",
    "%autoreload 2\n",
    "\n",
    "import pandas as pd\n",
    "\n",
    "import im_v2.ig.data.client.historical_bars as imvidchiba\n",
    "import im_v2.ig.universe.ticker_igid_mapping as imviutigma"
   ]
  },
  {
   "cell_type": "markdown",
   "id": "beface8f",
   "metadata": {},
   "source": [
    "# Get IGID <-> Ticker mapping"
   ]
  },
  {
   "cell_type": "code",
   "execution_count": 2,
   "id": "c8de1434",
   "metadata": {
    "ExecuteTime": {
     "end_time": "2021-06-15T14:02:49.311234Z",
     "start_time": "2021-06-15T14:02:45.643612Z"
    }
   },
   "outputs": [],
   "source": [
    "mapping = imviutigma.get_id_mapping(\"20210614\")"
   ]
  },
  {
   "cell_type": "code",
   "execution_count": 3,
   "id": "c495445e",
   "metadata": {
    "ExecuteTime": {
     "end_time": "2021-06-15T14:02:49.337786Z",
     "start_time": "2021-06-15T14:02:49.312857Z"
    }
   },
   "outputs": [
    {
     "data": {
      "text/html": [
       "<div>\n",
       "<style scoped>\n",
       "    .dataframe tbody tr th:only-of-type {\n",
       "        vertical-align: middle;\n",
       "    }\n",
       "\n",
       "    .dataframe tbody tr th {\n",
       "        vertical-align: top;\n",
       "    }\n",
       "\n",
       "    .dataframe thead th {\n",
       "        text-align: right;\n",
       "    }\n",
       "</style>\n",
       "<table border=\"1\" class=\"dataframe\">\n",
       "  <thead>\n",
       "    <tr style=\"text-align: right;\">\n",
       "      <th></th>\n",
       "      <th>ticker</th>\n",
       "      <th>igid</th>\n",
       "      <th>volume</th>\n",
       "    </tr>\n",
       "  </thead>\n",
       "  <tbody>\n",
       "    <tr>\n",
       "      <th>0</th>\n",
       "      <td>A</td>\n",
       "      <td>16572</td>\n",
       "      <td>872990</td>\n",
       "    </tr>\n",
       "    <tr>\n",
       "      <th>1</th>\n",
       "      <td>AA</td>\n",
       "      <td>1218568</td>\n",
       "      <td>5771229</td>\n",
       "    </tr>\n",
       "    <tr>\n",
       "      <th>2</th>\n",
       "      <td>AAA</td>\n",
       "      <td>1486864</td>\n",
       "      <td>166</td>\n",
       "    </tr>\n",
       "    <tr>\n",
       "      <th>3</th>\n",
       "      <td>AAAU</td>\n",
       "      <td>1428781</td>\n",
       "      <td>293960</td>\n",
       "    </tr>\n",
       "    <tr>\n",
       "      <th>4</th>\n",
       "      <td>AAC</td>\n",
       "      <td>1506986</td>\n",
       "      <td>49259</td>\n",
       "    </tr>\n",
       "    <tr>\n",
       "      <th>...</th>\n",
       "      <td>...</td>\n",
       "      <td>...</td>\n",
       "      <td>...</td>\n",
       "    </tr>\n",
       "    <tr>\n",
       "      <th>10578</th>\n",
       "      <td>ZXZZ.T</td>\n",
       "      <td>926565</td>\n",
       "      <td>8090</td>\n",
       "    </tr>\n",
       "    <tr>\n",
       "      <th>10579</th>\n",
       "      <td>ZY</td>\n",
       "      <td>1509592</td>\n",
       "      <td>382955</td>\n",
       "    </tr>\n",
       "    <tr>\n",
       "      <th>10580</th>\n",
       "      <td>ZYME</td>\n",
       "      <td>1228878</td>\n",
       "      <td>371096</td>\n",
       "    </tr>\n",
       "    <tr>\n",
       "      <th>10581</th>\n",
       "      <td>ZYNE</td>\n",
       "      <td>927406</td>\n",
       "      <td>807801</td>\n",
       "    </tr>\n",
       "    <tr>\n",
       "      <th>10582</th>\n",
       "      <td>ZYXI</td>\n",
       "      <td>126452</td>\n",
       "      <td>205711</td>\n",
       "    </tr>\n",
       "  </tbody>\n",
       "</table>\n",
       "<p>10583 rows Ã 3 columns</p>\n",
       "</div>"
      ],
      "text/plain": [
       "       ticker     igid   volume\n",
       "0           A    16572   872990\n",
       "1          AA  1218568  5771229\n",
       "2         AAA  1486864      166\n",
       "3        AAAU  1428781   293960\n",
       "4         AAC  1506986    49259\n",
       "...       ...      ...      ...\n",
       "10578  ZXZZ.T   926565     8090\n",
       "10579      ZY  1509592   382955\n",
       "10580    ZYME  1228878   371096\n",
       "10581    ZYNE   927406   807801\n",
       "10582    ZYXI   126452   205711\n",
       "\n",
       "[10583 rows x 3 columns]"
      ]
     },
     "execution_count": 3,
     "metadata": {},
     "output_type": "execute_result"
    }
   ],
   "source": [
    "mapping"
   ]
  },
  {
   "cell_type": "code",
   "execution_count": 4,
   "id": "bace3074",
   "metadata": {
    "ExecuteTime": {
     "end_time": "2021-06-15T14:02:49.355185Z",
     "start_time": "2021-06-15T14:02:49.338952Z"
    },
    "run_control": {
     "marked": true
    }
   },
   "outputs": [],
   "source": [
    "mapping = mapping.sort_values(\"volume\", ascending=False).reset_index(drop=True)"
   ]
  },
  {
   "cell_type": "code",
   "execution_count": 5,
   "id": "ecdea2a9",
   "metadata": {
    "ExecuteTime": {
     "end_time": "2021-06-15T14:02:49.372957Z",
     "start_time": "2021-06-15T14:02:49.356462Z"
    }
   },
   "outputs": [
    {
     "data": {
      "text/html": [
       "<div>\n",
       "<style scoped>\n",
       "    .dataframe tbody tr th:only-of-type {\n",
       "        vertical-align: middle;\n",
       "    }\n",
       "\n",
       "    .dataframe tbody tr th {\n",
       "        vertical-align: top;\n",
       "    }\n",
       "\n",
       "    .dataframe thead th {\n",
       "        text-align: right;\n",
       "    }\n",
       "</style>\n",
       "<table border=\"1\" class=\"dataframe\">\n",
       "  <thead>\n",
       "    <tr style=\"text-align: right;\">\n",
       "      <th></th>\n",
       "      <th>ticker</th>\n",
       "      <th>igid</th>\n",
       "      <th>volume</th>\n",
       "    </tr>\n",
       "  </thead>\n",
       "  <tbody>\n",
       "    <tr>\n",
       "      <th>5</th>\n",
       "      <td>AAPL</td>\n",
       "      <td>17085</td>\n",
       "      <td>85985088</td>\n",
       "    </tr>\n",
       "  </tbody>\n",
       "</table>\n",
       "</div>"
      ],
      "text/plain": [
       "  ticker   igid    volume\n",
       "5   AAPL  17085  85985088"
      ]
     },
     "execution_count": 5,
     "metadata": {},
     "output_type": "execute_result"
    }
   ],
   "source": [
    "mask = mapping[\"ticker\"] == \"AAPL\"\n",
    "mapping[mask]"
   ]
  },
  {
   "cell_type": "code",
   "execution_count": 6,
   "id": "0f71c106",
   "metadata": {
    "ExecuteTime": {
     "end_time": "2021-06-15T14:02:49.391503Z",
     "start_time": "2021-06-15T14:02:49.374958Z"
    }
   },
   "outputs": [
    {
     "data": {
      "text/html": [
       "<div>\n",
       "<style scoped>\n",
       "    .dataframe tbody tr th:only-of-type {\n",
       "        vertical-align: middle;\n",
       "    }\n",
       "\n",
       "    .dataframe tbody tr th {\n",
       "        vertical-align: top;\n",
       "    }\n",
       "\n",
       "    .dataframe thead th {\n",
       "        text-align: right;\n",
       "    }\n",
       "</style>\n",
       "<table border=\"1\" class=\"dataframe\">\n",
       "  <thead>\n",
       "    <tr style=\"text-align: right;\">\n",
       "      <th></th>\n",
       "      <th>ticker</th>\n",
       "      <th>igid</th>\n",
       "      <th>volume</th>\n",
       "    </tr>\n",
       "  </thead>\n",
       "  <tbody>\n",
       "    <tr>\n",
       "      <th>0</th>\n",
       "      <td>AMC</td>\n",
       "      <td>16976</td>\n",
       "      <td>287237551</td>\n",
       "    </tr>\n",
       "    <tr>\n",
       "      <th>1</th>\n",
       "      <td>WISH</td>\n",
       "      <td>1495504</td>\n",
       "      <td>172889236</td>\n",
       "    </tr>\n",
       "    <tr>\n",
       "      <th>2</th>\n",
       "      <td>SENS</td>\n",
       "      <td>256790</td>\n",
       "      <td>130644296</td>\n",
       "    </tr>\n",
       "    <tr>\n",
       "      <th>3</th>\n",
       "      <td>CLOV</td>\n",
       "      <td>1478543</td>\n",
       "      <td>94255589</td>\n",
       "    </tr>\n",
       "    <tr>\n",
       "      <th>4</th>\n",
       "      <td>ENOB</td>\n",
       "      <td>255097</td>\n",
       "      <td>89833370</td>\n",
       "    </tr>\n",
       "    <tr>\n",
       "      <th>5</th>\n",
       "      <td>AAPL</td>\n",
       "      <td>17085</td>\n",
       "      <td>85985088</td>\n",
       "    </tr>\n",
       "    <tr>\n",
       "      <th>6</th>\n",
       "      <td>SNDL</td>\n",
       "      <td>1452847</td>\n",
       "      <td>84485815</td>\n",
       "    </tr>\n",
       "    <tr>\n",
       "      <th>7</th>\n",
       "      <td>F</td>\n",
       "      <td>12690</td>\n",
       "      <td>78293308</td>\n",
       "    </tr>\n",
       "    <tr>\n",
       "      <th>8</th>\n",
       "      <td>NIO</td>\n",
       "      <td>1435348</td>\n",
       "      <td>63559854</td>\n",
       "    </tr>\n",
       "    <tr>\n",
       "      <th>9</th>\n",
       "      <td>CLNE</td>\n",
       "      <td>11268</td>\n",
       "      <td>58782778</td>\n",
       "    </tr>\n",
       "    <tr>\n",
       "      <th>10</th>\n",
       "      <td>CRSR</td>\n",
       "      <td>1488124</td>\n",
       "      <td>58113946</td>\n",
       "    </tr>\n",
       "    <tr>\n",
       "      <th>11</th>\n",
       "      <td>NOVN</td>\n",
       "      <td>1217443</td>\n",
       "      <td>55932527</td>\n",
       "    </tr>\n",
       "    <tr>\n",
       "      <th>12</th>\n",
       "      <td>NAKD</td>\n",
       "      <td>1424557</td>\n",
       "      <td>51516267</td>\n",
       "    </tr>\n",
       "    <tr>\n",
       "      <th>13</th>\n",
       "      <td>PLTR</td>\n",
       "      <td>1487309</td>\n",
       "      <td>50697755</td>\n",
       "    </tr>\n",
       "    <tr>\n",
       "      <th>14</th>\n",
       "      <td>XLF</td>\n",
       "      <td>13549</td>\n",
       "      <td>48950999</td>\n",
       "    </tr>\n",
       "    <tr>\n",
       "      <th>15</th>\n",
       "      <td>BB</td>\n",
       "      <td>17857</td>\n",
       "      <td>45910818</td>\n",
       "    </tr>\n",
       "    <tr>\n",
       "      <th>16</th>\n",
       "      <td>SQQQ</td>\n",
       "      <td>14896</td>\n",
       "      <td>44028255</td>\n",
       "    </tr>\n",
       "    <tr>\n",
       "      <th>17</th>\n",
       "      <td>GE</td>\n",
       "      <td>14250</td>\n",
       "      <td>42782712</td>\n",
       "    </tr>\n",
       "    <tr>\n",
       "      <th>18</th>\n",
       "      <td>LKCO</td>\n",
       "      <td>1441861</td>\n",
       "      <td>40493416</td>\n",
       "    </tr>\n",
       "    <tr>\n",
       "      <th>19</th>\n",
       "      <td>AHT</td>\n",
       "      <td>16207</td>\n",
       "      <td>39857484</td>\n",
       "    </tr>\n",
       "    <tr>\n",
       "      <th>20</th>\n",
       "      <td>CLF</td>\n",
       "      <td>17507</td>\n",
       "      <td>39775847</td>\n",
       "    </tr>\n",
       "    <tr>\n",
       "      <th>21</th>\n",
       "      <td>WOOF</td>\n",
       "      <td>1497826</td>\n",
       "      <td>38240158</td>\n",
       "    </tr>\n",
       "    <tr>\n",
       "      <th>22</th>\n",
       "      <td>EVFM</td>\n",
       "      <td>89121</td>\n",
       "      <td>37307842</td>\n",
       "    </tr>\n",
       "    <tr>\n",
       "      <th>23</th>\n",
       "      <td>IVR</td>\n",
       "      <td>11264</td>\n",
       "      <td>35300236</td>\n",
       "    </tr>\n",
       "    <tr>\n",
       "      <th>24</th>\n",
       "      <td>BAC</td>\n",
       "      <td>15224</td>\n",
       "      <td>34131117</td>\n",
       "    </tr>\n",
       "    <tr>\n",
       "      <th>25</th>\n",
       "      <td>ITUB</td>\n",
       "      <td>15785</td>\n",
       "      <td>33701564</td>\n",
       "    </tr>\n",
       "    <tr>\n",
       "      <th>26</th>\n",
       "      <td>WPG</td>\n",
       "      <td>10085</td>\n",
       "      <td>32884345</td>\n",
       "    </tr>\n",
       "    <tr>\n",
       "      <th>27</th>\n",
       "      <td>SOS</td>\n",
       "      <td>1228890</td>\n",
       "      <td>32731472</td>\n",
       "    </tr>\n",
       "    <tr>\n",
       "      <th>28</th>\n",
       "      <td>RAPT</td>\n",
       "      <td>1452695</td>\n",
       "      <td>31832548</td>\n",
       "    </tr>\n",
       "    <tr>\n",
       "      <th>29</th>\n",
       "      <td>SPY</td>\n",
       "      <td>10971</td>\n",
       "      <td>30945668</td>\n",
       "    </tr>\n",
       "  </tbody>\n",
       "</table>\n",
       "</div>"
      ],
      "text/plain": [
       "   ticker     igid     volume\n",
       "0     AMC    16976  287237551\n",
       "1    WISH  1495504  172889236\n",
       "2    SENS   256790  130644296\n",
       "3    CLOV  1478543   94255589\n",
       "4    ENOB   255097   89833370\n",
       "5    AAPL    17085   85985088\n",
       "6    SNDL  1452847   84485815\n",
       "7       F    12690   78293308\n",
       "8     NIO  1435348   63559854\n",
       "9    CLNE    11268   58782778\n",
       "10   CRSR  1488124   58113946\n",
       "11   NOVN  1217443   55932527\n",
       "12   NAKD  1424557   51516267\n",
       "13   PLTR  1487309   50697755\n",
       "14    XLF    13549   48950999\n",
       "15     BB    17857   45910818\n",
       "16   SQQQ    14896   44028255\n",
       "17     GE    14250   42782712\n",
       "18   LKCO  1441861   40493416\n",
       "19    AHT    16207   39857484\n",
       "20    CLF    17507   39775847\n",
       "21   WOOF  1497826   38240158\n",
       "22   EVFM    89121   37307842\n",
       "23    IVR    11264   35300236\n",
       "24    BAC    15224   34131117\n",
       "25   ITUB    15785   33701564\n",
       "26    WPG    10085   32884345\n",
       "27    SOS  1228890   32731472\n",
       "28   RAPT  1452695   31832548\n",
       "29    SPY    10971   30945668"
      ]
     },
     "execution_count": 6,
     "metadata": {},
     "output_type": "execute_result"
    }
   ],
   "source": [
    "mapping.head(30)"
   ]
  },
  {
   "cell_type": "markdown",
   "id": "94ce485c",
   "metadata": {},
   "source": [
    "# Data loading helpers"
   ]
  },
  {
   "cell_type": "code",
   "execution_count": 7,
   "id": "2c3f5155",
   "metadata": {
    "ExecuteTime": {
     "end_time": "2021-06-15T14:02:51.213031Z",
     "start_time": "2021-06-15T14:02:49.393125Z"
    }
   },
   "outputs": [],
   "source": [
    "date_srs = imvidchiba.get_dates()"
   ]
  },
  {
   "cell_type": "code",
   "execution_count": 8,
   "id": "c166cedd",
   "metadata": {
    "ExecuteTime": {
     "end_time": "2021-06-15T14:02:51.229612Z",
     "start_time": "2021-06-15T14:02:51.214358Z"
    }
   },
   "outputs": [
    {
     "data": {
      "text/plain": [
       "2003-10-02    20031002\n",
       "2003-10-03    20031003\n",
       "2003-10-06    20031006\n",
       "2003-10-07    20031007\n",
       "2003-10-08    20031008\n",
       "                ...   \n",
       "2021-06-08    20210608\n",
       "2021-06-09    20210609\n",
       "2021-06-10    20210610\n",
       "2021-06-11    20210611\n",
       "2021-06-14    20210614\n",
       "Length: 4455, dtype: object"
      ]
     },
     "execution_count": 8,
     "metadata": {},
     "output_type": "execute_result"
    }
   ],
   "source": [
    "date_srs"
   ]
  },
  {
   "cell_type": "markdown",
   "id": "fe9b38a7",
   "metadata": {},
   "source": [
    "# Demo for Apple"
   ]
  },
  {
   "cell_type": "code",
   "execution_count": 9,
   "id": "e4b81cbd",
   "metadata": {
    "ExecuteTime": {
     "end_time": "2021-06-15T14:02:59.403388Z",
     "start_time": "2021-06-15T14:02:51.230856Z"
    }
   },
   "outputs": [
    {
     "data": {
      "application/vnd.jupyter.widget-view+json": {
       "model_id": "9bac023ef382407d8f0e501505978bf9",
       "version_major": 2,
       "version_minor": 0
      },
      "text/plain": [
       "  0%|          | 0/4 [00:00<?, ?it/s]"
      ]
     },
     "metadata": {},
     "output_type": "display_data"
    }
   ],
   "source": [
    "df = imvidchiba.get_bars(17085, date_srs.loc[\"2014-12-02\":\"2014-12-05\"])"
   ]
  },
  {
   "cell_type": "code",
   "execution_count": 10,
   "id": "14c8f938",
   "metadata": {
    "ExecuteTime": {
     "end_time": "2021-06-15T14:02:59.425638Z",
     "start_time": "2021-06-15T14:02:59.404795Z"
    }
   },
   "outputs": [
    {
     "name": "stdout",
     "output_type": "stream",
     "text": [
      "<class 'pandas.core.frame.DataFrame'>\n",
      "DatetimeIndex: 1916 entries, 2014-12-02 09:01:00-05:00 to 2014-12-05 16:59:00-05:00\n",
      "Data columns (total 10 columns):\n",
      " #   Column         Non-Null Count  Dtype                           \n",
      "---  ------         --------------  -----                           \n",
      " 0   start_time     1916 non-null   int64                           \n",
      " 1   end_time       1916 non-null   int64                           \n",
      " 2   open           1564 non-null   float64                         \n",
      " 3   close          1564 non-null   float64                         \n",
      " 4   low            1564 non-null   float64                         \n",
      " 5   high           1564 non-null   float64                         \n",
      " 6   volume         1916 non-null   int64                           \n",
      " 7   ticker         1916 non-null   object                          \n",
      " 8   igid           1916 non-null   int64                           \n",
      " 9   start_time_ts  1916 non-null   datetime64[ns, America/New_York]\n",
      "dtypes: datetime64[ns, America/New_York](1), float64(4), int64(4), object(1)\n",
      "memory usage: 164.7+ KB\n"
     ]
    }
   ],
   "source": [
    "df.info()"
   ]
  },
  {
   "cell_type": "code",
   "execution_count": 11,
   "id": "7460b539",
   "metadata": {
    "ExecuteTime": {
     "end_time": "2021-06-15T14:02:59.454018Z",
     "start_time": "2021-06-15T14:02:59.426936Z"
    }
   },
   "outputs": [
    {
     "data": {
      "text/html": [
       "<div>\n",
       "<style scoped>\n",
       "    .dataframe tbody tr th:only-of-type {\n",
       "        vertical-align: middle;\n",
       "    }\n",
       "\n",
       "    .dataframe tbody tr th {\n",
       "        vertical-align: top;\n",
       "    }\n",
       "\n",
       "    .dataframe thead th {\n",
       "        text-align: right;\n",
       "    }\n",
       "</style>\n",
       "<table border=\"1\" class=\"dataframe\">\n",
       "  <thead>\n",
       "    <tr style=\"text-align: right;\">\n",
       "      <th></th>\n",
       "      <th>start_time</th>\n",
       "      <th>end_time</th>\n",
       "      <th>open</th>\n",
       "      <th>close</th>\n",
       "      <th>low</th>\n",
       "      <th>high</th>\n",
       "      <th>volume</th>\n",
       "      <th>ticker</th>\n",
       "      <th>igid</th>\n",
       "      <th>start_time_ts</th>\n",
       "    </tr>\n",
       "    <tr>\n",
       "      <th>end_time_ts</th>\n",
       "      <th></th>\n",
       "      <th></th>\n",
       "      <th></th>\n",
       "      <th></th>\n",
       "      <th></th>\n",
       "      <th></th>\n",
       "      <th></th>\n",
       "      <th></th>\n",
       "      <th></th>\n",
       "      <th></th>\n",
       "    </tr>\n",
       "  </thead>\n",
       "  <tbody>\n",
       "    <tr>\n",
       "      <th>2014-12-02 09:01:00-05:00</th>\n",
       "      <td>1417528800</td>\n",
       "      <td>1417528860</td>\n",
       "      <td>NaN</td>\n",
       "      <td>NaN</td>\n",
       "      <td>NaN</td>\n",
       "      <td>NaN</td>\n",
       "      <td>0</td>\n",
       "      <td>AAPL</td>\n",
       "      <td>17085</td>\n",
       "      <td>2014-12-02 09:00:00-05:00</td>\n",
       "    </tr>\n",
       "    <tr>\n",
       "      <th>2014-12-02 09:02:00-05:00</th>\n",
       "      <td>1417528860</td>\n",
       "      <td>1417528920</td>\n",
       "      <td>NaN</td>\n",
       "      <td>NaN</td>\n",
       "      <td>NaN</td>\n",
       "      <td>NaN</td>\n",
       "      <td>0</td>\n",
       "      <td>AAPL</td>\n",
       "      <td>17085</td>\n",
       "      <td>2014-12-02 09:01:00-05:00</td>\n",
       "    </tr>\n",
       "    <tr>\n",
       "      <th>2014-12-02 09:03:00-05:00</th>\n",
       "      <td>1417528920</td>\n",
       "      <td>1417528980</td>\n",
       "      <td>NaN</td>\n",
       "      <td>NaN</td>\n",
       "      <td>NaN</td>\n",
       "      <td>NaN</td>\n",
       "      <td>0</td>\n",
       "      <td>AAPL</td>\n",
       "      <td>17085</td>\n",
       "      <td>2014-12-02 09:02:00-05:00</td>\n",
       "    </tr>\n",
       "  </tbody>\n",
       "</table>\n",
       "</div>"
      ],
      "text/plain": [
       "                           start_time    end_time  open  close  low  high  \\\n",
       "end_time_ts                                                                 \n",
       "2014-12-02 09:01:00-05:00  1417528800  1417528860   NaN    NaN  NaN   NaN   \n",
       "2014-12-02 09:02:00-05:00  1417528860  1417528920   NaN    NaN  NaN   NaN   \n",
       "2014-12-02 09:03:00-05:00  1417528920  1417528980   NaN    NaN  NaN   NaN   \n",
       "\n",
       "                           volume ticker   igid             start_time_ts  \n",
       "end_time_ts                                                                \n",
       "2014-12-02 09:01:00-05:00       0   AAPL  17085 2014-12-02 09:00:00-05:00  \n",
       "2014-12-02 09:02:00-05:00       0   AAPL  17085 2014-12-02 09:01:00-05:00  \n",
       "2014-12-02 09:03:00-05:00       0   AAPL  17085 2014-12-02 09:02:00-05:00  "
      ]
     },
     "metadata": {},
     "output_type": "display_data"
    },
    {
     "data": {
      "text/html": [
       "<div>\n",
       "<style scoped>\n",
       "    .dataframe tbody tr th:only-of-type {\n",
       "        vertical-align: middle;\n",
       "    }\n",
       "\n",
       "    .dataframe tbody tr th {\n",
       "        vertical-align: top;\n",
       "    }\n",
       "\n",
       "    .dataframe thead th {\n",
       "        text-align: right;\n",
       "    }\n",
       "</style>\n",
       "<table border=\"1\" class=\"dataframe\">\n",
       "  <thead>\n",
       "    <tr style=\"text-align: right;\">\n",
       "      <th></th>\n",
       "      <th>start_time</th>\n",
       "      <th>end_time</th>\n",
       "      <th>open</th>\n",
       "      <th>close</th>\n",
       "      <th>low</th>\n",
       "      <th>high</th>\n",
       "      <th>volume</th>\n",
       "      <th>ticker</th>\n",
       "      <th>igid</th>\n",
       "      <th>start_time_ts</th>\n",
       "    </tr>\n",
       "    <tr>\n",
       "      <th>end_time_ts</th>\n",
       "      <th></th>\n",
       "      <th></th>\n",
       "      <th></th>\n",
       "      <th></th>\n",
       "      <th></th>\n",
       "      <th></th>\n",
       "      <th></th>\n",
       "      <th></th>\n",
       "      <th></th>\n",
       "      <th></th>\n",
       "    </tr>\n",
       "  </thead>\n",
       "  <tbody>\n",
       "    <tr>\n",
       "      <th>2014-12-05 16:57:00-05:00</th>\n",
       "      <td>1417816560</td>\n",
       "      <td>1417816620</td>\n",
       "      <td>NaN</td>\n",
       "      <td>NaN</td>\n",
       "      <td>NaN</td>\n",
       "      <td>NaN</td>\n",
       "      <td>0</td>\n",
       "      <td>AAPL</td>\n",
       "      <td>17085</td>\n",
       "      <td>2014-12-05 16:56:00-05:00</td>\n",
       "    </tr>\n",
       "    <tr>\n",
       "      <th>2014-12-05 16:58:00-05:00</th>\n",
       "      <td>1417816620</td>\n",
       "      <td>1417816680</td>\n",
       "      <td>NaN</td>\n",
       "      <td>NaN</td>\n",
       "      <td>NaN</td>\n",
       "      <td>NaN</td>\n",
       "      <td>0</td>\n",
       "      <td>AAPL</td>\n",
       "      <td>17085</td>\n",
       "      <td>2014-12-05 16:57:00-05:00</td>\n",
       "    </tr>\n",
       "    <tr>\n",
       "      <th>2014-12-05 16:59:00-05:00</th>\n",
       "      <td>1417816680</td>\n",
       "      <td>1417816740</td>\n",
       "      <td>NaN</td>\n",
       "      <td>NaN</td>\n",
       "      <td>NaN</td>\n",
       "      <td>NaN</td>\n",
       "      <td>0</td>\n",
       "      <td>AAPL</td>\n",
       "      <td>17085</td>\n",
       "      <td>2014-12-05 16:58:00-05:00</td>\n",
       "    </tr>\n",
       "  </tbody>\n",
       "</table>\n",
       "</div>"
      ],
      "text/plain": [
       "                           start_time    end_time  open  close  low  high  \\\n",
       "end_time_ts                                                                 \n",
       "2014-12-05 16:57:00-05:00  1417816560  1417816620   NaN    NaN  NaN   NaN   \n",
       "2014-12-05 16:58:00-05:00  1417816620  1417816680   NaN    NaN  NaN   NaN   \n",
       "2014-12-05 16:59:00-05:00  1417816680  1417816740   NaN    NaN  NaN   NaN   \n",
       "\n",
       "                           volume ticker   igid             start_time_ts  \n",
       "end_time_ts                                                                \n",
       "2014-12-05 16:57:00-05:00       0   AAPL  17085 2014-12-05 16:56:00-05:00  \n",
       "2014-12-05 16:58:00-05:00       0   AAPL  17085 2014-12-05 16:57:00-05:00  \n",
       "2014-12-05 16:59:00-05:00       0   AAPL  17085 2014-12-05 16:58:00-05:00  "
      ]
     },
     "metadata": {},
     "output_type": "display_data"
    }
   ],
   "source": [
    "display(df.head(3))\n",
    "display(df.tail(3))"
   ]
  },
  {
   "cell_type": "code",
   "execution_count": 12,
   "id": "4e615511",
   "metadata": {
    "ExecuteTime": {
     "end_time": "2021-06-15T14:02:59.794224Z",
     "start_time": "2021-06-15T14:02:59.455170Z"
    }
   },
   "outputs": [
    {
     "data": {
      "text/plain": [
       "<AxesSubplot:xlabel='end_time_ts'>"
      ]
     },
     "execution_count": 12,
     "metadata": {},
     "output_type": "execute_result"
    },
    {
     "data": {
      "image/png": "[encoded data removed]",
      "text/plain": [
       "<Figure size 432x288 with 1 Axes>"
      ]
     },
     "metadata": {
      "needs_background": "light"
     },
     "output_type": "display_data"
    }
   ],
   "source": [
    "df[\"close\"].plot()"
   ]
  },
  {
   "cell_type": "markdown",
   "id": "627a48c5",
   "metadata": {},
   "source": [
    "# Read data"
   ]
  },
  {
   "cell_type": "code",
   "execution_count": 13,
   "id": "899384ad",
   "metadata": {
    "ExecuteTime": {
     "end_time": "2021-06-15T14:02:59.887138Z",
     "start_time": "2021-06-15T14:02:59.795583Z"
    },
    "run_control": {
     "marked": true
    }
   },
   "outputs": [
    {
     "ename": "AssertionError",
     "evalue": "",
     "output_type": "error",
     "traceback": [
      "\u001b[0;31m---------------------------------------------------------------------------\u001b[0m",
      "\u001b[0;31mAssertionError\u001b[0m                            Traceback (most recent call last)",
      "\u001b[0;32m<ipython-input-13-d4c5407c8598>\u001b[0m in \u001b[0;36m<module>\u001b[0;34m\u001b[0m\n\u001b[0;32m----> 1\u001b[0;31m \u001b[0;32massert\u001b[0m \u001b[0;36m0\u001b[0m\u001b[0;34m\u001b[0m\u001b[0;34m\u001b[0m\u001b[0m\n\u001b[0m\u001b[1;32m      2\u001b[0m \u001b[0mdf\u001b[0m \u001b[0;34m=\u001b[0m \u001b[0mget_data\u001b[0m\u001b[0;34m(\u001b[0m\u001b[0;36m17085\u001b[0m\u001b[0;34m,\u001b[0m \u001b[0mdate_srs\u001b[0m\u001b[0;34m.\u001b[0m\u001b[0mloc\u001b[0m\u001b[0;34m[\u001b[0m\u001b[0;34m\"2016-01-01\"\u001b[0m\u001b[0;34m:\u001b[0m\u001b[0;34m\"2016-12-31\"\u001b[0m\u001b[0;34m]\u001b[0m\u001b[0;34m)\u001b[0m\u001b[0;34m\u001b[0m\u001b[0;34m\u001b[0m\u001b[0m\n",
      "\u001b[0;31mAssertionError\u001b[0m: "
     ]
    }
   ],
   "source": [
    "assert 0\n",
    "df = get_data(17085, date_srs.loc[\"2016-01-01\":\"2016-12-31\"])"
   ]
  },
  {
   "cell_type": "code",
   "execution_count": null,
   "id": "d778bb4c",
   "metadata": {
    "ExecuteTime": {
     "end_time": "2021-06-15T14:02:59.888674Z",
     "start_time": "2021-06-15T14:02:45.280Z"
    }
   },
   "outputs": [],
   "source": [
    "df.info()"
   ]
  },
  {
   "cell_type": "code",
   "execution_count": null,
   "id": "3600ccd4",
   "metadata": {
    "ExecuteTime": {
     "end_time": "2021-06-15T14:02:59.889502Z",
     "start_time": "2021-06-15T14:02:45.282Z"
    }
   },
   "outputs": [],
   "source": [
    "assert 0\n",
    "df.to_csv(\"AAPL_2016.csv\")"
   ]
  },
  {
   "cell_type": "code",
   "execution_count": 14,
   "id": "5a99876d",
   "metadata": {
    "ExecuteTime": {
     "end_time": "2021-06-15T14:03:50.649345Z",
     "start_time": "2021-06-15T14:03:29.968394Z"
    }
   },
   "outputs": [],
   "source": [
    "df_2015 = imvidchiba.read_csv(\"/app/data/AAPL_2015.csv\")"
   ]
  },
  {
   "cell_type": "code",
   "execution_count": 15,
   "id": "f76dff66",
   "metadata": {
    "ExecuteTime": {
     "end_time": "2021-06-15T14:03:50.672569Z",
     "start_time": "2021-06-15T14:03:50.650846Z"
    }
   },
   "outputs": [
    {
     "data": {
      "text/html": [
       "<div>\n",
       "<style scoped>\n",
       "    .dataframe tbody tr th:only-of-type {\n",
       "        vertical-align: middle;\n",
       "    }\n",
       "\n",
       "    .dataframe tbody tr th {\n",
       "        vertical-align: top;\n",
       "    }\n",
       "\n",
       "    .dataframe thead th {\n",
       "        text-align: right;\n",
       "    }\n",
       "</style>\n",
       "<table border=\"1\" class=\"dataframe\">\n",
       "  <thead>\n",
       "    <tr style=\"text-align: right;\">\n",
       "      <th></th>\n",
       "      <th>end_time</th>\n",
       "      <th>start_time</th>\n",
       "      <th>open</th>\n",
       "      <th>close</th>\n",
       "      <th>low</th>\n",
       "      <th>high</th>\n",
       "      <th>volume</th>\n",
       "      <th>ticker</th>\n",
       "      <th>igid</th>\n",
       "      <th>start_time_ts</th>\n",
       "    </tr>\n",
       "    <tr>\n",
       "      <th>end_time_ts</th>\n",
       "      <th></th>\n",
       "      <th></th>\n",
       "      <th></th>\n",
       "      <th></th>\n",
       "      <th></th>\n",
       "      <th></th>\n",
       "      <th></th>\n",
       "      <th></th>\n",
       "      <th></th>\n",
       "      <th></th>\n",
       "    </tr>\n",
       "  </thead>\n",
       "  <tbody>\n",
       "    <tr>\n",
       "      <th>2015-01-02 09:01:00-05:00</th>\n",
       "      <td>1420207260000000000</td>\n",
       "      <td>1420207200000000000</td>\n",
       "      <td>NaN</td>\n",
       "      <td>NaN</td>\n",
       "      <td>NaN</td>\n",
       "      <td>NaN</td>\n",
       "      <td>0</td>\n",
       "      <td>AAPL</td>\n",
       "      <td>17085</td>\n",
       "      <td>2015-01-02 09:00:00-05:00</td>\n",
       "    </tr>\n",
       "    <tr>\n",
       "      <th>2015-01-02 09:02:00-05:00</th>\n",
       "      <td>1420207320000000000</td>\n",
       "      <td>1420207260000000000</td>\n",
       "      <td>NaN</td>\n",
       "      <td>NaN</td>\n",
       "      <td>NaN</td>\n",
       "      <td>NaN</td>\n",
       "      <td>0</td>\n",
       "      <td>AAPL</td>\n",
       "      <td>17085</td>\n",
       "      <td>2015-01-02 09:01:00-05:00</td>\n",
       "    </tr>\n",
       "    <tr>\n",
       "      <th>2015-01-02 09:03:00-05:00</th>\n",
       "      <td>1420207380000000000</td>\n",
       "      <td>1420207320000000000</td>\n",
       "      <td>NaN</td>\n",
       "      <td>NaN</td>\n",
       "      <td>NaN</td>\n",
       "      <td>NaN</td>\n",
       "      <td>0</td>\n",
       "      <td>AAPL</td>\n",
       "      <td>17085</td>\n",
       "      <td>2015-01-02 09:02:00-05:00</td>\n",
       "    </tr>\n",
       "  </tbody>\n",
       "</table>\n",
       "</div>"
      ],
      "text/plain": [
       "                                      end_time           start_time  open  \\\n",
       "end_time_ts                                                                 \n",
       "2015-01-02 09:01:00-05:00  1420207260000000000  1420207200000000000   NaN   \n",
       "2015-01-02 09:02:00-05:00  1420207320000000000  1420207260000000000   NaN   \n",
       "2015-01-02 09:03:00-05:00  1420207380000000000  1420207320000000000   NaN   \n",
       "\n",
       "                           close  low  high  volume ticker   igid  \\\n",
       "end_time_ts                                                         \n",
       "2015-01-02 09:01:00-05:00    NaN  NaN   NaN       0   AAPL  17085   \n",
       "2015-01-02 09:02:00-05:00    NaN  NaN   NaN       0   AAPL  17085   \n",
       "2015-01-02 09:03:00-05:00    NaN  NaN   NaN       0   AAPL  17085   \n",
       "\n",
       "                                      start_time_ts  \n",
       "end_time_ts                                          \n",
       "2015-01-02 09:01:00-05:00 2015-01-02 09:00:00-05:00  \n",
       "2015-01-02 09:02:00-05:00 2015-01-02 09:01:00-05:00  \n",
       "2015-01-02 09:03:00-05:00 2015-01-02 09:02:00-05:00  "
      ]
     },
     "execution_count": 15,
     "metadata": {},
     "output_type": "execute_result"
    }
   ],
   "source": [
    "df_2015.head(3)"
   ]
  },
  {
   "cell_type": "code",
   "execution_count": 16,
   "id": "1c1019dd",
   "metadata": {
    "ExecuteTime": {
     "end_time": "2021-06-15T14:04:11.388080Z",
     "start_time": "2021-06-15T14:03:50.674252Z"
    }
   },
   "outputs": [],
   "source": [
    "df_2016 = imvidchiba.read_csv(\"/app/data/AAPL_2016.csv\")"
   ]
  },
  {
   "cell_type": "code",
   "execution_count": 17,
   "id": "de6a8fda",
   "metadata": {
    "ExecuteTime": {
     "end_time": "2021-06-15T14:04:11.411219Z",
     "start_time": "2021-06-15T14:04:11.389511Z"
    }
   },
   "outputs": [
    {
     "data": {
      "text/html": [
       "<div>\n",
       "<style scoped>\n",
       "    .dataframe tbody tr th:only-of-type {\n",
       "        vertical-align: middle;\n",
       "    }\n",
       "\n",
       "    .dataframe tbody tr th {\n",
       "        vertical-align: top;\n",
       "    }\n",
       "\n",
       "    .dataframe thead th {\n",
       "        text-align: right;\n",
       "    }\n",
       "</style>\n",
       "<table border=\"1\" class=\"dataframe\">\n",
       "  <thead>\n",
       "    <tr style=\"text-align: right;\">\n",
       "      <th></th>\n",
       "      <th>start_time</th>\n",
       "      <th>end_time</th>\n",
       "      <th>open</th>\n",
       "      <th>close</th>\n",
       "      <th>low</th>\n",
       "      <th>high</th>\n",
       "      <th>volume</th>\n",
       "      <th>ticker</th>\n",
       "      <th>igid</th>\n",
       "      <th>start_time_ts</th>\n",
       "    </tr>\n",
       "    <tr>\n",
       "      <th>end_time_ts</th>\n",
       "      <th></th>\n",
       "      <th></th>\n",
       "      <th></th>\n",
       "      <th></th>\n",
       "      <th></th>\n",
       "      <th></th>\n",
       "      <th></th>\n",
       "      <th></th>\n",
       "      <th></th>\n",
       "      <th></th>\n",
       "    </tr>\n",
       "  </thead>\n",
       "  <tbody>\n",
       "    <tr>\n",
       "      <th>2016-01-04 09:01:00-05:00</th>\n",
       "      <td>1451916000</td>\n",
       "      <td>1451916060</td>\n",
       "      <td>NaN</td>\n",
       "      <td>NaN</td>\n",
       "      <td>NaN</td>\n",
       "      <td>NaN</td>\n",
       "      <td>0</td>\n",
       "      <td>AAPL</td>\n",
       "      <td>17085</td>\n",
       "      <td>2016-01-04 09:00:00-05:00</td>\n",
       "    </tr>\n",
       "    <tr>\n",
       "      <th>2016-01-04 09:02:00-05:00</th>\n",
       "      <td>1451916060</td>\n",
       "      <td>1451916120</td>\n",
       "      <td>NaN</td>\n",
       "      <td>NaN</td>\n",
       "      <td>NaN</td>\n",
       "      <td>NaN</td>\n",
       "      <td>0</td>\n",
       "      <td>AAPL</td>\n",
       "      <td>17085</td>\n",
       "      <td>2016-01-04 09:01:00-05:00</td>\n",
       "    </tr>\n",
       "    <tr>\n",
       "      <th>2016-01-04 09:03:00-05:00</th>\n",
       "      <td>1451916120</td>\n",
       "      <td>1451916180</td>\n",
       "      <td>NaN</td>\n",
       "      <td>NaN</td>\n",
       "      <td>NaN</td>\n",
       "      <td>NaN</td>\n",
       "      <td>0</td>\n",
       "      <td>AAPL</td>\n",
       "      <td>17085</td>\n",
       "      <td>2016-01-04 09:02:00-05:00</td>\n",
       "    </tr>\n",
       "  </tbody>\n",
       "</table>\n",
       "</div>"
      ],
      "text/plain": [
       "                           start_time    end_time  open  close  low  high  \\\n",
       "end_time_ts                                                                 \n",
       "2016-01-04 09:01:00-05:00  1451916000  1451916060   NaN    NaN  NaN   NaN   \n",
       "2016-01-04 09:02:00-05:00  1451916060  1451916120   NaN    NaN  NaN   NaN   \n",
       "2016-01-04 09:03:00-05:00  1451916120  1451916180   NaN    NaN  NaN   NaN   \n",
       "\n",
       "                           volume ticker   igid             start_time_ts  \n",
       "end_time_ts                                                                \n",
       "2016-01-04 09:01:00-05:00       0   AAPL  17085 2016-01-04 09:00:00-05:00  \n",
       "2016-01-04 09:02:00-05:00       0   AAPL  17085 2016-01-04 09:01:00-05:00  \n",
       "2016-01-04 09:03:00-05:00       0   AAPL  17085 2016-01-04 09:02:00-05:00  "
      ]
     },
     "execution_count": 17,
     "metadata": {},
     "output_type": "execute_result"
    }
   ],
   "source": [
    "df_2016.head(3)"
   ]
  },
  {
   "cell_type": "code",
   "execution_count": 18,
   "id": "3aea1cbd",
   "metadata": {
    "ExecuteTime": {
     "end_time": "2021-06-15T14:04:11.434453Z",
     "start_time": "2021-06-15T14:04:11.412572Z"
    }
   },
   "outputs": [],
   "source": [
    "df = pd.concat([df_2015, df_2016], axis=0)"
   ]
  },
  {
   "cell_type": "code",
   "execution_count": 19,
   "id": "517f5a3d",
   "metadata": {
    "ExecuteTime": {
     "end_time": "2021-06-15T14:04:11.467316Z",
     "start_time": "2021-06-15T14:04:11.435663Z"
    }
   },
   "outputs": [
    {
     "name": "stdout",
     "output_type": "stream",
     "text": [
      "<class 'pandas.core.frame.DataFrame'>\n",
      "DatetimeIndex: 241416 entries, 2015-01-02 09:01:00-05:00 to 2016-12-30 16:59:00-05:00\n",
      "Data columns (total 10 columns):\n",
      " #   Column         Non-Null Count   Dtype                           \n",
      "---  ------         --------------   -----                           \n",
      " 0   end_time       241416 non-null  int64                           \n",
      " 1   start_time     241416 non-null  int64                           \n",
      " 2   open           196527 non-null  float64                         \n",
      " 3   close          196527 non-null  float64                         \n",
      " 4   low            196527 non-null  float64                         \n",
      " 5   high           196527 non-null  float64                         \n",
      " 6   volume         241416 non-null  int64                           \n",
      " 7   ticker         241416 non-null  object                          \n",
      " 8   igid           241416 non-null  int64                           \n",
      " 9   start_time_ts  241416 non-null  datetime64[ns, America/New_York]\n",
      "dtypes: datetime64[ns, America/New_York](1), float64(4), int64(4), object(1)\n",
      "memory usage: 20.3+ MB\n"
     ]
    }
   ],
   "source": [
    "df.info()"
   ]
  },
  {
   "cell_type": "code",
   "execution_count": null,
   "id": "e2901a94",
   "metadata": {},
   "outputs": [],
   "source": []
  }
 ],
 "metadata": {
  "kernelspec": {
   "display_name": "Python 3",
   "language": "python",
   "name": "python3"
  },
  "language_info": {
   "codemirror_mode": {
    "name": "ipython",
    "version": 3
   },
   "file_extension": ".py",
   "mimetype": "text/x-python",
   "name": "python",
   "nbconvert_exporter": "python",
   "pygments_lexer": "ipython3",
   "version": "3.8.5"
  },
  "toc": {
   "base_numbering": 1,
   "nav_menu": {},
   "number_sections": true,
   "sideBar": true,
   "skip_h1_title": false,
   "title_cell": "Table of Contents",
   "title_sidebar": "Contents",
   "toc_cell": false,
   "toc_position": {},
   "toc_section_display": true,
   "toc_window_display": false
  }
 },
 "nbformat": 4,
 "nbformat_minor": 5
}
