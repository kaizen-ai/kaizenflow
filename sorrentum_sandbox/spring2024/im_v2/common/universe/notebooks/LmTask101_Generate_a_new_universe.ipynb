{
 "cells": [
  {
   "cell_type": "code",
   "execution_count": 1,
   "id": "1935a348",
   "metadata": {
    "ExecuteTime": {
     "end_time": "2022-05-06T14:34:09.671834Z",
     "start_time": "2022-05-06T14:34:09.100354Z"
    },
    "scrolled": true
   },
   "outputs": [
    {
     "name": "stderr",
     "output_type": "stream",
     "text": [
      "/app/vendors_lime/taq_bars/utils.py:23: TqdmExperimentalWarning: Using `tqdm.autonotebook.tqdm` in notebook mode. Use `tqdm.tqdm` instead to force console mode (e.g. in jupyter console)\n",
      "  from tqdm.autonotebook import tqdm\n"
     ]
    }
   ],
   "source": [
    "%load_ext autoreload\n",
    "%autoreload 2\n",
    "\n",
    "import logging\n",
    "\n",
    "import pandas as pd\n",
    "import vendors_lime.datastream_liquidity.universe_utils as vldlunut\n",
    "\n",
    "import helpers.hdbg as hdbg\n",
    "import helpers.hprint as hprint\n",
    "import helpers.hsql as hsql"
   ]
  },
  {
   "cell_type": "code",
   "execution_count": 2,
   "id": "51666354",
   "metadata": {
    "ExecuteTime": {
     "end_time": "2022-05-06T14:34:10.572972Z",
     "start_time": "2022-05-06T14:34:09.673825Z"
    },
    "scrolled": true
   },
   "outputs": [
    {
     "name": "stdout",
     "output_type": "stream",
     "text": [
      "\u001b[0m\u001b[36mINFO\u001b[0m: > cmd='/venv/lib/python3.8/site-packages/ipykernel_launcher.py -f /home/.local/share/jupyter/runtime/kernel-272fbfc2-ca80-44a7-b497-e340e5eb6ce0.json'\n",
      "WARNING: Running in Jupyter\n",
      "\u001b[33mWARNING\u001b[0m: Disabling annoying warnings\n"
     ]
    }
   ],
   "source": [
    "hdbg.init_logger(verbosity=logging.INFO)\n",
    "\n",
    "_LOG = logging.getLogger(__name__)\n",
    "\n",
    "# _LOG.info(\"%s\", env.get_system_signature()[0])\n",
    "\n",
    "hprint.config_notebook()"
   ]
  },
  {
   "cell_type": "markdown",
   "id": "fb6b9cd8",
   "metadata": {
    "ExecuteTime": {
     "end_time": "2021-08-04T00:26:31.474685Z",
     "start_time": "2021-08-04T00:26:31.459826Z"
    }
   },
   "source": [
    "# Load liquidity files"
   ]
  },
  {
   "cell_type": "code",
   "execution_count": 3,
   "id": "b1e9ca6c",
   "metadata": {
    "ExecuteTime": {
     "end_time": "2022-05-06T14:34:10.617636Z",
     "start_time": "2022-05-06T14:34:10.574958Z"
    }
   },
   "outputs": [],
   "source": [
    "connection = hsql.get_connection(\n",
    "    \"dp-research.redshift.eglp.com\",\n",
    "    \"refdata\",\n",
    "    5439,\n",
    "    \"cf_dev_gsaggese\",\n",
    "    \"tIELZucge1bT\",\n",
    ")"
   ]
  },
  {
   "cell_type": "code",
   "execution_count": 94,
   "id": "adc91d1b",
   "metadata": {
    "ExecuteTime": {
     "end_time": "2022-05-06T15:58:09.732097Z",
     "start_time": "2022-05-06T15:58:06.718464Z"
    }
   },
   "outputs": [
    {
     "name": "stdout",
     "output_type": "stream",
     "text": [
      "INFO  Loading cached version from memory ...\n",
      "INFO  Loading cached version from memory done (0.031 s)\n",
      "INFO    --> Cache data for 'get_liquidity_data' from 'mem' cache (size=nan, time=0.04 s, tag=None, loc=/mnt/tmpfs/tmp.cache.mem)\n",
      "INFO  Number remaining=3363 after applying filters\n"
     ]
    },
    {
     "name": "stderr",
     "output_type": "stream",
     "text": [
      "/venv/lib/python3.8/site-packages/pandas/io/sql.py:761: UserWarning: pandas only support SQLAlchemy connectable(engine/connection) ordatabase string URI or sqlite3 DBAPI2 connectionother DBAPI2 objects are not tested, please consider using SQLAlchemy\n",
      "  warnings.warn(\n"
     ]
    },
    {
     "name": "stdout",
     "output_type": "stream",
     "text": [
      "df= (3363, 42)\n"
     ]
    },
    {
     "data": {
      "text/html": [
       "<div>\n",
       "<style scoped>\n",
       "    .dataframe tbody tr th:only-of-type {\n",
       "        vertical-align: middle;\n",
       "    }\n",
       "\n",
       "    .dataframe tbody tr th {\n",
       "        vertical-align: top;\n",
       "    }\n",
       "\n",
       "    .dataframe thead th {\n",
       "        text-align: right;\n",
       "    }\n",
       "</style>\n",
       "<table border=\"1\" class=\"dataframe\">\n",
       "  <thead>\n",
       "    <tr style=\"text-align: right;\">\n",
       "      <th></th>\n",
       "      <th>region</th>\n",
       "      <th>trade_date</th>\n",
       "      <th>asset_id</th>\n",
       "      <th>infocode</th>\n",
       "      <th>country</th>\n",
       "      <th>currency</th>\n",
       "      <th>is_major_sec</th>\n",
       "      <th>is_prim_qt</th>\n",
       "      <th>num_shrs</th>\n",
       "      <th>last_close_usd</th>\n",
       "      <th>spread_bps_21d</th>\n",
       "      <th>spread_bps_42d</th>\n",
       "      <th>spread_bps_63d</th>\n",
       "      <th>spread_usd_21d</th>\n",
       "      <th>spread_usd_42d</th>\n",
       "      <th>spread_usd_63d</th>\n",
       "      <th>mdv_shares_21d</th>\n",
       "      <th>mdv_shares_42d</th>\n",
       "      <th>mdv_shares_63d</th>\n",
       "      <th>mdv_usd_21d</th>\n",
       "      <th>mdv_usd_42d</th>\n",
       "      <th>mdv_usd_63d</th>\n",
       "      <th>close_ct_21d</th>\n",
       "      <th>close_ct_42d</th>\n",
       "      <th>close_ct_63d</th>\n",
       "      <th>bd_ct_21d</th>\n",
       "      <th>bd_ct_42d</th>\n",
       "      <th>bd_ct_63d</th>\n",
       "      <th>ticker</th>\n",
       "      <th>volume</th>\n",
       "      <th>market_cap</th>\n",
       "      <th>mapped_asset_id</th>\n",
       "      <th>idc_pk</th>\n",
       "      <th>prev_date</th>\n",
       "      <th>sectype</th>\n",
       "      <th>close_usd</th>\n",
       "      <th>mkt_cap_usd</th>\n",
       "      <th>notional_usd_sum_90d</th>\n",
       "      <th>notional_usd_avg_90d</th>\n",
       "      <th>close_usd_avg_90d</th>\n",
       "      <th>close_usd_ct_90d</th>\n",
       "      <th>mkt_cap_usd_avg_90d</th>\n",
       "    </tr>\n",
       "  </thead>\n",
       "  <tbody>\n",
       "    <tr>\n",
       "      <th>0</th>\n",
       "      <td>am</td>\n",
       "      <td>2022-03-01</td>\n",
       "      <td>10005</td>\n",
       "      <td>287682.0</td>\n",
       "      <td>US</td>\n",
       "      <td>USD</td>\n",
       "      <td>True</td>\n",
       "      <td>True</td>\n",
       "      <td>359659.0</td>\n",
       "      <td>809.52930</td>\n",
       "      <td>NaN</td>\n",
       "      <td>NaN</td>\n",
       "      <td>189.329929</td>\n",
       "      <td>NaN</td>\n",
       "      <td>NaN</td>\n",
       "      <td>15.326812</td>\n",
       "      <td>NaN</td>\n",
       "      <td>NaN</td>\n",
       "      <td>1227.0</td>\n",
       "      <td>NaN</td>\n",
       "      <td>NaN</td>\n",
       "      <td>9.932925e+05</td>\n",
       "      <td>NaN</td>\n",
       "      <td>NaN</td>\n",
       "      <td>15.0</td>\n",
       "      <td>NaN</td>\n",
       "      <td>NaN</td>\n",
       "      <td>60.0</td>\n",
       "      <td>NaN</td>\n",
       "      <td>NaN</td>\n",
       "      <td>2.911545e+08</td>\n",
       "      <td>10005.0</td>\n",
       "      <td>240797.0</td>\n",
       "      <td>2021-12-22</td>\n",
       "      <td>NA:F</td>\n",
       "      <td>809.529175</td>\n",
       "      <td>2.914305e+08</td>\n",
       "      <td>2.478137e+07</td>\n",
       "      <td>1.548836e+06</td>\n",
       "      <td>827.278515</td>\n",
       "      <td>16.0</td>\n",
       "      <td>2.978203e+08</td>\n",
       "    </tr>\n",
       "    <tr>\n",
       "      <th>1</th>\n",
       "      <td>am</td>\n",
       "      <td>2022-03-01</td>\n",
       "      <td>10006</td>\n",
       "      <td>287796.0</td>\n",
       "      <td>US</td>\n",
       "      <td>USD</td>\n",
       "      <td>True</td>\n",
       "      <td>True</td>\n",
       "      <td>245000.0</td>\n",
       "      <td>647.96778</td>\n",
       "      <td>93.082726</td>\n",
       "      <td>122.892921</td>\n",
       "      <td>116.338226</td>\n",
       "      <td>6.031461</td>\n",
       "      <td>7.963065</td>\n",
       "      <td>7.538342</td>\n",
       "      <td>315.5</td>\n",
       "      <td>347.0</td>\n",
       "      <td>286.0</td>\n",
       "      <td>2.044338e+05</td>\n",
       "      <td>2.248448e+05</td>\n",
       "      <td>1.853188e+05</td>\n",
       "      <td>20.0</td>\n",
       "      <td>40.0</td>\n",
       "      <td>60.0</td>\n",
       "      <td>20.0</td>\n",
       "      <td>40.0</td>\n",
       "      <td>60.0</td>\n",
       "      <td>FBGX</td>\n",
       "      <td>312.0</td>\n",
       "      <td>1.587521e+08</td>\n",
       "      <td>10006.0</td>\n",
       "      <td>240810.0</td>\n",
       "      <td>2022-02-28</td>\n",
       "      <td>NA:F</td>\n",
       "      <td>647.967712</td>\n",
       "      <td>1.587521e+08</td>\n",
       "      <td>2.553861e+07</td>\n",
       "      <td>4.186657e+05</td>\n",
       "      <td>756.302193</td>\n",
       "      <td>61.0</td>\n",
       "      <td>1.852940e+08</td>\n",
       "    </tr>\n",
       "    <tr>\n",
       "      <th>3</th>\n",
       "      <td>am</td>\n",
       "      <td>2022-03-01</td>\n",
       "      <td>10012</td>\n",
       "      <td>250800.0</td>\n",
       "      <td>US</td>\n",
       "      <td>USD</td>\n",
       "      <td>True</td>\n",
       "      <td>True</td>\n",
       "      <td>4850003.0</td>\n",
       "      <td>51.75470</td>\n",
       "      <td>15.764249</td>\n",
       "      <td>15.590427</td>\n",
       "      <td>15.619935</td>\n",
       "      <td>0.081587</td>\n",
       "      <td>0.080688</td>\n",
       "      <td>0.080841</td>\n",
       "      <td>24332.5</td>\n",
       "      <td>25810.5</td>\n",
       "      <td>25810.5</td>\n",
       "      <td>1.259321e+06</td>\n",
       "      <td>1.335815e+06</td>\n",
       "      <td>1.335815e+06</td>\n",
       "      <td>20.0</td>\n",
       "      <td>40.0</td>\n",
       "      <td>60.0</td>\n",
       "      <td>20.0</td>\n",
       "      <td>40.0</td>\n",
       "      <td>60.0</td>\n",
       "      <td>FYT</td>\n",
       "      <td>41448.0</td>\n",
       "      <td>2.510105e+08</td>\n",
       "      <td>10012.0</td>\n",
       "      <td>158806.0</td>\n",
       "      <td>2022-02-28</td>\n",
       "      <td>NA:F</td>\n",
       "      <td>51.754700</td>\n",
       "      <td>2.510103e+08</td>\n",
       "      <td>1.246469e+08</td>\n",
       "      <td>2.043393e+06</td>\n",
       "      <td>51.897661</td>\n",
       "      <td>61.0</td>\n",
       "      <td>2.350211e+08</td>\n",
       "    </tr>\n",
       "  </tbody>\n",
       "</table>\n",
       "</div>"
      ],
      "text/plain": [
       "  region  trade_date   asset_id  infocode country currency is_major_sec is_prim_qt   num_shrs  last_close_usd  spread_bps_21d  spread_bps_42d  spread_bps_63d  spread_usd_21d  spread_usd_42d  spread_usd_63d  mdv_shares_21d  mdv_shares_42d  mdv_shares_63d   mdv_usd_21d   mdv_usd_42d   mdv_usd_63d  close_ct_21d  close_ct_42d  close_ct_63d  bd_ct_21d  bd_ct_42d  bd_ct_63d ticker   volume    market_cap  mapped_asset_id    idc_pk   prev_date sectype   close_usd   mkt_cap_usd  notional_usd_sum_90d  notional_usd_avg_90d  close_usd_avg_90d  close_usd_ct_90d  mkt_cap_usd_avg_90d\n",
       "0     am  2022-03-01  10005  287682.0      US      USD         True       True   359659.0       809.52930             NaN             NaN      189.329929             NaN             NaN       15.326812             NaN             NaN          1227.0           NaN           NaN  9.932925e+05           NaN           NaN          15.0        NaN        NaN       60.0    NaN      NaN  2.911545e+08      10005.0  240797.0  2021-12-22   NA:F   809.529175  2.914305e+08          2.478137e+07          1.548836e+06         827.278515              16.0         2.978203e+08\n",
       "1     am  2022-03-01  10006  287796.0      US      USD         True       True   245000.0       647.96778       93.082726      122.892921      116.338226        6.031461        7.963065        7.538342           315.5           347.0           286.0  2.044338e+05  2.248448e+05  1.853188e+05          20.0          40.0          60.0       20.0       40.0       60.0   FBGX    312.0  1.587521e+08      10006.0  240810.0  2022-02-28   NA:F   647.967712  1.587521e+08          2.553861e+07          4.186657e+05         756.302193              61.0         1.852940e+08\n",
       "3     am  2022-03-01  10012  250800.0      US      USD         True       True  4850003.0        51.75470       15.764249       15.590427       15.619935        0.081587        0.080688        0.080841         24332.5         25810.5         25810.5  1.259321e+06  1.335815e+06  1.335815e+06          20.0          40.0          60.0       20.0       40.0       60.0    FYT  41448.0  2.510105e+08      10012.0  158806.0  2022-02-28   NA:F    51.754700  2.510103e+08          1.246469e+08          2.043393e+06          51.897661              61.0         2.350211e+08"
      ]
     },
     "metadata": {},
     "output_type": "display_data"
    }
   ],
   "source": [
    "date = \"2022-03-01\"\n",
    "\n",
    "# apply_categorical_filters = False\n",
    "apply_categorical_filters = True\n",
    "add_rankings = False\n",
    "df = vldlunut.generate_liquidity_df(\n",
    "    date,\n",
    "    connection,\n",
    "    apply_categorical_filters=apply_categorical_filters,\n",
    "    add_rankings=add_rankings,\n",
    ")\n",
    "\n",
    "print(\"df=\", df.shape)\n",
    "display(df.head(3))"
   ]
  },
  {
   "cell_type": "code",
   "execution_count": 47,
   "id": "08c475c2",
   "metadata": {
    "ExecuteTime": {
     "end_time": "2022-05-06T14:47:07.811627Z",
     "start_time": "2022-05-06T14:47:07.761537Z"
    }
   },
   "outputs": [
    {
     "data": {
      "text/html": [
       "<div>\n",
       "<style scoped>\n",
       "    .dataframe tbody tr th:only-of-type {\n",
       "        vertical-align: middle;\n",
       "    }\n",
       "\n",
       "    .dataframe tbody tr th {\n",
       "        vertical-align: top;\n",
       "    }\n",
       "\n",
       "    .dataframe thead th {\n",
       "        text-align: right;\n",
       "    }\n",
       "</style>\n",
       "<table border=\"1\" class=\"dataframe\">\n",
       "  <thead>\n",
       "    <tr style=\"text-align: right;\">\n",
       "      <th></th>\n",
       "      <th>region</th>\n",
       "      <th>trade_date</th>\n",
       "      <th>asset_id</th>\n",
       "      <th>infocode</th>\n",
       "      <th>country</th>\n",
       "      <th>currency</th>\n",
       "      <th>is_major_sec</th>\n",
       "      <th>is_prim_qt</th>\n",
       "      <th>num_shrs</th>\n",
       "      <th>last_close_usd</th>\n",
       "      <th>spread_bps_21d</th>\n",
       "      <th>spread_bps_42d</th>\n",
       "      <th>spread_bps_63d</th>\n",
       "      <th>spread_usd_21d</th>\n",
       "      <th>spread_usd_42d</th>\n",
       "      <th>spread_usd_63d</th>\n",
       "      <th>mdv_shares_21d</th>\n",
       "      <th>mdv_shares_42d</th>\n",
       "      <th>mdv_shares_63d</th>\n",
       "      <th>mdv_usd_21d</th>\n",
       "      <th>mdv_usd_42d</th>\n",
       "      <th>mdv_usd_63d</th>\n",
       "      <th>close_ct_21d</th>\n",
       "      <th>close_ct_42d</th>\n",
       "      <th>close_ct_63d</th>\n",
       "      <th>bd_ct_21d</th>\n",
       "      <th>bd_ct_42d</th>\n",
       "      <th>bd_ct_63d</th>\n",
       "      <th>ticker</th>\n",
       "      <th>volume</th>\n",
       "      <th>market_cap</th>\n",
       "      <th>mapped_asset_id</th>\n",
       "      <th>idc_pk</th>\n",
       "      <th>prev_date</th>\n",
       "      <th>sectype</th>\n",
       "      <th>close_usd</th>\n",
       "      <th>mkt_cap_usd</th>\n",
       "      <th>notional_usd_sum_90d</th>\n",
       "      <th>notional_usd_avg_90d</th>\n",
       "      <th>close_usd_avg_90d</th>\n",
       "      <th>close_usd_ct_90d</th>\n",
       "      <th>mkt_cap_usd_avg_90d</th>\n",
       "    </tr>\n",
       "  </thead>\n",
       "  <tbody>\n",
       "    <tr>\n",
       "      <th>0</th>\n",
       "      <td>am</td>\n",
       "      <td>2022-03-01</td>\n",
       "      <td>10005</td>\n",
       "      <td>287682.0</td>\n",
       "      <td>US</td>\n",
       "      <td>USD</td>\n",
       "      <td>True</td>\n",
       "      <td>True</td>\n",
       "      <td>359659.0</td>\n",
       "      <td>809.52930</td>\n",
       "      <td>NaN</td>\n",
       "      <td>NaN</td>\n",
       "      <td>189.329929</td>\n",
       "      <td>NaN</td>\n",
       "      <td>NaN</td>\n",
       "      <td>15.326812</td>\n",
       "      <td>NaN</td>\n",
       "      <td>NaN</td>\n",
       "      <td>1227.0</td>\n",
       "      <td>NaN</td>\n",
       "      <td>NaN</td>\n",
       "      <td>9.932925e+05</td>\n",
       "      <td>NaN</td>\n",
       "      <td>NaN</td>\n",
       "      <td>15.0</td>\n",
       "      <td>NaN</td>\n",
       "      <td>NaN</td>\n",
       "      <td>60.0</td>\n",
       "      <td>NaN</td>\n",
       "      <td>NaN</td>\n",
       "      <td>2.911545e+08</td>\n",
       "      <td>10005.0</td>\n",
       "      <td>240797.0</td>\n",
       "      <td>2021-12-22</td>\n",
       "      <td>NA:F</td>\n",
       "      <td>809.529175</td>\n",
       "      <td>2.914305e+08</td>\n",
       "      <td>2.478137e+07</td>\n",
       "      <td>1.548836e+06</td>\n",
       "      <td>827.278515</td>\n",
       "      <td>16.0</td>\n",
       "      <td>2.978203e+08</td>\n",
       "    </tr>\n",
       "    <tr>\n",
       "      <th>1</th>\n",
       "      <td>am</td>\n",
       "      <td>2022-03-01</td>\n",
       "      <td>10006</td>\n",
       "      <td>287796.0</td>\n",
       "      <td>US</td>\n",
       "      <td>USD</td>\n",
       "      <td>True</td>\n",
       "      <td>True</td>\n",
       "      <td>245000.0</td>\n",
       "      <td>647.96778</td>\n",
       "      <td>93.082726</td>\n",
       "      <td>122.892921</td>\n",
       "      <td>116.338226</td>\n",
       "      <td>6.031461</td>\n",
       "      <td>7.963065</td>\n",
       "      <td>7.538342</td>\n",
       "      <td>315.5</td>\n",
       "      <td>347.0</td>\n",
       "      <td>286.0</td>\n",
       "      <td>2.044338e+05</td>\n",
       "      <td>2.248448e+05</td>\n",
       "      <td>1.853188e+05</td>\n",
       "      <td>20.0</td>\n",
       "      <td>40.0</td>\n",
       "      <td>60.0</td>\n",
       "      <td>20.0</td>\n",
       "      <td>40.0</td>\n",
       "      <td>60.0</td>\n",
       "      <td>FBGX</td>\n",
       "      <td>312.0</td>\n",
       "      <td>1.587521e+08</td>\n",
       "      <td>10006.0</td>\n",
       "      <td>240810.0</td>\n",
       "      <td>2022-02-28</td>\n",
       "      <td>NA:F</td>\n",
       "      <td>647.967712</td>\n",
       "      <td>1.587521e+08</td>\n",
       "      <td>2.553861e+07</td>\n",
       "      <td>4.186657e+05</td>\n",
       "      <td>756.302193</td>\n",
       "      <td>61.0</td>\n",
       "      <td>1.852940e+08</td>\n",
       "    </tr>\n",
       "    <tr>\n",
       "      <th>2</th>\n",
       "      <td>am</td>\n",
       "      <td>2022-03-01</td>\n",
       "      <td>10009</td>\n",
       "      <td>242608.0</td>\n",
       "      <td>US</td>\n",
       "      <td>USD</td>\n",
       "      <td>True</td>\n",
       "      <td>True</td>\n",
       "      <td>28004050.0</td>\n",
       "      <td>120.17000</td>\n",
       "      <td>14.283386</td>\n",
       "      <td>14.938365</td>\n",
       "      <td>14.541366</td>\n",
       "      <td>0.171643</td>\n",
       "      <td>0.179514</td>\n",
       "      <td>0.174744</td>\n",
       "      <td>351403.5</td>\n",
       "      <td>260390.0</td>\n",
       "      <td>245140.5</td>\n",
       "      <td>4.222816e+07</td>\n",
       "      <td>3.129107e+07</td>\n",
       "      <td>2.945853e+07</td>\n",
       "      <td>20.0</td>\n",
       "      <td>40.0</td>\n",
       "      <td>60.0</td>\n",
       "      <td>20.0</td>\n",
       "      <td>40.0</td>\n",
       "      <td>60.0</td>\n",
       "      <td>VC</td>\n",
       "      <td>501303.0</td>\n",
       "      <td>3.365247e+09</td>\n",
       "      <td>10009.0</td>\n",
       "      <td>152588.0</td>\n",
       "      <td>2022-02-28</td>\n",
       "      <td>NA:C</td>\n",
       "      <td>120.169998</td>\n",
       "      <td>3.365241e+09</td>\n",
       "      <td>1.993789e+09</td>\n",
       "      <td>3.268507e+07</td>\n",
       "      <td>110.105574</td>\n",
       "      <td>61.0</td>\n",
       "      <td>3.082697e+09</td>\n",
       "    </tr>\n",
       "    <tr>\n",
       "      <th>3</th>\n",
       "      <td>am</td>\n",
       "      <td>2022-03-01</td>\n",
       "      <td>10012</td>\n",
       "      <td>250800.0</td>\n",
       "      <td>US</td>\n",
       "      <td>USD</td>\n",
       "      <td>True</td>\n",
       "      <td>True</td>\n",
       "      <td>4850003.0</td>\n",
       "      <td>51.75470</td>\n",
       "      <td>15.764249</td>\n",
       "      <td>15.590427</td>\n",
       "      <td>15.619935</td>\n",
       "      <td>0.081587</td>\n",
       "      <td>0.080688</td>\n",
       "      <td>0.080841</td>\n",
       "      <td>24332.5</td>\n",
       "      <td>25810.5</td>\n",
       "      <td>25810.5</td>\n",
       "      <td>1.259321e+06</td>\n",
       "      <td>1.335815e+06</td>\n",
       "      <td>1.335815e+06</td>\n",
       "      <td>20.0</td>\n",
       "      <td>40.0</td>\n",
       "      <td>60.0</td>\n",
       "      <td>20.0</td>\n",
       "      <td>40.0</td>\n",
       "      <td>60.0</td>\n",
       "      <td>FYT</td>\n",
       "      <td>41448.0</td>\n",
       "      <td>2.510105e+08</td>\n",
       "      <td>10012.0</td>\n",
       "      <td>158806.0</td>\n",
       "      <td>2022-02-28</td>\n",
       "      <td>NA:F</td>\n",
       "      <td>51.754700</td>\n",
       "      <td>2.510103e+08</td>\n",
       "      <td>1.246469e+08</td>\n",
       "      <td>2.043393e+06</td>\n",
       "      <td>51.897661</td>\n",
       "      <td>61.0</td>\n",
       "      <td>2.350211e+08</td>\n",
       "    </tr>\n",
       "    <tr>\n",
       "      <th>4</th>\n",
       "      <td>am</td>\n",
       "      <td>2022-03-01</td>\n",
       "      <td>10013</td>\n",
       "      <td>251999.0</td>\n",
       "      <td>US</td>\n",
       "      <td>USD</td>\n",
       "      <td>True</td>\n",
       "      <td>False</td>\n",
       "      <td>95121680.0</td>\n",
       "      <td>2.78000</td>\n",
       "      <td>87.931790</td>\n",
       "      <td>93.412496</td>\n",
       "      <td>90.516117</td>\n",
       "      <td>0.024445</td>\n",
       "      <td>0.025969</td>\n",
       "      <td>0.025163</td>\n",
       "      <td>77105.5</td>\n",
       "      <td>88271.0</td>\n",
       "      <td>91163.5</td>\n",
       "      <td>2.143533e+05</td>\n",
       "      <td>2.453934e+05</td>\n",
       "      <td>2.534345e+05</td>\n",
       "      <td>20.0</td>\n",
       "      <td>40.0</td>\n",
       "      <td>60.0</td>\n",
       "      <td>20.0</td>\n",
       "      <td>40.0</td>\n",
       "      <td>60.0</td>\n",
       "      <td>THTX</td>\n",
       "      <td>147555.0</td>\n",
       "      <td>2.644383e+08</td>\n",
       "      <td>10013.0</td>\n",
       "      <td>160175.0</td>\n",
       "      <td>2022-02-28</td>\n",
       "      <td>NA:C</td>\n",
       "      <td>2.780000</td>\n",
       "      <td>2.644392e+08</td>\n",
       "      <td>1.859816e+07</td>\n",
       "      <td>3.048878e+05</td>\n",
       "      <td>3.040490</td>\n",
       "      <td>61.0</td>\n",
       "      <td>2.892175e+08</td>\n",
       "    </tr>\n",
       "  </tbody>\n",
       "</table>\n",
       "</div>"
      ],
      "text/plain": [
       "  region  trade_date   asset_id  infocode country currency is_major_sec is_prim_qt    num_shrs  last_close_usd  spread_bps_21d  spread_bps_42d  spread_bps_63d  spread_usd_21d  spread_usd_42d  spread_usd_63d  mdv_shares_21d  mdv_shares_42d  mdv_shares_63d   mdv_usd_21d   mdv_usd_42d   mdv_usd_63d  close_ct_21d  close_ct_42d  close_ct_63d  bd_ct_21d  bd_ct_42d  bd_ct_63d ticker    volume    market_cap  mapped_asset_id    idc_pk   prev_date sectype   close_usd   mkt_cap_usd  notional_usd_sum_90d  notional_usd_avg_90d  close_usd_avg_90d  close_usd_ct_90d  mkt_cap_usd_avg_90d\n",
       "0     am  2022-03-01  10005  287682.0      US      USD         True       True    359659.0       809.52930             NaN             NaN      189.329929             NaN             NaN       15.326812             NaN             NaN          1227.0           NaN           NaN  9.932925e+05           NaN           NaN          15.0        NaN        NaN       60.0    NaN       NaN  2.911545e+08      10005.0  240797.0  2021-12-22   NA:F   809.529175  2.914305e+08          2.478137e+07          1.548836e+06         827.278515              16.0         2.978203e+08\n",
       "1     am  2022-03-01  10006  287796.0      US      USD         True       True    245000.0       647.96778       93.082726      122.892921      116.338226        6.031461        7.963065        7.538342           315.5           347.0           286.0  2.044338e+05  2.248448e+05  1.853188e+05          20.0          40.0          60.0       20.0       40.0       60.0   FBGX     312.0  1.587521e+08      10006.0  240810.0  2022-02-28   NA:F   647.967712  1.587521e+08          2.553861e+07          4.186657e+05         756.302193              61.0         1.852940e+08\n",
       "2     am  2022-03-01  10009  242608.0      US      USD         True       True  28004050.0       120.17000       14.283386       14.938365       14.541366        0.171643        0.179514        0.174744        351403.5        260390.0        245140.5  4.222816e+07  3.129107e+07  2.945853e+07          20.0          40.0          60.0       20.0       40.0       60.0     VC  501303.0  3.365247e+09      10009.0  152588.0  2022-02-28   NA:C   120.169998  3.365241e+09          1.993789e+09          3.268507e+07         110.105574              61.0         3.082697e+09\n",
       "3     am  2022-03-01  10012  250800.0      US      USD         True       True   4850003.0        51.75470       15.764249       15.590427       15.619935        0.081587        0.080688        0.080841         24332.5         25810.5         25810.5  1.259321e+06  1.335815e+06  1.335815e+06          20.0          40.0          60.0       20.0       40.0       60.0    FYT   41448.0  2.510105e+08      10012.0  158806.0  2022-02-28   NA:F    51.754700  2.510103e+08          1.246469e+08          2.043393e+06          51.897661              61.0         2.350211e+08\n",
       "4     am  2022-03-01  10013  251999.0      US      USD         True      False  95121680.0         2.78000       87.931790       93.412496       90.516117        0.024445        0.025969        0.025163         77105.5         88271.0         91163.5  2.143533e+05  2.453934e+05  2.534345e+05          20.0          40.0          60.0       20.0       40.0       60.0   THTX  147555.0  2.644383e+08      10013.0  160175.0  2022-02-28   NA:C     2.780000  2.644392e+08          1.859816e+07          3.048878e+05           3.040490              61.0         2.892175e+08"
      ]
     },
     "execution_count": 47,
     "metadata": {},
     "output_type": "execute_result"
    }
   ],
   "source": [
    "df.head()"
   ]
  },
  {
   "cell_type": "code",
   "execution_count": 53,
   "id": "0154787b",
   "metadata": {
    "ExecuteTime": {
     "end_time": "2022-05-06T14:48:50.786077Z",
     "start_time": "2022-05-06T14:48:50.748299Z"
    }
   },
   "outputs": [
    {
     "name": "stdout",
     "output_type": "stream",
     "text": [
      "region= ['am']\n",
      "trade_date= [datetime.date(2022, 3, 1)]\n",
      "num(asset_ids)= 33805\n",
      "num(infocode)= 33585\n",
      "country=\n",
      "US    24934\n",
      "CA     5047\n",
      "MX     2365\n",
      "BR     1459\n",
      "Name: country, dtype: int64\n",
      "is_major_sec=\n",
      "True     27010\n",
      "False     6579\n",
      "Name: is_major_sec, dtype: int64\n",
      "is_prim_qt=\n",
      "True     24661\n",
      "False     8928\n",
      "Name: is_prim_qt, dtype: int64\n",
      "sectype=\n",
      "NA:C     5536\n",
      "NA:F     3383\n",
      "NA:W      977\n",
      "NA:U      739\n",
      "NA:P      574\n",
      "NA:A      466\n",
      "NA:I      408\n",
      "NA:R       53\n",
      "NA:S       31\n",
      "Name: sectype, dtype: int64\n"
     ]
    }
   ],
   "source": [
    "print(\"region=\", df[\"region\"].unique())\n",
    "\n",
    "print(\"trade_date=\", df[\"trade_date\"].unique())\n",
    "\n",
    "print(\"num(asset_ids)=\", df[\"asset_id\"].nunique())\n",
    "\n",
    "print(\"num(infocode)=\", df[\"infocode\"].nunique())\n",
    "\n",
    "print(\"country=\\n%s\" % df[\"country\"].value_counts())\n",
    "\n",
    "print(\"is_major_sec=\\n%s\" % df[\"is_major_sec\"].value_counts())\n",
    "\n",
    "print(\"is_prim_qt=\\n%s\" % df[\"is_prim_qt\"].value_counts())\n",
    "\n",
    "print(\"sectype=\\n%s\" % df[\"sectype\"].value_counts())"
   ]
  },
  {
   "cell_type": "code",
   "execution_count": 92,
   "id": "d23653c6",
   "metadata": {
    "ExecuteTime": {
     "end_time": "2022-05-06T15:56:22.712591Z",
     "start_time": "2022-05-06T15:56:22.689782Z"
    }
   },
   "outputs": [
    {
     "name": "stdout",
     "output_type": "stream",
     "text": [
      "Series([], Name: ticker, dtype: object)\n"
     ]
    }
   ],
   "source": [
    "# mask = df[\"sectype\"] == \"NA:P \"\n",
    "# mask = df[\"sectype\"] == \"NA:F \"\n",
    "mask = df[\"is_prim_qt\"] == False\n",
    "df[mask]\n",
    "print(df[mask][\"ticker\"])"
   ]
  },
  {
   "cell_type": "code",
   "execution_count": 56,
   "id": "03f3d248",
   "metadata": {
    "ExecuteTime": {
     "end_time": "2022-05-06T14:49:53.355781Z",
     "start_time": "2022-05-06T14:49:53.306730Z"
    }
   },
   "outputs": [
    {
     "data": {
      "text/html": [
       "<div>\n",
       "<style scoped>\n",
       "    .dataframe tbody tr th:only-of-type {\n",
       "        vertical-align: middle;\n",
       "    }\n",
       "\n",
       "    .dataframe tbody tr th {\n",
       "        vertical-align: top;\n",
       "    }\n",
       "\n",
       "    .dataframe thead th {\n",
       "        text-align: right;\n",
       "    }\n",
       "</style>\n",
       "<table border=\"1\" class=\"dataframe\">\n",
       "  <thead>\n",
       "    <tr style=\"text-align: right;\">\n",
       "      <th></th>\n",
       "      <th>region</th>\n",
       "      <th>trade_date</th>\n",
       "      <th>asset_id</th>\n",
       "      <th>infocode</th>\n",
       "      <th>country</th>\n",
       "      <th>currency</th>\n",
       "      <th>is_major_sec</th>\n",
       "      <th>is_prim_qt</th>\n",
       "      <th>num_shrs</th>\n",
       "      <th>last_close_usd</th>\n",
       "      <th>spread_bps_21d</th>\n",
       "      <th>spread_bps_42d</th>\n",
       "      <th>spread_bps_63d</th>\n",
       "      <th>spread_usd_21d</th>\n",
       "      <th>spread_usd_42d</th>\n",
       "      <th>spread_usd_63d</th>\n",
       "      <th>mdv_shares_21d</th>\n",
       "      <th>mdv_shares_42d</th>\n",
       "      <th>mdv_shares_63d</th>\n",
       "      <th>mdv_usd_21d</th>\n",
       "      <th>mdv_usd_42d</th>\n",
       "      <th>mdv_usd_63d</th>\n",
       "      <th>close_ct_21d</th>\n",
       "      <th>close_ct_42d</th>\n",
       "      <th>close_ct_63d</th>\n",
       "      <th>bd_ct_21d</th>\n",
       "      <th>bd_ct_42d</th>\n",
       "      <th>bd_ct_63d</th>\n",
       "      <th>ticker</th>\n",
       "      <th>volume</th>\n",
       "      <th>market_cap</th>\n",
       "      <th>mapped_asset_id</th>\n",
       "      <th>idc_pk</th>\n",
       "      <th>prev_date</th>\n",
       "      <th>sectype</th>\n",
       "      <th>close_usd</th>\n",
       "      <th>mkt_cap_usd</th>\n",
       "      <th>notional_usd_sum_90d</th>\n",
       "      <th>notional_usd_avg_90d</th>\n",
       "      <th>close_usd_avg_90d</th>\n",
       "      <th>close_usd_ct_90d</th>\n",
       "      <th>mkt_cap_usd_avg_90d</th>\n",
       "    </tr>\n",
       "  </thead>\n",
       "  <tbody>\n",
       "    <tr>\n",
       "      <th>647</th>\n",
       "      <td>am</td>\n",
       "      <td>2022-03-01</td>\n",
       "      <td>10971</td>\n",
       "      <td>73987.0</td>\n",
       "      <td>US</td>\n",
       "      <td>USD</td>\n",
       "      <td>True</td>\n",
       "      <td>True</td>\n",
       "      <td>889232160.0</td>\n",
       "      <td>436.62989</td>\n",
       "      <td>2.893174</td>\n",
       "      <td>1.538559</td>\n",
       "      <td>1.100657</td>\n",
       "      <td>0.126325</td>\n",
       "      <td>0.067178</td>\n",
       "      <td>0.048058</td>\n",
       "      <td>122405345.0</td>\n",
       "      <td>118239410.0</td>\n",
       "      <td>105836880.0</td>\n",
       "      <td>5.344583e+10</td>\n",
       "      <td>5.162686e+10</td>\n",
       "      <td>4.621155e+10</td>\n",
       "      <td>20.0</td>\n",
       "      <td>40.0</td>\n",
       "      <td>60.0</td>\n",
       "      <td>20.0</td>\n",
       "      <td>40.0</td>\n",
       "      <td>60.0</td>\n",
       "      <td>SPY</td>\n",
       "      <td>113520333.0</td>\n",
       "      <td>3.882653e+11</td>\n",
       "      <td>10971.0</td>\n",
       "      <td>59751.0</td>\n",
       "      <td>2022-02-28</td>\n",
       "      <td>NA:F</td>\n",
       "      <td>436.630005</td>\n",
       "      <td>3.920422e+11</td>\n",
       "      <td>3.029972e+12</td>\n",
       "      <td>4.967167e+10</td>\n",
       "      <td>455.511477</td>\n",
       "      <td>61.0</td>\n",
       "      <td>4.232096e+11</td>\n",
       "    </tr>\n",
       "  </tbody>\n",
       "</table>\n",
       "</div>"
      ],
      "text/plain": [
       "    region  trade_date   asset_id  infocode country currency is_major_sec is_prim_qt     num_shrs  last_close_usd  spread_bps_21d  spread_bps_42d  spread_bps_63d  spread_usd_21d  spread_usd_42d  spread_usd_63d  mdv_shares_21d  mdv_shares_42d  mdv_shares_63d   mdv_usd_21d   mdv_usd_42d   mdv_usd_63d  close_ct_21d  close_ct_42d  close_ct_63d  bd_ct_21d  bd_ct_42d  bd_ct_63d ticker       volume    market_cap  mapped_asset_id   idc_pk   prev_date sectype   close_usd   mkt_cap_usd  notional_usd_sum_90d  notional_usd_avg_90d  close_usd_avg_90d  close_usd_ct_90d  mkt_cap_usd_avg_90d\n",
       "647     am  2022-03-01  10971   73987.0      US      USD         True       True  889232160.0       436.62989        2.893174        1.538559        1.100657        0.126325        0.067178        0.048058     122405345.0     118239410.0     105836880.0  5.344583e+10  5.162686e+10  4.621155e+10          20.0          40.0          60.0       20.0       40.0       60.0    SPY  113520333.0  3.882653e+11      10971.0  59751.0  2022-02-28   NA:F   436.630005  3.920422e+11          3.029972e+12          4.967167e+10         455.511477              61.0         4.232096e+11"
      ]
     },
     "metadata": {},
     "output_type": "display_data"
    },
    {
     "data": {
      "text/plain": [
       "647    NA:F \n",
       "Name: sectype, dtype: object"
      ]
     },
     "metadata": {},
     "output_type": "display_data"
    }
   ],
   "source": [
    "mask = df[\"ticker\"] == \"SPY\"\n",
    "# mask = (df[\"ticker\"] == \"AAPL\")\n",
    "display(df[mask])\n",
    "display(df[mask][\"sectype\"])"
   ]
  },
  {
   "cell_type": "code",
   "execution_count": 5,
   "id": "82d2c201",
   "metadata": {
    "ExecuteTime": {
     "end_time": "2022-05-06T14:34:22.905890Z",
     "start_time": "2022-05-06T14:34:22.883101Z"
    }
   },
   "outputs": [
    {
     "data": {
      "text/plain": [
       "region                                   am\n",
       "trade_date                       2022-03-01\n",
       "asset_id                                  10009\n",
       "infocode                           242608.0\n",
       "country                                  US\n",
       "currency                                USD\n",
       "is_major_sec                           True\n",
       "is_prim_qt                             True\n",
       "num_shrs                         28004050.0\n",
       "last_close_usd                       120.17\n",
       "spread_bps_21d                    14.283386\n",
       "spread_bps_42d                    14.938365\n",
       "spread_bps_63d                    14.541366\n",
       "spread_usd_21d                     0.171643\n",
       "spread_usd_42d                     0.179514\n",
       "spread_usd_63d                     0.174744\n",
       "mdv_shares_21d                     351403.5\n",
       "mdv_shares_42d                     260390.0\n",
       "mdv_shares_63d                     245140.5\n",
       "mdv_usd_21d                    42228158.595\n",
       "mdv_usd_42d                      31291066.3\n",
       "mdv_usd_63d                    29458533.885\n",
       "close_ct_21d                           20.0\n",
       "close_ct_42d                           40.0\n",
       "close_ct_63d                           60.0\n",
       "bd_ct_21d                              20.0\n",
       "bd_ct_42d                              40.0\n",
       "bd_ct_63d                              60.0\n",
       "ticker                                   VC\n",
       "volume                             501303.0\n",
       "market_cap                     3365246688.5\n",
       "mapped_asset_id                         10009.0\n",
       "idc_pk                             152588.0\n",
       "prev_date                        2022-02-28\n",
       "sectype                               NA:C \n",
       "close_usd                        120.169998\n",
       "mkt_cap_usd                3365240628.72314\n",
       "notional_usd_sum_90d       1993788987.35619\n",
       "notional_usd_avg_90d        32685065.366495\n",
       "close_usd_avg_90d                110.105574\n",
       "close_usd_ct_90d                       61.0\n",
       "mkt_cap_usd_avg_90d        3082697327.96016\n",
       "spread_bps_21d_pct                  0.38554\n",
       "spread_bps_42d_pct                  0.39817\n",
       "spread_bps_63d_pct                 0.394051\n",
       "spread_usd_21d_pct                 0.875273\n",
       "spread_usd_42d_pct                  0.88325\n",
       "spread_usd_63d_pct                 0.881025\n",
       "mdv_shares_21d_pct                 0.526213\n",
       "mdv_shares_42d_pct                 0.457069\n",
       "mdv_shares_63d_pct                 0.441971\n",
       "mdv_usd_21d_pct                    0.780291\n",
       "mdv_usd_42d_pct                    0.751301\n",
       "mdv_usd_63d_pct                    0.750378\n",
       "market_cap_pct                     0.734601\n",
       "mkt_cap_usd_avg_90d_pct            0.714934\n",
       "Name: 2, dtype: object"
      ]
     },
     "execution_count": 5,
     "metadata": {},
     "output_type": "execute_result"
    }
   ],
   "source": [
    "df.iloc[0]"
   ]
  },
  {
   "cell_type": "code",
   "execution_count": 6,
   "id": "cc1bb74f",
   "metadata": {
    "ExecuteTime": {
     "end_time": "2022-05-06T14:34:22.929304Z",
     "start_time": "2022-05-06T14:34:22.907452Z"
    }
   },
   "outputs": [
    {
     "data": {
      "text/plain": [
       "['region',\n",
       " 'trade_date',\n",
       " 'asset_id',\n",
       " 'infocode',\n",
       " 'country',\n",
       " 'currency',\n",
       " 'is_major_sec',\n",
       " 'is_prim_qt',\n",
       " 'num_shrs',\n",
       " 'last_close_usd',\n",
       " 'spread_bps_21d',\n",
       " 'spread_bps_42d',\n",
       " 'spread_bps_63d',\n",
       " 'spread_usd_21d',\n",
       " 'spread_usd_42d',\n",
       " 'spread_usd_63d',\n",
       " 'mdv_shares_21d',\n",
       " 'mdv_shares_42d',\n",
       " 'mdv_shares_63d',\n",
       " 'mdv_usd_21d',\n",
       " 'mdv_usd_42d',\n",
       " 'mdv_usd_63d',\n",
       " 'close_ct_21d',\n",
       " 'close_ct_42d',\n",
       " 'close_ct_63d',\n",
       " 'bd_ct_21d',\n",
       " 'bd_ct_42d',\n",
       " 'bd_ct_63d',\n",
       " 'ticker',\n",
       " 'volume',\n",
       " 'market_cap',\n",
       " 'mapped_asset_id',\n",
       " 'idc_pk',\n",
       " 'prev_date',\n",
       " 'sectype',\n",
       " 'close_usd',\n",
       " 'mkt_cap_usd',\n",
       " 'notional_usd_sum_90d',\n",
       " 'notional_usd_avg_90d',\n",
       " 'close_usd_avg_90d',\n",
       " 'close_usd_ct_90d',\n",
       " 'mkt_cap_usd_avg_90d',\n",
       " 'spread_bps_21d_pct',\n",
       " 'spread_bps_42d_pct',\n",
       " 'spread_bps_63d_pct',\n",
       " 'spread_usd_21d_pct',\n",
       " 'spread_usd_42d_pct',\n",
       " 'spread_usd_63d_pct',\n",
       " 'mdv_shares_21d_pct',\n",
       " 'mdv_shares_42d_pct',\n",
       " 'mdv_shares_63d_pct',\n",
       " 'mdv_usd_21d_pct',\n",
       " 'mdv_usd_42d_pct',\n",
       " 'mdv_usd_63d_pct',\n",
       " 'market_cap_pct',\n",
       " 'mkt_cap_usd_avg_90d_pct']"
      ]
     },
     "execution_count": 6,
     "metadata": {},
     "output_type": "execute_result"
    }
   ],
   "source": [
    "df.columns.to_list()"
   ]
  },
  {
   "cell_type": "code",
   "execution_count": 81,
   "id": "0608fc09",
   "metadata": {
    "ExecuteTime": {
     "end_time": "2022-05-06T15:49:22.913571Z",
     "start_time": "2022-05-06T15:49:22.606055Z"
    }
   },
   "outputs": [
    {
     "data": {
      "text/plain": [
       "<AxesSubplot:>"
      ]
     },
     "execution_count": 81,
     "metadata": {},
     "output_type": "execute_result"
    },
    {
     "data": {
      "image/png": "[encoded data removed]",
      "text/plain": [
       "<Figure size 1440x360 with 1 Axes>"
      ]
     },
     "metadata": {},
     "output_type": "display_data"
    }
   ],
   "source": [
    "df[\"spread_usd_21d\"].hist(bins=101)"
   ]
  },
  {
   "cell_type": "code",
   "execution_count": 99,
   "id": "3db30992",
   "metadata": {
    "ExecuteTime": {
     "end_time": "2022-05-06T15:59:00.781352Z",
     "start_time": "2022-05-06T15:59:00.492440Z"
    }
   },
   "outputs": [
    {
     "name": "stdout",
     "output_type": "stream",
     "text": [
      "113.43147050671598\n"
     ]
    },
    {
     "data": {
      "image/png": "[encoded data removed]",
      "text/plain": [
       "<Figure size 1440x360 with 1 Axes>"
      ]
     },
     "metadata": {},
     "output_type": "display_data"
    }
   ],
   "source": [
    "# col = \"spread_bps_21d\"\n",
    "col = \"spread_usd_21d\"\n",
    "df_val = df[df[col] <= 0.1]\n",
    "\n",
    "# print(df_val)\n",
    "\n",
    "df_val[col].hist(bins=101)\n",
    "\n",
    "print(df_val[col].sum())\n",
    "\n",
    "# df[\"spread_bps_21d\"].hist(bins=101)"
   ]
  },
  {
   "cell_type": "code",
   "execution_count": null,
   "id": "542512af",
   "metadata": {},
   "outputs": [],
   "source": []
  },
  {
   "cell_type": "markdown",
   "id": "3d616f78",
   "metadata": {},
   "source": [
    "df[\"spread_bps_21d\"].hist(bins=101)\n",
    "# Generate liquidity plots"
   ]
  },
  {
   "cell_type": "code",
   "execution_count": 15,
   "id": "0b1b5f6e",
   "metadata": {
    "ExecuteTime": {
     "end_time": "2022-05-06T14:34:23.612869Z",
     "start_time": "2022-05-06T14:34:23.157097Z"
    }
   },
   "outputs": [
    {
     "data": {
      "text/plain": [
       "<AxesSubplot:>"
      ]
     },
     "execution_count": 15,
     "metadata": {},
     "output_type": "execute_result"
    },
    {
     "data": {
      "image/png": "[encoded data removed]",
      "text/plain": [
       "<Figure size 1440x360 with 1 Axes>"
      ]
     },
     "metadata": {},
     "output_type": "display_data"
    }
   ],
   "source": [
    "df[df[\"spread_bps_63d\"] < 200][\"spread_bps_63d\"].hist(log=False, bins=101)"
   ]
  },
  {
   "cell_type": "code",
   "execution_count": 16,
   "id": "6d50fef5",
   "metadata": {
    "ExecuteTime": {
     "end_time": "2022-05-06T14:34:23.929985Z",
     "start_time": "2022-05-06T14:34:23.615078Z"
    }
   },
   "outputs": [
    {
     "data": {
      "text/plain": [
       "<AxesSubplot:>"
      ]
     },
     "execution_count": 16,
     "metadata": {},
     "output_type": "execute_result"
    },
    {
     "data": {
      "image/png": "[encoded data removed]",
      "text/plain": [
       "<Figure size 1440x360 with 1 Axes>"
      ]
     },
     "metadata": {},
     "output_type": "display_data"
    }
   ],
   "source": [
    "df[df[\"spread_usd_63d\"] < 0.2][\"spread_usd_63d\"].hist(log=False, bins=101)"
   ]
  },
  {
   "cell_type": "code",
   "execution_count": 17,
   "id": "4f64de69",
   "metadata": {
    "ExecuteTime": {
     "end_time": "2022-05-06T14:34:24.493386Z",
     "start_time": "2022-05-06T14:34:23.931914Z"
    }
   },
   "outputs": [
    {
     "data": {
      "text/plain": [
       "<AxesSubplot:>"
      ]
     },
     "execution_count": 17,
     "metadata": {},
     "output_type": "execute_result"
    },
    {
     "data": {
      "image/png": "[encoded data removed]",
      "text/plain": [
       "<Figure size 1440x360 with 1 Axes>"
      ]
     },
     "metadata": {},
     "output_type": "display_data"
    }
   ],
   "source": [
    "df[\"mkt_cap_usd_avg_90d\"].hist(log=True, bins=100)"
   ]
  },
  {
   "cell_type": "markdown",
   "id": "a6eb6b5f",
   "metadata": {},
   "source": [
    "# Apply filters"
   ]
  },
  {
   "cell_type": "code",
   "execution_count": 18,
   "id": "f8a3986b",
   "metadata": {
    "ExecuteTime": {
     "end_time": "2022-05-06T14:34:24.526069Z",
     "start_time": "2022-05-06T14:34:24.495048Z"
    }
   },
   "outputs": [
    {
     "name": "stdout",
     "output_type": "stream",
     "text": [
      "INFO  Number remaining=1826 after applying filters\n"
     ]
    }
   ],
   "source": [
    "filtered_df = vldlunut.apply_threshold_filters(df)"
   ]
  },
  {
   "cell_type": "code",
   "execution_count": 19,
   "id": "5c238608",
   "metadata": {
    "ExecuteTime": {
     "end_time": "2022-05-06T14:34:24.662403Z",
     "start_time": "2022-05-06T14:34:24.527821Z"
    }
   },
   "outputs": [
    {
     "data": {
      "text/html": [
       "<div>\n",
       "<style scoped>\n",
       "    .dataframe tbody tr th:only-of-type {\n",
       "        vertical-align: middle;\n",
       "    }\n",
       "\n",
       "    .dataframe tbody tr th {\n",
       "        vertical-align: top;\n",
       "    }\n",
       "\n",
       "    .dataframe thead th {\n",
       "        text-align: right;\n",
       "    }\n",
       "</style>\n",
       "<table border=\"1\" class=\"dataframe\">\n",
       "  <thead>\n",
       "    <tr style=\"text-align: right;\">\n",
       "      <th></th>\n",
       "      <th>asset_id</th>\n",
       "      <th>infocode</th>\n",
       "      <th>num_shrs</th>\n",
       "      <th>last_close_usd</th>\n",
       "      <th>spread_bps_21d</th>\n",
       "      <th>spread_bps_42d</th>\n",
       "      <th>spread_bps_63d</th>\n",
       "      <th>spread_usd_21d</th>\n",
       "      <th>spread_usd_42d</th>\n",
       "      <th>spread_usd_63d</th>\n",
       "      <th>mdv_shares_21d</th>\n",
       "      <th>mdv_shares_42d</th>\n",
       "      <th>mdv_shares_63d</th>\n",
       "      <th>mdv_usd_21d</th>\n",
       "      <th>mdv_usd_42d</th>\n",
       "      <th>mdv_usd_63d</th>\n",
       "      <th>close_ct_21d</th>\n",
       "      <th>close_ct_42d</th>\n",
       "      <th>close_ct_63d</th>\n",
       "      <th>bd_ct_21d</th>\n",
       "      <th>bd_ct_42d</th>\n",
       "      <th>bd_ct_63d</th>\n",
       "      <th>volume</th>\n",
       "      <th>market_cap</th>\n",
       "      <th>mapped_asset_id</th>\n",
       "      <th>idc_pk</th>\n",
       "      <th>close_usd</th>\n",
       "      <th>mkt_cap_usd</th>\n",
       "      <th>notional_usd_sum_90d</th>\n",
       "      <th>notional_usd_avg_90d</th>\n",
       "      <th>close_usd_avg_90d</th>\n",
       "      <th>close_usd_ct_90d</th>\n",
       "      <th>mkt_cap_usd_avg_90d</th>\n",
       "      <th>spread_bps_21d_pct</th>\n",
       "      <th>spread_bps_42d_pct</th>\n",
       "      <th>spread_bps_63d_pct</th>\n",
       "      <th>spread_usd_21d_pct</th>\n",
       "      <th>spread_usd_42d_pct</th>\n",
       "      <th>spread_usd_63d_pct</th>\n",
       "      <th>mdv_shares_21d_pct</th>\n",
       "      <th>mdv_shares_42d_pct</th>\n",
       "      <th>mdv_shares_63d_pct</th>\n",
       "      <th>mdv_usd_21d_pct</th>\n",
       "      <th>mdv_usd_42d_pct</th>\n",
       "      <th>mdv_usd_63d_pct</th>\n",
       "      <th>market_cap_pct</th>\n",
       "      <th>mkt_cap_usd_avg_90d_pct</th>\n",
       "    </tr>\n",
       "  </thead>\n",
       "  <tbody>\n",
       "    <tr>\n",
       "      <th>count</th>\n",
       "      <td>1.000000e+03</td>\n",
       "      <td>1000.000000</td>\n",
       "      <td>1.000000e+03</td>\n",
       "      <td>1000.000000</td>\n",
       "      <td>993.000000</td>\n",
       "      <td>996.000000</td>\n",
       "      <td>1000.000000</td>\n",
       "      <td>993.000000</td>\n",
       "      <td>996.000000</td>\n",
       "      <td>1000.000000</td>\n",
       "      <td>9.930000e+02</td>\n",
       "      <td>9.960000e+02</td>\n",
       "      <td>1.000000e+03</td>\n",
       "      <td>9.930000e+02</td>\n",
       "      <td>9.960000e+02</td>\n",
       "      <td>1.000000e+03</td>\n",
       "      <td>993.000000</td>\n",
       "      <td>996.000000</td>\n",
       "      <td>1000.000000</td>\n",
       "      <td>993.0</td>\n",
       "      <td>996.0</td>\n",
       "      <td>1000.0</td>\n",
       "      <td>9.870000e+02</td>\n",
       "      <td>1.000000e+03</td>\n",
       "      <td>1.000000e+03</td>\n",
       "      <td>1000.000000</td>\n",
       "      <td>1000.000000</td>\n",
       "      <td>1.000000e+03</td>\n",
       "      <td>1.000000e+03</td>\n",
       "      <td>1.000000e+03</td>\n",
       "      <td>1000.000000</td>\n",
       "      <td>1000.000000</td>\n",
       "      <td>1.000000e+03</td>\n",
       "      <td>993.000000</td>\n",
       "      <td>996.000000</td>\n",
       "      <td>1000.000000</td>\n",
       "      <td>993.000000</td>\n",
       "      <td>996.000000</td>\n",
       "      <td>1000.000000</td>\n",
       "      <td>993.000000</td>\n",
       "      <td>996.000000</td>\n",
       "      <td>1000.000000</td>\n",
       "      <td>993.000000</td>\n",
       "      <td>996.000000</td>\n",
       "      <td>1000.000000</td>\n",
       "      <td>1000.000000</td>\n",
       "      <td>1000.000000</td>\n",
       "    </tr>\n",
       "    <tr>\n",
       "      <th>mean</th>\n",
       "      <td>2.233992e+05</td>\n",
       "      <td>130529.504000</td>\n",
       "      <td>3.786842e+08</td>\n",
       "      <td>102.652161</td>\n",
       "      <td>3.998968</td>\n",
       "      <td>3.853070</td>\n",
       "      <td>3.841890</td>\n",
       "      <td>0.041808</td>\n",
       "      <td>0.039917</td>\n",
       "      <td>0.038791</td>\n",
       "      <td>3.425937e+06</td>\n",
       "      <td>3.339630e+06</td>\n",
       "      <td>3.158716e+06</td>\n",
       "      <td>3.148118e+08</td>\n",
       "      <td>3.084401e+08</td>\n",
       "      <td>2.890612e+08</td>\n",
       "      <td>19.955690</td>\n",
       "      <td>39.864458</td>\n",
       "      <td>59.661000</td>\n",
       "      <td>20.0</td>\n",
       "      <td>40.0</td>\n",
       "      <td>60.0</td>\n",
       "      <td>4.118011e+06</td>\n",
       "      <td>3.905138e+10</td>\n",
       "      <td>2.233992e+05</td>\n",
       "      <td>114442.612000</td>\n",
       "      <td>102.652160</td>\n",
       "      <td>3.909675e+10</td>\n",
       "      <td>2.020845e+10</td>\n",
       "      <td>3.332815e+08</td>\n",
       "      <td>106.513843</td>\n",
       "      <td>60.662000</td>\n",
       "      <td>4.068506e+10</td>\n",
       "      <td>0.111969</td>\n",
       "      <td>0.109952</td>\n",
       "      <td>0.109127</td>\n",
       "      <td>0.396654</td>\n",
       "      <td>0.394026</td>\n",
       "      <td>0.399858</td>\n",
       "      <td>0.771790</td>\n",
       "      <td>0.766203</td>\n",
       "      <td>0.761222</td>\n",
       "      <td>0.841675</td>\n",
       "      <td>0.840455</td>\n",
       "      <td>0.840642</td>\n",
       "      <td>0.847469</td>\n",
       "      <td>0.846568</td>\n",
       "    </tr>\n",
       "    <tr>\n",
       "      <th>std</th>\n",
       "      <td>4.839303e+05</td>\n",
       "      <td>104624.982249</td>\n",
       "      <td>8.526326e+08</td>\n",
       "      <td>171.576429</td>\n",
       "      <td>1.762167</td>\n",
       "      <td>1.596471</td>\n",
       "      <td>1.537766</td>\n",
       "      <td>0.113452</td>\n",
       "      <td>0.105508</td>\n",
       "      <td>0.093202</td>\n",
       "      <td>7.912006e+06</td>\n",
       "      <td>7.775949e+06</td>\n",
       "      <td>7.325209e+06</td>\n",
       "      <td>1.198581e+09</td>\n",
       "      <td>1.198146e+09</td>\n",
       "      <td>1.126899e+09</td>\n",
       "      <td>0.862556</td>\n",
       "      <td>1.903370</td>\n",
       "      <td>3.744342</td>\n",
       "      <td>0.0</td>\n",
       "      <td>0.0</td>\n",
       "      <td>0.0</td>\n",
       "      <td>9.034502e+06</td>\n",
       "      <td>1.388219e+11</td>\n",
       "      <td>4.839303e+05</td>\n",
       "      <td>93511.605924</td>\n",
       "      <td>171.576427</td>\n",
       "      <td>1.388520e+11</td>\n",
       "      <td>8.008656e+10</td>\n",
       "      <td>1.313777e+09</td>\n",
       "      <td>179.963303</td>\n",
       "      <td>3.744299</td>\n",
       "      <td>1.459563e+11</td>\n",
       "      <td>0.067917</td>\n",
       "      <td>0.064359</td>\n",
       "      <td>0.063307</td>\n",
       "      <td>0.232959</td>\n",
       "      <td>0.228133</td>\n",
       "      <td>0.223486</td>\n",
       "      <td>0.166573</td>\n",
       "      <td>0.172040</td>\n",
       "      <td>0.175375</td>\n",
       "      <td>0.113655</td>\n",
       "      <td>0.114666</td>\n",
       "      <td>0.114468</td>\n",
       "      <td>0.109960</td>\n",
       "      <td>0.110366</td>\n",
       "    </tr>\n",
       "    <tr>\n",
       "      <th>min</th>\n",
       "      <td>1.003000e+04</td>\n",
       "      <td>6347.000000</td>\n",
       "      <td>1.759660e+07</td>\n",
       "      <td>11.850001</td>\n",
       "      <td>0.625686</td>\n",
       "      <td>0.966530</td>\n",
       "      <td>0.825359</td>\n",
       "      <td>0.008060</td>\n",
       "      <td>0.007982</td>\n",
       "      <td>0.007490</td>\n",
       "      <td>9.501150e+04</td>\n",
       "      <td>1.004340e+05</td>\n",
       "      <td>9.908200e+04</td>\n",
       "      <td>4.292600e+06</td>\n",
       "      <td>5.028266e+06</td>\n",
       "      <td>5.243254e+06</td>\n",
       "      <td>1.000000</td>\n",
       "      <td>1.000000</td>\n",
       "      <td>4.000000</td>\n",
       "      <td>20.0</td>\n",
       "      <td>40.0</td>\n",
       "      <td>60.0</td>\n",
       "      <td>9.814200e+04</td>\n",
       "      <td>7.907463e+08</td>\n",
       "      <td>1.003000e+04</td>\n",
       "      <td>3200.000000</td>\n",
       "      <td>11.850000</td>\n",
       "      <td>7.907484e+08</td>\n",
       "      <td>3.643217e+08</td>\n",
       "      <td>5.972487e+06</td>\n",
       "      <td>15.727213</td>\n",
       "      <td>5.000000</td>\n",
       "      <td>8.072684e+08</td>\n",
       "      <td>0.000218</td>\n",
       "      <td>0.000218</td>\n",
       "      <td>0.000217</td>\n",
       "      <td>0.030144</td>\n",
       "      <td>0.034851</td>\n",
       "      <td>0.037343</td>\n",
       "      <td>0.280835</td>\n",
       "      <td>0.280789</td>\n",
       "      <td>0.269937</td>\n",
       "      <td>0.491843</td>\n",
       "      <td>0.510408</td>\n",
       "      <td>0.518478</td>\n",
       "      <td>0.502485</td>\n",
       "      <td>0.500756</td>\n",
       "    </tr>\n",
       "    <tr>\n",
       "      <th>25%</th>\n",
       "      <td>1.251350e+04</td>\n",
       "      <td>59440.500000</td>\n",
       "      <td>8.036293e+07</td>\n",
       "      <td>36.090000</td>\n",
       "      <td>2.592981</td>\n",
       "      <td>2.539460</td>\n",
       "      <td>2.578961</td>\n",
       "      <td>0.012239</td>\n",
       "      <td>0.012161</td>\n",
       "      <td>0.012492</td>\n",
       "      <td>6.212145e+05</td>\n",
       "      <td>5.942168e+05</td>\n",
       "      <td>5.684316e+05</td>\n",
       "      <td>3.500876e+07</td>\n",
       "      <td>3.340099e+07</td>\n",
       "      <td>3.239804e+07</td>\n",
       "      <td>20.000000</td>\n",
       "      <td>40.000000</td>\n",
       "      <td>60.000000</td>\n",
       "      <td>20.0</td>\n",
       "      <td>40.0</td>\n",
       "      <td>60.0</td>\n",
       "      <td>7.244205e+05</td>\n",
       "      <td>4.378901e+09</td>\n",
       "      <td>1.251350e+04</td>\n",
       "      <td>49626.000000</td>\n",
       "      <td>36.090000</td>\n",
       "      <td>4.340089e+09</td>\n",
       "      <td>2.274916e+09</td>\n",
       "      <td>3.818405e+07</td>\n",
       "      <td>37.337459</td>\n",
       "      <td>61.000000</td>\n",
       "      <td>4.423031e+09</td>\n",
       "      <td>0.054391</td>\n",
       "      <td>0.054618</td>\n",
       "      <td>0.054440</td>\n",
       "      <td>0.196374</td>\n",
       "      <td>0.202026</td>\n",
       "      <td>0.213526</td>\n",
       "      <td>0.660866</td>\n",
       "      <td>0.649447</td>\n",
       "      <td>0.638643</td>\n",
       "      <td>0.761801</td>\n",
       "      <td>0.761817</td>\n",
       "      <td>0.762427</td>\n",
       "      <td>0.772801</td>\n",
       "      <td>0.771882</td>\n",
       "    </tr>\n",
       "    <tr>\n",
       "      <th>50%</th>\n",
       "      <td>1.491000e+04</td>\n",
       "      <td>66122.000000</td>\n",
       "      <td>1.596659e+08</td>\n",
       "      <td>65.005006</td>\n",
       "      <td>3.812235</td>\n",
       "      <td>3.726103</td>\n",
       "      <td>3.743113</td>\n",
       "      <td>0.019683</td>\n",
       "      <td>0.019340</td>\n",
       "      <td>0.019585</td>\n",
       "      <td>1.334470e+06</td>\n",
       "      <td>1.308238e+06</td>\n",
       "      <td>1.211431e+06</td>\n",
       "      <td>9.525369e+07</td>\n",
       "      <td>8.842661e+07</td>\n",
       "      <td>8.435128e+07</td>\n",
       "      <td>20.000000</td>\n",
       "      <td>40.000000</td>\n",
       "      <td>60.000000</td>\n",
       "      <td>20.0</td>\n",
       "      <td>40.0</td>\n",
       "      <td>60.0</td>\n",
       "      <td>1.595048e+06</td>\n",
       "      <td>1.006668e+10</td>\n",
       "      <td>1.491000e+04</td>\n",
       "      <td>57005.000000</td>\n",
       "      <td>65.005001</td>\n",
       "      <td>1.006330e+10</td>\n",
       "      <td>5.929196e+09</td>\n",
       "      <td>9.739464e+07</td>\n",
       "      <td>65.038771</td>\n",
       "      <td>61.000000</td>\n",
       "      <td>1.051155e+10</td>\n",
       "      <td>0.109000</td>\n",
       "      <td>0.108800</td>\n",
       "      <td>0.108663</td>\n",
       "      <td>0.366754</td>\n",
       "      <td>0.367131</td>\n",
       "      <td>0.371906</td>\n",
       "      <td>0.808136</td>\n",
       "      <td>0.806808</td>\n",
       "      <td>0.798357</td>\n",
       "      <td>0.865564</td>\n",
       "      <td>0.863291</td>\n",
       "      <td>0.864707</td>\n",
       "      <td>0.868813</td>\n",
       "      <td>0.868057</td>\n",
       "    </tr>\n",
       "    <tr>\n",
       "      <th>75%</th>\n",
       "      <td>1.731250e+04</td>\n",
       "      <td>259585.500000</td>\n",
       "      <td>3.423661e+08</td>\n",
       "      <td>117.470007</td>\n",
       "      <td>5.275067</td>\n",
       "      <td>5.168715</td>\n",
       "      <td>5.144824</td>\n",
       "      <td>0.039938</td>\n",
       "      <td>0.037142</td>\n",
       "      <td>0.037237</td>\n",
       "      <td>2.922458e+06</td>\n",
       "      <td>2.839944e+06</td>\n",
       "      <td>2.635518e+06</td>\n",
       "      <td>2.467262e+08</td>\n",
       "      <td>2.450512e+08</td>\n",
       "      <td>2.266653e+08</td>\n",
       "      <td>20.000000</td>\n",
       "      <td>40.000000</td>\n",
       "      <td>60.000000</td>\n",
       "      <td>20.0</td>\n",
       "      <td>40.0</td>\n",
       "      <td>60.0</td>\n",
       "      <td>3.544226e+06</td>\n",
       "      <td>2.966558e+10</td>\n",
       "      <td>1.731250e+04</td>\n",
       "      <td>169048.750000</td>\n",
       "      <td>117.469999</td>\n",
       "      <td>2.985928e+10</td>\n",
       "      <td>1.538063e+10</td>\n",
       "      <td>2.521415e+08</td>\n",
       "      <td>118.944672</td>\n",
       "      <td>61.000000</td>\n",
       "      <td>3.142813e+10</td>\n",
       "      <td>0.165574</td>\n",
       "      <td>0.163853</td>\n",
       "      <td>0.163537</td>\n",
       "      <td>0.568807</td>\n",
       "      <td>0.560934</td>\n",
       "      <td>0.559433</td>\n",
       "      <td>0.907983</td>\n",
       "      <td>0.910776</td>\n",
       "      <td>0.907553</td>\n",
       "      <td>0.934740</td>\n",
       "      <td>0.933922</td>\n",
       "      <td>0.934137</td>\n",
       "      <td>0.937378</td>\n",
       "      <td>0.937811</td>\n",
       "    </tr>\n",
       "    <tr>\n",
       "      <th>max</th>\n",
       "      <td>1.528344e+06</td>\n",
       "      <td>343833.000000</td>\n",
       "      <td>1.631944e+10</td>\n",
       "      <td>3071.260100</td>\n",
       "      <td>16.187821</td>\n",
       "      <td>7.615173</td>\n",
       "      <td>6.636706</td>\n",
       "      <td>2.447804</td>\n",
       "      <td>2.087929</td>\n",
       "      <td>1.749026</td>\n",
       "      <td>1.197045e+08</td>\n",
       "      <td>1.062079e+08</td>\n",
       "      <td>9.875681e+07</td>\n",
       "      <td>2.054797e+10</td>\n",
       "      <td>2.299407e+10</td>\n",
       "      <td>2.184949e+10</td>\n",
       "      <td>20.000000</td>\n",
       "      <td>40.000000</td>\n",
       "      <td>60.000000</td>\n",
       "      <td>20.0</td>\n",
       "      <td>40.0</td>\n",
       "      <td>60.0</td>\n",
       "      <td>1.237154e+08</td>\n",
       "      <td>2.694666e+12</td>\n",
       "      <td>1.528344e+06</td>\n",
       "      <td>336047.000000</td>\n",
       "      <td>3071.260010</td>\n",
       "      <td>2.694666e+12</td>\n",
       "      <td>1.558441e+12</td>\n",
       "      <td>2.554821e+10</td>\n",
       "      <td>3209.994769</td>\n",
       "      <td>61.000000</td>\n",
       "      <td>2.800637e+12</td>\n",
       "      <td>0.420052</td>\n",
       "      <td>0.249619</td>\n",
       "      <td>0.220582</td>\n",
       "      <td>0.996287</td>\n",
       "      <td>0.994990</td>\n",
       "      <td>0.994572</td>\n",
       "      <td>1.000000</td>\n",
       "      <td>1.000000</td>\n",
       "      <td>1.000000</td>\n",
       "      <td>1.000000</td>\n",
       "      <td>1.000000</td>\n",
       "      <td>1.000000</td>\n",
       "      <td>1.000000</td>\n",
       "      <td>1.000000</td>\n",
       "    </tr>\n",
       "  </tbody>\n",
       "</table>\n",
       "</div>"
      ],
      "text/plain": [
       "               asset_id       infocode      num_shrs  last_close_usd  spread_bps_21d  spread_bps_42d  spread_bps_63d  spread_usd_21d  spread_usd_42d  spread_usd_63d  mdv_shares_21d  mdv_shares_42d  mdv_shares_63d   mdv_usd_21d   mdv_usd_42d   mdv_usd_63d  close_ct_21d  close_ct_42d  close_ct_63d  bd_ct_21d  bd_ct_42d  bd_ct_63d        volume    market_cap   mapped_asset_id         idc_pk    close_usd   mkt_cap_usd  notional_usd_sum_90d  notional_usd_avg_90d  close_usd_avg_90d  close_usd_ct_90d  mkt_cap_usd_avg_90d  spread_bps_21d_pct  spread_bps_42d_pct  spread_bps_63d_pct  spread_usd_21d_pct  spread_usd_42d_pct  spread_usd_63d_pct  mdv_shares_21d_pct  mdv_shares_42d_pct  mdv_shares_63d_pct  mdv_usd_21d_pct  mdv_usd_42d_pct  mdv_usd_63d_pct  market_cap_pct  mkt_cap_usd_avg_90d_pct\n",
       "count  1.000000e+03    1000.000000  1.000000e+03     1000.000000      993.000000      996.000000     1000.000000      993.000000      996.000000     1000.000000    9.930000e+02    9.960000e+02    1.000000e+03  9.930000e+02  9.960000e+02  1.000000e+03    993.000000    996.000000   1000.000000      993.0      996.0     1000.0  9.870000e+02  1.000000e+03  1.000000e+03    1000.000000  1000.000000  1.000000e+03          1.000000e+03          1.000000e+03        1000.000000       1000.000000         1.000000e+03          993.000000          996.000000         1000.000000          993.000000          996.000000         1000.000000          993.000000          996.000000         1000.000000       993.000000       996.000000      1000.000000     1000.000000              1000.000000\n",
       "mean   2.233992e+05  130529.504000  3.786842e+08      102.652161        3.998968        3.853070        3.841890        0.041808        0.039917        0.038791    3.425937e+06    3.339630e+06    3.158716e+06  3.148118e+08  3.084401e+08  2.890612e+08     19.955690     39.864458     59.661000       20.0       40.0       60.0  4.118011e+06  3.905138e+10  2.233992e+05  114442.612000   102.652160  3.909675e+10          2.020845e+10          3.332815e+08         106.513843         60.662000         4.068506e+10            0.111969            0.109952            0.109127            0.396654            0.394026            0.399858            0.771790            0.766203            0.761222         0.841675         0.840455         0.840642        0.847469                 0.846568\n",
       "std    4.839303e+05  104624.982249  8.526326e+08      171.576429        1.762167        1.596471        1.537766        0.113452        0.105508        0.093202    7.912006e+06    7.775949e+06    7.325209e+06  1.198581e+09  1.198146e+09  1.126899e+09      0.862556      1.903370      3.744342        0.0        0.0        0.0  9.034502e+06  1.388219e+11  4.839303e+05   93511.605924   171.576427  1.388520e+11          8.008656e+10          1.313777e+09         179.963303          3.744299         1.459563e+11            0.067917            0.064359            0.063307            0.232959            0.228133            0.223486            0.166573            0.172040            0.175375         0.113655         0.114666         0.114468        0.109960                 0.110366\n",
       "min    1.003000e+04    6347.000000  1.759660e+07       11.850001        0.625686        0.966530        0.825359        0.008060        0.007982        0.007490    9.501150e+04    1.004340e+05    9.908200e+04  4.292600e+06  5.028266e+06  5.243254e+06      1.000000      1.000000      4.000000       20.0       40.0       60.0  9.814200e+04  7.907463e+08  1.003000e+04    3200.000000    11.850000  7.907484e+08          3.643217e+08          5.972487e+06          15.727213          5.000000         8.072684e+08            0.000218            0.000218            0.000217            0.030144            0.034851            0.037343            0.280835            0.280789            0.269937         0.491843         0.510408         0.518478        0.502485                 0.500756\n",
       "25%    1.251350e+04   59440.500000  8.036293e+07       36.090000        2.592981        2.539460        2.578961        0.012239        0.012161        0.012492    6.212145e+05    5.942168e+05    5.684316e+05  3.500876e+07  3.340099e+07  3.239804e+07     20.000000     40.000000     60.000000       20.0       40.0       60.0  7.244205e+05  4.378901e+09  1.251350e+04   49626.000000    36.090000  4.340089e+09          2.274916e+09          3.818405e+07          37.337459         61.000000         4.423031e+09            0.054391            0.054618            0.054440            0.196374            0.202026            0.213526            0.660866            0.649447            0.638643         0.761801         0.761817         0.762427        0.772801                 0.771882\n",
       "50%    1.491000e+04   66122.000000  1.596659e+08       65.005006        3.812235        3.726103        3.743113        0.019683        0.019340        0.019585    1.334470e+06    1.308238e+06    1.211431e+06  9.525369e+07  8.842661e+07  8.435128e+07     20.000000     40.000000     60.000000       20.0       40.0       60.0  1.595048e+06  1.006668e+10  1.491000e+04   57005.000000    65.005001  1.006330e+10          5.929196e+09          9.739464e+07          65.038771         61.000000         1.051155e+10            0.109000            0.108800            0.108663            0.366754            0.367131            0.371906            0.808136            0.806808            0.798357         0.865564         0.863291         0.864707        0.868813                 0.868057\n",
       "75%    1.731250e+04  259585.500000  3.423661e+08      117.470007        5.275067        5.168715        5.144824        0.039938        0.037142        0.037237    2.922458e+06    2.839944e+06    2.635518e+06  2.467262e+08  2.450512e+08  2.266653e+08     20.000000     40.000000     60.000000       20.0       40.0       60.0  3.544226e+06  2.966558e+10  1.731250e+04  169048.750000   117.469999  2.985928e+10          1.538063e+10          2.521415e+08         118.944672         61.000000         3.142813e+10            0.165574            0.163853            0.163537            0.568807            0.560934            0.559433            0.907983            0.910776            0.907553         0.934740         0.933922         0.934137        0.937378                 0.937811\n",
       "max    1.528344e+06  343833.000000  1.631944e+10     3071.260100       16.187821        7.615173        6.636706        2.447804        2.087929        1.749026    1.197045e+08    1.062079e+08    9.875681e+07  2.054797e+10  2.299407e+10  2.184949e+10     20.000000     40.000000     60.000000       20.0       40.0       60.0  1.237154e+08  2.694666e+12  1.528344e+06  336047.000000  3071.260010  2.694666e+12          1.558441e+12          2.554821e+10        3209.994769         61.000000         2.800637e+12            0.420052            0.249619            0.220582            0.996287            0.994990            0.994572            1.000000            1.000000            1.000000         1.000000         1.000000         1.000000        1.000000                 1.000000"
      ]
     },
     "execution_count": 19,
     "metadata": {},
     "output_type": "execute_result"
    }
   ],
   "source": [
    "filtered_df.describe()"
   ]
  },
  {
   "cell_type": "code",
   "execution_count": 20,
   "id": "8f95dcd7",
   "metadata": {
    "ExecuteTime": {
     "end_time": "2022-05-06T14:34:24.734714Z",
     "start_time": "2022-05-06T14:34:24.664202Z"
    },
    "scrolled": true
   },
   "outputs": [
    {
     "data": {
      "text/html": [
       "<div>\n",
       "<style scoped>\n",
       "    .dataframe tbody tr th:only-of-type {\n",
       "        vertical-align: middle;\n",
       "    }\n",
       "\n",
       "    .dataframe tbody tr th {\n",
       "        vertical-align: top;\n",
       "    }\n",
       "\n",
       "    .dataframe thead th {\n",
       "        text-align: right;\n",
       "    }\n",
       "</style>\n",
       "<table border=\"1\" class=\"dataframe\">\n",
       "  <thead>\n",
       "    <tr style=\"text-align: right;\">\n",
       "      <th></th>\n",
       "      <th>region</th>\n",
       "      <th>trade_date</th>\n",
       "      <th>asset_id</th>\n",
       "      <th>infocode</th>\n",
       "      <th>country</th>\n",
       "      <th>currency</th>\n",
       "      <th>is_major_sec</th>\n",
       "      <th>is_prim_qt</th>\n",
       "      <th>num_shrs</th>\n",
       "      <th>last_close_usd</th>\n",
       "      <th>spread_bps_21d</th>\n",
       "      <th>spread_bps_42d</th>\n",
       "      <th>spread_bps_63d</th>\n",
       "      <th>spread_usd_21d</th>\n",
       "      <th>spread_usd_42d</th>\n",
       "      <th>spread_usd_63d</th>\n",
       "      <th>mdv_shares_21d</th>\n",
       "      <th>mdv_shares_42d</th>\n",
       "      <th>mdv_shares_63d</th>\n",
       "      <th>mdv_usd_21d</th>\n",
       "      <th>mdv_usd_42d</th>\n",
       "      <th>mdv_usd_63d</th>\n",
       "      <th>close_ct_21d</th>\n",
       "      <th>close_ct_42d</th>\n",
       "      <th>close_ct_63d</th>\n",
       "      <th>bd_ct_21d</th>\n",
       "      <th>bd_ct_42d</th>\n",
       "      <th>bd_ct_63d</th>\n",
       "      <th>ticker</th>\n",
       "      <th>volume</th>\n",
       "      <th>market_cap</th>\n",
       "      <th>mapped_asset_id</th>\n",
       "      <th>idc_pk</th>\n",
       "      <th>prev_date</th>\n",
       "      <th>sectype</th>\n",
       "      <th>close_usd</th>\n",
       "      <th>mkt_cap_usd</th>\n",
       "      <th>notional_usd_sum_90d</th>\n",
       "      <th>notional_usd_avg_90d</th>\n",
       "      <th>close_usd_avg_90d</th>\n",
       "      <th>close_usd_ct_90d</th>\n",
       "      <th>mkt_cap_usd_avg_90d</th>\n",
       "      <th>spread_bps_21d_pct</th>\n",
       "      <th>spread_bps_42d_pct</th>\n",
       "      <th>spread_bps_63d_pct</th>\n",
       "      <th>spread_usd_21d_pct</th>\n",
       "      <th>spread_usd_42d_pct</th>\n",
       "      <th>spread_usd_63d_pct</th>\n",
       "      <th>mdv_shares_21d_pct</th>\n",
       "      <th>mdv_shares_42d_pct</th>\n",
       "      <th>mdv_shares_63d_pct</th>\n",
       "      <th>mdv_usd_21d_pct</th>\n",
       "      <th>mdv_usd_42d_pct</th>\n",
       "      <th>mdv_usd_63d_pct</th>\n",
       "      <th>market_cap_pct</th>\n",
       "      <th>mkt_cap_usd_avg_90d_pct</th>\n",
       "    </tr>\n",
       "  </thead>\n",
       "  <tbody>\n",
       "    <tr>\n",
       "      <th>2985</th>\n",
       "      <td>am</td>\n",
       "      <td>2022-03-01</td>\n",
       "      <td>14742</td>\n",
       "      <td>67162.0</td>\n",
       "      <td>US</td>\n",
       "      <td>USD</td>\n",
       "      <td>True</td>\n",
       "      <td>True</td>\n",
       "      <td>66050429.0</td>\n",
       "      <td>155.960010</td>\n",
       "      <td>NaN</td>\n",
       "      <td>NaN</td>\n",
       "      <td>0.825359</td>\n",
       "      <td>NaN</td>\n",
       "      <td>NaN</td>\n",
       "      <td>0.012872</td>\n",
       "      <td>NaN</td>\n",
       "      <td>NaN</td>\n",
       "      <td>566404.0</td>\n",
       "      <td>NaN</td>\n",
       "      <td>NaN</td>\n",
       "      <td>8.833637e+07</td>\n",
       "      <td>NaN</td>\n",
       "      <td>NaN</td>\n",
       "      <td>7.0</td>\n",
       "      <td>NaN</td>\n",
       "      <td>NaN</td>\n",
       "      <td>60.0</td>\n",
       "      <td>NaN</td>\n",
       "      <td>NaN</td>\n",
       "      <td>1.030123e+10</td>\n",
       "      <td>14742.0</td>\n",
       "      <td>49629.0</td>\n",
       "      <td>2021-12-10</td>\n",
       "      <td>NA:C</td>\n",
       "      <td>155.960007</td>\n",
       "      <td>1.030116e+10</td>\n",
       "      <td>7.524066e+08</td>\n",
       "      <td>9.405082e+07</td>\n",
       "      <td>155.817501</td>\n",
       "      <td>8.0</td>\n",
       "      <td>1.029175e+10</td>\n",
       "      <td>NaN</td>\n",
       "      <td>NaN</td>\n",
       "      <td>0.000217</td>\n",
       "      <td>NaN</td>\n",
       "      <td>NaN</td>\n",
       "      <td>0.229049</td>\n",
       "      <td>NaN</td>\n",
       "      <td>NaN</td>\n",
       "      <td>0.637346</td>\n",
       "      <td>NaN</td>\n",
       "      <td>NaN</td>\n",
       "      <td>0.867733</td>\n",
       "      <td>0.870759</td>\n",
       "      <td>0.866220</td>\n",
       "    </tr>\n",
       "    <tr>\n",
       "      <th>1167</th>\n",
       "      <td>am</td>\n",
       "      <td>2022-03-01</td>\n",
       "      <td>11806</td>\n",
       "      <td>50123.0</td>\n",
       "      <td>US</td>\n",
       "      <td>USD</td>\n",
       "      <td>True</td>\n",
       "      <td>True</td>\n",
       "      <td>91195060.0</td>\n",
       "      <td>293.590090</td>\n",
       "      <td>NaN</td>\n",
       "      <td>NaN</td>\n",
       "      <td>2.093970</td>\n",
       "      <td>NaN</td>\n",
       "      <td>NaN</td>\n",
       "      <td>0.061477</td>\n",
       "      <td>NaN</td>\n",
       "      <td>NaN</td>\n",
       "      <td>2371354.5</td>\n",
       "      <td>NaN</td>\n",
       "      <td>NaN</td>\n",
       "      <td>6.962062e+08</td>\n",
       "      <td>NaN</td>\n",
       "      <td>NaN</td>\n",
       "      <td>8.0</td>\n",
       "      <td>NaN</td>\n",
       "      <td>NaN</td>\n",
       "      <td>60.0</td>\n",
       "      <td>NaN</td>\n",
       "      <td>NaN</td>\n",
       "      <td>2.677397e+10</td>\n",
       "      <td>11806.0</td>\n",
       "      <td>51364.0</td>\n",
       "      <td>2021-12-13</td>\n",
       "      <td>NA:C</td>\n",
       "      <td>293.589996</td>\n",
       "      <td>2.677394e+10</td>\n",
       "      <td>1.725317e+10</td>\n",
       "      <td>1.917019e+09</td>\n",
       "      <td>294.336670</td>\n",
       "      <td>9.0</td>\n",
       "      <td>2.684203e+10</td>\n",
       "      <td>NaN</td>\n",
       "      <td>NaN</td>\n",
       "      <td>0.031915</td>\n",
       "      <td>NaN</td>\n",
       "      <td>NaN</td>\n",
       "      <td>0.687799</td>\n",
       "      <td>NaN</td>\n",
       "      <td>NaN</td>\n",
       "      <td>0.893668</td>\n",
       "      <td>NaN</td>\n",
       "      <td>NaN</td>\n",
       "      <td>0.980765</td>\n",
       "      <td>0.932354</td>\n",
       "      <td>0.931057</td>\n",
       "    </tr>\n",
       "    <tr>\n",
       "      <th>4296</th>\n",
       "      <td>am</td>\n",
       "      <td>2022-03-01</td>\n",
       "      <td>16784</td>\n",
       "      <td>276608.0</td>\n",
       "      <td>US</td>\n",
       "      <td>USD</td>\n",
       "      <td>True</td>\n",
       "      <td>True</td>\n",
       "      <td>399080320.0</td>\n",
       "      <td>108.610010</td>\n",
       "      <td>2.338746</td>\n",
       "      <td>1.904440</td>\n",
       "      <td>2.633582</td>\n",
       "      <td>0.025401</td>\n",
       "      <td>0.020684</td>\n",
       "      <td>0.028603</td>\n",
       "      <td>2669657.0</td>\n",
       "      <td>2363585.0</td>\n",
       "      <td>2124573.0</td>\n",
       "      <td>2.899515e+08</td>\n",
       "      <td>2.567090e+08</td>\n",
       "      <td>2.307499e+08</td>\n",
       "      <td>19.0</td>\n",
       "      <td>39.0</td>\n",
       "      <td>59.0</td>\n",
       "      <td>20.0</td>\n",
       "      <td>40.0</td>\n",
       "      <td>60.0</td>\n",
       "      <td>NaN</td>\n",
       "      <td>NaN</td>\n",
       "      <td>4.334412e+10</td>\n",
       "      <td>16784.0</td>\n",
       "      <td>241082.0</td>\n",
       "      <td>2022-02-25</td>\n",
       "      <td>NA:C</td>\n",
       "      <td>108.610001</td>\n",
       "      <td>4.334408e+10</td>\n",
       "      <td>2.053313e+10</td>\n",
       "      <td>3.422188e+08</td>\n",
       "      <td>122.021833</td>\n",
       "      <td>60.0</td>\n",
       "      <td>4.944139e+10</td>\n",
       "      <td>0.043906</td>\n",
       "      <td>0.027881</td>\n",
       "      <td>0.057317</td>\n",
       "      <td>0.443425</td>\n",
       "      <td>0.385973</td>\n",
       "      <td>0.484802</td>\n",
       "      <td>0.899935</td>\n",
       "      <td>0.890286</td>\n",
       "      <td>0.880268</td>\n",
       "      <td>0.944747</td>\n",
       "      <td>0.937121</td>\n",
       "      <td>0.935595</td>\n",
       "      <td>0.958937</td>\n",
       "      <td>0.963475</td>\n",
       "    </tr>\n",
       "    <tr>\n",
       "      <th>26089</th>\n",
       "      <td>am</td>\n",
       "      <td>2022-03-01</td>\n",
       "      <td>1462584</td>\n",
       "      <td>322904.0</td>\n",
       "      <td>US</td>\n",
       "      <td>USD</td>\n",
       "      <td>True</td>\n",
       "      <td>True</td>\n",
       "      <td>351394560.0</td>\n",
       "      <td>47.279999</td>\n",
       "      <td>NaN</td>\n",
       "      <td>NaN</td>\n",
       "      <td>2.644993</td>\n",
       "      <td>NaN</td>\n",
       "      <td>NaN</td>\n",
       "      <td>0.012506</td>\n",
       "      <td>NaN</td>\n",
       "      <td>NaN</td>\n",
       "      <td>1876529.5</td>\n",
       "      <td>NaN</td>\n",
       "      <td>NaN</td>\n",
       "      <td>8.872231e+07</td>\n",
       "      <td>NaN</td>\n",
       "      <td>NaN</td>\n",
       "      <td>4.0</td>\n",
       "      <td>NaN</td>\n",
       "      <td>NaN</td>\n",
       "      <td>60.0</td>\n",
       "      <td>NaN</td>\n",
       "      <td>NaN</td>\n",
       "      <td>1.661393e+10</td>\n",
       "      <td>1462584.0</td>\n",
       "      <td>310894.0</td>\n",
       "      <td>2021-12-07</td>\n",
       "      <td>NA:C</td>\n",
       "      <td>47.279999</td>\n",
       "      <td>1.661396e+10</td>\n",
       "      <td>4.345227e+08</td>\n",
       "      <td>8.690454e+07</td>\n",
       "      <td>47.242000</td>\n",
       "      <td>5.0</td>\n",
       "      <td>1.660060e+10</td>\n",
       "      <td>NaN</td>\n",
       "      <td>NaN</td>\n",
       "      <td>0.058185</td>\n",
       "      <td>NaN</td>\n",
       "      <td>NaN</td>\n",
       "      <td>0.214286</td>\n",
       "      <td>NaN</td>\n",
       "      <td>NaN</td>\n",
       "      <td>0.864275</td>\n",
       "      <td>NaN</td>\n",
       "      <td>NaN</td>\n",
       "      <td>0.867949</td>\n",
       "      <td>0.902961</td>\n",
       "      <td>0.900584</td>\n",
       "    </tr>\n",
       "    <tr>\n",
       "      <th>20824</th>\n",
       "      <td>am</td>\n",
       "      <td>2022-03-01</td>\n",
       "      <td>1221924</td>\n",
       "      <td>294156.0</td>\n",
       "      <td>US</td>\n",
       "      <td>USD</td>\n",
       "      <td>True</td>\n",
       "      <td>True</td>\n",
       "      <td>192141440.0</td>\n",
       "      <td>83.330002</td>\n",
       "      <td>NaN</td>\n",
       "      <td>1.199448</td>\n",
       "      <td>3.076326</td>\n",
       "      <td>NaN</td>\n",
       "      <td>0.009995</td>\n",
       "      <td>0.025635</td>\n",
       "      <td>NaN</td>\n",
       "      <td>3498864.0</td>\n",
       "      <td>838327.0</td>\n",
       "      <td>NaN</td>\n",
       "      <td>2.915603e+08</td>\n",
       "      <td>6.985779e+07</td>\n",
       "      <td>NaN</td>\n",
       "      <td>1.0</td>\n",
       "      <td>21.0</td>\n",
       "      <td>NaN</td>\n",
       "      <td>40.0</td>\n",
       "      <td>60.0</td>\n",
       "      <td>NaN</td>\n",
       "      <td>NaN</td>\n",
       "      <td>1.601115e+10</td>\n",
       "      <td>1221924.0</td>\n",
       "      <td>271132.0</td>\n",
       "      <td>2021-12-31</td>\n",
       "      <td>NA:C</td>\n",
       "      <td>83.330002</td>\n",
       "      <td>1.601119e+10</td>\n",
       "      <td>1.983185e+09</td>\n",
       "      <td>9.014477e+07</td>\n",
       "      <td>81.674091</td>\n",
       "      <td>22.0</td>\n",
       "      <td>1.569302e+10</td>\n",
       "      <td>NaN</td>\n",
       "      <td>0.003485</td>\n",
       "      <td>0.080113</td>\n",
       "      <td>NaN</td>\n",
       "      <td>0.089959</td>\n",
       "      <td>0.449631</td>\n",
       "      <td>NaN</td>\n",
       "      <td>0.928231</td>\n",
       "      <td>0.723579</td>\n",
       "      <td>NaN</td>\n",
       "      <td>0.947311</td>\n",
       "      <td>0.845904</td>\n",
       "      <td>0.901448</td>\n",
       "      <td>0.896693</td>\n",
       "    </tr>\n",
       "    <tr>\n",
       "      <th>2873</th>\n",
       "      <td>am</td>\n",
       "      <td>2022-03-01</td>\n",
       "      <td>14549</td>\n",
       "      <td>273671.0</td>\n",
       "      <td>US</td>\n",
       "      <td>USD</td>\n",
       "      <td>True</td>\n",
       "      <td>True</td>\n",
       "      <td>306111360.0</td>\n",
       "      <td>41.600007</td>\n",
       "      <td>NaN</td>\n",
       "      <td>2.995109</td>\n",
       "      <td>3.098710</td>\n",
       "      <td>NaN</td>\n",
       "      <td>0.012460</td>\n",
       "      <td>0.012891</td>\n",
       "      <td>NaN</td>\n",
       "      <td>192380.0</td>\n",
       "      <td>189685.0</td>\n",
       "      <td>NaN</td>\n",
       "      <td>8.003009e+06</td>\n",
       "      <td>7.890897e+06</td>\n",
       "      <td>NaN</td>\n",
       "      <td>20.0</td>\n",
       "      <td>40.0</td>\n",
       "      <td>NaN</td>\n",
       "      <td>40.0</td>\n",
       "      <td>60.0</td>\n",
       "      <td>NaN</td>\n",
       "      <td>NaN</td>\n",
       "      <td>1.273423e+10</td>\n",
       "      <td>14549.0</td>\n",
       "      <td>226007.0</td>\n",
       "      <td>2022-01-28</td>\n",
       "      <td>NA:C</td>\n",
       "      <td>41.599998</td>\n",
       "      <td>1.273422e+10</td>\n",
       "      <td>8.699702e+08</td>\n",
       "      <td>2.121878e+07</td>\n",
       "      <td>41.908536</td>\n",
       "      <td>41.0</td>\n",
       "      <td>1.282866e+10</td>\n",
       "      <td>NaN</td>\n",
       "      <td>0.077107</td>\n",
       "      <td>0.081850</td>\n",
       "      <td>NaN</td>\n",
       "      <td>0.213025</td>\n",
       "      <td>0.229917</td>\n",
       "      <td>NaN</td>\n",
       "      <td>0.395490</td>\n",
       "      <td>0.387724</td>\n",
       "      <td>NaN</td>\n",
       "      <td>0.571552</td>\n",
       "      <td>0.571212</td>\n",
       "      <td>0.885455</td>\n",
       "      <td>0.883510</td>\n",
       "    </tr>\n",
       "    <tr>\n",
       "      <th>4638</th>\n",
       "      <td>am</td>\n",
       "      <td>2022-03-01</td>\n",
       "      <td>17386</td>\n",
       "      <td>273815.0</td>\n",
       "      <td>US</td>\n",
       "      <td>USD</td>\n",
       "      <td>True</td>\n",
       "      <td>True</td>\n",
       "      <td>77888930.0</td>\n",
       "      <td>38.220002</td>\n",
       "      <td>NaN</td>\n",
       "      <td>NaN</td>\n",
       "      <td>3.556814</td>\n",
       "      <td>NaN</td>\n",
       "      <td>NaN</td>\n",
       "      <td>0.013594</td>\n",
       "      <td>NaN</td>\n",
       "      <td>NaN</td>\n",
       "      <td>2601832.0</td>\n",
       "      <td>NaN</td>\n",
       "      <td>NaN</td>\n",
       "      <td>9.944202e+07</td>\n",
       "      <td>NaN</td>\n",
       "      <td>NaN</td>\n",
       "      <td>17.0</td>\n",
       "      <td>NaN</td>\n",
       "      <td>NaN</td>\n",
       "      <td>60.0</td>\n",
       "      <td>NaN</td>\n",
       "      <td>NaN</td>\n",
       "      <td>2.976915e+09</td>\n",
       "      <td>17386.0</td>\n",
       "      <td>235769.0</td>\n",
       "      <td>2021-12-27</td>\n",
       "      <td>NA:C</td>\n",
       "      <td>38.220001</td>\n",
       "      <td>2.977720e+09</td>\n",
       "      <td>2.169318e+09</td>\n",
       "      <td>1.205177e+08</td>\n",
       "      <td>38.031111</td>\n",
       "      <td>18.0</td>\n",
       "      <td>2.963004e+09</td>\n",
       "      <td>NaN</td>\n",
       "      <td>NaN</td>\n",
       "      <td>0.100738</td>\n",
       "      <td>NaN</td>\n",
       "      <td>NaN</td>\n",
       "      <td>0.253582</td>\n",
       "      <td>NaN</td>\n",
       "      <td>NaN</td>\n",
       "      <td>0.905338</td>\n",
       "      <td>NaN</td>\n",
       "      <td>NaN</td>\n",
       "      <td>0.875946</td>\n",
       "      <td>0.713421</td>\n",
       "      <td>0.709747</td>\n",
       "    </tr>\n",
       "    <tr>\n",
       "      <th>3381</th>\n",
       "      <td>am</td>\n",
       "      <td>2022-03-01</td>\n",
       "      <td>15353</td>\n",
       "      <td>260607.0</td>\n",
       "      <td>US</td>\n",
       "      <td>USD</td>\n",
       "      <td>True</td>\n",
       "      <td>True</td>\n",
       "      <td>35040840.0</td>\n",
       "      <td>79.130005</td>\n",
       "      <td>4.311267</td>\n",
       "      <td>2.895952</td>\n",
       "      <td>3.683751</td>\n",
       "      <td>0.034115</td>\n",
       "      <td>0.022916</td>\n",
       "      <td>0.029150</td>\n",
       "      <td>2501347.0</td>\n",
       "      <td>2640615.5</td>\n",
       "      <td>1994796.5</td>\n",
       "      <td>1.979316e+08</td>\n",
       "      <td>2.089519e+08</td>\n",
       "      <td>1.578483e+08</td>\n",
       "      <td>16.0</td>\n",
       "      <td>36.0</td>\n",
       "      <td>56.0</td>\n",
       "      <td>20.0</td>\n",
       "      <td>40.0</td>\n",
       "      <td>60.0</td>\n",
       "      <td>NaN</td>\n",
       "      <td>NaN</td>\n",
       "      <td>2.772782e+09</td>\n",
       "      <td>15353.0</td>\n",
       "      <td>171145.0</td>\n",
       "      <td>2022-02-22</td>\n",
       "      <td>NA:C</td>\n",
       "      <td>79.129997</td>\n",
       "      <td>2.765673e+09</td>\n",
       "      <td>8.920853e+09</td>\n",
       "      <td>1.565062e+08</td>\n",
       "      <td>71.485614</td>\n",
       "      <td>57.0</td>\n",
       "      <td>2.493428e+09</td>\n",
       "      <td>0.127785</td>\n",
       "      <td>0.071880</td>\n",
       "      <td>0.105297</td>\n",
       "      <td>0.531018</td>\n",
       "      <td>0.415814</td>\n",
       "      <td>0.491750</td>\n",
       "      <td>0.892974</td>\n",
       "      <td>0.903513</td>\n",
       "      <td>0.874000</td>\n",
       "      <td>0.920600</td>\n",
       "      <td>0.925412</td>\n",
       "      <td>0.913119</td>\n",
       "      <td>0.702615</td>\n",
       "      <td>0.683596</td>\n",
       "    </tr>\n",
       "    <tr>\n",
       "      <th>3964</th>\n",
       "      <td>am</td>\n",
       "      <td>2022-03-01</td>\n",
       "      <td>16232</td>\n",
       "      <td>54572.0</td>\n",
       "      <td>US</td>\n",
       "      <td>USD</td>\n",
       "      <td>True</td>\n",
       "      <td>True</td>\n",
       "      <td>192700800.0</td>\n",
       "      <td>26.289994</td>\n",
       "      <td>3.801446</td>\n",
       "      <td>4.054429</td>\n",
       "      <td>4.132338</td>\n",
       "      <td>0.009994</td>\n",
       "      <td>0.010659</td>\n",
       "      <td>0.010864</td>\n",
       "      <td>19410606.0</td>\n",
       "      <td>1357279.0</td>\n",
       "      <td>1270469.0</td>\n",
       "      <td>5.103047e+08</td>\n",
       "      <td>3.568286e+07</td>\n",
       "      <td>3.340062e+07</td>\n",
       "      <td>1.0</td>\n",
       "      <td>21.0</td>\n",
       "      <td>41.0</td>\n",
       "      <td>20.0</td>\n",
       "      <td>40.0</td>\n",
       "      <td>60.0</td>\n",
       "      <td>NaN</td>\n",
       "      <td>NaN</td>\n",
       "      <td>5.066103e+09</td>\n",
       "      <td>16232.0</td>\n",
       "      <td>54023.0</td>\n",
       "      <td>2022-01-31</td>\n",
       "      <td>NA:C</td>\n",
       "      <td>26.290001</td>\n",
       "      <td>5.059116e+09</td>\n",
       "      <td>2.177816e+09</td>\n",
       "      <td>5.185277e+07</td>\n",
       "      <td>26.502381</td>\n",
       "      <td>42.0</td>\n",
       "      <td>5.106697e+09</td>\n",
       "      <td>0.108344</td>\n",
       "      <td>0.121978</td>\n",
       "      <td>0.123752</td>\n",
       "      <td>0.080384</td>\n",
       "      <td>0.129819</td>\n",
       "      <td>0.146114</td>\n",
       "      <td>0.989558</td>\n",
       "      <td>0.812229</td>\n",
       "      <td>0.807219</td>\n",
       "      <td>0.970633</td>\n",
       "      <td>0.769948</td>\n",
       "      <td>0.766155</td>\n",
       "      <td>0.797925</td>\n",
       "      <td>0.795764</td>\n",
       "    </tr>\n",
       "    <tr>\n",
       "      <th>27781</th>\n",
       "      <td>am</td>\n",
       "      <td>2022-03-01</td>\n",
       "      <td>1490766</td>\n",
       "      <td>330948.0</td>\n",
       "      <td>US</td>\n",
       "      <td>USD</td>\n",
       "      <td>True</td>\n",
       "      <td>True</td>\n",
       "      <td>188020800.0</td>\n",
       "      <td>25.990006</td>\n",
       "      <td>4.256375</td>\n",
       "      <td>4.365162</td>\n",
       "      <td>4.400654</td>\n",
       "      <td>0.011062</td>\n",
       "      <td>0.011345</td>\n",
       "      <td>0.011437</td>\n",
       "      <td>1128378.5</td>\n",
       "      <td>1399981.0</td>\n",
       "      <td>1445984.5</td>\n",
       "      <td>2.932656e+07</td>\n",
       "      <td>3.638551e+07</td>\n",
       "      <td>3.758115e+07</td>\n",
       "      <td>20.0</td>\n",
       "      <td>40.0</td>\n",
       "      <td>60.0</td>\n",
       "      <td>20.0</td>\n",
       "      <td>40.0</td>\n",
       "      <td>60.0</td>\n",
       "      <td>NaN</td>\n",
       "      <td>NaN</td>\n",
       "      <td>4.886662e+09</td>\n",
       "      <td>1490766.0</td>\n",
       "      <td>320428.0</td>\n",
       "      <td>2022-02-28</td>\n",
       "      <td>NA:C</td>\n",
       "      <td>25.990000</td>\n",
       "      <td>4.842093e+09</td>\n",
       "      <td>3.145860e+09</td>\n",
       "      <td>5.157147e+07</td>\n",
       "      <td>25.748688</td>\n",
       "      <td>61.0</td>\n",
       "      <td>4.748109e+09</td>\n",
       "      <td>0.126038</td>\n",
       "      <td>0.133304</td>\n",
       "      <td>0.135693</td>\n",
       "      <td>0.143294</td>\n",
       "      <td>0.165759</td>\n",
       "      <td>0.172167</td>\n",
       "      <td>0.781597</td>\n",
       "      <td>0.817650</td>\n",
       "      <td>0.829911</td>\n",
       "      <td>0.742658</td>\n",
       "      <td>0.772333</td>\n",
       "      <td>0.779555</td>\n",
       "      <td>0.790577</td>\n",
       "      <td>0.781068</td>\n",
       "    </tr>\n",
       "    <tr>\n",
       "      <th>9126</th>\n",
       "      <td>am</td>\n",
       "      <td>2022-03-01</td>\n",
       "      <td>83182</td>\n",
       "      <td>278704.0</td>\n",
       "      <td>US</td>\n",
       "      <td>USD</td>\n",
       "      <td>True</td>\n",
       "      <td>True</td>\n",
       "      <td>55199190.0</td>\n",
       "      <td>30.880005</td>\n",
       "      <td>16.187821</td>\n",
       "      <td>4.815673</td>\n",
       "      <td>5.632708</td>\n",
       "      <td>0.049988</td>\n",
       "      <td>0.014871</td>\n",
       "      <td>0.017394</td>\n",
       "      <td>14975969.0</td>\n",
       "      <td>432189.0</td>\n",
       "      <td>359370.0</td>\n",
       "      <td>4.624580e+08</td>\n",
       "      <td>1.334600e+07</td>\n",
       "      <td>1.109735e+07</td>\n",
       "      <td>1.0</td>\n",
       "      <td>21.0</td>\n",
       "      <td>41.0</td>\n",
       "      <td>20.0</td>\n",
       "      <td>40.0</td>\n",
       "      <td>60.0</td>\n",
       "      <td>NaN</td>\n",
       "      <td>NaN</td>\n",
       "      <td>1.704551e+09</td>\n",
       "      <td>83182.0</td>\n",
       "      <td>245792.0</td>\n",
       "      <td>2022-01-31</td>\n",
       "      <td>NA:C</td>\n",
       "      <td>30.879999</td>\n",
       "      <td>1.704545e+09</td>\n",
       "      <td>1.146011e+09</td>\n",
       "      <td>2.728597e+07</td>\n",
       "      <td>33.965000</td>\n",
       "      <td>42.0</td>\n",
       "      <td>1.874066e+09</td>\n",
       "      <td>0.420052</td>\n",
       "      <td>0.152254</td>\n",
       "      <td>0.181502</td>\n",
       "      <td>0.632372</td>\n",
       "      <td>0.285994</td>\n",
       "      <td>0.336735</td>\n",
       "      <td>0.984990</td>\n",
       "      <td>0.571119</td>\n",
       "      <td>0.529501</td>\n",
       "      <td>0.965847</td>\n",
       "      <td>0.638335</td>\n",
       "      <td>0.618759</td>\n",
       "      <td>0.629566</td>\n",
       "      <td>0.636482</td>\n",
       "    </tr>\n",
       "    <tr>\n",
       "      <th>1771</th>\n",
       "      <td>am</td>\n",
       "      <td>2022-03-01</td>\n",
       "      <td>12735</td>\n",
       "      <td>70819.0</td>\n",
       "      <td>US</td>\n",
       "      <td>USD</td>\n",
       "      <td>True</td>\n",
       "      <td>True</td>\n",
       "      <td>87010430.0</td>\n",
       "      <td>16.979996</td>\n",
       "      <td>NaN</td>\n",
       "      <td>5.889890</td>\n",
       "      <td>5.902465</td>\n",
       "      <td>NaN</td>\n",
       "      <td>0.010001</td>\n",
       "      <td>0.010022</td>\n",
       "      <td>NaN</td>\n",
       "      <td>798080.0</td>\n",
       "      <td>537733.0</td>\n",
       "      <td>NaN</td>\n",
       "      <td>1.355140e+07</td>\n",
       "      <td>9.130704e+06</td>\n",
       "      <td>NaN</td>\n",
       "      <td>9.0</td>\n",
       "      <td>29.0</td>\n",
       "      <td>NaN</td>\n",
       "      <td>40.0</td>\n",
       "      <td>60.0</td>\n",
       "      <td>NaN</td>\n",
       "      <td>NaN</td>\n",
       "      <td>1.477437e+09</td>\n",
       "      <td>12735.0</td>\n",
       "      <td>94771.0</td>\n",
       "      <td>2022-01-12</td>\n",
       "      <td>NA:C</td>\n",
       "      <td>16.980000</td>\n",
       "      <td>1.477362e+09</td>\n",
       "      <td>3.850332e+08</td>\n",
       "      <td>1.283444e+07</td>\n",
       "      <td>16.933667</td>\n",
       "      <td>30.0</td>\n",
       "      <td>1.473331e+09</td>\n",
       "      <td>NaN</td>\n",
       "      <td>0.189066</td>\n",
       "      <td>0.191055</td>\n",
       "      <td>NaN</td>\n",
       "      <td>0.090176</td>\n",
       "      <td>0.105080</td>\n",
       "      <td>NaN</td>\n",
       "      <td>0.712272</td>\n",
       "      <td>0.625892</td>\n",
       "      <td>NaN</td>\n",
       "      <td>0.640937</td>\n",
       "      <td>0.591960</td>\n",
       "      <td>0.603631</td>\n",
       "      <td>0.601902</td>\n",
       "    </tr>\n",
       "    <tr>\n",
       "      <th>3510</th>\n",
       "      <td>am</td>\n",
       "      <td>2022-03-01</td>\n",
       "      <td>15552</td>\n",
       "      <td>251534.0</td>\n",
       "      <td>US</td>\n",
       "      <td>USD</td>\n",
       "      <td>True</td>\n",
       "      <td>True</td>\n",
       "      <td>323004640.0</td>\n",
       "      <td>18.940003</td>\n",
       "      <td>7.447139</td>\n",
       "      <td>5.893180</td>\n",
       "      <td>6.162486</td>\n",
       "      <td>0.014105</td>\n",
       "      <td>0.011162</td>\n",
       "      <td>0.011672</td>\n",
       "      <td>3207811.0</td>\n",
       "      <td>3595483.0</td>\n",
       "      <td>2555067.0</td>\n",
       "      <td>6.075595e+07</td>\n",
       "      <td>6.809846e+07</td>\n",
       "      <td>4.839298e+07</td>\n",
       "      <td>19.0</td>\n",
       "      <td>39.0</td>\n",
       "      <td>59.0</td>\n",
       "      <td>20.0</td>\n",
       "      <td>40.0</td>\n",
       "      <td>60.0</td>\n",
       "      <td>NaN</td>\n",
       "      <td>NaN</td>\n",
       "      <td>6.117709e+09</td>\n",
       "      <td>15552.0</td>\n",
       "      <td>159544.0</td>\n",
       "      <td>2022-02-25</td>\n",
       "      <td>NA:C</td>\n",
       "      <td>18.940001</td>\n",
       "      <td>6.117715e+09</td>\n",
       "      <td>1.197055e+10</td>\n",
       "      <td>1.995092e+08</td>\n",
       "      <td>53.369667</td>\n",
       "      <td>60.0</td>\n",
       "      <td>1.714474e+10</td>\n",
       "      <td>0.239406</td>\n",
       "      <td>0.189501</td>\n",
       "      <td>0.201042</td>\n",
       "      <td>0.261905</td>\n",
       "      <td>0.157264</td>\n",
       "      <td>0.182154</td>\n",
       "      <td>0.917337</td>\n",
       "      <td>0.930399</td>\n",
       "      <td>0.902313</td>\n",
       "      <td>0.823798</td>\n",
       "      <td>0.838899</td>\n",
       "      <td>0.810028</td>\n",
       "      <td>0.820186</td>\n",
       "      <td>0.902745</td>\n",
       "    </tr>\n",
       "  </tbody>\n",
       "</table>\n",
       "</div>"
      ],
      "text/plain": [
       "      region  trade_date     asset_id  infocode country currency is_major_sec is_prim_qt     num_shrs  last_close_usd  spread_bps_21d  spread_bps_42d  spread_bps_63d  spread_usd_21d  spread_usd_42d  spread_usd_63d  mdv_shares_21d  mdv_shares_42d  mdv_shares_63d   mdv_usd_21d   mdv_usd_42d   mdv_usd_63d  close_ct_21d  close_ct_42d  close_ct_63d  bd_ct_21d  bd_ct_42d  bd_ct_63d ticker  volume    market_cap  mapped_asset_id    idc_pk   prev_date sectype   close_usd   mkt_cap_usd  notional_usd_sum_90d  notional_usd_avg_90d  close_usd_avg_90d  close_usd_ct_90d  mkt_cap_usd_avg_90d  spread_bps_21d_pct  spread_bps_42d_pct  spread_bps_63d_pct  spread_usd_21d_pct  spread_usd_42d_pct  spread_usd_63d_pct  mdv_shares_21d_pct  mdv_shares_42d_pct  mdv_shares_63d_pct  mdv_usd_21d_pct  mdv_usd_42d_pct  mdv_usd_63d_pct  market_cap_pct  mkt_cap_usd_avg_90d_pct\n",
       "2985      am  2022-03-01    14742   67162.0      US      USD         True       True   66050429.0      155.960010             NaN             NaN        0.825359             NaN             NaN        0.012872             NaN             NaN        566404.0           NaN           NaN  8.833637e+07           NaN           NaN           7.0        NaN        NaN       60.0    NaN     NaN  1.030123e+10      14742.0   49629.0  2021-12-10   NA:C   155.960007  1.030116e+10          7.524066e+08          9.405082e+07         155.817501               8.0         1.029175e+10                 NaN                 NaN            0.000217                 NaN                 NaN            0.229049                 NaN                 NaN            0.637346              NaN              NaN         0.867733        0.870759                 0.866220\n",
       "1167      am  2022-03-01    11806   50123.0      US      USD         True       True   91195060.0      293.590090             NaN             NaN        2.093970             NaN             NaN        0.061477             NaN             NaN       2371354.5           NaN           NaN  6.962062e+08           NaN           NaN           8.0        NaN        NaN       60.0    NaN     NaN  2.677397e+10      11806.0   51364.0  2021-12-13   NA:C   293.589996  2.677394e+10          1.725317e+10          1.917019e+09         294.336670               9.0         2.684203e+10                 NaN                 NaN            0.031915                 NaN                 NaN            0.687799                 NaN                 NaN            0.893668              NaN              NaN         0.980765        0.932354                 0.931057\n",
       "4296      am  2022-03-01    16784  276608.0      US      USD         True       True  399080320.0      108.610010        2.338746        1.904440        2.633582        0.025401        0.020684        0.028603       2669657.0       2363585.0       2124573.0  2.899515e+08  2.567090e+08  2.307499e+08          19.0          39.0          59.0       20.0       40.0       60.0    NaN     NaN  4.334412e+10      16784.0  241082.0  2022-02-25   NA:C   108.610001  4.334408e+10          2.053313e+10          3.422188e+08         122.021833              60.0         4.944139e+10            0.043906            0.027881            0.057317            0.443425            0.385973            0.484802            0.899935            0.890286            0.880268         0.944747         0.937121         0.935595        0.958937                 0.963475\n",
       "26089     am  2022-03-01  1462584  322904.0      US      USD         True       True  351394560.0       47.279999             NaN             NaN        2.644993             NaN             NaN        0.012506             NaN             NaN       1876529.5           NaN           NaN  8.872231e+07           NaN           NaN           4.0        NaN        NaN       60.0    NaN     NaN  1.661393e+10    1462584.0  310894.0  2021-12-07   NA:C    47.279999  1.661396e+10          4.345227e+08          8.690454e+07          47.242000               5.0         1.660060e+10                 NaN                 NaN            0.058185                 NaN                 NaN            0.214286                 NaN                 NaN            0.864275              NaN              NaN         0.867949        0.902961                 0.900584\n",
       "20824     am  2022-03-01  1221924  294156.0      US      USD         True       True  192141440.0       83.330002             NaN        1.199448        3.076326             NaN        0.009995        0.025635             NaN       3498864.0        838327.0           NaN  2.915603e+08  6.985779e+07           NaN           1.0          21.0        NaN       40.0       60.0    NaN     NaN  1.601115e+10    1221924.0  271132.0  2021-12-31   NA:C    83.330002  1.601119e+10          1.983185e+09          9.014477e+07          81.674091              22.0         1.569302e+10                 NaN            0.003485            0.080113                 NaN            0.089959            0.449631                 NaN            0.928231            0.723579              NaN         0.947311         0.845904        0.901448                 0.896693\n",
       "2873      am  2022-03-01    14549  273671.0      US      USD         True       True  306111360.0       41.600007             NaN        2.995109        3.098710             NaN        0.012460        0.012891             NaN        192380.0        189685.0           NaN  8.003009e+06  7.890897e+06           NaN          20.0          40.0        NaN       40.0       60.0    NaN     NaN  1.273423e+10      14549.0  226007.0  2022-01-28   NA:C    41.599998  1.273422e+10          8.699702e+08          2.121878e+07          41.908536              41.0         1.282866e+10                 NaN            0.077107            0.081850                 NaN            0.213025            0.229917                 NaN            0.395490            0.387724              NaN         0.571552         0.571212        0.885455                 0.883510\n",
       "4638      am  2022-03-01    17386  273815.0      US      USD         True       True   77888930.0       38.220002             NaN             NaN        3.556814             NaN             NaN        0.013594             NaN             NaN       2601832.0           NaN           NaN  9.944202e+07           NaN           NaN          17.0        NaN        NaN       60.0    NaN     NaN  2.976915e+09      17386.0  235769.0  2021-12-27   NA:C    38.220001  2.977720e+09          2.169318e+09          1.205177e+08          38.031111              18.0         2.963004e+09                 NaN                 NaN            0.100738                 NaN                 NaN            0.253582                 NaN                 NaN            0.905338              NaN              NaN         0.875946        0.713421                 0.709747\n",
       "3381      am  2022-03-01    15353  260607.0      US      USD         True       True   35040840.0       79.130005        4.311267        2.895952        3.683751        0.034115        0.022916        0.029150       2501347.0       2640615.5       1994796.5  1.979316e+08  2.089519e+08  1.578483e+08          16.0          36.0          56.0       20.0       40.0       60.0    NaN     NaN  2.772782e+09      15353.0  171145.0  2022-02-22   NA:C    79.129997  2.765673e+09          8.920853e+09          1.565062e+08          71.485614              57.0         2.493428e+09            0.127785            0.071880            0.105297            0.531018            0.415814            0.491750            0.892974            0.903513            0.874000         0.920600         0.925412         0.913119        0.702615                 0.683596\n",
       "3964      am  2022-03-01    16232   54572.0      US      USD         True       True  192700800.0       26.289994        3.801446        4.054429        4.132338        0.009994        0.010659        0.010864      19410606.0       1357279.0       1270469.0  5.103047e+08  3.568286e+07  3.340062e+07           1.0          21.0          41.0       20.0       40.0       60.0    NaN     NaN  5.066103e+09      16232.0   54023.0  2022-01-31   NA:C    26.290001  5.059116e+09          2.177816e+09          5.185277e+07          26.502381              42.0         5.106697e+09            0.108344            0.121978            0.123752            0.080384            0.129819            0.146114            0.989558            0.812229            0.807219         0.970633         0.769948         0.766155        0.797925                 0.795764\n",
       "27781     am  2022-03-01  1490766  330948.0      US      USD         True       True  188020800.0       25.990006        4.256375        4.365162        4.400654        0.011062        0.011345        0.011437       1128378.5       1399981.0       1445984.5  2.932656e+07  3.638551e+07  3.758115e+07          20.0          40.0          60.0       20.0       40.0       60.0    NaN     NaN  4.886662e+09    1490766.0  320428.0  2022-02-28   NA:C    25.990000  4.842093e+09          3.145860e+09          5.157147e+07          25.748688              61.0         4.748109e+09            0.126038            0.133304            0.135693            0.143294            0.165759            0.172167            0.781597            0.817650            0.829911         0.742658         0.772333         0.779555        0.790577                 0.781068\n",
       "9126      am  2022-03-01    83182  278704.0      US      USD         True       True   55199190.0       30.880005       16.187821        4.815673        5.632708        0.049988        0.014871        0.017394      14975969.0        432189.0        359370.0  4.624580e+08  1.334600e+07  1.109735e+07           1.0          21.0          41.0       20.0       40.0       60.0    NaN     NaN  1.704551e+09      83182.0  245792.0  2022-01-31   NA:C    30.879999  1.704545e+09          1.146011e+09          2.728597e+07          33.965000              42.0         1.874066e+09            0.420052            0.152254            0.181502            0.632372            0.285994            0.336735            0.984990            0.571119            0.529501         0.965847         0.638335         0.618759        0.629566                 0.636482\n",
       "1771      am  2022-03-01    12735   70819.0      US      USD         True       True   87010430.0       16.979996             NaN        5.889890        5.902465             NaN        0.010001        0.010022             NaN        798080.0        537733.0           NaN  1.355140e+07  9.130704e+06           NaN           9.0          29.0        NaN       40.0       60.0    NaN     NaN  1.477437e+09      12735.0   94771.0  2022-01-12   NA:C    16.980000  1.477362e+09          3.850332e+08          1.283444e+07          16.933667              30.0         1.473331e+09                 NaN            0.189066            0.191055                 NaN            0.090176            0.105080                 NaN            0.712272            0.625892              NaN         0.640937         0.591960        0.603631                 0.601902\n",
       "3510      am  2022-03-01    15552  251534.0      US      USD         True       True  323004640.0       18.940003        7.447139        5.893180        6.162486        0.014105        0.011162        0.011672       3207811.0       3595483.0       2555067.0  6.075595e+07  6.809846e+07  4.839298e+07          19.0          39.0          59.0       20.0       40.0       60.0    NaN     NaN  6.117709e+09      15552.0  159544.0  2022-02-25   NA:C    18.940001  6.117715e+09          1.197055e+10          1.995092e+08          53.369667              60.0         1.714474e+10            0.239406            0.189501            0.201042            0.261905            0.157264            0.182154            0.917337            0.930399            0.902313         0.823798         0.838899         0.810028        0.820186                 0.902745"
      ]
     },
     "execution_count": 20,
     "metadata": {},
     "output_type": "execute_result"
    }
   ],
   "source": [
    "filtered_df[filtered_df[\"ticker\"].isna()]"
   ]
  },
  {
   "cell_type": "code",
   "execution_count": 21,
   "id": "daf2bdf8",
   "metadata": {
    "ExecuteTime": {
     "end_time": "2022-05-06T14:34:24.757305Z",
     "start_time": "2022-05-06T14:34:24.736475Z"
    }
   },
   "outputs": [],
   "source": [
    "tickers = filtered_df[\"ticker\"].dropna().to_list()"
   ]
  },
  {
   "cell_type": "code",
   "execution_count": 35,
   "id": "91b14c12",
   "metadata": {
    "ExecuteTime": {
     "end_time": "2022-05-06T14:41:57.117155Z",
     "start_time": "2022-05-06T14:41:57.085967Z"
    }
   },
   "outputs": [
    {
     "ename": "AssertionError",
     "evalue": "",
     "output_type": "error",
     "traceback": [
      "\u001b[0;31m---------------------------------------------------------------------------\u001b[0m",
      "\u001b[0;31mAssertionError\u001b[0m                            Traceback (most recent call last)",
      "Input \u001b[0;32mIn [35]\u001b[0m, in \u001b[0;36m<cell line: 1>\u001b[0;34m()\u001b[0m\n\u001b[0;32m----> 1\u001b[0m \u001b[38;5;28;01massert\u001b[39;00m \u001b[38;5;241m0\u001b[39m\n",
      "\u001b[0;31mAssertionError\u001b[0m: "
     ]
    }
   ],
   "source": [
    "assert 0"
   ]
  },
  {
   "cell_type": "markdown",
   "id": "738f9da4",
   "metadata": {},
   "source": [
    "# Get universe dataframe at datetime"
   ]
  },
  {
   "cell_type": "code",
   "execution_count": 22,
   "id": "f54ca2f1",
   "metadata": {
    "ExecuteTime": {
     "end_time": "2022-05-06T14:34:27.861428Z",
     "start_time": "2022-05-06T14:34:24.758893Z"
    },
    "scrolled": true
   },
   "outputs": [
    {
     "data": {
      "application/vnd.jupyter.widget-view+json": {
       "model_id": "47f13869c0f24d2b88359fd348848e77",
       "version_major": 2,
       "version_minor": 0
      },
      "text/plain": [
       "  0%|          | 0/1 [00:00<?, ?it/s]"
      ]
     },
     "metadata": {},
     "output_type": "display_data"
    },
    {
     "name": "stdout",
     "output_type": "stream",
     "text": [
      "INFO  Loading cached version from memory ...\n",
      "INFO  Loading cached version from memory done (0.036 s)\n",
      "INFO    --> Cache data for 'get_liquidity_data' from 'mem' cache (size=nan, time=0.05 s, tag=None, loc=/mnt/tmpfs/tmp.cache.mem)\n",
      "INFO  Number remaining=4628 after applying filters\n"
     ]
    },
    {
     "name": "stderr",
     "output_type": "stream",
     "text": [
      "/venv/lib/python3.8/site-packages/pandas/io/sql.py:761: UserWarning: pandas only support SQLAlchemy connectable(engine/connection) ordatabase string URI or sqlite3 DBAPI2 connectionother DBAPI2 objects are not tested, please consider using SQLAlchemy\n",
      "  warnings.warn(\n"
     ]
    },
    {
     "name": "stdout",
     "output_type": "stream",
     "text": [
      "INFO  Number remaining=1826 after applying filters\n"
     ]
    }
   ],
   "source": [
    "universe = vldlunut.get_filtered_universe_dfs([date], connection)[0]"
   ]
  },
  {
   "cell_type": "code",
   "execution_count": 23,
   "id": "f6dbf5e9",
   "metadata": {
    "ExecuteTime": {
     "end_time": "2022-05-06T14:34:27.884298Z",
     "start_time": "2022-05-06T14:34:27.863022Z"
    }
   },
   "outputs": [],
   "source": [
    "dates = pd.date_range(\n",
    "    start=\"2017-01-01\", end=\"2022-03-01\", freq=pd.offsets.BMonthBegin()\n",
    ")"
   ]
  },
  {
   "cell_type": "code",
   "execution_count": 24,
   "id": "e3ef77d1",
   "metadata": {
    "ExecuteTime": {
     "end_time": "2022-05-06T14:40:31.285142Z",
     "start_time": "2022-05-06T14:34:27.886149Z"
    }
   },
   "outputs": [
    {
     "data": {
      "application/vnd.jupyter.widget-view+json": {
       "model_id": "9e436b8f3769473a94b598f12020738f",
       "version_major": 2,
       "version_minor": 0
      },
      "text/plain": [
       "  0%|          | 0/63 [00:00<?, ?it/s]"
      ]
     },
     "metadata": {},
     "output_type": "display_data"
    },
    {
     "name": "stdout",
     "output_type": "stream",
     "text": [
      "INFO  Updating cached version on disk ...\n"
     ]
    },
    {
     "data": {
      "application/vnd.jupyter.widget-view+json": {
       "model_id": "08437afa30e74ac08586f084480bb588",
       "version_major": 2,
       "version_minor": 0
      },
      "text/plain": [
       "Retrieving datastream_liquidity data:   0%|          | 0/1 [00:00<?, ?it/s]"
      ]
     },
     "metadata": {},
     "output_type": "display_data"
    },
    {
     "name": "stdout",
     "output_type": "stream",
     "text": [
      "INFO  Updating cached version on disk done (0.790 s)\n",
      "INFO    --> Cache data for 'get_liquidity_data' from 'no_cache' cache (size=nan, time=0.91 s, tag=None, loc=no_cache)\n",
      "WARNING Unable to generate universe on date=2017-01-02 00:00:00\n",
      "INFO  Updating cached version on disk ...\n"
     ]
    },
    {
     "data": {
      "application/vnd.jupyter.widget-view+json": {
       "model_id": "95ee0a73935644c68ebe6f7ffacd277f",
       "version_major": 2,
       "version_minor": 0
      },
      "text/plain": [
       "Retrieving datastream_liquidity data:   0%|          | 0/1 [00:00<?, ?it/s]"
      ]
     },
     "metadata": {},
     "output_type": "display_data"
    },
    {
     "name": "stdout",
     "output_type": "stream",
     "text": [
      "INFO  Updating cached version on disk done (0.604 s)\n",
      "INFO    --> Cache data for 'get_liquidity_data' from 'no_cache' cache (size=nan, time=0.73 s, tag=None, loc=no_cache)\n"
     ]
    },
    {
     "name": "stderr",
     "output_type": "stream",
     "text": [
      "/venv/lib/python3.8/site-packages/pandas/io/sql.py:761: UserWarning: pandas only support SQLAlchemy connectable(engine/connection) ordatabase string URI or sqlite3 DBAPI2 connectionother DBAPI2 objects are not tested, please consider using SQLAlchemy\n",
      "  warnings.warn(\n"
     ]
    },
    {
     "name": "stdout",
     "output_type": "stream",
     "text": [
      "INFO  Number remaining=4079 after applying filters\n",
      "INFO  Number remaining=1639 after applying filters\n",
      "INFO  Updating cached version on disk ...\n"
     ]
    },
    {
     "data": {
      "application/vnd.jupyter.widget-view+json": {
       "model_id": "67363d0b2aa048d6a1a324fc170b6527",
       "version_major": 2,
       "version_minor": 0
      },
      "text/plain": [
       "Retrieving datastream_liquidity data:   0%|          | 0/1 [00:00<?, ?it/s]"
      ]
     },
     "metadata": {},
     "output_type": "display_data"
    },
    {
     "name": "stdout",
     "output_type": "stream",
     "text": [
      "INFO  Updating cached version on disk done (0.756 s)\n",
      "INFO    --> Cache data for 'get_liquidity_data' from 'no_cache' cache (size=nan, time=0.88 s, tag=None, loc=no_cache)\n"
     ]
    },
    {
     "name": "stderr",
     "output_type": "stream",
     "text": [
      "/venv/lib/python3.8/site-packages/pandas/io/sql.py:761: UserWarning: pandas only support SQLAlchemy connectable(engine/connection) ordatabase string URI or sqlite3 DBAPI2 connectionother DBAPI2 objects are not tested, please consider using SQLAlchemy\n",
      "  warnings.warn(\n"
     ]
    },
    {
     "name": "stdout",
     "output_type": "stream",
     "text": [
      "INFO  Number remaining=4062 after applying filters\n",
      "INFO  Number remaining=1631 after applying filters\n",
      "INFO  Updating cached version on disk ...\n"
     ]
    },
    {
     "data": {
      "application/vnd.jupyter.widget-view+json": {
       "model_id": "1c8d15d5a16d4d40ab0d350c7e62630c",
       "version_major": 2,
       "version_minor": 0
      },
      "text/plain": [
       "Retrieving datastream_liquidity data:   0%|          | 0/1 [00:00<?, ?it/s]"
      ]
     },
     "metadata": {},
     "output_type": "display_data"
    },
    {
     "name": "stdout",
     "output_type": "stream",
     "text": [
      "INFO  Updating cached version on disk done (0.639 s)\n",
      "INFO    --> Cache data for 'get_liquidity_data' from 'no_cache' cache (size=nan, time=0.76 s, tag=None, loc=no_cache)\n"
     ]
    },
    {
     "name": "stderr",
     "output_type": "stream",
     "text": [
      "/venv/lib/python3.8/site-packages/pandas/io/sql.py:761: UserWarning: pandas only support SQLAlchemy connectable(engine/connection) ordatabase string URI or sqlite3 DBAPI2 connectionother DBAPI2 objects are not tested, please consider using SQLAlchemy\n",
      "  warnings.warn(\n"
     ]
    },
    {
     "name": "stdout",
     "output_type": "stream",
     "text": [
      "INFO  Number remaining=4062 after applying filters\n",
      "INFO  Number remaining=1619 after applying filters\n",
      "INFO  Updating cached version on disk ...\n"
     ]
    },
    {
     "data": {
      "application/vnd.jupyter.widget-view+json": {
       "model_id": "c276aacf39fc4adba8e794f97c86c145",
       "version_major": 2,
       "version_minor": 0
      },
      "text/plain": [
       "Retrieving datastream_liquidity data:   0%|          | 0/1 [00:00<?, ?it/s]"
      ]
     },
     "metadata": {},
     "output_type": "display_data"
    },
    {
     "name": "stdout",
     "output_type": "stream",
     "text": [
      "INFO  Updating cached version on disk done (0.764 s)\n",
      "INFO    --> Cache data for 'get_liquidity_data' from 'no_cache' cache (size=nan, time=0.89 s, tag=None, loc=no_cache)\n"
     ]
    },
    {
     "name": "stderr",
     "output_type": "stream",
     "text": [
      "/venv/lib/python3.8/site-packages/pandas/io/sql.py:761: UserWarning: pandas only support SQLAlchemy connectable(engine/connection) ordatabase string URI or sqlite3 DBAPI2 connectionother DBAPI2 objects are not tested, please consider using SQLAlchemy\n",
      "  warnings.warn(\n"
     ]
    },
    {
     "name": "stdout",
     "output_type": "stream",
     "text": [
      "INFO  Number remaining=4072 after applying filters\n",
      "INFO  Number remaining=1620 after applying filters\n",
      "INFO  Updating cached version on disk ...\n"
     ]
    },
    {
     "data": {
      "application/vnd.jupyter.widget-view+json": {
       "model_id": "e6dfe11008df4467b4528806a37e2170",
       "version_major": 2,
       "version_minor": 0
      },
      "text/plain": [
       "Retrieving datastream_liquidity data:   0%|          | 0/1 [00:00<?, ?it/s]"
      ]
     },
     "metadata": {},
     "output_type": "display_data"
    },
    {
     "name": "stdout",
     "output_type": "stream",
     "text": [
      "INFO  Updating cached version on disk done (0.704 s)\n",
      "INFO    --> Cache data for 'get_liquidity_data' from 'no_cache' cache (size=nan, time=0.83 s, tag=None, loc=no_cache)\n"
     ]
    },
    {
     "name": "stderr",
     "output_type": "stream",
     "text": [
      "/venv/lib/python3.8/site-packages/pandas/io/sql.py:761: UserWarning: pandas only support SQLAlchemy connectable(engine/connection) ordatabase string URI or sqlite3 DBAPI2 connectionother DBAPI2 objects are not tested, please consider using SQLAlchemy\n",
      "  warnings.warn(\n"
     ]
    },
    {
     "name": "stdout",
     "output_type": "stream",
     "text": [
      "INFO  Number remaining=4069 after applying filters\n",
      "INFO  Number remaining=1624 after applying filters\n",
      "INFO  Updating cached version on disk ...\n"
     ]
    },
    {
     "data": {
      "application/vnd.jupyter.widget-view+json": {
       "model_id": "85f2b94335d74b68b6ecde73b59aef33",
       "version_major": 2,
       "version_minor": 0
      },
      "text/plain": [
       "Retrieving datastream_liquidity data:   0%|          | 0/1 [00:00<?, ?it/s]"
      ]
     },
     "metadata": {},
     "output_type": "display_data"
    },
    {
     "name": "stdout",
     "output_type": "stream",
     "text": [
      "INFO  Updating cached version on disk done (0.702 s)\n",
      "INFO    --> Cache data for 'get_liquidity_data' from 'no_cache' cache (size=nan, time=0.83 s, tag=None, loc=no_cache)\n"
     ]
    },
    {
     "name": "stderr",
     "output_type": "stream",
     "text": [
      "/venv/lib/python3.8/site-packages/pandas/io/sql.py:761: UserWarning: pandas only support SQLAlchemy connectable(engine/connection) ordatabase string URI or sqlite3 DBAPI2 connectionother DBAPI2 objects are not tested, please consider using SQLAlchemy\n",
      "  warnings.warn(\n"
     ]
    },
    {
     "name": "stdout",
     "output_type": "stream",
     "text": [
      "INFO  Number remaining=4068 after applying filters\n",
      "INFO  Number remaining=1624 after applying filters\n",
      "INFO  Updating cached version on disk ...\n"
     ]
    },
    {
     "data": {
      "application/vnd.jupyter.widget-view+json": {
       "model_id": "7e3ae4edd12f41a0903bd22ea014d03e",
       "version_major": 2,
       "version_minor": 0
      },
      "text/plain": [
       "Retrieving datastream_liquidity data:   0%|          | 0/1 [00:00<?, ?it/s]"
      ]
     },
     "metadata": {},
     "output_type": "display_data"
    },
    {
     "name": "stdout",
     "output_type": "stream",
     "text": [
      "INFO  Updating cached version on disk done (0.610 s)\n",
      "INFO    --> Cache data for 'get_liquidity_data' from 'no_cache' cache (size=nan, time=0.73 s, tag=None, loc=no_cache)\n"
     ]
    },
    {
     "name": "stderr",
     "output_type": "stream",
     "text": [
      "/venv/lib/python3.8/site-packages/pandas/io/sql.py:761: UserWarning: pandas only support SQLAlchemy connectable(engine/connection) ordatabase string URI or sqlite3 DBAPI2 connectionother DBAPI2 objects are not tested, please consider using SQLAlchemy\n",
      "  warnings.warn(\n"
     ]
    },
    {
     "name": "stdout",
     "output_type": "stream",
     "text": [
      "INFO  Number remaining=4058 after applying filters\n",
      "INFO  Number remaining=1590 after applying filters\n",
      "INFO  Updating cached version on disk ...\n"
     ]
    },
    {
     "data": {
      "application/vnd.jupyter.widget-view+json": {
       "model_id": "fd18a70a73a7414bbc29b8228b5796bc",
       "version_major": 2,
       "version_minor": 0
      },
      "text/plain": [
       "Retrieving datastream_liquidity data:   0%|          | 0/1 [00:00<?, ?it/s]"
      ]
     },
     "metadata": {},
     "output_type": "display_data"
    },
    {
     "name": "stdout",
     "output_type": "stream",
     "text": [
      "INFO  Updating cached version on disk done (0.777 s)\n",
      "INFO    --> Cache data for 'get_liquidity_data' from 'no_cache' cache (size=nan, time=0.90 s, tag=None, loc=no_cache)\n"
     ]
    },
    {
     "name": "stderr",
     "output_type": "stream",
     "text": [
      "/venv/lib/python3.8/site-packages/pandas/io/sql.py:761: UserWarning: pandas only support SQLAlchemy connectable(engine/connection) ordatabase string URI or sqlite3 DBAPI2 connectionother DBAPI2 objects are not tested, please consider using SQLAlchemy\n",
      "  warnings.warn(\n"
     ]
    },
    {
     "name": "stdout",
     "output_type": "stream",
     "text": [
      "INFO  Number remaining=4047 after applying filters\n",
      "INFO  Number remaining=1560 after applying filters\n",
      "INFO  Updating cached version on disk ...\n"
     ]
    },
    {
     "data": {
      "application/vnd.jupyter.widget-view+json": {
       "model_id": "1a85d02976c4422a825a9c05668371ea",
       "version_major": 2,
       "version_minor": 0
      },
      "text/plain": [
       "Retrieving datastream_liquidity data:   0%|          | 0/1 [00:00<?, ?it/s]"
      ]
     },
     "metadata": {},
     "output_type": "display_data"
    },
    {
     "name": "stdout",
     "output_type": "stream",
     "text": [
      "INFO  Updating cached version on disk done (0.730 s)\n",
      "INFO    --> Cache data for 'get_liquidity_data' from 'no_cache' cache (size=nan, time=0.86 s, tag=None, loc=no_cache)\n"
     ]
    },
    {
     "name": "stderr",
     "output_type": "stream",
     "text": [
      "/venv/lib/python3.8/site-packages/pandas/io/sql.py:761: UserWarning: pandas only support SQLAlchemy connectable(engine/connection) ordatabase string URI or sqlite3 DBAPI2 connectionother DBAPI2 objects are not tested, please consider using SQLAlchemy\n",
      "  warnings.warn(\n"
     ]
    },
    {
     "name": "stdout",
     "output_type": "stream",
     "text": [
      "INFO  Number remaining=4019 after applying filters\n",
      "INFO  Number remaining=1550 after applying filters\n",
      "INFO  Updating cached version on disk ...\n"
     ]
    },
    {
     "data": {
      "application/vnd.jupyter.widget-view+json": {
       "model_id": "2e369b15b7a846ff9855d22fcbfdde07",
       "version_major": 2,
       "version_minor": 0
      },
      "text/plain": [
       "Retrieving datastream_liquidity data:   0%|          | 0/1 [00:00<?, ?it/s]"
      ]
     },
     "metadata": {},
     "output_type": "display_data"
    },
    {
     "name": "stdout",
     "output_type": "stream",
     "text": [
      "INFO  Updating cached version on disk done (0.570 s)\n",
      "INFO    --> Cache data for 'get_liquidity_data' from 'no_cache' cache (size=nan, time=0.70 s, tag=None, loc=no_cache)\n"
     ]
    },
    {
     "name": "stderr",
     "output_type": "stream",
     "text": [
      "/venv/lib/python3.8/site-packages/pandas/io/sql.py:761: UserWarning: pandas only support SQLAlchemy connectable(engine/connection) ordatabase string URI or sqlite3 DBAPI2 connectionother DBAPI2 objects are not tested, please consider using SQLAlchemy\n",
      "  warnings.warn(\n"
     ]
    },
    {
     "name": "stdout",
     "output_type": "stream",
     "text": [
      "INFO  Number remaining=4025 after applying filters\n",
      "INFO  Number remaining=1597 after applying filters\n",
      "INFO  Updating cached version on disk ...\n"
     ]
    },
    {
     "data": {
      "application/vnd.jupyter.widget-view+json": {
       "model_id": "88f3420b69de4a01afe752f978101b26",
       "version_major": 2,
       "version_minor": 0
      },
      "text/plain": [
       "Retrieving datastream_liquidity data:   0%|          | 0/1 [00:00<?, ?it/s]"
      ]
     },
     "metadata": {},
     "output_type": "display_data"
    },
    {
     "name": "stdout",
     "output_type": "stream",
     "text": [
      "INFO  Updating cached version on disk done (0.734 s)\n",
      "INFO    --> Cache data for 'get_liquidity_data' from 'no_cache' cache (size=nan, time=0.86 s, tag=None, loc=no_cache)\n"
     ]
    },
    {
     "name": "stderr",
     "output_type": "stream",
     "text": [
      "/venv/lib/python3.8/site-packages/pandas/io/sql.py:761: UserWarning: pandas only support SQLAlchemy connectable(engine/connection) ordatabase string URI or sqlite3 DBAPI2 connectionother DBAPI2 objects are not tested, please consider using SQLAlchemy\n",
      "  warnings.warn(\n"
     ]
    },
    {
     "name": "stdout",
     "output_type": "stream",
     "text": [
      "INFO  Number remaining=4037 after applying filters\n",
      "INFO  Number remaining=1608 after applying filters\n",
      "INFO  Updating cached version on disk ...\n"
     ]
    },
    {
     "data": {
      "application/vnd.jupyter.widget-view+json": {
       "model_id": "7d14f44bcf7e4d7993a101114125041f",
       "version_major": 2,
       "version_minor": 0
      },
      "text/plain": [
       "Retrieving datastream_liquidity data:   0%|          | 0/1 [00:00<?, ?it/s]"
      ]
     },
     "metadata": {},
     "output_type": "display_data"
    },
    {
     "name": "stdout",
     "output_type": "stream",
     "text": [
      "INFO  Updating cached version on disk done (0.714 s)\n",
      "INFO    --> Cache data for 'get_liquidity_data' from 'no_cache' cache (size=nan, time=0.84 s, tag=None, loc=no_cache)\n",
      "WARNING Unable to generate universe on date=2018-01-01 00:00:00\n",
      "INFO  Updating cached version on disk ...\n"
     ]
    },
    {
     "data": {
      "application/vnd.jupyter.widget-view+json": {
       "model_id": "43fa50f6ca594d55ac99885a23b60d66",
       "version_major": 2,
       "version_minor": 0
      },
      "text/plain": [
       "Retrieving datastream_liquidity data:   0%|          | 0/1 [00:00<?, ?it/s]"
      ]
     },
     "metadata": {},
     "output_type": "display_data"
    },
    {
     "name": "stdout",
     "output_type": "stream",
     "text": [
      "INFO  Updating cached version on disk done (0.748 s)\n",
      "INFO    --> Cache data for 'get_liquidity_data' from 'no_cache' cache (size=nan, time=0.88 s, tag=None, loc=no_cache)\n"
     ]
    },
    {
     "name": "stderr",
     "output_type": "stream",
     "text": [
      "/venv/lib/python3.8/site-packages/pandas/io/sql.py:761: UserWarning: pandas only support SQLAlchemy connectable(engine/connection) ordatabase string URI or sqlite3 DBAPI2 connectionother DBAPI2 objects are not tested, please consider using SQLAlchemy\n",
      "  warnings.warn(\n"
     ]
    },
    {
     "name": "stdout",
     "output_type": "stream",
     "text": [
      "INFO  Number remaining=4009 after applying filters\n",
      "INFO  Number remaining=1610 after applying filters\n",
      "INFO  Updating cached version on disk ...\n"
     ]
    },
    {
     "data": {
      "application/vnd.jupyter.widget-view+json": {
       "model_id": "a0e991adca0f4221b2be53bc3a9b58ac",
       "version_major": 2,
       "version_minor": 0
      },
      "text/plain": [
       "Retrieving datastream_liquidity data:   0%|          | 0/1 [00:00<?, ?it/s]"
      ]
     },
     "metadata": {},
     "output_type": "display_data"
    },
    {
     "name": "stdout",
     "output_type": "stream",
     "text": [
      "INFO  Updating cached version on disk done (0.815 s)\n",
      "INFO    --> Cache data for 'get_liquidity_data' from 'no_cache' cache (size=nan, time=0.94 s, tag=None, loc=no_cache)\n"
     ]
    },
    {
     "name": "stderr",
     "output_type": "stream",
     "text": [
      "/venv/lib/python3.8/site-packages/pandas/io/sql.py:761: UserWarning: pandas only support SQLAlchemy connectable(engine/connection) ordatabase string URI or sqlite3 DBAPI2 connectionother DBAPI2 objects are not tested, please consider using SQLAlchemy\n",
      "  warnings.warn(\n"
     ]
    },
    {
     "name": "stdout",
     "output_type": "stream",
     "text": [
      "INFO  Number remaining=4001 after applying filters\n",
      "INFO  Number remaining=1596 after applying filters\n",
      "INFO  Updating cached version on disk ...\n"
     ]
    },
    {
     "data": {
      "application/vnd.jupyter.widget-view+json": {
       "model_id": "083c1c0cd9b54c5197f4f8c3c2e299c0",
       "version_major": 2,
       "version_minor": 0
      },
      "text/plain": [
       "Retrieving datastream_liquidity data:   0%|          | 0/1 [00:00<?, ?it/s]"
      ]
     },
     "metadata": {},
     "output_type": "display_data"
    },
    {
     "name": "stdout",
     "output_type": "stream",
     "text": [
      "INFO  Updating cached version on disk done (0.711 s)\n",
      "INFO    --> Cache data for 'get_liquidity_data' from 'no_cache' cache (size=nan, time=0.84 s, tag=None, loc=no_cache)\n"
     ]
    },
    {
     "name": "stderr",
     "output_type": "stream",
     "text": [
      "/venv/lib/python3.8/site-packages/pandas/io/sql.py:761: UserWarning: pandas only support SQLAlchemy connectable(engine/connection) ordatabase string URI or sqlite3 DBAPI2 connectionother DBAPI2 objects are not tested, please consider using SQLAlchemy\n",
      "  warnings.warn(\n"
     ]
    },
    {
     "name": "stdout",
     "output_type": "stream",
     "text": [
      "INFO  Number remaining=3992 after applying filters\n",
      "INFO  Number remaining=1602 after applying filters\n",
      "INFO  Updating cached version on disk ...\n"
     ]
    },
    {
     "data": {
      "application/vnd.jupyter.widget-view+json": {
       "model_id": "b1ac81fece7b4ef1aa9f9cfa9035da55",
       "version_major": 2,
       "version_minor": 0
      },
      "text/plain": [
       "Retrieving datastream_liquidity data:   0%|          | 0/1 [00:00<?, ?it/s]"
      ]
     },
     "metadata": {},
     "output_type": "display_data"
    },
    {
     "name": "stdout",
     "output_type": "stream",
     "text": [
      "INFO  Updating cached version on disk done (0.676 s)\n",
      "INFO    --> Cache data for 'get_liquidity_data' from 'no_cache' cache (size=nan, time=0.81 s, tag=None, loc=no_cache)\n"
     ]
    },
    {
     "name": "stderr",
     "output_type": "stream",
     "text": [
      "/venv/lib/python3.8/site-packages/pandas/io/sql.py:761: UserWarning: pandas only support SQLAlchemy connectable(engine/connection) ordatabase string URI or sqlite3 DBAPI2 connectionother DBAPI2 objects are not tested, please consider using SQLAlchemy\n",
      "  warnings.warn(\n"
     ]
    },
    {
     "name": "stdout",
     "output_type": "stream",
     "text": [
      "INFO  Number remaining=4002 after applying filters\n",
      "INFO  Number remaining=1613 after applying filters\n",
      "INFO  Updating cached version on disk ...\n"
     ]
    },
    {
     "data": {
      "application/vnd.jupyter.widget-view+json": {
       "model_id": "d1028f46394f49398e9510e19c73f8f4",
       "version_major": 2,
       "version_minor": 0
      },
      "text/plain": [
       "Retrieving datastream_liquidity data:   0%|          | 0/1 [00:00<?, ?it/s]"
      ]
     },
     "metadata": {},
     "output_type": "display_data"
    },
    {
     "name": "stdout",
     "output_type": "stream",
     "text": [
      "INFO  Updating cached version on disk done (0.671 s)\n",
      "INFO    --> Cache data for 'get_liquidity_data' from 'no_cache' cache (size=nan, time=0.81 s, tag=None, loc=no_cache)\n"
     ]
    },
    {
     "name": "stderr",
     "output_type": "stream",
     "text": [
      "/venv/lib/python3.8/site-packages/pandas/io/sql.py:761: UserWarning: pandas only support SQLAlchemy connectable(engine/connection) ordatabase string URI or sqlite3 DBAPI2 connectionother DBAPI2 objects are not tested, please consider using SQLAlchemy\n",
      "  warnings.warn(\n"
     ]
    },
    {
     "name": "stdout",
     "output_type": "stream",
     "text": [
      "INFO  Number remaining=4014 after applying filters\n",
      "INFO  Number remaining=1613 after applying filters\n",
      "INFO  Updating cached version on disk ...\n"
     ]
    },
    {
     "data": {
      "application/vnd.jupyter.widget-view+json": {
       "model_id": "7f9ad2063e1b4047b12a7bddb8f09377",
       "version_major": 2,
       "version_minor": 0
      },
      "text/plain": [
       "Retrieving datastream_liquidity data:   0%|          | 0/1 [00:00<?, ?it/s]"
      ]
     },
     "metadata": {},
     "output_type": "display_data"
    },
    {
     "name": "stdout",
     "output_type": "stream",
     "text": [
      "INFO  Updating cached version on disk done (0.773 s)\n",
      "INFO    --> Cache data for 'get_liquidity_data' from 'no_cache' cache (size=nan, time=0.90 s, tag=None, loc=no_cache)\n"
     ]
    },
    {
     "name": "stderr",
     "output_type": "stream",
     "text": [
      "/venv/lib/python3.8/site-packages/pandas/io/sql.py:761: UserWarning: pandas only support SQLAlchemy connectable(engine/connection) ordatabase string URI or sqlite3 DBAPI2 connectionother DBAPI2 objects are not tested, please consider using SQLAlchemy\n",
      "  warnings.warn(\n"
     ]
    },
    {
     "name": "stdout",
     "output_type": "stream",
     "text": [
      "INFO  Number remaining=4026 after applying filters\n",
      "INFO  Number remaining=1614 after applying filters\n",
      "INFO  Updating cached version on disk ...\n"
     ]
    },
    {
     "data": {
      "application/vnd.jupyter.widget-view+json": {
       "model_id": "323ff75e385d4c6ca985912409a6ba2f",
       "version_major": 2,
       "version_minor": 0
      },
      "text/plain": [
       "Retrieving datastream_liquidity data:   0%|          | 0/1 [00:00<?, ?it/s]"
      ]
     },
     "metadata": {},
     "output_type": "display_data"
    },
    {
     "name": "stdout",
     "output_type": "stream",
     "text": [
      "INFO  Updating cached version on disk done (0.699 s)\n",
      "INFO    --> Cache data for 'get_liquidity_data' from 'no_cache' cache (size=nan, time=0.83 s, tag=None, loc=no_cache)\n"
     ]
    },
    {
     "name": "stderr",
     "output_type": "stream",
     "text": [
      "/venv/lib/python3.8/site-packages/pandas/io/sql.py:761: UserWarning: pandas only support SQLAlchemy connectable(engine/connection) ordatabase string URI or sqlite3 DBAPI2 connectionother DBAPI2 objects are not tested, please consider using SQLAlchemy\n",
      "  warnings.warn(\n"
     ]
    },
    {
     "name": "stdout",
     "output_type": "stream",
     "text": [
      "INFO  Number remaining=4028 after applying filters\n",
      "INFO  Number remaining=1634 after applying filters\n",
      "INFO  Updating cached version on disk ...\n"
     ]
    },
    {
     "data": {
      "application/vnd.jupyter.widget-view+json": {
       "model_id": "38f630e78aea40a88a39061f48686446",
       "version_major": 2,
       "version_minor": 0
      },
      "text/plain": [
       "Retrieving datastream_liquidity data:   0%|          | 0/1 [00:00<?, ?it/s]"
      ]
     },
     "metadata": {},
     "output_type": "display_data"
    },
    {
     "name": "stdout",
     "output_type": "stream",
     "text": [
      "INFO  Updating cached version on disk done (0.743 s)\n",
      "INFO    --> Cache data for 'get_liquidity_data' from 'no_cache' cache (size=nan, time=0.87 s, tag=None, loc=no_cache)\n",
      "WARNING Unable to generate universe on date=2018-09-03 00:00:00\n",
      "INFO  Updating cached version on disk ...\n"
     ]
    },
    {
     "data": {
      "application/vnd.jupyter.widget-view+json": {
       "model_id": "1bb19079f7574944a6c4340d22a3f294",
       "version_major": 2,
       "version_minor": 0
      },
      "text/plain": [
       "Retrieving datastream_liquidity data:   0%|          | 0/1 [00:00<?, ?it/s]"
      ]
     },
     "metadata": {},
     "output_type": "display_data"
    },
    {
     "name": "stdout",
     "output_type": "stream",
     "text": [
      "INFO  Updating cached version on disk done (0.638 s)\n",
      "INFO    --> Cache data for 'get_liquidity_data' from 'no_cache' cache (size=nan, time=0.77 s, tag=None, loc=no_cache)\n"
     ]
    },
    {
     "name": "stderr",
     "output_type": "stream",
     "text": [
      "/venv/lib/python3.8/site-packages/pandas/io/sql.py:761: UserWarning: pandas only support SQLAlchemy connectable(engine/connection) ordatabase string URI or sqlite3 DBAPI2 connectionother DBAPI2 objects are not tested, please consider using SQLAlchemy\n",
      "  warnings.warn(\n"
     ]
    },
    {
     "name": "stdout",
     "output_type": "stream",
     "text": [
      "INFO  Number remaining=4016 after applying filters\n",
      "INFO  Number remaining=1634 after applying filters\n",
      "INFO  Updating cached version on disk ...\n"
     ]
    },
    {
     "data": {
      "application/vnd.jupyter.widget-view+json": {
       "model_id": "6ec331845c924930a51523f14f60cf28",
       "version_major": 2,
       "version_minor": 0
      },
      "text/plain": [
       "Retrieving datastream_liquidity data:   0%|          | 0/1 [00:00<?, ?it/s]"
      ]
     },
     "metadata": {},
     "output_type": "display_data"
    },
    {
     "name": "stdout",
     "output_type": "stream",
     "text": [
      "INFO  Updating cached version on disk done (0.684 s)\n",
      "INFO    --> Cache data for 'get_liquidity_data' from 'no_cache' cache (size=nan, time=0.81 s, tag=None, loc=no_cache)\n"
     ]
    },
    {
     "name": "stderr",
     "output_type": "stream",
     "text": [
      "/venv/lib/python3.8/site-packages/pandas/io/sql.py:761: UserWarning: pandas only support SQLAlchemy connectable(engine/connection) ordatabase string URI or sqlite3 DBAPI2 connectionother DBAPI2 objects are not tested, please consider using SQLAlchemy\n",
      "  warnings.warn(\n"
     ]
    },
    {
     "name": "stdout",
     "output_type": "stream",
     "text": [
      "INFO  Number remaining=4005 after applying filters\n",
      "INFO  Number remaining=1644 after applying filters\n",
      "INFO  Updating cached version on disk ...\n"
     ]
    },
    {
     "data": {
      "application/vnd.jupyter.widget-view+json": {
       "model_id": "59f50604a74946f28d3af164f7416dfe",
       "version_major": 2,
       "version_minor": 0
      },
      "text/plain": [
       "Retrieving datastream_liquidity data:   0%|          | 0/1 [00:00<?, ?it/s]"
      ]
     },
     "metadata": {},
     "output_type": "display_data"
    },
    {
     "name": "stdout",
     "output_type": "stream",
     "text": [
      "INFO  Updating cached version on disk done (1.005 s)\n",
      "INFO    --> Cache data for 'get_liquidity_data' from 'no_cache' cache (size=nan, time=1.14 s, tag=None, loc=no_cache)\n"
     ]
    },
    {
     "name": "stderr",
     "output_type": "stream",
     "text": [
      "/venv/lib/python3.8/site-packages/pandas/io/sql.py:761: UserWarning: pandas only support SQLAlchemy connectable(engine/connection) ordatabase string URI or sqlite3 DBAPI2 connectionother DBAPI2 objects are not tested, please consider using SQLAlchemy\n",
      "  warnings.warn(\n"
     ]
    },
    {
     "name": "stdout",
     "output_type": "stream",
     "text": [
      "INFO  Number remaining=4005 after applying filters\n",
      "INFO  Number remaining=1674 after applying filters\n",
      "INFO  Updating cached version on disk ...\n"
     ]
    },
    {
     "data": {
      "application/vnd.jupyter.widget-view+json": {
       "model_id": "13e48e6419b844b5ac99930c094c3de3",
       "version_major": 2,
       "version_minor": 0
      },
      "text/plain": [
       "Retrieving datastream_liquidity data:   0%|          | 0/1 [00:00<?, ?it/s]"
      ]
     },
     "metadata": {},
     "output_type": "display_data"
    },
    {
     "name": "stdout",
     "output_type": "stream",
     "text": [
      "INFO  Updating cached version on disk done (0.814 s)\n",
      "INFO    --> Cache data for 'get_liquidity_data' from 'no_cache' cache (size=nan, time=0.95 s, tag=None, loc=no_cache)\n",
      "WARNING Unable to generate universe on date=2019-01-01 00:00:00\n",
      "INFO  Updating cached version on disk ...\n"
     ]
    },
    {
     "data": {
      "application/vnd.jupyter.widget-view+json": {
       "model_id": "c3be597797424ab38446e4f2406ca4a3",
       "version_major": 2,
       "version_minor": 0
      },
      "text/plain": [
       "Retrieving datastream_liquidity data:   0%|          | 0/1 [00:00<?, ?it/s]"
      ]
     },
     "metadata": {},
     "output_type": "display_data"
    },
    {
     "name": "stdout",
     "output_type": "stream",
     "text": [
      "INFO  Updating cached version on disk done (0.763 s)\n",
      "INFO    --> Cache data for 'get_liquidity_data' from 'no_cache' cache (size=nan, time=0.89 s, tag=None, loc=no_cache)\n"
     ]
    },
    {
     "name": "stderr",
     "output_type": "stream",
     "text": [
      "/venv/lib/python3.8/site-packages/pandas/io/sql.py:761: UserWarning: pandas only support SQLAlchemy connectable(engine/connection) ordatabase string URI or sqlite3 DBAPI2 connectionother DBAPI2 objects are not tested, please consider using SQLAlchemy\n",
      "  warnings.warn(\n"
     ]
    },
    {
     "name": "stdout",
     "output_type": "stream",
     "text": [
      "INFO  Number remaining=3986 after applying filters\n",
      "INFO  Number remaining=1687 after applying filters\n",
      "INFO  Updating cached version on disk ...\n"
     ]
    },
    {
     "data": {
      "application/vnd.jupyter.widget-view+json": {
       "model_id": "5c26cb6eb82c45658dd28ca707416522",
       "version_major": 2,
       "version_minor": 0
      },
      "text/plain": [
       "Retrieving datastream_liquidity data:   0%|          | 0/1 [00:00<?, ?it/s]"
      ]
     },
     "metadata": {},
     "output_type": "display_data"
    },
    {
     "name": "stdout",
     "output_type": "stream",
     "text": [
      "INFO  Updating cached version on disk done (0.673 s)\n",
      "INFO    --> Cache data for 'get_liquidity_data' from 'no_cache' cache (size=nan, time=0.80 s, tag=None, loc=no_cache)\n"
     ]
    },
    {
     "name": "stderr",
     "output_type": "stream",
     "text": [
      "/venv/lib/python3.8/site-packages/pandas/io/sql.py:761: UserWarning: pandas only support SQLAlchemy connectable(engine/connection) ordatabase string URI or sqlite3 DBAPI2 connectionother DBAPI2 objects are not tested, please consider using SQLAlchemy\n",
      "  warnings.warn(\n"
     ]
    },
    {
     "name": "stdout",
     "output_type": "stream",
     "text": [
      "INFO  Number remaining=3981 after applying filters\n",
      "INFO  Number remaining=1686 after applying filters\n",
      "INFO  Updating cached version on disk ...\n"
     ]
    },
    {
     "data": {
      "application/vnd.jupyter.widget-view+json": {
       "model_id": "be5d79b0f6994ccfb2e418925bb037d2",
       "version_major": 2,
       "version_minor": 0
      },
      "text/plain": [
       "Retrieving datastream_liquidity data:   0%|          | 0/1 [00:00<?, ?it/s]"
      ]
     },
     "metadata": {},
     "output_type": "display_data"
    },
    {
     "name": "stdout",
     "output_type": "stream",
     "text": [
      "INFO  Updating cached version on disk done (0.696 s)\n",
      "INFO    --> Cache data for 'get_liquidity_data' from 'no_cache' cache (size=nan, time=0.83 s, tag=None, loc=no_cache)\n"
     ]
    },
    {
     "name": "stderr",
     "output_type": "stream",
     "text": [
      "/venv/lib/python3.8/site-packages/pandas/io/sql.py:761: UserWarning: pandas only support SQLAlchemy connectable(engine/connection) ordatabase string URI or sqlite3 DBAPI2 connectionother DBAPI2 objects are not tested, please consider using SQLAlchemy\n",
      "  warnings.warn(\n"
     ]
    },
    {
     "name": "stdout",
     "output_type": "stream",
     "text": [
      "INFO  Number remaining=3962 after applying filters\n",
      "INFO  Number remaining=1663 after applying filters\n",
      "INFO  Updating cached version on disk ...\n"
     ]
    },
    {
     "data": {
      "application/vnd.jupyter.widget-view+json": {
       "model_id": "e4e43b5c5c9840db95a787ace53e9c71",
       "version_major": 2,
       "version_minor": 0
      },
      "text/plain": [
       "Retrieving datastream_liquidity data:   0%|          | 0/1 [00:00<?, ?it/s]"
      ]
     },
     "metadata": {},
     "output_type": "display_data"
    },
    {
     "name": "stdout",
     "output_type": "stream",
     "text": [
      "INFO  Updating cached version on disk done (0.604 s)\n",
      "INFO    --> Cache data for 'get_liquidity_data' from 'no_cache' cache (size=nan, time=0.74 s, tag=None, loc=no_cache)\n"
     ]
    },
    {
     "name": "stderr",
     "output_type": "stream",
     "text": [
      "/venv/lib/python3.8/site-packages/pandas/io/sql.py:761: UserWarning: pandas only support SQLAlchemy connectable(engine/connection) ordatabase string URI or sqlite3 DBAPI2 connectionother DBAPI2 objects are not tested, please consider using SQLAlchemy\n",
      "  warnings.warn(\n"
     ]
    },
    {
     "name": "stdout",
     "output_type": "stream",
     "text": [
      "INFO  Number remaining=3973 after applying filters\n",
      "INFO  Number remaining=1684 after applying filters\n",
      "INFO  Updating cached version on disk ...\n"
     ]
    },
    {
     "data": {
      "application/vnd.jupyter.widget-view+json": {
       "model_id": "191ef3a25977493fb5469d81c85e1098",
       "version_major": 2,
       "version_minor": 0
      },
      "text/plain": [
       "Retrieving datastream_liquidity data:   0%|          | 0/1 [00:00<?, ?it/s]"
      ]
     },
     "metadata": {},
     "output_type": "display_data"
    },
    {
     "name": "stdout",
     "output_type": "stream",
     "text": [
      "INFO  Updating cached version on disk done (0.669 s)\n",
      "INFO    --> Cache data for 'get_liquidity_data' from 'no_cache' cache (size=nan, time=0.80 s, tag=None, loc=no_cache)\n"
     ]
    },
    {
     "name": "stderr",
     "output_type": "stream",
     "text": [
      "/venv/lib/python3.8/site-packages/pandas/io/sql.py:761: UserWarning: pandas only support SQLAlchemy connectable(engine/connection) ordatabase string URI or sqlite3 DBAPI2 connectionother DBAPI2 objects are not tested, please consider using SQLAlchemy\n",
      "  warnings.warn(\n"
     ]
    },
    {
     "name": "stdout",
     "output_type": "stream",
     "text": [
      "INFO  Number remaining=3985 after applying filters\n",
      "INFO  Number remaining=1664 after applying filters\n",
      "INFO  Updating cached version on disk ...\n"
     ]
    },
    {
     "data": {
      "application/vnd.jupyter.widget-view+json": {
       "model_id": "58fcd1081d034f68896d7ed3fa806c53",
       "version_major": 2,
       "version_minor": 0
      },
      "text/plain": [
       "Retrieving datastream_liquidity data:   0%|          | 0/1 [00:00<?, ?it/s]"
      ]
     },
     "metadata": {},
     "output_type": "display_data"
    },
    {
     "name": "stdout",
     "output_type": "stream",
     "text": [
      "INFO  Updating cached version on disk done (0.586 s)\n",
      "INFO    --> Cache data for 'get_liquidity_data' from 'no_cache' cache (size=nan, time=0.72 s, tag=None, loc=no_cache)\n"
     ]
    },
    {
     "name": "stderr",
     "output_type": "stream",
     "text": [
      "/venv/lib/python3.8/site-packages/pandas/io/sql.py:761: UserWarning: pandas only support SQLAlchemy connectable(engine/connection) ordatabase string URI or sqlite3 DBAPI2 connectionother DBAPI2 objects are not tested, please consider using SQLAlchemy\n",
      "  warnings.warn(\n"
     ]
    },
    {
     "name": "stdout",
     "output_type": "stream",
     "text": [
      "INFO  Number remaining=4001 after applying filters\n",
      "INFO  Number remaining=1680 after applying filters\n",
      "INFO  Updating cached version on disk ...\n"
     ]
    },
    {
     "data": {
      "application/vnd.jupyter.widget-view+json": {
       "model_id": "5ad3b8cd947349a1ac342d41bf4d846d",
       "version_major": 2,
       "version_minor": 0
      },
      "text/plain": [
       "Retrieving datastream_liquidity data:   0%|          | 0/1 [00:00<?, ?it/s]"
      ]
     },
     "metadata": {},
     "output_type": "display_data"
    },
    {
     "name": "stdout",
     "output_type": "stream",
     "text": [
      "INFO  Updating cached version on disk done (0.758 s)\n",
      "INFO    --> Cache data for 'get_liquidity_data' from 'no_cache' cache (size=nan, time=0.89 s, tag=None, loc=no_cache)\n"
     ]
    },
    {
     "name": "stderr",
     "output_type": "stream",
     "text": [
      "/venv/lib/python3.8/site-packages/pandas/io/sql.py:761: UserWarning: pandas only support SQLAlchemy connectable(engine/connection) ordatabase string URI or sqlite3 DBAPI2 connectionother DBAPI2 objects are not tested, please consider using SQLAlchemy\n",
      "  warnings.warn(\n"
     ]
    },
    {
     "name": "stdout",
     "output_type": "stream",
     "text": [
      "INFO  Number remaining=4001 after applying filters\n",
      "INFO  Number remaining=1675 after applying filters\n",
      "INFO  Updating cached version on disk ...\n"
     ]
    },
    {
     "data": {
      "application/vnd.jupyter.widget-view+json": {
       "model_id": "350df67ef18b4b86a60f6c9de1df0100",
       "version_major": 2,
       "version_minor": 0
      },
      "text/plain": [
       "Retrieving datastream_liquidity data:   0%|          | 0/1 [00:00<?, ?it/s]"
      ]
     },
     "metadata": {},
     "output_type": "display_data"
    },
    {
     "name": "stdout",
     "output_type": "stream",
     "text": [
      "INFO  Updating cached version on disk done (0.602 s)\n",
      "INFO    --> Cache data for 'get_liquidity_data' from 'no_cache' cache (size=nan, time=0.73 s, tag=None, loc=no_cache)\n",
      "WARNING Unable to generate universe on date=2019-09-02 00:00:00\n",
      "INFO  Updating cached version on disk ...\n"
     ]
    },
    {
     "data": {
      "application/vnd.jupyter.widget-view+json": {
       "model_id": "a1f9c8e0db41496f9dba030da02467d6",
       "version_major": 2,
       "version_minor": 0
      },
      "text/plain": [
       "Retrieving datastream_liquidity data:   0%|          | 0/1 [00:00<?, ?it/s]"
      ]
     },
     "metadata": {},
     "output_type": "display_data"
    },
    {
     "name": "stdout",
     "output_type": "stream",
     "text": [
      "INFO  Updating cached version on disk done (0.680 s)\n",
      "INFO    --> Cache data for 'get_liquidity_data' from 'no_cache' cache (size=nan, time=0.81 s, tag=None, loc=no_cache)\n"
     ]
    },
    {
     "name": "stderr",
     "output_type": "stream",
     "text": [
      "/venv/lib/python3.8/site-packages/pandas/io/sql.py:761: UserWarning: pandas only support SQLAlchemy connectable(engine/connection) ordatabase string URI or sqlite3 DBAPI2 connectionother DBAPI2 objects are not tested, please consider using SQLAlchemy\n",
      "  warnings.warn(\n"
     ]
    },
    {
     "name": "stdout",
     "output_type": "stream",
     "text": [
      "INFO  Number remaining=4003 after applying filters\n",
      "INFO  Number remaining=1666 after applying filters\n",
      "INFO  Updating cached version on disk ...\n"
     ]
    },
    {
     "data": {
      "application/vnd.jupyter.widget-view+json": {
       "model_id": "2967bc7db5264a21a85c70bdc36f3182",
       "version_major": 2,
       "version_minor": 0
      },
      "text/plain": [
       "Retrieving datastream_liquidity data:   0%|          | 0/1 [00:00<?, ?it/s]"
      ]
     },
     "metadata": {},
     "output_type": "display_data"
    },
    {
     "name": "stdout",
     "output_type": "stream",
     "text": [
      "INFO  Updating cached version on disk done (0.528 s)\n",
      "INFO    --> Cache data for 'get_liquidity_data' from 'no_cache' cache (size=nan, time=0.66 s, tag=None, loc=no_cache)\n"
     ]
    },
    {
     "name": "stderr",
     "output_type": "stream",
     "text": [
      "/venv/lib/python3.8/site-packages/pandas/io/sql.py:761: UserWarning: pandas only support SQLAlchemy connectable(engine/connection) ordatabase string URI or sqlite3 DBAPI2 connectionother DBAPI2 objects are not tested, please consider using SQLAlchemy\n",
      "  warnings.warn(\n"
     ]
    },
    {
     "name": "stdout",
     "output_type": "stream",
     "text": [
      "INFO  Number remaining=3996 after applying filters\n",
      "INFO  Number remaining=1649 after applying filters\n",
      "INFO  Updating cached version on disk ...\n"
     ]
    },
    {
     "data": {
      "application/vnd.jupyter.widget-view+json": {
       "model_id": "23f597423f4a4cf395566e4d8af8314c",
       "version_major": 2,
       "version_minor": 0
      },
      "text/plain": [
       "Retrieving datastream_liquidity data:   0%|          | 0/1 [00:00<?, ?it/s]"
      ]
     },
     "metadata": {},
     "output_type": "display_data"
    },
    {
     "name": "stdout",
     "output_type": "stream",
     "text": [
      "INFO  Updating cached version on disk done (0.729 s)\n",
      "INFO    --> Cache data for 'get_liquidity_data' from 'no_cache' cache (size=nan, time=0.86 s, tag=None, loc=no_cache)\n"
     ]
    },
    {
     "name": "stderr",
     "output_type": "stream",
     "text": [
      "/venv/lib/python3.8/site-packages/pandas/io/sql.py:761: UserWarning: pandas only support SQLAlchemy connectable(engine/connection) ordatabase string URI or sqlite3 DBAPI2 connectionother DBAPI2 objects are not tested, please consider using SQLAlchemy\n",
      "  warnings.warn(\n"
     ]
    },
    {
     "name": "stdout",
     "output_type": "stream",
     "text": [
      "INFO  Number remaining=3997 after applying filters\n",
      "INFO  Number remaining=1656 after applying filters\n",
      "INFO  Updating cached version on disk ...\n"
     ]
    },
    {
     "data": {
      "application/vnd.jupyter.widget-view+json": {
       "model_id": "58da3009023240e08e4b6aa970e5bb92",
       "version_major": 2,
       "version_minor": 0
      },
      "text/plain": [
       "Retrieving datastream_liquidity data:   0%|          | 0/1 [00:00<?, ?it/s]"
      ]
     },
     "metadata": {},
     "output_type": "display_data"
    },
    {
     "name": "stdout",
     "output_type": "stream",
     "text": [
      "INFO  Updating cached version on disk done (0.666 s)\n",
      "INFO    --> Cache data for 'get_liquidity_data' from 'no_cache' cache (size=nan, time=0.80 s, tag=None, loc=no_cache)\n",
      "WARNING Unable to generate universe on date=2020-01-01 00:00:00\n",
      "INFO  Updating cached version on disk ...\n"
     ]
    },
    {
     "data": {
      "application/vnd.jupyter.widget-view+json": {
       "model_id": "8c26531050a74a719e5a4f53fd3b5ec0",
       "version_major": 2,
       "version_minor": 0
      },
      "text/plain": [
       "Retrieving datastream_liquidity data:   0%|          | 0/1 [00:00<?, ?it/s]"
      ]
     },
     "metadata": {},
     "output_type": "display_data"
    },
    {
     "name": "stdout",
     "output_type": "stream",
     "text": [
      "INFO  Updating cached version on disk done (0.914 s)\n",
      "INFO    --> Cache data for 'get_liquidity_data' from 'no_cache' cache (size=nan, time=1.05 s, tag=None, loc=no_cache)\n"
     ]
    },
    {
     "name": "stderr",
     "output_type": "stream",
     "text": [
      "/venv/lib/python3.8/site-packages/pandas/io/sql.py:761: UserWarning: pandas only support SQLAlchemy connectable(engine/connection) ordatabase string URI or sqlite3 DBAPI2 connectionother DBAPI2 objects are not tested, please consider using SQLAlchemy\n",
      "  warnings.warn(\n"
     ]
    },
    {
     "name": "stdout",
     "output_type": "stream",
     "text": [
      "INFO  Number remaining=3974 after applying filters\n",
      "INFO  Number remaining=1653 after applying filters\n",
      "INFO  Updating cached version on disk ...\n"
     ]
    },
    {
     "data": {
      "application/vnd.jupyter.widget-view+json": {
       "model_id": "c1e31d4288b64ad1918036361f20b31a",
       "version_major": 2,
       "version_minor": 0
      },
      "text/plain": [
       "Retrieving datastream_liquidity data:   0%|          | 0/1 [00:00<?, ?it/s]"
      ]
     },
     "metadata": {},
     "output_type": "display_data"
    },
    {
     "name": "stdout",
     "output_type": "stream",
     "text": [
      "INFO  Updating cached version on disk done (0.737 s)\n",
      "INFO    --> Cache data for 'get_liquidity_data' from 'no_cache' cache (size=nan, time=0.87 s, tag=None, loc=no_cache)\n"
     ]
    },
    {
     "name": "stderr",
     "output_type": "stream",
     "text": [
      "/venv/lib/python3.8/site-packages/pandas/io/sql.py:761: UserWarning: pandas only support SQLAlchemy connectable(engine/connection) ordatabase string URI or sqlite3 DBAPI2 connectionother DBAPI2 objects are not tested, please consider using SQLAlchemy\n",
      "  warnings.warn(\n"
     ]
    },
    {
     "name": "stdout",
     "output_type": "stream",
     "text": [
      "INFO  Number remaining=3979 after applying filters\n",
      "INFO  Number remaining=1616 after applying filters\n",
      "INFO  Updating cached version on disk ...\n"
     ]
    },
    {
     "data": {
      "application/vnd.jupyter.widget-view+json": {
       "model_id": "70fe97292c3741d7abd707f4a2c4d841",
       "version_major": 2,
       "version_minor": 0
      },
      "text/plain": [
       "Retrieving datastream_liquidity data:   0%|          | 0/1 [00:00<?, ?it/s]"
      ]
     },
     "metadata": {},
     "output_type": "display_data"
    },
    {
     "name": "stdout",
     "output_type": "stream",
     "text": [
      "INFO  Updating cached version on disk done (0.929 s)\n",
      "INFO    --> Cache data for 'get_liquidity_data' from 'no_cache' cache (size=nan, time=1.07 s, tag=None, loc=no_cache)\n"
     ]
    },
    {
     "name": "stderr",
     "output_type": "stream",
     "text": [
      "/venv/lib/python3.8/site-packages/pandas/io/sql.py:761: UserWarning: pandas only support SQLAlchemy connectable(engine/connection) ordatabase string URI or sqlite3 DBAPI2 connectionother DBAPI2 objects are not tested, please consider using SQLAlchemy\n",
      "  warnings.warn(\n"
     ]
    },
    {
     "name": "stdout",
     "output_type": "stream",
     "text": [
      "INFO  Number remaining=3966 after applying filters\n",
      "INFO  Number remaining=1479 after applying filters\n",
      "INFO  Updating cached version on disk ...\n"
     ]
    },
    {
     "data": {
      "application/vnd.jupyter.widget-view+json": {
       "model_id": "ca525a9d75724f51bf7fe858d472cb62",
       "version_major": 2,
       "version_minor": 0
      },
      "text/plain": [
       "Retrieving datastream_liquidity data:   0%|          | 0/1 [00:00<?, ?it/s]"
      ]
     },
     "metadata": {},
     "output_type": "display_data"
    },
    {
     "name": "stdout",
     "output_type": "stream",
     "text": [
      "INFO  Updating cached version on disk done (0.773 s)\n",
      "INFO    --> Cache data for 'get_liquidity_data' from 'no_cache' cache (size=nan, time=0.91 s, tag=None, loc=no_cache)\n"
     ]
    },
    {
     "name": "stderr",
     "output_type": "stream",
     "text": [
      "/venv/lib/python3.8/site-packages/pandas/io/sql.py:761: UserWarning: pandas only support SQLAlchemy connectable(engine/connection) ordatabase string URI or sqlite3 DBAPI2 connectionother DBAPI2 objects are not tested, please consider using SQLAlchemy\n",
      "  warnings.warn(\n"
     ]
    },
    {
     "name": "stdout",
     "output_type": "stream",
     "text": [
      "INFO  Number remaining=3959 after applying filters\n",
      "INFO  Number remaining=1508 after applying filters\n",
      "INFO  Updating cached version on disk ...\n"
     ]
    },
    {
     "data": {
      "application/vnd.jupyter.widget-view+json": {
       "model_id": "c823e82c1f1b4194b21b2796e3ecdea9",
       "version_major": 2,
       "version_minor": 0
      },
      "text/plain": [
       "Retrieving datastream_liquidity data:   0%|          | 0/1 [00:00<?, ?it/s]"
      ]
     },
     "metadata": {},
     "output_type": "display_data"
    },
    {
     "name": "stdout",
     "output_type": "stream",
     "text": [
      "INFO  Updating cached version on disk done (0.827 s)\n",
      "INFO    --> Cache data for 'get_liquidity_data' from 'no_cache' cache (size=nan, time=0.97 s, tag=None, loc=no_cache)\n"
     ]
    },
    {
     "name": "stderr",
     "output_type": "stream",
     "text": [
      "/venv/lib/python3.8/site-packages/pandas/io/sql.py:761: UserWarning: pandas only support SQLAlchemy connectable(engine/connection) ordatabase string URI or sqlite3 DBAPI2 connectionother DBAPI2 objects are not tested, please consider using SQLAlchemy\n",
      "  warnings.warn(\n"
     ]
    },
    {
     "name": "stdout",
     "output_type": "stream",
     "text": [
      "INFO  Number remaining=3958 after applying filters\n",
      "INFO  Number remaining=1518 after applying filters\n",
      "INFO  Updating cached version on disk ...\n"
     ]
    },
    {
     "data": {
      "application/vnd.jupyter.widget-view+json": {
       "model_id": "7fa0a94487044da4a0340f996c532d7e",
       "version_major": 2,
       "version_minor": 0
      },
      "text/plain": [
       "Retrieving datastream_liquidity data:   0%|          | 0/1 [00:00<?, ?it/s]"
      ]
     },
     "metadata": {},
     "output_type": "display_data"
    },
    {
     "name": "stdout",
     "output_type": "stream",
     "text": [
      "INFO  Updating cached version on disk done (0.839 s)\n",
      "INFO    --> Cache data for 'get_liquidity_data' from 'no_cache' cache (size=nan, time=1.05 s, tag=None, loc=no_cache)\n"
     ]
    },
    {
     "name": "stderr",
     "output_type": "stream",
     "text": [
      "/venv/lib/python3.8/site-packages/pandas/io/sql.py:761: UserWarning: pandas only support SQLAlchemy connectable(engine/connection) ordatabase string URI or sqlite3 DBAPI2 connectionother DBAPI2 objects are not tested, please consider using SQLAlchemy\n",
      "  warnings.warn(\n"
     ]
    },
    {
     "name": "stdout",
     "output_type": "stream",
     "text": [
      "INFO  Number remaining=3965 after applying filters\n",
      "INFO  Number remaining=1546 after applying filters\n",
      "INFO  Updating cached version on disk ...\n"
     ]
    },
    {
     "data": {
      "application/vnd.jupyter.widget-view+json": {
       "model_id": "d473102efbb341b6a5fc3a604dee049a",
       "version_major": 2,
       "version_minor": 0
      },
      "text/plain": [
       "Retrieving datastream_liquidity data:   0%|          | 0/1 [00:00<?, ?it/s]"
      ]
     },
     "metadata": {},
     "output_type": "display_data"
    },
    {
     "name": "stdout",
     "output_type": "stream",
     "text": [
      "INFO  Updating cached version on disk done (0.804 s)\n",
      "INFO    --> Cache data for 'get_liquidity_data' from 'no_cache' cache (size=nan, time=0.95 s, tag=None, loc=no_cache)\n"
     ]
    },
    {
     "name": "stderr",
     "output_type": "stream",
     "text": [
      "/venv/lib/python3.8/site-packages/pandas/io/sql.py:761: UserWarning: pandas only support SQLAlchemy connectable(engine/connection) ordatabase string URI or sqlite3 DBAPI2 connectionother DBAPI2 objects are not tested, please consider using SQLAlchemy\n",
      "  warnings.warn(\n"
     ]
    },
    {
     "name": "stdout",
     "output_type": "stream",
     "text": [
      "INFO  Number remaining=3974 after applying filters\n",
      "INFO  Number remaining=1556 after applying filters\n",
      "INFO  Updating cached version on disk ...\n"
     ]
    },
    {
     "data": {
      "application/vnd.jupyter.widget-view+json": {
       "model_id": "1f38be20c2c743b1b2fe7f8d6e21fc13",
       "version_major": 2,
       "version_minor": 0
      },
      "text/plain": [
       "Retrieving datastream_liquidity data:   0%|          | 0/1 [00:00<?, ?it/s]"
      ]
     },
     "metadata": {},
     "output_type": "display_data"
    },
    {
     "name": "stdout",
     "output_type": "stream",
     "text": [
      "INFO  Updating cached version on disk done (0.739 s)\n",
      "INFO    --> Cache data for 'get_liquidity_data' from 'no_cache' cache (size=nan, time=0.88 s, tag=None, loc=no_cache)\n"
     ]
    },
    {
     "name": "stderr",
     "output_type": "stream",
     "text": [
      "/venv/lib/python3.8/site-packages/pandas/io/sql.py:761: UserWarning: pandas only support SQLAlchemy connectable(engine/connection) ordatabase string URI or sqlite3 DBAPI2 connectionother DBAPI2 objects are not tested, please consider using SQLAlchemy\n",
      "  warnings.warn(\n"
     ]
    },
    {
     "name": "stdout",
     "output_type": "stream",
     "text": [
      "INFO  Number remaining=3991 after applying filters\n",
      "INFO  Number remaining=1587 after applying filters\n",
      "INFO  Updating cached version on disk ...\n"
     ]
    },
    {
     "data": {
      "application/vnd.jupyter.widget-view+json": {
       "model_id": "3c1343d6f7df49aa96075d3c7957cf6b",
       "version_major": 2,
       "version_minor": 0
      },
      "text/plain": [
       "Retrieving datastream_liquidity data:   0%|          | 0/1 [00:00<?, ?it/s]"
      ]
     },
     "metadata": {},
     "output_type": "display_data"
    },
    {
     "name": "stdout",
     "output_type": "stream",
     "text": [
      "INFO  Updating cached version on disk done (0.782 s)\n",
      "INFO    --> Cache data for 'get_liquidity_data' from 'no_cache' cache (size=nan, time=0.93 s, tag=None, loc=no_cache)\n"
     ]
    },
    {
     "name": "stderr",
     "output_type": "stream",
     "text": [
      "/venv/lib/python3.8/site-packages/pandas/io/sql.py:761: UserWarning: pandas only support SQLAlchemy connectable(engine/connection) ordatabase string URI or sqlite3 DBAPI2 connectionother DBAPI2 objects are not tested, please consider using SQLAlchemy\n",
      "  warnings.warn(\n"
     ]
    },
    {
     "name": "stdout",
     "output_type": "stream",
     "text": [
      "INFO  Number remaining=4007 after applying filters\n",
      "INFO  Number remaining=1570 after applying filters\n",
      "INFO  Updating cached version on disk ...\n"
     ]
    },
    {
     "data": {
      "application/vnd.jupyter.widget-view+json": {
       "model_id": "2a5829d88dd7478eb1398497d3300e65",
       "version_major": 2,
       "version_minor": 0
      },
      "text/plain": [
       "Retrieving datastream_liquidity data:   0%|          | 0/1 [00:00<?, ?it/s]"
      ]
     },
     "metadata": {},
     "output_type": "display_data"
    },
    {
     "name": "stdout",
     "output_type": "stream",
     "text": [
      "INFO  Updating cached version on disk done (0.815 s)\n",
      "INFO    --> Cache data for 'get_liquidity_data' from 'no_cache' cache (size=nan, time=0.96 s, tag=None, loc=no_cache)\n"
     ]
    },
    {
     "name": "stderr",
     "output_type": "stream",
     "text": [
      "/venv/lib/python3.8/site-packages/pandas/io/sql.py:761: UserWarning: pandas only support SQLAlchemy connectable(engine/connection) ordatabase string URI or sqlite3 DBAPI2 connectionother DBAPI2 objects are not tested, please consider using SQLAlchemy\n",
      "  warnings.warn(\n"
     ]
    },
    {
     "name": "stdout",
     "output_type": "stream",
     "text": [
      "INFO  Number remaining=4035 after applying filters\n",
      "INFO  Number remaining=1585 after applying filters\n",
      "INFO  Updating cached version on disk ...\n"
     ]
    },
    {
     "data": {
      "application/vnd.jupyter.widget-view+json": {
       "model_id": "ecc474d18a5d4697a35c1b5043f11514",
       "version_major": 2,
       "version_minor": 0
      },
      "text/plain": [
       "Retrieving datastream_liquidity data:   0%|          | 0/1 [00:00<?, ?it/s]"
      ]
     },
     "metadata": {},
     "output_type": "display_data"
    },
    {
     "name": "stdout",
     "output_type": "stream",
     "text": [
      "INFO  Updating cached version on disk done (0.979 s)\n",
      "INFO    --> Cache data for 'get_liquidity_data' from 'no_cache' cache (size=nan, time=1.13 s, tag=None, loc=no_cache)\n"
     ]
    },
    {
     "name": "stderr",
     "output_type": "stream",
     "text": [
      "/venv/lib/python3.8/site-packages/pandas/io/sql.py:761: UserWarning: pandas only support SQLAlchemy connectable(engine/connection) ordatabase string URI or sqlite3 DBAPI2 connectionother DBAPI2 objects are not tested, please consider using SQLAlchemy\n",
      "  warnings.warn(\n"
     ]
    },
    {
     "name": "stdout",
     "output_type": "stream",
     "text": [
      "INFO  Number remaining=4047 after applying filters\n",
      "INFO  Number remaining=1620 after applying filters\n",
      "INFO  Updating cached version on disk ...\n"
     ]
    },
    {
     "data": {
      "application/vnd.jupyter.widget-view+json": {
       "model_id": "81dc06f258574696a777eb6c6094dc7e",
       "version_major": 2,
       "version_minor": 0
      },
      "text/plain": [
       "Retrieving datastream_liquidity data:   0%|          | 0/1 [00:00<?, ?it/s]"
      ]
     },
     "metadata": {},
     "output_type": "display_data"
    },
    {
     "name": "stdout",
     "output_type": "stream",
     "text": [
      "INFO  Updating cached version on disk done (0.714 s)\n",
      "INFO    --> Cache data for 'get_liquidity_data' from 'no_cache' cache (size=nan, time=0.86 s, tag=None, loc=no_cache)\n",
      "WARNING Unable to generate universe on date=2021-01-01 00:00:00\n",
      "INFO  Updating cached version on disk ...\n"
     ]
    },
    {
     "data": {
      "application/vnd.jupyter.widget-view+json": {
       "model_id": "34665595622848279605aa2068623211",
       "version_major": 2,
       "version_minor": 0
      },
      "text/plain": [
       "Retrieving datastream_liquidity data:   0%|          | 0/1 [00:00<?, ?it/s]"
      ]
     },
     "metadata": {},
     "output_type": "display_data"
    },
    {
     "name": "stdout",
     "output_type": "stream",
     "text": [
      "INFO  Updating cached version on disk done (0.739 s)\n",
      "INFO    --> Cache data for 'get_liquidity_data' from 'no_cache' cache (size=nan, time=0.89 s, tag=None, loc=no_cache)\n"
     ]
    },
    {
     "name": "stderr",
     "output_type": "stream",
     "text": [
      "/venv/lib/python3.8/site-packages/pandas/io/sql.py:761: UserWarning: pandas only support SQLAlchemy connectable(engine/connection) ordatabase string URI or sqlite3 DBAPI2 connectionother DBAPI2 objects are not tested, please consider using SQLAlchemy\n",
      "  warnings.warn(\n"
     ]
    },
    {
     "name": "stdout",
     "output_type": "stream",
     "text": [
      "INFO  Number remaining=4096 after applying filters\n",
      "INFO  Number remaining=1615 after applying filters\n",
      "INFO  Updating cached version on disk ...\n"
     ]
    },
    {
     "data": {
      "application/vnd.jupyter.widget-view+json": {
       "model_id": "fca9a4bc83c042b48a44cae58f4ddbba",
       "version_major": 2,
       "version_minor": 0
      },
      "text/plain": [
       "Retrieving datastream_liquidity data:   0%|          | 0/1 [00:00<?, ?it/s]"
      ]
     },
     "metadata": {},
     "output_type": "display_data"
    },
    {
     "name": "stdout",
     "output_type": "stream",
     "text": [
      "INFO  Updating cached version on disk done (0.976 s)\n",
      "INFO    --> Cache data for 'get_liquidity_data' from 'no_cache' cache (size=nan, time=1.13 s, tag=None, loc=no_cache)\n"
     ]
    },
    {
     "name": "stderr",
     "output_type": "stream",
     "text": [
      "/venv/lib/python3.8/site-packages/pandas/io/sql.py:761: UserWarning: pandas only support SQLAlchemy connectable(engine/connection) ordatabase string URI or sqlite3 DBAPI2 connectionother DBAPI2 objects are not tested, please consider using SQLAlchemy\n",
      "  warnings.warn(\n"
     ]
    },
    {
     "name": "stdout",
     "output_type": "stream",
     "text": [
      "INFO  Number remaining=4132 after applying filters\n",
      "INFO  Number remaining=1611 after applying filters\n",
      "INFO  Updating cached version on disk ...\n"
     ]
    },
    {
     "data": {
      "application/vnd.jupyter.widget-view+json": {
       "model_id": "9ef44469a46f41b789415fe512085e94",
       "version_major": 2,
       "version_minor": 0
      },
      "text/plain": [
       "Retrieving datastream_liquidity data:   0%|          | 0/1 [00:00<?, ?it/s]"
      ]
     },
     "metadata": {},
     "output_type": "display_data"
    },
    {
     "name": "stdout",
     "output_type": "stream",
     "text": [
      "INFO  Updating cached version on disk done (0.864 s)\n",
      "INFO    --> Cache data for 'get_liquidity_data' from 'no_cache' cache (size=nan, time=1.02 s, tag=None, loc=no_cache)\n"
     ]
    },
    {
     "name": "stderr",
     "output_type": "stream",
     "text": [
      "/venv/lib/python3.8/site-packages/pandas/io/sql.py:761: UserWarning: pandas only support SQLAlchemy connectable(engine/connection) ordatabase string URI or sqlite3 DBAPI2 connectionother DBAPI2 objects are not tested, please consider using SQLAlchemy\n",
      "  warnings.warn(\n"
     ]
    },
    {
     "name": "stdout",
     "output_type": "stream",
     "text": [
      "INFO  Number remaining=4175 after applying filters\n",
      "INFO  Number remaining=1637 after applying filters\n",
      "INFO  Updating cached version on disk ...\n"
     ]
    },
    {
     "data": {
      "application/vnd.jupyter.widget-view+json": {
       "model_id": "e4e24ef0b3de461abb01ca6203c6c24f",
       "version_major": 2,
       "version_minor": 0
      },
      "text/plain": [
       "Retrieving datastream_liquidity data:   0%|          | 0/1 [00:00<?, ?it/s]"
      ]
     },
     "metadata": {},
     "output_type": "display_data"
    },
    {
     "name": "stdout",
     "output_type": "stream",
     "text": [
      "INFO  Updating cached version on disk done (1.015 s)\n",
      "INFO    --> Cache data for 'get_liquidity_data' from 'no_cache' cache (size=nan, time=1.17 s, tag=None, loc=no_cache)\n"
     ]
    },
    {
     "name": "stderr",
     "output_type": "stream",
     "text": [
      "/venv/lib/python3.8/site-packages/pandas/io/sql.py:761: UserWarning: pandas only support SQLAlchemy connectable(engine/connection) ordatabase string URI or sqlite3 DBAPI2 connectionother DBAPI2 objects are not tested, please consider using SQLAlchemy\n",
      "  warnings.warn(\n"
     ]
    },
    {
     "name": "stdout",
     "output_type": "stream",
     "text": [
      "INFO  Number remaining=4212 after applying filters\n",
      "INFO  Number remaining=1665 after applying filters\n",
      "INFO  Updating cached version on disk ...\n"
     ]
    },
    {
     "data": {
      "application/vnd.jupyter.widget-view+json": {
       "model_id": "d24470eaabf34fc5a1d4813d0dfe2bee",
       "version_major": 2,
       "version_minor": 0
      },
      "text/plain": [
       "Retrieving datastream_liquidity data:   0%|          | 0/1 [00:00<?, ?it/s]"
      ]
     },
     "metadata": {},
     "output_type": "display_data"
    },
    {
     "name": "stdout",
     "output_type": "stream",
     "text": [
      "INFO  Updating cached version on disk done (0.649 s)\n",
      "INFO    --> Cache data for 'get_liquidity_data' from 'no_cache' cache (size=nan, time=0.81 s, tag=None, loc=no_cache)\n"
     ]
    },
    {
     "name": "stderr",
     "output_type": "stream",
     "text": [
      "/venv/lib/python3.8/site-packages/pandas/io/sql.py:761: UserWarning: pandas only support SQLAlchemy connectable(engine/connection) ordatabase string URI or sqlite3 DBAPI2 connectionother DBAPI2 objects are not tested, please consider using SQLAlchemy\n",
      "  warnings.warn(\n"
     ]
    },
    {
     "name": "stdout",
     "output_type": "stream",
     "text": [
      "INFO  Number remaining=4244 after applying filters\n",
      "INFO  Number remaining=1695 after applying filters\n",
      "INFO  Updating cached version on disk ...\n"
     ]
    },
    {
     "data": {
      "application/vnd.jupyter.widget-view+json": {
       "model_id": "c0293564593a403d89557212e3698f36",
       "version_major": 2,
       "version_minor": 0
      },
      "text/plain": [
       "Retrieving datastream_liquidity data:   0%|          | 0/1 [00:00<?, ?it/s]"
      ]
     },
     "metadata": {},
     "output_type": "display_data"
    },
    {
     "name": "stdout",
     "output_type": "stream",
     "text": [
      "INFO  Updating cached version on disk done (0.700 s)\n",
      "INFO    --> Cache data for 'get_liquidity_data' from 'no_cache' cache (size=nan, time=0.86 s, tag=None, loc=no_cache)\n"
     ]
    },
    {
     "name": "stderr",
     "output_type": "stream",
     "text": [
      "/venv/lib/python3.8/site-packages/pandas/io/sql.py:761: UserWarning: pandas only support SQLAlchemy connectable(engine/connection) ordatabase string URI or sqlite3 DBAPI2 connectionother DBAPI2 objects are not tested, please consider using SQLAlchemy\n",
      "  warnings.warn(\n"
     ]
    },
    {
     "name": "stdout",
     "output_type": "stream",
     "text": [
      "INFO  Number remaining=4297 after applying filters\n",
      "INFO  Number remaining=1713 after applying filters\n",
      "INFO  Updating cached version on disk ...\n"
     ]
    },
    {
     "data": {
      "application/vnd.jupyter.widget-view+json": {
       "model_id": "c0effcb5c1954db5ab8bff177993580c",
       "version_major": 2,
       "version_minor": 0
      },
      "text/plain": [
       "Retrieving datastream_liquidity data:   0%|          | 0/1 [00:00<?, ?it/s]"
      ]
     },
     "metadata": {},
     "output_type": "display_data"
    },
    {
     "name": "stdout",
     "output_type": "stream",
     "text": [
      "INFO  Updating cached version on disk done (0.639 s)\n",
      "INFO    --> Cache data for 'get_liquidity_data' from 'no_cache' cache (size=nan, time=0.80 s, tag=None, loc=no_cache)\n"
     ]
    },
    {
     "name": "stderr",
     "output_type": "stream",
     "text": [
      "/venv/lib/python3.8/site-packages/pandas/io/sql.py:761: UserWarning: pandas only support SQLAlchemy connectable(engine/connection) ordatabase string URI or sqlite3 DBAPI2 connectionother DBAPI2 objects are not tested, please consider using SQLAlchemy\n",
      "  warnings.warn(\n"
     ]
    },
    {
     "name": "stdout",
     "output_type": "stream",
     "text": [
      "INFO  Number remaining=4404 after applying filters\n",
      "INFO  Number remaining=1728 after applying filters\n",
      "INFO  Updating cached version on disk ...\n"
     ]
    },
    {
     "data": {
      "application/vnd.jupyter.widget-view+json": {
       "model_id": "3053ce3023734905bc2286d71b50862a",
       "version_major": 2,
       "version_minor": 0
      },
      "text/plain": [
       "Retrieving datastream_liquidity data:   0%|          | 0/1 [00:00<?, ?it/s]"
      ]
     },
     "metadata": {},
     "output_type": "display_data"
    },
    {
     "name": "stdout",
     "output_type": "stream",
     "text": [
      "INFO  Updating cached version on disk done (0.945 s)\n",
      "INFO    --> Cache data for 'get_liquidity_data' from 'no_cache' cache (size=nan, time=1.11 s, tag=None, loc=no_cache)\n"
     ]
    },
    {
     "name": "stderr",
     "output_type": "stream",
     "text": [
      "/venv/lib/python3.8/site-packages/pandas/io/sql.py:761: UserWarning: pandas only support SQLAlchemy connectable(engine/connection) ordatabase string URI or sqlite3 DBAPI2 connectionother DBAPI2 objects are not tested, please consider using SQLAlchemy\n",
      "  warnings.warn(\n"
     ]
    },
    {
     "name": "stdout",
     "output_type": "stream",
     "text": [
      "INFO  Number remaining=4444 after applying filters\n",
      "INFO  Number remaining=1744 after applying filters\n",
      "INFO  Updating cached version on disk ...\n"
     ]
    },
    {
     "data": {
      "application/vnd.jupyter.widget-view+json": {
       "model_id": "453b3d9c71544094a7b1d8da15e0f856",
       "version_major": 2,
       "version_minor": 0
      },
      "text/plain": [
       "Retrieving datastream_liquidity data:   0%|          | 0/1 [00:00<?, ?it/s]"
      ]
     },
     "metadata": {},
     "output_type": "display_data"
    },
    {
     "name": "stdout",
     "output_type": "stream",
     "text": [
      "INFO  Updating cached version on disk done (0.777 s)\n",
      "INFO    --> Cache data for 'get_liquidity_data' from 'no_cache' cache (size=nan, time=0.94 s, tag=None, loc=no_cache)\n"
     ]
    },
    {
     "name": "stderr",
     "output_type": "stream",
     "text": [
      "/venv/lib/python3.8/site-packages/pandas/io/sql.py:761: UserWarning: pandas only support SQLAlchemy connectable(engine/connection) ordatabase string URI or sqlite3 DBAPI2 connectionother DBAPI2 objects are not tested, please consider using SQLAlchemy\n",
      "  warnings.warn(\n"
     ]
    },
    {
     "name": "stdout",
     "output_type": "stream",
     "text": [
      "INFO  Number remaining=4493 after applying filters\n",
      "INFO  Number remaining=1764 after applying filters\n",
      "INFO  Updating cached version on disk ...\n"
     ]
    },
    {
     "data": {
      "application/vnd.jupyter.widget-view+json": {
       "model_id": "854d5815bf2f4be3b7d7a0781b13fde5",
       "version_major": 2,
       "version_minor": 0
      },
      "text/plain": [
       "Retrieving datastream_liquidity data:   0%|          | 0/1 [00:00<?, ?it/s]"
      ]
     },
     "metadata": {},
     "output_type": "display_data"
    },
    {
     "name": "stdout",
     "output_type": "stream",
     "text": [
      "INFO  Updating cached version on disk done (0.827 s)\n",
      "INFO    --> Cache data for 'get_liquidity_data' from 'no_cache' cache (size=nan, time=1.00 s, tag=None, loc=no_cache)\n"
     ]
    },
    {
     "name": "stderr",
     "output_type": "stream",
     "text": [
      "/venv/lib/python3.8/site-packages/pandas/io/sql.py:761: UserWarning: pandas only support SQLAlchemy connectable(engine/connection) ordatabase string URI or sqlite3 DBAPI2 connectionother DBAPI2 objects are not tested, please consider using SQLAlchemy\n",
      "  warnings.warn(\n"
     ]
    },
    {
     "name": "stdout",
     "output_type": "stream",
     "text": [
      "INFO  Number remaining=4541 after applying filters\n",
      "INFO  Number remaining=1792 after applying filters\n",
      "INFO  Updating cached version on disk ...\n"
     ]
    },
    {
     "data": {
      "application/vnd.jupyter.widget-view+json": {
       "model_id": "4412f96614914eb8ad167f0816a84b66",
       "version_major": 2,
       "version_minor": 0
      },
      "text/plain": [
       "Retrieving datastream_liquidity data:   0%|          | 0/1 [00:00<?, ?it/s]"
      ]
     },
     "metadata": {},
     "output_type": "display_data"
    },
    {
     "name": "stdout",
     "output_type": "stream",
     "text": [
      "INFO  Updating cached version on disk done (0.681 s)\n",
      "INFO    --> Cache data for 'get_liquidity_data' from 'no_cache' cache (size=nan, time=0.85 s, tag=None, loc=no_cache)\n"
     ]
    },
    {
     "name": "stderr",
     "output_type": "stream",
     "text": [
      "/venv/lib/python3.8/site-packages/pandas/io/sql.py:761: UserWarning: pandas only support SQLAlchemy connectable(engine/connection) ordatabase string URI or sqlite3 DBAPI2 connectionother DBAPI2 objects are not tested, please consider using SQLAlchemy\n",
      "  warnings.warn(\n"
     ]
    },
    {
     "name": "stdout",
     "output_type": "stream",
     "text": [
      "INFO  Number remaining=4587 after applying filters\n",
      "INFO  Number remaining=1791 after applying filters\n",
      "INFO  Updating cached version on disk ...\n"
     ]
    },
    {
     "data": {
      "application/vnd.jupyter.widget-view+json": {
       "model_id": "bec9de25edd94836bc707fee0fdf3018",
       "version_major": 2,
       "version_minor": 0
      },
      "text/plain": [
       "Retrieving datastream_liquidity data:   0%|          | 0/1 [00:00<?, ?it/s]"
      ]
     },
     "metadata": {},
     "output_type": "display_data"
    },
    {
     "name": "stdout",
     "output_type": "stream",
     "text": [
      "INFO  Updating cached version on disk done (0.741 s)\n",
      "INFO    --> Cache data for 'get_liquidity_data' from 'no_cache' cache (size=nan, time=0.91 s, tag=None, loc=no_cache)\n"
     ]
    },
    {
     "name": "stderr",
     "output_type": "stream",
     "text": [
      "/venv/lib/python3.8/site-packages/pandas/io/sql.py:761: UserWarning: pandas only support SQLAlchemy connectable(engine/connection) ordatabase string URI or sqlite3 DBAPI2 connectionother DBAPI2 objects are not tested, please consider using SQLAlchemy\n",
      "  warnings.warn(\n"
     ]
    },
    {
     "name": "stdout",
     "output_type": "stream",
     "text": [
      "INFO  Number remaining=4610 after applying filters\n",
      "INFO  Number remaining=1811 after applying filters\n",
      "INFO  Updating cached version on disk ...\n"
     ]
    },
    {
     "data": {
      "application/vnd.jupyter.widget-view+json": {
       "model_id": "adcd4cc7d8644805991d3cca567e77be",
       "version_major": 2,
       "version_minor": 0
      },
      "text/plain": [
       "Retrieving datastream_liquidity data:   0%|          | 0/1 [00:00<?, ?it/s]"
      ]
     },
     "metadata": {},
     "output_type": "display_data"
    },
    {
     "name": "stdout",
     "output_type": "stream",
     "text": [
      "INFO  Updating cached version on disk done (1.065 s)\n",
      "INFO    --> Cache data for 'get_liquidity_data' from 'no_cache' cache (size=nan, time=1.23 s, tag=None, loc=no_cache)\n"
     ]
    },
    {
     "name": "stderr",
     "output_type": "stream",
     "text": [
      "/venv/lib/python3.8/site-packages/pandas/io/sql.py:761: UserWarning: pandas only support SQLAlchemy connectable(engine/connection) ordatabase string URI or sqlite3 DBAPI2 connectionother DBAPI2 objects are not tested, please consider using SQLAlchemy\n",
      "  warnings.warn(\n"
     ]
    },
    {
     "name": "stdout",
     "output_type": "stream",
     "text": [
      "INFO  Number remaining=4620 after applying filters\n",
      "INFO  Number remaining=1811 after applying filters\n",
      "INFO  Loading cached version from memory ...\n",
      "INFO  Loading cached version from memory done (0.031 s)\n",
      "INFO    --> Cache data for 'get_liquidity_data' from 'mem' cache (size=nan, time=0.04 s, tag=None, loc=/mnt/tmpfs/tmp.cache.mem)\n"
     ]
    },
    {
     "name": "stderr",
     "output_type": "stream",
     "text": [
      "/venv/lib/python3.8/site-packages/pandas/io/sql.py:761: UserWarning: pandas only support SQLAlchemy connectable(engine/connection) ordatabase string URI or sqlite3 DBAPI2 connectionother DBAPI2 objects are not tested, please consider using SQLAlchemy\n",
      "  warnings.warn(\n"
     ]
    },
    {
     "name": "stdout",
     "output_type": "stream",
     "text": [
      "INFO  Number remaining=4628 after applying filters\n",
      "INFO  Number remaining=1826 after applying filters\n"
     ]
    }
   ],
   "source": [
    "universe_dfs = vldlunut.get_filtered_universe_dfs(dates, connection)"
   ]
  },
  {
   "cell_type": "code",
   "execution_count": 25,
   "id": "0695c7cb",
   "metadata": {
    "ExecuteTime": {
     "end_time": "2022-05-06T14:40:31.309370Z",
     "start_time": "2022-05-06T14:40:31.287058Z"
    }
   },
   "outputs": [],
   "source": [
    "df = universe_dfs[10]"
   ]
  },
  {
   "cell_type": "code",
   "execution_count": 26,
   "id": "eefb135c",
   "metadata": {
    "ExecuteTime": {
     "end_time": "2022-05-06T14:40:31.334952Z",
     "start_time": "2022-05-06T14:40:31.311115Z"
    }
   },
   "outputs": [
    {
     "data": {
      "text/html": [
       "<div>\n",
       "<style scoped>\n",
       "    .dataframe tbody tr th:only-of-type {\n",
       "        vertical-align: middle;\n",
       "    }\n",
       "\n",
       "    .dataframe tbody tr th {\n",
       "        vertical-align: top;\n",
       "    }\n",
       "\n",
       "    .dataframe thead th {\n",
       "        text-align: right;\n",
       "    }\n",
       "</style>\n",
       "<table border=\"1\" class=\"dataframe\">\n",
       "  <thead>\n",
       "    <tr style=\"text-align: right;\">\n",
       "      <th></th>\n",
       "      <th>trade_date</th>\n",
       "      <th>asset_id</th>\n",
       "      <th>ticker</th>\n",
       "    </tr>\n",
       "  </thead>\n",
       "  <tbody>\n",
       "    <tr>\n",
       "      <th>0</th>\n",
       "      <td>2017-12-01</td>\n",
       "      <td>16572</td>\n",
       "      <td>A</td>\n",
       "    </tr>\n",
       "    <tr>\n",
       "      <th>1</th>\n",
       "      <td>2017-12-01</td>\n",
       "      <td>1218568</td>\n",
       "      <td>AA</td>\n",
       "    </tr>\n",
       "    <tr>\n",
       "      <th>2</th>\n",
       "      <td>2017-12-01</td>\n",
       "      <td>15900</td>\n",
       "      <td>AAL</td>\n",
       "    </tr>\n",
       "    <tr>\n",
       "      <th>3</th>\n",
       "      <td>2017-12-01</td>\n",
       "      <td>12618</td>\n",
       "      <td>AAN</td>\n",
       "    </tr>\n",
       "    <tr>\n",
       "      <th>4</th>\n",
       "      <td>2017-12-01</td>\n",
       "      <td>11666</td>\n",
       "      <td>AAOI</td>\n",
       "    </tr>\n",
       "  </tbody>\n",
       "</table>\n",
       "</div>"
      ],
      "text/plain": [
       "   trade_date     asset_id ticker\n",
       "0  2017-12-01    16572      A\n",
       "1  2017-12-01  1218568     AA\n",
       "2  2017-12-01    15900    AAL\n",
       "3  2017-12-01    12618    AAN\n",
       "4  2017-12-01    11666   AAOI"
      ]
     },
     "execution_count": 26,
     "metadata": {},
     "output_type": "execute_result"
    }
   ],
   "source": [
    "df.head()"
   ]
  },
  {
   "cell_type": "code",
   "execution_count": 27,
   "id": "b73a4768",
   "metadata": {
    "ExecuteTime": {
     "end_time": "2022-05-06T14:40:31.424629Z",
     "start_time": "2022-05-06T14:40:31.338228Z"
    }
   },
   "outputs": [
    {
     "data": {
      "application/vnd.jupyter.widget-view+json": {
       "model_id": "f10dd16e140a4c2a9ff0b380bf46fb8d",
       "version_major": 2,
       "version_minor": 0
      },
      "text/plain": [
       "  0%|          | 0/56 [00:00<?, ?it/s]"
      ]
     },
     "metadata": {},
     "output_type": "display_data"
    }
   ],
   "source": [
    "df = vldlunut.combine_universe_dfs(universe_dfs)"
   ]
  },
  {
   "cell_type": "code",
   "execution_count": 28,
   "id": "101c5fba",
   "metadata": {
    "ExecuteTime": {
     "end_time": "2022-05-06T14:40:31.454897Z",
     "start_time": "2022-05-06T14:40:31.426196Z"
    }
   },
   "outputs": [
    {
     "data": {
      "text/html": [
       "<div>\n",
       "<style scoped>\n",
       "    .dataframe tbody tr th:only-of-type {\n",
       "        vertical-align: middle;\n",
       "    }\n",
       "\n",
       "    .dataframe tbody tr th {\n",
       "        vertical-align: top;\n",
       "    }\n",
       "\n",
       "    .dataframe thead th {\n",
       "        text-align: right;\n",
       "    }\n",
       "</style>\n",
       "<table border=\"1\" class=\"dataframe\">\n",
       "  <thead>\n",
       "    <tr style=\"text-align: right;\">\n",
       "      <th>asset_id</th>\n",
       "      <th>16572</th>\n",
       "      <th>1218568</th>\n",
       "      <th>15900</th>\n",
       "      <th>12618</th>\n",
       "      <th>11233</th>\n",
       "      <th>17085</th>\n",
       "      <th>12624</th>\n",
       "      <th>17511</th>\n",
       "      <th>13323</th>\n",
       "      <th>16793</th>\n",
       "    </tr>\n",
       "  </thead>\n",
       "  <tbody>\n",
       "    <tr>\n",
       "      <th>2017-02-01</th>\n",
       "      <td>True</td>\n",
       "      <td>True</td>\n",
       "      <td>True</td>\n",
       "      <td>True</td>\n",
       "      <td>True</td>\n",
       "      <td>True</td>\n",
       "      <td>True</td>\n",
       "      <td>True</td>\n",
       "      <td>True</td>\n",
       "      <td>True</td>\n",
       "    </tr>\n",
       "    <tr>\n",
       "      <th>2017-03-01</th>\n",
       "      <td>True</td>\n",
       "      <td>True</td>\n",
       "      <td>True</td>\n",
       "      <td>True</td>\n",
       "      <td>True</td>\n",
       "      <td>True</td>\n",
       "      <td>True</td>\n",
       "      <td>True</td>\n",
       "      <td>True</td>\n",
       "      <td>True</td>\n",
       "    </tr>\n",
       "    <tr>\n",
       "      <th>2017-04-03</th>\n",
       "      <td>True</td>\n",
       "      <td>True</td>\n",
       "      <td>True</td>\n",
       "      <td>True</td>\n",
       "      <td>True</td>\n",
       "      <td>True</td>\n",
       "      <td>False</td>\n",
       "      <td>True</td>\n",
       "      <td>True</td>\n",
       "      <td>True</td>\n",
       "    </tr>\n",
       "    <tr>\n",
       "      <th>2017-05-01</th>\n",
       "      <td>True</td>\n",
       "      <td>True</td>\n",
       "      <td>True</td>\n",
       "      <td>True</td>\n",
       "      <td>True</td>\n",
       "      <td>True</td>\n",
       "      <td>False</td>\n",
       "      <td>True</td>\n",
       "      <td>True</td>\n",
       "      <td>True</td>\n",
       "    </tr>\n",
       "    <tr>\n",
       "      <th>2017-06-01</th>\n",
       "      <td>True</td>\n",
       "      <td>True</td>\n",
       "      <td>True</td>\n",
       "      <td>True</td>\n",
       "      <td>True</td>\n",
       "      <td>True</td>\n",
       "      <td>False</td>\n",
       "      <td>True</td>\n",
       "      <td>True</td>\n",
       "      <td>True</td>\n",
       "    </tr>\n",
       "    <tr>\n",
       "      <th>2017-07-03</th>\n",
       "      <td>True</td>\n",
       "      <td>True</td>\n",
       "      <td>True</td>\n",
       "      <td>True</td>\n",
       "      <td>True</td>\n",
       "      <td>True</td>\n",
       "      <td>False</td>\n",
       "      <td>True</td>\n",
       "      <td>True</td>\n",
       "      <td>True</td>\n",
       "    </tr>\n",
       "    <tr>\n",
       "      <th>2017-08-01</th>\n",
       "      <td>True</td>\n",
       "      <td>True</td>\n",
       "      <td>True</td>\n",
       "      <td>True</td>\n",
       "      <td>True</td>\n",
       "      <td>True</td>\n",
       "      <td>True</td>\n",
       "      <td>False</td>\n",
       "      <td>True</td>\n",
       "      <td>True</td>\n",
       "    </tr>\n",
       "    <tr>\n",
       "      <th>2017-09-01</th>\n",
       "      <td>True</td>\n",
       "      <td>False</td>\n",
       "      <td>True</td>\n",
       "      <td>True</td>\n",
       "      <td>True</td>\n",
       "      <td>True</td>\n",
       "      <td>True</td>\n",
       "      <td>False</td>\n",
       "      <td>True</td>\n",
       "      <td>True</td>\n",
       "    </tr>\n",
       "    <tr>\n",
       "      <th>2017-10-02</th>\n",
       "      <td>True</td>\n",
       "      <td>False</td>\n",
       "      <td>True</td>\n",
       "      <td>True</td>\n",
       "      <td>True</td>\n",
       "      <td>True</td>\n",
       "      <td>True</td>\n",
       "      <td>False</td>\n",
       "      <td>True</td>\n",
       "      <td>True</td>\n",
       "    </tr>\n",
       "    <tr>\n",
       "      <th>2017-11-01</th>\n",
       "      <td>True</td>\n",
       "      <td>True</td>\n",
       "      <td>True</td>\n",
       "      <td>True</td>\n",
       "      <td>True</td>\n",
       "      <td>True</td>\n",
       "      <td>True</td>\n",
       "      <td>True</td>\n",
       "      <td>True</td>\n",
       "      <td>True</td>\n",
       "    </tr>\n",
       "  </tbody>\n",
       "</table>\n",
       "</div>"
      ],
      "text/plain": [
       "asset_id        16572    1218568  15900    12618    11233    17085    12624    17511    13323    16793  \n",
       "2017-02-01     True     True     True     True     True     True     True     True     True     True\n",
       "2017-03-01     True     True     True     True     True     True     True     True     True     True\n",
       "2017-04-03     True     True     True     True     True     True    False     True     True     True\n",
       "2017-05-01     True     True     True     True     True     True    False     True     True     True\n",
       "2017-06-01     True     True     True     True     True     True    False     True     True     True\n",
       "2017-07-03     True     True     True     True     True     True    False     True     True     True\n",
       "2017-08-01     True     True     True     True     True     True     True    False     True     True\n",
       "2017-09-01     True    False     True     True     True     True     True    False     True     True\n",
       "2017-10-02     True    False     True     True     True     True     True    False     True     True\n",
       "2017-11-01     True     True     True     True     True     True     True     True     True     True"
      ]
     },
     "execution_count": 28,
     "metadata": {},
     "output_type": "execute_result"
    }
   ],
   "source": [
    "df.iloc[0:10, 0:10]"
   ]
  },
  {
   "cell_type": "code",
   "execution_count": 29,
   "id": "f6c3bd36",
   "metadata": {
    "ExecuteTime": {
     "end_time": "2022-05-06T14:40:31.476868Z",
     "start_time": "2022-05-06T14:40:31.456640Z"
    }
   },
   "outputs": [],
   "source": [
    "asset_ids = df.columns.to_list()"
   ]
  },
  {
   "cell_type": "code",
   "execution_count": 30,
   "id": "1f8bc41e",
   "metadata": {
    "ExecuteTime": {
     "end_time": "2022-05-06T14:40:31.500058Z",
     "start_time": "2022-05-06T14:40:31.478484Z"
    }
   },
   "outputs": [
    {
     "data": {
      "text/plain": [
       "1876"
      ]
     },
     "execution_count": 30,
     "metadata": {},
     "output_type": "execute_result"
    }
   ],
   "source": [
    "len(asset_ids)"
   ]
  },
  {
   "cell_type": "code",
   "execution_count": 31,
   "id": "3d9f6d0f",
   "metadata": {
    "ExecuteTime": {
     "end_time": "2022-05-06T14:40:31.686107Z",
     "start_time": "2022-05-06T14:40:31.501600Z"
    }
   },
   "outputs": [
    {
     "data": {
      "text/plain": [
       "<AxesSubplot:>"
      ]
     },
     "execution_count": 31,
     "metadata": {},
     "output_type": "execute_result"
    },
    {
     "data": {
      "image/png": "[encoded data removed]",
      "text/plain": [
       "<Figure size 1440x360 with 1 Axes>"
      ]
     },
     "metadata": {},
     "output_type": "display_data"
    }
   ],
   "source": [
    "(df.sum(axis=0) / df.shape[0]).hist(bins=20)"
   ]
  },
  {
   "cell_type": "code",
   "execution_count": 32,
   "id": "792be043",
   "metadata": {
    "ExecuteTime": {
     "end_time": "2022-05-06T14:40:31.925260Z",
     "start_time": "2022-05-06T14:40:31.687954Z"
    }
   },
   "outputs": [
    {
     "data": {
      "text/plain": [
       "<AxesSubplot:title={'center':'Universe size count'}>"
      ]
     },
     "execution_count": 32,
     "metadata": {},
     "output_type": "execute_result"
    },
    {
     "data": {
      "image/png": "[encoded data removed]",
      "text/plain": [
       "<Figure size 1440x360 with 1 Axes>"
      ]
     },
     "metadata": {},
     "output_type": "display_data"
    }
   ],
   "source": [
    "df.sum(axis=1).plot(ylim=(0, None), title=\"Universe size count\")"
   ]
  },
  {
   "cell_type": "markdown",
   "id": "cd9ac81c",
   "metadata": {},
   "source": [
    "# Save universe"
   ]
  },
  {
   "cell_type": "code",
   "execution_count": 33,
   "id": "4f6b601c",
   "metadata": {
    "ExecuteTime": {
     "end_time": "2022-05-06T14:40:32.319469Z",
     "start_time": "2022-05-06T14:40:31.926802Z"
    }
   },
   "outputs": [
    {
     "ename": "AssertionError",
     "evalue": "",
     "output_type": "error",
     "traceback": [
      "\u001b[0;31m---------------------------------------------------------------------------\u001b[0m",
      "\u001b[0;31mAssertionError\u001b[0m                            Traceback (most recent call last)",
      "Input \u001b[0;32mIn [33]\u001b[0m, in \u001b[0;36m<cell line: 2>\u001b[0;34m()\u001b[0m\n\u001b[1;32m      1\u001b[0m \u001b[38;5;66;03m# Write union of asset_ids to a csv\u001b[39;00m\n\u001b[0;32m----> 2\u001b[0m \u001b[38;5;28;01massert\u001b[39;00m \u001b[38;5;241m0\u001b[39m\n\u001b[1;32m      3\u001b[0m pd\u001b[38;5;241m.\u001b[39mSeries(data\u001b[38;5;241m=\u001b[39mdf\u001b[38;5;241m.\u001b[39mcolumns)\u001b[38;5;241m.\u001b[39mto_csv(\u001b[38;5;124m\"\u001b[39m\u001b[38;5;124muniverse_20210810.csv\u001b[39m\u001b[38;5;124m\"\u001b[39m, index\u001b[38;5;241m=\u001b[39m\u001b[38;5;28;01mFalse\u001b[39;00m)\n",
      "\u001b[0;31mAssertionError\u001b[0m: "
     ]
    }
   ],
   "source": [
    "# Write union of EGIDs to a csv\n",
    "assert 0\n",
    "pd.Series(data=df.columns).to_csv(\"universe_20210810.csv\", index=False)"
   ]
  },
  {
   "cell_type": "markdown",
   "id": "e5effa00",
   "metadata": {},
   "source": [
    "# Read universe"
   ]
  },
  {
   "cell_type": "code",
   "execution_count": null,
   "id": "e97737aa",
   "metadata": {
    "ExecuteTime": {
     "end_time": "2022-05-06T14:40:32.321543Z",
     "start_time": "2022-05-06T14:40:32.321528Z"
    }
   },
   "outputs": [],
   "source": [
    "import pandas as pd"
   ]
  },
  {
   "cell_type": "code",
   "execution_count": null,
   "id": "518ab92d",
   "metadata": {
    "ExecuteTime": {
     "end_time": "2022-05-06T14:40:32.322722Z",
     "start_time": "2022-05-06T14:40:32.322709Z"
    }
   },
   "outputs": [],
   "source": [
    "universe = pd.read_csv(\"s3://eglp-spm-sasm/data/universe_20210810.csv\")"
   ]
  },
  {
   "cell_type": "code",
   "execution_count": null,
   "id": "c8f8e267",
   "metadata": {
    "ExecuteTime": {
     "end_time": "2022-05-06T14:40:32.324104Z",
     "start_time": "2022-05-06T14:40:32.324088Z"
    }
   },
   "outputs": [],
   "source": [
    "universe"
   ]
  },
  {
   "cell_type": "code",
   "execution_count": null,
   "id": "eaec33a1",
   "metadata": {
    "ExecuteTime": {
     "end_time": "2022-05-06T14:40:32.325122Z",
     "start_time": "2022-05-06T14:40:32.325110Z"
    }
   },
   "outputs": [],
   "source": [
    "universe[\"asset_id\"].tolist()"
   ]
  }
 ],
 "metadata": {
  "kernelspec": {
   "display_name": "Python 3 (ipykernel)",
   "language": "python",
   "name": "python3"
  },
  "language_info": {
   "codemirror_mode": {
    "name": "ipython",
    "version": 3
   },
   "file_extension": ".py",
   "mimetype": "text/x-python",
   "name": "python",
   "nbconvert_exporter": "python",
   "pygments_lexer": "ipython3",
   "version": "3.8.10"
  },
  "toc": {
   "base_numbering": 1,
   "nav_menu": {},
   "number_sections": true,
   "sideBar": true,
   "skip_h1_title": false,
   "title_cell": "Table of Contents",
   "title_sidebar": "Contents",
   "toc_cell": false,
   "toc_position": {
    "height": "calc(100% - 180px)",
    "left": "10px",
    "top": "150px",
    "width": "165px"
   },
   "toc_section_display": true,
   "toc_window_display": true
  }
 },
 "nbformat": 4,
 "nbformat_minor": 5
}
