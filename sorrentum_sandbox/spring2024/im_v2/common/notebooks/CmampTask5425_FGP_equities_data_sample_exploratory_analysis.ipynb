{
 "cells": [
  {
   "cell_type": "markdown",
   "id": "08f3884d",
   "metadata": {},
   "source": [
    "## Process input file"
   ]
  },
  {
   "cell_type": "markdown",
   "id": "df37660e",
   "metadata": {},
   "source": [
    "In this notebook we will load sample trades data (https://drive.google.com/file/d/1up5otVlfw-RX1S6K8o4d2nNRPP-lKran/view), resample them and store on S3 in a parquet tiled format"
   ]
  },
  {
   "cell_type": "markdown",
   "id": "3b8ccd4d",
   "metadata": {},
   "source": [
    "Assuming the tar archive is in the root of the repository"
   ]
  },
  {
   "cell_type": "code",
   "execution_count": 1,
   "id": "3b8e7d26",
   "metadata": {
    "ExecuteTime": {
     "end_time": "2023-09-26T16:14:56.583200Z",
     "start_time": "2023-09-26T16:14:52.490664Z"
    }
   },
   "outputs": [],
   "source": [
    "! mkdir data && tar xf /app/msfttaqcsv202308.tar -C ./data"
   ]
  },
  {
   "cell_type": "code",
   "execution_count": 2,
   "id": "9b7d5eaa",
   "metadata": {
    "ExecuteTime": {
     "end_time": "2023-09-26T16:14:57.459743Z",
     "start_time": "2023-09-26T16:14:56.588074Z"
    }
   },
   "outputs": [
    {
     "name": "stdout",
     "output_type": "stream",
     "text": [
      " metadata\r\n",
      "'uT1dPod8mR2s_MSFT US Equity_quotes_1_1.csv.gz'\r\n",
      "'uT1dPod8mR2s_MSFT US Equity_trades_1_1.csv.gz'\r\n"
     ]
    }
   ],
   "source": [
    "!ls ./data"
   ]
  },
  {
   "cell_type": "markdown",
   "id": "e1974ebd",
   "metadata": {
    "ExecuteTime": {
     "end_time": "2023-09-15T18:34:10.870905Z",
     "start_time": "2023-09-15T18:34:10.867918Z"
    }
   },
   "source": [
    "## Imports"
   ]
  },
  {
   "cell_type": "code",
   "execution_count": 3,
   "id": "9c5ddefb",
   "metadata": {
    "ExecuteTime": {
     "end_time": "2023-09-26T16:15:00.307568Z",
     "start_time": "2023-09-26T16:14:57.465274Z"
    }
   },
   "outputs": [
    {
     "name": "stderr",
     "output_type": "stream",
     "text": [
      "/app/helpers/hparquet.py:19: TqdmExperimentalWarning: Using `tqdm.autonotebook.tqdm` in notebook mode. Use `tqdm.tqdm` instead to force console mode (e.g. in jupyter console)\n",
      "  from tqdm.autonotebook import tqdm\n"
     ]
    }
   ],
   "source": [
    "import logging\n",
    "\n",
    "import pandas as pd\n",
    "\n",
    "import helpers.hdbg as hdbg\n",
    "import helpers.henv as henv\n",
    "import helpers.hparquet as hparque\n",
    "import helpers.hprint as hprint"
   ]
  },
  {
   "cell_type": "code",
   "execution_count": 4,
   "id": "e2eea6e8",
   "metadata": {
    "ExecuteTime": {
     "end_time": "2023-09-26T16:15:04.405840Z",
     "start_time": "2023-09-26T16:15:00.310468Z"
    }
   },
   "outputs": [
    {
     "name": "stdout",
     "output_type": "stream",
     "text": [
      "\u001b[0m\u001b[36mINFO\u001b[0m: > cmd='/venv/lib/python3.8/site-packages/ipykernel_launcher.py -f /home/.local/share/jupyter/runtime/kernel-1c85050e-7966-49b2-b438-8abbf7666c9b.json'\n",
      "WARNING: Running in Jupyter\n",
      "INFO  # Git\n",
      "  branch_name='CmampTask5425_FGP_equities_data_sample_exploratory_analysis'\n",
      "  hash='e980801bf'\n",
      "  # Last commits:\n",
      "    * e980801bf jsmerix  Checkpoint                                                        (    8 days ago) Mon Sep 18 17:07:01 2023  (HEAD -> CmampTask5425_FGP_equities_data_sample_exploratory_analysis, origin/CmampTask5425_FGP_equities_data_sample_exploratory_analysis)\n",
      "    * 740085bf4 jsmerix  Update after resampling full dataset                              (    8 days ago) Mon Sep 18 17:02:59 2023           \n",
      "    * bab78b2db jsmerix  Add example notebook to load equity data and store to s3 as parquet (   11 days ago) Fri Sep 15 18:52:04 2023           \n",
      "# Machine info\n",
      "  system=Linux\n",
      "  node name=0fe0a862b0be\n",
      "  release=5.15.0-1044-aws\n",
      "  version=#49~20.04.1-Ubuntu SMP Mon Aug 21 17:09:32 UTC 2023\n",
      "  machine=x86_64\n",
      "  processor=x86_64\n",
      "  cpu count=8\n",
      "  cpu freq=scpufreq(current=2499.998, min=0.0, max=0.0)\n",
      "  memory=svmem(total=33280274432, available=18780143616, percent=43.6, used=13875576832, free=6911201280, active=7528296448, inactive=15247347712, buffers=517517312, cached=11975979008, shared=42647552, slab=3081564160)\n",
      "  disk usage=sdiskusage(total=156052275200, used=79554330624, free=76481167360, percent=51.0)\n",
      "# Packages\n",
      "  python: 3.8.10\n",
      "  cvxopt: 1.3.2\n",
      "  cvxpy: 1.3.2\n",
      "  gluonnlp: ?\n",
      "  gluonts: 0.6.7\n",
      "  joblib: 1.3.2\n",
      "  mxnet: 1.9.1\n",
      "  numpy: 1.20.3\n",
      "  pandas: 1.5.1\n",
      "  pyarrow: 10.0.0\n",
      "  scipy: 1.10.1\n",
      "  seaborn: 0.12.2\n",
      "  sklearn: 1.3.0\n",
      "  statsmodels: 0.14.0\n"
     ]
    }
   ],
   "source": [
    "hdbg.init_logger(verbosity=logging.INFO)\n",
    "log_level = logging.INFO\n",
    "\n",
    "_LOG = logging.getLogger(__name__)\n",
    "\n",
    "_LOG.info(\"%s\", henv.get_system_signature()[0])\n",
    "\n",
    "hprint.config_notebook()"
   ]
  },
  {
   "cell_type": "markdown",
   "id": "76496665",
   "metadata": {
    "ExecuteTime": {
     "end_time": "2023-09-15T18:49:48.721849Z",
     "start_time": "2023-09-15T18:49:48.719029Z"
    }
   },
   "source": [
    "## Load data"
   ]
  },
  {
   "cell_type": "code",
   "execution_count": 5,
   "id": "a4e39f6d",
   "metadata": {
    "ExecuteTime": {
     "end_time": "2023-09-26T16:15:40.926063Z",
     "start_time": "2023-09-26T16:15:04.410386Z"
    }
   },
   "outputs": [],
   "source": [
    "data = pd.read_csv(\"data/uT1dPod8mR2s_MSFT US Equity_trades_1_1.csv.gz\")"
   ]
  },
  {
   "cell_type": "code",
   "execution_count": 6,
   "id": "b22c3611",
   "metadata": {
    "ExecuteTime": {
     "end_time": "2023-09-26T16:15:40.978154Z",
     "start_time": "2023-09-26T16:15:40.928174Z"
    }
   },
   "outputs": [
    {
     "data": {
      "text/html": [
       "<div>\n",
       "<style scoped>\n",
       "    .dataframe tbody tr th:only-of-type {\n",
       "        vertical-align: middle;\n",
       "    }\n",
       "\n",
       "    .dataframe tbody tr th {\n",
       "        vertical-align: top;\n",
       "    }\n",
       "\n",
       "    .dataframe thead th {\n",
       "        text-align: right;\n",
       "    }\n",
       "</style>\n",
       "<table border=\"1\" class=\"dataframe\">\n",
       "  <thead>\n",
       "    <tr style=\"text-align: right;\">\n",
       "      <th></th>\n",
       "      <th>SECURITY</th>\n",
       "      <th>TICK_SEQUENCE_NUMBER</th>\n",
       "      <th>TICK_TYPE</th>\n",
       "      <th>EVT_TRADE_TIME</th>\n",
       "      <th>TRADE_REPORTED_TIME</th>\n",
       "      <th>EVT_TRADE_EXECUTION_TIME</th>\n",
       "      <th>EVT_TRADE_IDENTIFIER</th>\n",
       "      <th>EVENT_ORIGINAL_TRADE_ID</th>\n",
       "      <th>EVENT_ORIGINAL_TRADE_TIME</th>\n",
       "      <th>EVT_TRADE_PRICE</th>\n",
       "      <th>EVT_TRADE_SIZE</th>\n",
       "      <th>EVT_TRADE_LOCAL_EXCH_SOURCE</th>\n",
       "      <th>EVT_TRADE_CONDITION_CODE</th>\n",
       "      <th>EVT_TRADE_BUY_BROKER</th>\n",
       "      <th>EVT_TRADE_SELL_BROKER</th>\n",
       "      <th>TRACE_RPT_PARTY_SIDE_LAST_TRADE</th>\n",
       "      <th>EVT_TRADE_RPT_PARTY_TYP</th>\n",
       "      <th>EVT_TRADE_BIC</th>\n",
       "      <th>EVT_TRADE_MIC</th>\n",
       "      <th>EVT_TRADE_ESMA_TRADE_FLAGS</th>\n",
       "      <th>EVT_TRADE_AGGRESSOR</th>\n",
       "      <th>EVT_TRADE_RPT_CONTRA_TYP</th>\n",
       "      <th>EVT_TRADE_REMUNERATION</th>\n",
       "      <th>EVT_TRADE_ATS_INDICATOR</th>\n",
       "    </tr>\n",
       "  </thead>\n",
       "  <tbody>\n",
       "    <tr>\n",
       "      <th>0</th>\n",
       "      <td>MSFT US Equity</td>\n",
       "      <td>4417360</td>\n",
       "      <td>NEW</td>\n",
       "      <td>2023-08-01T00:00:00.050Z</td>\n",
       "      <td>2023-08-01T00:00:00.050Z</td>\n",
       "      <td>NaN</td>\n",
       "      <td>NaN</td>\n",
       "      <td>NaN</td>\n",
       "      <td>NaN</td>\n",
       "      <td>336.00</td>\n",
       "      <td>0.0</td>\n",
       "      <td>UF</td>\n",
       "      <td>OC</td>\n",
       "      <td>NaN</td>\n",
       "      <td>NaN</td>\n",
       "      <td>NaN</td>\n",
       "      <td>NaN</td>\n",
       "      <td>NaN</td>\n",
       "      <td>NaN</td>\n",
       "      <td>NaN</td>\n",
       "      <td>NaN</td>\n",
       "      <td>NaN</td>\n",
       "      <td>NaN</td>\n",
       "      <td>NaN</td>\n",
       "    </tr>\n",
       "    <tr>\n",
       "      <th>1</th>\n",
       "      <td>MSFT US Equity</td>\n",
       "      <td>4417361</td>\n",
       "      <td>NEW</td>\n",
       "      <td>2023-08-01T00:00:00.050Z</td>\n",
       "      <td>2023-08-01T00:00:00.050Z</td>\n",
       "      <td>NaN</td>\n",
       "      <td>NaN</td>\n",
       "      <td>NaN</td>\n",
       "      <td>NaN</td>\n",
       "      <td>335.95</td>\n",
       "      <td>0.0</td>\n",
       "      <td>VY</td>\n",
       "      <td>OC</td>\n",
       "      <td>NaN</td>\n",
       "      <td>NaN</td>\n",
       "      <td>NaN</td>\n",
       "      <td>NaN</td>\n",
       "      <td>NaN</td>\n",
       "      <td>NaN</td>\n",
       "      <td>NaN</td>\n",
       "      <td>NaN</td>\n",
       "      <td>NaN</td>\n",
       "      <td>NaN</td>\n",
       "      <td>NaN</td>\n",
       "    </tr>\n",
       "    <tr>\n",
       "      <th>2</th>\n",
       "      <td>MSFT US Equity</td>\n",
       "      <td>4417362</td>\n",
       "      <td>NEW</td>\n",
       "      <td>2023-08-01T00:00:00.050Z</td>\n",
       "      <td>2023-08-01T00:00:00.050Z</td>\n",
       "      <td>NaN</td>\n",
       "      <td>NaN</td>\n",
       "      <td>NaN</td>\n",
       "      <td>NaN</td>\n",
       "      <td>335.95</td>\n",
       "      <td>0.0</td>\n",
       "      <td>UX</td>\n",
       "      <td>OC</td>\n",
       "      <td>NaN</td>\n",
       "      <td>NaN</td>\n",
       "      <td>NaN</td>\n",
       "      <td>NaN</td>\n",
       "      <td>NaN</td>\n",
       "      <td>NaN</td>\n",
       "      <td>NaN</td>\n",
       "      <td>NaN</td>\n",
       "      <td>NaN</td>\n",
       "      <td>NaN</td>\n",
       "      <td>NaN</td>\n",
       "    </tr>\n",
       "    <tr>\n",
       "      <th>3</th>\n",
       "      <td>MSFT US Equity</td>\n",
       "      <td>4417363</td>\n",
       "      <td>NEW</td>\n",
       "      <td>2023-08-01T00:00:00.050Z</td>\n",
       "      <td>2023-08-01T00:00:00.050Z</td>\n",
       "      <td>NaN</td>\n",
       "      <td>NaN</td>\n",
       "      <td>NaN</td>\n",
       "      <td>NaN</td>\n",
       "      <td>335.94</td>\n",
       "      <td>0.0</td>\n",
       "      <td>VF</td>\n",
       "      <td>OC</td>\n",
       "      <td>NaN</td>\n",
       "      <td>NaN</td>\n",
       "      <td>NaN</td>\n",
       "      <td>NaN</td>\n",
       "      <td>NaN</td>\n",
       "      <td>NaN</td>\n",
       "      <td>NaN</td>\n",
       "      <td>NaN</td>\n",
       "      <td>NaN</td>\n",
       "      <td>NaN</td>\n",
       "      <td>NaN</td>\n",
       "    </tr>\n",
       "    <tr>\n",
       "      <th>4</th>\n",
       "      <td>MSFT US Equity</td>\n",
       "      <td>4417364</td>\n",
       "      <td>NEW</td>\n",
       "      <td>2023-08-01T00:00:00.050Z</td>\n",
       "      <td>2023-08-01T00:00:00.050Z</td>\n",
       "      <td>NaN</td>\n",
       "      <td>NaN</td>\n",
       "      <td>NaN</td>\n",
       "      <td>NaN</td>\n",
       "      <td>336.00</td>\n",
       "      <td>0.0</td>\n",
       "      <td>VG</td>\n",
       "      <td>OC</td>\n",
       "      <td>NaN</td>\n",
       "      <td>NaN</td>\n",
       "      <td>NaN</td>\n",
       "      <td>NaN</td>\n",
       "      <td>NaN</td>\n",
       "      <td>NaN</td>\n",
       "      <td>NaN</td>\n",
       "      <td>NaN</td>\n",
       "      <td>NaN</td>\n",
       "      <td>NaN</td>\n",
       "      <td>NaN</td>\n",
       "    </tr>\n",
       "  </tbody>\n",
       "</table>\n",
       "</div>"
      ],
      "text/plain": [
       "         SECURITY  TICK_SEQUENCE_NUMBER TICK_TYPE            EVT_TRADE_TIME       TRADE_REPORTED_TIME  EVT_TRADE_EXECUTION_TIME EVT_TRADE_IDENTIFIER  EVENT_ORIGINAL_TRADE_ID  EVENT_ORIGINAL_TRADE_TIME  EVT_TRADE_PRICE  EVT_TRADE_SIZE EVT_TRADE_LOCAL_EXCH_SOURCE EVT_TRADE_CONDITION_CODE  EVT_TRADE_BUY_BROKER  EVT_TRADE_SELL_BROKER  TRACE_RPT_PARTY_SIDE_LAST_TRADE  EVT_TRADE_RPT_PARTY_TYP  EVT_TRADE_BIC  EVT_TRADE_MIC  EVT_TRADE_ESMA_TRADE_FLAGS  EVT_TRADE_AGGRESSOR  EVT_TRADE_RPT_CONTRA_TYP  EVT_TRADE_REMUNERATION  EVT_TRADE_ATS_INDICATOR\n",
       "0  MSFT US Equity               4417360       NEW  2023-08-01T00:00:00.050Z  2023-08-01T00:00:00.050Z                       NaN                  NaN                      NaN                        NaN           336.00             0.0                          UF                       OC                   NaN                    NaN                              NaN                      NaN            NaN            NaN                         NaN                  NaN                       NaN                     NaN                      NaN\n",
       "1  MSFT US Equity               4417361       NEW  2023-08-01T00:00:00.050Z  2023-08-01T00:00:00.050Z                       NaN                  NaN                      NaN                        NaN           335.95             0.0                          VY                       OC                   NaN                    NaN                              NaN                      NaN            NaN            NaN                         NaN                  NaN                       NaN                     NaN                      NaN\n",
       "2  MSFT US Equity               4417362       NEW  2023-08-01T00:00:00.050Z  2023-08-01T00:00:00.050Z                       NaN                  NaN                      NaN                        NaN           335.95             0.0                          UX                       OC                   NaN                    NaN                              NaN                      NaN            NaN            NaN                         NaN                  NaN                       NaN                     NaN                      NaN\n",
       "3  MSFT US Equity               4417363       NEW  2023-08-01T00:00:00.050Z  2023-08-01T00:00:00.050Z                       NaN                  NaN                      NaN                        NaN           335.94             0.0                          VF                       OC                   NaN                    NaN                              NaN                      NaN            NaN            NaN                         NaN                  NaN                       NaN                     NaN                      NaN\n",
       "4  MSFT US Equity               4417364       NEW  2023-08-01T00:00:00.050Z  2023-08-01T00:00:00.050Z                       NaN                  NaN                      NaN                        NaN           336.00             0.0                          VG                       OC                   NaN                    NaN                              NaN                      NaN            NaN            NaN                         NaN                  NaN                       NaN                     NaN                      NaN"
      ]
     },
     "execution_count": 6,
     "metadata": {},
     "output_type": "execute_result"
    }
   ],
   "source": [
    "data.head()"
   ]
  },
  {
   "cell_type": "markdown",
   "id": "bf9269b9",
   "metadata": {},
   "source": [
    "Drop columns with all NaNs"
   ]
  },
  {
   "cell_type": "code",
   "execution_count": 7,
   "id": "76b898ee",
   "metadata": {
    "ExecuteTime": {
     "end_time": "2023-09-26T16:15:49.249271Z",
     "start_time": "2023-09-26T16:15:40.982608Z"
    }
   },
   "outputs": [],
   "source": [
    "data = data.dropna(axis=1, how=\"all\")"
   ]
  },
  {
   "cell_type": "code",
   "execution_count": 8,
   "id": "c34109f4",
   "metadata": {
    "ExecuteTime": {
     "end_time": "2023-09-26T16:15:49.266153Z",
     "start_time": "2023-09-26T16:15:49.252767Z"
    }
   },
   "outputs": [
    {
     "data": {
      "text/html": [
       "<div>\n",
       "<style scoped>\n",
       "    .dataframe tbody tr th:only-of-type {\n",
       "        vertical-align: middle;\n",
       "    }\n",
       "\n",
       "    .dataframe tbody tr th {\n",
       "        vertical-align: top;\n",
       "    }\n",
       "\n",
       "    .dataframe thead th {\n",
       "        text-align: right;\n",
       "    }\n",
       "</style>\n",
       "<table border=\"1\" class=\"dataframe\">\n",
       "  <thead>\n",
       "    <tr style=\"text-align: right;\">\n",
       "      <th></th>\n",
       "      <th>SECURITY</th>\n",
       "      <th>TICK_SEQUENCE_NUMBER</th>\n",
       "      <th>TICK_TYPE</th>\n",
       "      <th>EVT_TRADE_TIME</th>\n",
       "      <th>TRADE_REPORTED_TIME</th>\n",
       "      <th>EVT_TRADE_IDENTIFIER</th>\n",
       "      <th>EVENT_ORIGINAL_TRADE_ID</th>\n",
       "      <th>EVT_TRADE_PRICE</th>\n",
       "      <th>EVT_TRADE_SIZE</th>\n",
       "      <th>EVT_TRADE_LOCAL_EXCH_SOURCE</th>\n",
       "      <th>EVT_TRADE_CONDITION_CODE</th>\n",
       "    </tr>\n",
       "  </thead>\n",
       "  <tbody>\n",
       "    <tr>\n",
       "      <th>0</th>\n",
       "      <td>MSFT US Equity</td>\n",
       "      <td>4417360</td>\n",
       "      <td>NEW</td>\n",
       "      <td>2023-08-01T00:00:00.050Z</td>\n",
       "      <td>2023-08-01T00:00:00.050Z</td>\n",
       "      <td>NaN</td>\n",
       "      <td>NaN</td>\n",
       "      <td>336.00</td>\n",
       "      <td>0.0</td>\n",
       "      <td>UF</td>\n",
       "      <td>OC</td>\n",
       "    </tr>\n",
       "    <tr>\n",
       "      <th>1</th>\n",
       "      <td>MSFT US Equity</td>\n",
       "      <td>4417361</td>\n",
       "      <td>NEW</td>\n",
       "      <td>2023-08-01T00:00:00.050Z</td>\n",
       "      <td>2023-08-01T00:00:00.050Z</td>\n",
       "      <td>NaN</td>\n",
       "      <td>NaN</td>\n",
       "      <td>335.95</td>\n",
       "      <td>0.0</td>\n",
       "      <td>VY</td>\n",
       "      <td>OC</td>\n",
       "    </tr>\n",
       "    <tr>\n",
       "      <th>2</th>\n",
       "      <td>MSFT US Equity</td>\n",
       "      <td>4417362</td>\n",
       "      <td>NEW</td>\n",
       "      <td>2023-08-01T00:00:00.050Z</td>\n",
       "      <td>2023-08-01T00:00:00.050Z</td>\n",
       "      <td>NaN</td>\n",
       "      <td>NaN</td>\n",
       "      <td>335.95</td>\n",
       "      <td>0.0</td>\n",
       "      <td>UX</td>\n",
       "      <td>OC</td>\n",
       "    </tr>\n",
       "    <tr>\n",
       "      <th>3</th>\n",
       "      <td>MSFT US Equity</td>\n",
       "      <td>4417363</td>\n",
       "      <td>NEW</td>\n",
       "      <td>2023-08-01T00:00:00.050Z</td>\n",
       "      <td>2023-08-01T00:00:00.050Z</td>\n",
       "      <td>NaN</td>\n",
       "      <td>NaN</td>\n",
       "      <td>335.94</td>\n",
       "      <td>0.0</td>\n",
       "      <td>VF</td>\n",
       "      <td>OC</td>\n",
       "    </tr>\n",
       "    <tr>\n",
       "      <th>4</th>\n",
       "      <td>MSFT US Equity</td>\n",
       "      <td>4417364</td>\n",
       "      <td>NEW</td>\n",
       "      <td>2023-08-01T00:00:00.050Z</td>\n",
       "      <td>2023-08-01T00:00:00.050Z</td>\n",
       "      <td>NaN</td>\n",
       "      <td>NaN</td>\n",
       "      <td>336.00</td>\n",
       "      <td>0.0</td>\n",
       "      <td>VG</td>\n",
       "      <td>OC</td>\n",
       "    </tr>\n",
       "  </tbody>\n",
       "</table>\n",
       "</div>"
      ],
      "text/plain": [
       "         SECURITY  TICK_SEQUENCE_NUMBER TICK_TYPE            EVT_TRADE_TIME       TRADE_REPORTED_TIME EVT_TRADE_IDENTIFIER  EVENT_ORIGINAL_TRADE_ID  EVT_TRADE_PRICE  EVT_TRADE_SIZE EVT_TRADE_LOCAL_EXCH_SOURCE EVT_TRADE_CONDITION_CODE\n",
       "0  MSFT US Equity               4417360       NEW  2023-08-01T00:00:00.050Z  2023-08-01T00:00:00.050Z                  NaN                      NaN           336.00             0.0                          UF                       OC\n",
       "1  MSFT US Equity               4417361       NEW  2023-08-01T00:00:00.050Z  2023-08-01T00:00:00.050Z                  NaN                      NaN           335.95             0.0                          VY                       OC\n",
       "2  MSFT US Equity               4417362       NEW  2023-08-01T00:00:00.050Z  2023-08-01T00:00:00.050Z                  NaN                      NaN           335.95             0.0                          UX                       OC\n",
       "3  MSFT US Equity               4417363       NEW  2023-08-01T00:00:00.050Z  2023-08-01T00:00:00.050Z                  NaN                      NaN           335.94             0.0                          VF                       OC\n",
       "4  MSFT US Equity               4417364       NEW  2023-08-01T00:00:00.050Z  2023-08-01T00:00:00.050Z                  NaN                      NaN           336.00             0.0                          VG                       OC"
      ]
     },
     "execution_count": 8,
     "metadata": {},
     "output_type": "execute_result"
    }
   ],
   "source": [
    "data.head()"
   ]
  },
  {
   "cell_type": "code",
   "execution_count": 9,
   "id": "af79a997",
   "metadata": {
    "ExecuteTime": {
     "end_time": "2023-09-26T16:15:49.800004Z",
     "start_time": "2023-09-26T16:15:49.268840Z"
    }
   },
   "outputs": [
    {
     "data": {
      "text/plain": [
       "MSFT US Equity    7629374\n",
       "Name: SECURITY, dtype: int64"
      ]
     },
     "execution_count": 9,
     "metadata": {},
     "output_type": "execute_result"
    }
   ],
   "source": [
    "data[\"SECURITY\"].value_counts()"
   ]
  },
  {
   "cell_type": "code",
   "execution_count": 10,
   "id": "af2076fa",
   "metadata": {
    "ExecuteTime": {
     "end_time": "2023-09-26T16:15:49.825546Z",
     "start_time": "2023-09-26T16:15:49.802092Z"
    }
   },
   "outputs": [],
   "source": [
    "null_size = data[data[\"EVT_TRADE_SIZE\"] == 0]"
   ]
  },
  {
   "cell_type": "code",
   "execution_count": 11,
   "id": "55b5b775",
   "metadata": {
    "ExecuteTime": {
     "end_time": "2023-09-26T16:15:49.834640Z",
     "start_time": "2023-09-26T16:15:49.827797Z"
    }
   },
   "outputs": [
    {
     "data": {
      "text/plain": [
       "(1222, 11)"
      ]
     },
     "execution_count": 11,
     "metadata": {},
     "output_type": "execute_result"
    }
   ],
   "source": [
    "null_size.shape"
   ]
  },
  {
   "cell_type": "markdown",
   "id": "92d1c100",
   "metadata": {},
   "source": [
    "Some trades have 0 size"
   ]
  },
  {
   "cell_type": "code",
   "execution_count": 12,
   "id": "d27a4ee9",
   "metadata": {
    "ExecuteTime": {
     "end_time": "2023-09-26T16:15:49.865620Z",
     "start_time": "2023-09-26T16:15:49.838114Z"
    }
   },
   "outputs": [
    {
     "data": {
      "text/html": [
       "<div>\n",
       "<style scoped>\n",
       "    .dataframe tbody tr th:only-of-type {\n",
       "        vertical-align: middle;\n",
       "    }\n",
       "\n",
       "    .dataframe tbody tr th {\n",
       "        vertical-align: top;\n",
       "    }\n",
       "\n",
       "    .dataframe thead th {\n",
       "        text-align: right;\n",
       "    }\n",
       "</style>\n",
       "<table border=\"1\" class=\"dataframe\">\n",
       "  <thead>\n",
       "    <tr style=\"text-align: right;\">\n",
       "      <th></th>\n",
       "      <th>SECURITY</th>\n",
       "      <th>TICK_SEQUENCE_NUMBER</th>\n",
       "      <th>TICK_TYPE</th>\n",
       "      <th>EVT_TRADE_TIME</th>\n",
       "      <th>TRADE_REPORTED_TIME</th>\n",
       "      <th>EVT_TRADE_IDENTIFIER</th>\n",
       "      <th>EVENT_ORIGINAL_TRADE_ID</th>\n",
       "      <th>EVT_TRADE_PRICE</th>\n",
       "      <th>EVT_TRADE_SIZE</th>\n",
       "      <th>EVT_TRADE_LOCAL_EXCH_SOURCE</th>\n",
       "      <th>EVT_TRADE_CONDITION_CODE</th>\n",
       "    </tr>\n",
       "  </thead>\n",
       "  <tbody>\n",
       "    <tr>\n",
       "      <th>0</th>\n",
       "      <td>MSFT US Equity</td>\n",
       "      <td>4417360</td>\n",
       "      <td>NEW</td>\n",
       "      <td>2023-08-01T00:00:00.050Z</td>\n",
       "      <td>2023-08-01T00:00:00.050Z</td>\n",
       "      <td>NaN</td>\n",
       "      <td>NaN</td>\n",
       "      <td>336.00</td>\n",
       "      <td>0.0</td>\n",
       "      <td>UF</td>\n",
       "      <td>OC</td>\n",
       "    </tr>\n",
       "    <tr>\n",
       "      <th>1</th>\n",
       "      <td>MSFT US Equity</td>\n",
       "      <td>4417361</td>\n",
       "      <td>NEW</td>\n",
       "      <td>2023-08-01T00:00:00.050Z</td>\n",
       "      <td>2023-08-01T00:00:00.050Z</td>\n",
       "      <td>NaN</td>\n",
       "      <td>NaN</td>\n",
       "      <td>335.95</td>\n",
       "      <td>0.0</td>\n",
       "      <td>VY</td>\n",
       "      <td>OC</td>\n",
       "    </tr>\n",
       "    <tr>\n",
       "      <th>2</th>\n",
       "      <td>MSFT US Equity</td>\n",
       "      <td>4417362</td>\n",
       "      <td>NEW</td>\n",
       "      <td>2023-08-01T00:00:00.050Z</td>\n",
       "      <td>2023-08-01T00:00:00.050Z</td>\n",
       "      <td>NaN</td>\n",
       "      <td>NaN</td>\n",
       "      <td>335.95</td>\n",
       "      <td>0.0</td>\n",
       "      <td>UX</td>\n",
       "      <td>OC</td>\n",
       "    </tr>\n",
       "    <tr>\n",
       "      <th>3</th>\n",
       "      <td>MSFT US Equity</td>\n",
       "      <td>4417363</td>\n",
       "      <td>NEW</td>\n",
       "      <td>2023-08-01T00:00:00.050Z</td>\n",
       "      <td>2023-08-01T00:00:00.050Z</td>\n",
       "      <td>NaN</td>\n",
       "      <td>NaN</td>\n",
       "      <td>335.94</td>\n",
       "      <td>0.0</td>\n",
       "      <td>VF</td>\n",
       "      <td>OC</td>\n",
       "    </tr>\n",
       "    <tr>\n",
       "      <th>4</th>\n",
       "      <td>MSFT US Equity</td>\n",
       "      <td>4417364</td>\n",
       "      <td>NEW</td>\n",
       "      <td>2023-08-01T00:00:00.050Z</td>\n",
       "      <td>2023-08-01T00:00:00.050Z</td>\n",
       "      <td>NaN</td>\n",
       "      <td>NaN</td>\n",
       "      <td>336.00</td>\n",
       "      <td>0.0</td>\n",
       "      <td>VG</td>\n",
       "      <td>OC</td>\n",
       "    </tr>\n",
       "  </tbody>\n",
       "</table>\n",
       "</div>"
      ],
      "text/plain": [
       "         SECURITY  TICK_SEQUENCE_NUMBER TICK_TYPE            EVT_TRADE_TIME       TRADE_REPORTED_TIME EVT_TRADE_IDENTIFIER  EVENT_ORIGINAL_TRADE_ID  EVT_TRADE_PRICE  EVT_TRADE_SIZE EVT_TRADE_LOCAL_EXCH_SOURCE EVT_TRADE_CONDITION_CODE\n",
       "0  MSFT US Equity               4417360       NEW  2023-08-01T00:00:00.050Z  2023-08-01T00:00:00.050Z                  NaN                      NaN           336.00             0.0                          UF                       OC\n",
       "1  MSFT US Equity               4417361       NEW  2023-08-01T00:00:00.050Z  2023-08-01T00:00:00.050Z                  NaN                      NaN           335.95             0.0                          VY                       OC\n",
       "2  MSFT US Equity               4417362       NEW  2023-08-01T00:00:00.050Z  2023-08-01T00:00:00.050Z                  NaN                      NaN           335.95             0.0                          UX                       OC\n",
       "3  MSFT US Equity               4417363       NEW  2023-08-01T00:00:00.050Z  2023-08-01T00:00:00.050Z                  NaN                      NaN           335.94             0.0                          VF                       OC\n",
       "4  MSFT US Equity               4417364       NEW  2023-08-01T00:00:00.050Z  2023-08-01T00:00:00.050Z                  NaN                      NaN           336.00             0.0                          VG                       OC"
      ]
     },
     "execution_count": 12,
     "metadata": {},
     "output_type": "execute_result"
    }
   ],
   "source": [
    "null_size.head()"
   ]
  },
  {
   "cell_type": "code",
   "execution_count": 13,
   "id": "d5b21bdb",
   "metadata": {
    "ExecuteTime": {
     "end_time": "2023-09-26T16:15:49.882832Z",
     "start_time": "2023-09-26T16:15:49.868182Z"
    }
   },
   "outputs": [
    {
     "data": {
      "text/plain": [
       "SECURITY                        object\n",
       "TICK_SEQUENCE_NUMBER             int64\n",
       "TICK_TYPE                       object\n",
       "EVT_TRADE_TIME                  object\n",
       "TRADE_REPORTED_TIME             object\n",
       "EVT_TRADE_IDENTIFIER            object\n",
       "EVENT_ORIGINAL_TRADE_ID        float64\n",
       "EVT_TRADE_PRICE                float64\n",
       "EVT_TRADE_SIZE                 float64\n",
       "EVT_TRADE_LOCAL_EXCH_SOURCE     object\n",
       "EVT_TRADE_CONDITION_CODE        object\n",
       "dtype: object"
      ]
     },
     "execution_count": 13,
     "metadata": {},
     "output_type": "execute_result"
    }
   ],
   "source": [
    "data.dtypes"
   ]
  },
  {
   "cell_type": "markdown",
   "id": "a87942b8",
   "metadata": {},
   "source": [
    "Set datetime index"
   ]
  },
  {
   "cell_type": "code",
   "execution_count": 14,
   "id": "4ad1fd36",
   "metadata": {
    "ExecuteTime": {
     "end_time": "2023-09-26T16:16:00.960075Z",
     "start_time": "2023-09-26T16:15:49.885868Z"
    }
   },
   "outputs": [],
   "source": [
    "data[\"timestamp\"] = pd.to_datetime(data[\"TRADE_REPORTED_TIME\"])\n",
    "data = data.set_index(\"timestamp\", drop=True)"
   ]
  },
  {
   "cell_type": "markdown",
   "id": "9760daf0",
   "metadata": {
    "ExecuteTime": {
     "end_time": "2023-09-15T17:08:10.784382Z",
     "start_time": "2023-09-15T17:08:10.777643Z"
    }
   },
   "source": [
    "Prepare relevant columns and set index"
   ]
  },
  {
   "cell_type": "code",
   "execution_count": 15,
   "id": "9761adfc",
   "metadata": {
    "ExecuteTime": {
     "end_time": "2023-09-26T16:16:03.184041Z",
     "start_time": "2023-09-26T16:16:00.962831Z"
    }
   },
   "outputs": [],
   "source": [
    "data = data[[\"EVT_TRADE_PRICE\", \"EVT_TRADE_SIZE\"]]"
   ]
  },
  {
   "cell_type": "markdown",
   "id": "4c5b56cd",
   "metadata": {},
   "source": [
    "## Compute OHLCV\n",
    "\n",
    "Our time interval labelling convention is that time interval [a, b) is labelled as b.\n",
    "\n",
    "E.g. for interval [06:40:00, 06:41:00) the timestamp is\n",
    "06:41:00"
   ]
  },
  {
   "cell_type": "code",
   "execution_count": 16,
   "id": "39fd97b5",
   "metadata": {
    "ExecuteTime": {
     "end_time": "2023-09-26T16:16:04.365395Z",
     "start_time": "2023-09-26T16:16:03.187393Z"
    }
   },
   "outputs": [],
   "source": [
    "data_ohlcv = (\n",
    "    data[\"EVT_TRADE_PRICE\"].resample(\"1T\", closed=\"left\", label=\"right\").ohlc()\n",
    ")"
   ]
  },
  {
   "cell_type": "code",
   "execution_count": 17,
   "id": "118cb4d5",
   "metadata": {
    "ExecuteTime": {
     "end_time": "2023-09-26T16:16:04.561575Z",
     "start_time": "2023-09-26T16:16:04.370588Z"
    }
   },
   "outputs": [],
   "source": [
    "data_volume = (\n",
    "    data[\"EVT_TRADE_SIZE\"].resample(\"1T\", closed=\"left\", label=\"right\").sum()\n",
    ")\n",
    "data_volume.name = \"volume\""
   ]
  },
  {
   "cell_type": "code",
   "execution_count": 18,
   "id": "b826ce42",
   "metadata": {
    "ExecuteTime": {
     "end_time": "2023-09-26T16:16:04.579235Z",
     "start_time": "2023-09-26T16:16:04.569311Z"
    }
   },
   "outputs": [],
   "source": [
    "data = pd.concat([data_ohlcv, data_volume], axis=1)"
   ]
  },
  {
   "cell_type": "code",
   "execution_count": 19,
   "id": "4171f503",
   "metadata": {
    "ExecuteTime": {
     "end_time": "2023-09-26T16:16:04.616142Z",
     "start_time": "2023-09-26T16:16:04.582632Z"
    }
   },
   "outputs": [
    {
     "data": {
      "text/html": [
       "<div>\n",
       "<style scoped>\n",
       "    .dataframe tbody tr th:only-of-type {\n",
       "        vertical-align: middle;\n",
       "    }\n",
       "\n",
       "    .dataframe tbody tr th {\n",
       "        vertical-align: top;\n",
       "    }\n",
       "\n",
       "    .dataframe thead th {\n",
       "        text-align: right;\n",
       "    }\n",
       "</style>\n",
       "<table border=\"1\" class=\"dataframe\">\n",
       "  <thead>\n",
       "    <tr style=\"text-align: right;\">\n",
       "      <th></th>\n",
       "      <th>open</th>\n",
       "      <th>high</th>\n",
       "      <th>low</th>\n",
       "      <th>close</th>\n",
       "      <th>volume</th>\n",
       "    </tr>\n",
       "    <tr>\n",
       "      <th>timestamp</th>\n",
       "      <th></th>\n",
       "      <th></th>\n",
       "      <th></th>\n",
       "      <th></th>\n",
       "      <th></th>\n",
       "    </tr>\n",
       "  </thead>\n",
       "  <tbody>\n",
       "    <tr>\n",
       "      <th>2023-08-01 00:01:00+00:00</th>\n",
       "      <td>336.0</td>\n",
       "      <td>336.0</td>\n",
       "      <td>335.6</td>\n",
       "      <td>335.92</td>\n",
       "      <td>0.0</td>\n",
       "    </tr>\n",
       "    <tr>\n",
       "      <th>2023-08-01 00:02:00+00:00</th>\n",
       "      <td>NaN</td>\n",
       "      <td>NaN</td>\n",
       "      <td>NaN</td>\n",
       "      <td>NaN</td>\n",
       "      <td>0.0</td>\n",
       "    </tr>\n",
       "    <tr>\n",
       "      <th>2023-08-01 00:03:00+00:00</th>\n",
       "      <td>NaN</td>\n",
       "      <td>NaN</td>\n",
       "      <td>NaN</td>\n",
       "      <td>NaN</td>\n",
       "      <td>0.0</td>\n",
       "    </tr>\n",
       "    <tr>\n",
       "      <th>2023-08-01 00:04:00+00:00</th>\n",
       "      <td>NaN</td>\n",
       "      <td>NaN</td>\n",
       "      <td>NaN</td>\n",
       "      <td>NaN</td>\n",
       "      <td>0.0</td>\n",
       "    </tr>\n",
       "    <tr>\n",
       "      <th>2023-08-01 00:05:00+00:00</th>\n",
       "      <td>NaN</td>\n",
       "      <td>NaN</td>\n",
       "      <td>NaN</td>\n",
       "      <td>NaN</td>\n",
       "      <td>0.0</td>\n",
       "    </tr>\n",
       "  </tbody>\n",
       "</table>\n",
       "</div>"
      ],
      "text/plain": [
       "                            open   high    low   close  volume\n",
       "timestamp                                                     \n",
       "2023-08-01 00:01:00+00:00  336.0  336.0  335.6  335.92     0.0\n",
       "2023-08-01 00:02:00+00:00    NaN    NaN    NaN     NaN     0.0\n",
       "2023-08-01 00:03:00+00:00    NaN    NaN    NaN     NaN     0.0\n",
       "2023-08-01 00:04:00+00:00    NaN    NaN    NaN     NaN     0.0\n",
       "2023-08-01 00:05:00+00:00    NaN    NaN    NaN     NaN     0.0"
      ]
     },
     "execution_count": 19,
     "metadata": {},
     "output_type": "execute_result"
    }
   ],
   "source": [
    "data.head()"
   ]
  },
  {
   "cell_type": "code",
   "execution_count": 20,
   "id": "15c834e2",
   "metadata": {
    "ExecuteTime": {
     "end_time": "2023-09-26T16:16:04.634225Z",
     "start_time": "2023-09-26T16:16:04.618769Z"
    }
   },
   "outputs": [],
   "source": [
    "data[\"currency_pair\"] = \"MSFT\"\n",
    "data[\"knowledge_timestamp\"] = pd.Timestamp.utcnow()"
   ]
  },
  {
   "cell_type": "code",
   "execution_count": 21,
   "id": "5c925b9c",
   "metadata": {
    "ExecuteTime": {
     "end_time": "2023-09-26T16:16:04.676099Z",
     "start_time": "2023-09-26T16:16:04.641569Z"
    }
   },
   "outputs": [
    {
     "data": {
      "text/html": [
       "<div>\n",
       "<style scoped>\n",
       "    .dataframe tbody tr th:only-of-type {\n",
       "        vertical-align: middle;\n",
       "    }\n",
       "\n",
       "    .dataframe tbody tr th {\n",
       "        vertical-align: top;\n",
       "    }\n",
       "\n",
       "    .dataframe thead th {\n",
       "        text-align: right;\n",
       "    }\n",
       "</style>\n",
       "<table border=\"1\" class=\"dataframe\">\n",
       "  <thead>\n",
       "    <tr style=\"text-align: right;\">\n",
       "      <th></th>\n",
       "      <th>open</th>\n",
       "      <th>high</th>\n",
       "      <th>low</th>\n",
       "      <th>close</th>\n",
       "      <th>volume</th>\n",
       "      <th>currency_pair</th>\n",
       "      <th>knowledge_timestamp</th>\n",
       "    </tr>\n",
       "    <tr>\n",
       "      <th>timestamp</th>\n",
       "      <th></th>\n",
       "      <th></th>\n",
       "      <th></th>\n",
       "      <th></th>\n",
       "      <th></th>\n",
       "      <th></th>\n",
       "      <th></th>\n",
       "    </tr>\n",
       "  </thead>\n",
       "  <tbody>\n",
       "    <tr>\n",
       "      <th>2023-08-01 00:01:00+00:00</th>\n",
       "      <td>336.0</td>\n",
       "      <td>336.0</td>\n",
       "      <td>335.6</td>\n",
       "      <td>335.92</td>\n",
       "      <td>0.0</td>\n",
       "      <td>MSFT</td>\n",
       "      <td>2023-09-26 16:16:04.623076+00:00</td>\n",
       "    </tr>\n",
       "    <tr>\n",
       "      <th>2023-08-01 00:02:00+00:00</th>\n",
       "      <td>NaN</td>\n",
       "      <td>NaN</td>\n",
       "      <td>NaN</td>\n",
       "      <td>NaN</td>\n",
       "      <td>0.0</td>\n",
       "      <td>MSFT</td>\n",
       "      <td>2023-09-26 16:16:04.623076+00:00</td>\n",
       "    </tr>\n",
       "    <tr>\n",
       "      <th>2023-08-01 00:03:00+00:00</th>\n",
       "      <td>NaN</td>\n",
       "      <td>NaN</td>\n",
       "      <td>NaN</td>\n",
       "      <td>NaN</td>\n",
       "      <td>0.0</td>\n",
       "      <td>MSFT</td>\n",
       "      <td>2023-09-26 16:16:04.623076+00:00</td>\n",
       "    </tr>\n",
       "    <tr>\n",
       "      <th>2023-08-01 00:04:00+00:00</th>\n",
       "      <td>NaN</td>\n",
       "      <td>NaN</td>\n",
       "      <td>NaN</td>\n",
       "      <td>NaN</td>\n",
       "      <td>0.0</td>\n",
       "      <td>MSFT</td>\n",
       "      <td>2023-09-26 16:16:04.623076+00:00</td>\n",
       "    </tr>\n",
       "    <tr>\n",
       "      <th>2023-08-01 00:05:00+00:00</th>\n",
       "      <td>NaN</td>\n",
       "      <td>NaN</td>\n",
       "      <td>NaN</td>\n",
       "      <td>NaN</td>\n",
       "      <td>0.0</td>\n",
       "      <td>MSFT</td>\n",
       "      <td>2023-09-26 16:16:04.623076+00:00</td>\n",
       "    </tr>\n",
       "  </tbody>\n",
       "</table>\n",
       "</div>"
      ],
      "text/plain": [
       "                            open   high    low   close  volume currency_pair              knowledge_timestamp\n",
       "timestamp                                                                                                    \n",
       "2023-08-01 00:01:00+00:00  336.0  336.0  335.6  335.92     0.0          MSFT 2023-09-26 16:16:04.623076+00:00\n",
       "2023-08-01 00:02:00+00:00    NaN    NaN    NaN     NaN     0.0          MSFT 2023-09-26 16:16:04.623076+00:00\n",
       "2023-08-01 00:03:00+00:00    NaN    NaN    NaN     NaN     0.0          MSFT 2023-09-26 16:16:04.623076+00:00\n",
       "2023-08-01 00:04:00+00:00    NaN    NaN    NaN     NaN     0.0          MSFT 2023-09-26 16:16:04.623076+00:00\n",
       "2023-08-01 00:05:00+00:00    NaN    NaN    NaN     NaN     0.0          MSFT 2023-09-26 16:16:04.623076+00:00"
      ]
     },
     "execution_count": 21,
     "metadata": {},
     "output_type": "execute_result"
    }
   ],
   "source": [
    "data.head()"
   ]
  },
  {
   "cell_type": "markdown",
   "id": "1719741f",
   "metadata": {},
   "source": [
    "## Save as parquet"
   ]
  },
  {
   "cell_type": "code",
   "execution_count": 22,
   "id": "e9b2d641",
   "metadata": {
    "ExecuteTime": {
     "end_time": "2023-09-26T16:16:04.683608Z",
     "start_time": "2023-09-26T16:16:04.679598Z"
    }
   },
   "outputs": [],
   "source": [
    "partition_mode = \"by_year_month\"\n",
    "# TODO(Juraj): FGP doesn't have access to this bucket\n",
    "s3_path = \"s3://cryptokaizen-data-test/v3/bulk/manual/resampled_1min/parquet/ohlcv/spot/v1/bloomberg/us_market/v1_0_0/\"\n",
    "aws_profile = \"ck\""
   ]
  },
  {
   "cell_type": "code",
   "execution_count": 23,
   "id": "c59561f5",
   "metadata": {
    "ExecuteTime": {
     "end_time": "2023-09-26T16:16:05.259724Z",
     "start_time": "2023-09-26T16:16:04.692331Z"
    }
   },
   "outputs": [],
   "source": [
    "data, partition_cols = hparque.add_date_partition_columns(data, partition_mode)\n",
    "hparque.to_partitioned_parquet(\n",
    "    data,\n",
    "    [\"currency_pair\"] + partition_cols,\n",
    "    s3_path,\n",
    "    aws_profile=aws_profile,\n",
    ")"
   ]
  },
  {
   "cell_type": "markdown",
   "id": "04a6f330",
   "metadata": {
    "ExecuteTime": {
     "end_time": "2023-09-15T18:33:32.249433Z",
     "start_time": "2023-09-15T18:33:32.246378Z"
    }
   },
   "source": [
    "## Load back from parquet"
   ]
  },
  {
   "cell_type": "code",
   "execution_count": 24,
   "id": "7a3101e4",
   "metadata": {
    "ExecuteTime": {
     "end_time": "2023-09-26T16:16:05.714956Z",
     "start_time": "2023-09-26T16:16:05.263569Z"
    }
   },
   "outputs": [],
   "source": [
    "ohlcv_data = hparque.from_parquet(s3_path, aws_profile=aws_profile)"
   ]
  },
  {
   "cell_type": "code",
   "execution_count": 25,
   "id": "d9366dac",
   "metadata": {
    "ExecuteTime": {
     "end_time": "2023-09-26T16:16:05.748789Z",
     "start_time": "2023-09-26T16:16:05.717580Z"
    }
   },
   "outputs": [
    {
     "data": {
      "text/html": [
       "<div>\n",
       "<style scoped>\n",
       "    .dataframe tbody tr th:only-of-type {\n",
       "        vertical-align: middle;\n",
       "    }\n",
       "\n",
       "    .dataframe tbody tr th {\n",
       "        vertical-align: top;\n",
       "    }\n",
       "\n",
       "    .dataframe thead th {\n",
       "        text-align: right;\n",
       "    }\n",
       "</style>\n",
       "<table border=\"1\" class=\"dataframe\">\n",
       "  <thead>\n",
       "    <tr style=\"text-align: right;\">\n",
       "      <th></th>\n",
       "      <th>open</th>\n",
       "      <th>high</th>\n",
       "      <th>low</th>\n",
       "      <th>close</th>\n",
       "      <th>volume</th>\n",
       "      <th>knowledge_timestamp</th>\n",
       "      <th>currency_pair</th>\n",
       "      <th>year</th>\n",
       "      <th>month</th>\n",
       "    </tr>\n",
       "    <tr>\n",
       "      <th>timestamp</th>\n",
       "      <th></th>\n",
       "      <th></th>\n",
       "      <th></th>\n",
       "      <th></th>\n",
       "      <th></th>\n",
       "      <th></th>\n",
       "      <th></th>\n",
       "      <th></th>\n",
       "      <th></th>\n",
       "    </tr>\n",
       "  </thead>\n",
       "  <tbody>\n",
       "    <tr>\n",
       "      <th>2023-08-01 00:01:00+00:00</th>\n",
       "      <td>336.0</td>\n",
       "      <td>336.0</td>\n",
       "      <td>335.6</td>\n",
       "      <td>335.92</td>\n",
       "      <td>0.0</td>\n",
       "      <td>2023-09-26 16:16:04.623076+00:00</td>\n",
       "      <td>MSFT</td>\n",
       "      <td>2023</td>\n",
       "      <td>8</td>\n",
       "    </tr>\n",
       "    <tr>\n",
       "      <th>2023-08-01 00:02:00+00:00</th>\n",
       "      <td>NaN</td>\n",
       "      <td>NaN</td>\n",
       "      <td>NaN</td>\n",
       "      <td>NaN</td>\n",
       "      <td>0.0</td>\n",
       "      <td>2023-09-26 16:16:04.623076+00:00</td>\n",
       "      <td>MSFT</td>\n",
       "      <td>2023</td>\n",
       "      <td>8</td>\n",
       "    </tr>\n",
       "    <tr>\n",
       "      <th>2023-08-01 00:03:00+00:00</th>\n",
       "      <td>NaN</td>\n",
       "      <td>NaN</td>\n",
       "      <td>NaN</td>\n",
       "      <td>NaN</td>\n",
       "      <td>0.0</td>\n",
       "      <td>2023-09-26 16:16:04.623076+00:00</td>\n",
       "      <td>MSFT</td>\n",
       "      <td>2023</td>\n",
       "      <td>8</td>\n",
       "    </tr>\n",
       "    <tr>\n",
       "      <th>2023-08-01 00:04:00+00:00</th>\n",
       "      <td>NaN</td>\n",
       "      <td>NaN</td>\n",
       "      <td>NaN</td>\n",
       "      <td>NaN</td>\n",
       "      <td>0.0</td>\n",
       "      <td>2023-09-26 16:16:04.623076+00:00</td>\n",
       "      <td>MSFT</td>\n",
       "      <td>2023</td>\n",
       "      <td>8</td>\n",
       "    </tr>\n",
       "    <tr>\n",
       "      <th>2023-08-01 00:05:00+00:00</th>\n",
       "      <td>NaN</td>\n",
       "      <td>NaN</td>\n",
       "      <td>NaN</td>\n",
       "      <td>NaN</td>\n",
       "      <td>0.0</td>\n",
       "      <td>2023-09-26 16:16:04.623076+00:00</td>\n",
       "      <td>MSFT</td>\n",
       "      <td>2023</td>\n",
       "      <td>8</td>\n",
       "    </tr>\n",
       "  </tbody>\n",
       "</table>\n",
       "</div>"
      ],
      "text/plain": [
       "                            open   high    low   close  volume              knowledge_timestamp currency_pair  year  month\n",
       "timestamp                                                                                                                 \n",
       "2023-08-01 00:01:00+00:00  336.0  336.0  335.6  335.92     0.0 2023-09-26 16:16:04.623076+00:00          MSFT  2023      8\n",
       "2023-08-01 00:02:00+00:00    NaN    NaN    NaN     NaN     0.0 2023-09-26 16:16:04.623076+00:00          MSFT  2023      8\n",
       "2023-08-01 00:03:00+00:00    NaN    NaN    NaN     NaN     0.0 2023-09-26 16:16:04.623076+00:00          MSFT  2023      8\n",
       "2023-08-01 00:04:00+00:00    NaN    NaN    NaN     NaN     0.0 2023-09-26 16:16:04.623076+00:00          MSFT  2023      8\n",
       "2023-08-01 00:05:00+00:00    NaN    NaN    NaN     NaN     0.0 2023-09-26 16:16:04.623076+00:00          MSFT  2023      8"
      ]
     },
     "execution_count": 25,
     "metadata": {},
     "output_type": "execute_result"
    }
   ],
   "source": [
    "ohlcv_data.head()"
   ]
  },
  {
   "cell_type": "code",
   "execution_count": 26,
   "id": "39a09ac5",
   "metadata": {
    "ExecuteTime": {
     "end_time": "2023-09-26T16:16:05.761145Z",
     "start_time": "2023-09-26T16:16:05.752058Z"
    }
   },
   "outputs": [
    {
     "data": {
      "text/plain": [
       "Timestamp('2023-08-01 00:01:00+0000', tz='UTC')"
      ]
     },
     "execution_count": 26,
     "metadata": {},
     "output_type": "execute_result"
    }
   ],
   "source": [
    "ohlcv_data.index.min()"
   ]
  },
  {
   "cell_type": "code",
   "execution_count": 27,
   "id": "9828f825",
   "metadata": {
    "ExecuteTime": {
     "end_time": "2023-09-26T16:16:05.775095Z",
     "start_time": "2023-09-26T16:16:05.765156Z"
    }
   },
   "outputs": [
    {
     "data": {
      "text/plain": [
       "Timestamp('2023-08-31 23:30:00+0000', tz='UTC')"
      ]
     },
     "execution_count": 27,
     "metadata": {},
     "output_type": "execute_result"
    }
   ],
   "source": [
    "ohlcv_data.index.max()"
   ]
  },
  {
   "cell_type": "code",
   "execution_count": null,
   "id": "99fb624b",
   "metadata": {},
   "outputs": [],
   "source": []
  }
 ],
 "metadata": {
  "kernelspec": {
   "display_name": "Python 3 (ipykernel)",
   "language": "python",
   "name": "python3"
  },
  "language_info": {
   "codemirror_mode": {
    "name": "ipython",
    "version": 3
   },
   "file_extension": ".py",
   "mimetype": "text/x-python",
   "name": "python",
   "nbconvert_exporter": "python",
   "pygments_lexer": "ipython3",
   "version": "3.8.10"
  },
  "toc": {
   "base_numbering": 1,
   "nav_menu": {},
   "number_sections": true,
   "sideBar": true,
   "skip_h1_title": false,
   "title_cell": "Table of Contents",
   "title_sidebar": "Contents",
   "toc_cell": false,
   "toc_position": {},
   "toc_section_display": true,
   "toc_window_display": false
  }
 },
 "nbformat": 4,
 "nbformat_minor": 5
}
