{
 "cells": [
  {
   "cell_type": "markdown",
   "id": "eaf05ec1",
   "metadata": {
    "heading_collapsed": true
   },
   "source": [
    "# Imports"
   ]
  },
  {
   "cell_type": "code",
   "execution_count": 1,
   "id": "0d80c28c",
   "metadata": {
    "ExecuteTime": {
     "end_time": "2023-03-14T06:42:28.852911Z",
     "start_time": "2023-03-14T06:42:25.763818Z"
    },
    "hidden": true
   },
   "outputs": [
    {
     "name": "stderr",
     "output_type": "stream",
     "text": [
      "/app/core/signal_processing/decorrelation.py:12: TqdmExperimentalWarning: Using `tqdm.autonotebook.tqdm` in notebook mode. Use `tqdm.tqdm` instead to force console mode (e.g. in jupyter console)\n",
      "  from tqdm.autonotebook import tqdm\n"
     ]
    }
   ],
   "source": [
    "import logging\n",
    "\n",
    "import pandas as pd\n",
    "\n",
    "import helpers.hdatetime as hdateti\n",
    "import helpers.hdbg as hdbg\n",
    "import helpers.henv as henv\n",
    "import helpers.hpandas as hpandas\n",
    "import helpers.hprint as hprint\n",
    "import im_v2.ccxt.data.extract.extractor as imvcdexex\n",
    "import im_v2.common.data.client.im_raw_data_client as imvcdcimrdc\n",
    "import im_v2.common.data.qa.dataset_validator as imvcdqdava\n",
    "import im_v2.common.data.qa.qa_check as imvcdqqach\n",
    "import im_v2.common.universe as ivcu\n",
    "import im_v2.common.universe.universe as imvcounun\n",
    "\n",
    "%load_ext autoreload\n",
    "%autoreload 2"
   ]
  },
  {
   "cell_type": "code",
   "execution_count": 2,
   "id": "aecd42b2",
   "metadata": {
    "ExecuteTime": {
     "end_time": "2023-03-14T06:42:29.118726Z",
     "start_time": "2023-03-14T06:42:28.855616Z"
    },
    "collapsed": true,
    "hidden": true
   },
   "outputs": [
    {
     "name": "stdout",
     "output_type": "stream",
     "text": [
      "\u001b[0m\u001b[36mINFO\u001b[0m: > cmd='/venv/lib/python3.8/site-packages/ipykernel_launcher.py -f /home/.local/share/jupyter/runtime/kernel-f55e9a5f-fd66-4d08-acda-ed2d81127634.json'\n",
      "WARNING: Running in Jupyter\n",
      "\u001b[31m-----------------------------------------------------------------------------\n",
      "This code is not in sync with the container:\n",
      "code_version='1.4.3' != container_version='1.4.0'\n",
      "-----------------------------------------------------------------------------\n",
      "You need to:\n",
      "- merge origin/master into your branch with `invoke git_merge_master`\n",
      "- pull the latest container with `invoke docker_pull`\u001b[0m\n",
      "INFO  # Git\n",
      "  branch_name='CmTask4032_Create_function_to_set_correct_epoch_unit'\n",
      "  hash='d1230a04c'\n",
      "  # Last commits:\n",
      "    * d1230a04c vlady    CmTask4032: fix access to allowed_values in dataset schema        (  11 hours ago) Mon Mar 13 19:18:34 2023  (HEAD -> CmTask4032_Create_function_to_set_correct_epoch_unit, origin/CmTask4032_Create_function_to_set_correct_epoch_unit)\n",
      "    * 7543ee219 vlady    CmTask4032: fix typos                                             (  12 hours ago) Mon Mar 13 19:11:02 2023           \n",
      "    * 595780fa0 vlady    CmTask4032: fix imports                                           (  12 hours ago) Mon Mar 13 19:05:17 2023           \n",
      "# Machine info\n",
      "  system=Linux\n",
      "  node name=ec2bd97b0048\n",
      "  release=5.15.0-1028-aws\n",
      "  version=#32~20.04.1-Ubuntu SMP Mon Jan 9 18:02:08 UTC 2023\n",
      "  machine=x86_64\n",
      "  processor=x86_64\n",
      "  cpu count=8\n",
      "  cpu freq=scpufreq(current=2499.998, min=0.0, max=0.0)\n",
      "  memory=svmem(total=33292881920, available=28334030848, percent=14.9, used=4483022848, free=1009618944, active=7631929344, inactive=21607858176, buffers=1917820928, cached=25882419200, shared=2469888, slab=2762170368)\n",
      "  disk usage=sdiskusage(total=156052275200, used=39454846976, free=116580651008, percent=25.3)\n",
      "# Packages\n",
      "  python: 3.8.10\n",
      "  cvxopt: 1.3.0\n",
      "  cvxpy: 1.2.2\n",
      "  gluonnlp: ?\n",
      "  gluonts: 0.6.7\n",
      "  joblib: 1.2.0\n",
      "  mxnet: 1.9.1\n",
      "  numpy: 1.23.4\n",
      "  pandas: 1.5.1\n",
      "  pyarrow: 10.0.0\n",
      "  scipy: 1.9.3\n",
      "  seaborn: 0.12.1\n",
      "  sklearn: 1.1.3\n",
      "  statsmodels: 0.13.5\n"
     ]
    }
   ],
   "source": [
    "hdbg.init_logger(verbosity=logging.INFO)\n",
    "\n",
    "_LOG = logging.getLogger(__name__)\n",
    "\n",
    "_LOG.info(\"%s\", henv.get_system_signature()[0])\n",
    "\n",
    "hprint.config_notebook()"
   ]
  },
  {
   "cell_type": "markdown",
   "id": "7c12e4fc",
   "metadata": {},
   "source": [
    "# Test download_bulk.py"
   ]
  },
  {
   "cell_type": "code",
   "execution_count": 18,
   "id": "cf43c2a2",
   "metadata": {
    "ExecuteTime": {
     "end_time": "2023-03-14T07:06:39.429233Z",
     "start_time": "2023-03-14T07:06:12.520888Z"
    },
    "collapsed": true
   },
   "outputs": [
    {
     "name": "stdout",
     "output_type": "stream",
     "text": [
      "\u001b[0m\u001b[36mINFO\u001b[0m: > cmd='/app/im_v2/common/data/extract/download_bulk.py --download_mode bulk --downloading_entity manual --action_tag downloaded_1min --vendor ccxt --start_timestamp 2023-03-01T00:00:00+00:00 --end_timestamp 2023-03-01T00:10:00+00:00 --exchange_id binance --universe v7.3 --aws_profile ck --data_type trades --data_format parquet --contract_type futures --s3_path s3://cryptokaizen-data-test/'\n",
      "report_memory_usage=False report_cpu_usage=False\n",
      "\u001b[36mINFO\u001b[0m: Saving log to file '/app/im_v2/common/data/extract/download_bulk.py.log'\n",
      "03:06:16 - \u001b[36mINFO \u001b[0m dataset_schema_utils.py _get_dataset_schema_file_path:39 Loading dataset schema file: /app/data_schema/dataset_schema_versions/dataset_schema_v3.json\n",
      "03:06:16 - \u001b[36mINFO \u001b[0m dataset_schema_utils.py get_dataset_schema:74          Loaded dataset schema version v3\n",
      "03:06:18 - \u001b[36mINFO \u001b[0m extract_utils.py download_historical_data:734          Saving the dataset into s3://cryptokaizen-data-test/v3/bulk/manual/downloaded_1min/parquet/trades/futures/v7_3/ccxt/binance/v1_0_0\n",
      "03:06:23 - \u001b[36mINFO \u001b[0m extract_utils.py download_historical_data:734          Saving the dataset into s3://cryptokaizen-data-test/v3/bulk/manual/downloaded_1min/parquet/trades/futures/v7_3/ccxt/binance/v1_0_0\n",
      "03:06:24 - \u001b[36mINFO \u001b[0m extract_utils.py download_historical_data:734          Saving the dataset into s3://cryptokaizen-data-test/v3/bulk/manual/downloaded_1min/parquet/trades/futures/v7_3/ccxt/binance/v1_0_0\n",
      "03:06:24 - \u001b[36mINFO \u001b[0m extract_utils.py download_historical_data:734          Saving the dataset into s3://cryptokaizen-data-test/v3/bulk/manual/downloaded_1min/parquet/trades/futures/v7_3/ccxt/binance/v1_0_0\n",
      "03:06:24 - \u001b[36mINFO \u001b[0m extract_utils.py download_historical_data:734          Saving the dataset into s3://cryptokaizen-data-test/v3/bulk/manual/downloaded_1min/parquet/trades/futures/v7_3/ccxt/binance/v1_0_0\n",
      "03:06:26 - \u001b[36mINFO \u001b[0m extract_utils.py download_historical_data:734          Saving the dataset into s3://cryptokaizen-data-test/v3/bulk/manual/downloaded_1min/parquet/trades/futures/v7_3/ccxt/binance/v1_0_0\n",
      "03:06:27 - \u001b[36mINFO \u001b[0m extract_utils.py download_historical_data:734          Saving the dataset into s3://cryptokaizen-data-test/v3/bulk/manual/downloaded_1min/parquet/trades/futures/v7_3/ccxt/binance/v1_0_0\n",
      "03:06:27 - \u001b[36mINFO \u001b[0m extract_utils.py download_historical_data:734          Saving the dataset into s3://cryptokaizen-data-test/v3/bulk/manual/downloaded_1min/parquet/trades/futures/v7_3/ccxt/binance/v1_0_0\n",
      "03:06:28 - \u001b[36mINFO \u001b[0m extract_utils.py download_historical_data:734          Saving the dataset into s3://cryptokaizen-data-test/v3/bulk/manual/downloaded_1min/parquet/trades/futures/v7_3/ccxt/binance/v1_0_0\n",
      "03:06:29 - \u001b[36mINFO \u001b[0m extract_utils.py download_historical_data:734          Saving the dataset into s3://cryptokaizen-data-test/v3/bulk/manual/downloaded_1min/parquet/trades/futures/v7_3/ccxt/binance/v1_0_0\n",
      "03:06:29 - \u001b[36mINFO \u001b[0m extract_utils.py download_historical_data:734          Saving the dataset into s3://cryptokaizen-data-test/v3/bulk/manual/downloaded_1min/parquet/trades/futures/v7_3/ccxt/binance/v1_0_0\n",
      "03:06:30 - \u001b[36mINFO \u001b[0m extract_utils.py download_historical_data:734          Saving the dataset into s3://cryptokaizen-data-test/v3/bulk/manual/downloaded_1min/parquet/trades/futures/v7_3/ccxt/binance/v1_0_0\n",
      "03:06:30 - \u001b[36mINFO \u001b[0m extract_utils.py download_historical_data:734          Saving the dataset into s3://cryptokaizen-data-test/v3/bulk/manual/downloaded_1min/parquet/trades/futures/v7_3/ccxt/binance/v1_0_0\n",
      "03:06:31 - \u001b[36mINFO \u001b[0m extract_utils.py download_historical_data:734          Saving the dataset into s3://cryptokaizen-data-test/v3/bulk/manual/downloaded_1min/parquet/trades/futures/v7_3/ccxt/binance/v1_0_0\n",
      "03:06:31 - \u001b[36mINFO \u001b[0m extract_utils.py download_historical_data:734          Saving the dataset into s3://cryptokaizen-data-test/v3/bulk/manual/downloaded_1min/parquet/trades/futures/v7_3/ccxt/binance/v1_0_0\n",
      "03:06:31 - \u001b[36mINFO \u001b[0m extract_utils.py download_historical_data:734          Saving the dataset into s3://cryptokaizen-data-test/v3/bulk/manual/downloaded_1min/parquet/trades/futures/v7_3/ccxt/binance/v1_0_0\n",
      "03:06:32 - \u001b[36mINFO \u001b[0m extract_utils.py download_historical_data:734          Saving the dataset into s3://cryptokaizen-data-test/v3/bulk/manual/downloaded_1min/parquet/trades/futures/v7_3/ccxt/binance/v1_0_0\n",
      "03:06:32 - \u001b[36mINFO \u001b[0m extract_utils.py download_historical_data:734          Saving the dataset into s3://cryptokaizen-data-test/v3/bulk/manual/downloaded_1min/parquet/trades/futures/v7_3/ccxt/binance/v1_0_0\n",
      "03:06:33 - \u001b[36mINFO \u001b[0m extract_utils.py download_historical_data:734          Saving the dataset into s3://cryptokaizen-data-test/v3/bulk/manual/downloaded_1min/parquet/trades/futures/v7_3/ccxt/binance/v1_0_0\n",
      "03:06:34 - \u001b[36mINFO \u001b[0m extract_utils.py download_historical_data:734          Saving the dataset into s3://cryptokaizen-data-test/v3/bulk/manual/downloaded_1min/parquet/trades/futures/v7_3/ccxt/binance/v1_0_0\n",
      "03:06:35 - \u001b[36mINFO \u001b[0m extract_utils.py download_historical_data:734          Saving the dataset into s3://cryptokaizen-data-test/v3/bulk/manual/downloaded_1min/parquet/trades/futures/v7_3/ccxt/binance/v1_0_0\n",
      "03:06:35 - \u001b[36mINFO \u001b[0m extract_utils.py download_historical_data:734          Saving the dataset into s3://cryptokaizen-data-test/v3/bulk/manual/downloaded_1min/parquet/trades/futures/v7_3/ccxt/binance/v1_0_0\n",
      "03:06:36 - \u001b[36mINFO \u001b[0m extract_utils.py download_historical_data:734          Saving the dataset into s3://cryptokaizen-data-test/v3/bulk/manual/downloaded_1min/parquet/trades/futures/v7_3/ccxt/binance/v1_0_0\n",
      "03:06:38 - \u001b[36mINFO \u001b[0m extract_utils.py download_historical_data:734          Saving the dataset into s3://cryptokaizen-data-test/v3/bulk/manual/downloaded_1min/parquet/trades/futures/v7_3/ccxt/binance/v1_0_0\n",
      "03:06:38 - \u001b[36mINFO \u001b[0m extract_utils.py download_historical_data:734          Saving the dataset into s3://cryptokaizen-data-test/v3/bulk/manual/downloaded_1min/parquet/trades/futures/v7_3/ccxt/binance/v1_0_0\n",
      "03:06:38 - \u001b[36mINFO \u001b[0m hcache.py clear_global_cache:292                       Before clear_global_cache: 'global mem' cache: path='/mnt/tmpfs/tmp.cache.mem', size=32.0 KB\n",
      "03:06:38 - \u001b[41mWARN \u001b[0m hcache.py clear_global_cache:293                       Resetting 'global mem' cache '/mnt/tmpfs/tmp.cache.mem'\n",
      "03:06:38 - \u001b[41mWARN \u001b[0m hcache.py clear_global_cache:303                       Destroying '/mnt/tmpfs/tmp.cache.mem' ...\n",
      "03:06:38 - \u001b[36mINFO \u001b[0m hcache.py clear_global_cache:319                       After clear_global_cache: 'global mem' cache: path='/mnt/tmpfs/tmp.cache.mem', size=nan\n"
     ]
    }
   ],
   "source": [
    "%%bash\n",
    "/app/im_v2/common/data/extract/download_bulk.py \\\n",
    "    --download_mode 'bulk' \\\n",
    "    --downloading_entity 'manual' \\\n",
    "    --action_tag 'downloaded_1min' \\\n",
    "    --vendor 'ccxt' \\\n",
    "    --start_timestamp '2023-03-01T00:00:00+00:00' \\\n",
    "    --end_timestamp '2023-03-01T00:10:00+00:00' \\\n",
    "    --exchange_id 'binance' \\\n",
    "    --universe 'v7.3' \\\n",
    "    --aws_profile 'ck' \\\n",
    "    --data_type 'trades' \\\n",
    "    --data_format 'parquet' \\\n",
    "    --contract_type 'futures' \\\n",
    "    --s3_path 's3://cryptokaizen-data-test/'"
   ]
  },
  {
   "cell_type": "code",
   "execution_count": 6,
   "id": "7332d441",
   "metadata": {
    "ExecuteTime": {
     "end_time": "2023-03-14T06:47:22.478254Z",
     "start_time": "2023-03-14T06:46:42.654635Z"
    }
   },
   "outputs": [
    {
     "name": "stdout",
     "output_type": "stream",
     "text": [
      "\u001b[0m\u001b[36mINFO\u001b[0m: > cmd='/app/im_v2/common/data/extract/download_bulk.py --download_mode bulk --downloading_entity manual --action_tag downloaded_1min --vendor crypto_chassis --start_timestamp 2023-02-05T00:30:00+00:00 --end_timestamp 2023-02-05T00:40:00+00:00 --exchange_id binance --universe v4 --aws_profile ck --data_type trades --incremental --data_format parquet --contract_type futures --s3_path s3://cryptokaizen-data-test/'\n",
      "report_memory_usage=False report_cpu_usage=False\n",
      "\u001b[36mINFO\u001b[0m: Saving log to file '/app/im_v2/common/data/extract/download_bulk.py.log'\n",
      "02:46:46 - \u001b[36mINFO \u001b[0m dataset_schema_utils.py _get_dataset_schema_file_path:39 Loading dataset schema file: /app/data_schema/dataset_schema_versions/dataset_schema_v3.json\n",
      "02:46:46 - \u001b[36mINFO \u001b[0m dataset_schema_utils.py get_dataset_schema:74          Loaded dataset schema version v3\n",
      "02:46:49 - \u001b[36mINFO \u001b[0m extract_utils.py download_historical_data:734          Saving the dataset into s3://cryptokaizen-data-test/v3/bulk/manual/downloaded_1min/parquet/trades/futures/v4/crypto_chassis/binance/v1_0_0\n",
      "02:46:56 - \u001b[36mINFO \u001b[0m extract_utils.py download_historical_data:734          Saving the dataset into s3://cryptokaizen-data-test/v3/bulk/manual/downloaded_1min/parquet/trades/futures/v4/crypto_chassis/binance/v1_0_0\n",
      "02:47:00 - \u001b[36mINFO \u001b[0m extractor.py _download_trades:435                      Unable to retrieve data for sandusdt and start_timestamp=2023-02-05T00:30:00Z\n",
      "02:47:01 - \u001b[36mINFO \u001b[0m extractor.py _download_trades:435                      Unable to retrieve data for storjusdt and start_timestamp=2023-02-05T00:30:00Z\n",
      "02:47:01 - \u001b[36mINFO \u001b[0m extractor.py _download_trades:435                      Unable to retrieve data for gmtusdt and start_timestamp=2023-02-05T00:30:00Z\n",
      "02:47:02 - \u001b[36mINFO \u001b[0m extractor.py _download_trades:435                      Unable to retrieve data for avaxusdt and start_timestamp=2023-02-05T00:30:00Z\n",
      "02:47:04 - \u001b[36mINFO \u001b[0m extract_utils.py download_historical_data:734          Saving the dataset into s3://cryptokaizen-data-test/v3/bulk/manual/downloaded_1min/parquet/trades/futures/v4/crypto_chassis/binance/v1_0_0\n",
      "02:47:05 - \u001b[36mINFO \u001b[0m extractor.py _download_trades:435                      Unable to retrieve data for apeusdt and start_timestamp=2023-02-05T00:30:00Z\n",
      "02:47:06 - \u001b[36mINFO \u001b[0m extractor.py _download_trades:435                      Unable to retrieve data for maticusdt and start_timestamp=2023-02-05T00:30:00Z\n",
      "02:47:08 - \u001b[36mINFO \u001b[0m extract_utils.py download_historical_data:734          Saving the dataset into s3://cryptokaizen-data-test/v3/bulk/manual/downloaded_1min/parquet/trades/futures/v4/crypto_chassis/binance/v1_0_0\n",
      "02:47:09 - \u001b[36mINFO \u001b[0m extractor.py _download_trades:435                      Unable to retrieve data for unfiusdt and start_timestamp=2023-02-05T00:30:00Z\n",
      "02:47:09 - \u001b[36mINFO \u001b[0m extractor.py _download_trades:435                      Unable to retrieve data for linkusdt and start_timestamp=2023-02-05T00:30:00Z\n",
      "02:47:11 - \u001b[36mINFO \u001b[0m extract_utils.py download_historical_data:734          Saving the dataset into s3://cryptokaizen-data-test/v3/bulk/manual/downloaded_1min/parquet/trades/futures/v4/crypto_chassis/binance/v1_0_0\n",
      "02:47:12 - \u001b[36mINFO \u001b[0m extractor.py _download_trades:435                      Unable to retrieve data for runeusdt and start_timestamp=2023-02-05T00:30:00Z\n",
      "02:47:13 - \u001b[36mINFO \u001b[0m extractor.py _download_trades:435                      Unable to retrieve data for nearusdt and start_timestamp=2023-02-05T00:30:00Z\n",
      "02:47:13 - \u001b[36mINFO \u001b[0m extractor.py _download_trades:435                      Unable to retrieve data for ftmusdt and start_timestamp=2023-02-05T00:30:00Z\n",
      "02:47:13 - \u001b[36mINFO \u001b[0m extractor.py _download_trades:435                      Unable to retrieve data for wavesusdt and start_timestamp=2023-02-05T00:30:00Z\n",
      "02:47:14 - \u001b[36mINFO \u001b[0m extractor.py _download_trades:435                      Unable to retrieve data for axsusdt and start_timestamp=2023-02-05T00:30:00Z\n",
      "02:47:14 - \u001b[36mINFO \u001b[0m extractor.py _download_trades:435                      Unable to retrieve data for ognusdt and start_timestamp=2023-02-05T00:30:00Z\n",
      "02:47:16 - \u001b[36mINFO \u001b[0m extract_utils.py download_historical_data:734          Saving the dataset into s3://cryptokaizen-data-test/v3/bulk/manual/downloaded_1min/parquet/trades/futures/v4/crypto_chassis/binance/v1_0_0\n",
      "02:47:20 - \u001b[36mINFO \u001b[0m extract_utils.py download_historical_data:734          Saving the dataset into s3://cryptokaizen-data-test/v3/bulk/manual/downloaded_1min/parquet/trades/futures/v4/crypto_chassis/binance/v1_0_0\n",
      "02:47:21 - \u001b[36mINFO \u001b[0m hcache.py clear_global_cache:292                       Before clear_global_cache: 'global mem' cache: path='/mnt/tmpfs/tmp.cache.mem', size=32.0 KB\n",
      "02:47:21 - \u001b[41mWARN \u001b[0m hcache.py clear_global_cache:293                       Resetting 'global mem' cache '/mnt/tmpfs/tmp.cache.mem'\n",
      "02:47:21 - \u001b[41mWARN \u001b[0m hcache.py clear_global_cache:303                       Destroying '/mnt/tmpfs/tmp.cache.mem' ...\n",
      "02:47:21 - \u001b[36mINFO \u001b[0m hcache.py clear_global_cache:319                       After clear_global_cache: 'global mem' cache: path='/mnt/tmpfs/tmp.cache.mem', size=nan\n"
     ]
    }
   ],
   "source": [
    "%%bash\n",
    "/app/im_v2/common/data/extract/download_bulk.py \\\n",
    "    --download_mode 'bulk' \\b\n",
    "    --downloading_entity 'manual' \\\n",
    "    --action_tag 'downloaded_1min' \\\n",
    "    --vendor 'crypto_chassis' \\\n",
    "    --start_timestamp '2023-02-05T00:30:00+00:00' \\\n",
    "    --end_timestamp '2023-02-05T00:40:00+00:00' \\\n",
    "    --exchange_id 'binance' \\\n",
    "    --universe 'v4' \\\n",
    "    --aws_profile 'ck' \\\n",
    "    --data_type 'trades' \\\n",
    "    --incremental \\\n",
    "    --data_format 'parquet' \\\n",
    "    --contract_type 'futures' \\\n",
    "    --s3_path 's3://cryptokaizen-data-test/'"
   ]
  },
  {
   "cell_type": "code",
   "execution_count": 9,
   "id": "07546a00",
   "metadata": {
    "ExecuteTime": {
     "end_time": "2023-03-14T06:50:02.552848Z",
     "start_time": "2023-03-14T06:49:33.218980Z"
    }
   },
   "outputs": [
    {
     "name": "stdout",
     "output_type": "stream",
     "text": [
      "\u001b[0m\u001b[36mINFO\u001b[0m: > cmd='/app/im_v2/common/data/extract/download_bulk.py --download_mode bulk --downloading_entity manual --action_tag downloaded_1min --vendor crypto_chassis --start_timestamp 2023-02-05T00:30:00+00:00 --end_timestamp 2023-02-05T00:40:00+00:00 --exchange_id binance --universe v4 --aws_profile ck --data_type bid_ask --data_format parquet --contract_type futures --s3_path s3://cryptokaizen-data-test/'\n",
      "report_memory_usage=False report_cpu_usage=False\n",
      "\u001b[36mINFO\u001b[0m: Saving log to file '/app/im_v2/common/data/extract/download_bulk.py.log'\n",
      "02:49:36 - \u001b[36mINFO \u001b[0m dataset_schema_utils.py _get_dataset_schema_file_path:39 Loading dataset schema file: /app/data_schema/dataset_schema_versions/dataset_schema_v3.json\n",
      "02:49:36 - \u001b[36mINFO \u001b[0m dataset_schema_utils.py get_dataset_schema:74          Loaded dataset schema version v3\n",
      "02:49:36 - \u001b[36mINFO \u001b[0m extractor.py _download_bid_ask:228                     https://api.cryptochassis.com/v1/market-depth/binance-usds-futures/ethusdt?startTime=2023-02-05T00:30:00Z\n",
      "02:49:39 - \u001b[36mINFO \u001b[0m extractor.py _download_bid_ask:259                     DataFrame shape before timestamp filter: (86394, 5)\n",
      "02:49:39 - \u001b[36mINFO \u001b[0m extractor.py _download_bid_ask:262                     DataFrame shape after timestamp filter: (601, 5)\n",
      "02:49:39 - \u001b[36mINFO \u001b[0m extract_utils.py download_historical_data:734          Saving the dataset into s3://cryptokaizen-data-test/v3/bulk/manual/downloaded_1min/parquet/bid_ask/futures/v4/crypto_chassis/binance/v1_0_0\n"
     ]
    },
    {
     "name": "stderr",
     "output_type": "stream",
     "text": [
      "\r",
      "  0%|          | 0/1 [00:00<?, ?it/s]\r",
      "100%|██████████| 1/1 [00:01<00:00,  1.70s/it]\r",
      "100%|██████████| 1/1 [00:01<00:00,  1.70s/it]\n"
     ]
    },
    {
     "name": "stdout",
     "output_type": "stream",
     "text": [
      "02:49:39 - \u001b[36mINFO \u001b[0m extractor.py _download_bid_ask:228                     https://api.cryptochassis.com/v1/market-depth/binance-usds-futures/btcusdt?startTime=2023-02-05T00:30:00Z\n",
      "02:49:42 - \u001b[36mINFO \u001b[0m extractor.py _download_bid_ask:259                     DataFrame shape before timestamp filter: (86388, 5)\n",
      "02:49:42 - \u001b[36mINFO \u001b[0m extractor.py _download_bid_ask:262                     DataFrame shape after timestamp filter: (601, 5)\n",
      "02:49:42 - \u001b[36mINFO \u001b[0m extract_utils.py download_historical_data:734          Saving the dataset into s3://cryptokaizen-data-test/v3/bulk/manual/downloaded_1min/parquet/bid_ask/futures/v4/crypto_chassis/binance/v1_0_0\n"
     ]
    },
    {
     "name": "stderr",
     "output_type": "stream",
     "text": [
      "\r",
      "  0%|          | 0/1 [00:00<?, ?it/s]\r",
      "100%|██████████| 1/1 [00:01<00:00,  1.64s/it]\r",
      "100%|██████████| 1/1 [00:01<00:00,  1.64s/it]\n"
     ]
    },
    {
     "name": "stdout",
     "output_type": "stream",
     "text": [
      "02:49:42 - \u001b[36mINFO \u001b[0m extractor.py _download_bid_ask:228                     https://api.cryptochassis.com/v1/market-depth/binance-usds-futures/sandusdt?startTime=2023-02-05T00:30:00Z\n",
      "02:49:42 - \u001b[41mWARN \u001b[0m extractor.py _download_bid_ask:235                     No data at https://api.cryptochassis.com/v1/market-depth/binance-usds-futures/sandusdt?startTime=2023-02-05T00:30:00Z\n",
      "02:49:42 - \u001b[41mWARN \u001b[0m extractor.py _download_bid_ask:244                     No data found for given query parameters.\n"
     ]
    },
    {
     "name": "stderr",
     "output_type": "stream",
     "text": [
      "\r",
      "  0%|          | 0/1 [00:00<?, ?it/s]\r",
      "100%|██████████| 1/1 [00:00<00:00,  2.20it/s]\r",
      "100%|██████████| 1/1 [00:00<00:00,  2.19it/s]\n"
     ]
    },
    {
     "name": "stdout",
     "output_type": "stream",
     "text": [
      "02:49:42 - \u001b[36mINFO \u001b[0m extractor.py _download_bid_ask:228                     https://api.cryptochassis.com/v1/market-depth/binance-usds-futures/storjusdt?startTime=2023-02-05T00:30:00Z\n",
      "02:49:43 - \u001b[41mWARN \u001b[0m extractor.py _download_bid_ask:235                     No data at https://api.cryptochassis.com/v1/market-depth/binance-usds-futures/storjusdt?startTime=2023-02-05T00:30:00Z\n",
      "02:49:43 - \u001b[41mWARN \u001b[0m extractor.py _download_bid_ask:244                     No data found for given query parameters.\n"
     ]
    },
    {
     "name": "stderr",
     "output_type": "stream",
     "text": [
      "\r",
      "  0%|          | 0/1 [00:00<?, ?it/s]\r",
      "100%|██████████| 1/1 [00:00<00:00,  2.18it/s]\r",
      "100%|██████████| 1/1 [00:00<00:00,  2.18it/s]\n"
     ]
    },
    {
     "name": "stdout",
     "output_type": "stream",
     "text": [
      "02:49:43 - \u001b[36mINFO \u001b[0m extractor.py _download_bid_ask:228                     https://api.cryptochassis.com/v1/market-depth/binance-usds-futures/gmtusdt?startTime=2023-02-05T00:30:00Z\n",
      "02:49:43 - \u001b[41mWARN \u001b[0m extractor.py _download_bid_ask:235                     No data at https://api.cryptochassis.com/v1/market-depth/binance-usds-futures/gmtusdt?startTime=2023-02-05T00:30:00Z\n",
      "02:49:43 - \u001b[41mWARN \u001b[0m extractor.py _download_bid_ask:244                     No data found for given query parameters.\n"
     ]
    },
    {
     "name": "stderr",
     "output_type": "stream",
     "text": [
      "\r",
      "  0%|          | 0/1 [00:00<?, ?it/s]\r",
      "100%|██████████| 1/1 [00:00<00:00,  2.16it/s]\r",
      "100%|██████████| 1/1 [00:00<00:00,  2.16it/s]\n"
     ]
    },
    {
     "name": "stdout",
     "output_type": "stream",
     "text": [
      "02:49:43 - \u001b[36mINFO \u001b[0m extractor.py _download_bid_ask:228                     https://api.cryptochassis.com/v1/market-depth/binance-usds-futures/avaxusdt?startTime=2023-02-05T00:30:00Z\n",
      "02:49:44 - \u001b[41mWARN \u001b[0m extractor.py _download_bid_ask:235                     No data at https://api.cryptochassis.com/v1/market-depth/binance-usds-futures/avaxusdt?startTime=2023-02-05T00:30:00Z\n",
      "02:49:44 - \u001b[41mWARN \u001b[0m extractor.py _download_bid_ask:244                     No data found for given query parameters.\n"
     ]
    },
    {
     "name": "stderr",
     "output_type": "stream",
     "text": [
      "\r",
      "  0%|          | 0/1 [00:00<?, ?it/s]\r",
      "100%|██████████| 1/1 [00:00<00:00,  2.16it/s]\r",
      "100%|██████████| 1/1 [00:00<00:00,  2.16it/s]\n"
     ]
    },
    {
     "name": "stdout",
     "output_type": "stream",
     "text": [
      "02:49:44 - \u001b[36mINFO \u001b[0m extractor.py _download_bid_ask:228                     https://api.cryptochassis.com/v1/market-depth/binance-usds-futures/bnbusdt?startTime=2023-02-05T00:30:00Z\n",
      "02:49:46 - \u001b[36mINFO \u001b[0m extractor.py _download_bid_ask:259                     DataFrame shape before timestamp filter: (86278, 5)\n",
      "02:49:46 - \u001b[36mINFO \u001b[0m extractor.py _download_bid_ask:262                     DataFrame shape after timestamp filter: (599, 5)\n",
      "02:49:46 - \u001b[36mINFO \u001b[0m extract_utils.py download_historical_data:734          Saving the dataset into s3://cryptokaizen-data-test/v3/bulk/manual/downloaded_1min/parquet/bid_ask/futures/v4/crypto_chassis/binance/v1_0_0\n"
     ]
    },
    {
     "name": "stderr",
     "output_type": "stream",
     "text": [
      "\r",
      "  0%|          | 0/1 [00:00<?, ?it/s]\r",
      "100%|██████████| 1/1 [00:01<00:00,  1.65s/it]\r",
      "100%|██████████| 1/1 [00:01<00:00,  1.65s/it]\n"
     ]
    },
    {
     "name": "stdout",
     "output_type": "stream",
     "text": [
      "02:49:46 - \u001b[36mINFO \u001b[0m extractor.py _download_bid_ask:228                     https://api.cryptochassis.com/v1/market-depth/binance-usds-futures/apeusdt?startTime=2023-02-05T00:30:00Z\n",
      "02:49:47 - \u001b[41mWARN \u001b[0m extractor.py _download_bid_ask:235                     No data at https://api.cryptochassis.com/v1/market-depth/binance-usds-futures/apeusdt?startTime=2023-02-05T00:30:00Z\n",
      "02:49:47 - \u001b[41mWARN \u001b[0m extractor.py _download_bid_ask:244                     No data found for given query parameters.\n"
     ]
    },
    {
     "name": "stderr",
     "output_type": "stream",
     "text": [
      "\r",
      "  0%|          | 0/1 [00:00<?, ?it/s]\r",
      "100%|██████████| 1/1 [00:00<00:00,  2.19it/s]\r",
      "100%|██████████| 1/1 [00:00<00:00,  2.19it/s]\n"
     ]
    },
    {
     "name": "stdout",
     "output_type": "stream",
     "text": [
      "02:49:47 - \u001b[36mINFO \u001b[0m extractor.py _download_bid_ask:228                     https://api.cryptochassis.com/v1/market-depth/binance-usds-futures/maticusdt?startTime=2023-02-05T00:30:00Z\n",
      "02:49:47 - \u001b[41mWARN \u001b[0m extractor.py _download_bid_ask:235                     No data at https://api.cryptochassis.com/v1/market-depth/binance-usds-futures/maticusdt?startTime=2023-02-05T00:30:00Z\n",
      "02:49:47 - \u001b[41mWARN \u001b[0m extractor.py _download_bid_ask:244                     No data found for given query parameters.\n"
     ]
    },
    {
     "name": "stderr",
     "output_type": "stream",
     "text": [
      "\r",
      "  0%|          | 0/1 [00:00<?, ?it/s]\r",
      "100%|██████████| 1/1 [00:00<00:00,  2.20it/s]\r",
      "100%|██████████| 1/1 [00:00<00:00,  2.20it/s]\n"
     ]
    },
    {
     "name": "stdout",
     "output_type": "stream",
     "text": [
      "02:49:47 - \u001b[36mINFO \u001b[0m extractor.py _download_bid_ask:228                     https://api.cryptochassis.com/v1/market-depth/binance-usds-futures/dotusdt?startTime=2023-02-05T00:30:00Z\n",
      "02:49:50 - \u001b[36mINFO \u001b[0m extractor.py _download_bid_ask:259                     DataFrame shape before timestamp filter: (85544, 5)\n",
      "02:49:50 - \u001b[36mINFO \u001b[0m extractor.py _download_bid_ask:262                     DataFrame shape after timestamp filter: (597, 5)\n",
      "02:49:50 - \u001b[36mINFO \u001b[0m extract_utils.py download_historical_data:734          Saving the dataset into s3://cryptokaizen-data-test/v3/bulk/manual/downloaded_1min/parquet/bid_ask/futures/v4/crypto_chassis/binance/v1_0_0\n"
     ]
    },
    {
     "name": "stderr",
     "output_type": "stream",
     "text": [
      "\r",
      "  0%|          | 0/1 [00:00<?, ?it/s]\r",
      "100%|██████████| 1/1 [00:01<00:00,  1.64s/it]\r",
      "100%|██████████| 1/1 [00:01<00:00,  1.64s/it]\n"
     ]
    },
    {
     "name": "stdout",
     "output_type": "stream",
     "text": [
      "02:49:50 - \u001b[36mINFO \u001b[0m extractor.py _download_bid_ask:228                     https://api.cryptochassis.com/v1/market-depth/binance-usds-futures/unfiusdt?startTime=2023-02-05T00:30:00Z\n",
      "02:49:50 - \u001b[41mWARN \u001b[0m extractor.py _download_bid_ask:235                     No data at https://api.cryptochassis.com/v1/market-depth/binance-usds-futures/unfiusdt?startTime=2023-02-05T00:30:00Z\n",
      "02:49:50 - \u001b[41mWARN \u001b[0m extractor.py _download_bid_ask:244                     No data found for given query parameters.\n"
     ]
    },
    {
     "name": "stderr",
     "output_type": "stream",
     "text": [
      "\r",
      "  0%|          | 0/1 [00:00<?, ?it/s]\r",
      "100%|██████████| 1/1 [00:00<00:00,  2.18it/s]\r",
      "100%|██████████| 1/1 [00:00<00:00,  2.18it/s]\n"
     ]
    },
    {
     "name": "stdout",
     "output_type": "stream",
     "text": [
      "02:49:50 - \u001b[36mINFO \u001b[0m extractor.py _download_bid_ask:228                     https://api.cryptochassis.com/v1/market-depth/binance-usds-futures/linkusdt?startTime=2023-02-05T00:30:00Z\n",
      "02:49:51 - \u001b[41mWARN \u001b[0m extractor.py _download_bid_ask:235                     No data at https://api.cryptochassis.com/v1/market-depth/binance-usds-futures/linkusdt?startTime=2023-02-05T00:30:00Z\n",
      "02:49:51 - \u001b[41mWARN \u001b[0m extractor.py _download_bid_ask:244                     No data found for given query parameters.\n"
     ]
    },
    {
     "name": "stderr",
     "output_type": "stream",
     "text": [
      "\r",
      "  0%|          | 0/1 [00:00<?, ?it/s]\r",
      "100%|██████████| 1/1 [00:00<00:00,  2.18it/s]\r",
      "100%|██████████| 1/1 [00:00<00:00,  2.18it/s]\n"
     ]
    },
    {
     "name": "stdout",
     "output_type": "stream",
     "text": [
      "02:49:51 - \u001b[36mINFO \u001b[0m extractor.py _download_bid_ask:228                     https://api.cryptochassis.com/v1/market-depth/binance-usds-futures/xrpusdt?startTime=2023-02-05T00:30:00Z\n",
      "02:49:53 - \u001b[36mINFO \u001b[0m extractor.py _download_bid_ask:259                     DataFrame shape before timestamp filter: (86377, 5)\n",
      "02:49:53 - \u001b[36mINFO \u001b[0m extractor.py _download_bid_ask:262                     DataFrame shape after timestamp filter: (600, 5)\n",
      "02:49:53 - \u001b[36mINFO \u001b[0m extract_utils.py download_historical_data:734          Saving the dataset into s3://cryptokaizen-data-test/v3/bulk/manual/downloaded_1min/parquet/bid_ask/futures/v4/crypto_chassis/binance/v1_0_0\n"
     ]
    },
    {
     "name": "stderr",
     "output_type": "stream",
     "text": [
      "\r",
      "  0%|          | 0/1 [00:00<?, ?it/s]\r",
      "100%|██████████| 1/1 [00:01<00:00,  1.80s/it]\r",
      "100%|██████████| 1/1 [00:01<00:00,  1.80s/it]\n"
     ]
    },
    {
     "name": "stdout",
     "output_type": "stream",
     "text": [
      "02:49:53 - \u001b[36mINFO \u001b[0m extractor.py _download_bid_ask:228                     https://api.cryptochassis.com/v1/market-depth/binance-usds-futures/runeusdt?startTime=2023-02-05T00:30:00Z\n",
      "02:49:54 - \u001b[41mWARN \u001b[0m extractor.py _download_bid_ask:235                     No data at https://api.cryptochassis.com/v1/market-depth/binance-usds-futures/runeusdt?startTime=2023-02-05T00:30:00Z\n",
      "02:49:54 - \u001b[41mWARN \u001b[0m extractor.py _download_bid_ask:244                     No data found for given query parameters.\n"
     ]
    },
    {
     "name": "stderr",
     "output_type": "stream",
     "text": [
      "\r",
      "  0%|          | 0/1 [00:00<?, ?it/s]\r",
      "100%|██████████| 1/1 [00:00<00:00,  2.21it/s]\r",
      "100%|██████████| 1/1 [00:00<00:00,  2.21it/s]\n"
     ]
    },
    {
     "name": "stdout",
     "output_type": "stream",
     "text": [
      "02:49:54 - \u001b[36mINFO \u001b[0m extractor.py _download_bid_ask:228                     https://api.cryptochassis.com/v1/market-depth/binance-usds-futures/nearusdt?startTime=2023-02-05T00:30:00Z\n",
      "02:49:54 - \u001b[41mWARN \u001b[0m extractor.py _download_bid_ask:235                     No data at https://api.cryptochassis.com/v1/market-depth/binance-usds-futures/nearusdt?startTime=2023-02-05T00:30:00Z\n",
      "02:49:54 - \u001b[41mWARN \u001b[0m extractor.py _download_bid_ask:244                     No data found for given query parameters.\n"
     ]
    },
    {
     "name": "stderr",
     "output_type": "stream",
     "text": [
      "\r",
      "  0%|          | 0/1 [00:00<?, ?it/s]\r",
      "100%|██████████| 1/1 [00:00<00:00,  2.22it/s]\r",
      "100%|██████████| 1/1 [00:00<00:00,  2.22it/s]\n"
     ]
    },
    {
     "name": "stdout",
     "output_type": "stream",
     "text": [
      "02:49:54 - \u001b[36mINFO \u001b[0m extractor.py _download_bid_ask:228                     https://api.cryptochassis.com/v1/market-depth/binance-usds-futures/ftmusdt?startTime=2023-02-05T00:30:00Z\n",
      "02:49:55 - \u001b[41mWARN \u001b[0m extractor.py _download_bid_ask:235                     No data at https://api.cryptochassis.com/v1/market-depth/binance-usds-futures/ftmusdt?startTime=2023-02-05T00:30:00Z\n",
      "02:49:55 - \u001b[41mWARN \u001b[0m extractor.py _download_bid_ask:244                     No data found for given query parameters.\n"
     ]
    },
    {
     "name": "stderr",
     "output_type": "stream",
     "text": [
      "\r",
      "  0%|          | 0/1 [00:00<?, ?it/s]\r",
      "100%|██████████| 1/1 [00:00<00:00,  2.17it/s]\r",
      "100%|██████████| 1/1 [00:00<00:00,  2.17it/s]\n"
     ]
    },
    {
     "name": "stdout",
     "output_type": "stream",
     "text": [
      "02:49:55 - \u001b[36mINFO \u001b[0m extractor.py _download_bid_ask:228                     https://api.cryptochassis.com/v1/market-depth/binance-usds-futures/wavesusdt?startTime=2023-02-05T00:30:00Z\n",
      "02:49:55 - \u001b[41mWARN \u001b[0m extractor.py _download_bid_ask:235                     No data at https://api.cryptochassis.com/v1/market-depth/binance-usds-futures/wavesusdt?startTime=2023-02-05T00:30:00Z\n",
      "02:49:55 - \u001b[41mWARN \u001b[0m extractor.py _download_bid_ask:244                     No data found for given query parameters.\n"
     ]
    },
    {
     "name": "stderr",
     "output_type": "stream",
     "text": [
      "\r",
      "  0%|          | 0/1 [00:00<?, ?it/s]\r",
      "100%|██████████| 1/1 [00:00<00:00,  2.19it/s]\r",
      "100%|██████████| 1/1 [00:00<00:00,  2.19it/s]\n"
     ]
    },
    {
     "name": "stdout",
     "output_type": "stream",
     "text": [
      "02:49:55 - \u001b[36mINFO \u001b[0m extractor.py _download_bid_ask:228                     https://api.cryptochassis.com/v1/market-depth/binance-usds-futures/axsusdt?startTime=2023-02-05T00:30:00Z\n",
      "02:49:56 - \u001b[41mWARN \u001b[0m extractor.py _download_bid_ask:235                     No data at https://api.cryptochassis.com/v1/market-depth/binance-usds-futures/axsusdt?startTime=2023-02-05T00:30:00Z\n",
      "02:49:56 - \u001b[41mWARN \u001b[0m extractor.py _download_bid_ask:244                     No data found for given query parameters.\n"
     ]
    },
    {
     "name": "stderr",
     "output_type": "stream",
     "text": [
      "\r",
      "  0%|          | 0/1 [00:00<?, ?it/s]\r",
      "100%|██████████| 1/1 [00:00<00:00,  2.22it/s]\r",
      "100%|██████████| 1/1 [00:00<00:00,  2.22it/s]\n"
     ]
    },
    {
     "name": "stdout",
     "output_type": "stream",
     "text": [
      "02:49:56 - \u001b[36mINFO \u001b[0m extractor.py _download_bid_ask:228                     https://api.cryptochassis.com/v1/market-depth/binance-usds-futures/ognusdt?startTime=2023-02-05T00:30:00Z\n",
      "02:49:56 - \u001b[41mWARN \u001b[0m extractor.py _download_bid_ask:235                     No data at https://api.cryptochassis.com/v1/market-depth/binance-usds-futures/ognusdt?startTime=2023-02-05T00:30:00Z\n",
      "02:49:56 - \u001b[41mWARN \u001b[0m extractor.py _download_bid_ask:244                     No data found for given query parameters.\n"
     ]
    },
    {
     "name": "stderr",
     "output_type": "stream",
     "text": [
      "\r",
      "  0%|          | 0/1 [00:00<?, ?it/s]\r",
      "100%|██████████| 1/1 [00:00<00:00,  2.15it/s]\r",
      "100%|██████████| 1/1 [00:00<00:00,  2.15it/s]\n"
     ]
    },
    {
     "name": "stdout",
     "output_type": "stream",
     "text": [
      "02:49:56 - \u001b[36mINFO \u001b[0m extractor.py _download_bid_ask:228                     https://api.cryptochassis.com/v1/market-depth/binance-usds-futures/dogeusdt?startTime=2023-02-05T00:30:00Z\n",
      "02:49:59 - \u001b[36mINFO \u001b[0m extractor.py _download_bid_ask:259                     DataFrame shape before timestamp filter: (86388, 5)\n",
      "02:49:59 - \u001b[36mINFO \u001b[0m extractor.py _download_bid_ask:262                     DataFrame shape after timestamp filter: (601, 5)\n",
      "02:49:59 - \u001b[36mINFO \u001b[0m extract_utils.py download_historical_data:734          Saving the dataset into s3://cryptokaizen-data-test/v3/bulk/manual/downloaded_1min/parquet/bid_ask/futures/v4/crypto_chassis/binance/v1_0_0\n"
     ]
    },
    {
     "name": "stderr",
     "output_type": "stream",
     "text": [
      "\r",
      "  0%|          | 0/1 [00:00<?, ?it/s]\r",
      "100%|██████████| 1/1 [00:01<00:00,  1.65s/it]\r",
      "100%|██████████| 1/1 [00:01<00:00,  1.65s/it]\n"
     ]
    },
    {
     "name": "stdout",
     "output_type": "stream",
     "text": [
      "02:49:59 - \u001b[36mINFO \u001b[0m extractor.py _download_bid_ask:228                     https://api.cryptochassis.com/v1/market-depth/binance-usds-futures/solusdt?startTime=2023-02-05T00:30:00Z\n",
      "02:50:01 - \u001b[36mINFO \u001b[0m extractor.py _download_bid_ask:259                     DataFrame shape before timestamp filter: (85307, 5)\n",
      "02:50:01 - \u001b[36mINFO \u001b[0m extractor.py _download_bid_ask:262                     DataFrame shape after timestamp filter: (599, 5)\n",
      "02:50:01 - \u001b[36mINFO \u001b[0m extract_utils.py download_historical_data:734          Saving the dataset into s3://cryptokaizen-data-test/v3/bulk/manual/downloaded_1min/parquet/bid_ask/futures/v4/crypto_chassis/binance/v1_0_0\n"
     ]
    },
    {
     "name": "stderr",
     "output_type": "stream",
     "text": [
      "\r",
      "  0%|          | 0/1 [00:00<?, ?it/s]\r",
      "100%|██████████| 1/1 [00:01<00:00,  1.66s/it]\r",
      "100%|██████████| 1/1 [00:01<00:00,  1.66s/it]\n"
     ]
    },
    {
     "name": "stdout",
     "output_type": "stream",
     "text": [
      "02:50:02 - \u001b[36mINFO \u001b[0m hcache.py clear_global_cache:292                       Before clear_global_cache: 'global mem' cache: path='/mnt/tmpfs/tmp.cache.mem', size=32.0 KB\n",
      "02:50:02 - \u001b[41mWARN \u001b[0m hcache.py clear_global_cache:293                       Resetting 'global mem' cache '/mnt/tmpfs/tmp.cache.mem'\n",
      "02:50:02 - \u001b[41mWARN \u001b[0m hcache.py clear_global_cache:303                       Destroying '/mnt/tmpfs/tmp.cache.mem' ...\n",
      "02:50:02 - \u001b[36mINFO \u001b[0m hcache.py clear_global_cache:319                       After clear_global_cache: 'global mem' cache: path='/mnt/tmpfs/tmp.cache.mem', size=nan\n"
     ]
    }
   ],
   "source": [
    "%%bash\n",
    "/app/im_v2/common/data/extract/download_bulk.py \\\n",
    "    --download_mode 'bulk' \\\n",
    "    --downloading_entity 'manual' \\\n",
    "    --action_tag 'downloaded_1min' \\\n",
    "    --vendor 'crypto_chassis' \\\n",
    "    --start_timestamp '2023-02-05T00:30:00+00:00' \\\n",
    "    --end_timestamp '2023-02-05T00:40:00+00:00' \\\n",
    "    --exchange_id 'binance' \\\n",
    "    --universe 'v4' \\\n",
    "    --aws_profile 'ck' \\\n",
    "    --data_type 'bid_ask' \\\n",
    "    --data_format 'parquet' \\\n",
    "    --contract_type 'futures' \\\n",
    "    --s3_path 's3://cryptokaizen-data-test/'"
   ]
  },
  {
   "cell_type": "markdown",
   "id": "9e18c1d0",
   "metadata": {},
   "source": [
    "# Test resample_daily_bid_ask_data.py"
   ]
  },
  {
   "cell_type": "code",
   "execution_count": 14,
   "id": "29d15e1f",
   "metadata": {
    "ExecuteTime": {
     "end_time": "2023-03-14T06:58:19.336586Z",
     "start_time": "2023-03-14T06:57:27.236156Z"
    }
   },
   "outputs": [
    {
     "name": "stdout",
     "output_type": "stream",
     "text": [
      "\u001b[0m\u001b[36mINFO\u001b[0m: > cmd='/app/im_v2/common/data/transform/resample_daily_bid_ask_data.py --start_timestamp 20230101-000000 --end_timestamp 20230102-000000 --src_dir s3://cryptokaizen-data/v3/periodic_daily/airflow/downloaded_1sec/parquet/bid_ask/futures/v3/crypto_chassis/binance/v1_0_0 --dst_dir s3://cryptokaizen-data-test/v3/periodic_daily/airflow/resampled_1min/parquet/bid_ask/futures/v3/crypto_chassis/binance/v1_0_0'\n",
      "report_memory_usage=False report_cpu_usage=False\n",
      "\u001b[36mINFO\u001b[0m: Saving log to file '/app/im_v2/common/data/transform/resample_daily_bid_ask_data.py.log'\n",
      "02:57:30 - \u001b[36mINFO \u001b[0m dataset_schema_utils.py _get_dataset_schema_file_path:39 Loading dataset schema file: /app/data_schema/dataset_schema_versions/dataset_schema_v3.json\n",
      "02:57:30 - \u001b[36mINFO \u001b[0m dataset_schema_utils.py get_dataset_schema:74          Loaded dataset schema version v3\n",
      "02:57:30 - \u001b[36mINFO \u001b[0m dataset_schema_utils.py _get_dataset_schema_file_path:39 Loading dataset schema file: /app/data_schema/dataset_schema_versions/dataset_schema_v3.json\n",
      "02:57:30 - \u001b[36mINFO \u001b[0m dataset_schema_utils.py get_dataset_schema:74          Loaded dataset schema version v3\n",
      "02:58:13 - \u001b[36mINFO \u001b[0m resample_daily_bid_ask_data.py _run:83                 # Resampled data=\n",
      "index=[0, 12968]\n",
      "columns=timestamp,level_1.bid_price.close,level_1.bid_size.close,level_1.ask_price.close,level_1.ask_size.close,level_1.bid_price.high,level_1.bid_size.max,level_1.ask_price.high,level_1.ask_size.max,level_1.bid_price.low,level_1.bid_size.min,level_1.ask_price.low,level_1.ask_size.min,level_1.bid_price.mean,level_1.bid_size.mean,level_1.ask_price.mean,level_1.ask_size.mean,level_2.bid_price.close,level_2.bid_size.close,level_2.ask_price.close,level_2.ask_size.close,level_2.bid_price.high,level_2.bid_size.max,level_2.ask_price.high,level_2.ask_size.max,level_2.bid_price.low,level_2.bid_size.min,level_2.ask_price.low,level_2.ask_size.min,level_2.bid_price.mean,level_2.bid_size.mean,level_2.ask_price.mean,level_2.ask_size.mean,level_3.bid_price.close,level_3.bid_size.close,level_3.ask_price.close,level_3.ask_size.close,level_3.bid_price.high,level_3.bid_size.max,level_3.ask_price.high,level_3.ask_size.max,level_3.bid_price.low,level_3.bid_size.min,level_3.ask_price.low,level_3.ask_size.min,level_3.bid_price.mean,level_3.bid_size.mean,level_3.ask_price.mean,level_3.ask_size.mean,level_4.bid_price.close,level_4.bid_size.close,level_4.ask_price.close,level_4.ask_size.close,level_4.bid_price.high,level_4.bid_size.max,level_4.ask_price.high,level_4.ask_size.max,level_4.bid_price.low,level_4.bid_size.min,level_4.ask_price.low,level_4.ask_size.min,level_4.bid_price.mean,level_4.bid_size.mean,level_4.ask_price.mean,level_4.ask_size.mean,level_5.bid_price.close,level_5.bid_size.close,level_5.ask_price.close,level_5.ask_size.close,level_5.bid_price.high,level_5.bid_size.max,level_5.ask_price.high,level_5.ask_size.max,level_5.bid_price.low,level_5.bid_size.min,level_5.ask_price.low,level_5.ask_size.min,level_5.bid_price.mean,level_5.bid_size.mean,level_5.ask_price.mean,level_5.ask_size.mean,level_6.bid_price.close,level_6.bid_size.close,level_6.ask_price.close,level_6.ask_size.close,level_6.bid_price.high,level_6.bid_size.max,level_6.ask_price.high,level_6.ask_size.max,level_6.bid_price.low,level_6.bid_size.min,level_6.ask_price.low,level_6.ask_size.min,level_6.bid_price.mean,level_6.bid_size.mean,level_6.ask_price.mean,level_6.ask_size.mean,level_7.bid_price.close,level_7.bid_size.close,level_7.ask_price.close,level_7.ask_size.close,level_7.bid_price.high,level_7.bid_size.max,level_7.ask_price.high,level_7.ask_size.max,level_7.bid_price.low,level_7.bid_size.min,level_7.ask_price.low,level_7.ask_size.min,level_7.bid_price.mean,level_7.bid_size.mean,level_7.ask_price.mean,level_7.ask_size.mean,level_8.bid_price.close,level_8.bid_size.close,level_8.ask_price.close,level_8.ask_size.close,level_8.bid_price.high,level_8.bid_size.max,level_8.ask_price.high,level_8.ask_size.max,level_8.bid_price.low,level_8.bid_size.min,level_8.ask_price.low,level_8.ask_size.min,level_8.bid_price.mean,level_8.bid_size.mean,level_8.ask_price.mean,level_8.ask_size.mean,level_9.bid_price.close,level_9.bid_size.close,level_9.ask_price.close,level_9.ask_size.close,level_9.bid_price.high,level_9.bid_size.max,level_9.ask_price.high,level_9.ask_size.max,level_9.bid_price.low,level_9.bid_size.min,level_9.ask_price.low,level_9.ask_size.min,level_9.bid_price.mean,level_9.bid_size.mean,level_9.ask_price.mean,level_9.ask_size.mean,level_10.bid_price.close,level_10.bid_size.close,level_10.ask_price.close,level_10.ask_size.close,level_10.bid_price.high,level_10.bid_size.max,level_10.ask_price.high,level_10.ask_size.max,level_10.bid_price.low,level_10.bid_size.min,level_10.ask_price.low,level_10.ask_size.min,level_10.bid_price.mean,level_10.bid_size.mean,level_10.ask_price.mean,level_10.ask_size.mean,exchange_id,currency_pair,knowledge_timestamp\n",
      "shape=(12969, 164)\n",
      "    timestamp  level_1.bid_price.close  level_1.bid_size.close  level_1.ask_price.close  level_1.ask_size.close  level_1.bid_price.high  level_1.bid_size.max  level_1.ask_price.high  level_1.ask_size.max  level_1.bid_price.low  level_1.bid_size.min  level_1.ask_price.low  level_1.ask_size.min  level_1.bid_price.mean  level_1.bid_size.mean  level_1.ask_price.mean  level_1.ask_size.mean  level_2.bid_price.close  level_2.bid_size.close  level_2.ask_price.close  level_2.ask_size.close  level_2.bid_price.high  level_2.bid_size.max  level_2.ask_price.high  level_2.ask_size.max  level_2.bid_price.low  level_2.bid_size.min  level_2.ask_price.low  level_2.ask_size.min  level_2.bid_price.mean  level_2.bid_size.mean  level_2.ask_price.mean  level_2.ask_size.mean  level_3.bid_price.close  level_3.bid_size.close  level_3.ask_price.close  level_3.ask_size.close  level_3.bid_price.high  level_3.bid_size.max  level_3.ask_price.high  level_3.ask_size.max  level_3.bid_price.low  level_3.bid_size.min  level_3.ask_price.low  level_3.ask_size.min  level_3.bid_price.mean  level_3.bid_size.mean  level_3.ask_price.mean  level_3.ask_size.mean  level_4.bid_price.close  level_4.bid_size.close  level_4.ask_price.close  level_4.ask_size.close  level_4.bid_price.high  level_4.bid_size.max  level_4.ask_price.high  level_4.ask_size.max  level_4.bid_price.low  level_4.bid_size.min  level_4.ask_price.low  level_4.ask_size.min  level_4.bid_price.mean  level_4.bid_size.mean  level_4.ask_price.mean  level_4.ask_size.mean  level_5.bid_price.close  level_5.bid_size.close  level_5.ask_price.close  level_5.ask_size.close  level_5.bid_price.high  level_5.bid_size.max  level_5.ask_price.high  level_5.ask_size.max  level_5.bid_price.low  level_5.bid_size.min  level_5.ask_price.low  level_5.ask_size.min  level_5.bid_price.mean  level_5.bid_size.mean  level_5.ask_price.mean  level_5.ask_size.mean  level_6.bid_price.close  level_6.bid_size.close  level_6.ask_price.close  level_6.ask_size.close  level_6.bid_price.high  level_6.bid_size.max  level_6.ask_price.high  level_6.ask_size.max  level_6.bid_price.low  level_6.bid_size.min  level_6.ask_price.low  level_6.ask_size.min  level_6.bid_price.mean  level_6.bid_size.mean  level_6.ask_price.mean  level_6.ask_size.mean  level_7.bid_price.close  level_7.bid_size.close  level_7.ask_price.close  level_7.ask_size.close  level_7.bid_price.high  level_7.bid_size.max  level_7.ask_price.high  level_7.ask_size.max  level_7.bid_price.low  level_7.bid_size.min  level_7.ask_price.low  level_7.ask_size.min  level_7.bid_price.mean  level_7.bid_size.mean  level_7.ask_price.mean  level_7.ask_size.mean  level_8.bid_price.close  level_8.bid_size.close  level_8.ask_price.close  level_8.ask_size.close  level_8.bid_price.high  level_8.bid_size.max  level_8.ask_price.high  level_8.ask_size.max  level_8.bid_price.low  level_8.bid_size.min  level_8.ask_price.low  level_8.ask_size.min  level_8.bid_price.mean  level_8.bid_size.mean  level_8.ask_price.mean  level_8.ask_size.mean  level_9.bid_price.close  level_9.bid_size.close  level_9.ask_price.close  level_9.ask_size.close  level_9.bid_price.high  level_9.bid_size.max  level_9.ask_price.high  level_9.ask_size.max  level_9.bid_price.low  level_9.bid_size.min  level_9.ask_price.low  level_9.ask_size.min  level_9.bid_price.mean  level_9.bid_size.mean  level_9.ask_price.mean  level_9.ask_size.mean  level_10.bid_price.close  level_10.bid_size.close  level_10.ask_price.close  level_10.ask_size.close  level_10.bid_price.high  level_10.bid_size.max  level_10.ask_price.high  level_10.ask_size.max  level_10.bid_price.low  level_10.bid_size.min  level_10.ask_price.low  level_10.ask_size.min  level_10.bid_price.mean  level_10.bid_size.mean  level_10.ask_price.mean  level_10.ask_size.mean exchange_id currency_pair              knowledge_timestamp\n"
     ]
    },
    {
     "name": "stdout",
     "output_type": "stream",
     "text": [
      "0  1672531260                   0.2457                281708.0                   0.2458                235772.0                  0.2457              337026.0                  0.2458              235772.0                 0.2455              133982.0                 0.2456               19375.0                0.245557          276876.683333                0.245657           99695.316667                   0.2456                272414.0                   0.2459                381160.0                  0.2456              421980.0                  0.2459              520651.0                 0.2454              213752.0                 0.2457              311555.0                0.245457          345727.833333                0.245757          436801.000000                   0.2455                379938.0                   0.2460                310004.0                  0.2455              475359.0                   0.246              450444.0                 0.2453              275470.0                 0.2458              262500.0                0.245357          433366.016667                0.245857          367198.000000                   0.2454                476908.0                   0.2461                295020.0                  0.2454              496585.0                  0.2461              321299.0                 0.2452              363431.0                 0.2459              128012.0                0.245257          455959.550000                0.245957          257658.766667                   0.2453                471637.0                   0.2462                297999.0                  0.2453              541804.0                  0.2462              349955.0                 0.2451              298661.0                 0.2460              213610.0                0.245157          411192.700000                0.246057          262417.000000                   0.2452                548612.0                   0.2463                272133.0                  0.2452              554920.0                  0.2463              422206.0                 0.2450              221462.0                 0.2461              240505.0                0.245057               406783.0                0.246157          317491.516667                   0.2451                438641.0                   0.2464                298550.0                  0.2451              547233.0                  0.2464              370898.0                 0.2449              158111.0                 0.2462              188854.0                0.244957          344099.366667                0.246257          307028.633333                   0.2450                486556.0                   0.2465                340200.0                   0.245              486556.0                  0.2465              340200.0                 0.2448               80697.0                 0.2463              183535.0                0.244857          156343.966667                0.246357          222951.216667                   0.2449                208982.0                   0.2466                268821.0                  0.2449              699070.0                  0.2466              346116.0                 0.2447               80819.0                 0.2464              193700.0                0.244757          355041.116667                0.246457          279485.583333                    0.2448                 100848.0                    0.2467                 272141.0                   0.2448               678204.0                   0.2467               356905.0                  0.2446               100848.0                  0.2465               168512.0                 0.244657           397003.916667                 0.246557           283733.683333     binance      ADA_USDT 2023-03-14 06:58:13.688858+00:00\n",
      "1  1672531320                   0.2457                294305.0                   0.2458                184966.0                  0.2457              305037.0                  0.2458              245903.0                 0.2457              273372.0                 0.2458               11796.0                0.245700          290545.933333                0.245800          167599.666667                   0.2456                332205.0                   0.2459                372676.0                  0.2456              395734.0                  0.2459              413656.0                 0.2456              264039.0                 0.2459              322961.0                0.245600          307003.766667                0.245900          376670.550000                   0.2455                393487.0                   0.2460                283383.0                  0.2455              424085.0                   0.246              440789.0                 0.2455              373985.0                 0.2460              245860.0                0.245500          397439.383333                0.246000          383545.816667                   0.2454                461751.0                   0.2461                439326.0                  0.2454              477518.0                  0.2461              439326.0                 0.2454              424871.0                 0.2461              295020.0                0.245400          436876.916667                0.246100          374058.116667                   0.2453                460025.0                   0.2462                411678.0                  0.2453              560723.0                  0.2462              454820.0                 0.2453              451531.0                 0.2462              321175.0                0.245300          530110.116667                0.246200          413253.233333                   0.2452                558886.0                   0.2463                691618.0                  0.2452              627010.0                  0.2463              691618.0                 0.2452              497077.0                 0.2463              271322.0                0.245200               560690.5                0.246300          483897.266667                   0.2451                502203.0                   0.2464                288364.0                  0.2451              555037.0                  0.2464              371243.0                 0.2451              438641.0                 0.2464              235921.0                0.245100          512717.266667                0.246400          336312.050000                   0.2450                495596.0                   0.2465                376788.0                   0.245              565902.0                  0.2465              463963.0                 0.2450              442267.0                 0.2465              335959.0                0.245000          479571.283333                0.246500          434864.500000                   0.2449                237916.0                   0.2466                272098.0                  0.2449              254787.0                  0.2466              332645.0                 0.2449              165006.0                 0.2466              268821.0                0.244900          202947.566667                0.246600          279576.800000                    0.2448                 120347.0                    0.2467                 260359.0                   0.2448               120848.0                   0.2467               292242.0                  0.2448               100848.0                  0.2467               260359.0                 0.244800           118572.533333                 0.246700           283926.300000     binance      ADA_USDT 2023-03-14 06:58:13.688858+00:00\n",
      "2  1672531380                   0.2456                208385.0                   0.2457                285082.0                  0.2457              295636.0                  0.2458              358741.0                 0.2456              201144.0                 0.2457               28333.0                0.245660          254458.200000                0.245760          191211.933333                   0.2455                310030.0                   0.2458                464004.0                  0.2456              336368.0                  0.2459              507415.0                 0.2455              297515.0                 0.2458              357379.0                0.245560          316707.966667                0.245860          420277.083333                   0.2454                455779.0                   0.2459                540162.0                  0.2455              475073.0                   0.246              540162.0                 0.2454              358050.0                 0.2459              266289.0                0.245460          425546.516667                0.245960          408112.650000                   0.2453                425063.0                   0.2460                313629.0                  0.2454              500446.0                  0.2461              439398.0                 0.2453              401806.0                 0.2460              259123.0                0.245360          453348.466667                0.246060          373672.716667                   0.2452                564113.0                   0.2461                524079.0                  0.2453              564724.0                  0.2462              570260.0                 0.2452              391539.0                 0.2461              342816.0                0.245260          469547.583333                0.246160          489602.950000                   0.2451                460678.0                   0.2462                522947.0                  0.2452              688525.0                  0.2463              691618.0                 0.2451              433387.0                 0.2462              354162.0                0.245160               542889.8                0.246260          589697.733333                   0.2450                450455.0                   0.2463                526607.0                  0.2451              565846.0                  0.2464              606944.0                 0.2450              389207.0                 0.2463              255860.0                0.245060          469270.883333                0.246360          385349.933333                   0.2449                298754.0                   0.2464                231359.0                   0.245              558260.0                  0.2465              449526.0                 0.2449              157554.0                 0.2464              209910.0                0.244960          398750.766667                0.246460          324378.666667                   0.2448                119115.0                   0.2465                420680.0                  0.2449              174953.0                  0.2466              420680.0                 0.2448              100390.0                 0.2465              235304.0                0.244860          144075.050000                0.246560          317165.333333                    0.2447                1041574.0                    0.2466                 249591.0                   0.2448              1055644.0                   0.2467               299077.0                  0.2447               117435.0                  0.2466               231526.0                 0.244760           488737.050000                 0.246660           258200.366667     binance      ADA_USDT 2023-03-14 06:58:13.688858+00:00\n"
     ]
    },
    {
     "name": "stdout",
     "output_type": "stream",
     "text": [
      "...\n",
      "12966  1672617540                   0.3384                335815.4                   0.3385                291843.7                  0.3384              351308.2                  0.3385              405218.1                 0.3384              261935.9                 0.3385              290848.3                0.338400          316435.800000                0.338500          311371.535000                   0.3383                691784.2                   0.3386                556710.4                  0.3383              737037.6                  0.3386              558649.5                 0.3383              664093.3                 0.3386              519631.0                0.338300             703781.845                0.338600          542574.066667                   0.3382                844911.2                   0.3387                507544.5                  0.3382              845764.9                  0.3387              649267.8                 0.3382              703243.7                 0.3387              498183.7                0.338200          796248.625000                0.338700             532292.775                   0.3381                781766.9                   0.3388                497293.4                  0.3381              965891.6                  0.3388              498179.8                 0.3381              777100.4                 0.3388              466944.2                0.338100          840984.633333                0.338800          487478.506667                    0.338                274792.3                   0.3389                559798.5                  0.3380              306150.0                  0.3389              581418.2                  0.338              274743.5                 0.3389              553570.7                0.338000          282444.491667                0.338900          563722.395000                   0.3379                500836.8                    0.339                669142.6                  0.3379              504881.1                  0.3390              699478.8                 0.3379              444469.9                  0.339              669142.6                0.337900          494941.471667                0.339000          679948.690000                   0.3378                364037.3                   0.3391                645291.6                  0.3378              405678.1                  0.3391              646576.9                 0.3378              364037.3                 0.3391              625920.0                0.337800          375601.058333                0.339100          635519.626667                   0.3377                681643.1                   0.3392                494004.9                  0.3377              698879.5                  0.3392              518085.6                 0.3377              630296.0                 0.3392              454221.3                0.337700          676832.061667                0.339200          494815.858333                   0.3376                972334.2                   0.3393                415337.2                  0.3376              981374.9                  0.3393              433144.9                 0.3376              939796.3                 0.3393              389379.4                0.337600             970764.375                0.339300              422523.59                    0.3375                 199930.4                    0.3394                 111397.5                   0.3375               235604.7                   0.3394               111397.5                  0.3375               193637.3                  0.3394               101351.4                 0.337500           209803.515000                 0.339400           105307.713333     binance      XRP_USDT 2023-03-14 06:58:13.688858+00:00\n",
      "12967  1672617600                   0.3384                308320.6                   0.3385                256166.3                  0.3385              534570.1                  0.3386              523614.6                 0.3384              299837.8                 0.3385              183492.0                0.338482          395069.506667                0.338582          450992.666667                   0.3383                737310.3                   0.3386                547887.1                  0.3384              762056.9                  0.3387              594103.8                 0.3383              416429.1                 0.3386              320789.2                0.338382             501050.080                0.338682          395386.841667                   0.3382                627642.1                   0.3387                398131.0                  0.3383              856506.5                  0.3388              630160.7                 0.3382              627642.1                 0.3387              340391.0                0.338282          713279.846667                0.338782             564373.765                   0.3381                781264.4                   0.3388                536304.5                  0.3382              810159.3                  0.3389              573287.8                 0.3381              621144.5                 0.3388              491413.8                0.338182          692519.491667                0.338882          524396.270000                    0.338                226900.2                   0.3389                502316.5                  0.3381              767758.2                  0.3390              682893.5                  0.338              219650.0                 0.3389              502316.5                0.338082          650642.220000                0.338982          620652.128333                   0.3379                458901.3                    0.339                619289.2                  0.3380              500836.8                  0.3391              669718.7                 0.3379              221495.5                  0.339              572019.2                0.337982          271930.785000                0.339082          597267.158333                   0.3378                265531.7                   0.3391                567044.3                  0.3379              475820.8                  0.3392              645291.6                 0.3378              265531.7                 0.3391              363339.9                0.337882          424877.823333                0.339182          413376.976667                   0.3377                604176.3                   0.3392                363339.9                  0.3378              681643.1                  0.3393              503356.9                 0.3377              292195.8                 0.3392              290572.3                0.337782          383440.168333                0.339282          371686.786667                   0.3376                859532.7                   0.3393                247188.3                  0.3377              972910.3                  0.3394              424101.7                 0.3376              579457.6                 0.3393              109474.7                0.337682             691479.250                0.339382              156787.17                    0.3375                 218807.7                    0.3394                 109474.7                   0.3376               967552.9                   0.3395               409890.3                  0.3375               193637.3                  0.3394               109474.7                 0.337582           782707.713333                 0.339482           290595.383333     binance      XRP_USDT 2023-03-14 06:58:13.688858+00:00\n",
      "12968  1672617660                   0.3384                328940.5                   0.3385                236481.5                  0.3384              328940.5                  0.3385              236481.5                 0.3384              328940.5                 0.3385              236481.5                0.338400          328940.500000                0.338500          236481.500000                   0.3383                738210.1                   0.3386                547887.1                  0.3383              738210.1                  0.3386              547887.1                 0.3383              738210.1                 0.3386              547887.1                0.338300             738210.100                0.338600          547887.100000                   0.3382                623691.9                   0.3387                409135.0                  0.3382              623691.9                  0.3387              409135.0                 0.3382              623691.9                 0.3387              409135.0                0.338200          623691.900000                0.338700             409135.000                   0.3381                754523.7                   0.3388                536304.5                  0.3381              754523.7                  0.3388              536304.5                 0.3381              754523.7                 0.3388              536304.5                0.338100          754523.700000                0.338800          536304.500000                    0.338                226900.2                   0.3389                502316.5                  0.3380              226900.2                  0.3389              502316.5                  0.338              226900.2                 0.3389              502316.5                0.338000          226900.200000                0.338900          502316.500000                   0.3379                458901.3                    0.339                619289.2                  0.3379              458901.3                  0.3390              619289.2                 0.3379              458901.3                  0.339              619289.2                0.337900          458901.300000                0.339000          619289.200000                   0.3378                265531.7                   0.3391                567044.3                  0.3378              265531.7                  0.3391              567044.3                 0.3378              265531.7                 0.3391              567044.3                0.337800          265531.700000                0.339100          567044.300000                   0.3377                604176.3                   0.3392                363339.9                  0.3377              604176.3                  0.3392              363339.9                 0.3377              604176.3                 0.3392              363339.9                0.337700          604176.300000                0.339200          363339.900000                   0.3376                859532.7                   0.3393                247188.3                  0.3376              859532.7                  0.3393              247188.3                 0.3376              859532.7                 0.3393              247188.3                0.337600             859532.700                0.339300              247188.30                    0.3375                 218807.7                    0.3394                 109474.7                   0.3375               218807.7                   0.3394               109474.7                  0.3375               218807.7                  0.3394               109474.7                 0.337500           218807.700000                 0.339400           109474.700000     binance      XRP_USDT 2023-03-14 06:58:13.688858+00:00\n"
     ]
    },
    {
     "name": "stdout",
     "output_type": "stream",
     "text": [
      "02:58:18 - \u001b[36mINFO \u001b[0m hcache.py clear_global_cache:292                       Before clear_global_cache: 'global mem' cache: path='/mnt/tmpfs/tmp.cache.mem', size=32.0 KB\n",
      "02:58:18 - \u001b[41mWARN \u001b[0m hcache.py clear_global_cache:293                       Resetting 'global mem' cache '/mnt/tmpfs/tmp.cache.mem'\n",
      "02:58:18 - \u001b[41mWARN \u001b[0m hcache.py clear_global_cache:303                       Destroying '/mnt/tmpfs/tmp.cache.mem' ...\n",
      "02:58:18 - \u001b[36mINFO \u001b[0m hcache.py clear_global_cache:319                       After clear_global_cache: 'global mem' cache: path='/mnt/tmpfs/tmp.cache.mem', size=nan\n"
     ]
    }
   ],
   "source": [
    "%%bash\n",
    "/app/im_v2/common/data/transform/resample_daily_bid_ask_data.py \\\n",
    "    --start_timestamp '20230101-000000' \\\n",
    "    --end_timestamp '20230102-000000' \\\n",
    "    --src_dir 's3://cryptokaizen-data/v3/periodic_daily/airflow/downloaded_1sec/parquet/bid_ask/futures/v3/crypto_chassis/binance/v1_0_0' \\\n",
    "    --dst_dir 's3://cryptokaizen-data-test/v3/periodic_daily/airflow/resampled_1min/parquet/bid_ask/futures/v3/crypto_chassis/binance/v1_0_0'"
   ]
  },
  {
   "cell_type": "code",
   "execution_count": 15,
   "id": "337358be",
   "metadata": {
    "ExecuteTime": {
     "end_time": "2023-03-14T07:02:16.744983Z",
     "start_time": "2023-03-14T07:01:29.396095Z"
    }
   },
   "outputs": [
    {
     "name": "stdout",
     "output_type": "stream",
     "text": [
      "\u001b[0m\u001b[36mINFO\u001b[0m: > cmd='/app/im_v2/common/data/transform/resample_daily_bid_ask_data.py --start_timestamp 20230101-000000 --end_timestamp 20230102-000000 --src_dir s3://cryptokaizen-data/v3/periodic_daily/airflow/downloaded_1sec/parquet/bid_ask/futures/v3/crypto_chassis/binance/v1_0_0 --dst_dir s3://cryptokaizen-data-test/v3/periodic_daily/airflow/resampled_1min/parquet/bid_ask/futures/v3/crypto_chassis/binance/v1_0_0'\n",
      "report_memory_usage=False report_cpu_usage=False\n",
      "\u001b[36mINFO\u001b[0m: Saving log to file '/app/im_v2/common/data/transform/resample_daily_bid_ask_data.py.log'\n",
      "03:01:32 - \u001b[36mINFO \u001b[0m dataset_schema_utils.py _get_dataset_schema_file_path:39 Loading dataset schema file: /app/data_schema/dataset_schema_versions/dataset_schema_v3.json\n",
      "03:01:32 - \u001b[36mINFO \u001b[0m dataset_schema_utils.py get_dataset_schema:74          Loaded dataset schema version v3\n",
      "03:02:10 - \u001b[36mINFO \u001b[0m resample_daily_bid_ask_data.py _run:83                 # Resampled data=\n",
      "index=[0, 12968]\n",
      "columns=timestamp,level_1.bid_price.close,level_1.bid_size.close,level_1.ask_price.close,level_1.ask_size.close,level_1.bid_price.high,level_1.bid_size.max,level_1.ask_price.high,level_1.ask_size.max,level_1.bid_price.low,level_1.bid_size.min,level_1.ask_price.low,level_1.ask_size.min,level_1.bid_price.mean,level_1.bid_size.mean,level_1.ask_price.mean,level_1.ask_size.mean,level_2.bid_price.close,level_2.bid_size.close,level_2.ask_price.close,level_2.ask_size.close,level_2.bid_price.high,level_2.bid_size.max,level_2.ask_price.high,level_2.ask_size.max,level_2.bid_price.low,level_2.bid_size.min,level_2.ask_price.low,level_2.ask_size.min,level_2.bid_price.mean,level_2.bid_size.mean,level_2.ask_price.mean,level_2.ask_size.mean,level_3.bid_price.close,level_3.bid_size.close,level_3.ask_price.close,level_3.ask_size.close,level_3.bid_price.high,level_3.bid_size.max,level_3.ask_price.high,level_3.ask_size.max,level_3.bid_price.low,level_3.bid_size.min,level_3.ask_price.low,level_3.ask_size.min,level_3.bid_price.mean,level_3.bid_size.mean,level_3.ask_price.mean,level_3.ask_size.mean,level_4.bid_price.close,level_4.bid_size.close,level_4.ask_price.close,level_4.ask_size.close,level_4.bid_price.high,level_4.bid_size.max,level_4.ask_price.high,level_4.ask_size.max,level_4.bid_price.low,level_4.bid_size.min,level_4.ask_price.low,level_4.ask_size.min,level_4.bid_price.mean,level_4.bid_size.mean,level_4.ask_price.mean,level_4.ask_size.mean,level_5.bid_price.close,level_5.bid_size.close,level_5.ask_price.close,level_5.ask_size.close,level_5.bid_price.high,level_5.bid_size.max,level_5.ask_price.high,level_5.ask_size.max,level_5.bid_price.low,level_5.bid_size.min,level_5.ask_price.low,level_5.ask_size.min,level_5.bid_price.mean,level_5.bid_size.mean,level_5.ask_price.mean,level_5.ask_size.mean,level_6.bid_price.close,level_6.bid_size.close,level_6.ask_price.close,level_6.ask_size.close,level_6.bid_price.high,level_6.bid_size.max,level_6.ask_price.high,level_6.ask_size.max,level_6.bid_price.low,level_6.bid_size.min,level_6.ask_price.low,level_6.ask_size.min,level_6.bid_price.mean,level_6.bid_size.mean,level_6.ask_price.mean,level_6.ask_size.mean,level_7.bid_price.close,level_7.bid_size.close,level_7.ask_price.close,level_7.ask_size.close,level_7.bid_price.high,level_7.bid_size.max,level_7.ask_price.high,level_7.ask_size.max,level_7.bid_price.low,level_7.bid_size.min,level_7.ask_price.low,level_7.ask_size.min,level_7.bid_price.mean,level_7.bid_size.mean,level_7.ask_price.mean,level_7.ask_size.mean,level_8.bid_price.close,level_8.bid_size.close,level_8.ask_price.close,level_8.ask_size.close,level_8.bid_price.high,level_8.bid_size.max,level_8.ask_price.high,level_8.ask_size.max,level_8.bid_price.low,level_8.bid_size.min,level_8.ask_price.low,level_8.ask_size.min,level_8.bid_price.mean,level_8.bid_size.mean,level_8.ask_price.mean,level_8.ask_size.mean,level_9.bid_price.close,level_9.bid_size.close,level_9.ask_price.close,level_9.ask_size.close,level_9.bid_price.high,level_9.bid_size.max,level_9.ask_price.high,level_9.ask_size.max,level_9.bid_price.low,level_9.bid_size.min,level_9.ask_price.low,level_9.ask_size.min,level_9.bid_price.mean,level_9.bid_size.mean,level_9.ask_price.mean,level_9.ask_size.mean,level_10.bid_price.close,level_10.bid_size.close,level_10.ask_price.close,level_10.ask_size.close,level_10.bid_price.high,level_10.bid_size.max,level_10.ask_price.high,level_10.ask_size.max,level_10.bid_price.low,level_10.bid_size.min,level_10.ask_price.low,level_10.ask_size.min,level_10.bid_price.mean,level_10.bid_size.mean,level_10.ask_price.mean,level_10.ask_size.mean,exchange_id,currency_pair,knowledge_timestamp\n",
      "shape=(12969, 164)\n",
      "    timestamp  level_1.bid_price.close  level_1.bid_size.close  level_1.ask_price.close  level_1.ask_size.close  level_1.bid_price.high  level_1.bid_size.max  level_1.ask_price.high  level_1.ask_size.max  level_1.bid_price.low  level_1.bid_size.min  level_1.ask_price.low  level_1.ask_size.min  level_1.bid_price.mean  level_1.bid_size.mean  level_1.ask_price.mean  level_1.ask_size.mean  level_2.bid_price.close  level_2.bid_size.close  level_2.ask_price.close  level_2.ask_size.close  level_2.bid_price.high  level_2.bid_size.max  level_2.ask_price.high  level_2.ask_size.max  level_2.bid_price.low  level_2.bid_size.min  level_2.ask_price.low  level_2.ask_size.min  level_2.bid_price.mean  level_2.bid_size.mean  level_2.ask_price.mean  level_2.ask_size.mean  level_3.bid_price.close  level_3.bid_size.close  level_3.ask_price.close  level_3.ask_size.close  level_3.bid_price.high  level_3.bid_size.max  level_3.ask_price.high  level_3.ask_size.max  level_3.bid_price.low  level_3.bid_size.min  level_3.ask_price.low  level_3.ask_size.min  level_3.bid_price.mean  level_3.bid_size.mean  level_3.ask_price.mean  level_3.ask_size.mean  level_4.bid_price.close  level_4.bid_size.close  level_4.ask_price.close  level_4.ask_size.close  level_4.bid_price.high  level_4.bid_size.max  level_4.ask_price.high  level_4.ask_size.max  level_4.bid_price.low  level_4.bid_size.min  level_4.ask_price.low  level_4.ask_size.min  level_4.bid_price.mean  level_4.bid_size.mean  level_4.ask_price.mean  level_4.ask_size.mean  level_5.bid_price.close  level_5.bid_size.close  level_5.ask_price.close  level_5.ask_size.close  level_5.bid_price.high  level_5.bid_size.max  level_5.ask_price.high  level_5.ask_size.max  level_5.bid_price.low  level_5.bid_size.min  level_5.ask_price.low  level_5.ask_size.min  level_5.bid_price.mean  level_5.bid_size.mean  level_5.ask_price.mean  level_5.ask_size.mean  level_6.bid_price.close  level_6.bid_size.close  level_6.ask_price.close  level_6.ask_size.close  level_6.bid_price.high  level_6.bid_size.max  level_6.ask_price.high  level_6.ask_size.max  level_6.bid_price.low  level_6.bid_size.min  level_6.ask_price.low  level_6.ask_size.min  level_6.bid_price.mean  level_6.bid_size.mean  level_6.ask_price.mean  level_6.ask_size.mean  level_7.bid_price.close  level_7.bid_size.close  level_7.ask_price.close  level_7.ask_size.close  level_7.bid_price.high  level_7.bid_size.max  level_7.ask_price.high  level_7.ask_size.max  level_7.bid_price.low  level_7.bid_size.min  level_7.ask_price.low  level_7.ask_size.min  level_7.bid_price.mean  level_7.bid_size.mean  level_7.ask_price.mean  level_7.ask_size.mean  level_8.bid_price.close  level_8.bid_size.close  level_8.ask_price.close  level_8.ask_size.close  level_8.bid_price.high  level_8.bid_size.max  level_8.ask_price.high  level_8.ask_size.max  level_8.bid_price.low  level_8.bid_size.min  level_8.ask_price.low  level_8.ask_size.min  level_8.bid_price.mean  level_8.bid_size.mean  level_8.ask_price.mean  level_8.ask_size.mean  level_9.bid_price.close  level_9.bid_size.close  level_9.ask_price.close  level_9.ask_size.close  level_9.bid_price.high  level_9.bid_size.max  level_9.ask_price.high  level_9.ask_size.max  level_9.bid_price.low  level_9.bid_size.min  level_9.ask_price.low  level_9.ask_size.min  level_9.bid_price.mean  level_9.bid_size.mean  level_9.ask_price.mean  level_9.ask_size.mean  level_10.bid_price.close  level_10.bid_size.close  level_10.ask_price.close  level_10.ask_size.close  level_10.bid_price.high  level_10.bid_size.max  level_10.ask_price.high  level_10.ask_size.max  level_10.bid_price.low  level_10.bid_size.min  level_10.ask_price.low  level_10.ask_size.min  level_10.bid_price.mean  level_10.bid_size.mean  level_10.ask_price.mean  level_10.ask_size.mean exchange_id currency_pair              knowledge_timestamp\n"
     ]
    },
    {
     "name": "stdout",
     "output_type": "stream",
     "text": [
      "0  1672531260                   0.2457                281708.0                   0.2458                235772.0                  0.2457              337026.0                  0.2458              235772.0                 0.2455              133982.0                 0.2456               19375.0                0.245557          276876.683333                0.245657           99695.316667                   0.2456                272414.0                   0.2459                381160.0                  0.2456              421980.0                  0.2459              520651.0                 0.2454              213752.0                 0.2457              311555.0                0.245457          345727.833333                0.245757          436801.000000                   0.2455                379938.0                   0.2460                310004.0                  0.2455              475359.0                   0.246              450444.0                 0.2453              275470.0                 0.2458              262500.0                0.245357          433366.016667                0.245857          367198.000000                   0.2454                476908.0                   0.2461                295020.0                  0.2454              496585.0                  0.2461              321299.0                 0.2452              363431.0                 0.2459              128012.0                0.245257          455959.550000                0.245957          257658.766667                   0.2453                471637.0                   0.2462                297999.0                  0.2453              541804.0                  0.2462              349955.0                 0.2451              298661.0                 0.2460              213610.0                0.245157          411192.700000                0.246057          262417.000000                   0.2452                548612.0                   0.2463                272133.0                  0.2452              554920.0                  0.2463              422206.0                 0.2450              221462.0                 0.2461              240505.0                0.245057               406783.0                0.246157          317491.516667                   0.2451                438641.0                   0.2464                298550.0                  0.2451              547233.0                  0.2464              370898.0                 0.2449              158111.0                 0.2462              188854.0                0.244957          344099.366667                0.246257          307028.633333                   0.2450                486556.0                   0.2465                340200.0                   0.245              486556.0                  0.2465              340200.0                 0.2448               80697.0                 0.2463              183535.0                0.244857          156343.966667                0.246357          222951.216667                   0.2449                208982.0                   0.2466                268821.0                  0.2449              699070.0                  0.2466              346116.0                 0.2447               80819.0                 0.2464              193700.0                0.244757          355041.116667                0.246457          279485.583333                    0.2448                 100848.0                    0.2467                 272141.0                   0.2448               678204.0                   0.2467               356905.0                  0.2446               100848.0                  0.2465               168512.0                 0.244657           397003.916667                 0.246557           283733.683333     binance      ADA_USDT 2023-03-14 07:02:10.911397+00:00\n",
      "1  1672531320                   0.2457                294305.0                   0.2458                184966.0                  0.2457              305037.0                  0.2458              245903.0                 0.2457              273372.0                 0.2458               11796.0                0.245700          290545.933333                0.245800          167599.666667                   0.2456                332205.0                   0.2459                372676.0                  0.2456              395734.0                  0.2459              413656.0                 0.2456              264039.0                 0.2459              322961.0                0.245600          307003.766667                0.245900          376670.550000                   0.2455                393487.0                   0.2460                283383.0                  0.2455              424085.0                   0.246              440789.0                 0.2455              373985.0                 0.2460              245860.0                0.245500          397439.383333                0.246000          383545.816667                   0.2454                461751.0                   0.2461                439326.0                  0.2454              477518.0                  0.2461              439326.0                 0.2454              424871.0                 0.2461              295020.0                0.245400          436876.916667                0.246100          374058.116667                   0.2453                460025.0                   0.2462                411678.0                  0.2453              560723.0                  0.2462              454820.0                 0.2453              451531.0                 0.2462              321175.0                0.245300          530110.116667                0.246200          413253.233333                   0.2452                558886.0                   0.2463                691618.0                  0.2452              627010.0                  0.2463              691618.0                 0.2452              497077.0                 0.2463              271322.0                0.245200               560690.5                0.246300          483897.266667                   0.2451                502203.0                   0.2464                288364.0                  0.2451              555037.0                  0.2464              371243.0                 0.2451              438641.0                 0.2464              235921.0                0.245100          512717.266667                0.246400          336312.050000                   0.2450                495596.0                   0.2465                376788.0                   0.245              565902.0                  0.2465              463963.0                 0.2450              442267.0                 0.2465              335959.0                0.245000          479571.283333                0.246500          434864.500000                   0.2449                237916.0                   0.2466                272098.0                  0.2449              254787.0                  0.2466              332645.0                 0.2449              165006.0                 0.2466              268821.0                0.244900          202947.566667                0.246600          279576.800000                    0.2448                 120347.0                    0.2467                 260359.0                   0.2448               120848.0                   0.2467               292242.0                  0.2448               100848.0                  0.2467               260359.0                 0.244800           118572.533333                 0.246700           283926.300000     binance      ADA_USDT 2023-03-14 07:02:10.911397+00:00\n",
      "2  1672531380                   0.2456                208385.0                   0.2457                285082.0                  0.2457              295636.0                  0.2458              358741.0                 0.2456              201144.0                 0.2457               28333.0                0.245660          254458.200000                0.245760          191211.933333                   0.2455                310030.0                   0.2458                464004.0                  0.2456              336368.0                  0.2459              507415.0                 0.2455              297515.0                 0.2458              357379.0                0.245560          316707.966667                0.245860          420277.083333                   0.2454                455779.0                   0.2459                540162.0                  0.2455              475073.0                   0.246              540162.0                 0.2454              358050.0                 0.2459              266289.0                0.245460          425546.516667                0.245960          408112.650000                   0.2453                425063.0                   0.2460                313629.0                  0.2454              500446.0                  0.2461              439398.0                 0.2453              401806.0                 0.2460              259123.0                0.245360          453348.466667                0.246060          373672.716667                   0.2452                564113.0                   0.2461                524079.0                  0.2453              564724.0                  0.2462              570260.0                 0.2452              391539.0                 0.2461              342816.0                0.245260          469547.583333                0.246160          489602.950000                   0.2451                460678.0                   0.2462                522947.0                  0.2452              688525.0                  0.2463              691618.0                 0.2451              433387.0                 0.2462              354162.0                0.245160               542889.8                0.246260          589697.733333                   0.2450                450455.0                   0.2463                526607.0                  0.2451              565846.0                  0.2464              606944.0                 0.2450              389207.0                 0.2463              255860.0                0.245060          469270.883333                0.246360          385349.933333                   0.2449                298754.0                   0.2464                231359.0                   0.245              558260.0                  0.2465              449526.0                 0.2449              157554.0                 0.2464              209910.0                0.244960          398750.766667                0.246460          324378.666667                   0.2448                119115.0                   0.2465                420680.0                  0.2449              174953.0                  0.2466              420680.0                 0.2448              100390.0                 0.2465              235304.0                0.244860          144075.050000                0.246560          317165.333333                    0.2447                1041574.0                    0.2466                 249591.0                   0.2448              1055644.0                   0.2467               299077.0                  0.2447               117435.0                  0.2466               231526.0                 0.244760           488737.050000                 0.246660           258200.366667     binance      ADA_USDT 2023-03-14 07:02:10.911397+00:00\n"
     ]
    },
    {
     "name": "stdout",
     "output_type": "stream",
     "text": [
      "...\n",
      "12966  1672617540                   0.3384                335815.4                   0.3385                291843.7                  0.3384              351308.2                  0.3385              405218.1                 0.3384              261935.9                 0.3385              290848.3                0.338400          316435.800000                0.338500          311371.535000                   0.3383                691784.2                   0.3386                556710.4                  0.3383              737037.6                  0.3386              558649.5                 0.3383              664093.3                 0.3386              519631.0                0.338300             703781.845                0.338600          542574.066667                   0.3382                844911.2                   0.3387                507544.5                  0.3382              845764.9                  0.3387              649267.8                 0.3382              703243.7                 0.3387              498183.7                0.338200          796248.625000                0.338700             532292.775                   0.3381                781766.9                   0.3388                497293.4                  0.3381              965891.6                  0.3388              498179.8                 0.3381              777100.4                 0.3388              466944.2                0.338100          840984.633333                0.338800          487478.506667                    0.338                274792.3                   0.3389                559798.5                  0.3380              306150.0                  0.3389              581418.2                  0.338              274743.5                 0.3389              553570.7                0.338000          282444.491667                0.338900          563722.395000                   0.3379                500836.8                    0.339                669142.6                  0.3379              504881.1                  0.3390              699478.8                 0.3379              444469.9                  0.339              669142.6                0.337900          494941.471667                0.339000          679948.690000                   0.3378                364037.3                   0.3391                645291.6                  0.3378              405678.1                  0.3391              646576.9                 0.3378              364037.3                 0.3391              625920.0                0.337800          375601.058333                0.339100          635519.626667                   0.3377                681643.1                   0.3392                494004.9                  0.3377              698879.5                  0.3392              518085.6                 0.3377              630296.0                 0.3392              454221.3                0.337700          676832.061667                0.339200          494815.858333                   0.3376                972334.2                   0.3393                415337.2                  0.3376              981374.9                  0.3393              433144.9                 0.3376              939796.3                 0.3393              389379.4                0.337600             970764.375                0.339300              422523.59                    0.3375                 199930.4                    0.3394                 111397.5                   0.3375               235604.7                   0.3394               111397.5                  0.3375               193637.3                  0.3394               101351.4                 0.337500           209803.515000                 0.339400           105307.713333     binance      XRP_USDT 2023-03-14 07:02:10.911397+00:00\n",
      "12967  1672617600                   0.3384                308320.6                   0.3385                256166.3                  0.3385              534570.1                  0.3386              523614.6                 0.3384              299837.8                 0.3385              183492.0                0.338482          395069.506667                0.338582          450992.666667                   0.3383                737310.3                   0.3386                547887.1                  0.3384              762056.9                  0.3387              594103.8                 0.3383              416429.1                 0.3386              320789.2                0.338382             501050.080                0.338682          395386.841667                   0.3382                627642.1                   0.3387                398131.0                  0.3383              856506.5                  0.3388              630160.7                 0.3382              627642.1                 0.3387              340391.0                0.338282          713279.846667                0.338782             564373.765                   0.3381                781264.4                   0.3388                536304.5                  0.3382              810159.3                  0.3389              573287.8                 0.3381              621144.5                 0.3388              491413.8                0.338182          692519.491667                0.338882          524396.270000                    0.338                226900.2                   0.3389                502316.5                  0.3381              767758.2                  0.3390              682893.5                  0.338              219650.0                 0.3389              502316.5                0.338082          650642.220000                0.338982          620652.128333                   0.3379                458901.3                    0.339                619289.2                  0.3380              500836.8                  0.3391              669718.7                 0.3379              221495.5                  0.339              572019.2                0.337982          271930.785000                0.339082          597267.158333                   0.3378                265531.7                   0.3391                567044.3                  0.3379              475820.8                  0.3392              645291.6                 0.3378              265531.7                 0.3391              363339.9                0.337882          424877.823333                0.339182          413376.976667                   0.3377                604176.3                   0.3392                363339.9                  0.3378              681643.1                  0.3393              503356.9                 0.3377              292195.8                 0.3392              290572.3                0.337782          383440.168333                0.339282          371686.786667                   0.3376                859532.7                   0.3393                247188.3                  0.3377              972910.3                  0.3394              424101.7                 0.3376              579457.6                 0.3393              109474.7                0.337682             691479.250                0.339382              156787.17                    0.3375                 218807.7                    0.3394                 109474.7                   0.3376               967552.9                   0.3395               409890.3                  0.3375               193637.3                  0.3394               109474.7                 0.337582           782707.713333                 0.339482           290595.383333     binance      XRP_USDT 2023-03-14 07:02:10.911397+00:00\n",
      "12968  1672617660                   0.3384                328940.5                   0.3385                236481.5                  0.3384              328940.5                  0.3385              236481.5                 0.3384              328940.5                 0.3385              236481.5                0.338400          328940.500000                0.338500          236481.500000                   0.3383                738210.1                   0.3386                547887.1                  0.3383              738210.1                  0.3386              547887.1                 0.3383              738210.1                 0.3386              547887.1                0.338300             738210.100                0.338600          547887.100000                   0.3382                623691.9                   0.3387                409135.0                  0.3382              623691.9                  0.3387              409135.0                 0.3382              623691.9                 0.3387              409135.0                0.338200          623691.900000                0.338700             409135.000                   0.3381                754523.7                   0.3388                536304.5                  0.3381              754523.7                  0.3388              536304.5                 0.3381              754523.7                 0.3388              536304.5                0.338100          754523.700000                0.338800          536304.500000                    0.338                226900.2                   0.3389                502316.5                  0.3380              226900.2                  0.3389              502316.5                  0.338              226900.2                 0.3389              502316.5                0.338000          226900.200000                0.338900          502316.500000                   0.3379                458901.3                    0.339                619289.2                  0.3379              458901.3                  0.3390              619289.2                 0.3379              458901.3                  0.339              619289.2                0.337900          458901.300000                0.339000          619289.200000                   0.3378                265531.7                   0.3391                567044.3                  0.3378              265531.7                  0.3391              567044.3                 0.3378              265531.7                 0.3391              567044.3                0.337800          265531.700000                0.339100          567044.300000                   0.3377                604176.3                   0.3392                363339.9                  0.3377              604176.3                  0.3392              363339.9                 0.3377              604176.3                 0.3392              363339.9                0.337700          604176.300000                0.339200          363339.900000                   0.3376                859532.7                   0.3393                247188.3                  0.3376              859532.7                  0.3393              247188.3                 0.3376              859532.7                 0.3393              247188.3                0.337600             859532.700                0.339300              247188.30                    0.3375                 218807.7                    0.3394                 109474.7                   0.3375               218807.7                   0.3394               109474.7                  0.3375               218807.7                  0.3394               109474.7                 0.337500           218807.700000                 0.339400           109474.700000     binance      XRP_USDT 2023-03-14 07:02:10.911397+00:00\n"
     ]
    },
    {
     "name": "stdout",
     "output_type": "stream",
     "text": [
      "03:02:16 - \u001b[36mINFO \u001b[0m hcache.py clear_global_cache:292                       Before clear_global_cache: 'global mem' cache: path='/mnt/tmpfs/tmp.cache.mem', size=32.0 KB\n",
      "03:02:16 - \u001b[41mWARN \u001b[0m hcache.py clear_global_cache:293                       Resetting 'global mem' cache '/mnt/tmpfs/tmp.cache.mem'\n",
      "03:02:16 - \u001b[41mWARN \u001b[0m hcache.py clear_global_cache:303                       Destroying '/mnt/tmpfs/tmp.cache.mem' ...\n",
      "03:02:16 - \u001b[36mINFO \u001b[0m hcache.py clear_global_cache:319                       After clear_global_cache: 'global mem' cache: path='/mnt/tmpfs/tmp.cache.mem', size=nan\n"
     ]
    }
   ],
   "source": [
    "%%bash\n",
    "/app/im_v2/common/data/transform/resample_daily_bid_ask_data.py \\\n",
    "    --start_timestamp '20230101-000000' \\\n",
    "    --end_timestamp '20230102-000000' \\\n",
    "    --src_dir 's3://cryptokaizen-data/v3/periodic_daily/airflow/downloaded_1sec/parquet/bid_ask/futures/v3/crypto_chassis/binance/v1_0_0' \\\n",
    "    --dst_dir 's3://cryptokaizen-data-test/v3/periodic_daily/airflow/resampled_1min/parquet/bid_ask/futures/v3/crypto_chassis/binance/v1_0_0'"
   ]
  },
  {
   "cell_type": "markdown",
   "id": "fde19fd4",
   "metadata": {},
   "source": [
    "# Test im_raw_data_client.py"
   ]
  },
  {
   "cell_type": "code",
   "execution_count": 19,
   "id": "283c5381",
   "metadata": {
    "ExecuteTime": {
     "end_time": "2023-03-14T07:07:05.103221Z",
     "start_time": "2023-03-14T07:07:04.297362Z"
    }
   },
   "outputs": [
    {
     "name": "stdout",
     "output_type": "stream",
     "text": [
      "INFO  Loading dataset schema file: /app/data_schema/dataset_schema_versions/dataset_schema_v3.json\n",
      "INFO  Loaded dataset schema version v3\n",
      "INFO  Loading dataset schema file: /app/data_schema/dataset_schema_versions/dataset_schema_v3.json\n",
      "INFO  Loaded dataset schema version v3\n"
     ]
    },
    {
     "data": {
      "text/html": [
       "<div>\n",
       "<style scoped>\n",
       "    .dataframe tbody tr th:only-of-type {\n",
       "        vertical-align: middle;\n",
       "    }\n",
       "\n",
       "    .dataframe tbody tr th {\n",
       "        vertical-align: top;\n",
       "    }\n",
       "\n",
       "    .dataframe thead th {\n",
       "        text-align: right;\n",
       "    }\n",
       "</style>\n",
       "<table border=\"1\" class=\"dataframe\">\n",
       "  <thead>\n",
       "    <tr style=\"text-align: right;\">\n",
       "      <th></th>\n",
       "      <th>timestamp</th>\n",
       "      <th>symbol</th>\n",
       "      <th>side</th>\n",
       "      <th>price</th>\n",
       "      <th>amount</th>\n",
       "      <th>exchange_id</th>\n",
       "      <th>knowledge_timestamp</th>\n",
       "      <th>currency_pair</th>\n",
       "      <th>year</th>\n",
       "      <th>month</th>\n",
       "      <th>day</th>\n",
       "    </tr>\n",
       "    <tr>\n",
       "      <th>timestamp</th>\n",
       "      <th></th>\n",
       "      <th></th>\n",
       "      <th></th>\n",
       "      <th></th>\n",
       "      <th></th>\n",
       "      <th></th>\n",
       "      <th></th>\n",
       "      <th></th>\n",
       "      <th></th>\n",
       "      <th></th>\n",
       "      <th></th>\n",
       "    </tr>\n",
       "  </thead>\n",
       "  <tbody>\n",
       "    <tr>\n",
       "      <th>2023-03-01 00:00:01.173000+00:00</th>\n",
       "      <td>1677628801173</td>\n",
       "      <td>APE/USDT</td>\n",
       "      <td>sell</td>\n",
       "      <td>5.002</td>\n",
       "      <td>2.0</td>\n",
       "      <td>binance</td>\n",
       "      <td>2023-03-14 07:06:27.675468+00:00</td>\n",
       "      <td>APE_USDT</td>\n",
       "      <td>2023</td>\n",
       "      <td>3</td>\n",
       "      <td>1</td>\n",
       "    </tr>\n",
       "    <tr>\n",
       "      <th>2023-03-01 00:00:03.641000+00:00</th>\n",
       "      <td>1677628803641</td>\n",
       "      <td>APE/USDT</td>\n",
       "      <td>sell</td>\n",
       "      <td>5.002</td>\n",
       "      <td>1.0</td>\n",
       "      <td>binance</td>\n",
       "      <td>2023-03-14 07:06:27.675468+00:00</td>\n",
       "      <td>APE_USDT</td>\n",
       "      <td>2023</td>\n",
       "      <td>3</td>\n",
       "      <td>1</td>\n",
       "    </tr>\n",
       "    <tr>\n",
       "      <th>2023-03-01 00:00:04.277000+00:00</th>\n",
       "      <td>1677628804277</td>\n",
       "      <td>APE/USDT</td>\n",
       "      <td>buy</td>\n",
       "      <td>5.003</td>\n",
       "      <td>147.0</td>\n",
       "      <td>binance</td>\n",
       "      <td>2023-03-14 07:06:27.675468+00:00</td>\n",
       "      <td>APE_USDT</td>\n",
       "      <td>2023</td>\n",
       "      <td>3</td>\n",
       "      <td>1</td>\n",
       "    </tr>\n",
       "    <tr>\n",
       "      <th>2023-03-01 00:00:04.472000+00:00</th>\n",
       "      <td>1677628804472</td>\n",
       "      <td>APE/USDT</td>\n",
       "      <td>buy</td>\n",
       "      <td>5.003</td>\n",
       "      <td>317.0</td>\n",
       "      <td>binance</td>\n",
       "      <td>2023-03-14 07:06:27.675468+00:00</td>\n",
       "      <td>APE_USDT</td>\n",
       "      <td>2023</td>\n",
       "      <td>3</td>\n",
       "      <td>1</td>\n",
       "    </tr>\n",
       "    <tr>\n",
       "      <th>2023-03-01 00:00:04.523000+00:00</th>\n",
       "      <td>1677628804523</td>\n",
       "      <td>APE/USDT</td>\n",
       "      <td>sell</td>\n",
       "      <td>5.002</td>\n",
       "      <td>993.0</td>\n",
       "      <td>binance</td>\n",
       "      <td>2023-03-14 07:06:27.675468+00:00</td>\n",
       "      <td>APE_USDT</td>\n",
       "      <td>2023</td>\n",
       "      <td>3</td>\n",
       "      <td>1</td>\n",
       "    </tr>\n",
       "  </tbody>\n",
       "</table>\n",
       "</div>"
      ],
      "text/plain": [
       "                                      timestamp    symbol  side  price  amount exchange_id              knowledge_timestamp currency_pair  year  month  day\n",
       "timestamp                                                                                                                                                  \n",
       "2023-03-01 00:00:01.173000+00:00  1677628801173  APE/USDT  sell  5.002     2.0     binance 2023-03-14 07:06:27.675468+00:00      APE_USDT  2023      3    1\n",
       "2023-03-01 00:00:03.641000+00:00  1677628803641  APE/USDT  sell  5.002     1.0     binance 2023-03-14 07:06:27.675468+00:00      APE_USDT  2023      3    1\n",
       "2023-03-01 00:00:04.277000+00:00  1677628804277  APE/USDT   buy  5.003   147.0     binance 2023-03-14 07:06:27.675468+00:00      APE_USDT  2023      3    1\n",
       "2023-03-01 00:00:04.472000+00:00  1677628804472  APE/USDT   buy  5.003   317.0     binance 2023-03-14 07:06:27.675468+00:00      APE_USDT  2023      3    1\n",
       "2023-03-01 00:00:04.523000+00:00  1677628804523  APE/USDT  sell  5.002   993.0     binance 2023-03-14 07:06:27.675468+00:00      APE_USDT  2023      3    1"
      ]
     },
     "execution_count": 19,
     "metadata": {},
     "output_type": "execute_result"
    }
   ],
   "source": [
    "signature = (\n",
    "    \"bulk.manual.downloaded_1min.parquet.trades.futures.v7_3.ccxt.binance.v1_0_0\"\n",
    ")\n",
    "reader = imvcdcimrdc.RawDataReader(signature, stage=\"test\")\n",
    "start_timestamp = pd.Timestamp(\"2023-03-01T00:00:00+00:00\")\n",
    "end_timestamp = pd.Timestamp(\"2023-03-01T00:10:00+00:00\")\n",
    "trades = reader.read_data(start_timestamp, end_timestamp)\n",
    "trades.head()"
   ]
  },
  {
   "cell_type": "code",
   "execution_count": 20,
   "id": "d7fde851",
   "metadata": {
    "ExecuteTime": {
     "end_time": "2023-03-14T09:38:36.620442Z",
     "start_time": "2023-03-14T09:38:35.193891Z"
    }
   },
   "outputs": [
    {
     "name": "stdout",
     "output_type": "stream",
     "text": [
      "INFO  Loading dataset schema file: /app/data_schema/dataset_schema_versions/dataset_schema_v3.json\n",
      "INFO  Loaded dataset schema version v3\n",
      "INFO  Loading dataset schema file: /app/data_schema/dataset_schema_versions/dataset_schema_v3.json\n",
      "INFO  Loaded dataset schema version v3\n"
     ]
    },
    {
     "data": {
      "text/html": [
       "<div>\n",
       "<style scoped>\n",
       "    .dataframe tbody tr th:only-of-type {\n",
       "        vertical-align: middle;\n",
       "    }\n",
       "\n",
       "    .dataframe tbody tr th {\n",
       "        vertical-align: top;\n",
       "    }\n",
       "\n",
       "    .dataframe thead th {\n",
       "        text-align: right;\n",
       "    }\n",
       "</style>\n",
       "<table border=\"1\" class=\"dataframe\">\n",
       "  <thead>\n",
       "    <tr style=\"text-align: right;\">\n",
       "      <th></th>\n",
       "      <th>timestamp</th>\n",
       "      <th>price</th>\n",
       "      <th>size</th>\n",
       "      <th>is_buyer_maker</th>\n",
       "      <th>exchange_id</th>\n",
       "      <th>knowledge_timestamp</th>\n",
       "      <th>currency_pair</th>\n",
       "      <th>year</th>\n",
       "      <th>month</th>\n",
       "      <th>day</th>\n",
       "    </tr>\n",
       "    <tr>\n",
       "      <th>timestamp</th>\n",
       "      <th></th>\n",
       "      <th></th>\n",
       "      <th></th>\n",
       "      <th></th>\n",
       "      <th></th>\n",
       "      <th></th>\n",
       "      <th></th>\n",
       "      <th></th>\n",
       "      <th></th>\n",
       "      <th></th>\n",
       "    </tr>\n",
       "  </thead>\n",
       "  <tbody>\n",
       "    <tr>\n",
       "      <th>2023-02-05 00:30:00.127000+00:00</th>\n",
       "      <td>1675557000127</td>\n",
       "      <td>329.59</td>\n",
       "      <td>0.91</td>\n",
       "      <td>NaN</td>\n",
       "      <td>binance</td>\n",
       "      <td>2023-03-10 18:34:36.327537+00:00</td>\n",
       "      <td>BNB_USDT</td>\n",
       "      <td>2023</td>\n",
       "      <td>2</td>\n",
       "      <td>5</td>\n",
       "    </tr>\n",
       "    <tr>\n",
       "      <th>2023-02-05 00:30:00.274000+00:00</th>\n",
       "      <td>1675557000274</td>\n",
       "      <td>329.59</td>\n",
       "      <td>15.38</td>\n",
       "      <td>NaN</td>\n",
       "      <td>binance</td>\n",
       "      <td>2023-03-10 18:34:36.327537+00:00</td>\n",
       "      <td>BNB_USDT</td>\n",
       "      <td>2023</td>\n",
       "      <td>2</td>\n",
       "      <td>5</td>\n",
       "    </tr>\n",
       "    <tr>\n",
       "      <th>2023-02-05 00:30:00.274000+00:00</th>\n",
       "      <td>1675557000274</td>\n",
       "      <td>329.58</td>\n",
       "      <td>9.96</td>\n",
       "      <td>NaN</td>\n",
       "      <td>binance</td>\n",
       "      <td>2023-03-10 18:34:36.327537+00:00</td>\n",
       "      <td>BNB_USDT</td>\n",
       "      <td>2023</td>\n",
       "      <td>2</td>\n",
       "      <td>5</td>\n",
       "    </tr>\n",
       "    <tr>\n",
       "      <th>2023-02-05 00:30:00.275000+00:00</th>\n",
       "      <td>1675557000275</td>\n",
       "      <td>329.57</td>\n",
       "      <td>0.82</td>\n",
       "      <td>NaN</td>\n",
       "      <td>binance</td>\n",
       "      <td>2023-03-10 18:34:36.327537+00:00</td>\n",
       "      <td>BNB_USDT</td>\n",
       "      <td>2023</td>\n",
       "      <td>2</td>\n",
       "      <td>5</td>\n",
       "    </tr>\n",
       "    <tr>\n",
       "      <th>2023-02-05 00:30:00.275000+00:00</th>\n",
       "      <td>1675557000275</td>\n",
       "      <td>329.56</td>\n",
       "      <td>19.74</td>\n",
       "      <td>NaN</td>\n",
       "      <td>binance</td>\n",
       "      <td>2023-03-10 18:34:36.327537+00:00</td>\n",
       "      <td>BNB_USDT</td>\n",
       "      <td>2023</td>\n",
       "      <td>2</td>\n",
       "      <td>5</td>\n",
       "    </tr>\n",
       "  </tbody>\n",
       "</table>\n",
       "</div>"
      ],
      "text/plain": [
       "                                      timestamp   price   size  is_buyer_maker exchange_id              knowledge_timestamp currency_pair  year  month  day\n",
       "timestamp                                                                                                                                                  \n",
       "2023-02-05 00:30:00.127000+00:00  1675557000127  329.59   0.91             NaN     binance 2023-03-10 18:34:36.327537+00:00      BNB_USDT  2023      2    5\n",
       "2023-02-05 00:30:00.274000+00:00  1675557000274  329.59  15.38             NaN     binance 2023-03-10 18:34:36.327537+00:00      BNB_USDT  2023      2    5\n",
       "2023-02-05 00:30:00.274000+00:00  1675557000274  329.58   9.96             NaN     binance 2023-03-10 18:34:36.327537+00:00      BNB_USDT  2023      2    5\n",
       "2023-02-05 00:30:00.275000+00:00  1675557000275  329.57   0.82             NaN     binance 2023-03-10 18:34:36.327537+00:00      BNB_USDT  2023      2    5\n",
       "2023-02-05 00:30:00.275000+00:00  1675557000275  329.56  19.74             NaN     binance 2023-03-10 18:34:36.327537+00:00      BNB_USDT  2023      2    5"
      ]
     },
     "execution_count": 20,
     "metadata": {},
     "output_type": "execute_result"
    }
   ],
   "source": [
    "signature = \"bulk.manual.downloaded_1min.parquet.trades.futures.v4.crypto_chassis.binance.v1_0_0\"\n",
    "reader = imvcdcimrdc.RawDataReader(signature, stage=\"test\")\n",
    "start_timestamp = pd.Timestamp(\"2023-02-05T00:30:00+00:00\")\n",
    "end_timestamp = pd.Timestamp(\"2023-02-05T00:40:00+00:00\")\n",
    "trades = reader.read_data(start_timestamp, end_timestamp)\n",
    "trades.head()"
   ]
  },
  {
   "cell_type": "code",
   "execution_count": null,
   "id": "0ec35366",
   "metadata": {},
   "outputs": [],
   "source": []
  }
 ],
 "metadata": {
  "kernelspec": {
   "display_name": "Python 3 (ipykernel)",
   "language": "python",
   "name": "python3"
  },
  "language_info": {
   "codemirror_mode": {
    "name": "ipython",
    "version": 3
   },
   "file_extension": ".py",
   "mimetype": "text/x-python",
   "name": "python",
   "nbconvert_exporter": "python",
   "pygments_lexer": "ipython3",
   "version": "3.8.10"
  },
  "toc": {
   "base_numbering": 1,
   "nav_menu": {},
   "number_sections": true,
   "sideBar": true,
   "skip_h1_title": false,
   "title_cell": "Table of Contents",
   "title_sidebar": "Contents",
   "toc_cell": false,
   "toc_position": {},
   "toc_section_display": true,
   "toc_window_display": false
  }
 },
 "nbformat": 4,
 "nbformat_minor": 5
}
