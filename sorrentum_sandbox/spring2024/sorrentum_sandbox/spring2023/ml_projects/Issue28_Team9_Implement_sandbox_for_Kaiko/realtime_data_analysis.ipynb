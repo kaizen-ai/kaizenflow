{
 "cells": [
  {
   "cell_type": "code",

   "execution_count": 3,

   "metadata": {},
   "outputs": [
    {
     "name": "stdout",
     "output_type": "stream",
     "text": [

      "          trade_id     price    amount  taker_side_sell currency_pair  \\\n",
      "0        438217572   1775.85  0.168946                1       eth-usd   \n",
      "1        438217573   1775.86  0.864393                1       eth-usd   \n",
      "2        438217574   1775.87  0.620000                1       eth-usd   \n",
      "3        438217575   1775.88  0.650000                1       eth-usd   \n",
      "4        438217576   1775.87  0.023972                1       eth-usd   \n",
      "...            ...       ...       ...              ...           ...   \n",
      "1399902  518465946  28177.78  0.002946                0       btc-usd   \n",
      "1399903  518465947  28175.36  0.001179                0       btc-usd   \n",
      "1399904  518465948  28174.91  0.008500                0       btc-usd   \n",
      "1399905  518465949  28175.37  0.004210                1       btc-usd   \n",
      "1399906  518465950  28175.37  0.000192                1       btc-usd   \n",
      "\n",
      "                       timestamp  \n",
      "0        2023-03-27 00:00:00.129  \n",
      "1        2023-03-27 00:00:00.129  \n",
      "2        2023-03-27 00:00:00.129  \n",
      "3        2023-03-27 00:00:00.129  \n",
      "4        2023-03-27 00:00:01.329  \n",
      "...                          ...  \n",
      "1399902  2023-04-05 23:59:58.894  \n",
      "1399903  2023-04-05 23:59:59.764  \n",
      "1399904  2023-04-05 23:59:59.764  \n",
      "1399905  2023-04-05 23:59:59.832  \n",
      "1399906  2023-04-05 23:59:59.842  \n",
      "\n",
      "[1399907 rows x 6 columns]\n"

     ]
    }
   ],
   "source": [
    "import pandas as pd\n",
    "import numpy as np\n",
    "import load_data\n",
    "\n",

    "df = load_data.historical_from_csv()\n",
    "print(df)"

   ]
  },
  {
   "cell_type": "code",
   "execution_count": 2,
   "metadata": {},
   "outputs": [
    {
     "data": {
      "text/html": [
       "<div>\n",
       "<style scoped>\n",
       "    .dataframe tbody tr th:only-of-type {\n",
       "        vertical-align: middle;\n",
       "    }\n",
       "\n",
       "    .dataframe tbody tr th {\n",
       "        vertical-align: top;\n",
       "    }\n",
       "\n",
       "    .dataframe thead th {\n",
       "        text-align: right;\n",
       "    }\n",
       "</style>\n",
       "<table border=\"1\" class=\"dataframe\">\n",
       "  <thead>\n",
       "    <tr style=\"text-align: right;\">\n",
       "      <th></th>\n",

       "      <th>Unnamed: 0.1</th>\n",
       "      <th>Unnamed: 0</th>\n",

       "      <th>timestamp</th>\n",
       "      <th>trade_id</th>\n",
       "      <th>price</th>\n",
       "      <th>amount</th>\n",
       "      <th>taker_side_sell</th>\n",
       "      <th>currency_pair</th>\n",
       "    </tr>\n",
       "  </thead>\n",
       "  <tbody>\n",
       "    <tr>\n",

       "      <th>51005</th>\n",
       "      <td>51005</td>\n",
       "      <td>51005</td>\n",
       "      <td>2023-03-01 03:56:22.993</td>\n",
       "      <td>429140840</td>\n",
       "      <td>1635.84</td>\n",
       "      <td>0.444417</td>\n",

       "      <td>1</td>\n",
       "      <td>eth-usd</td>\n",
       "    </tr>\n",
       "    <tr>\n",

       "      <th>51006</th>\n",
       "      <td>51006</td>\n",
       "      <td>51006</td>\n",
       "      <td>2023-03-01 03:56:22.993</td>\n",
       "      <td>429140840</td>\n",
       "      <td>1635.84</td>\n",
       "      <td>0.444417</td>\n",

       "      <td>1</td>\n",
       "      <td>eth-usd</td>\n",
       "    </tr>\n",
       "    <tr>\n",

       "      <th>51010</th>\n",
       "      <td>51010</td>\n",
       "      <td>51010</td>\n",
       "      <td>2023-03-01 03:56:24.910</td>\n",
       "      <td>429140844</td>\n",
       "      <td>1635.85</td>\n",
       "      <td>0.135290</td>\n",
       "      <td>0</td>\n",
       "      <td>eth-usd</td>\n",
       "    </tr>\n",
       "    <tr>\n",
       "      <th>51011</th>\n",
       "      <td>51011</td>\n",
       "      <td>51011</td>\n",
       "      <td>2023-03-01 03:56:24.910</td>\n",
       "      <td>429140844</td>\n",
       "      <td>1635.85</td>\n",
       "      <td>0.135290</td>\n",
       "      <td>0</td>\n",
       "      <td>eth-usd</td>\n",
       "    </tr>\n",
       "    <tr>\n",
       "      <th>51012</th>\n",
       "      <td>51012</td>\n",
       "      <td>51012</td>\n",
       "      <td>2023-03-01 03:56:24.910</td>\n",
       "      <td>429140844</td>\n",
       "      <td>1635.85</td>\n",
       "      <td>0.135290</td>\n",

       "      <td>0</td>\n",
       "      <td>eth-usd</td>\n",
       "    </tr>\n",
       "    <tr>\n",
       "      <th>...</th>\n",
       "      <td>...</td>\n",
       "      <td>...</td>\n",
       "      <td>...</td>\n",
       "      <td>...</td>\n",
       "      <td>...</td>\n",
       "      <td>...</td>\n",

       "      <td>...</td>\n",
       "      <td>...</td>\n",
       "    </tr>\n",
       "    <tr>\n",
       "      <th>23924457</th>\n",
       "      <td>23042723</td>\n",
       "      <td>23042723</td>\n",
       "      <td>2023-03-31 20:11:26.484</td>\n",
       "      <td>516761557</td>\n",
       "      <td>28413.52</td>\n",
       "      <td>0.010000</td>\n",

       "      <td>1</td>\n",
       "      <td>btc-usd</td>\n",
       "    </tr>\n",
       "    <tr>\n",

       "      <th>24083761</th>\n",
       "      <td>23408346</td>\n",
       "      <td>23408346</td>\n",
       "      <td>2023-04-01 09:37:13.215</td>\n",
       "      <td>516924136</td>\n",
       "      <td>28479.35</td>\n",
       "      <td>0.005000</td>\n",

       "      <td>1</td>\n",
       "      <td>btc-usd</td>\n",
       "    </tr>\n",
       "    <tr>\n",

       "      <th>24083762</th>\n",
       "      <td>23408347</td>\n",
       "      <td>23408347</td>\n",
       "      <td>2023-04-01 09:37:13.215</td>\n",
       "      <td>516924136</td>\n",
       "      <td>28479.35</td>\n",
       "      <td>0.005000</td>\n",

       "      <td>1</td>\n",
       "      <td>btc-usd</td>\n",
       "    </tr>\n",
       "    <tr>\n",

       "      <th>24183761</th>\n",
       "      <td>23508346</td>\n",
       "      <td>23508346</td>\n",
       "      <td>2023-04-01 18:44:09.751</td>\n",
       "      <td>517025626</td>\n",
       "      <td>28363.22</td>\n",
       "      <td>0.000141</td>\n",
       "      <td>1</td>\n",
       "      <td>btc-usd</td>\n",
       "    </tr>\n",
       "    <tr>\n",

       "      <th>24183762</th>\n",
       "      <td>23508347</td>\n",
       "      <td>23508347</td>\n",
       "      <td>2023-04-01 18:44:09.751</td>\n",
       "      <td>517025626</td>\n",
       "      <td>28363.22</td>\n",
       "      <td>0.000141</td>\n",

       "      <td>1</td>\n",
       "      <td>btc-usd</td>\n",
       "    </tr>\n",
       "  </tbody>\n",
       "</table>\n",

       "<p>16268 rows × 8 columns</p>\n",
       "</div>"
      ],
      "text/plain": [
       "          Unnamed: 0.1  Unnamed: 0                timestamp   trade_id  \\\n",
       "51005            51005       51005  2023-03-01 03:56:22.993  429140840   \n",
       "51006            51006       51006  2023-03-01 03:56:22.993  429140840   \n",
       "51010            51010       51010  2023-03-01 03:56:24.910  429140844   \n",
       "51011            51011       51011  2023-03-01 03:56:24.910  429140844   \n",
       "51012            51012       51012  2023-03-01 03:56:24.910  429140844   \n",
       "...                ...         ...                      ...        ...   \n",
       "23924457      23042723    23042723  2023-03-31 20:11:26.484  516761557   \n",
       "24083761      23408346    23408346  2023-04-01 09:37:13.215  516924136   \n",
       "24083762      23408347    23408347  2023-04-01 09:37:13.215  516924136   \n",
       "24183761      23508346    23508346  2023-04-01 18:44:09.751  517025626   \n",
       "24183762      23508347    23508347  2023-04-01 18:44:09.751  517025626   \n",
       "\n",
       "             price    amount  taker_side_sell currency_pair  \n",
       "51005      1635.84  0.444417                1       eth-usd  \n",
       "51006      1635.84  0.444417                1       eth-usd  \n",
       "51010      1635.85  0.135290                0       eth-usd  \n",
       "51011      1635.85  0.135290                0       eth-usd  \n",
       "51012      1635.85  0.135290                0       eth-usd  \n",
       "...            ...       ...              ...           ...  \n",
       "23924457  28413.52  0.010000                1       btc-usd  \n",
       "24083761  28479.35  0.005000                1       btc-usd  \n",
       "24083762  28479.35  0.005000                1       btc-usd  \n",
       "24183761  28363.22  0.000141                1       btc-usd  \n",
       "24183762  28363.22  0.000141                1       btc-usd  \n",
       "\n",
       "[16268 rows x 8 columns]"

      ]
     },
     "execution_count": 2,
     "metadata": {},
     "output_type": "execute_result"
    }
   ],
   "source": [
    "# check the anamolies for the data \n",

    "duplicateCase = df[df.duplicated(['timestamp', 'trade_id', 'amount'], keep=False)]\n",

    "duplicateCase"
   ]
  },
  {
   "cell_type": "code",
   "execution_count": 3,
   "metadata": {},
   "outputs": [],
   "source": [
    "# we drop the columns that has excatly same timestamp, trade_id, and amount\n",
    "duplicateCase.shape[0]\n",

    "df.drop_duplicates(subset=[\"timestamp\", \"trade_id\", \"amount\"], keep=\"last\", inplace=True)"

   ]
  },
  {
   "cell_type": "code",
   "execution_count": 4,
   "metadata": {},
   "outputs": [
    {
     "data": {
      "text/html": [
       "<div>\n",
       "<style scoped>\n",
       "    .dataframe tbody tr th:only-of-type {\n",
       "        vertical-align: middle;\n",
       "    }\n",
       "\n",
       "    .dataframe tbody tr th {\n",
       "        vertical-align: top;\n",
       "    }\n",
       "\n",
       "    .dataframe thead th {\n",
       "        text-align: right;\n",
       "    }\n",
       "</style>\n",
       "<table border=\"1\" class=\"dataframe\">\n",
       "  <thead>\n",
       "    <tr style=\"text-align: right;\">\n",
       "      <th></th>\n",

       "      <th>Unnamed: 0.1</th>\n",
       "      <th>Unnamed: 0</th>\n",

       "      <th>timestamp</th>\n",
       "      <th>trade_id</th>\n",
       "      <th>price</th>\n",
       "      <th>amount</th>\n",
       "      <th>taker_side_sell</th>\n",
       "      <th>currency_pair</th>\n",
       "    </tr>\n",
       "  </thead>\n",
       "  <tbody>\n",
       "    <tr>\n",
       "      <th>0</th>\n",

       "      <td>0</td>\n",
       "      <td>0</td>\n",
       "      <td>2023-03-01 00:00:00.295</td>\n",
       "      <td>429089835</td>\n",
       "      <td>1605.59</td>\n",
       "      <td>0.051726</td>\n",

       "      <td>0</td>\n",
       "      <td>eth-usd</td>\n",
       "    </tr>\n",
       "    <tr>\n",
       "      <th>1</th>\n",

       "      <td>1</td>\n",
       "      <td>1</td>\n",
       "      <td>2023-03-01 00:00:00.295</td>\n",
       "      <td>429089836</td>\n",
       "      <td>1605.60</td>\n",
       "      <td>1.245640</td>\n",

       "      <td>0</td>\n",
       "      <td>eth-usd</td>\n",
       "    </tr>\n",
       "    <tr>\n",
       "      <th>2</th>\n",

       "      <td>2</td>\n",
       "      <td>2</td>\n",
       "      <td>2023-03-01 00:00:00.295</td>\n",
       "      <td>429089837</td>\n",
       "      <td>1605.62</td>\n",
       "      <td>0.080871</td>\n",
       "      <td>0</td>\n",

       "      <td>eth-usd</td>\n",
       "    </tr>\n",
       "    <tr>\n",
       "      <th>3</th>\n",

       "      <td>3</td>\n",
       "      <td>3</td>\n",
       "      <td>2023-03-01 00:00:00.295</td>\n",
       "      <td>429089838</td>\n",
       "      <td>1605.62</td>\n",
       "      <td>0.000953</td>\n",
       "      <td>0</td>\n",

       "      <td>eth-usd</td>\n",
       "    </tr>\n",
       "    <tr>\n",
       "      <th>4</th>\n",

       "      <td>4</td>\n",
       "      <td>4</td>\n",
       "      <td>2023-03-01 00:00:00.855</td>\n",
       "      <td>429089839</td>\n",
       "      <td>1605.58</td>\n",
       "      <td>0.031282</td>\n",

       "      <td>1</td>\n",
       "      <td>eth-usd</td>\n",
       "    </tr>\n",
       "    <tr>\n",
       "      <th>...</th>\n",
       "      <td>...</td>\n",
       "      <td>...</td>\n",
       "      <td>...</td>\n",
       "      <td>...</td>\n",
       "      <td>...</td>\n",
       "      <td>...</td>\n",

       "      <td>...</td>\n",
       "      <td>...</td>\n",
       "    </tr>\n",
       "    <tr>\n",
       "      <th>24250931</th>\n",
       "      <td>23575516</td>\n",
       "      <td>23575516</td>\n",
       "      <td>2023-04-01 23:59:57.530</td>\n",
       "      <td>517093848</td>\n",
       "      <td>28471.20</td>\n",
       "      <td>0.004681</td>\n",

       "      <td>1</td>\n",
       "      <td>btc-usd</td>\n",
       "    </tr>\n",
       "    <tr>\n",

       "      <th>24250932</th>\n",
       "      <td>23575517</td>\n",
       "      <td>23575517</td>\n",
       "      <td>2023-04-01 23:59:58.316</td>\n",
       "      <td>517093849</td>\n",
       "      <td>28470.91</td>\n",
       "      <td>0.000141</td>\n",

       "      <td>1</td>\n",
       "      <td>btc-usd</td>\n",
       "    </tr>\n",
       "    <tr>\n",

       "      <th>24250933</th>\n",
       "      <td>23575518</td>\n",
       "      <td>23575518</td>\n",
       "      <td>2023-04-01 23:59:58.369</td>\n",
       "      <td>517093850</td>\n",
       "      <td>28469.60</td>\n",
       "      <td>0.001419</td>\n",
       "      <td>0</td>\n",
       "      <td>btc-usd</td>\n",
       "    </tr>\n",
       "    <tr>\n",
       "      <th>24250934</th>\n",
       "      <td>23575519</td>\n",
       "      <td>23575519</td>\n",
       "      <td>2023-04-01 23:59:58.899</td>\n",
       "      <td>517093851</td>\n",
       "      <td>28470.89</td>\n",
       "      <td>0.000365</td>\n",

       "      <td>1</td>\n",
       "      <td>btc-usd</td>\n",
       "    </tr>\n",
       "    <tr>\n",

       "      <th>24250935</th>\n",
       "      <td>23575520</td>\n",
       "      <td>23575520</td>\n",
       "      <td>2023-04-01 23:59:59.344</td>\n",
       "      <td>517093852</td>\n",
       "      <td>28471.46</td>\n",
       "      <td>0.003344</td>\n",

       "      <td>1</td>\n",
       "      <td>btc-usd</td>\n",
       "    </tr>\n",
       "  </tbody>\n",
       "</table>\n",

       "<p>24242461 rows × 8 columns</p>\n",
       "</div>"
      ],
      "text/plain": [
       "          Unnamed: 0.1  Unnamed: 0                timestamp   trade_id  \\\n",
       "0                    0           0  2023-03-01 00:00:00.295  429089835   \n",
       "1                    1           1  2023-03-01 00:00:00.295  429089836   \n",
       "2                    2           2  2023-03-01 00:00:00.295  429089837   \n",
       "3                    3           3  2023-03-01 00:00:00.295  429089838   \n",
       "4                    4           4  2023-03-01 00:00:00.855  429089839   \n",
       "...                ...         ...                      ...        ...   \n",
       "24250931      23575516    23575516  2023-04-01 23:59:57.530  517093848   \n",
       "24250932      23575517    23575517  2023-04-01 23:59:58.316  517093849   \n",
       "24250933      23575518    23575518  2023-04-01 23:59:58.369  517093850   \n",
       "24250934      23575519    23575519  2023-04-01 23:59:58.899  517093851   \n",
       "24250935      23575520    23575520  2023-04-01 23:59:59.344  517093852   \n",
       "\n",
       "             price    amount  taker_side_sell currency_pair  \n",
       "0          1605.59  0.051726                0       eth-usd  \n",
       "1          1605.60  1.245640                0       eth-usd  \n",
       "2          1605.62  0.080871                0       eth-usd  \n",
       "3          1605.62  0.000953                0       eth-usd  \n",
       "4          1605.58  0.031282                1       eth-usd  \n",
       "...            ...       ...              ...           ...  \n",
       "24250931  28471.20  0.004681                1       btc-usd  \n",
       "24250932  28470.91  0.000141                1       btc-usd  \n",
       "24250933  28469.60  0.001419                0       btc-usd  \n",
       "24250934  28470.89  0.000365                1       btc-usd  \n",
       "24250935  28471.46  0.003344                1       btc-usd  \n",
       "\n",
       "[24242461 rows x 8 columns]"

      ]
     },
     "execution_count": 4,
     "metadata": {},
     "output_type": "execute_result"
    }
   ],
   "source": [

    "df"

   ]
  },
  {
   "cell_type": "code",

   "execution_count": 38,

   "metadata": {},
   "outputs": [
    {
     "data": {
      "text/plain": [
       "timestamp          0\n",
       "trade_id           0\n",
       "price              0\n",
       "amount             0\n",
       "taker_side_sell    0\n",
       "currency_pair      0\n",
       "dtype: int64"
      ]
     },

     "execution_count": 38,

     "metadata": {},
     "output_type": "execute_result"
    }
   ],
   "source": [

    "df.isnull().sum()"

   ]
  },
  {
   "attachments": {},
   "cell_type": "markdown",
   "metadata": {},
   "source": [
    "The above result showed that now our data frame is working without any anomalies. "
   ]
  },
  {
   "cell_type": "code",

   "execution_count": 39,

   "metadata": {},
   "outputs": [
    {
     "name": "stdout",
     "output_type": "stream",
     "text": [
      "<class 'pandas.core.frame.DataFrame'>\n",

      "Int64Index: 685506 entries, 0 to 686723\n",
      "Data columns (total 6 columns):\n",
      " #   Column           Non-Null Count   Dtype  \n",
      "---  ------           --------------   -----  \n",
      " 0   timestamp        685506 non-null  object \n",
      " 1   trade_id         685506 non-null  float64\n",
      " 2   price            685506 non-null  float64\n",
      " 3   amount           685506 non-null  float64\n",
      " 4   taker_side_sell  685506 non-null  float64\n",
      " 5   currency_pair    685506 non-null  object \n",
      "dtypes: float64(4), object(2)\n",
      "memory usage: 36.6+ MB\n"

     ]
    }
   ],
   "source": [

    "df.info()"

   ]
  },
  {
   "cell_type": "code",

   "execution_count": 40,

   "metadata": {},
   "outputs": [
    {
     "data": {
      "text/html": [
       "<div>\n",
       "<style scoped>\n",
       "    .dataframe tbody tr th:only-of-type {\n",
       "        vertical-align: middle;\n",
       "    }\n",
       "\n",
       "    .dataframe tbody tr th {\n",
       "        vertical-align: top;\n",
       "    }\n",
       "\n",
       "    .dataframe thead th {\n",
       "        text-align: right;\n",
       "    }\n",
       "</style>\n",
       "<table border=\"1\" class=\"dataframe\">\n",
       "  <thead>\n",
       "    <tr style=\"text-align: right;\">\n",
       "      <th></th>\n",
       "      <th>trade_id</th>\n",
       "      <th>price</th>\n",
       "      <th>amount</th>\n",
       "      <th>taker_side_sell</th>\n",
       "    </tr>\n",
       "  </thead>\n",
       "  <tbody>\n",
       "    <tr>\n",
       "      <th>count</th>\n",

       "      <td>6.855060e+05</td>\n",
       "      <td>685506.000000</td>\n",
       "      <td>6.855060e+05</td>\n",
       "      <td>685506.000000</td>\n",
       "    </tr>\n",
       "    <tr>\n",
       "      <th>mean</th>\n",
       "      <td>4.673604e+08</td>\n",
       "      <td>12852.572434</td>\n",
       "      <td>2.509074e-01</td>\n",
       "      <td>0.409627</td>\n",
       "    </tr>\n",
       "    <tr>\n",
       "      <th>std</th>\n",
       "      <td>3.730337e+07</td>\n",
       "      <td>10971.258258</td>\n",
       "      <td>1.024793e+00</td>\n",
       "      <td>0.491765</td>\n",
       "    </tr>\n",
       "    <tr>\n",
       "      <th>min</th>\n",
       "      <td>4.290898e+08</td>\n",
       "      <td>1595.000000</td>\n",
       "      <td>1.000000e-08</td>\n",
       "      <td>0.000000</td>\n",
       "    </tr>\n",
       "    <tr>\n",
       "      <th>25%</th>\n",
       "      <td>4.292615e+08</td>\n",
       "      <td>1653.090000</td>\n",
       "      <td>2.771265e-03</td>\n",
       "      <td>0.000000</td>\n",
       "    </tr>\n",
       "    <tr>\n",
       "      <th>50%</th>\n",
       "      <td>5.037130e+08</td>\n",
       "      <td>23136.760000</td>\n",
       "      <td>2.105114e-02</td>\n",
       "      <td>0.000000</td>\n",
       "    </tr>\n",
       "    <tr>\n",
       "      <th>75%</th>\n",
       "      <td>5.038847e+08</td>\n",
       "      <td>23667.490000</td>\n",
       "      <td>1.231579e-01</td>\n",
       "      <td>1.000000</td>\n",
       "    </tr>\n",
       "    <tr>\n",
       "      <th>max</th>\n",
       "      <td>5.040561e+08</td>\n",
       "      <td>23999.990000</td>\n",
       "      <td>2.100030e+02</td>\n",
       "      <td>1.000000</td>\n",

       "    </tr>\n",
       "  </tbody>\n",
       "</table>\n",
       "</div>"
      ],
      "text/plain": [

       "           trade_id          price        amount  taker_side_sell\n",
       "count  6.855060e+05  685506.000000  6.855060e+05    685506.000000\n",
       "mean   4.673604e+08   12852.572434  2.509074e-01         0.409627\n",
       "std    3.730337e+07   10971.258258  1.024793e+00         0.491765\n",
       "min    4.290898e+08    1595.000000  1.000000e-08         0.000000\n",
       "25%    4.292615e+08    1653.090000  2.771265e-03         0.000000\n",
       "50%    5.037130e+08   23136.760000  2.105114e-02         0.000000\n",
       "75%    5.038847e+08   23667.490000  1.231579e-01         1.000000\n",
       "max    5.040561e+08   23999.990000  2.100030e+02         1.000000"
      ]
     },
     "execution_count": 40,

     "metadata": {},
     "output_type": "execute_result"
    }
   ],
   "source": [

    "df.describe()"

   ]
  },
  {
   "cell_type": "code",

   "execution_count": 41,

   "metadata": {},
   "outputs": [
    {
     "data": {
      "text/html": [
       "<div>\n",
       "<style scoped>\n",
       "    .dataframe tbody tr th:only-of-type {\n",
       "        vertical-align: middle;\n",
       "    }\n",
       "\n",
       "    .dataframe tbody tr th {\n",
       "        vertical-align: top;\n",
       "    }\n",
       "\n",
       "    .dataframe thead th {\n",
       "        text-align: right;\n",
       "    }\n",
       "</style>\n",
       "<table border=\"1\" class=\"dataframe\">\n",
       "  <thead>\n",
       "    <tr style=\"text-align: right;\">\n",
       "      <th></th>\n",
       "      <th>timestamp</th>\n",
       "      <th>currency_pair</th>\n",
       "    </tr>\n",
       "  </thead>\n",
       "  <tbody>\n",
       "    <tr>\n",
       "      <th>count</th>\n",

       "      <td>685506</td>\n",
       "      <td>685506</td>\n",
       "    </tr>\n",
       "    <tr>\n",
       "      <th>unique</th>\n",
       "      <td>383357</td>\n",

       "      <td>2</td>\n",
       "    </tr>\n",
       "    <tr>\n",
       "      <th>top</th>\n",

       "      <td>2023-03-01 02:14:38.931000064</td>\n",

       "      <td>btc-usd</td>\n",
       "    </tr>\n",
       "    <tr>\n",
       "      <th>freq</th>\n",

       "      <td>255</td>\n",
       "      <td>350019</td>\n",

       "    </tr>\n",
       "  </tbody>\n",
       "</table>\n",
       "</div>"
      ],
      "text/plain": [

       "                            timestamp currency_pair\n",
       "count                          685506        685506\n",
       "unique                         383357             2\n",
       "top     2023-03-01 02:14:38.931000064       btc-usd\n",
       "freq                              255        350019"
      ]
     },
     "execution_count": 41,

     "metadata": {},
     "output_type": "execute_result"
    }
   ],
   "source": [

    "df.describe(include=\"object\")"

   ]
  },
  {
   "cell_type": "code",

   "execution_count": 56,

   "metadata": {},
   "outputs": [
    {
     "name": "stderr",
     "output_type": "stream",
     "text": [

      "/var/folders/nv/_lx3265n1ylgqznjwtpq7p200000gn/T/ipykernel_8559/1235333285.py:2: FutureWarning: The default value of numeric_only in DataFrame.corr is deprecated. In a future version, it will default to False. Select only valid columns or specify the value of numeric_only to silence this warning.\n",
      "  df.corr()\n"

     ]
    },
    {
     "data": {
      "text/html": [
       "<div>\n",
       "<style scoped>\n",
       "    .dataframe tbody tr th:only-of-type {\n",
       "        vertical-align: middle;\n",
       "    }\n",
       "\n",
       "    .dataframe tbody tr th {\n",
       "        vertical-align: top;\n",
       "    }\n",
       "\n",
       "    .dataframe thead th {\n",
       "        text-align: right;\n",
       "    }\n",
       "</style>\n",
       "<table border=\"1\" class=\"dataframe\">\n",
       "  <thead>\n",
       "    <tr style=\"text-align: right;\">\n",
       "      <th></th>\n",
       "      <th>trade_id</th>\n",
       "      <th>price</th>\n",
       "      <th>amount</th>\n",
       "      <th>taker_side_sell</th>\n",
       "    </tr>\n",
       "  </thead>\n",
       "  <tbody>\n",
       "    <tr>\n",
       "      <th>trade_id</th>\n",
       "      <td>1.000000</td>\n",

       "      <td>0.999929</td>\n",
       "      <td>-0.215521</td>\n",
       "      <td>0.015693</td>\n",
       "    </tr>\n",
       "    <tr>\n",
       "      <th>price</th>\n",
       "      <td>0.999929</td>\n",
       "      <td>1.000000</td>\n",
       "      <td>-0.215453</td>\n",
       "      <td>0.015551</td>\n",
       "    </tr>\n",
       "    <tr>\n",
       "      <th>amount</th>\n",
       "      <td>-0.215521</td>\n",
       "      <td>-0.215453</td>\n",
       "      <td>1.000000</td>\n",
       "      <td>0.037306</td>\n",
       "    </tr>\n",
       "    <tr>\n",
       "      <th>taker_side_sell</th>\n",
       "      <td>0.015693</td>\n",
       "      <td>0.015551</td>\n",
       "      <td>0.037306</td>\n",

       "      <td>1.000000</td>\n",
       "    </tr>\n",
       "  </tbody>\n",
       "</table>\n",
       "</div>"
      ],
      "text/plain": [
       "                 trade_id     price    amount  taker_side_sell\n",

       "trade_id         1.000000  0.999929 -0.215521         0.015693\n",
       "price            0.999929  1.000000 -0.215453         0.015551\n",
       "amount          -0.215521 -0.215453  1.000000         0.037306\n",
       "taker_side_sell  0.015693  0.015551  0.037306         1.000000"
      ]
     },
     "execution_count": 56,

     "metadata": {},
     "output_type": "execute_result"
    }
   ],
   "source": [
    "# check if there is any correlation between different colmuns \n",

    "df.corr()"

   ]
  },
  {
   "cell_type": "code",

   "execution_count": 57,

   "metadata": {},
   "outputs": [
    {
     "data": {
      "text/html": [
       "<div>\n",
       "<style scoped>\n",
       "    .dataframe tbody tr th:only-of-type {\n",
       "        vertical-align: middle;\n",
       "    }\n",
       "\n",
       "    .dataframe tbody tr th {\n",
       "        vertical-align: top;\n",
       "    }\n",
       "\n",
       "    .dataframe thead th {\n",
       "        text-align: right;\n",
       "    }\n",
       "</style>\n",
       "<table border=\"1\" class=\"dataframe\">\n",
       "  <thead>\n",
       "    <tr style=\"text-align: right;\">\n",
       "      <th></th>\n",
       "      <th>trade_id</th>\n",
       "      <th>price</th>\n",
       "      <th>amount</th>\n",
       "      <th>taker_side_sell</th>\n",
       "    </tr>\n",
       "  </thead>\n",
       "  <tbody>\n",
       "    <tr>\n",
       "      <th>count</th>\n",

       "      <td>3.354870e+05</td>\n",
       "      <td>335487.000000</td>\n",
       "      <td>3.354870e+05</td>\n",
       "      <td>335487.000000</td>\n",
       "    </tr>\n",
       "    <tr>\n",
       "      <th>mean</th>\n",
       "      <td>4.292578e+08</td>\n",
       "      <td>1647.038076</td>\n",
       "      <td>4.764792e-01</td>\n",
       "      <td>0.401744</td>\n",
       "    </tr>\n",
       "    <tr>\n",
       "      <th>std</th>\n",
       "      <td>9.691932e+04</td>\n",
       "      <td>14.894905</td>\n",
       "      <td>1.426572e+00</td>\n",
       "      <td>0.490252</td>\n",
       "    </tr>\n",
       "    <tr>\n",
       "      <th>min</th>\n",
       "      <td>4.290898e+08</td>\n",
       "      <td>1595.000000</td>\n",
       "      <td>1.000000e-08</td>\n",
       "      <td>0.000000</td>\n",
       "    </tr>\n",
       "    <tr>\n",
       "      <th>25%</th>\n",
       "      <td>4.291740e+08</td>\n",
       "      <td>1642.100000</td>\n",
       "      <td>1.659707e-02</td>\n",
       "      <td>0.000000</td>\n",
       "    </tr>\n",
       "    <tr>\n",
       "      <th>50%</th>\n",
       "      <td>4.292579e+08</td>\n",
       "      <td>1652.930000</td>\n",
       "      <td>7.968810e-02</td>\n",
       "      <td>0.000000</td>\n",
       "    </tr>\n",
       "    <tr>\n",
       "      <th>75%</th>\n",
       "      <td>4.293418e+08</td>\n",
       "      <td>1656.020000</td>\n",
       "      <td>3.700000e-01</td>\n",
       "      <td>1.000000</td>\n",
       "    </tr>\n",
       "    <tr>\n",
       "      <th>max</th>\n",
       "      <td>4.294256e+08</td>\n",
       "      <td>1669.900000</td>\n",
       "      <td>2.100030e+02</td>\n",
       "      <td>1.000000</td>\n",

       "    </tr>\n",
       "  </tbody>\n",
       "</table>\n",
       "</div>"
      ],
      "text/plain": [

       "           trade_id          price        amount  taker_side_sell\n",
       "count  3.354870e+05  335487.000000  3.354870e+05    335487.000000\n",
       "mean   4.292578e+08    1647.038076  4.764792e-01         0.401744\n",
       "std    9.691932e+04      14.894905  1.426572e+00         0.490252\n",
       "min    4.290898e+08    1595.000000  1.000000e-08         0.000000\n",
       "25%    4.291740e+08    1642.100000  1.659707e-02         0.000000\n",
       "50%    4.292579e+08    1652.930000  7.968810e-02         0.000000\n",
       "75%    4.293418e+08    1656.020000  3.700000e-01         1.000000\n",
       "max    4.294256e+08    1669.900000  2.100030e+02         1.000000"
      ]
     },
     "execution_count": 57,

     "metadata": {},
     "output_type": "execute_result"
    }
   ],
   "source": [
    "# statistical summary per currency pair\n",
    "#eth-usd \n",

    "df[df[\"currency_pair\"]==\"eth-usd\"].describe()\n"

   ]
  },
  {
   "cell_type": "code",

   "execution_count": 58,

   "metadata": {},
   "outputs": [
    {
     "data": {
      "text/html": [
       "<div>\n",
       "<style scoped>\n",
       "    .dataframe tbody tr th:only-of-type {\n",
       "        vertical-align: middle;\n",
       "    }\n",
       "\n",
       "    .dataframe tbody tr th {\n",
       "        vertical-align: top;\n",
       "    }\n",
       "\n",
       "    .dataframe thead th {\n",
       "        text-align: right;\n",
       "    }\n",
       "</style>\n",
       "<table border=\"1\" class=\"dataframe\">\n",
       "  <thead>\n",
       "    <tr style=\"text-align: right;\">\n",
       "      <th></th>\n",
       "      <th>trade_id</th>\n",
       "      <th>price</th>\n",
       "      <th>amount</th>\n",
       "      <th>taker_side_sell</th>\n",
       "    </tr>\n",
       "  </thead>\n",
       "  <tbody>\n",
       "    <tr>\n",
       "      <th>count</th>\n",

       "      <td>3.500190e+05</td>\n",
       "      <td>350019.000000</td>\n",
       "      <td>3.500190e+05</td>\n",
       "      <td>350019.000000</td>\n",
       "    </tr>\n",
       "    <tr>\n",
       "      <th>mean</th>\n",
       "      <td>5.038810e+08</td>\n",
       "      <td>23592.878260</td>\n",
       "      <td>3.470081e-02</td>\n",
       "      <td>0.417183</td>\n",
       "    </tr>\n",
       "    <tr>\n",
       "      <th>std</th>\n",
       "      <td>1.011067e+05</td>\n",
       "      <td>184.376686</td>\n",
       "      <td>1.033113e-01</td>\n",
       "      <td>0.493094</td>\n",
       "    </tr>\n",
       "    <tr>\n",
       "      <th>min</th>\n",
       "      <td>5.037058e+08</td>\n",
       "      <td>23025.170000</td>\n",
       "      <td>1.000000e-08</td>\n",
       "      <td>0.000000</td>\n",
       "    </tr>\n",
       "    <tr>\n",
       "      <th>25%</th>\n",
       "      <td>5.037936e+08</td>\n",
       "      <td>23474.325000</td>\n",
       "      <td>1.072875e-03</td>\n",
       "      <td>0.000000</td>\n",
       "    </tr>\n",
       "    <tr>\n",
       "      <th>50%</th>\n",
       "      <td>5.038811e+08</td>\n",
       "      <td>23663.550000</td>\n",
       "      <td>5.186840e-03</td>\n",
       "      <td>0.000000</td>\n",
       "    </tr>\n",
       "    <tr>\n",
       "      <th>75%</th>\n",
       "      <td>5.039686e+08</td>\n",
       "      <td>23722.670000</td>\n",
       "      <td>2.824011e-02</td>\n",
       "      <td>1.000000</td>\n",
       "    </tr>\n",
       "    <tr>\n",
       "      <th>max</th>\n",
       "      <td>5.040561e+08</td>\n",
       "      <td>23999.990000</td>\n",
       "      <td>1.126763e+01</td>\n",
       "      <td>1.000000</td>\n",

       "    </tr>\n",
       "  </tbody>\n",
       "</table>\n",
       "</div>"
      ],
      "text/plain": [

       "           trade_id          price        amount  taker_side_sell\n",
       "count  3.500190e+05  350019.000000  3.500190e+05    350019.000000\n",
       "mean   5.038810e+08   23592.878260  3.470081e-02         0.417183\n",
       "std    1.011067e+05     184.376686  1.033113e-01         0.493094\n",
       "min    5.037058e+08   23025.170000  1.000000e-08         0.000000\n",
       "25%    5.037936e+08   23474.325000  1.072875e-03         0.000000\n",
       "50%    5.038811e+08   23663.550000  5.186840e-03         0.000000\n",
       "75%    5.039686e+08   23722.670000  2.824011e-02         1.000000\n",
       "max    5.040561e+08   23999.990000  1.126763e+01         1.000000"
      ]
     },
     "execution_count": 58,

     "metadata": {},
     "output_type": "execute_result"
    }
   ],
   "source": [
    "# statistical summary per currency pair\n",
    "# btc-usd\n",

    "df[df[\"currency_pair\"]==\"btc-usd\"].describe()\n"

   ]
  },
  {
   "cell_type": "code",

   "execution_count": 59,

   "metadata": {},
   "outputs": [
    {
     "data": {
      "text/plain": [
       "currency_pair\n",

       "btc-usd    23592.878260\n",
       "eth-usd     1647.038076\n",
       "Name: price, dtype: float64"
      ]
     },
     "execution_count": 59,

     "metadata": {},
     "output_type": "execute_result"
    }
   ],
   "source": [
    "# average price per currency pair\n",

    "df.groupby(\"currency_pair\")[\"price\"].mean()"

   ]
  },
  {
   "cell_type": "code",

   "execution_count": 70,

   "metadata": {},
   "outputs": [
    {
     "data": {
      "text/plain": [

       "(array([335487.,      0.,      0.,      0., 350019.]),\n",
       " array([ 1595.   ,  6075.998, 10556.996, 15037.994, 19518.992, 23999.99 ]),\n",
       " <BarContainer object of 5 artists>)"
      ]
     },
     "execution_count": 70,

     "metadata": {},
     "output_type": "execute_result"
    },
    {
     "data": {

      "image/png": "[encoded data removed]",

      "text/plain": [
       "<Figure size 1000x600 with 1 Axes>"
      ]
     },
     "metadata": {},
     "output_type": "display_data"
    }
   ],
   "source": [
    "# plot price distribution\n",
    "\n",
    "import matplotlib.pyplot as plt\n",
    "\n",
    "plt.figure(figsize=(10,6))\n",

    "plt.hist(df[\"price\"], bins=5)"

   ]
  },
  {
   "cell_type": "code",

   "execution_count": 63,

   "metadata": {},
   "outputs": [],
   "source": [
    "# split data by currency pair\n",

    "grouped = df.groupby('currency_pair')\n",

    "\n",
    "# access data for specific group\n",
    "price_eth = grouped.get_group('eth-usd')\n",
    "price_btc = grouped.get_group('btc-usd')"
   ]
  },
  {
   "cell_type": "code",

   "execution_count": 73,

   "metadata": {},
   "outputs": [],
   "source": [
    "# Using price_eth and price_btc tables\n",
    "# Extract relevant price column\n",
    "\n",
    "currency_eth_prices = price_eth['price']\n",
    "currency_btc_prices = price_btc['price']\n"
   ]
  },
  {
   "cell_type": "code",

   "execution_count": 75,

   "metadata": {},
   "outputs": [
    {
     "data": {
      "text/plain": [

       "[<matplotlib.lines.Line2D at 0x12c42c220>]"
      ]
     },
     "execution_count": 75,

     "metadata": {},
     "output_type": "execute_result"
    },
    {
     "data": {

      "image/png": "[encoded data removed]",

      "text/plain": [
       "<Figure size 640x480 with 1 Axes>"
      ]
     },
     "metadata": {},
     "output_type": "display_data"
    }
   ],
   "source": [
    "# plot price per currency pair\n",
    "\n",
    "import matplotlib.pyplot as plt\n",
    "\n",
    "plt.plot(currency_btc_prices)"
   ]
  }
 ],
 "metadata": {
  "kernelspec": {
   "display_name": "Python 3",
   "language": "python",
   "name": "python3"
  },
  "language_info": {
   "codemirror_mode": {
    "name": "ipython",
    "version": 3
   },
   "file_extension": ".py",
   "mimetype": "text/x-python",
   "name": "python",
   "nbconvert_exporter": "python",
   "pygments_lexer": "ipython3",

   "version": "3.11.2"

  },
  "orig_nbformat": 4
 },
 "nbformat": 4,
 "nbformat_minor": 2
}
