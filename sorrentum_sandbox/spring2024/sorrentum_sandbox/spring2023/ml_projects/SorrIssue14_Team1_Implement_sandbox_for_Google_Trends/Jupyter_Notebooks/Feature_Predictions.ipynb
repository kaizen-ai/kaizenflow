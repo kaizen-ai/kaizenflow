{
  "nbformat": 4,
  "nbformat_minor": 0,
  "metadata": {
    "colab": {
      "provenance": []
    },
    "kernelspec": {
      "name": "python3",
      "display_name": "Python 3"
    },
    "language_info": {
      "name": "python"
    }
  },
  "cells": [
    {
      "cell_type": "code",
      "source": [
        "!pip install google-search-results\n",
        "!pip install pmdarima"
      ],
      "metadata": {
        "id": "XzGEAjWZALKn",
        "colab": {
          "base_uri": "https://localhost:8080/"
        },
        "outputId": "beeacd13-9324-4530-8714-ce59583b8584"
      },
      "execution_count": 1,
      "outputs": [
        {
          "output_type": "stream",
          "name": "stdout",
          "text": [
            "Looking in indexes: https://pypi.org/simple, https://us-python.pkg.dev/colab-wheels/public/simple/\n",
            "Collecting google-search-results\n",
            "  Downloading google_search_results-2.4.2.tar.gz (18 kB)\n",
            "  Preparing metadata (setup.py) ... \u001b[?25l\u001b[?25hdone\n",
            "Requirement already satisfied: requests in /usr/local/lib/python3.10/dist-packages (from google-search-results) (2.27.1)\n",
            "Requirement already satisfied: urllib3<1.27,>=1.21.1 in /usr/local/lib/python3.10/dist-packages (from requests->google-search-results) (1.26.15)\n",
            "Requirement already satisfied: charset-normalizer~=2.0.0 in /usr/local/lib/python3.10/dist-packages (from requests->google-search-results) (2.0.12)\n",
            "Requirement already satisfied: certifi>=2017.4.17 in /usr/local/lib/python3.10/dist-packages (from requests->google-search-results) (2022.12.7)\n",
            "Requirement already satisfied: idna<4,>=2.5 in /usr/local/lib/python3.10/dist-packages (from requests->google-search-results) (3.4)\n",
            "Building wheels for collected packages: google-search-results\n",
            "  Building wheel for google-search-results (setup.py) ... \u001b[?25l\u001b[?25hdone\n",
            "  Created wheel for google-search-results: filename=google_search_results-2.4.2-py3-none-any.whl size=32019 sha256=6a4afbb633d51f2a50362a77ee1caf172b27530cd97b731bccdcc86293f9ff30\n",
            "  Stored in directory: /root/.cache/pip/wheels/d3/b2/c3/03302d12bb44a2cdff3c9371f31b72c0c4e84b8d2285eeac53\n",
            "Successfully built google-search-results\n",
            "Installing collected packages: google-search-results\n",
            "Successfully installed google-search-results-2.4.2\n",
            "Looking in indexes: https://pypi.org/simple, https://us-python.pkg.dev/colab-wheels/public/simple/\n",
            "Collecting pmdarima\n",
            "  Downloading pmdarima-2.0.3-cp310-cp310-manylinux_2_17_x86_64.manylinux2014_x86_64.manylinux_2_28_x86_64.whl (1.8 MB)\n",
            "\u001b[2K     \u001b[90m━━━━━━━━━━━━━━━━━━━━━━━━━━━━━━━━━━━━━━━━\u001b[0m \u001b[32m1.8/1.8 MB\u001b[0m \u001b[31m7.6 MB/s\u001b[0m eta \u001b[36m0:00:00\u001b[0m\n",
            "\u001b[?25hRequirement already satisfied: numpy>=1.21.2 in /usr/local/lib/python3.10/dist-packages (from pmdarima) (1.22.4)\n",
            "Requirement already satisfied: scikit-learn>=0.22 in /usr/local/lib/python3.10/dist-packages (from pmdarima) (1.2.2)\n",
            "Requirement already satisfied: setuptools!=50.0.0,>=38.6.0 in /usr/local/lib/python3.10/dist-packages (from pmdarima) (67.7.2)\n",
            "Requirement already satisfied: scipy>=1.3.2 in /usr/local/lib/python3.10/dist-packages (from pmdarima) (1.10.1)\n",
            "Requirement already satisfied: pandas>=0.19 in /usr/local/lib/python3.10/dist-packages (from pmdarima) (1.5.3)\n",
            "Requirement already satisfied: urllib3 in /usr/local/lib/python3.10/dist-packages (from pmdarima) (1.26.15)\n",
            "Requirement already satisfied: statsmodels>=0.13.2 in /usr/local/lib/python3.10/dist-packages (from pmdarima) (0.13.5)\n",
            "Requirement already satisfied: joblib>=0.11 in /usr/local/lib/python3.10/dist-packages (from pmdarima) (1.2.0)\n",
            "Requirement already satisfied: Cython!=0.29.18,!=0.29.31,>=0.29 in /usr/local/lib/python3.10/dist-packages (from pmdarima) (0.29.34)\n",
            "Requirement already satisfied: python-dateutil>=2.8.1 in /usr/local/lib/python3.10/dist-packages (from pandas>=0.19->pmdarima) (2.8.2)\n",
            "Requirement already satisfied: pytz>=2020.1 in /usr/local/lib/python3.10/dist-packages (from pandas>=0.19->pmdarima) (2022.7.1)\n",
            "Requirement already satisfied: threadpoolctl>=2.0.0 in /usr/local/lib/python3.10/dist-packages (from scikit-learn>=0.22->pmdarima) (3.1.0)\n",
            "Requirement already satisfied: packaging>=21.3 in /usr/local/lib/python3.10/dist-packages (from statsmodels>=0.13.2->pmdarima) (23.1)\n",
            "Requirement already satisfied: patsy>=0.5.2 in /usr/local/lib/python3.10/dist-packages (from statsmodels>=0.13.2->pmdarima) (0.5.3)\n",
            "Requirement already satisfied: six in /usr/local/lib/python3.10/dist-packages (from patsy>=0.5.2->statsmodels>=0.13.2->pmdarima) (1.16.0)\n",
            "Installing collected packages: pmdarima\n",
            "Successfully installed pmdarima-2.0.3\n"
          ]
        }
      ]
    },
    {
      "cell_type": "code",
      "source": [
        "import dask.dataframe as dd\n",
        "from serpapi import GoogleSearch\n",
        "from pmdarima.arima import auto_arima\n",
        "from statsmodels.tsa.stattools import adfuller as ADF\n",
        "\n",
        "\n",
        "import json\n",
        "import pandas as pd\n",
        "import seaborn as sns\n",
        "import dask.dataframe as dd\n",
        "import matplotlib.pyplot as plt"
      ],
      "metadata": {
        "id": "ENtCktG-ANQG"
      },
      "execution_count": 2,
      "outputs": []
    },
    {
      "cell_type": "code",
      "source": [
        "def fetch_data(topic):\n",
        "    # paremetners for SERP API \n",
        "    params = {\n",
        "        \"engine\": \"google_trends\",\n",
        "        \"q\": topic,\n",
        "        \"data_type\": \"TIMESERIES\",\n",
        "        \"date\": \"all\",\n",
        "        \"api_key\": \"a6089e527a003d73adcb30646872ead71c83df40135fb2dd19848fa1c1d12644\"\n",
        "    }\n",
        "\n",
        "    # fetching the interest over time for a given topic\n",
        "    search = GoogleSearch(params)\n",
        "    results = search.get_dict()\n",
        "    interest_over_time = results[\"interest_over_time\"]\n",
        "\n",
        "    return interest_over_time"
      ],
      "metadata": {
        "id": "yQEK7B3EAjbp"
      },
      "execution_count": 3,
      "outputs": []
    },
    {
      "cell_type": "code",
      "source": [
        "def extract_data_from_json(json_file, read_file_from_path):\n",
        "    fetched_json_file = json_file\n",
        "\n",
        "    if read_file_from_path:\n",
        "        # if the read_file_from_path is True, read the file from the given path\n",
        "        # and parse it as JSON\n",
        "        with open(json_file, 'r') as file:\n",
        "            fetched_json_file = json.load(file)\n",
        "\n",
        "    # Define the column names for the dataframe\n",
        "    columns = [\"Topic\", \"Time\", \"Frequency\"]\n",
        "\n",
        "    # Initialize an empty list to store the cleaned data\n",
        "    cleaned_data = []\n",
        "\n",
        "    # Extract the raw data from the JSON file\n",
        "    raw_data = fetched_json_file['timeline_data']\n",
        "\n",
        "    # Loop through each record in the raw data and extract the relevant fields\n",
        "    for record in raw_data:\n",
        "        cleaned_data.append(\n",
        "            [\n",
        "                    record[\"values\"][0][\"query\"],  # Extract the topic\n",
        "                    record[\"date\"].replace(\"\\u2009\", \" \"),  # Extract the time\n",
        "                    record[\"values\"][0][\"extracted_value\"]  # Extract the frequency\n",
        "            ]\n",
        "        )\n",
        "\n",
        "    # Create a pandas dataframe from the cleaned data and column names\n",
        "    df = pd.DataFrame(cleaned_data, columns=columns)\n",
        "\n",
        "    # Return the resulting dataframe\n",
        "    return df\n"
      ],
      "metadata": {
        "id": "ybZTWp2ABuDE"
      },
      "execution_count": 4,
      "outputs": []
    },
    {
      "cell_type": "code",
      "source": [
        "def preprocess(data):\n",
        "    # Change the date(str) to datetime using Dask's to_datetime function\n",
        "    data['Date'] = dd.to_datetime(data['Time'])\n",
        "\n",
        "    # Change the index into datetime using set_index method\n",
        "    data = data.set_index('Date')\n",
        "    frequencies = data[['Frequency']]\n",
        "\n",
        "    return frequencies"
      ],
      "metadata": {
        "id": "CfMK-NUcEexK"
      },
      "execution_count": 5,
      "outputs": []
    },
    {
      "cell_type": "code",
      "source": [
        "def draw_ADF(df):\n",
        "  # Calculate the first and second differences of the 'Frequency' column and add them to the dataframe\n",
        "  df['diff_1'] = df['Frequency'].diff(1)\n",
        "  df['diff_2'] = df['diff_1'].diff(1)\n",
        "\n",
        "  # Replace missing values in the differences with 0\n",
        "  df['diff_1'] = df['diff_1'].fillna(0)\n",
        "  df['diff_2'] = df['diff_2'].fillna(0)\n",
        "\n",
        "  # Calculate the Augmented Dickey-Fuller (ADF) test statistics for the 'Frequency' column and its differences\n",
        "  adf = ADF(df['Frequency'].to_dask_array(lengths=True))\n",
        "  diff1_adf = ADF(df['diff_1'].to_dask_array(lengths=True))\n",
        "  diff2_adf = ADF(df['diff_2'].to_dask_array(lengths=True))\n",
        "\n",
        "  # Print the ADF test statistics for the 'Frequency' column and its differences\n",
        "  print('timeseries adf:', adf)\n",
        "  print('timeseries diff_1 adf:', diff1_adf)\n",
        "  print('timeseries diff_2 adf:', diff2_adf)\n",
        "\n",
        "  # Plot the dataframe as subplots\n",
        "  df.compute().plot(subplots=True, figsize=(15,12))\n",
        "\n",
        "  # Remove the 'diff_1' and 'diff_2' columns from the dataframe\n",
        "  df = df.drop(labels=['diff_2'], axis=1)\n",
        "  df = df.drop(labels=['diff_1'], axis=1)\n",
        "  \n",
        "  # Return the dataframe without the 'diff_1' and 'diff_2' columns\n",
        "  return df"
      ],
      "metadata": {
        "id": "Rnjlu58RFNpv"
      },
      "execution_count": 6,
      "outputs": []
    },
    {
      "cell_type": "code",
      "source": [
        "def apply_ARIMA(data, start, end, date_range):\n",
        "  # Set the training data to the input 'data'\n",
        "  train = data\n",
        "  \n",
        "  # Fit an ARIMA model to the training data using the auto_arima function\n",
        "  arima_model = auto_arima(train, start_p=0, d=1, start_q=0,\n",
        "                         max_p=5, max_d=5, max_q=5, start_P=0, \n",
        "                         D=1, start_Q=0, max_P=5,max_D=5, \n",
        "                         max_Q=5, m=12, seasonal=True, \n",
        "                         error_action='warn', trace=True, \n",
        "                         supress_warnings=True, stepwise=True, \n",
        "                         random_state=20,n_fits=50)\n",
        "  \n",
        "  # Generate predictions for the specified time range using the fitted ARIMA model\n",
        "  predictions = pd.DataFrame(arima_model.predict(start=start,end=end,n_periods=12),index=date_range)\n",
        "  predictions.columns = [\"Frequencies\"]\n",
        "  \n",
        "  # Return the predicted frequencies as a dataframe\n",
        "  return predictions"
      ],
      "metadata": {
        "id": "NiJ5DkdRG-Mp"
      },
      "execution_count": 7,
      "outputs": []
    },
    {
      "cell_type": "code",
      "source": [
        "def predict_data(data):\n",
        "  # Convert the input data to a Dask dataframe with 10 partitions\n",
        "  data = dd.from_pandas(data, npartitions=10)\n",
        "  print(\"Step 1: Converting to Dask Dataframe, Done\")\n",
        "\n",
        "  # Preprocess the data\n",
        "  processed_data = preprocess(data)\n",
        "  print(\"Step 2: Preprocessing before prediction, Done\")\n",
        "\n",
        "  # Define the start and end dates for the prediction period\n",
        "  start = processed_data.compute().index[-1] + pd.offsets.MonthBegin(1)\n",
        "  end = processed_data.compute().index.values[-1] + pd.offsets.MonthBegin(12)\n",
        "  date_range = pd.date_range(start=start, end=end, freq=\"MS\")\n",
        "\n",
        "  # Generate predictions for the specified time range using the apply_ARIMA function\n",
        "  predictions = apply_ARIMA(processed_data.compute(), start, end, date_range)\n",
        "  print(\"Step 4: Predicting best fit using AIRMA models, Done\")\n",
        "\n",
        "  # Reformat the predicted frequencies as a dataframe\n",
        "  predictions = pd.DataFrame({\n",
        "    \"Topic\":[topic]*12, \n",
        "    \"Time\":predictions.index.tolist(), \n",
        "    \"Record Type\":[\"predictions\"]*12,\n",
        "    \"Frequency\":predictions[\"Frequencies\"].tolist()\n",
        "     })\n",
        "  print(\"Step 5: Reformatting predictions according to DB requirements, Done\")\n",
        "\n",
        "  # Reformat the input data according to DB requirements\n",
        "  data = data.drop('Time', axis=1)\n",
        "  data = pd.DataFrame(data.compute())\n",
        "  data[\"Record Type\"] = [\"data\"]*len(data)\n",
        "  data = data.rename(columns={'Date': 'Time'})\n",
        "  data = data.reindex(columns=['Topic', 'Time', 'Record Type', 'Frequency'])\n",
        "  print(\"Step 6: Reformatting historical data according to DB requirements, Done\")\n",
        "\n",
        "  # Concatenate the historical data with the predictions\n",
        "  resampled_df = pd.concat([data, predictions])\n",
        "  resampled_df = resampled_df.reset_index(drop=True)  \n",
        "  print(\"Step 7: Concatinating historical data with predictions, Done\")\n",
        "\n",
        "  # Convert the resulting dataframe back to a Dask dataframe with 10 partitions \n",
        "  # and convert the 'Frequency' column to integers\n",
        "  resampled_df = dd.from_pandas(resampled_df, npartitions=10)\n",
        "  resampled_df['Frequency'] = resampled_df['Frequency'].astype(int)\n",
        "  print(\"Step 8: converting frequencies to 'int', Done\")\n",
        "  \n",
        "  # Compute and return the resulting dataframe\n",
        "  return resampled_df.compute()\n"
      ],
      "metadata": {
        "id": "ThH6O0y2Ilk8"
      },
      "execution_count": 8,
      "outputs": []
    },
    {
      "cell_type": "code",
      "source": [
        "# topic = 'Air conditioner'.lower()\n",
        "# topic = 'Oven'.lower()\n",
        "# topic = 'DSLR'.lower()\n",
        "# topic = 'Desktop'.lower()\n",
        "# topic = 'Washing Machines'.lower()\n",
        "\n",
        "topic = 'ipad'.lower()\n",
        "data_json = fetch_data(topic)"
      ],
      "metadata": {
        "id": "CA3S2AoUFzRv"
      },
      "execution_count": 9,
      "outputs": []
    },
    {
      "cell_type": "code",
      "source": [
        "# fetching data from json as a dataframe\n",
        "data = extract_data_from_json(data_json, read_file_from_path=False)\n",
        "\n",
        "# predicting the frequencies for 1 year\n",
        "resampled_df = predict_data(data)"
      ],
      "metadata": {
        "colab": {
          "base_uri": "https://localhost:8080/"
        },
        "id": "f9OZVDDG8zuP",
        "outputId": "3778a882-026f-46f0-d8a1-18bec820ea66"
      },
      "execution_count": 10,
      "outputs": [
        {
          "output_type": "stream",
          "name": "stdout",
          "text": [
            "Step 1: Converting to Dask Dataframe, Done\n",
            "Step 2: Preprocessing before prediction, Done\n",
            "Performing stepwise search to minimize aic\n",
            " ARIMA(0,1,0)(0,1,0)[12]             : AIC=1452.346, Time=0.13 sec\n",
            " ARIMA(1,1,0)(1,1,0)[12]             : AIC=1418.586, Time=0.22 sec\n",
            " ARIMA(0,1,1)(0,1,1)[12]             : AIC=inf, Time=0.52 sec\n",
            " ARIMA(1,1,0)(0,1,0)[12]             : AIC=1432.885, Time=0.09 sec\n",
            " ARIMA(1,1,0)(2,1,0)[12]             : AIC=1400.455, Time=0.51 sec\n",
            " ARIMA(1,1,0)(3,1,0)[12]             : AIC=1395.747, Time=0.94 sec\n",
            " ARIMA(1,1,0)(4,1,0)[12]             : AIC=1390.324, Time=1.85 sec\n",
            " ARIMA(1,1,0)(5,1,0)[12]             : AIC=1387.691, Time=4.65 sec\n",
            " ARIMA(1,1,0)(5,1,1)[12]             : AIC=inf, Time=20.03 sec\n",
            " ARIMA(1,1,0)(4,1,1)[12]             : AIC=inf, Time=14.63 sec\n",
            " ARIMA(0,1,0)(5,1,0)[12]             : AIC=1401.813, Time=3.76 sec\n",
            " ARIMA(2,1,0)(5,1,0)[12]             : AIC=1376.674, Time=4.25 sec\n",
            " ARIMA(2,1,0)(4,1,0)[12]             : AIC=1379.337, Time=2.18 sec\n",
            " ARIMA(2,1,0)(5,1,1)[12]             : AIC=inf, Time=26.20 sec\n",
            " ARIMA(2,1,0)(4,1,1)[12]             : AIC=inf, Time=16.81 sec\n",
            " ARIMA(3,1,0)(5,1,0)[12]             : AIC=1374.544, Time=6.23 sec\n",
            " ARIMA(3,1,0)(4,1,0)[12]             : AIC=1377.384, Time=2.59 sec\n",
            " ARIMA(3,1,0)(5,1,1)[12]             : AIC=inf, Time=27.34 sec\n",
            " ARIMA(3,1,0)(4,1,1)[12]             : AIC=inf, Time=17.04 sec\n",
            " ARIMA(4,1,0)(5,1,0)[12]             : AIC=1376.351, Time=6.58 sec\n",
            " ARIMA(3,1,1)(5,1,0)[12]             : AIC=1376.349, Time=6.56 sec\n",
            " ARIMA(2,1,1)(5,1,0)[12]             : AIC=1369.650, Time=11.39 sec\n",
            " ARIMA(2,1,1)(4,1,0)[12]             : AIC=1372.674, Time=6.39 sec\n",
            " ARIMA(2,1,1)(5,1,1)[12]             : AIC=inf, Time=31.15 sec\n",
            " ARIMA(2,1,1)(4,1,1)[12]             : AIC=inf, Time=21.02 sec\n",
            " ARIMA(1,1,1)(5,1,0)[12]             : AIC=1383.991, Time=5.70 sec\n",
            " ARIMA(2,1,2)(5,1,0)[12]             : AIC=1375.017, Time=13.59 sec\n",
            " ARIMA(1,1,2)(5,1,0)[12]             : AIC=inf, Time=19.23 sec\n",
            " ARIMA(3,1,2)(5,1,0)[12]             : AIC=inf, Time=33.40 sec\n",
            " ARIMA(2,1,1)(5,1,0)[12] intercept   : AIC=1371.635, Time=19.81 sec\n",
            "\n",
            "Best model:  ARIMA(2,1,1)(5,1,0)[12]          \n",
            "Total fit time: 324.895 seconds\n",
            "Step 4: Predicting best fit using AIRMA models, Done\n",
            "Step 5: Reformatting predictions according to DB requirements, Done\n",
            "Step 6: Reformatting historical data according to DB requirements, Done\n",
            "Step 7: Concatinating historical data with predictions, Done\n",
            "Step 8: converting frequencies to 'int', Done\n"
          ]
        }
      ]
    },
    {
      "cell_type": "code",
      "source": [
        "# fetching historical and predictied data\n",
        "historical_data = resampled_df[resampled_df[\"Record Type\"] == 'data']\n",
        "predicted_data = resampled_df[resampled_df[\"Record Type\"] == 'predictions']"
      ],
      "metadata": {
        "id": "3ZPDRMs5A8oo"
      },
      "execution_count": 11,
      "outputs": []
    },
    {
      "cell_type": "code",
      "source": [
        "# plotting them\n",
        "fig = plt.figure(figsize=(20, 5))\n",
        "\n",
        "plt.plot(historical_data.Time, historical_data.Frequency)\n",
        "plt.scatter(historical_data.Time, historical_data.Frequency, c=\"Orange\", s=12)\n",
        "\n",
        "plt.plot(predicted_data.Time, predicted_data.Frequency, c=\"Red\")\n",
        "plt.scatter(predicted_data.Time, predicted_data.Frequency, c=\"Green\", s=12)\n",
        "\n",
        "plt.show()"
      ],
      "metadata": {
        "colab": {
          "base_uri": "https://localhost:8080/",
          "height": 445
        },
        "id": "PASEGP0MBer6",
        "outputId": "13f013a7-54f2-48e6-af9c-d5b39eb81169"
      },
      "execution_count": 12,
      "outputs": [
        {
          "output_type": "display_data",
          "data": {
            "text/plain": [
              "<Figure size 2000x500 with 1 Axes>"
            ],
            "image/png": "[encoded data removed]"
          },
          "metadata": {}
        }
      ]
    },
    {
      "cell_type": "code",
      "source": [],
      "metadata": {
        "id": "U7aJbnLNNsdy"
      },
      "execution_count": null,
      "outputs": []
    }
  ]
}