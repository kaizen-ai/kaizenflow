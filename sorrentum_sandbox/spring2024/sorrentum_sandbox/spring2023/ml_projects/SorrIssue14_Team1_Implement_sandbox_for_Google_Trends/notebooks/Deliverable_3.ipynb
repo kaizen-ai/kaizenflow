{
 "cells": [
  {
   "cell_type": "markdown",
   "id": "582d3fdb",
   "metadata": {},
   "source": [
    "# Installing and importing the necessary modules\n"
   ]
  },
  {
   "cell_type": "code",
   "execution_count": 5,
   "id": "d5e27fe0",
   "metadata": {
    "ExecuteTime": {
     "end_time": "2023-04-16T02:04:10.264897Z",
     "start_time": "2023-04-16T02:04:08.099555Z"
    },
    "scrolled": true
   },
   "outputs": [
    {
     "name": "stdout",
     "output_type": "stream",
     "text": [
      "Requirement already satisfied: psycopg2-binary in /usr/local/lib/python3.10/dist-packages (2.9.6)\n",
      "\u001b[33mWARNING: Running pip as the 'root' user can result in broken permissions and conflicting behaviour with the system package manager. It is recommended to use a virtual environment instead: https://pip.pypa.io/warnings/venv\u001b[0m\u001b[33m\n",
      "\u001b[0mNote: you may need to restart the kernel to use updated packages.\n"
     ]
    }
   ],
   "source": [
    "pip install psycopg2-binary"
   ]
  },
  {
   "cell_type": "code",
   "execution_count": 45,
   "id": "f4cf1784",
   "metadata": {
    "ExecuteTime": {
     "end_time": "2023-04-16T13:56:24.510352Z",
     "start_time": "2023-04-16T13:56:20.651957Z"
    }
   },
   "outputs": [],
   "source": [
    "import psycopg2 as psycop\n",
    "import pandas as pd\n",
    "import time\n",
    "import numpy as np\n",
    "import seaborn as sns\n",
    "import matplotlib.pyplot as plt"
   ]
  },
  {
   "cell_type": "code",
   "execution_count": 15,
   "id": "220ce063",
   "metadata": {
    "ExecuteTime": {
     "end_time": "2023-04-16T03:13:26.176180Z",
     "start_time": "2023-04-16T03:13:26.161033Z"
    }
   },
   "outputs": [],
   "source": [
    "import warnings\n",
    "warnings.filterwarnings('ignore')"
   ]
  },
  {
   "cell_type": "markdown",
   "id": "193eac07",
   "metadata": {},
   "source": [
    "# function to get a connection to DB"
   ]
  },
  {
   "cell_type": "code",
   "execution_count": 7,
   "id": "7db427b7",
   "metadata": {
    "ExecuteTime": {
     "end_time": "2023-04-16T02:04:14.668641Z",
     "start_time": "2023-04-16T02:04:14.653758Z"
    }
   },
   "outputs": [],
   "source": [
    "def get_db_connection():\n",
    "    \"\"\"\n",
    "    Retrieve connection to the Postgres DB.\n",
    "    \"\"\"\n",
    "    connection = psycop.connect(\n",
    "        host=\"host.docker.internal\",\n",
    "        dbname=\"google_trends\",\n",
    "        port=5432,\n",
    "        user=\"postgres\",\n",
    "        password=\"postgres\",\n",
    "    )\n",
    "    connection.autocommit = True\n",
    "\n",
    "    return connection"
   ]
  },
  {
   "cell_type": "markdown",
   "id": "dfcabd31",
   "metadata": {},
   "source": [
    "# API to fetch real time data from postgres"
   ]
  },
  {
   "cell_type": "code",
   "execution_count": 12,
   "id": "02df3d2c",
   "metadata": {
    "ExecuteTime": {
     "end_time": "2023-04-16T02:05:13.674021Z",
     "start_time": "2023-04-16T02:05:13.665129Z"
    }
   },
   "outputs": [],
   "source": [
    "def fetch_real_time_data_from_postgres():\n",
    "    connection = get_db_connection()\n",
    "    \n",
    "    select_query = \"\"\"\n",
    "    select distinct * from google_trends_data\n",
    "    where topic = 'play station' \n",
    "    order by \n",
    "    google_trends_data.date_stamp \n",
    "    desc\n",
    "    limit 5\n",
    "    \"\"\"\n",
    "    \n",
    "    df = pd.read_sql_query(select_query, connection)\n",
    "    \n",
    "    connection.close()\n",
    "    \n",
    "    return df\n",
    "    "
   ]
  },
  {
   "cell_type": "markdown",
   "id": "3e969986",
   "metadata": {},
   "source": [
    "# sample run"
   ]
  },
  {
   "cell_type": "code",
   "execution_count": 26,
   "id": "961b4155",
   "metadata": {
    "ExecuteTime": {
     "end_time": "2023-04-16T08:01:17.897776Z",
     "start_time": "2023-04-16T08:01:17.820913Z"
    }
   },
   "outputs": [
    {
     "name": "stdout",
     "output_type": "stream",
     "text": [
      "          topic                date_stamp  frequency\n",
      "0  play station  Apr 15, 2023 at 11:57 PM       22.0\n",
      "1  play station  Apr 15, 2023 at 11:56 PM       49.0\n",
      "2  play station  Apr 15, 2023 at 11:55 PM        0.0\n",
      "3  play station  Apr 15, 2023 at 11:54 PM        0.0\n",
      "4  play station  Apr 15, 2023 at 11:53 PM       22.0\n"
     ]
    }
   ],
   "source": [
    "print(fetch_real_time_data_from_postgres())"
   ]
  },
  {
   "cell_type": "markdown",
   "id": "daaf0695",
   "metadata": {},
   "source": [
    "# looping 3 times with an hour time sleep each time "
   ]
  },
  {
   "cell_type": "code",
   "execution_count": 27,
   "id": "eac08ad7",
   "metadata": {
    "ExecuteTime": {
     "end_time": "2023-04-16T11:01:14.903235Z",
     "start_time": "2023-04-16T08:01:21.788742Z"
    }
   },
   "outputs": [
    {
     "name": "stdout",
     "output_type": "stream",
     "text": [
      "------------------------------------------------------\n",
      "          topic                date_stamp  frequency\n",
      "0  play station  Apr 15, 2023 at 11:57 PM       22.0\n",
      "1  play station  Apr 15, 2023 at 11:56 PM       49.0\n",
      "2  play station  Apr 15, 2023 at 11:55 PM        0.0\n",
      "3  play station  Apr 15, 2023 at 11:54 PM        0.0\n",
      "4  play station  Apr 15, 2023 at 11:53 PM       22.0\n",
      "------------------------------------------------------\n",
      "          topic               date_stamp  frequency\n",
      "0  play station  Apr 16, 2023 at 1:53 AM       26.0\n",
      "1  play station  Apr 16, 2023 at 1:52 AM       28.0\n",
      "2  play station  Apr 16, 2023 at 1:51 AM       61.0\n",
      "3  play station  Apr 16, 2023 at 1:50 AM       20.0\n",
      "4  play station  Apr 16, 2023 at 1:49 AM       22.0\n",
      "------------------------------------------------------\n",
      "          topic               date_stamp  frequency\n",
      "0  play station  Apr 16, 2023 at 1:53 AM       26.0\n",
      "1  play station  Apr 16, 2023 at 1:52 AM       28.0\n",
      "2  play station  Apr 16, 2023 at 1:51 AM       61.0\n",
      "3  play station  Apr 16, 2023 at 1:50 AM       20.0\n",
      "4  play station  Apr 16, 2023 at 1:49 AM       22.0\n"
     ]
    }
   ],
   "source": [
    "import time\n",
    "for _ in range(3):\n",
    "    df = fetch_real_time_data_from_postgres()\n",
    "    print(\"------------------------------------------------------\")\n",
    "    print(df)\n",
    "    time.sleep(60 * 60)\n",
    "    "
   ]
  },
  {
   "cell_type": "markdown",
   "id": "417ed3f3",
   "metadata": {},
   "source": [
    "# API to fetch historical data from postgres"
   ]
  },
  {
   "cell_type": "code",
   "execution_count": 31,
   "id": "73520b6e",
   "metadata": {
    "ExecuteTime": {
     "end_time": "2023-04-16T11:25:36.631819Z",
     "start_time": "2023-04-16T11:25:36.625578Z"
    }
   },
   "outputs": [],
   "source": [
    "def fetch_historical_data_from_postgres():\n",
    "    connection = get_db_connection()\n",
    "    \n",
    "    select_query = \"\"\"\n",
    "    select distinct * from google_trends_data\n",
    "    where topic = 'washing machines' \n",
    "    \"\"\"\n",
    "    \n",
    "    df = pd.read_sql_query(select_query, connection)\n",
    "    \n",
    "    connection.close()\n",
    "    \n",
    "    return df"
   ]
  },
  {
   "cell_type": "markdown",
   "id": "89c1f824",
   "metadata": {},
   "source": [
    "# fetching historical data from API and storing as a Dataframe"
   ]
  },
  {
   "cell_type": "code",
   "execution_count": 35,
   "id": "e886bd40",
   "metadata": {
    "ExecuteTime": {
     "end_time": "2023-04-16T11:29:11.280802Z",
     "start_time": "2023-04-16T11:29:11.179177Z"
    }
   },
   "outputs": [
    {
     "name": "stdout",
     "output_type": "stream",
     "text": [
      "                topic date_stamp  frequency\n",
      "0    washing machines   Nov 2017       35.0\n",
      "1    washing machines   Mar 2023       24.0\n",
      "2    washing machines   Jan 2011       59.0\n",
      "3    washing machines   Aug 2018       34.0\n",
      "4    washing machines   Jul 2022       27.0\n",
      "..                ...        ...        ...\n",
      "227  washing machines   Apr 2020       30.0\n",
      "228  washing machines   Oct 2012       36.0\n",
      "229  washing machines   Feb 2004       95.0\n",
      "230  washing machines   Mar 2016       32.0\n",
      "231  washing machines   Sep 2009       72.0\n",
      "\n",
      "[232 rows x 3 columns]\n"
     ]
    }
   ],
   "source": [
    "historical_data_df = fetch_historical_data_from_postgres()\n",
    "print(historical_data_df)"
   ]
  },
  {
   "cell_type": "markdown",
   "id": "02d6049b",
   "metadata": {},
   "source": [
    "# looking for anomalies "
   ]
  },
  {
   "cell_type": "code",
   "execution_count": null,
   "id": "7f1d6918",
   "metadata": {
    "ExecuteTime": {
     "end_time": "2023-04-16T11:52:38.231647Z",
     "start_time": "2023-04-16T11:52:38.200246Z"
    }
   },
   "outputs": [],
   "source": [
    "def look_for_anomalies(df):\n",
    "\n",
    "    status = None\n",
    "    check = None\n",
    "    \n",
    "    if len(df[df[\"frequency\"] < 0]) >= 1:\n",
    "        status = \"FAILED: search frequencies less than 0\"\n",
    "        check = False\n",
    "\n",
    "    elif len(df[df[\"frequency\"] > 100]) >= 1:\n",
    "        status = \"FAILED: search frequencies greater than 100\"\n",
    "        check = False\n",
    "\n",
    "    else:\n",
    "        status = \"PASSED: all frequencies, within the acceptable range\"\n",
    "        check = True\n",
    "    \n",
    "    return status, check"
   ]
  },
  {
   "cell_type": "code",
   "execution_count": 51,
   "id": "56a84054",
   "metadata": {
    "ExecuteTime": {
     "end_time": "2023-04-16T13:59:18.711724Z",
     "start_time": "2023-04-16T13:59:18.698368Z"
    }
   },
   "outputs": [],
   "source": [
    "status, check = look_for_anomalies(historical_data_df)"
   ]
  },
  {
   "cell_type": "code",
   "execution_count": 52,
   "id": "1dfaff26",
   "metadata": {
    "ExecuteTime": {
     "end_time": "2023-04-16T13:59:20.022310Z",
     "start_time": "2023-04-16T13:59:20.017538Z"
    }
   },
   "outputs": [
    {
     "name": "stdout",
     "output_type": "stream",
     "text": [
      "check:  True\n",
      "PASSED: all frequencies, within the acceptable range\n"
     ]
    }
   ],
   "source": [
    "print(\"check: \", check)\n",
    "print(status)"
   ]
  },
  {
   "cell_type": "markdown",
   "id": "89f42060",
   "metadata": {},
   "source": [
    "# Adding an anomaly to check if the function works"
   ]
  },
  {
   "cell_type": "code",
   "execution_count": 53,
   "id": "2df2efa8",
   "metadata": {
    "ExecuteTime": {
     "end_time": "2023-04-16T13:59:28.549680Z",
     "start_time": "2023-04-16T13:59:28.535942Z"
    }
   },
   "outputs": [],
   "source": [
    "historical_data_df.loc[0, 'frequency'] = 101"
   ]
  },
  {
   "cell_type": "code",
   "execution_count": 56,
   "id": "e73d0194",
   "metadata": {
    "ExecuteTime": {
     "end_time": "2023-04-16T13:59:45.364999Z",
     "start_time": "2023-04-16T13:59:45.355001Z"
    }
   },
   "outputs": [],
   "source": [
    "status, check = look_for_anomalies(historical_data_df)"
   ]
  },
  {
   "cell_type": "code",
   "execution_count": 57,
   "id": "5067290d",
   "metadata": {
    "ExecuteTime": {
     "end_time": "2023-04-16T13:59:45.903948Z",
     "start_time": "2023-04-16T13:59:45.886729Z"
    }
   },
   "outputs": [
    {
     "name": "stdout",
     "output_type": "stream",
     "text": [
      "check:  False\n",
      "FAILED: search frequencies greater than 100\n"
     ]
    }
   ],
   "source": [
    "print(\"check: \", check)\n",
    "print(status)"
   ]
  },
  {
   "cell_type": "code",
   "execution_count": 58,
   "id": "2c52d267",
   "metadata": {
    "ExecuteTime": {
     "end_time": "2023-04-16T13:59:50.188131Z",
     "start_time": "2023-04-16T13:59:50.181488Z"
    }
   },
   "outputs": [],
   "source": [
    "historical_data_df.loc[0, 'frequency'] = 35"
   ]
  },
  {
   "cell_type": "markdown",
   "id": "6c23adf4",
   "metadata": {},
   "source": [
    "# Performing exploratory data analysis"
   ]
  },
  {
   "cell_type": "code",
   "execution_count": 59,
   "id": "c5aed26f",
   "metadata": {
    "ExecuteTime": {
     "end_time": "2023-04-16T14:00:01.975155Z",
     "start_time": "2023-04-16T14:00:01.956062Z"
    }
   },
   "outputs": [
    {
     "data": {
      "text/html": [
       "<div>\n",
       "<style scoped>\n",
       "    .dataframe tbody tr th:only-of-type {\n",
       "        vertical-align: middle;\n",
       "    }\n",
       "\n",
       "    .dataframe tbody tr th {\n",
       "        vertical-align: top;\n",
       "    }\n",
       "\n",
       "    .dataframe thead th {\n",
       "        text-align: right;\n",
       "    }\n",
       "</style>\n",
       "<table border=\"1\" class=\"dataframe\">\n",
       "  <thead>\n",
       "    <tr style=\"text-align: right;\">\n",
       "      <th></th>\n",
       "      <th>topic</th>\n",
       "      <th>date_stamp</th>\n",
       "      <th>frequency</th>\n",
       "    </tr>\n",
       "  </thead>\n",
       "  <tbody>\n",
       "    <tr>\n",
       "      <th>0</th>\n",
       "      <td>washing machines</td>\n",
       "      <td>Nov 2017</td>\n",
       "      <td>35.0</td>\n",
       "    </tr>\n",
       "    <tr>\n",
       "      <th>1</th>\n",
       "      <td>washing machines</td>\n",
       "      <td>Mar 2023</td>\n",
       "      <td>24.0</td>\n",
       "    </tr>\n",
       "    <tr>\n",
       "      <th>2</th>\n",
       "      <td>washing machines</td>\n",
       "      <td>Jan 2011</td>\n",
       "      <td>59.0</td>\n",
       "    </tr>\n",
       "    <tr>\n",
       "      <th>3</th>\n",
       "      <td>washing machines</td>\n",
       "      <td>Aug 2018</td>\n",
       "      <td>34.0</td>\n",
       "    </tr>\n",
       "    <tr>\n",
       "      <th>4</th>\n",
       "      <td>washing machines</td>\n",
       "      <td>Jul 2022</td>\n",
       "      <td>27.0</td>\n",
       "    </tr>\n",
       "  </tbody>\n",
       "</table>\n",
       "</div>"
      ],
      "text/plain": [
       "              topic date_stamp  frequency\n",
       "0  washing machines   Nov 2017       35.0\n",
       "1  washing machines   Mar 2023       24.0\n",
       "2  washing machines   Jan 2011       59.0\n",
       "3  washing machines   Aug 2018       34.0\n",
       "4  washing machines   Jul 2022       27.0"
      ]
     },
     "execution_count": 59,
     "metadata": {},
     "output_type": "execute_result"
    }
   ],
   "source": [
    "historical_data_df.head()"
   ]
  },
  {
   "cell_type": "code",
   "execution_count": 60,
   "id": "59d82b32",
   "metadata": {
    "ExecuteTime": {
     "end_time": "2023-04-16T14:00:08.977188Z",
     "start_time": "2023-04-16T14:00:08.956177Z"
    }
   },
   "outputs": [
    {
     "data": {
      "text/html": [
       "<div>\n",
       "<style scoped>\n",
       "    .dataframe tbody tr th:only-of-type {\n",
       "        vertical-align: middle;\n",
       "    }\n",
       "\n",
       "    .dataframe tbody tr th {\n",
       "        vertical-align: top;\n",
       "    }\n",
       "\n",
       "    .dataframe thead th {\n",
       "        text-align: right;\n",
       "    }\n",
       "</style>\n",
       "<table border=\"1\" class=\"dataframe\">\n",
       "  <thead>\n",
       "    <tr style=\"text-align: right;\">\n",
       "      <th></th>\n",
       "      <th>topic</th>\n",
       "      <th>date_stamp</th>\n",
       "      <th>frequency</th>\n",
       "    </tr>\n",
       "  </thead>\n",
       "  <tbody>\n",
       "    <tr>\n",
       "      <th>227</th>\n",
       "      <td>washing machines</td>\n",
       "      <td>Apr 2020</td>\n",
       "      <td>30.0</td>\n",
       "    </tr>\n",
       "    <tr>\n",
       "      <th>228</th>\n",
       "      <td>washing machines</td>\n",
       "      <td>Oct 2012</td>\n",
       "      <td>36.0</td>\n",
       "    </tr>\n",
       "    <tr>\n",
       "      <th>229</th>\n",
       "      <td>washing machines</td>\n",
       "      <td>Feb 2004</td>\n",
       "      <td>95.0</td>\n",
       "    </tr>\n",
       "    <tr>\n",
       "      <th>230</th>\n",
       "      <td>washing machines</td>\n",
       "      <td>Mar 2016</td>\n",
       "      <td>32.0</td>\n",
       "    </tr>\n",
       "    <tr>\n",
       "      <th>231</th>\n",
       "      <td>washing machines</td>\n",
       "      <td>Sep 2009</td>\n",
       "      <td>72.0</td>\n",
       "    </tr>\n",
       "  </tbody>\n",
       "</table>\n",
       "</div>"
      ],
      "text/plain": [
       "                topic date_stamp  frequency\n",
       "227  washing machines   Apr 2020       30.0\n",
       "228  washing machines   Oct 2012       36.0\n",
       "229  washing machines   Feb 2004       95.0\n",
       "230  washing machines   Mar 2016       32.0\n",
       "231  washing machines   Sep 2009       72.0"
      ]
     },
     "execution_count": 60,
     "metadata": {},
     "output_type": "execute_result"
    }
   ],
   "source": [
    "historical_data_df.tail()"
   ]
  },
  {
   "cell_type": "code",
   "execution_count": 62,
   "id": "a5a75945",
   "metadata": {
    "ExecuteTime": {
     "end_time": "2023-04-16T14:00:47.230424Z",
     "start_time": "2023-04-16T14:00:47.208335Z"
    }
   },
   "outputs": [
    {
     "name": "stdout",
     "output_type": "stream",
     "text": [
      "Maximum Frequency: 100.0\n",
      "Minimum Frequency: 24.0\n"
     ]
    }
   ],
   "source": [
    "# Find the maximum value of the Frequency column\n",
    "max_freq = historical_data_df['frequency'].max()\n",
    "print('Maximum Frequency:', max_freq)\n",
    "\n",
    "# Find the minimum value of the Frequency column\n",
    "min_freq = historical_data_df['frequency'].min()\n",
    "print('Minimum Frequency:', min_freq)"
   ]
  },
  {
   "cell_type": "code",
   "execution_count": 63,
   "id": "df46f064",
   "metadata": {
    "ExecuteTime": {
     "end_time": "2023-04-16T14:00:51.224115Z",
     "start_time": "2023-04-16T14:00:51.169676Z"
    }
   },
   "outputs": [
    {
     "name": "stdout",
     "output_type": "stream",
     "text": [
      "<class 'pandas.core.frame.DataFrame'>\n",
      "RangeIndex: 232 entries, 0 to 231\n",
      "Data columns (total 3 columns):\n",
      " #   Column      Non-Null Count  Dtype  \n",
      "---  ------      --------------  -----  \n",
      " 0   topic       232 non-null    object \n",
      " 1   date_stamp  232 non-null    object \n",
      " 2   frequency   232 non-null    float64\n",
      "dtypes: float64(1), object(2)\n",
      "memory usage: 5.6+ KB\n"
     ]
    }
   ],
   "source": [
    "historical_data_df.info()"
   ]
  },
  {
   "cell_type": "code",
   "execution_count": 64,
   "id": "7ec8169b",
   "metadata": {
    "ExecuteTime": {
     "end_time": "2023-04-16T14:00:56.185854Z",
     "start_time": "2023-04-16T14:00:56.170634Z"
    }
   },
   "outputs": [
    {
     "data": {
      "text/plain": [
       "topic           1\n",
       "date_stamp    232\n",
       "frequency      62\n",
       "dtype: int64"
      ]
     },
     "execution_count": 64,
     "metadata": {},
     "output_type": "execute_result"
    }
   ],
   "source": [
    "historical_data_df.nunique()"
   ]
  },
  {
   "cell_type": "code",
   "execution_count": 68,
   "id": "abbb6b31",
   "metadata": {
    "ExecuteTime": {
     "end_time": "2023-04-16T14:01:53.079995Z",
     "start_time": "2023-04-16T14:01:53.056566Z"
    }
   },
   "outputs": [
    {
     "data": {
      "text/plain": [
       "topic         0\n",
       "date_stamp    0\n",
       "frequency     0\n",
       "dtype: int64"
      ]
     },
     "execution_count": 68,
     "metadata": {},
     "output_type": "execute_result"
    }
   ],
   "source": [
    "historical_data_df.isnull().sum()"
   ]
  },
  {
   "cell_type": "code",
   "execution_count": 69,
   "id": "428156ef",
   "metadata": {
    "ExecuteTime": {
     "end_time": "2023-04-16T14:01:54.917687Z",
     "start_time": "2023-04-16T14:01:54.883620Z"
    }
   },
   "outputs": [
    {
     "data": {
      "text/html": [
       "<div>\n",
       "<style scoped>\n",
       "    .dataframe tbody tr th:only-of-type {\n",
       "        vertical-align: middle;\n",
       "    }\n",
       "\n",
       "    .dataframe tbody tr th {\n",
       "        vertical-align: top;\n",
       "    }\n",
       "\n",
       "    .dataframe thead th {\n",
       "        text-align: right;\n",
       "    }\n",
       "</style>\n",
       "<table border=\"1\" class=\"dataframe\">\n",
       "  <thead>\n",
       "    <tr style=\"text-align: right;\">\n",
       "      <th></th>\n",
       "      <th>count</th>\n",
       "      <th>mean</th>\n",
       "      <th>std</th>\n",
       "      <th>min</th>\n",
       "      <th>25%</th>\n",
       "      <th>50%</th>\n",
       "      <th>75%</th>\n",
       "      <th>max</th>\n",
       "    </tr>\n",
       "  </thead>\n",
       "  <tbody>\n",
       "    <tr>\n",
       "      <th>frequency</th>\n",
       "      <td>232.0</td>\n",
       "      <td>48.586207</td>\n",
       "      <td>18.698366</td>\n",
       "      <td>24.0</td>\n",
       "      <td>34.0</td>\n",
       "      <td>40.0</td>\n",
       "      <td>65.0</td>\n",
       "      <td>100.0</td>\n",
       "    </tr>\n",
       "  </tbody>\n",
       "</table>\n",
       "</div>"
      ],
      "text/plain": [
       "           count       mean        std   min   25%   50%   75%    max\n",
       "frequency  232.0  48.586207  18.698366  24.0  34.0  40.0  65.0  100.0"
      ]
     },
     "execution_count": 69,
     "metadata": {},
     "output_type": "execute_result"
    }
   ],
   "source": [
    "# Descriptive statics \n",
    "historical_data_df.describe().T"
   ]
  },
  {
   "cell_type": "code",
   "execution_count": 74,
   "id": "0f8482c5",
   "metadata": {
    "ExecuteTime": {
     "end_time": "2023-04-16T14:06:26.121210Z",
     "start_time": "2023-04-16T14:06:26.048360Z"
    }
   },
   "outputs": [],
   "source": [
    "historical_data_df['date_stamp']= pd.to_datetime(historical_data_df['date_stamp'])"
   ]
  },
  {
   "cell_type": "code",
   "execution_count": 76,
   "id": "202bf232",
   "metadata": {
    "ExecuteTime": {
     "end_time": "2023-04-16T14:07:50.107224Z",
     "start_time": "2023-04-16T14:07:50.089387Z"
    }
   },
   "outputs": [],
   "source": [
    "historical_data_df = historical_data_df.sort_values(by='date_stamp')"
   ]
  },
  {
   "cell_type": "code",
   "execution_count": 77,
   "id": "ceef695e",
   "metadata": {
    "ExecuteTime": {
     "end_time": "2023-04-16T14:08:01.714729Z",
     "start_time": "2023-04-16T14:08:01.631751Z"
    }
   },
   "outputs": [
    {
     "data": {
      "text/html": [
       "<div>\n",
       "<style scoped>\n",
       "    .dataframe tbody tr th:only-of-type {\n",
       "        vertical-align: middle;\n",
       "    }\n",
       "\n",
       "    .dataframe tbody tr th {\n",
       "        vertical-align: top;\n",
       "    }\n",
       "\n",
       "    .dataframe thead th {\n",
       "        text-align: right;\n",
       "    }\n",
       "</style>\n",
       "<table border=\"1\" class=\"dataframe\">\n",
       "  <thead>\n",
       "    <tr style=\"text-align: right;\">\n",
       "      <th></th>\n",
       "      <th>topic</th>\n",
       "      <th>date_stamp</th>\n",
       "      <th>frequency</th>\n",
       "    </tr>\n",
       "  </thead>\n",
       "  <tbody>\n",
       "    <tr>\n",
       "      <th>15</th>\n",
       "      <td>washing machines</td>\n",
       "      <td>2004-01-01</td>\n",
       "      <td>100.0</td>\n",
       "    </tr>\n",
       "    <tr>\n",
       "      <th>229</th>\n",
       "      <td>washing machines</td>\n",
       "      <td>2004-02-01</td>\n",
       "      <td>95.0</td>\n",
       "    </tr>\n",
       "    <tr>\n",
       "      <th>210</th>\n",
       "      <td>washing machines</td>\n",
       "      <td>2004-03-01</td>\n",
       "      <td>86.0</td>\n",
       "    </tr>\n",
       "    <tr>\n",
       "      <th>59</th>\n",
       "      <td>washing machines</td>\n",
       "      <td>2004-04-01</td>\n",
       "      <td>82.0</td>\n",
       "    </tr>\n",
       "    <tr>\n",
       "      <th>70</th>\n",
       "      <td>washing machines</td>\n",
       "      <td>2004-05-01</td>\n",
       "      <td>87.0</td>\n",
       "    </tr>\n",
       "    <tr>\n",
       "      <th>...</th>\n",
       "      <td>...</td>\n",
       "      <td>...</td>\n",
       "      <td>...</td>\n",
       "    </tr>\n",
       "    <tr>\n",
       "      <th>74</th>\n",
       "      <td>washing machines</td>\n",
       "      <td>2022-12-01</td>\n",
       "      <td>25.0</td>\n",
       "    </tr>\n",
       "    <tr>\n",
       "      <th>125</th>\n",
       "      <td>washing machines</td>\n",
       "      <td>2023-01-01</td>\n",
       "      <td>26.0</td>\n",
       "    </tr>\n",
       "    <tr>\n",
       "      <th>120</th>\n",
       "      <td>washing machines</td>\n",
       "      <td>2023-02-01</td>\n",
       "      <td>25.0</td>\n",
       "    </tr>\n",
       "    <tr>\n",
       "      <th>1</th>\n",
       "      <td>washing machines</td>\n",
       "      <td>2023-03-01</td>\n",
       "      <td>24.0</td>\n",
       "    </tr>\n",
       "    <tr>\n",
       "      <th>43</th>\n",
       "      <td>washing machines</td>\n",
       "      <td>2023-04-01</td>\n",
       "      <td>25.0</td>\n",
       "    </tr>\n",
       "  </tbody>\n",
       "</table>\n",
       "<p>232 rows × 3 columns</p>\n",
       "</div>"
      ],
      "text/plain": [
       "                topic date_stamp  frequency\n",
       "15   washing machines 2004-01-01      100.0\n",
       "229  washing machines 2004-02-01       95.0\n",
       "210  washing machines 2004-03-01       86.0\n",
       "59   washing machines 2004-04-01       82.0\n",
       "70   washing machines 2004-05-01       87.0\n",
       "..                ...        ...        ...\n",
       "74   washing machines 2022-12-01       25.0\n",
       "125  washing machines 2023-01-01       26.0\n",
       "120  washing machines 2023-02-01       25.0\n",
       "1    washing machines 2023-03-01       24.0\n",
       "43   washing machines 2023-04-01       25.0\n",
       "\n",
       "[232 rows x 3 columns]"
      ]
     },
     "execution_count": 77,
     "metadata": {},
     "output_type": "execute_result"
    }
   ],
   "source": [
    "historical_data_df"
   ]
  },
  {
   "cell_type": "code",
   "execution_count": 78,
   "id": "fb43bbbe",
   "metadata": {
    "ExecuteTime": {
     "end_time": "2023-04-16T14:08:10.921989Z",
     "start_time": "2023-04-16T14:08:09.699193Z"
    }
   },
   "outputs": [
    {
     "data": {
      "image/png": "[encoded data removed]",
      "text/plain": [
       "<Figure size 1500x600 with 1 Axes>"
      ]
     },
     "metadata": {},
     "output_type": "display_data"
    }
   ],
   "source": [
    "# Set the plot style to \"darkgrid\"\n",
    "sns.set_style(\"darkgrid\")\n",
    "\n",
    "# Set the plot size to 10 inches wide by 6 inches tall\n",
    "plt.figure(figsize=(15, 6))\n",
    "\n",
    "# Create the plot using the lineplot() function\n",
    "sns.lineplot(data=historical_data_df, x='date_stamp', y='frequency')\n",
    "\n",
    "# Set the plot title and axis labels\n",
    "plt.title('Frequency over Time')\n",
    "plt.xlabel('Time')\n",
    "plt.ylabel('Frequency')\n",
    "\n",
    "# Show the plot\n",
    "plt.show()"
   ]
  },
  {
   "cell_type": "code",
   "execution_count": 79,
   "id": "77d00377",
   "metadata": {
    "ExecuteTime": {
     "end_time": "2023-04-16T21:56:04.763340Z",
     "start_time": "2023-04-16T21:56:04.663269Z"
    }
   },
   "outputs": [],
   "source": [
    "def fetch_real_time_data_to_plot():\n",
    "    connection = get_db_connection()\n",
    "    \n",
    "    select_query = \"\"\"\n",
    "    select distinct * from google_trends_data\n",
    "    where topic = 'play station' \n",
    "    order by \n",
    "    google_trends_data.date_stamp \n",
    "    \"\"\"\n",
    "    \n",
    "    df = pd.read_sql_query(select_query, connection)\n",
    "    \n",
    "    connection.close()\n",
    "    \n",
    "    return df"
   ]
  },
  {
   "cell_type": "code",
   "execution_count": 83,
   "id": "de9ed329",
   "metadata": {
    "ExecuteTime": {
     "end_time": "2023-04-16T21:59:34.750882Z",
     "start_time": "2023-04-16T21:59:34.653695Z"
    }
   },
   "outputs": [],
   "source": [
    "real_time_data_for_plotting_df = fetch_real_time_data_to_plot()"
   ]
  },
  {
   "cell_type": "code",
   "execution_count": 84,
   "id": "edfefd28",
   "metadata": {
    "ExecuteTime": {
     "end_time": "2023-04-16T21:59:44.780443Z",
     "start_time": "2023-04-16T21:59:44.635761Z"
    }
   },
   "outputs": [],
   "source": [
    "real_time_data_for_plotting_df['date_stamp']= pd.to_datetime(real_time_data_for_plotting_df['date_stamp'])\n",
    "real_time_data_for_plotting_df = real_time_data_for_plotting_df.sort_values(by='date_stamp')\n"
   ]
  },
  {
   "cell_type": "code",
   "execution_count": 85,
   "id": "39d11611",
   "metadata": {
    "ExecuteTime": {
     "end_time": "2023-04-16T22:00:06.734691Z",
     "start_time": "2023-04-16T22:00:06.643993Z"
    }
   },
   "outputs": [
    {
     "data": {
      "text/html": [
       "<div>\n",
       "<style scoped>\n",
       "    .dataframe tbody tr th:only-of-type {\n",
       "        vertical-align: middle;\n",
       "    }\n",
       "\n",
       "    .dataframe tbody tr th {\n",
       "        vertical-align: top;\n",
       "    }\n",
       "\n",
       "    .dataframe thead th {\n",
       "        text-align: right;\n",
       "    }\n",
       "</style>\n",
       "<table border=\"1\" class=\"dataframe\">\n",
       "  <thead>\n",
       "    <tr style=\"text-align: right;\">\n",
       "      <th></th>\n",
       "      <th>topic</th>\n",
       "      <th>date_stamp</th>\n",
       "      <th>frequency</th>\n",
       "    </tr>\n",
       "  </thead>\n",
       "  <tbody>\n",
       "    <tr>\n",
       "      <th>0</th>\n",
       "      <td>play station</td>\n",
       "      <td>2023-04-15 23:01:00</td>\n",
       "      <td>39.0</td>\n",
       "    </tr>\n",
       "    <tr>\n",
       "      <th>1</th>\n",
       "      <td>play station</td>\n",
       "      <td>2023-04-15 23:02:00</td>\n",
       "      <td>0.0</td>\n",
       "    </tr>\n",
       "    <tr>\n",
       "      <th>2</th>\n",
       "      <td>play station</td>\n",
       "      <td>2023-04-15 23:03:00</td>\n",
       "      <td>27.0</td>\n",
       "    </tr>\n",
       "    <tr>\n",
       "      <th>3</th>\n",
       "      <td>play station</td>\n",
       "      <td>2023-04-15 23:04:00</td>\n",
       "      <td>24.0</td>\n",
       "    </tr>\n",
       "    <tr>\n",
       "      <th>4</th>\n",
       "      <td>play station</td>\n",
       "      <td>2023-04-15 23:05:00</td>\n",
       "      <td>100.0</td>\n",
       "    </tr>\n",
       "    <tr>\n",
       "      <th>...</th>\n",
       "      <td>...</td>\n",
       "      <td>...</td>\n",
       "      <td>...</td>\n",
       "    </tr>\n",
       "    <tr>\n",
       "      <th>109</th>\n",
       "      <td>play station</td>\n",
       "      <td>2023-04-16 01:49:00</td>\n",
       "      <td>22.0</td>\n",
       "    </tr>\n",
       "    <tr>\n",
       "      <th>110</th>\n",
       "      <td>play station</td>\n",
       "      <td>2023-04-16 01:50:00</td>\n",
       "      <td>20.0</td>\n",
       "    </tr>\n",
       "    <tr>\n",
       "      <th>111</th>\n",
       "      <td>play station</td>\n",
       "      <td>2023-04-16 01:51:00</td>\n",
       "      <td>61.0</td>\n",
       "    </tr>\n",
       "    <tr>\n",
       "      <th>112</th>\n",
       "      <td>play station</td>\n",
       "      <td>2023-04-16 01:52:00</td>\n",
       "      <td>28.0</td>\n",
       "    </tr>\n",
       "    <tr>\n",
       "      <th>113</th>\n",
       "      <td>play station</td>\n",
       "      <td>2023-04-16 01:53:00</td>\n",
       "      <td>26.0</td>\n",
       "    </tr>\n",
       "  </tbody>\n",
       "</table>\n",
       "<p>114 rows × 3 columns</p>\n",
       "</div>"
      ],
      "text/plain": [
       "            topic          date_stamp  frequency\n",
       "0    play station 2023-04-15 23:01:00       39.0\n",
       "1    play station 2023-04-15 23:02:00        0.0\n",
       "2    play station 2023-04-15 23:03:00       27.0\n",
       "3    play station 2023-04-15 23:04:00       24.0\n",
       "4    play station 2023-04-15 23:05:00      100.0\n",
       "..            ...                 ...        ...\n",
       "109  play station 2023-04-16 01:49:00       22.0\n",
       "110  play station 2023-04-16 01:50:00       20.0\n",
       "111  play station 2023-04-16 01:51:00       61.0\n",
       "112  play station 2023-04-16 01:52:00       28.0\n",
       "113  play station 2023-04-16 01:53:00       26.0\n",
       "\n",
       "[114 rows x 3 columns]"
      ]
     },
     "execution_count": 85,
     "metadata": {},
     "output_type": "execute_result"
    }
   ],
   "source": [
    "real_time_data_for_plotting_df"
   ]
  },
  {
   "cell_type": "code",
   "execution_count": 86,
   "id": "f8a9c26e",
   "metadata": {
    "ExecuteTime": {
     "end_time": "2023-04-16T22:00:37.978910Z",
     "start_time": "2023-04-16T22:00:36.485449Z"
    }
   },
   "outputs": [
    {
     "data": {
      "image/png": "[encoded data removed]",
      "text/plain": [
       "<Figure size 1500x600 with 1 Axes>"
      ]
     },
     "metadata": {},
     "output_type": "display_data"
    }
   ],
   "source": [
    "# Set the plot style to \"darkgrid\"\n",
    "sns.set_style(\"darkgrid\")\n",
    "\n",
    "# Set the plot size to 10 inches wide by 6 inches tall\n",
    "plt.figure(figsize=(15, 6))\n",
    "\n",
    "# Create the plot using the lineplot() function\n",
    "sns.lineplot(data=real_time_data_for_plotting_df, x='date_stamp', y='frequency')\n",
    "\n",
    "# Set the plot title and axis labels\n",
    "plt.title('Frequency over Time - Real time data')\n",
    "plt.xlabel('Time')\n",
    "plt.ylabel('Frequency')\n",
    "\n",
    "# Show the plot\n",
    "plt.show()"
   ]
  },
  {
   "cell_type": "code",
   "execution_count": null,
   "id": "20372b74",
   "metadata": {},
   "outputs": [],
   "source": []
  }
 ],
 "metadata": {
  "kernelspec": {
   "display_name": "Python 3 (ipykernel)",
   "language": "python",
   "name": "python3"
  },
  "language_info": {
   "codemirror_mode": {
    "name": "ipython",
    "version": 3
   },
   "file_extension": ".py",
   "mimetype": "text/x-python",
   "name": "python",
   "nbconvert_exporter": "python",
   "pygments_lexer": "ipython3",
   "version": "3.10.6"
  },
  "toc": {
   "base_numbering": 1,
   "nav_menu": {},
   "number_sections": true,
   "sideBar": true,
   "skip_h1_title": false,
   "title_cell": "Table of Contents",
   "title_sidebar": "Contents",
   "toc_cell": false,
   "toc_position": {},
   "toc_section_display": true,
   "toc_window_display": false
  }
 },
 "nbformat": 4,
 "nbformat_minor": 5
}
