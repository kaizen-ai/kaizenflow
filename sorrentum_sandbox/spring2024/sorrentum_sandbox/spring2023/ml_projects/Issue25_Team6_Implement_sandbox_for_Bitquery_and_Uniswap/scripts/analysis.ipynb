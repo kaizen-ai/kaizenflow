{
 "cells": [
  {
   "cell_type": "code",
   "execution_count": 18,
   "metadata": {},
   "outputs": [],
   "source": [
    "import numpy as np\n",
    "import pandas as pd\n",
    "import matplotlib.pyplot as plt\n",
<<<<<<< HEAD
    "import os"
   ]
  },
  {
   "attachments": {},
   "cell_type": "markdown",
   "metadata": {},
   "source": [
    "## Importing the data"
=======
    "import psycopg2"
>>>>>>> 65b53a5c3343b101f8340917f592a17f43e52feb
   ]
  },
  {
   "cell_type": "code",
   "execution_count": null,
   "metadata": {},
   "outputs": [],
   "source": [
    "# psql -h localhost -p 5432 -U postgres -d db\n",
    "# connecti to the PostgreSQL \n",
    "conn = psycopg2.connect(\n",
    "    database=\"db\",\n",
    "    user=\"postgres\",\n",
    "    password=\"postgres\",\n",
    "    host=\"172.27.0.2\",\n",
    "    port=\"5432\"\n",
    ")\n",
    "\n",
    "\n",
    "cursor = conn.cursor()\n",
    "\n",
    "cursor.execute(\"SELECT * FROM mytable\")\n",
    "\n",
    "results = cursor.fetchall()\n",
    "print(results)\n",
    "\n",
    "df = pd.read_sql(\"SELECT * FROM mytable\", conn)\n",
    "df.head()"
   ]
  },
  {
   "cell_type": "code",
<<<<<<< HEAD
   "execution_count": 21,
   "metadata": {},
   "outputs": [
    {
     "data": {
      "text/html": [
       "<div>\n",
       "<style scoped>\n",
       "    .dataframe tbody tr th:only-of-type {\n",
       "        vertical-align: middle;\n",
       "    }\n",
       "\n",
       "    .dataframe tbody tr th {\n",
       "        vertical-align: top;\n",
       "    }\n",
       "\n",
       "    .dataframe thead th {\n",
       "        text-align: right;\n",
       "    }\n",
       "</style>\n",
       "<table border=\"1\" class=\"dataframe\">\n",
       "  <thead>\n",
       "    <tr style=\"text-align: right;\">\n",
       "      <th></th>\n",
       "      <th>timeInterval_minute</th>\n",
       "      <th>baseAmount</th>\n",
       "      <th>quoteAmount</th>\n",
       "      <th>trades</th>\n",
       "      <th>quotePrice</th>\n",
       "      <th>maximum_price</th>\n",
       "      <th>minimum_price</th>\n",
       "      <th>open_price</th>\n",
       "      <th>close_price</th>\n",
       "      <th>baseCurrency_symbol</th>\n",
       "      <th>baseCurrency_address</th>\n",
       "      <th>quoteCurrency_symbol</th>\n",
       "      <th>quoteCurrency_address</th>\n",
       "      <th>transaction_hash</th>\n",
       "      <th>transaction_gas</th>\n",
       "      <th>transaction_to_address</th>\n",
       "      <th>transaction_txFrom_address</th>\n",
       "    </tr>\n",
       "  </thead>\n",
       "  <tbody>\n",
       "    <tr>\n",
       "      <th>0</th>\n",
       "      <td>2023-04-13 00:00:00</td>\n",
       "      <td>1000.397563</td>\n",
       "      <td>995.065562</td>\n",
       "      <td>1</td>\n",
       "      <td>5.186931e-04</td>\n",
       "      <td>5.186931e-04</td>\n",
       "      <td>5.186931e-04</td>\n",
       "      <td>5.186931e-04</td>\n",
       "      <td>5.186931e-04</td>\n",
       "      <td>USDT</td>\n",
       "      <td>0xdac17f958d2ee523a2206206994597c13d831ec7</td>\n",
       "      <td>WETH</td>\n",
       "      <td>0xc02aaa39b223fe8d0a0e5c4f27ead9083c756cc2</td>\n",
       "      <td>0x6a2a022170dcd8a63eebb925953b8565a531dc10a8c9...</td>\n",
       "      <td>217915</td>\n",
       "      <td>0x7a250d5630b4cf539739df2c5dacb4c659f2488d</td>\n",
       "      <td>0xba3a7c42d0eb8d9bd5ee16bf21f26100ba4aac8b</td>\n",
       "    </tr>\n",
       "    <tr>\n",
       "      <th>1</th>\n",
       "      <td>2023-04-13 00:00:00</td>\n",
       "      <td>0.000000</td>\n",
       "      <td>98.384461</td>\n",
       "      <td>1</td>\n",
       "      <td>5.393839e-09</td>\n",
       "      <td>5.393839e-09</td>\n",
       "      <td>5.393839e-09</td>\n",
       "      <td>5.393839e-09</td>\n",
       "      <td>5.393839e-09</td>\n",
       "      <td>PepGPT</td>\n",
       "      <td>0xfcf6c53ec8947a04b938c0052d853fbf47d30779</td>\n",
       "      <td>WETH</td>\n",
       "      <td>0xc02aaa39b223fe8d0a0e5c4f27ead9083c756cc2</td>\n",
       "      <td>0x8f229070205c3fffe8eb44ae709cbfe8c78d0030727d...</td>\n",
       "      <td>156089</td>\n",
       "      <td>0x7a250d5630b4cf539739df2c5dacb4c659f2488d</td>\n",
       "      <td>0x19d6e66f3c967ef53b62cfdf198ce4d5372a5ce8</td>\n",
       "    </tr>\n",
       "    <tr>\n",
       "      <th>2</th>\n",
       "      <td>2023-04-13 00:00:00</td>\n",
       "      <td>481.611561</td>\n",
       "      <td>475.405745</td>\n",
       "      <td>1</td>\n",
       "      <td>6.076612e-11</td>\n",
       "      <td>6.076612e-11</td>\n",
       "      <td>6.076612e-11</td>\n",
       "      <td>6.076612e-11</td>\n",
       "      <td>6.076612e-11</td>\n",
       "      <td>CAW</td>\n",
       "      <td>0xf3b9569f82b18aef890de263b84189bd33ebe452</td>\n",
       "      <td>WETH</td>\n",
       "      <td>0xc02aaa39b223fe8d0a0e5c4f27ead9083c756cc2</td>\n",
       "      <td>0x306e5ad2d431f1fb2c5cb3d7c99c4cf8a478db734512...</td>\n",
       "      <td>162549</td>\n",
       "      <td>0x881d40237659c251811cec9c364ef91dc08d300c</td>\n",
       "      <td>0x595a8655df9137233ec7edc43ea2ce4a3b8c9406</td>\n",
       "    </tr>\n",
       "    <tr>\n",
       "      <th>3</th>\n",
       "      <td>2023-04-13 00:00:00</td>\n",
       "      <td>995.065562</td>\n",
       "      <td>1000.397563</td>\n",
       "      <td>1</td>\n",
       "      <td>1.927922e+03</td>\n",
       "      <td>1.927922e+03</td>\n",
       "      <td>1.927922e+03</td>\n",
       "      <td>1.927922e+03</td>\n",
       "      <td>1.927922e+03</td>\n",
       "      <td>WETH</td>\n",
       "      <td>0xc02aaa39b223fe8d0a0e5c4f27ead9083c756cc2</td>\n",
       "      <td>USDT</td>\n",
       "      <td>0xdac17f958d2ee523a2206206994597c13d831ec7</td>\n",
       "      <td>0x6a2a022170dcd8a63eebb925953b8565a531dc10a8c9...</td>\n",
       "      <td>217915</td>\n",
       "      <td>0x7a250d5630b4cf539739df2c5dacb4c659f2488d</td>\n",
       "      <td>0xba3a7c42d0eb8d9bd5ee16bf21f26100ba4aac8b</td>\n",
       "    </tr>\n",
       "    <tr>\n",
       "      <th>4</th>\n",
       "      <td>2023-04-13 00:00:00</td>\n",
       "      <td>603.187705</td>\n",
       "      <td>601.003884</td>\n",
       "      <td>1</td>\n",
       "      <td>3.983247e+00</td>\n",
       "      <td>3.983247e+00</td>\n",
       "      <td>3.983247e+00</td>\n",
       "      <td>3.983247e+00</td>\n",
       "      <td>3.983247e+00</td>\n",
       "      <td>DAI</td>\n",
       "      <td>0x6b175474e89094c44da98b954eedeac495271d0f</td>\n",
       "      <td>GLM</td>\n",
       "      <td>0x7dd9c5cba05e151c895fde1cf355c9a1d5da6429</td>\n",
       "      <td>0x684d611d91a710d91ac84c39a944e1e5efad37047411...</td>\n",
       "      <td>97150</td>\n",
       "      <td>0x98c3d3183c4b8a650614ad179a1a98be0a8d6b8e</td>\n",
       "      <td>0x2a91d154cdcdf08a553017afdcdea398c8b706a6</td>\n",
       "    </tr>\n",
       "    <tr>\n",
       "      <th>5</th>\n",
       "      <td>2023-04-13 00:00:00</td>\n",
       "      <td>396.621550</td>\n",
       "      <td>393.594390</td>\n",
       "      <td>1</td>\n",
       "      <td>1.269143e+00</td>\n",
       "      <td>1.269143e+00</td>\n",
       "      <td>1.269143e+00</td>\n",
       "      <td>1.269143e+00</td>\n",
       "      <td>1.269143e+00</td>\n",
       "      <td>MTL</td>\n",
       "      <td>0xf433089366899d83a9f26a773d59ec7ecf30355e</td>\n",
       "      <td>USDT</td>\n",
       "      <td>0xdac17f958d2ee523a2206206994597c13d831ec7</td>\n",
       "      <td>0x27e0d082bb8f938b10bcb70da0bd9e3666843843e6ef...</td>\n",
       "      <td>108627</td>\n",
       "      <td>0x98c3d3183c4b8a650614ad179a1a98be0a8d6b8e</td>\n",
       "      <td>0x8e8f818d3371f797a2db7edb32803607c8b3c6a9</td>\n",
       "    </tr>\n",
       "    <tr>\n",
       "      <th>6</th>\n",
       "      <td>2023-04-13 00:00:00</td>\n",
       "      <td>947.661481</td>\n",
       "      <td>947.924839</td>\n",
       "      <td>1</td>\n",
       "      <td>8.443404e+04</td>\n",
       "      <td>8.443404e+04</td>\n",
       "      <td>8.443404e+04</td>\n",
       "      <td>8.443404e+04</td>\n",
       "      <td>8.443404e+04</td>\n",
       "      <td>WETH</td>\n",
       "      <td>0xc02aaa39b223fe8d0a0e5c4f27ead9083c756cc2</td>\n",
       "      <td>0x0</td>\n",
       "      <td>0x5a3e6a77ba2f983ec0d371ea3b475f8bc0811ad5</td>\n",
       "      <td>0x3378f1d6c60f4f8c9f1f491fe93932e5d5df8b1f0549...</td>\n",
       "      <td>206955</td>\n",
       "      <td>0xe66b31678d6c16e9ebf358268a790b763c133750</td>\n",
       "      <td>0x7e52e0e97c56c061cc27976cc26368a10655776f</td>\n",
       "    </tr>\n",
       "    <tr>\n",
       "      <th>7</th>\n",
       "      <td>2023-04-13 00:00:00</td>\n",
       "      <td>5252.087206</td>\n",
       "      <td>5252.879730</td>\n",
       "      <td>1</td>\n",
       "      <td>1.000971e+00</td>\n",
       "      <td>1.000971e+00</td>\n",
       "      <td>1.000971e+00</td>\n",
       "      <td>1.000971e+00</td>\n",
       "      <td>1.000971e+00</td>\n",
       "      <td>USDT</td>\n",
       "      <td>0xdac17f958d2ee523a2206206994597c13d831ec7</td>\n",
       "      <td>USDC</td>\n",
       "      <td>0xa0b86991c6218b36c1d19d4a2e9eb0ce3606eb48</td>\n",
       "      <td>0x1042595cff20ba822886027e64367baca605443d443d...</td>\n",
       "      <td>178670</td>\n",
       "      <td>0xef1c6e67703c7bd7107eed8303fbe6ec2554bf6b</td>\n",
       "      <td>0xf6d41a476248446a4f4d2997ed00a7c8b7b67ae5</td>\n",
       "    </tr>\n",
       "    <tr>\n",
       "      <th>8</th>\n",
       "      <td>2023-04-13 00:00:00</td>\n",
       "      <td>18.035527</td>\n",
       "      <td>0.000000</td>\n",
       "      <td>1</td>\n",
       "      <td>4.483036e+14</td>\n",
       "      <td>4.483036e+14</td>\n",
       "      <td>4.483036e+14</td>\n",
       "      <td>4.483036e+14</td>\n",
       "      <td>4.483036e+14</td>\n",
       "      <td>WETH</td>\n",
       "      <td>0xc02aaa39b223fe8d0a0e5c4f27ead9083c756cc2</td>\n",
       "      <td>Mononoke-Inu</td>\n",
       "      <td>0x4da08a1bff50be96bded5c7019227164b49c2bfc</td>\n",
       "      <td>0x1b0d3c50a4a37cfda5c8bcf2133ce728d561a2e48f39...</td>\n",
       "      <td>221601</td>\n",
       "      <td>0x4da08a1bff50be96bded5c7019227164b49c2bfc</td>\n",
       "      <td>0x120051a72966950b8ce12eb5496b5d1eeec1541b</td>\n",
       "    </tr>\n",
       "    <tr>\n",
       "      <th>9</th>\n",
       "      <td>2023-04-13 00:00:00</td>\n",
       "      <td>1490.902877</td>\n",
       "      <td>1499.366552</td>\n",
       "      <td>1</td>\n",
       "      <td>1.930115e+03</td>\n",
       "      <td>1.930115e+03</td>\n",
       "      <td>1.930115e+03</td>\n",
       "      <td>1.930115e+03</td>\n",
       "      <td>1.930115e+03</td>\n",
       "      <td>WETH</td>\n",
       "      <td>0xc02aaa39b223fe8d0a0e5c4f27ead9083c756cc2</td>\n",
       "      <td>USDC</td>\n",
       "      <td>0xa0b86991c6218b36c1d19d4a2e9eb0ce3606eb48</td>\n",
       "      <td>0x193a711add6b943d727eab80cda9882ec79d6eb03477...</td>\n",
       "      <td>238295</td>\n",
       "      <td>0xef1c6e67703c7bd7107eed8303fbe6ec2554bf6b</td>\n",
       "      <td>0x2cc6790fe08ab2e39d01db644916907324110a22</td>\n",
       "    </tr>\n",
       "  </tbody>\n",
       "</table>\n",
       "</div>"
      ],
      "text/plain": [
       "   timeInterval_minute   baseAmount  quoteAmount  trades    quotePrice  \\\n",
       "0  2023-04-13 00:00:00  1000.397563   995.065562       1  5.186931e-04   \n",
       "1  2023-04-13 00:00:00     0.000000    98.384461       1  5.393839e-09   \n",
       "2  2023-04-13 00:00:00   481.611561   475.405745       1  6.076612e-11   \n",
       "3  2023-04-13 00:00:00   995.065562  1000.397563       1  1.927922e+03   \n",
       "4  2023-04-13 00:00:00   603.187705   601.003884       1  3.983247e+00   \n",
       "5  2023-04-13 00:00:00   396.621550   393.594390       1  1.269143e+00   \n",
       "6  2023-04-13 00:00:00   947.661481   947.924839       1  8.443404e+04   \n",
       "7  2023-04-13 00:00:00  5252.087206  5252.879730       1  1.000971e+00   \n",
       "8  2023-04-13 00:00:00    18.035527     0.000000       1  4.483036e+14   \n",
       "9  2023-04-13 00:00:00  1490.902877  1499.366552       1  1.930115e+03   \n",
       "\n",
       "   maximum_price  minimum_price    open_price   close_price  \\\n",
       "0   5.186931e-04   5.186931e-04  5.186931e-04  5.186931e-04   \n",
       "1   5.393839e-09   5.393839e-09  5.393839e-09  5.393839e-09   \n",
       "2   6.076612e-11   6.076612e-11  6.076612e-11  6.076612e-11   \n",
       "3   1.927922e+03   1.927922e+03  1.927922e+03  1.927922e+03   \n",
       "4   3.983247e+00   3.983247e+00  3.983247e+00  3.983247e+00   \n",
       "5   1.269143e+00   1.269143e+00  1.269143e+00  1.269143e+00   \n",
       "6   8.443404e+04   8.443404e+04  8.443404e+04  8.443404e+04   \n",
       "7   1.000971e+00   1.000971e+00  1.000971e+00  1.000971e+00   \n",
       "8   4.483036e+14   4.483036e+14  4.483036e+14  4.483036e+14   \n",
       "9   1.930115e+03   1.930115e+03  1.930115e+03  1.930115e+03   \n",
       "\n",
       "  baseCurrency_symbol                        baseCurrency_address  \\\n",
       "0                USDT  0xdac17f958d2ee523a2206206994597c13d831ec7   \n",
       "1              PepGPT  0xfcf6c53ec8947a04b938c0052d853fbf47d30779   \n",
       "2                 CAW  0xf3b9569f82b18aef890de263b84189bd33ebe452   \n",
       "3                WETH  0xc02aaa39b223fe8d0a0e5c4f27ead9083c756cc2   \n",
       "4                 DAI  0x6b175474e89094c44da98b954eedeac495271d0f   \n",
       "5                 MTL  0xf433089366899d83a9f26a773d59ec7ecf30355e   \n",
       "6                WETH  0xc02aaa39b223fe8d0a0e5c4f27ead9083c756cc2   \n",
       "7                USDT  0xdac17f958d2ee523a2206206994597c13d831ec7   \n",
       "8                WETH  0xc02aaa39b223fe8d0a0e5c4f27ead9083c756cc2   \n",
       "9                WETH  0xc02aaa39b223fe8d0a0e5c4f27ead9083c756cc2   \n",
       "\n",
       "  quoteCurrency_symbol                       quoteCurrency_address  \\\n",
       "0                 WETH  0xc02aaa39b223fe8d0a0e5c4f27ead9083c756cc2   \n",
       "1                 WETH  0xc02aaa39b223fe8d0a0e5c4f27ead9083c756cc2   \n",
       "2                 WETH  0xc02aaa39b223fe8d0a0e5c4f27ead9083c756cc2   \n",
       "3                 USDT  0xdac17f958d2ee523a2206206994597c13d831ec7   \n",
       "4                  GLM  0x7dd9c5cba05e151c895fde1cf355c9a1d5da6429   \n",
       "5                 USDT  0xdac17f958d2ee523a2206206994597c13d831ec7   \n",
       "6                  0x0  0x5a3e6a77ba2f983ec0d371ea3b475f8bc0811ad5   \n",
       "7                 USDC  0xa0b86991c6218b36c1d19d4a2e9eb0ce3606eb48   \n",
       "8         Mononoke-Inu  0x4da08a1bff50be96bded5c7019227164b49c2bfc   \n",
       "9                 USDC  0xa0b86991c6218b36c1d19d4a2e9eb0ce3606eb48   \n",
       "\n",
       "                                    transaction_hash  transaction_gas  \\\n",
       "0  0x6a2a022170dcd8a63eebb925953b8565a531dc10a8c9...           217915   \n",
       "1  0x8f229070205c3fffe8eb44ae709cbfe8c78d0030727d...           156089   \n",
       "2  0x306e5ad2d431f1fb2c5cb3d7c99c4cf8a478db734512...           162549   \n",
       "3  0x6a2a022170dcd8a63eebb925953b8565a531dc10a8c9...           217915   \n",
       "4  0x684d611d91a710d91ac84c39a944e1e5efad37047411...            97150   \n",
       "5  0x27e0d082bb8f938b10bcb70da0bd9e3666843843e6ef...           108627   \n",
       "6  0x3378f1d6c60f4f8c9f1f491fe93932e5d5df8b1f0549...           206955   \n",
       "7  0x1042595cff20ba822886027e64367baca605443d443d...           178670   \n",
       "8  0x1b0d3c50a4a37cfda5c8bcf2133ce728d561a2e48f39...           221601   \n",
       "9  0x193a711add6b943d727eab80cda9882ec79d6eb03477...           238295   \n",
       "\n",
       "                       transaction_to_address  \\\n",
       "0  0x7a250d5630b4cf539739df2c5dacb4c659f2488d   \n",
       "1  0x7a250d5630b4cf539739df2c5dacb4c659f2488d   \n",
       "2  0x881d40237659c251811cec9c364ef91dc08d300c   \n",
       "3  0x7a250d5630b4cf539739df2c5dacb4c659f2488d   \n",
       "4  0x98c3d3183c4b8a650614ad179a1a98be0a8d6b8e   \n",
       "5  0x98c3d3183c4b8a650614ad179a1a98be0a8d6b8e   \n",
       "6  0xe66b31678d6c16e9ebf358268a790b763c133750   \n",
       "7  0xef1c6e67703c7bd7107eed8303fbe6ec2554bf6b   \n",
       "8  0x4da08a1bff50be96bded5c7019227164b49c2bfc   \n",
       "9  0xef1c6e67703c7bd7107eed8303fbe6ec2554bf6b   \n",
       "\n",
       "                   transaction_txFrom_address  \n",
       "0  0xba3a7c42d0eb8d9bd5ee16bf21f26100ba4aac8b  \n",
       "1  0x19d6e66f3c967ef53b62cfdf198ce4d5372a5ce8  \n",
       "2  0x595a8655df9137233ec7edc43ea2ce4a3b8c9406  \n",
       "3  0xba3a7c42d0eb8d9bd5ee16bf21f26100ba4aac8b  \n",
       "4  0x2a91d154cdcdf08a553017afdcdea398c8b706a6  \n",
       "5  0x8e8f818d3371f797a2db7edb32803607c8b3c6a9  \n",
       "6  0x7e52e0e97c56c061cc27976cc26368a10655776f  \n",
       "7  0xf6d41a476248446a4f4d2997ed00a7c8b7b67ae5  \n",
       "8  0x120051a72966950b8ce12eb5496b5d1eeec1541b  \n",
       "9  0x2cc6790fe08ab2e39d01db644916907324110a22  "
      ]
     },
     "execution_count": 21,
     "metadata": {},
     "output_type": "execute_result"
    }
   ],
   "source": [
    "df = pd.read_csv(\"bitquery_raw.csv\")\n",
    "df.head(10)"
   ]
  },
  {
   "attachments": {},
   "cell_type": "markdown",
   "metadata": {},
   "source": [
    "## Check: is there missing data?"
   ]
  },
  {
   "cell_type": "code",
   "execution_count": 76,
   "metadata": {},
   "outputs": [
    {
     "name": "stdout",
     "output_type": "stream",
     "text": [
      "There is missing data in the df:\n"
     ]
    },
    {
     "data": {
      "text/plain": [
       "True"
      ]
     },
     "execution_count": 76,
     "metadata": {},
     "output_type": "execute_result"
    }
   ],
   "source": [
    "print(\"There is missing data in the df:\")\n",
    "df.isnull().values.any()"
   ]
  },
  {
   "cell_type": "code",
   "execution_count": 77,
   "metadata": {},
   "outputs": [
    {
     "name": "stdout",
     "output_type": "stream",
     "text": [
      "How many missing values are there per column?\n"
     ]
    },
    {
     "data": {
      "text/plain": [
       "timeInterval_minute             0\n",
       "baseAmount                      0\n",
       "quoteAmount                     0\n",
       "trades                          0\n",
       "quotePrice                      0\n",
       "maximum_price                   0\n",
       "minimum_price                   0\n",
       "open_price                      0\n",
       "close_price                     0\n",
       "baseCurrency_symbol           706\n",
       "baseCurrency_address            0\n",
       "quoteCurrency_symbol          706\n",
       "quoteCurrency_address           0\n",
       "transaction_hash                0\n",
       "transaction_gas                 0\n",
       "transaction_to_address          0\n",
       "transaction_txFrom_address      0\n",
       "dtype: int64"
      ]
     },
     "execution_count": 77,
     "metadata": {},
     "output_type": "execute_result"
    }
   ],
   "source": [
    "print(\"How many missing values are there per column?\")\n",
    "df.isnull().sum()"
   ]
  },
  {
   "attachments": {},
   "cell_type": "markdown",
   "metadata": {},
   "source": [
    "Is there anything in common with the missing currency symbol data?  It appears to not have a particular pattern:"
   ]
  },
  {
   "cell_type": "code",
   "execution_count": 80,
   "metadata": {},
   "outputs": [
    {
     "data": {
      "text/html": [
       "<div>\n",
       "<style scoped>\n",
       "    .dataframe tbody tr th:only-of-type {\n",
       "        vertical-align: middle;\n",
       "    }\n",
       "\n",
       "    .dataframe tbody tr th {\n",
       "        vertical-align: top;\n",
       "    }\n",
       "\n",
       "    .dataframe thead th {\n",
       "        text-align: right;\n",
       "    }\n",
       "</style>\n",
       "<table border=\"1\" class=\"dataframe\">\n",
       "  <thead>\n",
       "    <tr style=\"text-align: right;\">\n",
       "      <th></th>\n",
       "      <th>timeInterval_minute</th>\n",
       "      <th>baseAmount</th>\n",
       "      <th>quoteAmount</th>\n",
       "      <th>trades</th>\n",
       "      <th>quotePrice</th>\n",
       "      <th>maximum_price</th>\n",
       "      <th>minimum_price</th>\n",
       "      <th>open_price</th>\n",
       "      <th>close_price</th>\n",
       "      <th>baseCurrency_symbol</th>\n",
       "      <th>baseCurrency_address</th>\n",
       "      <th>quoteCurrency_symbol</th>\n",
       "      <th>quoteCurrency_address</th>\n",
       "      <th>transaction_hash</th>\n",
       "      <th>transaction_gas</th>\n",
       "      <th>transaction_to_address</th>\n",
       "      <th>transaction_txFrom_address</th>\n",
       "    </tr>\n",
       "  </thead>\n",
       "  <tbody>\n",
       "    <tr>\n",
       "      <th>13721</th>\n",
       "      <td>2023-04-13 01:47:00</td>\n",
       "      <td>340.015702</td>\n",
       "      <td>315.525693</td>\n",
       "      <td>1</td>\n",
       "      <td>0.000007</td>\n",
       "      <td>0.000007</td>\n",
       "      <td>0.000007</td>\n",
       "      <td>0.000007</td>\n",
       "      <td>0.000007</td>\n",
       "      <td>NaN</td>\n",
       "      <td>0x5b8650cd999b23cf39ab12e3213fbc8709c7f5cb</td>\n",
       "      <td>WETH</td>\n",
       "      <td>0xc02aaa39b223fe8d0a0e5c4f27ead9083c756cc2</td>\n",
       "      <td>0xb56c122ead5a8c0e83439a78ece937c2f7751d005928...</td>\n",
       "      <td>149775</td>\n",
       "      <td>0xef1c6e67703c7bd7107eed8303fbe6ec2554bf6b</td>\n",
       "      <td>0x54af893dc51592f585b69ab07758a2407bbebef5</td>\n",
       "    </tr>\n",
       "    <tr>\n",
       "      <th>13886</th>\n",
       "      <td>2023-04-13 01:49:00</td>\n",
       "      <td>560.498152</td>\n",
       "      <td>525.371562</td>\n",
       "      <td>1</td>\n",
       "      <td>0.000007</td>\n",
       "      <td>0.000007</td>\n",
       "      <td>0.000007</td>\n",
       "      <td>0.000007</td>\n",
       "      <td>0.000007</td>\n",
       "      <td>NaN</td>\n",
       "      <td>0x5b8650cd999b23cf39ab12e3213fbc8709c7f5cb</td>\n",
       "      <td>WETH</td>\n",
       "      <td>0xc02aaa39b223fe8d0a0e5c4f27ead9083c756cc2</td>\n",
       "      <td>0x871288bf9ecc6f4b58238c1483fdc9e5cdf615b4f3e7...</td>\n",
       "      <td>156010</td>\n",
       "      <td>0x4870525eae23fceb31df613d179ef6275e1b93a9</td>\n",
       "      <td>0x76f36d497b51e48a288f03b4c1d7461e92247d5e</td>\n",
       "    </tr>\n",
       "    <tr>\n",
       "      <th>42885</th>\n",
       "      <td>2023-04-13 06:25:00</td>\n",
       "      <td>115.516013</td>\n",
       "      <td>116.537463</td>\n",
       "      <td>1</td>\n",
       "      <td>0.000035</td>\n",
       "      <td>0.000035</td>\n",
       "      <td>0.000035</td>\n",
       "      <td>0.000035</td>\n",
       "      <td>0.000035</td>\n",
       "      <td>NaN</td>\n",
       "      <td>0x431ad2ff6a9c365805ebad47ee021148d6f7dbe0</td>\n",
       "      <td>WETH</td>\n",
       "      <td>0xc02aaa39b223fe8d0a0e5c4f27ead9083c756cc2</td>\n",
       "      <td>0x1f6521313ad73c2b8928f5ff265470d143d44a62b186...</td>\n",
       "      <td>278716</td>\n",
       "      <td>0xbd4dbe0cb9136ffb4955ede88ebd5e92222ad09a</td>\n",
       "      <td>0x9d263af3950c80e3b49abd6def91f803762d65ab</td>\n",
       "    </tr>\n",
       "    <tr>\n",
       "      <th>84915</th>\n",
       "      <td>2023-04-13 11:13:00</td>\n",
       "      <td>0.000000</td>\n",
       "      <td>223.520816</td>\n",
       "      <td>1</td>\n",
       "      <td>0.446746</td>\n",
       "      <td>0.446746</td>\n",
       "      <td>0.446746</td>\n",
       "      <td>0.446746</td>\n",
       "      <td>0.446746</td>\n",
       "      <td>NaN</td>\n",
       "      <td>0x8e0e57dcb1ce8d9091df38ec1bfc3b224529754a</td>\n",
       "      <td>USDT</td>\n",
       "      <td>0xdac17f958d2ee523a2206206994597c13d831ec7</td>\n",
       "      <td>0x6acf2c3bdd85ce29de26e54374e1311e4733675ef723...</td>\n",
       "      <td>218196</td>\n",
       "      <td>0xef1c6e67703c7bd7107eed8303fbe6ec2554bf6b</td>\n",
       "      <td>0x2b67a3c9c48ff07ddaef69a05a555732a34fe4dc</td>\n",
       "    </tr>\n",
       "    <tr>\n",
       "      <th>95378</th>\n",
       "      <td>2023-04-13 12:24:00</td>\n",
       "      <td>0.000000</td>\n",
       "      <td>983.535611</td>\n",
       "      <td>1</td>\n",
       "      <td>0.442216</td>\n",
       "      <td>0.442216</td>\n",
       "      <td>0.442216</td>\n",
       "      <td>0.442216</td>\n",
       "      <td>0.442216</td>\n",
       "      <td>NaN</td>\n",
       "      <td>0x8e0e57dcb1ce8d9091df38ec1bfc3b224529754a</td>\n",
       "      <td>USDT</td>\n",
       "      <td>0xdac17f958d2ee523a2206206994597c13d831ec7</td>\n",
       "      <td>0x6730da6d920ce801083bf96569e26df22c556c490b5d...</td>\n",
       "      <td>222165</td>\n",
       "      <td>0xef1c6e67703c7bd7107eed8303fbe6ec2554bf6b</td>\n",
       "      <td>0x81bb979c79de18955a6e25f2a9a734e54fe17cb9</td>\n",
       "    </tr>\n",
       "    <tr>\n",
       "      <th>95468</th>\n",
       "      <td>2023-04-13 12:25:00</td>\n",
       "      <td>403.473061</td>\n",
       "      <td>397.568237</td>\n",
       "      <td>1</td>\n",
       "      <td>0.000007</td>\n",
       "      <td>0.000007</td>\n",
       "      <td>0.000007</td>\n",
       "      <td>0.000007</td>\n",
       "      <td>0.000007</td>\n",
       "      <td>NaN</td>\n",
       "      <td>0x5b8650cd999b23cf39ab12e3213fbc8709c7f5cb</td>\n",
       "      <td>WETH</td>\n",
       "      <td>0xc02aaa39b223fe8d0a0e5c4f27ead9083c756cc2</td>\n",
       "      <td>0x6e521f8b4e87d4727f01a4f5a10c9fa76b685ae67340...</td>\n",
       "      <td>145683</td>\n",
       "      <td>0xef1c6e67703c7bd7107eed8303fbe6ec2554bf6b</td>\n",
       "      <td>0x853d450a544f2857fff920afc36cd040c9931c85</td>\n",
       "    </tr>\n",
       "    <tr>\n",
       "      <th>104117</th>\n",
       "      <td>2023-04-13 13:16:00</td>\n",
       "      <td>9425.294614</td>\n",
       "      <td>11041.108137</td>\n",
       "      <td>1</td>\n",
       "      <td>0.000008</td>\n",
       "      <td>0.000008</td>\n",
       "      <td>0.000008</td>\n",
       "      <td>0.000008</td>\n",
       "      <td>0.000008</td>\n",
       "      <td>NaN</td>\n",
       "      <td>0x5b8650cd999b23cf39ab12e3213fbc8709c7f5cb</td>\n",
       "      <td>WETH</td>\n",
       "      <td>0xc02aaa39b223fe8d0a0e5c4f27ead9083c756cc2</td>\n",
       "      <td>0x55ec50f22bce30e9731c4a81bc482b334fd5d0e961ac...</td>\n",
       "      <td>179041</td>\n",
       "      <td>0xe8c060f8052e07423f71d445277c61ac5138a2e5</td>\n",
       "      <td>0x68cc21f7c777243d1a9c71c2349bfdccd8ca7b78</td>\n",
       "    </tr>\n",
       "    <tr>\n",
       "      <th>104165</th>\n",
       "      <td>2023-04-13 13:16:00</td>\n",
       "      <td>8772.450571</td>\n",
       "      <td>10451.156221</td>\n",
       "      <td>1</td>\n",
       "      <td>0.000008</td>\n",
       "      <td>0.000008</td>\n",
       "      <td>0.000008</td>\n",
       "      <td>0.000008</td>\n",
       "      <td>0.000008</td>\n",
       "      <td>NaN</td>\n",
       "      <td>0x5b8650cd999b23cf39ab12e3213fbc8709c7f5cb</td>\n",
       "      <td>WETH</td>\n",
       "      <td>0xc02aaa39b223fe8d0a0e5c4f27ead9083c756cc2</td>\n",
       "      <td>0x1650df256227357e4e89fc3a25f83fe063b514097609...</td>\n",
       "      <td>190922</td>\n",
       "      <td>0xe8c060f8052e07423f71d445277c61ac5138a2e5</td>\n",
       "      <td>0x68cc21f7c777243d1a9c71c2349bfdccd8ca7b78</td>\n",
       "    </tr>\n",
       "    <tr>\n",
       "      <th>107120</th>\n",
       "      <td>2023-04-13 13:34:00</td>\n",
       "      <td>2142.990427</td>\n",
       "      <td>2006.033938</td>\n",
       "      <td>1</td>\n",
       "      <td>0.000007</td>\n",
       "      <td>0.000007</td>\n",
       "      <td>0.000007</td>\n",
       "      <td>0.000007</td>\n",
       "      <td>0.000007</td>\n",
       "      <td>NaN</td>\n",
       "      <td>0x5b8650cd999b23cf39ab12e3213fbc8709c7f5cb</td>\n",
       "      <td>WETH</td>\n",
       "      <td>0xc02aaa39b223fe8d0a0e5c4f27ead9083c756cc2</td>\n",
       "      <td>0x60e8f14e58494f32fc3ace2861a02e7a8d4e8f295196...</td>\n",
       "      <td>154823</td>\n",
       "      <td>0xef1c6e67703c7bd7107eed8303fbe6ec2554bf6b</td>\n",
       "      <td>0x853d450a544f2857fff920afc36cd040c9931c85</td>\n",
       "    </tr>\n",
       "    <tr>\n",
       "      <th>107179</th>\n",
       "      <td>2023-04-13 13:34:00</td>\n",
       "      <td>1555.412459</td>\n",
       "      <td>1449.414247</td>\n",
       "      <td>1</td>\n",
       "      <td>0.000007</td>\n",
       "      <td>0.000007</td>\n",
       "      <td>0.000007</td>\n",
       "      <td>0.000007</td>\n",
       "      <td>0.000007</td>\n",
       "      <td>NaN</td>\n",
       "      <td>0x5b8650cd999b23cf39ab12e3213fbc8709c7f5cb</td>\n",
       "      <td>WETH</td>\n",
       "      <td>0xc02aaa39b223fe8d0a0e5c4f27ead9083c756cc2</td>\n",
       "      <td>0x7ca0a5f24db5bc27250c81a38f2a6d509bdaa3951006...</td>\n",
       "      <td>145794</td>\n",
       "      <td>0x4870525eae23fceb31df613d179ef6275e1b93a9</td>\n",
       "      <td>0x76f36d497b51e48a288f03b4c1d7461e92247d5e</td>\n",
       "    </tr>\n",
       "  </tbody>\n",
       "</table>\n",
       "</div>"
      ],
      "text/plain": [
       "        timeInterval_minute   baseAmount   quoteAmount  trades  quotePrice  \\\n",
       "13721   2023-04-13 01:47:00   340.015702    315.525693       1    0.000007   \n",
       "13886   2023-04-13 01:49:00   560.498152    525.371562       1    0.000007   \n",
       "42885   2023-04-13 06:25:00   115.516013    116.537463       1    0.000035   \n",
       "84915   2023-04-13 11:13:00     0.000000    223.520816       1    0.446746   \n",
       "95378   2023-04-13 12:24:00     0.000000    983.535611       1    0.442216   \n",
       "95468   2023-04-13 12:25:00   403.473061    397.568237       1    0.000007   \n",
       "104117  2023-04-13 13:16:00  9425.294614  11041.108137       1    0.000008   \n",
       "104165  2023-04-13 13:16:00  8772.450571  10451.156221       1    0.000008   \n",
       "107120  2023-04-13 13:34:00  2142.990427   2006.033938       1    0.000007   \n",
       "107179  2023-04-13 13:34:00  1555.412459   1449.414247       1    0.000007   \n",
       "\n",
       "        maximum_price  minimum_price  open_price  close_price  \\\n",
       "13721        0.000007       0.000007    0.000007     0.000007   \n",
       "13886        0.000007       0.000007    0.000007     0.000007   \n",
       "42885        0.000035       0.000035    0.000035     0.000035   \n",
       "84915        0.446746       0.446746    0.446746     0.446746   \n",
       "95378        0.442216       0.442216    0.442216     0.442216   \n",
       "95468        0.000007       0.000007    0.000007     0.000007   \n",
       "104117       0.000008       0.000008    0.000008     0.000008   \n",
       "104165       0.000008       0.000008    0.000008     0.000008   \n",
       "107120       0.000007       0.000007    0.000007     0.000007   \n",
       "107179       0.000007       0.000007    0.000007     0.000007   \n",
       "\n",
       "       baseCurrency_symbol                        baseCurrency_address  \\\n",
       "13721                  NaN  0x5b8650cd999b23cf39ab12e3213fbc8709c7f5cb   \n",
       "13886                  NaN  0x5b8650cd999b23cf39ab12e3213fbc8709c7f5cb   \n",
       "42885                  NaN  0x431ad2ff6a9c365805ebad47ee021148d6f7dbe0   \n",
       "84915                  NaN  0x8e0e57dcb1ce8d9091df38ec1bfc3b224529754a   \n",
       "95378                  NaN  0x8e0e57dcb1ce8d9091df38ec1bfc3b224529754a   \n",
       "95468                  NaN  0x5b8650cd999b23cf39ab12e3213fbc8709c7f5cb   \n",
       "104117                 NaN  0x5b8650cd999b23cf39ab12e3213fbc8709c7f5cb   \n",
       "104165                 NaN  0x5b8650cd999b23cf39ab12e3213fbc8709c7f5cb   \n",
       "107120                 NaN  0x5b8650cd999b23cf39ab12e3213fbc8709c7f5cb   \n",
       "107179                 NaN  0x5b8650cd999b23cf39ab12e3213fbc8709c7f5cb   \n",
       "\n",
       "       quoteCurrency_symbol                       quoteCurrency_address  \\\n",
       "13721                  WETH  0xc02aaa39b223fe8d0a0e5c4f27ead9083c756cc2   \n",
       "13886                  WETH  0xc02aaa39b223fe8d0a0e5c4f27ead9083c756cc2   \n",
       "42885                  WETH  0xc02aaa39b223fe8d0a0e5c4f27ead9083c756cc2   \n",
       "84915                  USDT  0xdac17f958d2ee523a2206206994597c13d831ec7   \n",
       "95378                  USDT  0xdac17f958d2ee523a2206206994597c13d831ec7   \n",
       "95468                  WETH  0xc02aaa39b223fe8d0a0e5c4f27ead9083c756cc2   \n",
       "104117                 WETH  0xc02aaa39b223fe8d0a0e5c4f27ead9083c756cc2   \n",
       "104165                 WETH  0xc02aaa39b223fe8d0a0e5c4f27ead9083c756cc2   \n",
       "107120                 WETH  0xc02aaa39b223fe8d0a0e5c4f27ead9083c756cc2   \n",
       "107179                 WETH  0xc02aaa39b223fe8d0a0e5c4f27ead9083c756cc2   \n",
       "\n",
       "                                         transaction_hash  transaction_gas  \\\n",
       "13721   0xb56c122ead5a8c0e83439a78ece937c2f7751d005928...           149775   \n",
       "13886   0x871288bf9ecc6f4b58238c1483fdc9e5cdf615b4f3e7...           156010   \n",
       "42885   0x1f6521313ad73c2b8928f5ff265470d143d44a62b186...           278716   \n",
       "84915   0x6acf2c3bdd85ce29de26e54374e1311e4733675ef723...           218196   \n",
       "95378   0x6730da6d920ce801083bf96569e26df22c556c490b5d...           222165   \n",
       "95468   0x6e521f8b4e87d4727f01a4f5a10c9fa76b685ae67340...           145683   \n",
       "104117  0x55ec50f22bce30e9731c4a81bc482b334fd5d0e961ac...           179041   \n",
       "104165  0x1650df256227357e4e89fc3a25f83fe063b514097609...           190922   \n",
       "107120  0x60e8f14e58494f32fc3ace2861a02e7a8d4e8f295196...           154823   \n",
       "107179  0x7ca0a5f24db5bc27250c81a38f2a6d509bdaa3951006...           145794   \n",
       "\n",
       "                            transaction_to_address  \\\n",
       "13721   0xef1c6e67703c7bd7107eed8303fbe6ec2554bf6b   \n",
       "13886   0x4870525eae23fceb31df613d179ef6275e1b93a9   \n",
       "42885   0xbd4dbe0cb9136ffb4955ede88ebd5e92222ad09a   \n",
       "84915   0xef1c6e67703c7bd7107eed8303fbe6ec2554bf6b   \n",
       "95378   0xef1c6e67703c7bd7107eed8303fbe6ec2554bf6b   \n",
       "95468   0xef1c6e67703c7bd7107eed8303fbe6ec2554bf6b   \n",
       "104117  0xe8c060f8052e07423f71d445277c61ac5138a2e5   \n",
       "104165  0xe8c060f8052e07423f71d445277c61ac5138a2e5   \n",
       "107120  0xef1c6e67703c7bd7107eed8303fbe6ec2554bf6b   \n",
       "107179  0x4870525eae23fceb31df613d179ef6275e1b93a9   \n",
       "\n",
       "                        transaction_txFrom_address  \n",
       "13721   0x54af893dc51592f585b69ab07758a2407bbebef5  \n",
       "13886   0x76f36d497b51e48a288f03b4c1d7461e92247d5e  \n",
       "42885   0x9d263af3950c80e3b49abd6def91f803762d65ab  \n",
       "84915   0x2b67a3c9c48ff07ddaef69a05a555732a34fe4dc  \n",
       "95378   0x81bb979c79de18955a6e25f2a9a734e54fe17cb9  \n",
       "95468   0x853d450a544f2857fff920afc36cd040c9931c85  \n",
       "104117  0x68cc21f7c777243d1a9c71c2349bfdccd8ca7b78  \n",
       "104165  0x68cc21f7c777243d1a9c71c2349bfdccd8ca7b78  \n",
       "107120  0x853d450a544f2857fff920afc36cd040c9931c85  \n",
       "107179  0x76f36d497b51e48a288f03b4c1d7461e92247d5e  "
      ]
     },
     "execution_count": 80,
     "metadata": {},
     "output_type": "execute_result"
    }
   ],
   "source": [
    "df.loc[df['baseCurrency_symbol'].isnull()].head(10)"
   ]
  },
  {
   "attachments": {},
   "cell_type": "markdown",
   "metadata": {},
   "source": [
    "## Statistics about the numeric columns"
   ]
  },
  {
   "cell_type": "code",
   "execution_count": 24,
   "metadata": {},
   "outputs": [
    {
     "data": {
      "text/html": [
       "<div>\n",
       "<style scoped>\n",
       "    .dataframe tbody tr th:only-of-type {\n",
       "        vertical-align: middle;\n",
       "    }\n",
       "\n",
       "    .dataframe tbody tr th {\n",
       "        vertical-align: top;\n",
       "    }\n",
       "\n",
       "    .dataframe thead th {\n",
       "        text-align: right;\n",
       "    }\n",
       "</style>\n",
       "<table border=\"1\" class=\"dataframe\">\n",
       "  <thead>\n",
       "    <tr style=\"text-align: right;\">\n",
       "      <th></th>\n",
       "      <th>baseAmount</th>\n",
       "      <th>quoteAmount</th>\n",
       "      <th>trades</th>\n",
       "      <th>quotePrice</th>\n",
       "      <th>maximum_price</th>\n",
       "      <th>minimum_price</th>\n",
       "      <th>open_price</th>\n",
       "      <th>close_price</th>\n",
       "      <th>transaction_gas</th>\n",
       "    </tr>\n",
       "  </thead>\n",
       "  <tbody>\n",
       "    <tr>\n",
       "      <th>count</th>\n",
       "      <td>2.125200e+05</td>\n",
       "      <td>2.125200e+05</td>\n",
       "      <td>212520.000000</td>\n",
       "      <td>2.125200e+05</td>\n",
       "      <td>2.125200e+05</td>\n",
       "      <td>2.125200e+05</td>\n",
       "      <td>2.125200e+05</td>\n",
       "      <td>2.125200e+05</td>\n",
       "      <td>2.125200e+05</td>\n",
       "    </tr>\n",
       "    <tr>\n",
       "      <th>mean</th>\n",
       "      <td>2.626690e+16</td>\n",
       "      <td>2.626690e+16</td>\n",
       "      <td>1.060380</td>\n",
       "      <td>1.041287e+27</td>\n",
       "      <td>1.041478e+27</td>\n",
       "      <td>1.034947e+27</td>\n",
       "      <td>1.041466e+27</td>\n",
       "      <td>1.041466e+27</td>\n",
       "      <td>2.102870e+05</td>\n",
       "    </tr>\n",
       "    <tr>\n",
       "      <th>std</th>\n",
       "      <td>4.629135e+18</td>\n",
       "      <td>4.629135e+18</td>\n",
       "      <td>0.487417</td>\n",
       "      <td>3.303532e+29</td>\n",
       "      <td>3.303539e+29</td>\n",
       "      <td>3.303397e+29</td>\n",
       "      <td>3.303539e+29</td>\n",
       "      <td>3.303539e+29</td>\n",
       "      <td>1.765877e+05</td>\n",
       "    </tr>\n",
       "    <tr>\n",
       "      <th>min</th>\n",
       "      <td>0.000000e+00</td>\n",
       "      <td>0.000000e+00</td>\n",
       "      <td>1.000000</td>\n",
       "      <td>-3.878470e+16</td>\n",
       "      <td>-3.878470e+16</td>\n",
       "      <td>-3.878470e+16</td>\n",
       "      <td>-3.878470e+16</td>\n",
       "      <td>-3.878470e+16</td>\n",
       "      <td>5.033600e+04</td>\n",
       "    </tr>\n",
       "    <tr>\n",
       "      <th>25%</th>\n",
       "      <td>4.694290e+01</td>\n",
       "      <td>4.695470e+01</td>\n",
       "      <td>1.000000</td>\n",
       "      <td>2.296530e-05</td>\n",
       "      <td>2.305925e-05</td>\n",
       "      <td>2.294858e-05</td>\n",
       "      <td>2.300901e-05</td>\n",
       "      <td>2.300901e-05</td>\n",
       "      <td>1.458540e+05</td>\n",
       "    </tr>\n",
       "    <tr>\n",
       "      <th>50%</th>\n",
       "      <td>3.990785e+02</td>\n",
       "      <td>3.990785e+02</td>\n",
       "      <td>1.000000</td>\n",
       "      <td>9.999929e-01</td>\n",
       "      <td>1.000007e+00</td>\n",
       "      <td>9.999924e-01</td>\n",
       "      <td>9.999926e-01</td>\n",
       "      <td>9.999926e-01</td>\n",
       "      <td>1.772440e+05</td>\n",
       "    </tr>\n",
       "    <tr>\n",
       "      <th>75%</th>\n",
       "      <td>1.883813e+03</td>\n",
       "      <td>1.883813e+03</td>\n",
       "      <td>1.000000</td>\n",
       "      <td>4.339737e+04</td>\n",
       "      <td>4.346126e+04</td>\n",
       "      <td>4.332001e+04</td>\n",
       "      <td>4.335529e+04</td>\n",
       "      <td>4.335529e+04</td>\n",
       "      <td>2.308270e+05</td>\n",
       "    </tr>\n",
       "    <tr>\n",
       "      <th>max</th>\n",
       "      <td>1.612575e+21</td>\n",
       "      <td>1.612575e+21</td>\n",
       "      <td>98.000000</td>\n",
       "      <td>1.417718e+32</td>\n",
       "      <td>1.417718e+32</td>\n",
       "      <td>1.417718e+32</td>\n",
       "      <td>1.417718e+32</td>\n",
       "      <td>1.417718e+32</td>\n",
       "      <td>1.143463e+07</td>\n",
       "    </tr>\n",
       "  </tbody>\n",
       "</table>\n",
       "</div>"
      ],
      "text/plain": [
       "         baseAmount   quoteAmount         trades    quotePrice  maximum_price  \\\n",
       "count  2.125200e+05  2.125200e+05  212520.000000  2.125200e+05   2.125200e+05   \n",
       "mean   2.626690e+16  2.626690e+16       1.060380  1.041287e+27   1.041478e+27   \n",
       "std    4.629135e+18  4.629135e+18       0.487417  3.303532e+29   3.303539e+29   \n",
       "min    0.000000e+00  0.000000e+00       1.000000 -3.878470e+16  -3.878470e+16   \n",
       "25%    4.694290e+01  4.695470e+01       1.000000  2.296530e-05   2.305925e-05   \n",
       "50%    3.990785e+02  3.990785e+02       1.000000  9.999929e-01   1.000007e+00   \n",
       "75%    1.883813e+03  1.883813e+03       1.000000  4.339737e+04   4.346126e+04   \n",
       "max    1.612575e+21  1.612575e+21      98.000000  1.417718e+32   1.417718e+32   \n",
       "\n",
       "       minimum_price    open_price   close_price  transaction_gas  \n",
       "count   2.125200e+05  2.125200e+05  2.125200e+05     2.125200e+05  \n",
       "mean    1.034947e+27  1.041466e+27  1.041466e+27     2.102870e+05  \n",
       "std     3.303397e+29  3.303539e+29  3.303539e+29     1.765877e+05  \n",
       "min    -3.878470e+16 -3.878470e+16 -3.878470e+16     5.033600e+04  \n",
       "25%     2.294858e-05  2.300901e-05  2.300901e-05     1.458540e+05  \n",
       "50%     9.999924e-01  9.999926e-01  9.999926e-01     1.772440e+05  \n",
       "75%     4.332001e+04  4.335529e+04  4.335529e+04     2.308270e+05  \n",
       "max     1.417718e+32  1.417718e+32  1.417718e+32     1.143463e+07  "
      ]
     },
     "execution_count": 24,
     "metadata": {},
     "output_type": "execute_result"
    }
   ],
   "source": [
    "df.describe()"
   ]
  },
  {
   "attachments": {},
   "cell_type": "markdown",
   "metadata": {},
   "source": [
    "## Most commonly used wallets for sending and receiving"
   ]
  },
  {
   "cell_type": "code",
   "execution_count": 87,
   "metadata": {},
   "outputs": [
    {
     "name": "stdout",
     "output_type": "stream",
     "text": [
      "Most common \"to\" wallet addresses:\n"
     ]
    },
    {
     "data": {
      "text/html": [
       "<div>\n",
       "<style scoped>\n",
       "    .dataframe tbody tr th:only-of-type {\n",
       "        vertical-align: middle;\n",
       "    }\n",
       "\n",
       "    .dataframe tbody tr th {\n",
       "        vertical-align: top;\n",
       "    }\n",
       "\n",
       "    .dataframe thead th {\n",
       "        text-align: right;\n",
       "    }\n",
       "</style>\n",
       "<table border=\"1\" class=\"dataframe\">\n",
       "  <thead>\n",
       "    <tr style=\"text-align: right;\">\n",
       "      <th></th>\n",
       "      <th>unique_wallets</th>\n",
       "      <th>counts</th>\n",
       "    </tr>\n",
       "  </thead>\n",
       "  <tbody>\n",
       "    <tr>\n",
       "      <th>0</th>\n",
       "      <td>0xef1c6e67703c7bd7107eed8303fbe6ec2554bf6b</td>\n",
       "      <td>92008</td>\n",
       "    </tr>\n",
       "    <tr>\n",
       "      <th>1</th>\n",
       "      <td>0x7a250d5630b4cf539739df2c5dacb4c659f2488d</td>\n",
       "      <td>32357</td>\n",
       "    </tr>\n",
       "    <tr>\n",
       "      <th>2</th>\n",
       "      <td>0x881d40237659c251811cec9c364ef91dc08d300c</td>\n",
       "      <td>8995</td>\n",
       "    </tr>\n",
       "    <tr>\n",
       "      <th>3</th>\n",
       "      <td>0x1111111254eeb25477b68fb85ed929f73a960582</td>\n",
       "      <td>7678</td>\n",
       "    </tr>\n",
       "    <tr>\n",
       "      <th>4</th>\n",
       "      <td>0xe66b31678d6c16e9ebf358268a790b763c133750</td>\n",
       "      <td>6032</td>\n",
       "    </tr>\n",
       "  </tbody>\n",
       "</table>\n",
       "</div>"
      ],
      "text/plain": [
       "                               unique_wallets  counts\n",
       "0  0xef1c6e67703c7bd7107eed8303fbe6ec2554bf6b   92008\n",
       "1  0x7a250d5630b4cf539739df2c5dacb4c659f2488d   32357\n",
       "2  0x881d40237659c251811cec9c364ef91dc08d300c    8995\n",
       "3  0x1111111254eeb25477b68fb85ed929f73a960582    7678\n",
       "4  0xe66b31678d6c16e9ebf358268a790b763c133750    6032"
      ]
     },
     "execution_count": 87,
     "metadata": {},
     "output_type": "execute_result"
    }
   ],
   "source": [
    "print('Most common \"to\" wallet addresses:')\n",
    "top_to = df['transaction_to_address'].value_counts().rename_axis('unique_wallets').reset_index(name='counts').copy()\n",
    "top_to.head(5)"
   ]
  },
  {
   "cell_type": "code",
   "execution_count": 67,
   "metadata": {},
   "outputs": [
    {
     "name": "stdout",
     "output_type": "stream",
     "text": [
      "Most common \"from\" wallet addresses:\n"
     ]
    },
    {
     "data": {
      "text/plain": [
       "0xae2fc483527b8ef99eb5d9b44875f005ba1fae13    4033\n",
       "0x76f36d497b51e48a288f03b4c1d7461e92247d5e    3214\n",
       "0x91aae0aafd9d2d730111b395c6871f248d7bd728    1381\n",
       "0x0b64aa727412fc4c527aa8f14ba83cd8cf5e75fe     944\n",
       "0xc252ceec3ad24c47657638c323d96249a9f1b42a     931\n",
       "Name: transaction_txFrom_address, dtype: int64"
      ]
     },
     "execution_count": 67,
     "metadata": {},
     "output_type": "execute_result"
    }
   ],
   "source": [
    "print('Most common \"from\" wallet addresses:')\n",
    "df['transaction_txFrom_address'].value_counts().head(5)"
   ]
  },
  {
   "cell_type": "code",
   "execution_count": 81,
   "metadata": {},
   "outputs": [
    {
     "name": "stdout",
     "output_type": "stream",
     "text": [
      "Check that no overlaps of same wallet in to and from category:\n"
     ]
    },
    {
     "data": {
      "text/plain": [
       "0"
      ]
     },
     "execution_count": 81,
     "metadata": {},
     "output_type": "execute_result"
    }
   ],
   "source": [
    "print('Check that no overlaps of same wallet in to and from category:')\n",
    "sum(df['transaction_txFrom_address'] == df['transaction_to_address'])"
   ]
  },
  {
   "attachments": {},
   "cell_type": "markdown",
   "metadata": {},
   "source": [
    "## Analyze patterns and behaviors in top wallet"
   ]
  },
  {
   "cell_type": "code",
   "execution_count": 91,
   "metadata": {},
   "outputs": [
    {
     "data": {
      "text/html": [
       "<div>\n",
       "<style scoped>\n",
       "    .dataframe tbody tr th:only-of-type {\n",
       "        vertical-align: middle;\n",
       "    }\n",
       "\n",
       "    .dataframe tbody tr th {\n",
       "        vertical-align: top;\n",
       "    }\n",
       "\n",
       "    .dataframe thead th {\n",
       "        text-align: right;\n",
       "    }\n",
       "</style>\n",
       "<table border=\"1\" class=\"dataframe\">\n",
       "  <thead>\n",
       "    <tr style=\"text-align: right;\">\n",
       "      <th></th>\n",
       "      <th>timeInterval_minute</th>\n",
       "      <th>baseAmount</th>\n",
       "      <th>quoteAmount</th>\n",
       "      <th>trades</th>\n",
       "      <th>quotePrice</th>\n",
       "      <th>maximum_price</th>\n",
       "      <th>minimum_price</th>\n",
       "      <th>open_price</th>\n",
       "      <th>close_price</th>\n",
       "      <th>baseCurrency_symbol</th>\n",
       "      <th>baseCurrency_address</th>\n",
       "      <th>quoteCurrency_symbol</th>\n",
       "      <th>quoteCurrency_address</th>\n",
       "      <th>transaction_hash</th>\n",
       "      <th>transaction_gas</th>\n",
       "      <th>transaction_to_address</th>\n",
       "      <th>transaction_txFrom_address</th>\n",
       "    </tr>\n",
       "  </thead>\n",
       "  <tbody>\n",
       "    <tr>\n",
       "      <th>7</th>\n",
       "      <td>2023-04-13 00:00:00</td>\n",
       "      <td>5252.087206</td>\n",
       "      <td>5252.879730</td>\n",
       "      <td>1</td>\n",
       "      <td>1.000971</td>\n",
       "      <td>1.000971</td>\n",
       "      <td>1.000971</td>\n",
       "      <td>1.000971</td>\n",
       "      <td>1.000971</td>\n",
       "      <td>USDT</td>\n",
       "      <td>0xdac17f958d2ee523a2206206994597c13d831ec7</td>\n",
       "      <td>USDC</td>\n",
       "      <td>0xa0b86991c6218b36c1d19d4a2e9eb0ce3606eb48</td>\n",
       "      <td>0x1042595cff20ba822886027e64367baca605443d443d...</td>\n",
       "      <td>178670</td>\n",
       "      <td>0xef1c6e67703c7bd7107eed8303fbe6ec2554bf6b</td>\n",
       "      <td>0xf6d41a476248446a4f4d2997ed00a7c8b7b67ae5</td>\n",
       "    </tr>\n",
       "    <tr>\n",
       "      <th>9</th>\n",
       "      <td>2023-04-13 00:00:00</td>\n",
       "      <td>1490.902877</td>\n",
       "      <td>1499.366552</td>\n",
       "      <td>1</td>\n",
       "      <td>1930.114719</td>\n",
       "      <td>1930.114719</td>\n",
       "      <td>1930.114719</td>\n",
       "      <td>1930.114719</td>\n",
       "      <td>1930.114719</td>\n",
       "      <td>WETH</td>\n",
       "      <td>0xc02aaa39b223fe8d0a0e5c4f27ead9083c756cc2</td>\n",
       "      <td>USDC</td>\n",
       "      <td>0xa0b86991c6218b36c1d19d4a2e9eb0ce3606eb48</td>\n",
       "      <td>0x193a711add6b943d727eab80cda9882ec79d6eb03477...</td>\n",
       "      <td>238295</td>\n",
       "      <td>0xef1c6e67703c7bd7107eed8303fbe6ec2554bf6b</td>\n",
       "      <td>0x2cc6790fe08ab2e39d01db644916907324110a22</td>\n",
       "    </tr>\n",
       "    <tr>\n",
       "      <th>11</th>\n",
       "      <td>2023-04-13 00:00:00</td>\n",
       "      <td>0.000000</td>\n",
       "      <td>1490.902877</td>\n",
       "      <td>1</td>\n",
       "      <td>0.000238</td>\n",
       "      <td>0.000238</td>\n",
       "      <td>0.000238</td>\n",
       "      <td>0.000238</td>\n",
       "      <td>0.000238</td>\n",
       "      <td>ANON</td>\n",
       "      <td>0x975bbd66c60b54fedd24e59a241251e261f474df</td>\n",
       "      <td>WETH</td>\n",
       "      <td>0xc02aaa39b223fe8d0a0e5c4f27ead9083c756cc2</td>\n",
       "      <td>0x193a711add6b943d727eab80cda9882ec79d6eb03477...</td>\n",
       "      <td>238295</td>\n",
       "      <td>0xef1c6e67703c7bd7107eed8303fbe6ec2554bf6b</td>\n",
       "      <td>0x2cc6790fe08ab2e39d01db644916907324110a22</td>\n",
       "    </tr>\n",
       "    <tr>\n",
       "      <th>15</th>\n",
       "      <td>2023-04-13 00:00:00</td>\n",
       "      <td>289.713484</td>\n",
       "      <td>291.715036</td>\n",
       "      <td>1</td>\n",
       "      <td>324003.964383</td>\n",
       "      <td>324003.964383</td>\n",
       "      <td>324003.964383</td>\n",
       "      <td>324003.964383</td>\n",
       "      <td>324003.964383</td>\n",
       "      <td>WETH</td>\n",
       "      <td>0xc02aaa39b223fe8d0a0e5c4f27ead9083c756cc2</td>\n",
       "      <td>PARTY</td>\n",
       "      <td>0x0fe0ed7f146cb12e4b9759aff4fa8d34571802ca</td>\n",
       "      <td>0xfd86818c78950c1b3a6239bb353652b346af12af5734...</td>\n",
       "      <td>156639</td>\n",
       "      <td>0xef1c6e67703c7bd7107eed8303fbe6ec2554bf6b</td>\n",
       "      <td>0x100bfffbcc1bfb7dc51441c532d861d383280c74</td>\n",
       "    </tr>\n",
       "    <tr>\n",
       "      <th>16</th>\n",
       "      <td>2023-04-13 00:00:00</td>\n",
       "      <td>22.361369</td>\n",
       "      <td>0.000000</td>\n",
       "      <td>1</td>\n",
       "      <td>119292.454447</td>\n",
       "      <td>119292.454447</td>\n",
       "      <td>119292.454447</td>\n",
       "      <td>119292.454447</td>\n",
       "      <td>119292.454447</td>\n",
       "      <td>WETH</td>\n",
       "      <td>0xc02aaa39b223fe8d0a0e5c4f27ead9083c756cc2</td>\n",
       "      <td>OHMI</td>\n",
       "      <td>0x4159862bcf6b4393a80550b1ed03dffa6f90533c</td>\n",
       "      <td>0x452ecfcf64bf60cce3b5191c501a48c873b46520c455...</td>\n",
       "      <td>127575</td>\n",
       "      <td>0xef1c6e67703c7bd7107eed8303fbe6ec2554bf6b</td>\n",
       "      <td>0xa6af4418299962d54308ad5f55a9a2ee6d3eefe2</td>\n",
       "    </tr>\n",
       "  </tbody>\n",
       "</table>\n",
       "</div>"
      ],
      "text/plain": [
       "    timeInterval_minute   baseAmount  quoteAmount  trades     quotePrice  \\\n",
       "7   2023-04-13 00:00:00  5252.087206  5252.879730       1       1.000971   \n",
       "9   2023-04-13 00:00:00  1490.902877  1499.366552       1    1930.114719   \n",
       "11  2023-04-13 00:00:00     0.000000  1490.902877       1       0.000238   \n",
       "15  2023-04-13 00:00:00   289.713484   291.715036       1  324003.964383   \n",
       "16  2023-04-13 00:00:00    22.361369     0.000000       1  119292.454447   \n",
       "\n",
       "    maximum_price  minimum_price     open_price    close_price  \\\n",
       "7        1.000971       1.000971       1.000971       1.000971   \n",
       "9     1930.114719    1930.114719    1930.114719    1930.114719   \n",
       "11       0.000238       0.000238       0.000238       0.000238   \n",
       "15  324003.964383  324003.964383  324003.964383  324003.964383   \n",
       "16  119292.454447  119292.454447  119292.454447  119292.454447   \n",
       "\n",
       "   baseCurrency_symbol                        baseCurrency_address  \\\n",
       "7                 USDT  0xdac17f958d2ee523a2206206994597c13d831ec7   \n",
       "9                 WETH  0xc02aaa39b223fe8d0a0e5c4f27ead9083c756cc2   \n",
       "11                ANON  0x975bbd66c60b54fedd24e59a241251e261f474df   \n",
       "15                WETH  0xc02aaa39b223fe8d0a0e5c4f27ead9083c756cc2   \n",
       "16                WETH  0xc02aaa39b223fe8d0a0e5c4f27ead9083c756cc2   \n",
       "\n",
       "   quoteCurrency_symbol                       quoteCurrency_address  \\\n",
       "7                  USDC  0xa0b86991c6218b36c1d19d4a2e9eb0ce3606eb48   \n",
       "9                  USDC  0xa0b86991c6218b36c1d19d4a2e9eb0ce3606eb48   \n",
       "11                 WETH  0xc02aaa39b223fe8d0a0e5c4f27ead9083c756cc2   \n",
       "15                PARTY  0x0fe0ed7f146cb12e4b9759aff4fa8d34571802ca   \n",
       "16                 OHMI  0x4159862bcf6b4393a80550b1ed03dffa6f90533c   \n",
       "\n",
       "                                     transaction_hash  transaction_gas  \\\n",
       "7   0x1042595cff20ba822886027e64367baca605443d443d...           178670   \n",
       "9   0x193a711add6b943d727eab80cda9882ec79d6eb03477...           238295   \n",
       "11  0x193a711add6b943d727eab80cda9882ec79d6eb03477...           238295   \n",
       "15  0xfd86818c78950c1b3a6239bb353652b346af12af5734...           156639   \n",
       "16  0x452ecfcf64bf60cce3b5191c501a48c873b46520c455...           127575   \n",
       "\n",
       "                        transaction_to_address  \\\n",
       "7   0xef1c6e67703c7bd7107eed8303fbe6ec2554bf6b   \n",
       "9   0xef1c6e67703c7bd7107eed8303fbe6ec2554bf6b   \n",
       "11  0xef1c6e67703c7bd7107eed8303fbe6ec2554bf6b   \n",
       "15  0xef1c6e67703c7bd7107eed8303fbe6ec2554bf6b   \n",
       "16  0xef1c6e67703c7bd7107eed8303fbe6ec2554bf6b   \n",
       "\n",
       "                    transaction_txFrom_address  \n",
       "7   0xf6d41a476248446a4f4d2997ed00a7c8b7b67ae5  \n",
       "9   0x2cc6790fe08ab2e39d01db644916907324110a22  \n",
       "11  0x2cc6790fe08ab2e39d01db644916907324110a22  \n",
       "15  0x100bfffbcc1bfb7dc51441c532d861d383280c74  \n",
       "16  0xa6af4418299962d54308ad5f55a9a2ee6d3eefe2  "
      ]
     },
     "execution_count": 91,
     "metadata": {},
     "output_type": "execute_result"
    }
   ],
   "source": [
    "# Analyze top to address patterns:\n",
    "top_address = top_to['unique_wallets'][0]\n",
    "top_add = df.loc[df['transaction_to_address'] == top_address].copy()\n",
    "top_add.head()"
   ]
  },
  {
   "cell_type": "code",
   "execution_count": 93,
   "metadata": {},
   "outputs": [
    {
     "name": "stdout",
     "output_type": "stream",
     "text": [
      "Who is the top receiving address getting trades from?\n"
     ]
    },
    {
     "data": {
      "text/plain": [
       "0x822fc93407c81ba1401838cb2991130d2be36a94    440\n",
       "0xed37f7264f0a3c97382875d902792dd6e9a67df6    144\n",
       "0xc01e5bddd5fe614f5f8adab93f345b87b0c0ffe5    132\n",
       "0xac38e6ba918587efd3752a580ed8426dc7a57bdd    118\n",
       "0x859c13a3cd75e2acdcfbff6ca2e20acebea16c24    112\n",
       "0x451131431fe5d726cb21df732b259bb5d5e36b12    110\n",
       "0xaed1a74ed6b4a697bfab6ffb545244198b4432ae    108\n",
       "0xd4bd4ac4ca46c16cefe1d1042a5d3e3ad764e19a     92\n",
       "0x20eadfcaf91bd98674ff8fc341d148e1731576a4     90\n",
       "0xa311db09461cbd324ab46708a41ebf5a27d313b2     88\n",
       "Name: transaction_txFrom_address, dtype: int64"
      ]
     },
     "execution_count": 93,
     "metadata": {},
     "output_type": "execute_result"
    }
   ],
   "source": [
    "print('Who is the top receiving address getting trades from?')\n",
    "top_add['transaction_txFrom_address'].value_counts().head(10)"
   ]
  },
  {
   "cell_type": "code",
   "execution_count": 95,
   "metadata": {},
   "outputs": [
    {
     "data": {
      "text/html": [
       "<div>\n",
       "<style scoped>\n",
       "    .dataframe tbody tr th:only-of-type {\n",
       "        vertical-align: middle;\n",
       "    }\n",
       "\n",
       "    .dataframe tbody tr th {\n",
       "        vertical-align: top;\n",
       "    }\n",
       "\n",
       "    .dataframe thead th {\n",
       "        text-align: right;\n",
       "    }\n",
       "</style>\n",
       "<table border=\"1\" class=\"dataframe\">\n",
       "  <thead>\n",
       "    <tr style=\"text-align: right;\">\n",
       "      <th></th>\n",
       "      <th>wallets</th>\n",
       "      <th>counts</th>\n",
       "    </tr>\n",
       "  </thead>\n",
       "  <tbody>\n",
       "    <tr>\n",
       "      <th>0</th>\n",
       "      <td>0x822fc93407c81ba1401838cb2991130d2be36a94</td>\n",
       "      <td>440</td>\n",
       "    </tr>\n",
       "    <tr>\n",
       "      <th>1</th>\n",
       "      <td>0xed37f7264f0a3c97382875d902792dd6e9a67df6</td>\n",
       "      <td>144</td>\n",
       "    </tr>\n",
       "    <tr>\n",
       "      <th>2</th>\n",
       "      <td>0xc01e5bddd5fe614f5f8adab93f345b87b0c0ffe5</td>\n",
       "      <td>132</td>\n",
       "    </tr>\n",
       "    <tr>\n",
       "      <th>3</th>\n",
       "      <td>0xac38e6ba918587efd3752a580ed8426dc7a57bdd</td>\n",
       "      <td>118</td>\n",
       "    </tr>\n",
       "    <tr>\n",
       "      <th>4</th>\n",
       "      <td>0x859c13a3cd75e2acdcfbff6ca2e20acebea16c24</td>\n",
       "      <td>112</td>\n",
       "    </tr>\n",
       "    <tr>\n",
       "      <th>5</th>\n",
       "      <td>0x451131431fe5d726cb21df732b259bb5d5e36b12</td>\n",
       "      <td>110</td>\n",
       "    </tr>\n",
       "    <tr>\n",
       "      <th>6</th>\n",
       "      <td>0xaed1a74ed6b4a697bfab6ffb545244198b4432ae</td>\n",
       "      <td>108</td>\n",
       "    </tr>\n",
       "    <tr>\n",
       "      <th>7</th>\n",
       "      <td>0xd4bd4ac4ca46c16cefe1d1042a5d3e3ad764e19a</td>\n",
       "      <td>92</td>\n",
       "    </tr>\n",
       "    <tr>\n",
       "      <th>8</th>\n",
       "      <td>0x20eadfcaf91bd98674ff8fc341d148e1731576a4</td>\n",
       "      <td>90</td>\n",
       "    </tr>\n",
       "    <tr>\n",
       "      <th>9</th>\n",
       "      <td>0xa311db09461cbd324ab46708a41ebf5a27d313b2</td>\n",
       "      <td>88</td>\n",
       "    </tr>\n",
       "  </tbody>\n",
       "</table>\n",
       "</div>"
      ],
      "text/plain": [
       "                                      wallets  counts\n",
       "0  0x822fc93407c81ba1401838cb2991130d2be36a94     440\n",
       "1  0xed37f7264f0a3c97382875d902792dd6e9a67df6     144\n",
       "2  0xc01e5bddd5fe614f5f8adab93f345b87b0c0ffe5     132\n",
       "3  0xac38e6ba918587efd3752a580ed8426dc7a57bdd     118\n",
       "4  0x859c13a3cd75e2acdcfbff6ca2e20acebea16c24     112\n",
       "5  0x451131431fe5d726cb21df732b259bb5d5e36b12     110\n",
       "6  0xaed1a74ed6b4a697bfab6ffb545244198b4432ae     108\n",
       "7  0xd4bd4ac4ca46c16cefe1d1042a5d3e3ad764e19a      92\n",
       "8  0x20eadfcaf91bd98674ff8fc341d148e1731576a4      90\n",
       "9  0xa311db09461cbd324ab46708a41ebf5a27d313b2      88"
      ]
     },
     "execution_count": 95,
     "metadata": {},
     "output_type": "execute_result"
    }
   ],
   "source": [
    "# Processing for visual\n",
    "sank = top_add['transaction_txFrom_address'].value_counts().rename_axis('wallets').reset_index(name='counts').copy()\n",
    "sank.head(10)"
   ]
  },
  {
   "cell_type": "code",
   "execution_count": 115,
   "metadata": {},
   "outputs": [
    {
     "data": {
      "text/plain": [
       "'0x822fc93407c81ba1401838cb2991130d2be36a94'"
      ]
     },
     "execution_count": 115,
     "metadata": {},
     "output_type": "execute_result"
    }
   ],
   "source": [
    "sank.wallets[0]"
   ]
  },
  {
   "cell_type": "code",
   "execution_count": 128,
   "metadata": {},
   "outputs": [
    {
     "data": {
      "application/vnd.plotly.v1+json": {
       "config": {
        "plotlyServerURL": "https://plot.ly"
       },
       "data": [
        {
         "link": {
          "source": [
           1,
           2,
           3,
           4,
           5
          ],
          "target": [
           0,
           0,
           0,
           0,
           0
          ],
          "value": [
           440,
           144,
           132,
           118,
           112
          ]
         },
         "node": {
          "color": "blue",
          "label": [
           [
            "Most Common Receiving Wallet: ",
            "0xef1c6e67703c7bd7107eed8303fbe6ec2554bf6b"
           ],
           "0x822fc93407c81ba1401838cb2991130d2be36a94",
           "0xed37f7264f0a3c97382875d902792dd6e9a67df6",
           "0xc01e5bddd5fe614f5f8adab93f345b87b0c0ffe5",
           "0xac38e6ba918587efd3752a580ed8426dc7a57bdd",
           "0x859c13a3cd75e2acdcfbff6ca2e20acebea16c24"
          ],
          "line": {
           "color": "black",
           "width": 0.5
          },
          "pad": 15,
          "thickness": 20
         },
         "type": "sankey"
        }
       ],
       "layout": {
        "font": {
         "size": 10
        },
        "template": {
         "data": {
          "bar": [
           {
            "error_x": {
             "color": "#2a3f5f"
            },
            "error_y": {
             "color": "#2a3f5f"
            },
            "marker": {
             "line": {
              "color": "#E5ECF6",
              "width": 0.5
             },
             "pattern": {
              "fillmode": "overlay",
              "size": 10,
              "solidity": 0.2
             }
            },
            "type": "bar"
           }
          ],
          "barpolar": [
           {
            "marker": {
             "line": {
              "color": "#E5ECF6",
              "width": 0.5
             },
             "pattern": {
              "fillmode": "overlay",
              "size": 10,
              "solidity": 0.2
             }
            },
            "type": "barpolar"
           }
          ],
          "carpet": [
           {
            "aaxis": {
             "endlinecolor": "#2a3f5f",
             "gridcolor": "white",
             "linecolor": "white",
             "minorgridcolor": "white",
             "startlinecolor": "#2a3f5f"
            },
            "baxis": {
             "endlinecolor": "#2a3f5f",
             "gridcolor": "white",
             "linecolor": "white",
             "minorgridcolor": "white",
             "startlinecolor": "#2a3f5f"
            },
            "type": "carpet"
           }
          ],
          "choropleth": [
           {
            "colorbar": {
             "outlinewidth": 0,
             "ticks": ""
            },
            "type": "choropleth"
           }
          ],
          "contour": [
           {
            "colorbar": {
             "outlinewidth": 0,
             "ticks": ""
            },
            "colorscale": [
             [
              0,
              "#0d0887"
             ],
             [
              0.1111111111111111,
              "#46039f"
             ],
             [
              0.2222222222222222,
              "#7201a8"
             ],
             [
              0.3333333333333333,
              "#9c179e"
             ],
             [
              0.4444444444444444,
              "#bd3786"
             ],
             [
              0.5555555555555556,
              "#d8576b"
             ],
             [
              0.6666666666666666,
              "#ed7953"
             ],
             [
              0.7777777777777778,
              "#fb9f3a"
             ],
             [
              0.8888888888888888,
              "#fdca26"
             ],
             [
              1,
              "#f0f921"
             ]
            ],
            "type": "contour"
           }
          ],
          "contourcarpet": [
           {
            "colorbar": {
             "outlinewidth": 0,
             "ticks": ""
            },
            "type": "contourcarpet"
           }
          ],
          "heatmap": [
           {
            "colorbar": {
             "outlinewidth": 0,
             "ticks": ""
            },
            "colorscale": [
             [
              0,
              "#0d0887"
             ],
             [
              0.1111111111111111,
              "#46039f"
             ],
             [
              0.2222222222222222,
              "#7201a8"
             ],
             [
              0.3333333333333333,
              "#9c179e"
             ],
             [
              0.4444444444444444,
              "#bd3786"
             ],
             [
              0.5555555555555556,
              "#d8576b"
             ],
             [
              0.6666666666666666,
              "#ed7953"
             ],
             [
              0.7777777777777778,
              "#fb9f3a"
             ],
             [
              0.8888888888888888,
              "#fdca26"
             ],
             [
              1,
              "#f0f921"
             ]
            ],
            "type": "heatmap"
           }
          ],
          "heatmapgl": [
           {
            "colorbar": {
             "outlinewidth": 0,
             "ticks": ""
            },
            "colorscale": [
             [
              0,
              "#0d0887"
             ],
             [
              0.1111111111111111,
              "#46039f"
             ],
             [
              0.2222222222222222,
              "#7201a8"
             ],
             [
              0.3333333333333333,
              "#9c179e"
             ],
             [
              0.4444444444444444,
              "#bd3786"
             ],
             [
              0.5555555555555556,
              "#d8576b"
             ],
             [
              0.6666666666666666,
              "#ed7953"
             ],
             [
              0.7777777777777778,
              "#fb9f3a"
             ],
             [
              0.8888888888888888,
              "#fdca26"
             ],
             [
              1,
              "#f0f921"
             ]
            ],
            "type": "heatmapgl"
           }
          ],
          "histogram": [
           {
            "marker": {
             "pattern": {
              "fillmode": "overlay",
              "size": 10,
              "solidity": 0.2
             }
            },
            "type": "histogram"
           }
          ],
          "histogram2d": [
           {
            "colorbar": {
             "outlinewidth": 0,
             "ticks": ""
            },
            "colorscale": [
             [
              0,
              "#0d0887"
             ],
             [
              0.1111111111111111,
              "#46039f"
             ],
             [
              0.2222222222222222,
              "#7201a8"
             ],
             [
              0.3333333333333333,
              "#9c179e"
             ],
             [
              0.4444444444444444,
              "#bd3786"
             ],
             [
              0.5555555555555556,
              "#d8576b"
             ],
             [
              0.6666666666666666,
              "#ed7953"
             ],
             [
              0.7777777777777778,
              "#fb9f3a"
             ],
             [
              0.8888888888888888,
              "#fdca26"
             ],
             [
              1,
              "#f0f921"
             ]
            ],
            "type": "histogram2d"
           }
          ],
          "histogram2dcontour": [
           {
            "colorbar": {
             "outlinewidth": 0,
             "ticks": ""
            },
            "colorscale": [
             [
              0,
              "#0d0887"
             ],
             [
              0.1111111111111111,
              "#46039f"
             ],
             [
              0.2222222222222222,
              "#7201a8"
             ],
             [
              0.3333333333333333,
              "#9c179e"
             ],
             [
              0.4444444444444444,
              "#bd3786"
             ],
             [
              0.5555555555555556,
              "#d8576b"
             ],
             [
              0.6666666666666666,
              "#ed7953"
             ],
             [
              0.7777777777777778,
              "#fb9f3a"
             ],
             [
              0.8888888888888888,
              "#fdca26"
             ],
             [
              1,
              "#f0f921"
             ]
            ],
            "type": "histogram2dcontour"
           }
          ],
          "mesh3d": [
           {
            "colorbar": {
             "outlinewidth": 0,
             "ticks": ""
            },
            "type": "mesh3d"
           }
          ],
          "parcoords": [
           {
            "line": {
             "colorbar": {
              "outlinewidth": 0,
              "ticks": ""
             }
            },
            "type": "parcoords"
           }
          ],
          "pie": [
           {
            "automargin": true,
            "type": "pie"
           }
          ],
          "scatter": [
           {
            "fillpattern": {
             "fillmode": "overlay",
             "size": 10,
             "solidity": 0.2
            },
            "type": "scatter"
           }
          ],
          "scatter3d": [
           {
            "line": {
             "colorbar": {
              "outlinewidth": 0,
              "ticks": ""
             }
            },
            "marker": {
             "colorbar": {
              "outlinewidth": 0,
              "ticks": ""
             }
            },
            "type": "scatter3d"
           }
          ],
          "scattercarpet": [
           {
            "marker": {
             "colorbar": {
              "outlinewidth": 0,
              "ticks": ""
             }
            },
            "type": "scattercarpet"
           }
          ],
          "scattergeo": [
           {
            "marker": {
             "colorbar": {
              "outlinewidth": 0,
              "ticks": ""
             }
            },
            "type": "scattergeo"
           }
          ],
          "scattergl": [
           {
            "marker": {
             "colorbar": {
              "outlinewidth": 0,
              "ticks": ""
             }
            },
            "type": "scattergl"
           }
          ],
          "scattermapbox": [
           {
            "marker": {
             "colorbar": {
              "outlinewidth": 0,
              "ticks": ""
             }
            },
            "type": "scattermapbox"
           }
          ],
          "scatterpolar": [
           {
            "marker": {
             "colorbar": {
              "outlinewidth": 0,
              "ticks": ""
             }
            },
            "type": "scatterpolar"
           }
          ],
          "scatterpolargl": [
           {
            "marker": {
             "colorbar": {
              "outlinewidth": 0,
              "ticks": ""
             }
            },
            "type": "scatterpolargl"
           }
          ],
          "scatterternary": [
           {
            "marker": {
             "colorbar": {
              "outlinewidth": 0,
              "ticks": ""
             }
            },
            "type": "scatterternary"
           }
          ],
          "surface": [
           {
            "colorbar": {
             "outlinewidth": 0,
             "ticks": ""
            },
            "colorscale": [
             [
              0,
              "#0d0887"
             ],
             [
              0.1111111111111111,
              "#46039f"
             ],
             [
              0.2222222222222222,
              "#7201a8"
             ],
             [
              0.3333333333333333,
              "#9c179e"
             ],
             [
              0.4444444444444444,
              "#bd3786"
             ],
             [
              0.5555555555555556,
              "#d8576b"
             ],
             [
              0.6666666666666666,
              "#ed7953"
             ],
             [
              0.7777777777777778,
              "#fb9f3a"
             ],
             [
              0.8888888888888888,
              "#fdca26"
             ],
             [
              1,
              "#f0f921"
             ]
            ],
            "type": "surface"
           }
          ],
          "table": [
           {
            "cells": {
             "fill": {
              "color": "#EBF0F8"
             },
             "line": {
              "color": "white"
             }
            },
            "header": {
             "fill": {
              "color": "#C8D4E3"
             },
             "line": {
              "color": "white"
             }
            },
            "type": "table"
           }
          ]
         },
         "layout": {
          "annotationdefaults": {
           "arrowcolor": "#2a3f5f",
           "arrowhead": 0,
           "arrowwidth": 1
          },
          "autotypenumbers": "strict",
          "coloraxis": {
           "colorbar": {
            "outlinewidth": 0,
            "ticks": ""
           }
          },
          "colorscale": {
           "diverging": [
            [
             0,
             "#8e0152"
            ],
            [
             0.1,
             "#c51b7d"
            ],
            [
             0.2,
             "#de77ae"
            ],
            [
             0.3,
             "#f1b6da"
            ],
            [
             0.4,
             "#fde0ef"
            ],
            [
             0.5,
             "#f7f7f7"
            ],
            [
             0.6,
             "#e6f5d0"
            ],
            [
             0.7,
             "#b8e186"
            ],
            [
             0.8,
             "#7fbc41"
            ],
            [
             0.9,
             "#4d9221"
            ],
            [
             1,
             "#276419"
            ]
           ],
           "sequential": [
            [
             0,
             "#0d0887"
            ],
            [
             0.1111111111111111,
             "#46039f"
            ],
            [
             0.2222222222222222,
             "#7201a8"
            ],
            [
             0.3333333333333333,
             "#9c179e"
            ],
            [
             0.4444444444444444,
             "#bd3786"
            ],
            [
             0.5555555555555556,
             "#d8576b"
            ],
            [
             0.6666666666666666,
             "#ed7953"
            ],
            [
             0.7777777777777778,
             "#fb9f3a"
            ],
            [
             0.8888888888888888,
             "#fdca26"
            ],
            [
             1,
             "#f0f921"
            ]
           ],
           "sequentialminus": [
            [
             0,
             "#0d0887"
            ],
            [
             0.1111111111111111,
             "#46039f"
            ],
            [
             0.2222222222222222,
             "#7201a8"
            ],
            [
             0.3333333333333333,
             "#9c179e"
            ],
            [
             0.4444444444444444,
             "#bd3786"
            ],
            [
             0.5555555555555556,
             "#d8576b"
            ],
            [
             0.6666666666666666,
             "#ed7953"
            ],
            [
             0.7777777777777778,
             "#fb9f3a"
            ],
            [
             0.8888888888888888,
             "#fdca26"
            ],
            [
             1,
             "#f0f921"
            ]
           ]
          },
          "colorway": [
           "#636efa",
           "#EF553B",
           "#00cc96",
           "#ab63fa",
           "#FFA15A",
           "#19d3f3",
           "#FF6692",
           "#B6E880",
           "#FF97FF",
           "#FECB52"
          ],
          "font": {
           "color": "#2a3f5f"
          },
          "geo": {
           "bgcolor": "white",
           "lakecolor": "white",
           "landcolor": "#E5ECF6",
           "showlakes": true,
           "showland": true,
           "subunitcolor": "white"
          },
          "hoverlabel": {
           "align": "left"
          },
          "hovermode": "closest",
          "mapbox": {
           "style": "light"
          },
          "paper_bgcolor": "white",
          "plot_bgcolor": "#E5ECF6",
          "polar": {
           "angularaxis": {
            "gridcolor": "white",
            "linecolor": "white",
            "ticks": ""
           },
           "bgcolor": "#E5ECF6",
           "radialaxis": {
            "gridcolor": "white",
            "linecolor": "white",
            "ticks": ""
           }
          },
          "scene": {
           "xaxis": {
            "backgroundcolor": "#E5ECF6",
            "gridcolor": "white",
            "gridwidth": 2,
            "linecolor": "white",
            "showbackground": true,
            "ticks": "",
            "zerolinecolor": "white"
           },
           "yaxis": {
            "backgroundcolor": "#E5ECF6",
            "gridcolor": "white",
            "gridwidth": 2,
            "linecolor": "white",
            "showbackground": true,
            "ticks": "",
            "zerolinecolor": "white"
           },
           "zaxis": {
            "backgroundcolor": "#E5ECF6",
            "gridcolor": "white",
            "gridwidth": 2,
            "linecolor": "white",
            "showbackground": true,
            "ticks": "",
            "zerolinecolor": "white"
           }
          },
          "shapedefaults": {
           "line": {
            "color": "#2a3f5f"
           }
          },
          "ternary": {
           "aaxis": {
            "gridcolor": "white",
            "linecolor": "white",
            "ticks": ""
           },
           "baxis": {
            "gridcolor": "white",
            "linecolor": "white",
            "ticks": ""
           },
           "bgcolor": "#E5ECF6",
           "caxis": {
            "gridcolor": "white",
            "linecolor": "white",
            "ticks": ""
           }
          },
          "title": {
           "x": 0.05
          },
          "xaxis": {
           "automargin": true,
           "gridcolor": "white",
           "linecolor": "white",
           "ticks": "",
           "title": {
            "standoff": 15
           },
           "zerolinecolor": "white",
           "zerolinewidth": 2
          },
          "yaxis": {
           "automargin": true,
           "gridcolor": "white",
           "linecolor": "white",
           "ticks": "",
           "title": {
            "standoff": 15
           },
           "zerolinecolor": "white",
           "zerolinewidth": 2
          }
         }
        },
        "title": {
         "text": "Top 5 Wallets with Transactions to Most Used Receiving Wallet"
        }
       }
      }
     },
     "metadata": {},
     "output_type": "display_data"
    }
   ],
   "source": [
    "import plotly.graph_objects as go\n",
    "\n",
    "fig = go.Figure(data=[go.Sankey(\n",
    "    node = dict(\n",
    "      pad = 15,\n",
    "      thickness = 20,\n",
    "      line = dict(color = \"black\", width = 0.5),\n",
    "      label = [(\"Most Common Receiving Wallet: \", top_address) , sank.wallets[0], sank.wallets[1], sank.wallets[2], sank.wallets[3], sank.wallets[4]],\n",
    "      color = \"blue\"\n",
    "    ),\n",
    "    link = dict(\n",
    "      source = [1,2,3,4,5],\n",
    "      target = [0,0,0,0,0],\n",
    "      value = [sank.counts.tolist()[0], sank.counts.tolist()[1], sank.counts.tolist()[2], sank.counts.tolist()[3], sank.counts.tolist()[4]]\n",
    "  ))])\n",
    "\n",
    "fig.update_layout(title_text=\"Top 5 Wallets with Transactions to Most Used Receiving Wallet\", font_size=10)\n",
    "fig.show()\n"
   ]
  },
  {
   "attachments": {},
   "cell_type": "markdown",
   "metadata": {},
   "source": [
    "## What times is the most used wallet receiving trades?"
   ]
  },
  {
   "cell_type": "code",
   "execution_count": 140,
   "metadata": {},
   "outputs": [
    {
     "data": {
      "text/html": [
       "<div>\n",
       "<style scoped>\n",
       "    .dataframe tbody tr th:only-of-type {\n",
       "        vertical-align: middle;\n",
       "    }\n",
       "\n",
       "    .dataframe tbody tr th {\n",
       "        vertical-align: top;\n",
       "    }\n",
       "\n",
       "    .dataframe thead th {\n",
       "        text-align: right;\n",
       "    }\n",
       "</style>\n",
       "<table border=\"1\" class=\"dataframe\">\n",
       "  <thead>\n",
       "    <tr style=\"text-align: right;\">\n",
       "      <th></th>\n",
       "      <th>unique_times</th>\n",
       "      <th>counts</th>\n",
       "    </tr>\n",
       "  </thead>\n",
       "  <tbody>\n",
       "    <tr>\n",
       "      <th>0</th>\n",
       "      <td>2023-04-13 20:40:00</td>\n",
       "      <td>156</td>\n",
       "    </tr>\n",
       "    <tr>\n",
       "      <th>1</th>\n",
       "      <td>2023-04-13 16:20:00</td>\n",
       "      <td>156</td>\n",
       "    </tr>\n",
       "    <tr>\n",
       "      <th>2</th>\n",
       "      <td>2023-04-13 18:57:00</td>\n",
       "      <td>148</td>\n",
       "    </tr>\n",
       "    <tr>\n",
       "      <th>3</th>\n",
       "      <td>2023-04-13 14:09:00</td>\n",
       "      <td>130</td>\n",
       "    </tr>\n",
       "    <tr>\n",
       "      <th>4</th>\n",
       "      <td>2023-04-13 21:27:00</td>\n",
       "      <td>130</td>\n",
       "    </tr>\n",
       "    <tr>\n",
       "      <th>...</th>\n",
       "      <td>...</td>\n",
       "      <td>...</td>\n",
       "    </tr>\n",
       "    <tr>\n",
       "      <th>1389</th>\n",
       "      <td>2023-04-13 01:24:00</td>\n",
       "      <td>14</td>\n",
       "    </tr>\n",
       "    <tr>\n",
       "      <th>1390</th>\n",
       "      <td>2023-04-13 23:00:00</td>\n",
       "      <td>14</td>\n",
       "    </tr>\n",
       "    <tr>\n",
       "      <th>1391</th>\n",
       "      <td>2023-04-13 09:13:00</td>\n",
       "      <td>14</td>\n",
       "    </tr>\n",
       "    <tr>\n",
       "      <th>1392</th>\n",
       "      <td>2023-04-13 04:40:00</td>\n",
       "      <td>14</td>\n",
       "    </tr>\n",
       "    <tr>\n",
       "      <th>1393</th>\n",
       "      <td>2023-04-13 03:03:00</td>\n",
       "      <td>6</td>\n",
       "    </tr>\n",
       "  </tbody>\n",
       "</table>\n",
       "<p>1394 rows × 2 columns</p>\n",
       "</div>"
      ],
      "text/plain": [
       "             unique_times  counts\n",
       "0     2023-04-13 20:40:00     156\n",
       "1     2023-04-13 16:20:00     156\n",
       "2     2023-04-13 18:57:00     148\n",
       "3     2023-04-13 14:09:00     130\n",
       "4     2023-04-13 21:27:00     130\n",
       "...                   ...     ...\n",
       "1389  2023-04-13 01:24:00      14\n",
       "1390  2023-04-13 23:00:00      14\n",
       "1391  2023-04-13 09:13:00      14\n",
       "1392  2023-04-13 04:40:00      14\n",
       "1393  2023-04-13 03:03:00       6\n",
       "\n",
       "[1394 rows x 2 columns]"
      ]
     },
     "execution_count": 140,
     "metadata": {},
     "output_type": "execute_result"
    }
   ],
   "source": [
    "top_add_times = top_add['timeInterval_minute'].value_counts().rename_axis('unique_times').reset_index(name='counts')\n",
    "top_add_times\n"
   ]
  },
  {
   "cell_type": "code",
   "execution_count": 147,
   "metadata": {},
   "outputs": [],
   "source": [
    "top_add_times.sort_values('unique_times', inplace=True)\n",
    "top_add_times.reset_index(inplace=True, drop=True)"
   ]
  },
  {
   "cell_type": "code",
   "execution_count": 152,
   "metadata": {},
   "outputs": [
    {
     "data": {
      "text/html": [
       "<div>\n",
       "<style scoped>\n",
       "    .dataframe tbody tr th:only-of-type {\n",
       "        vertical-align: middle;\n",
       "    }\n",
       "\n",
       "    .dataframe tbody tr th {\n",
       "        vertical-align: top;\n",
       "    }\n",
       "\n",
       "    .dataframe thead th {\n",
       "        text-align: right;\n",
       "    }\n",
       "</style>\n",
       "<table border=\"1\" class=\"dataframe\">\n",
       "  <thead>\n",
       "    <tr style=\"text-align: right;\">\n",
       "      <th></th>\n",
       "      <th>unique_times</th>\n",
       "      <th>counts</th>\n",
       "    </tr>\n",
       "  </thead>\n",
       "  <tbody>\n",
       "    <tr>\n",
       "      <th>0</th>\n",
       "      <td>2023-04-13 00:59:00</td>\n",
       "      <td>3662</td>\n",
       "    </tr>\n",
       "    <tr>\n",
       "      <th>1</th>\n",
       "      <td>2023-04-13 02:02:00</td>\n",
       "      <td>3088</td>\n",
       "    </tr>\n",
       "    <tr>\n",
       "      <th>2</th>\n",
       "      <td>2023-04-13 03:02:00</td>\n",
       "      <td>3076</td>\n",
       "    </tr>\n",
       "    <tr>\n",
       "      <th>3</th>\n",
       "      <td>2023-04-13 04:08:00</td>\n",
       "      <td>2762</td>\n",
       "    </tr>\n",
       "    <tr>\n",
       "      <th>4</th>\n",
       "      <td>2023-04-13 05:08:00</td>\n",
       "      <td>2860</td>\n",
       "    </tr>\n",
       "  </tbody>\n",
       "</table>\n",
       "</div>"
      ],
      "text/plain": [
       "          unique_times  counts\n",
       "0  2023-04-13 00:59:00    3662\n",
       "1  2023-04-13 02:02:00    3088\n",
       "2  2023-04-13 03:02:00    3076\n",
       "3  2023-04-13 04:08:00    2762\n",
       "4  2023-04-13 05:08:00    2860"
      ]
     },
     "execution_count": 152,
     "metadata": {},
     "output_type": "execute_result"
    }
   ],
   "source": [
    "hourly_top_add_times = top_add_times.groupby(top_add_times.index // 60).agg({'unique_times': 'last', 'counts': 'sum'})\n",
    "hourly_top_add_times.head()\n"
   ]
  },
  {
   "cell_type": "code",
   "execution_count": 163,
   "metadata": {},
   "outputs": [
    {
     "data": {
      "text/html": [
       "<div>\n",
       "<style scoped>\n",
       "    .dataframe tbody tr th:only-of-type {\n",
       "        vertical-align: middle;\n",
       "    }\n",
       "\n",
       "    .dataframe tbody tr th {\n",
       "        vertical-align: top;\n",
       "    }\n",
       "\n",
       "    .dataframe thead th {\n",
       "        text-align: right;\n",
       "    }\n",
       "</style>\n",
       "<table border=\"1\" class=\"dataframe\">\n",
       "  <thead>\n",
       "    <tr style=\"text-align: right;\">\n",
       "      <th></th>\n",
       "      <th>unique_times</th>\n",
       "      <th>counts</th>\n",
       "      <th>days</th>\n",
       "      <th>times</th>\n",
       "    </tr>\n",
       "  </thead>\n",
       "  <tbody>\n",
       "    <tr>\n",
       "      <th>0</th>\n",
       "      <td>2023-04-13 00:59:00</td>\n",
       "      <td>3662</td>\n",
       "      <td>2023-04-13</td>\n",
       "      <td>00:59:00</td>\n",
       "    </tr>\n",
       "    <tr>\n",
       "      <th>1</th>\n",
       "      <td>2023-04-13 02:02:00</td>\n",
       "      <td>3088</td>\n",
       "      <td>2023-04-13</td>\n",
       "      <td>02:02:00</td>\n",
       "    </tr>\n",
       "    <tr>\n",
       "      <th>2</th>\n",
       "      <td>2023-04-13 03:02:00</td>\n",
       "      <td>3076</td>\n",
       "      <td>2023-04-13</td>\n",
       "      <td>03:02:00</td>\n",
       "    </tr>\n",
       "    <tr>\n",
       "      <th>3</th>\n",
       "      <td>2023-04-13 04:08:00</td>\n",
       "      <td>2762</td>\n",
       "      <td>2023-04-13</td>\n",
       "      <td>04:08:00</td>\n",
       "    </tr>\n",
       "    <tr>\n",
       "      <th>4</th>\n",
       "      <td>2023-04-13 05:08:00</td>\n",
       "      <td>2860</td>\n",
       "      <td>2023-04-13</td>\n",
       "      <td>05:08:00</td>\n",
       "    </tr>\n",
       "  </tbody>\n",
       "</table>\n",
       "</div>"
      ],
      "text/plain": [
       "          unique_times  counts        days     times\n",
       "0  2023-04-13 00:59:00    3662  2023-04-13  00:59:00\n",
       "1  2023-04-13 02:02:00    3088  2023-04-13  02:02:00\n",
       "2  2023-04-13 03:02:00    3076  2023-04-13  03:02:00\n",
       "3  2023-04-13 04:08:00    2762  2023-04-13  04:08:00\n",
       "4  2023-04-13 05:08:00    2860  2023-04-13  05:08:00"
      ]
     },
     "execution_count": 163,
     "metadata": {},
     "output_type": "execute_result"
    }
   ],
   "source": [
    "hourly_top_add_times[['days', 'times']] = hourly_top_add_times['unique_times'].str.split(' ', 1, expand=True)\n",
    "hourly_top_add_times.head()\n"
   ]
  },
  {
   "cell_type": "code",
   "execution_count": 165,
   "metadata": {},
   "outputs": [
    {
     "data": {
      "image/png": "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",
      "text/plain": [
       "<Figure size 432x288 with 1 Axes>"
      ]
     },
     "metadata": {
      "needs_background": "light"
     },
     "output_type": "display_data"
    }
   ],
   "source": [
    "plt.scatter(hourly_top_add_times['times'],hourly_top_add_times['counts'])\n",
    "plt.xlabel(\"Time\")\n",
    "plt.xticks(rotation=45)\n",
    "plt.ylabel(\"Frequency\")\n",
    "plt.title(\"Distribution of exchange times of most frequently used wallet per hour\")\n",
    "plt.show()"
=======
   "execution_count": null,
   "metadata": {},
   "outputs": [],
   "source": [
    "# close the cursor and the database connection\n",
    "cursor.close()\n",
    "conn.close()"
>>>>>>> 65b53a5c3343b101f8340917f592a17f43e52feb
   ]
  }
 ],
 "metadata": {
  "kernelspec": {
   "display_name": "base",
   "language": "python",
   "name": "python3"
  },
  "language_info": {
   "codemirror_mode": {
    "name": "ipython",
    "version": 3
   },
   "file_extension": ".py",
   "mimetype": "text/x-python",
   "name": "python",
   "nbconvert_exporter": "python",
   "pygments_lexer": "ipython3",
   "version": "3.8.8"
  },
  "orig_nbformat": 4
 },
 "nbformat": 4,
 "nbformat_minor": 2
}
