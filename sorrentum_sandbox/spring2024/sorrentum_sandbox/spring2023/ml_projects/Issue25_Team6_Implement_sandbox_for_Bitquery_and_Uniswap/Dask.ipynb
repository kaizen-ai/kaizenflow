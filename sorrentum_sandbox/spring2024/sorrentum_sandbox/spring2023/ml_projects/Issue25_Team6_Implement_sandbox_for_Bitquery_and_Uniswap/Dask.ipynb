{
 "cells": [
  {
   "cell_type": "markdown",
   "id": "5d3c9d92",
   "metadata": {},
   "source": [
    "# Loading most recent data from postgres table"
   ]
  },
  {
   "cell_type": "markdown",
   "id": "1f0c9f30",
   "metadata": {},
   "source": [
    "## Installing needed packages and connections"
   ]
  },
  {
   "cell_type": "code",
   "execution_count": 9,
   "id": "c6bc8574",
   "metadata": {
    "ExecuteTime": {
     "end_time": "2023-05-04T00:24:21.386399Z",
     "start_time": "2023-05-04T00:24:14.753977Z"
    }
   },
   "outputs": [
    {
     "name": "stdout",
     "output_type": "stream",
     "text": [
      "Requirement already satisfied: psycopg2-binary in c:\\users\\jrfie\\appdata\\local\\programs\\python\\python39\\lib\\site-packages (2.9.5)\n"
     ]
    },
    {
     "name": "stderr",
     "output_type": "stream",
     "text": [
      "\n",
      "[notice] A new release of pip is available: 23.0.1 -> 23.1.2\n",
      "[notice] To update, run: python.exe -m pip install --upgrade pip\n"
     ]
    },
    {
     "name": "stdout",
     "output_type": "stream",
     "text": [
      "Requirement already satisfied: requests in c:\\users\\jrfie\\appdata\\local\\programs\\python\\python39\\lib\\site-packages (2.28.2)\n",
      "Requirement already satisfied: idna<4,>=2.5 in c:\\users\\jrfie\\appdata\\local\\programs\\python\\python39\\lib\\site-packages (from requests) (3.4)\n",
      "Requirement already satisfied: certifi>=2017.4.17 in c:\\users\\jrfie\\appdata\\local\\programs\\python\\python39\\lib\\site-packages (from requests) (2022.12.7)\n",
      "Requirement already satisfied: urllib3<1.27,>=1.21.1 in c:\\users\\jrfie\\appdata\\local\\programs\\python\\python39\\lib\\site-packages (from requests) (1.26.15)\n",
      "Requirement already satisfied: charset-normalizer<4,>=2 in c:\\users\\jrfie\\appdata\\local\\programs\\python\\python39\\lib\\site-packages (from requests) (3.1.0)\n"
     ]
    },
    {
     "name": "stderr",
     "output_type": "stream",
     "text": [
      "\n",
      "[notice] A new release of pip is available: 23.0.1 -> 23.1.2\n",
      "[notice] To update, run: python.exe -m pip install --upgrade pip\n"
     ]
    },
    {
     "name": "stdout",
     "output_type": "stream",
     "text": [
      "Requirement already satisfied: sqlalchemy in c:\\users\\jrfie\\appdata\\local\\programs\\python\\python39\\lib\\site-packages (2.0.12)\n",
      "Requirement already satisfied: greenlet!=0.4.17 in c:\\users\\jrfie\\appdata\\local\\programs\\python\\python39\\lib\\site-packages (from sqlalchemy) (2.0.2)\n",
      "Requirement already satisfied: typing-extensions>=4.2.0 in c:\\users\\jrfie\\appdata\\local\\programs\\python\\python39\\lib\\site-packages (from sqlalchemy) (4.5.0)\n"
     ]
    },
    {
     "name": "stderr",
     "output_type": "stream",
     "text": [
      "\n",
      "[notice] A new release of pip is available: 23.0.1 -> 23.1.2\n",
      "[notice] To update, run: python.exe -m pip install --upgrade pip\n"
     ]
    },
    {
     "name": "stdout",
     "output_type": "stream",
     "text": [
      "Requirement already satisfied: dask in c:\\users\\jrfie\\appdata\\local\\programs\\python\\python39\\lib\\site-packages (2023.4.1)\n",
      "Requirement already satisfied: partd>=1.2.0 in c:\\users\\jrfie\\appdata\\local\\programs\\python\\python39\\lib\\site-packages (from dask) (1.4.0)\n",
      "Requirement already satisfied: click>=8.0 in c:\\users\\jrfie\\appdata\\local\\programs\\python\\python39\\lib\\site-packages (from dask) (8.1.3)\n",
      "Requirement already satisfied: fsspec>=2021.09.0 in c:\\users\\jrfie\\appdata\\local\\programs\\python\\python39\\lib\\site-packages (from dask) (2023.4.0)\n",
      "Requirement already satisfied: toolz>=0.10.0 in c:\\users\\jrfie\\appdata\\local\\programs\\python\\python39\\lib\\site-packages (from dask) (0.12.0)\n",
      "Requirement already satisfied: cloudpickle>=1.5.0 in c:\\users\\jrfie\\appdata\\local\\programs\\python\\python39\\lib\\site-packages (from dask) (2.2.1)\n",
      "Requirement already satisfied: pyyaml>=5.3.1 in c:\\users\\jrfie\\appdata\\local\\programs\\python\\python39\\lib\\site-packages (from dask) (6.0)\n",
      "Requirement already satisfied: packaging>=20.0 in c:\\users\\jrfie\\appdata\\local\\programs\\python\\python39\\lib\\site-packages (from dask) (21.3)\n",
      "Requirement already satisfied: importlib-metadata>=4.13.0 in c:\\users\\jrfie\\appdata\\roaming\\python\\python39\\site-packages (from dask) (6.0.0)\n",
      "Requirement already satisfied: colorama in c:\\users\\jrfie\\appdata\\roaming\\python\\python39\\site-packages (from click>=8.0->dask) (0.4.6)\n",
      "Requirement already satisfied: zipp>=0.5 in c:\\users\\jrfie\\appdata\\roaming\\python\\python39\\site-packages (from importlib-metadata>=4.13.0->dask) (3.15.0)\n",
      "Requirement already satisfied: pyparsing!=3.0.5,>=2.0.2 in c:\\users\\jrfie\\appdata\\local\\programs\\python\\python39\\lib\\site-packages (from packaging>=20.0->dask) (3.0.9)\n",
      "Requirement already satisfied: locket in c:\\users\\jrfie\\appdata\\local\\programs\\python\\python39\\lib\\site-packages (from partd>=1.2.0->dask) (1.0.0)\n"
     ]
    },
    {
     "name": "stderr",
     "output_type": "stream",
     "text": [
      "\n",
      "[notice] A new release of pip is available: 23.0.1 -> 23.1.2\n",
      "[notice] To update, run: python.exe -m pip install --upgrade pip\n"
     ]
    }
   ],
   "source": [
    "# Install libraries\n",
    "!pip install psycopg2-binary\n",
    "!pip install requests\n",
    "!pip install sqlalchemy --upgrade\n",
    "!pip install dask --upgrade"
   ]
  },
  {
   "attachments": {},
   "cell_type": "markdown",
   "id": "439aaac7",
   "metadata": {},
   "source": [
    "## Load data and analytics using Dask"
   ]
  },
  {
   "cell_type": "code",
   "execution_count": 13,
   "id": "eee1a3c0",
   "metadata": {
    "ExecuteTime": {
     "end_time": "2023-05-04T23:27:52.399630Z",
     "start_time": "2023-05-04T23:27:45.478713Z"
    }
   },
   "outputs": [],
   "source": [
    "import os\n",
    "import dask.dataframe as dd\n",
    "from api_query import api_query_call\n",
    "\n",
    "df = api_query_call(\"SELECT * FROM uniswap_table\")\n"
   ]
  },
  {
   "cell_type": "code",
   "execution_count": 11,
   "id": "2e7b5ff3",
   "metadata": {
    "ExecuteTime": {
     "end_time": "2023-05-04T23:28:09.065357Z",
     "start_time": "2023-05-04T23:28:09.042465Z"
    }
   },
   "outputs": [
    {
     "data": {
      "text/html": [
       "<div>\n",
       "<style scoped>\n",
       "    .dataframe tbody tr th:only-of-type {\n",
       "        vertical-align: middle;\n",
       "    }\n",
       "\n",
       "    .dataframe tbody tr th {\n",
       "        vertical-align: top;\n",
       "    }\n",
       "\n",
       "    .dataframe thead th {\n",
       "        text-align: right;\n",
       "    }\n",
       "</style>\n",
       "<table border=\"1\" class=\"dataframe\">\n",
       "  <thead>\n",
       "    <tr style=\"text-align: right;\">\n",
       "      <th></th>\n",
       "      <th>block_timestamp_time</th>\n",
       "      <th>transaction_to_address</th>\n",
       "      <th>transaction_txfrom_address</th>\n",
       "      <th>close_price</th>\n",
       "      <th>basecurrency_symbol</th>\n",
       "      <th>quotecurrency_symbol</th>\n",
       "    </tr>\n",
       "  </thead>\n",
       "  <tbody>\n",
       "    <tr>\n",
       "      <th>0</th>\n",
       "      <td>2023-05-04 19:19:11</td>\n",
       "      <td>0x24902aa0cf0000a08c0ea0b003b0c0bf600000e0</td>\n",
       "      <td>0xd7e1236c08731c3632519dcd1a581bfe6876a3b2</td>\n",
       "      <td>30531.225998786256</td>\n",
       "      <td>ETH</td>\n",
       "      <td>HEX</td>\n",
       "    </tr>\n",
       "    <tr>\n",
       "      <th>1</th>\n",
       "      <td>2023-05-04 19:19:11</td>\n",
       "      <td>0x24902aa0cf0000a08c0ea0b003b0c0bf600000e0</td>\n",
       "      <td>0xd7e1236c08731c3632519dcd1a581bfe6876a3b2</td>\n",
       "      <td>0.0000327533522577755</td>\n",
       "      <td>HEX</td>\n",
       "      <td>ETH</td>\n",
       "    </tr>\n",
       "    <tr>\n",
       "      <th>2</th>\n",
       "      <td>2023-05-04 18:53:23</td>\n",
       "      <td>0x0000000000007f150bd6f54c40a34d7c3d5e9f56</td>\n",
       "      <td>0xc11099d3cd9686158db0a40e88267e7b1740958c</td>\n",
       "      <td>0.0005315458950839691</td>\n",
       "      <td>DAI</td>\n",
       "      <td>ETH</td>\n",
       "    </tr>\n",
       "    <tr>\n",
       "      <th>3</th>\n",
       "      <td>2023-05-04 18:53:23</td>\n",
       "      <td>0x0000000000007f150bd6f54c40a34d7c3d5e9f56</td>\n",
       "      <td>0xc11099d3cd9686158db0a40e88267e7b1740958c</td>\n",
       "      <td>1881.3050937812784</td>\n",
       "      <td>ETH</td>\n",
       "      <td>DAI</td>\n",
       "    </tr>\n",
       "    <tr>\n",
       "      <th>4</th>\n",
       "      <td>2023-05-04 17:24:59</td>\n",
       "      <td>0x24902aa0cf0000a08c0ea0b003b0c0bf600000e0</td>\n",
       "      <td>0xd7e1236c08731c3632519dcd1a581bfe6876a3b2</td>\n",
       "      <td>1882.5397559820076</td>\n",
       "      <td>ETH</td>\n",
       "      <td>USDC</td>\n",
       "    </tr>\n",
       "  </tbody>\n",
       "</table>\n",
       "</div>"
      ],
      "text/plain": [
       "  block_timestamp_time                      transaction_to_address  \\\n",
       "0  2023-05-04 19:19:11  0x24902aa0cf0000a08c0ea0b003b0c0bf600000e0   \n",
       "1  2023-05-04 19:19:11  0x24902aa0cf0000a08c0ea0b003b0c0bf600000e0   \n",
       "2  2023-05-04 18:53:23  0x0000000000007f150bd6f54c40a34d7c3d5e9f56   \n",
       "3  2023-05-04 18:53:23  0x0000000000007f150bd6f54c40a34d7c3d5e9f56   \n",
       "4  2023-05-04 17:24:59  0x24902aa0cf0000a08c0ea0b003b0c0bf600000e0   \n",
       "\n",
       "                   transaction_txfrom_address            close_price  \\\n",
       "0  0xd7e1236c08731c3632519dcd1a581bfe6876a3b2     30531.225998786256   \n",
       "1  0xd7e1236c08731c3632519dcd1a581bfe6876a3b2  0.0000327533522577755   \n",
       "2  0xc11099d3cd9686158db0a40e88267e7b1740958c  0.0005315458950839691   \n",
       "3  0xc11099d3cd9686158db0a40e88267e7b1740958c     1881.3050937812784   \n",
       "4  0xd7e1236c08731c3632519dcd1a581bfe6876a3b2     1882.5397559820076   \n",
       "\n",
       "  basecurrency_symbol quotecurrency_symbol  \n",
       "0                 ETH                  HEX  \n",
       "1                 HEX                  ETH  \n",
       "2                 DAI                  ETH  \n",
       "3                 ETH                  DAI  \n",
       "4                 ETH                 USDC  "
      ]
     },
     "execution_count": 11,
     "metadata": {},
     "output_type": "execute_result"
    }
   ],
   "source": [
    "# Trim dataframe\n",
    "df = df[[\"block_timestamp_time\",\"transaction_to_address\",\"transaction_txfrom_address\",\"close_price\",\"basecurrency_symbol\" \\\n",
    "        ,\"quotecurrency_symbol\"]]\n",
    "\n",
    "df[0:10].head()"
   ]
  },
  {
   "cell_type": "code",
   "execution_count": 12,
   "id": "4cb08685",
   "metadata": {
    "ExecuteTime": {
     "end_time": "2023-05-04T23:31:09.220463Z",
     "start_time": "2023-05-04T23:31:09.198830Z"
    }
   },
   "outputs": [
    {
     "data": {
      "text/html": [
       "<div>\n",
       "<style scoped>\n",
       "    .dataframe tbody tr th:only-of-type {\n",
       "        vertical-align: middle;\n",
       "    }\n",
       "\n",
       "    .dataframe tbody tr th {\n",
       "        vertical-align: top;\n",
       "    }\n",
       "\n",
       "    .dataframe thead th {\n",
       "        text-align: right;\n",
       "    }\n",
       "</style>\n",
       "<table border=\"1\" class=\"dataframe\">\n",
       "  <thead>\n",
       "    <tr style=\"text-align: right;\">\n",
       "      <th></th>\n",
       "      <th>block_timestamp_time</th>\n",
       "      <th>transaction_to_address</th>\n",
       "      <th>transaction_txfrom_address</th>\n",
       "      <th>close_price</th>\n",
       "      <th>basecurrency_symbol</th>\n",
       "      <th>quotecurrency_symbol</th>\n",
       "    </tr>\n",
       "  </thead>\n",
       "  <tbody>\n",
       "    <tr>\n",
       "      <th>5</th>\n",
       "      <td>2023-05-04 17:24:59</td>\n",
       "      <td>0x24902aa0cf0000a08c0ea0b003b0c0bf600000e0</td>\n",
       "      <td>0xd7e1236c08731c3632519dcd1a581bfe6876a3b2</td>\n",
       "      <td>0.0005311972811317125</td>\n",
       "      <td>USDC</td>\n",
       "      <td>ETH</td>\n",
       "    </tr>\n",
       "    <tr>\n",
       "      <th>17</th>\n",
       "      <td>2023-05-04 16:14:59</td>\n",
       "      <td>0xa88800cd213da5ae406ce248380802bd53b47647</td>\n",
       "      <td>0x9108813f22637385228a1c621c1904bbbc50dc25</td>\n",
       "      <td>0.0005344938794312031</td>\n",
       "      <td>USDC</td>\n",
       "      <td>ETH</td>\n",
       "    </tr>\n",
       "    <tr>\n",
       "      <th>23</th>\n",
       "      <td>2023-05-04 13:42:11</td>\n",
       "      <td>0xdef1c0ded9bec7f1a1670819833240f027b25eff</td>\n",
       "      <td>0x4432e64624f4c64633466655de3d5132ad407343</td>\n",
       "      <td>0.000529984844454519</td>\n",
       "      <td>USDC</td>\n",
       "      <td>ETH</td>\n",
       "    </tr>\n",
       "    <tr>\n",
       "      <th>42</th>\n",
       "      <td>2023-05-04 00:24:47</td>\n",
       "      <td>0xe4000004000bd8006e00720000d27d1fa000d43e</td>\n",
       "      <td>0x524cfae2daab901234c842f3a17235902b0f01f9</td>\n",
       "      <td>0.0005252414200862029</td>\n",
       "      <td>USDC</td>\n",
       "      <td>ETH</td>\n",
       "    </tr>\n",
       "    <tr>\n",
       "      <th>47</th>\n",
       "      <td>2023-05-03 22:39:47</td>\n",
       "      <td>0x0000000000a84d1a9b0063a910315c7ffa9cd248</td>\n",
       "      <td>0x5e3d1448a0365c3b1cd08908d410bfccca449c45</td>\n",
       "      <td>0.0005249748063127298</td>\n",
       "      <td>USDC</td>\n",
       "      <td>ETH</td>\n",
       "    </tr>\n",
       "  </tbody>\n",
       "</table>\n",
       "</div>"
      ],
      "text/plain": [
       "   block_timestamp_time                      transaction_to_address  \\\n",
       "5   2023-05-04 17:24:59  0x24902aa0cf0000a08c0ea0b003b0c0bf600000e0   \n",
       "17  2023-05-04 16:14:59  0xa88800cd213da5ae406ce248380802bd53b47647   \n",
       "23  2023-05-04 13:42:11  0xdef1c0ded9bec7f1a1670819833240f027b25eff   \n",
       "42  2023-05-04 00:24:47  0xe4000004000bd8006e00720000d27d1fa000d43e   \n",
       "47  2023-05-03 22:39:47  0x0000000000a84d1a9b0063a910315c7ffa9cd248   \n",
       "\n",
       "                    transaction_txfrom_address            close_price  \\\n",
       "5   0xd7e1236c08731c3632519dcd1a581bfe6876a3b2  0.0005311972811317125   \n",
       "17  0x9108813f22637385228a1c621c1904bbbc50dc25  0.0005344938794312031   \n",
       "23  0x4432e64624f4c64633466655de3d5132ad407343   0.000529984844454519   \n",
       "42  0x524cfae2daab901234c842f3a17235902b0f01f9  0.0005252414200862029   \n",
       "47  0x5e3d1448a0365c3b1cd08908d410bfccca449c45  0.0005249748063127298   \n",
       "\n",
       "   basecurrency_symbol quotecurrency_symbol  \n",
       "5                 USDC                  ETH  \n",
       "17                USDC                  ETH  \n",
       "23                USDC                  ETH  \n",
       "42                USDC                  ETH  \n",
       "47                USDC                  ETH  "
      ]
     },
     "execution_count": 12,
     "metadata": {},
     "output_type": "execute_result"
    }
   ],
   "source": [
    "# Select only the rows where basecurrency is USDC\n",
    "USDC_Transactions = df[df['basecurrency_symbol'] == 'USDC']\n",
    "USDC_Transactions.head()"
   ]
  },
  {
   "cell_type": "code",
   "execution_count": 8,
   "id": "cd4cac90",
   "metadata": {
    "ExecuteTime": {
     "end_time": "2023-05-04T23:14:23.283844Z",
     "start_time": "2023-05-04T23:14:23.269545Z"
    }
   },
   "outputs": [
    {
     "name": "stdout",
     "output_type": "stream",
     "text": [
      "0x24902aa0cf0000a08c0ea0b003b0c0bf600000e0    142\n",
      "0xd7e1236c08731c3632519dcd1a581bfe6876a3b2    128\n",
      "0xdef1c0ded9bec7f1a1670819833240f027b25eff    116\n",
      "0x0eae044f00b0af300500f090ea00027097d03000     76\n",
      "0x0000000000007f150bd6f54c40a34d7c3d5e9f56     66\n",
      "                                             ... \n",
      "0xa2a372fabda69b660295574f121fa83c388d476a      2\n",
      "0x54b0bf5f9ae860e130413a2d6c5f9ddbef8f0e5c      2\n",
      "0x991be4464807af4b20a1159a3445ac5dbd5674ca      2\n",
      "0xd63fd5eb9d485fd5352343bea816ccc74b4f7323      2\n",
      "0xc6c7565644ea1893ad29182f7b6961aab7edfed0      2\n",
      "Length: 242, dtype: int64\n"
     ]
    }
   ],
   "source": [
    "# We can see the highest trading wallets\n",
    "counts = df[['transaction_to_address', 'transaction_txfrom_address']].stack().value_counts()\n",
    "\n",
    "# Print the wallet with the highest transactions\n",
    "print(counts)\n",
    "\n"
   ]
  },
  {
   "cell_type": "code",
   "execution_count": 25,
   "id": "ce16d6bb",
   "metadata": {
    "ExecuteTime": {
     "end_time": "2023-05-04T23:21:13.925931Z",
     "start_time": "2023-05-04T23:21:13.914146Z"
    }
   },
   "outputs": [
    {
     "name": "stdout",
     "output_type": "stream",
     "text": [
      "   tradeindex block_timestamp_time  block_height exchange_fullname protocol  \\\n",
      "0          15  2023-05-03 22:39:47      17183209           Uniswap  Uniswap   \n",
      "1          15  2023-05-03 22:39:47      17183209           Uniswap  Uniswap   \n",
      "2          11  2023-05-03 22:35:35      17183188           Uniswap  Uniswap   \n",
      "3          11  2023-05-03 22:35:35      17183188           Uniswap  Uniswap   \n",
      "4          10  2023-05-03 22:35:35      17183188           Uniswap  Uniswap   \n",
      "\n",
      "  timeinterval_minute  \n",
      "0 2023-05-03 22:39:00  \n",
      "1 2023-05-03 22:39:00  \n",
      "2 2023-05-03 22:35:00  \n",
      "3 2023-05-03 22:35:00  \n",
      "4 2023-05-03 22:35:00  \n"
     ]
    }
   ],
   "source": [
    "# Group the rows by object and sum up the cost\n",
    "subset = df.iloc[:, :6]\n",
    "print(subset.head())"
   ]
  },
  {
   "cell_type": "code",
   "execution_count": 23,
   "id": "12edf4a6",
   "metadata": {
    "ExecuteTime": {
     "end_time": "2023-05-04T23:19:27.275218Z",
     "start_time": "2023-05-04T23:19:27.261885Z"
    }
   },
   "outputs": [
    {
     "name": "stdout",
     "output_type": "stream",
     "text": [
      "           baseamount         quoteamount  trades               quoteprice  \\\n",
      "0   2597.662901948303   2610.064734550981       1       1904.8533148165884   \n",
      "1   2610.064734550981   2597.662901948303       1    0.0005249748063127298   \n",
      "2  251.06246686521044  250.03942847251892       1       1888.0772403321316   \n",
      "3  250.03942847251892  251.06246686521044       1    0.0005296393487716053   \n",
      "4   252.8014772247965  251.06246686521044       1  0.000031954331131291345   \n",
      "\n",
      "             maximum_price            minimum_price               open_price  \\\n",
      "0       1904.8533148165884       1904.8533148165884       1904.8533148165884   \n",
      "1    0.0005249748063127298    0.0005249748063127298    0.0005249748063127298   \n",
      "2       1888.0772403321316       1888.0772403321316       1888.0772403321316   \n",
      "3    0.0005296393487716053    0.0005296393487716053    0.0005296393487716053   \n",
      "4  0.000031954331131291345  0.000031954331131291345  0.000031954331131291345   \n",
      "\n",
      "               close_price basecurrency_symbol  \n",
      "0       1904.8533148165884                 ETH  \n",
      "1    0.0005249748063127298                USDC  \n",
      "2       1888.0772403321316                 ETH  \n",
      "3    0.0005296393487716053                USDC  \n",
      "4  0.000031954331131291345                 HEX  \n"
     ]
    }
   ],
   "source": [
    "# Group the rows by object and sum up the cost\n",
    "import os\n",
    "import dask.dataframe as dd"
   ]
  },
  {
   "cell_type": "code",
   "execution_count": 4,
   "id": "c8dd2f79",
   "metadata": {
    "ExecuteTime": {
     "end_time": "2023-05-04T23:20:25.893093Z",
     "start_time": "2023-05-04T23:20:25.882067Z"
    }
   },
   "outputs": [],
   "source": [
    "\n",
    "from api_query import api_query_call\n",
    "import pandas as pd\n",
    "\n",
    "import dask.dataframe as dd\n",
    "\n",
    "# Load dataframe from uniswap_table\n",
    "query = \"SELECT * FROM uniswap_table\"\n",
    "df_pandas = api_query_call(query)\n",
    "\n",
    "# Clear previous query_results\n",
    "# api_query_call(\"DROP TABLE query_calc\")\n",
    "\n",
    "# Use DASK to partition pandas dataframe for faster processing\n",
    "df = dd.from_pandas(df_pandas, npartitions=10)  \n",
    "\n",
    "# We can see the highest trading wallets\n",
    "counts = df['transaction_to_address'].value_counts()\n",
    "pandas_frame = counts.compute().to_frame(name=\"high_trader\")\n"
   ]
  }
 ],
 "metadata": {
  "celltoolbar": "Tags",
  "kernelspec": {
   "display_name": "Python 3 (ipykernel)",
   "language": "python",
   "name": "python3"
  },
  "language_info": {
   "codemirror_mode": {
    "name": "ipython",
    "version": 3
   },
   "file_extension": ".py",
   "mimetype": "text/x-python",
   "name": "python",
   "nbconvert_exporter": "python",
   "pygments_lexer": "ipython3",
   "version": "3.9.7"
  },
  "toc": {
   "base_numbering": 1,
   "nav_menu": {},
   "number_sections": true,
   "sideBar": true,
   "skip_h1_title": false,
   "title_cell": "Table of Contents",
   "title_sidebar": "Contents",
   "toc_cell": false,
   "toc_position": {},
   "toc_section_display": true,
   "toc_window_display": false
  }
 },
 "nbformat": 4,
 "nbformat_minor": 5
}
