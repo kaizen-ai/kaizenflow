{
 "cells": [
  {
   "cell_type": "markdown",
   "id": "5d3c9d92",
   "metadata": {},
   "source": [
    "# Loading most recent data from postgres table"
   ]
  },
  {
   "cell_type": "markdown",
   "id": "1f0c9f30",
   "metadata": {},
   "source": [
    "## Installing needed packages and connections"
   ]
  },
  {
   "cell_type": "code",
   "execution_count": 1,
   "id": "c6bc8574",
   "metadata": {
    "ExecuteTime": {
     "end_time": "2023-05-11T20:11:39.707261Z",
     "start_time": "2023-05-11T20:11:32.831404Z"
    }
   },
   "outputs": [
    {
     "name": "stdout",
     "output_type": "stream",
     "text": [
      "Collecting psycopg2-binary\n",
      "  Downloading psycopg2_binary-2.9.6-cp310-cp310-manylinux_2_17_x86_64.manylinux2014_x86_64.whl (3.0 MB)\n",
      "\u001b[2K     \u001b[90m━━━━━━━━━━━━━━━━━━━━━━━━━━━━━━━━━━━━━━━━\u001b[0m \u001b[32m3.0/3.0 MB\u001b[0m \u001b[31m28.0 MB/s\u001b[0m eta \u001b[36m0:00:00\u001b[0m00:01\u001b[0m00:01\u001b[0m\n",
      "\u001b[?25hInstalling collected packages: psycopg2-binary\n",
      "Successfully installed psycopg2-binary-2.9.6\n",
      "\u001b[33mWARNING: Running pip as the 'root' user can result in broken permissions and conflicting behaviour with the system package manager. It is recommended to use a virtual environment instead: https://pip.pypa.io/warnings/venv\u001b[0m\u001b[33m\n",
      "\u001b[0mCollecting requests\n",
      "  Downloading requests-2.30.0-py3-none-any.whl (62 kB)\n",
      "\u001b[2K     \u001b[90m━━━━━━━━━━━━━━━━━━━━━━━━━━━━━━━━━━━━━━━━\u001b[0m \u001b[32m62.5/62.5 KB\u001b[0m \u001b[31m3.3 MB/s\u001b[0m eta \u001b[36m0:00:00\u001b[0m\n",
      "\u001b[?25hCollecting certifi>=2017.4.17\n",
      "  Downloading certifi-2023.5.7-py3-none-any.whl (156 kB)\n",
      "\u001b[2K     \u001b[90m━━━━━━━━━━━━━━━━━━━━━━━━━━━━━━━━━━━━━━\u001b[0m \u001b[32m157.0/157.0 KB\u001b[0m \u001b[31m10.2 MB/s\u001b[0m eta \u001b[36m0:00:00\u001b[0m\n",
      "\u001b[?25hRequirement already satisfied: idna<4,>=2.5 in /usr/local/lib/python3.10/dist-packages (from requests) (3.4)\n",
      "Requirement already satisfied: urllib3<3,>=1.21.1 in /usr/local/lib/python3.10/dist-packages (from requests) (1.26.14)\n",
      "Collecting charset-normalizer<4,>=2\n",
      "  Downloading charset_normalizer-3.1.0-cp310-cp310-manylinux_2_17_x86_64.manylinux2014_x86_64.whl (199 kB)\n",
      "\u001b[2K     \u001b[90m━━━━━━━━━━━━━━━━━━━━━━━━━━━━━━━━━━━━━━\u001b[0m \u001b[32m199.3/199.3 KB\u001b[0m \u001b[31m18.2 MB/s\u001b[0m eta \u001b[36m0:00:00\u001b[0m\n",
      "\u001b[?25hInstalling collected packages: charset-normalizer, certifi, requests\n",
      "Successfully installed certifi-2023.5.7 charset-normalizer-3.1.0 requests-2.30.0\n",
      "\u001b[33mWARNING: Running pip as the 'root' user can result in broken permissions and conflicting behaviour with the system package manager. It is recommended to use a virtual environment instead: https://pip.pypa.io/warnings/venv\u001b[0m\u001b[33m\n",
      "\u001b[0mCollecting sqlalchemy\n",
      "  Downloading SQLAlchemy-2.0.13-cp310-cp310-manylinux_2_17_x86_64.manylinux2014_x86_64.whl (2.7 MB)\n",
      "\u001b[2K     \u001b[90m━━━━━━━━━━━━━━━━━━━━━━━━━━━━━━━━━━━━━━━━\u001b[0m \u001b[32m2.7/2.7 MB\u001b[0m \u001b[31m27.3 MB/s\u001b[0m eta \u001b[36m0:00:00\u001b[0m00:01\u001b[0m00:01\u001b[0m\n",
      "\u001b[?25hCollecting greenlet!=0.4.17\n",
      "  Downloading greenlet-2.0.2-cp310-cp310-manylinux_2_17_x86_64.manylinux2014_x86_64.whl (613 kB)\n",
      "\u001b[2K     \u001b[90m━━━━━━━━━━━━━━━━━━━━━━━━━━━━━━━━━━━━━━\u001b[0m \u001b[32m613.7/613.7 KB\u001b[0m \u001b[31m25.1 MB/s\u001b[0m eta \u001b[36m0:00:00\u001b[0m\n",
      "\u001b[?25hRequirement already satisfied: typing-extensions>=4.2.0 in /usr/local/lib/python3.10/dist-packages (from sqlalchemy) (4.5.0)\n",
      "Installing collected packages: greenlet, sqlalchemy\n",
      "Successfully installed greenlet-2.0.2 sqlalchemy-2.0.13\n",
      "\u001b[33mWARNING: Running pip as the 'root' user can result in broken permissions and conflicting behaviour with the system package manager. It is recommended to use a virtual environment instead: https://pip.pypa.io/warnings/venv\u001b[0m\u001b[33m\n",
      "\u001b[0mRequirement already satisfied: dask in /usr/local/lib/python3.10/dist-packages (2023.2.0)\n",
      "Collecting dask\n",
      "  Downloading dask-2023.4.1-py3-none-any.whl (1.2 MB)\n",
      "\u001b[2K     \u001b[90m━━━━━━━━━━━━━━━━━━━━━━━━━━━━━━━━━━━━━━━━\u001b[0m \u001b[32m1.2/1.2 MB\u001b[0m \u001b[31m17.4 MB/s\u001b[0m eta \u001b[36m0:00:00\u001b[0ma \u001b[36m0:00:01\u001b[0m\n",
      "\u001b[?25hRequirement already satisfied: toolz>=0.10.0 in /usr/local/lib/python3.10/dist-packages (from dask) (0.12.0)\n",
      "Collecting importlib-metadata>=4.13.0\n",
      "  Downloading importlib_metadata-6.6.0-py3-none-any.whl (22 kB)\n",
      "Requirement already satisfied: pyyaml>=5.3.1 in /usr/local/lib/python3.10/dist-packages (from dask) (6.0)\n",
      "Requirement already satisfied: cloudpickle>=1.5.0 in /usr/local/lib/python3.10/dist-packages (from dask) (2.2.1)\n",
      "Requirement already satisfied: click>=8.0 in /usr/local/lib/python3.10/dist-packages (from dask) (8.1.3)\n",
      "Requirement already satisfied: partd>=1.2.0 in /usr/local/lib/python3.10/dist-packages (from dask) (1.3.0)\n",
      "Requirement already satisfied: fsspec>=2021.09.0 in /usr/local/lib/python3.10/dist-packages (from dask) (2023.1.0)\n",
      "Requirement already satisfied: packaging>=20.0 in /usr/local/lib/python3.10/dist-packages (from dask) (23.0)\n",
      "Collecting zipp>=0.5\n",
      "  Downloading zipp-3.15.0-py3-none-any.whl (6.8 kB)\n",
      "Requirement already satisfied: locket in /usr/local/lib/python3.10/dist-packages (from partd>=1.2.0->dask) (1.0.0)\n",
      "Installing collected packages: zipp, importlib-metadata, dask\n",
      "  Attempting uninstall: dask\n",
      "    Found existing installation: dask 2023.2.0\n",
      "    Uninstalling dask-2023.2.0:\n",
      "      Successfully uninstalled dask-2023.2.0\n",
      "\u001b[31mERROR: pip's dependency resolver does not currently take into account all the packages that are installed. This behaviour is the source of the following dependency conflicts.\n",
      "distributed 2023.2.0 requires dask==2023.2.0, but you have dask 2023.4.1 which is incompatible.\u001b[0m\u001b[31m\n",
      "\u001b[0mSuccessfully installed dask-2023.4.1 importlib-metadata-6.6.0 zipp-3.15.0\n",
      "\u001b[33mWARNING: Running pip as the 'root' user can result in broken permissions and conflicting behaviour with the system package manager. It is recommended to use a virtual environment instead: https://pip.pypa.io/warnings/venv\u001b[0m\u001b[33m\n",
      "\u001b[0m"
     ]
    }
   ],
   "source": [
    "# Install libraries\n",
    "!pip install psycopg2-binary\n",
    "!pip install requests\n",
    "!pip install sqlalchemy --upgrade\n",
    "!pip install dask --upgrade"
   ]
  },
  {
   "cell_type": "markdown",
   "id": "439aaac7",
   "metadata": {},
   "source": [
    "## Load data and analytics using Dask"
   ]
  },
  {
   "cell_type": "code",
   "execution_count": 3,
   "id": "eee1a3c0",
   "metadata": {
    "ExecuteTime": {
     "end_time": "2023-05-09T03:17:36.080387Z",
     "start_time": "2023-05-09T03:17:35.952198Z"
    }
   },
   "outputs": [],
   "source": [
    "import os\n",
    "import dask.dataframe as dd\n",
    "from api_query import api_query_call\n",
    "\n",
    "df_pandas = api_query_call(\"SELECT * FROM uniswap_table\")\n"
   ]
  },
  {
   "cell_type": "code",
   "execution_count": 4,
   "id": "6ce2a503",
   "metadata": {
    "ExecuteTime": {
     "end_time": "2023-05-09T03:17:38.970110Z",
     "start_time": "2023-05-09T03:17:38.842518Z"
    }
   },
   "outputs": [
    {
     "data": {
      "text/html": [
       "<div>\n",
       "<style scoped>\n",
       "    .dataframe tbody tr th:only-of-type {\n",
       "        vertical-align: middle;\n",
       "    }\n",
       "\n",
       "    .dataframe tbody tr th {\n",
       "        vertical-align: top;\n",
       "    }\n",
       "\n",
       "    .dataframe thead th {\n",
       "        text-align: right;\n",
       "    }\n",
       "</style>\n",
       "<table border=\"1\" class=\"dataframe\">\n",
       "  <thead>\n",
       "    <tr style=\"text-align: right;\">\n",
       "      <th></th>\n",
       "      <th>tradeindex</th>\n",
       "      <th>block_timestamp_time</th>\n",
       "      <th>block_height</th>\n",
       "      <th>exchange_fullname</th>\n",
       "      <th>timeinterval_minute</th>\n",
       "      <th>trades</th>\n",
       "      <th>buyamount</th>\n",
       "      <th>sellamount</th>\n",
       "      <th>tradeamount</th>\n",
       "      <th>basecurrency_symbol</th>\n",
       "      <th>quotecurrency_symbol</th>\n",
       "      <th>transaction_hash</th>\n",
       "      <th>transaction_gas</th>\n",
       "      <th>transaction_to_address</th>\n",
       "      <th>transaction_txfrom_address</th>\n",
       "    </tr>\n",
       "  </thead>\n",
       "  <tbody>\n",
       "    <tr>\n",
       "      <th>0</th>\n",
       "      <td>6</td>\n",
       "      <td>2023-05-09 01:30:59</td>\n",
       "      <td>17219643</td>\n",
       "      <td>Uniswap</td>\n",
       "      <td>2023-05-09 01:30:00</td>\n",
       "      <td>1</td>\n",
       "      <td>112.27823506391793</td>\n",
       "      <td>126.45409443151638</td>\n",
       "      <td>112.27823506391793</td>\n",
       "      <td>ETH</td>\n",
       "      <td>REN</td>\n",
       "      <td>0x72760a699692e40e04a2b19b402a23cfde597a10d655...</td>\n",
       "      <td>300328</td>\n",
       "      <td>0x0eae044f00b0af300500f090ea00027097d03000</td>\n",
       "      <td>0xb543f8d66765c7074d1d77147d7e07880c96908f</td>\n",
       "    </tr>\n",
       "    <tr>\n",
       "      <th>1</th>\n",
       "      <td>6</td>\n",
       "      <td>2023-05-09 01:30:59</td>\n",
       "      <td>17219643</td>\n",
       "      <td>Uniswap</td>\n",
       "      <td>2023-05-09 01:30:00</td>\n",
       "      <td>1</td>\n",
       "      <td>112.27823506391793</td>\n",
       "      <td>126.45409443151638</td>\n",
       "      <td>112.27823506391793</td>\n",
       "      <td>REN</td>\n",
       "      <td>ETH</td>\n",
       "      <td>0x72760a699692e40e04a2b19b402a23cfde597a10d655...</td>\n",
       "      <td>300328</td>\n",
       "      <td>0x0eae044f00b0af300500f090ea00027097d03000</td>\n",
       "      <td>0xb543f8d66765c7074d1d77147d7e07880c96908f</td>\n",
       "    </tr>\n",
       "    <tr>\n",
       "      <th>2</th>\n",
       "      <td>22</td>\n",
       "      <td>2023-05-09 00:36:47</td>\n",
       "      <td>17219375</td>\n",
       "      <td>Uniswap</td>\n",
       "      <td>2023-05-09 00:36:00</td>\n",
       "      <td>1</td>\n",
       "      <td>0.0</td>\n",
       "      <td>252.77523224204333</td>\n",
       "      <td>252.77523224204333</td>\n",
       "      <td>ETH</td>\n",
       "      <td>BLT</td>\n",
       "      <td>0x5d60174afa5297406dcf76b78e2c3d901592a9aefa1d...</td>\n",
       "      <td>707931</td>\n",
       "      <td>0x0ef8b4525c69bfa7bdece3ab09f95bbf0944b783</td>\n",
       "      <td>0x25173f370af28592354098a18e583f8eaa7ab264</td>\n",
       "    </tr>\n",
       "    <tr>\n",
       "      <th>3</th>\n",
       "      <td>22</td>\n",
       "      <td>2023-05-09 00:36:47</td>\n",
       "      <td>17219375</td>\n",
       "      <td>Uniswap</td>\n",
       "      <td>2023-05-09 00:36:00</td>\n",
       "      <td>1</td>\n",
       "      <td>0.0</td>\n",
       "      <td>252.77523224204333</td>\n",
       "      <td>252.77523224204333</td>\n",
       "      <td>BLT</td>\n",
       "      <td>ETH</td>\n",
       "      <td>0x5d60174afa5297406dcf76b78e2c3d901592a9aefa1d...</td>\n",
       "      <td>707931</td>\n",
       "      <td>0x0ef8b4525c69bfa7bdece3ab09f95bbf0944b783</td>\n",
       "      <td>0x25173f370af28592354098a18e583f8eaa7ab264</td>\n",
       "    </tr>\n",
       "    <tr>\n",
       "      <th>4</th>\n",
       "      <td>6</td>\n",
       "      <td>2023-05-09 00:13:23</td>\n",
       "      <td>17219260</td>\n",
       "      <td>Uniswap</td>\n",
       "      <td>2023-05-09 00:13:00</td>\n",
       "      <td>1</td>\n",
       "      <td>326.93109400760903</td>\n",
       "      <td>283.5812411661728</td>\n",
       "      <td>283.5812411661728</td>\n",
       "      <td>GEN</td>\n",
       "      <td>ETH</td>\n",
       "      <td>0x3e8c14e18522b5d7282b27524a6c94a8806f26ab19fa...</td>\n",
       "      <td>250465</td>\n",
       "      <td>0x0b8a49d816cc709b6eadb09498030ae3416b66dc</td>\n",
       "      <td>0x2eb393fbac8aaa16047d4242033a25486e14f345</td>\n",
       "    </tr>\n",
       "  </tbody>\n",
       "</table>\n",
       "</div>"
      ],
      "text/plain": [
       "   tradeindex block_timestamp_time  block_height exchange_fullname  \\\n",
       "0           6  2023-05-09 01:30:59      17219643           Uniswap   \n",
       "1           6  2023-05-09 01:30:59      17219643           Uniswap   \n",
       "2          22  2023-05-09 00:36:47      17219375           Uniswap   \n",
       "3          22  2023-05-09 00:36:47      17219375           Uniswap   \n",
       "4           6  2023-05-09 00:13:23      17219260           Uniswap   \n",
       "\n",
       "  timeinterval_minute  trades           buyamount          sellamount  \\\n",
       "0 2023-05-09 01:30:00       1  112.27823506391793  126.45409443151638   \n",
       "1 2023-05-09 01:30:00       1  112.27823506391793  126.45409443151638   \n",
       "2 2023-05-09 00:36:00       1                 0.0  252.77523224204333   \n",
       "3 2023-05-09 00:36:00       1                 0.0  252.77523224204333   \n",
       "4 2023-05-09 00:13:00       1  326.93109400760903   283.5812411661728   \n",
       "\n",
       "          tradeamount basecurrency_symbol quotecurrency_symbol  \\\n",
       "0  112.27823506391793                 ETH                  REN   \n",
       "1  112.27823506391793                 REN                  ETH   \n",
       "2  252.77523224204333                 ETH                  BLT   \n",
       "3  252.77523224204333                 BLT                  ETH   \n",
       "4   283.5812411661728                 GEN                  ETH   \n",
       "\n",
       "                                    transaction_hash  transaction_gas  \\\n",
       "0  0x72760a699692e40e04a2b19b402a23cfde597a10d655...           300328   \n",
       "1  0x72760a699692e40e04a2b19b402a23cfde597a10d655...           300328   \n",
       "2  0x5d60174afa5297406dcf76b78e2c3d901592a9aefa1d...           707931   \n",
       "3  0x5d60174afa5297406dcf76b78e2c3d901592a9aefa1d...           707931   \n",
       "4  0x3e8c14e18522b5d7282b27524a6c94a8806f26ab19fa...           250465   \n",
       "\n",
       "                       transaction_to_address  \\\n",
       "0  0x0eae044f00b0af300500f090ea00027097d03000   \n",
       "1  0x0eae044f00b0af300500f090ea00027097d03000   \n",
       "2  0x0ef8b4525c69bfa7bdece3ab09f95bbf0944b783   \n",
       "3  0x0ef8b4525c69bfa7bdece3ab09f95bbf0944b783   \n",
       "4  0x0b8a49d816cc709b6eadb09498030ae3416b66dc   \n",
       "\n",
       "                   transaction_txfrom_address  \n",
       "0  0xb543f8d66765c7074d1d77147d7e07880c96908f  \n",
       "1  0xb543f8d66765c7074d1d77147d7e07880c96908f  \n",
       "2  0x25173f370af28592354098a18e583f8eaa7ab264  \n",
       "3  0x25173f370af28592354098a18e583f8eaa7ab264  \n",
       "4  0x2eb393fbac8aaa16047d4242033a25486e14f345  "
      ]
     },
     "execution_count": 4,
     "metadata": {},
     "output_type": "execute_result"
    }
   ],
   "source": [
    "df = dd.from_pandas(df_pandas, npartitions=10)\n",
    "df.head()"
   ]
  },
  {
   "cell_type": "code",
   "execution_count": 6,
   "id": "a8739d58",
   "metadata": {
    "ExecuteTime": {
     "end_time": "2023-05-09T03:19:10.832787Z",
     "start_time": "2023-05-09T03:19:10.732151Z"
    }
   },
   "outputs": [
    {
     "name": "stdout",
     "output_type": "stream",
     "text": [
      "        tradeindex  block_height  trades  transaction_gas\n",
      "count  1002.000000  1.002000e+03  1002.0     1.002000e+03\n",
      "mean      6.231537  1.714689e+07     1.0     2.774886e+05\n",
      "std       5.315828  3.864360e+04     0.0     2.459517e+05\n",
      "min       2.000000  1.708408e+07     1.0     5.184700e+04\n",
      "25%       3.000000  1.711956e+07     1.0     1.898490e+05\n",
      "50%       5.000000  1.713896e+07     1.0     2.476660e+05\n",
      "75%      11.000000  1.718058e+07     1.0     4.131120e+05\n",
      "max      47.000000  1.721964e+07     1.0     2.036563e+06\n"
     ]
    }
   ],
   "source": [
    "#Statistics\n",
    "sum_stats = df.describe().compute()\n",
    "print(sum_stats)"
   ]
  },
  {
   "cell_type": "code",
   "execution_count": 7,
   "id": "4e88d4a2",
   "metadata": {
    "ExecuteTime": {
     "end_time": "2023-05-09T03:19:58.547474Z",
     "start_time": "2023-05-09T03:19:58.534295Z"
    }
   },
   "outputs": [
    {
     "name": "stdout",
     "output_type": "stream",
     "text": [
      "Most common \"from\" wallet addresses:\n"
     ]
    },
    {
     "data": {
      "text/plain": [
       "0xd7e1236c08731c3632519dcd1a581bfe6876a3b2    144\n",
       "0xb543f8d66765c7074d1d77147d7e07880c96908f     64\n",
       "0xa06c3c08a19e51b33309eddfb356c33ead8517a3     34\n",
       "0x2ee36e41387f87b7e6f678a86d1e575b23b996f5     34\n",
       "0xbda27a23fb386024c495ad2f6b834cbfe829b913     20\n",
       "Name: transaction_txfrom_address, dtype: int64"
      ]
     },
     "execution_count": 7,
     "metadata": {},
     "output_type": "execute_result"
    }
   ],
   "source": [
    "print('Most common \"from\" wallet addresses:')\n",
    "df['transaction_txfrom_address'].value_counts().head()"
   ]
  },
  {
   "cell_type": "code",
   "execution_count": 74,
   "id": "e960a9ec",
   "metadata": {
    "ExecuteTime": {
     "end_time": "2023-05-08T04:40:29.629446Z",
     "start_time": "2023-05-08T04:40:29.527632Z"
    }
   },
   "outputs": [
    {
     "name": "stdout",
     "output_type": "stream",
     "text": [
      "Check that no overlaps of same wallet in to and from category:\n"
     ]
    },
    {
     "data": {
      "text/plain": [
       "0"
      ]
     },
     "execution_count": 74,
     "metadata": {},
     "output_type": "execute_result"
    }
   ],
   "source": [
    "print('Check that no overlaps of same wallet in to and from category:')\n",
    "sum(df['transaction_txfrom_address'] == df['transaction_to_address'])"
   ]
  },
  {
   "cell_type": "code",
   "execution_count": 59,
   "id": "ac216683",
   "metadata": {
    "ExecuteTime": {
     "end_time": "2023-05-08T04:30:21.943045Z",
     "start_time": "2023-05-08T04:30:21.834310Z"
    }
   },
   "outputs": [
    {
     "name": "stdout",
     "output_type": "stream",
     "text": [
      "0x24902aa0cf0000a08c0ea0b003b0c0bf600000e0    164\n",
      "0xdef1c0ded9bec7f1a1670819833240f027b25eff    128\n",
      "0x0eae044f00b0af300500f090ea00027097d03000     86\n",
      "0x0000000000007f150bd6f54c40a34d7c3d5e9f56     76\n",
      "0x0000000000a84d1a9b0063a910315c7ffa9cd248     76\n",
      "0xe66b31678d6c16e9ebf358268a790b763c133750     70\n",
      "0x1111111254eeb25477b68fb85ed929f73a960582     46\n",
      "0x76f4eed9fe41262669d0250b2a97db79712ad855     46\n",
      "0xe4000004000bd8006e00720000d27d1fa000d43e     42\n",
      "0x881d40237659c251811cec9c364ef91dc08d300c     36\n",
      "Name: transaction_to_address, dtype: int64\n"
     ]
    }
   ],
   "source": [
    "# top transactions and addresses\n",
    "counts_address = df['transaction_to_address'].value_counts()\n",
    "\n",
    "print(counts_address.compute()[:10])"
   ]
  },
  {
   "cell_type": "code",
   "execution_count": 75,
   "id": "4cb08685",
   "metadata": {
    "ExecuteTime": {
     "end_time": "2023-05-08T04:41:24.842415Z",
     "start_time": "2023-05-08T04:41:24.274396Z"
    }
   },
   "outputs": [
    {
     "data": {
      "text/html": [
       "<div>\n",
       "<style scoped>\n",
       "    .dataframe tbody tr th:only-of-type {\n",
       "        vertical-align: middle;\n",
       "    }\n",
       "\n",
       "    .dataframe tbody tr th {\n",
       "        vertical-align: top;\n",
       "    }\n",
       "\n",
       "    .dataframe thead th {\n",
       "        text-align: right;\n",
       "    }\n",
       "</style>\n",
       "<table border=\"1\" class=\"dataframe\">\n",
       "  <thead>\n",
       "    <tr style=\"text-align: right;\">\n",
       "      <th></th>\n",
       "      <th>tradeindex</th>\n",
       "      <th>block_height</th>\n",
       "      <th>trades</th>\n",
       "      <th>transaction_gas</th>\n",
       "    </tr>\n",
       "  </thead>\n",
       "  <tbody>\n",
       "    <tr>\n",
       "      <th>count</th>\n",
       "      <td>164.000000</td>\n",
       "      <td>1.640000e+02</td>\n",
       "      <td>164.0</td>\n",
       "      <td>164.000000</td>\n",
       "    </tr>\n",
       "    <tr>\n",
       "      <th>mean</th>\n",
       "      <td>6.853659</td>\n",
       "      <td>1.714627e+07</td>\n",
       "      <td>1.0</td>\n",
       "      <td>219741.597561</td>\n",
       "    </tr>\n",
       "    <tr>\n",
       "      <th>std</th>\n",
       "      <td>4.461483</td>\n",
       "      <td>3.797255e+04</td>\n",
       "      <td>0.0</td>\n",
       "      <td>121427.369346</td>\n",
       "    </tr>\n",
       "    <tr>\n",
       "      <th>min</th>\n",
       "      <td>3.000000</td>\n",
       "      <td>1.708408e+07</td>\n",
       "      <td>1.0</td>\n",
       "      <td>117810.000000</td>\n",
       "    </tr>\n",
       "    <tr>\n",
       "      <th>25%</th>\n",
       "      <td>4.250000</td>\n",
       "      <td>1.712058e+07</td>\n",
       "      <td>1.0</td>\n",
       "      <td>141635.000000</td>\n",
       "    </tr>\n",
       "    <tr>\n",
       "      <th>50%</th>\n",
       "      <td>6.000000</td>\n",
       "      <td>1.713933e+07</td>\n",
       "      <td>1.0</td>\n",
       "      <td>177759.000000</td>\n",
       "    </tr>\n",
       "    <tr>\n",
       "      <th>75%</th>\n",
       "      <td>8.000000</td>\n",
       "      <td>1.717987e+07</td>\n",
       "      <td>1.0</td>\n",
       "      <td>308002.000000</td>\n",
       "    </tr>\n",
       "    <tr>\n",
       "      <th>max</th>\n",
       "      <td>25.000000</td>\n",
       "      <td>1.721209e+07</td>\n",
       "      <td>1.0</td>\n",
       "      <td>730533.000000</td>\n",
       "    </tr>\n",
       "  </tbody>\n",
       "</table>\n",
       "</div>"
      ],
      "text/plain": [
       "       tradeindex  block_height  trades  transaction_gas\n",
       "count  164.000000  1.640000e+02   164.0       164.000000\n",
       "mean     6.853659  1.714627e+07     1.0    219741.597561\n",
       "std      4.461483  3.797255e+04     0.0    121427.369346\n",
       "min      3.000000  1.708408e+07     1.0    117810.000000\n",
       "25%      4.250000  1.712058e+07     1.0    141635.000000\n",
       "50%      6.000000  1.713933e+07     1.0    177759.000000\n",
       "75%      8.000000  1.717987e+07     1.0    308002.000000\n",
       "max     25.000000  1.721209e+07     1.0    730533.000000"
      ]
     },
     "execution_count": 75,
     "metadata": {},
     "output_type": "execute_result"
    }
   ],
   "source": [
    "df_top1 = df[df.transaction_to_address == counts_address.index.compute()[0]]   \n",
    "df_top1.describe().compute()"
   ]
  },
  {
   "cell_type": "code",
   "execution_count": null,
   "id": "f5c3840a",
   "metadata": {},
   "outputs": [],
   "source": []
  }
 ],
 "metadata": {
  "celltoolbar": "Tags",
  "kernelspec": {
   "display_name": "Python 3 (ipykernel)",
   "language": "python",
   "name": "python3"
  },
  "language_info": {
   "codemirror_mode": {
    "name": "ipython",
    "version": 3
   },
   "file_extension": ".py",
   "mimetype": "text/x-python",
   "name": "python",
   "nbconvert_exporter": "python",
   "pygments_lexer": "ipython3",
   "version": "3.10.6"
  },
  "toc": {
   "base_numbering": 1,
   "nav_menu": {},
   "number_sections": true,
   "sideBar": true,
   "skip_h1_title": false,
   "title_cell": "Table of Contents",
   "title_sidebar": "Contents",
   "toc_cell": false,
   "toc_position": {},
   "toc_section_display": true,
   "toc_window_display": false
  }
 },
 "nbformat": 4,
 "nbformat_minor": 5
}
