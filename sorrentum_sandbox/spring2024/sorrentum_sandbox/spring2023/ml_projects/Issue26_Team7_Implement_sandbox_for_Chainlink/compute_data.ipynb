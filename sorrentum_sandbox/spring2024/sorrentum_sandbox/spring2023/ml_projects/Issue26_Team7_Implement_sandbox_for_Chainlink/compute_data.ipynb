{
 "cells": [
  {
   "cell_type": "code",
   "execution_count": 1,
   "id": "d2acb6df",
   "metadata": {
    "ExecuteTime": {
     "end_time": "2023-04-27T22:45:14.654005Z",
     "start_time": "2023-04-27T22:45:03.204285Z"
    }
   },
   "outputs": [
    {
     "name": "stdout",
     "output_type": "stream",
     "text": [
      "Requirement already satisfied: psycopg2-binary in /usr/local/lib/python3.10/dist-packages (2.9.6)\n",
      "\u001b[33mWARNING: Running pip as the 'root' user can result in broken permissions and conflicting behaviour with the system package manager. It is recommended to use a virtual environment instead: https://pip.pypa.io/warnings/venv\u001b[0m\u001b[33m\n",
      "\u001b[0mRequirement already satisfied: scikit-learn in /usr/local/lib/python3.10/dist-packages (1.2.2)\n",
      "Requirement already satisfied: threadpoolctl>=2.0.0 in /usr/local/lib/python3.10/dist-packages (from scikit-learn) (3.1.0)\n",
      "Requirement already satisfied: numpy>=1.17.3 in /usr/local/lib/python3.10/dist-packages (from scikit-learn) (1.24.2)\n",
      "Requirement already satisfied: scipy>=1.3.2 in /usr/local/lib/python3.10/dist-packages (from scikit-learn) (1.10.1)\n",
      "Requirement already satisfied: joblib>=1.1.1 in /usr/local/lib/python3.10/dist-packages (from scikit-learn) (1.2.0)\n",
      "\u001b[33mWARNING: Running pip as the 'root' user can result in broken permissions and conflicting behaviour with the system package manager. It is recommended to use a virtual environment instead: https://pip.pypa.io/warnings/venv\u001b[0m\u001b[33m\n",
      "\u001b[0m"
     ]
    }
   ],
   "source": [
    "!pip install psycopg2-binary \n",
    "!pip install scikit-learn"
   ]
  },
  {
   "cell_type": "code",
   "execution_count": 2,
   "id": "b9000e64",
   "metadata": {
    "ExecuteTime": {
     "end_time": "2023-04-27T22:45:18.202185Z",
     "start_time": "2023-04-27T22:45:14.692671Z"
    }
   },
   "outputs": [],
   "source": [
    "from query_API import *\n",
    "\n",
    "import pandas as pd\n",
    "import dask.dataframe as dd"
   ]
  },
  {
   "cell_type": "code",
   "execution_count": 18,
   "id": "db47aaef",
   "metadata": {
    "ExecuteTime": {
     "end_time": "2023-04-27T23:32:33.850933Z",
     "start_time": "2023-04-27T23:32:33.813103Z"
    }
   },
   "outputs": [],
   "source": [
    "def percentage_diff(df):\n",
    "    return (df['price_shift']-df['price']) / df['price'] * 100"
   ]
  },
  {
   "cell_type": "code",
   "execution_count": 57,
   "id": "3277eff7",
   "metadata": {
    "ExecuteTime": {
     "end_time": "2023-04-28T22:42:52.972363Z",
     "start_time": "2023-04-28T22:42:52.932583Z"
    }
   },
   "outputs": [],
   "source": [
    "def computer(**kwargs):\n",
    "    \n",
    "    # if start_roundid is specified, then compute from the start_roundid to latest_roundid in chainlink_real_time table\n",
    "    if 'start_roundid' in kwargs:\n",
    "        start_roundid = kwargs['start_roundid']\n",
    "        start_roundid = str(start_roundid)\n",
    "        query = \"SELECT roundid, price, updatedat, pair, decimals FROM chainlink_real_time WHERE roundid > {}\"\n",
    "        formatted_query = query.format(start_roundid)\n",
    "        df = query_from_db(formatted_query)\n",
    "        \n",
    "    # if nothing is specified, then compute all the data in chainlink_history and chainlink_real_time\n",
    "    else: \n",
    "        history_df = query_from_db(\"Select roundid, price, updatedat, pair, decimals From chainlink_history\")\n",
    "        real_time_df = query_from_db(\"Select roundid, price, updatedat, pair, decimals From chainlink_real_time\")\n",
    "        df = pd.concat([history_df, real_time_df])\n",
    "    \n",
    "    # create a price_shift column that contains the price column that shift up one row\n",
    "    df['price_shift'] = df['price'].shift(-1)\n",
    "    \n",
    "    # pandas dataframe to dask dataframe\n",
    "    ddf = dd.from_pandas(df, npartitions=10)\n",
    "    \n",
    "    # calculate the percentage difference using the map_partitions() method\n",
    "    ddf['percentage_diff'] = ddf.map_partitions(percentage_diff, meta=('x', 'f8'))\n",
    "\n",
    "    # drop the first row, which will have NaN values\n",
    "    ddf = ddf.dropna()\n",
    "    \n",
    "    # drop the price_shift column\n",
    "    ddf = ddf.drop(columns=['price_shift'])\n",
    "\n",
    "    # convert object to float and round to the second decimal points\n",
    "    ddf['percentage_diff'] = ddf['percentage_diff'].astype(float).round(2)\n",
    "\n",
    "    # save dask dataframe to pandas dataframe\n",
    "    compute_df = ddf.compute()\n",
    "        \n",
    "    return compute_df"
   ]
  },
  {
   "cell_type": "code",
   "execution_count": 58,
   "id": "aa73d920",
   "metadata": {
    "ExecuteTime": {
     "end_time": "2023-04-28T22:42:55.057758Z",
     "start_time": "2023-04-28T22:42:53.584486Z"
    }
   },
   "outputs": [],
   "source": [
    "compute_history_df = computer()"
   ]
  },
  {
   "cell_type": "code",
   "execution_count": 59,
   "id": "13005709",
   "metadata": {
    "ExecuteTime": {
     "end_time": "2023-04-28T22:42:55.284631Z",
     "start_time": "2023-04-28T22:42:55.065989Z"
    }
   },
   "outputs": [
    {
     "data": {
      "text/html": [
       "<div>\n",
       "<style scoped>\n",
       "    .dataframe tbody tr th:only-of-type {\n",
       "        vertical-align: middle;\n",
       "    }\n",
       "\n",
       "    .dataframe tbody tr th {\n",
       "        vertical-align: top;\n",
       "    }\n",
       "\n",
       "    .dataframe thead th {\n",
       "        text-align: right;\n",
       "    }\n",
       "</style>\n",
       "<table border=\"1\" class=\"dataframe\">\n",
       "  <thead>\n",
       "    <tr style=\"text-align: right;\">\n",
       "      <th></th>\n",
       "      <th>roundid</th>\n",
       "      <th>price</th>\n",
       "      <th>updatedat</th>\n",
       "      <th>pair</th>\n",
       "      <th>decimals</th>\n",
       "      <th>percentage_diff</th>\n",
       "    </tr>\n",
       "  </thead>\n",
       "  <tbody>\n",
       "    <tr>\n",
       "      <th>0</th>\n",
       "      <td>92233720368547771281</td>\n",
       "      <td>4652109401959</td>\n",
       "      <td>2021-12-31 22:13:16</td>\n",
       "      <td>BTC / USD</td>\n",
       "      <td>8</td>\n",
       "      <td>-0.27</td>\n",
       "    </tr>\n",
       "    <tr>\n",
       "      <th>1</th>\n",
       "      <td>92233720368547771282</td>\n",
       "      <td>4639357085285</td>\n",
       "      <td>2021-12-31 22:55:11</td>\n",
       "      <td>BTC / USD</td>\n",
       "      <td>8</td>\n",
       "      <td>-0.08</td>\n",
       "    </tr>\n",
       "    <tr>\n",
       "      <th>2</th>\n",
       "      <td>92233720368547771283</td>\n",
       "      <td>4635816164458</td>\n",
       "      <td>2021-12-31 23:56:36</td>\n",
       "      <td>BTC / USD</td>\n",
       "      <td>8</td>\n",
       "      <td>0.55</td>\n",
       "    </tr>\n",
       "    <tr>\n",
       "      <th>3</th>\n",
       "      <td>92233720368547771284</td>\n",
       "      <td>4661544706500</td>\n",
       "      <td>2022-01-01 00:42:51</td>\n",
       "      <td>BTC / USD</td>\n",
       "      <td>8</td>\n",
       "      <td>0.19</td>\n",
       "    </tr>\n",
       "    <tr>\n",
       "      <th>4</th>\n",
       "      <td>92233720368547771285</td>\n",
       "      <td>4670395911240</td>\n",
       "      <td>2022-01-01 00:56:01</td>\n",
       "      <td>BTC / USD</td>\n",
       "      <td>8</td>\n",
       "      <td>-0.01</td>\n",
       "    </tr>\n",
       "    <tr>\n",
       "      <th>...</th>\n",
       "      <td>...</td>\n",
       "      <td>...</td>\n",
       "      <td>...</td>\n",
       "      <td>...</td>\n",
       "      <td>...</td>\n",
       "      <td>...</td>\n",
       "    </tr>\n",
       "    <tr>\n",
       "      <th>1034</th>\n",
       "      <td>92233720368547792981</td>\n",
       "      <td>2924971428596</td>\n",
       "      <td>2023-04-28 16:55:23</td>\n",
       "      <td>BTC / USD</td>\n",
       "      <td>8</td>\n",
       "      <td>-0.04</td>\n",
       "    </tr>\n",
       "    <tr>\n",
       "      <th>1035</th>\n",
       "      <td>92233720368547792982</td>\n",
       "      <td>2923692000000</td>\n",
       "      <td>2023-04-28 17:55:23</td>\n",
       "      <td>BTC / USD</td>\n",
       "      <td>8</td>\n",
       "      <td>0.03</td>\n",
       "    </tr>\n",
       "    <tr>\n",
       "      <th>1036</th>\n",
       "      <td>92233720368547792983</td>\n",
       "      <td>2924547000000</td>\n",
       "      <td>2023-04-28 18:55:35</td>\n",
       "      <td>BTC / USD</td>\n",
       "      <td>8</td>\n",
       "      <td>0.59</td>\n",
       "    </tr>\n",
       "    <tr>\n",
       "      <th>1037</th>\n",
       "      <td>92233720368547792984</td>\n",
       "      <td>2941947320290</td>\n",
       "      <td>2023-04-28 19:04:23</td>\n",
       "      <td>BTC / USD</td>\n",
       "      <td>8</td>\n",
       "      <td>-0.19</td>\n",
       "    </tr>\n",
       "    <tr>\n",
       "      <th>1038</th>\n",
       "      <td>92233720368547792985</td>\n",
       "      <td>2936307000000</td>\n",
       "      <td>2023-04-28 19:55:35</td>\n",
       "      <td>BTC / USD</td>\n",
       "      <td>8</td>\n",
       "      <td>0.05</td>\n",
       "    </tr>\n",
       "  </tbody>\n",
       "</table>\n",
       "<p>21705 rows × 6 columns</p>\n",
       "</div>"
      ],
      "text/plain": [
       "                   roundid          price           updatedat       pair  \\\n",
       "0     92233720368547771281  4652109401959 2021-12-31 22:13:16  BTC / USD   \n",
       "1     92233720368547771282  4639357085285 2021-12-31 22:55:11  BTC / USD   \n",
       "2     92233720368547771283  4635816164458 2021-12-31 23:56:36  BTC / USD   \n",
       "3     92233720368547771284  4661544706500 2022-01-01 00:42:51  BTC / USD   \n",
       "4     92233720368547771285  4670395911240 2022-01-01 00:56:01  BTC / USD   \n",
       "...                    ...            ...                 ...        ...   \n",
       "1034  92233720368547792981  2924971428596 2023-04-28 16:55:23  BTC / USD   \n",
       "1035  92233720368547792982  2923692000000 2023-04-28 17:55:23  BTC / USD   \n",
       "1036  92233720368547792983  2924547000000 2023-04-28 18:55:35  BTC / USD   \n",
       "1037  92233720368547792984  2941947320290 2023-04-28 19:04:23  BTC / USD   \n",
       "1038  92233720368547792985  2936307000000 2023-04-28 19:55:35  BTC / USD   \n",
       "\n",
       "      decimals  percentage_diff  \n",
       "0            8            -0.27  \n",
       "1            8            -0.08  \n",
       "2            8             0.55  \n",
       "3            8             0.19  \n",
       "4            8            -0.01  \n",
       "...        ...              ...  \n",
       "1034         8            -0.04  \n",
       "1035         8             0.03  \n",
       "1036         8             0.59  \n",
       "1037         8            -0.19  \n",
       "1038         8             0.05  \n",
       "\n",
       "[21705 rows x 6 columns]"
      ]
     },
     "execution_count": 59,
     "metadata": {},
     "output_type": "execute_result"
    }
   ],
   "source": [
    "compute_history_df.sort_values(by=['roundid'])"
   ]
  },
  {
   "cell_type": "code",
   "execution_count": 60,
   "id": "a307adef",
   "metadata": {
    "ExecuteTime": {
     "end_time": "2023-04-28T22:42:55.552764Z",
     "start_time": "2023-04-28T22:42:55.291376Z"
    }
   },
   "outputs": [],
   "source": [
    "compute_real_time_df = computer(start_roundid=92233720368547792981)"
   ]
  },
  {
   "cell_type": "code",
   "execution_count": 61,
   "id": "a26d3dcd",
   "metadata": {
    "ExecuteTime": {
     "end_time": "2023-04-28T22:42:55.600898Z",
     "start_time": "2023-04-28T22:42:55.561772Z"
    }
   },
   "outputs": [
    {
     "data": {
      "text/html": [
       "<div>\n",
       "<style scoped>\n",
       "    .dataframe tbody tr th:only-of-type {\n",
       "        vertical-align: middle;\n",
       "    }\n",
       "\n",
       "    .dataframe tbody tr th {\n",
       "        vertical-align: top;\n",
       "    }\n",
       "\n",
       "    .dataframe thead th {\n",
       "        text-align: right;\n",
       "    }\n",
       "</style>\n",
       "<table border=\"1\" class=\"dataframe\">\n",
       "  <thead>\n",
       "    <tr style=\"text-align: right;\">\n",
       "      <th></th>\n",
       "      <th>roundid</th>\n",
       "      <th>price</th>\n",
       "      <th>updatedat</th>\n",
       "      <th>pair</th>\n",
       "      <th>decimals</th>\n",
       "      <th>percentage_diff</th>\n",
       "    </tr>\n",
       "  </thead>\n",
       "  <tbody>\n",
       "    <tr>\n",
       "      <th>0</th>\n",
       "      <td>92233720368547792982</td>\n",
       "      <td>2923692000000</td>\n",
       "      <td>2023-04-28 17:55:23</td>\n",
       "      <td>BTC / USD</td>\n",
       "      <td>8</td>\n",
       "      <td>0.03</td>\n",
       "    </tr>\n",
       "    <tr>\n",
       "      <th>1</th>\n",
       "      <td>92233720368547792983</td>\n",
       "      <td>2924547000000</td>\n",
       "      <td>2023-04-28 18:55:35</td>\n",
       "      <td>BTC / USD</td>\n",
       "      <td>8</td>\n",
       "      <td>0.59</td>\n",
       "    </tr>\n",
       "    <tr>\n",
       "      <th>2</th>\n",
       "      <td>92233720368547792984</td>\n",
       "      <td>2941947320290</td>\n",
       "      <td>2023-04-28 19:04:23</td>\n",
       "      <td>BTC / USD</td>\n",
       "      <td>8</td>\n",
       "      <td>-0.19</td>\n",
       "    </tr>\n",
       "    <tr>\n",
       "      <th>3</th>\n",
       "      <td>92233720368547792985</td>\n",
       "      <td>2936307000000</td>\n",
       "      <td>2023-04-28 19:55:35</td>\n",
       "      <td>BTC / USD</td>\n",
       "      <td>8</td>\n",
       "      <td>0.05</td>\n",
       "    </tr>\n",
       "  </tbody>\n",
       "</table>\n",
       "</div>"
      ],
      "text/plain": [
       "                roundid          price           updatedat       pair  \\\n",
       "0  92233720368547792982  2923692000000 2023-04-28 17:55:23  BTC / USD   \n",
       "1  92233720368547792983  2924547000000 2023-04-28 18:55:35  BTC / USD   \n",
       "2  92233720368547792984  2941947320290 2023-04-28 19:04:23  BTC / USD   \n",
       "3  92233720368547792985  2936307000000 2023-04-28 19:55:35  BTC / USD   \n",
       "\n",
       "   decimals  percentage_diff  \n",
       "0         8             0.03  \n",
       "1         8             0.59  \n",
       "2         8            -0.19  \n",
       "3         8             0.05  "
      ]
     },
     "execution_count": 61,
     "metadata": {},
     "output_type": "execute_result"
    }
   ],
   "source": [
    "compute_real_time_df"
   ]
  },
  {
   "cell_type": "code",
   "execution_count": 96,
   "id": "81865126",
   "metadata": {
    "ExecuteTime": {
     "end_time": "2023-05-02T01:14:23.987467Z",
     "start_time": "2023-05-02T01:14:23.869151Z"
    }
   },
   "outputs": [],
   "source": [
    "real_time = query_from_db(\"Select * From chainlink_real_time Order by roundid desc Limit 5\")"
   ]
  },
  {
   "cell_type": "code",
   "execution_count": 97,
   "id": "9b575f4a",
   "metadata": {
    "ExecuteTime": {
     "end_time": "2023-05-02T01:14:25.158856Z",
     "start_time": "2023-05-02T01:14:25.091194Z"
    }
   },
   "outputs": [
    {
     "data": {
      "text/html": [
       "<div>\n",
       "<style scoped>\n",
       "    .dataframe tbody tr th:only-of-type {\n",
       "        vertical-align: middle;\n",
       "    }\n",
       "\n",
       "    .dataframe tbody tr th {\n",
       "        vertical-align: top;\n",
       "    }\n",
       "\n",
       "    .dataframe thead th {\n",
       "        text-align: right;\n",
       "    }\n",
       "</style>\n",
       "<table border=\"1\" class=\"dataframe\">\n",
       "  <thead>\n",
       "    <tr style=\"text-align: right;\">\n",
       "      <th></th>\n",
       "      <th>roundid</th>\n",
       "      <th>price</th>\n",
       "      <th>startedat</th>\n",
       "      <th>updatedat</th>\n",
       "      <th>answeredinround</th>\n",
       "      <th>pair</th>\n",
       "      <th>decimals</th>\n",
       "    </tr>\n",
       "  </thead>\n",
       "  <tbody>\n",
       "    <tr>\n",
       "      <th>0</th>\n",
       "      <td>92233720368547793092</td>\n",
       "      <td>2809812000000</td>\n",
       "      <td>2023-05-01 23:55:35</td>\n",
       "      <td>2023-05-01 23:55:35</td>\n",
       "      <td>92233720368547793092</td>\n",
       "      <td>BTC / USD</td>\n",
       "      <td>8</td>\n",
       "    </tr>\n",
       "    <tr>\n",
       "      <th>1</th>\n",
       "      <td>92233720368547793091</td>\n",
       "      <td>2801721000000</td>\n",
       "      <td>2023-05-01 22:55:47</td>\n",
       "      <td>2023-05-01 22:55:47</td>\n",
       "      <td>92233720368547793091</td>\n",
       "      <td>BTC / USD</td>\n",
       "      <td>8</td>\n",
       "    </tr>\n",
       "    <tr>\n",
       "      <th>2</th>\n",
       "      <td>92233720368547793090</td>\n",
       "      <td>2799588300000</td>\n",
       "      <td>2023-05-01 21:55:35</td>\n",
       "      <td>2023-05-01 21:55:35</td>\n",
       "      <td>92233720368547793090</td>\n",
       "      <td>BTC / USD</td>\n",
       "      <td>8</td>\n",
       "    </tr>\n",
       "    <tr>\n",
       "      <th>3</th>\n",
       "      <td>92233720368547793089</td>\n",
       "      <td>2791877950000</td>\n",
       "      <td>2023-05-01 21:33:11</td>\n",
       "      <td>2023-05-01 21:33:11</td>\n",
       "      <td>92233720368547793089</td>\n",
       "      <td>BTC / USD</td>\n",
       "      <td>8</td>\n",
       "    </tr>\n",
       "    <tr>\n",
       "      <th>4</th>\n",
       "      <td>92233720368547793088</td>\n",
       "      <td>2776613450000</td>\n",
       "      <td>2023-05-01 20:55:35</td>\n",
       "      <td>2023-05-01 20:55:35</td>\n",
       "      <td>92233720368547793088</td>\n",
       "      <td>BTC / USD</td>\n",
       "      <td>8</td>\n",
       "    </tr>\n",
       "  </tbody>\n",
       "</table>\n",
       "</div>"
      ],
      "text/plain": [
       "                roundid          price           startedat  \\\n",
       "0  92233720368547793092  2809812000000 2023-05-01 23:55:35   \n",
       "1  92233720368547793091  2801721000000 2023-05-01 22:55:47   \n",
       "2  92233720368547793090  2799588300000 2023-05-01 21:55:35   \n",
       "3  92233720368547793089  2791877950000 2023-05-01 21:33:11   \n",
       "4  92233720368547793088  2776613450000 2023-05-01 20:55:35   \n",
       "\n",
       "            updatedat       answeredinround       pair  decimals  \n",
       "0 2023-05-01 23:55:35  92233720368547793092  BTC / USD         8  \n",
       "1 2023-05-01 22:55:47  92233720368547793091  BTC / USD         8  \n",
       "2 2023-05-01 21:55:35  92233720368547793090  BTC / USD         8  \n",
       "3 2023-05-01 21:33:11  92233720368547793089  BTC / USD         8  \n",
       "4 2023-05-01 20:55:35  92233720368547793088  BTC / USD         8  "
      ]
     },
     "execution_count": 97,
     "metadata": {},
     "output_type": "execute_result"
    }
   ],
   "source": [
    "real_time"
   ]
  },
  {
   "cell_type": "code",
   "execution_count": null,
   "id": "75d58d05",
   "metadata": {},
   "outputs": [],
   "source": []
  },
  {
   "cell_type": "code",
   "execution_count": 98,
   "id": "f9c8d859",
   "metadata": {
    "ExecuteTime": {
     "end_time": "2023-05-02T01:14:29.552975Z",
     "start_time": "2023-05-02T01:14:29.431458Z"
    }
   },
   "outputs": [],
   "source": [
    "compute = query_from_db(\"Select * From chainlink_compute Order by roundid desc Limit 5\")"
   ]
  },
  {
   "cell_type": "code",
   "execution_count": 99,
   "id": "b8f21ead",
   "metadata": {
    "ExecuteTime": {
     "end_time": "2023-05-02T01:14:30.149361Z",
     "start_time": "2023-05-02T01:14:30.092367Z"
    }
   },
   "outputs": [
    {
     "data": {
      "text/html": [
       "<div>\n",
       "<style scoped>\n",
       "    .dataframe tbody tr th:only-of-type {\n",
       "        vertical-align: middle;\n",
       "    }\n",
       "\n",
       "    .dataframe tbody tr th {\n",
       "        vertical-align: top;\n",
       "    }\n",
       "\n",
       "    .dataframe thead th {\n",
       "        text-align: right;\n",
       "    }\n",
       "</style>\n",
       "<table border=\"1\" class=\"dataframe\">\n",
       "  <thead>\n",
       "    <tr style=\"text-align: right;\">\n",
       "      <th></th>\n",
       "      <th>roundid</th>\n",
       "      <th>price</th>\n",
       "      <th>updatedat</th>\n",
       "      <th>pair</th>\n",
       "      <th>decimals</th>\n",
       "      <th>percentage_diff</th>\n",
       "    </tr>\n",
       "  </thead>\n",
       "  <tbody>\n",
       "    <tr>\n",
       "      <th>0</th>\n",
       "      <td>92233720368547793089</td>\n",
       "      <td>2791877950000</td>\n",
       "      <td>2023-05-01 21:33:11</td>\n",
       "      <td>BTC / USD</td>\n",
       "      <td>8</td>\n",
       "      <td>0.28</td>\n",
       "    </tr>\n",
       "    <tr>\n",
       "      <th>1</th>\n",
       "      <td>92233720368547793088</td>\n",
       "      <td>2776613450000</td>\n",
       "      <td>2023-05-01 20:55:35</td>\n",
       "      <td>BTC / USD</td>\n",
       "      <td>8</td>\n",
       "      <td>0.55</td>\n",
       "    </tr>\n",
       "    <tr>\n",
       "      <th>2</th>\n",
       "      <td>92233720368547793087</td>\n",
       "      <td>2785014747523</td>\n",
       "      <td>2023-05-01 19:55:47</td>\n",
       "      <td>BTC / USD</td>\n",
       "      <td>8</td>\n",
       "      <td>-0.30</td>\n",
       "    </tr>\n",
       "    <tr>\n",
       "      <th>3</th>\n",
       "      <td>92233720368547793086</td>\n",
       "      <td>2800701000000</td>\n",
       "      <td>2023-05-01 19:28:11</td>\n",
       "      <td>BTC / USD</td>\n",
       "      <td>8</td>\n",
       "      <td>-0.56</td>\n",
       "    </tr>\n",
       "    <tr>\n",
       "      <th>4</th>\n",
       "      <td>92233720368547793085</td>\n",
       "      <td>2785959400000</td>\n",
       "      <td>2023-05-01 19:18:11</td>\n",
       "      <td>BTC / USD</td>\n",
       "      <td>8</td>\n",
       "      <td>0.53</td>\n",
       "    </tr>\n",
       "  </tbody>\n",
       "</table>\n",
       "</div>"
      ],
      "text/plain": [
       "                roundid          price           updatedat       pair  \\\n",
       "0  92233720368547793089  2791877950000 2023-05-01 21:33:11  BTC / USD   \n",
       "1  92233720368547793088  2776613450000 2023-05-01 20:55:35  BTC / USD   \n",
       "2  92233720368547793087  2785014747523 2023-05-01 19:55:47  BTC / USD   \n",
       "3  92233720368547793086  2800701000000 2023-05-01 19:28:11  BTC / USD   \n",
       "4  92233720368547793085  2785959400000 2023-05-01 19:18:11  BTC / USD   \n",
       "\n",
       "   decimals  percentage_diff  \n",
       "0         8             0.28  \n",
       "1         8             0.55  \n",
       "2         8            -0.30  \n",
       "3         8            -0.56  \n",
       "4         8             0.53  "
      ]
     },
     "execution_count": 99,
     "metadata": {},
     "output_type": "execute_result"
    }
   ],
   "source": [
    "compute"
   ]
  },
  {
   "cell_type": "code",
   "execution_count": null,
   "id": "a0e78229",
   "metadata": {},
   "outputs": [],
   "source": []
  }
 ],
 "metadata": {
  "kernelspec": {
   "display_name": "Python 3 (ipykernel)",
   "language": "python",
   "name": "python3"
  },
  "language_info": {
   "codemirror_mode": {
    "name": "ipython",
    "version": 3
   },
   "file_extension": ".py",
   "mimetype": "text/x-python",
   "name": "python",
   "nbconvert_exporter": "python",
   "pygments_lexer": "ipython3",
   "version": "3.10.6"
  },
  "toc": {
   "base_numbering": 1,
   "nav_menu": {},
   "number_sections": true,
   "sideBar": true,
   "skip_h1_title": false,
   "title_cell": "Table of Contents",
   "title_sidebar": "Contents",
   "toc_cell": false,
   "toc_position": {},
   "toc_section_display": true,
   "toc_window_display": false
  }
 },
 "nbformat": 4,
 "nbformat_minor": 5
}
