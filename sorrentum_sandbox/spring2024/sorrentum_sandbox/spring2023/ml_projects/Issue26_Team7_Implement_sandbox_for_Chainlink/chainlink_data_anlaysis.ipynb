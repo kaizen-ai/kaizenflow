{
 "cells": [
  {
   "cell_type": "code",
   "execution_count": 3,
   "id": "a81b1103",
   "metadata": {
    "ExecuteTime": {
     "end_time": "2023-04-14T02:09:02.384261Z",
     "start_time": "2023-04-14T02:08:22.686739Z"
    }
   },
   "outputs": [
    {
     "name": "stdout",
     "output_type": "stream",
     "text": [
      "Requirement already satisfied: psycopg2-binary in /usr/local/lib/python3.10/dist-packages (2.9.6)\n",
      "\u001b[33mWARNING: Running pip as the 'root' user can result in broken permissions and conflicting behaviour with the system package manager. It is recommended to use a virtual environment instead: https://pip.pypa.io/warnings/venv\u001b[0m\u001b[33m\n",
      "\u001b[0mCollecting scikit-learn\n",
      "  Downloading scikit_learn-1.2.2-cp310-cp310-manylinux_2_17_x86_64.manylinux2014_x86_64.whl (9.6 MB)\n",
      "\u001b[2K     \u001b[90m━━━━━━━━━━━━━━━━━━━━━━━━━━━━━━━━━━━━━━━━\u001b[0m \u001b[32m9.6/9.6 MB\u001b[0m \u001b[31m9.4 MB/s\u001b[0m eta \u001b[36m0:00:00\u001b[0m00:01\u001b[0m00:01\u001b[0m\n",
      "\u001b[?25hCollecting joblib>=1.1.1\n",
      "  Downloading joblib-1.2.0-py3-none-any.whl (297 kB)\n",
      "\u001b[2K     \u001b[90m━━━━━━━━━━━━━━━━━━━━━━━━━━━━━━━━━━━━━━\u001b[0m \u001b[32m298.0/298.0 KB\u001b[0m \u001b[31m17.6 MB/s\u001b[0m eta \u001b[36m0:00:00\u001b[0m\n",
      "\u001b[?25hRequirement already satisfied: numpy>=1.17.3 in /usr/local/lib/python3.10/dist-packages (from scikit-learn) (1.24.2)\n",
      "Collecting scipy>=1.3.2\n",
      "  Downloading scipy-1.10.1-cp310-cp310-manylinux_2_17_x86_64.manylinux2014_x86_64.whl (34.4 MB)\n",
      "\u001b[2K     \u001b[90m━━━━━━━━━━━━━━━━━━━━━━━━━━━━━━━━━━━━━━━━\u001b[0m \u001b[32m34.4/34.4 MB\u001b[0m \u001b[31m17.3 MB/s\u001b[0m eta \u001b[36m0:00:00\u001b[0m00:01\u001b[0m00:01\u001b[0m\n",
      "\u001b[?25hCollecting threadpoolctl>=2.0.0\n",
      "  Downloading threadpoolctl-3.1.0-py3-none-any.whl (14 kB)\n",
      "Installing collected packages: threadpoolctl, scipy, joblib, scikit-learn\n",
      "Successfully installed joblib-1.2.0 scikit-learn-1.2.2 scipy-1.10.1 threadpoolctl-3.1.0\n",
      "\u001b[33mWARNING: Running pip as the 'root' user can result in broken permissions and conflicting behaviour with the system package manager. It is recommended to use a virtual environment instead: https://pip.pypa.io/warnings/venv\u001b[0m\u001b[33m\n",
      "\u001b[0m"
     ]
    }
   ],
   "source": [
    "!pip install psycopg2-binary \n",
    "!pip install scikit-learn"
   ]
  },
  {
   "cell_type": "code",
   "execution_count": 4,
   "id": "b62719f3",
   "metadata": {
    "ExecuteTime": {
     "end_time": "2023-04-14T02:09:27.700668Z",
     "start_time": "2023-04-14T02:09:22.963852Z"
    }
   },
   "outputs": [],
   "source": [
    "from query_API import *\n",
    "from sklearn.ensemble import IsolationForest\n",
    "from sklearn.neighbors import LocalOutlierFactor\n",
    "\n",
    "\n",
    "import pandas as pd\n",
    "import matplotlib.pyplot as plt\n",
    "import seaborn as sns"
   ]
  },
  {
   "cell_type": "code",
   "execution_count": 5,
   "id": "b709cb89",
   "metadata": {
    "ExecuteTime": {
     "end_time": "2023-04-14T02:09:36.630786Z",
     "start_time": "2023-04-14T02:09:36.485269Z"
    }
   },
   "outputs": [],
   "source": [
    "real_time_df = query_from_db(\"Select * From chainlink_real_time\")"
   ]
  },
  {
   "cell_type": "code",
   "execution_count": 6,
   "id": "5bbc720f",
   "metadata": {
    "ExecuteTime": {
     "end_time": "2023-04-14T02:09:37.578505Z",
     "start_time": "2023-04-14T02:09:37.472424Z"
    }
   },
   "outputs": [
    {
     "data": {
      "text/html": [
       "<div>\n",
       "<style scoped>\n",
       "    .dataframe tbody tr th:only-of-type {\n",
       "        vertical-align: middle;\n",
       "    }\n",
       "\n",
       "    .dataframe tbody tr th {\n",
       "        vertical-align: top;\n",
       "    }\n",
       "\n",
       "    .dataframe thead th {\n",
       "        text-align: right;\n",
       "    }\n",
       "</style>\n",
       "<table border=\"1\" class=\"dataframe\">\n",
       "  <thead>\n",
       "    <tr style=\"text-align: right;\">\n",
       "      <th></th>\n",
       "      <th>roundid</th>\n",
       "      <th>price</th>\n",
       "      <th>startedat</th>\n",
       "      <th>updatedat</th>\n",
       "      <th>answeredinround</th>\n",
       "      <th>pair</th>\n",
       "      <th>decimals</th>\n",
       "    </tr>\n",
       "  </thead>\n",
       "  <tbody>\n",
       "    <tr>\n",
       "      <th>0</th>\n",
       "      <td>92233720368547791947</td>\n",
       "      <td>2843439000000</td>\n",
       "      <td>2023-04-01 00:55:23</td>\n",
       "      <td>2023-04-01 00:55:23</td>\n",
       "      <td>92233720368547791947</td>\n",
       "      <td>BTC / USD</td>\n",
       "      <td>8</td>\n",
       "    </tr>\n",
       "    <tr>\n",
       "      <th>1</th>\n",
       "      <td>92233720368547791948</td>\n",
       "      <td>2858579310000</td>\n",
       "      <td>2023-04-01 01:52:59</td>\n",
       "      <td>2023-04-01 01:52:59</td>\n",
       "      <td>92233720368547791948</td>\n",
       "      <td>BTC / USD</td>\n",
       "      <td>8</td>\n",
       "    </tr>\n",
       "    <tr>\n",
       "      <th>2</th>\n",
       "      <td>92233720368547791949</td>\n",
       "      <td>2856487000000</td>\n",
       "      <td>2023-04-01 01:55:23</td>\n",
       "      <td>2023-04-01 01:55:23</td>\n",
       "      <td>92233720368547791949</td>\n",
       "      <td>BTC / USD</td>\n",
       "      <td>8</td>\n",
       "    </tr>\n",
       "    <tr>\n",
       "      <th>3</th>\n",
       "      <td>92233720368547791950</td>\n",
       "      <td>2873735176046</td>\n",
       "      <td>2023-04-01 02:01:59</td>\n",
       "      <td>2023-04-01 02:01:59</td>\n",
       "      <td>92233720368547791950</td>\n",
       "      <td>BTC / USD</td>\n",
       "      <td>8</td>\n",
       "    </tr>\n",
       "    <tr>\n",
       "      <th>4</th>\n",
       "      <td>92233720368547791951</td>\n",
       "      <td>2858900000000</td>\n",
       "      <td>2023-04-01 02:18:23</td>\n",
       "      <td>2023-04-01 02:18:23</td>\n",
       "      <td>92233720368547791951</td>\n",
       "      <td>BTC / USD</td>\n",
       "      <td>8</td>\n",
       "    </tr>\n",
       "    <tr>\n",
       "      <th>...</th>\n",
       "      <td>...</td>\n",
       "      <td>...</td>\n",
       "      <td>...</td>\n",
       "      <td>...</td>\n",
       "      <td>...</td>\n",
       "      <td>...</td>\n",
       "      <td>...</td>\n",
       "    </tr>\n",
       "    <tr>\n",
       "      <th>428</th>\n",
       "      <td>92233720368547792375</td>\n",
       "      <td>3044323000000</td>\n",
       "      <td>2023-04-13 17:55:47</td>\n",
       "      <td>2023-04-13 17:55:47</td>\n",
       "      <td>92233720368547792375</td>\n",
       "      <td>BTC / USD</td>\n",
       "      <td>8</td>\n",
       "    </tr>\n",
       "    <tr>\n",
       "      <th>429</th>\n",
       "      <td>92233720368547792376</td>\n",
       "      <td>3050172000000</td>\n",
       "      <td>2023-04-13 18:55:47</td>\n",
       "      <td>2023-04-13 18:55:47</td>\n",
       "      <td>92233720368547792376</td>\n",
       "      <td>BTC / USD</td>\n",
       "      <td>8</td>\n",
       "    </tr>\n",
       "    <tr>\n",
       "      <th>430</th>\n",
       "      <td>92233720368547792377</td>\n",
       "      <td>3035810230600</td>\n",
       "      <td>2023-04-13 19:56:47</td>\n",
       "      <td>2023-04-13 19:56:47</td>\n",
       "      <td>92233720368547792377</td>\n",
       "      <td>BTC / USD</td>\n",
       "      <td>8</td>\n",
       "    </tr>\n",
       "    <tr>\n",
       "      <th>431</th>\n",
       "      <td>92233720368547792378</td>\n",
       "      <td>3035950436684</td>\n",
       "      <td>2023-04-13 19:59:11</td>\n",
       "      <td>2023-04-13 19:59:11</td>\n",
       "      <td>92233720368547792378</td>\n",
       "      <td>BTC / USD</td>\n",
       "      <td>8</td>\n",
       "    </tr>\n",
       "    <tr>\n",
       "      <th>432</th>\n",
       "      <td>92233720368547792379</td>\n",
       "      <td>3029954378356</td>\n",
       "      <td>2023-04-13 20:56:47</td>\n",
       "      <td>2023-04-13 20:56:47</td>\n",
       "      <td>92233720368547792379</td>\n",
       "      <td>BTC / USD</td>\n",
       "      <td>8</td>\n",
       "    </tr>\n",
       "  </tbody>\n",
       "</table>\n",
       "<p>433 rows × 7 columns</p>\n",
       "</div>"
      ],
      "text/plain": [
       "                  roundid          price           startedat  \\\n",
       "0    92233720368547791947  2843439000000 2023-04-01 00:55:23   \n",
       "1    92233720368547791948  2858579310000 2023-04-01 01:52:59   \n",
       "2    92233720368547791949  2856487000000 2023-04-01 01:55:23   \n",
       "3    92233720368547791950  2873735176046 2023-04-01 02:01:59   \n",
       "4    92233720368547791951  2858900000000 2023-04-01 02:18:23   \n",
       "..                    ...            ...                 ...   \n",
       "428  92233720368547792375  3044323000000 2023-04-13 17:55:47   \n",
       "429  92233720368547792376  3050172000000 2023-04-13 18:55:47   \n",
       "430  92233720368547792377  3035810230600 2023-04-13 19:56:47   \n",
       "431  92233720368547792378  3035950436684 2023-04-13 19:59:11   \n",
       "432  92233720368547792379  3029954378356 2023-04-13 20:56:47   \n",
       "\n",
       "              updatedat       answeredinround       pair  decimals  \n",
       "0   2023-04-01 00:55:23  92233720368547791947  BTC / USD         8  \n",
       "1   2023-04-01 01:52:59  92233720368547791948  BTC / USD         8  \n",
       "2   2023-04-01 01:55:23  92233720368547791949  BTC / USD         8  \n",
       "3   2023-04-01 02:01:59  92233720368547791950  BTC / USD         8  \n",
       "4   2023-04-01 02:18:23  92233720368547791951  BTC / USD         8  \n",
       "..                  ...                   ...        ...       ...  \n",
       "428 2023-04-13 17:55:47  92233720368547792375  BTC / USD         8  \n",
       "429 2023-04-13 18:55:47  92233720368547792376  BTC / USD         8  \n",
       "430 2023-04-13 19:56:47  92233720368547792377  BTC / USD         8  \n",
       "431 2023-04-13 19:59:11  92233720368547792378  BTC / USD         8  \n",
       "432 2023-04-13 20:56:47  92233720368547792379  BTC / USD         8  \n",
       "\n",
       "[433 rows x 7 columns]"
      ]
     },
     "execution_count": 6,
     "metadata": {},
     "output_type": "execute_result"
    }
   ],
   "source": [
    "real_time_df"
   ]
  },
  {
   "cell_type": "code",
   "execution_count": 7,
   "id": "79b2971c",
   "metadata": {
    "ExecuteTime": {
     "end_time": "2023-04-14T02:09:38.809435Z",
     "start_time": "2023-04-14T02:09:38.221500Z"
    }
   },
   "outputs": [],
   "source": [
    "history_df = query_from_db(\"Select * From chainlink_history\")"
   ]
  },
  {
   "cell_type": "code",
   "execution_count": 8,
   "id": "dade5df7",
   "metadata": {
    "ExecuteTime": {
     "end_time": "2023-04-14T02:09:39.472923Z",
     "start_time": "2023-04-14T02:09:39.405004Z"
    }
   },
   "outputs": [
    {
     "data": {
      "text/html": [
       "<div>\n",
       "<style scoped>\n",
       "    .dataframe tbody tr th:only-of-type {\n",
       "        vertical-align: middle;\n",
       "    }\n",
       "\n",
       "    .dataframe tbody tr th {\n",
       "        vertical-align: top;\n",
       "    }\n",
       "\n",
       "    .dataframe thead th {\n",
       "        text-align: right;\n",
       "    }\n",
       "</style>\n",
       "<table border=\"1\" class=\"dataframe\">\n",
       "  <thead>\n",
       "    <tr style=\"text-align: right;\">\n",
       "      <th></th>\n",
       "      <th>roundid</th>\n",
       "      <th>price</th>\n",
       "      <th>startedat</th>\n",
       "      <th>updatedat</th>\n",
       "      <th>answeredinround</th>\n",
       "      <th>pair</th>\n",
       "      <th>decimals</th>\n",
       "    </tr>\n",
       "  </thead>\n",
       "  <tbody>\n",
       "    <tr>\n",
       "      <th>0</th>\n",
       "      <td>92233720368547771281</td>\n",
       "      <td>4652109401959</td>\n",
       "      <td>2021-12-31 22:13:16</td>\n",
       "      <td>2021-12-31 22:13:16</td>\n",
       "      <td>92233720368547771281</td>\n",
       "      <td>BTC / USD</td>\n",
       "      <td>8</td>\n",
       "    </tr>\n",
       "    <tr>\n",
       "      <th>1</th>\n",
       "      <td>92233720368547771282</td>\n",
       "      <td>4639357085285</td>\n",
       "      <td>2021-12-31 22:55:11</td>\n",
       "      <td>2021-12-31 22:55:11</td>\n",
       "      <td>92233720368547771282</td>\n",
       "      <td>BTC / USD</td>\n",
       "      <td>8</td>\n",
       "    </tr>\n",
       "    <tr>\n",
       "      <th>2</th>\n",
       "      <td>92233720368547771283</td>\n",
       "      <td>4635816164458</td>\n",
       "      <td>2021-12-31 23:56:36</td>\n",
       "      <td>2021-12-31 23:56:36</td>\n",
       "      <td>92233720368547771283</td>\n",
       "      <td>BTC / USD</td>\n",
       "      <td>8</td>\n",
       "    </tr>\n",
       "    <tr>\n",
       "      <th>3</th>\n",
       "      <td>92233720368547771284</td>\n",
       "      <td>4661544706500</td>\n",
       "      <td>2022-01-01 00:42:51</td>\n",
       "      <td>2022-01-01 00:42:51</td>\n",
       "      <td>92233720368547771284</td>\n",
       "      <td>BTC / USD</td>\n",
       "      <td>8</td>\n",
       "    </tr>\n",
       "    <tr>\n",
       "      <th>4</th>\n",
       "      <td>92233720368547771285</td>\n",
       "      <td>4670395911240</td>\n",
       "      <td>2022-01-01 00:56:01</td>\n",
       "      <td>2022-01-01 00:56:01</td>\n",
       "      <td>92233720368547771285</td>\n",
       "      <td>BTC / USD</td>\n",
       "      <td>8</td>\n",
       "    </tr>\n",
       "    <tr>\n",
       "      <th>...</th>\n",
       "      <td>...</td>\n",
       "      <td>...</td>\n",
       "      <td>...</td>\n",
       "      <td>...</td>\n",
       "      <td>...</td>\n",
       "      <td>...</td>\n",
       "      <td>...</td>\n",
       "    </tr>\n",
       "    <tr>\n",
       "      <th>20661</th>\n",
       "      <td>92233720368547791942</td>\n",
       "      <td>2849260000000</td>\n",
       "      <td>2023-03-31 19:55:47</td>\n",
       "      <td>2023-03-31 19:55:47</td>\n",
       "      <td>92233720368547791942</td>\n",
       "      <td>BTC / USD</td>\n",
       "      <td>8</td>\n",
       "    </tr>\n",
       "    <tr>\n",
       "      <th>20662</th>\n",
       "      <td>92233720368547791943</td>\n",
       "      <td>2844239500000</td>\n",
       "      <td>2023-03-31 20:55:47</td>\n",
       "      <td>2023-03-31 20:55:47</td>\n",
       "      <td>92233720368547791943</td>\n",
       "      <td>BTC / USD</td>\n",
       "      <td>8</td>\n",
       "    </tr>\n",
       "    <tr>\n",
       "      <th>20663</th>\n",
       "      <td>92233720368547791944</td>\n",
       "      <td>2852083300000</td>\n",
       "      <td>2023-03-31 21:55:47</td>\n",
       "      <td>2023-03-31 21:55:47</td>\n",
       "      <td>92233720368547791944</td>\n",
       "      <td>BTC / USD</td>\n",
       "      <td>8</td>\n",
       "    </tr>\n",
       "    <tr>\n",
       "      <th>20664</th>\n",
       "      <td>92233720368547791945</td>\n",
       "      <td>2857468500000</td>\n",
       "      <td>2023-03-31 22:55:23</td>\n",
       "      <td>2023-03-31 22:55:23</td>\n",
       "      <td>92233720368547791945</td>\n",
       "      <td>BTC / USD</td>\n",
       "      <td>8</td>\n",
       "    </tr>\n",
       "    <tr>\n",
       "      <th>20665</th>\n",
       "      <td>92233720368547791946</td>\n",
       "      <td>2847684000000</td>\n",
       "      <td>2023-03-31 23:55:23</td>\n",
       "      <td>2023-03-31 23:55:23</td>\n",
       "      <td>92233720368547791946</td>\n",
       "      <td>BTC / USD</td>\n",
       "      <td>8</td>\n",
       "    </tr>\n",
       "  </tbody>\n",
       "</table>\n",
       "<p>20666 rows × 7 columns</p>\n",
       "</div>"
      ],
      "text/plain": [
       "                    roundid          price           startedat  \\\n",
       "0      92233720368547771281  4652109401959 2021-12-31 22:13:16   \n",
       "1      92233720368547771282  4639357085285 2021-12-31 22:55:11   \n",
       "2      92233720368547771283  4635816164458 2021-12-31 23:56:36   \n",
       "3      92233720368547771284  4661544706500 2022-01-01 00:42:51   \n",
       "4      92233720368547771285  4670395911240 2022-01-01 00:56:01   \n",
       "...                     ...            ...                 ...   \n",
       "20661  92233720368547791942  2849260000000 2023-03-31 19:55:47   \n",
       "20662  92233720368547791943  2844239500000 2023-03-31 20:55:47   \n",
       "20663  92233720368547791944  2852083300000 2023-03-31 21:55:47   \n",
       "20664  92233720368547791945  2857468500000 2023-03-31 22:55:23   \n",
       "20665  92233720368547791946  2847684000000 2023-03-31 23:55:23   \n",
       "\n",
       "                updatedat       answeredinround       pair  decimals  \n",
       "0     2021-12-31 22:13:16  92233720368547771281  BTC / USD         8  \n",
       "1     2021-12-31 22:55:11  92233720368547771282  BTC / USD         8  \n",
       "2     2021-12-31 23:56:36  92233720368547771283  BTC / USD         8  \n",
       "3     2022-01-01 00:42:51  92233720368547771284  BTC / USD         8  \n",
       "4     2022-01-01 00:56:01  92233720368547771285  BTC / USD         8  \n",
       "...                   ...                   ...        ...       ...  \n",
       "20661 2023-03-31 19:55:47  92233720368547791942  BTC / USD         8  \n",
       "20662 2023-03-31 20:55:47  92233720368547791943  BTC / USD         8  \n",
       "20663 2023-03-31 21:55:47  92233720368547791944  BTC / USD         8  \n",
       "20664 2023-03-31 22:55:23  92233720368547791945  BTC / USD         8  \n",
       "20665 2023-03-31 23:55:23  92233720368547791946  BTC / USD         8  \n",
       "\n",
       "[20666 rows x 7 columns]"
      ]
     },
     "execution_count": 8,
     "metadata": {},
     "output_type": "execute_result"
    }
   ],
   "source": [
    "history_df"
   ]
  },
  {
   "cell_type": "code",
   "execution_count": 9,
   "id": "67ea3266",
   "metadata": {
    "ExecuteTime": {
     "end_time": "2023-04-14T02:10:58.896053Z",
     "start_time": "2023-04-14T02:10:58.856262Z"
    }
   },
   "outputs": [],
   "source": [
    "df = pd.concat([history_df, real_time_df], ignore_index=True)"
   ]
  },
  {
   "cell_type": "code",
   "execution_count": 10,
   "id": "389478e4",
   "metadata": {
    "ExecuteTime": {
     "end_time": "2023-04-14T02:11:01.584797Z",
     "start_time": "2023-04-14T02:11:01.511857Z"
    }
   },
   "outputs": [
    {
     "data": {
      "text/html": [
       "<div>\n",
       "<style scoped>\n",
       "    .dataframe tbody tr th:only-of-type {\n",
       "        vertical-align: middle;\n",
       "    }\n",
       "\n",
       "    .dataframe tbody tr th {\n",
       "        vertical-align: top;\n",
       "    }\n",
       "\n",
       "    .dataframe thead th {\n",
       "        text-align: right;\n",
       "    }\n",
       "</style>\n",
       "<table border=\"1\" class=\"dataframe\">\n",
       "  <thead>\n",
       "    <tr style=\"text-align: right;\">\n",
       "      <th></th>\n",
       "      <th>roundid</th>\n",
       "      <th>price</th>\n",
       "      <th>startedat</th>\n",
       "      <th>updatedat</th>\n",
       "      <th>answeredinround</th>\n",
       "      <th>pair</th>\n",
       "      <th>decimals</th>\n",
       "    </tr>\n",
       "  </thead>\n",
       "  <tbody>\n",
       "    <tr>\n",
       "      <th>0</th>\n",
       "      <td>92233720368547771281</td>\n",
       "      <td>4652109401959</td>\n",
       "      <td>2021-12-31 22:13:16</td>\n",
       "      <td>2021-12-31 22:13:16</td>\n",
       "      <td>92233720368547771281</td>\n",
       "      <td>BTC / USD</td>\n",
       "      <td>8</td>\n",
       "    </tr>\n",
       "    <tr>\n",
       "      <th>1</th>\n",
       "      <td>92233720368547771282</td>\n",
       "      <td>4639357085285</td>\n",
       "      <td>2021-12-31 22:55:11</td>\n",
       "      <td>2021-12-31 22:55:11</td>\n",
       "      <td>92233720368547771282</td>\n",
       "      <td>BTC / USD</td>\n",
       "      <td>8</td>\n",
       "    </tr>\n",
       "    <tr>\n",
       "      <th>2</th>\n",
       "      <td>92233720368547771283</td>\n",
       "      <td>4635816164458</td>\n",
       "      <td>2021-12-31 23:56:36</td>\n",
       "      <td>2021-12-31 23:56:36</td>\n",
       "      <td>92233720368547771283</td>\n",
       "      <td>BTC / USD</td>\n",
       "      <td>8</td>\n",
       "    </tr>\n",
       "    <tr>\n",
       "      <th>3</th>\n",
       "      <td>92233720368547771284</td>\n",
       "      <td>4661544706500</td>\n",
       "      <td>2022-01-01 00:42:51</td>\n",
       "      <td>2022-01-01 00:42:51</td>\n",
       "      <td>92233720368547771284</td>\n",
       "      <td>BTC / USD</td>\n",
       "      <td>8</td>\n",
       "    </tr>\n",
       "    <tr>\n",
       "      <th>4</th>\n",
       "      <td>92233720368547771285</td>\n",
       "      <td>4670395911240</td>\n",
       "      <td>2022-01-01 00:56:01</td>\n",
       "      <td>2022-01-01 00:56:01</td>\n",
       "      <td>92233720368547771285</td>\n",
       "      <td>BTC / USD</td>\n",
       "      <td>8</td>\n",
       "    </tr>\n",
       "    <tr>\n",
       "      <th>...</th>\n",
       "      <td>...</td>\n",
       "      <td>...</td>\n",
       "      <td>...</td>\n",
       "      <td>...</td>\n",
       "      <td>...</td>\n",
       "      <td>...</td>\n",
       "      <td>...</td>\n",
       "    </tr>\n",
       "    <tr>\n",
       "      <th>21094</th>\n",
       "      <td>92233720368547792375</td>\n",
       "      <td>3044323000000</td>\n",
       "      <td>2023-04-13 17:55:47</td>\n",
       "      <td>2023-04-13 17:55:47</td>\n",
       "      <td>92233720368547792375</td>\n",
       "      <td>BTC / USD</td>\n",
       "      <td>8</td>\n",
       "    </tr>\n",
       "    <tr>\n",
       "      <th>21095</th>\n",
       "      <td>92233720368547792376</td>\n",
       "      <td>3050172000000</td>\n",
       "      <td>2023-04-13 18:55:47</td>\n",
       "      <td>2023-04-13 18:55:47</td>\n",
       "      <td>92233720368547792376</td>\n",
       "      <td>BTC / USD</td>\n",
       "      <td>8</td>\n",
       "    </tr>\n",
       "    <tr>\n",
       "      <th>21096</th>\n",
       "      <td>92233720368547792377</td>\n",
       "      <td>3035810230600</td>\n",
       "      <td>2023-04-13 19:56:47</td>\n",
       "      <td>2023-04-13 19:56:47</td>\n",
       "      <td>92233720368547792377</td>\n",
       "      <td>BTC / USD</td>\n",
       "      <td>8</td>\n",
       "    </tr>\n",
       "    <tr>\n",
       "      <th>21097</th>\n",
       "      <td>92233720368547792378</td>\n",
       "      <td>3035950436684</td>\n",
       "      <td>2023-04-13 19:59:11</td>\n",
       "      <td>2023-04-13 19:59:11</td>\n",
       "      <td>92233720368547792378</td>\n",
       "      <td>BTC / USD</td>\n",
       "      <td>8</td>\n",
       "    </tr>\n",
       "    <tr>\n",
       "      <th>21098</th>\n",
       "      <td>92233720368547792379</td>\n",
       "      <td>3029954378356</td>\n",
       "      <td>2023-04-13 20:56:47</td>\n",
       "      <td>2023-04-13 20:56:47</td>\n",
       "      <td>92233720368547792379</td>\n",
       "      <td>BTC / USD</td>\n",
       "      <td>8</td>\n",
       "    </tr>\n",
       "  </tbody>\n",
       "</table>\n",
       "<p>21099 rows × 7 columns</p>\n",
       "</div>"
      ],
      "text/plain": [
       "                    roundid          price           startedat  \\\n",
       "0      92233720368547771281  4652109401959 2021-12-31 22:13:16   \n",
       "1      92233720368547771282  4639357085285 2021-12-31 22:55:11   \n",
       "2      92233720368547771283  4635816164458 2021-12-31 23:56:36   \n",
       "3      92233720368547771284  4661544706500 2022-01-01 00:42:51   \n",
       "4      92233720368547771285  4670395911240 2022-01-01 00:56:01   \n",
       "...                     ...            ...                 ...   \n",
       "21094  92233720368547792375  3044323000000 2023-04-13 17:55:47   \n",
       "21095  92233720368547792376  3050172000000 2023-04-13 18:55:47   \n",
       "21096  92233720368547792377  3035810230600 2023-04-13 19:56:47   \n",
       "21097  92233720368547792378  3035950436684 2023-04-13 19:59:11   \n",
       "21098  92233720368547792379  3029954378356 2023-04-13 20:56:47   \n",
       "\n",
       "                updatedat       answeredinround       pair  decimals  \n",
       "0     2021-12-31 22:13:16  92233720368547771281  BTC / USD         8  \n",
       "1     2021-12-31 22:55:11  92233720368547771282  BTC / USD         8  \n",
       "2     2021-12-31 23:56:36  92233720368547771283  BTC / USD         8  \n",
       "3     2022-01-01 00:42:51  92233720368547771284  BTC / USD         8  \n",
       "4     2022-01-01 00:56:01  92233720368547771285  BTC / USD         8  \n",
       "...                   ...                   ...        ...       ...  \n",
       "21094 2023-04-13 17:55:47  92233720368547792375  BTC / USD         8  \n",
       "21095 2023-04-13 18:55:47  92233720368547792376  BTC / USD         8  \n",
       "21096 2023-04-13 19:56:47  92233720368547792377  BTC / USD         8  \n",
       "21097 2023-04-13 19:59:11  92233720368547792378  BTC / USD         8  \n",
       "21098 2023-04-13 20:56:47  92233720368547792379  BTC / USD         8  \n",
       "\n",
       "[21099 rows x 7 columns]"
      ]
     },
     "execution_count": 10,
     "metadata": {},
     "output_type": "execute_result"
    }
   ],
   "source": [
    "df"
   ]
  },
  {
   "cell_type": "code",
   "execution_count": 12,
   "id": "136232d9",
   "metadata": {
    "ExecuteTime": {
     "end_time": "2023-04-14T02:11:38.881109Z",
     "start_time": "2023-04-14T02:11:38.747646Z"
    }
   },
   "outputs": [],
   "source": [
    "df['updatedAt'] = pd.to_datetime(df['updatedat'])\n",
    "df['startedat'] = pd.to_datetime(df['startedat'])"
   ]
  },
  {
   "cell_type": "code",
   "execution_count": 15,
   "id": "56ea87c6",
   "metadata": {
    "ExecuteTime": {
     "end_time": "2023-04-14T02:12:22.427202Z",
     "start_time": "2023-04-14T02:12:18.305612Z"
    },
    "run_control": {
     "marked": true
    }
   },
   "outputs": [
    {
     "name": "stderr",
     "output_type": "stream",
     "text": [
      "/usr/local/lib/python3.10/dist-packages/sklearn/base.py:439: UserWarning: X does not have valid feature names, but IsolationForest was fitted with feature names\n",
      "  warnings.warn(\n"
     ]
    }
   ],
   "source": [
    "#Choose the numeric columns for which you want to detect anomalies\n",
    "numeric_columns = df.select_dtypes(include=['number']).columns\n",
    "\n",
    "# Fit the Isolation Forest model on the selected columns\n",
    "model = IsolationForest(contamination=0.01)  # Adjust contamination parameter as needed\n",
    "model.fit(df[numeric_columns])\n",
    "\n",
    "# Get anomaly predictions\n",
    "anomaly_predictions = model.predict(df[numeric_columns])\n",
    "\n",
    "# Add a new column to the DataFrame indicating whether each row is an anomaly\n",
    "df['anomaly'] = anomaly_predictions"
   ]
  },
  {
   "cell_type": "code",
   "execution_count": 17,
   "id": "4e7f9cac",
   "metadata": {
    "ExecuteTime": {
     "end_time": "2023-04-14T02:12:46.882110Z",
     "start_time": "2023-04-14T02:12:46.809476Z"
    }
   },
   "outputs": [],
   "source": [
    "df = df.sort_values(by='updatedAt')\n",
    "df['color'] = df['anomaly'].apply(lambda x: 'red' if x == -1 else 'blue')"
   ]
  },
  {
   "cell_type": "code",
   "execution_count": 18,
   "id": "592a00f3",
   "metadata": {
    "ExecuteTime": {
     "end_time": "2023-04-14T02:14:17.189894Z",
     "start_time": "2023-04-14T02:13:30.663311Z"
    }
   },
   "outputs": [
    {
     "name": "stderr",
     "output_type": "stream",
     "text": [
      "/tmp/ipykernel_160/1739530397.py:5: UserWarning: The palette list has more values (2) than needed (1), which may not be intended.\n",
      "  line_plot = sns.lineplot(x='updatedAt', y='price', data=df, hue='color', palette=['blue', 'red'], legend=False)\n"
     ]
    },
    {
     "data": {
      "image/png": "[encoded data removed]",
      "text/plain": [
       "<Figure size 640x480 with 1 Axes>"
      ]
     },
     "metadata": {},
     "output_type": "display_data"
    }
   ],
   "source": [
    "# Set the Seaborn theme for a professional look\n",
    "sns.set_theme()\n",
    "\n",
    "# Create a line plot with the 'updatedAt' column on the x-axis and the 'price' column on the y-axis\n",
    "line_plot = sns.lineplot(x='updatedAt', y='price', data=df, hue='color', palette=['blue', 'red'], legend=False)\n",
    "line_plot.set(xlabel='Updated Time', ylabel='Price', title='Anomaly Detection (LOF)')\n",
    "\n",
    "# Add a legend\n",
    "plt.legend(title='Anomaly', title_fontsize='13', loc='upper left', labels=['Normal', 'Anomaly'], fontsize='12')\n",
    "\n",
    "# Show the plot\n",
    "plt.show()"
   ]
  },
  {
   "cell_type": "code",
   "execution_count": 19,
   "id": "33da0af4",
   "metadata": {
    "ExecuteTime": {
     "end_time": "2023-04-14T02:14:29.823778Z",
     "start_time": "2023-04-14T02:14:29.792184Z"
    }
   },
   "outputs": [],
   "source": [
    "anomalies = df.loc[df['anomaly'] == -1]"
   ]
  },
  {
   "cell_type": "code",
   "execution_count": 21,
   "id": "bc5b7dad",
   "metadata": {
    "ExecuteTime": {
     "end_time": "2023-04-14T02:15:52.126294Z",
     "start_time": "2023-04-14T02:14:46.089775Z"
    }
   },
   "outputs": [],
   "source": [
    "# Choose the numeric columns for which you want to detect anomalies\n",
    "numeric_columns = df.select_dtypes(include=['number']).columns\n",
    "\n",
    "# Fit the Local Outlier Factor model on the selected columns\n",
    "model = LocalOutlierFactor(n_neighbors=20, contamination=0.01)  # Adjust the parameters as needed\n",
    "anomaly_scores = model.fit_predict(df[numeric_columns])\n",
    "\n",
    "# Add a new column to the DataFrame indicating whether each row is an anomaly\n",
    "df['anomaly'] = anomaly_scores"
   ]
  },
  {
   "cell_type": "code",
   "execution_count": 23,
   "id": "80d86a21",
   "metadata": {
    "ExecuteTime": {
     "end_time": "2023-04-14T02:17:44.852242Z",
     "start_time": "2023-04-14T02:16:37.240072Z"
    }
   },
   "outputs": [
    {
     "name": "stdout",
     "output_type": "stream",
     "text": [
      "Number of duplicate records: 0\n",
      "Missing values:\n",
      "roundid            0\n",
      "price              0\n",
      "startedat          0\n",
      "updatedat          0\n",
      "answeredinround    0\n",
      "pair               0\n",
      "decimals           0\n",
      "updatedAt          0\n",
      "anomaly            0\n",
      "color              0\n",
      "dtype: int64\n",
      "Data types:\n",
      "roundid                    object\n",
      "price                      object\n",
      "startedat          datetime64[ns]\n",
      "updatedat          datetime64[ns]\n",
      "answeredinround            object\n",
      "pair                       object\n",
      "decimals                    int64\n",
      "updatedAt          datetime64[ns]\n",
      "anomaly                     int64\n",
      "color                      object\n",
      "dtype: object\n"
     ]
    },
    {
     "ename": "KeyboardInterrupt",
     "evalue": "",
     "output_type": "error",
     "traceback": [
      "\u001b[0;31m---------------------------------------------------------------------------\u001b[0m",
      "\u001b[0;31mKeyboardInterrupt\u001b[0m                         Traceback (most recent call last)",
      "Cell \u001b[0;32mIn[23], line 15\u001b[0m\n\u001b[1;32m     13\u001b[0m numeric_columns \u001b[38;5;241m=\u001b[39m df\u001b[38;5;241m.\u001b[39mselect_dtypes(include\u001b[38;5;241m=\u001b[39m[\u001b[38;5;124m'\u001b[39m\u001b[38;5;124mnumber\u001b[39m\u001b[38;5;124m'\u001b[39m])\u001b[38;5;241m.\u001b[39mcolumns\n\u001b[1;32m     14\u001b[0m model \u001b[38;5;241m=\u001b[39m LocalOutlierFactor(n_neighbors\u001b[38;5;241m=\u001b[39m\u001b[38;5;241m20\u001b[39m, contamination\u001b[38;5;241m=\u001b[39m\u001b[38;5;241m0.01\u001b[39m)  \u001b[38;5;66;03m# Adjust the parameters as needed\u001b[39;00m\n\u001b[0;32m---> 15\u001b[0m anomaly_scores \u001b[38;5;241m=\u001b[39m \u001b[43mmodel\u001b[49m\u001b[38;5;241;43m.\u001b[39;49m\u001b[43mfit_predict\u001b[49m\u001b[43m(\u001b[49m\u001b[43mdf\u001b[49m\u001b[43m[\u001b[49m\u001b[43mnumeric_columns\u001b[49m\u001b[43m]\u001b[49m\u001b[43m)\u001b[49m\n\u001b[1;32m     16\u001b[0m df[\u001b[38;5;124m'\u001b[39m\u001b[38;5;124moutlier\u001b[39m\u001b[38;5;124m'\u001b[39m] \u001b[38;5;241m=\u001b[39m anomaly_scores\n\u001b[1;32m     17\u001b[0m outliers \u001b[38;5;241m=\u001b[39m df\u001b[38;5;241m.\u001b[39mloc[df[\u001b[38;5;124m'\u001b[39m\u001b[38;5;124moutlier\u001b[39m\u001b[38;5;124m'\u001b[39m] \u001b[38;5;241m==\u001b[39m \u001b[38;5;241m-\u001b[39m\u001b[38;5;241m1\u001b[39m]\n",
      "File \u001b[0;32m/usr/local/lib/python3.10/dist-packages/sklearn/neighbors/_lof.py:257\u001b[0m, in \u001b[0;36mLocalOutlierFactor.fit_predict\u001b[0;34m(self, X, y)\u001b[0m\n\u001b[1;32m    233\u001b[0m \u001b[38;5;250m\u001b[39m\u001b[38;5;124;03m\"\"\"Fit the model to the training set X and return the labels.\u001b[39;00m\n\u001b[1;32m    234\u001b[0m \n\u001b[1;32m    235\u001b[0m \u001b[38;5;124;03m**Not available for novelty detection (when novelty is set to True).**\u001b[39;00m\n\u001b[0;32m   (...)\u001b[0m\n\u001b[1;32m    251\u001b[0m \u001b[38;5;124;03m    Returns -1 for anomalies/outliers and 1 for inliers.\u001b[39;00m\n\u001b[1;32m    252\u001b[0m \u001b[38;5;124;03m\"\"\"\u001b[39;00m\n\u001b[1;32m    254\u001b[0m \u001b[38;5;66;03m# As fit_predict would be different from fit.predict, fit_predict is\u001b[39;00m\n\u001b[1;32m    255\u001b[0m \u001b[38;5;66;03m# only available for outlier detection (novelty=False)\u001b[39;00m\n\u001b[0;32m--> 257\u001b[0m \u001b[38;5;28;01mreturn\u001b[39;00m \u001b[38;5;28;43mself\u001b[39;49m\u001b[38;5;241;43m.\u001b[39;49m\u001b[43mfit\u001b[49m\u001b[43m(\u001b[49m\u001b[43mX\u001b[49m\u001b[43m)\u001b[49m\u001b[38;5;241m.\u001b[39m_predict()\n",
      "File \u001b[0;32m/usr/local/lib/python3.10/dist-packages/sklearn/neighbors/_lof.py:290\u001b[0m, in \u001b[0;36mLocalOutlierFactor.fit\u001b[0;34m(self, X, y)\u001b[0m\n\u001b[1;32m    282\u001b[0m     warnings\u001b[38;5;241m.\u001b[39mwarn(\n\u001b[1;32m    283\u001b[0m         \u001b[38;5;124m\"\u001b[39m\u001b[38;5;124mn_neighbors (\u001b[39m\u001b[38;5;132;01m%s\u001b[39;00m\u001b[38;5;124m) is greater than the \u001b[39m\u001b[38;5;124m\"\u001b[39m\n\u001b[1;32m    284\u001b[0m         \u001b[38;5;124m\"\u001b[39m\u001b[38;5;124mtotal number of samples (\u001b[39m\u001b[38;5;132;01m%s\u001b[39;00m\u001b[38;5;124m). n_neighbors \u001b[39m\u001b[38;5;124m\"\u001b[39m\n\u001b[1;32m    285\u001b[0m         \u001b[38;5;124m\"\u001b[39m\u001b[38;5;124mwill be set to (n_samples - 1) for estimation.\u001b[39m\u001b[38;5;124m\"\u001b[39m\n\u001b[1;32m    286\u001b[0m         \u001b[38;5;241m%\u001b[39m (\u001b[38;5;28mself\u001b[39m\u001b[38;5;241m.\u001b[39mn_neighbors, n_samples)\n\u001b[1;32m    287\u001b[0m     )\n\u001b[1;32m    288\u001b[0m \u001b[38;5;28mself\u001b[39m\u001b[38;5;241m.\u001b[39mn_neighbors_ \u001b[38;5;241m=\u001b[39m \u001b[38;5;28mmax\u001b[39m(\u001b[38;5;241m1\u001b[39m, \u001b[38;5;28mmin\u001b[39m(\u001b[38;5;28mself\u001b[39m\u001b[38;5;241m.\u001b[39mn_neighbors, n_samples \u001b[38;5;241m-\u001b[39m \u001b[38;5;241m1\u001b[39m))\n\u001b[0;32m--> 290\u001b[0m \u001b[38;5;28mself\u001b[39m\u001b[38;5;241m.\u001b[39m_distances_fit_X_, _neighbors_indices_fit_X_ \u001b[38;5;241m=\u001b[39m \u001b[38;5;28;43mself\u001b[39;49m\u001b[38;5;241;43m.\u001b[39;49m\u001b[43mkneighbors\u001b[49m\u001b[43m(\u001b[49m\n\u001b[1;32m    291\u001b[0m \u001b[43m    \u001b[49m\u001b[43mn_neighbors\u001b[49m\u001b[38;5;241;43m=\u001b[39;49m\u001b[38;5;28;43mself\u001b[39;49m\u001b[38;5;241;43m.\u001b[39;49m\u001b[43mn_neighbors_\u001b[49m\n\u001b[1;32m    292\u001b[0m \u001b[43m\u001b[49m\u001b[43m)\u001b[49m\n\u001b[1;32m    294\u001b[0m \u001b[38;5;28;01mif\u001b[39;00m \u001b[38;5;28mself\u001b[39m\u001b[38;5;241m.\u001b[39m_fit_X\u001b[38;5;241m.\u001b[39mdtype \u001b[38;5;241m==\u001b[39m np\u001b[38;5;241m.\u001b[39mfloat32:\n\u001b[1;32m    295\u001b[0m     \u001b[38;5;28mself\u001b[39m\u001b[38;5;241m.\u001b[39m_distances_fit_X_ \u001b[38;5;241m=\u001b[39m \u001b[38;5;28mself\u001b[39m\u001b[38;5;241m.\u001b[39m_distances_fit_X_\u001b[38;5;241m.\u001b[39mastype(\n\u001b[1;32m    296\u001b[0m         \u001b[38;5;28mself\u001b[39m\u001b[38;5;241m.\u001b[39m_fit_X\u001b[38;5;241m.\u001b[39mdtype,\n\u001b[1;32m    297\u001b[0m         copy\u001b[38;5;241m=\u001b[39m\u001b[38;5;28;01mFalse\u001b[39;00m,\n\u001b[1;32m    298\u001b[0m     )\n",
      "File \u001b[0;32m/usr/local/lib/python3.10/dist-packages/sklearn/neighbors/_base.py:879\u001b[0m, in \u001b[0;36mKNeighborsMixin.kneighbors\u001b[0;34m(self, X, n_neighbors, return_distance)\u001b[0m\n\u001b[1;32m    873\u001b[0m     \u001b[38;5;28;01mif\u001b[39;00m issparse(X):\n\u001b[1;32m    874\u001b[0m         \u001b[38;5;28;01mraise\u001b[39;00m \u001b[38;5;167;01mValueError\u001b[39;00m(\n\u001b[1;32m    875\u001b[0m             \u001b[38;5;124m\"\u001b[39m\u001b[38;5;132;01m%s\u001b[39;00m\u001b[38;5;124m does not work with sparse matrices. Densify the data, \u001b[39m\u001b[38;5;124m\"\u001b[39m\n\u001b[1;32m    876\u001b[0m             \u001b[38;5;124m\"\u001b[39m\u001b[38;5;124mor set algorithm=\u001b[39m\u001b[38;5;124m'\u001b[39m\u001b[38;5;124mbrute\u001b[39m\u001b[38;5;124m'\u001b[39m\u001b[38;5;124m\"\u001b[39m\n\u001b[1;32m    877\u001b[0m             \u001b[38;5;241m%\u001b[39m \u001b[38;5;28mself\u001b[39m\u001b[38;5;241m.\u001b[39m_fit_method\n\u001b[1;32m    878\u001b[0m         )\n\u001b[0;32m--> 879\u001b[0m     chunked_results \u001b[38;5;241m=\u001b[39m \u001b[43mParallel\u001b[49m\u001b[43m(\u001b[49m\u001b[43mn_jobs\u001b[49m\u001b[43m,\u001b[49m\u001b[43m \u001b[49m\u001b[43mprefer\u001b[49m\u001b[38;5;241;43m=\u001b[39;49m\u001b[38;5;124;43m\"\u001b[39;49m\u001b[38;5;124;43mthreads\u001b[39;49m\u001b[38;5;124;43m\"\u001b[39;49m\u001b[43m)\u001b[49m\u001b[43m(\u001b[49m\n\u001b[1;32m    880\u001b[0m \u001b[43m        \u001b[49m\u001b[43mdelayed\u001b[49m\u001b[43m(\u001b[49m\u001b[43m_tree_query_parallel_helper\u001b[49m\u001b[43m)\u001b[49m\u001b[43m(\u001b[49m\n\u001b[1;32m    881\u001b[0m \u001b[43m            \u001b[49m\u001b[38;5;28;43mself\u001b[39;49m\u001b[38;5;241;43m.\u001b[39;49m\u001b[43m_tree\u001b[49m\u001b[43m,\u001b[49m\u001b[43m \u001b[49m\u001b[43mX\u001b[49m\u001b[43m[\u001b[49m\u001b[43ms\u001b[49m\u001b[43m]\u001b[49m\u001b[43m,\u001b[49m\u001b[43m \u001b[49m\u001b[43mn_neighbors\u001b[49m\u001b[43m,\u001b[49m\u001b[43m \u001b[49m\u001b[43mreturn_distance\u001b[49m\n\u001b[1;32m    882\u001b[0m \u001b[43m        \u001b[49m\u001b[43m)\u001b[49m\n\u001b[1;32m    883\u001b[0m \u001b[43m        \u001b[49m\u001b[38;5;28;43;01mfor\u001b[39;49;00m\u001b[43m \u001b[49m\u001b[43ms\u001b[49m\u001b[43m \u001b[49m\u001b[38;5;129;43;01min\u001b[39;49;00m\u001b[43m \u001b[49m\u001b[43mgen_even_slices\u001b[49m\u001b[43m(\u001b[49m\u001b[43mX\u001b[49m\u001b[38;5;241;43m.\u001b[39;49m\u001b[43mshape\u001b[49m\u001b[43m[\u001b[49m\u001b[38;5;241;43m0\u001b[39;49m\u001b[43m]\u001b[49m\u001b[43m,\u001b[49m\u001b[43m \u001b[49m\u001b[43mn_jobs\u001b[49m\u001b[43m)\u001b[49m\n\u001b[1;32m    884\u001b[0m \u001b[43m    \u001b[49m\u001b[43m)\u001b[49m\n\u001b[1;32m    885\u001b[0m \u001b[38;5;28;01melse\u001b[39;00m:\n\u001b[1;32m    886\u001b[0m     \u001b[38;5;28;01mraise\u001b[39;00m \u001b[38;5;167;01mValueError\u001b[39;00m(\u001b[38;5;124m\"\u001b[39m\u001b[38;5;124minternal: _fit_method not recognized\u001b[39m\u001b[38;5;124m\"\u001b[39m)\n",
      "File \u001b[0;32m/usr/local/lib/python3.10/dist-packages/sklearn/utils/parallel.py:63\u001b[0m, in \u001b[0;36mParallel.__call__\u001b[0;34m(self, iterable)\u001b[0m\n\u001b[1;32m     58\u001b[0m config \u001b[38;5;241m=\u001b[39m get_config()\n\u001b[1;32m     59\u001b[0m iterable_with_config \u001b[38;5;241m=\u001b[39m (\n\u001b[1;32m     60\u001b[0m     (_with_config(delayed_func, config), args, kwargs)\n\u001b[1;32m     61\u001b[0m     \u001b[38;5;28;01mfor\u001b[39;00m delayed_func, args, kwargs \u001b[38;5;129;01min\u001b[39;00m iterable\n\u001b[1;32m     62\u001b[0m )\n\u001b[0;32m---> 63\u001b[0m \u001b[38;5;28;01mreturn\u001b[39;00m \u001b[38;5;28;43msuper\u001b[39;49m\u001b[43m(\u001b[49m\u001b[43m)\u001b[49m\u001b[38;5;241;43m.\u001b[39;49m\u001b[38;5;21;43m__call__\u001b[39;49m\u001b[43m(\u001b[49m\u001b[43miterable_with_config\u001b[49m\u001b[43m)\u001b[49m\n",
      "File \u001b[0;32m/usr/local/lib/python3.10/dist-packages/joblib/parallel.py:1085\u001b[0m, in \u001b[0;36mParallel.__call__\u001b[0;34m(self, iterable)\u001b[0m\n\u001b[1;32m   1076\u001b[0m \u001b[38;5;28;01mtry\u001b[39;00m:\n\u001b[1;32m   1077\u001b[0m     \u001b[38;5;66;03m# Only set self._iterating to True if at least a batch\u001b[39;00m\n\u001b[1;32m   1078\u001b[0m     \u001b[38;5;66;03m# was dispatched. In particular this covers the edge\u001b[39;00m\n\u001b[0;32m   (...)\u001b[0m\n\u001b[1;32m   1082\u001b[0m     \u001b[38;5;66;03m# was very quick and its callback already dispatched all the\u001b[39;00m\n\u001b[1;32m   1083\u001b[0m     \u001b[38;5;66;03m# remaining jobs.\u001b[39;00m\n\u001b[1;32m   1084\u001b[0m     \u001b[38;5;28mself\u001b[39m\u001b[38;5;241m.\u001b[39m_iterating \u001b[38;5;241m=\u001b[39m \u001b[38;5;28;01mFalse\u001b[39;00m\n\u001b[0;32m-> 1085\u001b[0m     \u001b[38;5;28;01mif\u001b[39;00m \u001b[38;5;28;43mself\u001b[39;49m\u001b[38;5;241;43m.\u001b[39;49m\u001b[43mdispatch_one_batch\u001b[49m\u001b[43m(\u001b[49m\u001b[43miterator\u001b[49m\u001b[43m)\u001b[49m:\n\u001b[1;32m   1086\u001b[0m         \u001b[38;5;28mself\u001b[39m\u001b[38;5;241m.\u001b[39m_iterating \u001b[38;5;241m=\u001b[39m \u001b[38;5;28mself\u001b[39m\u001b[38;5;241m.\u001b[39m_original_iterator \u001b[38;5;129;01mis\u001b[39;00m \u001b[38;5;129;01mnot\u001b[39;00m \u001b[38;5;28;01mNone\u001b[39;00m\n\u001b[1;32m   1088\u001b[0m     \u001b[38;5;28;01mwhile\u001b[39;00m \u001b[38;5;28mself\u001b[39m\u001b[38;5;241m.\u001b[39mdispatch_one_batch(iterator):\n",
      "File \u001b[0;32m/usr/local/lib/python3.10/dist-packages/joblib/parallel.py:901\u001b[0m, in \u001b[0;36mParallel.dispatch_one_batch\u001b[0;34m(self, iterator)\u001b[0m\n\u001b[1;32m    899\u001b[0m     \u001b[38;5;28;01mreturn\u001b[39;00m \u001b[38;5;28;01mFalse\u001b[39;00m\n\u001b[1;32m    900\u001b[0m \u001b[38;5;28;01melse\u001b[39;00m:\n\u001b[0;32m--> 901\u001b[0m     \u001b[38;5;28;43mself\u001b[39;49m\u001b[38;5;241;43m.\u001b[39;49m\u001b[43m_dispatch\u001b[49m\u001b[43m(\u001b[49m\u001b[43mtasks\u001b[49m\u001b[43m)\u001b[49m\n\u001b[1;32m    902\u001b[0m     \u001b[38;5;28;01mreturn\u001b[39;00m \u001b[38;5;28;01mTrue\u001b[39;00m\n",
      "File \u001b[0;32m/usr/local/lib/python3.10/dist-packages/joblib/parallel.py:819\u001b[0m, in \u001b[0;36mParallel._dispatch\u001b[0;34m(self, batch)\u001b[0m\n\u001b[1;32m    817\u001b[0m \u001b[38;5;28;01mwith\u001b[39;00m \u001b[38;5;28mself\u001b[39m\u001b[38;5;241m.\u001b[39m_lock:\n\u001b[1;32m    818\u001b[0m     job_idx \u001b[38;5;241m=\u001b[39m \u001b[38;5;28mlen\u001b[39m(\u001b[38;5;28mself\u001b[39m\u001b[38;5;241m.\u001b[39m_jobs)\n\u001b[0;32m--> 819\u001b[0m     job \u001b[38;5;241m=\u001b[39m \u001b[38;5;28;43mself\u001b[39;49m\u001b[38;5;241;43m.\u001b[39;49m\u001b[43m_backend\u001b[49m\u001b[38;5;241;43m.\u001b[39;49m\u001b[43mapply_async\u001b[49m\u001b[43m(\u001b[49m\u001b[43mbatch\u001b[49m\u001b[43m,\u001b[49m\u001b[43m \u001b[49m\u001b[43mcallback\u001b[49m\u001b[38;5;241;43m=\u001b[39;49m\u001b[43mcb\u001b[49m\u001b[43m)\u001b[49m\n\u001b[1;32m    820\u001b[0m     \u001b[38;5;66;03m# A job can complete so quickly than its callback is\u001b[39;00m\n\u001b[1;32m    821\u001b[0m     \u001b[38;5;66;03m# called before we get here, causing self._jobs to\u001b[39;00m\n\u001b[1;32m    822\u001b[0m     \u001b[38;5;66;03m# grow. To ensure correct results ordering, .insert is\u001b[39;00m\n\u001b[1;32m    823\u001b[0m     \u001b[38;5;66;03m# used (rather than .append) in the following line\u001b[39;00m\n\u001b[1;32m    824\u001b[0m     \u001b[38;5;28mself\u001b[39m\u001b[38;5;241m.\u001b[39m_jobs\u001b[38;5;241m.\u001b[39minsert(job_idx, job)\n",
      "File \u001b[0;32m/usr/local/lib/python3.10/dist-packages/joblib/_parallel_backends.py:208\u001b[0m, in \u001b[0;36mSequentialBackend.apply_async\u001b[0;34m(self, func, callback)\u001b[0m\n\u001b[1;32m    206\u001b[0m \u001b[38;5;28;01mdef\u001b[39;00m \u001b[38;5;21mapply_async\u001b[39m(\u001b[38;5;28mself\u001b[39m, func, callback\u001b[38;5;241m=\u001b[39m\u001b[38;5;28;01mNone\u001b[39;00m):\n\u001b[1;32m    207\u001b[0m \u001b[38;5;250m    \u001b[39m\u001b[38;5;124;03m\"\"\"Schedule a func to be run\"\"\"\u001b[39;00m\n\u001b[0;32m--> 208\u001b[0m     result \u001b[38;5;241m=\u001b[39m \u001b[43mImmediateResult\u001b[49m\u001b[43m(\u001b[49m\u001b[43mfunc\u001b[49m\u001b[43m)\u001b[49m\n\u001b[1;32m    209\u001b[0m     \u001b[38;5;28;01mif\u001b[39;00m callback:\n\u001b[1;32m    210\u001b[0m         callback(result)\n",
      "File \u001b[0;32m/usr/local/lib/python3.10/dist-packages/joblib/_parallel_backends.py:597\u001b[0m, in \u001b[0;36mImmediateResult.__init__\u001b[0;34m(self, batch)\u001b[0m\n\u001b[1;32m    594\u001b[0m \u001b[38;5;28;01mdef\u001b[39;00m \u001b[38;5;21m__init__\u001b[39m(\u001b[38;5;28mself\u001b[39m, batch):\n\u001b[1;32m    595\u001b[0m     \u001b[38;5;66;03m# Don't delay the application, to avoid keeping the input\u001b[39;00m\n\u001b[1;32m    596\u001b[0m     \u001b[38;5;66;03m# arguments in memory\u001b[39;00m\n\u001b[0;32m--> 597\u001b[0m     \u001b[38;5;28mself\u001b[39m\u001b[38;5;241m.\u001b[39mresults \u001b[38;5;241m=\u001b[39m \u001b[43mbatch\u001b[49m\u001b[43m(\u001b[49m\u001b[43m)\u001b[49m\n",
      "File \u001b[0;32m/usr/local/lib/python3.10/dist-packages/joblib/parallel.py:288\u001b[0m, in \u001b[0;36mBatchedCalls.__call__\u001b[0;34m(self)\u001b[0m\n\u001b[1;32m    284\u001b[0m \u001b[38;5;28;01mdef\u001b[39;00m \u001b[38;5;21m__call__\u001b[39m(\u001b[38;5;28mself\u001b[39m):\n\u001b[1;32m    285\u001b[0m     \u001b[38;5;66;03m# Set the default nested backend to self._backend but do not set the\u001b[39;00m\n\u001b[1;32m    286\u001b[0m     \u001b[38;5;66;03m# change the default number of processes to -1\u001b[39;00m\n\u001b[1;32m    287\u001b[0m     \u001b[38;5;28;01mwith\u001b[39;00m parallel_backend(\u001b[38;5;28mself\u001b[39m\u001b[38;5;241m.\u001b[39m_backend, n_jobs\u001b[38;5;241m=\u001b[39m\u001b[38;5;28mself\u001b[39m\u001b[38;5;241m.\u001b[39m_n_jobs):\n\u001b[0;32m--> 288\u001b[0m         \u001b[38;5;28;01mreturn\u001b[39;00m [func(\u001b[38;5;241m*\u001b[39margs, \u001b[38;5;241m*\u001b[39m\u001b[38;5;241m*\u001b[39mkwargs)\n\u001b[1;32m    289\u001b[0m                 \u001b[38;5;28;01mfor\u001b[39;00m func, args, kwargs \u001b[38;5;129;01min\u001b[39;00m \u001b[38;5;28mself\u001b[39m\u001b[38;5;241m.\u001b[39mitems]\n",
      "File \u001b[0;32m/usr/local/lib/python3.10/dist-packages/joblib/parallel.py:288\u001b[0m, in \u001b[0;36m<listcomp>\u001b[0;34m(.0)\u001b[0m\n\u001b[1;32m    284\u001b[0m \u001b[38;5;28;01mdef\u001b[39;00m \u001b[38;5;21m__call__\u001b[39m(\u001b[38;5;28mself\u001b[39m):\n\u001b[1;32m    285\u001b[0m     \u001b[38;5;66;03m# Set the default nested backend to self._backend but do not set the\u001b[39;00m\n\u001b[1;32m    286\u001b[0m     \u001b[38;5;66;03m# change the default number of processes to -1\u001b[39;00m\n\u001b[1;32m    287\u001b[0m     \u001b[38;5;28;01mwith\u001b[39;00m parallel_backend(\u001b[38;5;28mself\u001b[39m\u001b[38;5;241m.\u001b[39m_backend, n_jobs\u001b[38;5;241m=\u001b[39m\u001b[38;5;28mself\u001b[39m\u001b[38;5;241m.\u001b[39m_n_jobs):\n\u001b[0;32m--> 288\u001b[0m         \u001b[38;5;28;01mreturn\u001b[39;00m [\u001b[43mfunc\u001b[49m\u001b[43m(\u001b[49m\u001b[38;5;241;43m*\u001b[39;49m\u001b[43margs\u001b[49m\u001b[43m,\u001b[49m\u001b[43m \u001b[49m\u001b[38;5;241;43m*\u001b[39;49m\u001b[38;5;241;43m*\u001b[39;49m\u001b[43mkwargs\u001b[49m\u001b[43m)\u001b[49m\n\u001b[1;32m    289\u001b[0m                 \u001b[38;5;28;01mfor\u001b[39;00m func, args, kwargs \u001b[38;5;129;01min\u001b[39;00m \u001b[38;5;28mself\u001b[39m\u001b[38;5;241m.\u001b[39mitems]\n",
      "File \u001b[0;32m/usr/local/lib/python3.10/dist-packages/sklearn/utils/parallel.py:123\u001b[0m, in \u001b[0;36m_FuncWrapper.__call__\u001b[0;34m(self, *args, **kwargs)\u001b[0m\n\u001b[1;32m    121\u001b[0m     config \u001b[38;5;241m=\u001b[39m {}\n\u001b[1;32m    122\u001b[0m \u001b[38;5;28;01mwith\u001b[39;00m config_context(\u001b[38;5;241m*\u001b[39m\u001b[38;5;241m*\u001b[39mconfig):\n\u001b[0;32m--> 123\u001b[0m     \u001b[38;5;28;01mreturn\u001b[39;00m \u001b[38;5;28;43mself\u001b[39;49m\u001b[38;5;241;43m.\u001b[39;49m\u001b[43mfunction\u001b[49m\u001b[43m(\u001b[49m\u001b[38;5;241;43m*\u001b[39;49m\u001b[43margs\u001b[49m\u001b[43m,\u001b[49m\u001b[43m \u001b[49m\u001b[38;5;241;43m*\u001b[39;49m\u001b[38;5;241;43m*\u001b[39;49m\u001b[43mkwargs\u001b[49m\u001b[43m)\u001b[49m\n",
      "File \u001b[0;32m/usr/local/lib/python3.10/dist-packages/sklearn/neighbors/_base.py:685\u001b[0m, in \u001b[0;36m_tree_query_parallel_helper\u001b[0;34m(tree, *args, **kwargs)\u001b[0m\n\u001b[1;32m    679\u001b[0m \u001b[38;5;28;01mdef\u001b[39;00m \u001b[38;5;21m_tree_query_parallel_helper\u001b[39m(tree, \u001b[38;5;241m*\u001b[39margs, \u001b[38;5;241m*\u001b[39m\u001b[38;5;241m*\u001b[39mkwargs):\n\u001b[1;32m    680\u001b[0m \u001b[38;5;250m    \u001b[39m\u001b[38;5;124;03m\"\"\"Helper for the Parallel calls in KNeighborsMixin.kneighbors.\u001b[39;00m\n\u001b[1;32m    681\u001b[0m \n\u001b[1;32m    682\u001b[0m \u001b[38;5;124;03m    The Cython method tree.query is not directly picklable by cloudpickle\u001b[39;00m\n\u001b[1;32m    683\u001b[0m \u001b[38;5;124;03m    under PyPy.\u001b[39;00m\n\u001b[1;32m    684\u001b[0m \u001b[38;5;124;03m    \"\"\"\u001b[39;00m\n\u001b[0;32m--> 685\u001b[0m     \u001b[38;5;28;01mreturn\u001b[39;00m \u001b[43mtree\u001b[49m\u001b[38;5;241;43m.\u001b[39;49m\u001b[43mquery\u001b[49m\u001b[43m(\u001b[49m\u001b[38;5;241;43m*\u001b[39;49m\u001b[43margs\u001b[49m\u001b[43m,\u001b[49m\u001b[43m \u001b[49m\u001b[38;5;241;43m*\u001b[39;49m\u001b[38;5;241;43m*\u001b[39;49m\u001b[43mkwargs\u001b[49m\u001b[43m)\u001b[49m\n",
      "\u001b[0;31mKeyboardInterrupt\u001b[0m: "
     ]
    }
   ],
   "source": [
    "print(f'Number of duplicate records: {df.duplicated().sum()}')\n",
    "df = df.drop_duplicates()\n",
    "\n",
    "print('Missing values:')\n",
    "print(df.isnull().sum())\n",
    "\n",
    "# Step 4: Check and correct data types\n",
    "print('Data types:')\n",
    "print(df.dtypes)\n",
    "df['updatedAt'] = pd.to_datetime(df['updatedAt'])\n",
    "\n",
    "# Step 5: Check for and handle outliers\n",
    "numeric_columns = df.select_dtypes(include=['number']).columns\n",
    "model = LocalOutlierFactor(n_neighbors=20, contamination=0.01)  # Adjust the parameters as needed\n",
    "anomaly_scores = model.fit_predict(df[numeric_columns])\n",
    "df['outlier'] = anomaly_scores\n",
    "outliers = df.loc[df['outlier'] == -1]\n",
    "print('Outliers:')\n",
    "print(outliers)"
   ]
  },
  {
   "cell_type": "code",
   "execution_count": 25,
   "id": "6ad6aa6e",
   "metadata": {
    "ExecuteTime": {
     "end_time": "2023-04-14T02:18:10.667053Z",
     "start_time": "2023-04-14T02:18:08.479978Z"
    }
   },
   "outputs": [
    {
     "data": {
      "image/png": "[encoded data removed]",
      "text/plain": [
       "<Figure size 1000x600 with 1 Axes>"
      ]
     },
     "metadata": {},
     "output_type": "display_data"
    }
   ],
   "source": [
    "# Create a plot\n",
    "fig, ax = plt.subplots(figsize=(10, 6))\n",
    "\n",
    "# Plot historical data\n",
    "ax.plot(history_df['updatedat'], history_df['price'], label='Historical Data', color='blue')\n",
    "\n",
    "# Plot real-time data\n",
    "ax.plot(real_time_df['updatedat'], real_time_df['price'], label='Real-Time Data', color='red')\n",
    "\n",
    "# Customize the plot\n",
    "ax.set_title('Cryptocurrency Prices')\n",
    "ax.set_xlabel('Date')\n",
    "ax.set_ylabel('Price (USD)')\n",
    "ax.legend()\n",
    "\n",
    "# Show the plot\n",
    "plt.show()"
   ]
  },
  {
   "cell_type": "code",
   "execution_count": null,
   "id": "c4d05767",
   "metadata": {},
   "outputs": [],
   "source": []
  }
 ],
 "metadata": {
  "kernelspec": {
   "display_name": "Python 3 (ipykernel)",
   "language": "python",
   "name": "python3"
  },
  "language_info": {
   "codemirror_mode": {
    "name": "ipython",
    "version": 3
   },
   "file_extension": ".py",
   "mimetype": "text/x-python",
   "name": "python",
   "nbconvert_exporter": "python",
   "pygments_lexer": "ipython3",
   "version": "3.10.6"
  },
  "toc": {
   "base_numbering": 1,
   "nav_menu": {},
   "number_sections": true,
   "sideBar": true,
   "skip_h1_title": false,
   "title_cell": "Table of Contents",
   "title_sidebar": "Contents",
   "toc_cell": false,
   "toc_position": {},
   "toc_section_display": true,
   "toc_window_display": false
  }
 },
 "nbformat": 4,
 "nbformat_minor": 5
}
