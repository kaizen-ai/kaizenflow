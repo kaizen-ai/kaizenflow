{
 "cells": [
  {
   "cell_type": "code",
   "execution_count": null,
   "id": "cfe10673",
   "metadata": {},
   "outputs": [],
   "source": [
    "import pyarrow as pa\n",
    "import pyarrow.dataset as ds\n",
    "import pyarrow.parquet as pq\n",
    "import pandas as pd\n",
    "import matplotlib.pyplot as plt\n",
    "import matplotlib.dates as mdates\n",
    "from datetime import datetime\n",
    "import warnings\n",
    "import numpy as np\n",
    "import matplotlib.patches as mpatches\n",
    "\n",
    "warnings.filterwarnings('ignore')\n",
    "\n",
    "file_name = \"./bulk.airflow.downloaded_1min.parquet.ohlcv.futures.v7.ccxt.binance.v1_0_0\"\n",
    "schema = None\n",
    "partitioning = ds.partitioning(schema, flavor=\"hive\")\n",
    "dataset = pq.ParquetDataset(\n",
    "    # Replace URI with path.\n",
    "    file_name,\n",
    "    #filesystem=filesystem,\n",
    "    #filters=filters,\n",
    "    partitioning=partitioning,\n",
    "    use_legacy_dataset=False,\n",
    ")\n",
    "# To read also the index we need to use `read_pandas()`, instead of\n",
    "# `read_table()`.\n",
    "# See https://arrow.apache.org/docs/python/parquet.html#reading-and-writing-single-files.\n",
    "columns = None\n",
    "table = dataset.read_pandas(columns=columns)\n",
    "df = table.to_pandas()\n",
    "\n",
    "\n"
   ]
  },
  {
   "cell_type": "code",
   "execution_count": null,
   "id": "b019a5c3",
   "metadata": {},
   "outputs": [],
   "source": [
    "bitcoin_2022_df = df.loc[(df['currency_pair'] == 'BTC_USDT') & (df['year'] == 2022)]"
   ]
  },
  {
   "cell_type": "code",
   "execution_count": null,
   "id": "db019151",
   "metadata": {},
   "outputs": [],
   "source": [
    "agg_data = bitcoin_2022_df.copy(deep = True)\n",
    "\n",
    "#strip only time when trying to aggregrate data for mean/median at each 15 min bin (not for intraday)\n",
    "t = [x.to_pydatetime().strftime(\"%H:%M:%S\") for x in agg_data.index] \n",
    "\n",
    "#have to do it this way since agg_data.index.time returns object, \n",
    "# so we use datetime however adds dummy date of 1990 thats okay for mean/median calculation\n",
    "agg_data.index = [datetime.strptime(x, '%H:%M:%S') for x in t]\n",
    "agg_data.index.name = 'timestamp'"
   ]
  },
  {
   "cell_type": "code",
   "execution_count": null,
   "id": "efa1da76",
   "metadata": {},
   "outputs": [],
   "source": [
    "#binning data using pd.Grouper into 15 min bins\n",
    "temp_sum = bitcoin_2022_df.groupby([pd.Grouper(level = 'timestamp', freq = '15Min')]).mean()\n",
    "temp_avg = agg_data.groupby([pd.Grouper(level = 'timestamp', freq = '15Min')]).mean()\n",
    "temp_median = agg_data.groupby([pd.Grouper(level = 'timestamp', freq = '15Min')]).median()\n",
    "\n",
    "#get each day in temp_sum\n",
    "unique_days = list(set(temp_sum.index.to_period('D').strftime('%Y-%m-%d')))\n",
    "\n",
    "time_only = temp_avg.index\n",
    "fig = plt.figure()\n",
    "ax = plt.gca()\n",
    "fig.set_figwidth(25)\n",
    "ax.xaxis.set_major_formatter(mdates.DateFormatter('%H:%M'))\n",
    "\n",
    "for day in unique_days:\n",
    "    plt.plot(time_only, temp_sum[day].volume, color = 'blue', linestyle = 'dashed', alpha = 0.2)\n",
    "    \n",
    "\n",
    "plt.plot(time_only, temp_avg.volume, color = 'green')\n",
    "plt.plot(time_only, temp_median.volume, color = 'red')  \n",
    "blue_patch = mpatches.Patch(color='blue', label='Intra-day')\n",
    "green_patch = mpatches.Patch(color='green', label='mean')\n",
    "red_patch = mpatches.Patch(color='red', label='median')\n",
    "ax.legend(handles=[blue_patch, green_patch, red_patch])\n",
    "plt.xticks(fontsize=8)\n",
    "ax.margins(x=0) \n",
    "    \n",
    "    \n",
    "\n",
    "\n",
    "\n",
    "   \n",
    "\n",
    "    \n",
    "\n",
    "    "
   ]
  },
  {
   "cell_type": "code",
   "execution_count": null,
   "id": "bf09e8b1",
   "metadata": {},
   "outputs": [],
   "source": []
  },
  {
   "cell_type": "code",
   "execution_count": null,
   "id": "ab034b15",
   "metadata": {},
   "outputs": [],
   "source": []
  },
  {
   "cell_type": "code",
   "execution_count": null,
   "id": "14cd6e02",
   "metadata": {},
   "outputs": [],
   "source": []
  }
 ],
 "metadata": {
  "kernelspec": {
   "display_name": "Python 3 (ipykernel)",
   "language": "python",
   "name": "python3"
  },
  "language_info": {
   "codemirror_mode": {
    "name": "ipython",
    "version": 3
   },
   "file_extension": ".py",
   "mimetype": "text/x-python",
   "name": "python",
   "nbconvert_exporter": "python",
   "pygments_lexer": "ipython3"
  }
 },
 "nbformat": 4,
 "nbformat_minor": 5
}
