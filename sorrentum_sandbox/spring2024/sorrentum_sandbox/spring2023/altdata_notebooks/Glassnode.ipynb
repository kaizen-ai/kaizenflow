{
 "cells": [
  {
   "cell_type": "markdown",
   "id": "3f1d939b",
   "metadata": {},
   "source": [
    "# Description"
   ]
  },
  {
   "cell_type": "markdown",
   "id": "3f5df888",
   "metadata": {},
   "source": [
    "This notebook examines free endpoints in Glassnode Studio.\n",
    "- Website: https://studio.glassnode.com/\n",
    "- API docs: https://docs.glassnode.com/basic-api/endpoints"
   ]
  },
  {
   "cell_type": "markdown",
   "id": "ba3c2477",
   "metadata": {},
   "source": [
    "# Imports"
   ]
  },
  {
   "cell_type": "code",
   "execution_count": null,
   "id": "b7ddff11",
   "metadata": {},
   "outputs": [],
   "source": [
    "import json\n",
    "import os\n",
    "\n",
    "import requests"
   ]
  },
  {
   "cell_type": "markdown",
   "id": "8f64104a",
   "metadata": {},
   "source": [
    "How to get the API keys:\n",
    "\n",
    "https://docs.glassnode.com/basic-api/api-key"
   ]
  },
  {
   "cell_type": "code",
   "execution_count": null,
   "id": "09fdfda0",
   "metadata": {},
   "outputs": [],
   "source": [
    "api_key = \"\""
   ]
  },
  {
   "cell_type": "markdown",
   "id": "48cda614",
   "metadata": {},
   "source": [
    "# Endpoints\n",
    "- Due to abundance of endpoints, only several will be provided for each category.\n",
    "- API endpoints available for the free tier can be found under Tier 1 Metrics at this address: https://studio.glassnode.com/catalog\n",
    "- For the free tier, the only time resolution available for bar data is 24 hours"
   ]
  },
  {
   "cell_type": "markdown",
   "id": "50e0f099",
   "metadata": {},
   "source": [
    "## Addresses\n",
    "https://docs.glassnode.com/basic-api/endpoints/addresses"
   ]
  },
  {
   "cell_type": "code",
   "execution_count": null,
   "id": "2ab60188",
   "metadata": {
    "run_control": {
     "marked": true
    }
   },
   "outputs": [],
   "source": [
    "# Active addresses.\n",
    "res = requests.get(\n",
    "    \"https://api.glassnode.com/v1/metrics/addresses/active_count\",\n",
    "    params={\"a\": \"BTC\", \"api_key\": api_key, \"timestamp_format\": \"humanized\"},\n",
    ")\n",
    "display(res.json()[-10:])\n",
    "display(res.json()[:10])"
   ]
  },
  {
   "cell_type": "code",
   "execution_count": null,
   "id": "0b258f6c",
   "metadata": {},
   "outputs": [],
   "source": [
    "# Sending addresses.\n",
    "res = requests.get(\n",
    "    \"https://api.glassnode.com/v1/metrics/addresses/sending_count\",\n",
    "    params={\"a\": \"BTC\", \"api_key\": api_key, \"timestamp_format\": \"humanized\"},\n",
    ")\n",
    "display(res.json()[-10:])"
   ]
  },
  {
   "cell_type": "markdown",
   "id": "4176388f",
   "metadata": {},
   "source": [
    "## Blockchain\n",
    "https://docs.glassnode.com/basic-api/endpoints/blockchain"
   ]
  },
  {
   "cell_type": "code",
   "execution_count": null,
   "id": "6fc55398",
   "metadata": {},
   "outputs": [],
   "source": [
    "# Blocks mined.\n",
    "res = requests.get(\n",
    "    \"https://api.glassnode.com/v1/metrics/blockchain/block_count\",\n",
    "    params={\"a\": \"BTC\", \"api_key\": api_key, \"timestamp_format\": \"humanized\"},\n",
    ")\n",
    "display(res.json()[-10:])"
   ]
  },
  {
   "cell_type": "code",
   "execution_count": null,
   "id": "f3046a5a",
   "metadata": {},
   "outputs": [],
   "source": [
    "# Block size (Mean).\n",
    "res = requests.get(\n",
    "    \"https://api.glassnode.com/v1/metrics/blockchain/block_size_mean\",\n",
    "    params={\"a\": \"BTC\", \"api_key\": api_key, \"timestamp_format\": \"humanized\"},\n",
    ")\n",
    "display(res.json()[-10:])"
   ]
  },
  {
   "cell_type": "code",
   "execution_count": null,
   "id": "c82e9eae",
   "metadata": {},
   "outputs": [],
   "source": [
    "# Block interval (Mean).\n",
    "res = requests.get(\n",
    "    \"https://api.glassnode.com/v1/metrics/blockchain/block_interval_mean\",\n",
    "    params={\"a\": \"BTC\", \"api_key\": api_key, \"timestamp_format\": \"humanized\"},\n",
    ")\n",
    "display(res.json()[-10:])"
   ]
  },
  {
   "cell_type": "code",
   "execution_count": null,
   "id": "9001a2df",
   "metadata": {},
   "outputs": [],
   "source": [
    "# UTXO Value Created (Total).\n",
    "res = requests.get(\n",
    "    \"https://api.glassnode.com/v1/metrics/blockchain/utxo_created_value_sum\",\n",
    "    params={\"a\": \"BTC\", \"api_key\": api_key, \"timestamp_format\": \"humanized\"},\n",
    ")\n",
    "display(res.json()[-10:])"
   ]
  },
  {
   "cell_type": "markdown",
   "id": "57e9ffcc",
   "metadata": {},
   "source": [
    "## Distribution\n",
    "https://docs.glassnode.com/basic-api/endpoints/distribution"
   ]
  },
  {
   "cell_type": "code",
   "execution_count": null,
   "id": "e1e9dc1c",
   "metadata": {},
   "outputs": [],
   "source": [
    "# Proof of reserve (current).\n",
    "res = requests.get(\n",
    "    \"https://api.glassnode.com/v1/metrics/distribution/proof_of_reserves_all_latest\",\n",
    "    params={\"a\": \"BTC\", \"api_key\": api_key, \"timestamp_format\": \"humanized\"},\n",
    ")\n",
    "display(res.json())"
   ]
  },
  {
   "cell_type": "code",
   "execution_count": null,
   "id": "6161d20b",
   "metadata": {},
   "outputs": [],
   "source": [
    "# Proof of reserve.\n",
    "res = requests.get(\n",
    "    \"https://api.glassnode.com/v1/metrics/distribution/proof_of_reserves\",\n",
    "    params={\"a\": \"BTC\", \"api_key\": api_key, \"timestamp_format\": \"humanized\"},\n",
    ")\n",
    "display(res.json()[-10:])"
   ]
  },
  {
   "cell_type": "markdown",
   "id": "089be08b",
   "metadata": {},
   "source": [
    "## ETH 2.0\n",
    "https://docs.glassnode.com/basic-api/endpoints/eth2"
   ]
  },
  {
   "cell_type": "code",
   "execution_count": null,
   "id": "773e733d",
   "metadata": {},
   "outputs": [],
   "source": [
    "# ETH 2.0 total number of deposits.\n",
    "res = requests.get(\n",
    "    \"https://api.glassnode.com/v1/metrics/eth2/staking_total_deposits_count\",\n",
    "    params={\"a\": \"BTC\", \"api_key\": api_key, \"timestamp_format\": \"humanized\"},\n",
    ")\n",
    "display(res.json()[-10:])"
   ]
  },
  {
   "cell_type": "code",
   "execution_count": null,
   "id": "fd40ee1d",
   "metadata": {},
   "outputs": [],
   "source": [
    "# ETH 2.0 total value staked.\n",
    "res = requests.get(\n",
    "    \"https://api.glassnode.com/v1/metrics/eth2/staking_total_volume_sum\",\n",
    "    params={\"a\": \"BTC\", \"api_key\": api_key, \"timestamp_format\": \"humanized\"},\n",
    ")\n",
    "display(res.json()[-10:])"
   ]
  },
  {
   "cell_type": "markdown",
   "id": "b3e9149a",
   "metadata": {},
   "source": [
    "## Fees\n",
    "https://docs.glassnode.com/basic-api/endpoints/fees"
   ]
  },
  {
   "cell_type": "code",
   "execution_count": null,
   "id": "69325c83",
   "metadata": {},
   "outputs": [],
   "source": [
    "# Fees (total).\n",
    "res = requests.get(\n",
    "    \"https://api.glassnode.com/v1/metrics/fees/volume_sum\",\n",
    "    params={\"a\": \"BTC\", \"api_key\": api_key, \"timestamp_format\": \"humanized\"},\n",
    ")\n",
    "display(res.json()[-10:])"
   ]
  },
  {
   "cell_type": "code",
   "execution_count": null,
   "id": "981778fd",
   "metadata": {},
   "outputs": [],
   "source": [
    "# Gas price (mean).\n",
    "res = requests.get(\n",
    "    \"https://api.glassnode.com/v1/metrics/fees/gas_price_mean\",\n",
    "    params={\"a\": \"ETH\", \"api_key\": api_key, \"timestamp_format\": \"humanized\"},\n",
    ")\n",
    "display(res.json()[-10:])"
   ]
  },
  {
   "cell_type": "code",
   "execution_count": null,
   "id": "87f268cc",
   "metadata": {},
   "outputs": [],
   "source": [
    "# Gas used (mean).\n",
    "res = requests.get(\n",
    "    \"https://api.glassnode.com/v1/metrics/fees/gas_used_mean\",\n",
    "    params={\"a\": \"ETH\", \"api_key\": api_key, \"timestamp_format\": \"humanized\"},\n",
    ")\n",
    "display(res.json()[-10:])"
   ]
  },
  {
   "cell_type": "markdown",
   "id": "03f65cfd",
   "metadata": {},
   "source": [
    "## Indicators\n",
    "https://docs.glassnode.com/basic-api/endpoints/indicators"
   ]
  },
  {
   "cell_type": "code",
   "execution_count": null,
   "id": "5cb294e4",
   "metadata": {},
   "outputs": [],
   "source": [
    "# SOPR.\n",
    "res = requests.get(\n",
    "    \"https://api.glassnode.com/v1/metrics/indicators/sopr\",\n",
    "    params={\"a\": \"BTC\", \"api_key\": api_key, \"timestamp_format\": \"humanized\"},\n",
    ")\n",
    "display(res.json()[-10:])"
   ]
  },
  {
   "cell_type": "code",
   "execution_count": null,
   "id": "3d6e82c4",
   "metadata": {},
   "outputs": [],
   "source": [
    "# Difficulty ribbon.\n",
    "res = requests.get(\n",
    "    \"https://api.glassnode.com/v1/metrics/indicators/difficulty_ribbon\",\n",
    "    params={\"a\": \"BTC\", \"api_key\": api_key, \"timestamp_format\": \"humanized\"},\n",
    ")\n",
    "display(res.json()[-10:])"
   ]
  },
  {
   "cell_type": "markdown",
   "id": "ab397c58",
   "metadata": {},
   "source": [
    "## Institutions\n",
    "https://docs.glassnode.com/basic-api/endpoints/institutions"
   ]
  },
  {
   "cell_type": "code",
   "execution_count": null,
   "id": "fcff9ac2",
   "metadata": {},
   "outputs": [],
   "source": [
    "# Purpose Bitcoin ETF holdings.\n",
    "res = requests.get(\n",
    "    \"https://api.glassnode.com/v1/metrics/institutions/purpose_etf_holdings_sum\",\n",
    "    params={\"a\": \"BTC\", \"api_key\": api_key, \"timestamp_format\": \"humanized\"},\n",
    ")\n",
    "display(res.json()[-10:])"
   ]
  },
  {
   "cell_type": "markdown",
   "id": "5d6fa3d1",
   "metadata": {},
   "source": [
    "## Market\n",
    "https://docs.glassnode.com/basic-api/endpoints/market"
   ]
  },
  {
   "cell_type": "code",
   "execution_count": null,
   "id": "3a3171d6",
   "metadata": {},
   "outputs": [],
   "source": [
    "# Market cap.\n",
    "res = requests.get(\n",
    "    \"https://api.glassnode.com/v1/metrics/market/marketcap_usd\",\n",
    "    params={\"a\": \"BTC\", \"api_key\": api_key, \"timestamp_format\": \"humanized\"},\n",
    ")\n",
    "display(res.json()[-10:])"
   ]
  },
  {
   "cell_type": "code",
   "execution_count": null,
   "id": "e731a14f",
   "metadata": {},
   "outputs": [],
   "source": [
    "# Price OHLC.\n",
    "res = requests.get(\n",
    "    \"https://api.glassnode.com/v1/metrics/market/price_usd_ohlc\",\n",
    "    params={\"a\": \"BTC\", \"api_key\": api_key, \"timestamp_format\": \"humanized\"},\n",
    ")\n",
    "display(res.json()[-10:])"
   ]
  },
  {
   "cell_type": "markdown",
   "id": "a9213b4e",
   "metadata": {},
   "source": [
    "## Mining\n",
    "https://docs.glassnode.com/basic-api/endpoints/mining"
   ]
  },
  {
   "cell_type": "code",
   "execution_count": null,
   "id": "22ebd6cc",
   "metadata": {},
   "outputs": [],
   "source": [
    "# Difficulty.\n",
    "res = requests.get(\n",
    "    \"https://api.glassnode.com/v1/metrics/mining/difficulty_latest\",\n",
    "    params={\"a\": \"BTC\", \"api_key\": api_key, \"timestamp_format\": \"humanized\"},\n",
    ")\n",
    "display(res.json()[-10:])"
   ]
  },
  {
   "cell_type": "code",
   "execution_count": null,
   "id": "1fbe0336",
   "metadata": {},
   "outputs": [],
   "source": [
    "# Hash Rate.\n",
    "res = requests.get(\n",
    "    \"https://api.glassnode.com/v1/metrics/mining/hash_rate_mean\",\n",
    "    params={\"a\": \"BTC\", \"api_key\": api_key, \"timestamp_format\": \"humanized\"},\n",
    ")\n",
    "display(res.json()[-10:])"
   ]
  },
  {
   "cell_type": "markdown",
   "id": "a1aa7ccb",
   "metadata": {},
   "source": [
    "## Protocols\n",
    "https://docs.glassnode.com/basic-api/endpoints/protocols"
   ]
  },
  {
   "cell_type": "code",
   "execution_count": null,
   "id": "059c002f",
   "metadata": {},
   "outputs": [],
   "source": [
    "# Uniswap liqudity.\n",
    "res = requests.get(\n",
    "    \"https://api.glassnode.com/v1/metrics/protocols/uniswap_liquidity_latest\",\n",
    "    params={\"a\": \"ETH\", \"api_key\": api_key, \"timestamp_format\": \"humanized\"},\n",
    ")\n",
    "display(res.json()[-10:])"
   ]
  },
  {
   "cell_type": "markdown",
   "id": "a32e893e",
   "metadata": {},
   "source": [
    "## Supply\n",
    "https://docs.glassnode.com/basic-api/endpoints/supply"
   ]
  },
  {
   "cell_type": "code",
   "execution_count": null,
   "id": "c389e020",
   "metadata": {},
   "outputs": [],
   "source": [
    "# Circulating supply.\n",
    "res = requests.get(\n",
    "    \"https://api.glassnode.com/v1/metrics/supply/current\",\n",
    "    params={\"a\": \"ETH\", \"api_key\": api_key, \"timestamp_format\": \"humanized\"},\n",
    ")\n",
    "display(res.json()[-10:])"
   ]
  },
  {
   "cell_type": "markdown",
   "id": "7912c2ca",
   "metadata": {},
   "source": [
    "## Transactions\n",
    "https://docs.glassnode.com/basic-api/endpoints/transactions"
   ]
  },
  {
   "cell_type": "code",
   "execution_count": null,
   "id": "f4387de0",
   "metadata": {},
   "outputs": [],
   "source": [
    "# Transaction counts.\n",
    "res = requests.get(\n",
    "    \"https://api.glassnode.com/v1/metrics/transactions/count\",\n",
    "    params={\"a\": \"ETH\", \"api_key\": api_key, \"timestamp_format\": \"humanized\"},\n",
    ")\n",
    "display(res.json()[-10:])"
   ]
  },
  {
   "cell_type": "code",
   "execution_count": null,
   "id": "a3787912",
   "metadata": {},
   "outputs": [],
   "source": [
    "# Transfer counts.\n",
    "res = requests.get(\n",
    "    \"https://api.glassnode.com/v1/metrics/transactions/transfers_count\",\n",
    "    params={\"a\": \"ETH\", \"api_key\": api_key, \"timestamp_format\": \"humanized\"},\n",
    ")\n",
    "display(res.json()[-10:])"
   ]
  },
  {
   "cell_type": "code",
   "execution_count": null,
   "id": "a2d64c44",
   "metadata": {},
   "outputs": [],
   "source": [
    "# Transaction size (mean).\n",
    "res = requests.get(\n",
    "    \"https://api.glassnode.com/v1/metrics/transactions/size_mean\",\n",
    "    params={\"a\": \"BTC\", \"api_key\": api_key, \"timestamp_format\": \"humanized\"},\n",
    ")\n",
    "display(res.json()[-10:])"
   ]
  },
  {
   "cell_type": "code",
   "execution_count": null,
   "id": "3371f6ac",
   "metadata": {},
   "outputs": [],
   "source": [
    "# Transfer size (mean).\n",
    "res = requests.get(\n",
    "    \"https://api.glassnode.com/v1/metrics/transactions/transfers_volume_mean\",\n",
    "    params={\"a\": \"BTC\", \"api_key\": api_key, \"timestamp_format\": \"humanized\"},\n",
    ")\n",
    "display(res.json()[-10:])"
   ]
  }
 ],
 "metadata": {
  "kernelspec": {
   "display_name": "Python 3 (ipykernel)",
   "language": "python",
   "name": "python3"
  },
  "language_info": {
   "codemirror_mode": {
    "name": "ipython",
    "version": 3
   },
   "file_extension": ".py",
   "mimetype": "text/x-python",
   "name": "python",
   "nbconvert_exporter": "python",
   "pygments_lexer": "ipython3"
  },
  "toc": {
   "base_numbering": 1,
   "nav_menu": {},
   "number_sections": true,
   "sideBar": true,
   "skip_h1_title": false,
   "title_cell": "Table of Contents",
   "title_sidebar": "Contents",
   "toc_cell": false,
   "toc_position": {},
   "toc_section_display": true,
   "toc_window_display": false
  }
 },
 "nbformat": 4,
 "nbformat_minor": 5
}
