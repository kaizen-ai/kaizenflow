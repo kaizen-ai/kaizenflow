{
 "cells": [
  {
   "cell_type": "markdown",
   "id": "da20f226",
   "metadata": {},
   "source": [
    "# Description"
   ]
  },
  {
   "cell_type": "markdown",
   "id": "79488afb",
   "metadata": {},
   "source": [
    "This notebook contains examples of the API endpoints for Coingecko.com.\n",
    "\n",
    "The API is accessed through an API wrapper `pycoingecko` (https://github.com/man-c/pycoingecko)."
   ]
  },
  {
   "cell_type": "markdown",
   "id": "f05213ef",
   "metadata": {},
   "source": [
    "# Imports"
   ]
  },
  {
   "cell_type": "markdown",
   "id": "f11eee3c",
   "metadata": {},
   "source": [
    "## Installing pycoingecko"
   ]
  },
  {
   "cell_type": "code",
   "execution_count": null,
   "id": "e98b95a0",
   "metadata": {},
   "outputs": [],
   "source": [
    "!sudo /bin/bash -c \"(source /venv/bin/activate; pip install --upgrade pip)\"\n",
    "!sudo /bin/bash -c \"(source /venv/bin/activate; pip install -U pycoingecko)\""
   ]
  },
  {
   "cell_type": "code",
   "execution_count": null,
   "id": "d35d9455",
   "metadata": {},
   "outputs": [],
   "source": [
    "import requests\n",
    "from pycoingecko import CoinGeckoAPI"
   ]
  },
  {
   "cell_type": "markdown",
   "id": "0e1fa948",
   "metadata": {},
   "source": [
    "# Examples of the free API endpoints"
   ]
  },
  {
   "cell_type": "markdown",
   "id": "68c5a87a",
   "metadata": {},
   "source": [
    "API reference: https://www.coingecko.com/en/api/documentation\n",
    "\n",
    "`pycoingecko` documentation: https://github.com/man-c/pycoingecko#api-documentation"
   ]
  },
  {
   "cell_type": "code",
   "execution_count": null,
   "id": "43e00ee4",
   "metadata": {},
   "outputs": [],
   "source": [
    "cg = CoinGeckoAPI()"
   ]
  },
  {
   "cell_type": "markdown",
   "id": "2b6422a4",
   "metadata": {},
   "source": [
    "## Getting a list of IDs"
   ]
  },
  {
   "cell_type": "markdown",
   "id": "485ab5cb",
   "metadata": {},
   "source": [
    "### Coins"
   ]
  },
  {
   "cell_type": "code",
   "execution_count": null,
   "id": "6733b932",
   "metadata": {},
   "outputs": [],
   "source": [
    "# Get IDs of supported coins.\n",
    "all_coins = cg.get_coins_list()\n",
    "print(len(all_coins))\n",
    "bitcoin = [c for c in all_coins if c[\"name\"].lower() == \"bitcoin\"][0]\n",
    "print(bitcoin)\n",
    "bitcoin_id = bitcoin[\"id\"]"
   ]
  },
  {
   "cell_type": "markdown",
   "id": "85f9056a",
   "metadata": {},
   "source": [
    "### Exchanges"
   ]
  },
  {
   "cell_type": "code",
   "execution_count": null,
   "id": "46985d7c",
   "metadata": {},
   "outputs": [],
   "source": [
    "# Get IDs of supported exchanges.\n",
    "all_exchanges = cg.get_exchanges_list()\n",
    "print(len(all_exchanges))\n",
    "print(all_exchanges[:3])\n",
    "binance_id = cg.get_exchanges_by_id(\"binance\")"
   ]
  },
  {
   "cell_type": "markdown",
   "id": "5fc4d191",
   "metadata": {},
   "source": [
    "## /simple"
   ]
  },
  {
   "cell_type": "code",
   "execution_count": null,
   "id": "bdbfebd6",
   "metadata": {
    "lines_to_next_cell": 2
   },
   "outputs": [],
   "source": [
    "supported_vs_currencies = cg.get_supported_vs_currencies()"
   ]
  },
  {
   "cell_type": "code",
   "execution_count": null,
   "id": "cd62106b",
   "metadata": {},
   "outputs": [],
   "source": [
    "usd_id = \"usd\""
   ]
  },
  {
   "cell_type": "code",
   "execution_count": null,
   "id": "1ab33828",
   "metadata": {},
   "outputs": [],
   "source": [
    "# Get full latest price data for BTC/USD.\n",
    "kwargs = {\n",
    "    \"include_market_cap\": True,\n",
    "    \"include_24hr_vol\": True,\n",
    "    \"include_24hr_change\": True,\n",
    "    \"include_last_updated_at\": True,\n",
    "}\n",
    "cg.get_price(bitcoin_id, usd_id, **kwargs)"
   ]
  },
  {
   "cell_type": "code",
   "execution_count": null,
   "id": "a2d96b18",
   "metadata": {},
   "outputs": [],
   "source": [
    "# Get ETH price given a contract address.\n",
    "eth_id = \"ethereum\"\n",
    "contract_address = \"0x1f9840a85d5af5bf1d1762f925bdaddc4201f984\"\n",
    "cg.get_token_price(eth_id, contract_address, usd_id, **kwargs)"
   ]
  },
  {
   "cell_type": "markdown",
   "id": "8ba7d4f6",
   "metadata": {},
   "source": [
    "## /coins"
   ]
  },
  {
   "cell_type": "code",
   "execution_count": null,
   "id": "4f38efbd",
   "metadata": {},
   "outputs": [],
   "source": [
    "kwargs = {\n",
    "    \"ids\": f\"{bitcoin_id},{eth_id}\",\n",
    "    \"per_page\": 10,\n",
    "    \"sparkline\": True,\n",
    "    \"price_change_percentage\": \"1h,24h\",\n",
    "}\n",
    "cg.get_coins_markets(usd_id, **kwargs)"
   ]
  },
  {
   "cell_type": "code",
   "execution_count": null,
   "id": "a93b4976",
   "metadata": {},
   "outputs": [],
   "source": [
    "# Get metadata and market data for BTC.\n",
    "kwargs = {\"sparkline\": True}\n",
    "coin_by_id = cg.get_coin_by_id(bitcoin_id, **kwargs)\n",
    "coin_by_id.keys()"
   ]
  },
  {
   "cell_type": "code",
   "execution_count": null,
   "id": "c1675324",
   "metadata": {
    "run_control": {
     "marked": true
    }
   },
   "outputs": [],
   "source": [
    "# Get ticker for BTC.\n",
    "tickers = cg.get_coin_ticker_by_id(bitcoin_id)\n",
    "print(tickers.keys())\n",
    "tickers[\"tickers\"][:2]"
   ]
  },
  {
   "cell_type": "code",
   "execution_count": null,
   "id": "b1bde8eb",
   "metadata": {},
   "outputs": [],
   "source": [
    "# Get metadata and historical data for BTC/USD on 01-01-2021.\n",
    "kwargs = {\"localization\": False}\n",
    "date = \"01-01-2021\"\n",
    "cg.get_coin_history_by_id(bitcoin_id, date, **kwargs)"
   ]
  },
  {
   "cell_type": "code",
   "execution_count": null,
   "id": "f2983091",
   "metadata": {},
   "outputs": [],
   "source": [
    "# Get BTC/USD market chart for a single day.\n",
    "days = 1\n",
    "cg.get_coin_market_chart_by_id(bitcoin_id, usd_id, days)"
   ]
  },
  {
   "cell_type": "code",
   "execution_count": null,
   "id": "463395da",
   "metadata": {},
   "outputs": [],
   "source": [
    "# Get BTC/USD market_chart since 01-22-2020 to 01-27-2020.\n",
    "from_timestamp = 1579726800\n",
    "to_timestamp = 1580158800\n",
    "cg.get_coin_market_chart_range_by_id(\n",
    "    bitcoin_id, usd_id, from_timestamp, to_timestamp\n",
    ")"
   ]
  },
  {
   "cell_type": "code",
   "execution_count": null,
   "id": "9a1395fe",
   "metadata": {},
   "outputs": [],
   "source": [
    "# Get OHLC for BTC/USD for 1 day.\n",
    "days = 1\n",
    "cg.get_coin_ohlc_by_id(bitcoin_id, usd_id, days)"
   ]
  },
  {
   "cell_type": "markdown",
   "id": "2bed2d56",
   "metadata": {},
   "source": [
    "### Commentary"
   ]
  },
  {
   "cell_type": "markdown",
   "id": "dbfd216b",
   "metadata": {},
   "source": [
    "- CoinGecko provides quasi-real-time data which is updated online; the concrete way the resampling for prices works is unclear, however, we know that `volume` the cumulative. The delay between data updates is still to be determined.\n",
    "- It is possible to get many kinds of historic data, but granularity becomes larger and larger the farther in the past the requested dates are. It is unclear whether this can be fixed by purchasing a Pro account, but the probability is low.\n",
    "- For further endpoints, there will be only 1 represented for each category. The structure is almost the same throughout:\n",
    "   - endpoints for quasi-real-time data by ID (see `get_price`)\n",
    "   - endpoints for historical data (see `get_coin_history_by_id`)\n",
    "   - endpoints for lists of IDs (see `get_exchanges_list`)\n",
    "   - The data that can be received are prices, market charts and various metadata on coins and exchanges.\n",
    "- The user may consult the extensive documentation by both CoinGecko and the `pycoingecko` library."
   ]
  },
  {
   "cell_type": "markdown",
   "id": "15f1a421",
   "metadata": {},
   "source": [
    "## /contract"
   ]
  },
  {
   "cell_type": "code",
   "execution_count": null,
   "id": "323e1376",
   "metadata": {
    "run_control": {
     "marked": true
    }
   },
   "outputs": [],
   "source": [
    "# Get market chart for 1 day, ETH/USD, based on contract address.\n",
    "contract_address = \"0x1f9840a85d5af5bf1d1762f925bdaddc4201f984\"\n",
    "days = 1\n",
    "market_chart = cg.get_coin_market_chart_from_contract_address_by_id(\n",
    "    eth_id, \"0x1f9840a85d5af5bf1d1762f925bdaddc4201f984\", usd_id, days\n",
    ")\n",
    "print(market_chart.keys())\n",
    "print(market_chart[\"prices\"][:2])\n",
    "print(market_chart[\"market_caps\"][:2])\n",
    "print(market_chart[\"total_volumes\"][:2])"
   ]
  },
  {
   "cell_type": "markdown",
   "id": "52b5eaa6",
   "metadata": {},
   "source": [
    "## /asset_platforms"
   ]
  },
  {
   "cell_type": "code",
   "execution_count": null,
   "id": "8f7a6065",
   "metadata": {},
   "outputs": [],
   "source": [
    "# Get list of supported Blockchain networks.\n",
    "cg.get_asset_platforms()[:3]"
   ]
  },
  {
   "cell_type": "markdown",
   "id": "e7c7f648",
   "metadata": {},
   "source": [
    "## /categories"
   ]
  },
  {
   "cell_type": "code",
   "execution_count": null,
   "id": "61a4e040",
   "metadata": {},
   "outputs": [],
   "source": [
    "# Get all supported categories of coins with market information.\n",
    "cg.get_coins_categories()[:2]"
   ]
  },
  {
   "cell_type": "markdown",
   "id": "3cba6cce",
   "metadata": {},
   "source": [
    "## /exchanges"
   ]
  },
  {
   "cell_type": "code",
   "execution_count": null,
   "id": "cdeb8430",
   "metadata": {},
   "outputs": [],
   "source": [
    "# Get 100 tickers from Binance exchange.\n",
    "#  Note: does not work due to 414 error below, looks like a failure of the python lib.\n",
    "#  This holds for all endpoints in `exchanges` category.\n",
    "kwargs = {\"coin_ids\": f\"{bitcoin_id},{eth_id}\", \"page\": 1}\n",
    "cg.get_exchanges_tickers_by_id(binance_id, **kwargs)"
   ]
  },
  {
   "cell_type": "code",
   "execution_count": null,
   "id": "10261b74",
   "metadata": {
    "run_control": {
     "marked": true
    }
   },
   "outputs": [],
   "source": [
    "# Trying access via `requests`.\n",
    "endpoint_url = \"http://api.coingecko.com/api/v3/exchanges/binance/tickers/\"\n",
    "response = requests.get(endpoint_url)\n",
    "data = response.json()\n",
    "print(data.keys())\n",
    "data[\"tickers\"][:3]"
   ]
  },
  {
   "cell_type": "markdown",
   "id": "83a9e482",
   "metadata": {},
   "source": [
    "## /indexes"
   ]
  },
  {
   "cell_type": "code",
   "execution_count": null,
   "id": "a7284615",
   "metadata": {
    "lines_to_next_cell": 2,
    "run_control": {
     "marked": true
    }
   },
   "outputs": [],
   "source": [
    "# Get a list of indexes.\n",
    "cg.get_indexes()[10:15]"
   ]
  },
  {
   "cell_type": "code",
   "execution_count": null,
   "id": "03878587",
   "metadata": {
    "run_control": {
     "marked": true
    }
   },
   "outputs": [],
   "source": [
    "# Also returns a `414` error.\n",
    "# cg.get_indexes_by_market_id_and_index_id(binance_id, \"ADA\")"
   ]
  },
  {
   "cell_type": "code",
   "execution_count": null,
   "id": "67e36651",
   "metadata": {},
   "outputs": [],
   "source": [
    "# Get price info on MOB index for FTX Derivatives.\n",
    "endpoint_url = \"http://api.coingecko.com/api/v3/indexes/ftx/MOB/\"\n",
    "response = requests.get(endpoint_url)\n",
    "print(response)\n",
    "data = response.json()\n",
    "data"
   ]
  },
  {
   "cell_type": "markdown",
   "id": "ccf06f2b",
   "metadata": {},
   "source": [
    "## /derivatives"
   ]
  },
  {
   "cell_type": "code",
   "execution_count": null,
   "id": "5a2fd8c0",
   "metadata": {
    "lines_to_next_cell": 2
   },
   "outputs": [],
   "source": [
    "# Get a list of derivatives with price and other data.\n",
    "cg.get_derivatives()[:3]"
   ]
  },
  {
   "cell_type": "code",
   "execution_count": null,
   "id": "f28afea7",
   "metadata": {
    "lines_to_next_cell": 2
   },
   "outputs": [],
   "source": [
    "kwargs = {\"include_tickers\": \"all\"}\n",
    "\n",
    "derivatives = cg.get_derivatives_exchanges_by_id(\"bitmex\", **kwargs)\n",
    "print(derivatives.keys())\n",
    "derivatives[\"tickers\"][:3]"
   ]
  },
  {
   "cell_type": "markdown",
   "id": "cdd52060",
   "metadata": {},
   "source": [
    "## /trending"
   ]
  },
  {
   "cell_type": "code",
   "execution_count": null,
   "id": "14f4ade4",
   "metadata": {
    "lines_to_next_cell": 2
   },
   "outputs": [],
   "source": [
    "# Get 7 most searched coins in the last 24 hours.\n",
    "cg.get_search_trending()"
   ]
  },
  {
   "cell_type": "markdown",
   "id": "e690df1c",
   "metadata": {},
   "source": [
    "## /global"
   ]
  },
  {
   "cell_type": "code",
   "execution_count": null,
   "id": "a38c70f5",
   "metadata": {},
   "outputs": [],
   "source": [
    "# Get Top 100 Cryptocurrency Global Eecentralized Finance(defi) data.\n",
    "cg.get_global_decentralized_finance_defi()"
   ]
  },
  {
   "cell_type": "markdown",
   "id": "fa254dd7",
   "metadata": {},
   "source": [
    "## /companies"
   ]
  },
  {
   "cell_type": "code",
   "execution_count": null,
   "id": "af3b8a4d",
   "metadata": {
    "run_control": {
     "marked": true
    }
   },
   "outputs": [],
   "source": [
    "# Get Bitcoin holdings by companies.\n",
    "public_treasury = cg.get_companies_public_treasury_by_coin_id(bitcoin_id)\n",
    "print(public_treasury.keys())\n",
    "public_treasury[\"companies\"][:3]"
   ]
  }
 ],
 "metadata": {
  "kernelspec": {
   "display_name": "Python 3 (ipykernel)",
   "language": "python",
   "name": "python3"
  },
  "language_info": {
   "codemirror_mode": {
    "name": "ipython",
    "version": 3
   },
   "file_extension": ".py",
   "mimetype": "text/x-python",
   "name": "python",
   "nbconvert_exporter": "python",
   "pygments_lexer": "ipython3"
  },
  "toc": {
   "base_numbering": 1,
   "nav_menu": {},
   "number_sections": true,
   "sideBar": true,
   "skip_h1_title": false,
   "title_cell": "Table of Contents",
   "title_sidebar": "Contents",
   "toc_cell": false,
   "toc_position": {},
   "toc_section_display": true,
   "toc_window_display": false
  }
 },
 "nbformat": 4,
 "nbformat_minor": 5
}
