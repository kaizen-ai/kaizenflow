{
 "cells": [
  {
   "cell_type": "markdown",
   "id": "799e4208",
   "metadata": {},
   "source": [
    "Review of the Coin Market Cap API endpoints availiable on `basic` plan:\n",
    "\n",
    "* v1/cryptocurrency/categories\n",
    "* v1/cryptocurrency/category\n",
    "* v1/cryptocurrency/map\n",
    "* v2/cryptocurrency/info\n",
    "* v1/cryptocurrency/listings/latest\n",
    "* v2/cryptocurrency/quotes/latest\n",
    "* v1/fiat/map\n",
    "* v1/exchange/assets\n",
    "* v1/global-metrics/quotes/latest"
   ]
  },
  {
   "cell_type": "markdown",
   "id": "76ab9f2d",
   "metadata": {},
   "source": [
    "# Imports"
   ]
  },
  {
   "cell_type": "code",
   "execution_count": null,
   "id": "6a6a2993",
   "metadata": {},
   "outputs": [],
   "source": [
    "import json\n",
    "import os\n",
    "from typing import Dict\n",
    "\n",
    "from requests import Session\n",
    "from requests.exceptions import ConnectionError, Timeout, TooManyRedirects"
   ]
  },
  {
   "cell_type": "markdown",
   "id": "d1867002",
   "metadata": {},
   "source": [
    "# Set-up"
   ]
  },
  {
   "cell_type": "code",
   "execution_count": null,
   "id": "8f888620",
   "metadata": {},
   "outputs": [],
   "source": [
    "key = \"6714e467-49e5-49bc-9484-30a6331d6fb3\"\n",
    "api_url = \"https://sandbox-api.coinmarketcap.com\""
   ]
  },
  {
   "cell_type": "code",
   "execution_count": null,
   "id": "29dbbae2",
   "metadata": {},
   "outputs": [],
   "source": [
    "headers = {\n",
    "    \"Accepts\": \"application/json\",\n",
    "    \"X-CMC_PRO_API_KEY\": key,\n",
    "}\n",
    "\n",
    "session = Session()\n",
    "session.headers.update(headers)"
   ]
  },
  {
   "cell_type": "code",
   "execution_count": null,
   "id": "e233ef74",
   "metadata": {},
   "outputs": [],
   "source": [
    "def get_data(session: Session, url: str, params: Dict[str, str]):\n",
    "    \"\"\"\n",
    "    Make query to API endpoint.\n",
    "    \"\"\"\n",
    "    try:\n",
    "        response = session.get(url, params=parameters)\n",
    "        data = json.loads(response.text)\n",
    "        return data\n",
    "    except (ConnectionError, Timeout, TooManyRedirects) as e:\n",
    "        return e"
   ]
  },
  {
   "cell_type": "markdown",
   "id": "d4cfcb8f",
   "metadata": {},
   "source": [
    "# Cryptocurrency API access"
   ]
  },
  {
   "cell_type": "markdown",
   "id": "839ee002",
   "metadata": {},
   "source": [
    "**/categories**"
   ]
  },
  {
   "cell_type": "markdown",
   "id": "b1c502a6",
   "metadata": {},
   "source": [
    "Returns information about all coin categories available on CoinMarketCap. Includes a paginated list of cryptocurrency quotes and metadata from each category."
   ]
  },
  {
   "cell_type": "code",
   "execution_count": null,
   "id": "bfe74c25",
   "metadata": {},
   "outputs": [],
   "source": [
    "url = os.path.join(api_url, \"v1/cryptocurrency/categories\")\n",
    "parameters = {\"start\": \"1\", \"limit\": \"5000\", \"symbol\": \"ETH,BTC\"}\n",
    "\n",
    "data = get_data(session, url, parameters)\n",
    "data"
   ]
  },
  {
   "cell_type": "markdown",
   "id": "9316fbcd",
   "metadata": {},
   "source": [
    "**/category**"
   ]
  },
  {
   "cell_type": "markdown",
   "id": "873abff2",
   "metadata": {},
   "source": [
    "Returns information about a single coin category available on CoinMarketCap. Includes a paginated list of the cryptocurrency quotes and metadata for the category."
   ]
  },
  {
   "cell_type": "code",
   "execution_count": null,
   "id": "e9d3f43a",
   "metadata": {},
   "outputs": [],
   "source": [
    "url = os.path.join(api_url, \"v1/cryptocurrency/category\")\n",
    "parameters = {\"id\": \"qisclrimb\", \"start\": \"1\", \"limit\": \"100\"}\n",
    "\n",
    "data = get_data(session, url, parameters)\n",
    "data"
   ]
  },
  {
   "cell_type": "markdown",
   "id": "9af7c417",
   "metadata": {},
   "source": [
    "**/map**"
   ]
  },
  {
   "cell_type": "markdown",
   "id": "56b706b5",
   "metadata": {},
   "source": [
    "Returns a mapping of all cryptocurrencies to unique CoinMarketCap ids. By default this endpoint returns cryptocurrencies that have actively tracked markets on supported exchanges."
   ]
  },
  {
   "cell_type": "code",
   "execution_count": null,
   "id": "ff59b941",
   "metadata": {},
   "outputs": [],
   "source": [
    "url = os.path.join(api_url, \"v1/cryptocurrency/map\")\n",
    "parameters = {\"start\": \"1\", \"limit\": \"5000\", \"sort\": \"id\", \"symbol\": \"ETH,BTC\"}\n",
    "\n",
    "data = get_data(session, url, parameters)\n",
    "data"
   ]
  },
  {
   "cell_type": "markdown",
   "id": "27c956a9",
   "metadata": {},
   "source": [
    "It looks like `name`, `symbol`, `slug` and other string typed values are encrypted, I'll figure out what it is."
   ]
  },
  {
   "cell_type": "markdown",
   "id": "5a3bafd8",
   "metadata": {},
   "source": [
    "**/info**"
   ]
  },
  {
   "cell_type": "markdown",
   "id": "bcd0bfab",
   "metadata": {},
   "source": [
    "Returns all static metadata available for one or more cryptocurrencies. This information includes details like logo, description, official website URL, social links, and links to a cryptocurrency's technical documentation."
   ]
  },
  {
   "cell_type": "code",
   "execution_count": null,
   "id": "86ebe3f4",
   "metadata": {},
   "outputs": [],
   "source": [
    "url = os.path.join(api_url, \"v2/cryptocurrency/info\")\n",
    "parameters = {\"symbol\": \"ETH,BTC\"}\n",
    "\n",
    "data = get_data(session, url, parameters)\n",
    "data"
   ]
  },
  {
   "cell_type": "markdown",
   "id": "a67ca48c",
   "metadata": {},
   "source": [
    "**/listings/latest**"
   ]
  },
  {
   "cell_type": "markdown",
   "id": "e553ba4e",
   "metadata": {},
   "source": [
    "Returns a paginated list of all active cryptocurrencies with latest market data. The default \"market_cap\" sort returns cryptocurrency in order of CoinMarketCap's market cap rank (as outlined in our methodology) but it may be configured  to order by another market ranking field. \"convert\" option is used to return market values in multiple fiat and cryptocurrency conversions in the same call."
   ]
  },
  {
   "cell_type": "code",
   "execution_count": null,
   "id": "f6f3ec20",
   "metadata": {
    "lines_to_next_cell": 2
   },
   "outputs": [],
   "source": [
    "url = os.path.join(api_url, \"v1/cryptocurrency/listings/latest\")\n",
    "parameters = {\n",
    "    \"start\": \"1\",\n",
    "    \"limit\": \"5000\",\n",
    "    \"convert\": \"USD\",\n",
    "    \"market_cap_min\": 10000000000000,\n",
    "    \"market_cap_max\": 9000000000000000,\n",
    "}\n",
    "\n",
    "data = get_data(session, url, parameters)\n",
    "data"
   ]
  },
  {
   "cell_type": "markdown",
   "id": "dfe41566",
   "metadata": {},
   "source": [
    "**/quotes/latest**"
   ]
  },
  {
   "cell_type": "markdown",
   "id": "4c32995a",
   "metadata": {},
   "source": [
    "Returns the latest market quote for 1 or more cryptocurrencies. \"convert\" is used option to return market values in multiple fiat and cryptocurrency conversions in the same call."
   ]
  },
  {
   "cell_type": "code",
   "execution_count": null,
   "id": "75a23a1d",
   "metadata": {},
   "outputs": [],
   "source": [
    "url = os.path.join(api_url, \"v2/cryptocurrency/quotes/latest\")\n",
    "parameters = {\"convert\": \"USD\", \"symbol\": \"ETH,BTC\"}\n",
    "\n",
    "data = get_data(session, url, parameters)\n",
    "data"
   ]
  },
  {
   "cell_type": "markdown",
   "id": "3c4be3d2",
   "metadata": {},
   "source": [
    "# Fiat API access"
   ]
  },
  {
   "cell_type": "markdown",
   "id": "86a50bef",
   "metadata": {},
   "source": [
    "Returns a mapping of all supported fiat currencies to unique CoinMarketCap ids."
   ]
  },
  {
   "cell_type": "code",
   "execution_count": null,
   "id": "fac8d55f",
   "metadata": {},
   "outputs": [],
   "source": [
    "url = os.path.join(api_url, \"v1/fiat/map\")\n",
    "parameters = {\"start\": \"1\", \"limit\": \"5000\"}\n",
    "\n",
    "data = get_data(session, url, parameters)\n",
    "data"
   ]
  },
  {
   "cell_type": "markdown",
   "id": "0cb18d6c",
   "metadata": {},
   "source": [
    "# Exchange API access"
   ]
  },
  {
   "cell_type": "markdown",
   "id": "e69ff7a3",
   "metadata": {},
   "source": [
    "Returns the exchange assets in the form of token holdings. This information includes details like wallet address, cryptocurrency, blockchain platform, balance, and etc."
   ]
  },
  {
   "cell_type": "code",
   "execution_count": null,
   "id": "82e7ca6b",
   "metadata": {},
   "outputs": [],
   "source": [
    "url = os.path.join(api_url, \"v1/exchange/assets\")\n",
    "parameters = {\"id\": \"270\"}  # CoinMarketCap exchange ID for binance\n",
    "\n",
    "data = get_data(session, url, parameters)\n",
    "data"
   ]
  },
  {
   "cell_type": "markdown",
   "id": "3ff24054",
   "metadata": {},
   "source": [
    "# Global Market API access"
   ]
  },
  {
   "cell_type": "markdown",
   "id": "be89b234",
   "metadata": {},
   "source": [
    "Returns the latest global cryptocurrency market metrics. Use the \"convert\" option to return market values in multiple fiat and cryptocurrency conversions in the same call."
   ]
  },
  {
   "cell_type": "code",
   "execution_count": null,
   "id": "633feab1",
   "metadata": {},
   "outputs": [],
   "source": [
    "url = os.path.join(api_url, \"v1/global-metrics/quotes/latest\")\n",
    "parameters = {\"convert\": \"USD\"}\n",
    "\n",
    "data = get_data(session, url, parameters)\n",
    "data"
   ]
  },
  {
   "cell_type": "code",
   "execution_count": null,
   "id": "22557058",
   "metadata": {},
   "outputs": [],
   "source": []
  }
 ],
 "metadata": {
  "kernelspec": {
   "display_name": "Python 3 (ipykernel)",
   "language": "python",
   "name": "python3"
  },
  "language_info": {
   "codemirror_mode": {
    "name": "ipython",
    "version": 3
   },
   "file_extension": ".py",
   "mimetype": "text/x-python",
   "name": "python",
   "nbconvert_exporter": "python",
   "pygments_lexer": "ipython3"
  },
  "toc": {
   "base_numbering": 1,
   "nav_menu": {},
   "number_sections": true,
   "sideBar": true,
   "skip_h1_title": false,
   "title_cell": "Table of Contents",
   "title_sidebar": "Contents",
   "toc_cell": false,
   "toc_position": {},
   "toc_section_display": true,
   "toc_window_display": false
  }
 },
 "nbformat": 4,
 "nbformat_minor": 5
}
