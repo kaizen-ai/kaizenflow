{
 "cells": [
  {
   "cell_type": "markdown",
   "id": "c10aa98b",
   "metadata": {},
   "source": [
    "# Description"
   ]
  },
  {
   "cell_type": "markdown",
   "id": "d73faf0e",
   "metadata": {},
   "source": [
    "This notebook contains the examples of the outputs for relevant endpoints of the [blockchain.com](blockchain.com) API."
   ]
  },
  {
   "cell_type": "code",
   "execution_count": null,
   "id": "75a60dba",
   "metadata": {},
   "outputs": [],
   "source": [
    "import logging\n",
    "\n",
    "import requests\n",
    "\n",
    "import helpers.hdbg as hdbg\n",
    "import helpers.henv as henv\n",
    "import helpers.hprint as hprint"
   ]
  },
  {
   "cell_type": "code",
   "execution_count": null,
   "id": "e7482a4e",
   "metadata": {},
   "outputs": [],
   "source": [
    "hdbg.init_logger(verbosity=logging.INFO)\n",
    "\n",
    "_LOG = logging.getLogger(__name__)\n",
    "\n",
    "_LOG.info(\"%s\", henv.get_system_signature()[0])\n",
    "\n",
    "hprint.config_notebook()"
   ]
  },
  {
   "cell_type": "markdown",
   "id": "89e090f3",
   "metadata": {},
   "source": [
    "# Blockchain Data API (REST)"
   ]
  },
  {
   "cell_type": "markdown",
   "id": "82f98f4c",
   "metadata": {},
   "source": [
    "https://www.blockchain.com/explorer/api/blockchain_api"
   ]
  },
  {
   "cell_type": "markdown",
   "id": "d4fac26d",
   "metadata": {},
   "source": [
    "## Unconfirmed Transactions"
   ]
  },
  {
   "cell_type": "markdown",
   "id": "803c726a",
   "metadata": {},
   "source": [
    "A list of all current unconfirmed transactions."
   ]
  },
  {
   "cell_type": "code",
   "execution_count": null,
   "id": "f229f2ce",
   "metadata": {},
   "outputs": [],
   "source": [
    "api_url = \"https://blockchain.info/unconfirmed-transactions?format=json\""
   ]
  },
  {
   "cell_type": "code",
   "execution_count": null,
   "id": "de9cb707",
   "metadata": {},
   "outputs": [],
   "source": [
    "response = requests.get(api_url)\n",
    "data = response.json()\n",
    "display(data.keys())"
   ]
  },
  {
   "cell_type": "code",
   "execution_count": null,
   "id": "67cefb18",
   "metadata": {},
   "outputs": [],
   "source": [
    "data = data[\"txs\"]\n",
    "display(len(data))\n",
    "display(data[:3])"
   ]
  },
  {
   "cell_type": "code",
   "execution_count": null,
   "id": "cfe2fbba",
   "metadata": {},
   "outputs": [],
   "source": [
    "display(data[0])"
   ]
  },
  {
   "cell_type": "markdown",
   "id": "908376c3",
   "metadata": {},
   "source": [
    "### Comment"
   ]
  },
  {
   "cell_type": "markdown",
   "id": "f0ec6690",
   "metadata": {},
   "source": [
    "- It seems like only the latest 100 transactions is returned through REST\n",
    "- The time of the transaction is not recorded\n",
    "- `value` can be stored in satoshi or this is not related to monetary value.\n",
    "- There is no API endpoint for ETH, but it can be scraped from their website:\n",
    "https://www.blockchain.com/eth/unconfirmed-transactions\n",
    "- In general, it seems like this data is meant to be received from websocket API"
   ]
  },
  {
   "cell_type": "markdown",
   "id": "1771252a",
   "metadata": {},
   "source": [
    "## Chart data"
   ]
  },
  {
   "cell_type": "markdown",
   "id": "6db57404",
   "metadata": {},
   "source": [
    "Data from charts found in https://www.blockchain.com/explorer/charts\n",
    "\n",
    "An example is given for Estimated Transaction Value on BTC blockchain:\n",
    "https://www.blockchain.com/explorer/charts/estimated-transaction-volume-usd"
   ]
  },
  {
   "cell_type": "code",
   "execution_count": null,
   "id": "f5ec73c7",
   "metadata": {},
   "outputs": [],
   "source": [
    "api_url = (\n",
    "    \"https://blockchain.info/charts/$estimated-transaction-volume-usd?format=json\"\n",
    ")\n",
    "response = requests.get(api_url)\n",
    "response.text[:300]"
   ]
  },
  {
   "cell_type": "code",
   "execution_count": null,
   "id": "176e26f9",
   "metadata": {},
   "outputs": [],
   "source": [
    "api_url = \"https://blockchain.info/charts/$market-price?format=json\"\n",
    "response = requests.get(api_url)\n",
    "response.text[:300]"
   ]
  },
  {
   "cell_type": "markdown",
   "id": "a0dc74d5",
   "metadata": {},
   "source": [
    "### Comment"
   ]
  },
  {
   "cell_type": "markdown",
   "id": "4cbdbac2",
   "metadata": {},
   "source": [
    "- The API instructions are not clear - the requests return only the HTML page of the chart in question, although the page itself has a JSON download. Probably a different API should be used."
   ]
  },
  {
   "cell_type": "markdown",
   "id": "0a69af5a",
   "metadata": {},
   "source": [
    "# Query API"
   ]
  },
  {
   "cell_type": "markdown",
   "id": "599abb00",
   "metadata": {},
   "source": [
    "https://www.blockchain.com/explorer/api/q"
   ]
  },
  {
   "cell_type": "markdown",
   "id": "7726ca9c",
   "metadata": {},
   "source": [
    "Not described here due to limitations:\n",
    "- Too few endpoints of which all are plaintext;\n",
    "- A limit to 1 request per 10 seconds"
   ]
  },
  {
   "cell_type": "markdown",
   "id": "0b6edb1f",
   "metadata": {},
   "source": [
    "# Blockchain.com Explorer API (Websocket)"
   ]
  },
  {
   "cell_type": "markdown",
   "id": "3526fe58",
   "metadata": {},
   "source": [
    "https://www.blockchain.com/explorer/api/api_websocket"
   ]
  },
  {
   "cell_type": "markdown",
   "id": "699eb2b0",
   "metadata": {},
   "source": [
    "Not described here due to issues with running websocket/asyncio in jupyter notebook environment.\n",
    "\n",
    "TODO(Danya): Should we update the `websockets` library?"
   ]
  },
  {
   "cell_type": "code",
   "execution_count": null,
   "id": "9dec2aac",
   "metadata": {},
   "outputs": [],
   "source": [
    "# api_endpoint = \"wss://ws.blockchain.info/inv\"\n",
    "# # ws = websocket.WebSocket()\n",
    "# # ws.connect(api_endpoint)\n",
    "# with contextlib.closing(websocket.create_connection(\"wss://ws.blockchain.info/inv\")) as conn:\n",
    "#     print(conn.recv_data())"
   ]
  },
  {
   "cell_type": "markdown",
   "id": "63518c14",
   "metadata": {},
   "source": [
    "# Exchange Rates API"
   ]
  },
  {
   "cell_type": "markdown",
   "id": "6518bd9d",
   "metadata": {},
   "source": [
    "https://www.blockchain.com/explorer/api/exchange_rates_api"
   ]
  },
  {
   "cell_type": "code",
   "execution_count": null,
   "id": "614c6cc2",
   "metadata": {},
   "outputs": [],
   "source": [
    "api_url = \"https://blockchain.info/ticker\"\n",
    "response = requests.get(api_url)\n",
    "data = response.json()"
   ]
  },
  {
   "cell_type": "code",
   "execution_count": null,
   "id": "25acd398",
   "metadata": {},
   "outputs": [],
   "source": [
    "display(len(data.keys()))"
   ]
  },
  {
   "cell_type": "code",
   "execution_count": null,
   "id": "9cecfff5",
   "metadata": {},
   "outputs": [],
   "source": [
    "display(data)"
   ]
  },
  {
   "cell_type": "code",
   "execution_count": null,
   "id": "49f966e0",
   "metadata": {},
   "outputs": [],
   "source": [
    "api_url = \"https://blockchain.info/tobtc?currency=RUB&value=10000\"\n",
    "response = requests.get(api_url)\n",
    "data = response.json()\n",
    "display(data)"
   ]
  },
  {
   "cell_type": "markdown",
   "id": "a68633b6",
   "metadata": {},
   "source": [
    "### Comment"
   ]
  },
  {
   "cell_type": "markdown",
   "id": "ddc4c370",
   "metadata": {},
   "source": [
    "- A simple mechanism for exchanging BTC to fiat\n",
    "- Data goes back only 15m\n",
    "- In general, very limited"
   ]
  },
  {
   "cell_type": "markdown",
   "id": "f29578de",
   "metadata": {},
   "source": [
    "# Blockchain Charts & Statistics API"
   ]
  },
  {
   "cell_type": "markdown",
   "id": "b2e83262",
   "metadata": {},
   "source": [
    "https://www.blockchain.com/explorer/api/charts_api"
   ]
  },
  {
   "cell_type": "markdown",
   "id": "8717f1ec",
   "metadata": {},
   "source": [
    "## Charts data"
   ]
  },
  {
   "cell_type": "markdown",
   "id": "1e0a4b26",
   "metadata": {},
   "source": [
    "Data on charts found at https://www.blockchain.com/explorer/charts\n",
    "\n",
    "The example used is [Estimated Transaction Value (USD)](https://www.blockchain.com/explorer/charts/estimated-transaction-volume-usd)"
   ]
  },
  {
   "cell_type": "markdown",
   "id": "624d4a01",
   "metadata": {},
   "source": [
    "### Data with default parameters"
   ]
  },
  {
   "cell_type": "code",
   "execution_count": null,
   "id": "f6fe89c5",
   "metadata": {},
   "outputs": [],
   "source": [
    "api_url = \"https://api.blockchain.info/charts/estimated-transaction-volume-usd\"\n",
    "response = requests.get(api_url)\n",
    "data = response.json()\n",
    "display(len(data.keys()))\n",
    "display(data.keys())"
   ]
  },
  {
   "cell_type": "code",
   "execution_count": null,
   "id": "7a1a21ad",
   "metadata": {},
   "outputs": [],
   "source": [
    "data"
   ]
  },
  {
   "cell_type": "markdown",
   "id": "c958eb15",
   "metadata": {},
   "source": [
    "### Providing a specific timeframe (to catch all available historical data)"
   ]
  },
  {
   "cell_type": "code",
   "execution_count": null,
   "id": "0fd12ac7",
   "metadata": {},
   "outputs": [],
   "source": [
    "api_url = \"https://api.blockchain.info/charts/estimated-transaction-volume-usd?start=2011-01-01?sampled=False\"\n",
    "response = requests.get(api_url)\n",
    "data = response.json()\n",
    "display(len(data.keys()))\n",
    "display(data.keys())"
   ]
  },
  {
   "cell_type": "code",
   "execution_count": null,
   "id": "6b15cfa3",
   "metadata": {},
   "outputs": [],
   "source": [
    "len(data[\"values\"])"
   ]
  },
  {
   "cell_type": "markdown",
   "id": "acb264ec",
   "metadata": {},
   "source": [
    "### Comment"
   ]
  },
  {
   "cell_type": "markdown",
   "id": "e3cb1226",
   "metadata": {},
   "source": [
    "- Data on this chart goes at least as far back as 2010\n",
    "- The `timespan` parameter does not work (at least with this particular chart), but by default the API returns daily data for the entire year\n",
    "- The data is only for BTC, but contains loads of historical data"
   ]
  },
  {
   "cell_type": "markdown",
   "id": "3d8c7f2e",
   "metadata": {},
   "source": [
    "## Stats data"
   ]
  },
  {
   "cell_type": "markdown",
   "id": "c223048c",
   "metadata": {},
   "source": [
    "Current statistics for BTC. No parameters."
   ]
  },
  {
   "cell_type": "code",
   "execution_count": null,
   "id": "ffb22ed1",
   "metadata": {},
   "outputs": [],
   "source": [
    "api_url = \"https://api.blockchain.info/stats\"\n",
    "response = requests.get(api_url)\n",
    "data = response.json()\n",
    "display(len(data.keys()))\n",
    "display(data.keys())"
   ]
  },
  {
   "cell_type": "code",
   "execution_count": null,
   "id": "03dd696b",
   "metadata": {},
   "outputs": [],
   "source": [
    "display(data)"
   ]
  },
  {
   "cell_type": "markdown",
   "id": "97b06b93",
   "metadata": {},
   "source": [
    "### Comment"
   ]
  },
  {
   "cell_type": "markdown",
   "id": "b5a4af29",
   "metadata": {},
   "source": [
    "- Data is rounded up to minutes, so it is probably updated every minute\n",
    "- No endpoint for historical data provided"
   ]
  }
 ],
 "metadata": {
  "kernelspec": {
   "display_name": "Python 3 (ipykernel)",
   "language": "python",
   "name": "python3"
  },
  "language_info": {
   "codemirror_mode": {
    "name": "ipython",
    "version": 3
   },
   "file_extension": ".py",
   "mimetype": "text/x-python",
   "name": "python",
   "nbconvert_exporter": "python",
   "pygments_lexer": "ipython3"
  },
  "toc": {
   "base_numbering": 1,
   "nav_menu": {},
   "number_sections": true,
   "sideBar": true,
   "skip_h1_title": false,
   "title_cell": "Table of Contents",
   "title_sidebar": "Contents",
   "toc_cell": false,
   "toc_position": {},
   "toc_section_display": true,
   "toc_window_display": false
  }
 },
 "nbformat": 4,
 "nbformat_minor": 5
}
