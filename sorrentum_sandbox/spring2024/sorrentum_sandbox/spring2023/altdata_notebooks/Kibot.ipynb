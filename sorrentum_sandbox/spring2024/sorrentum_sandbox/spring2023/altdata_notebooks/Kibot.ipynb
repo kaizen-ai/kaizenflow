{
 "cells": [
  {
   "cell_type": "markdown",
   "id": "ef586eba",
   "metadata": {},
   "source": [
    "# Description"
   ]
  },
  {
   "cell_type": "markdown",
   "id": "ed925830",
   "metadata": {},
   "source": [
    "This notebook contains examples of data from http://www.kibot.com/\n",
    "- The data is loaded using code from `im/kibot/data/`"
   ]
  },
  {
   "cell_type": "code",
   "execution_count": null,
   "id": "c12ee6ac",
   "metadata": {},
   "outputs": [],
   "source": [
    "%load_ext autoreload\n",
    "%autoreload 2\n",
    "%matplotlib inline\n",
    "\n",
    "import logging\n",
    "import os\n",
    "\n",
    "import pandas as pd\n",
    "import requests\n",
    "import requests.adapters as radapt\n",
    "import requests.packages.urllib3.util as rpuuti\n",
    "import tqdm\n",
    "\n",
    "import helpers.hdbg as hdbg\n",
    "import helpers.henv as henv\n",
    "import helpers.hio as hio\n",
    "import helpers.hprint as hprint\n",
    "import im.kibot.data.config as imkidacon\n",
    "import im.kibot.data.extract.download as imkdaexdo\n",
    "import im.kibot.metadata.load.kibot_metadata as imkmlkime"
   ]
  },
  {
   "cell_type": "code",
   "execution_count": null,
   "id": "023c60ee",
   "metadata": {},
   "outputs": [],
   "source": [
    "hdbg.init_logger(verbosity=logging.INFO)\n",
    "\n",
    "_LOG = logging.getLogger(__name__)\n",
    "\n",
    "_LOG.info(\"%s\", henv.get_system_signature()[0])\n",
    "\n",
    "hprint.config_notebook()"
   ]
  },
  {
   "cell_type": "markdown",
   "id": "0fd8534c",
   "metadata": {},
   "source": [
    "# Metadata"
   ]
  },
  {
   "cell_type": "markdown",
   "id": "1d03f478",
   "metadata": {},
   "source": [
    "- Load Kibot Metadata to estimate contracts and equities available"
   ]
  },
  {
   "cell_type": "markdown",
   "id": "4eaa9928",
   "metadata": {},
   "source": [
    "## Continuous contracts"
   ]
  },
  {
   "cell_type": "code",
   "execution_count": null,
   "id": "b2b75a9a",
   "metadata": {},
   "outputs": [],
   "source": [
    "kibot_metadata = imkmlkime.KibotMetadata()"
   ]
  },
  {
   "cell_type": "code",
   "execution_count": null,
   "id": "068cb62f",
   "metadata": {},
   "outputs": [],
   "source": [
    "# Get available contract types based on `KibotMetadata` documentation.\n",
    "contract_types = [\"1min\", \"daily\", \"tick-bid-ask\"]"
   ]
  },
  {
   "cell_type": "code",
   "execution_count": null,
   "id": "1144943f",
   "metadata": {},
   "outputs": [],
   "source": [
    "min_metadata = kibot_metadata.get_metadata(\"1min\")\n",
    "print(min_metadata.shape)\n",
    "display(min_metadata.head(3))\n",
    "display(min_metadata.tail(3))"
   ]
  },
  {
   "cell_type": "code",
   "execution_count": null,
   "id": "f0a74503",
   "metadata": {},
   "outputs": [],
   "source": [
    "daily_metadata = kibot_metadata.get_metadata(\"daily\")\n",
    "print(daily_metadata.shape)\n",
    "display(daily_metadata.head(3))\n",
    "display(daily_metadata.tail(3))"
   ]
  },
  {
   "cell_type": "code",
   "execution_count": null,
   "id": "f62dde6f",
   "metadata": {},
   "outputs": [],
   "source": [
    "tick_metadata = kibot_metadata.get_metadata(\"tick-bid-ask\")\n",
    "print(tick_metadata.shape)\n",
    "display(tick_metadata.head(3))\n",
    "display(tick_metadata.tail(3))"
   ]
  },
  {
   "cell_type": "markdown",
   "id": "c6f6b9f6",
   "metadata": {},
   "source": [
    "# Downloading data"
   ]
  },
  {
   "cell_type": "markdown",
   "id": "8564bebd",
   "metadata": {},
   "source": [
    "- An example of data downloaded from Kibot\n",
    "- `im/kibot/data/extract/download.py` is a script that puts compressed data to S3\n",
    "   - Examples of metadata of already downloaded datasets is provided above\n",
    "- Here we download a small dataset to provide an example of the data"
   ]
  },
  {
   "cell_type": "markdown",
   "id": "d34248d1",
   "metadata": {},
   "source": [
    "## Downloading continuous futures dataset"
   ]
  },
  {
   "cell_type": "markdown",
   "id": "93de5bab",
   "metadata": {},
   "source": [
    "- On the example of `all_futures_continuous_contracts_daily`\n",
    "- This section follows the `im/kibot/data/extract/download.py` script, focusing on saving the output locally and demonstrating intermediary parsing results."
   ]
  },
  {
   "cell_type": "code",
   "execution_count": null,
   "id": "1a9add35",
   "metadata": {},
   "outputs": [],
   "source": [
    "# Create directories.\n",
    "source_dir = \"source_data\"\n",
    "hio.create_dir(source_dir, incremental=False)\n",
    "converted_dir = \"converted_data\"\n",
    "hio.create_dir(converted_dir, incremental=False)"
   ]
  },
  {
   "cell_type": "code",
   "execution_count": null,
   "id": "0ce2fd41",
   "metadata": {},
   "outputs": [],
   "source": [
    "# Load local login information.\n",
    "with open(\"kibot_login.txt\", \"r\") as f:\n",
    "    file = f.read()\n",
    "    username = file.split(\"\\n\")[0]\n",
    "    password = file.split(\"\\n\")[1]"
   ]
  },
  {
   "cell_type": "code",
   "execution_count": null,
   "id": "3f42fe00",
   "metadata": {},
   "outputs": [],
   "source": [
    "username"
   ]
  },
  {
   "cell_type": "code",
   "execution_count": null,
   "id": "8824221f",
   "metadata": {},
   "outputs": [],
   "source": [
    "# Log in.\n",
    "requests_session = requests.Session()\n",
    "requests_retry = rpuuti.Retry(\n",
    "    total=12,\n",
    "    backoff_factor=2,\n",
    "    status_forcelist=[104, 403, 500, 501, 502, 503, 504],\n",
    ")\n",
    "requests_session.mount(\"http://\", radapt.HTTPAdapter(max_retries=requests_retry))\n",
    "requests_session.mount(\"https://\", radapt.HTTPAdapter(max_retries=requests_retry))\n",
    "kibot_account = imkidacon.ENDPOINT + \"account.aspx\"\n",
    "login_result = imkdaexdo._log_in(\n",
    "    kibot_account, username, str(password), requests_session\n",
    ")"
   ]
  },
  {
   "cell_type": "code",
   "execution_count": null,
   "id": "d406b0aa",
   "metadata": {
    "run_control": {
     "marked": true
    }
   },
   "outputs": [],
   "source": [
    "my_account_file = os.path.join(source_dir, \"my_account.html\")\n",
    "# Download my account html page.\n",
    "if not os.path.exists(my_account_file):\n",
    "    _LOG.warning(\"Missing '%s': downloading it\", my_account_file)\n",
    "    imkdaexdo._download_page(my_account_file, kibot_account, requests_session)\n",
    "dataset_links_csv_file = os.path.join(converted_dir, \"dataset_links.csv\")\n",
    "# Extract available datasets.\n",
    "dle = imkdaexdo.DatasetListExtractor()\n",
    "dataset_links_df = dle.extract_dataset_links(\n",
    "    os.path.join(source_dir, \"my_account.html\")\n",
    ")\n",
    "dataset_links_df.head(3)"
   ]
  },
  {
   "cell_type": "code",
   "execution_count": null,
   "id": "42269759",
   "metadata": {},
   "outputs": [],
   "source": [
    "# Create a directory for target dataset.\n",
    "dataset = \"all_futures_continuous_contracts_daily\"\n",
    "dataset_dir = os.path.join(converted_dir, dataset)\n",
    "hio.create_dir(dataset_dir, incremental=True)\n",
    "# Get specific payload addresses.\n",
    "de = imkdaexdo.DatasetExtractor(dataset, requests_session)\n",
    "to_download = de.get_dataset_payloads_to_download(\n",
    "    dataset_links_df,\n",
    "    source_dir,\n",
    "    converted_dir,\n",
    ")\n",
    "to_download.head(3)"
   ]
  },
  {
   "cell_type": "code",
   "execution_count": null,
   "id": "d2bc7a74",
   "metadata": {
    "run_control": {
     "marked": false
    }
   },
   "outputs": [],
   "source": [
    "# Download payloads.\n",
    "func = lambda row: de.download_payload_page(\n",
    "    dataset_dir,\n",
    "    row,\n",
    "    **{\n",
    "        \"download_compressed\": True,\n",
    "        \"skip_if_exists\": False,\n",
    "        \"clean_up_artifacts\": False,\n",
    "    },\n",
    ")\n",
    "# Download a single payload from Kibot.\n",
    "tqdm_ = tqdm.tqdm(\n",
    "    to_download.iloc[1:2].iterrows(),\n",
    "    total=len(to_download),\n",
    "    desc=\"Downloading Kibot data\",\n",
    ")"
   ]
  },
  {
   "cell_type": "code",
   "execution_count": null,
   "id": "0ad310dc",
   "metadata": {},
   "outputs": [],
   "source": [
    "for _, row in tqdm_:\n",
    "    func(row)\n",
    "# Show downloaded files.\n",
    "print(os.listdir(dataset_dir))"
   ]
  },
  {
   "cell_type": "code",
   "execution_count": null,
   "id": "d7567974",
   "metadata": {
    "run_control": {
     "marked": true
    }
   },
   "outputs": [],
   "source": [
    "# Example of output data.\n",
    "df = pd.read_csv(os.path.join(dataset_dir, \"TY.csv.gz\"))\n",
    "display(df.head(5))\n",
    "display(df.tail(5))"
   ]
  },
  {
   "cell_type": "code",
   "execution_count": null,
   "id": "5f231e4c",
   "metadata": {},
   "outputs": [],
   "source": []
  }
 ],
 "metadata": {
  "kernelspec": {
   "display_name": "Python 3 (ipykernel)",
   "language": "python",
   "name": "python3"
  },
  "language_info": {
   "codemirror_mode": {
    "name": "ipython",
    "version": 3
   },
   "file_extension": ".py",
   "mimetype": "text/x-python",
   "name": "python",
   "nbconvert_exporter": "python",
   "pygments_lexer": "ipython3"
  },
  "toc": {
   "base_numbering": 1,
   "nav_menu": {},
   "number_sections": true,
   "sideBar": true,
   "skip_h1_title": false,
   "title_cell": "Table of Contents",
   "title_sidebar": "Contents",
   "toc_cell": false,
   "toc_position": {},
   "toc_section_display": true,
   "toc_window_display": false
  }
 },
 "nbformat": 4,
 "nbformat_minor": 5
}
