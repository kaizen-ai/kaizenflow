{
 "cells": [
  {
   "cell_type": "markdown",
   "id": "6bdf9f58",
   "metadata": {},
   "source": [
    "This notebook researches how BitQuery GraphQL API interacts with Uniswap data."
   ]
  },
  {
   "cell_type": "markdown",
   "id": "456c4699",
   "metadata": {},
   "source": [
    "# Imports"
   ]
  },
  {
   "cell_type": "code",
   "execution_count": null,
   "id": "977fd515",
   "metadata": {
    "lines_to_next_cell": 1
   },
   "outputs": [],
   "source": [
    "import os\n",
    "from typing import Any, Dict, List\n",
    "\n",
    "import pandas as pd\n",
    "import requests"
   ]
  },
  {
   "cell_type": "markdown",
   "id": "82c3aec4",
   "metadata": {},
   "source": [
    "# Functions"
   ]
  },
  {
   "cell_type": "code",
   "execution_count": null,
   "id": "fdf9982a",
   "metadata": {},
   "outputs": [],
   "source": [
    "def run_query(query: str):\n",
    "    headers = {\"X-API-KEY\": os.environ[\"API_KEY\"]}\n",
    "    request = requests.post(\n",
    "        \"https://graphql.bitquery.io/\", json={\"query\": query}, headers=headers\n",
    "    )\n",
    "    if request.status_code == 200:\n",
    "        return request.json()\n",
    "    else:\n",
    "        raise Exception(\n",
    "            \"Query failed and return code is {}.      {}\".format(\n",
    "                request.status_code, query\n",
    "            )\n",
    "        )"
   ]
  },
  {
   "cell_type": "code",
   "execution_count": null,
   "id": "f01d0a70",
   "metadata": {
    "run_control": {
     "marked": false
    }
   },
   "outputs": [],
   "source": [
    "def json_to_df(data: List[Dict[Any, Any]]) -> pd.DataFrame:\n",
    "    \"\"\"\n",
    "    Transform the data to Dataframe and set the time index.\n",
    "    \"\"\"\n",
    "    df = pd.json_normalize(data, sep=\"_\")\n",
    "    df = df.set_index(\"timeInterval_minute\")\n",
    "    return df"
   ]
  },
  {
   "cell_type": "markdown",
   "id": "f0c5269d",
   "metadata": {},
   "source": [
    "# Get data"
   ]
  },
  {
   "cell_type": "markdown",
   "id": "18e54244",
   "metadata": {},
   "source": [
    "**1 min data example for WETH/USDT pair**"
   ]
  },
  {
   "cell_type": "code",
   "execution_count": null,
   "id": "0c4b50bc",
   "metadata": {},
   "outputs": [],
   "source": [
    "query = \"\"\"\n",
    "query{\n",
    "  ethereum(network: ethereum) {\n",
    "    dexTrades(\n",
    "      options: {limit: 20000, asc: \"timeInterval.minute\"}\n",
    "      date: {since: \"2023-01-01\", till: \"2023-01-10\"}\n",
    "      baseCurrency: {is: \"0xdac17f958d2ee523a2206206994597c13d831ec7\"}\n",
    "      quoteCurrency: {is: \"0xc02aaa39b223fe8d0a0e5c4f27ead9083c756cc2\"}\n",
    "      exchangeName: {is: \"Uniswap\"}\n",
    "     )\n",
    "     {\n",
    "      timeInterval {\n",
    "      minute(count: 1)\n",
    "      }\n",
    "    baseCurrency {\n",
    "      symbol\n",
    "      address\n",
    "    }\n",
    "    baseAmount(in: USD)\n",
    "    quoteCurrency {\n",
    "      symbol\n",
    "      address\n",
    "    }\n",
    "    quoteAmount(in: USD)\n",
    "    trades: count\n",
    "    quotePrice\n",
    "    maximum_price: quotePrice(calculate: maximum)\n",
    "    minimum_price: quotePrice(calculate: minimum)\n",
    "    open_price: minimum(of: block, get: quote_price)\n",
    "    close_price: maximum(of: block, get: quote_price)\n",
    "    }\n",
    "  }\n",
    "}\n",
    "\"\"\"\n",
    "# Get the data\n",
    "result = run_query(query)"
   ]
  },
  {
   "cell_type": "code",
   "execution_count": null,
   "id": "bd195120",
   "metadata": {},
   "outputs": [],
   "source": [
    "df = json_to_df(result[\"data\"][\"ethereum\"][\"dexTrades\"])\n",
    "df"
   ]
  },
  {
   "cell_type": "markdown",
   "id": "82c8c90e",
   "metadata": {},
   "source": [
    "The query was made at 2023-01-10 10:33:00, so real-time delay is ~3-4 minutes."
   ]
  },
  {
   "cell_type": "markdown",
   "id": "4249fcd8",
   "metadata": {},
   "source": [
    "**Get historical data Uniswap from november 2018 with no token pairs filter**"
   ]
  },
  {
   "cell_type": "code",
   "execution_count": null,
   "id": "d450a798",
   "metadata": {},
   "outputs": [],
   "source": [
    "query = \"\"\"\n",
    "query{\n",
    "  ethereum(network: ethereum) {\n",
    "    dexTrades(\n",
    "      options: {limit: 20000, asc: \"timeInterval.minute\"}\n",
    "      date: {since: \"2018-11-01\", till: \"2018-12-01\"}\n",
    "      exchangeName: {is: \"Uniswap\"}\n",
    "     )\n",
    "     {\n",
    "      timeInterval {\n",
    "      minute(count: 1)\n",
    "      }\n",
    "    baseCurrency {\n",
    "      symbol\n",
    "      address\n",
    "    }\n",
    "    baseAmount(in: USD)\n",
    "    quoteCurrency {\n",
    "      symbol\n",
    "      address\n",
    "    }\n",
    "    quoteAmount(in: USD)\n",
    "    trades: count\n",
    "    quotePrice\n",
    "    maximum_price: quotePrice(calculate: maximum)\n",
    "    minimum_price: quotePrice(calculate: minimum)\n",
    "    open_price: minimum(of: block, get: quote_price)\n",
    "    close_price: maximum(of: block, get: quote_price)\n",
    "    }\n",
    "  }\n",
    "}\n",
    "\"\"\"\n",
    "# Get the data\n",
    "result = run_query(query)"
   ]
  },
  {
   "cell_type": "code",
   "execution_count": null,
   "id": "1a75448e",
   "metadata": {},
   "outputs": [],
   "source": [
    "df = json_to_df(result[\"data\"][\"ethereum\"][\"dexTrades\"])\n",
    "df"
   ]
  },
  {
   "cell_type": "markdown",
   "id": "54c4cede",
   "metadata": {},
   "source": [
    "**Get bigger: download all swap data for today (2023-01-10)**"
   ]
  },
  {
   "cell_type": "code",
   "execution_count": null,
   "id": "2a495744",
   "metadata": {},
   "outputs": [],
   "source": [
    "query = \"\"\"\n",
    "query{\n",
    "  ethereum(network: ethereum) {\n",
    "    dexTrades(\n",
    "      options: {limit: 100000, asc: \"timeInterval.minute\"}\n",
    "      date: {since: \"2023-01-10\"}\n",
    "      exchangeName: {is: \"Uniswap\"}\n",
    "     )\n",
    "     {\n",
    "      timeInterval {\n",
    "      minute(count: 1)\n",
    "      }\n",
    "    baseCurrency {\n",
    "      symbol\n",
    "      address\n",
    "    }\n",
    "    baseAmount(in: USD)\n",
    "    quoteCurrency {\n",
    "      symbol\n",
    "      address\n",
    "    }\n",
    "    quoteAmount(in: USD)\n",
    "    trades: count\n",
    "    quotePrice\n",
    "    maximum_price: quotePrice(calculate: maximum)\n",
    "    minimum_price: quotePrice(calculate: minimum)\n",
    "    open_price: minimum(of: block, get: quote_price)\n",
    "    close_price: maximum(of: block, get: quote_price)\n",
    "    }\n",
    "  }\n",
    "}\n",
    "\"\"\"\n",
    "# Get the data\n",
    "result = run_query(query)"
   ]
  },
  {
   "cell_type": "code",
   "execution_count": null,
   "id": "9b9299df",
   "metadata": {},
   "outputs": [],
   "source": [
    "result"
   ]
  },
  {
   "cell_type": "markdown",
   "id": "501a4ce8",
   "metadata": {},
   "source": [
    "It seems like we have a limitation for number of rows by one query, let's try to write the loop and export every 25k rows."
   ]
  },
  {
   "cell_type": "code",
   "execution_count": null,
   "id": "833af44e",
   "metadata": {},
   "outputs": [],
   "source": [
    "# Use limit and offset parameters.\n",
    "query = \"\"\"query{\n",
    "  ethereum(network: ethereum) {\n",
    "    dexTrades(\n",
    "      options: {limit: 25000, offset: %d, asc: \"timeInterval.minute\"}\n",
    "      date: {since: \"2023-01-10\"}\n",
    "      exchangeName: {is: \"Uniswap\"}\n",
    "     )\n",
    "     {\n",
    "      timeInterval {\n",
    "      minute(count: 1)\n",
    "      }\n",
    "    baseCurrency {\n",
    "      symbol\n",
    "      address\n",
    "    }\n",
    "    baseAmount(in: USD)\n",
    "    quoteCurrency {\n",
    "      symbol\n",
    "      address\n",
    "    }\n",
    "    quoteAmount(in: USD)\n",
    "    trades: count\n",
    "    quotePrice\n",
    "    maximum_price: quotePrice(calculate: maximum)\n",
    "    minimum_price: quotePrice(calculate: minimum)\n",
    "    open_price: minimum(of: block, get: quote_price)\n",
    "    close_price: maximum(of: block, get: quote_price)\n",
    "    }\n",
    "  }\n",
    "}\n",
    "\"\"\"\n",
    "\n",
    "limit = 25000\n",
    "offset = 0\n",
    "data_dfs = []\n",
    "\n",
    "for i in range(3):\n",
    "    # Error message above says there are 61k rows, so 3 iterations by 25k would be enough.\n",
    "    formatted_query = query % offset\n",
    "    result = run_query(formatted_query)\n",
    "    df = json_to_df(result[\"data\"][\"ethereum\"][\"dexTrades\"])\n",
    "    data_dfs.append(df)\n",
    "    offset += 25000\n",
    "\n",
    "full_data = pd.concat(data_dfs)"
   ]
  },
  {
   "cell_type": "code",
   "execution_count": null,
   "id": "8a899536",
   "metadata": {},
   "outputs": [],
   "source": [
    "full_data"
   ]
  },
  {
   "cell_type": "markdown",
   "id": "50436875",
   "metadata": {},
   "source": [
    "The query was made at 2023-01-10 10:42:00, so real-time delay is 5 min."
   ]
  },
  {
   "cell_type": "code",
   "execution_count": null,
   "id": "5d7960c3",
   "metadata": {},
   "outputs": [],
   "source": []
  }
 ],
 "metadata": {
  "kernelspec": {
   "display_name": "Python 3 (ipykernel)",
   "language": "python",
   "name": "python3"
  },
  "language_info": {
   "codemirror_mode": {
    "name": "ipython",
    "version": 3
   },
   "file_extension": ".py",
   "mimetype": "text/x-python",
   "name": "python",
   "nbconvert_exporter": "python",
   "pygments_lexer": "ipython3"
  },
  "toc": {
   "base_numbering": 1,
   "nav_menu": {},
   "number_sections": true,
   "sideBar": true,
   "skip_h1_title": false,
   "title_cell": "Table of Contents",
   "title_sidebar": "Contents",
   "toc_cell": false,
   "toc_position": {},
   "toc_section_display": true,
   "toc_window_display": false
  }
 },
 "nbformat": 4,
 "nbformat_minor": 5
}
