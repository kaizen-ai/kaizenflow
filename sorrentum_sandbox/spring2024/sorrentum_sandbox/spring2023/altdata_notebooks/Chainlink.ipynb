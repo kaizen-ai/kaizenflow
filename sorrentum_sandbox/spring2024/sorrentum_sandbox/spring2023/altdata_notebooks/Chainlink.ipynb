{
 "cells": [
  {
   "cell_type": "markdown",
   "id": "7dc02e22",
   "metadata": {},
   "source": [
    "# Description"
   ]
  },
  {
   "cell_type": "markdown",
   "id": "f1f4aff3",
   "metadata": {},
   "source": [
    "This notebook demonstrates the access to Chainlink price feeds.\n",
    "\n",
    "The notebook follows the example from the documentation:\n",
    "- https://docs.chain.link/data-feeds/price-feeds\n",
    "- API reference: https://docs.chain.link/data-feeds/price-feeds/api-reference"
   ]
  },
  {
   "cell_type": "code",
   "execution_count": null,
   "id": "656b7386",
   "metadata": {},
   "outputs": [],
   "source": [
    "!sudo /bin/bash -c \"(source /venv/bin/activate; pip install --upgrade pip)\"\n",
    "!sudo /bin/bash -c \"(source /venv/bin/activate; pip install web3)\""
   ]
  },
  {
   "cell_type": "markdown",
   "id": "d494de10",
   "metadata": {},
   "source": [
    "# Imports"
   ]
  },
  {
   "cell_type": "code",
   "execution_count": null,
   "id": "813e0c66",
   "metadata": {},
   "outputs": [],
   "source": [
    "import numpy as np\n",
    "from web3 import Web3"
   ]
  },
  {
   "cell_type": "markdown",
   "id": "28e37392",
   "metadata": {},
   "source": [
    "# Access to price feeds"
   ]
  },
  {
   "cell_type": "markdown",
   "id": "c6f907d0",
   "metadata": {},
   "source": [
    "## Latest data"
   ]
  },
  {
   "cell_type": "markdown",
   "id": "e3ccfa5e",
   "metadata": {},
   "source": [
    "## Example from the docs"
   ]
  },
  {
   "cell_type": "markdown",
   "id": "60a5a4ea",
   "metadata": {},
   "source": [
    "Copy of the example from the documentation: https://docs.chain.link/data-feeds/price-feeds/#python"
   ]
  },
  {
   "cell_type": "code",
   "execution_count": null,
   "id": "478dcc8b",
   "metadata": {},
   "outputs": [],
   "source": [
    "# Change this to use your own RPC URL\n",
    "web3 = Web3(Web3.HTTPProvider(\"https://rpc.ankr.com/eth_goerli\"))\n",
    "# AggregatorV3Interface ABI\n",
    "abi = '[{\"inputs\":[],\"name\":\"decimals\",\"outputs\":[{\"internalType\":\"uint8\",\"name\":\"\",\"type\":\"uint8\"}],\"stateMutability\":\"view\",\"type\":\"function\"},{\"inputs\":[],\"name\":\"description\",\"outputs\":[{\"internalType\":\"string\",\"name\":\"\",\"type\":\"string\"}],\"stateMutability\":\"view\",\"type\":\"function\"},{\"inputs\":[{\"internalType\":\"uint80\",\"name\":\"_roundId\",\"type\":\"uint80\"}],\"name\":\"getRoundData\",\"outputs\":[{\"internalType\":\"uint80\",\"name\":\"roundId\",\"type\":\"uint80\"},{\"internalType\":\"int256\",\"name\":\"answer\",\"type\":\"int256\"},{\"internalType\":\"uint256\",\"name\":\"startedAt\",\"type\":\"uint256\"},{\"internalType\":\"uint256\",\"name\":\"updatedAt\",\"type\":\"uint256\"},{\"internalType\":\"uint80\",\"name\":\"answeredInRound\",\"type\":\"uint80\"}],\"stateMutability\":\"view\",\"type\":\"function\"},{\"inputs\":[],\"name\":\"latestRoundData\",\"outputs\":[{\"internalType\":\"uint80\",\"name\":\"roundId\",\"type\":\"uint80\"},{\"internalType\":\"int256\",\"name\":\"answer\",\"type\":\"int256\"},{\"internalType\":\"uint256\",\"name\":\"startedAt\",\"type\":\"uint256\"},{\"internalType\":\"uint256\",\"name\":\"updatedAt\",\"type\":\"uint256\"},{\"internalType\":\"uint80\",\"name\":\"answeredInRound\",\"type\":\"uint80\"}],\"stateMutability\":\"view\",\"type\":\"function\"},{\"inputs\":[],\"name\":\"version\",\"outputs\":[{\"internalType\":\"uint256\",\"name\":\"\",\"type\":\"uint256\"}],\"stateMutability\":\"view\",\"type\":\"function\"}]'\n",
    "# Price Feed address\n",
    "addr = \"0xA39434A63A52E749F02807ae27335515BA4b07F7\"\n",
    "\n",
    "# Set up contract instance\n",
    "contract = web3.eth.contract(address=addr, abi=abi)\n",
    "# Make call to latestRoundData()\n",
    "latestData = contract.functions.latestRoundData().call()\n",
    "print(latestData)"
   ]
  },
  {
   "cell_type": "markdown",
   "id": "e934150f",
   "metadata": {},
   "source": [
    "From the API reference, the fields are as follows:\n",
    "\n",
    "- roundId: The round ID.\n",
    "- answer: The price.\n",
    "- startedAt: Timestamp of when the round started.\n",
    "- updatedAt: Timestamp of when the round was updated.\n",
    "- answeredInRound: The round ID of the round in which the answer was computed."
   ]
  },
  {
   "cell_type": "code",
   "execution_count": null,
   "id": "596e6992",
   "metadata": {},
   "outputs": [],
   "source": [
    "decimals = contract.functions.decimals().call()\n",
    "print(decimals)"
   ]
  },
  {
   "cell_type": "code",
   "execution_count": null,
   "id": "14b87039",
   "metadata": {},
   "outputs": [],
   "source": [
    "description = contract.functions.description().call()\n",
    "print(description)"
   ]
  },
  {
   "cell_type": "code",
   "execution_count": null,
   "id": "c70466c1",
   "metadata": {},
   "outputs": [],
   "source": [
    "round_data = contract.functions.getRoundData(18446744073709558875).call()\n",
    "print(round_data)"
   ]
  },
  {
   "cell_type": "markdown",
   "id": "e92cdcc0",
   "metadata": {},
   "source": [
    "## Historical data"
   ]
  },
  {
   "cell_type": "markdown",
   "id": "f24b0be2",
   "metadata": {},
   "source": [
    "### Example from the docs"
   ]
  },
  {
   "cell_type": "code",
   "execution_count": null,
   "id": "f67c7c13",
   "metadata": {},
   "outputs": [],
   "source": [
    "#  Valid roundId must be known. They are NOT incremental.\n",
    "# invalidRoundId = 18446744073709562300\n",
    "validRoundId = 18446744073709554177\n",
    "\n",
    "historicalData = contract.functions.getRoundData(validRoundId).call()\n",
    "print(historicalData)"
   ]
  },
  {
   "cell_type": "markdown",
   "id": "d1ee7412",
   "metadata": {},
   "source": [
    "Historical data is being given on a by-round basis.\n",
    "\n",
    "In order to get data on all valid Round IDs:\n",
    "\n",
    "-"
   ]
  },
  {
   "cell_type": "markdown",
   "id": "f0729ae7",
   "metadata": {},
   "source": [
    "## Getting the same data from ETH mainnet"
   ]
  },
  {
   "cell_type": "markdown",
   "id": "67bfae6f",
   "metadata": {},
   "source": [
    "- Accessing the same data from mainnet for ADA/USD currency pair\n",
    "- List of mainnet price feeds: https://docs.chain.link/data-feeds/price-feeds/addresses#Ethereum%20Mainnet\n",
    "- RPC of ethereum mainnet: https://rpc.ankr.com/eth"
   ]
  },
  {
   "cell_type": "code",
   "execution_count": null,
   "id": "76f3775b",
   "metadata": {},
   "outputs": [],
   "source": [
    "web3 = Web3(Web3.HTTPProvider(\"https://rpc.ankr.com/eth\"))\n",
    "addr = \"0xAE48c91dF1fE419994FFDa27da09D5aC69c30f55\"  # Corresponds to https://app.ens.domains/name/ada-usd.data.eth"
   ]
  },
  {
   "cell_type": "code",
   "execution_count": null,
   "id": "beeaa588",
   "metadata": {},
   "outputs": [],
   "source": [
    "# Set up contract instance\n",
    "contract = web3.eth.contract(address=addr, abi=abi)\n",
    "# Make call to latestRoundData().\n",
    "# Output:\n",
    "# roundId: The round ID.\n",
    "# answer: The price.\n",
    "# startedAt: Timestamp of when the round started.\n",
    "# updatedAt: Timestamp of when the round was updated.\n",
    "# answeredInRound: The round ID of the round in which the answer was computed.\n",
    "latestData = contract.functions.latestRoundData().call()\n",
    "print(latestData)"
   ]
  },
  {
   "cell_type": "markdown",
   "id": "93a85bdf",
   "metadata": {},
   "source": [
    "This corresponds with the price provided here: https://data.chain.link/ethereum/mainnet/crypto-usd/ada-usd.\n",
    "\n",
    "With price at $0.33110628, it seems like the response in that field is the number of lowest decimals, i.e. if the price goes to the 8th decimal, everything with less than 8 digits represents value below 1.\n",
    "\n",
    "The number of decimals can be found at the `decimals` API endpoint."
   ]
  },
  {
   "cell_type": "code",
   "execution_count": null,
   "id": "e5c4c68f",
   "metadata": {},
   "outputs": [],
   "source": [
    "decimals = contract.functions.decimals().call()\n",
    "print(f\"decimals={decimals}\")\n",
    "description = contract.functions.description().call()\n",
    "print(f\"descrition={description}\")\n",
    "round_data = contract.functions.getRoundData(55340232221128666997).call()\n",
    "print(round_data)"
   ]
  },
  {
   "cell_type": "markdown",
   "id": "6a92e3c5",
   "metadata": {},
   "source": [
    "Accessing other round IDs incrementally by reducing the latest round ID by one:"
   ]
  },
  {
   "cell_type": "code",
   "execution_count": null,
   "id": "e5756321",
   "metadata": {},
   "outputs": [],
   "source": [
    "round_data = contract.functions.getRoundData(55340232221128666996).call()\n",
    "print(round_data)"
   ]
  },
  {
   "cell_type": "code",
   "execution_count": null,
   "id": "02509162",
   "metadata": {},
   "outputs": [],
   "source": [
    "round_data = contract.functions.getRoundData(55340232221128666995).call()\n",
    "print(round_data)"
   ]
  },
  {
   "cell_type": "markdown",
   "id": "624d3132",
   "metadata": {},
   "source": [
    "The round ID is not originally incremental, but this link in the API describes how to get to the end of the round history:\n",
    "\n",
    "https://docs.chain.link/data-feeds/price-feeds/historical-data\n",
    "\n",
    "The proxy that is being used by the `web3` lib takes care of this problem and the roundID is provided with an incremental increase of 1.\n"
   ]
  },
  {
   "cell_type": "markdown",
   "id": "99605bd6",
   "metadata": {},
   "source": [
    "## Summary"
   ]
  },
  {
   "cell_type": "markdown",
   "id": "f549fda0",
   "metadata": {},
   "source": [
    "- Chainlink provides a comprehensive data feed for Crypto prices on multiple mainnet networks\n",
    "- All historical data can be accessed by iterating over incremental roundIDs\n",
    "- The timestamps at the data are not incremental since the network state change is triggered rather than updated regularly"
   ]
  },
  {
   "cell_type": "code",
   "execution_count": null,
   "id": "a3445916",
   "metadata": {},
   "outputs": [],
   "source": []
  }
 ],
 "metadata": {
  "kernelspec": {
   "display_name": "Python 3 (ipykernel)",
   "language": "python",
   "name": "python3"
  },
  "language_info": {
   "codemirror_mode": {
    "name": "ipython",
    "version": 3
   },
   "file_extension": ".py",
   "mimetype": "text/x-python",
   "name": "python",
   "nbconvert_exporter": "python",
   "pygments_lexer": "ipython3"
  },
  "toc": {
   "base_numbering": 1,
   "nav_menu": {},
   "number_sections": true,
   "sideBar": true,
   "skip_h1_title": false,
   "title_cell": "Table of Contents",
   "title_sidebar": "Contents",
   "toc_cell": false,
   "toc_position": {},
   "toc_section_display": true,
   "toc_window_display": false
  }
 },
 "nbformat": 4,
 "nbformat_minor": 5
}
