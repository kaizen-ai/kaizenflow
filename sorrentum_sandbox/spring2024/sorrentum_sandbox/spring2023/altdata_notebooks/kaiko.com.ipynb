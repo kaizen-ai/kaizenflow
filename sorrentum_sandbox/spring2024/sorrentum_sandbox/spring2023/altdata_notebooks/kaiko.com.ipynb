{
 "cells": [
  {
   "cell_type": "markdown",
   "id": "0633692b",
   "metadata": {},
   "source": [
    "# Description"
   ]
  },
  {
   "cell_type": "markdown",
   "id": "e827597d",
   "metadata": {},
   "source": [
    "This notebook contains description of the (public) endpoints of [kaiko.com](kaiko.com) digital asset data aggregator\n",
    "\n",
    "API documentation: https://docs.kaiko.com/"
   ]
  },
  {
   "cell_type": "code",
   "execution_count": null,
   "id": "3908e8e8",
   "metadata": {},
   "outputs": [],
   "source": [
    "import requests"
   ]
  },
  {
   "cell_type": "markdown",
   "id": "6a909bf7",
   "metadata": {},
   "source": [
    "## Reference API"
   ]
  },
  {
   "cell_type": "markdown",
   "id": "942db4b1",
   "metadata": {},
   "source": [
    "https://docs.kaiko.com/#reference-data-api\n",
    "\n",
    "Check public endpoints."
   ]
  },
  {
   "cell_type": "code",
   "execution_count": null,
   "id": "ea9bd637",
   "metadata": {},
   "outputs": [],
   "source": [
    "api_url = \"https://reference-data-api.kaiko.io/\""
   ]
  },
  {
   "cell_type": "code",
   "execution_count": null,
   "id": "ca18a95a",
   "metadata": {},
   "outputs": [],
   "source": [
    "# Assets.\n",
    "assets_url = api_url + \"v1/assets/\"\n",
    "response = requests.get(assets_url)\n",
    "data = response.json()\n",
    "data.keys()"
   ]
  },
  {
   "cell_type": "code",
   "execution_count": null,
   "id": "bd168bb8",
   "metadata": {},
   "outputs": [],
   "source": [
    "# Get size of the entire asset universe.\n",
    "len(data[\"data\"])"
   ]
  },
  {
   "cell_type": "code",
   "execution_count": null,
   "id": "3f45c378",
   "metadata": {},
   "outputs": [],
   "source": [
    "# Get examples of asset metadata.\n",
    "data[\"data\"][410:415]"
   ]
  },
  {
   "cell_type": "code",
   "execution_count": null,
   "id": "aae282a3",
   "metadata": {},
   "outputs": [],
   "source": [
    "# Exchanges.\n",
    "exchanges_url = api_url + \"v1/exchanges/\"\n",
    "response = requests.get(exchanges_url)\n",
    "data = response.json()\n",
    "data.keys()"
   ]
  },
  {
   "cell_type": "code",
   "execution_count": null,
   "id": "1a3804fe",
   "metadata": {},
   "outputs": [],
   "source": [
    "len(data[\"data\"])"
   ]
  },
  {
   "cell_type": "code",
   "execution_count": null,
   "id": "bd4b3124",
   "metadata": {},
   "outputs": [],
   "source": [
    "data[\"data\"][30:40]"
   ]
  },
  {
   "cell_type": "code",
   "execution_count": null,
   "id": "ee1200c8",
   "metadata": {},
   "outputs": [],
   "source": [
    "# Instruments.\n",
    "# https://docs.kaiko.com/#instruments\n",
    "instr_url = api_url + \"v1/instruments/\"\n",
    "response = requests.get(instr_url)\n",
    "data = response.json()\n",
    "data.keys()"
   ]
  },
  {
   "cell_type": "code",
   "execution_count": null,
   "id": "2d6cca78",
   "metadata": {},
   "outputs": [],
   "source": [
    "# Total number of retrieved instruments, same as `len(data[\"data\"])`.\n",
    "data[\"count\"]"
   ]
  },
  {
   "cell_type": "code",
   "execution_count": null,
   "id": "3499559c",
   "metadata": {},
   "outputs": [],
   "source": [
    "data[\"data\"][100:105]"
   ]
  },
  {
   "cell_type": "code",
   "execution_count": null,
   "id": "41f63171",
   "metadata": {},
   "outputs": [],
   "source": [
    "# Pools.\n",
    "pools_url = api_url + \"v1/pools/\"\n",
    "response = requests.get(pools_url)\n",
    "data = response.json()\n",
    "data.keys()"
   ]
  },
  {
   "cell_type": "code",
   "execution_count": null,
   "id": "3421d17c",
   "metadata": {},
   "outputs": [],
   "source": [
    "# Total number of pools, same as `len(data[\"data\"])`.\n",
    "data[\"count\"]"
   ]
  },
  {
   "cell_type": "code",
   "execution_count": null,
   "id": "08d03218",
   "metadata": {},
   "outputs": [],
   "source": [
    "data[\"data\"][110:115]"
   ]
  },
  {
   "cell_type": "markdown",
   "id": "8a29a4a7",
   "metadata": {},
   "source": [
    "## Commentary"
   ]
  },
  {
   "cell_type": "markdown",
   "id": "e09c9dfb",
   "metadata": {},
   "source": [
    "The public reference API gives only the information on the universe, i.e. the assets, exchanges, instruments and pools.\n",
    "Actual examples of data can be obtained by applying for a demo and having a trial subscription."
   ]
  }
 ],
 "metadata": {
  "kernelspec": {
   "display_name": "Python 3 (ipykernel)",
   "language": "python",
   "name": "python3"
  },
  "language_info": {
   "codemirror_mode": {
    "name": "ipython",
    "version": 3
   },
   "file_extension": ".py",
   "mimetype": "text/x-python",
   "name": "python",
   "nbconvert_exporter": "python",
   "pygments_lexer": "ipython3"
  },
  "toc": {
   "base_numbering": 1,
   "nav_menu": {},
   "number_sections": true,
   "sideBar": true,
   "skip_h1_title": false,
   "title_cell": "Table of Contents",
   "title_sidebar": "Contents",
   "toc_cell": false,
   "toc_position": {},
   "toc_section_display": true,
   "toc_window_display": false
  }
 },
 "nbformat": 4,
 "nbformat_minor": 5
}
