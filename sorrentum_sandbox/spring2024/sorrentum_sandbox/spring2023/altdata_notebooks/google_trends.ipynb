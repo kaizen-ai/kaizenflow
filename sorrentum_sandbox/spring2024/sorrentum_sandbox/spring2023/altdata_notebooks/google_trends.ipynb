{
 "cells": [
  {
   "cell_type": "code",
   "execution_count": null,
   "id": "2825bb90",
   "metadata": {},
   "outputs": [],
   "source": [
    "!sudo /bin/bash -c \"(source /venv/bin/activate; pip install pytrends)\""
   ]
  },
  {
   "cell_type": "markdown",
   "id": "5433c1b2",
   "metadata": {},
   "source": [
    "# Imports"
   ]
  },
  {
   "cell_type": "code",
   "execution_count": null,
   "id": "3078a103",
   "metadata": {},
   "outputs": [],
   "source": [
    "import pandas as pd\n",
    "from pytrends.request import TrendReq"
   ]
  },
  {
   "cell_type": "markdown",
   "id": "1d644016",
   "metadata": {},
   "source": [
    "# Get pytrends"
   ]
  },
  {
   "cell_type": "code",
   "execution_count": null,
   "id": "4688580e",
   "metadata": {},
   "outputs": [],
   "source": [
    "pytrends = TrendReq(hl=\"en-US\", tz=360)"
   ]
  },
  {
   "cell_type": "markdown",
   "id": "d6e59422",
   "metadata": {},
   "source": [
    "Define keywords list."
   ]
  },
  {
   "cell_type": "code",
   "execution_count": null,
   "id": "4b744063",
   "metadata": {},
   "outputs": [],
   "source": [
    "kw_list = [\"Bitcoin\"]"
   ]
  },
  {
   "cell_type": "markdown",
   "id": "a9b38aef",
   "metadata": {},
   "source": [
    "# Historical interest"
   ]
  },
  {
   "cell_type": "markdown",
   "id": "d46a4a56",
   "metadata": {},
   "source": [
    " `Cat` is the search category which can be found at https://github.com/pat310/google-trends-api/wiki/Google-Trends-Categories. Category 0 means no category filter.\n",
    "\n",
    " `Geo` is  search country abbreviation which follows the ISO-3166 country code naming scheme, e.g. 'US' or 'US-AL' for Alabama state. Defaults to 'World'.\n",
    "\n",
    " `Gprop` describes what Google property to filter to. Can be `images`, `news`, `youtube` or `froogle`."
   ]
  },
  {
   "cell_type": "markdown",
   "id": "71910736",
   "metadata": {},
   "source": [
    "Let's find the start date of historical data, try year 2005, when Bitcoin and Etherium didn't exist."
   ]
  },
  {
   "cell_type": "code",
   "execution_count": null,
   "id": "3d13dd89",
   "metadata": {},
   "outputs": [],
   "source": [
    "hist_int_old = pytrends.get_historical_interest(\n",
    "    kw_list,\n",
    "    year_start=2005,\n",
    "    month_start=1,\n",
    "    day_start=1,\n",
    "    hour_start=0,\n",
    "    year_end=2010,\n",
    "    month_end=12,\n",
    "    day_end=20,\n",
    "    hour_end=20,\n",
    "    cat=0,\n",
    "    geo=\"\",\n",
    "    gprop=\"\",\n",
    "    sleep=0,\n",
    ")"
   ]
  },
  {
   "cell_type": "markdown",
   "id": "d9efafea",
   "metadata": {},
   "source": [
    "Google Trends normalizes search data to make comparisons between terms easier. Search results are normalized to the time and location of a query by the following process:\n",
    "\n",
    "- Each data point is divided by the total searches of the geography and time range it represents to compare relative popularity. Otherwise, places with the most search volume would always be ranked highest.\n",
    "\n",
    "- The resulting numbers are then scaled on a range of 0 to 100 based on a topic’s proportion to all searches on all topics.\n",
    "\n",
    "- Different regions that show the same search interest for a term don't always have the same total search volumes."
   ]
  },
  {
   "cell_type": "markdown",
   "id": "7475f73e",
   "metadata": {},
   "source": [
    "Plot the result and let's check when Bitcoin appears in google trends."
   ]
  },
  {
   "cell_type": "code",
   "execution_count": null,
   "id": "3d737455",
   "metadata": {},
   "outputs": [],
   "source": [
    "hist_int_old.plot(figsize=(20, 12))\n",
    "\n",
    "hist_int_old.plot(subplots=True, figsize=(20, 12))"
   ]
  },
  {
   "cell_type": "code",
   "execution_count": null,
   "id": "c0666384",
   "metadata": {},
   "outputs": [],
   "source": [
    "hist_int_old[hist_int_old[\"Bitcoin\"] != 0]"
   ]
  },
  {
   "cell_type": "markdown",
   "id": "57bee7aa",
   "metadata": {},
   "source": [
    "But how could `Bitcoin` appear in Google Trends in 2005 if it was created in 2008? Strange!"
   ]
  },
  {
   "cell_type": "markdown",
   "id": "c35cc96b",
   "metadata": {},
   "source": [
    "## Real-time data"
   ]
  },
  {
   "cell_type": "code",
   "execution_count": null,
   "id": "66c3726f",
   "metadata": {},
   "outputs": [],
   "source": [
    "hist_int_new = pytrends.get_historical_interest(\n",
    "    kw_list,\n",
    "    year_start=2022,\n",
    "    month_start=1,\n",
    "    day_start=1,\n",
    "    hour_start=0,\n",
    "    year_end=2022,\n",
    "    month_end=12,\n",
    "    day_end=22,\n",
    "    hour_end=23,\n",
    "    cat=0,\n",
    "    geo=\"\",\n",
    "    gprop=\"\",\n",
    "    sleep=0,\n",
    ")"
   ]
  },
  {
   "cell_type": "code",
   "execution_count": null,
   "id": "2b744379",
   "metadata": {},
   "outputs": [],
   "source": [
    "hist_int_new.plot(figsize=(20, 12))\n",
    "\n",
    "hist_int_new.plot(subplots=True, figsize=(20, 12))"
   ]
  },
  {
   "cell_type": "markdown",
   "id": "e9946cb5",
   "metadata": {},
   "source": [
    "Let's look when the data ends."
   ]
  },
  {
   "cell_type": "code",
   "execution_count": null,
   "id": "fda368e6",
   "metadata": {},
   "outputs": [],
   "source": [
    "hist_int_new.tail()"
   ]
  },
  {
   "cell_type": "markdown",
   "id": "dba27ac6",
   "metadata": {},
   "source": [
    "It looks like the data is delivered once an hour."
   ]
  },
  {
   "cell_type": "markdown",
   "id": "4361a2ac",
   "metadata": {},
   "source": [
    "# Related queries"
   ]
  },
  {
   "cell_type": "code",
   "execution_count": null,
   "id": "aa7df58c",
   "metadata": {},
   "outputs": [],
   "source": [
    "related_q = pytrends.related_queries()"
   ]
  },
  {
   "cell_type": "code",
   "execution_count": null,
   "id": "9f512bfc",
   "metadata": {},
   "outputs": [],
   "source": [
    "related_q[\"Bitcoin\"][\"top\"]"
   ]
  },
  {
   "cell_type": "code",
   "execution_count": null,
   "id": "2c0bf6ff",
   "metadata": {},
   "outputs": [],
   "source": [
    "related_q[\"Bitcoin\"][\"rising\"]"
   ]
  },
  {
   "cell_type": "markdown",
   "id": "66710414",
   "metadata": {},
   "source": [
    "# Related topics"
   ]
  },
  {
   "cell_type": "code",
   "execution_count": null,
   "id": "259eff54",
   "metadata": {},
   "outputs": [],
   "source": [
    "related_t = pytrends.related_topics()"
   ]
  },
  {
   "cell_type": "code",
   "execution_count": null,
   "id": "fa75e71e",
   "metadata": {},
   "outputs": [],
   "source": [
    "related_t[\"Bitcoin\"][\"top\"]"
   ]
  },
  {
   "cell_type": "code",
   "execution_count": null,
   "id": "8239903a",
   "metadata": {},
   "outputs": [],
   "source": [
    "related_t[\"Bitcoin\"][\"rising\"]"
   ]
  }
 ],
 "metadata": {
  "kernelspec": {
   "display_name": "Python 3 (ipykernel)",
   "language": "python",
   "name": "python3"
  },
  "language_info": {
   "codemirror_mode": {
    "name": "ipython",
    "version": 3
   },
   "file_extension": ".py",
   "mimetype": "text/x-python",
   "name": "python",
   "nbconvert_exporter": "python",
   "pygments_lexer": "ipython3"
  },
  "toc": {
   "base_numbering": 1,
   "nav_menu": {},
   "number_sections": true,
   "sideBar": true,
   "skip_h1_title": false,
   "title_cell": "Table of Contents",
   "title_sidebar": "Contents",
   "toc_cell": false,
   "toc_position": {},
   "toc_section_display": true,
   "toc_window_display": false
  }
 },
 "nbformat": 4,
 "nbformat_minor": 5
}
