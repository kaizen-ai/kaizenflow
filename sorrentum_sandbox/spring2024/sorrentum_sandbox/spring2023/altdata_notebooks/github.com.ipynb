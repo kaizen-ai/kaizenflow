{
 "cells": [
  {
   "cell_type": "markdown",
   "id": "17670dc9",
   "metadata": {},
   "source": [
    "# Description"
   ]
  },
  {
   "cell_type": "markdown",
   "id": "0279100a",
   "metadata": {},
   "source": [
    " This notebook researches the abilities of GitHub API.\n",
    " https://docs.github.com/en/rest?apiVersion=2022-11-28\n",
    "\n",
    "Obviously, the actual list of github API endpoints is much longer than presented in this notebook.\n",
    "The data from the endpoints presented here are assumed to have the biggest predictive power.\n",
    "\n",
    "Endpoints used in this notebook (using `bitcoin` repo as an example):\n",
    "1) https://api.github.com/repos/bitcoin/bitcoin - common repo info\n",
    "2) https://api.github.com/repos/bitcoin/bitcoin/stats/commit_activity - last yeat of commit activity\n",
    "3) https://api.github.com/repos/bitcoin/bitcoin/stats/code_frequency - historical weekly aggregate of commits\n",
    "4) https://api.github.com/repos/bitcoin/bitcoin/stats/participation - total commits of repo owner vs. non owners\n",
    "5) https://api.github.com/repos/bitcoin/bitcoin/stats/punch_card - hourly commit count for the last week\n",
    "6) https://api.github.com/repos/bitcoin/bitcoin/issues - open issues\n",
    "7) https://api.github.com/search/repositories?q=blockchain - search repos by `blockchain keyword`\n",
    "8) https://api.github.com/rate_limit - search api rate limits"
   ]
  },
  {
   "cell_type": "markdown",
   "id": "9a1b3a04",
   "metadata": {},
   "source": [
    "# Imports"
   ]
  },
  {
   "cell_type": "code",
   "execution_count": null,
   "id": "9cac1d81",
   "metadata": {},
   "outputs": [],
   "source": [
    "import logging\n",
    "\n",
    "import requests\n",
    "\n",
    "import helpers.hdbg as hdbg\n",
    "import helpers.henv as henv\n",
    "import helpers.hprint as hprint"
   ]
  },
  {
   "cell_type": "code",
   "execution_count": null,
   "id": "6066116e",
   "metadata": {},
   "outputs": [],
   "source": [
    "hdbg.init_logger(verbosity=logging.INFO)\n",
    "\n",
    "_LOG = logging.getLogger(__name__)\n",
    "\n",
    "_LOG.info(\"%s\", henv.get_system_signature()[0])\n",
    "\n",
    "hprint.config_notebook()"
   ]
  },
  {
   "cell_type": "markdown",
   "id": "21d79b69",
   "metadata": {},
   "source": [
    "# Common repository info"
   ]
  },
  {
   "cell_type": "code",
   "execution_count": null,
   "id": "8a3dfdfe",
   "metadata": {},
   "outputs": [],
   "source": [
    "common = requests.get(\"https://api.github.com/repos/bitcoin/bitcoin\").json()\n",
    "display(common)"
   ]
  },
  {
   "cell_type": "markdown",
   "id": "936c7d3a",
   "metadata": {},
   "source": [
    "# Stars"
   ]
  },
  {
   "cell_type": "markdown",
   "id": "f25f09b9",
   "metadata": {},
   "source": [
    "Get the current number of stars for the repository."
   ]
  },
  {
   "cell_type": "code",
   "execution_count": null,
   "id": "9b678daf",
   "metadata": {
    "run_control": {
     "marked": false
    }
   },
   "outputs": [],
   "source": [
    "display(common[\"stargazers_count\"])"
   ]
  },
  {
   "cell_type": "markdown",
   "id": "2dcfe9a3",
   "metadata": {},
   "source": [
    "# Commits"
   ]
  },
  {
   "cell_type": "markdown",
   "id": "4e7ddb38",
   "metadata": {},
   "source": [
    "## /commit_activity"
   ]
  },
  {
   "cell_type": "markdown",
   "id": "30bd599a",
   "metadata": {},
   "source": [
    "Returns the last year of commit activity grouped by week. The days array is a group of commits per day, starting on Sunday.\n",
    "\n"
   ]
  },
  {
   "cell_type": "code",
   "execution_count": null,
   "id": "180ea78e",
   "metadata": {},
   "outputs": [],
   "source": [
    "commits_yearly = requests.get(\n",
    "    \"https://api.github.com/repos/bitcoin/bitcoin/stats/commit_activity\"\n",
    ").json()"
   ]
  },
  {
   "cell_type": "markdown",
   "id": "9add9c4e",
   "metadata": {},
   "source": [
    "E.g. in the array [8, 11, 10, 25, 5, 13, 2] 8 is the number of commits for Sun, 11 - for Monday, 10 - for Tuesday, 25 - for Wednesday, 5 - for Thursday, 13 - for Friday and 2 - for Saturday"
   ]
  },
  {
   "cell_type": "code",
   "execution_count": null,
   "id": "7f5a18bb",
   "metadata": {},
   "outputs": [],
   "source": [
    "display(commits_yearly[:5])"
   ]
  },
  {
   "cell_type": "markdown",
   "id": "79d5adfa",
   "metadata": {},
   "source": [
    "## /code_frequency"
   ]
  },
  {
   "cell_type": "markdown",
   "id": "25387dd6",
   "metadata": {},
   "source": [
    "Returns a historical weekly aggregate of the number of additions and deletions pushed to a repository."
   ]
  },
  {
   "cell_type": "code",
   "execution_count": null,
   "id": "29e87c49",
   "metadata": {},
   "outputs": [],
   "source": [
    "all_commits_weekly_aggregated = requests.get(\n",
    "    \"https://api.github.com/repos/bitcoin/bitcoin/stats/code_frequency\"\n",
    ").json()"
   ]
  },
  {
   "cell_type": "code",
   "execution_count": null,
   "id": "23f65c33",
   "metadata": {},
   "outputs": [],
   "source": [
    "# First date Sun Aug 30 2009 00:00:00 GMT+0000, but common info says that repository was created on '2010-12-19T15:16:43Z'\n",
    "# How is it possible?\n",
    "print(\"First five weeks:\")\n",
    "display(all_commits_weekly_aggregated[:5])\n",
    "print(\"Last five weeks:\")\n",
    "display(all_commits_weekly_aggregated[-5:])"
   ]
  },
  {
   "cell_type": "markdown",
   "id": "a843fa69",
   "metadata": {},
   "source": [
    "## /participation"
   ]
  },
  {
   "cell_type": "markdown",
   "id": "f409fc67",
   "metadata": {},
   "source": [
    "Returns the total commit counts for the owner and total commit counts in all. all is everyone combined, including the owner in the last 52 weeks. If you'd like to get the commit counts for non-owners, you can subtract owner from all.\n",
    "\n",
    "The array order is oldest week (index 0) to most recent week."
   ]
  },
  {
   "cell_type": "code",
   "execution_count": null,
   "id": "68be17f9",
   "metadata": {},
   "outputs": [],
   "source": [
    "total_commits = requests.get(\n",
    "    \"https://api.github.com/repos/bitcoin/bitcoin/stats/participation\"\n",
    ").json()\n",
    "display(total_commits)"
   ]
  },
  {
   "cell_type": "markdown",
   "id": "84dad06f",
   "metadata": {},
   "source": [
    "## /punch_card"
   ]
  },
  {
   "cell_type": "markdown",
   "id": "993c3d96",
   "metadata": {},
   "source": [
    "Get the hourly commit count for each day of the last week.\n"
   ]
  },
  {
   "cell_type": "markdown",
   "id": "7e2bcbfa",
   "metadata": {},
   "source": [
    "Each array contains the day number, hour number, and number of commits:\n",
    "\n",
    "0-6: Sunday - Saturday\n",
    "0-23: Hour of day\n",
    "Number of commits\n",
    "For example, [2, 14, 25] indicates that there were 25 total commits, during the 2:00pm hour on Tuesdays. All times are based on the time zone of individual commits."
   ]
  },
  {
   "cell_type": "code",
   "execution_count": null,
   "id": "a3688d66",
   "metadata": {},
   "outputs": [],
   "source": [
    "hourly_commits = requests.get(\n",
    "    \"https://api.github.com/repos/bitcoin/bitcoin/stats/punch_card\"\n",
    ").json()\n",
    "display(hourly_commits)"
   ]
  },
  {
   "cell_type": "markdown",
   "id": "857aa054",
   "metadata": {},
   "source": [
    "# ISSUES"
   ]
  },
  {
   "cell_type": "markdown",
   "id": "e55cf84b",
   "metadata": {},
   "source": [
    "List issues in a repository. Only open issues will be listed.\n",
    "\n",
    "Note: GitHub's REST API considers every pull request an issue, but not every issue is a pull request. For this reason, \"Issues\" endpoints may return both issues and pull requests in the response. You can identify pull requests by the pull_request key. Be aware that the id of a pull request returned from \"Issues\" endpoints will be an issue id. To find out the pull request id, use the \"List pull requests\" endpoint."
   ]
  },
  {
   "cell_type": "code",
   "execution_count": null,
   "id": "6511e73c",
   "metadata": {},
   "outputs": [],
   "source": [
    "issues = requests.get(\n",
    "    \"https://api.github.com/repos/bitcoin/bitcoin/issues\"\n",
    ").json()"
   ]
  },
  {
   "cell_type": "code",
   "execution_count": null,
   "id": "8f8d693b",
   "metadata": {},
   "outputs": [],
   "source": [
    "display(len(issues))"
   ]
  },
  {
   "cell_type": "markdown",
   "id": "0d24db35",
   "metadata": {},
   "source": [
    "# Search"
   ]
  },
  {
   "cell_type": "markdown",
   "id": "0a6bec74",
   "metadata": {},
   "source": [
    "The Search API has a custom rate limit. For requests using Basic Authentication, OAuth, or client ID and secret, you can make up to 30 requests per minute. For unauthenticated requests, the rate limit allows you to make up to 10 requests per minute."
   ]
  },
  {
   "cell_type": "markdown",
   "id": "86af38be",
   "metadata": {},
   "source": [
    "## Repositories"
   ]
  },
  {
   "cell_type": "markdown",
   "id": "1bf4d406",
   "metadata": {},
   "source": [
    "The search can be performed not only on repositories, we also can search:\n",
    "1) Code `https://api.github.com/search/code?q=Q`\n",
    "2) By label in the specific repo `https://api.github.com/search/labels?repository_id=REPOSITORY_ID&q=Q`\n",
    "3) Issues and PRs `https://api.github.com/search/issues?q=Q`\n",
    "4) Commits `https://api.github.com/search/commits?q=Q`\n",
    "5) Users `https://api.github.com/search/users?q=Q`\n",
    "6) Topics `https://api.github.com/search/topics?q=Q`"
   ]
  },
  {
   "cell_type": "code",
   "execution_count": null,
   "id": "bf489aa1",
   "metadata": {},
   "outputs": [],
   "source": [
    "query = \"blockchain\"\n",
    "search_repos = requests.get(\n",
    "    f\"https://api.github.com/search/repositories?q={query}\"\n",
    ").json()\n",
    "display(search_repos[\"total_count\"])"
   ]
  },
  {
   "cell_type": "code",
   "execution_count": null,
   "id": "82bec430",
   "metadata": {},
   "outputs": [],
   "source": [
    "# First result for \"blockchain\" search query.\n",
    "display(search_repos[\"items\"][:1])"
   ]
  },
  {
   "cell_type": "markdown",
   "id": "80646ad0",
   "metadata": {},
   "source": [
    "# Rate Limit"
   ]
  },
  {
   "cell_type": "markdown",
   "id": "ef4de41d",
   "metadata": {},
   "source": [
    "The Search API has a custom rate limit, separate from the rate limit governing the rest of the REST API. The GraphQL API also has a custom rate limit that is separate from and calculated differently than rate limits in the REST API.\n",
    "\n",
    "For these reasons, the Rate Limit API response categorizes your rate limit. Under resources, you'll see four objects:\n",
    "\n",
    "The core object provides your rate limit status for all non-search-related resources in the REST API.\n",
    "\n",
    "The search object provides your rate limit status for the Search API.\n",
    "\n",
    "The graphql object provides your rate limit status for the GraphQL API.\n",
    "\n",
    "The integration_manifest object provides your rate limit status for the GitHub App Manifest code conversion endpoint."
   ]
  },
  {
   "cell_type": "code",
   "execution_count": null,
   "id": "084b7922",
   "metadata": {},
   "outputs": [],
   "source": [
    "rate_limit = requests.get(\"https://api.github.com/rate_limit\").json()\n",
    "display(rate_limit)"
   ]
  },
  {
   "cell_type": "code",
   "execution_count": null,
   "id": "a193f2d7",
   "metadata": {},
   "outputs": [],
   "source": []
  }
 ],
 "metadata": {
  "kernelspec": {
   "display_name": "Python 3 (ipykernel)",
   "language": "python",
   "name": "python3"
  },
  "language_info": {
   "codemirror_mode": {
    "name": "ipython",
    "version": 3
   },
   "file_extension": ".py",
   "mimetype": "text/x-python",
   "name": "python",
   "nbconvert_exporter": "python",
   "pygments_lexer": "ipython3"
  },
  "toc": {
   "base_numbering": 1,
   "nav_menu": {},
   "number_sections": true,
   "sideBar": true,
   "skip_h1_title": false,
   "title_cell": "Table of Contents",
   "title_sidebar": "Contents",
   "toc_cell": false,
   "toc_position": {},
   "toc_section_display": true,
   "toc_window_display": false
  }
 },
 "nbformat": 4,
 "nbformat_minor": 5
}
