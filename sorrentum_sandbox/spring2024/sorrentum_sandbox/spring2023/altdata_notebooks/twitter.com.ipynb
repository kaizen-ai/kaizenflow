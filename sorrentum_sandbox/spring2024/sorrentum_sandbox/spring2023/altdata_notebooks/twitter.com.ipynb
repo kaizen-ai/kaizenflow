{
 "cells": [
  {
   "cell_type": "markdown",
   "id": "d4dc6293",
   "metadata": {},
   "source": [
    "# Imports"
   ]
  },
  {
   "cell_type": "code",
   "execution_count": null,
   "id": "c0152d2b",
   "metadata": {
    "run_control": {
     "marked": true
    }
   },
   "outputs": [],
   "source": [
    "import os\n",
    "\n",
    "import requests"
   ]
  },
  {
   "cell_type": "code",
   "execution_count": null,
   "id": "f6cf8baf",
   "metadata": {},
   "outputs": [],
   "source": [
    "bearer_token = os.environ[\"BEARER\"]"
   ]
  },
  {
   "cell_type": "markdown",
   "id": "c8ad0007",
   "metadata": {},
   "source": [
    "# Functions"
   ]
  },
  {
   "cell_type": "code",
   "execution_count": null,
   "id": "48b6e85d",
   "metadata": {},
   "outputs": [],
   "source": [
    "def bearer_oauth(r):\n",
    "    \"\"\"\n",
    "    Method required by bearer token authentication.\n",
    "    \"\"\"\n",
    "    r.headers[\"Authorization\"] = f\"Bearer {bearer_token}\"\n",
    "    r.headers[\"User-Agent\"] = \"v2RecentSearchPython\"\n",
    "    return r\n",
    "\n",
    "\n",
    "def connect_to_endpoint(url, params):\n",
    "    response = requests.get(url, auth=bearer_oauth, params=params)\n",
    "    print(response.status_code)\n",
    "    if response.status_code != 200:\n",
    "        raise Exception(response.status_code, response.text)\n",
    "    return response.json()\n",
    "\n",
    "\n",
    "def main(url, params):\n",
    "    json_response = connect_to_endpoint(url, params)\n",
    "    return json_response"
   ]
  },
  {
   "cell_type": "markdown",
   "id": "eb265729",
   "metadata": {},
   "source": [
    "# Downloading data in bulk"
   ]
  },
  {
   "cell_type": "markdown",
   "id": "14dacfae",
   "metadata": {},
   "source": [
    "It seems like twitter API does not support bulk data downloading. But we can apply search to full archive with premium access (below)."
   ]
  },
  {
   "cell_type": "markdown",
   "id": "7891a4a2",
   "metadata": {},
   "source": [
    "# Searching data by hashtag or by search query"
   ]
  },
  {
   "cell_type": "markdown",
   "id": "5abd71cd",
   "metadata": {},
   "source": [
    "There are two search API endpoints:\n",
    "\n",
    "Search Tweets (Free): 30-day endpoint → provides Tweets posted within the last 30 days.\n",
    "\n",
    "Search Tweets (Premium): Full-archive endpoint → provides Tweets from as early as 2006, starting with the first Tweet posted in March 2006."
   ]
  },
  {
   "cell_type": "code",
   "execution_count": null,
   "id": "cc923f3e",
   "metadata": {},
   "outputs": [],
   "source": [
    "search_recent = \"https://api.twitter.com/2/tweets/search/recent\"\n",
    "search_all = \"https://api.twitter.com/2/tweets/search/all\"\n",
    "\n",
    "# Optional params: start_time,end_time,since_id,until_id,max_results,next_token,\n",
    "# expansions,tweet.fields,media.fields,poll.fields,place.fields,user.fields\n",
    "query_params = {\"query\": \"#bitcoin\", \"tweet.fields\": \"author_id\"}"
   ]
  },
  {
   "cell_type": "markdown",
   "id": "31baaa2c",
   "metadata": {},
   "source": [
    "Search recent."
   ]
  },
  {
   "cell_type": "code",
   "execution_count": null,
   "id": "7b8d0e4b",
   "metadata": {},
   "outputs": [],
   "source": [
    "main(search_recent, query_params)[\"data\"]"
   ]
  },
  {
   "cell_type": "markdown",
   "id": "516554c6",
   "metadata": {},
   "source": [
    "Search historical - will produce error since we don't have an access to the premium URLs."
   ]
  },
  {
   "cell_type": "code",
   "execution_count": null,
   "id": "a9d6b58d",
   "metadata": {},
   "outputs": [],
   "source": [
    "main(search_all, query_params)[\"data\"]"
   ]
  },
  {
   "cell_type": "markdown",
   "id": "5d95506a",
   "metadata": {},
   "source": [
    "# Getting trending hashtags"
   ]
  },
  {
   "cell_type": "code",
   "execution_count": null,
   "id": "481aef7f",
   "metadata": {},
   "outputs": [],
   "source": [
    "trends_availiable = \"https://api.twitter.com/1.1/trends/available.json\"\n",
    "all_places = main(trends_availiable, {})"
   ]
  },
  {
   "cell_type": "code",
   "execution_count": null,
   "id": "4a7b8a33",
   "metadata": {},
   "outputs": [],
   "source": [
    "all_places[:5]"
   ]
  },
  {
   "cell_type": "markdown",
   "id": "530c1ddb",
   "metadata": {},
   "source": [
    "Get trends worldwide. Worldwide id = 1"
   ]
  },
  {
   "cell_type": "code",
   "execution_count": null,
   "id": "aef2b8c1",
   "metadata": {},
   "outputs": [],
   "source": [
    "trends_place = \"https://api.twitter.com/1.1/trends/place.json?id=1\"\n",
    "main(trends_place, {})"
   ]
  },
  {
   "cell_type": "markdown",
   "id": "9abeb2c1",
   "metadata": {},
   "source": [
    "# Searching data by topic"
   ]
  },
  {
   "cell_type": "markdown",
   "id": "fa55f3b3",
   "metadata": {},
   "source": [
    "From https://dev.to/suhemparack/how-to-search-for-tweets-about-various-topics-using-the-twitter-api-v2-3p86\n",
    "1) Find the tweet with of the specific topic\n",
    "2) Go to https://tweet-entity-extractor.glitch.me, paste the link to a tweet\n",
    "3) Get the list of entities that were mentioned in a tweet, select the one you need, in this case 131.1007360414114435072=\"bitcoin cryptocurrency\"\n",
    "4) Format the query as `context:131.1007360414114435072`\n",
    "5) Run the search"
   ]
  },
  {
   "cell_type": "code",
   "execution_count": null,
   "id": "fffeff69",
   "metadata": {},
   "outputs": [],
   "source": [
    "query_params = {\n",
    "    \"query\": \"context:131.1007360414114435072\",\n",
    "    \"tweet.fields\": \"author_id\",\n",
    "}\n",
    "main(search_recent, query_params)"
   ]
  },
  {
   "cell_type": "code",
   "execution_count": null,
   "id": "f3c7c442",
   "metadata": {},
   "outputs": [],
   "source": []
  }
 ],
 "metadata": {
  "kernelspec": {
   "display_name": "Python 3 (ipykernel)",
   "language": "python",
   "name": "python3"
  },
  "language_info": {
   "codemirror_mode": {
    "name": "ipython",
    "version": 3
   },
   "file_extension": ".py",
   "mimetype": "text/x-python",
   "name": "python",
   "nbconvert_exporter": "python",
   "pygments_lexer": "ipython3"
  },
  "toc": {
   "base_numbering": 1,
   "nav_menu": {},
   "number_sections": true,
   "sideBar": true,
   "skip_h1_title": false,
   "title_cell": "Table of Contents",
   "title_sidebar": "Contents",
   "toc_cell": false,
   "toc_position": {},
   "toc_section_display": true,
   "toc_window_display": false
  }
 },
 "nbformat": 4,
 "nbformat_minor": 5
}
