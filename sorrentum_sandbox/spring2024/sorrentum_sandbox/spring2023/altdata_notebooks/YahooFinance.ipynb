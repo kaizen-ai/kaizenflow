{
 "cells": [
  {
   "cell_type": "markdown",
   "id": "da20f226",
   "metadata": {},
   "source": [
    "# Description"
   ]
  },
  {
   "cell_type": "markdown",
   "id": "79488afb",
   "metadata": {},
   "source": [
    "This notebook contains examples of the API endpoints for finance.yahoo.com.\n",
    "\n",
    "The API is accessed through an API wrapper `yfinance` (https://github.com/ranaroussi/yfinance)."
   ]
  },
  {
   "cell_type": "markdown",
   "id": "f05213ef",
   "metadata": {},
   "source": [
    "# Imports"
   ]
  },
  {
   "cell_type": "markdown",
   "id": "f11eee3c",
   "metadata": {},
   "source": [
    "## Installing yfinance"
   ]
  },
  {
   "cell_type": "code",
   "execution_count": null,
   "id": "e98b95a0",
   "metadata": {},
   "outputs": [],
   "source": [
    "!sudo /bin/bash -c \"(source /venv/bin/activate; pip install --upgrade pip)\"\n",
    "!sudo /bin/bash -c \"(source /venv/bin/activate; pip install -U yfinance --upgrade --no-cache-dir)\""
   ]
  },
  {
   "cell_type": "code",
   "execution_count": null,
   "id": "d35d9455",
   "metadata": {},
   "outputs": [],
   "source": [
    "import requests\n",
    "import yfinance as yf"
   ]
  },
  {
   "cell_type": "markdown",
   "id": "0e1fa948",
   "metadata": {},
   "source": [
    "# Examples of the free API endpoints"
   ]
  },
  {
   "cell_type": "markdown",
   "id": "68c5a87a",
   "metadata": {},
   "source": [
    "Yahoo finance API was shutdown in 2017. But there is an available API which is returning historical stock data. From https://news.ycombinator.com/item?id=15617278\n",
    "\n",
    "\n",
    "There is a lib `yfinance` that has access to this API and its code can be used to extract some crypto data. Documentation: https://github.com/ranaroussi/yfinance"
   ]
  },
  {
   "cell_type": "markdown",
   "id": "9e0c941b",
   "metadata": {},
   "source": [
    "## Load data"
   ]
  },
  {
   "cell_type": "markdown",
   "id": "7398d1a5",
   "metadata": {},
   "source": [
    "`yfinance` is a very limited lib, I could not find a way to get available tickers universe.\n",
    "There are many tickers that data is being retrieved for."
   ]
  },
  {
   "cell_type": "code",
   "execution_count": null,
   "id": "38874c38",
   "metadata": {},
   "outputs": [],
   "source": [
    "universe = [\n",
    "    \"ETH-USD\",\n",
    "    \"BTC-USD\",\n",
    "    \"SAND-USD\",\n",
    "    \"STORJ-USD\",\n",
    "    \"AVAX-USD\",\n",
    "    \"BNB-USD\",\n",
    "    \"APE-USD\",\n",
    "    \"MATIC-USD\",\n",
    "    \"DOT-USD\",\n",
    "    \"UNFI-USD\",\n",
    "    \"LINK-USD\",\n",
    "    \"XRP-USD\",\n",
    "    \"RUNE-USD\",\n",
    "    \"NEAR-USD\",\n",
    "    \"FTM-USD\",\n",
    "    \"AXS-USD\",\n",
    "    \"OGN-USD\",\n",
    "    \"DOGE-USD\",\n",
    "    \"SOL-USD\",\n",
    "]"
   ]
  },
  {
   "cell_type": "markdown",
   "id": "a8f30b7e",
   "metadata": {},
   "source": [
    "`.download()` loads data for the specified tickers.\n",
    "One of the prerequisites is that `period` and `interval` should be in the following ranges, otherwise output is empty:\n",
    "- 1m data is available only for the last 7 days max\n",
    "- 2m/5m/15m/30m data is available only for the last 60 days max\n",
    "- 1h data is available for 730 days max\n",
    "- 1d data is available for the whole period"
   ]
  },
  {
   "cell_type": "code",
   "execution_count": null,
   "id": "97452e36",
   "metadata": {},
   "outputs": [],
   "source": [
    "period = \"7d\"\n",
    "interval = \"1m\"\n",
    "#\n",
    "df_all = yf.download(\n",
    "    tickers=universe,\n",
    "    period=period,\n",
    "    interval=interval,\n",
    "    ignore_tz=True,\n",
    "    prepost=False,\n",
    ")\n",
    "df_all.tail()"
   ]
  },
  {
   "cell_type": "markdown",
   "id": "c3fe9933",
   "metadata": {},
   "source": [
    "The latest data point is 3 min away from the actual run time so data is being updated in real time."
   ]
  },
  {
   "cell_type": "code",
   "execution_count": null,
   "id": "db7c13eb",
   "metadata": {},
   "outputs": [],
   "source": [
    "df_all.isna().sum()[\"Adj Close\"]"
   ]
  },
  {
   "cell_type": "markdown",
   "id": "a8985911",
   "metadata": {},
   "source": [
    "Not all the retrieved tickers have data for 1 minute bar interval, but we have at least 13 full symbols that we can track from Yahoo in real-time."
   ]
  },
  {
   "cell_type": "markdown",
   "id": "07b84ca9",
   "metadata": {},
   "source": [
    "## Other lib methods"
   ]
  },
  {
   "cell_type": "markdown",
   "id": "a2ecacf9",
   "metadata": {},
   "source": [
    "Apart from it `yfinance` can be used to extract ticker metadata and its stats on the ongoing trade parameters in real time."
   ]
  },
  {
   "cell_type": "code",
   "execution_count": null,
   "id": "7d637d36",
   "metadata": {},
   "outputs": [],
   "source": [
    "ticker = yf.Ticker(\"BTC-USD\")"
   ]
  },
  {
   "cell_type": "code",
   "execution_count": null,
   "id": "4e132a70",
   "metadata": {},
   "outputs": [],
   "source": [
    "ticker.info"
   ]
  },
  {
   "cell_type": "code",
   "execution_count": null,
   "id": "845570ac",
   "metadata": {},
   "outputs": [],
   "source": [
    "ticker.fast_info"
   ]
  },
  {
   "cell_type": "code",
   "execution_count": null,
   "id": "cd67ee59",
   "metadata": {},
   "outputs": [],
   "source": [
    "ticker.fast_info.last_volume"
   ]
  },
  {
   "cell_type": "code",
   "execution_count": null,
   "id": "22985474",
   "metadata": {},
   "outputs": [],
   "source": [
    "hist = ticker.history(period=\"7d\")\n",
    "display(hist)"
   ]
  },
  {
   "cell_type": "code",
   "execution_count": null,
   "id": "6c571c35",
   "metadata": {},
   "outputs": [],
   "source": [
    "ticker.history_metadata"
   ]
  },
  {
   "cell_type": "code",
   "execution_count": null,
   "id": "57edcf26",
   "metadata": {},
   "outputs": [],
   "source": []
  }
 ],
 "metadata": {
  "kernelspec": {
   "display_name": "Python 3 (ipykernel)",
   "language": "python",
   "name": "python3"
  },
  "language_info": {
   "codemirror_mode": {
    "name": "ipython",
    "version": 3
   },
   "file_extension": ".py",
   "mimetype": "text/x-python",
   "name": "python",
   "nbconvert_exporter": "python",
   "pygments_lexer": "ipython3"
  },
  "toc": {
   "base_numbering": 1,
   "nav_menu": {},
   "number_sections": true,
   "sideBar": true,
   "skip_h1_title": false,
   "title_cell": "Table of Contents",
   "title_sidebar": "Contents",
   "toc_cell": false,
   "toc_position": {},
   "toc_section_display": true,
   "toc_window_display": false
  }
 },
 "nbformat": 4,
 "nbformat_minor": 5
}
