{
 "cells": [
  {
   "cell_type": "markdown",
   "id": "c04c18f3",
   "metadata": {},
   "source": [
    "# Imports"
   ]
  },
  {
   "cell_type": "code",
   "execution_count": 3,
   "id": "90b6cd11",
   "metadata": {
    "ExecuteTime": {
     "end_time": "2023-07-03T13:15:49.929002Z",
     "start_time": "2023-07-03T13:15:49.920739Z"
    }
   },
   "outputs": [],
   "source": [
    "import json\n",
    "\n",
    "\n",
    "import ccxt\n",
    "import requests\n",
    "\n",
    "\n",
    "import logging\n",
    "\n",
    "import pandas as pd\n",
    "\n",
    "import helpers.hdatetime as hdateti\n",
    "import helpers.hdbg as hdbg\n",
    "import helpers.henv as henv\n",
    "import helpers.hpandas as hpandas\n",
    "import helpers.hprint as hprint\n",
    "import im_v2.ccxt.data.extract.extractor as imvcdexex\n",
    "import im_v2.common.data.client.im_raw_data_client as imvcdcimrdc\n",
    "import im_v2.common.data.qa.dataset_validator as imvcdqdava\n",
    "import im_v2.common.data.qa.qa_check as imvcdqqach\n",
    "import im_v2.common.universe as ivcu\n",
    "import im_v2.common.universe.universe as imvcounun\n",
    "\n",
    "# %load_ext autoreload\n",
    "# %autoreload 2\n"
   ]
  },
  {
   "cell_type": "code",
   "execution_count": 4,
   "id": "3f243919",
   "metadata": {
    "ExecuteTime": {
     "end_time": "2023-07-03T13:15:50.227062Z",
     "start_time": "2023-07-03T13:15:50.114771Z"
    }
   },
   "outputs": [
    {
     "name": "stdout",
     "output_type": "stream",
     "text": [
      "\u001b[0m\u001b[33mWARNING\u001b[0m: Logger already initialized: skipping\n",
      "\u001b[31m-----------------------------------------------------------------------------\n",
      "This code is not in sync with the container:\n",
      "code_version='1.4.3' != container_version='1.4.0'\n",
      "-----------------------------------------------------------------------------\n",
      "You need to:\n",
      "- merge origin/master into your branch with `invoke git_merge_master`\n",
      "- pull the latest container with `invoke docker_pull`\u001b[0m\n",
      "INFO  # Git\n",
      "  branch_name='CmampTask4631_Create_random_workload_for_broker_run'\n",
      "  hash='75ec043c2'\n",
      "  # Last commits:\n",
      "    * 75ec043c2 vlady    CmampTask4631: continue to play around with the random orders parameters (   7 hours ago) Mon Jul 3 06:31:13 2023  (HEAD -> CmampTask4631_Create_random_workload_for_broker_run, origin/CmampTask4631_Create_random_workload_for_broker_run)\n",
      "    * 6ce45a105 vlady    CmampTask4631: play around with the order size                    (  10 hours ago) Mon Jul 3 03:40:22 2023           \n",
      "    * fca22b11c vlady    CmampTask4631: playing around max_order_notional                  (    3 days ago) Fri Jun 30 17:32:08 2023           \n",
      "# Machine info\n",
      "  system=Linux\n",
      "  node name=b3fb2d447453\n",
      "  release=5.15.0-1033-aws\n",
      "  version=#37~20.04.1-Ubuntu SMP Fri Mar 17 11:39:30 UTC 2023\n",
      "  machine=x86_64\n",
      "  processor=x86_64\n",
      "  cpu count=8\n",
      "  cpu freq=scpufreq(current=2499.998, min=0.0, max=0.0)\n",
      "  memory=svmem(total=33292873728, available=27028733952, percent=18.8, used=5792702464, free=9567014912, active=6417408000, inactive=13634732032, buffers=2172502016, cached=15760654336, shared=2727936, slab=3319848960)\n",
      "  disk usage=sdiskusage(total=156052275200, used=61327548416, free=94707949568, percent=39.3)\n",
      "# Packages\n",
      "  python: 3.8.10\n",
      "  cvxopt: 1.3.0\n",
      "  cvxpy: 1.2.2\n",
      "  gluonnlp: ?\n",
      "  gluonts: 0.6.7\n",
      "  joblib: 1.2.0\n",
      "  mxnet: 1.9.1\n",
      "  numpy: 1.23.4\n",
      "  pandas: 1.5.1\n",
      "  pyarrow: 10.0.0\n",
      "  scipy: 1.9.3\n",
      "  seaborn: 0.12.1\n",
      "  sklearn: 1.1.3\n",
      "  statsmodels: 0.13.5\n"
     ]
    }
   ],
   "source": [
    "hdbg.init_logger(verbosity=logging.INFO)\n",
    "\n",
    "_LOG = logging.getLogger(__name__)\n",
    "\n",
    "_LOG.info(\"%s\", henv.get_system_signature()[0])\n",
    "\n",
    "hprint.config_notebook()"
   ]
  },
  {
   "cell_type": "markdown",
   "id": "219d1aed",
   "metadata": {},
   "source": [
    "# Get last prices from coinmarketcap.com"
   ]
  },
  {
   "cell_type": "code",
   "execution_count": 103,
   "id": "5c24aa1a",
   "metadata": {
    "ExecuteTime": {
     "end_time": "2023-07-03T14:07:58.625255Z",
     "start_time": "2023-07-03T14:07:58.621773Z"
    }
   },
   "outputs": [],
   "source": [
    "CMC_PRO_API_KEY = \"31eb170c-a347-4c3e-824a-76c5aaa8b22d\"\n",
    "LIMIT = \"1000\"\n",
    "latest_url = \"https://pro-api.coinmarketcap.com/v1/cryptocurrency/listings/latest\"\n",
    "parameters = {\n",
    "  'start':'1',\n",
    "  'limit': LIMIT,\n",
    "  'convert':'USD'\n",
    "}\n",
    "headers = {\n",
    "  'Accepts': 'application/json',\n",
    "  'X-CMC_PRO_API_KEY': CMC_PRO_API_KEY,\n",
    "}"
   ]
  },
  {
   "cell_type": "code",
   "execution_count": 104,
   "id": "ae644294",
   "metadata": {
    "ExecuteTime": {
     "end_time": "2023-07-03T14:07:59.819888Z",
     "start_time": "2023-07-03T14:07:58.786926Z"
    }
   },
   "outputs": [],
   "source": [
    "result = requests.get(\n",
    "    latest_url,\n",
    "    params=parameters,\n",
    "    headers=headers\n",
    ")"
   ]
  },
  {
   "cell_type": "code",
   "execution_count": 105,
   "id": "333b98aa",
   "metadata": {
    "ExecuteTime": {
     "end_time": "2023-07-03T14:07:59.837836Z",
     "start_time": "2023-07-03T14:07:59.826955Z"
    }
   },
   "outputs": [],
   "source": [
    "mode = \"trade\"\n",
    "vendor = \"ccxt\"\n",
    "version = \"v7.1\"\n",
    "universe = ivcu.get_vendor_universe(\n",
    "    vendor, mode, version=version\n",
    ")\n"
   ]
  },
  {
   "cell_type": "code",
   "execution_count": 106,
   "id": "af29cc06",
   "metadata": {
    "ExecuteTime": {
     "end_time": "2023-07-03T14:07:59.957374Z",
     "start_time": "2023-07-03T14:07:59.857097Z"
    }
   },
   "outputs": [],
   "source": [
    "market_data = pd.DataFrame(result.json()[\"data\"])"
   ]
  },
  {
   "cell_type": "code",
   "execution_count": 107,
   "id": "9b1759dd",
   "metadata": {
    "ExecuteTime": {
     "end_time": "2023-07-03T14:08:01.542489Z",
     "start_time": "2023-07-03T14:07:59.967201Z"
    }
   },
   "outputs": [],
   "source": [
    "market_data = market_data.groupby('symbol').apply(lambda x: x[x['id'] == x['id'].min()])"
   ]
  },
  {
   "cell_type": "code",
   "execution_count": 108,
   "id": "f2ae009d",
   "metadata": {
    "ExecuteTime": {
     "end_time": "2023-07-03T14:08:01.637017Z",
     "start_time": "2023-07-03T14:08:01.578700Z"
    }
   },
   "outputs": [
    {
     "data": {
      "text/html": [
       "<div>\n",
       "<style scoped>\n",
       "    .dataframe tbody tr th:only-of-type {\n",
       "        vertical-align: middle;\n",
       "    }\n",
       "\n",
       "    .dataframe tbody tr th {\n",
       "        vertical-align: top;\n",
       "    }\n",
       "\n",
       "    .dataframe thead th {\n",
       "        text-align: right;\n",
       "    }\n",
       "</style>\n",
       "<table border=\"1\" class=\"dataframe\">\n",
       "  <thead>\n",
       "    <tr style=\"text-align: right;\">\n",
       "      <th></th>\n",
       "      <th></th>\n",
       "      <th>id</th>\n",
       "      <th>name</th>\n",
       "      <th>symbol</th>\n",
       "      <th>slug</th>\n",
       "      <th>num_market_pairs</th>\n",
       "      <th>date_added</th>\n",
       "      <th>tags</th>\n",
       "      <th>max_supply</th>\n",
       "      <th>circulating_supply</th>\n",
       "      <th>total_supply</th>\n",
       "      <th>infinite_supply</th>\n",
       "      <th>platform</th>\n",
       "      <th>cmc_rank</th>\n",
       "      <th>self_reported_circulating_supply</th>\n",
       "      <th>self_reported_market_cap</th>\n",
       "      <th>tvl_ratio</th>\n",
       "      <th>last_updated</th>\n",
       "      <th>quote</th>\n",
       "    </tr>\n",
       "    <tr>\n",
       "      <th>symbol</th>\n",
       "      <th></th>\n",
       "      <th></th>\n",
       "      <th></th>\n",
       "      <th></th>\n",
       "      <th></th>\n",
       "      <th></th>\n",
       "      <th></th>\n",
       "      <th></th>\n",
       "      <th></th>\n",
       "      <th></th>\n",
       "      <th></th>\n",
       "      <th></th>\n",
       "      <th></th>\n",
       "      <th></th>\n",
       "      <th></th>\n",
       "      <th></th>\n",
       "      <th></th>\n",
       "      <th></th>\n",
       "      <th></th>\n",
       "    </tr>\n",
       "  </thead>\n",
       "  <tbody>\n",
       "    <tr>\n",
       "      <th>$MONG</th>\n",
       "      <th>726</th>\n",
       "      <td>24793</td>\n",
       "      <td>MongCoin</td>\n",
       "      <td>$MONG</td>\n",
       "      <td>mongcoin</td>\n",
       "      <td>18</td>\n",
       "      <td>2023-04-28T06:50:35.000Z</td>\n",
       "      <td>[memes]</td>\n",
       "      <td>6.900000e+14</td>\n",
       "      <td>5.811960e+14</td>\n",
       "      <td>6.900000e+14</td>\n",
       "      <td>False</td>\n",
       "      <td>{'id': 1027, 'name': 'Ethereum', 'symbol': 'ET...</td>\n",
       "      <td>727</td>\n",
       "      <td>5.686374e+14</td>\n",
       "      <td>1.220004e+07</td>\n",
       "      <td>NaN</td>\n",
       "      <td>2023-07-03T14:06:00.000Z</td>\n",
       "      <td>{'USD': {'price': 2.1454864269822927e-08, 'vol...</td>\n",
       "    </tr>\n",
       "    <tr>\n",
       "      <th>1INCH</th>\n",
       "      <th>101</th>\n",
       "      <td>8104</td>\n",
       "      <td>1inch Network</td>\n",
       "      <td>1INCH</td>\n",
       "      <td>1inch</td>\n",
       "      <td>347</td>\n",
       "      <td>2020-12-25T00:00:00.000Z</td>\n",
       "      <td>[decentralized-exchange-dex-token, defi, walle...</td>\n",
       "      <td>NaN</td>\n",
       "      <td>9.433451e+08</td>\n",
       "      <td>1.500000e+09</td>\n",
       "      <td>False</td>\n",
       "      <td>{'id': 1027, 'name': 'Ethereum', 'symbol': 'ET...</td>\n",
       "      <td>102</td>\n",
       "      <td>9.433451e+08</td>\n",
       "      <td>3.173484e+08</td>\n",
       "      <td>NaN</td>\n",
       "      <td>2023-07-03T14:06:00.000Z</td>\n",
       "      <td>{'USD': {'price': 0.336407506126416, 'volume_2...</td>\n",
       "    </tr>\n",
       "    <tr>\n",
       "      <th>1WO</th>\n",
       "      <th>999</th>\n",
       "      <td>2601</td>\n",
       "      <td>1World</td>\n",
       "      <td>1WO</td>\n",
       "      <td>1world</td>\n",
       "      <td>3</td>\n",
       "      <td>2018-03-21T00:00:00.000Z</td>\n",
       "      <td>[algorand-ecosystem]</td>\n",
       "      <td>NaN</td>\n",
       "      <td>3.721945e+07</td>\n",
       "      <td>3.721945e+07</td>\n",
       "      <td>False</td>\n",
       "      <td>{'id': 1027, 'name': 'Ethereum', 'symbol': 'ET...</td>\n",
       "      <td>1000</td>\n",
       "      <td>NaN</td>\n",
       "      <td>NaN</td>\n",
       "      <td>NaN</td>\n",
       "      <td>2023-07-03T14:06:00.000Z</td>\n",
       "      <td>{'USD': {'price': 0.11197148473683413, 'volume...</td>\n",
       "    </tr>\n",
       "    <tr>\n",
       "      <th>AAVE</th>\n",
       "      <th>40</th>\n",
       "      <td>7278</td>\n",
       "      <td>Aave</td>\n",
       "      <td>AAVE</td>\n",
       "      <td>aave</td>\n",
       "      <td>615</td>\n",
       "      <td>2020-10-02T00:00:00.000Z</td>\n",
       "      <td>[defi, dao, yield-farming, three-arrows-capita...</td>\n",
       "      <td>1.600000e+07</td>\n",
       "      <td>1.445839e+07</td>\n",
       "      <td>1.600000e+07</td>\n",
       "      <td>False</td>\n",
       "      <td>{'id': 1027, 'name': 'Ethereum', 'symbol': 'ET...</td>\n",
       "      <td>41</td>\n",
       "      <td>NaN</td>\n",
       "      <td>NaN</td>\n",
       "      <td>0.495452</td>\n",
       "      <td>2023-07-03T14:06:00.000Z</td>\n",
       "      <td>{'USD': {'price': 69.87740555321332, 'volume_2...</td>\n",
       "    </tr>\n",
       "    <tr>\n",
       "      <th>ABBC</th>\n",
       "      <th>198</th>\n",
       "      <td>3437</td>\n",
       "      <td>ABBC Coin</td>\n",
       "      <td>ABBC</td>\n",
       "      <td>abbc-coin</td>\n",
       "      <td>78</td>\n",
       "      <td>2018-10-12T00:00:00.000Z</td>\n",
       "      <td>[dpos, platform, payments]</td>\n",
       "      <td>1.500000e+09</td>\n",
       "      <td>1.421562e+09</td>\n",
       "      <td>1.500000e+09</td>\n",
       "      <td>False</td>\n",
       "      <td>None</td>\n",
       "      <td>199</td>\n",
       "      <td>NaN</td>\n",
       "      <td>NaN</td>\n",
       "      <td>NaN</td>\n",
       "      <td>2023-07-03T14:06:00.000Z</td>\n",
       "      <td>{'USD': {'price': 0.06996331385129455, 'volume...</td>\n",
       "    </tr>\n",
       "    <tr>\n",
       "      <th>...</th>\n",
       "      <th>...</th>\n",
       "      <td>...</td>\n",
       "      <td>...</td>\n",
       "      <td>...</td>\n",
       "      <td>...</td>\n",
       "      <td>...</td>\n",
       "      <td>...</td>\n",
       "      <td>...</td>\n",
       "      <td>...</td>\n",
       "      <td>...</td>\n",
       "      <td>...</td>\n",
       "      <td>...</td>\n",
       "      <td>...</td>\n",
       "      <td>...</td>\n",
       "      <td>...</td>\n",
       "      <td>...</td>\n",
       "      <td>...</td>\n",
       "      <td>...</td>\n",
       "      <td>...</td>\n",
       "    </tr>\n",
       "    <tr>\n",
       "      <th>ZKS</th>\n",
       "      <th>798</th>\n",
       "      <td>8202</td>\n",
       "      <td>ZKSpace</td>\n",
       "      <td>ZKS</td>\n",
       "      <td>zkswap</td>\n",
       "      <td>42</td>\n",
       "      <td>2021-01-07T00:00:00.000Z</td>\n",
       "      <td>[decentralized-exchange-dex-token, zero-knowle...</td>\n",
       "      <td>1.000000e+09</td>\n",
       "      <td>1.974400e+08</td>\n",
       "      <td>1.000000e+09</td>\n",
       "      <td>False</td>\n",
       "      <td>{'id': 1027, 'name': 'Ethereum', 'symbol': 'ET...</td>\n",
       "      <td>799</td>\n",
       "      <td>NaN</td>\n",
       "      <td>NaN</td>\n",
       "      <td>NaN</td>\n",
       "      <td>2023-07-03T14:06:00.000Z</td>\n",
       "      <td>{'USD': {'price': 0.04573822105238773, 'volume...</td>\n",
       "    </tr>\n",
       "    <tr>\n",
       "      <th>ZRX</th>\n",
       "      <th>149</th>\n",
       "      <td>1896</td>\n",
       "      <td>0x Protocol</td>\n",
       "      <td>ZRX</td>\n",
       "      <td>0x</td>\n",
       "      <td>283</td>\n",
       "      <td>2017-08-16T00:00:00.000Z</td>\n",
       "      <td>[platform, decentralized-exchange-dex-token, d...</td>\n",
       "      <td>1.000000e+09</td>\n",
       "      <td>8.474961e+08</td>\n",
       "      <td>1.000000e+09</td>\n",
       "      <td>False</td>\n",
       "      <td>{'id': 1027, 'name': 'Ethereum', 'symbol': 'ET...</td>\n",
       "      <td>150</td>\n",
       "      <td>NaN</td>\n",
       "      <td>NaN</td>\n",
       "      <td>NaN</td>\n",
       "      <td>2023-07-03T14:06:00.000Z</td>\n",
       "      <td>{'USD': {'price': 0.21648834567804126, 'volume...</td>\n",
       "    </tr>\n",
       "    <tr>\n",
       "      <th>ZYN</th>\n",
       "      <th>922</th>\n",
       "      <td>4951</td>\n",
       "      <td>Zynecoin</td>\n",
       "      <td>ZYN</td>\n",
       "      <td>zynecoin</td>\n",
       "      <td>3</td>\n",
       "      <td>2020-07-07T00:00:00.000Z</td>\n",
       "      <td>[mineable]</td>\n",
       "      <td>NaN</td>\n",
       "      <td>3.271319e+07</td>\n",
       "      <td>9.601725e+07</td>\n",
       "      <td>False</td>\n",
       "      <td>None</td>\n",
       "      <td>923</td>\n",
       "      <td>NaN</td>\n",
       "      <td>NaN</td>\n",
       "      <td>NaN</td>\n",
       "      <td>2023-07-03T14:06:00.000Z</td>\n",
       "      <td>{'USD': {'price': 0.18174421903657606, 'volume...</td>\n",
       "    </tr>\n",
       "    <tr>\n",
       "      <th>ankrETH</th>\n",
       "      <th>322</th>\n",
       "      <td>8100</td>\n",
       "      <td>Ankr Staked ETH</td>\n",
       "      <td>ankrETH</td>\n",
       "      <td>ankreth</td>\n",
       "      <td>32</td>\n",
       "      <td>2020-12-23T00:00:00.000Z</td>\n",
       "      <td>[eth-2-staking, liquid-staking-derivatives]</td>\n",
       "      <td>0.000000e+00</td>\n",
       "      <td>2.933000e+04</td>\n",
       "      <td>5.497300e+04</td>\n",
       "      <td>False</td>\n",
       "      <td>{'id': 1027, 'name': 'Ethereum', 'symbol': 'ET...</td>\n",
       "      <td>323</td>\n",
       "      <td>NaN</td>\n",
       "      <td>NaN</td>\n",
       "      <td>NaN</td>\n",
       "      <td>2023-07-03T14:06:00.000Z</td>\n",
       "      <td>{'USD': {'price': 2198.570941460186, 'volume_2...</td>\n",
       "    </tr>\n",
       "    <tr>\n",
       "      <th>stETH</th>\n",
       "      <th>200</th>\n",
       "      <td>8085</td>\n",
       "      <td>Lido Staked ETH</td>\n",
       "      <td>stETH</td>\n",
       "      <td>steth</td>\n",
       "      <td>47</td>\n",
       "      <td>2020-12-23T00:00:00.000Z</td>\n",
       "      <td>[eth-2-staking, liquid-staking-derivatives]</td>\n",
       "      <td>NaN</td>\n",
       "      <td>7.538023e+06</td>\n",
       "      <td>7.538023e+06</td>\n",
       "      <td>False</td>\n",
       "      <td>{'id': 1027, 'name': 'Ethereum', 'symbol': 'ET...</td>\n",
       "      <td>201</td>\n",
       "      <td>NaN</td>\n",
       "      <td>NaN</td>\n",
       "      <td>NaN</td>\n",
       "      <td>2023-07-03T14:06:00.000Z</td>\n",
       "      <td>{'USD': {'price': 1947.6947230372664, 'volume_...</td>\n",
       "    </tr>\n",
       "  </tbody>\n",
       "</table>\n",
       "<p>991 rows × 18 columns</p>\n",
       "</div>"
      ],
      "text/plain": [
       "                id             name   symbol       slug  num_market_pairs                date_added                                               tags    max_supply  circulating_supply  total_supply  infinite_supply                                           platform  cmc_rank  self_reported_circulating_supply  self_reported_market_cap  tvl_ratio              last_updated                                              quote\n",
       "symbol                                                                                                                                                                                                                                                                                                                                                                                                                                  \n",
       "$MONG   726  24793         MongCoin    $MONG   mongcoin                18  2023-04-28T06:50:35.000Z                                            [memes]  6.900000e+14        5.811960e+14  6.900000e+14            False  {'id': 1027, 'name': 'Ethereum', 'symbol': 'ET...       727                      5.686374e+14              1.220004e+07        NaN  2023-07-03T14:06:00.000Z  {'USD': {'price': 2.1454864269822927e-08, 'vol...\n",
       "1INCH   101   8104    1inch Network    1INCH      1inch               347  2020-12-25T00:00:00.000Z  [decentralized-exchange-dex-token, defi, walle...           NaN        9.433451e+08  1.500000e+09            False  {'id': 1027, 'name': 'Ethereum', 'symbol': 'ET...       102                      9.433451e+08              3.173484e+08        NaN  2023-07-03T14:06:00.000Z  {'USD': {'price': 0.336407506126416, 'volume_2...\n",
       "1WO     999   2601           1World      1WO     1world                 3  2018-03-21T00:00:00.000Z                               [algorand-ecosystem]           NaN        3.721945e+07  3.721945e+07            False  {'id': 1027, 'name': 'Ethereum', 'symbol': 'ET...      1000                               NaN                       NaN        NaN  2023-07-03T14:06:00.000Z  {'USD': {'price': 0.11197148473683413, 'volume...\n",
       "AAVE    40    7278             Aave     AAVE       aave               615  2020-10-02T00:00:00.000Z  [defi, dao, yield-farming, three-arrows-capita...  1.600000e+07        1.445839e+07  1.600000e+07            False  {'id': 1027, 'name': 'Ethereum', 'symbol': 'ET...        41                               NaN                       NaN   0.495452  2023-07-03T14:06:00.000Z  {'USD': {'price': 69.87740555321332, 'volume_2...\n",
       "ABBC    198   3437        ABBC Coin     ABBC  abbc-coin                78  2018-10-12T00:00:00.000Z                         [dpos, platform, payments]  1.500000e+09        1.421562e+09  1.500000e+09            False                                               None       199                               NaN                       NaN        NaN  2023-07-03T14:06:00.000Z  {'USD': {'price': 0.06996331385129455, 'volume...\n",
       "...            ...              ...      ...        ...               ...                       ...                                                ...           ...                 ...           ...              ...                                                ...       ...                               ...                       ...        ...                       ...                                                ...\n",
       "ZKS     798   8202          ZKSpace      ZKS     zkswap                42  2021-01-07T00:00:00.000Z  [decentralized-exchange-dex-token, zero-knowle...  1.000000e+09        1.974400e+08  1.000000e+09            False  {'id': 1027, 'name': 'Ethereum', 'symbol': 'ET...       799                               NaN                       NaN        NaN  2023-07-03T14:06:00.000Z  {'USD': {'price': 0.04573822105238773, 'volume...\n",
       "ZRX     149   1896      0x Protocol      ZRX         0x               283  2017-08-16T00:00:00.000Z  [platform, decentralized-exchange-dex-token, d...  1.000000e+09        8.474961e+08  1.000000e+09            False  {'id': 1027, 'name': 'Ethereum', 'symbol': 'ET...       150                               NaN                       NaN        NaN  2023-07-03T14:06:00.000Z  {'USD': {'price': 0.21648834567804126, 'volume...\n",
       "ZYN     922   4951         Zynecoin      ZYN   zynecoin                 3  2020-07-07T00:00:00.000Z                                         [mineable]           NaN        3.271319e+07  9.601725e+07            False                                               None       923                               NaN                       NaN        NaN  2023-07-03T14:06:00.000Z  {'USD': {'price': 0.18174421903657606, 'volume...\n",
       "ankrETH 322   8100  Ankr Staked ETH  ankrETH    ankreth                32  2020-12-23T00:00:00.000Z        [eth-2-staking, liquid-staking-derivatives]  0.000000e+00        2.933000e+04  5.497300e+04            False  {'id': 1027, 'name': 'Ethereum', 'symbol': 'ET...       323                               NaN                       NaN        NaN  2023-07-03T14:06:00.000Z  {'USD': {'price': 2198.570941460186, 'volume_2...\n",
       "stETH   200   8085  Lido Staked ETH    stETH      steth                47  2020-12-23T00:00:00.000Z        [eth-2-staking, liquid-staking-derivatives]           NaN        7.538023e+06  7.538023e+06            False  {'id': 1027, 'name': 'Ethereum', 'symbol': 'ET...       201                               NaN                       NaN        NaN  2023-07-03T14:06:00.000Z  {'USD': {'price': 1947.6947230372664, 'volume_...\n",
       "\n",
       "[991 rows x 18 columns]"
      ]
     },
     "execution_count": 108,
     "metadata": {},
     "output_type": "execute_result"
    }
   ],
   "source": [
    "market_data"
   ]
  },
  {
   "cell_type": "code",
   "execution_count": 109,
   "id": "87c19e58",
   "metadata": {
    "ExecuteTime": {
     "end_time": "2023-07-03T14:08:02.330812Z",
     "start_time": "2023-07-03T14:08:02.312786Z"
    }
   },
   "outputs": [],
   "source": [
    "market_prices = market_data[[\"symbol\", \"quote\"]]"
   ]
  },
  {
   "cell_type": "code",
   "execution_count": 110,
   "id": "4312b38a",
   "metadata": {
    "ExecuteTime": {
     "end_time": "2023-07-03T14:08:02.872336Z",
     "start_time": "2023-07-03T14:08:02.864665Z"
    }
   },
   "outputs": [],
   "source": [
    "market_prices[\"price\"] = market_prices[\"quote\"].apply(lambda x: x[\"USD\"][\"price\"])"
   ]
  },
  {
   "cell_type": "code",
   "execution_count": 111,
   "id": "bc3039b4",
   "metadata": {
    "ExecuteTime": {
     "end_time": "2023-07-03T14:08:03.332133Z",
     "start_time": "2023-07-03T14:08:03.324683Z"
    }
   },
   "outputs": [],
   "source": [
    "market_prices.drop(columns=[\"quote\"], inplace=True)"
   ]
  },
  {
   "cell_type": "code",
   "execution_count": 112,
   "id": "94a633ad",
   "metadata": {
    "ExecuteTime": {
     "end_time": "2023-07-03T14:08:04.074313Z",
     "start_time": "2023-07-03T14:08:04.028125Z"
    }
   },
   "outputs": [
    {
     "data": {
      "text/html": [
       "<div>\n",
       "<style scoped>\n",
       "    .dataframe tbody tr th:only-of-type {\n",
       "        vertical-align: middle;\n",
       "    }\n",
       "\n",
       "    .dataframe tbody tr th {\n",
       "        vertical-align: top;\n",
       "    }\n",
       "\n",
       "    .dataframe thead th {\n",
       "        text-align: right;\n",
       "    }\n",
       "</style>\n",
       "<table border=\"1\" class=\"dataframe\">\n",
       "  <thead>\n",
       "    <tr style=\"text-align: right;\">\n",
       "      <th></th>\n",
       "      <th></th>\n",
       "      <th>symbol</th>\n",
       "      <th>price</th>\n",
       "    </tr>\n",
       "    <tr>\n",
       "      <th>symbol</th>\n",
       "      <th></th>\n",
       "      <th></th>\n",
       "      <th></th>\n",
       "    </tr>\n",
       "  </thead>\n",
       "  <tbody>\n",
       "    <tr>\n",
       "      <th>$MONG</th>\n",
       "      <th>726</th>\n",
       "      <td>$MONG</td>\n",
       "      <td>2.145486e-08</td>\n",
       "    </tr>\n",
       "    <tr>\n",
       "      <th>1INCH</th>\n",
       "      <th>101</th>\n",
       "      <td>1INCH</td>\n",
       "      <td>3.364075e-01</td>\n",
       "    </tr>\n",
       "    <tr>\n",
       "      <th>1WO</th>\n",
       "      <th>999</th>\n",
       "      <td>1WO</td>\n",
       "      <td>1.119715e-01</td>\n",
       "    </tr>\n",
       "    <tr>\n",
       "      <th>AAVE</th>\n",
       "      <th>40</th>\n",
       "      <td>AAVE</td>\n",
       "      <td>6.987741e+01</td>\n",
       "    </tr>\n",
       "    <tr>\n",
       "      <th>ABBC</th>\n",
       "      <th>198</th>\n",
       "      <td>ABBC</td>\n",
       "      <td>6.996331e-02</td>\n",
       "    </tr>\n",
       "    <tr>\n",
       "      <th>...</th>\n",
       "      <th>...</th>\n",
       "      <td>...</td>\n",
       "      <td>...</td>\n",
       "    </tr>\n",
       "    <tr>\n",
       "      <th>ZKS</th>\n",
       "      <th>798</th>\n",
       "      <td>ZKS</td>\n",
       "      <td>4.573822e-02</td>\n",
       "    </tr>\n",
       "    <tr>\n",
       "      <th>ZRX</th>\n",
       "      <th>149</th>\n",
       "      <td>ZRX</td>\n",
       "      <td>2.164883e-01</td>\n",
       "    </tr>\n",
       "    <tr>\n",
       "      <th>ZYN</th>\n",
       "      <th>922</th>\n",
       "      <td>ZYN</td>\n",
       "      <td>1.817442e-01</td>\n",
       "    </tr>\n",
       "    <tr>\n",
       "      <th>ankrETH</th>\n",
       "      <th>322</th>\n",
       "      <td>ankrETH</td>\n",
       "      <td>2.198571e+03</td>\n",
       "    </tr>\n",
       "    <tr>\n",
       "      <th>stETH</th>\n",
       "      <th>200</th>\n",
       "      <td>stETH</td>\n",
       "      <td>1.947695e+03</td>\n",
       "    </tr>\n",
       "  </tbody>\n",
       "</table>\n",
       "<p>991 rows × 2 columns</p>\n",
       "</div>"
      ],
      "text/plain": [
       "              symbol         price\n",
       "symbol                            \n",
       "$MONG   726    $MONG  2.145486e-08\n",
       "1INCH   101    1INCH  3.364075e-01\n",
       "1WO     999      1WO  1.119715e-01\n",
       "AAVE    40      AAVE  6.987741e+01\n",
       "ABBC    198     ABBC  6.996331e-02\n",
       "...              ...           ...\n",
       "ZKS     798      ZKS  4.573822e-02\n",
       "ZRX     149      ZRX  2.164883e-01\n",
       "ZYN     922      ZYN  1.817442e-01\n",
       "ankrETH 322  ankrETH  2.198571e+03\n",
       "stETH   200    stETH  1.947695e+03\n",
       "\n",
       "[991 rows x 2 columns]"
      ]
     },
     "execution_count": 112,
     "metadata": {},
     "output_type": "execute_result"
    }
   ],
   "source": [
    "market_prices"
   ]
  },
  {
   "cell_type": "code",
   "execution_count": 113,
   "id": "e20c0f25",
   "metadata": {
    "ExecuteTime": {
     "end_time": "2023-07-03T14:08:04.977679Z",
     "start_time": "2023-07-03T14:08:04.972633Z"
    }
   },
   "outputs": [],
   "source": [
    "universe_symbols = pd.Series([\n",
    "    symbol.split(\"_\")[0]\n",
    "    for symbol in universe[\"binance\"]\n",
    "])"
   ]
  },
  {
   "cell_type": "code",
   "execution_count": 114,
   "id": "e5c6751a",
   "metadata": {
    "ExecuteTime": {
     "end_time": "2023-07-03T14:08:05.724800Z",
     "start_time": "2023-07-03T14:08:05.715130Z"
    }
   },
   "outputs": [
    {
     "data": {
      "text/plain": [
       "Series([], dtype: object)"
      ]
     },
     "execution_count": 114,
     "metadata": {},
     "output_type": "execute_result"
    }
   ],
   "source": [
    "universe_symbols[~universe_symbols.isin(market_prices.symbol)]"
   ]
  },
  {
   "cell_type": "code",
   "execution_count": 115,
   "id": "add6c9fd",
   "metadata": {
    "ExecuteTime": {
     "end_time": "2023-07-03T14:08:06.364499Z",
     "start_time": "2023-07-03T14:08:06.332389Z"
    }
   },
   "outputs": [],
   "source": [
    "market_prices = market_prices[market_prices.symbol.isin(universe_symbols)]"
   ]
  },
  {
   "cell_type": "code",
   "execution_count": 116,
   "id": "743f9857",
   "metadata": {
    "ExecuteTime": {
     "end_time": "2023-07-03T14:08:06.930598Z",
     "start_time": "2023-07-03T14:08:06.922999Z"
    }
   },
   "outputs": [],
   "source": [
    "market_prices = market_prices.set_index(\"symbol\")"
   ]
  },
  {
   "cell_type": "code",
   "execution_count": 121,
   "id": "e182c6ef",
   "metadata": {
    "ExecuteTime": {
     "end_time": "2023-07-03T14:10:50.187325Z",
     "start_time": "2023-07-03T14:10:50.178499Z"
    }
   },
   "outputs": [],
   "source": [
    "prices = market_prices.to_dict(orient=\"index\")"
   ]
  },
  {
   "cell_type": "code",
   "execution_count": 122,
   "id": "ae946be8",
   "metadata": {
    "ExecuteTime": {
     "end_time": "2023-07-03T14:10:55.407961Z",
     "start_time": "2023-07-03T14:10:55.404265Z"
    }
   },
   "outputs": [],
   "source": [
    "prices = {\n",
    "    key: prices[key][\"price\"]\n",
    "    for key in prices\n",
    "}"
   ]
  },
  {
   "cell_type": "code",
   "execution_count": 123,
   "id": "f9f0515f",
   "metadata": {
    "ExecuteTime": {
     "end_time": "2023-07-03T14:11:00.863290Z",
     "start_time": "2023-07-03T14:11:00.855173Z"
    }
   },
   "outputs": [
    {
     "data": {
      "text/plain": [
       "{'APE': 2.197905043658875,\n",
       " 'AVAX': 13.162287133563312,\n",
       " 'AXS': 6.261364820219348,\n",
       " 'BAKE': 0.11743721712923332,\n",
       " 'BNB': 248.73373185917208,\n",
       " 'BTC': 30685.3848801616,\n",
       " 'CRV': 0.7729292526995412,\n",
       " 'CTK': 0.64635351967252,\n",
       " 'DOGE': 0.06748289718347907,\n",
       " 'DOT': 5.424402039243173,\n",
       " 'DYDX': 2.086527472817396,\n",
       " 'ETH': 1964.13267996661,\n",
       " 'FTM': 0.31823110515831043,\n",
       " 'GMT': 0.10909453342241375,\n",
       " 'LINK': 6.607307622727324,\n",
       " 'MATIC': 0.6916823433191273,\n",
       " 'NEAR': 1.4524186289010763,\n",
       " 'OGN': 0.0848774014247122,\n",
       " 'RUNE': 1.0863405284306937,\n",
       " 'SAND': 0.44480107827371335,\n",
       " 'SOL': 19.152519190599996,\n",
       " 'STORJ': 0.3475357284032491,\n",
       " 'UNFI': 3.5007835966573153,\n",
       " 'WAVES': 1.9205050905298902,\n",
       " 'XRP': 0.48170087502151954}"
      ]
     },
     "execution_count": 123,
     "metadata": {},
     "output_type": "execute_result"
    }
   ],
   "source": [
    "prices"
   ]
  }
 ],
 "metadata": {
  "kernelspec": {
   "display_name": "Python 3 (ipykernel)",
   "language": "python",
   "name": "python3"
  },
  "language_info": {
   "codemirror_mode": {
    "name": "ipython",
    "version": 3
   },
   "file_extension": ".py",
   "mimetype": "text/x-python",
   "name": "python",
   "nbconvert_exporter": "python",
   "pygments_lexer": "ipython3",
   "version": "3.8.10"
  },
  "toc": {
   "base_numbering": 1,
   "nav_menu": {},
   "number_sections": true,
   "sideBar": true,
   "skip_h1_title": false,
   "title_cell": "Table of Contents",
   "title_sidebar": "Contents",
   "toc_cell": false,
   "toc_position": {},
   "toc_section_display": true,
   "toc_window_display": false
  }
 },
 "nbformat": 4,
 "nbformat_minor": 5
}
