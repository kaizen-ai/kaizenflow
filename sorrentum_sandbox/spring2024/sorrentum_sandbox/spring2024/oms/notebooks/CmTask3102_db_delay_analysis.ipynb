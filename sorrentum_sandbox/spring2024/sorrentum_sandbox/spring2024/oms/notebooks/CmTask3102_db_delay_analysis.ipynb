{
 "cells": [
  {
   "cell_type": "code",
   "execution_count": 1,
   "id": "578a31a0",
   "metadata": {
    "ExecuteTime": {
     "end_time": "2022-11-02T13:55:51.676101Z",
     "start_time": "2022-11-02T13:55:51.136295Z"
    }
   },
   "outputs": [],
   "source": [
    "%load_ext autoreload\n",
    "%autoreload 2\n",
    "%matplotlib inline"
   ]
  },
  {
   "cell_type": "code",
   "execution_count": 2,
   "id": "5d2a3739",
   "metadata": {
    "ExecuteTime": {
     "end_time": "2022-11-02T13:55:54.150031Z",
     "start_time": "2022-11-02T13:55:51.678610Z"
    }
   },
   "outputs": [
    {
     "name": "stderr",
     "output_type": "stream",
     "text": [
      "/app/amp/helpers/hparquet.py:19: TqdmExperimentalWarning: Using `tqdm.autonotebook.tqdm` in notebook mode. Use `tqdm.tqdm` instead to force console mode (e.g. in jupyter console)\n",
      "  from tqdm.autonotebook import tqdm\n"
     ]
    }
   ],
   "source": [
    "import logging\n",
    "\n",
    "import pandas as pd\n",
    "\n",
    "import helpers.hdbg as hdbg\n",
    "import helpers.henv as henv\n",
    "import helpers.hpandas as hpandas\n",
    "import helpers.hprint as hprint\n",
    "import helpers.hsql as hsql\n",
    "import im_v2.ccxt.data.client as icdcl\n",
    "import im_v2.common.universe as ivcu\n",
    "import im_v2.im_lib_tasks as imvimlita"
   ]
  },
  {
   "cell_type": "code",
   "execution_count": 3,
   "id": "45712e5c",
   "metadata": {
    "ExecuteTime": {
     "end_time": "2022-11-02T13:55:54.294900Z",
     "start_time": "2022-11-02T13:55:54.152268Z"
    }
   },
   "outputs": [
    {
     "name": "stdout",
     "output_type": "stream",
     "text": [
      "\u001b[0m\u001b[36mINFO\u001b[0m: > cmd='/venv/lib/python3.8/site-packages/ipykernel_launcher.py -f /home/.local/share/jupyter/runtime/kernel-c37e1643-c548-4e5a-9b69-5649f7dfe19e.json'\n",
      "WARNING: Running in Jupyter\n",
      "INFO  # Git\n",
      "  branch_name='CmTask3119_Move_DB_delay_analysis_to_a_separate_notebook'\n",
      "  hash='79ba3b032'\n",
      "  # Last commits:\n",
      "    * 79ba3b032 dan      linter                                                            (17 minutes ago) Wed Nov 2 13:39:04 2022  (HEAD -> CmTask3119_Move_DB_delay_analysis_to_a_separate_notebook, origin/CmTask3119_Move_DB_delay_analysis_to_a_separate_notebook)\n",
      "    * c634a1337 dan      checkpoint                                                        (20 minutes ago) Wed Nov 2 13:36:02 2022           \n",
      "    * 425887553 dan      CmTask3119: Move DB delay analysis to a separate notebook         (24 minutes ago) Wed Nov 2 13:32:03 2022           \n",
      "# Machine info\n",
      "  system=Linux\n",
      "  node name=5675e4514b2b\n",
      "  release=5.15.0-1022-aws\n",
      "  version=#26~20.04.1-Ubuntu SMP Sat Oct 15 03:22:07 UTC 2022\n",
      "  machine=x86_64\n",
      "  processor=x86_64\n",
      "  cpu count=8\n",
      "  cpu freq=scpufreq(current=2499.998, min=0.0, max=0.0)\n",
      "  memory=svmem(total=33292886016, available=27877769216, percent=16.3, used=4955549696, free=8741769216, active=8951455744, inactive=13312925696, buffers=2805972992, cached=16789594112, shared=2629632, slab=1980383232)\n",
      "  disk usage=sdiskusage(total=156052275200, used=29002608640, free=127032889344, percent=18.6)\n",
      "# Packages\n",
      "  python: 3.8.10\n",
      "  gluonnlp: ?\n",
      "  gluonts: 0.6.7\n",
      "  joblib: 1.2.0\n",
      "  mxnet: 1.9.1\n",
      "  numpy: 1.23.3\n",
      "  pandas: 1.5.0\n",
      "  pyarrow: 9.0.0\n",
      "  scipy: 1.9.1\n",
      "  seaborn: 0.12.0\n",
      "  sklearn: 1.1.2\n",
      "  statsmodels: 0.13.2\n"
     ]
    }
   ],
   "source": [
    "hdbg.init_logger(verbosity=logging.INFO)\n",
    "\n",
    "_LOG = logging.getLogger(__name__)\n",
    "\n",
    "_LOG.info(\"%s\", henv.get_system_signature()[0])\n",
    "\n",
    "hprint.config_notebook()"
   ]
  },
  {
   "cell_type": "markdown",
   "id": "a4279525",
   "metadata": {},
   "source": [
    "# Data delay analysis"
   ]
  },
  {
   "cell_type": "code",
   "execution_count": 4,
   "id": "4071f346",
   "metadata": {
    "ExecuteTime": {
     "end_time": "2022-11-02T13:55:55.588421Z",
     "start_time": "2022-11-02T13:55:54.297377Z"
    }
   },
   "outputs": [
    {
     "name": "stderr",
     "output_type": "stream",
     "text": [
      "/app/amp/helpers/hsql_implementation.py:550: UserWarning: pandas only supports SQLAlchemy connectable (engine/connection) or database string URI or sqlite3 DBAPI2 connection. Other DBAPI2 objects are not tested. Please consider using SQLAlchemy.\n",
      "  df = pd.read_sql_query(query, connection)\n"
     ]
    }
   ],
   "source": [
    "# Get the real-time `ImClient`.\n",
    "# TODO(Grisha): ideally we should get the values from the config.\n",
    "resample_1min = False\n",
    "env_file = imvimlita.get_db_env_path(\"dev\")\n",
    "connection_params = hsql.get_connection_info_from_env_file(env_file)\n",
    "db_connection = hsql.get_connection(*connection_params)\n",
    "table_name = \"ccxt_ohlcv_futures\"\n",
    "#\n",
    "im_client = icdcl.CcxtSqlRealTimeImClient(\n",
    "    resample_1min, db_connection, table_name\n",
    ")"
   ]
  },
  {
   "cell_type": "code",
   "execution_count": 5,
   "id": "39d82d85",
   "metadata": {
    "ExecuteTime": {
     "end_time": "2022-11-02T13:55:55.633255Z",
     "start_time": "2022-11-02T13:55:55.592053Z"
    }
   },
   "outputs": [
    {
     "data": {
      "text/plain": [
       "['binance::APE_USDT',\n",
       " 'binance::AVAX_USDT',\n",
       " 'binance::AXS_USDT',\n",
       " 'binance::BAKE_USDT',\n",
       " 'binance::BNB_USDT',\n",
       " 'binance::BTC_USDT',\n",
       " 'binance::CRV_USDT',\n",
       " 'binance::CTK_USDT',\n",
       " 'binance::DOGE_USDT',\n",
       " 'binance::DOT_USDT',\n",
       " 'binance::DYDX_USDT',\n",
       " 'binance::ETH_USDT',\n",
       " 'binance::FTM_USDT',\n",
       " 'binance::GMT_USDT',\n",
       " 'binance::LINK_USDT',\n",
       " 'binance::MATIC_USDT',\n",
       " 'binance::NEAR_USDT',\n",
       " 'binance::OGN_USDT',\n",
       " 'binance::RUNE_USDT',\n",
       " 'binance::SAND_USDT',\n",
       " 'binance::SOL_USDT',\n",
       " 'binance::STORJ_USDT',\n",
       " 'binance::UNFI_USDT',\n",
       " 'binance::WAVES_USDT',\n",
       " 'binance::XRP_USDT']"
      ]
     },
     "execution_count": 5,
     "metadata": {},
     "output_type": "execute_result"
    }
   ],
   "source": [
    "# Get the universe.\n",
    "# TODO(Grisha): get the version from the config.\n",
    "vendor = \"CCXT\"\n",
    "mode = \"trade\"\n",
    "version = \"v7.1\"\n",
    "as_full_symbol = True\n",
    "full_symbols = ivcu.get_vendor_universe(\n",
    "    vendor,\n",
    "    mode,\n",
    "    version=version,\n",
    "    as_full_symbol=as_full_symbol,\n",
    ")\n",
    "full_symbols"
   ]
  },
  {
   "cell_type": "code",
   "execution_count": 6,
   "id": "1c8125e5",
   "metadata": {
    "ExecuteTime": {
     "end_time": "2022-11-02T13:55:57.315145Z",
     "start_time": "2022-11-02T13:55:55.635150Z"
    }
   },
   "outputs": [
    {
     "name": "stderr",
     "output_type": "stream",
     "text": [
      "/app/amp/helpers/hsql_implementation.py:550: UserWarning: pandas only supports SQLAlchemy connectable (engine/connection) or database string URI or sqlite3 DBAPI2 connection. Other DBAPI2 objects are not tested. Please consider using SQLAlchemy.\n",
      "  df = pd.read_sql_query(query, connection)\n"
     ]
    },
    {
     "data": {
      "text/html": [
       "<div>\n",
       "<style scoped>\n",
       "    .dataframe tbody tr th:only-of-type {\n",
       "        vertical-align: middle;\n",
       "    }\n",
       "\n",
       "    .dataframe tbody tr th {\n",
       "        vertical-align: top;\n",
       "    }\n",
       "\n",
       "    .dataframe thead th {\n",
       "        text-align: right;\n",
       "    }\n",
       "</style>\n",
       "<table border=\"1\" class=\"dataframe\">\n",
       "  <thead>\n",
       "    <tr style=\"text-align: right;\">\n",
       "      <th></th>\n",
       "      <th>knowledge_timestamp</th>\n",
       "      <th>open</th>\n",
       "      <th>high</th>\n",
       "      <th>low</th>\n",
       "      <th>close</th>\n",
       "      <th>volume</th>\n",
       "      <th>end_download_timestamp</th>\n",
       "      <th>id</th>\n",
       "      <th>full_symbol</th>\n",
       "    </tr>\n",
       "  </thead>\n",
       "  <tbody>\n",
       "    <tr>\n",
       "      <th>2022-10-28 00:00:00+00:00</th>\n",
       "      <td>2022-10-28 00:01:16.005134+00:00</td>\n",
       "      <td>4.606</td>\n",
       "      <td>4.608</td>\n",
       "      <td>4.605</td>\n",
       "      <td>4.605</td>\n",
       "      <td>21555.0</td>\n",
       "      <td>2022-10-28 00:01:15.501577+00:00</td>\n",
       "      <td>4589919</td>\n",
       "      <td>binance::APE_USDT</td>\n",
       "    </tr>\n",
       "    <tr>\n",
       "      <th>2022-10-28 00:00:00+00:00</th>\n",
       "      <td>2022-10-28 00:01:13.781530+00:00</td>\n",
       "      <td>16.88</td>\n",
       "      <td>16.881</td>\n",
       "      <td>16.846</td>\n",
       "      <td>16.848</td>\n",
       "      <td>10808.0</td>\n",
       "      <td>2022-10-28 00:01:13.278411+00:00</td>\n",
       "      <td>4589917</td>\n",
       "      <td>binance::AVAX_USDT</td>\n",
       "    </tr>\n",
       "    <tr>\n",
       "      <th></th>\n",
       "      <td>...</td>\n",
       "      <td>...</td>\n",
       "      <td>...</td>\n",
       "      <td>...</td>\n",
       "      <td>...</td>\n",
       "      <td>...</td>\n",
       "      <td>...</td>\n",
       "      <td>...</td>\n",
       "      <td>...</td>\n",
       "    </tr>\n",
       "    <tr>\n",
       "      <th>2022-10-29 00:00:00+00:00</th>\n",
       "      <td>2022-10-29 00:01:32.743001+00:00</td>\n",
       "      <td>3.285</td>\n",
       "      <td>3.286</td>\n",
       "      <td>3.284</td>\n",
       "      <td>3.286</td>\n",
       "      <td>6622.5</td>\n",
       "      <td>2022-10-29 00:01:32.239969+00:00</td>\n",
       "      <td>4628811</td>\n",
       "      <td>binance::WAVES_USDT</td>\n",
       "    </tr>\n",
       "    <tr>\n",
       "      <th>2022-10-29 00:00:00+00:00</th>\n",
       "      <td>2022-10-29 00:01:25.212265+00:00</td>\n",
       "      <td>0.474</td>\n",
       "      <td>0.4745</td>\n",
       "      <td>0.4739</td>\n",
       "      <td>0.4741</td>\n",
       "      <td>995562.4</td>\n",
       "      <td>2022-10-29 00:01:24.709140+00:00</td>\n",
       "      <td>4628805</td>\n",
       "      <td>binance::XRP_USDT</td>\n",
       "    </tr>\n",
       "  </tbody>\n",
       "</table>\n",
       "</div>"
      ],
      "text/plain": [
       "                                        knowledge_timestamp   open    high     low   close    volume            end_download_timestamp       id          full_symbol\n",
       "2022-10-28 00:00:00+00:00  2022-10-28 00:01:16.005134+00:00  4.606   4.608   4.605   4.605   21555.0  2022-10-28 00:01:15.501577+00:00  4589919    binance::APE_USDT\n",
       "2022-10-28 00:00:00+00:00  2022-10-28 00:01:13.781530+00:00  16.88  16.881  16.846  16.848   10808.0  2022-10-28 00:01:13.278411+00:00  4589917   binance::AVAX_USDT\n",
       "                                                        ...    ...     ...     ...     ...       ...                               ...      ...                  ...\n",
       "2022-10-29 00:00:00+00:00  2022-10-29 00:01:32.743001+00:00  3.285   3.286   3.284   3.286    6622.5  2022-10-29 00:01:32.239969+00:00  4628811  binance::WAVES_USDT\n",
       "2022-10-29 00:00:00+00:00  2022-10-29 00:01:25.212265+00:00  0.474  0.4745  0.4739  0.4741  995562.4  2022-10-29 00:01:24.709140+00:00  4628805    binance::XRP_USDT"
      ]
     },
     "metadata": {},
     "output_type": "display_data"
    }
   ],
   "source": [
    "# Load the data for the reconciliation date.\n",
    "# `ImClient` operates in UTC timezone.\n",
    "# TODO(Grisha): ideally we should get the values from the config.\n",
    "date_str = \"2022-10-28\"\n",
    "start_ts = pd.Timestamp(date_str, tz=\"UTC\")\n",
    "end_ts = start_ts + pd.Timedelta(days=1)\n",
    "columns = None\n",
    "filter_data_mode = \"assert\"\n",
    "df = im_client.read_data(\n",
    "    full_symbols, start_ts, end_ts, columns, filter_data_mode\n",
    ")\n",
    "hpandas.df_to_str(df, num_rows=5, log_level=logging.INFO)"
   ]
  },
  {
   "cell_type": "code",
   "execution_count": 7,
   "id": "a40b7347",
   "metadata": {
    "ExecuteTime": {
     "end_time": "2022-11-02T13:55:57.985472Z",
     "start_time": "2022-11-02T13:55:57.317893Z"
    }
   },
   "outputs": [
    {
     "data": {
      "text/plain": [
       "<AxesSubplot: title={'center': 'DB delay in seconds per asset'}, xlabel='full_symbol'>"
      ]
     },
     "execution_count": 7,
     "metadata": {},
     "output_type": "execute_result"
    },
    {
     "data": {
      "image/png": "[encoded data removed]",
      "text/plain": [
       "<Figure size 2000x500 with 1 Axes>"
      ]
     },
     "metadata": {},
     "output_type": "display_data"
    }
   ],
   "source": [
    "# TODO(Grisha): move to a lib.\n",
    "# Compute delay in seconds.\n",
    "df[\"delta\"] = (df[\"knowledge_timestamp\"] - df.index).dt.total_seconds()\n",
    "# Plot the delay over assets with the errors bars.\n",
    "delta_per_asset = df.groupby(by=[\"full_symbol\"])[\"delta\"]\n",
    "minimums = delta_per_asset.min()\n",
    "maximums = delta_per_asset.max()\n",
    "means = delta_per_asset.mean()\n",
    "errors = [means - minimums, maximums - means]\n",
    "# TODO(Grisha): sort by maximum delay.\n",
    "means.plot(kind=\"bar\", yerr=errors, title=\"DB delay in seconds per asset\")"
   ]
  },
  {
   "cell_type": "code",
   "execution_count": null,
   "id": "c77f7bc0",
   "metadata": {},
   "outputs": [],
   "source": []
  }
 ],
 "metadata": {
  "kernelspec": {
   "display_name": "Python 3 (ipykernel)",
   "language": "python",
   "name": "python3"
  },
  "language_info": {
   "codemirror_mode": {
    "name": "ipython",
    "version": 3
   },
   "file_extension": ".py",
   "mimetype": "text/x-python",
   "name": "python",
   "nbconvert_exporter": "python",
   "pygments_lexer": "ipython3",
   "version": "3.8.10"
  },
  "toc": {
   "base_numbering": 1,
   "nav_menu": {},
   "number_sections": true,
   "sideBar": true,
   "skip_h1_title": false,
   "title_cell": "Table of Contents",
   "title_sidebar": "Contents",
   "toc_cell": false,
   "toc_position": {},
   "toc_section_display": true,
   "toc_window_display": false
  }
 },
 "nbformat": 4,
 "nbformat_minor": 5
}
