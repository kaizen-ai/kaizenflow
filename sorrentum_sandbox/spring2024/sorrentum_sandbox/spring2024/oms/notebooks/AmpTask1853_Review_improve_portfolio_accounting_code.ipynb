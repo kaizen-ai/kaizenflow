{
 "cells": [
  {
   "cell_type": "code",
   "execution_count": 1,
   "id": "13c05919",
   "metadata": {
    "ExecuteTime": {
     "end_time": "2021-11-17T20:39:34.763595Z",
     "start_time": "2021-11-17T20:39:29.895935Z"
    }
   },
   "outputs": [
    {
     "name": "stderr",
     "output_type": "stream",
     "text": [
      "/app/core/dataflow/core.py:12: TqdmExperimentalWarning: Using `tqdm.autonotebook.tqdm` in notebook mode. Use `tqdm.tqdm` instead to force console mode (e.g. in jupyter console)\n",
      "  from tqdm.autonotebook import tqdm\n"
     ]
    }
   ],
   "source": [
    "%load_ext autoreload\n",
    "%autoreload 2\n",
    "\n",
    "import logging\n",
    "\n",
    "import pandas as pd\n",
    "\n",
    "import helpers.hdbg as hdbg\n",
    "import helpers.hprint as hprint"
   ]
  },
  {
   "cell_type": "code",
   "execution_count": 2,
   "id": "b905be0b",
   "metadata": {
    "ExecuteTime": {
     "end_time": "2021-11-17T20:39:34.903057Z",
     "start_time": "2021-11-17T20:39:34.766892Z"
    }
   },
   "outputs": [
    {
     "name": "stdout",
     "output_type": "stream",
     "text": [
      "\u001b[0m\u001b[36mINFO\u001b[0m: > cmd='/venv/lib/python3.8/site-packages/ipykernel_launcher.py -f /root/.local/share/jupyter/runtime/kernel-21e23276-cfb2-4662-beca-6b0d64aeca2c.json'\n",
      "\u001b[33mWARNING\u001b[0m: Running in Jupyter\n",
      "Effective logging level=10\n",
      "Shut up 96 modules: aiobotocore, aiobotocore.credentials, aiobotocore.utils, asyncio, botocore, botocore, botocore.args, botocore.args, botocore.auth, botocore.auth, botocore.awsrequest, botocore.awsrequest, botocore.client, botocore.client, botocore.compat, botocore.compat, botocore.configprovider, botocore.configprovider, botocore.credentials, botocore.credentials, botocore.discovery, botocore.discovery, botocore.endpoint, botocore.endpoint, botocore.handlers, botocore.handlers, botocore.history, botocore.history, botocore.hooks, botocore.hooks, botocore.httpsession, botocore.httpsession, botocore.loaders, botocore.loaders, botocore.monitoring, botocore.monitoring, botocore.paginate, botocore.paginate, botocore.parsers, botocore.parsers, botocore.regions, botocore.regions, botocore.response, botocore.response, botocore.retries, botocore.retries, botocore.retries.adaptive, botocore.retries.adaptive, botocore.retries.special, botocore.retries.special, botocore.retries.standard, botocore.retries.standard, botocore.retryhandler, botocore.retryhandler, botocore.session, botocore.session, botocore.utils, botocore.utils, botocore.waiter, botocore.waiter, fsspec, matplotlib, matplotlib._layoutgrid, matplotlib.afm, matplotlib.animation, matplotlib.artist, matplotlib.axes, matplotlib.axes._axes, matplotlib.axes._base, matplotlib.axis, matplotlib.backend_bases, matplotlib.blocking_input, matplotlib.category, matplotlib.colorbar, matplotlib.dates, matplotlib.dviread, matplotlib.figure, matplotlib.font_manager, matplotlib.gridspec, matplotlib.image, matplotlib.lines, matplotlib.mathtext, matplotlib.pyplot, matplotlib.style, matplotlib.style.core, matplotlib.text, matplotlib.textpath, matplotlib.ticker, s3fs, urllib3, urllib3.connection, urllib3.connectionpool, urllib3.poolmanager, urllib3.response, urllib3.util, urllib3.util.retry\n",
      "\u001b[33mWARNING\u001b[0m: Disabling annoying warnings\n"
     ]
    }
   ],
   "source": [
    "# hdbg.init_logger(verbosity=logging.INFO)\n",
    "import market_data as mdata\n",
    "import oms.portfolio.portfolio_example as opopoexa\n",
    "\n",
    "hdbg.init_logger(verbosity=logging.DEBUG)\n",
    "\n",
    "_LOG = logging.getLogger(__name__)\n",
    "\n",
    "# _LOG.info(\"%s\", env.get_system_signature()[0])\n",
    "\n",
    "hprint.config_notebook()"
   ]
  },
  {
   "cell_type": "markdown",
   "id": "ae017dba",
   "metadata": {},
   "source": [
    "# Section 1"
   ]
  },
  {
   "cell_type": "code",
   "execution_count": 3,
   "id": "1c0801de",
   "metadata": {
    "ExecuteTime": {
     "end_time": "2021-11-17T20:39:35.281994Z",
     "start_time": "2021-11-17T20:39:34.907937Z"
    }
   },
   "outputs": [
    {
     "name": "stdout",
     "output_type": "stream",
     "text": [
      "start_datetime=Timestamp('2000-01-01 09:30:00-0500', tz='pytz.FixedOffset(-300)'), end_datetime=Timestamp('2000-01-01 10:30:00-0500', tz='pytz.FixedOffset(-300)'), columns=['price'], ids=[101, 202], freq='1T', seed=42\n",
      "df=              start_datetime              end_datetime              timestamp_db     price  asset_id\n",
      "0  2000-01-01 09:30:00-05:00 2000-01-01 09:31:00-05:00 2000-01-01 09:31:00-05:00 -0.125460       101\n",
      "1  2000-01-01 09:31:00-05:00 2000-01-01 09:32:00-05:00 2000-01-01 09:32:00-05:00  0.325254       101\n",
      "2  2000-01-01 09:32:00-05:00 2000-01-01 09:33:00-05:00 2000-01-01 09:33:00-05:00  0.557248       101\n",
      "3  2000-01-01 09:33:00-05:00 2000-01-01 09:34:00-05:00 2000-01-01 09:34:00-05:00  0.655907       101\n",
      "4  2000-01-01 09:34:00-05:00 2000-01-01 09:35:00-05:00 2000-01-01 09:35:00-05:00  0.311925       101\n",
      "5  2000-01-01 09:35:00-05:00 2000-01-01 09:36:00-05:00 2000-01-01 09:36:00-05:00 -0.032080       101\n",
      "6  2000-01-01 09:36:00-05:00 2000-01-01 09:37:00-05:00 2000-01-01 09:37:00-05:00 -0.473996       101\n",
      "7  2000-01-01 09:37:00-05:00 2000-01-01 09:38:00-05:00 2000-01-01 09:38:00-05:00 -0.107820       101\n",
      "8  2000-01-01 09:38:00-05:00 2000-01-01 09:39:00-05:00 2000-01-01 09:39:00-05:00 -0.006705       101\n",
      "9  2000-01-01 09:39:00-05:00 2000-01-01 09:40:00-05:00 2000-01-01 09:40:00-05:00  0.201367       101\n",
      "10 2000-01-01 09:40:00-05:00 2000-01-01 09:41:00-05:00 2000-01-01 09:41:00-05:00 -0.278048       101\n",
      "11 2000-01-01 09:41:00-05:00 2000-01-01 09:42:00-05:00 2000-01-01 09:42:00-05:00  0.191862       101\n",
      "12 2000-01-01 09:42:00-05:00 2000-01-01 09:43:00-05:00 2000-01-01 09:43:00-05:00  0.524304       101\n",
      "13 2000-01-01 09:43:00-05:00 2000-01-01 09:44:00-05:00 2000-01-01 09:44:00-05:00  0.236643       101\n",
      "14 2000-01-01 09:44:00-05:00 2000-01-01 09:45:00-05:00 2000-01-01 09:45:00-05:00 -0.081532       101\n",
      "15 2000-01-01 09:45:00-05:00 2000-01-01 09:46:00-05:00 2000-01-01 09:46:00-05:00 -0.398127       101\n",
      "16 2000-01-01 09:46:00-05:00 2000-01-01 09:47:00-05:00 2000-01-01 09:47:00-05:00 -0.593885       101\n",
      "17 2000-01-01 09:47:00-05:00 2000-01-01 09:48:00-05:00 2000-01-01 09:48:00-05:00 -0.569128       101\n",
      "18 2000-01-01 09:48:00-05:00 2000-01-01 09:49:00-05:00 2000-01-01 09:49:00-05:00 -0.637183       101\n",
      "19 2000-01-01 09:49:00-05:00 2000-01-01 09:50:00-05:00 2000-01-01 09:50:00-05:00 -0.845954       101\n",
      "20 2000-01-01 09:50:00-05:00 2000-01-01 09:51:00-05:00 2000-01-01 09:51:00-05:00 -0.734101       101\n",
      "21 2000-01-01 09:51:00-05:00 2000-01-01 09:52:00-05:00 2000-01-01 09:52:00-05:00 -1.094607       101\n",
      "22 2000-01-01 09:52:00-05:00 2000-01-01 09:53:00-05:00 2000-01-01 09:53:00-05:00 -1.302463       101\n",
      "23 2000-01-01 09:53:00-05:00 2000-01-01 09:54:00-05:00 2000-01-01 09:54:00-05:00 -1.436101       101\n",
      "24 2000-01-01 09:54:00-05:00 2000-01-01 09:55:00-05:00 2000-01-01 09:55:00-05:00 -1.480031       101\n",
      "25 2000-01-01 09:55:00-05:00 2000-01-01 09:56:00-05:00 2000-01-01 09:56:00-05:00 -1.194855       101\n",
      "26 2000-01-01 09:56:00-05:00 2000-01-01 09:57:00-05:00 2000-01-01 09:57:00-05:00 -1.495181       101\n",
      "27 2000-01-01 09:57:00-05:00 2000-01-01 09:58:00-05:00 2000-01-01 09:58:00-05:00 -1.480947       101\n",
      "28 2000-01-01 09:58:00-05:00 2000-01-01 09:59:00-05:00 2000-01-01 09:59:00-05:00 -1.388532       101\n",
      "29 2000-01-01 09:59:00-05:00 2000-01-01 10:00:00-05:00 2000-01-01 10:00:00-05:00 -1.842082       101\n",
      "30 2000-01-01 10:00:00-05:00 2000-01-01 10:01:00-05:00 2000-01-01 10:01:00-05:00 -1.734537       101\n",
      "31 2000-01-01 10:01:00-05:00 2000-01-01 10:02:00-05:00 2000-01-01 10:02:00-05:00 -2.064013       101\n",
      "32 2000-01-01 10:02:00-05:00 2000-01-01 10:03:00-05:00 2000-01-01 10:03:00-05:00 -2.498961       101\n",
      "33 2000-01-01 10:03:00-05:00 2000-01-01 10:04:00-05:00 2000-01-01 10:04:00-05:00 -2.050076       101\n",
      "34 2000-01-01 10:04:00-05:00 2000-01-01 10:05:00-05:00 2000-01-01 10:05:00-05:00 -1.584444       101\n",
      "35 2000-01-01 10:05:00-05:00 2000-01-01 10:06:00-05:00 2000-01-01 10:06:00-05:00 -1.276046       101\n",
      "36 2000-01-01 10:06:00-05:00 2000-01-01 10:07:00-05:00 2000-01-01 10:07:00-05:00 -1.471433       101\n",
      "37 2000-01-01 10:07:00-05:00 2000-01-01 10:08:00-05:00 2000-01-01 10:08:00-05:00 -1.873760       101\n",
      "38 2000-01-01 10:08:00-05:00 2000-01-01 10:09:00-05:00 2000-01-01 10:09:00-05:00 -1.689527       101\n",
      "39 2000-01-01 10:09:00-05:00 2000-01-01 10:10:00-05:00 2000-01-01 10:10:00-05:00 -1.749375       101\n",
      "40 2000-01-01 10:10:00-05:00 2000-01-01 10:11:00-05:00 2000-01-01 10:11:00-05:00 -2.127337       101\n",
      "41 2000-01-01 10:11:00-05:00 2000-01-01 10:12:00-05:00 2000-01-01 10:12:00-05:00 -2.132160       101\n",
      "42 2000-01-01 10:12:00-05:00 2000-01-01 10:13:00-05:00 2000-01-01 10:13:00-05:00 -2.597771       101\n",
      "43 2000-01-01 10:13:00-05:00 2000-01-01 10:14:00-05:00 2000-01-01 10:14:00-05:00 -2.188451       101\n",
      "44 2000-01-01 10:14:00-05:00 2000-01-01 10:15:00-05:00 2000-01-01 10:15:00-05:00 -2.429671       101\n",
      "45 2000-01-01 10:15:00-05:00 2000-01-01 10:16:00-05:00 2000-01-01 10:16:00-05:00 -2.267149       101\n",
      "46 2000-01-01 10:16:00-05:00 2000-01-01 10:17:00-05:00 2000-01-01 10:17:00-05:00 -2.455438       101\n",
      "47 2000-01-01 10:17:00-05:00 2000-01-01 10:18:00-05:00 2000-01-01 10:18:00-05:00 -2.435370       101\n",
      "48 2000-01-01 10:18:00-05:00 2000-01-01 10:19:00-05:00 2000-01-01 10:19:00-05:00 -2.388659       101\n",
      "49 2000-01-01 10:19:00-05:00 2000-01-01 10:20:00-05:00 2000-01-01 10:20:00-05:00 -2.703805       101\n",
      "50 2000-01-01 10:20:00-05:00 2000-01-01 10:21:00-05:00 2000-01-01 10:21:00-05:00 -2.234220       101\n",
      "51 2000-01-01 10:21:00-05:00 2000-01-01 10:22:00-05:00 2000-01-01 10:22:00-05:00 -1.959087       101\n",
      "52 2000-01-01 10:22:00-05:00 2000-01-01 10:23:00-05:00 2000-01-01 10:23:00-05:00 -1.519588       101\n",
      "53 2000-01-01 10:23:00-05:00 2000-01-01 10:24:00-05:00 2000-01-01 10:24:00-05:00 -1.124761       101\n",
      "54 2000-01-01 10:24:00-05:00 2000-01-01 10:25:00-05:00 2000-01-01 10:25:00-05:00 -1.026861       101\n",
      "55 2000-01-01 10:25:00-05:00 2000-01-01 10:26:00-05:00 2000-01-01 10:26:00-05:00 -0.604987       101\n",
      "56 2000-01-01 10:26:00-05:00 2000-01-01 10:27:00-05:00 2000-01-01 10:27:00-05:00 -1.016494       101\n",
      "57 2000-01-01 10:27:00-05:00 2000-01-01 10:28:00-05:00 2000-01-01 10:28:00-05:00 -1.320511       101\n",
      "58 2000-01-01 10:28:00-05:00 2000-01-01 10:29:00-05:00 2000-01-01 10:29:00-05:00 -1.775284       101\n",
      "59 2000-01-01 10:29:00-05:00 2000-01-01 10:30:00-05:00 2000-01-01 10:30:00-05:00 -1.949954       101\n",
      "60 2000-01-01 10:30:00-05:00 2000-01-01 10:31:00-05:00 2000-01-01 10:31:00-05:00 -2.061277       101\n",
      "0  2000-01-01 09:30:00-05:00 2000-01-01 09:31:00-05:00 2000-01-01 09:31:00-05:00 -0.125460       202\n",
      "1  2000-01-01 09:31:00-05:00 2000-01-01 09:32:00-05:00 2000-01-01 09:32:00-05:00  0.325254       202\n",
      "2  2000-01-01 09:32:00-05:00 2000-01-01 09:33:00-05:00 2000-01-01 09:33:00-05:00  0.557248       202\n",
      "3  2000-01-01 09:33:00-05:00 2000-01-01 09:34:00-05:00 2000-01-01 09:34:00-05:00  0.655907       202\n",
      "4  2000-01-01 09:34:00-05:00 2000-01-01 09:35:00-05:00 2000-01-01 09:35:00-05:00  0.311925       202\n",
      "5  2000-01-01 09:35:00-05:00 2000-01-01 09:36:00-05:00 2000-01-01 09:36:00-05:00 -0.032080       202\n",
      "6  2000-01-01 09:36:00-05:00 2000-01-01 09:37:00-05:00 2000-01-01 09:37:00-05:00 -0.473996       202\n",
      "7  2000-01-01 09:37:00-05:00 2000-01-01 09:38:00-05:00 2000-01-01 09:38:00-05:00 -0.107820       202\n",
      "8  2000-01-01 09:38:00-05:00 2000-01-01 09:39:00-05:00 2000-01-01 09:39:00-05:00 -0.006705       202\n",
      "9  2000-01-01 09:39:00-05:00 2000-01-01 09:40:00-05:00 2000-01-01 09:40:00-05:00  0.201367       202\n",
      "10 2000-01-01 09:40:00-05:00 2000-01-01 09:41:00-05:00 2000-01-01 09:41:00-05:00 -0.278048       202\n",
      "11 2000-01-01 09:41:00-05:00 2000-01-01 09:42:00-05:00 2000-01-01 09:42:00-05:00  0.191862       202\n",
      "12 2000-01-01 09:42:00-05:00 2000-01-01 09:43:00-05:00 2000-01-01 09:43:00-05:00  0.524304       202\n",
      "13 2000-01-01 09:43:00-05:00 2000-01-01 09:44:00-05:00 2000-01-01 09:44:00-05:00  0.236643       202\n",
      "14 2000-01-01 09:44:00-05:00 2000-01-01 09:45:00-05:00 2000-01-01 09:45:00-05:00 -0.081532       202\n",
      "15 2000-01-01 09:45:00-05:00 2000-01-01 09:46:00-05:00 2000-01-01 09:46:00-05:00 -0.398127       202\n",
      "16 2000-01-01 09:46:00-05:00 2000-01-01 09:47:00-05:00 2000-01-01 09:47:00-05:00 -0.593885       202\n",
      "17 2000-01-01 09:47:00-05:00 2000-01-01 09:48:00-05:00 2000-01-01 09:48:00-05:00 -0.569128       202\n",
      "18 2000-01-01 09:48:00-05:00 2000-01-01 09:49:00-05:00 2000-01-01 09:49:00-05:00 -0.637183       202\n",
      "19 2000-01-01 09:49:00-05:00 2000-01-01 09:50:00-05:00 2000-01-01 09:50:00-05:00 -0.845954       202\n",
      "20 2000-01-01 09:50:00-05:00 2000-01-01 09:51:00-05:00 2000-01-01 09:51:00-05:00 -0.734101       202\n",
      "21 2000-01-01 09:51:00-05:00 2000-01-01 09:52:00-05:00 2000-01-01 09:52:00-05:00 -1.094607       202\n",
      "22 2000-01-01 09:52:00-05:00 2000-01-01 09:53:00-05:00 2000-01-01 09:53:00-05:00 -1.302463       202\n",
      "23 2000-01-01 09:53:00-05:00 2000-01-01 09:54:00-05:00 2000-01-01 09:54:00-05:00 -1.436101       202\n",
      "24 2000-01-01 09:54:00-05:00 2000-01-01 09:55:00-05:00 2000-01-01 09:55:00-05:00 -1.480031       202\n",
      "25 2000-01-01 09:55:00-05:00 2000-01-01 09:56:00-05:00 2000-01-01 09:56:00-05:00 -1.194855       202\n",
      "26 2000-01-01 09:56:00-05:00 2000-01-01 09:57:00-05:00 2000-01-01 09:57:00-05:00 -1.495181       202\n",
      "27 2000-01-01 09:57:00-05:00 2000-01-01 09:58:00-05:00 2000-01-01 09:58:00-05:00 -1.480947       202\n",
      "28 2000-01-01 09:58:00-05:00 2000-01-01 09:59:00-05:00 2000-01-01 09:59:00-05:00 -1.388532       202\n",
      "29 2000-01-01 09:59:00-05:00 2000-01-01 10:00:00-05:00 2000-01-01 10:00:00-05:00 -1.842082       202\n",
      "30 2000-01-01 10:00:00-05:00 2000-01-01 10:01:00-05:00 2000-01-01 10:01:00-05:00 -1.734537       202\n",
      "31 2000-01-01 10:01:00-05:00 2000-01-01 10:02:00-05:00 2000-01-01 10:02:00-05:00 -2.064013       202\n",
      "32 2000-01-01 10:02:00-05:00 2000-01-01 10:03:00-05:00 2000-01-01 10:03:00-05:00 -2.498961       202\n",
      "33 2000-01-01 10:03:00-05:00 2000-01-01 10:04:00-05:00 2000-01-01 10:04:00-05:00 -2.050076       202\n",
      "34 2000-01-01 10:04:00-05:00 2000-01-01 10:05:00-05:00 2000-01-01 10:05:00-05:00 -1.584444       202\n",
      "35 2000-01-01 10:05:00-05:00 2000-01-01 10:06:00-05:00 2000-01-01 10:06:00-05:00 -1.276046       202\n",
      "36 2000-01-01 10:06:00-05:00 2000-01-01 10:07:00-05:00 2000-01-01 10:07:00-05:00 -1.471433       202\n",
      "37 2000-01-01 10:07:00-05:00 2000-01-01 10:08:00-05:00 2000-01-01 10:08:00-05:00 -1.873760       202\n",
      "38 2000-01-01 10:08:00-05:00 2000-01-01 10:09:00-05:00 2000-01-01 10:09:00-05:00 -1.689527       202\n",
      "39 2000-01-01 10:09:00-05:00 2000-01-01 10:10:00-05:00 2000-01-01 10:10:00-05:00 -1.749375       202\n",
      "40 2000-01-01 10:10:00-05:00 2000-01-01 10:11:00-05:00 2000-01-01 10:11:00-05:00 -2.127337       202\n",
      "41 2000-01-01 10:11:00-05:00 2000-01-01 10:12:00-05:00 2000-01-01 10:12:00-05:00 -2.132160       202\n",
      "42 2000-01-01 10:12:00-05:00 2000-01-01 10:13:00-05:00 2000-01-01 10:13:00-05:00 -2.597771       202\n",
      "43 2000-01-01 10:13:00-05:00 2000-01-01 10:14:00-05:00 2000-01-01 10:14:00-05:00 -2.188451       202\n",
      "44 2000-01-01 10:14:00-05:00 2000-01-01 10:15:00-05:00 2000-01-01 10:15:00-05:00 -2.429671       202\n",
      "45 2000-01-01 10:15:00-05:00 2000-01-01 10:16:00-05:00 2000-01-01 10:16:00-05:00 -2.267149       202\n",
      "46 2000-01-01 10:16:00-05:00 2000-01-01 10:17:00-05:00 2000-01-01 10:17:00-05:00 -2.455438       202\n",
      "47 2000-01-01 10:17:00-05:00 2000-01-01 10:18:00-05:00 2000-01-01 10:18:00-05:00 -2.435370       202\n",
      "48 2000-01-01 10:18:00-05:00 2000-01-01 10:19:00-05:00 2000-01-01 10:19:00-05:00 -2.388659       202\n",
      "49 2000-01-01 10:19:00-05:00 2000-01-01 10:20:00-05:00 2000-01-01 10:20:00-05:00 -2.703805       202\n",
      "50 2000-01-01 10:20:00-05:00 2000-01-01 10:21:00-05:00 2000-01-01 10:21:00-05:00 -2.234220       202\n",
      "51 2000-01-01 10:21:00-05:00 2000-01-01 10:22:00-05:00 2000-01-01 10:22:00-05:00 -1.959087       202\n",
      "52 2000-01-01 10:22:00-05:00 2000-01-01 10:23:00-05:00 2000-01-01 10:23:00-05:00 -1.519588       202\n",
      "53 2000-01-01 10:23:00-05:00 2000-01-01 10:24:00-05:00 2000-01-01 10:24:00-05:00 -1.124761       202\n",
      "54 2000-01-01 10:24:00-05:00 2000-01-01 10:25:00-05:00 2000-01-01 10:25:00-05:00 -1.026861       202\n",
      "55 2000-01-01 10:25:00-05:00 2000-01-01 10:26:00-05:00 2000-01-01 10:26:00-05:00 -0.604987       202\n",
      "56 2000-01-01 10:26:00-05:00 2000-01-01 10:27:00-05:00 2000-01-01 10:27:00-05:00 -1.016494       202\n",
      "57 2000-01-01 10:27:00-05:00 2000-01-01 10:28:00-05:00 2000-01-01 10:28:00-05:00 -1.320511       202\n",
      "58 2000-01-01 10:28:00-05:00 2000-01-01 10:29:00-05:00 2000-01-01 10:29:00-05:00 -1.775284       202\n",
      "59 2000-01-01 10:29:00-05:00 2000-01-01 10:30:00-05:00 2000-01-01 10:30:00-05:00 -1.949954       202\n",
      "60 2000-01-01 10:30:00-05:00 2000-01-01 10:31:00-05:00 2000-01-01 10:31:00-05:00 -2.061277       202\n"
     ]
    },
    {
     "name": "stdout",
     "output_type": "stream",
     "text": [
      "self._initial_timestamp=Timestamp('2000-01-01 09:35:00-0500', tz='pytz.FixedOffset(-300)'), self._initial_wall_clock_dt=Timestamp('2021-11-17 15:39:35.095751-0500', tz='America/New_York')\n",
      "\n"
     ]
    }
   ],
   "source": [
    "event_loop = None\n",
    "market_data = mdata.get_ReplayedTimeMarketData_example3(event_loop)"
   ]
  },
  {
   "cell_type": "code",
   "execution_count": 4,
   "id": "373a6d3b",
   "metadata": {
    "ExecuteTime": {
     "end_time": "2021-11-17T20:39:35.464496Z",
     "start_time": "2021-11-17T20:39:35.321957Z"
    }
   },
   "outputs": [
    {
     "name": "stdout",
     "output_type": "stream",
     "text": [
      "strategy_id='st1', account='paper', asset_id_column='asset_id', price_column='price', initial_cash=1000000.0, initial_timestamp=Timestamp('2000-01-01 09:35:00-0500', tz='pytz.FixedOffset(-300)')\n"
     ]
    }
   ],
   "source": [
    "initial_timestamp = pd.Timestamp(\"2000-01-01 09:35:00-05:00\")\n",
    "portfolio = opopoexa.get_simulated_portfolio_example1(\n",
    "    market_data, initial_timestamp\n",
    ")"
   ]
  },
  {
   "cell_type": "code",
   "execution_count": 5,
   "id": "5e8604b0",
   "metadata": {
    "ExecuteTime": {
     "end_time": "2021-11-17T20:39:35.643178Z",
     "start_time": "2021-11-17T20:39:35.472825Z"
    }
   },
   "outputs": [
    {
     "data": {
      "text/plain": [
       "'# holdings=\\n                           asset_id  curr_num_shares\\n2000-01-01 09:35:00-05:00        -1        1000000.0\\n# orders=\\n                          order_id creation_timestamp asset_id type_ start_timestamp end_timestamp num_shares num_shares_filled execution_price holdings+1 cash+1\\n2000-01-01 09:35:00-05:00      NaN                NaN      NaN   NaN             NaN           NaN        NaN               NaN             NaN        NaN    NaN'"
      ]
     },
     "execution_count": 5,
     "metadata": {},
     "output_type": "execute_result"
    }
   ],
   "source": [
    "str(portfolio)"
   ]
  },
  {
   "cell_type": "code",
   "execution_count": 6,
   "id": "3bee9c77",
   "metadata": {
    "ExecuteTime": {
     "end_time": "2021-11-17T20:39:36.022323Z",
     "start_time": "2021-11-17T20:39:35.763999Z"
    }
   },
   "outputs": [
    {
     "data": {
      "text/html": [
       "<div>\n",
       "<style scoped>\n",
       "    .dataframe tbody tr th:only-of-type {\n",
       "        vertical-align: middle;\n",
       "    }\n",
       "\n",
       "    .dataframe tbody tr th {\n",
       "        vertical-align: top;\n",
       "    }\n",
       "\n",
       "    .dataframe thead th {\n",
       "        text-align: right;\n",
       "    }\n",
       "</style>\n",
       "<table border=\"1\" class=\"dataframe\">\n",
       "  <thead>\n",
       "    <tr style=\"text-align: right;\">\n",
       "      <th></th>\n",
       "      <th>asset_id</th>\n",
       "      <th>curr_num_shares</th>\n",
       "    </tr>\n",
       "  </thead>\n",
       "  <tbody>\n",
       "    <tr>\n",
       "      <th>2000-01-01 09:35:00-05:00</th>\n",
       "      <td>-1</td>\n",
       "      <td>1000000.0</td>\n",
       "    </tr>\n",
       "  </tbody>\n",
       "</table>\n",
       "</div>"
      ],
      "text/plain": [
       "                           asset_id  curr_num_shares\n",
       "2000-01-01 09:35:00-05:00        -1        1000000.0"
      ]
     },
     "execution_count": 6,
     "metadata": {},
     "output_type": "execute_result"
    }
   ],
   "source": [
    "portfolio.holdings"
   ]
  },
  {
   "cell_type": "code",
   "execution_count": 7,
   "id": "6f5d0ced",
   "metadata": {
    "ExecuteTime": {
     "end_time": "2021-11-17T20:39:36.673539Z",
     "start_time": "2021-11-17T20:39:36.027878Z"
    }
   },
   "outputs": [
    {
     "name": "stdout",
     "output_type": "stream",
     "text": [
      "timestamp=Timestamp('2000-01-01 09:35:00-0500', tz='pytz.FixedOffset(-300)'), asset_id=-1, exclude_cash=True\n",
      "holdings=\n",
      "                           asset_id  curr_num_shares\n",
      "2000-01-01 09:35:00-05:00        -1        1000000.0\n",
      "holdings=(1, 2)\n",
      "                           asset_id  curr_num_shares\n",
      "2000-01-01 09:35:00-05:00      -1.0        1000000.0\n",
      "Filtering by asset_id: holdings=\n",
      "                           asset_id  curr_num_shares\n",
      "2000-01-01 09:35:00-05:00      -1.0        1000000.0\n",
      "mask=\n",
      "2000-01-01 09:35:00-05:00    True\n",
      "Name: asset_id, dtype: bool\n",
      "exclude_cash: holdings=\n",
      "                           asset_id  curr_num_shares\n",
      "2000-01-01 09:35:00-05:00      -1.0        1000000.0\n"
     ]
    },
    {
     "ename": "AssertionError",
     "evalue": "\n################################################################################\n* Failed assertion *\n'-1'\n!=\n'-1'\nYou cannot request cash (asset_id=`-1`) and simultaneously request to exclude it\n################################################################################\n",
     "output_type": "error",
     "traceback": [
      "\u001b[0;31m---------------------------------------------------------------------------\u001b[0m",
      "\u001b[0;31mAssertionError\u001b[0m                            Traceback (most recent call last)",
      "\u001b[0;32m/tmp/ipykernel_140/2633144444.py\u001b[0m in \u001b[0;36m<module>\u001b[0;34m\u001b[0m\n\u001b[0;32m----> 1\u001b[0;31m \u001b[0mportfolio\u001b[0m\u001b[0;34m.\u001b[0m\u001b[0mget_holdings\u001b[0m\u001b[0;34m(\u001b[0m\u001b[0minitial_timestamp\u001b[0m\u001b[0;34m,\u001b[0m \u001b[0masset_id\u001b[0m\u001b[0;34m=\u001b[0m\u001b[0;34m-\u001b[0m\u001b[0;36m1\u001b[0m\u001b[0;34m,\u001b[0m \u001b[0mexclude_cash\u001b[0m\u001b[0;34m=\u001b[0m\u001b[0;32mTrue\u001b[0m\u001b[0;34m)\u001b[0m\u001b[0;34m\u001b[0m\u001b[0;34m\u001b[0m\u001b[0m\n\u001b[0m",
      "\u001b[0;32m/app/oms/portfolio.py\u001b[0m in \u001b[0;36mget_holdings\u001b[0;34m(self, timestamp, asset_id, exclude_cash)\u001b[0m\n\u001b[1;32m    184\u001b[0m         \u001b[0;32mif\u001b[0m \u001b[0mexclude_cash\u001b[0m\u001b[0;34m:\u001b[0m\u001b[0;34m\u001b[0m\u001b[0;34m\u001b[0m\u001b[0m\n\u001b[1;32m    185\u001b[0m             \u001b[0m_LOG\u001b[0m\u001b[0;34m.\u001b[0m\u001b[0mdebug\u001b[0m\u001b[0;34m(\u001b[0m\u001b[0;34m\"exclude_cash: holdings=\\n%s\"\u001b[0m\u001b[0;34m,\u001b[0m \u001b[0mholdings\u001b[0m\u001b[0;34m)\u001b[0m\u001b[0;34m\u001b[0m\u001b[0;34m\u001b[0m\u001b[0m\n\u001b[0;32m--> 186\u001b[0;31m             hdbg.dassert_ne(\n\u001b[0m\u001b[1;32m    187\u001b[0m                 \u001b[0masset_id\u001b[0m\u001b[0;34m,\u001b[0m\u001b[0;34m\u001b[0m\u001b[0;34m\u001b[0m\u001b[0m\n\u001b[1;32m    188\u001b[0m                 \u001b[0mself\u001b[0m\u001b[0;34m.\u001b[0m\u001b[0mCASH_ID\u001b[0m\u001b[0;34m,\u001b[0m\u001b[0;34m\u001b[0m\u001b[0;34m\u001b[0m\u001b[0m\n",
      "\u001b[0;32m/app/helpers/dbg.py\u001b[0m in \u001b[0;36mdassert_ne\u001b[0;34m(val1, val2, msg, *args)\u001b[0m\n\u001b[1;32m    143\u001b[0m     \u001b[0;32mif\u001b[0m \u001b[0;32mnot\u001b[0m \u001b[0mcond\u001b[0m\u001b[0;34m:\u001b[0m\u001b[0;34m\u001b[0m\u001b[0;34m\u001b[0m\u001b[0m\n\u001b[1;32m    144\u001b[0m         \u001b[0mtxt\u001b[0m \u001b[0;34m=\u001b[0m \u001b[0;34m\"'%s'\\n!=\\n'%s'\"\u001b[0m \u001b[0;34m%\u001b[0m \u001b[0;34m(\u001b[0m\u001b[0mval1\u001b[0m\u001b[0;34m,\u001b[0m \u001b[0mval2\u001b[0m\u001b[0;34m)\u001b[0m\u001b[0;34m\u001b[0m\u001b[0;34m\u001b[0m\u001b[0m\n\u001b[0;32m--> 145\u001b[0;31m         \u001b[0m_dfatal\u001b[0m\u001b[0;34m(\u001b[0m\u001b[0mtxt\u001b[0m\u001b[0;34m,\u001b[0m \u001b[0mmsg\u001b[0m\u001b[0;34m,\u001b[0m \u001b[0;34m*\u001b[0m\u001b[0margs\u001b[0m\u001b[0;34m)\u001b[0m\u001b[0;34m\u001b[0m\u001b[0;34m\u001b[0m\u001b[0m\n\u001b[0m\u001b[1;32m    146\u001b[0m \u001b[0;34m\u001b[0m\u001b[0m\n\u001b[1;32m    147\u001b[0m \u001b[0;34m\u001b[0m\u001b[0m\n",
      "\u001b[0;32m/app/helpers/dbg.py\u001b[0m in \u001b[0;36m_dfatal\u001b[0;34m(txt, msg, *args)\u001b[0m\n\u001b[1;32m    113\u001b[0m             \u001b[0mdfatal_txt\u001b[0m \u001b[0;34m+=\u001b[0m \u001b[0;34m\"\\n\"\u001b[0m\u001b[0;34m\u001b[0m\u001b[0;34m\u001b[0m\u001b[0m\n\u001b[1;32m    114\u001b[0m         \u001b[0mdfatal_txt\u001b[0m \u001b[0;34m+=\u001b[0m \u001b[0mmsg\u001b[0m\u001b[0;34m\u001b[0m\u001b[0;34m\u001b[0m\u001b[0m\n\u001b[0;32m--> 115\u001b[0;31m     \u001b[0mdfatal\u001b[0m\u001b[0;34m(\u001b[0m\u001b[0mdfatal_txt\u001b[0m\u001b[0;34m)\u001b[0m\u001b[0;34m\u001b[0m\u001b[0;34m\u001b[0m\u001b[0m\n\u001b[0m\u001b[1;32m    116\u001b[0m \u001b[0;34m\u001b[0m\u001b[0m\n\u001b[1;32m    117\u001b[0m \u001b[0;34m\u001b[0m\u001b[0m\n",
      "\u001b[0;32m/app/helpers/dbg.py\u001b[0m in \u001b[0;36mdfatal\u001b[0;34m(message, assertion_type)\u001b[0m\n\u001b[1;32m     59\u001b[0m     \u001b[0;32mif\u001b[0m \u001b[0massertion_type\u001b[0m \u001b[0;32mis\u001b[0m \u001b[0;32mNone\u001b[0m\u001b[0;34m:\u001b[0m\u001b[0;34m\u001b[0m\u001b[0;34m\u001b[0m\u001b[0m\n\u001b[1;32m     60\u001b[0m         \u001b[0massertion_type\u001b[0m \u001b[0;34m=\u001b[0m \u001b[0mAssertionError\u001b[0m\u001b[0;34m\u001b[0m\u001b[0;34m\u001b[0m\u001b[0m\n\u001b[0;32m---> 61\u001b[0;31m     \u001b[0;32mraise\u001b[0m \u001b[0massertion_type\u001b[0m\u001b[0;34m(\u001b[0m\u001b[0mret\u001b[0m\u001b[0;34m)\u001b[0m\u001b[0;34m\u001b[0m\u001b[0;34m\u001b[0m\u001b[0m\n\u001b[0m\u001b[1;32m     62\u001b[0m \u001b[0;34m\u001b[0m\u001b[0m\n\u001b[1;32m     63\u001b[0m \u001b[0;34m\u001b[0m\u001b[0m\n",
      "\u001b[0;31mAssertionError\u001b[0m: \n################################################################################\n* Failed assertion *\n'-1'\n!=\n'-1'\nYou cannot request cash (asset_id=`-1`) and simultaneously request to exclude it\n################################################################################\n"
     ]
    }
   ],
   "source": [
    "portfolio.get_holdings(initial_timestamp, asset_id=-1, exclude_cash=True)"
   ]
  },
  {
   "cell_type": "code",
   "execution_count": 8,
   "id": "529db030",
   "metadata": {
    "ExecuteTime": {
     "end_time": "2021-11-17T20:39:45.522763Z",
     "start_time": "2021-11-17T20:39:45.328625Z"
    }
   },
   "outputs": [
    {
     "name": "stdout",
     "output_type": "stream",
     "text": [
      "timestamp=Timestamp('2000-01-01 09:35:00-0500', tz='pytz.FixedOffset(-300)'), asset_id=0, exclude_cash=False\n",
      "holdings=\n",
      "                           asset_id  curr_num_shares\n",
      "2000-01-01 09:35:00-05:00        -1        1000000.0\n",
      "holdings=(1, 2)\n",
      "                           asset_id  curr_num_shares\n",
      "2000-01-01 09:35:00-05:00      -1.0        1000000.0\n",
      "Filtering by asset_id: holdings=\n",
      "                           asset_id  curr_num_shares\n",
      "2000-01-01 09:35:00-05:00      -1.0        1000000.0\n",
      "mask=\n",
      "2000-01-01 09:35:00-05:00    False\n",
      "Name: asset_id, dtype: bool\n",
      "No holdings available at timestamp=`2000-01-01 09:35:00-05:00` for asset_id=`0`\n",
      "holdings=\n",
      "Empty DataFrame\n",
      "Columns: [asset_id, curr_num_shares]\n",
      "Index: []\n",
      "ret=0\n"
     ]
    },
    {
     "data": {
      "text/plain": [
       "0"
      ]
     },
     "execution_count": 8,
     "metadata": {},
     "output_type": "execute_result"
    }
   ],
   "source": [
    "portfolio.get_holdings_as_scalar(pd.Timestamp(\"2000-01-01 09:35:00-05:00\"), 0)"
   ]
  },
  {
   "cell_type": "code",
   "execution_count": 10,
   "id": "9ab83e50",
   "metadata": {
    "ExecuteTime": {
     "end_time": "2021-11-17T20:39:59.617243Z",
     "start_time": "2021-11-17T20:39:59.073381Z"
    }
   },
   "outputs": [
    {
     "name": "stdout",
     "output_type": "stream",
     "text": [
      "\n",
      "<<<<<<<<<<<<<<<<<<<<<<<<<<<<<<<<<<<<<<<<<<<<<<<<<<<<<<<<<<<<<<<<<<<<<<<<<<<<<<<<\n",
      "get_characteristics: timestamp=2000-01-01 09:35:00-05:00\n",
      "<<<<<<<<<<<<<<<<<<<<<<<<<<<<<<<<<<<<<<<<<<<<<<<<<<<<<<<<<<<<<<<<<<<<<<<<<<<<<<<<\n",
      "timestamp=Timestamp('2000-01-01 09:35:00-0500', tz='pytz.FixedOffset(-300)'), asset_id=None, exclude_cash=True\n",
      "holdings=\n",
      "                           asset_id  curr_num_shares\n",
      "2000-01-01 09:35:00-05:00        -1        1000000.0\n",
      "holdings=(1, 2)\n",
      "                           asset_id  curr_num_shares\n",
      "2000-01-01 09:35:00-05:00      -1.0        1000000.0\n",
      "exclude_cash: holdings=\n",
      "                           asset_id  curr_num_shares\n",
      "2000-01-01 09:35:00-05:00      -1.0        1000000.0\n",
      "mask=\n",
      "2000-01-01 09:35:00-05:00    False\n",
      "Name: asset_id, dtype: bool\n",
      "No non-cash holdings available at timestamp=`2000-01-01 09:35:00-05:00`\n",
      "\n",
      "<<<<<<<<<<<<<<<<<<<<<<<<<<<<<<<<<<<<<<<<<<<<<<<<<<<<<<<<<<<<<<<<<<<<<<<<<<<<<<<<\n",
      "mark_holdings_to_market: timestamp=2000-01-01 09:35:00-05:00\n",
      "<<<<<<<<<<<<<<<<<<<<<<<<<<<<<<<<<<<<<<<<<<<<<<<<<<<<<<<<<<<<<<<<<<<<<<<<<<<<<<<<\n",
      "holdings=\n",
      "Empty DataFrame\n",
      "Columns: [asset_id, curr_num_shares]\n",
      "Index: []\n",
      "asset_ids=[]\n",
      "start_ts=Timestamp('2000-01-01 09:34:59.999999999-0500', tz='pytz.FixedOffset(-300)'), end_ts=Timestamp('2000-01-01 09:35:00.000000001-0500', tz='pytz.FixedOffset(-300)'), ts_col_name='end_datetime', asset_ids=array([], dtype=float64), left_close=True, right_close=False, normalize_data=True, limit=None\n",
      "current_time=Timestamp('2000-01-01 09:35:24.132331-0500', tz='pytz.FixedOffset(-300)')\n",
      "# Before get_data_as_of_datetime=\n",
      "index=[0, 60]\n",
      "columns=start_datetime,end_datetime,timestamp_db,price,asset_id\n",
      "shape=(122, 5)\n",
      "             start_datetime              end_datetime              timestamp_db     price  asset_id\n",
      "0 2000-01-01 09:30:00-05:00 2000-01-01 09:31:00-05:00 2000-01-01 09:31:00-05:00 -0.125460       101\n",
      "0 2000-01-01 09:30:00-05:00 2000-01-01 09:31:00-05:00 2000-01-01 09:31:00-05:00 -0.125460       202\n",
      "1 2000-01-01 09:31:00-05:00 2000-01-01 09:32:00-05:00 2000-01-01 09:32:00-05:00  0.325254       101\n",
      "...\n",
      "59 2000-01-01 10:29:00-05:00 2000-01-01 10:30:00-05:00 2000-01-01 10:30:00-05:00 -1.949954       202\n",
      "60 2000-01-01 10:30:00-05:00 2000-01-01 10:31:00-05:00 2000-01-01 10:31:00-05:00 -2.061277       101\n",
      "60 2000-01-01 10:30:00-05:00 2000-01-01 10:31:00-05:00 2000-01-01 10:31:00-05:00 -2.061277       202\n",
      "knowledge_datetime_col_name='timestamp_db', datetime_=Timestamp('2000-01-01 09:35:24.132331-0500', tz='pytz.FixedOffset(-300)'), delay_in_secs=0\n",
      "# After get_data_as_of_datetime=\n",
      "index=[0, 4]\n",
      "columns=start_datetime,end_datetime,timestamp_db,price,asset_id\n",
      "shape=(10, 5)\n",
      "             start_datetime              end_datetime              timestamp_db     price  asset_id\n",
      "0 2000-01-01 09:30:00-05:00 2000-01-01 09:31:00-05:00 2000-01-01 09:31:00-05:00 -0.125460       101\n",
      "0 2000-01-01 09:30:00-05:00 2000-01-01 09:31:00-05:00 2000-01-01 09:31:00-05:00 -0.125460       202\n",
      "1 2000-01-01 09:31:00-05:00 2000-01-01 09:32:00-05:00 2000-01-01 09:32:00-05:00  0.325254       101\n",
      "...\n",
      "3 2000-01-01 09:33:00-05:00 2000-01-01 09:34:00-05:00 2000-01-01 09:34:00-05:00  0.655907       202\n",
      "4 2000-01-01 09:34:00-05:00 2000-01-01 09:35:00-05:00 2000-01-01 09:35:00-05:00  0.311925       101\n",
      "4 2000-01-01 09:34:00-05:00 2000-01-01 09:35:00-05:00 2000-01-01 09:35:00-05:00  0.311925       202\n",
      "\n",
      "-> df_tmp=\n",
      "Empty DataFrame\n",
      "Columns: [start_datetime, timestamp_db, price, asset_id]\n",
      "Index: []\n",
      "-> df=\n",
      "Empty DataFrame\n",
      "Columns: [start_datetime, timestamp_db, price, asset_id]\n",
      "Index: []\n",
      "-> df=\n",
      "Empty DataFrame\n",
      "Columns: [start_datetime, timestamp_db, price, asset_id]\n",
      "Index: []\n",
      "price_df=\n",
      "Empty DataFrame\n",
      "Columns: [start_datetime, timestamp_db, price, asset_id]\n",
      "Index: []\n",
      "-> holdings_net_value=0.0\n",
      "timestamp=Timestamp('2000-01-01 09:35:00-0500', tz='pytz.FixedOffset(-300)'), asset_id=-1, exclude_cash=False\n",
      "holdings=\n",
      "                           asset_id  curr_num_shares\n",
      "2000-01-01 09:35:00-05:00        -1        1000000.0\n",
      "holdings=(1, 2)\n",
      "                           asset_id  curr_num_shares\n",
      "2000-01-01 09:35:00-05:00      -1.0        1000000.0\n",
      "Filtering by asset_id: holdings=\n",
      "                           asset_id  curr_num_shares\n",
      "2000-01-01 09:35:00-05:00      -1.0        1000000.0\n",
      "mask=\n",
      "2000-01-01 09:35:00-05:00    True\n",
      "Name: asset_id, dtype: bool\n",
      "holdings=\n",
      "                           asset_id  curr_num_shares\n",
      "2000-01-01 09:35:00-05:00      -1.0        1000000.0\n",
      "ret=1000000.0\n",
      "-> cash=1000000.0\n",
      "-> net_wealth=1000000.0\n"
     ]
    },
    {
     "data": {
      "text/plain": [
       "net_asset_holdings          0.0\n",
       "cash                  1000000.0\n",
       "net_wealth            1000000.0\n",
       "gross_exposure              0.0\n",
       "leverage                    0.0\n",
       "Name: 2000-01-01 09:35:00-05:00, dtype: float64"
      ]
     },
     "metadata": {},
     "output_type": "display_data"
    }
   ],
   "source": [
    "srs = portfolio.get_characteristics(initial_timestamp)\n",
    "display(srs)"
   ]
  },
  {
   "cell_type": "code",
   "execution_count": 11,
   "id": "fe74c3da",
   "metadata": {
    "ExecuteTime": {
     "end_time": "2021-11-17T20:40:02.040401Z",
     "start_time": "2021-11-17T20:40:01.966177Z"
    }
   },
   "outputs": [
    {
     "data": {
      "text/html": [
       "<div>\n",
       "<style scoped>\n",
       "    .dataframe tbody tr th:only-of-type {\n",
       "        vertical-align: middle;\n",
       "    }\n",
       "\n",
       "    .dataframe tbody tr th {\n",
       "        vertical-align: top;\n",
       "    }\n",
       "\n",
       "    .dataframe thead th {\n",
       "        text-align: right;\n",
       "    }\n",
       "</style>\n",
       "<table border=\"1\" class=\"dataframe\">\n",
       "  <thead>\n",
       "    <tr style=\"text-align: right;\">\n",
       "      <th></th>\n",
       "      <th>order_id</th>\n",
       "      <th>creation_timestamp</th>\n",
       "      <th>asset_id</th>\n",
       "      <th>type_</th>\n",
       "      <th>start_timestamp</th>\n",
       "      <th>end_timestamp</th>\n",
       "      <th>num_shares</th>\n",
       "      <th>num_shares_filled</th>\n",
       "      <th>execution_price</th>\n",
       "      <th>holdings+1</th>\n",
       "      <th>cash+1</th>\n",
       "    </tr>\n",
       "  </thead>\n",
       "  <tbody>\n",
       "    <tr>\n",
       "      <th>2000-01-01 09:35:00-05:00</th>\n",
       "      <td>NaN</td>\n",
       "      <td>NaN</td>\n",
       "      <td>NaN</td>\n",
       "      <td>NaN</td>\n",
       "      <td>NaN</td>\n",
       "      <td>NaN</td>\n",
       "      <td>NaN</td>\n",
       "      <td>NaN</td>\n",
       "      <td>NaN</td>\n",
       "      <td>NaN</td>\n",
       "      <td>NaN</td>\n",
       "    </tr>\n",
       "  </tbody>\n",
       "</table>\n",
       "</div>"
      ],
      "text/plain": [
       "                          order_id creation_timestamp asset_id type_ start_timestamp end_timestamp num_shares num_shares_filled execution_price holdings+1 cash+1\n",
       "2000-01-01 09:35:00-05:00      NaN                NaN      NaN   NaN             NaN           NaN        NaN               NaN             NaN        NaN    NaN"
      ]
     },
     "execution_count": 11,
     "metadata": {},
     "output_type": "execute_result"
    }
   ],
   "source": [
    "portfolio.orders"
   ]
  },
  {
   "cell_type": "code",
   "execution_count": 12,
   "id": "75d0964b",
   "metadata": {
    "ExecuteTime": {
     "end_time": "2021-11-17T20:40:03.752987Z",
     "start_time": "2021-11-17T20:40:03.175285Z"
    }
   },
   "outputs": [
    {
     "name": "stdout",
     "output_type": "stream",
     "text": [
      "\n",
      "<<<<<<<<<<<<<<<<<<<<<<<<<<<<<<<<<<<<<<<<<<<<<<<<<<<<<<<<<<<<<<<<<<<<<<<<<<<<<<<<\n",
      "get_net_wealth: timestamp=2000-01-01 09:35:00-05:00\n",
      "<<<<<<<<<<<<<<<<<<<<<<<<<<<<<<<<<<<<<<<<<<<<<<<<<<<<<<<<<<<<<<<<<<<<<<<<<<<<<<<<\n",
      "\n",
      "<<<<<<<<<<<<<<<<<<<<<<<<<<<<<<<<<<<<<<<<<<<<<<<<<<<<<<<<<<<<<<<<<<<<<<<<<<<<<<<<\n",
      "get_characteristics: timestamp=2000-01-01 09:35:00-05:00\n",
      "<<<<<<<<<<<<<<<<<<<<<<<<<<<<<<<<<<<<<<<<<<<<<<<<<<<<<<<<<<<<<<<<<<<<<<<<<<<<<<<<\n",
      "timestamp=Timestamp('2000-01-01 09:35:00-0500', tz='pytz.FixedOffset(-300)'), asset_id=None, exclude_cash=True\n",
      "holdings=\n",
      "                           asset_id  curr_num_shares\n",
      "2000-01-01 09:35:00-05:00        -1        1000000.0\n",
      "holdings=(1, 2)\n",
      "                           asset_id  curr_num_shares\n",
      "2000-01-01 09:35:00-05:00      -1.0        1000000.0\n",
      "exclude_cash: holdings=\n",
      "                           asset_id  curr_num_shares\n",
      "2000-01-01 09:35:00-05:00      -1.0        1000000.0\n",
      "mask=\n",
      "2000-01-01 09:35:00-05:00    False\n",
      "Name: asset_id, dtype: bool\n",
      "No non-cash holdings available at timestamp=`2000-01-01 09:35:00-05:00`\n",
      "\n",
      "<<<<<<<<<<<<<<<<<<<<<<<<<<<<<<<<<<<<<<<<<<<<<<<<<<<<<<<<<<<<<<<<<<<<<<<<<<<<<<<<\n",
      "mark_holdings_to_market: timestamp=2000-01-01 09:35:00-05:00\n",
      "<<<<<<<<<<<<<<<<<<<<<<<<<<<<<<<<<<<<<<<<<<<<<<<<<<<<<<<<<<<<<<<<<<<<<<<<<<<<<<<<\n",
      "holdings=\n",
      "Empty DataFrame\n",
      "Columns: [asset_id, curr_num_shares]\n",
      "Index: []\n",
      "asset_ids=[]\n",
      "start_ts=Timestamp('2000-01-01 09:34:59.999999999-0500', tz='pytz.FixedOffset(-300)'), end_ts=Timestamp('2000-01-01 09:35:00.000000001-0500', tz='pytz.FixedOffset(-300)'), ts_col_name='end_datetime', asset_ids=array([], dtype=float64), left_close=True, right_close=False, normalize_data=True, limit=None\n",
      "current_time=Timestamp('2000-01-01 09:35:28.267356-0500', tz='pytz.FixedOffset(-300)')\n",
      "# Before get_data_as_of_datetime=\n",
      "index=[0, 60]\n",
      "columns=start_datetime,end_datetime,timestamp_db,price,asset_id\n",
      "shape=(122, 5)\n",
      "             start_datetime              end_datetime              timestamp_db     price  asset_id\n",
      "0 2000-01-01 09:30:00-05:00 2000-01-01 09:31:00-05:00 2000-01-01 09:31:00-05:00 -0.125460       101\n",
      "0 2000-01-01 09:30:00-05:00 2000-01-01 09:31:00-05:00 2000-01-01 09:31:00-05:00 -0.125460       202\n",
      "1 2000-01-01 09:31:00-05:00 2000-01-01 09:32:00-05:00 2000-01-01 09:32:00-05:00  0.325254       101\n",
      "...\n",
      "59 2000-01-01 10:29:00-05:00 2000-01-01 10:30:00-05:00 2000-01-01 10:30:00-05:00 -1.949954       202\n",
      "60 2000-01-01 10:30:00-05:00 2000-01-01 10:31:00-05:00 2000-01-01 10:31:00-05:00 -2.061277       101\n",
      "60 2000-01-01 10:30:00-05:00 2000-01-01 10:31:00-05:00 2000-01-01 10:31:00-05:00 -2.061277       202\n",
      "knowledge_datetime_col_name='timestamp_db', datetime_=Timestamp('2000-01-01 09:35:28.267356-0500', tz='pytz.FixedOffset(-300)'), delay_in_secs=0\n",
      "# After get_data_as_of_datetime=\n",
      "index=[0, 4]\n",
      "columns=start_datetime,end_datetime,timestamp_db,price,asset_id\n",
      "shape=(10, 5)\n",
      "             start_datetime              end_datetime              timestamp_db     price  asset_id\n",
      "0 2000-01-01 09:30:00-05:00 2000-01-01 09:31:00-05:00 2000-01-01 09:31:00-05:00 -0.125460       101\n",
      "0 2000-01-01 09:30:00-05:00 2000-01-01 09:31:00-05:00 2000-01-01 09:31:00-05:00 -0.125460       202\n",
      "1 2000-01-01 09:31:00-05:00 2000-01-01 09:32:00-05:00 2000-01-01 09:32:00-05:00  0.325254       101\n",
      "...\n",
      "3 2000-01-01 09:33:00-05:00 2000-01-01 09:34:00-05:00 2000-01-01 09:34:00-05:00  0.655907       202\n",
      "4 2000-01-01 09:34:00-05:00 2000-01-01 09:35:00-05:00 2000-01-01 09:35:00-05:00  0.311925       101\n",
      "4 2000-01-01 09:34:00-05:00 2000-01-01 09:35:00-05:00 2000-01-01 09:35:00-05:00  0.311925       202\n",
      "\n",
      "-> df_tmp=\n",
      "Empty DataFrame\n",
      "Columns: [start_datetime, timestamp_db, price, asset_id]\n",
      "Index: []\n",
      "-> df=\n",
      "Empty DataFrame\n",
      "Columns: [start_datetime, timestamp_db, price, asset_id]\n",
      "Index: []\n",
      "-> df=\n",
      "Empty DataFrame\n",
      "Columns: [start_datetime, timestamp_db, price, asset_id]\n",
      "Index: []\n",
      "price_df=\n",
      "Empty DataFrame\n",
      "Columns: [start_datetime, timestamp_db, price, asset_id]\n",
      "Index: []\n",
      "-> holdings_net_value=0.0\n",
      "timestamp=Timestamp('2000-01-01 09:35:00-0500', tz='pytz.FixedOffset(-300)'), asset_id=-1, exclude_cash=False\n",
      "holdings=\n",
      "                           asset_id  curr_num_shares\n",
      "2000-01-01 09:35:00-05:00        -1        1000000.0\n",
      "holdings=(1, 2)\n",
      "                           asset_id  curr_num_shares\n",
      "2000-01-01 09:35:00-05:00      -1.0        1000000.0\n",
      "Filtering by asset_id: holdings=\n",
      "                           asset_id  curr_num_shares\n",
      "2000-01-01 09:35:00-05:00      -1.0        1000000.0\n",
      "mask=\n",
      "2000-01-01 09:35:00-05:00    True\n",
      "Name: asset_id, dtype: bool\n",
      "holdings=\n",
      "                           asset_id  curr_num_shares\n",
      "2000-01-01 09:35:00-05:00      -1.0        1000000.0\n",
      "ret=1000000.0\n",
      "-> cash=1000000.0\n",
      "-> net_wealth=1000000.0\n"
     ]
    },
    {
     "data": {
      "text/plain": [
       "1000000.0"
      ]
     },
     "execution_count": 12,
     "metadata": {},
     "output_type": "execute_result"
    }
   ],
   "source": [
    "portfolio.get_net_wealth(initial_timestamp)"
   ]
  },
  {
   "cell_type": "code",
   "execution_count": null,
   "id": "2f4fdd0f",
   "metadata": {},
   "outputs": [],
   "source": []
  }
 ],
 "metadata": {
  "kernelspec": {
   "display_name": "Python 3 (ipykernel)",
   "language": "python",
   "name": "python3"
  },
  "language_info": {
   "codemirror_mode": {
    "name": "ipython",
    "version": 3
   },
   "file_extension": ".py",
   "mimetype": "text/x-python",
   "name": "python",
   "nbconvert_exporter": "python",
   "pygments_lexer": "ipython3",
   "version": "3.8.10"
  },
  "toc": {
   "base_numbering": 1,
   "nav_menu": {},
   "number_sections": true,
   "sideBar": true,
   "skip_h1_title": false,
   "title_cell": "Table of Contents",
   "title_sidebar": "Contents",
   "toc_cell": false,
   "toc_position": {},
   "toc_section_display": true,
   "toc_window_display": false
  }
 },
 "nbformat": 4,
 "nbformat_minor": 5
}
