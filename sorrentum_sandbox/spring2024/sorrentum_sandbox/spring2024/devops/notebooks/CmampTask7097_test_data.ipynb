{
 "cells": [
  {
   "cell_type": "markdown",
   "id": "1c5adea8",
   "metadata": {
    "ExecuteTime": {
     "end_time": "2024-02-20T08:37:24.394438Z",
     "start_time": "2024-02-20T08:37:24.389148Z"
    }
   },
   "source": [
    "TODO(Vlad): convert into a unit test."
   ]
  },
  {
   "cell_type": "markdown",
   "id": "70a81432",
   "metadata": {},
   "source": [
    "# Imports"
   ]
  },
  {
   "cell_type": "code",
   "execution_count": 1,
   "id": "ccf6a071",
   "metadata": {
    "ExecuteTime": {
     "end_time": "2024-02-15T13:26:33.436036Z",
     "start_time": "2024-02-15T13:26:30.836096Z"
    }
   },
   "outputs": [
    {
     "name": "stderr",
     "output_type": "stream",
     "text": [
      "/app/amp/helpers/hparquet.py:20: TqdmExperimentalWarning: Using `tqdm.autonotebook.tqdm` in notebook mode. Use `tqdm.tqdm` instead to force console mode (e.g. in jupyter console)\n",
      "  from tqdm.autonotebook import tqdm\n"
     ]
    }
   ],
   "source": [
    "import pyarrow\n",
    "\n",
    "import helpers.hparquet as hparque"
   ]
  },
  {
   "cell_type": "code",
   "execution_count": 2,
   "id": "bac97f2d",
   "metadata": {
    "ExecuteTime": {
     "end_time": "2024-02-15T13:26:33.443921Z",
     "start_time": "2024-02-15T13:26:33.439374Z"
    }
   },
   "outputs": [],
   "source": [
    "filters = [(\"currency_pair\", \"in\", [\"BTC_USDT\"])]\n",
    "file_name = \"s3://cryptokaizen-data-test/v3/periodic_daily/airflow/downloaded_1min/parquet/ohlcv/futures/v7_3/ccxt/binance/v1_0_0/\""
   ]
  },
  {
   "cell_type": "code",
   "execution_count": 3,
   "id": "15050e58",
   "metadata": {
    "ExecuteTime": {
     "end_time": "2024-02-15T13:26:37.234257Z",
     "start_time": "2024-02-15T13:26:37.224588Z"
    }
   },
   "outputs": [
    {
     "data": {
      "text/plain": [
       "'14.0.2'"
      ]
     },
     "execution_count": 3,
     "metadata": {},
     "output_type": "execute_result"
    }
   ],
   "source": [
    "pyarrow.__version__"
   ]
  },
  {
   "cell_type": "markdown",
   "id": "ef5fc179",
   "metadata": {},
   "source": [
    "# Rationale"
   ]
  },
  {
   "cell_type": "markdown",
   "id": "a4e0e0d3",
   "metadata": {},
   "source": [
    "From the https://github.com/cryptokaizen/cmamp/issues/7097#issuecomment-1944181433\n",
    "\n",
    "The notebook verifies that combining new data, saved and read using pyarrow version 14.0.0, with the existing production dataset doesn't impact performance when handling large parquet datasets and does not lead to any issues.\n",
    "\n",
    "- Considering that we have the snippet of the preprod data at: \"s3://cryptokaizen-data-test/v3/periodic_daily/airflow/downloaded_1min/parquet/ohlcv/futures/v7_3/ccxt/binance/v1_0_0/\".\n",
    "- Read the data from given location using `hparque.from_parquet()`\n",
    "- Download the new portion of the data to the same location\n",
    "- Read the mixed data\n",
    "\n",
    "Expected behavior: the reading of large Parquet files does not increases the performance time and does not lead to any errors."
   ]
  },
  {
   "cell_type": "markdown",
   "id": "1f7cbefe",
   "metadata": {},
   "source": [
    "# Read initial data from preprod"
   ]
  },
  {
   "cell_type": "code",
   "execution_count": 22,
   "id": "8655dd9e",
   "metadata": {
    "ExecuteTime": {
     "end_time": "2024-02-15T12:47:01.800103Z",
     "start_time": "2024-02-15T12:46:52.449583Z"
    }
   },
   "outputs": [],
   "source": [
    "df = hparque.from_parquet(file_name, filters=filters, aws_profile=\"ck\")"
   ]
  },
  {
   "cell_type": "code",
   "execution_count": 23,
   "id": "3b001d41",
   "metadata": {
    "ExecuteTime": {
     "end_time": "2024-02-15T12:47:01.830898Z",
     "start_time": "2024-02-15T12:47:01.803079Z"
    },
    "collapsed": true
   },
   "outputs": [
    {
     "data": {
      "text/html": [
       "<div>\n",
       "<style scoped>\n",
       "    .dataframe tbody tr th:only-of-type {\n",
       "        vertical-align: middle;\n",
       "    }\n",
       "\n",
       "    .dataframe tbody tr th {\n",
       "        vertical-align: top;\n",
       "    }\n",
       "\n",
       "    .dataframe thead th {\n",
       "        text-align: right;\n",
       "    }\n",
       "</style>\n",
       "<table border=\"1\" class=\"dataframe\">\n",
       "  <thead>\n",
       "    <tr style=\"text-align: right;\">\n",
       "      <th></th>\n",
       "      <th>timestamp</th>\n",
       "      <th>open</th>\n",
       "      <th>high</th>\n",
       "      <th>low</th>\n",
       "      <th>close</th>\n",
       "      <th>volume</th>\n",
       "      <th>exchange_id</th>\n",
       "      <th>knowledge_timestamp</th>\n",
       "      <th>currency_pair</th>\n",
       "      <th>year</th>\n",
       "      <th>month</th>\n",
       "    </tr>\n",
       "    <tr>\n",
       "      <th>timestamp</th>\n",
       "      <th></th>\n",
       "      <th></th>\n",
       "      <th></th>\n",
       "      <th></th>\n",
       "      <th></th>\n",
       "      <th></th>\n",
       "      <th></th>\n",
       "      <th></th>\n",
       "      <th></th>\n",
       "      <th></th>\n",
       "      <th></th>\n",
       "    </tr>\n",
       "  </thead>\n",
       "  <tbody>\n",
       "    <tr>\n",
       "      <th>2019-10-01 00:00:00+00:00</th>\n",
       "      <td>1569888000000</td>\n",
       "      <td>8285.31</td>\n",
       "      <td>8312.30</td>\n",
       "      <td>8277.79</td>\n",
       "      <td>8283.14</td>\n",
       "      <td>225.421</td>\n",
       "      <td>binance</td>\n",
       "      <td>2022-07-09 12:07:51.240219+00:00</td>\n",
       "      <td>BTC_USDT</td>\n",
       "      <td>2019</td>\n",
       "      <td>10</td>\n",
       "    </tr>\n",
       "    <tr>\n",
       "      <th>2019-10-01 00:01:00+00:00</th>\n",
       "      <td>1569888060000</td>\n",
       "      <td>8279.98</td>\n",
       "      <td>8283.53</td>\n",
       "      <td>8268.33</td>\n",
       "      <td>8270.87</td>\n",
       "      <td>10.650</td>\n",
       "      <td>binance</td>\n",
       "      <td>2022-06-24 05:47:16.075108+00:00</td>\n",
       "      <td>BTC_USDT</td>\n",
       "      <td>2019</td>\n",
       "      <td>10</td>\n",
       "    </tr>\n",
       "    <tr>\n",
       "      <th>2019-10-01 00:02:00+00:00</th>\n",
       "      <td>1569888120000</td>\n",
       "      <td>8271.04</td>\n",
       "      <td>8271.40</td>\n",
       "      <td>8265.32</td>\n",
       "      <td>8265.32</td>\n",
       "      <td>16.916</td>\n",
       "      <td>binance</td>\n",
       "      <td>2022-07-09 12:07:51.240219+00:00</td>\n",
       "      <td>BTC_USDT</td>\n",
       "      <td>2019</td>\n",
       "      <td>10</td>\n",
       "    </tr>\n",
       "    <tr>\n",
       "      <th>2019-10-01 00:03:00+00:00</th>\n",
       "      <td>1569888180000</td>\n",
       "      <td>8265.32</td>\n",
       "      <td>8265.32</td>\n",
       "      <td>8240.53</td>\n",
       "      <td>8242.59</td>\n",
       "      <td>188.706</td>\n",
       "      <td>binance</td>\n",
       "      <td>2022-07-09 12:07:51.240219+00:00</td>\n",
       "      <td>BTC_USDT</td>\n",
       "      <td>2019</td>\n",
       "      <td>10</td>\n",
       "    </tr>\n",
       "    <tr>\n",
       "      <th>2019-10-01 00:04:00+00:00</th>\n",
       "      <td>1569888240000</td>\n",
       "      <td>8242.87</td>\n",
       "      <td>8249.18</td>\n",
       "      <td>8240.34</td>\n",
       "      <td>8244.03</td>\n",
       "      <td>36.597</td>\n",
       "      <td>binance</td>\n",
       "      <td>2022-07-09 12:07:51.240219+00:00</td>\n",
       "      <td>BTC_USDT</td>\n",
       "      <td>2019</td>\n",
       "      <td>10</td>\n",
       "    </tr>\n",
       "  </tbody>\n",
       "</table>\n",
       "</div>"
      ],
      "text/plain": [
       "                               timestamp     open     high      low    close  \\\n",
       "timestamp                                                                      \n",
       "2019-10-01 00:00:00+00:00  1569888000000  8285.31  8312.30  8277.79  8283.14   \n",
       "2019-10-01 00:01:00+00:00  1569888060000  8279.98  8283.53  8268.33  8270.87   \n",
       "2019-10-01 00:02:00+00:00  1569888120000  8271.04  8271.40  8265.32  8265.32   \n",
       "2019-10-01 00:03:00+00:00  1569888180000  8265.32  8265.32  8240.53  8242.59   \n",
       "2019-10-01 00:04:00+00:00  1569888240000  8242.87  8249.18  8240.34  8244.03   \n",
       "\n",
       "                            volume exchange_id  \\\n",
       "timestamp                                        \n",
       "2019-10-01 00:00:00+00:00  225.421     binance   \n",
       "2019-10-01 00:01:00+00:00   10.650     binance   \n",
       "2019-10-01 00:02:00+00:00   16.916     binance   \n",
       "2019-10-01 00:03:00+00:00  188.706     binance   \n",
       "2019-10-01 00:04:00+00:00   36.597     binance   \n",
       "\n",
       "                                       knowledge_timestamp currency_pair  \\\n",
       "timestamp                                                                  \n",
       "2019-10-01 00:00:00+00:00 2022-07-09 12:07:51.240219+00:00      BTC_USDT   \n",
       "2019-10-01 00:01:00+00:00 2022-06-24 05:47:16.075108+00:00      BTC_USDT   \n",
       "2019-10-01 00:02:00+00:00 2022-07-09 12:07:51.240219+00:00      BTC_USDT   \n",
       "2019-10-01 00:03:00+00:00 2022-07-09 12:07:51.240219+00:00      BTC_USDT   \n",
       "2019-10-01 00:04:00+00:00 2022-07-09 12:07:51.240219+00:00      BTC_USDT   \n",
       "\n",
       "                           year  month  \n",
       "timestamp                               \n",
       "2019-10-01 00:00:00+00:00  2019     10  \n",
       "2019-10-01 00:01:00+00:00  2019     10  \n",
       "2019-10-01 00:02:00+00:00  2019     10  \n",
       "2019-10-01 00:03:00+00:00  2019     10  \n",
       "2019-10-01 00:04:00+00:00  2019     10  "
      ]
     },
     "execution_count": 23,
     "metadata": {},
     "output_type": "execute_result"
    }
   ],
   "source": [
    "df.head()"
   ]
  },
  {
   "cell_type": "code",
   "execution_count": 24,
   "id": "86d54823",
   "metadata": {
    "ExecuteTime": {
     "end_time": "2024-02-15T12:47:01.840790Z",
     "start_time": "2024-02-15T12:47:01.835380Z"
    }
   },
   "outputs": [
    {
     "data": {
      "text/plain": [
       "(2353346, 11)"
      ]
     },
     "execution_count": 24,
     "metadata": {},
     "output_type": "execute_result"
    }
   ],
   "source": [
    "df.shape"
   ]
  },
  {
   "cell_type": "markdown",
   "id": "e353a43f",
   "metadata": {},
   "source": [
    "# Download data"
   ]
  },
  {
   "cell_type": "code",
   "execution_count": 25,
   "id": "00df2007",
   "metadata": {
    "ExecuteTime": {
     "end_time": "2024-02-15T12:59:47.798317Z",
     "start_time": "2024-02-15T12:49:05.044379Z"
    },
    "collapsed": true
   },
   "outputs": [
    {
     "name": "stdout",
     "output_type": "stream",
     "text": [
      "\u001b[33mWARNING\u001b[0m: No module named 'gluonts'\n",
      "\u001b[0m\u001b[36mINFO\u001b[0m: > cmd='/app/amp/im_v2/common/data/extract/download_bulk.py --start_timestamp 2023-01-01T00:00:00+00:00 --end_timestamp 2023-01-31T23:59:00+00:00 --vendor ccxt --exchange_id binance --universe v7.3 --data_type ohlcv --contract_type futures --aws_profile ck --assert_on_missing_data --s3_path s3://cryptokaizen-data-test --download_mode periodic_daily --downloading_entity airflow --action_tag downloaded_1min --data_format parquet'\n",
      "\u001b[36mINFO\u001b[0m: Saving log to file '/app/amp/im_v2/common/data/extract/download_bulk.py.log'\n",
      "07:49:16 - \u001b[36mINFO \u001b[0m dataset_schema_utils.py _get_dataset_schema_file_path:38 Loading dataset schema file: /app/amp/data_schema/dataset_schema_versions/dataset_schema_v3.json\n",
      "07:49:16 - \u001b[36mINFO \u001b[0m dataset_schema_utils.py get_dataset_schema:73          Loaded dataset schema version v3\n",
      "07:49:16 - \u001b[36mINFO \u001b[0m extractor.py __init__:42                               CCXT version: 4.2.13\n",
      "07:49:20 - \u001b[36mINFO \u001b[0m dataset_schema_utils.py _get_dataset_schema_file_path:38 Loading dataset schema file: /app/amp/data_schema/dataset_schema_versions/dataset_schema_v3.json\n",
      "07:49:20 - \u001b[36mINFO \u001b[0m dataset_schema_utils.py get_dataset_schema:73          Loaded dataset schema version v3\n",
      "100%|███████████████████████████████████████████| 45/45 [00:24<00:00,  1.82it/s]\n",
      "07:49:45 - \u001b[36mINFO \u001b[0m extract_utils.py process_downloaded_historical_data:942 Saving the dataset into s3://cryptokaizen-data-test/v3/periodic_daily/airflow/downloaded_1min/parquet/ohlcv/futures/v7_3/ccxt/binance/v1_0_0\n",
      "07:49:45 - \u001b[41mWARN \u001b[0m extract_utils.py verify_schema:1117                    Actual type=datetime64[us, UTC] != expected type=datetime64[ns, UTC] because of the different unit, continuing.\n",
      "100%|███████████████████████████████████████████| 45/45 [00:24<00:00,  1.84it/s]\n",
      "07:50:10 - \u001b[36mINFO \u001b[0m extract_utils.py process_downloaded_historical_data:942 Saving the dataset into s3://cryptokaizen-data-test/v3/periodic_daily/airflow/downloaded_1min/parquet/ohlcv/futures/v7_3/ccxt/binance/v1_0_0\n",
      "07:50:11 - \u001b[41mWARN \u001b[0m extract_utils.py verify_schema:1117                    Actual type=datetime64[us, UTC] != expected type=datetime64[ns, UTC] because of the different unit, continuing.\n",
      "100%|███████████████████████████████████████████| 45/45 [00:24<00:00,  1.86it/s]\n",
      "07:50:35 - \u001b[36mINFO \u001b[0m extract_utils.py process_downloaded_historical_data:942 Saving the dataset into s3://cryptokaizen-data-test/v3/periodic_daily/airflow/downloaded_1min/parquet/ohlcv/futures/v7_3/ccxt/binance/v1_0_0\n",
      "07:50:36 - \u001b[41mWARN \u001b[0m extract_utils.py verify_schema:1117                    Actual type=datetime64[us, UTC] != expected type=datetime64[ns, UTC] because of the different unit, continuing.\n",
      "100%|███████████████████████████████████████████| 45/45 [00:24<00:00,  1.86it/s]\n",
      "07:51:00 - \u001b[36mINFO \u001b[0m extract_utils.py process_downloaded_historical_data:942 Saving the dataset into s3://cryptokaizen-data-test/v3/periodic_daily/airflow/downloaded_1min/parquet/ohlcv/futures/v7_3/ccxt/binance/v1_0_0\n",
      "07:51:01 - \u001b[41mWARN \u001b[0m extract_utils.py verify_schema:1117                    Actual type=datetime64[us, UTC] != expected type=datetime64[ns, UTC] because of the different unit, continuing.\n",
      "100%|███████████████████████████████████████████| 45/45 [00:24<00:00,  1.86it/s]\n",
      "07:51:25 - \u001b[36mINFO \u001b[0m extract_utils.py process_downloaded_historical_data:942 Saving the dataset into s3://cryptokaizen-data-test/v3/periodic_daily/airflow/downloaded_1min/parquet/ohlcv/futures/v7_3/ccxt/binance/v1_0_0\n",
      "07:51:26 - \u001b[41mWARN \u001b[0m extract_utils.py verify_schema:1117                    Actual type=datetime64[us, UTC] != expected type=datetime64[ns, UTC] because of the different unit, continuing.\n",
      "100%|███████████████████████████████████████████| 45/45 [00:24<00:00,  1.86it/s]\n",
      "07:51:50 - \u001b[36mINFO \u001b[0m extract_utils.py process_downloaded_historical_data:942 Saving the dataset into s3://cryptokaizen-data-test/v3/periodic_daily/airflow/downloaded_1min/parquet/ohlcv/futures/v7_3/ccxt/binance/v1_0_0\n",
      "07:51:51 - \u001b[41mWARN \u001b[0m extract_utils.py verify_schema:1117                    Actual type=datetime64[us, UTC] != expected type=datetime64[ns, UTC] because of the different unit, continuing.\n",
      "100%|███████████████████████████████████████████| 45/45 [00:24<00:00,  1.85it/s]\n",
      "07:52:15 - \u001b[36mINFO \u001b[0m extract_utils.py process_downloaded_historical_data:942 Saving the dataset into s3://cryptokaizen-data-test/v3/periodic_daily/airflow/downloaded_1min/parquet/ohlcv/futures/v7_3/ccxt/binance/v1_0_0\n",
      "07:52:16 - \u001b[41mWARN \u001b[0m extract_utils.py verify_schema:1117                    Actual type=datetime64[us, UTC] != expected type=datetime64[ns, UTC] because of the different unit, continuing.\n",
      "100%|███████████████████████████████████████████| 45/45 [00:24<00:00,  1.86it/s]\n",
      "07:52:40 - \u001b[36mINFO \u001b[0m extract_utils.py process_downloaded_historical_data:942 Saving the dataset into s3://cryptokaizen-data-test/v3/periodic_daily/airflow/downloaded_1min/parquet/ohlcv/futures/v7_3/ccxt/binance/v1_0_0\n",
      "07:52:40 - \u001b[41mWARN \u001b[0m extract_utils.py verify_schema:1117                    Actual type=datetime64[us, UTC] != expected type=datetime64[ns, UTC] because of the different unit, continuing.\n",
      "100%|███████████████████████████████████████████| 45/45 [00:24<00:00,  1.84it/s]\n",
      "07:53:05 - \u001b[36mINFO \u001b[0m extract_utils.py process_downloaded_historical_data:942 Saving the dataset into s3://cryptokaizen-data-test/v3/periodic_daily/airflow/downloaded_1min/parquet/ohlcv/futures/v7_3/ccxt/binance/v1_0_0\n",
      "07:53:05 - \u001b[41mWARN \u001b[0m extract_utils.py verify_schema:1117                    Actual type=datetime64[us, UTC] != expected type=datetime64[ns, UTC] because of the different unit, continuing.\n",
      "100%|███████████████████████████████████████████| 45/45 [00:24<00:00,  1.86it/s]\n",
      "07:53:30 - \u001b[36mINFO \u001b[0m extract_utils.py process_downloaded_historical_data:942 Saving the dataset into s3://cryptokaizen-data-test/v3/periodic_daily/airflow/downloaded_1min/parquet/ohlcv/futures/v7_3/ccxt/binance/v1_0_0\n",
      "07:53:30 - \u001b[41mWARN \u001b[0m extract_utils.py verify_schema:1117                    Actual type=datetime64[us, UTC] != expected type=datetime64[ns, UTC] because of the different unit, continuing.\n",
      "100%|███████████████████████████████████████████| 45/45 [00:24<00:00,  1.86it/s]\n",
      "07:53:55 - \u001b[36mINFO \u001b[0m extract_utils.py process_downloaded_historical_data:942 Saving the dataset into s3://cryptokaizen-data-test/v3/periodic_daily/airflow/downloaded_1min/parquet/ohlcv/futures/v7_3/ccxt/binance/v1_0_0\n",
      "07:53:55 - \u001b[41mWARN \u001b[0m extract_utils.py verify_schema:1117                    Actual type=datetime64[us, UTC] != expected type=datetime64[ns, UTC] because of the different unit, continuing.\n",
      "100%|███████████████████████████████████████████| 45/45 [00:24<00:00,  1.85it/s]\n",
      "07:54:20 - \u001b[36mINFO \u001b[0m extract_utils.py process_downloaded_historical_data:942 Saving the dataset into s3://cryptokaizen-data-test/v3/periodic_daily/airflow/downloaded_1min/parquet/ohlcv/futures/v7_3/ccxt/binance/v1_0_0\n",
      "07:54:20 - \u001b[41mWARN \u001b[0m extract_utils.py verify_schema:1117                    Actual type=datetime64[us, UTC] != expected type=datetime64[ns, UTC] because of the different unit, continuing.\n",
      "100%|███████████████████████████████████████████| 45/45 [00:24<00:00,  1.85it/s]\n",
      "07:54:45 - \u001b[36mINFO \u001b[0m extract_utils.py process_downloaded_historical_data:942 Saving the dataset into s3://cryptokaizen-data-test/v3/periodic_daily/airflow/downloaded_1min/parquet/ohlcv/futures/v7_3/ccxt/binance/v1_0_0\n",
      "07:54:45 - \u001b[41mWARN \u001b[0m extract_utils.py verify_schema:1117                    Actual type=datetime64[us, UTC] != expected type=datetime64[ns, UTC] because of the different unit, continuing.\n",
      "100%|███████████████████████████████████████████| 45/45 [00:24<00:00,  1.85it/s]\n",
      "07:55:10 - \u001b[36mINFO \u001b[0m extract_utils.py process_downloaded_historical_data:942 Saving the dataset into s3://cryptokaizen-data-test/v3/periodic_daily/airflow/downloaded_1min/parquet/ohlcv/futures/v7_3/ccxt/binance/v1_0_0\n",
      "07:55:10 - \u001b[41mWARN \u001b[0m extract_utils.py verify_schema:1117                    Actual type=datetime64[us, UTC] != expected type=datetime64[ns, UTC] because of the different unit, continuing.\n"
     ]
    },
    {
     "name": "stdout",
     "output_type": "stream",
     "text": [
      "100%|███████████████████████████████████████████| 45/45 [00:24<00:00,  1.81it/s]\n",
      "07:55:35 - \u001b[36mINFO \u001b[0m extract_utils.py process_downloaded_historical_data:942 Saving the dataset into s3://cryptokaizen-data-test/v3/periodic_daily/airflow/downloaded_1min/parquet/ohlcv/futures/v7_3/ccxt/binance/v1_0_0\n",
      "07:55:36 - \u001b[41mWARN \u001b[0m extract_utils.py verify_schema:1117                    Actual type=datetime64[us, UTC] != expected type=datetime64[ns, UTC] because of the different unit, continuing.\n",
      "100%|███████████████████████████████████████████| 45/45 [00:24<00:00,  1.86it/s]\n",
      "07:56:01 - \u001b[36mINFO \u001b[0m extract_utils.py process_downloaded_historical_data:942 Saving the dataset into s3://cryptokaizen-data-test/v3/periodic_daily/airflow/downloaded_1min/parquet/ohlcv/futures/v7_3/ccxt/binance/v1_0_0\n",
      "07:56:01 - \u001b[41mWARN \u001b[0m extract_utils.py verify_schema:1117                    Actual type=datetime64[us, UTC] != expected type=datetime64[ns, UTC] because of the different unit, continuing.\n",
      "100%|███████████████████████████████████████████| 45/45 [00:24<00:00,  1.86it/s]\n",
      "07:56:25 - \u001b[36mINFO \u001b[0m extract_utils.py process_downloaded_historical_data:942 Saving the dataset into s3://cryptokaizen-data-test/v3/periodic_daily/airflow/downloaded_1min/parquet/ohlcv/futures/v7_3/ccxt/binance/v1_0_0\n",
      "07:56:26 - \u001b[41mWARN \u001b[0m extract_utils.py verify_schema:1117                    Actual type=datetime64[us, UTC] != expected type=datetime64[ns, UTC] because of the different unit, continuing.\n",
      "100%|███████████████████████████████████████████| 45/45 [00:24<00:00,  1.85it/s]\n",
      "07:56:51 - \u001b[36mINFO \u001b[0m extract_utils.py process_downloaded_historical_data:942 Saving the dataset into s3://cryptokaizen-data-test/v3/periodic_daily/airflow/downloaded_1min/parquet/ohlcv/futures/v7_3/ccxt/binance/v1_0_0\n",
      "07:56:51 - \u001b[41mWARN \u001b[0m extract_utils.py verify_schema:1117                    Actual type=datetime64[us, UTC] != expected type=datetime64[ns, UTC] because of the different unit, continuing.\n",
      "100%|███████████████████████████████████████████| 45/45 [00:24<00:00,  1.85it/s]\n",
      "07:57:16 - \u001b[36mINFO \u001b[0m extract_utils.py process_downloaded_historical_data:942 Saving the dataset into s3://cryptokaizen-data-test/v3/periodic_daily/airflow/downloaded_1min/parquet/ohlcv/futures/v7_3/ccxt/binance/v1_0_0\n",
      "07:57:16 - \u001b[41mWARN \u001b[0m extract_utils.py verify_schema:1117                    Actual type=datetime64[us, UTC] != expected type=datetime64[ns, UTC] because of the different unit, continuing.\n",
      "100%|███████████████████████████████████████████| 45/45 [00:24<00:00,  1.85it/s]\n",
      "07:57:41 - \u001b[36mINFO \u001b[0m extract_utils.py process_downloaded_historical_data:942 Saving the dataset into s3://cryptokaizen-data-test/v3/periodic_daily/airflow/downloaded_1min/parquet/ohlcv/futures/v7_3/ccxt/binance/v1_0_0\n",
      "07:57:41 - \u001b[41mWARN \u001b[0m extract_utils.py verify_schema:1117                    Actual type=datetime64[us, UTC] != expected type=datetime64[ns, UTC] because of the different unit, continuing.\n",
      "100%|███████████████████████████████████████████| 45/45 [00:24<00:00,  1.85it/s]\n",
      "07:58:06 - \u001b[36mINFO \u001b[0m extract_utils.py process_downloaded_historical_data:942 Saving the dataset into s3://cryptokaizen-data-test/v3/periodic_daily/airflow/downloaded_1min/parquet/ohlcv/futures/v7_3/ccxt/binance/v1_0_0\n",
      "07:58:06 - \u001b[41mWARN \u001b[0m extract_utils.py verify_schema:1117                    Actual type=datetime64[us, UTC] != expected type=datetime64[ns, UTC] because of the different unit, continuing.\n",
      "100%|███████████████████████████████████████████| 45/45 [00:24<00:00,  1.86it/s]\n",
      "07:58:31 - \u001b[36mINFO \u001b[0m extract_utils.py process_downloaded_historical_data:942 Saving the dataset into s3://cryptokaizen-data-test/v3/periodic_daily/airflow/downloaded_1min/parquet/ohlcv/futures/v7_3/ccxt/binance/v1_0_0\n",
      "07:58:31 - \u001b[41mWARN \u001b[0m extract_utils.py verify_schema:1117                    Actual type=datetime64[us, UTC] != expected type=datetime64[ns, UTC] because of the different unit, continuing.\n",
      "100%|███████████████████████████████████████████| 45/45 [00:24<00:00,  1.83it/s]\n",
      "07:58:56 - \u001b[36mINFO \u001b[0m extract_utils.py process_downloaded_historical_data:942 Saving the dataset into s3://cryptokaizen-data-test/v3/periodic_daily/airflow/downloaded_1min/parquet/ohlcv/futures/v7_3/ccxt/binance/v1_0_0\n",
      "07:58:56 - \u001b[41mWARN \u001b[0m extract_utils.py verify_schema:1117                    Actual type=datetime64[us, UTC] != expected type=datetime64[ns, UTC] because of the different unit, continuing.\n",
      "100%|███████████████████████████████████████████| 45/45 [00:24<00:00,  1.85it/s]\n",
      "07:59:21 - \u001b[36mINFO \u001b[0m extract_utils.py process_downloaded_historical_data:942 Saving the dataset into s3://cryptokaizen-data-test/v3/periodic_daily/airflow/downloaded_1min/parquet/ohlcv/futures/v7_3/ccxt/binance/v1_0_0\n",
      "07:59:21 - \u001b[41mWARN \u001b[0m extract_utils.py verify_schema:1117                    Actual type=datetime64[us, UTC] != expected type=datetime64[ns, UTC] because of the different unit, continuing.\n",
      "100%|███████████████████████████████████████████| 45/45 [00:24<00:00,  1.86it/s]\n",
      "07:59:46 - \u001b[36mINFO \u001b[0m extract_utils.py process_downloaded_historical_data:942 Saving the dataset into s3://cryptokaizen-data-test/v3/periodic_daily/airflow/downloaded_1min/parquet/ohlcv/futures/v7_3/ccxt/binance/v1_0_0\n",
      "07:59:46 - \u001b[41mWARN \u001b[0m extract_utils.py verify_schema:1117                    Actual type=datetime64[us, UTC] != expected type=datetime64[ns, UTC] because of the different unit, continuing.\n",
      "07:59:46 - \u001b[36mINFO \u001b[0m hcache.py clear_global_cache:294                       Before clear_global_cache: 'global mem' cache: path='/mnt/tmpfs/tmp.cache.mem', size=36.0 KB\n",
      "07:59:46 - \u001b[41mWARN \u001b[0m hcache.py clear_global_cache:295                       Resetting 'global mem' cache '/mnt/tmpfs/tmp.cache.mem'\n",
      "07:59:46 - \u001b[41mWARN \u001b[0m hcache.py clear_global_cache:305                       Destroying '/mnt/tmpfs/tmp.cache.mem' ...\n",
      "07:59:46 - \u001b[36mINFO \u001b[0m hcache.py clear_global_cache:321                       After clear_global_cache: 'global mem' cache: path='/mnt/tmpfs/tmp.cache.mem', size=nan\n"
     ]
    }
   ],
   "source": [
    "!/app/amp/im_v2/common/data/extract/download_bulk.py \\\n",
    "    --start_timestamp '2023-01-01T00:00:00+00:00' \\\n",
    "    --end_timestamp '2023-01-31T23:59:00+00:00' \\\n",
    "    --vendor 'ccxt' \\\n",
    "    --exchange_id 'binance' \\\n",
    "    --universe 'v7.3' \\\n",
    "    --data_type 'ohlcv' \\\n",
    "    --contract_type 'futures' \\\n",
    "    --aws_profile 'ck' \\\n",
    "    --assert_on_missing_data \\\n",
    "    --s3_path 's3://cryptokaizen-data-test' \\\n",
    "    --download_mode 'periodic_daily' \\\n",
    "    --downloading_entity 'airflow' \\\n",
    "    --action_tag 'downloaded_1min' \\\n",
    "    --data_format 'parquet'"
   ]
  },
  {
   "cell_type": "markdown",
   "id": "3dcd102b",
   "metadata": {},
   "source": [
    "# Read data after downloading"
   ]
  },
  {
   "cell_type": "code",
   "execution_count": 26,
   "id": "530b5610",
   "metadata": {
    "ExecuteTime": {
     "end_time": "2024-02-15T13:08:20.453420Z",
     "start_time": "2024-02-15T13:08:10.307021Z"
    }
   },
   "outputs": [],
   "source": [
    "df = hparque.from_parquet(file_name, filters=filters, aws_profile=\"ck\")"
   ]
  },
  {
   "cell_type": "code",
   "execution_count": 27,
   "id": "1a7ecdf7",
   "metadata": {
    "ExecuteTime": {
     "end_time": "2024-02-15T13:08:38.887692Z",
     "start_time": "2024-02-15T13:08:38.861835Z"
    },
    "collapsed": true
   },
   "outputs": [
    {
     "data": {
      "text/html": [
       "<div>\n",
       "<style scoped>\n",
       "    .dataframe tbody tr th:only-of-type {\n",
       "        vertical-align: middle;\n",
       "    }\n",
       "\n",
       "    .dataframe tbody tr th {\n",
       "        vertical-align: top;\n",
       "    }\n",
       "\n",
       "    .dataframe thead th {\n",
       "        text-align: right;\n",
       "    }\n",
       "</style>\n",
       "<table border=\"1\" class=\"dataframe\">\n",
       "  <thead>\n",
       "    <tr style=\"text-align: right;\">\n",
       "      <th></th>\n",
       "      <th>timestamp</th>\n",
       "      <th>open</th>\n",
       "      <th>high</th>\n",
       "      <th>low</th>\n",
       "      <th>close</th>\n",
       "      <th>volume</th>\n",
       "      <th>exchange_id</th>\n",
       "      <th>knowledge_timestamp</th>\n",
       "      <th>currency_pair</th>\n",
       "      <th>year</th>\n",
       "      <th>month</th>\n",
       "    </tr>\n",
       "    <tr>\n",
       "      <th>timestamp</th>\n",
       "      <th></th>\n",
       "      <th></th>\n",
       "      <th></th>\n",
       "      <th></th>\n",
       "      <th></th>\n",
       "      <th></th>\n",
       "      <th></th>\n",
       "      <th></th>\n",
       "      <th></th>\n",
       "      <th></th>\n",
       "      <th></th>\n",
       "    </tr>\n",
       "  </thead>\n",
       "  <tbody>\n",
       "    <tr>\n",
       "      <th>2019-10-01 00:00:00+00:00</th>\n",
       "      <td>1569888000000</td>\n",
       "      <td>8285.31</td>\n",
       "      <td>8312.30</td>\n",
       "      <td>8277.79</td>\n",
       "      <td>8283.14</td>\n",
       "      <td>225.421</td>\n",
       "      <td>binance</td>\n",
       "      <td>2022-07-09 12:07:51.240219+00:00</td>\n",
       "      <td>BTC_USDT</td>\n",
       "      <td>2019</td>\n",
       "      <td>10</td>\n",
       "    </tr>\n",
       "    <tr>\n",
       "      <th>2019-10-01 00:01:00+00:00</th>\n",
       "      <td>1569888060000</td>\n",
       "      <td>8279.98</td>\n",
       "      <td>8283.53</td>\n",
       "      <td>8268.33</td>\n",
       "      <td>8270.87</td>\n",
       "      <td>10.650</td>\n",
       "      <td>binance</td>\n",
       "      <td>2022-06-24 05:47:16.075108+00:00</td>\n",
       "      <td>BTC_USDT</td>\n",
       "      <td>2019</td>\n",
       "      <td>10</td>\n",
       "    </tr>\n",
       "    <tr>\n",
       "      <th>2019-10-01 00:02:00+00:00</th>\n",
       "      <td>1569888120000</td>\n",
       "      <td>8271.04</td>\n",
       "      <td>8271.40</td>\n",
       "      <td>8265.32</td>\n",
       "      <td>8265.32</td>\n",
       "      <td>16.916</td>\n",
       "      <td>binance</td>\n",
       "      <td>2022-07-09 12:07:51.240219+00:00</td>\n",
       "      <td>BTC_USDT</td>\n",
       "      <td>2019</td>\n",
       "      <td>10</td>\n",
       "    </tr>\n",
       "    <tr>\n",
       "      <th>2019-10-01 00:03:00+00:00</th>\n",
       "      <td>1569888180000</td>\n",
       "      <td>8265.32</td>\n",
       "      <td>8265.32</td>\n",
       "      <td>8240.53</td>\n",
       "      <td>8242.59</td>\n",
       "      <td>188.706</td>\n",
       "      <td>binance</td>\n",
       "      <td>2022-07-09 12:07:51.240219+00:00</td>\n",
       "      <td>BTC_USDT</td>\n",
       "      <td>2019</td>\n",
       "      <td>10</td>\n",
       "    </tr>\n",
       "    <tr>\n",
       "      <th>2019-10-01 00:04:00+00:00</th>\n",
       "      <td>1569888240000</td>\n",
       "      <td>8242.87</td>\n",
       "      <td>8249.18</td>\n",
       "      <td>8240.34</td>\n",
       "      <td>8244.03</td>\n",
       "      <td>36.597</td>\n",
       "      <td>binance</td>\n",
       "      <td>2022-07-09 12:07:51.240219+00:00</td>\n",
       "      <td>BTC_USDT</td>\n",
       "      <td>2019</td>\n",
       "      <td>10</td>\n",
       "    </tr>\n",
       "  </tbody>\n",
       "</table>\n",
       "</div>"
      ],
      "text/plain": [
       "                               timestamp     open     high      low    close  \\\n",
       "timestamp                                                                      \n",
       "2019-10-01 00:00:00+00:00  1569888000000  8285.31  8312.30  8277.79  8283.14   \n",
       "2019-10-01 00:01:00+00:00  1569888060000  8279.98  8283.53  8268.33  8270.87   \n",
       "2019-10-01 00:02:00+00:00  1569888120000  8271.04  8271.40  8265.32  8265.32   \n",
       "2019-10-01 00:03:00+00:00  1569888180000  8265.32  8265.32  8240.53  8242.59   \n",
       "2019-10-01 00:04:00+00:00  1569888240000  8242.87  8249.18  8240.34  8244.03   \n",
       "\n",
       "                            volume exchange_id  \\\n",
       "timestamp                                        \n",
       "2019-10-01 00:00:00+00:00  225.421     binance   \n",
       "2019-10-01 00:01:00+00:00   10.650     binance   \n",
       "2019-10-01 00:02:00+00:00   16.916     binance   \n",
       "2019-10-01 00:03:00+00:00  188.706     binance   \n",
       "2019-10-01 00:04:00+00:00   36.597     binance   \n",
       "\n",
       "                                       knowledge_timestamp currency_pair  \\\n",
       "timestamp                                                                  \n",
       "2019-10-01 00:00:00+00:00 2022-07-09 12:07:51.240219+00:00      BTC_USDT   \n",
       "2019-10-01 00:01:00+00:00 2022-06-24 05:47:16.075108+00:00      BTC_USDT   \n",
       "2019-10-01 00:02:00+00:00 2022-07-09 12:07:51.240219+00:00      BTC_USDT   \n",
       "2019-10-01 00:03:00+00:00 2022-07-09 12:07:51.240219+00:00      BTC_USDT   \n",
       "2019-10-01 00:04:00+00:00 2022-07-09 12:07:51.240219+00:00      BTC_USDT   \n",
       "\n",
       "                           year  month  \n",
       "timestamp                               \n",
       "2019-10-01 00:00:00+00:00  2019     10  \n",
       "2019-10-01 00:01:00+00:00  2019     10  \n",
       "2019-10-01 00:02:00+00:00  2019     10  \n",
       "2019-10-01 00:03:00+00:00  2019     10  \n",
       "2019-10-01 00:04:00+00:00  2019     10  "
      ]
     },
     "execution_count": 27,
     "metadata": {},
     "output_type": "execute_result"
    }
   ],
   "source": [
    "df.head()"
   ]
  },
  {
   "cell_type": "code",
   "execution_count": 28,
   "id": "7538628b",
   "metadata": {
    "ExecuteTime": {
     "end_time": "2024-02-15T13:08:38.957204Z",
     "start_time": "2024-02-15T13:08:38.951193Z"
    }
   },
   "outputs": [
    {
     "data": {
      "text/plain": [
       "(2397986, 11)"
      ]
     },
     "execution_count": 28,
     "metadata": {},
     "output_type": "execute_result"
    }
   ],
   "source": [
    "df.shape"
   ]
  }
 ],
 "metadata": {
  "kernelspec": {
   "display_name": "Python 3 (ipykernel)",
   "language": "python",
   "name": "python3"
  },
  "language_info": {
   "codemirror_mode": {
    "name": "ipython",
    "version": 3
   },
   "file_extension": ".py",
   "mimetype": "text/x-python",
   "name": "python",
   "nbconvert_exporter": "python",
   "pygments_lexer": "ipython3",
   "version": "3.9.5"
  },
  "toc": {
   "base_numbering": 1,
   "nav_menu": {},
   "number_sections": true,
   "sideBar": true,
   "skip_h1_title": false,
   "title_cell": "Table of Contents",
   "title_sidebar": "Contents",
   "toc_cell": false,
   "toc_position": {},
   "toc_section_display": true,
   "toc_window_display": false
  }
 },
 "nbformat": 4,
 "nbformat_minor": 5
}
