{
 "cells": [
  {
   "cell_type": "markdown",
   "id": "e3103ff3",
   "metadata": {},
   "source": [
    " TODO(Grisha): does it belong to the `devops` dir?"
   ]
  },
  {
   "cell_type": "markdown",
   "id": "9d992fed",
   "metadata": {},
   "source": [
    "# Description"
   ]
  },
  {
   "cell_type": "markdown",
   "id": "3e381a7d",
   "metadata": {
    "ExecuteTime": {
     "end_time": "2024-02-02T08:02:05.889049Z",
     "start_time": "2024-02-02T08:02:05.883420Z"
    }
   },
   "source": [
    "The notebook reports the latest build status for multiple repos."
   ]
  },
  {
   "cell_type": "markdown",
   "id": "982f47f1",
   "metadata": {},
   "source": [
    "# Imports"
   ]
  },
  {
   "cell_type": "code",
   "execution_count": 12,
   "id": "97bbec36",
   "metadata": {
    "ExecuteTime": {
     "end_time": "2024-02-07T17:59:42.038091Z",
     "start_time": "2024-02-07T17:59:42.002068Z"
    }
   },
   "outputs": [
    {
     "name": "stdout",
     "output_type": "stream",
     "text": [
      "The autoreload extension is already loaded. To reload it, use:\n",
      "  %reload_ext autoreload\n"
     ]
    }
   ],
   "source": [
    "%load_ext autoreload\n",
    "%autoreload 2\n",
    "%matplotlib inline"
   ]
  },
  {
   "cell_type": "code",
   "execution_count": 13,
   "id": "518df056",
   "metadata": {
    "ExecuteTime": {
     "end_time": "2024-02-07T17:59:42.078514Z",
     "start_time": "2024-02-07T17:59:42.041301Z"
    }
   },
   "outputs": [],
   "source": [
    "import logging\n",
    "from typing import Dict\n",
    "\n",
    "import pandas as pd\n",
    "from IPython.display import Markdown, display\n",
    "\n",
    "import helpers.hdbg as hdbg\n",
    "import helpers.henv as henv\n",
    "import helpers.hpandas as hpandas\n",
    "import helpers.hprint as hprint\n",
    "import helpers.lib_tasks_gh as hlitagh"
   ]
  },
  {
   "cell_type": "code",
   "execution_count": 14,
   "id": "f0793aa5",
   "metadata": {
    "ExecuteTime": {
     "end_time": "2024-02-07T17:59:42.268049Z",
     "start_time": "2024-02-07T17:59:42.081426Z"
    }
   },
   "outputs": [
    {
     "name": "stdout",
     "output_type": "stream",
     "text": [
      "\u001b[0m\u001b[33mWARNING\u001b[0m: Logger already initialized: skipping\n",
      "INFO  # Git\n",
      "  branch_name='CmampTask7128_Buildmeister_Dashboard_add_a_timestamp'\n",
      "  hash='03ea809ed'\n",
      "  # Last commits:\n",
      "    * 03ea809ed Juraj Smeriga Fix wrong column name (#7127)                                     (22 minutes ago) Wed Feb 7 17:37:50 2024  (HEAD -> CmampTask7128_Buildmeister_Dashboard_add_a_timestamp, origin/master, origin/HEAD, origin/CmampTask7128_Buildmeister_Dashboard_add_a_timestamp, master)\n",
      "    * 663f1e37a Juraj Smeriga Add new revision - bid ask resampled table schema changed (#7124) (   2 hours ago) Wed Feb 7 16:08:32 2024           \n",
      "    * 6dd725d85 Sonaal   im_v2/common/notebooks/CmampTask7008_Understand_relationship_between_files_in_refinitiv_bucket.py (#7022) (   4 hours ago) Wed Feb 7 14:09:49 2024           \n",
      "# Machine info\n",
      "  system=Linux\n",
      "  node name=7ae739d73976\n",
      "  release=5.15.0-1052-aws\n",
      "  version=#57~20.04.1-Ubuntu SMP Mon Jan 15 17:04:56 UTC 2024\n",
      "  machine=x86_64\n",
      "  processor=x86_64\n",
      "  cpu count=8\n",
      "  cpu freq=scpufreq(current=2499.998, min=0.0, max=0.0)\n",
      "  memory=svmem(total=33280278528, available=24313544704, percent=26.9, used=8480796672, free=505970688, active=4277731328, inactive=22898339840, buffers=2484453376, cached=21809057792, shared=10649600, slab=5237817344)\n",
      "  disk usage=sdiskusage(total=156052275200, used=139585167360, free=16450330624, percent=89.5)\n",
      "# Packages\n",
      "  python: 3.9.5\n",
      "  cvxopt: 1.3.2\n",
      "  cvxpy: 1.4.1\n",
      "  gluonnlp: ?\n",
      "  gluonts: ?\n",
      "  joblib: 1.3.2\n",
      "  mxnet: ?\n",
      "  numpy: 1.26.0\n",
      "  pandas: 2.1.1\n",
      "  pyarrow: 10.0.0\n",
      "  scipy: 1.11.3\n",
      "  seaborn: 0.13.0\n",
      "  sklearn: 1.3.1\n",
      "  statsmodels: 0.14.0\n"
     ]
    }
   ],
   "source": [
    "hdbg.init_logger(verbosity=logging.INFO)\n",
    "_LOG = logging.getLogger(__name__)\n",
    "_LOG.info(\"%s\", henv.get_system_signature()[0])\n",
    "hprint.config_notebook()"
   ]
  },
  {
   "cell_type": "code",
   "execution_count": 15,
   "id": "93c2d39f",
   "metadata": {
    "ExecuteTime": {
     "end_time": "2024-02-07T17:59:42.338614Z",
     "start_time": "2024-02-07T17:59:42.271472Z"
    }
   },
   "outputs": [],
   "source": [
    "# Set the display options to print the full table.\n",
    "pd.set_option(\"display.max_colwidth\", None)\n",
    "pd.set_option(\"display.max_columns\", None)"
   ]
  },
  {
   "cell_type": "markdown",
   "id": "14f379d5",
   "metadata": {
    "lines_to_next_cell": 2
   },
   "source": [
    "# Utils"
   ]
  },
  {
   "cell_type": "code",
   "execution_count": 16,
   "id": "1f41a8dd",
   "metadata": {
    "ExecuteTime": {
     "end_time": "2024-02-07T17:59:42.380319Z",
     "start_time": "2024-02-07T17:59:42.343492Z"
    }
   },
   "outputs": [],
   "source": [
    "def make_clickable(url: str) -> str:\n",
    "    \"\"\"\n",
    "    Wrapper to make the URL value clickable.\n",
    "\n",
    "    :param url: URL value to convert\n",
    "    :return: clickable URL link\n",
    "    \"\"\"\n",
    "    return f'<a href=\"{url}\" target=\"_blank\">{url}</a>'\n",
    "\n",
    "\n",
    "def color_format(val: str, status_color_mapping: Dict[str, str]) -> str:\n",
    "    \"\"\"\n",
    "    Return the color depends on status.\n",
    "\n",
    "    :param val: value of the status e.g. `failure`\n",
    "    :param status_color_mapping: mapping statuses to the colors e.g.:\n",
    "    ```\n",
    "    {\n",
    "       \"success\": \"green\",\n",
    "       \"failure\": \"red\",\n",
    "    }\n",
    "    ```\n",
    "    \"\"\"\n",
    "    if val in status_color_mapping:\n",
    "        color = status_color_mapping[val]\n",
    "    else:\n",
    "        color = \"grey\"\n",
    "    return f\"background-color: {color}\""
   ]
  },
  {
   "cell_type": "markdown",
   "id": "189f2c75",
   "metadata": {},
   "source": [
    "# GH workflows state"
   ]
  },
  {
   "cell_type": "code",
   "execution_count": 17,
   "id": "865bc9f2",
   "metadata": {
    "ExecuteTime": {
     "end_time": "2024-02-07T17:59:57.513155Z",
     "start_time": "2024-02-07T17:59:42.383039Z"
    }
   },
   "outputs": [
    {
     "name": "stdout",
     "output_type": "stream",
     "text": [
      "WARNING * Failed assertion *\n",
      "'0'\n",
      "==\n",
      "'2'\n",
      "Continuing as per user request with only_warning=True\n",
      "WARNING Not enough runs to compute status for 'Build dev image', repo 'cryptokaizen/cmamp', skipping the workflow\n",
      "WARNING * Failed assertion *\n",
      "'0'\n",
      "==\n",
      "'2'\n",
      "Continuing as per user request with only_warning=True\n",
      "WARNING Not enough runs to compute status for 'Build production cmamp image', repo 'cryptokaizen/cmamp', skipping the workflow\n",
      "WARNING * Failed assertion *\n",
      "'0'\n",
      "==\n",
      "'2'\n",
      "Continuing as per user request with only_warning=True\n",
      "WARNING Not enough runs to compute status for 'Check if the Linter was run', repo 'cryptokaizen/cmamp', skipping the workflow\n",
      "WARNING * Failed assertion *\n",
      "'0'\n",
      "==\n",
      "'2'\n",
      "Continuing as per user request with only_warning=True\n",
      "WARNING Not enough runs to compute status for 'Run linter', repo 'cryptokaizen/cmamp', skipping the workflow\n",
      "WARNING * Failed assertion *\n",
      "'0'\n",
      "==\n",
      "'2'\n",
      "Continuing as per user request with only_warning=True\n",
      "WARNING Not enough runs to compute status for 'Build image', repo 'sorrentum/dev_tools', skipping the workflow\n",
      "WARNING * Failed assertion *\n",
      "'0'\n",
      "==\n",
      "'2'\n",
      "Continuing as per user request with only_warning=True\n",
      "WARNING Not enough runs to compute status for 'Run linter', repo 'sorrentum/dev_tools', skipping the workflow\n"
     ]
    },
    {
     "data": {
      "text/html": [
       "<div>\n",
       "<style scoped>\n",
       "    .dataframe tbody tr th:only-of-type {\n",
       "        vertical-align: middle;\n",
       "    }\n",
       "\n",
       "    .dataframe tbody tr th {\n",
       "        vertical-align: top;\n",
       "    }\n",
       "\n",
       "    .dataframe thead th {\n",
       "        text-align: right;\n",
       "    }\n",
       "</style>\n",
       "<table border=\"1\" class=\"dataframe\">\n",
       "  <thead>\n",
       "    <tr style=\"text-align: right;\">\n",
       "      <th></th>\n",
       "      <th>repo_name</th>\n",
       "      <th>workflow_name</th>\n",
       "      <th>conclusion</th>\n",
       "      <th>url</th>\n",
       "    </tr>\n",
       "  </thead>\n",
       "  <tbody>\n",
       "    <tr>\n",
       "      <th>0</th>\n",
       "      <td>cryptokaizen/cmamp</td>\n",
       "      <td>Allure fast tests</td>\n",
       "      <td>success</td>\n",
       "      <td>&lt;a href=\"https://github.com/cryptokaizen/cmamp/actions/runs/7808568279\" target=\"_blank\"&gt;https://github.com/cryptokaizen/cmamp/actions/runs/7808568279&lt;/a&gt;</td>\n",
       "    </tr>\n",
       "    <tr>\n",
       "      <th>1</th>\n",
       "      <td>cryptokaizen/cmamp</td>\n",
       "      <td>Allure slow tests</td>\n",
       "      <td>success</td>\n",
       "      <td>&lt;a href=\"https://github.com/cryptokaizen/cmamp/actions/runs/7808548104\" target=\"_blank\"&gt;https://github.com/cryptokaizen/cmamp/actions/runs/7808548104&lt;/a&gt;</td>\n",
       "    </tr>\n",
       "    <tr>\n",
       "      <th>2</th>\n",
       "      <td>cryptokaizen/cmamp</td>\n",
       "      <td>Allure superslow tests</td>\n",
       "      <td>success</td>\n",
       "      <td>&lt;a href=\"https://github.com/cryptokaizen/cmamp/actions/runs/7808557004\" target=\"_blank\"&gt;https://github.com/cryptokaizen/cmamp/actions/runs/7808557004&lt;/a&gt;</td>\n",
       "    </tr>\n",
       "    <tr>\n",
       "      <th></th>\n",
       "      <td>...</td>\n",
       "      <td>...</td>\n",
       "      <td>...</td>\n",
       "      <td>...</td>\n",
       "    </tr>\n",
       "    <tr>\n",
       "      <th>16</th>\n",
       "      <td>sorrentum/dev_tools</td>\n",
       "      <td>Superslow tests</td>\n",
       "      <td>success</td>\n",
       "      <td>&lt;a href=\"https://github.com/sorrentum/dev_tools/actions/runs/7770587591\" target=\"_blank\"&gt;https://github.com/sorrentum/dev_tools/actions/runs/7770587591&lt;/a&gt;</td>\n",
       "    </tr>\n",
       "    <tr>\n",
       "      <th>17</th>\n",
       "      <td>sorrentum/dev_tools</td>\n",
       "      <td>Update amp sumbodule</td>\n",
       "      <td>success</td>\n",
       "      <td>&lt;a href=\"https://github.com/sorrentum/dev_tools/actions/runs/7808302374\" target=\"_blank\"&gt;https://github.com/sorrentum/dev_tools/actions/runs/7808302374&lt;/a&gt;</td>\n",
       "    </tr>\n",
       "    <tr>\n",
       "      <th>18</th>\n",
       "      <td>sorrentum/sorrentum</td>\n",
       "      <td>Fast tests</td>\n",
       "      <td>failure</td>\n",
       "      <td>&lt;a href=\"https://github.com/sorrentum/sorrentum/actions/runs/7808102957\" target=\"_blank\"&gt;https://github.com/sorrentum/sorrentum/actions/runs/7808102957&lt;/a&gt;</td>\n",
       "    </tr>\n",
       "  </tbody>\n",
       "</table>\n",
       "</div>"
      ],
      "text/plain": [
       "              repo_name           workflow_name conclusion                                                                                                                                                          url\n",
       "0    cryptokaizen/cmamp       Allure fast tests    success    <a href=\"https://github.com/cryptokaizen/cmamp/actions/runs/7808568279\" target=\"_blank\">https://github.com/cryptokaizen/cmamp/actions/runs/7808568279</a>\n",
       "1    cryptokaizen/cmamp       Allure slow tests    success    <a href=\"https://github.com/cryptokaizen/cmamp/actions/runs/7808548104\" target=\"_blank\">https://github.com/cryptokaizen/cmamp/actions/runs/7808548104</a>\n",
       "2    cryptokaizen/cmamp  Allure superslow tests    success    <a href=\"https://github.com/cryptokaizen/cmamp/actions/runs/7808557004\" target=\"_blank\">https://github.com/cryptokaizen/cmamp/actions/runs/7808557004</a>\n",
       "                    ...                     ...        ...                                                                                                                                                          ...\n",
       "16  sorrentum/dev_tools         Superslow tests    success  <a href=\"https://github.com/sorrentum/dev_tools/actions/runs/7770587591\" target=\"_blank\">https://github.com/sorrentum/dev_tools/actions/runs/7770587591</a>\n",
       "17  sorrentum/dev_tools    Update amp sumbodule    success  <a href=\"https://github.com/sorrentum/dev_tools/actions/runs/7808302374\" target=\"_blank\">https://github.com/sorrentum/dev_tools/actions/runs/7808302374</a>\n",
       "18  sorrentum/sorrentum              Fast tests    failure  <a href=\"https://github.com/sorrentum/sorrentum/actions/runs/7808102957\" target=\"_blank\">https://github.com/sorrentum/sorrentum/actions/runs/7808102957</a>"
      ]
     },
     "metadata": {},
     "output_type": "display_data"
    },
    {
     "name": "stdout",
     "output_type": "stream",
     "text": [
      "INFO  None\n"
     ]
    }
   ],
   "source": [
    "repo_list = [\n",
    "    \"cryptokaizen/cmamp\",\n",
    "    \"cryptokaizen/orange\",\n",
    "    \"cryptokaizen/lemonade\",\n",
    "    \"sorrentum/dev_tools\",\n",
    "    \"sorrentum/sorrentum\",\n",
    "]\n",
    "workflow_df = hlitagh.gh_get_details_for_all_workflows(repo_list)\n",
    "# Reorder columns.\n",
    "columns_order = [\"repo_name\", \"workflow_name\", \"conclusion\", \"url\"]\n",
    "workflow_df = workflow_df[columns_order]\n",
    "# Make URL values clickable.\n",
    "workflow_df[\"url\"] = workflow_df[\"url\"].apply(make_clickable)\n",
    "_LOG.info(hpandas.df_to_str(workflow_df, log_level=logging.INFO))"
   ]
  },
  {
   "cell_type": "code",
   "execution_count": 18,
   "id": "f7e999ce",
   "metadata": {
    "ExecuteTime": {
     "end_time": "2024-02-07T17:59:57.585606Z",
     "start_time": "2024-02-07T17:59:57.515915Z"
    }
   },
   "outputs": [
    {
     "data": {
      "text/markdown": [
       "## Overall Status"
      ],
      "text/plain": [
       "<IPython.core.display.Markdown object>"
      ]
     },
     "metadata": {},
     "output_type": "display_data"
    },
    {
     "data": {
      "text/markdown": [
       "**Last run: 2024-02-07 12:59:57.554240-05:00**"
      ],
      "text/plain": [
       "<IPython.core.display.Markdown object>"
      ]
     },
     "metadata": {},
     "output_type": "display_data"
    },
    {
     "data": {
      "text/markdown": [
       "## cryptokaizen/cmamp: <span style=\"color:red\">Failed</span>"
      ],
      "text/plain": [
       "<IPython.core.display.Markdown object>"
      ]
     },
     "metadata": {},
     "output_type": "display_data"
    },
    {
     "data": {
      "text/html": [
       "<style type=\"text/css\">\n",
       "#T_0a529_row0_col1, #T_0a529_row1_col1, #T_0a529_row2_col1, #T_0a529_row3_col1, #T_0a529_row4_col1, #T_0a529_row5_col1, #T_0a529_row6_col1, #T_0a529_row7_col1 {\n",
       "  background-color: green;\n",
       "}\n",
       "#T_0a529_row8_col1 {\n",
       "  background-color: red;\n",
       "}\n",
       "</style>\n",
       "<table id=\"T_0a529\">\n",
       "  <thead>\n",
       "    <tr>\n",
       "      <th class=\"blank level0\" >&nbsp;</th>\n",
       "      <th id=\"T_0a529_level0_col0\" class=\"col_heading level0 col0\" >workflow_name</th>\n",
       "      <th id=\"T_0a529_level0_col1\" class=\"col_heading level0 col1\" >conclusion</th>\n",
       "      <th id=\"T_0a529_level0_col2\" class=\"col_heading level0 col2\" >url</th>\n",
       "    </tr>\n",
       "  </thead>\n",
       "  <tbody>\n",
       "    <tr>\n",
       "      <th id=\"T_0a529_level0_row0\" class=\"row_heading level0 row0\" >0</th>\n",
       "      <td id=\"T_0a529_row0_col0\" class=\"data row0 col0\" >Allure fast tests</td>\n",
       "      <td id=\"T_0a529_row0_col1\" class=\"data row0 col1\" >success</td>\n",
       "      <td id=\"T_0a529_row0_col2\" class=\"data row0 col2\" ><a href=\"https://github.com/cryptokaizen/cmamp/actions/runs/7808568279\" target=\"_blank\">https://github.com/cryptokaizen/cmamp/actions/runs/7808568279</a></td>\n",
       "    </tr>\n",
       "    <tr>\n",
       "      <th id=\"T_0a529_level0_row1\" class=\"row_heading level0 row1\" >1</th>\n",
       "      <td id=\"T_0a529_row1_col0\" class=\"data row1 col0\" >Allure slow tests</td>\n",
       "      <td id=\"T_0a529_row1_col1\" class=\"data row1 col1\" >success</td>\n",
       "      <td id=\"T_0a529_row1_col2\" class=\"data row1 col2\" ><a href=\"https://github.com/cryptokaizen/cmamp/actions/runs/7808548104\" target=\"_blank\">https://github.com/cryptokaizen/cmamp/actions/runs/7808548104</a></td>\n",
       "    </tr>\n",
       "    <tr>\n",
       "      <th id=\"T_0a529_level0_row2\" class=\"row_heading level0 row2\" >2</th>\n",
       "      <td id=\"T_0a529_row2_col0\" class=\"data row2 col0\" >Allure superslow tests</td>\n",
       "      <td id=\"T_0a529_row2_col1\" class=\"data row2 col1\" >success</td>\n",
       "      <td id=\"T_0a529_row2_col2\" class=\"data row2 col2\" ><a href=\"https://github.com/cryptokaizen/cmamp/actions/runs/7808557004\" target=\"_blank\">https://github.com/cryptokaizen/cmamp/actions/runs/7808557004</a></td>\n",
       "    </tr>\n",
       "    <tr>\n",
       "      <th id=\"T_0a529_level0_row3\" class=\"row_heading level0 row3\" >3</th>\n",
       "      <td id=\"T_0a529_row3_col0\" class=\"data row3 col0\" >Fast tests</td>\n",
       "      <td id=\"T_0a529_row3_col1\" class=\"data row3 col1\" >success</td>\n",
       "      <td id=\"T_0a529_row3_col2\" class=\"data row3 col2\" ><a href=\"https://github.com/cryptokaizen/cmamp/actions/runs/7818893418\" target=\"_blank\">https://github.com/cryptokaizen/cmamp/actions/runs/7818893418</a></td>\n",
       "    </tr>\n",
       "    <tr>\n",
       "      <th id=\"T_0a529_level0_row4\" class=\"row_heading level0 row4\" >4</th>\n",
       "      <td id=\"T_0a529_row4_col0\" class=\"data row4 col0\" >Import cycles detector</td>\n",
       "      <td id=\"T_0a529_row4_col1\" class=\"data row4 col1\" >success</td>\n",
       "      <td id=\"T_0a529_row4_col2\" class=\"data row4 col2\" ><a href=\"https://github.com/cryptokaizen/cmamp/actions/runs/7807768465\" target=\"_blank\">https://github.com/cryptokaizen/cmamp/actions/runs/7807768465</a></td>\n",
       "    </tr>\n",
       "    <tr>\n",
       "      <th id=\"T_0a529_level0_row5\" class=\"row_heading level0 row5\" >5</th>\n",
       "      <td id=\"T_0a529_row5_col0\" class=\"data row5 col0\" >Run and publish the Buildmeister Dashboard</td>\n",
       "      <td id=\"T_0a529_row5_col1\" class=\"data row5 col1\" >success</td>\n",
       "      <td id=\"T_0a529_row5_col2\" class=\"data row5 col2\" ><a href=\"https://github.com/cryptokaizen/cmamp/actions/runs/7818452319\" target=\"_blank\">https://github.com/cryptokaizen/cmamp/actions/runs/7818452319</a></td>\n",
       "    </tr>\n",
       "    <tr>\n",
       "      <th id=\"T_0a529_level0_row6\" class=\"row_heading level0 row6\" >6</th>\n",
       "      <td id=\"T_0a529_row6_col0\" class=\"data row6 col0\" >Slow tests</td>\n",
       "      <td id=\"T_0a529_row6_col1\" class=\"data row6 col1\" >success</td>\n",
       "      <td id=\"T_0a529_row6_col2\" class=\"data row6 col2\" ><a href=\"https://github.com/cryptokaizen/cmamp/actions/runs/7818893415\" target=\"_blank\">https://github.com/cryptokaizen/cmamp/actions/runs/7818893415</a></td>\n",
       "    </tr>\n",
       "    <tr>\n",
       "      <th id=\"T_0a529_level0_row7\" class=\"row_heading level0 row7\" >7</th>\n",
       "      <td id=\"T_0a529_row7_col0\" class=\"data row7 col0\" >Superslow tests</td>\n",
       "      <td id=\"T_0a529_row7_col1\" class=\"data row7 col1\" >success</td>\n",
       "      <td id=\"T_0a529_row7_col2\" class=\"data row7 col2\" ><a href=\"https://github.com/cryptokaizen/cmamp/actions/runs/7807877868\" target=\"_blank\">https://github.com/cryptokaizen/cmamp/actions/runs/7807877868</a></td>\n",
       "    </tr>\n",
       "    <tr>\n",
       "      <th id=\"T_0a529_level0_row8\" class=\"row_heading level0 row8\" >8</th>\n",
       "      <td id=\"T_0a529_row8_col0\" class=\"data row8 col0\" >Test coverage</td>\n",
       "      <td id=\"T_0a529_row8_col1\" class=\"data row8 col1\" >failure</td>\n",
       "      <td id=\"T_0a529_row8_col2\" class=\"data row8 col2\" ><a href=\"https://github.com/cryptokaizen/cmamp/actions/runs/7777681857\" target=\"_blank\">https://github.com/cryptokaizen/cmamp/actions/runs/7777681857</a></td>\n",
       "    </tr>\n",
       "  </tbody>\n",
       "</table>\n"
      ],
      "text/plain": [
       "<pandas.io.formats.style.Styler at 0x7f6ee828f9d0>"
      ]
     },
     "metadata": {},
     "output_type": "display_data"
    },
    {
     "data": {
      "text/markdown": [
       "## cryptokaizen/orange: <span style=\"color:red\">Failed</span>"
      ],
      "text/plain": [
       "<IPython.core.display.Markdown object>"
      ]
     },
     "metadata": {},
     "output_type": "display_data"
    },
    {
     "data": {
      "text/html": [
       "<style type=\"text/css\">\n",
       "#T_7928b_row0_col1, #T_7928b_row1_col1, #T_7928b_row2_col1 {\n",
       "  background-color: green;\n",
       "}\n",
       "#T_7928b_row3_col1, #T_7928b_row4_col1 {\n",
       "  background-color: red;\n",
       "}\n",
       "</style>\n",
       "<table id=\"T_7928b\">\n",
       "  <thead>\n",
       "    <tr>\n",
       "      <th class=\"blank level0\" >&nbsp;</th>\n",
       "      <th id=\"T_7928b_level0_col0\" class=\"col_heading level0 col0\" >workflow_name</th>\n",
       "      <th id=\"T_7928b_level0_col1\" class=\"col_heading level0 col1\" >conclusion</th>\n",
       "      <th id=\"T_7928b_level0_col2\" class=\"col_heading level0 col2\" >url</th>\n",
       "    </tr>\n",
       "  </thead>\n",
       "  <tbody>\n",
       "    <tr>\n",
       "      <th id=\"T_7928b_level0_row0\" class=\"row_heading level0 row0\" >9</th>\n",
       "      <td id=\"T_7928b_row0_col0\" class=\"data row0 col0\" >Fast tests</td>\n",
       "      <td id=\"T_7928b_row0_col1\" class=\"data row0 col1\" >success</td>\n",
       "      <td id=\"T_7928b_row0_col2\" class=\"data row0 col2\" ><a href=\"https://github.com/cryptokaizen/orange/actions/runs/7814543113\" target=\"_blank\">https://github.com/cryptokaizen/orange/actions/runs/7814543113</a></td>\n",
       "    </tr>\n",
       "    <tr>\n",
       "      <th id=\"T_7928b_level0_row1\" class=\"row_heading level0 row1\" >10</th>\n",
       "      <td id=\"T_7928b_row1_col0\" class=\"data row1 col0\" >Release new ECS preprod task definition</td>\n",
       "      <td id=\"T_7928b_row1_col1\" class=\"data row1 col1\" >success</td>\n",
       "      <td id=\"T_7928b_row1_col2\" class=\"data row1 col2\" ><a href=\"https://github.com/cryptokaizen/orange/actions/runs/7814428030\" target=\"_blank\">https://github.com/cryptokaizen/orange/actions/runs/7814428030</a></td>\n",
       "    </tr>\n",
       "    <tr>\n",
       "      <th id=\"T_7928b_level0_row2\" class=\"row_heading level0 row2\" >11</th>\n",
       "      <td id=\"T_7928b_row2_col0\" class=\"data row2 col0\" >Slow tests</td>\n",
       "      <td id=\"T_7928b_row2_col1\" class=\"data row2 col1\" >success</td>\n",
       "      <td id=\"T_7928b_row2_col2\" class=\"data row2 col2\" ><a href=\"https://github.com/cryptokaizen/orange/actions/runs/7814543128\" target=\"_blank\">https://github.com/cryptokaizen/orange/actions/runs/7814543128</a></td>\n",
       "    </tr>\n",
       "    <tr>\n",
       "      <th id=\"T_7928b_level0_row3\" class=\"row_heading level0 row3\" >12</th>\n",
       "      <td id=\"T_7928b_row3_col0\" class=\"data row3 col0\" >Superslow tests</td>\n",
       "      <td id=\"T_7928b_row3_col1\" class=\"data row3 col1\" >failure</td>\n",
       "      <td id=\"T_7928b_row3_col2\" class=\"data row3 col2\" ><a href=\"https://github.com/cryptokaizen/orange/actions/runs/7807841880\" target=\"_blank\">https://github.com/cryptokaizen/orange/actions/runs/7807841880</a></td>\n",
       "    </tr>\n",
       "    <tr>\n",
       "      <th id=\"T_7928b_level0_row4\" class=\"row_heading level0 row4\" >13</th>\n",
       "      <td id=\"T_7928b_row4_col0\" class=\"data row4 col0\" >Update amp sumbodule</td>\n",
       "      <td id=\"T_7928b_row4_col1\" class=\"data row4 col1\" >failure</td>\n",
       "      <td id=\"T_7928b_row4_col2\" class=\"data row4 col2\" ><a href=\"https://github.com/cryptokaizen/orange/actions/runs/7808544691\" target=\"_blank\">https://github.com/cryptokaizen/orange/actions/runs/7808544691</a></td>\n",
       "    </tr>\n",
       "  </tbody>\n",
       "</table>\n"
      ],
      "text/plain": [
       "<pandas.io.formats.style.Styler at 0x7f6ee828ff70>"
      ]
     },
     "metadata": {},
     "output_type": "display_data"
    },
    {
     "data": {
      "text/markdown": [
       "## sorrentum/dev_tools: <span style=\"color:green\">Success</span>"
      ],
      "text/plain": [
       "<IPython.core.display.Markdown object>"
      ]
     },
     "metadata": {},
     "output_type": "display_data"
    },
    {
     "data": {
      "text/html": [
       "<style type=\"text/css\">\n",
       "#T_7e54e_row0_col1, #T_7e54e_row1_col1, #T_7e54e_row2_col1, #T_7e54e_row3_col1 {\n",
       "  background-color: green;\n",
       "}\n",
       "</style>\n",
       "<table id=\"T_7e54e\">\n",
       "  <thead>\n",
       "    <tr>\n",
       "      <th class=\"blank level0\" >&nbsp;</th>\n",
       "      <th id=\"T_7e54e_level0_col0\" class=\"col_heading level0 col0\" >workflow_name</th>\n",
       "      <th id=\"T_7e54e_level0_col1\" class=\"col_heading level0 col1\" >conclusion</th>\n",
       "      <th id=\"T_7e54e_level0_col2\" class=\"col_heading level0 col2\" >url</th>\n",
       "    </tr>\n",
       "  </thead>\n",
       "  <tbody>\n",
       "    <tr>\n",
       "      <th id=\"T_7e54e_level0_row0\" class=\"row_heading level0 row0\" >14</th>\n",
       "      <td id=\"T_7e54e_row0_col0\" class=\"data row0 col0\" >Fast tests</td>\n",
       "      <td id=\"T_7e54e_row0_col1\" class=\"data row0 col1\" >success</td>\n",
       "      <td id=\"T_7e54e_row0_col2\" class=\"data row0 col2\" ><a href=\"https://github.com/sorrentum/dev_tools/actions/runs/7808397959\" target=\"_blank\">https://github.com/sorrentum/dev_tools/actions/runs/7808397959</a></td>\n",
       "    </tr>\n",
       "    <tr>\n",
       "      <th id=\"T_7e54e_level0_row1\" class=\"row_heading level0 row1\" >15</th>\n",
       "      <td id=\"T_7e54e_row1_col0\" class=\"data row1 col0\" >Slow tests</td>\n",
       "      <td id=\"T_7e54e_row1_col1\" class=\"data row1 col1\" >success</td>\n",
       "      <td id=\"T_7e54e_row1_col2\" class=\"data row1 col2\" ><a href=\"https://github.com/sorrentum/dev_tools/actions/runs/7808332144\" target=\"_blank\">https://github.com/sorrentum/dev_tools/actions/runs/7808332144</a></td>\n",
       "    </tr>\n",
       "    <tr>\n",
       "      <th id=\"T_7e54e_level0_row2\" class=\"row_heading level0 row2\" >16</th>\n",
       "      <td id=\"T_7e54e_row2_col0\" class=\"data row2 col0\" >Superslow tests</td>\n",
       "      <td id=\"T_7e54e_row2_col1\" class=\"data row2 col1\" >success</td>\n",
       "      <td id=\"T_7e54e_row2_col2\" class=\"data row2 col2\" ><a href=\"https://github.com/sorrentum/dev_tools/actions/runs/7770587591\" target=\"_blank\">https://github.com/sorrentum/dev_tools/actions/runs/7770587591</a></td>\n",
       "    </tr>\n",
       "    <tr>\n",
       "      <th id=\"T_7e54e_level0_row3\" class=\"row_heading level0 row3\" >17</th>\n",
       "      <td id=\"T_7e54e_row3_col0\" class=\"data row3 col0\" >Update amp sumbodule</td>\n",
       "      <td id=\"T_7e54e_row3_col1\" class=\"data row3 col1\" >success</td>\n",
       "      <td id=\"T_7e54e_row3_col2\" class=\"data row3 col2\" ><a href=\"https://github.com/sorrentum/dev_tools/actions/runs/7808302374\" target=\"_blank\">https://github.com/sorrentum/dev_tools/actions/runs/7808302374</a></td>\n",
       "    </tr>\n",
       "  </tbody>\n",
       "</table>\n"
      ],
      "text/plain": [
       "<pandas.io.formats.style.Styler at 0x7f6ee83599a0>"
      ]
     },
     "metadata": {},
     "output_type": "display_data"
    },
    {
     "data": {
      "text/markdown": [
       "## sorrentum/sorrentum: <span style=\"color:red\">Failed</span>"
      ],
      "text/plain": [
       "<IPython.core.display.Markdown object>"
      ]
     },
     "metadata": {},
     "output_type": "display_data"
    },
    {
     "data": {
      "text/html": [
       "<style type=\"text/css\">\n",
       "#T_be7be_row0_col1 {\n",
       "  background-color: red;\n",
       "}\n",
       "</style>\n",
       "<table id=\"T_be7be\">\n",
       "  <thead>\n",
       "    <tr>\n",
       "      <th class=\"blank level0\" >&nbsp;</th>\n",
       "      <th id=\"T_be7be_level0_col0\" class=\"col_heading level0 col0\" >workflow_name</th>\n",
       "      <th id=\"T_be7be_level0_col1\" class=\"col_heading level0 col1\" >conclusion</th>\n",
       "      <th id=\"T_be7be_level0_col2\" class=\"col_heading level0 col2\" >url</th>\n",
       "    </tr>\n",
       "  </thead>\n",
       "  <tbody>\n",
       "    <tr>\n",
       "      <th id=\"T_be7be_level0_row0\" class=\"row_heading level0 row0\" >18</th>\n",
       "      <td id=\"T_be7be_row0_col0\" class=\"data row0 col0\" >Fast tests</td>\n",
       "      <td id=\"T_be7be_row0_col1\" class=\"data row0 col1\" >failure</td>\n",
       "      <td id=\"T_be7be_row0_col2\" class=\"data row0 col2\" ><a href=\"https://github.com/sorrentum/sorrentum/actions/runs/7808102957\" target=\"_blank\">https://github.com/sorrentum/sorrentum/actions/runs/7808102957</a></td>\n",
       "    </tr>\n",
       "  </tbody>\n",
       "</table>\n"
      ],
      "text/plain": [
       "<pandas.io.formats.style.Styler at 0x7f6ee83d3fd0>"
      ]
     },
     "metadata": {},
     "output_type": "display_data"
    }
   ],
   "source": [
    "status_color_mapping = {\n",
    "    \"success\": \"green\",\n",
    "    \"failure\": \"red\",\n",
    "}\n",
    "repos = workflow_df[\"repo_name\"].unique()\n",
    "display(Markdown(\"## Overall Status\"))\n",
    "current_timestamp = pd.Timestamp.now(tz=\"America/New_York\")\n",
    "display(Markdown(f\"**Last run: {current_timestamp}**\"))\n",
    "for repo in repos:\n",
    "    # Calculate the overall status.\n",
    "    repo_df = workflow_df[workflow_df[\"repo_name\"] == repo]\n",
    "    overall_status = hlitagh.gh_get_overall_build_status_for_repo(repo_df)\n",
    "    display(Markdown(f\"## {repo}: {overall_status}\"))\n",
    "    repo_df = repo_df.drop(columns=[\"repo_name\"])\n",
    "    display(\n",
    "        repo_df.style.map(\n",
    "            color_format,\n",
    "            status_color_mapping=status_color_mapping,\n",
    "            subset=[\"conclusion\"],\n",
    "        )\n",
    "    )"
   ]
  },
  {
   "cell_type": "markdown",
   "id": "a00870a9",
   "metadata": {},
   "source": [
    "# Allure reports"
   ]
  },
  {
   "cell_type": "markdown",
   "id": "36e93fca",
   "metadata": {},
   "source": [
    "- fast tests: http://172.30.2.44/allure_reports/cmamp/fast/latest/index.html\n",
    "- slow tests: http://172.30.2.44/allure_reports/cmamp/slow/latest/index.html\n",
    "- superslow tests: http://172.30.2.44/allure_reports/cmamp/superslow/latest/index.html"
   ]
  },
  {
   "cell_type": "markdown",
   "id": "bb8ed505",
   "metadata": {},
   "source": [
    "# Number of open pull requests"
   ]
  },
  {
   "cell_type": "code",
   "execution_count": 19,
   "id": "69dbda1d",
   "metadata": {
    "ExecuteTime": {
     "end_time": "2024-02-07T17:59:59.309022Z",
     "start_time": "2024-02-07T17:59:57.588291Z"
    }
   },
   "outputs": [
    {
     "name": "stdout",
     "output_type": "stream",
     "text": [
      "INFO  cryptokaizen/cmamp: 30\n",
      "INFO  cryptokaizen/orange: 18\n",
      "INFO  sorrentum/dev_tools: 2\n",
      "INFO  sorrentum/sorrentum: 9\n"
     ]
    }
   ],
   "source": [
    "for repo in repo_list:\n",
    "    number_prs = len(hlitagh.gh_get_open_prs(repo))\n",
    "    _LOG.info(\"%s: %s\", repo, number_prs)"
   ]
  },
  {
   "cell_type": "markdown",
   "id": "ec63cb5e",
   "metadata": {},
   "source": [
    "# Code coverage HTML-page"
   ]
  },
  {
   "cell_type": "markdown",
   "id": "569f9404",
   "metadata": {
    "ExecuteTime": {
     "end_time": "2024-01-24T14:40:31.379819Z",
     "start_time": "2024-01-24T14:40:31.327151Z"
    }
   },
   "source": [
    "http://172.30.2.44/html_coverage/runner_master/"
   ]
  }
 ],
 "metadata": {
  "kernelspec": {
   "display_name": "Python 3 (ipykernel)",
   "language": "python",
   "name": "python3"
  },
  "language_info": {
   "codemirror_mode": {
    "name": "ipython",
    "version": 3
   },
   "file_extension": ".py",
   "mimetype": "text/x-python",
   "name": "python",
   "nbconvert_exporter": "python",
   "pygments_lexer": "ipython3",
   "version": "3.9.5"
  },
  "toc": {
   "base_numbering": 1,
   "nav_menu": {},
   "number_sections": true,
   "sideBar": true,
   "skip_h1_title": false,
   "title_cell": "Table of Contents",
   "title_sidebar": "Contents",
   "toc_cell": false,
   "toc_position": {},
   "toc_section_display": true,
   "toc_window_display": false
  }
 },
 "nbformat": 4,
 "nbformat_minor": 5
}
