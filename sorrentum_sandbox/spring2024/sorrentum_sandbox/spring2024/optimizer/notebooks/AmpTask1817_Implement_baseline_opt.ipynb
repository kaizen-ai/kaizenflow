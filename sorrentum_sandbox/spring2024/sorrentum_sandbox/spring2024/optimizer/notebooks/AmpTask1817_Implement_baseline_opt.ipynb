{
 "cells": [
  {
   "cell_type": "code",
   "execution_count": 1,
   "id": "50e4f470",
   "metadata": {
    "ExecuteTime": {
     "end_time": "2022-11-14T18:44:47.697526Z",
     "start_time": "2022-11-14T18:44:47.652990Z"
    }
   },
   "outputs": [],
   "source": [
    "%load_ext autoreload\n",
    "%autoreload 2"
   ]
  },
  {
   "cell_type": "code",
   "execution_count": 2,
   "id": "451c8e6b",
   "metadata": {
    "ExecuteTime": {
     "end_time": "2022-11-14T18:44:51.026642Z",
     "start_time": "2022-11-14T18:44:47.705021Z"
    }
   },
   "outputs": [],
   "source": [
    "import logging\n",
    "\n",
    "import pandas as pd\n",
    "\n",
    "import helpers.hdbg as hdbg\n",
    "import optimizer.single_period_optimization as osipeopt"
   ]
  },
  {
   "cell_type": "code",
   "execution_count": 3,
   "id": "89dc2f85",
   "metadata": {
    "ExecuteTime": {
     "end_time": "2022-11-14T18:44:51.114044Z",
     "start_time": "2022-11-14T18:44:51.032650Z"
    }
   },
   "outputs": [
    {
     "name": "stdout",
     "output_type": "stream",
     "text": [
      "\u001b[0m\u001b[36mINFO\u001b[0m: > cmd='/venv/lib/python3.9/site-packages/ipykernel_launcher.py -f /home/.local/share/jupyter/runtime/kernel-ac6c4b23-195a-42de-a1e3-12df46319ebc.json'\n",
      "WARNING: Running in Jupyter\n"
     ]
    }
   ],
   "source": [
    "hdbg.init_logger(verbosity=logging.INFO)\n",
    "\n",
    "_LOG = logging.getLogger(__name__)\n",
    "\n",
    "# _LOG.info(\"%s\", henv.get_system_signature()[0])"
   ]
  },
  {
   "cell_type": "code",
   "execution_count": 4,
   "id": "655fe2d1",
   "metadata": {
    "ExecuteTime": {
     "end_time": "2022-11-14T18:44:51.186068Z",
     "start_time": "2022-11-14T18:44:51.125541Z"
    }
   },
   "outputs": [],
   "source": [
    "# hprint.config_notebook()"
   ]
  },
  {
   "cell_type": "markdown",
   "id": "9bc6c3fa",
   "metadata": {},
   "source": [
    "# Build forecast dataframe"
   ]
  },
  {
   "cell_type": "code",
   "execution_count": 5,
   "id": "4c0d34e4",
   "metadata": {
    "ExecuteTime": {
     "end_time": "2022-11-14T18:44:51.267920Z",
     "start_time": "2022-11-14T18:44:51.192756Z"
    }
   },
   "outputs": [],
   "source": [
    "df = pd.DataFrame(\n",
    "    [\n",
    "        [1, 1000, 1, 1000, 0.05, 0.05],\n",
    "        [2, 1500, 1, 1500, 0.09, 0.07],\n",
    "        [3, -500, 1, -500, 0.03, 0.08],\n",
    "    ],\n",
    "    range(0, 3),\n",
    "    [\n",
    "        \"asset_id\",\n",
    "        \"holdings_shares\",\n",
    "        \"price\",\n",
    "        \"holdings_notional\",\n",
    "        \"prediction\",\n",
    "        \"volatility\",\n",
    "    ],\n",
    ")"
   ]
  },
  {
   "cell_type": "markdown",
   "id": "224c28e3",
   "metadata": {},
   "source": [
    "# Build optimizer config"
   ]
  },
  {
   "cell_type": "code",
   "execution_count": 6,
   "id": "87cd4624",
   "metadata": {
    "ExecuteTime": {
     "end_time": "2022-11-14T18:44:51.338498Z",
     "start_time": "2022-11-14T18:44:51.274978Z"
    }
   },
   "outputs": [],
   "source": [
    "dict_ = {\n",
    "    \"dollar_neutrality_penalty\": 0.0,\n",
    "    \"volatility_penalty\": 0.0,\n",
    "    \"relative_holding_penalty\": 0.0,\n",
    "    \"relative_holding_max_frac_of_gmv\": 0.6,\n",
    "    \"target_gmv\": 3000,\n",
    "    \"target_gmv_upper_bound_penalty\": 0.0,\n",
    "    \"target_gmv_hard_upper_bound_multiple\": 1.00,\n",
    "    \"turnover_penalty\": 0.0,\n",
    "    \"solver\": \"ECOS\",\n",
    "}"
   ]
  },
  {
   "cell_type": "markdown",
   "id": "7d5cad9b",
   "metadata": {},
   "source": [
    "# Optimize"
   ]
  },
  {
   "cell_type": "code",
   "execution_count": 7,
   "id": "1f3f82db",
   "metadata": {
    "ExecuteTime": {
     "end_time": "2022-11-14T18:44:51.426354Z",
     "start_time": "2022-11-14T18:44:51.344794Z"
    }
   },
   "outputs": [],
   "source": [
    "spo = osipeopt.SinglePeriodOptimizer(dict_, df)"
   ]
  },
  {
   "cell_type": "code",
   "execution_count": 8,
   "id": "2632cf89",
   "metadata": {
    "ExecuteTime": {
     "end_time": "2022-11-14T18:44:51.724263Z",
     "start_time": "2022-11-14T18:44:51.431976Z"
    }
   },
   "outputs": [
    {
     "name": "stdout",
     "output_type": "stream",
     "text": [
      "INFO  `optimal_value`=0.22\n"
     ]
    },
    {
     "data": {
      "text/html": [
       "<div>\n",
       "<style scoped>\n",
       "    .dataframe tbody tr th:only-of-type {\n",
       "        vertical-align: middle;\n",
       "    }\n",
       "\n",
       "    .dataframe tbody tr th {\n",
       "        vertical-align: top;\n",
       "    }\n",
       "\n",
       "    .dataframe thead th {\n",
       "        text-align: right;\n",
       "    }\n",
       "</style>\n",
       "<table border=\"1\" class=\"dataframe\">\n",
       "  <thead>\n",
       "    <tr style=\"text-align: right;\">\n",
       "      <th></th>\n",
       "      <th>target_holdings_notional</th>\n",
       "      <th>target_trades_notional</th>\n",
       "      <th>target_weight</th>\n",
       "      <th>target_weight_diff</th>\n",
       "    </tr>\n",
       "    <tr>\n",
       "      <th>asset_id</th>\n",
       "      <th></th>\n",
       "      <th></th>\n",
       "      <th></th>\n",
       "      <th></th>\n",
       "    </tr>\n",
       "  </thead>\n",
       "  <tbody>\n",
       "    <tr>\n",
       "      <th>1</th>\n",
       "      <td>1200.0</td>\n",
       "      <td>200.0</td>\n",
       "      <td>1.2</td>\n",
       "      <td>0.2</td>\n",
       "    </tr>\n",
       "    <tr>\n",
       "      <th>2</th>\n",
       "      <td>1800.0</td>\n",
       "      <td>300.0</td>\n",
       "      <td>1.8</td>\n",
       "      <td>0.3</td>\n",
       "    </tr>\n",
       "    <tr>\n",
       "      <th>3</th>\n",
       "      <td>0.0</td>\n",
       "      <td>500.0</td>\n",
       "      <td>0.0</td>\n",
       "      <td>0.5</td>\n",
       "    </tr>\n",
       "  </tbody>\n",
       "</table>\n",
       "</div>"
      ],
      "text/plain": [
       "          target_holdings_notional  target_trades_notional  target_weight  \\\n",
       "asset_id                                                                    \n",
       "1                           1200.0                   200.0            1.2   \n",
       "2                           1800.0                   300.0            1.8   \n",
       "3                              0.0                   500.0            0.0   \n",
       "\n",
       "          target_weight_diff  \n",
       "asset_id                      \n",
       "1                        0.2  \n",
       "2                        0.3  \n",
       "3                        0.5  "
      ]
     },
     "metadata": {},
     "output_type": "display_data"
    }
   ],
   "source": [
    "opt_results = spo.optimize()\n",
    "display(opt_results.round(3))"
   ]
  },
  {
   "cell_type": "code",
   "execution_count": 9,
   "id": "5a8274ad",
   "metadata": {
    "ExecuteTime": {
     "end_time": "2022-11-14T18:44:51.796303Z",
     "start_time": "2022-11-14T18:44:51.731796Z"
    }
   },
   "outputs": [],
   "source": [
    "res1 = opt_results.stack().rename(\"s1\")"
   ]
  },
  {
   "cell_type": "code",
   "execution_count": 10,
   "id": "c3cc9ea7",
   "metadata": {
    "ExecuteTime": {
     "end_time": "2022-11-14T18:44:51.864986Z",
     "start_time": "2022-11-14T18:44:51.803491Z"
    }
   },
   "outputs": [],
   "source": [
    "res2 = opt_results.stack().rename(\"s2\")"
   ]
  },
  {
   "cell_type": "code",
   "execution_count": 11,
   "id": "0d387412",
   "metadata": {
    "ExecuteTime": {
     "end_time": "2022-11-14T18:44:51.962723Z",
     "start_time": "2022-11-14T18:44:51.872451Z"
    }
   },
   "outputs": [
    {
     "data": {
      "text/html": [
       "<div>\n",
       "<style scoped>\n",
       "    .dataframe tbody tr th:only-of-type {\n",
       "        vertical-align: middle;\n",
       "    }\n",
       "\n",
       "    .dataframe tbody tr th {\n",
       "        vertical-align: top;\n",
       "    }\n",
       "\n",
       "    .dataframe thead th {\n",
       "        text-align: right;\n",
       "    }\n",
       "</style>\n",
       "<table border=\"1\" class=\"dataframe\">\n",
       "  <thead>\n",
       "    <tr style=\"text-align: right;\">\n",
       "      <th></th>\n",
       "      <th></th>\n",
       "      <th>s1</th>\n",
       "      <th>s2</th>\n",
       "    </tr>\n",
       "    <tr>\n",
       "      <th>asset_id</th>\n",
       "      <th></th>\n",
       "      <th></th>\n",
       "      <th></th>\n",
       "    </tr>\n",
       "  </thead>\n",
       "  <tbody>\n",
       "    <tr>\n",
       "      <th rowspan=\"4\" valign=\"top\">1</th>\n",
       "      <th>target_holdings_notional</th>\n",
       "      <td>1.200000e+03</td>\n",
       "      <td>1.200000e+03</td>\n",
       "    </tr>\n",
       "    <tr>\n",
       "      <th>target_trades_notional</th>\n",
       "      <td>2.000000e+02</td>\n",
       "      <td>2.000000e+02</td>\n",
       "    </tr>\n",
       "    <tr>\n",
       "      <th>target_weight</th>\n",
       "      <td>1.200000e+00</td>\n",
       "      <td>1.200000e+00</td>\n",
       "    </tr>\n",
       "    <tr>\n",
       "      <th>target_weight_diff</th>\n",
       "      <td>2.000000e-01</td>\n",
       "      <td>2.000000e-01</td>\n",
       "    </tr>\n",
       "    <tr>\n",
       "      <th rowspan=\"4\" valign=\"top\">2</th>\n",
       "      <th>target_holdings_notional</th>\n",
       "      <td>1.800000e+03</td>\n",
       "      <td>1.800000e+03</td>\n",
       "    </tr>\n",
       "    <tr>\n",
       "      <th>target_trades_notional</th>\n",
       "      <td>3.000000e+02</td>\n",
       "      <td>3.000000e+02</td>\n",
       "    </tr>\n",
       "    <tr>\n",
       "      <th>target_weight</th>\n",
       "      <td>1.800000e+00</td>\n",
       "      <td>1.800000e+00</td>\n",
       "    </tr>\n",
       "    <tr>\n",
       "      <th>target_weight_diff</th>\n",
       "      <td>3.000000e-01</td>\n",
       "      <td>3.000000e-01</td>\n",
       "    </tr>\n",
       "    <tr>\n",
       "      <th rowspan=\"4\" valign=\"top\">3</th>\n",
       "      <th>target_holdings_notional</th>\n",
       "      <td>3.520370e-06</td>\n",
       "      <td>3.520370e-06</td>\n",
       "    </tr>\n",
       "    <tr>\n",
       "      <th>target_trades_notional</th>\n",
       "      <td>5.000000e+02</td>\n",
       "      <td>5.000000e+02</td>\n",
       "    </tr>\n",
       "    <tr>\n",
       "      <th>target_weight</th>\n",
       "      <td>3.520370e-09</td>\n",
       "      <td>3.520370e-09</td>\n",
       "    </tr>\n",
       "    <tr>\n",
       "      <th>target_weight_diff</th>\n",
       "      <td>5.000000e-01</td>\n",
       "      <td>5.000000e-01</td>\n",
       "    </tr>\n",
       "  </tbody>\n",
       "</table>\n",
       "</div>"
      ],
      "text/plain": [
       "                                             s1            s2\n",
       "asset_id                                                     \n",
       "1        target_holdings_notional  1.200000e+03  1.200000e+03\n",
       "         target_trades_notional    2.000000e+02  2.000000e+02\n",
       "         target_weight             1.200000e+00  1.200000e+00\n",
       "         target_weight_diff        2.000000e-01  2.000000e-01\n",
       "2        target_holdings_notional  1.800000e+03  1.800000e+03\n",
       "         target_trades_notional    3.000000e+02  3.000000e+02\n",
       "         target_weight             1.800000e+00  1.800000e+00\n",
       "         target_weight_diff        3.000000e-01  3.000000e-01\n",
       "3        target_holdings_notional  3.520370e-06  3.520370e-06\n",
       "         target_trades_notional    5.000000e+02  5.000000e+02\n",
       "         target_weight             3.520370e-09  3.520370e-09\n",
       "         target_weight_diff        5.000000e-01  5.000000e-01"
      ]
     },
     "execution_count": 11,
     "metadata": {},
     "output_type": "execute_result"
    }
   ],
   "source": [
    "pd.concat([res1, res2], keys=[\"s1\", \"s2\"], axis=1)"
   ]
  },
  {
   "cell_type": "code",
   "execution_count": 12,
   "id": "b9a160b7",
   "metadata": {
    "ExecuteTime": {
     "end_time": "2022-11-14T18:44:52.089028Z",
     "start_time": "2022-11-14T18:44:51.969785Z"
    }
   },
   "outputs": [
    {
     "data": {
      "text/html": [
       "<div>\n",
       "<style scoped>\n",
       "    .dataframe tbody tr th:only-of-type {\n",
       "        vertical-align: middle;\n",
       "    }\n",
       "\n",
       "    .dataframe tbody tr th {\n",
       "        vertical-align: top;\n",
       "    }\n",
       "\n",
       "    .dataframe thead tr th {\n",
       "        text-align: left;\n",
       "    }\n",
       "</style>\n",
       "<table border=\"1\" class=\"dataframe\">\n",
       "  <thead>\n",
       "    <tr>\n",
       "      <th>asset_id</th>\n",
       "      <th colspan=\"4\" halign=\"left\">1</th>\n",
       "      <th colspan=\"4\" halign=\"left\">2</th>\n",
       "      <th colspan=\"4\" halign=\"left\">3</th>\n",
       "    </tr>\n",
       "    <tr>\n",
       "      <th></th>\n",
       "      <th>target_holdings_notional</th>\n",
       "      <th>target_trades_notional</th>\n",
       "      <th>target_weight</th>\n",
       "      <th>target_weight_diff</th>\n",
       "      <th>target_holdings_notional</th>\n",
       "      <th>target_trades_notional</th>\n",
       "      <th>target_weight</th>\n",
       "      <th>target_weight_diff</th>\n",
       "      <th>target_holdings_notional</th>\n",
       "      <th>target_trades_notional</th>\n",
       "      <th>target_weight</th>\n",
       "      <th>target_weight_diff</th>\n",
       "    </tr>\n",
       "  </thead>\n",
       "  <tbody>\n",
       "    <tr>\n",
       "      <th>s1</th>\n",
       "      <td>1199.999997</td>\n",
       "      <td>199.999997</td>\n",
       "      <td>1.2</td>\n",
       "      <td>0.2</td>\n",
       "      <td>1799.999999</td>\n",
       "      <td>299.999999</td>\n",
       "      <td>1.8</td>\n",
       "      <td>0.3</td>\n",
       "      <td>0.000004</td>\n",
       "      <td>500.000004</td>\n",
       "      <td>3.520370e-09</td>\n",
       "      <td>0.5</td>\n",
       "    </tr>\n",
       "    <tr>\n",
       "      <th>s2</th>\n",
       "      <td>1199.999997</td>\n",
       "      <td>199.999997</td>\n",
       "      <td>1.2</td>\n",
       "      <td>0.2</td>\n",
       "      <td>1799.999999</td>\n",
       "      <td>299.999999</td>\n",
       "      <td>1.8</td>\n",
       "      <td>0.3</td>\n",
       "      <td>0.000004</td>\n",
       "      <td>500.000004</td>\n",
       "      <td>3.520370e-09</td>\n",
       "      <td>0.5</td>\n",
       "    </tr>\n",
       "  </tbody>\n",
       "</table>\n",
       "</div>"
      ],
      "text/plain": [
       "asset_id                        1                                       \\\n",
       "         target_holdings_notional target_trades_notional target_weight   \n",
       "s1                    1199.999997             199.999997           1.2   \n",
       "s2                    1199.999997             199.999997           1.2   \n",
       "\n",
       "asset_id                                           2                         \\\n",
       "         target_weight_diff target_holdings_notional target_trades_notional   \n",
       "s1                      0.2              1799.999999             299.999999   \n",
       "s2                      0.2              1799.999999             299.999999   \n",
       "\n",
       "asset_id                                                         3  \\\n",
       "         target_weight target_weight_diff target_holdings_notional   \n",
       "s1                 1.8                0.3                 0.000004   \n",
       "s2                 1.8                0.3                 0.000004   \n",
       "\n",
       "asset_id                                                          \n",
       "         target_trades_notional target_weight target_weight_diff  \n",
       "s1                   500.000004  3.520370e-09                0.5  \n",
       "s2                   500.000004  3.520370e-09                0.5  "
      ]
     },
     "execution_count": 12,
     "metadata": {},
     "output_type": "execute_result"
    }
   ],
   "source": [
    "pd.concat(\n",
    "    {\n",
    "        \"s1\": res1,\n",
    "        \"s2\": res2,\n",
    "    },\n",
    "    axis=1,\n",
    ").T"
   ]
  },
  {
   "cell_type": "code",
   "execution_count": 13,
   "id": "c2c2cc9b",
   "metadata": {
    "ExecuteTime": {
     "end_time": "2022-11-14T18:44:52.182057Z",
     "start_time": "2022-11-14T18:44:52.101561Z"
    }
   },
   "outputs": [
    {
     "data": {
      "text/html": [
       "<div>\n",
       "<style scoped>\n",
       "    .dataframe tbody tr th:only-of-type {\n",
       "        vertical-align: middle;\n",
       "    }\n",
       "\n",
       "    .dataframe tbody tr th {\n",
       "        vertical-align: top;\n",
       "    }\n",
       "\n",
       "    .dataframe thead th {\n",
       "        text-align: right;\n",
       "    }\n",
       "</style>\n",
       "<table border=\"1\" class=\"dataframe\">\n",
       "  <thead>\n",
       "    <tr style=\"text-align: right;\">\n",
       "      <th></th>\n",
       "      <th>notional</th>\n",
       "      <th>percentage</th>\n",
       "    </tr>\n",
       "  </thead>\n",
       "  <tbody>\n",
       "    <tr>\n",
       "      <th>gross_volume</th>\n",
       "      <td>999.999999</td>\n",
       "      <td>33.333333</td>\n",
       "    </tr>\n",
       "    <tr>\n",
       "      <th>net_volume</th>\n",
       "      <td>999.999999</td>\n",
       "      <td>33.333333</td>\n",
       "    </tr>\n",
       "    <tr>\n",
       "      <th>gmv</th>\n",
       "      <td>2999.999999</td>\n",
       "      <td>100.000000</td>\n",
       "    </tr>\n",
       "    <tr>\n",
       "      <th>nmv</th>\n",
       "      <td>2999.999999</td>\n",
       "      <td>100.000000</td>\n",
       "    </tr>\n",
       "  </tbody>\n",
       "</table>\n",
       "</div>"
      ],
      "text/plain": [
       "                 notional  percentage\n",
       "gross_volume   999.999999   33.333333\n",
       "net_volume     999.999999   33.333333\n",
       "gmv           2999.999999  100.000000\n",
       "nmv           2999.999999  100.000000"
      ]
     },
     "execution_count": 13,
     "metadata": {},
     "output_type": "execute_result"
    }
   ],
   "source": [
    "spo.compute_stats(opt_results)"
   ]
  },
  {
   "cell_type": "markdown",
   "id": "c58f1440",
   "metadata": {},
   "source": [
    "# Process forecast dataframe"
   ]
  },
  {
   "cell_type": "code",
   "execution_count": 14,
   "id": "0cfb1191",
   "metadata": {
    "ExecuteTime": {
     "end_time": "2022-11-14T18:44:52.351750Z",
     "start_time": "2022-11-14T18:44:52.188869Z"
    }
   },
   "outputs": [],
   "source": [
    "tz = \"America/New_York\"\n",
    "idx = [\n",
    "    pd.Timestamp(\"2022-01-03 09:35:00\", tz=tz),\n",
    "    pd.Timestamp(\"2022-01-03 09:40:00\", tz=tz),\n",
    "    pd.Timestamp(\"2022-01-03 09:45:00\", tz=tz),\n",
    "    pd.Timestamp(\"2022-01-03 09:50:00\", tz=tz),\n",
    "]\n",
    "asset_ids = [100, 200]\n",
    "\n",
    "prediction_data = [\n",
    "    [-0.25, -0.34],\n",
    "    [0.13, 0.5],\n",
    "    [0.84, -0.97],\n",
    "    [0.86, -0.113],\n",
    "]\n",
    "\n",
    "price_data = [[100.0, 100.3], [100.1, 100.5], [100.05, 100.4], [100.2, 100.5]]\n",
    "\n",
    "volatility_data = [\n",
    "    [0.00110, 0.00048],\n",
    "    [0.00091, 0.00046],\n",
    "    [0.00086, 0.00060],\n",
    "    [0.00071, 0.00068],\n",
    "]\n",
    "\n",
    "prediction_df = pd.DataFrame(prediction_data, idx, asset_ids)\n",
    "price_df = pd.DataFrame(price_data, idx, asset_ids)\n",
    "volatility_df = pd.DataFrame(volatility_data, idx, asset_ids)\n",
    "dag_df = pd.concat(\n",
    "    {\"price\": price_df, \"volatility\": volatility_df, \"prediction\": prediction_df},\n",
    "    axis=1,\n",
    ")"
   ]
  },
  {
   "cell_type": "code",
   "execution_count": 15,
   "id": "3e23bf11",
   "metadata": {
    "ExecuteTime": {
     "end_time": "2022-11-14T18:44:52.455536Z",
     "start_time": "2022-11-14T18:44:52.357061Z"
    }
   },
   "outputs": [
    {
     "data": {
      "text/html": [
       "<div>\n",
       "<style scoped>\n",
       "    .dataframe tbody tr th:only-of-type {\n",
       "        vertical-align: middle;\n",
       "    }\n",
       "\n",
       "    .dataframe tbody tr th {\n",
       "        vertical-align: top;\n",
       "    }\n",
       "\n",
       "    .dataframe thead tr th {\n",
       "        text-align: left;\n",
       "    }\n",
       "</style>\n",
       "<table border=\"1\" class=\"dataframe\">\n",
       "  <thead>\n",
       "    <tr>\n",
       "      <th></th>\n",
       "      <th colspan=\"2\" halign=\"left\">price</th>\n",
       "      <th colspan=\"2\" halign=\"left\">volatility</th>\n",
       "      <th colspan=\"2\" halign=\"left\">prediction</th>\n",
       "    </tr>\n",
       "    <tr>\n",
       "      <th></th>\n",
       "      <th>100</th>\n",
       "      <th>200</th>\n",
       "      <th>100</th>\n",
       "      <th>200</th>\n",
       "      <th>100</th>\n",
       "      <th>200</th>\n",
       "    </tr>\n",
       "  </thead>\n",
       "  <tbody>\n",
       "    <tr>\n",
       "      <th>2022-01-03 09:35:00-05:00</th>\n",
       "      <td>100.00</td>\n",
       "      <td>100.3</td>\n",
       "      <td>0.00110</td>\n",
       "      <td>0.00048</td>\n",
       "      <td>-0.25</td>\n",
       "      <td>-0.340</td>\n",
       "    </tr>\n",
       "    <tr>\n",
       "      <th>2022-01-03 09:40:00-05:00</th>\n",
       "      <td>100.10</td>\n",
       "      <td>100.5</td>\n",
       "      <td>0.00091</td>\n",
       "      <td>0.00046</td>\n",
       "      <td>0.13</td>\n",
       "      <td>0.500</td>\n",
       "    </tr>\n",
       "    <tr>\n",
       "      <th>2022-01-03 09:45:00-05:00</th>\n",
       "      <td>100.05</td>\n",
       "      <td>100.4</td>\n",
       "      <td>0.00086</td>\n",
       "      <td>0.00060</td>\n",
       "      <td>0.84</td>\n",
       "      <td>-0.970</td>\n",
       "    </tr>\n",
       "    <tr>\n",
       "      <th>2022-01-03 09:50:00-05:00</th>\n",
       "      <td>100.20</td>\n",
       "      <td>100.5</td>\n",
       "      <td>0.00071</td>\n",
       "      <td>0.00068</td>\n",
       "      <td>0.86</td>\n",
       "      <td>-0.113</td>\n",
       "    </tr>\n",
       "  </tbody>\n",
       "</table>\n",
       "</div>"
      ],
      "text/plain": [
       "                            price        volatility          prediction       \n",
       "                              100    200        100      200        100    200\n",
       "2022-01-03 09:35:00-05:00  100.00  100.3    0.00110  0.00048      -0.25 -0.340\n",
       "2022-01-03 09:40:00-05:00  100.10  100.5    0.00091  0.00046       0.13  0.500\n",
       "2022-01-03 09:45:00-05:00  100.05  100.4    0.00086  0.00060       0.84 -0.970\n",
       "2022-01-03 09:50:00-05:00  100.20  100.5    0.00071  0.00068       0.86 -0.113"
      ]
     },
     "execution_count": 15,
     "metadata": {},
     "output_type": "execute_result"
    }
   ],
   "source": [
    "dag_df"
   ]
  },
  {
   "cell_type": "code",
   "execution_count": 16,
   "id": "6d3adbee",
   "metadata": {
    "ExecuteTime": {
     "end_time": "2022-11-14T18:44:54.459278Z",
     "start_time": "2022-11-14T18:44:52.462426Z"
    }
   },
   "outputs": [
    {
     "name": "stderr",
     "output_type": "stream",
     "text": [
      "/app/amp/optimizer/forecast_evaluator_with_optimizer.py:10: TqdmExperimentalWarning: Using `tqdm.autonotebook.tqdm` in notebook mode. Use `tqdm.tqdm` instead to force console mode (e.g. in jupyter console)\n",
      "  from tqdm.autonotebook import tqdm\n"
     ]
    }
   ],
   "source": [
    "import optimizer.forecast_evaluator_with_optimizer as ofevwiop"
   ]
  },
  {
   "cell_type": "code",
   "execution_count": 17,
   "id": "68caaf92",
   "metadata": {
    "ExecuteTime": {
     "end_time": "2022-11-14T18:44:54.544730Z",
     "start_time": "2022-11-14T18:44:54.464758Z"
    }
   },
   "outputs": [],
   "source": [
    "fewo = ofevwiop.ForecastEvaluatorWithOptimizer(\n",
    "    \"price\",\n",
    "    \"volatility\",\n",
    "    \"prediction\",\n",
    "    dict_,\n",
    ")"
   ]
  },
  {
   "cell_type": "code",
   "execution_count": 18,
   "id": "cbe40aa3",
   "metadata": {
    "ExecuteTime": {
     "end_time": "2022-11-14T18:44:54.665139Z",
     "start_time": "2022-11-14T18:44:54.553108Z"
    }
   },
   "outputs": [
    {
     "data": {
      "text/html": [
       "<div>\n",
       "<style scoped>\n",
       "    .dataframe tbody tr th:only-of-type {\n",
       "        vertical-align: middle;\n",
       "    }\n",
       "\n",
       "    .dataframe tbody tr th {\n",
       "        vertical-align: top;\n",
       "    }\n",
       "\n",
       "    .dataframe thead tr th {\n",
       "        text-align: left;\n",
       "    }\n",
       "</style>\n",
       "<table border=\"1\" class=\"dataframe\">\n",
       "  <thead>\n",
       "    <tr>\n",
       "      <th></th>\n",
       "      <th colspan=\"2\" halign=\"left\">price</th>\n",
       "      <th colspan=\"2\" halign=\"left\">volatility</th>\n",
       "      <th colspan=\"2\" halign=\"left\">prediction</th>\n",
       "    </tr>\n",
       "    <tr>\n",
       "      <th></th>\n",
       "      <th>100</th>\n",
       "      <th>200</th>\n",
       "      <th>100</th>\n",
       "      <th>200</th>\n",
       "      <th>100</th>\n",
       "      <th>200</th>\n",
       "    </tr>\n",
       "  </thead>\n",
       "  <tbody>\n",
       "    <tr>\n",
       "      <th>2022-01-03 09:35:00-05:00</th>\n",
       "      <td>100.00</td>\n",
       "      <td>100.3</td>\n",
       "      <td>0.00110</td>\n",
       "      <td>0.00048</td>\n",
       "      <td>-0.25</td>\n",
       "      <td>-0.340</td>\n",
       "    </tr>\n",
       "    <tr>\n",
       "      <th>2022-01-03 09:40:00-05:00</th>\n",
       "      <td>100.10</td>\n",
       "      <td>100.5</td>\n",
       "      <td>0.00091</td>\n",
       "      <td>0.00046</td>\n",
       "      <td>0.13</td>\n",
       "      <td>0.500</td>\n",
       "    </tr>\n",
       "    <tr>\n",
       "      <th>2022-01-03 09:45:00-05:00</th>\n",
       "      <td>100.05</td>\n",
       "      <td>100.4</td>\n",
       "      <td>0.00086</td>\n",
       "      <td>0.00060</td>\n",
       "      <td>0.84</td>\n",
       "      <td>-0.970</td>\n",
       "    </tr>\n",
       "    <tr>\n",
       "      <th>2022-01-03 09:50:00-05:00</th>\n",
       "      <td>100.20</td>\n",
       "      <td>100.5</td>\n",
       "      <td>0.00071</td>\n",
       "      <td>0.00068</td>\n",
       "      <td>0.86</td>\n",
       "      <td>-0.113</td>\n",
       "    </tr>\n",
       "  </tbody>\n",
       "</table>\n",
       "</div>"
      ],
      "text/plain": [
       "                            price        volatility          prediction       \n",
       "                              100    200        100      200        100    200\n",
       "2022-01-03 09:35:00-05:00  100.00  100.3    0.00110  0.00048      -0.25 -0.340\n",
       "2022-01-03 09:40:00-05:00  100.10  100.5    0.00091  0.00046       0.13  0.500\n",
       "2022-01-03 09:45:00-05:00  100.05  100.4    0.00086  0.00060       0.84 -0.970\n",
       "2022-01-03 09:50:00-05:00  100.20  100.5    0.00071  0.00068       0.86 -0.113"
      ]
     },
     "execution_count": 18,
     "metadata": {},
     "output_type": "execute_result"
    }
   ],
   "source": [
    "dag_df"
   ]
  },
  {
   "cell_type": "code",
   "execution_count": 19,
   "id": "deff2256",
   "metadata": {
    "ExecuteTime": {
     "end_time": "2022-11-14T18:44:55.460493Z",
     "start_time": "2022-11-14T18:44:54.671527Z"
    }
   },
   "outputs": [
    {
     "data": {
      "application/vnd.jupyter.widget-view+json": {
       "model_id": "fe09b73ed8844bea84051cd9c8666326",
       "version_major": 2,
       "version_minor": 0
      },
      "text/plain": [
       "  0%|          | 0/4 [00:00<?, ?it/s]"
      ]
     },
     "metadata": {},
     "output_type": "display_data"
    },
    {
     "name": "stdout",
     "output_type": "stream",
     "text": [
      "INFO  timestamp=2022-01-03 09:35:00-05:00, next_timestamp=2022-01-03 09:40:00-05:00\n",
      "INFO  `optimal_value`=0.61\n",
      "INFO  timestamp=2022-01-03 09:40:00-05:00, next_timestamp=2022-01-03 09:45:00-05:00\n",
      "INFO  `optimal_value`=0.70\n",
      "INFO  timestamp=2022-01-03 09:45:00-05:00, next_timestamp=2022-01-03 09:50:00-05:00\n",
      "INFO  timestamp=2022-01-03 09:50:00-05:00, next_timestamp=None\n",
      "INFO  `optimal_value`=1.12\n"
     ]
    }
   ],
   "source": [
    "portfolio_df, portfolio_stats_df = fewo.annotate_forecasts(\n",
    "    dag_df, quantization=\"nearest_share\"\n",
    ")"
   ]
  },
  {
   "cell_type": "code",
   "execution_count": 20,
   "id": "135f6574",
   "metadata": {
    "ExecuteTime": {
     "end_time": "2022-11-14T18:44:55.621139Z",
     "start_time": "2022-11-14T18:44:55.467415Z"
    }
   },
   "outputs": [
    {
     "data": {
      "text/html": [
       "<div>\n",
       "<style scoped>\n",
       "    .dataframe tbody tr th:only-of-type {\n",
       "        vertical-align: middle;\n",
       "    }\n",
       "\n",
       "    .dataframe tbody tr th {\n",
       "        vertical-align: top;\n",
       "    }\n",
       "\n",
       "    .dataframe thead tr th {\n",
       "        text-align: left;\n",
       "    }\n",
       "</style>\n",
       "<table border=\"1\" class=\"dataframe\">\n",
       "  <thead>\n",
       "    <tr>\n",
       "      <th></th>\n",
       "      <th colspan=\"2\" halign=\"left\">price</th>\n",
       "      <th colspan=\"2\" halign=\"left\">volatility</th>\n",
       "      <th colspan=\"2\" halign=\"left\">prediction</th>\n",
       "      <th colspan=\"2\" halign=\"left\">holdings_shares</th>\n",
       "      <th colspan=\"2\" halign=\"left\">holdings_notional</th>\n",
       "      <th colspan=\"2\" halign=\"left\">executed_trades_shares</th>\n",
       "      <th colspan=\"2\" halign=\"left\">executed_trades_notional</th>\n",
       "      <th colspan=\"2\" halign=\"left\">pnl</th>\n",
       "    </tr>\n",
       "    <tr>\n",
       "      <th></th>\n",
       "      <th>100</th>\n",
       "      <th>200</th>\n",
       "      <th>100</th>\n",
       "      <th>200</th>\n",
       "      <th>100</th>\n",
       "      <th>200</th>\n",
       "      <th>100</th>\n",
       "      <th>200</th>\n",
       "      <th>100</th>\n",
       "      <th>200</th>\n",
       "      <th>100</th>\n",
       "      <th>200</th>\n",
       "      <th>100</th>\n",
       "      <th>200</th>\n",
       "      <th>100</th>\n",
       "      <th>200</th>\n",
       "    </tr>\n",
       "  </thead>\n",
       "  <tbody>\n",
       "    <tr>\n",
       "      <th>2022-01-03 09:35:00-05:00</th>\n",
       "      <td>100.00</td>\n",
       "      <td>100.3</td>\n",
       "      <td>0.00110</td>\n",
       "      <td>0.00048</td>\n",
       "      <td>-0.25</td>\n",
       "      <td>-0.340</td>\n",
       "      <td>0.0</td>\n",
       "      <td>0.0</td>\n",
       "      <td>0.0</td>\n",
       "      <td>0.0</td>\n",
       "      <td>0.0</td>\n",
       "      <td>0.0</td>\n",
       "      <td>0.0</td>\n",
       "      <td>0.0</td>\n",
       "      <td>0.0</td>\n",
       "      <td>0.0</td>\n",
       "    </tr>\n",
       "    <tr>\n",
       "      <th>2022-01-03 09:40:00-05:00</th>\n",
       "      <td>100.10</td>\n",
       "      <td>100.5</td>\n",
       "      <td>0.00091</td>\n",
       "      <td>0.00046</td>\n",
       "      <td>0.13</td>\n",
       "      <td>0.500</td>\n",
       "      <td>-12.0</td>\n",
       "      <td>-18.0</td>\n",
       "      <td>-1201.2</td>\n",
       "      <td>-1809.0</td>\n",
       "      <td>-12.0</td>\n",
       "      <td>-18.0</td>\n",
       "      <td>-1201.2</td>\n",
       "      <td>-1809.0</td>\n",
       "      <td>0.0</td>\n",
       "      <td>0.0</td>\n",
       "    </tr>\n",
       "    <tr>\n",
       "      <th>2022-01-03 09:45:00-05:00</th>\n",
       "      <td>100.05</td>\n",
       "      <td>100.4</td>\n",
       "      <td>0.00086</td>\n",
       "      <td>0.00060</td>\n",
       "      <td>0.84</td>\n",
       "      <td>-0.970</td>\n",
       "      <td>12.0</td>\n",
       "      <td>18.0</td>\n",
       "      <td>1200.6</td>\n",
       "      <td>1807.2</td>\n",
       "      <td>24.0</td>\n",
       "      <td>36.0</td>\n",
       "      <td>2401.2</td>\n",
       "      <td>3614.4</td>\n",
       "      <td>0.6</td>\n",
       "      <td>1.8</td>\n",
       "    </tr>\n",
       "    <tr>\n",
       "      <th>2022-01-03 09:50:00-05:00</th>\n",
       "      <td>100.20</td>\n",
       "      <td>100.5</td>\n",
       "      <td>0.00071</td>\n",
       "      <td>0.00068</td>\n",
       "      <td>0.86</td>\n",
       "      <td>-0.113</td>\n",
       "      <td>0.0</td>\n",
       "      <td>0.0</td>\n",
       "      <td>0.0</td>\n",
       "      <td>0.0</td>\n",
       "      <td>-12.0</td>\n",
       "      <td>-18.0</td>\n",
       "      <td>-1202.4</td>\n",
       "      <td>-1809.0</td>\n",
       "      <td>1.8</td>\n",
       "      <td>1.8</td>\n",
       "    </tr>\n",
       "  </tbody>\n",
       "</table>\n",
       "</div>"
      ],
      "text/plain": [
       "                            price        volatility          prediction  \\\n",
       "                              100    200        100      200        100   \n",
       "2022-01-03 09:35:00-05:00  100.00  100.3    0.00110  0.00048      -0.25   \n",
       "2022-01-03 09:40:00-05:00  100.10  100.5    0.00091  0.00046       0.13   \n",
       "2022-01-03 09:45:00-05:00  100.05  100.4    0.00086  0.00060       0.84   \n",
       "2022-01-03 09:50:00-05:00  100.20  100.5    0.00071  0.00068       0.86   \n",
       "\n",
       "                                 holdings_shares       holdings_notional  \\\n",
       "                             200             100   200               100   \n",
       "2022-01-03 09:35:00-05:00 -0.340             0.0   0.0               0.0   \n",
       "2022-01-03 09:40:00-05:00  0.500           -12.0 -18.0           -1201.2   \n",
       "2022-01-03 09:45:00-05:00 -0.970            12.0  18.0            1200.6   \n",
       "2022-01-03 09:50:00-05:00 -0.113             0.0   0.0               0.0   \n",
       "\n",
       "                                  executed_trades_shares        \\\n",
       "                              200                    100   200   \n",
       "2022-01-03 09:35:00-05:00     0.0                    0.0   0.0   \n",
       "2022-01-03 09:40:00-05:00 -1809.0                  -12.0 -18.0   \n",
       "2022-01-03 09:45:00-05:00  1807.2                   24.0  36.0   \n",
       "2022-01-03 09:50:00-05:00     0.0                  -12.0 -18.0   \n",
       "\n",
       "                          executed_trades_notional          pnl       \n",
       "                                               100     200  100  200  \n",
       "2022-01-03 09:35:00-05:00                      0.0     0.0  0.0  0.0  \n",
       "2022-01-03 09:40:00-05:00                  -1201.2 -1809.0  0.0  0.0  \n",
       "2022-01-03 09:45:00-05:00                   2401.2  3614.4  0.6  1.8  \n",
       "2022-01-03 09:50:00-05:00                  -1202.4 -1809.0  1.8  1.8  "
      ]
     },
     "execution_count": 20,
     "metadata": {},
     "output_type": "execute_result"
    }
   ],
   "source": [
    "portfolio_df"
   ]
  },
  {
   "cell_type": "code",
   "execution_count": 21,
   "id": "aef3b62f",
   "metadata": {
    "ExecuteTime": {
     "end_time": "2022-11-14T18:44:55.737873Z",
     "start_time": "2022-11-14T18:44:55.626578Z"
    }
   },
   "outputs": [
    {
     "data": {
      "text/html": [
       "<div>\n",
       "<style scoped>\n",
       "    .dataframe tbody tr th:only-of-type {\n",
       "        vertical-align: middle;\n",
       "    }\n",
       "\n",
       "    .dataframe tbody tr th {\n",
       "        vertical-align: top;\n",
       "    }\n",
       "\n",
       "    .dataframe thead th {\n",
       "        text-align: right;\n",
       "    }\n",
       "</style>\n",
       "<table border=\"1\" class=\"dataframe\">\n",
       "  <thead>\n",
       "    <tr style=\"text-align: right;\">\n",
       "      <th></th>\n",
       "      <th>pnl</th>\n",
       "      <th>gross_volume</th>\n",
       "      <th>net_volume</th>\n",
       "      <th>gmv</th>\n",
       "      <th>nmv</th>\n",
       "    </tr>\n",
       "  </thead>\n",
       "  <tbody>\n",
       "    <tr>\n",
       "      <th>2022-01-03 09:35:00-05:00</th>\n",
       "      <td>0.0</td>\n",
       "      <td>0.0</td>\n",
       "      <td>0.0</td>\n",
       "      <td>0.0</td>\n",
       "      <td>0.0</td>\n",
       "    </tr>\n",
       "    <tr>\n",
       "      <th>2022-01-03 09:40:00-05:00</th>\n",
       "      <td>0.0</td>\n",
       "      <td>3010.2</td>\n",
       "      <td>-3010.2</td>\n",
       "      <td>3010.2</td>\n",
       "      <td>-3010.2</td>\n",
       "    </tr>\n",
       "    <tr>\n",
       "      <th>2022-01-03 09:45:00-05:00</th>\n",
       "      <td>2.4</td>\n",
       "      <td>6015.6</td>\n",
       "      <td>6015.6</td>\n",
       "      <td>3007.8</td>\n",
       "      <td>3007.8</td>\n",
       "    </tr>\n",
       "    <tr>\n",
       "      <th>2022-01-03 09:50:00-05:00</th>\n",
       "      <td>3.6</td>\n",
       "      <td>3011.4</td>\n",
       "      <td>-3011.4</td>\n",
       "      <td>0.0</td>\n",
       "      <td>0.0</td>\n",
       "    </tr>\n",
       "  </tbody>\n",
       "</table>\n",
       "</div>"
      ],
      "text/plain": [
       "                           pnl  gross_volume  net_volume     gmv     nmv\n",
       "2022-01-03 09:35:00-05:00  0.0           0.0         0.0     0.0     0.0\n",
       "2022-01-03 09:40:00-05:00  0.0        3010.2     -3010.2  3010.2 -3010.2\n",
       "2022-01-03 09:45:00-05:00  2.4        6015.6      6015.6  3007.8  3007.8\n",
       "2022-01-03 09:50:00-05:00  3.6        3011.4     -3011.4     0.0     0.0"
      ]
     },
     "execution_count": 21,
     "metadata": {},
     "output_type": "execute_result"
    }
   ],
   "source": [
    "portfolio_stats_df"
   ]
  },
  {
   "cell_type": "code",
   "execution_count": 22,
   "id": "63fdcd2a",
   "metadata": {
    "ExecuteTime": {
     "end_time": "2022-11-14T18:44:56.493523Z",
     "start_time": "2022-11-14T18:44:55.744409Z"
    }
   },
   "outputs": [
    {
     "data": {
      "application/vnd.jupyter.widget-view+json": {
       "model_id": "3fdb90d544044c7c97b40d804bf490f1",
       "version_major": 2,
       "version_minor": 0
      },
      "text/plain": [
       "  0%|          | 0/4 [00:00<?, ?it/s]"
      ]
     },
     "metadata": {},
     "output_type": "display_data"
    },
    {
     "name": "stdout",
     "output_type": "stream",
     "text": [
      "INFO  timestamp=2022-01-03 09:35:00-05:00, next_timestamp=2022-01-03 09:40:00-05:00\n",
      "INFO  `optimal_value`=0.61\n",
      "INFO  timestamp=2022-01-03 09:40:00-05:00, next_timestamp=2022-01-03 09:45:00-05:00\n",
      "INFO  `optimal_value`=0.70\n",
      "INFO  timestamp=2022-01-03 09:45:00-05:00, next_timestamp=2022-01-03 09:50:00-05:00\n",
      "INFO  timestamp=2022-01-03 09:50:00-05:00, next_timestamp=None\n",
      "INFO  `optimal_value`=1.12\n"
     ]
    }
   ],
   "source": [
    "dfs = fewo.compute_portfolio(dag_df, quantization=\"nearest_share\")"
   ]
  }
 ],
 "metadata": {
  "kernelspec": {
   "display_name": "Python 3 (ipykernel)",
   "language": "python",
   "name": "python3"
  },
  "language_info": {
   "codemirror_mode": {
    "name": "ipython",
    "version": 3
   },
   "file_extension": ".py",
   "mimetype": "text/x-python",
   "name": "python",
   "nbconvert_exporter": "python",
   "pygments_lexer": "ipython3",
   "version": "3.9.5"
  },
  "toc": {
   "base_numbering": 1,
   "nav_menu": {},
   "number_sections": true,
   "sideBar": true,
   "skip_h1_title": false,
   "title_cell": "Table of Contents",
   "title_sidebar": "Contents",
   "toc_cell": false,
   "toc_position": {},
   "toc_section_display": true,
   "toc_window_display": false
  }
 },
 "nbformat": 4,
 "nbformat_minor": 5
}
