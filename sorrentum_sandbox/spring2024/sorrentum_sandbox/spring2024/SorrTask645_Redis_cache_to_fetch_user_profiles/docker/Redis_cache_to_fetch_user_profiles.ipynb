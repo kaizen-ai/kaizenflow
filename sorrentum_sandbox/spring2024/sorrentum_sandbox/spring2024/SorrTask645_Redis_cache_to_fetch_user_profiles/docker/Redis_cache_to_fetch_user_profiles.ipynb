{
 "cells": [
  {
   "cell_type": "code",
   "execution_count": 1,
   "id": "d7480711-cfa1-4a7c-b940-ee21a7705981",
   "metadata": {},
   "outputs": [],
   "source": [
    "import json\n",
    "import redis\n",
    "import os"
   ]
  },
  {
   "cell_type": "markdown",
   "id": "fa32ee84-05a9-4712-9713-a8916372edd5",
   "metadata": {},
   "source": [
    "# Set up Redis connection\n"
   ]
  },
  {
   "cell_type": "code",
   "execution_count": 2,
   "id": "351410eb-bd3d-4c43-84e1-a3eb6be3dab8",
   "metadata": {},
   "outputs": [],
   "source": [
    "# Use the host machine's IP address passed as an environment variable\n",
    "redis_host = os.environ.get('REDIS_HOST', 'localhost')\n",
    "redis_port = 6379\n",
    "redis_db = 0\n",
    "redis_client = redis.StrictRedis(host=redis_host, port=redis_port, db=redis_db)"
   ]
  },
  {
   "cell_type": "markdown",
   "id": "b9c53245-4410-4fee-8591-72ded1c63427",
   "metadata": {},
   "source": [
    "# Mock database (static JSON file)"
   ]
  },
  {
   "cell_type": "code",
   "execution_count": 3,
   "id": "fed76225-76cb-4d69-910e-9f9374d4c2f6",
   "metadata": {},
   "outputs": [],
   "source": [
    "mock_database_file = {\n",
    "  \"123\": {\n",
    "    \"user_id\": \"123\",\n",
    "    \"name\": \"Shaunak Dhande\",\n",
    "    \"email\": \"shaunakdhande4000@gmail.com\",\n",
    "    \"age\": 22\n",
    "  },\n",
    "  \"456\": {\n",
    "    \"user_id\": \"456\",\n",
    "    \"name\": \"Jane Smith\",\n",
    "    \"email\": \"jane.smith@example.com\",\n",
    "    \"age\": 25\n",
    "  },\n",
    "  \"789\": {\n",
    "    \"user_id\": \"789\",\n",
    "    \"name\": \"Bob Johnson\",\n",
    "    \"email\": \"bob.johnson@example.com\",\n",
    "    \"age\": 35\n",
    "  }\n",
    "}\n"
   ]
  },
  {
   "cell_type": "markdown",
   "id": "07fcbc71-83f6-4c00-a74c-56929adb54e1",
   "metadata": {},
   "source": [
    "# Function to fetch user profile from the mock database\n"
   ]
  },
  {
   "cell_type": "code",
   "execution_count": 4,
   "id": "09de9664-8b57-45e1-ba16-ebc3b6e4c8bc",
   "metadata": {},
   "outputs": [],
   "source": [
    "def fetch_user_profile(user_id):\n",
    "    return mock_database_file.get(user_id, None)"
   ]
  },
  {
   "cell_type": "markdown",
   "id": "249f1420-ac70-407e-8f8d-bd5b09c8c6f2",
   "metadata": {},
   "source": [
    "# Function to get user profile with caching\n"
   ]
  },
  {
   "cell_type": "code",
   "execution_count": 5,
   "id": "a6446206-282c-4641-b524-fbc583108b66",
   "metadata": {},
   "outputs": [],
   "source": [
    "    def get_user_profile(user_id):\n",
    "        # Check if the profile is in the Redis cache\n",
    "        cached_profile = redis_client.get(user_id)\n",
    "    \n",
    "        if cached_profile:\n",
    "            print(f\"User profile for {user_id} found in Redis cache.\")\n",
    "            return json.loads(cached_profile.decode('utf-8'))\n",
    "        else:\n",
    "            # Fetch the profile from the mock database\n",
    "            profile = fetch_user_profile(user_id)\n",
    "    \n",
    "            if profile:\n",
    "                # Store the profile in Redis cache for future requests\n",
    "                redis_client.set(user_id, json.dumps(profile))\n",
    "                print(f\"User profile for {user_id} not found in cache. Fetched from the database and stored in Redis.\")\n",
    "                return profile\n",
    "            else:\n",
    "                print(f\"User profile for {user_id} not found.\")\n",
    "                return None\n"
   ]
  },
  {
   "cell_type": "markdown",
   "id": "cf7d1024-7cbf-4e81-a860-a6dfd6f13551",
   "metadata": {},
   "source": [
    "# Example usage"
   ]
  },
  {
   "cell_type": "code",
   "execution_count": 6,
   "id": "daf76c0d-267b-4b94-8760-f1feb226048f",
   "metadata": {},
   "outputs": [
    {
     "name": "stdout",
     "output_type": "stream",
     "text": [
      "User profile for 456 not found in cache. Fetched from the database and stored in Redis.\n"
     ]
    }
   ],
   "source": [
    "user_id_to_fetch = '456'\n",
    "user_profile = get_user_profile(user_id_to_fetch)\n",
    "\n"
   ]
  },
  {
   "cell_type": "markdown",
   "id": "0a40786c-ee79-457b-9b8f-637e026ec452",
   "metadata": {},
   "source": [
    "# Print the fetched user profile"
   ]
  },
  {
   "cell_type": "code",
   "execution_count": 7,
   "id": "beda6795-adef-44f3-a8f3-e47bcab87a39",
   "metadata": {},
   "outputs": [
    {
     "name": "stdout",
     "output_type": "stream",
     "text": [
      "Fetched user profile: {'user_id': '456', 'name': 'Jane Smith', 'email': 'jane.smith@example.com', 'age': 25}\n"
     ]
    }
   ],
   "source": [
    "if user_profile:\n",
    "    print(f\"Fetched user profile: {user_profile}\")"
   ]
  },
  {
   "cell_type": "code",
   "execution_count": null,
   "id": "247dae36-18d9-440b-9fbb-ee8b6f82c9be",
   "metadata": {},
   "outputs": [],
   "source": []
  }
 ],
 "metadata": {
  "kernelspec": {
   "display_name": "Python 3 (ipykernel)",
   "language": "python",
   "name": "python3"
  },
  "language_info": {
   "codemirror_mode": {
    "name": "ipython",
    "version": 3
   },
   "file_extension": ".py",
   "mimetype": "text/x-python",
   "name": "python",
   "nbconvert_exporter": "python",
   "pygments_lexer": "ipython3",
   "version": "3.8.18"
  }
 },
 "nbformat": 4,
 "nbformat_minor": 5
}
