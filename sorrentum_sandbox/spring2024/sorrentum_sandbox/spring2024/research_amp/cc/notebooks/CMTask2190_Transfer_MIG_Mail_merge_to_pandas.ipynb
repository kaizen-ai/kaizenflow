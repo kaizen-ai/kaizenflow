{
 "cells": [
  {
   "cell_type": "markdown",
   "id": "cc4a6518",
   "metadata": {},
   "source": [
    "# Imports"
   ]
  },
  {
   "cell_type": "code",
   "execution_count": 1,
   "id": "30860353",
   "metadata": {
    "ExecuteTime": {
     "end_time": "2022-06-23T18:11:38.921531Z",
     "start_time": "2022-06-23T18:11:38.231238Z"
    }
   },
   "outputs": [],
   "source": [
    "import re\n",
    "\n",
    "import gspread as gs\n",
    "import pandas as pd"
   ]
  },
  {
   "cell_type": "code",
   "execution_count": 2,
   "id": "deca10a8",
   "metadata": {
    "ExecuteTime": {
     "end_time": "2022-06-23T18:11:38.926904Z",
     "start_time": "2022-06-23T18:11:38.923773Z"
    },
    "scrolled": true
   },
   "outputs": [],
   "source": [
    "# !sudo /bin/bash -c \"(source /venv/bin/activate; pip install gspread)\""
   ]
  },
  {
   "cell_type": "markdown",
   "id": "fe77eda7",
   "metadata": {},
   "source": [
    "# Configs"
   ]
  },
  {
   "cell_type": "code",
   "execution_count": 3,
   "id": "dd99ba1d",
   "metadata": {
    "ExecuteTime": {
     "end_time": "2022-06-23T18:11:38.938125Z",
     "start_time": "2022-06-23T18:11:38.929930Z"
    }
   },
   "outputs": [],
   "source": [
    "json_key = \"steady-computer-354216-eb3e67b30a7b.json\"\n",
    "gc = gs.service_account(filename=json_key)"
   ]
  },
  {
   "cell_type": "markdown",
   "id": "12f48ff3",
   "metadata": {
    "ExecuteTime": {
     "end_time": "2022-06-23T17:05:38.120350Z",
     "start_time": "2022-06-23T17:05:37.962971Z"
    }
   },
   "source": [
    "# Load the data"
   ]
  },
  {
   "cell_type": "markdown",
   "id": "1b453a3a",
   "metadata": {},
   "source": [
    "## MIG"
   ]
  },
  {
   "cell_type": "code",
   "execution_count": 4,
   "id": "f18ffacd",
   "metadata": {
    "ExecuteTime": {
     "end_time": "2022-06-23T18:11:39.401324Z",
     "start_time": "2022-06-23T18:11:38.940073Z"
    }
   },
   "outputs": [],
   "source": [
    "# Configuration for MIG.\n",
    "mig_link = \"https://docs.google.com/spreadsheets/d/1gxOVAtjk_oEz7WsNVfdST67SupISZ2U-ePUzuep5IEo/edit#gid=0\"\n",
    "mig_env = gc.open_by_url(mig_link)"
   ]
  },
  {
   "cell_type": "code",
   "execution_count": 5,
   "id": "b1af841c",
   "metadata": {
    "ExecuteTime": {
     "end_time": "2022-06-23T18:11:40.123328Z",
     "start_time": "2022-06-23T18:11:39.403657Z"
    },
    "run_control": {
     "marked": false
    }
   },
   "outputs": [
    {
     "data": {
      "text/html": [
       "<div>\n",
       "<style scoped>\n",
       "    .dataframe tbody tr th:only-of-type {\n",
       "        vertical-align: middle;\n",
       "    }\n",
       "\n",
       "    .dataframe tbody tr th {\n",
       "        vertical-align: top;\n",
       "    }\n",
       "\n",
       "    .dataframe thead th {\n",
       "        text-align: right;\n",
       "    }\n",
       "</style>\n",
       "<table border=\"1\" class=\"dataframe\">\n",
       "  <thead>\n",
       "    <tr style=\"text-align: right;\">\n",
       "      <th></th>\n",
       "      <th>Name</th>\n",
       "      <th>Priority</th>\n",
       "      <th>Status</th>\n",
       "      <th>Website</th>\n",
       "      <th>Crypto-specific</th>\n",
       "      <th>Link to submission page</th>\n",
       "      <th>Submit by email</th>\n",
       "      <th>Submit by form</th>\n",
       "      <th>LinkedIn URL</th>\n",
       "      <th>LinkedIn Person 1</th>\n",
       "      <th>LinkedIn Person 2</th>\n",
       "      <th>LinkedIn Person 3</th>\n",
       "      <th>Invested in</th>\n",
       "      <th>Comments</th>\n",
       "      <th>When added</th>\n",
       "      <th>Source</th>\n",
       "    </tr>\n",
       "  </thead>\n",
       "  <tbody>\n",
       "    <tr>\n",
       "      <th>0</th>\n",
       "      <td>a16z crypto</td>\n",
       "      <td>1</td>\n",
       "      <td></td>\n",
       "      <td>https://a16z.com/\\nhttps://a16zcrypto.com/</td>\n",
       "      <td></td>\n",
       "      <td>https://a16z.com/about/contact/</td>\n",
       "      <td>not available</td>\n",
       "      <td></td>\n",
       "      <td>https://www.linkedin.com/company/andreessen-ho...</td>\n",
       "      <td>https://www.linkedin.com/in/anthony-albanese-9...</td>\n",
       "      <td>https://www.linkedin.com/in/janelippencott/</td>\n",
       "      <td>https://www.linkedin.com/in/mkhsu/</td>\n",
       "      <td>Talos</td>\n",
       "      <td></td>\n",
       "      <td>2022-05-04</td>\n",
       "      <td>Look at investors that co-invested with Coinba...</td>\n",
       "    </tr>\n",
       "    <tr>\n",
       "      <th>1</th>\n",
       "      <td>a16z fintech</td>\n",
       "      <td></td>\n",
       "      <td></td>\n",
       "      <td></td>\n",
       "      <td></td>\n",
       "      <td></td>\n",
       "      <td>not available</td>\n",
       "      <td></td>\n",
       "      <td></td>\n",
       "      <td></td>\n",
       "      <td></td>\n",
       "      <td></td>\n",
       "      <td></td>\n",
       "      <td></td>\n",
       "      <td></td>\n",
       "      <td></td>\n",
       "    </tr>\n",
       "    <tr>\n",
       "      <th>2</th>\n",
       "      <td>Avon Ventures</td>\n",
       "      <td>1</td>\n",
       "      <td></td>\n",
       "      <td></td>\n",
       "      <td></td>\n",
       "      <td></td>\n",
       "      <td>not available</td>\n",
       "      <td></td>\n",
       "      <td></td>\n",
       "      <td>https://www.linkedin.com/in/balaji-varadhan/</td>\n",
       "      <td></td>\n",
       "      <td></td>\n",
       "      <td>BlockFi</td>\n",
       "      <td>affiliated with FMR LLC, the parent company of...</td>\n",
       "      <td>2022-05-04</td>\n",
       "      <td>Look at investors that co-invested with Coinba...</td>\n",
       "    </tr>\n",
       "  </tbody>\n",
       "</table>\n",
       "</div>"
      ],
      "text/plain": [
       "            Name Priority Status                                     Website  \\\n",
       "0    a16z crypto        1         https://a16z.com/\\nhttps://a16zcrypto.com/   \n",
       "1   a16z fintech                                                               \n",
       "2  Avon Ventures        1                                                      \n",
       "\n",
       "  Crypto-specific          Link to submission page Submit by email  \\\n",
       "0                  https://a16z.com/about/contact/   not available   \n",
       "1                                                    not available   \n",
       "2                                                    not available   \n",
       "\n",
       "  Submit by form                                       LinkedIn URL  \\\n",
       "0                 https://www.linkedin.com/company/andreessen-ho...   \n",
       "1                                                                     \n",
       "2                                                                     \n",
       "\n",
       "                                   LinkedIn Person 1  \\\n",
       "0  https://www.linkedin.com/in/anthony-albanese-9...   \n",
       "1                                                      \n",
       "2       https://www.linkedin.com/in/balaji-varadhan/   \n",
       "\n",
       "                             LinkedIn Person 2  \\\n",
       "0  https://www.linkedin.com/in/janelippencott/   \n",
       "1                                                \n",
       "2                                                \n",
       "\n",
       "                    LinkedIn Person 3 Invested in  \\\n",
       "0  https://www.linkedin.com/in/mkhsu/       Talos   \n",
       "1                                                   \n",
       "2                                         BlockFi   \n",
       "\n",
       "                                            Comments  When added  \\\n",
       "0                                                     2022-05-04   \n",
       "1                                                                  \n",
       "2  affiliated with FMR LLC, the parent company of...  2022-05-04   \n",
       "\n",
       "                                              Source  \n",
       "0  Look at investors that co-invested with Coinba...  \n",
       "1                                                     \n",
       "2  Look at investors that co-invested with Coinba...  "
      ]
     },
     "execution_count": 5,
     "metadata": {},
     "output_type": "execute_result"
    }
   ],
   "source": [
    "# Read MIG from gsheet.\n",
    "mig_ws = mig_env.worksheet(\"Firms\")\n",
    "mig = pd.DataFrame(mig_ws.get_all_records())\n",
    "# Unify the absense of e-mails.\n",
    "mig[\"Submit by email\"] = mig[\"Submit by email\"].replace({\"\": \"not available\"})\n",
    "mig.head(3)"
   ]
  },
  {
   "cell_type": "markdown",
   "id": "197069bf",
   "metadata": {},
   "source": [
    "## Mail_merge"
   ]
  },
  {
   "cell_type": "code",
   "execution_count": 6,
   "id": "e580758a",
   "metadata": {
    "ExecuteTime": {
     "end_time": "2022-06-23T18:11:40.559325Z",
     "start_time": "2022-06-23T18:11:40.126735Z"
    }
   },
   "outputs": [
    {
     "data": {
      "text/plain": [
       "[<Worksheet '2022-06-22' id:1169365049>,\n",
       " <Worksheet '06-21-bis-VC@General' id:348677750>,\n",
       " <Worksheet '06-21-VC@Consensus' id:1499066966>,\n",
       " <Worksheet '06-20-VC@Consensus' id:1684806412>,\n",
       " <Worksheet 'Лист19' id:2051560781>,\n",
       " <Worksheet '06-20-Inv@Consensus' id:1879161339>,\n",
       " <Worksheet '06-18-Inv@Consensus' id:994429349>]"
      ]
     },
     "execution_count": 6,
     "metadata": {},
     "output_type": "execute_result"
    }
   ],
   "source": [
    "# Configuration for `Mail_merge`.\n",
    "mm_link = \"https://docs.google.com/spreadsheets/d/11AXt9Yzwmk1is_wprFDuE3vbS67gpwOO8gRfB4teC34/edit#gid=348677750\"\n",
    "mm_env = gc.open_by_url(mm_link)\n",
    "worksheet_list = mm_env.worksheets()\n",
    "worksheet_list"
   ]
  },
  {
   "cell_type": "code",
   "execution_count": 7,
   "id": "ff752dab",
   "metadata": {
    "ExecuteTime": {
     "end_time": "2022-06-23T18:11:43.443513Z",
     "start_time": "2022-06-23T18:11:40.561362Z"
    }
   },
   "outputs": [
    {
     "data": {
      "text/html": [
       "<div>\n",
       "<style scoped>\n",
       "    .dataframe tbody tr th:only-of-type {\n",
       "        vertical-align: middle;\n",
       "    }\n",
       "\n",
       "    .dataframe tbody tr th {\n",
       "        vertical-align: top;\n",
       "    }\n",
       "\n",
       "    .dataframe thead th {\n",
       "        text-align: right;\n",
       "    }\n",
       "</style>\n",
       "<table border=\"1\" class=\"dataframe\">\n",
       "  <thead>\n",
       "    <tr style=\"text-align: right;\">\n",
       "      <th></th>\n",
       "      <th>Email</th>\n",
       "      <th>Name</th>\n",
       "      <th>Company</th>\n",
       "      <th>Consensus</th>\n",
       "    </tr>\n",
       "  </thead>\n",
       "  <tbody>\n",
       "    <tr>\n",
       "      <th>8</th>\n",
       "      <td>jason.wu@definer.org</td>\n",
       "      <td>Jason</td>\n",
       "      <td>GmailMerge</td>\n",
       "      <td>Read</td>\n",
       "    </tr>\n",
       "    <tr>\n",
       "      <th>9</th>\n",
       "      <td>katrinawhq@gmail.com</td>\n",
       "      <td>Katrina</td>\n",
       "      <td>GmailMerge</td>\n",
       "      <td>Read</td>\n",
       "    </tr>\n",
       "    <tr>\n",
       "      <th>10</th>\n",
       "      <td>richard@iterativeventure.com</td>\n",
       "      <td>Richard</td>\n",
       "      <td>GmailMerge</td>\n",
       "      <td>Read</td>\n",
       "    </tr>\n",
       "  </tbody>\n",
       "</table>\n",
       "</div>"
      ],
      "text/plain": [
       "                           Email     Name     Company Consensus\n",
       "8           jason.wu@definer.org    Jason  GmailMerge      Read\n",
       "9           katrinawhq@gmail.com  Katrina  GmailMerge      Read\n",
       "10  richard@iterativeventure.com  Richard  GmailMerge      Read"
      ]
     },
     "execution_count": 7,
     "metadata": {},
     "output_type": "execute_result"
    }
   ],
   "source": [
    "mail_merge = []\n",
    "for i in range(len(worksheet_list)):\n",
    "    df_tmp = pd.DataFrame(mm_env.get_worksheet(i).get_all_records()).iloc[:, :4]\n",
    "    df_tmp.columns = [\"Email\", \"Name\", \"Company\", \"Consensus\"]\n",
    "    mail_merge.append(df_tmp)\n",
    "mail_merge = pd.concat(mail_merge)\n",
    "mail_merge.tail(3)"
   ]
  },
  {
   "cell_type": "markdown",
   "id": "9ea96ead",
   "metadata": {},
   "source": [
    "# Select the contacts that haven't been reached yet"
   ]
  },
  {
   "cell_type": "markdown",
   "id": "e10c0760",
   "metadata": {},
   "source": [
    "## Drop the contacts that are already in the pipeline"
   ]
  },
  {
   "cell_type": "code",
   "execution_count": 8,
   "id": "530546c7",
   "metadata": {
    "ExecuteTime": {
     "end_time": "2022-06-23T18:11:43.454413Z",
     "start_time": "2022-06-23T18:11:43.445691Z"
    }
   },
   "outputs": [
    {
     "data": {
      "text/plain": [
       "(451, 2)"
      ]
     },
     "execution_count": 8,
     "metadata": {},
     "output_type": "execute_result"
    }
   ],
   "source": [
    "# Convert MIG to the e-mail reach format.\n",
    "mig_emails = mig[mig[\"Submit by email\"] != \"not available\"][\n",
    "    [\"Submit by email\", \"Name\"]\n",
    "]\n",
    "mig_emails.shape"
   ]
  },
  {
   "cell_type": "code",
   "execution_count": 9,
   "id": "979c4509",
   "metadata": {
    "ExecuteTime": {
     "end_time": "2022-06-23T18:11:43.491010Z",
     "start_time": "2022-06-23T18:11:43.458302Z"
    }
   },
   "outputs": [
    {
     "data": {
      "text/html": [
       "<div>\n",
       "<style scoped>\n",
       "    .dataframe tbody tr th:only-of-type {\n",
       "        vertical-align: middle;\n",
       "    }\n",
       "\n",
       "    .dataframe tbody tr th {\n",
       "        vertical-align: top;\n",
       "    }\n",
       "\n",
       "    .dataframe thead th {\n",
       "        text-align: right;\n",
       "    }\n",
       "</style>\n",
       "<table border=\"1\" class=\"dataframe\">\n",
       "  <thead>\n",
       "    <tr style=\"text-align: right;\">\n",
       "      <th></th>\n",
       "      <th>Submit by email</th>\n",
       "      <th>Name</th>\n",
       "    </tr>\n",
       "  </thead>\n",
       "  <tbody>\n",
       "    <tr>\n",
       "      <th>172</th>\n",
       "      <td>info@vetamercap.com</td>\n",
       "      <td>Vetamer Capital Management</td>\n",
       "    </tr>\n",
       "    <tr>\n",
       "      <th>197</th>\n",
       "      <td>https://andromedavc.io/#!/contact</td>\n",
       "      <td>Andromeda Capital</td>\n",
       "    </tr>\n",
       "    <tr>\n",
       "      <th>226</th>\n",
       "      <td>hello@icodrops.com</td>\n",
       "      <td>Drop Ventures</td>\n",
       "    </tr>\n",
       "    <tr>\n",
       "      <th>235</th>\n",
       "      <td>frank@fermioncapitalcorp.com</td>\n",
       "      <td>Fermion</td>\n",
       "    </tr>\n",
       "    <tr>\n",
       "      <th>236</th>\n",
       "      <td>adri@fermioncapitalcorp.com</td>\n",
       "      <td>Fermion</td>\n",
       "    </tr>\n",
       "    <tr>\n",
       "      <th>...</th>\n",
       "      <td>...</td>\n",
       "      <td>...</td>\n",
       "    </tr>\n",
       "    <tr>\n",
       "      <th>699</th>\n",
       "      <td>press@trueventures.com</td>\n",
       "      <td>True Ventures</td>\n",
       "    </tr>\n",
       "    <tr>\n",
       "      <th>718</th>\n",
       "      <td>ir@visa.com</td>\n",
       "      <td>Visa</td>\n",
       "    </tr>\n",
       "    <tr>\n",
       "      <th>729</th>\n",
       "      <td>hello@tallycapital.com</td>\n",
       "      <td>Tally capital</td>\n",
       "    </tr>\n",
       "    <tr>\n",
       "      <th>730</th>\n",
       "      <td>qwang@puzzle.venture</td>\n",
       "      <td>Puzzle ventures</td>\n",
       "    </tr>\n",
       "    <tr>\n",
       "      <th>731</th>\n",
       "      <td>ideas@tev.de</td>\n",
       "      <td>Tev ventures</td>\n",
       "    </tr>\n",
       "  </tbody>\n",
       "</table>\n",
       "<p>71 rows × 2 columns</p>\n",
       "</div>"
      ],
      "text/plain": [
       "                       Submit by email                        Name\n",
       "172                info@vetamercap.com  Vetamer Capital Management\n",
       "197  https://andromedavc.io/#!/contact           Andromeda Capital\n",
       "226                 hello@icodrops.com               Drop Ventures\n",
       "235       frank@fermioncapitalcorp.com                     Fermion\n",
       "236        adri@fermioncapitalcorp.com                     Fermion\n",
       "..                                 ...                         ...\n",
       "699             press@trueventures.com               True Ventures\n",
       "718                        ir@visa.com                        Visa\n",
       "729             hello@tallycapital.com               Tally capital\n",
       "730               qwang@puzzle.venture            Puzzle ventures \n",
       "731                       ideas@tev.de               Tev ventures \n",
       "\n",
       "[71 rows x 2 columns]"
      ]
     },
     "metadata": {},
     "output_type": "display_data"
    }
   ],
   "source": [
    "# Extract e-mails that were previously used in campaign.\n",
    "mail_merge_emails = list(mail_merge[\"Email\"])\n",
    "# Filter by those names for new unique e-mails.\n",
    "new_iteration = mig_emails[~mig_emails[\"Submit by email\"].isin(mail_merge_emails)]\n",
    "display(new_iteration)"
   ]
  },
  {
   "cell_type": "markdown",
   "id": "c1e97cb3",
   "metadata": {},
   "source": [
    "## Sanity check"
   ]
  },
  {
   "cell_type": "code",
   "execution_count": 10,
   "id": "d2cc6ab7",
   "metadata": {
    "ExecuteTime": {
     "end_time": "2022-06-23T18:11:43.499581Z",
     "start_time": "2022-06-23T18:11:43.494861Z"
    }
   },
   "outputs": [],
   "source": [
    "def check_email_format(email):\n",
    "    # Regular expression for validating an Email.\n",
    "    regex_email = r\"\\b[A-Za-z0-9._%+-]+@[A-Za-z0-9.-]+\\.[A-Z|a-z]{2,}\\b\"\n",
    "    # Sanity check.\n",
    "    if not (re.fullmatch(regex_email, email)):\n",
    "        email = None\n",
    "    return email"
   ]
  },
  {
   "cell_type": "code",
   "execution_count": 11,
   "id": "8ed813c0",
   "metadata": {
    "ExecuteTime": {
     "end_time": "2022-06-23T18:11:43.538589Z",
     "start_time": "2022-06-23T18:11:43.502493Z"
    }
   },
   "outputs": [
    {
     "data": {
      "text/html": [
       "<div>\n",
       "<style scoped>\n",
       "    .dataframe tbody tr th:only-of-type {\n",
       "        vertical-align: middle;\n",
       "    }\n",
       "\n",
       "    .dataframe tbody tr th {\n",
       "        vertical-align: top;\n",
       "    }\n",
       "\n",
       "    .dataframe thead th {\n",
       "        text-align: right;\n",
       "    }\n",
       "</style>\n",
       "<table border=\"1\" class=\"dataframe\">\n",
       "  <thead>\n",
       "    <tr style=\"text-align: right;\">\n",
       "      <th></th>\n",
       "      <th>Submit by email</th>\n",
       "      <th>Name</th>\n",
       "    </tr>\n",
       "  </thead>\n",
       "  <tbody>\n",
       "    <tr>\n",
       "      <th>197</th>\n",
       "      <td>https://andromedavc.io/#!/contact</td>\n",
       "      <td>Andromeda Capital</td>\n",
       "    </tr>\n",
       "    <tr>\n",
       "      <th>718</th>\n",
       "      <td>ir@visa.com</td>\n",
       "      <td>Visa</td>\n",
       "    </tr>\n",
       "  </tbody>\n",
       "</table>\n",
       "</div>"
      ],
      "text/plain": [
       "                       Submit by email               Name\n",
       "197  https://andromedavc.io/#!/contact  Andromeda Capital\n",
       "718                        ir@visa.com               Visa"
      ]
     },
     "execution_count": 11,
     "metadata": {},
     "output_type": "execute_result"
    }
   ],
   "source": [
    "new_iteration_cleaned = new_iteration.copy()\n",
    "# Replace \"bad\" emails with NaN.\n",
    "new_iteration_cleaned[\"Submit by email\"] = new_iteration_cleaned[\n",
    "    \"Submit by email\"\n",
    "].apply(lambda x: check_email_format(x))\n",
    "# Save \"bad\" emails in a separate DataFrame for manual check.\n",
    "bad_emails_list = list(\n",
    "    new_iteration_cleaned[new_iteration_cleaned[\"Submit by email\"].isna()][\"Name\"]\n",
    ")\n",
    "bad_emails = new_iteration[new_iteration[\"Name\"].isin(bad_emails_list)]\n",
    "bad_emails"
   ]
  },
  {
   "cell_type": "code",
   "execution_count": 12,
   "id": "173541b9",
   "metadata": {
    "ExecuteTime": {
     "end_time": "2022-06-23T18:11:43.553667Z",
     "start_time": "2022-06-23T18:11:43.542949Z"
    }
   },
   "outputs": [
    {
     "data": {
      "text/html": [
       "<div>\n",
       "<style scoped>\n",
       "    .dataframe tbody tr th:only-of-type {\n",
       "        vertical-align: middle;\n",
       "    }\n",
       "\n",
       "    .dataframe tbody tr th {\n",
       "        vertical-align: top;\n",
       "    }\n",
       "\n",
       "    .dataframe thead th {\n",
       "        text-align: right;\n",
       "    }\n",
       "</style>\n",
       "<table border=\"1\" class=\"dataframe\">\n",
       "  <thead>\n",
       "    <tr style=\"text-align: right;\">\n",
       "      <th></th>\n",
       "      <th>Submit by email</th>\n",
       "      <th>Name</th>\n",
       "    </tr>\n",
       "  </thead>\n",
       "  <tbody>\n",
       "    <tr>\n",
       "      <th>172</th>\n",
       "      <td>info@vetamercap.com</td>\n",
       "      <td>Vetamer Capital Management</td>\n",
       "    </tr>\n",
       "    <tr>\n",
       "      <th>226</th>\n",
       "      <td>hello@icodrops.com</td>\n",
       "      <td>Drop Ventures</td>\n",
       "    </tr>\n",
       "    <tr>\n",
       "      <th>235</th>\n",
       "      <td>frank@fermioncapitalcorp.com</td>\n",
       "      <td>Fermion</td>\n",
       "    </tr>\n",
       "    <tr>\n",
       "      <th>236</th>\n",
       "      <td>adri@fermioncapitalcorp.com</td>\n",
       "      <td>Fermion</td>\n",
       "    </tr>\n",
       "    <tr>\n",
       "      <th>237</th>\n",
       "      <td>contact@figment.io</td>\n",
       "      <td>Figment</td>\n",
       "    </tr>\n",
       "    <tr>\n",
       "      <th>...</th>\n",
       "      <td>...</td>\n",
       "      <td>...</td>\n",
       "    </tr>\n",
       "    <tr>\n",
       "      <th>691</th>\n",
       "      <td>press@thresholdvc.com</td>\n",
       "      <td>Threshold</td>\n",
       "    </tr>\n",
       "    <tr>\n",
       "      <th>699</th>\n",
       "      <td>press@trueventures.com</td>\n",
       "      <td>True Ventures</td>\n",
       "    </tr>\n",
       "    <tr>\n",
       "      <th>729</th>\n",
       "      <td>hello@tallycapital.com</td>\n",
       "      <td>Tally capital</td>\n",
       "    </tr>\n",
       "    <tr>\n",
       "      <th>730</th>\n",
       "      <td>qwang@puzzle.venture</td>\n",
       "      <td>Puzzle ventures</td>\n",
       "    </tr>\n",
       "    <tr>\n",
       "      <th>731</th>\n",
       "      <td>ideas@tev.de</td>\n",
       "      <td>Tev ventures</td>\n",
       "    </tr>\n",
       "  </tbody>\n",
       "</table>\n",
       "<p>69 rows × 2 columns</p>\n",
       "</div>"
      ],
      "text/plain": [
       "                  Submit by email                        Name\n",
       "172           info@vetamercap.com  Vetamer Capital Management\n",
       "226            hello@icodrops.com               Drop Ventures\n",
       "235  frank@fermioncapitalcorp.com                     Fermion\n",
       "236   adri@fermioncapitalcorp.com                     Fermion\n",
       "237            contact@figment.io                     Figment\n",
       "..                            ...                         ...\n",
       "691         press@thresholdvc.com                   Threshold\n",
       "699        press@trueventures.com               True Ventures\n",
       "729        hello@tallycapital.com               Tally capital\n",
       "730          qwang@puzzle.venture            Puzzle ventures \n",
       "731                  ideas@tev.de               Tev ventures \n",
       "\n",
       "[69 rows x 2 columns]"
      ]
     },
     "execution_count": 12,
     "metadata": {},
     "output_type": "execute_result"
    }
   ],
   "source": [
    "# Get rid of NaNs in \"clean\" contacts.\n",
    "new_iteration_cleaned = new_iteration_cleaned[\n",
    "    new_iteration_cleaned[\"Submit by email\"].notna()\n",
    "]\n",
    "new_iteration_cleaned"
   ]
  },
  {
   "cell_type": "markdown",
   "id": "8e3647d7",
   "metadata": {},
   "source": [
    "## Save the file"
   ]
  },
  {
   "cell_type": "code",
   "execution_count": 13,
   "id": "40c09d6d",
   "metadata": {
    "ExecuteTime": {
     "end_time": "2022-06-23T18:11:43.564835Z",
     "start_time": "2022-06-23T18:11:43.555321Z"
    }
   },
   "outputs": [],
   "source": [
    "# new_iteration_cleaned.to_csv(\"new_iteration.csv\")"
   ]
  }
 ],
 "metadata": {
  "kernelspec": {
   "display_name": "Python 3 (ipykernel)",
   "language": "python",
   "name": "python3"
  },
  "language_info": {
   "codemirror_mode": {
    "name": "ipython",
    "version": 3
   },
   "file_extension": ".py",
   "mimetype": "text/x-python",
   "name": "python",
   "nbconvert_exporter": "python",
   "pygments_lexer": "ipython3",
   "version": "3.8.10"
  },
  "toc": {
   "base_numbering": 1,
   "nav_menu": {},
   "number_sections": true,
   "sideBar": true,
   "skip_h1_title": false,
   "title_cell": "Table of Contents",
   "title_sidebar": "Contents",
   "toc_cell": false,
   "toc_position": {},
   "toc_section_display": true,
   "toc_window_display": false
  }
 },
 "nbformat": 4,
 "nbformat_minor": 5
}
