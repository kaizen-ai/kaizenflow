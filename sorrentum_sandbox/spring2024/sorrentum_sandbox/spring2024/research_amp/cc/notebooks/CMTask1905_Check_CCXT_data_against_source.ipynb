{
 "cells": [
  {
   "cell_type": "markdown",
   "id": "e109da09",
   "metadata": {},
   "source": [
    "# Imports"
   ]
  },
  {
   "cell_type": "code",
   "execution_count": 61,
   "id": "a3a449be",
   "metadata": {
    "ExecuteTime": {
     "end_time": "2022-05-18T16:40:23.272802Z",
     "start_time": "2022-05-18T16:40:23.268099Z"
    },
    "run_control": {
     "marked": true
    }
   },
   "outputs": [],
   "source": [
    "import logging\n",
    "import time\n",
    "\n",
    "import ccxt\n",
    "import pandas as pd\n",
    "\n",
    "import core.config.config_ as cconconf\n",
    "import helpers.hdatetime as hdateti\n",
    "import helpers.hdbg as hdbg\n",
    "import helpers.henv as henv\n",
    "import helpers.hprint as hprint\n",
    "import helpers.hsecrets as hsecret\n",
    "import im_v2.ccxt.data.client as icdcl\n",
    "import im_v2.ccxt.data.extract.exchange_class as imvcdeexcl"
   ]
  },
  {
   "cell_type": "code",
   "execution_count": 62,
   "id": "17adfb1c",
   "metadata": {
    "ExecuteTime": {
     "end_time": "2022-05-18T16:40:24.512152Z",
     "start_time": "2022-05-18T16:40:24.289032Z"
    }
   },
   "outputs": [
    {
     "name": "stdout",
     "output_type": "stream",
     "text": [
      "\u001b[0m\u001b[33mWARNING\u001b[0m: Logger already initialized: skipping\n",
      "INFO  # Git\n",
      "    branch_name='CMTask1905_Check_CCXT_data_against_source'\n",
      "    hash='6cf2fa939'\n",
      "    # Last commits:\n",
      "      *   6cf2fa939 DanilYachmenev Merge branch 'master' into CMTask1905_Check_CCXT_data_against_source (18 minutes ago) Wed May 18 16:22:28 2022  (HEAD -> CMTask1905_Check_CCXT_data_against_source, origin/CMTask1905_Check_CCXT_data_against_source)\n",
      "      |\\  \n",
      "      | * 07beed00f Daniil Tikhomirov CMTask1950: enact minor TODOs (#1954)                             (27 minutes ago) Wed May 18 16:13:19 2022  (origin/master, origin/HEAD)\n",
      "      * | a4712fe4e Nina Lee fixed, linter                                                     (40 minutes ago) Wed May 18 16:00:32 2022           \n",
      "# Machine info\n",
      "    system=Linux\n",
      "    node name=175097e404cb\n",
      "    release=5.13.0-1022-aws\n",
      "    version=#24~20.04.1-Ubuntu SMP Thu Apr 7 22:10:15 UTC 2022\n",
      "    machine=x86_64\n",
      "    processor=x86_64\n",
      "    cpu count=8\n",
      "    cpu freq=scpufreq(current=2499.998, min=0.0, max=0.0)\n",
      "    memory=svmem(total=33294798848, available=16539840512, percent=50.3, used=15952707584, free=11968299008, active=3053191168, inactive=16366788608, buffers=1193836544, cached=4179955712, shared=319369216, slab=1422610432)\n",
      "    disk usage=sdiskusage(total=156066836480, used=24604618752, free=131445440512, percent=15.8)\n",
      "# Packages\n",
      "    python: 3.8.10\n",
      "    gluonnlp: ?\n",
      "    gluonts: 0.6.7\n",
      "    joblib: 1.1.0\n",
      "    mxnet: 1.9.0\n",
      "    numpy: 1.22.3\n",
      "    pandas: 1.4.2\n",
      "    pyarrow: 7.0.0\n",
      "    scipy: 1.6.1\n",
      "    seaborn: 0.11.2\n",
      "    sklearn: 1.0.2\n",
      "    statsmodels: 0.13.2\n"
     ]
    }
   ],
   "source": [
    "hdbg.init_logger(verbosity=logging.INFO)\n",
    "\n",
    "_LOG = logging.getLogger(__name__)\n",
    "\n",
    "_LOG.info(\"%s\", henv.get_system_signature()[0])\n",
    "\n",
    "hprint.config_notebook()"
   ]
  },
  {
   "cell_type": "code",
   "execution_count": 63,
   "id": "62c8b3ce",
   "metadata": {
    "ExecuteTime": {
     "end_time": "2022-05-18T16:40:25.125282Z",
     "start_time": "2022-05-18T16:40:25.118096Z"
    }
   },
   "outputs": [],
   "source": [
    "def get_cmtask1905_config_ccxt() -> cconconf.Config:\n",
    "    \"\"\"\n",
    "    Get task1905-specific config.\n",
    "    \"\"\"\n",
    "    config = cconconf.Config()\n",
    "    # Load parameters.\n",
    "    config.add_subconfig(\"load\")\n",
    "    config[\"load\"][\"aws_profile\"] = \"ck\"\n",
    "    #\n",
    "    config[\"load\"][\"data_dir\"] = \"s3://cryptokaizen-data/historical\"\n",
    "    # Data parameters.\n",
    "    config.add_subconfig(\"data\")\n",
    "    config[\"data\"][\"vendor\"] = \"CCXT\"\n",
    "    config[\"data\"][\"data_snapshot\"] = \"latest\"\n",
    "    config[\"data\"][\"version\"] = \"v3\"\n",
    "    config[\"data\"][\"resample_1min\"] = True\n",
    "    config[\"data\"][\"partition_mode\"] = \"by_year_month\"\n",
    "    config[\"data\"][\"start_ts\"] = None\n",
    "    config[\"data\"][\"end_ts\"] = None\n",
    "    config[\"data\"][\"columns\"] = None\n",
    "    config[\"data\"][\"filter_data_mode\"] = \"assert\"\n",
    "    return config"
   ]
  },
  {
   "cell_type": "code",
   "execution_count": 64,
   "id": "adf95307",
   "metadata": {
    "ExecuteTime": {
     "end_time": "2022-05-18T16:40:26.563114Z",
     "start_time": "2022-05-18T16:40:26.559750Z"
    }
   },
   "outputs": [
    {
     "name": "stdout",
     "output_type": "stream",
     "text": [
      "load:\n",
      "  aws_profile: ck\n",
      "  data_dir: s3://cryptokaizen-data/historical\n",
      "data:\n",
      "  vendor: CCXT\n",
      "  data_snapshot: latest\n",
      "  version: v3\n",
      "  resample_1min: True\n",
      "  partition_mode: by_year_month\n",
      "  start_ts: None\n",
      "  end_ts: None\n",
      "  columns: None\n",
      "  filter_data_mode: assert\n"
     ]
    }
   ],
   "source": [
    "config = get_cmtask1905_config_ccxt()\n",
    "print(config)"
   ]
  },
  {
   "cell_type": "markdown",
   "id": "e2727a68",
   "metadata": {},
   "source": [
    "# Functions"
   ]
  },
  {
   "cell_type": "code",
   "execution_count": 65,
   "id": "aae084a7",
   "metadata": {
    "ExecuteTime": {
     "end_time": "2022-05-18T16:40:30.108791Z",
     "start_time": "2022-05-18T16:40:30.094234Z"
    }
   },
   "outputs": [],
   "source": [
    "def _get_ccxt_ohlcv_data(\n",
    "    exchange: ccxt.Exchange,\n",
    "    currency_pair: str,\n",
    "    start_timestamp: pd.Timestamp,\n",
    "    end_timestamp: pd.Timestamp,\n",
    ") -> pd.DataFrame:\n",
    "    \"\"\"\n",
    "    Get OHLCV data for a given exchange, currency pair and time period.\n",
    "    \"\"\"\n",
    "    start_timestamp = start_timestamp.asm8.astype(int) // 1000000\n",
    "    end_timestamp = end_timestamp.asm8.astype(int) // 1000000\n",
    "    all_bars = []\n",
    "    duration = exchange.parse_timeframe(\"1m\") * 100\n",
    "    for t in range(\n",
    "        start_timestamp,\n",
    "        end_timestamp + duration,\n",
    "        duration * 500,\n",
    "    ):\n",
    "        bars = _get_ccxt_bar_data(currency_pair, t, exchange)\n",
    "        all_bars.append(bars)\n",
    "        time.sleep(1)\n",
    "    all_data = pd.concat(all_bars)\n",
    "    return all_data\n",
    "\n",
    "\n",
    "def _get_ccxt_bar_data(\n",
    "    currency_pair: str, since: \"start timestamp\", exchange: ccxt.Exchange\n",
    "):\n",
    "    \"\"\"\n",
    "    Get data for a single bar from CCXT.\n",
    "    \"\"\"\n",
    "    ccxt_data = exchange.fetch_ohlcv(\n",
    "        currency_pair, timeframe=\"1m\", since=since, limit=500\n",
    "    )\n",
    "    columns = [\"timestamp\", \"open\", \"high\", \"low\", \"close\", \"volume\"]\n",
    "    bars = pd.DataFrame(ccxt_data, columns=columns)\n",
    "    return bars\n",
    "\n",
    "\n",
    "def _get_data_for_year_month(\n",
    "    df: pd.DataFrame, year: int, month: int\n",
    ") -> pd.DataFrame:\n",
    "    \"\"\"\n",
    "    :return: data for a specific year and month\n",
    "    \"\"\"\n",
    "    df = df.loc[(df.index.year == year) & (df.index.month == month)]\n",
    "    return df\n",
    "\n",
    "\n",
    "def _get_data_with_volume_0(df: pd.DataFrame) -> pd.DataFrame:\n",
    "    \"\"\"\n",
    "    Compute % of data points where volume = 0.\n",
    "\n",
    "    :return: data with volume = 0.\n",
    "    \"\"\"\n",
    "    df_volume_0 = df.loc[df[\"volume\"] == 0]\n",
    "    return df_volume_0\n",
    "\n",
    "\n",
    "def _log_into_exchange(exchange: str) -> ccxt.Exchange:\n",
    "    \"\"\"\n",
    "    Log into an exchange via CCXT and return the corresponding `ccxt.Exchange`\n",
    "    object.\n",
    "    \"\"\"\n",
    "    # Select credentials for provided exchange.\n",
    "    credentials = hsecret.get_secret(exchange)\n",
    "    # Enable rate limit.\n",
    "    credentials[\"rateLimit\"] = True\n",
    "    exchange_class = getattr(ccxt, exchange)\n",
    "    # Create a CCXT Exchange class object.\n",
    "    exchange = exchange_class(credentials)\n",
    "    hdbg.dassert(\n",
    "        exchange.checkRequiredCredentials(),\n",
    "        msg=\"Required credentials not passed\",\n",
    "    )\n",
    "    return exchange\n",
    "\n",
    "\n",
    "def _set_index_ts(df: pd.DataFrame) -> pd.DataFrame:\n",
    "    \"\"\"\n",
    "    Convert epoch column to timestamp index.\n",
    "    \"\"\"\n",
    "    df[\"timestamp\"] = df[\"timestamp\"].apply(\n",
    "        lambda x: hdateti.convert_unix_epoch_to_timestamp(x)\n",
    "    )\n",
    "    df = df.set_index(\"timestamp\")\n",
    "    return df"
   ]
  },
  {
   "cell_type": "markdown",
   "id": "096ad2f5",
   "metadata": {},
   "source": [
    "# CcxtHistoricalPqByTileClient"
   ]
  },
  {
   "cell_type": "code",
   "execution_count": 6,
   "id": "3c0dd41b",
   "metadata": {
    "ExecuteTime": {
     "end_time": "2022-05-18T13:45:06.104161Z",
     "start_time": "2022-05-18T13:45:06.031031Z"
    }
   },
   "outputs": [],
   "source": [
    "client = icdcl.CcxtHistoricalPqByTileClient(\n",
    "    config[\"data\"][\"version\"],\n",
    "    config[\"data\"][\"resample_1min\"],\n",
    "    config[\"load\"][\"data_dir\"],\n",
    "    config[\"data\"][\"partition_mode\"],\n",
    "    aws_profile=config[\"load\"][\"aws_profile\"],\n",
    ")"
   ]
  },
  {
   "cell_type": "code",
   "execution_count": 7,
   "id": "2723e4d9",
   "metadata": {
    "ExecuteTime": {
     "end_time": "2022-05-18T13:45:06.116483Z",
     "start_time": "2022-05-18T13:45:06.106324Z"
    }
   },
   "outputs": [
    {
     "data": {
      "text/plain": [
       "['binance::ADA_USDT',\n",
       " 'binance::AVAX_USDT',\n",
       " 'binance::BNB_USDT',\n",
       " 'binance::BTC_USDT',\n",
       " 'binance::DOGE_USDT',\n",
       " 'binance::EOS_USDT',\n",
       " 'binance::ETH_USDT',\n",
       " 'binance::LINK_USDT',\n",
       " 'binance::SOL_USDT',\n",
       " 'ftx::BNB_USDT',\n",
       " 'ftx::BTC_USDT',\n",
       " 'ftx::DOGE_USDT',\n",
       " 'ftx::ETH_USDT',\n",
       " 'ftx::LINK_USDT',\n",
       " 'ftx::SOL_USDT',\n",
       " 'ftx::XRP_USDT',\n",
       " 'gateio::ADA_USDT',\n",
       " 'gateio::AVAX_USDT',\n",
       " 'gateio::BNB_USDT',\n",
       " 'gateio::BTC_USDT',\n",
       " 'gateio::DOGE_USDT',\n",
       " 'gateio::EOS_USDT',\n",
       " 'gateio::ETH_USDT',\n",
       " 'gateio::FIL_USDT',\n",
       " 'gateio::LINK_USDT',\n",
       " 'gateio::SOL_USDT',\n",
       " 'gateio::XRP_USDT',\n",
       " 'kucoin::ADA_USDT',\n",
       " 'kucoin::AVAX_USDT',\n",
       " 'kucoin::BNB_USDT',\n",
       " 'kucoin::BTC_USDT',\n",
       " 'kucoin::DOGE_USDT',\n",
       " 'kucoin::EOS_USDT',\n",
       " 'kucoin::ETH_USDT',\n",
       " 'kucoin::FIL_USDT',\n",
       " 'kucoin::LINK_USDT',\n",
       " 'kucoin::SOL_USDT',\n",
       " 'kucoin::XRP_USDT']"
      ]
     },
     "execution_count": 7,
     "metadata": {},
     "output_type": "execute_result"
    }
   ],
   "source": [
    "universe = client.get_universe()\n",
    "universe"
   ]
  },
  {
   "cell_type": "markdown",
   "id": "975e2f5e",
   "metadata": {},
   "source": [
    "# Binance::DOGE_USDT"
   ]
  },
  {
   "cell_type": "code",
   "execution_count": 8,
   "id": "001233de",
   "metadata": {
    "ExecuteTime": {
     "end_time": "2022-05-18T13:45:16.632822Z",
     "start_time": "2022-05-18T13:45:06.118868Z"
    }
   },
   "outputs": [],
   "source": [
    "full_symbol_binance = [\"binance::DOGE_USDT\"]\n",
    "binance_data = client.read_data(\n",
    "    full_symbol_binance,\n",
    "    config[\"data\"][\"start_ts\"],\n",
    "    config[\"data\"][\"end_ts\"],\n",
    "    config[\"data\"][\"columns\"],\n",
    "    config[\"data\"][\"filter_data_mode\"],\n",
    ")"
   ]
  },
  {
   "cell_type": "code",
   "execution_count": 9,
   "id": "cde7b6b2",
   "metadata": {
    "ExecuteTime": {
     "end_time": "2022-05-18T13:45:16.920406Z",
     "start_time": "2022-05-18T13:45:16.635048Z"
    }
   },
   "outputs": [
    {
     "data": {
      "text/html": [
       "<div>\n",
       "<style scoped>\n",
       "    .dataframe tbody tr th:only-of-type {\n",
       "        vertical-align: middle;\n",
       "    }\n",
       "\n",
       "    .dataframe tbody tr th {\n",
       "        vertical-align: top;\n",
       "    }\n",
       "\n",
       "    .dataframe thead th {\n",
       "        text-align: right;\n",
       "    }\n",
       "</style>\n",
       "<table border=\"1\" class=\"dataframe\">\n",
       "  <thead>\n",
       "    <tr style=\"text-align: right;\">\n",
       "      <th></th>\n",
       "      <th>full_symbol</th>\n",
       "      <th>open</th>\n",
       "      <th>high</th>\n",
       "      <th>low</th>\n",
       "      <th>close</th>\n",
       "      <th>volume</th>\n",
       "    </tr>\n",
       "    <tr>\n",
       "      <th>timestamp</th>\n",
       "      <th></th>\n",
       "      <th></th>\n",
       "      <th></th>\n",
       "      <th></th>\n",
       "      <th></th>\n",
       "      <th></th>\n",
       "    </tr>\n",
       "  </thead>\n",
       "  <tbody>\n",
       "    <tr>\n",
       "      <th>2019-09-01 00:00:00+00:00</th>\n",
       "      <td>binance::DOGE_USDT</td>\n",
       "      <td>0.002453</td>\n",
       "      <td>0.002453</td>\n",
       "      <td>0.002453</td>\n",
       "      <td>0.002453</td>\n",
       "      <td>0.0</td>\n",
       "    </tr>\n",
       "    <tr>\n",
       "      <th>2019-09-01 00:01:00+00:00</th>\n",
       "      <td>binance::DOGE_USDT</td>\n",
       "      <td>0.002453</td>\n",
       "      <td>0.002453</td>\n",
       "      <td>0.002453</td>\n",
       "      <td>0.002453</td>\n",
       "      <td>0.0</td>\n",
       "    </tr>\n",
       "    <tr>\n",
       "      <th>2019-09-01 00:02:00+00:00</th>\n",
       "      <td>binance::DOGE_USDT</td>\n",
       "      <td>0.002452</td>\n",
       "      <td>0.002452</td>\n",
       "      <td>0.002452</td>\n",
       "      <td>0.002452</td>\n",
       "      <td>6927.0</td>\n",
       "    </tr>\n",
       "  </tbody>\n",
       "</table>\n",
       "</div>"
      ],
      "text/plain": [
       "                                  full_symbol      open      high       low     close  volume\n",
       "timestamp                                                                                    \n",
       "2019-09-01 00:00:00+00:00  binance::DOGE_USDT  0.002453  0.002453  0.002453  0.002453     0.0\n",
       "2019-09-01 00:01:00+00:00  binance::DOGE_USDT  0.002453  0.002453  0.002453  0.002453     0.0\n",
       "2019-09-01 00:02:00+00:00  binance::DOGE_USDT  0.002452  0.002452  0.002452  0.002452  6927.0"
      ]
     },
     "execution_count": 9,
     "metadata": {},
     "output_type": "execute_result"
    }
   ],
   "source": [
    "binance_2019_09 = _get_data_for_year_month(binance_data, 2019, 9)\n",
    "binance_2019_09_volume_0 = _get_data_with_volume_0(binance_2019_09)\n",
    "binance_2019_09.head(3)"
   ]
  },
  {
   "cell_type": "code",
   "execution_count": 10,
   "id": "870018f1",
   "metadata": {
    "ExecuteTime": {
     "end_time": "2022-05-18T13:45:16.937481Z",
     "start_time": "2022-05-18T13:45:16.924299Z"
    }
   },
   "outputs": [
    {
     "data": {
      "text/html": [
       "<div>\n",
       "<style scoped>\n",
       "    .dataframe tbody tr th:only-of-type {\n",
       "        vertical-align: middle;\n",
       "    }\n",
       "\n",
       "    .dataframe tbody tr th {\n",
       "        vertical-align: top;\n",
       "    }\n",
       "\n",
       "    .dataframe thead th {\n",
       "        text-align: right;\n",
       "    }\n",
       "</style>\n",
       "<table border=\"1\" class=\"dataframe\">\n",
       "  <thead>\n",
       "    <tr style=\"text-align: right;\">\n",
       "      <th></th>\n",
       "      <th>full_symbol</th>\n",
       "      <th>open</th>\n",
       "      <th>high</th>\n",
       "      <th>low</th>\n",
       "      <th>close</th>\n",
       "      <th>volume</th>\n",
       "    </tr>\n",
       "    <tr>\n",
       "      <th>timestamp</th>\n",
       "      <th></th>\n",
       "      <th></th>\n",
       "      <th></th>\n",
       "      <th></th>\n",
       "      <th></th>\n",
       "      <th></th>\n",
       "    </tr>\n",
       "  </thead>\n",
       "  <tbody>\n",
       "    <tr>\n",
       "      <th>2019-09-01 00:00:00+00:00</th>\n",
       "      <td>binance::DOGE_USDT</td>\n",
       "      <td>0.002453</td>\n",
       "      <td>0.002453</td>\n",
       "      <td>0.002453</td>\n",
       "      <td>0.002453</td>\n",
       "      <td>0.0</td>\n",
       "    </tr>\n",
       "    <tr>\n",
       "      <th>2019-09-01 00:01:00+00:00</th>\n",
       "      <td>binance::DOGE_USDT</td>\n",
       "      <td>0.002453</td>\n",
       "      <td>0.002453</td>\n",
       "      <td>0.002453</td>\n",
       "      <td>0.002453</td>\n",
       "      <td>0.0</td>\n",
       "    </tr>\n",
       "    <tr>\n",
       "      <th>2019-09-01 00:03:00+00:00</th>\n",
       "      <td>binance::DOGE_USDT</td>\n",
       "      <td>0.002452</td>\n",
       "      <td>0.002452</td>\n",
       "      <td>0.002452</td>\n",
       "      <td>0.002452</td>\n",
       "      <td>0.0</td>\n",
       "    </tr>\n",
       "  </tbody>\n",
       "</table>\n",
       "</div>"
      ],
      "text/plain": [
       "                                  full_symbol      open      high       low     close  volume\n",
       "timestamp                                                                                    \n",
       "2019-09-01 00:00:00+00:00  binance::DOGE_USDT  0.002453  0.002453  0.002453  0.002453     0.0\n",
       "2019-09-01 00:01:00+00:00  binance::DOGE_USDT  0.002453  0.002453  0.002453  0.002453     0.0\n",
       "2019-09-01 00:03:00+00:00  binance::DOGE_USDT  0.002452  0.002452  0.002452  0.002452     0.0"
      ]
     },
     "execution_count": 10,
     "metadata": {},
     "output_type": "execute_result"
    }
   ],
   "source": [
    "binance_2019_09_volume_0.head(3)"
   ]
  },
  {
   "cell_type": "markdown",
   "id": "effdb9da",
   "metadata": {},
   "source": [
    "# Extractor"
   ]
  },
  {
   "cell_type": "code",
   "execution_count": 11,
   "id": "7d7a0f07",
   "metadata": {
    "ExecuteTime": {
     "end_time": "2022-05-18T13:45:19.091424Z",
     "start_time": "2022-05-18T13:45:16.939782Z"
    }
   },
   "outputs": [],
   "source": [
    "ccxt_binance_DOGE_exchange = imvcdeexcl.CcxtExchange(\"binance\")"
   ]
  },
  {
   "cell_type": "code",
   "execution_count": 12,
   "id": "62479611",
   "metadata": {
    "ExecuteTime": {
     "end_time": "2022-05-18T13:47:15.428795Z",
     "start_time": "2022-05-18T13:45:19.094526Z"
    }
   },
   "outputs": [
    {
     "name": "stderr",
     "output_type": "stream",
     "text": [
      "100%|██████████████████████████████████████████████████████████████████████████████████████████████████████████████████████| 87/87 [01:56<00:00,  1.34s/it]\n"
     ]
    }
   ],
   "source": [
    "currency_pair_binance = \"DOGE/USDT\"\n",
    "start_timestamp = pd.Timestamp(\"2019-09-01 00:00:00+00:00\")\n",
    "end_timestamp = pd.Timestamp(\"2019-09-30 23:59:59+00:00\")\n",
    "sleep_time_in_secs = 1\n",
    "ccxt_binance_DOGE = ccxt_binance_DOGE_exchange.download_ohlcv_data(\n",
    "    currency_pair_binance,\n",
    "    start_timestamp=start_timestamp,\n",
    "    end_timestamp=end_timestamp,\n",
    "    sleep_time_in_secs=sleep_time_in_secs,\n",
    ")"
   ]
  },
  {
   "cell_type": "code",
   "execution_count": 14,
   "id": "a8a26f9c",
   "metadata": {
    "ExecuteTime": {
     "end_time": "2022-05-18T13:47:29.112564Z",
     "start_time": "2022-05-18T13:47:28.658555Z"
    }
   },
   "outputs": [
    {
     "data": {
      "text/html": [
       "<div>\n",
       "<style scoped>\n",
       "    .dataframe tbody tr th:only-of-type {\n",
       "        vertical-align: middle;\n",
       "    }\n",
       "\n",
       "    .dataframe tbody tr th {\n",
       "        vertical-align: top;\n",
       "    }\n",
       "\n",
       "    .dataframe thead th {\n",
       "        text-align: right;\n",
       "    }\n",
       "</style>\n",
       "<table border=\"1\" class=\"dataframe\">\n",
       "  <thead>\n",
       "    <tr style=\"text-align: right;\">\n",
       "      <th></th>\n",
       "      <th>open</th>\n",
       "      <th>high</th>\n",
       "      <th>low</th>\n",
       "      <th>close</th>\n",
       "      <th>volume</th>\n",
       "      <th>end_download_timestamp</th>\n",
       "    </tr>\n",
       "    <tr>\n",
       "      <th>timestamp</th>\n",
       "      <th></th>\n",
       "      <th></th>\n",
       "      <th></th>\n",
       "      <th></th>\n",
       "      <th></th>\n",
       "      <th></th>\n",
       "    </tr>\n",
       "  </thead>\n",
       "  <tbody>\n",
       "    <tr>\n",
       "      <th>2019-09-01 00:00:00+00:00</th>\n",
       "      <td>0.002453</td>\n",
       "      <td>0.002453</td>\n",
       "      <td>0.002453</td>\n",
       "      <td>0.002453</td>\n",
       "      <td>0.0</td>\n",
       "      <td>2022-05-18 13:45:19.357361+00:00</td>\n",
       "    </tr>\n",
       "    <tr>\n",
       "      <th>2019-09-01 00:01:00+00:00</th>\n",
       "      <td>0.002453</td>\n",
       "      <td>0.002453</td>\n",
       "      <td>0.002453</td>\n",
       "      <td>0.002453</td>\n",
       "      <td>0.0</td>\n",
       "      <td>2022-05-18 13:45:19.357361+00:00</td>\n",
       "    </tr>\n",
       "    <tr>\n",
       "      <th>2019-09-01 00:02:00+00:00</th>\n",
       "      <td>0.002452</td>\n",
       "      <td>0.002452</td>\n",
       "      <td>0.002452</td>\n",
       "      <td>0.002452</td>\n",
       "      <td>6927.0</td>\n",
       "      <td>2022-05-18 13:45:19.357361+00:00</td>\n",
       "    </tr>\n",
       "  </tbody>\n",
       "</table>\n",
       "</div>"
      ],
      "text/plain": [
       "                               open      high       low     close  volume            end_download_timestamp\n",
       "timestamp                                                                                                  \n",
       "2019-09-01 00:00:00+00:00  0.002453  0.002453  0.002453  0.002453     0.0  2022-05-18 13:45:19.357361+00:00\n",
       "2019-09-01 00:01:00+00:00  0.002453  0.002453  0.002453  0.002453     0.0  2022-05-18 13:45:19.357361+00:00\n",
       "2019-09-01 00:02:00+00:00  0.002452  0.002452  0.002452  0.002452  6927.0  2022-05-18 13:45:19.357361+00:00"
      ]
     },
     "execution_count": 14,
     "metadata": {},
     "output_type": "execute_result"
    }
   ],
   "source": [
    "ccxt_binance_DOGE = _set_index_ts(ccxt_binance_DOGE)\n",
    "ccxt_binance_DOGE = _get_data_for_year_month(ccxt_binance_DOGE, 2019, 9)\n",
    "ccxt_binance_DOGE_volume_0 = _get_data_with_volume_0(ccxt_binance_DOGE)\n",
    "ccxt_binance_DOGE.head(3)"
   ]
  },
  {
   "cell_type": "code",
   "execution_count": 15,
   "id": "dc997859",
   "metadata": {
    "ExecuteTime": {
     "end_time": "2022-05-18T13:47:29.126993Z",
     "start_time": "2022-05-18T13:47:29.115228Z"
    }
   },
   "outputs": [
    {
     "data": {
      "text/html": [
       "<div>\n",
       "<style scoped>\n",
       "    .dataframe tbody tr th:only-of-type {\n",
       "        vertical-align: middle;\n",
       "    }\n",
       "\n",
       "    .dataframe tbody tr th {\n",
       "        vertical-align: top;\n",
       "    }\n",
       "\n",
       "    .dataframe thead th {\n",
       "        text-align: right;\n",
       "    }\n",
       "</style>\n",
       "<table border=\"1\" class=\"dataframe\">\n",
       "  <thead>\n",
       "    <tr style=\"text-align: right;\">\n",
       "      <th></th>\n",
       "      <th>open</th>\n",
       "      <th>high</th>\n",
       "      <th>low</th>\n",
       "      <th>close</th>\n",
       "      <th>volume</th>\n",
       "      <th>end_download_timestamp</th>\n",
       "    </tr>\n",
       "    <tr>\n",
       "      <th>timestamp</th>\n",
       "      <th></th>\n",
       "      <th></th>\n",
       "      <th></th>\n",
       "      <th></th>\n",
       "      <th></th>\n",
       "      <th></th>\n",
       "    </tr>\n",
       "  </thead>\n",
       "  <tbody>\n",
       "    <tr>\n",
       "      <th>2019-09-01 00:00:00+00:00</th>\n",
       "      <td>0.002453</td>\n",
       "      <td>0.002453</td>\n",
       "      <td>0.002453</td>\n",
       "      <td>0.002453</td>\n",
       "      <td>0.0</td>\n",
       "      <td>2022-05-18 13:45:19.357361+00:00</td>\n",
       "    </tr>\n",
       "    <tr>\n",
       "      <th>2019-09-01 00:01:00+00:00</th>\n",
       "      <td>0.002453</td>\n",
       "      <td>0.002453</td>\n",
       "      <td>0.002453</td>\n",
       "      <td>0.002453</td>\n",
       "      <td>0.0</td>\n",
       "      <td>2022-05-18 13:45:19.357361+00:00</td>\n",
       "    </tr>\n",
       "    <tr>\n",
       "      <th>2019-09-01 00:03:00+00:00</th>\n",
       "      <td>0.002452</td>\n",
       "      <td>0.002452</td>\n",
       "      <td>0.002452</td>\n",
       "      <td>0.002452</td>\n",
       "      <td>0.0</td>\n",
       "      <td>2022-05-18 13:45:19.357361+00:00</td>\n",
       "    </tr>\n",
       "  </tbody>\n",
       "</table>\n",
       "</div>"
      ],
      "text/plain": [
       "                               open      high       low     close  volume            end_download_timestamp\n",
       "timestamp                                                                                                  \n",
       "2019-09-01 00:00:00+00:00  0.002453  0.002453  0.002453  0.002453     0.0  2022-05-18 13:45:19.357361+00:00\n",
       "2019-09-01 00:01:00+00:00  0.002453  0.002453  0.002453  0.002453     0.0  2022-05-18 13:45:19.357361+00:00\n",
       "2019-09-01 00:03:00+00:00  0.002452  0.002452  0.002452  0.002452     0.0  2022-05-18 13:45:19.357361+00:00"
      ]
     },
     "execution_count": 15,
     "metadata": {},
     "output_type": "execute_result"
    }
   ],
   "source": [
    "ccxt_binance_DOGE_volume_0.head(3)"
   ]
  },
  {
   "cell_type": "markdown",
   "id": "47d1d8fd",
   "metadata": {},
   "source": [
    "# CCXT w/o Extractor"
   ]
  },
  {
   "cell_type": "code",
   "execution_count": 16,
   "id": "5e5102c2",
   "metadata": {
    "ExecuteTime": {
     "end_time": "2022-05-18T14:07:04.246030Z",
     "start_time": "2022-05-18T13:47:31.576330Z"
    }
   },
   "outputs": [
    {
     "data": {
      "text/html": [
       "<div>\n",
       "<style scoped>\n",
       "    .dataframe tbody tr th:only-of-type {\n",
       "        vertical-align: middle;\n",
       "    }\n",
       "\n",
       "    .dataframe tbody tr th {\n",
       "        vertical-align: top;\n",
       "    }\n",
       "\n",
       "    .dataframe thead th {\n",
       "        text-align: right;\n",
       "    }\n",
       "</style>\n",
       "<table border=\"1\" class=\"dataframe\">\n",
       "  <thead>\n",
       "    <tr style=\"text-align: right;\">\n",
       "      <th></th>\n",
       "      <th>open</th>\n",
       "      <th>high</th>\n",
       "      <th>low</th>\n",
       "      <th>close</th>\n",
       "      <th>volume</th>\n",
       "    </tr>\n",
       "    <tr>\n",
       "      <th>timestamp</th>\n",
       "      <th></th>\n",
       "      <th></th>\n",
       "      <th></th>\n",
       "      <th></th>\n",
       "      <th></th>\n",
       "    </tr>\n",
       "  </thead>\n",
       "  <tbody>\n",
       "    <tr>\n",
       "      <th>2019-09-01 00:00:00+00:00</th>\n",
       "      <td>0.002453</td>\n",
       "      <td>0.002453</td>\n",
       "      <td>0.002453</td>\n",
       "      <td>0.002453</td>\n",
       "      <td>0.0</td>\n",
       "    </tr>\n",
       "    <tr>\n",
       "      <th>2019-09-01 00:01:00+00:00</th>\n",
       "      <td>0.002453</td>\n",
       "      <td>0.002453</td>\n",
       "      <td>0.002453</td>\n",
       "      <td>0.002453</td>\n",
       "      <td>0.0</td>\n",
       "    </tr>\n",
       "    <tr>\n",
       "      <th>2019-09-01 00:02:00+00:00</th>\n",
       "      <td>0.002452</td>\n",
       "      <td>0.002452</td>\n",
       "      <td>0.002452</td>\n",
       "      <td>0.002452</td>\n",
       "      <td>6927.0</td>\n",
       "    </tr>\n",
       "    <tr>\n",
       "      <th>2019-09-01 00:03:00+00:00</th>\n",
       "      <td>0.002452</td>\n",
       "      <td>0.002452</td>\n",
       "      <td>0.002452</td>\n",
       "      <td>0.002452</td>\n",
       "      <td>0.0</td>\n",
       "    </tr>\n",
       "    <tr>\n",
       "      <th>2019-09-01 00:04:00+00:00</th>\n",
       "      <td>0.002452</td>\n",
       "      <td>0.002452</td>\n",
       "      <td>0.002452</td>\n",
       "      <td>0.002452</td>\n",
       "      <td>0.0</td>\n",
       "    </tr>\n",
       "    <tr>\n",
       "      <th>...</th>\n",
       "      <td>...</td>\n",
       "      <td>...</td>\n",
       "      <td>...</td>\n",
       "      <td>...</td>\n",
       "      <td>...</td>\n",
       "    </tr>\n",
       "    <tr>\n",
       "      <th>2019-09-30 23:55:00+00:00</th>\n",
       "      <td>0.002375</td>\n",
       "      <td>0.002375</td>\n",
       "      <td>0.002375</td>\n",
       "      <td>0.002375</td>\n",
       "      <td>0.0</td>\n",
       "    </tr>\n",
       "    <tr>\n",
       "      <th>2019-09-30 23:56:00+00:00</th>\n",
       "      <td>0.002375</td>\n",
       "      <td>0.002375</td>\n",
       "      <td>0.002375</td>\n",
       "      <td>0.002375</td>\n",
       "      <td>0.0</td>\n",
       "    </tr>\n",
       "    <tr>\n",
       "      <th>2019-09-30 23:57:00+00:00</th>\n",
       "      <td>0.002375</td>\n",
       "      <td>0.002375</td>\n",
       "      <td>0.002375</td>\n",
       "      <td>0.002375</td>\n",
       "      <td>0.0</td>\n",
       "    </tr>\n",
       "    <tr>\n",
       "      <th>2019-09-30 23:58:00+00:00</th>\n",
       "      <td>0.002375</td>\n",
       "      <td>0.002375</td>\n",
       "      <td>0.002375</td>\n",
       "      <td>0.002375</td>\n",
       "      <td>0.0</td>\n",
       "    </tr>\n",
       "    <tr>\n",
       "      <th>2019-09-30 23:59:00+00:00</th>\n",
       "      <td>0.002375</td>\n",
       "      <td>0.002375</td>\n",
       "      <td>0.002375</td>\n",
       "      <td>0.002375</td>\n",
       "      <td>0.0</td>\n",
       "    </tr>\n",
       "  </tbody>\n",
       "</table>\n",
       "<p>429750 rows × 5 columns</p>\n",
       "</div>"
      ],
      "text/plain": [
       "                               open      high       low     close  volume\n",
       "timestamp                                                                \n",
       "2019-09-01 00:00:00+00:00  0.002453  0.002453  0.002453  0.002453     0.0\n",
       "2019-09-01 00:01:00+00:00  0.002453  0.002453  0.002453  0.002453     0.0\n",
       "2019-09-01 00:02:00+00:00  0.002452  0.002452  0.002452  0.002452  6927.0\n",
       "2019-09-01 00:03:00+00:00  0.002452  0.002452  0.002452  0.002452     0.0\n",
       "2019-09-01 00:04:00+00:00  0.002452  0.002452  0.002452  0.002452     0.0\n",
       "...                             ...       ...       ...       ...     ...\n",
       "2019-09-30 23:55:00+00:00  0.002375  0.002375  0.002375  0.002375     0.0\n",
       "2019-09-30 23:56:00+00:00  0.002375  0.002375  0.002375  0.002375     0.0\n",
       "2019-09-30 23:57:00+00:00  0.002375  0.002375  0.002375  0.002375     0.0\n",
       "2019-09-30 23:58:00+00:00  0.002375  0.002375  0.002375  0.002375     0.0\n",
       "2019-09-30 23:59:00+00:00  0.002375  0.002375  0.002375  0.002375     0.0\n",
       "\n",
       "[429750 rows x 5 columns]"
      ]
     },
     "execution_count": 16,
     "metadata": {},
     "output_type": "execute_result"
    }
   ],
   "source": [
    "ccxt_exchange = _log_into_exchange(\"binance\")\n",
    "start_ts = pd.Timestamp(\"2019-09-01 00:00:00+00:00\")\n",
    "end_ts = pd.Timestamp(\"2019-09-30 23:59:59+00:00\")\n",
    "ccxt_df = _get_ccxt_ohlcv_data(\n",
    "    ccxt_exchange, currency_pair_binance, start_ts, end_ts\n",
    ")\n",
    "ccxt_df = _set_index_ts(ccxt_df)\n",
    "ccxt_df = _get_data_for_year_month(ccxt_df, 2019, 9)\n",
    "ccxt_df_volume_0 = _get_data_with_volume_0(ccxt_df)\n",
    "ccxt_df"
   ]
  },
  {
   "cell_type": "code",
   "execution_count": 17,
   "id": "d0c8ca71",
   "metadata": {
    "ExecuteTime": {
     "end_time": "2022-05-18T14:07:04.260111Z",
     "start_time": "2022-05-18T14:07:04.248155Z"
    }
   },
   "outputs": [
    {
     "data": {
      "text/html": [
       "<div>\n",
       "<style scoped>\n",
       "    .dataframe tbody tr th:only-of-type {\n",
       "        vertical-align: middle;\n",
       "    }\n",
       "\n",
       "    .dataframe tbody tr th {\n",
       "        vertical-align: top;\n",
       "    }\n",
       "\n",
       "    .dataframe thead th {\n",
       "        text-align: right;\n",
       "    }\n",
       "</style>\n",
       "<table border=\"1\" class=\"dataframe\">\n",
       "  <thead>\n",
       "    <tr style=\"text-align: right;\">\n",
       "      <th></th>\n",
       "      <th>open</th>\n",
       "      <th>high</th>\n",
       "      <th>low</th>\n",
       "      <th>close</th>\n",
       "      <th>volume</th>\n",
       "    </tr>\n",
       "    <tr>\n",
       "      <th>timestamp</th>\n",
       "      <th></th>\n",
       "      <th></th>\n",
       "      <th></th>\n",
       "      <th></th>\n",
       "      <th></th>\n",
       "    </tr>\n",
       "  </thead>\n",
       "  <tbody>\n",
       "    <tr>\n",
       "      <th>2019-09-01 00:00:00+00:00</th>\n",
       "      <td>0.002453</td>\n",
       "      <td>0.002453</td>\n",
       "      <td>0.002453</td>\n",
       "      <td>0.002453</td>\n",
       "      <td>0.0</td>\n",
       "    </tr>\n",
       "    <tr>\n",
       "      <th>2019-09-01 00:01:00+00:00</th>\n",
       "      <td>0.002453</td>\n",
       "      <td>0.002453</td>\n",
       "      <td>0.002453</td>\n",
       "      <td>0.002453</td>\n",
       "      <td>0.0</td>\n",
       "    </tr>\n",
       "    <tr>\n",
       "      <th>2019-09-01 00:03:00+00:00</th>\n",
       "      <td>0.002452</td>\n",
       "      <td>0.002452</td>\n",
       "      <td>0.002452</td>\n",
       "      <td>0.002452</td>\n",
       "      <td>0.0</td>\n",
       "    </tr>\n",
       "  </tbody>\n",
       "</table>\n",
       "</div>"
      ],
      "text/plain": [
       "                               open      high       low     close  volume\n",
       "timestamp                                                                \n",
       "2019-09-01 00:00:00+00:00  0.002453  0.002453  0.002453  0.002453     0.0\n",
       "2019-09-01 00:01:00+00:00  0.002453  0.002453  0.002453  0.002453     0.0\n",
       "2019-09-01 00:03:00+00:00  0.002452  0.002452  0.002452  0.002452     0.0"
      ]
     },
     "execution_count": 17,
     "metadata": {},
     "output_type": "execute_result"
    }
   ],
   "source": [
    "ccxt_df_volume_0.head(3)"
   ]
  },
  {
   "cell_type": "markdown",
   "id": "dfeb34ca",
   "metadata": {},
   "source": [
    "# Summary"
   ]
  },
  {
   "cell_type": "markdown",
   "id": "a516a70e",
   "metadata": {},
   "source": [
    "\n",
    "|CCXT | | ||            Extractor    | | | |Client | | |\n",
    "|------|--|-||-------------|-|-|-|------|-|-|\n",
    "|date|Number of NaN rows %|    Total number of rows| `volume=0` %    |Number of NaN rows %|    Total number of rows| `volume=0` %| Number of NaN rows %|    Total number of rows| `volume=0` %|\n",
    "|2019-09|    0          |                       429750|          73.22%       |    0          |                       43200|          73.3%   |      0|                43200| 73.3%|\n"
   ]
  },
  {
   "cell_type": "markdown",
   "id": "5c8cbf00",
   "metadata": {},
   "source": [
    "- The huge amount of data from CCXT is duplicated.\n",
    "- Where volume = 0, data from columns open, high, low, close is exactly the same as in the last row with `volume != 0`. It could mean that volume = 0 rows are NaNs at the source, so it could be the way exchange handles missing data."
   ]
  },
  {
   "cell_type": "markdown",
   "id": "ca345db7",
   "metadata": {},
   "source": [
    "# ftx::BTC_USDT"
   ]
  },
  {
   "cell_type": "markdown",
   "id": "51b44251",
   "metadata": {},
   "source": [
    "## Client"
   ]
  },
  {
   "cell_type": "code",
   "execution_count": 18,
   "id": "a4eb6366",
   "metadata": {
    "ExecuteTime": {
     "end_time": "2022-05-18T14:07:11.314248Z",
     "start_time": "2022-05-18T14:07:04.262500Z"
    },
    "scrolled": true
   },
   "outputs": [],
   "source": [
    "full_symbol_ftx = [\"ftx::BTC_USDT\"]\n",
    "ftx_data = client.read_data(\n",
    "    full_symbol_ftx,\n",
    "    config[\"data\"][\"start_ts\"],\n",
    "    config[\"data\"][\"end_ts\"],\n",
    "    config[\"data\"][\"columns\"],\n",
    "    config[\"data\"][\"filter_data_mode\"],\n",
    ")"
   ]
  },
  {
   "cell_type": "code",
   "execution_count": 19,
   "id": "481783e4",
   "metadata": {
    "ExecuteTime": {
     "end_time": "2022-05-18T14:07:11.513807Z",
     "start_time": "2022-05-18T14:07:11.317583Z"
    }
   },
   "outputs": [
    {
     "data": {
      "text/html": [
       "<div>\n",
       "<style scoped>\n",
       "    .dataframe tbody tr th:only-of-type {\n",
       "        vertical-align: middle;\n",
       "    }\n",
       "\n",
       "    .dataframe tbody tr th {\n",
       "        vertical-align: top;\n",
       "    }\n",
       "\n",
       "    .dataframe thead th {\n",
       "        text-align: right;\n",
       "    }\n",
       "</style>\n",
       "<table border=\"1\" class=\"dataframe\">\n",
       "  <thead>\n",
       "    <tr style=\"text-align: right;\">\n",
       "      <th></th>\n",
       "      <th>full_symbol</th>\n",
       "      <th>open</th>\n",
       "      <th>high</th>\n",
       "      <th>low</th>\n",
       "      <th>close</th>\n",
       "      <th>volume</th>\n",
       "    </tr>\n",
       "    <tr>\n",
       "      <th>timestamp</th>\n",
       "      <th></th>\n",
       "      <th></th>\n",
       "      <th></th>\n",
       "      <th></th>\n",
       "      <th></th>\n",
       "      <th></th>\n",
       "    </tr>\n",
       "  </thead>\n",
       "  <tbody>\n",
       "    <tr>\n",
       "      <th>2020-04-01 00:00:00+00:00</th>\n",
       "      <td>ftx::BTC_USDT</td>\n",
       "      <td>6410.0</td>\n",
       "      <td>6422.5</td>\n",
       "      <td>6410.0</td>\n",
       "      <td>6419.0</td>\n",
       "      <td>0.0</td>\n",
       "    </tr>\n",
       "    <tr>\n",
       "      <th>2020-04-01 00:01:00+00:00</th>\n",
       "      <td>ftx::BTC_USDT</td>\n",
       "      <td>6419.0</td>\n",
       "      <td>6421.0</td>\n",
       "      <td>6411.0</td>\n",
       "      <td>6417.0</td>\n",
       "      <td>0.0</td>\n",
       "    </tr>\n",
       "    <tr>\n",
       "      <th>2020-04-01 00:02:00+00:00</th>\n",
       "      <td>ftx::BTC_USDT</td>\n",
       "      <td>6417.0</td>\n",
       "      <td>6419.5</td>\n",
       "      <td>6415.5</td>\n",
       "      <td>6418.0</td>\n",
       "      <td>0.0</td>\n",
       "    </tr>\n",
       "  </tbody>\n",
       "</table>\n",
       "</div>"
      ],
      "text/plain": [
       "                             full_symbol    open    high     low   close  volume\n",
       "timestamp                                                                       \n",
       "2020-04-01 00:00:00+00:00  ftx::BTC_USDT  6410.0  6422.5  6410.0  6419.0     0.0\n",
       "2020-04-01 00:01:00+00:00  ftx::BTC_USDT  6419.0  6421.0  6411.0  6417.0     0.0\n",
       "2020-04-01 00:02:00+00:00  ftx::BTC_USDT  6417.0  6419.5  6415.5  6418.0     0.0"
      ]
     },
     "execution_count": 19,
     "metadata": {},
     "output_type": "execute_result"
    }
   ],
   "source": [
    "ftx_2020_04 = _get_data_for_year_month(ftx_data, 2020, 4)\n",
    "ftx_2020_04_volume_0 = _get_data_with_volume_0(ftx_2020_04)\n",
    "ftx_2020_04.head(3)"
   ]
  },
  {
   "cell_type": "code",
   "execution_count": 20,
   "id": "7ba87708",
   "metadata": {
    "ExecuteTime": {
     "end_time": "2022-05-18T14:07:11.531789Z",
     "start_time": "2022-05-18T14:07:11.518161Z"
    }
   },
   "outputs": [
    {
     "data": {
      "text/html": [
       "<div>\n",
       "<style scoped>\n",
       "    .dataframe tbody tr th:only-of-type {\n",
       "        vertical-align: middle;\n",
       "    }\n",
       "\n",
       "    .dataframe tbody tr th {\n",
       "        vertical-align: top;\n",
       "    }\n",
       "\n",
       "    .dataframe thead th {\n",
       "        text-align: right;\n",
       "    }\n",
       "</style>\n",
       "<table border=\"1\" class=\"dataframe\">\n",
       "  <thead>\n",
       "    <tr style=\"text-align: right;\">\n",
       "      <th></th>\n",
       "      <th>full_symbol</th>\n",
       "      <th>open</th>\n",
       "      <th>high</th>\n",
       "      <th>low</th>\n",
       "      <th>close</th>\n",
       "      <th>volume</th>\n",
       "    </tr>\n",
       "    <tr>\n",
       "      <th>timestamp</th>\n",
       "      <th></th>\n",
       "      <th></th>\n",
       "      <th></th>\n",
       "      <th></th>\n",
       "      <th></th>\n",
       "      <th></th>\n",
       "    </tr>\n",
       "  </thead>\n",
       "  <tbody>\n",
       "    <tr>\n",
       "      <th>2020-04-01 00:00:00+00:00</th>\n",
       "      <td>ftx::BTC_USDT</td>\n",
       "      <td>6410.0</td>\n",
       "      <td>6422.5</td>\n",
       "      <td>6410.0</td>\n",
       "      <td>6419.0</td>\n",
       "      <td>0.0</td>\n",
       "    </tr>\n",
       "    <tr>\n",
       "      <th>2020-04-01 00:01:00+00:00</th>\n",
       "      <td>ftx::BTC_USDT</td>\n",
       "      <td>6419.0</td>\n",
       "      <td>6421.0</td>\n",
       "      <td>6411.0</td>\n",
       "      <td>6417.0</td>\n",
       "      <td>0.0</td>\n",
       "    </tr>\n",
       "    <tr>\n",
       "      <th>2020-04-01 00:02:00+00:00</th>\n",
       "      <td>ftx::BTC_USDT</td>\n",
       "      <td>6417.0</td>\n",
       "      <td>6419.5</td>\n",
       "      <td>6415.5</td>\n",
       "      <td>6418.0</td>\n",
       "      <td>0.0</td>\n",
       "    </tr>\n",
       "  </tbody>\n",
       "</table>\n",
       "</div>"
      ],
      "text/plain": [
       "                             full_symbol    open    high     low   close  volume\n",
       "timestamp                                                                       \n",
       "2020-04-01 00:00:00+00:00  ftx::BTC_USDT  6410.0  6422.5  6410.0  6419.0     0.0\n",
       "2020-04-01 00:01:00+00:00  ftx::BTC_USDT  6419.0  6421.0  6411.0  6417.0     0.0\n",
       "2020-04-01 00:02:00+00:00  ftx::BTC_USDT  6417.0  6419.5  6415.5  6418.0     0.0"
      ]
     },
     "execution_count": 20,
     "metadata": {},
     "output_type": "execute_result"
    }
   ],
   "source": [
    "ftx_2020_04_volume_0.head(3)"
   ]
  },
  {
   "cell_type": "code",
   "execution_count": 21,
   "id": "7e1a05c8",
   "metadata": {
    "ExecuteTime": {
     "end_time": "2022-05-18T14:07:11.553028Z",
     "start_time": "2022-05-18T14:07:11.533859Z"
    }
   },
   "outputs": [
    {
     "data": {
      "text/html": [
       "<div>\n",
       "<style scoped>\n",
       "    .dataframe tbody tr th:only-of-type {\n",
       "        vertical-align: middle;\n",
       "    }\n",
       "\n",
       "    .dataframe tbody tr th {\n",
       "        vertical-align: top;\n",
       "    }\n",
       "\n",
       "    .dataframe thead th {\n",
       "        text-align: right;\n",
       "    }\n",
       "</style>\n",
       "<table border=\"1\" class=\"dataframe\">\n",
       "  <thead>\n",
       "    <tr style=\"text-align: right;\">\n",
       "      <th></th>\n",
       "      <th>full_symbol</th>\n",
       "      <th>open</th>\n",
       "      <th>high</th>\n",
       "      <th>low</th>\n",
       "      <th>close</th>\n",
       "      <th>volume</th>\n",
       "    </tr>\n",
       "    <tr>\n",
       "      <th>timestamp</th>\n",
       "      <th></th>\n",
       "      <th></th>\n",
       "      <th></th>\n",
       "      <th></th>\n",
       "      <th></th>\n",
       "      <th></th>\n",
       "    </tr>\n",
       "  </thead>\n",
       "  <tbody>\n",
       "  </tbody>\n",
       "</table>\n",
       "</div>"
      ],
      "text/plain": [
       "Empty DataFrame\n",
       "Columns: [full_symbol, open, high, low, close, volume]\n",
       "Index: []"
      ]
     },
     "execution_count": 21,
     "metadata": {},
     "output_type": "execute_result"
    }
   ],
   "source": [
    "ftx_2020_04.loc[ftx_2020_04[\"open\"].isna()]"
   ]
  },
  {
   "cell_type": "markdown",
   "id": "120ecbf2",
   "metadata": {},
   "source": [
    "## Extractor"
   ]
  },
  {
   "cell_type": "code",
   "execution_count": 22,
   "id": "0ea7265b",
   "metadata": {
    "ExecuteTime": {
     "end_time": "2022-05-18T14:09:22.448054Z",
     "start_time": "2022-05-18T14:07:11.554717Z"
    }
   },
   "outputs": [
    {
     "name": "stderr",
     "output_type": "stream",
     "text": [
      "100%|██████████████████████████████████████████████████████████████████████████████████████████████████████████████████████| 87/87 [02:10<00:00,  1.50s/it]\n"
     ]
    }
   ],
   "source": [
    "ccxt_ftx_BTC_exchange = imvcdeexcl.CcxtExchange(\"ftx\")\n",
    "currency_pair_ftx = \"BTC/USDT\"\n",
    "start_timestamp = pd.Timestamp(\"2020-04-01 00:00:00+00:00\")\n",
    "end_timestamp = pd.Timestamp(\"2020-04-30 23:59:59+00:00\")\n",
    "sleep_time_in_secs = 1\n",
    "ccxt_ftx_BTC = ccxt_ftx_BTC_exchange.download_ohlcv_data(\n",
    "    currency_pair_ftx,\n",
    "    start_timestamp=start_timestamp,\n",
    "    end_timestamp=end_timestamp,\n",
    "    sleep_time_in_secs=sleep_time_in_secs,\n",
    ")"
   ]
  },
  {
   "cell_type": "code",
   "execution_count": 23,
   "id": "ade5922f",
   "metadata": {
    "ExecuteTime": {
     "end_time": "2022-05-18T14:09:22.755852Z",
     "start_time": "2022-05-18T14:09:22.450126Z"
    },
    "lines_to_next_cell": 2
   },
   "outputs": [
    {
     "data": {
      "text/html": [
       "<div>\n",
       "<style scoped>\n",
       "    .dataframe tbody tr th:only-of-type {\n",
       "        vertical-align: middle;\n",
       "    }\n",
       "\n",
       "    .dataframe tbody tr th {\n",
       "        vertical-align: top;\n",
       "    }\n",
       "\n",
       "    .dataframe thead th {\n",
       "        text-align: right;\n",
       "    }\n",
       "</style>\n",
       "<table border=\"1\" class=\"dataframe\">\n",
       "  <thead>\n",
       "    <tr style=\"text-align: right;\">\n",
       "      <th></th>\n",
       "      <th>open</th>\n",
       "      <th>high</th>\n",
       "      <th>low</th>\n",
       "      <th>close</th>\n",
       "      <th>volume</th>\n",
       "      <th>end_download_timestamp</th>\n",
       "    </tr>\n",
       "    <tr>\n",
       "      <th>timestamp</th>\n",
       "      <th></th>\n",
       "      <th></th>\n",
       "      <th></th>\n",
       "      <th></th>\n",
       "      <th></th>\n",
       "      <th></th>\n",
       "    </tr>\n",
       "  </thead>\n",
       "  <tbody>\n",
       "    <tr>\n",
       "      <th>2020-04-01 00:00:00+00:00</th>\n",
       "      <td>6410.0</td>\n",
       "      <td>6422.5</td>\n",
       "      <td>6410.0</td>\n",
       "      <td>6419.0</td>\n",
       "      <td>0.0</td>\n",
       "      <td>2022-05-18 14:07:12.381197+00:00</td>\n",
       "    </tr>\n",
       "    <tr>\n",
       "      <th>2020-04-01 00:01:00+00:00</th>\n",
       "      <td>6419.0</td>\n",
       "      <td>6421.0</td>\n",
       "      <td>6411.0</td>\n",
       "      <td>6417.0</td>\n",
       "      <td>0.0</td>\n",
       "      <td>2022-05-18 14:07:12.381197+00:00</td>\n",
       "    </tr>\n",
       "    <tr>\n",
       "      <th>2020-04-01 00:02:00+00:00</th>\n",
       "      <td>6417.0</td>\n",
       "      <td>6419.5</td>\n",
       "      <td>6415.5</td>\n",
       "      <td>6418.0</td>\n",
       "      <td>0.0</td>\n",
       "      <td>2022-05-18 14:07:12.381197+00:00</td>\n",
       "    </tr>\n",
       "  </tbody>\n",
       "</table>\n",
       "</div>"
      ],
      "text/plain": [
       "                             open    high     low   close  volume            end_download_timestamp\n",
       "timestamp                                                                                          \n",
       "2020-04-01 00:00:00+00:00  6410.0  6422.5  6410.0  6419.0     0.0  2022-05-18 14:07:12.381197+00:00\n",
       "2020-04-01 00:01:00+00:00  6419.0  6421.0  6411.0  6417.0     0.0  2022-05-18 14:07:12.381197+00:00\n",
       "2020-04-01 00:02:00+00:00  6417.0  6419.5  6415.5  6418.0     0.0  2022-05-18 14:07:12.381197+00:00"
      ]
     },
     "execution_count": 23,
     "metadata": {},
     "output_type": "execute_result"
    }
   ],
   "source": [
    "ccxt_ftx_BTC = _set_index_ts(ccxt_ftx_BTC)\n",
    "ccxt_ftx_BTC = _get_data_for_year_month(ccxt_ftx_BTC, 2020, 4)\n",
    "ccxt_ftx_BTC_volume_0 = _get_data_with_volume_0(ccxt_ftx_BTC)\n",
    "ccxt_ftx_BTC.head(3)"
   ]
  },
  {
   "cell_type": "code",
   "execution_count": 24,
   "id": "4d0fa2bc",
   "metadata": {
    "ExecuteTime": {
     "end_time": "2022-05-18T14:09:22.775798Z",
     "start_time": "2022-05-18T14:09:22.758188Z"
    }
   },
   "outputs": [
    {
     "data": {
      "text/html": [
       "<div>\n",
       "<style scoped>\n",
       "    .dataframe tbody tr th:only-of-type {\n",
       "        vertical-align: middle;\n",
       "    }\n",
       "\n",
       "    .dataframe tbody tr th {\n",
       "        vertical-align: top;\n",
       "    }\n",
       "\n",
       "    .dataframe thead th {\n",
       "        text-align: right;\n",
       "    }\n",
       "</style>\n",
       "<table border=\"1\" class=\"dataframe\">\n",
       "  <thead>\n",
       "    <tr style=\"text-align: right;\">\n",
       "      <th></th>\n",
       "      <th>open</th>\n",
       "      <th>high</th>\n",
       "      <th>low</th>\n",
       "      <th>close</th>\n",
       "      <th>volume</th>\n",
       "      <th>end_download_timestamp</th>\n",
       "    </tr>\n",
       "    <tr>\n",
       "      <th>timestamp</th>\n",
       "      <th></th>\n",
       "      <th></th>\n",
       "      <th></th>\n",
       "      <th></th>\n",
       "      <th></th>\n",
       "      <th></th>\n",
       "    </tr>\n",
       "  </thead>\n",
       "  <tbody>\n",
       "    <tr>\n",
       "      <th>2020-04-24 00:34:00+00:00</th>\n",
       "      <td>7491.5</td>\n",
       "      <td>7493.5</td>\n",
       "      <td>7488.5</td>\n",
       "      <td>7488.5</td>\n",
       "      <td>0.0</td>\n",
       "      <td>2022-05-18 14:08:51.659306+00:00</td>\n",
       "    </tr>\n",
       "    <tr>\n",
       "      <th>2020-04-24 01:41:00+00:00</th>\n",
       "      <td>7492.5</td>\n",
       "      <td>7493.5</td>\n",
       "      <td>7488.0</td>\n",
       "      <td>7490.0</td>\n",
       "      <td>0.0</td>\n",
       "      <td>2022-05-18 14:08:51.659306+00:00</td>\n",
       "    </tr>\n",
       "    <tr>\n",
       "      <th>2020-04-24 02:04:00+00:00</th>\n",
       "      <td>7487.0</td>\n",
       "      <td>7493.5</td>\n",
       "      <td>7487.0</td>\n",
       "      <td>7493.5</td>\n",
       "      <td>0.0</td>\n",
       "      <td>2022-05-18 14:08:51.659306+00:00</td>\n",
       "    </tr>\n",
       "  </tbody>\n",
       "</table>\n",
       "</div>"
      ],
      "text/plain": [
       "                             open    high     low   close  volume            end_download_timestamp\n",
       "timestamp                                                                                          \n",
       "2020-04-24 00:34:00+00:00  7491.5  7493.5  7488.5  7488.5     0.0  2022-05-18 14:08:51.659306+00:00\n",
       "2020-04-24 01:41:00+00:00  7492.5  7493.5  7488.0  7490.0     0.0  2022-05-18 14:08:51.659306+00:00\n",
       "2020-04-24 02:04:00+00:00  7487.0  7493.5  7487.0  7493.5     0.0  2022-05-18 14:08:51.659306+00:00"
      ]
     },
     "execution_count": 24,
     "metadata": {},
     "output_type": "execute_result"
    }
   ],
   "source": [
    "ccxt_ftx_BTC_volume_0.loc[ccxt_ftx_BTC[\"high\"] == 7493.50000000].head(3)"
   ]
  },
  {
   "cell_type": "code",
   "execution_count": 25,
   "id": "97a68fca",
   "metadata": {
    "ExecuteTime": {
     "end_time": "2022-05-18T14:09:22.805748Z",
     "start_time": "2022-05-18T14:09:22.779449Z"
    },
    "scrolled": false
   },
   "outputs": [
    {
     "data": {
      "text/html": [
       "<div>\n",
       "<style scoped>\n",
       "    .dataframe tbody tr th:only-of-type {\n",
       "        vertical-align: middle;\n",
       "    }\n",
       "\n",
       "    .dataframe tbody tr th {\n",
       "        vertical-align: top;\n",
       "    }\n",
       "\n",
       "    .dataframe thead th {\n",
       "        text-align: right;\n",
       "    }\n",
       "</style>\n",
       "<table border=\"1\" class=\"dataframe\">\n",
       "  <thead>\n",
       "    <tr style=\"text-align: right;\">\n",
       "      <th></th>\n",
       "      <th>open</th>\n",
       "      <th>high</th>\n",
       "      <th>low</th>\n",
       "      <th>close</th>\n",
       "      <th>volume</th>\n",
       "      <th>end_download_timestamp</th>\n",
       "    </tr>\n",
       "    <tr>\n",
       "      <th>timestamp</th>\n",
       "      <th></th>\n",
       "      <th></th>\n",
       "      <th></th>\n",
       "      <th></th>\n",
       "      <th></th>\n",
       "      <th></th>\n",
       "    </tr>\n",
       "  </thead>\n",
       "  <tbody>\n",
       "    <tr>\n",
       "      <th>2020-04-25 03:30:00+00:00</th>\n",
       "      <td>7497.0</td>\n",
       "      <td>7500.0</td>\n",
       "      <td>7497.0</td>\n",
       "      <td>7500.0</td>\n",
       "      <td>0.00000</td>\n",
       "      <td>2022-05-18 14:08:56.774049+00:00</td>\n",
       "    </tr>\n",
       "    <tr>\n",
       "      <th>2020-04-25 03:31:00+00:00</th>\n",
       "      <td>7500.0</td>\n",
       "      <td>7518.5</td>\n",
       "      <td>7500.0</td>\n",
       "      <td>7515.5</td>\n",
       "      <td>277272.18765</td>\n",
       "      <td>2022-05-18 14:08:56.774049+00:00</td>\n",
       "    </tr>\n",
       "    <tr>\n",
       "      <th>2020-04-25 03:32:00+00:00</th>\n",
       "      <td>7515.5</td>\n",
       "      <td>7515.5</td>\n",
       "      <td>7509.0</td>\n",
       "      <td>7509.0</td>\n",
       "      <td>0.00000</td>\n",
       "      <td>2022-05-18 14:08:56.774049+00:00</td>\n",
       "    </tr>\n",
       "    <tr>\n",
       "      <th>2020-04-25 03:33:00+00:00</th>\n",
       "      <td>7509.0</td>\n",
       "      <td>7510.5</td>\n",
       "      <td>7507.5</td>\n",
       "      <td>7508.5</td>\n",
       "      <td>0.00000</td>\n",
       "      <td>2022-05-18 14:08:56.774049+00:00</td>\n",
       "    </tr>\n",
       "    <tr>\n",
       "      <th>2020-04-25 03:34:00+00:00</th>\n",
       "      <td>7508.5</td>\n",
       "      <td>7512.5</td>\n",
       "      <td>7505.5</td>\n",
       "      <td>7512.5</td>\n",
       "      <td>60814.80000</td>\n",
       "      <td>2022-05-18 14:08:56.774049+00:00</td>\n",
       "    </tr>\n",
       "    <tr>\n",
       "      <th>2020-04-25 03:35:00+00:00</th>\n",
       "      <td>7512.5</td>\n",
       "      <td>7513.5</td>\n",
       "      <td>7510.5</td>\n",
       "      <td>7512.0</td>\n",
       "      <td>60847.20000</td>\n",
       "      <td>2022-05-18 14:08:56.774049+00:00</td>\n",
       "    </tr>\n",
       "    <tr>\n",
       "      <th>2020-04-25 03:36:00+00:00</th>\n",
       "      <td>7512.0</td>\n",
       "      <td>7513.5</td>\n",
       "      <td>7512.0</td>\n",
       "      <td>7512.0</td>\n",
       "      <td>0.00000</td>\n",
       "      <td>2022-05-18 14:08:56.774049+00:00</td>\n",
       "    </tr>\n",
       "    <tr>\n",
       "      <th>2020-04-25 03:37:00+00:00</th>\n",
       "      <td>7512.0</td>\n",
       "      <td>7514.0</td>\n",
       "      <td>7511.5</td>\n",
       "      <td>7511.5</td>\n",
       "      <td>0.00000</td>\n",
       "      <td>2022-05-18 14:08:56.774049+00:00</td>\n",
       "    </tr>\n",
       "    <tr>\n",
       "      <th>2020-04-25 03:38:00+00:00</th>\n",
       "      <td>7511.5</td>\n",
       "      <td>7512.0</td>\n",
       "      <td>7511.0</td>\n",
       "      <td>7511.5</td>\n",
       "      <td>9.76430</td>\n",
       "      <td>2022-05-18 14:08:56.774049+00:00</td>\n",
       "    </tr>\n",
       "    <tr>\n",
       "      <th>2020-04-25 03:39:00+00:00</th>\n",
       "      <td>7511.5</td>\n",
       "      <td>7513.5</td>\n",
       "      <td>7511.0</td>\n",
       "      <td>7511.0</td>\n",
       "      <td>0.00000</td>\n",
       "      <td>2022-05-18 14:08:56.774049+00:00</td>\n",
       "    </tr>\n",
       "    <tr>\n",
       "      <th>2020-04-25 03:40:00+00:00</th>\n",
       "      <td>7511.0</td>\n",
       "      <td>7511.0</td>\n",
       "      <td>7510.0</td>\n",
       "      <td>7511.0</td>\n",
       "      <td>0.00000</td>\n",
       "      <td>2022-05-18 14:08:56.774049+00:00</td>\n",
       "    </tr>\n",
       "    <tr>\n",
       "      <th>2020-04-25 03:41:00+00:00</th>\n",
       "      <td>7511.0</td>\n",
       "      <td>7511.0</td>\n",
       "      <td>7511.0</td>\n",
       "      <td>7511.0</td>\n",
       "      <td>0.00000</td>\n",
       "      <td>2022-05-18 14:08:56.774049+00:00</td>\n",
       "    </tr>\n",
       "    <tr>\n",
       "      <th>2020-04-25 03:42:00+00:00</th>\n",
       "      <td>7511.0</td>\n",
       "      <td>7511.0</td>\n",
       "      <td>7511.0</td>\n",
       "      <td>7511.0</td>\n",
       "      <td>0.00000</td>\n",
       "      <td>2022-05-18 14:08:56.774049+00:00</td>\n",
       "    </tr>\n",
       "  </tbody>\n",
       "</table>\n",
       "</div>"
      ],
      "text/plain": [
       "                             open    high     low   close        volume            end_download_timestamp\n",
       "timestamp                                                                                                \n",
       "2020-04-25 03:30:00+00:00  7497.0  7500.0  7497.0  7500.0       0.00000  2022-05-18 14:08:56.774049+00:00\n",
       "2020-04-25 03:31:00+00:00  7500.0  7518.5  7500.0  7515.5  277272.18765  2022-05-18 14:08:56.774049+00:00\n",
       "2020-04-25 03:32:00+00:00  7515.5  7515.5  7509.0  7509.0       0.00000  2022-05-18 14:08:56.774049+00:00\n",
       "2020-04-25 03:33:00+00:00  7509.0  7510.5  7507.5  7508.5       0.00000  2022-05-18 14:08:56.774049+00:00\n",
       "2020-04-25 03:34:00+00:00  7508.5  7512.5  7505.5  7512.5   60814.80000  2022-05-18 14:08:56.774049+00:00\n",
       "2020-04-25 03:35:00+00:00  7512.5  7513.5  7510.5  7512.0   60847.20000  2022-05-18 14:08:56.774049+00:00\n",
       "2020-04-25 03:36:00+00:00  7512.0  7513.5  7512.0  7512.0       0.00000  2022-05-18 14:08:56.774049+00:00\n",
       "2020-04-25 03:37:00+00:00  7512.0  7514.0  7511.5  7511.5       0.00000  2022-05-18 14:08:56.774049+00:00\n",
       "2020-04-25 03:38:00+00:00  7511.5  7512.0  7511.0  7511.5       9.76430  2022-05-18 14:08:56.774049+00:00\n",
       "2020-04-25 03:39:00+00:00  7511.5  7513.5  7511.0  7511.0       0.00000  2022-05-18 14:08:56.774049+00:00\n",
       "2020-04-25 03:40:00+00:00  7511.0  7511.0  7510.0  7511.0       0.00000  2022-05-18 14:08:56.774049+00:00\n",
       "2020-04-25 03:41:00+00:00  7511.0  7511.0  7511.0  7511.0       0.00000  2022-05-18 14:08:56.774049+00:00\n",
       "2020-04-25 03:42:00+00:00  7511.0  7511.0  7511.0  7511.0       0.00000  2022-05-18 14:08:56.774049+00:00"
      ]
     },
     "execution_count": 25,
     "metadata": {},
     "output_type": "execute_result"
    }
   ],
   "source": [
    "ccxt_ftx_BTC.loc[(ccxt_ftx_BTC.index.day == 25) & (ccxt_ftx_BTC.index.hour == 3)][\n",
    "    30:43\n",
    "]"
   ]
  },
  {
   "cell_type": "markdown",
   "id": "541798b3",
   "metadata": {},
   "source": [
    "## CCXT w/o Extractor"
   ]
  },
  {
   "cell_type": "code",
   "execution_count": 68,
   "id": "0728d4c9",
   "metadata": {
    "ExecuteTime": {
     "end_time": "2022-05-18T17:04:17.844013Z",
     "start_time": "2022-05-18T16:43:32.689185Z"
    }
   },
   "outputs": [
    {
     "name": "stdout",
     "output_type": "stream",
     "text": [
      "43200\n"
     ]
    },
    {
     "data": {
      "text/html": [
       "<div>\n",
       "<style scoped>\n",
       "    .dataframe tbody tr th:only-of-type {\n",
       "        vertical-align: middle;\n",
       "    }\n",
       "\n",
       "    .dataframe tbody tr th {\n",
       "        vertical-align: top;\n",
       "    }\n",
       "\n",
       "    .dataframe thead th {\n",
       "        text-align: right;\n",
       "    }\n",
       "</style>\n",
       "<table border=\"1\" class=\"dataframe\">\n",
       "  <thead>\n",
       "    <tr style=\"text-align: right;\">\n",
       "      <th></th>\n",
       "      <th>open</th>\n",
       "      <th>high</th>\n",
       "      <th>low</th>\n",
       "      <th>close</th>\n",
       "      <th>volume</th>\n",
       "    </tr>\n",
       "    <tr>\n",
       "      <th>timestamp</th>\n",
       "      <th></th>\n",
       "      <th></th>\n",
       "      <th></th>\n",
       "      <th></th>\n",
       "      <th></th>\n",
       "    </tr>\n",
       "  </thead>\n",
       "  <tbody>\n",
       "    <tr>\n",
       "      <th>2020-04-01 00:00:00+00:00</th>\n",
       "      <td>6410.0</td>\n",
       "      <td>6422.5</td>\n",
       "      <td>6410.0</td>\n",
       "      <td>6419.0</td>\n",
       "      <td>0.0</td>\n",
       "    </tr>\n",
       "    <tr>\n",
       "      <th>2020-04-01 00:01:00+00:00</th>\n",
       "      <td>6419.0</td>\n",
       "      <td>6421.0</td>\n",
       "      <td>6411.0</td>\n",
       "      <td>6417.0</td>\n",
       "      <td>0.0</td>\n",
       "    </tr>\n",
       "    <tr>\n",
       "      <th>2020-04-01 00:02:00+00:00</th>\n",
       "      <td>6417.0</td>\n",
       "      <td>6419.5</td>\n",
       "      <td>6415.5</td>\n",
       "      <td>6418.0</td>\n",
       "      <td>0.0</td>\n",
       "    </tr>\n",
       "  </tbody>\n",
       "</table>\n",
       "</div>"
      ],
      "text/plain": [
       "                             open    high     low   close  volume\n",
       "timestamp                                                        \n",
       "2020-04-01 00:00:00+00:00  6410.0  6422.5  6410.0  6419.0     0.0\n",
       "2020-04-01 00:01:00+00:00  6419.0  6421.0  6411.0  6417.0     0.0\n",
       "2020-04-01 00:02:00+00:00  6417.0  6419.5  6415.5  6418.0     0.0"
      ]
     },
     "metadata": {},
     "output_type": "display_data"
    }
   ],
   "source": [
    "ccxt_exchange_ftx = _log_into_exchange(\"ftx\")\n",
    "start_ts = pd.Timestamp(\"2020-04-01 00:00:00+00:00\")\n",
    "end_ts = pd.Timestamp(\"2020-04-30 23:59:59+00:00\")\n",
    "ccxt_df_ftx = _get_ccxt_ohlcv_data(\n",
    "    ccxt_exchange_ftx, currency_pair_ftx, start_ts, end_ts\n",
    ")\n",
    "ccxt_df_ftx = _set_index_ts(ccxt_df_ftx)\n",
    "ccxt_df_ftx = _get_data_for_year_month(ccxt_df_ftx, 2020, 4)\n",
    "ccxt_df_ftx_volume_0 = _get_data_with_volume_0(ccxt_df_ftx)\n",
    "print(len(ccxt_df_ftx.index.unique()))\n",
    "display(ccxt_df_ftx.head(3))"
   ]
  },
  {
   "cell_type": "markdown",
   "id": "cb7268ef",
   "metadata": {},
   "source": [
    "\n",
    "|CCXT | | ||            Extractor    | | | |Client | | |\n",
    "|------|--|-||-------------|-|-|-|------|-|-|\n",
    "|date|Number of NaN rows %|    Total number of rows| `volume=0` %    |Number of NaN rows %|    Total number of rows| `volume=0` %| Number of NaN rows %|    Total number of rows| `volume=0` %|\n",
    "|2020-04|    0          |                       429750|          86.09%       |    0          |                       43200|          85.97%   |      0|                43200| 85.97%|\n"
   ]
  },
  {
   "cell_type": "markdown",
   "id": "48dd9ab2",
   "metadata": {},
   "source": [
    "Values in `volume = 0` rows change and don't have the same pattern as binance."
   ]
  },
  {
   "cell_type": "markdown",
   "id": "10a5f26c",
   "metadata": {},
   "source": [
    "# gateio::ETH_USDT w/o `volume = 0` in data"
   ]
  },
  {
   "cell_type": "markdown",
   "id": "dcb9b037",
   "metadata": {},
   "source": [
    "Data from `gateio` has NaN spikes in September, October and November in 2021."
   ]
  },
  {
   "cell_type": "markdown",
   "id": "14b1b494",
   "metadata": {},
   "source": [
    "## Client"
   ]
  },
  {
   "cell_type": "code",
   "execution_count": 31,
   "id": "0f6ff229",
   "metadata": {
    "ExecuteTime": {
     "end_time": "2022-05-18T15:02:35.468052Z",
     "start_time": "2022-05-18T15:02:32.446709Z"
    },
    "scrolled": true
   },
   "outputs": [],
   "source": [
    "full_symbols_gateio = [\"gateio::ETH_USDT\", \"gateio::ADA_USDT\"]\n",
    "gateio_data = client.read_data(\n",
    "    [full_symbols_gateio[0]],\n",
    "    config[\"data\"][\"start_ts\"],\n",
    "    config[\"data\"][\"end_ts\"],\n",
    "    config[\"data\"][\"columns\"],\n",
    "    config[\"data\"][\"filter_data_mode\"],\n",
    ")"
   ]
  },
  {
   "cell_type": "markdown",
   "id": "8442fbd6",
   "metadata": {},
   "source": [
    "### October 2021 - 100% of `NaNs`"
   ]
  },
  {
   "cell_type": "code",
   "execution_count": 32,
   "id": "4058d004",
   "metadata": {
    "ExecuteTime": {
     "end_time": "2022-05-18T15:02:35.935531Z",
     "start_time": "2022-05-18T15:02:35.846206Z"
    }
   },
   "outputs": [
    {
     "data": {
      "text/html": [
       "<div>\n",
       "<style scoped>\n",
       "    .dataframe tbody tr th:only-of-type {\n",
       "        vertical-align: middle;\n",
       "    }\n",
       "\n",
       "    .dataframe tbody tr th {\n",
       "        vertical-align: top;\n",
       "    }\n",
       "\n",
       "    .dataframe thead th {\n",
       "        text-align: right;\n",
       "    }\n",
       "</style>\n",
       "<table border=\"1\" class=\"dataframe\">\n",
       "  <thead>\n",
       "    <tr style=\"text-align: right;\">\n",
       "      <th></th>\n",
       "      <th>full_symbol</th>\n",
       "      <th>open</th>\n",
       "      <th>high</th>\n",
       "      <th>low</th>\n",
       "      <th>close</th>\n",
       "      <th>volume</th>\n",
       "    </tr>\n",
       "    <tr>\n",
       "      <th>timestamp</th>\n",
       "      <th></th>\n",
       "      <th></th>\n",
       "      <th></th>\n",
       "      <th></th>\n",
       "      <th></th>\n",
       "      <th></th>\n",
       "    </tr>\n",
       "  </thead>\n",
       "  <tbody>\n",
       "    <tr>\n",
       "      <th>2021-10-01 00:00:00+00:00</th>\n",
       "      <td>gateio::ETH_USDT</td>\n",
       "      <td>NaN</td>\n",
       "      <td>NaN</td>\n",
       "      <td>NaN</td>\n",
       "      <td>NaN</td>\n",
       "      <td>NaN</td>\n",
       "    </tr>\n",
       "    <tr>\n",
       "      <th>2021-10-01 00:01:00+00:00</th>\n",
       "      <td>gateio::ETH_USDT</td>\n",
       "      <td>NaN</td>\n",
       "      <td>NaN</td>\n",
       "      <td>NaN</td>\n",
       "      <td>NaN</td>\n",
       "      <td>NaN</td>\n",
       "    </tr>\n",
       "    <tr>\n",
       "      <th>2021-10-01 00:02:00+00:00</th>\n",
       "      <td>gateio::ETH_USDT</td>\n",
       "      <td>NaN</td>\n",
       "      <td>NaN</td>\n",
       "      <td>NaN</td>\n",
       "      <td>NaN</td>\n",
       "      <td>NaN</td>\n",
       "    </tr>\n",
       "  </tbody>\n",
       "</table>\n",
       "</div>"
      ],
      "text/plain": [
       "                                full_symbol  open  high  low  close  volume\n",
       "timestamp                                                                  \n",
       "2021-10-01 00:00:00+00:00  gateio::ETH_USDT   NaN   NaN  NaN    NaN     NaN\n",
       "2021-10-01 00:01:00+00:00  gateio::ETH_USDT   NaN   NaN  NaN    NaN     NaN\n",
       "2021-10-01 00:02:00+00:00  gateio::ETH_USDT   NaN   NaN  NaN    NaN     NaN"
      ]
     },
     "execution_count": 32,
     "metadata": {},
     "output_type": "execute_result"
    }
   ],
   "source": [
    "gateio_data_2021_10 = _get_data_for_year_month(gateio_data, 2021, 10)\n",
    "gateio_data_2021_10.head(3)"
   ]
  },
  {
   "cell_type": "code",
   "execution_count": 33,
   "id": "5fe90e4d",
   "metadata": {
    "ExecuteTime": {
     "end_time": "2022-05-18T15:02:41.584737Z",
     "start_time": "2022-05-18T15:02:41.556477Z"
    }
   },
   "outputs": [
    {
     "data": {
      "text/plain": [
       "full_symbol  open  high  low   close  volume\n",
       "False        True  True  True  True   True      44640\n",
       "dtype: int64"
      ]
     },
     "execution_count": 33,
     "metadata": {},
     "output_type": "execute_result"
    }
   ],
   "source": [
    "gateio_data_2021_10.isna().value_counts()"
   ]
  },
  {
   "cell_type": "markdown",
   "id": "19cec1f8",
   "metadata": {},
   "source": [
    "### 34.46% of `NaNs`"
   ]
  },
  {
   "cell_type": "code",
   "execution_count": 35,
   "id": "65f1c9d6",
   "metadata": {
    "ExecuteTime": {
     "end_time": "2022-05-18T15:02:54.214976Z",
     "start_time": "2022-05-18T15:02:54.111278Z"
    }
   },
   "outputs": [
    {
     "data": {
      "text/html": [
       "<div>\n",
       "<style scoped>\n",
       "    .dataframe tbody tr th:only-of-type {\n",
       "        vertical-align: middle;\n",
       "    }\n",
       "\n",
       "    .dataframe tbody tr th {\n",
       "        vertical-align: top;\n",
       "    }\n",
       "\n",
       "    .dataframe thead th {\n",
       "        text-align: right;\n",
       "    }\n",
       "</style>\n",
       "<table border=\"1\" class=\"dataframe\">\n",
       "  <thead>\n",
       "    <tr style=\"text-align: right;\">\n",
       "      <th></th>\n",
       "      <th>full_symbol</th>\n",
       "      <th>open</th>\n",
       "      <th>high</th>\n",
       "      <th>low</th>\n",
       "      <th>close</th>\n",
       "      <th>volume</th>\n",
       "    </tr>\n",
       "    <tr>\n",
       "      <th>timestamp</th>\n",
       "      <th></th>\n",
       "      <th></th>\n",
       "      <th></th>\n",
       "      <th></th>\n",
       "      <th></th>\n",
       "      <th></th>\n",
       "    </tr>\n",
       "  </thead>\n",
       "  <tbody>\n",
       "    <tr>\n",
       "      <th>2021-09-01 00:00:00+00:00</th>\n",
       "      <td>gateio::ETH_USDT</td>\n",
       "      <td>3428.86</td>\n",
       "      <td>3429.16</td>\n",
       "      <td>3417.40</td>\n",
       "      <td>3418.100000</td>\n",
       "      <td>60825.830384</td>\n",
       "    </tr>\n",
       "    <tr>\n",
       "      <th>2021-09-01 00:01:00+00:00</th>\n",
       "      <td>gateio::ETH_USDT</td>\n",
       "      <td>3417.89</td>\n",
       "      <td>3421.68</td>\n",
       "      <td>3416.13</td>\n",
       "      <td>3418.180000</td>\n",
       "      <td>75574.610423</td>\n",
       "    </tr>\n",
       "    <tr>\n",
       "      <th>2021-09-01 00:02:00+00:00</th>\n",
       "      <td>gateio::ETH_USDT</td>\n",
       "      <td>3418.74</td>\n",
       "      <td>3419.99</td>\n",
       "      <td>3407.96</td>\n",
       "      <td>3408.506591</td>\n",
       "      <td>66806.841250</td>\n",
       "    </tr>\n",
       "  </tbody>\n",
       "</table>\n",
       "</div>"
      ],
      "text/plain": [
       "                                full_symbol     open     high      low        close        volume\n",
       "timestamp                                                                                        \n",
       "2021-09-01 00:00:00+00:00  gateio::ETH_USDT  3428.86  3429.16  3417.40  3418.100000  60825.830384\n",
       "2021-09-01 00:01:00+00:00  gateio::ETH_USDT  3417.89  3421.68  3416.13  3418.180000  75574.610423\n",
       "2021-09-01 00:02:00+00:00  gateio::ETH_USDT  3418.74  3419.99  3407.96  3408.506591  66806.841250"
      ]
     },
     "execution_count": 35,
     "metadata": {},
     "output_type": "execute_result"
    }
   ],
   "source": [
    "gateio_data_2021_09 = _get_data_for_year_month(gateio_data, 2021, 9)\n",
    "gateio_data_2021_09.head(3)"
   ]
  },
  {
   "cell_type": "code",
   "execution_count": 36,
   "id": "f12c7123",
   "metadata": {
    "ExecuteTime": {
     "end_time": "2022-05-18T15:02:55.167492Z",
     "start_time": "2022-05-18T15:02:55.138454Z"
    }
   },
   "outputs": [
    {
     "data": {
      "text/plain": [
       "full_symbol  open   high   low    close  volume\n",
       "False        False  False  False  False  False     28314\n",
       "             True   True   True   True   True      14886\n",
       "dtype: int64"
      ]
     },
     "execution_count": 36,
     "metadata": {},
     "output_type": "execute_result"
    }
   ],
   "source": [
    "gateio_data_2021_09.isna().value_counts()"
   ]
  },
  {
   "cell_type": "markdown",
   "id": "e7842b09",
   "metadata": {},
   "source": [
    "### No `NaNs`"
   ]
  },
  {
   "cell_type": "code",
   "execution_count": 37,
   "id": "8796d47f",
   "metadata": {
    "ExecuteTime": {
     "end_time": "2022-05-18T15:03:00.272689Z",
     "start_time": "2022-05-18T15:03:00.178925Z"
    },
    "scrolled": false
   },
   "outputs": [
    {
     "data": {
      "text/html": [
       "<div>\n",
       "<style scoped>\n",
       "    .dataframe tbody tr th:only-of-type {\n",
       "        vertical-align: middle;\n",
       "    }\n",
       "\n",
       "    .dataframe tbody tr th {\n",
       "        vertical-align: top;\n",
       "    }\n",
       "\n",
       "    .dataframe thead th {\n",
       "        text-align: right;\n",
       "    }\n",
       "</style>\n",
       "<table border=\"1\" class=\"dataframe\">\n",
       "  <thead>\n",
       "    <tr style=\"text-align: right;\">\n",
       "      <th></th>\n",
       "      <th>full_symbol</th>\n",
       "      <th>open</th>\n",
       "      <th>high</th>\n",
       "      <th>low</th>\n",
       "      <th>close</th>\n",
       "      <th>volume</th>\n",
       "    </tr>\n",
       "    <tr>\n",
       "      <th>timestamp</th>\n",
       "      <th></th>\n",
       "      <th></th>\n",
       "      <th></th>\n",
       "      <th></th>\n",
       "      <th></th>\n",
       "      <th></th>\n",
       "    </tr>\n",
       "  </thead>\n",
       "  <tbody>\n",
       "    <tr>\n",
       "      <th>2021-12-01 00:00:00+00:00</th>\n",
       "      <td>gateio::ETH_USDT</td>\n",
       "      <td>4629.99</td>\n",
       "      <td>4632.10</td>\n",
       "      <td>4616.58</td>\n",
       "      <td>4616.77</td>\n",
       "      <td>245362.324425</td>\n",
       "    </tr>\n",
       "    <tr>\n",
       "      <th>2021-12-01 00:01:00+00:00</th>\n",
       "      <td>gateio::ETH_USDT</td>\n",
       "      <td>4616.59</td>\n",
       "      <td>4618.73</td>\n",
       "      <td>4606.01</td>\n",
       "      <td>4607.25</td>\n",
       "      <td>127593.364191</td>\n",
       "    </tr>\n",
       "    <tr>\n",
       "      <th>2021-12-01 00:02:00+00:00</th>\n",
       "      <td>gateio::ETH_USDT</td>\n",
       "      <td>4607.42</td>\n",
       "      <td>4614.05</td>\n",
       "      <td>4602.99</td>\n",
       "      <td>4604.49</td>\n",
       "      <td>436587.493125</td>\n",
       "    </tr>\n",
       "  </tbody>\n",
       "</table>\n",
       "</div>"
      ],
      "text/plain": [
       "                                full_symbol     open     high      low    close         volume\n",
       "timestamp                                                                                     \n",
       "2021-12-01 00:00:00+00:00  gateio::ETH_USDT  4629.99  4632.10  4616.58  4616.77  245362.324425\n",
       "2021-12-01 00:01:00+00:00  gateio::ETH_USDT  4616.59  4618.73  4606.01  4607.25  127593.364191\n",
       "2021-12-01 00:02:00+00:00  gateio::ETH_USDT  4607.42  4614.05  4602.99  4604.49  436587.493125"
      ]
     },
     "execution_count": 37,
     "metadata": {},
     "output_type": "execute_result"
    }
   ],
   "source": [
    "gateio_data.loc[\n",
    "    (gateio_data.index.year == 2021) & (gateio_data.index.month == 12)\n",
    "].head(3)"
   ]
  },
  {
   "cell_type": "markdown",
   "id": "616bb530",
   "metadata": {},
   "source": [
    "## Extractor"
   ]
  },
  {
   "cell_type": "code",
   "execution_count": 38,
   "id": "c1258435",
   "metadata": {
    "ExecuteTime": {
     "end_time": "2022-05-18T15:04:54.865356Z",
     "start_time": "2022-05-18T15:03:03.047064Z"
    }
   },
   "outputs": [
    {
     "name": "stderr",
     "output_type": "stream",
     "text": [
      "100%|██████████████████████████████████████████████████████████████████████████████████████████████████████████████████████| 87/87 [01:49<00:00,  1.26s/it]\n"
     ]
    }
   ],
   "source": [
    "ccxt_gateio_exchange = imvcdeexcl.CcxtExchange(\"gateio\")\n",
    "currency_pair_gateio = [\"ETH/USDT\", \"ADA/USDT\"]\n",
    "start_timestamp = pd.Timestamp(\"2021-09-01 00:00:00+00:00\")\n",
    "end_timestamp = pd.Timestamp(\"2021-09-30 23:59:59+00:00\")\n",
    "sleep_time_in_secs = 1\n",
    "ccxt_gateio_ETH = ccxt_gateio_exchange.download_ohlcv_data(\n",
    "    currency_pair_gateio[0],\n",
    "    start_timestamp=start_timestamp,\n",
    "    end_timestamp=end_timestamp,\n",
    "    sleep_time_in_secs=sleep_time_in_secs,\n",
    ")"
   ]
  },
  {
   "cell_type": "code",
   "execution_count": 39,
   "id": "6399f295",
   "metadata": {
    "ExecuteTime": {
     "end_time": "2022-05-18T15:04:54.875639Z",
     "start_time": "2022-05-18T15:04:54.868054Z"
    }
   },
   "outputs": [
    {
     "data": {
      "text/html": [
       "<div>\n",
       "<style scoped>\n",
       "    .dataframe tbody tr th:only-of-type {\n",
       "        vertical-align: middle;\n",
       "    }\n",
       "\n",
       "    .dataframe tbody tr th {\n",
       "        vertical-align: top;\n",
       "    }\n",
       "\n",
       "    .dataframe thead th {\n",
       "        text-align: right;\n",
       "    }\n",
       "</style>\n",
       "<table border=\"1\" class=\"dataframe\">\n",
       "  <thead>\n",
       "    <tr style=\"text-align: right;\">\n",
       "      <th></th>\n",
       "      <th>timestamp</th>\n",
       "      <th>open</th>\n",
       "      <th>high</th>\n",
       "      <th>low</th>\n",
       "      <th>close</th>\n",
       "      <th>volume</th>\n",
       "      <th>end_download_timestamp</th>\n",
       "    </tr>\n",
       "  </thead>\n",
       "  <tbody>\n",
       "  </tbody>\n",
       "</table>\n",
       "</div>"
      ],
      "text/plain": [
       "Empty DataFrame\n",
       "Columns: [timestamp, open, high, low, close, volume, end_download_timestamp]\n",
       "Index: []"
      ]
     },
     "execution_count": 39,
     "metadata": {},
     "output_type": "execute_result"
    }
   ],
   "source": [
    "ccxt_gateio_ETH"
   ]
  },
  {
   "cell_type": "code",
   "execution_count": 41,
   "id": "d5ba4bec",
   "metadata": {
    "ExecuteTime": {
     "end_time": "2022-05-18T15:10:33.085113Z",
     "start_time": "2022-05-18T15:08:38.890635Z"
    }
   },
   "outputs": [
    {
     "name": "stderr",
     "output_type": "stream",
     "text": [
      "100%|██████████████████████████████████████████████████████████████████████████████████████████████████████████████████████| 90/90 [01:54<00:00,  1.27s/it]\n"
     ]
    }
   ],
   "source": [
    "start_timestamp = pd.Timestamp(\"2021-10-01 00:00:00+00:00\")\n",
    "end_timestamp = pd.Timestamp(\"2021-10-31 23:59:59+00:00\")\n",
    "sleep_time_in_secs = 1\n",
    "ccxt_gateio_ETH_10 = ccxt_gateio_exchange.download_ohlcv_data(\n",
    "    currency_pair_gateio[0],\n",
    "    start_timestamp=start_timestamp,\n",
    "    end_timestamp=end_timestamp,\n",
    "    sleep_time_in_secs=sleep_time_in_secs,\n",
    ")"
   ]
  },
  {
   "cell_type": "code",
   "execution_count": 42,
   "id": "47662527",
   "metadata": {
    "ExecuteTime": {
     "end_time": "2022-05-18T15:10:33.095767Z",
     "start_time": "2022-05-18T15:10:33.087854Z"
    }
   },
   "outputs": [
    {
     "data": {
      "text/html": [
       "<div>\n",
       "<style scoped>\n",
       "    .dataframe tbody tr th:only-of-type {\n",
       "        vertical-align: middle;\n",
       "    }\n",
       "\n",
       "    .dataframe tbody tr th {\n",
       "        vertical-align: top;\n",
       "    }\n",
       "\n",
       "    .dataframe thead th {\n",
       "        text-align: right;\n",
       "    }\n",
       "</style>\n",
       "<table border=\"1\" class=\"dataframe\">\n",
       "  <thead>\n",
       "    <tr style=\"text-align: right;\">\n",
       "      <th></th>\n",
       "      <th>timestamp</th>\n",
       "      <th>open</th>\n",
       "      <th>high</th>\n",
       "      <th>low</th>\n",
       "      <th>close</th>\n",
       "      <th>volume</th>\n",
       "      <th>end_download_timestamp</th>\n",
       "    </tr>\n",
       "  </thead>\n",
       "  <tbody>\n",
       "  </tbody>\n",
       "</table>\n",
       "</div>"
      ],
      "text/plain": [
       "Empty DataFrame\n",
       "Columns: [timestamp, open, high, low, close, volume, end_download_timestamp]\n",
       "Index: []"
      ]
     },
     "execution_count": 42,
     "metadata": {},
     "output_type": "execute_result"
    }
   ],
   "source": [
    "ccxt_gateio_ETH_10"
   ]
  },
  {
   "cell_type": "code",
   "execution_count": 43,
   "id": "8d921ba7",
   "metadata": {
    "ExecuteTime": {
     "end_time": "2022-05-18T15:12:43.462638Z",
     "start_time": "2022-05-18T15:10:50.022625Z"
    }
   },
   "outputs": [
    {
     "name": "stderr",
     "output_type": "stream",
     "text": [
      "100%|██████████████████████████████████████████████████████████████████████████████████████████████████████████████████████| 90/90 [01:53<00:00,  1.26s/it]\n"
     ]
    }
   ],
   "source": [
    "start_timestamp = pd.Timestamp(\"2021-12-01 00:00:00+00:00\")\n",
    "end_timestamp = pd.Timestamp(\"2021-12-31 23:59:59+00:00\")\n",
    "sleep_time_in_secs = 1\n",
    "ccxt_gateio_ETH_12 = ccxt_gateio_exchange.download_ohlcv_data(\n",
    "    currency_pair_gateio[0],\n",
    "    start_timestamp=start_timestamp,\n",
    "    end_timestamp=end_timestamp,\n",
    "    sleep_time_in_secs=sleep_time_in_secs,\n",
    ")"
   ]
  },
  {
   "cell_type": "code",
   "execution_count": 44,
   "id": "d9699e92",
   "metadata": {
    "ExecuteTime": {
     "end_time": "2022-05-18T15:12:43.471794Z",
     "start_time": "2022-05-18T15:12:43.464836Z"
    }
   },
   "outputs": [
    {
     "data": {
      "text/html": [
       "<div>\n",
       "<style scoped>\n",
       "    .dataframe tbody tr th:only-of-type {\n",
       "        vertical-align: middle;\n",
       "    }\n",
       "\n",
       "    .dataframe tbody tr th {\n",
       "        vertical-align: top;\n",
       "    }\n",
       "\n",
       "    .dataframe thead th {\n",
       "        text-align: right;\n",
       "    }\n",
       "</style>\n",
       "<table border=\"1\" class=\"dataframe\">\n",
       "  <thead>\n",
       "    <tr style=\"text-align: right;\">\n",
       "      <th></th>\n",
       "      <th>timestamp</th>\n",
       "      <th>open</th>\n",
       "      <th>high</th>\n",
       "      <th>low</th>\n",
       "      <th>close</th>\n",
       "      <th>volume</th>\n",
       "      <th>end_download_timestamp</th>\n",
       "    </tr>\n",
       "  </thead>\n",
       "  <tbody>\n",
       "  </tbody>\n",
       "</table>\n",
       "</div>"
      ],
      "text/plain": [
       "Empty DataFrame\n",
       "Columns: [timestamp, open, high, low, close, volume, end_download_timestamp]\n",
       "Index: []"
      ]
     },
     "execution_count": 44,
     "metadata": {},
     "output_type": "execute_result"
    }
   ],
   "source": [
    "ccxt_gateio_ETH_12"
   ]
  },
  {
   "cell_type": "markdown",
   "id": "786d4f8c",
   "metadata": {},
   "source": [
    "Empty datasets are returned for the dates earlier than December 2021. Probably data is accessible only for a certain amount of time, e.g., 1 year."
   ]
  },
  {
   "cell_type": "code",
   "execution_count": 45,
   "id": "d03dec1b",
   "metadata": {
    "ExecuteTime": {
     "end_time": "2022-05-18T15:14:19.567463Z",
     "start_time": "2022-05-18T15:13:05.131914Z"
    }
   },
   "outputs": [
    {
     "name": "stderr",
     "output_type": "stream",
     "text": [
      "100%|██████████████████████████████████████████████████████████████████████████████████████████████████████████████████████| 58/58 [01:14<00:00,  1.28s/it]\n"
     ]
    }
   ],
   "source": [
    "# Load recent data to make sure API and Exctractor are working.\n",
    "start_timestamp = pd.Timestamp(\"2022-04-25 00:00:00+00:00\")\n",
    "end_timestamp = pd.Timestamp(\"2022-05-14 23:59:59+00:00\")\n",
    "sleep_time_in_secs = 1\n",
    "ccxt_gateio_ETH_2022 = ccxt_gateio_exchange.download_ohlcv_data(\n",
    "    currency_pair_gateio[0],\n",
    "    start_timestamp=start_timestamp,\n",
    "    end_timestamp=end_timestamp,\n",
    "    sleep_time_in_secs=sleep_time_in_secs,\n",
    ")"
   ]
  },
  {
   "cell_type": "code",
   "execution_count": 46,
   "id": "d214303f",
   "metadata": {
    "ExecuteTime": {
     "end_time": "2022-05-18T15:14:19.584993Z",
     "start_time": "2022-05-18T15:14:19.570844Z"
    }
   },
   "outputs": [
    {
     "data": {
      "text/html": [
       "<div>\n",
       "<style scoped>\n",
       "    .dataframe tbody tr th:only-of-type {\n",
       "        vertical-align: middle;\n",
       "    }\n",
       "\n",
       "    .dataframe tbody tr th {\n",
       "        vertical-align: top;\n",
       "    }\n",
       "\n",
       "    .dataframe thead th {\n",
       "        text-align: right;\n",
       "    }\n",
       "</style>\n",
       "<table border=\"1\" class=\"dataframe\">\n",
       "  <thead>\n",
       "    <tr style=\"text-align: right;\">\n",
       "      <th></th>\n",
       "      <th>timestamp</th>\n",
       "      <th>open</th>\n",
       "      <th>high</th>\n",
       "      <th>low</th>\n",
       "      <th>close</th>\n",
       "      <th>volume</th>\n",
       "      <th>end_download_timestamp</th>\n",
       "    </tr>\n",
       "  </thead>\n",
       "  <tbody>\n",
       "    <tr>\n",
       "      <th>0</th>\n",
       "      <td>1650844800000</td>\n",
       "      <td>2920.97</td>\n",
       "      <td>2924.54</td>\n",
       "      <td>2919.81</td>\n",
       "      <td>2924.54</td>\n",
       "      <td>69040.066928</td>\n",
       "      <td>2022-05-18 15:13:05.656362+00:00</td>\n",
       "    </tr>\n",
       "    <tr>\n",
       "      <th>1</th>\n",
       "      <td>1650844860000</td>\n",
       "      <td>2924.54</td>\n",
       "      <td>2926.13</td>\n",
       "      <td>2923.59</td>\n",
       "      <td>2923.93</td>\n",
       "      <td>29546.298121</td>\n",
       "      <td>2022-05-18 15:13:05.656362+00:00</td>\n",
       "    </tr>\n",
       "    <tr>\n",
       "      <th>2</th>\n",
       "      <td>1650844920000</td>\n",
       "      <td>2924.03</td>\n",
       "      <td>2924.75</td>\n",
       "      <td>2921.06</td>\n",
       "      <td>2921.06</td>\n",
       "      <td>57124.841251</td>\n",
       "      <td>2022-05-18 15:13:05.656362+00:00</td>\n",
       "    </tr>\n",
       "  </tbody>\n",
       "</table>\n",
       "</div>"
      ],
      "text/plain": [
       "       timestamp     open     high      low    close        volume            end_download_timestamp\n",
       "0  1650844800000  2920.97  2924.54  2919.81  2924.54  69040.066928  2022-05-18 15:13:05.656362+00:00\n",
       "1  1650844860000  2924.54  2926.13  2923.59  2923.93  29546.298121  2022-05-18 15:13:05.656362+00:00\n",
       "2  1650844920000  2924.03  2924.75  2921.06  2921.06  57124.841251  2022-05-18 15:13:05.656362+00:00"
      ]
     },
     "execution_count": 46,
     "metadata": {},
     "output_type": "execute_result"
    }
   ],
   "source": [
    "ccxt_gateio_ETH_2022.head(3)"
   ]
  },
  {
   "cell_type": "markdown",
   "id": "3de1c111",
   "metadata": {},
   "source": [
    "## CCXT w/o Extractor"
   ]
  },
  {
   "cell_type": "markdown",
   "id": "f35e002e",
   "metadata": {},
   "source": [
    "Empty data is also returned from CCXT directly which means that the problem is at source."
   ]
  },
  {
   "cell_type": "code",
   "execution_count": 49,
   "id": "7cfb4992",
   "metadata": {
    "ExecuteTime": {
     "end_time": "2022-05-18T15:52:47.108670Z",
     "start_time": "2022-05-18T15:34:35.689082Z"
    }
   },
   "outputs": [
    {
     "data": {
      "text/html": [
       "<div>\n",
       "<style scoped>\n",
       "    .dataframe tbody tr th:only-of-type {\n",
       "        vertical-align: middle;\n",
       "    }\n",
       "\n",
       "    .dataframe tbody tr th {\n",
       "        vertical-align: top;\n",
       "    }\n",
       "\n",
       "    .dataframe thead th {\n",
       "        text-align: right;\n",
       "    }\n",
       "</style>\n",
       "<table border=\"1\" class=\"dataframe\">\n",
       "  <thead>\n",
       "    <tr style=\"text-align: right;\">\n",
       "      <th></th>\n",
       "      <th>timestamp</th>\n",
       "      <th>open</th>\n",
       "      <th>high</th>\n",
       "      <th>low</th>\n",
       "      <th>close</th>\n",
       "      <th>volume</th>\n",
       "    </tr>\n",
       "  </thead>\n",
       "  <tbody>\n",
       "  </tbody>\n",
       "</table>\n",
       "</div>"
      ],
      "text/plain": [
       "Empty DataFrame\n",
       "Columns: [timestamp, open, high, low, close, volume]\n",
       "Index: []"
      ]
     },
     "execution_count": 49,
     "metadata": {},
     "output_type": "execute_result"
    }
   ],
   "source": [
    "ccxt_exchange = _log_into_exchange(\"gateio\")\n",
    "start_ts = pd.Timestamp(\"2021-09-01 00:00:00+00:00\")\n",
    "end_ts = pd.Timestamp(\"2021-09-30 23:59:59+00:00\")\n",
    "ccxt_df = _get_ccxt_ohlcv_data(\n",
    "    ccxt_exchange, currency_pair_gateio[0], start_ts, end_ts\n",
    ")\n",
    "ccxt_df"
   ]
  },
  {
   "cell_type": "markdown",
   "id": "ecd8c53a",
   "metadata": {},
   "source": [
    "### Summary for `gateio` `volume != 0` data."
   ]
  },
  {
   "cell_type": "markdown",
   "id": "d262027f",
   "metadata": {},
   "source": [
    "- Data before January 2022 is not accessible from `gateio` via CCXT\n",
    "- There are spikes of NaNs in September, October, November 2021 that are common for all coins"
   ]
  },
  {
   "cell_type": "markdown",
   "id": "f112eb74",
   "metadata": {},
   "source": [
    "# gateio::ADA_USDT with `volume = 0` in data"
   ]
  },
  {
   "cell_type": "markdown",
   "id": "d813cded",
   "metadata": {},
   "source": [
    "## Client"
   ]
  },
  {
   "cell_type": "code",
   "execution_count": 50,
   "id": "897889a2",
   "metadata": {
    "ExecuteTime": {
     "end_time": "2022-05-18T15:52:50.089407Z",
     "start_time": "2022-05-18T15:52:47.111043Z"
    }
   },
   "outputs": [],
   "source": [
    "gateio_ADA_data = client.read_data(\n",
    "    [full_symbols_gateio[1]],\n",
    "    config[\"data\"][\"start_ts\"],\n",
    "    config[\"data\"][\"end_ts\"],\n",
    "    config[\"data\"][\"columns\"],\n",
    "    config[\"data\"][\"filter_data_mode\"],\n",
    ")"
   ]
  },
  {
   "cell_type": "code",
   "execution_count": 51,
   "id": "0d19fcf3",
   "metadata": {
    "ExecuteTime": {
     "end_time": "2022-05-18T15:52:50.189023Z",
     "start_time": "2022-05-18T15:52:50.093848Z"
    }
   },
   "outputs": [
    {
     "data": {
      "text/html": [
       "<div>\n",
       "<style scoped>\n",
       "    .dataframe tbody tr th:only-of-type {\n",
       "        vertical-align: middle;\n",
       "    }\n",
       "\n",
       "    .dataframe tbody tr th {\n",
       "        vertical-align: top;\n",
       "    }\n",
       "\n",
       "    .dataframe thead th {\n",
       "        text-align: right;\n",
       "    }\n",
       "</style>\n",
       "<table border=\"1\" class=\"dataframe\">\n",
       "  <thead>\n",
       "    <tr style=\"text-align: right;\">\n",
       "      <th></th>\n",
       "      <th>full_symbol</th>\n",
       "      <th>open</th>\n",
       "      <th>high</th>\n",
       "      <th>low</th>\n",
       "      <th>close</th>\n",
       "      <th>volume</th>\n",
       "    </tr>\n",
       "    <tr>\n",
       "      <th>timestamp</th>\n",
       "      <th></th>\n",
       "      <th></th>\n",
       "      <th></th>\n",
       "      <th></th>\n",
       "      <th></th>\n",
       "      <th></th>\n",
       "    </tr>\n",
       "  </thead>\n",
       "  <tbody>\n",
       "    <tr>\n",
       "      <th>2021-09-01 00:00:00+00:00</th>\n",
       "      <td>gateio::ADA_USDT</td>\n",
       "      <td>2.7688</td>\n",
       "      <td>2.7690</td>\n",
       "      <td>2.7633</td>\n",
       "      <td>2.7633</td>\n",
       "      <td>5081.382101</td>\n",
       "    </tr>\n",
       "    <tr>\n",
       "      <th>2021-09-01 00:01:00+00:00</th>\n",
       "      <td>gateio::ADA_USDT</td>\n",
       "      <td>2.7633</td>\n",
       "      <td>2.7663</td>\n",
       "      <td>2.7618</td>\n",
       "      <td>2.7632</td>\n",
       "      <td>2492.706958</td>\n",
       "    </tr>\n",
       "    <tr>\n",
       "      <th>2021-09-01 00:02:00+00:00</th>\n",
       "      <td>gateio::ADA_USDT</td>\n",
       "      <td>2.7639</td>\n",
       "      <td>2.7640</td>\n",
       "      <td>2.7571</td>\n",
       "      <td>2.7572</td>\n",
       "      <td>8067.851931</td>\n",
       "    </tr>\n",
       "  </tbody>\n",
       "</table>\n",
       "</div>"
      ],
      "text/plain": [
       "                                full_symbol    open    high     low   close       volume\n",
       "timestamp                                                                               \n",
       "2021-09-01 00:00:00+00:00  gateio::ADA_USDT  2.7688  2.7690  2.7633  2.7633  5081.382101\n",
       "2021-09-01 00:01:00+00:00  gateio::ADA_USDT  2.7633  2.7663  2.7618  2.7632  2492.706958\n",
       "2021-09-01 00:02:00+00:00  gateio::ADA_USDT  2.7639  2.7640  2.7571  2.7572  8067.851931"
      ]
     },
     "execution_count": 51,
     "metadata": {},
     "output_type": "execute_result"
    }
   ],
   "source": [
    "gateio_ADA_data_2021_09 = _get_data_for_year_month(gateio_ADA_data, 2021, 9)\n",
    "gateio_ADA_data_2021_09_volume_0 = _get_data_with_volume_0(\n",
    "    gateio_ADA_data_2021_09\n",
    ")\n",
    "gateio_ADA_data_2021_09.head(3)"
   ]
  },
  {
   "cell_type": "code",
   "execution_count": 52,
   "id": "8a8c3cdf",
   "metadata": {
    "ExecuteTime": {
     "end_time": "2022-05-18T15:52:50.203846Z",
     "start_time": "2022-05-18T15:52:50.192148Z"
    }
   },
   "outputs": [
    {
     "data": {
      "text/html": [
       "<div>\n",
       "<style scoped>\n",
       "    .dataframe tbody tr th:only-of-type {\n",
       "        vertical-align: middle;\n",
       "    }\n",
       "\n",
       "    .dataframe tbody tr th {\n",
       "        vertical-align: top;\n",
       "    }\n",
       "\n",
       "    .dataframe thead th {\n",
       "        text-align: right;\n",
       "    }\n",
       "</style>\n",
       "<table border=\"1\" class=\"dataframe\">\n",
       "  <thead>\n",
       "    <tr style=\"text-align: right;\">\n",
       "      <th></th>\n",
       "      <th>full_symbol</th>\n",
       "      <th>open</th>\n",
       "      <th>high</th>\n",
       "      <th>low</th>\n",
       "      <th>close</th>\n",
       "      <th>volume</th>\n",
       "    </tr>\n",
       "    <tr>\n",
       "      <th>timestamp</th>\n",
       "      <th></th>\n",
       "      <th></th>\n",
       "      <th></th>\n",
       "      <th></th>\n",
       "      <th></th>\n",
       "      <th></th>\n",
       "    </tr>\n",
       "  </thead>\n",
       "  <tbody>\n",
       "    <tr>\n",
       "      <th>2021-09-01 10:54:00+00:00</th>\n",
       "      <td>gateio::ADA_USDT</td>\n",
       "      <td>2.8252</td>\n",
       "      <td>2.8252</td>\n",
       "      <td>2.8252</td>\n",
       "      <td>2.8252</td>\n",
       "      <td>0.0</td>\n",
       "    </tr>\n",
       "    <tr>\n",
       "      <th>2021-09-03 20:10:00+00:00</th>\n",
       "      <td>gateio::ADA_USDT</td>\n",
       "      <td>2.9862</td>\n",
       "      <td>2.9862</td>\n",
       "      <td>2.9862</td>\n",
       "      <td>2.9862</td>\n",
       "      <td>0.0</td>\n",
       "    </tr>\n",
       "    <tr>\n",
       "      <th>2021-09-05 03:57:00+00:00</th>\n",
       "      <td>gateio::ADA_USDT</td>\n",
       "      <td>2.8642</td>\n",
       "      <td>2.8642</td>\n",
       "      <td>2.8642</td>\n",
       "      <td>2.8642</td>\n",
       "      <td>0.0</td>\n",
       "    </tr>\n",
       "    <tr>\n",
       "      <th>2021-09-11 00:00:00+00:00</th>\n",
       "      <td>gateio::ADA_USDT</td>\n",
       "      <td>2.3843</td>\n",
       "      <td>2.3843</td>\n",
       "      <td>2.3843</td>\n",
       "      <td>2.3843</td>\n",
       "      <td>0.0</td>\n",
       "    </tr>\n",
       "    <tr>\n",
       "      <th>2021-09-11 05:21:00+00:00</th>\n",
       "      <td>gateio::ADA_USDT</td>\n",
       "      <td>2.4122</td>\n",
       "      <td>2.4122</td>\n",
       "      <td>2.4122</td>\n",
       "      <td>2.4122</td>\n",
       "      <td>0.0</td>\n",
       "    </tr>\n",
       "  </tbody>\n",
       "</table>\n",
       "</div>"
      ],
      "text/plain": [
       "                                full_symbol    open    high     low   close  volume\n",
       "timestamp                                                                          \n",
       "2021-09-01 10:54:00+00:00  gateio::ADA_USDT  2.8252  2.8252  2.8252  2.8252     0.0\n",
       "2021-09-03 20:10:00+00:00  gateio::ADA_USDT  2.9862  2.9862  2.9862  2.9862     0.0\n",
       "2021-09-05 03:57:00+00:00  gateio::ADA_USDT  2.8642  2.8642  2.8642  2.8642     0.0\n",
       "2021-09-11 00:00:00+00:00  gateio::ADA_USDT  2.3843  2.3843  2.3843  2.3843     0.0\n",
       "2021-09-11 05:21:00+00:00  gateio::ADA_USDT  2.4122  2.4122  2.4122  2.4122     0.0"
      ]
     },
     "execution_count": 52,
     "metadata": {},
     "output_type": "execute_result"
    }
   ],
   "source": [
    "gateio_ADA_data_2021_09_volume_0"
   ]
  },
  {
   "cell_type": "code",
   "execution_count": 53,
   "id": "bb4e7236",
   "metadata": {
    "ExecuteTime": {
     "end_time": "2022-05-18T15:52:50.227146Z",
     "start_time": "2022-05-18T15:52:50.206109Z"
    }
   },
   "outputs": [
    {
     "data": {
      "text/html": [
       "<div>\n",
       "<style scoped>\n",
       "    .dataframe tbody tr th:only-of-type {\n",
       "        vertical-align: middle;\n",
       "    }\n",
       "\n",
       "    .dataframe tbody tr th {\n",
       "        vertical-align: top;\n",
       "    }\n",
       "\n",
       "    .dataframe thead th {\n",
       "        text-align: right;\n",
       "    }\n",
       "</style>\n",
       "<table border=\"1\" class=\"dataframe\">\n",
       "  <thead>\n",
       "    <tr style=\"text-align: right;\">\n",
       "      <th></th>\n",
       "      <th>full_symbol</th>\n",
       "      <th>open</th>\n",
       "      <th>high</th>\n",
       "      <th>low</th>\n",
       "      <th>close</th>\n",
       "      <th>volume</th>\n",
       "    </tr>\n",
       "    <tr>\n",
       "      <th>timestamp</th>\n",
       "      <th></th>\n",
       "      <th></th>\n",
       "      <th></th>\n",
       "      <th></th>\n",
       "      <th></th>\n",
       "      <th></th>\n",
       "    </tr>\n",
       "  </thead>\n",
       "  <tbody>\n",
       "    <tr>\n",
       "      <th>2021-09-05 03:57:00+00:00</th>\n",
       "      <td>gateio::ADA_USDT</td>\n",
       "      <td>2.8642</td>\n",
       "      <td>2.8642</td>\n",
       "      <td>2.8642</td>\n",
       "      <td>2.8642</td>\n",
       "      <td>0.000000</td>\n",
       "    </tr>\n",
       "    <tr>\n",
       "      <th>2021-09-05 03:58:00+00:00</th>\n",
       "      <td>gateio::ADA_USDT</td>\n",
       "      <td>2.8641</td>\n",
       "      <td>2.8641</td>\n",
       "      <td>2.8630</td>\n",
       "      <td>2.8630</td>\n",
       "      <td>1674.800775</td>\n",
       "    </tr>\n",
       "    <tr>\n",
       "      <th>2021-09-05 03:59:00+00:00</th>\n",
       "      <td>gateio::ADA_USDT</td>\n",
       "      <td>2.8630</td>\n",
       "      <td>2.8630</td>\n",
       "      <td>2.8562</td>\n",
       "      <td>2.8588</td>\n",
       "      <td>33621.183701</td>\n",
       "    </tr>\n",
       "  </tbody>\n",
       "</table>\n",
       "</div>"
      ],
      "text/plain": [
       "                                full_symbol    open    high     low   close        volume\n",
       "timestamp                                                                                \n",
       "2021-09-05 03:57:00+00:00  gateio::ADA_USDT  2.8642  2.8642  2.8642  2.8642      0.000000\n",
       "2021-09-05 03:58:00+00:00  gateio::ADA_USDT  2.8641  2.8641  2.8630  2.8630   1674.800775\n",
       "2021-09-05 03:59:00+00:00  gateio::ADA_USDT  2.8630  2.8630  2.8562  2.8588  33621.183701"
      ]
     },
     "execution_count": 53,
     "metadata": {},
     "output_type": "execute_result"
    }
   ],
   "source": [
    "gateio_ADA_data_2021_09.loc[\n",
    "    (gateio_ADA_data_2021_09.index.day == 5)\n",
    "    & (gateio_ADA_data_2021_09.index.hour == 3)\n",
    "].tail(3)"
   ]
  },
  {
   "cell_type": "code",
   "execution_count": 55,
   "id": "9cd8dfbf",
   "metadata": {
    "ExecuteTime": {
     "end_time": "2022-05-18T15:53:23.523248Z",
     "start_time": "2022-05-18T15:53:23.426897Z"
    }
   },
   "outputs": [
    {
     "data": {
      "text/html": [
       "<div>\n",
       "<style scoped>\n",
       "    .dataframe tbody tr th:only-of-type {\n",
       "        vertical-align: middle;\n",
       "    }\n",
       "\n",
       "    .dataframe tbody tr th {\n",
       "        vertical-align: top;\n",
       "    }\n",
       "\n",
       "    .dataframe thead th {\n",
       "        text-align: right;\n",
       "    }\n",
       "</style>\n",
       "<table border=\"1\" class=\"dataframe\">\n",
       "  <thead>\n",
       "    <tr style=\"text-align: right;\">\n",
       "      <th></th>\n",
       "      <th>full_symbol</th>\n",
       "      <th>open</th>\n",
       "      <th>high</th>\n",
       "      <th>low</th>\n",
       "      <th>close</th>\n",
       "      <th>volume</th>\n",
       "    </tr>\n",
       "    <tr>\n",
       "      <th>timestamp</th>\n",
       "      <th></th>\n",
       "      <th></th>\n",
       "      <th></th>\n",
       "      <th></th>\n",
       "      <th></th>\n",
       "      <th></th>\n",
       "    </tr>\n",
       "  </thead>\n",
       "  <tbody>\n",
       "    <tr>\n",
       "      <th>2021-07-01 00:00:00+00:00</th>\n",
       "      <td>gateio::ADA_USDT</td>\n",
       "      <td>1.3851</td>\n",
       "      <td>1.3856</td>\n",
       "      <td>1.3823</td>\n",
       "      <td>1.3823</td>\n",
       "      <td>7390.530593</td>\n",
       "    </tr>\n",
       "    <tr>\n",
       "      <th>2021-07-01 00:01:00+00:00</th>\n",
       "      <td>gateio::ADA_USDT</td>\n",
       "      <td>1.3831</td>\n",
       "      <td>1.3835</td>\n",
       "      <td>1.3794</td>\n",
       "      <td>1.3801</td>\n",
       "      <td>9420.448341</td>\n",
       "    </tr>\n",
       "    <tr>\n",
       "      <th>2021-07-01 00:02:00+00:00</th>\n",
       "      <td>gateio::ADA_USDT</td>\n",
       "      <td>1.3794</td>\n",
       "      <td>1.3795</td>\n",
       "      <td>1.3772</td>\n",
       "      <td>1.3778</td>\n",
       "      <td>4909.162421</td>\n",
       "    </tr>\n",
       "  </tbody>\n",
       "</table>\n",
       "</div>"
      ],
      "text/plain": [
       "                                full_symbol    open    high     low   close       volume\n",
       "timestamp                                                                               \n",
       "2021-07-01 00:00:00+00:00  gateio::ADA_USDT  1.3851  1.3856  1.3823  1.3823  7390.530593\n",
       "2021-07-01 00:01:00+00:00  gateio::ADA_USDT  1.3831  1.3835  1.3794  1.3801  9420.448341\n",
       "2021-07-01 00:02:00+00:00  gateio::ADA_USDT  1.3794  1.3795  1.3772  1.3778  4909.162421"
      ]
     },
     "execution_count": 55,
     "metadata": {},
     "output_type": "execute_result"
    }
   ],
   "source": [
    "# `volume = 0` has the same % as bad data\n",
    "gateio_ADA_data_2021_07 = _get_data_for_year_month(gateio_ADA_data, 2021, 7)\n",
    "gateio_ADA_data_2021_07_volume_0 = _get_data_with_volume_0(\n",
    "    gateio_ADA_data_2021_07\n",
    ")\n",
    "gateio_ADA_data_2021_07.head(3)"
   ]
  },
  {
   "cell_type": "code",
   "execution_count": 56,
   "id": "504ff1cf",
   "metadata": {
    "ExecuteTime": {
     "end_time": "2022-05-18T15:53:24.917576Z",
     "start_time": "2022-05-18T15:53:24.903748Z"
    }
   },
   "outputs": [
    {
     "data": {
      "text/html": [
       "<div>\n",
       "<style scoped>\n",
       "    .dataframe tbody tr th:only-of-type {\n",
       "        vertical-align: middle;\n",
       "    }\n",
       "\n",
       "    .dataframe tbody tr th {\n",
       "        vertical-align: top;\n",
       "    }\n",
       "\n",
       "    .dataframe thead th {\n",
       "        text-align: right;\n",
       "    }\n",
       "</style>\n",
       "<table border=\"1\" class=\"dataframe\">\n",
       "  <thead>\n",
       "    <tr style=\"text-align: right;\">\n",
       "      <th></th>\n",
       "      <th>full_symbol</th>\n",
       "      <th>open</th>\n",
       "      <th>high</th>\n",
       "      <th>low</th>\n",
       "      <th>close</th>\n",
       "      <th>volume</th>\n",
       "    </tr>\n",
       "    <tr>\n",
       "      <th>timestamp</th>\n",
       "      <th></th>\n",
       "      <th></th>\n",
       "      <th></th>\n",
       "      <th></th>\n",
       "      <th></th>\n",
       "      <th></th>\n",
       "    </tr>\n",
       "  </thead>\n",
       "  <tbody>\n",
       "    <tr>\n",
       "      <th>2021-07-03 09:21:00+00:00</th>\n",
       "      <td>gateio::ADA_USDT</td>\n",
       "      <td>1.4126</td>\n",
       "      <td>1.4126</td>\n",
       "      <td>1.4126</td>\n",
       "      <td>1.4126</td>\n",
       "      <td>0.0</td>\n",
       "    </tr>\n",
       "    <tr>\n",
       "      <th>2021-07-03 09:22:00+00:00</th>\n",
       "      <td>gateio::ADA_USDT</td>\n",
       "      <td>1.4126</td>\n",
       "      <td>1.4126</td>\n",
       "      <td>1.4126</td>\n",
       "      <td>1.4126</td>\n",
       "      <td>0.0</td>\n",
       "    </tr>\n",
       "    <tr>\n",
       "      <th>2021-07-03 09:24:00+00:00</th>\n",
       "      <td>gateio::ADA_USDT</td>\n",
       "      <td>1.4117</td>\n",
       "      <td>1.4117</td>\n",
       "      <td>1.4117</td>\n",
       "      <td>1.4117</td>\n",
       "      <td>0.0</td>\n",
       "    </tr>\n",
       "    <tr>\n",
       "      <th>2021-07-03 09:25:00+00:00</th>\n",
       "      <td>gateio::ADA_USDT</td>\n",
       "      <td>1.4117</td>\n",
       "      <td>1.4117</td>\n",
       "      <td>1.4117</td>\n",
       "      <td>1.4117</td>\n",
       "      <td>0.0</td>\n",
       "    </tr>\n",
       "    <tr>\n",
       "      <th>2021-07-03 09:28:00+00:00</th>\n",
       "      <td>gateio::ADA_USDT</td>\n",
       "      <td>1.4125</td>\n",
       "      <td>1.4125</td>\n",
       "      <td>1.4125</td>\n",
       "      <td>1.4125</td>\n",
       "      <td>0.0</td>\n",
       "    </tr>\n",
       "    <tr>\n",
       "      <th>2021-07-03 09:31:00+00:00</th>\n",
       "      <td>gateio::ADA_USDT</td>\n",
       "      <td>1.4103</td>\n",
       "      <td>1.4103</td>\n",
       "      <td>1.4103</td>\n",
       "      <td>1.4103</td>\n",
       "      <td>0.0</td>\n",
       "    </tr>\n",
       "    <tr>\n",
       "      <th>2021-07-03 09:33:00+00:00</th>\n",
       "      <td>gateio::ADA_USDT</td>\n",
       "      <td>1.4103</td>\n",
       "      <td>1.4103</td>\n",
       "      <td>1.4103</td>\n",
       "      <td>1.4103</td>\n",
       "      <td>0.0</td>\n",
       "    </tr>\n",
       "    <tr>\n",
       "      <th>2021-07-03 09:34:00+00:00</th>\n",
       "      <td>gateio::ADA_USDT</td>\n",
       "      <td>1.4103</td>\n",
       "      <td>1.4103</td>\n",
       "      <td>1.4103</td>\n",
       "      <td>1.4103</td>\n",
       "      <td>0.0</td>\n",
       "    </tr>\n",
       "    <tr>\n",
       "      <th>2021-07-03 13:43:00+00:00</th>\n",
       "      <td>gateio::ADA_USDT</td>\n",
       "      <td>1.4192</td>\n",
       "      <td>1.4192</td>\n",
       "      <td>1.4192</td>\n",
       "      <td>1.4192</td>\n",
       "      <td>0.0</td>\n",
       "    </tr>\n",
       "    <tr>\n",
       "      <th>2021-07-03 16:34:00+00:00</th>\n",
       "      <td>gateio::ADA_USDT</td>\n",
       "      <td>1.4204</td>\n",
       "      <td>1.4204</td>\n",
       "      <td>1.4204</td>\n",
       "      <td>1.4204</td>\n",
       "      <td>0.0</td>\n",
       "    </tr>\n",
       "  </tbody>\n",
       "</table>\n",
       "</div>"
      ],
      "text/plain": [
       "                                full_symbol    open    high     low   close  volume\n",
       "timestamp                                                                          \n",
       "2021-07-03 09:21:00+00:00  gateio::ADA_USDT  1.4126  1.4126  1.4126  1.4126     0.0\n",
       "2021-07-03 09:22:00+00:00  gateio::ADA_USDT  1.4126  1.4126  1.4126  1.4126     0.0\n",
       "2021-07-03 09:24:00+00:00  gateio::ADA_USDT  1.4117  1.4117  1.4117  1.4117     0.0\n",
       "2021-07-03 09:25:00+00:00  gateio::ADA_USDT  1.4117  1.4117  1.4117  1.4117     0.0\n",
       "2021-07-03 09:28:00+00:00  gateio::ADA_USDT  1.4125  1.4125  1.4125  1.4125     0.0\n",
       "2021-07-03 09:31:00+00:00  gateio::ADA_USDT  1.4103  1.4103  1.4103  1.4103     0.0\n",
       "2021-07-03 09:33:00+00:00  gateio::ADA_USDT  1.4103  1.4103  1.4103  1.4103     0.0\n",
       "2021-07-03 09:34:00+00:00  gateio::ADA_USDT  1.4103  1.4103  1.4103  1.4103     0.0\n",
       "2021-07-03 13:43:00+00:00  gateio::ADA_USDT  1.4192  1.4192  1.4192  1.4192     0.0\n",
       "2021-07-03 16:34:00+00:00  gateio::ADA_USDT  1.4204  1.4204  1.4204  1.4204     0.0"
      ]
     },
     "execution_count": 56,
     "metadata": {},
     "output_type": "execute_result"
    }
   ],
   "source": [
    "gateio_ADA_data_2021_07_volume_0[:10]"
   ]
  },
  {
   "cell_type": "code",
   "execution_count": 57,
   "id": "383a869c",
   "metadata": {
    "ExecuteTime": {
     "end_time": "2022-05-18T15:53:26.420883Z",
     "start_time": "2022-05-18T15:53:26.401494Z"
    }
   },
   "outputs": [
    {
     "data": {
      "text/html": [
       "<div>\n",
       "<style scoped>\n",
       "    .dataframe tbody tr th:only-of-type {\n",
       "        vertical-align: middle;\n",
       "    }\n",
       "\n",
       "    .dataframe tbody tr th {\n",
       "        vertical-align: top;\n",
       "    }\n",
       "\n",
       "    .dataframe thead th {\n",
       "        text-align: right;\n",
       "    }\n",
       "</style>\n",
       "<table border=\"1\" class=\"dataframe\">\n",
       "  <thead>\n",
       "    <tr style=\"text-align: right;\">\n",
       "      <th></th>\n",
       "      <th>full_symbol</th>\n",
       "      <th>open</th>\n",
       "      <th>high</th>\n",
       "      <th>low</th>\n",
       "      <th>close</th>\n",
       "      <th>volume</th>\n",
       "    </tr>\n",
       "    <tr>\n",
       "      <th>timestamp</th>\n",
       "      <th></th>\n",
       "      <th></th>\n",
       "      <th></th>\n",
       "      <th></th>\n",
       "      <th></th>\n",
       "      <th></th>\n",
       "    </tr>\n",
       "  </thead>\n",
       "  <tbody>\n",
       "    <tr>\n",
       "      <th>2021-07-03 09:20:00+00:00</th>\n",
       "      <td>gateio::ADA_USDT</td>\n",
       "      <td>1.4148</td>\n",
       "      <td>1.4148</td>\n",
       "      <td>1.4123</td>\n",
       "      <td>1.4126</td>\n",
       "      <td>1983.830570</td>\n",
       "    </tr>\n",
       "    <tr>\n",
       "      <th>2021-07-03 09:21:00+00:00</th>\n",
       "      <td>gateio::ADA_USDT</td>\n",
       "      <td>1.4126</td>\n",
       "      <td>1.4126</td>\n",
       "      <td>1.4126</td>\n",
       "      <td>1.4126</td>\n",
       "      <td>0.000000</td>\n",
       "    </tr>\n",
       "    <tr>\n",
       "      <th>2021-07-03 09:22:00+00:00</th>\n",
       "      <td>gateio::ADA_USDT</td>\n",
       "      <td>1.4126</td>\n",
       "      <td>1.4126</td>\n",
       "      <td>1.4126</td>\n",
       "      <td>1.4126</td>\n",
       "      <td>0.000000</td>\n",
       "    </tr>\n",
       "    <tr>\n",
       "      <th>2021-07-03 09:23:00+00:00</th>\n",
       "      <td>gateio::ADA_USDT</td>\n",
       "      <td>1.4111</td>\n",
       "      <td>1.4117</td>\n",
       "      <td>1.4108</td>\n",
       "      <td>1.4117</td>\n",
       "      <td>338.153496</td>\n",
       "    </tr>\n",
       "    <tr>\n",
       "      <th>2021-07-03 09:24:00+00:00</th>\n",
       "      <td>gateio::ADA_USDT</td>\n",
       "      <td>1.4117</td>\n",
       "      <td>1.4117</td>\n",
       "      <td>1.4117</td>\n",
       "      <td>1.4117</td>\n",
       "      <td>0.000000</td>\n",
       "    </tr>\n",
       "    <tr>\n",
       "      <th>2021-07-03 09:25:00+00:00</th>\n",
       "      <td>gateio::ADA_USDT</td>\n",
       "      <td>1.4117</td>\n",
       "      <td>1.4117</td>\n",
       "      <td>1.4117</td>\n",
       "      <td>1.4117</td>\n",
       "      <td>0.000000</td>\n",
       "    </tr>\n",
       "    <tr>\n",
       "      <th>2021-07-03 09:26:00+00:00</th>\n",
       "      <td>gateio::ADA_USDT</td>\n",
       "      <td>1.4113</td>\n",
       "      <td>1.4118</td>\n",
       "      <td>1.4113</td>\n",
       "      <td>1.4118</td>\n",
       "      <td>65.399008</td>\n",
       "    </tr>\n",
       "    <tr>\n",
       "      <th>2021-07-03 09:27:00+00:00</th>\n",
       "      <td>gateio::ADA_USDT</td>\n",
       "      <td>1.4118</td>\n",
       "      <td>1.4125</td>\n",
       "      <td>1.4118</td>\n",
       "      <td>1.4125</td>\n",
       "      <td>5151.105443</td>\n",
       "    </tr>\n",
       "    <tr>\n",
       "      <th>2021-07-03 09:28:00+00:00</th>\n",
       "      <td>gateio::ADA_USDT</td>\n",
       "      <td>1.4125</td>\n",
       "      <td>1.4125</td>\n",
       "      <td>1.4125</td>\n",
       "      <td>1.4125</td>\n",
       "      <td>0.000000</td>\n",
       "    </tr>\n",
       "    <tr>\n",
       "      <th>2021-07-03 09:29:00+00:00</th>\n",
       "      <td>gateio::ADA_USDT</td>\n",
       "      <td>1.4124</td>\n",
       "      <td>1.4124</td>\n",
       "      <td>1.4103</td>\n",
       "      <td>1.4103</td>\n",
       "      <td>1644.847671</td>\n",
       "    </tr>\n",
       "  </tbody>\n",
       "</table>\n",
       "</div>"
      ],
      "text/plain": [
       "                                full_symbol    open    high     low   close       volume\n",
       "timestamp                                                                               \n",
       "2021-07-03 09:20:00+00:00  gateio::ADA_USDT  1.4148  1.4148  1.4123  1.4126  1983.830570\n",
       "2021-07-03 09:21:00+00:00  gateio::ADA_USDT  1.4126  1.4126  1.4126  1.4126     0.000000\n",
       "2021-07-03 09:22:00+00:00  gateio::ADA_USDT  1.4126  1.4126  1.4126  1.4126     0.000000\n",
       "2021-07-03 09:23:00+00:00  gateio::ADA_USDT  1.4111  1.4117  1.4108  1.4117   338.153496\n",
       "2021-07-03 09:24:00+00:00  gateio::ADA_USDT  1.4117  1.4117  1.4117  1.4117     0.000000\n",
       "2021-07-03 09:25:00+00:00  gateio::ADA_USDT  1.4117  1.4117  1.4117  1.4117     0.000000\n",
       "2021-07-03 09:26:00+00:00  gateio::ADA_USDT  1.4113  1.4118  1.4113  1.4118    65.399008\n",
       "2021-07-03 09:27:00+00:00  gateio::ADA_USDT  1.4118  1.4125  1.4118  1.4125  5151.105443\n",
       "2021-07-03 09:28:00+00:00  gateio::ADA_USDT  1.4125  1.4125  1.4125  1.4125     0.000000\n",
       "2021-07-03 09:29:00+00:00  gateio::ADA_USDT  1.4124  1.4124  1.4103  1.4103  1644.847671"
      ]
     },
     "execution_count": 57,
     "metadata": {},
     "output_type": "execute_result"
    }
   ],
   "source": [
    "gateio_ADA_data_2021_07.loc[\n",
    "    gateio_ADA_data_2021_07.index >= \"2021-07-03 09:20:00+00:00\"\n",
    "].head(10)"
   ]
  },
  {
   "cell_type": "markdown",
   "id": "85115eb9",
   "metadata": {},
   "source": [
    "The pattern is: all values in price-related columns with `volume = 0` are the same as the value of `close` of the last row where `volume != 0`."
   ]
  },
  {
   "cell_type": "markdown",
   "id": "bcb16845",
   "metadata": {},
   "source": [
    "## Extractor"
   ]
  },
  {
   "cell_type": "code",
   "execution_count": 58,
   "id": "85792ce5",
   "metadata": {
    "ExecuteTime": {
     "end_time": "2022-05-18T15:55:24.526128Z",
     "start_time": "2022-05-18T15:53:30.186011Z"
    }
   },
   "outputs": [
    {
     "name": "stderr",
     "output_type": "stream",
     "text": [
      "100%|██████████████████████████████████████████████████████████████████████████████████████████████████████████████████████| 90/90 [01:54<00:00,  1.27s/it]\n"
     ]
    }
   ],
   "source": [
    "start_timestamp = pd.Timestamp(\"2021-07-01 00:00:00+00:00\")\n",
    "end_timestamp = pd.Timestamp(\"2021-07-31 23:59:59+00:00\")\n",
    "sleep_time_in_secs = 1\n",
    "ccxt_gateio_ADA = ccxt_gateio_exchange.download_ohlcv_data(\n",
    "    currency_pair_gateio[1],\n",
    "    start_timestamp=start_timestamp,\n",
    "    end_timestamp=end_timestamp,\n",
    "    sleep_time_in_secs=sleep_time_in_secs,\n",
    ")"
   ]
  },
  {
   "cell_type": "code",
   "execution_count": 59,
   "id": "8d9deb2f",
   "metadata": {
    "ExecuteTime": {
     "end_time": "2022-05-18T15:55:24.536359Z",
     "start_time": "2022-05-18T15:55:24.528717Z"
    }
   },
   "outputs": [
    {
     "data": {
      "text/html": [
       "<div>\n",
       "<style scoped>\n",
       "    .dataframe tbody tr th:only-of-type {\n",
       "        vertical-align: middle;\n",
       "    }\n",
       "\n",
       "    .dataframe tbody tr th {\n",
       "        vertical-align: top;\n",
       "    }\n",
       "\n",
       "    .dataframe thead th {\n",
       "        text-align: right;\n",
       "    }\n",
       "</style>\n",
       "<table border=\"1\" class=\"dataframe\">\n",
       "  <thead>\n",
       "    <tr style=\"text-align: right;\">\n",
       "      <th></th>\n",
       "      <th>timestamp</th>\n",
       "      <th>open</th>\n",
       "      <th>high</th>\n",
       "      <th>low</th>\n",
       "      <th>close</th>\n",
       "      <th>volume</th>\n",
       "      <th>end_download_timestamp</th>\n",
       "    </tr>\n",
       "  </thead>\n",
       "  <tbody>\n",
       "  </tbody>\n",
       "</table>\n",
       "</div>"
      ],
      "text/plain": [
       "Empty DataFrame\n",
       "Columns: [timestamp, open, high, low, close, volume, end_download_timestamp]\n",
       "Index: []"
      ]
     },
     "execution_count": 59,
     "metadata": {},
     "output_type": "execute_result"
    }
   ],
   "source": [
    "ccxt_gateio_ADA"
   ]
  },
  {
   "cell_type": "markdown",
   "id": "c9942ab9",
   "metadata": {},
   "source": [
    "## Summary for `gateio`"
   ]
  },
  {
   "cell_type": "markdown",
   "id": "eb4b6c56",
   "metadata": {},
   "source": [
    "- Empty data is returned from CCXT and Extractor directly which means that the problem is at source.\n",
    "- The pattern is: all values in price-related columns with `volume = 0` are the same as the value of `close` of the last row where `volume != 0`.\n",
    "- Data before January 2022 is not accessible from `gateio` via CCXT\n",
    "- There are spikes of NaNs in September, October, November 2021 that are common for all coins"
   ]
  }
 ],
 "metadata": {
  "kernelspec": {
   "display_name": "Python 3 (ipykernel)",
   "language": "python",
   "name": "python3"
  },
  "language_info": {
   "codemirror_mode": {
    "name": "ipython",
    "version": 3
   },
   "file_extension": ".py",
   "mimetype": "text/x-python",
   "name": "python",
   "nbconvert_exporter": "python",
   "pygments_lexer": "ipython3",
   "version": "3.8.10"
  },
  "toc": {
   "base_numbering": 1,
   "nav_menu": {},
   "number_sections": true,
   "sideBar": true,
   "skip_h1_title": false,
   "title_cell": "Table of Contents",
   "title_sidebar": "Contents",
   "toc_cell": false,
   "toc_position": {},
   "toc_section_display": true,
   "toc_window_display": false
  }
 },
 "nbformat": 4,
 "nbformat_minor": 5
}
