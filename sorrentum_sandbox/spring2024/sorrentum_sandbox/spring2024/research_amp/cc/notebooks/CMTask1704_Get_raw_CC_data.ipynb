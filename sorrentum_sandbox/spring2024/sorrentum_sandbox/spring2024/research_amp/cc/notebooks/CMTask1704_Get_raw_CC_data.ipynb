{
 "cells": [
  {
   "cell_type": "markdown",
   "id": "58d76abe",
   "metadata": {},
   "source": [
    "# Imports"
   ]
  },
  {
   "cell_type": "code",
   "execution_count": 1,
   "id": "90d2298b",
   "metadata": {
    "ExecuteTime": {
     "end_time": "2022-04-27T22:50:56.424324Z",
     "start_time": "2022-04-27T22:50:52.595158Z"
    }
   },
   "outputs": [
    {
     "name": "stderr",
     "output_type": "stream",
     "text": [
      "/app/core/explore.py:39: TqdmExperimentalWarning: Using `tqdm.autonotebook.tqdm` in notebook mode. Use `tqdm.tqdm` instead to force console mode (e.g. in jupyter console)\n",
      "  import tqdm.autonotebook as tauton\n"
     ]
    },
    {
     "name": "stdout",
     "output_type": "stream",
     "text": [
      "\u001b[0m\u001b[36mINFO\u001b[0m: > cmd='/venv/lib/python3.8/site-packages/ipykernel_launcher.py -f /home/.local/share/jupyter/runtime/kernel-8fa48d19-c4a8-4844-be19-7387e02a71ae.json'\n",
      "WARNING: Running in Jupyter\n"
     ]
    }
   ],
   "source": [
    "import logging\n",
    "import os\n",
    "\n",
    "import pandas as pd\n",
    "import requests\n",
    "\n",
    "import core.config.config_ as cconconf\n",
    "import core.finance as cofinanc\n",
    "import core.finance.bid_ask as cfibiask\n",
    "import core.finance.resampling as cfinresa\n",
    "import core.plotting.normality as cplonorm\n",
    "import dataflow.core as dtfcore\n",
    "import dataflow.core.utils as dtfcorutil\n",
    "import dataflow.system.source_nodes as dtfsysonod\n",
    "import helpers.hdatetime as hdateti\n",
    "import helpers.hdbg as hdbg\n",
    "import helpers.hprint as hprint\n",
    "import helpers.hsql as hsql\n",
    "import im_v2.ccxt.data.client as icdcl\n",
    "import im_v2.im_lib_tasks as imvimlita"
   ]
  },
  {
   "cell_type": "code",
   "execution_count": 2,
   "id": "feb220a4",
   "metadata": {
    "ExecuteTime": {
     "end_time": "2022-04-27T22:50:56.435665Z",
     "start_time": "2022-04-27T22:50:56.427185Z"
    },
    "scrolled": true
   },
   "outputs": [
    {
     "name": "stdout",
     "output_type": "stream",
     "text": [
      "\u001b[0m\u001b[33mWARNING\u001b[0m: Logger already initialized: skipping\n",
      "\u001b[33mWARNING\u001b[0m: Disabling annoying warnings\n"
     ]
    }
   ],
   "source": [
    "hdbg.init_logger(verbosity=logging.INFO)\n",
    "\n",
    "_LOG = logging.getLogger(__name__)\n",
    "\n",
    "hprint.config_notebook()"
   ]
  },
  {
   "cell_type": "markdown",
   "id": "eea446ce",
   "metadata": {},
   "source": [
    "# Config"
   ]
  },
  {
   "cell_type": "code",
   "execution_count": 3,
   "id": "3f0680e4",
   "metadata": {
    "ExecuteTime": {
     "end_time": "2022-04-27T22:50:56.445532Z",
     "start_time": "2022-04-27T22:50:56.437710Z"
    }
   },
   "outputs": [],
   "source": [
    "def get_cmtask1704_config_ccxt() -> cconconf.Config:\n",
    "    \"\"\"\n",
    "    Get config, that specifies params for getting raw data.\n",
    "    \"\"\"\n",
    "    config = cconconf.Config()\n",
    "    # Load parameters.\n",
    "    config.add_subconfig(\"load\")\n",
    "    env_file = imvimlita.get_db_env_path(\"dev\")\n",
    "    connection_params = hsql.get_connection_info_from_env_file(env_file)\n",
    "    config[\"load\"][\"connection\"] = hsql.get_connection(*connection_params)\n",
    "    config[\"load\"][\"aws_profile\"] = \"ck\"\n",
    "    config[\"load\"][\"data_dir_hist\"] = os.path.join(\n",
    "        \"s3://cryptokaizen-data\", \"historical\"\n",
    "    )\n",
    "    config[\"load\"][\"data_snapshot\"] = \"latest\"\n",
    "    config[\"load\"][\"partition_mode\"] = \"by_year_month\"\n",
    "    # Data parameters.\n",
    "    config.add_subconfig(\"data\")\n",
    "    config[\"data\"][\"vendor\"] = \"CCXT\"\n",
    "    # Data range for real-time data.\n",
    "    config[\"data\"][\"start_date_rt\"] = pd.Timestamp(\"2022-04-01\", tz=\"UTC\")\n",
    "    config[\"data\"][\"end_date_rt\"] = pd.Timestamp(\"2022-04-15\", tz=\"UTC\")\n",
    "    # Data range for historical data.\n",
    "    config[\"data\"][\"start_date_hist\"] = pd.Timestamp(\"2022-01-01\", tz=\"UTC\")\n",
    "    config[\"data\"][\"end_date_hist\"] = pd.Timestamp(\"2022-01-15\", tz=\"UTC\")\n",
    "    # Transformation parameters.\n",
    "    config.add_subconfig(\"transform\")\n",
    "    config[\"transform\"][\"resampling_rule\"] = \"5T\"\n",
    "    config[\"transform\"][\"rets_type\"] = \"pct_change\"\n",
    "    return config"
   ]
  },
  {
   "cell_type": "code",
   "execution_count": 4,
   "id": "58dae195",
   "metadata": {
    "ExecuteTime": {
     "end_time": "2022-04-27T22:50:56.591390Z",
     "start_time": "2022-04-27T22:50:56.449699Z"
    }
   },
   "outputs": [
    {
     "name": "stdout",
     "output_type": "stream",
     "text": [
      "load:\n",
      "  connection: <connection object; dsn: 'user=postgres password=xxx dbname=im_data_db host=dev-im-db.cpox8ul7pzan.eu-north-1.rds.amazonaws.com port=5432', closed: 0>\n",
      "  aws_profile: ck\n",
      "  data_dir_hist: s3://cryptokaizen-data/historical\n",
      "  data_snapshot: latest\n",
      "  partition_mode: by_year_month\n",
      "data:\n",
      "  vendor: CCXT\n",
      "  start_date_rt: 2022-04-01 00:00:00+00:00\n",
      "  end_date_rt: 2022-04-15 00:00:00+00:00\n",
      "  start_date_hist: 2022-01-01 00:00:00+00:00\n",
      "  end_date_hist: 2022-01-15 00:00:00+00:00\n",
      "transform:\n",
      "  resampling_rule: 5T\n",
      "  rets_type: pct_change\n"
     ]
    }
   ],
   "source": [
    "config = get_cmtask1704_config_ccxt()\n",
    "print(config)"
   ]
  },
  {
   "cell_type": "markdown",
   "id": "4d9eef66",
   "metadata": {},
   "source": [
    "# Functions"
   ]
  },
  {
   "cell_type": "code",
   "execution_count": 5,
   "id": "340a263b",
   "metadata": {
    "ExecuteTime": {
     "end_time": "2022-04-27T22:50:56.603344Z",
     "start_time": "2022-04-27T22:50:56.594348Z"
    }
   },
   "outputs": [],
   "source": [
    "def calculate_vwap_twap(df: pd.DataFrame, resampling_rule: str) -> pd.DataFrame:\n",
    "    \"\"\"\n",
    "    Resample the data and calculate VWAP, TWAP using DataFlow methods.\n",
    "\n",
    "    :param df: Raw data\n",
    "    :param resampling_rule: Desired resampling frequency\n",
    "    :return: Resampled multiindex DataFrame with computed metrics\n",
    "    \"\"\"\n",
    "    # Configure the node to do the TWAP / VWAP resampling.\n",
    "    node_resampling_config = {\n",
    "        \"in_col_groups\": [\n",
    "            (\"close\",),\n",
    "            (\"volume\",),\n",
    "        ],\n",
    "        \"out_col_group\": (),\n",
    "        \"transformer_kwargs\": {\n",
    "            \"rule\": resampling_rule,\n",
    "            \"resampling_groups\": [\n",
    "                ({\"close\": \"close\"}, \"last\", {}),\n",
    "                (\n",
    "                    {\n",
    "                        \"close\": \"twap\",\n",
    "                    },\n",
    "                    \"mean\",\n",
    "                    {},\n",
    "                ),\n",
    "                (\n",
    "                    {\n",
    "                        \"volume\": \"volume\",\n",
    "                    },\n",
    "                    \"sum\",\n",
    "                    {\"min_count\": 1},\n",
    "                ),\n",
    "            ],\n",
    "            \"vwap_groups\": [\n",
    "                (\"close\", \"volume\", \"vwap\"),\n",
    "            ],\n",
    "        },\n",
    "        \"reindex_like_input\": False,\n",
    "        \"join_output_with_input\": False,\n",
    "    }\n",
    "    # Put the data in the DataFlow format (which is multi-index).\n",
    "    converted_data = dtfcorutil.convert_to_multiindex(df, \"full_symbol\")\n",
    "    # Create the node.\n",
    "    nid = \"resample\"\n",
    "    node = dtfcore.GroupedColDfToDfTransformer(\n",
    "        nid,\n",
    "        transformer_func=cofinanc.resample_bars,\n",
    "        **node_resampling_config,\n",
    "    )\n",
    "    # Compute the node on the data.\n",
    "    vwap_twap = node.fit(converted_data)\n",
    "    # Save the result.\n",
    "    vwap_twap_df = vwap_twap[\"df_out\"]\n",
    "    return vwap_twap_df"
   ]
  },
  {
   "cell_type": "code",
   "execution_count": 6,
   "id": "47f306bb",
   "metadata": {
    "ExecuteTime": {
     "end_time": "2022-04-27T22:50:56.611818Z",
     "start_time": "2022-04-27T22:50:56.605601Z"
    }
   },
   "outputs": [],
   "source": [
    "def calculate_returns(df: pd.DataFrame, rets_type: str) -> pd.DataFrame:\n",
    "    \"\"\"\n",
    "    Compute returns on the resampled data DataFlow-style.\n",
    "\n",
    "    :param df: Resampled multiindex DataFrame\n",
    "    :param rets_type: i.e., \"log_rets\" or \"pct_change\"\n",
    "    :return: The same DataFrame but with attached columns with returns\n",
    "    \"\"\"\n",
    "    # Configure the node to calculate the returns.\n",
    "    node_returns_config = {\n",
    "        \"in_col_groups\": [\n",
    "            (\"close\",),\n",
    "            (\"vwap\",),\n",
    "            (\"twap\",),\n",
    "        ],\n",
    "        \"out_col_group\": (),\n",
    "        \"transformer_kwargs\": {\n",
    "            \"mode\": rets_type,\n",
    "        },\n",
    "        \"col_mapping\": {\n",
    "            \"close\": \"close.ret_0\",\n",
    "            \"vwap\": \"vwap.ret_0\",\n",
    "            \"twap\": \"twap.ret_0\",\n",
    "        },\n",
    "    }\n",
    "    # Create the node that computes ret_0.\n",
    "    nid = \"ret0\"\n",
    "    node = dtfcore.GroupedColDfToDfTransformer(\n",
    "        nid,\n",
    "        transformer_func=cofinanc.compute_ret_0,\n",
    "        **node_returns_config,\n",
    "    )\n",
    "    # Compute the node on the data.\n",
    "    rets = node.fit(df)\n",
    "    # Save the result.\n",
    "    rets_df = rets[\"df_out\"]\n",
    "    return rets_df"
   ]
  },
  {
   "cell_type": "markdown",
   "id": "9b068ea0",
   "metadata": {},
   "source": [
    "# Load the data"
   ]
  },
  {
   "cell_type": "markdown",
   "id": "e277d53a",
   "metadata": {},
   "source": [
    "## CCXT"
   ]
  },
  {
   "cell_type": "markdown",
   "id": "53c93b8a",
   "metadata": {},
   "source": [
    "### Real-time"
   ]
  },
  {
   "cell_type": "code",
   "execution_count": 7,
   "id": "635e3592",
   "metadata": {
    "ExecuteTime": {
     "end_time": "2022-04-27T22:50:56.622876Z",
     "start_time": "2022-04-27T22:50:56.615175Z"
    },
    "scrolled": true
   },
   "outputs": [
    {
     "name": "stdout",
     "output_type": "stream",
     "text": [
      "INFO  txt_tmp=\n",
      "{\n",
      "  \"CCXT\": {\n",
      "    \"binance\": [\n",
      "      \"ADA_USDT\",\n",
      "      \"AVAX_USDT\",\n",
      "      \"BNB_USDT\",\n",
      "      \"BTC_USDT\",\n",
      "      \"DOGE_USDT\",\n",
      "      \"EOS_USDT\",\n",
      "      \"ETH_USDT\",\n",
      "      \"LINK_USDT\",\n",
      "      \"SOL_USDT\"\n",
      "    ],\n",
      "    \"ftx\": [\n",
      "      \"BNB_USDT\",\n",
      "      \"BTC_USDT\",\n",
      "      \"DOGE_USDT\",\n",
      "      \"ETH_USDT\",\n",
      "      \"LINK_USDT\",\n",
      "      \"SOL_USDT\",\n",
      "      \"XRP_USDT\"\n",
      "    ],\n",
      "    \"gateio\": [\n",
      "      \"ADA_USDT\",\n",
      "      \"AVAX_USDT\",\n",
      "      \"BNB_USDT\",\n",
      "      \"BTC_USDT\",\n",
      "      \"DOGE_USDT\",\n",
      "      \"EOS_USDT\",\n",
      "      \"ETH_USDT\",\n",
      "      \"FIL_USDT\",\n",
      "      \"LINK_USDT\",\n",
      "      \"SOL_USDT\",\n",
      "      \"XRP_USDT\"\n",
      "    ],\n",
      "    \"kucoin\": [\n",
      "      \"ADA_USDT\",\n",
      "      \"AVAX_USDT\",\n",
      "      \"BNB_USDT\",\n",
      "      \"BTC_USDT\",\n",
      "      \"DOGE_USDT\",\n",
      "      \"EOS_USDT\",\n",
      "      \"ETH_USDT\",\n",
      "      \"FIL_USDT\",\n",
      "      \"LINK_USDT\",\n",
      "      \"SOL_USDT\",\n",
      "      \"XRP_USDT\"\n",
      "    ]\n",
      "  }\n",
      "}\n",
      "\n"
     ]
    }
   ],
   "source": [
    "# Specify params.\n",
    "vendor = config[\"data\"][\"vendor\"]\n",
    "universe_version = \"v3\"\n",
    "resample_1min = True\n",
    "table_name = \"ccxt_ohlcv\"\n",
    "connection = config[\"load\"][\"connection\"]\n",
    "# Initiate the client.\n",
    "ccxt_rt_client = icdcl.CcxtSqlRealTimeImClient(\n",
    "    resample_1min, connection, table_name\n",
    ")"
   ]
  },
  {
   "cell_type": "markdown",
   "id": "356fa832",
   "metadata": {},
   "source": [
    "#### Universe"
   ]
  },
  {
   "cell_type": "code",
   "execution_count": 8,
   "id": "9071c99b",
   "metadata": {
    "ExecuteTime": {
     "end_time": "2022-04-27T22:50:56.634910Z",
     "start_time": "2022-04-27T22:50:56.625573Z"
    }
   },
   "outputs": [
    {
     "name": "stdout",
     "output_type": "stream",
     "text": [
      "INFO  txt_tmp=\n",
      "{\n",
      "  \"CCXT\": {\n",
      "    \"binance\": [\n",
      "      \"ADA_USDT\",\n",
      "      \"AVAX_USDT\",\n",
      "      \"BNB_USDT\",\n",
      "      \"BTC_USDT\",\n",
      "      \"DOGE_USDT\",\n",
      "      \"EOS_USDT\",\n",
      "      \"ETH_USDT\",\n",
      "      \"LINK_USDT\",\n",
      "      \"SOL_USDT\"\n",
      "    ],\n",
      "    \"ftx\": [\n",
      "      \"BNB_USDT\",\n",
      "      \"BTC_USDT\",\n",
      "      \"DOGE_USDT\",\n",
      "      \"ETH_USDT\",\n",
      "      \"LINK_USDT\",\n",
      "      \"SOL_USDT\",\n",
      "      \"XRP_USDT\"\n",
      "    ],\n",
      "    \"gateio\": [\n",
      "      \"ADA_USDT\",\n",
      "      \"AVAX_USDT\",\n",
      "      \"BNB_USDT\",\n",
      "      \"BTC_USDT\",\n",
      "      \"DOGE_USDT\",\n",
      "      \"EOS_USDT\",\n",
      "      \"ETH_USDT\",\n",
      "      \"FIL_USDT\",\n",
      "      \"LINK_USDT\",\n",
      "      \"SOL_USDT\",\n",
      "      \"XRP_USDT\"\n",
      "    ],\n",
      "    \"kucoin\": [\n",
      "      \"ADA_USDT\",\n",
      "      \"AVAX_USDT\",\n",
      "      \"BNB_USDT\",\n",
      "      \"BTC_USDT\",\n",
      "      \"DOGE_USDT\",\n",
      "      \"EOS_USDT\",\n",
      "      \"ETH_USDT\",\n",
      "      \"FIL_USDT\",\n",
      "      \"LINK_USDT\",\n",
      "      \"SOL_USDT\",\n",
      "      \"XRP_USDT\"\n",
      "    ]\n",
      "  }\n",
      "}\n",
      "\n"
     ]
    },
    {
     "data": {
      "text/plain": [
       "38"
      ]
     },
     "execution_count": 8,
     "metadata": {},
     "output_type": "execute_result"
    }
   ],
   "source": [
    "# Specify the universe.\n",
    "rt_universe_ccxt = ccxt_rt_client.get_universe()\n",
    "len(rt_universe_ccxt)"
   ]
  },
  {
   "cell_type": "code",
   "execution_count": 9,
   "id": "832524d5",
   "metadata": {
    "ExecuteTime": {
     "end_time": "2022-04-27T22:50:56.641340Z",
     "start_time": "2022-04-27T22:50:56.637060Z"
    }
   },
   "outputs": [
    {
     "data": {
      "text/plain": [
       "['binance::BNB_USDT', 'binance::BTC_USDT']"
      ]
     },
     "execution_count": 9,
     "metadata": {},
     "output_type": "execute_result"
    }
   ],
   "source": [
    "# Choose cc for analysis.\n",
    "full_symbols = rt_universe_ccxt[2:4]\n",
    "full_symbols"
   ]
  },
  {
   "cell_type": "markdown",
   "id": "76838ec6",
   "metadata": {},
   "source": [
    "#### Data Loader"
   ]
  },
  {
   "cell_type": "code",
   "execution_count": 10,
   "id": "7151263b",
   "metadata": {
    "ExecuteTime": {
     "end_time": "2022-04-27T22:50:58.250056Z",
     "start_time": "2022-04-27T22:50:56.645308Z"
    },
    "scrolled": true
   },
   "outputs": [
    {
     "name": "stderr",
     "output_type": "stream",
     "text": [
      "/venv/lib/python3.8/site-packages/pandas/io/sql.py:761: UserWarning: pandas only support SQLAlchemy connectable(engine/connection) ordatabase string URI or sqlite3 DBAPI2 connectionother DBAPI2 objects are not tested, please consider using SQLAlchemy\n",
      "  warnings.warn(\n",
      "/venv/lib/python3.8/site-packages/pandas/io/sql.py:761: UserWarning: pandas only support SQLAlchemy connectable(engine/connection) ordatabase string URI or sqlite3 DBAPI2 connectionother DBAPI2 objects are not tested, please consider using SQLAlchemy\n",
      "  warnings.warn(\n"
     ]
    },
    {
     "data": {
      "text/plain": [
       "(40322, 6)"
      ]
     },
     "metadata": {},
     "output_type": "display_data"
    },
    {
     "data": {
      "text/html": [
       "<div>\n",
       "<style scoped>\n",
       "    .dataframe tbody tr th:only-of-type {\n",
       "        vertical-align: middle;\n",
       "    }\n",
       "\n",
       "    .dataframe tbody tr th {\n",
       "        vertical-align: top;\n",
       "    }\n",
       "\n",
       "    .dataframe thead th {\n",
       "        text-align: right;\n",
       "    }\n",
       "</style>\n",
       "<table border=\"1\" class=\"dataframe\">\n",
       "  <thead>\n",
       "    <tr style=\"text-align: right;\">\n",
       "      <th></th>\n",
       "      <th>full_symbol</th>\n",
       "      <th>open</th>\n",
       "      <th>high</th>\n",
       "      <th>low</th>\n",
       "      <th>close</th>\n",
       "      <th>volume</th>\n",
       "    </tr>\n",
       "    <tr>\n",
       "      <th>timestamp</th>\n",
       "      <th></th>\n",
       "      <th></th>\n",
       "      <th></th>\n",
       "      <th></th>\n",
       "      <th></th>\n",
       "      <th></th>\n",
       "    </tr>\n",
       "  </thead>\n",
       "  <tbody>\n",
       "    <tr>\n",
       "      <th>2022-04-01 00:00:00+00:00</th>\n",
       "      <td>binance::BNB_USDT</td>\n",
       "      <td>428.90</td>\n",
       "      <td>429.80</td>\n",
       "      <td>428.5</td>\n",
       "      <td>428.80</td>\n",
       "      <td>1719.66900</td>\n",
       "    </tr>\n",
       "    <tr>\n",
       "      <th>2022-04-01 00:00:00+00:00</th>\n",
       "      <td>binance::BTC_USDT</td>\n",
       "      <td>45510.35</td>\n",
       "      <td>45565.29</td>\n",
       "      <td>45445.0</td>\n",
       "      <td>45465.25</td>\n",
       "      <td>83.54849</td>\n",
       "    </tr>\n",
       "    <tr>\n",
       "      <th>2022-04-01 00:01:00+00:00</th>\n",
       "      <td>binance::BNB_USDT</td>\n",
       "      <td>428.60</td>\n",
       "      <td>428.80</td>\n",
       "      <td>426.0</td>\n",
       "      <td>426.30</td>\n",
       "      <td>3698.57400</td>\n",
       "    </tr>\n",
       "  </tbody>\n",
       "</table>\n",
       "</div>"
      ],
      "text/plain": [
       "                                 full_symbol      open      high      low     close      volume\n",
       "timestamp                                                                                      \n",
       "2022-04-01 00:00:00+00:00  binance::BNB_USDT    428.90    429.80    428.5    428.80  1719.66900\n",
       "2022-04-01 00:00:00+00:00  binance::BTC_USDT  45510.35  45565.29  45445.0  45465.25    83.54849\n",
       "2022-04-01 00:01:00+00:00  binance::BNB_USDT    428.60    428.80    426.0    426.30  3698.57400"
      ]
     },
     "metadata": {},
     "output_type": "display_data"
    }
   ],
   "source": [
    "# Specify time period.\n",
    "start_date = config[\"data\"][\"start_date_rt\"]\n",
    "end_date = config[\"data\"][\"end_date_rt\"]\n",
    "\n",
    "# Load the data.\n",
    "data_rt_ccxt = ccxt_rt_client.read_data(full_symbols, start_date, end_date)\n",
    "display(data_rt_ccxt.shape)\n",
    "display(data_rt_ccxt.head(3))"
   ]
  },
  {
   "cell_type": "markdown",
   "id": "484e253a",
   "metadata": {},
   "source": [
    "### Historical"
   ]
  },
  {
   "cell_type": "code",
   "execution_count": 13,
   "id": "0ce8e4bf",
   "metadata": {
    "ExecuteTime": {
     "end_time": "2022-04-27T22:51:29.752012Z",
     "start_time": "2022-04-27T22:51:29.743773Z"
    },
    "scrolled": true
   },
   "outputs": [
    {
     "name": "stdout",
     "output_type": "stream",
     "text": [
      "INFO  txt_tmp=\n",
      "{\n",
      "  \"CCXT\": {\n",
      "    \"binance\": [\n",
      "      \"ADA_USDT\",\n",
      "      \"AVAX_USDT\",\n",
      "      \"BNB_USDT\",\n",
      "      \"BTC_USDT\",\n",
      "      \"DOGE_USDT\",\n",
      "      \"EOS_USDT\",\n",
      "      \"ETH_USDT\",\n",
      "      \"LINK_USDT\",\n",
      "      \"SOL_USDT\"\n",
      "    ],\n",
      "    \"ftx\": [\n",
      "      \"BNB_USDT\",\n",
      "      \"BTC_USDT\",\n",
      "      \"DOGE_USDT\",\n",
      "      \"ETH_USDT\",\n",
      "      \"LINK_USDT\",\n",
      "      \"SOL_USDT\",\n",
      "      \"XRP_USDT\"\n",
      "    ],\n",
      "    \"gateio\": [\n",
      "      \"ADA_USDT\",\n",
      "      \"AVAX_USDT\",\n",
      "      \"BNB_USDT\",\n",
      "      \"BTC_USDT\",\n",
      "      \"DOGE_USDT\",\n",
      "      \"EOS_USDT\",\n",
      "      \"ETH_USDT\",\n",
      "      \"FIL_USDT\",\n",
      "      \"LINK_USDT\",\n",
      "      \"SOL_USDT\",\n",
      "      \"XRP_USDT\"\n",
      "    ],\n",
      "    \"kucoin\": [\n",
      "      \"ADA_USDT\",\n",
      "      \"AVAX_USDT\",\n",
      "      \"BNB_USDT\",\n",
      "      \"BTC_USDT\",\n",
      "      \"DOGE_USDT\",\n",
      "      \"EOS_USDT\",\n",
      "      \"ETH_USDT\",\n",
      "      \"FIL_USDT\",\n",
      "      \"LINK_USDT\",\n",
      "      \"SOL_USDT\",\n",
      "      \"XRP_USDT\"\n",
      "    ]\n",
      "  }\n",
      "}\n",
      "\n"
     ]
    }
   ],
   "source": [
    "# Specify params.\n",
    "universe_version = \"v3\"\n",
    "resample_1min = True\n",
    "root_dir = config[\"load\"][\"data_dir_hist\"]\n",
    "partition_mode = config[\"load\"][\"partition_mode\"]\n",
    "data_snapshot = config[\"load\"][\"data_snapshot\"]\n",
    "aws_profile = config[\"load\"][\"aws_profile\"]\n",
    "\n",
    "# Initiate the client.\n",
    "historical_client_ccxt = icdcl.CcxtHistoricalPqByTileClient(\n",
    "    universe_version,\n",
    "    resample_1min,\n",
    "    root_dir,\n",
    "    partition_mode,\n",
    "    data_snapshot=data_snapshot,\n",
    "    aws_profile=aws_profile,\n",
    ")"
   ]
  },
  {
   "cell_type": "markdown",
   "id": "b88e66e0",
   "metadata": {},
   "source": [
    "#### Universe"
   ]
  },
  {
   "cell_type": "code",
   "execution_count": 14,
   "id": "b5bb1a7f",
   "metadata": {
    "ExecuteTime": {
     "end_time": "2022-04-27T22:51:31.057703Z",
     "start_time": "2022-04-27T22:51:31.051746Z"
    }
   },
   "outputs": [
    {
     "name": "stdout",
     "output_type": "stream",
     "text": [
      "INFO  txt_tmp=\n",
      "{\n",
      "  \"CCXT\": {\n",
      "    \"binance\": [\n",
      "      \"ADA_USDT\",\n",
      "      \"AVAX_USDT\",\n",
      "      \"BNB_USDT\",\n",
      "      \"BTC_USDT\",\n",
      "      \"DOGE_USDT\",\n",
      "      \"EOS_USDT\",\n",
      "      \"ETH_USDT\",\n",
      "      \"LINK_USDT\",\n",
      "      \"SOL_USDT\"\n",
      "    ],\n",
      "    \"ftx\": [\n",
      "      \"BNB_USDT\",\n",
      "      \"BTC_USDT\",\n",
      "      \"DOGE_USDT\",\n",
      "      \"ETH_USDT\",\n",
      "      \"LINK_USDT\",\n",
      "      \"SOL_USDT\",\n",
      "      \"XRP_USDT\"\n",
      "    ],\n",
      "    \"gateio\": [\n",
      "      \"ADA_USDT\",\n",
      "      \"AVAX_USDT\",\n",
      "      \"BNB_USDT\",\n",
      "      \"BTC_USDT\",\n",
      "      \"DOGE_USDT\",\n",
      "      \"EOS_USDT\",\n",
      "      \"ETH_USDT\",\n",
      "      \"FIL_USDT\",\n",
      "      \"LINK_USDT\",\n",
      "      \"SOL_USDT\",\n",
      "      \"XRP_USDT\"\n",
      "    ],\n",
      "    \"kucoin\": [\n",
      "      \"ADA_USDT\",\n",
      "      \"AVAX_USDT\",\n",
      "      \"BNB_USDT\",\n",
      "      \"BTC_USDT\",\n",
      "      \"DOGE_USDT\",\n",
      "      \"EOS_USDT\",\n",
      "      \"ETH_USDT\",\n",
      "      \"FIL_USDT\",\n",
      "      \"LINK_USDT\",\n",
      "      \"SOL_USDT\",\n",
      "      \"XRP_USDT\"\n",
      "    ]\n",
      "  }\n",
      "}\n",
      "\n"
     ]
    },
    {
     "data": {
      "text/plain": [
       "38"
      ]
     },
     "execution_count": 14,
     "metadata": {},
     "output_type": "execute_result"
    }
   ],
   "source": [
    "# Specify the universe.\n",
    "historical_universe = historical_client_ccxt.get_universe()\n",
    "# Choose cc for analysis.\n",
    "full_symbols = historical_universe[2:4]\n",
    "full_symbols"
   ]
  },
  {
   "cell_type": "markdown",
   "id": "4b0589b9",
   "metadata": {},
   "source": [
    "#### Data Loader"
   ]
  },
  {
   "cell_type": "code",
   "execution_count": 16,
   "id": "61fcaa63",
   "metadata": {
    "ExecuteTime": {
     "end_time": "2022-04-27T22:51:34.852052Z",
     "start_time": "2022-04-27T22:51:32.977999Z"
    },
    "scrolled": true
   },
   "outputs": [
    {
     "data": {
      "text/plain": [
       "(40322, 6)"
      ]
     },
     "metadata": {},
     "output_type": "display_data"
    },
    {
     "data": {
      "text/html": [
       "<div>\n",
       "<style scoped>\n",
       "    .dataframe tbody tr th:only-of-type {\n",
       "        vertical-align: middle;\n",
       "    }\n",
       "\n",
       "    .dataframe tbody tr th {\n",
       "        vertical-align: top;\n",
       "    }\n",
       "\n",
       "    .dataframe thead th {\n",
       "        text-align: right;\n",
       "    }\n",
       "</style>\n",
       "<table border=\"1\" class=\"dataframe\">\n",
       "  <thead>\n",
       "    <tr style=\"text-align: right;\">\n",
       "      <th></th>\n",
       "      <th>full_symbol</th>\n",
       "      <th>open</th>\n",
       "      <th>high</th>\n",
       "      <th>low</th>\n",
       "      <th>close</th>\n",
       "      <th>volume</th>\n",
       "    </tr>\n",
       "    <tr>\n",
       "      <th>timestamp</th>\n",
       "      <th></th>\n",
       "      <th></th>\n",
       "      <th></th>\n",
       "      <th></th>\n",
       "      <th></th>\n",
       "      <th></th>\n",
       "    </tr>\n",
       "  </thead>\n",
       "  <tbody>\n",
       "    <tr>\n",
       "      <th>2022-01-01 00:00:00+00:00</th>\n",
       "      <td>binance::BNB_USDT</td>\n",
       "      <td>511.50</td>\n",
       "      <td>512.50</td>\n",
       "      <td>511.40</td>\n",
       "      <td>512.2</td>\n",
       "      <td>423.92200</td>\n",
       "    </tr>\n",
       "    <tr>\n",
       "      <th>2022-01-01 00:00:00+00:00</th>\n",
       "      <td>binance::BTC_USDT</td>\n",
       "      <td>46216.93</td>\n",
       "      <td>46271.08</td>\n",
       "      <td>46208.37</td>\n",
       "      <td>46250.0</td>\n",
       "      <td>40.57574</td>\n",
       "    </tr>\n",
       "    <tr>\n",
       "      <th>2022-01-01 00:01:00+00:00</th>\n",
       "      <td>binance::BNB_USDT</td>\n",
       "      <td>512.20</td>\n",
       "      <td>513.30</td>\n",
       "      <td>511.70</td>\n",
       "      <td>513.1</td>\n",
       "      <td>709.69000</td>\n",
       "    </tr>\n",
       "  </tbody>\n",
       "</table>\n",
       "</div>"
      ],
      "text/plain": [
       "                                 full_symbol      open      high       low    close     volume\n",
       "timestamp                                                                                     \n",
       "2022-01-01 00:00:00+00:00  binance::BNB_USDT    511.50    512.50    511.40    512.2  423.92200\n",
       "2022-01-01 00:00:00+00:00  binance::BTC_USDT  46216.93  46271.08  46208.37  46250.0   40.57574\n",
       "2022-01-01 00:01:00+00:00  binance::BNB_USDT    512.20    513.30    511.70    513.1  709.69000"
      ]
     },
     "metadata": {},
     "output_type": "display_data"
    }
   ],
   "source": [
    "# Specify time period.\n",
    "start_date = config[\"data\"][\"start_date_hist\"]\n",
    "end_date = config[\"data\"][\"end_date_hist\"]\n",
    "\n",
    "# Load the data.\n",
    "data_hist_ccxt = historical_client_ccxt.read_data(\n",
    "    full_symbols, start_date, end_date\n",
    ")\n",
    "display(data_hist_ccxt.shape)\n",
    "display(data_hist_ccxt.head(3))"
   ]
  },
  {
   "cell_type": "markdown",
   "id": "fbccce83",
   "metadata": {},
   "source": [
    "# Calculate VWAP, TWAP and returns in `Dataflow` style"
   ]
  },
  {
   "cell_type": "markdown",
   "id": "dc305d6c",
   "metadata": {},
   "source": [
    "## CCXT"
   ]
  },
  {
   "cell_type": "code",
   "execution_count": 34,
   "id": "d0f8eb0c",
   "metadata": {
    "ExecuteTime": {
     "end_time": "2022-04-27T22:54:51.065375Z",
     "start_time": "2022-04-27T22:54:50.955064Z"
    }
   },
   "outputs": [],
   "source": [
    "# VWAP, TWAP transformation.\n",
    "resampling_rule = config[\"transform\"][\"resampling_rule\"]\n",
    "vwap_twap_df = calculate_vwap_twap(data_hist_ccxt, resampling_rule)\n",
    "\n",
    "# Returns calculation.\n",
    "rets_type = config[\"transform\"][\"rets_type\"]\n",
    "vwap_twap_rets_df = calculate_returns(vwap_twap_df, rets_type)"
   ]
  },
  {
   "cell_type": "code",
   "execution_count": 35,
   "id": "aa23e95f",
   "metadata": {
    "ExecuteTime": {
     "end_time": "2022-04-27T22:54:51.575615Z",
     "start_time": "2022-04-27T22:54:51.553753Z"
    },
    "run_control": {
     "marked": false
    }
   },
   "outputs": [
    {
     "data": {
      "text/html": [
       "<div>\n",
       "<style scoped>\n",
       "    .dataframe tbody tr th:only-of-type {\n",
       "        vertical-align: middle;\n",
       "    }\n",
       "\n",
       "    .dataframe tbody tr th {\n",
       "        vertical-align: top;\n",
       "    }\n",
       "\n",
       "    .dataframe thead tr th {\n",
       "        text-align: left;\n",
       "    }\n",
       "\n",
       "    .dataframe thead tr:last-of-type th {\n",
       "        text-align: right;\n",
       "    }\n",
       "</style>\n",
       "<table border=\"1\" class=\"dataframe\">\n",
       "  <thead>\n",
       "    <tr>\n",
       "      <th></th>\n",
       "      <th colspan=\"2\" halign=\"left\">close.ret_0</th>\n",
       "      <th colspan=\"2\" halign=\"left\">twap.ret_0</th>\n",
       "      <th colspan=\"2\" halign=\"left\">vwap.ret_0</th>\n",
       "      <th colspan=\"2\" halign=\"left\">close</th>\n",
       "      <th colspan=\"2\" halign=\"left\">twap</th>\n",
       "      <th colspan=\"2\" halign=\"left\">volume</th>\n",
       "      <th colspan=\"2\" halign=\"left\">vwap</th>\n",
       "    </tr>\n",
       "    <tr>\n",
       "      <th></th>\n",
       "      <th>binance::BNB_USDT</th>\n",
       "      <th>binance::BTC_USDT</th>\n",
       "      <th>binance::BNB_USDT</th>\n",
       "      <th>binance::BTC_USDT</th>\n",
       "      <th>binance::BNB_USDT</th>\n",
       "      <th>binance::BTC_USDT</th>\n",
       "      <th>binance::BNB_USDT</th>\n",
       "      <th>binance::BTC_USDT</th>\n",
       "      <th>binance::BNB_USDT</th>\n",
       "      <th>binance::BTC_USDT</th>\n",
       "      <th>binance::BNB_USDT</th>\n",
       "      <th>binance::BTC_USDT</th>\n",
       "      <th>binance::BNB_USDT</th>\n",
       "      <th>binance::BTC_USDT</th>\n",
       "    </tr>\n",
       "    <tr>\n",
       "      <th>timestamp</th>\n",
       "      <th></th>\n",
       "      <th></th>\n",
       "      <th></th>\n",
       "      <th></th>\n",
       "      <th></th>\n",
       "      <th></th>\n",
       "      <th></th>\n",
       "      <th></th>\n",
       "      <th></th>\n",
       "      <th></th>\n",
       "      <th></th>\n",
       "      <th></th>\n",
       "      <th></th>\n",
       "      <th></th>\n",
       "    </tr>\n",
       "  </thead>\n",
       "  <tbody>\n",
       "    <tr>\n",
       "      <th>2022-01-01 00:00:00+00:00</th>\n",
       "      <td>NaN</td>\n",
       "      <td>NaN</td>\n",
       "      <td>NaN</td>\n",
       "      <td>NaN</td>\n",
       "      <td>NaN</td>\n",
       "      <td>NaN</td>\n",
       "      <td>512.2</td>\n",
       "      <td>46250.00</td>\n",
       "      <td>512.20</td>\n",
       "      <td>46250.000</td>\n",
       "      <td>423.922</td>\n",
       "      <td>40.57574</td>\n",
       "      <td>512.200000</td>\n",
       "      <td>46250.000000</td>\n",
       "    </tr>\n",
       "    <tr>\n",
       "      <th>2022-01-01 00:05:00+00:00</th>\n",
       "      <td>0.002733</td>\n",
       "      <td>0.004022</td>\n",
       "      <td>0.001952</td>\n",
       "      <td>0.002248</td>\n",
       "      <td>0.001984</td>\n",
       "      <td>0.002316</td>\n",
       "      <td>513.6</td>\n",
       "      <td>46436.03</td>\n",
       "      <td>513.20</td>\n",
       "      <td>46353.988</td>\n",
       "      <td>2393.343</td>\n",
       "      <td>180.96666</td>\n",
       "      <td>513.216045</td>\n",
       "      <td>46357.134946</td>\n",
       "    </tr>\n",
       "    <tr>\n",
       "      <th>2022-01-01 00:10:00+00:00</th>\n",
       "      <td>0.000000</td>\n",
       "      <td>-0.001211</td>\n",
       "      <td>0.000624</td>\n",
       "      <td>0.001380</td>\n",
       "      <td>0.000720</td>\n",
       "      <td>0.001692</td>\n",
       "      <td>513.6</td>\n",
       "      <td>46379.80</td>\n",
       "      <td>513.52</td>\n",
       "      <td>46417.962</td>\n",
       "      <td>1433.895</td>\n",
       "      <td>98.22629</td>\n",
       "      <td>513.585325</td>\n",
       "      <td>46435.585278</td>\n",
       "    </tr>\n",
       "  </tbody>\n",
       "</table>\n",
       "</div>"
      ],
      "text/plain": [
       "                                close.ret_0                          twap.ret_0                          vwap.ret_0                               close                                twap                              volume                                vwap                  \n",
       "                          binance::BNB_USDT binance::BTC_USDT binance::BNB_USDT binance::BTC_USDT binance::BNB_USDT binance::BTC_USDT binance::BNB_USDT binance::BTC_USDT binance::BNB_USDT binance::BTC_USDT binance::BNB_USDT binance::BTC_USDT binance::BNB_USDT binance::BTC_USDT\n",
       "timestamp                                                                                                                                                                                                                                                                            \n",
       "2022-01-01 00:00:00+00:00               NaN               NaN               NaN               NaN               NaN               NaN             512.2          46250.00            512.20         46250.000           423.922          40.57574        512.200000      46250.000000\n",
       "2022-01-01 00:05:00+00:00          0.002733          0.004022          0.001952          0.002248          0.001984          0.002316             513.6          46436.03            513.20         46353.988          2393.343         180.96666        513.216045      46357.134946\n",
       "2022-01-01 00:10:00+00:00          0.000000         -0.001211          0.000624          0.001380          0.000720          0.001692             513.6          46379.80            513.52         46417.962          1433.895          98.22629        513.585325      46435.585278"
      ]
     },
     "execution_count": 35,
     "metadata": {},
     "output_type": "execute_result"
    }
   ],
   "source": [
    "# Show the snippet.\n",
    "vwap_twap_rets_df.head(3)"
   ]
  },
  {
   "cell_type": "code",
   "execution_count": 36,
   "id": "556c808e",
   "metadata": {
    "ExecuteTime": {
     "end_time": "2022-04-27T22:54:52.175670Z",
     "start_time": "2022-04-27T22:54:51.714075Z"
    },
    "run_control": {
     "marked": false
    },
    "scrolled": true
   },
   "outputs": [
    {
     "data": {
      "text/html": [
       "<div>\n",
       "<style scoped>\n",
       "    .dataframe tbody tr th:only-of-type {\n",
       "        vertical-align: middle;\n",
       "    }\n",
       "\n",
       "    .dataframe tbody tr th {\n",
       "        vertical-align: top;\n",
       "    }\n",
       "\n",
       "    .dataframe thead th {\n",
       "        text-align: right;\n",
       "    }\n",
       "</style>\n",
       "<table border=\"1\" class=\"dataframe\">\n",
       "  <thead>\n",
       "    <tr style=\"text-align: right;\">\n",
       "      <th></th>\n",
       "      <th>close.ret_0</th>\n",
       "      <th>twap.ret_0</th>\n",
       "      <th>vwap.ret_0</th>\n",
       "    </tr>\n",
       "  </thead>\n",
       "  <tbody>\n",
       "    <tr>\n",
       "      <th>close.ret_0</th>\n",
       "      <td>1.000000</td>\n",
       "      <td>0.721488</td>\n",
       "      <td>0.812338</td>\n",
       "    </tr>\n",
       "    <tr>\n",
       "      <th>twap.ret_0</th>\n",
       "      <td>0.721488</td>\n",
       "      <td>1.000000</td>\n",
       "      <td>0.948830</td>\n",
       "    </tr>\n",
       "    <tr>\n",
       "      <th>vwap.ret_0</th>\n",
       "      <td>0.812338</td>\n",
       "      <td>0.948830</td>\n",
       "      <td>1.000000</td>\n",
       "    </tr>\n",
       "  </tbody>\n",
       "</table>\n",
       "</div>"
      ],
      "text/plain": [
       "             close.ret_0  twap.ret_0  vwap.ret_0\n",
       "close.ret_0     1.000000    0.721488    0.812338\n",
       "twap.ret_0      0.721488    1.000000    0.948830\n",
       "vwap.ret_0      0.812338    0.948830    1.000000"
      ]
     },
     "metadata": {},
     "output_type": "display_data"
    },
    {
     "data": {
      "text/plain": [
       "<AxesSubplot:xlabel='timestamp'>"
      ]
     },
     "execution_count": 36,
     "metadata": {},
     "output_type": "execute_result"
    },
    {
     "data": {
      "image/png": "[encoded data removed]",
      "text/plain": [
       "<Figure size 1440x360 with 1 Axes>"
      ]
     },
     "metadata": {},
     "output_type": "display_data"
    }
   ],
   "source": [
    "# Stats and vizualisation to check the outcomes.\n",
    "bnb_ex = vwap_twap_rets_df.swaplevel(axis=1)\n",
    "bnb_ex = bnb_ex[\"binance::BNB_USDT\"][[\"close.ret_0\", \"twap.ret_0\", \"vwap.ret_0\"]]\n",
    "display(bnb_ex.corr())\n",
    "bnb_ex.plot()"
   ]
  },
  {
   "cell_type": "markdown",
   "id": "fcc86ee7",
   "metadata": {},
   "source": [
    "# Bid-ask data"
   ]
  },
  {
   "cell_type": "code",
   "execution_count": 40,
   "id": "2882f2ef",
   "metadata": {
    "ExecuteTime": {
     "end_time": "2022-04-27T22:54:52.863137Z",
     "start_time": "2022-04-27T22:54:52.859953Z"
    }
   },
   "outputs": [],
   "source": [
    "# TODO(Max): Refactor the loading part once #1766 is implemented."
   ]
  },
  {
   "cell_type": "code",
   "execution_count": 41,
   "id": "59e9844e",
   "metadata": {
    "ExecuteTime": {
     "end_time": "2022-04-27T22:54:52.879409Z",
     "start_time": "2022-04-27T22:54:52.864767Z"
    }
   },
   "outputs": [],
   "source": [
    "# Functions to deal with `crypto-chassis` data.\n",
    "def load_bid_ask_data(exchange_id, currency_pair, list_of_dates):\n",
    "    # Using the variables from `datelist` the multiple requests can be sent to the API.\n",
    "    result = []\n",
    "    for date in list_of_dates:\n",
    "        # Interaction with the API.\n",
    "        r = requests.get(\n",
    "            f\"https://api.cryptochassis.com/v1/market-depth/{exchange_id}/{currency_pair}?startTime={date}\"\n",
    "        )\n",
    "        data = pd.read_csv(r.json()[\"urls\"][0][\"url\"], compression=\"gzip\")\n",
    "        # Attaching it day-by-day to the final DataFrame.\n",
    "        result.append(data)\n",
    "    bid_ask_df = pd.concat(result)\n",
    "    return bid_ask_df\n",
    "\n",
    "\n",
    "def clean_up_raw_bid_ask_data(df, full_symbol):\n",
    "    # Split the columns to differentiate between `price` and `size`.\n",
    "    df[[\"bid_price\", \"bid_size\"]] = df[\"bid_price_bid_size\"].str.split(\n",
    "        \"_\", expand=True\n",
    "    )\n",
    "    df[[\"ask_price\", \"ask_size\"]] = df[\"ask_price_ask_size\"].str.split(\n",
    "        \"_\", expand=True\n",
    "    )\n",
    "    df = df.drop(columns=[\"bid_price_bid_size\", \"ask_price_ask_size\"])\n",
    "    # Convert `timestamps` to the usual format.\n",
    "    df = df.rename(columns={\"time_seconds\": \"timestamp\"})\n",
    "    df[\"timestamp\"] = df[\"timestamp\"].apply(\n",
    "        lambda x: hdateti.convert_unix_epoch_to_timestamp(x, unit=\"s\")\n",
    "    )\n",
    "    df = df.set_index(\"timestamp\")\n",
    "    # Convert to `float`.\n",
    "    for cols in df.columns:\n",
    "        df[cols] = df[cols].astype(float)\n",
    "    # Add `full_symbol` (hardcoded solution).\n",
    "    df[\"full_symbol\"] = full_symbol\n",
    "    return df\n",
    "\n",
    "\n",
    "def resample_bid_ask(df, resampling_rule):\n",
    "    \"\"\"\n",
    "    In the current format the data is presented in the `seconds` frequency. In\n",
    "    order to convert it to the minutely (or other) frequencies the following\n",
    "    aggregation rules are applied:\n",
    "\n",
    "    - Size is the sum of all sizes during the resampling period\n",
    "    - Price is the mean of all prices during the resampling period\n",
    "    \"\"\"\n",
    "    new_df = cfinresa.resample(df, rule=resampling_rule).agg(\n",
    "        {\n",
    "            \"bid_price\": \"mean\",\n",
    "            \"bid_size\": \"sum\",\n",
    "            \"ask_price\": \"mean\",\n",
    "            \"ask_size\": \"sum\",\n",
    "            \"full_symbol\": \"last\",\n",
    "        }\n",
    "    )\n",
    "    return new_df\n",
    "\n",
    "\n",
    "def process_bid_ask_data(df, full_symbol, resampling_rule):\n",
    "    # Convert the data to the right format.\n",
    "    converted_df = clean_up_raw_bid_ask_data(df, full_symbol)\n",
    "    # Resample.\n",
    "    converted_resampled_df = resample_bid_ask(converted_df, resampling_rule)\n",
    "    # Convert to multiindex.\n",
    "    converted_resampled_df = dtfcorutil.convert_to_multiindex(\n",
    "        converted_resampled_df, \"full_symbol\"\n",
    "    )\n",
    "    return converted_resampled_df\n",
    "\n",
    "\n",
    "def calculate_bid_ask_statistics(df):\n",
    "    # Configure the node to calculate the returns.\n",
    "    node_bid_ask_config = {\n",
    "        \"in_col_groups\": [\n",
    "            (\"ask_price\",),\n",
    "            (\"ask_size\",),\n",
    "            (\"bid_price\",),\n",
    "            (\"bid_size\",),\n",
    "        ],\n",
    "        \"out_col_group\": (),\n",
    "        \"transformer_kwargs\": {\n",
    "            \"bid_col\": \"bid_price\",\n",
    "            \"ask_col\": \"ask_price\",\n",
    "            \"bid_volume_col\": \"bid_size\",\n",
    "            \"ask_volume_col\": \"ask_size\",\n",
    "        },\n",
    "    }\n",
    "    # Create the node that computes bid ask metrics.\n",
    "    nid = \"process_bid_ask\"\n",
    "    node = dtfcore.GroupedColDfToDfTransformer(\n",
    "        nid,\n",
    "        transformer_func=cfibiask.process_bid_ask,\n",
    "        **node_bid_ask_config,\n",
    "    )\n",
    "    # Compute the node on the data.\n",
    "    bid_ask_metrics = node.fit(df)\n",
    "    # Save the result.\n",
    "    bid_ask_metrics = bid_ask_metrics[\"df_out\"]\n",
    "    return bid_ask_metrics"
   ]
  },
  {
   "cell_type": "markdown",
   "id": "6d75eeb9",
   "metadata": {},
   "source": [
    "## Load, process and calculate metrics for raw bid ask data from crypto-chassis"
   ]
  },
  {
   "cell_type": "code",
   "execution_count": 42,
   "id": "4b344d8f",
   "metadata": {
    "ExecuteTime": {
     "end_time": "2022-04-27T22:54:52.907282Z",
     "start_time": "2022-04-27T22:54:52.903043Z"
    }
   },
   "outputs": [],
   "source": [
    "# Get the list of all dates in the range.\n",
    "datelist = pd.date_range(\"2022-01-01\", periods=14).tolist()\n",
    "datelist = [str(x.strftime(\"%Y-%m-%d\")) for x in datelist]"
   ]
  },
  {
   "cell_type": "code",
   "execution_count": 43,
   "id": "434577a8",
   "metadata": {
    "ExecuteTime": {
     "end_time": "2022-04-27T22:54:53.004658Z",
     "start_time": "2022-04-27T22:54:52.999438Z"
    }
   },
   "outputs": [
    {
     "data": {
      "text/plain": [
       "['binance::BNB_USDT', 'binance::BTC_USDT']"
      ]
     },
     "execution_count": 43,
     "metadata": {},
     "output_type": "execute_result"
    }
   ],
   "source": [
    "# These `full_symbols` need to be loaded (to attach it to historical CCXT data).\n",
    "full_symbols"
   ]
  },
  {
   "cell_type": "code",
   "execution_count": 44,
   "id": "f5c0fdf1",
   "metadata": {
    "ExecuteTime": {
     "end_time": "2022-04-27T22:55:34.126100Z",
     "start_time": "2022-04-27T22:54:53.122179Z"
    }
   },
   "outputs": [],
   "source": [
    "# Load `binance::BNB_USDT`.\n",
    "bid_ask_bnb = load_bid_ask_data(\"binance\", \"bnb-usdt\", datelist)\n",
    "# Transforming the data. Data is resampled during its transformation.\n",
    "processed_bid_ask_bnb = process_bid_ask_data(\n",
    "    bid_ask_bnb, \"binance::BNB_USDT\", \"5T\"\n",
    ")"
   ]
  },
  {
   "cell_type": "code",
   "execution_count": 45,
   "id": "1e947ae5",
   "metadata": {
    "ExecuteTime": {
     "end_time": "2022-04-27T22:56:17.294886Z",
     "start_time": "2022-04-27T22:55:34.128377Z"
    }
   },
   "outputs": [],
   "source": [
    "# Load `binance::BTC_USDT`.\n",
    "bid_ask_btc = load_bid_ask_data(\"binance\", \"btc-usdt\", datelist)\n",
    "# Transforming the data. Data is resampled during its transformation.\n",
    "processed_bid_ask_btc = process_bid_ask_data(\n",
    "    bid_ask_btc, \"binance::BTC_USDT\", \"5T\"\n",
    ")"
   ]
  },
  {
   "cell_type": "code",
   "execution_count": 46,
   "id": "0d0abcb8",
   "metadata": {
    "ExecuteTime": {
     "end_time": "2022-04-27T22:56:17.385812Z",
     "start_time": "2022-04-27T22:56:17.296805Z"
    }
   },
   "outputs": [
    {
     "data": {
      "text/html": [
       "<div>\n",
       "<style scoped>\n",
       "    .dataframe tbody tr th:only-of-type {\n",
       "        vertical-align: middle;\n",
       "    }\n",
       "\n",
       "    .dataframe tbody tr th {\n",
       "        vertical-align: top;\n",
       "    }\n",
       "\n",
       "    .dataframe thead tr th {\n",
       "        text-align: left;\n",
       "    }\n",
       "\n",
       "    .dataframe thead tr:last-of-type th {\n",
       "        text-align: right;\n",
       "    }\n",
       "</style>\n",
       "<table border=\"1\" class=\"dataframe\">\n",
       "  <thead>\n",
       "    <tr>\n",
       "      <th></th>\n",
       "      <th colspan=\"2\" halign=\"left\">ask_value</th>\n",
       "      <th colspan=\"2\" halign=\"left\">bid_value</th>\n",
       "      <th colspan=\"2\" halign=\"left\">centered_order_book_imbalance</th>\n",
       "      <th colspan=\"2\" halign=\"left\">geometric_mid</th>\n",
       "      <th colspan=\"2\" halign=\"left\">log_order_book_imbalance</th>\n",
       "      <th colspan=\"2\" halign=\"left\">log_relative_spread</th>\n",
       "      <th colspan=\"2\" halign=\"left\">mid</th>\n",
       "      <th colspan=\"2\" halign=\"left\">mid_value</th>\n",
       "      <th colspan=\"2\" halign=\"left\">order_book_imbalance</th>\n",
       "      <th colspan=\"2\" halign=\"left\">quoted_spread</th>\n",
       "      <th colspan=\"2\" halign=\"left\">relative_spread</th>\n",
       "      <th colspan=\"2\" halign=\"left\">weighted_mid</th>\n",
       "      <th>ask_price</th>\n",
       "      <th>ask_size</th>\n",
       "      <th>bid_price</th>\n",
       "      <th>bid_size</th>\n",
       "      <th>ask_price</th>\n",
       "      <th>ask_size</th>\n",
       "      <th>bid_price</th>\n",
       "      <th>bid_size</th>\n",
       "    </tr>\n",
       "    <tr>\n",
       "      <th></th>\n",
       "      <th>binance::BNB_USDT</th>\n",
       "      <th>binance::BTC_USDT</th>\n",
       "      <th>binance::BNB_USDT</th>\n",
       "      <th>binance::BTC_USDT</th>\n",
       "      <th>binance::BNB_USDT</th>\n",
       "      <th>binance::BTC_USDT</th>\n",
       "      <th>binance::BNB_USDT</th>\n",
       "      <th>binance::BTC_USDT</th>\n",
       "      <th>binance::BNB_USDT</th>\n",
       "      <th>binance::BTC_USDT</th>\n",
       "      <th>binance::BNB_USDT</th>\n",
       "      <th>binance::BTC_USDT</th>\n",
       "      <th>binance::BNB_USDT</th>\n",
       "      <th>binance::BTC_USDT</th>\n",
       "      <th>binance::BNB_USDT</th>\n",
       "      <th>binance::BTC_USDT</th>\n",
       "      <th>binance::BNB_USDT</th>\n",
       "      <th>binance::BTC_USDT</th>\n",
       "      <th>binance::BNB_USDT</th>\n",
       "      <th>binance::BTC_USDT</th>\n",
       "      <th>binance::BNB_USDT</th>\n",
       "      <th>binance::BTC_USDT</th>\n",
       "      <th>binance::BNB_USDT</th>\n",
       "      <th>binance::BTC_USDT</th>\n",
       "      <th>binance::BNB_USDT</th>\n",
       "      <th>binance::BNB_USDT</th>\n",
       "      <th>binance::BNB_USDT</th>\n",
       "      <th>binance::BNB_USDT</th>\n",
       "      <th>binance::BTC_USDT</th>\n",
       "      <th>binance::BTC_USDT</th>\n",
       "      <th>binance::BTC_USDT</th>\n",
       "      <th>binance::BTC_USDT</th>\n",
       "    </tr>\n",
       "    <tr>\n",
       "      <th>timestamp</th>\n",
       "      <th></th>\n",
       "      <th></th>\n",
       "      <th></th>\n",
       "      <th></th>\n",
       "      <th></th>\n",
       "      <th></th>\n",
       "      <th></th>\n",
       "      <th></th>\n",
       "      <th></th>\n",
       "      <th></th>\n",
       "      <th></th>\n",
       "      <th></th>\n",
       "      <th></th>\n",
       "      <th></th>\n",
       "      <th></th>\n",
       "      <th></th>\n",
       "      <th></th>\n",
       "      <th></th>\n",
       "      <th></th>\n",
       "      <th></th>\n",
       "      <th></th>\n",
       "      <th></th>\n",
       "      <th></th>\n",
       "      <th></th>\n",
       "      <th></th>\n",
       "      <th></th>\n",
       "      <th></th>\n",
       "      <th></th>\n",
       "      <th></th>\n",
       "      <th></th>\n",
       "      <th></th>\n",
       "      <th></th>\n",
       "    </tr>\n",
       "  </thead>\n",
       "  <tbody>\n",
       "    <tr>\n",
       "      <th>2022-01-14 23:50:00+00:00</th>\n",
       "      <td>9.513740e+06</td>\n",
       "      <td>7.072532e+06</td>\n",
       "      <td>1.451795e+07</td>\n",
       "      <td>9.552870e+06</td>\n",
       "      <td>0.208331</td>\n",
       "      <td>0.149190</td>\n",
       "      <td>489.283108</td>\n",
       "      <td>43040.163763</td>\n",
       "      <td>0.422853</td>\n",
       "      <td>0.300624</td>\n",
       "      <td>0.000204</td>\n",
       "      <td>9.410204e-07</td>\n",
       "      <td>489.283110</td>\n",
       "      <td>43040.163763</td>\n",
       "      <td>1.201584e+07</td>\n",
       "      <td>8.312701e+06</td>\n",
       "      <td>0.604166</td>\n",
       "      <td>0.574595</td>\n",
       "      <td>0.100000</td>\n",
       "      <td>0.040502</td>\n",
       "      <td>0.000204</td>\n",
       "      <td>9.410204e-07</td>\n",
       "      <td>489.293527</td>\n",
       "      <td>43040.166784</td>\n",
       "      <td>489.333110</td>\n",
       "      <td>19442.257</td>\n",
       "      <td>489.233110</td>\n",
       "      <td>29674.910</td>\n",
       "      <td>43040.184013</td>\n",
       "      <td>164.32392</td>\n",
       "      <td>43040.143512</td>\n",
       "      <td>221.95257</td>\n",
       "    </tr>\n",
       "    <tr>\n",
       "      <th>2022-01-14 23:55:00+00:00</th>\n",
       "      <td>1.012650e+07</td>\n",
       "      <td>8.126317e+06</td>\n",
       "      <td>1.299193e+07</td>\n",
       "      <td>1.015813e+07</td>\n",
       "      <td>0.124046</td>\n",
       "      <td>0.111123</td>\n",
       "      <td>489.770606</td>\n",
       "      <td>43052.047685</td>\n",
       "      <td>0.249377</td>\n",
       "      <td>0.223168</td>\n",
       "      <td>0.000204</td>\n",
       "      <td>1.800536e-06</td>\n",
       "      <td>489.770608</td>\n",
       "      <td>43052.047685</td>\n",
       "      <td>1.155921e+07</td>\n",
       "      <td>9.142223e+06</td>\n",
       "      <td>0.562023</td>\n",
       "      <td>0.555562</td>\n",
       "      <td>0.100000</td>\n",
       "      <td>0.077517</td>\n",
       "      <td>0.000204</td>\n",
       "      <td>1.800536e-06</td>\n",
       "      <td>489.776810</td>\n",
       "      <td>43052.051992</td>\n",
       "      <td>489.820608</td>\n",
       "      <td>20673.894</td>\n",
       "      <td>489.720608</td>\n",
       "      <td>26529.270</td>\n",
       "      <td>43052.086443</td>\n",
       "      <td>188.75547</td>\n",
       "      <td>43052.008926</td>\n",
       "      <td>235.95017</td>\n",
       "    </tr>\n",
       "    <tr>\n",
       "      <th>2022-01-15 00:00:00+00:00</th>\n",
       "      <td>9.428791e+06</td>\n",
       "      <td>9.671616e+06</td>\n",
       "      <td>1.133908e+07</td>\n",
       "      <td>9.764472e+06</td>\n",
       "      <td>0.092085</td>\n",
       "      <td>0.004778</td>\n",
       "      <td>489.833388</td>\n",
       "      <td>43063.497097</td>\n",
       "      <td>0.184692</td>\n",
       "      <td>0.009555</td>\n",
       "      <td>0.000205</td>\n",
       "      <td>2.703983e-07</td>\n",
       "      <td>489.833390</td>\n",
       "      <td>43063.497097</td>\n",
       "      <td>1.038394e+07</td>\n",
       "      <td>9.718044e+06</td>\n",
       "      <td>0.546042</td>\n",
       "      <td>0.502389</td>\n",
       "      <td>0.100342</td>\n",
       "      <td>0.011644</td>\n",
       "      <td>0.000205</td>\n",
       "      <td>2.703983e-07</td>\n",
       "      <td>489.838010</td>\n",
       "      <td>43063.497125</td>\n",
       "      <td>489.883562</td>\n",
       "      <td>19247.005</td>\n",
       "      <td>489.783219</td>\n",
       "      <td>23151.226</td>\n",
       "      <td>43063.502919</td>\n",
       "      <td>224.58963</td>\n",
       "      <td>43063.491275</td>\n",
       "      <td>226.74594</td>\n",
       "    </tr>\n",
       "  </tbody>\n",
       "</table>\n",
       "</div>"
      ],
      "text/plain": [
       "                                  ask_value                           bid_value                   centered_order_book_imbalance                       geometric_mid                   log_order_book_imbalance                   log_relative_spread                                 mid                           mid_value                   order_book_imbalance                       quoted_spread                     relative_spread                        weighted_mid                           ask_price          ask_size         bid_price          bid_size         ask_price          ask_size         bid_price          bid_size\n",
       "                          binance::BNB_USDT binance::BTC_USDT binance::BNB_USDT binance::BTC_USDT             binance::BNB_USDT binance::BTC_USDT binance::BNB_USDT binance::BTC_USDT        binance::BNB_USDT binance::BTC_USDT   binance::BNB_USDT binance::BTC_USDT binance::BNB_USDT binance::BTC_USDT binance::BNB_USDT binance::BTC_USDT    binance::BNB_USDT binance::BTC_USDT binance::BNB_USDT binance::BTC_USDT binance::BNB_USDT binance::BTC_USDT binance::BNB_USDT binance::BTC_USDT binance::BNB_USDT binance::BNB_USDT binance::BNB_USDT binance::BNB_USDT binance::BTC_USDT binance::BTC_USDT binance::BTC_USDT binance::BTC_USDT\n",
       "timestamp                                                                                                                                                                                                                                                                                                                                                                                                                                                                                                                                                                                                                                        \n",
       "2022-01-14 23:50:00+00:00      9.513740e+06      7.072532e+06      1.451795e+07      9.552870e+06                      0.208331          0.149190        489.283108      43040.163763                 0.422853          0.300624            0.000204      9.410204e-07        489.283110      43040.163763      1.201584e+07      8.312701e+06             0.604166          0.574595          0.100000          0.040502          0.000204      9.410204e-07        489.293527      43040.166784        489.333110         19442.257        489.233110         29674.910      43040.184013         164.32392      43040.143512         221.95257\n",
       "2022-01-14 23:55:00+00:00      1.012650e+07      8.126317e+06      1.299193e+07      1.015813e+07                      0.124046          0.111123        489.770606      43052.047685                 0.249377          0.223168            0.000204      1.800536e-06        489.770608      43052.047685      1.155921e+07      9.142223e+06             0.562023          0.555562          0.100000          0.077517          0.000204      1.800536e-06        489.776810      43052.051992        489.820608         20673.894        489.720608         26529.270      43052.086443         188.75547      43052.008926         235.95017\n",
       "2022-01-15 00:00:00+00:00      9.428791e+06      9.671616e+06      1.133908e+07      9.764472e+06                      0.092085          0.004778        489.833388      43063.497097                 0.184692          0.009555            0.000205      2.703983e-07        489.833390      43063.497097      1.038394e+07      9.718044e+06             0.546042          0.502389          0.100342          0.011644          0.000205      2.703983e-07        489.838010      43063.497125        489.883562         19247.005        489.783219         23151.226      43063.502919         224.58963      43063.491275         226.74594"
      ]
     },
     "execution_count": 46,
     "metadata": {},
     "output_type": "execute_result"
    }
   ],
   "source": [
    "# Unite two `full_symbols`.\n",
    "bid_ask_df = pd.concat([processed_bid_ask_bnb, processed_bid_ask_btc], axis=1)\n",
    "# Calculate bid-ask metrics.\n",
    "bid_ask_df = calculate_bid_ask_statistics(bid_ask_df)\n",
    "bid_ask_df.tail(3)"
   ]
  },
  {
   "cell_type": "markdown",
   "id": "bb3d7f6e",
   "metadata": {},
   "source": [
    "## Unite VWAP, TWAP, rets statistics with bid-ask stats"
   ]
  },
  {
   "cell_type": "code",
   "execution_count": 47,
   "id": "9d8633be",
   "metadata": {
    "ExecuteTime": {
     "end_time": "2022-04-27T22:56:17.456226Z",
     "start_time": "2022-04-27T22:56:17.390105Z"
    }
   },
   "outputs": [
    {
     "data": {
      "text/html": [
       "<div>\n",
       "<style scoped>\n",
       "    .dataframe tbody tr th:only-of-type {\n",
       "        vertical-align: middle;\n",
       "    }\n",
       "\n",
       "    .dataframe tbody tr th {\n",
       "        vertical-align: top;\n",
       "    }\n",
       "\n",
       "    .dataframe thead tr th {\n",
       "        text-align: left;\n",
       "    }\n",
       "\n",
       "    .dataframe thead tr:last-of-type th {\n",
       "        text-align: right;\n",
       "    }\n",
       "</style>\n",
       "<table border=\"1\" class=\"dataframe\">\n",
       "  <thead>\n",
       "    <tr>\n",
       "      <th></th>\n",
       "      <th colspan=\"2\" halign=\"left\">close.ret_0</th>\n",
       "      <th colspan=\"2\" halign=\"left\">twap.ret_0</th>\n",
       "      <th colspan=\"2\" halign=\"left\">vwap.ret_0</th>\n",
       "      <th colspan=\"2\" halign=\"left\">close</th>\n",
       "      <th colspan=\"2\" halign=\"left\">twap</th>\n",
       "      <th colspan=\"2\" halign=\"left\">volume</th>\n",
       "      <th colspan=\"2\" halign=\"left\">vwap</th>\n",
       "      <th colspan=\"2\" halign=\"left\">ask_value</th>\n",
       "      <th colspan=\"2\" halign=\"left\">bid_value</th>\n",
       "      <th colspan=\"2\" halign=\"left\">centered_order_book_imbalance</th>\n",
       "      <th colspan=\"2\" halign=\"left\">geometric_mid</th>\n",
       "      <th colspan=\"2\" halign=\"left\">log_order_book_imbalance</th>\n",
       "      <th colspan=\"2\" halign=\"left\">log_relative_spread</th>\n",
       "      <th colspan=\"2\" halign=\"left\">mid</th>\n",
       "      <th colspan=\"2\" halign=\"left\">mid_value</th>\n",
       "      <th colspan=\"2\" halign=\"left\">order_book_imbalance</th>\n",
       "      <th colspan=\"2\" halign=\"left\">quoted_spread</th>\n",
       "      <th colspan=\"2\" halign=\"left\">relative_spread</th>\n",
       "      <th colspan=\"2\" halign=\"left\">weighted_mid</th>\n",
       "      <th>ask_price</th>\n",
       "      <th>ask_size</th>\n",
       "      <th>bid_price</th>\n",
       "      <th>bid_size</th>\n",
       "      <th>ask_price</th>\n",
       "      <th>ask_size</th>\n",
       "      <th>bid_price</th>\n",
       "      <th>bid_size</th>\n",
       "    </tr>\n",
       "    <tr>\n",
       "      <th></th>\n",
       "      <th>binance::BNB_USDT</th>\n",
       "      <th>binance::BTC_USDT</th>\n",
       "      <th>binance::BNB_USDT</th>\n",
       "      <th>binance::BTC_USDT</th>\n",
       "      <th>binance::BNB_USDT</th>\n",
       "      <th>binance::BTC_USDT</th>\n",
       "      <th>binance::BNB_USDT</th>\n",
       "      <th>binance::BTC_USDT</th>\n",
       "      <th>binance::BNB_USDT</th>\n",
       "      <th>binance::BTC_USDT</th>\n",
       "      <th>binance::BNB_USDT</th>\n",
       "      <th>binance::BTC_USDT</th>\n",
       "      <th>binance::BNB_USDT</th>\n",
       "      <th>binance::BTC_USDT</th>\n",
       "      <th>binance::BNB_USDT</th>\n",
       "      <th>binance::BTC_USDT</th>\n",
       "      <th>binance::BNB_USDT</th>\n",
       "      <th>binance::BTC_USDT</th>\n",
       "      <th>binance::BNB_USDT</th>\n",
       "      <th>binance::BTC_USDT</th>\n",
       "      <th>binance::BNB_USDT</th>\n",
       "      <th>binance::BTC_USDT</th>\n",
       "      <th>binance::BNB_USDT</th>\n",
       "      <th>binance::BTC_USDT</th>\n",
       "      <th>binance::BNB_USDT</th>\n",
       "      <th>binance::BTC_USDT</th>\n",
       "      <th>binance::BNB_USDT</th>\n",
       "      <th>binance::BTC_USDT</th>\n",
       "      <th>binance::BNB_USDT</th>\n",
       "      <th>binance::BTC_USDT</th>\n",
       "      <th>binance::BNB_USDT</th>\n",
       "      <th>binance::BTC_USDT</th>\n",
       "      <th>binance::BNB_USDT</th>\n",
       "      <th>binance::BTC_USDT</th>\n",
       "      <th>binance::BNB_USDT</th>\n",
       "      <th>binance::BTC_USDT</th>\n",
       "      <th>binance::BNB_USDT</th>\n",
       "      <th>binance::BTC_USDT</th>\n",
       "      <th>binance::BNB_USDT</th>\n",
       "      <th>binance::BNB_USDT</th>\n",
       "      <th>binance::BNB_USDT</th>\n",
       "      <th>binance::BNB_USDT</th>\n",
       "      <th>binance::BTC_USDT</th>\n",
       "      <th>binance::BTC_USDT</th>\n",
       "      <th>binance::BTC_USDT</th>\n",
       "      <th>binance::BTC_USDT</th>\n",
       "    </tr>\n",
       "    <tr>\n",
       "      <th>timestamp</th>\n",
       "      <th></th>\n",
       "      <th></th>\n",
       "      <th></th>\n",
       "      <th></th>\n",
       "      <th></th>\n",
       "      <th></th>\n",
       "      <th></th>\n",
       "      <th></th>\n",
       "      <th></th>\n",
       "      <th></th>\n",
       "      <th></th>\n",
       "      <th></th>\n",
       "      <th></th>\n",
       "      <th></th>\n",
       "      <th></th>\n",
       "      <th></th>\n",
       "      <th></th>\n",
       "      <th></th>\n",
       "      <th></th>\n",
       "      <th></th>\n",
       "      <th></th>\n",
       "      <th></th>\n",
       "      <th></th>\n",
       "      <th></th>\n",
       "      <th></th>\n",
       "      <th></th>\n",
       "      <th></th>\n",
       "      <th></th>\n",
       "      <th></th>\n",
       "      <th></th>\n",
       "      <th></th>\n",
       "      <th></th>\n",
       "      <th></th>\n",
       "      <th></th>\n",
       "      <th></th>\n",
       "      <th></th>\n",
       "      <th></th>\n",
       "      <th></th>\n",
       "      <th></th>\n",
       "      <th></th>\n",
       "      <th></th>\n",
       "      <th></th>\n",
       "      <th></th>\n",
       "      <th></th>\n",
       "      <th></th>\n",
       "      <th></th>\n",
       "    </tr>\n",
       "  </thead>\n",
       "  <tbody>\n",
       "    <tr>\n",
       "      <th>2022-01-14 23:40:00+00:00</th>\n",
       "      <td>0.000409</td>\n",
       "      <td>-0.000709</td>\n",
       "      <td>0.000942</td>\n",
       "      <td>0.000129</td>\n",
       "      <td>0.000990</td>\n",
       "      <td>0.000179</td>\n",
       "      <td>488.8</td>\n",
       "      <td>43044.24</td>\n",
       "      <td>488.76</td>\n",
       "      <td>43058.402</td>\n",
       "      <td>2166.650</td>\n",
       "      <td>39.25885</td>\n",
       "      <td>488.795752</td>\n",
       "      <td>43055.250153</td>\n",
       "      <td>1.196361e+07</td>\n",
       "      <td>9.369931e+06</td>\n",
       "      <td>1.267871e+07</td>\n",
       "      <td>8.271803e+06</td>\n",
       "      <td>0.029121</td>\n",
       "      <td>-0.062246</td>\n",
       "      <td>488.697472</td>\n",
       "      <td>43066.214614</td>\n",
       "      <td>0.058259</td>\n",
       "      <td>-0.124653</td>\n",
       "      <td>0.000205</td>\n",
       "      <td>5.306329e-07</td>\n",
       "      <td>488.697475</td>\n",
       "      <td>43066.214614</td>\n",
       "      <td>1.232116e+07</td>\n",
       "      <td>8.820867e+06</td>\n",
       "      <td>0.514561</td>\n",
       "      <td>0.468877</td>\n",
       "      <td>0.100000</td>\n",
       "      <td>0.022852</td>\n",
       "      <td>0.000205</td>\n",
       "      <td>5.306329e-07</td>\n",
       "      <td>488.698931</td>\n",
       "      <td>43066.213903</td>\n",
       "      <td>488.747475</td>\n",
       "      <td>24478.109</td>\n",
       "      <td>488.647475</td>\n",
       "      <td>25946.540</td>\n",
       "      <td>43066.226040</td>\n",
       "      <td>217.57029</td>\n",
       "      <td>43066.203188</td>\n",
       "      <td>192.07179</td>\n",
       "    </tr>\n",
       "    <tr>\n",
       "      <th>2022-01-14 23:45:00+00:00</th>\n",
       "      <td>0.000205</td>\n",
       "      <td>-0.000851</td>\n",
       "      <td>-0.000041</td>\n",
       "      <td>-0.000722</td>\n",
       "      <td>-0.000319</td>\n",
       "      <td>-0.000638</td>\n",
       "      <td>488.9</td>\n",
       "      <td>43007.61</td>\n",
       "      <td>488.74</td>\n",
       "      <td>43027.294</td>\n",
       "      <td>1280.336</td>\n",
       "      <td>46.62764</td>\n",
       "      <td>488.639917</td>\n",
       "      <td>43027.793908</td>\n",
       "      <td>1.252466e+07</td>\n",
       "      <td>1.168496e+07</td>\n",
       "      <td>9.727506e+06</td>\n",
       "      <td>8.572045e+06</td>\n",
       "      <td>-0.125602</td>\n",
       "      <td>-0.153671</td>\n",
       "      <td>488.685568</td>\n",
       "      <td>43039.712525</td>\n",
       "      <td>-0.252537</td>\n",
       "      <td>-0.309796</td>\n",
       "      <td>0.000205</td>\n",
       "      <td>8.855654e-07</td>\n",
       "      <td>488.685570</td>\n",
       "      <td>43039.712525</td>\n",
       "      <td>1.112608e+07</td>\n",
       "      <td>1.012850e+07</td>\n",
       "      <td>0.437199</td>\n",
       "      <td>0.423165</td>\n",
       "      <td>0.100000</td>\n",
       "      <td>0.038114</td>\n",
       "      <td>0.000205</td>\n",
       "      <td>8.855654e-07</td>\n",
       "      <td>488.679290</td>\n",
       "      <td>43039.709597</td>\n",
       "      <td>488.735570</td>\n",
       "      <td>25626.663</td>\n",
       "      <td>488.635570</td>\n",
       "      <td>19907.486</td>\n",
       "      <td>43039.731582</td>\n",
       "      <td>271.49246</td>\n",
       "      <td>43039.693468</td>\n",
       "      <td>199.16604</td>\n",
       "    </tr>\n",
       "    <tr>\n",
       "      <th>2022-01-14 23:50:00+00:00</th>\n",
       "      <td>0.001636</td>\n",
       "      <td>0.001062</td>\n",
       "      <td>0.001596</td>\n",
       "      <td>0.000536</td>\n",
       "      <td>0.001715</td>\n",
       "      <td>0.000536</td>\n",
       "      <td>489.7</td>\n",
       "      <td>43053.30</td>\n",
       "      <td>489.52</td>\n",
       "      <td>43050.366</td>\n",
       "      <td>841.335</td>\n",
       "      <td>38.06835</td>\n",
       "      <td>489.477908</td>\n",
       "      <td>43050.845446</td>\n",
       "      <td>9.513740e+06</td>\n",
       "      <td>7.072532e+06</td>\n",
       "      <td>1.451795e+07</td>\n",
       "      <td>9.552870e+06</td>\n",
       "      <td>0.208331</td>\n",
       "      <td>0.149190</td>\n",
       "      <td>489.283108</td>\n",
       "      <td>43040.163763</td>\n",
       "      <td>0.422853</td>\n",
       "      <td>0.300624</td>\n",
       "      <td>0.000204</td>\n",
       "      <td>9.410204e-07</td>\n",
       "      <td>489.283110</td>\n",
       "      <td>43040.163763</td>\n",
       "      <td>1.201584e+07</td>\n",
       "      <td>8.312701e+06</td>\n",
       "      <td>0.604166</td>\n",
       "      <td>0.574595</td>\n",
       "      <td>0.100000</td>\n",
       "      <td>0.040502</td>\n",
       "      <td>0.000204</td>\n",
       "      <td>9.410204e-07</td>\n",
       "      <td>489.293527</td>\n",
       "      <td>43040.166784</td>\n",
       "      <td>489.333110</td>\n",
       "      <td>19442.257</td>\n",
       "      <td>489.233110</td>\n",
       "      <td>29674.910</td>\n",
       "      <td>43040.184013</td>\n",
       "      <td>164.32392</td>\n",
       "      <td>43040.143512</td>\n",
       "      <td>221.95257</td>\n",
       "    </tr>\n",
       "    <tr>\n",
       "      <th>2022-01-14 23:55:00+00:00</th>\n",
       "      <td>0.000817</td>\n",
       "      <td>0.000388</td>\n",
       "      <td>0.000776</td>\n",
       "      <td>0.000178</td>\n",
       "      <td>0.000917</td>\n",
       "      <td>0.000009</td>\n",
       "      <td>490.1</td>\n",
       "      <td>43069.99</td>\n",
       "      <td>489.90</td>\n",
       "      <td>43058.014</td>\n",
       "      <td>992.572</td>\n",
       "      <td>40.31712</td>\n",
       "      <td>489.926816</td>\n",
       "      <td>43051.253753</td>\n",
       "      <td>1.012650e+07</td>\n",
       "      <td>8.126317e+06</td>\n",
       "      <td>1.299193e+07</td>\n",
       "      <td>1.015813e+07</td>\n",
       "      <td>0.124046</td>\n",
       "      <td>0.111123</td>\n",
       "      <td>489.770606</td>\n",
       "      <td>43052.047685</td>\n",
       "      <td>0.249377</td>\n",
       "      <td>0.223168</td>\n",
       "      <td>0.000204</td>\n",
       "      <td>1.800536e-06</td>\n",
       "      <td>489.770608</td>\n",
       "      <td>43052.047685</td>\n",
       "      <td>1.155921e+07</td>\n",
       "      <td>9.142223e+06</td>\n",
       "      <td>0.562023</td>\n",
       "      <td>0.555562</td>\n",
       "      <td>0.100000</td>\n",
       "      <td>0.077517</td>\n",
       "      <td>0.000204</td>\n",
       "      <td>1.800536e-06</td>\n",
       "      <td>489.776810</td>\n",
       "      <td>43052.051992</td>\n",
       "      <td>489.820608</td>\n",
       "      <td>20673.894</td>\n",
       "      <td>489.720608</td>\n",
       "      <td>26529.270</td>\n",
       "      <td>43052.086443</td>\n",
       "      <td>188.75547</td>\n",
       "      <td>43052.008926</td>\n",
       "      <td>235.95017</td>\n",
       "    </tr>\n",
       "    <tr>\n",
       "      <th>2022-01-15 00:00:00+00:00</th>\n",
       "      <td>0.000408</td>\n",
       "      <td>0.001575</td>\n",
       "      <td>-0.000041</td>\n",
       "      <td>0.000413</td>\n",
       "      <td>0.000119</td>\n",
       "      <td>0.001083</td>\n",
       "      <td>490.3</td>\n",
       "      <td>43137.81</td>\n",
       "      <td>489.88</td>\n",
       "      <td>43075.818</td>\n",
       "      <td>2510.622</td>\n",
       "      <td>56.55966</td>\n",
       "      <td>489.985152</td>\n",
       "      <td>43097.880628</td>\n",
       "      <td>9.428791e+06</td>\n",
       "      <td>9.671616e+06</td>\n",
       "      <td>1.133908e+07</td>\n",
       "      <td>9.764472e+06</td>\n",
       "      <td>0.092085</td>\n",
       "      <td>0.004778</td>\n",
       "      <td>489.833388</td>\n",
       "      <td>43063.497097</td>\n",
       "      <td>0.184692</td>\n",
       "      <td>0.009555</td>\n",
       "      <td>0.000205</td>\n",
       "      <td>2.703983e-07</td>\n",
       "      <td>489.833390</td>\n",
       "      <td>43063.497097</td>\n",
       "      <td>1.038394e+07</td>\n",
       "      <td>9.718044e+06</td>\n",
       "      <td>0.546042</td>\n",
       "      <td>0.502389</td>\n",
       "      <td>0.100342</td>\n",
       "      <td>0.011644</td>\n",
       "      <td>0.000205</td>\n",
       "      <td>2.703983e-07</td>\n",
       "      <td>489.838010</td>\n",
       "      <td>43063.497125</td>\n",
       "      <td>489.883562</td>\n",
       "      <td>19247.005</td>\n",
       "      <td>489.783219</td>\n",
       "      <td>23151.226</td>\n",
       "      <td>43063.502919</td>\n",
       "      <td>224.58963</td>\n",
       "      <td>43063.491275</td>\n",
       "      <td>226.74594</td>\n",
       "    </tr>\n",
       "  </tbody>\n",
       "</table>\n",
       "</div>"
      ],
      "text/plain": [
       "                                close.ret_0                          twap.ret_0                          vwap.ret_0                               close                                twap                              volume                                vwap                           ask_value                           bid_value                   centered_order_book_imbalance                       geometric_mid                   log_order_book_imbalance                   log_relative_spread                                 mid                           mid_value                   order_book_imbalance                       quoted_spread                     relative_spread                        weighted_mid                           ask_price          ask_size         bid_price          bid_size         ask_price          ask_size         bid_price          bid_size\n",
       "                          binance::BNB_USDT binance::BTC_USDT binance::BNB_USDT binance::BTC_USDT binance::BNB_USDT binance::BTC_USDT binance::BNB_USDT binance::BTC_USDT binance::BNB_USDT binance::BTC_USDT binance::BNB_USDT binance::BTC_USDT binance::BNB_USDT binance::BTC_USDT binance::BNB_USDT binance::BTC_USDT binance::BNB_USDT binance::BTC_USDT             binance::BNB_USDT binance::BTC_USDT binance::BNB_USDT binance::BTC_USDT        binance::BNB_USDT binance::BTC_USDT   binance::BNB_USDT binance::BTC_USDT binance::BNB_USDT binance::BTC_USDT binance::BNB_USDT binance::BTC_USDT    binance::BNB_USDT binance::BTC_USDT binance::BNB_USDT binance::BTC_USDT binance::BNB_USDT binance::BTC_USDT binance::BNB_USDT binance::BTC_USDT binance::BNB_USDT binance::BNB_USDT binance::BNB_USDT binance::BNB_USDT binance::BTC_USDT binance::BTC_USDT binance::BTC_USDT binance::BTC_USDT\n",
       "timestamp                                                                                                                                                                                                                                                                                                                                                                                                                                                                                                                                                                                                                                                                                                                                                                                                                                                                                                    \n",
       "2022-01-14 23:40:00+00:00          0.000409         -0.000709          0.000942          0.000129          0.000990          0.000179             488.8          43044.24            488.76         43058.402          2166.650          39.25885        488.795752      43055.250153      1.196361e+07      9.369931e+06      1.267871e+07      8.271803e+06                      0.029121         -0.062246        488.697472      43066.214614                 0.058259         -0.124653            0.000205      5.306329e-07        488.697475      43066.214614      1.232116e+07      8.820867e+06             0.514561          0.468877          0.100000          0.022852          0.000205      5.306329e-07        488.698931      43066.213903        488.747475         24478.109        488.647475         25946.540      43066.226040         217.57029      43066.203188         192.07179\n",
       "2022-01-14 23:45:00+00:00          0.000205         -0.000851         -0.000041         -0.000722         -0.000319         -0.000638             488.9          43007.61            488.74         43027.294          1280.336          46.62764        488.639917      43027.793908      1.252466e+07      1.168496e+07      9.727506e+06      8.572045e+06                     -0.125602         -0.153671        488.685568      43039.712525                -0.252537         -0.309796            0.000205      8.855654e-07        488.685570      43039.712525      1.112608e+07      1.012850e+07             0.437199          0.423165          0.100000          0.038114          0.000205      8.855654e-07        488.679290      43039.709597        488.735570         25626.663        488.635570         19907.486      43039.731582         271.49246      43039.693468         199.16604\n",
       "2022-01-14 23:50:00+00:00          0.001636          0.001062          0.001596          0.000536          0.001715          0.000536             489.7          43053.30            489.52         43050.366           841.335          38.06835        489.477908      43050.845446      9.513740e+06      7.072532e+06      1.451795e+07      9.552870e+06                      0.208331          0.149190        489.283108      43040.163763                 0.422853          0.300624            0.000204      9.410204e-07        489.283110      43040.163763      1.201584e+07      8.312701e+06             0.604166          0.574595          0.100000          0.040502          0.000204      9.410204e-07        489.293527      43040.166784        489.333110         19442.257        489.233110         29674.910      43040.184013         164.32392      43040.143512         221.95257\n",
       "2022-01-14 23:55:00+00:00          0.000817          0.000388          0.000776          0.000178          0.000917          0.000009             490.1          43069.99            489.90         43058.014           992.572          40.31712        489.926816      43051.253753      1.012650e+07      8.126317e+06      1.299193e+07      1.015813e+07                      0.124046          0.111123        489.770606      43052.047685                 0.249377          0.223168            0.000204      1.800536e-06        489.770608      43052.047685      1.155921e+07      9.142223e+06             0.562023          0.555562          0.100000          0.077517          0.000204      1.800536e-06        489.776810      43052.051992        489.820608         20673.894        489.720608         26529.270      43052.086443         188.75547      43052.008926         235.95017\n",
       "2022-01-15 00:00:00+00:00          0.000408          0.001575         -0.000041          0.000413          0.000119          0.001083             490.3          43137.81            489.88         43075.818          2510.622          56.55966        489.985152      43097.880628      9.428791e+06      9.671616e+06      1.133908e+07      9.764472e+06                      0.092085          0.004778        489.833388      43063.497097                 0.184692          0.009555            0.000205      2.703983e-07        489.833390      43063.497097      1.038394e+07      9.718044e+06             0.546042          0.502389          0.100342          0.011644          0.000205      2.703983e-07        489.838010      43063.497125        489.883562         19247.005        489.783219         23151.226      43063.502919         224.58963      43063.491275         226.74594"
      ]
     },
     "execution_count": 47,
     "metadata": {},
     "output_type": "execute_result"
    }
   ],
   "source": [
    "final_df = pd.concat([vwap_twap_rets_df, bid_ask_df], axis=1)\n",
    "final_df.tail()"
   ]
  },
  {
   "cell_type": "code",
   "execution_count": 48,
   "id": "6c87bd72",
   "metadata": {
    "ExecuteTime": {
     "end_time": "2022-04-27T22:56:18.151803Z",
     "start_time": "2022-04-27T22:56:17.459660Z"
    }
   },
   "outputs": [
    {
     "data": {
      "text/plain": [
       "<AxesSubplot:xlabel='timestamp'>"
      ]
     },
     "execution_count": 48,
     "metadata": {},
     "output_type": "execute_result"
    },
    {
     "data": {
      "image/png": "[encoded data removed]",
      "text/plain": [
       "<Figure size 1440x360 with 1 Axes>"
      ]
     },
     "metadata": {},
     "output_type": "display_data"
    },
    {
     "data": {
      "image/png": "[encoded data removed]",
      "text/plain": [
       "<Figure size 1440x360 with 1 Axes>"
      ]
     },
     "metadata": {},
     "output_type": "display_data"
    }
   ],
   "source": [
    "# Metrics visualizations.\n",
    "final_df.swaplevel(axis=1)[\"binance::BNB_USDT\"][[\"quoted_spread\"]].plot()\n",
    "final_df.swaplevel(axis=1)[\"binance::BNB_USDT\"][[\"relative_spread\"]].plot()"
   ]
  },
  {
   "cell_type": "markdown",
   "id": "31cee040",
   "metadata": {},
   "source": [
    "## Compute the distribution of (return - spread)"
   ]
  },
  {
   "cell_type": "code",
   "execution_count": 49,
   "id": "580e2761",
   "metadata": {
    "ExecuteTime": {
     "end_time": "2022-04-27T22:56:18.181598Z",
     "start_time": "2022-04-27T22:56:18.153463Z"
    }
   },
   "outputs": [
    {
     "data": {
      "text/html": [
       "<div>\n",
       "<style scoped>\n",
       "    .dataframe tbody tr th:only-of-type {\n",
       "        vertical-align: middle;\n",
       "    }\n",
       "\n",
       "    .dataframe tbody tr th {\n",
       "        vertical-align: top;\n",
       "    }\n",
       "\n",
       "    .dataframe thead th {\n",
       "        text-align: right;\n",
       "    }\n",
       "</style>\n",
       "<table border=\"1\" class=\"dataframe\">\n",
       "  <thead>\n",
       "    <tr style=\"text-align: right;\">\n",
       "      <th></th>\n",
       "      <th>close.ret_0</th>\n",
       "      <th>twap.ret_0</th>\n",
       "      <th>vwap.ret_0</th>\n",
       "      <th>close</th>\n",
       "      <th>twap</th>\n",
       "      <th>volume</th>\n",
       "      <th>vwap</th>\n",
       "      <th>ask_value</th>\n",
       "      <th>bid_value</th>\n",
       "      <th>centered_order_book_imbalance</th>\n",
       "      <th>geometric_mid</th>\n",
       "      <th>log_order_book_imbalance</th>\n",
       "      <th>log_relative_spread</th>\n",
       "      <th>mid</th>\n",
       "      <th>mid_value</th>\n",
       "      <th>order_book_imbalance</th>\n",
       "      <th>quoted_spread</th>\n",
       "      <th>relative_spread</th>\n",
       "      <th>weighted_mid</th>\n",
       "      <th>ask_price</th>\n",
       "      <th>ask_size</th>\n",
       "      <th>bid_price</th>\n",
       "      <th>bid_size</th>\n",
       "    </tr>\n",
       "    <tr>\n",
       "      <th>timestamp</th>\n",
       "      <th></th>\n",
       "      <th></th>\n",
       "      <th></th>\n",
       "      <th></th>\n",
       "      <th></th>\n",
       "      <th></th>\n",
       "      <th></th>\n",
       "      <th></th>\n",
       "      <th></th>\n",
       "      <th></th>\n",
       "      <th></th>\n",
       "      <th></th>\n",
       "      <th></th>\n",
       "      <th></th>\n",
       "      <th></th>\n",
       "      <th></th>\n",
       "      <th></th>\n",
       "      <th></th>\n",
       "      <th></th>\n",
       "      <th></th>\n",
       "      <th></th>\n",
       "      <th></th>\n",
       "      <th></th>\n",
       "    </tr>\n",
       "  </thead>\n",
       "  <tbody>\n",
       "    <tr>\n",
       "      <th>2022-01-01 00:00:00+00:00</th>\n",
       "      <td>NaN</td>\n",
       "      <td>NaN</td>\n",
       "      <td>NaN</td>\n",
       "      <td>512.2</td>\n",
       "      <td>512.20</td>\n",
       "      <td>423.922</td>\n",
       "      <td>512.200000</td>\n",
       "      <td>9.816197e+03</td>\n",
       "      <td>5.121518e+04</td>\n",
       "      <td>0.678376</td>\n",
       "      <td>511.449998</td>\n",
       "      <td>1.652198</td>\n",
       "      <td>0.000196</td>\n",
       "      <td>511.450000</td>\n",
       "      <td>3.051569e+04</td>\n",
       "      <td>0.839188</td>\n",
       "      <td>0.100000</td>\n",
       "      <td>0.000196</td>\n",
       "      <td>511.483919</td>\n",
       "      <td>511.500000</td>\n",
       "      <td>19.191</td>\n",
       "      <td>511.40000</td>\n",
       "      <td>100.147</td>\n",
       "    </tr>\n",
       "    <tr>\n",
       "      <th>2022-01-01 00:05:00+00:00</th>\n",
       "      <td>0.002733</td>\n",
       "      <td>0.001952</td>\n",
       "      <td>0.001984</td>\n",
       "      <td>513.6</td>\n",
       "      <td>513.20</td>\n",
       "      <td>2393.343</td>\n",
       "      <td>513.216045</td>\n",
       "      <td>9.303849e+06</td>\n",
       "      <td>8.933841e+06</td>\n",
       "      <td>-0.020190</td>\n",
       "      <td>512.720536</td>\n",
       "      <td>-0.040386</td>\n",
       "      <td>0.000196</td>\n",
       "      <td>512.720539</td>\n",
       "      <td>9.118845e+06</td>\n",
       "      <td>0.489905</td>\n",
       "      <td>0.100337</td>\n",
       "      <td>0.000196</td>\n",
       "      <td>512.719526</td>\n",
       "      <td>512.770707</td>\n",
       "      <td>18144.268</td>\n",
       "      <td>512.67037</td>\n",
       "      <td>17426.092</td>\n",
       "    </tr>\n",
       "    <tr>\n",
       "      <th>2022-01-01 00:10:00+00:00</th>\n",
       "      <td>0.000000</td>\n",
       "      <td>0.000624</td>\n",
       "      <td>0.000720</td>\n",
       "      <td>513.6</td>\n",
       "      <td>513.52</td>\n",
       "      <td>1433.895</td>\n",
       "      <td>513.585325</td>\n",
       "      <td>1.194030e+07</td>\n",
       "      <td>8.715529e+06</td>\n",
       "      <td>-0.156024</td>\n",
       "      <td>513.345957</td>\n",
       "      <td>-0.314618</td>\n",
       "      <td>0.000195</td>\n",
       "      <td>513.345960</td>\n",
       "      <td>1.032791e+07</td>\n",
       "      <td>0.421988</td>\n",
       "      <td>0.100000</td>\n",
       "      <td>0.000195</td>\n",
       "      <td>513.338158</td>\n",
       "      <td>513.395960</td>\n",
       "      <td>23257.482</td>\n",
       "      <td>513.29596</td>\n",
       "      <td>16979.540</td>\n",
       "    </tr>\n",
       "  </tbody>\n",
       "</table>\n",
       "</div>"
      ],
      "text/plain": [
       "                           close.ret_0  twap.ret_0  vwap.ret_0  close    twap    volume        vwap     ask_value     bid_value  centered_order_book_imbalance  geometric_mid  log_order_book_imbalance  log_relative_spread         mid     mid_value  order_book_imbalance  quoted_spread  relative_spread  weighted_mid   ask_price   ask_size  bid_price   bid_size\n",
       "timestamp                                                                                                                                                                                                                                                                                                                                                              \n",
       "2022-01-01 00:00:00+00:00          NaN         NaN         NaN  512.2  512.20   423.922  512.200000  9.816197e+03  5.121518e+04                       0.678376     511.449998                  1.652198             0.000196  511.450000  3.051569e+04              0.839188       0.100000         0.000196    511.483919  511.500000     19.191  511.40000    100.147\n",
       "2022-01-01 00:05:00+00:00     0.002733    0.001952    0.001984  513.6  513.20  2393.343  513.216045  9.303849e+06  8.933841e+06                      -0.020190     512.720536                 -0.040386             0.000196  512.720539  9.118845e+06              0.489905       0.100337         0.000196    512.719526  512.770707  18144.268  512.67037  17426.092\n",
       "2022-01-01 00:10:00+00:00     0.000000    0.000624    0.000720  513.6  513.52  1433.895  513.585325  1.194030e+07  8.715529e+06                      -0.156024     513.345957                 -0.314618             0.000195  513.345960  1.032791e+07              0.421988       0.100000         0.000195    513.338158  513.395960  23257.482  513.29596  16979.540"
      ]
     },
     "execution_count": 49,
     "metadata": {},
     "output_type": "execute_result"
    }
   ],
   "source": [
    "# Choose the specific `full_symbol`.\n",
    "df_bnb = final_df.swaplevel(axis=1)[\"binance::BNB_USDT\"]\n",
    "df_bnb.head(3)"
   ]
  },
  {
   "cell_type": "code",
   "execution_count": 50,
   "id": "91f5f10c",
   "metadata": {
    "ExecuteTime": {
     "end_time": "2022-04-27T22:56:18.193237Z",
     "start_time": "2022-04-27T22:56:18.183581Z"
    }
   },
   "outputs": [
    {
     "data": {
      "text/plain": [
       "count    4032.000000\n",
       "mean       -0.098863\n",
       "std         0.001628\n",
       "min        -0.130807\n",
       "25%        -0.099695\n",
       "50%        -0.099131\n",
       "75%        -0.098339\n",
       "max        -0.071288\n",
       "Name: ret_spr_diff, dtype: float64"
      ]
     },
     "metadata": {},
     "output_type": "display_data"
    }
   ],
   "source": [
    "# Calculate (|returns| - spread) and display descriptive stats.\n",
    "df_bnb[\"ret_spr_diff\"] = abs(df_bnb[\"close.ret_0\"]) - df_bnb[\"quoted_spread\"]\n",
    "display(df_bnb[\"ret_spr_diff\"].describe())"
   ]
  },
  {
   "cell_type": "code",
   "execution_count": 51,
   "id": "b871cd65",
   "metadata": {
    "ExecuteTime": {
     "end_time": "2022-04-27T22:56:18.428016Z",
     "start_time": "2022-04-27T22:56:18.195513Z"
    }
   },
   "outputs": [
    {
     "data": {
      "image/png": "[encoded data removed]",
      "text/plain": [
       "<Figure size 1440x360 with 1 Axes>"
      ]
     },
     "metadata": {},
     "output_type": "display_data"
    }
   ],
   "source": [
    "# Visualize the result\n",
    "cplonorm.plot_qq(df_bnb[\"ret_spr_diff\"])"
   ]
  }
 ],
 "metadata": {
  "kernelspec": {
   "display_name": "Python 3 (ipykernel)",
   "language": "python",
   "name": "python3"
  },
  "language_info": {
   "codemirror_mode": {
    "name": "ipython",
    "version": 3
   },
   "file_extension": ".py",
   "mimetype": "text/x-python",
   "name": "python",
   "nbconvert_exporter": "python",
   "pygments_lexer": "ipython3",
   "version": "3.9.5"
  },
  "toc": {
   "base_numbering": 1,
   "nav_menu": {},
   "number_sections": true,
   "sideBar": true,
   "skip_h1_title": false,
   "title_cell": "Table of Contents",
   "title_sidebar": "Contents",
   "toc_cell": false,
   "toc_position": {},
   "toc_section_display": true,
   "toc_window_display": false
  }
 },
 "nbformat": 4,
 "nbformat_minor": 5
}
