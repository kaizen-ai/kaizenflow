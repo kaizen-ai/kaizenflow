{
 "cells": [
  {
   "cell_type": "code",
   "execution_count": 1,
   "id": "19d3e23c",
   "metadata": {
    "ExecuteTime": {
     "end_time": "2022-09-27T18:46:36.370591Z",
     "start_time": "2022-09-27T18:46:36.366251Z"
    }
   },
   "outputs": [],
   "source": [
    "# TODO(Max): convert to master notebook.\n",
    "# TODO(Max): the notebook is runnable only from branch: `CMTask2703_Perform_manual_reconciliation_of_OB_data`."
   ]
  },
  {
   "cell_type": "markdown",
   "id": "13ea08e1",
   "metadata": {},
   "source": [
    "- CCXT data = CCXT real-time DB bid-ask data collection for futures\n",
    "- CC data = CryptoChassis historical Parquet bid-ask futures data"
   ]
  },
  {
   "cell_type": "markdown",
   "id": "e545da78",
   "metadata": {},
   "source": [
    "# Imports"
   ]
  },
  {
   "cell_type": "code",
   "execution_count": 2,
   "id": "c4780eec",
   "metadata": {
    "ExecuteTime": {
     "end_time": "2022-09-27T18:46:39.941927Z",
     "start_time": "2022-09-27T18:46:36.373976Z"
    }
   },
   "outputs": [
    {
     "name": "stderr",
     "output_type": "stream",
     "text": [
      "/app/amp/helpers/hparquet.py:19: TqdmExperimentalWarning: Using `tqdm.autonotebook.tqdm` in notebook mode. Use `tqdm.tqdm` instead to force console mode (e.g. in jupyter console)\n",
      "  from tqdm.autonotebook import tqdm\n"
     ]
    }
   ],
   "source": [
    "%load_ext autoreload\n",
    "%autoreload 2\n",
    "\n",
    "import logging\n",
    "import os\n",
    "\n",
    "import pandas as pd\n",
    "\n",
    "import core.config.config_ as cconconf\n",
    "import helpers.hdbg as hdbg\n",
    "import helpers.henv as henv\n",
    "import helpers.hpandas as hpandas\n",
    "import helpers.hprint as hprint\n",
    "import helpers.hs3 as hs3\n",
    "import helpers.hsql as hsql\n",
    "import im_v2.ccxt.data.client as icdcl\n",
    "import im_v2.crypto_chassis.data.client as iccdc\n",
    "import im_v2.im_lib_tasks as imvimlita"
   ]
  },
  {
   "cell_type": "code",
   "execution_count": 3,
   "id": "409c1bfd",
   "metadata": {
    "ExecuteTime": {
     "end_time": "2022-09-27T18:46:40.221680Z",
     "start_time": "2022-09-27T18:46:39.946043Z"
    },
    "scrolled": true
   },
   "outputs": [
    {
     "name": "stdout",
     "output_type": "stream",
     "text": [
      "\u001b[0m\u001b[36mINFO\u001b[0m: > cmd='/venv/lib/python3.8/site-packages/ipykernel_launcher.py -f /home/.local/share/jupyter/runtime/kernel-5daa77d4-e29c-460a-b14a-20583b10f164.json'\n",
      "WARNING: Running in Jupyter\n",
      "\u001b[31m-----------------------------------------------------------------------------\n",
      "This code is not in sync with the container:\n",
      "code_version='1.1.1' != container_version='1.1.0'\n",
      "-----------------------------------------------------------------------------\n",
      "You need to:\n",
      "- merge origin/master into your branch with `invoke git_merge_master`\n",
      "- pull the latest container with `invoke docker_pull`\u001b[0m\n",
      "INFO  # Git\n",
      "  branch_name='CMTask2703_Perform_manual_reconciliation_of_OB_data'\n",
      "  hash='2741c745f'\n",
      "  # Last commits:\n",
      "    * 2741c745f max-rsrch Checkpoint                                                        (54 minutes ago) Tue Sep 27 17:52:40 2022  (HEAD -> CMTask2703_Perform_manual_reconciliation_of_OB_data)\n",
      "    *   33e777b20 Max Sergeychikov Merge branch 'master' into CMTask2703_Perform_manual_reconciliation_of_OB_data (    6 days ago) Wed Sep 21 09:23:22 2022  (origin/CMTask2703_Perform_manual_reconciliation_of_OB_data)\n",
      "    |\\  \n",
      "    | * 4cf9f570f DanilYachmenev Cm task2653 research vs prod reconciliation v02 (#2863)           (    7 days ago) Tue Sep 20 20:57:50 2022           \n",
      "# Machine info\n",
      "  system=Linux\n",
      "  node name=4474843e1e64\n",
      "  release=5.15.0-1019-aws\n",
      "  version=#23~20.04.1-Ubuntu SMP Thu Aug 18 03:20:14 UTC 2022\n",
      "  machine=x86_64\n",
      "  processor=x86_64\n",
      "  cpu count=8\n",
      "  cpu freq=scpufreq(current=2499.998, min=0.0, max=0.0)\n",
      "  memory=svmem(total=33292894208, available=22234284032, percent=33.2, used=10359267328, free=4560048128, active=8107343872, inactive=17409540096, buffers=1773219840, cached=16600358912, shared=225435648, slab=2723446784)\n",
      "  disk usage=sdiskusage(total=156052275200, used=39545843712, free=116489654272, percent=25.3)\n",
      "# Packages\n",
      "  python: 3.8.10\n",
      "  gluonnlp: ?\n",
      "  gluonts: 0.6.7\n",
      "  joblib: 1.1.0\n",
      "  mxnet: 1.9.0\n",
      "  numpy: 1.22.3\n",
      "  pandas: 1.4.2\n",
      "  pyarrow: 7.0.0\n",
      "  scipy: 1.6.1\n",
      "  seaborn: 0.11.2\n",
      "  sklearn: 1.0.2\n",
      "  statsmodels: 0.13.2\n"
     ]
    }
   ],
   "source": [
    "hdbg.init_logger(verbosity=logging.INFO)\n",
    "\n",
    "_LOG = logging.getLogger(__name__)\n",
    "\n",
    "_LOG.info(\"%s\", henv.get_system_signature()[0])\n",
    "\n",
    "hprint.config_notebook()"
   ]
  },
  {
   "cell_type": "markdown",
   "id": "64e78509",
   "metadata": {},
   "source": [
    "# Config"
   ]
  },
  {
   "cell_type": "code",
   "execution_count": 4,
   "id": "7c94f0f6",
   "metadata": {
    "ExecuteTime": {
     "end_time": "2022-09-27T18:46:40.493282Z",
     "start_time": "2022-09-27T18:46:40.224685Z"
    }
   },
   "outputs": [
    {
     "name": "stdout",
     "output_type": "stream",
     "text": [
      "data:\n",
      "  cc_im_client:\n",
      "    universe_version: None\n",
      "    resample_1min: True\n",
      "    root_dir: s3://cryptokaizen-data/reorg/daily_staged.airflow.pq\n",
      "    partition_mode: by_year_month\n",
      "    dataset: bid_ask\n",
      "    contract_type: futures\n",
      "    data_snapshot: \n",
      "    aws_profile: ck\n",
      "  ccxt_im_client:\n",
      "    resample_1min: False\n",
      "    db_connection: <connection object; dsn: 'user=postgres password=xxx dbname=im_data_db host=dev-im-db.cpox8ul7pzan.eu-north-1.rds.amazonaws.com port=5432', closed: 0>\n",
      "    table_name: ccxt_bid_ask_futures_test\n",
      "  read_data:\n",
      "    start_ts: 2022-09-08 22:06:00+00:00\n",
      "    end_ts: 2022-09-13 00:00:00+00:00\n",
      "    columns: None\n",
      "    filter_data_mode: assert\n",
      "column_names:\n",
      "  bid_ask_cols: ['bid_price', 'bid_size', 'ask_price', 'ask_size', 'full_symbol']\n",
      "order_level: 1\n"
     ]
    }
   ],
   "source": [
    "def get_cmtask2703_config() -> cconconf.Config:\n",
    "    \"\"\"\n",
    "    Get task2360-specific config.\n",
    "    \"\"\"\n",
    "    config = cconconf.Config()\n",
    "    param_dict = {\n",
    "        \"data\": {\n",
    "            # Parameters for client initialization.\n",
    "            \"cc_im_client\": {\n",
    "                \"universe_version\": None,\n",
    "                \"resample_1min\": True,\n",
    "                \"root_dir\": os.path.join(\n",
    "                    hs3.get_s3_bucket_path(\"ck\"),\n",
    "                    \"reorg\",\n",
    "                    \"daily_staged.airflow.pq\",\n",
    "                ),\n",
    "                \"partition_mode\": \"by_year_month\",\n",
    "                \"dataset\": \"bid_ask\",\n",
    "                \"contract_type\": \"futures\",\n",
    "                \"data_snapshot\": \"\",\n",
    "                \"aws_profile\": \"ck\",\n",
    "            },\n",
    "            \"ccxt_im_client\": {\n",
    "                \"resample_1min\": False,\n",
    "                \"db_connection\": hsql.get_connection(\n",
    "                    *hsql.get_connection_info_from_env_file(\n",
    "                        imvimlita.get_db_env_path(\"dev\")\n",
    "                    )\n",
    "                ),\n",
    "                \"table_name\": \"ccxt_bid_ask_futures_test\",\n",
    "            },\n",
    "            # Parameters for data query.\n",
    "            \"read_data\": {\n",
    "                # DB data starts from here.\n",
    "                \"start_ts\": pd.Timestamp(\"2022-09-08 22:06:00+00:00\"),\n",
    "                \"end_ts\": pd.Timestamp(\"2022-09-13 00:00:00+00:00\"),\n",
    "                \"columns\": None,\n",
    "                \"filter_data_mode\": \"assert\",\n",
    "            },\n",
    "        },\n",
    "        \"column_names\": {\n",
    "            \"bid_ask_cols\": [\n",
    "                \"bid_price\",\n",
    "                \"bid_size\",\n",
    "                \"ask_price\",\n",
    "                \"ask_size\",\n",
    "                \"full_symbol\",\n",
    "            ],\n",
    "        },\n",
    "        \"order_level\": 1,\n",
    "    }\n",
    "    config = cconconf.Config.from_dict(param_dict)\n",
    "    return config\n",
    "\n",
    "\n",
    "config = get_cmtask2703_config()\n",
    "print(config)"
   ]
  },
  {
   "cell_type": "markdown",
   "id": "339395c6",
   "metadata": {},
   "source": [
    "# Functions"
   ]
  },
  {
   "cell_type": "code",
   "execution_count": 5,
   "id": "de4df8f3",
   "metadata": {
    "ExecuteTime": {
     "end_time": "2022-09-27T18:46:40.543407Z",
     "start_time": "2022-09-27T18:46:40.495446Z"
    }
   },
   "outputs": [],
   "source": [
    "def load_and_transform_the_data(\n",
    "    universe,\n",
    "    bid_ask_cols,\n",
    "    is_ccxt: bool,\n",
    "    start_ts,\n",
    "    end_ts,\n",
    "    columns,\n",
    "    filter_data_mode,\n",
    "):\n",
    "    \"\"\"\n",
    "    - Load the data through ImClient\n",
    "       - For CCXT data also choose the order level data\n",
    "    - Transform to the desired multiindex format with specific format\n",
    "\n",
    "    :param bid_ask_cols: specify cols with bid-ask data\n",
    "    \"\"\"\n",
    "    # Load the data.\n",
    "    if is_ccxt:\n",
    "        df = ccxt_im_client.read_data(\n",
    "            universe, start_ts, end_ts, columns, filter_data_mode\n",
    "        )\n",
    "        # CCXT timestamp data goes up to milliseconds, so one needs to round it to minutes.\n",
    "        df.index = df.reset_index()[\"timestamp\"].apply(\n",
    "            lambda x: x.round(freq=\"T\")\n",
    "        )\n",
    "        # Choose the specific order level (first level by default).\n",
    "        df = clean_data_for_orderbook_level(df)\n",
    "    else:\n",
    "        df = cc_parquet_client.read_data(\n",
    "            universe, start_ts, end_ts, columns, filter_data_mode\n",
    "        )\n",
    "    # Apply transformation.\n",
    "    df = df[bid_ask_cols]\n",
    "    df = df.reset_index().set_index([\"timestamp\", \"full_symbol\"])\n",
    "    return df\n",
    "\n",
    "\n",
    "def clean_data_for_orderbook_level(\n",
    "    df: pd.DataFrame, level: int = 1\n",
    ") -> pd.DataFrame:\n",
    "    \"\"\"\n",
    "    Specify the order level in CCXT bid ask data.\n",
    "\n",
    "    :param df: Data with multiple levels (e.g., bid_price_1, bid_price_2, etc.)\n",
    "    :return: Data where specific level has common name (i.e., bid_price)\n",
    "    \"\"\"\n",
    "    level_cols = [col for col in df.columns if col.endswith(f\"_{level}\")]\n",
    "    level_cols_cleaned = [elem[:-2] for elem in level_cols]\n",
    "    #\n",
    "    zip_iterator = zip(level_cols, level_cols_cleaned)\n",
    "    col_dict = dict(zip_iterator)\n",
    "    #\n",
    "    df = df.rename(columns=col_dict)\n",
    "    #\n",
    "    return df"
   ]
  },
  {
   "cell_type": "markdown",
   "id": "60a4364a",
   "metadata": {},
   "source": [
    "# Initialize clients"
   ]
  },
  {
   "cell_type": "code",
   "execution_count": 6,
   "id": "3abae85c",
   "metadata": {
    "ExecuteTime": {
     "end_time": "2022-09-27T18:46:41.583115Z",
     "start_time": "2022-09-27T18:46:40.545960Z"
    },
    "run_control": {
     "marked": false
    }
   },
   "outputs": [],
   "source": [
    "# CCXT client.\n",
    "ccxt_im_client = icdcl.CcxtSqlRealTimeImClient(**config[\"data\"][\"ccxt_im_client\"])\n",
    "# CC client.\n",
    "cc_parquet_client = iccdc.CryptoChassisHistoricalPqByTileClient(\n",
    "    **config[\"data\"][\"cc_im_client\"]\n",
    ")"
   ]
  },
  {
   "cell_type": "markdown",
   "id": "f8a7ef43",
   "metadata": {},
   "source": [
    "# Specify universe"
   ]
  },
  {
   "cell_type": "code",
   "execution_count": 7,
   "id": "c0eb9f55",
   "metadata": {
    "ExecuteTime": {
     "end_time": "2022-09-27T18:46:42.288131Z",
     "start_time": "2022-09-27T18:46:41.585141Z"
    }
   },
   "outputs": [],
   "source": [
    "# DB universe\n",
    "ccxt_universe = ccxt_im_client.get_universe()\n",
    "# CC universe.\n",
    "cc_universe = cc_parquet_client.get_universe()\n",
    "# Intersection of universes that will be used for analysis.\n",
    "universe = list(set(ccxt_universe) & set(cc_universe))"
   ]
  },
  {
   "cell_type": "code",
   "execution_count": 8,
   "id": "53e07cfb",
   "metadata": {
    "ExecuteTime": {
     "end_time": "2022-09-27T18:46:42.340475Z",
     "start_time": "2022-09-27T18:46:42.290002Z"
    }
   },
   "outputs": [
    {
     "name": "stdout",
     "output_type": "stream",
     "text": [
      "* obj1: (11) binance::ADA_USDT binance::BNB_USDT binance::BTC_USD binance::BTC_USDT binance::DOGE_USDT binance::DOT_USDT binance::EOS_USDT binance::ETH_USD binance::ETH_USDT binance::SOL_USDT binance::XRP_USDT\n",
      "\n",
      "* obj2: (27) binance::APE_USDT binance::AVAX_USDT binance::AXS_USDT binance::BAKE_USDT binance::BNB_USDT binance::BTC_BUSD binance::BTC_USDT binance::CRV_USDT binance::CTK_USDT binance::DOGE_USDT binance::DOT_USDT binance::DYDX_USDT binance::ETH_BUSD binance::ETH_USDT binance::FTM_USDT binance::GMT_USDT binance::LINK_USDT binance::MATIC_USDT binance::NEAR_USDT binance::OGN_USDT binance::RUNE_USDT binance::SAND_USDT binance::SOL_USDT binance::STORJ_USDT binance::UNFI_USDT binance::WAVES_USDT binance::XRP_USDT\n",
      "\n",
      "* intersect=(7) binance::BNB_USDT binance::BTC_USDT binance::DOGE_USDT binance::DOT_USDT binance::ETH_USDT binance::SOL_USDT binance::XRP_USDT\n",
      "\n",
      "* obj1-obj2=(4) binance::ADA_USDT binance::BTC_USD binance::EOS_USDT binance::ETH_USD\n",
      "\n",
      "* obj2-obj1=(20) binance::APE_USDT binance::AVAX_USDT binance::AXS_USDT binance::BAKE_USDT binance::BTC_BUSD binance::CRV_USDT binance::CTK_USDT binance::DYDX_USDT binance::ETH_BUSD binance::FTM_USDT binance::GMT_USDT binance::LINK_USDT binance::MATIC_USDT binance::NEAR_USDT binance::OGN_USDT binance::RUNE_USDT binance::SAND_USDT binance::STORJ_USDT binance::UNFI_USDT binance::WAVES_USDT\n",
      "\n"
     ]
    }
   ],
   "source": [
    "compare_universe = hprint.set_diff_to_str(\n",
    "    cc_universe, ccxt_universe, add_space=True\n",
    ")\n",
    "print(compare_universe)"
   ]
  },
  {
   "cell_type": "markdown",
   "id": "9e225fc3",
   "metadata": {},
   "source": [
    "# Load the data"
   ]
  },
  {
   "cell_type": "markdown",
   "id": "bf6019d1",
   "metadata": {},
   "source": [
    "## Adjust universe"
   ]
  },
  {
   "cell_type": "code",
   "execution_count": 9,
   "id": "204a6f31",
   "metadata": {
    "ExecuteTime": {
     "end_time": "2022-09-27T18:46:42.397075Z",
     "start_time": "2022-09-27T18:46:42.345986Z"
    }
   },
   "outputs": [
    {
     "data": {
      "text/plain": [
       "['binance::DOGE_USDT',\n",
       " 'binance::SOL_USDT',\n",
       " 'binance::ETH_USDT',\n",
       " 'binance::BNB_USDT',\n",
       " 'binance::BTC_USDT']"
      ]
     },
     "execution_count": 9,
     "metadata": {},
     "output_type": "execute_result"
    }
   ],
   "source": [
    "# Even though they're in the intersected universe,\n",
    "# they are not downloaded in CC.\n",
    "universe.remove(\"binance::XRP_USDT\")\n",
    "universe.remove(\"binance::DOT_USDT\")\n",
    "# These two symbols crashes the downloads on `tz-conversion` stage.\n",
    "universe"
   ]
  },
  {
   "cell_type": "markdown",
   "id": "0eb611b3",
   "metadata": {},
   "source": [
    "## Load data"
   ]
  },
  {
   "cell_type": "code",
   "execution_count": 10,
   "id": "eb40c11d",
   "metadata": {
    "ExecuteTime": {
     "end_time": "2022-09-27T18:46:50.406171Z",
     "start_time": "2022-09-27T18:46:42.400153Z"
    },
    "scrolled": true
   },
   "outputs": [],
   "source": [
    "# CCXT data.\n",
    "bid_ask_cols = config[\"column_names\"][\"bid_ask_cols\"]\n",
    "is_ccxt = True\n",
    "#\n",
    "data_ccxt = load_and_transform_the_data(\n",
    "    universe, bid_ask_cols, is_ccxt, **config[\"data\"][\"read_data\"]\n",
    ")"
   ]
  },
  {
   "cell_type": "code",
   "execution_count": 11,
   "id": "1519a233",
   "metadata": {
    "ExecuteTime": {
     "end_time": "2022-09-27T18:47:46.105916Z",
     "start_time": "2022-09-27T18:46:50.408078Z"
    }
   },
   "outputs": [],
   "source": [
    "# CC data.\n",
    "is_ccxt = False\n",
    "#\n",
    "data_cc = load_and_transform_the_data(\n",
    "    universe, bid_ask_cols, is_ccxt, **config[\"data\"][\"read_data\"]\n",
    ")"
   ]
  },
  {
   "cell_type": "markdown",
   "id": "0d4539db",
   "metadata": {},
   "source": [
    "# Analysis"
   ]
  },
  {
   "cell_type": "markdown",
   "id": "7d9a6c62",
   "metadata": {},
   "source": [
    "## Merge CC and DB data into one DataFrame"
   ]
  },
  {
   "cell_type": "code",
   "execution_count": 12,
   "id": "3d763fe3",
   "metadata": {
    "ExecuteTime": {
     "end_time": "2022-09-27T18:47:47.022058Z",
     "start_time": "2022-09-27T18:47:46.108269Z"
    }
   },
   "outputs": [
    {
     "name": "stdout",
     "output_type": "stream",
     "text": [
      "INFO  Start date = 2022-09-08 22:06:00+00:00\n",
      "INFO  End date = 2022-09-13 00:00:00+00:00\n",
      "INFO  Avg observations per coin = 5875.0\n",
      "INFO  Number of observations with NaNs in CryptoChassis = 0\n",
      "INFO  Number of observations with NaNs in CCXT = 5\n",
      "INFO  removed rows with nans: 5 / 29375 = 0.02%\n"
     ]
    },
    {
     "data": {
      "text/html": [
       "<div>\n",
       "<style scoped>\n",
       "    .dataframe tbody tr th:only-of-type {\n",
       "        vertical-align: middle;\n",
       "    }\n",
       "\n",
       "    .dataframe tbody tr th {\n",
       "        vertical-align: top;\n",
       "    }\n",
       "\n",
       "    .dataframe thead th {\n",
       "        text-align: right;\n",
       "    }\n",
       "</style>\n",
       "<table border=\"1\" class=\"dataframe\">\n",
       "  <thead>\n",
       "    <tr style=\"text-align: right;\">\n",
       "      <th></th>\n",
       "      <th></th>\n",
       "      <th>ask_price_cc</th>\n",
       "      <th>ask_price_ccxt</th>\n",
       "      <th>ask_size_cc</th>\n",
       "      <th>ask_size_ccxt</th>\n",
       "      <th>bid_price_cc</th>\n",
       "      <th>bid_price_ccxt</th>\n",
       "      <th>bid_size_cc</th>\n",
       "      <th>bid_size_ccxt</th>\n",
       "    </tr>\n",
       "    <tr>\n",
       "      <th>timestamp</th>\n",
       "      <th>full_symbol</th>\n",
       "      <th></th>\n",
       "      <th></th>\n",
       "      <th></th>\n",
       "      <th></th>\n",
       "      <th></th>\n",
       "      <th></th>\n",
       "      <th></th>\n",
       "      <th></th>\n",
       "    </tr>\n",
       "  </thead>\n",
       "  <tbody>\n",
       "    <tr>\n",
       "      <th rowspan=\"5\" valign=\"top\">2022-09-12 23:59:00+00:00</th>\n",
       "      <th>binance::BNB_USDT</th>\n",
       "      <td>293.755573</td>\n",
       "      <td>293.67000</td>\n",
       "      <td>1.097510e+03</td>\n",
       "      <td>12.390</td>\n",
       "      <td>293.703382</td>\n",
       "      <td>293.66000</td>\n",
       "      <td>1.289080e+03</td>\n",
       "      <td>22.820</td>\n",
       "    </tr>\n",
       "    <tr>\n",
       "      <th>binance::BTC_USDT</th>\n",
       "      <td>22383.539757</td>\n",
       "      <td>22379.30000</td>\n",
       "      <td>6.752290e+02</td>\n",
       "      <td>9.022</td>\n",
       "      <td>22384.719934</td>\n",
       "      <td>22379.20000</td>\n",
       "      <td>8.529330e+02</td>\n",
       "      <td>11.326</td>\n",
       "    </tr>\n",
       "    <tr>\n",
       "      <th>binance::DOGE_USDT</th>\n",
       "      <td>0.063935</td>\n",
       "      <td>0.06397</td>\n",
       "      <td>1.620331e+07</td>\n",
       "      <td>45400.000</td>\n",
       "      <td>0.063940</td>\n",
       "      <td>0.06396</td>\n",
       "      <td>1.979671e+07</td>\n",
       "      <td>274591.000</td>\n",
       "    </tr>\n",
       "    <tr>\n",
       "      <th>binance::ETH_USDT</th>\n",
       "      <td>1715.297304</td>\n",
       "      <td>1715.11000</td>\n",
       "      <td>2.245335e+03</td>\n",
       "      <td>9.534</td>\n",
       "      <td>1715.270648</td>\n",
       "      <td>1715.10000</td>\n",
       "      <td>2.897342e+03</td>\n",
       "      <td>68.793</td>\n",
       "    </tr>\n",
       "    <tr>\n",
       "      <th>binance::SOL_USDT</th>\n",
       "      <td>37.439642</td>\n",
       "      <td>37.45000</td>\n",
       "      <td>8.304300e+04</td>\n",
       "      <td>738.000</td>\n",
       "      <td>37.430815</td>\n",
       "      <td>37.44000</td>\n",
       "      <td>1.003210e+05</td>\n",
       "      <td>2338.000</td>\n",
       "    </tr>\n",
       "  </tbody>\n",
       "</table>\n",
       "</div>"
      ],
      "text/plain": [
       "                                              ask_price_cc  ask_price_ccxt   ask_size_cc  ask_size_ccxt  bid_price_cc  bid_price_ccxt   bid_size_cc  bid_size_ccxt\n",
       "timestamp                 full_symbol                                                                                                                             \n",
       "2022-09-12 23:59:00+00:00 binance::BNB_USDT     293.755573       293.67000  1.097510e+03         12.390    293.703382       293.66000  1.289080e+03         22.820\n",
       "                          binance::BTC_USDT   22383.539757     22379.30000  6.752290e+02          9.022  22384.719934     22379.20000  8.529330e+02         11.326\n",
       "                          binance::DOGE_USDT      0.063935         0.06397  1.620331e+07      45400.000      0.063940         0.06396  1.979671e+07     274591.000\n",
       "                          binance::ETH_USDT    1715.297304      1715.11000  2.245335e+03          9.534   1715.270648      1715.10000  2.897342e+03         68.793\n",
       "                          binance::SOL_USDT      37.439642        37.45000  8.304300e+04        738.000     37.430815        37.44000  1.003210e+05       2338.000"
      ]
     },
     "metadata": {},
     "output_type": "display_data"
    }
   ],
   "source": [
    "data = data_ccxt.merge(\n",
    "    data_cc,\n",
    "    how=\"outer\",\n",
    "    left_index=True,\n",
    "    right_index=True,\n",
    "    suffixes=(\"_ccxt\", \"_cc\"),\n",
    ")\n",
    "_LOG.info(\"Start date = %s\", data.reset_index()[\"timestamp\"].min())\n",
    "_LOG.info(\"End date = %s\", data.reset_index()[\"timestamp\"].max())\n",
    "_LOG.info(\n",
    "    \"Avg observations per coin = %s\",\n",
    "    len(data) / len(data.reset_index()[\"full_symbol\"].unique()),\n",
    ")\n",
    "# Move the same metrics from two vendors together.\n",
    "data = data.reindex(sorted(data.columns), axis=1)\n",
    "# NaNs observation.\n",
    "_LOG.info(\n",
    "    \"Number of observations with NaNs in CryptoChassis = %s\",\n",
    "    len(data[data[\"bid_price_cc\"].isna()]),\n",
    ")\n",
    "_LOG.info(\n",
    "    \"Number of observations with NaNs in CCXT = %s\",\n",
    "    len(data[data[\"bid_price_ccxt\"].isna()]),\n",
    ")\n",
    "# Remove NaNs.\n",
    "data = hpandas.dropna(data, report_stats=True)\n",
    "#\n",
    "display(data.tail())"
   ]
  },
  {
   "cell_type": "markdown",
   "id": "9559b7fd",
   "metadata": {},
   "source": [
    "## Calculate differences"
   ]
  },
  {
   "cell_type": "code",
   "execution_count": 13,
   "id": "69503bb3",
   "metadata": {
    "ExecuteTime": {
     "end_time": "2022-09-27T18:47:47.092476Z",
     "start_time": "2022-09-27T18:47:47.024178Z"
    }
   },
   "outputs": [
    {
     "data": {
      "text/html": [
       "<div>\n",
       "<style scoped>\n",
       "    .dataframe tbody tr th:only-of-type {\n",
       "        vertical-align: middle;\n",
       "    }\n",
       "\n",
       "    .dataframe tbody tr th {\n",
       "        vertical-align: top;\n",
       "    }\n",
       "\n",
       "    .dataframe thead th {\n",
       "        text-align: right;\n",
       "    }\n",
       "</style>\n",
       "<table border=\"1\" class=\"dataframe\">\n",
       "  <thead>\n",
       "    <tr style=\"text-align: right;\">\n",
       "      <th></th>\n",
       "      <th></th>\n",
       "      <th>ask_price_cc</th>\n",
       "      <th>ask_price_ccxt</th>\n",
       "      <th>ask_size_cc</th>\n",
       "      <th>ask_size_ccxt</th>\n",
       "      <th>bid_price_cc</th>\n",
       "      <th>bid_price_ccxt</th>\n",
       "      <th>bid_size_cc</th>\n",
       "      <th>bid_size_ccxt</th>\n",
       "      <th>bid_price_diff</th>\n",
       "      <th>bid_price_relative_diff_pct</th>\n",
       "      <th>bid_size_diff</th>\n",
       "      <th>bid_size_relative_diff_pct</th>\n",
       "      <th>ask_price_diff</th>\n",
       "      <th>ask_price_relative_diff_pct</th>\n",
       "      <th>ask_size_diff</th>\n",
       "      <th>ask_size_relative_diff_pct</th>\n",
       "    </tr>\n",
       "    <tr>\n",
       "      <th>timestamp</th>\n",
       "      <th>full_symbol</th>\n",
       "      <th></th>\n",
       "      <th></th>\n",
       "      <th></th>\n",
       "      <th></th>\n",
       "      <th></th>\n",
       "      <th></th>\n",
       "      <th></th>\n",
       "      <th></th>\n",
       "      <th></th>\n",
       "      <th></th>\n",
       "      <th></th>\n",
       "      <th></th>\n",
       "      <th></th>\n",
       "      <th></th>\n",
       "      <th></th>\n",
       "      <th></th>\n",
       "    </tr>\n",
       "  </thead>\n",
       "  <tbody>\n",
       "    <tr>\n",
       "      <th rowspan=\"5\" valign=\"top\">2022-09-08 22:06:00+00:00</th>\n",
       "      <th>binance::BNB_USDT</th>\n",
       "      <td>280.452998</td>\n",
       "      <td>280.37000</td>\n",
       "      <td>1.661800e+03</td>\n",
       "      <td>19.860</td>\n",
       "      <td>280.407683</td>\n",
       "      <td>280.36000</td>\n",
       "      <td>1.811390e+03</td>\n",
       "      <td>30.870</td>\n",
       "      <td>4.768349e-02</td>\n",
       "      <td>0.017008</td>\n",
       "      <td>1.780520e+03</td>\n",
       "      <td>5767.800454</td>\n",
       "      <td>0.082998</td>\n",
       "      <td>0.029603</td>\n",
       "      <td>1.641940e+03</td>\n",
       "      <td>8267.573011</td>\n",
       "    </tr>\n",
       "    <tr>\n",
       "      <th>binance::BTC_USDT</th>\n",
       "      <td>19302.452881</td>\n",
       "      <td>19307.20000</td>\n",
       "      <td>4.050410e+02</td>\n",
       "      <td>3.030</td>\n",
       "      <td>19304.282182</td>\n",
       "      <td>19307.10000</td>\n",
       "      <td>1.052963e+03</td>\n",
       "      <td>13.845</td>\n",
       "      <td>-2.817818e+00</td>\n",
       "      <td>-0.014595</td>\n",
       "      <td>1.039118e+03</td>\n",
       "      <td>7505.366558</td>\n",
       "      <td>-4.747119</td>\n",
       "      <td>-0.024587</td>\n",
       "      <td>4.020110e+02</td>\n",
       "      <td>13267.689769</td>\n",
       "    </tr>\n",
       "    <tr>\n",
       "      <th>binance::DOGE_USDT</th>\n",
       "      <td>0.060794</td>\n",
       "      <td>0.06079</td>\n",
       "      <td>1.698466e+07</td>\n",
       "      <td>166509.000</td>\n",
       "      <td>0.060780</td>\n",
       "      <td>0.06078</td>\n",
       "      <td>2.262699e+07</td>\n",
       "      <td>459769.000</td>\n",
       "      <td>3.458295e-07</td>\n",
       "      <td>0.000569</td>\n",
       "      <td>2.216722e+07</td>\n",
       "      <td>4821.381607</td>\n",
       "      <td>0.000004</td>\n",
       "      <td>0.006939</td>\n",
       "      <td>1.681815e+07</td>\n",
       "      <td>10100.447423</td>\n",
       "    </tr>\n",
       "    <tr>\n",
       "      <th>binance::ETH_USDT</th>\n",
       "      <td>1635.415386</td>\n",
       "      <td>1635.75000</td>\n",
       "      <td>1.782946e+03</td>\n",
       "      <td>41.053</td>\n",
       "      <td>1635.541073</td>\n",
       "      <td>1635.74000</td>\n",
       "      <td>4.864447e+03</td>\n",
       "      <td>38.886</td>\n",
       "      <td>-1.989267e-01</td>\n",
       "      <td>-0.012161</td>\n",
       "      <td>4.825561e+03</td>\n",
       "      <td>12409.507278</td>\n",
       "      <td>-0.334614</td>\n",
       "      <td>-0.020456</td>\n",
       "      <td>1.741893e+03</td>\n",
       "      <td>4243.034614</td>\n",
       "    </tr>\n",
       "    <tr>\n",
       "      <th>binance::SOL_USDT</th>\n",
       "      <td>33.550721</td>\n",
       "      <td>33.56000</td>\n",
       "      <td>5.981300e+04</td>\n",
       "      <td>34.000</td>\n",
       "      <td>33.546178</td>\n",
       "      <td>33.55000</td>\n",
       "      <td>9.132600e+04</td>\n",
       "      <td>2596.000</td>\n",
       "      <td>-3.822351e-03</td>\n",
       "      <td>-0.011393</td>\n",
       "      <td>8.873000e+04</td>\n",
       "      <td>3417.950693</td>\n",
       "      <td>-0.009279</td>\n",
       "      <td>-0.027650</td>\n",
       "      <td>5.977900e+04</td>\n",
       "      <td>175820.588235</td>\n",
       "    </tr>\n",
       "  </tbody>\n",
       "</table>\n",
       "</div>"
      ],
      "text/plain": [
       "                                              ask_price_cc  ask_price_ccxt   ask_size_cc  ask_size_ccxt  bid_price_cc  bid_price_ccxt   bid_size_cc  bid_size_ccxt  bid_price_diff  bid_price_relative_diff_pct  bid_size_diff  bid_size_relative_diff_pct  ask_price_diff  ask_price_relative_diff_pct  ask_size_diff  ask_size_relative_diff_pct\n",
       "timestamp                 full_symbol                                                                                                                                                                                                                                                                                                             \n",
       "2022-09-08 22:06:00+00:00 binance::BNB_USDT     280.452998       280.37000  1.661800e+03         19.860    280.407683       280.36000  1.811390e+03         30.870    4.768349e-02                     0.017008   1.780520e+03                 5767.800454        0.082998                     0.029603   1.641940e+03                 8267.573011\n",
       "                          binance::BTC_USDT   19302.452881     19307.20000  4.050410e+02          3.030  19304.282182     19307.10000  1.052963e+03         13.845   -2.817818e+00                    -0.014595   1.039118e+03                 7505.366558       -4.747119                    -0.024587   4.020110e+02                13267.689769\n",
       "                          binance::DOGE_USDT      0.060794         0.06079  1.698466e+07     166509.000      0.060780         0.06078  2.262699e+07     459769.000    3.458295e-07                     0.000569   2.216722e+07                 4821.381607        0.000004                     0.006939   1.681815e+07                10100.447423\n",
       "                          binance::ETH_USDT    1635.415386      1635.75000  1.782946e+03         41.053   1635.541073      1635.74000  4.864447e+03         38.886   -1.989267e-01                    -0.012161   4.825561e+03                12409.507278       -0.334614                    -0.020456   1.741893e+03                 4243.034614\n",
       "                          binance::SOL_USDT      33.550721        33.56000  5.981300e+04         34.000     33.546178        33.55000  9.132600e+04       2596.000   -3.822351e-03                    -0.011393   8.873000e+04                 3417.950693       -0.009279                    -0.027650   5.977900e+04               175820.588235"
      ]
     },
     "execution_count": 13,
     "metadata": {},
     "output_type": "execute_result"
    }
   ],
   "source": [
    "# Full symbol will not be relevant in calculation loops below.\n",
    "bid_ask_cols.remove(\"full_symbol\")\n",
    "# Each bid ask value will have a notional and a relative difference between two sources.\n",
    "for col in bid_ask_cols:\n",
    "    # Notional difference: CC value - DB value.\n",
    "    data[f\"{col}_diff\"] = data[f\"{col}_cc\"] - data[f\"{col}_ccxt\"]\n",
    "    # Relative value: (CC value - DB value)/DB value.\n",
    "    data[f\"{col}_relative_diff_pct\"] = (\n",
    "        100 * (data[f\"{col}_cc\"] - data[f\"{col}_ccxt\"]) / data[f\"{col}_ccxt\"]\n",
    "    )\n",
    "#\n",
    "data.head()"
   ]
  },
  {
   "cell_type": "code",
   "execution_count": 14,
   "id": "312e29c1",
   "metadata": {
    "ExecuteTime": {
     "end_time": "2022-09-27T18:47:47.142689Z",
     "start_time": "2022-09-27T18:47:47.094972Z"
    }
   },
   "outputs": [],
   "source": [
    "# Calculate the mean value of differences for each coin.\n",
    "diff_stats = []\n",
    "grouper = data.groupby([\"full_symbol\"])\n",
    "for col in bid_ask_cols:\n",
    "    diff_stats.append(grouper[f\"{col}_diff\"].mean())\n",
    "    diff_stats.append(grouper[f\"{col}_relative_diff_pct\"].mean())\n",
    "#\n",
    "diff_stats = pd.concat(diff_stats, axis=1)"
   ]
  },
  {
   "cell_type": "markdown",
   "id": "b76c0202",
   "metadata": {},
   "source": [
    "## Show stats for differences (in %)"
   ]
  },
  {
   "cell_type": "markdown",
   "id": "6c134fd8",
   "metadata": {
    "ExecuteTime": {
     "end_time": "2022-09-12T21:19:37.253671Z",
     "start_time": "2022-09-12T21:19:37.222938Z"
    }
   },
   "source": [
    "### Prices"
   ]
  },
  {
   "cell_type": "code",
   "execution_count": 15,
   "id": "784f9427",
   "metadata": {
    "ExecuteTime": {
     "end_time": "2022-09-27T18:47:47.186302Z",
     "start_time": "2022-09-27T18:47:47.145226Z"
    }
   },
   "outputs": [
    {
     "data": {
      "text/html": [
       "<div>\n",
       "<style scoped>\n",
       "    .dataframe tbody tr th:only-of-type {\n",
       "        vertical-align: middle;\n",
       "    }\n",
       "\n",
       "    .dataframe tbody tr th {\n",
       "        vertical-align: top;\n",
       "    }\n",
       "\n",
       "    .dataframe thead th {\n",
       "        text-align: right;\n",
       "    }\n",
       "</style>\n",
       "<table border=\"1\" class=\"dataframe\">\n",
       "  <thead>\n",
       "    <tr style=\"text-align: right;\">\n",
       "      <th></th>\n",
       "      <th>bid_price_relative_diff_pct</th>\n",
       "      <th>ask_price_relative_diff_pct</th>\n",
       "    </tr>\n",
       "    <tr>\n",
       "      <th>full_symbol</th>\n",
       "      <th></th>\n",
       "      <th></th>\n",
       "    </tr>\n",
       "  </thead>\n",
       "  <tbody>\n",
       "    <tr>\n",
       "      <th>binance::BNB_USDT</th>\n",
       "      <td>-0.000208</td>\n",
       "      <td>0.001182</td>\n",
       "    </tr>\n",
       "    <tr>\n",
       "      <th>binance::BTC_USDT</th>\n",
       "      <td>-0.000031</td>\n",
       "      <td>0.002573</td>\n",
       "    </tr>\n",
       "    <tr>\n",
       "      <th>binance::DOGE_USDT</th>\n",
       "      <td>-0.000632</td>\n",
       "      <td>0.001197</td>\n",
       "    </tr>\n",
       "    <tr>\n",
       "      <th>binance::ETH_USDT</th>\n",
       "      <td>0.000206</td>\n",
       "      <td>0.001268</td>\n",
       "    </tr>\n",
       "    <tr>\n",
       "      <th>binance::SOL_USDT</th>\n",
       "      <td>-0.000420</td>\n",
       "      <td>0.001413</td>\n",
       "    </tr>\n",
       "  </tbody>\n",
       "</table>\n",
       "</div>"
      ],
      "text/plain": [
       "                    bid_price_relative_diff_pct  ask_price_relative_diff_pct\n",
       "full_symbol                                                                 \n",
       "binance::BNB_USDT                     -0.000208                     0.001182\n",
       "binance::BTC_USDT                     -0.000031                     0.002573\n",
       "binance::DOGE_USDT                    -0.000632                     0.001197\n",
       "binance::ETH_USDT                      0.000206                     0.001268\n",
       "binance::SOL_USDT                     -0.000420                     0.001413"
      ]
     },
     "execution_count": 15,
     "metadata": {},
     "output_type": "execute_result"
    }
   ],
   "source": [
    "diff_stats[[\"bid_price_relative_diff_pct\", \"ask_price_relative_diff_pct\"]]"
   ]
  },
  {
   "cell_type": "markdown",
   "id": "94181a52",
   "metadata": {},
   "source": [
    "As one can see, the difference between bid and ask prices in DB and CC are less than 1%."
   ]
  },
  {
   "cell_type": "markdown",
   "id": "c8db897a",
   "metadata": {},
   "source": [
    "### Sizes"
   ]
  },
  {
   "cell_type": "code",
   "execution_count": 16,
   "id": "1dcdcfc8",
   "metadata": {
    "ExecuteTime": {
     "end_time": "2022-09-27T18:47:47.232216Z",
     "start_time": "2022-09-27T18:47:47.188456Z"
    }
   },
   "outputs": [
    {
     "data": {
      "text/html": [
       "<div>\n",
       "<style scoped>\n",
       "    .dataframe tbody tr th:only-of-type {\n",
       "        vertical-align: middle;\n",
       "    }\n",
       "\n",
       "    .dataframe tbody tr th {\n",
       "        vertical-align: top;\n",
       "    }\n",
       "\n",
       "    .dataframe thead th {\n",
       "        text-align: right;\n",
       "    }\n",
       "</style>\n",
       "<table border=\"1\" class=\"dataframe\">\n",
       "  <thead>\n",
       "    <tr style=\"text-align: right;\">\n",
       "      <th></th>\n",
       "      <th>bid_size_relative_diff_pct</th>\n",
       "      <th>ask_size_relative_diff_pct</th>\n",
       "    </tr>\n",
       "    <tr>\n",
       "      <th>full_symbol</th>\n",
       "      <th></th>\n",
       "      <th></th>\n",
       "    </tr>\n",
       "  </thead>\n",
       "  <tbody>\n",
       "    <tr>\n",
       "      <th>binance::BNB_USDT</th>\n",
       "      <td>68818.017135</td>\n",
       "      <td>70078.013276</td>\n",
       "    </tr>\n",
       "    <tr>\n",
       "      <th>binance::BTC_USDT</th>\n",
       "      <td>267910.987962</td>\n",
       "      <td>350682.580486</td>\n",
       "    </tr>\n",
       "    <tr>\n",
       "      <th>binance::DOGE_USDT</th>\n",
       "      <td>50040.461910</td>\n",
       "      <td>83404.551224</td>\n",
       "    </tr>\n",
       "    <tr>\n",
       "      <th>binance::ETH_USDT</th>\n",
       "      <td>884531.524803</td>\n",
       "      <td>775768.012765</td>\n",
       "    </tr>\n",
       "    <tr>\n",
       "      <th>binance::SOL_USDT</th>\n",
       "      <td>15302.541386</td>\n",
       "      <td>17541.304393</td>\n",
       "    </tr>\n",
       "  </tbody>\n",
       "</table>\n",
       "</div>"
      ],
      "text/plain": [
       "                    bid_size_relative_diff_pct  ask_size_relative_diff_pct\n",
       "full_symbol                                                               \n",
       "binance::BNB_USDT                 68818.017135                70078.013276\n",
       "binance::BTC_USDT                267910.987962               350682.580486\n",
       "binance::DOGE_USDT                50040.461910                83404.551224\n",
       "binance::ETH_USDT                884531.524803               775768.012765\n",
       "binance::SOL_USDT                 15302.541386                17541.304393"
      ]
     },
     "execution_count": 16,
     "metadata": {},
     "output_type": "execute_result"
    }
   ],
   "source": [
    "diff_stats[[\"bid_size_relative_diff_pct\", \"ask_size_relative_diff_pct\"]]"
   ]
  },
  {
   "cell_type": "markdown",
   "id": "59f278cc",
   "metadata": {},
   "source": [
    "The difference between bid and ask sizes in DB and CC is solid and accounts for more than 100% for each full symbol."
   ]
  },
  {
   "cell_type": "markdown",
   "id": "3338e9b6",
   "metadata": {},
   "source": [
    "## Correlations"
   ]
  },
  {
   "cell_type": "markdown",
   "id": "6700ca9e",
   "metadata": {},
   "source": [
    "### Bid price"
   ]
  },
  {
   "cell_type": "code",
   "execution_count": 17,
   "id": "dcd1dc9b",
   "metadata": {
    "ExecuteTime": {
     "end_time": "2022-09-27T18:47:47.303913Z",
     "start_time": "2022-09-27T18:47:47.234275Z"
    }
   },
   "outputs": [
    {
     "data": {
      "text/html": [
       "<div>\n",
       "<style scoped>\n",
       "    .dataframe tbody tr th:only-of-type {\n",
       "        vertical-align: middle;\n",
       "    }\n",
       "\n",
       "    .dataframe tbody tr th {\n",
       "        vertical-align: top;\n",
       "    }\n",
       "\n",
       "    .dataframe thead th {\n",
       "        text-align: right;\n",
       "    }\n",
       "</style>\n",
       "<table border=\"1\" class=\"dataframe\">\n",
       "  <thead>\n",
       "    <tr style=\"text-align: right;\">\n",
       "      <th></th>\n",
       "      <th></th>\n",
       "      <th>bid_price_cc</th>\n",
       "      <th>bid_price_ccxt</th>\n",
       "    </tr>\n",
       "    <tr>\n",
       "      <th>full_symbol</th>\n",
       "      <th></th>\n",
       "      <th></th>\n",
       "      <th></th>\n",
       "    </tr>\n",
       "  </thead>\n",
       "  <tbody>\n",
       "    <tr>\n",
       "      <th rowspan=\"2\" valign=\"top\">binance::BNB_USDT</th>\n",
       "      <th>bid_price_cc</th>\n",
       "      <td>1.000000</td>\n",
       "      <td>0.999529</td>\n",
       "    </tr>\n",
       "    <tr>\n",
       "      <th>bid_price_ccxt</th>\n",
       "      <td>0.999529</td>\n",
       "      <td>1.000000</td>\n",
       "    </tr>\n",
       "    <tr>\n",
       "      <th rowspan=\"2\" valign=\"top\">binance::BTC_USDT</th>\n",
       "      <th>bid_price_cc</th>\n",
       "      <td>1.000000</td>\n",
       "      <td>0.999901</td>\n",
       "    </tr>\n",
       "    <tr>\n",
       "      <th>bid_price_ccxt</th>\n",
       "      <td>0.999901</td>\n",
       "      <td>1.000000</td>\n",
       "    </tr>\n",
       "    <tr>\n",
       "      <th rowspan=\"2\" valign=\"top\">binance::DOGE_USDT</th>\n",
       "      <th>bid_price_cc</th>\n",
       "      <td>1.000000</td>\n",
       "      <td>0.999466</td>\n",
       "    </tr>\n",
       "    <tr>\n",
       "      <th>bid_price_ccxt</th>\n",
       "      <td>0.999466</td>\n",
       "      <td>1.000000</td>\n",
       "    </tr>\n",
       "    <tr>\n",
       "      <th rowspan=\"2\" valign=\"top\">binance::ETH_USDT</th>\n",
       "      <th>bid_price_cc</th>\n",
       "      <td>1.000000</td>\n",
       "      <td>0.999573</td>\n",
       "    </tr>\n",
       "    <tr>\n",
       "      <th>bid_price_ccxt</th>\n",
       "      <td>0.999573</td>\n",
       "      <td>1.000000</td>\n",
       "    </tr>\n",
       "    <tr>\n",
       "      <th rowspan=\"2\" valign=\"top\">binance::SOL_USDT</th>\n",
       "      <th>bid_price_cc</th>\n",
       "      <td>1.000000</td>\n",
       "      <td>0.999864</td>\n",
       "    </tr>\n",
       "    <tr>\n",
       "      <th>bid_price_ccxt</th>\n",
       "      <td>0.999864</td>\n",
       "      <td>1.000000</td>\n",
       "    </tr>\n",
       "  </tbody>\n",
       "</table>\n",
       "</div>"
      ],
      "text/plain": [
       "                                   bid_price_cc  bid_price_ccxt\n",
       "full_symbol                                                    \n",
       "binance::BNB_USDT  bid_price_cc        1.000000        0.999529\n",
       "                   bid_price_ccxt      0.999529        1.000000\n",
       "binance::BTC_USDT  bid_price_cc        1.000000        0.999901\n",
       "                   bid_price_ccxt      0.999901        1.000000\n",
       "binance::DOGE_USDT bid_price_cc        1.000000        0.999466\n",
       "                   bid_price_ccxt      0.999466        1.000000\n",
       "binance::ETH_USDT  bid_price_cc        1.000000        0.999573\n",
       "                   bid_price_ccxt      0.999573        1.000000\n",
       "binance::SOL_USDT  bid_price_cc        1.000000        0.999864\n",
       "                   bid_price_ccxt      0.999864        1.000000"
      ]
     },
     "execution_count": 17,
     "metadata": {},
     "output_type": "execute_result"
    }
   ],
   "source": [
    "bid_price_corr_matrix = (\n",
    "    data[[\"bid_price_cc\", \"bid_price_ccxt\"]].groupby(level=1).corr()\n",
    ")\n",
    "bid_price_corr_matrix"
   ]
  },
  {
   "cell_type": "markdown",
   "id": "16c63702",
   "metadata": {},
   "source": [
    "Correlation stats confirms the stats above: bid prices in DB and CC are highly correlated."
   ]
  },
  {
   "cell_type": "markdown",
   "id": "69fe3db0",
   "metadata": {},
   "source": [
    "### Ask price"
   ]
  },
  {
   "cell_type": "code",
   "execution_count": 18,
   "id": "98ee7b65",
   "metadata": {
    "ExecuteTime": {
     "end_time": "2022-09-27T18:47:47.356307Z",
     "start_time": "2022-09-27T18:47:47.306197Z"
    },
    "scrolled": false
   },
   "outputs": [
    {
     "data": {
      "text/html": [
       "<div>\n",
       "<style scoped>\n",
       "    .dataframe tbody tr th:only-of-type {\n",
       "        vertical-align: middle;\n",
       "    }\n",
       "\n",
       "    .dataframe tbody tr th {\n",
       "        vertical-align: top;\n",
       "    }\n",
       "\n",
       "    .dataframe thead th {\n",
       "        text-align: right;\n",
       "    }\n",
       "</style>\n",
       "<table border=\"1\" class=\"dataframe\">\n",
       "  <thead>\n",
       "    <tr style=\"text-align: right;\">\n",
       "      <th></th>\n",
       "      <th></th>\n",
       "      <th>ask_price_cc</th>\n",
       "      <th>ask_price_ccxt</th>\n",
       "    </tr>\n",
       "    <tr>\n",
       "      <th>full_symbol</th>\n",
       "      <th></th>\n",
       "      <th></th>\n",
       "      <th></th>\n",
       "    </tr>\n",
       "  </thead>\n",
       "  <tbody>\n",
       "    <tr>\n",
       "      <th rowspan=\"2\" valign=\"top\">binance::BNB_USDT</th>\n",
       "      <th>ask_price_cc</th>\n",
       "      <td>1.000000</td>\n",
       "      <td>0.999529</td>\n",
       "    </tr>\n",
       "    <tr>\n",
       "      <th>ask_price_ccxt</th>\n",
       "      <td>0.999529</td>\n",
       "      <td>1.000000</td>\n",
       "    </tr>\n",
       "    <tr>\n",
       "      <th rowspan=\"2\" valign=\"top\">binance::BTC_USDT</th>\n",
       "      <th>ask_price_cc</th>\n",
       "      <td>1.000000</td>\n",
       "      <td>0.999886</td>\n",
       "    </tr>\n",
       "    <tr>\n",
       "      <th>ask_price_ccxt</th>\n",
       "      <td>0.999886</td>\n",
       "      <td>1.000000</td>\n",
       "    </tr>\n",
       "    <tr>\n",
       "      <th rowspan=\"2\" valign=\"top\">binance::DOGE_USDT</th>\n",
       "      <th>ask_price_cc</th>\n",
       "      <td>1.000000</td>\n",
       "      <td>0.999453</td>\n",
       "    </tr>\n",
       "    <tr>\n",
       "      <th>ask_price_ccxt</th>\n",
       "      <td>0.999453</td>\n",
       "      <td>1.000000</td>\n",
       "    </tr>\n",
       "    <tr>\n",
       "      <th rowspan=\"2\" valign=\"top\">binance::ETH_USDT</th>\n",
       "      <th>ask_price_cc</th>\n",
       "      <td>1.000000</td>\n",
       "      <td>0.999518</td>\n",
       "    </tr>\n",
       "    <tr>\n",
       "      <th>ask_price_ccxt</th>\n",
       "      <td>0.999518</td>\n",
       "      <td>1.000000</td>\n",
       "    </tr>\n",
       "    <tr>\n",
       "      <th rowspan=\"2\" valign=\"top\">binance::SOL_USDT</th>\n",
       "      <th>ask_price_cc</th>\n",
       "      <td>1.000000</td>\n",
       "      <td>0.999861</td>\n",
       "    </tr>\n",
       "    <tr>\n",
       "      <th>ask_price_ccxt</th>\n",
       "      <td>0.999861</td>\n",
       "      <td>1.000000</td>\n",
       "    </tr>\n",
       "  </tbody>\n",
       "</table>\n",
       "</div>"
      ],
      "text/plain": [
       "                                   ask_price_cc  ask_price_ccxt\n",
       "full_symbol                                                    \n",
       "binance::BNB_USDT  ask_price_cc        1.000000        0.999529\n",
       "                   ask_price_ccxt      0.999529        1.000000\n",
       "binance::BTC_USDT  ask_price_cc        1.000000        0.999886\n",
       "                   ask_price_ccxt      0.999886        1.000000\n",
       "binance::DOGE_USDT ask_price_cc        1.000000        0.999453\n",
       "                   ask_price_ccxt      0.999453        1.000000\n",
       "binance::ETH_USDT  ask_price_cc        1.000000        0.999518\n",
       "                   ask_price_ccxt      0.999518        1.000000\n",
       "binance::SOL_USDT  ask_price_cc        1.000000        0.999861\n",
       "                   ask_price_ccxt      0.999861        1.000000"
      ]
     },
     "execution_count": 18,
     "metadata": {},
     "output_type": "execute_result"
    }
   ],
   "source": [
    "ask_price_corr_matrix = (\n",
    "    data[[\"ask_price_cc\", \"ask_price_ccxt\"]].groupby(level=1).corr()\n",
    ")\n",
    "ask_price_corr_matrix"
   ]
  },
  {
   "cell_type": "markdown",
   "id": "5b325cb3",
   "metadata": {},
   "source": [
    "Correlation stats confirms the stats above: ask prices in DB and CC are highly correlated."
   ]
  },
  {
   "cell_type": "markdown",
   "id": "3409d2e7",
   "metadata": {},
   "source": [
    "### Bid size"
   ]
  },
  {
   "cell_type": "code",
   "execution_count": 19,
   "id": "241929a5",
   "metadata": {
    "ExecuteTime": {
     "end_time": "2022-09-27T18:47:47.412446Z",
     "start_time": "2022-09-27T18:47:47.358653Z"
    }
   },
   "outputs": [
    {
     "data": {
      "text/html": [
       "<div>\n",
       "<style scoped>\n",
       "    .dataframe tbody tr th:only-of-type {\n",
       "        vertical-align: middle;\n",
       "    }\n",
       "\n",
       "    .dataframe tbody tr th {\n",
       "        vertical-align: top;\n",
       "    }\n",
       "\n",
       "    .dataframe thead th {\n",
       "        text-align: right;\n",
       "    }\n",
       "</style>\n",
       "<table border=\"1\" class=\"dataframe\">\n",
       "  <thead>\n",
       "    <tr style=\"text-align: right;\">\n",
       "      <th></th>\n",
       "      <th></th>\n",
       "      <th>bid_size_cc</th>\n",
       "      <th>bid_size_ccxt</th>\n",
       "    </tr>\n",
       "    <tr>\n",
       "      <th>full_symbol</th>\n",
       "      <th></th>\n",
       "      <th></th>\n",
       "      <th></th>\n",
       "    </tr>\n",
       "  </thead>\n",
       "  <tbody>\n",
       "    <tr>\n",
       "      <th rowspan=\"2\" valign=\"top\">binance::BNB_USDT</th>\n",
       "      <th>bid_size_cc</th>\n",
       "      <td>1.000000</td>\n",
       "      <td>0.386222</td>\n",
       "    </tr>\n",
       "    <tr>\n",
       "      <th>bid_size_ccxt</th>\n",
       "      <td>0.386222</td>\n",
       "      <td>1.000000</td>\n",
       "    </tr>\n",
       "    <tr>\n",
       "      <th rowspan=\"2\" valign=\"top\">binance::BTC_USDT</th>\n",
       "      <th>bid_size_cc</th>\n",
       "      <td>1.000000</td>\n",
       "      <td>0.360117</td>\n",
       "    </tr>\n",
       "    <tr>\n",
       "      <th>bid_size_ccxt</th>\n",
       "      <td>0.360117</td>\n",
       "      <td>1.000000</td>\n",
       "    </tr>\n",
       "    <tr>\n",
       "      <th rowspan=\"2\" valign=\"top\">binance::DOGE_USDT</th>\n",
       "      <th>bid_size_cc</th>\n",
       "      <td>1.000000</td>\n",
       "      <td>0.599602</td>\n",
       "    </tr>\n",
       "    <tr>\n",
       "      <th>bid_size_ccxt</th>\n",
       "      <td>0.599602</td>\n",
       "      <td>1.000000</td>\n",
       "    </tr>\n",
       "    <tr>\n",
       "      <th rowspan=\"2\" valign=\"top\">binance::ETH_USDT</th>\n",
       "      <th>bid_size_cc</th>\n",
       "      <td>1.000000</td>\n",
       "      <td>0.261788</td>\n",
       "    </tr>\n",
       "    <tr>\n",
       "      <th>bid_size_ccxt</th>\n",
       "      <td>0.261788</td>\n",
       "      <td>1.000000</td>\n",
       "    </tr>\n",
       "    <tr>\n",
       "      <th rowspan=\"2\" valign=\"top\">binance::SOL_USDT</th>\n",
       "      <th>bid_size_cc</th>\n",
       "      <td>1.000000</td>\n",
       "      <td>0.630683</td>\n",
       "    </tr>\n",
       "    <tr>\n",
       "      <th>bid_size_ccxt</th>\n",
       "      <td>0.630683</td>\n",
       "      <td>1.000000</td>\n",
       "    </tr>\n",
       "  </tbody>\n",
       "</table>\n",
       "</div>"
      ],
      "text/plain": [
       "                                  bid_size_cc  bid_size_ccxt\n",
       "full_symbol                                                 \n",
       "binance::BNB_USDT  bid_size_cc       1.000000       0.386222\n",
       "                   bid_size_ccxt     0.386222       1.000000\n",
       "binance::BTC_USDT  bid_size_cc       1.000000       0.360117\n",
       "                   bid_size_ccxt     0.360117       1.000000\n",
       "binance::DOGE_USDT bid_size_cc       1.000000       0.599602\n",
       "                   bid_size_ccxt     0.599602       1.000000\n",
       "binance::ETH_USDT  bid_size_cc       1.000000       0.261788\n",
       "                   bid_size_ccxt     0.261788       1.000000\n",
       "binance::SOL_USDT  bid_size_cc       1.000000       0.630683\n",
       "                   bid_size_ccxt     0.630683       1.000000"
      ]
     },
     "execution_count": 19,
     "metadata": {},
     "output_type": "execute_result"
    }
   ],
   "source": [
    "bid_size_corr_matrix = (\n",
    "    data[[\"bid_size_cc\", \"bid_size_ccxt\"]].groupby(level=1).corr()\n",
    ")\n",
    "bid_size_corr_matrix"
   ]
  },
  {
   "cell_type": "markdown",
   "id": "30dc617b",
   "metadata": {},
   "source": [
    "Correlation stats confirms the stats above: bid sizes in DB and CC are not correlated."
   ]
  },
  {
   "cell_type": "markdown",
   "id": "b76d93ec",
   "metadata": {},
   "source": [
    "### Ask size"
   ]
  },
  {
   "cell_type": "code",
   "execution_count": 20,
   "id": "416436b8",
   "metadata": {
    "ExecuteTime": {
     "end_time": "2022-09-27T18:47:47.468733Z",
     "start_time": "2022-09-27T18:47:47.414674Z"
    }
   },
   "outputs": [
    {
     "data": {
      "text/html": [
       "<div>\n",
       "<style scoped>\n",
       "    .dataframe tbody tr th:only-of-type {\n",
       "        vertical-align: middle;\n",
       "    }\n",
       "\n",
       "    .dataframe tbody tr th {\n",
       "        vertical-align: top;\n",
       "    }\n",
       "\n",
       "    .dataframe thead th {\n",
       "        text-align: right;\n",
       "    }\n",
       "</style>\n",
       "<table border=\"1\" class=\"dataframe\">\n",
       "  <thead>\n",
       "    <tr style=\"text-align: right;\">\n",
       "      <th></th>\n",
       "      <th></th>\n",
       "      <th>ask_size_cc</th>\n",
       "      <th>ask_size_ccxt</th>\n",
       "    </tr>\n",
       "    <tr>\n",
       "      <th>full_symbol</th>\n",
       "      <th></th>\n",
       "      <th></th>\n",
       "      <th></th>\n",
       "    </tr>\n",
       "  </thead>\n",
       "  <tbody>\n",
       "    <tr>\n",
       "      <th rowspan=\"2\" valign=\"top\">binance::BNB_USDT</th>\n",
       "      <th>ask_size_cc</th>\n",
       "      <td>1.000000</td>\n",
       "      <td>0.382751</td>\n",
       "    </tr>\n",
       "    <tr>\n",
       "      <th>ask_size_ccxt</th>\n",
       "      <td>0.382751</td>\n",
       "      <td>1.000000</td>\n",
       "    </tr>\n",
       "    <tr>\n",
       "      <th rowspan=\"2\" valign=\"top\">binance::BTC_USDT</th>\n",
       "      <th>ask_size_cc</th>\n",
       "      <td>1.000000</td>\n",
       "      <td>0.372992</td>\n",
       "    </tr>\n",
       "    <tr>\n",
       "      <th>ask_size_ccxt</th>\n",
       "      <td>0.372992</td>\n",
       "      <td>1.000000</td>\n",
       "    </tr>\n",
       "    <tr>\n",
       "      <th rowspan=\"2\" valign=\"top\">binance::DOGE_USDT</th>\n",
       "      <th>ask_size_cc</th>\n",
       "      <td>1.000000</td>\n",
       "      <td>0.588139</td>\n",
       "    </tr>\n",
       "    <tr>\n",
       "      <th>ask_size_ccxt</th>\n",
       "      <td>0.588139</td>\n",
       "      <td>1.000000</td>\n",
       "    </tr>\n",
       "    <tr>\n",
       "      <th rowspan=\"2\" valign=\"top\">binance::ETH_USDT</th>\n",
       "      <th>ask_size_cc</th>\n",
       "      <td>1.000000</td>\n",
       "      <td>0.185124</td>\n",
       "    </tr>\n",
       "    <tr>\n",
       "      <th>ask_size_ccxt</th>\n",
       "      <td>0.185124</td>\n",
       "      <td>1.000000</td>\n",
       "    </tr>\n",
       "    <tr>\n",
       "      <th rowspan=\"2\" valign=\"top\">binance::SOL_USDT</th>\n",
       "      <th>ask_size_cc</th>\n",
       "      <td>1.000000</td>\n",
       "      <td>0.606954</td>\n",
       "    </tr>\n",
       "    <tr>\n",
       "      <th>ask_size_ccxt</th>\n",
       "      <td>0.606954</td>\n",
       "      <td>1.000000</td>\n",
       "    </tr>\n",
       "  </tbody>\n",
       "</table>\n",
       "</div>"
      ],
      "text/plain": [
       "                                  ask_size_cc  ask_size_ccxt\n",
       "full_symbol                                                 \n",
       "binance::BNB_USDT  ask_size_cc       1.000000       0.382751\n",
       "                   ask_size_ccxt     0.382751       1.000000\n",
       "binance::BTC_USDT  ask_size_cc       1.000000       0.372992\n",
       "                   ask_size_ccxt     0.372992       1.000000\n",
       "binance::DOGE_USDT ask_size_cc       1.000000       0.588139\n",
       "                   ask_size_ccxt     0.588139       1.000000\n",
       "binance::ETH_USDT  ask_size_cc       1.000000       0.185124\n",
       "                   ask_size_ccxt     0.185124       1.000000\n",
       "binance::SOL_USDT  ask_size_cc       1.000000       0.606954\n",
       "                   ask_size_ccxt     0.606954       1.000000"
      ]
     },
     "execution_count": 20,
     "metadata": {},
     "output_type": "execute_result"
    }
   ],
   "source": [
    "ask_size_corr_matrix = (\n",
    "    data[[\"ask_size_cc\", \"ask_size_ccxt\"]].groupby(level=1).corr()\n",
    ")\n",
    "ask_size_corr_matrix"
   ]
  },
  {
   "cell_type": "markdown",
   "id": "870767f1",
   "metadata": {},
   "source": [
    "Correlation stats confirms the stats above: ask sizes in DB and CC are not correlated."
   ]
  }
 ],
 "metadata": {
  "kernelspec": {
   "display_name": "Python 3 (ipykernel)",
   "language": "python",
   "name": "python3"
  },
  "language_info": {
   "codemirror_mode": {
    "name": "ipython",
    "version": 3
   },
   "file_extension": ".py",
   "mimetype": "text/x-python",
   "name": "python",
   "nbconvert_exporter": "python",
   "pygments_lexer": "ipython3",
   "version": "3.8.10"
  },
  "toc": {
   "base_numbering": 1,
   "nav_menu": {},
   "number_sections": true,
   "sideBar": true,
   "skip_h1_title": false,
   "title_cell": "Table of Contents",
   "title_sidebar": "Contents",
   "toc_cell": false,
   "toc_position": {
    "height": "calc(100% - 180px)",
    "left": "10px",
    "top": "150px",
    "width": "249px"
   },
   "toc_section_display": true,
   "toc_window_display": true
  }
 },
 "nbformat": 4,
 "nbformat_minor": 5
}
