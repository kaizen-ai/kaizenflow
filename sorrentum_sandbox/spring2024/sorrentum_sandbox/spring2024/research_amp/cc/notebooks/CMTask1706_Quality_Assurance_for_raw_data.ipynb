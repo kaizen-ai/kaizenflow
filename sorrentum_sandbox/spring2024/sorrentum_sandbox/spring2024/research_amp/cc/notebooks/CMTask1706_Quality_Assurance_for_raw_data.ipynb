{
 "cells": [
  {
   "cell_type": "markdown",
   "id": "58d76abe",
   "metadata": {},
   "source": [
    "# Imports"
   ]
  },
  {
   "cell_type": "code",
   "execution_count": 1,
   "id": "90d2298b",
   "metadata": {
    "ExecuteTime": {
     "end_time": "2022-05-06T16:37:09.903856Z",
     "start_time": "2022-05-06T16:37:07.504927Z"
    },
    "run_control": {
     "marked": false
    }
   },
   "outputs": [
    {
     "name": "stderr",
     "output_type": "stream",
     "text": [
      "/app/helpers/hparquet.py:17: TqdmExperimentalWarning: Using `tqdm.autonotebook.tqdm` in notebook mode. Use `tqdm.tqdm` instead to force console mode (e.g. in jupyter console)\n",
      "  from tqdm.autonotebook import tqdm\n"
     ]
    }
   ],
   "source": [
    "import json\n",
    "import logging\n",
    "import os\n",
    "from datetime import timedelta\n",
    "\n",
    "import pandas as pd\n",
    "import requests\n",
    "\n",
    "import helpers.hdatetime as hdateti\n",
    "import helpers.hdbg as hdbg\n",
    "import helpers.hpandas as hpandas\n",
    "import helpers.hparquet as hparque\n",
    "import helpers.hprint as hprint\n",
    "import im_v2.ccxt.data.client as icdcl\n",
    "import im_v2.ccxt.data.extract.exchange_class as imvcdeexcl"
   ]
  },
  {
   "cell_type": "code",
   "execution_count": 2,
   "id": "feb220a4",
   "metadata": {
    "ExecuteTime": {
     "end_time": "2022-05-06T16:37:15.810873Z",
     "start_time": "2022-05-06T16:37:14.936845Z"
    },
    "scrolled": true
   },
   "outputs": [
    {
     "name": "stdout",
     "output_type": "stream",
     "text": [
      "\u001b[0m\u001b[36mINFO\u001b[0m: > cmd='/venv/lib/python3.8/site-packages/ipykernel_launcher.py -f /home/.local/share/jupyter/runtime/kernel-b1200c2b-21f2-4771-826f-a2f5c748b4ad.json'\n",
      "WARNING: Running in Jupyter\n",
      "\u001b[33mWARNING\u001b[0m: Disabling annoying warnings\n"
     ]
    }
   ],
   "source": [
    "hdbg.init_logger(verbosity=logging.INFO)\n",
    "\n",
    "_LOG = logging.getLogger(__name__)\n",
    "\n",
    "hprint.config_notebook()"
   ]
  },
  {
   "cell_type": "markdown",
   "id": "484e253a",
   "metadata": {},
   "source": [
    "## CCXT Historical Client"
   ]
  },
  {
   "cell_type": "code",
   "execution_count": 3,
   "id": "0ce8e4bf",
   "metadata": {
    "ExecuteTime": {
     "end_time": "2022-05-06T16:37:20.916387Z",
     "start_time": "2022-05-06T16:37:20.814116Z"
    },
    "scrolled": true
   },
   "outputs": [
    {
     "name": "stdout",
     "output_type": "stream",
     "text": [
      "INFO  txt_tmp=\n",
      "{\n",
      "  \"CCXT\": {\n",
      "    \"binance\": [\n",
      "      \"ADA_USDT\",\n",
      "      \"AVAX_USDT\",\n",
      "      \"BNB_USDT\",\n",
      "      \"BTC_USDT\",\n",
      "      \"DOGE_USDT\",\n",
      "      \"EOS_USDT\",\n",
      "      \"ETH_USDT\",\n",
      "      \"LINK_USDT\",\n",
      "      \"SOL_USDT\"\n",
      "    ],\n",
      "    \"ftx\": [\n",
      "      \"BNB_USDT\",\n",
      "      \"BTC_USDT\",\n",
      "      \"DOGE_USDT\",\n",
      "      \"ETH_USDT\",\n",
      "      \"LINK_USDT\",\n",
      "      \"SOL_USDT\",\n",
      "      \"XRP_USDT\"\n",
      "    ],\n",
      "    \"gateio\": [\n",
      "      \"ADA_USDT\",\n",
      "      \"AVAX_USDT\",\n",
      "      \"BNB_USDT\",\n",
      "      \"BTC_USDT\",\n",
      "      \"DOGE_USDT\",\n",
      "      \"EOS_USDT\",\n",
      "      \"ETH_USDT\",\n",
      "      \"FIL_USDT\",\n",
      "      \"LINK_USDT\",\n",
      "      \"SOL_USDT\",\n",
      "      \"XRP_USDT\"\n",
      "    ],\n",
      "    \"kucoin\": [\n",
      "      \"ADA_USDT\",\n",
      "      \"AVAX_USDT\",\n",
      "      \"BNB_USDT\",\n",
      "      \"BTC_USDT\",\n",
      "      \"DOGE_USDT\",\n",
      "      \"EOS_USDT\",\n",
      "      \"ETH_USDT\",\n",
      "      \"FIL_USDT\",\n",
      "      \"LINK_USDT\",\n",
      "      \"SOL_USDT\",\n",
      "      \"XRP_USDT\"\n",
      "    ]\n",
      "  }\n",
      "}\n",
      "\n"
     ]
    }
   ],
   "source": [
    "# Specify params.\n",
    "universe_version = \"v3\"\n",
    "resample_1min = True\n",
    "root_dir = os.path.join(\"s3://cryptokaizen-data\", \"historical\")\n",
    "partition_mode = \"by_year_month\"\n",
    "data_snapshot = \"latest\"\n",
    "aws_profile = \"ck\"\n",
    "\n",
    "# Initiate the client.\n",
    "historical_client = icdcl.CcxtHistoricalPqByTileClient(\n",
    "    universe_version,\n",
    "    resample_1min,\n",
    "    root_dir,\n",
    "    partition_mode,\n",
    "    data_snapshot=data_snapshot,\n",
    "    aws_profile=aws_profile,\n",
    ")"
   ]
  },
  {
   "cell_type": "markdown",
   "id": "42a6f74b",
   "metadata": {},
   "source": [
    "## Crypto-chassis Historical"
   ]
  },
  {
   "cell_type": "code",
   "execution_count": 4,
   "id": "52c29bd8",
   "metadata": {
    "ExecuteTime": {
     "end_time": "2022-05-02T14:18:50.058952Z",
     "start_time": "2022-05-02T14:18:50.052711Z"
    }
   },
   "outputs": [],
   "source": [
    "def load_crypto_chassis_ohlcv(exhange_id, currency_pair):\n",
    "    r = requests.get(\n",
    "        f\"https://api.cryptochassis.com/v1/ohlc/{exhange_id}/{currency_pair}?startTime=0\"\n",
    "    )\n",
    "    df = pd.read_csv(r.json()[\"historical\"][\"urls\"][0][\"url\"], compression=\"gzip\")\n",
    "    df[\"time_seconds\"] = df[\"time_seconds\"].apply(\n",
    "        lambda x: hdateti.convert_unix_epoch_to_timestamp(x, unit=\"s\")\n",
    "    )\n",
    "    df = df.set_index(\"time_seconds\")\n",
    "    return df"
   ]
  },
  {
   "cell_type": "markdown",
   "id": "fbc44923",
   "metadata": {
    "ExecuteTime": {
     "end_time": "2022-04-26T10:45:44.401024Z",
     "start_time": "2022-04-26T10:45:44.397749Z"
    }
   },
   "source": [
    "# `Kucoin` case"
   ]
  },
  {
   "cell_type": "markdown",
   "id": "e7209567",
   "metadata": {},
   "source": [
    "## Example that the data is available in other sources"
   ]
  },
  {
   "cell_type": "markdown",
   "id": "11878a30",
   "metadata": {},
   "source": [
    "### `full_symbol` = kucoin::ADA_USDT"
   ]
  },
  {
   "cell_type": "markdown",
   "id": "ceb66978",
   "metadata": {},
   "source": [
    "#### Load the data"
   ]
  },
  {
   "cell_type": "code",
   "execution_count": 4,
   "id": "016453b0",
   "metadata": {
    "ExecuteTime": {
     "end_time": "2022-05-05T14:56:53.879485Z",
     "start_time": "2022-05-05T14:56:38.569493Z"
    }
   },
   "outputs": [],
   "source": [
    "# Load historical data from CCXT.\n",
    "full_symbols = [\"kucoin::ADA_USDT\"]\n",
    "start_date = None\n",
    "end_date = None\n",
    "ada_kucoin_ccxt = historical_client.read_data(\n",
    "    full_symbols, start_date, end_date, columns=None\n",
    ")\n",
    "# Load historical data from crypto-chassis.\n",
    "ada_kucoin_ch = load_crypto_chassis_ohlcv(\"kucoin\", \"ada-usdt\")"
   ]
  },
  {
   "cell_type": "markdown",
   "id": "f57067b6",
   "metadata": {},
   "source": [
    "#### Take a specific period of time - [2022-02-09 00:00, 2022-02-09 13:33]"
   ]
  },
  {
   "cell_type": "code",
   "execution_count": 6,
   "id": "4089c06c",
   "metadata": {
    "ExecuteTime": {
     "end_time": "2022-05-02T14:19:52.013504Z",
     "start_time": "2022-05-02T14:19:51.986697Z"
    }
   },
   "outputs": [
    {
     "name": "stdout",
     "output_type": "stream",
     "text": [
      "Both datasets have the same length: True\n"
     ]
    }
   ],
   "source": [
    "ccxt_ada_nans = ada_kucoin_ccxt.loc[\n",
    "    (ada_kucoin_ccxt.index > \"2022-02-09 00:00:00+00:00\")\n",
    "    & (ada_kucoin_ccxt.index < \"2022-02-09 13:33:00+00:00\")\n",
    "]\n",
    "chassis_ada = ada_kucoin_ch.loc[\n",
    "    (ada_kucoin_ch.index > \"2022-02-09 00:00:00+00:00\")\n",
    "    & (ada_kucoin_ch.index < \"2022-02-09 13:33:00+00:00\")\n",
    "]\n",
    "# Check that the lenght is identical.\n",
    "print(\n",
    "    f\"Both datasets have the same length: {len(ccxt_ada_nans)==len(chassis_ada)}\"\n",
    ")"
   ]
  },
  {
   "cell_type": "markdown",
   "id": "85df2c5b",
   "metadata": {},
   "source": [
    "#### Data snapshot"
   ]
  },
  {
   "cell_type": "code",
   "execution_count": 7,
   "id": "ce1bf8f5",
   "metadata": {
    "ExecuteTime": {
     "end_time": "2022-05-02T14:19:52.050384Z",
     "start_time": "2022-05-02T14:19:52.016600Z"
    }
   },
   "outputs": [
    {
     "name": "stdout",
     "output_type": "stream",
     "text": [
      "Period of NaNs in CCXT:\n"
     ]
    },
    {
     "data": {
      "text/html": [
       "<div>\n",
       "<style scoped>\n",
       "    .dataframe tbody tr th:only-of-type {\n",
       "        vertical-align: middle;\n",
       "    }\n",
       "\n",
       "    .dataframe tbody tr th {\n",
       "        vertical-align: top;\n",
       "    }\n",
       "\n",
       "    .dataframe thead th {\n",
       "        text-align: right;\n",
       "    }\n",
       "</style>\n",
       "<table border=\"1\" class=\"dataframe\">\n",
       "  <thead>\n",
       "    <tr style=\"text-align: right;\">\n",
       "      <th></th>\n",
       "      <th>full_symbol</th>\n",
       "      <th>open</th>\n",
       "      <th>high</th>\n",
       "      <th>low</th>\n",
       "      <th>close</th>\n",
       "      <th>volume</th>\n",
       "    </tr>\n",
       "    <tr>\n",
       "      <th>timestamp</th>\n",
       "      <th></th>\n",
       "      <th></th>\n",
       "      <th></th>\n",
       "      <th></th>\n",
       "      <th></th>\n",
       "      <th></th>\n",
       "    </tr>\n",
       "  </thead>\n",
       "  <tbody>\n",
       "    <tr>\n",
       "      <th>2022-02-09 00:01:00+00:00</th>\n",
       "      <td>kucoin::ADA_USDT</td>\n",
       "      <td>NaN</td>\n",
       "      <td>NaN</td>\n",
       "      <td>NaN</td>\n",
       "      <td>NaN</td>\n",
       "      <td>NaN</td>\n",
       "    </tr>\n",
       "    <tr>\n",
       "      <th>2022-02-09 00:02:00+00:00</th>\n",
       "      <td>kucoin::ADA_USDT</td>\n",
       "      <td>NaN</td>\n",
       "      <td>NaN</td>\n",
       "      <td>NaN</td>\n",
       "      <td>NaN</td>\n",
       "      <td>NaN</td>\n",
       "    </tr>\n",
       "    <tr>\n",
       "      <th>2022-02-09 00:03:00+00:00</th>\n",
       "      <td>kucoin::ADA_USDT</td>\n",
       "      <td>NaN</td>\n",
       "      <td>NaN</td>\n",
       "      <td>NaN</td>\n",
       "      <td>NaN</td>\n",
       "      <td>NaN</td>\n",
       "    </tr>\n",
       "    <tr>\n",
       "      <th>2022-02-09 00:04:00+00:00</th>\n",
       "      <td>kucoin::ADA_USDT</td>\n",
       "      <td>NaN</td>\n",
       "      <td>NaN</td>\n",
       "      <td>NaN</td>\n",
       "      <td>NaN</td>\n",
       "      <td>NaN</td>\n",
       "    </tr>\n",
       "    <tr>\n",
       "      <th>2022-02-09 00:05:00+00:00</th>\n",
       "      <td>kucoin::ADA_USDT</td>\n",
       "      <td>NaN</td>\n",
       "      <td>NaN</td>\n",
       "      <td>NaN</td>\n",
       "      <td>NaN</td>\n",
       "      <td>NaN</td>\n",
       "    </tr>\n",
       "    <tr>\n",
       "      <th>...</th>\n",
       "      <td>...</td>\n",
       "      <td>...</td>\n",
       "      <td>...</td>\n",
       "      <td>...</td>\n",
       "      <td>...</td>\n",
       "      <td>...</td>\n",
       "    </tr>\n",
       "    <tr>\n",
       "      <th>2022-02-09 13:28:00+00:00</th>\n",
       "      <td>kucoin::ADA_USDT</td>\n",
       "      <td>NaN</td>\n",
       "      <td>NaN</td>\n",
       "      <td>NaN</td>\n",
       "      <td>NaN</td>\n",
       "      <td>NaN</td>\n",
       "    </tr>\n",
       "    <tr>\n",
       "      <th>2022-02-09 13:29:00+00:00</th>\n",
       "      <td>kucoin::ADA_USDT</td>\n",
       "      <td>NaN</td>\n",
       "      <td>NaN</td>\n",
       "      <td>NaN</td>\n",
       "      <td>NaN</td>\n",
       "      <td>NaN</td>\n",
       "    </tr>\n",
       "    <tr>\n",
       "      <th>2022-02-09 13:30:00+00:00</th>\n",
       "      <td>kucoin::ADA_USDT</td>\n",
       "      <td>NaN</td>\n",
       "      <td>NaN</td>\n",
       "      <td>NaN</td>\n",
       "      <td>NaN</td>\n",
       "      <td>NaN</td>\n",
       "    </tr>\n",
       "    <tr>\n",
       "      <th>2022-02-09 13:31:00+00:00</th>\n",
       "      <td>kucoin::ADA_USDT</td>\n",
       "      <td>NaN</td>\n",
       "      <td>NaN</td>\n",
       "      <td>NaN</td>\n",
       "      <td>NaN</td>\n",
       "      <td>NaN</td>\n",
       "    </tr>\n",
       "    <tr>\n",
       "      <th>2022-02-09 13:32:00+00:00</th>\n",
       "      <td>kucoin::ADA_USDT</td>\n",
       "      <td>NaN</td>\n",
       "      <td>NaN</td>\n",
       "      <td>NaN</td>\n",
       "      <td>NaN</td>\n",
       "      <td>NaN</td>\n",
       "    </tr>\n",
       "  </tbody>\n",
       "</table>\n",
       "<p>812 rows × 6 columns</p>\n",
       "</div>"
      ],
      "text/plain": [
       "                                full_symbol  open  high  low  close  volume\n",
       "timestamp                                                                  \n",
       "2022-02-09 00:01:00+00:00  kucoin::ADA_USDT   NaN   NaN  NaN    NaN     NaN\n",
       "2022-02-09 00:02:00+00:00  kucoin::ADA_USDT   NaN   NaN  NaN    NaN     NaN\n",
       "2022-02-09 00:03:00+00:00  kucoin::ADA_USDT   NaN   NaN  NaN    NaN     NaN\n",
       "2022-02-09 00:04:00+00:00  kucoin::ADA_USDT   NaN   NaN  NaN    NaN     NaN\n",
       "2022-02-09 00:05:00+00:00  kucoin::ADA_USDT   NaN   NaN  NaN    NaN     NaN\n",
       "...                                     ...   ...   ...  ...    ...     ...\n",
       "2022-02-09 13:28:00+00:00  kucoin::ADA_USDT   NaN   NaN  NaN    NaN     NaN\n",
       "2022-02-09 13:29:00+00:00  kucoin::ADA_USDT   NaN   NaN  NaN    NaN     NaN\n",
       "2022-02-09 13:30:00+00:00  kucoin::ADA_USDT   NaN   NaN  NaN    NaN     NaN\n",
       "2022-02-09 13:31:00+00:00  kucoin::ADA_USDT   NaN   NaN  NaN    NaN     NaN\n",
       "2022-02-09 13:32:00+00:00  kucoin::ADA_USDT   NaN   NaN  NaN    NaN     NaN\n",
       "\n",
       "[812 rows x 6 columns]"
      ]
     },
     "metadata": {},
     "output_type": "display_data"
    },
    {
     "name": "stdout",
     "output_type": "stream",
     "text": [
      "Complete data in chassis:\n"
     ]
    },
    {
     "data": {
      "text/html": [
       "<div>\n",
       "<style scoped>\n",
       "    .dataframe tbody tr th:only-of-type {\n",
       "        vertical-align: middle;\n",
       "    }\n",
       "\n",
       "    .dataframe tbody tr th {\n",
       "        vertical-align: top;\n",
       "    }\n",
       "\n",
       "    .dataframe thead th {\n",
       "        text-align: right;\n",
       "    }\n",
       "</style>\n",
       "<table border=\"1\" class=\"dataframe\">\n",
       "  <thead>\n",
       "    <tr style=\"text-align: right;\">\n",
       "      <th></th>\n",
       "      <th>open</th>\n",
       "      <th>high</th>\n",
       "      <th>low</th>\n",
       "      <th>close</th>\n",
       "      <th>volume</th>\n",
       "      <th>vwap</th>\n",
       "      <th>number_of_trades</th>\n",
       "      <th>twap</th>\n",
       "    </tr>\n",
       "    <tr>\n",
       "      <th>time_seconds</th>\n",
       "      <th></th>\n",
       "      <th></th>\n",
       "      <th></th>\n",
       "      <th></th>\n",
       "      <th></th>\n",
       "      <th></th>\n",
       "      <th></th>\n",
       "      <th></th>\n",
       "    </tr>\n",
       "  </thead>\n",
       "  <tbody>\n",
       "    <tr>\n",
       "      <th>2022-02-09 00:01:00+00:00</th>\n",
       "      <td>1.177307</td>\n",
       "      <td>1.178705</td>\n",
       "      <td>1.175063</td>\n",
       "      <td>1.175063</td>\n",
       "      <td>12003.969501</td>\n",
       "      <td>1.177681</td>\n",
       "      <td>45</td>\n",
       "      <td>1.177442</td>\n",
       "    </tr>\n",
       "    <tr>\n",
       "      <th>2022-02-09 00:02:00+00:00</th>\n",
       "      <td>1.175181</td>\n",
       "      <td>1.175520</td>\n",
       "      <td>1.173825</td>\n",
       "      <td>1.175520</td>\n",
       "      <td>16526.710800</td>\n",
       "      <td>1.174580</td>\n",
       "      <td>55</td>\n",
       "      <td>1.174329</td>\n",
       "    </tr>\n",
       "    <tr>\n",
       "      <th>2022-02-09 00:03:00+00:00</th>\n",
       "      <td>1.174718</td>\n",
       "      <td>1.177135</td>\n",
       "      <td>1.174703</td>\n",
       "      <td>1.177135</td>\n",
       "      <td>4007.403653</td>\n",
       "      <td>1.175370</td>\n",
       "      <td>22</td>\n",
       "      <td>1.175291</td>\n",
       "    </tr>\n",
       "    <tr>\n",
       "      <th>2022-02-09 00:04:00+00:00</th>\n",
       "      <td>1.177380</td>\n",
       "      <td>1.177483</td>\n",
       "      <td>1.175778</td>\n",
       "      <td>1.176398</td>\n",
       "      <td>4263.086400</td>\n",
       "      <td>1.176756</td>\n",
       "      <td>21</td>\n",
       "      <td>1.176613</td>\n",
       "    </tr>\n",
       "    <tr>\n",
       "      <th>2022-02-09 00:05:00+00:00</th>\n",
       "      <td>1.176735</td>\n",
       "      <td>1.177533</td>\n",
       "      <td>1.175585</td>\n",
       "      <td>1.177533</td>\n",
       "      <td>838.080800</td>\n",
       "      <td>1.176068</td>\n",
       "      <td>15</td>\n",
       "      <td>1.176564</td>\n",
       "    </tr>\n",
       "    <tr>\n",
       "      <th>...</th>\n",
       "      <td>...</td>\n",
       "      <td>...</td>\n",
       "      <td>...</td>\n",
       "      <td>...</td>\n",
       "      <td>...</td>\n",
       "      <td>...</td>\n",
       "      <td>...</td>\n",
       "      <td>...</td>\n",
       "    </tr>\n",
       "    <tr>\n",
       "      <th>2022-02-09 13:28:00+00:00</th>\n",
       "      <td>1.207000</td>\n",
       "      <td>1.207000</td>\n",
       "      <td>1.206050</td>\n",
       "      <td>1.206050</td>\n",
       "      <td>1123.966604</td>\n",
       "      <td>1.206816</td>\n",
       "      <td>14</td>\n",
       "      <td>1.206619</td>\n",
       "    </tr>\n",
       "    <tr>\n",
       "      <th>2022-02-09 13:29:00+00:00</th>\n",
       "      <td>1.206414</td>\n",
       "      <td>1.207197</td>\n",
       "      <td>1.206224</td>\n",
       "      <td>1.206224</td>\n",
       "      <td>8912.159703</td>\n",
       "      <td>1.206663</td>\n",
       "      <td>30</td>\n",
       "      <td>1.206653</td>\n",
       "    </tr>\n",
       "    <tr>\n",
       "      <th>2022-02-09 13:30:00+00:00</th>\n",
       "      <td>1.206035</td>\n",
       "      <td>1.207835</td>\n",
       "      <td>1.205837</td>\n",
       "      <td>1.206707</td>\n",
       "      <td>14121.676417</td>\n",
       "      <td>1.206440</td>\n",
       "      <td>52</td>\n",
       "      <td>1.206477</td>\n",
       "    </tr>\n",
       "    <tr>\n",
       "      <th>2022-02-09 13:31:00+00:00</th>\n",
       "      <td>1.206776</td>\n",
       "      <td>1.207427</td>\n",
       "      <td>1.206384</td>\n",
       "      <td>1.207145</td>\n",
       "      <td>9306.299375</td>\n",
       "      <td>1.206678</td>\n",
       "      <td>30</td>\n",
       "      <td>1.206823</td>\n",
       "    </tr>\n",
       "    <tr>\n",
       "      <th>2022-02-09 13:32:00+00:00</th>\n",
       "      <td>1.207147</td>\n",
       "      <td>1.207147</td>\n",
       "      <td>1.205852</td>\n",
       "      <td>1.206417</td>\n",
       "      <td>6269.742415</td>\n",
       "      <td>1.206522</td>\n",
       "      <td>30</td>\n",
       "      <td>1.206410</td>\n",
       "    </tr>\n",
       "  </tbody>\n",
       "</table>\n",
       "<p>812 rows × 8 columns</p>\n",
       "</div>"
      ],
      "text/plain": [
       "                               open      high       low     close        volume      vwap  number_of_trades      twap\n",
       "time_seconds                                                                                                         \n",
       "2022-02-09 00:01:00+00:00  1.177307  1.178705  1.175063  1.175063  12003.969501  1.177681                45  1.177442\n",
       "2022-02-09 00:02:00+00:00  1.175181  1.175520  1.173825  1.175520  16526.710800  1.174580                55  1.174329\n",
       "2022-02-09 00:03:00+00:00  1.174718  1.177135  1.174703  1.177135   4007.403653  1.175370                22  1.175291\n",
       "2022-02-09 00:04:00+00:00  1.177380  1.177483  1.175778  1.176398   4263.086400  1.176756                21  1.176613\n",
       "2022-02-09 00:05:00+00:00  1.176735  1.177533  1.175585  1.177533    838.080800  1.176068                15  1.176564\n",
       "...                             ...       ...       ...       ...           ...       ...               ...       ...\n",
       "2022-02-09 13:28:00+00:00  1.207000  1.207000  1.206050  1.206050   1123.966604  1.206816                14  1.206619\n",
       "2022-02-09 13:29:00+00:00  1.206414  1.207197  1.206224  1.206224   8912.159703  1.206663                30  1.206653\n",
       "2022-02-09 13:30:00+00:00  1.206035  1.207835  1.205837  1.206707  14121.676417  1.206440                52  1.206477\n",
       "2022-02-09 13:31:00+00:00  1.206776  1.207427  1.206384  1.207145   9306.299375  1.206678                30  1.206823\n",
       "2022-02-09 13:32:00+00:00  1.207147  1.207147  1.205852  1.206417   6269.742415  1.206522                30  1.206410\n",
       "\n",
       "[812 rows x 8 columns]"
      ]
     },
     "metadata": {},
     "output_type": "display_data"
    }
   ],
   "source": [
    "print(\"Period of NaNs in CCXT:\")\n",
    "display(ccxt_ada_nans)\n",
    "print(\"Complete data in chassis:\")\n",
    "display(chassis_ada)"
   ]
  },
  {
   "cell_type": "code",
   "execution_count": 8,
   "id": "6957ee4a",
   "metadata": {
    "ExecuteTime": {
     "end_time": "2022-05-02T14:19:52.062931Z",
     "start_time": "2022-05-02T14:19:52.052558Z"
    }
   },
   "outputs": [
    {
     "name": "stdout",
     "output_type": "stream",
     "text": [
      "Percentage of NaNs in CCXT data for the period: 100.0\n",
      "Percentage of NaNs in crypto-chassis data for the period: 0.0\n"
     ]
    }
   ],
   "source": [
    "print(\n",
    "    f\"Percentage of NaNs in CCXT data for the period: {len(ccxt_ada_nans[ccxt_ada_nans.open.isna()])*100/len(ccxt_ada_nans)}\"\n",
    ")\n",
    "print(\n",
    "    f\"Percentage of NaNs in crypto-chassis data for the period: {len(chassis_ada[chassis_ada.open.isna()])*100/len(chassis_ada)}\"\n",
    ")"
   ]
  },
  {
   "cell_type": "markdown",
   "id": "7c11f8f5",
   "metadata": {},
   "source": [
    "### `full_symbol` = kucoin::BTC_USDT"
   ]
  },
  {
   "cell_type": "markdown",
   "id": "ce1f12c4",
   "metadata": {},
   "source": [
    "This full symbol has the highest coverage according to https://github.com/cryptokaizen/cmamp/issues/1750#issuecomment-1106866542"
   ]
  },
  {
   "cell_type": "markdown",
   "id": "eaae7100",
   "metadata": {},
   "source": [
    "#### Load the data"
   ]
  },
  {
   "cell_type": "code",
   "execution_count": 9,
   "id": "1afb818b",
   "metadata": {
    "ExecuteTime": {
     "end_time": "2022-05-02T14:20:53.672807Z",
     "start_time": "2022-05-02T14:19:52.064782Z"
    }
   },
   "outputs": [],
   "source": [
    "# Load historical data from CCXT.\n",
    "full_symbols = [\"kucoin::BTC_USDT\"]\n",
    "start_date = None\n",
    "end_date = None\n",
    "btc_kucoin_ccxt = historical_client.read_data(full_symbols, start_date, end_date)\n",
    "# Load historical data from crypto-chassis.\n",
    "btc_kucoin_ch = load_crypto_chassis_ohlcv(\"kucoin\", \"btc-usdt\")"
   ]
  },
  {
   "cell_type": "markdown",
   "id": "2a5f71b1",
   "metadata": {},
   "source": [
    "#### Take a specific period of time - a year 2021"
   ]
  },
  {
   "cell_type": "code",
   "execution_count": 10,
   "id": "b64b32fa",
   "metadata": {
    "ExecuteTime": {
     "end_time": "2022-05-02T14:20:53.718721Z",
     "start_time": "2022-05-02T14:20:53.677321Z"
    }
   },
   "outputs": [],
   "source": [
    "ccxt_btc = btc_kucoin_ccxt.loc[\n",
    "    (btc_kucoin_ccxt.index > \"2021-08-07\")\n",
    "    & (btc_kucoin_ccxt.index < \"2021-12-31\")\n",
    "]\n",
    "chassis_btc = btc_kucoin_ch.loc[\n",
    "    (btc_kucoin_ch.index > \"2021-08-07\") & (btc_kucoin_ch.index < \"2021-12-31\")\n",
    "]"
   ]
  },
  {
   "cell_type": "code",
   "execution_count": 11,
   "id": "4ff554eb",
   "metadata": {
    "ExecuteTime": {
     "end_time": "2022-05-02T14:20:53.971215Z",
     "start_time": "2022-05-02T14:20:53.721111Z"
    }
   },
   "outputs": [
    {
     "name": "stderr",
     "output_type": "stream",
     "text": [
      "/tmp/ipykernel_795/3470892466.py:5: SettingWithCopyWarning: \n",
      "A value is trying to be set on a copy of a slice from a DataFrame.\n",
      "Try using .loc[row_indexer,col_indexer] = value instead\n",
      "\n",
      "See the caveats in the documentation: https://pandas.pydata.org/pandas-docs/stable/user_guide/indexing.html#returning-a-view-versus-a-copy\n",
      "  chassis_btc[\"timestamp_diff\"] = chassis_btc.index.to_series().diff()\n"
     ]
    }
   ],
   "source": [
    "# From crypto-chassis docs:\n",
    "# If there is a gap in \"time_seconds\", it means that\n",
    "# the market depth snapshot at that moment is the same as the previous moment.\n",
    "# It means that NaNs there are 'gaps' between timestamps.\n",
    "chassis_btc[\"timestamp_diff\"] = chassis_btc.index.to_series().diff()\n",
    "# Exclude 1min gaps (means no NaNs) and calculate the num of mins in gaps (equals to num of NaNs).\n",
    "chassis_btc[chassis_btc[\"timestamp_diff\"] != \"0 days 00:01:00\"]\n",
    "# Calculate the total rows with NaNs.\n",
    "num_of_nans_chassis = chassis_btc[\"timestamp_diff\"].sum() / timedelta(minutes=1)"
   ]
  },
  {
   "cell_type": "code",
   "execution_count": 12,
   "id": "70e0a34e",
   "metadata": {
    "ExecuteTime": {
     "end_time": "2022-05-02T14:20:53.987142Z",
     "start_time": "2022-05-02T14:20:53.976221Z"
    }
   },
   "outputs": [
    {
     "name": "stdout",
     "output_type": "stream",
     "text": [
      "NaNs percentage in CCXT for `kucoin::BTC_USDT` for 2021: 71.24938760172947\n",
      "NaNs percentage in crypto-chassis for `kucoin::BTC_USDT` for 2021: 50.43759056493326\n"
     ]
    }
   ],
   "source": [
    "print(\n",
    "    f\"NaNs percentage in CCXT for `kucoin::BTC_USDT` for 2021: {100*len(ccxt_btc[ccxt_btc.open.isna()])/len(ccxt_btc)}\"\n",
    ")\n",
    "print(\n",
    "    f\"NaNs percentage in crypto-chassis for `kucoin::BTC_USDT` for 2021: {100*num_of_nans_chassis/(len(chassis_btc)+num_of_nans_chassis)}\"\n",
    ")"
   ]
  },
  {
   "cell_type": "markdown",
   "id": "c96c9f15",
   "metadata": {},
   "source": [
    "#### Take a specific period of time - [2022-01-15 12:00, 2022-01-15 21:00]"
   ]
  },
  {
   "cell_type": "code",
   "execution_count": 13,
   "id": "b56b33b6",
   "metadata": {
    "ExecuteTime": {
     "end_time": "2022-05-02T14:20:54.013458Z",
     "start_time": "2022-05-02T14:20:53.989125Z"
    }
   },
   "outputs": [
    {
     "name": "stdout",
     "output_type": "stream",
     "text": [
      "Both datasets have the same length: True\n"
     ]
    }
   ],
   "source": [
    "ccxt_btc2022 = btc_kucoin_ccxt.loc[\n",
    "    (btc_kucoin_ccxt.index > \"2022-01-15 12:00:00\")\n",
    "    & (btc_kucoin_ccxt.index < \"2022-01-15 21:00:00\")\n",
    "]\n",
    "chassis_btc2022 = btc_kucoin_ch.loc[\n",
    "    (btc_kucoin_ch.index > \"2022-01-15 12:00:00\")\n",
    "    & (btc_kucoin_ch.index < \"2022-01-15 21:00:00\")\n",
    "]\n",
    "print(\n",
    "    f\"Both datasets have the same length: {len(ccxt_btc2022)==len(chassis_btc2022)}\"\n",
    ")"
   ]
  },
  {
   "cell_type": "code",
   "execution_count": 14,
   "id": "37454a9e",
   "metadata": {
    "ExecuteTime": {
     "end_time": "2022-05-02T14:20:54.051254Z",
     "start_time": "2022-05-02T14:20:54.016334Z"
    }
   },
   "outputs": [
    {
     "name": "stdout",
     "output_type": "stream",
     "text": [
      "Period of NaNs in CCXT:\n"
     ]
    },
    {
     "data": {
      "text/html": [
       "<div>\n",
       "<style scoped>\n",
       "    .dataframe tbody tr th:only-of-type {\n",
       "        vertical-align: middle;\n",
       "    }\n",
       "\n",
       "    .dataframe tbody tr th {\n",
       "        vertical-align: top;\n",
       "    }\n",
       "\n",
       "    .dataframe thead th {\n",
       "        text-align: right;\n",
       "    }\n",
       "</style>\n",
       "<table border=\"1\" class=\"dataframe\">\n",
       "  <thead>\n",
       "    <tr style=\"text-align: right;\">\n",
       "      <th></th>\n",
       "      <th>full_symbol</th>\n",
       "      <th>open</th>\n",
       "      <th>high</th>\n",
       "      <th>low</th>\n",
       "      <th>close</th>\n",
       "      <th>volume</th>\n",
       "    </tr>\n",
       "    <tr>\n",
       "      <th>timestamp</th>\n",
       "      <th></th>\n",
       "      <th></th>\n",
       "      <th></th>\n",
       "      <th></th>\n",
       "      <th></th>\n",
       "      <th></th>\n",
       "    </tr>\n",
       "  </thead>\n",
       "  <tbody>\n",
       "    <tr>\n",
       "      <th>2022-01-15 12:01:00+00:00</th>\n",
       "      <td>kucoin::BTC_USDT</td>\n",
       "      <td>NaN</td>\n",
       "      <td>NaN</td>\n",
       "      <td>NaN</td>\n",
       "      <td>NaN</td>\n",
       "      <td>NaN</td>\n",
       "    </tr>\n",
       "    <tr>\n",
       "      <th>2022-01-15 12:02:00+00:00</th>\n",
       "      <td>kucoin::BTC_USDT</td>\n",
       "      <td>NaN</td>\n",
       "      <td>NaN</td>\n",
       "      <td>NaN</td>\n",
       "      <td>NaN</td>\n",
       "      <td>NaN</td>\n",
       "    </tr>\n",
       "    <tr>\n",
       "      <th>2022-01-15 12:03:00+00:00</th>\n",
       "      <td>kucoin::BTC_USDT</td>\n",
       "      <td>NaN</td>\n",
       "      <td>NaN</td>\n",
       "      <td>NaN</td>\n",
       "      <td>NaN</td>\n",
       "      <td>NaN</td>\n",
       "    </tr>\n",
       "    <tr>\n",
       "      <th>2022-01-15 12:04:00+00:00</th>\n",
       "      <td>kucoin::BTC_USDT</td>\n",
       "      <td>NaN</td>\n",
       "      <td>NaN</td>\n",
       "      <td>NaN</td>\n",
       "      <td>NaN</td>\n",
       "      <td>NaN</td>\n",
       "    </tr>\n",
       "    <tr>\n",
       "      <th>2022-01-15 12:05:00+00:00</th>\n",
       "      <td>kucoin::BTC_USDT</td>\n",
       "      <td>NaN</td>\n",
       "      <td>NaN</td>\n",
       "      <td>NaN</td>\n",
       "      <td>NaN</td>\n",
       "      <td>NaN</td>\n",
       "    </tr>\n",
       "    <tr>\n",
       "      <th>...</th>\n",
       "      <td>...</td>\n",
       "      <td>...</td>\n",
       "      <td>...</td>\n",
       "      <td>...</td>\n",
       "      <td>...</td>\n",
       "      <td>...</td>\n",
       "    </tr>\n",
       "    <tr>\n",
       "      <th>2022-01-15 20:55:00+00:00</th>\n",
       "      <td>kucoin::BTC_USDT</td>\n",
       "      <td>NaN</td>\n",
       "      <td>NaN</td>\n",
       "      <td>NaN</td>\n",
       "      <td>NaN</td>\n",
       "      <td>NaN</td>\n",
       "    </tr>\n",
       "    <tr>\n",
       "      <th>2022-01-15 20:56:00+00:00</th>\n",
       "      <td>kucoin::BTC_USDT</td>\n",
       "      <td>NaN</td>\n",
       "      <td>NaN</td>\n",
       "      <td>NaN</td>\n",
       "      <td>NaN</td>\n",
       "      <td>NaN</td>\n",
       "    </tr>\n",
       "    <tr>\n",
       "      <th>2022-01-15 20:57:00+00:00</th>\n",
       "      <td>kucoin::BTC_USDT</td>\n",
       "      <td>NaN</td>\n",
       "      <td>NaN</td>\n",
       "      <td>NaN</td>\n",
       "      <td>NaN</td>\n",
       "      <td>NaN</td>\n",
       "    </tr>\n",
       "    <tr>\n",
       "      <th>2022-01-15 20:58:00+00:00</th>\n",
       "      <td>kucoin::BTC_USDT</td>\n",
       "      <td>NaN</td>\n",
       "      <td>NaN</td>\n",
       "      <td>NaN</td>\n",
       "      <td>NaN</td>\n",
       "      <td>NaN</td>\n",
       "    </tr>\n",
       "    <tr>\n",
       "      <th>2022-01-15 20:59:00+00:00</th>\n",
       "      <td>kucoin::BTC_USDT</td>\n",
       "      <td>NaN</td>\n",
       "      <td>NaN</td>\n",
       "      <td>NaN</td>\n",
       "      <td>NaN</td>\n",
       "      <td>NaN</td>\n",
       "    </tr>\n",
       "  </tbody>\n",
       "</table>\n",
       "<p>539 rows × 6 columns</p>\n",
       "</div>"
      ],
      "text/plain": [
       "                                full_symbol  open  high  low  close  volume\n",
       "timestamp                                                                  \n",
       "2022-01-15 12:01:00+00:00  kucoin::BTC_USDT   NaN   NaN  NaN    NaN     NaN\n",
       "2022-01-15 12:02:00+00:00  kucoin::BTC_USDT   NaN   NaN  NaN    NaN     NaN\n",
       "2022-01-15 12:03:00+00:00  kucoin::BTC_USDT   NaN   NaN  NaN    NaN     NaN\n",
       "2022-01-15 12:04:00+00:00  kucoin::BTC_USDT   NaN   NaN  NaN    NaN     NaN\n",
       "2022-01-15 12:05:00+00:00  kucoin::BTC_USDT   NaN   NaN  NaN    NaN     NaN\n",
       "...                                     ...   ...   ...  ...    ...     ...\n",
       "2022-01-15 20:55:00+00:00  kucoin::BTC_USDT   NaN   NaN  NaN    NaN     NaN\n",
       "2022-01-15 20:56:00+00:00  kucoin::BTC_USDT   NaN   NaN  NaN    NaN     NaN\n",
       "2022-01-15 20:57:00+00:00  kucoin::BTC_USDT   NaN   NaN  NaN    NaN     NaN\n",
       "2022-01-15 20:58:00+00:00  kucoin::BTC_USDT   NaN   NaN  NaN    NaN     NaN\n",
       "2022-01-15 20:59:00+00:00  kucoin::BTC_USDT   NaN   NaN  NaN    NaN     NaN\n",
       "\n",
       "[539 rows x 6 columns]"
      ]
     },
     "metadata": {},
     "output_type": "display_data"
    },
    {
     "name": "stdout",
     "output_type": "stream",
     "text": [
      "Complete data in chassis:\n"
     ]
    },
    {
     "data": {
      "text/html": [
       "<div>\n",
       "<style scoped>\n",
       "    .dataframe tbody tr th:only-of-type {\n",
       "        vertical-align: middle;\n",
       "    }\n",
       "\n",
       "    .dataframe tbody tr th {\n",
       "        vertical-align: top;\n",
       "    }\n",
       "\n",
       "    .dataframe thead th {\n",
       "        text-align: right;\n",
       "    }\n",
       "</style>\n",
       "<table border=\"1\" class=\"dataframe\">\n",
       "  <thead>\n",
       "    <tr style=\"text-align: right;\">\n",
       "      <th></th>\n",
       "      <th>open</th>\n",
       "      <th>high</th>\n",
       "      <th>low</th>\n",
       "      <th>close</th>\n",
       "      <th>volume</th>\n",
       "      <th>vwap</th>\n",
       "      <th>number_of_trades</th>\n",
       "      <th>twap</th>\n",
       "    </tr>\n",
       "    <tr>\n",
       "      <th>time_seconds</th>\n",
       "      <th></th>\n",
       "      <th></th>\n",
       "      <th></th>\n",
       "      <th></th>\n",
       "      <th></th>\n",
       "      <th></th>\n",
       "      <th></th>\n",
       "      <th></th>\n",
       "    </tr>\n",
       "  </thead>\n",
       "  <tbody>\n",
       "    <tr>\n",
       "      <th>2022-01-15 12:01:00+00:00</th>\n",
       "      <td>43034.6</td>\n",
       "      <td>43051.1</td>\n",
       "      <td>43024.0</td>\n",
       "      <td>43024.0</td>\n",
       "      <td>2.398839</td>\n",
       "      <td>43039.149</td>\n",
       "      <td>148</td>\n",
       "      <td>43036.571</td>\n",
       "    </tr>\n",
       "    <tr>\n",
       "      <th>2022-01-15 12:02:00+00:00</th>\n",
       "      <td>43024.0</td>\n",
       "      <td>43036.4</td>\n",
       "      <td>43024.0</td>\n",
       "      <td>43024.1</td>\n",
       "      <td>1.806001</td>\n",
       "      <td>43026.580</td>\n",
       "      <td>139</td>\n",
       "      <td>43027.819</td>\n",
       "    </tr>\n",
       "    <tr>\n",
       "      <th>2022-01-15 12:03:00+00:00</th>\n",
       "      <td>43024.1</td>\n",
       "      <td>43024.1</td>\n",
       "      <td>42993.2</td>\n",
       "      <td>43001.3</td>\n",
       "      <td>1.868689</td>\n",
       "      <td>43006.890</td>\n",
       "      <td>118</td>\n",
       "      <td>43006.532</td>\n",
       "    </tr>\n",
       "    <tr>\n",
       "      <th>2022-01-15 12:04:00+00:00</th>\n",
       "      <td>43001.2</td>\n",
       "      <td>43001.2</td>\n",
       "      <td>42975.4</td>\n",
       "      <td>42975.4</td>\n",
       "      <td>2.727630</td>\n",
       "      <td>42985.147</td>\n",
       "      <td>198</td>\n",
       "      <td>42984.717</td>\n",
       "    </tr>\n",
       "    <tr>\n",
       "      <th>2022-01-15 12:05:00+00:00</th>\n",
       "      <td>42975.4</td>\n",
       "      <td>42993.3</td>\n",
       "      <td>42975.4</td>\n",
       "      <td>42978.5</td>\n",
       "      <td>4.419319</td>\n",
       "      <td>42984.413</td>\n",
       "      <td>273</td>\n",
       "      <td>42983.146</td>\n",
       "    </tr>\n",
       "    <tr>\n",
       "      <th>...</th>\n",
       "      <td>...</td>\n",
       "      <td>...</td>\n",
       "      <td>...</td>\n",
       "      <td>...</td>\n",
       "      <td>...</td>\n",
       "      <td>...</td>\n",
       "      <td>...</td>\n",
       "      <td>...</td>\n",
       "    </tr>\n",
       "    <tr>\n",
       "      <th>2022-01-15 20:55:00+00:00</th>\n",
       "      <td>43548.6</td>\n",
       "      <td>43554.9</td>\n",
       "      <td>43534.3</td>\n",
       "      <td>43534.3</td>\n",
       "      <td>2.742735</td>\n",
       "      <td>43548.523</td>\n",
       "      <td>290</td>\n",
       "      <td>43547.258</td>\n",
       "    </tr>\n",
       "    <tr>\n",
       "      <th>2022-01-15 20:56:00+00:00</th>\n",
       "      <td>43534.3</td>\n",
       "      <td>43556.8</td>\n",
       "      <td>43534.3</td>\n",
       "      <td>43548.6</td>\n",
       "      <td>1.459718</td>\n",
       "      <td>43536.923</td>\n",
       "      <td>230</td>\n",
       "      <td>43538.521</td>\n",
       "    </tr>\n",
       "    <tr>\n",
       "      <th>2022-01-15 20:57:00+00:00</th>\n",
       "      <td>43548.6</td>\n",
       "      <td>43548.7</td>\n",
       "      <td>43534.7</td>\n",
       "      <td>43544.9</td>\n",
       "      <td>1.172161</td>\n",
       "      <td>43539.147</td>\n",
       "      <td>209</td>\n",
       "      <td>43542.826</td>\n",
       "    </tr>\n",
       "    <tr>\n",
       "      <th>2022-01-15 20:58:00+00:00</th>\n",
       "      <td>43544.9</td>\n",
       "      <td>43544.9</td>\n",
       "      <td>43491.2</td>\n",
       "      <td>43494.5</td>\n",
       "      <td>6.009402</td>\n",
       "      <td>43519.019</td>\n",
       "      <td>592</td>\n",
       "      <td>43519.916</td>\n",
       "    </tr>\n",
       "    <tr>\n",
       "      <th>2022-01-15 20:59:00+00:00</th>\n",
       "      <td>43494.5</td>\n",
       "      <td>43506.0</td>\n",
       "      <td>43480.9</td>\n",
       "      <td>43497.0</td>\n",
       "      <td>4.643274</td>\n",
       "      <td>43497.890</td>\n",
       "      <td>420</td>\n",
       "      <td>43497.075</td>\n",
       "    </tr>\n",
       "  </tbody>\n",
       "</table>\n",
       "<p>539 rows × 8 columns</p>\n",
       "</div>"
      ],
      "text/plain": [
       "                              open     high      low    close    volume       vwap  number_of_trades       twap\n",
       "time_seconds                                                                                                   \n",
       "2022-01-15 12:01:00+00:00  43034.6  43051.1  43024.0  43024.0  2.398839  43039.149               148  43036.571\n",
       "2022-01-15 12:02:00+00:00  43024.0  43036.4  43024.0  43024.1  1.806001  43026.580               139  43027.819\n",
       "2022-01-15 12:03:00+00:00  43024.1  43024.1  42993.2  43001.3  1.868689  43006.890               118  43006.532\n",
       "2022-01-15 12:04:00+00:00  43001.2  43001.2  42975.4  42975.4  2.727630  42985.147               198  42984.717\n",
       "2022-01-15 12:05:00+00:00  42975.4  42993.3  42975.4  42978.5  4.419319  42984.413               273  42983.146\n",
       "...                            ...      ...      ...      ...       ...        ...               ...        ...\n",
       "2022-01-15 20:55:00+00:00  43548.6  43554.9  43534.3  43534.3  2.742735  43548.523               290  43547.258\n",
       "2022-01-15 20:56:00+00:00  43534.3  43556.8  43534.3  43548.6  1.459718  43536.923               230  43538.521\n",
       "2022-01-15 20:57:00+00:00  43548.6  43548.7  43534.7  43544.9  1.172161  43539.147               209  43542.826\n",
       "2022-01-15 20:58:00+00:00  43544.9  43544.9  43491.2  43494.5  6.009402  43519.019               592  43519.916\n",
       "2022-01-15 20:59:00+00:00  43494.5  43506.0  43480.9  43497.0  4.643274  43497.890               420  43497.075\n",
       "\n",
       "[539 rows x 8 columns]"
      ]
     },
     "metadata": {},
     "output_type": "display_data"
    }
   ],
   "source": [
    "print(\"Period of NaNs in CCXT:\")\n",
    "display(ccxt_btc2022)\n",
    "print(\"Complete data in chassis:\")\n",
    "display(chassis_btc2022)"
   ]
  },
  {
   "cell_type": "markdown",
   "id": "4a8cfbac",
   "metadata": {},
   "source": [
    "### Summary"
   ]
  },
  {
   "cell_type": "markdown",
   "id": "cf293bd8",
   "metadata": {},
   "source": [
    "From what we can see in comparison with other data vendors, __the problem of data coverage has little to do with the initial data provider__ (i.e., `kucoin`), since the NaN data in `CCXT` is available in other providers (`crypto-chassis`)"
   ]
  },
  {
   "cell_type": "markdown",
   "id": "36e627f4",
   "metadata": {},
   "source": [
    "## Look at S3"
   ]
  },
  {
   "cell_type": "code",
   "execution_count": 15,
   "id": "9dc12b55",
   "metadata": {
    "ExecuteTime": {
     "end_time": "2022-05-02T14:20:54.081300Z",
     "start_time": "2022-05-02T14:20:54.052664Z"
    }
   },
   "outputs": [
    {
     "data": {
      "text/html": [
       "<div>\n",
       "<style scoped>\n",
       "    .dataframe tbody tr th:only-of-type {\n",
       "        vertical-align: middle;\n",
       "    }\n",
       "\n",
       "    .dataframe tbody tr th {\n",
       "        vertical-align: top;\n",
       "    }\n",
       "\n",
       "    .dataframe thead th {\n",
       "        text-align: right;\n",
       "    }\n",
       "</style>\n",
       "<table border=\"1\" class=\"dataframe\">\n",
       "  <thead>\n",
       "    <tr style=\"text-align: right;\">\n",
       "      <th></th>\n",
       "      <th>full_symbol</th>\n",
       "      <th>open</th>\n",
       "      <th>high</th>\n",
       "      <th>low</th>\n",
       "      <th>close</th>\n",
       "      <th>volume</th>\n",
       "    </tr>\n",
       "    <tr>\n",
       "      <th>timestamp</th>\n",
       "      <th></th>\n",
       "      <th></th>\n",
       "      <th></th>\n",
       "      <th></th>\n",
       "      <th></th>\n",
       "      <th></th>\n",
       "    </tr>\n",
       "  </thead>\n",
       "  <tbody>\n",
       "    <tr>\n",
       "      <th>2022-02-01 00:01:00+00:00</th>\n",
       "      <td>kucoin::ADA_USDT</td>\n",
       "      <td>NaN</td>\n",
       "      <td>NaN</td>\n",
       "      <td>NaN</td>\n",
       "      <td>NaN</td>\n",
       "      <td>NaN</td>\n",
       "    </tr>\n",
       "    <tr>\n",
       "      <th>2022-02-01 00:02:00+00:00</th>\n",
       "      <td>kucoin::ADA_USDT</td>\n",
       "      <td>NaN</td>\n",
       "      <td>NaN</td>\n",
       "      <td>NaN</td>\n",
       "      <td>NaN</td>\n",
       "      <td>NaN</td>\n",
       "    </tr>\n",
       "    <tr>\n",
       "      <th>2022-02-01 00:03:00+00:00</th>\n",
       "      <td>kucoin::ADA_USDT</td>\n",
       "      <td>NaN</td>\n",
       "      <td>NaN</td>\n",
       "      <td>NaN</td>\n",
       "      <td>NaN</td>\n",
       "      <td>NaN</td>\n",
       "    </tr>\n",
       "    <tr>\n",
       "      <th>2022-02-01 00:04:00+00:00</th>\n",
       "      <td>kucoin::ADA_USDT</td>\n",
       "      <td>NaN</td>\n",
       "      <td>NaN</td>\n",
       "      <td>NaN</td>\n",
       "      <td>NaN</td>\n",
       "      <td>NaN</td>\n",
       "    </tr>\n",
       "    <tr>\n",
       "      <th>2022-02-01 00:05:00+00:00</th>\n",
       "      <td>kucoin::ADA_USDT</td>\n",
       "      <td>NaN</td>\n",
       "      <td>NaN</td>\n",
       "      <td>NaN</td>\n",
       "      <td>NaN</td>\n",
       "      <td>NaN</td>\n",
       "    </tr>\n",
       "    <tr>\n",
       "      <th>...</th>\n",
       "      <td>...</td>\n",
       "      <td>...</td>\n",
       "      <td>...</td>\n",
       "      <td>...</td>\n",
       "      <td>...</td>\n",
       "      <td>...</td>\n",
       "    </tr>\n",
       "    <tr>\n",
       "      <th>2022-02-09 13:28:00+00:00</th>\n",
       "      <td>kucoin::ADA_USDT</td>\n",
       "      <td>NaN</td>\n",
       "      <td>NaN</td>\n",
       "      <td>NaN</td>\n",
       "      <td>NaN</td>\n",
       "      <td>NaN</td>\n",
       "    </tr>\n",
       "    <tr>\n",
       "      <th>2022-02-09 13:29:00+00:00</th>\n",
       "      <td>kucoin::ADA_USDT</td>\n",
       "      <td>NaN</td>\n",
       "      <td>NaN</td>\n",
       "      <td>NaN</td>\n",
       "      <td>NaN</td>\n",
       "      <td>NaN</td>\n",
       "    </tr>\n",
       "    <tr>\n",
       "      <th>2022-02-09 13:30:00+00:00</th>\n",
       "      <td>kucoin::ADA_USDT</td>\n",
       "      <td>NaN</td>\n",
       "      <td>NaN</td>\n",
       "      <td>NaN</td>\n",
       "      <td>NaN</td>\n",
       "      <td>NaN</td>\n",
       "    </tr>\n",
       "    <tr>\n",
       "      <th>2022-02-09 13:31:00+00:00</th>\n",
       "      <td>kucoin::ADA_USDT</td>\n",
       "      <td>NaN</td>\n",
       "      <td>NaN</td>\n",
       "      <td>NaN</td>\n",
       "      <td>NaN</td>\n",
       "      <td>NaN</td>\n",
       "    </tr>\n",
       "    <tr>\n",
       "      <th>2022-02-09 13:32:00+00:00</th>\n",
       "      <td>kucoin::ADA_USDT</td>\n",
       "      <td>NaN</td>\n",
       "      <td>NaN</td>\n",
       "      <td>NaN</td>\n",
       "      <td>NaN</td>\n",
       "      <td>NaN</td>\n",
       "    </tr>\n",
       "  </tbody>\n",
       "</table>\n",
       "<p>12332 rows × 6 columns</p>\n",
       "</div>"
      ],
      "text/plain": [
       "                                full_symbol  open  high  low  close  volume\n",
       "timestamp                                                                  \n",
       "2022-02-01 00:01:00+00:00  kucoin::ADA_USDT   NaN   NaN  NaN    NaN     NaN\n",
       "2022-02-01 00:02:00+00:00  kucoin::ADA_USDT   NaN   NaN  NaN    NaN     NaN\n",
       "2022-02-01 00:03:00+00:00  kucoin::ADA_USDT   NaN   NaN  NaN    NaN     NaN\n",
       "2022-02-01 00:04:00+00:00  kucoin::ADA_USDT   NaN   NaN  NaN    NaN     NaN\n",
       "2022-02-01 00:05:00+00:00  kucoin::ADA_USDT   NaN   NaN  NaN    NaN     NaN\n",
       "...                                     ...   ...   ...  ...    ...     ...\n",
       "2022-02-09 13:28:00+00:00  kucoin::ADA_USDT   NaN   NaN  NaN    NaN     NaN\n",
       "2022-02-09 13:29:00+00:00  kucoin::ADA_USDT   NaN   NaN  NaN    NaN     NaN\n",
       "2022-02-09 13:30:00+00:00  kucoin::ADA_USDT   NaN   NaN  NaN    NaN     NaN\n",
       "2022-02-09 13:31:00+00:00  kucoin::ADA_USDT   NaN   NaN  NaN    NaN     NaN\n",
       "2022-02-09 13:32:00+00:00  kucoin::ADA_USDT   NaN   NaN  NaN    NaN     NaN\n",
       "\n",
       "[12332 rows x 6 columns]"
      ]
     },
     "execution_count": 15,
     "metadata": {},
     "output_type": "execute_result"
    }
   ],
   "source": [
    "# Take the previously spotted NaN sequence.\n",
    "ccxt_ada_nans = ada_kucoin_ccxt.loc[\n",
    "    (ada_kucoin_ccxt.index > \"2022-02-01 00:00:00+00:00\")\n",
    "    & (ada_kucoin_ccxt.index < \"2022-02-09 13:33:00+00:00\")\n",
    "]\n",
    "ccxt_ada_nans"
   ]
  },
  {
   "cell_type": "code",
   "execution_count": 16,
   "id": "4b474b92",
   "metadata": {
    "ExecuteTime": {
     "end_time": "2022-05-02T14:20:54.089301Z",
     "start_time": "2022-05-02T14:20:54.083454Z"
    }
   },
   "outputs": [
    {
     "name": "stdout",
     "output_type": "stream",
     "text": [
      "Percentage of NaN data: 100.0\n"
     ]
    }
   ],
   "source": [
    "print(\n",
    "    f\"Percentage of NaN data: {100*len(ccxt_ada_nans[ccxt_ada_nans.open.isna()])/len(ccxt_ada_nans)}\"\n",
    ")"
   ]
  },
  {
   "attachments": {
    "%D0%A1%D0%BD%D0%B8%D0%BC%D0%BE%D0%BA%20%D1%8D%D0%BA%D1%80%D0%B0%D0%BD%D0%B0%202022-04-26%20%D0%B2%2019.14.16.png": {
     "image/png": "[encoded data removed]"
    }
   },
   "cell_type": "markdown",
   "id": "f392f48c",
   "metadata": {},
   "source": [
    "S3 has the only file in the February for `kucoin::ADA_USDT`:\n",
    "\n",
    "![%D0%A1%D0%BD%D0%B8%D0%BC%D0%BE%D0%BA%20%D1%8D%D0%BA%D1%80%D0%B0%D0%BD%D0%B0%202022-04-26%20%D0%B2%2019.14.16.png](attachment:%D0%A1%D0%BD%D0%B8%D0%BC%D0%BE%D0%BA%20%D1%8D%D0%BA%D1%80%D0%B0%D0%BD%D0%B0%202022-04-26%20%D0%B2%2019.14.16.png)"
   ]
  },
  {
   "cell_type": "code",
   "execution_count": 17,
   "id": "8d311bdf",
   "metadata": {
    "ExecuteTime": {
     "end_time": "2022-05-02T14:20:55.414794Z",
     "start_time": "2022-05-02T14:20:54.091479Z"
    }
   },
   "outputs": [
    {
     "data": {
      "text/html": [
       "<div>\n",
       "<style scoped>\n",
       "    .dataframe tbody tr th:only-of-type {\n",
       "        vertical-align: middle;\n",
       "    }\n",
       "\n",
       "    .dataframe tbody tr th {\n",
       "        vertical-align: top;\n",
       "    }\n",
       "\n",
       "    .dataframe thead th {\n",
       "        text-align: right;\n",
       "    }\n",
       "</style>\n",
       "<table border=\"1\" class=\"dataframe\">\n",
       "  <thead>\n",
       "    <tr style=\"text-align: right;\">\n",
       "      <th></th>\n",
       "      <th>timestamp</th>\n",
       "      <th>open</th>\n",
       "      <th>high</th>\n",
       "      <th>low</th>\n",
       "      <th>close</th>\n",
       "      <th>volume</th>\n",
       "    </tr>\n",
       "    <tr>\n",
       "      <th>timestamp</th>\n",
       "      <th></th>\n",
       "      <th></th>\n",
       "      <th></th>\n",
       "      <th></th>\n",
       "      <th></th>\n",
       "      <th></th>\n",
       "    </tr>\n",
       "  </thead>\n",
       "  <tbody>\n",
       "    <tr>\n",
       "      <th>2022-02-09 13:33:00+00:00</th>\n",
       "      <td>1644413580000</td>\n",
       "      <td>1.206142</td>\n",
       "      <td>1.206230</td>\n",
       "      <td>1.203018</td>\n",
       "      <td>1.203043</td>\n",
       "      <td>21254.676948</td>\n",
       "    </tr>\n",
       "    <tr>\n",
       "      <th>2022-02-09 13:34:00+00:00</th>\n",
       "      <td>1644413640000</td>\n",
       "      <td>1.203020</td>\n",
       "      <td>1.203590</td>\n",
       "      <td>1.202348</td>\n",
       "      <td>1.203590</td>\n",
       "      <td>23692.631791</td>\n",
       "    </tr>\n",
       "    <tr>\n",
       "      <th>2022-02-09 13:35:00+00:00</th>\n",
       "      <td>1644413700000</td>\n",
       "      <td>1.203532</td>\n",
       "      <td>1.204398</td>\n",
       "      <td>1.202777</td>\n",
       "      <td>1.202948</td>\n",
       "      <td>5288.444181</td>\n",
       "    </tr>\n",
       "    <tr>\n",
       "      <th>2022-02-09 13:36:00+00:00</th>\n",
       "      <td>1644413760000</td>\n",
       "      <td>1.203015</td>\n",
       "      <td>1.204108</td>\n",
       "      <td>1.202500</td>\n",
       "      <td>1.203753</td>\n",
       "      <td>15160.293667</td>\n",
       "    </tr>\n",
       "    <tr>\n",
       "      <th>2022-02-09 13:37:00+00:00</th>\n",
       "      <td>1644413820000</td>\n",
       "      <td>1.203613</td>\n",
       "      <td>1.203613</td>\n",
       "      <td>1.203212</td>\n",
       "      <td>1.203419</td>\n",
       "      <td>1320.846264</td>\n",
       "    </tr>\n",
       "    <tr>\n",
       "      <th>...</th>\n",
       "      <td>...</td>\n",
       "      <td>...</td>\n",
       "      <td>...</td>\n",
       "      <td>...</td>\n",
       "      <td>...</td>\n",
       "      <td>...</td>\n",
       "    </tr>\n",
       "    <tr>\n",
       "      <th>2022-02-10 14:28:00+00:00</th>\n",
       "      <td>1644503280000</td>\n",
       "      <td>1.161748</td>\n",
       "      <td>1.161748</td>\n",
       "      <td>1.159554</td>\n",
       "      <td>1.159554</td>\n",
       "      <td>19672.186803</td>\n",
       "    </tr>\n",
       "    <tr>\n",
       "      <th>2022-02-10 14:29:00+00:00</th>\n",
       "      <td>1644503340000</td>\n",
       "      <td>1.159554</td>\n",
       "      <td>1.161165</td>\n",
       "      <td>1.159554</td>\n",
       "      <td>1.160566</td>\n",
       "      <td>17144.714198</td>\n",
       "    </tr>\n",
       "    <tr>\n",
       "      <th>2022-02-10 14:30:00+00:00</th>\n",
       "      <td>1644503400000</td>\n",
       "      <td>1.160875</td>\n",
       "      <td>1.165150</td>\n",
       "      <td>1.160432</td>\n",
       "      <td>1.165150</td>\n",
       "      <td>35833.080863</td>\n",
       "    </tr>\n",
       "    <tr>\n",
       "      <th>2022-02-10 14:31:00+00:00</th>\n",
       "      <td>1644503460000</td>\n",
       "      <td>1.165152</td>\n",
       "      <td>1.168890</td>\n",
       "      <td>1.165000</td>\n",
       "      <td>1.167180</td>\n",
       "      <td>33321.279816</td>\n",
       "    </tr>\n",
       "    <tr>\n",
       "      <th>2022-02-10 14:32:00+00:00</th>\n",
       "      <td>1644503520000</td>\n",
       "      <td>1.166410</td>\n",
       "      <td>1.166410</td>\n",
       "      <td>1.164737</td>\n",
       "      <td>1.165647</td>\n",
       "      <td>9626.206294</td>\n",
       "    </tr>\n",
       "  </tbody>\n",
       "</table>\n",
       "<p>1500 rows × 6 columns</p>\n",
       "</div>"
      ],
      "text/plain": [
       "                               timestamp      open      high       low     close        volume\n",
       "timestamp                                                                                     \n",
       "2022-02-09 13:33:00+00:00  1644413580000  1.206142  1.206230  1.203018  1.203043  21254.676948\n",
       "2022-02-09 13:34:00+00:00  1644413640000  1.203020  1.203590  1.202348  1.203590  23692.631791\n",
       "2022-02-09 13:35:00+00:00  1644413700000  1.203532  1.204398  1.202777  1.202948   5288.444181\n",
       "2022-02-09 13:36:00+00:00  1644413760000  1.203015  1.204108  1.202500  1.203753  15160.293667\n",
       "2022-02-09 13:37:00+00:00  1644413820000  1.203613  1.203613  1.203212  1.203419   1320.846264\n",
       "...                                  ...       ...       ...       ...       ...           ...\n",
       "2022-02-10 14:28:00+00:00  1644503280000  1.161748  1.161748  1.159554  1.159554  19672.186803\n",
       "2022-02-10 14:29:00+00:00  1644503340000  1.159554  1.161165  1.159554  1.160566  17144.714198\n",
       "2022-02-10 14:30:00+00:00  1644503400000  1.160875  1.165150  1.160432  1.165150  35833.080863\n",
       "2022-02-10 14:31:00+00:00  1644503460000  1.165152  1.168890  1.165000  1.167180  33321.279816\n",
       "2022-02-10 14:32:00+00:00  1644503520000  1.166410  1.166410  1.164737  1.165647   9626.206294\n",
       "\n",
       "[1500 rows x 6 columns]"
      ]
     },
     "execution_count": 17,
     "metadata": {},
     "output_type": "execute_result"
    }
   ],
   "source": [
    "file_path = \"s3://cryptokaizen-data/historical/ccxt/latest/kucoin/currency_pair=ADA_USDT/year=2022/month=2/d5ea82924aa046f59a559985a95ea1c9.parquet\"\n",
    "pq_ada = pd.read_parquet(file_path)\n",
    "pq_ada"
   ]
  },
  {
   "cell_type": "markdown",
   "id": "6c0b085f",
   "metadata": {},
   "source": [
    "One can notice that the data for February starts exactly from the point where NaN sequence is ending."
   ]
  },
  {
   "cell_type": "markdown",
   "id": "f118589a",
   "metadata": {},
   "source": [
    "### Summary"
   ]
  },
  {
   "cell_type": "markdown",
   "id": "b3804472",
   "metadata": {},
   "source": [
    "The raw data doesn't have include the data for NaN sequences in client which means that with great probability, __the client doesn't distorts the raw data and it comes initially with these NaN sequences__."
   ]
  },
  {
   "cell_type": "markdown",
   "id": "2116512c",
   "metadata": {},
   "source": [
    "# Load CCXT data using requests from CCXT"
   ]
  },
  {
   "cell_type": "markdown",
   "id": "5cb0c981",
   "metadata": {},
   "source": [
    "## Function"
   ]
  },
  {
   "cell_type": "code",
   "execution_count": 3,
   "id": "7ae83fcb",
   "metadata": {
    "ExecuteTime": {
     "end_time": "2022-05-04T23:41:49.777381Z",
     "start_time": "2022-05-04T23:41:49.774180Z"
    }
   },
   "outputs": [],
   "source": [
    "def timestamp_to_datetime(timestamps):\n",
    "    times = []\n",
    "    for time in timestamps:\n",
    "        times.append(hdateti.convert_unix_epoch_to_timestamp(time))\n",
    "    return times"
   ]
  },
  {
   "cell_type": "markdown",
   "id": "a6039c7e",
   "metadata": {},
   "source": [
    "## Load data"
   ]
  },
  {
   "cell_type": "markdown",
   "id": "e59350e3",
   "metadata": {},
   "source": [
    "## Extractor"
   ]
  },
  {
   "cell_type": "code",
   "execution_count": 14,
   "id": "17935508",
   "metadata": {
    "ExecuteTime": {
     "end_time": "2022-05-05T00:02:56.839602Z",
     "start_time": "2022-05-05T00:02:55.566952Z"
    }
   },
   "outputs": [],
   "source": [
    "ccxt_kucoin_ada_exchange = imvcdeexcl.CcxtExchange(\"kucoin\")\n",
    "ccxt_kucoin_ada_data = ccxt_kucoin_ada_exchange.download_ohlcv_data(\"ADA/USDT\")"
   ]
  },
  {
   "cell_type": "code",
   "execution_count": 17,
   "id": "7a3f824b",
   "metadata": {
    "ExecuteTime": {
     "end_time": "2022-05-05T00:06:37.708190Z",
     "start_time": "2022-05-05T00:05:36.984651Z"
    }
   },
   "outputs": [
    {
     "name": "stderr",
     "output_type": "stream",
     "text": [
      "100%|████████████████████████████████████████████████████████████████████████████████████████████████████████████████████████| 3/3 [01:00<00:00, 20.24s/it]\n"
     ]
    }
   ],
   "source": [
    "# Nina: data is hard to load for the whole month using CcxtExchange. Duration of downloading more than 5 hours.\n",
    "currency_pair = \"ADA/USDT\"\n",
    "start_timestamp = pd.Timestamp(\"2019-08-30\")\n",
    "end_timestamp = pd.Timestamp(\"2019-08-31\")\n",
    "sleep_time_in_secs = 20\n",
    "ccxt_kucoin_ada_data = ccxt_kucoin_ada_exchange.download_ohlcv_data(\n",
    "    currency_pair,\n",
    "    start_timestamp=start_timestamp,\n",
    "    end_timestamp=end_timestamp,\n",
    "    sleep_time_in_secs=sleep_time_in_secs,\n",
    ")"
   ]
  },
  {
   "cell_type": "code",
   "execution_count": 5,
   "id": "21db8f82",
   "metadata": {
    "ExecuteTime": {
     "end_time": "2022-05-03T15:13:03.704729Z",
     "start_time": "2022-05-03T15:13:03.701210Z"
    }
   },
   "outputs": [],
   "source": [
    "df = ccxt_kucoin_ada_data.copy()"
   ]
  },
  {
   "cell_type": "code",
   "execution_count": 8,
   "id": "409e6e21",
   "metadata": {
    "ExecuteTime": {
     "end_time": "2022-05-03T15:14:04.160051Z",
     "start_time": "2022-05-03T15:14:04.122444Z"
    }
   },
   "outputs": [
    {
     "data": {
      "text/html": [
       "<div>\n",
       "<style scoped>\n",
       "    .dataframe tbody tr th:only-of-type {\n",
       "        vertical-align: middle;\n",
       "    }\n",
       "\n",
       "    .dataframe tbody tr th {\n",
       "        vertical-align: top;\n",
       "    }\n",
       "\n",
       "    .dataframe thead th {\n",
       "        text-align: right;\n",
       "    }\n",
       "</style>\n",
       "<table border=\"1\" class=\"dataframe\">\n",
       "  <thead>\n",
       "    <tr style=\"text-align: right;\">\n",
       "      <th></th>\n",
       "      <th>timestamp</th>\n",
       "      <th>open</th>\n",
       "      <th>high</th>\n",
       "      <th>low</th>\n",
       "      <th>close</th>\n",
       "      <th>volume</th>\n",
       "      <th>end_download_timestamp</th>\n",
       "    </tr>\n",
       "  </thead>\n",
       "  <tbody>\n",
       "    <tr>\n",
       "      <th>2019-08-30 00:00:00+00:00</th>\n",
       "      <td>1567123200000</td>\n",
       "      <td>0.044399</td>\n",
       "      <td>0.044399</td>\n",
       "      <td>0.044399</td>\n",
       "      <td>0.044399</td>\n",
       "      <td>0.0</td>\n",
       "      <td>2022-05-03 15:11:52.822615+00:00</td>\n",
       "    </tr>\n",
       "    <tr>\n",
       "      <th>2019-08-30 00:01:00+00:00</th>\n",
       "      <td>1567123260000</td>\n",
       "      <td>0.044399</td>\n",
       "      <td>0.044399</td>\n",
       "      <td>0.044399</td>\n",
       "      <td>0.044399</td>\n",
       "      <td>0.0</td>\n",
       "      <td>2022-05-03 15:11:52.822615+00:00</td>\n",
       "    </tr>\n",
       "    <tr>\n",
       "      <th>2019-08-30 00:02:00+00:00</th>\n",
       "      <td>1567123320000</td>\n",
       "      <td>0.044399</td>\n",
       "      <td>0.044399</td>\n",
       "      <td>0.044399</td>\n",
       "      <td>0.044399</td>\n",
       "      <td>0.0</td>\n",
       "      <td>2022-05-03 15:11:52.822615+00:00</td>\n",
       "    </tr>\n",
       "    <tr>\n",
       "      <th>2019-08-30 00:03:00+00:00</th>\n",
       "      <td>1567123380000</td>\n",
       "      <td>0.044399</td>\n",
       "      <td>0.044399</td>\n",
       "      <td>0.044399</td>\n",
       "      <td>0.044399</td>\n",
       "      <td>0.0</td>\n",
       "      <td>2022-05-03 15:11:52.822615+00:00</td>\n",
       "    </tr>\n",
       "    <tr>\n",
       "      <th>2019-08-30 00:04:00+00:00</th>\n",
       "      <td>1567123440000</td>\n",
       "      <td>0.044399</td>\n",
       "      <td>0.044399</td>\n",
       "      <td>0.044399</td>\n",
       "      <td>0.044399</td>\n",
       "      <td>0.0</td>\n",
       "      <td>2022-05-03 15:11:52.822615+00:00</td>\n",
       "    </tr>\n",
       "    <tr>\n",
       "      <th>...</th>\n",
       "      <td>...</td>\n",
       "      <td>...</td>\n",
       "      <td>...</td>\n",
       "      <td>...</td>\n",
       "      <td>...</td>\n",
       "      <td>...</td>\n",
       "      <td>...</td>\n",
       "    </tr>\n",
       "    <tr>\n",
       "      <th>2019-08-31 00:55:00+00:00</th>\n",
       "      <td>1567212900000</td>\n",
       "      <td>0.044296</td>\n",
       "      <td>0.044296</td>\n",
       "      <td>0.044296</td>\n",
       "      <td>0.044296</td>\n",
       "      <td>0.0</td>\n",
       "      <td>2022-05-03 15:12:33.373629+00:00</td>\n",
       "    </tr>\n",
       "    <tr>\n",
       "      <th>2019-08-31 00:56:00+00:00</th>\n",
       "      <td>1567212960000</td>\n",
       "      <td>0.044296</td>\n",
       "      <td>0.044296</td>\n",
       "      <td>0.044296</td>\n",
       "      <td>0.044296</td>\n",
       "      <td>0.0</td>\n",
       "      <td>2022-05-03 15:12:33.373629+00:00</td>\n",
       "    </tr>\n",
       "    <tr>\n",
       "      <th>2019-08-31 00:57:00+00:00</th>\n",
       "      <td>1567213020000</td>\n",
       "      <td>0.044296</td>\n",
       "      <td>0.044296</td>\n",
       "      <td>0.044296</td>\n",
       "      <td>0.044296</td>\n",
       "      <td>0.0</td>\n",
       "      <td>2022-05-03 15:12:33.373629+00:00</td>\n",
       "    </tr>\n",
       "    <tr>\n",
       "      <th>2019-08-31 00:58:00+00:00</th>\n",
       "      <td>1567213080000</td>\n",
       "      <td>0.044296</td>\n",
       "      <td>0.044296</td>\n",
       "      <td>0.044296</td>\n",
       "      <td>0.044296</td>\n",
       "      <td>0.0</td>\n",
       "      <td>2022-05-03 15:12:33.373629+00:00</td>\n",
       "    </tr>\n",
       "    <tr>\n",
       "      <th>2019-08-31 00:59:00+00:00</th>\n",
       "      <td>1567213140000</td>\n",
       "      <td>0.044296</td>\n",
       "      <td>0.044296</td>\n",
       "      <td>0.044296</td>\n",
       "      <td>0.044296</td>\n",
       "      <td>0.0</td>\n",
       "      <td>2022-05-03 15:12:33.373629+00:00</td>\n",
       "    </tr>\n",
       "  </tbody>\n",
       "</table>\n",
       "<p>1500 rows × 7 columns</p>\n",
       "</div>"
      ],
      "text/plain": [
       "                               timestamp      open      high       low     close  volume            end_download_timestamp\n",
       "2019-08-30 00:00:00+00:00  1567123200000  0.044399  0.044399  0.044399  0.044399     0.0  2022-05-03 15:11:52.822615+00:00\n",
       "2019-08-30 00:01:00+00:00  1567123260000  0.044399  0.044399  0.044399  0.044399     0.0  2022-05-03 15:11:52.822615+00:00\n",
       "2019-08-30 00:02:00+00:00  1567123320000  0.044399  0.044399  0.044399  0.044399     0.0  2022-05-03 15:11:52.822615+00:00\n",
       "2019-08-30 00:03:00+00:00  1567123380000  0.044399  0.044399  0.044399  0.044399     0.0  2022-05-03 15:11:52.822615+00:00\n",
       "2019-08-30 00:04:00+00:00  1567123440000  0.044399  0.044399  0.044399  0.044399     0.0  2022-05-03 15:11:52.822615+00:00\n",
       "...                                  ...       ...       ...       ...       ...     ...                               ...\n",
       "2019-08-31 00:55:00+00:00  1567212900000  0.044296  0.044296  0.044296  0.044296     0.0  2022-05-03 15:12:33.373629+00:00\n",
       "2019-08-31 00:56:00+00:00  1567212960000  0.044296  0.044296  0.044296  0.044296     0.0  2022-05-03 15:12:33.373629+00:00\n",
       "2019-08-31 00:57:00+00:00  1567213020000  0.044296  0.044296  0.044296  0.044296     0.0  2022-05-03 15:12:33.373629+00:00\n",
       "2019-08-31 00:58:00+00:00  1567213080000  0.044296  0.044296  0.044296  0.044296     0.0  2022-05-03 15:12:33.373629+00:00\n",
       "2019-08-31 00:59:00+00:00  1567213140000  0.044296  0.044296  0.044296  0.044296     0.0  2022-05-03 15:12:33.373629+00:00\n",
       "\n",
       "[1500 rows x 7 columns]"
      ]
     },
     "execution_count": 8,
     "metadata": {},
     "output_type": "execute_result"
    }
   ],
   "source": [
    "indexes = timestamp_to_datetime(df[\"timestamp\"])\n",
    "df.set_index(pd.to_datetime(indexes), inplace=True)\n",
    "df"
   ]
  },
  {
   "cell_type": "code",
   "execution_count": 31,
   "id": "ef652caf",
   "metadata": {
    "ExecuteTime": {
     "end_time": "2022-05-03T15:37:11.677116Z",
     "start_time": "2022-05-03T15:37:11.668129Z"
    }
   },
   "outputs": [
    {
     "data": {
      "text/html": [
       "<div>\n",
       "<style scoped>\n",
       "    .dataframe tbody tr th:only-of-type {\n",
       "        vertical-align: middle;\n",
       "    }\n",
       "\n",
       "    .dataframe tbody tr th {\n",
       "        vertical-align: top;\n",
       "    }\n",
       "\n",
       "    .dataframe thead th {\n",
       "        text-align: right;\n",
       "    }\n",
       "</style>\n",
       "<table border=\"1\" class=\"dataframe\">\n",
       "  <thead>\n",
       "    <tr style=\"text-align: right;\">\n",
       "      <th></th>\n",
       "      <th>timestamp</th>\n",
       "      <th>open</th>\n",
       "      <th>high</th>\n",
       "      <th>low</th>\n",
       "      <th>close</th>\n",
       "      <th>volume</th>\n",
       "      <th>end_download_timestamp</th>\n",
       "    </tr>\n",
       "  </thead>\n",
       "  <tbody>\n",
       "  </tbody>\n",
       "</table>\n",
       "</div>"
      ],
      "text/plain": [
       "Empty DataFrame\n",
       "Columns: [timestamp, open, high, low, close, volume, end_download_timestamp]\n",
       "Index: []"
      ]
     },
     "execution_count": 31,
     "metadata": {},
     "output_type": "execute_result"
    }
   ],
   "source": [
    "df.loc[df[\"volume\"].isna()]"
   ]
  },
  {
   "cell_type": "code",
   "execution_count": 33,
   "id": "831c29ff",
   "metadata": {
    "ExecuteTime": {
     "end_time": "2022-05-03T15:44:24.123974Z",
     "start_time": "2022-05-03T15:43:23.284509Z"
    }
   },
   "outputs": [
    {
     "name": "stderr",
     "output_type": "stream",
     "text": [
      "100%|████████████████████████████████████████████████████████████████████████████████████████████████████████████████████████| 3/3 [01:00<00:00, 20.28s/it]\n"
     ]
    }
   ],
   "source": [
    "# 2020\n",
    "start_timestamp = pd.Timestamp(\"2020-01-30\")\n",
    "end_timestamp = pd.Timestamp(\"2020-01-31\")\n",
    "ccxt_kucoin_ada_data = ccxt_kucoin_ada_exchange.download_ohlcv_data(\n",
    "    currency_pair,\n",
    "    start_timestamp=start_timestamp,\n",
    "    end_timestamp=end_timestamp,\n",
    "    sleep_time_in_secs=sleep_time_in_secs,\n",
    ")"
   ]
  },
  {
   "cell_type": "code",
   "execution_count": 34,
   "id": "226c3496",
   "metadata": {
    "ExecuteTime": {
     "end_time": "2022-05-03T15:45:43.549400Z",
     "start_time": "2022-05-03T15:45:43.519431Z"
    }
   },
   "outputs": [
    {
     "data": {
      "text/html": [
       "<div>\n",
       "<style scoped>\n",
       "    .dataframe tbody tr th:only-of-type {\n",
       "        vertical-align: middle;\n",
       "    }\n",
       "\n",
       "    .dataframe tbody tr th {\n",
       "        vertical-align: top;\n",
       "    }\n",
       "\n",
       "    .dataframe thead th {\n",
       "        text-align: right;\n",
       "    }\n",
       "</style>\n",
       "<table border=\"1\" class=\"dataframe\">\n",
       "  <thead>\n",
       "    <tr style=\"text-align: right;\">\n",
       "      <th></th>\n",
       "      <th>timestamp</th>\n",
       "      <th>open</th>\n",
       "      <th>high</th>\n",
       "      <th>low</th>\n",
       "      <th>close</th>\n",
       "      <th>volume</th>\n",
       "      <th>end_download_timestamp</th>\n",
       "    </tr>\n",
       "  </thead>\n",
       "  <tbody>\n",
       "    <tr>\n",
       "      <th>2020-01-30 00:00:00+00:00</th>\n",
       "      <td>1580342400000</td>\n",
       "      <td>0.053309</td>\n",
       "      <td>0.053309</td>\n",
       "      <td>0.053011</td>\n",
       "      <td>0.053011</td>\n",
       "      <td>61025.3833</td>\n",
       "      <td>2022-05-03 15:43:23.539530+00:00</td>\n",
       "    </tr>\n",
       "    <tr>\n",
       "      <th>2020-01-30 00:01:00+00:00</th>\n",
       "      <td>1580342460000</td>\n",
       "      <td>0.053108</td>\n",
       "      <td>0.053237</td>\n",
       "      <td>0.053078</td>\n",
       "      <td>0.053139</td>\n",
       "      <td>55236.7320</td>\n",
       "      <td>2022-05-03 15:43:23.539530+00:00</td>\n",
       "    </tr>\n",
       "    <tr>\n",
       "      <th>2020-01-30 00:02:00+00:00</th>\n",
       "      <td>1580342520000</td>\n",
       "      <td>0.053130</td>\n",
       "      <td>0.053130</td>\n",
       "      <td>0.053130</td>\n",
       "      <td>0.053130</td>\n",
       "      <td>9493.2676</td>\n",
       "      <td>2022-05-03 15:43:23.539530+00:00</td>\n",
       "    </tr>\n",
       "    <tr>\n",
       "      <th>2020-01-30 00:03:00+00:00</th>\n",
       "      <td>1580342580000</td>\n",
       "      <td>0.053175</td>\n",
       "      <td>0.053309</td>\n",
       "      <td>0.053175</td>\n",
       "      <td>0.053309</td>\n",
       "      <td>28889.7590</td>\n",
       "      <td>2022-05-03 15:43:23.539530+00:00</td>\n",
       "    </tr>\n",
       "    <tr>\n",
       "      <th>2020-01-30 00:04:00+00:00</th>\n",
       "      <td>1580342640000</td>\n",
       "      <td>0.053309</td>\n",
       "      <td>0.053309</td>\n",
       "      <td>0.053309</td>\n",
       "      <td>0.053309</td>\n",
       "      <td>0.0000</td>\n",
       "      <td>2022-05-03 15:43:23.539530+00:00</td>\n",
       "    </tr>\n",
       "    <tr>\n",
       "      <th>...</th>\n",
       "      <td>...</td>\n",
       "      <td>...</td>\n",
       "      <td>...</td>\n",
       "      <td>...</td>\n",
       "      <td>...</td>\n",
       "      <td>...</td>\n",
       "      <td>...</td>\n",
       "    </tr>\n",
       "    <tr>\n",
       "      <th>2020-01-31 00:55:00+00:00</th>\n",
       "      <td>1580432100000</td>\n",
       "      <td>0.056173</td>\n",
       "      <td>0.056173</td>\n",
       "      <td>0.056173</td>\n",
       "      <td>0.056173</td>\n",
       "      <td>1241.8552</td>\n",
       "      <td>2022-05-03 15:44:04.098063+00:00</td>\n",
       "    </tr>\n",
       "    <tr>\n",
       "      <th>2020-01-31 00:56:00+00:00</th>\n",
       "      <td>1580432160000</td>\n",
       "      <td>0.056332</td>\n",
       "      <td>0.056332</td>\n",
       "      <td>0.056332</td>\n",
       "      <td>0.056332</td>\n",
       "      <td>12333.9652</td>\n",
       "      <td>2022-05-03 15:44:04.098063+00:00</td>\n",
       "    </tr>\n",
       "    <tr>\n",
       "      <th>2020-01-31 00:57:00+00:00</th>\n",
       "      <td>1580432220000</td>\n",
       "      <td>0.056332</td>\n",
       "      <td>0.056332</td>\n",
       "      <td>0.056332</td>\n",
       "      <td>0.056332</td>\n",
       "      <td>0.0000</td>\n",
       "      <td>2022-05-03 15:44:04.098063+00:00</td>\n",
       "    </tr>\n",
       "    <tr>\n",
       "      <th>2020-01-31 00:58:00+00:00</th>\n",
       "      <td>1580432280000</td>\n",
       "      <td>0.056332</td>\n",
       "      <td>0.056332</td>\n",
       "      <td>0.056332</td>\n",
       "      <td>0.056332</td>\n",
       "      <td>36892.1186</td>\n",
       "      <td>2022-05-03 15:44:04.098063+00:00</td>\n",
       "    </tr>\n",
       "    <tr>\n",
       "      <th>2020-01-31 00:59:00+00:00</th>\n",
       "      <td>1580432340000</td>\n",
       "      <td>0.056332</td>\n",
       "      <td>0.056333</td>\n",
       "      <td>0.056332</td>\n",
       "      <td>0.056332</td>\n",
       "      <td>108696.8887</td>\n",
       "      <td>2022-05-03 15:44:04.098063+00:00</td>\n",
       "    </tr>\n",
       "  </tbody>\n",
       "</table>\n",
       "<p>1500 rows × 7 columns</p>\n",
       "</div>"
      ],
      "text/plain": [
       "                               timestamp      open      high       low     close       volume            end_download_timestamp\n",
       "2020-01-30 00:00:00+00:00  1580342400000  0.053309  0.053309  0.053011  0.053011   61025.3833  2022-05-03 15:43:23.539530+00:00\n",
       "2020-01-30 00:01:00+00:00  1580342460000  0.053108  0.053237  0.053078  0.053139   55236.7320  2022-05-03 15:43:23.539530+00:00\n",
       "2020-01-30 00:02:00+00:00  1580342520000  0.053130  0.053130  0.053130  0.053130    9493.2676  2022-05-03 15:43:23.539530+00:00\n",
       "2020-01-30 00:03:00+00:00  1580342580000  0.053175  0.053309  0.053175  0.053309   28889.7590  2022-05-03 15:43:23.539530+00:00\n",
       "2020-01-30 00:04:00+00:00  1580342640000  0.053309  0.053309  0.053309  0.053309       0.0000  2022-05-03 15:43:23.539530+00:00\n",
       "...                                  ...       ...       ...       ...       ...          ...                               ...\n",
       "2020-01-31 00:55:00+00:00  1580432100000  0.056173  0.056173  0.056173  0.056173    1241.8552  2022-05-03 15:44:04.098063+00:00\n",
       "2020-01-31 00:56:00+00:00  1580432160000  0.056332  0.056332  0.056332  0.056332   12333.9652  2022-05-03 15:44:04.098063+00:00\n",
       "2020-01-31 00:57:00+00:00  1580432220000  0.056332  0.056332  0.056332  0.056332       0.0000  2022-05-03 15:44:04.098063+00:00\n",
       "2020-01-31 00:58:00+00:00  1580432280000  0.056332  0.056332  0.056332  0.056332   36892.1186  2022-05-03 15:44:04.098063+00:00\n",
       "2020-01-31 00:59:00+00:00  1580432340000  0.056332  0.056333  0.056332  0.056332  108696.8887  2022-05-03 15:44:04.098063+00:00\n",
       "\n",
       "[1500 rows x 7 columns]"
      ]
     },
     "execution_count": 34,
     "metadata": {},
     "output_type": "execute_result"
    }
   ],
   "source": [
    "df = ccxt_kucoin_ada_data.copy()\n",
    "indexes = timestamp_to_datetime(df[\"timestamp\"])\n",
    "df.set_index(pd.to_datetime(indexes), inplace=True)\n",
    "df"
   ]
  },
  {
   "cell_type": "code",
   "execution_count": 35,
   "id": "75847cb8",
   "metadata": {
    "ExecuteTime": {
     "end_time": "2022-05-03T15:46:29.330276Z",
     "start_time": "2022-05-03T15:46:29.319309Z"
    }
   },
   "outputs": [
    {
     "data": {
      "text/html": [
       "<div>\n",
       "<style scoped>\n",
       "    .dataframe tbody tr th:only-of-type {\n",
       "        vertical-align: middle;\n",
       "    }\n",
       "\n",
       "    .dataframe tbody tr th {\n",
       "        vertical-align: top;\n",
       "    }\n",
       "\n",
       "    .dataframe thead th {\n",
       "        text-align: right;\n",
       "    }\n",
       "</style>\n",
       "<table border=\"1\" class=\"dataframe\">\n",
       "  <thead>\n",
       "    <tr style=\"text-align: right;\">\n",
       "      <th></th>\n",
       "      <th>timestamp</th>\n",
       "      <th>open</th>\n",
       "      <th>high</th>\n",
       "      <th>low</th>\n",
       "      <th>close</th>\n",
       "      <th>volume</th>\n",
       "      <th>end_download_timestamp</th>\n",
       "    </tr>\n",
       "  </thead>\n",
       "  <tbody>\n",
       "  </tbody>\n",
       "</table>\n",
       "</div>"
      ],
      "text/plain": [
       "Empty DataFrame\n",
       "Columns: [timestamp, open, high, low, close, volume, end_download_timestamp]\n",
       "Index: []"
      ]
     },
     "execution_count": 35,
     "metadata": {},
     "output_type": "execute_result"
    }
   ],
   "source": [
    "df.loc[df[\"volume\"].isna()]"
   ]
  },
  {
   "cell_type": "code",
   "execution_count": 31,
   "id": "82e9dbb7",
   "metadata": {
    "ExecuteTime": {
     "end_time": "2022-05-05T00:24:30.057610Z",
     "start_time": "2022-05-05T00:23:29.285973Z"
    }
   },
   "outputs": [
    {
     "name": "stderr",
     "output_type": "stream",
     "text": [
      "100%|████████████████████████████████████████████████████████████████████████████████████████████████████████████████████████| 3/3 [01:00<00:00, 20.25s/it]\n"
     ]
    }
   ],
   "source": [
    "# 2021\n",
    "start_timestamp = pd.Timestamp(\"2021-12-29 23:00:00+00:00\")\n",
    "end_timestamp = pd.Timestamp(\"2021-12-30 23:59:00+00:00\")\n",
    "ccxt_kucoin_ada_data = ccxt_kucoin_ada_exchange.download_ohlcv_data(\n",
    "    currency_pair,\n",
    "    start_timestamp=start_timestamp,\n",
    "    end_timestamp=end_timestamp,\n",
    "    sleep_time_in_secs=sleep_time_in_secs,\n",
    ")"
   ]
  },
  {
   "cell_type": "code",
   "execution_count": 32,
   "id": "476ca502",
   "metadata": {
    "ExecuteTime": {
     "end_time": "2022-05-05T00:25:26.352362Z",
     "start_time": "2022-05-05T00:25:26.321805Z"
    }
   },
   "outputs": [
    {
     "data": {
      "text/html": [
       "<div>\n",
       "<style scoped>\n",
       "    .dataframe tbody tr th:only-of-type {\n",
       "        vertical-align: middle;\n",
       "    }\n",
       "\n",
       "    .dataframe tbody tr th {\n",
       "        vertical-align: top;\n",
       "    }\n",
       "\n",
       "    .dataframe thead th {\n",
       "        text-align: right;\n",
       "    }\n",
       "</style>\n",
       "<table border=\"1\" class=\"dataframe\">\n",
       "  <thead>\n",
       "    <tr style=\"text-align: right;\">\n",
       "      <th></th>\n",
       "      <th>timestamp</th>\n",
       "      <th>open</th>\n",
       "      <th>high</th>\n",
       "      <th>low</th>\n",
       "      <th>close</th>\n",
       "      <th>volume</th>\n",
       "      <th>end_download_timestamp</th>\n",
       "    </tr>\n",
       "  </thead>\n",
       "  <tbody>\n",
       "    <tr>\n",
       "      <th>2021-12-29 23:00:00+00:00</th>\n",
       "      <td>1640818800000</td>\n",
       "      <td>1.365716</td>\n",
       "      <td>1.370300</td>\n",
       "      <td>1.365463</td>\n",
       "      <td>1.369638</td>\n",
       "      <td>33856.176929</td>\n",
       "      <td>2022-05-05 00:23:29.553354+00:00</td>\n",
       "    </tr>\n",
       "    <tr>\n",
       "      <th>2021-12-29 23:01:00+00:00</th>\n",
       "      <td>1640818860000</td>\n",
       "      <td>1.369883</td>\n",
       "      <td>1.370280</td>\n",
       "      <td>1.369734</td>\n",
       "      <td>1.369857</td>\n",
       "      <td>3386.144330</td>\n",
       "      <td>2022-05-05 00:23:29.553354+00:00</td>\n",
       "    </tr>\n",
       "    <tr>\n",
       "      <th>2021-12-29 23:02:00+00:00</th>\n",
       "      <td>1640818920000</td>\n",
       "      <td>1.369643</td>\n",
       "      <td>1.369643</td>\n",
       "      <td>1.364126</td>\n",
       "      <td>1.365747</td>\n",
       "      <td>21664.906754</td>\n",
       "      <td>2022-05-05 00:23:29.553354+00:00</td>\n",
       "    </tr>\n",
       "    <tr>\n",
       "      <th>2021-12-29 23:03:00+00:00</th>\n",
       "      <td>1640818980000</td>\n",
       "      <td>1.364657</td>\n",
       "      <td>1.364657</td>\n",
       "      <td>1.361591</td>\n",
       "      <td>1.361591</td>\n",
       "      <td>5524.775700</td>\n",
       "      <td>2022-05-05 00:23:29.553354+00:00</td>\n",
       "    </tr>\n",
       "    <tr>\n",
       "      <th>2021-12-29 23:04:00+00:00</th>\n",
       "      <td>1640819040000</td>\n",
       "      <td>1.361580</td>\n",
       "      <td>1.362024</td>\n",
       "      <td>1.359500</td>\n",
       "      <td>1.359754</td>\n",
       "      <td>12913.857900</td>\n",
       "      <td>2022-05-05 00:23:29.553354+00:00</td>\n",
       "    </tr>\n",
       "    <tr>\n",
       "      <th>...</th>\n",
       "      <td>...</td>\n",
       "      <td>...</td>\n",
       "      <td>...</td>\n",
       "      <td>...</td>\n",
       "      <td>...</td>\n",
       "      <td>...</td>\n",
       "      <td>...</td>\n",
       "    </tr>\n",
       "    <tr>\n",
       "      <th>2021-12-30 23:55:00+00:00</th>\n",
       "      <td>1640908500000</td>\n",
       "      <td>1.358883</td>\n",
       "      <td>1.358907</td>\n",
       "      <td>1.357684</td>\n",
       "      <td>1.357723</td>\n",
       "      <td>10782.005853</td>\n",
       "      <td>2022-05-05 00:24:10.045048+00:00</td>\n",
       "    </tr>\n",
       "    <tr>\n",
       "      <th>2021-12-30 23:56:00+00:00</th>\n",
       "      <td>1640908560000</td>\n",
       "      <td>1.357556</td>\n",
       "      <td>1.359163</td>\n",
       "      <td>1.357556</td>\n",
       "      <td>1.359041</td>\n",
       "      <td>2681.728399</td>\n",
       "      <td>2022-05-05 00:24:10.045048+00:00</td>\n",
       "    </tr>\n",
       "    <tr>\n",
       "      <th>2021-12-30 23:57:00+00:00</th>\n",
       "      <td>1640908620000</td>\n",
       "      <td>1.359185</td>\n",
       "      <td>1.359500</td>\n",
       "      <td>1.359185</td>\n",
       "      <td>1.359474</td>\n",
       "      <td>1331.858170</td>\n",
       "      <td>2022-05-05 00:24:10.045048+00:00</td>\n",
       "    </tr>\n",
       "    <tr>\n",
       "      <th>2021-12-30 23:58:00+00:00</th>\n",
       "      <td>1640908680000</td>\n",
       "      <td>1.359278</td>\n",
       "      <td>1.359278</td>\n",
       "      <td>1.358594</td>\n",
       "      <td>1.359124</td>\n",
       "      <td>4208.779100</td>\n",
       "      <td>2022-05-05 00:24:10.045048+00:00</td>\n",
       "    </tr>\n",
       "    <tr>\n",
       "      <th>2021-12-30 23:59:00+00:00</th>\n",
       "      <td>1640908740000</td>\n",
       "      <td>1.359173</td>\n",
       "      <td>1.359173</td>\n",
       "      <td>1.358027</td>\n",
       "      <td>1.358027</td>\n",
       "      <td>1197.959531</td>\n",
       "      <td>2022-05-05 00:24:10.045048+00:00</td>\n",
       "    </tr>\n",
       "  </tbody>\n",
       "</table>\n",
       "<p>1500 rows × 7 columns</p>\n",
       "</div>"
      ],
      "text/plain": [
       "                               timestamp      open      high       low     close        volume            end_download_timestamp\n",
       "2021-12-29 23:00:00+00:00  1640818800000  1.365716  1.370300  1.365463  1.369638  33856.176929  2022-05-05 00:23:29.553354+00:00\n",
       "2021-12-29 23:01:00+00:00  1640818860000  1.369883  1.370280  1.369734  1.369857   3386.144330  2022-05-05 00:23:29.553354+00:00\n",
       "2021-12-29 23:02:00+00:00  1640818920000  1.369643  1.369643  1.364126  1.365747  21664.906754  2022-05-05 00:23:29.553354+00:00\n",
       "2021-12-29 23:03:00+00:00  1640818980000  1.364657  1.364657  1.361591  1.361591   5524.775700  2022-05-05 00:23:29.553354+00:00\n",
       "2021-12-29 23:04:00+00:00  1640819040000  1.361580  1.362024  1.359500  1.359754  12913.857900  2022-05-05 00:23:29.553354+00:00\n",
       "...                                  ...       ...       ...       ...       ...           ...                               ...\n",
       "2021-12-30 23:55:00+00:00  1640908500000  1.358883  1.358907  1.357684  1.357723  10782.005853  2022-05-05 00:24:10.045048+00:00\n",
       "2021-12-30 23:56:00+00:00  1640908560000  1.357556  1.359163  1.357556  1.359041   2681.728399  2022-05-05 00:24:10.045048+00:00\n",
       "2021-12-30 23:57:00+00:00  1640908620000  1.359185  1.359500  1.359185  1.359474   1331.858170  2022-05-05 00:24:10.045048+00:00\n",
       "2021-12-30 23:58:00+00:00  1640908680000  1.359278  1.359278  1.358594  1.359124   4208.779100  2022-05-05 00:24:10.045048+00:00\n",
       "2021-12-30 23:59:00+00:00  1640908740000  1.359173  1.359173  1.358027  1.358027   1197.959531  2022-05-05 00:24:10.045048+00:00\n",
       "\n",
       "[1500 rows x 7 columns]"
      ]
     },
     "execution_count": 32,
     "metadata": {},
     "output_type": "execute_result"
    }
   ],
   "source": [
    "df = ccxt_kucoin_ada_data.copy()\n",
    "indexes = timestamp_to_datetime(df[\"timestamp\"])\n",
    "df.set_index(pd.to_datetime(indexes), inplace=True)\n",
    "df"
   ]
  },
  {
   "cell_type": "code",
   "execution_count": 33,
   "id": "feb9b7b1",
   "metadata": {
    "ExecuteTime": {
     "end_time": "2022-05-05T00:25:36.933718Z",
     "start_time": "2022-05-05T00:25:36.925798Z"
    }
   },
   "outputs": [
    {
     "data": {
      "text/html": [
       "<div>\n",
       "<style scoped>\n",
       "    .dataframe tbody tr th:only-of-type {\n",
       "        vertical-align: middle;\n",
       "    }\n",
       "\n",
       "    .dataframe tbody tr th {\n",
       "        vertical-align: top;\n",
       "    }\n",
       "\n",
       "    .dataframe thead th {\n",
       "        text-align: right;\n",
       "    }\n",
       "</style>\n",
       "<table border=\"1\" class=\"dataframe\">\n",
       "  <thead>\n",
       "    <tr style=\"text-align: right;\">\n",
       "      <th></th>\n",
       "      <th>timestamp</th>\n",
       "      <th>open</th>\n",
       "      <th>high</th>\n",
       "      <th>low</th>\n",
       "      <th>close</th>\n",
       "      <th>volume</th>\n",
       "      <th>end_download_timestamp</th>\n",
       "    </tr>\n",
       "  </thead>\n",
       "  <tbody>\n",
       "  </tbody>\n",
       "</table>\n",
       "</div>"
      ],
      "text/plain": [
       "Empty DataFrame\n",
       "Columns: [timestamp, open, high, low, close, volume, end_download_timestamp]\n",
       "Index: []"
      ]
     },
     "execution_count": 33,
     "metadata": {},
     "output_type": "execute_result"
    }
   ],
   "source": [
    "df.loc[df[\"volume\"].isna()]"
   ]
  },
  {
   "cell_type": "code",
   "execution_count": 24,
   "id": "f0e183d5",
   "metadata": {
    "ExecuteTime": {
     "end_time": "2022-05-02T14:21:59.599925Z",
     "start_time": "2022-05-02T14:21:59.585417Z"
    }
   },
   "outputs": [
    {
     "name": "stdout",
     "output_type": "stream",
     "text": [
      "INFO  (1500, 7)\n"
     ]
    },
    {
     "data": {
      "text/html": [
       "<div>\n",
       "<style scoped>\n",
       "    .dataframe tbody tr th:only-of-type {\n",
       "        vertical-align: middle;\n",
       "    }\n",
       "\n",
       "    .dataframe tbody tr th {\n",
       "        vertical-align: top;\n",
       "    }\n",
       "\n",
       "    .dataframe thead th {\n",
       "        text-align: right;\n",
       "    }\n",
       "</style>\n",
       "<table border=\"1\" class=\"dataframe\">\n",
       "  <thead>\n",
       "    <tr style=\"text-align: right;\">\n",
       "      <th></th>\n",
       "      <th>timestamp</th>\n",
       "      <th>open</th>\n",
       "      <th>high</th>\n",
       "      <th>low</th>\n",
       "      <th>close</th>\n",
       "      <th>volume</th>\n",
       "      <th>end_download_timestamp</th>\n",
       "    </tr>\n",
       "  </thead>\n",
       "  <tbody>\n",
       "    <tr>\n",
       "      <th>0</th>\n",
       "      <td>1577836800000</td>\n",
       "      <td>0.032806</td>\n",
       "      <td>0.032806</td>\n",
       "      <td>0.032774</td>\n",
       "      <td>0.032774</td>\n",
       "      <td>9384.6264</td>\n",
       "      <td>2022-05-02 14:20:58.953992+00:00</td>\n",
       "    </tr>\n",
       "    <tr>\n",
       "      <th>1</th>\n",
       "      <td>1577836860000</td>\n",
       "      <td>0.032774</td>\n",
       "      <td>0.032774</td>\n",
       "      <td>0.032774</td>\n",
       "      <td>0.032774</td>\n",
       "      <td>0.0000</td>\n",
       "      <td>2022-05-02 14:20:58.953992+00:00</td>\n",
       "    </tr>\n",
       "    <tr>\n",
       "      <th>2</th>\n",
       "      <td>1577836920000</td>\n",
       "      <td>0.032774</td>\n",
       "      <td>0.032774</td>\n",
       "      <td>0.032774</td>\n",
       "      <td>0.032774</td>\n",
       "      <td>0.0000</td>\n",
       "      <td>2022-05-02 14:20:58.953992+00:00</td>\n",
       "    </tr>\n",
       "    <tr>\n",
       "      <th>3</th>\n",
       "      <td>1577836980000</td>\n",
       "      <td>0.032774</td>\n",
       "      <td>0.032774</td>\n",
       "      <td>0.032774</td>\n",
       "      <td>0.032774</td>\n",
       "      <td>0.0000</td>\n",
       "      <td>2022-05-02 14:20:58.953992+00:00</td>\n",
       "    </tr>\n",
       "    <tr>\n",
       "      <th>4</th>\n",
       "      <td>1577837040000</td>\n",
       "      <td>0.032774</td>\n",
       "      <td>0.032774</td>\n",
       "      <td>0.032774</td>\n",
       "      <td>0.032774</td>\n",
       "      <td>0.0000</td>\n",
       "      <td>2022-05-02 14:20:58.953992+00:00</td>\n",
       "    </tr>\n",
       "  </tbody>\n",
       "</table>\n",
       "</div>"
      ],
      "text/plain": [
       "       timestamp      open      high       low     close     volume            end_download_timestamp\n",
       "0  1577836800000  0.032806  0.032806  0.032774  0.032774  9384.6264  2022-05-02 14:20:58.953992+00:00\n",
       "1  1577836860000  0.032774  0.032774  0.032774  0.032774     0.0000  2022-05-02 14:20:58.953992+00:00\n",
       "2  1577836920000  0.032774  0.032774  0.032774  0.032774     0.0000  2022-05-02 14:20:58.953992+00:00\n",
       "3  1577836980000  0.032774  0.032774  0.032774  0.032774     0.0000  2022-05-02 14:20:58.953992+00:00\n",
       "4  1577837040000  0.032774  0.032774  0.032774  0.032774     0.0000  2022-05-02 14:20:58.953992+00:00"
      ]
     },
     "execution_count": 24,
     "metadata": {},
     "output_type": "execute_result"
    }
   ],
   "source": [
    "_LOG.info(ccxt_kucoin_ada_data.shape)\n",
    "ccxt_kucoin_ada_data.head()"
   ]
  },
  {
   "cell_type": "markdown",
   "id": "2ab9eca8",
   "metadata": {},
   "source": [
    "### Load data using simple requests"
   ]
  },
  {
   "cell_type": "code",
   "execution_count": 4,
   "id": "63606cc8",
   "metadata": {
    "ExecuteTime": {
     "end_time": "2022-05-04T23:42:21.529743Z",
     "start_time": "2022-05-04T23:42:21.525652Z"
    }
   },
   "outputs": [],
   "source": [
    "def get_url(symbol: str, start_ts: int, end_ts: int) -> str:\n",
    "    url = f\"https://openapi-v2.kucoin.com/api/v1/market/candles?symbol={symbol}&type=1min&startAt={start_ts}&endAt={end_ts}\"\n",
    "    return url"
   ]
  },
  {
   "cell_type": "code",
   "execution_count": 14,
   "id": "05dd06a3",
   "metadata": {
    "ExecuteTime": {
     "end_time": "2022-05-03T15:22:32.342115Z",
     "start_time": "2022-05-03T15:22:32.034044Z"
    }
   },
   "outputs": [
    {
     "data": {
      "text/plain": [
       "'{\"code\":\"200000\",\"data\":[[\"1567295940\",\"0.045252\",\"0.045252\",\"0.045252\",\"0.045252\",\"0\",\"0\"],[\"156729'"
      ]
     },
     "execution_count": 14,
     "metadata": {},
     "output_type": "execute_result"
    }
   ],
   "source": [
    "symbol = \"ADA-USDT\"\n",
    "# 2019-08-01 00:00:00 GMT+0000\n",
    "start = 1564617600\n",
    "# 2019-08-31 23:59:59 GMT+0000\n",
    "end = 1567295999\n",
    "url = get_url(symbol, start, end)\n",
    "response = requests.get(url)\n",
    "# check if data in response.\n",
    "response.text[:100]"
   ]
  },
  {
   "cell_type": "code",
   "execution_count": 15,
   "id": "f7ab791b",
   "metadata": {
    "ExecuteTime": {
     "end_time": "2022-05-03T15:22:39.584376Z",
     "start_time": "2022-05-03T15:22:39.568801Z"
    }
   },
   "outputs": [
    {
     "data": {
      "text/html": [
       "<div>\n",
       "<style scoped>\n",
       "    .dataframe tbody tr th:only-of-type {\n",
       "        vertical-align: middle;\n",
       "    }\n",
       "\n",
       "    .dataframe tbody tr th {\n",
       "        vertical-align: top;\n",
       "    }\n",
       "\n",
       "    .dataframe thead th {\n",
       "        text-align: right;\n",
       "    }\n",
       "</style>\n",
       "<table border=\"1\" class=\"dataframe\">\n",
       "  <thead>\n",
       "    <tr style=\"text-align: right;\">\n",
       "      <th></th>\n",
       "      <th>timestamp</th>\n",
       "      <th>open</th>\n",
       "      <th>high</th>\n",
       "      <th>low</th>\n",
       "      <th>close</th>\n",
       "      <th>volume</th>\n",
       "      <th>unknown_col</th>\n",
       "    </tr>\n",
       "  </thead>\n",
       "  <tbody>\n",
       "    <tr>\n",
       "      <th>0</th>\n",
       "      <td>1567295940</td>\n",
       "      <td>0.045252</td>\n",
       "      <td>0.045252</td>\n",
       "      <td>0.045252</td>\n",
       "      <td>0.045252</td>\n",
       "      <td>0</td>\n",
       "      <td>0</td>\n",
       "    </tr>\n",
       "    <tr>\n",
       "      <th>1</th>\n",
       "      <td>1567295880</td>\n",
       "      <td>0.045252</td>\n",
       "      <td>0.045252</td>\n",
       "      <td>0.045252</td>\n",
       "      <td>0.045252</td>\n",
       "      <td>0</td>\n",
       "      <td>0</td>\n",
       "    </tr>\n",
       "    <tr>\n",
       "      <th>2</th>\n",
       "      <td>1567295820</td>\n",
       "      <td>0.045252</td>\n",
       "      <td>0.045252</td>\n",
       "      <td>0.045252</td>\n",
       "      <td>0.045252</td>\n",
       "      <td>0</td>\n",
       "      <td>0</td>\n",
       "    </tr>\n",
       "  </tbody>\n",
       "</table>\n",
       "</div>"
      ],
      "text/plain": [
       "    timestamp      open      high       low     close volume unknown_col\n",
       "0  1567295940  0.045252  0.045252  0.045252  0.045252      0           0\n",
       "1  1567295880  0.045252  0.045252  0.045252  0.045252      0           0\n",
       "2  1567295820  0.045252  0.045252  0.045252  0.045252      0           0"
      ]
     },
     "execution_count": 15,
     "metadata": {},
     "output_type": "execute_result"
    }
   ],
   "source": [
    "data = json.loads(response.text)\n",
    "data = data[\"data\"]\n",
    "columns = [\"timestamp\", \"open\", \"high\", \"low\", \"close\", \"volume\", \"unknown_col\"]\n",
    "df_2019 = pd.DataFrame(data, columns=columns)\n",
    "df_2019.head(3)"
   ]
  },
  {
   "cell_type": "code",
   "execution_count": 16,
   "id": "7a14f4dd",
   "metadata": {
    "ExecuteTime": {
     "end_time": "2022-05-03T15:22:51.115223Z",
     "start_time": "2022-05-03T15:22:51.106373Z"
    }
   },
   "outputs": [
    {
     "data": {
      "text/plain": [
       "1499    1567206000\n",
       "1498    1567206060\n",
       "1497    1567206120\n",
       "1496    1567206180\n",
       "1495    1567206240\n",
       "           ...    \n",
       "4       1567295700\n",
       "3       1567295760\n",
       "2       1567295820\n",
       "1       1567295880\n",
       "0       1567295940\n",
       "Name: timestamp, Length: 1500, dtype: object"
      ]
     },
     "execution_count": 16,
     "metadata": {},
     "output_type": "execute_result"
    }
   ],
   "source": [
    "# Data is loaded for one day (roughly) but IDK why, maybe because of some limits.\n",
    "df_2019[\"timestamp\"].sort_values()"
   ]
  },
  {
   "cell_type": "code",
   "execution_count": 23,
   "id": "1ea49cdd",
   "metadata": {
    "ExecuteTime": {
     "end_time": "2022-05-03T15:30:56.577865Z",
     "start_time": "2022-05-03T15:30:56.291190Z"
    }
   },
   "outputs": [
    {
     "data": {
      "text/plain": [
       "'{\"code\":\"200000\",\"data\":[[\"1580515140\",\"0.05383\",\"0.05383\",\"0.05383\",\"0.05383\",\"0\",\"0\"],[\"1580515080'"
      ]
     },
     "execution_count": 23,
     "metadata": {},
     "output_type": "execute_result"
    }
   ],
   "source": [
    "symbol = \"ADA-USDT\"\n",
    "# 2020-01-30 23:00:00 GMT+0000\n",
    "start = 1580425200\n",
    "# 2020-01-31 23:59:59 GMT+0000\n",
    "end = 1580515199\n",
    "url = get_url(symbol, start, end)\n",
    "response = requests.get(url)\n",
    "# check if data in response.\n",
    "response.text[:100]"
   ]
  },
  {
   "cell_type": "code",
   "execution_count": 24,
   "id": "117739ea",
   "metadata": {
    "ExecuteTime": {
     "end_time": "2022-05-03T15:31:01.836758Z",
     "start_time": "2022-05-03T15:31:01.820033Z"
    }
   },
   "outputs": [
    {
     "name": "stdout",
     "output_type": "stream",
     "text": [
      "INFO  (1500, 7)\n"
     ]
    },
    {
     "data": {
      "text/html": [
       "<div>\n",
       "<style scoped>\n",
       "    .dataframe tbody tr th:only-of-type {\n",
       "        vertical-align: middle;\n",
       "    }\n",
       "\n",
       "    .dataframe tbody tr th {\n",
       "        vertical-align: top;\n",
       "    }\n",
       "\n",
       "    .dataframe thead th {\n",
       "        text-align: right;\n",
       "    }\n",
       "</style>\n",
       "<table border=\"1\" class=\"dataframe\">\n",
       "  <thead>\n",
       "    <tr style=\"text-align: right;\">\n",
       "      <th></th>\n",
       "      <th>timestamp</th>\n",
       "      <th>open</th>\n",
       "      <th>high</th>\n",
       "      <th>low</th>\n",
       "      <th>close</th>\n",
       "      <th>volume</th>\n",
       "      <th>unknown_col</th>\n",
       "    </tr>\n",
       "  </thead>\n",
       "  <tbody>\n",
       "    <tr>\n",
       "      <th>0</th>\n",
       "      <td>1580515140</td>\n",
       "      <td>0.05383</td>\n",
       "      <td>0.05383</td>\n",
       "      <td>0.05383</td>\n",
       "      <td>0.05383</td>\n",
       "      <td>0</td>\n",
       "      <td>0</td>\n",
       "    </tr>\n",
       "    <tr>\n",
       "      <th>1</th>\n",
       "      <td>1580515080</td>\n",
       "      <td>0.05383</td>\n",
       "      <td>0.05383</td>\n",
       "      <td>0.05383</td>\n",
       "      <td>0.05383</td>\n",
       "      <td>0</td>\n",
       "      <td>0</td>\n",
       "    </tr>\n",
       "    <tr>\n",
       "      <th>2</th>\n",
       "      <td>1580515020</td>\n",
       "      <td>0.05383</td>\n",
       "      <td>0.05383</td>\n",
       "      <td>0.05383</td>\n",
       "      <td>0.05383</td>\n",
       "      <td>0</td>\n",
       "      <td>0</td>\n",
       "    </tr>\n",
       "  </tbody>\n",
       "</table>\n",
       "</div>"
      ],
      "text/plain": [
       "    timestamp     open     high      low    close volume unknown_col\n",
       "0  1580515140  0.05383  0.05383  0.05383  0.05383      0           0\n",
       "1  1580515080  0.05383  0.05383  0.05383  0.05383      0           0\n",
       "2  1580515020  0.05383  0.05383  0.05383  0.05383      0           0"
      ]
     },
     "execution_count": 24,
     "metadata": {},
     "output_type": "execute_result"
    }
   ],
   "source": [
    "data_2020 = json.loads(response.text)\n",
    "data_2020 = data_2020[\"data\"]\n",
    "columns = [\"timestamp\", \"open\", \"high\", \"low\", \"close\", \"volume\", \"unknown_col\"]\n",
    "df_2020 = pd.DataFrame(data_2020, columns=columns)\n",
    "_LOG.info(df_2020.shape)\n",
    "df_2020.head(3)"
   ]
  },
  {
   "cell_type": "code",
   "execution_count": 5,
   "id": "7f510427",
   "metadata": {
    "ExecuteTime": {
     "end_time": "2022-05-04T23:42:38.240569Z",
     "start_time": "2022-05-04T23:42:37.945931Z"
    }
   },
   "outputs": [
    {
     "data": {
      "text/plain": [
       "'{\"code\":\"200000\",\"data\":[[\"1640908740\",\"1.359173\",\"1.358027\",\"1.359173\",\"1.358027\",\"1197.95953073\",\"'"
      ]
     },
     "execution_count": 5,
     "metadata": {},
     "output_type": "execute_result"
    }
   ],
   "source": [
    "symbol = \"ADA-USDT\"\n",
    "# 2021-12-29 23:00:00 GMT+0000\n",
    "start = 1640818800\n",
    "# 2021-12-30 23:59:59 GMT+0000\n",
    "end = 1640908799\n",
    "url = get_url(symbol, start, end)\n",
    "response = requests.get(url)\n",
    "# check if data in response.\n",
    "response.text[:100]"
   ]
  },
  {
   "cell_type": "code",
   "execution_count": 6,
   "id": "39e8f518",
   "metadata": {
    "ExecuteTime": {
     "end_time": "2022-05-04T23:42:42.084545Z",
     "start_time": "2022-05-04T23:42:42.067404Z"
    }
   },
   "outputs": [
    {
     "name": "stdout",
     "output_type": "stream",
     "text": [
      "INFO  (1500, 7)\n"
     ]
    },
    {
     "data": {
      "text/html": [
       "<div>\n",
       "<style scoped>\n",
       "    .dataframe tbody tr th:only-of-type {\n",
       "        vertical-align: middle;\n",
       "    }\n",
       "\n",
       "    .dataframe tbody tr th {\n",
       "        vertical-align: top;\n",
       "    }\n",
       "\n",
       "    .dataframe thead th {\n",
       "        text-align: right;\n",
       "    }\n",
       "</style>\n",
       "<table border=\"1\" class=\"dataframe\">\n",
       "  <thead>\n",
       "    <tr style=\"text-align: right;\">\n",
       "      <th></th>\n",
       "      <th>timestamp</th>\n",
       "      <th>open</th>\n",
       "      <th>high</th>\n",
       "      <th>low</th>\n",
       "      <th>close</th>\n",
       "      <th>volume</th>\n",
       "      <th>unknown_col</th>\n",
       "    </tr>\n",
       "  </thead>\n",
       "  <tbody>\n",
       "    <tr>\n",
       "      <th>0</th>\n",
       "      <td>1640908740</td>\n",
       "      <td>1.359173</td>\n",
       "      <td>1.358027</td>\n",
       "      <td>1.359173</td>\n",
       "      <td>1.358027</td>\n",
       "      <td>1197.95953073</td>\n",
       "      <td>1627.70904156026549</td>\n",
       "    </tr>\n",
       "    <tr>\n",
       "      <th>1</th>\n",
       "      <td>1640908680</td>\n",
       "      <td>1.359278</td>\n",
       "      <td>1.359124</td>\n",
       "      <td>1.359278</td>\n",
       "      <td>1.358594</td>\n",
       "      <td>4208.7791</td>\n",
       "      <td>5718.5894377439</td>\n",
       "    </tr>\n",
       "    <tr>\n",
       "      <th>2</th>\n",
       "      <td>1640908620</td>\n",
       "      <td>1.359185</td>\n",
       "      <td>1.359474</td>\n",
       "      <td>1.3595</td>\n",
       "      <td>1.359185</td>\n",
       "      <td>1331.85816961</td>\n",
       "      <td>1810.52851035165562</td>\n",
       "    </tr>\n",
       "  </tbody>\n",
       "</table>\n",
       "</div>"
      ],
      "text/plain": [
       "    timestamp      open      high       low     close         volume          unknown_col\n",
       "0  1640908740  1.359173  1.358027  1.359173  1.358027  1197.95953073  1627.70904156026549\n",
       "1  1640908680  1.359278  1.359124  1.359278  1.358594      4208.7791      5718.5894377439\n",
       "2  1640908620  1.359185  1.359474    1.3595  1.359185  1331.85816961  1810.52851035165562"
      ]
     },
     "execution_count": 6,
     "metadata": {},
     "output_type": "execute_result"
    }
   ],
   "source": [
    "data_2021 = json.loads(response.text)\n",
    "data_2021 = data_2021[\"data\"]\n",
    "columns = [\"timestamp\", \"open\", \"high\", \"low\", \"close\", \"volume\", \"unknown_col\"]\n",
    "df_2021 = pd.DataFrame(data_2021, columns=columns)\n",
    "_LOG.info(df_2021.shape)\n",
    "df_2021.head(3)"
   ]
  },
  {
   "cell_type": "markdown",
   "id": "54e0fa10",
   "metadata": {},
   "source": [
    "## Set Datetime index to loaded data"
   ]
  },
  {
   "cell_type": "code",
   "execution_count": 33,
   "id": "9b41ca90",
   "metadata": {
    "ExecuteTime": {
     "end_time": "2022-05-02T14:22:01.378252Z",
     "start_time": "2022-05-02T14:22:01.352207Z"
    }
   },
   "outputs": [
    {
     "data": {
      "text/html": [
       "<div>\n",
       "<style scoped>\n",
       "    .dataframe tbody tr th:only-of-type {\n",
       "        vertical-align: middle;\n",
       "    }\n",
       "\n",
       "    .dataframe tbody tr th {\n",
       "        vertical-align: top;\n",
       "    }\n",
       "\n",
       "    .dataframe thead th {\n",
       "        text-align: right;\n",
       "    }\n",
       "</style>\n",
       "<table border=\"1\" class=\"dataframe\">\n",
       "  <thead>\n",
       "    <tr style=\"text-align: right;\">\n",
       "      <th></th>\n",
       "      <th>timestamp</th>\n",
       "      <th>open</th>\n",
       "      <th>high</th>\n",
       "      <th>low</th>\n",
       "      <th>close</th>\n",
       "      <th>volume</th>\n",
       "      <th>end_download_timestamp</th>\n",
       "    </tr>\n",
       "  </thead>\n",
       "  <tbody>\n",
       "    <tr>\n",
       "      <th>2020-01-01 00:00:00+00:00</th>\n",
       "      <td>1577836800000</td>\n",
       "      <td>0.032806</td>\n",
       "      <td>0.032806</td>\n",
       "      <td>0.032774</td>\n",
       "      <td>0.032774</td>\n",
       "      <td>9384.6264</td>\n",
       "      <td>2022-05-02 14:20:58.953992+00:00</td>\n",
       "    </tr>\n",
       "    <tr>\n",
       "      <th>2020-01-01 00:01:00+00:00</th>\n",
       "      <td>1577836860000</td>\n",
       "      <td>0.032774</td>\n",
       "      <td>0.032774</td>\n",
       "      <td>0.032774</td>\n",
       "      <td>0.032774</td>\n",
       "      <td>0.0000</td>\n",
       "      <td>2022-05-02 14:20:58.953992+00:00</td>\n",
       "    </tr>\n",
       "  </tbody>\n",
       "</table>\n",
       "</div>"
      ],
      "text/plain": [
       "                               timestamp      open      high       low     close     volume            end_download_timestamp\n",
       "2020-01-01 00:00:00+00:00  1577836800000  0.032806  0.032806  0.032774  0.032774  9384.6264  2022-05-02 14:20:58.953992+00:00\n",
       "2020-01-01 00:01:00+00:00  1577836860000  0.032774  0.032774  0.032774  0.032774     0.0000  2022-05-02 14:20:58.953992+00:00"
      ]
     },
     "execution_count": 33,
     "metadata": {},
     "output_type": "execute_result"
    }
   ],
   "source": [
    "indexes = timestamp_to_datetime(ccxt_kucoin_ada_data[\"timestamp\"])\n",
    "ccxt_kucoin_ada_data.set_index(pd.to_datetime(indexes), inplace=True)\n",
    "ccxt_kucoin_ada_data.head(2)"
   ]
  },
  {
   "cell_type": "code",
   "execution_count": 7,
   "id": "eda15ead",
   "metadata": {
    "ExecuteTime": {
     "end_time": "2022-05-04T23:43:00.466844Z",
     "start_time": "2022-05-04T23:43:00.463760Z"
    }
   },
   "outputs": [],
   "source": [
    "# Tricky manipulations to create a correct timestamp to convert to datetime.\n",
    "def change_timestamp(df):\n",
    "    for timestamp in df[\"timestamp\"]:\n",
    "        df[\"timestamp\"].loc[df[\"timestamp\"] == timestamp] = f\"{timestamp}000\"\n",
    "    return df"
   ]
  },
  {
   "cell_type": "code",
   "execution_count": 18,
   "id": "c271b805",
   "metadata": {
    "ExecuteTime": {
     "end_time": "2022-05-03T15:23:17.960367Z",
     "start_time": "2022-05-03T15:23:17.140768Z"
    },
    "run_control": {
     "marked": true
    }
   },
   "outputs": [],
   "source": [
    "df_2019 = change_timestamp(df_2019)\n",
    "df_2019 = df_2019.convert_dtypes()\n",
    "df_2019[\"timestamp\"] = pd.to_numeric(df_2019[\"timestamp\"])"
   ]
  },
  {
   "cell_type": "code",
   "execution_count": 19,
   "id": "0a51d390",
   "metadata": {
    "ExecuteTime": {
     "end_time": "2022-05-03T15:23:23.960524Z",
     "start_time": "2022-05-03T15:23:23.936826Z"
    }
   },
   "outputs": [
    {
     "data": {
      "text/html": [
       "<div>\n",
       "<style scoped>\n",
       "    .dataframe tbody tr th:only-of-type {\n",
       "        vertical-align: middle;\n",
       "    }\n",
       "\n",
       "    .dataframe tbody tr th {\n",
       "        vertical-align: top;\n",
       "    }\n",
       "\n",
       "    .dataframe thead th {\n",
       "        text-align: right;\n",
       "    }\n",
       "</style>\n",
       "<table border=\"1\" class=\"dataframe\">\n",
       "  <thead>\n",
       "    <tr style=\"text-align: right;\">\n",
       "      <th></th>\n",
       "      <th>timestamp</th>\n",
       "      <th>open</th>\n",
       "      <th>high</th>\n",
       "      <th>low</th>\n",
       "      <th>close</th>\n",
       "      <th>volume</th>\n",
       "      <th>unknown_col</th>\n",
       "    </tr>\n",
       "  </thead>\n",
       "  <tbody>\n",
       "    <tr>\n",
       "      <th>2019-08-31 23:59:00+00:00</th>\n",
       "      <td>1567295940000</td>\n",
       "      <td>0.045252</td>\n",
       "      <td>0.045252</td>\n",
       "      <td>0.045252</td>\n",
       "      <td>0.045252</td>\n",
       "      <td>0</td>\n",
       "      <td>0</td>\n",
       "    </tr>\n",
       "    <tr>\n",
       "      <th>2019-08-31 23:58:00+00:00</th>\n",
       "      <td>1567295880000</td>\n",
       "      <td>0.045252</td>\n",
       "      <td>0.045252</td>\n",
       "      <td>0.045252</td>\n",
       "      <td>0.045252</td>\n",
       "      <td>0</td>\n",
       "      <td>0</td>\n",
       "    </tr>\n",
       "  </tbody>\n",
       "</table>\n",
       "</div>"
      ],
      "text/plain": [
       "                               timestamp      open      high       low     close volume unknown_col\n",
       "2019-08-31 23:59:00+00:00  1567295940000  0.045252  0.045252  0.045252  0.045252      0           0\n",
       "2019-08-31 23:58:00+00:00  1567295880000  0.045252  0.045252  0.045252  0.045252      0           0"
      ]
     },
     "execution_count": 19,
     "metadata": {},
     "output_type": "execute_result"
    }
   ],
   "source": [
    "indexes = timestamp_to_datetime(df_2019[\"timestamp\"])\n",
    "df_2019.set_index(pd.to_datetime(indexes), inplace=True)\n",
    "df_2019.head(2)"
   ]
  },
  {
   "cell_type": "code",
   "execution_count": 30,
   "id": "6c996e93",
   "metadata": {
    "ExecuteTime": {
     "end_time": "2022-05-03T15:35:31.653786Z",
     "start_time": "2022-05-03T15:35:31.645283Z"
    }
   },
   "outputs": [
    {
     "data": {
      "text/html": [
       "<div>\n",
       "<style scoped>\n",
       "    .dataframe tbody tr th:only-of-type {\n",
       "        vertical-align: middle;\n",
       "    }\n",
       "\n",
       "    .dataframe tbody tr th {\n",
       "        vertical-align: top;\n",
       "    }\n",
       "\n",
       "    .dataframe thead th {\n",
       "        text-align: right;\n",
       "    }\n",
       "</style>\n",
       "<table border=\"1\" class=\"dataframe\">\n",
       "  <thead>\n",
       "    <tr style=\"text-align: right;\">\n",
       "      <th></th>\n",
       "      <th>timestamp</th>\n",
       "      <th>open</th>\n",
       "      <th>high</th>\n",
       "      <th>low</th>\n",
       "      <th>close</th>\n",
       "      <th>volume</th>\n",
       "      <th>unknown_col</th>\n",
       "    </tr>\n",
       "  </thead>\n",
       "  <tbody>\n",
       "  </tbody>\n",
       "</table>\n",
       "</div>"
      ],
      "text/plain": [
       "Empty DataFrame\n",
       "Columns: [timestamp, open, high, low, close, volume, unknown_col]\n",
       "Index: []"
      ]
     },
     "execution_count": 30,
     "metadata": {},
     "output_type": "execute_result"
    }
   ],
   "source": [
    "df_2019.loc[df_2019[\"volume\"].isna()]"
   ]
  },
  {
   "cell_type": "code",
   "execution_count": 44,
   "id": "3b539395",
   "metadata": {
    "ExecuteTime": {
     "end_time": "2022-05-03T16:06:26.589823Z",
     "start_time": "2022-05-03T16:06:26.568601Z"
    }
   },
   "outputs": [
    {
     "data": {
      "text/html": [
       "<div>\n",
       "<style scoped>\n",
       "    .dataframe tbody tr th:only-of-type {\n",
       "        vertical-align: middle;\n",
       "    }\n",
       "\n",
       "    .dataframe tbody tr th {\n",
       "        vertical-align: top;\n",
       "    }\n",
       "\n",
       "    .dataframe thead th {\n",
       "        text-align: right;\n",
       "    }\n",
       "</style>\n",
       "<table border=\"1\" class=\"dataframe\">\n",
       "  <thead>\n",
       "    <tr style=\"text-align: right;\">\n",
       "      <th></th>\n",
       "      <th>timestamp</th>\n",
       "      <th>open</th>\n",
       "      <th>high</th>\n",
       "      <th>low</th>\n",
       "      <th>close</th>\n",
       "      <th>volume</th>\n",
       "      <th>unknown_col</th>\n",
       "    </tr>\n",
       "  </thead>\n",
       "  <tbody>\n",
       "    <tr>\n",
       "      <th>2019-08-31 23:59:00+00:00</th>\n",
       "      <td>1567295940000</td>\n",
       "      <td>0.045252</td>\n",
       "      <td>0.045252</td>\n",
       "      <td>0.045252</td>\n",
       "      <td>0.045252</td>\n",
       "      <td>0</td>\n",
       "      <td>0</td>\n",
       "    </tr>\n",
       "    <tr>\n",
       "      <th>2019-08-31 23:58:00+00:00</th>\n",
       "      <td>1567295880000</td>\n",
       "      <td>0.045252</td>\n",
       "      <td>0.045252</td>\n",
       "      <td>0.045252</td>\n",
       "      <td>0.045252</td>\n",
       "      <td>0</td>\n",
       "      <td>0</td>\n",
       "    </tr>\n",
       "    <tr>\n",
       "      <th>2019-08-31 23:57:00+00:00</th>\n",
       "      <td>1567295820000</td>\n",
       "      <td>0.045252</td>\n",
       "      <td>0.045252</td>\n",
       "      <td>0.045252</td>\n",
       "      <td>0.045252</td>\n",
       "      <td>0</td>\n",
       "      <td>0</td>\n",
       "    </tr>\n",
       "    <tr>\n",
       "      <th>2019-08-31 23:56:00+00:00</th>\n",
       "      <td>1567295760000</td>\n",
       "      <td>0.045252</td>\n",
       "      <td>0.045252</td>\n",
       "      <td>0.045252</td>\n",
       "      <td>0.045252</td>\n",
       "      <td>0</td>\n",
       "      <td>0</td>\n",
       "    </tr>\n",
       "    <tr>\n",
       "      <th>2019-08-31 23:55:00+00:00</th>\n",
       "      <td>1567295700000</td>\n",
       "      <td>0.045252</td>\n",
       "      <td>0.045252</td>\n",
       "      <td>0.045252</td>\n",
       "      <td>0.045252</td>\n",
       "      <td>0</td>\n",
       "      <td>0</td>\n",
       "    </tr>\n",
       "    <tr>\n",
       "      <th>...</th>\n",
       "      <td>...</td>\n",
       "      <td>...</td>\n",
       "      <td>...</td>\n",
       "      <td>...</td>\n",
       "      <td>...</td>\n",
       "      <td>...</td>\n",
       "      <td>...</td>\n",
       "    </tr>\n",
       "    <tr>\n",
       "      <th>2019-08-30 23:04:00+00:00</th>\n",
       "      <td>1567206240000</td>\n",
       "      <td>0.044797</td>\n",
       "      <td>0.044797</td>\n",
       "      <td>0.044797</td>\n",
       "      <td>0.044797</td>\n",
       "      <td>0</td>\n",
       "      <td>0</td>\n",
       "    </tr>\n",
       "    <tr>\n",
       "      <th>2019-08-30 23:03:00+00:00</th>\n",
       "      <td>1567206180000</td>\n",
       "      <td>0.044797</td>\n",
       "      <td>0.044797</td>\n",
       "      <td>0.044797</td>\n",
       "      <td>0.044797</td>\n",
       "      <td>0</td>\n",
       "      <td>0</td>\n",
       "    </tr>\n",
       "    <tr>\n",
       "      <th>2019-08-30 23:02:00+00:00</th>\n",
       "      <td>1567206120000</td>\n",
       "      <td>0.044797</td>\n",
       "      <td>0.044797</td>\n",
       "      <td>0.044797</td>\n",
       "      <td>0.044797</td>\n",
       "      <td>0</td>\n",
       "      <td>0</td>\n",
       "    </tr>\n",
       "    <tr>\n",
       "      <th>2019-08-30 23:01:00+00:00</th>\n",
       "      <td>1567206060000</td>\n",
       "      <td>0.044797</td>\n",
       "      <td>0.044797</td>\n",
       "      <td>0.044797</td>\n",
       "      <td>0.044797</td>\n",
       "      <td>0</td>\n",
       "      <td>0</td>\n",
       "    </tr>\n",
       "    <tr>\n",
       "      <th>2019-08-30 23:00:00+00:00</th>\n",
       "      <td>1567206000000</td>\n",
       "      <td>0.044797</td>\n",
       "      <td>0.044797</td>\n",
       "      <td>0.044797</td>\n",
       "      <td>0.044797</td>\n",
       "      <td>0</td>\n",
       "      <td>0</td>\n",
       "    </tr>\n",
       "  </tbody>\n",
       "</table>\n",
       "<p>1463 rows × 7 columns</p>\n",
       "</div>"
      ],
      "text/plain": [
       "                               timestamp      open      high       low     close volume unknown_col\n",
       "2019-08-31 23:59:00+00:00  1567295940000  0.045252  0.045252  0.045252  0.045252      0           0\n",
       "2019-08-31 23:58:00+00:00  1567295880000  0.045252  0.045252  0.045252  0.045252      0           0\n",
       "2019-08-31 23:57:00+00:00  1567295820000  0.045252  0.045252  0.045252  0.045252      0           0\n",
       "2019-08-31 23:56:00+00:00  1567295760000  0.045252  0.045252  0.045252  0.045252      0           0\n",
       "2019-08-31 23:55:00+00:00  1567295700000  0.045252  0.045252  0.045252  0.045252      0           0\n",
       "...                                  ...       ...       ...       ...       ...    ...         ...\n",
       "2019-08-30 23:04:00+00:00  1567206240000  0.044797  0.044797  0.044797  0.044797      0           0\n",
       "2019-08-30 23:03:00+00:00  1567206180000  0.044797  0.044797  0.044797  0.044797      0           0\n",
       "2019-08-30 23:02:00+00:00  1567206120000  0.044797  0.044797  0.044797  0.044797      0           0\n",
       "2019-08-30 23:01:00+00:00  1567206060000  0.044797  0.044797  0.044797  0.044797      0           0\n",
       "2019-08-30 23:00:00+00:00  1567206000000  0.044797  0.044797  0.044797  0.044797      0           0\n",
       "\n",
       "[1463 rows x 7 columns]"
      ]
     },
     "execution_count": 44,
     "metadata": {},
     "output_type": "execute_result"
    }
   ],
   "source": [
    "df_2019.loc[df_2019[\"volume\"] == \"0\"]"
   ]
  },
  {
   "cell_type": "code",
   "execution_count": 25,
   "id": "a3b1d53c",
   "metadata": {
    "ExecuteTime": {
     "end_time": "2022-05-03T15:31:28.034064Z",
     "start_time": "2022-05-03T15:31:27.220322Z"
    }
   },
   "outputs": [
    {
     "data": {
      "text/html": [
       "<div>\n",
       "<style scoped>\n",
       "    .dataframe tbody tr th:only-of-type {\n",
       "        vertical-align: middle;\n",
       "    }\n",
       "\n",
       "    .dataframe tbody tr th {\n",
       "        vertical-align: top;\n",
       "    }\n",
       "\n",
       "    .dataframe thead th {\n",
       "        text-align: right;\n",
       "    }\n",
       "</style>\n",
       "<table border=\"1\" class=\"dataframe\">\n",
       "  <thead>\n",
       "    <tr style=\"text-align: right;\">\n",
       "      <th></th>\n",
       "      <th>timestamp</th>\n",
       "      <th>open</th>\n",
       "      <th>high</th>\n",
       "      <th>low</th>\n",
       "      <th>close</th>\n",
       "      <th>volume</th>\n",
       "      <th>unknown_col</th>\n",
       "    </tr>\n",
       "  </thead>\n",
       "  <tbody>\n",
       "    <tr>\n",
       "      <th>2020-01-31 23:59:00+00:00</th>\n",
       "      <td>1580515140000</td>\n",
       "      <td>0.05383</td>\n",
       "      <td>0.05383</td>\n",
       "      <td>0.05383</td>\n",
       "      <td>0.05383</td>\n",
       "      <td>0</td>\n",
       "      <td>0</td>\n",
       "    </tr>\n",
       "    <tr>\n",
       "      <th>2020-01-31 23:58:00+00:00</th>\n",
       "      <td>1580515080000</td>\n",
       "      <td>0.05383</td>\n",
       "      <td>0.05383</td>\n",
       "      <td>0.05383</td>\n",
       "      <td>0.05383</td>\n",
       "      <td>0</td>\n",
       "      <td>0</td>\n",
       "    </tr>\n",
       "  </tbody>\n",
       "</table>\n",
       "</div>"
      ],
      "text/plain": [
       "                               timestamp     open     high      low    close volume unknown_col\n",
       "2020-01-31 23:59:00+00:00  1580515140000  0.05383  0.05383  0.05383  0.05383      0           0\n",
       "2020-01-31 23:58:00+00:00  1580515080000  0.05383  0.05383  0.05383  0.05383      0           0"
      ]
     },
     "execution_count": 25,
     "metadata": {},
     "output_type": "execute_result"
    }
   ],
   "source": [
    "# Data of 2020-01-30 ~ 2020-01-31\n",
    "df_2020 = change_timestamp(df_2020)\n",
    "df_2020 = df_2020.convert_dtypes()\n",
    "df_2020[\"timestamp\"] = pd.to_numeric(df_2020[\"timestamp\"])\n",
    "indexes = timestamp_to_datetime(df_2020[\"timestamp\"])\n",
    "df_2020.set_index(pd.to_datetime(indexes), inplace=True)\n",
    "df_2020.head(2)"
   ]
  },
  {
   "cell_type": "code",
   "execution_count": 29,
   "id": "1e494a1c",
   "metadata": {
    "ExecuteTime": {
     "end_time": "2022-05-03T15:35:18.260483Z",
     "start_time": "2022-05-03T15:35:18.251874Z"
    }
   },
   "outputs": [
    {
     "data": {
      "text/html": [
       "<div>\n",
       "<style scoped>\n",
       "    .dataframe tbody tr th:only-of-type {\n",
       "        vertical-align: middle;\n",
       "    }\n",
       "\n",
       "    .dataframe tbody tr th {\n",
       "        vertical-align: top;\n",
       "    }\n",
       "\n",
       "    .dataframe thead th {\n",
       "        text-align: right;\n",
       "    }\n",
       "</style>\n",
       "<table border=\"1\" class=\"dataframe\">\n",
       "  <thead>\n",
       "    <tr style=\"text-align: right;\">\n",
       "      <th></th>\n",
       "      <th>timestamp</th>\n",
       "      <th>open</th>\n",
       "      <th>high</th>\n",
       "      <th>low</th>\n",
       "      <th>close</th>\n",
       "      <th>volume</th>\n",
       "      <th>unknown_col</th>\n",
       "    </tr>\n",
       "  </thead>\n",
       "  <tbody>\n",
       "  </tbody>\n",
       "</table>\n",
       "</div>"
      ],
      "text/plain": [
       "Empty DataFrame\n",
       "Columns: [timestamp, open, high, low, close, volume, unknown_col]\n",
       "Index: []"
      ]
     },
     "execution_count": 29,
     "metadata": {},
     "output_type": "execute_result"
    }
   ],
   "source": [
    "df_2020.loc[df_2020[\"volume\"].isna()]"
   ]
  },
  {
   "cell_type": "code",
   "execution_count": 45,
   "id": "89dfbe6e",
   "metadata": {
    "ExecuteTime": {
     "end_time": "2022-05-03T16:08:53.632096Z",
     "start_time": "2022-05-03T16:08:53.613702Z"
    }
   },
   "outputs": [
    {
     "data": {
      "text/html": [
       "<div>\n",
       "<style scoped>\n",
       "    .dataframe tbody tr th:only-of-type {\n",
       "        vertical-align: middle;\n",
       "    }\n",
       "\n",
       "    .dataframe tbody tr th {\n",
       "        vertical-align: top;\n",
       "    }\n",
       "\n",
       "    .dataframe thead th {\n",
       "        text-align: right;\n",
       "    }\n",
       "</style>\n",
       "<table border=\"1\" class=\"dataframe\">\n",
       "  <thead>\n",
       "    <tr style=\"text-align: right;\">\n",
       "      <th></th>\n",
       "      <th>timestamp</th>\n",
       "      <th>open</th>\n",
       "      <th>high</th>\n",
       "      <th>low</th>\n",
       "      <th>close</th>\n",
       "      <th>volume</th>\n",
       "      <th>unknown_col</th>\n",
       "    </tr>\n",
       "  </thead>\n",
       "  <tbody>\n",
       "    <tr>\n",
       "      <th>2020-01-31 23:59:00+00:00</th>\n",
       "      <td>1580515140000</td>\n",
       "      <td>0.05383</td>\n",
       "      <td>0.05383</td>\n",
       "      <td>0.05383</td>\n",
       "      <td>0.05383</td>\n",
       "      <td>0</td>\n",
       "      <td>0</td>\n",
       "    </tr>\n",
       "    <tr>\n",
       "      <th>2020-01-31 23:58:00+00:00</th>\n",
       "      <td>1580515080000</td>\n",
       "      <td>0.05383</td>\n",
       "      <td>0.05383</td>\n",
       "      <td>0.05383</td>\n",
       "      <td>0.05383</td>\n",
       "      <td>0</td>\n",
       "      <td>0</td>\n",
       "    </tr>\n",
       "    <tr>\n",
       "      <th>2020-01-31 23:57:00+00:00</th>\n",
       "      <td>1580515020000</td>\n",
       "      <td>0.05383</td>\n",
       "      <td>0.05383</td>\n",
       "      <td>0.05383</td>\n",
       "      <td>0.05383</td>\n",
       "      <td>0</td>\n",
       "      <td>0</td>\n",
       "    </tr>\n",
       "    <tr>\n",
       "      <th>2020-01-31 23:55:00+00:00</th>\n",
       "      <td>1580514900000</td>\n",
       "      <td>0.053846</td>\n",
       "      <td>0.053846</td>\n",
       "      <td>0.053846</td>\n",
       "      <td>0.053846</td>\n",
       "      <td>0</td>\n",
       "      <td>0</td>\n",
       "    </tr>\n",
       "    <tr>\n",
       "      <th>2020-01-31 23:54:00+00:00</th>\n",
       "      <td>1580514840000</td>\n",
       "      <td>0.053846</td>\n",
       "      <td>0.053846</td>\n",
       "      <td>0.053846</td>\n",
       "      <td>0.053846</td>\n",
       "      <td>0</td>\n",
       "      <td>0</td>\n",
       "    </tr>\n",
       "    <tr>\n",
       "      <th>...</th>\n",
       "      <td>...</td>\n",
       "      <td>...</td>\n",
       "      <td>...</td>\n",
       "      <td>...</td>\n",
       "      <td>...</td>\n",
       "      <td>...</td>\n",
       "      <td>...</td>\n",
       "    </tr>\n",
       "    <tr>\n",
       "      <th>2020-01-30 23:10:00+00:00</th>\n",
       "      <td>1580425800000</td>\n",
       "      <td>0.056499</td>\n",
       "      <td>0.056499</td>\n",
       "      <td>0.056499</td>\n",
       "      <td>0.056499</td>\n",
       "      <td>0</td>\n",
       "      <td>0</td>\n",
       "    </tr>\n",
       "    <tr>\n",
       "      <th>2020-01-30 23:07:00+00:00</th>\n",
       "      <td>1580425620000</td>\n",
       "      <td>0.056466</td>\n",
       "      <td>0.056466</td>\n",
       "      <td>0.056466</td>\n",
       "      <td>0.056466</td>\n",
       "      <td>0</td>\n",
       "      <td>0</td>\n",
       "    </tr>\n",
       "    <tr>\n",
       "      <th>2020-01-30 23:02:00+00:00</th>\n",
       "      <td>1580425320000</td>\n",
       "      <td>0.056772</td>\n",
       "      <td>0.056772</td>\n",
       "      <td>0.056772</td>\n",
       "      <td>0.056772</td>\n",
       "      <td>0</td>\n",
       "      <td>0</td>\n",
       "    </tr>\n",
       "    <tr>\n",
       "      <th>2020-01-30 23:01:00+00:00</th>\n",
       "      <td>1580425260000</td>\n",
       "      <td>0.056772</td>\n",
       "      <td>0.056772</td>\n",
       "      <td>0.056772</td>\n",
       "      <td>0.056772</td>\n",
       "      <td>0</td>\n",
       "      <td>0</td>\n",
       "    </tr>\n",
       "    <tr>\n",
       "      <th>2020-01-30 23:00:00+00:00</th>\n",
       "      <td>1580425200000</td>\n",
       "      <td>0.056772</td>\n",
       "      <td>0.056772</td>\n",
       "      <td>0.056772</td>\n",
       "      <td>0.056772</td>\n",
       "      <td>0</td>\n",
       "      <td>0</td>\n",
       "    </tr>\n",
       "  </tbody>\n",
       "</table>\n",
       "<p>1004 rows × 7 columns</p>\n",
       "</div>"
      ],
      "text/plain": [
       "                               timestamp      open      high       low     close volume unknown_col\n",
       "2020-01-31 23:59:00+00:00  1580515140000   0.05383   0.05383   0.05383   0.05383      0           0\n",
       "2020-01-31 23:58:00+00:00  1580515080000   0.05383   0.05383   0.05383   0.05383      0           0\n",
       "2020-01-31 23:57:00+00:00  1580515020000   0.05383   0.05383   0.05383   0.05383      0           0\n",
       "2020-01-31 23:55:00+00:00  1580514900000  0.053846  0.053846  0.053846  0.053846      0           0\n",
       "2020-01-31 23:54:00+00:00  1580514840000  0.053846  0.053846  0.053846  0.053846      0           0\n",
       "...                                  ...       ...       ...       ...       ...    ...         ...\n",
       "2020-01-30 23:10:00+00:00  1580425800000  0.056499  0.056499  0.056499  0.056499      0           0\n",
       "2020-01-30 23:07:00+00:00  1580425620000  0.056466  0.056466  0.056466  0.056466      0           0\n",
       "2020-01-30 23:02:00+00:00  1580425320000  0.056772  0.056772  0.056772  0.056772      0           0\n",
       "2020-01-30 23:01:00+00:00  1580425260000  0.056772  0.056772  0.056772  0.056772      0           0\n",
       "2020-01-30 23:00:00+00:00  1580425200000  0.056772  0.056772  0.056772  0.056772      0           0\n",
       "\n",
       "[1004 rows x 7 columns]"
      ]
     },
     "execution_count": 45,
     "metadata": {},
     "output_type": "execute_result"
    }
   ],
   "source": [
    "df_2020.loc[df_2020[\"volume\"] == \"0\"]"
   ]
  },
  {
   "cell_type": "code",
   "execution_count": 8,
   "id": "38828a30",
   "metadata": {
    "ExecuteTime": {
     "end_time": "2022-05-04T23:43:20.978648Z",
     "start_time": "2022-05-04T23:43:20.224796Z"
    },
    "scrolled": true
   },
   "outputs": [
    {
     "data": {
      "text/html": [
       "<div>\n",
       "<style scoped>\n",
       "    .dataframe tbody tr th:only-of-type {\n",
       "        vertical-align: middle;\n",
       "    }\n",
       "\n",
       "    .dataframe tbody tr th {\n",
       "        vertical-align: top;\n",
       "    }\n",
       "\n",
       "    .dataframe thead th {\n",
       "        text-align: right;\n",
       "    }\n",
       "</style>\n",
       "<table border=\"1\" class=\"dataframe\">\n",
       "  <thead>\n",
       "    <tr style=\"text-align: right;\">\n",
       "      <th></th>\n",
       "      <th>timestamp</th>\n",
       "      <th>open</th>\n",
       "      <th>high</th>\n",
       "      <th>low</th>\n",
       "      <th>close</th>\n",
       "      <th>volume</th>\n",
       "      <th>unknown_col</th>\n",
       "    </tr>\n",
       "  </thead>\n",
       "  <tbody>\n",
       "    <tr>\n",
       "      <th>2021-12-30 23:59:00+00:00</th>\n",
       "      <td>1640908740000</td>\n",
       "      <td>1.359173</td>\n",
       "      <td>1.358027</td>\n",
       "      <td>1.359173</td>\n",
       "      <td>1.358027</td>\n",
       "      <td>1197.95953073</td>\n",
       "      <td>1627.70904156026549</td>\n",
       "    </tr>\n",
       "    <tr>\n",
       "      <th>2021-12-30 23:58:00+00:00</th>\n",
       "      <td>1640908680000</td>\n",
       "      <td>1.359278</td>\n",
       "      <td>1.359124</td>\n",
       "      <td>1.359278</td>\n",
       "      <td>1.358594</td>\n",
       "      <td>4208.7791</td>\n",
       "      <td>5718.5894377439</td>\n",
       "    </tr>\n",
       "  </tbody>\n",
       "</table>\n",
       "</div>"
      ],
      "text/plain": [
       "                               timestamp      open      high       low     close         volume          unknown_col\n",
       "2021-12-30 23:59:00+00:00  1640908740000  1.359173  1.358027  1.359173  1.358027  1197.95953073  1627.70904156026549\n",
       "2021-12-30 23:58:00+00:00  1640908680000  1.359278  1.359124  1.359278  1.358594      4208.7791      5718.5894377439"
      ]
     },
     "execution_count": 8,
     "metadata": {},
     "output_type": "execute_result"
    }
   ],
   "source": [
    "# Data of 2021-12-29 ~ 2021-12-30\n",
    "df_2021 = change_timestamp(df_2021)\n",
    "df_2021 = df_2021.convert_dtypes()\n",
    "df_2021[\"timestamp\"] = pd.to_numeric(df_2021[\"timestamp\"])\n",
    "indexes = timestamp_to_datetime(df_2021[\"timestamp\"])\n",
    "df_2021.set_index(pd.to_datetime(indexes), inplace=True)\n",
    "df_2021.head(2)"
   ]
  },
  {
   "cell_type": "code",
   "execution_count": 10,
   "id": "7395a8f2",
   "metadata": {
    "ExecuteTime": {
     "end_time": "2022-05-04T23:33:51.231413Z",
     "start_time": "2022-05-04T23:33:51.209832Z"
    }
   },
   "outputs": [
    {
     "data": {
      "text/html": [
       "<div>\n",
       "<style scoped>\n",
       "    .dataframe tbody tr th:only-of-type {\n",
       "        vertical-align: middle;\n",
       "    }\n",
       "\n",
       "    .dataframe tbody tr th {\n",
       "        vertical-align: top;\n",
       "    }\n",
       "\n",
       "    .dataframe thead th {\n",
       "        text-align: right;\n",
       "    }\n",
       "</style>\n",
       "<table border=\"1\" class=\"dataframe\">\n",
       "  <thead>\n",
       "    <tr style=\"text-align: right;\">\n",
       "      <th></th>\n",
       "      <th>timestamp</th>\n",
       "      <th>open</th>\n",
       "      <th>high</th>\n",
       "      <th>low</th>\n",
       "      <th>close</th>\n",
       "      <th>volume</th>\n",
       "      <th>unknown_col</th>\n",
       "    </tr>\n",
       "  </thead>\n",
       "  <tbody>\n",
       "    <tr>\n",
       "      <th>2021-12-30 23:59:00+00:00</th>\n",
       "      <td>1640908740000</td>\n",
       "      <td>1.359173</td>\n",
       "      <td>1.358027</td>\n",
       "      <td>1.359173</td>\n",
       "      <td>1.358027</td>\n",
       "      <td>1197.95953073</td>\n",
       "      <td>1627.70904156026549</td>\n",
       "    </tr>\n",
       "    <tr>\n",
       "      <th>2021-12-30 23:58:00+00:00</th>\n",
       "      <td>1640908680000</td>\n",
       "      <td>1.359278</td>\n",
       "      <td>1.359124</td>\n",
       "      <td>1.359278</td>\n",
       "      <td>1.358594</td>\n",
       "      <td>4208.7791</td>\n",
       "      <td>5718.5894377439</td>\n",
       "    </tr>\n",
       "    <tr>\n",
       "      <th>2021-12-30 23:57:00+00:00</th>\n",
       "      <td>1640908620000</td>\n",
       "      <td>1.359185</td>\n",
       "      <td>1.359474</td>\n",
       "      <td>1.3595</td>\n",
       "      <td>1.359185</td>\n",
       "      <td>1331.85816961</td>\n",
       "      <td>1810.52851035165562</td>\n",
       "    </tr>\n",
       "  </tbody>\n",
       "</table>\n",
       "</div>"
      ],
      "text/plain": [
       "                               timestamp      open      high       low     close         volume          unknown_col\n",
       "2021-12-30 23:59:00+00:00  1640908740000  1.359173  1.358027  1.359173  1.358027  1197.95953073  1627.70904156026549\n",
       "2021-12-30 23:58:00+00:00  1640908680000  1.359278  1.359124  1.359278  1.358594      4208.7791      5718.5894377439\n",
       "2021-12-30 23:57:00+00:00  1640908620000  1.359185  1.359474    1.3595  1.359185  1331.85816961  1810.52851035165562"
      ]
     },
     "execution_count": 10,
     "metadata": {},
     "output_type": "execute_result"
    }
   ],
   "source": [
    "use_index = True\n",
    "# Refactored hpandas.drop_duplicates from CMTask1588 (not in master yet).\n",
    "df_2021_no_dup = hpandas.drop_duplicates(df_2021, use_index)\n",
    "df_2021_no_dup.head(3)"
   ]
  },
  {
   "cell_type": "code",
   "execution_count": 11,
   "id": "927d664e",
   "metadata": {
    "ExecuteTime": {
     "end_time": "2022-05-04T23:34:14.919980Z",
     "start_time": "2022-05-04T23:34:14.915974Z"
    }
   },
   "outputs": [
    {
     "data": {
      "text/plain": [
       "(1500, 7)"
      ]
     },
     "execution_count": 11,
     "metadata": {},
     "output_type": "execute_result"
    }
   ],
   "source": [
    "df_2021_no_dup.shape"
   ]
  },
  {
   "cell_type": "code",
   "execution_count": 9,
   "id": "4677a7f0",
   "metadata": {
    "ExecuteTime": {
     "end_time": "2022-05-04T23:46:17.414923Z",
     "start_time": "2022-05-04T23:46:17.398009Z"
    }
   },
   "outputs": [
    {
     "name": "stdout",
     "output_type": "stream",
     "text": [
      "INFO  (1500, 7)\n"
     ]
    },
    {
     "data": {
      "text/html": [
       "<div>\n",
       "<style scoped>\n",
       "    .dataframe tbody tr th:only-of-type {\n",
       "        vertical-align: middle;\n",
       "    }\n",
       "\n",
       "    .dataframe tbody tr th {\n",
       "        vertical-align: top;\n",
       "    }\n",
       "\n",
       "    .dataframe thead th {\n",
       "        text-align: right;\n",
       "    }\n",
       "</style>\n",
       "<table border=\"1\" class=\"dataframe\">\n",
       "  <thead>\n",
       "    <tr style=\"text-align: right;\">\n",
       "      <th></th>\n",
       "      <th>timestamp</th>\n",
       "      <th>open</th>\n",
       "      <th>high</th>\n",
       "      <th>low</th>\n",
       "      <th>close</th>\n",
       "      <th>volume</th>\n",
       "      <th>unknown_col</th>\n",
       "    </tr>\n",
       "  </thead>\n",
       "  <tbody>\n",
       "    <tr>\n",
       "      <th>2021-12-30 23:59:00+00:00</th>\n",
       "      <td>1640908740000</td>\n",
       "      <td>1.359173</td>\n",
       "      <td>1.358027</td>\n",
       "      <td>1.359173</td>\n",
       "      <td>1.358027</td>\n",
       "      <td>1197.95953073</td>\n",
       "      <td>1627.70904156026549</td>\n",
       "    </tr>\n",
       "    <tr>\n",
       "      <th>2021-12-30 23:58:00+00:00</th>\n",
       "      <td>1640908680000</td>\n",
       "      <td>1.359278</td>\n",
       "      <td>1.359124</td>\n",
       "      <td>1.359278</td>\n",
       "      <td>1.358594</td>\n",
       "      <td>4208.7791</td>\n",
       "      <td>5718.5894377439</td>\n",
       "    </tr>\n",
       "    <tr>\n",
       "      <th>2021-12-30 23:57:00+00:00</th>\n",
       "      <td>1640908620000</td>\n",
       "      <td>1.359185</td>\n",
       "      <td>1.359474</td>\n",
       "      <td>1.3595</td>\n",
       "      <td>1.359185</td>\n",
       "      <td>1331.85816961</td>\n",
       "      <td>1810.52851035165562</td>\n",
       "    </tr>\n",
       "  </tbody>\n",
       "</table>\n",
       "</div>"
      ],
      "text/plain": [
       "                               timestamp      open      high       low     close         volume          unknown_col\n",
       "2021-12-30 23:59:00+00:00  1640908740000  1.359173  1.358027  1.359173  1.358027  1197.95953073  1627.70904156026549\n",
       "2021-12-30 23:58:00+00:00  1640908680000  1.359278  1.359124  1.359278  1.358594      4208.7791      5718.5894377439\n",
       "2021-12-30 23:57:00+00:00  1640908620000  1.359185  1.359474    1.3595  1.359185  1331.85816961  1810.52851035165562"
      ]
     },
     "execution_count": 9,
     "metadata": {},
     "output_type": "execute_result"
    }
   ],
   "source": [
    "# Non-refactored hpandas.drop_duplicates.\n",
    "df_2021_no_dup = hpandas.drop_duplicates(df_2021)\n",
    "_LOG.info(df_2021_no_dup.shape)\n",
    "df_2021_no_dup.head(3)"
   ]
  },
  {
   "cell_type": "markdown",
   "id": "b44e4fec",
   "metadata": {},
   "source": [
    "Just checked it and compared with two versions of `hpandas.drop_duplicates` in case there were any duplicates."
   ]
  },
  {
   "cell_type": "code",
   "execution_count": 43,
   "id": "b86124d9",
   "metadata": {
    "ExecuteTime": {
     "end_time": "2022-05-03T15:56:07.325817Z",
     "start_time": "2022-05-03T15:56:07.315759Z"
    }
   },
   "outputs": [
    {
     "data": {
      "text/html": [
       "<div>\n",
       "<style scoped>\n",
       "    .dataframe tbody tr th:only-of-type {\n",
       "        vertical-align: middle;\n",
       "    }\n",
       "\n",
       "    .dataframe tbody tr th {\n",
       "        vertical-align: top;\n",
       "    }\n",
       "\n",
       "    .dataframe thead th {\n",
       "        text-align: right;\n",
       "    }\n",
       "</style>\n",
       "<table border=\"1\" class=\"dataframe\">\n",
       "  <thead>\n",
       "    <tr style=\"text-align: right;\">\n",
       "      <th></th>\n",
       "      <th>timestamp</th>\n",
       "      <th>open</th>\n",
       "      <th>high</th>\n",
       "      <th>low</th>\n",
       "      <th>close</th>\n",
       "      <th>volume</th>\n",
       "      <th>unknown_col</th>\n",
       "    </tr>\n",
       "  </thead>\n",
       "  <tbody>\n",
       "  </tbody>\n",
       "</table>\n",
       "</div>"
      ],
      "text/plain": [
       "Empty DataFrame\n",
       "Columns: [timestamp, open, high, low, close, volume, unknown_col]\n",
       "Index: []"
      ]
     },
     "execution_count": 43,
     "metadata": {},
     "output_type": "execute_result"
    }
   ],
   "source": [
    "df_2021.loc[df_2021[\"volume\"].isna()]"
   ]
  },
  {
   "cell_type": "code",
   "execution_count": 48,
   "id": "08466ca6",
   "metadata": {
    "ExecuteTime": {
     "end_time": "2022-05-03T16:11:09.225994Z",
     "start_time": "2022-05-03T16:11:09.215148Z"
    }
   },
   "outputs": [
    {
     "data": {
      "text/html": [
       "<div>\n",
       "<style scoped>\n",
       "    .dataframe tbody tr th:only-of-type {\n",
       "        vertical-align: middle;\n",
       "    }\n",
       "\n",
       "    .dataframe tbody tr th {\n",
       "        vertical-align: top;\n",
       "    }\n",
       "\n",
       "    .dataframe thead th {\n",
       "        text-align: right;\n",
       "    }\n",
       "</style>\n",
       "<table border=\"1\" class=\"dataframe\">\n",
       "  <thead>\n",
       "    <tr style=\"text-align: right;\">\n",
       "      <th></th>\n",
       "      <th>timestamp</th>\n",
       "      <th>open</th>\n",
       "      <th>high</th>\n",
       "      <th>low</th>\n",
       "      <th>close</th>\n",
       "      <th>volume</th>\n",
       "      <th>unknown_col</th>\n",
       "    </tr>\n",
       "  </thead>\n",
       "  <tbody>\n",
       "  </tbody>\n",
       "</table>\n",
       "</div>"
      ],
      "text/plain": [
       "Empty DataFrame\n",
       "Columns: [timestamp, open, high, low, close, volume, unknown_col]\n",
       "Index: []"
      ]
     },
     "execution_count": 48,
     "metadata": {},
     "output_type": "execute_result"
    }
   ],
   "source": [
    "df_2021.loc[df_2021[\"volume\"] == \"0\"]"
   ]
  },
  {
   "cell_type": "code",
   "execution_count": 52,
   "id": "b6f39f19",
   "metadata": {
    "ExecuteTime": {
     "end_time": "2022-05-03T16:15:55.449268Z",
     "start_time": "2022-05-03T16:15:55.435936Z"
    }
   },
   "outputs": [
    {
     "data": {
      "text/html": [
       "<div>\n",
       "<style scoped>\n",
       "    .dataframe tbody tr th:only-of-type {\n",
       "        vertical-align: middle;\n",
       "    }\n",
       "\n",
       "    .dataframe tbody tr th {\n",
       "        vertical-align: top;\n",
       "    }\n",
       "\n",
       "    .dataframe thead th {\n",
       "        text-align: right;\n",
       "    }\n",
       "</style>\n",
       "<table border=\"1\" class=\"dataframe\">\n",
       "  <thead>\n",
       "    <tr style=\"text-align: right;\">\n",
       "      <th></th>\n",
       "      <th>timestamp</th>\n",
       "      <th>open</th>\n",
       "      <th>high</th>\n",
       "      <th>low</th>\n",
       "      <th>close</th>\n",
       "      <th>volume</th>\n",
       "      <th>unknown_col</th>\n",
       "    </tr>\n",
       "  </thead>\n",
       "  <tbody>\n",
       "  </tbody>\n",
       "</table>\n",
       "</div>"
      ],
      "text/plain": [
       "Empty DataFrame\n",
       "Columns: [timestamp, open, high, low, close, volume, unknown_col]\n",
       "Index: []"
      ]
     },
     "execution_count": 52,
     "metadata": {},
     "output_type": "execute_result"
    }
   ],
   "source": [
    "df_2021.loc[df_2021.duplicated(subset=[\"open\", \"high\", \"low\", \"close\", \"volume\"])]"
   ]
  },
  {
   "cell_type": "markdown",
   "id": "eef032db",
   "metadata": {},
   "source": [
    "## Take a specific period of time - [\"2019-02-18 00:00:00+00:00\"]"
   ]
  },
  {
   "cell_type": "code",
   "execution_count": 39,
   "id": "3356c210",
   "metadata": {
    "ExecuteTime": {
     "end_time": "2022-05-02T14:22:04.041620Z",
     "start_time": "2022-05-02T14:22:04.027233Z"
    }
   },
   "outputs": [
    {
     "name": "stdout",
     "output_type": "stream",
     "text": [
      "Both datasets have the same length: False\n"
     ]
    }
   ],
   "source": [
    "ccxt_ada_nans = ada_kucoin_ccxt.loc[\n",
    "    (ada_kucoin_ccxt.index > \"2019-02-18 00:00:00+00:00\")\n",
    "    & (ada_kucoin_ccxt[\"open\"].isna == True)\n",
    "]\n",
    "ccxt_exchange_ada = ccxt_kucoin_ada_data.loc[\n",
    "    (ccxt_kucoin_ada_data.index > \"2019-02-18 00:00:00+00:00\")\n",
    "]\n",
    "# Check that the lenght is identical.\n",
    "print(\n",
    "    f\"Both datasets have the same length: {len(ccxt_ada_nans)==len(ccxt_exchange_ada)}\"\n",
    ")"
   ]
  },
  {
   "cell_type": "code",
   "execution_count": 40,
   "id": "657a8153",
   "metadata": {
    "ExecuteTime": {
     "end_time": "2022-05-02T14:22:04.074327Z",
     "start_time": "2022-05-02T14:22:04.043883Z"
    },
    "scrolled": false
   },
   "outputs": [
    {
     "name": "stdout",
     "output_type": "stream",
     "text": [
      "Period of NaNs in CCXT:\n",
      "INFO  (0, 6)\n"
     ]
    },
    {
     "data": {
      "text/html": [
       "<div>\n",
       "<style scoped>\n",
       "    .dataframe tbody tr th:only-of-type {\n",
       "        vertical-align: middle;\n",
       "    }\n",
       "\n",
       "    .dataframe tbody tr th {\n",
       "        vertical-align: top;\n",
       "    }\n",
       "\n",
       "    .dataframe thead th {\n",
       "        text-align: right;\n",
       "    }\n",
       "</style>\n",
       "<table border=\"1\" class=\"dataframe\">\n",
       "  <thead>\n",
       "    <tr style=\"text-align: right;\">\n",
       "      <th></th>\n",
       "      <th>full_symbol</th>\n",
       "      <th>open</th>\n",
       "      <th>high</th>\n",
       "      <th>low</th>\n",
       "      <th>close</th>\n",
       "      <th>volume</th>\n",
       "    </tr>\n",
       "    <tr>\n",
       "      <th>timestamp</th>\n",
       "      <th></th>\n",
       "      <th></th>\n",
       "      <th></th>\n",
       "      <th></th>\n",
       "      <th></th>\n",
       "      <th></th>\n",
       "    </tr>\n",
       "  </thead>\n",
       "  <tbody>\n",
       "  </tbody>\n",
       "</table>\n",
       "</div>"
      ],
      "text/plain": [
       "Empty DataFrame\n",
       "Columns: [full_symbol, open, high, low, close, volume]\n",
       "Index: []"
      ]
     },
     "metadata": {},
     "output_type": "display_data"
    },
    {
     "name": "stdout",
     "output_type": "stream",
     "text": [
      "\n",
      "******************************************\n",
      "\n",
      "Complete data:\n",
      "INFO  (1500, 7)\n"
     ]
    },
    {
     "data": {
      "text/html": [
       "<div>\n",
       "<style scoped>\n",
       "    .dataframe tbody tr th:only-of-type {\n",
       "        vertical-align: middle;\n",
       "    }\n",
       "\n",
       "    .dataframe tbody tr th {\n",
       "        vertical-align: top;\n",
       "    }\n",
       "\n",
       "    .dataframe thead th {\n",
       "        text-align: right;\n",
       "    }\n",
       "</style>\n",
       "<table border=\"1\" class=\"dataframe\">\n",
       "  <thead>\n",
       "    <tr style=\"text-align: right;\">\n",
       "      <th></th>\n",
       "      <th>timestamp</th>\n",
       "      <th>open</th>\n",
       "      <th>high</th>\n",
       "      <th>low</th>\n",
       "      <th>close</th>\n",
       "      <th>volume</th>\n",
       "      <th>end_download_timestamp</th>\n",
       "    </tr>\n",
       "  </thead>\n",
       "  <tbody>\n",
       "    <tr>\n",
       "      <th>2020-01-01 00:00:00+00:00</th>\n",
       "      <td>1577836800000</td>\n",
       "      <td>0.032806</td>\n",
       "      <td>0.032806</td>\n",
       "      <td>0.032774</td>\n",
       "      <td>0.032774</td>\n",
       "      <td>9384.6264</td>\n",
       "      <td>2022-05-02 14:20:58.953992+00:00</td>\n",
       "    </tr>\n",
       "    <tr>\n",
       "      <th>2020-01-01 00:01:00+00:00</th>\n",
       "      <td>1577836860000</td>\n",
       "      <td>0.032774</td>\n",
       "      <td>0.032774</td>\n",
       "      <td>0.032774</td>\n",
       "      <td>0.032774</td>\n",
       "      <td>0.0000</td>\n",
       "      <td>2022-05-02 14:20:58.953992+00:00</td>\n",
       "    </tr>\n",
       "    <tr>\n",
       "      <th>2020-01-01 00:02:00+00:00</th>\n",
       "      <td>1577836920000</td>\n",
       "      <td>0.032774</td>\n",
       "      <td>0.032774</td>\n",
       "      <td>0.032774</td>\n",
       "      <td>0.032774</td>\n",
       "      <td>0.0000</td>\n",
       "      <td>2022-05-02 14:20:58.953992+00:00</td>\n",
       "    </tr>\n",
       "    <tr>\n",
       "      <th>2020-01-01 00:03:00+00:00</th>\n",
       "      <td>1577836980000</td>\n",
       "      <td>0.032774</td>\n",
       "      <td>0.032774</td>\n",
       "      <td>0.032774</td>\n",
       "      <td>0.032774</td>\n",
       "      <td>0.0000</td>\n",
       "      <td>2022-05-02 14:20:58.953992+00:00</td>\n",
       "    </tr>\n",
       "    <tr>\n",
       "      <th>2020-01-01 00:04:00+00:00</th>\n",
       "      <td>1577837040000</td>\n",
       "      <td>0.032774</td>\n",
       "      <td>0.032774</td>\n",
       "      <td>0.032774</td>\n",
       "      <td>0.032774</td>\n",
       "      <td>0.0000</td>\n",
       "      <td>2022-05-02 14:20:58.953992+00:00</td>\n",
       "    </tr>\n",
       "  </tbody>\n",
       "</table>\n",
       "</div>"
      ],
      "text/plain": [
       "                               timestamp      open      high       low     close     volume            end_download_timestamp\n",
       "2020-01-01 00:00:00+00:00  1577836800000  0.032806  0.032806  0.032774  0.032774  9384.6264  2022-05-02 14:20:58.953992+00:00\n",
       "2020-01-01 00:01:00+00:00  1577836860000  0.032774  0.032774  0.032774  0.032774     0.0000  2022-05-02 14:20:58.953992+00:00\n",
       "2020-01-01 00:02:00+00:00  1577836920000  0.032774  0.032774  0.032774  0.032774     0.0000  2022-05-02 14:20:58.953992+00:00\n",
       "2020-01-01 00:03:00+00:00  1577836980000  0.032774  0.032774  0.032774  0.032774     0.0000  2022-05-02 14:20:58.953992+00:00\n",
       "2020-01-01 00:04:00+00:00  1577837040000  0.032774  0.032774  0.032774  0.032774     0.0000  2022-05-02 14:20:58.953992+00:00"
      ]
     },
     "metadata": {},
     "output_type": "display_data"
    }
   ],
   "source": [
    "print(\"Period of NaNs in CCXT:\")\n",
    "_LOG.info(ccxt_ada_nans.shape)\n",
    "display(ccxt_ada_nans.head())\n",
    "print(\"\\n******************************************\\n\")\n",
    "print(\"Complete data:\")\n",
    "_LOG.info(ccxt_exchange_ada.shape)\n",
    "display(ccxt_exchange_ada.head())"
   ]
  },
  {
   "cell_type": "code",
   "execution_count": 41,
   "id": "4ad0c8fa",
   "metadata": {
    "ExecuteTime": {
     "end_time": "2022-05-02T14:22:04.092571Z",
     "start_time": "2022-05-02T14:22:04.077380Z"
    }
   },
   "outputs": [
    {
     "name": "stdout",
     "output_type": "stream",
     "text": [
      "Both datasets have the same length: True\n"
     ]
    }
   ],
   "source": [
    "ccxt_ada_nans = ada_kucoin_ccxt.loc[\n",
    "    (ada_kucoin_ccxt.index < \"2019-02-18 00:00:00+00:00\")\n",
    "    & (ada_kucoin_ccxt[\"open\"].isna == True)\n",
    "]\n",
    "ccxt_exchange_ada = ccxt_kucoin_ada_data.loc[\n",
    "    (ccxt_kucoin_ada_data.index < \"2019-02-18 00:00:00+00:00\")\n",
    "]\n",
    "# Check that the lenght is identical.\n",
    "print(\n",
    "    f\"Both datasets have the same length: {len(ccxt_ada_nans)==len(ccxt_exchange_ada)}\"\n",
    ")"
   ]
  },
  {
   "cell_type": "code",
   "execution_count": 42,
   "id": "d4d494ad",
   "metadata": {
    "ExecuteTime": {
     "end_time": "2022-05-02T14:22:04.121455Z",
     "start_time": "2022-05-02T14:22:04.100240Z"
    }
   },
   "outputs": [
    {
     "name": "stdout",
     "output_type": "stream",
     "text": [
      "Period of NaNs in CCXT:\n",
      "INFO  (0, 6)\n"
     ]
    },
    {
     "data": {
      "text/html": [
       "<div>\n",
       "<style scoped>\n",
       "    .dataframe tbody tr th:only-of-type {\n",
       "        vertical-align: middle;\n",
       "    }\n",
       "\n",
       "    .dataframe tbody tr th {\n",
       "        vertical-align: top;\n",
       "    }\n",
       "\n",
       "    .dataframe thead th {\n",
       "        text-align: right;\n",
       "    }\n",
       "</style>\n",
       "<table border=\"1\" class=\"dataframe\">\n",
       "  <thead>\n",
       "    <tr style=\"text-align: right;\">\n",
       "      <th></th>\n",
       "      <th>full_symbol</th>\n",
       "      <th>open</th>\n",
       "      <th>high</th>\n",
       "      <th>low</th>\n",
       "      <th>close</th>\n",
       "      <th>volume</th>\n",
       "    </tr>\n",
       "    <tr>\n",
       "      <th>timestamp</th>\n",
       "      <th></th>\n",
       "      <th></th>\n",
       "      <th></th>\n",
       "      <th></th>\n",
       "      <th></th>\n",
       "      <th></th>\n",
       "    </tr>\n",
       "  </thead>\n",
       "  <tbody>\n",
       "  </tbody>\n",
       "</table>\n",
       "</div>"
      ],
      "text/plain": [
       "Empty DataFrame\n",
       "Columns: [full_symbol, open, high, low, close, volume]\n",
       "Index: []"
      ]
     },
     "metadata": {},
     "output_type": "display_data"
    },
    {
     "name": "stdout",
     "output_type": "stream",
     "text": [
      "\n",
      "******************************************\n",
      "\n",
      "Complete data:\n",
      "INFO  (0, 7)\n"
     ]
    },
    {
     "data": {
      "text/html": [
       "<div>\n",
       "<style scoped>\n",
       "    .dataframe tbody tr th:only-of-type {\n",
       "        vertical-align: middle;\n",
       "    }\n",
       "\n",
       "    .dataframe tbody tr th {\n",
       "        vertical-align: top;\n",
       "    }\n",
       "\n",
       "    .dataframe thead th {\n",
       "        text-align: right;\n",
       "    }\n",
       "</style>\n",
       "<table border=\"1\" class=\"dataframe\">\n",
       "  <thead>\n",
       "    <tr style=\"text-align: right;\">\n",
       "      <th></th>\n",
       "      <th>timestamp</th>\n",
       "      <th>open</th>\n",
       "      <th>high</th>\n",
       "      <th>low</th>\n",
       "      <th>close</th>\n",
       "      <th>volume</th>\n",
       "      <th>end_download_timestamp</th>\n",
       "    </tr>\n",
       "  </thead>\n",
       "  <tbody>\n",
       "  </tbody>\n",
       "</table>\n",
       "</div>"
      ],
      "text/plain": [
       "Empty DataFrame\n",
       "Columns: [timestamp, open, high, low, close, volume, end_download_timestamp]\n",
       "Index: []"
      ]
     },
     "metadata": {},
     "output_type": "display_data"
    }
   ],
   "source": [
    "print(\"Period of NaNs in CCXT:\")\n",
    "_LOG.info(ccxt_ada_nans.shape)\n",
    "display(ccxt_ada_nans.head())\n",
    "print(\"\\n******************************************\\n\")\n",
    "print(\"Complete data:\")\n",
    "_LOG.info(ccxt_exchange_ada.shape)\n",
    "display(ccxt_exchange_ada.head())"
   ]
  },
  {
   "cell_type": "code",
   "execution_count": 43,
   "id": "c03fda9a",
   "metadata": {
    "ExecuteTime": {
     "end_time": "2022-05-02T14:22:04.127331Z",
     "start_time": "2022-05-02T14:22:04.123508Z"
    }
   },
   "outputs": [
    {
     "name": "stdout",
     "output_type": "stream",
     "text": [
      "Start: 2020-01-01 00:00:00+00:00\n",
      "End: 2020-01-02 00:59:00+00:00\n"
     ]
    }
   ],
   "source": [
    "print(\n",
    "    f\"Start: {ccxt_kucoin_ada_data.index.min()}\\nEnd: {ccxt_kucoin_ada_data.index.max()}\"\n",
    ")"
   ]
  },
  {
   "cell_type": "markdown",
   "id": "01876f94",
   "metadata": {},
   "source": [
    "##  Take a specific period of time 2019-08-30, 2019-08-31"
   ]
  },
  {
   "cell_type": "code",
   "execution_count": 44,
   "id": "bdc2a891",
   "metadata": {
    "ExecuteTime": {
     "end_time": "2022-05-02T14:22:04.136435Z",
     "start_time": "2022-05-02T14:22:04.129296Z"
    }
   },
   "outputs": [
    {
     "data": {
      "text/plain": [
       "(Timestamp('2019-08-30 23:00:00+0000', tz='UTC'),\n",
       " Timestamp('2019-08-31 23:59:00+0000', tz='UTC'))"
      ]
     },
     "execution_count": 44,
     "metadata": {},
     "output_type": "execute_result"
    }
   ],
   "source": [
    "# Data is loaded for about 24 hours.\n",
    "df_2019.index.min(), df_2019.index.max()"
   ]
  },
  {
   "cell_type": "code",
   "execution_count": 45,
   "id": "db71e5b4",
   "metadata": {
    "ExecuteTime": {
     "end_time": "2022-05-02T14:22:04.185879Z",
     "start_time": "2022-05-02T14:22:04.138614Z"
    }
   },
   "outputs": [
    {
     "name": "stdout",
     "output_type": "stream",
     "text": [
      "INFO  (1456, 6)\n"
     ]
    },
    {
     "data": {
      "text/html": [
       "<div>\n",
       "<style scoped>\n",
       "    .dataframe tbody tr th:only-of-type {\n",
       "        vertical-align: middle;\n",
       "    }\n",
       "\n",
       "    .dataframe tbody tr th {\n",
       "        vertical-align: top;\n",
       "    }\n",
       "\n",
       "    .dataframe thead th {\n",
       "        text-align: right;\n",
       "    }\n",
       "</style>\n",
       "<table border=\"1\" class=\"dataframe\">\n",
       "  <thead>\n",
       "    <tr style=\"text-align: right;\">\n",
       "      <th></th>\n",
       "      <th>full_symbol</th>\n",
       "      <th>open</th>\n",
       "      <th>high</th>\n",
       "      <th>low</th>\n",
       "      <th>close</th>\n",
       "      <th>volume</th>\n",
       "    </tr>\n",
       "    <tr>\n",
       "      <th>timestamp</th>\n",
       "      <th></th>\n",
       "      <th></th>\n",
       "      <th></th>\n",
       "      <th></th>\n",
       "      <th></th>\n",
       "      <th></th>\n",
       "    </tr>\n",
       "  </thead>\n",
       "  <tbody>\n",
       "    <tr>\n",
       "      <th>2019-08-30 23:01:00+00:00</th>\n",
       "      <td>kucoin::ADA_USDT</td>\n",
       "      <td>NaN</td>\n",
       "      <td>NaN</td>\n",
       "      <td>NaN</td>\n",
       "      <td>NaN</td>\n",
       "      <td>NaN</td>\n",
       "    </tr>\n",
       "    <tr>\n",
       "      <th>2019-08-30 23:02:00+00:00</th>\n",
       "      <td>kucoin::ADA_USDT</td>\n",
       "      <td>NaN</td>\n",
       "      <td>NaN</td>\n",
       "      <td>NaN</td>\n",
       "      <td>NaN</td>\n",
       "      <td>NaN</td>\n",
       "    </tr>\n",
       "    <tr>\n",
       "      <th>2019-08-30 23:03:00+00:00</th>\n",
       "      <td>kucoin::ADA_USDT</td>\n",
       "      <td>NaN</td>\n",
       "      <td>NaN</td>\n",
       "      <td>NaN</td>\n",
       "      <td>NaN</td>\n",
       "      <td>NaN</td>\n",
       "    </tr>\n",
       "  </tbody>\n",
       "</table>\n",
       "</div>"
      ],
      "text/plain": [
       "                                full_symbol  open  high  low  close  volume\n",
       "timestamp                                                                  \n",
       "2019-08-30 23:01:00+00:00  kucoin::ADA_USDT   NaN   NaN  NaN    NaN     NaN\n",
       "2019-08-30 23:02:00+00:00  kucoin::ADA_USDT   NaN   NaN  NaN    NaN     NaN\n",
       "2019-08-30 23:03:00+00:00  kucoin::ADA_USDT   NaN   NaN  NaN    NaN     NaN"
      ]
     },
     "metadata": {},
     "output_type": "display_data"
    },
    {
     "name": "stdout",
     "output_type": "stream",
     "text": [
      "INFO  (1500, 7)\n"
     ]
    },
    {
     "data": {
      "text/html": [
       "<div>\n",
       "<style scoped>\n",
       "    .dataframe tbody tr th:only-of-type {\n",
       "        vertical-align: middle;\n",
       "    }\n",
       "\n",
       "    .dataframe tbody tr th {\n",
       "        vertical-align: top;\n",
       "    }\n",
       "\n",
       "    .dataframe thead th {\n",
       "        text-align: right;\n",
       "    }\n",
       "</style>\n",
       "<table border=\"1\" class=\"dataframe\">\n",
       "  <thead>\n",
       "    <tr style=\"text-align: right;\">\n",
       "      <th></th>\n",
       "      <th>timestamp</th>\n",
       "      <th>open</th>\n",
       "      <th>high</th>\n",
       "      <th>low</th>\n",
       "      <th>close</th>\n",
       "      <th>volume</th>\n",
       "      <th>unknown_col</th>\n",
       "    </tr>\n",
       "  </thead>\n",
       "  <tbody>\n",
       "    <tr>\n",
       "      <th>2019-08-31 23:59:00+00:00</th>\n",
       "      <td>1567295940000</td>\n",
       "      <td>0.045252</td>\n",
       "      <td>0.045252</td>\n",
       "      <td>0.045252</td>\n",
       "      <td>0.045252</td>\n",
       "      <td>0</td>\n",
       "      <td>0</td>\n",
       "    </tr>\n",
       "    <tr>\n",
       "      <th>2019-08-31 23:58:00+00:00</th>\n",
       "      <td>1567295880000</td>\n",
       "      <td>0.045252</td>\n",
       "      <td>0.045252</td>\n",
       "      <td>0.045252</td>\n",
       "      <td>0.045252</td>\n",
       "      <td>0</td>\n",
       "      <td>0</td>\n",
       "    </tr>\n",
       "    <tr>\n",
       "      <th>2019-08-31 23:57:00+00:00</th>\n",
       "      <td>1567295820000</td>\n",
       "      <td>0.045252</td>\n",
       "      <td>0.045252</td>\n",
       "      <td>0.045252</td>\n",
       "      <td>0.045252</td>\n",
       "      <td>0</td>\n",
       "      <td>0</td>\n",
       "    </tr>\n",
       "  </tbody>\n",
       "</table>\n",
       "</div>"
      ],
      "text/plain": [
       "                               timestamp      open      high       low     close volume unknown_col\n",
       "2019-08-31 23:59:00+00:00  1567295940000  0.045252  0.045252  0.045252  0.045252      0           0\n",
       "2019-08-31 23:58:00+00:00  1567295880000  0.045252  0.045252  0.045252  0.045252      0           0\n",
       "2019-08-31 23:57:00+00:00  1567295820000  0.045252  0.045252  0.045252  0.045252      0           0"
      ]
     },
     "metadata": {},
     "output_type": "display_data"
    }
   ],
   "source": [
    "ccxt_ada_nans_2019 = ada_kucoin_ccxt.loc[\n",
    "    (ada_kucoin_ccxt.index > \"2019-08-30 23:00:00+00:00\")\n",
    "    & (ada_kucoin_ccxt.index < \"2019-08-31 23:59:59+00:00\")\n",
    "    & (ada_kucoin_ccxt[\"open\"].isna() == True)\n",
    "]\n",
    "_LOG.info(ccxt_ada_nans_2019.shape)\n",
    "display(ccxt_ada_nans_2019.head(3))\n",
    "_LOG.info(df_2019.shape)\n",
    "display(df_2019.head(3))"
   ]
  },
  {
   "cell_type": "code",
   "execution_count": 46,
   "id": "9a27d60b",
   "metadata": {
    "ExecuteTime": {
     "end_time": "2022-05-02T14:22:04.193315Z",
     "start_time": "2022-05-02T14:22:04.187756Z"
    }
   },
   "outputs": [
    {
     "name": "stdout",
     "output_type": "stream",
     "text": [
      "Percentage of NaN data: 100.0\n"
     ]
    }
   ],
   "source": [
    "print(\n",
    "    f\"Percentage of NaN data: {100*len(ccxt_ada_nans_2019[ccxt_ada_nans_2019.open.isna()])/len(ccxt_ada_nans_2019)}\"\n",
    ")"
   ]
  },
  {
   "cell_type": "markdown",
   "id": "c8e47151",
   "metadata": {},
   "source": [
    "##  Take a specific period of time 2020-01-30, 2020-01-31"
   ]
  },
  {
   "cell_type": "code",
   "execution_count": 47,
   "id": "bfa0fa5f",
   "metadata": {
    "ExecuteTime": {
     "end_time": "2022-05-02T14:22:04.332068Z",
     "start_time": "2022-05-02T14:22:04.196469Z"
    }
   },
   "outputs": [
    {
     "data": {
      "text/plain": [
       "Int64Index([1, 2, 3, 4, 5, 6, 7, 8, 9, 10, 11, 12], dtype='int64', name='timestamp')"
      ]
     },
     "execution_count": 47,
     "metadata": {},
     "output_type": "execute_result"
    }
   ],
   "source": [
    "ccxt_ada_nans_2020 = ada_kucoin_ccxt.loc[ada_kucoin_ccxt[\"open\"].isna() == True]\n",
    "ccxt_ada_nans_2020.loc[ccxt_ada_nans_2020.index.year == 2020].index.month.unique()"
   ]
  },
  {
   "cell_type": "code",
   "execution_count": 48,
   "id": "3d2b2aa5",
   "metadata": {
    "ExecuteTime": {
     "end_time": "2022-05-02T14:22:04.339364Z",
     "start_time": "2022-05-02T14:22:04.333838Z"
    }
   },
   "outputs": [
    {
     "data": {
      "text/plain": [
       "(Timestamp('2020-01-30 23:00:00+0000', tz='UTC'),\n",
       " Timestamp('2020-01-31 23:59:00+0000', tz='UTC'))"
      ]
     },
     "execution_count": 48,
     "metadata": {},
     "output_type": "execute_result"
    }
   ],
   "source": [
    "df_2020.index.min(), df_2020.index.max()"
   ]
  },
  {
   "cell_type": "code",
   "execution_count": 49,
   "id": "6cec599a",
   "metadata": {
    "ExecuteTime": {
     "end_time": "2022-05-02T14:22:04.388382Z",
     "start_time": "2022-05-02T14:22:04.341395Z"
    }
   },
   "outputs": [
    {
     "name": "stdout",
     "output_type": "stream",
     "text": [
      "INFO  (865, 6)\n"
     ]
    },
    {
     "data": {
      "text/html": [
       "<div>\n",
       "<style scoped>\n",
       "    .dataframe tbody tr th:only-of-type {\n",
       "        vertical-align: middle;\n",
       "    }\n",
       "\n",
       "    .dataframe tbody tr th {\n",
       "        vertical-align: top;\n",
       "    }\n",
       "\n",
       "    .dataframe thead th {\n",
       "        text-align: right;\n",
       "    }\n",
       "</style>\n",
       "<table border=\"1\" class=\"dataframe\">\n",
       "  <thead>\n",
       "    <tr style=\"text-align: right;\">\n",
       "      <th></th>\n",
       "      <th>full_symbol</th>\n",
       "      <th>open</th>\n",
       "      <th>high</th>\n",
       "      <th>low</th>\n",
       "      <th>close</th>\n",
       "      <th>volume</th>\n",
       "    </tr>\n",
       "    <tr>\n",
       "      <th>timestamp</th>\n",
       "      <th></th>\n",
       "      <th></th>\n",
       "      <th></th>\n",
       "      <th></th>\n",
       "      <th></th>\n",
       "      <th></th>\n",
       "    </tr>\n",
       "  </thead>\n",
       "  <tbody>\n",
       "    <tr>\n",
       "      <th>2020-01-30 23:01:00+00:00</th>\n",
       "      <td>kucoin::ADA_USDT</td>\n",
       "      <td>NaN</td>\n",
       "      <td>NaN</td>\n",
       "      <td>NaN</td>\n",
       "      <td>NaN</td>\n",
       "      <td>NaN</td>\n",
       "    </tr>\n",
       "    <tr>\n",
       "      <th>2020-01-30 23:02:00+00:00</th>\n",
       "      <td>kucoin::ADA_USDT</td>\n",
       "      <td>NaN</td>\n",
       "      <td>NaN</td>\n",
       "      <td>NaN</td>\n",
       "      <td>NaN</td>\n",
       "      <td>NaN</td>\n",
       "    </tr>\n",
       "    <tr>\n",
       "      <th>2020-01-30 23:11:00+00:00</th>\n",
       "      <td>kucoin::ADA_USDT</td>\n",
       "      <td>NaN</td>\n",
       "      <td>NaN</td>\n",
       "      <td>NaN</td>\n",
       "      <td>NaN</td>\n",
       "      <td>NaN</td>\n",
       "    </tr>\n",
       "  </tbody>\n",
       "</table>\n",
       "</div>"
      ],
      "text/plain": [
       "                                full_symbol  open  high  low  close  volume\n",
       "timestamp                                                                  \n",
       "2020-01-30 23:01:00+00:00  kucoin::ADA_USDT   NaN   NaN  NaN    NaN     NaN\n",
       "2020-01-30 23:02:00+00:00  kucoin::ADA_USDT   NaN   NaN  NaN    NaN     NaN\n",
       "2020-01-30 23:11:00+00:00  kucoin::ADA_USDT   NaN   NaN  NaN    NaN     NaN"
      ]
     },
     "metadata": {},
     "output_type": "display_data"
    },
    {
     "name": "stdout",
     "output_type": "stream",
     "text": [
      "INFO  (1500, 7)\n"
     ]
    },
    {
     "data": {
      "text/html": [
       "<div>\n",
       "<style scoped>\n",
       "    .dataframe tbody tr th:only-of-type {\n",
       "        vertical-align: middle;\n",
       "    }\n",
       "\n",
       "    .dataframe tbody tr th {\n",
       "        vertical-align: top;\n",
       "    }\n",
       "\n",
       "    .dataframe thead th {\n",
       "        text-align: right;\n",
       "    }\n",
       "</style>\n",
       "<table border=\"1\" class=\"dataframe\">\n",
       "  <thead>\n",
       "    <tr style=\"text-align: right;\">\n",
       "      <th></th>\n",
       "      <th>timestamp</th>\n",
       "      <th>open</th>\n",
       "      <th>high</th>\n",
       "      <th>low</th>\n",
       "      <th>close</th>\n",
       "      <th>volume</th>\n",
       "      <th>unknown_col</th>\n",
       "    </tr>\n",
       "  </thead>\n",
       "  <tbody>\n",
       "    <tr>\n",
       "      <th>2020-01-31 23:59:00+00:00</th>\n",
       "      <td>1580515140000</td>\n",
       "      <td>0.05383</td>\n",
       "      <td>0.05383</td>\n",
       "      <td>0.05383</td>\n",
       "      <td>0.05383</td>\n",
       "      <td>0</td>\n",
       "      <td>0</td>\n",
       "    </tr>\n",
       "    <tr>\n",
       "      <th>2020-01-31 23:58:00+00:00</th>\n",
       "      <td>1580515080000</td>\n",
       "      <td>0.05383</td>\n",
       "      <td>0.05383</td>\n",
       "      <td>0.05383</td>\n",
       "      <td>0.05383</td>\n",
       "      <td>0</td>\n",
       "      <td>0</td>\n",
       "    </tr>\n",
       "    <tr>\n",
       "      <th>2020-01-31 23:57:00+00:00</th>\n",
       "      <td>1580515020000</td>\n",
       "      <td>0.05383</td>\n",
       "      <td>0.05383</td>\n",
       "      <td>0.05383</td>\n",
       "      <td>0.05383</td>\n",
       "      <td>0</td>\n",
       "      <td>0</td>\n",
       "    </tr>\n",
       "  </tbody>\n",
       "</table>\n",
       "</div>"
      ],
      "text/plain": [
       "                               timestamp     open     high      low    close volume unknown_col\n",
       "2020-01-31 23:59:00+00:00  1580515140000  0.05383  0.05383  0.05383  0.05383      0           0\n",
       "2020-01-31 23:58:00+00:00  1580515080000  0.05383  0.05383  0.05383  0.05383      0           0\n",
       "2020-01-31 23:57:00+00:00  1580515020000  0.05383  0.05383  0.05383  0.05383      0           0"
      ]
     },
     "metadata": {},
     "output_type": "display_data"
    }
   ],
   "source": [
    "ccxt_ada_nans_2020 = ada_kucoin_ccxt.loc[\n",
    "    (ada_kucoin_ccxt.index > \"2020-01-30 23:00:00+00:00\")\n",
    "    & (ada_kucoin_ccxt.index < \"2020-01-31 23:59:00+00:00\")\n",
    "    & (ada_kucoin_ccxt[\"open\"].isna() == True)\n",
    "]\n",
    "_LOG.info(ccxt_ada_nans_2020.shape)\n",
    "display(ccxt_ada_nans_2020.head(3))\n",
    "_LOG.info(df_2020.shape)\n",
    "display(df_2020.head(3))"
   ]
  },
  {
   "cell_type": "code",
   "execution_count": 50,
   "id": "54cd3c21",
   "metadata": {
    "ExecuteTime": {
     "end_time": "2022-05-02T14:22:04.398107Z",
     "start_time": "2022-05-02T14:22:04.391114Z"
    }
   },
   "outputs": [
    {
     "name": "stdout",
     "output_type": "stream",
     "text": [
      "Percentage of NaN data: 100.0\n"
     ]
    }
   ],
   "source": [
    "print(\n",
    "    f\"Percentage of NaN data: {100*len(ccxt_ada_nans_2020[ccxt_ada_nans_2020.open.isna()])/len(ccxt_ada_nans_2020)}\"\n",
    ")"
   ]
  },
  {
   "cell_type": "markdown",
   "id": "33951d10",
   "metadata": {},
   "source": [
    "##  Take a specific period of time 2021-12-29, 2021-12-30"
   ]
  },
  {
   "cell_type": "code",
   "execution_count": 9,
   "id": "d1a86538",
   "metadata": {
    "ExecuteTime": {
     "end_time": "2022-05-05T15:19:48.193106Z",
     "start_time": "2022-05-05T15:19:48.087150Z"
    }
   },
   "outputs": [
    {
     "data": {
      "text/plain": [
       "Int64Index([1, 2, 3, 4, 5, 6, 7, 8, 9, 10, 11, 12], dtype='int64', name='timestamp')"
      ]
     },
     "execution_count": 9,
     "metadata": {},
     "output_type": "execute_result"
    }
   ],
   "source": [
    "ccxt_ada_nans_2021 = ada_kucoin_ccxt.loc[ada_kucoin_ccxt[\"open\"].isna() == True]\n",
    "ccxt_ada_nans_2021.loc[ccxt_ada_nans_2021.index.year == 2021].index.month.unique()"
   ]
  },
  {
   "cell_type": "code",
   "execution_count": 52,
   "id": "d209482c",
   "metadata": {
    "ExecuteTime": {
     "end_time": "2022-05-02T14:22:04.520006Z",
     "start_time": "2022-05-02T14:22:04.515476Z"
    }
   },
   "outputs": [
    {
     "data": {
      "text/plain": [
       "(Timestamp('2021-12-29 23:00:00+0000', tz='UTC'),\n",
       " Timestamp('2021-12-30 23:59:00+0000', tz='UTC'))"
      ]
     },
     "execution_count": 52,
     "metadata": {},
     "output_type": "execute_result"
    }
   ],
   "source": [
    "df_2021.index.min(), df_2021.index.max()"
   ]
  },
  {
   "cell_type": "code",
   "execution_count": 37,
   "id": "50eb0d23",
   "metadata": {
    "ExecuteTime": {
     "end_time": "2022-05-05T00:31:07.062244Z",
     "start_time": "2022-05-05T00:31:07.026976Z"
    }
   },
   "outputs": [
    {
     "name": "stdout",
     "output_type": "stream",
     "text": [
      "INFO  (1120, 6)\n"
     ]
    },
    {
     "data": {
      "text/html": [
       "<div>\n",
       "<style scoped>\n",
       "    .dataframe tbody tr th:only-of-type {\n",
       "        vertical-align: middle;\n",
       "    }\n",
       "\n",
       "    .dataframe tbody tr th {\n",
       "        vertical-align: top;\n",
       "    }\n",
       "\n",
       "    .dataframe thead th {\n",
       "        text-align: right;\n",
       "    }\n",
       "</style>\n",
       "<table border=\"1\" class=\"dataframe\">\n",
       "  <thead>\n",
       "    <tr style=\"text-align: right;\">\n",
       "      <th></th>\n",
       "      <th>full_symbol</th>\n",
       "      <th>open</th>\n",
       "      <th>high</th>\n",
       "      <th>low</th>\n",
       "      <th>close</th>\n",
       "      <th>volume</th>\n",
       "    </tr>\n",
       "    <tr>\n",
       "      <th>timestamp</th>\n",
       "      <th></th>\n",
       "      <th></th>\n",
       "      <th></th>\n",
       "      <th></th>\n",
       "      <th></th>\n",
       "      <th></th>\n",
       "    </tr>\n",
       "  </thead>\n",
       "  <tbody>\n",
       "    <tr>\n",
       "      <th>2021-12-29 23:00:00+00:00</th>\n",
       "      <td>kucoin::ADA_USDT</td>\n",
       "      <td>NaN</td>\n",
       "      <td>NaN</td>\n",
       "      <td>NaN</td>\n",
       "      <td>NaN</td>\n",
       "      <td>NaN</td>\n",
       "    </tr>\n",
       "    <tr>\n",
       "      <th>2021-12-29 23:01:00+00:00</th>\n",
       "      <td>kucoin::ADA_USDT</td>\n",
       "      <td>NaN</td>\n",
       "      <td>NaN</td>\n",
       "      <td>NaN</td>\n",
       "      <td>NaN</td>\n",
       "      <td>NaN</td>\n",
       "    </tr>\n",
       "    <tr>\n",
       "      <th>2021-12-29 23:02:00+00:00</th>\n",
       "      <td>kucoin::ADA_USDT</td>\n",
       "      <td>NaN</td>\n",
       "      <td>NaN</td>\n",
       "      <td>NaN</td>\n",
       "      <td>NaN</td>\n",
       "      <td>NaN</td>\n",
       "    </tr>\n",
       "  </tbody>\n",
       "</table>\n",
       "</div>"
      ],
      "text/plain": [
       "                                full_symbol  open  high  low  close  volume\n",
       "timestamp                                                                  \n",
       "2021-12-29 23:00:00+00:00  kucoin::ADA_USDT   NaN   NaN  NaN    NaN     NaN\n",
       "2021-12-29 23:01:00+00:00  kucoin::ADA_USDT   NaN   NaN  NaN    NaN     NaN\n",
       "2021-12-29 23:02:00+00:00  kucoin::ADA_USDT   NaN   NaN  NaN    NaN     NaN"
      ]
     },
     "metadata": {},
     "output_type": "display_data"
    },
    {
     "name": "stdout",
     "output_type": "stream",
     "text": [
      "INFO  (1500, 7)\n"
     ]
    },
    {
     "data": {
      "text/html": [
       "<div>\n",
       "<style scoped>\n",
       "    .dataframe tbody tr th:only-of-type {\n",
       "        vertical-align: middle;\n",
       "    }\n",
       "\n",
       "    .dataframe tbody tr th {\n",
       "        vertical-align: top;\n",
       "    }\n",
       "\n",
       "    .dataframe thead th {\n",
       "        text-align: right;\n",
       "    }\n",
       "</style>\n",
       "<table border=\"1\" class=\"dataframe\">\n",
       "  <thead>\n",
       "    <tr style=\"text-align: right;\">\n",
       "      <th></th>\n",
       "      <th>timestamp</th>\n",
       "      <th>open</th>\n",
       "      <th>high</th>\n",
       "      <th>low</th>\n",
       "      <th>close</th>\n",
       "      <th>volume</th>\n",
       "      <th>unknown_col</th>\n",
       "    </tr>\n",
       "  </thead>\n",
       "  <tbody>\n",
       "    <tr>\n",
       "      <th>2021-12-29 23:02:00+00:00</th>\n",
       "      <td>1640818920000</td>\n",
       "      <td>1.369643</td>\n",
       "      <td>1.365747</td>\n",
       "      <td>1.369643</td>\n",
       "      <td>1.364126</td>\n",
       "      <td>21664.90675383</td>\n",
       "      <td>29611.52198402999301</td>\n",
       "    </tr>\n",
       "    <tr>\n",
       "      <th>2021-12-29 23:01:00+00:00</th>\n",
       "      <td>1640818860000</td>\n",
       "      <td>1.369883</td>\n",
       "      <td>1.369857</td>\n",
       "      <td>1.37028</td>\n",
       "      <td>1.369734</td>\n",
       "      <td>3386.14433004</td>\n",
       "      <td>4639.4334891938403</td>\n",
       "    </tr>\n",
       "    <tr>\n",
       "      <th>2021-12-29 23:00:00+00:00</th>\n",
       "      <td>1640818800000</td>\n",
       "      <td>1.365716</td>\n",
       "      <td>1.369638</td>\n",
       "      <td>1.3703</td>\n",
       "      <td>1.365463</td>\n",
       "      <td>33856.17692913</td>\n",
       "      <td>46340.58714585815058</td>\n",
       "    </tr>\n",
       "  </tbody>\n",
       "</table>\n",
       "</div>"
      ],
      "text/plain": [
       "                               timestamp      open      high       low     close          volume           unknown_col\n",
       "2021-12-29 23:02:00+00:00  1640818920000  1.369643  1.365747  1.369643  1.364126  21664.90675383  29611.52198402999301\n",
       "2021-12-29 23:01:00+00:00  1640818860000  1.369883  1.369857   1.37028  1.369734   3386.14433004    4639.4334891938403\n",
       "2021-12-29 23:00:00+00:00  1640818800000  1.365716  1.369638    1.3703  1.365463  33856.17692913  46340.58714585815058"
      ]
     },
     "metadata": {},
     "output_type": "display_data"
    }
   ],
   "source": [
    "ccxt_ada_nans_2021 = ada_kucoin_ccxt.loc[\n",
    "    (ada_kucoin_ccxt.index >= \"2021-12-29 23:00:00+00:00\")\n",
    "    & (ada_kucoin_ccxt.index <= \"2021-12-30 23:59:00+00:00\")\n",
    "    & (ada_kucoin_ccxt[\"open\"].isna() == True)\n",
    "]\n",
    "_LOG.info(ccxt_ada_nans_2021.shape)\n",
    "display(ccxt_ada_nans_2021.head(3))\n",
    "_LOG.info(df_2021.shape)\n",
    "display(df_2021.tail(3))"
   ]
  },
  {
   "cell_type": "code",
   "execution_count": 5,
   "id": "95319917",
   "metadata": {
    "ExecuteTime": {
     "end_time": "2022-05-05T15:06:21.472479Z",
     "start_time": "2022-05-05T15:06:11.288744Z"
    }
   },
   "outputs": [
    {
     "data": {
      "text/html": [
       "<div>\n",
       "<style scoped>\n",
       "    .dataframe tbody tr th:only-of-type {\n",
       "        vertical-align: middle;\n",
       "    }\n",
       "\n",
       "    .dataframe tbody tr th {\n",
       "        vertical-align: top;\n",
       "    }\n",
       "\n",
       "    .dataframe thead th {\n",
       "        text-align: right;\n",
       "    }\n",
       "</style>\n",
       "<table border=\"1\" class=\"dataframe\">\n",
       "  <thead>\n",
       "    <tr style=\"text-align: right;\">\n",
       "      <th></th>\n",
       "      <th>timestamp</th>\n",
       "      <th>open</th>\n",
       "      <th>high</th>\n",
       "      <th>low</th>\n",
       "      <th>close</th>\n",
       "      <th>volume</th>\n",
       "      <th>currency_pair</th>\n",
       "      <th>year</th>\n",
       "      <th>month</th>\n",
       "    </tr>\n",
       "    <tr>\n",
       "      <th>timestamp</th>\n",
       "      <th></th>\n",
       "      <th></th>\n",
       "      <th></th>\n",
       "      <th></th>\n",
       "      <th></th>\n",
       "      <th></th>\n",
       "      <th></th>\n",
       "      <th></th>\n",
       "      <th></th>\n",
       "    </tr>\n",
       "  </thead>\n",
       "  <tbody>\n",
       "    <tr>\n",
       "      <th>2021-12-30 17:40:00+00:00</th>\n",
       "      <td>1640886000000</td>\n",
       "      <td>1.361515</td>\n",
       "      <td>1.361515</td>\n",
       "      <td>1.360560</td>\n",
       "      <td>1.360662</td>\n",
       "      <td>3361.018436</td>\n",
       "      <td>ADA_USDT</td>\n",
       "      <td>2021</td>\n",
       "      <td>12</td>\n",
       "    </tr>\n",
       "    <tr>\n",
       "      <th>2021-12-30 17:41:00+00:00</th>\n",
       "      <td>1640886060000</td>\n",
       "      <td>1.360918</td>\n",
       "      <td>1.362703</td>\n",
       "      <td>1.360918</td>\n",
       "      <td>1.361989</td>\n",
       "      <td>11988.648070</td>\n",
       "      <td>ADA_USDT</td>\n",
       "      <td>2021</td>\n",
       "      <td>12</td>\n",
       "    </tr>\n",
       "    <tr>\n",
       "      <th>2021-12-30 17:42:00+00:00</th>\n",
       "      <td>1640886120000</td>\n",
       "      <td>1.362038</td>\n",
       "      <td>1.362531</td>\n",
       "      <td>1.361851</td>\n",
       "      <td>1.361851</td>\n",
       "      <td>4300.898300</td>\n",
       "      <td>ADA_USDT</td>\n",
       "      <td>2021</td>\n",
       "      <td>12</td>\n",
       "    </tr>\n",
       "  </tbody>\n",
       "</table>\n",
       "</div>"
      ],
      "text/plain": [
       "                               timestamp      open      high       low     close        volume currency_pair  year month\n",
       "timestamp                                                                                                               \n",
       "2021-12-30 17:40:00+00:00  1640886000000  1.361515  1.361515  1.360560  1.360662   3361.018436      ADA_USDT  2021    12\n",
       "2021-12-30 17:41:00+00:00  1640886060000  1.360918  1.362703  1.360918  1.361989  11988.648070      ADA_USDT  2021    12\n",
       "2021-12-30 17:42:00+00:00  1640886120000  1.362038  1.362531  1.361851  1.361851   4300.898300      ADA_USDT  2021    12"
      ]
     },
     "execution_count": 5,
     "metadata": {},
     "output_type": "execute_result"
    }
   ],
   "source": [
    "# Take a look at data from s3 using hparque.from_parquet.\n",
    "file_path = \"s3://cryptokaizen-data/historical/ccxt/latest/kucoin\"\n",
    "data = hparque.from_parquet(file_path, aws_profile=\"ck\")\n",
    "data_loc = data.loc[\n",
    "    (data.index >= \"2021-12-29 23:00:00+00:00\")\n",
    "    & (data.index <= \"2021-12-30 23:59:00+00:00\")\n",
    "    & (data[\"currency_pair\"] == \"ADA_USDT\")\n",
    "]\n",
    "data_loc.head(3)"
   ]
  },
  {
   "cell_type": "code",
   "execution_count": 42,
   "id": "97b32107",
   "metadata": {
    "ExecuteTime": {
     "end_time": "2022-05-05T00:57:14.085892Z",
     "start_time": "2022-05-05T00:57:14.076570Z"
    }
   },
   "outputs": [
    {
     "data": {
      "text/html": [
       "<div>\n",
       "<style scoped>\n",
       "    .dataframe tbody tr th:only-of-type {\n",
       "        vertical-align: middle;\n",
       "    }\n",
       "\n",
       "    .dataframe tbody tr th {\n",
       "        vertical-align: top;\n",
       "    }\n",
       "\n",
       "    .dataframe thead th {\n",
       "        text-align: right;\n",
       "    }\n",
       "</style>\n",
       "<table border=\"1\" class=\"dataframe\">\n",
       "  <thead>\n",
       "    <tr style=\"text-align: right;\">\n",
       "      <th></th>\n",
       "      <th>timestamp</th>\n",
       "      <th>open</th>\n",
       "      <th>high</th>\n",
       "      <th>low</th>\n",
       "      <th>close</th>\n",
       "      <th>volume</th>\n",
       "      <th>currency_pair</th>\n",
       "      <th>year</th>\n",
       "      <th>month</th>\n",
       "    </tr>\n",
       "    <tr>\n",
       "      <th>timestamp</th>\n",
       "      <th></th>\n",
       "      <th></th>\n",
       "      <th></th>\n",
       "      <th></th>\n",
       "      <th></th>\n",
       "      <th></th>\n",
       "      <th></th>\n",
       "      <th></th>\n",
       "      <th></th>\n",
       "    </tr>\n",
       "  </thead>\n",
       "  <tbody>\n",
       "  </tbody>\n",
       "</table>\n",
       "</div>"
      ],
      "text/plain": [
       "Empty DataFrame\n",
       "Columns: [timestamp, open, high, low, close, volume, currency_pair, year, month]\n",
       "Index: []"
      ]
     },
     "execution_count": 42,
     "metadata": {},
     "output_type": "execute_result"
    }
   ],
   "source": [
    "data_loc.loc[data_loc[\"open\"].isna()]"
   ]
  },
  {
   "cell_type": "markdown",
   "id": "fa508648",
   "metadata": {},
   "source": [
    "Data from S3 is full. Apparently data loss is related to `_read_data_for_multiple_symbols` (`CcxtHistoricalPqByTileClient` uses in `read_data` see parent class.)"
   ]
  },
  {
   "cell_type": "code",
   "execution_count": 54,
   "id": "bebccda0",
   "metadata": {
    "ExecuteTime": {
     "end_time": "2022-05-02T14:22:04.583498Z",
     "start_time": "2022-05-02T14:22:04.569987Z"
    }
   },
   "outputs": [
    {
     "name": "stdout",
     "output_type": "stream",
     "text": [
      "INFO  (0, 7)\n"
     ]
    },
    {
     "data": {
      "text/html": [
       "<div>\n",
       "<style scoped>\n",
       "    .dataframe tbody tr th:only-of-type {\n",
       "        vertical-align: middle;\n",
       "    }\n",
       "\n",
       "    .dataframe tbody tr th {\n",
       "        vertical-align: top;\n",
       "    }\n",
       "\n",
       "    .dataframe thead th {\n",
       "        text-align: right;\n",
       "    }\n",
       "</style>\n",
       "<table border=\"1\" class=\"dataframe\">\n",
       "  <thead>\n",
       "    <tr style=\"text-align: right;\">\n",
       "      <th></th>\n",
       "      <th>timestamp</th>\n",
       "      <th>open</th>\n",
       "      <th>high</th>\n",
       "      <th>low</th>\n",
       "      <th>close</th>\n",
       "      <th>volume</th>\n",
       "      <th>unknown_col</th>\n",
       "    </tr>\n",
       "  </thead>\n",
       "  <tbody>\n",
       "  </tbody>\n",
       "</table>\n",
       "</div>"
      ],
      "text/plain": [
       "Empty DataFrame\n",
       "Columns: [timestamp, open, high, low, close, volume, unknown_col]\n",
       "Index: []"
      ]
     },
     "execution_count": 54,
     "metadata": {},
     "output_type": "execute_result"
    }
   ],
   "source": [
    "df_2021_nans = df_2021.loc[(df_2021[\"volume\"] == \"0\")]\n",
    "_LOG.info(df_2021_nans.shape)\n",
    "df_2021_nans.head(3)"
   ]
  },
  {
   "cell_type": "code",
   "execution_count": 55,
   "id": "bfaca3fb",
   "metadata": {
    "ExecuteTime": {
     "end_time": "2022-05-02T14:22:04.590155Z",
     "start_time": "2022-05-02T14:22:04.586010Z"
    }
   },
   "outputs": [
    {
     "name": "stdout",
     "output_type": "stream",
     "text": [
      "Percentage of NaN data: 100.0\n"
     ]
    }
   ],
   "source": [
    "print(\n",
    "    f\"Percentage of NaN data: {100*len(ccxt_ada_nans_2020[ccxt_ada_nans_2020.open.isna()])/len(ccxt_ada_nans_2020)}\"\n",
    ")"
   ]
  },
  {
   "cell_type": "markdown",
   "id": "953210d1",
   "metadata": {},
   "source": [
    "# Summary\n",
    "\n",
    "## Data of 2019 and 2020 have following common pattern: `volume = 0`, columns `open`, `close`, `high`, `low` have the same value in the row. Apparently this type of data becomes NaNs. However, data of 2021 doesn't have that pattern and still has NaNs in loaded via `CCXT` client.\n",
    "\n",
    "## Comparison of NaNs for `CCXT`, `Extractor`, `Client` shows that NaNs appear in the client.\n",
    "\n",
    "\n",
    "|      |       CCXT           |             ||              Extractor  |       |           Client      |  |\n",
    "|------|--------------|---------------------|-|---------------------|-----------|----------------------|-----------|\n",
    "|date  | Number of NaN rows % | Total number of rows| Number of `volume=0` %| Number of NaN rows % | Total number of rows| Number of NaN rows % | Total number of rows|\n",
    "|2019-08-30, 2019-08-31 |0|1500 | 97.53% | 0 | 1500 |97.07% | 1500 |\n",
    "|2020-01-30, 2020-01-31| 0 |1500 | 66.93%| 0| 1500 |56.67% | 1500 |\n",
    "|2021-12-29, 2021-12-30| 0 |1500|0 | 0 | 1500| 74.6% | 1500|"
   ]
  },
  {
   "cell_type": "code",
   "execution_count": 58,
   "id": "03d3b27f",
   "metadata": {
    "ExecuteTime": {
     "end_time": "2022-05-05T17:01:35.898967Z",
     "start_time": "2022-05-05T17:01:35.830337Z"
    }
   },
   "outputs": [
    {
     "name": "stdout",
     "output_type": "stream",
     "text": [
      "INFO  df1_no_nan (380, 9)\n",
      "INFO  df2_nan(1120, 6)\n"
     ]
    }
   ],
   "source": [
    "# Data loaded with `from_parquet()`.\n",
    "df1 = data_loc.copy()\n",
    "df1_no_nan = df1.loc[df1[\"open\"].isna() == False]\n",
    "_LOG.info(f\"df1_no_nan {df1_no_nan.shape}\")\n",
    "# Data loaded with `CcxtHistoricalPqByTileClient`.\n",
    "df2 = ada_kucoin_ccxt.copy()\n",
    "df2_nan = df2.loc[\n",
    "    (ada_kucoin_ccxt.index >= \"2021-12-29 23:00:00+00:00\")\n",
    "    & (ada_kucoin_ccxt.index <= \"2021-12-30 23:59:00+00:00\")\n",
    "    & (ada_kucoin_ccxt[\"open\"].isna() == True)\n",
    "]\n",
    "_LOG.info(f\"df2_nan{df2_nan.shape}\")"
   ]
  },
  {
   "cell_type": "code",
   "execution_count": 27,
   "id": "d938e63f",
   "metadata": {
    "ExecuteTime": {
     "end_time": "2022-05-05T15:34:33.472807Z",
     "start_time": "2022-05-05T15:34:33.468556Z"
    }
   },
   "outputs": [
    {
     "name": "stdout",
     "output_type": "stream",
     "text": [
      "% of NaNs in data loaded with `from_parquet()`: 0.0\n",
      "% of NaNs in data loaded with `CcxtHistoricalPqByTileClient`: 0.08168468835103411\n"
     ]
    }
   ],
   "source": [
    "print(\n",
    "    f\"% of NaNs in data loaded with `from_parquet()`: {len(df1.loc[df1['open'].isna()]) * 100 / len(df1)}\"\n",
    ")\n",
    "print(\n",
    "    f\"% of NaNs in data loaded with `CcxtHistoricalPqByTileClient`: {len(df2_nan) * 100 / len(df2)}\"\n",
    ")"
   ]
  },
  {
   "cell_type": "code",
   "execution_count": 59,
   "id": "27438e52",
   "metadata": {
    "ExecuteTime": {
     "end_time": "2022-05-05T17:01:52.278569Z",
     "start_time": "2022-05-05T17:01:52.253902Z"
    },
    "scrolled": true
   },
   "outputs": [
    {
     "name": "stdout",
     "output_type": "stream",
     "text": [
      "INFO  (1120, 12)\n"
     ]
    },
    {
     "data": {
      "text/html": [
       "<div>\n",
       "<style scoped>\n",
       "    .dataframe tbody tr th:only-of-type {\n",
       "        vertical-align: middle;\n",
       "    }\n",
       "\n",
       "    .dataframe tbody tr th {\n",
       "        vertical-align: top;\n",
       "    }\n",
       "\n",
       "    .dataframe thead th {\n",
       "        text-align: right;\n",
       "    }\n",
       "</style>\n",
       "<table border=\"1\" class=\"dataframe\">\n",
       "  <thead>\n",
       "    <tr style=\"text-align: right;\">\n",
       "      <th></th>\n",
       "      <th>full_symbol</th>\n",
       "      <th>timestamp</th>\n",
       "      <th>open_x</th>\n",
       "      <th>high_x</th>\n",
       "      <th>low_x</th>\n",
       "      <th>close_x</th>\n",
       "      <th>volume_x</th>\n",
       "      <th>open_y</th>\n",
       "      <th>high_y</th>\n",
       "      <th>low_y</th>\n",
       "      <th>close_y</th>\n",
       "      <th>volume_y</th>\n",
       "    </tr>\n",
       "  </thead>\n",
       "  <tbody>\n",
       "    <tr>\n",
       "      <th>0</th>\n",
       "      <td>kucoin::ADA_USDT</td>\n",
       "      <td>2021-12-29 23:00:00+00:00</td>\n",
       "      <td>NaN</td>\n",
       "      <td>NaN</td>\n",
       "      <td>NaN</td>\n",
       "      <td>NaN</td>\n",
       "      <td>NaN</td>\n",
       "      <td>NaN</td>\n",
       "      <td>NaN</td>\n",
       "      <td>NaN</td>\n",
       "      <td>NaN</td>\n",
       "      <td>NaN</td>\n",
       "    </tr>\n",
       "    <tr>\n",
       "      <th>1</th>\n",
       "      <td>kucoin::ADA_USDT</td>\n",
       "      <td>2021-12-29 23:01:00+00:00</td>\n",
       "      <td>NaN</td>\n",
       "      <td>NaN</td>\n",
       "      <td>NaN</td>\n",
       "      <td>NaN</td>\n",
       "      <td>NaN</td>\n",
       "      <td>NaN</td>\n",
       "      <td>NaN</td>\n",
       "      <td>NaN</td>\n",
       "      <td>NaN</td>\n",
       "      <td>NaN</td>\n",
       "    </tr>\n",
       "    <tr>\n",
       "      <th>2</th>\n",
       "      <td>kucoin::ADA_USDT</td>\n",
       "      <td>2021-12-29 23:02:00+00:00</td>\n",
       "      <td>NaN</td>\n",
       "      <td>NaN</td>\n",
       "      <td>NaN</td>\n",
       "      <td>NaN</td>\n",
       "      <td>NaN</td>\n",
       "      <td>NaN</td>\n",
       "      <td>NaN</td>\n",
       "      <td>NaN</td>\n",
       "      <td>NaN</td>\n",
       "      <td>NaN</td>\n",
       "    </tr>\n",
       "    <tr>\n",
       "      <th>3</th>\n",
       "      <td>kucoin::ADA_USDT</td>\n",
       "      <td>2021-12-29 23:03:00+00:00</td>\n",
       "      <td>NaN</td>\n",
       "      <td>NaN</td>\n",
       "      <td>NaN</td>\n",
       "      <td>NaN</td>\n",
       "      <td>NaN</td>\n",
       "      <td>NaN</td>\n",
       "      <td>NaN</td>\n",
       "      <td>NaN</td>\n",
       "      <td>NaN</td>\n",
       "      <td>NaN</td>\n",
       "    </tr>\n",
       "    <tr>\n",
       "      <th>4</th>\n",
       "      <td>kucoin::ADA_USDT</td>\n",
       "      <td>2021-12-29 23:04:00+00:00</td>\n",
       "      <td>NaN</td>\n",
       "      <td>NaN</td>\n",
       "      <td>NaN</td>\n",
       "      <td>NaN</td>\n",
       "      <td>NaN</td>\n",
       "      <td>NaN</td>\n",
       "      <td>NaN</td>\n",
       "      <td>NaN</td>\n",
       "      <td>NaN</td>\n",
       "      <td>NaN</td>\n",
       "    </tr>\n",
       "  </tbody>\n",
       "</table>\n",
       "</div>"
      ],
      "text/plain": [
       "        full_symbol                 timestamp  open_x  high_x  low_x  close_x  volume_x  open_y  high_y  low_y  close_y  volume_y\n",
       "0  kucoin::ADA_USDT 2021-12-29 23:00:00+00:00     NaN     NaN    NaN      NaN       NaN     NaN     NaN    NaN      NaN       NaN\n",
       "1  kucoin::ADA_USDT 2021-12-29 23:01:00+00:00     NaN     NaN    NaN      NaN       NaN     NaN     NaN    NaN      NaN       NaN\n",
       "2  kucoin::ADA_USDT 2021-12-29 23:02:00+00:00     NaN     NaN    NaN      NaN       NaN     NaN     NaN    NaN      NaN       NaN\n",
       "3  kucoin::ADA_USDT 2021-12-29 23:03:00+00:00     NaN     NaN    NaN      NaN       NaN     NaN     NaN    NaN      NaN       NaN\n",
       "4  kucoin::ADA_USDT 2021-12-29 23:04:00+00:00     NaN     NaN    NaN      NaN       NaN     NaN     NaN    NaN      NaN       NaN"
      ]
     },
     "execution_count": 59,
     "metadata": {},
     "output_type": "execute_result"
    }
   ],
   "source": [
    "df1_no_nan = df1_no_nan.drop(\n",
    "    columns=[\"currency_pair\", \"year\", \"month\", \"timestamp\"], axis=1\n",
    ")\n",
    "df1_no_nan = df1_no_nan.reset_index()\n",
    "full_symbol = full_symbols * len(df1_no_nan)\n",
    "df1_no_nan.insert(0, \"full_symbol\", full_symbol)\n",
    "df1_no_nan.index.name = None\n",
    "df2_nan = df2_nan.reset_index()\n",
    "df2_nan.index.name = None\n",
    "df3 = pd.merge(df1_no_nan, df2_nan, how=\"right\", on=[\"full_symbol\", \"timestamp\"])\n",
    "_LOG.info(df3.shape)\n",
    "df3.head()"
   ]
  },
  {
   "cell_type": "code",
   "execution_count": 69,
   "id": "5ea11f63",
   "metadata": {
    "ExecuteTime": {
     "end_time": "2022-05-05T17:12:47.082883Z",
     "start_time": "2022-05-05T17:12:47.072802Z"
    }
   },
   "outputs": [
    {
     "data": {
      "text/html": [
       "<div>\n",
       "<style scoped>\n",
       "    .dataframe tbody tr th:only-of-type {\n",
       "        vertical-align: middle;\n",
       "    }\n",
       "\n",
       "    .dataframe tbody tr th {\n",
       "        vertical-align: top;\n",
       "    }\n",
       "\n",
       "    .dataframe thead th {\n",
       "        text-align: right;\n",
       "    }\n",
       "</style>\n",
       "<table border=\"1\" class=\"dataframe\">\n",
       "  <thead>\n",
       "    <tr style=\"text-align: right;\">\n",
       "      <th></th>\n",
       "      <th>timestamp</th>\n",
       "      <th>open</th>\n",
       "      <th>high</th>\n",
       "      <th>low</th>\n",
       "      <th>close</th>\n",
       "      <th>volume</th>\n",
       "      <th>currency_pair</th>\n",
       "      <th>year</th>\n",
       "      <th>month</th>\n",
       "    </tr>\n",
       "    <tr>\n",
       "      <th>timestamp</th>\n",
       "      <th></th>\n",
       "      <th></th>\n",
       "      <th></th>\n",
       "      <th></th>\n",
       "      <th></th>\n",
       "      <th></th>\n",
       "      <th></th>\n",
       "      <th></th>\n",
       "      <th></th>\n",
       "    </tr>\n",
       "  </thead>\n",
       "  <tbody>\n",
       "  </tbody>\n",
       "</table>\n",
       "</div>"
      ],
      "text/plain": [
       "Empty DataFrame\n",
       "Columns: [timestamp, open, high, low, close, volume, currency_pair, year, month]\n",
       "Index: []"
      ]
     },
     "execution_count": 69,
     "metadata": {},
     "output_type": "execute_result"
    }
   ],
   "source": [
    "df1.loc[\n",
    "    (df1.index >= \"2021-12-29 23:00:00+00:00\")\n",
    "    & (df1.index <= \"2021-12-30 17:39:00+00:00\")\n",
    "]"
   ]
  },
  {
   "cell_type": "markdown",
   "id": "631d08d2",
   "metadata": {},
   "source": [
    "S3 has no data in between `2021-12-29 23:00:00+00:00` and `2021-12-30 17:39:00+00:00`. Data loaded with client (`resample_1min = True`) has NaNs in between `2021-12-29 23:00:00+00:00` and `2021-12-30 17:39:00+00:00`, so it's a resampling."
   ]
  },
  {
   "cell_type": "markdown",
   "id": "ccb74d16",
   "metadata": {},
   "source": [
    "# `gateio` case"
   ]
  },
  {
   "cell_type": "code",
   "execution_count": 8,
   "id": "3632b22f",
   "metadata": {
    "ExecuteTime": {
     "end_time": "2022-05-06T17:01:31.513491Z",
     "start_time": "2022-05-06T17:01:31.508789Z"
    },
    "collapsed": true
   },
   "outputs": [
    {
     "name": "stdout",
     "output_type": "stream",
     "text": [
      "INFO  txt_tmp=\n",
      "{\n",
      "  \"CCXT\": {\n",
      "    \"binance\": [\n",
      "      \"ADA_USDT\",\n",
      "      \"AVAX_USDT\",\n",
      "      \"BNB_USDT\",\n",
      "      \"BTC_USDT\",\n",
      "      \"DOGE_USDT\",\n",
      "      \"EOS_USDT\",\n",
      "      \"ETH_USDT\",\n",
      "      \"LINK_USDT\",\n",
      "      \"SOL_USDT\"\n",
      "    ],\n",
      "    \"ftx\": [\n",
      "      \"BNB_USDT\",\n",
      "      \"BTC_USDT\",\n",
      "      \"DOGE_USDT\",\n",
      "      \"ETH_USDT\",\n",
      "      \"LINK_USDT\",\n",
      "      \"SOL_USDT\",\n",
      "      \"XRP_USDT\"\n",
      "    ],\n",
      "    \"gateio\": [\n",
      "      \"ADA_USDT\",\n",
      "      \"AVAX_USDT\",\n",
      "      \"BNB_USDT\",\n",
      "      \"BTC_USDT\",\n",
      "      \"DOGE_USDT\",\n",
      "      \"EOS_USDT\",\n",
      "      \"ETH_USDT\",\n",
      "      \"FIL_USDT\",\n",
      "      \"LINK_USDT\",\n",
      "      \"SOL_USDT\",\n",
      "      \"XRP_USDT\"\n",
      "    ],\n",
      "    \"kucoin\": [\n",
      "      \"ADA_USDT\",\n",
      "      \"AVAX_USDT\",\n",
      "      \"BNB_USDT\",\n",
      "      \"BTC_USDT\",\n",
      "      \"DOGE_USDT\",\n",
      "      \"EOS_USDT\",\n",
      "      \"ETH_USDT\",\n",
      "      \"FIL_USDT\",\n",
      "      \"LINK_USDT\",\n",
      "      \"SOL_USDT\",\n",
      "      \"XRP_USDT\"\n",
      "    ]\n",
      "  }\n",
      "}\n",
      "\n"
     ]
    }
   ],
   "source": [
    "# Initiate the client with resample_1min = False.\n",
    "historical_client_no_resampling = icdcl.CcxtHistoricalPqByTileClient(\n",
    "    universe_version,\n",
    "    True,\n",
    "    root_dir,\n",
    "    partition_mode,\n",
    "    data_snapshot=data_snapshot,\n",
    "    aws_profile=aws_profile,\n",
    ")"
   ]
  },
  {
   "cell_type": "markdown",
   "id": "d58de3b2",
   "metadata": {},
   "source": [
    "## `full_symbol = \"gateio::ADA_USDT\"`"
   ]
  },
  {
   "cell_type": "code",
   "execution_count": 10,
   "id": "a8012543",
   "metadata": {
    "ExecuteTime": {
     "end_time": "2022-05-06T18:24:31.234109Z",
     "start_time": "2022-05-06T18:24:07.074286Z"
    }
   },
   "outputs": [],
   "source": [
    "# Load historical data from CCXT.\n",
    "full_symbols = [\"gateio::ADA_USDT\"]\n",
    "start_date = None\n",
    "end_date = None\n",
    "ada_gateio_ccxt = historical_client_no_resampling.read_data(\n",
    "    full_symbols, start_date, end_date, columns=None\n",
    ")"
   ]
  },
  {
   "cell_type": "code",
   "execution_count": 7,
   "id": "3f3dca8e",
   "metadata": {
    "ExecuteTime": {
     "end_time": "2022-05-02T14:25:03.089432Z",
     "start_time": "2022-05-02T14:25:03.069903Z"
    },
    "collapsed": true
   },
   "outputs": [
    {
     "name": "stdout",
     "output_type": "stream",
     "text": [
      "INFO  (258226, 6)\n"
     ]
    },
    {
     "data": {
      "text/html": [
       "<div>\n",
       "<style scoped>\n",
       "    .dataframe tbody tr th:only-of-type {\n",
       "        vertical-align: middle;\n",
       "    }\n",
       "\n",
       "    .dataframe tbody tr th {\n",
       "        vertical-align: top;\n",
       "    }\n",
       "\n",
       "    .dataframe thead th {\n",
       "        text-align: right;\n",
       "    }\n",
       "</style>\n",
       "<table border=\"1\" class=\"dataframe\">\n",
       "  <thead>\n",
       "    <tr style=\"text-align: right;\">\n",
       "      <th></th>\n",
       "      <th>full_symbol</th>\n",
       "      <th>open</th>\n",
       "      <th>high</th>\n",
       "      <th>low</th>\n",
       "      <th>close</th>\n",
       "      <th>volume</th>\n",
       "    </tr>\n",
       "    <tr>\n",
       "      <th>timestamp</th>\n",
       "      <th></th>\n",
       "      <th></th>\n",
       "      <th></th>\n",
       "      <th></th>\n",
       "      <th></th>\n",
       "      <th></th>\n",
       "    </tr>\n",
       "  </thead>\n",
       "  <tbody>\n",
       "    <tr>\n",
       "      <th>2021-06-22 20:35:00+00:00</th>\n",
       "      <td>gateio::ADA_USDT</td>\n",
       "      <td>1.1653</td>\n",
       "      <td>1.1731</td>\n",
       "      <td>1.1653</td>\n",
       "      <td>1.1719</td>\n",
       "      <td>11308.840492</td>\n",
       "    </tr>\n",
       "    <tr>\n",
       "      <th>2021-06-22 20:36:00+00:00</th>\n",
       "      <td>gateio::ADA_USDT</td>\n",
       "      <td>1.1722</td>\n",
       "      <td>1.1773</td>\n",
       "      <td>1.1719</td>\n",
       "      <td>1.1773</td>\n",
       "      <td>20749.607485</td>\n",
       "    </tr>\n",
       "    <tr>\n",
       "      <th>2021-06-22 20:37:00+00:00</th>\n",
       "      <td>gateio::ADA_USDT</td>\n",
       "      <td>1.1767</td>\n",
       "      <td>1.1773</td>\n",
       "      <td>1.1730</td>\n",
       "      <td>1.1749</td>\n",
       "      <td>21111.442053</td>\n",
       "    </tr>\n",
       "  </tbody>\n",
       "</table>\n",
       "</div>"
      ],
      "text/plain": [
       "                                full_symbol    open    high     low   close        volume\n",
       "timestamp                                                                                \n",
       "2021-06-22 20:35:00+00:00  gateio::ADA_USDT  1.1653  1.1731  1.1653  1.1719  11308.840492\n",
       "2021-06-22 20:36:00+00:00  gateio::ADA_USDT  1.1722  1.1773  1.1719  1.1773  20749.607485\n",
       "2021-06-22 20:37:00+00:00  gateio::ADA_USDT  1.1767  1.1773  1.1730  1.1749  21111.442053"
      ]
     },
     "execution_count": 7,
     "metadata": {},
     "output_type": "execute_result"
    }
   ],
   "source": [
    "_LOG.info(ada_gateio_ccxt.shape)\n",
    "ada_gateio_ccxt.head(3)"
   ]
  },
  {
   "cell_type": "code",
   "execution_count": 6,
   "id": "4fcf8263",
   "metadata": {
    "ExecuteTime": {
     "end_time": "2022-05-06T16:30:51.180119Z",
     "start_time": "2022-05-06T16:30:51.159216Z"
    }
   },
   "outputs": [
    {
     "ename": "NameError",
     "evalue": "name 'ada_gateio_ccxt' is not defined",
     "output_type": "error",
     "traceback": [
      "\u001b[0;31m---------------------------------------------------------------------------\u001b[0m",
      "\u001b[0;31mNameError\u001b[0m                                 Traceback (most recent call last)",
      "Input \u001b[0;32mIn [6]\u001b[0m, in \u001b[0;36m<cell line: 1>\u001b[0;34m()\u001b[0m\n\u001b[0;32m----> 1\u001b[0m \u001b[43mada_gateio_ccxt\u001b[49m\u001b[38;5;241m.\u001b[39mloc[ada_gateio_ccxt[\u001b[38;5;124m\"\u001b[39m\u001b[38;5;124mvolume\u001b[39m\u001b[38;5;124m\"\u001b[39m]\u001b[38;5;241m.\u001b[39misna()]\n",
      "\u001b[0;31mNameError\u001b[0m: name 'ada_gateio_ccxt' is not defined"
     ]
    }
   ],
   "source": [
    "ada_gateio_ccxt.loc[ada_gateio_ccxt[\"volume\"].isna()]"
   ]
  },
  {
   "cell_type": "markdown",
   "id": "2dcafc91",
   "metadata": {},
   "source": [
    "NaNs for `full_symbol = \"gateio::ADA_USDT\"` and `resample_1min=False` data are absent."
   ]
  },
  {
   "cell_type": "code",
   "execution_count": 9,
   "id": "ffe3fef5",
   "metadata": {
    "ExecuteTime": {
     "end_time": "2022-05-02T14:25:18.176878Z",
     "start_time": "2022-05-02T14:25:18.055786Z"
    }
   },
   "outputs": [
    {
     "data": {
      "text/plain": [
       "False    258226\n",
       "dtype: int64"
      ]
     },
     "execution_count": 9,
     "metadata": {},
     "output_type": "execute_result"
    }
   ],
   "source": [
    "ada_duplicated_rows = ada_gateio_ccxt.duplicated()\n",
    "ada_duplicated_rows.value_counts()"
   ]
  },
  {
   "cell_type": "code",
   "execution_count": 10,
   "id": "04656e29",
   "metadata": {
    "ExecuteTime": {
     "end_time": "2022-05-02T14:25:21.521293Z",
     "start_time": "2022-05-02T14:25:21.493152Z"
    }
   },
   "outputs": [
    {
     "data": {
      "text/plain": [
       "False    258224\n",
       "True          2\n",
       "dtype: int64"
      ]
     },
     "execution_count": 10,
     "metadata": {},
     "output_type": "execute_result"
    }
   ],
   "source": [
    "ada_duplicated_index = ada_gateio_ccxt.index.duplicated()\n",
    "value_counts = pd.Series(ada_duplicated_index).value_counts()\n",
    "value_counts"
   ]
  },
  {
   "cell_type": "code",
   "execution_count": 11,
   "id": "1c9ad9a5",
   "metadata": {
    "ExecuteTime": {
     "end_time": "2022-05-02T14:25:23.242764Z",
     "start_time": "2022-05-02T14:25:23.239322Z"
    }
   },
   "outputs": [
    {
     "name": "stdout",
     "output_type": "stream",
     "text": [
      "% of duplicated index is 0.000775\n"
     ]
    }
   ],
   "source": [
    "duplicated_indexes = round((value_counts[1] * 100 / len(ada_gateio_ccxt)), 6)\n",
    "print(f\"% of duplicated index is {duplicated_indexes}\")"
   ]
  },
  {
   "cell_type": "code",
   "execution_count": 12,
   "id": "106f3be1",
   "metadata": {
    "ExecuteTime": {
     "end_time": "2022-05-02T14:25:24.476456Z",
     "start_time": "2022-05-02T14:25:24.461443Z"
    }
   },
   "outputs": [
    {
     "data": {
      "text/html": [
       "<div>\n",
       "<style scoped>\n",
       "    .dataframe tbody tr th:only-of-type {\n",
       "        vertical-align: middle;\n",
       "    }\n",
       "\n",
       "    .dataframe tbody tr th {\n",
       "        vertical-align: top;\n",
       "    }\n",
       "\n",
       "    .dataframe thead th {\n",
       "        text-align: right;\n",
       "    }\n",
       "</style>\n",
       "<table border=\"1\" class=\"dataframe\">\n",
       "  <thead>\n",
       "    <tr style=\"text-align: right;\">\n",
       "      <th></th>\n",
       "      <th>full_symbol</th>\n",
       "      <th>open</th>\n",
       "      <th>high</th>\n",
       "      <th>low</th>\n",
       "      <th>close</th>\n",
       "      <th>volume</th>\n",
       "    </tr>\n",
       "    <tr>\n",
       "      <th>timestamp</th>\n",
       "      <th></th>\n",
       "      <th></th>\n",
       "      <th></th>\n",
       "      <th></th>\n",
       "      <th></th>\n",
       "      <th></th>\n",
       "    </tr>\n",
       "  </thead>\n",
       "  <tbody>\n",
       "    <tr>\n",
       "      <th>2021-09-12 20:02:00+00:00</th>\n",
       "      <td>gateio::ADA_USDT</td>\n",
       "      <td>2.70609</td>\n",
       "      <td>2.70609</td>\n",
       "      <td>2.6178</td>\n",
       "      <td>2.65750</td>\n",
       "      <td>208163.682432</td>\n",
       "    </tr>\n",
       "    <tr>\n",
       "      <th>2021-09-18 16:22:00+00:00</th>\n",
       "      <td>gateio::ADA_USDT</td>\n",
       "      <td>2.37600</td>\n",
       "      <td>2.39000</td>\n",
       "      <td>2.3759</td>\n",
       "      <td>2.38769</td>\n",
       "      <td>235473.956787</td>\n",
       "    </tr>\n",
       "  </tbody>\n",
       "</table>\n",
       "</div>"
      ],
      "text/plain": [
       "                                full_symbol     open     high     low    close         volume\n",
       "timestamp                                                                                    \n",
       "2021-09-12 20:02:00+00:00  gateio::ADA_USDT  2.70609  2.70609  2.6178  2.65750  208163.682432\n",
       "2021-09-18 16:22:00+00:00  gateio::ADA_USDT  2.37600  2.39000  2.3759  2.38769  235473.956787"
      ]
     },
     "execution_count": 12,
     "metadata": {},
     "output_type": "execute_result"
    }
   ],
   "source": [
    "ada_gateio_ccxt.loc[ada_duplicated_index == True]"
   ]
  },
  {
   "cell_type": "code",
   "execution_count": 13,
   "id": "2ae9678f",
   "metadata": {
    "ExecuteTime": {
     "end_time": "2022-05-02T14:25:25.780513Z",
     "start_time": "2022-05-02T14:25:25.767994Z"
    }
   },
   "outputs": [
    {
     "data": {
      "text/html": [
       "<div>\n",
       "<style scoped>\n",
       "    .dataframe tbody tr th:only-of-type {\n",
       "        vertical-align: middle;\n",
       "    }\n",
       "\n",
       "    .dataframe tbody tr th {\n",
       "        vertical-align: top;\n",
       "    }\n",
       "\n",
       "    .dataframe thead th {\n",
       "        text-align: right;\n",
       "    }\n",
       "</style>\n",
       "<table border=\"1\" class=\"dataframe\">\n",
       "  <thead>\n",
       "    <tr style=\"text-align: right;\">\n",
       "      <th></th>\n",
       "      <th>full_symbol</th>\n",
       "      <th>open</th>\n",
       "      <th>high</th>\n",
       "      <th>low</th>\n",
       "      <th>close</th>\n",
       "      <th>volume</th>\n",
       "    </tr>\n",
       "    <tr>\n",
       "      <th>timestamp</th>\n",
       "      <th></th>\n",
       "      <th></th>\n",
       "      <th></th>\n",
       "      <th></th>\n",
       "      <th></th>\n",
       "      <th></th>\n",
       "    </tr>\n",
       "  </thead>\n",
       "  <tbody>\n",
       "    <tr>\n",
       "      <th>2021-09-12 20:02:00+00:00</th>\n",
       "      <td>gateio::ADA_USDT</td>\n",
       "      <td>2.70609</td>\n",
       "      <td>2.70609</td>\n",
       "      <td>2.6178</td>\n",
       "      <td>2.6575</td>\n",
       "      <td>208163.682432</td>\n",
       "    </tr>\n",
       "    <tr>\n",
       "      <th>2021-09-12 20:02:00+00:00</th>\n",
       "      <td>gateio::ADA_USDT</td>\n",
       "      <td>2.70609</td>\n",
       "      <td>2.70609</td>\n",
       "      <td>2.6178</td>\n",
       "      <td>2.6575</td>\n",
       "      <td>208163.682432</td>\n",
       "    </tr>\n",
       "  </tbody>\n",
       "</table>\n",
       "</div>"
      ],
      "text/plain": [
       "                                full_symbol     open     high     low   close         volume\n",
       "timestamp                                                                                   \n",
       "2021-09-12 20:02:00+00:00  gateio::ADA_USDT  2.70609  2.70609  2.6178  2.6575  208163.682432\n",
       "2021-09-12 20:02:00+00:00  gateio::ADA_USDT  2.70609  2.70609  2.6178  2.6575  208163.682432"
      ]
     },
     "execution_count": 13,
     "metadata": {},
     "output_type": "execute_result"
    }
   ],
   "source": [
    "ada_gateio_ccxt.loc[ada_gateio_ccxt.index == \"2021-09-12 20:02:00+00:00\"]"
   ]
  },
  {
   "cell_type": "code",
   "execution_count": 14,
   "id": "38d31fe4",
   "metadata": {
    "ExecuteTime": {
     "end_time": "2022-05-02T14:25:27.260570Z",
     "start_time": "2022-05-02T14:25:27.246238Z"
    }
   },
   "outputs": [
    {
     "data": {
      "text/html": [
       "<div>\n",
       "<style scoped>\n",
       "    .dataframe tbody tr th:only-of-type {\n",
       "        vertical-align: middle;\n",
       "    }\n",
       "\n",
       "    .dataframe tbody tr th {\n",
       "        vertical-align: top;\n",
       "    }\n",
       "\n",
       "    .dataframe thead th {\n",
       "        text-align: right;\n",
       "    }\n",
       "</style>\n",
       "<table border=\"1\" class=\"dataframe\">\n",
       "  <thead>\n",
       "    <tr style=\"text-align: right;\">\n",
       "      <th></th>\n",
       "      <th>full_symbol</th>\n",
       "      <th>open</th>\n",
       "      <th>high</th>\n",
       "      <th>low</th>\n",
       "      <th>close</th>\n",
       "      <th>volume</th>\n",
       "    </tr>\n",
       "    <tr>\n",
       "      <th>timestamp</th>\n",
       "      <th></th>\n",
       "      <th></th>\n",
       "      <th></th>\n",
       "      <th></th>\n",
       "      <th></th>\n",
       "      <th></th>\n",
       "    </tr>\n",
       "  </thead>\n",
       "  <tbody>\n",
       "    <tr>\n",
       "      <th>2021-09-18 16:22:00+00:00</th>\n",
       "      <td>gateio::ADA_USDT</td>\n",
       "      <td>2.376</td>\n",
       "      <td>2.39</td>\n",
       "      <td>2.3759</td>\n",
       "      <td>2.38769</td>\n",
       "      <td>235473.956787</td>\n",
       "    </tr>\n",
       "    <tr>\n",
       "      <th>2021-09-18 16:22:00+00:00</th>\n",
       "      <td>gateio::ADA_USDT</td>\n",
       "      <td>2.376</td>\n",
       "      <td>2.39</td>\n",
       "      <td>2.3759</td>\n",
       "      <td>2.38769</td>\n",
       "      <td>235473.956787</td>\n",
       "    </tr>\n",
       "  </tbody>\n",
       "</table>\n",
       "</div>"
      ],
      "text/plain": [
       "                                full_symbol   open  high     low    close         volume\n",
       "timestamp                                                                               \n",
       "2021-09-18 16:22:00+00:00  gateio::ADA_USDT  2.376  2.39  2.3759  2.38769  235473.956787\n",
       "2021-09-18 16:22:00+00:00  gateio::ADA_USDT  2.376  2.39  2.3759  2.38769  235473.956787"
      ]
     },
     "execution_count": 14,
     "metadata": {},
     "output_type": "execute_result"
    }
   ],
   "source": [
    "ada_gateio_ccxt.loc[ada_gateio_ccxt.index == \"2021-09-18 16:22:00+00:00\"]"
   ]
  },
  {
   "cell_type": "markdown",
   "id": "b5230963",
   "metadata": {},
   "source": [
    "### Values for duplicated indexes are the same accordingly. It means data isn't corrupted. % of duplicated index is 0.000775 (2 vs 258226)"
   ]
  },
  {
   "cell_type": "markdown",
   "id": "cc4877e0",
   "metadata": {},
   "source": [
    "## `BTC_USDT`"
   ]
  },
  {
   "cell_type": "code",
   "execution_count": 4,
   "id": "b097afe2",
   "metadata": {
    "ExecuteTime": {
     "end_time": "2022-05-06T16:29:51.280973Z",
     "start_time": "2022-05-06T16:29:50.517467Z"
    }
   },
   "outputs": [
    {
     "ename": "NameError",
     "evalue": "name 'historical_client_no_resampling' is not defined",
     "output_type": "error",
     "traceback": [
      "\u001b[0;31m---------------------------------------------------------------------------\u001b[0m",
      "\u001b[0;31mNameError\u001b[0m                                 Traceback (most recent call last)",
      "Input \u001b[0;32mIn [4]\u001b[0m, in \u001b[0;36m<cell line: 4>\u001b[0;34m()\u001b[0m\n\u001b[1;32m      2\u001b[0m start_date \u001b[38;5;241m=\u001b[39m \u001b[38;5;28;01mNone\u001b[39;00m\n\u001b[1;32m      3\u001b[0m end_date \u001b[38;5;241m=\u001b[39m \u001b[38;5;28;01mNone\u001b[39;00m\n\u001b[0;32m----> 4\u001b[0m btc_gateio_ccxt \u001b[38;5;241m=\u001b[39m \u001b[43mhistorical_client_no_resampling\u001b[49m\u001b[38;5;241m.\u001b[39mread_data(\n\u001b[1;32m      5\u001b[0m     full_symbols, start_date, end_date\n\u001b[1;32m      6\u001b[0m )\n",
      "\u001b[0;31mNameError\u001b[0m: name 'historical_client_no_resampling' is not defined"
     ]
    }
   ],
   "source": [
    "full_symbols = [\"gateio::BTC_USDT\"]\n",
    "start_date = None\n",
    "end_date = None\n",
    "btc_gateio_ccxt = historical_client_no_resampling.read_data(\n",
    "    full_symbols, start_date, end_date, columns=None\n",
    ")"
   ]
  },
  {
   "cell_type": "code",
   "execution_count": 16,
   "id": "e16604fa",
   "metadata": {
    "ExecuteTime": {
     "end_time": "2022-05-02T14:25:37.941779Z",
     "start_time": "2022-05-02T14:25:37.928042Z"
    }
   },
   "outputs": [
    {
     "name": "stdout",
     "output_type": "stream",
     "text": [
      "INFO  (258590, 6)\n"
     ]
    },
    {
     "data": {
      "text/html": [
       "<div>\n",
       "<style scoped>\n",
       "    .dataframe tbody tr th:only-of-type {\n",
       "        vertical-align: middle;\n",
       "    }\n",
       "\n",
       "    .dataframe tbody tr th {\n",
       "        vertical-align: top;\n",
       "    }\n",
       "\n",
       "    .dataframe thead th {\n",
       "        text-align: right;\n",
       "    }\n",
       "</style>\n",
       "<table border=\"1\" class=\"dataframe\">\n",
       "  <thead>\n",
       "    <tr style=\"text-align: right;\">\n",
       "      <th></th>\n",
       "      <th>full_symbol</th>\n",
       "      <th>open</th>\n",
       "      <th>high</th>\n",
       "      <th>low</th>\n",
       "      <th>close</th>\n",
       "      <th>volume</th>\n",
       "    </tr>\n",
       "    <tr>\n",
       "      <th>timestamp</th>\n",
       "      <th></th>\n",
       "      <th></th>\n",
       "      <th></th>\n",
       "      <th></th>\n",
       "      <th></th>\n",
       "      <th></th>\n",
       "    </tr>\n",
       "  </thead>\n",
       "  <tbody>\n",
       "    <tr>\n",
       "      <th>2021-06-22 14:50:00+00:00</th>\n",
       "      <td>gateio::BTC_USDT</td>\n",
       "      <td>29992.83</td>\n",
       "      <td>30144.71</td>\n",
       "      <td>29939.70</td>\n",
       "      <td>30140.88</td>\n",
       "      <td>167073.232956</td>\n",
       "    </tr>\n",
       "    <tr>\n",
       "      <th>2021-06-22 14:51:00+00:00</th>\n",
       "      <td>gateio::BTC_USDT</td>\n",
       "      <td>30152.58</td>\n",
       "      <td>30228.60</td>\n",
       "      <td>30059.44</td>\n",
       "      <td>30186.85</td>\n",
       "      <td>221935.631630</td>\n",
       "    </tr>\n",
       "    <tr>\n",
       "      <th>2021-06-22 14:52:00+00:00</th>\n",
       "      <td>gateio::BTC_USDT</td>\n",
       "      <td>30193.00</td>\n",
       "      <td>30282.97</td>\n",
       "      <td>30122.05</td>\n",
       "      <td>30258.63</td>\n",
       "      <td>187827.498050</td>\n",
       "    </tr>\n",
       "  </tbody>\n",
       "</table>\n",
       "</div>"
      ],
      "text/plain": [
       "                                full_symbol      open      high       low     close         volume\n",
       "timestamp                                                                                         \n",
       "2021-06-22 14:50:00+00:00  gateio::BTC_USDT  29992.83  30144.71  29939.70  30140.88  167073.232956\n",
       "2021-06-22 14:51:00+00:00  gateio::BTC_USDT  30152.58  30228.60  30059.44  30186.85  221935.631630\n",
       "2021-06-22 14:52:00+00:00  gateio::BTC_USDT  30193.00  30282.97  30122.05  30258.63  187827.498050"
      ]
     },
     "execution_count": 16,
     "metadata": {},
     "output_type": "execute_result"
    }
   ],
   "source": [
    "_LOG.info(btc_gateio_ccxt.shape)\n",
    "btc_gateio_ccxt.head(3)"
   ]
  },
  {
   "cell_type": "code",
   "execution_count": 17,
   "id": "0c0e3e69",
   "metadata": {
    "ExecuteTime": {
     "end_time": "2022-05-02T14:25:39.232645Z",
     "start_time": "2022-05-02T14:25:39.222579Z"
    }
   },
   "outputs": [
    {
     "data": {
      "text/html": [
       "<div>\n",
       "<style scoped>\n",
       "    .dataframe tbody tr th:only-of-type {\n",
       "        vertical-align: middle;\n",
       "    }\n",
       "\n",
       "    .dataframe tbody tr th {\n",
       "        vertical-align: top;\n",
       "    }\n",
       "\n",
       "    .dataframe thead th {\n",
       "        text-align: right;\n",
       "    }\n",
       "</style>\n",
       "<table border=\"1\" class=\"dataframe\">\n",
       "  <thead>\n",
       "    <tr style=\"text-align: right;\">\n",
       "      <th></th>\n",
       "      <th>full_symbol</th>\n",
       "      <th>open</th>\n",
       "      <th>high</th>\n",
       "      <th>low</th>\n",
       "      <th>close</th>\n",
       "      <th>volume</th>\n",
       "    </tr>\n",
       "    <tr>\n",
       "      <th>timestamp</th>\n",
       "      <th></th>\n",
       "      <th></th>\n",
       "      <th></th>\n",
       "      <th></th>\n",
       "      <th></th>\n",
       "      <th></th>\n",
       "    </tr>\n",
       "  </thead>\n",
       "  <tbody>\n",
       "  </tbody>\n",
       "</table>\n",
       "</div>"
      ],
      "text/plain": [
       "Empty DataFrame\n",
       "Columns: [full_symbol, open, high, low, close, volume]\n",
       "Index: []"
      ]
     },
     "execution_count": 17,
     "metadata": {},
     "output_type": "execute_result"
    }
   ],
   "source": [
    "btc_gateio_ccxt.loc[btc_gateio_ccxt[\"volume\"].isna()]"
   ]
  },
  {
   "cell_type": "markdown",
   "id": "4b7e1817",
   "metadata": {},
   "source": [
    "Also there're no NaNs for `BTC_USDT`."
   ]
  },
  {
   "cell_type": "code",
   "execution_count": 18,
   "id": "8e488858",
   "metadata": {
    "ExecuteTime": {
     "end_time": "2022-05-02T14:25:44.135285Z",
     "start_time": "2022-05-02T14:25:44.106644Z"
    },
    "run_control": {
     "marked": true
    }
   },
   "outputs": [
    {
     "data": {
      "text/plain": [
       "False    258575\n",
       "True         15\n",
       "dtype: int64"
      ]
     },
     "execution_count": 18,
     "metadata": {},
     "output_type": "execute_result"
    }
   ],
   "source": [
    "btc_duplicated_index = btc_gateio_ccxt.index.duplicated()\n",
    "value_counts = pd.Series(btc_duplicated_index).value_counts()\n",
    "value_counts"
   ]
  },
  {
   "cell_type": "code",
   "execution_count": 19,
   "id": "773776f6",
   "metadata": {
    "ExecuteTime": {
     "end_time": "2022-05-02T14:25:53.315676Z",
     "start_time": "2022-05-02T14:25:53.311563Z"
    }
   },
   "outputs": [
    {
     "name": "stdout",
     "output_type": "stream",
     "text": [
      "% of duplicated index is 0.005801\n"
     ]
    }
   ],
   "source": [
    "duplicated_indexes = round((value_counts[1] * 100 / len(btc_duplicated_index)), 6)\n",
    "print(f\"% of duplicated index is {duplicated_indexes}\")"
   ]
  },
  {
   "cell_type": "code",
   "execution_count": 20,
   "id": "d245ac44",
   "metadata": {
    "ExecuteTime": {
     "end_time": "2022-05-02T14:25:54.606412Z",
     "start_time": "2022-05-02T14:25:54.588130Z"
    }
   },
   "outputs": [
    {
     "data": {
      "text/html": [
       "<div>\n",
       "<style scoped>\n",
       "    .dataframe tbody tr th:only-of-type {\n",
       "        vertical-align: middle;\n",
       "    }\n",
       "\n",
       "    .dataframe tbody tr th {\n",
       "        vertical-align: top;\n",
       "    }\n",
       "\n",
       "    .dataframe thead th {\n",
       "        text-align: right;\n",
       "    }\n",
       "</style>\n",
       "<table border=\"1\" class=\"dataframe\">\n",
       "  <thead>\n",
       "    <tr style=\"text-align: right;\">\n",
       "      <th></th>\n",
       "      <th>full_symbol</th>\n",
       "      <th>open</th>\n",
       "      <th>high</th>\n",
       "      <th>low</th>\n",
       "      <th>close</th>\n",
       "      <th>volume</th>\n",
       "    </tr>\n",
       "    <tr>\n",
       "      <th>timestamp</th>\n",
       "      <th></th>\n",
       "      <th></th>\n",
       "      <th></th>\n",
       "      <th></th>\n",
       "      <th></th>\n",
       "      <th></th>\n",
       "    </tr>\n",
       "  </thead>\n",
       "  <tbody>\n",
       "    <tr>\n",
       "      <th>2021-06-26 03:52:00+00:00</th>\n",
       "      <td>gateio::BTC_USDT</td>\n",
       "      <td>32066.100</td>\n",
       "      <td>32102.91</td>\n",
       "      <td>32034.170</td>\n",
       "      <td>32034.170000</td>\n",
       "      <td>228452.777587</td>\n",
       "    </tr>\n",
       "    <tr>\n",
       "      <th>2021-06-27 23:31:00+00:00</th>\n",
       "      <td>gateio::BTC_USDT</td>\n",
       "      <td>34412.340</td>\n",
       "      <td>34541.78</td>\n",
       "      <td>34412.340</td>\n",
       "      <td>34521.770000</td>\n",
       "      <td>209279.897309</td>\n",
       "    </tr>\n",
       "    <tr>\n",
       "      <th>2021-06-28 17:42:00+00:00</th>\n",
       "      <td>gateio::BTC_USDT</td>\n",
       "      <td>34209.740</td>\n",
       "      <td>34209.74</td>\n",
       "      <td>34041.680</td>\n",
       "      <td>34110.140000</td>\n",
       "      <td>254910.110246</td>\n",
       "    </tr>\n",
       "    <tr>\n",
       "      <th>2021-06-30 05:27:00+00:00</th>\n",
       "      <td>gateio::BTC_USDT</td>\n",
       "      <td>34774.350</td>\n",
       "      <td>34813.95</td>\n",
       "      <td>34774.350</td>\n",
       "      <td>34788.420000</td>\n",
       "      <td>210652.433461</td>\n",
       "    </tr>\n",
       "    <tr>\n",
       "      <th>2021-07-02 07:45:00+00:00</th>\n",
       "      <td>gateio::BTC_USDT</td>\n",
       "      <td>33187.070</td>\n",
       "      <td>33458.73</td>\n",
       "      <td>33186.070</td>\n",
       "      <td>33419.060000</td>\n",
       "      <td>211183.298521</td>\n",
       "    </tr>\n",
       "    <tr>\n",
       "      <th>2021-07-26 20:56:00+00:00</th>\n",
       "      <td>gateio::BTC_USDT</td>\n",
       "      <td>37462.530</td>\n",
       "      <td>37726.56</td>\n",
       "      <td>37462.530</td>\n",
       "      <td>37669.280000</td>\n",
       "      <td>202689.023704</td>\n",
       "    </tr>\n",
       "    <tr>\n",
       "      <th>2021-07-29 16:20:00+00:00</th>\n",
       "      <td>gateio::BTC_USDT</td>\n",
       "      <td>39910.070</td>\n",
       "      <td>39973.43</td>\n",
       "      <td>39910.020</td>\n",
       "      <td>39948.650000</td>\n",
       "      <td>204942.711542</td>\n",
       "    </tr>\n",
       "    <tr>\n",
       "      <th>2021-07-29 18:33:00+00:00</th>\n",
       "      <td>gateio::BTC_USDT</td>\n",
       "      <td>39468.100</td>\n",
       "      <td>39476.53</td>\n",
       "      <td>39393.730</td>\n",
       "      <td>39467.050000</td>\n",
       "      <td>250553.721704</td>\n",
       "    </tr>\n",
       "    <tr>\n",
       "      <th>2021-08-12 01:39:00+00:00</th>\n",
       "      <td>gateio::BTC_USDT</td>\n",
       "      <td>45957.630</td>\n",
       "      <td>45967.19</td>\n",
       "      <td>45930.960</td>\n",
       "      <td>45955.160000</td>\n",
       "      <td>184007.779432</td>\n",
       "    </tr>\n",
       "    <tr>\n",
       "      <th>2021-08-12 10:42:00+00:00</th>\n",
       "      <td>gateio::BTC_USDT</td>\n",
       "      <td>45366.290</td>\n",
       "      <td>45379.91</td>\n",
       "      <td>45363.420</td>\n",
       "      <td>45379.910000</td>\n",
       "      <td>226617.444538</td>\n",
       "    </tr>\n",
       "    <tr>\n",
       "      <th>2021-08-25 08:45:00+00:00</th>\n",
       "      <td>gateio::BTC_USDT</td>\n",
       "      <td>47549.570</td>\n",
       "      <td>47549.57</td>\n",
       "      <td>47412.870</td>\n",
       "      <td>47431.160000</td>\n",
       "      <td>259422.059591</td>\n",
       "    </tr>\n",
       "    <tr>\n",
       "      <th>2021-09-07 08:40:00+00:00</th>\n",
       "      <td>gateio::BTC_USDT</td>\n",
       "      <td>51405.010</td>\n",
       "      <td>51462.88</td>\n",
       "      <td>51292.030</td>\n",
       "      <td>51442.271442</td>\n",
       "      <td>221506.275847</td>\n",
       "    </tr>\n",
       "    <tr>\n",
       "      <th>2021-09-08 08:14:00+00:00</th>\n",
       "      <td>gateio::BTC_USDT</td>\n",
       "      <td>45149.450</td>\n",
       "      <td>45149.45</td>\n",
       "      <td>44863.200</td>\n",
       "      <td>44962.610000</td>\n",
       "      <td>261558.900031</td>\n",
       "    </tr>\n",
       "    <tr>\n",
       "      <th>2021-09-14 07:00:00+00:00</th>\n",
       "      <td>gateio::BTC_USDT</td>\n",
       "      <td>45608.020</td>\n",
       "      <td>45882.84</td>\n",
       "      <td>45608.020</td>\n",
       "      <td>45847.440000</td>\n",
       "      <td>201778.275244</td>\n",
       "    </tr>\n",
       "    <tr>\n",
       "      <th>2021-09-20 13:17:00+00:00</th>\n",
       "      <td>gateio::BTC_USDT</td>\n",
       "      <td>43494.009</td>\n",
       "      <td>43755.07</td>\n",
       "      <td>43476.611</td>\n",
       "      <td>43700.860000</td>\n",
       "      <td>221899.907218</td>\n",
       "    </tr>\n",
       "  </tbody>\n",
       "</table>\n",
       "</div>"
      ],
      "text/plain": [
       "                                full_symbol       open      high        low         close         volume\n",
       "timestamp                                                                                               \n",
       "2021-06-26 03:52:00+00:00  gateio::BTC_USDT  32066.100  32102.91  32034.170  32034.170000  228452.777587\n",
       "2021-06-27 23:31:00+00:00  gateio::BTC_USDT  34412.340  34541.78  34412.340  34521.770000  209279.897309\n",
       "2021-06-28 17:42:00+00:00  gateio::BTC_USDT  34209.740  34209.74  34041.680  34110.140000  254910.110246\n",
       "2021-06-30 05:27:00+00:00  gateio::BTC_USDT  34774.350  34813.95  34774.350  34788.420000  210652.433461\n",
       "2021-07-02 07:45:00+00:00  gateio::BTC_USDT  33187.070  33458.73  33186.070  33419.060000  211183.298521\n",
       "2021-07-26 20:56:00+00:00  gateio::BTC_USDT  37462.530  37726.56  37462.530  37669.280000  202689.023704\n",
       "2021-07-29 16:20:00+00:00  gateio::BTC_USDT  39910.070  39973.43  39910.020  39948.650000  204942.711542\n",
       "2021-07-29 18:33:00+00:00  gateio::BTC_USDT  39468.100  39476.53  39393.730  39467.050000  250553.721704\n",
       "2021-08-12 01:39:00+00:00  gateio::BTC_USDT  45957.630  45967.19  45930.960  45955.160000  184007.779432\n",
       "2021-08-12 10:42:00+00:00  gateio::BTC_USDT  45366.290  45379.91  45363.420  45379.910000  226617.444538\n",
       "2021-08-25 08:45:00+00:00  gateio::BTC_USDT  47549.570  47549.57  47412.870  47431.160000  259422.059591\n",
       "2021-09-07 08:40:00+00:00  gateio::BTC_USDT  51405.010  51462.88  51292.030  51442.271442  221506.275847\n",
       "2021-09-08 08:14:00+00:00  gateio::BTC_USDT  45149.450  45149.45  44863.200  44962.610000  261558.900031\n",
       "2021-09-14 07:00:00+00:00  gateio::BTC_USDT  45608.020  45882.84  45608.020  45847.440000  201778.275244\n",
       "2021-09-20 13:17:00+00:00  gateio::BTC_USDT  43494.009  43755.07  43476.611  43700.860000  221899.907218"
      ]
     },
     "execution_count": 20,
     "metadata": {},
     "output_type": "execute_result"
    }
   ],
   "source": [
    "btc_duplicated = btc_gateio_ccxt.loc[btc_duplicated_index == True]\n",
    "btc_duplicated"
   ]
  },
  {
   "cell_type": "code",
   "execution_count": 21,
   "id": "1eb2a44d",
   "metadata": {
    "ExecuteTime": {
     "end_time": "2022-05-02T14:25:56.234969Z",
     "start_time": "2022-05-02T14:25:56.220517Z"
    },
    "run_control": {
     "marked": true
    }
   },
   "outputs": [
    {
     "data": {
      "text/html": [
       "<div>\n",
       "<style scoped>\n",
       "    .dataframe tbody tr th:only-of-type {\n",
       "        vertical-align: middle;\n",
       "    }\n",
       "\n",
       "    .dataframe tbody tr th {\n",
       "        vertical-align: top;\n",
       "    }\n",
       "\n",
       "    .dataframe thead th {\n",
       "        text-align: right;\n",
       "    }\n",
       "</style>\n",
       "<table border=\"1\" class=\"dataframe\">\n",
       "  <thead>\n",
       "    <tr style=\"text-align: right;\">\n",
       "      <th></th>\n",
       "      <th>full_symbol</th>\n",
       "      <th>open</th>\n",
       "      <th>high</th>\n",
       "      <th>low</th>\n",
       "      <th>close</th>\n",
       "      <th>volume</th>\n",
       "    </tr>\n",
       "    <tr>\n",
       "      <th>timestamp</th>\n",
       "      <th></th>\n",
       "      <th></th>\n",
       "      <th></th>\n",
       "      <th></th>\n",
       "      <th></th>\n",
       "      <th></th>\n",
       "    </tr>\n",
       "  </thead>\n",
       "  <tbody>\n",
       "    <tr>\n",
       "      <th>2021-09-08 08:14:00+00:00</th>\n",
       "      <td>gateio::BTC_USDT</td>\n",
       "      <td>45149.45</td>\n",
       "      <td>45149.45</td>\n",
       "      <td>44863.2</td>\n",
       "      <td>44962.61</td>\n",
       "      <td>261558.900031</td>\n",
       "    </tr>\n",
       "    <tr>\n",
       "      <th>2021-09-08 08:14:00+00:00</th>\n",
       "      <td>gateio::BTC_USDT</td>\n",
       "      <td>45149.45</td>\n",
       "      <td>45149.45</td>\n",
       "      <td>44863.2</td>\n",
       "      <td>44962.61</td>\n",
       "      <td>261558.900031</td>\n",
       "    </tr>\n",
       "  </tbody>\n",
       "</table>\n",
       "</div>"
      ],
      "text/plain": [
       "                                full_symbol      open      high      low     close         volume\n",
       "timestamp                                                                                        \n",
       "2021-09-08 08:14:00+00:00  gateio::BTC_USDT  45149.45  45149.45  44863.2  44962.61  261558.900031\n",
       "2021-09-08 08:14:00+00:00  gateio::BTC_USDT  45149.45  45149.45  44863.2  44962.61  261558.900031"
      ]
     },
     "execution_count": 21,
     "metadata": {},
     "output_type": "execute_result"
    }
   ],
   "source": [
    "btc_gateio_ccxt.loc[btc_gateio_ccxt.index == \"2021-09-08 08:14:00+00:0\"]"
   ]
  },
  {
   "cell_type": "code",
   "execution_count": 22,
   "id": "d60330d9",
   "metadata": {
    "ExecuteTime": {
     "end_time": "2022-05-02T14:25:59.508184Z",
     "start_time": "2022-05-02T14:25:59.494088Z"
    }
   },
   "outputs": [
    {
     "data": {
      "text/html": [
       "<div>\n",
       "<style scoped>\n",
       "    .dataframe tbody tr th:only-of-type {\n",
       "        vertical-align: middle;\n",
       "    }\n",
       "\n",
       "    .dataframe tbody tr th {\n",
       "        vertical-align: top;\n",
       "    }\n",
       "\n",
       "    .dataframe thead th {\n",
       "        text-align: right;\n",
       "    }\n",
       "</style>\n",
       "<table border=\"1\" class=\"dataframe\">\n",
       "  <thead>\n",
       "    <tr style=\"text-align: right;\">\n",
       "      <th></th>\n",
       "      <th>full_symbol</th>\n",
       "      <th>open</th>\n",
       "      <th>high</th>\n",
       "      <th>low</th>\n",
       "      <th>close</th>\n",
       "      <th>volume</th>\n",
       "    </tr>\n",
       "    <tr>\n",
       "      <th>timestamp</th>\n",
       "      <th></th>\n",
       "      <th></th>\n",
       "      <th></th>\n",
       "      <th></th>\n",
       "      <th></th>\n",
       "      <th></th>\n",
       "    </tr>\n",
       "  </thead>\n",
       "  <tbody>\n",
       "    <tr>\n",
       "      <th>2021-06-27 23:31:00+00:00</th>\n",
       "      <td>gateio::BTC_USDT</td>\n",
       "      <td>34412.34</td>\n",
       "      <td>34541.78</td>\n",
       "      <td>34412.34</td>\n",
       "      <td>34521.77</td>\n",
       "      <td>209279.897309</td>\n",
       "    </tr>\n",
       "    <tr>\n",
       "      <th>2021-06-27 23:31:00+00:00</th>\n",
       "      <td>gateio::BTC_USDT</td>\n",
       "      <td>34412.34</td>\n",
       "      <td>34541.78</td>\n",
       "      <td>34412.34</td>\n",
       "      <td>34521.77</td>\n",
       "      <td>209279.897309</td>\n",
       "    </tr>\n",
       "  </tbody>\n",
       "</table>\n",
       "</div>"
      ],
      "text/plain": [
       "                                full_symbol      open      high       low     close         volume\n",
       "timestamp                                                                                         \n",
       "2021-06-27 23:31:00+00:00  gateio::BTC_USDT  34412.34  34541.78  34412.34  34521.77  209279.897309\n",
       "2021-06-27 23:31:00+00:00  gateio::BTC_USDT  34412.34  34541.78  34412.34  34521.77  209279.897309"
      ]
     },
     "execution_count": 22,
     "metadata": {},
     "output_type": "execute_result"
    }
   ],
   "source": [
    "btc_gateio_ccxt.loc[btc_gateio_ccxt.index == \"2021-06-27 23:31:00+00:00\"]"
   ]
  },
  {
   "cell_type": "markdown",
   "id": "2020fe85",
   "metadata": {},
   "source": [
    "### Values for duplicated indexes are identical. It means data isn't corrupted. % of duplicated index is 0.005801 (15 vs 258575)"
   ]
  }
 ],
 "metadata": {
  "kernelspec": {
   "display_name": "Python 3 (ipykernel)",
   "language": "python",
   "name": "python3"
  },
  "language_info": {
   "codemirror_mode": {
    "name": "ipython",
    "version": 3
   },
   "file_extension": ".py",
   "mimetype": "text/x-python",
   "name": "python",
   "nbconvert_exporter": "python",
   "pygments_lexer": "ipython3",
   "version": "3.8.10"
  },
  "toc": {
   "base_numbering": 1,
   "nav_menu": {},
   "number_sections": true,
   "sideBar": true,
   "skip_h1_title": false,
   "title_cell": "Table of Contents",
   "title_sidebar": "Contents",
   "toc_cell": false,
   "toc_position": {},
   "toc_section_display": true,
   "toc_window_display": false
  }
 },
 "nbformat": 4,
 "nbformat_minor": 5
}
