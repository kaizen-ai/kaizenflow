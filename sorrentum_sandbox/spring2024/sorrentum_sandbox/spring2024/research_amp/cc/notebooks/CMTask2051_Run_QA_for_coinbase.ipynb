{
 "cells": [
  {
   "cell_type": "markdown",
   "id": "e3d423f0",
   "metadata": {},
   "source": [
    "# Description"
   ]
  },
  {
   "cell_type": "markdown",
   "id": "739a4c1a",
   "metadata": {},
   "source": [
    "This notebooks performs QA checks for Crypto Chassis `coinbase`:\n",
    "   - Number of NaN data points as % of total\n",
    "   - Number of data points where `volume=0` as % of total"
   ]
  },
  {
   "cell_type": "markdown",
   "id": "026dce8f",
   "metadata": {},
   "source": [
    "# Imports"
   ]
  },
  {
   "cell_type": "code",
   "execution_count": 1,
   "id": "d2796630",
   "metadata": {
    "ExecuteTime": {
     "end_time": "2022-06-01T15:32:46.523905Z",
     "start_time": "2022-06-01T15:32:43.899910Z"
    }
   },
   "outputs": [
    {
     "name": "stderr",
     "output_type": "stream",
     "text": [
      "/app/helpers/hparquet.py:17: TqdmExperimentalWarning: Using `tqdm.autonotebook.tqdm` in notebook mode. Use `tqdm.tqdm` instead to force console mode (e.g. in jupyter console)\n",
      "  from tqdm.autonotebook import tqdm\n"
     ]
    }
   ],
   "source": [
    "import logging\n",
    "import os\n",
    "\n",
    "import pandas as pd\n",
    "\n",
    "import core.config.config_ as cconconf\n",
    "import core.config.config_utils as ccocouti\n",
    "import helpers.hdbg as hdbg\n",
    "import helpers.henv as henv\n",
    "import helpers.hprint as hprint\n",
    "import helpers.hs3 as hs3\n",
    "import im_v2.crypto_chassis.data.client as imvccdc\n",
    "import research_amp.cc.qa as ramccqa"
   ]
  },
  {
   "cell_type": "code",
   "execution_count": 2,
   "id": "467b3d61",
   "metadata": {
    "ExecuteTime": {
     "end_time": "2022-06-01T15:32:47.646060Z",
     "start_time": "2022-06-01T15:32:46.526885Z"
    },
    "scrolled": true
   },
   "outputs": [
    {
     "name": "stdout",
     "output_type": "stream",
     "text": [
      "\u001b[0m\u001b[36mINFO\u001b[0m: > cmd='/venv/lib/python3.8/site-packages/ipykernel_launcher.py -f /home/.local/share/jupyter/runtime/kernel-810011f9-785b-4cea-83e6-8884458b1e4c.json'\n",
      "WARNING: Running in Jupyter\n",
      "INFO  # Git\n",
      "    branch_name='CMTask2051_Run_QA_for_coinbase'\n",
      "    hash='762540791'\n",
      "    # Last commits:\n",
      "      * 762540791 Nina Lee Cm task1999 update compare data calls in the notebooks (#2040)    (22 minutes ago) Wed Jun 1 15:10:50 2022  (HEAD -> CMTask2051_Run_QA_for_coinbase, origin/master, origin/HEAD, master)\n",
      "      * d4aab52c5 cryptomtc AmpTask1786_Integrate_20220531 (#2045)                            (65 minutes ago) Wed Jun 1 14:27:35 2022           \n",
      "      * bf8761a75 Daniil Tikhomirov CMTask2043: Update parquet files merging (#2049)                  (   2 hours ago) Wed Jun 1 13:48:36 2022           \n",
      "# Machine info\n",
      "    system=Linux\n",
      "    node name=338f016b0bee\n",
      "    release=5.13.0-1022-aws\n",
      "    version=#24~20.04.1-Ubuntu SMP Thu Apr 7 22:10:15 UTC 2022\n",
      "    machine=x86_64\n",
      "    processor=x86_64\n",
      "    cpu count=8\n",
      "    cpu freq=scpufreq(current=2499.998, min=0.0, max=0.0)\n",
      "    memory=svmem(total=33294798848, available=10502434816, percent=68.5, used=22012047360, free=8475426816, active=1288773632, inactive=22256033792, buffers=530141184, cached=2277183488, shared=293539840, slab=773115904)\n",
      "    disk usage=sdiskusage(total=156066836480, used=24355500032, free=131694559232, percent=15.6)\n",
      "# Packages\n",
      "    python: 3.8.10\n",
      "    gluonnlp: ?\n",
      "    gluonts: 0.6.7\n",
      "    joblib: 1.1.0\n",
      "    mxnet: 1.9.0\n",
      "    numpy: 1.22.3\n",
      "    pandas: 1.4.2\n",
      "    pyarrow: 7.0.0\n",
      "    scipy: 1.6.1\n",
      "    seaborn: 0.11.2\n",
      "    sklearn: 1.0.2\n",
      "    statsmodels: 0.13.2\n",
      "\u001b[33mWARNING\u001b[0m: Disabling annoying warnings\n"
     ]
    }
   ],
   "source": [
    "hdbg.init_logger(verbosity=logging.INFO)\n",
    "\n",
    "_LOG = logging.getLogger(__name__)\n",
    "\n",
    "_LOG.info(\"%s\", henv.get_system_signature()[0])\n",
    "\n",
    "hprint.config_notebook()"
   ]
  },
  {
   "cell_type": "markdown",
   "id": "61c0c9ff",
   "metadata": {},
   "source": [
    "# Configs"
   ]
  },
  {
   "cell_type": "code",
   "execution_count": 3,
   "id": "99b1f619",
   "metadata": {
    "ExecuteTime": {
     "end_time": "2022-06-01T15:32:47.656174Z",
     "start_time": "2022-06-01T15:32:47.648788Z"
    }
   },
   "outputs": [],
   "source": [
    "def get_cmtask2051_config_crypto_chassis() -> cconconf.Config:\n",
    "    \"\"\"\n",
    "    Get task2051-specific config.\n",
    "    \"\"\"\n",
    "    config = cconconf.Config()\n",
    "    param_dict = {\n",
    "        \"vendor\": \"crypto_chassis\",\n",
    "        \"data\": {\n",
    "            # Parameters for client initialization.\n",
    "            \"im_client\": {\n",
    "                \"universe_version\": \"v2\",\n",
    "                \"resample_1min\": False,\n",
    "                \"root_dir\": os.path.join(\n",
    "                    hs3.get_s3_bucket_path(\"ck\"), \"reorg\", \"historical.manual.pq\"\n",
    "                ),\n",
    "                \"partition_mode\": \"by_year_month\",\n",
    "                \"data_snapshot\": \"20220530\",\n",
    "                \"aws_profile\": \"ck\",\n",
    "            },\n",
    "            # Parameters for data query.\n",
    "            \"read_data\": {\n",
    "                \"start_ts\": None,\n",
    "                \"end_ts\": None,\n",
    "                \"columns\": [\"full_symbol\", \"close\", \"volume\"],\n",
    "                \"filter_data_mode\": \"assert\",\n",
    "            },\n",
    "        },\n",
    "        \"column_names\": {\n",
    "            \"full_symbol\": \"full_symbol\",\n",
    "            \"close_price\": \"close\",\n",
    "        },\n",
    "        \"stats\": {\n",
    "            \"threshold\": 30,\n",
    "        },\n",
    "    }\n",
    "    config = cconfig.Config.from_dict(param_dict)\n",
    "    return config"
   ]
  },
  {
   "cell_type": "code",
   "execution_count": 4,
   "id": "1117532c",
   "metadata": {
    "ExecuteTime": {
     "end_time": "2022-06-01T15:32:47.663414Z",
     "start_time": "2022-06-01T15:32:47.658532Z"
    }
   },
   "outputs": [
    {
     "name": "stdout",
     "output_type": "stream",
     "text": [
      "data:\n",
      "  im_client:\n",
      "    universe_version: v2\n",
      "    resample_1min: False\n",
      "    root_dir: s3://cryptokaizen-data/reorg/historical.manual.pq\n",
      "    partition_mode: by_year_month\n",
      "    data_snapshot: 20220530\n",
      "    aws_profile: ck\n",
      "  read_data:\n",
      "    start_ts: None\n",
      "    end_ts: None\n",
      "    columns: ['full_symbol', 'close', 'volume']\n",
      "    filter_data_mode: assert\n",
      "column_names:\n",
      "  full_symbol: full_symbol\n",
      "  close_price: close\n",
      "stats:\n",
      "  threshold: 30\n"
     ]
    }
   ],
   "source": [
    "config = get_cmtask2051_config_crypto_chassis()\n",
    "print(config)"
   ]
  },
  {
   "cell_type": "markdown",
   "id": "52eb9372",
   "metadata": {},
   "source": [
    "# Functions"
   ]
  },
  {
   "cell_type": "code",
   "execution_count": 5,
   "id": "9f7ff220",
   "metadata": {
    "ExecuteTime": {
     "end_time": "2022-06-01T15:32:47.675773Z",
     "start_time": "2022-06-01T15:32:47.666930Z"
    }
   },
   "outputs": [],
   "source": [
    "# TODO(Dan): Add filtering by dates.\n",
    "def _plot_bad_data_by_year_month_stats(\n",
    "    config: cconconf.Config, bad_data_stats: pd.DataFrame\n",
    ") -> None:\n",
    "    \"\"\"\n",
    "    Plot bad data stats by year and month per unique full symbol in data.\n",
    "\n",
    "    Bad data is the sum of NaNs and \"volume=0\" stats.\n",
    "    \"\"\"\n",
    "    full_symbols = bad_data_stats.index.get_level_values(0).unique()\n",
    "    for full_symbol in full_symbols:\n",
    "        bad_data_col_name = \"bad data [%]\"\n",
    "        ax = bad_data_stats.loc[full_symbol].plot.bar(\n",
    "            y=bad_data_col_name, rot=0, title=full_symbol\n",
    "        )\n",
    "        #\n",
    "        ax.hlines(\n",
    "            y=config[\"stats\"][\"threshold\"],\n",
    "            xmin=0,\n",
    "            xmax=len(bad_data_stats),\n",
    "            color=\"r\",\n",
    "        )\n",
    "        # TODO(Dan): Make ticklabels more readable.\n",
    "        # Get ticks and labels for x-axis.\n",
    "        ticks = ax.xaxis.get_ticklocs()\n",
    "        ticklabels = [\n",
    "            l.get_text().strip(\"()\").split(\", \")\n",
    "            for l in ax.xaxis.get_ticklabels()\n",
    "        ]\n",
    "        ticklabels = [\".\".join([l[0], l[1]]) for l in ticklabels]\n",
    "        # Adjust x-axis labels so they do not overlap on plot by\n",
    "        # picking ticks and labels by specified stride that limits\n",
    "        # the number of final ticks to 10.\n",
    "        stride = len(ticks) // 10 + 1\n",
    "        ax.xaxis.set_ticks(ticks[::stride])\n",
    "        ax.xaxis.set_ticklabels(ticklabels[::stride])\n",
    "        ax.figure.show()"
   ]
  },
  {
   "cell_type": "markdown",
   "id": "6241e528",
   "metadata": {
    "ExecuteTime": {
     "end_time": "2022-04-14T14:25:21.424368Z",
     "start_time": "2022-04-14T14:25:21.424352Z"
    }
   },
   "source": [
    "# QA checks"
   ]
  },
  {
   "cell_type": "markdown",
   "id": "4e042601",
   "metadata": {},
   "source": [
    "Major metric for a QA check is `\"bad data [%]\"` which is the sum of `\"volume=0 [%]\"` and `\"NaNs [%]\"`."
   ]
  },
  {
   "cell_type": "code",
   "execution_count": 6,
   "id": "24754614",
   "metadata": {
    "ExecuteTime": {
     "end_time": "2022-06-01T15:32:47.767527Z",
     "start_time": "2022-06-01T15:32:47.677789Z"
    }
   },
   "outputs": [],
   "source": [
    "client = imvccdc.crypto_chassis_clients.CryptoChassisHistoricalPqByTileClient(\n",
    "    **config[\"data\"][\"im_client\"]\n",
    ")"
   ]
  },
  {
   "cell_type": "code",
   "execution_count": 7,
   "id": "f167823c",
   "metadata": {
    "ExecuteTime": {
     "end_time": "2022-06-01T15:32:47.781720Z",
     "start_time": "2022-06-01T15:32:47.770659Z"
    },
    "scrolled": true
   },
   "outputs": [
    {
     "data": {
      "text/plain": [
       "['binance::ADA_USDT',\n",
       " 'binance::BNB_USDT',\n",
       " 'binance::BTC_USDT',\n",
       " 'binance::DOGE_USDT',\n",
       " 'binance::EOS_USDT',\n",
       " 'binance::ETH_USDT',\n",
       " 'binance::SOL_USDT',\n",
       " 'coinbase::BTC_USDT',\n",
       " 'coinbase::DOGE_USDT',\n",
       " 'coinbase::ETH_USDT',\n",
       " 'coinbase::SOL_USDT',\n",
       " 'ftx::BNB_USDT',\n",
       " 'ftx::BTC_USDT',\n",
       " 'ftx::DOGE_USDT',\n",
       " 'ftx::ETH_USDT',\n",
       " 'ftx::SOL_USDT',\n",
       " 'ftx::XRP_USDT',\n",
       " 'gateio::ADA_USDT',\n",
       " 'gateio::BNB_USDT',\n",
       " 'gateio::BTC_USDT',\n",
       " 'gateio::DOGE_USDT',\n",
       " 'gateio::EOS_USDT',\n",
       " 'gateio::ETH_USDT',\n",
       " 'gateio::SOL_USDT',\n",
       " 'gateio::XRP_USDT',\n",
       " 'kucoin::ADA_USDT',\n",
       " 'kucoin::BNB_USDT',\n",
       " 'kucoin::BTC_USDT',\n",
       " 'kucoin::DOGE_USDT',\n",
       " 'kucoin::EOS_USDT',\n",
       " 'kucoin::ETH_USDT',\n",
       " 'kucoin::SOL_USDT',\n",
       " 'kucoin::XRP_USDT']"
      ]
     },
     "execution_count": 7,
     "metadata": {},
     "output_type": "execute_result"
    }
   ],
   "source": [
    "universe = client.get_universe()\n",
    "universe"
   ]
  },
  {
   "cell_type": "markdown",
   "id": "e403fd16",
   "metadata": {
    "ExecuteTime": {
     "end_time": "2022-05-09T21:46:18.543865Z",
     "start_time": "2022-05-09T21:46:18.540714Z"
    }
   },
   "source": [
    "## Coinbase"
   ]
  },
  {
   "cell_type": "code",
   "execution_count": 8,
   "id": "8bc3a40d",
   "metadata": {
    "ExecuteTime": {
     "end_time": "2022-06-01T15:32:47.790880Z",
     "start_time": "2022-06-01T15:32:47.784107Z"
    }
   },
   "outputs": [
    {
     "data": {
      "text/plain": [
       "['coinbase::BTC_USDT',\n",
       " 'coinbase::DOGE_USDT',\n",
       " 'coinbase::ETH_USDT',\n",
       " 'coinbase::SOL_USDT']"
      ]
     },
     "execution_count": 8,
     "metadata": {},
     "output_type": "execute_result"
    }
   ],
   "source": [
    "coinbase_universe = [\n",
    "    full_symbol for full_symbol in universe if full_symbol.startswith(\"coinbase\")\n",
    "]\n",
    "coinbase_universe"
   ]
  },
  {
   "cell_type": "code",
   "execution_count": 9,
   "id": "24265567",
   "metadata": {
    "ExecuteTime": {
     "end_time": "2022-06-01T15:32:52.921109Z",
     "start_time": "2022-06-01T15:32:47.792659Z"
    }
   },
   "outputs": [
    {
     "data": {
      "text/html": [
       "<div>\n",
       "<style scoped>\n",
       "    .dataframe tbody tr th:only-of-type {\n",
       "        vertical-align: middle;\n",
       "    }\n",
       "\n",
       "    .dataframe tbody tr th {\n",
       "        vertical-align: top;\n",
       "    }\n",
       "\n",
       "    .dataframe thead th {\n",
       "        text-align: right;\n",
       "    }\n",
       "</style>\n",
       "<table border=\"1\" class=\"dataframe\">\n",
       "  <thead>\n",
       "    <tr style=\"text-align: right;\">\n",
       "      <th></th>\n",
       "      <th>full_symbol</th>\n",
       "      <th>close</th>\n",
       "      <th>volume</th>\n",
       "    </tr>\n",
       "    <tr>\n",
       "      <th>timestamp</th>\n",
       "      <th></th>\n",
       "      <th></th>\n",
       "      <th></th>\n",
       "    </tr>\n",
       "  </thead>\n",
       "  <tbody>\n",
       "    <tr>\n",
       "      <th>2021-10-12 04:07:00+00:00</th>\n",
       "      <td>coinbase::BTC_USDT</td>\n",
       "      <td>56799.5100</td>\n",
       "      <td>0.184718</td>\n",
       "    </tr>\n",
       "    <tr>\n",
       "      <th>2021-10-12 04:07:00+00:00</th>\n",
       "      <td>coinbase::DOGE_USDT</td>\n",
       "      <td>0.2239</td>\n",
       "      <td>620.000000</td>\n",
       "    </tr>\n",
       "    <tr>\n",
       "      <th>2021-10-12 04:07:00+00:00</th>\n",
       "      <td>coinbase::ETH_USDT</td>\n",
       "      <td>3486.3600</td>\n",
       "      <td>1.375485</td>\n",
       "    </tr>\n",
       "  </tbody>\n",
       "</table>\n",
       "</div>"
      ],
      "text/plain": [
       "                                   full_symbol       close      volume\n",
       "timestamp                                                             \n",
       "2021-10-12 04:07:00+00:00   coinbase::BTC_USDT  56799.5100    0.184718\n",
       "2021-10-12 04:07:00+00:00  coinbase::DOGE_USDT      0.2239  620.000000\n",
       "2021-10-12 04:07:00+00:00   coinbase::ETH_USDT   3486.3600    1.375485"
      ]
     },
     "execution_count": 9,
     "metadata": {},
     "output_type": "execute_result"
    }
   ],
   "source": [
    "coinbase_data = client.read_data(coinbase_universe, **config[\"data\"][\"read_data\"])\n",
    "coinbase_data.head(3)"
   ]
  },
  {
   "cell_type": "code",
   "execution_count": 10,
   "id": "738470c5",
   "metadata": {
    "ExecuteTime": {
     "end_time": "2022-06-01T15:32:53.117756Z",
     "start_time": "2022-06-01T15:32:52.923655Z"
    }
   },
   "outputs": [
    {
     "data": {
      "text/html": [
       "<div>\n",
       "<style scoped>\n",
       "    .dataframe tbody tr th:only-of-type {\n",
       "        vertical-align: middle;\n",
       "    }\n",
       "\n",
       "    .dataframe tbody tr th {\n",
       "        vertical-align: top;\n",
       "    }\n",
       "\n",
       "    .dataframe thead th {\n",
       "        text-align: right;\n",
       "    }\n",
       "</style>\n",
       "<table border=\"1\" class=\"dataframe\">\n",
       "  <thead>\n",
       "    <tr style=\"text-align: right;\">\n",
       "      <th></th>\n",
       "      <th>min_timestamp</th>\n",
       "      <th>max_timestamp</th>\n",
       "      <th>days_available</th>\n",
       "    </tr>\n",
       "  </thead>\n",
       "  <tbody>\n",
       "    <tr>\n",
       "      <th>coinbase::BTC_USDT</th>\n",
       "      <td>2021-10-12 04:07:00+00:00</td>\n",
       "      <td>2022-05-30 23:59:00+00:00</td>\n",
       "      <td>230</td>\n",
       "    </tr>\n",
       "    <tr>\n",
       "      <th>coinbase::DOGE_USDT</th>\n",
       "      <td>2021-10-12 04:07:00+00:00</td>\n",
       "      <td>2022-05-30 23:59:00+00:00</td>\n",
       "      <td>230</td>\n",
       "    </tr>\n",
       "    <tr>\n",
       "      <th>coinbase::ETH_USDT</th>\n",
       "      <td>2021-10-12 04:07:00+00:00</td>\n",
       "      <td>2022-05-30 23:59:00+00:00</td>\n",
       "      <td>230</td>\n",
       "    </tr>\n",
       "    <tr>\n",
       "      <th>coinbase::SOL_USDT</th>\n",
       "      <td>2021-10-13 17:48:00+00:00</td>\n",
       "      <td>2022-05-30 23:59:00+00:00</td>\n",
       "      <td>229</td>\n",
       "    </tr>\n",
       "  </tbody>\n",
       "</table>\n",
       "</div>"
      ],
      "text/plain": [
       "                                min_timestamp             max_timestamp days_available\n",
       "coinbase::BTC_USDT  2021-10-12 04:07:00+00:00 2022-05-30 23:59:00+00:00            230\n",
       "coinbase::DOGE_USDT 2021-10-12 04:07:00+00:00 2022-05-30 23:59:00+00:00            230\n",
       "coinbase::ETH_USDT  2021-10-12 04:07:00+00:00 2022-05-30 23:59:00+00:00            230\n",
       "coinbase::SOL_USDT  2021-10-13 17:48:00+00:00 2022-05-30 23:59:00+00:00            229"
      ]
     },
     "execution_count": 10,
     "metadata": {},
     "output_type": "execute_result"
    }
   ],
   "source": [
    "vendor_name = config[\"vendor\"]\n",
    "coinbase_timestamp_stats = ramccqa.get_timestamp_stats(coinbase_data, vendor_name)\n",
    "coinbase_timestamp_stats"
   ]
  },
  {
   "cell_type": "code",
   "execution_count": 11,
   "id": "d34526e5",
   "metadata": {
    "ExecuteTime": {
     "end_time": "2022-06-01T15:32:54.782850Z",
     "start_time": "2022-06-01T15:32:53.120835Z"
    }
   },
   "outputs": [
    {
     "data": {
      "text/html": [
       "<div>\n",
       "<style scoped>\n",
       "    .dataframe tbody tr th:only-of-type {\n",
       "        vertical-align: middle;\n",
       "    }\n",
       "\n",
       "    .dataframe tbody tr th {\n",
       "        vertical-align: top;\n",
       "    }\n",
       "\n",
       "    .dataframe thead th {\n",
       "        text-align: right;\n",
       "    }\n",
       "</style>\n",
       "<table border=\"1\" class=\"dataframe\">\n",
       "  <thead>\n",
       "    <tr style=\"text-align: right;\">\n",
       "      <th></th>\n",
       "      <th>bad data [%]</th>\n",
       "      <th>missing bars [%]</th>\n",
       "      <th>volume=0 [%]</th>\n",
       "      <th>NaNs [%]</th>\n",
       "    </tr>\n",
       "  </thead>\n",
       "  <tbody>\n",
       "    <tr>\n",
       "      <th>coinbase::BTC_USDT</th>\n",
       "      <td>9.087737</td>\n",
       "      <td>9.087737</td>\n",
       "      <td>0.0</td>\n",
       "      <td>0.0</td>\n",
       "    </tr>\n",
       "    <tr>\n",
       "      <th>coinbase::DOGE_USDT</th>\n",
       "      <td>47.797336</td>\n",
       "      <td>47.797336</td>\n",
       "      <td>0.0</td>\n",
       "      <td>0.0</td>\n",
       "    </tr>\n",
       "    <tr>\n",
       "      <th>coinbase::ETH_USDT</th>\n",
       "      <td>11.452708</td>\n",
       "      <td>11.452708</td>\n",
       "      <td>0.0</td>\n",
       "      <td>0.0</td>\n",
       "    </tr>\n",
       "    <tr>\n",
       "      <th>coinbase::SOL_USDT</th>\n",
       "      <td>13.213502</td>\n",
       "      <td>13.213502</td>\n",
       "      <td>0.0</td>\n",
       "      <td>0.0</td>\n",
       "    </tr>\n",
       "  </tbody>\n",
       "</table>\n",
       "</div>"
      ],
      "text/plain": [
       "                     bad data [%]  missing bars [%]  volume=0 [%]  NaNs [%]\n",
       "coinbase::BTC_USDT       9.087737          9.087737           0.0       0.0\n",
       "coinbase::DOGE_USDT     47.797336         47.797336           0.0       0.0\n",
       "coinbase::ETH_USDT      11.452708         11.452708           0.0       0.0\n",
       "coinbase::SOL_USDT      13.213502         13.213502           0.0       0.0"
      ]
     },
     "execution_count": 11,
     "metadata": {},
     "output_type": "execute_result"
    }
   ],
   "source": [
    "agg_level_full_symbol = [\"full_symbol\"]\n",
    "coinbase_bad_data_stats = ramccqa.get_bad_data_stats(\n",
    "    coinbase_data, agg_level_full_symbol, vendor_name\n",
    ")\n",
    "coinbase_bad_data_stats"
   ]
  },
  {
   "cell_type": "code",
   "execution_count": 12,
   "id": "def1aa0f",
   "metadata": {
    "ExecuteTime": {
     "end_time": "2022-06-01T15:32:56.626053Z",
     "start_time": "2022-06-01T15:32:54.785126Z"
    }
   },
   "outputs": [
    {
     "data": {
      "text/html": [
       "<div>\n",
       "<style scoped>\n",
       "    .dataframe tbody tr th:only-of-type {\n",
       "        vertical-align: middle;\n",
       "    }\n",
       "\n",
       "    .dataframe tbody tr th {\n",
       "        vertical-align: top;\n",
       "    }\n",
       "\n",
       "    .dataframe thead th {\n",
       "        text-align: right;\n",
       "    }\n",
       "</style>\n",
       "<table border=\"1\" class=\"dataframe\">\n",
       "  <thead>\n",
       "    <tr style=\"text-align: right;\">\n",
       "      <th></th>\n",
       "      <th></th>\n",
       "      <th></th>\n",
       "      <th>bad data [%]</th>\n",
       "      <th>missing bars [%]</th>\n",
       "      <th>volume=0 [%]</th>\n",
       "      <th>NaNs [%]</th>\n",
       "    </tr>\n",
       "  </thead>\n",
       "  <tbody>\n",
       "    <tr>\n",
       "      <th rowspan=\"8\" valign=\"top\">coinbase::BTC_USDT</th>\n",
       "      <th rowspan=\"3\" valign=\"top\">2021</th>\n",
       "      <th>10</th>\n",
       "      <td>2.188912</td>\n",
       "      <td>2.188912</td>\n",
       "      <td>0.0</td>\n",
       "      <td>0.0</td>\n",
       "    </tr>\n",
       "    <tr>\n",
       "      <th>11</th>\n",
       "      <td>2.217593</td>\n",
       "      <td>2.217593</td>\n",
       "      <td>0.0</td>\n",
       "      <td>0.0</td>\n",
       "    </tr>\n",
       "    <tr>\n",
       "      <th>12</th>\n",
       "      <td>7.495520</td>\n",
       "      <td>7.495520</td>\n",
       "      <td>0.0</td>\n",
       "      <td>0.0</td>\n",
       "    </tr>\n",
       "    <tr>\n",
       "      <th rowspan=\"5\" valign=\"top\">2022</th>\n",
       "      <th>1</th>\n",
       "      <td>4.431004</td>\n",
       "      <td>4.431004</td>\n",
       "      <td>0.0</td>\n",
       "      <td>0.0</td>\n",
       "    </tr>\n",
       "    <tr>\n",
       "      <th>2</th>\n",
       "      <td>5.828373</td>\n",
       "      <td>5.828373</td>\n",
       "      <td>0.0</td>\n",
       "      <td>0.0</td>\n",
       "    </tr>\n",
       "    <tr>\n",
       "      <th>3</th>\n",
       "      <td>8.967294</td>\n",
       "      <td>8.967294</td>\n",
       "      <td>0.0</td>\n",
       "      <td>0.0</td>\n",
       "    </tr>\n",
       "    <tr>\n",
       "      <th>4</th>\n",
       "      <td>22.780093</td>\n",
       "      <td>22.780093</td>\n",
       "      <td>0.0</td>\n",
       "      <td>0.0</td>\n",
       "    </tr>\n",
       "    <tr>\n",
       "      <th>5</th>\n",
       "      <td>16.449074</td>\n",
       "      <td>16.449074</td>\n",
       "      <td>0.0</td>\n",
       "      <td>0.0</td>\n",
       "    </tr>\n",
       "    <tr>\n",
       "      <th rowspan=\"8\" valign=\"top\">coinbase::DOGE_USDT</th>\n",
       "      <th rowspan=\"3\" valign=\"top\">2021</th>\n",
       "      <th>10</th>\n",
       "      <td>30.693797</td>\n",
       "      <td>30.693797</td>\n",
       "      <td>0.0</td>\n",
       "      <td>0.0</td>\n",
       "    </tr>\n",
       "    <tr>\n",
       "      <th>11</th>\n",
       "      <td>40.835648</td>\n",
       "      <td>40.835648</td>\n",
       "      <td>0.0</td>\n",
       "      <td>0.0</td>\n",
       "    </tr>\n",
       "    <tr>\n",
       "      <th>12</th>\n",
       "      <td>52.632168</td>\n",
       "      <td>52.632168</td>\n",
       "      <td>0.0</td>\n",
       "      <td>0.0</td>\n",
       "    </tr>\n",
       "    <tr>\n",
       "      <th rowspan=\"5\" valign=\"top\">2022</th>\n",
       "      <th>1</th>\n",
       "      <td>46.055108</td>\n",
       "      <td>46.055108</td>\n",
       "      <td>0.0</td>\n",
       "      <td>0.0</td>\n",
       "    </tr>\n",
       "    <tr>\n",
       "      <th>2</th>\n",
       "      <td>47.440476</td>\n",
       "      <td>47.440476</td>\n",
       "      <td>0.0</td>\n",
       "      <td>0.0</td>\n",
       "    </tr>\n",
       "    <tr>\n",
       "      <th>3</th>\n",
       "      <td>53.929211</td>\n",
       "      <td>53.929211</td>\n",
       "      <td>0.0</td>\n",
       "      <td>0.0</td>\n",
       "    </tr>\n",
       "    <tr>\n",
       "      <th>4</th>\n",
       "      <td>45.935185</td>\n",
       "      <td>45.935185</td>\n",
       "      <td>0.0</td>\n",
       "      <td>0.0</td>\n",
       "    </tr>\n",
       "    <tr>\n",
       "      <th>5</th>\n",
       "      <td>58.726852</td>\n",
       "      <td>58.726852</td>\n",
       "      <td>0.0</td>\n",
       "      <td>0.0</td>\n",
       "    </tr>\n",
       "    <tr>\n",
       "      <th rowspan=\"8\" valign=\"top\">coinbase::ETH_USDT</th>\n",
       "      <th rowspan=\"3\" valign=\"top\">2021</th>\n",
       "      <th>10</th>\n",
       "      <td>5.162330</td>\n",
       "      <td>5.162330</td>\n",
       "      <td>0.0</td>\n",
       "      <td>0.0</td>\n",
       "    </tr>\n",
       "    <tr>\n",
       "      <th>11</th>\n",
       "      <td>4.085648</td>\n",
       "      <td>4.085648</td>\n",
       "      <td>0.0</td>\n",
       "      <td>0.0</td>\n",
       "    </tr>\n",
       "    <tr>\n",
       "      <th>12</th>\n",
       "      <td>7.829301</td>\n",
       "      <td>7.829301</td>\n",
       "      <td>0.0</td>\n",
       "      <td>0.0</td>\n",
       "    </tr>\n",
       "    <tr>\n",
       "      <th rowspan=\"5\" valign=\"top\">2022</th>\n",
       "      <th>1</th>\n",
       "      <td>5.273297</td>\n",
       "      <td>5.273297</td>\n",
       "      <td>0.0</td>\n",
       "      <td>0.0</td>\n",
       "    </tr>\n",
       "    <tr>\n",
       "      <th>2</th>\n",
       "      <td>5.032242</td>\n",
       "      <td>5.032242</td>\n",
       "      <td>0.0</td>\n",
       "      <td>0.0</td>\n",
       "    </tr>\n",
       "    <tr>\n",
       "      <th>3</th>\n",
       "      <td>10.752688</td>\n",
       "      <td>10.752688</td>\n",
       "      <td>0.0</td>\n",
       "      <td>0.0</td>\n",
       "    </tr>\n",
       "    <tr>\n",
       "      <th>4</th>\n",
       "      <td>25.192130</td>\n",
       "      <td>25.192130</td>\n",
       "      <td>0.0</td>\n",
       "      <td>0.0</td>\n",
       "    </tr>\n",
       "    <tr>\n",
       "      <th>5</th>\n",
       "      <td>26.083333</td>\n",
       "      <td>26.083333</td>\n",
       "      <td>0.0</td>\n",
       "      <td>0.0</td>\n",
       "    </tr>\n",
       "    <tr>\n",
       "      <th rowspan=\"8\" valign=\"top\">coinbase::SOL_USDT</th>\n",
       "      <th rowspan=\"3\" valign=\"top\">2021</th>\n",
       "      <th>10</th>\n",
       "      <td>7.987220</td>\n",
       "      <td>7.987220</td>\n",
       "      <td>0.0</td>\n",
       "      <td>0.0</td>\n",
       "    </tr>\n",
       "    <tr>\n",
       "      <th>11</th>\n",
       "      <td>6.634259</td>\n",
       "      <td>6.634259</td>\n",
       "      <td>0.0</td>\n",
       "      <td>0.0</td>\n",
       "    </tr>\n",
       "    <tr>\n",
       "      <th>12</th>\n",
       "      <td>11.559140</td>\n",
       "      <td>11.559140</td>\n",
       "      <td>0.0</td>\n",
       "      <td>0.0</td>\n",
       "    </tr>\n",
       "    <tr>\n",
       "      <th rowspan=\"5\" valign=\"top\">2022</th>\n",
       "      <th>1</th>\n",
       "      <td>11.247760</td>\n",
       "      <td>11.247760</td>\n",
       "      <td>0.0</td>\n",
       "      <td>0.0</td>\n",
       "    </tr>\n",
       "    <tr>\n",
       "      <th>2</th>\n",
       "      <td>8.556548</td>\n",
       "      <td>8.556548</td>\n",
       "      <td>0.0</td>\n",
       "      <td>0.0</td>\n",
       "    </tr>\n",
       "    <tr>\n",
       "      <th>3</th>\n",
       "      <td>14.099462</td>\n",
       "      <td>14.099462</td>\n",
       "      <td>0.0</td>\n",
       "      <td>0.0</td>\n",
       "    </tr>\n",
       "    <tr>\n",
       "      <th>4</th>\n",
       "      <td>23.655093</td>\n",
       "      <td>23.655093</td>\n",
       "      <td>0.0</td>\n",
       "      <td>0.0</td>\n",
       "    </tr>\n",
       "    <tr>\n",
       "      <th>5</th>\n",
       "      <td>19.703704</td>\n",
       "      <td>19.703704</td>\n",
       "      <td>0.0</td>\n",
       "      <td>0.0</td>\n",
       "    </tr>\n",
       "  </tbody>\n",
       "</table>\n",
       "</div>"
      ],
      "text/plain": [
       "                             bad data [%]  missing bars [%]  volume=0 [%]  NaNs [%]\n",
       "coinbase::BTC_USDT  2021 10      2.188912          2.188912           0.0       0.0\n",
       "                         11      2.217593          2.217593           0.0       0.0\n",
       "                         12      7.495520          7.495520           0.0       0.0\n",
       "                    2022 1       4.431004          4.431004           0.0       0.0\n",
       "                         2       5.828373          5.828373           0.0       0.0\n",
       "                         3       8.967294          8.967294           0.0       0.0\n",
       "                         4      22.780093         22.780093           0.0       0.0\n",
       "                         5      16.449074         16.449074           0.0       0.0\n",
       "coinbase::DOGE_USDT 2021 10     30.693797         30.693797           0.0       0.0\n",
       "                         11     40.835648         40.835648           0.0       0.0\n",
       "                         12     52.632168         52.632168           0.0       0.0\n",
       "                    2022 1      46.055108         46.055108           0.0       0.0\n",
       "                         2      47.440476         47.440476           0.0       0.0\n",
       "                         3      53.929211         53.929211           0.0       0.0\n",
       "                         4      45.935185         45.935185           0.0       0.0\n",
       "                         5      58.726852         58.726852           0.0       0.0\n",
       "coinbase::ETH_USDT  2021 10      5.162330          5.162330           0.0       0.0\n",
       "                         11      4.085648          4.085648           0.0       0.0\n",
       "                         12      7.829301          7.829301           0.0       0.0\n",
       "                    2022 1       5.273297          5.273297           0.0       0.0\n",
       "                         2       5.032242          5.032242           0.0       0.0\n",
       "                         3      10.752688         10.752688           0.0       0.0\n",
       "                         4      25.192130         25.192130           0.0       0.0\n",
       "                         5      26.083333         26.083333           0.0       0.0\n",
       "coinbase::SOL_USDT  2021 10      7.987220          7.987220           0.0       0.0\n",
       "                         11      6.634259          6.634259           0.0       0.0\n",
       "                         12     11.559140         11.559140           0.0       0.0\n",
       "                    2022 1      11.247760         11.247760           0.0       0.0\n",
       "                         2       8.556548          8.556548           0.0       0.0\n",
       "                         3      14.099462         14.099462           0.0       0.0\n",
       "                         4      23.655093         23.655093           0.0       0.0\n",
       "                         5      19.703704         19.703704           0.0       0.0"
      ]
     },
     "execution_count": 12,
     "metadata": {},
     "output_type": "execute_result"
    }
   ],
   "source": [
    "agg_level_full_symbol_year_month = [\"full_symbol\", \"year\", \"month\"]\n",
    "coinbase_bad_data_stats_by_year_month = ramccqa.get_bad_data_stats(\n",
    "    coinbase_data, agg_level_full_symbol_year_month, vendor_name\n",
    ")\n",
    "coinbase_bad_data_stats_by_year_month"
   ]
  },
  {
   "cell_type": "code",
   "execution_count": 13,
   "id": "c11f08f2",
   "metadata": {
    "ExecuteTime": {
     "end_time": "2022-06-01T15:32:57.523900Z",
     "start_time": "2022-06-01T15:32:56.628642Z"
    }
   },
   "outputs": [
    {
     "data": {
      "image/png": "[encoded data removed]",
      "text/plain": [
       "<Figure size 1440x360 with 1 Axes>"
      ]
     },
     "metadata": {},
     "output_type": "display_data"
    },
    {
     "data": {
      "image/png": "[encoded data removed]",
      "text/plain": [
       "<Figure size 1440x360 with 1 Axes>"
      ]
     },
     "metadata": {},
     "output_type": "display_data"
    },
    {
     "data": {
      "image/png": "[encoded data removed]",
      "text/plain": [
       "<Figure size 1440x360 with 1 Axes>"
      ]
     },
     "metadata": {},
     "output_type": "display_data"
    },
    {
     "data": {
      "image/png": "[encoded data removed]",
      "text/plain": [
       "<Figure size 1440x360 with 1 Axes>"
      ]
     },
     "metadata": {},
     "output_type": "display_data"
    }
   ],
   "source": [
    "_ = _plot_bad_data_by_year_month_stats(\n",
    "    config, coinbase_bad_data_stats_by_year_month\n",
    ")"
   ]
  }
 ],
 "metadata": {
  "kernelspec": {
   "display_name": "Python 3 (ipykernel)",
   "language": "python",
   "name": "python3"
  },
  "language_info": {
   "codemirror_mode": {
    "name": "ipython",
    "version": 3
   },
   "file_extension": ".py",
   "mimetype": "text/x-python",
   "name": "python",
   "nbconvert_exporter": "python",
   "pygments_lexer": "ipython3",
   "version": "3.8.10"
  },
  "toc": {
   "base_numbering": 1,
   "nav_menu": {},
   "number_sections": true,
   "sideBar": true,
   "skip_h1_title": false,
   "title_cell": "Table of Contents",
   "title_sidebar": "Contents",
   "toc_cell": false,
   "toc_position": {},
   "toc_section_display": true,
   "toc_window_display": false
  }
 },
 "nbformat": 4,
 "nbformat_minor": 5
}
