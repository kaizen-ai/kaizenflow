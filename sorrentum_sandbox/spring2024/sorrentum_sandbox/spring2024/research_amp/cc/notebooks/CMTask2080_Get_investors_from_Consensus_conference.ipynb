{
 "cells": [
  {
   "cell_type": "markdown",
   "id": "ddbe7821",
   "metadata": {},
   "source": [
    "# Imports"
   ]
  },
  {
   "cell_type": "code",
   "execution_count": 1,
   "id": "2f52afe2",
   "metadata": {
    "ExecuteTime": {
     "end_time": "2022-06-22T12:39:52.651550Z",
     "start_time": "2022-06-22T12:39:52.189853Z"
    }
   },
   "outputs": [],
   "source": [
    "import pandas as pd"
   ]
  },
  {
   "cell_type": "markdown",
   "id": "c2a0e4b1",
   "metadata": {},
   "source": [
    "# Load the data"
   ]
  },
  {
   "cell_type": "code",
   "execution_count": 2,
   "id": "c086914e",
   "metadata": {
    "ExecuteTime": {
     "end_time": "2022-06-22T12:39:52.696293Z",
     "start_time": "2022-06-22T12:39:52.655123Z"
    }
   },
   "outputs": [
    {
     "data": {
      "text/html": [
       "<div>\n",
       "<style scoped>\n",
       "    .dataframe tbody tr th:only-of-type {\n",
       "        vertical-align: middle;\n",
       "    }\n",
       "\n",
       "    .dataframe tbody tr th {\n",
       "        vertical-align: top;\n",
       "    }\n",
       "\n",
       "    .dataframe thead th {\n",
       "        text-align: right;\n",
       "    }\n",
       "</style>\n",
       "<table border=\"1\" class=\"dataframe\">\n",
       "  <thead>\n",
       "    <tr style=\"text-align: right;\">\n",
       "      <th></th>\n",
       "      <th>name</th>\n",
       "      <th>job</th>\n",
       "      <th>company</th>\n",
       "    </tr>\n",
       "  </thead>\n",
       "  <tbody>\n",
       "    <tr>\n",
       "      <th>1</th>\n",
       "      <td>Abi Subramanian</td>\n",
       "      <td>General Partner</td>\n",
       "      <td>Black Pine</td>\n",
       "    </tr>\n",
       "    <tr>\n",
       "      <th>2</th>\n",
       "      <td>Abie Cohen</td>\n",
       "      <td>Managing Partner</td>\n",
       "      <td>Centre Street Partners</td>\n",
       "    </tr>\n",
       "    <tr>\n",
       "      <th>3</th>\n",
       "      <td>Abigail Albright</td>\n",
       "      <td>Investorand Product</td>\n",
       "      <td>NaN</td>\n",
       "    </tr>\n",
       "    <tr>\n",
       "      <th>4</th>\n",
       "      <td>Abigail Castro</td>\n",
       "      <td>Developer Evangelist</td>\n",
       "      <td>Swirlds Labs</td>\n",
       "    </tr>\n",
       "    <tr>\n",
       "      <th>6</th>\n",
       "      <td>Abigail Johnson</td>\n",
       "      <td>COO</td>\n",
       "      <td>Sapphire Ventures</td>\n",
       "    </tr>\n",
       "    <tr>\n",
       "      <th>...</th>\n",
       "      <td>...</td>\n",
       "      <td>...</td>\n",
       "      <td>...</td>\n",
       "    </tr>\n",
       "    <tr>\n",
       "      <th>594</th>\n",
       "      <td>Zeno Saviour</td>\n",
       "      <td>Founder &amp;amp; CEO</td>\n",
       "      <td>NaN</td>\n",
       "    </tr>\n",
       "    <tr>\n",
       "      <th>595</th>\n",
       "      <td>Zhuldyz Bakytzhan</td>\n",
       "      <td>Founder</td>\n",
       "      <td>Royal Crypto</td>\n",
       "    </tr>\n",
       "    <tr>\n",
       "      <th>596</th>\n",
       "      <td>Zia Matterblock</td>\n",
       "      <td>NaN</td>\n",
       "      <td>NaN</td>\n",
       "    </tr>\n",
       "    <tr>\n",
       "      <th>597</th>\n",
       "      <td>Zian Wang</td>\n",
       "      <td>Student</td>\n",
       "      <td>Uc Berkeley</td>\n",
       "    </tr>\n",
       "    <tr>\n",
       "      <th>598</th>\n",
       "      <td>Zied Bouchaa</td>\n",
       "      <td>NaN</td>\n",
       "      <td>NaN</td>\n",
       "    </tr>\n",
       "  </tbody>\n",
       "</table>\n",
       "<p>10440 rows × 3 columns</p>\n",
       "</div>"
      ],
      "text/plain": [
       "                  name                   job                 company\n",
       "1      Abi Subramanian       General Partner              Black Pine\n",
       "2           Abie Cohen      Managing Partner  Centre Street Partners\n",
       "3     Abigail Albright   Investorand Product                     NaN\n",
       "4       Abigail Castro  Developer Evangelist            Swirlds Labs\n",
       "6      Abigail Johnson                   COO       Sapphire Ventures\n",
       "..                 ...                   ...                     ...\n",
       "594       Zeno Saviour     Founder &amp; CEO                     NaN\n",
       "595  Zhuldyz Bakytzhan               Founder            Royal Crypto\n",
       "596    Zia Matterblock                   NaN                     NaN\n",
       "597          Zian Wang               Student             Uc Berkeley\n",
       "598       Zied Bouchaa                   NaN                     NaN\n",
       "\n",
       "[10440 rows x 3 columns]"
      ]
     },
     "execution_count": 2,
     "metadata": {},
     "output_type": "execute_result"
    }
   ],
   "source": [
    "data = pd.read_csv(\n",
    "    \"/shared_data/consensus_conference.csv\", index_col=\"Unnamed: 0\"\n",
    ")\n",
    "data"
   ]
  },
  {
   "cell_type": "markdown",
   "id": "7d15e31c",
   "metadata": {},
   "source": [
    "# Tier 1 filter"
   ]
  },
  {
   "cell_type": "markdown",
   "id": "3703e7a8",
   "metadata": {},
   "source": [
    "## Either Partner or VC"
   ]
  },
  {
   "cell_type": "code",
   "execution_count": 3,
   "id": "d038e31e",
   "metadata": {
    "ExecuteTime": {
     "end_time": "2022-06-22T12:39:52.746487Z",
     "start_time": "2022-06-22T12:39:52.698980Z"
    },
    "run_control": {
     "marked": false
    }
   },
   "outputs": [
    {
     "name": "stdout",
     "output_type": "stream",
     "text": [
      "Selecting partner= 560\n",
      "Company count= 521\n",
      "Company count= 88\n"
     ]
    },
    {
     "data": {
      "text/html": [
       "<div>\n",
       "<style scoped>\n",
       "    .dataframe tbody tr th:only-of-type {\n",
       "        vertical-align: middle;\n",
       "    }\n",
       "\n",
       "    .dataframe tbody tr th {\n",
       "        vertical-align: top;\n",
       "    }\n",
       "\n",
       "    .dataframe thead th {\n",
       "        text-align: right;\n",
       "    }\n",
       "</style>\n",
       "<table border=\"1\" class=\"dataframe\">\n",
       "  <thead>\n",
       "    <tr style=\"text-align: right;\">\n",
       "      <th></th>\n",
       "      <th>name</th>\n",
       "      <th>job</th>\n",
       "      <th>company</th>\n",
       "    </tr>\n",
       "  </thead>\n",
       "  <tbody>\n",
       "    <tr>\n",
       "      <th>1</th>\n",
       "      <td>Abi Subramanian</td>\n",
       "      <td>General Partner</td>\n",
       "      <td>Black Pine</td>\n",
       "    </tr>\n",
       "    <tr>\n",
       "      <th>2</th>\n",
       "      <td>Abie Cohen</td>\n",
       "      <td>Managing Partner</td>\n",
       "      <td>Centre Street Partners</td>\n",
       "    </tr>\n",
       "    <tr>\n",
       "      <th>6</th>\n",
       "      <td>Abigail Johnson</td>\n",
       "      <td>COO</td>\n",
       "      <td>Sapphire Ventures</td>\n",
       "    </tr>\n",
       "    <tr>\n",
       "      <th>13</th>\n",
       "      <td>Abraham Choi</td>\n",
       "      <td>Partner / VP of Business Development</td>\n",
       "      <td>Energi</td>\n",
       "    </tr>\n",
       "    <tr>\n",
       "      <th>25</th>\n",
       "      <td>AdamBadrawi</td>\n",
       "      <td>Partner, Comms</td>\n",
       "      <td>Framework Ventures</td>\n",
       "    </tr>\n",
       "    <tr>\n",
       "      <th>...</th>\n",
       "      <td>...</td>\n",
       "      <td>...</td>\n",
       "      <td>...</td>\n",
       "    </tr>\n",
       "    <tr>\n",
       "      <th>569</th>\n",
       "      <td>Wei Guo</td>\n",
       "      <td>Analyst</td>\n",
       "      <td>Whale Rock Capital Management</td>\n",
       "    </tr>\n",
       "    <tr>\n",
       "      <th>574</th>\n",
       "      <td>William Mccormick</td>\n",
       "      <td>Crypto Senior Partnerships</td>\n",
       "      <td>Robinhood</td>\n",
       "    </tr>\n",
       "    <tr>\n",
       "      <th>578</th>\n",
       "      <td>William Zapata</td>\n",
       "      <td>Investor</td>\n",
       "      <td>Thunder Bridge Capital</td>\n",
       "    </tr>\n",
       "    <tr>\n",
       "      <th>589</th>\n",
       "      <td>Yuki Yuminaga</td>\n",
       "      <td>Investment</td>\n",
       "      <td>Fenbushi Capital</td>\n",
       "    </tr>\n",
       "    <tr>\n",
       "      <th>590</th>\n",
       "      <td>Yumei Wang</td>\n",
       "      <td>Founding Partner</td>\n",
       "      <td>Atlas Capital/Imagine Labs</td>\n",
       "    </tr>\n",
       "  </tbody>\n",
       "</table>\n",
       "<p>900 rows × 3 columns</p>\n",
       "</div>"
      ],
      "text/plain": [
       "                  name                                   job  \\\n",
       "1      Abi Subramanian                       General Partner   \n",
       "2           Abie Cohen                      Managing Partner   \n",
       "6      Abigail Johnson                                   COO   \n",
       "13        Abraham Choi  Partner / VP of Business Development   \n",
       "25         AdamBadrawi                        Partner, Comms   \n",
       "..                 ...                                   ...   \n",
       "569            Wei Guo                               Analyst   \n",
       "574  William Mccormick            Crypto Senior Partnerships   \n",
       "578     William Zapata                              Investor   \n",
       "589      Yuki Yuminaga                            Investment   \n",
       "590         Yumei Wang                      Founding Partner   \n",
       "\n",
       "                           company  \n",
       "1                       Black Pine  \n",
       "2           Centre Street Partners  \n",
       "6                Sapphire Ventures  \n",
       "13                          Energi  \n",
       "25              Framework Ventures  \n",
       "..                             ...  \n",
       "569  Whale Rock Capital Management  \n",
       "574                      Robinhood  \n",
       "578         Thunder Bridge Capital  \n",
       "589               Fenbushi Capital  \n",
       "590     Atlas Capital/Imagine Labs  \n",
       "\n",
       "[900 rows x 3 columns]"
      ]
     },
     "execution_count": 3,
     "metadata": {},
     "output_type": "execute_result"
    }
   ],
   "source": [
    "# `Partner` in job.\n",
    "mask1 = data[\"job\"].str.contains(\"Partner\", case=False, na=False)\n",
    "print(\"Selecting partner=\", mask1.sum())\n",
    "# `Venture,Capital,VC` in company.\n",
    "mask2 = data[\"company\"].str.contains(\"venture|capital|VC\", case=False, na=False)\n",
    "print(\"Company count=\", mask2.sum())\n",
    "# Exclude LLP (lawyer firms).\n",
    "mask3 = data[\"company\"].str.contains(\"LLP\", na=False)\n",
    "print(\"Company count=\", mask3.sum())\n",
    "\n",
    "# Collect all Tier-1 contacts.\n",
    "tier1_ease = data[(mask1 | mask2) & ~mask3]\n",
    "tier1_ease = tier1_ease.drop_duplicates()\n",
    "tier1_ease"
   ]
  },
  {
   "cell_type": "markdown",
   "id": "199124f5",
   "metadata": {
    "ExecuteTime": {
     "end_time": "2022-06-22T10:31:07.960704Z",
     "start_time": "2022-06-22T10:31:07.957905Z"
    }
   },
   "source": [
    "## Partner and VC is obligatory"
   ]
  },
  {
   "cell_type": "code",
   "execution_count": 4,
   "id": "9e5e8954",
   "metadata": {
    "ExecuteTime": {
     "end_time": "2022-06-22T12:39:52.803050Z",
     "start_time": "2022-06-22T12:39:52.748296Z"
    }
   },
   "outputs": [
    {
     "name": "stdout",
     "output_type": "stream",
     "text": [
      "Selecting partner= 560\n",
      "Company count= 521\n"
     ]
    },
    {
     "data": {
      "text/html": [
       "<div>\n",
       "<style scoped>\n",
       "    .dataframe tbody tr th:only-of-type {\n",
       "        vertical-align: middle;\n",
       "    }\n",
       "\n",
       "    .dataframe tbody tr th {\n",
       "        vertical-align: top;\n",
       "    }\n",
       "\n",
       "    .dataframe thead th {\n",
       "        text-align: right;\n",
       "    }\n",
       "</style>\n",
       "<table border=\"1\" class=\"dataframe\">\n",
       "  <thead>\n",
       "    <tr style=\"text-align: right;\">\n",
       "      <th></th>\n",
       "      <th>name</th>\n",
       "      <th>job</th>\n",
       "      <th>company</th>\n",
       "    </tr>\n",
       "  </thead>\n",
       "  <tbody>\n",
       "    <tr>\n",
       "      <th>25</th>\n",
       "      <td>AdamBadrawi</td>\n",
       "      <td>Partner, Comms</td>\n",
       "      <td>Framework Ventures</td>\n",
       "    </tr>\n",
       "    <tr>\n",
       "      <th>86</th>\n",
       "      <td>Adam William Davis</td>\n",
       "      <td>Managing Partner | CEO</td>\n",
       "      <td>C3BCNiFund Capital Management</td>\n",
       "    </tr>\n",
       "    <tr>\n",
       "      <th>193</th>\n",
       "      <td>Akash Singhania</td>\n",
       "      <td>Partner @Interblockcapital</td>\n",
       "      <td>Interblock Capital Partners</td>\n",
       "    </tr>\n",
       "    <tr>\n",
       "      <th>292</th>\n",
       "      <td>Alex Cheung</td>\n",
       "      <td>Founding Partner</td>\n",
       "      <td>Baboon VC</td>\n",
       "    </tr>\n",
       "    <tr>\n",
       "      <th>372</th>\n",
       "      <td>Alex Rogalski</td>\n",
       "      <td>Partner</td>\n",
       "      <td>LightSide Capital</td>\n",
       "    </tr>\n",
       "    <tr>\n",
       "      <th>...</th>\n",
       "      <td>...</td>\n",
       "      <td>...</td>\n",
       "      <td>...</td>\n",
       "    </tr>\n",
       "    <tr>\n",
       "      <th>14007</th>\n",
       "      <td>Zach Hawkins</td>\n",
       "      <td>Founding Partner</td>\n",
       "      <td>Lacuna Capital</td>\n",
       "    </tr>\n",
       "    <tr>\n",
       "      <th>14101</th>\n",
       "      <td>Zhiliang Li</td>\n",
       "      <td>Partner</td>\n",
       "      <td>Preon Capital</td>\n",
       "    </tr>\n",
       "    <tr>\n",
       "      <th>116</th>\n",
       "      <td>Cinta Putra</td>\n",
       "      <td>Venture Partner</td>\n",
       "      <td>VoicePunch.VC</td>\n",
       "    </tr>\n",
       "    <tr>\n",
       "      <th>361</th>\n",
       "      <td>Mario Merino</td>\n",
       "      <td>Managing Partner</td>\n",
       "      <td>Borderline Ventures</td>\n",
       "    </tr>\n",
       "    <tr>\n",
       "      <th>590</th>\n",
       "      <td>Yumei Wang</td>\n",
       "      <td>Founding Partner</td>\n",
       "      <td>Atlas Capital/Imagine Labs</td>\n",
       "    </tr>\n",
       "  </tbody>\n",
       "</table>\n",
       "<p>139 rows × 3 columns</p>\n",
       "</div>"
      ],
      "text/plain": [
       "                     name                         job  \\\n",
       "25            AdamBadrawi              Partner, Comms   \n",
       "86     Adam William Davis      Managing Partner | CEO   \n",
       "193       Akash Singhania  Partner @Interblockcapital   \n",
       "292           Alex Cheung            Founding Partner   \n",
       "372         Alex Rogalski                     Partner   \n",
       "...                   ...                         ...   \n",
       "14007        Zach Hawkins            Founding Partner   \n",
       "14101         Zhiliang Li                     Partner   \n",
       "116           Cinta Putra             Venture Partner   \n",
       "361          Mario Merino            Managing Partner   \n",
       "590            Yumei Wang            Founding Partner   \n",
       "\n",
       "                             company  \n",
       "25                Framework Ventures  \n",
       "86     C3BCNiFund Capital Management  \n",
       "193      Interblock Capital Partners  \n",
       "292                        Baboon VC  \n",
       "372                LightSide Capital  \n",
       "...                              ...  \n",
       "14007                 Lacuna Capital  \n",
       "14101                  Preon Capital  \n",
       "116                    VoicePunch.VC  \n",
       "361              Borderline Ventures  \n",
       "590       Atlas Capital/Imagine Labs  \n",
       "\n",
       "[139 rows x 3 columns]"
      ]
     },
     "execution_count": 4,
     "metadata": {},
     "output_type": "execute_result"
    }
   ],
   "source": [
    "# `Partner` in job.\n",
    "mask1 = data[\"job\"].str.contains(\"Partner\", case=False, na=False)\n",
    "print(\"Selecting partner=\", mask1.sum())\n",
    "# `Venture,Capital,VC` in company.\n",
    "mask2 = data[\"company\"].str.contains(\"venture|capital|VC\", case=False, na=False)\n",
    "print(\"Company count=\", mask2.sum())\n",
    "\n",
    "# Collect all Tier-1 contacts.\n",
    "tier1 = data[(mask1 & mask2)]\n",
    "tier1 = tier1.drop_duplicates()\n",
    "tier1"
   ]
  },
  {
   "cell_type": "markdown",
   "id": "2c4b7fe0",
   "metadata": {},
   "source": [
    "## Investment-related jobs"
   ]
  },
  {
   "cell_type": "code",
   "execution_count": 5,
   "id": "6f27e1c3",
   "metadata": {
    "ExecuteTime": {
     "end_time": "2022-06-22T12:39:52.860462Z",
     "start_time": "2022-06-22T12:39:52.805607Z"
    }
   },
   "outputs": [
    {
     "name": "stdout",
     "output_type": "stream",
     "text": [
      "Selecting Investor= 163\n",
      "Selecting Investment= 132\n"
     ]
    },
    {
     "data": {
      "text/html": [
       "<div>\n",
       "<style scoped>\n",
       "    .dataframe tbody tr th:only-of-type {\n",
       "        vertical-align: middle;\n",
       "    }\n",
       "\n",
       "    .dataframe tbody tr th {\n",
       "        vertical-align: top;\n",
       "    }\n",
       "\n",
       "    .dataframe thead th {\n",
       "        text-align: right;\n",
       "    }\n",
       "</style>\n",
       "<table border=\"1\" class=\"dataframe\">\n",
       "  <thead>\n",
       "    <tr style=\"text-align: right;\">\n",
       "      <th></th>\n",
       "      <th>name</th>\n",
       "      <th>job</th>\n",
       "      <th>company</th>\n",
       "    </tr>\n",
       "  </thead>\n",
       "  <tbody>\n",
       "    <tr>\n",
       "      <th>149</th>\n",
       "      <td>Ahmed Alneyadi</td>\n",
       "      <td>Senior Investment Manager</td>\n",
       "      <td>ADIA</td>\n",
       "    </tr>\n",
       "    <tr>\n",
       "      <th>192</th>\n",
       "      <td>Akash Patel</td>\n",
       "      <td>Venture Capital Investments</td>\n",
       "      <td>Alphagrep</td>\n",
       "    </tr>\n",
       "    <tr>\n",
       "      <th>227</th>\n",
       "      <td>Alan Zeng</td>\n",
       "      <td>NFT Investor</td>\n",
       "      <td>AKINGS</td>\n",
       "    </tr>\n",
       "    <tr>\n",
       "      <th>537</th>\n",
       "      <td>Alina Chua</td>\n",
       "      <td>Investor</td>\n",
       "      <td>Mirana Ventures</td>\n",
       "    </tr>\n",
       "    <tr>\n",
       "      <th>546</th>\n",
       "      <td>Alison Hermann</td>\n",
       "      <td>Investment Manager</td>\n",
       "      <td>Trinity University</td>\n",
       "    </tr>\n",
       "    <tr>\n",
       "      <th>...</th>\n",
       "      <td>...</td>\n",
       "      <td>...</td>\n",
       "      <td>...</td>\n",
       "    </tr>\n",
       "    <tr>\n",
       "      <th>536</th>\n",
       "      <td>Thomas Mclaughlin</td>\n",
       "      <td>Chief Investment Officer</td>\n",
       "      <td>Coral DeFi</td>\n",
       "    </tr>\n",
       "    <tr>\n",
       "      <th>548</th>\n",
       "      <td>Trey Tull</td>\n",
       "      <td>Investor</td>\n",
       "      <td>Mask Mafia</td>\n",
       "    </tr>\n",
       "    <tr>\n",
       "      <th>558</th>\n",
       "      <td>Varun Ramakrishnan</td>\n",
       "      <td>Investment Team</td>\n",
       "      <td>General Atlantic</td>\n",
       "    </tr>\n",
       "    <tr>\n",
       "      <th>578</th>\n",
       "      <td>William Zapata</td>\n",
       "      <td>Investor</td>\n",
       "      <td>Thunder Bridge Capital</td>\n",
       "    </tr>\n",
       "    <tr>\n",
       "      <th>589</th>\n",
       "      <td>Yuki Yuminaga</td>\n",
       "      <td>Investment</td>\n",
       "      <td>Fenbushi Capital</td>\n",
       "    </tr>\n",
       "  </tbody>\n",
       "</table>\n",
       "<p>257 rows × 3 columns</p>\n",
       "</div>"
      ],
      "text/plain": [
       "                   name                          job                 company\n",
       "149      Ahmed Alneyadi    Senior Investment Manager                    ADIA\n",
       "192         Akash Patel  Venture Capital Investments               Alphagrep\n",
       "227           Alan Zeng                 NFT Investor                  AKINGS\n",
       "537          Alina Chua                     Investor         Mirana Ventures\n",
       "546      Alison Hermann           Investment Manager      Trinity University\n",
       "..                  ...                          ...                     ...\n",
       "536   Thomas Mclaughlin     Chief Investment Officer              Coral DeFi\n",
       "548           Trey Tull                     Investor              Mask Mafia\n",
       "558  Varun Ramakrishnan              Investment Team        General Atlantic\n",
       "578      William Zapata                     Investor  Thunder Bridge Capital\n",
       "589       Yuki Yuminaga                   Investment        Fenbushi Capital\n",
       "\n",
       "[257 rows x 3 columns]"
      ]
     },
     "execution_count": 5,
     "metadata": {},
     "output_type": "execute_result"
    }
   ],
   "source": [
    "# `Investor` in job.\n",
    "mask1 = data[\"job\"].str.contains(\"investor\", case=False, na=False)\n",
    "print(\"Selecting Investor=\", mask1.sum())\n",
    "# Exclude IR positions.\n",
    "mask2 = data[\"job\"].str.contains(\"Relations\", case=False, na=False)\n",
    "# More investor-related jobs.\n",
    "mask3 = data[\"job\"].str.contains(\"investment\", case=False, na=False)\n",
    "print(\"Selecting Investment=\", mask3.sum())\n",
    "\n",
    "new_names = data[(mask1 | mask3) & ~mask2]\n",
    "# Exclude previously found Tier-1 names.\n",
    "new_names = new_names[~new_names[\"name\"].isin(list(tier1[\"name\"]))]\n",
    "# Drop those with missing `company` field.\n",
    "new_names = new_names[new_names[\"company\"].notna()]\n",
    "# Drop duplicates.\n",
    "new_names = new_names.drop_duplicates(keep=\"last\")\n",
    "new_names"
   ]
  },
  {
   "cell_type": "markdown",
   "id": "729baf32",
   "metadata": {},
   "source": [
    "## Save results"
   ]
  },
  {
   "cell_type": "code",
   "execution_count": 6,
   "id": "d084dac4",
   "metadata": {
    "ExecuteTime": {
     "end_time": "2022-06-22T12:39:52.869910Z",
     "start_time": "2022-06-22T12:39:52.863442Z"
    }
   },
   "outputs": [],
   "source": [
    "new_names.to_csv(\"tier1.csv\")"
   ]
  },
  {
   "cell_type": "markdown",
   "id": "bca78bb0",
   "metadata": {},
   "source": [
    "## Phantombuster format converter"
   ]
  },
  {
   "cell_type": "code",
   "execution_count": 7,
   "id": "5bea3ac7",
   "metadata": {
    "ExecuteTime": {
     "end_time": "2022-06-22T12:39:52.880877Z",
     "start_time": "2022-06-22T12:39:52.871587Z"
    }
   },
   "outputs": [],
   "source": [
    "def conver_to_phantombuster(df):\n",
    "    ph_contacts = df[\"name\"].map(str) + \" \" + df[\"company\"].map(str)\n",
    "    return ph_contacts"
   ]
  },
  {
   "cell_type": "code",
   "execution_count": 8,
   "id": "9e8e1a1a",
   "metadata": {
    "ExecuteTime": {
     "end_time": "2022-06-22T12:39:52.895290Z",
     "start_time": "2022-06-22T12:39:52.883053Z"
    }
   },
   "outputs": [
    {
     "data": {
      "text/plain": [
       "149                      Ahmed Alneyadi ADIA\n",
       "192                    Akash Patel Alphagrep\n",
       "227                         Alan Zeng AKINGS\n",
       "537               Alina Chua Mirana Ventures\n",
       "546        Alison Hermann Trinity University\n",
       "                       ...                  \n",
       "536             Thomas Mclaughlin Coral DeFi\n",
       "548                     Trey Tull Mask Mafia\n",
       "558      Varun Ramakrishnan General Atlantic\n",
       "578    William Zapata Thunder Bridge Capital\n",
       "589           Yuki Yuminaga Fenbushi Capital\n",
       "Length: 257, dtype: object"
      ]
     },
     "execution_count": 8,
     "metadata": {},
     "output_type": "execute_result"
    }
   ],
   "source": [
    "conver_to_phantombuster(new_names)"
   ]
  }
 ],
 "metadata": {
  "kernelspec": {
   "display_name": "Python 3 (ipykernel)",
   "language": "python",
   "name": "python3"
  },
  "language_info": {
   "codemirror_mode": {
    "name": "ipython",
    "version": 3
   },
   "file_extension": ".py",
   "mimetype": "text/x-python",
   "name": "python",
   "nbconvert_exporter": "python",
   "pygments_lexer": "ipython3",
   "version": "3.8.10"
  },
  "toc": {
   "base_numbering": 1,
   "nav_menu": {},
   "number_sections": true,
   "sideBar": true,
   "skip_h1_title": false,
   "title_cell": "Table of Contents",
   "title_sidebar": "Contents",
   "toc_cell": false,
   "toc_position": {},
   "toc_section_display": true,
   "toc_window_display": false
  }
 },
 "nbformat": 4,
 "nbformat_minor": 5
}
