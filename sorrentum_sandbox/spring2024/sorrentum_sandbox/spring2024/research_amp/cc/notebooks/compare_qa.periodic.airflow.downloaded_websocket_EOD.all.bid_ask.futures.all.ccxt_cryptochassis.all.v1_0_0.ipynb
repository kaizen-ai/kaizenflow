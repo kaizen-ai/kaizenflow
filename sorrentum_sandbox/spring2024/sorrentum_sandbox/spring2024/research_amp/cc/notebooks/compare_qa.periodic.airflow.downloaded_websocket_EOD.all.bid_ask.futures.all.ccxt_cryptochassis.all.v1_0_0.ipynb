{
 "cells": [
  {
   "cell_type": "markdown",
   "id": "c874c983",
   "metadata": {},
   "source": [
    "# Description"
   ]
  },
  {
   "cell_type": "markdown",
   "id": "6ad0806f",
   "metadata": {},
   "source": [
    "This notebook conducts the cross-vendor QA between following datasets:\n",
    "\n",
    "- periodic.airflow.websocket.postgres.bid_ask.futures.v7_3.ccxt.binance.\n",
    "- periodic.airflow.downloaded_EOD.postgres.bid_ask.futures.v3.cryptochassis.binance\n",
    "\n",
    "The QA consists of the following data checks:\n",
    "\n",
    "- Start and End date for both datasets\n",
    "- Number of observations pet coin for both datasets\n",
    "- Number of NaNs per dataset\n",
    "- Notional difference (CC value - CCXT value) for `bid_price`, `ask_price`, `bid_size`, `ask_size` columns\n",
    "- Relative difference (CC value - CCXT value)/CCXT value for `bid_price`, `ask_price`, `bid_size`, `ask_size` columns\n",
    "- Pearson correlation for `bid_price`, `ask_price`, `bid_size`, `ask_size` between both datasets"
   ]
  },
  {
   "cell_type": "markdown",
   "id": "e545da78",
   "metadata": {},
   "source": [
    "# Imports"
   ]
  },
  {
   "cell_type": "code",
   "execution_count": 1,
   "id": "c4780eec",
   "metadata": {
    "ExecuteTime": {
     "end_time": "2022-12-21T12:10:51.926717Z",
     "start_time": "2022-12-21T12:10:46.946369Z"
    }
   },
   "outputs": [
    {
     "name": "stderr",
     "output_type": "stream",
     "text": [
      "/app/helpers/hparquet.py:19: TqdmExperimentalWarning: Using `tqdm.autonotebook.tqdm` in notebook mode. Use `tqdm.tqdm` instead to force console mode (e.g. in jupyter console)\n",
      "  from tqdm.autonotebook import tqdm\n"
     ]
    }
   ],
   "source": [
    "%load_ext autoreload\n",
    "%autoreload 2\n",
    "\n",
    "import logging\n",
    "\n",
    "import pandas as pd\n",
    "\n",
    "import core.config as cconfig\n",
    "import helpers.hdbg as hdbg\n",
    "import helpers.henv as henv\n",
    "import helpers.hpandas as hpandas\n",
    "import helpers.hprint as hprint\n",
    "import helpers.hsql as hsql\n",
    "import im_v2.ccxt.data.client as icdcl\n",
    "import im_v2.common.data.transform.transform_utils as imvcdttrut\n",
    "import im_v2.crypto_chassis.data.client as iccdc\n",
    "import im_v2.im_lib_tasks as imvimlita"
   ]
  },
  {
   "cell_type": "code",
   "execution_count": 2,
   "id": "409c1bfd",
   "metadata": {
    "ExecuteTime": {
     "end_time": "2022-12-21T12:10:52.245785Z",
     "start_time": "2022-12-21T12:10:51.931623Z"
    }
   },
   "outputs": [
    {
     "name": "stdout",
     "output_type": "stream",
     "text": [
      "\u001b[0m\u001b[36mINFO\u001b[0m: > cmd='/venv/lib/python3.8/site-packages/ipykernel_launcher.py -f /home/.local/share/jupyter/runtime/kernel-c5ca8c0a-faba-4e07-89c9-e416bdcce797.json'\n",
      "WARNING: Running in Jupyter\n",
      "\u001b[31m-----------------------------------------------------------------------------\n",
      "This code is not in sync with the container:\n",
      "code_version='1.4.1' != container_version='1.4.0'\n",
      "-----------------------------------------------------------------------------\n",
      "You need to:\n",
      "- merge origin/master into your branch with `invoke git_merge_master`\n",
      "- pull the latest container with `invoke docker_pull`\u001b[0m\n",
      "INFO  # Git\n",
      "  branch_name='CMTask3430_factor_out_loading_functions'\n",
      "  hash='3e80d971d'\n",
      "  # Last commits:\n",
      "    * 3e80d971d Daniil Tikhomirov CMTask3430: Factor out config and MarketData                      (22 minutes ago) Wed Dec 21 11:48:48 2022  (HEAD -> CMTask3430_factor_out_loading_functions, origin/CMTask3430_factor_out_loading_functions)\n",
      "    * c784b406c Nina Lee CMTask3423_add_more_tags (#3426)                                  (  17 hours ago) Tue Dec 20 19:25:35 2022  (origin/master, origin/HEAD, master)\n",
      "    * a90b71857 Daniil Tikhomirov Cm task3352 pegged mid algo 2 (#3409)                             (  22 hours ago) Tue Dec 20 13:42:34 2022  (origin/CmTask3419_Create_classes_interfaces_for_client_and_data_QA)\n",
      "# Machine info\n",
      "  system=Linux\n",
      "  node name=9e45128ecbf1\n",
      "  release=5.15.0-1023-aws\n",
      "  version=#27~20.04.1-Ubuntu SMP Wed Oct 26 20:02:26 UTC 2022\n",
      "  machine=x86_64\n",
      "  processor=x86_64\n",
      "  cpu count=8\n",
      "  cpu freq=scpufreq(current=2499.998, min=0.0, max=0.0)\n",
      "  memory=svmem(total=33292886016, available=29082353664, percent=12.6, used=3755597824, free=2415919104, active=12111036416, inactive=16641376256, buffers=2872295424, cached=24249073664, shared=1773568, slab=1805090816)\n",
      "  disk usage=sdiskusage(total=156052275200, used=25680580608, free=130354917376, percent=16.5)\n",
      "# Packages\n",
      "  python: 3.8.10\n",
      "  cvxopt: 1.3.0\n",
      "  cvxpy: 1.2.2\n",
      "  gluonnlp: ?\n",
      "  gluonts: 0.6.7\n",
      "  joblib: 1.2.0\n",
      "  mxnet: 1.9.1\n",
      "  numpy: 1.23.4\n",
      "  pandas: 1.5.1\n",
      "  pyarrow: 10.0.0\n",
      "  scipy: 1.9.3\n",
      "  seaborn: 0.12.1\n",
      "  sklearn: 1.1.3\n",
      "  statsmodels: 0.13.5\n"
     ]
    }
   ],
   "source": [
    "hdbg.init_logger(verbosity=logging.INFO)\n",
    "\n",
    "_LOG = logging.getLogger(__name__)\n",
    "\n",
    "_LOG.info(\"%s\", henv.get_system_signature()[0])\n",
    "\n",
    "hprint.config_notebook()"
   ]
  },
  {
   "cell_type": "markdown",
   "id": "04b9dfc1",
   "metadata": {},
   "source": [
    "# Config"
   ]
  },
  {
   "cell_type": "code",
   "execution_count": 3,
   "id": "260b47a6",
   "metadata": {
    "ExecuteTime": {
     "end_time": "2022-12-21T12:10:52.439578Z",
     "start_time": "2022-12-21T12:10:52.248881Z"
    }
   },
   "outputs": [
    {
     "name": "stdout",
     "output_type": "stream",
     "text": [
      "data: \n",
      "  resample_1sec_to_1min: False\n",
      "  cc_im_client: \n",
      "    universe_version: None\n",
      "    resample_1min: False\n",
      "    contract_type: futures\n",
      "    tag: downloaded_1sec\n",
      "  ccxt_im_client: \n",
      "    resample_1min: False\n",
      "    db_connection: <connection object; dsn: 'user=cryptokaizen_dev password=xxx dbname=im_data_db host=dev-im-db.cpox8ul7pzan.eu-north-1.rds.amazonaws.com port=5432', closed: 0>\n",
      "    table_name: ccxt_bid_ask_futures_raw\n",
      "  read_data: \n",
      "    start_ts: 2022-11-28 00:00:00+00:00\n",
      "    end_ts: 2022-11-29 00:00:00+00:00\n",
      "    columns: None\n",
      "    filter_data_mode: assert\n",
      "column_names: \n",
      "  bid_ask_cols: ['bid_price', 'bid_size', 'ask_price', 'ask_size']\n",
      "order_level: 1\n"
     ]
    }
   ],
   "source": [
    "def get_example_config() -> cconfig.Config:\n",
    "    \"\"\"\n",
    "    Config for comparison of 1sec CryptoChassis and 1sec CCXT bid/ask data.\n",
    "    \"\"\"\n",
    "    config = cconfig.Config()\n",
    "    param_dict = {\n",
    "        \"data\": {\n",
    "            # Whether to resample 1sec data to 1min using our production flow.\n",
    "            # TODO(Danya): Variable overlaps with `resample_1min` parameter for clients.\n",
    "            \"resample_1sec_to_1min\": False,\n",
    "            # Parameters for client initialization.\n",
    "            \"cc_im_client\": {\n",
    "                \"universe_version\": None,\n",
    "                \"resample_1min\": False,\n",
    "                \"contract_type\": \"futures\",\n",
    "                \"tag\": \"downloaded_1sec\",\n",
    "            },\n",
    "            \"ccxt_im_client\": {\n",
    "                \"universe_version\": \"infer_from_data\",\n",
    "                \"resample_1min\": False,\n",
    "                \"db_connection\": hsql.get_connection(\n",
    "                    *hsql.get_connection_info_from_env_file(\n",
    "                        imvimlita.get_db_env_path(\"dev\")\n",
    "                    )\n",
    "                ),\n",
    "                \"table_name\": \"ccxt_bid_ask_futures_raw\",\n",
    "            },\n",
    "            # Parameters for data query.\n",
    "            \"read_data\": {\n",
    "                # Get start/end ts as inputs to script.\n",
    "                #  Note: DB data is archived to S3 every 3 days, so we should use\n",
    "                #  only the latest dates.\n",
    "                \"start_ts\": pd.Timestamp(\"2022-11-28 00:00:00+00:00\"),\n",
    "                \"end_ts\": pd.Timestamp(\"2022-11-29 00:00:00+00:00\"),\n",
    "                \"columns\": None,\n",
    "                \"filter_data_mode\": \"assert\",\n",
    "            },\n",
    "        },\n",
    "        \"column_names\": {\n",
    "            \"bid_ask_cols\": [\n",
    "                \"bid_price\",\n",
    "                \"bid_size\",\n",
    "                \"ask_price\",\n",
    "                \"ask_size\",\n",
    "            ],\n",
    "        },\n",
    "        \"order_level\": 1,\n",
    "    }\n",
    "    config = cconfig.Config.from_dict(param_dict)\n",
    "    return config\n",
    "\n",
    "\n",
    "config = get_example_config()\n",
    "print(config)"
   ]
  },
  {
   "cell_type": "markdown",
   "id": "6185b31c",
   "metadata": {},
   "source": [
    "# Clients"
   ]
  },
  {
   "cell_type": "code",
   "execution_count": null,
   "id": "3a9e85ec",
   "metadata": {
    "ExecuteTime": {
     "start_time": "2022-12-21T12:10:47.539Z"
    }
   },
   "outputs": [
    {
     "name": "stderr",
     "output_type": "stream",
     "text": [
      "/app/helpers/hsql_implementation.py:551: UserWarning: pandas only supports SQLAlchemy connectable (engine/connection) or database string URI or sqlite3 DBAPI2 connection. Other DBAPI2 objects are not tested. Please consider using SQLAlchemy.\n",
      "  df = pd.read_sql_query(query, connection)\n"
     ]
    }
   ],
   "source": [
    "# CCXT client.\n",
    "ccxt_im_client_config = config.get_and_mark_as_used((\"data\", \"ccxt_im_client\"))\n",
    "ccxt_im_client = icdcl.CcxtSqlRealTimeImClient(**ccxt_im_client_config)\n",
    "# CC client.\n",
    "cc_parquet_client_config = config.get_and_mark_as_used((\"data\", \"cc_im_client\"))\n",
    "cc_parquet_client = iccdc.get_CryptoChassisHistoricalPqByTileClient_example2(\n",
    "    **cc_parquet_client_config\n",
    ")"
   ]
  },
  {
   "cell_type": "markdown",
   "id": "9446b8a6",
   "metadata": {},
   "source": [
    "# Universe"
   ]
  },
  {
   "cell_type": "code",
   "execution_count": null,
   "id": "3c94b5be",
   "metadata": {
    "ExecuteTime": {
     "start_time": "2022-12-21T12:10:50.189Z"
    }
   },
   "outputs": [],
   "source": [
    "# DB universe\n",
    "ccxt_universe = ccxt_im_client.get_universe()\n",
    "# CC universe.\n",
    "cc_universe = cc_parquet_client.get_universe()\n",
    "# Intersection of universes that will be used for analysis.\n",
    "universe = list(set(ccxt_universe) & set(cc_universe))"
   ]
  },
  {
   "cell_type": "code",
   "execution_count": null,
   "id": "3de4b2b8",
   "metadata": {
    "ExecuteTime": {
     "start_time": "2022-12-21T12:10:50.327Z"
    }
   },
   "outputs": [],
   "source": [
    "compare_universe = hprint.set_diff_to_str(\n",
    "    cc_universe, ccxt_universe, add_space=True\n",
    ")\n",
    "print(compare_universe)"
   ]
  },
  {
   "cell_type": "markdown",
   "id": "67222cf1",
   "metadata": {},
   "source": [
    "# Load data"
   ]
  },
  {
   "cell_type": "code",
   "execution_count": null,
   "id": "da4f3bbc",
   "metadata": {
    "ExecuteTime": {
     "start_time": "2022-12-21T12:10:51.117Z"
    }
   },
   "outputs": [],
   "source": [
    "read_data_config = config.get_and_mark_as_used((\"data\", \"read_data\"))"
   ]
  },
  {
   "cell_type": "markdown",
   "id": "17321641",
   "metadata": {},
   "source": [
    "## Load CCXT"
   ]
  },
  {
   "cell_type": "code",
   "execution_count": null,
   "id": "21d1a969",
   "metadata": {
    "ExecuteTime": {
     "start_time": "2022-12-21T12:10:51.525Z"
    },
    "run_control": {
     "marked": true
    },
    "scrolled": true
   },
   "outputs": [],
   "source": [
    "ccxt_df = ccxt_im_client.read_data(universe, **read_data_config)"
   ]
  },
  {
   "cell_type": "code",
   "execution_count": null,
   "id": "64441454",
   "metadata": {
    "ExecuteTime": {
     "start_time": "2022-12-21T12:10:52.219Z"
    }
   },
   "outputs": [],
   "source": [
    "display(ccxt_df.head(10))"
   ]
  },
  {
   "cell_type": "markdown",
   "id": "c1b13048",
   "metadata": {},
   "source": [
    "On the first glance:\n",
    "- It has levels where they are not expected to be\n",
    "- The level columns are empty"
   ]
  },
  {
   "cell_type": "markdown",
   "id": "6d0c6ddc",
   "metadata": {},
   "source": [
    "### Clean CCXT data"
   ]
  },
  {
   "cell_type": "code",
   "execution_count": null,
   "id": "b3c2938f",
   "metadata": {
    "ExecuteTime": {
     "start_time": "2022-12-21T12:10:54.311Z"
    },
    "run_control": {
     "marked": true
    },
    "scrolled": true
   },
   "outputs": [],
   "source": [
    "# TODO(Danya): What can be done to make these transformations universal?\n",
    "#  \"if\"-switches based on vendor and type?\n",
    "\n",
    "# Remove level suffix in the TOB column name.\n",
    "ccxt_df.columns = ccxt_df.columns.str.replace(\"_l1\", \"\")\n",
    "# Remove all levels.\n",
    "target_columns = [col for col in ccxt_df.columns if not col[-1].isnumeric()]\n",
    "target_columns = [\n",
    "    col for col in target_columns if col != \"end_download_timestamp\"\n",
    "]\n",
    "ccxt_df = ccxt_df[target_columns]\n",
    "# CCXT timestamp data goes up to milliseconds, so one needs to round it to seconds.\n",
    "ccxt_df.index = ccxt_df.reset_index()[\"timestamp\"].apply(\n",
    "    lambda x: x.ceil(freq=\"S\")\n",
    ")\n",
    "display(ccxt_df.head(10))"
   ]
  },
  {
   "cell_type": "markdown",
   "id": "7b5348dc",
   "metadata": {
    "ExecuteTime": {
     "end_time": "2022-11-17T19:46:16.558856Z",
     "start_time": "2022-11-17T19:46:16.507007Z"
    }
   },
   "source": [
    "## Load СС"
   ]
  },
  {
   "cell_type": "code",
   "execution_count": null,
   "id": "d7807a0f",
   "metadata": {
    "ExecuteTime": {
     "start_time": "2022-12-21T12:10:55.788Z"
    }
   },
   "outputs": [],
   "source": [
    "cc_df = cc_parquet_client.read_data(universe, **read_data_config)\n",
    "display(cc_df.head(10))"
   ]
  },
  {
   "cell_type": "markdown",
   "id": "6026be03",
   "metadata": {},
   "source": [
    "# Resampling data"
   ]
  },
  {
   "cell_type": "code",
   "execution_count": null,
   "id": "51d0feee",
   "metadata": {
    "ExecuteTime": {
     "start_time": "2022-12-21T12:10:56.934Z"
    },
    "lines_to_next_cell": 0
   },
   "outputs": [],
   "source": [
    "# Perform VWAP resampling if required by config.\n",
    "resample_1min = config.get_and_mark_as_used((\"data\", \"resample_1sec_to_1min\"))\n",
    "if resample_1min:\n",
    "    # TODO(Danya): Function as-is has VWAP and TWAP modes and removes the `full_symbol` column.\n",
    "    ccxt_df = imvcdttrut.resample_bid_ask_data_to_1min(ccxt_df, mode=\"VWAP\")\n",
    "    # Fixed during #CmTask3225\n",
    "    cc_df = imvcdttrut.resample_bid_ask_data_to_1min(cc_df, mode=\"VWAP\")"
   ]
  },
  {
   "cell_type": "markdown",
   "id": "71b2fa14",
   "metadata": {},
   "source": [
    "# Analysis"
   ]
  },
  {
   "cell_type": "markdown",
   "id": "1c822c98",
   "metadata": {},
   "source": [
    "## Merge CC and DB data into one DataFrame\n"
   ]
  },
  {
   "cell_type": "code",
   "execution_count": 13,
   "id": "4258afb2",
   "metadata": {
    "ExecuteTime": {
     "end_time": "2022-11-29T16:35:58.774552Z",
     "start_time": "2022-11-29T16:35:58.312630Z"
    }
   },
   "outputs": [],
   "source": [
    "ccxt_df = ccxt_df.reset_index().set_index([\"timestamp\", \"full_symbol\"])\n",
    "cc_df = cc_df.reset_index().set_index([\"timestamp\", \"full_symbol\"])"
   ]
  },
  {
   "cell_type": "code",
   "execution_count": 14,
   "id": "f6980cc5",
   "metadata": {
    "ExecuteTime": {
     "end_time": "2022-11-29T16:36:18.831025Z",
     "start_time": "2022-11-29T16:35:58.777211Z"
    }
   },
   "outputs": [],
   "source": [
    "data = ccxt_df.merge(\n",
    "    cc_df,\n",
    "    how=\"inner\",\n",
    "    left_index=True,\n",
    "    right_index=True,\n",
    "    suffixes=(\"_ccxt\", \"_cc\"),\n",
    ")"
   ]
  },
  {
   "cell_type": "code",
   "execution_count": 15,
   "id": "d7d821f4",
   "metadata": {
    "ExecuteTime": {
     "end_time": "2022-11-29T16:36:20.690850Z",
     "start_time": "2022-11-29T16:36:18.833925Z"
    }
   },
   "outputs": [
    {
     "name": "stdout",
     "output_type": "stream",
     "text": [
      "INFO  Start date = 2022-11-28 00:00:01+00:00\n",
      "INFO  End date = 2022-11-28 23:59:59+00:00\n",
      "INFO  Avg observations per coin = 312973.71428571426\n",
      "INFO  Number of observations with NaNs in CryptoChassis = 0 (0.0%)\n",
      "INFO  Number of observations with NaNs in CCXT = 78392 (0.03569186219896146%)\n",
      "INFO  removed rows with nans: 78392 / 2190816 = 3.58%\n",
      "INFO  Number of observations with bid_size=0 in CryptoChassis = 0 (0.0%)\n",
      "INFO  Number of observations with bid_size=0 in CCXT = 0 (0.0%)\n",
      "INFO  Number of observations with ask_size=0 in CryptoChassis = 0 (0.0%)\n",
      "INFO  Number of observations with ask_size=0 in CCXT = 0 (0.0%)\n",
      "INFO  Number of observations with ask_price >= bid_price in CryptoChassis = 2112424 (3.501286199215021%)\n",
      "INFO  Number of observations with ask_price >= bid_price in CCXT = 2112424 (0.9617862321892409%)\n"
     ]
    },
    {
     "data": {
      "text/html": [
       "<div>\n",
       "<style scoped>\n",
       "    .dataframe tbody tr th:only-of-type {\n",
       "        vertical-align: middle;\n",
       "    }\n",
       "\n",
       "    .dataframe tbody tr th {\n",
       "        vertical-align: top;\n",
       "    }\n",
       "\n",
       "    .dataframe thead th {\n",
       "        text-align: right;\n",
       "    }\n",
       "</style>\n",
       "<table border=\"1\" class=\"dataframe\">\n",
       "  <thead>\n",
       "    <tr style=\"text-align: right;\">\n",
       "      <th></th>\n",
       "      <th></th>\n",
       "      <th>ask_price_cc</th>\n",
       "      <th>ask_price_ccxt</th>\n",
       "      <th>ask_size_cc</th>\n",
       "      <th>ask_size_ccxt</th>\n",
       "      <th>bid_price_cc</th>\n",
       "      <th>bid_price_ccxt</th>\n",
       "      <th>bid_size_cc</th>\n",
       "      <th>bid_size_ccxt</th>\n",
       "      <th>knowledge_timestamp_cc</th>\n",
       "      <th>knowledge_timestamp_ccxt</th>\n",
       "    </tr>\n",
       "    <tr>\n",
       "      <th>timestamp</th>\n",
       "      <th>full_symbol</th>\n",
       "      <th></th>\n",
       "      <th></th>\n",
       "      <th></th>\n",
       "      <th></th>\n",
       "      <th></th>\n",
       "      <th></th>\n",
       "      <th></th>\n",
       "      <th></th>\n",
       "      <th></th>\n",
       "      <th></th>\n",
       "    </tr>\n",
       "  </thead>\n",
       "  <tbody>\n",
       "    <tr>\n",
       "      <th rowspan=\"5\" valign=\"top\">2022-11-28 23:59:59+00:00</th>\n",
       "      <th>binance::SOL_USDT</th>\n",
       "      <td>13.3130</td>\n",
       "      <td>13.3130</td>\n",
       "      <td>37.0</td>\n",
       "      <td>34.0</td>\n",
       "      <td>13.3120</td>\n",
       "      <td>13.3120</td>\n",
       "      <td>114.0</td>\n",
       "      <td>114.0</td>\n",
       "      <td>2022-11-29 11:03:41.070183+00:00</td>\n",
       "      <td>2022-11-28 23:59:58.876401+00:00</td>\n",
       "    </tr>\n",
       "    <tr>\n",
       "      <th>binance::SOL_USDT</th>\n",
       "      <td>13.3130</td>\n",
       "      <td>13.3130</td>\n",
       "      <td>37.0</td>\n",
       "      <td>37.0</td>\n",
       "      <td>13.3120</td>\n",
       "      <td>13.3120</td>\n",
       "      <td>114.0</td>\n",
       "      <td>114.0</td>\n",
       "      <td>2022-11-29 11:03:41.070183+00:00</td>\n",
       "      <td>2022-11-29 00:00:03.580887+00:00</td>\n",
       "    </tr>\n",
       "    <tr>\n",
       "      <th>binance::XRP_USDT</th>\n",
       "      <td>0.3886</td>\n",
       "      <td>0.3889</td>\n",
       "      <td>146086.5</td>\n",
       "      <td>7027.7</td>\n",
       "      <td>0.3885</td>\n",
       "      <td>0.3888</td>\n",
       "      <td>115627.9</td>\n",
       "      <td>80514.4</td>\n",
       "      <td>2022-11-29 11:03:57.272522+00:00</td>\n",
       "      <td>2022-11-28 23:59:58.876401+00:00</td>\n",
       "    </tr>\n",
       "    <tr>\n",
       "      <th>binance::XRP_USDT</th>\n",
       "      <td>0.3886</td>\n",
       "      <td>0.3889</td>\n",
       "      <td>146086.5</td>\n",
       "      <td>7027.7</td>\n",
       "      <td>0.3885</td>\n",
       "      <td>0.3888</td>\n",
       "      <td>115627.9</td>\n",
       "      <td>80514.4</td>\n",
       "      <td>2022-11-29 11:03:57.272522+00:00</td>\n",
       "      <td>2022-11-28 23:59:58.876401+00:00</td>\n",
       "    </tr>\n",
       "    <tr>\n",
       "      <th>binance::XRP_USDT</th>\n",
       "      <td>0.3886</td>\n",
       "      <td>0.3887</td>\n",
       "      <td>146086.5</td>\n",
       "      <td>118488.5</td>\n",
       "      <td>0.3885</td>\n",
       "      <td>0.3886</td>\n",
       "      <td>115627.9</td>\n",
       "      <td>123064.8</td>\n",
       "      <td>2022-11-29 11:03:57.272522+00:00</td>\n",
       "      <td>2022-11-29 00:00:03.580887+00:00</td>\n",
       "    </tr>\n",
       "  </tbody>\n",
       "</table>\n",
       "</div>"
      ],
      "text/plain": [
       "                                             ask_price_cc  ask_price_ccxt  ask_size_cc  ask_size_ccxt  bid_price_cc  bid_price_ccxt  bid_size_cc  bid_size_ccxt           knowledge_timestamp_cc         knowledge_timestamp_ccxt\n",
       "timestamp                 full_symbol                                                                                                                                                                                            \n",
       "2022-11-28 23:59:59+00:00 binance::SOL_USDT       13.3130         13.3130         37.0           34.0       13.3120         13.3120        114.0          114.0 2022-11-29 11:03:41.070183+00:00 2022-11-28 23:59:58.876401+00:00\n",
       "                          binance::SOL_USDT       13.3130         13.3130         37.0           37.0       13.3120         13.3120        114.0          114.0 2022-11-29 11:03:41.070183+00:00 2022-11-29 00:00:03.580887+00:00\n",
       "                          binance::XRP_USDT        0.3886          0.3889     146086.5         7027.7        0.3885          0.3888     115627.9        80514.4 2022-11-29 11:03:57.272522+00:00 2022-11-28 23:59:58.876401+00:00\n",
       "                          binance::XRP_USDT        0.3886          0.3889     146086.5         7027.7        0.3885          0.3888     115627.9        80514.4 2022-11-29 11:03:57.272522+00:00 2022-11-28 23:59:58.876401+00:00\n",
       "                          binance::XRP_USDT        0.3886          0.3887     146086.5       118488.5        0.3885          0.3886     115627.9       123064.8 2022-11-29 11:03:57.272522+00:00 2022-11-29 00:00:03.580887+00:00"
      ]
     },
     "metadata": {},
     "output_type": "display_data"
    }
   ],
   "source": [
    "# Conduct a data sanity check.\n",
    "# Get number of values for both datasets.\n",
    "len_cc_data = len(cc_df)\n",
    "len_ccxt_data = len(ccxt_df)\n",
    "_LOG.info(\"Start date = %s\", data.reset_index()[\"timestamp\"].min())\n",
    "_LOG.info(\"End date = %s\", data.reset_index()[\"timestamp\"].max())\n",
    "_LOG.info(\n",
    "    \"Avg observations per coin = %s\",\n",
    "    len(data) / len(data.reset_index()[\"full_symbol\"].unique()),\n",
    ")\n",
    "# Move the same metrics from two vendors together.\n",
    "data = data.reindex(sorted(data.columns), axis=1)\n",
    "# NaNs observation.\n",
    "nans_cc = len(data[data[\"bid_price_cc\"].isna()])\n",
    "nans_ccxt = len(data[data[\"bid_price_ccxt\"].isna()])\n",
    "_LOG.info(\n",
    "    \"Number of observations with NaNs in CryptoChassis = %s (%s%%)\",\n",
    "    nans_cc,\n",
    "    nans_cc / len_cc_data,\n",
    ")\n",
    "_LOG.info(\n",
    "    \"Number of observations with NaNs in CCXT = %s (%s%%)\",\n",
    "    nans_ccxt,\n",
    "    nans_ccxt / len_ccxt_data,\n",
    ")\n",
    "# Remove NaNs.\n",
    "data = hpandas.dropna(data, report_stats=True)\n",
    "#\n",
    "# Zero bid size.\n",
    "zero_bid_size_cc = len(data[data[\"bid_size_cc\"] == 0])\n",
    "_LOG.info(\n",
    "    \"Number of observations with bid_size=0 in CryptoChassis = %s (%s%%)\",\n",
    "    zero_bid_size_cc,\n",
    "    zero_bid_size_cc / len_cc_data,\n",
    ")\n",
    "zero_bid_size_ccxt = len(data[data[\"bid_size_ccxt\"] == 0])\n",
    "_LOG.info(\n",
    "    \"Number of observations with bid_size=0 in CCXT = %s (%s%%)\",\n",
    "    zero_bid_size_cc,\n",
    "    zero_bid_size_ccxt / len_ccxt_data,\n",
    ")\n",
    "# Zero ask size.\n",
    "zero_ask_size_cc = len(data[data[\"ask_size_cc\"] == 0])\n",
    "_LOG.info(\n",
    "    \"Number of observations with ask_size=0 in CryptoChassis = %s (%s%%)\",\n",
    "    zero_ask_size_cc,\n",
    "    zero_ask_size_cc / len_cc_data,\n",
    ")\n",
    "zero_ask_size_ccxt = len(data[data[\"ask_size_ccxt\"] == 0])\n",
    "_LOG.info(\n",
    "    \"Number of observations with ask_size=0 in CCXT = %s (%s%%)\",\n",
    "    zero_ask_size_cc,\n",
    "    zero_ask_size_ccxt / len_ccxt_data,\n",
    ")\n",
    "#\n",
    "# Bid !< Ask.\n",
    "small_bid_cc = len(data[data[\"ask_price_cc\"] >= data[\"bid_price_cc\"]])\n",
    "_LOG.info(\n",
    "    \"Number of observations with ask_price >= bid_price in CryptoChassis = %s (%s%%)\",\n",
    "    small_bid_cc,\n",
    "    small_bid_cc / len_cc_data,\n",
    ")\n",
    "small_bid_ccxt = len(data[data[\"ask_price_ccxt\"] >= data[\"bid_price_ccxt\"]])\n",
    "_LOG.info(\n",
    "    \"Number of observations with ask_price >= bid_price in CCXT = %s (%s%%)\",\n",
    "    small_bid_ccxt,\n",
    "    small_bid_ccxt / len_ccxt_data,\n",
    ")\n",
    "#\n",
    "display(data.tail())"
   ]
  },
  {
   "cell_type": "markdown",
   "id": "fb66f4ee",
   "metadata": {},
   "source": [
    "## Calculate differences"
   ]
  },
  {
   "cell_type": "code",
   "execution_count": 16,
   "id": "4644d10f",
   "metadata": {
    "ExecuteTime": {
     "end_time": "2022-11-29T16:36:20.865264Z",
     "start_time": "2022-11-29T16:36:20.693159Z"
    }
   },
   "outputs": [],
   "source": [
    "# Full symbol will not be relevant in calculation loops below.\n",
    "bid_ask_cols = config.get_and_mark_as_used((\"column_names\", \"bid_ask_cols\"))\n",
    "# Each bid ask value will have a notional and a relative difference between two sources.\n",
    "for col in bid_ask_cols:\n",
    "    # Notional difference: CC value - DB value.\n",
    "    data[f\"{col}_diff\"] = data[f\"{col}_cc\"] - data[f\"{col}_ccxt\"]\n",
    "    # Relative value: (CC value - DB value)/DB value.\n",
    "    data[f\"{col}_relative_pct_diff\"] = (\n",
    "        100 * (data[f\"{col}_cc\"] - data[f\"{col}_ccxt\"]) / data[f\"{col}_ccxt\"]\n",
    "    )"
   ]
  },
  {
   "cell_type": "code",
   "execution_count": 17,
   "id": "c776d7ff",
   "metadata": {
    "ExecuteTime": {
     "end_time": "2022-11-29T16:36:21.166793Z",
     "start_time": "2022-11-29T16:36:20.869757Z"
    }
   },
   "outputs": [],
   "source": [
    "# Calculate the mean value of differences for each coin.\n",
    "diff_stats = []\n",
    "grouper = data.groupby([\"full_symbol\"])\n",
    "for col in bid_ask_cols:\n",
    "    diff_stats.append(grouper[f\"{col}_diff\"].mean())\n",
    "    diff_stats.append(grouper[f\"{col}_relative_pct_diff\"].mean())\n",
    "#\n",
    "diff_stats = pd.concat(diff_stats, axis=1)"
   ]
  },
  {
   "cell_type": "markdown",
   "id": "82fd4ed6",
   "metadata": {},
   "source": [
    "## Show stats for differences (in %)"
   ]
  },
  {
   "cell_type": "markdown",
   "id": "1a71958e",
   "metadata": {},
   "source": [
    "### Prices"
   ]
  },
  {
   "cell_type": "code",
   "execution_count": 18,
   "id": "ecac1d76",
   "metadata": {
    "ExecuteTime": {
     "end_time": "2022-11-29T16:36:21.211077Z",
     "start_time": "2022-11-29T16:36:21.169002Z"
    }
   },
   "outputs": [
    {
     "data": {
      "text/html": [
       "<div>\n",
       "<style scoped>\n",
       "    .dataframe tbody tr th:only-of-type {\n",
       "        vertical-align: middle;\n",
       "    }\n",
       "\n",
       "    .dataframe tbody tr th {\n",
       "        vertical-align: top;\n",
       "    }\n",
       "\n",
       "    .dataframe thead th {\n",
       "        text-align: right;\n",
       "    }\n",
       "</style>\n",
       "<table border=\"1\" class=\"dataframe\">\n",
       "  <thead>\n",
       "    <tr style=\"text-align: right;\">\n",
       "      <th></th>\n",
       "      <th>bid_price_relative_pct_diff</th>\n",
       "      <th>ask_price_relative_pct_diff</th>\n",
       "    </tr>\n",
       "    <tr>\n",
       "      <th>full_symbol</th>\n",
       "      <th></th>\n",
       "      <th></th>\n",
       "    </tr>\n",
       "  </thead>\n",
       "  <tbody>\n",
       "    <tr>\n",
       "      <th>binance::BNB_USDT</th>\n",
       "      <td>0.000033</td>\n",
       "      <td>0.000039</td>\n",
       "    </tr>\n",
       "    <tr>\n",
       "      <th>binance::BTC_USDT</th>\n",
       "      <td>-0.000016</td>\n",
       "      <td>-0.000015</td>\n",
       "    </tr>\n",
       "    <tr>\n",
       "      <th>binance::DOGE_USDT</th>\n",
       "      <td>-0.000029</td>\n",
       "      <td>-0.000030</td>\n",
       "    </tr>\n",
       "    <tr>\n",
       "      <th>binance::DOT_USDT</th>\n",
       "      <td>-0.000017</td>\n",
       "      <td>-0.000018</td>\n",
       "    </tr>\n",
       "    <tr>\n",
       "      <th>binance::ETH_USDT</th>\n",
       "      <td>-0.000017</td>\n",
       "      <td>-0.000017</td>\n",
       "    </tr>\n",
       "    <tr>\n",
       "      <th>binance::SOL_USDT</th>\n",
       "      <td>-0.000073</td>\n",
       "      <td>-0.000073</td>\n",
       "    </tr>\n",
       "    <tr>\n",
       "      <th>binance::XRP_USDT</th>\n",
       "      <td>-0.000008</td>\n",
       "      <td>-0.000006</td>\n",
       "    </tr>\n",
       "  </tbody>\n",
       "</table>\n",
       "</div>"
      ],
      "text/plain": [
       "                    bid_price_relative_pct_diff  ask_price_relative_pct_diff\n",
       "full_symbol                                                                 \n",
       "binance::BNB_USDT                      0.000033                     0.000039\n",
       "binance::BTC_USDT                     -0.000016                    -0.000015\n",
       "binance::DOGE_USDT                    -0.000029                    -0.000030\n",
       "binance::DOT_USDT                     -0.000017                    -0.000018\n",
       "binance::ETH_USDT                     -0.000017                    -0.000017\n",
       "binance::SOL_USDT                     -0.000073                    -0.000073\n",
       "binance::XRP_USDT                     -0.000008                    -0.000006"
      ]
     },
     "metadata": {},
     "output_type": "display_data"
    }
   ],
   "source": [
    "display(\n",
    "    diff_stats[[\"bid_price_relative_pct_diff\", \"ask_price_relative_pct_diff\"]]\n",
    ")"
   ]
  },
  {
   "cell_type": "markdown",
   "id": "d76df41a",
   "metadata": {},
   "source": [
    "### Sizes"
   ]
  },
  {
   "cell_type": "code",
   "execution_count": 19,
   "id": "7c565559",
   "metadata": {
    "ExecuteTime": {
     "end_time": "2022-11-29T16:36:21.258671Z",
     "start_time": "2022-11-29T16:36:21.213473Z"
    }
   },
   "outputs": [
    {
     "data": {
      "text/html": [
       "<div>\n",
       "<style scoped>\n",
       "    .dataframe tbody tr th:only-of-type {\n",
       "        vertical-align: middle;\n",
       "    }\n",
       "\n",
       "    .dataframe tbody tr th {\n",
       "        vertical-align: top;\n",
       "    }\n",
       "\n",
       "    .dataframe thead th {\n",
       "        text-align: right;\n",
       "    }\n",
       "</style>\n",
       "<table border=\"1\" class=\"dataframe\">\n",
       "  <thead>\n",
       "    <tr style=\"text-align: right;\">\n",
       "      <th></th>\n",
       "      <th>bid_size_relative_pct_diff</th>\n",
       "      <th>ask_size_relative_pct_diff</th>\n",
       "    </tr>\n",
       "    <tr>\n",
       "      <th>full_symbol</th>\n",
       "      <th></th>\n",
       "      <th></th>\n",
       "    </tr>\n",
       "  </thead>\n",
       "  <tbody>\n",
       "    <tr>\n",
       "      <th>binance::BNB_USDT</th>\n",
       "      <td>394.706292</td>\n",
       "      <td>418.207265</td>\n",
       "    </tr>\n",
       "    <tr>\n",
       "      <th>binance::BTC_USDT</th>\n",
       "      <td>958.550336</td>\n",
       "      <td>901.738706</td>\n",
       "    </tr>\n",
       "    <tr>\n",
       "      <th>binance::DOGE_USDT</th>\n",
       "      <td>583.672081</td>\n",
       "      <td>452.044739</td>\n",
       "    </tr>\n",
       "    <tr>\n",
       "      <th>binance::DOT_USDT</th>\n",
       "      <td>88.567735</td>\n",
       "      <td>111.915672</td>\n",
       "    </tr>\n",
       "    <tr>\n",
       "      <th>binance::ETH_USDT</th>\n",
       "      <td>4579.044709</td>\n",
       "      <td>4285.462987</td>\n",
       "    </tr>\n",
       "    <tr>\n",
       "      <th>binance::SOL_USDT</th>\n",
       "      <td>274.383705</td>\n",
       "      <td>335.253219</td>\n",
       "    </tr>\n",
       "    <tr>\n",
       "      <th>binance::XRP_USDT</th>\n",
       "      <td>711.506376</td>\n",
       "      <td>92.460548</td>\n",
       "    </tr>\n",
       "  </tbody>\n",
       "</table>\n",
       "</div>"
      ],
      "text/plain": [
       "                    bid_size_relative_pct_diff  ask_size_relative_pct_diff\n",
       "full_symbol                                                               \n",
       "binance::BNB_USDT                   394.706292                  418.207265\n",
       "binance::BTC_USDT                   958.550336                  901.738706\n",
       "binance::DOGE_USDT                  583.672081                  452.044739\n",
       "binance::DOT_USDT                    88.567735                  111.915672\n",
       "binance::ETH_USDT                  4579.044709                 4285.462987\n",
       "binance::SOL_USDT                   274.383705                  335.253219\n",
       "binance::XRP_USDT                   711.506376                   92.460548"
      ]
     },
     "metadata": {},
     "output_type": "display_data"
    }
   ],
   "source": [
    "display(diff_stats[[\"bid_size_relative_pct_diff\", \"ask_size_relative_pct_diff\"]])"
   ]
  },
  {
   "cell_type": "markdown",
   "id": "a36f2351",
   "metadata": {},
   "source": [
    "## Correlations"
   ]
  },
  {
   "cell_type": "markdown",
   "id": "c329a698",
   "metadata": {},
   "source": [
    "### Bid price"
   ]
  },
  {
   "cell_type": "code",
   "execution_count": 20,
   "id": "9c96865e",
   "metadata": {
    "ExecuteTime": {
     "end_time": "2022-11-29T16:36:21.858875Z",
     "start_time": "2022-11-29T16:36:21.261191Z"
    }
   },
   "outputs": [
    {
     "data": {
      "text/html": [
       "<div>\n",
       "<style scoped>\n",
       "    .dataframe tbody tr th:only-of-type {\n",
       "        vertical-align: middle;\n",
       "    }\n",
       "\n",
       "    .dataframe tbody tr th {\n",
       "        vertical-align: top;\n",
       "    }\n",
       "\n",
       "    .dataframe thead th {\n",
       "        text-align: right;\n",
       "    }\n",
       "</style>\n",
       "<table border=\"1\" class=\"dataframe\">\n",
       "  <thead>\n",
       "    <tr style=\"text-align: right;\">\n",
       "      <th></th>\n",
       "      <th></th>\n",
       "      <th>bid_price_cc</th>\n",
       "      <th>bid_price_ccxt</th>\n",
       "    </tr>\n",
       "    <tr>\n",
       "      <th>full_symbol</th>\n",
       "      <th></th>\n",
       "      <th></th>\n",
       "      <th></th>\n",
       "    </tr>\n",
       "  </thead>\n",
       "  <tbody>\n",
       "    <tr>\n",
       "      <th rowspan=\"2\" valign=\"top\">binance::BNB_USDT</th>\n",
       "      <th>bid_price_cc</th>\n",
       "      <td>1.000000</td>\n",
       "      <td>0.999977</td>\n",
       "    </tr>\n",
       "    <tr>\n",
       "      <th>bid_price_ccxt</th>\n",
       "      <td>0.999977</td>\n",
       "      <td>1.000000</td>\n",
       "    </tr>\n",
       "    <tr>\n",
       "      <th rowspan=\"2\" valign=\"top\">binance::BTC_USDT</th>\n",
       "      <th>bid_price_cc</th>\n",
       "      <td>1.000000</td>\n",
       "      <td>0.999960</td>\n",
       "    </tr>\n",
       "    <tr>\n",
       "      <th>bid_price_ccxt</th>\n",
       "      <td>0.999960</td>\n",
       "      <td>1.000000</td>\n",
       "    </tr>\n",
       "    <tr>\n",
       "      <th rowspan=\"2\" valign=\"top\">binance::DOGE_USDT</th>\n",
       "      <th>bid_price_cc</th>\n",
       "      <td>1.000000</td>\n",
       "      <td>0.999919</td>\n",
       "    </tr>\n",
       "    <tr>\n",
       "      <th>bid_price_ccxt</th>\n",
       "      <td>0.999919</td>\n",
       "      <td>1.000000</td>\n",
       "    </tr>\n",
       "    <tr>\n",
       "      <th rowspan=\"2\" valign=\"top\">binance::DOT_USDT</th>\n",
       "      <th>bid_price_cc</th>\n",
       "      <td>1.000000</td>\n",
       "      <td>0.999961</td>\n",
       "    </tr>\n",
       "    <tr>\n",
       "      <th>bid_price_ccxt</th>\n",
       "      <td>0.999961</td>\n",
       "      <td>1.000000</td>\n",
       "    </tr>\n",
       "    <tr>\n",
       "      <th rowspan=\"2\" valign=\"top\">binance::ETH_USDT</th>\n",
       "      <th>bid_price_cc</th>\n",
       "      <td>1.000000</td>\n",
       "      <td>0.999953</td>\n",
       "    </tr>\n",
       "    <tr>\n",
       "      <th>bid_price_ccxt</th>\n",
       "      <td>0.999953</td>\n",
       "      <td>1.000000</td>\n",
       "    </tr>\n",
       "    <tr>\n",
       "      <th rowspan=\"2\" valign=\"top\">binance::SOL_USDT</th>\n",
       "      <th>bid_price_cc</th>\n",
       "      <td>1.000000</td>\n",
       "      <td>0.999944</td>\n",
       "    </tr>\n",
       "    <tr>\n",
       "      <th>bid_price_ccxt</th>\n",
       "      <td>0.999944</td>\n",
       "      <td>1.000000</td>\n",
       "    </tr>\n",
       "    <tr>\n",
       "      <th rowspan=\"2\" valign=\"top\">binance::XRP_USDT</th>\n",
       "      <th>bid_price_cc</th>\n",
       "      <td>1.000000</td>\n",
       "      <td>0.999975</td>\n",
       "    </tr>\n",
       "    <tr>\n",
       "      <th>bid_price_ccxt</th>\n",
       "      <td>0.999975</td>\n",
       "      <td>1.000000</td>\n",
       "    </tr>\n",
       "  </tbody>\n",
       "</table>\n",
       "</div>"
      ],
      "text/plain": [
       "                                   bid_price_cc  bid_price_ccxt\n",
       "full_symbol                                                    \n",
       "binance::BNB_USDT  bid_price_cc        1.000000        0.999977\n",
       "                   bid_price_ccxt      0.999977        1.000000\n",
       "binance::BTC_USDT  bid_price_cc        1.000000        0.999960\n",
       "                   bid_price_ccxt      0.999960        1.000000\n",
       "binance::DOGE_USDT bid_price_cc        1.000000        0.999919\n",
       "                   bid_price_ccxt      0.999919        1.000000\n",
       "binance::DOT_USDT  bid_price_cc        1.000000        0.999961\n",
       "                   bid_price_ccxt      0.999961        1.000000\n",
       "binance::ETH_USDT  bid_price_cc        1.000000        0.999953\n",
       "                   bid_price_ccxt      0.999953        1.000000\n",
       "binance::SOL_USDT  bid_price_cc        1.000000        0.999944\n",
       "                   bid_price_ccxt      0.999944        1.000000\n",
       "binance::XRP_USDT  bid_price_cc        1.000000        0.999975\n",
       "                   bid_price_ccxt      0.999975        1.000000"
      ]
     },
     "metadata": {},
     "output_type": "display_data"
    }
   ],
   "source": [
    "bid_price_corr_matrix = (\n",
    "    data[[\"bid_price_cc\", \"bid_price_ccxt\"]].groupby(level=1).corr()\n",
    ")\n",
    "display(bid_price_corr_matrix)"
   ]
  },
  {
   "cell_type": "markdown",
   "id": "600d7426",
   "metadata": {},
   "source": [
    "### Ask price"
   ]
  },
  {
   "cell_type": "code",
   "execution_count": 21,
   "id": "c94342b6",
   "metadata": {
    "ExecuteTime": {
     "end_time": "2022-11-29T16:36:22.221064Z",
     "start_time": "2022-11-29T16:36:21.861485Z"
    }
   },
   "outputs": [
    {
     "data": {
      "text/html": [
       "<div>\n",
       "<style scoped>\n",
       "    .dataframe tbody tr th:only-of-type {\n",
       "        vertical-align: middle;\n",
       "    }\n",
       "\n",
       "    .dataframe tbody tr th {\n",
       "        vertical-align: top;\n",
       "    }\n",
       "\n",
       "    .dataframe thead th {\n",
       "        text-align: right;\n",
       "    }\n",
       "</style>\n",
       "<table border=\"1\" class=\"dataframe\">\n",
       "  <thead>\n",
       "    <tr style=\"text-align: right;\">\n",
       "      <th></th>\n",
       "      <th></th>\n",
       "      <th>ask_price_cc</th>\n",
       "      <th>ask_price_ccxt</th>\n",
       "    </tr>\n",
       "    <tr>\n",
       "      <th>full_symbol</th>\n",
       "      <th></th>\n",
       "      <th></th>\n",
       "      <th></th>\n",
       "    </tr>\n",
       "  </thead>\n",
       "  <tbody>\n",
       "    <tr>\n",
       "      <th rowspan=\"2\" valign=\"top\">binance::BNB_USDT</th>\n",
       "      <th>ask_price_cc</th>\n",
       "      <td>1.000000</td>\n",
       "      <td>0.999978</td>\n",
       "    </tr>\n",
       "    <tr>\n",
       "      <th>ask_price_ccxt</th>\n",
       "      <td>0.999978</td>\n",
       "      <td>1.000000</td>\n",
       "    </tr>\n",
       "    <tr>\n",
       "      <th rowspan=\"2\" valign=\"top\">binance::BTC_USDT</th>\n",
       "      <th>ask_price_cc</th>\n",
       "      <td>1.000000</td>\n",
       "      <td>0.999960</td>\n",
       "    </tr>\n",
       "    <tr>\n",
       "      <th>ask_price_ccxt</th>\n",
       "      <td>0.999960</td>\n",
       "      <td>1.000000</td>\n",
       "    </tr>\n",
       "    <tr>\n",
       "      <th rowspan=\"2\" valign=\"top\">binance::DOGE_USDT</th>\n",
       "      <th>ask_price_cc</th>\n",
       "      <td>1.000000</td>\n",
       "      <td>0.999919</td>\n",
       "    </tr>\n",
       "    <tr>\n",
       "      <th>ask_price_ccxt</th>\n",
       "      <td>0.999919</td>\n",
       "      <td>1.000000</td>\n",
       "    </tr>\n",
       "    <tr>\n",
       "      <th rowspan=\"2\" valign=\"top\">binance::DOT_USDT</th>\n",
       "      <th>ask_price_cc</th>\n",
       "      <td>1.000000</td>\n",
       "      <td>0.999962</td>\n",
       "    </tr>\n",
       "    <tr>\n",
       "      <th>ask_price_ccxt</th>\n",
       "      <td>0.999962</td>\n",
       "      <td>1.000000</td>\n",
       "    </tr>\n",
       "    <tr>\n",
       "      <th rowspan=\"2\" valign=\"top\">binance::ETH_USDT</th>\n",
       "      <th>ask_price_cc</th>\n",
       "      <td>1.000000</td>\n",
       "      <td>0.999953</td>\n",
       "    </tr>\n",
       "    <tr>\n",
       "      <th>ask_price_ccxt</th>\n",
       "      <td>0.999953</td>\n",
       "      <td>1.000000</td>\n",
       "    </tr>\n",
       "    <tr>\n",
       "      <th rowspan=\"2\" valign=\"top\">binance::SOL_USDT</th>\n",
       "      <th>ask_price_cc</th>\n",
       "      <td>1.000000</td>\n",
       "      <td>0.999946</td>\n",
       "    </tr>\n",
       "    <tr>\n",
       "      <th>ask_price_ccxt</th>\n",
       "      <td>0.999946</td>\n",
       "      <td>1.000000</td>\n",
       "    </tr>\n",
       "    <tr>\n",
       "      <th rowspan=\"2\" valign=\"top\">binance::XRP_USDT</th>\n",
       "      <th>ask_price_cc</th>\n",
       "      <td>1.000000</td>\n",
       "      <td>0.999975</td>\n",
       "    </tr>\n",
       "    <tr>\n",
       "      <th>ask_price_ccxt</th>\n",
       "      <td>0.999975</td>\n",
       "      <td>1.000000</td>\n",
       "    </tr>\n",
       "  </tbody>\n",
       "</table>\n",
       "</div>"
      ],
      "text/plain": [
       "                                   ask_price_cc  ask_price_ccxt\n",
       "full_symbol                                                    \n",
       "binance::BNB_USDT  ask_price_cc        1.000000        0.999978\n",
       "                   ask_price_ccxt      0.999978        1.000000\n",
       "binance::BTC_USDT  ask_price_cc        1.000000        0.999960\n",
       "                   ask_price_ccxt      0.999960        1.000000\n",
       "binance::DOGE_USDT ask_price_cc        1.000000        0.999919\n",
       "                   ask_price_ccxt      0.999919        1.000000\n",
       "binance::DOT_USDT  ask_price_cc        1.000000        0.999962\n",
       "                   ask_price_ccxt      0.999962        1.000000\n",
       "binance::ETH_USDT  ask_price_cc        1.000000        0.999953\n",
       "                   ask_price_ccxt      0.999953        1.000000\n",
       "binance::SOL_USDT  ask_price_cc        1.000000        0.999946\n",
       "                   ask_price_ccxt      0.999946        1.000000\n",
       "binance::XRP_USDT  ask_price_cc        1.000000        0.999975\n",
       "                   ask_price_ccxt      0.999975        1.000000"
      ]
     },
     "metadata": {},
     "output_type": "display_data"
    }
   ],
   "source": [
    "ask_price_corr_matrix = (\n",
    "    data[[\"ask_price_cc\", \"ask_price_ccxt\"]].groupby(level=1).corr()\n",
    ")\n",
    "display(ask_price_corr_matrix)"
   ]
  },
  {
   "cell_type": "markdown",
   "id": "2d4f5f10",
   "metadata": {},
   "source": [
    "### Bid size"
   ]
  },
  {
   "cell_type": "code",
   "execution_count": 22,
   "id": "ebc62b8a",
   "metadata": {
    "ExecuteTime": {
     "end_time": "2022-11-29T16:36:22.582231Z",
     "start_time": "2022-11-29T16:36:22.223634Z"
    }
   },
   "outputs": [
    {
     "data": {
      "text/html": [
       "<div>\n",
       "<style scoped>\n",
       "    .dataframe tbody tr th:only-of-type {\n",
       "        vertical-align: middle;\n",
       "    }\n",
       "\n",
       "    .dataframe tbody tr th {\n",
       "        vertical-align: top;\n",
       "    }\n",
       "\n",
       "    .dataframe thead th {\n",
       "        text-align: right;\n",
       "    }\n",
       "</style>\n",
       "<table border=\"1\" class=\"dataframe\">\n",
       "  <thead>\n",
       "    <tr style=\"text-align: right;\">\n",
       "      <th></th>\n",
       "      <th></th>\n",
       "      <th>bid_size_cc</th>\n",
       "      <th>bid_size_ccxt</th>\n",
       "    </tr>\n",
       "    <tr>\n",
       "      <th>full_symbol</th>\n",
       "      <th></th>\n",
       "      <th></th>\n",
       "      <th></th>\n",
       "    </tr>\n",
       "  </thead>\n",
       "  <tbody>\n",
       "    <tr>\n",
       "      <th rowspan=\"2\" valign=\"top\">binance::BNB_USDT</th>\n",
       "      <th>bid_size_cc</th>\n",
       "      <td>1.000000</td>\n",
       "      <td>0.690022</td>\n",
       "    </tr>\n",
       "    <tr>\n",
       "      <th>bid_size_ccxt</th>\n",
       "      <td>0.690022</td>\n",
       "      <td>1.000000</td>\n",
       "    </tr>\n",
       "    <tr>\n",
       "      <th rowspan=\"2\" valign=\"top\">binance::BTC_USDT</th>\n",
       "      <th>bid_size_cc</th>\n",
       "      <td>1.000000</td>\n",
       "      <td>0.809734</td>\n",
       "    </tr>\n",
       "    <tr>\n",
       "      <th>bid_size_ccxt</th>\n",
       "      <td>0.809734</td>\n",
       "      <td>1.000000</td>\n",
       "    </tr>\n",
       "    <tr>\n",
       "      <th rowspan=\"2\" valign=\"top\">binance::DOGE_USDT</th>\n",
       "      <th>bid_size_cc</th>\n",
       "      <td>1.000000</td>\n",
       "      <td>0.626774</td>\n",
       "    </tr>\n",
       "    <tr>\n",
       "      <th>bid_size_ccxt</th>\n",
       "      <td>0.626774</td>\n",
       "      <td>1.000000</td>\n",
       "    </tr>\n",
       "    <tr>\n",
       "      <th rowspan=\"2\" valign=\"top\">binance::DOT_USDT</th>\n",
       "      <th>bid_size_cc</th>\n",
       "      <td>1.000000</td>\n",
       "      <td>0.905538</td>\n",
       "    </tr>\n",
       "    <tr>\n",
       "      <th>bid_size_ccxt</th>\n",
       "      <td>0.905538</td>\n",
       "      <td>1.000000</td>\n",
       "    </tr>\n",
       "    <tr>\n",
       "      <th rowspan=\"2\" valign=\"top\">binance::ETH_USDT</th>\n",
       "      <th>bid_size_cc</th>\n",
       "      <td>1.000000</td>\n",
       "      <td>0.792837</td>\n",
       "    </tr>\n",
       "    <tr>\n",
       "      <th>bid_size_ccxt</th>\n",
       "      <td>0.792837</td>\n",
       "      <td>1.000000</td>\n",
       "    </tr>\n",
       "    <tr>\n",
       "      <th rowspan=\"2\" valign=\"top\">binance::SOL_USDT</th>\n",
       "      <th>bid_size_cc</th>\n",
       "      <td>1.000000</td>\n",
       "      <td>0.868521</td>\n",
       "    </tr>\n",
       "    <tr>\n",
       "      <th>bid_size_ccxt</th>\n",
       "      <td>0.868521</td>\n",
       "      <td>1.000000</td>\n",
       "    </tr>\n",
       "    <tr>\n",
       "      <th rowspan=\"2\" valign=\"top\">binance::XRP_USDT</th>\n",
       "      <th>bid_size_cc</th>\n",
       "      <td>1.000000</td>\n",
       "      <td>0.929182</td>\n",
       "    </tr>\n",
       "    <tr>\n",
       "      <th>bid_size_ccxt</th>\n",
       "      <td>0.929182</td>\n",
       "      <td>1.000000</td>\n",
       "    </tr>\n",
       "  </tbody>\n",
       "</table>\n",
       "</div>"
      ],
      "text/plain": [
       "                                  bid_size_cc  bid_size_ccxt\n",
       "full_symbol                                                 \n",
       "binance::BNB_USDT  bid_size_cc       1.000000       0.690022\n",
       "                   bid_size_ccxt     0.690022       1.000000\n",
       "binance::BTC_USDT  bid_size_cc       1.000000       0.809734\n",
       "                   bid_size_ccxt     0.809734       1.000000\n",
       "binance::DOGE_USDT bid_size_cc       1.000000       0.626774\n",
       "                   bid_size_ccxt     0.626774       1.000000\n",
       "binance::DOT_USDT  bid_size_cc       1.000000       0.905538\n",
       "                   bid_size_ccxt     0.905538       1.000000\n",
       "binance::ETH_USDT  bid_size_cc       1.000000       0.792837\n",
       "                   bid_size_ccxt     0.792837       1.000000\n",
       "binance::SOL_USDT  bid_size_cc       1.000000       0.868521\n",
       "                   bid_size_ccxt     0.868521       1.000000\n",
       "binance::XRP_USDT  bid_size_cc       1.000000       0.929182\n",
       "                   bid_size_ccxt     0.929182       1.000000"
      ]
     },
     "metadata": {},
     "output_type": "display_data"
    }
   ],
   "source": [
    "bid_size_corr_matrix = (\n",
    "    data[[\"bid_size_cc\", \"bid_size_ccxt\"]].groupby(level=1).corr()\n",
    ")\n",
    "display(bid_size_corr_matrix)"
   ]
  },
  {
   "cell_type": "markdown",
   "id": "a99c1ed6",
   "metadata": {},
   "source": [
    "### Ask size"
   ]
  },
  {
   "cell_type": "code",
   "execution_count": 23,
   "id": "7adeb33f",
   "metadata": {
    "ExecuteTime": {
     "end_time": "2022-11-29T16:36:23.197083Z",
     "start_time": "2022-11-29T16:36:22.583906Z"
    }
   },
   "outputs": [
    {
     "data": {
      "text/html": [
       "<div>\n",
       "<style scoped>\n",
       "    .dataframe tbody tr th:only-of-type {\n",
       "        vertical-align: middle;\n",
       "    }\n",
       "\n",
       "    .dataframe tbody tr th {\n",
       "        vertical-align: top;\n",
       "    }\n",
       "\n",
       "    .dataframe thead th {\n",
       "        text-align: right;\n",
       "    }\n",
       "</style>\n",
       "<table border=\"1\" class=\"dataframe\">\n",
       "  <thead>\n",
       "    <tr style=\"text-align: right;\">\n",
       "      <th></th>\n",
       "      <th></th>\n",
       "      <th>ask_size_cc</th>\n",
       "      <th>ask_size_ccxt</th>\n",
       "    </tr>\n",
       "    <tr>\n",
       "      <th>full_symbol</th>\n",
       "      <th></th>\n",
       "      <th></th>\n",
       "      <th></th>\n",
       "    </tr>\n",
       "  </thead>\n",
       "  <tbody>\n",
       "    <tr>\n",
       "      <th rowspan=\"2\" valign=\"top\">binance::BNB_USDT</th>\n",
       "      <th>ask_size_cc</th>\n",
       "      <td>1.000000</td>\n",
       "      <td>0.529040</td>\n",
       "    </tr>\n",
       "    <tr>\n",
       "      <th>ask_size_ccxt</th>\n",
       "      <td>0.529040</td>\n",
       "      <td>1.000000</td>\n",
       "    </tr>\n",
       "    <tr>\n",
       "      <th rowspan=\"2\" valign=\"top\">binance::BTC_USDT</th>\n",
       "      <th>ask_size_cc</th>\n",
       "      <td>1.000000</td>\n",
       "      <td>0.817335</td>\n",
       "    </tr>\n",
       "    <tr>\n",
       "      <th>ask_size_ccxt</th>\n",
       "      <td>0.817335</td>\n",
       "      <td>1.000000</td>\n",
       "    </tr>\n",
       "    <tr>\n",
       "      <th rowspan=\"2\" valign=\"top\">binance::DOGE_USDT</th>\n",
       "      <th>ask_size_cc</th>\n",
       "      <td>1.000000</td>\n",
       "      <td>0.716040</td>\n",
       "    </tr>\n",
       "    <tr>\n",
       "      <th>ask_size_ccxt</th>\n",
       "      <td>0.716040</td>\n",
       "      <td>1.000000</td>\n",
       "    </tr>\n",
       "    <tr>\n",
       "      <th rowspan=\"2\" valign=\"top\">binance::DOT_USDT</th>\n",
       "      <th>ask_size_cc</th>\n",
       "      <td>1.000000</td>\n",
       "      <td>0.862673</td>\n",
       "    </tr>\n",
       "    <tr>\n",
       "      <th>ask_size_ccxt</th>\n",
       "      <td>0.862673</td>\n",
       "      <td>1.000000</td>\n",
       "    </tr>\n",
       "    <tr>\n",
       "      <th rowspan=\"2\" valign=\"top\">binance::ETH_USDT</th>\n",
       "      <th>ask_size_cc</th>\n",
       "      <td>1.000000</td>\n",
       "      <td>0.830717</td>\n",
       "    </tr>\n",
       "    <tr>\n",
       "      <th>ask_size_ccxt</th>\n",
       "      <td>0.830717</td>\n",
       "      <td>1.000000</td>\n",
       "    </tr>\n",
       "    <tr>\n",
       "      <th rowspan=\"2\" valign=\"top\">binance::SOL_USDT</th>\n",
       "      <th>ask_size_cc</th>\n",
       "      <td>1.000000</td>\n",
       "      <td>0.661878</td>\n",
       "    </tr>\n",
       "    <tr>\n",
       "      <th>ask_size_ccxt</th>\n",
       "      <td>0.661878</td>\n",
       "      <td>1.000000</td>\n",
       "    </tr>\n",
       "    <tr>\n",
       "      <th rowspan=\"2\" valign=\"top\">binance::XRP_USDT</th>\n",
       "      <th>ask_size_cc</th>\n",
       "      <td>1.000000</td>\n",
       "      <td>0.896820</td>\n",
       "    </tr>\n",
       "    <tr>\n",
       "      <th>ask_size_ccxt</th>\n",
       "      <td>0.896820</td>\n",
       "      <td>1.000000</td>\n",
       "    </tr>\n",
       "  </tbody>\n",
       "</table>\n",
       "</div>"
      ],
      "text/plain": [
       "                                  ask_size_cc  ask_size_ccxt\n",
       "full_symbol                                                 \n",
       "binance::BNB_USDT  ask_size_cc       1.000000       0.529040\n",
       "                   ask_size_ccxt     0.529040       1.000000\n",
       "binance::BTC_USDT  ask_size_cc       1.000000       0.817335\n",
       "                   ask_size_ccxt     0.817335       1.000000\n",
       "binance::DOGE_USDT ask_size_cc       1.000000       0.716040\n",
       "                   ask_size_ccxt     0.716040       1.000000\n",
       "binance::DOT_USDT  ask_size_cc       1.000000       0.862673\n",
       "                   ask_size_ccxt     0.862673       1.000000\n",
       "binance::ETH_USDT  ask_size_cc       1.000000       0.830717\n",
       "                   ask_size_ccxt     0.830717       1.000000\n",
       "binance::SOL_USDT  ask_size_cc       1.000000       0.661878\n",
       "                   ask_size_ccxt     0.661878       1.000000\n",
       "binance::XRP_USDT  ask_size_cc       1.000000       0.896820\n",
       "                   ask_size_ccxt     0.896820       1.000000"
      ]
     },
     "metadata": {},
     "output_type": "display_data"
    }
   ],
   "source": [
    "ask_size_corr_matrix = (\n",
    "    data[[\"ask_size_cc\", \"ask_size_ccxt\"]].groupby(level=1).corr()\n",
    ")\n",
    "display(ask_size_corr_matrix)"
   ]
  },
  {
   "cell_type": "markdown",
   "id": "4f5d2fd0",
   "metadata": {},
   "source": [
    "# Check unused variables in config"
   ]
  },
  {
   "cell_type": "code",
   "execution_count": 24,
   "id": "a1edb56f",
   "metadata": {
    "ExecuteTime": {
     "end_time": "2022-11-29T16:36:23.276953Z",
     "start_time": "2022-11-29T16:36:23.202594Z"
    },
    "run_control": {
     "marked": true
    }
   },
   "outputs": [
    {
     "data": {
      "text/plain": [
       "data (marked_as_used=False, writer=None, val_type=core.config.config_.Config): \n",
       "  resample_1sec_to_1min (marked_as_used=True, writer=/tmp/ipykernel_2138/2074502587.py::2::<module>, val_type=bool): False\n",
       "  cc_im_client (marked_as_used=False, writer=None, val_type=core.config.config_.Config): \n",
       "    universe_version (marked_as_used=True, writer=/tmp/ipykernel_2138/3273197507.py::5::<module>, val_type=NoneType): None\n",
       "    resample_1min (marked_as_used=True, writer=/tmp/ipykernel_2138/3273197507.py::5::<module>, val_type=bool): False\n",
       "    contract_type (marked_as_used=True, writer=/tmp/ipykernel_2138/3273197507.py::5::<module>, val_type=str): futures\n",
       "    tag (marked_as_used=True, writer=/tmp/ipykernel_2138/3273197507.py::5::<module>, val_type=str): downloaded_1sec\n",
       "  ccxt_im_client (marked_as_used=False, writer=None, val_type=core.config.config_.Config): \n",
       "    resample_1min (marked_as_used=True, writer=/tmp/ipykernel_2138/3273197507.py::2::<module>, val_type=bool): False\n",
       "    db_connection (marked_as_used=True, writer=/tmp/ipykernel_2138/3273197507.py::2::<module>, val_type=psycopg2.extensions.connection): <connection object; dsn: 'user=cryptokaizen_dev password=xxx dbname=im_data_db host=dev-im-db.cpox8ul7pzan.eu-north-1.rds.amazonaws.com port=5432', closed: 0>\n",
       "    table_name (marked_as_used=True, writer=/tmp/ipykernel_2138/3273197507.py::2::<module>, val_type=str): ccxt_bid_ask_futures_raw\n",
       "  read_data (marked_as_used=False, writer=None, val_type=core.config.config_.Config): \n",
       "    start_ts (marked_as_used=True, writer=/tmp/ipykernel_2138/2621709818.py::1::<module>, val_type=pandas._libs.tslibs.timestamps.Timestamp): 2022-11-28 00:00:00+00:00\n",
       "    end_ts (marked_as_used=True, writer=/tmp/ipykernel_2138/2621709818.py::1::<module>, val_type=pandas._libs.tslibs.timestamps.Timestamp): 2022-11-29 00:00:00+00:00\n",
       "    columns (marked_as_used=True, writer=/tmp/ipykernel_2138/2621709818.py::1::<module>, val_type=NoneType): None\n",
       "    filter_data_mode (marked_as_used=True, writer=/tmp/ipykernel_2138/2621709818.py::1::<module>, val_type=str): assert\n",
       "column_names (marked_as_used=False, writer=None, val_type=core.config.config_.Config): \n",
       "  bid_ask_cols (marked_as_used=True, writer=/tmp/ipykernel_2138/396139404.py::2::<module>, val_type=list): ['bid_price', 'bid_size', 'ask_price', 'ask_size']\n",
       "order_level (marked_as_used=False, writer=None, val_type=int): 1"
      ]
     },
     "metadata": {},
     "output_type": "display_data"
    }
   ],
   "source": [
    "display(config)"
   ]
  }
 ],
 "metadata": {
  "kernelspec": {
   "display_name": "Python 3 (ipykernel)",
   "language": "python",
   "name": "python3"
  },
  "language_info": {
   "codemirror_mode": {
    "name": "ipython",
    "version": 3
   },
   "file_extension": ".py",
   "mimetype": "text/x-python",
   "name": "python",
   "nbconvert_exporter": "python",
   "pygments_lexer": "ipython3",
   "version": "3.8.10 (default, Nov 14 2022, 12:59:47) \n[GCC 9.4.0]"
  },
  "toc": {
   "base_numbering": 1,
   "nav_menu": {},
   "number_sections": true,
   "sideBar": true,
   "skip_h1_title": false,
   "title_cell": "Table of Contents",
   "title_sidebar": "Contents",
   "toc_cell": false,
   "toc_position": {
    "height": "calc(100% - 180px)",
    "left": "10px",
    "top": "150px",
    "width": "249px"
   },
   "toc_section_display": true,
   "toc_window_display": true
  },
  "vscode": {
   "interpreter": {
    "hash": "916dbcbb3f70747c44a77c7bcd40155683ae19c65e1c03b4aa3499c5328201f1"
   }
  }
 },
 "nbformat": 4,
 "nbformat_minor": 5
}
