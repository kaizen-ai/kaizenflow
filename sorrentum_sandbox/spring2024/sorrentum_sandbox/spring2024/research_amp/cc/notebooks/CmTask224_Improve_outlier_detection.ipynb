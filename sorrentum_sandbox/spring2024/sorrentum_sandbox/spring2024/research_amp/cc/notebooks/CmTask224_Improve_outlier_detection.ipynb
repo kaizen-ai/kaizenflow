{
 "cells": [
  {
   "cell_type": "markdown",
   "id": "6c7d4ad7",
   "metadata": {},
   "source": [
    "# Description"
   ]
  },
  {
   "cell_type": "markdown",
   "id": "865f664a",
   "metadata": {},
   "source": [
    "This notebook explores approaches to detect outliers in crypto data."
   ]
  },
  {
   "cell_type": "markdown",
   "id": "743eba77",
   "metadata": {},
   "source": [
    "# Imports"
   ]
  },
  {
   "cell_type": "code",
   "execution_count": 1,
   "id": "6541f5db",
   "metadata": {
    "ExecuteTime": {
     "end_time": "2022-01-26T20:17:08.786125Z",
     "start_time": "2022-01-26T20:17:07.970804Z"
    }
   },
   "outputs": [],
   "source": [
    "import logging\n",
    "import os\n",
    "\n",
    "import pandas as pd\n",
    "\n",
    "import helpers.hdbg as hdbg\n",
    "import helpers.henv as henv\n",
    "import helpers.hprint as hprint\n",
    "import helpers.hs3 as hs3\n",
    "import im_v2.ccxt.data.client as icdcl\n",
    "import research_amp.cc.detect_outliers as raccdeou"
   ]
  },
  {
   "cell_type": "code",
   "execution_count": 2,
   "id": "0ac98ec8",
   "metadata": {
    "ExecuteTime": {
     "end_time": "2022-01-14T12:49:11.202608Z",
     "start_time": "2022-01-14T12:49:07.848892Z"
    },
    "scrolled": true
   },
   "outputs": [
    {
     "name": "stdout",
     "output_type": "stream",
     "text": [
      "\u001b[0m\u001b[36mINFO\u001b[0m: > cmd='/venv/lib/python3.8/site-packages/ipykernel_launcher.py -f /home/.local/share/jupyter/runtime/kernel-b696e359-7882-47f9-8018-5d85930f8afd.json'\n",
      "\u001b[33mWARNING\u001b[0m: Running in Jupyter\n",
      ">>ENV<<: is_inside_container=True: code_version=1.0.6, container_version=1.0.6, is_inside_docker=True, is_inside_ci=False, CI_defined=True, CI=''\n",
      ">>ENV<<: AM_AWS_PROFILE=True AM_ECR_BASE_PATH=True AM_S3_BUCKET=True AM_TELEGRAM_TOKEN=True AWS_ACCESS_KEY_ID=False AWS_DEFAULT_REGION=False AWS_SECRET_ACCESS_KEY=False GH_ACTION_ACCESS_TOKEN=True\n",
      "# Git\n",
      "    branch_name='CMTask922_refactor_ccxt_clients'\n",
      "    hash='87aafc12f'\n",
      "    # Last commits:\n",
      "      *   87aafc12f Grisha   Merge branch 'master' into CMTask922_refactor_ccxt_clients        ( 5 minutes ago) Fri Jan 14 12:43:55 2022  (HEAD -> CMTask922_refactor_ccxt_clients, origin/CMTask922_refactor_ccxt_clients)\n",
      "      |\\  \n",
      "      | * a560380c1 DanilYachmenev CmTask949: remove data_type from CCXT clients (#958)              (15 minutes ago) Fri Jan 14 12:33:39 2022  (origin/master, origin/HEAD)\n",
      "      | * 8762a0b2b jsmerix  Cm task846 implement centralized storage of api keys (#959)       (   2 hours ago) Fri Jan 14 11:11:03 2022           \n",
      "# Machine info\n",
      "    system=Linux\n",
      "    node name=808a13a45b67\n",
      "    release=5.11.0-1025-aws\n",
      "    version=#27~20.04.1-Ubuntu SMP Fri Jan 7 13:09:56 UTC 2022\n",
      "    machine=x86_64\n",
      "    processor=x86_64\n",
      "    cpu count=4\n",
      "    cpu freq=scpufreq(current=2499.998, min=0.0, max=0.0)\n",
      "    memory=svmem(total=16586833920, available=1096839168, percent=93.4, used=14883377152, free=600403968, active=364343296, inactive=14909681664, buffers=69771264, cached=1033281536, shared=252190720, slab=401244160)\n",
      "    disk usage=sdiskusage(total=104021790720, used=69465239552, free=34539773952, percent=66.8)\n",
      "# Packages\n",
      "    python: 3.8.10\n",
      "    gluonnlp: ?\n",
      "    gluonts: 0.6.7\n",
      "    joblib: 1.1.0\n",
      "    mxnet: 1.9.0\n",
      "    numpy: 1.22.0\n",
      "    pandas: 1.3.5\n",
      "    pyarrow: 6.0.1\n",
      "    scipy: 1.6.1\n",
      "    seaborn: 0.11.2\n",
      "    sklearn: 1.0.2\n",
      "    statsmodels: 0.13.1\n",
      "\u001b[33mWARNING\u001b[0m: Disabling annoying warnings\n"
     ]
    }
   ],
   "source": [
    "hdbg.init_logger(verbosity=logging.INFO)\n",
    "\n",
    "_LOG = logging.getLogger(__name__)\n",
    "\n",
    "_LOG.info(\"%s\", henv.get_system_signature()[0])\n",
    "\n",
    "hprint.config_notebook()\n",
    "\n",
    "AM_AWS_PROFILE = \"am\""
   ]
  },
  {
   "cell_type": "markdown",
   "id": "5e17925d",
   "metadata": {},
   "source": [
    "# Load test data"
   ]
  },
  {
   "cell_type": "code",
   "execution_count": 2,
   "id": "f16bb0ca",
   "metadata": {
    "ExecuteTime": {
     "end_time": "2022-01-26T20:17:24.787278Z",
     "start_time": "2022-01-26T20:17:11.919428Z"
    },
    "scrolled": false
   },
   "outputs": [
    {
     "name": "stderr",
     "output_type": "stream",
     "text": [
      "Removed 39881 / 1502412 = 2.65% rows\n"
     ]
    },
    {
     "data": {
      "text/html": [
       "<div>\n",
       "<style scoped>\n",
       "    .dataframe tbody tr th:only-of-type {\n",
       "        vertical-align: middle;\n",
       "    }\n",
       "\n",
       "    .dataframe tbody tr th {\n",
       "        vertical-align: top;\n",
       "    }\n",
       "\n",
       "    .dataframe thead th {\n",
       "        text-align: right;\n",
       "    }\n",
       "</style>\n",
       "<table border=\"1\" class=\"dataframe\">\n",
       "  <thead>\n",
       "    <tr style=\"text-align: right;\">\n",
       "      <th></th>\n",
       "      <th>full_symbol</th>\n",
       "      <th>open</th>\n",
       "      <th>high</th>\n",
       "      <th>low</th>\n",
       "      <th>close</th>\n",
       "      <th>volume</th>\n",
       "      <th>currency_pair</th>\n",
       "      <th>exchange_id</th>\n",
       "    </tr>\n",
       "    <tr>\n",
       "      <th>timestamp</th>\n",
       "      <th></th>\n",
       "      <th></th>\n",
       "      <th></th>\n",
       "      <th></th>\n",
       "      <th></th>\n",
       "      <th></th>\n",
       "      <th></th>\n",
       "      <th></th>\n",
       "    </tr>\n",
       "  </thead>\n",
       "  <tbody>\n",
       "    <tr>\n",
       "      <th>2018-08-17 00:01:00+00:00</th>\n",
       "      <td>kucoin::ETH_USDT</td>\n",
       "      <td>286.712987</td>\n",
       "      <td>286.712987</td>\n",
       "      <td>286.712987</td>\n",
       "      <td>286.712987</td>\n",
       "      <td>0.017500</td>\n",
       "      <td>ETH_USDT</td>\n",
       "      <td>kucoin</td>\n",
       "    </tr>\n",
       "    <tr>\n",
       "      <th>2018-08-17 00:02:00+00:00</th>\n",
       "      <td>kucoin::ETH_USDT</td>\n",
       "      <td>286.405988</td>\n",
       "      <td>286.405988</td>\n",
       "      <td>285.400193</td>\n",
       "      <td>285.400197</td>\n",
       "      <td>0.162255</td>\n",
       "      <td>ETH_USDT</td>\n",
       "      <td>kucoin</td>\n",
       "    </tr>\n",
       "    <tr>\n",
       "      <th>2018-08-17 00:03:00+00:00</th>\n",
       "      <td>kucoin::ETH_USDT</td>\n",
       "      <td>285.400193</td>\n",
       "      <td>285.400193</td>\n",
       "      <td>285.400193</td>\n",
       "      <td>285.400193</td>\n",
       "      <td>0.020260</td>\n",
       "      <td>ETH_USDT</td>\n",
       "      <td>kucoin</td>\n",
       "    </tr>\n",
       "    <tr>\n",
       "      <th>2018-08-17 00:04:00+00:00</th>\n",
       "      <td>kucoin::ETH_USDT</td>\n",
       "      <td>285.400193</td>\n",
       "      <td>285.884638</td>\n",
       "      <td>285.400193</td>\n",
       "      <td>285.884638</td>\n",
       "      <td>0.074655</td>\n",
       "      <td>ETH_USDT</td>\n",
       "      <td>kucoin</td>\n",
       "    </tr>\n",
       "    <tr>\n",
       "      <th>2018-08-17 00:05:00+00:00</th>\n",
       "      <td>kucoin::ETH_USDT</td>\n",
       "      <td>285.400196</td>\n",
       "      <td>285.884637</td>\n",
       "      <td>285.400196</td>\n",
       "      <td>285.884637</td>\n",
       "      <td>0.006141</td>\n",
       "      <td>ETH_USDT</td>\n",
       "      <td>kucoin</td>\n",
       "    </tr>\n",
       "  </tbody>\n",
       "</table>\n",
       "</div>"
      ],
      "text/plain": [
       "                                full_symbol        open        high  \\\n",
       "timestamp                                                             \n",
       "2018-08-17 00:01:00+00:00  kucoin::ETH_USDT  286.712987  286.712987   \n",
       "2018-08-17 00:02:00+00:00  kucoin::ETH_USDT  286.405988  286.405988   \n",
       "2018-08-17 00:03:00+00:00  kucoin::ETH_USDT  285.400193  285.400193   \n",
       "2018-08-17 00:04:00+00:00  kucoin::ETH_USDT  285.400193  285.884638   \n",
       "2018-08-17 00:05:00+00:00  kucoin::ETH_USDT  285.400196  285.884637   \n",
       "\n",
       "                                  low       close    volume currency_pair  \\\n",
       "timestamp                                                                   \n",
       "2018-08-17 00:01:00+00:00  286.712987  286.712987  0.017500      ETH_USDT   \n",
       "2018-08-17 00:02:00+00:00  285.400193  285.400197  0.162255      ETH_USDT   \n",
       "2018-08-17 00:03:00+00:00  285.400193  285.400193  0.020260      ETH_USDT   \n",
       "2018-08-17 00:04:00+00:00  285.400193  285.884638  0.074655      ETH_USDT   \n",
       "2018-08-17 00:05:00+00:00  285.400196  285.884637  0.006141      ETH_USDT   \n",
       "\n",
       "                          exchange_id  \n",
       "timestamp                              \n",
       "2018-08-17 00:01:00+00:00      kucoin  \n",
       "2018-08-17 00:02:00+00:00      kucoin  \n",
       "2018-08-17 00:03:00+00:00      kucoin  \n",
       "2018-08-17 00:04:00+00:00      kucoin  \n",
       "2018-08-17 00:05:00+00:00      kucoin  "
      ]
     },
     "execution_count": 2,
     "metadata": {},
     "output_type": "execute_result"
    }
   ],
   "source": [
    "vendor = \"CCXT\"\n",
    "universe_version = \"v3\"\n",
    "resample_1min = True\n",
    "root_dir = os.path.join(hs3.get_s3_bucket_path(AM_AWS_PROFILE), \"data\")\n",
    "extension = \"csv.gz\"\n",
    "ccxt_csv_client = icdcl.CcxtCddCsvParquetByAssetClient(\n",
    "    vendor,\n",
    "    universe_version,\n",
    "    resample_1min,\n",
    "    root_dir,\n",
    "    extension,\n",
    "    aws_profile=AM_AWS_PROFILE,\n",
    ")\n",
    "start_ts = None\n",
    "end_ts = None\n",
    "data = ccxt_csv_client.read_data(\n",
    "    [\"kucoin::ETH_USDT\"],\n",
    "    start_ts,\n",
    "    end_ts,\n",
    ")\n",
    "data.head()"
   ]
  },
  {
   "cell_type": "markdown",
   "id": "78d43942",
   "metadata": {},
   "source": [
    "Get multiple chunks of the latest data for performance checks."
   ]
  },
  {
   "cell_type": "code",
   "execution_count": 5,
   "id": "ca105443",
   "metadata": {
    "ExecuteTime": {
     "end_time": "2022-01-14T09:56:25.781057Z",
     "start_time": "2022-01-14T09:56:25.771254Z"
    }
   },
   "outputs": [],
   "source": [
    "# Exactly 10-days length chunk.\n",
    "chunk_10days = data.tail(14400).copy()\n",
    "# Exactly 20-days length chunk.\n",
    "chunk_20days = data.tail(28800).copy()\n",
    "# Exactly 40-days length chunk.\n",
    "chunk_40days = data.tail(57600).copy()"
   ]
  },
  {
   "cell_type": "markdown",
   "id": "4198a7c0",
   "metadata": {},
   "source": [
    "# Mask approach"
   ]
  },
  {
   "cell_type": "markdown",
   "id": "69cc932b",
   "metadata": {},
   "source": [
    "Below you can see that execution time grows exponentially to the growth of input series chunk.\n",
    "\n",
    "If we take number of days in chunk as `x` for a rough approximation, rounded execution time in seconds as `y`, and build an equation that corresponds to the test samples then we get the following:<br>\n",
    "`y = (11/1500)x^2 + (3/4)x + (4/15)`<br>\n",
    "\n",
    "Then processing full 1619960 length series should take ~3-4 hours to complete so we should think about the ways to apply this function effectively."
   ]
  },
  {
   "cell_type": "code",
   "execution_count": 6,
   "id": "b45ea0ad",
   "metadata": {
    "ExecuteTime": {
     "end_time": "2022-01-14T09:56:37.308798Z",
     "start_time": "2022-01-14T09:56:28.446242Z"
    }
   },
   "outputs": [
    {
     "name": "stdout",
     "output_type": "stream",
     "text": [
      "CPU times: user 8.73 s, sys: 10.6 ms, total: 8.74 s\n",
      "Wall time: 8.86 s\n"
     ]
    }
   ],
   "source": [
    "%%time\n",
    "outlier_mask_10days = raccdeou.detect_outliers(\n",
    "    srs=chunk_10days[\"close\"], n_samples=1440, z_score_threshold=4\n",
    ")"
   ]
  },
  {
   "cell_type": "code",
   "execution_count": 7,
   "id": "53c5cfc4",
   "metadata": {
    "ExecuteTime": {
     "end_time": "2022-01-14T09:56:55.992577Z",
     "start_time": "2022-01-14T09:56:37.310852Z"
    }
   },
   "outputs": [
    {
     "name": "stdout",
     "output_type": "stream",
     "text": [
      "CPU times: user 18.5 s, sys: 18 ms, total: 18.5 s\n",
      "Wall time: 18.7 s\n"
     ]
    }
   ],
   "source": [
    "%%time\n",
    "outlier_mask_20days = raccdeou.detect_outliers(\n",
    "    srs=chunk_20days[\"close\"], n_samples=1440, z_score_threshold=4\n",
    ")"
   ]
  },
  {
   "cell_type": "code",
   "execution_count": 8,
   "id": "c48f1dbc",
   "metadata": {
    "ExecuteTime": {
     "end_time": "2022-01-14T09:57:40.246842Z",
     "start_time": "2022-01-14T09:56:55.994496Z"
    }
   },
   "outputs": [
    {
     "name": "stdout",
     "output_type": "stream",
     "text": [
      "CPU times: user 43.6 s, sys: 64 ms, total: 43.6 s\n",
      "Wall time: 44.2 s\n"
     ]
    }
   ],
   "source": [
    "%%time\n",
    "outlier_mask_40days = raccdeou.detect_outliers(\n",
    "    srs=chunk_40days[\"close\"], n_samples=1440, z_score_threshold=4\n",
    ")"
   ]
  },
  {
   "cell_type": "markdown",
   "id": "2471698e",
   "metadata": {},
   "source": [
    "Another problem with this approach is that its results are not robust to the cases when a harsh ascent or decline has happened and the price direction has continued. In this case all the values after this harsh change are considered outliers and dropped.\n",
    "\n",
    "Take a look at 10-days chunk result. It has 76% of its values considered outliers with Z-score threshold equals 4 while 3 is a standard. After 2021-09-07 04:25:00-04:00 the price falls from 3848.65 to 3841.97 and all the following observations that are below 3841.95 are considered outliers as well.<br>\n",
    "\n",
    "This is expected since we do not implement window data normalization before computing z-scores while the data we have clearly has trends at least and the values on the brick of z-score window can easily drop out from standard z-score threshold.\n",
    "\n",
    "Since crypto data is very volatile, we can end up with losing a lot of data in this case so we should consider the right values for window sample size and Z-scores."
   ]
  },
  {
   "cell_type": "code",
   "execution_count": 8,
   "id": "daf59b8a",
   "metadata": {
    "ExecuteTime": {
     "end_time": "2021-11-24T21:51:55.239805Z",
     "start_time": "2021-11-24T21:51:55.234167Z"
    }
   },
   "outputs": [
    {
     "data": {
      "text/plain": [
       "0.7622222222222222"
      ]
     },
     "execution_count": 8,
     "metadata": {},
     "output_type": "execute_result"
    }
   ],
   "source": [
    "outlier_mask_10days.sum() / outlier_mask_10days.shape[0]"
   ]
  },
  {
   "cell_type": "code",
   "execution_count": 9,
   "id": "ebcc5ca1",
   "metadata": {
    "ExecuteTime": {
     "end_time": "2021-11-24T21:51:55.247687Z",
     "start_time": "2021-11-24T21:51:55.243137Z"
    }
   },
   "outputs": [
    {
     "data": {
      "text/plain": [
       "array([False, False, False, ..., False, False,  True])"
      ]
     },
     "execution_count": 9,
     "metadata": {},
     "output_type": "execute_result"
    }
   ],
   "source": [
    "outlier_mask_10days[:3426]"
   ]
  },
  {
   "cell_type": "code",
   "execution_count": 10,
   "id": "350507a8",
   "metadata": {
    "ExecuteTime": {
     "end_time": "2021-11-24T21:51:55.254302Z",
     "start_time": "2021-11-24T21:51:55.249431Z"
    }
   },
   "outputs": [
    {
     "data": {
      "text/plain": [
       "array([ True,  True,  True, ...,  True,  True,  True])"
      ]
     },
     "execution_count": 10,
     "metadata": {},
     "output_type": "execute_result"
    }
   ],
   "source": [
    "outlier_mask_10days[3426:]"
   ]
  },
  {
   "cell_type": "code",
   "execution_count": 11,
   "id": "96e49c23",
   "metadata": {
    "ExecuteTime": {
     "end_time": "2021-11-24T21:51:55.260200Z",
     "start_time": "2021-11-24T21:51:55.255679Z"
    }
   },
   "outputs": [
    {
     "data": {
      "text/plain": [
       "{True}"
      ]
     },
     "execution_count": 11,
     "metadata": {},
     "output_type": "execute_result"
    }
   ],
   "source": [
    "set(outlier_mask_10days[3426:])"
   ]
  },
  {
   "cell_type": "code",
   "execution_count": 12,
   "id": "2a182216",
   "metadata": {
    "ExecuteTime": {
     "end_time": "2021-11-24T21:51:55.270113Z",
     "start_time": "2021-11-24T21:51:55.262071Z"
    }
   },
   "outputs": [
    {
     "data": {
      "text/plain": [
       "2021-09-07 04:21:00-04:00    3856.48\n",
       "2021-09-07 04:22:00-04:00    3848.52\n",
       "2021-09-07 04:23:00-04:00    3848.09\n",
       "2021-09-07 04:24:00-04:00    3853.52\n",
       "2021-09-07 04:25:00-04:00    3848.65\n",
       "Name: close, dtype: float64"
      ]
     },
     "execution_count": 12,
     "metadata": {},
     "output_type": "execute_result"
    }
   ],
   "source": [
    "chunk_10days[\"close\"][~outlier_mask_10days].tail()"
   ]
  },
  {
   "cell_type": "code",
   "execution_count": 13,
   "id": "108430d6",
   "metadata": {
    "ExecuteTime": {
     "end_time": "2021-11-24T21:51:55.283761Z",
     "start_time": "2021-11-24T21:51:55.274956Z"
    }
   },
   "outputs": [
    {
     "data": {
      "text/plain": [
       "2021-09-06 08:03:00-04:00    3866.12\n",
       "2021-09-07 04:26:00-04:00    3841.97\n",
       "2021-09-07 04:27:00-04:00    3811.05\n",
       "2021-09-07 04:28:00-04:00    3828.69\n",
       "2021-09-07 04:29:00-04:00    3808.34\n",
       "Name: close, dtype: float64"
      ]
     },
     "execution_count": 13,
     "metadata": {},
     "output_type": "execute_result"
    }
   ],
   "source": [
    "chunk_10days[\"close\"][outlier_mask_10days].head()"
   ]
  },
  {
   "cell_type": "markdown",
   "id": "bbfae1a5",
   "metadata": {},
   "source": [
    "All the other chunks have a lot of false outliers as well."
   ]
  },
  {
   "cell_type": "code",
   "execution_count": 14,
   "id": "ce75c512",
   "metadata": {
    "ExecuteTime": {
     "end_time": "2021-11-24T21:51:55.290650Z",
     "start_time": "2021-11-24T21:51:55.286128Z"
    }
   },
   "outputs": [
    {
     "name": "stdout",
     "output_type": "stream",
     "text": [
      "0.5251388888888889\n",
      "0.3101388888888889\n"
     ]
    }
   ],
   "source": [
    "print(outlier_mask_20days.sum() / outlier_mask_20days.shape[0])\n",
    "print(outlier_mask_40days.sum() / outlier_mask_40days.shape[0])"
   ]
  },
  {
   "cell_type": "markdown",
   "id": "4ddcbb28",
   "metadata": {},
   "source": [
    "# Dropping outliers on-flight approach"
   ]
  },
  {
   "cell_type": "code",
   "execution_count": 15,
   "id": "c3b9503d",
   "metadata": {
    "ExecuteTime": {
     "end_time": "2021-11-24T21:51:55.302422Z",
     "start_time": "2021-11-24T21:51:55.292689Z"
    }
   },
   "outputs": [],
   "source": [
    "def remove_outlier_at_index(\n",
    "    srs: pd.Series,\n",
    "    z_score_boundary: int,\n",
    "    z_score_window_size: int,\n",
    "    index_to_check: int,\n",
    ") -> pd.Series:\n",
    "    \"\"\"\n",
    "    Check if a series value at index is an outlier and remove it if so.\n",
    "\n",
    "    Index should be a row of positive integers like 0, 1, 2, etc.\n",
    "\n",
    "    Z-score window indices are adjusting with respect to its size, the size of input\n",
    "    and index to check.\n",
    "\n",
    "    Z-score window size is an integer number of index steps that will be included\n",
    "    in Z-score computation and outlier detection.\n",
    "\n",
    "    :param srs: input series\n",
    "    :param z_score_boundary: boundary value to check for outlier's Z-score\n",
    "    :param z_score_window_size: size of the window to compute Z-score for\n",
    "    :param index_to_check: index of a value to check\n",
    "    :return: input series with removed value at given index if it was considered an outlier\n",
    "    \"\"\"\n",
    "    # Get numerical order of a given index.\n",
    "    index_order = srs.index.get_loc(index_to_check)\n",
    "    # Set window indices.\n",
    "    window_first_index = max(0, index_order - z_score_window_size)\n",
    "    window_last_index = max(index_order, window_first_index + z_score_window_size)\n",
    "    # Verify that distance between window indices equals Z-score window size\n",
    "    # and that index to check is laying between these indices.\n",
    "    hdbg.dassert_eq(z_score_window_size, window_last_index - window_first_index)\n",
    "    hdbg.dassert_lte(window_first_index, index_order)\n",
    "    hdbg.dassert_lte(index_order, window_last_index)\n",
    "    # Get a window to compute Z-score for.\n",
    "    window_srs = srs.iloc[window_first_index:window_last_index].copy()\n",
    "    # Compute Z-score of a value at index.\n",
    "    z_score = (srs[index_order] - window_srs.mean()) / window_srs.std()\n",
    "    # Drop the value if its Z-score is None or laying beyond the specified boundaries.\n",
    "    if not abs(z_score) <= z_score_boundary:\n",
    "        srs = srs.drop([index_to_check]).copy()\n",
    "    return srs\n",
    "\n",
    "\n",
    "def remove_rolling_outliers(\n",
    "    df: pd.DataFrame,\n",
    "    col: str,\n",
    "    z_score_boundary: int,\n",
    "    z_score_window: int,\n",
    ") -> pd.DataFrame:\n",
    "    \"\"\"\n",
    "    Remove outliers using a rolling window.\n",
    "\n",
    "    Outliers are being removed consequtively after every window check.\n",
    "\n",
    "    Z-score window indices are adjusting with respect to its size, the size of input\n",
    "    and index to check.\n",
    "\n",
    "    Z-score window size is an integer number of index steps that will be included\n",
    "    in Z-score computation and outlier detection.\n",
    "\n",
    "    :param srs: input dataframe\n",
    "    :param col: column to check for outliers\n",
    "    :param z_score_boundary: Z-score boundary to check the value\n",
    "    :param z_score_window: size of the window to compute Z-score for\n",
    "    :return: dataframe with removed outliers\n",
    "    \"\"\"\n",
    "    # Get a series to detect outliers in.\n",
    "    price_srs = df[col].copy()\n",
    "    # Iterate over series indices.\n",
    "    for index_ in price_srs.index:\n",
    "        # For every index check if its value is an outlier and\n",
    "        # remove it from the series if so.\n",
    "        price_srs = remove_outlier_at_index(\n",
    "            price_srs, z_score_boundary, z_score_window, index_\n",
    "        )\n",
    "    # Get dataframe rows that correspond to the non-outliers indices.\n",
    "    clean_df = df[df.index.isin(price_srs.index)].copy()\n",
    "    return clean_df"
   ]
  },
  {
   "cell_type": "markdown",
   "id": "1f6bdb24",
   "metadata": {},
   "source": [
    "Dropping outliers on-flight approach seems to work slower on small chunks and its execution time grows exponentially to the series length as well.\n",
    "\n",
    "So needless to say, its less effective than the mask one and should not be used."
   ]
  },
  {
   "cell_type": "code",
   "execution_count": 16,
   "id": "209b7ccf",
   "metadata": {
    "ExecuteTime": {
     "end_time": "2021-11-24T21:52:15.977472Z",
     "start_time": "2021-11-24T21:51:55.304110Z"
    }
   },
   "outputs": [
    {
     "name": "stdout",
     "output_type": "stream",
     "text": [
      "CPU times: user 20.6 s, sys: 31.7 ms, total: 20.6 s\n",
      "Wall time: 20.7 s\n"
     ]
    }
   ],
   "source": [
    "%%time\n",
    "old_clean_chunk_10days = remove_rolling_outliers(chunk_10days, \"close\", 3, 1440)"
   ]
  },
  {
   "cell_type": "code",
   "execution_count": 17,
   "id": "b6618216",
   "metadata": {
    "ExecuteTime": {
     "end_time": "2021-11-24T21:53:00.694683Z",
     "start_time": "2021-11-24T21:52:15.980838Z"
    },
    "scrolled": true
   },
   "outputs": [
    {
     "name": "stdout",
     "output_type": "stream",
     "text": [
      "CPU times: user 44.5 s, sys: 71.7 ms, total: 44.6 s\n",
      "Wall time: 44.7 s\n"
     ]
    }
   ],
   "source": [
    "%%time\n",
    "old_clean_chunk_20days = remove_rolling_outliers(chunk_20days, \"close\", 3, 1440)"
   ]
  },
  {
   "cell_type": "code",
   "execution_count": 18,
   "id": "a59c93be",
   "metadata": {
    "ExecuteTime": {
     "end_time": "2021-11-24T21:54:40.210601Z",
     "start_time": "2021-11-24T21:53:00.697102Z"
    },
    "scrolled": true
   },
   "outputs": [
    {
     "name": "stdout",
     "output_type": "stream",
     "text": [
      "CPU times: user 1min 39s, sys: 55.9 ms, total: 1min 39s\n",
      "Wall time: 1min 39s\n"
     ]
    }
   ],
   "source": [
    "%%time\n",
    "old_clean_chunk_40days = remove_rolling_outliers(chunk_40days, \"close\", 3, 1440)"
   ]
  },
  {
   "cell_type": "markdown",
   "id": "88dbec68",
   "metadata": {},
   "source": [
    "# Overlapping windows approach"
   ]
  },
  {
   "cell_type": "code",
   "execution_count": 19,
   "id": "5e9790d7",
   "metadata": {
    "ExecuteTime": {
     "end_time": "2021-11-24T21:54:40.219444Z",
     "start_time": "2021-11-24T21:54:40.212702Z"
    }
   },
   "outputs": [],
   "source": [
    "def detect_outliers_new(\n",
    "    srs: pd.Series,\n",
    "    n_samples: int = 1440,\n",
    "    window_step: int = 10,\n",
    "    z_score_threshold: float = 3.0,\n",
    "):\n",
    "    \"\"\"\n",
    "    Detect outliers using overlapping windows and averaged z-scores of each\n",
    "    observation.\n",
    "\n",
    "    Almost every observation will belong to `n_samples` of windows which means that each one\n",
    "    is going to have `n_samples` of Z-scores. The mean of these scores will give an averaged\n",
    "    Z-score which will be a more robust metrics to check if a value is an outlier than\n",
    "    a rolling Z-score computed just once.\n",
    "\n",
    "    This function\n",
    "    - creates list of overlapping z-score windows\n",
    "    - computes z-score of each element in every window\n",
    "    - for each observation takes average of all the z-scores from the windows it belongs to\n",
    "    - compares averaged z-score to the threshold to declare the current element an outlier\n",
    "\n",
    "    :param srs: input series\n",
    "    :param n_samples: number of samples in z-score windows\n",
    "    :param z_score_threshold: threshold to mark a value as an outlier based on its averaged z-score\n",
    "    :return: whether the element at index idx is an outlier\n",
    "    \"\"\"\n",
    "    # Create a list of overlapping windows.\n",
    "    windows = [\n",
    "        srs.iloc[idx : idx + n_samples]\n",
    "        for idx in range(0, srs.shape[0] - n_samples + window_step, window_step)\n",
    "    ]\n",
    "    # Compute z-score for each observation in every window.\n",
    "    z_scores_list = [\n",
    "        abs((window - window.mean()) / window.std()) for window in windows\n",
    "    ]\n",
    "    # Concatenate z-scores series in one.\n",
    "    z_scores_srs = pd.concat(z_scores_list)\n",
    "    # Groupby by index and take the averaged z-score for every index value.\n",
    "    z_scores_stats = z_scores_srs.groupby(z_scores_srs.index).mean()\n",
    "    # Get a mask for outliers.\n",
    "    # Done via `<=` since a series can contain None values that should be detected\n",
    "    # as well but will result to NaN if compared to the threshold directly.\n",
    "    outliers_mask = ~(z_scores_stats <= z_score_threshold)\n",
    "    return outliers_mask"
   ]
  },
  {
   "cell_type": "markdown",
   "id": "5905d866",
   "metadata": {},
   "source": [
    "Since both approaches suggested above are very slow and can't be really applied to all the data directly, I'd like to propose another approach to this problem.\n",
    "\n",
    "Description of the approach can be found in a function docstrings. In short, this is not an approach that has a memory but here we compute an averaged z-score for each observation for multiple windows it belongs to. IMO this should make outlier detection more robust and give consistent results for most observations (only corner cases may differ, no observations are removed so full-sized windows are always constant).\n",
    "\n",
    "This approach might be less robust to consecutive outliers than the previous ones but it demonstrates extremely faster performance. it processes the whole series in just 2 minutes with 1-day sized windows that overlap each 10 minutes.<br>\n",
    "Therefore, if this algorithm robustness is enough for us, I suggest we use it for outlier detection."
   ]
  },
  {
   "cell_type": "code",
   "execution_count": 20,
   "id": "ee656863",
   "metadata": {
    "ExecuteTime": {
     "end_time": "2021-11-24T21:57:10.575915Z",
     "start_time": "2021-11-24T21:54:40.221528Z"
    }
   },
   "outputs": [],
   "source": [
    "all_outliers_mask = detect_outliers_new(data[\"close\"])"
   ]
  },
  {
   "cell_type": "markdown",
   "id": "edcd5b0f",
   "metadata": {},
   "source": [
    "The algorithm detects None values and the small amount of outliers."
   ]
  },
  {
   "cell_type": "code",
   "execution_count": 21,
   "id": "78e53376",
   "metadata": {
    "ExecuteTime": {
     "end_time": "2021-11-24T21:57:10.594743Z",
     "start_time": "2021-11-24T21:57:10.580956Z"
    }
   },
   "outputs": [
    {
     "data": {
      "text/plain": [
       "118231"
      ]
     },
     "execution_count": 21,
     "metadata": {},
     "output_type": "execute_result"
    }
   ],
   "source": [
    "all_outliers = data[\"close\"][all_outliers_mask]\n",
    "len(all_outliers)"
   ]
  },
  {
   "cell_type": "code",
   "execution_count": 22,
   "id": "f22cce6e",
   "metadata": {
    "ExecuteTime": {
     "end_time": "2021-11-24T21:57:10.601894Z",
     "start_time": "2021-11-24T21:57:10.597260Z"
    }
   },
   "outputs": [
    {
     "data": {
      "text/plain": [
       "683"
      ]
     },
     "execution_count": 22,
     "metadata": {},
     "output_type": "execute_result"
    }
   ],
   "source": [
    "len(all_outliers.dropna())"
   ]
  },
  {
   "cell_type": "markdown",
   "id": "564008ec",
   "metadata": {},
   "source": [
    "Computations for small chunks are done almost immediately, all the detected outliers are stable across the chunks."
   ]
  },
  {
   "cell_type": "code",
   "execution_count": 23,
   "id": "14db457b",
   "metadata": {
    "ExecuteTime": {
     "end_time": "2021-11-24T21:57:14.831691Z",
     "start_time": "2021-11-24T21:57:10.604004Z"
    }
   },
   "outputs": [],
   "source": [
    "outlier_mask_new_40days = detect_outliers_new(chunk_40days[\"close\"]).dropna()"
   ]
  },
  {
   "cell_type": "code",
   "execution_count": 24,
   "id": "5d97b78b",
   "metadata": {
    "ExecuteTime": {
     "end_time": "2021-11-24T21:57:14.840413Z",
     "start_time": "2021-11-24T21:57:14.833073Z"
    }
   },
   "outputs": [
    {
     "data": {
      "text/plain": [
       "2021-08-10 09:31:00-04:00    3224.65\n",
       "2021-08-10 09:34:00-04:00    3228.84\n",
       "2021-08-10 09:35:00-04:00    3229.72\n",
       "2021-08-10 09:36:00-04:00    3224.46\n",
       "2021-09-06 08:03:00-04:00    3866.12\n",
       "2021-09-07 11:08:00-04:00    3083.99\n",
       "2021-09-07 11:09:00-04:00    3016.85\n",
       "2021-09-07 11:10:00-04:00    3120.77\n",
       "Name: close, dtype: float64"
      ]
     },
     "execution_count": 24,
     "metadata": {},
     "output_type": "execute_result"
    }
   ],
   "source": [
    "chunk_40days[\"close\"][outlier_mask_new_40days]"
   ]
  },
  {
   "cell_type": "code",
   "execution_count": 25,
   "id": "72f5bd91",
   "metadata": {
    "ExecuteTime": {
     "end_time": "2021-11-24T21:57:16.952316Z",
     "start_time": "2021-11-24T21:57:14.841987Z"
    }
   },
   "outputs": [],
   "source": [
    "outlier_mask_new_20days = detect_outliers_new(chunk_20days[\"close\"]).dropna()"
   ]
  },
  {
   "cell_type": "code",
   "execution_count": 26,
   "id": "856fc76b",
   "metadata": {
    "ExecuteTime": {
     "end_time": "2021-11-24T21:57:16.960747Z",
     "start_time": "2021-11-24T21:57:16.954188Z"
    }
   },
   "outputs": [
    {
     "data": {
      "text/plain": [
       "2021-09-06 08:03:00-04:00    3866.12\n",
       "2021-09-07 11:08:00-04:00    3083.99\n",
       "2021-09-07 11:09:00-04:00    3016.85\n",
       "2021-09-07 11:10:00-04:00    3120.77\n",
       "Name: close, dtype: float64"
      ]
     },
     "execution_count": 26,
     "metadata": {},
     "output_type": "execute_result"
    }
   ],
   "source": [
    "chunk_20days[\"close\"][outlier_mask_new_20days]"
   ]
  },
  {
   "cell_type": "code",
   "execution_count": 27,
   "id": "865d2161",
   "metadata": {
    "ExecuteTime": {
     "end_time": "2021-11-24T21:57:17.960556Z",
     "start_time": "2021-11-24T21:57:16.964361Z"
    }
   },
   "outputs": [],
   "source": [
    "outlier_mask_new_10days = detect_outliers_new(chunk_10days[\"close\"]).dropna()"
   ]
  },
  {
   "cell_type": "code",
   "execution_count": 28,
   "id": "63e71249",
   "metadata": {
    "ExecuteTime": {
     "end_time": "2021-11-24T21:57:17.968631Z",
     "start_time": "2021-11-24T21:57:17.962308Z"
    }
   },
   "outputs": [
    {
     "data": {
      "text/plain": [
       "2021-09-06 08:03:00-04:00    3866.12\n",
       "2021-09-07 11:08:00-04:00    3083.99\n",
       "2021-09-07 11:09:00-04:00    3016.85\n",
       "2021-09-07 11:10:00-04:00    3120.77\n",
       "Name: close, dtype: float64"
      ]
     },
     "execution_count": 28,
     "metadata": {},
     "output_type": "execute_result"
    }
   ],
   "source": [
    "chunk_10days[\"close\"][outlier_mask_new_10days]"
   ]
  }
 ],
 "metadata": {
  "jupytext": {
   "encoding": "# -*- coding: utf-8 -*-"
  },
  "kernelspec": {
   "display_name": "Python 3 (ipykernel)",
   "language": "python",
   "name": "python3"
  },
  "language_info": {
   "codemirror_mode": {
    "name": "ipython",
    "version": 3
   },
   "file_extension": ".py",
   "mimetype": "text/x-python",
   "name": "python",
   "nbconvert_exporter": "python",
   "pygments_lexer": "ipython3",
   "version": "3.8.10"
  },
  "toc": {
   "base_numbering": 1,
   "nav_menu": {},
   "number_sections": true,
   "sideBar": true,
   "skip_h1_title": false,
   "title_cell": "Table of Contents",
   "title_sidebar": "Contents",
   "toc_cell": false,
   "toc_position": {},
   "toc_section_display": true,
   "toc_window_display": false
  }
 },
 "nbformat": 4,
 "nbformat_minor": 5
}
