{
 "cells": [
  {
   "cell_type": "markdown",
   "id": "d4dc6293",
   "metadata": {},
   "source": [
    "# Imports"
   ]
  },
  {
   "cell_type": "code",
   "execution_count": 3,
   "id": "c0152d2b",
   "metadata": {
    "ExecuteTime": {
     "end_time": "2023-01-30T10:44:27.230586Z",
     "start_time": "2023-01-30T10:44:27.181093Z"
    },
    "run_control": {
     "marked": true
    }
   },
   "outputs": [],
   "source": [
    "import os\n",
    "\n",
    "import requests"
   ]
  },
  {
   "cell_type": "code",
   "execution_count": 4,
   "id": "f6cf8baf",
   "metadata": {
    "ExecuteTime": {
     "end_time": "2023-01-30T10:44:27.302182Z",
     "start_time": "2023-01-30T10:44:27.299656Z"
    }
   },
   "outputs": [],
   "source": [
    "bearer_token = os.environ[\"BEARER\"]"
   ]
  },
  {
   "cell_type": "markdown",
   "id": "c8ad0007",
   "metadata": {},
   "source": [
    "# Functions"
   ]
  },
  {
   "cell_type": "code",
   "execution_count": 20,
   "id": "48b6e85d",
   "metadata": {
    "ExecuteTime": {
     "end_time": "2023-01-30T10:48:49.142791Z",
     "start_time": "2023-01-30T10:48:49.137212Z"
    }
   },
   "outputs": [],
   "source": [
    "def bearer_oauth(r):\n",
    "    \"\"\"\n",
    "    Method required by bearer token authentication.\n",
    "    \"\"\"\n",
    "    r.headers[\"Authorization\"] = f\"Bearer {bearer_token}\"\n",
    "    r.headers[\"User-Agent\"] = \"v2RecentSearchPython\"\n",
    "    return r\n",
    "\n",
    "\n",
    "def connect_to_endpoint(url, params):\n",
    "    response = requests.get(url, auth=bearer_oauth, params=params)\n",
    "    print(response.status_code)\n",
    "    if response.status_code != 200:\n",
    "        raise Exception(response.status_code, response.text)\n",
    "    return response.json()\n",
    "\n",
    "\n",
    "def main(url, params):\n",
    "    json_response = connect_to_endpoint(url, params)\n",
    "    return json_response"
   ]
  },
  {
   "cell_type": "markdown",
   "id": "eb265729",
   "metadata": {},
   "source": [
    "# Downloading data in bulk"
   ]
  },
  {
   "cell_type": "markdown",
   "id": "14dacfae",
   "metadata": {},
   "source": [
    "It seems like twitter API does not support bulk data downloading. But we can apply search to full archive with premium access (below)."
   ]
  },
  {
   "cell_type": "markdown",
   "id": "7891a4a2",
   "metadata": {},
   "source": [
    "# Searching data by hashtag or by search query"
   ]
  },
  {
   "cell_type": "markdown",
   "id": "5abd71cd",
   "metadata": {},
   "source": [
    "There are two search API endpoints:\n",
    "\n",
    "Search Tweets (Free): 30-day endpoint → provides Tweets posted within the last 30 days.\n",
    "\n",
    "Search Tweets (Premium): Full-archive endpoint → provides Tweets from as early as 2006, starting with the first Tweet posted in March 2006."
   ]
  },
  {
   "cell_type": "code",
   "execution_count": 21,
   "id": "cc923f3e",
   "metadata": {
    "ExecuteTime": {
     "end_time": "2023-01-30T10:48:53.482956Z",
     "start_time": "2023-01-30T10:48:53.479507Z"
    }
   },
   "outputs": [],
   "source": [
    "search_recent = \"https://api.twitter.com/2/tweets/search/recent\"\n",
    "search_all = \"https://api.twitter.com/2/tweets/search/all\"\n",
    "\n",
    "# Optional params: start_time,end_time,since_id,until_id,max_results,next_token,\n",
    "# expansions,tweet.fields,media.fields,poll.fields,place.fields,user.fields\n",
    "query_params = {\"query\": \"#bitcoin\", \"tweet.fields\": \"author_id\"}"
   ]
  },
  {
   "cell_type": "markdown",
   "id": "31baaa2c",
   "metadata": {},
   "source": [
    "Search recent."
   ]
  },
  {
   "cell_type": "code",
   "execution_count": 23,
   "id": "7b8d0e4b",
   "metadata": {
    "ExecuteTime": {
     "end_time": "2023-01-30T10:49:02.760547Z",
     "start_time": "2023-01-30T10:49:02.395060Z"
    }
   },
   "outputs": [
    {
     "name": "stdout",
     "output_type": "stream",
     "text": [
      "200\n"
     ]
    },
    {
     "data": {
      "text/plain": [
       "[{'text': 'RT @saylor: #Bitcoin &amp; Economic Empowerment, Perils of Trading, Safe Havens, Argentina, Paradigm Shifts, Inflation Vectors, Gold Defects, S…',\n",
       "  'id': '1620011152892723200',\n",
       "  'author_id': '2889588697',\n",
       "  'edit_history_tweet_ids': ['1620011152892723200']},\n",
       " {'text': \"RT @TrustWallet: #Bitcoin is over $33,000.\\n\\n#Ethereum is over $900.\\n\\nThat's it. That's the tweet.\",\n",
       "  'id': '1620011151189856257',\n",
       "  'author_id': '2860203655',\n",
       "  'edit_history_tweet_ids': ['1620011151189856257']},\n",
       " {'text': 'RT @BitcoinMagazine: \"The best strategy is to buy #bitcoin and wait.\" - @saylor https://t.co/norpacfCjK',\n",
       "  'id': '1620011149637947397',\n",
       "  'author_id': '2765541009',\n",
       "  'edit_history_tweet_ids': ['1620011149637947397']},\n",
       " {'text': 'RT @CryptoSavingExp: #Bitcoin trades at $38,792 on local Nigerian exchange 🚀 https://t.co/EOdoWbrJL8',\n",
       "  'id': '1620011148245602304',\n",
       "  'author_id': '1499058620029411334',\n",
       "  'edit_history_tweet_ids': ['1620011148245602304']},\n",
       " {'text': \"RT @Bitcoin: #Evergrande's collapse has begun by entering technical default.\\n\\nEvergrande, by itself, is likely to default on more debt in v…\",\n",
       "  'id': '1620011147595235333',\n",
       "  'author_id': '2495352613',\n",
       "  'edit_history_tweet_ids': ['1620011147595235333']},\n",
       " {'text': 'https://t.co/0ygYdFBVFz \\nBest Side Hustles 2023 - ft. Hustle King Brooks\\nConkle \\n \\n#finance #business #money #investing #financialfreedom #investment #entrepreneur #trading #stockmarket #stocks #wealth #invest #bitcoin #success #forex... https://t.co/Fxw87AibWt',\n",
       "  'id': '1620011147037401088',\n",
       "  'author_id': '1558860539014840321',\n",
       "  'edit_history_tweet_ids': ['1620011147037401088']},\n",
       " {'text': \"RT @CryptoBusy: What's next for #Bitcoin ? 👀\",\n",
       "  'id': '1620011146978930689',\n",
       "  'author_id': '152006479',\n",
       "  'edit_history_tweet_ids': ['1620011146978930689']},\n",
       " {'text': 'RT @saylor: There is no end to up. #Bitcoin',\n",
       "  'id': '1620011145812656129',\n",
       "  'author_id': '2648610599',\n",
       "  'edit_history_tweet_ids': ['1620011145812656129']},\n",
       " {'text': 'RT @alicimuratt: Arkadaşlar kimler aktif merak ediyorum. Takipçilerim yoklama alalım bakalım 700 aktif takipçim çıkar mı bu akşama🌸🙌🏻\\n\\n#Bit…',\n",
       "  'id': '1620011142897897476',\n",
       "  'author_id': '1375413892143271937',\n",
       "  'edit_history_tweet_ids': ['1620011142897897476']},\n",
       " {'text': 'RT @TurkishGiveaway: 🎁 #Gift &amp; #Giveaway 🎁\\n\\n🏆 15 $Usdt (₺300) 🏆\\n\\n⚔️Rules⚔️\\n1️⃣LIKE❤️- RT🔁 \\n2️⃣Follow @worldofPromoter\\n\\n36H ⏳ \\n\\n#NFTs #NFTCo…',\n",
       "  'id': '1620011141962539010',\n",
       "  'author_id': '1614392499916660739',\n",
       "  'edit_history_tweet_ids': ['1620011141962539010']}]"
      ]
     },
     "execution_count": 23,
     "metadata": {},
     "output_type": "execute_result"
    }
   ],
   "source": [
    "main(search_recent, query_params)[\"data\"]"
   ]
  },
  {
   "cell_type": "markdown",
   "id": "516554c6",
   "metadata": {
    "ExecuteTime": {
     "end_time": "2023-01-30T09:27:24.202622Z",
     "start_time": "2023-01-30T09:27:24.199170Z"
    }
   },
   "source": [
    "Search historical - will produce error since we don't have an access to the premium URLs."
   ]
  },
  {
   "cell_type": "code",
   "execution_count": 24,
   "id": "a9d6b58d",
   "metadata": {
    "ExecuteTime": {
     "end_time": "2023-01-30T10:49:09.320219Z",
     "start_time": "2023-01-30T10:49:09.087190Z"
    }
   },
   "outputs": [
    {
     "name": "stdout",
     "output_type": "stream",
     "text": [
      "403\n"
     ]
    },
    {
     "ename": "Exception",
     "evalue": "(403, '{\"client_id\":\"26601759\",\"detail\":\"When authenticating requests to the Twitter API v2 endpoints, you must use keys and tokens from a Twitter developer App that is attached to a Project. You can create a project via the developer portal.\",\"registration_url\":\"https://developer.twitter.com/en/docs/projects/overview\",\"title\":\"Client Forbidden\",\"required_enrollment\":\"Standard Basic\",\"reason\":\"client-not-enrolled\",\"type\":\"https://api.twitter.com/2/problems/client-forbidden\"}')",
     "output_type": "error",
     "traceback": [
      "\u001b[0;31m---------------------------------------------------------------------------\u001b[0m",
      "\u001b[0;31mException\u001b[0m                                 Traceback (most recent call last)",
      "Cell \u001b[0;32mIn [24], line 1\u001b[0m\n\u001b[0;32m----> 1\u001b[0m \u001b[43mmain\u001b[49m\u001b[43m(\u001b[49m\u001b[43msearch_all\u001b[49m\u001b[43m,\u001b[49m\u001b[43m \u001b[49m\u001b[43mquery_params\u001b[49m\u001b[43m)\u001b[49m[\u001b[38;5;124m\"\u001b[39m\u001b[38;5;124mdata\u001b[39m\u001b[38;5;124m\"\u001b[39m]\n",
      "Cell \u001b[0;32mIn [20], line 18\u001b[0m, in \u001b[0;36mmain\u001b[0;34m(url, params)\u001b[0m\n\u001b[1;32m     17\u001b[0m \u001b[38;5;28;01mdef\u001b[39;00m \u001b[38;5;21mmain\u001b[39m(url, params):\n\u001b[0;32m---> 18\u001b[0m     json_response \u001b[38;5;241m=\u001b[39m \u001b[43mconnect_to_endpoint\u001b[49m\u001b[43m(\u001b[49m\u001b[43murl\u001b[49m\u001b[43m,\u001b[49m\u001b[43m \u001b[49m\u001b[43mparams\u001b[49m\u001b[43m)\u001b[49m\n\u001b[1;32m     19\u001b[0m     \u001b[38;5;28;01mreturn\u001b[39;00m json_response\n",
      "Cell \u001b[0;32mIn [20], line 13\u001b[0m, in \u001b[0;36mconnect_to_endpoint\u001b[0;34m(url, params)\u001b[0m\n\u001b[1;32m     11\u001b[0m \u001b[38;5;28mprint\u001b[39m(response\u001b[38;5;241m.\u001b[39mstatus_code)\n\u001b[1;32m     12\u001b[0m \u001b[38;5;28;01mif\u001b[39;00m response\u001b[38;5;241m.\u001b[39mstatus_code \u001b[38;5;241m!=\u001b[39m \u001b[38;5;241m200\u001b[39m:\n\u001b[0;32m---> 13\u001b[0m     \u001b[38;5;28;01mraise\u001b[39;00m \u001b[38;5;167;01mException\u001b[39;00m(response\u001b[38;5;241m.\u001b[39mstatus_code, response\u001b[38;5;241m.\u001b[39mtext)\n\u001b[1;32m     14\u001b[0m \u001b[38;5;28;01mreturn\u001b[39;00m response\u001b[38;5;241m.\u001b[39mjson()\n",
      "\u001b[0;31mException\u001b[0m: (403, '{\"client_id\":\"26601759\",\"detail\":\"When authenticating requests to the Twitter API v2 endpoints, you must use keys and tokens from a Twitter developer App that is attached to a Project. You can create a project via the developer portal.\",\"registration_url\":\"https://developer.twitter.com/en/docs/projects/overview\",\"title\":\"Client Forbidden\",\"required_enrollment\":\"Standard Basic\",\"reason\":\"client-not-enrolled\",\"type\":\"https://api.twitter.com/2/problems/client-forbidden\"}')"
     ]
    }
   ],
   "source": [
    "main(search_all, query_params)[\"data\"]"
   ]
  },
  {
   "cell_type": "markdown",
   "id": "5d95506a",
   "metadata": {},
   "source": [
    "# Getting trending hashtags"
   ]
  },
  {
   "cell_type": "code",
   "execution_count": 25,
   "id": "481aef7f",
   "metadata": {
    "ExecuteTime": {
     "end_time": "2023-01-30T10:49:18.001174Z",
     "start_time": "2023-01-30T10:49:17.789753Z"
    }
   },
   "outputs": [
    {
     "name": "stdout",
     "output_type": "stream",
     "text": [
      "200\n"
     ]
    }
   ],
   "source": [
    "trends_availiable = \"https://api.twitter.com/1.1/trends/available.json\"\n",
    "all_places = main(trends_availiable, {})"
   ]
  },
  {
   "cell_type": "code",
   "execution_count": 27,
   "id": "4a7b8a33",
   "metadata": {
    "ExecuteTime": {
     "end_time": "2023-01-30T10:49:25.445144Z",
     "start_time": "2023-01-30T10:49:25.439962Z"
    }
   },
   "outputs": [
    {
     "data": {
      "text/plain": [
       "[{'name': 'Worldwide',\n",
       "  'placeType': {'code': 19, 'name': 'Supername'},\n",
       "  'url': 'http://where.yahooapis.com/v1/place/1',\n",
       "  'parentid': 0,\n",
       "  'country': '',\n",
       "  'woeid': 1,\n",
       "  'countryCode': None},\n",
       " {'name': 'Winnipeg',\n",
       "  'placeType': {'code': 7, 'name': 'Town'},\n",
       "  'url': 'http://where.yahooapis.com/v1/place/2972',\n",
       "  'parentid': 23424775,\n",
       "  'country': 'Canada',\n",
       "  'woeid': 2972,\n",
       "  'countryCode': 'CA'},\n",
       " {'name': 'Ottawa',\n",
       "  'placeType': {'code': 7, 'name': 'Town'},\n",
       "  'url': 'http://where.yahooapis.com/v1/place/3369',\n",
       "  'parentid': 23424775,\n",
       "  'country': 'Canada',\n",
       "  'woeid': 3369,\n",
       "  'countryCode': 'CA'},\n",
       " {'name': 'Quebec',\n",
       "  'placeType': {'code': 7, 'name': 'Town'},\n",
       "  'url': 'http://where.yahooapis.com/v1/place/3444',\n",
       "  'parentid': 23424775,\n",
       "  'country': 'Canada',\n",
       "  'woeid': 3444,\n",
       "  'countryCode': 'CA'},\n",
       " {'name': 'Montreal',\n",
       "  'placeType': {'code': 7, 'name': 'Town'},\n",
       "  'url': 'http://where.yahooapis.com/v1/place/3534',\n",
       "  'parentid': 23424775,\n",
       "  'country': 'Canada',\n",
       "  'woeid': 3534,\n",
       "  'countryCode': 'CA'}]"
      ]
     },
     "execution_count": 27,
     "metadata": {},
     "output_type": "execute_result"
    }
   ],
   "source": [
    "all_places[:5]"
   ]
  },
  {
   "cell_type": "markdown",
   "id": "530c1ddb",
   "metadata": {},
   "source": [
    "Get trends worldwide. Worldwide id = 1"
   ]
  },
  {
   "cell_type": "code",
   "execution_count": 28,
   "id": "aef2b8c1",
   "metadata": {
    "ExecuteTime": {
     "end_time": "2023-01-30T10:49:36.885251Z",
     "start_time": "2023-01-30T10:49:36.625020Z"
    },
    "scrolled": false
   },
   "outputs": [
    {
     "name": "stdout",
     "output_type": "stream",
     "text": [
      "200\n"
     ]
    },
    {
     "data": {
      "text/plain": [
       "[{'trends': [{'name': '鮎川さん',\n",
       "    'url': 'http://twitter.com/search?q=%E9%AE%8E%E5%B7%9D%E3%81%95%E3%82%93',\n",
       "    'promoted_content': None,\n",
       "    'query': '%E9%AE%8E%E5%B7%9D%E3%81%95%E3%82%93',\n",
       "    'tweet_volume': 27307},\n",
       "   {'name': '#NCT127_Say_AyYo',\n",
       "    'url': 'http://twitter.com/search?q=%23NCT127_Say_AyYo',\n",
       "    'promoted_content': None,\n",
       "    'query': '%23NCT127_Say_AyYo',\n",
       "    'tweet_volume': 101891},\n",
       "   {'name': '#Peshawarblast',\n",
       "    'url': 'http://twitter.com/search?q=%23Peshawarblast',\n",
       "    'promoted_content': None,\n",
       "    'query': '%23Peshawarblast',\n",
       "    'tweet_volume': 18303},\n",
       "   {'name': '#CDTVライブライブ',\n",
       "    'url': 'http://twitter.com/search?q=%23CDTV%E3%83%A9%E3%82%A4%E3%83%96%E3%83%A9%E3%82%A4%E3%83%96',\n",
       "    'promoted_content': None,\n",
       "    'query': '%23CDTV%E3%83%A9%E3%82%A4%E3%83%96%E3%83%A9%E3%82%A4%E3%83%96',\n",
       "    'tweet_volume': 23099},\n",
       "   {'name': 'シーナ&ロケッツ',\n",
       "    'url': 'http://twitter.com/search?q=%E3%82%B7%E3%83%BC%E3%83%8A%26%E3%83%AD%E3%82%B1%E3%83%83%E3%83%84',\n",
       "    'promoted_content': None,\n",
       "    'query': '%E3%82%B7%E3%83%BC%E3%83%8A%26%E3%83%AD%E3%82%B1%E3%83%83%E3%83%84',\n",
       "    'tweet_volume': 26429},\n",
       "   {'name': '回転寿司',\n",
       "    'url': 'http://twitter.com/search?q=%E5%9B%9E%E8%BB%A2%E5%AF%BF%E5%8F%B8',\n",
       "    'promoted_content': None,\n",
       "    'query': '%E5%9B%9E%E8%BB%A2%E5%AF%BF%E5%8F%B8',\n",
       "    'tweet_volume': 264453},\n",
       "   {'name': 'マイルーム',\n",
       "    'url': 'http://twitter.com/search?q=%E3%83%9E%E3%82%A4%E3%83%AB%E3%83%BC%E3%83%A0',\n",
       "    'promoted_content': None,\n",
       "    'query': '%E3%83%9E%E3%82%A4%E3%83%AB%E3%83%BC%E3%83%A0',\n",
       "    'tweet_volume': None},\n",
       "   {'name': 'シーナさん',\n",
       "    'url': 'http://twitter.com/search?q=%E3%82%B7%E3%83%BC%E3%83%8A%E3%81%95%E3%82%93',\n",
       "    'promoted_content': None,\n",
       "    'query': '%E3%82%B7%E3%83%BC%E3%83%8A%E3%81%95%E3%82%93',\n",
       "    'tweet_volume': 17890},\n",
       "   {'name': '#EmeklilikteYaşaTakılanlar',\n",
       "    'url': 'http://twitter.com/search?q=%23EmeklilikteYa%C5%9FaTak%C4%B1lanlar',\n",
       "    'promoted_content': None,\n",
       "    'query': '%23EmeklilikteYa%C5%9FaTak%C4%B1lanlar',\n",
       "    'tweet_volume': 190988},\n",
       "   {'name': '#MondayMotivation',\n",
       "    'url': 'http://twitter.com/search?q=%23MondayMotivation',\n",
       "    'promoted_content': None,\n",
       "    'query': '%23MondayMotivation',\n",
       "    'tweet_volume': 19401},\n",
       "   {'name': 'シナロケ',\n",
       "    'url': 'http://twitter.com/search?q=%E3%82%B7%E3%83%8A%E3%83%AD%E3%82%B1',\n",
       "    'promoted_content': None,\n",
       "    'query': '%E3%82%B7%E3%83%8A%E3%83%AD%E3%82%B1',\n",
       "    'tweet_volume': None},\n",
       "   {'name': 'ColorMagicのAI',\n",
       "    'url': 'http://twitter.com/search?q=ColorMagic%E3%81%AEAI',\n",
       "    'promoted_content': None,\n",
       "    'query': 'ColorMagic%E3%81%AEAI',\n",
       "    'tweet_volume': None},\n",
       "   {'name': 'スシロー',\n",
       "    'url': 'http://twitter.com/search?q=%E3%82%B9%E3%82%B7%E3%83%AD%E3%83%BC',\n",
       "    'promoted_content': None,\n",
       "    'query': '%E3%82%B9%E3%82%B7%E3%83%AD%E3%83%BC',\n",
       "    'tweet_volume': 202104},\n",
       "   {'name': 'レモンティー',\n",
       "    'url': 'http://twitter.com/search?q=%E3%83%AC%E3%83%A2%E3%83%B3%E3%83%86%E3%82%A3%E3%83%BC',\n",
       "    'promoted_content': None,\n",
       "    'query': '%E3%83%AC%E3%83%A2%E3%83%B3%E3%83%86%E3%82%A3%E3%83%BC',\n",
       "    'tweet_volume': None},\n",
       "   {'name': 'カラーパレット',\n",
       "    'url': 'http://twitter.com/search?q=%E3%82%AB%E3%83%A9%E3%83%BC%E3%83%91%E3%83%AC%E3%83%83%E3%83%88',\n",
       "    'promoted_content': None,\n",
       "    'query': '%E3%82%AB%E3%83%A9%E3%83%BC%E3%83%91%E3%83%AC%E3%83%83%E3%83%88',\n",
       "    'tweet_volume': None},\n",
       "   {'name': 'ADSL',\n",
       "    'url': 'http://twitter.com/search?q=ADSL',\n",
       "    'promoted_content': None,\n",
       "    'query': 'ADSL',\n",
       "    'tweet_volume': None},\n",
       "   {'name': '써클차트',\n",
       "    'url': 'http://twitter.com/search?q=%EC%8D%A8%ED%81%B4%EC%B0%A8%ED%8A%B8',\n",
       "    'promoted_content': None,\n",
       "    'query': '%EC%8D%A8%ED%81%B4%EC%B0%A8%ED%8A%B8',\n",
       "    'tweet_volume': 12716},\n",
       "   {'name': '膵臓がんのため死去',\n",
       "    'url': 'http://twitter.com/search?q=%E8%86%B5%E8%87%93%E3%81%8C%E3%82%93%E3%81%AE%E3%81%9F%E3%82%81%E6%AD%BB%E5%8E%BB',\n",
       "    'promoted_content': None,\n",
       "    'query': '%E8%86%B5%E8%87%93%E3%81%8C%E3%82%93%E3%81%AE%E3%81%9F%E3%82%81%E6%AD%BB%E5%8E%BB',\n",
       "    'tweet_volume': None},\n",
       "   {'name': '自動停止',\n",
       "    'url': 'http://twitter.com/search?q=%E8%87%AA%E5%8B%95%E5%81%9C%E6%AD%A2',\n",
       "    'promoted_content': None,\n",
       "    'query': '%E8%87%AA%E5%8B%95%E5%81%9C%E6%AD%A2',\n",
       "    'tweet_volume': 10758},\n",
       "   {'name': 'ロック魂',\n",
       "    'url': 'http://twitter.com/search?q=%E3%83%AD%E3%83%83%E3%82%AF%E9%AD%82',\n",
       "    'promoted_content': None,\n",
       "    'query': '%E3%83%AD%E3%83%83%E3%82%AF%E9%AD%82',\n",
       "    'tweet_volume': None},\n",
       "   {'name': 'ちょんまげマーチ',\n",
       "    'url': 'http://twitter.com/search?q=%E3%81%A1%E3%82%87%E3%82%93%E3%81%BE%E3%81%92%E3%83%9E%E3%83%BC%E3%83%81',\n",
       "    'promoted_content': None,\n",
       "    'query': '%E3%81%A1%E3%82%87%E3%82%93%E3%81%BE%E3%81%92%E3%83%9E%E3%83%BC%E3%83%81',\n",
       "    'tweet_volume': None},\n",
       "   {'name': 'ギヴン完結',\n",
       "    'url': 'http://twitter.com/search?q=%E3%82%AE%E3%83%B4%E3%83%B3%E5%AE%8C%E7%B5%90',\n",
       "    'promoted_content': None,\n",
       "    'query': '%E3%82%AE%E3%83%B4%E3%83%B3%E5%AE%8C%E7%B5%90',\n",
       "    'tweet_volume': None},\n",
       "   {'name': '九州のコンビニ',\n",
       "    'url': 'http://twitter.com/search?q=%E4%B9%9D%E5%B7%9E%E3%81%AE%E3%82%B3%E3%83%B3%E3%83%93%E3%83%8B',\n",
       "    'promoted_content': None,\n",
       "    'query': '%E4%B9%9D%E5%B7%9E%E3%81%AE%E3%82%B3%E3%83%B3%E3%83%93%E3%83%8B',\n",
       "    'tweet_volume': None},\n",
       "   {'name': 'スライド移動',\n",
       "    'url': 'http://twitter.com/search?q=%E3%82%B9%E3%83%A9%E3%82%A4%E3%83%89%E7%A7%BB%E5%8B%95',\n",
       "    'promoted_content': None,\n",
       "    'query': '%E3%82%B9%E3%83%A9%E3%82%A4%E3%83%89%E7%A7%BB%E5%8B%95',\n",
       "    'tweet_volume': None},\n",
       "   {'name': '渡良瀬遊水地',\n",
       "    'url': 'http://twitter.com/search?q=%E6%B8%A1%E8%89%AF%E7%80%AC%E9%81%8A%E6%B0%B4%E5%9C%B0',\n",
       "    'promoted_content': None,\n",
       "    'query': '%E6%B8%A1%E8%89%AF%E7%80%AC%E9%81%8A%E6%B0%B4%E5%9C%B0',\n",
       "    'tweet_volume': None},\n",
       "   {'name': 'FULLSUN SHINES AGAIN',\n",
       "    'url': 'http://twitter.com/search?q=%22FULLSUN+SHINES+AGAIN%22',\n",
       "    'promoted_content': None,\n",
       "    'query': '%22FULLSUN+SHINES+AGAIN%22',\n",
       "    'tweet_volume': 22898},\n",
       "   {'name': 'PATHAAN 500 CR IN 5 DAYS',\n",
       "    'url': 'http://twitter.com/search?q=%22PATHAAN+500+CR+IN+5+DAYS%22',\n",
       "    'promoted_content': None,\n",
       "    'query': '%22PATHAAN+500+CR+IN+5+DAYS%22',\n",
       "    'tweet_volume': None},\n",
       "   {'name': '公開収録',\n",
       "    'url': 'http://twitter.com/search?q=%E5%85%AC%E9%96%8B%E5%8F%8E%E9%8C%B2',\n",
       "    'promoted_content': None,\n",
       "    'query': '%E5%85%AC%E9%96%8B%E5%8F%8E%E9%8C%B2',\n",
       "    'tweet_volume': 10762},\n",
       "   {'name': 'アヴちゃん',\n",
       "    'url': 'http://twitter.com/search?q=%E3%82%A2%E3%83%B4%E3%81%A1%E3%82%83%E3%82%93',\n",
       "    'promoted_content': None,\n",
       "    'query': '%E3%82%A2%E3%83%B4%E3%81%A1%E3%82%83%E3%82%93',\n",
       "    'tweet_volume': None},\n",
       "   {'name': 'महात्मा गांधी',\n",
       "    'url': 'http://twitter.com/search?q=%22%E0%A4%AE%E0%A4%B9%E0%A4%BE%E0%A4%A4%E0%A5%8D%E0%A4%AE%E0%A4%BE+%E0%A4%97%E0%A4%BE%E0%A4%82%E0%A4%A7%E0%A5%80%22',\n",
       "    'promoted_content': None,\n",
       "    'query': '%22%E0%A4%AE%E0%A4%B9%E0%A4%BE%E0%A4%A4%E0%A5%8D%E0%A4%AE%E0%A4%BE+%E0%A4%97%E0%A4%BE%E0%A4%82%E0%A4%A7%E0%A5%80%22',\n",
       "    'tweet_volume': 63814},\n",
       "   {'name': 'サンハウス',\n",
       "    'url': 'http://twitter.com/search?q=%E3%82%B5%E3%83%B3%E3%83%8F%E3%82%A6%E3%82%B9',\n",
       "    'promoted_content': None,\n",
       "    'query': '%E3%82%B5%E3%83%B3%E3%83%8F%E3%82%A6%E3%82%B9',\n",
       "    'tweet_volume': None},\n",
       "   {'name': '迷惑行為',\n",
       "    'url': 'http://twitter.com/search?q=%E8%BF%B7%E6%83%91%E8%A1%8C%E7%82%BA',\n",
       "    'promoted_content': None,\n",
       "    'query': '%E8%BF%B7%E6%83%91%E8%A1%8C%E7%82%BA',\n",
       "    'tweet_volume': 28737},\n",
       "   {'name': 'タロット',\n",
       "    'url': 'http://twitter.com/search?q=%E3%82%BF%E3%83%AD%E3%83%83%E3%83%88',\n",
       "    'promoted_content': None,\n",
       "    'query': '%E3%82%BF%E3%83%AD%E3%83%83%E3%83%88',\n",
       "    'tweet_volume': 66752},\n",
       "   {'name': 'MV解禁',\n",
       "    'url': 'http://twitter.com/search?q=MV%E8%A7%A3%E7%A6%81',\n",
       "    'promoted_content': None,\n",
       "    'query': 'MV%E8%A7%A3%E7%A6%81',\n",
       "    'tweet_volume': 10071},\n",
       "   {'name': '水木一郎',\n",
       "    'url': 'http://twitter.com/search?q=%E6%B0%B4%E6%9C%A8%E4%B8%80%E9%83%8E',\n",
       "    'promoted_content': None,\n",
       "    'query': '%E6%B0%B4%E6%9C%A8%E4%B8%80%E9%83%8E',\n",
       "    'tweet_volume': None},\n",
       "   {'name': 'LINEブログ',\n",
       "    'url': 'http://twitter.com/search?q=LINE%E3%83%96%E3%83%AD%E3%82%B0',\n",
       "    'promoted_content': None,\n",
       "    'query': 'LINE%E3%83%96%E3%83%AD%E3%82%B0',\n",
       "    'tweet_volume': None},\n",
       "   {'name': 'Motor Listrik Militer',\n",
       "    'url': 'http://twitter.com/search?q=%22Motor+Listrik+Militer%22',\n",
       "    'promoted_content': None,\n",
       "    'query': '%22Motor+Listrik+Militer%22',\n",
       "    'tweet_volume': None},\n",
       "   {'name': 'Siap Mengaspal',\n",
       "    'url': 'http://twitter.com/search?q=%22Siap+Mengaspal%22',\n",
       "    'promoted_content': None,\n",
       "    'query': '%22Siap+Mengaspal%22',\n",
       "    'tweet_volume': None},\n",
       "   {'name': 'E-Tactical SERGAP',\n",
       "    'url': 'http://twitter.com/search?q=%22E-Tactical+SERGAP%22',\n",
       "    'promoted_content': None,\n",
       "    'query': '%22E-Tactical+SERGAP%22',\n",
       "    'tweet_volume': None},\n",
       "   {'name': 'バイトテロ',\n",
       "    'url': 'http://twitter.com/search?q=%E3%83%90%E3%82%A4%E3%83%88%E3%83%86%E3%83%AD',\n",
       "    'promoted_content': None,\n",
       "    'query': '%E3%83%90%E3%82%A4%E3%83%88%E3%83%86%E3%83%AD',\n",
       "    'tweet_volume': 38174},\n",
       "   {'name': 'およよマン',\n",
       "    'url': 'http://twitter.com/search?q=%E3%81%8A%E3%82%88%E3%82%88%E3%83%9E%E3%83%B3',\n",
       "    'promoted_content': None,\n",
       "    'query': '%E3%81%8A%E3%82%88%E3%82%88%E3%83%9E%E3%83%B3',\n",
       "    'tweet_volume': None},\n",
       "   {'name': 'ゲロチュー',\n",
       "    'url': 'http://twitter.com/search?q=%E3%82%B2%E3%83%AD%E3%83%81%E3%83%A5%E3%83%BC',\n",
       "    'promoted_content': None,\n",
       "    'query': '%E3%82%B2%E3%83%AD%E3%83%81%E3%83%A5%E3%83%BC',\n",
       "    'tweet_volume': None},\n",
       "   {'name': '最期の瞬間',\n",
       "    'url': 'http://twitter.com/search?q=%E6%9C%80%E6%9C%9F%E3%81%AE%E7%9E%AC%E9%96%93',\n",
       "    'promoted_content': None,\n",
       "    'query': '%E6%9C%80%E6%9C%9F%E3%81%AE%E7%9E%AC%E9%96%93',\n",
       "    'tweet_volume': None},\n",
       "   {'name': 'You May Dream',\n",
       "    'url': 'http://twitter.com/search?q=%22You+May+Dream%22',\n",
       "    'promoted_content': None,\n",
       "    'query': '%22You+May+Dream%22',\n",
       "    'tweet_volume': None},\n",
       "   {'name': 'Tambah Kehidupmu',\n",
       "    'url': 'http://twitter.com/search?q=%22Tambah+Kehidupmu%22',\n",
       "    'promoted_content': None,\n",
       "    'query': '%22Tambah+Kehidupmu%22',\n",
       "    'tweet_volume': None},\n",
       "   {'name': 'VIBING WITH BTS',\n",
       "    'url': 'http://twitter.com/search?q=%22VIBING+WITH+BTS%22',\n",
       "    'promoted_content': None,\n",
       "    'query': '%22VIBING+WITH+BTS%22',\n",
       "    'tweet_volume': None},\n",
       "   {'name': 'Frank',\n",
       "    'url': 'http://twitter.com/search?q=Frank',\n",
       "    'promoted_content': None,\n",
       "    'query': 'Frank',\n",
       "    'tweet_volume': 147054},\n",
       "   {'name': '天野さん',\n",
       "    'url': 'http://twitter.com/search?q=%E5%A4%A9%E9%87%8E%E3%81%95%E3%82%93',\n",
       "    'promoted_content': None,\n",
       "    'query': '%E5%A4%A9%E9%87%8E%E3%81%95%E3%82%93',\n",
       "    'tweet_volume': None},\n",
       "   {'name': '1YR OF VIJAYI TEJASSWI',\n",
       "    'url': 'http://twitter.com/search?q=%221YR+OF+VIJAYI+TEJASSWI%22',\n",
       "    'promoted_content': None,\n",
       "    'query': '%221YR+OF+VIJAYI+TEJASSWI%22',\n",
       "    'tweet_volume': 131280},\n",
       "   {'name': 'ロックンロール',\n",
       "    'url': 'http://twitter.com/search?q=%E3%83%AD%E3%83%83%E3%82%AF%E3%83%B3%E3%83%AD%E3%83%BC%E3%83%AB',\n",
       "    'promoted_content': None,\n",
       "    'query': '%E3%83%AD%E3%83%83%E3%82%AF%E3%83%B3%E3%83%AD%E3%83%BC%E3%83%AB',\n",
       "    'tweet_volume': None}],\n",
       "  'as_of': '2023-01-30T10:49:36Z',\n",
       "  'created_at': '2023-01-29T11:30:35Z',\n",
       "  'locations': [{'name': 'Worldwide', 'woeid': 1}]}]"
      ]
     },
     "execution_count": 28,
     "metadata": {},
     "output_type": "execute_result"
    }
   ],
   "source": [
    "trends_place = \"https://api.twitter.com/1.1/trends/place.json?id=1\"\n",
    "main(trends_place, {})"
   ]
  },
  {
   "cell_type": "markdown",
   "id": "9abeb2c1",
   "metadata": {},
   "source": [
    "# Searching data by topic"
   ]
  },
  {
   "cell_type": "markdown",
   "id": "fa55f3b3",
   "metadata": {},
   "source": [
    "From https://dev.to/suhemparack/how-to-search-for-tweets-about-various-topics-using-the-twitter-api-v2-3p86\n",
    "1) Find the tweet with of the specific topic\n",
    "2) Go to https://tweet-entity-extractor.glitch.me, paste the link to a tweet\n",
    "3) Get the list of entities that were mentioned in a tweet, select the one you need, in this case 131.1007360414114435072=\"bitcoin cryptocurrency\"\n",
    "4) Format the query as `context:131.1007360414114435072`\n",
    "5) Run the search"
   ]
  },
  {
   "cell_type": "code",
   "execution_count": 34,
   "id": "fffeff69",
   "metadata": {
    "ExecuteTime": {
     "end_time": "2023-01-30T12:29:23.710753Z",
     "start_time": "2023-01-30T12:29:23.362252Z"
    }
   },
   "outputs": [
    {
     "name": "stdout",
     "output_type": "stream",
     "text": [
      "200\n"
     ]
    },
    {
     "data": {
      "text/plain": [
       "{'data': [{'author_id': '2275584613',\n",
       "   'text': \"RT @Bitcoin: @PeterMcCormack @joerogan 4. Bitcoin's supply cap\",\n",
       "   'edit_history_tweet_ids': ['1620036407099105280'],\n",
       "   'id': '1620036407099105280'},\n",
       "  {'author_id': '1616074570443935745',\n",
       "   'text': '@TheCryptoLark https://t.co/7mDOm1FEH6',\n",
       "   'edit_history_tweet_ids': ['1620036406864388096'],\n",
       "   'id': '1620036406864388096'},\n",
       "  {'author_id': '2595821611',\n",
       "   'text': 'RT @Bitcoin: \"Aggressive tightening has been a drag on asset prices all year.. U.S. large cap stocks fell by 22.4% on the quarter, long-ter…',\n",
       "   'edit_history_tweet_ids': ['1620036406331555840'],\n",
       "   'id': '1620036406331555840'},\n",
       "  {'author_id': '1458868509115654151',\n",
       "   'text': 'RT @TrevyLord: Unatuspotia graphs za BTC as if we care ata hatuelewi',\n",
       "   'edit_history_tweet_ids': ['1620036402766573568'],\n",
       "   'id': '1620036402766573568'},\n",
       "  {'author_id': '1424814179827998720',\n",
       "   'text': 'RT @naiivememe: #Bitcoin https://t.co/JTZpykA5ap',\n",
       "   'edit_history_tweet_ids': ['1620036402523295744'],\n",
       "   'id': '1620036402523295744'},\n",
       "  {'author_id': '495412138',\n",
       "   'text': 'RT @DocumentingBTC: There are so many #bitcoin books you need to read! https://t.co/y61bnkbGaS',\n",
       "   'edit_history_tweet_ids': ['1620036401692831744'],\n",
       "   'id': '1620036401692831744'},\n",
       "  {'author_id': '954318173834174465',\n",
       "   'text': '2017年はガチホが正解やったな\\n\\n仮想通貨 ビットコイン イーサリアム ネム モナ xrp LTC MIOTA ADA DASH EOS XMR omise ゼニー リップル TRON xp zaif',\n",
       "   'edit_history_tweet_ids': ['1620036400728113153'],\n",
       "   'id': '1620036400728113153'},\n",
       "  {'author_id': '1514051153507627014',\n",
       "   'text': \"RT @CryptoBusy: Let's make fun! How would you explain #Bitcoin to a 5 year old or to your kid?\\n\\nA #Crypto  thread 🧵\\n\\n1/3 https://t.co/oc4IC…\",\n",
       "   'edit_history_tweet_ids': ['1620036399889281025'],\n",
       "   'id': '1620036399889281025'},\n",
       "  {'author_id': '2820343027',\n",
       "   'text': 'RT @saylor: @cameron @Twitter We need an orange check program, powered by #bitcoin &amp; #lightning⚡️ to combat spam, scams, &amp; bots across all…',\n",
       "   'edit_history_tweet_ids': ['1620036399675179009'],\n",
       "   'id': '1620036399675179009'},\n",
       "  {'author_id': '2841522262',\n",
       "   'text': 'RT @saylor: Sam created a million #Bitcoin Maximalists.',\n",
       "   'edit_history_tweet_ids': ['1620036399255650304'],\n",
       "   'id': '1620036399255650304'}],\n",
       " 'meta': {'newest_id': '1620036407099105280',\n",
       "  'oldest_id': '1620036399255650304',\n",
       "  'result_count': 10,\n",
       "  'next_token': 'b26v89c19zqg8o3fqk6z46u3lfuz6ec0fss5zvin62k59'}}"
      ]
     },
     "execution_count": 34,
     "metadata": {},
     "output_type": "execute_result"
    }
   ],
   "source": [
    "query_params = {\n",
    "    \"query\": \"context:131.1007360414114435072\",\n",
    "    \"tweet.fields\": \"author_id\",\n",
    "}\n",
    "main(search_recent, query_params)"
   ]
  },
  {
   "cell_type": "code",
   "execution_count": null,
   "id": "f3c7c442",
   "metadata": {},
   "outputs": [],
   "source": []
  }
 ],
 "metadata": {
  "kernelspec": {
   "display_name": "Python 3 (ipykernel)",
   "language": "python",
   "name": "python3"
  },
  "language_info": {
   "codemirror_mode": {
    "name": "ipython",
    "version": 3
   },
   "file_extension": ".py",
   "mimetype": "text/x-python",
   "name": "python",
   "nbconvert_exporter": "python",
   "pygments_lexer": "ipython3",
   "version": "3.8.10"
  },
  "toc": {
   "base_numbering": 1,
   "nav_menu": {},
   "number_sections": true,
   "sideBar": true,
   "skip_h1_title": false,
   "title_cell": "Table of Contents",
   "title_sidebar": "Contents",
   "toc_cell": false,
   "toc_position": {},
   "toc_section_display": true,
   "toc_window_display": false
  }
 },
 "nbformat": 4,
 "nbformat_minor": 5
}
