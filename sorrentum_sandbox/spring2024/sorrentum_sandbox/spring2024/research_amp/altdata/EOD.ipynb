{
 "cells": [
  {
   "cell_type": "markdown",
   "id": "ee4982b4",
   "metadata": {},
   "source": [
    "This notebook researches `eodhistoricaldata.com` news API."
   ]
  },
  {
   "cell_type": "markdown",
   "id": "437c10ac",
   "metadata": {},
   "source": [
    "# Imports"
   ]
  },
  {
   "cell_type": "code",
   "execution_count": 31,
   "id": "c877866d",
   "metadata": {
    "ExecuteTime": {
     "end_time": "2023-02-07T12:04:11.731459Z",
     "start_time": "2023-02-07T12:04:11.728770Z"
    }
   },
   "outputs": [],
   "source": [
    "import os\n",
    "\n",
    "import requests"
   ]
  },
  {
   "cell_type": "markdown",
   "id": "c71eef64",
   "metadata": {
    "run_control": {
     "marked": false
    }
   },
   "source": [
    "Free API key is valid for 20 API requests per day."
   ]
  },
  {
   "cell_type": "code",
   "execution_count": 8,
   "id": "26902a8e",
   "metadata": {
    "ExecuteTime": {
     "end_time": "2023-02-07T10:42:36.685654Z",
     "start_time": "2023-02-07T10:42:36.682836Z"
    }
   },
   "outputs": [],
   "source": [
    "api_token = os.environ[\"EOD\"]"
   ]
  },
  {
   "cell_type": "markdown",
   "id": "651eefdd",
   "metadata": {},
   "source": [
    "List of allowed token pairs can be found here https://eodhistoricaldata.com/financial-apis/list-supported-crypto-currencies/"
   ]
  },
  {
   "cell_type": "markdown",
   "id": "c2f985d6",
   "metadata": {},
   "source": [
    "# Query the API"
   ]
  },
  {
   "cell_type": "code",
   "execution_count": 13,
   "id": "dc9d6aa5",
   "metadata": {
    "ExecuteTime": {
     "end_time": "2023-02-07T11:10:12.345471Z",
     "start_time": "2023-02-07T11:10:12.342855Z"
    }
   },
   "outputs": [],
   "source": [
    "eod_base = (\n",
    "    \"https://eodhistoricaldata.com/api/news?api_token=%s&s=%s&offset=%s&limit=%s\"\n",
    ")"
   ]
  },
  {
   "cell_type": "markdown",
   "id": "9ce81d47",
   "metadata": {},
   "source": [
    "**BTC**"
   ]
  },
  {
   "cell_type": "code",
   "execution_count": 18,
   "id": "3113f9c6",
   "metadata": {
    "ExecuteTime": {
     "end_time": "2023-02-07T11:13:21.920984Z",
     "start_time": "2023-02-07T11:13:20.500606Z"
    },
    "run_control": {
     "marked": true
    }
   },
   "outputs": [],
   "source": [
    "token = \"BTC\"\n",
    "offset = \"0\"\n",
    "limit = \"10\"\n",
    "\n",
    "query = eod_base % (api_token, token, offset, limit)\n",
    "response = requests.get(query).json()"
   ]
  },
  {
   "cell_type": "code",
   "execution_count": 23,
   "id": "62f22fda",
   "metadata": {
    "ExecuteTime": {
     "end_time": "2023-02-07T11:39:31.404679Z",
     "start_time": "2023-02-07T11:39:31.400383Z"
    },
    "scrolled": false
   },
   "outputs": [
    {
     "data": {
      "text/plain": [
       "{'date': '2022-04-11T20:46:07+00:00',\n",
       " 'title': 'Market Wrap: Bitcoin Sell-Off Deepens as Correlation With Stocks Rises',\n",
       " 'content': 'Don\\'t miss CoinDesk\\'s Consensus 2022, the must-attend crypto & blockchain festival experience of the year in Austin, TX this June 9-12.\\n\\nBitcoin (BTC) continued its descent on Monday, briefly dipping below $40,000 and tracking losses in global equities.\\n\\nInvestors appear to be reducing their exposure to speculative assets, including stocks and cryptos, amid concerns about inflation and slower economic growth. Further, the 10-year Treasury yield rose to a new three-year high on Monday at 2.78%, which reduces the present value of expensively priced tech stocks.\\n\\nJust launched! Sign up for Market Wrap, our daily newsletter explaining what happened today in crypto markets – and why.\\n\\nGold, a traditional safe haven, traded higher on Monday, while the Chicago Board Options Exchange\\'s CBOE Volatility Index (VIX), a measure of the stock market\\'s expectation of volatility based on S&P 500 index options, rose above 20, similar to what occurred in early February. That indicates uncertainty among investors.\\n\\nIn crypto markets, most alternative cryptocurrencies (altcoins) underperformed bitcoin on Monday. Ether (ETH) was down 8% over the past 24 hours, compared with a 16% drop in THORChain\\'s RUNE token, and a 6% decline in BTC over the same period.\\n\\nFor now, technical indicators suggest lower support at $37,500 and $40,000 could stabilize BTC\\'s down move.\\n\\nLatest prices\\n\\n●Bitcoin (BTC): $40065, −7.48%\\n\\n●Ether (ETH): $3011, −8.67%\\n\\n●S&P 500 daily close: $4413, −1.69%\\n\\n●Gold: $1957 per troy ounce, +0.79%\\n\\n●Ten-year Treasury yield daily close: 2.78%\\n\\nBitcoin, ether and gold prices are taken at approximately 4pm New York time. Bitcoin is the CoinDesk Bitcoin Price Index (XBX); Ether is the CoinDesk Ether Price Index (ETX); Gold is the COMEX spot price. Information about CoinDesk Indices can be found at coindesk.com/indices.\\n\\nNo capitulation yet\\n\\nBitcoin\\'s pullback below $43,000 triggered a wave of long liquidations over the weekend.\\n\\nStory continues\\n\\nLiquidations occur when an exchange forcefully closes a trader’s leveraged position as a safety mechanism due to a partial or total loss of the trader’s initial margin. In this case, traders who were long bitcoin are forced out of their positions as price drops, which can accelerate declines in the spot market.\\n\\nStill, long liquidations over the past few weeks have not reached an extreme, especially compared with early March. That could point to further selling pressure until BTC experiences a more decisive down move with high trading volume, which typically indicates capitulation among short traders. Bitcoin total liquidations (CoinDesk, Coinglass)\\n\\nTrading volume across bitcoin spot exchanges remains low, according to CoinDesk data. Further, there was no uptick in volume over the weekend despite BTC\\'s 7% price dip.\\n\\nThe chart below shows the ratio of buy volume versus sell volume in bitcoin\\'s perpetual swaps market (30-day moving average), which is a type of crypto derivative trading product. The ratio dipped below one, suggesting dominant bearish sentiment among bitcoin traders. Bitcoin buy/sell volume (CoinDesk, CryptoQuant)\\n\\nRising correlation\\n\\nDespite crypto-specific events, such as The Luna Foundation Guard\\'s (LFG) accumulation of 40,000 BTC, bitcoin has largely tracked moves in stocks over the past year.\\n\\nThe chart below shows a new high in the 90-day correlation between bitcoin and the tech-heavy Nasdaq 100 index. While the correlation is still relatively low, it has remained elevated since the pandemic-induced sell-off across speculative assets in 2020.\\n\\nIn a Monday newsletter, FundStrat, a global advisory firm, wrote that macro uncertainty could outweigh LFG\\'s reserve purchases. \"Following previous LFG purchases, we witnessed a rise in realized market cap as other [traders] followed LFG\\'s lead,\" the firm wrote. \"However, realized market cap has remained flat since this latest purchase, indicating marginally less appetite for buying this weekend\\'s dip.\"\\n\\nIt appears that investors have tightened their risk budget, which is typical during times of market turbulence. After all, global volatility has been compressed throughout the past 15 years of unprecedented monetary stimulus. Bitcoin, Nasdaq correlation (CoinDesk, Koyfin)\\n\\nAltcoin roundup\\n\\nEthereum\\'s first Mainnet shadow fork goes live as move to PoS continues: Ethereum\\'s first mainnet shadow fork went live today, as the developers of the world\\'s second-largest cryptocurrency by market cap continue transitioning the backing network to a proof-of-stake (PoS) model. The shadow fork is a way to \"stress test our assumptions around syncing and state growth,\" tweeted Parithosh Jayanthi, an Ethereum Foundation developer, on April 10. Read more here. Terra’s LUNA leads slide: LUNA fell by as much as 8% even as Luna Foundation Guard (LFG) added $173 million in bitcoin to its wallet over the weekend, bringing its total holdings to 40,000 bitcoin, as reported. The LFG is a newly formed nonprofit that aims to maintain the Terra ecosystem by building a $10 billion reserve in bitcoin for backing the UST, a stablecoin issued by Terra, one of LFG’s main backers. Read more here. Huobi, Kucoin, others lead $250M Toncoin ecosystem fund: The venture arms of cryptocurrency exchanges Huobi and Kucoin are among the backers of a new $250 million ecosystem fund to support projects built on Toncoin, the reincarnation of failed blockchain project TON. Read more here.\\n\\nRelevant reads\\n\\nListen to CoinDesk\\'s Markets Daily podcast: The team unpacks the latest on meme coins, gambling and crypto regulations. Luna Foundation Treasury Holds Almost 40,000 BTC After Weekend Purchase: Luna Foundation Guard bought $173 million worth of bitcoin over the weekend, but bitcoin is down 2%. Crypto Funds See Largest Outflows Since January: Some $134 million flowed out of digital asset funds in the week through April 8 as investors took profits and fled bitcoin-focused funds. Avalanche-Based Blockbuster Game Shrapnel Completes $7M Token Sale: Games studio Neon has raised $17.5 million so far to bring Shrapnel to Avalanche. Hong Kong’s OneDegree to Offer Insurance for Digital Assets With Munich Re: Clients will be able to get reinsurance for crypto. Crypto Trading Volumes in India Collapse 10 Days After New Tax: Crebaco: The volume on WazirX, the country\\'s largest exchange, has plunged by 72%.\\n\\nOther markets\\n\\nMost digital assets in the CoinDesk 20 ended the day lower.\\n\\nLargest winners:\\n\\nThere are no gainers in CoinDesk 20 today.\\n\\nLargest losers:\\n\\nAsset Ticker Returns Sector Filecoin FIL −15.2% Computing Polkadot DOT −12.4% Smart Contract Platform Chainlink LINK −12.3% Computing\\n\\nSector classifications are provided via the Digital Asset Classification Standard (DACS), developed by CoinDesk Indices to provide a reliable, comprehensive, and standardized classification system for digital assets. The CoinDesk 20 is a ranking of the largest digital assets by volume on trusted exchanges.',\n",
       " 'link': 'https://finance.yahoo.com/news/market-wrap-bitcoin-sell-off-204607563.html',\n",
       " 'symbols': ['BTC.US', 'GC.COMM', 'ZG.COMM'],\n",
       " 'tags': ['BITCOIN',\n",
       "  'CHICAGO BOARD OPTIONS EXCHANGE',\n",
       "  'LUNA FOUNDATION',\n",
       "  'LUNA FOUNDATION GUARD',\n",
       "  'MARKET CAP'],\n",
       " 'sentiment': {'polarity': 0.98, 'neg': 0.038, 'neu': 0.895, 'pos': 0.068}}"
      ]
     },
     "execution_count": 23,
     "metadata": {},
     "output_type": "execute_result"
    }
   ],
   "source": [
    "response[0]"
   ]
  },
  {
   "cell_type": "markdown",
   "id": "9f4cca9e",
   "metadata": {},
   "source": [
    "We can see here that `sentiment` field stores the sentiment evaluation of a text, with looks very useful for crypto analysis."
   ]
  },
  {
   "cell_type": "markdown",
   "id": "db3c1be9",
   "metadata": {},
   "source": [
    "**ETH-USD**"
   ]
  },
  {
   "cell_type": "code",
   "execution_count": null,
   "id": "6b3cc3d3",
   "metadata": {
    "ExecuteTime": {
     "end_time": "2023-02-07T11:55:08.082019Z",
     "start_time": "2023-02-07T11:55:07.301944Z"
    },
    "scrolled": false
   },
   "outputs": [],
   "source": [
    "token = \"ETH-USD.CC\"\n",
    "offset = \"0\"\n",
    "limit = \"10\"\n",
    "\n",
    "query = eod_base % (api_token, token, offset, limit)\n",
    "response = requests.get(query).json()"
   ]
  },
  {
   "cell_type": "markdown",
   "id": "9cb6ab64",
   "metadata": {},
   "source": [
    "Let's evaluate the quality of sentiment analysis."
   ]
  },
  {
   "cell_type": "markdown",
   "id": "580d79e1",
   "metadata": {},
   "source": [
    "**1**"
   ]
  },
  {
   "cell_type": "code",
   "execution_count": 32,
   "id": "41980321",
   "metadata": {
    "ExecuteTime": {
     "end_time": "2023-02-07T12:14:30.191249Z",
     "start_time": "2023-02-07T12:14:30.187033Z"
    },
    "scrolled": false
   },
   "outputs": [
    {
     "data": {
      "text/plain": [
       "{'date': '2023-02-07T06:58:00+00:00',\n",
       " 'title': 'Top Ethereum (ETH) Gas Spenders Are Scammers',\n",
       " 'content': 'According to the latest findings by blockchain security firm PeckShield, the top two gas spenders on the Ethereum network are zero transfer scammers.',\n",
       " 'link': 'https://u.today/top-ethereum-eth-gas-spenders-are-scammers',\n",
       " 'symbols': ['ADADOWN-USD.CC',\n",
       "  'ADAUP-USD.CC',\n",
       "  'ARPA-USD.CC',\n",
       "  'BEL-USD.CC',\n",
       "  'BNBBEAR-USD.CC',\n",
       "  'COCOS-USD.CC',\n",
       "  'DOTUP-USD.CC',\n",
       "  'DREP-USD.CC',\n",
       "  'ETH-USD.CC',\n",
       "  'INJ-USD.CC',\n",
       "  'KP3RB-USD.CC',\n",
       "  'LINA-USD.CC',\n",
       "  'LINKUP-USD.CC',\n",
       "  'LTCDOWN-USD.CC',\n",
       "  'LTCUP-USD.CC',\n",
       "  'MBL-USD.CC',\n",
       "  'NBS-USD.CC',\n",
       "  'OG-USD.CC',\n",
       "  'PERP-USD.CC',\n",
       "  'POND-USD.CC'],\n",
       " 'tags': [],\n",
       " 'sentiment': {'polarity': 0.494, 'neg': 0, 'neu': 0.833, 'pos': 0.167}}"
      ]
     },
     "execution_count": 32,
     "metadata": {},
     "output_type": "execute_result"
    }
   ],
   "source": [
    "response[0]"
   ]
  },
  {
   "cell_type": "markdown",
   "id": "22621c0e",
   "metadata": {},
   "source": [
    "In my opinion the text `Top Ethereum (ETH) Gas Spenders Are Scammers. According to the latest findings by blockchain security firm PeckShield, the top two gas spenders on the Ethereum network are zero transfer scammers.` has more negative sentiment than positive."
   ]
  },
  {
   "cell_type": "markdown",
   "id": "85fff1c0",
   "metadata": {},
   "source": [
    "**2**"
   ]
  },
  {
   "cell_type": "code",
   "execution_count": 40,
   "id": "a4303de9",
   "metadata": {
    "ExecuteTime": {
     "end_time": "2023-02-07T12:27:33.507370Z",
     "start_time": "2023-02-07T12:27:33.502724Z"
    }
   },
   "outputs": [
    {
     "data": {
      "text/plain": [
       "{'date': '2023-02-07T00:00:00+00:00',\n",
       " 'title': 'Ethereum (ETH) Outlook: Will Network Upgrades Be Enough to Boost the Price?',\n",
       " 'content': 'Ethereum has delivered an impressive 43% performance year-to-date. But there have been mixed signals surrounding the pioneer smart contract network recently.\\xa0',\n",
       " 'link': 'https://beincrypto.com/ethereum-eth-outlook-network-upgrades-enough-boost-price/',\n",
       " 'symbols': ['ETH-USD.CC'],\n",
       " 'tags': [],\n",
       " 'sentiment': {'polarity': 0.718, 'neg': 0, 'neu': 0.76, 'pos': 0.24}}"
      ]
     },
     "execution_count": 40,
     "metadata": {},
     "output_type": "execute_result"
    }
   ],
   "source": [
    "response[1]"
   ]
  },
  {
   "cell_type": "markdown",
   "id": "4b5274fd",
   "metadata": {
    "ExecuteTime": {
     "end_time": "2023-02-07T12:32:40.546558Z",
     "start_time": "2023-02-07T12:32:40.542447Z"
    }
   },
   "source": [
    "This sentiment percentage seems fair to me."
   ]
  },
  {
   "cell_type": "markdown",
   "id": "76c5bf9c",
   "metadata": {},
   "source": [
    "**Let's look for a negative sentiment in out response list**"
   ]
  },
  {
   "cell_type": "code",
   "execution_count": 46,
   "id": "01ab0b88",
   "metadata": {
    "ExecuteTime": {
     "end_time": "2023-02-07T12:38:06.843390Z",
     "start_time": "2023-02-07T12:38:06.840510Z"
    }
   },
   "outputs": [],
   "source": [
    "for resp in response:\n",
    "    neg = resp[\"sentiment\"][\"neg\"]\n",
    "    if neg > 0.2:\n",
    "        print(resp)"
   ]
  },
  {
   "cell_type": "markdown",
   "id": "a3f7119c",
   "metadata": {},
   "source": [
    "It seems like negative sentiment is less common than positive sentiment."
   ]
  },
  {
   "cell_type": "markdown",
   "id": "55d8fad5",
   "metadata": {},
   "source": [
    "**Extract the symbols related to `ETH-USD` symbol.**"
   ]
  },
  {
   "cell_type": "code",
   "execution_count": 39,
   "id": "ac23d414",
   "metadata": {
    "ExecuteTime": {
     "end_time": "2023-02-07T12:22:41.090392Z",
     "start_time": "2023-02-07T12:22:41.086784Z"
    }
   },
   "outputs": [
    {
     "name": "stdout",
     "output_type": "stream",
     "text": [
      "{'ARKK-USD.CC', 'BTCB-USD.CC', 'ADADOWN-USD.CC', 'DEGO-USD.CC', 'BNBBULL-USD.CC', 'ADI-USD.CC', 'ADL-USD.CC', 'APLP-USD.CC', 'ETHUP-USD.CC', 'ADAUP-USD.CC', 'ETHDOWN-USD.CC', 'BTCT-USD.CC', 'EOSBULL-USD.CC', 'LTCUP-USD.CC', 'EOSDOWN-USD.CC', 'ACT-USD.CC', 'BTCUP-USD.CC', 'BEL-USD.CC', 'ARPA-USD.CC', 'ABS-USD.CC', 'BNBBEAR-USD.CC', 'ETH.CC', 'BZRX-USD.CC', 'BKRW-USD.CC', 'BTC.CC', 'ACTN-USD.CC', 'ARNXM-USD.CC', 'DREP-USD.CC', 'LINA-USD.CC', 'MBL-USD.CC', 'BTC-USD.CC', 'BNBDOWN-USD.CC', 'AIDUS-USD.CC', 'LTCDOWN-USD.CC', 'POND-USD.CC', 'COCOS-USD.CC', 'KP3RB-USD.CC', 'EOSBEAR-USD.CC', 'AU-USD.CC', 'LINKUP-USD.CC', 'OG-USD.CC', 'AUSCM-USD.CC', 'BNBUP-USD.CC', 'ADA.CC', 'ETHBULL-USD.CC', 'ALPHA-USD.CC', 'ATH-USD.CC', 'AXEL-USD.CC', 'AAVEUP-USD.CC', 'ABST-USD.CC', 'ARX-USD.CC', 'BTCDOWN-USD.CC', 'ALPA-USD.CC', 'PERP-USD.CC', 'ACM-USD.CC', 'DOTUP-USD.CC', 'AWC-USD.CC', 'ETHBEAR-USD.CC', 'ETH-USD.CC', 'INJ-USD.CC', 'NBS-USD.CC', 'AKRO-USD.CC', 'AERGO-USD.CC', 'CHR-USD.CC', 'ARION-USD.CC', 'ARTH-USD.CC', 'AAVEDOWN-USD.CC', 'CTXC-USD.CC', 'ATCC-USD.CC'}\n"
     ]
    }
   ],
   "source": [
    "symbols = []\n",
    "for r in response:\n",
    "    symbols.extend(r[\"symbols\"])\n",
    "print(set(symbols))"
   ]
  },
  {
   "cell_type": "markdown",
   "id": "37009e46",
   "metadata": {},
   "source": [
    "# Other relevant EOD API URLs"
   ]
  },
  {
   "cell_type": "markdown",
   "id": "b235159f",
   "metadata": {},
   "source": [
    "**[Fundamental Data for Cryptocurrencies](https://eodhistoricaldata.com/financial-apis/fundamental-data-for-cryptocurrencies/)**, URL example: https://eodhistoricaldata.com/api/fundamentals/BTC-USD.CC?api_token={token}\n",
    "- Market Capitalization\n",
    "- Market Capitalization Diluted\n",
    "- Circulating Supply\n",
    "- Total Supply\n",
    "- Max Supply\n",
    "- Market Capitalization Dominance\n",
    "- Technical Documentation LInk\n",
    "- Explorer\n",
    "- Source Code\n",
    "- Message Board\n",
    "- Low All Time\n",
    "- High All Time\n"
   ]
  },
  {
   "cell_type": "markdown",
   "id": "4407a7d9",
   "metadata": {
    "ExecuteTime": {
     "end_time": "2023-02-08T14:58:02.630179Z",
     "start_time": "2023-02-08T14:58:02.625778Z"
    }
   },
   "source": [
    "**[End-Of-Day Historical Stock Market Data API](https://eodhistoricaldata.com/financial-apis/api-for-historical-data-and-volumes/)**,\n",
    "URL example: https://eodhistoricaldata.com/api/eod/BTC.CC?api_token={token}\n",
    "\n",
    "- Date\n",
    "- Open\n",
    "- High\n",
    "- Close\n",
    "- Adjusted_close\n",
    "- Volume"
   ]
  },
  {
   "cell_type": "markdown",
   "id": "1b790d09",
   "metadata": {},
   "source": [
    "**[Intraday Historical Data API](https://eodhistoricaldata.com/financial-apis/intraday-historical-data-api/)**\n",
    "\n",
    "Cryptocurrencies (CC) have 1-minute intervals of trading data from 2009, more than 12 years of data. 5-minute and 1-hour intervals are available from October 2020.\n",
    "URL example: https://eodhistoricaldata.com/api/intraday/BTC.CC?api_token={}"
   ]
  },
  {
   "cell_type": "markdown",
   "id": "7a557c38",
   "metadata": {},
   "source": [
    "**[Live (Delayed) Stock Prices API](https://eodhistoricaldata.com/financial-apis/live-realtime-stocks-api/)**\n",
    "\n",
    "With this API endpoint, you are able to get delayed (15-20 minutes) information about almost all stocks on the market.\n",
    "URL example: https://eodhistoricaldata.com/api/real-time/BTC.CC?fmt=json&api_token={token}\n"
   ]
  },
  {
   "cell_type": "markdown",
   "id": "99c1ecd0",
   "metadata": {},
   "source": [
    "**[Real-Time Data API (WebSockets)](https://eodhistoricaldata.com/financial-apis/new-real-time-data-api-websockets/)**\n",
    "Real-time data with a delay of less than 50ms.\n",
    "\n",
    "Websocket URL: wss://ws.eodhistoricaldata.com/ws/crypto?api_token={token}"
   ]
  },
  {
   "cell_type": "markdown",
   "id": "b9c33885",
   "metadata": {},
   "source": [
    "**[Sentiment Data Financial API for News and Tweets](https://eodhistoricaldata.com/financial-apis/sentimental-data-financial-api/)**\n",
    "\n",
    "The Financial News aggregated sentiment data collected from the financial news for stocks, ETFs, Forex, and cryptocurrencies data. The data is aggregated by day.\n",
    "URL example: https://eodhistoricaldata.com/api/sentiments?s=btc-usd.cc,aapl&from=2022-01-01&to=2022-04-22&api_token={token}\n",
    "\n"
   ]
  },
  {
   "cell_type": "code",
   "execution_count": null,
   "id": "5fe3e8be",
   "metadata": {},
   "outputs": [],
   "source": []
  }
 ],
 "metadata": {
  "kernelspec": {
   "display_name": "Python 3 (ipykernel)",
   "language": "python",
   "name": "python3"
  },
  "language_info": {
   "codemirror_mode": {
    "name": "ipython",
    "version": 3
   },
   "file_extension": ".py",
   "mimetype": "text/x-python",
   "name": "python",
   "nbconvert_exporter": "python",
   "pygments_lexer": "ipython3",
   "version": "3.8.10"
  },
  "toc": {
   "base_numbering": 1,
   "nav_menu": {},
   "number_sections": true,
   "sideBar": true,
   "skip_h1_title": false,
   "title_cell": "Table of Contents",
   "title_sidebar": "Contents",
   "toc_cell": false,
   "toc_position": {},
   "toc_section_display": true,
   "toc_window_display": false
  }
 },
 "nbformat": 4,
 "nbformat_minor": 5
}
