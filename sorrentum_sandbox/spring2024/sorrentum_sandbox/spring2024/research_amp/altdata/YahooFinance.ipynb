{
 "cells": [
  {
   "cell_type": "markdown",
   "id": "da20f226",
   "metadata": {},
   "source": [
    "# Description"
   ]
  },
  {
   "cell_type": "markdown",
   "id": "79488afb",
   "metadata": {},
   "source": [
    "This notebook contains examples of the API endpoints for finance.yahoo.com.\n",
    "\n",
    "The API is accessed through an API wrapper `yfinance` (https://github.com/ranaroussi/yfinance)."
   ]
  },
  {
   "cell_type": "markdown",
   "id": "f05213ef",
   "metadata": {},
   "source": [
    "# Imports"
   ]
  },
  {
   "cell_type": "markdown",
   "id": "f11eee3c",
   "metadata": {},
   "source": [
    "## Installing yfinance"
   ]
  },
  {
   "cell_type": "code",
   "execution_count": 1,
   "id": "e98b95a0",
   "metadata": {
    "ExecuteTime": {
     "end_time": "2023-02-06T01:34:47.807736Z",
     "start_time": "2023-02-06T01:34:43.058083Z"
    }
   },
   "outputs": [
    {
     "name": "stdout",
     "output_type": "stream",
     "text": [
      "Requirement already satisfied: pip in /venv/lib/python3.8/site-packages (23.0)\n",
      "Requirement already satisfied: yfinance in /venv/lib/python3.8/site-packages (0.2.9)\n",
      "Requirement already satisfied: pandas>=1.3.0 in /venv/lib/python3.8/site-packages (from yfinance) (1.5.1)\n",
      "Requirement already satisfied: multitasking>=0.0.7 in /venv/lib/python3.8/site-packages (from yfinance) (0.0.11)\n",
      "Requirement already satisfied: html5lib>=1.1 in /venv/lib/python3.8/site-packages (from yfinance) (1.1)\n",
      "Requirement already satisfied: lxml>=4.9.1 in /venv/lib/python3.8/site-packages (from yfinance) (4.9.1)\n",
      "Requirement already satisfied: beautifulsoup4>=4.11.1 in /venv/lib/python3.8/site-packages (from yfinance) (4.11.1)\n",
      "Requirement already satisfied: cryptography>=3.3.2 in /venv/lib/python3.8/site-packages (from yfinance) (3.4.7)\n",
      "Requirement already satisfied: pytz>=2022.5 in /venv/lib/python3.8/site-packages (from yfinance) (2022.6)\n",
      "Requirement already satisfied: frozendict>=2.3.4 in /venv/lib/python3.8/site-packages (from yfinance) (2.3.4)\n",
      "Requirement already satisfied: numpy>=1.16.5 in /venv/lib/python3.8/site-packages (from yfinance) (1.23.4)\n",
      "Requirement already satisfied: appdirs>=1.4.4 in /venv/lib/python3.8/site-packages (from yfinance) (1.4.4)\n",
      "Requirement already satisfied: requests>=2.26 in /venv/lib/python3.8/site-packages (from yfinance) (2.28.1)\n",
      "Requirement already satisfied: soupsieve>1.2 in /venv/lib/python3.8/site-packages (from beautifulsoup4>=4.11.1->yfinance) (2.3.2.post1)\n",
      "Requirement already satisfied: cffi>=1.12 in /venv/lib/python3.8/site-packages (from cryptography>=3.3.2->yfinance) (1.15.1)\n",
      "Requirement already satisfied: webencodings in /venv/lib/python3.8/site-packages (from html5lib>=1.1->yfinance) (0.5.1)\n",
      "Requirement already satisfied: six>=1.9 in /venv/lib/python3.8/site-packages (from html5lib>=1.1->yfinance) (1.16.0)\n",
      "Requirement already satisfied: python-dateutil>=2.8.1 in /venv/lib/python3.8/site-packages (from pandas>=1.3.0->yfinance) (2.8.2)\n",
      "Requirement already satisfied: idna<4,>=2.5 in /venv/lib/python3.8/site-packages (from requests>=2.26->yfinance) (3.4)\n",
      "Requirement already satisfied: urllib3<1.27,>=1.21.1 in /venv/lib/python3.8/site-packages (from requests>=2.26->yfinance) (1.26.12)\n",
      "Requirement already satisfied: certifi>=2017.4.17 in /venv/lib/python3.8/site-packages (from requests>=2.26->yfinance) (2022.9.24)\n",
      "Requirement already satisfied: charset-normalizer<3,>=2 in /venv/lib/python3.8/site-packages (from requests>=2.26->yfinance) (2.1.1)\n",
      "Requirement already satisfied: pycparser in /venv/lib/python3.8/site-packages (from cffi>=1.12->cryptography>=3.3.2->yfinance) (2.21)\n"
     ]
    }
   ],
   "source": [
    "!sudo /bin/bash -c \"(source /venv/bin/activate; pip install --upgrade pip)\"\n",
    "!sudo /bin/bash -c \"(source /venv/bin/activate; pip install -U yfinance --upgrade --no-cache-dir)\""
   ]
  },
  {
   "cell_type": "code",
   "execution_count": 2,
   "id": "d35d9455",
   "metadata": {
    "ExecuteTime": {
     "end_time": "2023-02-06T01:34:48.291007Z",
     "start_time": "2023-02-06T01:34:47.810031Z"
    }
   },
   "outputs": [],
   "source": [
    "import requests\n",
    "import yfinance as yf"
   ]
  },
  {
   "cell_type": "markdown",
   "id": "0e1fa948",
   "metadata": {},
   "source": [
    "# Examples of the free API endpoints"
   ]
  },
  {
   "cell_type": "markdown",
   "id": "68c5a87a",
   "metadata": {},
   "source": [
    "Yahoo finance API was shutdown in 2017. But there is an available API which is returning historical stock data. From https://news.ycombinator.com/item?id=15617278\n",
    "\n",
    "\n",
    "There is a lib `yfinance` that has access to this API and its code can be used to extract some crypto data. Documentation: https://github.com/ranaroussi/yfinance"
   ]
  },
  {
   "cell_type": "markdown",
   "id": "9e0c941b",
   "metadata": {},
   "source": [
    "## Load data"
   ]
  },
  {
   "cell_type": "markdown",
   "id": "7398d1a5",
   "metadata": {},
   "source": [
    "`yfinance` is a very limited lib, I could not find a way to get available tickers universe.\n",
    "There are many tickers that data is being retrieved for."
   ]
  },
  {
   "cell_type": "code",
   "execution_count": 3,
   "id": "38874c38",
   "metadata": {
    "ExecuteTime": {
     "end_time": "2023-02-06T01:34:48.295784Z",
     "start_time": "2023-02-06T01:34:48.293109Z"
    }
   },
   "outputs": [],
   "source": [
    "universe = [\n",
    "    \"ETH-USD\",\n",
    "    \"BTC-USD\",\n",
    "    \"SAND-USD\",\n",
    "    \"STORJ-USD\",\n",
    "    \"AVAX-USD\",\n",
    "    \"BNB-USD\",\n",
    "    \"APE-USD\",\n",
    "    \"MATIC-USD\",\n",
    "    \"DOT-USD\",\n",
    "    \"UNFI-USD\",\n",
    "    \"LINK-USD\",\n",
    "    \"XRP-USD\",\n",
    "    \"RUNE-USD\",\n",
    "    \"NEAR-USD\",\n",
    "    \"FTM-USD\",\n",
    "    \"AXS-USD\",\n",
    "    \"OGN-USD\",\n",
    "    \"DOGE-USD\",\n",
    "    \"SOL-USD\",\n",
    "]"
   ]
  },
  {
   "cell_type": "markdown",
   "id": "a8f30b7e",
   "metadata": {},
   "source": [
    "`.download()` loads data for the specified tickers.\n",
    "One of the prerequisites is that `period` and `interval` should be in the following ranges, otherwise output is empty:\n",
    "- 1m data is available only for the last 7 days max\n",
    "- 2m/5m/15m/30m data is available only for the last 60 days max\n",
    "- 1h data is available for 730 days max\n",
    "- 1d data is available for the whole period"
   ]
  },
  {
   "cell_type": "code",
   "execution_count": 4,
   "id": "97452e36",
   "metadata": {
    "ExecuteTime": {
     "end_time": "2023-02-06T01:34:49.408031Z",
     "start_time": "2023-02-06T01:34:48.297480Z"
    }
   },
   "outputs": [
    {
     "name": "stdout",
     "output_type": "stream",
     "text": [
      "[*********************100%***********************]  19 of 19 completed\n"
     ]
    },
    {
     "data": {
      "text/html": [
       "<div>\n",
       "<style scoped>\n",
       "    .dataframe tbody tr th:only-of-type {\n",
       "        vertical-align: middle;\n",
       "    }\n",
       "\n",
       "    .dataframe tbody tr th {\n",
       "        vertical-align: top;\n",
       "    }\n",
       "\n",
       "    .dataframe thead tr th {\n",
       "        text-align: left;\n",
       "    }\n",
       "\n",
       "    .dataframe thead tr:last-of-type th {\n",
       "        text-align: right;\n",
       "    }\n",
       "</style>\n",
       "<table border=\"1\" class=\"dataframe\">\n",
       "  <thead>\n",
       "    <tr>\n",
       "      <th></th>\n",
       "      <th colspan=\"10\" halign=\"left\">Adj Close</th>\n",
       "      <th>...</th>\n",
       "      <th colspan=\"10\" halign=\"left\">Volume</th>\n",
       "    </tr>\n",
       "    <tr>\n",
       "      <th></th>\n",
       "      <th>APE-USD</th>\n",
       "      <th>AVAX-USD</th>\n",
       "      <th>AXS-USD</th>\n",
       "      <th>BNB-USD</th>\n",
       "      <th>BTC-USD</th>\n",
       "      <th>DOGE-USD</th>\n",
       "      <th>DOT-USD</th>\n",
       "      <th>ETH-USD</th>\n",
       "      <th>FTM-USD</th>\n",
       "      <th>LINK-USD</th>\n",
       "      <th>...</th>\n",
       "      <th>LINK-USD</th>\n",
       "      <th>MATIC-USD</th>\n",
       "      <th>NEAR-USD</th>\n",
       "      <th>OGN-USD</th>\n",
       "      <th>RUNE-USD</th>\n",
       "      <th>SAND-USD</th>\n",
       "      <th>SOL-USD</th>\n",
       "      <th>STORJ-USD</th>\n",
       "      <th>UNFI-USD</th>\n",
       "      <th>XRP-USD</th>\n",
       "    </tr>\n",
       "    <tr>\n",
       "      <th>Datetime</th>\n",
       "      <th></th>\n",
       "      <th></th>\n",
       "      <th></th>\n",
       "      <th></th>\n",
       "      <th></th>\n",
       "      <th></th>\n",
       "      <th></th>\n",
       "      <th></th>\n",
       "      <th></th>\n",
       "      <th></th>\n",
       "      <th></th>\n",
       "      <th></th>\n",
       "      <th></th>\n",
       "      <th></th>\n",
       "      <th></th>\n",
       "      <th></th>\n",
       "      <th></th>\n",
       "      <th></th>\n",
       "      <th></th>\n",
       "      <th></th>\n",
       "      <th></th>\n",
       "    </tr>\n",
       "  </thead>\n",
       "  <tbody>\n",
       "    <tr>\n",
       "      <th>2023-02-06 01:27:00</th>\n",
       "      <td>0.003893</td>\n",
       "      <td>20.168743</td>\n",
       "      <td>11.041543</td>\n",
       "      <td>328.981354</td>\n",
       "      <td>23025.533203</td>\n",
       "      <td>0.092656</td>\n",
       "      <td>6.751174</td>\n",
       "      <td>1636.794434</td>\n",
       "      <td>0.569763</td>\n",
       "      <td>7.026445</td>\n",
       "      <td>...</td>\n",
       "      <td>20752.0</td>\n",
       "      <td>0.0</td>\n",
       "      <td>0.0</td>\n",
       "      <td>60092.0</td>\n",
       "      <td>4536.0</td>\n",
       "      <td>0.0</td>\n",
       "      <td>63360.0</td>\n",
       "      <td>0.0</td>\n",
       "      <td>8803.0</td>\n",
       "      <td>383552.0</td>\n",
       "    </tr>\n",
       "    <tr>\n",
       "      <th>2023-02-06 01:28:00</th>\n",
       "      <td>NaN</td>\n",
       "      <td>20.160408</td>\n",
       "      <td>11.036974</td>\n",
       "      <td>328.770844</td>\n",
       "      <td>23025.355469</td>\n",
       "      <td>0.092646</td>\n",
       "      <td>6.749564</td>\n",
       "      <td>1636.500366</td>\n",
       "      <td>0.569191</td>\n",
       "      <td>7.023061</td>\n",
       "      <td>...</td>\n",
       "      <td>86272.0</td>\n",
       "      <td>0.0</td>\n",
       "      <td>NaN</td>\n",
       "      <td>NaN</td>\n",
       "      <td>21664.0</td>\n",
       "      <td>0.0</td>\n",
       "      <td>45504.0</td>\n",
       "      <td>82424.0</td>\n",
       "      <td>NaN</td>\n",
       "      <td>353600.0</td>\n",
       "    </tr>\n",
       "    <tr>\n",
       "      <th>2023-02-06 01:29:00</th>\n",
       "      <td>NaN</td>\n",
       "      <td>20.161123</td>\n",
       "      <td>11.036742</td>\n",
       "      <td>328.776886</td>\n",
       "      <td>23025.220703</td>\n",
       "      <td>0.092637</td>\n",
       "      <td>6.749232</td>\n",
       "      <td>1636.451660</td>\n",
       "      <td>0.569121</td>\n",
       "      <td>7.022744</td>\n",
       "      <td>...</td>\n",
       "      <td>0.0</td>\n",
       "      <td>0.0</td>\n",
       "      <td>NaN</td>\n",
       "      <td>NaN</td>\n",
       "      <td>404.0</td>\n",
       "      <td>0.0</td>\n",
       "      <td>0.0</td>\n",
       "      <td>56504.0</td>\n",
       "      <td>NaN</td>\n",
       "      <td>0.0</td>\n",
       "    </tr>\n",
       "    <tr>\n",
       "      <th>2023-02-06 01:30:00</th>\n",
       "      <td>NaN</td>\n",
       "      <td>20.161514</td>\n",
       "      <td>11.035416</td>\n",
       "      <td>328.735352</td>\n",
       "      <td>23024.605469</td>\n",
       "      <td>0.092639</td>\n",
       "      <td>6.749310</td>\n",
       "      <td>1636.339355</td>\n",
       "      <td>0.569061</td>\n",
       "      <td>7.022435</td>\n",
       "      <td>...</td>\n",
       "      <td>27056.0</td>\n",
       "      <td>64128.0</td>\n",
       "      <td>NaN</td>\n",
       "      <td>NaN</td>\n",
       "      <td>0.0</td>\n",
       "      <td>0.0</td>\n",
       "      <td>73536.0</td>\n",
       "      <td>1312.0</td>\n",
       "      <td>NaN</td>\n",
       "      <td>161920.0</td>\n",
       "    </tr>\n",
       "    <tr>\n",
       "      <th>2023-02-06 01:31:00</th>\n",
       "      <td>NaN</td>\n",
       "      <td>20.151398</td>\n",
       "      <td>11.027655</td>\n",
       "      <td>328.592163</td>\n",
       "      <td>23018.425781</td>\n",
       "      <td>0.092620</td>\n",
       "      <td>6.744613</td>\n",
       "      <td>1635.783081</td>\n",
       "      <td>0.568612</td>\n",
       "      <td>7.018980</td>\n",
       "      <td>...</td>\n",
       "      <td>424384.0</td>\n",
       "      <td>192576.0</td>\n",
       "      <td>NaN</td>\n",
       "      <td>NaN</td>\n",
       "      <td>12152.0</td>\n",
       "      <td>0.0</td>\n",
       "      <td>151232.0</td>\n",
       "      <td>8968.0</td>\n",
       "      <td>NaN</td>\n",
       "      <td>21696.0</td>\n",
       "    </tr>\n",
       "  </tbody>\n",
       "</table>\n",
       "<p>5 rows × 114 columns</p>\n",
       "</div>"
      ],
      "text/plain": [
       "                    Adj Close                                                  \\\n",
       "                      APE-USD   AVAX-USD    AXS-USD     BNB-USD       BTC-USD   \n",
       "Datetime                                                                        \n",
       "2023-02-06 01:27:00  0.003893  20.168743  11.041543  328.981354  23025.533203   \n",
       "2023-02-06 01:28:00       NaN  20.160408  11.036974  328.770844  23025.355469   \n",
       "2023-02-06 01:29:00       NaN  20.161123  11.036742  328.776886  23025.220703   \n",
       "2023-02-06 01:30:00       NaN  20.161514  11.035416  328.735352  23024.605469   \n",
       "2023-02-06 01:31:00       NaN  20.151398  11.027655  328.592163  23018.425781   \n",
       "\n",
       "                                                                          ...  \\\n",
       "                     DOGE-USD   DOT-USD      ETH-USD   FTM-USD  LINK-USD  ...   \n",
       "Datetime                                                                  ...   \n",
       "2023-02-06 01:27:00  0.092656  6.751174  1636.794434  0.569763  7.026445  ...   \n",
       "2023-02-06 01:28:00  0.092646  6.749564  1636.500366  0.569191  7.023061  ...   \n",
       "2023-02-06 01:29:00  0.092637  6.749232  1636.451660  0.569121  7.022744  ...   \n",
       "2023-02-06 01:30:00  0.092639  6.749310  1636.339355  0.569061  7.022435  ...   \n",
       "2023-02-06 01:31:00  0.092620  6.744613  1635.783081  0.568612  7.018980  ...   \n",
       "\n",
       "                       Volume                                                \\\n",
       "                     LINK-USD MATIC-USD NEAR-USD  OGN-USD RUNE-USD SAND-USD   \n",
       "Datetime                                                                      \n",
       "2023-02-06 01:27:00   20752.0       0.0      0.0  60092.0   4536.0      0.0   \n",
       "2023-02-06 01:28:00   86272.0       0.0      NaN      NaN  21664.0      0.0   \n",
       "2023-02-06 01:29:00       0.0       0.0      NaN      NaN    404.0      0.0   \n",
       "2023-02-06 01:30:00   27056.0   64128.0      NaN      NaN      0.0      0.0   \n",
       "2023-02-06 01:31:00  424384.0  192576.0      NaN      NaN  12152.0      0.0   \n",
       "\n",
       "                                                            \n",
       "                      SOL-USD STORJ-USD UNFI-USD   XRP-USD  \n",
       "Datetime                                                    \n",
       "2023-02-06 01:27:00   63360.0       0.0   8803.0  383552.0  \n",
       "2023-02-06 01:28:00   45504.0   82424.0      NaN  353600.0  \n",
       "2023-02-06 01:29:00       0.0   56504.0      NaN       0.0  \n",
       "2023-02-06 01:30:00   73536.0    1312.0      NaN  161920.0  \n",
       "2023-02-06 01:31:00  151232.0    8968.0      NaN   21696.0  \n",
       "\n",
       "[5 rows x 114 columns]"
      ]
     },
     "execution_count": 4,
     "metadata": {},
     "output_type": "execute_result"
    }
   ],
   "source": [
    "period = \"7d\"\n",
    "interval = \"1m\"\n",
    "#\n",
    "df_all = yf.download(\n",
    "    tickers=universe,\n",
    "    period=period,\n",
    "    interval=interval,\n",
    "    ignore_tz=True,\n",
    "    prepost=False,\n",
    ")\n",
    "df_all.tail()"
   ]
  },
  {
   "cell_type": "markdown",
   "id": "c3fe9933",
   "metadata": {},
   "source": [
    "The latest data point is 3 min away from the actual run time so data is being updated in real time."
   ]
  },
  {
   "cell_type": "code",
   "execution_count": 5,
   "id": "db7c13eb",
   "metadata": {
    "ExecuteTime": {
     "end_time": "2023-02-06T01:34:49.420348Z",
     "start_time": "2023-02-06T01:34:49.410899Z"
    }
   },
   "outputs": [
    {
     "data": {
      "text/plain": [
       "APE-USD      6903\n",
       "AVAX-USD       63\n",
       "AXS-USD        59\n",
       "BNB-USD        10\n",
       "BTC-USD         1\n",
       "DOGE-USD        1\n",
       "DOT-USD        58\n",
       "ETH-USD         2\n",
       "FTM-USD        61\n",
       "LINK-USD       15\n",
       "MATIC-USD       2\n",
       "NEAR-USD     6903\n",
       "OGN-USD      6903\n",
       "RUNE-USD       62\n",
       "SAND-USD       56\n",
       "SOL-USD        61\n",
       "STORJ-USD       5\n",
       "UNFI-USD     6903\n",
       "XRP-USD         2\n",
       "dtype: int64"
      ]
     },
     "execution_count": 5,
     "metadata": {},
     "output_type": "execute_result"
    }
   ],
   "source": [
    "df_all.isna().sum()[\"Adj Close\"]"
   ]
  },
  {
   "cell_type": "markdown",
   "id": "a8985911",
   "metadata": {},
   "source": [
    "Not all the retrieved tickers have data for 1 minute bar interval, but we have at least 13 full symbols that we can track from Yahoo in real-time."
   ]
  },
  {
   "cell_type": "markdown",
   "id": "07b84ca9",
   "metadata": {},
   "source": [
    "## Other lib methods"
   ]
  },
  {
   "cell_type": "markdown",
   "id": "a2ecacf9",
   "metadata": {},
   "source": [
    "Apart from it `yfinance` can be used to extract ticker metadata and its stats on the ongoing trade parameters in real time."
   ]
  },
  {
   "cell_type": "code",
   "execution_count": 6,
   "id": "7d637d36",
   "metadata": {
    "ExecuteTime": {
     "end_time": "2023-02-06T01:34:49.424353Z",
     "start_time": "2023-02-06T01:34:49.421788Z"
    }
   },
   "outputs": [],
   "source": [
    "ticker = yf.Ticker(\"BTC-USD\")"
   ]
  },
  {
   "cell_type": "code",
   "execution_count": 7,
   "id": "4e132a70",
   "metadata": {
    "ExecuteTime": {
     "end_time": "2023-02-06T01:34:51.008545Z",
     "start_time": "2023-02-06T01:34:49.426274Z"
    }
   },
   "outputs": [
    {
     "data": {
      "text/plain": [
       "{'companyOfficers': [], 'name': 'Bitcoin', 'startDate': 1367107200, 'description': 'Bitcoin (BTC) is a cryptocurrency . Users are able to generate BTC through the process of mining. Bitcoin has a current supply of 19,281,656. The last known price of Bitcoin is 23,315.74658363 USD and is down -0.44 over the last 24 hours. It is currently trading on 9960 active market(s) with $15,799,068,859.33 traded over the last 24 hours. More information can be found at https://bitcoin.org/.', 'maxAge': 1, 'shortName': 'Bitcoin USD', 'longName': 'Bitcoin USD', 'isEsgPopulated': False, 'gmtOffSetMilliseconds': '0', 'quoteType': 'CRYPTOCURRENCY', 'messageBoardId': 'finmb_BTC_CCC', 'market': 'ccc_market', 'trailingAnnualDividendYield': None, 'payoutRatio': None, 'volume24Hr': 19404570624, 'navPrice': None, 'totalAssets': None, 'trailingAnnualDividendRate': None, 'toCurrency': 'USD=X', 'expireDate': None, 'yield': None, 'algorithm': None, 'dividendRate': None, 'exDividendDate': None, 'beta': None, 'circulatingSupply': 19282600, 'priceHint': 2, 'lastMarket': 'CoinMarketCap', 'maxSupply': None, 'openInterest': None, 'volumeAllCurrencies': 19404570624, 'strikePrice': None, 'priceToSalesTrailing12Months': None, 'ask': None, 'ytdReturn': None, 'askSize': None, 'forwardPE': None, 'fromCurrency': 'BTC', 'fiveYearAvgDividendYield': None, 'bid': None, 'tradeable': False, 'dividendYield': None, 'bidSize': None, 'coinMarketCapLink': 'https://coinmarketcap.com/currencies/bitcoin', 'preMarketPrice': None, 'logo_url': 'https://logo.clearbit.com/Bitcoin.com', 'trailingPegRatio': None}"
      ]
     },
     "execution_count": 7,
     "metadata": {},
     "output_type": "execute_result"
    }
   ],
   "source": [
    "ticker.info"
   ]
  },
  {
   "cell_type": "code",
   "execution_count": 8,
   "id": "845570ac",
   "metadata": {
    "ExecuteTime": {
     "end_time": "2023-02-06T01:34:51.014657Z",
     "start_time": "2023-02-06T01:34:51.011342Z"
    }
   },
   "outputs": [
    {
     "data": {
      "text/plain": [
       "lazy-loading dict with keys = ['currency', 'exchange', 'timezone', 'shares', 'market_cap', 'last_price', 'previous_close', 'open', 'day_high', 'day_low', 'regular_market_previous_close', 'last_volume', 'fifty_day_average', 'two_hundred_day_average', 'ten_day_average_volume', 'three_month_average_volume', 'year_high', 'year_low', 'year_change']"
      ]
     },
     "execution_count": 8,
     "metadata": {},
     "output_type": "execute_result"
    }
   ],
   "source": [
    "ticker.fast_info"
   ]
  },
  {
   "cell_type": "code",
   "execution_count": 9,
   "id": "cd67ee59",
   "metadata": {
    "ExecuteTime": {
     "end_time": "2023-02-06T01:34:51.146480Z",
     "start_time": "2023-02-06T01:34:51.016477Z"
    }
   },
   "outputs": [
    {
     "data": {
      "text/plain": [
       "19404570624"
      ]
     },
     "execution_count": 9,
     "metadata": {},
     "output_type": "execute_result"
    }
   ],
   "source": [
    "ticker.fast_info.last_volume"
   ]
  },
  {
   "cell_type": "code",
   "execution_count": 10,
   "id": "22985474",
   "metadata": {
    "ExecuteTime": {
     "end_time": "2023-02-06T01:34:51.269899Z",
     "start_time": "2023-02-06T01:34:51.148533Z"
    }
   },
   "outputs": [
    {
     "data": {
      "text/html": [
       "<div>\n",
       "<style scoped>\n",
       "    .dataframe tbody tr th:only-of-type {\n",
       "        vertical-align: middle;\n",
       "    }\n",
       "\n",
       "    .dataframe tbody tr th {\n",
       "        vertical-align: top;\n",
       "    }\n",
       "\n",
       "    .dataframe thead th {\n",
       "        text-align: right;\n",
       "    }\n",
       "</style>\n",
       "<table border=\"1\" class=\"dataframe\">\n",
       "  <thead>\n",
       "    <tr style=\"text-align: right;\">\n",
       "      <th></th>\n",
       "      <th>Open</th>\n",
       "      <th>High</th>\n",
       "      <th>Low</th>\n",
       "      <th>Close</th>\n",
       "      <th>Volume</th>\n",
       "      <th>Dividends</th>\n",
       "      <th>Stock Splits</th>\n",
       "    </tr>\n",
       "    <tr>\n",
       "      <th>Date</th>\n",
       "      <th></th>\n",
       "      <th></th>\n",
       "      <th></th>\n",
       "      <th></th>\n",
       "      <th></th>\n",
       "      <th></th>\n",
       "      <th></th>\n",
       "    </tr>\n",
       "  </thead>\n",
       "  <tbody>\n",
       "    <tr>\n",
       "      <th>2023-01-31 00:00:00+00:00</th>\n",
       "      <td>22840.796875</td>\n",
       "      <td>23225.021484</td>\n",
       "      <td>22765.568359</td>\n",
       "      <td>23139.283203</td>\n",
       "      <td>22837828665</td>\n",
       "      <td>0.0</td>\n",
       "      <td>0.0</td>\n",
       "    </tr>\n",
       "    <tr>\n",
       "      <th>2023-02-01 00:00:00+00:00</th>\n",
       "      <td>23137.835938</td>\n",
       "      <td>23764.539062</td>\n",
       "      <td>22877.750000</td>\n",
       "      <td>23723.769531</td>\n",
       "      <td>26683255504</td>\n",
       "      <td>0.0</td>\n",
       "      <td>0.0</td>\n",
       "    </tr>\n",
       "    <tr>\n",
       "      <th>2023-02-02 00:00:00+00:00</th>\n",
       "      <td>23720.824219</td>\n",
       "      <td>24167.210938</td>\n",
       "      <td>23468.595703</td>\n",
       "      <td>23471.871094</td>\n",
       "      <td>32066936882</td>\n",
       "      <td>0.0</td>\n",
       "      <td>0.0</td>\n",
       "    </tr>\n",
       "    <tr>\n",
       "      <th>2023-02-03 00:00:00+00:00</th>\n",
       "      <td>23469.412109</td>\n",
       "      <td>23678.103516</td>\n",
       "      <td>23279.955078</td>\n",
       "      <td>23449.322266</td>\n",
       "      <td>27083066007</td>\n",
       "      <td>0.0</td>\n",
       "      <td>0.0</td>\n",
       "    </tr>\n",
       "    <tr>\n",
       "      <th>2023-02-04 00:00:00+00:00</th>\n",
       "      <td>23446.320312</td>\n",
       "      <td>23556.949219</td>\n",
       "      <td>23291.794922</td>\n",
       "      <td>23331.847656</td>\n",
       "      <td>15639298538</td>\n",
       "      <td>0.0</td>\n",
       "      <td>0.0</td>\n",
       "    </tr>\n",
       "    <tr>\n",
       "      <th>2023-02-06 00:00:00+00:00</th>\n",
       "      <td>22959.066406</td>\n",
       "      <td>23078.000000</td>\n",
       "      <td>22959.066406</td>\n",
       "      <td>23013.826172</td>\n",
       "      <td>19404570624</td>\n",
       "      <td>0.0</td>\n",
       "      <td>0.0</td>\n",
       "    </tr>\n",
       "  </tbody>\n",
       "</table>\n",
       "</div>"
      ],
      "text/plain": [
       "                                   Open          High           Low  \\\n",
       "Date                                                                  \n",
       "2023-01-31 00:00:00+00:00  22840.796875  23225.021484  22765.568359   \n",
       "2023-02-01 00:00:00+00:00  23137.835938  23764.539062  22877.750000   \n",
       "2023-02-02 00:00:00+00:00  23720.824219  24167.210938  23468.595703   \n",
       "2023-02-03 00:00:00+00:00  23469.412109  23678.103516  23279.955078   \n",
       "2023-02-04 00:00:00+00:00  23446.320312  23556.949219  23291.794922   \n",
       "2023-02-06 00:00:00+00:00  22959.066406  23078.000000  22959.066406   \n",
       "\n",
       "                                  Close       Volume  Dividends  Stock Splits  \n",
       "Date                                                                           \n",
       "2023-01-31 00:00:00+00:00  23139.283203  22837828665        0.0           0.0  \n",
       "2023-02-01 00:00:00+00:00  23723.769531  26683255504        0.0           0.0  \n",
       "2023-02-02 00:00:00+00:00  23471.871094  32066936882        0.0           0.0  \n",
       "2023-02-03 00:00:00+00:00  23449.322266  27083066007        0.0           0.0  \n",
       "2023-02-04 00:00:00+00:00  23331.847656  15639298538        0.0           0.0  \n",
       "2023-02-06 00:00:00+00:00  23013.826172  19404570624        0.0           0.0  "
      ]
     },
     "metadata": {},
     "output_type": "display_data"
    }
   ],
   "source": [
    "hist = ticker.history(period=\"7d\")\n",
    "display(hist)"
   ]
  },
  {
   "cell_type": "code",
   "execution_count": 11,
   "id": "6c571c35",
   "metadata": {
    "ExecuteTime": {
     "end_time": "2023-02-06T01:34:51.276492Z",
     "start_time": "2023-02-06T01:34:51.272005Z"
    }
   },
   "outputs": [
    {
     "data": {
      "text/plain": [
       "{'currency': 'USD',\n",
       " 'symbol': 'BTC-USD',\n",
       " 'exchangeName': 'CCC',\n",
       " 'instrumentType': 'CRYPTOCURRENCY',\n",
       " 'firstTradeDate': 1410912000,\n",
       " 'regularMarketTime': 1675647120,\n",
       " 'gmtoffset': 0,\n",
       " 'timezone': 'UTC',\n",
       " 'exchangeTimezoneName': 'UTC',\n",
       " 'regularMarketPrice': 23013.826,\n",
       " 'chartPreviousClose': 23139.283,\n",
       " 'priceHint': 2,\n",
       " 'currentTradingPeriod': {'pre': {'timezone': 'UTC',\n",
       "   'start': 1675641600,\n",
       "   'end': 1675641600,\n",
       "   'gmtoffset': 0},\n",
       "  'regular': {'timezone': 'UTC',\n",
       "   'start': 1675641600,\n",
       "   'end': 1675727940,\n",
       "   'gmtoffset': 0},\n",
       "  'post': {'timezone': 'UTC',\n",
       "   'start': 1675727940,\n",
       "   'end': 1675727940,\n",
       "   'gmtoffset': 0}},\n",
       " 'dataGranularity': '1d',\n",
       " 'range': '7d',\n",
       " 'validRanges': ['1d',\n",
       "  '5d',\n",
       "  '1mo',\n",
       "  '3mo',\n",
       "  '6mo',\n",
       "  '1y',\n",
       "  '2y',\n",
       "  '5y',\n",
       "  '10y',\n",
       "  'ytd',\n",
       "  'max']}"
      ]
     },
     "execution_count": 11,
     "metadata": {},
     "output_type": "execute_result"
    }
   ],
   "source": [
    "ticker.history_metadata"
   ]
  },
  {
   "cell_type": "code",
   "execution_count": null,
   "id": "57edcf26",
   "metadata": {},
   "outputs": [],
   "source": []
  }
 ],
 "metadata": {
  "kernelspec": {
   "display_name": "Python 3 (ipykernel)",
   "language": "python",
   "name": "python3"
  },
  "language_info": {
   "codemirror_mode": {
    "name": "ipython",
    "version": 3
   },
   "file_extension": ".py",
   "mimetype": "text/x-python",
   "name": "python",
   "nbconvert_exporter": "python",
   "pygments_lexer": "ipython3",
   "version": "3.8.10"
  },
  "toc": {
   "base_numbering": 1,
   "nav_menu": {},
   "number_sections": true,
   "sideBar": true,
   "skip_h1_title": false,
   "title_cell": "Table of Contents",
   "title_sidebar": "Contents",
   "toc_cell": false,
   "toc_position": {},
   "toc_section_display": true,
   "toc_window_display": false
  }
 },
 "nbformat": 4,
 "nbformat_minor": 5
}
