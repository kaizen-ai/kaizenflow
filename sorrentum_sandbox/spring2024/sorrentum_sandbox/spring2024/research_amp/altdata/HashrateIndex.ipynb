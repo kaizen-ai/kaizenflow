{
 "cells": [
  {
   "cell_type": "markdown",
   "id": "f059e950",
   "metadata": {},
   "source": [
    "# Imports"
   ]
  },
  {
   "cell_type": "code",
   "execution_count": 20,
   "id": "c89e2c66",
   "metadata": {
    "ExecuteTime": {
     "end_time": "2023-02-22T18:33:09.557055Z",
     "start_time": "2023-02-22T18:33:09.554011Z"
    },
    "lines_to_next_cell": 1
   },
   "outputs": [],
   "source": [
    "import os\n",
    "\n",
    "import requests"
   ]
  },
  {
   "cell_type": "markdown",
   "id": "29abe9c1",
   "metadata": {},
   "source": [
    "This repository is not python module, we can't install it, so let's download the code."
   ]
  },
  {
   "cell_type": "code",
   "execution_count": 2,
   "id": "a42b592c",
   "metadata": {
    "ExecuteTime": {
     "end_time": "2023-02-22T18:04:48.811465Z",
     "start_time": "2023-02-22T18:04:48.400936Z"
    },
    "run_control": {
     "marked": false
    }
   },
   "outputs": [],
   "source": [
    "def download_file(link: str):\n",
    "    code = requests.get(link).text\n",
    "    name = link.split(\"/\")[-1]\n",
    "    with open(name, \"w\") as f:\n",
    "        f.write(code)\n",
    "\n",
    "\n",
    "hashrateindex = \"https://raw.githubusercontent.com/LuxorLabs/hashrateindex-api-python-client/master/hashrateindex.py\"\n",
    "resolver = \"https://raw.githubusercontent.com/LuxorLabs/hashrateindex-api-python-client/master/resolvers.py\"\n",
    "\n",
    "download_file(resolver)\n",
    "download_file(hashrateindex)"
   ]
  },
  {
   "cell_type": "code",
   "execution_count": 3,
   "id": "57ec4ec9",
   "metadata": {
    "ExecuteTime": {
     "end_time": "2023-02-22T18:04:49.925781Z",
     "start_time": "2023-02-22T18:04:49.545303Z"
    },
    "run_control": {
     "marked": false
    }
   },
   "outputs": [],
   "source": [
    "from hashrateindex import API\n",
    "from resolvers import RESOLVERS"
   ]
  },
  {
   "cell_type": "markdown",
   "id": "f3d9e725",
   "metadata": {},
   "source": [
    "# Set-up"
   ]
  },
  {
   "cell_type": "code",
   "execution_count": 4,
   "id": "1bc8bea0",
   "metadata": {
    "ExecuteTime": {
     "end_time": "2023-02-22T18:04:51.484570Z",
     "start_time": "2023-02-22T18:04:51.482151Z"
    }
   },
   "outputs": [],
   "source": [
    "key1 = os.environ[\"HASHRATE_KEY\"]"
   ]
  },
  {
   "cell_type": "code",
   "execution_count": 5,
   "id": "ca2bc57f",
   "metadata": {
    "ExecuteTime": {
     "end_time": "2023-02-22T18:04:51.652491Z",
     "start_time": "2023-02-22T18:04:51.649768Z"
    }
   },
   "outputs": [],
   "source": [
    "API = API(host=\"https://api.hashrateindex.com/graphql\", method=\"POST\", key=key)\n",
    "RESOLVERS = RESOLVERS(df=True)"
   ]
  },
  {
   "cell_type": "markdown",
   "id": "37056e12",
   "metadata": {},
   "source": [
    "# Research"
   ]
  },
  {
   "cell_type": "markdown",
   "id": "e6132ff8",
   "metadata": {},
   "source": [
    "`get_hashprice` and `get_asic_price_index` functions take interval and currency as an input in `\"_1_YEAR,BTC\"` string format. The rest of the functions uses only interval parameter. Options of intervals: `_1_DAY`, `_7_DAYS`, `_1_MONTH`, `_3_MONTHS`, `_1_YEAR` and `ALL`"
   ]
  },
  {
   "cell_type": "markdown",
   "id": "300b3616",
   "metadata": {},
   "source": [
    "## Get hashprice"
   ]
  },
  {
   "cell_type": "markdown",
   "id": "03c61b14",
   "metadata": {},
   "source": [
    "Get hashprice for BTC at 7 day intervals."
   ]
  },
  {
   "cell_type": "code",
   "execution_count": 15,
   "id": "ced7381c",
   "metadata": {
    "ExecuteTime": {
     "end_time": "2023-02-22T18:18:57.445350Z",
     "start_time": "2023-02-22T18:18:57.253358Z"
    }
   },
   "outputs": [
    {
     "data": {
      "text/html": [
       "<div>\n",
       "<style scoped>\n",
       "    .dataframe tbody tr th:only-of-type {\n",
       "        vertical-align: middle;\n",
       "    }\n",
       "\n",
       "    .dataframe tbody tr th {\n",
       "        vertical-align: top;\n",
       "    }\n",
       "\n",
       "    .dataframe thead th {\n",
       "        text-align: right;\n",
       "    }\n",
       "</style>\n",
       "<table border=\"1\" class=\"dataframe\">\n",
       "  <thead>\n",
       "    <tr style=\"text-align: right;\">\n",
       "      <th></th>\n",
       "      <th>timestamp</th>\n",
       "      <th>btcHashprice</th>\n",
       "    </tr>\n",
       "  </thead>\n",
       "  <tbody>\n",
       "    <tr>\n",
       "      <th>0</th>\n",
       "      <td>2016-12-26T00:00:00+00:00</td>\n",
       "      <td>0.000820</td>\n",
       "    </tr>\n",
       "    <tr>\n",
       "      <th>1</th>\n",
       "      <td>2017-01-02T00:00:00+00:00</td>\n",
       "      <td>0.000842</td>\n",
       "    </tr>\n",
       "    <tr>\n",
       "      <th>2</th>\n",
       "      <td>2017-01-09T00:00:00+00:00</td>\n",
       "      <td>0.000797</td>\n",
       "    </tr>\n",
       "    <tr>\n",
       "      <th>3</th>\n",
       "      <td>2017-01-16T00:00:00+00:00</td>\n",
       "      <td>0.000782</td>\n",
       "    </tr>\n",
       "    <tr>\n",
       "      <th>4</th>\n",
       "      <td>2017-01-23T00:00:00+00:00</td>\n",
       "      <td>0.000680</td>\n",
       "    </tr>\n",
       "    <tr>\n",
       "      <th>...</th>\n",
       "      <td>...</td>\n",
       "      <td>...</td>\n",
       "    </tr>\n",
       "    <tr>\n",
       "      <th>317</th>\n",
       "      <td>2023-01-23T00:00:00+00:00</td>\n",
       "      <td>0.000003</td>\n",
       "    </tr>\n",
       "    <tr>\n",
       "      <th>318</th>\n",
       "      <td>2023-01-30T00:00:00+00:00</td>\n",
       "      <td>0.000003</td>\n",
       "    </tr>\n",
       "    <tr>\n",
       "      <th>319</th>\n",
       "      <td>2023-02-06T00:00:00+00:00</td>\n",
       "      <td>0.000003</td>\n",
       "    </tr>\n",
       "    <tr>\n",
       "      <th>320</th>\n",
       "      <td>2023-02-13T00:00:00+00:00</td>\n",
       "      <td>0.000003</td>\n",
       "    </tr>\n",
       "    <tr>\n",
       "      <th>321</th>\n",
       "      <td>2023-02-20T00:00:00+00:00</td>\n",
       "      <td>0.000003</td>\n",
       "    </tr>\n",
       "  </tbody>\n",
       "</table>\n",
       "<p>322 rows × 2 columns</p>\n",
       "</div>"
      ],
      "text/plain": [
       "                     timestamp  btcHashprice\n",
       "0    2016-12-26T00:00:00+00:00      0.000820\n",
       "1    2017-01-02T00:00:00+00:00      0.000842\n",
       "2    2017-01-09T00:00:00+00:00      0.000797\n",
       "3    2017-01-16T00:00:00+00:00      0.000782\n",
       "4    2017-01-23T00:00:00+00:00      0.000680\n",
       "..                         ...           ...\n",
       "317  2023-01-23T00:00:00+00:00      0.000003\n",
       "318  2023-01-30T00:00:00+00:00      0.000003\n",
       "319  2023-02-06T00:00:00+00:00      0.000003\n",
       "320  2023-02-13T00:00:00+00:00      0.000003\n",
       "321  2023-02-20T00:00:00+00:00      0.000003\n",
       "\n",
       "[322 rows x 2 columns]"
      ]
     },
     "execution_count": 15,
     "metadata": {},
     "output_type": "execute_result"
    }
   ],
   "source": [
    "function = \"get_hashprice\"\n",
    "params = \"ALL,BTC\"\n",
    "\n",
    "hashprice = API.exec(function, params)\n",
    "\n",
    "RESOLVERS.resolve_get_hashprice(hashprice)"
   ]
  },
  {
   "cell_type": "markdown",
   "id": "fa1e4de6",
   "metadata": {},
   "source": [
    "## Get bitcoin overview"
   ]
  },
  {
   "cell_type": "code",
   "execution_count": 6,
   "id": "e8deb125",
   "metadata": {
    "ExecuteTime": {
     "end_time": "2023-02-22T18:12:09.348661Z",
     "start_time": "2023-02-22T18:12:09.130696Z"
    }
   },
   "outputs": [
    {
     "data": {
      "text/html": [
       "<div>\n",
       "<style scoped>\n",
       "    .dataframe tbody tr th:only-of-type {\n",
       "        vertical-align: middle;\n",
       "    }\n",
       "\n",
       "    .dataframe tbody tr th {\n",
       "        vertical-align: top;\n",
       "    }\n",
       "\n",
       "    .dataframe thead th {\n",
       "        text-align: right;\n",
       "    }\n",
       "</style>\n",
       "<table border=\"1\" class=\"dataframe\">\n",
       "  <thead>\n",
       "    <tr style=\"text-align: right;\">\n",
       "      <th></th>\n",
       "      <th>timestamp</th>\n",
       "      <th>hashpriceUsd</th>\n",
       "      <th>networkHashrate7D</th>\n",
       "      <th>networkDiff</th>\n",
       "      <th>estDiffAdj</th>\n",
       "      <th>coinbaseRewards24H</th>\n",
       "      <th>feesBlocks24H</th>\n",
       "      <th>marketcap</th>\n",
       "      <th>nextHalvingCount</th>\n",
       "      <th>nextHalvingDate</th>\n",
       "      <th>txRateAvg7D</th>\n",
       "    </tr>\n",
       "  </thead>\n",
       "  <tbody>\n",
       "    <tr>\n",
       "      <th>0</th>\n",
       "      <td>2023-02-22T17:58:22+00:00</td>\n",
       "      <td>0.07759126265381355</td>\n",
       "      <td>319968054.20460063</td>\n",
       "      <td>39156400059293</td>\n",
       "      <td>11.11</td>\n",
       "      <td>6.373741211172414</td>\n",
       "      <td>1.9798593787586207</td>\n",
       "      <td>458.2017281835</td>\n",
       "      <td>62174</td>\n",
       "      <td>2024-04-29T00:00:00+00:00</td>\n",
       "      <td>3.386712414016829</td>\n",
       "    </tr>\n",
       "  </tbody>\n",
       "</table>\n",
       "</div>"
      ],
      "text/plain": [
       "                   timestamp         hashpriceUsd   networkHashrate7D  \\\n",
       "0  2023-02-22T17:58:22+00:00  0.07759126265381355  319968054.20460063   \n",
       "\n",
       "      networkDiff estDiffAdj coinbaseRewards24H       feesBlocks24H  \\\n",
       "0  39156400059293      11.11  6.373741211172414  1.9798593787586207   \n",
       "\n",
       "        marketcap  nextHalvingCount            nextHalvingDate  \\\n",
       "0  458.2017281835             62174  2024-04-29T00:00:00+00:00   \n",
       "\n",
       "         txRateAvg7D  \n",
       "0  3.386712414016829  "
      ]
     },
     "execution_count": 6,
     "metadata": {},
     "output_type": "execute_result"
    }
   ],
   "source": [
    "function = \"get_bitcoin_overview\"\n",
    "params = \"\"\n",
    "\n",
    "hashprice = API.exec(function, params)\n",
    "\n",
    "RESOLVERS.resolve_get_bitcoin_overview(hashprice)"
   ]
  },
  {
   "cell_type": "markdown",
   "id": "c360c00e",
   "metadata": {},
   "source": [
    "## Get network hashrate"
   ]
  },
  {
   "cell_type": "code",
   "execution_count": 16,
   "id": "4cd4f16c",
   "metadata": {
    "ExecuteTime": {
     "end_time": "2023-02-22T18:19:10.884639Z",
     "start_time": "2023-02-22T18:19:10.686873Z"
    }
   },
   "outputs": [
    {
     "data": {
      "text/html": [
       "<div>\n",
       "<style scoped>\n",
       "    .dataframe tbody tr th:only-of-type {\n",
       "        vertical-align: middle;\n",
       "    }\n",
       "\n",
       "    .dataframe tbody tr th {\n",
       "        vertical-align: top;\n",
       "    }\n",
       "\n",
       "    .dataframe thead th {\n",
       "        text-align: right;\n",
       "    }\n",
       "</style>\n",
       "<table border=\"1\" class=\"dataframe\">\n",
       "  <thead>\n",
       "    <tr style=\"text-align: right;\">\n",
       "      <th></th>\n",
       "      <th>timestamp</th>\n",
       "      <th>networkHashrate</th>\n",
       "    </tr>\n",
       "  </thead>\n",
       "  <tbody>\n",
       "    <tr>\n",
       "      <th>0</th>\n",
       "      <td>2009-01-05T00:00:00+00:00</td>\n",
       "      <td>1.481473e-12</td>\n",
       "    </tr>\n",
       "    <tr>\n",
       "      <th>1</th>\n",
       "      <td>2009-01-12T00:00:00+00:00</td>\n",
       "      <td>5.653061e-12</td>\n",
       "    </tr>\n",
       "    <tr>\n",
       "      <th>2</th>\n",
       "      <td>2009-01-19T00:00:00+00:00</td>\n",
       "      <td>6.994293e-12</td>\n",
       "    </tr>\n",
       "    <tr>\n",
       "      <th>3</th>\n",
       "      <td>2009-01-26T00:00:00+00:00</td>\n",
       "      <td>5.942978e-12</td>\n",
       "    </tr>\n",
       "    <tr>\n",
       "      <th>4</th>\n",
       "      <td>2009-02-02T00:00:00+00:00</td>\n",
       "      <td>6.332844e-12</td>\n",
       "    </tr>\n",
       "    <tr>\n",
       "      <th>...</th>\n",
       "      <td>...</td>\n",
       "      <td>...</td>\n",
       "    </tr>\n",
       "    <tr>\n",
       "      <th>733</th>\n",
       "      <td>2023-01-23T00:00:00+00:00</td>\n",
       "      <td>2.950359e+02</td>\n",
       "    </tr>\n",
       "    <tr>\n",
       "      <th>734</th>\n",
       "      <td>2023-01-30T00:00:00+00:00</td>\n",
       "      <td>2.735842e+02</td>\n",
       "    </tr>\n",
       "    <tr>\n",
       "      <th>735</th>\n",
       "      <td>2023-02-06T00:00:00+00:00</td>\n",
       "      <td>2.907295e+02</td>\n",
       "    </tr>\n",
       "    <tr>\n",
       "      <th>736</th>\n",
       "      <td>2023-02-13T00:00:00+00:00</td>\n",
       "      <td>3.212036e+02</td>\n",
       "    </tr>\n",
       "    <tr>\n",
       "      <th>737</th>\n",
       "      <td>2023-02-20T00:00:00+00:00</td>\n",
       "      <td>3.008386e+02</td>\n",
       "    </tr>\n",
       "  </tbody>\n",
       "</table>\n",
       "<p>738 rows × 2 columns</p>\n",
       "</div>"
      ],
      "text/plain": [
       "                     timestamp  networkHashrate\n",
       "0    2009-01-05T00:00:00+00:00     1.481473e-12\n",
       "1    2009-01-12T00:00:00+00:00     5.653061e-12\n",
       "2    2009-01-19T00:00:00+00:00     6.994293e-12\n",
       "3    2009-01-26T00:00:00+00:00     5.942978e-12\n",
       "4    2009-02-02T00:00:00+00:00     6.332844e-12\n",
       "..                         ...              ...\n",
       "733  2023-01-23T00:00:00+00:00     2.950359e+02\n",
       "734  2023-01-30T00:00:00+00:00     2.735842e+02\n",
       "735  2023-02-06T00:00:00+00:00     2.907295e+02\n",
       "736  2023-02-13T00:00:00+00:00     3.212036e+02\n",
       "737  2023-02-20T00:00:00+00:00     3.008386e+02\n",
       "\n",
       "[738 rows x 2 columns]"
      ]
     },
     "execution_count": 16,
     "metadata": {},
     "output_type": "execute_result"
    }
   ],
   "source": [
    "function = \"get_network_hashrate\"\n",
    "params = \"ALL\"\n",
    "\n",
    "hashprice = API.exec(function, params)\n",
    "\n",
    "RESOLVERS.resolve_get_network_hashrate(hashprice)"
   ]
  },
  {
   "cell_type": "markdown",
   "id": "53fab7ff",
   "metadata": {},
   "source": [
    "## Get network difficulty"
   ]
  },
  {
   "cell_type": "code",
   "execution_count": 17,
   "id": "e09b9191",
   "metadata": {
    "ExecuteTime": {
     "end_time": "2023-02-22T18:31:07.995594Z",
     "start_time": "2023-02-22T18:31:07.512462Z"
    }
   },
   "outputs": [
    {
     "data": {
      "text/html": [
       "<div>\n",
       "<style scoped>\n",
       "    .dataframe tbody tr th:only-of-type {\n",
       "        vertical-align: middle;\n",
       "    }\n",
       "\n",
       "    .dataframe tbody tr th {\n",
       "        vertical-align: top;\n",
       "    }\n",
       "\n",
       "    .dataframe thead th {\n",
       "        text-align: right;\n",
       "    }\n",
       "</style>\n",
       "<table border=\"1\" class=\"dataframe\">\n",
       "  <thead>\n",
       "    <tr style=\"text-align: right;\">\n",
       "      <th></th>\n",
       "      <th>time</th>\n",
       "      <th>difficulty</th>\n",
       "    </tr>\n",
       "  </thead>\n",
       "  <tbody>\n",
       "    <tr>\n",
       "      <th>0</th>\n",
       "      <td>2010-07-17T01:03:37.892583+00:00</td>\n",
       "      <td>1.810000e-10</td>\n",
       "    </tr>\n",
       "    <tr>\n",
       "      <th>1</th>\n",
       "      <td>2010-07-24T01:03:37.892583+00:00</td>\n",
       "      <td>2.440000e-10</td>\n",
       "    </tr>\n",
       "    <tr>\n",
       "      <th>2</th>\n",
       "      <td>2010-07-31T01:03:37.892583+00:00</td>\n",
       "      <td>3.520000e-10</td>\n",
       "    </tr>\n",
       "    <tr>\n",
       "      <th>3</th>\n",
       "      <td>2010-08-07T01:03:37.892583+00:00</td>\n",
       "      <td>3.520000e-10</td>\n",
       "    </tr>\n",
       "    <tr>\n",
       "      <th>4</th>\n",
       "      <td>2010-08-14T01:03:37.892583+00:00</td>\n",
       "      <td>5.110000e-10</td>\n",
       "    </tr>\n",
       "    <tr>\n",
       "      <th>...</th>\n",
       "      <td>...</td>\n",
       "      <td>...</td>\n",
       "    </tr>\n",
       "    <tr>\n",
       "      <th>653</th>\n",
       "      <td>2023-01-21T01:03:37.892583+00:00</td>\n",
       "      <td>3.759045e+01</td>\n",
       "    </tr>\n",
       "    <tr>\n",
       "      <th>654</th>\n",
       "      <td>2023-01-28T01:03:37.892583+00:00</td>\n",
       "      <td>3.935094e+01</td>\n",
       "    </tr>\n",
       "    <tr>\n",
       "      <th>655</th>\n",
       "      <td>2023-02-04T01:03:37.892583+00:00</td>\n",
       "      <td>3.935094e+01</td>\n",
       "    </tr>\n",
       "    <tr>\n",
       "      <th>656</th>\n",
       "      <td>2023-02-11T01:03:37.892583+00:00</td>\n",
       "      <td>3.935094e+01</td>\n",
       "    </tr>\n",
       "    <tr>\n",
       "      <th>657</th>\n",
       "      <td>2023-02-18T01:03:37.892583+00:00</td>\n",
       "      <td>3.915640e+01</td>\n",
       "    </tr>\n",
       "  </tbody>\n",
       "</table>\n",
       "<p>658 rows × 2 columns</p>\n",
       "</div>"
      ],
      "text/plain": [
       "                                 time    difficulty\n",
       "0    2010-07-17T01:03:37.892583+00:00  1.810000e-10\n",
       "1    2010-07-24T01:03:37.892583+00:00  2.440000e-10\n",
       "2    2010-07-31T01:03:37.892583+00:00  3.520000e-10\n",
       "3    2010-08-07T01:03:37.892583+00:00  3.520000e-10\n",
       "4    2010-08-14T01:03:37.892583+00:00  5.110000e-10\n",
       "..                                ...           ...\n",
       "653  2023-01-21T01:03:37.892583+00:00  3.759045e+01\n",
       "654  2023-01-28T01:03:37.892583+00:00  3.935094e+01\n",
       "655  2023-02-04T01:03:37.892583+00:00  3.935094e+01\n",
       "656  2023-02-11T01:03:37.892583+00:00  3.935094e+01\n",
       "657  2023-02-18T01:03:37.892583+00:00  3.915640e+01\n",
       "\n",
       "[658 rows x 2 columns]"
      ]
     },
     "execution_count": 17,
     "metadata": {},
     "output_type": "execute_result"
    }
   ],
   "source": [
    "function = \"get_network_difficulty\"\n",
    "params = \"ALL\"\n",
    "\n",
    "hashprice = API.exec(function, params)\n",
    "\n",
    "RESOLVERS.resolve_get_network_difficulty(hashprice)"
   ]
  },
  {
   "cell_type": "markdown",
   "id": "cbf621a2",
   "metadata": {},
   "source": [
    "## Get OHLC prices"
   ]
  },
  {
   "cell_type": "code",
   "execution_count": 18,
   "id": "381cbd67",
   "metadata": {
    "ExecuteTime": {
     "end_time": "2023-02-22T18:31:21.697144Z",
     "start_time": "2023-02-22T18:31:21.481845Z"
    }
   },
   "outputs": [
    {
     "data": {
      "text/html": [
       "<div>\n",
       "<style scoped>\n",
       "    .dataframe tbody tr th:only-of-type {\n",
       "        vertical-align: middle;\n",
       "    }\n",
       "\n",
       "    .dataframe tbody tr th {\n",
       "        vertical-align: top;\n",
       "    }\n",
       "\n",
       "    .dataframe thead th {\n",
       "        text-align: right;\n",
       "    }\n",
       "</style>\n",
       "<table border=\"1\" class=\"dataframe\">\n",
       "  <thead>\n",
       "    <tr style=\"text-align: right;\">\n",
       "      <th></th>\n",
       "      <th>timestamp</th>\n",
       "      <th>open</th>\n",
       "      <th>high</th>\n",
       "      <th>low</th>\n",
       "      <th>close</th>\n",
       "    </tr>\n",
       "  </thead>\n",
       "  <tbody>\n",
       "    <tr>\n",
       "      <th>0</th>\n",
       "      <td>2010-07-12T00:00:00+00:00</td>\n",
       "      <td>0.00</td>\n",
       "      <td>0.10</td>\n",
       "      <td>0.10</td>\n",
       "      <td>0.10</td>\n",
       "    </tr>\n",
       "    <tr>\n",
       "      <th>1</th>\n",
       "      <td>2010-07-19T00:00:00+00:00</td>\n",
       "      <td>0.10</td>\n",
       "      <td>0.10</td>\n",
       "      <td>0.10</td>\n",
       "      <td>0.10</td>\n",
       "    </tr>\n",
       "    <tr>\n",
       "      <th>2</th>\n",
       "      <td>2010-07-26T00:00:00+00:00</td>\n",
       "      <td>0.10</td>\n",
       "      <td>0.10</td>\n",
       "      <td>0.10</td>\n",
       "      <td>0.10</td>\n",
       "    </tr>\n",
       "    <tr>\n",
       "      <th>3</th>\n",
       "      <td>2010-08-02T00:00:00+00:00</td>\n",
       "      <td>0.10</td>\n",
       "      <td>0.10</td>\n",
       "      <td>0.10</td>\n",
       "      <td>0.10</td>\n",
       "    </tr>\n",
       "    <tr>\n",
       "      <th>4</th>\n",
       "      <td>2010-08-09T00:00:00+00:00</td>\n",
       "      <td>0.10</td>\n",
       "      <td>0.10</td>\n",
       "      <td>0.10</td>\n",
       "      <td>0.10</td>\n",
       "    </tr>\n",
       "    <tr>\n",
       "      <th>...</th>\n",
       "      <td>...</td>\n",
       "      <td>...</td>\n",
       "      <td>...</td>\n",
       "      <td>...</td>\n",
       "      <td>...</td>\n",
       "    </tr>\n",
       "    <tr>\n",
       "      <th>654</th>\n",
       "      <td>2023-01-23T00:00:00+00:00</td>\n",
       "      <td>22706.02</td>\n",
       "      <td>23960.54</td>\n",
       "      <td>22300.00</td>\n",
       "      <td>23753.18</td>\n",
       "    </tr>\n",
       "    <tr>\n",
       "      <th>655</th>\n",
       "      <td>2023-01-30T00:00:00+00:00</td>\n",
       "      <td>23743.37</td>\n",
       "      <td>24255.00</td>\n",
       "      <td>22500.00</td>\n",
       "      <td>22934.51</td>\n",
       "    </tr>\n",
       "    <tr>\n",
       "      <th>656</th>\n",
       "      <td>2023-02-06T00:00:00+00:00</td>\n",
       "      <td>22932.91</td>\n",
       "      <td>23452.00</td>\n",
       "      <td>21451.00</td>\n",
       "      <td>21785.10</td>\n",
       "    </tr>\n",
       "    <tr>\n",
       "      <th>657</th>\n",
       "      <td>2023-02-13T00:00:00+00:00</td>\n",
       "      <td>21782.37</td>\n",
       "      <td>25250.00</td>\n",
       "      <td>21351.07</td>\n",
       "      <td>24283.18</td>\n",
       "    </tr>\n",
       "    <tr>\n",
       "      <th>658</th>\n",
       "      <td>2023-02-20T00:00:00+00:00</td>\n",
       "      <td>24272.51</td>\n",
       "      <td>25250.00</td>\n",
       "      <td>23840.83</td>\n",
       "      <td>24410.83</td>\n",
       "    </tr>\n",
       "  </tbody>\n",
       "</table>\n",
       "<p>659 rows × 5 columns</p>\n",
       "</div>"
      ],
      "text/plain": [
       "                     timestamp      open      high       low     close\n",
       "0    2010-07-12T00:00:00+00:00      0.00      0.10      0.10      0.10\n",
       "1    2010-07-19T00:00:00+00:00      0.10      0.10      0.10      0.10\n",
       "2    2010-07-26T00:00:00+00:00      0.10      0.10      0.10      0.10\n",
       "3    2010-08-02T00:00:00+00:00      0.10      0.10      0.10      0.10\n",
       "4    2010-08-09T00:00:00+00:00      0.10      0.10      0.10      0.10\n",
       "..                         ...       ...       ...       ...       ...\n",
       "654  2023-01-23T00:00:00+00:00  22706.02  23960.54  22300.00  23753.18\n",
       "655  2023-01-30T00:00:00+00:00  23743.37  24255.00  22500.00  22934.51\n",
       "656  2023-02-06T00:00:00+00:00  22932.91  23452.00  21451.00  21785.10\n",
       "657  2023-02-13T00:00:00+00:00  21782.37  25250.00  21351.07  24283.18\n",
       "658  2023-02-20T00:00:00+00:00  24272.51  25250.00  23840.83  24410.83\n",
       "\n",
       "[659 rows x 5 columns]"
      ]
     },
     "execution_count": 18,
     "metadata": {},
     "output_type": "execute_result"
    }
   ],
   "source": [
    "function = \"get_ohlc_prices\"\n",
    "params = \"ALL\"\n",
    "\n",
    "hashprice = API.exec(function, params)\n",
    "\n",
    "RESOLVERS.resolve_get_ohlc_prices(hashprice)"
   ]
  },
  {
   "cell_type": "markdown",
   "id": "58d3ff2d",
   "metadata": {},
   "source": [
    "## Get asic price index"
   ]
  },
  {
   "cell_type": "code",
   "execution_count": 19,
   "id": "d32cfbac",
   "metadata": {
    "ExecuteTime": {
     "end_time": "2023-02-22T18:31:31.480293Z",
     "start_time": "2023-02-22T18:31:30.659900Z"
    }
   },
   "outputs": [
    {
     "data": {
      "text/html": [
       "<div>\n",
       "<style scoped>\n",
       "    .dataframe tbody tr th:only-of-type {\n",
       "        vertical-align: middle;\n",
       "    }\n",
       "\n",
       "    .dataframe tbody tr th {\n",
       "        vertical-align: top;\n",
       "    }\n",
       "\n",
       "    .dataframe thead th {\n",
       "        text-align: right;\n",
       "    }\n",
       "</style>\n",
       "<table border=\"1\" class=\"dataframe\">\n",
       "  <thead>\n",
       "    <tr style=\"text-align: right;\">\n",
       "      <th></th>\n",
       "      <th>time</th>\n",
       "      <th>under38</th>\n",
       "      <th>_38to68</th>\n",
       "      <th>above68</th>\n",
       "      <th>close</th>\n",
       "    </tr>\n",
       "  </thead>\n",
       "  <tbody>\n",
       "    <tr>\n",
       "      <th>0</th>\n",
       "      <td>2019-12-16T00:00:00+00:00</td>\n",
       "      <td>0.004610</td>\n",
       "      <td>0.003456</td>\n",
       "      <td>0.001899</td>\n",
       "      <td>6891.72</td>\n",
       "    </tr>\n",
       "    <tr>\n",
       "      <th>1</th>\n",
       "      <td>2019-12-17T00:00:00+00:00</td>\n",
       "      <td>0.004610</td>\n",
       "      <td>0.003456</td>\n",
       "      <td>0.001899</td>\n",
       "      <td>6623.82</td>\n",
       "    </tr>\n",
       "    <tr>\n",
       "      <th>2</th>\n",
       "      <td>2019-12-18T00:00:00+00:00</td>\n",
       "      <td>0.004610</td>\n",
       "      <td>0.003456</td>\n",
       "      <td>0.001899</td>\n",
       "      <td>7277.83</td>\n",
       "    </tr>\n",
       "    <tr>\n",
       "      <th>3</th>\n",
       "      <td>2019-12-19T00:00:00+00:00</td>\n",
       "      <td>0.004610</td>\n",
       "      <td>0.003456</td>\n",
       "      <td>0.001899</td>\n",
       "      <td>7150.30</td>\n",
       "    </tr>\n",
       "    <tr>\n",
       "      <th>4</th>\n",
       "      <td>2019-12-20T00:00:00+00:00</td>\n",
       "      <td>0.004610</td>\n",
       "      <td>0.003456</td>\n",
       "      <td>0.001899</td>\n",
       "      <td>7187.83</td>\n",
       "    </tr>\n",
       "    <tr>\n",
       "      <th>...</th>\n",
       "      <td>...</td>\n",
       "      <td>...</td>\n",
       "      <td>...</td>\n",
       "      <td>...</td>\n",
       "      <td>...</td>\n",
       "    </tr>\n",
       "    <tr>\n",
       "      <th>1160</th>\n",
       "      <td>2023-02-18T00:00:00+00:00</td>\n",
       "      <td>0.000655</td>\n",
       "      <td>0.000414</td>\n",
       "      <td>0.000278</td>\n",
       "      <td>24632.00</td>\n",
       "    </tr>\n",
       "    <tr>\n",
       "      <th>1161</th>\n",
       "      <td>2023-02-19T00:00:00+00:00</td>\n",
       "      <td>0.000655</td>\n",
       "      <td>0.000414</td>\n",
       "      <td>0.000278</td>\n",
       "      <td>24283.18</td>\n",
       "    </tr>\n",
       "    <tr>\n",
       "      <th>1162</th>\n",
       "      <td>2023-02-20T00:00:00+00:00</td>\n",
       "      <td>0.000646</td>\n",
       "      <td>0.000430</td>\n",
       "      <td>0.000278</td>\n",
       "      <td>24841.36</td>\n",
       "    </tr>\n",
       "    <tr>\n",
       "      <th>1163</th>\n",
       "      <td>2023-02-21T00:00:00+00:00</td>\n",
       "      <td>0.000646</td>\n",
       "      <td>0.000430</td>\n",
       "      <td>0.000278</td>\n",
       "      <td>24453.14</td>\n",
       "    </tr>\n",
       "    <tr>\n",
       "      <th>1164</th>\n",
       "      <td>2023-02-22T00:00:00+00:00</td>\n",
       "      <td>0.000646</td>\n",
       "      <td>0.000430</td>\n",
       "      <td>0.000278</td>\n",
       "      <td>23825.21</td>\n",
       "    </tr>\n",
       "  </tbody>\n",
       "</table>\n",
       "<p>1165 rows × 5 columns</p>\n",
       "</div>"
      ],
      "text/plain": [
       "                           time   under38   _38to68   above68     close\n",
       "0     2019-12-16T00:00:00+00:00  0.004610  0.003456  0.001899   6891.72\n",
       "1     2019-12-17T00:00:00+00:00  0.004610  0.003456  0.001899   6623.82\n",
       "2     2019-12-18T00:00:00+00:00  0.004610  0.003456  0.001899   7277.83\n",
       "3     2019-12-19T00:00:00+00:00  0.004610  0.003456  0.001899   7150.30\n",
       "4     2019-12-20T00:00:00+00:00  0.004610  0.003456  0.001899   7187.83\n",
       "...                         ...       ...       ...       ...       ...\n",
       "1160  2023-02-18T00:00:00+00:00  0.000655  0.000414  0.000278  24632.00\n",
       "1161  2023-02-19T00:00:00+00:00  0.000655  0.000414  0.000278  24283.18\n",
       "1162  2023-02-20T00:00:00+00:00  0.000646  0.000430  0.000278  24841.36\n",
       "1163  2023-02-21T00:00:00+00:00  0.000646  0.000430  0.000278  24453.14\n",
       "1164  2023-02-22T00:00:00+00:00  0.000646  0.000430  0.000278  23825.21\n",
       "\n",
       "[1165 rows x 5 columns]"
      ]
     },
     "execution_count": 19,
     "metadata": {},
     "output_type": "execute_result"
    }
   ],
   "source": [
    "function = \"get_asic_price_index\"\n",
    "params = \"ALL,BTC\"\n",
    "\n",
    "hashprice = API.exec(function, params)\n",
    "\n",
    "RESOLVERS.resolve_get_asic_price_index(hashprice)"
   ]
  },
  {
   "cell_type": "markdown",
   "id": "fa024dc2",
   "metadata": {},
   "source": [
    "# Remove scripts"
   ]
  },
  {
   "cell_type": "code",
   "execution_count": null,
   "id": "3f956828",
   "metadata": {
    "ExecuteTime": {
     "end_time": "2023-02-22T18:33:45.496045Z",
     "start_time": "2023-02-22T18:33:45.479661Z"
    }
   },
   "outputs": [],
   "source": [
    "os.remove(\"hashrateindex.py\")\n",
    "os.remove(\"resolvers.py\")"
   ]
  }
 ],
 "metadata": {
  "kernelspec": {
   "display_name": "Python 3 (ipykernel)",
   "language": "python",
   "name": "python3"
  },
  "language_info": {
   "codemirror_mode": {
    "name": "ipython",
    "version": 3
   },
   "file_extension": ".py",
   "mimetype": "text/x-python",
   "name": "python",
   "nbconvert_exporter": "python",
   "pygments_lexer": "ipython3",
   "version": "3.8.10"
  },
  "toc": {
   "base_numbering": 1,
   "nav_menu": {},
   "number_sections": true,
   "sideBar": true,
   "skip_h1_title": false,
   "title_cell": "Table of Contents",
   "title_sidebar": "Contents",
   "toc_cell": false,
   "toc_position": {},
   "toc_section_display": true,
   "toc_window_display": false
  }
 },
 "nbformat": 4,
 "nbformat_minor": 5
}
