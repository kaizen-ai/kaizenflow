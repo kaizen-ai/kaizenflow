{
 "cells": [
  {
   "cell_type": "markdown",
   "id": "17670dc9",
   "metadata": {},
   "source": [
    "# Description"
   ]
  },
  {
   "cell_type": "markdown",
   "id": "0279100a",
   "metadata": {},
   "source": [
    " This notebook researches the abilities of GitHub API.\n",
    " https://docs.github.com/en/rest?apiVersion=2022-11-28\n",
    "\n",
    "Obviously, the actual list of github API endpoints is much longer than presented in this notebook.\n",
    "The data from the endpoints presented here are assumed to have the biggest predictive power.\n",
    "\n",
    "Endpoints used in this notebook (using `bitcoin` repo as an example):\n",
    "1) https://api.github.com/repos/bitcoin/bitcoin - common repo info\n",
    "2) https://api.github.com/repos/bitcoin/bitcoin/stats/commit_activity - last yeat of commit activity\n",
    "3) https://api.github.com/repos/bitcoin/bitcoin/stats/code_frequency - historical weekly aggregate of commits\n",
    "4) https://api.github.com/repos/bitcoin/bitcoin/stats/participation - total commits of repo owner vs. non owners\n",
    "5) https://api.github.com/repos/bitcoin/bitcoin/stats/punch_card - hourly commit count for the last week\n",
    "6) https://api.github.com/repos/bitcoin/bitcoin/issues - open issues\n",
    "7) https://api.github.com/search/repositories?q=blockchain - search repos by `blockchain keyword`\n",
    "8) https://api.github.com/rate_limit - search api rate limits"
   ]
  },
  {
   "cell_type": "markdown",
   "id": "9a1b3a04",
   "metadata": {},
   "source": [
    "# Imports"
   ]
  },
  {
   "cell_type": "code",
   "execution_count": 1,
   "id": "9cac1d81",
   "metadata": {
    "ExecuteTime": {
     "end_time": "2022-12-05T12:51:30.712482Z",
     "start_time": "2022-12-05T12:51:28.926534Z"
    }
   },
   "outputs": [],
   "source": [
    "import logging\n",
    "\n",
    "import requests\n",
    "\n",
    "import helpers.hdbg as hdbg\n",
    "import helpers.henv as henv\n",
    "import helpers.hprint as hprint"
   ]
  },
  {
   "cell_type": "code",
   "execution_count": 2,
   "id": "6066116e",
   "metadata": {
    "ExecuteTime": {
     "end_time": "2022-12-05T12:51:36.277355Z",
     "start_time": "2022-12-05T12:51:30.732879Z"
    }
   },
   "outputs": [
    {
     "name": "stdout",
     "output_type": "stream",
     "text": [
      "\u001b[0m\u001b[36mINFO\u001b[0m: > cmd='/venv/lib/python3.8/site-packages/ipykernel_launcher.py -f /home/.local/share/jupyter/runtime/kernel-31e4f1cc-9cfc-464d-88ee-0285b59703a1.json'\n",
      "WARNING: Running in Jupyter\n",
      "INFO  # Git\n",
      "  branch_name='CmTask3220_Add_new_data_sources'\n",
      "  hash='06f369e06'\n",
      "  # Last commits:\n",
      "    * 06f369e06 tamriq   CmTask3220: research github api                                   (60 minutes ago) Mon Dec 5 11:51:30 2022  (HEAD -> CmTask3220_Add_new_data_sources, origin/CmTask3220_Add_new_data_sources)\n",
      "    * 356837ceb tamriq   CmTask3220: research github api                                   (   2 hours ago) Mon Dec 5 11:17:42 2022           \n",
      "    * 97285c9af Juraj Smeriga Change labelling of bar [a, b) to 'b' (#3314)                     (    6 days ago) Tue Nov 29 18:34:09 2022           \n",
      "# Machine info\n",
      "  system=Linux\n",
      "  node name=7f012608dfa4\n",
      "  release=5.15.0-1023-aws\n",
      "  version=#27~20.04.1-Ubuntu SMP Wed Oct 26 20:02:26 UTC 2022\n",
      "  machine=x86_64\n",
      "  processor=x86_64\n",
      "  cpu count=8\n",
      "  cpu freq=scpufreq(current=2499.998, min=0.0, max=0.0)\n",
      "  memory=svmem(total=33292886016, available=31319871488, percent=5.9, used=1516838912, free=22171389952, active=4942921728, inactive=4841431040, buffers=1362911232, cached=8241745920, shared=1511424, slab=1102409728)\n",
      "  disk usage=sdiskusage(total=156052275200, used=21415964672, free=134619533312, percent=13.7)\n",
      "# Packages\n",
      "  python: 3.8.10\n",
      "  cvxopt: 1.3.0\n",
      "  cvxpy: 1.2.2\n",
      "  gluonnlp: ?\n",
      "  gluonts: 0.6.7\n",
      "  joblib: 1.2.0\n",
      "  mxnet: 1.9.1\n",
      "  numpy: 1.23.4\n",
      "  pandas: 1.5.1\n",
      "  pyarrow: 10.0.0\n",
      "  scipy: 1.9.3\n",
      "  seaborn: 0.12.1\n",
      "  sklearn: 1.1.3\n",
      "  statsmodels: 0.13.5\n"
     ]
    }
   ],
   "source": [
    "hdbg.init_logger(verbosity=logging.INFO)\n",
    "\n",
    "_LOG = logging.getLogger(__name__)\n",
    "\n",
    "_LOG.info(\"%s\", henv.get_system_signature()[0])\n",
    "\n",
    "hprint.config_notebook()"
   ]
  },
  {
   "cell_type": "markdown",
   "id": "21d79b69",
   "metadata": {},
   "source": [
    "# Common repository info"
   ]
  },
  {
   "cell_type": "code",
   "execution_count": 4,
   "id": "8a3dfdfe",
   "metadata": {
    "ExecuteTime": {
     "end_time": "2022-12-05T12:51:42.152768Z",
     "start_time": "2022-12-05T12:51:41.812877Z"
    }
   },
   "outputs": [
    {
     "data": {
      "text/plain": [
       "{'id': 1181927,\n",
       " 'node_id': 'MDEwOlJlcG9zaXRvcnkxMTgxOTI3',\n",
       " 'name': 'bitcoin',\n",
       " 'full_name': 'bitcoin/bitcoin',\n",
       " 'private': False,\n",
       " 'owner': {'login': 'bitcoin',\n",
       "  'id': 528860,\n",
       "  'node_id': 'MDEyOk9yZ2FuaXphdGlvbjUyODg2MA==',\n",
       "  'avatar_url': 'https://avatars.githubusercontent.com/u/528860?v=4',\n",
       "  'gravatar_id': '',\n",
       "  'url': 'https://api.github.com/users/bitcoin',\n",
       "  'html_url': 'https://github.com/bitcoin',\n",
       "  'followers_url': 'https://api.github.com/users/bitcoin/followers',\n",
       "  'following_url': 'https://api.github.com/users/bitcoin/following{/other_user}',\n",
       "  'gists_url': 'https://api.github.com/users/bitcoin/gists{/gist_id}',\n",
       "  'starred_url': 'https://api.github.com/users/bitcoin/starred{/owner}{/repo}',\n",
       "  'subscriptions_url': 'https://api.github.com/users/bitcoin/subscriptions',\n",
       "  'organizations_url': 'https://api.github.com/users/bitcoin/orgs',\n",
       "  'repos_url': 'https://api.github.com/users/bitcoin/repos',\n",
       "  'events_url': 'https://api.github.com/users/bitcoin/events{/privacy}',\n",
       "  'received_events_url': 'https://api.github.com/users/bitcoin/received_events',\n",
       "  'type': 'Organization',\n",
       "  'site_admin': False},\n",
       " 'html_url': 'https://github.com/bitcoin/bitcoin',\n",
       " 'description': 'Bitcoin Core integration/staging tree',\n",
       " 'fork': False,\n",
       " 'url': 'https://api.github.com/repos/bitcoin/bitcoin',\n",
       " 'forks_url': 'https://api.github.com/repos/bitcoin/bitcoin/forks',\n",
       " 'keys_url': 'https://api.github.com/repos/bitcoin/bitcoin/keys{/key_id}',\n",
       " 'collaborators_url': 'https://api.github.com/repos/bitcoin/bitcoin/collaborators{/collaborator}',\n",
       " 'teams_url': 'https://api.github.com/repos/bitcoin/bitcoin/teams',\n",
       " 'hooks_url': 'https://api.github.com/repos/bitcoin/bitcoin/hooks',\n",
       " 'issue_events_url': 'https://api.github.com/repos/bitcoin/bitcoin/issues/events{/number}',\n",
       " 'events_url': 'https://api.github.com/repos/bitcoin/bitcoin/events',\n",
       " 'assignees_url': 'https://api.github.com/repos/bitcoin/bitcoin/assignees{/user}',\n",
       " 'branches_url': 'https://api.github.com/repos/bitcoin/bitcoin/branches{/branch}',\n",
       " 'tags_url': 'https://api.github.com/repos/bitcoin/bitcoin/tags',\n",
       " 'blobs_url': 'https://api.github.com/repos/bitcoin/bitcoin/git/blobs{/sha}',\n",
       " 'git_tags_url': 'https://api.github.com/repos/bitcoin/bitcoin/git/tags{/sha}',\n",
       " 'git_refs_url': 'https://api.github.com/repos/bitcoin/bitcoin/git/refs{/sha}',\n",
       " 'trees_url': 'https://api.github.com/repos/bitcoin/bitcoin/git/trees{/sha}',\n",
       " 'statuses_url': 'https://api.github.com/repos/bitcoin/bitcoin/statuses/{sha}',\n",
       " 'languages_url': 'https://api.github.com/repos/bitcoin/bitcoin/languages',\n",
       " 'stargazers_url': 'https://api.github.com/repos/bitcoin/bitcoin/stargazers',\n",
       " 'contributors_url': 'https://api.github.com/repos/bitcoin/bitcoin/contributors',\n",
       " 'subscribers_url': 'https://api.github.com/repos/bitcoin/bitcoin/subscribers',\n",
       " 'subscription_url': 'https://api.github.com/repos/bitcoin/bitcoin/subscription',\n",
       " 'commits_url': 'https://api.github.com/repos/bitcoin/bitcoin/commits{/sha}',\n",
       " 'git_commits_url': 'https://api.github.com/repos/bitcoin/bitcoin/git/commits{/sha}',\n",
       " 'comments_url': 'https://api.github.com/repos/bitcoin/bitcoin/comments{/number}',\n",
       " 'issue_comment_url': 'https://api.github.com/repos/bitcoin/bitcoin/issues/comments{/number}',\n",
       " 'contents_url': 'https://api.github.com/repos/bitcoin/bitcoin/contents/{+path}',\n",
       " 'compare_url': 'https://api.github.com/repos/bitcoin/bitcoin/compare/{base}...{head}',\n",
       " 'merges_url': 'https://api.github.com/repos/bitcoin/bitcoin/merges',\n",
       " 'archive_url': 'https://api.github.com/repos/bitcoin/bitcoin/{archive_format}{/ref}',\n",
       " 'downloads_url': 'https://api.github.com/repos/bitcoin/bitcoin/downloads',\n",
       " 'issues_url': 'https://api.github.com/repos/bitcoin/bitcoin/issues{/number}',\n",
       " 'pulls_url': 'https://api.github.com/repos/bitcoin/bitcoin/pulls{/number}',\n",
       " 'milestones_url': 'https://api.github.com/repos/bitcoin/bitcoin/milestones{/number}',\n",
       " 'notifications_url': 'https://api.github.com/repos/bitcoin/bitcoin/notifications{?since,all,participating}',\n",
       " 'labels_url': 'https://api.github.com/repos/bitcoin/bitcoin/labels{/name}',\n",
       " 'releases_url': 'https://api.github.com/repos/bitcoin/bitcoin/releases{/id}',\n",
       " 'deployments_url': 'https://api.github.com/repos/bitcoin/bitcoin/deployments',\n",
       " 'created_at': '2010-12-19T15:16:43Z',\n",
       " 'updated_at': '2022-12-05T08:08:23Z',\n",
       " 'pushed_at': '2022-12-05T12:13:11Z',\n",
       " 'git_url': 'git://github.com/bitcoin/bitcoin.git',\n",
       " 'ssh_url': 'git@github.com:bitcoin/bitcoin.git',\n",
       " 'clone_url': 'https://github.com/bitcoin/bitcoin.git',\n",
       " 'svn_url': 'https://github.com/bitcoin/bitcoin',\n",
       " 'homepage': 'https://bitcoincore.org/en/download',\n",
       " 'size': 220381,\n",
       " 'stargazers_count': 67250,\n",
       " 'watchers_count': 67250,\n",
       " 'language': 'C++',\n",
       " 'has_issues': True,\n",
       " 'has_projects': True,\n",
       " 'has_downloads': False,\n",
       " 'has_wiki': False,\n",
       " 'has_pages': False,\n",
       " 'has_discussions': False,\n",
       " 'forks_count': 33368,\n",
       " 'mirror_url': None,\n",
       " 'archived': False,\n",
       " 'disabled': False,\n",
       " 'open_issues_count': 804,\n",
       " 'license': {'key': 'mit',\n",
       "  'name': 'MIT License',\n",
       "  'spdx_id': 'MIT',\n",
       "  'url': 'https://api.github.com/licenses/mit',\n",
       "  'node_id': 'MDc6TGljZW5zZTEz'},\n",
       " 'allow_forking': True,\n",
       " 'is_template': False,\n",
       " 'web_commit_signoff_required': False,\n",
       " 'topics': ['bitcoin', 'c-plus-plus', 'cryptocurrency', 'cryptography', 'p2p'],\n",
       " 'visibility': 'public',\n",
       " 'forks': 33368,\n",
       " 'open_issues': 804,\n",
       " 'watchers': 67250,\n",
       " 'default_branch': 'master',\n",
       " 'temp_clone_token': None,\n",
       " 'organization': {'login': 'bitcoin',\n",
       "  'id': 528860,\n",
       "  'node_id': 'MDEyOk9yZ2FuaXphdGlvbjUyODg2MA==',\n",
       "  'avatar_url': 'https://avatars.githubusercontent.com/u/528860?v=4',\n",
       "  'gravatar_id': '',\n",
       "  'url': 'https://api.github.com/users/bitcoin',\n",
       "  'html_url': 'https://github.com/bitcoin',\n",
       "  'followers_url': 'https://api.github.com/users/bitcoin/followers',\n",
       "  'following_url': 'https://api.github.com/users/bitcoin/following{/other_user}',\n",
       "  'gists_url': 'https://api.github.com/users/bitcoin/gists{/gist_id}',\n",
       "  'starred_url': 'https://api.github.com/users/bitcoin/starred{/owner}{/repo}',\n",
       "  'subscriptions_url': 'https://api.github.com/users/bitcoin/subscriptions',\n",
       "  'organizations_url': 'https://api.github.com/users/bitcoin/orgs',\n",
       "  'repos_url': 'https://api.github.com/users/bitcoin/repos',\n",
       "  'events_url': 'https://api.github.com/users/bitcoin/events{/privacy}',\n",
       "  'received_events_url': 'https://api.github.com/users/bitcoin/received_events',\n",
       "  'type': 'Organization',\n",
       "  'site_admin': False},\n",
       " 'network_count': 33368,\n",
       " 'subscribers_count': 3935}"
      ]
     },
     "metadata": {},
     "output_type": "display_data"
    }
   ],
   "source": [
    "common = requests.get(\"https://api.github.com/repos/bitcoin/bitcoin\").json()\n",
    "display(common)"
   ]
  },
  {
   "cell_type": "markdown",
   "id": "936c7d3a",
   "metadata": {},
   "source": [
    "# Stars"
   ]
  },
  {
   "cell_type": "markdown",
   "id": "f25f09b9",
   "metadata": {},
   "source": [
    "Get the current number of stars for the repository."
   ]
  },
  {
   "cell_type": "code",
   "execution_count": 5,
   "id": "9b678daf",
   "metadata": {
    "ExecuteTime": {
     "end_time": "2022-12-05T12:51:56.514884Z",
     "start_time": "2022-12-05T12:51:56.494459Z"
    },
    "run_control": {
     "marked": false
    }
   },
   "outputs": [
    {
     "data": {
      "text/plain": [
       "67250"
      ]
     },
     "metadata": {},
     "output_type": "display_data"
    }
   ],
   "source": [
    "display(common[\"stargazers_count\"])"
   ]
  },
  {
   "cell_type": "markdown",
   "id": "2dcfe9a3",
   "metadata": {},
   "source": [
    "# Commits"
   ]
  },
  {
   "cell_type": "markdown",
   "id": "4e7ddb38",
   "metadata": {},
   "source": [
    "## /commit_activity"
   ]
  },
  {
   "cell_type": "markdown",
   "id": "30bd599a",
   "metadata": {
    "ExecuteTime": {
     "end_time": "2022-11-30T12:54:37.225141Z",
     "start_time": "2022-11-30T12:54:37.221280Z"
    }
   },
   "source": [
    "Returns the last year of commit activity grouped by week. The days array is a group of commits per day, starting on Sunday.\n",
    "\n"
   ]
  },
  {
   "cell_type": "code",
   "execution_count": 6,
   "id": "180ea78e",
   "metadata": {
    "ExecuteTime": {
     "end_time": "2022-12-05T12:52:01.859558Z",
     "start_time": "2022-12-05T12:52:01.557697Z"
    }
   },
   "outputs": [],
   "source": [
    "commits_yearly = requests.get(\n",
    "    \"https://api.github.com/repos/bitcoin/bitcoin/stats/commit_activity\"\n",
    ").json()"
   ]
  },
  {
   "cell_type": "markdown",
   "id": "9add9c4e",
   "metadata": {},
   "source": [
    "E.g. in the array [8, 11, 10, 25, 5, 13, 2] 8 is the number of commits for Sun, 11 - for Monday, 10 - for Tuesday, 25 - for Wednesday, 5 - for Thursday, 13 - for Friday and 2 - for Saturday"
   ]
  },
  {
   "cell_type": "code",
   "execution_count": 7,
   "id": "7f5a18bb",
   "metadata": {
    "ExecuteTime": {
     "end_time": "2022-12-05T12:52:08.944382Z",
     "start_time": "2022-12-05T12:52:08.928517Z"
    }
   },
   "outputs": [
    {
     "data": {
      "text/plain": [
       "[{'total': 66, 'week': 1639267200, 'days': [8, 13, 17, 9, 7, 7, 5]},\n",
       " {'total': 42, 'week': 1639872000, 'days': [4, 1, 8, 13, 6, 7, 3]},\n",
       " {'total': 20, 'week': 1640476800, 'days': [1, 7, 1, 1, 5, 3, 2]},\n",
       " {'total': 55, 'week': 1641081600, 'days': [11, 11, 7, 12, 9, 5, 0]},\n",
       " {'total': 55, 'week': 1641686400, 'days': [0, 7, 17, 8, 8, 10, 5]}]"
      ]
     },
     "metadata": {},
     "output_type": "display_data"
    }
   ],
   "source": [
    "display(commits_yearly[:5])"
   ]
  },
  {
   "cell_type": "markdown",
   "id": "79d5adfa",
   "metadata": {},
   "source": [
    "## /code_frequency"
   ]
  },
  {
   "cell_type": "markdown",
   "id": "25387dd6",
   "metadata": {},
   "source": [
    "Returns a historical weekly aggregate of the number of additions and deletions pushed to a repository."
   ]
  },
  {
   "cell_type": "code",
   "execution_count": 9,
   "id": "29e87c49",
   "metadata": {
    "ExecuteTime": {
     "end_time": "2022-12-05T12:52:34.818359Z",
     "start_time": "2022-12-05T12:52:34.509552Z"
    }
   },
   "outputs": [],
   "source": [
    "all_commits_weekly_aggregated = requests.get(\n",
    "    \"https://api.github.com/repos/bitcoin/bitcoin/stats/code_frequency\"\n",
    ").json()"
   ]
  },
  {
   "cell_type": "code",
   "execution_count": 12,
   "id": "23f65c33",
   "metadata": {
    "ExecuteTime": {
     "end_time": "2022-12-05T12:53:03.967560Z",
     "start_time": "2022-12-05T12:53:03.941641Z"
    },
    "scrolled": true
   },
   "outputs": [
    {
     "name": "stdout",
     "output_type": "stream",
     "text": [
      "First five weeks:\n"
     ]
    },
    {
     "data": {
      "text/plain": [
       "[[1251590400, 64482, 0],\n",
       " [1252195200, 0, 0],\n",
       " [1252800000, 0, 0],\n",
       " [1253404800, 6724, -4890],\n",
       " [1254009600, 396, -50]]"
      ]
     },
     "metadata": {},
     "output_type": "display_data"
    },
    {
     "name": "stdout",
     "output_type": "stream",
     "text": [
      "Last five weeks:\n"
     ]
    },
    {
     "data": {
      "text/plain": [
       "[[1667692800, 1320, -1055],\n",
       " [1668297600, 1015, -317],\n",
       " [1668902400, 563, -453],\n",
       " [1669507200, 108, -72],\n",
       " [1670112000, 0, 0]]"
      ]
     },
     "metadata": {},
     "output_type": "display_data"
    }
   ],
   "source": [
    "# First date Sun Aug 30 2009 00:00:00 GMT+0000, but common info says that repository was created on '2010-12-19T15:16:43Z'\n",
    "# How is it possible?\n",
    "print(\"First five weeks:\")\n",
    "display(all_commits_weekly_aggregated[:5])\n",
    "print(\"Last five weeks:\")\n",
    "display(all_commits_weekly_aggregated[-5:])"
   ]
  },
  {
   "cell_type": "markdown",
   "id": "a843fa69",
   "metadata": {},
   "source": [
    "## /participation"
   ]
  },
  {
   "cell_type": "markdown",
   "id": "f409fc67",
   "metadata": {},
   "source": [
    "Returns the total commit counts for the owner and total commit counts in all. all is everyone combined, including the owner in the last 52 weeks. If you'd like to get the commit counts for non-owners, you can subtract owner from all.\n",
    "\n",
    "The array order is oldest week (index 0) to most recent week."
   ]
  },
  {
   "cell_type": "code",
   "execution_count": 13,
   "id": "68be17f9",
   "metadata": {
    "ExecuteTime": {
     "end_time": "2022-12-05T12:53:21.174851Z",
     "start_time": "2022-12-05T12:53:20.795498Z"
    }
   },
   "outputs": [
    {
     "data": {
      "text/plain": [
       "{'all': [133,\n",
       "  103,\n",
       "  58,\n",
       "  51,\n",
       "  86,\n",
       "  71,\n",
       "  86,\n",
       "  89,\n",
       "  94,\n",
       "  97,\n",
       "  109,\n",
       "  88,\n",
       "  55,\n",
       "  97,\n",
       "  91,\n",
       "  117,\n",
       "  90,\n",
       "  129,\n",
       "  96,\n",
       "  98,\n",
       "  115,\n",
       "  64,\n",
       "  62,\n",
       "  103,\n",
       "  77,\n",
       "  62,\n",
       "  81,\n",
       "  71,\n",
       "  89,\n",
       "  102,\n",
       "  60,\n",
       "  78,\n",
       "  93,\n",
       "  73,\n",
       "  53,\n",
       "  69,\n",
       "  64,\n",
       "  50,\n",
       "  56,\n",
       "  49,\n",
       "  71,\n",
       "  54,\n",
       "  41,\n",
       "  62,\n",
       "  51,\n",
       "  41,\n",
       "  50,\n",
       "  27,\n",
       "  15,\n",
       "  33,\n",
       "  26,\n",
       "  39],\n",
       " 'owner': [0,\n",
       "  0,\n",
       "  0,\n",
       "  0,\n",
       "  0,\n",
       "  0,\n",
       "  0,\n",
       "  0,\n",
       "  0,\n",
       "  0,\n",
       "  0,\n",
       "  0,\n",
       "  0,\n",
       "  0,\n",
       "  0,\n",
       "  0,\n",
       "  0,\n",
       "  0,\n",
       "  0,\n",
       "  0,\n",
       "  0,\n",
       "  0,\n",
       "  0,\n",
       "  0,\n",
       "  0,\n",
       "  0,\n",
       "  0,\n",
       "  0,\n",
       "  0,\n",
       "  0,\n",
       "  0,\n",
       "  0,\n",
       "  0,\n",
       "  0,\n",
       "  0,\n",
       "  0,\n",
       "  0,\n",
       "  0,\n",
       "  0,\n",
       "  0,\n",
       "  0,\n",
       "  0,\n",
       "  0,\n",
       "  0,\n",
       "  0,\n",
       "  0,\n",
       "  0,\n",
       "  0,\n",
       "  0,\n",
       "  0,\n",
       "  0,\n",
       "  0]}"
      ]
     },
     "metadata": {},
     "output_type": "display_data"
    }
   ],
   "source": [
    "total_commits = requests.get(\n",
    "    \"https://api.github.com/repos/bitcoin/bitcoin/stats/participation\"\n",
    ").json()\n",
    "display(total_commits)"
   ]
  },
  {
   "cell_type": "markdown",
   "id": "84dad06f",
   "metadata": {},
   "source": [
    "## /punch_card"
   ]
  },
  {
   "cell_type": "markdown",
   "id": "993c3d96",
   "metadata": {},
   "source": [
    "Get the hourly commit count for each day of the last week.\n"
   ]
  },
  {
   "cell_type": "markdown",
   "id": "7e2bcbfa",
   "metadata": {},
   "source": [
    "Each array contains the day number, hour number, and number of commits:\n",
    "\n",
    "0-6: Sunday - Saturday\n",
    "0-23: Hour of day\n",
    "Number of commits\n",
    "For example, [2, 14, 25] indicates that there were 25 total commits, during the 2:00pm hour on Tuesdays. All times are based on the time zone of individual commits."
   ]
  },
  {
   "cell_type": "code",
   "execution_count": 14,
   "id": "a3688d66",
   "metadata": {
    "ExecuteTime": {
     "end_time": "2022-12-05T12:53:43.414629Z",
     "start_time": "2022-12-05T12:53:42.491021Z"
    }
   },
   "outputs": [
    {
     "data": {
      "text/plain": [
       "[[0, 0, 48],\n",
       " [0, 1, 40],\n",
       " [0, 2, 41],\n",
       " [0, 3, 9],\n",
       " [0, 4, 16],\n",
       " [0, 5, 12],\n",
       " [0, 6, 12],\n",
       " [0, 7, 9],\n",
       " [0, 8, 22],\n",
       " [0, 9, 46],\n",
       " [0, 10, 79],\n",
       " [0, 11, 98],\n",
       " [0, 12, 90],\n",
       " [0, 13, 84],\n",
       " [0, 14, 98],\n",
       " [0, 15, 99],\n",
       " [0, 16, 93],\n",
       " [0, 17, 104],\n",
       " [0, 18, 101],\n",
       " [0, 19, 81],\n",
       " [0, 20, 90],\n",
       " [0, 21, 94],\n",
       " [0, 22, 80],\n",
       " [0, 23, 72],\n",
       " [1, 0, 59],\n",
       " [1, 1, 43],\n",
       " [1, 2, 28],\n",
       " [1, 3, 20],\n",
       " [1, 4, 12],\n",
       " [1, 5, 13],\n",
       " [1, 6, 6],\n",
       " [1, 7, 20],\n",
       " [1, 8, 58],\n",
       " [1, 9, 161],\n",
       " [1, 10, 179],\n",
       " [1, 11, 223],\n",
       " [1, 12, 202],\n",
       " [1, 13, 231],\n",
       " [1, 14, 344],\n",
       " [1, 15, 331],\n",
       " [1, 16, 301],\n",
       " [1, 17, 217],\n",
       " [1, 18, 189],\n",
       " [1, 19, 154],\n",
       " [1, 20, 135],\n",
       " [1, 21, 126],\n",
       " [1, 22, 106],\n",
       " [1, 23, 92],\n",
       " [2, 0, 80],\n",
       " [2, 1, 40],\n",
       " [2, 2, 34],\n",
       " [2, 3, 18],\n",
       " [2, 4, 16],\n",
       " [2, 5, 9],\n",
       " [2, 6, 20],\n",
       " [2, 7, 53],\n",
       " [2, 8, 68],\n",
       " [2, 9, 177],\n",
       " [2, 10, 232],\n",
       " [2, 11, 254],\n",
       " [2, 12, 245],\n",
       " [2, 13, 273],\n",
       " [2, 14, 298],\n",
       " [2, 15, 369],\n",
       " [2, 16, 289],\n",
       " [2, 17, 305],\n",
       " [2, 18, 196],\n",
       " [2, 19, 177],\n",
       " [2, 20, 159],\n",
       " [2, 21, 150],\n",
       " [2, 22, 117],\n",
       " [2, 23, 88],\n",
       " [3, 0, 59],\n",
       " [3, 1, 49],\n",
       " [3, 2, 21],\n",
       " [3, 3, 24],\n",
       " [3, 4, 12],\n",
       " [3, 5, 13],\n",
       " [3, 6, 10],\n",
       " [3, 7, 36],\n",
       " [3, 8, 90],\n",
       " [3, 9, 195],\n",
       " [3, 10, 214],\n",
       " [3, 11, 275],\n",
       " [3, 12, 224],\n",
       " [3, 13, 277],\n",
       " [3, 14, 292],\n",
       " [3, 15, 302],\n",
       " [3, 16, 343],\n",
       " [3, 17, 260],\n",
       " [3, 18, 205],\n",
       " [3, 19, 147],\n",
       " [3, 20, 133],\n",
       " [3, 21, 122],\n",
       " [3, 22, 109],\n",
       " [3, 23, 79],\n",
       " [4, 0, 83],\n",
       " [4, 1, 48],\n",
       " [4, 2, 36],\n",
       " [4, 3, 25],\n",
       " [4, 4, 12],\n",
       " [4, 5, 22],\n",
       " [4, 6, 25],\n",
       " [4, 7, 48],\n",
       " [4, 8, 80],\n",
       " [4, 9, 163],\n",
       " [4, 10, 207],\n",
       " [4, 11, 245],\n",
       " [4, 12, 220],\n",
       " [4, 13, 289],\n",
       " [4, 14, 308],\n",
       " [4, 15, 272],\n",
       " [4, 16, 278],\n",
       " [4, 17, 215],\n",
       " [4, 18, 208],\n",
       " [4, 19, 140],\n",
       " [4, 20, 143],\n",
       " [4, 21, 110],\n",
       " [4, 22, 107],\n",
       " [4, 23, 85],\n",
       " [5, 0, 71],\n",
       " [5, 1, 55],\n",
       " [5, 2, 41],\n",
       " [5, 3, 19],\n",
       " [5, 4, 14],\n",
       " [5, 5, 17],\n",
       " [5, 6, 20],\n",
       " [5, 7, 33],\n",
       " [5, 8, 83],\n",
       " [5, 9, 141],\n",
       " [5, 10, 210],\n",
       " [5, 11, 221],\n",
       " [5, 12, 241],\n",
       " [5, 13, 247],\n",
       " [5, 14, 293],\n",
       " [5, 15, 277],\n",
       " [5, 16, 263],\n",
       " [5, 17, 211],\n",
       " [5, 18, 182],\n",
       " [5, 19, 119],\n",
       " [5, 20, 96],\n",
       " [5, 21, 80],\n",
       " [5, 22, 81],\n",
       " [5, 23, 73],\n",
       " [6, 0, 55],\n",
       " [6, 1, 40],\n",
       " [6, 2, 41],\n",
       " [6, 3, 15],\n",
       " [6, 4, 23],\n",
       " [6, 5, 22],\n",
       " [6, 6, 14],\n",
       " [6, 7, 27],\n",
       " [6, 8, 42],\n",
       " [6, 9, 63],\n",
       " [6, 10, 98],\n",
       " [6, 11, 99],\n",
       " [6, 12, 110],\n",
       " [6, 13, 96],\n",
       " [6, 14, 99],\n",
       " [6, 15, 106],\n",
       " [6, 16, 99],\n",
       " [6, 17, 88],\n",
       " [6, 18, 103],\n",
       " [6, 19, 82],\n",
       " [6, 20, 97],\n",
       " [6, 21, 81],\n",
       " [6, 22, 60],\n",
       " [6, 23, 57]]"
      ]
     },
     "metadata": {},
     "output_type": "display_data"
    }
   ],
   "source": [
    "hourly_commits = requests.get(\n",
    "    \"https://api.github.com/repos/bitcoin/bitcoin/stats/punch_card\"\n",
    ").json()\n",
    "display(hourly_commits)"
   ]
  },
  {
   "cell_type": "markdown",
   "id": "857aa054",
   "metadata": {},
   "source": [
    "# ISSUES"
   ]
  },
  {
   "cell_type": "markdown",
   "id": "e55cf84b",
   "metadata": {},
   "source": [
    "List issues in a repository. Only open issues will be listed.\n",
    "\n",
    "Note: GitHub's REST API considers every pull request an issue, but not every issue is a pull request. For this reason, \"Issues\" endpoints may return both issues and pull requests in the response. You can identify pull requests by the pull_request key. Be aware that the id of a pull request returned from \"Issues\" endpoints will be an issue id. To find out the pull request id, use the \"List pull requests\" endpoint."
   ]
  },
  {
   "cell_type": "code",
   "execution_count": 15,
   "id": "6511e73c",
   "metadata": {
    "ExecuteTime": {
     "end_time": "2022-12-05T12:53:49.285605Z",
     "start_time": "2022-12-05T12:53:48.753796Z"
    }
   },
   "outputs": [],
   "source": [
    "issues = requests.get(\n",
    "    \"https://api.github.com/repos/bitcoin/bitcoin/issues\"\n",
    ").json()"
   ]
  },
  {
   "cell_type": "code",
   "execution_count": 16,
   "id": "8f8d693b",
   "metadata": {
    "ExecuteTime": {
     "end_time": "2022-12-05T12:53:56.019251Z",
     "start_time": "2022-12-05T12:53:56.005493Z"
    }
   },
   "outputs": [
    {
     "data": {
      "text/plain": [
       "30"
      ]
     },
     "metadata": {},
     "output_type": "display_data"
    }
   ],
   "source": [
    "display(len(issues))"
   ]
  },
  {
   "cell_type": "markdown",
   "id": "0d24db35",
   "metadata": {},
   "source": [
    "# Search"
   ]
  },
  {
   "cell_type": "markdown",
   "id": "0a6bec74",
   "metadata": {},
   "source": [
    "The Search API has a custom rate limit. For requests using Basic Authentication, OAuth, or client ID and secret, you can make up to 30 requests per minute. For unauthenticated requests, the rate limit allows you to make up to 10 requests per minute."
   ]
  },
  {
   "cell_type": "markdown",
   "id": "86af38be",
   "metadata": {},
   "source": [
    "## Repositories"
   ]
  },
  {
   "cell_type": "markdown",
   "id": "1bf4d406",
   "metadata": {},
   "source": [
    "The search can be performed not only on repositories, we also can search:\n",
    "1) Code `https://api.github.com/search/code?q=Q`\n",
    "2) By label in the specific repo `https://api.github.com/search/labels?repository_id=REPOSITORY_ID&q=Q`\n",
    "3) Issues and PRs `https://api.github.com/search/issues?q=Q`\n",
    "4) Commits `https://api.github.com/search/commits?q=Q`\n",
    "5) Users `https://api.github.com/search/users?q=Q`\n",
    "6) Topics `https://api.github.com/search/topics?q=Q`"
   ]
  },
  {
   "cell_type": "code",
   "execution_count": 18,
   "id": "bf489aa1",
   "metadata": {
    "ExecuteTime": {
     "end_time": "2022-12-05T12:54:16.506745Z",
     "start_time": "2022-12-05T12:54:15.458101Z"
    }
   },
   "outputs": [
    {
     "data": {
      "text/plain": [
       "152676"
      ]
     },
     "metadata": {},
     "output_type": "display_data"
    }
   ],
   "source": [
    "query = \"blockchain\"\n",
    "search_repos = requests.get(\n",
    "    f\"https://api.github.com/search/repositories?q={query}\"\n",
    ").json()\n",
    "display(search_repos[\"total_count\"])"
   ]
  },
  {
   "cell_type": "code",
   "execution_count": 19,
   "id": "82bec430",
   "metadata": {
    "ExecuteTime": {
     "end_time": "2022-12-05T12:54:25.912232Z",
     "start_time": "2022-12-05T12:54:25.881168Z"
    },
    "scrolled": false
   },
   "outputs": [
    {
     "data": {
      "text/plain": [
       "[{'id': 104670977,\n",
       "  'node_id': 'MDEwOlJlcG9zaXRvcnkxMDQ2NzA5Nzc=',\n",
       "  'name': 'blockchain',\n",
       "  'full_name': 'dvf/blockchain',\n",
       "  'private': False,\n",
       "  'owner': {'login': 'dvf',\n",
       "   'id': 1169974,\n",
       "   'node_id': 'MDQ6VXNlcjExNjk5NzQ=',\n",
       "   'avatar_url': 'https://avatars.githubusercontent.com/u/1169974?v=4',\n",
       "   'gravatar_id': '',\n",
       "   'url': 'https://api.github.com/users/dvf',\n",
       "   'html_url': 'https://github.com/dvf',\n",
       "   'followers_url': 'https://api.github.com/users/dvf/followers',\n",
       "   'following_url': 'https://api.github.com/users/dvf/following{/other_user}',\n",
       "   'gists_url': 'https://api.github.com/users/dvf/gists{/gist_id}',\n",
       "   'starred_url': 'https://api.github.com/users/dvf/starred{/owner}{/repo}',\n",
       "   'subscriptions_url': 'https://api.github.com/users/dvf/subscriptions',\n",
       "   'organizations_url': 'https://api.github.com/users/dvf/orgs',\n",
       "   'repos_url': 'https://api.github.com/users/dvf/repos',\n",
       "   'events_url': 'https://api.github.com/users/dvf/events{/privacy}',\n",
       "   'received_events_url': 'https://api.github.com/users/dvf/received_events',\n",
       "   'type': 'User',\n",
       "   'site_admin': False},\n",
       "  'html_url': 'https://github.com/dvf/blockchain',\n",
       "  'description': 'A simple Blockchain in Python',\n",
       "  'fork': False,\n",
       "  'url': 'https://api.github.com/repos/dvf/blockchain',\n",
       "  'forks_url': 'https://api.github.com/repos/dvf/blockchain/forks',\n",
       "  'keys_url': 'https://api.github.com/repos/dvf/blockchain/keys{/key_id}',\n",
       "  'collaborators_url': 'https://api.github.com/repos/dvf/blockchain/collaborators{/collaborator}',\n",
       "  'teams_url': 'https://api.github.com/repos/dvf/blockchain/teams',\n",
       "  'hooks_url': 'https://api.github.com/repos/dvf/blockchain/hooks',\n",
       "  'issue_events_url': 'https://api.github.com/repos/dvf/blockchain/issues/events{/number}',\n",
       "  'events_url': 'https://api.github.com/repos/dvf/blockchain/events',\n",
       "  'assignees_url': 'https://api.github.com/repos/dvf/blockchain/assignees{/user}',\n",
       "  'branches_url': 'https://api.github.com/repos/dvf/blockchain/branches{/branch}',\n",
       "  'tags_url': 'https://api.github.com/repos/dvf/blockchain/tags',\n",
       "  'blobs_url': 'https://api.github.com/repos/dvf/blockchain/git/blobs{/sha}',\n",
       "  'git_tags_url': 'https://api.github.com/repos/dvf/blockchain/git/tags{/sha}',\n",
       "  'git_refs_url': 'https://api.github.com/repos/dvf/blockchain/git/refs{/sha}',\n",
       "  'trees_url': 'https://api.github.com/repos/dvf/blockchain/git/trees{/sha}',\n",
       "  'statuses_url': 'https://api.github.com/repos/dvf/blockchain/statuses/{sha}',\n",
       "  'languages_url': 'https://api.github.com/repos/dvf/blockchain/languages',\n",
       "  'stargazers_url': 'https://api.github.com/repos/dvf/blockchain/stargazers',\n",
       "  'contributors_url': 'https://api.github.com/repos/dvf/blockchain/contributors',\n",
       "  'subscribers_url': 'https://api.github.com/repos/dvf/blockchain/subscribers',\n",
       "  'subscription_url': 'https://api.github.com/repos/dvf/blockchain/subscription',\n",
       "  'commits_url': 'https://api.github.com/repos/dvf/blockchain/commits{/sha}',\n",
       "  'git_commits_url': 'https://api.github.com/repos/dvf/blockchain/git/commits{/sha}',\n",
       "  'comments_url': 'https://api.github.com/repos/dvf/blockchain/comments{/number}',\n",
       "  'issue_comment_url': 'https://api.github.com/repos/dvf/blockchain/issues/comments{/number}',\n",
       "  'contents_url': 'https://api.github.com/repos/dvf/blockchain/contents/{+path}',\n",
       "  'compare_url': 'https://api.github.com/repos/dvf/blockchain/compare/{base}...{head}',\n",
       "  'merges_url': 'https://api.github.com/repos/dvf/blockchain/merges',\n",
       "  'archive_url': 'https://api.github.com/repos/dvf/blockchain/{archive_format}{/ref}',\n",
       "  'downloads_url': 'https://api.github.com/repos/dvf/blockchain/downloads',\n",
       "  'issues_url': 'https://api.github.com/repos/dvf/blockchain/issues{/number}',\n",
       "  'pulls_url': 'https://api.github.com/repos/dvf/blockchain/pulls{/number}',\n",
       "  'milestones_url': 'https://api.github.com/repos/dvf/blockchain/milestones{/number}',\n",
       "  'notifications_url': 'https://api.github.com/repos/dvf/blockchain/notifications{?since,all,participating}',\n",
       "  'labels_url': 'https://api.github.com/repos/dvf/blockchain/labels{/name}',\n",
       "  'releases_url': 'https://api.github.com/repos/dvf/blockchain/releases{/id}',\n",
       "  'deployments_url': 'https://api.github.com/repos/dvf/blockchain/deployments',\n",
       "  'created_at': '2017-09-24T19:36:36Z',\n",
       "  'updated_at': '2022-12-05T06:19:03Z',\n",
       "  'pushed_at': '2022-12-03T09:02:18Z',\n",
       "  'git_url': 'git://github.com/dvf/blockchain.git',\n",
       "  'ssh_url': 'git@github.com:dvf/blockchain.git',\n",
       "  'clone_url': 'https://github.com/dvf/blockchain.git',\n",
       "  'svn_url': 'https://github.com/dvf/blockchain',\n",
       "  'homepage': None,\n",
       "  'size': 149,\n",
       "  'stargazers_count': 7222,\n",
       "  'watchers_count': 7222,\n",
       "  'language': 'C#',\n",
       "  'has_issues': True,\n",
       "  'has_projects': True,\n",
       "  'has_downloads': True,\n",
       "  'has_wiki': True,\n",
       "  'has_pages': False,\n",
       "  'has_discussions': False,\n",
       "  'forks_count': 2612,\n",
       "  'mirror_url': None,\n",
       "  'archived': False,\n",
       "  'disabled': False,\n",
       "  'open_issues_count': 118,\n",
       "  'license': {'key': 'mit',\n",
       "   'name': 'MIT License',\n",
       "   'spdx_id': 'MIT',\n",
       "   'url': 'https://api.github.com/licenses/mit',\n",
       "   'node_id': 'MDc6TGljZW5zZTEz'},\n",
       "  'allow_forking': True,\n",
       "  'is_template': False,\n",
       "  'web_commit_signoff_required': False,\n",
       "  'topics': ['bitcoin', 'blockchain', 'cryptocurrency', 'flask', 'python'],\n",
       "  'visibility': 'public',\n",
       "  'forks': 2612,\n",
       "  'open_issues': 118,\n",
       "  'watchers': 7222,\n",
       "  'default_branch': 'master',\n",
       "  'score': 1.0}]"
      ]
     },
     "metadata": {},
     "output_type": "display_data"
    }
   ],
   "source": [
    "# First result for \"blockchain\" search query.\n",
    "display(search_repos[\"items\"][:1])"
   ]
  },
  {
   "cell_type": "markdown",
   "id": "80646ad0",
   "metadata": {},
   "source": [
    "# Rate Limit"
   ]
  },
  {
   "cell_type": "markdown",
   "id": "ef4de41d",
   "metadata": {
    "ExecuteTime": {
     "end_time": "2022-11-30T12:14:02.662066Z",
     "start_time": "2022-11-30T12:14:02.657991Z"
    }
   },
   "source": [
    "The Search API has a custom rate limit, separate from the rate limit governing the rest of the REST API. The GraphQL API also has a custom rate limit that is separate from and calculated differently than rate limits in the REST API.\n",
    "\n",
    "For these reasons, the Rate Limit API response categorizes your rate limit. Under resources, you'll see four objects:\n",
    "\n",
    "The core object provides your rate limit status for all non-search-related resources in the REST API.\n",
    "\n",
    "The search object provides your rate limit status for the Search API.\n",
    "\n",
    "The graphql object provides your rate limit status for the GraphQL API.\n",
    "\n",
    "The integration_manifest object provides your rate limit status for the GitHub App Manifest code conversion endpoint."
   ]
  },
  {
   "cell_type": "code",
   "execution_count": 21,
   "id": "084b7922",
   "metadata": {
    "ExecuteTime": {
     "end_time": "2022-12-05T12:54:50.249363Z",
     "start_time": "2022-12-05T12:54:50.047758Z"
    }
   },
   "outputs": [
    {
     "data": {
      "text/plain": [
       "{'resources': {'core': {'limit': 60,\n",
       "   'remaining': 53,\n",
       "   'reset': 1670248296,\n",
       "   'used': 7,\n",
       "   'resource': 'core'},\n",
       "  'graphql': {'limit': 0,\n",
       "   'remaining': 0,\n",
       "   'reset': 1670248490,\n",
       "   'used': 0,\n",
       "   'resource': 'graphql'},\n",
       "  'integration_manifest': {'limit': 5000,\n",
       "   'remaining': 5000,\n",
       "   'reset': 1670248490,\n",
       "   'used': 0,\n",
       "   'resource': 'integration_manifest'},\n",
       "  'search': {'limit': 10,\n",
       "   'remaining': 8,\n",
       "   'reset': 1670244900,\n",
       "   'used': 2,\n",
       "   'resource': 'search'}},\n",
       " 'rate': {'limit': 60,\n",
       "  'remaining': 53,\n",
       "  'reset': 1670248296,\n",
       "  'used': 7,\n",
       "  'resource': 'core'}}"
      ]
     },
     "metadata": {},
     "output_type": "display_data"
    }
   ],
   "source": [
    "rate_limit = requests.get(\"https://api.github.com/rate_limit\").json()\n",
    "display(rate_limit)"
   ]
  },
  {
   "cell_type": "code",
   "execution_count": null,
   "id": "a193f2d7",
   "metadata": {},
   "outputs": [],
   "source": []
  }
 ],
 "metadata": {
  "kernelspec": {
   "display_name": "Python 3 (ipykernel)",
   "language": "python",
   "name": "python3"
  },
  "language_info": {
   "codemirror_mode": {
    "name": "ipython",
    "version": 3
   },
   "file_extension": ".py",
   "mimetype": "text/x-python",
   "name": "python",
   "nbconvert_exporter": "python",
   "pygments_lexer": "ipython3",
   "version": "3.8.10"
  },
  "toc": {
   "base_numbering": 1,
   "nav_menu": {},
   "number_sections": true,
   "sideBar": true,
   "skip_h1_title": false,
   "title_cell": "Table of Contents",
   "title_sidebar": "Contents",
   "toc_cell": false,
   "toc_position": {},
   "toc_section_display": true,
   "toc_window_display": false
  }
 },
 "nbformat": 4,
 "nbformat_minor": 5
}
