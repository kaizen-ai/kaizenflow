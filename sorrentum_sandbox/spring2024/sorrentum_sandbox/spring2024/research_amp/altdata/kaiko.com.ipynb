{
 "cells": [
  {
   "cell_type": "markdown",
   "id": "0633692b",
   "metadata": {},
   "source": [
    "# Description"
   ]
  },
  {
   "cell_type": "markdown",
   "id": "e827597d",
   "metadata": {},
   "source": [
    "This notebook contains description of the (public) endpoints of [kaiko.com](kaiko.com) digital asset data aggregator\n",
    "\n",
    "API documentation: https://docs.kaiko.com/"
   ]
  },
  {
   "cell_type": "code",
   "execution_count": 1,
   "id": "3908e8e8",
   "metadata": {
    "ExecuteTime": {
     "end_time": "2023-01-26T18:52:02.421486Z",
     "start_time": "2023-01-26T18:52:02.370724Z"
    }
   },
   "outputs": [],
   "source": [
    "import requests"
   ]
  },
  {
   "cell_type": "markdown",
   "id": "6a909bf7",
   "metadata": {},
   "source": [
    "## Reference API"
   ]
  },
  {
   "cell_type": "markdown",
   "id": "942db4b1",
   "metadata": {},
   "source": [
    "https://docs.kaiko.com/#reference-data-api\n",
    "\n",
    "Check public endpoints."
   ]
  },
  {
   "cell_type": "code",
   "execution_count": 2,
   "id": "ea9bd637",
   "metadata": {
    "ExecuteTime": {
     "end_time": "2023-01-26T18:58:09.675400Z",
     "start_time": "2023-01-26T18:58:09.672402Z"
    }
   },
   "outputs": [],
   "source": [
    "api_url = \"https://reference-data-api.kaiko.io/\""
   ]
  },
  {
   "cell_type": "code",
   "execution_count": 5,
   "id": "ca18a95a",
   "metadata": {
    "ExecuteTime": {
     "end_time": "2023-01-26T18:59:45.083634Z",
     "start_time": "2023-01-26T18:59:44.204599Z"
    }
   },
   "outputs": [
    {
     "data": {
      "text/plain": [
       "dict_keys(['result', 'data'])"
      ]
     },
     "execution_count": 5,
     "metadata": {},
     "output_type": "execute_result"
    }
   ],
   "source": [
    "# Assets.\n",
    "assets_url = api_url + \"v1/assets/\"\n",
    "response = requests.get(assets_url)\n",
    "data = response.json()\n",
    "data.keys()"
   ]
  },
  {
   "cell_type": "code",
   "execution_count": 11,
   "id": "bd168bb8",
   "metadata": {
    "ExecuteTime": {
     "end_time": "2023-01-26T19:00:30.072372Z",
     "start_time": "2023-01-26T19:00:30.068734Z"
    }
   },
   "outputs": [
    {
     "data": {
      "text/plain": [
       "7750"
      ]
     },
     "execution_count": 11,
     "metadata": {},
     "output_type": "execute_result"
    }
   ],
   "source": [
    "# Get size of the entire asset universe.\n",
    "len(data[\"data\"])"
   ]
  },
  {
   "cell_type": "code",
   "execution_count": 28,
   "id": "3f45c378",
   "metadata": {
    "ExecuteTime": {
     "end_time": "2023-01-26T19:04:50.851210Z",
     "start_time": "2023-01-26T19:04:50.846377Z"
    }
   },
   "outputs": [
    {
     "data": {
      "text/plain": [
       "[{'code': 'btb',\n",
       "  'name': 'BitBar',\n",
       "  'asset_classes': ['cryptocurrency'],\n",
       "  'asset_class': 'cryptocurrency',\n",
       "  'metadata': None},\n",
       " {'code': 'btbc',\n",
       "  'name': 'Bitbase',\n",
       "  'asset_classes': ['cryptocurrency'],\n",
       "  'asset_class': 'cryptocurrency',\n",
       "  'metadata': None},\n",
       " {'code': 'btc',\n",
       "  'name': 'Bitcoin',\n",
       "  'asset_classes': ['cryptocurrency'],\n",
       "  'asset_class': 'cryptocurrency',\n",
       "  'metadata': {'asset_figi': 'KKG000000M81'}},\n",
       " {'code': 'btc3nx',\n",
       "  'name': 'BTC3NX',\n",
       "  'asset_classes': ['cryptocurrency'],\n",
       "  'asset_class': 'cryptocurrency',\n",
       "  'metadata': None},\n",
       " {'code': 'btc3x',\n",
       "  'name': 'BTC3X',\n",
       "  'asset_classes': ['cryptocurrency'],\n",
       "  'asset_class': 'cryptocurrency',\n",
       "  'metadata': None}]"
      ]
     },
     "execution_count": 28,
     "metadata": {},
     "output_type": "execute_result"
    }
   ],
   "source": [
    "# Get examples of asset metadata.\n",
    "data[\"data\"][410:415]"
   ]
  },
  {
   "cell_type": "code",
   "execution_count": 29,
   "id": "aae282a3",
   "metadata": {
    "ExecuteTime": {
     "end_time": "2023-01-26T19:05:36.024282Z",
     "start_time": "2023-01-26T19:05:35.490643Z"
    }
   },
   "outputs": [
    {
     "data": {
      "text/plain": [
       "dict_keys(['result', 'data'])"
      ]
     },
     "execution_count": 29,
     "metadata": {},
     "output_type": "execute_result"
    }
   ],
   "source": [
    "# Exchanges.\n",
    "exchanges_url = api_url + \"v1/exchanges/\"\n",
    "response = requests.get(exchanges_url)\n",
    "data = response.json()\n",
    "data.keys()"
   ]
  },
  {
   "cell_type": "code",
   "execution_count": 30,
   "id": "1a3804fe",
   "metadata": {
    "ExecuteTime": {
     "end_time": "2023-01-26T19:05:43.901270Z",
     "start_time": "2023-01-26T19:05:43.897246Z"
    }
   },
   "outputs": [
    {
     "data": {
      "text/plain": [
       "110"
      ]
     },
     "execution_count": 30,
     "metadata": {},
     "output_type": "execute_result"
    }
   ],
   "source": [
    "len(data[\"data\"])"
   ]
  },
  {
   "cell_type": "code",
   "execution_count": 31,
   "id": "bd4b3124",
   "metadata": {
    "ExecuteTime": {
     "end_time": "2023-01-26T19:05:52.165875Z",
     "start_time": "2023-01-26T19:05:52.160494Z"
    }
   },
   "outputs": [
    {
     "data": {
      "text/plain": [
       "[{'code': 'lmax', 'name': 'LMAX', 'kaiko_legacy_slug': 'lx'},\n",
       " {'code': 'bbox', 'name': 'Bibox', 'kaiko_legacy_slug': 'bx'},\n",
       " {'code': 'bcex', 'name': 'BCEX', 'kaiko_legacy_slug': 'yy'},\n",
       " {'code': 'bequ', 'name': 'BeQuant', 'kaiko_legacy_slug': 'bq'},\n",
       " {'code': 'bfrx', 'name': 'BitForex', 'kaiko_legacy_slug': 'br'},\n",
       " {'code': 'bgon', 'name': 'BigONE', 'kaiko_legacy_slug': 'bg'},\n",
       " {'code': 'bitz', 'name': 'Bit-Z', 'kaiko_legacy_slug': 'bz'},\n",
       " {'code': 'bnbd', 'name': 'BinanceDEXTestnet', 'kaiko_legacy_slug': 'bd'},\n",
       " {'code': 'bndx', 'name': 'BinanceDEX', 'kaiko_legacy_slug': 'dx'},\n",
       " {'code': 'bnf8', 'name': 'Binance Futures', 'kaiko_legacy_slug': 'bv'}]"
      ]
     },
     "execution_count": 31,
     "metadata": {},
     "output_type": "execute_result"
    }
   ],
   "source": [
    "data[\"data\"][30:40]"
   ]
  },
  {
   "cell_type": "code",
   "execution_count": 33,
   "id": "ee1200c8",
   "metadata": {
    "ExecuteTime": {
     "end_time": "2023-01-26T19:07:04.533947Z",
     "start_time": "2023-01-26T19:07:01.381610Z"
    }
   },
   "outputs": [
    {
     "data": {
      "text/plain": [
       "dict_keys(['result', 'count', 'data'])"
      ]
     },
     "execution_count": 33,
     "metadata": {},
     "output_type": "execute_result"
    }
   ],
   "source": [
    "# Instruments.\n",
    "# https://docs.kaiko.com/#instruments\n",
    "instr_url = api_url + \"v1/instruments/\"\n",
    "response = requests.get(instr_url)\n",
    "data = response.json()\n",
    "data.keys()"
   ]
  },
  {
   "cell_type": "code",
   "execution_count": 35,
   "id": "2d6cca78",
   "metadata": {
    "ExecuteTime": {
     "end_time": "2023-01-26T19:07:11.361429Z",
     "start_time": "2023-01-26T19:07:11.357135Z"
    }
   },
   "outputs": [
    {
     "data": {
      "text/plain": [
       "219588"
      ]
     },
     "execution_count": 35,
     "metadata": {},
     "output_type": "execute_result"
    }
   ],
   "source": [
    "# Total number of retrieved instruments, same as `len(data[\"data\"])`.\n",
    "data[\"count\"]"
   ]
  },
  {
   "cell_type": "code",
   "execution_count": 37,
   "id": "3499559c",
   "metadata": {
    "ExecuteTime": {
     "end_time": "2023-01-26T19:08:03.698118Z",
     "start_time": "2023-01-26T19:08:03.691598Z"
    }
   },
   "outputs": [
    {
     "data": {
      "text/plain": [
       "[{'kaiko_legacy_exchange_slug': 'bn',\n",
       "  'trade_start_time': '2017-11-29T03:11:34.769Z',\n",
       "  'trade_end_time': None,\n",
       "  'exchange_code': 'bnce',\n",
       "  'exchange_pair_code': 'ADXETH',\n",
       "  'base_asset': 'adx',\n",
       "  'quote_asset': 'eth',\n",
       "  'kaiko_legacy_symbol': 'adxeth',\n",
       "  'code': 'adx-eth',\n",
       "  'class': 'spot',\n",
       "  'metadata': {'pair_figi': 'KKG0000015X9', 'instrument_figi': 'KKG0000038S7'},\n",
       "  'trade_start_timestamp': 1511925094769,\n",
       "  'trade_end_timestamp': None,\n",
       "  'trade_compressed_size': 0,\n",
       "  'trade_count': 3123092},\n",
       " {'kaiko_legacy_exchange_slug': 'gc',\n",
       "  'trade_start_time': '2017-08-24T06:46:55Z',\n",
       "  'trade_end_time': '2018-07-18T21:53:29Z',\n",
       "  'exchange_code': 'gacn',\n",
       "  'exchange_pair_code': 'ADXETH',\n",
       "  'base_asset': 'adx',\n",
       "  'quote_asset': 'eth',\n",
       "  'kaiko_legacy_symbol': 'adxeth',\n",
       "  'code': 'adx-eth',\n",
       "  'class': 'spot',\n",
       "  'metadata': None,\n",
       "  'trade_start_timestamp': 1503557215000,\n",
       "  'trade_end_timestamp': 1531950809000,\n",
       "  'trade_compressed_size': 0,\n",
       "  'trade_count': 1573},\n",
       " {'kaiko_legacy_exchange_slug': 'hb',\n",
       "  'trade_start_time': '2018-01-22T20:49:46.567Z',\n",
       "  'trade_end_time': '2020-03-31T07:51:51.952Z',\n",
       "  'exchange_code': 'huob',\n",
       "  'exchange_pair_code': 'adxeth',\n",
       "  'base_asset': 'adx',\n",
       "  'quote_asset': 'eth',\n",
       "  'kaiko_legacy_symbol': 'adxeth',\n",
       "  'code': 'adx-eth',\n",
       "  'class': 'spot',\n",
       "  'metadata': None,\n",
       "  'trade_start_timestamp': 1516654186567,\n",
       "  'trade_end_timestamp': 1585641111952,\n",
       "  'trade_compressed_size': 0,\n",
       "  'trade_count': 4357152},\n",
       " {'kaiko_legacy_exchange_slug': 'hi',\n",
       "  'trade_start_time': '2018-01-18T14:50:31.298Z',\n",
       "  'trade_end_time': '2020-08-25T02:51:19.768Z',\n",
       "  'exchange_code': 'hitb',\n",
       "  'exchange_pair_code': 'ADXUSD',\n",
       "  'base_asset': 'adx',\n",
       "  'quote_asset': 'usdt',\n",
       "  'kaiko_legacy_symbol': 'adxusd',\n",
       "  'code': 'adx-usdt',\n",
       "  'class': 'spot',\n",
       "  'metadata': None,\n",
       "  'trade_start_timestamp': 1516287031298,\n",
       "  'trade_end_timestamp': 1598323879768,\n",
       "  'trade_compressed_size': 0,\n",
       "  'trade_count': 8477},\n",
       " {'kaiko_legacy_exchange_slug': 'yo',\n",
       "  'trade_start_time': '2017-08-30T04:07:06Z',\n",
       "  'trade_end_time': '2022-08-17T05:56:44Z',\n",
       "  'exchange_code': 'yobt',\n",
       "  'exchange_pair_code': 'adz_btc',\n",
       "  'base_asset': 'adz',\n",
       "  'quote_asset': 'btc',\n",
       "  'kaiko_legacy_symbol': 'adzbtc',\n",
       "  'code': 'adz-btc',\n",
       "  'class': 'spot',\n",
       "  'metadata': {'pair_figi': 'KKG000002HB6', 'instrument_figi': 'KKG0000078W8'},\n",
       "  'trade_start_timestamp': 1504066026000,\n",
       "  'trade_end_timestamp': 1660715804000,\n",
       "  'trade_compressed_size': 0,\n",
       "  'trade_count': 37611}]"
      ]
     },
     "execution_count": 37,
     "metadata": {},
     "output_type": "execute_result"
    }
   ],
   "source": [
    "data[\"data\"][100:105]"
   ]
  },
  {
   "cell_type": "code",
   "execution_count": 38,
   "id": "41f63171",
   "metadata": {
    "ExecuteTime": {
     "end_time": "2023-01-26T19:08:52.886194Z",
     "start_time": "2023-01-26T19:08:46.840378Z"
    }
   },
   "outputs": [
    {
     "data": {
      "text/plain": [
       "dict_keys(['result', 'count', 'data'])"
      ]
     },
     "execution_count": 38,
     "metadata": {},
     "output_type": "execute_result"
    }
   ],
   "source": [
    "# Pools.\n",
    "pools_url = api_url + \"v1/pools/\"\n",
    "response = requests.get(pools_url)\n",
    "data = response.json()\n",
    "data.keys()"
   ]
  },
  {
   "cell_type": "code",
   "execution_count": 39,
   "id": "3421d17c",
   "metadata": {
    "ExecuteTime": {
     "end_time": "2023-01-26T19:08:58.072102Z",
     "start_time": "2023-01-26T19:08:58.068509Z"
    }
   },
   "outputs": [
    {
     "data": {
      "text/plain": [
       "158975"
      ]
     },
     "execution_count": 39,
     "metadata": {},
     "output_type": "execute_result"
    }
   ],
   "source": [
    "# Total number of pools, same as `len(data[\"data\"])`.\n",
    "data[\"count\"]"
   ]
  },
  {
   "cell_type": "code",
   "execution_count": 41,
   "id": "08d03218",
   "metadata": {
    "ExecuteTime": {
     "end_time": "2023-01-26T19:09:26.994132Z",
     "start_time": "2023-01-26T19:09:26.987977Z"
    },
    "scrolled": true
   },
   "outputs": [
    {
     "data": {
      "text/plain": [
       "[{'address': '0x002c0b78c8057636918b963cd26c07b7f2892bd8',\n",
       "  'name': 'WETH-CP-0.010',\n",
       "  'protocol': 'usp3',\n",
       "  'type': 'liquidity_pool',\n",
       "  'fee': '0.01',\n",
       "  'tokens': [{'address': '0xc02aaa39b223fe8d0a0e5c4f27ead9083c756cc2',\n",
       "    'symbol': 'WETH',\n",
       "    'decimals': '18'},\n",
       "   {'address': '0xc66b1f449e43c2356707431d38b87ca9c46bbfc1',\n",
       "    'symbol': 'CP',\n",
       "    'decimals': '18'}],\n",
       "  'tickSpacing': '200'},\n",
       " {'address': '0x002c24bb81e6edc2a5e62ab98890a71d4e548718',\n",
       "  'name': 'WETH-LTC23',\n",
       "  'protocol': 'usp2',\n",
       "  'type': 'liquidity_pool',\n",
       "  'fee': '0.003',\n",
       "  'tokens': [{'address': '0xc02aaa39b223fe8d0a0e5c4f27ead9083c756cc2',\n",
       "    'symbol': 'WETH',\n",
       "    'decimals': '18'},\n",
       "   {'address': '0xfbc410693ab93e2a7029a73b0730999689cd48ce',\n",
       "    'symbol': 'LTC23',\n",
       "    'decimals': '9'}]},\n",
       " {'address': '0x002c755bc6b99f61d59a76047a13d6be41bb8fd1',\n",
       "  'name': 'IM-WETH',\n",
       "  'protocol': 'usp2',\n",
       "  'type': 'liquidity_pool',\n",
       "  'fee': '0.003',\n",
       "  'tokens': [{'address': '0x22e7250df8dc9eb3cf2f3e21de58b1a4e2c36946',\n",
       "    'symbol': 'IM',\n",
       "    'decimals': '9'},\n",
       "   {'address': '0xc02aaa39b223fe8d0a0e5c4f27ead9083c756cc2',\n",
       "    'symbol': 'WETH',\n",
       "    'decimals': '18'}]},\n",
       " {'address': '0x002ca597b7b09b317d0a4ff6f6d7a9b663839717',\n",
       "  'name': 'HANZO-WETH',\n",
       "  'protocol': 'usp2',\n",
       "  'type': 'liquidity_pool',\n",
       "  'fee': '0.003',\n",
       "  'tokens': [{'address': '0xb5e6760ae3a75830415212042e5d11cfa8e52ddf',\n",
       "    'symbol': 'HANZO',\n",
       "    'decimals': '9'},\n",
       "   {'address': '0xc02aaa39b223fe8d0a0e5c4f27ead9083c756cc2',\n",
       "    'symbol': 'WETH',\n",
       "    'decimals': '18'}]},\n",
       " {'address': '0x002ced6a579c76f85e1524a329d256dc6e561a36',\n",
       "  'name': 'WETH-WNOT',\n",
       "  'protocol': 'usp2',\n",
       "  'type': 'liquidity_pool',\n",
       "  'fee': '0.003',\n",
       "  'tokens': [{'address': '0xc02aaa39b223fe8d0a0e5c4f27ead9083c756cc2',\n",
       "    'symbol': 'WETH',\n",
       "    'decimals': '18'},\n",
       "   {'address': '0xc8e3deffa94ca059505b0461a1c912fe4966b91b',\n",
       "    'symbol': 'WNOT',\n",
       "    'decimals': '9'}]}]"
      ]
     },
     "execution_count": 41,
     "metadata": {},
     "output_type": "execute_result"
    }
   ],
   "source": [
    "data[\"data\"][110:115]"
   ]
  },
  {
   "cell_type": "markdown",
   "id": "8a29a4a7",
   "metadata": {},
   "source": [
    "## Commentary"
   ]
  },
  {
   "cell_type": "markdown",
   "id": "e09c9dfb",
   "metadata": {},
   "source": [
    "The public reference API gives only the information on the universe, i.e. the assets, exchanges, instruments and pools.\n",
    "Actual examples of data can be obtained by applying for a demo and having a trial subscription."
   ]
  }
 ],
 "metadata": {
  "kernelspec": {
   "display_name": "Python 3 (ipykernel)",
   "language": "python",
   "name": "python3"
  },
  "language_info": {
   "codemirror_mode": {
    "name": "ipython",
    "version": 3
   },
   "file_extension": ".py",
   "mimetype": "text/x-python",
   "name": "python",
   "nbconvert_exporter": "python",
   "pygments_lexer": "ipython3",
   "version": "3.8.10"
  },
  "toc": {
   "base_numbering": 1,
   "nav_menu": {},
   "number_sections": true,
   "sideBar": true,
   "skip_h1_title": false,
   "title_cell": "Table of Contents",
   "title_sidebar": "Contents",
   "toc_cell": false,
   "toc_position": {},
   "toc_section_display": true,
   "toc_window_display": false
  }
 },
 "nbformat": 4,
 "nbformat_minor": 5
}
