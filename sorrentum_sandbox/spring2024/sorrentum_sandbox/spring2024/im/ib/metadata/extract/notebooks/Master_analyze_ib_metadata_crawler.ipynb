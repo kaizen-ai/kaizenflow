{
 "cells": [
  {
   "cell_type": "code",
   "execution_count": 1,
   "metadata": {
    "ExecuteTime": {
     "end_time": "2021-04-10T18:09:26.224186Z",
     "start_time": "2021-04-10T18:09:25.903954Z"
    }
   },
   "outputs": [],
   "source": [
    "import glob\n",
    "import os\n",
    "\n",
    "import pandas as pd\n",
    "\n",
    "import helpers.hdbg as hdbg\n",
    "import helpers.hpandas as hpandas\n",
    "import helpers.hs3 as hs3"
   ]
  },
  {
   "cell_type": "code",
   "execution_count": 2,
   "metadata": {
    "ExecuteTime": {
     "end_time": "2021-04-10T18:09:27.944179Z",
     "start_time": "2021-04-10T18:09:27.723974Z"
    }
   },
   "outputs": [
    {
     "name": "stdout",
     "output_type": "stream",
     "text": [
      "Makefile  README.md  devops  ib_metadata_crawler  notebooks  scrapy.cfg\r\n"
     ]
    }
   ],
   "source": [
    "!ls .."
   ]
  },
  {
   "cell_type": "markdown",
   "metadata": {},
   "source": [
    "## Symbols"
   ]
  },
  {
   "cell_type": "code",
   "execution_count": 6,
   "metadata": {
    "ExecuteTime": {
     "end_time": "2021-04-10T18:10:53.772227Z",
     "start_time": "2021-04-10T18:10:43.244970Z"
    }
   },
   "outputs": [
    {
     "name": "stdout",
     "output_type": "stream",
     "text": [
      "file_name=s3://external-p1/ib/metadata/symbols-2021-04-01-143112738505.csv\n",
      "341374\n"
     ]
    },
    {
     "data": {
      "text/html": [
       "<div>\n",
       "<style scoped>\n",
       "    .dataframe tbody tr th:only-of-type {\n",
       "        vertical-align: middle;\n",
       "    }\n",
       "\n",
       "    .dataframe tbody tr th {\n",
       "        vertical-align: top;\n",
       "    }\n",
       "\n",
       "    .dataframe thead th {\n",
       "        text-align: right;\n",
       "    }\n",
       "</style>\n",
       "<table border=\"1\" class=\"dataframe\">\n",
       "  <thead>\n",
       "    <tr style=\"text-align: right;\">\n",
       "      <th></th>\n",
       "      <th>market</th>\n",
       "      <th>product</th>\n",
       "      <th>s_title</th>\n",
       "      <th>ib_symbol</th>\n",
       "      <th>symbol</th>\n",
       "      <th>currency</th>\n",
       "      <th>url</th>\n",
       "    </tr>\n",
       "  </thead>\n",
       "  <tbody>\n",
       "    <tr>\n",
       "      <th>0</th>\n",
       "      <td>ArcaEdge (ARCAEDGE)</td>\n",
       "      <td>Stocks</td>\n",
       "      <td>ASIA BROADBAND INC</td>\n",
       "      <td>AABB</td>\n",
       "      <td>AABB</td>\n",
       "      <td>USD</td>\n",
       "      <td>https://ndcdyn.interactivebrokers.com/en/index...</td>\n",
       "    </tr>\n",
       "    <tr>\n",
       "      <th>1</th>\n",
       "      <td>ArcaEdge (ARCAEDGE)</td>\n",
       "      <td>Stocks</td>\n",
       "      <td>ABERDEEN INTERNATIONAL INC.</td>\n",
       "      <td>AABVF</td>\n",
       "      <td>AABVF</td>\n",
       "      <td>USD</td>\n",
       "      <td>https://ndcdyn.interactivebrokers.com/en/index...</td>\n",
       "    </tr>\n",
       "    <tr>\n",
       "      <th>2</th>\n",
       "      <td>ArcaEdge (ARCAEDGE)</td>\n",
       "      <td>Stocks</td>\n",
       "      <td>AAC TECHNOLOGIES H-UNSPON AD</td>\n",
       "      <td>AACAY</td>\n",
       "      <td>AACAY</td>\n",
       "      <td>USD</td>\n",
       "      <td>https://ndcdyn.interactivebrokers.com/en/index...</td>\n",
       "    </tr>\n",
       "  </tbody>\n",
       "</table>\n",
       "</div>"
      ],
      "text/plain": [
       "                market product                       s_title ib_symbol symbol  \\\n",
       "0  ArcaEdge (ARCAEDGE)  Stocks            ASIA BROADBAND INC      AABB   AABB   \n",
       "1  ArcaEdge (ARCAEDGE)  Stocks   ABERDEEN INTERNATIONAL INC.     AABVF  AABVF   \n",
       "2  ArcaEdge (ARCAEDGE)  Stocks  AAC TECHNOLOGIES H-UNSPON AD     AACAY  AACAY   \n",
       "\n",
       "  currency                                                url  \n",
       "0      USD  https://ndcdyn.interactivebrokers.com/en/index...  \n",
       "1      USD  https://ndcdyn.interactivebrokers.com/en/index...  \n",
       "2      USD  https://ndcdyn.interactivebrokers.com/en/index...  "
      ]
     },
     "execution_count": 6,
     "metadata": {},
     "output_type": "execute_result"
    }
   ],
   "source": [
    "if False:\n",
    "    dir_name = \"..\"\n",
    "    files = glob.glob(os.path.join(dir_name, \"symbols*.csv\"))\n",
    "    hdbg.dassert(len(files), 1)\n",
    "    file_name = files[0]\n",
    "\n",
    "AM_AWS_PROFILE = \"am\"\n",
    "S3_BUCKET = hs3.get_s3_bucket_path(AM_AWS_PROFILE, add_s3_prefix=False)\n",
    "file_name = (\n",
    "    f\"s3://{S3_BUCKET}/data/ib/metadata/symbols-2021-04-01-143112738505.csv\"\n",
    ")\n",
    "s3fs = hs3.get_s3fs(\"am\")\n",
    "print(\"file_name=%s\" % file_name)\n",
    "stream, kwargs = hs3.get_local_or_s3_stream(file_name, s3fs=s3fs)\n",
    "symbols = hpandas.read_csv_to_df(stream, sep=\"\\t\", **kwargs)\n",
    "\n",
    "print(len(symbols))\n",
    "\n",
    "symbols.head(3)"
   ]
  },
  {
   "cell_type": "code",
   "execution_count": 8,
   "metadata": {
    "ExecuteTime": {
     "end_time": "2021-04-10T18:12:16.361022Z",
     "start_time": "2021-04-10T18:12:16.137865Z"
    }
   },
   "outputs": [
    {
     "data": {
      "text/html": [
       "<div>\n",
       "<style scoped>\n",
       "    .dataframe tbody tr th:only-of-type {\n",
       "        vertical-align: middle;\n",
       "    }\n",
       "\n",
       "    .dataframe tbody tr th {\n",
       "        vertical-align: top;\n",
       "    }\n",
       "\n",
       "    .dataframe thead th {\n",
       "        text-align: right;\n",
       "    }\n",
       "</style>\n",
       "<table border=\"1\" class=\"dataframe\">\n",
       "  <thead>\n",
       "    <tr style=\"text-align: right;\">\n",
       "      <th></th>\n",
       "      <th>market</th>\n",
       "      <th>s_title</th>\n",
       "      <th>ib_symbol</th>\n",
       "      <th>symbol</th>\n",
       "      <th>currency</th>\n",
       "      <th>url</th>\n",
       "    </tr>\n",
       "    <tr>\n",
       "      <th>product</th>\n",
       "      <th></th>\n",
       "      <th></th>\n",
       "      <th></th>\n",
       "      <th></th>\n",
       "      <th></th>\n",
       "      <th></th>\n",
       "    </tr>\n",
       "  </thead>\n",
       "  <tbody>\n",
       "    <tr>\n",
       "      <th>Bonds</th>\n",
       "      <td>3749</td>\n",
       "      <td>3749</td>\n",
       "      <td>3749</td>\n",
       "      <td>3749</td>\n",
       "      <td>3749</td>\n",
       "      <td>3749</td>\n",
       "    </tr>\n",
       "    <tr>\n",
       "      <th>Futures</th>\n",
       "      <td>777</td>\n",
       "      <td>777</td>\n",
       "      <td>777</td>\n",
       "      <td>777</td>\n",
       "      <td>777</td>\n",
       "      <td>777</td>\n",
       "    </tr>\n",
       "    <tr>\n",
       "      <th>Indices</th>\n",
       "      <td>1747</td>\n",
       "      <td>1747</td>\n",
       "      <td>1747</td>\n",
       "      <td>1747</td>\n",
       "      <td>1747</td>\n",
       "      <td>1747</td>\n",
       "    </tr>\n",
       "    <tr>\n",
       "      <th>Options</th>\n",
       "      <td>34941</td>\n",
       "      <td>34941</td>\n",
       "      <td>34940</td>\n",
       "      <td>34940</td>\n",
       "      <td>34941</td>\n",
       "      <td>34941</td>\n",
       "    </tr>\n",
       "    <tr>\n",
       "      <th>Stocks</th>\n",
       "      <td>271315</td>\n",
       "      <td>271315</td>\n",
       "      <td>271310</td>\n",
       "      <td>271310</td>\n",
       "      <td>271315</td>\n",
       "      <td>271315</td>\n",
       "    </tr>\n",
       "    <tr>\n",
       "      <th>Structured Products</th>\n",
       "      <td>17496</td>\n",
       "      <td>17496</td>\n",
       "      <td>17496</td>\n",
       "      <td>17496</td>\n",
       "      <td>17496</td>\n",
       "      <td>17496</td>\n",
       "    </tr>\n",
       "    <tr>\n",
       "      <th>Warrants</th>\n",
       "      <td>11349</td>\n",
       "      <td>11349</td>\n",
       "      <td>11349</td>\n",
       "      <td>11349</td>\n",
       "      <td>11349</td>\n",
       "      <td>11349</td>\n",
       "    </tr>\n",
       "  </tbody>\n",
       "</table>\n",
       "</div>"
      ],
      "text/plain": [
       "                     market  s_title  ib_symbol  symbol  currency     url\n",
       "product                                                                  \n",
       "Bonds                  3749     3749       3749    3749      3749    3749\n",
       "Futures                 777      777        777     777       777     777\n",
       "Indices                1747     1747       1747    1747      1747    1747\n",
       "Options               34941    34941      34940   34940     34941   34941\n",
       "Stocks               271315   271315     271310  271310    271315  271315\n",
       "Structured Products   17496    17496      17496   17496     17496   17496\n",
       "Warrants              11349    11349      11349   11349     11349   11349"
      ]
     },
     "execution_count": 8,
     "metadata": {},
     "output_type": "execute_result"
    }
   ],
   "source": [
    "symbols.groupby(\"product\").count()"
   ]
  },
  {
   "cell_type": "markdown",
   "metadata": {},
   "source": [
    "## Exchanges"
   ]
  },
  {
   "cell_type": "code",
   "execution_count": 40,
   "metadata": {
    "ExecuteTime": {
     "end_time": "2021-03-23T15:00:02.956230Z",
     "start_time": "2021-03-23T15:00:02.937707Z"
    }
   },
   "outputs": [
    {
     "name": "stdout",
     "output_type": "stream",
     "text": [
      "file_name=../exchanges-2021-03-23-141008520313.csv\n",
      "137\n"
     ]
    },
    {
     "data": {
      "text/html": [
       "<div>\n",
       "<style scoped>\n",
       "    .dataframe tbody tr th:only-of-type {\n",
       "        vertical-align: middle;\n",
       "    }\n",
       "\n",
       "    .dataframe tbody tr th {\n",
       "        vertical-align: top;\n",
       "    }\n",
       "\n",
       "    .dataframe thead th {\n",
       "        text-align: right;\n",
       "    }\n",
       "</style>\n",
       "<table border=\"1\" class=\"dataframe\">\n",
       "  <thead>\n",
       "    <tr style=\"text-align: right;\">\n",
       "      <th></th>\n",
       "      <th>region</th>\n",
       "      <th>country</th>\n",
       "      <th>market</th>\n",
       "      <th>link</th>\n",
       "      <th>products</th>\n",
       "      <th>hours</th>\n",
       "    </tr>\n",
       "  </thead>\n",
       "  <tbody>\n",
       "    <tr>\n",
       "      <th>0</th>\n",
       "      <td>Global</td>\n",
       "      <td></td>\n",
       "      <td>IDEALPRO Metals</td>\n",
       "      <td>NaN</td>\n",
       "      <td>Metals</td>\n",
       "      <td>Sunday - Friday: 18:00 - 17:00 ET</td>\n",
       "    </tr>\n",
       "    <tr>\n",
       "      <th>1</th>\n",
       "      <td>Global</td>\n",
       "      <td></td>\n",
       "      <td>IDEAL PRO</td>\n",
       "      <td>NaN</td>\n",
       "      <td>Currencies</td>\n",
       "      <td>Sunday - Friday: 17:15 - 17:00 ET</td>\n",
       "    </tr>\n",
       "    <tr>\n",
       "      <th>2</th>\n",
       "      <td>North America</td>\n",
       "      <td>United States</td>\n",
       "      <td>CME (GLOBEX)</td>\n",
       "      <td>http://www.cmegroup.com</td>\n",
       "      <td>Futures (Agriculture, Currency, Energy, Equity...</td>\n",
       "      <td>Sunday - Friday: 1700 - 1600</td>\n",
       "    </tr>\n",
       "  </tbody>\n",
       "</table>\n",
       "</div>"
      ],
      "text/plain": [
       "          region        country           market                     link  \\\n",
       "0         Global                 IDEALPRO Metals                      NaN   \n",
       "1         Global                       IDEAL PRO                      NaN   \n",
       "2  North America  United States     CME (GLOBEX)  http://www.cmegroup.com   \n",
       "\n",
       "                                            products  \\\n",
       "0                                             Metals   \n",
       "1                                         Currencies   \n",
       "2  Futures (Agriculture, Currency, Energy, Equity...   \n",
       "\n",
       "                               hours  \n",
       "0  Sunday - Friday: 18:00 - 17:00 ET  \n",
       "1  Sunday - Friday: 17:15 - 17:00 ET  \n",
       "2       Sunday - Friday: 1700 - 1600  "
      ]
     },
     "execution_count": 40,
     "metadata": {},
     "output_type": "execute_result"
    }
   ],
   "source": [
    "if False:\n",
    "    files = glob.glob(os.path.join(dir_name, \"exchanges*.csv\"))\n",
    "    hdbg.dassert(len(files), 1)\n",
    "    file_name = files[0]\n",
    "file_name = (\n",
    "    f\"s3://{S3_BUCKET}/data/ib/metadata/exchanges-2021-04-01-143112738505.csv\"\n",
    ")\n",
    "\n",
    "print(\"file_name=%s\" % file_name)\n",
    "exchanges = pd.read_csv(file_name, aws_profile=aws_profile, sep=\"\\t\")\n",
    "\n",
    "print(len(exchanges))\n",
    "\n",
    "exchanges.head(3)"
   ]
  },
  {
   "cell_type": "markdown",
   "metadata": {},
   "source": [
    "## Products"
   ]
  },
  {
   "cell_type": "code",
   "execution_count": 54,
   "metadata": {
    "ExecuteTime": {
     "end_time": "2021-03-23T15:05:12.358082Z",
     "start_time": "2021-03-23T15:05:12.329279Z"
    }
   },
   "outputs": [
    {
     "name": "stdout",
     "output_type": "stream",
     "text": [
      "['ETFs' 'Indices' 'Options' 'Futures' 'Stocks' 'Bills']\n"
     ]
    }
   ],
   "source": [
    "print(symbols[\"product\"].unique())"
   ]
  },
  {
   "cell_type": "markdown",
   "metadata": {},
   "source": [
    "## Markets"
   ]
  },
  {
   "cell_type": "code",
   "execution_count": 18,
   "metadata": {
    "ExecuteTime": {
     "end_time": "2021-03-23T14:55:28.023523Z",
     "start_time": "2021-03-23T14:55:27.990052Z"
    }
   },
   "outputs": [
    {
     "name": "stdout",
     "output_type": "stream",
     "text": [
      "ASXCEN\n",
      "Alpha ATS (ALPHA)\n",
      "ArcaEdge (ARCAEDGE)\n",
      "Australian Stock Exchange (ASX)\n",
      "BATS Europe (BATECH)\n",
      "BVL\n",
      "Bats BYX (BYX)\n",
      "Bats EDGX Options Exchange\n",
      "Bats Europe (BATEDE)\n",
      "Bats Europe (BATEEN)\n",
      "Bats Europe (BATEES)\n",
      "Bats Europe (BATEUK)\n",
      "Bats Global Markets (BATS)\n",
      "Bolsa de Madrid (BM)\n",
      "BondDesk\n",
      "Borsa Italiana\n",
      "Borsa Italiana (BVME)\n",
      "Borsa Italiana (IDEM)\n",
      "Budapest Stock Exchange\n",
      "CBOE C2 (CBOE2)\n",
      "CBOE EU\n",
      "CBOT (ECBOT)\n",
      "CHI-X Europe Ltd Clearnet (CHIXEN)\n",
      "CHI-X Europe Ltd Clearnet (CHIXES)\n",
      "CHI-X Europe Ltd Clearstream (CHIXDE)\n",
      "CHI-X Europe Ltd Crest (CHIXUK)\n",
      "CHI-X Europe Ltd Swiss (CHIXCH)\n",
      "CHI-X Japan (CHIXJ)\n",
      "CME (GLOBEX)\n",
      "Canadian Securities Exchange (PURE)\n",
      "Cboe Futures Exchange (CFE)\n",
      "Chi-X Australia\n",
      "Chi-X Canada\n",
      "Chicago Board Options Exchange (CBOE)\n",
      "Chicago Stock Exchange (CHX)\n",
      "Direct Edge (DRCTEDGE)\n",
      "Direct Edge (EDGEA)\n",
      "ENEXT.BE\n",
      "EUREX (DTB)\n",
      "EUREX (SOFFEX)\n",
      "Euronext Brussels (BELFOX)\n",
      "Euronext France (MATIF)\n",
      "Euronext France (MONEP)\n",
      "Euronext France (SBF)\n",
      "Euronext NL Derivatives (FTA)\n",
      "Euronext NL Stocks (AEB)\n",
      "Frankfurt Stock Exchange (FWB)\n",
      "GETTEX\n",
      "Hong Kong Futures Exchange (HKFE)\n",
      "Hong Kong Stock Exchange (SEHK)\n",
      "ICE Futures U.S. (NYBOT)\n",
      "IEX\n",
      "Intercontinental Exchange (ICE/IPE)\n",
      "Intercontinental Exchange (ICEEU)\n",
      "Intercontinental Exchange (ICEEUSOFT)\n",
      "JAPANNEXT\n",
      "Knight BondPoint for US Government Securities\n",
      "Knight Securities\n",
      "Korea Stock Exchange (KSE)\n",
      "LSE ETF Exchange\n",
      "London Stock Exchange (LSE)\n",
      "Long-Term Stock Exchange (LTSE)\n",
      "MIAX Options Exchange\n",
      "MIAX PEARL\n",
      "Members Exchange (MEMX)\n",
      "Mexican Derivatives Exchange (MEXDER)\n",
      "Mexican Stock Exchange (MEXI)\n",
      "Montreal Exchange (CDE)\n",
      "Moscow Exchange\n",
      "NASDAQ (NASDAQ)\n",
      "NASDAQ OMX BX (BEX)\n",
      "NASDAQ OMX PSX (PSX)\n",
      "NASDAQ/Island\n",
      "NYSE American (AMEX)\n",
      "NYSE Arca (ARCA)\n",
      "NYSE Arca (PSE)\n",
      "NYSE Liffe US (NYSELIFFE)\n",
      "NYSE National\n",
      "Nasdaq OMX - Stockholm (OMS)\n",
      "National Stock Exchange of India (NSE)*\n",
      "New York Mercantile Exchange (NYMEX)\n",
      "New York Stock Exchange (NYSE)\n",
      "OMXNO\n",
      "OTC Markets Pink (PINK)\n",
      "Omega ATS (OMEGA)\n",
      "Osaka Exchange (OSE.JPN)\n",
      "Philadelphia Stock Exchange (PHLX)\n",
      "SIX Swiss Exchange (EBS)\n",
      "Shenzhen-Hong Kong Stock Connect (SEHKSZSE)\n",
      "Singapore Exchange (SGX)\n",
      "Spanish Futures & Options Exchange (MEFF)\n",
      "Stuttgart Stock Exchange (SWB)\n",
      "Swedish Stock Exchange (SFB)\n",
      "TSX Venture (VENTURE)\n",
      "Tel Aviv Stock Exchange\n",
      "Tokyo Stock Exchange (TSEJ)\n",
      "Toronto Stock Exchange (TSE)\n",
      "Tradegate Exchange (TRADEGATE)\n",
      "Turquoise (TRQXEN)\n",
      "Turquoise CH (TRQXCH)\n",
      "Turquoise DE (TRQXDE)\n",
      "Vienna Stock Exchange (VSE)\n",
      "Warsaw Stock Exchange\n",
      "XETRA (IBIS)\n"
     ]
    }
   ],
   "source": [
    "markets = sorted(symbols[\"market\"].unique())\n",
    "print(\"\\n\".join(markets))"
   ]
  },
  {
   "cell_type": "code",
   "execution_count": 30,
   "metadata": {
    "ExecuteTime": {
     "end_time": "2021-03-23T14:57:26.875098Z",
     "start_time": "2021-03-23T14:57:26.692817Z"
    }
   },
   "outputs": [
    {
     "name": "stdout",
     "output_type": "stream",
     "text": [
      "                                    product\n",
      "market                                     \n",
      "Bats Global Markets (BATS)            14073\n",
      "MIAX PEARL                            13749\n",
      "NYSE American (AMEX)                  13740\n",
      "Philadelphia Stock Exchange (PHLX)    13683\n",
      "Frankfurt Stock Exchange (FWB)        11109\n",
      "Stuttgart Stock Exchange (SWB)        10492\n",
      "NYSE Arca (ARCA)                      10260\n",
      "IEX                                   10255\n",
      "NASDAQ/Island                         10253\n",
      "Long-Term Stock Exchange (LTSE)       10252\n"
     ]
    },
    {
     "data": {
      "image/png": "[encoded data removed]",
      "text/plain": [
       "<Figure size 432x288 with 1 Axes>"
      ]
     },
     "metadata": {
      "needs_background": "light"
     },
     "output_type": "display_data"
    }
   ],
   "source": [
    "grouped = symbols.groupby(\"market\")\n",
    "\n",
    "count = grouped[[\"product\"]].count()\n",
    "count = count.sort_values(by=\"product\", ascending=False)\n",
    "\n",
    "count.plot()\n",
    "\n",
    "print(count.head(10))"
   ]
  },
  {
   "cell_type": "code",
   "execution_count": 53,
   "metadata": {
    "ExecuteTime": {
     "end_time": "2021-03-23T15:04:24.667471Z",
     "start_time": "2021-03-23T15:04:24.571888Z"
    }
   },
   "outputs": [
    {
     "name": "stdout",
     "output_type": "stream",
     "text": [
      "market= MIAX PEARL\n"
     ]
    },
    {
     "data": {
      "text/html": [
       "<div>\n",
       "<style scoped>\n",
       "    .dataframe tbody tr th:only-of-type {\n",
       "        vertical-align: middle;\n",
       "    }\n",
       "\n",
       "    .dataframe tbody tr th {\n",
       "        vertical-align: top;\n",
       "    }\n",
       "\n",
       "    .dataframe thead th {\n",
       "        text-align: right;\n",
       "    }\n",
       "</style>\n",
       "<table border=\"1\" class=\"dataframe\">\n",
       "  <thead>\n",
       "    <tr style=\"text-align: right;\">\n",
       "      <th></th>\n",
       "      <th>product</th>\n",
       "    </tr>\n",
       "    <tr>\n",
       "      <th>product</th>\n",
       "      <th></th>\n",
       "    </tr>\n",
       "  </thead>\n",
       "  <tbody>\n",
       "    <tr>\n",
       "      <th>ETFs</th>\n",
       "      <td>13749</td>\n",
       "    </tr>\n",
       "  </tbody>\n",
       "</table>\n",
       "</div>"
      ],
      "text/plain": [
       "         product\n",
       "product         \n",
       "ETFs       13749"
      ]
     },
     "execution_count": 53,
     "metadata": {},
     "output_type": "execute_result"
    }
   ],
   "source": [
    "idx = 0\n",
    "market = count.index[idx]\n",
    "print(\"market=\", market)\n",
    "mask = symbols[\"market\"] == market\n",
    "symbols_tmp = symbols[mask]\n",
    "\n",
    "grouped = symbols_tmp.groupby(\"product\")\n",
    "\n",
    "grouped[[\"product\"]].count()"
   ]
  },
  {
   "cell_type": "code",
   "execution_count": 51,
   "metadata": {
    "ExecuteTime": {
     "end_time": "2021-03-23T15:03:07.202915Z",
     "start_time": "2021-03-23T15:03:07.200063Z"
    }
   },
   "outputs": [],
   "source": [
    "pd.set_option(\"display.max_colwidth\", 100)"
   ]
  },
  {
   "cell_type": "code",
   "execution_count": 52,
   "metadata": {
    "ExecuteTime": {
     "end_time": "2021-03-23T15:03:08.785796Z",
     "start_time": "2021-03-23T15:03:08.771228Z"
    }
   },
   "outputs": [
    {
     "data": {
      "text/html": [
       "<div>\n",
       "<style scoped>\n",
       "    .dataframe tbody tr th:only-of-type {\n",
       "        vertical-align: middle;\n",
       "    }\n",
       "\n",
       "    .dataframe tbody tr th {\n",
       "        vertical-align: top;\n",
       "    }\n",
       "\n",
       "    .dataframe thead th {\n",
       "        text-align: right;\n",
       "    }\n",
       "</style>\n",
       "<table border=\"1\" class=\"dataframe\">\n",
       "  <thead>\n",
       "    <tr style=\"text-align: right;\">\n",
       "      <th></th>\n",
       "      <th>product</th>\n",
       "      <th>url</th>\n",
       "    </tr>\n",
       "  </thead>\n",
       "  <tbody>\n",
       "    <tr>\n",
       "      <th>255724</th>\n",
       "      <td>ETFs</td>\n",
       "      <td>https://ndcdyn.interactivebrokers.com/en/index.php?f=2222&amp;exch=bats&amp;showcategories=WAR</td>\n",
       "    </tr>\n",
       "    <tr>\n",
       "      <th>255725</th>\n",
       "      <td>ETFs</td>\n",
       "      <td>https://ndcdyn.interactivebrokers.com/en/index.php?f=2222&amp;exch=bats&amp;showcategories=WAR</td>\n",
       "    </tr>\n",
       "    <tr>\n",
       "      <th>255726</th>\n",
       "      <td>ETFs</td>\n",
       "      <td>https://ndcdyn.interactivebrokers.com/en/index.php?f=2222&amp;exch=bats&amp;showcategories=WAR</td>\n",
       "    </tr>\n",
       "    <tr>\n",
       "      <th>255727</th>\n",
       "      <td>ETFs</td>\n",
       "      <td>https://ndcdyn.interactivebrokers.com/en/index.php?f=2222&amp;exch=bats&amp;showcategories=WAR</td>\n",
       "    </tr>\n",
       "    <tr>\n",
       "      <th>255728</th>\n",
       "      <td>ETFs</td>\n",
       "      <td>https://ndcdyn.interactivebrokers.com/en/index.php?f=2222&amp;exch=bats&amp;showcategories=WAR</td>\n",
       "    </tr>\n",
       "    <tr>\n",
       "      <th>...</th>\n",
       "      <td>...</td>\n",
       "      <td>...</td>\n",
       "    </tr>\n",
       "    <tr>\n",
       "      <th>338416</th>\n",
       "      <td>ETFs</td>\n",
       "      <td>https://ndcdyn.interactivebrokers.com/en/index.php?f=2222&amp;exch=bats&amp;showcategories=STK&amp;p=&amp;cc=&amp;li...</td>\n",
       "    </tr>\n",
       "    <tr>\n",
       "      <th>338417</th>\n",
       "      <td>ETFs</td>\n",
       "      <td>https://ndcdyn.interactivebrokers.com/en/index.php?f=2222&amp;exch=bats&amp;showcategories=STK&amp;p=&amp;cc=&amp;li...</td>\n",
       "    </tr>\n",
       "    <tr>\n",
       "      <th>338418</th>\n",
       "      <td>ETFs</td>\n",
       "      <td>https://ndcdyn.interactivebrokers.com/en/index.php?f=2222&amp;exch=bats&amp;showcategories=STK&amp;p=&amp;cc=&amp;li...</td>\n",
       "    </tr>\n",
       "    <tr>\n",
       "      <th>338419</th>\n",
       "      <td>ETFs</td>\n",
       "      <td>https://ndcdyn.interactivebrokers.com/en/index.php?f=2222&amp;exch=bats&amp;showcategories=STK&amp;p=&amp;cc=&amp;li...</td>\n",
       "    </tr>\n",
       "    <tr>\n",
       "      <th>338420</th>\n",
       "      <td>ETFs</td>\n",
       "      <td>https://ndcdyn.interactivebrokers.com/en/index.php?f=2222&amp;exch=bats&amp;showcategories=STK&amp;p=&amp;cc=&amp;li...</td>\n",
       "    </tr>\n",
       "  </tbody>\n",
       "</table>\n",
       "<p>14073 rows Ã 2 columns</p>\n",
       "</div>"
      ],
      "text/plain": [
       "       product  \\\n",
       "255724    ETFs   \n",
       "255725    ETFs   \n",
       "255726    ETFs   \n",
       "255727    ETFs   \n",
       "255728    ETFs   \n",
       "...        ...   \n",
       "338416    ETFs   \n",
       "338417    ETFs   \n",
       "338418    ETFs   \n",
       "338419    ETFs   \n",
       "338420    ETFs   \n",
       "\n",
       "                                                                                                        url  \n",
       "255724               https://ndcdyn.interactivebrokers.com/en/index.php?f=2222&exch=bats&showcategories=WAR  \n",
       "255725               https://ndcdyn.interactivebrokers.com/en/index.php?f=2222&exch=bats&showcategories=WAR  \n",
       "255726               https://ndcdyn.interactivebrokers.com/en/index.php?f=2222&exch=bats&showcategories=WAR  \n",
       "255727               https://ndcdyn.interactivebrokers.com/en/index.php?f=2222&exch=bats&showcategories=WAR  \n",
       "255728               https://ndcdyn.interactivebrokers.com/en/index.php?f=2222&exch=bats&showcategories=WAR  \n",
       "...                                                                                                     ...  \n",
       "338416  https://ndcdyn.interactivebrokers.com/en/index.php?f=2222&exch=bats&showcategories=STK&p=&cc=&li...  \n",
       "338417  https://ndcdyn.interactivebrokers.com/en/index.php?f=2222&exch=bats&showcategories=STK&p=&cc=&li...  \n",
       "338418  https://ndcdyn.interactivebrokers.com/en/index.php?f=2222&exch=bats&showcategories=STK&p=&cc=&li...  \n",
       "338419  https://ndcdyn.interactivebrokers.com/en/index.php?f=2222&exch=bats&showcategories=STK&p=&cc=&li...  \n",
       "338420  https://ndcdyn.interactivebrokers.com/en/index.php?f=2222&exch=bats&showcategories=STK&p=&cc=&li...  \n",
       "\n",
       "[14073 rows x 2 columns]"
      ]
     },
     "execution_count": 52,
     "metadata": {},
     "output_type": "execute_result"
    }
   ],
   "source": [
    "symbols_tmp[[\"product\", \"url\"]]"
   ]
  },
  {
   "cell_type": "code",
   "execution_count": 43,
   "metadata": {
    "ExecuteTime": {
     "end_time": "2021-03-23T15:00:57.240933Z",
     "start_time": "2021-03-23T15:00:57.234090Z"
    }
   },
   "outputs": [
    {
     "data": {
      "text/plain": [
       "array(['https://ndcdyn.interactivebrokers.com/en/index.php?f=2222&exch=bats&showcategories=WAR',\n",
       "       'https://ndcdyn.interactivebrokers.com/en/index.php?f=2222&exch=bats&showcategories=WAR',\n",
       "       'https://ndcdyn.interactivebrokers.com/en/index.php?f=2222&exch=bats&showcategories=WAR',\n",
       "       ...,\n",
       "       'https://ndcdyn.interactivebrokers.com/en/index.php?f=2222&exch=bats&showcategories=STK&p=&cc=&limit=100&page=97',\n",
       "       'https://ndcdyn.interactivebrokers.com/en/index.php?f=2222&exch=bats&showcategories=STK&p=&cc=&limit=100&page=97',\n",
       "       'https://ndcdyn.interactivebrokers.com/en/index.php?f=2222&exch=bats&showcategories=STK&p=&cc=&limit=100&page=97'],\n",
       "      dtype=object)"
      ]
     },
     "execution_count": 43,
     "metadata": {},
     "output_type": "execute_result"
    }
   ],
   "source": [
    "symbols_tmp[\"url\"].values"
   ]
  },
  {
   "cell_type": "code",
   "execution_count": null,
   "metadata": {},
   "outputs": [],
   "source": []
  }
 ],
 "metadata": {
  "kernelspec": {
   "display_name": "Python [conda env:venv] *",
   "language": "python",
   "name": "conda-env-venv-py"
  },
  "language_info": {
   "codemirror_mode": {
    "name": "ipython",
    "version": 3
   },
   "file_extension": ".py",
   "mimetype": "text/x-python",
   "name": "python",
   "nbconvert_exporter": "python",
   "pygments_lexer": "ipython3",
   "version": "3.7.10"
  },
  "toc": {
   "base_numbering": 1,
   "nav_menu": {},
   "number_sections": true,
   "sideBar": true,
   "skip_h1_title": false,
   "title_cell": "Table of Contents",
   "title_sidebar": "Contents",
   "toc_cell": false,
   "toc_position": {},
   "toc_section_display": true,
   "toc_window_display": false
  }
 },
 "nbformat": 4,
 "nbformat_minor": 4
}
