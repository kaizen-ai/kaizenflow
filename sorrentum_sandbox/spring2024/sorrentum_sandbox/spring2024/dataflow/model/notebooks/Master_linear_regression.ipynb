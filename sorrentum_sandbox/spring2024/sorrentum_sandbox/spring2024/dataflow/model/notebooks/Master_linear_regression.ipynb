{
 "cells": [
  {
   "cell_type": "code",
   "execution_count": 1,
   "id": "22978811",
   "metadata": {
    "ExecuteTime": {
     "end_time": "2024-05-10T15:32:18.381186Z",
     "start_time": "2024-05-10T15:32:18.366268Z"
    }
   },
   "outputs": [],
   "source": [
    "%load_ext autoreload\n",
    "%autoreload 2"
   ]
  },
  {
   "cell_type": "markdown",
   "id": "daa71bd7",
   "metadata": {},
   "source": [
    "# Imports"
   ]
  },
  {
   "cell_type": "code",
   "execution_count": 2,
   "id": "df67a728",
   "metadata": {
    "ExecuteTime": {
     "end_time": "2024-05-10T15:32:26.479314Z",
     "start_time": "2024-05-10T15:32:18.382810Z"
    }
   },
   "outputs": [
    {
     "name": "stderr",
     "output_type": "stream",
     "text": [
      "/app/core/signal_processing/decorrelation.py:12: TqdmExperimentalWarning: Using `tqdm.autonotebook.tqdm` in notebook mode. Use `tqdm.tqdm` instead to force console mode (e.g. in jupyter console)\n",
      "  from tqdm.autonotebook import tqdm\n",
      "\u001b[33mWARNING\u001b[0m: No module named 'gluonts'\n",
      "\u001b[33mWARNING\u001b[0m: No module named 'gluonts'\n",
      "Don't recognize host: host_os_name=Linux, am_host_os_name=Linux\n"
     ]
    }
   ],
   "source": [
    "import logging\n",
    "import os\n",
    "\n",
    "import pandas as pd\n",
    "\n",
    "import core.config as cconfig\n",
    "import core.signal_processing as csigproc\n",
    "import core.statistics as costatis\n",
    "import dataflow.model as dtfmod\n",
    "import helpers.hdbg as hdbg\n",
    "import helpers.henv as henv\n",
    "import helpers.hgit as hgit\n",
    "import helpers.hparquet as hparque\n",
    "import helpers.hprint as hprint"
   ]
  },
  {
   "cell_type": "code",
   "execution_count": 3,
   "id": "37f34eb3",
   "metadata": {
    "ExecuteTime": {
     "end_time": "2024-05-10T15:32:26.646872Z",
     "start_time": "2024-05-10T15:32:26.482030Z"
    }
   },
   "outputs": [
    {
     "name": "stdout",
     "output_type": "stream",
     "text": [
      "\u001b[0mWARNING: Running in Jupyter\n",
      "INFO  > cmd='/venv/lib/python3.9/site-packages/ipykernel_launcher.py -f /home/.local/share/jupyter/runtime/kernel-2ee78aa0-2077-4a22-b886-d7010a5a1e9a.json'\n",
      "INFO  # Git\n",
      "  branch_name='CMTask8171_add_vol_bps_to_linear_regression_notebook'\n",
      "  hash='564ff2d7a'\n",
      "  # Last commits:\n",
      "    * 564ff2d7a Toma Jordania CmTask8033: update scheduled trading doc (#8255)                  (   4 hours ago) Fri May 10 11:30:00 2024  (HEAD -> CMTask8171_add_vol_bps_to_linear_regression_notebook, origin/master, origin/HEAD, origin/CMTask8171_add_vol_bps_to_linear_regression_notebook, master)\n",
      "    * 3619a215f Juraj Smeriga CmampTask8090_Document_current_infra_state (#8152)                (   7 hours ago) Fri May 10 08:33:25 2024           \n",
      "    * a71e048e7 Toma Jordania CmTask8230: propagate save_plots_for_investors t (#8232)          (  10 hours ago) Fri May 10 05:48:45 2024           \n",
      "# Machine info\n",
      "  system=Linux\n",
      "  node name=ba391fd7a4a1\n",
      "  release=5.15.0-1058-aws\n",
      "  version=#64~20.04.1-Ubuntu SMP Tue Apr 9 11:12:27 UTC 2024\n",
      "  machine=x86_64\n",
      "  processor=x86_64\n",
      "  cpu count=8\n",
      "  cpu freq=scpufreq(current=2499.998, min=0.0, max=0.0)\n",
      "  memory=svmem(total=33280274432, available=29822251008, percent=10.4, used=2973057024, free=25255940096, active=1740648448, inactive=4977426432, buffers=769187840, cached=4282089472, shared=9678848, slab=1019293696)\n",
      "  disk usage=sdiskusage(total=218506772480, used=107948863488, free=110541131776, percent=49.4)\n",
      "# Packages\n",
      "  python: 3.9.5\n",
      "  cvxopt: 1.3.2\n",
      "  cvxpy: 1.4.2\n",
      "  gluonnlp: ?\n",
      "  gluonts: ?\n",
      "  joblib: 1.3.2\n",
      "  mxnet: ?\n",
      "  numpy: 1.26.0\n",
      "  pandas: 2.1.1\n",
      "  pyarrow: 15.0.0\n",
      "  scipy: 1.11.3\n",
      "  seaborn: 0.13.0\n",
      "  sklearn: 1.3.1\n",
      "  statsmodels: 0.14.0\n"
     ]
    }
   ],
   "source": [
    "hdbg.init_logger(verbosity=logging.INFO)\n",
    "\n",
    "_LOG = logging.getLogger(__name__)\n",
    "\n",
    "_LOG.info(\"%s\", henv.get_system_signature()[0])\n",
    "\n",
    "hprint.config_notebook()"
   ]
  },
  {
   "cell_type": "markdown",
   "id": "60c016f1",
   "metadata": {},
   "source": [
    "# Build config"
   ]
  },
  {
   "cell_type": "code",
   "execution_count": 4,
   "id": "9769cc80",
   "metadata": {
    "ExecuteTime": {
     "end_time": "2024-05-10T15:32:26.753888Z",
     "start_time": "2024-05-10T15:32:26.651001Z"
    },
    "run_control": {
     "marked": true
    }
   },
   "outputs": [
    {
     "name": "stdout",
     "output_type": "stream",
     "text": [
      "dir_name: /shared_data/backtest.danya/build_tile_configs.C11a.ccxt_v8_1-all.60T.2023-08-01_2024-01-31.ins.run0/tiled_results\n",
      "asset_id_col: asset_id\n",
      "feature_col_names: ['p1.c', 'p2.c', 'p_lr.c', 'q1.c', 'q2.c', 'q3.c', 'r1.c', 'r2.c', 'r4.c', 'r5.c', 'r6.c', 'r_lr.c', 'v_ld.c']\n",
      "price_col_name: close\n",
      "regression_config: \n",
      "  x_cols: ['p1.c', 'p2.c', 'p_lr.c', 'q1.c', 'q2.c', 'q3.c', 'r1.c', 'r2.c', 'r4.c', 'r5.c', 'r6.c', 'r_lr.c', 'v_ld.c']\n",
      "  x_col_shift: 1\n"
     ]
    }
   ],
   "source": [
    "amp_dir = hgit.get_amp_abs_path()\n",
    "dir_name = os.path.join(\n",
    "    amp_dir,\n",
    "    \"/shared_data/backtest.danya/build_tile_configs.C11a.ccxt_v8_1-all.60T.2023-08-01_2024-01-31.ins.run0/tiled_results\",\n",
    ")\n",
    "cols = [\n",
    "    \"p1.c\",\n",
    "    \"p2.c\",\n",
    "    \"p_lr.c\",\n",
    "    \"q1.c\",\n",
    "    \"q2.c\",\n",
    "    \"q3.c\",\n",
    "    \"r1.c\",\n",
    "    \"r2.c\",\n",
    "    \"r4.c\",\n",
    "    \"r5.c\",\n",
    "    \"r6.c\",\n",
    "    \"r_lr.c\",\n",
    "    \"v_ld.c\",\n",
    "]\n",
    "\n",
    "config = {\n",
    "    \"dir_name\": dir_name,\n",
    "    \"asset_id_col\": \"asset_id\",\n",
    "    \"feature_col_names\": cols,\n",
    "    \"price_col_name\": \"close\",\n",
    "    \"regression_config\": {\n",
    "        \"x_cols\": cols,\n",
    "        \"x_col_shift\": 1,\n",
    "    },\n",
    "}\n",
    "config = cconfig.Config().from_dict(config)\n",
    "print(config)"
   ]
  },
  {
   "cell_type": "markdown",
   "id": "2d4b73da",
   "metadata": {},
   "source": [
    "# Report tile metadata"
   ]
  },
  {
   "cell_type": "code",
   "execution_count": 5,
   "id": "701e6e11",
   "metadata": {
    "ExecuteTime": {
     "end_time": "2024-05-10T15:32:26.930578Z",
     "start_time": "2024-05-10T15:32:26.756411Z"
    }
   },
   "outputs": [],
   "source": [
    "parquet_tile_analyzer = dtfmod.ParquetTileAnalyzer()\n",
    "parquet_tile_metadata = parquet_tile_analyzer.collate_parquet_tile_metadata(\n",
    "    config[\"dir_name\"]\n",
    ")"
   ]
  },
  {
   "cell_type": "code",
   "execution_count": 6,
   "id": "4b56cecb",
   "metadata": {
    "ExecuteTime": {
     "end_time": "2024-05-10T15:32:26.984010Z",
     "start_time": "2024-05-10T15:32:26.932410Z"
    }
   },
   "outputs": [
    {
     "data": {
      "text/html": [
       "<div>\n",
       "<style scoped>\n",
       "    .dataframe tbody tr th:only-of-type {\n",
       "        vertical-align: middle;\n",
       "    }\n",
       "\n",
       "    .dataframe tbody tr th {\n",
       "        vertical-align: top;\n",
       "    }\n",
       "\n",
       "    .dataframe thead th {\n",
       "        text-align: right;\n",
       "    }\n",
       "</style>\n",
       "<table border=\"1\" class=\"dataframe\">\n",
       "  <thead>\n",
       "    <tr style=\"text-align: right;\">\n",
       "      <th></th>\n",
       "      <th>n_years</th>\n",
       "      <th>n_unique_months</th>\n",
       "      <th>n_files</th>\n",
       "      <th>size</th>\n",
       "    </tr>\n",
       "    <tr>\n",
       "      <th>asset_id</th>\n",
       "      <th></th>\n",
       "      <th></th>\n",
       "      <th></th>\n",
       "      <th></th>\n",
       "    </tr>\n",
       "  </thead>\n",
       "  <tbody>\n",
       "    <tr>\n",
       "      <th>1020313424</th>\n",
       "      <td>2</td>\n",
       "      <td>6</td>\n",
       "      <td>6</td>\n",
       "      <td>3.3 MB</td>\n",
       "    </tr>\n",
       "    <tr>\n",
       "      <th>1106736216</th>\n",
       "      <td>2</td>\n",
       "      <td>6</td>\n",
       "      <td>6</td>\n",
       "      <td>3.3 MB</td>\n",
       "    </tr>\n",
       "    <tr>\n",
       "      <th>1669260535</th>\n",
       "      <td>2</td>\n",
       "      <td>6</td>\n",
       "      <td>6</td>\n",
       "      <td>3.3 MB</td>\n",
       "    </tr>\n",
       "    <tr>\n",
       "      <th>1670436375</th>\n",
       "      <td>2</td>\n",
       "      <td>6</td>\n",
       "      <td>6</td>\n",
       "      <td>3.3 MB</td>\n",
       "    </tr>\n",
       "    <tr>\n",
       "      <th>1775391824</th>\n",
       "      <td>2</td>\n",
       "      <td>6</td>\n",
       "      <td>6</td>\n",
       "      <td>3.3 MB</td>\n",
       "    </tr>\n",
       "    <tr>\n",
       "      <th>1813442534</th>\n",
       "      <td>2</td>\n",
       "      <td>6</td>\n",
       "      <td>6</td>\n",
       "      <td>3.3 MB</td>\n",
       "    </tr>\n",
       "    <tr>\n",
       "      <th>1871387621</th>\n",
       "      <td>2</td>\n",
       "      <td>6</td>\n",
       "      <td>6</td>\n",
       "      <td>3.2 MB</td>\n",
       "    </tr>\n",
       "    <tr>\n",
       "      <th>2200033667</th>\n",
       "      <td>2</td>\n",
       "      <td>6</td>\n",
       "      <td>6</td>\n",
       "      <td>3.3 MB</td>\n",
       "    </tr>\n",
       "    <tr>\n",
       "      <th>2237530510</th>\n",
       "      <td>2</td>\n",
       "      <td>6</td>\n",
       "      <td>6</td>\n",
       "      <td>3.2 MB</td>\n",
       "    </tr>\n",
       "    <tr>\n",
       "      <th>2470395105</th>\n",
       "      <td>2</td>\n",
       "      <td>6</td>\n",
       "      <td>6</td>\n",
       "      <td>3.3 MB</td>\n",
       "    </tr>\n",
       "    <tr>\n",
       "      <th>2499295598</th>\n",
       "      <td>2</td>\n",
       "      <td>6</td>\n",
       "      <td>6</td>\n",
       "      <td>3.3 MB</td>\n",
       "    </tr>\n",
       "    <tr>\n",
       "      <th>2506553600</th>\n",
       "      <td>2</td>\n",
       "      <td>6</td>\n",
       "      <td>6</td>\n",
       "      <td>3.3 MB</td>\n",
       "    </tr>\n",
       "    <tr>\n",
       "      <th>2565005155</th>\n",
       "      <td>2</td>\n",
       "      <td>6</td>\n",
       "      <td>6</td>\n",
       "      <td>3.3 MB</td>\n",
       "    </tr>\n",
       "    <tr>\n",
       "      <th>2601760471</th>\n",
       "      <td>2</td>\n",
       "      <td>6</td>\n",
       "      <td>6</td>\n",
       "      <td>3.2 MB</td>\n",
       "    </tr>\n",
       "    <tr>\n",
       "      <th>2971863517</th>\n",
       "      <td>2</td>\n",
       "      <td>6</td>\n",
       "      <td>6</td>\n",
       "      <td>3.3 MB</td>\n",
       "    </tr>\n",
       "    <tr>\n",
       "      <th>2989693852</th>\n",
       "      <td>2</td>\n",
       "      <td>6</td>\n",
       "      <td>6</td>\n",
       "      <td>3.3 MB</td>\n",
       "    </tr>\n",
       "    <tr>\n",
       "      <th>3304664847</th>\n",
       "      <td>2</td>\n",
       "      <td>6</td>\n",
       "      <td>6</td>\n",
       "      <td>3.2 MB</td>\n",
       "    </tr>\n",
       "    <tr>\n",
       "      <th>3323452427</th>\n",
       "      <td>2</td>\n",
       "      <td>6</td>\n",
       "      <td>6</td>\n",
       "      <td>3.3 MB</td>\n",
       "    </tr>\n",
       "    <tr>\n",
       "      <th>3326458212</th>\n",
       "      <td>2</td>\n",
       "      <td>6</td>\n",
       "      <td>6</td>\n",
       "      <td>3.3 MB</td>\n",
       "    </tr>\n",
       "    <tr>\n",
       "      <th>4417972573</th>\n",
       "      <td>2</td>\n",
       "      <td>6</td>\n",
       "      <td>6</td>\n",
       "      <td>3.3 MB</td>\n",
       "    </tr>\n",
       "    <tr>\n",
       "      <th>5141755262</th>\n",
       "      <td>2</td>\n",
       "      <td>6</td>\n",
       "      <td>6</td>\n",
       "      <td>3.3 MB</td>\n",
       "    </tr>\n",
       "    <tr>\n",
       "      <th>6009830573</th>\n",
       "      <td>2</td>\n",
       "      <td>6</td>\n",
       "      <td>6</td>\n",
       "      <td>3.3 MB</td>\n",
       "    </tr>\n",
       "    <tr>\n",
       "      <th>6335759645</th>\n",
       "      <td>2</td>\n",
       "      <td>6</td>\n",
       "      <td>6</td>\n",
       "      <td>3.2 MB</td>\n",
       "    </tr>\n",
       "    <tr>\n",
       "      <th>8717633868</th>\n",
       "      <td>2</td>\n",
       "      <td>6</td>\n",
       "      <td>6</td>\n",
       "      <td>3.3 MB</td>\n",
       "    </tr>\n",
       "    <tr>\n",
       "      <th>8968126878</th>\n",
       "      <td>2</td>\n",
       "      <td>6</td>\n",
       "      <td>6</td>\n",
       "      <td>3.2 MB</td>\n",
       "    </tr>\n",
       "  </tbody>\n",
       "</table>\n",
       "</div>"
      ],
      "text/plain": [
       "            n_years  n_unique_months  n_files    size\n",
       "asset_id                                             \n",
       "1020313424        2                6        6  3.3 MB\n",
       "1106736216        2                6        6  3.3 MB\n",
       "1669260535        2                6        6  3.3 MB\n",
       "1670436375        2                6        6  3.3 MB\n",
       "1775391824        2                6        6  3.3 MB\n",
       "1813442534        2                6        6  3.3 MB\n",
       "1871387621        2                6        6  3.2 MB\n",
       "2200033667        2                6        6  3.3 MB\n",
       "2237530510        2                6        6  3.2 MB\n",
       "2470395105        2                6        6  3.3 MB\n",
       "2499295598        2                6        6  3.3 MB\n",
       "2506553600        2                6        6  3.3 MB\n",
       "2565005155        2                6        6  3.3 MB\n",
       "2601760471        2                6        6  3.2 MB\n",
       "2971863517        2                6        6  3.3 MB\n",
       "2989693852        2                6        6  3.3 MB\n",
       "3304664847        2                6        6  3.2 MB\n",
       "3323452427        2                6        6  3.3 MB\n",
       "3326458212        2                6        6  3.3 MB\n",
       "4417972573        2                6        6  3.3 MB\n",
       "5141755262        2                6        6  3.3 MB\n",
       "6009830573        2                6        6  3.3 MB\n",
       "6335759645        2                6        6  3.2 MB\n",
       "8717633868        2                6        6  3.3 MB\n",
       "8968126878        2                6        6  3.2 MB"
      ]
     },
     "execution_count": 6,
     "metadata": {},
     "output_type": "execute_result"
    }
   ],
   "source": [
    "parquet_tile_analyzer.compute_metadata_stats_by_asset_id(parquet_tile_metadata)"
   ]
  },
  {
   "cell_type": "code",
   "execution_count": 7,
   "id": "846e098b",
   "metadata": {
    "ExecuteTime": {
     "end_time": "2024-05-10T15:32:27.023512Z",
     "start_time": "2024-05-10T15:32:26.985858Z"
    }
   },
   "outputs": [
    {
     "data": {
      "text/html": [
       "<div>\n",
       "<style scoped>\n",
       "    .dataframe tbody tr th:only-of-type {\n",
       "        vertical-align: middle;\n",
       "    }\n",
       "\n",
       "    .dataframe tbody tr th {\n",
       "        vertical-align: top;\n",
       "    }\n",
       "\n",
       "    .dataframe thead th {\n",
       "        text-align: right;\n",
       "    }\n",
       "</style>\n",
       "<table border=\"1\" class=\"dataframe\">\n",
       "  <thead>\n",
       "    <tr style=\"text-align: right;\">\n",
       "      <th></th>\n",
       "      <th></th>\n",
       "      <th>n_asset_ids</th>\n",
       "      <th>size</th>\n",
       "    </tr>\n",
       "    <tr>\n",
       "      <th>year</th>\n",
       "      <th>month</th>\n",
       "      <th></th>\n",
       "      <th></th>\n",
       "    </tr>\n",
       "  </thead>\n",
       "  <tbody>\n",
       "    <tr>\n",
       "      <th rowspan=\"5\" valign=\"top\">2023</th>\n",
       "      <th>8</th>\n",
       "      <td>25</td>\n",
       "      <td>13.8 MB</td>\n",
       "    </tr>\n",
       "    <tr>\n",
       "      <th>9</th>\n",
       "      <td>25</td>\n",
       "      <td>13.4 MB</td>\n",
       "    </tr>\n",
       "    <tr>\n",
       "      <th>10</th>\n",
       "      <td>25</td>\n",
       "      <td>13.8 MB</td>\n",
       "    </tr>\n",
       "    <tr>\n",
       "      <th>11</th>\n",
       "      <td>25</td>\n",
       "      <td>13.3 MB</td>\n",
       "    </tr>\n",
       "    <tr>\n",
       "      <th>12</th>\n",
       "      <td>25</td>\n",
       "      <td>13.8 MB</td>\n",
       "    </tr>\n",
       "    <tr>\n",
       "      <th>2024</th>\n",
       "      <th>1</th>\n",
       "      <td>25</td>\n",
       "      <td>13.7 MB</td>\n",
       "    </tr>\n",
       "  </tbody>\n",
       "</table>\n",
       "</div>"
      ],
      "text/plain": [
       "            n_asset_ids     size\n",
       "year month                      \n",
       "2023 8               25  13.8 MB\n",
       "     9               25  13.4 MB\n",
       "     10              25  13.8 MB\n",
       "     11              25  13.3 MB\n",
       "     12              25  13.8 MB\n",
       "2024 1               25  13.7 MB"
      ]
     },
     "execution_count": 7,
     "metadata": {},
     "output_type": "execute_result"
    }
   ],
   "source": [
    "parquet_tile_analyzer.compute_universe_size_by_time(parquet_tile_metadata)"
   ]
  },
  {
   "cell_type": "code",
   "execution_count": 8,
   "id": "3182aed8",
   "metadata": {
    "ExecuteTime": {
     "end_time": "2024-05-10T15:32:27.058065Z",
     "start_time": "2024-05-10T15:32:27.025088Z"
    }
   },
   "outputs": [
    {
     "data": {
      "text/plain": [
       "[1020313424,\n",
       " 1106736216,\n",
       " 1669260535,\n",
       " 1670436375,\n",
       " 1775391824,\n",
       " 1813442534,\n",
       " 1871387621,\n",
       " 2200033667,\n",
       " 2237530510,\n",
       " 2470395105,\n",
       " 2499295598,\n",
       " 2506553600,\n",
       " 2565005155,\n",
       " 2601760471,\n",
       " 2971863517,\n",
       " 2989693852,\n",
       " 3304664847,\n",
       " 3323452427,\n",
       " 3326458212,\n",
       " 4417972573,\n",
       " 5141755262,\n",
       " 6009830573,\n",
       " 6335759645,\n",
       " 8717633868,\n",
       " 8968126878]"
      ]
     },
     "metadata": {},
     "output_type": "display_data"
    }
   ],
   "source": [
    "asset_ids = parquet_tile_metadata.index.levels[0].to_list()\n",
    "display(asset_ids)"
   ]
  },
  {
   "cell_type": "markdown",
   "id": "4f17192d",
   "metadata": {},
   "source": [
    "# Load features"
   ]
  },
  {
   "cell_type": "code",
   "execution_count": 9,
   "id": "9802b0d9",
   "metadata": {
    "ExecuteTime": {
     "end_time": "2024-05-10T15:32:27.092112Z",
     "start_time": "2024-05-10T15:32:27.059781Z"
    }
   },
   "outputs": [],
   "source": [
    "asset_batch_size = len(asset_ids)\n",
    "# Add the `asset_id_col` to also display the instruments. This is also required\n",
    "# to make `yield_parquet_tiles_by_assets()` work.\n",
    "requested_columns = [config[\"asset_id_col\"]] + config[\"feature_col_names\"]\n",
    "tile_iter = hparque.yield_parquet_tiles_by_assets(\n",
    "    config[\"dir_name\"], asset_ids, config[\"asset_id_col\"], asset_batch_size, None\n",
    ")"
   ]
  },
  {
   "cell_type": "code",
   "execution_count": 10,
   "id": "c312a3d3",
   "metadata": {
    "ExecuteTime": {
     "end_time": "2024-05-10T15:32:27.527194Z",
     "start_time": "2024-05-10T15:32:27.093934Z"
    }
   },
   "outputs": [
    {
     "data": {
      "application/vnd.jupyter.widget-view+json": {
       "model_id": "c96dd2e463f44540bdc23c15376552ee",
       "version_major": 2,
       "version_minor": 0
      },
      "text/plain": [
       "  0%|          | 0/1 [00:00<?, ?it/s]"
      ]
     },
     "metadata": {},
     "output_type": "display_data"
    }
   ],
   "source": [
    "tile = next(tile_iter)"
   ]
  },
  {
   "cell_type": "code",
   "execution_count": 11,
   "id": "d910f7d9",
   "metadata": {
    "ExecuteTime": {
     "end_time": "2024-05-10T15:32:27.627810Z",
     "start_time": "2024-05-10T15:32:27.529090Z"
    }
   },
   "outputs": [],
   "source": [
    "feature_df = dtfmod.process_parquet_read_df(\n",
    "    tile[config[\"feature_col_names\"] + [config[\"asset_id_col\"]]],\n",
    "    config[\"asset_id_col\"],\n",
    ")"
   ]
  },
  {
   "cell_type": "markdown",
   "id": "c206739a",
   "metadata": {},
   "source": [
    "# Generate target"
   ]
  },
  {
   "cell_type": "code",
   "execution_count": 12,
   "id": "3b1a3439",
   "metadata": {
    "ExecuteTime": {
     "end_time": "2024-05-10T15:32:27.663436Z",
     "start_time": "2024-05-10T15:32:27.629603Z"
    }
   },
   "outputs": [],
   "source": [
    "asset_batch_size = len(asset_ids)\n",
    "# Add the `asset_id_col` to also display the instruments. This is also required\n",
    "# to make `yield_parquet_tiles_by_assets()` work.\n",
    "requested_columns = [config[\"asset_id_col\"]] + [config[\"price_col_name\"]]\n",
    "tile_iter = hparque.yield_parquet_tiles_by_assets(\n",
    "    config[\"dir_name\"], asset_ids, config[\"asset_id_col\"], asset_batch_size, None\n",
    ")"
   ]
  },
  {
   "cell_type": "code",
   "execution_count": 13,
   "id": "5f98db2c",
   "metadata": {
    "ExecuteTime": {
     "end_time": "2024-05-10T15:32:28.075513Z",
     "start_time": "2024-05-10T15:32:27.666723Z"
    }
   },
   "outputs": [
    {
     "data": {
      "application/vnd.jupyter.widget-view+json": {
       "model_id": "f6986809e8f14b7dacd32954947d7096",
       "version_major": 2,
       "version_minor": 0
      },
      "text/plain": [
       "  0%|          | 0/1 [00:00<?, ?it/s]"
      ]
     },
     "metadata": {},
     "output_type": "display_data"
    }
   ],
   "source": [
    "tile = next(tile_iter)"
   ]
  },
  {
   "cell_type": "code",
   "execution_count": 14,
   "id": "28e2c6e9",
   "metadata": {
    "ExecuteTime": {
     "end_time": "2024-05-10T15:32:28.140040Z",
     "start_time": "2024-05-10T15:32:28.077369Z"
    }
   },
   "outputs": [],
   "source": [
    "price_df = dtfmod.process_parquet_read_df(\n",
    "    tile[[config[\"price_col_name\"]] + [config[\"asset_id_col\"]]],\n",
    "    config[\"asset_id_col\"],\n",
    ")"
   ]
  },
  {
   "cell_type": "code",
   "execution_count": 15,
   "id": "ad9f95dd",
   "metadata": {
    "ExecuteTime": {
     "end_time": "2024-05-10T15:32:28.192156Z",
     "start_time": "2024-05-10T15:32:28.141807Z"
    }
   },
   "outputs": [],
   "source": [
    "rets_df = price_df.pct_change()\n",
    "rets_df = rets_df.rename(mapper={\"close\": \"rets\"}, axis=1, level=0)\n",
    "vol_df = rets_df.rolling(30).std()\n",
    "zrets_df = csigproc.compress_tails(\n",
    "    rets_df / vol_df.shift(config[\"regression_config\"][\"x_col_shift\"]), 4\n",
    ")\n",
    "zrets_df = zrets_df.rename(mapper={\"rets\": \"zrets\"}, axis=1, level=0)"
   ]
  },
  {
   "cell_type": "code",
   "execution_count": 16,
   "id": "a47916f9",
   "metadata": {
    "ExecuteTime": {
     "end_time": "2024-05-10T15:32:28.633954Z",
     "start_time": "2024-05-10T15:32:28.193870Z"
    }
   },
   "outputs": [
    {
     "data": {
      "text/plain": [
       "array([[<Axes: title={'center': 'zrets'}>]], dtype=object)"
      ]
     },
     "execution_count": 16,
     "metadata": {},
     "output_type": "execute_result"
    },
    {
     "data": {
      "image/png": "[encoded data removed]",
      "text/plain": [
       "<Figure size 2000x500 with 1 Axes>"
      ]
     },
     "metadata": {},
     "output_type": "display_data"
    }
   ],
   "source": [
    "zrets_df.stack().hist(bins=31)"
   ]
  },
  {
   "cell_type": "code",
   "execution_count": 27,
   "id": "03801687",
   "metadata": {
    "ExecuteTime": {
     "end_time": "2024-05-10T15:33:02.263623Z",
     "start_time": "2024-05-10T15:33:02.227479Z"
    }
   },
   "outputs": [
    {
     "data": {
      "text/plain": [
       "93.21382094459739"
      ]
     },
     "execution_count": 27,
     "metadata": {},
     "output_type": "execute_result"
    }
   ],
   "source": [
    "# Approximate total volatility in bps.\n",
    "1e4 * vol_df.mean().mean()"
   ]
  },
  {
   "cell_type": "code",
   "execution_count": 18,
   "id": "432fe3e0",
   "metadata": {
    "ExecuteTime": {
     "end_time": "2024-05-10T15:32:28.707771Z",
     "start_time": "2024-05-10T15:32:28.673439Z"
    }
   },
   "outputs": [
    {
     "data": {
      "text/plain": [
       "      asset_id  \n",
       "rets  1020313424     93.671944\n",
       "      1106736216     95.333454\n",
       "      1669260535    100.485251\n",
       "      1670436375     96.798958\n",
       "      1775391824    100.468553\n",
       "      1813442534     81.865321\n",
       "      1871387621     69.042301\n",
       "      2200033667    161.641840\n",
       "      2237530510     94.821538\n",
       "      2470395105     47.215165\n",
       "      2499295598     98.705587\n",
       "      2506553600    106.170354\n",
       "      2565005155    106.290108\n",
       "      2601760471     79.943809\n",
       "      2971863517    112.971553\n",
       "      2989693852    105.451052\n",
       "      3304664847     67.405211\n",
       "      3323452427     63.452939\n",
       "      3326458212    108.721338\n",
       "      4417972573     93.499866\n",
       "      5141755262     86.988835\n",
       "      6009830573    131.405226\n",
       "      6335759645     93.720530\n",
       "      8717633868     89.277714\n",
       "      8968126878     44.997074\n",
       "dtype: float64"
      ]
     },
     "execution_count": 18,
     "metadata": {},
     "output_type": "execute_result"
    }
   ],
   "source": [
    "# Approximate total vol in bps by asset.\n",
    "1e4 * vol_df.mean()"
   ]
  },
  {
   "cell_type": "markdown",
   "id": "37f0cf0f",
   "metadata": {},
   "source": [
    "# Combine features and target"
   ]
  },
  {
   "cell_type": "code",
   "execution_count": 19,
   "id": "d03366b7",
   "metadata": {
    "ExecuteTime": {
     "end_time": "2024-05-10T15:32:28.748708Z",
     "start_time": "2024-05-10T15:32:28.709275Z"
    }
   },
   "outputs": [],
   "source": [
    "regression_df = pd.concat([feature_df, zrets_df], axis=1)"
   ]
  },
  {
   "cell_type": "code",
   "execution_count": 20,
   "id": "9f491e2b",
   "metadata": {
    "ExecuteTime": {
     "end_time": "2024-05-10T15:32:28.782029Z",
     "start_time": "2024-05-10T15:32:28.750310Z"
    }
   },
   "outputs": [
    {
     "data": {
      "text/plain": [
       "Index(['p1.c', 'p2.c', 'p_lr.c', 'q1.c', 'q2.c', 'q3.c', 'r1.c', 'r2.c', 'r4.c', 'r5.c', 'r6.c', 'r_lr.c', 'v_ld.c', 'zrets'], dtype='object')"
      ]
     },
     "execution_count": 20,
     "metadata": {},
     "output_type": "execute_result"
    }
   ],
   "source": [
    "regression_df.columns.levels[0]"
   ]
  },
  {
   "cell_type": "code",
   "execution_count": 21,
   "id": "46ea5e08",
   "metadata": {
    "ExecuteTime": {
     "end_time": "2024-05-10T15:32:30.224414Z",
     "start_time": "2024-05-10T15:32:28.783815Z"
    }
   },
   "outputs": [
    {
     "data": {
      "application/vnd.jupyter.widget-view+json": {
       "model_id": "cb78eeff4e224bbeae1af0651c7830ed",
       "version_major": 2,
       "version_minor": 0
      },
      "text/plain": [
       "Processing groups:   0%|          | 0/25 [00:00<?, ?it/s]"
      ]
     },
     "metadata": {},
     "output_type": "display_data"
    },
    {
     "data": {
      "text/html": [
       "<div>\n",
       "<style scoped>\n",
       "    .dataframe tbody tr th:only-of-type {\n",
       "        vertical-align: middle;\n",
       "    }\n",
       "\n",
       "    .dataframe tbody tr th {\n",
       "        vertical-align: top;\n",
       "    }\n",
       "\n",
       "    .dataframe thead th {\n",
       "        text-align: right;\n",
       "    }\n",
       "</style>\n",
       "<table border=\"1\" class=\"dataframe\">\n",
       "  <thead>\n",
       "    <tr style=\"text-align: right;\">\n",
       "      <th></th>\n",
       "      <th></th>\n",
       "      <th>count</th>\n",
       "      <th>eff_count</th>\n",
       "      <th>mean</th>\n",
       "      <th>var</th>\n",
       "      <th>covar</th>\n",
       "      <th>sgn_rho</th>\n",
       "      <th>rho</th>\n",
       "      <th>beta</th>\n",
       "      <th>SE(beta)</th>\n",
       "      <th>beta_z_scored</th>\n",
       "      <th>p_val_2s</th>\n",
       "      <th>autocovar</th>\n",
       "      <th>autocorr</th>\n",
       "      <th>turn</th>\n",
       "    </tr>\n",
       "  </thead>\n",
       "  <tbody>\n",
       "    <tr>\n",
       "      <th rowspan=\"5\" valign=\"top\">1020313424</th>\n",
       "      <th>p1.c</th>\n",
       "      <td>4384</td>\n",
       "      <td>4384.0</td>\n",
       "      <td>-0.262329</td>\n",
       "      <td>1.873398</td>\n",
       "      <td>-0.017819</td>\n",
       "      <td>-0.030794</td>\n",
       "      <td>-0.013458</td>\n",
       "      <td>-0.009512</td>\n",
       "      <td>0.010674</td>\n",
       "      <td>-0.891062</td>\n",
       "      <td>0.372896</td>\n",
       "      <td>0.440061</td>\n",
       "      <td>0.234900</td>\n",
       "      <td>1.237012</td>\n",
       "    </tr>\n",
       "    <tr>\n",
       "      <th>p2.c</th>\n",
       "      <td>4384</td>\n",
       "      <td>4384.0</td>\n",
       "      <td>-0.030376</td>\n",
       "      <td>1.098059</td>\n",
       "      <td>-0.016928</td>\n",
       "      <td>-0.046761</td>\n",
       "      <td>-0.016700</td>\n",
       "      <td>-0.015417</td>\n",
       "      <td>0.013943</td>\n",
       "      <td>-1.105719</td>\n",
       "      <td>0.268848</td>\n",
       "      <td>-0.041967</td>\n",
       "      <td>-0.038220</td>\n",
       "      <td>1.440985</td>\n",
       "    </tr>\n",
       "    <tr>\n",
       "      <th>p_lr.c</th>\n",
       "      <td>4384</td>\n",
       "      <td>4384.0</td>\n",
       "      <td>-0.148417</td>\n",
       "      <td>1.597772</td>\n",
       "      <td>-0.022956</td>\n",
       "      <td>-0.043568</td>\n",
       "      <td>-0.018773</td>\n",
       "      <td>-0.014367</td>\n",
       "      <td>0.011558</td>\n",
       "      <td>-1.243011</td>\n",
       "      <td>0.213864</td>\n",
       "      <td>0.146245</td>\n",
       "      <td>0.091531</td>\n",
       "      <td>1.347939</td>\n",
       "    </tr>\n",
       "    <tr>\n",
       "      <th>q1.c</th>\n",
       "      <td>4384</td>\n",
       "      <td>4384.0</td>\n",
       "      <td>0.311783</td>\n",
       "      <td>0.267272</td>\n",
       "      <td>-0.002150</td>\n",
       "      <td>-0.011633</td>\n",
       "      <td>-0.004299</td>\n",
       "      <td>-0.008043</td>\n",
       "      <td>0.028261</td>\n",
       "      <td>-0.284614</td>\n",
       "      <td>0.775940</td>\n",
       "      <td>0.110988</td>\n",
       "      <td>0.415264</td>\n",
       "      <td>1.081421</td>\n",
       "    </tr>\n",
       "    <tr>\n",
       "      <th>q2.c</th>\n",
       "      <td>4384</td>\n",
       "      <td>4384.0</td>\n",
       "      <td>-0.098841</td>\n",
       "      <td>0.232760</td>\n",
       "      <td>-0.009387</td>\n",
       "      <td>-0.038093</td>\n",
       "      <td>-0.020112</td>\n",
       "      <td>-0.040328</td>\n",
       "      <td>0.030283</td>\n",
       "      <td>-1.331680</td>\n",
       "      <td>0.182965</td>\n",
       "      <td>0.049502</td>\n",
       "      <td>0.212675</td>\n",
       "      <td>1.254850</td>\n",
       "    </tr>\n",
       "  </tbody>\n",
       "</table>\n",
       "</div>"
      ],
      "text/plain": [
       "                   count  eff_count      mean       var     covar   sgn_rho       rho      beta  SE(beta)  beta_z_scored  p_val_2s  autocovar  autocorr      turn\n",
       "1020313424 p1.c     4384     4384.0 -0.262329  1.873398 -0.017819 -0.030794 -0.013458 -0.009512  0.010674      -0.891062  0.372896   0.440061  0.234900  1.237012\n",
       "           p2.c     4384     4384.0 -0.030376  1.098059 -0.016928 -0.046761 -0.016700 -0.015417  0.013943      -1.105719  0.268848  -0.041967 -0.038220  1.440985\n",
       "           p_lr.c   4384     4384.0 -0.148417  1.597772 -0.022956 -0.043568 -0.018773 -0.014367  0.011558      -1.243011  0.213864   0.146245  0.091531  1.347939\n",
       "           q1.c     4384     4384.0  0.311783  0.267272 -0.002150 -0.011633 -0.004299 -0.008043  0.028261      -0.284614  0.775940   0.110988  0.415264  1.081421\n",
       "           q2.c     4384     4384.0 -0.098841  0.232760 -0.009387 -0.038093 -0.020112 -0.040328  0.030283      -1.331680  0.182965   0.049502  0.212675  1.254850"
      ]
     },
     "metadata": {},
     "output_type": "display_data"
    }
   ],
   "source": [
    "regression_coeffs = costatis.compute_regression_coefficients_by_group(\n",
    "    regression_df,\n",
    "    y_col=\"zrets\",\n",
    "    **config[\"regression_config\"].to_dict(),\n",
    ")\n",
    "display(regression_coeffs.head())"
   ]
  },
  {
   "cell_type": "code",
   "execution_count": 22,
   "id": "46a86292",
   "metadata": {
    "ExecuteTime": {
     "end_time": "2024-05-10T15:32:30.273258Z",
     "start_time": "2024-05-10T15:32:30.226700Z"
    }
   },
   "outputs": [
    {
     "data": {
      "text/html": [
       "<div>\n",
       "<style scoped>\n",
       "    .dataframe tbody tr th:only-of-type {\n",
       "        vertical-align: middle;\n",
       "    }\n",
       "\n",
       "    .dataframe tbody tr th {\n",
       "        vertical-align: top;\n",
       "    }\n",
       "\n",
       "    .dataframe thead th {\n",
       "        text-align: right;\n",
       "    }\n",
       "</style>\n",
       "<table border=\"1\" class=\"dataframe\">\n",
       "  <thead>\n",
       "    <tr style=\"text-align: right;\">\n",
       "      <th></th>\n",
       "      <th>count</th>\n",
       "      <th>eff_count</th>\n",
       "      <th>mean</th>\n",
       "      <th>var</th>\n",
       "      <th>covar</th>\n",
       "      <th>sgn_rho</th>\n",
       "      <th>rho</th>\n",
       "      <th>beta</th>\n",
       "      <th>SE(beta)</th>\n",
       "      <th>beta_z_scored</th>\n",
       "      <th>p_val_2s</th>\n",
       "      <th>autocovar</th>\n",
       "      <th>autocorr</th>\n",
       "      <th>turn</th>\n",
       "    </tr>\n",
       "  </thead>\n",
       "  <tbody>\n",
       "    <tr>\n",
       "      <th>p1.c</th>\n",
       "      <td>4384.0</td>\n",
       "      <td>4384.0</td>\n",
       "      <td>-0.279506</td>\n",
       "      <td>2.031466</td>\n",
       "      <td>-0.020864</td>\n",
       "      <td>-0.032546</td>\n",
       "      <td>-0.015309</td>\n",
       "      <td>-0.010539</td>\n",
       "      <td>0.010285</td>\n",
       "      <td>-1.013614</td>\n",
       "      <td>0.305163</td>\n",
       "      <td>0.417100</td>\n",
       "      <td>0.204678</td>\n",
       "      <td>1.261002</td>\n",
       "    </tr>\n",
       "    <tr>\n",
       "      <th>p2.c</th>\n",
       "      <td>4384.0</td>\n",
       "      <td>4384.0</td>\n",
       "      <td>-0.033024</td>\n",
       "      <td>1.099174</td>\n",
       "      <td>-0.023126</td>\n",
       "      <td>-0.042582</td>\n",
       "      <td>-0.022577</td>\n",
       "      <td>-0.020723</td>\n",
       "      <td>0.014005</td>\n",
       "      <td>-1.494894</td>\n",
       "      <td>0.211594</td>\n",
       "      <td>-0.039444</td>\n",
       "      <td>-0.036239</td>\n",
       "      <td>1.439580</td>\n",
       "    </tr>\n",
       "    <tr>\n",
       "      <th>p_lr.c</th>\n",
       "      <td>4384.0</td>\n",
       "      <td>4384.0</td>\n",
       "      <td>-0.159465</td>\n",
       "      <td>1.699029</td>\n",
       "      <td>-0.030128</td>\n",
       "      <td>-0.050283</td>\n",
       "      <td>-0.023839</td>\n",
       "      <td>-0.017699</td>\n",
       "      <td>0.011232</td>\n",
       "      <td>-1.578424</td>\n",
       "      <td>0.163482</td>\n",
       "      <td>0.111172</td>\n",
       "      <td>0.065459</td>\n",
       "      <td>1.367033</td>\n",
       "    </tr>\n",
       "    <tr>\n",
       "      <th>q1.c</th>\n",
       "      <td>4384.0</td>\n",
       "      <td>4384.0</td>\n",
       "      <td>0.379509</td>\n",
       "      <td>0.343084</td>\n",
       "      <td>0.006741</td>\n",
       "      <td>0.003978</td>\n",
       "      <td>0.011901</td>\n",
       "      <td>0.019870</td>\n",
       "      <td>0.025247</td>\n",
       "      <td>0.788018</td>\n",
       "      <td>0.409402</td>\n",
       "      <td>0.156812</td>\n",
       "      <td>0.452385</td>\n",
       "      <td>1.045668</td>\n",
       "    </tr>\n",
       "    <tr>\n",
       "      <th>q2.c</th>\n",
       "      <td>4384.0</td>\n",
       "      <td>4384.0</td>\n",
       "      <td>-0.101324</td>\n",
       "      <td>0.282177</td>\n",
       "      <td>-0.009333</td>\n",
       "      <td>-0.036068</td>\n",
       "      <td>-0.018488</td>\n",
       "      <td>-0.034500</td>\n",
       "      <td>0.027741</td>\n",
       "      <td>-1.224141</td>\n",
       "      <td>0.209567</td>\n",
       "      <td>0.044917</td>\n",
       "      <td>0.160457</td>\n",
       "      <td>1.295503</td>\n",
       "    </tr>\n",
       "    <tr>\n",
       "      <th>q3.c</th>\n",
       "      <td>4384.0</td>\n",
       "      <td>4384.0</td>\n",
       "      <td>-0.021373</td>\n",
       "      <td>0.156056</td>\n",
       "      <td>-0.006324</td>\n",
       "      <td>-0.035465</td>\n",
       "      <td>-0.015966</td>\n",
       "      <td>-0.038342</td>\n",
       "      <td>0.037774</td>\n",
       "      <td>-1.057165</td>\n",
       "      <td>0.314957</td>\n",
       "      <td>0.005239</td>\n",
       "      <td>0.034843</td>\n",
       "      <td>1.389280</td>\n",
       "    </tr>\n",
       "    <tr>\n",
       "      <th>r1.c</th>\n",
       "      <td>4384.0</td>\n",
       "      <td>4384.0</td>\n",
       "      <td>-0.134404</td>\n",
       "      <td>0.584032</td>\n",
       "      <td>-0.008514</td>\n",
       "      <td>-0.026907</td>\n",
       "      <td>-0.011561</td>\n",
       "      <td>-0.014805</td>\n",
       "      <td>0.019304</td>\n",
       "      <td>-0.765442</td>\n",
       "      <td>0.393332</td>\n",
       "      <td>0.052700</td>\n",
       "      <td>0.091370</td>\n",
       "      <td>1.347973</td>\n",
       "    </tr>\n",
       "    <tr>\n",
       "      <th>r2.c</th>\n",
       "      <td>4384.0</td>\n",
       "      <td>4384.0</td>\n",
       "      <td>-0.056322</td>\n",
       "      <td>2.278028</td>\n",
       "      <td>-0.036604</td>\n",
       "      <td>-0.046980</td>\n",
       "      <td>-0.024939</td>\n",
       "      <td>-0.015949</td>\n",
       "      <td>0.009712</td>\n",
       "      <td>-1.651267</td>\n",
       "      <td>0.178109</td>\n",
       "      <td>-0.027803</td>\n",
       "      <td>-0.012355</td>\n",
       "      <td>1.422888</td>\n",
       "    </tr>\n",
       "    <tr>\n",
       "      <th>r4.c</th>\n",
       "      <td>4384.0</td>\n",
       "      <td>4384.0</td>\n",
       "      <td>-0.213307</td>\n",
       "      <td>2.824398</td>\n",
       "      <td>-0.016795</td>\n",
       "      <td>-0.022144</td>\n",
       "      <td>-0.010167</td>\n",
       "      <td>-0.005792</td>\n",
       "      <td>0.008747</td>\n",
       "      <td>-0.673175</td>\n",
       "      <td>0.358986</td>\n",
       "      <td>0.470941</td>\n",
       "      <td>0.165903</td>\n",
       "      <td>1.291424</td>\n",
       "    </tr>\n",
       "    <tr>\n",
       "      <th>r5.c</th>\n",
       "      <td>4384.0</td>\n",
       "      <td>4384.0</td>\n",
       "      <td>0.036150</td>\n",
       "      <td>0.905852</td>\n",
       "      <td>0.014147</td>\n",
       "      <td>0.029954</td>\n",
       "      <td>0.015803</td>\n",
       "      <td>0.016727</td>\n",
       "      <td>0.015758</td>\n",
       "      <td>1.046352</td>\n",
       "      <td>0.339908</td>\n",
       "      <td>0.036226</td>\n",
       "      <td>0.042656</td>\n",
       "      <td>1.383666</td>\n",
       "    </tr>\n",
       "    <tr>\n",
       "      <th>r6.c</th>\n",
       "      <td>4384.0</td>\n",
       "      <td>4384.0</td>\n",
       "      <td>-2.550841</td>\n",
       "      <td>8.113111</td>\n",
       "      <td>-0.030154</td>\n",
       "      <td>-0.008440</td>\n",
       "      <td>-0.011088</td>\n",
       "      <td>-0.003977</td>\n",
       "      <td>0.005353</td>\n",
       "      <td>-0.734158</td>\n",
       "      <td>0.494180</td>\n",
       "      <td>7.232421</td>\n",
       "      <td>0.886588</td>\n",
       "      <td>0.474606</td>\n",
       "    </tr>\n",
       "    <tr>\n",
       "      <th>r_lr.c</th>\n",
       "      <td>4384.0</td>\n",
       "      <td>4384.0</td>\n",
       "      <td>-0.109179</td>\n",
       "      <td>2.278798</td>\n",
       "      <td>-0.036341</td>\n",
       "      <td>-0.048805</td>\n",
       "      <td>-0.024750</td>\n",
       "      <td>-0.015813</td>\n",
       "      <td>0.009702</td>\n",
       "      <td>-1.638712</td>\n",
       "      <td>0.171923</td>\n",
       "      <td>0.027930</td>\n",
       "      <td>0.012216</td>\n",
       "      <td>1.405517</td>\n",
       "    </tr>\n",
       "    <tr>\n",
       "      <th>v_ld.c</th>\n",
       "      <td>4384.0</td>\n",
       "      <td>4384.0</td>\n",
       "      <td>0.544409</td>\n",
       "      <td>6.466474</td>\n",
       "      <td>0.021808</td>\n",
       "      <td>0.000757</td>\n",
       "      <td>0.008916</td>\n",
       "      <td>0.003656</td>\n",
       "      <td>0.006252</td>\n",
       "      <td>0.590343</td>\n",
       "      <td>0.465742</td>\n",
       "      <td>0.338427</td>\n",
       "      <td>-0.106553</td>\n",
       "      <td>1.467726</td>\n",
       "    </tr>\n",
       "  </tbody>\n",
       "</table>\n",
       "</div>"
      ],
      "text/plain": [
       "         count  eff_count      mean       var     covar   sgn_rho       rho      beta  SE(beta)  beta_z_scored  p_val_2s  autocovar  autocorr      turn\n",
       "p1.c    4384.0     4384.0 -0.279506  2.031466 -0.020864 -0.032546 -0.015309 -0.010539  0.010285      -1.013614  0.305163   0.417100  0.204678  1.261002\n",
       "p2.c    4384.0     4384.0 -0.033024  1.099174 -0.023126 -0.042582 -0.022577 -0.020723  0.014005      -1.494894  0.211594  -0.039444 -0.036239  1.439580\n",
       "p_lr.c  4384.0     4384.0 -0.159465  1.699029 -0.030128 -0.050283 -0.023839 -0.017699  0.011232      -1.578424  0.163482   0.111172  0.065459  1.367033\n",
       "q1.c    4384.0     4384.0  0.379509  0.343084  0.006741  0.003978  0.011901  0.019870  0.025247       0.788018  0.409402   0.156812  0.452385  1.045668\n",
       "q2.c    4384.0     4384.0 -0.101324  0.282177 -0.009333 -0.036068 -0.018488 -0.034500  0.027741      -1.224141  0.209567   0.044917  0.160457  1.295503\n",
       "q3.c    4384.0     4384.0 -0.021373  0.156056 -0.006324 -0.035465 -0.015966 -0.038342  0.037774      -1.057165  0.314957   0.005239  0.034843  1.389280\n",
       "r1.c    4384.0     4384.0 -0.134404  0.584032 -0.008514 -0.026907 -0.011561 -0.014805  0.019304      -0.765442  0.393332   0.052700  0.091370  1.347973\n",
       "r2.c    4384.0     4384.0 -0.056322  2.278028 -0.036604 -0.046980 -0.024939 -0.015949  0.009712      -1.651267  0.178109  -0.027803 -0.012355  1.422888\n",
       "r4.c    4384.0     4384.0 -0.213307  2.824398 -0.016795 -0.022144 -0.010167 -0.005792  0.008747      -0.673175  0.358986   0.470941  0.165903  1.291424\n",
       "r5.c    4384.0     4384.0  0.036150  0.905852  0.014147  0.029954  0.015803  0.016727  0.015758       1.046352  0.339908   0.036226  0.042656  1.383666\n",
       "r6.c    4384.0     4384.0 -2.550841  8.113111 -0.030154 -0.008440 -0.011088 -0.003977  0.005353      -0.734158  0.494180   7.232421  0.886588  0.474606\n",
       "r_lr.c  4384.0     4384.0 -0.109179  2.278798 -0.036341 -0.048805 -0.024750 -0.015813  0.009702      -1.638712  0.171923   0.027930  0.012216  1.405517\n",
       "v_ld.c  4384.0     4384.0  0.544409  6.466474  0.021808  0.000757  0.008916  0.003656  0.006252       0.590343  0.465742   0.338427 -0.106553  1.467726"
      ]
     },
     "execution_count": 22,
     "metadata": {},
     "output_type": "execute_result"
    }
   ],
   "source": [
    "regression_coeffs.groupby(level=1).mean()"
   ]
  },
  {
   "cell_type": "code",
   "execution_count": 23,
   "id": "d9da5a4f",
   "metadata": {
    "ExecuteTime": {
     "end_time": "2024-05-10T15:32:30.311954Z",
     "start_time": "2024-05-10T15:32:30.275457Z"
    }
   },
   "outputs": [
    {
     "name": "stdout",
     "output_type": "stream",
     "text": [
      "INFO  pi0=0.280 (estimated proportion of null features)\n"
     ]
    }
   ],
   "source": [
    "q_vals = costatis.estimate_q_values(regression_coeffs[\"p_val_2s\"])\n",
    "regression_coeffs[\"q_val\"] = q_vals"
   ]
  },
  {
   "cell_type": "code",
   "execution_count": 24,
   "id": "28586feb",
   "metadata": {
    "ExecuteTime": {
     "end_time": "2024-05-10T15:32:30.360516Z",
     "start_time": "2024-05-10T15:32:30.314411Z"
    }
   },
   "outputs": [],
   "source": [
    "q_val_df = []\n",
    "for feature in config[\"feature_col_names\"]:\n",
    "    q_val_srs = (\n",
    "        regression_coeffs[\"q_val\"]\n",
    "        .xs(feature, level=1)\n",
    "        .sort_values()\n",
    "        .reset_index()[\"q_val\"]\n",
    "    )\n",
    "    q_val_srs.name = feature\n",
    "    q_val_df.append(q_val_srs)\n",
    "q_val_df = pd.concat(q_val_df, axis=1)"
   ]
  },
  {
   "cell_type": "code",
   "execution_count": 25,
   "id": "b0d430c3",
   "metadata": {
    "ExecuteTime": {
     "end_time": "2024-05-10T15:32:30.771907Z",
     "start_time": "2024-05-10T15:32:30.362439Z"
    }
   },
   "outputs": [
    {
     "data": {
      "text/plain": [
       "<Axes: >"
      ]
     },
     "execution_count": 25,
     "metadata": {},
     "output_type": "execute_result"
    },
    {
     "data": {
      "image/png": "[encoded data removed]",
      "text/plain": [
       "<Figure size 2000x500 with 1 Axes>"
      ]
     },
     "metadata": {},
     "output_type": "display_data"
    }
   ],
   "source": [
    "q_val_df.plot()"
   ]
  }
 ],
 "metadata": {
  "kernelspec": {
   "display_name": "Python 3 (ipykernel)",
   "language": "python",
   "name": "python3"
  },
  "language_info": {
   "codemirror_mode": {
    "name": "ipython",
    "version": 3
   },
   "file_extension": ".py",
   "mimetype": "text/x-python",
   "name": "python",
   "nbconvert_exporter": "python",
   "pygments_lexer": "ipython3",
   "version": "3.9.5"
  },
  "toc": {
   "base_numbering": 1,
   "nav_menu": {},
   "number_sections": true,
   "sideBar": true,
   "skip_h1_title": false,
   "title_cell": "Table of Contents",
   "title_sidebar": "Contents",
   "toc_cell": false,
   "toc_position": {},
   "toc_section_display": true,
   "toc_window_display": false
  }
 },
 "nbformat": 4,
 "nbformat_minor": 5
}
