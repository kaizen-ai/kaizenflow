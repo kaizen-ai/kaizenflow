{
 "cells": [
  {
   "cell_type": "markdown",
   "id": "a0cfeac2",
   "metadata": {},
   "source": [
    "# Description\n",
    "\n",
    "- Initialize with returns, predictions, target volatility, and oos start date\n",
    "- Evaluate portfolios generated from the predictions\n",
    "\n",
    "- TODO(gp): This should be called `Master_model_evaluator` like the class"
   ]
  },
  {
   "cell_type": "markdown",
   "id": "126c8435",
   "metadata": {},
   "source": [
    "# Imports"
   ]
  },
  {
   "cell_type": "code",
   "execution_count": 1,
   "id": "abf41299",
   "metadata": {
    "ExecuteTime": {
     "end_time": "2022-02-23T13:02:39.095791Z",
     "start_time": "2022-02-23T13:02:33.959156Z"
    }
   },
   "outputs": [
    {
     "name": "stderr",
     "output_type": "stream",
     "text": [
      "/app/amp/dataflow/core/dag.py:15: TqdmExperimentalWarning: Using `tqdm.autonotebook.tqdm` in notebook mode. Use `tqdm.tqdm` instead to force console mode (e.g. in jupyter console)\n",
      "  from tqdm.autonotebook import tqdm\n"
     ]
    }
   ],
   "source": [
    "%load_ext autoreload\n",
    "%autoreload 2\n",
    "\n",
    "import logging\n",
    "\n",
    "import core.config as cconfig\n",
    "import dataflow.model.model_evaluator as dtfmomoeva\n",
    "import dataflow.model.model_plotter as dtfmomoplo\n",
    "import helpers.hdbg as hdbg\n",
    "import helpers.hprint as hprint"
   ]
  },
  {
   "cell_type": "code",
   "execution_count": 2,
   "id": "eee79ad8",
   "metadata": {
    "ExecuteTime": {
     "end_time": "2022-02-23T13:02:39.173834Z",
     "start_time": "2022-02-23T13:02:39.099168Z"
    }
   },
   "outputs": [
    {
     "name": "stdout",
     "output_type": "stream",
     "text": [
      "\u001b[0m\u001b[36mINFO\u001b[0m: > cmd='/venv/lib/python3.8/site-packages/ipykernel_launcher.py -f /home/.local/share/jupyter/runtime/kernel-d4f1f855-016a-4054-be38-710287312fd3.json'\n",
      "WARNING: Running in Jupyter\n",
      "\u001b[33mWARNING\u001b[0m: Disabling annoying warnings\n"
     ]
    }
   ],
   "source": [
    "hdbg.init_logger(verbosity=logging.INFO)\n",
    "# hdbg.init_logger(verbosity=logging.DEBUG)\n",
    "\n",
    "_LOG = logging.getLogger(__name__)\n",
    "\n",
    "# _LOG.info(\"%s\", env.get_system_signature()[0])\n",
    "\n",
    "hprint.config_notebook()"
   ]
  },
  {
   "cell_type": "markdown",
   "id": "c0c17e86",
   "metadata": {},
   "source": [
    "# Notebook config"
   ]
  },
  {
   "cell_type": "code",
   "execution_count": 3,
   "id": "a9c3584e",
   "metadata": {
    "ExecuteTime": {
     "end_time": "2022-02-23T13:02:39.261499Z",
     "start_time": "2022-02-23T13:02:39.177781Z"
    }
   },
   "outputs": [
    {
     "name": "stdout",
     "output_type": "stream",
     "text": [
      "WARNING Environment variable 'AM_CONFIG_CODE' not defined: no config retrieved\n",
      "load_experiment_kwargs:\n",
      "  src_dir: /app/experiment.RH1E.ccxt_v1-top2.5T.2018_2022\n",
      "  file_name: result_bundle.v2_0.pkl\n",
      "  experiment_type: ins_oos\n",
      "  selected_idxs: None\n",
      "  aws_profile: None\n",
      "model_evaluator_kwargs:\n",
      "  predictions_col: ret_0_vol_adj_2_hat\n",
      "  target_col: ret_0_vol_adj_2\n",
      "  oos_start: None\n",
      "  abort_on_error: True\n",
      "bh_adj_threshold: 0.1\n",
      "resample_rule: W\n",
      "mode: ins\n",
      "target_volatility: 0.1\n"
     ]
    }
   ],
   "source": [
    "# Read from env var.\n",
    "eval_config = cconfig.Config.from_env_var(\"AM_CONFIG_CODE\")\n",
    "\n",
    "# Override config.\n",
    "if eval_config is None:\n",
    "    # experiment_dir = \"/cache/experiments/oos_experiment.RH1E.v2_0-top100.5T\"\n",
    "    # experiment_dir = \"/app/rc_experiment.RH8Ec.v2_0-top2.5T.2009.run1\"\n",
    "    # experiment_dir = \"/app/experiment.RH1E.kibot_v2-top2.5T\"\n",
    "    experiment_dir = \"/app/experiment.RH1E.ccxt_v1-top2.5T.2018_2022\"\n",
    "    # experiment_dir = \"/app/experiment.RH1E.kibot_v2-top20.5T\"\n",
    "    aws_profile = None\n",
    "    selected_idxs = None\n",
    "\n",
    "    eval_config = cconfig.Config.from_dict(\n",
    "        {\n",
    "            \"load_experiment_kwargs\": {\n",
    "                \"src_dir\": experiment_dir,\n",
    "                \"file_name\": \"result_bundle.v2_0.pkl\",\n",
    "                \"experiment_type\": \"ins_oos\",\n",
    "                \"selected_idxs\": selected_idxs,\n",
    "                \"aws_profile\": aws_profile,\n",
    "            },\n",
    "            \"model_evaluator_kwargs\": {\n",
    "                # \"predictions_col\": \"mid_ret_0_vol_adj_clipped_2_hat\",\n",
    "                # \"target_col\": \"mid_ret_0_vol_adj_clipped_2\",\n",
    "                \"predictions_col\": \"ret_0_vol_adj_2_hat\",\n",
    "                \"target_col\": \"ret_0_vol_adj_2\",\n",
    "                # \"oos_start\": \"2017-01-01\",\n",
    "                \"oos_start\": None,\n",
    "                \"abort_on_error\": True,\n",
    "            },\n",
    "            \"bh_adj_threshold\": 0.1,\n",
    "            \"resample_rule\": \"W\",\n",
    "            \"mode\": \"ins\",\n",
    "            \"target_volatility\": 0.1,\n",
    "        }\n",
    "    )\n",
    "\n",
    "print(str(eval_config))"
   ]
  },
  {
   "cell_type": "markdown",
   "id": "8142e65d",
   "metadata": {},
   "source": [
    "# Initialize ModelEvaluator and ModelPlotter"
   ]
  },
  {
   "cell_type": "code",
   "execution_count": 4,
   "id": "371704c7",
   "metadata": {
    "ExecuteTime": {
     "end_time": "2022-02-23T13:02:40.183469Z",
     "start_time": "2022-02-23T13:02:39.265626Z"
    },
    "scrolled": false
   },
   "outputs": [
    {
     "name": "stdout",
     "output_type": "stream",
     "text": [
      "INFO  Before load_experiment_artifacts: memory_usage=rss=0.301GB vms=2.870GB mem_pct=3%\n",
      "INFO  # Load artifacts 'result_bundle.v2_0.pkl' from '/app/experiment.RH1E.ccxt_v1-top2.5T.2018_2022'\n",
      "INFO  Found 2 experiment subdirs in '/app/experiment.RH1E.ccxt_v1-top2.5T.2018_2022'\n"
     ]
    },
    {
     "data": {
      "application/vnd.jupyter.widget-view+json": {
       "model_id": "bb90e3441a97451b8a6388a549106593",
       "version_major": 2,
       "version_minor": 0
      },
      "text/plain": [
       "Loading artifacts:   0%|          | 0/2 [00:00<?, ?it/s]"
      ]
     },
     "metadata": {},
     "output_type": "display_data"
    },
    {
     "name": "stdout",
     "output_type": "stream",
     "text": [
      "INFO  load_experiment_artifacts: memory_usage=rss=0.343GB vms=3.496GB mem_pct=3%\n",
      "INFO  load_experiment_artifacts: memory_usage=rss=0.352GB vms=3.504GB mem_pct=3%\n",
      "INFO  After load_experiment_artifacts: memory_usage=rss=0.352GB vms=3.504GB mem_pct=3%\n",
      "INFO  Before building ModelEvaluator: memory_usage=rss=0.352GB vms=3.504GB mem_pct=3%\n",
      "INFO  After building ModelEvaluator: memory_usage=rss=0.358GB vms=3.510GB mem_pct=3%\n"
     ]
    }
   ],
   "source": [
    "# Build the ModelEvaluator from the eval config.\n",
    "evaluator = dtfmomoeva.ModelEvaluator.from_eval_config(eval_config)\n",
    "\n",
    "# Build the ModelPlotter.\n",
    "plotter = dtfmomoplo.ModelPlotter(evaluator)"
   ]
  },
  {
   "cell_type": "markdown",
   "id": "2ab68b06",
   "metadata": {},
   "source": [
    "# Analysis"
   ]
  },
  {
   "cell_type": "code",
   "execution_count": 5,
   "id": "f353ea8a",
   "metadata": {
    "ExecuteTime": {
     "end_time": "2022-02-23T13:02:42.691500Z",
     "start_time": "2022-02-23T13:02:40.185350Z"
    },
    "scrolled": false
   },
   "outputs": [
    {
     "data": {
      "application/vnd.jupyter.widget-view+json": {
       "model_id": "1866d1beef2c4f6b9b84175c558f49d4",
       "version_major": 2,
       "version_minor": 0
      },
      "text/plain": [
       "Calculating positions:   0%|          | 0/2 [00:00<?, ?it/s]"
      ]
     },
     "metadata": {},
     "output_type": "display_data"
    },
    {
     "data": {
      "application/vnd.jupyter.widget-view+json": {
       "model_id": "0a42d870447f4e7ba7e7639c4c79b961",
       "version_major": 2,
       "version_minor": 0
      },
      "text/plain": [
       "Calculating PnL:   0%|          | 0/2 [00:00<?, ?it/s]"
      ]
     },
     "metadata": {},
     "output_type": "display_data"
    },
    {
     "name": "stdout",
     "output_type": "stream",
     "text": [
      "INFO  memory_usage=rss=0.398GB vms=3.549GB mem_pct=3%\n"
     ]
    },
    {
     "data": {
      "application/vnd.jupyter.widget-view+json": {
       "model_id": "e85528ae55184ac88c02ed0cb8660930",
       "version_major": 2,
       "version_minor": 0
      },
      "text/plain": [
       "Calculating stats:   0%|          | 0/2 [00:00<?, ?it/s]"
      ]
     },
     "metadata": {},
     "output_type": "display_data"
    },
    {
     "name": "stdout",
     "output_type": "stream",
     "text": [
      "INFO  stats=\n",
      "avg_turnover_(%)           143.533932\n",
      "turnover_frequency      <5 * Minutes>\n",
      "avg_holding_period           0.696699\n",
      "holding_period_units    <5 * Minutes>\n",
      "Name: positions, dtype: object\n"
     ]
    },
    {
     "name": "stderr",
     "output_type": "stream",
     "text": [
      "/venv/lib/python3.8/site-packages/statsmodels/tsa/stattools.py:2015: InterpolationWarning: The test statistic is outside of the range of p-values available in the\n",
      "look-up table. The actual p-value is greater than the p-value returned.\n",
      "\n",
      "  warnings.warn(\n"
     ]
    },
    {
     "name": "stdout",
     "output_type": "stream",
     "text": [
      "INFO  stats=\n",
      "avg_turnover_(%)           151.108831\n",
      "turnover_frequency      <5 * Minutes>\n",
      "avg_holding_period           0.661775\n",
      "holding_period_units    <5 * Minutes>\n",
      "Name: positions, dtype: object\n",
      "INFO  memory_usage=rss=0.380GB vms=3.628GB mem_pct=3%\n"
     ]
    },
    {
     "name": "stderr",
     "output_type": "stream",
     "text": [
      "/venv/lib/python3.8/site-packages/statsmodels/tsa/stattools.py:2011: InterpolationWarning: The test statistic is outside of the range of p-values available in the\n",
      "look-up table. The actual p-value is smaller than the p-value returned.\n",
      "\n",
      "  warnings.warn(\n"
     ]
    },
    {
     "data": {
      "text/html": [
       "<div>\n",
       "<style scoped>\n",
       "    .dataframe tbody tr th:only-of-type {\n",
       "        vertical-align: middle;\n",
       "    }\n",
       "\n",
       "    .dataframe tbody tr th {\n",
       "        vertical-align: top;\n",
       "    }\n",
       "\n",
       "    .dataframe thead th {\n",
       "        text-align: right;\n",
       "    }\n",
       "</style>\n",
       "<table border=\"1\" class=\"dataframe\">\n",
       "  <thead>\n",
       "    <tr style=\"text-align: right;\">\n",
       "      <th></th>\n",
       "      <th></th>\n",
       "      <th>0</th>\n",
       "      <th>1</th>\n",
       "    </tr>\n",
       "  </thead>\n",
       "  <tbody>\n",
       "    <tr>\n",
       "      <th rowspan=\"4\" valign=\"top\">portfolio</th>\n",
       "      <th>avg_turnover_(%)</th>\n",
       "      <td>143.533932</td>\n",
       "      <td>151.108831</td>\n",
       "    </tr>\n",
       "    <tr>\n",
       "      <th>turnover_frequency</th>\n",
       "      <td>&lt;5 * Minutes&gt;</td>\n",
       "      <td>&lt;5 * Minutes&gt;</td>\n",
       "    </tr>\n",
       "    <tr>\n",
       "      <th>avg_holding_period</th>\n",
       "      <td>0.696699</td>\n",
       "      <td>0.661775</td>\n",
       "    </tr>\n",
       "    <tr>\n",
       "      <th>holding_period_units</th>\n",
       "      <td>&lt;5 * Minutes&gt;</td>\n",
       "      <td>&lt;5 * Minutes&gt;</td>\n",
       "    </tr>\n",
       "    <tr>\n",
       "      <th rowspan=\"5\" valign=\"top\">ratios</th>\n",
       "      <th>sharpe_ratio</th>\n",
       "      <td>1.781133</td>\n",
       "      <td>1.441202</td>\n",
       "    </tr>\n",
       "    <tr>\n",
       "      <th>sharpe_ratio_standard_error</th>\n",
       "      <td>0.535551</td>\n",
       "      <td>0.849651</td>\n",
       "    </tr>\n",
       "    <tr>\n",
       "      <th>sr.tval</th>\n",
       "      <td>3.326076</td>\n",
       "      <td>1.696323</td>\n",
       "    </tr>\n",
       "    <tr>\n",
       "      <th>sr.pval</th>\n",
       "      <td>0.000881</td>\n",
       "      <td>0.089842</td>\n",
       "    </tr>\n",
       "    <tr>\n",
       "      <th>kratio</th>\n",
       "      <td>2.610733</td>\n",
       "      <td>1.268196</td>\n",
       "    </tr>\n",
       "    <tr>\n",
       "      <th rowspan=\"18\" valign=\"top\">sampling</th>\n",
       "      <th>start_time</th>\n",
       "      <td>2019-01-15 10:20:00-05:00</td>\n",
       "      <td>2021-03-02 15:20:00-05:00</td>\n",
       "    </tr>\n",
       "    <tr>\n",
       "      <th>end_time</th>\n",
       "      <td>2022-02-09 15:50:00-05:00</td>\n",
       "      <td>2022-02-09 15:50:00-05:00</td>\n",
       "    </tr>\n",
       "    <tr>\n",
       "      <th>n_sampling_points</th>\n",
       "      <td>56650</td>\n",
       "      <td>17719</td>\n",
       "    </tr>\n",
       "    <tr>\n",
       "      <th>frequency</th>\n",
       "      <td>&lt;5 * Minutes&gt;</td>\n",
       "      <td>&lt;5 * Minutes&gt;</td>\n",
       "    </tr>\n",
       "    <tr>\n",
       "      <th>sampling_points_per_year</th>\n",
       "      <td>105156.125</td>\n",
       "      <td>105156.125</td>\n",
       "    </tr>\n",
       "    <tr>\n",
       "      <th>time_span_in_years</th>\n",
       "      <td>3.070815</td>\n",
       "      <td>0.942209</td>\n",
       "    </tr>\n",
       "    <tr>\n",
       "      <th>n_rows</th>\n",
       "      <td>366641</td>\n",
       "      <td>145667</td>\n",
       "    </tr>\n",
       "    <tr>\n",
       "      <th>frac_zero</th>\n",
       "      <td>0.006156</td>\n",
       "      <td>0.001181</td>\n",
       "    </tr>\n",
       "    <tr>\n",
       "      <th>frac_nan</th>\n",
       "      <td>0.845489</td>\n",
       "      <td>0.87836</td>\n",
       "    </tr>\n",
       "    <tr>\n",
       "      <th>frac_inf</th>\n",
       "      <td>0.0</td>\n",
       "      <td>0.0</td>\n",
       "    </tr>\n",
       "    <tr>\n",
       "      <th>frac_constant</th>\n",
       "      <td>0.000412</td>\n",
       "      <td>0.000034</td>\n",
       "    </tr>\n",
       "    <tr>\n",
       "      <th>num_finite_samples</th>\n",
       "      <td>56650</td>\n",
       "      <td>17719</td>\n",
       "    </tr>\n",
       "    <tr>\n",
       "      <th>num_finite_samples_inv</th>\n",
       "      <td>0.000018</td>\n",
       "      <td>0.000056</td>\n",
       "    </tr>\n",
       "    <tr>\n",
       "      <th>num_finite_samples_inv_dyadic_scale</th>\n",
       "      <td>-16</td>\n",
       "      <td>-15</td>\n",
       "    </tr>\n",
       "    <tr>\n",
       "      <th>num_finite_samples_sqrt</th>\n",
       "      <td>238.012605</td>\n",
       "      <td>133.112734</td>\n",
       "    </tr>\n",
       "    <tr>\n",
       "      <th>num_finite_samples_sqrt_inv</th>\n",
       "      <td>0.004201</td>\n",
       "      <td>0.007512</td>\n",
       "    </tr>\n",
       "    <tr>\n",
       "      <th>num_finite_samples_sqrt_inv_dyadic_scale</th>\n",
       "      <td>-8</td>\n",
       "      <td>-8</td>\n",
       "    </tr>\n",
       "    <tr>\n",
       "      <th>num_unique_values</th>\n",
       "      <td>54394</td>\n",
       "      <td>17548</td>\n",
       "    </tr>\n",
       "    <tr>\n",
       "      <th rowspan=\"15\" valign=\"top\">summary</th>\n",
       "      <th>scipy.mean</th>\n",
       "      <td>0.000011</td>\n",
       "      <td>0.000011</td>\n",
       "    </tr>\n",
       "    <tr>\n",
       "      <th>scipy.std</th>\n",
       "      <td>0.000784</td>\n",
       "      <td>0.000884</td>\n",
       "    </tr>\n",
       "    <tr>\n",
       "      <th>scipy.skew</th>\n",
       "      <td>0.247449</td>\n",
       "      <td>0.115654</td>\n",
       "    </tr>\n",
       "    <tr>\n",
       "      <th>scipy.kurtosis</th>\n",
       "      <td>103.762631</td>\n",
       "      <td>158.445509</td>\n",
       "    </tr>\n",
       "    <tr>\n",
       "      <th>null_mean_zero.tval</th>\n",
       "      <td>3.326076</td>\n",
       "      <td>1.696323</td>\n",
       "    </tr>\n",
       "    <tr>\n",
       "      <th>null_mean_zero.pval</th>\n",
       "      <td>0.000881</td>\n",
       "      <td>0.089842</td>\n",
       "    </tr>\n",
       "    <tr>\n",
       "      <th>jensen_ratio</th>\n",
       "      <td>0.34411</td>\n",
       "      <td>0.364232</td>\n",
       "    </tr>\n",
       "    <tr>\n",
       "      <th>count</th>\n",
       "      <td>56650.0</td>\n",
       "      <td>17719.0</td>\n",
       "    </tr>\n",
       "    <tr>\n",
       "      <th>mean</th>\n",
       "      <td>0.000011</td>\n",
       "      <td>0.000011</td>\n",
       "    </tr>\n",
       "    <tr>\n",
       "      <th>std</th>\n",
       "      <td>0.000784</td>\n",
       "      <td>0.000884</td>\n",
       "    </tr>\n",
       "    <tr>\n",
       "      <th>min</th>\n",
       "      <td>-0.017151</td>\n",
       "      <td>-0.023424</td>\n",
       "    </tr>\n",
       "    <tr>\n",
       "      <th>25%</th>\n",
       "      <td>-0.000067</td>\n",
       "      <td>-0.000095</td>\n",
       "    </tr>\n",
       "    <tr>\n",
       "      <th>50%</th>\n",
       "      <td>0.0</td>\n",
       "      <td>0.0</td>\n",
       "    </tr>\n",
       "    <tr>\n",
       "      <th>75%</th>\n",
       "      <td>0.000077</td>\n",
       "      <td>0.000106</td>\n",
       "    </tr>\n",
       "    <tr>\n",
       "      <th>max</th>\n",
       "      <td>0.017309</td>\n",
       "      <td>0.023424</td>\n",
       "    </tr>\n",
       "    <tr>\n",
       "      <th rowspan=\"14\" valign=\"top\">stationarity</th>\n",
       "      <th>adf.stat</th>\n",
       "      <td>-66.767514</td>\n",
       "      <td>-31.527366</td>\n",
       "    </tr>\n",
       "    <tr>\n",
       "      <th>adf.pval</th>\n",
       "      <td>0.0</td>\n",
       "      <td>0.0</td>\n",
       "    </tr>\n",
       "    <tr>\n",
       "      <th>adf.used_lag</th>\n",
       "      <td>14.0</td>\n",
       "      <td>16.0</td>\n",
       "    </tr>\n",
       "    <tr>\n",
       "      <th>adf.nobs</th>\n",
       "      <td>56635.0</td>\n",
       "      <td>17702.0</td>\n",
       "    </tr>\n",
       "    <tr>\n",
       "      <th>adf.critical_values_1%</th>\n",
       "      <td>-3.430465</td>\n",
       "      <td>-3.430719</td>\n",
       "    </tr>\n",
       "    <tr>\n",
       "      <th>adf.critical_values_5%</th>\n",
       "      <td>-2.861591</td>\n",
       "      <td>-2.861703</td>\n",
       "    </tr>\n",
       "    <tr>\n",
       "      <th>adf.critical_values_10%</th>\n",
       "      <td>-2.566797</td>\n",
       "      <td>-2.566857</td>\n",
       "    </tr>\n",
       "    <tr>\n",
       "      <th>adf.ic_best</th>\n",
       "      <td>-649596.640168</td>\n",
       "      <td>-198780.438983</td>\n",
       "    </tr>\n",
       "    <tr>\n",
       "      <th>kpss.stat</th>\n",
       "      <td>0.079126</td>\n",
       "      <td>0.834879</td>\n",
       "    </tr>\n",
       "    <tr>\n",
       "      <th>kpss.pval</th>\n",
       "      <td>0.1</td>\n",
       "      <td>0.01</td>\n",
       "    </tr>\n",
       "    <tr>\n",
       "      <th>kpss.lags</th>\n",
       "      <td>16.0</td>\n",
       "      <td>16.0</td>\n",
       "    </tr>\n",
       "    <tr>\n",
       "      <th>kpss.critical_values_1%</th>\n",
       "      <td>0.739</td>\n",
       "      <td>0.739</td>\n",
       "    </tr>\n",
       "    <tr>\n",
       "      <th>kpss.critical_values_5%</th>\n",
       "      <td>0.463</td>\n",
       "      <td>0.463</td>\n",
       "    </tr>\n",
       "    <tr>\n",
       "      <th>kpss.critical_values_10%</th>\n",
       "      <td>0.347</td>\n",
       "      <td>0.347</td>\n",
       "    </tr>\n",
       "    <tr>\n",
       "      <th rowspan=\"4\" valign=\"top\">normality</th>\n",
       "      <th>omnibus_null_normal.stat</th>\n",
       "      <td>22796.259802</td>\n",
       "      <td>7578.999834</td>\n",
       "    </tr>\n",
       "    <tr>\n",
       "      <th>omnibus_null_normal.pval</th>\n",
       "      <td>0.0</td>\n",
       "      <td>0.0</td>\n",
       "    </tr>\n",
       "    <tr>\n",
       "      <th>centered_gaussian.log_likelihood</th>\n",
       "      <td>324688.79316</td>\n",
       "      <td>99437.220462</td>\n",
       "    </tr>\n",
       "    <tr>\n",
       "      <th>centered_gaussian.centered_var</th>\n",
       "      <td>0.000001</td>\n",
       "      <td>0.000001</td>\n",
       "    </tr>\n",
       "    <tr>\n",
       "      <th>spectral</th>\n",
       "      <th>forecastability</th>\n",
       "      <td>0.003691</td>\n",
       "      <td>0.003338</td>\n",
       "    </tr>\n",
       "    <tr>\n",
       "      <th rowspan=\"6\" valign=\"top\">portfolio</th>\n",
       "      <th>annualized_mean_return</th>\n",
       "      <td>0.178113</td>\n",
       "      <td>0.14412</td>\n",
       "    </tr>\n",
       "    <tr>\n",
       "      <th>annualized_volatility</th>\n",
       "      <td>0.1</td>\n",
       "      <td>0.1</td>\n",
       "    </tr>\n",
       "    <tr>\n",
       "      <th>max_drawdown</th>\n",
       "      <td>0.061997</td>\n",
       "      <td>0.144937</td>\n",
       "    </tr>\n",
       "    <tr>\n",
       "      <th>hit_rate_point_est_(%)</th>\n",
       "      <td>50.824555</td>\n",
       "      <td>49.940161</td>\n",
       "    </tr>\n",
       "    <tr>\n",
       "      <th>hit_rate_97.50%CI_lower_bound_(%)</th>\n",
       "      <td>50.404386</td>\n",
       "      <td>49.200418</td>\n",
       "    </tr>\n",
       "    <tr>\n",
       "      <th>hit_rate_97.50%CI_upper_bound_(%)</th>\n",
       "      <td>51.244635</td>\n",
       "      <td>50.679923</td>\n",
       "    </tr>\n",
       "    <tr>\n",
       "      <th>correlation</th>\n",
       "      <th>prediction_corr_implied_by_pnl</th>\n",
       "      <td>0.013975</td>\n",
       "      <td>0.012744</td>\n",
       "    </tr>\n",
       "    <tr>\n",
       "      <th rowspan=\"13\" valign=\"top\">bets</th>\n",
       "      <th>num_positions</th>\n",
       "      <td>56638</td>\n",
       "      <td>17719</td>\n",
       "    </tr>\n",
       "    <tr>\n",
       "      <th>num_bets</th>\n",
       "      <td>28884</td>\n",
       "      <td>9674</td>\n",
       "    </tr>\n",
       "    <tr>\n",
       "      <th>long_bets_frac</th>\n",
       "      <td>0.499965</td>\n",
       "      <td>0.5</td>\n",
       "    </tr>\n",
       "    <tr>\n",
       "      <th>mean_num_bets_per_year</th>\n",
       "      <td>8284.205843</td>\n",
       "      <td>6983.602005</td>\n",
       "    </tr>\n",
       "    <tr>\n",
       "      <th>mean_bet_length</th>\n",
       "      <td>1.960878</td>\n",
       "      <td>1.831611</td>\n",
       "    </tr>\n",
       "    <tr>\n",
       "      <th>bet_length_units</th>\n",
       "      <td>5 * Minutes</td>\n",
       "      <td>5 * Minutes</td>\n",
       "    </tr>\n",
       "    <tr>\n",
       "      <th>bet_hit_rate_point_est_(%)</th>\n",
       "      <td>51.420465</td>\n",
       "      <td>52.14473</td>\n",
       "    </tr>\n",
       "    <tr>\n",
       "      <th>bet_hit_rate_97.50%CI_lower_bound_(%)</th>\n",
       "      <td>50.83328</td>\n",
       "      <td>51.141537</td>\n",
       "    </tr>\n",
       "    <tr>\n",
       "      <th>bet_hit_rate_97.50%CI_upper_bound_(%)</th>\n",
       "      <td>52.007355</td>\n",
       "      <td>53.146621</td>\n",
       "    </tr>\n",
       "    <tr>\n",
       "      <th>mean_return_winning_bets</th>\n",
       "      <td>0.000346</td>\n",
       "      <td>0.000411</td>\n",
       "    </tr>\n",
       "    <tr>\n",
       "      <th>mean_return_losing_bets</th>\n",
       "      <td>-0.000355</td>\n",
       "      <td>-0.000434</td>\n",
       "    </tr>\n",
       "    <tr>\n",
       "      <th>mean_return_long_bet</th>\n",
       "      <td>0.000022</td>\n",
       "      <td>0.000023</td>\n",
       "    </tr>\n",
       "    <tr>\n",
       "      <th>mean_return_short_bet</th>\n",
       "      <td>-0.000012</td>\n",
       "      <td>-0.00001</td>\n",
       "    </tr>\n",
       "    <tr>\n",
       "      <th>correlation</th>\n",
       "      <th>pnl_corr_to_underlying</th>\n",
       "      <td>0.033447</td>\n",
       "      <td>-0.00833</td>\n",
       "    </tr>\n",
       "    <tr>\n",
       "      <th>ratios</th>\n",
       "      <th>sr.adj_pval</th>\n",
       "      <td>0.001763</td>\n",
       "      <td>0.089842</td>\n",
       "    </tr>\n",
       "  </tbody>\n",
       "</table>\n",
       "</div>"
      ],
      "text/plain": [
       "                                                                               0                          1\n",
       "portfolio    avg_turnover_(%)                                         143.533932                 151.108831\n",
       "             turnover_frequency                                    <5 * Minutes>              <5 * Minutes>\n",
       "             avg_holding_period                                         0.696699                   0.661775\n",
       "             holding_period_units                                  <5 * Minutes>              <5 * Minutes>\n",
       "ratios       sharpe_ratio                                               1.781133                   1.441202\n",
       "             sharpe_ratio_standard_error                                0.535551                   0.849651\n",
       "             sr.tval                                                    3.326076                   1.696323\n",
       "             sr.pval                                                    0.000881                   0.089842\n",
       "             kratio                                                     2.610733                   1.268196\n",
       "sampling     start_time                                2019-01-15 10:20:00-05:00  2021-03-02 15:20:00-05:00\n",
       "             end_time                                  2022-02-09 15:50:00-05:00  2022-02-09 15:50:00-05:00\n",
       "             n_sampling_points                                             56650                      17719\n",
       "             frequency                                             <5 * Minutes>              <5 * Minutes>\n",
       "             sampling_points_per_year                                 105156.125                 105156.125\n",
       "             time_span_in_years                                         3.070815                   0.942209\n",
       "             n_rows                                                       366641                     145667\n",
       "             frac_zero                                                  0.006156                   0.001181\n",
       "             frac_nan                                                   0.845489                    0.87836\n",
       "             frac_inf                                                        0.0                        0.0\n",
       "             frac_constant                                              0.000412                   0.000034\n",
       "             num_finite_samples                                            56650                      17719\n",
       "             num_finite_samples_inv                                     0.000018                   0.000056\n",
       "             num_finite_samples_inv_dyadic_scale                             -16                        -15\n",
       "             num_finite_samples_sqrt                                  238.012605                 133.112734\n",
       "             num_finite_samples_sqrt_inv                                0.004201                   0.007512\n",
       "             num_finite_samples_sqrt_inv_dyadic_scale                         -8                         -8\n",
       "             num_unique_values                                             54394                      17548\n",
       "summary      scipy.mean                                                 0.000011                   0.000011\n",
       "             scipy.std                                                  0.000784                   0.000884\n",
       "             scipy.skew                                                 0.247449                   0.115654\n",
       "             scipy.kurtosis                                           103.762631                 158.445509\n",
       "             null_mean_zero.tval                                        3.326076                   1.696323\n",
       "             null_mean_zero.pval                                        0.000881                   0.089842\n",
       "             jensen_ratio                                                0.34411                   0.364232\n",
       "             count                                                       56650.0                    17719.0\n",
       "             mean                                                       0.000011                   0.000011\n",
       "             std                                                        0.000784                   0.000884\n",
       "             min                                                       -0.017151                  -0.023424\n",
       "             25%                                                       -0.000067                  -0.000095\n",
       "             50%                                                             0.0                        0.0\n",
       "             75%                                                        0.000077                   0.000106\n",
       "             max                                                        0.017309                   0.023424\n",
       "stationarity adf.stat                                                 -66.767514                 -31.527366\n",
       "             adf.pval                                                        0.0                        0.0\n",
       "             adf.used_lag                                                   14.0                       16.0\n",
       "             adf.nobs                                                    56635.0                    17702.0\n",
       "             adf.critical_values_1%                                    -3.430465                  -3.430719\n",
       "             adf.critical_values_5%                                    -2.861591                  -2.861703\n",
       "             adf.critical_values_10%                                   -2.566797                  -2.566857\n",
       "             adf.ic_best                                          -649596.640168             -198780.438983\n",
       "             kpss.stat                                                  0.079126                   0.834879\n",
       "             kpss.pval                                                       0.1                       0.01\n",
       "             kpss.lags                                                      16.0                       16.0\n",
       "             kpss.critical_values_1%                                       0.739                      0.739\n",
       "             kpss.critical_values_5%                                       0.463                      0.463\n",
       "             kpss.critical_values_10%                                      0.347                      0.347\n",
       "normality    omnibus_null_normal.stat                               22796.259802                7578.999834\n",
       "             omnibus_null_normal.pval                                        0.0                        0.0\n",
       "             centered_gaussian.log_likelihood                       324688.79316               99437.220462\n",
       "             centered_gaussian.centered_var                             0.000001                   0.000001\n",
       "spectral     forecastability                                            0.003691                   0.003338\n",
       "portfolio    annualized_mean_return                                     0.178113                    0.14412\n",
       "             annualized_volatility                                           0.1                        0.1\n",
       "             max_drawdown                                               0.061997                   0.144937\n",
       "             hit_rate_point_est_(%)                                    50.824555                  49.940161\n",
       "             hit_rate_97.50%CI_lower_bound_(%)                         50.404386                  49.200418\n",
       "             hit_rate_97.50%CI_upper_bound_(%)                         51.244635                  50.679923\n",
       "correlation  prediction_corr_implied_by_pnl                             0.013975                   0.012744\n",
       "bets         num_positions                                                 56638                      17719\n",
       "             num_bets                                                      28884                       9674\n",
       "             long_bets_frac                                             0.499965                        0.5\n",
       "             mean_num_bets_per_year                                  8284.205843                6983.602005\n",
       "             mean_bet_length                                            1.960878                   1.831611\n",
       "             bet_length_units                                        5 * Minutes                5 * Minutes\n",
       "             bet_hit_rate_point_est_(%)                                51.420465                   52.14473\n",
       "             bet_hit_rate_97.50%CI_lower_bound_(%)                      50.83328                  51.141537\n",
       "             bet_hit_rate_97.50%CI_upper_bound_(%)                     52.007355                  53.146621\n",
       "             mean_return_winning_bets                                   0.000346                   0.000411\n",
       "             mean_return_losing_bets                                   -0.000355                  -0.000434\n",
       "             mean_return_long_bet                                       0.000022                   0.000023\n",
       "             mean_return_short_bet                                     -0.000012                   -0.00001\n",
       "correlation  pnl_corr_to_underlying                                     0.033447                   -0.00833\n",
       "ratios       sr.adj_pval                                                0.001763                   0.089842"
      ]
     },
     "metadata": {},
     "output_type": "display_data"
    }
   ],
   "source": [
    "pnl_stats = evaluator.calculate_stats(\n",
    "    mode=eval_config[\"mode\"], target_volatility=eval_config[\"target_volatility\"]\n",
    ")\n",
    "display(pnl_stats)"
   ]
  },
  {
   "cell_type": "markdown",
   "id": "c36bf064",
   "metadata": {},
   "source": [
    "## Model selection"
   ]
  },
  {
   "cell_type": "code",
   "execution_count": 6,
   "id": "b6fecfb5",
   "metadata": {
    "ExecuteTime": {
     "end_time": "2022-02-23T13:02:43.348387Z",
     "start_time": "2022-02-23T13:02:42.698721Z"
    }
   },
   "outputs": [
    {
     "data": {
      "application/vnd.jupyter.widget-view+json": {
       "model_id": "cb9c1c0498874da08d9c1255fea1af75",
       "version_major": 2,
       "version_minor": 0
      },
      "text/plain": [
       "Calculating positions:   0%|          | 0/2 [00:00<?, ?it/s]"
      ]
     },
     "metadata": {},
     "output_type": "display_data"
    },
    {
     "data": {
      "application/vnd.jupyter.widget-view+json": {
       "model_id": "a13ee080d2344bdcbce8f24a5dcc2e19",
       "version_major": 2,
       "version_minor": 0
      },
      "text/plain": [
       "Calculating PnL:   0%|          | 0/2 [00:00<?, ?it/s]"
      ]
     },
     "metadata": {},
     "output_type": "display_data"
    },
    {
     "name": "stdout",
     "output_type": "stream",
     "text": [
      "INFO  memory_usage=rss=0.396GB vms=3.644GB mem_pct=3%\n"
     ]
    },
    {
     "data": {
      "image/png": "[encoded data removed]",
      "text/plain": [
       "<Figure size 1440x360 with 1 Axes>"
      ]
     },
     "metadata": {},
     "output_type": "display_data"
    }
   ],
   "source": [
    "plotter.plot_multiple_tests_adjustment(\n",
    "    threshold=eval_config[\"bh_adj_threshold\"], mode=eval_config[\"mode\"]\n",
    ")"
   ]
  },
  {
   "cell_type": "code",
   "execution_count": 9,
   "id": "b5b44ae9",
   "metadata": {
    "ExecuteTime": {
     "end_time": "2022-02-23T13:02:43.544688Z",
     "start_time": "2022-02-23T13:02:43.481666Z"
    }
   },
   "outputs": [
    {
     "name": "stdout",
     "output_type": "stream",
     "text": [
      "num model selected=2 / 2 = 100.00%\n",
      "model selected=[0, 1]\n",
      "model not selected=[]\n"
     ]
    }
   ],
   "source": [
    "# TODO(gp): Move this chunk of code in a function.\n",
    "col_mask = (\n",
    "    pnl_stats.loc[\"ratios\"].loc[\"sr.adj_pval\"] < eval_config[\"bh_adj_threshold\"]\n",
    ")\n",
    "selected = pnl_stats.loc[:, col_mask].columns.to_list()\n",
    "not_selected = pnl_stats.loc[:, ~col_mask].columns.to_list()\n",
    "\n",
    "print(\"num model selected=%s\" % hprint.perc(len(selected), pnl_stats.shape[1]))\n",
    "print(\"model selected=%s\" % selected)\n",
    "print(\"model not selected=%s\" % not_selected)\n",
    "\n",
    "# Use `selected = None` to show all the models."
   ]
  },
  {
   "cell_type": "code",
   "execution_count": 10,
   "id": "1736ff88",
   "metadata": {
    "ExecuteTime": {
     "end_time": "2022-02-23T13:02:45.923492Z",
     "start_time": "2022-02-23T13:02:43.548132Z"
    }
   },
   "outputs": [
    {
     "data": {
      "application/vnd.jupyter.widget-view+json": {
       "model_id": "ead347a21aa94084960c3f06b5b19912",
       "version_major": 2,
       "version_minor": 0
      },
      "text/plain": [
       "Calculating positions:   0%|          | 0/2 [00:00<?, ?it/s]"
      ]
     },
     "metadata": {},
     "output_type": "display_data"
    },
    {
     "data": {
      "application/vnd.jupyter.widget-view+json": {
       "model_id": "c5fc783431514cf8bfc00310d0ba2bd8",
       "version_major": 2,
       "version_minor": 0
      },
      "text/plain": [
       "Calculating PnL:   0%|          | 0/2 [00:00<?, ?it/s]"
      ]
     },
     "metadata": {},
     "output_type": "display_data"
    },
    {
     "name": "stdout",
     "output_type": "stream",
     "text": [
      "INFO  memory_usage=rss=0.387GB vms=3.635GB mem_pct=3%\n"
     ]
    },
    {
     "data": {
      "application/vnd.jupyter.widget-view+json": {
       "model_id": "5c900a98444b43cea85a130020f3f5c0",
       "version_major": 2,
       "version_minor": 0
      },
      "text/plain": [
       "Calculating positions:   0%|          | 0/2 [00:00<?, ?it/s]"
      ]
     },
     "metadata": {},
     "output_type": "display_data"
    },
    {
     "data": {
      "application/vnd.jupyter.widget-view+json": {
       "model_id": "43b3b6df3bc14bfc9694e22189fd6ef8",
       "version_major": 2,
       "version_minor": 0
      },
      "text/plain": [
       "Calculating PnL:   0%|          | 0/2 [00:00<?, ?it/s]"
      ]
     },
     "metadata": {},
     "output_type": "display_data"
    },
    {
     "name": "stdout",
     "output_type": "stream",
     "text": [
      "INFO  memory_usage=rss=0.402GB vms=3.650GB mem_pct=3%\n",
      "INFO  stats=\n",
      "avg_turnover_(%)            144.81124\n",
      "turnover_frequency      <5 * Minutes>\n",
      "avg_holding_period           0.690554\n",
      "holding_period_units    <5 * Minutes>\n",
      "Name: positions, dtype: object\n",
      "INFO  memory_usage=rss=0.422GB vms=3.669GB mem_pct=4%\n"
     ]
    },
    {
     "name": "stderr",
     "output_type": "stream",
     "text": [
      "/venv/lib/python3.8/site-packages/statsmodels/tsa/stattools.py:2015: InterpolationWarning: The test statistic is outside of the range of p-values available in the\n",
      "look-up table. The actual p-value is greater than the p-value returned.\n",
      "\n",
      "  warnings.warn(\n"
     ]
    },
    {
     "data": {
      "image/png": "[encoded data removed]",
      "text/plain": [
       "<Figure size 1440x360 with 1 Axes>"
      ]
     },
     "metadata": {},
     "output_type": "display_data"
    }
   ],
   "source": [
    "# selected = None\n",
    "plotter.plot_multiple_pnls(\n",
    "    keys=selected,\n",
    "    resample_rule=eval_config[\"resample_rule\"],\n",
    "    mode=eval_config[\"mode\"],\n",
    ")"
   ]
  },
  {
   "cell_type": "markdown",
   "id": "9821d152",
   "metadata": {},
   "source": [
    "## Return correlation"
   ]
  },
  {
   "cell_type": "code",
   "execution_count": 11,
   "id": "1d0698e1",
   "metadata": {
    "ExecuteTime": {
     "end_time": "2022-02-23T13:02:46.332637Z",
     "start_time": "2022-02-23T13:02:45.925239Z"
    }
   },
   "outputs": [
    {
     "data": {
      "application/vnd.jupyter.widget-view+json": {
       "model_id": "43618c28ffb4480e9a7d33ce02456590",
       "version_major": 2,
       "version_minor": 0
      },
      "text/plain": [
       "Calculating positions:   0%|          | 0/2 [00:00<?, ?it/s]"
      ]
     },
     "metadata": {},
     "output_type": "display_data"
    },
    {
     "data": {
      "application/vnd.jupyter.widget-view+json": {
       "model_id": "44422e98265e401bbc91bd90cb53c06a",
       "version_major": 2,
       "version_minor": 0
      },
      "text/plain": [
       "Calculating PnL:   0%|          | 0/2 [00:00<?, ?it/s]"
      ]
     },
     "metadata": {},
     "output_type": "display_data"
    },
    {
     "name": "stdout",
     "output_type": "stream",
     "text": [
      "INFO  memory_usage=rss=0.383GB vms=3.632GB mem_pct=3%\n"
     ]
    },
    {
     "data": {
      "image/png": "[encoded data removed]",
      "text/plain": [
       "<Figure size 1440x360 with 2 Axes>"
      ]
     },
     "metadata": {},
     "output_type": "display_data"
    }
   ],
   "source": [
    "plotter.plot_correlation_matrix(\n",
    "    series=\"returns\",\n",
    "    resample_rule=eval_config[\"resample_rule\"],\n",
    "    mode=eval_config[\"mode\"],\n",
    ")"
   ]
  },
  {
   "cell_type": "code",
   "execution_count": null,
   "id": "749d6378",
   "metadata": {
    "ExecuteTime": {
     "end_time": "2022-02-23T13:02:46.663766Z",
     "start_time": "2022-02-23T13:02:46.663738Z"
    }
   },
   "outputs": [],
   "source": [
    "plotter.plot_effective_correlation_rank(\n",
    "    series=\"returns\",\n",
    "    resample_rule=eval_config[\"resample_rule\"],\n",
    "    mode=eval_config[\"mode\"],\n",
    ")"
   ]
  },
  {
   "cell_type": "markdown",
   "id": "4a7c60d9",
   "metadata": {},
   "source": [
    "## Model correlation"
   ]
  },
  {
   "cell_type": "code",
   "execution_count": null,
   "id": "c5e7659a",
   "metadata": {
    "ExecuteTime": {
     "end_time": "2022-02-23T13:02:46.666041Z",
     "start_time": "2022-02-23T13:02:46.666020Z"
    }
   },
   "outputs": [],
   "source": [
    "plotter.plot_correlation_matrix(\n",
    "    series=\"pnl\",\n",
    "    resample_rule=eval_config[\"resample_rule\"],\n",
    "    mode=eval_config[\"mode\"],\n",
    ")"
   ]
  },
  {
   "cell_type": "code",
   "execution_count": null,
   "id": "b7938396",
   "metadata": {
    "ExecuteTime": {
     "end_time": "2022-02-23T13:02:46.668296Z",
     "start_time": "2022-02-23T13:02:46.668268Z"
    }
   },
   "outputs": [],
   "source": [
    "plotter.plot_effective_correlation_rank(\n",
    "    series=\"pnl\",\n",
    "    resample_rule=eval_config[\"resample_rule\"],\n",
    "    mode=eval_config[\"mode\"],\n",
    ")"
   ]
  },
  {
   "cell_type": "markdown",
   "id": "215ed5cc",
   "metadata": {},
   "source": [
    "## Aggregate model"
   ]
  },
  {
   "cell_type": "code",
   "execution_count": null,
   "id": "c23ae6ee",
   "metadata": {
    "ExecuteTime": {
     "end_time": "2022-02-23T13:02:46.671098Z",
     "start_time": "2022-02-23T13:02:46.671082Z"
    }
   },
   "outputs": [],
   "source": [
    "pnl_srs, pos_srs, aggregate_stats = evaluator.aggregate_models(\n",
    "    keys=selected,\n",
    "    mode=eval_config[\"mode\"],\n",
    "    target_volatility=eval_config[\"target_volatility\"],\n",
    ")\n",
    "display(aggregate_stats)"
   ]
  },
  {
   "cell_type": "code",
   "execution_count": null,
   "id": "c61ac477",
   "metadata": {
    "ExecuteTime": {
     "end_time": "2022-02-23T13:02:46.673070Z",
     "start_time": "2022-02-23T13:02:46.673053Z"
    }
   },
   "outputs": [],
   "source": [
    "plotter.plot_sharpe_ratio_panel(keys=selected, mode=eval_config[\"mode\"])"
   ]
  },
  {
   "cell_type": "code",
   "execution_count": null,
   "id": "e6ab0618",
   "metadata": {
    "ExecuteTime": {
     "end_time": "2022-02-23T13:02:46.675444Z",
     "start_time": "2022-02-23T13:02:46.675426Z"
    },
    "scrolled": false
   },
   "outputs": [],
   "source": [
    "plotter.plot_rets_signal_analysis(\n",
    "    keys=selected,\n",
    "    resample_rule=eval_config[\"resample_rule\"],\n",
    "    mode=eval_config[\"mode\"],\n",
    "    target_volatility=eval_config[\"target_volatility\"],\n",
    ")"
   ]
  },
  {
   "cell_type": "code",
   "execution_count": null,
   "id": "17854931",
   "metadata": {
    "ExecuteTime": {
     "end_time": "2022-02-23T13:02:46.678242Z",
     "start_time": "2022-02-23T13:02:46.678215Z"
    }
   },
   "outputs": [],
   "source": [
    "plotter.plot_performance(\n",
    "    keys=selected,\n",
    "    resample_rule=eval_config[\"resample_rule\"],\n",
    "    mode=eval_config[\"mode\"],\n",
    "    target_volatility=eval_config[\"target_volatility\"],\n",
    ")"
   ]
  },
  {
   "cell_type": "code",
   "execution_count": null,
   "id": "27a3a550",
   "metadata": {
    "ExecuteTime": {
     "end_time": "2022-02-23T13:02:46.681130Z",
     "start_time": "2022-02-23T13:02:46.681090Z"
    }
   },
   "outputs": [],
   "source": [
    "plotter.plot_rets_and_vol(\n",
    "    keys=selected,\n",
    "    resample_rule=eval_config[\"resample_rule\"],\n",
    "    mode=eval_config[\"mode\"],\n",
    "    target_volatility=eval_config[\"target_volatility\"],\n",
    ")"
   ]
  },
  {
   "cell_type": "code",
   "execution_count": null,
   "id": "628273de",
   "metadata": {
    "ExecuteTime": {
     "end_time": "2022-02-23T13:02:46.682218Z",
     "start_time": "2022-02-23T13:02:46.682202Z"
    }
   },
   "outputs": [],
   "source": [
    "if False:\n",
    "    plotter.plot_positions(\n",
    "        keys=selected,\n",
    "        mode=eval_config[\"mode\"],\n",
    "        target_volatility=eval_config[\"target_volatility\"],\n",
    "    )"
   ]
  },
  {
   "cell_type": "code",
   "execution_count": null,
   "id": "00e9e05f",
   "metadata": {
    "ExecuteTime": {
     "end_time": "2022-02-23T13:02:46.683099Z",
     "start_time": "2022-02-23T13:02:46.683084Z"
    }
   },
   "outputs": [],
   "source": [
    "if False:\n",
    "    # Plot the returns and prediction for one or more models.\n",
    "    model_key = selected[:1]\n",
    "    plotter.plot_returns_and_predictions(\n",
    "        keys=model_key,\n",
    "        resample_rule=eval_config[\"resample_rule\"],\n",
    "        mode=eval_config[\"mode\"],\n",
    "    )"
   ]
  }
 ],
 "metadata": {
  "kernelspec": {
   "display_name": "Python 3 (ipykernel)",
   "language": "python",
   "name": "python3"
  },
  "language_info": {
   "codemirror_mode": {
    "name": "ipython",
    "version": 3
   },
   "file_extension": ".py",
   "mimetype": "text/x-python",
   "name": "python",
   "nbconvert_exporter": "python",
   "pygments_lexer": "ipython3",
   "version": "3.8.10"
  },
  "toc": {
   "base_numbering": 1,
   "nav_menu": {},
   "number_sections": true,
   "sideBar": true,
   "skip_h1_title": false,
   "title_cell": "Table of Contents",
   "title_sidebar": "Contents",
   "toc_cell": false,
   "toc_position": {},
   "toc_section_display": true,
   "toc_window_display": false
  }
 },
 "nbformat": 4,
 "nbformat_minor": 5
}
