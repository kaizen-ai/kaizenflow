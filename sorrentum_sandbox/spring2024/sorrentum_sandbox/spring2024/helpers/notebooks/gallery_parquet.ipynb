{
 "cells": [
  {
   "cell_type": "markdown",
   "id": "895cb286",
   "metadata": {},
   "source": [
    "Show Parquet / Pyarrow API."
   ]
  },
  {
   "cell_type": "markdown",
   "id": "b068d525",
   "metadata": {},
   "source": [
    "## Imports"
   ]
  },
  {
   "cell_type": "code",
   "execution_count": 120,
   "id": "8f46ec68",
   "metadata": {
    "ExecuteTime": {
     "end_time": "2021-06-16T20:53:22.684558Z",
     "start_time": "2021-06-16T20:53:22.645267Z"
    }
   },
   "outputs": [
    {
     "name": "stdout",
     "output_type": "stream",
     "text": [
      "\u001b[0m\u001b[33mWARNING\u001b[0m: Logger already initialized: skipping\n"
     ]
    }
   ],
   "source": [
    "import logging\n",
    "import os\n",
    "import random\n",
    "\n",
    "import pandas as pd\n",
    "import pyarrow as pa\n",
    "import pyarrow.dataset as ds\n",
    "import pyarrow.parquet as pq\n",
    "\n",
    "import helpers.hdbg as hdbg\n",
    "import helpers.hio as hio\n",
    "\n",
    "hdbg.init_logger(verbosity=logging.INFO)\n",
    "_LOG = logging.getLogger(__name__)"
   ]
  },
  {
   "cell_type": "code",
   "execution_count": 6,
   "id": "215ff89e",
   "metadata": {
    "ExecuteTime": {
     "end_time": "2021-06-15T11:19:03.323062Z",
     "start_time": "2021-06-15T11:19:03.303632Z"
    }
   },
   "outputs": [
    {
     "name": "stdout",
     "output_type": "stream",
     "text": [
      "            idx instr  val1  val2\n",
      "2000-01-01    0     A    99    30\n",
      "2000-01-02    0     A    54    46\n",
      "2000-01-03    0     A    85    86\n",
      "2000-01-04    0     A    97    62\n",
      "2000-01-05    0     A    12    25\n"
     ]
    }
   ],
   "source": [
    "def get_df() -> pd.DataFrame:\n",
    "    \"\"\"\n",
    "    Create pandas random data, like:\n",
    "\n",
    "    ```\n",
    "                idx instr  val1  val2\n",
    "    2000-01-01    0     A    99    30\n",
    "    2000-01-02    0     A    54    46\n",
    "    2000-01-03    0     A    85    86\n",
    "    ```\n",
    "    \"\"\"\n",
    "    instruments = \"A B C D E\".split()\n",
    "    \"id stock val1 val2\".split()\n",
    "    df_idx = pd.date_range(\n",
    "        pd.Timestamp(\"2000-01-01\"), pd.Timestamp(\"2000-01-15\"), freq=\"1D\"\n",
    "    )\n",
    "    # print(df_idx)\n",
    "    random.seed(1000)\n",
    "\n",
    "    df = []\n",
    "    for idx, inst in enumerate(instruments):\n",
    "        df_tmp = pd.DataFrame(\n",
    "            {\n",
    "                \"idx\": idx,\n",
    "                \"instr\": inst,\n",
    "                \"val1\": [random.randint(0, 100) for k in range(len(df_idx))],\n",
    "                \"val2\": [random.randint(0, 100) for k in range(len(df_idx))],\n",
    "            },\n",
    "            index=df_idx,\n",
    "        )\n",
    "        # print(df_tmp)\n",
    "        df.append(df_tmp)\n",
    "    df = pd.concat(df)\n",
    "    return df"
   ]
  },
  {
   "cell_type": "code",
   "execution_count": 42,
   "id": "8e8235d0",
   "metadata": {
    "ExecuteTime": {
     "end_time": "2021-06-15T11:35:16.903580Z",
     "start_time": "2021-06-15T11:35:16.895316Z"
    }
   },
   "outputs": [
    {
     "ename": "SyntaxError",
     "evalue": "EOL while scanning string literal (<ipython-input-42-7a84befc1958>, line 4)",
     "output_type": "error",
     "traceback": [
      "\u001b[0;36m  File \u001b[0;32m\"<ipython-input-42-7a84befc1958>\"\u001b[0;36m, line \u001b[0;32m4\u001b[0m\n\u001b[0;31m    txt += \"# df=\u001b[0m\n\u001b[0m                 ^\u001b[0m\n\u001b[0;31mSyntaxError\u001b[0m\u001b[0;31m:\u001b[0m EOL while scanning string literal\n"
     ]
    }
   ],
   "source": [
    "def df_to_str(df: pd.DataFrame) -> str:\n",
    "    txt = \"\"\n",
    "    txt += \"# df=\\n%s\" % df.head(3)\n",
    "    txt += \"\\n# df.shape=\\n%s\" % str(df.shape)\n",
    "    txt += \"\\n# df.dtypes=\\n%s\" % str(df.dtypes)\n",
    "    return txt"
   ]
  },
  {
   "cell_type": "markdown",
   "id": "17cc474b",
   "metadata": {},
   "source": [
    "# Save and load all data in one file"
   ]
  },
  {
   "cell_type": "code",
   "execution_count": 21,
   "id": "cb399156",
   "metadata": {
    "ExecuteTime": {
     "end_time": "2021-06-15T11:25:27.514505Z",
     "start_time": "2021-06-15T11:25:27.496811Z"
    }
   },
   "outputs": [
    {
     "name": "stdout",
     "output_type": "stream",
     "text": [
      "# df=\n",
      "            idx instr  val1  val2\n",
      "2000-01-01    0     A    99    30\n",
      "2000-01-02    0     A    54    46\n",
      "2000-01-03    0     A    85    86\n",
      "# df.shape=\n",
      "(75, 4)\n",
      "# df.dtypes=\n",
      "idx       int64\n",
      "instr    object\n",
      "val1      int64\n",
      "val2      int64\n",
      "dtype: object\n"
     ]
    }
   ],
   "source": [
    "df = get_df()\n",
    "# print(df.head())\n",
    "print(df_to_str(df))"
   ]
  },
  {
   "cell_type": "code",
   "execution_count": 22,
   "id": "940dc7d2",
   "metadata": {
    "ExecuteTime": {
     "end_time": "2021-06-15T11:25:34.893472Z",
     "start_time": "2021-06-15T11:25:34.886977Z"
    }
   },
   "outputs": [
    {
     "name": "stdout",
     "output_type": "stream",
     "text": [
      "table=\n",
      "pyarrow.Table\n",
      "idx: int64\n",
      "instr: string\n",
      "val1: int64\n",
      "val2: int64\n",
      "__index_level_0__: timestamp[ns]\n"
     ]
    }
   ],
   "source": [
    "table = pa.Table.from_pandas(df)\n",
    "\n",
    "print(\"table=\\n%s\" % table)"
   ]
  },
  {
   "cell_type": "code",
   "execution_count": 23,
   "id": "93df67fc",
   "metadata": {
    "ExecuteTime": {
     "end_time": "2021-06-15T11:25:38.560269Z",
     "start_time": "2021-06-15T11:25:38.533905Z"
    }
   },
   "outputs": [],
   "source": [
    "# Save.\n",
    "file_name = \"df_in_one_file.pq\"\n",
    "pq.write_table(table, file_name)"
   ]
  },
  {
   "cell_type": "code",
   "execution_count": 25,
   "id": "155e36c0",
   "metadata": {
    "ExecuteTime": {
     "end_time": "2021-06-15T11:25:51.016044Z",
     "start_time": "2021-06-15T11:25:51.001034Z"
    }
   },
   "outputs": [
    {
     "name": "stdout",
     "output_type": "stream",
     "text": [
      "pyarrow.Table\n",
      "idx: int64\n",
      "instr: string\n",
      "val1: int64\n",
      "val2: int64\n",
      "__index_level_0__: timestamp[us]\n",
      "# df=\n",
      "            idx instr  val1  val2\n",
      "2000-01-01    0     A    99    30\n",
      "2000-01-02    0     A    54    46\n",
      "2000-01-03    0     A    85    86\n",
      "# df.shape=\n",
      "(75, 4)\n",
      "# df.dtypes=\n",
      "idx       int64\n",
      "instr    object\n",
      "val1      int64\n",
      "val2      int64\n",
      "dtype: object\n"
     ]
    }
   ],
   "source": [
    "# Load.\n",
    "df2 = pq.read_table(file_name)\n",
    "print(df2)\n",
    "\n",
    "df2 = df2.to_pandas()\n",
    "print(df_to_str(df2))"
   ]
  },
  {
   "cell_type": "markdown",
   "id": "1098757c",
   "metadata": {},
   "source": [
    "## Read a subset of columns"
   ]
  },
  {
   "cell_type": "code",
   "execution_count": 27,
   "id": "6f4a652f",
   "metadata": {
    "ExecuteTime": {
     "end_time": "2021-06-15T11:27:11.924350Z",
     "start_time": "2021-06-15T11:27:11.910680Z"
    }
   },
   "outputs": [
    {
     "name": "stdout",
     "output_type": "stream",
     "text": [
      "pyarrow.Table\n",
      "idx: int64\n",
      "val1: int64\n",
      "# df=\n",
      "   idx  val1\n",
      "0    0    99\n",
      "1    0    54\n",
      "2    0    85\n",
      "# df.shape=\n",
      "(75, 2)\n",
      "# df.dtypes=\n",
      "idx     int64\n",
      "val1    int64\n",
      "dtype: object\n"
     ]
    }
   ],
   "source": [
    "df2 = pq.read_table(file_name, columns=[\"idx\", \"val1\"])\n",
    "print(df2)\n",
    "\n",
    "df2 = df2.to_pandas()\n",
    "print(df_to_str(df2))"
   ]
  },
  {
   "cell_type": "markdown",
   "id": "012cebdb",
   "metadata": {},
   "source": [
    "## Partitioned dataset\n",
    "\n",
    "from https://arrow.apache.org/docs/python/dataset.html#reading-partitioned-data\n",
    "\n",
    "- A dataset can exploit a nested structure, where the sub-dir names hold information about which subset of the data is stored in that dir\n",
    "- E.g., \"Hive\" patitioning scheme \"key=vale\" dir names"
   ]
  },
  {
   "cell_type": "code",
   "execution_count": 29,
   "id": "ca26642e",
   "metadata": {
    "ExecuteTime": {
     "end_time": "2021-06-15T11:30:11.964993Z",
     "start_time": "2021-06-15T11:30:11.947282Z"
    }
   },
   "outputs": [
    {
     "name": "stdout",
     "output_type": "stream",
     "text": [
      "# df=\n",
      "            idx instr  val1  val2\n",
      "2000-01-01    0     A    99    30\n",
      "2000-01-02    0     A    54    46\n",
      "2000-01-03    0     A    85    86\n",
      "# df.shape=\n",
      "(75, 4)\n",
      "# df.dtypes=\n",
      "idx       int64\n",
      "instr    object\n",
      "val1      int64\n",
      "val2      int64\n",
      "dtype: object\n"
     ]
    }
   ],
   "source": [
    "df = get_df()\n",
    "print(df_to_str(df))"
   ]
  },
  {
   "cell_type": "code",
   "execution_count": 30,
   "id": "7cae349f",
   "metadata": {
    "ExecuteTime": {
     "end_time": "2021-06-15T11:30:27.617064Z",
     "start_time": "2021-06-15T11:30:27.541418Z"
    }
   },
   "outputs": [],
   "source": [
    "base = \".\"\n",
    "dir_name = os.path.join(base, \"parquet_dataset_partitioned\")\n",
    "os.system(\"rm -rf %s\" % dir_name)\n",
    "\n",
    "pq.write_to_dataset(table, dir_name, partition_cols=[\"idx\"])"
   ]
  },
  {
   "cell_type": "code",
   "execution_count": 31,
   "id": "fd57116d",
   "metadata": {
    "ExecuteTime": {
     "end_time": "2021-06-15T11:30:30.672054Z",
     "start_time": "2021-06-15T11:30:30.389512Z"
    }
   },
   "outputs": [
    {
     "name": "stdout",
     "output_type": "stream",
     "text": [
      "'idx=0'  'idx=1'  'idx=2'  'idx=3'  'idx=4'\r\n"
     ]
    }
   ],
   "source": [
    "!ls parquet_dataset_partitioned"
   ]
  },
  {
   "cell_type": "code",
   "execution_count": 34,
   "id": "ac82b5ad",
   "metadata": {
    "ExecuteTime": {
     "end_time": "2021-06-15T11:31:29.322947Z",
     "start_time": "2021-06-15T11:31:29.298883Z"
    }
   },
   "outputs": [
    {
     "name": "stdout",
     "output_type": "stream",
     "text": [
      "./parquet_dataset_partitioned/idx=0/cab9de6eff0c47bcb688a1ce437c7f89.parquet\n",
      "./parquet_dataset_partitioned/idx=1/56813e569097420cae892720d3bb0789.parquet\n",
      "./parquet_dataset_partitioned/idx=2/5c9a17d2e1294dd58c7d8695868c2cb5.parquet\n",
      "./parquet_dataset_partitioned/idx=3/b28576eb22d54999980a313a24511497.parquet\n",
      "./parquet_dataset_partitioned/idx=4/8ee3f0d7585b48959a560c954562add8.parquet\n"
     ]
    }
   ],
   "source": [
    "# Read data back.\n",
    "dataset = ds.dataset(dir_name, format=\"parquet\", partitioning=\"hive\")\n",
    "\n",
    "print(\"\\n\".join(dataset.files))"
   ]
  },
  {
   "cell_type": "code",
   "execution_count": 37,
   "id": "64394b7f",
   "metadata": {
    "ExecuteTime": {
     "end_time": "2021-06-15T11:32:01.839074Z",
     "start_time": "2021-06-15T11:32:01.822727Z"
    }
   },
   "outputs": [
    {
     "name": "stdout",
     "output_type": "stream",
     "text": [
      "# df=\n",
      "           instr  val1  val2  idx\n",
      "2000-01-01     A    99    30    0\n",
      "2000-01-02     A    54    46    0\n",
      "2000-01-03     A    85    86    0\n",
      "# df.shape=\n",
      "(75, 4)\n",
      "# df.dtypes=\n",
      "instr    object\n",
      "val1      int64\n",
      "val2      int64\n",
      "idx       int32\n",
      "dtype: object\n"
     ]
    }
   ],
   "source": [
    "# Read everything.\n",
    "df2 = dataset.to_table().to_pandas()\n",
    "\n",
    "print(df_to_str(df2))"
   ]
  },
  {
   "cell_type": "code",
   "execution_count": 40,
   "id": "df96e1db",
   "metadata": {
    "ExecuteTime": {
     "end_time": "2021-06-15T11:33:05.171630Z",
     "start_time": "2021-06-15T11:33:05.147040Z"
    }
   },
   "outputs": [
    {
     "name": "stdout",
     "output_type": "stream",
     "text": [
      "# df=\n",
      "           instr  val1  val2  idx\n",
      "2000-01-01     B    18    22    1\n",
      "2000-01-02     B    59    89    1\n",
      "2000-01-03     B    91    90    1\n",
      "# df.shape=\n",
      "(15, 4)\n",
      "# df.dtypes=\n",
      "instr    object\n",
      "val1      int64\n",
      "val2      int64\n",
      "idx       int32\n",
      "dtype: object\n",
      "# df=\n",
      "           instr  val1  val2  idx\n",
      "2000-01-01     A    99    30    0\n",
      "2000-01-02     A    54    46    0\n",
      "2000-01-03     A    85    86    0\n",
      "# df.shape=\n",
      "(45, 4)\n",
      "# df.dtypes=\n",
      "instr    object\n",
      "val1      int64\n",
      "val2      int64\n",
      "idx       int32\n",
      "dtype: object\n"
     ]
    }
   ],
   "source": [
    "# Load part of the data.\n",
    "\n",
    "df2 = dataset.to_table(filter=ds.field(\"idx\") == 1).to_pandas()\n",
    "print(df_to_str(df2))\n",
    "\n",
    "df2 = dataset.to_table(filter=ds.field(\"idx\") < 3).to_pandas()\n",
    "print(df_to_str(df2))"
   ]
  },
  {
   "cell_type": "markdown",
   "id": "b3c27848",
   "metadata": {},
   "source": [
    "## Add year-month partitions"
   ]
  },
  {
   "cell_type": "code",
   "execution_count": 45,
   "id": "69d2ea15",
   "metadata": {
    "ExecuteTime": {
     "end_time": "2021-06-15T11:36:11.106142Z",
     "start_time": "2021-06-15T11:36:11.087701Z"
    }
   },
   "outputs": [
    {
     "name": "stdout",
     "output_type": "stream",
     "text": [
      "# df=\n",
      "            idx instr  val1  val2  year  month\n",
      "2000-01-01    0     A    99    30  2000      1\n",
      "2000-01-02    0     A    54    46  2000      1\n",
      "2000-01-03    0     A    85    86  2000      1\n",
      "# df.shape=\n",
      "(75, 6)\n",
      "# df.dtypes=\n",
      "idx       int64\n",
      "instr    object\n",
      "val1      int64\n",
      "val2      int64\n",
      "year      int64\n",
      "month     int64\n",
      "dtype: object\n"
     ]
    }
   ],
   "source": [
    "df = get_df()\n",
    "df[\"year\"] = df.index.year\n",
    "df[\"month\"] = df.index.month\n",
    "\n",
    "print(df_to_str(df))"
   ]
  },
  {
   "cell_type": "code",
   "execution_count": 48,
   "id": "1a2f8c3a",
   "metadata": {
    "ExecuteTime": {
     "end_time": "2021-06-15T11:37:01.738085Z",
     "start_time": "2021-06-15T11:37:01.730748Z"
    }
   },
   "outputs": [
    {
     "name": "stdout",
     "output_type": "stream",
     "text": [
      "table=\n",
      "pyarrow.Table\n",
      "idx: int64\n",
      "instr: string\n",
      "val1: int64\n",
      "val2: int64\n",
      "year: int64\n",
      "month: int64\n",
      "__index_level_0__: timestamp[ns]\n"
     ]
    }
   ],
   "source": [
    "table = pa.Table.from_pandas(df)\n",
    "\n",
    "print(\"table=\\n%s\" % table)"
   ]
  },
  {
   "cell_type": "code",
   "execution_count": 49,
   "id": "9112ed65",
   "metadata": {
    "ExecuteTime": {
     "end_time": "2021-06-15T11:37:04.832037Z",
     "start_time": "2021-06-15T11:37:04.702121Z"
    }
   },
   "outputs": [],
   "source": [
    "base = \".\"\n",
    "dir_name = os.path.join(base, \"pq_partitioned2\")\n",
    "os.system(\"rm -rf %s\" % dir_name)\n",
    "\n",
    "pq.write_to_dataset(table, dir_name, partition_cols=[\"idx\", \"year\", \"month\"])"
   ]
  },
  {
   "cell_type": "code",
   "execution_count": 51,
   "id": "844913cc",
   "metadata": {
    "ExecuteTime": {
     "end_time": "2021-06-15T11:37:17.553902Z",
     "start_time": "2021-06-15T11:37:17.276875Z"
    }
   },
   "outputs": [
    {
     "name": "stdout",
     "output_type": "stream",
     "text": [
      "'idx=0'  'idx=1'  'idx=2'  'idx=3'  'idx=4'\r\n"
     ]
    }
   ],
   "source": [
    "!ls $dir_name"
   ]
  },
  {
   "cell_type": "code",
   "execution_count": 50,
   "id": "e5ba8be3",
   "metadata": {
    "ExecuteTime": {
     "end_time": "2021-06-15T11:37:07.695235Z",
     "start_time": "2021-06-15T11:37:07.433612Z"
    }
   },
   "outputs": [
    {
     "name": "stdout",
     "output_type": "stream",
     "text": [
      "bc6b2314c7f640a38c62029280f6f65e.parquet\r\n"
     ]
    }
   ],
   "source": [
    "!ls $dir_name/idx=0/year=2000/month=1"
   ]
  },
  {
   "cell_type": "code",
   "execution_count": 52,
   "id": "2d93f116",
   "metadata": {
    "ExecuteTime": {
     "end_time": "2021-06-15T11:37:26.153218Z",
     "start_time": "2021-06-15T11:37:26.109040Z"
    }
   },
   "outputs": [
    {
     "name": "stdout",
     "output_type": "stream",
     "text": [
      "./pq_partitioned2/idx=0/year=2000/month=1/bc6b2314c7f640a38c62029280f6f65e.parquet\n",
      "./pq_partitioned2/idx=1/year=2000/month=1/bb178ff0bdd344ca8328f9d67398b322.parquet\n",
      "./pq_partitioned2/idx=2/year=2000/month=1/16081eea25fd4da6bd802037b541766c.parquet\n",
      "./pq_partitioned2/idx=3/year=2000/month=1/1557b3c461054eadba16e3072fbd3a8a.parquet\n",
      "./pq_partitioned2/idx=4/year=2000/month=1/07a0c7fcf054450296b35452b57236ef.parquet\n"
     ]
    }
   ],
   "source": [
    "# Read data back.\n",
    "dataset = ds.dataset(dir_name, format=\"parquet\", partitioning=\"hive\")\n",
    "\n",
    "print(\"\\n\".join(dataset.files))"
   ]
  },
  {
   "cell_type": "code",
   "execution_count": 56,
   "id": "21148afd",
   "metadata": {
    "ExecuteTime": {
     "end_time": "2021-06-15T11:39:19.396955Z",
     "start_time": "2021-06-15T11:39:19.374534Z"
    },
    "scrolled": true
   },
   "outputs": [
    {
     "name": "stdout",
     "output_type": "stream",
     "text": [
      "# df=\n",
      "           instr  val1  val2  idx  year  month\n",
      "2000-01-01     C    99    37    2  2000      1\n",
      "2000-01-02     C    98    48    2  2000      1\n",
      "2000-01-03     C    70    58    2  2000      1\n",
      "# df.shape=\n",
      "(15, 6)\n",
      "# df.dtypes=\n",
      "instr    object\n",
      "val1      int64\n",
      "val2      int64\n",
      "idx       int32\n",
      "year      int32\n",
      "month     int32\n",
      "dtype: object\n"
     ]
    }
   ],
   "source": [
    "# Read data back.\n",
    "dataset = ds.dataset(dir_name, format=\"parquet\", partitioning=\"hive\")\n",
    "\n",
    "df2 = dataset.to_table(filter=ds.field(\"idx\") == 2).to_pandas()\n",
    "print(df_to_str(df2))"
   ]
  },
  {
   "cell_type": "code",
   "execution_count": 127,
   "id": "d9e4e596",
   "metadata": {
    "ExecuteTime": {
     "end_time": "2021-06-16T20:54:34.478646Z",
     "start_time": "2021-06-16T20:54:34.250254Z"
    },
    "scrolled": true
   },
   "outputs": [
    {
     "name": "stdout",
     "output_type": "stream",
     "text": [
      "idx: int64\n",
      "instr: string\n",
      "val1: int64\n",
      "val2: int64\n",
      "year: int64\n",
      "month: int64\n",
      "__index_level_0__: timestamp[ns]\n",
      "-- schema metadata --\n",
      "pandas: '{\"index_columns\": [\"__index_level_0__\"], \"column_indexes\": [{\"na' + 975\n"
     ]
    }
   ],
   "source": [
    "# We could scan manually and create the dirs manually if we don't want to add\n",
    "# add a new dir.\n",
    "base = \".\"\n",
    "dir_name = os.path.join(base, \"parquet_dataset_partitioned2\")\n",
    "os.system(\"rm -rf %s\" % dir_name)\n",
    "\n",
    "schemas = []\n",
    "\n",
    "schema = pa.Table.from_pandas(df).schema\n",
    "print(schema)\n",
    "# assert 0\n",
    "# idx: int64\n",
    "# instr: string\n",
    "# val1: int64\n",
    "# val2: int64\n",
    "# year: int64\n",
    "# month: int64\n",
    "\n",
    "# grouped = df.groupby(lambda x: x.day)\n",
    "group_by_idx = df.groupby(\"idx\")\n",
    "for idx, df_tmp in group_by_idx:\n",
    "    _LOG.debug(\"idx=%s -> df.shape=%s\", idx, str(df_tmp.shape))\n",
    "    #\n",
    "    group_by_year = df_tmp.groupby(lambda x: x.year)\n",
    "    for year, df_tmp2 in group_by_year:\n",
    "        _LOG.debug(\"year=%s -> df.shape=%s\", year, str(df_tmp2.shape))\n",
    "        #\n",
    "        group_by_month = df_tmp2.groupby(lambda x: x.month)\n",
    "        for month, df_tmp3 in group_by_month:\n",
    "            _LOG.debug(\"month=%s -> df.shape=%s\", month, str(df_tmp3.shape))\n",
    "            # file_name = \"df_in_one_file.pq\"\n",
    "            # pq.write_table(table, file_name)\n",
    "            # /app/data/idx=0/year=2000/month=1/02e3265d515e4fb88ebe1a72a405fc05.parquet\n",
    "            subdir_name = os.path.join(\n",
    "                dir_name, f\"idx={idx}\", f\"year={year}\", f\"month={month}\"\n",
    "            )\n",
    "            table = pa.Table.from_pandas(df_tmp3, schema=schema)\n",
    "            schemas.append(table.schema)\n",
    "            # print(df_tmp3)\n",
    "            # print(table.schema)\n",
    "            #             pq.write_to_dataset(table,\n",
    "            #                     subdir_name, schema=schema)\n",
    "            file_name = os.path.join(subdir_name, \"df_out.pq\")\n",
    "            hio.create_enclosing_dir(file_name)\n",
    "            pq.write_table(table, file_name)"
   ]
  },
  {
   "cell_type": "code",
   "execution_count": 101,
   "id": "8309de4a",
   "metadata": {
    "ExecuteTime": {
     "end_time": "2021-06-16T20:41:14.320037Z",
     "start_time": "2021-06-16T20:41:14.314354Z"
    }
   },
   "outputs": [
    {
     "data": {
      "text/plain": [
       "True"
      ]
     },
     "execution_count": 101,
     "metadata": {},
     "output_type": "execute_result"
    }
   ],
   "source": [
    "schemas[0] == schemas[4]"
   ]
  },
  {
   "cell_type": "code",
   "execution_count": 104,
   "id": "f0e49f46",
   "metadata": {
    "ExecuteTime": {
     "end_time": "2021-06-16T20:42:26.864001Z",
     "start_time": "2021-06-16T20:42:26.856395Z"
    }
   },
   "outputs": [
    {
     "data": {
      "text/plain": [
       "[idx: int64\n",
       " instr: string\n",
       " val1: int64\n",
       " val2: int64\n",
       " year: int64\n",
       " month: int64\n",
       " __index_level_0__: timestamp[ns]\n",
       " -- schema metadata --\n",
       " pandas: '{\"index_columns\": [\"__index_level_0__\"], \"column_indexes\": [{\"na' + 975,\n",
       " idx: int64\n",
       " instr: string\n",
       " val1: int64\n",
       " val2: int64\n",
       " year: int64\n",
       " month: int64\n",
       " __index_level_0__: timestamp[ns]\n",
       " -- schema metadata --\n",
       " pandas: '{\"index_columns\": [\"__index_level_0__\"], \"column_indexes\": [{\"na' + 975,\n",
       " idx: int64\n",
       " instr: string\n",
       " val1: int64\n",
       " val2: int64\n",
       " year: int64\n",
       " month: int64\n",
       " __index_level_0__: timestamp[ns]\n",
       " -- schema metadata --\n",
       " pandas: '{\"index_columns\": [\"__index_level_0__\"], \"column_indexes\": [{\"na' + 975,\n",
       " idx: int64\n",
       " instr: string\n",
       " val1: int64\n",
       " val2: int64\n",
       " year: int64\n",
       " month: int64\n",
       " __index_level_0__: timestamp[ns]\n",
       " -- schema metadata --\n",
       " pandas: '{\"index_columns\": [\"__index_level_0__\"], \"column_indexes\": [{\"na' + 975,\n",
       " idx: int64\n",
       " instr: string\n",
       " val1: int64\n",
       " val2: int64\n",
       " year: int64\n",
       " month: int64\n",
       " __index_level_0__: timestamp[ns]\n",
       " -- schema metadata --\n",
       " pandas: '{\"index_columns\": [\"__index_level_0__\"], \"column_indexes\": [{\"na' + 975]"
      ]
     },
     "execution_count": 104,
     "metadata": {},
     "output_type": "execute_result"
    }
   ],
   "source": [
    "schemas"
   ]
  },
  {
   "cell_type": "code",
   "execution_count": null,
   "id": "1130cbc2",
   "metadata": {},
   "outputs": [],
   "source": []
  },
  {
   "cell_type": "code",
   "execution_count": 124,
   "id": "e5bdcdd8",
   "metadata": {
    "ExecuteTime": {
     "end_time": "2021-06-16T20:53:50.373825Z",
     "start_time": "2021-06-16T20:53:50.099251Z"
    }
   },
   "outputs": [
    {
     "name": "stdout",
     "output_type": "stream",
     "text": [
      "df_out.pq\r\n"
     ]
    }
   ],
   "source": [
    "!ls $dir_name/idx=0/year=2000/month=1"
   ]
  },
  {
   "cell_type": "code",
   "execution_count": 130,
   "id": "aaf67ae6",
   "metadata": {
    "ExecuteTime": {
     "end_time": "2021-06-16T20:55:02.764098Z",
     "start_time": "2021-06-16T20:55:02.717192Z"
    }
   },
   "outputs": [
    {
     "ename": "ArrowInvalid",
     "evalue": "Unable to merge: Field month has incompatible types: int64 vs int32",
     "output_type": "error",
     "traceback": [
      "\u001b[0;31m---------------------------------------------------------------------------\u001b[0m",
      "\u001b[0;31mArrowInvalid\u001b[0m                              Traceback (most recent call last)",
      "\u001b[0;32m<ipython-input-130-700368b69937>\u001b[0m in \u001b[0;36m<module>\u001b[0;34m\u001b[0m\n\u001b[1;32m      3\u001b[0m \u001b[0;31m#src_dir = f\"{dir_name}/idx=0/year=2000/month=1\"\u001b[0m\u001b[0;34m\u001b[0m\u001b[0;34m\u001b[0m\u001b[0;34m\u001b[0m\u001b[0m\n\u001b[1;32m      4\u001b[0m \u001b[0msrc_dir\u001b[0m \u001b[0;34m=\u001b[0m \u001b[0;34mf\"{dir_name}/idx=0/year=2000\"\u001b[0m\u001b[0;34m\u001b[0m\u001b[0;34m\u001b[0m\u001b[0m\n\u001b[0;32m----> 5\u001b[0;31m dataset = ds.dataset(src_dir,\n\u001b[0m\u001b[1;32m      6\u001b[0m                      \u001b[0mformat\u001b[0m\u001b[0;34m=\u001b[0m\u001b[0;34m\"parquet\"\u001b[0m\u001b[0;34m,\u001b[0m\u001b[0;34m\u001b[0m\u001b[0;34m\u001b[0m\u001b[0m\n\u001b[1;32m      7\u001b[0m                      partitioning=\"hive\")\n",
      "\u001b[0;32m/venv/lib/python3.8/site-packages/pyarrow/dataset.py\u001b[0m in \u001b[0;36mdataset\u001b[0;34m(source, schema, format, filesystem, partitioning, partition_base_dir, exclude_invalid_files, ignore_prefixes)\u001b[0m\n\u001b[1;32m    654\u001b[0m \u001b[0;34m\u001b[0m\u001b[0m\n\u001b[1;32m    655\u001b[0m     \u001b[0;32mif\u001b[0m \u001b[0m_is_path_like\u001b[0m\u001b[0;34m(\u001b[0m\u001b[0msource\u001b[0m\u001b[0;34m)\u001b[0m\u001b[0;34m:\u001b[0m\u001b[0;34m\u001b[0m\u001b[0;34m\u001b[0m\u001b[0m\n\u001b[0;32m--> 656\u001b[0;31m         \u001b[0;32mreturn\u001b[0m \u001b[0m_filesystem_dataset\u001b[0m\u001b[0;34m(\u001b[0m\u001b[0msource\u001b[0m\u001b[0;34m,\u001b[0m \u001b[0;34m**\u001b[0m\u001b[0mkwargs\u001b[0m\u001b[0;34m)\u001b[0m\u001b[0;34m\u001b[0m\u001b[0;34m\u001b[0m\u001b[0m\n\u001b[0m\u001b[1;32m    657\u001b[0m     \u001b[0;32melif\u001b[0m \u001b[0misinstance\u001b[0m\u001b[0;34m(\u001b[0m\u001b[0msource\u001b[0m\u001b[0;34m,\u001b[0m \u001b[0;34m(\u001b[0m\u001b[0mtuple\u001b[0m\u001b[0;34m,\u001b[0m \u001b[0mlist\u001b[0m\u001b[0;34m)\u001b[0m\u001b[0;34m)\u001b[0m\u001b[0;34m:\u001b[0m\u001b[0;34m\u001b[0m\u001b[0;34m\u001b[0m\u001b[0m\n\u001b[1;32m    658\u001b[0m         \u001b[0;32mif\u001b[0m \u001b[0mall\u001b[0m\u001b[0;34m(\u001b[0m\u001b[0m_is_path_like\u001b[0m\u001b[0;34m(\u001b[0m\u001b[0melem\u001b[0m\u001b[0;34m)\u001b[0m \u001b[0;32mfor\u001b[0m \u001b[0melem\u001b[0m \u001b[0;32min\u001b[0m \u001b[0msource\u001b[0m\u001b[0;34m)\u001b[0m\u001b[0;34m:\u001b[0m\u001b[0;34m\u001b[0m\u001b[0;34m\u001b[0m\u001b[0m\n",
      "\u001b[0;32m/venv/lib/python3.8/site-packages/pyarrow/dataset.py\u001b[0m in \u001b[0;36m_filesystem_dataset\u001b[0;34m(source, schema, filesystem, partitioning, format, partition_base_dir, exclude_invalid_files, selector_ignore_prefixes)\u001b[0m\n\u001b[1;32m    409\u001b[0m     \u001b[0mfactory\u001b[0m \u001b[0;34m=\u001b[0m \u001b[0mFileSystemDatasetFactory\u001b[0m\u001b[0;34m(\u001b[0m\u001b[0mfs\u001b[0m\u001b[0;34m,\u001b[0m \u001b[0mpaths_or_selector\u001b[0m\u001b[0;34m,\u001b[0m \u001b[0mformat\u001b[0m\u001b[0;34m,\u001b[0m \u001b[0moptions\u001b[0m\u001b[0;34m)\u001b[0m\u001b[0;34m\u001b[0m\u001b[0;34m\u001b[0m\u001b[0m\n\u001b[1;32m    410\u001b[0m \u001b[0;34m\u001b[0m\u001b[0m\n\u001b[0;32m--> 411\u001b[0;31m     \u001b[0;32mreturn\u001b[0m \u001b[0mfactory\u001b[0m\u001b[0;34m.\u001b[0m\u001b[0mfinish\u001b[0m\u001b[0;34m(\u001b[0m\u001b[0mschema\u001b[0m\u001b[0;34m)\u001b[0m\u001b[0;34m\u001b[0m\u001b[0;34m\u001b[0m\u001b[0m\n\u001b[0m\u001b[1;32m    412\u001b[0m \u001b[0;34m\u001b[0m\u001b[0m\n\u001b[1;32m    413\u001b[0m \u001b[0;34m\u001b[0m\u001b[0m\n",
      "\u001b[0;32m/venv/lib/python3.8/site-packages/pyarrow/_dataset.pyx\u001b[0m in \u001b[0;36mpyarrow._dataset.DatasetFactory.finish\u001b[0;34m()\u001b[0m\n",
      "\u001b[0;32m/venv/lib/python3.8/site-packages/pyarrow/error.pxi\u001b[0m in \u001b[0;36mpyarrow.lib.pyarrow_internal_check_status\u001b[0;34m()\u001b[0m\n",
      "\u001b[0;32m/venv/lib/python3.8/site-packages/pyarrow/error.pxi\u001b[0m in \u001b[0;36mpyarrow.lib.check_status\u001b[0;34m()\u001b[0m\n",
      "\u001b[0;31mArrowInvalid\u001b[0m: Unable to merge: Field month has incompatible types: int64 vs int32"
     ]
    }
   ],
   "source": [
    "# Read data back.\n",
    "# https://github.com/dask/dask/issues/4194\n",
    "# src_dir = f\"{dir_name}/idx=0/year=2000/month=1\"\n",
    "src_dir = f\"{dir_name}/idx=0/year=2000\"\n",
    "dataset = ds.dataset(src_dir, format=\"parquet\", partitioning=\"hive\")\n",
    "\n",
    "df2 = dataset.to_table().to_pandas()\n",
    "# print(df_to_str(df2))\n",
    "print(\"\\n\".join(dataset.files))"
   ]
  },
  {
   "cell_type": "markdown",
   "id": "98f4111d",
   "metadata": {},
   "source": [
    "## Partition manually"
   ]
  },
  {
   "cell_type": "code",
   "execution_count": 118,
   "id": "f0b33d85",
   "metadata": {
    "ExecuteTime": {
     "end_time": "2021-06-15T00:57:11.260871Z",
     "start_time": "2021-06-15T00:57:11.235982Z"
    }
   },
   "outputs": [
    {
     "name": "stdout",
     "output_type": "stream",
     "text": [
      "(((year == 2009) and (month == 11)) and (day == 3))\n"
     ]
    },
    {
     "ename": "ValueError",
     "evalue": "Neither field_names nor schema was passed; cannot infer field_names",
     "output_type": "error",
     "traceback": [
      "\u001b[0;31m---------------------------------------------------------------------------\u001b[0m",
      "\u001b[0;31mValueError\u001b[0m                                Traceback (most recent call last)",
      "\u001b[0;32m<ipython-input-118-0a0aa4b5edb7>\u001b[0m in \u001b[0;36m<module>\u001b[0;34m\u001b[0m\n\u001b[1;32m      4\u001b[0m \u001b[0mprint\u001b[0m\u001b[0;34m(\u001b[0m\u001b[0mpartitioning\u001b[0m\u001b[0;34m.\u001b[0m\u001b[0mparse\u001b[0m\u001b[0;34m(\u001b[0m\u001b[0;34m\"/2009/11/3\"\u001b[0m\u001b[0;34m)\u001b[0m\u001b[0;34m)\u001b[0m\u001b[0;34m\u001b[0m\u001b[0;34m\u001b[0m\u001b[0m\n\u001b[1;32m      5\u001b[0m \u001b[0;34m\u001b[0m\u001b[0m\n\u001b[0;32m----> 6\u001b[0;31m \u001b[0mpartitioning\u001b[0m\u001b[0;34m.\u001b[0m\u001b[0mdiscover\u001b[0m\u001b[0;34m(\u001b[0m\u001b[0;34m)\u001b[0m\u001b[0;34m\u001b[0m\u001b[0;34m\u001b[0m\u001b[0m\n\u001b[0m",
      "\u001b[0;32m/venv/lib/python3.8/site-packages/pyarrow/_dataset.pyx\u001b[0m in \u001b[0;36mpyarrow._dataset.DirectoryPartitioning.discover\u001b[0;34m()\u001b[0m\n",
      "\u001b[0;31mValueError\u001b[0m: Neither field_names nor schema was passed; cannot infer field_names"
     ]
    }
   ],
   "source": [
    "from pyarrow.dataset import DirectoryPartitioning\n",
    "\n",
    "partitioning = DirectoryPartitioning(\n",
    "    pa.schema([(\"year\", pa.int16()), (\"month\", pa.int8()), (\"day\", pa.int8())])\n",
    ")\n",
    "print(partitioning.parse(\"/2009/11/3\"))\n",
    "\n",
    "# partitioning.discover()"
   ]
  },
  {
   "cell_type": "code",
   "execution_count": 62,
   "id": "ad70cbee",
   "metadata": {
    "ExecuteTime": {
     "end_time": "2021-06-16T11:03:31.809969Z",
     "start_time": "2021-06-16T11:03:31.526597Z"
    }
   },
   "outputs": [
    {
     "name": "stdout",
     "output_type": "stream",
     "text": [
      "'idx=0'  'idx=1'  'idx=2'  'idx=3'  'idx=4'\r\n"
     ]
    }
   ],
   "source": [
    "!ls /app/data"
   ]
  },
  {
   "cell_type": "code",
   "execution_count": 77,
   "id": "b19d1189",
   "metadata": {
    "ExecuteTime": {
     "end_time": "2021-06-16T11:18:31.838549Z",
     "start_time": "2021-06-16T11:18:31.821223Z"
    }
   },
   "outputs": [
    {
     "name": "stdout",
     "output_type": "stream",
     "text": [
      "/app/data/idx=0/year=2000/month=1/02e3265d515e4fb88ebe1a72a405fc05.parquet\n",
      "/app/data/idx=0/year=2000/month=1/0435eeb615b14155bdc26266b91a4b1b.parquet\n",
      "/app/data/idx=0/year=2000/month=1/05cc8a039ec746acb5668fde0a372028.parquet\n",
      "/app/data/idx=0/year=2000/month=1/06039c8c6e9e4d54be7dcbef2bcdfa78.parquet\n",
      "/app/data/idx=0/year=2000/month=1/0bb8e349594445a08fca4e337a7922d4.parquet\n",
      "/app/data/idx=0/year=2000/month=1/115df7cedef540469cec56ee40ac19bd.parquet\n",
      "/app/data/idx=0/year=2000/month=1/1174a70ffe614f4a9875b680e255902b.parquet\n",
      "/app/data/idx=0/year=2000/month=1/122bdd75109c4fc7918d6db00f7bed41.parquet\n",
      "/app/data/idx=0/year=2000/month=1/1543e41a14234c279fdfaa8656e8a71d.parquet\n",
      "/app/data/idx=0/year=2000/month=1/17bd91618d5240fe83309608e91cb1ef.parquet\n",
      "/app/data/idx=0/year=2000/month=1/18461c0ee57845768a503cfc865e323b.parquet\n",
      "/app/data/idx=0/year=2000/month=1/1994694468184272a388fb8b40f03d5b.parquet\n",
      "/app/data/idx=0/year=2000/month=1/1eb5f1adbe57418fa5d866d35902c39a.parquet\n",
      "/app/data/idx=0/year=2000/month=1/2bd3c3ae435b489bb194ef7b2a715d9a.parquet\n",
      "/app/data/idx=0/year=2000/month=1/2ded0d292def4e1186653d90852295f6.parquet\n",
      "/app/data/idx=0/year=2000/month=1/2ff4a2fa54664e67bab85a76324738ed.parquet\n",
      "/app/data/idx=0/year=2000/month=1/378e55b8faf24033abf1c275741a88e8.parquet\n",
      "/app/data/idx=0/year=2000/month=1/37a96e8834af4a87bc64ec3d1199ad54.parquet\n",
      "/app/data/idx=0/year=2000/month=1/3a24331d6e51402d9a86c974f8a3bd05.parquet\n",
      "/app/data/idx=0/year=2000/month=1/3ae93c6a21cc4a88bbaf90219f275563.parquet\n",
      "/app/data/idx=0/year=2000/month=1/3b5f35d2add64a738cec5061659e35a2.parquet\n",
      "/app/data/idx=0/year=2000/month=1/3d16749690f840c49facce0e37461a7e.parquet\n",
      "/app/data/idx=0/year=2000/month=1/44bf70580b9a43829addb2a9e8f89dc6.parquet\n",
      "/app/data/idx=0/year=2000/month=1/46237f338cee47c69f33b15fcb83817a.parquet\n",
      "/app/data/idx=0/year=2000/month=1/46f19733b2d642c29adb58bf9499b6ca.parquet\n",
      "/app/data/idx=0/year=2000/month=1/485f7d3d06b3486ca4bc8b35420f997a.parquet\n",
      "/app/data/idx=0/year=2000/month=1/4cd8551c6c8f4daab7313732b9c1cea8.parquet\n",
      "/app/data/idx=0/year=2000/month=1/4eca6951932d47d8a5678422da4a3d70.parquet\n",
      "/app/data/idx=0/year=2000/month=1/512a55d6f91c412f951ba66728bfe118.parquet\n",
      "/app/data/idx=0/year=2000/month=1/521193be72e1465ca33034cfd8e93ac9.parquet\n",
      "/app/data/idx=0/year=2000/month=1/59aa37cc4792493899e812215b3bb822.parquet\n",
      "/app/data/idx=0/year=2000/month=1/5aaa32a61b614d65a91747336c8028f0.parquet\n",
      "/app/data/idx=0/year=2000/month=1/5cf9306e97ae42fdae53369710a5d0b6.parquet\n",
      "/app/data/idx=0/year=2000/month=1/5fb97e575a9c4ff282293e9810040594.parquet\n",
      "/app/data/idx=0/year=2000/month=1/613e6048f8434fccafed8c9d457fddc1.parquet\n",
      "/app/data/idx=0/year=2000/month=1/61d608f23a69494eaef248d79a776ede.parquet\n",
      "/app/data/idx=0/year=2000/month=1/62bf226aebb641229b33f7e3bf9f5cb1.parquet\n",
      "/app/data/idx=0/year=2000/month=1/62c09d56d67d4c738568fed318152ca9.parquet\n",
      "/app/data/idx=0/year=2000/month=1/652129318d7a4d5b83e256a94803ecdc.parquet\n",
      "/app/data/idx=0/year=2000/month=1/67607b3708e44233927974a861972a99.parquet\n",
      "/app/data/idx=0/year=2000/month=1/69915fb955c24302a905e4520a76f547.parquet\n",
      "/app/data/idx=0/year=2000/month=1/6cc812431ef44bd195e5baf9715095a6.parquet\n",
      "/app/data/idx=0/year=2000/month=1/6ce2493e58b34b53ae42da84ee0ef165.parquet\n",
      "/app/data/idx=0/year=2000/month=1/6e88cf1910bc4a71bcea865ed1605363.parquet\n",
      "/app/data/idx=0/year=2000/month=1/70c1ba22a85f4b489096f80eacd5855c.parquet\n",
      "/app/data/idx=0/year=2000/month=1/7705f37eac7e40ceb2fba4c9fd2cb81d.parquet\n",
      "/app/data/idx=0/year=2000/month=1/7bdb4feb6a874697b8c2f9a6cb03a6e6.parquet\n",
      "/app/data/idx=0/year=2000/month=1/7fd82496e8274e999d217df302fd46b0.parquet\n",
      "/app/data/idx=0/year=2000/month=1/8130570ceae44ca69ce7b2cd9865c3ec.parquet\n",
      "/app/data/idx=0/year=2000/month=1/83f8e04fd5ac49ec80ac7b98e8221278.parquet\n",
      "/app/data/idx=0/year=2000/month=1/8469e01698bf47f28fda41a3935eeb64.parquet\n",
      "/app/data/idx=0/year=2000/month=1/874aa31290804dd0abca1a8f40dc4875.parquet\n",
      "/app/data/idx=0/year=2000/month=1/888ef49654f241df8cae8454a5cd3f07.parquet\n",
      "/app/data/idx=0/year=2000/month=1/8aa4e41d00fc438c9de0906ecc66bbb9.parquet\n",
      "/app/data/idx=0/year=2000/month=1/90e662712235472ebae79fd64eaae094.parquet\n",
      "/app/data/idx=0/year=2000/month=1/91e7dcbfc57a495a943bad2400690bc1.parquet\n",
      "/app/data/idx=0/year=2000/month=1/9394c04aef64432fb94219d0e8b50286.parquet\n",
      "/app/data/idx=0/year=2000/month=1/9740961302bc40b192d20715c52d6ef6.parquet\n",
      "/app/data/idx=0/year=2000/month=1/99e92f5585514ed4bd43b5bf50bdaaa8.parquet\n",
      "/app/data/idx=0/year=2000/month=1/9bf5c3598f69411fb1acdc30779b25bd.parquet\n",
      "/app/data/idx=0/year=2000/month=1/9d81c342203c4396ac2d9efcbb0cae7a.parquet\n",
      "/app/data/idx=0/year=2000/month=1/9d8b2486e80f40468cf4ae50a41fda41.parquet\n",
      "/app/data/idx=0/year=2000/month=1/a170565f336f4b3b99994c8d83012a4d.parquet\n",
      "/app/data/idx=0/year=2000/month=1/a50138dae90f478781bf032908703ef4.parquet\n",
      "/app/data/idx=0/year=2000/month=1/a5ab58aa310e47669e9d3604bf94f155.parquet\n",
      "/app/data/idx=0/year=2000/month=1/a5bd118e999e4df6ab3306e52671228e.parquet\n",
      "/app/data/idx=0/year=2000/month=1/a5c0a7da693147b98f68811b4af7c79e.parquet\n",
      "/app/data/idx=0/year=2000/month=1/a84afce396eb4afa91de3b08129e2ab7.parquet\n",
      "/app/data/idx=0/year=2000/month=1/a8c1f364a7c944bb89d59d354059e596.parquet\n",
      "/app/data/idx=0/year=2000/month=1/aa3bb180eda948c4aab93428ece443a8.parquet\n",
      "/app/data/idx=0/year=2000/month=1/aa868fa8e11a4a838c19a1a260dcf6f6.parquet\n",
      "/app/data/idx=0/year=2000/month=1/b01aa53c572d492f9667f157455742fc.parquet\n",
      "/app/data/idx=0/year=2000/month=1/b6a7fc9dd14a4af6a3635cd138abdfe2.parquet\n",
      "/app/data/idx=0/year=2000/month=1/b740e474de9f4b5497877c14f688faed.parquet\n",
      "/app/data/idx=0/year=2000/month=1/b81d3d9c4045498c9deb3968b935e422.parquet\n",
      "/app/data/idx=0/year=2000/month=1/b8c5a9f58500424785e4c83520931127.parquet\n",
      "/app/data/idx=0/year=2000/month=1/b9176233e3934efebb0b12e1a780a3b1.parquet\n",
      "/app/data/idx=0/year=2000/month=1/ba3d62351b7745f5a4e18f27159d5820.parquet\n",
      "/app/data/idx=0/year=2000/month=1/bb9f583ed63840b39ada7bb0f45b9d57.parquet\n",
      "/app/data/idx=0/year=2000/month=1/c55358bb09194e7aad9828678b5eaa61.parquet\n",
      "/app/data/idx=0/year=2000/month=1/c5e31c9f04a6491dbf068fa889095e27.parquet\n",
      "/app/data/idx=0/year=2000/month=1/c70308ef1a954ccea429f0de60c41fb3.parquet\n",
      "/app/data/idx=0/year=2000/month=1/cf1e928b55ba4dd09bfa2765dadffb76.parquet\n",
      "/app/data/idx=0/year=2000/month=1/d08715970c714455b7b9fbf18a86e8c0.parquet\n",
      "/app/data/idx=0/year=2000/month=1/d27b68dc839f47e2a25814d805b9d759.parquet\n",
      "/app/data/idx=0/year=2000/month=1/d46043c1511647a5b3b96450580ce6e1.parquet\n",
      "/app/data/idx=0/year=2000/month=1/d592794fbc7f4ed0877d5a350fabf8d4.parquet\n",
      "/app/data/idx=0/year=2000/month=1/d8b05ee145d046a1ac321708b68e91de.parquet\n",
      "/app/data/idx=0/year=2000/month=1/d9163626e55f40bb88142c43eb4b9fab.parquet\n",
      "/app/data/idx=0/year=2000/month=1/dcb0cd8bc9084246955a6090f643a43d.parquet\n",
      "/app/data/idx=0/year=2000/month=1/dd0db6d0e040442bb0b950efa6ac6e6a.parquet\n",
      "/app/data/idx=0/year=2000/month=1/dd306d9fd65a459fbbf1e32fc9260ae3.parquet\n",
      "/app/data/idx=0/year=2000/month=1/e05e535b8969470680658f6c2924bb68.parquet\n",
      "/app/data/idx=0/year=2000/month=1/e3aff8e0f7094609b4de8bacac5faa4c.parquet\n",
      "/app/data/idx=0/year=2000/month=1/e439d12c5539461da2b12a54d7dbb1c3.parquet\n",
      "/app/data/idx=0/year=2000/month=1/e51258868c044644a708c74ff4c2ca46.parquet\n",
      "/app/data/idx=0/year=2000/month=1/ea632843bd34467496837fea693443ff.parquet\n",
      "/app/data/idx=0/year=2000/month=1/ecf1306aadb04ecdabb50803116eb0fa.parquet\n",
      "/app/data/idx=0/year=2000/month=1/ef2355b80a7346afbabd33743d7e69a2.parquet\n",
      "/app/data/idx=0/year=2000/month=1/ef7d760f2a2245e08f8c038bdf554edd.parquet\n",
      "/app/data/idx=0/year=2000/month=1/f4ca5d31138248eca2beb467548461ed.parquet\n",
      "/app/data/idx=0/year=2000/month=1/fba715c8fda84ad88d370f71b2408c12.parquet\n",
      "/app/data/idx=0/year=2000/month=1/fe435999dba9476baec1b3009d529d32.parquet\n",
      "/app/data/idx=0/year=2000/month=1/fe53414bfef84cb39ca04b48c8e8332c.parquet\n",
      "/app/data/idx=0/year=2000/month=1/ff75b3e1006f42c9ba9deb689324ee3e.parquet\n",
      "/app/data/idx=1/year=2000/month=1/056b4d30021044298d7fde4cdd296561.parquet\n",
      "/app/data/idx=1/year=2000/month=1/0c138f0939f347928f5c2d1c92207d57.parquet\n",
      "/app/data/idx=1/year=2000/month=1/0cb27647424c4302b7a1cd47369b4e6d.parquet\n",
      "/app/data/idx=1/year=2000/month=1/1064ed9fc62a450890a19bd906d7953a.parquet\n",
      "/app/data/idx=1/year=2000/month=1/14f3b6e2235c4a2eabf23840c82059ec.parquet\n",
      "/app/data/idx=1/year=2000/month=1/1541e4cf70a048b88c7f8296456b8437.parquet\n",
      "/app/data/idx=1/year=2000/month=1/19e5b00a91f64342be20a2faee8ef69c.parquet\n",
      "/app/data/idx=1/year=2000/month=1/2512f9bc30c04375bd71f270e1901050.parquet\n",
      "/app/data/idx=1/year=2000/month=1/2641066820c74d5fadd5d1a42b40d23f.parquet\n",
      "/app/data/idx=1/year=2000/month=1/2b1c634e1ded48a2887abbb539f1ea41.parquet\n",
      "/app/data/idx=1/year=2000/month=1/2bc577092b964473943428b8c04f6414.parquet\n",
      "/app/data/idx=1/year=2000/month=1/2bc84c76804345c581c00b8e0ad59752.parquet\n",
      "/app/data/idx=1/year=2000/month=1/2bd2238465b1416a8870494b579fae42.parquet\n",
      "/app/data/idx=1/year=2000/month=1/2d5c13231ffc48aeb76bdb071663ceff.parquet\n",
      "/app/data/idx=1/year=2000/month=1/2e48508ad08c4154813996117b6a833a.parquet\n",
      "/app/data/idx=1/year=2000/month=1/3ca7d082ede544aab9f1f564acbffc14.parquet\n",
      "/app/data/idx=1/year=2000/month=1/3d1f61cf39764307bbf39762d9c38af7.parquet\n",
      "/app/data/idx=1/year=2000/month=1/40a2f2b0bd8c49be95aafc319ffd4a69.parquet\n",
      "/app/data/idx=1/year=2000/month=1/4201c94937bc44f3809d9bf883b49cd7.parquet\n",
      "/app/data/idx=1/year=2000/month=1/422474d1c6934fd298944ef7c9f21bfe.parquet\n",
      "/app/data/idx=1/year=2000/month=1/444a6621429443c8b6550c6c04b27a24.parquet\n",
      "/app/data/idx=1/year=2000/month=1/4940c21244274606bd6b543df4738ccf.parquet\n",
      "/app/data/idx=1/year=2000/month=1/4b87781720884af7ae79d3f59fd69cd3.parquet\n",
      "/app/data/idx=1/year=2000/month=1/4dd866c257864005a62854991f666b25.parquet\n",
      "/app/data/idx=1/year=2000/month=1/4f06000c93bb45f18edfa84eeb89a1b9.parquet\n",
      "/app/data/idx=1/year=2000/month=1/50716e5b2e004ba38d414a101ae09427.parquet\n",
      "/app/data/idx=1/year=2000/month=1/50fc4338cf41483091d11a2616eb6221.parquet\n",
      "/app/data/idx=1/year=2000/month=1/563109ba1ed647ef9518393a9d1ddb2e.parquet\n",
      "/app/data/idx=1/year=2000/month=1/586e3969f1084af2bf28cee6f721cdc6.parquet\n",
      "/app/data/idx=1/year=2000/month=1/5a1ba9682db3414ea33666e64d055535.parquet\n",
      "/app/data/idx=1/year=2000/month=1/5e2241ecbf364a0784626be86e38d6eb.parquet\n",
      "/app/data/idx=1/year=2000/month=1/6300ef1b3beb44f0937dc8f890e845ce.parquet\n",
      "/app/data/idx=1/year=2000/month=1/64aeabc396ba42ada56c695a32ed12a7.parquet\n",
      "/app/data/idx=1/year=2000/month=1/664ca39e99134dabbe6d4c7402f626aa.parquet\n",
      "/app/data/idx=1/year=2000/month=1/68efc5543f394005bb82c0dc63a3b01f.parquet\n",
      "/app/data/idx=1/year=2000/month=1/6c51260b47964705a3dcfa1cf25ca106.parquet\n",
      "/app/data/idx=1/year=2000/month=1/6f9ad552153244679f73a058dfc5b42e.parquet\n",
      "/app/data/idx=1/year=2000/month=1/718ffd8c75a14cde953e8e3275341d31.parquet\n",
      "/app/data/idx=1/year=2000/month=1/728984a554734a25a69f0eb1f32f842f.parquet\n",
      "/app/data/idx=1/year=2000/month=1/75296fd97a724c74bc09e9d64b528f50.parquet\n",
      "/app/data/idx=1/year=2000/month=1/76ca85d0dfd849829f105ee6fddb6439.parquet\n",
      "/app/data/idx=1/year=2000/month=1/77ac6bd92e7f4a46bbc7634de174bbf3.parquet\n",
      "/app/data/idx=1/year=2000/month=1/79a48d3eb0c144ccb13fa4baf944c92b.parquet\n",
      "/app/data/idx=1/year=2000/month=1/7a1ae42ab80b4cbf9c00a5b7f213a12c.parquet\n",
      "/app/data/idx=1/year=2000/month=1/7af9fe9698494063a751f9a8f5a317dc.parquet\n",
      "/app/data/idx=1/year=2000/month=1/7cd226f5679b4cae9af7b881fa1787b7.parquet\n",
      "/app/data/idx=1/year=2000/month=1/7fed9a3f251c44209ce0933cfe60ec98.parquet\n",
      "/app/data/idx=1/year=2000/month=1/842f90063cbb44b4ae1e7d6b9b4aa59e.parquet\n",
      "/app/data/idx=1/year=2000/month=1/84dceabacd264c82981347142463feb9.parquet\n",
      "/app/data/idx=1/year=2000/month=1/85d7b8fa841e42b097e34dcd8f13beca.parquet\n",
      "/app/data/idx=1/year=2000/month=1/878a1b363a0a48c3b0af294e9f885d72.parquet\n",
      "/app/data/idx=1/year=2000/month=1/887e26b6f1004e4fb2a5e373b4d9c5f3.parquet\n",
      "/app/data/idx=1/year=2000/month=1/88bc144aa2ed4334b077b19f702a9a99.parquet\n",
      "/app/data/idx=1/year=2000/month=1/88fe979886ee453789ca1b1083300618.parquet\n",
      "/app/data/idx=1/year=2000/month=1/8b75d58338e64ae1bc694bb0d7044597.parquet\n",
      "/app/data/idx=1/year=2000/month=1/8cf24285a4a5450ca5c56c731f5c87a0.parquet\n",
      "/app/data/idx=1/year=2000/month=1/8d873dde8103478ba44283b5c90e5060.parquet\n",
      "/app/data/idx=1/year=2000/month=1/8e25293517d8490b9f12892f63f35b3a.parquet\n",
      "/app/data/idx=1/year=2000/month=1/92bbf16c4b7f4888ae4f93efcec6d40a.parquet\n",
      "/app/data/idx=1/year=2000/month=1/9443d531d13f41b491771f22caa9d5a4.parquet\n",
      "/app/data/idx=1/year=2000/month=1/94b871d36d384a24a6f42f34d56f822c.parquet\n",
      "/app/data/idx=1/year=2000/month=1/9543cef54d3340ba9c8a2dca154947b8.parquet\n",
      "/app/data/idx=1/year=2000/month=1/985415e78a0c4abcb42a96c44bdef44b.parquet\n",
      "/app/data/idx=1/year=2000/month=1/9b501f9c98c3455ab37f13dc32d4836e.parquet\n",
      "/app/data/idx=1/year=2000/month=1/9f0ac6f2e23242b1afb424389a8a1f08.parquet\n",
      "/app/data/idx=1/year=2000/month=1/a20bfc0770454e1185f3d1b91efed93c.parquet\n",
      "/app/data/idx=1/year=2000/month=1/a31f4026dbab4ef9807081ad9be5e5cc.parquet\n",
      "/app/data/idx=1/year=2000/month=1/a472f43a45da4357b63cb0b5535e3237.parquet\n",
      "/app/data/idx=1/year=2000/month=1/a74453d72e364b0f819ecf238d9b53fd.parquet\n",
      "/app/data/idx=1/year=2000/month=1/a94d3fce611243d29a21b612f01e5a18.parquet\n",
      "/app/data/idx=1/year=2000/month=1/a990f67b865f4e599ffa926341915ae2.parquet\n",
      "/app/data/idx=1/year=2000/month=1/aa28c2d20ed140b18ddead5b11b96a0b.parquet\n",
      "/app/data/idx=1/year=2000/month=1/aa724649481e4f7aa95b78cfe333c72d.parquet\n",
      "/app/data/idx=1/year=2000/month=1/ac4487b08071423481580622be8d9914.parquet\n",
      "/app/data/idx=1/year=2000/month=1/ad2a3795a1ad46f0b7b509a6ebdc85f4.parquet\n",
      "/app/data/idx=1/year=2000/month=1/afa56f8175ed41a8b34bac4ac6786cf3.parquet\n",
      "/app/data/idx=1/year=2000/month=1/b6c7cee2c50642bbaacf29e16dbbece5.parquet\n",
      "/app/data/idx=1/year=2000/month=1/b9c0158311a04c3fa9c594d6db280053.parquet\n",
      "/app/data/idx=1/year=2000/month=1/bbbd7a1b72b645ed8afdada3a0fd9fac.parquet\n",
      "/app/data/idx=1/year=2000/month=1/bbce481ce9fc404684db9578007edd4b.parquet\n",
      "/app/data/idx=1/year=2000/month=1/bbf2ea53874d4bb49b7ebf959c24b060.parquet\n",
      "/app/data/idx=1/year=2000/month=1/bd054b89ad8a46f29968468a4fd6d34d.parquet\n",
      "/app/data/idx=1/year=2000/month=1/c1a395d1127240c1b9d7ebcb0d63842f.parquet\n",
      "/app/data/idx=1/year=2000/month=1/c27376832ccd439685bdc3b11cdcec0f.parquet\n",
      "/app/data/idx=1/year=2000/month=1/c5c55b01bbe1494e9297385e99e9f0d3.parquet\n",
      "/app/data/idx=1/year=2000/month=1/c872faa9a863454cadc603827abd3f6c.parquet\n",
      "/app/data/idx=1/year=2000/month=1/c9528d72e8574a279c0995c3de171de3.parquet\n",
      "/app/data/idx=1/year=2000/month=1/cb7475b11c924a689515ade22ec7b134.parquet\n",
      "/app/data/idx=1/year=2000/month=1/cb9a2e526b7845daaaf8f3ced61d8597.parquet\n",
      "/app/data/idx=1/year=2000/month=1/cd356e54f63c483ea4792e842667c1ac.parquet\n",
      "/app/data/idx=1/year=2000/month=1/cdd3925db9ae44a0ba2760031b229219.parquet\n",
      "/app/data/idx=1/year=2000/month=1/d118c630c6194befaae2217985c9073c.parquet\n",
      "/app/data/idx=1/year=2000/month=1/d68ddf28bd144430a5dc2c4437f37472.parquet\n",
      "/app/data/idx=1/year=2000/month=1/d7adfebd0e9249f989f41e10ca61bf59.parquet\n",
      "/app/data/idx=1/year=2000/month=1/d9b7947e9c6b400080d2226093fcc571.parquet\n",
      "/app/data/idx=1/year=2000/month=1/d9f610ef03c748619ee5ef2ddcde2634.parquet\n",
      "/app/data/idx=1/year=2000/month=1/dcbf892a4231404c90139ee3adfc6815.parquet\n",
      "/app/data/idx=1/year=2000/month=1/e083fc488a7446bbbdad82c37f8fca29.parquet\n",
      "/app/data/idx=1/year=2000/month=1/e5f84abccb0d407898e892f78dcb9ce1.parquet\n",
      "/app/data/idx=1/year=2000/month=1/e74ca84dac2e4d53977a54d9daeb7adc.parquet\n",
      "/app/data/idx=1/year=2000/month=1/e85272be7a1c411a886bc856c6012396.parquet\n",
      "/app/data/idx=1/year=2000/month=1/ec83d2e5ff534be1b28b4cf511b67e0d.parquet\n",
      "/app/data/idx=1/year=2000/month=1/ef6709a1008c43cc994cf01278474c94.parquet\n",
      "/app/data/idx=1/year=2000/month=1/f7249440aa6f403f934e5018d34a583c.parquet\n",
      "/app/data/idx=1/year=2000/month=1/fc96559adfd2419a9a1cf883b4d521fb.parquet\n",
      "/app/data/idx=2/year=2000/month=1/0210672cfa44441bbcf4c07a2bd3c467.parquet\n",
      "/app/data/idx=2/year=2000/month=1/0259160641d446518dffe477c5265240.parquet\n",
      "/app/data/idx=2/year=2000/month=1/04cce58d49ba4c3982dd0823f43f29a9.parquet\n",
      "/app/data/idx=2/year=2000/month=1/058031e2ce2d4bd99cbe7297756dd547.parquet\n",
      "/app/data/idx=2/year=2000/month=1/06918413b55f43a19fb7f4e13712c396.parquet\n",
      "/app/data/idx=2/year=2000/month=1/07a8bd5cb80140a48f709d86fe3e00aa.parquet\n",
      "/app/data/idx=2/year=2000/month=1/0bca80d1ee444038871e5fbb1ccc4d21.parquet\n",
      "/app/data/idx=2/year=2000/month=1/0bd86024c6234346b739be5af1a49ed2.parquet\n",
      "/app/data/idx=2/year=2000/month=1/0c2d3de1afda4b8f82f43cf658a09fb8.parquet\n",
      "/app/data/idx=2/year=2000/month=1/0d4d954eab7043a0a8d7bd751897deb5.parquet\n",
      "/app/data/idx=2/year=2000/month=1/0d976fec817b4dd88d3082fe39e6f2b6.parquet\n",
      "/app/data/idx=2/year=2000/month=1/12255adedd3948d4b8ced88001a61e04.parquet\n",
      "/app/data/idx=2/year=2000/month=1/1406843e1322465e8384ba8685a9eb9d.parquet\n",
      "/app/data/idx=2/year=2000/month=1/15ab3cbd13ce4fc7ab69d5c2b1672ca2.parquet\n",
      "/app/data/idx=2/year=2000/month=1/18b68b427e2947bbaee4122bc2b0fbf8.parquet\n",
      "/app/data/idx=2/year=2000/month=1/1a883ab5889441578fbf5f0a2c822c07.parquet\n",
      "/app/data/idx=2/year=2000/month=1/1cc7612ae5e34455a716fc38b84427bb.parquet\n",
      "/app/data/idx=2/year=2000/month=1/1e188269ac30443fa796a8bdbea70e46.parquet\n",
      "/app/data/idx=2/year=2000/month=1/1e803b9281ef4d4289f8a207de2fd2a2.parquet\n",
      "/app/data/idx=2/year=2000/month=1/2099fd988d544989b1117a45cd92e2c5.parquet\n",
      "/app/data/idx=2/year=2000/month=1/245b2e48c3d442f990dfd9f3f18f5544.parquet\n",
      "/app/data/idx=2/year=2000/month=1/2cc8cd4af02e48728683551df1d9b517.parquet\n",
      "/app/data/idx=2/year=2000/month=1/2e389e9f7c4f43ea8ff96d1fa13f0347.parquet\n",
      "/app/data/idx=2/year=2000/month=1/2edcd33c70704b64b80987aba03d724e.parquet\n",
      "/app/data/idx=2/year=2000/month=1/3170732421924aeaa451ca82a4b77131.parquet\n",
      "/app/data/idx=2/year=2000/month=1/3227923c1dab4e7fbe07511111e76f67.parquet\n",
      "/app/data/idx=2/year=2000/month=1/3607d6e90ab64fff84b4f2c9477540ce.parquet\n",
      "/app/data/idx=2/year=2000/month=1/3b733f19c98f44ebb6ab31e93d18f09b.parquet\n",
      "/app/data/idx=2/year=2000/month=1/3d79e3dd93d44a208aadd899a9632005.parquet\n",
      "/app/data/idx=2/year=2000/month=1/3e2d5106997b4d2a8a4aaaada70b5c34.parquet\n",
      "/app/data/idx=2/year=2000/month=1/3ea888ba5f0c4c46aaa55795799c8614.parquet\n",
      "/app/data/idx=2/year=2000/month=1/4065fbfffe364f5b8f661dd0caff5c00.parquet\n",
      "/app/data/idx=2/year=2000/month=1/4438f729a59e4bee856e9766a7866777.parquet\n",
      "/app/data/idx=2/year=2000/month=1/489418f859104268b59905195289b433.parquet\n",
      "/app/data/idx=2/year=2000/month=1/4a07e13d3bab4ee4bed09868f4d0ae6a.parquet\n",
      "/app/data/idx=2/year=2000/month=1/4ade79216a6f42ffbfa7ee5c2949d904.parquet\n",
      "/app/data/idx=2/year=2000/month=1/508e221eeacc4624977761af65fdf95f.parquet\n",
      "/app/data/idx=2/year=2000/month=1/520f6ff1dee6468099730664d5bea3de.parquet\n",
      "/app/data/idx=2/year=2000/month=1/537a5c5b6d2949eca8c35db48dcc123f.parquet\n",
      "/app/data/idx=2/year=2000/month=1/552fbc5a37494e7bb792e3c225cd4021.parquet\n",
      "/app/data/idx=2/year=2000/month=1/589b0598f3eb4f178125912219919413.parquet\n",
      "/app/data/idx=2/year=2000/month=1/62c0c2448a5d49889e2d2b8421264798.parquet\n",
      "/app/data/idx=2/year=2000/month=1/6312935db784424a957645de2de4a4c2.parquet\n",
      "/app/data/idx=2/year=2000/month=1/64f32e163bed483b860f21c6666b0a7d.parquet\n",
      "/app/data/idx=2/year=2000/month=1/66414c74b1ab4c3cb155b440359b1705.parquet\n",
      "/app/data/idx=2/year=2000/month=1/6f0e1508809f47efba9fe398311b711c.parquet\n",
      "/app/data/idx=2/year=2000/month=1/724d5c288c834e34846ad8871a94ee10.parquet\n",
      "/app/data/idx=2/year=2000/month=1/740e15b45d2745a997e81672fc58481e.parquet\n",
      "/app/data/idx=2/year=2000/month=1/75d5db2fb8404493bd6f6ebbeee50e91.parquet\n",
      "/app/data/idx=2/year=2000/month=1/765f6b9e1260430680f79e9c4b8de8a1.parquet\n",
      "/app/data/idx=2/year=2000/month=1/7893a366f6fd4770ac34af71a74af552.parquet\n",
      "/app/data/idx=2/year=2000/month=1/7d6b206a0cdc4c7baefb675350602e10.parquet\n",
      "/app/data/idx=2/year=2000/month=1/7d7c7ec0eaf04cf386ce6d93c5107246.parquet\n",
      "/app/data/idx=2/year=2000/month=1/7e5eb92603774185bce487436db2af8f.parquet\n",
      "/app/data/idx=2/year=2000/month=1/7f393857790e43da9549ed4c69797d18.parquet\n",
      "/app/data/idx=2/year=2000/month=1/7f72ff606a804972a50960d0efcebcae.parquet\n",
      "/app/data/idx=2/year=2000/month=1/8415983fe0a549c89ea28b25db102138.parquet\n",
      "/app/data/idx=2/year=2000/month=1/86cf478f40914946b5b86106be97f7d8.parquet\n",
      "/app/data/idx=2/year=2000/month=1/86f1de6e862141be8bd612465486fd16.parquet\n",
      "/app/data/idx=2/year=2000/month=1/895fb45b8f554034a79ebd9c8eff9cad.parquet\n",
      "/app/data/idx=2/year=2000/month=1/896bad5a081440b582d71fbb5baa4998.parquet\n",
      "/app/data/idx=2/year=2000/month=1/8c2163530eef4b7b9e22fc1d4d99d6d5.parquet\n",
      "/app/data/idx=2/year=2000/month=1/8c3b5f112ddf48e1a165bcad69f7e548.parquet\n",
      "/app/data/idx=2/year=2000/month=1/8f54037c274c424fa2e13e83afe6a983.parquet\n",
      "/app/data/idx=2/year=2000/month=1/9267bc6aecba4d66952bc7778a97bbb0.parquet\n",
      "/app/data/idx=2/year=2000/month=1/978623e40a264ecbb8e3e7afee4a9221.parquet\n",
      "/app/data/idx=2/year=2000/month=1/9b501c10edd94539b8147571202e7dfe.parquet\n",
      "/app/data/idx=2/year=2000/month=1/a2cbd94909a7409cb233cc388fcd53be.parquet\n",
      "/app/data/idx=2/year=2000/month=1/a570b6d3b72d4c8090c4efcb2eeb2d70.parquet\n",
      "/app/data/idx=2/year=2000/month=1/a88b8e956c104202a8f2d279c7e58741.parquet\n",
      "/app/data/idx=2/year=2000/month=1/a97573410ce04706ac3d5c88f9cd285e.parquet\n",
      "/app/data/idx=2/year=2000/month=1/a9c31f330c2d454a8911627eaafe7e31.parquet\n",
      "/app/data/idx=2/year=2000/month=1/aa941bd2b9574ce294967019aa4cd515.parquet\n",
      "/app/data/idx=2/year=2000/month=1/af86ac06c6f7484c8bbb8215a408ce73.parquet\n",
      "/app/data/idx=2/year=2000/month=1/b35d48ff673541559bf27f4c3e1feab6.parquet\n",
      "/app/data/idx=2/year=2000/month=1/b5b85036b2c540f9add4b86012873462.parquet\n",
      "/app/data/idx=2/year=2000/month=1/b8b4abc89c824a17a263d898f4bca476.parquet\n",
      "/app/data/idx=2/year=2000/month=1/bb6a1df466d84085bc0900641233cbc3.parquet\n",
      "/app/data/idx=2/year=2000/month=1/bb95334225ce41768c1175ccabad174b.parquet\n",
      "/app/data/idx=2/year=2000/month=1/bca9c21e480249eebb26aeed167b1293.parquet\n",
      "/app/data/idx=2/year=2000/month=1/bf49382a8e024ffe9c17e4849ce4127f.parquet\n",
      "/app/data/idx=2/year=2000/month=1/c06c38062a2b4e13b4e1ee1eaf03bfa2.parquet\n",
      "/app/data/idx=2/year=2000/month=1/c1f40b6256444001af06dc2fb98f5e5c.parquet\n",
      "/app/data/idx=2/year=2000/month=1/c4968d0cbcd54c83a0dd3e57039f0578.parquet\n",
      "/app/data/idx=2/year=2000/month=1/c6afa57132184a71becf083d1b553473.parquet\n",
      "/app/data/idx=2/year=2000/month=1/c87a24c747984bf58745b666dac98323.parquet\n",
      "/app/data/idx=2/year=2000/month=1/cc34429087f54f7aaf1e84bc12517c26.parquet\n",
      "/app/data/idx=2/year=2000/month=1/cc839cdd3fbe465abc78861a4cc11acf.parquet\n",
      "/app/data/idx=2/year=2000/month=1/db6c45d7e8234bc1949ddd8973010d7f.parquet\n",
      "/app/data/idx=2/year=2000/month=1/dbb0a2e2bdbc4319a07d04af0d9356fc.parquet\n",
      "/app/data/idx=2/year=2000/month=1/dbde0aee2a4647939d6f027a99e37cc4.parquet\n",
      "/app/data/idx=2/year=2000/month=1/ddd0738116b5496391991ad6d3e781b9.parquet\n",
      "/app/data/idx=2/year=2000/month=1/e52fd781bd78475789d4160624a6e34a.parquet\n",
      "/app/data/idx=2/year=2000/month=1/e9c5c04f931f4fd4b6afb51db34cda54.parquet\n",
      "/app/data/idx=2/year=2000/month=1/eee841a6139a4fe19620045f04c2f908.parquet\n",
      "/app/data/idx=2/year=2000/month=1/ef42e36ceb794730ac25dad68f73294d.parquet\n",
      "/app/data/idx=2/year=2000/month=1/efe26f73b0494f828fcf2686b6874c71.parquet\n",
      "/app/data/idx=2/year=2000/month=1/f15094f2f10748e59573fecb5435ecc4.parquet\n",
      "/app/data/idx=2/year=2000/month=1/f1e37026291c41c5ae698956baa6bf39.parquet\n",
      "/app/data/idx=2/year=2000/month=1/f1f56b07a73646e4a5219a2623b04489.parquet\n",
      "/app/data/idx=2/year=2000/month=1/f25704c4b00a418c9fa2385f9018adc7.parquet\n",
      "/app/data/idx=2/year=2000/month=1/f60540924a1641de9d64f66c1af980dd.parquet\n",
      "/app/data/idx=2/year=2000/month=1/f62eada23e1d430dacb69eeff0d5ba59.parquet\n",
      "/app/data/idx=2/year=2000/month=1/f9b43fe646ec4607baa500b1360a6e1c.parquet\n",
      "/app/data/idx=2/year=2000/month=1/fc3a31bc82ba4f17a93a18138887d9d5.parquet\n",
      "/app/data/idx=3/year=2000/month=1/00b291e6d0d2494a8652e6ffcf1746c5.parquet\n",
      "/app/data/idx=3/year=2000/month=1/01b6882837054cc4801c6929a630abd7.parquet\n",
      "/app/data/idx=3/year=2000/month=1/09ebeae420f348c28a365f607978aeda.parquet\n",
      "/app/data/idx=3/year=2000/month=1/0c41010bec604c93b974e72fa35cc2c7.parquet\n",
      "/app/data/idx=3/year=2000/month=1/0cb995ed168f4829a38db4f75d4ed14b.parquet\n",
      "/app/data/idx=3/year=2000/month=1/0cf1a660ee984efcaabe1d1bb9263a9a.parquet\n",
      "/app/data/idx=3/year=2000/month=1/0d0bbc2ee628424f8204240680f44389.parquet\n",
      "/app/data/idx=3/year=2000/month=1/0f72553d38cb47f095fdf35e03507dd3.parquet\n",
      "/app/data/idx=3/year=2000/month=1/0ff3e55ae9464e369302d1fb2abaec40.parquet\n",
      "/app/data/idx=3/year=2000/month=1/1165cf18728c41edb7bb8a765ae7854d.parquet\n",
      "/app/data/idx=3/year=2000/month=1/12a3b4dadd4f43389c269f4b736278c2.parquet\n",
      "/app/data/idx=3/year=2000/month=1/1a204362f488461da026ee347c817e2e.parquet\n",
      "/app/data/idx=3/year=2000/month=1/1c306421662241b48b85f24d033898fc.parquet\n",
      "/app/data/idx=3/year=2000/month=1/22155eaaf5ce4e36bbb36b162dadae9e.parquet\n",
      "/app/data/idx=3/year=2000/month=1/229cb1d3321f4660866b414f3a647fff.parquet\n",
      "/app/data/idx=3/year=2000/month=1/280b6ca59e1f4312b872fd23d96ed6df.parquet\n",
      "/app/data/idx=3/year=2000/month=1/2859c7dccfe54951a955941fa23a33b1.parquet\n",
      "/app/data/idx=3/year=2000/month=1/2a17999c98294f38ac3e60af45779214.parquet\n",
      "/app/data/idx=3/year=2000/month=1/2e3b411a5a3a48aba5e52053e54dbe9f.parquet\n",
      "/app/data/idx=3/year=2000/month=1/2eb295d22ddd4ca9801d7b0a6a950261.parquet\n",
      "/app/data/idx=3/year=2000/month=1/313a5fc7ea2c49009cd68f31ce030eb3.parquet\n",
      "/app/data/idx=3/year=2000/month=1/319b8c873aba46d9a39aaed1d7ade697.parquet\n",
      "/app/data/idx=3/year=2000/month=1/36c17affd08e450ba034d29818f6c94f.parquet\n",
      "/app/data/idx=3/year=2000/month=1/37170fb9855d47f0871cbf1b3c4a5763.parquet\n",
      "/app/data/idx=3/year=2000/month=1/3772fba9cef64744a8aa5ad999a1d48d.parquet\n",
      "/app/data/idx=3/year=2000/month=1/3d68d10aee3b46e9ab4c2341f395e9f8.parquet\n",
      "/app/data/idx=3/year=2000/month=1/3da7295cc0ee4953aad41cddb746c0ec.parquet\n",
      "/app/data/idx=3/year=2000/month=1/401a2d5e38ee4581ac5950131e7739ed.parquet\n",
      "/app/data/idx=3/year=2000/month=1/40bb809ba5824fa48218e2543e1317d8.parquet\n",
      "/app/data/idx=3/year=2000/month=1/42c11bbbec28471d818c4eda7ffa0316.parquet\n",
      "/app/data/idx=3/year=2000/month=1/430d92d720ef40aca2043cdd9a4216a7.parquet\n",
      "/app/data/idx=3/year=2000/month=1/4344d9475f474d4289c16c14e3d76205.parquet\n",
      "/app/data/idx=3/year=2000/month=1/4965043c1c58485fb9a81ca502c9704c.parquet\n",
      "/app/data/idx=3/year=2000/month=1/4c954d56c1f040f8adcb92a116fc3e4a.parquet\n",
      "/app/data/idx=3/year=2000/month=1/4cb7c012e50c4e45988d6c73f931babf.parquet\n",
      "/app/data/idx=3/year=2000/month=1/4d11aa2de91047638fd1fbb49180b828.parquet\n",
      "/app/data/idx=3/year=2000/month=1/59de1ba8fd7b41d7819849137f7b9817.parquet\n",
      "/app/data/idx=3/year=2000/month=1/5a31ef5acc2340b7a575b1d77e9e9917.parquet\n",
      "/app/data/idx=3/year=2000/month=1/5b14185275384ee5ae5839b6d69c714e.parquet\n",
      "/app/data/idx=3/year=2000/month=1/5b35b2943a7c476aa5dc3a2af08f13fe.parquet\n",
      "/app/data/idx=3/year=2000/month=1/5e6bb9eceb2d4a4ebddd39e06db86d67.parquet\n",
      "/app/data/idx=3/year=2000/month=1/5f8372dbc36a4681bdebfaa9f3328eec.parquet\n",
      "/app/data/idx=3/year=2000/month=1/6317cb7958d2459595a28bdca41f42d5.parquet\n",
      "/app/data/idx=3/year=2000/month=1/67ba93ec02b44b0593c0ff37aa3db5b7.parquet\n",
      "/app/data/idx=3/year=2000/month=1/69be17b95a9046c2a4553f5c077f5fff.parquet\n",
      "/app/data/idx=3/year=2000/month=1/6ac05cada45b48b89ec15b0f76df21ac.parquet\n",
      "/app/data/idx=3/year=2000/month=1/6ce38fe0d6a54853a757745eb148960a.parquet\n",
      "/app/data/idx=3/year=2000/month=1/7000686e11b34200ae44dfe294dc8c8e.parquet\n",
      "/app/data/idx=3/year=2000/month=1/70f44eb7513c4100aa2cd5779e3c5d67.parquet\n",
      "/app/data/idx=3/year=2000/month=1/7421bdc2222640b38ada8d94e10e5865.parquet\n",
      "/app/data/idx=3/year=2000/month=1/78f4a6251bb7423e800ada3444bb54c1.parquet\n",
      "/app/data/idx=3/year=2000/month=1/874eb82772844f269bc5360ef1971245.parquet\n",
      "/app/data/idx=3/year=2000/month=1/87baf01b30ce467ca976e26ad5bec1e2.parquet\n",
      "/app/data/idx=3/year=2000/month=1/8a31ab99c92a4a8b829f37561cc99956.parquet\n",
      "/app/data/idx=3/year=2000/month=1/8aa9003415c649288a13560a1352805b.parquet\n",
      "/app/data/idx=3/year=2000/month=1/8ae3a6e6214f4816b469f09b01c2e955.parquet\n",
      "/app/data/idx=3/year=2000/month=1/8ff02b303fca4f86a129197874e8e6fe.parquet\n",
      "/app/data/idx=3/year=2000/month=1/94c27fe8b6084f7b8606cef710bab753.parquet\n",
      "/app/data/idx=3/year=2000/month=1/94c4de33006f424e8cb424accfad8a2c.parquet\n",
      "/app/data/idx=3/year=2000/month=1/9c9b600151fb47e5a073e51a735e1537.parquet\n",
      "/app/data/idx=3/year=2000/month=1/9e59161660e140209e94cab5f7ea5098.parquet\n",
      "/app/data/idx=3/year=2000/month=1/9fadcdc1ab7a4b9783128af7b744d705.parquet\n",
      "/app/data/idx=3/year=2000/month=1/9fd3848ab9c54869b34c3a5d8e79be9a.parquet\n",
      "/app/data/idx=3/year=2000/month=1/a2c45c983d5b469997c55c4e2ad72427.parquet\n",
      "/app/data/idx=3/year=2000/month=1/a3f1f0a5cca84c4eaa7f2a1bef1f88b0.parquet\n",
      "/app/data/idx=3/year=2000/month=1/a43049d78c9341668d77a63fc3b4d57f.parquet\n",
      "/app/data/idx=3/year=2000/month=1/aa89184d32ca40c28f44109c97cee774.parquet\n",
      "/app/data/idx=3/year=2000/month=1/ab3cf71e9caa44ec90adc43a56867162.parquet\n",
      "/app/data/idx=3/year=2000/month=1/acab0d093d9a4bca854719e790512a25.parquet\n",
      "/app/data/idx=3/year=2000/month=1/acf77747edbf4df5b457cfc8a77e0dc0.parquet\n",
      "/app/data/idx=3/year=2000/month=1/b5672b45b393472986217241b378742f.parquet\n",
      "/app/data/idx=3/year=2000/month=1/b7fd4df9bc9440ff94d713a7e43959d2.parquet\n",
      "/app/data/idx=3/year=2000/month=1/b81af51b094e457faa6c786d1fffc470.parquet\n",
      "/app/data/idx=3/year=2000/month=1/bbedc33b622c46b7af6af9c62e139163.parquet\n",
      "/app/data/idx=3/year=2000/month=1/befaac43d5fa49f0a118ffaac6b5c4d3.parquet\n",
      "/app/data/idx=3/year=2000/month=1/c0a4a83a65d94f2281b2039cac0e2c9e.parquet\n",
      "/app/data/idx=3/year=2000/month=1/c4f44bc2181f45a3866cc232d80f2e46.parquet\n",
      "/app/data/idx=3/year=2000/month=1/c63bff60ba67488d8ce536aa47774b53.parquet\n",
      "/app/data/idx=3/year=2000/month=1/c74c114cc7e34985aeb20e14c2b26f3c.parquet\n",
      "/app/data/idx=3/year=2000/month=1/c7eb09b4b0cf44eab86d88f11d00c222.parquet\n",
      "/app/data/idx=3/year=2000/month=1/ce3160350479478da1a327405dc4cbe8.parquet\n",
      "/app/data/idx=3/year=2000/month=1/cfb6a5a4bdbb4bb0a6afa699aa2e100a.parquet\n",
      "/app/data/idx=3/year=2000/month=1/d137ffa9eeeb418491e792c7871334c6.parquet\n",
      "/app/data/idx=3/year=2000/month=1/d43ffbf42b694713ae6e4b1e408529f9.parquet\n",
      "/app/data/idx=3/year=2000/month=1/d7f91f13f3444032995bc7c6c0bcd1cd.parquet\n",
      "/app/data/idx=3/year=2000/month=1/d9aa67eaa7f144fc8613ce81bd072167.parquet\n",
      "/app/data/idx=3/year=2000/month=1/ddeb24d5cdb043f380654ff98d83adc9.parquet\n",
      "/app/data/idx=3/year=2000/month=1/e1e0b2ae05154f459914dad148a7779f.parquet\n",
      "/app/data/idx=3/year=2000/month=1/e74ecdc304164cd8b953c808a1353bfd.parquet\n",
      "/app/data/idx=3/year=2000/month=1/e7eb8d26146c423eaa1a77343d16920b.parquet\n",
      "/app/data/idx=3/year=2000/month=1/e937a5e6dd0241c1a50b24a1c9b4ea7a.parquet\n",
      "/app/data/idx=3/year=2000/month=1/e94bfddc06704799a2699d3a90d9843b.parquet\n",
      "/app/data/idx=3/year=2000/month=1/f08328e844ab486ca07eda98bf1ca9ba.parquet\n",
      "/app/data/idx=3/year=2000/month=1/f154e97e55b0428185553c4acb9ce227.parquet\n",
      "/app/data/idx=3/year=2000/month=1/f38d8f30947f4bd08fb1c10bc81d8ee7.parquet\n",
      "/app/data/idx=3/year=2000/month=1/f3fb7ade438a4929aba0109858f4abe4.parquet\n",
      "/app/data/idx=3/year=2000/month=1/f458cf905d5845f1ac64183bba7a4826.parquet\n",
      "/app/data/idx=3/year=2000/month=1/f6ce7accff3e4eb8b601078583655865.parquet\n",
      "/app/data/idx=3/year=2000/month=1/f7d729c528904fd182207989fef04050.parquet\n",
      "/app/data/idx=3/year=2000/month=1/f9d5734d70c542a3bf5ba9e004cb2e95.parquet\n",
      "/app/data/idx=3/year=2000/month=1/fbeb2f31e5784074a90d737fb8c4e047.parquet\n",
      "/app/data/idx=3/year=2000/month=1/fc1fb4ad31c448eeb8724a3069e760f0.parquet\n",
      "/app/data/idx=3/year=2000/month=1/fde846fa6d8649c9b1770638786fb18c.parquet\n",
      "/app/data/idx=3/year=2000/month=1/fe9c940d68fd4759a90408a1245022a6.parquet\n",
      "/app/data/idx=3/year=2000/month=1/ffebea86d7fe4a64a973415ab3b6eccf.parquet\n",
      "/app/data/idx=4/year=2000/month=1/01a585864dc644b6a4a7b13ae97c1f85.parquet\n",
      "/app/data/idx=4/year=2000/month=1/0251c252cf544dc49285c7e4fcbf9784.parquet\n",
      "/app/data/idx=4/year=2000/month=1/026b7ed2f32a4a4d9b1fe4bf2e2c45ce.parquet\n",
      "/app/data/idx=4/year=2000/month=1/03343bb5f29d42f19ce58caddb755df7.parquet\n",
      "/app/data/idx=4/year=2000/month=1/04f9e581b08c424595f85fa85f87cb2c.parquet\n",
      "/app/data/idx=4/year=2000/month=1/05751ecfd2734eedb17546ca81f8344a.parquet\n",
      "/app/data/idx=4/year=2000/month=1/05f08cd7531f42a792e243c617b344f1.parquet\n",
      "/app/data/idx=4/year=2000/month=1/061bd006ae35412eb8e5b758c50102c4.parquet\n",
      "/app/data/idx=4/year=2000/month=1/06ba2d68586e4088921c99eddd5a5d86.parquet\n",
      "/app/data/idx=4/year=2000/month=1/06df2daa4186437791d71a6b8e23519d.parquet\n",
      "/app/data/idx=4/year=2000/month=1/07369c0250b5496bbac305aa1909eaa1.parquet\n",
      "/app/data/idx=4/year=2000/month=1/0beb1321d8304074994a90b3a7eb94c5.parquet\n",
      "/app/data/idx=4/year=2000/month=1/0f0e0602ffe5408a82d5265b2dc5ec18.parquet\n",
      "/app/data/idx=4/year=2000/month=1/0fc5d753f2184cb0868ae28fc84c227e.parquet\n",
      "/app/data/idx=4/year=2000/month=1/135fcc4c1e5a4823ae050c1e89fa413c.parquet\n",
      "/app/data/idx=4/year=2000/month=1/156b561654924ad1b111bd5c965a46c2.parquet\n",
      "/app/data/idx=4/year=2000/month=1/168d6922b1824cedb14d5654d75ba284.parquet\n",
      "/app/data/idx=4/year=2000/month=1/1827f11f108341ccb48a0bb6ab694a64.parquet\n",
      "/app/data/idx=4/year=2000/month=1/18e1c91f8c724d30a77bdd47e665c571.parquet\n",
      "/app/data/idx=4/year=2000/month=1/19016c157bce43e394b117e8e0ed2557.parquet\n",
      "/app/data/idx=4/year=2000/month=1/1a2c4e9d435f4c5faf83efbbb559118b.parquet\n",
      "/app/data/idx=4/year=2000/month=1/1d3c8ecb9804470c87bfd7c25a3dab28.parquet\n",
      "/app/data/idx=4/year=2000/month=1/1ee5f78eb54548278ae0a857c616e84c.parquet\n",
      "/app/data/idx=4/year=2000/month=1/1ff311b87ba74e998ff7a5267ba52832.parquet\n",
      "/app/data/idx=4/year=2000/month=1/285e2e6ef8c34d45b73916b4bfe1a2bf.parquet\n",
      "/app/data/idx=4/year=2000/month=1/288d2d389b1e4a7695454e12fc442592.parquet\n",
      "/app/data/idx=4/year=2000/month=1/2bfb7829ce324e1bb182159d8a6e7966.parquet\n",
      "/app/data/idx=4/year=2000/month=1/2cb8084772654371bc4aab66bab3d5fc.parquet\n",
      "/app/data/idx=4/year=2000/month=1/2d0d1ce706fe41feadf69279c0290101.parquet\n",
      "/app/data/idx=4/year=2000/month=1/2d4a13244f154d278d237535e957d174.parquet\n",
      "/app/data/idx=4/year=2000/month=1/2d73ffb2b7314b48b25c924dad691fa1.parquet\n",
      "/app/data/idx=4/year=2000/month=1/30c6048fdac04824831e0a984445c238.parquet\n",
      "/app/data/idx=4/year=2000/month=1/3b3610138fd84568b3f6b20ccce2b296.parquet\n",
      "/app/data/idx=4/year=2000/month=1/3d33b2adeb0c406aafda7296398833d2.parquet\n",
      "/app/data/idx=4/year=2000/month=1/3fb3450af6ed4ddc996b10c7316018af.parquet\n",
      "/app/data/idx=4/year=2000/month=1/4384e6f19b984984a0e583891fab8200.parquet\n",
      "/app/data/idx=4/year=2000/month=1/4499b3a4074d42ad87a6a74f031bad48.parquet\n",
      "/app/data/idx=4/year=2000/month=1/578cd70733f54818812b7fee342f7922.parquet\n",
      "/app/data/idx=4/year=2000/month=1/5a42dc9b52a845b394f570bc7e233637.parquet\n",
      "/app/data/idx=4/year=2000/month=1/5e3f996936cd466c8f182e4925b457b9.parquet\n",
      "/app/data/idx=4/year=2000/month=1/6171f6c076d442ce9ee9b2223a1c9e29.parquet\n",
      "/app/data/idx=4/year=2000/month=1/637fabc040bd4139901780de2f98df24.parquet\n",
      "/app/data/idx=4/year=2000/month=1/649b57f24c1c49e7aa025d1a111f31a6.parquet\n",
      "/app/data/idx=4/year=2000/month=1/65dac4a30aba4d3e9a18e731bef42800.parquet\n",
      "/app/data/idx=4/year=2000/month=1/6759ad29fa9a416498d408a97082da2d.parquet\n",
      "/app/data/idx=4/year=2000/month=1/682c068895b54404aa02c22ec59d98d7.parquet\n",
      "/app/data/idx=4/year=2000/month=1/6a2c44eebd7c447ab0eac8b5596612ce.parquet\n",
      "/app/data/idx=4/year=2000/month=1/6c36185edd4a41bc8869406a3bc9b533.parquet\n",
      "/app/data/idx=4/year=2000/month=1/6ce5ab2e0fce43c9be58cd6ca0ab1b0c.parquet\n",
      "/app/data/idx=4/year=2000/month=1/6e7dfa62c7ab4743bd5b47c2d65fcd3f.parquet\n",
      "/app/data/idx=4/year=2000/month=1/7137092484b641e3a41226810acbe2b7.parquet\n",
      "/app/data/idx=4/year=2000/month=1/727c5b50be444555bb0c8cb3493f136c.parquet\n",
      "/app/data/idx=4/year=2000/month=1/761ed2925727400586b3f95bebe32b12.parquet\n",
      "/app/data/idx=4/year=2000/month=1/779bc731cfdc4eb582b7d45275f45f7d.parquet\n",
      "/app/data/idx=4/year=2000/month=1/79ee8145c2814549a38530b2c506544e.parquet\n",
      "/app/data/idx=4/year=2000/month=1/7b59b765fa454ce0a9fbd88628d6f604.parquet\n",
      "/app/data/idx=4/year=2000/month=1/8292f989424444f6aa18bbcfc68f1734.parquet\n",
      "/app/data/idx=4/year=2000/month=1/83b3730a855b494487dd6728a517ee3b.parquet\n",
      "/app/data/idx=4/year=2000/month=1/84ebbce76a7a4107b939b685da66b5f4.parquet\n",
      "/app/data/idx=4/year=2000/month=1/855921d6f64644a38bd2be5d9669fe0a.parquet\n",
      "/app/data/idx=4/year=2000/month=1/85ab57ea6d0e48efac390b6047a6f435.parquet\n",
      "/app/data/idx=4/year=2000/month=1/8b974e69e33e41cdb5bde25a6a422fd6.parquet\n",
      "/app/data/idx=4/year=2000/month=1/8dd5278b54e9413ebd42286dea00c4a3.parquet\n",
      "/app/data/idx=4/year=2000/month=1/93128598152643a297db72dec38a07b5.parquet\n",
      "/app/data/idx=4/year=2000/month=1/95448aeaacdc40fe97d207b2c80ca784.parquet\n",
      "/app/data/idx=4/year=2000/month=1/9571568631184e1386c3528b8ce9ed26.parquet\n",
      "/app/data/idx=4/year=2000/month=1/95f8e19b3af344db98dcc5c5f9546c3a.parquet\n",
      "/app/data/idx=4/year=2000/month=1/9921911b40d041f6ac72c4d44578c5cf.parquet\n",
      "/app/data/idx=4/year=2000/month=1/9b4d80c840c14d3b9c67da4c9877b628.parquet\n",
      "/app/data/idx=4/year=2000/month=1/9e259ea36fbb4c0ba9b6535a3f34544e.parquet\n",
      "/app/data/idx=4/year=2000/month=1/9e3706d0ded44106bf8e0dee8900cd28.parquet\n",
      "/app/data/idx=4/year=2000/month=1/9e67c71850a54fe1aa354c43d2cd9c38.parquet\n",
      "/app/data/idx=4/year=2000/month=1/9ef278bcdc3b41e89059c309bcbb005e.parquet\n",
      "/app/data/idx=4/year=2000/month=1/a33e6304bb1b47daa86853f19b009366.parquet\n",
      "/app/data/idx=4/year=2000/month=1/a9bc812dc596492eafcc73f01d0e53a3.parquet\n",
      "/app/data/idx=4/year=2000/month=1/abf0e405806744df9ea3e9908eb0451f.parquet\n",
      "/app/data/idx=4/year=2000/month=1/acd468d1addc4d75944766e48c3eb324.parquet\n",
      "/app/data/idx=4/year=2000/month=1/adbdc6fec62c463aa94e0ce707ae1768.parquet\n",
      "/app/data/idx=4/year=2000/month=1/b24807369dfc461e92eb8a56a7931070.parquet\n",
      "/app/data/idx=4/year=2000/month=1/b2f3d43c99f44131969e0fcf27cfbf3c.parquet\n",
      "/app/data/idx=4/year=2000/month=1/b461c7cfd0f4483f8309f670f4f4265d.parquet\n",
      "/app/data/idx=4/year=2000/month=1/b584791f45f74432a067632281285b9a.parquet\n",
      "/app/data/idx=4/year=2000/month=1/b7ca6973a34c4f92831f16216beb33f2.parquet\n",
      "/app/data/idx=4/year=2000/month=1/b7f16808e8e4491e8f86d3ae9766f2b9.parquet\n",
      "/app/data/idx=4/year=2000/month=1/b9a2d05a74a84d71a1b65a0f05895011.parquet\n",
      "/app/data/idx=4/year=2000/month=1/bc3036cc653e4584893f8b36e33c8f85.parquet\n",
      "/app/data/idx=4/year=2000/month=1/be1318c7564d48be8435c11344627932.parquet\n",
      "/app/data/idx=4/year=2000/month=1/bf90009dc7b14cfaab939f435d975a0b.parquet\n",
      "/app/data/idx=4/year=2000/month=1/c0105d7e54fc42dc93d5140782960815.parquet\n",
      "/app/data/idx=4/year=2000/month=1/c450cbe2674e488d8e30953252bc7a4b.parquet\n",
      "/app/data/idx=4/year=2000/month=1/c82d37b18d65434ca1fe1b9cf4d29ccb.parquet\n",
      "/app/data/idx=4/year=2000/month=1/cb53085f9145493b9a171d31b682e75f.parquet\n",
      "/app/data/idx=4/year=2000/month=1/cc14bf7a74c9498889bc52e29f83edff.parquet\n",
      "/app/data/idx=4/year=2000/month=1/ce3c90dd7e7a4f5a862580c14aa22c28.parquet\n",
      "/app/data/idx=4/year=2000/month=1/d47149e3e1e34123a48f623ca121e8a8.parquet\n",
      "/app/data/idx=4/year=2000/month=1/d9e0e3e786a942f5892c6ce17b37eb4a.parquet\n",
      "/app/data/idx=4/year=2000/month=1/dbb82450694e4e76ab34f3e650d36594.parquet\n",
      "/app/data/idx=4/year=2000/month=1/dc67b56f0c814648b9ebf8e1c483b923.parquet\n",
      "/app/data/idx=4/year=2000/month=1/de2e16496bcd405b8d48aec4da4d5ae4.parquet\n",
      "/app/data/idx=4/year=2000/month=1/de37409ac14b49c38c9c0da26d6c721f.parquet\n",
      "/app/data/idx=4/year=2000/month=1/e8072594944141a5b078b74e739307d3.parquet\n",
      "/app/data/idx=4/year=2000/month=1/e9b36b985eb44b44a5436af438f7ceb0.parquet\n",
      "/app/data/idx=4/year=2000/month=1/eefdd2cdde1d4085964d1469a11f462c.parquet\n",
      "/app/data/idx=4/year=2000/month=1/f89525bf20e540f29b021ce5f4d9eb3c.parquet\n",
      "/app/data/idx=4/year=2000/month=1/fab7e098a4c8489785225a74b71ec2ef.parquet\n"
     ]
    }
   ],
   "source": [
    "dir_name = \"/app/data\"\n",
    "\n",
    "# Read data back.\n",
    "dataset = ds.dataset(dir_name, format=\"parquet\", partitioning=\"hive\")\n",
    "\n",
    "print(\"\\n\".join(dataset.files))"
   ]
  },
  {
   "cell_type": "code",
   "execution_count": 75,
   "id": "ba4d7dc4",
   "metadata": {
    "ExecuteTime": {
     "end_time": "2021-06-16T11:17:50.865185Z",
     "start_time": "2021-06-16T11:17:50.378460Z"
    }
   },
   "outputs": [
    {
     "name": "stdout",
     "output_type": "stream",
     "text": [
      "# df=\n",
      "                          instr  val1  val2  idx  year  month\n",
      "2000-01-09 00:00:00-05:00     A    99    54    0  2000      1\n",
      "2000-01-13 09:30:00-05:00     A    99    62    0  2000      1\n",
      "2000-01-13 09:35:00-05:00     A    54    76    0  2000      1\n",
      "# df.shape=\n",
      "(18075, 6)\n",
      "# df.dtypes=\n",
      "instr    object\n",
      "val1      int64\n",
      "val2      int64\n",
      "idx       int32\n",
      "year      int32\n",
      "month     int32\n",
      "dtype: object\n"
     ]
    }
   ],
   "source": [
    "# Read everything.\n",
    "df2 = dataset.to_table().to_pandas()\n",
    "\n",
    "print(df_to_str(df2))"
   ]
  },
  {
   "cell_type": "code",
   "execution_count": 67,
   "id": "68e84388",
   "metadata": {
    "ExecuteTime": {
     "end_time": "2021-06-16T11:05:43.018220Z",
     "start_time": "2021-06-16T11:05:43.007510Z"
    }
   },
   "outputs": [
    {
     "name": "stdout",
     "output_type": "stream",
     "text": [
      "['A' 'B' 'C' 'D' 'E']\n",
      "DatetimeIndex(['2000-01-06 00:00:00-05:00', '2000-01-10 00:00:00-05:00',\n",
      "               '2000-01-01 00:00:00-05:00', '2000-01-04 00:00:00-05:00',\n",
      "               '2000-01-08 00:00:00-05:00', '2000-01-12 00:00:00-05:00',\n",
      "               '2000-01-09 00:00:00-05:00', '2000-01-02 00:00:00-05:00',\n",
      "               '2000-01-14 00:00:00-05:00', '2000-01-13 00:00:00-05:00',\n",
      "               '2000-01-07 00:00:00-05:00', '2000-01-03 00:00:00-05:00',\n",
      "               '2000-01-15 00:00:00-05:00', '2000-01-05 00:00:00-05:00',\n",
      "               '2000-01-11 00:00:00-05:00', '2000-01-01 00:00:00-05:00',\n",
      "               '2000-01-05 00:00:00-05:00', '2000-01-06 00:00:00-05:00',\n",
      "               '2000-01-02 00:00:00-05:00', '2000-01-14 00:00:00-05:00',\n",
      "               '2000-01-12 00:00:00-05:00', '2000-01-04 00:00:00-05:00',\n",
      "               '2000-01-13 00:00:00-05:00', '2000-01-15 00:00:00-05:00',\n",
      "               '2000-01-07 00:00:00-05:00', '2000-01-03 00:00:00-05:00',\n",
      "               '2000-01-08 00:00:00-05:00', '2000-01-10 00:00:00-05:00',\n",
      "               '2000-01-11 00:00:00-05:00', '2000-01-09 00:00:00-05:00',\n",
      "               '2000-01-02 00:00:00-05:00', '2000-01-15 00:00:00-05:00',\n",
      "               '2000-01-05 00:00:00-05:00', '2000-01-03 00:00:00-05:00',\n",
      "               '2000-01-12 00:00:00-05:00', '2000-01-13 00:00:00-05:00',\n",
      "               '2000-01-10 00:00:00-05:00', '2000-01-11 00:00:00-05:00',\n",
      "               '2000-01-14 00:00:00-05:00', '2000-01-04 00:00:00-05:00',\n",
      "               '2000-01-07 00:00:00-05:00', '2000-01-01 00:00:00-05:00',\n",
      "               '2000-01-08 00:00:00-05:00', '2000-01-06 00:00:00-05:00',\n",
      "               '2000-01-09 00:00:00-05:00', '2000-01-08 00:00:00-05:00',\n",
      "               '2000-01-14 00:00:00-05:00', '2000-01-01 00:00:00-05:00',\n",
      "               '2000-01-03 00:00:00-05:00', '2000-01-02 00:00:00-05:00',\n",
      "               '2000-01-04 00:00:00-05:00', '2000-01-15 00:00:00-05:00',\n",
      "               '2000-01-12 00:00:00-05:00', '2000-01-13 00:00:00-05:00',\n",
      "               '2000-01-10 00:00:00-05:00', '2000-01-07 00:00:00-05:00',\n",
      "               '2000-01-05 00:00:00-05:00', '2000-01-11 00:00:00-05:00',\n",
      "               '2000-01-09 00:00:00-05:00', '2000-01-06 00:00:00-05:00',\n",
      "               '2000-01-11 00:00:00-05:00', '2000-01-13 00:00:00-05:00',\n",
      "               '2000-01-14 00:00:00-05:00', '2000-01-04 00:00:00-05:00',\n",
      "               '2000-01-10 00:00:00-05:00', '2000-01-09 00:00:00-05:00',\n",
      "               '2000-01-12 00:00:00-05:00', '2000-01-07 00:00:00-05:00',\n",
      "               '2000-01-06 00:00:00-05:00', '2000-01-03 00:00:00-05:00',\n",
      "               '2000-01-01 00:00:00-05:00', '2000-01-08 00:00:00-05:00',\n",
      "               '2000-01-02 00:00:00-05:00', '2000-01-05 00:00:00-05:00',\n",
      "               '2000-01-15 00:00:00-05:00'],\n",
      "              dtype='datetime64[ns, America/New_York]', freq=None)\n"
     ]
    }
   ],
   "source": [
    "print(df2[\"instr\"].unique())\n",
    "print(df2.index)"
   ]
  }
 ],
 "metadata": {
  "kernelspec": {
   "display_name": "Python 3 (ipykernel)",
   "language": "python",
   "name": "python3"
  },
  "language_info": {
   "codemirror_mode": {
    "name": "ipython",
    "version": 3
   },
   "file_extension": ".py",
   "mimetype": "text/x-python",
   "name": "python",
   "nbconvert_exporter": "python",
   "pygments_lexer": "ipython3",
   "version": "3.8.10"
  },
  "toc": {
   "base_numbering": 1,
   "nav_menu": {},
   "number_sections": true,
   "sideBar": true,
   "skip_h1_title": false,
   "title_cell": "Table of Contents",
   "title_sidebar": "Contents",
   "toc_cell": false,
   "toc_position": {
    "height": "calc(100% - 180px)",
    "left": "10px",
    "top": "150px",
    "width": "205.6px"
   },
   "toc_section_display": true,
   "toc_window_display": true
  }
 },
 "nbformat": 4,
 "nbformat_minor": 5
}
