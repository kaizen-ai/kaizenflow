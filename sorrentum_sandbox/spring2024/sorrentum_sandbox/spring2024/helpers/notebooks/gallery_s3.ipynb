{
 "cells": [
  {
   "cell_type": "code",
   "execution_count": 1,
   "id": "81a273af",
   "metadata": {
    "ExecuteTime": {
     "end_time": "2021-06-16T11:41:42.864614Z",
     "start_time": "2021-06-16T11:41:42.860710Z"
    }
   },
   "outputs": [],
   "source": [
    "# https://s3fs.readthedocs.io/en/latest/"
   ]
  },
  {
   "cell_type": "code",
   "execution_count": 2,
   "id": "8fef0639",
   "metadata": {
    "ExecuteTime": {
     "end_time": "2021-06-16T11:41:42.888158Z",
     "start_time": "2021-06-16T11:41:42.869135Z"
    }
   },
   "outputs": [],
   "source": [
    "%load_ext autoreload\n",
    "%autoreload 3"
   ]
  },
  {
   "cell_type": "code",
   "execution_count": 3,
   "id": "37fe11a3",
   "metadata": {
    "ExecuteTime": {
     "end_time": "2021-06-16T11:41:43.140014Z",
     "start_time": "2021-06-16T11:41:42.890655Z"
    }
   },
   "outputs": [],
   "source": [
    "\n",
    "import helpers.hs3 as hs3"
   ]
  },
  {
   "cell_type": "code",
   "execution_count": 4,
   "id": "a4130a2c",
   "metadata": {
    "ExecuteTime": {
     "end_time": "2021-06-16T11:41:43.145271Z",
     "start_time": "2021-06-16T11:41:43.141535Z"
    }
   },
   "outputs": [],
   "source": [
    "aws_profile = \"am\""
   ]
  },
  {
   "cell_type": "code",
   "execution_count": 5,
   "id": "a49a28ff",
   "metadata": {
    "ExecuteTime": {
     "end_time": "2021-06-16T11:41:43.158474Z",
     "start_time": "2021-06-16T11:41:43.148428Z"
    }
   },
   "outputs": [
    {
     "name": "stdout",
     "output_type": "stream",
     "text": [
      "aws_region=%s us-east-1\n"
     ]
    }
   ],
   "source": [
    "# s3 = s3fs.S3FileSystem(anon=False, key=aws_access_key_id, secret=aws_secret_access_key)\n",
    "\n",
    "s3 = hs3.get_s3fs(aws_profile)"
   ]
  },
  {
   "cell_type": "code",
   "execution_count": 6,
   "id": "1795133f",
   "metadata": {
    "ExecuteTime": {
     "end_time": "2021-06-16T11:41:43.819759Z",
     "start_time": "2021-06-16T11:41:43.160432Z"
    }
   },
   "outputs": [
    {
     "name": "stdout",
     "output_type": "stream",
     "text": [
      "bucket=alphamatic-data\n"
     ]
    },
    {
     "data": {
      "text/plain": [
       "['alphamatic-data/README.md', 'alphamatic-data/data']"
      ]
     },
     "execution_count": 6,
     "metadata": {},
     "output_type": "execute_result"
    }
   ],
   "source": [
    "bucket = hs3.get_s3_bucket_path(aws_profile, add_s3_prefix=False)\n",
    "print(\"bucket=%s\" % bucket)\n",
    "s3.ls(bucket)"
   ]
  },
  {
   "cell_type": "code",
   "execution_count": 7,
   "id": "9bc9623e",
   "metadata": {
    "ExecuteTime": {
     "end_time": "2021-06-16T11:41:43.828493Z",
     "start_time": "2021-06-16T11:41:43.822315Z"
    }
   },
   "outputs": [
    {
     "data": {
      "text/plain": [
       "['alphamatic-data/README.md', 'alphamatic-data/data']"
      ]
     },
     "execution_count": 7,
     "metadata": {},
     "output_type": "execute_result"
    }
   ],
   "source": [
    "s3.ls(bucket)"
   ]
  },
  {
   "cell_type": "code",
   "execution_count": 8,
   "id": "65f95a8a",
   "metadata": {
    "ExecuteTime": {
     "end_time": "2021-06-16T11:41:43.839153Z",
     "start_time": "2021-06-16T11:41:43.832520Z"
    }
   },
   "outputs": [
    {
     "name": "stdout",
     "output_type": "stream",
     "text": [
      "\n"
     ]
    }
   ],
   "source": [
    "import os\n",
    "\n",
    "print(os.environ[\"AWS_DEFAULT_REGION\"])"
   ]
  }
 ],
 "metadata": {
  "kernelspec": {
   "display_name": "Python 3",
   "language": "python",
   "name": "python3"
  },
  "language_info": {
   "codemirror_mode": {
    "name": "ipython",
    "version": 3
   },
   "file_extension": ".py",
   "mimetype": "text/x-python",
   "name": "python",
   "nbconvert_exporter": "python",
   "pygments_lexer": "ipython3",
   "version": "3.8.5"
  },
  "toc": {
   "base_numbering": 1,
   "nav_menu": {},
   "number_sections": true,
   "sideBar": true,
   "skip_h1_title": false,
   "title_cell": "Table of Contents",
   "title_sidebar": "Contents",
   "toc_cell": false,
   "toc_position": {},
   "toc_section_display": true,
   "toc_window_display": false
  }
 },
 "nbformat": 4,
 "nbformat_minor": 5
}
