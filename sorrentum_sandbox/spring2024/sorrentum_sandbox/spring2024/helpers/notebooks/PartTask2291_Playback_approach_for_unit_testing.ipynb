{
 "cells": [
  {
   "cell_type": "markdown",
   "metadata": {
    "ExecuteTime": {
     "end_time": "2020-06-07T22:25:23.663978Z",
     "start_time": "2020-06-07T22:25:23.661756Z"
    }
   },
   "source": [
    "# Description"
   ]
  },
  {
   "cell_type": "markdown",
   "metadata": {},
   "source": [
    "# Imports"
   ]
  },
  {
   "cell_type": "code",
   "execution_count": 3,
   "metadata": {
    "ExecuteTime": {
     "end_time": "2020-06-09T19:30:40.920362Z",
     "start_time": "2020-06-09T19:30:40.864535Z"
    }
   },
   "outputs": [
    {
     "name": "stdout",
     "output_type": "stream",
     "text": [
      "The autoreload extension is already loaded. To reload it, use:\n",
      "  %reload_ext autoreload\n"
     ]
    }
   ],
   "source": [
    "%load_ext autoreload\n",
    "%autoreload 2\n",
    "%matplotlib inline\n",
    "\n",
    "import json\n",
    "\n",
    "import jsonpickle\n",
    "import jsonpickle.ext.pandas as jsonpickle_pandas\n",
    "\n",
    "jsonpickle_pandas.register_handlers()\n",
    "\n",
    "import logging\n",
    "\n",
    "import pandas as pd\n",
    "\n",
    "import helpers.hdbg as hdbg\n",
    "import helpers.henv as henv\n",
    "import helpers.hplayback as hplayba\n",
    "import helpers.hprint as hprint"
   ]
  },
  {
   "cell_type": "code",
   "execution_count": 4,
   "metadata": {
    "ExecuteTime": {
     "end_time": "2020-06-09T19:30:43.871255Z",
     "start_time": "2020-06-09T19:30:43.739350Z"
    }
   },
   "outputs": [
    {
     "name": "stdout",
     "output_type": "stream",
     "text": [
      "\u001b[0mWARNING: Logger already initialized: skipping\n",
      "# Packages\n",
      "         python: 3.7.6\n",
      "       gluonnlp: 0.9.1\n",
      "        gluonts: 0.5.0\n",
      "         joblib: 0.15.1\n",
      "          mxnet: 1.6.0\n",
      "          numpy: 1.18.4\n",
      "         pandas: 1.0.3\n",
      "        pyarrow: 0.17.1\n",
      "          scipy: 1.4.1\n",
      "        seaborn: 0.10.1\n",
      "        sklearn: 0.23.1\n",
      "    statsmodels: 0.11.1\n",
      "# Last commits:\n",
      "  * 268f2f1 saggese  PTask2231: Checkpoint                                          (    2 days ago) Sun Jun 7 20:58:52 2020  (HEAD -> PTask2231_Playback_approach_for_unit_testing, origin/PTask2231_Playback_approach_for_unit_testing)\n",
      "  * 7025106 pavel-... PTask2291: Add args, kwargs. New tests                         (    6 days ago) Wed Jun 3 11:38:56 2020           \n",
      "  * 60e0b11 saggese  PTask2291: Add leftover files                                  (   10 days ago) Sat May 30 10:06:29 2020           \n"
     ]
    }
   ],
   "source": [
    "hdbg.init_logger(verbosity=logging.INFO)\n",
    "\n",
    "_LOG = logging.getLogger(__name__)\n",
    "\n",
    "_LOG.info(\"%s\", henv.get_system_signature()[0])\n",
    "\n",
    "hprint.config_notebook()"
   ]
  },
  {
   "cell_type": "code",
   "execution_count": 12,
   "metadata": {
    "ExecuteTime": {
     "end_time": "2020-06-09T19:53:12.564104Z",
     "start_time": "2020-06-09T19:53:12.513350Z"
    }
   },
   "outputs": [
    {
     "name": "stdout",
     "output_type": "stream",
     "text": [
      "                Product  Price\n",
      "hello                         \n",
      "0      Desktop Computer    700\n",
      "1                Tablet    250\n",
      "2                iPhone    800\n",
      "3                Laptop   1200\n"
     ]
    }
   ],
   "source": [
    "import pandas as pd\n",
    "\n",
    "data = {\n",
    "    \"Product\": [\"Desktop Computer\", \"Tablet\", \"iPhone\", \"Laptop\"],\n",
    "    \"Price\": [700, 250, 800, 1200],\n",
    "}\n",
    "\n",
    "df = pd.DataFrame(data, columns=[\"Product\", \"Price\"])\n",
    "df.index.name = \"hello\"\n",
    "print(df)"
   ]
  },
  {
   "cell_type": "code",
   "execution_count": 28,
   "metadata": {
    "ExecuteTime": {
     "end_time": "2020-06-09T19:56:24.324137Z",
     "start_time": "2020-06-09T19:56:24.279767Z"
    }
   },
   "outputs": [
    {
     "data": {
      "text/plain": [
       "{'Product': hello\n",
       " 0    Desktop Computer\n",
       " 1              Tablet\n",
       " 2              iPhone\n",
       " 3              Laptop\n",
       " Name: Product, dtype: object,\n",
       " 'Price': hello\n",
       " 0     700\n",
       " 1     250\n",
       " 2     800\n",
       " 3    1200\n",
       " Name: Price, dtype: int64}"
      ]
     },
     "execution_count": 28,
     "metadata": {},
     "output_type": "execute_result"
    }
   ],
   "source": [
    "# df.to_json(orient=\"\")\n",
    "df.to_dict(orient=\"series\")"
   ]
  },
  {
   "cell_type": "code",
   "execution_count": 31,
   "metadata": {
    "ExecuteTime": {
     "end_time": "2020-06-09T19:58:05.848188Z",
     "start_time": "2020-06-09T19:58:05.747808Z"
    }
   },
   "outputs": [
    {
     "data": {
      "text/plain": [
       "\"pd.DataFrame({'Product': ['Desktop Computer', 'Tablet', 'iPhone', 'Laptop'], 'Price': [700, 250, 800, 1200]})\""
      ]
     },
     "execution_count": 31,
     "metadata": {},
     "output_type": "execute_result"
    }
   ],
   "source": [
    "hplayba.to_python_code(df)"
   ]
  },
  {
   "cell_type": "code",
   "execution_count": 32,
   "metadata": {
    "ExecuteTime": {
     "end_time": "2020-06-09T19:58:31.870465Z",
     "start_time": "2020-06-09T19:58:31.822189Z"
    }
   },
   "outputs": [
    {
     "data": {
      "text/html": [
       "<div>\n",
       "<style scoped>\n",
       "    .dataframe tbody tr th:only-of-type {\n",
       "        vertical-align: middle;\n",
       "    }\n",
       "\n",
       "    .dataframe tbody tr th {\n",
       "        vertical-align: top;\n",
       "    }\n",
       "\n",
       "    .dataframe thead th {\n",
       "        text-align: right;\n",
       "    }\n",
       "</style>\n",
       "<table border=\"1\" class=\"dataframe\">\n",
       "  <thead>\n",
       "    <tr style=\"text-align: right;\">\n",
       "      <th></th>\n",
       "      <th>Product</th>\n",
       "      <th>Price</th>\n",
       "    </tr>\n",
       "  </thead>\n",
       "  <tbody>\n",
       "    <tr>\n",
       "      <th>0</th>\n",
       "      <td>Desktop Computer</td>\n",
       "      <td>700</td>\n",
       "    </tr>\n",
       "    <tr>\n",
       "      <th>1</th>\n",
       "      <td>Tablet</td>\n",
       "      <td>250</td>\n",
       "    </tr>\n",
       "    <tr>\n",
       "      <th>2</th>\n",
       "      <td>iPhone</td>\n",
       "      <td>800</td>\n",
       "    </tr>\n",
       "    <tr>\n",
       "      <th>3</th>\n",
       "      <td>Laptop</td>\n",
       "      <td>1200</td>\n",
       "    </tr>\n",
       "  </tbody>\n",
       "</table>\n",
       "</div>"
      ],
      "text/plain": [
       "            Product  Price\n",
       "0  Desktop Computer    700\n",
       "1            Tablet    250\n",
       "2            iPhone    800\n",
       "3            Laptop   1200"
      ]
     },
     "execution_count": 32,
     "metadata": {},
     "output_type": "execute_result"
    }
   ],
   "source": [
    "pd.DataFrame.from_dict(\n",
    "    {\n",
    "        \"Product\": [\"Desktop Computer\", \"Tablet\", \"iPhone\", \"Laptop\"],\n",
    "        \"Price\": [700, 250, 800, 1200],\n",
    "    }\n",
    ")"
   ]
  },
  {
   "cell_type": "code",
   "execution_count": 41,
   "metadata": {
    "ExecuteTime": {
     "end_time": "2020-06-09T20:14:52.983985Z",
     "start_time": "2020-06-09T20:14:52.861966Z"
    }
   },
   "outputs": [
    {
     "name": "stdout",
     "output_type": "stream",
     "text": [
      "# Initialize values for unit test.\n",
      "dummy_0 = r'{\"py/object\": \"pandas.core.frame.DataFrame\", \"values\": \"Product,Price\\nDesktop Computer,700\\nTablet,250\\niPhone,800\\nLaptop,1200\\n\", \"txt\": true, \"meta\": {\"dtypes\": {\"Product\": \"object\", \"Price\": \"int64\"}, \"index\": \"{\\\"py/object\\\": \\\"pandas.core.indexes.range.RangeIndex\\\", \\\"values\\\": \\\"[0, 1, 2, 3]\\\", \\\"txt\\\": true, \\\"meta\\\": {\\\"dtype\\\": \\\"int64\\\", \\\"name\\\": \\\"hello\\\"}}\"}}'\n",
      "dummy_0 = jsonpickle.decode(dummy_0)\n",
      "dummy_1 = r'{\"py/object\": \"pandas.core.frame.DataFrame\", \"values\": \"Product,Price\\nDesktop Computer,700\\nTablet,250\\niPhone,800\\nLaptop,1200\\n\", \"txt\": true, \"meta\": {\"dtypes\": {\"Product\": \"object\", \"Price\": \"int64\"}, \"index\": \"{\\\"py/object\\\": \\\"pandas.core.indexes.range.RangeIndex\\\", \\\"values\\\": \\\"[0, 1, 2, 3]\\\", \\\"txt\\\": true, \\\"meta\\\": {\\\"dtype\\\": \\\"int64\\\", \\\"name\\\": \\\"hello\\\"}}\"}}'\n",
      "dummy_1 = jsonpickle.decode(dummy_1)\n",
      "# Call function.\n",
      "act = F(dummy_0, dummy_1)\n",
      "# Create expected value of function output.\n",
      "exp = r'{\"py/object\": \"pandas.core.frame.DataFrame\", \"values\": \"Product,Price\\nDesktop ComputerDesktop Computer,1400\\nTabletTablet,500\\niPhoneiPhone,1600\\nLaptopLaptop,2400\\n\", \"txt\": true, \"meta\": {\"dtypes\": {\"Product\": \"object\", \"Price\": \"int64\"}, \"index\": \"{\\\"py/object\\\": \\\"pandas.core.indexes.range.RangeIndex\\\", \\\"values\\\": \\\"[0, 1, 2, 3]\\\", \\\"txt\\\": true, \\\"meta\\\": {\\\"dtype\\\": \\\"int64\\\", \\\"name\\\": \\\"hello\\\"}}\"}}'\n",
      "exp = jsonpickle.decode(exp)\n",
      "# Check.\n",
      "assert act.equals(exp)\n"
     ]
    }
   ],
   "source": [
    "use_playback = True\n",
    "\n",
    "\n",
    "def F(a, b):\n",
    "    if use_playback:\n",
    "        playback = hplayba.Playback(\"assert_equal\", \"F\", a, b)\n",
    "        playback.start()\n",
    "    c = a + b\n",
    "    if use_playback:\n",
    "        output = playback.end(c)\n",
    "        res = output\n",
    "    else:\n",
    "        res = c\n",
    "    return res\n",
    "\n",
    "\n",
    "a = df\n",
    "b = df\n",
    "print(F(a, b))"
   ]
  },
  {
   "cell_type": "code",
   "execution_count": 49,
   "metadata": {
    "ExecuteTime": {
     "end_time": "2020-06-09T20:20:24.981307Z",
     "start_time": "2020-06-09T20:20:24.839197Z"
    }
   },
   "outputs": [
    {
     "data": {
      "text/plain": [
       "'[3, 3, ]'"
      ]
     },
     "execution_count": 49,
     "metadata": {},
     "output_type": "execute_result"
    }
   ],
   "source": [
    "hplayba.to_python_code([\"3\", 3])"
   ]
  },
  {
   "cell_type": "code",
   "execution_count": 6,
   "metadata": {
    "ExecuteTime": {
     "end_time": "2020-06-09T19:30:54.111194Z",
     "start_time": "2020-06-09T19:30:54.046499Z"
    }
   },
   "outputs": [
    {
     "name": "stdout",
     "output_type": "stream",
     "text": [
      "# obj1=\n",
      "                Product  Price\n",
      "hello                         \n",
      "0      Desktop Computer    700\n",
      "1                Tablet    250\n",
      "2                iPhone    800\n",
      "3                Laptop   1200\n",
      "class=<class 'pandas.core.frame.DataFrame'>\n",
      "# frozen=\n",
      "{\n",
      "    \"meta\": {\n",
      "        \"dtypes\": {\n",
      "            \"Price\": \"int64\",\n",
      "            \"Product\": \"object\"\n",
      "        },\n",
      "        \"index\": \"{\\\"py/object\\\": \\\"pandas.core.indexes.range.RangeIndex\\\", \\\"values\\\": \\\"[0, 1, 2, 3]\\\", \\\"txt\\\": true, \\\"meta\\\": {\\\"dtype\\\": \\\"int64\\\", \\\"name\\\": \\\"hello\\\"}}\"\n",
      "    },\n",
      "    \"py/object\": \"pandas.core.frame.DataFrame\",\n",
      "    \"txt\": true,\n",
      "    \"values\": \"Product,Price\\nDesktop Computer,700\\nTablet,250\\niPhone,800\\nLaptop,1200\\n\"\n",
      "}\n",
      "# obj2=\n",
      "                Product  Price\n",
      "hello                         \n",
      "0      Desktop Computer    700\n",
      "1                Tablet    250\n",
      "2                iPhone    800\n",
      "3                Laptop   1200\n",
      "class=<class 'pandas.core.frame.DataFrame'>\n"
     ]
    },
    {
     "data": {
      "text/html": [
       "<div>\n",
       "<style scoped>\n",
       "    .dataframe tbody tr th:only-of-type {\n",
       "        vertical-align: middle;\n",
       "    }\n",
       "\n",
       "    .dataframe tbody tr th {\n",
       "        vertical-align: top;\n",
       "    }\n",
       "\n",
       "    .dataframe thead th {\n",
       "        text-align: right;\n",
       "    }\n",
       "</style>\n",
       "<table border=\"1\" class=\"dataframe\">\n",
       "  <thead>\n",
       "    <tr style=\"text-align: right;\">\n",
       "      <th></th>\n",
       "      <th>Product</th>\n",
       "      <th>Price</th>\n",
       "    </tr>\n",
       "    <tr>\n",
       "      <th>hello</th>\n",
       "      <th></th>\n",
       "      <th></th>\n",
       "    </tr>\n",
       "  </thead>\n",
       "  <tbody>\n",
       "    <tr>\n",
       "      <th>0</th>\n",
       "      <td>Desktop Computer</td>\n",
       "      <td>700</td>\n",
       "    </tr>\n",
       "    <tr>\n",
       "      <th>1</th>\n",
       "      <td>Tablet</td>\n",
       "      <td>250</td>\n",
       "    </tr>\n",
       "    <tr>\n",
       "      <th>2</th>\n",
       "      <td>iPhone</td>\n",
       "      <td>800</td>\n",
       "    </tr>\n",
       "    <tr>\n",
       "      <th>3</th>\n",
       "      <td>Laptop</td>\n",
       "      <td>1200</td>\n",
       "    </tr>\n",
       "  </tbody>\n",
       "</table>\n",
       "</div>"
      ],
      "text/plain": [
       "                Product  Price\n",
       "hello                         \n",
       "0      Desktop Computer    700\n",
       "1                Tablet    250\n",
       "2                iPhone    800\n",
       "3                Laptop   1200"
      ]
     },
     "execution_count": 6,
     "metadata": {},
     "output_type": "execute_result"
    }
   ],
   "source": [
    "hplayba.round_trip_convert(df, logging.INFO)"
   ]
  },
  {
   "cell_type": "code",
   "execution_count": null,
   "metadata": {
    "ExecuteTime": {
     "end_time": "2020-06-07T22:32:12.623139Z",
     "start_time": "2020-06-07T22:32:12.577435Z"
    }
   },
   "outputs": [],
   "source": [
    "hplayba.round_trip_convert(\"hello\", logging.INFO)"
   ]
  },
  {
   "cell_type": "code",
   "execution_count": 7,
   "metadata": {
    "ExecuteTime": {
     "end_time": "2020-06-09T19:45:27.442281Z",
     "start_time": "2020-06-09T19:45:27.380299Z"
    }
   },
   "outputs": [],
   "source": [
    "def F(a, b):\n",
    "    return a + b"
   ]
  },
  {
   "cell_type": "code",
   "execution_count": 9,
   "metadata": {
    "ExecuteTime": {
     "end_time": "2020-06-09T19:45:36.907940Z",
     "start_time": "2020-06-09T19:45:36.861549Z"
    }
   },
   "outputs": [],
   "source": [
    "# Initialize values for unit test.\n",
    "dummy_0 = r\"3\"\n",
    "dummy_0 = jsonpickle.decode(dummy_0)\n",
    "dummy_1 = r\"2\"\n",
    "dummy_1 = jsonpickle.decode(dummy_1)\n",
    "# Call function.\n",
    "act = F(dummy_0, dummy_1)\n",
    "# Create expected value of function output.\n",
    "exp = r\"5\"\n",
    "exp = jsonpickle.decode(exp)\n",
    "# Check.\n",
    "assert act == exp"
   ]
  },
  {
   "cell_type": "code",
   "execution_count": null,
   "metadata": {
    "ExecuteTime": {
     "end_time": "2020-05-29T18:31:00.704146Z",
     "start_time": "2020-05-29T18:31:00.695276Z"
    }
   },
   "outputs": [],
   "source": [
    "class Playback:\n",
    "\n",
    "    # def __init__(self, file_name, mode, *args, **kwargs):\n",
    "    # self.args = args\n",
    "    # self.kwargs = kwargs\n",
    "    def __init__(self, file_name, mode, func_name, a, b):\n",
    "        self.a = a\n",
    "        self.b = b\n",
    "\n",
    "    def start(self):\n",
    "        self.a_json = jsonpickle.encode(self.a)\n",
    "        self.b_json = jsonpickle.encode(self.b)\n",
    "\n",
    "    def end(self, ret):\n",
    "        self.ret_json = jsonpickle.encode(ret)\n",
    "        output = []\n",
    "        output.append(\"# Initialize values for unit test.\")\n",
    "        output.append(\"a = %s\" % jsonpickle.decode(self.a_json))\n",
    "        output.append(\"b = %s\" % jsonpickle.decode(self.b_json))\n",
    "        output.append(\"# Apply values.\")\n",
    "        output.append(\"act = F(a, b)\")\n",
    "        output.append(\"exp = %s\" % jsonpickle.decode(self.ret_json))\n",
    "        # output.append(\"self.assertEqual(act, exp)\")\n",
    "        # output.append(\"assert act == exp\")\n",
    "        output = \"\\n\".join(output)\n",
    "        print(\"output=\", output)\n",
    "\n",
    "\n",
    "# def F(a: int, b: int):\n",
    "#     c = {}\n",
    "#     c[\"pavel\"] = a + b\n",
    "#     return c\n",
    "\n",
    "\n",
    "def F(a: int, b: int):\n",
    "    playback = Playback(\"\", \"\", \"F\", a, b)\n",
    "    playback.start()\n",
    "    c = {}\n",
    "    c[\"pavel\"] = a + b\n",
    "    playback.end(c)\n",
    "    return c\n",
    "\n",
    "\n",
    "res = F(3, 4)\n",
    "print(res)"
   ]
  },
  {
   "cell_type": "code",
   "execution_count": null,
   "metadata": {
    "ExecuteTime": {
     "end_time": "2020-05-29T18:55:14.350318Z",
     "start_time": "2020-05-29T18:55:14.319820Z"
    }
   },
   "outputs": [],
   "source": [
    "class Playback:\n",
    "\n",
    "    # def __init__(self, file_name, mode, *args, **kwargs):\n",
    "    # self.args = args\n",
    "    # self.kwargs = kwargs\n",
    "    def __init__(self, file_name, mode, func_name, a, b):\n",
    "        self.a = a\n",
    "        self.b = b\n",
    "\n",
    "    def start(self):\n",
    "        self.a_json = jsonpickle.encode(self.a)\n",
    "        self.b_json = jsonpickle.encode(self.b)\n",
    "\n",
    "    def end(self, ret):\n",
    "        self.ret_json = jsonpickle.encode(ret)\n",
    "        output = []\n",
    "        output.append(\"# Initialize values for unit test.\")\n",
    "        # output.append(\"a = %s\" % jsonpickle.decode(self.a_json))\n",
    "        # output.append(\"b = %s\" % jsonpickle.decode(self.b_json))\n",
    "        output.append(\"a = r'%s'\" % self.a_json)\n",
    "        output.append(\"a = jsonpickle.decode(a)\")\n",
    "        output.append(\"b = r'%s'\" % self.b_json)\n",
    "        output.append(\"b = jsonpickle.decode(b)\")\n",
    "        output.append(\"# Apply values.\")\n",
    "        # output.append(\"act = F(a, b)[1]\")\n",
    "        output.append(\"act = F(a, b)\")\n",
    "        output.append(\"exp = r'%s'\" % self.ret_json)\n",
    "        output.append(\"exp = jsonpickle.decode(exp)\")\n",
    "        # output.append(\"self.assertEqual(act, exp)\")\n",
    "        output.append(\"assert act.equals(exp)\")\n",
    "        # output.append(\"assert act == exp\")\n",
    "        output = \"\\n\".join(output)\n",
    "        return output\n",
    "\n",
    "\n",
    "# def F(a: int, b: int):\n",
    "#     c = {}\n",
    "#     c[\"pavel\"] = a + b\n",
    "#     return c\n",
    "\n",
    "use_playback = True\n",
    "\n",
    "\n",
    "def F(a: pd.DataFrame, b: pd.DataFrame):\n",
    "    if use_playback:\n",
    "        playback = Playback(\"\", \"\", \"F\", a, b)\n",
    "        playback.start()\n",
    "    # c = {}\n",
    "    # c[\"pavel\"] = a + b\n",
    "    c = a + b\n",
    "    if use_playback:\n",
    "        output = playback.end(c)\n",
    "        res = output, c\n",
    "    else:\n",
    "        res = c\n",
    "    return res\n",
    "\n",
    "\n",
    "a = pd.DataFrame({\"Price\": [700, 250, 800, 1200]})\n",
    "b = pd.DataFrame({\"Price\": [1, 1, 1, 1]})\n",
    "\n",
    "res = F(a, b)\n",
    "output = res[0]\n",
    "print(output)\n",
    "exec(output)"
   ]
  },
  {
   "cell_type": "code",
   "execution_count": null,
   "metadata": {
    "ExecuteTime": {
     "end_time": "2020-05-29T18:51:02.968918Z",
     "start_time": "2020-05-29T18:51:02.964513Z"
    }
   },
   "outputs": [],
   "source": [
    "# Initialize values for unit test.\n",
    "a = r'{\"py/object\": \"pandas.core.frame.DataFrame\", \"values\": \"Price\\n700\\n250\\n800\\n1200\\n\", \"txt\": true, \"meta\": {\"dtypes\": {\"Price\": \"int64\"}, \"index\": \"{\\\"py/object\\\": \\\"pandas.core.indexes.range.RangeIndex\\\", \\\"values\\\": \\\"[0, 1, 2, 3]\\\", \\\"txt\\\": true, \\\"meta\\\": {\\\"dtype\\\": \\\"int64\\\", \\\"name\\\": null}}\"}}'\n",
    "a = jsonpickle.decode(a)"
   ]
  },
  {
   "cell_type": "code",
   "execution_count": null,
   "metadata": {
    "ExecuteTime": {
     "end_time": "2020-05-29T18:44:10.790106Z",
     "start_time": "2020-05-29T18:44:10.779459Z"
    }
   },
   "outputs": [],
   "source": [
    "a = pd.DataFrame({\"Price\": [700, 250, 800, 1200]})\n",
    "\n",
    "# round_trip(a)\n",
    "frozen = jsonpickle.encode(a)\n",
    "print(frozen)\n",
    "print(\"frozen2 = '%s'\" % frozen)\n",
    "# print(\"frozen = '%s'\" % frozen)\n",
    "assert 0\n",
    "#\n",
    "print(\"frozen=\")\n",
    "print(json_pretty_print(frozen))\n",
    "#\n",
    "obj2 = jsonpickle.decode(frozen)"
   ]
  },
  {
   "cell_type": "code",
   "execution_count": null,
   "metadata": {
    "ExecuteTime": {
     "end_time": "2020-05-29T18:49:44.390404Z",
     "start_time": "2020-05-29T18:49:44.384524Z"
    }
   },
   "outputs": [],
   "source": [
    "frozen2 = r'{\"py/object\": \"pandas.core.frame.DataFrame\", \"values\": \"Price\\n700\\n250\\n800\\n1200\\n\", \"txt\": true, \"meta\": {\"dtypes\": {\"Price\": \"int64\"}, \"index\": \"{\\\"py/object\\\": \\\"pandas.core.indexes.range.RangeIndex\\\", \\\"values\\\": \\\"[0, 1, 2, 3]\\\", \\\"txt\\\": true, \\\"meta\\\": {\\\"dtype\\\": \\\"int64\\\", \\\"name\\\": null}}\"}}'\n",
    "print(frozen2)\n",
    "# print(\"\\n\")\n",
    "# print(frozen)\n",
    "if False and isinstance(frozen2, str):\n",
    "    # print(frozen2[61])\n",
    "    # assert 0\n",
    "    frozen2 = json.loads(frozen2)\n",
    "    print(frozen2)\n",
    "frozen2 = jsonpickle.decode(frozen2)"
   ]
  },
  {
   "cell_type": "code",
   "execution_count": null,
   "metadata": {
    "ExecuteTime": {
     "end_time": "2020-05-29T18:40:34.682031Z",
     "start_time": "2020-05-29T18:40:34.668987Z"
    }
   },
   "outputs": [],
   "source": [
    "a = \"\"\"{\"py/object\": \"pandas.core.frame.DataFrame\", \"values\": \"Price\\n700\\n250\\n800\\n1200\\n\", \"txt\": true, \"meta\": {\"dtypes\": {\"Price\": \"int64\"}, \"index\": \"{\\\"py/object\\\": \\\"pandas.core.indexes.range.RangeIndex\\\", \\\"values\\\": \\\"[0, 1, 2, 3]\\\", \\\"txt\\\": true, \\\"meta\\\": {\\\"dtype\\\": \\\"int64\\\", \\\"name\\\": null}}\"}}\"\"\"\n",
    "a = jsonpickle.decode(a)"
   ]
  },
  {
   "cell_type": "code",
   "execution_count": null,
   "metadata": {
    "ExecuteTime": {
     "end_time": "2020-05-29T18:39:18.728676Z",
     "start_time": "2020-05-29T18:39:18.711958Z"
    }
   },
   "outputs": [],
   "source": [
    "# Initialize values for unit test.\n",
    "a = '{\"py/object\": \"pandas.core.frame.DataFrame\", \"values\": \"Price\\n700\\n250\\n800\\n1200\\n\", \"txt\": true, \"meta\": {\"dtypes\": {\"Price\": \"int64\"}, \"index\": \"{\"py/object\": \"pandas.core.indexes.range.RangeIndex\", \"values\": \"[0, 1, 2, 3]\", \"txt\": true, \"meta\": {\"dtype\": \"int64\", \"name\": null}}\"}}'\n",
    "a = jsonpickle.decode(a)\n",
    "b = '{\"py/object\": \"pandas.core.frame.DataFrame\", \"values\": \"Price\\n1\\n1\\n1\\n1\\n\", \"txt\": true, \"meta\": {\"dtypes\": {\"Price\": \"int64\"}, \"index\": \"{\"py/object\": \"pandas.core.indexes.range.RangeIndex\", \"values\": \"[0, 1, 2, 3]\", \"txt\": true, \"meta\": {\"dtype\": \"int64\", \"name\": null}}\"}}'\n",
    "b = jsonpickle.decode(b)\n",
    "# Apply values.\n",
    "act = F(a, b)\n",
    "exp = '{\"py/object\": \"pandas.core.frame.DataFrame\", \"values\": \"Price\\n701\\n251\\n801\\n1201\\n\", \"txt\": true, \"meta\": {\"dtypes\": {\"Price\": \"int64\"}, \"index\": \"{\"py/object\": \"pandas.core.indexes.range.RangeIndex\", \"values\": \"[0, 1, 2, 3]\", \"txt\": true, \"meta\": {\"dtype\": \"int64\", \"name\": null}}\"}}'\n",
    "exp = jsonpickle.decode(exp)\n",
    "assert act == exp"
   ]
  },
  {
   "cell_type": "code",
   "execution_count": null,
   "metadata": {
    "ExecuteTime": {
     "end_time": "2020-05-29T18:27:30.781670Z",
     "start_time": "2020-05-29T18:27:30.777539Z"
    }
   },
   "outputs": [],
   "source": [
    "# Initialize values for unit test.\n",
    "a = 3\n",
    "b = 4\n",
    "# Apply values.\n",
    "act = F(a, b)\n",
    "exp = {\"pavel\": 7}\n",
    "assert act == exp"
   ]
  },
  {
   "cell_type": "code",
   "execution_count": null,
   "metadata": {
    "ExecuteTime": {
     "end_time": "2020-05-29T18:10:03.802405Z",
     "start_time": "2020-05-29T18:10:03.790642Z"
    }
   },
   "outputs": [],
   "source": [
    "df2 = round_trip(df)"
   ]
  },
  {
   "cell_type": "code",
   "execution_count": null,
   "metadata": {
    "ExecuteTime": {
     "end_time": "2020-05-11T21:48:14.394447Z",
     "start_time": "2020-05-11T21:48:14.384307Z"
    }
   },
   "outputs": [],
   "source": [
    "class Thing:\n",
    "    def __init__(self, name):\n",
    "        self.name = name\n",
    "\n",
    "\n",
    "obj = Thing(\"Awesome\")\n",
    "\n",
    "round_trip(obj)"
   ]
  },
  {
   "cell_type": "code",
   "execution_count": null,
   "metadata": {
    "ExecuteTime": {
     "end_time": "2020-05-11T19:58:38.314059Z",
     "start_time": "2020-05-11T19:58:38.309331Z"
    }
   },
   "outputs": [],
   "source": [
    "def test(a: int, b: int):\n",
    "    print(round_trip(a))\n",
    "\n",
    "\n",
    "test(\"strunz\", 6)\n",
    "test(4, 6)\n",
    "test([\"hello\"], 6)"
   ]
  },
  {
   "cell_type": "code",
   "execution_count": null,
   "metadata": {
    "ExecuteTime": {
     "end_time": "2020-05-11T14:03:41.315868Z",
     "start_time": "2020-05-11T14:03:41.311264Z"
    }
   },
   "outputs": [],
   "source": [
    "df.index.dtype  #"
   ]
  },
  {
   "cell_type": "code",
   "execution_count": null,
   "metadata": {
    "ExecuteTime": {
     "end_time": "2020-05-11T14:03:00.632566Z",
     "start_time": "2020-05-11T14:03:00.623714Z"
    }
   },
   "outputs": [],
   "source": [
    "df.dtypes"
   ]
  },
  {
   "cell_type": "code",
   "execution_count": null,
   "metadata": {
    "ExecuteTime": {
     "end_time": "2020-05-29T18:16:34.748252Z",
     "start_time": "2020-05-29T18:16:34.736249Z"
    }
   },
   "outputs": [],
   "source": [
    "# import io\n",
    "# import io.StringIO\n",
    "# from io import StringIO\n",
    "\n",
    "# output = StringIO.StringIO()\n",
    "\n",
    "orient = \"columns\"\n",
    "# orient = \"split\"\n",
    "# orient = \"records\"\n",
    "# orient = \"table\"\n",
    "df_as_str = df.to_json(orient=orient)\n",
    "\n",
    "# split\n",
    "# records\n",
    "# index\n",
    "# values\n",
    "# table\n",
    "# columns (the default format)\n",
    "\n",
    "python_code = []\n",
    "target_var = \"df_as_str\"\n",
    "python_code.append(\"%s = %s\" % (target_var, df_as_str))\n",
    "python_code.append(\"%s.index.name = '%s'\" % (target_var, df.index.name))\n",
    "python_code = \"\\n\".join(python_code)\n",
    "print(python_code)\n",
    "\n",
    "exec(python_code)"
   ]
  },
  {
   "cell_type": "code",
   "execution_count": null,
   "metadata": {
    "ExecuteTime": {
     "end_time": "2020-05-11T13:42:52.575973Z",
     "start_time": "2020-05-11T13:42:52.568178Z"
    }
   },
   "outputs": [],
   "source": [
    "airr = eval(df_as_str)\n",
    "df2 = pd.DataFrame.from_dict(arr, orient=\"columns\")\n",
    "df2.index.name"
   ]
  },
  {
   "cell_type": "code",
   "execution_count": null,
   "metadata": {},
   "outputs": [],
   "source": []
  }
 ],
 "metadata": {
  "kernelspec": {
   "display_name": "Python [conda env:.conda-develop] *",
   "language": "python",
   "name": "conda-env-.conda-develop-py"
  },
  "language_info": {
   "codemirror_mode": {
    "name": "ipython",
    "version": 3
   },
   "file_extension": ".py",
   "mimetype": "text/x-python",
   "name": "python",
   "nbconvert_exporter": "python",
   "pygments_lexer": "ipython3",
   "version": "3.7.6"
  },
  "toc": {
   "base_numbering": 1,
   "nav_menu": {},
   "number_sections": true,
   "sideBar": true,
   "skip_h1_title": false,
   "title_cell": "Table of Contents",
   "title_sidebar": "Contents",
   "toc_cell": false,
   "toc_position": {
    "height": "calc(100% - 180px)",
    "left": "10px",
    "top": "150px",
    "width": "165px"
   },
   "toc_section_display": true,
   "toc_window_display": true
  }
 },
 "nbformat": 4,
 "nbformat_minor": 4
}
