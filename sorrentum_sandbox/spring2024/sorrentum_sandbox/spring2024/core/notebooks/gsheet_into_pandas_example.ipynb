{
 "cells": [
  {
   "cell_type": "markdown",
   "metadata": {},
   "source": [
    "# Description"
   ]
  },
  {
   "cell_type": "markdown",
   "metadata": {},
   "source": [
    "This notebook provides an example of using the `gspread_pandas` library.\n",
    "\n",
    "The library accesses google sheets and loads them into pandas dataframes."
   ]
  },
  {
   "cell_type": "markdown",
   "metadata": {},
   "source": [
    "# Imports"
   ]
  },
  {
   "cell_type": "code",
   "execution_count": null,
   "metadata": {
    "ExecuteTime": {
     "end_time": "2023-09-04T21:35:31.174388Z",
     "start_time": "2023-09-04T21:35:30.461925Z"
    }
   },
   "outputs": [],
   "source": [
    "import gspread_pandas"
   ]
  },
  {
   "cell_type": "markdown",
   "metadata": {},
   "source": [
    "# Testing the library"
   ]
  },
  {
   "cell_type": "code",
   "execution_count": null,
   "metadata": {
    "ExecuteTime": {
     "start_time": "2023-09-04T21:35:32.630Z"
    }
   },
   "outputs": [],
   "source": [
    "spread = gspread_pandas.Spread(\"Task 961 - RP: Ideas for signals to test\")"
   ]
  },
  {
   "cell_type": "code",
   "execution_count": null,
   "metadata": {
    "ExecuteTime": {
     "end_time": "2020-04-22T20:06:01.571238Z",
     "start_time": "2020-04-22T20:06:01.514532Z"
    }
   },
   "outputs": [],
   "source": [
    "spread"
   ]
  },
  {
   "cell_type": "code",
   "execution_count": null,
   "metadata": {
    "ExecuteTime": {
     "end_time": "2020-04-22T20:06:01.948322Z",
     "start_time": "2020-04-22T20:06:01.573544Z"
    }
   },
   "outputs": [],
   "source": [
    "spread.sheets"
   ]
  },
  {
   "cell_type": "code",
   "execution_count": null,
   "metadata": {
    "ExecuteTime": {
     "end_time": "2020-04-22T20:06:02.769049Z",
     "start_time": "2020-04-22T20:06:01.950122Z"
    }
   },
   "outputs": [],
   "source": [
    "df = spread.sheet_to_df(index=None)\n",
    "print(df.shape)\n",
    "print(type(df))\n",
    "df.head()"
   ]
  },
  {
   "cell_type": "code",
   "execution_count": null,
   "metadata": {
    "ExecuteTime": {
     "end_time": "2020-04-22T20:06:02.784320Z",
     "start_time": "2020-04-22T20:06:02.770710Z"
    }
   },
   "outputs": [],
   "source": [
    "assets_sample = df[df[\"GROUP\"] == \"assets\"]\n",
    "print(assets_sample.shape)\n",
    "assets_sample.head()"
   ]
  }
 ],
 "metadata": {
  "kernelspec": {
   "display_name": "Python 3 (ipykernel)",
   "language": "python",
   "name": "python3"
  },
  "language_info": {
   "codemirror_mode": {
    "name": "ipython",
    "version": 3
   },
   "file_extension": ".py",
   "mimetype": "text/x-python",
   "name": "python",
   "nbconvert_exporter": "python",
   "pygments_lexer": "ipython3",
   "version": "3.8.10"
  },
  "toc": {
   "base_numbering": 1,
   "nav_menu": {},
   "number_sections": true,
   "sideBar": true,
   "skip_h1_title": false,
   "title_cell": "Table of Contents",
   "title_sidebar": "Contents",
   "toc_cell": false,
   "toc_position": {},
   "toc_section_display": true,
   "toc_window_display": false
  }
 },
 "nbformat": 4,
 "nbformat_minor": 4
}
