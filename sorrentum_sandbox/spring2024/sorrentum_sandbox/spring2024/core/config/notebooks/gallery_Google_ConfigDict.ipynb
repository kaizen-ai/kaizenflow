{
 "cells": [
  {
   "cell_type": "markdown",
   "id": "3caff6a5",
   "metadata": {},
   "source": [
    "# Description"
   ]
  },
  {
   "cell_type": "markdown",
   "id": "a6b1b764",
   "metadata": {},
   "source": [
    "- A gallery notebook to `ml_collections.ConfigDict`.\n",
    "\n",
    "- In general, there are two classes called `ConfigDict` and `FrozenConfigDict` which are \"dict-like\" data structures with dot access to nested elements\n",
    "\n",
    "- Main ways of expressing configurations of experiments and models."
   ]
  },
  {
   "cell_type": "markdown",
   "id": "8dd0bdd9",
   "metadata": {},
   "source": [
    "# Imports"
   ]
  },
  {
   "cell_type": "code",
   "execution_count": 165,
   "id": "73d22194",
   "metadata": {
    "ExecuteTime": {
     "end_time": "2023-09-06T20:14:46.363150Z",
     "start_time": "2023-09-06T20:14:42.512289Z"
    }
   },
   "outputs": [
    {
     "name": "stdout",
     "output_type": "stream",
     "text": [
      "Requirement already satisfied: ml_collections in /venv/lib/python3.8/site-packages (0.1.1)\r\n",
      "Requirement already satisfied: absl-py in /venv/lib/python3.8/site-packages (from ml_collections) (1.4.0)\r\n",
      "Requirement already satisfied: PyYAML in /venv/lib/python3.8/site-packages (from ml_collections) (5.4.1)\r\n",
      "Requirement already satisfied: six in /venv/lib/python3.8/site-packages (from ml_collections) (1.16.0)\r\n",
      "Requirement already satisfied: contextlib2 in /venv/lib/python3.8/site-packages (from ml_collections) (21.6.0)\r\n"
     ]
    }
   ],
   "source": [
    "# Install `ml_collections` to env temporary.\n",
    "!sudo /bin/bash -c \"(source /venv/bin/activate; pip install ml_collections)\""
   ]
  },
  {
   "cell_type": "code",
   "execution_count": 166,
   "id": "ea823da0",
   "metadata": {
    "ExecuteTime": {
     "end_time": "2023-09-06T20:14:46.373628Z",
     "start_time": "2023-09-06T20:14:46.370422Z"
    }
   },
   "outputs": [],
   "source": [
    "import ml_collections as ml"
   ]
  },
  {
   "cell_type": "markdown",
   "id": "31b97f38",
   "metadata": {},
   "source": [
    "# `ConfigDict()`\n",
    "\n",
    "## Initialization\n",
    "\n",
    "- It has dot-based access as well as dict-style key access\n",
    "\n",
    "- It is type safe (once a value is set one cannot change its type)\n",
    "\n",
    "- Observation: The keys are stored or added in alphabetical order\n",
    "\n",
    "- Cannot have `.` in a key name.\n",
    "\n",
    "- Args:\n",
    "    - `initial_dictionary`: May be one of the following:\n",
    "\n",
    "        - `dict` - In this case, all values of `initial_dictionary` that are\n",
    "        dictionaries are also be converted to `ConfigDict`. However,\n",
    "        dictionaries within values of non-dict type are untouched\n",
    "\n",
    "        - `ConfigDict` - In this case, all attributes are uncopied, and only the\n",
    "        top-level object (self) is re-addressed. This is the same behavior\n",
    "        as Python dict, list, and tuple\n",
    "\n",
    "        - `FrozenConfigDict` - In this case, `initial_dictionary` is converted to\n",
    "        a `ConfigDict` version of the initial dictionary for the\n",
    "        `FrozenConfigDict` (reversing any mutability changes `FrozenConfigDict`\n",
    "        made)\n",
    "\n",
    "    - `type_safe`: If set to True, once an attribute value is assigned, its type\n",
    "          cannot be overridden without `.ignore_type()` context manager\n",
    "          (default: True)\n",
    "    - `convert_dict`: If set to True, all dict used as value in the ConfigDict\n",
    "          will automatically be converted to ConfigDict (default: True)"
   ]
  },
  {
   "cell_type": "code",
   "execution_count": 167,
   "id": "602a0e77",
   "metadata": {
    "ExecuteTime": {
     "end_time": "2023-09-06T20:14:50.636317Z",
     "start_time": "2023-09-06T20:14:50.626974Z"
    }
   },
   "outputs": [
    {
     "data": {
      "text/plain": [
       "meta:\n",
       "  id_col: asset_id\n",
       "  use_historical: true\n",
       "ohlcv_market_data:\n",
       "  mode: trade\n",
       "  universe:\n",
       "    test_asset_id: 1467591036\n",
       "    universe_version: v7.1\n",
       "  vendor: CCXT\n",
       "system_log_dir: /shared_data/CMTask5198_log_dir_1"
      ]
     },
     "execution_count": 167,
     "metadata": {},
     "output_type": "execute_result"
    }
   ],
   "source": [
    "config = {\n",
    "    \"meta\": {\"id_col\": \"asset_id\", \"use_historical\": True},\n",
    "    \"system_log_dir\": \"/shared_data/CMTask5198_log_dir_1\",\n",
    "    \"ohlcv_market_data\": {\n",
    "        \"vendor\": \"CCXT\",\n",
    "        \"mode\": \"trade\",\n",
    "        \"universe\": {\n",
    "            \"universe_version\": \"v7.1\",\n",
    "            \"test_asset_id\": 1467591036,\n",
    "        },\n",
    "    },\n",
    "}\n",
    "# `ConfigDict` class:\n",
    "#  https://github.com/google/ml_collections/blob/master/ml_collections/config_dict/config_dict.py#L575\n",
    "config = ml.ConfigDict(config)\n",
    "config"
   ]
  },
  {
   "cell_type": "code",
   "execution_count": 168,
   "id": "5eec9eeb",
   "metadata": {
    "ExecuteTime": {
     "end_time": "2023-09-06T20:14:51.408897Z",
     "start_time": "2023-09-06T20:14:51.403319Z"
    }
   },
   "outputs": [
    {
     "name": "stdout",
     "output_type": "stream",
     "text": [
      "level_0:\n",
      "  level_1:\n",
      "    level: 2\n",
      "other_param: some_value\n",
      " \n",
      "\n",
      "<class 'ml_collections.config_dict.config_dict.ConfigDict'>\n"
     ]
    }
   ],
   "source": [
    "# Create a config using `create` function.\n",
    "config_create = ml.config_dict.create(\n",
    "    level_0=ml.config_dict.create(level_1=ml.config_dict.create(level=2)),\n",
    "    other_param=\"some_value\",\n",
    ")\n",
    "print(config_create, \"\\n\")\n",
    "print(type(config_create))"
   ]
  },
  {
   "cell_type": "code",
   "execution_count": 169,
   "id": "15c0a441",
   "metadata": {
    "ExecuteTime": {
     "end_time": "2023-09-06T20:14:52.411877Z",
     "start_time": "2023-09-06T20:14:52.407443Z"
    }
   },
   "outputs": [
    {
     "data": {
      "text/plain": [
       "True"
      ]
     },
     "execution_count": 169,
     "metadata": {},
     "output_type": "execute_result"
    }
   ],
   "source": [
    "# If `is_type_safe=True` which is a default value,\n",
    "# it's impossible to re-write the value using different\n",
    "# type. TypeError is raised. See an example below.\n",
    "# config[\"vendor\"] = 123\n",
    "# `int` types can be assigned to `float`.\n",
    "config.is_type_safe"
   ]
  },
  {
   "cell_type": "code",
   "execution_count": 170,
   "id": "ccf1b3ef",
   "metadata": {
    "ExecuteTime": {
     "end_time": "2023-09-06T20:14:53.264222Z",
     "start_time": "2023-09-06T20:14:53.259063Z"
    }
   },
   "outputs": [
    {
     "data": {
      "text/plain": [
       "True"
      ]
     },
     "execution_count": 170,
     "metadata": {},
     "output_type": "execute_result"
    }
   ],
   "source": [
    "# Check if the config is converting dicts to `ConfigDict` automatically.\n",
    "config.convert_dict"
   ]
  },
  {
   "cell_type": "markdown",
   "id": "5e039c42",
   "metadata": {},
   "source": [
    "## Get / Set values"
   ]
  },
  {
   "cell_type": "code",
   "execution_count": 171,
   "id": "fc833d0a",
   "metadata": {
    "ExecuteTime": {
     "end_time": "2023-09-06T20:14:54.648903Z",
     "start_time": "2023-09-06T20:14:54.645418Z"
    }
   },
   "outputs": [
    {
     "name": "stdout",
     "output_type": "stream",
     "text": [
      "using keys: asset_id\n"
     ]
    }
   ],
   "source": [
    "# Get a config value using 2 ways: dict key or dot-method.\n",
    "# E.g.: dot-method - `config.ohlcv_market_data.universe`.\n",
    "print(f\"\"\"using keys: {config[\"meta\"][\"id_col\"]}\"\"\")"
   ]
  },
  {
   "cell_type": "code",
   "execution_count": 172,
   "id": "497853ce",
   "metadata": {
    "ExecuteTime": {
     "end_time": "2023-09-06T20:14:55.551899Z",
     "start_time": "2023-09-06T20:14:55.546346Z"
    }
   },
   "outputs": [
    {
     "data": {
      "text/plain": [
       "mode: trade\n",
       "universe:\n",
       "  test_asset_id: 1467591036\n",
       "  universe_version: v7.1\n",
       "vendor: CCXT"
      ]
     },
     "execution_count": 172,
     "metadata": {},
     "output_type": "execute_result"
    }
   ],
   "source": [
    "# Get value from existing key.\n",
    "config.get(\"ohlcv_market_data\")"
   ]
  },
  {
   "cell_type": "code",
   "execution_count": 173,
   "id": "5ebfcc3d",
   "metadata": {
    "ExecuteTime": {
     "end_time": "2023-09-06T20:14:56.333064Z",
     "start_time": "2023-09-06T20:14:56.328342Z"
    }
   },
   "outputs": [
    {
     "data": {
      "text/plain": [
       "'Not Present'"
      ]
     },
     "execution_count": 173,
     "metadata": {},
     "output_type": "execute_result"
    }
   ],
   "source": [
    "# Get default value if key is not present.\n",
    "default_value = \"Not Present\"\n",
    "config.get(\"hello\", default=default_value)"
   ]
  },
  {
   "cell_type": "code",
   "execution_count": 174,
   "id": "1c90e194",
   "metadata": {
    "ExecuteTime": {
     "end_time": "2023-09-06T20:14:57.093398Z",
     "start_time": "2023-09-06T20:14:57.087881Z"
    }
   },
   "outputs": [
    {
     "data": {
      "text/plain": [
       "str"
      ]
     },
     "execution_count": 174,
     "metadata": {},
     "output_type": "execute_result"
    }
   ],
   "source": [
    "config.get_type(\"system_log_dir\")"
   ]
  },
  {
   "cell_type": "code",
   "execution_count": 175,
   "id": "3440f958",
   "metadata": {
    "ExecuteTime": {
     "end_time": "2023-09-06T20:14:57.844807Z",
     "start_time": "2023-09-06T20:14:57.840647Z"
    }
   },
   "outputs": [
    {
     "data": {
      "text/plain": [
       "ml_collections.config_dict.config_dict.ConfigDict"
      ]
     },
     "execution_count": 175,
     "metadata": {},
     "output_type": "execute_result"
    }
   ],
   "source": [
    "# Get a type of the field associated with a key.\n",
    "config.get_type(\"ohlcv_market_data\")"
   ]
  },
  {
   "cell_type": "code",
   "execution_count": 176,
   "id": "eefb6490",
   "metadata": {
    "ExecuteTime": {
     "end_time": "2023-09-06T20:14:58.561647Z",
     "start_time": "2023-09-06T20:14:58.545998Z"
    }
   },
   "outputs": [
    {
     "data": {
      "text/plain": [
       "bar_duration: 5T\n",
       "meta:\n",
       "  id_col: asset_id\n",
       "  use_historical: true\n",
       "ohlcv_market_data:\n",
       "  mode: trade\n",
       "  universe:\n",
       "    test_asset_id: 1467591036\n",
       "    universe_version: v7.1\n",
       "  vendor: CCXT\n",
       "system_log_dir: /shared_data/CMTask5198_log_dir_1"
      ]
     },
     "execution_count": 176,
     "metadata": {},
     "output_type": "execute_result"
    }
   ],
   "source": [
    "# Add new key.\n",
    "config[\"bar_duration\"] = \"5T\"\n",
    "config"
   ]
  },
  {
   "cell_type": "code",
   "execution_count": 177,
   "id": "78de809f",
   "metadata": {
    "ExecuteTime": {
     "end_time": "2023-09-06T20:14:59.327750Z",
     "start_time": "2023-09-06T20:14:59.320475Z"
    }
   },
   "outputs": [
    {
     "data": {
      "text/plain": [
       "bar_duration: 5T\n",
       "cat: foo\n",
       "meta:\n",
       "  id_col: asset_id\n",
       "  use_historical: true\n",
       "ohlcv_market_data:\n",
       "  mode: trade\n",
       "  universe:\n",
       "    test_asset_id: 1467591036\n",
       "    universe_version: v7.1\n",
       "  vendor: CCXT\n",
       "system_log_dir: /shared_data/CMTask5198_log_dir_1"
      ]
     },
     "execution_count": 177,
     "metadata": {},
     "output_type": "execute_result"
    }
   ],
   "source": [
    "# Keys are stored alphabatically.\n",
    "config[\"cat\"] = \"foo\"\n",
    "config"
   ]
  },
  {
   "cell_type": "markdown",
   "id": "3275b602",
   "metadata": {},
   "source": [
    "## Update\n",
    "\n",
    "- Update values based on matching keys in another dict-like object\n",
    "- Cannot update from multiple dictionaries and from different types\n",
    "-  Args:\n",
    "      - *other: A (single) dict-like container, e.g. a dict or ConfigDict.\n",
    "      - **kwargs: Additional keyword arguments to update the ConfigDict."
   ]
  },
  {
   "cell_type": "code",
   "execution_count": 178,
   "id": "8c12e619",
   "metadata": {
    "ExecuteTime": {
     "end_time": "2023-09-06T20:15:00.750684Z",
     "start_time": "2023-09-06T20:15:00.737246Z"
    }
   },
   "outputs": [
    {
     "data": {
      "text/plain": [
       "bar_duration: 7T\n",
       "cat: bar\n",
       "meta:\n",
       "  id_col: asset_id\n",
       "  use_historical: true\n",
       "ohlcv_market_data:\n",
       "  mode: trade\n",
       "  universe:\n",
       "    test_asset_id: 1467591036\n",
       "    universe_version: v7.1\n",
       "  vendor: CCXT\n",
       "system_log_dir: /shared_data/CMTask5198_log_dir_1\n",
       "test: new_value"
      ]
     },
     "execution_count": 178,
     "metadata": {},
     "output_type": "execute_result"
    }
   ],
   "source": [
    "update_dict = {\"bar_duration\": \"7T\", \"cat\": \"bar\"}\n",
    "config.update(update_dict, test=\"new_value\")\n",
    "config"
   ]
  },
  {
   "cell_type": "code",
   "execution_count": 179,
   "id": "d255570c",
   "metadata": {
    "ExecuteTime": {
     "end_time": "2023-09-06T20:15:01.456431Z",
     "start_time": "2023-09-06T20:15:01.448210Z"
    }
   },
   "outputs": [
    {
     "data": {
      "text/plain": [
       "bar_duration: 7T\n",
       "cat: bar\n",
       "meta:\n",
       "  id_col: asset_id\n",
       "  use_historical: true\n",
       "new_key: new_value\n",
       "ohlcv_market_data:\n",
       "  mode: trade\n",
       "  universe:\n",
       "    test_asset_id: 1467591036\n",
       "    universe_version: v7.2\n",
       "  vendor: CCXT\n",
       "system_log_dir: /shared_data/CMTask5198_log_dir_1\n",
       "test: new_value"
      ]
     },
     "execution_count": 179,
     "metadata": {},
     "output_type": "execute_result"
    }
   ],
   "source": [
    "# In-place update the values taken from a flattened dict.\n",
    "# We can also add a new key to the config.\n",
    "flattend_dict = {\n",
    "    \"ohlcv_market_data.universe.universe_version\": \"v7.2\",\n",
    "    \"new_key\": \"new_value\",\n",
    "}\n",
    "config.update_from_flattened_dict(flattend_dict)\n",
    "config"
   ]
  },
  {
   "cell_type": "markdown",
   "id": "d3cc3d4a",
   "metadata": {
    "ExecuteTime": {
     "end_time": "2023-09-01T18:22:28.787197Z",
     "start_time": "2023-09-01T18:22:28.783838Z"
    }
   },
   "source": [
    "## `lock()` and `unlock()`"
   ]
  },
  {
   "cell_type": "code",
   "execution_count": 180,
   "id": "e935f500",
   "metadata": {
    "ExecuteTime": {
     "end_time": "2023-09-06T20:15:02.776475Z",
     "start_time": "2023-09-06T20:15:02.768292Z"
    }
   },
   "outputs": [
    {
     "data": {
      "text/plain": [
       "bar_duration: 7T\n",
       "cat: bar\n",
       "meta:\n",
       "  id_col: asset_id\n",
       "  use_historical: true\n",
       "new_key: new_value\n",
       "ohlcv_market_data:\n",
       "  mode: trade\n",
       "  universe:\n",
       "    test_asset_id: 1467591036\n",
       "    universe_version: v7.2\n",
       "  vendor: CCXT\n",
       "system_log_dir: /shared_data/CMTask5198_log_dir_1\n",
       "test: new_value"
      ]
     },
     "execution_count": 180,
     "metadata": {},
     "output_type": "execute_result"
    }
   ],
   "source": [
    "# Lock the config in order not to add new keys.\n",
    "config.lock()"
   ]
  },
  {
   "cell_type": "code",
   "execution_count": 181,
   "id": "2efc00c2",
   "metadata": {
    "ExecuteTime": {
     "end_time": "2023-09-06T20:15:03.547439Z",
     "start_time": "2023-09-06T20:15:03.539378Z"
    }
   },
   "outputs": [
    {
     "data": {
      "text/plain": [
       "True"
      ]
     },
     "execution_count": 181,
     "metadata": {},
     "output_type": "execute_result"
    }
   ],
   "source": [
    "# Check if config is locked.\n",
    "config.is_locked"
   ]
  },
  {
   "cell_type": "code",
   "execution_count": 182,
   "id": "9c1ec77e",
   "metadata": {
    "ExecuteTime": {
     "end_time": "2023-09-06T20:15:04.278727Z",
     "start_time": "2023-09-06T20:15:04.232617Z"
    }
   },
   "outputs": [
    {
     "ename": "KeyError",
     "evalue": "'Key \"test2\" does not exist and cannot be added since the config is locked\\nDid you mean \"test\" instead of \"test2\"?'",
     "output_type": "error",
     "traceback": [
      "\u001b[0;31m---------------------------------------------------------------------------\u001b[0m",
      "\u001b[0;31mKeyError\u001b[0m                                  Traceback (most recent call last)",
      "Cell \u001b[0;32mIn[182], line 2\u001b[0m\n\u001b[1;32m      1\u001b[0m \u001b[38;5;66;03m# `KeyError` is raised trying to add new key while config is locked.\u001b[39;00m\n\u001b[0;32m----> 2\u001b[0m \u001b[43mconfig\u001b[49m\u001b[43m[\u001b[49m\u001b[38;5;124;43m\"\u001b[39;49m\u001b[38;5;124;43mtest2\u001b[39;49m\u001b[38;5;124;43m\"\u001b[39;49m\u001b[43m]\u001b[49m \u001b[38;5;241m=\u001b[39m \u001b[38;5;124m\"\u001b[39m\u001b[38;5;124mtest_value\u001b[39m\u001b[38;5;124m\"\u001b[39m\n",
      "File \u001b[0;32m/venv/lib/python3.8/site-packages/ml_collections/config_dict/config_dict.py:839\u001b[0m, in \u001b[0;36mConfigDict.__setitem__\u001b[0;34m(self, key, value)\u001b[0m\n\u001b[1;32m    836\u001b[0m \u001b[38;5;28;01mif\u001b[39;00m \u001b[38;5;28mself\u001b[39m\u001b[38;5;241m.\u001b[39mis_locked \u001b[38;5;129;01mand\u001b[39;00m key \u001b[38;5;129;01mnot\u001b[39;00m \u001b[38;5;129;01min\u001b[39;00m \u001b[38;5;28mself\u001b[39m\u001b[38;5;241m.\u001b[39m_fields:\n\u001b[1;32m    837\u001b[0m   error_msg \u001b[38;5;241m=\u001b[39m (\u001b[38;5;124m'\u001b[39m\u001b[38;5;124mKey \u001b[39m\u001b[38;5;124m\"\u001b[39m\u001b[38;5;132;01m{}\u001b[39;00m\u001b[38;5;124m\"\u001b[39m\u001b[38;5;124m does not exist and cannot be added since the \u001b[39m\u001b[38;5;124m'\u001b[39m\n\u001b[1;32m    838\u001b[0m                \u001b[38;5;124m'\u001b[39m\u001b[38;5;124mconfig is locked\u001b[39m\u001b[38;5;124m'\u001b[39m)\n\u001b[0;32m--> 839\u001b[0m   \u001b[38;5;28;01mraise\u001b[39;00m \u001b[38;5;167;01mKeyError\u001b[39;00m(\n\u001b[1;32m    840\u001b[0m       \u001b[38;5;28mself\u001b[39m\u001b[38;5;241m.\u001b[39m_generate_did_you_mean_message(key, error_msg\u001b[38;5;241m.\u001b[39mformat(key)))\n\u001b[1;32m    842\u001b[0m \u001b[38;5;28;01mif\u001b[39;00m key \u001b[38;5;129;01min\u001b[39;00m \u001b[38;5;28mself\u001b[39m\u001b[38;5;241m.\u001b[39m_fields:\n\u001b[1;32m    843\u001b[0m   field \u001b[38;5;241m=\u001b[39m \u001b[38;5;28mself\u001b[39m\u001b[38;5;241m.\u001b[39m_fields[key]\n",
      "\u001b[0;31mKeyError\u001b[0m: 'Key \"test2\" does not exist and cannot be added since the config is locked\\nDid you mean \"test\" instead of \"test2\"?'"
     ]
    }
   ],
   "source": [
    "# `KeyError` is raised trying to add new key while config is locked.\n",
    "config[\"test2\"] = \"test_value\""
   ]
  },
  {
   "cell_type": "code",
   "execution_count": 183,
   "id": "38e914b5",
   "metadata": {
    "ExecuteTime": {
     "end_time": "2023-09-06T20:15:07.075891Z",
     "start_time": "2023-09-06T20:15:07.067530Z"
    }
   },
   "outputs": [
    {
     "data": {
      "text/plain": [
       "bar_duration: 6T\n",
       "cat: bar\n",
       "meta:\n",
       "  id_col: asset_id\n",
       "  use_historical: true\n",
       "new_key: new_value\n",
       "ohlcv_market_data:\n",
       "  mode: trade\n",
       "  universe:\n",
       "    test_asset_id: 1467591036\n",
       "    universe_version: v7.2\n",
       "  vendor: CCXT\n",
       "system_log_dir: /shared_data/CMTask5198_log_dir_1\n",
       "test: new_value"
      ]
     },
     "execution_count": 183,
     "metadata": {},
     "output_type": "execute_result"
    }
   ],
   "source": [
    "# Exisitng keys can be modified even if the config is locked.\n",
    "config[\"bar_duration\"] = \"6T\"\n",
    "config"
   ]
  },
  {
   "cell_type": "code",
   "execution_count": 184,
   "id": "b702aec1",
   "metadata": {
    "ExecuteTime": {
     "end_time": "2023-09-06T20:15:07.924539Z",
     "start_time": "2023-09-06T20:15:07.903816Z"
    }
   },
   "outputs": [
    {
     "data": {
      "text/plain": [
       "bar_duration: 6T\n",
       "cat: bar\n",
       "meta:\n",
       "  id_col: asset_id\n",
       "  use_historical: true\n",
       "new_key: new_value\n",
       "ohlcv_market_data:\n",
       "  mode: trade\n",
       "  universe:\n",
       "    test_asset_id: 1467591036\n",
       "    universe_version: v7.2\n",
       "  vendor: CCXT\n",
       "system_log_dir: /shared_data/CMTask5198_log_dir_1\n",
       "test: test_value"
      ]
     },
     "execution_count": 184,
     "metadata": {},
     "output_type": "execute_result"
    }
   ],
   "source": [
    "# Config can be unlocked.\n",
    "config.unlock()\n",
    "config[\"test\"] = \"test_value\"\n",
    "config"
   ]
  },
  {
   "cell_type": "code",
   "execution_count": 185,
   "id": "64be10c7",
   "metadata": {
    "ExecuteTime": {
     "end_time": "2023-09-06T20:15:08.789967Z",
     "start_time": "2023-09-06T20:15:08.781132Z"
    }
   },
   "outputs": [
    {
     "data": {
      "text/plain": [
       "False"
      ]
     },
     "execution_count": 185,
     "metadata": {},
     "output_type": "execute_result"
    }
   ],
   "source": [
    "# Check if config is unlocked.\n",
    "config.is_locked"
   ]
  },
  {
   "cell_type": "code",
   "execution_count": 186,
   "id": "75682d4c",
   "metadata": {
    "ExecuteTime": {
     "end_time": "2023-09-06T20:15:09.598500Z",
     "start_time": "2023-09-06T20:15:09.587502Z"
    }
   },
   "outputs": [
    {
     "data": {
      "text/plain": [
       "bar_duration: 6T\n",
       "cat: bar\n",
       "meta:\n",
       "  id_col: asset_id\n",
       "  use_historical: true\n",
       "new_key: new_value\n",
       "ohlcv_market_data:\n",
       "  mode: trade\n",
       "  universe:\n",
       "    test_asset_id: 1467591036\n",
       "    universe_version: v7.2\n",
       "  vendor2: CCXT\n",
       "system_log_dir: /shared_data/CMTask5198_log_dir_1\n",
       "test: test_value"
      ]
     },
     "execution_count": 186,
     "metadata": {},
     "output_type": "execute_result"
    }
   ],
   "source": [
    "# Recursively rename the keys.\n",
    "new_cfg = ml.config_dict.recursive_rename(config, \"vendor\", \"vendor2\")\n",
    "new_cfg"
   ]
  },
  {
   "cell_type": "markdown",
   "id": "32ef21c3",
   "metadata": {},
   "source": [
    "# General Functionality."
   ]
  },
  {
   "cell_type": "code",
   "execution_count": 187,
   "id": "7012017f",
   "metadata": {
    "ExecuteTime": {
     "end_time": "2023-09-06T20:15:14.328321Z",
     "start_time": "2023-09-06T20:15:14.320276Z"
    }
   },
   "outputs": [
    {
     "data": {
      "text/plain": [
       "'{\"meta\": {\"id_col\": \"asset_id\", \"use_historical\": true}, \"system_log_dir\": \"/shared_data/CMTask5198_log_dir_1\", \"ohlcv_market_data\": {\"vendor\": \"CCXT\", \"mode\": \"trade\", \"universe\": {\"universe_version\": \"v7.2\", \"test_asset_id\": 1467591036}}, \"bar_duration\": \"6T\", \"cat\": \"bar\", \"test\": \"test_value\", \"new_key\": \"new_value\"}'"
      ]
     },
     "execution_count": 187,
     "metadata": {},
     "output_type": "execute_result"
    }
   ],
   "source": [
    "# Get a a JSON representation of the object, fails if there is a cycle.\n",
    "config.to_json()"
   ]
  },
  {
   "cell_type": "code",
   "execution_count": 188,
   "id": "f7556c27",
   "metadata": {
    "ExecuteTime": {
     "end_time": "2023-09-06T20:15:15.349432Z",
     "start_time": "2023-09-06T20:15:15.344292Z"
    }
   },
   "outputs": [
    {
     "data": {
      "text/plain": [
       "'{\"meta\": {\"id_col\": \"asset_id\", \"use_historical\": true}, \"system_log_dir\": \"/shared_data/CMTask5198_log_dir_1\", \"ohlcv_market_data\": {\"vendor\": \"CCXT\", \"mode\": \"trade\", \"universe\": {\"universe_version\": \"v7.2\", \"test_asset_id\": 1467591036}}, \"bar_duration\": \"6T\", \"cat\": \"bar\", \"test\": \"test_value\", \"new_key\": \"new_value\"}'"
      ]
     },
     "execution_count": 188,
     "metadata": {},
     "output_type": "execute_result"
    }
   ],
   "source": [
    "# Get a a best effort JSON representation of the object.\n",
    "# Tries to serialize objects not inherently supported by JSON encoder. This\n",
    "# may result in the configdict being partially serialized, skipping the\n",
    "# unserializable bits. Ensures that no errors are thrown. Fails if there is a\n",
    "# cycle.\n",
    "config.to_json_best_effort()"
   ]
  },
  {
   "cell_type": "code",
   "execution_count": 189,
   "id": "35c9193f",
   "metadata": {
    "ExecuteTime": {
     "end_time": "2023-09-06T20:15:16.446767Z",
     "start_time": "2023-09-06T20:15:16.441254Z"
    }
   },
   "outputs": [
    {
     "data": {
      "text/plain": [
       "{'bar_duration': '6T',\n",
       " 'cat': 'bar',\n",
       " 'meta': {'id_col': 'asset_id', 'use_historical': True},\n",
       " 'new_key': 'new_value',\n",
       " 'ohlcv_market_data': {'mode': 'trade',\n",
       "  'universe': {'test_asset_id': 1467591036, 'universe_version': 'v7.2'},\n",
       "  'vendor': 'CCXT'},\n",
       " 'system_log_dir': '/shared_data/CMTask5198_log_dir_1',\n",
       " 'test': 'test_value'}"
      ]
     },
     "execution_count": 189,
     "metadata": {},
     "output_type": "execute_result"
    }
   ],
   "source": [
    "# Convert a ConfigDict to a regular dict.\n",
    "config.to_dict()"
   ]
  },
  {
   "cell_type": "markdown",
   "id": "d9f322ba",
   "metadata": {},
   "source": [
    "# FieldReferences and placeholders\n",
    "\n",
    "- A `FieldReference` is useful for having multiple fields (keys) use the same value. It can also be used for lazy computation\n",
    "\n",
    "- You can use `placeholder()` as a shortcut to create a `FieldReference` (field) with a `None` default value. This is useful if a program uses optional configuration fields"
   ]
  },
  {
   "cell_type": "markdown",
   "id": "d4f82fd0",
   "metadata": {},
   "source": [
    "## Initialization"
   ]
  },
  {
   "cell_type": "code",
   "execution_count": 190,
   "id": "4dae9fe3",
   "metadata": {
    "ExecuteTime": {
     "end_time": "2023-09-06T20:15:18.850487Z",
     "start_time": "2023-09-06T20:15:18.846178Z"
    }
   },
   "outputs": [
    {
     "data": {
      "text/plain": [
       "<ml_collections.config_dict.config_dict.FieldReference at 0x7f2c3047cbe0>"
      ]
     },
     "execution_count": 190,
     "metadata": {},
     "output_type": "execute_result"
    }
   ],
   "source": [
    "# Create a simple `FieldReference`.\n",
    "field_reference = ml.FieldReference(0)\n",
    "field_reference"
   ]
  },
  {
   "cell_type": "code",
   "execution_count": 191,
   "id": "00a7c661",
   "metadata": {
    "ExecuteTime": {
     "end_time": "2023-09-06T20:15:19.650200Z",
     "start_time": "2023-09-06T20:15:19.642552Z"
    }
   },
   "outputs": [
    {
     "data": {
      "text/plain": [
       "<ml_collections.config_dict.config_dict.FieldReference at 0x7f2c30586a90>"
      ]
     },
     "execution_count": 191,
     "metadata": {},
     "output_type": "execute_result"
    }
   ],
   "source": [
    "# Create a `placeholder` which returns a `FieldReference`\n",
    "# with a type and default value to null.\n",
    "placeholder = ml.config_dict.placeholder(int)\n",
    "placeholder"
   ]
  },
  {
   "cell_type": "markdown",
   "id": "f7e2957e",
   "metadata": {},
   "source": [
    "## Get / Set FieldReference"
   ]
  },
  {
   "cell_type": "code",
   "execution_count": 192,
   "id": "f29631b2",
   "metadata": {
    "ExecuteTime": {
     "end_time": "2023-09-06T20:15:21.185380Z",
     "start_time": "2023-09-06T20:15:21.180229Z"
    }
   },
   "outputs": [
    {
     "data": {
      "text/plain": [
       "1"
      ]
     },
     "execution_count": 192,
     "metadata": {},
     "output_type": "execute_result"
    }
   ],
   "source": [
    "# Get and Set the placeholder value.\n",
    "placeholder.set(1)\n",
    "placeholder.get()"
   ]
  },
  {
   "cell_type": "code",
   "execution_count": 193,
   "id": "384ef885",
   "metadata": {
    "ExecuteTime": {
     "end_time": "2023-09-06T20:15:21.836540Z",
     "start_time": "2023-09-06T20:15:21.831664Z"
    }
   },
   "outputs": [
    {
     "data": {
      "text/plain": [
       "10"
      ]
     },
     "execution_count": 193,
     "metadata": {},
     "output_type": "execute_result"
    }
   ],
   "source": [
    "# Get a FieldReference.\n",
    "c = ml.FieldReference(ml.FieldReference(10))\n",
    "c.get()"
   ]
  },
  {
   "cell_type": "code",
   "execution_count": 194,
   "id": "cf7592de",
   "metadata": {
    "ExecuteTime": {
     "end_time": "2023-09-06T20:15:22.501233Z",
     "start_time": "2023-09-06T20:15:22.495789Z"
    }
   },
   "outputs": [
    {
     "data": {
      "text/plain": [
       "4.0"
      ]
     },
     "execution_count": 194,
     "metadata": {},
     "output_type": "execute_result"
    }
   ],
   "source": [
    "# Computation with FieldReference.\n",
    "ref = ml.FieldReference(1.0)\n",
    "other = ml.FieldReference(3)\n",
    "ref_plus_other = ref + other\n",
    "ref_plus_other.get()"
   ]
  },
  {
   "cell_type": "code",
   "execution_count": 195,
   "id": "441658cb",
   "metadata": {
    "ExecuteTime": {
     "end_time": "2023-09-06T20:15:23.260148Z",
     "start_time": "2023-09-06T20:15:23.255544Z"
    }
   },
   "outputs": [
    {
     "data": {
      "text/plain": [
       "6.0"
      ]
     },
     "execution_count": 195,
     "metadata": {},
     "output_type": "execute_result"
    }
   ],
   "source": [
    "# Set a FieldReference.\n",
    "# Cannot set a value of other types.\n",
    "ref.set(2)\n",
    "other.set(4)\n",
    "ref_plus_other.get()"
   ]
  },
  {
   "cell_type": "code",
   "execution_count": 196,
   "id": "07c78dae",
   "metadata": {
    "ExecuteTime": {
     "end_time": "2023-09-06T20:15:23.821619Z",
     "start_time": "2023-09-06T20:15:23.814650Z"
    }
   },
   "outputs": [
    {
     "name": "stdout",
     "output_type": "stream",
     "text": [
      "a: 5\n",
      "b: 5\n",
      "\n"
     ]
    }
   ],
   "source": [
    "# Get one-way reference.\n",
    "# Changing `a` will change `b`.\n",
    "# For 2-way ref, use `get_ref()`.\n",
    "# More example on this below.\n",
    "cfg = {\"a\": 1, \"b\": 2}\n",
    "cfg = ml.ConfigDict(cfg)\n",
    "cfg.b = cfg.get_oneway_ref(\"a\")\n",
    "cfg.a = 5\n",
    "print(cfg)"
   ]
  },
  {
   "cell_type": "code",
   "execution_count": 197,
   "id": "ae300f09",
   "metadata": {
    "ExecuteTime": {
     "end_time": "2023-09-06T20:15:24.586066Z",
     "start_time": "2023-09-06T20:15:24.581479Z"
    }
   },
   "outputs": [
    {
     "name": "stdout",
     "output_type": "stream",
     "text": [
      "a: 5\n",
      "b: 6\n",
      "\n"
     ]
    }
   ],
   "source": [
    "# Changing `b` will not change `a`.\n",
    "cfg.b = 6\n",
    "print(cfg)"
   ]
  },
  {
   "cell_type": "markdown",
   "id": "11ed34b7",
   "metadata": {},
   "source": [
    "## Using Placeholders"
   ]
  },
  {
   "cell_type": "code",
   "execution_count": 198,
   "id": "2658ca5d",
   "metadata": {
    "ExecuteTime": {
     "end_time": "2023-09-06T20:15:26.031943Z",
     "start_time": "2023-09-06T20:15:26.022784Z"
    }
   },
   "outputs": [
    {
     "data": {
      "text/plain": [
       "nested:\n",
       "  reference_value: &id001 !!python/object:ml_collections.config_dict.config_dict.FieldReference\n",
       "    _field_type: !!python/name:builtins.int ''\n",
       "    _ops: []\n",
       "    _required: false\n",
       "    _value: 1\n",
       "optional: !!python/object:ml_collections.config_dict.config_dict.FieldReference\n",
       "  _field_type: !!python/name:builtins.str ''\n",
       "  _ops: []\n",
       "  _required: false\n",
       "  _value: hi\n",
       "reference_value: *id001"
      ]
     },
     "execution_count": 198,
     "metadata": {},
     "output_type": "execute_result"
    }
   ],
   "source": [
    "field_reference2 = ml.FieldReference(1)\n",
    "cfg_dict = {\n",
    "    \"reference_value\": field_reference2,\n",
    "    # We can also use `required_placeholder` to make the\n",
    "    # required to true.\n",
    "    \"optional\": ml.config_dict.placeholder(str, required=True),\n",
    "    \"nested\": {\"reference_value\": field_reference2},\n",
    "}\n",
    "cfg = ml.ConfigDict(cfg_dict)\n",
    "# Cannot access optional without setting a value as `required=True`.\n",
    "# Default is `required=False`.\n",
    "# Below example will raise an error.\n",
    "# cfg.optional\n",
    "cfg.optional = \"hi\"\n",
    "cfg"
   ]
  },
  {
   "cell_type": "code",
   "execution_count": 199,
   "id": "2be058e3",
   "metadata": {
    "ExecuteTime": {
     "end_time": "2023-09-06T20:15:27.305195Z",
     "start_time": "2023-09-06T20:15:27.297713Z"
    }
   },
   "outputs": [
    {
     "name": "stdout",
     "output_type": "stream",
     "text": [
      "nested:\n",
      "  reference_value: 1\n",
      "optional: hi\n",
      "reference_value: 1\n",
      "\n"
     ]
    }
   ],
   "source": [
    "print(cfg)"
   ]
  },
  {
   "cell_type": "code",
   "execution_count": 200,
   "id": "7b5c18c7",
   "metadata": {
    "ExecuteTime": {
     "end_time": "2023-09-06T20:15:28.135349Z",
     "start_time": "2023-09-06T20:15:28.128985Z"
    }
   },
   "outputs": [
    {
     "name": "stdout",
     "output_type": "stream",
     "text": [
      "nested:\n",
      "  reference_value: 3\n",
      "optional: hello\n",
      "reference_value: 3\n",
      "\n"
     ]
    }
   ],
   "source": [
    "# Raises Type error as this field is an str.\n",
    "# cfg.optional = 12\n",
    "cfg.optional = \"hello\"\n",
    "# Changes the value of both reference_value and nested.reference_value fields\n",
    "cfg.reference_value = 3\n",
    "print(cfg)"
   ]
  },
  {
   "cell_type": "markdown",
   "id": "7adf5f36",
   "metadata": {},
   "source": [
    "## Update"
   ]
  },
  {
   "cell_type": "code",
   "execution_count": 201,
   "id": "934d7344",
   "metadata": {
    "ExecuteTime": {
     "end_time": "2023-09-06T20:15:29.469476Z",
     "start_time": "2023-09-06T20:15:29.461176Z"
    }
   },
   "outputs": [
    {
     "name": "stdout",
     "output_type": "stream",
     "text": [
      "a: 3\n",
      "b: 3\n",
      "\n"
     ]
    }
   ],
   "source": [
    "# Update to/from FieldReference fields.\n",
    "# Cannot update a FieldReference from another FieldReference.\n",
    "# Since both of them pointing to the same reference, so value\n",
    "# update will happen at both places.\n",
    "ref = ml.FieldReference(1)\n",
    "first_dict = {\"a\": ref, \"b\": ref}\n",
    "cfg = ml.ConfigDict(first_dict)\n",
    "from_dict = {\"a\": 2, \"b\": 3}\n",
    "# Only `b` is valid.\n",
    "cfg.update(from_dict)\n",
    "print(cfg)"
   ]
  },
  {
   "cell_type": "code",
   "execution_count": 202,
   "id": "19e39e1f",
   "metadata": {
    "ExecuteTime": {
     "end_time": "2023-09-06T20:15:30.278633Z",
     "start_time": "2023-09-06T20:15:30.271632Z"
    }
   },
   "outputs": [
    {
     "data": {
      "text/plain": [
       "a: !!python/object:ml_collections.config_dict.config_dict.FieldReference\n",
       "  _field_type: &id001 !!python/name:builtins.int ''\n",
       "  _ops: []\n",
       "  _required: false\n",
       "  _value: 2\n",
       "b: !!python/object:ml_collections.config_dict.config_dict.FieldReference\n",
       "  _field_type: *id001\n",
       "  _ops: []\n",
       "  _required: false\n",
       "  _value: 3"
      ]
     },
     "execution_count": 202,
     "metadata": {},
     "output_type": "execute_result"
    }
   ],
   "source": [
    "ref = ml.FieldReference(1)\n",
    "ref2 = ml.FieldReference(12)\n",
    "first_dict = {\"a\": ref, \"b\": ref2}\n",
    "cfg = ml.ConfigDict(first_dict)\n",
    "from_dict = {\"a\": 2, \"b\": 3}\n",
    "cfg.update(from_dict)\n",
    "cfg"
   ]
  },
  {
   "cell_type": "markdown",
   "id": "e529a181",
   "metadata": {},
   "source": [
    "## Lazy Computations"
   ]
  },
  {
   "cell_type": "code",
   "execution_count": 203,
   "id": "a863bc22",
   "metadata": {
    "ExecuteTime": {
     "end_time": "2023-09-06T20:15:31.622045Z",
     "start_time": "2023-09-06T20:15:31.617272Z"
    }
   },
   "outputs": [
    {
     "name": "stdout",
     "output_type": "stream",
     "text": [
      "Non Lazy - 2\n",
      "Lazy - 5\n"
     ]
    }
   ],
   "source": [
    "# Lazy computation on `FieldReference`.\n",
    "ref = ml.FieldReference(1)\n",
    "non_lazy = ref.get() + 1\n",
    "# Operations with FieldReference will return another FieldReference\n",
    "# that points to the original's value.\n",
    "lazy = ref + 1\n",
    "ref.set(4)\n",
    "print(f\"Non Lazy - {non_lazy}\")\n",
    "print(f\"Lazy - {lazy.get()}\")"
   ]
  },
  {
   "cell_type": "code",
   "execution_count": 204,
   "id": "1675d4d9",
   "metadata": {
    "ExecuteTime": {
     "end_time": "2023-09-06T20:15:32.274824Z",
     "start_time": "2023-09-06T20:15:32.268150Z"
    }
   },
   "outputs": [
    {
     "name": "stdout",
     "output_type": "stream",
     "text": [
      "a: 2\n",
      "b: 12\n",
      "c: 22\n",
      "\n"
     ]
    }
   ],
   "source": [
    "# Lazy Computaiton on `ConfigDict`.\n",
    "# `get_ref()` returns a FieldReference initialized on key's value.\n",
    "config = {\"a\": 1, \"b\": 0}\n",
    "config = ml.ConfigDict(config)\n",
    "# Newly defined value of `a` will be used as it will perform lazy\n",
    "# computation when used with `get_ref()`.\n",
    "config.b = config.get_ref(\"a\") + 10\n",
    "config.a = 2\n",
    "config.c = config.get_ref(\"b\") + 10\n",
    "print(config)"
   ]
  },
  {
   "cell_type": "markdown",
   "id": "77533430",
   "metadata": {},
   "source": [
    "## Cycles in `ReferenceFields`\n",
    "\n",
    "- Cannot have cycles in reference fields."
   ]
  },
  {
   "cell_type": "code",
   "execution_count": 205,
   "id": "c1dff8bf",
   "metadata": {
    "ExecuteTime": {
     "end_time": "2023-09-06T20:15:34.060010Z",
     "start_time": "2023-09-06T20:15:34.000738Z"
    },
    "scrolled": false
   },
   "outputs": [
    {
     "ename": "MutabilityError",
     "evalue": "Found cycle in reference graph.",
     "output_type": "error",
     "traceback": [
      "\u001b[0;31m---------------------------------------------------------------------------\u001b[0m",
      "\u001b[0;31mMutabilityError\u001b[0m                           Traceback (most recent call last)",
      "Cell \u001b[0;32mIn[205], line 5\u001b[0m\n\u001b[1;32m      3\u001b[0m config\u001b[38;5;241m.\u001b[39mb \u001b[38;5;241m=\u001b[39m config\u001b[38;5;241m.\u001b[39mget_ref(\u001b[38;5;124m'\u001b[39m\u001b[38;5;124ma\u001b[39m\u001b[38;5;124m'\u001b[39m) \u001b[38;5;241m+\u001b[39m \u001b[38;5;241m10\u001b[39m\n\u001b[1;32m      4\u001b[0m \u001b[38;5;66;03m# This will raise `MutabilityError`.\u001b[39;00m\n\u001b[0;32m----> 5\u001b[0m \u001b[43mconfig\u001b[49m\u001b[38;5;241;43m.\u001b[39;49m\u001b[43ma\u001b[49m \u001b[38;5;241m=\u001b[39m config\u001b[38;5;241m.\u001b[39mget_ref(\u001b[38;5;124m'\u001b[39m\u001b[38;5;124mb\u001b[39m\u001b[38;5;124m'\u001b[39m) \u001b[38;5;241m+\u001b[39m \u001b[38;5;241m2\u001b[39m\n",
      "File \u001b[0;32m/venv/lib/python3.8/site-packages/ml_collections/config_dict/config_dict.py:814\u001b[0m, in \u001b[0;36mConfigDict.__setattr__\u001b[0;34m(self, attribute, value)\u001b[0m\n\u001b[1;32m    812\u001b[0m \u001b[38;5;28;01mtry\u001b[39;00m:\n\u001b[1;32m    813\u001b[0m   \u001b[38;5;28mself\u001b[39m\u001b[38;5;241m.\u001b[39m_ensure_mutability(attribute)\n\u001b[0;32m--> 814\u001b[0m   \u001b[38;5;28;43mself\u001b[39;49m\u001b[43m[\u001b[49m\u001b[43mattribute\u001b[49m\u001b[43m]\u001b[49m \u001b[38;5;241m=\u001b[39m value\n\u001b[1;32m    815\u001b[0m \u001b[38;5;28;01mexcept\u001b[39;00m \u001b[38;5;167;01mKeyError\u001b[39;00m \u001b[38;5;28;01mas\u001b[39;00m e:\n\u001b[1;32m    816\u001b[0m   \u001b[38;5;28;01mraise\u001b[39;00m \u001b[38;5;167;01mAttributeError\u001b[39;00m(e)\n",
      "File \u001b[0;32m/venv/lib/python3.8/site-packages/ml_collections/config_dict/config_dict.py:846\u001b[0m, in \u001b[0;36mConfigDict.__setitem__\u001b[0;34m(self, key, value)\u001b[0m\n\u001b[1;32m    844\u001b[0m \u001b[38;5;28;01mtry\u001b[39;00m:\n\u001b[1;32m    845\u001b[0m   \u001b[38;5;28;01mif\u001b[39;00m \u001b[38;5;28misinstance\u001b[39m(field, FieldReference):\n\u001b[0;32m--> 846\u001b[0m     \u001b[43mfield\u001b[49m\u001b[38;5;241;43m.\u001b[39;49m\u001b[43mset\u001b[49m\u001b[43m(\u001b[49m\u001b[43mvalue\u001b[49m\u001b[43m,\u001b[49m\u001b[43m \u001b[49m\u001b[38;5;28;43mself\u001b[39;49m\u001b[38;5;241;43m.\u001b[39;49m\u001b[43m_type_safe\u001b[49m\u001b[43m)\u001b[49m\n\u001b[1;32m    847\u001b[0m     \u001b[38;5;28;01mreturn\u001b[39;00m\n\u001b[1;32m    848\u001b[0m   \u001b[38;5;66;03m# Skip type checking if the value is a FieldReference of the same type.\u001b[39;00m\n",
      "File \u001b[0;32m/venv/lib/python3.8/site-packages/ml_collections/config_dict/config_dict.py:311\u001b[0m, in \u001b[0;36mFieldReference.set\u001b[0;34m(self, value, type_safe)\u001b[0m\n\u001b[1;32m    309\u001b[0m   \u001b[38;5;28;01mif\u001b[39;00m \u001b[38;5;28mself\u001b[39m\u001b[38;5;241m.\u001b[39mhas_cycle():\n\u001b[1;32m    310\u001b[0m     \u001b[38;5;28mself\u001b[39m\u001b[38;5;241m.\u001b[39m_value \u001b[38;5;241m=\u001b[39m old_value\n\u001b[0;32m--> 311\u001b[0m     \u001b[38;5;28;01mraise\u001b[39;00m MutabilityError(\u001b[38;5;124m'\u001b[39m\u001b[38;5;124mFound cycle in reference graph.\u001b[39m\u001b[38;5;124m'\u001b[39m)\n\u001b[1;32m    312\u001b[0m \u001b[38;5;28;01melse\u001b[39;00m:\n\u001b[1;32m    313\u001b[0m   \u001b[38;5;66;03m# TODO(sergomez): Update reference type.\u001b[39;00m\n\u001b[1;32m    314\u001b[0m   \u001b[38;5;28mself\u001b[39m\u001b[38;5;241m.\u001b[39m_value \u001b[38;5;241m=\u001b[39m _safe_cast(value, \u001b[38;5;28mself\u001b[39m\u001b[38;5;241m.\u001b[39m_field_type, type_safe)\n",
      "\u001b[0;31mMutabilityError\u001b[0m: Found cycle in reference graph."
     ]
    }
   ],
   "source": [
    "config = ml.ConfigDict()\n",
    "config.a = 1\n",
    "config.b = config.get_ref(\"a\") + 10\n",
    "# This will raise `MutabilityError`.\n",
    "config.a = config.get_ref(\"b\") + 2"
   ]
  },
  {
   "cell_type": "markdown",
   "id": "325eae8e",
   "metadata": {},
   "source": [
    "## Resolve References"
   ]
  },
  {
   "cell_type": "code",
   "execution_count": 206,
   "id": "f5b36c99",
   "metadata": {
    "ExecuteTime": {
     "end_time": "2023-09-06T20:15:36.819907Z",
     "start_time": "2023-09-06T20:15:36.809767Z"
    }
   },
   "outputs": [
    {
     "data": {
      "text/plain": [
       "dict:\n",
       "  cfg:\n",
       "    int_field: &id002 !!python/object:ml_collections.config_dict.config_dict.FieldReference\n",
       "      _field_type: &id003 !!python/name:builtins.int ''\n",
       "      _ops: []\n",
       "      _required: false\n",
       "      _value: 5\n",
       "    integer: 1\n",
       "  field_ref1: &id001 !!python/object:ml_collections.config_dict.config_dict.FieldReference\n",
       "    _field_type: &id004 !!python/name:builtins.str ''\n",
       "    _ops: []\n",
       "    _required: false\n",
       "    _value: a string\n",
       "  field_ref2: *id001\n",
       "  field_ref_int1: *id002\n",
       "  field_ref_int2: !!python/object:ml_collections.config_dict.config_dict.FieldReference\n",
       "    _field_type: *id003\n",
       "    _ops: []\n",
       "    _required: false\n",
       "    _value: 10\n",
       "  float: 2.3\n",
       "  placeholder: !!python/object:ml_collections.config_dict.config_dict.FieldReference\n",
       "    _field_type: *id004\n",
       "    _ops: []\n",
       "    _required: false\n",
       "    _value: null"
      ]
     },
     "execution_count": 206,
     "metadata": {},
     "output_type": "execute_result"
    }
   ],
   "source": [
    "# Create a config with references.\n",
    "field = ml.FieldReference(\"a string\")\n",
    "int_field = ml.FieldReference(5)\n",
    "cfg = {\n",
    "    \"dict\": {\n",
    "        \"float\": 2.3,\n",
    "        \"field_ref1\": field,\n",
    "        \"field_ref2\": field,\n",
    "        \"field_ref_int1\": int_field,\n",
    "        \"field_ref_int2\": int_field + 5,\n",
    "        \"placeholder\": ml.config_dict.placeholder(str),\n",
    "        \"cfg\": ml.ConfigDict({\"integer\": 1, \"int_field\": int_field}),\n",
    "    }\n",
    "}\n",
    "cfg = ml.ConfigDict(cfg)\n",
    "cfg"
   ]
  },
  {
   "cell_type": "code",
   "execution_count": 207,
   "id": "8508d074",
   "metadata": {
    "ExecuteTime": {
     "end_time": "2023-09-06T20:15:37.514855Z",
     "start_time": "2023-09-06T20:15:37.504389Z"
    }
   },
   "outputs": [
    {
     "data": {
      "text/plain": [
       "dict:\n",
       "  cfg:\n",
       "    int_field: 5\n",
       "    integer: 1\n",
       "  field_ref1: a string\n",
       "  field_ref2: a string\n",
       "  field_ref_int1: 5\n",
       "  field_ref_int2: 10\n",
       "  float: 2.3\n",
       "  placeholder: null"
      ]
     },
     "execution_count": 207,
     "metadata": {},
     "output_type": "execute_result"
    }
   ],
   "source": [
    "# Returns a ConfigDict copy with FieldReferences replaced by values.\n",
    "cfg_resolved = cfg.copy_and_resolve_references()\n",
    "cfg_resolved"
   ]
  },
  {
   "cell_type": "markdown",
   "id": "0fd8897e",
   "metadata": {
    "lines_to_next_cell": 2
   },
   "source": [
    "# `FrozenConfigDict()`\n",
    "\n",
    "- Immutable and hashable type of ConfigDict\n",
    "\n",
    "- `FrozenConfigDict` is fully immutable. It contains no lists or sets (at\n",
    "  initialization, lists and sets are converted to tuples and frozensets).\n",
    "\n",
    "- The only potential sources of mutability are attributes with custom types, which\n",
    "  are not touched.\n",
    "\n",
    "- It is recommended to convert a `ConfigDict` to `FrozenConfigDict` after\n",
    "  construction if possible\n",
    "\n",
    "- `FrozenConfig` can be converted to different form such as `json`, `dict`. See example under `ConfigDict` section.\n",
    "- Args:\n",
    "    - initial_dictionary: May be one of the following:\n",
    "        - `dict`: In this case all values of initial_dictionary that are\n",
    "        dictionaries are also converted to FrozenConfigDict. If there are\n",
    "        dictionaries contained in lists or tuples, an error is raised.\n",
    "\n",
    "        - `ConfigDict`: In this case all ConfigDict attributes are also\n",
    "        converted to FrozenConfigDict.\n",
    "\n",
    "        - `FrozenConfigDict`: In this case all attributes are uncopied, and\n",
    "        only the top-level object (self) is re-addressed.\n",
    "    - `type_safe`: See ConfigDict documentation. Note that this only matters\n",
    "          if the FrozenConfigDict is converted to ConfigDict at some point."
   ]
  },
  {
   "cell_type": "code",
   "execution_count": 209,
   "id": "7a2d03c5",
   "metadata": {
    "ExecuteTime": {
     "end_time": "2023-09-06T20:16:18.625594Z",
     "start_time": "2023-09-06T20:16:18.619946Z"
    }
   },
   "outputs": [
    {
     "name": "stdout",
     "output_type": "stream",
     "text": [
      "meta:\n",
      "  id_col: asset_id\n",
      "  use_historical: true\n",
      "ohlcv_market_data:\n",
      "  mode: trade\n",
      "  universe:\n",
      "    test_asset_id: 1467591036\n",
      "    universe_version: v7.1\n",
      "  vendor: CCXT\n",
      "system_log_dir: /shared_data/CMTask5198_log_dir_1\n",
      " \n",
      "\n",
      "<class 'ml_collections.config_dict.config_dict.ConfigDict'>\n"
     ]
    }
   ],
   "source": [
    "config = {\n",
    "    \"meta\": {\"id_col\": \"asset_id\", \"use_historical\": True},\n",
    "    \"system_log_dir\": \"/shared_data/CMTask5198_log_dir_1\",\n",
    "    \"ohlcv_market_data\": {\n",
    "        \"vendor\": \"CCXT\",\n",
    "        \"mode\": \"trade\",\n",
    "        \"universe\": {\n",
    "            \"universe_version\": \"v7.1\",\n",
    "            \"test_asset_id\": 1467591036,\n",
    "        },\n",
    "    },\n",
    "}\n",
    "# `ConfigDict` class:\n",
    "#  https://github.com/google/ml_collections/blob/master/ml_collections/config_dict/config_dict.py#L575\n",
    "config = ml.ConfigDict(config)\n",
    "print(config, \"\\n\")\n",
    "print(type(config))"
   ]
  },
  {
   "cell_type": "code",
   "execution_count": 210,
   "id": "9540028d",
   "metadata": {
    "ExecuteTime": {
     "end_time": "2023-09-06T20:16:19.915518Z",
     "start_time": "2023-09-06T20:16:19.910052Z"
    }
   },
   "outputs": [
    {
     "name": "stdout",
     "output_type": "stream",
     "text": [
      "meta:\n",
      "  id_col: asset_id\n",
      "  use_historical: true\n",
      "ohlcv_market_data:\n",
      "  mode: trade\n",
      "  universe:\n",
      "    test_asset_id: 1467591036\n",
      "    universe_version: v7.1\n",
      "  vendor: CCXT\n",
      "system_log_dir: /shared_data/CMTask5198_log_dir_1\n",
      " \n",
      "\n",
      "<class 'ml_collections.config_dict.config_dict.FrozenConfigDict'>\n"
     ]
    }
   ],
   "source": [
    "# Converting `ConfigDict` to `FrozenConfigDict` as recommended.\n",
    "frozen_config = ml.FrozenConfigDict(config)\n",
    "print(frozen_config, \"\\n\")\n",
    "print(type(frozen_config))"
   ]
  },
  {
   "cell_type": "code",
   "execution_count": 211,
   "id": "6ee197ef",
   "metadata": {
    "ExecuteTime": {
     "end_time": "2023-09-06T20:16:20.826363Z",
     "start_time": "2023-09-06T20:16:20.823206Z"
    }
   },
   "outputs": [],
   "source": [
    "# TAttempt on updating a `FrozenConfig` value(s) should raise an\n",
    "# AttributeError exception.\n",
    "# Should raise an exception. See an example below.\n",
    "# frozen_config['bar_duration'] = '6T'\n",
    "# frozen_config['new'] = 'new'"
   ]
  },
  {
   "cell_type": "code",
   "execution_count": 212,
   "id": "4c7bbda6",
   "metadata": {
    "ExecuteTime": {
     "end_time": "2023-09-06T20:16:22.284595Z",
     "start_time": "2023-09-06T20:16:22.278883Z"
    }
   },
   "outputs": [
    {
     "name": "stdout",
     "output_type": "stream",
     "text": [
      "Type of normal config = <class 'ml_collections.config_dict.config_dict.ConfigDict'>\n",
      "bar_duration: 6T\n",
      "meta:\n",
      "  id_col: asset_id\n",
      "  use_historical: true\n",
      "ohlcv_market_data:\n",
      "  mode: trade\n",
      "  universe:\n",
      "    test_asset_id: 1467591036\n",
      "    universe_version: v7.1\n",
      "  vendor: CCXT\n",
      "system_log_dir: /shared_data/CMTask5198_log_dir_1\n",
      "\n"
     ]
    }
   ],
   "source": [
    "# If we need to update a `FrozenConfigDict` at some point, we can:\n",
    "#   - convert it to a `ConfigDict`\n",
    "#   - update existing value(s)\n",
    "#   - convert it back to the `FrozenConfigDict`\n",
    "normal_config = frozen_config.as_configdict()\n",
    "print(f\"Type of normal config = {type(normal_config)}\")\n",
    "normal_config[\"bar_duration\"] = \"6T\"\n",
    "frozen_config2 = ml.FrozenConfigDict(normal_config)\n",
    "print(frozen_config2)"
   ]
  },
  {
   "cell_type": "code",
   "execution_count": 213,
   "id": "136df12a",
   "metadata": {
    "ExecuteTime": {
     "end_time": "2023-09-06T20:16:23.257694Z",
     "start_time": "2023-09-06T20:16:23.251995Z"
    }
   },
   "outputs": [
    {
     "data": {
      "text/plain": [
       "hello: val\n",
       "meta:\n",
       "  id_col: asset_id\n",
       "  use_historical: true\n",
       "ohlcv_market_data:\n",
       "  mode: trade\n",
       "  universe:\n",
       "    test_asset_id: 1467591036\n",
       "    universe_version: v7.1\n",
       "  vendor: CCXT\n",
       "system_log_dir: /shared_data/CMTask5198_log_dir_1"
      ]
     },
     "execution_count": 213,
     "metadata": {},
     "output_type": "execute_result"
    }
   ],
   "source": [
    "# Set a new key to the `FrozenConfig` dict.\n",
    "frozen_config._frozen_setattr(\"hello\", \"val\")\n",
    "frozen_config"
   ]
  }
 ],
 "metadata": {
  "kernelspec": {
   "display_name": "Python 3 (ipykernel)",
   "language": "python",
   "name": "python3"
  },
  "language_info": {
   "codemirror_mode": {
    "name": "ipython",
    "version": 3
   },
   "file_extension": ".py",
   "mimetype": "text/x-python",
   "name": "python",
   "nbconvert_exporter": "python",
   "pygments_lexer": "ipython3",
   "version": "3.8.10"
  },
  "toc": {
   "base_numbering": 1,
   "nav_menu": {},
   "number_sections": true,
   "sideBar": true,
   "skip_h1_title": false,
   "title_cell": "Table of Contents",
   "title_sidebar": "Contents",
   "toc_cell": false,
   "toc_position": {},
   "toc_section_display": true,
   "toc_window_display": false
  }
 },
 "nbformat": 4,
 "nbformat_minor": 5
}
