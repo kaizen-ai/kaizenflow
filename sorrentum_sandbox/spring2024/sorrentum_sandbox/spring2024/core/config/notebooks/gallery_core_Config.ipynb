{
 "cells": [
  {
   "cell_type": "markdown",
   "id": "4b48add2",
   "metadata": {},
   "source": [
    "# Description\n",
    "\n",
    "This notebook shows the various functionality of our internal config"
   ]
  },
  {
   "cell_type": "markdown",
   "id": "c8f1f628",
   "metadata": {},
   "source": [
    "# Imports"
   ]
  },
  {
   "cell_type": "code",
   "execution_count": 16,
   "id": "fb53ab01",
   "metadata": {
    "ExecuteTime": {
     "end_time": "2023-09-06T20:14:04.599102Z",
     "start_time": "2023-09-06T20:14:04.595886Z"
    }
   },
   "outputs": [],
   "source": [
    "import core.config as cconfig"
   ]
  },
  {
   "cell_type": "markdown",
   "id": "86f01fef",
   "metadata": {},
   "source": [
    "# Initialization\n",
    "\n",
    "- The default config modes are\n",
    "    - `update_mode` = \"assert_on_overwrite\"\n",
    "        - We can add new keys to the config regardless of the update mode.\n",
    "\n",
    "    - `clobber_mode` = \"assert_on_write_after_use\"\n",
    "\n",
    "    - `report_mode` = \"verbose_log_error\"\n",
    "\n",
    "    - `unused_variables_mode` = \"warning_on_error\","
   ]
  },
  {
   "cell_type": "code",
   "execution_count": 17,
   "id": "5314c939",
   "metadata": {
    "ExecuteTime": {
     "end_time": "2023-09-06T20:14:06.381737Z",
     "start_time": "2023-09-06T20:14:06.370740Z"
    }
   },
   "outputs": [
    {
     "name": "stdout",
     "output_type": "stream",
     "text": [
      "meta: \n",
      "  id_col: asset_id\n",
      "  use_historical: True\n",
      "system_log_dir: /shared_data/CMTask5198_log_dir_1\n",
      "ohlcv_market_data: \n",
      "  vendor: CCXT\n",
      "  mode: trade\n",
      "  universe: \n",
      "    universe_version: v7.1\n",
      "    test_asset_id: 1467591036\n"
     ]
    }
   ],
   "source": [
    "system_log_dir = \"/shared_data/CMTask5198_log_dir_1\"\n",
    "id_col = \"asset_id\"\n",
    "universe_version = \"v7.1\"\n",
    "vendor = \"CCXT\"\n",
    "mode = \"trade\"\n",
    "test_asset_id = 1467591036\n",
    "bar_duration = \"5T\"\n",
    "expected_num_child_orders = [0, 5]\n",
    "use_historical = True\n",
    "config_dict = {\n",
    "    \"meta\": {\"id_col\": id_col, \"use_historical\": use_historical},\n",
    "    \"system_log_dir\": system_log_dir,\n",
    "    \"ohlcv_market_data\": {\n",
    "        \"vendor\": vendor,\n",
    "        \"mode\": mode,\n",
    "        \"universe\": {\n",
    "            \"universe_version\": universe_version,\n",
    "            \"test_asset_id\": test_asset_id,\n",
    "        },\n",
    "    },\n",
    "}\n",
    "config = cconfig.Config.from_dict(config_dict)\n",
    "print(config)"
   ]
  },
  {
   "cell_type": "code",
   "execution_count": 18,
   "id": "7ea5172e",
   "metadata": {
    "ExecuteTime": {
     "end_time": "2023-09-06T20:14:07.369308Z",
     "start_time": "2023-09-06T20:14:07.363328Z"
    }
   },
   "outputs": [
    {
     "data": {
      "text/plain": [
       "OrderedDict([('meta',\n",
       "              OrderedDict([('id_col', 'asset_id'), ('use_historical', True)])),\n",
       "             ('system_log_dir', '/shared_data/CMTask5198_log_dir_1'),\n",
       "             ('ohlcv_market_data',\n",
       "              OrderedDict([('vendor', 'CCXT'),\n",
       "                           ('mode', 'trade'),\n",
       "                           ('universe',\n",
       "                            OrderedDict([('universe_version', 'v7.1'),\n",
       "                                         ('test_asset_id', 1467591036)]))]))])"
      ]
     },
     "execution_count": 18,
     "metadata": {},
     "output_type": "execute_result"
    }
   ],
   "source": [
    "# Converting a config to a dict.\n",
    "dict1 = config.to_dict()\n",
    "dict1"
   ]
  },
  {
   "cell_type": "code",
   "execution_count": 19,
   "id": "2106168a",
   "metadata": {
    "ExecuteTime": {
     "end_time": "2023-09-06T20:14:08.322924Z",
     "start_time": "2023-09-06T20:14:08.315603Z"
    }
   },
   "outputs": [
    {
     "name": "stdout",
     "output_type": "stream",
     "text": [
      "meta: \n",
      "  id_col: asset_id\n",
      "  use_historical: True\n",
      "system_log_dir: /shared_data/CMTask5198_log_dir_1\n",
      "ohlcv_market_data: \n",
      "  vendor: CCXT\n",
      "  mode: trade\n",
      "  universe: \n",
      "    universe_version: v7.1\n",
      "    test_asset_id: 1467591036\n"
     ]
    }
   ],
   "source": [
    "# Create a config from a flattened dict.\n",
    "config = cconfig.Config._get_config_from_flattened_dict(dict1)\n",
    "print(config)"
   ]
  },
  {
   "cell_type": "markdown",
   "id": "1a2a68c7",
   "metadata": {},
   "source": [
    "# Get and Set values"
   ]
  },
  {
   "cell_type": "code",
   "execution_count": 20,
   "id": "b5c9f59c",
   "metadata": {
    "ExecuteTime": {
     "end_time": "2023-09-06T20:14:11.303223Z",
     "start_time": "2023-09-06T20:14:11.299142Z"
    }
   },
   "outputs": [
    {
     "name": "stdout",
     "output_type": "stream",
     "text": [
      "id_col -  asset_id\n",
      "vendor -  CCXT\n"
     ]
    }
   ],
   "source": [
    "# Chain Accessing.\n",
    "print(\"id_col - \", config[\"meta\", \"id_col\"])\n",
    "# Nested Accessing.\n",
    "print(\"vendor - \", config[\"ohlcv_market_data\"][\"vendor\"])"
   ]
  },
  {
   "cell_type": "code",
   "execution_count": 21,
   "id": "9e5c0e0b",
   "metadata": {
    "ExecuteTime": {
     "end_time": "2023-09-06T20:14:12.226842Z",
     "start_time": "2023-09-06T20:14:12.219642Z"
    }
   },
   "outputs": [
    {
     "data": {
      "text/plain": [
       "'/shared_data/CMTask5198_log_dir_1'"
      ]
     },
     "execution_count": 21,
     "metadata": {},
     "output_type": "execute_result"
    }
   ],
   "source": [
    "# Access a exsisting key to check a default value is not returned.\n",
    "config.get(\"system_log_dir\", \"default_value\")"
   ]
  },
  {
   "cell_type": "code",
   "execution_count": 22,
   "id": "cec8f298",
   "metadata": {
    "ExecuteTime": {
     "end_time": "2023-09-06T20:14:13.205061Z",
     "start_time": "2023-09-06T20:14:13.138517Z"
    }
   },
   "outputs": [
    {
     "ename": "AssertionError",
     "evalue": "\n################################################################################\n* Failed assertion *\nInstance of '/shared_data/CMTask5198_log_dir_1' is '<class 'str'>' instead of '<class 'int'>'\n################################################################################\n",
     "output_type": "error",
     "traceback": [
      "\u001b[0;31m---------------------------------------------------------------------------\u001b[0m",
      "\u001b[0;31mAssertionError\u001b[0m                            Traceback (most recent call last)",
      "Cell \u001b[0;32mIn[22], line 4\u001b[0m\n\u001b[1;32m      1\u001b[0m \u001b[38;5;66;03m# Access a exsisting key to check a default value is not returned\u001b[39;00m\n\u001b[1;32m      2\u001b[0m \u001b[38;5;66;03m# but the type is checked. Should raise an exception because\u001b[39;00m\n\u001b[1;32m      3\u001b[0m \u001b[38;5;66;03m# `system_log_dir` is of the type `str`.\u001b[39;00m\n\u001b[0;32m----> 4\u001b[0m \u001b[43mconfig\u001b[49m\u001b[38;5;241;43m.\u001b[39;49m\u001b[43mget\u001b[49m\u001b[43m(\u001b[49m\u001b[38;5;124;43m\"\u001b[39;49m\u001b[38;5;124;43msystem_log_dir\u001b[39;49m\u001b[38;5;124;43m\"\u001b[39;49m\u001b[43m,\u001b[49m\u001b[43m \u001b[49m\u001b[38;5;124;43m\"\u001b[39;49m\u001b[38;5;124;43mdefault_value\u001b[39;49m\u001b[38;5;124;43m\"\u001b[39;49m\u001b[43m,\u001b[49m\u001b[43m \u001b[49m\u001b[38;5;28;43mint\u001b[39;49m\u001b[43m)\u001b[49m\n",
      "File \u001b[0;32m/app/amp/core/config/config_.py:873\u001b[0m, in \u001b[0;36mConfig.get\u001b[0;34m(self, key, default_value, expected_type, report_mode)\u001b[0m\n\u001b[1;32m    871\u001b[0m         \u001b[38;5;28;01mraise\u001b[39;00m e\n\u001b[1;32m    872\u001b[0m \u001b[38;5;28;01mif\u001b[39;00m expected_type \u001b[38;5;241m!=\u001b[39m _NO_VALUE_SPECIFIED:\n\u001b[0;32m--> 873\u001b[0m     \u001b[43mhdbg\u001b[49m\u001b[38;5;241;43m.\u001b[39;49m\u001b[43mdassert_isinstance\u001b[49m\u001b[43m(\u001b[49m\u001b[43mret\u001b[49m\u001b[43m,\u001b[49m\u001b[43m \u001b[49m\u001b[43mexpected_type\u001b[49m\u001b[43m)\u001b[49m\n\u001b[1;32m    874\u001b[0m \u001b[38;5;28;01mreturn\u001b[39;00m ret\n",
      "File \u001b[0;32m/app/amp/helpers/hdbg.py:400\u001b[0m, in \u001b[0;36mdassert_isinstance\u001b[0;34m(val1, val2, msg, only_warning, *args)\u001b[0m\n\u001b[1;32m    398\u001b[0m \u001b[38;5;28;01mif\u001b[39;00m \u001b[38;5;129;01mnot\u001b[39;00m cond:\n\u001b[1;32m    399\u001b[0m     txt \u001b[38;5;241m=\u001b[39m \u001b[38;5;124mf\u001b[39m\u001b[38;5;124m\"\u001b[39m\u001b[38;5;124mInstance of \u001b[39m\u001b[38;5;124m'\u001b[39m\u001b[38;5;132;01m{\u001b[39;00mval1\u001b[38;5;132;01m}\u001b[39;00m\u001b[38;5;124m'\u001b[39m\u001b[38;5;124m is \u001b[39m\u001b[38;5;124m'\u001b[39m\u001b[38;5;132;01m{\u001b[39;00m\u001b[38;5;28mtype\u001b[39m(val1)\u001b[38;5;132;01m}\u001b[39;00m\u001b[38;5;124m'\u001b[39m\u001b[38;5;124m instead of \u001b[39m\u001b[38;5;124m'\u001b[39m\u001b[38;5;132;01m{\u001b[39;00mval2\u001b[38;5;132;01m}\u001b[39;00m\u001b[38;5;124m'\u001b[39m\u001b[38;5;124m\"\u001b[39m\n\u001b[0;32m--> 400\u001b[0m     \u001b[43m_dfatal\u001b[49m\u001b[43m(\u001b[49m\u001b[43mtxt\u001b[49m\u001b[43m,\u001b[49m\u001b[43m \u001b[49m\u001b[43mmsg\u001b[49m\u001b[43m,\u001b[49m\u001b[43m \u001b[49m\u001b[38;5;241;43m*\u001b[39;49m\u001b[43margs\u001b[49m\u001b[43m,\u001b[49m\u001b[43m \u001b[49m\u001b[43monly_warning\u001b[49m\u001b[38;5;241;43m=\u001b[39;49m\u001b[43monly_warning\u001b[49m\u001b[43m)\u001b[49m\n",
      "File \u001b[0;32m/app/amp/helpers/hdbg.py:142\u001b[0m, in \u001b[0;36m_dfatal\u001b[0;34m(txt, msg, only_warning, *args)\u001b[0m\n\u001b[1;32m    139\u001b[0m     _LOG\u001b[38;5;241m.\u001b[39mwarning(dfatal_txt)\n\u001b[1;32m    140\u001b[0m \u001b[38;5;28;01melse\u001b[39;00m:\n\u001b[1;32m    141\u001b[0m     \u001b[38;5;66;03m# Abort.\u001b[39;00m\n\u001b[0;32m--> 142\u001b[0m     \u001b[43mdfatal\u001b[49m\u001b[43m(\u001b[49m\u001b[43mdfatal_txt\u001b[49m\u001b[43m)\u001b[49m\n",
      "File \u001b[0;32m/app/amp/helpers/hdbg.py:71\u001b[0m, in \u001b[0;36mdfatal\u001b[0;34m(message, assertion_type)\u001b[0m\n\u001b[1;32m     69\u001b[0m \u001b[38;5;28;01mif\u001b[39;00m assertion_type \u001b[38;5;129;01mis\u001b[39;00m \u001b[38;5;28;01mNone\u001b[39;00m:\n\u001b[1;32m     70\u001b[0m     assertion_type \u001b[38;5;241m=\u001b[39m \u001b[38;5;167;01mAssertionError\u001b[39;00m\n\u001b[0;32m---> 71\u001b[0m \u001b[38;5;28;01mraise\u001b[39;00m assertion_type(ret)\n",
      "\u001b[0;31mAssertionError\u001b[0m: \n################################################################################\n* Failed assertion *\nInstance of '/shared_data/CMTask5198_log_dir_1' is '<class 'str'>' instead of '<class 'int'>'\n################################################################################\n"
     ]
    }
   ],
   "source": [
    "# Access a exsisting key to check a default value is not returned\n",
    "# but the type is checked. Should raise an exception because\n",
    "# `system_log_dir` is of the type `str`.\n",
    "config.get(\"system_log_dir\", \"default_value\", int)"
   ]
  },
  {
   "cell_type": "code",
   "execution_count": 23,
   "id": "ecd9562c",
   "metadata": {
    "ExecuteTime": {
     "end_time": "2023-09-06T20:14:14.434368Z",
     "start_time": "2023-09-06T20:14:14.428786Z"
    }
   },
   "outputs": [
    {
     "name": "stdout",
     "output_type": "stream",
     "text": [
      "meta: \n",
      "  id_col: asset_id\n",
      "  use_historical: True\n",
      "system_log_dir: /shared_data/CMTask5198_log_dir_1\n",
      "ohlcv_market_data: \n",
      "  vendor: CCXT\n",
      "  mode: trade\n",
      "  universe: \n",
      "    universe_version: v7.1\n",
      "    test_asset_id: 1467591036\n",
      "bar_duration: 5T\n"
     ]
    }
   ],
   "source": [
    "#  Set a key that doesn't exist.\n",
    "config[\"bar_duration\"] = \"5T\"\n",
    "print(config)"
   ]
  },
  {
   "cell_type": "code",
   "execution_count": 24,
   "id": "a0a94e90",
   "metadata": {
    "ExecuteTime": {
     "end_time": "2023-09-06T20:14:15.598508Z",
     "start_time": "2023-09-06T20:14:15.593302Z"
    },
    "run_control": {
     "marked": true
    }
   },
   "outputs": [
    {
     "name": "stdout",
     "output_type": "stream",
     "text": [
      "meta: \n",
      "  id_col: asset_id\n",
      "  use_historical: True\n",
      "system_log_dir: /shared_data/CMTask5198_log_dir_1\n",
      "ohlcv_market_data: \n",
      "  vendor: CCXT\n",
      "  mode: trade\n",
      "  universe: \n",
      "    universe_version: v7.1\n",
      "    test_asset_id: 1467591036\n",
      "bar_duration: 6T\n"
     ]
    }
   ],
   "source": [
    "# Set a key that already exists.\n",
    "# Need to update the mode of config to `overwrite`\n",
    "config.update_mode = \"overwrite\"\n",
    "config[\"bar_duration\"] = \"6T\"\n",
    "print(config)"
   ]
  },
  {
   "cell_type": "markdown",
   "id": "124fddd0",
   "metadata": {},
   "source": [
    "# Update"
   ]
  },
  {
   "cell_type": "code",
   "execution_count": 56,
   "id": "6adf049e",
   "metadata": {
    "ExecuteTime": {
     "end_time": "2023-09-06T22:12:14.437374Z",
     "start_time": "2023-09-06T22:12:14.426975Z"
    }
   },
   "outputs": [
    {
     "name": "stdout",
     "output_type": "stream",
     "text": [
      "read_data: \n",
      "  file_name: foo_bar.txt\n",
      "  nrows: 999\n",
      "single_val: hello\n",
      "zscore: \n",
      "  style: gaz\n",
      "  com: 28\n",
      "************************************************************\n",
      "write_data: \n",
      "  file_name: baz.txt\n",
      "  nrows: 999\n",
      "single_val2: goodbye\n"
     ]
    }
   ],
   "source": [
    "# Test the update functionality.\n",
    "# Update with no common vlaues in configs.\n",
    "config1 = cconfig.Config()\n",
    "config_tmp = config1.add_subconfig(\"read_data\")\n",
    "config_tmp[\"file_name\"] = \"foo_bar.txt\"\n",
    "config_tmp[\"nrows\"] = 999\n",
    "config1[\"single_val\"] = \"hello\"\n",
    "config_tmp = config1.add_subconfig(\"zscore\")\n",
    "config_tmp[\"style\"] = \"gaz\"\n",
    "config_tmp[\"com\"] = 28\n",
    "print(config1)\n",
    "print(\"*\" * 60)\n",
    "#\n",
    "config2 = cconfig.Config()\n",
    "config_tmp = config2.add_subconfig(\"write_data\")\n",
    "config_tmp[\"file_name\"] = \"baz.txt\"\n",
    "config_tmp[\"nrows\"] = 999\n",
    "config2[\"single_val2\"] = \"goodbye\"\n",
    "print(config2)"
   ]
  },
  {
   "cell_type": "code",
   "execution_count": 61,
   "id": "903a0000",
   "metadata": {
    "ExecuteTime": {
     "end_time": "2023-09-06T22:17:10.489677Z",
     "start_time": "2023-09-06T22:17:10.482784Z"
    }
   },
   "outputs": [
    {
     "name": "stdout",
     "output_type": "stream",
     "text": [
      "read_data: \n",
      "  file_name: foo_bar.txt\n",
      "  nrows: 999\n",
      "single_val: hello\n",
      "zscore: \n",
      "  style: gaz\n",
      "  com: 28\n",
      "write_data: \n",
      "  file_name: baz.txt\n",
      "  nrows: 999\n",
      "single_val2: goodbye\n"
     ]
    }
   ],
   "source": [
    "# With default `update_mode=assert_on_overwirte` it\n",
    "# will raise an assertion.\n",
    "config1.update(config2, update_mode=\"overwrite\")\n",
    "print(config1)"
   ]
  },
  {
   "cell_type": "code",
   "execution_count": 59,
   "id": "f4188da1",
   "metadata": {
    "ExecuteTime": {
     "end_time": "2023-09-06T22:13:33.081136Z",
     "start_time": "2023-09-06T22:13:33.067704Z"
    }
   },
   "outputs": [
    {
     "name": "stdout",
     "output_type": "stream",
     "text": [
      "read_data: \n",
      "  file_name: foo_bar.txt\n",
      "  nrows: 999\n",
      "single_val: hello\n",
      "zscore: \n",
      "  style: gaz\n",
      "  com: 28\n",
      "************************************************************\n",
      "read_data: \n",
      "  file_name: baz.txt\n",
      "  nrows: 999\n",
      "single_val: goodbye\n",
      "zscore: \n",
      "  style: super\n",
      "extra_zscore: \n",
      "  style: universal\n",
      "  tau: 32\n"
     ]
    }
   ],
   "source": [
    "# Update with common values in configs.\n",
    "config3 = cconfig.Config()\n",
    "config_tmp = config3.add_subconfig(\"read_data\")\n",
    "config_tmp[\"file_name\"] = \"foo_bar.txt\"\n",
    "config_tmp[\"nrows\"] = 999\n",
    "config3[\"single_val\"] = \"hello\"\n",
    "config_tmp = config3.add_subconfig(\"zscore\")\n",
    "config_tmp[\"style\"] = \"gaz\"\n",
    "config_tmp[\"com\"] = 28\n",
    "print(config3)\n",
    "print(\"*\" * 60)\n",
    "#\n",
    "config4 = cconfig.Config()\n",
    "config_tmp = config4.add_subconfig(\"read_data\")\n",
    "config_tmp[\"file_name\"] = \"baz.txt\"\n",
    "config_tmp[\"nrows\"] = 999\n",
    "config4[\"single_val\"] = \"goodbye\"\n",
    "config_tmp = config4.add_subconfig(\"zscore\")\n",
    "config_tmp[\"style\"] = \"super\"\n",
    "config_tmp = config4.add_subconfig(\"extra_zscore\")\n",
    "config_tmp[\"style\"] = \"universal\"\n",
    "config_tmp[\"tau\"] = 32\n",
    "print(config4)"
   ]
  },
  {
   "cell_type": "code",
   "execution_count": 62,
   "id": "04110c29",
   "metadata": {
    "ExecuteTime": {
     "end_time": "2023-09-06T22:17:19.797602Z",
     "start_time": "2023-09-06T22:17:19.785489Z"
    }
   },
   "outputs": [
    {
     "name": "stdout",
     "output_type": "stream",
     "text": [
      "read_data: \n",
      "  file_name: baz.txt\n",
      "  nrows: 999\n",
      "single_val: goodbye\n",
      "zscore: \n",
      "  style: super\n",
      "  com: 28\n",
      "extra_zscore: \n",
      "  style: universal\n",
      "  tau: 32\n"
     ]
    }
   ],
   "source": [
    "config3.update(config4, update_mode=\"overwrite\")\n",
    "print(config3)"
   ]
  },
  {
   "cell_type": "code",
   "execution_count": 63,
   "id": "a3064cf9",
   "metadata": {
    "ExecuteTime": {
     "end_time": "2023-09-06T22:22:27.123989Z",
     "start_time": "2023-09-06T22:22:27.114595Z"
    }
   },
   "outputs": [
    {
     "name": "stderr",
     "output_type": "stream",
     "text": [
      "Value 'baz.txt' for key 'file_name' already exists. Not overwriting with 'hello' since update_mode=assign_if_missing\n"
     ]
    },
    {
     "name": "stdout",
     "output_type": "stream",
     "text": [
      "read_data: \n",
      "  file_name: baz.txt\n",
      "  nrows: 999\n",
      "single_val: goodbye\n",
      "zscore: \n",
      "  style: super\n",
      "  com: 28\n",
      "extra_zscore: \n",
      "  style: universal\n",
      "  tau: 32\n",
      "read_data2: world\n"
     ]
    }
   ],
   "source": [
    "# Behaviour when update mode is `assign_if_missing`.\n",
    "# Existing keys will not be modified and no exception\n",
    "# is raised. New keys are added if not present.\n",
    "config5 = cconfig.Config()\n",
    "config5[\"read_data\", \"file_name\"] = \"hello\"\n",
    "config5[\"read_data2\"] = \"world\"\n",
    "config3.update(config5, update_mode=\"assign_if_missing\")\n",
    "print(config3)"
   ]
  },
  {
   "cell_type": "code",
   "execution_count": 28,
   "id": "f6287e87",
   "metadata": {
    "ExecuteTime": {
     "end_time": "2023-09-06T20:14:19.857975Z",
     "start_time": "2023-09-06T20:14:19.852546Z"
    }
   },
   "outputs": [
    {
     "name": "stdout",
     "output_type": "stream",
     "text": [
      "meta: \n",
      "  id_col: asset_id\n",
      "  use_historical: True\n",
      "system_log_dir: /shared_data/CMTask5198_log_dir_1\n",
      "ohlcv_market_data: \n",
      "  vendor: CCXT\n",
      "  mode: trade\n",
      "  universe: \n",
      "    universe_version: v7.1\n",
      "    test_asset_id: 1467591036\n",
      "bar_duration: 7T\n"
     ]
    }
   ],
   "source": [
    "# To update a read only config, set `value=False`.\n",
    "config.update_mode = \"overwrite\"\n",
    "config.clobber_mode = \"allow_write_after_use\"\n",
    "config.mark_read_only(value=False)\n",
    "config[\"bar_duration\"] = \"7T\"\n",
    "print(config)"
   ]
  },
  {
   "cell_type": "markdown",
   "id": "47281610",
   "metadata": {},
   "source": [
    "# Read Only Config"
   ]
  },
  {
   "cell_type": "code",
   "execution_count": 29,
   "id": "10754193",
   "metadata": {
    "ExecuteTime": {
     "end_time": "2023-09-06T20:14:21.456843Z",
     "start_time": "2023-09-06T20:14:21.268493Z"
    }
   },
   "outputs": [
    {
     "name": "stderr",
     "output_type": "stream",
     "text": [
      "exception=Can't set key='bar_duration' to val='7T' in read-only config\n",
      "self=\n",
      "  meta: \n",
      "    id_col: asset_id\n",
      "    use_historical: True\n",
      "  system_log_dir: /shared_data/CMTask5198_log_dir_1\n",
      "  ohlcv_market_data: \n",
      "    vendor: CCXT\n",
      "    mode: trade\n",
      "    universe: \n",
      "      universe_version: v7.1\n",
      "      test_asset_id: 1467591036\n",
      "  bar_duration: 7T\n",
      "key='bar_duration'\n",
      "config=\n",
      "  meta: \n",
      "    id_col: asset_id\n",
      "    use_historical: True\n",
      "  system_log_dir: /shared_data/CMTask5198_log_dir_1\n",
      "  ohlcv_market_data: \n",
      "    vendor: CCXT\n",
      "    mode: trade\n",
      "    universe: \n",
      "      universe_version: v7.1\n",
      "      test_asset_id: 1467591036\n",
      "  bar_duration: 7T\n"
     ]
    },
    {
     "ename": "ReadOnlyConfigError",
     "evalue": "Can't set key='bar_duration' to val='7T' in read-only config\nself=\n  meta: \n    id_col: asset_id\n    use_historical: True\n  system_log_dir: /shared_data/CMTask5198_log_dir_1\n  ohlcv_market_data: \n    vendor: CCXT\n    mode: trade\n    universe: \n      universe_version: v7.1\n      test_asset_id: 1467591036\n  bar_duration: 7T",
     "output_type": "error",
     "traceback": [
      "\u001b[0;31m---------------------------------------------------------------------------\u001b[0m",
      "\u001b[0;31mReadOnlyConfigError\u001b[0m                       Traceback (most recent call last)",
      "Cell \u001b[0;32mIn[29], line 7\u001b[0m\n\u001b[1;32m      5\u001b[0m config\u001b[38;5;241m.\u001b[39mclobber_mode \u001b[38;5;241m=\u001b[39m \u001b[38;5;124m\"\u001b[39m\u001b[38;5;124mallow_write_after_use\u001b[39m\u001b[38;5;124m\"\u001b[39m\n\u001b[1;32m      6\u001b[0m config\u001b[38;5;241m.\u001b[39mmark_read_only()\n\u001b[0;32m----> 7\u001b[0m \u001b[43mconfig\u001b[49m\u001b[43m[\u001b[49m\u001b[38;5;124;43m\"\u001b[39;49m\u001b[38;5;124;43mbar_duration\u001b[39;49m\u001b[38;5;124;43m\"\u001b[39;49m\u001b[43m]\u001b[49m \u001b[38;5;241m=\u001b[39m \u001b[38;5;124m\"\u001b[39m\u001b[38;5;124m7T\u001b[39m\u001b[38;5;124m\"\u001b[39m\n",
      "File \u001b[0;32m/app/amp/core/config/config_.py:691\u001b[0m, in \u001b[0;36mConfig.__setitem__\u001b[0;34m(self, key, val, update_mode, clobber_mode, report_mode)\u001b[0m\n\u001b[1;32m    689\u001b[0m     \u001b[38;5;28mself\u001b[39m\u001b[38;5;241m.\u001b[39m_set_item(key, val, update_mode, clobber_mode, report_mode)\n\u001b[1;32m    690\u001b[0m \u001b[38;5;28;01mexcept\u001b[39;00m \u001b[38;5;167;01mException\u001b[39;00m \u001b[38;5;28;01mas\u001b[39;00m e:\n\u001b[0;32m--> 691\u001b[0m     \u001b[38;5;28;43mself\u001b[39;49m\u001b[38;5;241;43m.\u001b[39;49m\u001b[43m_raise_exception\u001b[49m\u001b[43m(\u001b[49m\u001b[43me\u001b[49m\u001b[43m,\u001b[49m\u001b[43m \u001b[49m\u001b[43mkey\u001b[49m\u001b[43m,\u001b[49m\u001b[43m \u001b[49m\u001b[43mreport_mode\u001b[49m\u001b[43m)\u001b[49m\n",
      "File \u001b[0;32m/app/amp/core/config/config_.py:1440\u001b[0m, in \u001b[0;36mConfig._raise_exception\u001b[0;34m(self, exception, key, report_mode)\u001b[0m\n\u001b[1;32m   1438\u001b[0m         \u001b[38;5;28;01melse\u001b[39;00m:\n\u001b[1;32m   1439\u001b[0m             \u001b[38;5;28;01mraise\u001b[39;00m \u001b[38;5;167;01mRuntimeError\u001b[39;00m(\u001b[38;5;124mf\u001b[39m\u001b[38;5;124m\"\u001b[39m\u001b[38;5;124mInvalid exception: \u001b[39m\u001b[38;5;132;01m{\u001b[39;00mexception\u001b[38;5;132;01m}\u001b[39;00m\u001b[38;5;124m\"\u001b[39m)\n\u001b[0;32m-> 1440\u001b[0m \u001b[38;5;28;01mraise\u001b[39;00m exception\n",
      "File \u001b[0;32m/app/amp/core/config/config_.py:689\u001b[0m, in \u001b[0;36mConfig.__setitem__\u001b[0;34m(self, key, val, update_mode, clobber_mode, report_mode)\u001b[0m\n\u001b[1;32m    687\u001b[0m report_mode \u001b[38;5;241m=\u001b[39m \u001b[38;5;28mself\u001b[39m\u001b[38;5;241m.\u001b[39m_resolve_report_mode(report_mode)\n\u001b[1;32m    688\u001b[0m \u001b[38;5;28;01mtry\u001b[39;00m:\n\u001b[0;32m--> 689\u001b[0m     \u001b[38;5;28;43mself\u001b[39;49m\u001b[38;5;241;43m.\u001b[39;49m\u001b[43m_set_item\u001b[49m\u001b[43m(\u001b[49m\u001b[43mkey\u001b[49m\u001b[43m,\u001b[49m\u001b[43m \u001b[49m\u001b[43mval\u001b[49m\u001b[43m,\u001b[49m\u001b[43m \u001b[49m\u001b[43mupdate_mode\u001b[49m\u001b[43m,\u001b[49m\u001b[43m \u001b[49m\u001b[43mclobber_mode\u001b[49m\u001b[43m,\u001b[49m\u001b[43m \u001b[49m\u001b[43mreport_mode\u001b[49m\u001b[43m)\u001b[49m\n\u001b[1;32m    690\u001b[0m \u001b[38;5;28;01mexcept\u001b[39;00m \u001b[38;5;167;01mException\u001b[39;00m \u001b[38;5;28;01mas\u001b[39;00m e:\n\u001b[1;32m    691\u001b[0m     \u001b[38;5;28mself\u001b[39m\u001b[38;5;241m.\u001b[39m_raise_exception(e, key, report_mode)\n",
      "File \u001b[0;32m/app/amp/core/config/config_.py:1259\u001b[0m, in \u001b[0;36mConfig._set_item\u001b[0;34m(self, key, val, update_mode, clobber_mode, report_mode)\u001b[0m\n\u001b[1;32m   1257\u001b[0m     msg \u001b[38;5;241m=\u001b[39m \u001b[38;5;124m\"\u001b[39m\u001b[38;5;130;01m\\n\u001b[39;00m\u001b[38;5;124m\"\u001b[39m\u001b[38;5;241m.\u001b[39mjoin(msg)\n\u001b[1;32m   1258\u001b[0m     \u001b[38;5;66;03m# TODO(Danya): Remove after enabling `mark_as_used` method.\u001b[39;00m\n\u001b[0;32m-> 1259\u001b[0m     \u001b[38;5;28;01mraise\u001b[39;00m ReadOnlyConfigError(msg)\n\u001b[1;32m   1260\u001b[0m update_mode \u001b[38;5;241m=\u001b[39m \u001b[38;5;28mself\u001b[39m\u001b[38;5;241m.\u001b[39m_resolve_update_mode(update_mode)\n\u001b[1;32m   1261\u001b[0m clobber_mode \u001b[38;5;241m=\u001b[39m \u001b[38;5;28mself\u001b[39m\u001b[38;5;241m.\u001b[39m_resolve_clobber_mode(clobber_mode)\n",
      "\u001b[0;31mReadOnlyConfigError\u001b[0m: Can't set key='bar_duration' to val='7T' in read-only config\nself=\n  meta: \n    id_col: asset_id\n    use_historical: True\n  system_log_dir: /shared_data/CMTask5198_log_dir_1\n  ohlcv_market_data: \n    vendor: CCXT\n    mode: trade\n    universe: \n      universe_version: v7.1\n      test_asset_id: 1467591036\n  bar_duration: 7T"
     ]
    }
   ],
   "source": [
    "# Test config read-only property.\n",
    "# Cannot set or update a value that doesn't exists on a read-only config.\n",
    "# Should raise an exception.\n",
    "config.update_mode = \"overwrite\"\n",
    "config.clobber_mode = \"allow_write_after_use\"\n",
    "config.mark_read_only()\n",
    "config[\"bar_duration\"] = \"7T\""
   ]
  },
  {
   "cell_type": "markdown",
   "id": "bd596d78",
   "metadata": {},
   "source": [
    "# Get and Mark as used"
   ]
  },
  {
   "cell_type": "code",
   "execution_count": 30,
   "id": "92fdfb74",
   "metadata": {
    "ExecuteTime": {
     "end_time": "2023-09-06T20:14:22.771606Z",
     "start_time": "2023-09-06T20:14:22.706179Z"
    }
   },
   "outputs": [
    {
     "data": {
      "text/plain": [
       "'meta (marked_as_used=False, writer=None, val_type=core.config.config_.Config): \\n  id_col (marked_as_used=True, writer=/tmp/ipykernel_411/3453495586.py::4::<module>, val_type=str): asset_id\\n  use_historical (marked_as_used=True, writer=/tmp/ipykernel_411/3453495586.py::4::<module>, val_type=bool): True\\nsystem_log_dir (marked_as_used=False, writer=None, val_type=str): /shared_data/CMTask5198_log_dir_1\\nohlcv_market_data (marked_as_used=False, writer=None, val_type=core.config.config_.Config): \\n  vendor (marked_as_used=False, writer=None, val_type=str): CCXT\\n  mode (marked_as_used=False, writer=None, val_type=str): trade\\n  universe (marked_as_used=False, writer=None, val_type=core.config.config_.Config): \\n    universe_version (marked_as_used=False, writer=None, val_type=str): v7.1\\n    test_asset_id (marked_as_used=False, writer=None, val_type=int): 1467591036\\nbar_duration (marked_as_used=False, writer=None, val_type=str): 7T'"
      ]
     },
     "execution_count": 30,
     "metadata": {},
     "output_type": "execute_result"
    }
   ],
   "source": [
    "# Test verbose mode with `marked_as_used` == True.\n",
    "# The leaf keys in heirarchy will be marked as `True`\n",
    "mode = \"verbose\"\n",
    "config.get_and_mark_as_used(\"meta\")\n",
    "config.to_string(mode)"
   ]
  },
  {
   "cell_type": "code",
   "execution_count": 31,
   "id": "1a743ac2",
   "metadata": {
    "ExecuteTime": {
     "end_time": "2023-09-06T20:14:23.543654Z",
     "start_time": "2023-09-06T20:14:23.523133Z"
    }
   },
   "outputs": [
    {
     "data": {
      "text/plain": [
       "'7T'"
      ]
     },
     "execution_count": 31,
     "metadata": {},
     "output_type": "execute_result"
    }
   ],
   "source": [
    "# Get and mark a value as used.\n",
    "config.get_and_mark_as_used(\"bar_duration\")"
   ]
  },
  {
   "cell_type": "code",
   "execution_count": 32,
   "id": "10e42208",
   "metadata": {
    "ExecuteTime": {
     "end_time": "2023-09-06T20:14:24.171919Z",
     "start_time": "2023-09-06T20:14:24.165633Z"
    }
   },
   "outputs": [
    {
     "data": {
      "text/plain": [
       "True"
      ]
     },
     "execution_count": 32,
     "metadata": {},
     "output_type": "execute_result"
    }
   ],
   "source": [
    "# Check if the value is marked as used.\n",
    "config.get_marked_as_used(\"bar_duration\")"
   ]
  },
  {
   "cell_type": "markdown",
   "id": "96b428b4",
   "metadata": {},
   "source": [
    "# General Functionality"
   ]
  },
  {
   "cell_type": "code",
   "execution_count": 33,
   "id": "d3700ff6",
   "metadata": {
    "ExecuteTime": {
     "end_time": "2023-09-06T20:14:25.553375Z",
     "start_time": "2023-09-06T20:14:25.547107Z"
    }
   },
   "outputs": [
    {
     "name": "stdout",
     "output_type": "stream",
     "text": [
      "Config([('meta', Config([('id_col', 'asset_id'), ('use_historical', True)])), ('system_log_dir', '/shared_data/CMTask5198_log_dir_1'), ('ohlcv_market_data', Config([('vendor', 'CCXT'), ('mode', 'trade'), ('universe', Config([('universe_version', 'v7.1'), ('test_asset_id', 1467591036)]))])), ('bar_duration', '7T')])\n",
      "\n",
      "\n",
      "<class 'str'>\n"
     ]
    }
   ],
   "source": [
    "# Convert a config to a python code.\n",
    "code = config.to_python()\n",
    "print(code)\n",
    "print(\"\\n\")\n",
    "print(type(code))"
   ]
  },
  {
   "cell_type": "code",
   "execution_count": 34,
   "id": "5503143a",
   "metadata": {
    "ExecuteTime": {
     "end_time": "2023-09-06T20:14:26.284987Z",
     "start_time": "2023-09-06T20:14:26.278583Z"
    }
   },
   "outputs": [
    {
     "name": "stdout",
     "output_type": "stream",
     "text": [
      "meta: \n",
      "  id_col: asset_id\n",
      "  use_historical: True\n",
      "system_log_dir: /shared_data/CMTask5198_log_dir_1\n",
      "ohlcv_market_data: \n",
      "  vendor: CCXT\n",
      "  mode: trade\n",
      "  universe: \n",
      "    universe_version: v7.1\n",
      "    test_asset_id: 1467591036\n",
      "bar_duration: 7T\n",
      "\n",
      "\n",
      "<class 'core.config.config_.Config'>\n"
     ]
    }
   ],
   "source": [
    "# Build a config from a python code.\n",
    "config2 = cconfig.Config.from_python(code)\n",
    "print(config2)\n",
    "print(\"\\n\")\n",
    "print(type(config2))"
   ]
  },
  {
   "cell_type": "code",
   "execution_count": 35,
   "id": "8f4133dd",
   "metadata": {
    "ExecuteTime": {
     "end_time": "2023-09-06T20:14:26.950815Z",
     "start_time": "2023-09-06T20:14:26.943088Z"
    }
   },
   "outputs": [
    {
     "data": {
      "text/plain": [
       "OrderedDict([(('meta', 'id_col'), 'asset_id'),\n",
       "             (('meta', 'use_historical'), True),\n",
       "             (('system_log_dir',), '/shared_data/CMTask5198_log_dir_1'),\n",
       "             (('ohlcv_market_data', 'vendor'), 'CCXT'),\n",
       "             (('ohlcv_market_data', 'mode'), 'trade'),\n",
       "             (('ohlcv_market_data', 'universe', 'universe_version'), 'v7.1'),\n",
       "             (('ohlcv_market_data', 'universe', 'test_asset_id'), 1467591036),\n",
       "             (('bar_duration',), '7T')])"
      ]
     },
     "execution_count": 35,
     "metadata": {},
     "output_type": "execute_result"
    }
   ],
   "source": [
    "# Testing the flatten functionality.\n",
    "config.flatten()"
   ]
  },
  {
   "cell_type": "code",
   "execution_count": 36,
   "id": "576d6044",
   "metadata": {
    "ExecuteTime": {
     "end_time": "2023-09-06T20:14:28.140661Z",
     "start_time": "2023-09-06T20:14:28.133007Z"
    }
   },
   "outputs": [
    {
     "data": {
      "text/plain": [
       "True"
      ]
     },
     "execution_count": 36,
     "metadata": {},
     "output_type": "execute_result"
    }
   ],
   "source": [
    "# Test a config that can be serialized correctly.\n",
    "config.is_serializable()"
   ]
  },
  {
   "cell_type": "code",
   "execution_count": 37,
   "id": "1142d2ae",
   "metadata": {
    "ExecuteTime": {
     "end_time": "2023-09-06T20:14:28.871653Z",
     "start_time": "2023-09-06T20:14:28.848939Z"
    }
   },
   "outputs": [
    {
     "data": {
      "text/plain": [
       "OrderedDict([('meta',\n",
       "              OrderedDict([('id_col', 'asset_id'), ('use_historical', True)])),\n",
       "             ('system_log_dir', '/shared_data/CMTask5198_log_dir_1'),\n",
       "             ('ohlcv_market_data',\n",
       "              OrderedDict([('vendor', 'CCXT'),\n",
       "                           ('mode', 'trade'),\n",
       "                           ('universe',\n",
       "                            OrderedDict([('universe_version', 'v7.1'),\n",
       "                                         ('test_asset_id', 1467591036)]))])),\n",
       "             ('bar_duration', '7T')])"
      ]
     },
     "execution_count": 37,
     "metadata": {},
     "output_type": "execute_result"
    }
   ],
   "source": [
    "# Keep or skip empty leaves.\n",
    "config.to_dict(keep_leaves=False)"
   ]
  },
  {
   "cell_type": "code",
   "execution_count": 38,
   "id": "789e4b74",
   "metadata": {
    "ExecuteTime": {
     "end_time": "2023-09-06T20:14:29.396690Z",
     "start_time": "2023-09-06T20:14:29.392668Z"
    }
   },
   "outputs": [
    {
     "name": "stdout",
     "output_type": "stream",
     "text": [
      "meta (marked_as_used=False, writer=None, val_type=core.config.config_.Config): \n",
      "  id_col (marked_as_used=True, writer=/tmp/ipykernel_411/3453495586.py::4::<module>, val_type=str): asset_id\n",
      "  use_historical (marked_as_used=True, writer=/tmp/ipykernel_411/3453495586.py::4::<module>, val_type=bool): True\n",
      "system_log_dir (marked_as_used=False, writer=None, val_type=str): /shared_data/CMTask5198_log_dir_1\n",
      "ohlcv_market_data (marked_as_used=False, writer=None, val_type=core.config.config_.Config): \n",
      "  vendor (marked_as_used=False, writer=None, val_type=str): CCXT\n",
      "  mode (marked_as_used=False, writer=None, val_type=str): trade\n",
      "  universe (marked_as_used=False, writer=None, val_type=core.config.config_.Config): \n",
      "    universe_version (marked_as_used=False, writer=None, val_type=str): v7.1\n",
      "    test_asset_id (marked_as_used=False, writer=None, val_type=int): 1467591036\n",
      "bar_duration (marked_as_used=True, writer=/tmp/ipykernel_411/3598366333.py::2::<module>, val_type=str): 7T\n"
     ]
    }
   ],
   "source": [
    "# Convert a config to a string.\n",
    "mode = \"verbose\"\n",
    "print(config.to_string(mode=\"verbose\"))"
   ]
  }
 ],
 "metadata": {
  "kernelspec": {
   "display_name": "Python 3 (ipykernel)",
   "language": "python",
   "name": "python3"
  },
  "language_info": {
   "codemirror_mode": {
    "name": "ipython",
    "version": 3
   },
   "file_extension": ".py",
   "mimetype": "text/x-python",
   "name": "python",
   "nbconvert_exporter": "python",
   "pygments_lexer": "ipython3",
   "version": "3.8.10"
  },
  "toc": {
   "base_numbering": 1,
   "nav_menu": {},
   "number_sections": true,
   "sideBar": true,
   "skip_h1_title": false,
   "title_cell": "Table of Contents",
   "title_sidebar": "Contents",
   "toc_cell": false,
   "toc_position": {},
   "toc_section_display": true,
   "toc_window_display": false
  }
 },
 "nbformat": 4,
 "nbformat_minor": 5
}
