{
 "cells": [
  {
   "cell_type": "markdown",
   "id": "c207a3ce",
   "metadata": {},
   "source": [
    "# Description\n",
    "\n",
    "This notebook generates an animated plot."
   ]
  },
  {
   "cell_type": "markdown",
   "id": "4b667c6d",
   "metadata": {},
   "source": [
    "# Imports"
   ]
  },
  {
   "cell_type": "code",
   "execution_count": null,
   "id": "8027c303",
   "metadata": {},
   "outputs": [],
   "source": [
    "%load_ext autoreload\n",
    "%autoreload 2\n",
    "%matplotlib inline\n",
    "\n",
    "\n",
    "from typing import Tuple\n",
    "\n",
    "import matplotlib\n",
    "import matplotlib.animation as animation\n",
    "import matplotlib.pyplot as plt\n",
    "import numpy as np\n",
    "import pandas as pd\n",
    "from IPython.display import HTML"
   ]
  },
  {
   "cell_type": "code",
   "execution_count": null,
   "id": "466bcba5",
   "metadata": {},
   "outputs": [],
   "source": [
    "# Increase the animation limit so all the frames can be displayed.\n",
    "matplotlib.rcParams[\"animation.embed_limit\"] = 2**128"
   ]
  },
  {
   "cell_type": "markdown",
   "id": "94ec7bbb",
   "metadata": {},
   "source": [
    "# Functions"
   ]
  },
  {
   "cell_type": "code",
   "execution_count": null,
   "id": "78b1b00b",
   "metadata": {},
   "outputs": [],
   "source": [
    "def update_plot(\n",
    "    frame: int, time_series: pd.Series\n",
    ") -> Tuple[matplotlib.lines.Line2D]:\n",
    "    \"\"\"\n",
    "    Update the plot for each frame as the slider moves.\n",
    "\n",
    "    :param frame: frame number for which the plot should be updated\n",
    "    :param time_series: time-series data to plot\n",
    "    :return: tuple containing a `Line2D` object representing the plot's line\n",
    "    \"\"\"\n",
    "    # Set `x` and `y` value upto that frame.\n",
    "    x = time_series.index[:frame]\n",
    "    y = time_series.iloc[:frame]\n",
    "    x_value = time_series.index[frame]\n",
    "    # Create a custom heading according to value of `x`.\n",
    "    ax.set_title(f\"Plot generated at {x_value}\")\n",
    "    line.set_data(x, y)\n",
    "    return (line,)"
   ]
  },
  {
   "cell_type": "markdown",
   "id": "8d4f2c59",
   "metadata": {},
   "source": [
    "# Generate Data"
   ]
  },
  {
   "cell_type": "code",
   "execution_count": null,
   "id": "0fbbf722",
   "metadata": {},
   "outputs": [],
   "source": [
    "time_index = pd.date_range(start=\"2023-08-08\", end=\"2023-08-09\", freq=\"5T\")\n",
    "random_data = np.random.randn(len(time_index))\n",
    "time_series = pd.Series(random_data, index=time_index)\n",
    "time_series.head(3)"
   ]
  },
  {
   "cell_type": "markdown",
   "id": "760ce6f7",
   "metadata": {},
   "source": [
    "# Plotting"
   ]
  },
  {
   "cell_type": "code",
   "execution_count": null,
   "id": "9066fd6f",
   "metadata": {},
   "outputs": [],
   "source": [
    "# Initialize a blank plot, set labels and do not display it.\n",
    "plt.ioff()\n",
    "fig, ax = plt.subplots(figsize=(10, 5))\n",
    "ax.set_xlabel(\"time\")\n",
    "ax.set_ylabel(\"data\")"
   ]
  },
  {
   "cell_type": "code",
   "execution_count": null,
   "id": "4946a85f",
   "metadata": {},
   "outputs": [],
   "source": [
    "# Set up the initial plot.\n",
    "(line,) = ax.plot([], [])\n",
    "# Freeze the axes so that do not move when animated.\n",
    "ax.set_xlim(time_series.index[0], time_series.index[-1])\n",
    "ax.set_ylim(time_series.min(), time_series.max())"
   ]
  },
  {
   "cell_type": "code",
   "execution_count": null,
   "id": "35b24b8f",
   "metadata": {},
   "outputs": [],
   "source": [
    "# Create the animation.\n",
    "# TODO(Samarth): the output size is too big ~25 MB. Consider using a different approach for animation or stripping the metadata before checking in again.\n",
    "ani = animation.FuncAnimation(\n",
    "    fig, update_plot, frames=len(time_series), fargs=(time_series,), blit=True\n",
    ")\n",
    "# Convert the animation to HTML and display.\n",
    "html_video = ani.to_jshtml()\n",
    "HTML(html_video)"
   ]
  }
 ],
 "metadata": {
  "kernelspec": {
   "display_name": "Python 3 (ipykernel)",
   "language": "python",
   "name": "python3"
  },
  "language_info": {
   "name": "python"
  }
 },
 "nbformat": 4,
 "nbformat_minor": 5
}
