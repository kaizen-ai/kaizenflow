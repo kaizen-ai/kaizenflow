{
 "cells": [
  {
   "cell_type": "markdown",
   "id": "150a1911",
   "metadata": {},
   "source": [
    "# Imports"
   ]
  },
  {
   "cell_type": "code",
   "execution_count": 1,
   "id": "ee3a8cf6",
   "metadata": {},
   "outputs": [],
   "source": [
    "import requests\n",
    "import os\n",
    "import sys\n",
    "import web3\n",
    "from eth_account import Account\n",
    "from eth_account.signers.local import LocalAccount\n",
    "from web3 import Web3, EthereumTesterProvider\n",
    "from web3.middleware import construct_sign_and_send_raw_middleware\n",
    "\n",
    "import solcx"
   ]
  },
  {
   "cell_type": "markdown",
   "id": "7834dbe6",
   "metadata": {},
   "source": [
    "# Functions"
   ]
  },
  {
   "cell_type": "code",
   "execution_count": 2,
   "id": "9042a453",
   "metadata": {},
   "outputs": [],
   "source": [
    "def compile_source_file(file_path):\n",
    "    with open(file_path, 'r') as f:\n",
    "        source = f.read()\n",
    "    return solcx.compile_source(source, output_values=[\"abi\", \"bin\", \"bin-runtime\"])"
   ]
  },
  {
   "cell_type": "markdown",
   "id": "fe15722f",
   "metadata": {},
   "source": [
    "# Deploy token to Goerli"
   ]
  },
  {
   "cell_type": "markdown",
   "id": "5c77f846",
   "metadata": {},
   "source": [
    "Set-up infura."
   ]
  },
  {
   "cell_type": "code",
   "execution_count": 3,
   "id": "2e48745f",
   "metadata": {},
   "outputs": [],
   "source": [
    "# Get the Infura key.\n",
    "infura_key=os.environ[\"INFURA_KEY\"]"
   ]
  },
  {
   "cell_type": "code",
   "execution_count": 4,
   "id": "1e66c75b",
   "metadata": {},
   "outputs": [
    {
     "name": "stdout",
     "output_type": "stream",
     "text": [
      "isConnected= True\n"
     ]
    }
   ],
   "source": [
    "# Connect with Infura.\n",
    "infura_url = f\"https://goerli.infura.io/v3/{infura_key}\"\n",
    "\n",
    "w3 = web3.Web3(web3.Web3.HTTPProvider(infura_url))\n",
    "print(\"isConnected=\", w3.isConnected())"
   ]
  },
  {
   "cell_type": "markdown",
   "id": "9c722668",
   "metadata": {},
   "source": [
    "Set-up the account."
   ]
  },
  {
   "cell_type": "code",
   "execution_count": 5,
   "id": "39927469",
   "metadata": {},
   "outputs": [],
   "source": [
    "account_addr = \"0x6531e2613bbbEEcd898356F7b9bEfBaEfd42804B\"\n",
    "private_key = os.environ[\"PRIVATE_KEY\"]\n",
    "\n",
    "account: LocalAccount = Account.from_key(private_key)\n",
    "w3.middleware_onion.add(construct_sign_and_send_raw_middleware(account))"
   ]
  },
  {
   "cell_type": "markdown",
   "id": "0e831b57",
   "metadata": {},
   "source": [
    "Compile the contract & deploy."
   ]
  },
  {
   "cell_type": "code",
   "execution_count": 7,
   "id": "cd312a0b",
   "metadata": {},
   "outputs": [],
   "source": [
    "interface = compile_source_file(\"contracts/SorrentumToken.sol\")\n",
    "interface = interface[\"<stdin>:SorrentumToken\"]"
   ]
  },
  {
   "cell_type": "code",
   "execution_count": 8,
   "id": "d347bce6",
   "metadata": {},
   "outputs": [],
   "source": [
    "pre_mint = 5_000\n",
    "max_supply = 30_000\n",
    "name = \"Sorrentum\"\n",
    "symbol = \"SORR\"\n",
    "func = w3.eth.contract(\n",
    "    abi=interface[\"abi\"],\n",
    "    bytecode=interface[\"bin\"]).constructor(name, symbol, pre_mint, max_supply)\n",
    "# Deploy the token to Goerli.\n",
    "tx_hash = func.transact({\"from\": account_addr})"
   ]
  },
  {
   "cell_type": "code",
   "execution_count": 12,
   "id": "16685c92",
   "metadata": {
    "scrolled": true
   },
   "outputs": [
    {
     "data": {
      "text/plain": [
       "HexBytes('0x1ca82f08b3c520906f7e96e167e97404101b4411239736bc2e03846317b02992')"
      ]
     },
     "execution_count": 12,
     "metadata": {},
     "output_type": "execute_result"
    }
   ],
   "source": [
    "tx_hash"
   ]
  },
  {
   "cell_type": "code",
   "execution_count": 13,
   "id": "b7e7a032",
   "metadata": {},
   "outputs": [],
   "source": [
    "reciept = w3.eth.get_transaction_receipt(tx_hash)"
   ]
  },
  {
   "cell_type": "code",
   "execution_count": 14,
   "id": "f17d7264",
   "metadata": {},
   "outputs": [
    {
     "data": {
      "text/plain": [
       "AttributeDict({'blockHash': HexBytes('0xeaf9d2af77a780812c732d76c29122c76209ac571706885e3a8dbff7813e7e91'),\n",
       " 'blockNumber': 8577544,\n",
       " 'contractAddress': '0x14E3Cd22bAF93aAE4f8F576fD8Fb918f1016bB81',\n",
       " 'cumulativeGasUsed': 16936144,\n",
       " 'effectiveGasPrice': 273478380915,\n",
       " 'from': '0x6531e2613bbbEEcd898356F7b9bEfBaEfd42804B',\n",
       " 'gasUsed': 1878199,\n",
       " 'logs': [AttributeDict({'address': '0x14E3Cd22bAF93aAE4f8F576fD8Fb918f1016bB81',\n",
       "   'blockHash': HexBytes('0xeaf9d2af77a780812c732d76c29122c76209ac571706885e3a8dbff7813e7e91'),\n",
       "   'blockNumber': 8577544,\n",
       "   'data': '0x',\n",
       "   'logIndex': 167,\n",
       "   'removed': False,\n",
       "   'topics': [HexBytes('0x8be0079c531659141344cd1fd0a4f28419497f9722a3daafe3b4186f6b6457e0'),\n",
       "    HexBytes('0x0000000000000000000000000000000000000000000000000000000000000000'),\n",
       "    HexBytes('0x0000000000000000000000006531e2613bbbeecd898356f7b9befbaefd42804b')],\n",
       "   'transactionHash': HexBytes('0x1ca82f08b3c520906f7e96e167e97404101b4411239736bc2e03846317b02992'),\n",
       "   'transactionIndex': 138}),\n",
       "  AttributeDict({'address': '0x14E3Cd22bAF93aAE4f8F576fD8Fb918f1016bB81',\n",
       "   'blockHash': HexBytes('0xeaf9d2af77a780812c732d76c29122c76209ac571706885e3a8dbff7813e7e91'),\n",
       "   'blockNumber': 8577544,\n",
       "   'data': '0x00000000000000000000000000000000000000000000010f0cf064dd59200000',\n",
       "   'logIndex': 168,\n",
       "   'removed': False,\n",
       "   'topics': [HexBytes('0xddf252ad1be2c89b69c2b068fc378daa952ba7f163c4a11628f55a4df523b3ef'),\n",
       "    HexBytes('0x0000000000000000000000000000000000000000000000000000000000000000'),\n",
       "    HexBytes('0x0000000000000000000000006531e2613bbbeecd898356f7b9befbaefd42804b')],\n",
       "   'transactionHash': HexBytes('0x1ca82f08b3c520906f7e96e167e97404101b4411239736bc2e03846317b02992'),\n",
       "   'transactionIndex': 138})],\n",
       " 'logsBloom': HexBytes('0x00000000000000000000000000000000000000800000000000800000000000000000000000000000000000000000000000000000004000000000000000000000000000000000000000000008000000000001100000000000000000000000000000000000020000000000000000000c00000000000000000000000010000000400000000000000000000000000000000000000000000000000000000000000000000000000000000000000000000000000000000000000000000000000000000000000002008000000000000000000000000001000000000000000000000020000000000000000000000000000000000000000000000000000000000000000000'),\n",
       " 'status': 1,\n",
       " 'to': None,\n",
       " 'transactionHash': HexBytes('0x1ca82f08b3c520906f7e96e167e97404101b4411239736bc2e03846317b02992'),\n",
       " 'transactionIndex': 138,\n",
       " 'type': '0x2'})"
      ]
     },
     "execution_count": 14,
     "metadata": {},
     "output_type": "execute_result"
    }
   ],
   "source": [
    "reciept"
   ]
  },
  {
   "cell_type": "markdown",
   "id": "b9d34593",
   "metadata": {},
   "source": [
    "# Get Deployment Price"
   ]
  },
  {
   "cell_type": "code",
   "execution_count": 17,
   "id": "ac441205",
   "metadata": {},
   "outputs": [],
   "source": [
    "gas_used = 1_878_199 \n",
    "gas_price_gwei = 23\n",
    "eth_price = 1_654"
   ]
  },
  {
   "cell_type": "code",
   "execution_count": 19,
   "id": "cce6150d",
   "metadata": {},
   "outputs": [],
   "source": [
    "total_gwei = gas_used * gas_price_gwei\n",
    "total_eth = total_gwei * 0.000000001"
   ]
  },
  {
   "cell_type": "code",
   "execution_count": 26,
   "id": "f3a72e56",
   "metadata": {},
   "outputs": [
    {
     "data": {
      "text/plain": [
       "43198577"
      ]
     },
     "execution_count": 26,
     "metadata": {},
     "output_type": "execute_result"
    }
   ],
   "source": [
    "total_gwei"
   ]
  },
  {
   "cell_type": "code",
   "execution_count": 27,
   "id": "0a3b08b9",
   "metadata": {},
   "outputs": [
    {
     "data": {
      "text/plain": [
       "0.043198577"
      ]
     },
     "execution_count": 27,
     "metadata": {},
     "output_type": "execute_result"
    }
   ],
   "source": [
    "total_eth"
   ]
  },
  {
   "cell_type": "code",
   "execution_count": 21,
   "id": "9d323bc0",
   "metadata": {},
   "outputs": [
    {
     "data": {
      "text/plain": [
       "71.45044635800001"
      ]
     },
     "execution_count": 21,
     "metadata": {},
     "output_type": "execute_result"
    }
   ],
   "source": [
    "total_eth * eth_price"
   ]
  },
  {
   "cell_type": "markdown",
   "id": "80dce4d0",
   "metadata": {},
   "source": [
    "# Check the balance"
   ]
  },
  {
   "cell_type": "code",
   "execution_count": 11,
   "id": "850a9fa3",
   "metadata": {},
   "outputs": [
    {
     "data": {
      "text/plain": [
       "'0x14E3Cd22bAF93aAE4f8F576fD8Fb918f1016bB81'"
      ]
     },
     "execution_count": 11,
     "metadata": {},
     "output_type": "execute_result"
    }
   ],
   "source": [
    "reciept[\"contractAddress\"]"
   ]
  },
  {
   "cell_type": "code",
   "execution_count": 22,
   "id": "15a0bb6d",
   "metadata": {},
   "outputs": [],
   "source": [
    "surr_token = w3.eth.contract(address=reciept[\"contractAddress\"], abi=interface[\"abi\"])"
   ]
  },
  {
   "cell_type": "code",
   "execution_count": 24,
   "id": "a40ede7e",
   "metadata": {},
   "outputs": [
    {
     "data": {
      "text/plain": [
       "5000000000000000000000"
      ]
     },
     "execution_count": 24,
     "metadata": {},
     "output_type": "execute_result"
    }
   ],
   "source": [
    "balance = surr_token.functions.balanceOf(account_addr).call()\n",
    "balance"
   ]
  },
  {
   "cell_type": "markdown",
   "id": "b4d5a92a",
   "metadata": {},
   "source": [
    "Check if the balance matches the expected minted amount."
   ]
  },
  {
   "cell_type": "code",
   "execution_count": 25,
   "id": "16603bae",
   "metadata": {},
   "outputs": [
    {
     "data": {
      "text/plain": [
       "True"
      ]
     },
     "execution_count": 25,
     "metadata": {},
     "output_type": "execute_result"
    }
   ],
   "source": [
    "balance == pre_mint * 10**18"
   ]
  },
  {
   "cell_type": "code",
   "execution_count": null,
   "id": "2aaf3e68",
   "metadata": {},
   "outputs": [],
   "source": []
  }
 ],
 "metadata": {
  "kernelspec": {
   "display_name": "Python 3 (ipykernel)",
   "language": "python",
   "name": "python3"
  },
  "language_info": {
   "codemirror_mode": {
    "name": "ipython",
    "version": 3
   },
   "file_extension": ".py",
   "mimetype": "text/x-python",
   "name": "python",
   "nbconvert_exporter": "python",
   "pygments_lexer": "ipython3",
   "version": "3.10.6"
  },
  "vscode": {
   "interpreter": {
    "hash": "916dbcbb3f70747c44a77c7bcd40155683ae19c65e1c03b4aa3499c5328201f1"
   }
  }
 },
 "nbformat": 4,
 "nbformat_minor": 5
}
