{
 "cells": [
  {
   "cell_type": "code",
   "execution_count": 1,
   "id": "7fabb961",
   "metadata": {
    "ExecuteTime": {
     "end_time": "2023-01-15T18:26:19.999750Z",
     "start_time": "2023-01-15T18:26:19.030615Z"
    }
   },
   "outputs": [
    {
     "name": "stdout",
     "output_type": "stream",
     "text": [
      "Attached to local RPC client listening at '127.0.0.1:8545'...\n"
     ]
    }
   ],
   "source": [
    "import brownie"
   ]
  },
  {
   "cell_type": "code",
   "execution_count": 26,
   "id": "e892c2fb",
   "metadata": {
    "ExecuteTime": {
     "end_time": "2023-01-15T21:50:45.835476Z",
     "start_time": "2023-01-15T21:50:45.705825Z"
    }
   },
   "outputs": [
    {
     "name": "stdout",
     "output_type": "stream",
     "text": [
      "pragma solidity ^0.5.11;\r\n",
      "\r\n",
      "contract SimpleContract {\r\n",
      "     uint value;\r\n",
      "     function setValue(uint _value) external {value = _value;}\r\n",
      "     function getValue() external view returns(uint){return value;}       \r\n",
      "}\r\n"
     ]
    }
   ],
   "source": [
    "brownie.network.connect(\"development\")\n",
    "myproject = brownie.project.load(\"/data/tutorial_brownie/hello_world_contract\")"
   ]
  },
  {
   "cell_type": "code",
   "execution_count": 25,
   "id": "661f1397",
   "metadata": {
    "ExecuteTime": {
     "end_time": "2023-01-15T21:50:25.480765Z",
     "start_time": "2023-01-15T21:50:25.474282Z"
    }
   },
   "outputs": [
    {
     "name": "stdout",
     "output_type": "stream",
     "text": [
      "<brownie.network.contract.ContractContainer object at 0x7f3039b19a20>\n"
     ]
    }
   ],
   "source": [
    "print(\"SimpleContract=\", myproject.SimpleContract)"
   ]
  }
 ],
 "metadata": {
  "kernelspec": {
   "display_name": "Python 3 (ipykernel)",
   "language": "python",
   "name": "python3"
  },
  "language_info": {
   "codemirror_mode": {
    "name": "ipython",
    "version": 3
   },
   "file_extension": ".py",
   "mimetype": "text/x-python",
   "name": "python",
   "nbconvert_exporter": "python",
   "pygments_lexer": "ipython3",
   "version": "3.10.6"
  },
  "toc": {
   "base_numbering": 1,
   "nav_menu": {},
   "number_sections": true,
   "sideBar": true,
   "skip_h1_title": false,
   "title_cell": "Table of Contents",
   "title_sidebar": "Contents",
   "toc_cell": false,
   "toc_position": {},
   "toc_section_display": true,
   "toc_window_display": false
  }
 },
 "nbformat": 4,
 "nbformat_minor": 5
}
