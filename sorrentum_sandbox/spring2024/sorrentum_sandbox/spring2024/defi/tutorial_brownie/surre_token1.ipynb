{
 "cells": [
  {
   "cell_type": "code",
   "execution_count": 1,
   "id": "48e0a151",
   "metadata": {
    "ExecuteTime": {
     "end_time": "2023-01-15T21:47:28.235930Z",
     "start_time": "2023-01-15T21:47:27.373832Z"
    }
   },
   "outputs": [],
   "source": [
    "%load_ext autoreload\n",
    "%autoreload 2\n",
    "\n",
    "import os\n",
    "import sys\n",
    "import web3\n",
    "\n",
    "sys.path.append(\"..\")\n",
    "import web3_utils as w3ut\n",
    "\n",
    "from brownie import *\n",
    "import brownie"
   ]
  },
  {
   "cell_type": "markdown",
   "id": "96c11624",
   "metadata": {},
   "source": [
    "# Ganache"
   ]
  },
  {
   "cell_type": "code",
   "execution_count": 3,
   "id": "ba0535ed",
   "metadata": {
    "ExecuteTime": {
     "end_time": "2023-01-15T21:50:54.098027Z",
     "start_time": "2023-01-15T21:50:53.951600Z"
    }
   },
   "outputs": [
    {
     "name": "stdout",
     "output_type": "stream",
     "text": [
      "// SPDX-License-Identifier: MIT\r\n",
      "pragma solidity ^0.8.9;\r\n",
      "\r\n",
      "import \"@openzeppelin/contracts/token/ERC20/ERC20.sol\";\r\n",
      "import \"@openzeppelin/contracts/access/Ownable.sol\";\r\n",
      "\r\n",
      "contract Surrentum_v1 is ERC20, Ownable {\r\n",
      "    constructor() ERC20(\"Surrentum Utility Token v1\", \"SURRE\") {\r\n",
      "        _mint(msg.sender, 10 * 10 ** decimals());\r\n",
      "    }\r\n",
      "}\r\n"
     ]
    }
   ],
   "source": [
    "!more surre_token1/contracts/surre_token_v1.sol"
   ]
  },
  {
   "cell_type": "code",
   "execution_count": 4,
   "id": "3647df94",
   "metadata": {
    "ExecuteTime": {
     "end_time": "2023-01-15T21:50:55.263468Z",
     "start_time": "2023-01-15T21:50:55.044147Z"
    }
   },
   "outputs": [
    {
     "name": "stdout",
     "output_type": "stream",
     "text": [
      "brownie_project_dir= /data/tutorial_brownie/surre_token1\n",
      "brownie.is_connected()= True\n",
      "w3.is_connected()= True\n"
     ]
    }
   ],
   "source": [
    "brownie_project_dir = '/data/tutorial_brownie/surre_token1'\n",
    "net = 'development'\n",
    "w3 = w3ut.connect_to_brownie(brownie_project_dir, net)"
   ]
  },
  {
   "cell_type": "code",
   "execution_count": 5,
   "id": "e05a2b6a",
   "metadata": {
    "ExecuteTime": {
     "end_time": "2023-01-15T21:50:58.380791Z",
     "start_time": "2023-01-15T21:50:58.357680Z"
    }
   },
   "outputs": [
    {
     "name": "stdout",
     "output_type": "stream",
     "text": [
      "<brownie.network.contract.ContractContainer object at 0x7fafc8d7f460>\n",
      "<class 'brownie.network.contract.ContractContainer'>\n",
      "<ContractConstructor 'Surrentum_v1.constructor()'>\n"
     ]
    }
   ],
   "source": [
    "Token =  project.SurreToken1Project.Surrentum_v1\n",
    "#Token =  project.Surrentum_v1\n",
    "print(Token)\n",
    "print(type(Token))\n",
    "print(Token.deploy)"
   ]
  },
  {
   "cell_type": "markdown",
   "id": "e19601b4",
   "metadata": {},
   "source": [
    "## Working with Accounts"
   ]
  },
  {
   "cell_type": "code",
   "execution_count": 6,
   "id": "11316a34",
   "metadata": {
    "ExecuteTime": {
     "end_time": "2023-01-15T21:51:09.928839Z",
     "start_time": "2023-01-15T21:51:09.897585Z"
    }
   },
   "outputs": [
    {
     "data": {
      "text/plain": [
       "[<Account '0x90F8bf6A479f320ead074411a4B0e7944Ea8c9C1'>,\n",
       " <Account '0xFFcf8FDEE72ac11b5c542428B35EEF5769C409f0'>,\n",
       " <Account '0x22d491Bde2303f2f43325b2108D26f1eAbA1e32b'>,\n",
       " <Account '0xE11BA2b4D45Eaed5996Cd0823791E0C93114882d'>,\n",
       " <Account '0xd03ea8624C8C5987235048901fB614fDcA89b117'>,\n",
       " <Account '0x95cED938F7991cd0dFcb48F0a06a40FA1aF46EBC'>,\n",
       " <Account '0x3E5e9111Ae8eB78Fe1CC3bb8915d5D461F3Ef9A9'>,\n",
       " <Account '0x28a8746e75304c0780E011BEd21C72cD78cd535E'>,\n",
       " <Account '0xACa94ef8bD5ffEE41947b4585a84BdA5a3d3DA6E'>,\n",
       " <Account '0x1dF62f291b2E969fB0849d99D9Ce41e2F137006e'>]"
      ]
     },
     "execution_count": 6,
     "metadata": {},
     "output_type": "execute_result"
    }
   ],
   "source": [
    "list(accounts)"
   ]
  },
  {
   "cell_type": "code",
   "execution_count": 7,
   "id": "44ce66f2",
   "metadata": {
    "ExecuteTime": {
     "end_time": "2023-01-15T21:51:10.773106Z",
     "start_time": "2023-01-15T21:51:10.748654Z"
    }
   },
   "outputs": [
    {
     "data": {
      "text/plain": [
       "<Account '0x90F8bf6A479f320ead074411a4B0e7944Ea8c9C1'>"
      ]
     },
     "execution_count": 7,
     "metadata": {},
     "output_type": "execute_result"
    }
   ],
   "source": [
    "accounts[0]"
   ]
  },
  {
   "cell_type": "code",
   "execution_count": 8,
   "id": "3d8e2c23",
   "metadata": {
    "ExecuteTime": {
     "end_time": "2023-01-15T21:51:13.287637Z",
     "start_time": "2023-01-15T21:51:13.111681Z"
    }
   },
   "outputs": [
    {
     "data": {
      "text/plain": [
       "915954042639958315000"
      ]
     },
     "execution_count": 8,
     "metadata": {},
     "output_type": "execute_result"
    }
   ],
   "source": [
    "accounts[0].balance()"
   ]
  },
  {
   "cell_type": "code",
   "execution_count": 9,
   "id": "4d4aa50a",
   "metadata": {
    "ExecuteTime": {
     "end_time": "2023-01-15T21:51:15.388873Z",
     "start_time": "2023-01-15T21:51:15.364199Z"
    }
   },
   "outputs": [
    {
     "data": {
      "text/plain": [
       "['address',\n",
       " 'balance',\n",
       " 'deploy',\n",
       " 'estimate_gas',\n",
       " 'gas_used',\n",
       " 'get_deployment_address',\n",
       " 'nonce',\n",
       " 'transfer']"
      ]
     },
     "execution_count": 9,
     "metadata": {},
     "output_type": "execute_result"
    }
   ],
   "source": [
    "w3ut.dir_(accounts[0])"
   ]
  },
  {
   "cell_type": "code",
   "execution_count": 10,
   "id": "dc10b5e8",
   "metadata": {
    "ExecuteTime": {
     "end_time": "2023-01-15T21:51:23.999668Z",
     "start_time": "2023-01-15T21:51:23.971199Z"
    }
   },
   "outputs": [
    {
     "name": "stdout",
     "output_type": "stream",
     "text": [
      "balance '0x90F8bf6A479f320ead074411a4B0e7944Ea8c9C1': 915.954042639958315 [ether]\n",
      "balance '0xFFcf8FDEE72ac11b5c542428B35EEF5769C409f0': 1067.86677828 [ether]\n"
     ]
    }
   ],
   "source": [
    "w3ut.print_balance(w3, accounts[0])\n",
    "w3ut.print_balance(w3, accounts[1])"
   ]
  },
  {
   "cell_type": "code",
   "execution_count": 12,
   "id": "4c819a7f",
   "metadata": {
    "ExecuteTime": {
     "end_time": "2023-01-15T21:52:31.251518Z",
     "start_time": "2023-01-15T21:52:31.220639Z"
    }
   },
   "outputs": [],
   "source": [
    "os.environ[\"ETHERSCAN_TOKEN\"]=\"4YRWQX6DB1TBBPTGRA4UU5CY2HY66M1QPE\"\n",
    "os.environ[\"WEB3_INFURA_PROJECT_ID\"]=\"9153e25e52de479881b1798e0a91318f\""
   ]
  },
  {
   "cell_type": "code",
   "execution_count": 13,
   "id": "f43e3f54",
   "metadata": {
    "ExecuteTime": {
     "end_time": "2023-01-15T21:52:34.127557Z",
     "start_time": "2023-01-15T21:52:33.830746Z"
    }
   },
   "outputs": [
    {
     "name": "stdout",
     "output_type": "stream",
     "text": [
      "gas_price=2 [Gwei]=3.10414e-06 [usd]\n"
     ]
    }
   ],
   "source": [
    "w3ut.print_gas_price(w3)"
   ]
  },
  {
   "cell_type": "code",
   "execution_count": 15,
   "id": "5c22b1f6",
   "metadata": {
    "ExecuteTime": {
     "end_time": "2023-01-15T21:53:26.272037Z",
     "start_time": "2023-01-15T21:53:26.245606Z"
    }
   },
   "outputs": [],
   "source": [
    "# From https://stackoverflow.com/questions/71341281/awaiting-transaction-in-the-mempool\n",
    "\n",
    "if True:\n",
    "    # In dev mode.\n",
    "    #from brownie.network import gas_price\n",
    "    #from brownie.network.gas.strategies import LinearScalingStrategy\n",
    "\n",
    "    import brownie.network.gas.strategies\n",
    "    gas_strategy = brownie.network.gas.strategies.LinearScalingStrategy(\"60 gwei\", \"70 gwei\", 1.1)\n",
    "\n",
    "    #if network.show_active() == \"development\":\n",
    "    brownie.network.gas_price(gas_strategy)"
   ]
  },
  {
   "cell_type": "markdown",
   "id": "3d741a6d",
   "metadata": {
    "ExecuteTime": {
     "end_time": "2022-12-20T20:50:44.676942Z",
     "start_time": "2022-12-20T20:50:44.537845Z"
    }
   },
   "source": [
    "## Deploy Token"
   ]
  },
  {
   "cell_type": "code",
   "execution_count": 16,
   "id": "2b8c342d",
   "metadata": {
    "ExecuteTime": {
     "end_time": "2023-01-15T21:53:29.940877Z",
     "start_time": "2023-01-15T21:53:29.783415Z"
    }
   },
   "outputs": [
    {
     "name": "stdout",
     "output_type": "stream",
     "text": [
      "<ContractConstructor 'Surrentum_v1.constructor()'>\n",
      "\r",
      "Transaction sent: \u001b[0;1;34m0xe311f05840e91366db10f3ede82d7c0433c284c9b66064b288a60e1cfa4fa0b2\u001b[0;m\n",
      "  Gas price: \u001b[0;1;34m60.0\u001b[0;m gwei   Gas limit: \u001b[0;1;34m30000000\u001b[0;m   Nonce: \u001b[0;1;34m9\u001b[0;m\n",
      "\r",
      "  Surrentum_v1.constructor confirmed   Block: \u001b[0;1;34m232\u001b[0;m   Gas used: \u001b[0;1;34m740592\u001b[0;m (\u001b[0;1;34m2.47%\u001b[0;m)\n",
      "  Surrentum_v1 deployed at: \u001b[0;1;34m0x3f3993D6a6cE7af16662fbCF2fc270683fC56345\u001b[0;m\n",
      "\n"
     ]
    }
   ],
   "source": [
    "# Deploy the contract from account 1.\n",
    "print(Token.deploy)\n",
    "if True:\n",
    "    token = Token.deploy({\"from\": accounts[1]})"
   ]
  },
  {
   "cell_type": "code",
   "execution_count": 17,
   "id": "7d41df31",
   "metadata": {
    "ExecuteTime": {
     "end_time": "2023-01-15T21:54:00.289513Z",
     "start_time": "2023-01-15T21:54:00.265770Z"
    }
   },
   "outputs": [
    {
     "name": "stdout",
     "output_type": "stream",
     "text": [
      "surr_addr_ganache= 0x3f3993D6a6cE7af16662fbCF2fc270683fC56345\n"
     ]
    }
   ],
   "source": [
    "# Get the contract address.\n",
    "surr_addr_ganache = token.address\n",
    "print(\"surr_addr_ganache=\", surr_addr_ganache)"
   ]
  },
  {
   "cell_type": "code",
   "execution_count": 19,
   "id": "d0274381",
   "metadata": {
    "ExecuteTime": {
     "end_time": "2023-01-15T21:54:11.541824Z",
     "start_time": "2023-01-15T21:54:11.445531Z"
    }
   },
   "outputs": [
    {
     "name": "stdout",
     "output_type": "stream",
     "text": [
      "balance '0x90F8bf6A479f320ead074411a4B0e7944Ea8c9C1': 0 [ether] SURRE\n",
      "balance '0xFFcf8FDEE72ac11b5c542428B35EEF5769C409f0': 10 [ether] SURRE\n"
     ]
    }
   ],
   "source": [
    "# Print the balance of the SURRE token.\n",
    "w3ut.print_balance(w3, accounts[0], token=token)\n",
    "w3ut.print_balance(w3, accounts[1], token=token)"
   ]
  },
  {
   "cell_type": "code",
   "execution_count": 20,
   "id": "079948cc",
   "metadata": {
    "ExecuteTime": {
     "end_time": "2023-01-15T21:54:13.324883Z",
     "start_time": "2023-01-15T21:54:13.301839Z"
    }
   },
   "outputs": [
    {
     "data": {
      "text/plain": [
       "<Surrentum_v1 Contract '0x3f3993D6a6cE7af16662fbCF2fc270683fC56345'>"
      ]
     },
     "execution_count": 20,
     "metadata": {},
     "output_type": "execute_result"
    }
   ],
   "source": [
    "token"
   ]
  },
  {
   "cell_type": "code",
   "execution_count": 21,
   "id": "085d7fe0",
   "metadata": {
    "ExecuteTime": {
     "end_time": "2023-01-15T21:54:17.556437Z",
     "start_time": "2023-01-15T21:54:17.532661Z"
    }
   },
   "outputs": [
    {
     "name": "stdout",
     "output_type": "stream",
     "text": [
      "<ContractTx 'transfer(address\u001b[0;1;34m to\u001b[0;m, uint256\u001b[0;1;34m amount\u001b[0;m)'>\n",
      "transfer(address\u001b[0;1;34m to\u001b[0;m, uint256\u001b[0;1;34m amount\u001b[0;m)\n",
      "  \u001b[0;1;35m@details \u001b[0;mSee {IERC20-transfer}. Requirements: - `to`\n",
      "           cannot be the zero address. - the caller must have a\n",
      "           balance of at least `amount`.\n",
      "\n"
     ]
    }
   ],
   "source": [
    "# Print the signature.\n",
    "print(token.transfer)\n",
    "\n",
    "# NatSpec.\n",
    "token.transfer.info()"
   ]
  },
  {
   "cell_type": "markdown",
   "id": "f9af45ad",
   "metadata": {
    "ExecuteTime": {
     "end_time": "2022-12-19T23:18:18.527980Z",
     "start_time": "2022-12-19T23:18:18.524089Z"
    }
   },
   "source": [
    "## Transactions"
   ]
  },
  {
   "cell_type": "code",
   "execution_count": 23,
   "id": "41b9d79d",
   "metadata": {
    "ExecuteTime": {
     "end_time": "2023-01-15T21:54:51.392227Z",
     "start_time": "2023-01-15T21:54:51.295273Z"
    }
   },
   "outputs": [
    {
     "name": "stdout",
     "output_type": "stream",
     "text": [
      "\r",
      "Transaction sent: \u001b[0;1;34m0xdc785c23b71f86eb08fbacb804f6636c79b9b3811d2bbfa2453d781ac63a6088\u001b[0;m\n",
      "  Gas price: \u001b[0;1;34m60.0\u001b[0;m gwei   Gas limit: \u001b[0;1;34m30000000\u001b[0;m   Nonce: \u001b[0;1;34m11\u001b[0;m\n",
      "\r",
      "  Surrentum_v1.transfer confirmed   Block: \u001b[0;1;34m234\u001b[0;m   Gas used: \u001b[0;1;34m34326\u001b[0;m (\u001b[0;1;34m0.11%\u001b[0;m)\n",
      "\n"
     ]
    }
   ],
   "source": [
    "# Transfer SURRE token from account 1 to account 0.\n",
    "tx = token.transfer(accounts[0], \"1 ether\", {'from': accounts[1]})"
   ]
  },
  {
   "cell_type": "code",
   "execution_count": 28,
   "id": "b14bd349",
   "metadata": {
    "ExecuteTime": {
     "end_time": "2023-01-15T21:56:53.672330Z",
     "start_time": "2023-01-15T21:56:53.639375Z"
    }
   },
   "outputs": [
    {
     "name": "stdout",
     "output_type": "stream",
     "text": [
      "[\"<class 'brownie.network.transaction.TransactionReceipt'>\", 'block_number', 'call_trace', 'confirmations', 'contract_address', 'contract_name', 'coverage_hash', 'dev_revert_msg', 'error', 'events', 'fn_name', 'gas_limit', 'gas_price', 'gas_used', 'info', 'input', 'internal_transfers', 'logs', 'max_fee', 'modified_state', 'new_contracts', 'nonce', 'priority_fee', 'receiver', 'replace', 'return_value', 'revert_msg', 'sender', 'source', 'status', 'subcalls', 'timestamp', 'trace', 'traceback', 'txid', 'txindex', 'type', 'value', 'wait']\n"
     ]
    }
   ],
   "source": [
    "# Print Python interfact of transaction object.\n",
    "print(w3ut.dir_(tx))"
   ]
  },
  {
   "cell_type": "code",
   "execution_count": 31,
   "id": "f9117447",
   "metadata": {
    "ExecuteTime": {
     "end_time": "2023-01-15T21:57:21.787547Z",
     "start_time": "2023-01-15T21:57:21.738461Z"
    }
   },
   "outputs": [
    {
     "name": "stdout",
     "output_type": "stream",
     "text": [
      "<Transaction '\u001b[0;m0xdc785c23b71f86eb08fbacb804f6636c79b9b3811d2bbfa2453d781ac63a6088\u001b[0;m'>\n",
      "status=\n",
      "Status.Confirmed\n",
      "Transaction was Mined \n",
      "---------------------\n",
      "Tx Hash: \u001b[34m0xdc785c23b71f86eb08fbacb804f6636c79b9b3811d2bbfa2453d781ac63a6088\u001b[39;49;00m\n",
      "From: \u001b[34m0xFFcf8FDEE72ac11b5c542428B35EEF5769C409f0\u001b[39;49;00m\n",
      "To: \u001b[34m0x3f3993D6a6cE7af16662fbCF2fc270683fC56345\u001b[39;49;00m\n",
      "Value: \u001b[34m0\u001b[39;49;00m\n",
      "Function: Surrentum_v1.transfer\n",
      "Block: \u001b[34m234\u001b[39;49;00m\n",
      "Gas Used: \u001b[34m34326\u001b[39;49;00m / \u001b[34m30000000\u001b[39;49;00m (\u001b[34m0.1\u001b[39;49;00m%)\n",
      "\n",
      "Events In This Transaction\n",
      "--------------------------\n",
      "\u001b[04m\u001b[91m└\u001b[39;49;00m\u001b[04m\u001b[91m─\u001b[39;49;00m\u001b[04m\u001b[91m─\u001b[39;49;00m Surrentum Utility Token v1 (\u001b[34m0x3f3993D6a6cE7af16662fbCF2fc270683fC56345\u001b[39;49;00m)\n",
      "    \u001b[04m\u001b[91m└\u001b[39;49;00m\u001b[04m\u001b[91m─\u001b[39;49;00m\u001b[04m\u001b[91m─\u001b[39;49;00m Transfer\n",
      "        \u001b[04m\u001b[91m├\u001b[39;49;00m\u001b[04m\u001b[91m─\u001b[39;49;00m\u001b[04m\u001b[91m─\u001b[39;49;00m from: \u001b[34m0xFFcf8FDEE72ac11b5c542428B35EEF5769C409f0\u001b[39;49;00m\n",
      "        \u001b[04m\u001b[91m├\u001b[39;49;00m\u001b[04m\u001b[91m─\u001b[39;49;00m\u001b[04m\u001b[91m─\u001b[39;49;00m to: \u001b[34m0x90F8bf6A479f320ead074411a4B0e7944Ea8c9C1\u001b[39;49;00m\n",
      "        \u001b[04m\u001b[91m└\u001b[39;49;00m\u001b[04m\u001b[91m─\u001b[39;49;00m\u001b[04m\u001b[91m─\u001b[39;49;00m value: \u001b[34m1000000000000000000\u001b[39;49;00m\n",
      "\n",
      "tx.info= None\n"
     ]
    }
   ],
   "source": [
    "print(tx)\n",
    "print(\"status=\\n%s\" % tx.status)\n",
    "print(\"tx.info=\", tx.info())"
   ]
  },
  {
   "cell_type": "code",
   "execution_count": 34,
   "id": "57771b8b",
   "metadata": {
    "ExecuteTime": {
     "end_time": "2023-01-15T21:57:54.345705Z",
     "start_time": "2023-01-15T21:57:54.251711Z"
    }
   },
   "outputs": [
    {
     "name": "stdout",
     "output_type": "stream",
     "text": [
      "balance '0x90F8bf6A479f320ead074411a4B0e7944Ea8c9C1': 2 [ether] SURRE\n",
      "balance '0xFFcf8FDEE72ac11b5c542428B35EEF5769C409f0': 8 [ether] SURRE\n"
     ]
    }
   ],
   "source": [
    "# Print the balance of the SURRE token.\n",
    "w3ut.print_balance(w3, accounts[0], token=token)\n",
    "w3ut.print_balance(w3, accounts[1], token=token)"
   ]
  },
  {
   "cell_type": "code",
   "execution_count": 35,
   "id": "50261f0a",
   "metadata": {
    "ExecuteTime": {
     "end_time": "2023-01-15T21:58:02.748541Z",
     "start_time": "2023-01-15T21:58:02.682254Z"
    }
   },
   "outputs": [
    {
     "data": {
      "text/plain": [
       "True"
      ]
     },
     "execution_count": 35,
     "metadata": {},
     "output_type": "execute_result"
    }
   ],
   "source": [
    "token.transfer.call(accounts[0], \"1 ether\", {'from': accounts[1]})"
   ]
  },
  {
   "cell_type": "code",
   "execution_count": 36,
   "id": "b5b90015",
   "metadata": {
    "ExecuteTime": {
     "end_time": "2023-01-15T21:58:27.172664Z",
     "start_time": "2023-01-15T21:58:27.077604Z"
    }
   },
   "outputs": [
    {
     "name": "stdout",
     "output_type": "stream",
     "text": [
      "balance '0x90F8bf6A479f320ead074411a4B0e7944Ea8c9C1': 2 [ether] SURRE\n",
      "balance '0xFFcf8FDEE72ac11b5c542428B35EEF5769C409f0': 8 [ether] SURRE\n"
     ]
    }
   ],
   "source": [
    "# Print the balance of the SURRE token.\n",
    "w3ut.print_balance(w3, accounts[0], token=token)\n",
    "w3ut.print_balance(w3, accounts[1], token=token)"
   ]
  },
  {
   "cell_type": "code",
   "execution_count": 37,
   "id": "464d99b7",
   "metadata": {
    "ExecuteTime": {
     "end_time": "2023-01-15T21:58:31.308841Z",
     "start_time": "2023-01-15T21:58:31.156895Z"
    }
   },
   "outputs": [
    {
     "name": "stdout",
     "output_type": "stream",
     "text": [
      "\r",
      "Transaction sent: \u001b[0;1;34m0x60ac5ee580ffb664883f89d043044b4ef725819acea329d4029405e1373bc3e1\u001b[0;m\n",
      "  Gas price: \u001b[0;1;34m60.0\u001b[0;m gwei   Gas limit: \u001b[0;1;34m30000000\u001b[0;m   Nonce: \u001b[0;1;34m35\u001b[0;m\n",
      "\r",
      "Transaction sent: \u001b[0;1;34m0x6c4c25c33af942389bffe477c3f1b18dabd54f12c9164484500b3caaa560baa4\u001b[0;m\n",
      "  Gas price: \u001b[0;1;34m60.0\u001b[0;m gwei   Gas limit: \u001b[0;1;34m30000000\u001b[0;m   Nonce: \u001b[0;1;34m36\u001b[0;m\n",
      "\r",
      "Transaction sent: \u001b[0;1;34m0x623861ff761a3de61e18e40e77d855c73a4c1976f816adfdb6da3d7d4dc985a0\u001b[0;m\n",
      "  Gas price: \u001b[0;1;34m60.0\u001b[0;m gwei   Gas limit: \u001b[0;1;34m30000000\u001b[0;m   Nonce: \u001b[0;1;34m37\u001b[0;m\n"
     ]
    },
    {
     "data": {
      "text/plain": [
       "[<Status.Confirmed: 1>, <Status.Confirmed: 1>, <Status.Pending: -1>]"
      ]
     },
     "execution_count": 37,
     "metadata": {},
     "output_type": "execute_result"
    }
   ],
   "source": [
    "# Non-blocking transactions.\n",
    "transactions = [\n",
    "    accounts[0].transfer(accounts[i], \"1 ether\", required_confs=0)\n",
    "    for i in range(1, 4)\n",
    "]\n",
    "[tx.status for tx in transactions]"
   ]
  },
  {
   "cell_type": "code",
   "execution_count": 42,
   "id": "7a2a74fa",
   "metadata": {
    "ExecuteTime": {
     "end_time": "2023-01-15T21:58:34.113138Z",
     "start_time": "2023-01-15T21:58:34.090752Z"
    }
   },
   "outputs": [
    {
     "data": {
      "text/plain": [
       "[<Status.Confirmed: 1>, <Status.Confirmed: 1>, <Status.Confirmed: 1>]"
      ]
     },
     "execution_count": 42,
     "metadata": {},
     "output_type": "execute_result"
    }
   ],
   "source": [
    "[tx.status for tx in transactions]"
   ]
  },
  {
   "cell_type": "code",
   "execution_count": 48,
   "id": "89b04350",
   "metadata": {
    "ExecuteTime": {
     "end_time": "2023-01-15T21:59:01.913492Z",
     "start_time": "2023-01-15T21:59:01.754283Z"
    }
   },
   "outputs": [
    {
     "name": "stdout",
     "output_type": "stream",
     "text": [
      "balance '0x90F8bf6A479f320ead074411a4B0e7944Ea8c9C1': 2 [ether] SURRE\n",
      "balance '0xFFcf8FDEE72ac11b5c542428B35EEF5769C409f0': 8 [ether] SURRE\n",
      "balance '0x22d491Bde2303f2f43325b2108D26f1eAbA1e32b': 0 [ether] SURRE\n",
      "balance '0xE11BA2b4D45Eaed5996Cd0823791E0C93114882d': 0 [ether] SURRE\n"
     ]
    }
   ],
   "source": [
    "for i in range(0, 4):\n",
    "    w3ut.print_balance(w3, accounts[i], token=token)"
   ]
  },
  {
   "cell_type": "markdown",
   "id": "5499f7c4",
   "metadata": {
    "ExecuteTime": {
     "end_time": "2022-12-19T23:35:35.628878Z",
     "start_time": "2022-12-19T23:35:35.624826Z"
    }
   },
   "source": [
    "## Accessing transaction data"
   ]
  },
  {
   "cell_type": "code",
   "execution_count": 49,
   "id": "48749ec6",
   "metadata": {
    "ExecuteTime": {
     "end_time": "2023-01-15T21:59:05.498977Z",
     "start_time": "2023-01-15T21:59:05.476758Z"
    }
   },
   "outputs": [
    {
     "data": {
      "text/plain": [
       "[<Transaction '\u001b[0;m0xe311f05840e91366db10f3ede82d7c0433c284c9b66064b288a60e1cfa4fa0b2\u001b[0;m'>,\n",
       " <Transaction '\u001b[0;m0x8d2552191b3c37ff18fe68c86b5e4faf0fbddfc0171856948dbc323f6800fbbd\u001b[0;m'>,\n",
       " <Transaction '\u001b[0;m0xdc785c23b71f86eb08fbacb804f6636c79b9b3811d2bbfa2453d781ac63a6088\u001b[0;m'>,\n",
       " <Transaction '\u001b[0;m0x60ac5ee580ffb664883f89d043044b4ef725819acea329d4029405e1373bc3e1\u001b[0;m'>,\n",
       " <Transaction '\u001b[0;m0x6c4c25c33af942389bffe477c3f1b18dabd54f12c9164484500b3caaa560baa4\u001b[0;m'>,\n",
       " <Transaction '\u001b[0;m0x623861ff761a3de61e18e40e77d855c73a4c1976f816adfdb6da3d7d4dc985a0\u001b[0;m'>]"
      ]
     },
     "execution_count": 49,
     "metadata": {},
     "output_type": "execute_result"
    }
   ],
   "source": [
    "# transactions broadcasted during the current session.\n",
    "list(history)"
   ]
  },
  {
   "cell_type": "code",
   "execution_count": 50,
   "id": "622e1ed8",
   "metadata": {
    "ExecuteTime": {
     "end_time": "2023-01-15T21:59:06.965571Z",
     "start_time": "2023-01-15T21:59:06.912826Z"
    }
   },
   "outputs": [
    {
     "name": "stdout",
     "output_type": "stream",
     "text": [
      "0xe311f05840e91366db10f3ede82d7c0433c284c9b66064b288a60e1cfa4fa0b2\n",
      "Transaction was Mined \n",
      "---------------------\n",
      "Tx Hash: \u001b[34m0xe311f05840e91366db10f3ede82d7c0433c284c9b66064b288a60e1cfa4fa0b2\u001b[39;49;00m\n",
      "From: \u001b[34m0xFFcf8FDEE72ac11b5c542428B35EEF5769C409f0\u001b[39;49;00m\n",
      "New Surrentum_v1 address: \u001b[34m0x3f3993D6a6cE7af16662fbCF2fc270683fC56345\u001b[39;49;00m\n",
      "Block: \u001b[34m232\u001b[39;49;00m\n",
      "Gas Used: \u001b[34m740592\u001b[39;49;00m / \u001b[34m30000000\u001b[39;49;00m (\u001b[34m2.5\u001b[39;49;00m%)\n",
      "\n",
      "Events In This Transaction\n",
      "--------------------------\n",
      "\u001b[04m\u001b[91m└\u001b[39;49;00m\u001b[04m\u001b[91m─\u001b[39;49;00m\u001b[04m\u001b[91m─\u001b[39;49;00m Surrentum Utility Token v1 (\u001b[34m0x3f3993D6a6cE7af16662fbCF2fc270683fC56345\u001b[39;49;00m)\n",
      "    \u001b[04m\u001b[91m├\u001b[39;49;00m\u001b[04m\u001b[91m─\u001b[39;49;00m\u001b[04m\u001b[91m─\u001b[39;49;00m OwnershipTransferred\n",
      "    \u001b[04m\u001b[91m│\u001b[39;49;00m   \u001b[04m\u001b[91m├\u001b[39;49;00m\u001b[04m\u001b[91m─\u001b[39;49;00m\u001b[04m\u001b[91m─\u001b[39;49;00m previousOwner: \u001b[34m0x0000000000000000000000000000000000000000\u001b[39;49;00m\n",
      "    \u001b[04m\u001b[91m│\u001b[39;49;00m   \u001b[04m\u001b[91m└\u001b[39;49;00m\u001b[04m\u001b[91m─\u001b[39;49;00m\u001b[04m\u001b[91m─\u001b[39;49;00m newOwner: \u001b[34m0xFFcf8FDEE72ac11b5c542428B35EEF5769C409f0\u001b[39;49;00m\n",
      "    \u001b[04m\u001b[91m└\u001b[39;49;00m\u001b[04m\u001b[91m─\u001b[39;49;00m\u001b[04m\u001b[91m─\u001b[39;49;00m Transfer\n",
      "        \u001b[04m\u001b[91m├\u001b[39;49;00m\u001b[04m\u001b[91m─\u001b[39;49;00m\u001b[04m\u001b[91m─\u001b[39;49;00m from: \u001b[34m0x0000000000000000000000000000000000000000\u001b[39;49;00m\n",
      "        \u001b[04m\u001b[91m├\u001b[39;49;00m\u001b[04m\u001b[91m─\u001b[39;49;00m\u001b[04m\u001b[91m─\u001b[39;49;00m to: \u001b[34m0xFFcf8FDEE72ac11b5c542428B35EEF5769C409f0\u001b[39;49;00m\n",
      "        \u001b[04m\u001b[91m└\u001b[39;49;00m\u001b[04m\u001b[91m─\u001b[39;49;00m\u001b[04m\u001b[91m─\u001b[39;49;00m value: \u001b[34m10000000000000000000\u001b[39;49;00m\n",
      "\n",
      "None\n"
     ]
    }
   ],
   "source": [
    "#dir(history[0])\n",
    "\n",
    "tx_id = str(history[0].txid)\n",
    "print(tx_id)\n",
    "tx = chain.get_transaction(tx_id)\n",
    "print(tx.info())"
   ]
  },
  {
   "cell_type": "markdown",
   "id": "f06a3b59",
   "metadata": {
    "ExecuteTime": {
     "end_time": "2022-12-19T23:40:12.851557Z",
     "start_time": "2022-12-19T23:40:12.848001Z"
    }
   },
   "source": [
    "## Inspecting and debugging transactions"
   ]
  },
  {
   "cell_type": "code",
   "execution_count": 51,
   "id": "62c3768c",
   "metadata": {
    "ExecuteTime": {
     "end_time": "2023-01-15T21:59:12.186710Z",
     "start_time": "2023-01-15T21:59:12.097140Z"
    }
   },
   "outputs": [
    {
     "name": "stdout",
     "output_type": "stream",
     "text": [
      "\r",
      "Transaction sent: \u001b[0;1;34m0xc0385b7e5078fb69a8b22d3c5afcf6db81b05f6943a336bf8576432d85553188\u001b[0;m\n",
      "  Gas price: \u001b[0;1;34m60.0\u001b[0;m gwei   Gas limit: \u001b[0;1;34m30000000\u001b[0;m   Nonce: \u001b[0;1;34m12\u001b[0;m\n"
     ]
    }
   ],
   "source": [
    "tx = Token[0].transfer(accounts[1], 100e18, {'from': accounts[1], \"required_confs\": 0})"
   ]
  },
  {
   "cell_type": "code",
   "execution_count": 52,
   "id": "33d913f1",
   "metadata": {
    "ExecuteTime": {
     "end_time": "2023-01-15T21:59:13.683436Z",
     "start_time": "2023-01-15T21:59:13.660491Z"
    }
   },
   "outputs": [
    {
     "data": {
      "text/plain": [
       "<Status.Reverted: 0>"
      ]
     },
     "execution_count": 52,
     "metadata": {},
     "output_type": "execute_result"
    }
   ],
   "source": [
    "tx.status"
   ]
  },
  {
   "cell_type": "code",
   "execution_count": 53,
   "id": "2a561315",
   "metadata": {
    "ExecuteTime": {
     "end_time": "2023-01-15T21:59:14.544304Z",
     "start_time": "2023-01-15T21:59:14.523218Z"
    }
   },
   "outputs": [],
   "source": [
    "#tx.revert_msg"
   ]
  },
  {
   "cell_type": "code",
   "execution_count": 55,
   "id": "8e5766f5",
   "metadata": {
    "ExecuteTime": {
     "end_time": "2023-01-15T21:59:19.792774Z",
     "start_time": "2023-01-15T21:59:19.770231Z"
    }
   },
   "outputs": [],
   "source": [
    "#tx.info()"
   ]
  },
  {
   "cell_type": "code",
   "execution_count": 56,
   "id": "8ffa2fa9",
   "metadata": {
    "ExecuteTime": {
     "end_time": "2023-01-15T21:59:20.628349Z",
     "start_time": "2023-01-15T21:59:20.606299Z"
    }
   },
   "outputs": [
    {
     "data": {
      "text/plain": [
       "{}"
      ]
     },
     "execution_count": 56,
     "metadata": {},
     "output_type": "execute_result"
    }
   ],
   "source": [
    "tx.events"
   ]
  },
  {
   "cell_type": "code",
   "execution_count": null,
   "id": "37d87f0d",
   "metadata": {
    "ExecuteTime": {
     "end_time": "2023-01-15T21:47:28.622683Z",
     "start_time": "2023-01-15T21:47:28.622666Z"
    }
   },
   "outputs": [],
   "source": [
    "#tx.traceback()"
   ]
  },
  {
   "cell_type": "markdown",
   "id": "67349168",
   "metadata": {
    "ExecuteTime": {
     "end_time": "2022-12-19T23:51:45.591647Z",
     "start_time": "2022-12-19T23:51:45.588252Z"
    }
   },
   "source": [
    "# Networks and deployment"
   ]
  },
  {
   "cell_type": "code",
   "execution_count": null,
   "id": "dd475e85",
   "metadata": {
    "ExecuteTime": {
     "end_time": "2023-01-15T21:47:28.624704Z",
     "start_time": "2023-01-15T21:47:28.624686Z"
    }
   },
   "outputs": [],
   "source": [
    "net = 'goerli'\n",
    "w3 = w3ut.connect_to_brownie(brownie_project_dir, net)"
   ]
  },
  {
   "cell_type": "code",
   "execution_count": null,
   "id": "bf329bcc",
   "metadata": {
    "ExecuteTime": {
     "end_time": "2023-01-15T21:47:28.625797Z",
     "start_time": "2023-01-15T21:47:28.625780Z"
    }
   },
   "outputs": [],
   "source": [
    "list(accounts)"
   ]
  },
  {
   "cell_type": "code",
   "execution_count": null,
   "id": "7adce5b7",
   "metadata": {
    "ExecuteTime": {
     "end_time": "2023-01-15T21:47:28.629268Z",
     "start_time": "2023-01-15T21:47:28.629251Z"
    }
   },
   "outputs": [],
   "source": [
    "# cp /data/tutorial_brownie/proj_files/goerli.json /root/.brownie/accounts/goerli.json\n",
    "accounts.load('goerli')\n",
    "\n",
    "account = accounts[0]\n",
    "print(account)"
   ]
  },
  {
   "cell_type": "markdown",
   "id": "9f8f296b",
   "metadata": {},
   "source": [
    "## Connect to blockchain"
   ]
  },
  {
   "cell_type": "code",
   "execution_count": null,
   "id": "bb45e571",
   "metadata": {
    "ExecuteTime": {
     "end_time": "2023-01-15T21:47:28.631422Z",
     "start_time": "2023-01-15T21:47:28.631405Z"
    }
   },
   "outputs": [],
   "source": [
    "!curl --url https://goerli.infura.io/v3/$WEB3_INFURA_PROJECT_ID -X POST -H \"Content-Type: application/json\" -d '{\"jsonrpc\":\"2.0\",\"method\":\"eth_blockNumber\",\"params\":[],\"id\":1}'"
   ]
  },
  {
   "cell_type": "code",
   "execution_count": null,
   "id": "a603a2e1",
   "metadata": {
    "ExecuteTime": {
     "end_time": "2023-01-15T21:47:28.633724Z",
     "start_time": "2023-01-15T21:47:28.633707Z"
    }
   },
   "outputs": [],
   "source": [
    "# Test Infura key.\n",
    "import os\n",
    "import web3\n",
    "\n",
    "infura_key = os.environ[\"WEB3_INFURA_PROJECT_ID\"]\n",
    "\n",
    "infura_url = f\"https://goerli.infura.io/v3/{infura_key}\"\n",
    "w3 = web3.Web3(web3.Web3.HTTPProvider(infura_url))\n",
    "print(\"isConnected=\", w3.isConnected())"
   ]
  },
  {
   "cell_type": "code",
   "execution_count": null,
   "id": "e53282b2",
   "metadata": {
    "ExecuteTime": {
     "end_time": "2023-01-15T21:47:28.635737Z",
     "start_time": "2023-01-15T21:47:28.635721Z"
    }
   },
   "outputs": [],
   "source": [
    "w3ut.print_balance(w3, account)"
   ]
  },
  {
   "cell_type": "markdown",
   "id": "a76afd19",
   "metadata": {},
   "source": [
    "## Deploy token"
   ]
  },
  {
   "cell_type": "code",
   "execution_count": null,
   "id": "89b9bbe6",
   "metadata": {
    "ExecuteTime": {
     "end_time": "2023-01-15T21:47:28.638843Z",
     "start_time": "2023-01-15T21:47:28.638827Z"
    }
   },
   "outputs": [],
   "source": [
    "if False:\n",
    "    # Deploy Token contract from one account.\n",
    "    token = Token.deploy({\"from\": account}, publish_source=True)"
   ]
  },
  {
   "cell_type": "code",
   "execution_count": null,
   "id": "c7e9aef7",
   "metadata": {
    "ExecuteTime": {
     "end_time": "2023-01-15T21:47:28.641853Z",
     "start_time": "2023-01-15T21:47:28.641829Z"
    }
   },
   "outputs": [],
   "source": [
    "surr_addr = \"0xBD34d0472A783D0849D981052327e6c6544E90C5\"\n",
    "#surr_addr = \"0x2fFF61848990F4C54373476B90b1C1268EF8c229\"\n",
    "surr_tx = \"0x62f8c551f962322e1af638768ad116bd6a3efed0f795ae4d606e09e35636f713\"\n",
    "w3ut.print_tx(surr_tx)"
   ]
  },
  {
   "cell_type": "code",
   "execution_count": null,
   "id": "97dd07fa",
   "metadata": {
    "ExecuteTime": {
     "end_time": "2023-01-15T21:47:28.644745Z",
     "start_time": "2023-01-15T21:47:28.644727Z"
    }
   },
   "outputs": [],
   "source": [
    "abi_file = f\"{brownie_project_dir}/build/contracts/Surrentum_v1.json\"\n",
    "import json\n",
    "f = open(abi_file)\n",
    "abi = json.load(f)[\"abi\"]"
   ]
  },
  {
   "cell_type": "code",
   "execution_count": null,
   "id": "56959ade",
   "metadata": {
    "ExecuteTime": {
     "end_time": "2023-01-15T21:47:28.649999Z",
     "start_time": "2023-01-15T21:47:28.649914Z"
    }
   },
   "outputs": [],
   "source": [
    "print(surr_addr)\n",
    "contract = w3.eth.contract(address=surr_addr, abi=abi)"
   ]
  },
  {
   "cell_type": "code",
   "execution_count": null,
   "id": "16f59ba0",
   "metadata": {
    "ExecuteTime": {
     "end_time": "2023-01-15T21:47:28.652054Z",
     "start_time": "2023-01-15T21:47:28.652022Z"
    }
   },
   "outputs": [],
   "source": [
    "w3ut.print_balance(w3, account, token=contract)"
   ]
  },
  {
   "cell_type": "code",
   "execution_count": null,
   "id": "ecf26ef6",
   "metadata": {
    "ExecuteTime": {
     "end_time": "2023-01-15T21:47:28.655043Z",
     "start_time": "2023-01-15T21:47:28.655017Z"
    }
   },
   "outputs": [],
   "source": [
    "# Print the interface of the Eth contract.\n",
    "contract.functions.__dict__.keys()"
   ]
  },
  {
   "cell_type": "code",
   "execution_count": null,
   "id": "15e4de54",
   "metadata": {
    "ExecuteTime": {
     "end_time": "2023-01-15T21:47:28.658081Z",
     "start_time": "2023-01-15T21:47:28.658064Z"
    }
   },
   "outputs": [],
   "source": [
    "print(\"name=\", contract.functions.name().call())\n",
    "print(\"symbol=\", contract.functions.symbol().call())\n",
    "totalSupply = contract.functions.totalSupply().call()\n",
    "print(\"totalSupply=\", w3.fromWei(totalSupply, 'ether'))"
   ]
  },
  {
   "cell_type": "markdown",
   "id": "3fb46943",
   "metadata": {},
   "source": [
    "# Send SURR"
   ]
  },
  {
   "cell_type": "code",
   "execution_count": null,
   "id": "0741aac8",
   "metadata": {
    "ExecuteTime": {
     "end_time": "2023-01-15T21:47:28.659490Z",
     "start_time": "2023-01-15T21:47:28.659474Z"
    }
   },
   "outputs": [],
   "source": [
    "src_account = str(account)\n",
    "print(\"src_account=\", src_account)\n",
    "w3ut.print_balance(w3, src_account, token=contract)\n",
    "w3ut.print_balance(w3, src_account)"
   ]
  },
  {
   "cell_type": "code",
   "execution_count": null,
   "id": "672985db",
   "metadata": {
    "ExecuteTime": {
     "end_time": "2023-01-15T21:47:28.663653Z",
     "start_time": "2023-01-15T21:47:28.663635Z"
    }
   },
   "outputs": [],
   "source": [
    "#w3ut.dir_(w3.eth.account)"
   ]
  },
  {
   "cell_type": "code",
   "execution_count": null,
   "id": "e4e76281",
   "metadata": {
    "ExecuteTime": {
     "end_time": "2023-01-15T21:47:28.665526Z",
     "start_time": "2023-01-15T21:47:28.665509Z"
    }
   },
   "outputs": [],
   "source": [
    "dst_account = \"0xA8785E587809ef7217956d88ec4266FeAfb8DFcA\"\n",
    "# Grisha\n",
    "#dst_account = \"0x855Da94Db7d3A843e53b7728958A49423543F871\"\n",
    "print(\"dst_account=\", dst_account)\n",
    "\n",
    "w3ut.print_balance(w3, dst_account, token=contract)\n",
    "w3ut.print_balance(w3, dst_account)"
   ]
  },
  {
   "cell_type": "code",
   "execution_count": null,
   "id": "b19eb22a",
   "metadata": {
    "ExecuteTime": {
     "end_time": "2023-01-15T21:47:28.667445Z",
     "start_time": "2023-01-15T21:47:28.667429Z"
    },
    "scrolled": false
   },
   "outputs": [],
   "source": [
    "# This doesn't work on Infura.\n",
    "if True:\n",
    "    eth = w3.toWei(0.01, \"ether\")\n",
    "    w3.eth.default_account = src_account\n",
    "    #contract.functions.transfer(dst_account, eth).transact({'from': src_account})\n",
    "    contract.functions.transfer(dst_account, eth).transact()"
   ]
  },
  {
   "cell_type": "code",
   "execution_count": null,
   "id": "abf18e29",
   "metadata": {
    "ExecuteTime": {
     "end_time": "2023-01-15T21:47:28.670212Z",
     "start_time": "2023-01-15T21:47:28.670196Z"
    }
   },
   "outputs": [],
   "source": [
    "print(w3.eth.gas_price)"
   ]
  },
  {
   "cell_type": "code",
   "execution_count": null,
   "id": "cf850991",
   "metadata": {
    "ExecuteTime": {
     "end_time": "2023-01-15T21:47:28.672439Z",
     "start_time": "2023-01-15T21:47:28.672416Z"
    }
   },
   "outputs": [],
   "source": [
    "#priv_key1 = \"0x4f3edf983ac636a65a842ce7c78d9aa706d3b113bce9c46f30d7d21715b23b1d\"\n",
    "\n",
    "# Send Eth from account1 to 2.\n",
    "nonce = w3.eth.getTransactionCount(src_account)\n",
    "print(\"nonce=\", nonce)\n",
    "\n",
    "eth = w3.toWei(0.02, \"ether\")\n",
    "tx = contract.functions.transfer(\n",
    "    dst_account,\n",
    "    eth,\n",
    ").build_transaction({\n",
    "    #'chainId': 1,\n",
    "    #'gas': 70000,\n",
    "    #'maxFeePerGas': w3.toWei('100', 'gwei'),\n",
    "    #'maxPriorityFeePerGas': w3.toWei('1', 'gwei'),\n",
    "    \"gasPrice\": w3.eth.gas_price,\n",
    "    \"gas\": 100000,\n",
    "    'nonce': nonce,\n",
    "})\n",
    "print(\"tx=\", tx)\n",
    "\n",
    "signed_tx = w3.eth.account.signTransaction(tx, account.private_key)\n",
    "print(\"signed_tx=\", signed_tx)\n",
    "\n",
    "tx_hash = w3.eth.sendRawTransaction(signed_tx.rawTransaction)\n",
    "print(\"tx_hash=\", tx_hash)"
   ]
  },
  {
   "cell_type": "code",
   "execution_count": null,
   "id": "3e11424d",
   "metadata": {
    "ExecuteTime": {
     "end_time": "2023-01-15T21:47:28.675431Z",
     "start_time": "2023-01-15T21:47:28.675415Z"
    }
   },
   "outputs": [],
   "source": [
    "#dir(tx)"
   ]
  },
  {
   "cell_type": "code",
   "execution_count": null,
   "id": "53339a3a",
   "metadata": {
    "ExecuteTime": {
     "end_time": "2023-01-15T21:47:28.677417Z",
     "start_time": "2023-01-15T21:47:28.677400Z"
    }
   },
   "outputs": [],
   "source": [
    "#w3ut.print_tx(tx)\n",
    "print(tx_hash)\n",
    "tx = chain.get_transaction(tx_hash)\n",
    "print(tx.info())\n",
    "print(tx.status)"
   ]
  },
  {
   "cell_type": "markdown",
   "id": "cb40c597",
   "metadata": {},
   "source": [
    "# Uniswap"
   ]
  },
  {
   "cell_type": "code",
   "execution_count": null,
   "id": "d463237d",
   "metadata": {
    "ExecuteTime": {
     "end_time": "2023-01-15T21:47:28.681315Z",
     "start_time": "2023-01-15T21:47:28.681283Z"
    }
   },
   "outputs": [],
   "source": [
    "#!pip install uniswap-python"
   ]
  },
  {
   "cell_type": "code",
   "execution_count": null,
   "id": "ffbf34f8",
   "metadata": {
    "ExecuteTime": {
     "end_time": "2023-01-15T21:47:28.683218Z",
     "start_time": "2023-01-15T21:47:28.683202Z"
    }
   },
   "outputs": [],
   "source": [
    "from uniswap import Uniswap\n",
    "\n",
    "# \"YOUR ADDRESS\"          # or None if you're not going to make transactions\n",
    "address = src_account\n",
    "# \"YOUR PRIVATE KEY\"  # or None if you're not going to make transactions\n",
    "private_key = account.private_key\n",
    "# specify which version of Uniswap to use\n",
    "version = 3\n",
    "# \"WEB3 PROVIDER URL\"    # can also be set through the environment variable `PROVIDER`\n",
    "provider = infura_url\n",
    "uniswap = Uniswap(address=address, private_key=private_key, version=version, provider=provider)\n",
    "\n",
    "# Some token addresses we'll be using later in this guide\n",
    "eth = \"0x0000000000000000000000000000000000000000\"\n",
    "#bat = \"0x0D8775F648430679A709E98d2b0Cb6250d2887EF\"\n",
    "bat = \"0x70cba46d2e933030e2f274ae58c951c800548aef\"  # On Goerli.\n",
    "#dai = \"0x6B175474E89094C44Da98b954EedeAC495271d0F\"\n",
    "dai = \"0xdc31ee1784292379fbb2964b3b9c4124d8f89c60\"  # On Goerli"
   ]
  },
  {
   "cell_type": "code",
   "execution_count": null,
   "id": "cfc809e0",
   "metadata": {
    "ExecuteTime": {
     "end_time": "2023-01-15T21:47:28.686916Z",
     "start_time": "2023-01-15T21:47:28.686900Z"
    }
   },
   "outputs": [],
   "source": [
    "#uniswap.get_price_input(eth, dai, 10**18)"
   ]
  },
  {
   "cell_type": "code",
   "execution_count": null,
   "id": "ee0285f6",
   "metadata": {
    "ExecuteTime": {
     "end_time": "2023-01-15T21:47:28.688704Z",
     "start_time": "2023-01-15T21:47:28.688404Z"
    }
   },
   "outputs": [],
   "source": [
    "#uniswap.get_price_output(eth, dai, 1_000 * 10**18)"
   ]
  },
  {
   "cell_type": "code",
   "execution_count": null,
   "id": "97a0225e",
   "metadata": {
    "ExecuteTime": {
     "end_time": "2023-01-15T21:47:28.690648Z",
     "start_time": "2023-01-15T21:47:28.690631Z"
    }
   },
   "outputs": [],
   "source": [
    "#uniswap.get_token(eth)\n",
    "#uniswap.get_token(dai)\n",
    "uniswap.get_token(bat)"
   ]
  },
  {
   "cell_type": "code",
   "execution_count": null,
   "id": "6f5c40a4",
   "metadata": {
    "ExecuteTime": {
     "end_time": "2023-01-15T21:47:28.693817Z",
     "start_time": "2023-01-15T21:47:28.693798Z"
    }
   },
   "outputs": [],
   "source": [
    "web3_lib.toChecksumAddress"
   ]
  },
  {
   "cell_type": "code",
   "execution_count": null,
   "id": "620566c0",
   "metadata": {
    "ExecuteTime": {
     "end_time": "2023-01-15T21:47:28.696288Z",
     "start_time": "2023-01-15T21:47:28.696270Z"
    }
   },
   "outputs": [],
   "source": [
    "#uniswap.get_pool_instance(dai, bat)\n",
    "uniswap.get_pool_instance(web3_lib.Web3.toChecksumAddress(dai), web3_lib.Web3.toChecksumAddress(bat))"
   ]
  },
  {
   "cell_type": "code",
   "execution_count": null,
   "id": "42a54f80",
   "metadata": {
    "ExecuteTime": {
     "end_time": "2023-01-15T21:47:28.698582Z",
     "start_time": "2023-01-15T21:47:28.698558Z"
    },
    "scrolled": true
   },
   "outputs": [],
   "source": [
    "#uniswap.make_trade(eth, dai, 1*10**15)  # sell 1 ETH for BAT\n",
    "uniswap.make_trade(\n",
    "    web3_lib.Web3.toChecksumAddress(eth), web3_lib.Web3.toChecksumAddress(bat),\n",
    "    1*10**15)  # sell 1 ETH for BAT"
   ]
  },
  {
   "cell_type": "code",
   "execution_count": null,
   "id": "768eab31",
   "metadata": {
    "ExecuteTime": {
     "end_time": "2023-01-15T21:47:28.700081Z",
     "start_time": "2023-01-15T21:47:28.700064Z"
    }
   },
   "outputs": [],
   "source": [
    "# Get the balance of ETH in an exchange contract.\n",
    "#uniswap.get_ex_eth_balance(bat)"
   ]
  },
  {
   "cell_type": "code",
   "execution_count": null,
   "id": "9bcd17fa",
   "metadata": {
    "ExecuteTime": {
     "end_time": "2023-01-15T21:47:28.701717Z",
     "start_time": "2023-01-15T21:47:28.701692Z"
    }
   },
   "outputs": [],
   "source": [
    "# Get balance of ETH for you address (in wei).\n",
    "uniswap.get_eth_balance()"
   ]
  },
  {
   "cell_type": "code",
   "execution_count": null,
   "id": "a5418b89",
   "metadata": {
    "ExecuteTime": {
     "end_time": "2023-01-15T21:47:28.703614Z",
     "start_time": "2023-01-15T21:47:28.703583Z"
    }
   },
   "outputs": [],
   "source": [
    "# Get the balance of a token for your address.\n",
    "uniswap.get_token_balance(surr_addr)"
   ]
  },
  {
   "cell_type": "code",
   "execution_count": null,
   "id": "80fbfa4f",
   "metadata": {
    "ExecuteTime": {
     "end_time": "2023-01-15T21:47:28.713377Z",
     "start_time": "2023-01-15T21:47:28.713359Z"
    }
   },
   "outputs": [],
   "source": [
    "uniswap.get_token_balance(bat)"
   ]
  },
  {
   "cell_type": "code",
   "execution_count": null,
   "id": "c66f4861",
   "metadata": {
    "ExecuteTime": {
     "end_time": "2023-01-15T21:47:28.716253Z",
     "start_time": "2023-01-15T21:47:28.716228Z"
    }
   },
   "outputs": [],
   "source": [
    "#uniswap.mint_liquidity()"
   ]
  },
  {
   "cell_type": "code",
   "execution_count": null,
   "id": "bf12ef50",
   "metadata": {
    "ExecuteTime": {
     "end_time": "2023-01-15T21:47:28.719706Z",
     "start_time": "2023-01-15T21:47:28.719677Z"
    }
   },
   "outputs": [],
   "source": [
    "# Returns the amount of DAI you get for 1 ETH (10^18 wei)\n",
    "#uniswap.get_price_input(eth, dai, 10**18)"
   ]
  },
  {
   "cell_type": "code",
   "execution_count": null,
   "id": "681c6eba",
   "metadata": {
    "ExecuteTime": {
     "end_time": "2023-01-15T21:47:28.723657Z",
     "start_time": "2023-01-15T21:47:28.723626Z"
    }
   },
   "outputs": [],
   "source": [
    "# ContractLogicError: execution reverted\n",
    "#uniswap.create_pool_instance(eth, surr_addr)"
   ]
  },
  {
   "cell_type": "code",
   "execution_count": null,
   "id": "bb0a1dc7",
   "metadata": {
    "ExecuteTime": {
     "end_time": "2023-01-15T21:47:28.726019Z",
     "start_time": "2023-01-15T21:47:28.725996Z"
    }
   },
   "outputs": [],
   "source": [
    "# uniswap_Factory\n",
    "factory_abi = json.loads('[{\"inputs\":[{\"internalType\":\"address\",\"name\":\"_feeToSetter\",\"type\":\"address\"}],\"payable\":false,\"stateMutability\":\"nonpayable\",\"type\":\"constructor\"},{\"anonymous\":false,\"inputs\":[{\"indexed\":true,\"internalType\":\"address\",\"name\":\"token0\",\"type\":\"address\"},{\"indexed\":true,\"internalType\":\"address\",\"name\":\"token1\",\"type\":\"address\"},{\"indexed\":false,\"internalType\":\"address\",\"name\":\"pair\",\"type\":\"address\"},{\"indexed\":false,\"internalType\":\"uint256\",\"name\":\"\",\"type\":\"uint256\"}],\"name\":\"PairCreated\",\"type\":\"event\"},{\"constant\":true,\"inputs\":[{\"internalType\":\"uint256\",\"name\":\"\",\"type\":\"uint256\"}],\"name\":\"allPairs\",\"outputs\":[{\"internalType\":\"address\",\"name\":\"\",\"type\":\"address\"}],\"payable\":false,\"stateMutability\":\"view\",\"type\":\"function\"},{\"constant\":true,\"inputs\":[],\"name\":\"allPairsLength\",\"outputs\":[{\"internalType\":\"uint256\",\"name\":\"\",\"type\":\"uint256\"}],\"payable\":false,\"stateMutability\":\"view\",\"type\":\"function\"},{\"constant\":false,\"inputs\":[{\"internalType\":\"address\",\"name\":\"tokenA\",\"type\":\"address\"},{\"internalType\":\"address\",\"name\":\"tokenB\",\"type\":\"address\"}],\"name\":\"createPair\",\"outputs\":[{\"internalType\":\"address\",\"name\":\"pair\",\"type\":\"address\"}],\"payable\":false,\"stateMutability\":\"nonpayable\",\"type\":\"function\"},{\"constant\":true,\"inputs\":[],\"name\":\"feeTo\",\"outputs\":[{\"internalType\":\"address\",\"name\":\"\",\"type\":\"address\"}],\"payable\":false,\"stateMutability\":\"view\",\"type\":\"function\"},{\"constant\":true,\"inputs\":[],\"name\":\"feeToSetter\",\"outputs\":[{\"internalType\":\"address\",\"name\":\"\",\"type\":\"address\"}],\"payable\":false,\"stateMutability\":\"view\",\"type\":\"function\"},{\"constant\":true,\"inputs\":[{\"internalType\":\"address\",\"name\":\"\",\"type\":\"address\"},{\"internalType\":\"address\",\"name\":\"\",\"type\":\"address\"}],\"name\":\"getPair\",\"outputs\":[{\"internalType\":\"address\",\"name\":\"\",\"type\":\"address\"}],\"payable\":false,\"stateMutability\":\"view\",\"type\":\"function\"},{\"constant\":false,\"inputs\":[{\"internalType\":\"address\",\"name\":\"_feeTo\",\"type\":\"address\"}],\"name\":\"setFeeTo\",\"outputs\":[],\"payable\":false,\"stateMutability\":\"nonpayable\",\"type\":\"function\"},{\"constant\":false,\"inputs\":[{\"internalType\":\"address\",\"name\":\"_feeToSetter\",\"type\":\"address\"}],\"name\":\"setFeeToSetter\",\"outputs\":[],\"payable\":false,\"stateMutability\":\"nonpayable\",\"type\":\"function\"}]')\n",
    "#print(factory_abi)\n",
    "factory_address = '0x5C69bEe701ef814a2B6a3EDD4B1652CB9cc5aA6f'\n",
    "factory_contract = web3.eth.contract(address=factory_address, abi=factory_abi)\n",
    "\n",
    "#returns a count of all the trading pairs on uniswap\n",
    "allPairsLength = factory_contract.functions.allPairsLength().call()\n",
    "print(allPairsLength)\n",
    "\n",
    "# get the uniswap pair address for pricing"
   ]
  },
  {
   "cell_type": "code",
   "execution_count": null,
   "id": "95fd50bd",
   "metadata": {
    "ExecuteTime": {
     "end_time": "2023-01-15T21:47:28.730179Z",
     "start_time": "2023-01-15T21:47:28.730096Z"
    },
    "scrolled": false
   },
   "outputs": [],
   "source": [
    "# Send Eth from account1 to 2.\n",
    "nonce = web3.eth.getTransactionCount(src_account)\n",
    "print(\"nonce=\", nonce)\n",
    "\n",
    "# https://docs.uniswap.org/contracts/v2/reference/smart-contracts/factory\n",
    "#eth_addr = \"0x0000000000000000000000000000000000000000\"\n",
    "#func = factory_contract.functions.createPair(eth_addr, surr_addr)\n",
    "bat_addr = \"0x0D8775F648430679A709E98d2b0Cb6250d2887EF\"\n",
    "func = factory_contract.functions.createPair(bat_addr, surr_addr)\n",
    "print(func)\n",
    "\n",
    "tx = func.build_transaction({\n",
    "     #'chainId': 1,\n",
    "     #'maxFeePerGas': web3.toWei('1000', 'gwei'),\n",
    "     #'maxPriorityFeePerGas': web3.toWei('1', 'gwei'),\n",
    "     \"gasPrice\": web3.eth.generate_gas_price(),\n",
    "     \"gas\": 10000000,\n",
    "     'nonce': nonce,\n",
    "})\n",
    "print(\"tx=\", tx)\n",
    "\n",
    "#gas_estimate = web3.eth.estimateGas(tx)\n",
    "#print(\"gas_estimate\", gas_estimate)\n",
    "\n",
    "signed_tx = web3.eth.account.signTransaction(tx, account.private_key)\n",
    "print(\"signed_tx=\", signed_tx)\n",
    "\n",
    "tx_hash = web3.eth.sendRawTransaction(signed_tx.rawTransaction)\n",
    "print(\"tx_hash=\", tx_hash)\n",
    "#print(\"tx_status=\", tx.status)"
   ]
  },
  {
   "cell_type": "code",
   "execution_count": null,
   "id": "3b8715e6",
   "metadata": {
    "ExecuteTime": {
     "end_time": "2023-01-15T21:47:28.731686Z",
     "start_time": "2023-01-15T21:47:28.731661Z"
    }
   },
   "outputs": [],
   "source": [
    "tx_receipt = web3.eth.waitForTransactionReceipt(tx_hash)\n",
    "import pprint\n",
    "pprint.pprint(tx_receipt)\n",
    "#print(tx_receipt.contractAddress)"
   ]
  },
  {
   "cell_type": "code",
   "execution_count": null,
   "id": "0379c5b6",
   "metadata": {
    "ExecuteTime": {
     "end_time": "2023-01-15T21:47:28.733288Z",
     "start_time": "2023-01-15T21:47:28.733266Z"
    }
   },
   "outputs": [],
   "source": [
    "tx_receipt"
   ]
  },
  {
   "cell_type": "code",
   "execution_count": null,
   "id": "59aad766",
   "metadata": {
    "ExecuteTime": {
     "end_time": "2023-01-15T21:47:28.735181Z",
     "start_time": "2023-01-15T21:47:28.735045Z"
    }
   },
   "outputs": [],
   "source": [
    "tx_receipt.status"
   ]
  },
  {
   "cell_type": "code",
   "execution_count": null,
   "id": "ffc22acd",
   "metadata": {
    "ExecuteTime": {
     "end_time": "2023-01-15T21:47:28.739825Z",
     "start_time": "2023-01-15T21:47:28.739806Z"
    }
   },
   "outputs": [],
   "source": [
    "print(tx_hash)\n",
    "tx = chain.get_transaction(tx_hash)\n",
    "print(tx.info())"
   ]
  },
  {
   "cell_type": "code",
   "execution_count": null,
   "id": "da8d147e",
   "metadata": {
    "ExecuteTime": {
     "end_time": "2023-01-15T21:47:28.746268Z",
     "start_time": "2023-01-15T21:47:28.746237Z"
    }
   },
   "outputs": [],
   "source": [
    "factory_contract.events.PairCreated.processReceipt(tx_receipt)"
   ]
  },
  {
   "cell_type": "markdown",
   "id": "c166529c",
   "metadata": {},
   "source": [
    "## Swap"
   ]
  },
  {
   "cell_type": "code",
   "execution_count": null,
   "id": "bc170476",
   "metadata": {
    "ExecuteTime": {
     "end_time": "2023-01-15T21:47:28.748384Z",
     "start_time": "2023-01-15T21:47:28.748364Z"
    }
   },
   "outputs": [],
   "source": [
    "#uniswap_addr = \"0xCCa773F0FeC05569f18381D8bDf4cb684Aa1d7E5\"\n",
    "uniswap_addr = \"0x5C69bEe701ef814a2B6a3EDD4B1652CB9cc5aA6f\"\n",
    "\n",
    "uniswap = Uniswap(address=address, private_key=private_key, version=version, provider=provider)\n",
    "                 #factory_contract_addr=uniswap_addr)"
   ]
  },
  {
   "cell_type": "code",
   "execution_count": null,
   "id": "f4446a73",
   "metadata": {},
   "outputs": [],
   "source": []
  },
  {
   "cell_type": "code",
   "execution_count": null,
   "id": "ab7ede79",
   "metadata": {
    "ExecuteTime": {
     "end_time": "2023-01-15T21:47:28.750740Z",
     "start_time": "2023-01-15T21:47:28.750685Z"
    }
   },
   "outputs": [],
   "source": [
    "uniswap.get_price_input(eth, dai, 10**18)"
   ]
  },
  {
   "cell_type": "code",
   "execution_count": null,
   "id": "9c80874b",
   "metadata": {
    "ExecuteTime": {
     "end_time": "2023-01-15T21:47:28.755670Z",
     "start_time": "2023-01-15T21:47:28.755554Z"
    }
   },
   "outputs": [],
   "source": [
    "#uniswap.\n",
    "allPairsLength = uniswap.allPairsLength().call()\n",
    "print(allPairsLength)"
   ]
  },
  {
   "cell_type": "code",
   "execution_count": null,
   "id": "194f8b2c",
   "metadata": {},
   "outputs": [],
   "source": []
  },
  {
   "cell_type": "markdown",
   "id": "9dd83376",
   "metadata": {},
   "source": [
    "# Etherscan-python\n",
    "\n",
    "https://github.com/pcko1/etherscan-python"
   ]
  },
  {
   "cell_type": "code",
   "execution_count": null,
   "id": "82af905d",
   "metadata": {
    "ExecuteTime": {
     "end_time": "2023-01-15T21:47:28.758421Z",
     "start_time": "2023-01-15T21:47:28.758397Z"
    }
   },
   "outputs": [],
   "source": [
    "#!pip install etherscan-python"
   ]
  },
  {
   "cell_type": "code",
   "execution_count": null,
   "id": "954caa5c",
   "metadata": {
    "ExecuteTime": {
     "end_time": "2023-01-15T21:47:28.760022Z",
     "start_time": "2023-01-15T21:47:28.760006Z"
    }
   },
   "outputs": [],
   "source": [
    "#import etherscan\n",
    "from etherscan import Etherscan\n",
    "#eth = Etherscan(os.environ[\"ETHERSCAN_TOKEN\"], net=\"goerli\")\n",
    "eth = Etherscan(os.environ[\"ETHERSCAN_TOKEN\"])"
   ]
  },
  {
   "cell_type": "code",
   "execution_count": null,
   "id": "af7ef7fd",
   "metadata": {
    "ExecuteTime": {
     "end_time": "2023-01-15T21:47:28.761134Z",
     "start_time": "2023-01-15T21:47:28.761118Z"
    }
   },
   "outputs": [],
   "source": [
    "factory_address = '0x5C69bEe701ef814a2B6a3EDD4B1652CB9cc5aA6f'\n",
    "abi = eth.get_contract_abi(factory_address)\n",
    "\n",
    "factory_abi = json.loads(abi)\n",
    "print(factory_abi)\n",
    "factory_contract = web3.eth.contract(address=factory_address, abi=factory_abi)"
   ]
  },
  {
   "cell_type": "code",
   "execution_count": null,
   "id": "521ff63a",
   "metadata": {
    "ExecuteTime": {
     "end_time": "2023-01-15T21:47:28.762855Z",
     "start_time": "2023-01-15T21:47:28.762827Z"
    }
   },
   "outputs": [],
   "source": [
    "#dir(factory_contract)\n",
    "factory_contract.functions.createPair"
   ]
  },
  {
   "cell_type": "code",
   "execution_count": null,
   "id": "54e41012",
   "metadata": {
    "ExecuteTime": {
     "end_time": "2023-01-15T21:47:28.766815Z",
     "start_time": "2023-01-15T21:47:28.766788Z"
    }
   },
   "outputs": [],
   "source": [
    "# There are several ways to interact with a contract / service\n",
    "# - Use REST API of the service\n",
    "# - Use SDK (e.g., JS or Python): python-uniswap\n",
    "# - Interact with contract directly on Ethereum"
   ]
  },
  {
   "cell_type": "code",
   "execution_count": null,
   "id": "65be1165",
   "metadata": {
    "ExecuteTime": {
     "end_time": "2023-01-15T21:47:28.769910Z",
     "start_time": "2023-01-15T21:47:28.769895Z"
    }
   },
   "outputs": [],
   "source": [
    "eth.get_eth_last_price()"
   ]
  }
 ],
 "metadata": {
  "kernelspec": {
   "display_name": "Python 3 (ipykernel)",
   "language": "python",
   "name": "python3"
  },
  "language_info": {
   "codemirror_mode": {
    "name": "ipython",
    "version": 3
   },
   "file_extension": ".py",
   "mimetype": "text/x-python",
   "name": "python",
   "nbconvert_exporter": "python",
   "pygments_lexer": "ipython3",
   "version": "3.10.6"
  },
  "toc": {
   "base_numbering": 1,
   "nav_menu": {},
   "number_sections": true,
   "sideBar": true,
   "skip_h1_title": false,
   "title_cell": "Table of Contents",
   "title_sidebar": "Contents",
   "toc_cell": false,
   "toc_position": {},
   "toc_section_display": false,
   "toc_window_display": false
  }
 },
 "nbformat": 4,
 "nbformat_minor": 5
}
