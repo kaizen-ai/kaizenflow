{
 "cells": [
  {
   "cell_type": "markdown",
   "id": "37688f3b",
   "metadata": {},
   "source": [
    "This notebook deploys DaoSwap on Optimism testnet, adds orders and executes `getTotals`. \n",
    "\n",
    "All transactions can be found on https://goerli-optimism.etherscan.io/ by the transaction hash, or by account address 0x6531e2613bbbEEcd898356F7b9bEfBaEfd42804B.\n",
    "\n",
    "Cost analysis according to the transactions made in this notebook can be found here https://docs.google.com/document/d/1Kxu6gfUTtfLKaw2O_SBn_iBfpORhlRFMB4uJ4RpA4Hs/edit#"
   ]
  },
  {
   "cell_type": "markdown",
   "id": "50e9a39f",
   "metadata": {},
   "source": [
    "# Imports"
   ]
  },
  {
   "cell_type": "code",
   "execution_count": 1,
   "id": "561a5689",
   "metadata": {},
   "outputs": [],
   "source": [
    "import os\n",
    "import sys\n",
    "import time\n",
    "import pprint\n",
    "\n",
    "from eth_account import Account\n",
    "from eth_account.signers.local import LocalAccount\n",
    "import web3\n",
    "from web3 import Web3, EthereumTesterProvider\n",
    "from web3.middleware import construct_sign_and_send_raw_middleware\n",
    "import solcx"
   ]
  },
  {
   "cell_type": "markdown",
   "id": "bb01af28",
   "metadata": {},
   "source": [
    "# Set-up Alchemy & Accounts"
   ]
  },
  {
   "cell_type": "code",
   "execution_count": 40,
   "id": "eaf6eae9",
   "metadata": {},
   "outputs": [
    {
     "name": "stdout",
     "output_type": "stream",
     "text": [
      "True\n"
     ]
    }
   ],
   "source": [
    "alchemy_key = os.environ[\"ALCHEMY_KEY\"]\n",
    "alchemy_url = f\"https://opt-goerli.g.alchemy.com/v2/{alchemy_key}\"\n",
    "w3 = Web3(Web3.HTTPProvider(alchemy_url))\n",
    "\n",
    "print(w3.isConnected())"
   ]
  },
  {
   "cell_type": "code",
   "execution_count": 41,
   "id": "f3383774",
   "metadata": {},
   "outputs": [
    {
     "name": "stdout",
     "output_type": "stream",
     "text": [
      "Your hot wallet address is 0x6531e2613bbbEEcd898356F7b9bEfBaEfd42804B\n"
     ]
    }
   ],
   "source": [
    "account_addr = \"0x6531e2613bbbEEcd898356F7b9bEfBaEfd42804B\"\n",
    "private_key = os.environ[\"PRIVATE_KEY\"]\n",
    "\n",
    "account: LocalAccount = Account.from_key(private_key)\n",
    "w3.middleware_onion.add(construct_sign_and_send_raw_middleware(account))\n",
    "\n",
    "print(f\"Your hot wallet address is {account.address}\")"
   ]
  },
  {
   "cell_type": "markdown",
   "id": "53ae2622",
   "metadata": {},
   "source": [
    "# Functions"
   ]
  },
  {
   "cell_type": "code",
   "execution_count": 2,
   "id": "157d5577",
   "metadata": {},
   "outputs": [],
   "source": [
    "def compile_source_file(file_path):\n",
    "    with open(file_path, 'r') as f:\n",
    "        source = f.read()\n",
    "    return solcx.compile_source(source, output_values=[\"abi\", \"bin\", \"bin-runtime\"])"
   ]
  },
  {
   "cell_type": "markdown",
   "id": "e57d59a5",
   "metadata": {},
   "source": [
    "# Deployment"
   ]
  },
  {
   "cell_type": "code",
   "execution_count": 26,
   "id": "75ae4091",
   "metadata": {},
   "outputs": [],
   "source": [
    "compiled = compile_source_file(\"contracts/DaoSwap.sol\")\n",
    "contract_interface = compiled[\"<stdin>:DaoSwap\"]"
   ]
  },
  {
   "cell_type": "code",
   "execution_count": 12,
   "id": "6beb2624",
   "metadata": {},
   "outputs": [],
   "source": [
    "contractName = \"DaoSwap\";\n",
    "tokens = [\"0xfb6115445Bff7b52FeB98650C87f44907E58f802\"];\n",
    "swapPeriodInSecs = 300;\n",
    "swapRandomizationInSecs = 5;\n",
    "feesAsPct = 5;\n",
    "priceMode = 3;\n",
    "priceOracle = \"0x547a514d5e3769680Ce22B2361c10Ea13619e8a9\";\n",
    "swapMode = 1;\n",
    "\n",
    "func=w3.eth.contract(\n",
    "    abi=contract_interface[\"abi\"],\n",
    "    bytecode=contract_interface[\"bin\"]).constructor(\n",
    "        contractName, \n",
    "        tokens,\n",
    "        swapPeriodInSecs,\n",
    "        swapRandomizationInSecs,\n",
    "        feesAsPct,\n",
    "        priceMode,\n",
    "        priceOracle,\n",
    "        swapMode)"
   ]
  },
  {
   "cell_type": "code",
   "execution_count": null,
   "id": "d0a2403e",
   "metadata": {},
   "outputs": [],
   "source": [
    "tx_hash = func.transact({\"from\": account_addr})"
   ]
  },
  {
   "cell_type": "code",
   "execution_count": 17,
   "id": "b377f7ec",
   "metadata": {},
   "outputs": [],
   "source": [
    "address = w3.eth.get_transaction_receipt(tx_hash)[\"contractAddress\"]"
   ]
  },
  {
   "cell_type": "code",
   "execution_count": 27,
   "id": "a83cc168",
   "metadata": {},
   "outputs": [],
   "source": [
    "# DaoSwap contract address is 0xa07c906a6c9eDCb21a03943586e8920D2d716E3D\n",
    "contract = w3.eth.contract(address=address, abi=contract_interface[\"abi\"])"
   ]
  },
  {
   "cell_type": "code",
   "execution_count": 49,
   "id": "75436d38",
   "metadata": {},
   "outputs": [],
   "source": [
    "token_to_buy = \"0xfb6115445Bff7b52FeB98650C87f44907E58f802\"\n",
    "amount_of_token_18dec = 1000000000000000000\n",
    "limit_price = 54430000000000000\n",
    "price_of_token = 54330000000000000\n",
    "deposit_addr = \"0x5B38Da6a701c568545dCfcB03FcB875f56beddC4\"\n",
    "\n",
    "# Create buy order.\n",
    "# This is not explicitly depicted in the notebook, but 11 orders were created.\n",
    "buy_order_tx_hash = contract.functions.buyOrder(token_to_buy,\n",
    "                           amount_of_token_18dec,\n",
    "                           limit_price,\n",
    "                           deposit_addr).transact(\n",
    "                    {\"from\": account_addr, \"value\": 54430000000000000})"
   ]
  },
  {
   "cell_type": "code",
   "execution_count": 52,
   "id": "d0cea14f",
   "metadata": {},
   "outputs": [],
   "source": [
    "# Execute `getTotals`.\n",
    "# This thansaction for this function also was also sent several times, \n",
    "# so we can compare the gas spent for iterating 9, 10 and 11 orders.\n",
    "get_totals_tx_hash = contract.functions.getTotals(price_of_token).transact( {\"from\": account_addr})"
   ]
  },
  {
   "cell_type": "code",
   "execution_count": 53,
   "id": "ebde94af",
   "metadata": {},
   "outputs": [
    {
     "data": {
      "text/plain": [
       "HexBytes('0x9737643eba2b9161724ac70b0ed66a2fb357c03c63d3d20aa8ea6186de5586da')"
      ]
     },
     "execution_count": 53,
     "metadata": {},
     "output_type": "execute_result"
    }
   ],
   "source": [
    "get_totals_tx_hash"
   ]
  },
  {
   "cell_type": "code",
   "execution_count": 51,
   "id": "e0af6e93",
   "metadata": {},
   "outputs": [
    {
     "data": {
      "text/plain": [
       "11"
      ]
     },
     "execution_count": 51,
     "metadata": {},
     "output_type": "execute_result"
    }
   ],
   "source": [
    "# Get the current length of orders array.\n",
    "len(contract.functions.getOrders().call({\"from\": account_addr}))"
   ]
  }
 ],
 "metadata": {
  "kernelspec": {
   "display_name": "Python 3 (ipykernel)",
   "language": "python",
   "name": "python3"
  },
  "language_info": {
   "codemirror_mode": {
    "name": "ipython",
    "version": 3
   },
   "file_extension": ".py",
   "mimetype": "text/x-python",
   "name": "python",
   "nbconvert_exporter": "python",
   "pygments_lexer": "ipython3",
   "version": "3.10.6"
  },
  "vscode": {
   "interpreter": {
    "hash": "916dbcbb3f70747c44a77c7bcd40155683ae19c65e1c03b4aa3499c5328201f1"
   }
  }
 },
 "nbformat": 4,
 "nbformat_minor": 5
}
