{
 "cells": [
  {
   "cell_type": "markdown",
   "id": "4eacc5dd",
   "metadata": {
    "ExecuteTime": {
     "end_time": "2023-03-30T19:47:19.574661Z",
     "start_time": "2023-03-30T19:47:19.543533Z"
    }
   },
   "source": [
    "# Description"
   ]
  },
  {
   "cell_type": "markdown",
   "id": "31a5ad7c",
   "metadata": {},
   "source": [
    "The notebook demonstrates how open-source solvers solve the DaoSwap problem."
   ]
  },
  {
   "cell_type": "markdown",
   "id": "f3392998",
   "metadata": {},
   "source": [
    "# Imports"
   ]
  },
  {
   "cell_type": "code",
   "execution_count": 1,
   "id": "ac5b6e8b",
   "metadata": {
    "ExecuteTime": {
     "end_time": "2023-04-19T13:48:45.768071Z",
     "start_time": "2023-04-19T13:48:43.933076Z"
    }
   },
   "outputs": [],
   "source": [
    "%load_ext autoreload\n",
    "%autoreload 2\n",
    "%matplotlib inline"
   ]
  },
  {
   "cell_type": "code",
   "execution_count": 2,
   "id": "1487d85f",
   "metadata": {
    "ExecuteTime": {
     "end_time": "2023-04-19T13:48:47.777605Z",
     "start_time": "2023-04-19T13:48:45.774493Z"
    }
   },
   "outputs": [
    {
     "name": "stderr",
     "output_type": "stream",
     "text": [
      "<jemalloc>: MADV_DONTNEED does not work (memset will be used instead)\n",
      "<jemalloc>: (This is the expected behaviour if you are running under QEMU)\n"
     ]
    }
   ],
   "source": [
    "import logging\n",
    "from typing import List, Tuple\n",
    "\n",
    "import numpy as np\n",
    "import pandas as pd\n",
    "\n",
    "import defi.dao_cross.optimize as ddacropt\n",
    "import defi.dao_cross.order as ddacrord\n",
    "import helpers.hdbg as hdbg\n",
    "import helpers.henv as henv\n",
    "import helpers.hprint as hprint"
   ]
  },
  {
   "cell_type": "code",
   "execution_count": 3,
   "id": "094f54a3",
   "metadata": {
    "ExecuteTime": {
     "end_time": "2023-04-19T13:48:47.846939Z",
     "start_time": "2023-04-19T13:48:47.786676Z"
    }
   },
   "outputs": [],
   "source": [
    "try:\n",
    "    import pulp\n",
    "except ImportError:\n",
    "    !sudo /bin/bash -c \"(source /venv/bin/activate; pip install pulp)\"\n",
    "    import pulp"
   ]
  },
  {
   "cell_type": "code",
   "execution_count": 4,
   "id": "7e0f5097",
   "metadata": {
    "ExecuteTime": {
     "end_time": "2023-04-19T13:48:54.604329Z",
     "start_time": "2023-04-19T13:48:47.860398Z"
    }
   },
   "outputs": [
    {
     "name": "stdout",
     "output_type": "stream",
     "text": [
      "\u001b[0m\u001b[36mINFO\u001b[0m: > cmd='/venv/lib/python3.8/site-packages/ipykernel_launcher.py -f /home/.local/share/jupyter/runtime/kernel-f728515a-aaa0-4817-8a8d-23a321969184.json'\n",
      "WARNING: Running in Jupyter\n",
      "\u001b[31m-----------------------------------------------------------------------------\n",
      "This code is not in sync with the container:\n",
      "code_version='1.4.1' != container_version='1.4.0'\n",
      "-----------------------------------------------------------------------------\n",
      "You need to:\n",
      "- merge origin/master into your branch with `invoke git_merge_master`\n",
      "- pull the latest container with `invoke docker_pull`\u001b[0m\n",
      "INFO  # Git\n",
      "  branch_name='CmTask80_Implement_DaoSwap_optimization_problem_1'\n",
      "  hash='d7e1b0db8'\n",
      "  # Last commits:\n",
      "    * d7e1b0db8 paul     Checkpoint                                                        (  17 hours ago) Tue Apr 18 20:23:53 2023  (HEAD -> CmTask80_Implement_DaoSwap_optimization_problem_1, origin/CmTask80_Implement_DaoSwap_optimization_problem_1)\n",
      "    * af9f29ab9 paul     Checkpoint                                                        (  18 hours ago) Tue Apr 18 19:57:14 2023           \n",
      "    * 098651322 Paul     Cm task4011 write dao swap white paper 11 (#147)                  (  20 hours ago) Tue Apr 18 18:14:10 2023  (origin/master, origin/HEAD, master)\n",
      "# Machine info\n",
      "  system=Linux\n",
      "  node name=69dba9f90d2e\n",
      "  release=5.15.49-linuxkit\n",
      "  version=#1 SMP PREEMPT Tue Sep 13 07:51:32 UTC 2022\n",
      "  machine=x86_64\n",
      "  processor=x86_64\n",
      "  cpu count=5\n",
      "  cpu freq=None\n",
      "  memory=svmem(total=8232894464, available=6177243136, percent=25.0, used=1516388352, free=2907762688, active=2083622912, inactive=2644570112, buffers=77975552, cached=3730767872, shared=331702272, slab=503005184)\n",
      "  disk usage=sdiskusage(total=62671097856, used=17727082496, free=41727299584, percent=29.8)\n",
      "# Packages\n",
      "  python: 3.8.10\n",
      "  cvxopt: 1.3.0\n",
      "  cvxpy: 1.2.2\n",
      "  gluonnlp: ?\n",
      "  gluonts: 0.6.7\n",
      "  joblib: 1.2.0\n",
      "  mxnet: 1.9.1\n",
      "  numpy: 1.23.4\n",
      "  pandas: 1.5.1\n",
      "  pyarrow: 10.0.0\n",
      "  scipy: 1.9.3\n",
      "  seaborn: 0.12.1\n",
      "  sklearn: 1.1.3\n",
      "  statsmodels: 0.13.5\n"
     ]
    }
   ],
   "source": [
    "hdbg.init_logger(verbosity=logging.INFO)\n",
    "\n",
    "_LOG = logging.getLogger(__name__)\n",
    "\n",
    "_LOG.info(\"%s\", henv.get_system_signature()[0])\n",
    "\n",
    "hprint.config_notebook()"
   ]
  },
  {
   "cell_type": "markdown",
   "id": "a408b724",
   "metadata": {},
   "source": [
    "# Test orders"
   ]
  },
  {
   "cell_type": "code",
   "execution_count": 5,
   "id": "a24fdb2b",
   "metadata": {
    "ExecuteTime": {
     "end_time": "2023-04-19T13:48:54.707102Z",
     "start_time": "2023-04-19T13:48:54.620205Z"
    }
   },
   "outputs": [],
   "source": [
    "def _generate_test_orders(\n",
    "    actions: List[str],\n",
    "    quantities: List[float],\n",
    "    base_tokens: List[str],\n",
    "    limit_prices: List[float],\n",
    "    quote_tokens: List[str],\n",
    ") -> List[ddacrord.Order]:\n",
    "    \"\"\"\n",
    "    Create N `Order` instances using the inputs.\n",
    "\n",
    "    See `Order` for params description.\n",
    "    \"\"\"\n",
    "    # Use dummy values as the params are not relevant for the\n",
    "    # optimization problem.\n",
    "    timestamp = np.nan\n",
    "    deposit_address = 1\n",
    "    wallet_address = 1\n",
    "    orders: List[ddacrord.Order] = []\n",
    "    # TODO(Grisha): check that all lists are of the same length.\n",
    "    for i in range(len(base_tokens)):\n",
    "        order_i = ddacrord.Order(\n",
    "            timestamp,\n",
    "            actions[i],\n",
    "            quantities[i],\n",
    "            base_tokens[i],\n",
    "            limit_prices[i],\n",
    "            quote_tokens[i],\n",
    "            deposit_address,\n",
    "            wallet_address,\n",
    "        )\n",
    "        orders.append(order_i)\n",
    "    return orders"
   ]
  },
  {
   "cell_type": "code",
   "execution_count": 6,
   "id": "e8aab2e2",
   "metadata": {
    "ExecuteTime": {
     "end_time": "2023-04-19T13:48:54.799328Z",
     "start_time": "2023-04-19T13:48:54.717894Z"
    }
   },
   "outputs": [],
   "source": [
    "_actions = [\"buy\", \"buy\", \"sell\", \"sell\", \"buy\", \"buy\", \"sell\", \"sell\"]\n",
    "_quantities = [4, 2, 5, 3, 6, 2, 9, 1]\n",
    "_base_tokens = [\"BTC\", \"BTC\", \"BTC\", \"BTC\", \"ETH\", \"ETH\", \"ETH\", \"ETH\"]\n",
    "_quote_tokens = [\"ETH\", \"ETH\", \"ETH\", \"ETH\", \"BTC\", \"BTC\", \"BTC\", \"BTC\"]\n",
    "_limit_prices = [3, 3.5, 1.5, 1.9, 0.6, 2, 0.1, 0.25]\n",
    "\n",
    "\n",
    "def test1() -> None:\n",
    "    \"\"\"\n",
    "    The limit price condition is True for all orders.\n",
    "    \"\"\"\n",
    "    # Get inputs.\n",
    "    prices = {\"BTC\": 3, \"ETH\": 6}\n",
    "    limit_prices = [3, 3.5, 1.5, 1.9, 0.6, 2, 0.1, 0.25]\n",
    "    test_orders = _generate_test_orders(\n",
    "        _actions,\n",
    "        _quantities,\n",
    "        _base_tokens,\n",
    "        _limit_prices,\n",
    "        _quote_tokens,\n",
    "    )\n",
    "    return test_orders"
   ]
  },
  {
   "cell_type": "code",
   "execution_count": 7,
   "id": "187d6963",
   "metadata": {
    "ExecuteTime": {
     "end_time": "2023-04-19T13:48:54.877479Z",
     "start_time": "2023-04-19T13:48:54.807830Z"
    }
   },
   "outputs": [],
   "source": [
    "prices = {\"BTC\": 3, \"ETH\": 6}"
   ]
  },
  {
   "cell_type": "code",
   "execution_count": 8,
   "id": "77c882c4",
   "metadata": {
    "ExecuteTime": {
     "end_time": "2023-04-19T13:48:54.954541Z",
     "start_time": "2023-04-19T13:48:54.885352Z"
    }
   },
   "outputs": [],
   "source": [
    "orders = test1()"
   ]
  },
  {
   "cell_type": "code",
   "execution_count": 9,
   "id": "d4cafc6a",
   "metadata": {
    "ExecuteTime": {
     "end_time": "2023-04-19T13:48:55.132719Z",
     "start_time": "2023-04-19T13:48:54.961948Z"
    }
   },
   "outputs": [
    {
     "data": {
      "text/html": [
       "<div>\n",
       "<style scoped>\n",
       "    .dataframe tbody tr th:only-of-type {\n",
       "        vertical-align: middle;\n",
       "    }\n",
       "\n",
       "    .dataframe tbody tr th {\n",
       "        vertical-align: top;\n",
       "    }\n",
       "\n",
       "    .dataframe thead th {\n",
       "        text-align: right;\n",
       "    }\n",
       "</style>\n",
       "<table border=\"1\" class=\"dataframe\">\n",
       "  <thead>\n",
       "    <tr style=\"text-align: right;\">\n",
       "      <th></th>\n",
       "      <th>timestamp</th>\n",
       "      <th>action</th>\n",
       "      <th>quantity</th>\n",
       "      <th>base_token</th>\n",
       "      <th>limit_price</th>\n",
       "      <th>quote_token</th>\n",
       "      <th>deposit_address</th>\n",
       "    </tr>\n",
       "  </thead>\n",
       "  <tbody>\n",
       "    <tr>\n",
       "      <th>0</th>\n",
       "      <td>2023-04-19 13:48:54.948404+00:00</td>\n",
       "      <td>buy</td>\n",
       "      <td>4</td>\n",
       "      <td>BTC</td>\n",
       "      <td>3.0</td>\n",
       "      <td>ETH</td>\n",
       "      <td>1</td>\n",
       "    </tr>\n",
       "    <tr>\n",
       "      <th>1</th>\n",
       "      <td>2023-04-19 13:48:54.950188+00:00</td>\n",
       "      <td>buy</td>\n",
       "      <td>2</td>\n",
       "      <td>BTC</td>\n",
       "      <td>3.5</td>\n",
       "      <td>ETH</td>\n",
       "      <td>1</td>\n",
       "    </tr>\n",
       "    <tr>\n",
       "      <th>2</th>\n",
       "      <td>2023-04-19 13:48:54.950289+00:00</td>\n",
       "      <td>sell</td>\n",
       "      <td>5</td>\n",
       "      <td>BTC</td>\n",
       "      <td>1.5</td>\n",
       "      <td>ETH</td>\n",
       "      <td>1</td>\n",
       "    </tr>\n",
       "    <tr>\n",
       "      <th>3</th>\n",
       "      <td>2023-04-19 13:48:54.950332+00:00</td>\n",
       "      <td>sell</td>\n",
       "      <td>3</td>\n",
       "      <td>BTC</td>\n",
       "      <td>1.9</td>\n",
       "      <td>ETH</td>\n",
       "      <td>1</td>\n",
       "    </tr>\n",
       "    <tr>\n",
       "      <th>4</th>\n",
       "      <td>2023-04-19 13:48:54.950371+00:00</td>\n",
       "      <td>buy</td>\n",
       "      <td>6</td>\n",
       "      <td>ETH</td>\n",
       "      <td>0.6</td>\n",
       "      <td>BTC</td>\n",
       "      <td>1</td>\n",
       "    </tr>\n",
       "    <tr>\n",
       "      <th>5</th>\n",
       "      <td>2023-04-19 13:48:54.950410+00:00</td>\n",
       "      <td>buy</td>\n",
       "      <td>2</td>\n",
       "      <td>ETH</td>\n",
       "      <td>2.0</td>\n",
       "      <td>BTC</td>\n",
       "      <td>1</td>\n",
       "    </tr>\n",
       "    <tr>\n",
       "      <th>6</th>\n",
       "      <td>2023-04-19 13:48:54.950449+00:00</td>\n",
       "      <td>sell</td>\n",
       "      <td>9</td>\n",
       "      <td>ETH</td>\n",
       "      <td>0.1</td>\n",
       "      <td>BTC</td>\n",
       "      <td>1</td>\n",
       "    </tr>\n",
       "    <tr>\n",
       "      <th>7</th>\n",
       "      <td>2023-04-19 13:48:54.950486+00:00</td>\n",
       "      <td>sell</td>\n",
       "      <td>1</td>\n",
       "      <td>ETH</td>\n",
       "      <td>0.25</td>\n",
       "      <td>BTC</td>\n",
       "      <td>1</td>\n",
       "    </tr>\n",
       "  </tbody>\n",
       "</table>\n",
       "</div>"
      ],
      "text/plain": [
       "                         timestamp action  quantity base_token  limit_price quote_token  deposit_address\n",
       "0 2023-04-19 13:48:54.948404+00:00    buy         4        BTC          3.0         ETH                1\n",
       "1 2023-04-19 13:48:54.950188+00:00    buy         2        BTC          3.5         ETH                1\n",
       "2 2023-04-19 13:48:54.950289+00:00   sell         5        BTC          1.5         ETH                1\n",
       "3 2023-04-19 13:48:54.950332+00:00   sell         3        BTC          1.9         ETH                1\n",
       "4 2023-04-19 13:48:54.950371+00:00    buy         6        ETH          0.6         BTC                1\n",
       "5 2023-04-19 13:48:54.950410+00:00    buy         2        ETH          2.0         BTC                1\n",
       "6 2023-04-19 13:48:54.950449+00:00   sell         9        ETH          0.1         BTC                1\n",
       "7 2023-04-19 13:48:54.950486+00:00   sell         1        ETH         0.25         BTC                1"
      ]
     },
     "execution_count": 9,
     "metadata": {},
     "output_type": "execute_result"
    }
   ],
   "source": [
    "ddacrord.convert_orders_to_dataframe(orders)"
   ]
  },
  {
   "cell_type": "markdown",
   "id": "da8d1901",
   "metadata": {},
   "source": [
    "## Run DaoCross"
   ]
  },
  {
   "cell_type": "code",
   "execution_count": 10,
   "id": "11676ae2",
   "metadata": {
    "ExecuteTime": {
     "end_time": "2023-04-19T13:48:55.439687Z",
     "start_time": "2023-04-19T13:48:55.141500Z"
    }
   },
   "outputs": [
    {
     "name": "stderr",
     "output_type": "stream",
     "text": [
      "/venv/lib/python3.8/site-packages/pulp/pulp.py:1352: UserWarning: Spaces are not permitted in the name. Converted to '_'\n",
      "  warnings.warn(\"Spaces are not permitted in the name. Converted to '_'\")\n"
     ]
    },
    {
     "data": {
      "text/html": [
       "<div>\n",
       "<style scoped>\n",
       "    .dataframe tbody tr th:only-of-type {\n",
       "        vertical-align: middle;\n",
       "    }\n",
       "\n",
       "    .dataframe tbody tr th {\n",
       "        vertical-align: top;\n",
       "    }\n",
       "\n",
       "    .dataframe thead th {\n",
       "        text-align: right;\n",
       "    }\n",
       "</style>\n",
       "<table border=\"1\" class=\"dataframe\">\n",
       "  <thead>\n",
       "    <tr style=\"text-align: right;\">\n",
       "      <th></th>\n",
       "      <th>timestamp</th>\n",
       "      <th>action</th>\n",
       "      <th>quantity</th>\n",
       "      <th>base_token</th>\n",
       "      <th>limit_price</th>\n",
       "      <th>quote_token</th>\n",
       "      <th>deposit_address</th>\n",
       "      <th>q_pi_star</th>\n",
       "      <th>q_tau_star</th>\n",
       "      <th>effective_price</th>\n",
       "    </tr>\n",
       "  </thead>\n",
       "  <tbody>\n",
       "    <tr>\n",
       "      <th>0</th>\n",
       "      <td>2023-04-19 13:48:54.948404+00:00</td>\n",
       "      <td>buy</td>\n",
       "      <td>4</td>\n",
       "      <td>BTC</td>\n",
       "      <td>3.0</td>\n",
       "      <td>ETH</td>\n",
       "      <td>1</td>\n",
       "      <td>4.0</td>\n",
       "      <td>8.0</td>\n",
       "      <td>2.0</td>\n",
       "    </tr>\n",
       "    <tr>\n",
       "      <th>1</th>\n",
       "      <td>2023-04-19 13:48:54.950188+00:00</td>\n",
       "      <td>buy</td>\n",
       "      <td>2</td>\n",
       "      <td>BTC</td>\n",
       "      <td>3.5</td>\n",
       "      <td>ETH</td>\n",
       "      <td>1</td>\n",
       "      <td>2.0</td>\n",
       "      <td>4.0</td>\n",
       "      <td>2.0</td>\n",
       "    </tr>\n",
       "    <tr>\n",
       "      <th>2</th>\n",
       "      <td>2023-04-19 13:48:54.950289+00:00</td>\n",
       "      <td>sell</td>\n",
       "      <td>5</td>\n",
       "      <td>BTC</td>\n",
       "      <td>1.5</td>\n",
       "      <td>ETH</td>\n",
       "      <td>1</td>\n",
       "      <td>5.0</td>\n",
       "      <td>10.0</td>\n",
       "      <td>2.0</td>\n",
       "    </tr>\n",
       "    <tr>\n",
       "      <th>3</th>\n",
       "      <td>2023-04-19 13:48:54.950332+00:00</td>\n",
       "      <td>sell</td>\n",
       "      <td>3</td>\n",
       "      <td>BTC</td>\n",
       "      <td>1.9</td>\n",
       "      <td>ETH</td>\n",
       "      <td>1</td>\n",
       "      <td>2.0</td>\n",
       "      <td>4.0</td>\n",
       "      <td>2.0</td>\n",
       "    </tr>\n",
       "    <tr>\n",
       "      <th>4</th>\n",
       "      <td>2023-04-19 13:48:54.950371+00:00</td>\n",
       "      <td>buy</td>\n",
       "      <td>6</td>\n",
       "      <td>ETH</td>\n",
       "      <td>0.6</td>\n",
       "      <td>BTC</td>\n",
       "      <td>1</td>\n",
       "      <td>6.0</td>\n",
       "      <td>3.0</td>\n",
       "      <td>0.5</td>\n",
       "    </tr>\n",
       "    <tr>\n",
       "      <th>5</th>\n",
       "      <td>2023-04-19 13:48:54.950410+00:00</td>\n",
       "      <td>buy</td>\n",
       "      <td>2</td>\n",
       "      <td>ETH</td>\n",
       "      <td>2.0</td>\n",
       "      <td>BTC</td>\n",
       "      <td>1</td>\n",
       "      <td>2.0</td>\n",
       "      <td>1.0</td>\n",
       "      <td>0.5</td>\n",
       "    </tr>\n",
       "    <tr>\n",
       "      <th>6</th>\n",
       "      <td>2023-04-19 13:48:54.950449+00:00</td>\n",
       "      <td>sell</td>\n",
       "      <td>9</td>\n",
       "      <td>ETH</td>\n",
       "      <td>0.1</td>\n",
       "      <td>BTC</td>\n",
       "      <td>1</td>\n",
       "      <td>9.0</td>\n",
       "      <td>4.5</td>\n",
       "      <td>0.5</td>\n",
       "    </tr>\n",
       "    <tr>\n",
       "      <th>7</th>\n",
       "      <td>2023-04-19 13:48:54.950486+00:00</td>\n",
       "      <td>sell</td>\n",
       "      <td>1</td>\n",
       "      <td>ETH</td>\n",
       "      <td>0.25</td>\n",
       "      <td>BTC</td>\n",
       "      <td>1</td>\n",
       "      <td>1.0</td>\n",
       "      <td>0.5</td>\n",
       "      <td>0.5</td>\n",
       "    </tr>\n",
       "  </tbody>\n",
       "</table>\n",
       "</div>"
      ],
      "text/plain": [
       "                         timestamp action  quantity base_token  limit_price quote_token  deposit_address  q_pi_star  q_tau_star  effective_price\n",
       "0 2023-04-19 13:48:54.948404+00:00    buy         4        BTC          3.0         ETH                1        4.0         8.0              2.0\n",
       "1 2023-04-19 13:48:54.950188+00:00    buy         2        BTC          3.5         ETH                1        2.0         4.0              2.0\n",
       "2 2023-04-19 13:48:54.950289+00:00   sell         5        BTC          1.5         ETH                1        5.0        10.0              2.0\n",
       "3 2023-04-19 13:48:54.950332+00:00   sell         3        BTC          1.9         ETH                1        2.0         4.0              2.0\n",
       "4 2023-04-19 13:48:54.950371+00:00    buy         6        ETH          0.6         BTC                1        6.0         3.0              0.5\n",
       "5 2023-04-19 13:48:54.950410+00:00    buy         2        ETH          2.0         BTC                1        2.0         1.0              0.5\n",
       "6 2023-04-19 13:48:54.950449+00:00   sell         9        ETH          0.1         BTC                1        9.0         4.5              0.5\n",
       "7 2023-04-19 13:48:54.950486+00:00   sell         1        ETH         0.25         BTC                1        1.0         0.5              0.5"
      ]
     },
     "metadata": {},
     "output_type": "display_data"
    }
   ],
   "source": [
    "daocross_results = ddacropt.run_daocross_solver(orders, prices)\n",
    "display(daocross_results)"
   ]
  },
  {
   "cell_type": "markdown",
   "id": "235c2a80",
   "metadata": {},
   "source": [
    "## Run DaoSwap"
   ]
  },
  {
   "cell_type": "code",
   "execution_count": 11,
   "id": "29f06f64",
   "metadata": {
    "ExecuteTime": {
     "end_time": "2023-04-19T13:48:55.717473Z",
     "start_time": "2023-04-19T13:48:55.448401Z"
    }
   },
   "outputs": [
    {
     "name": "stderr",
     "output_type": "stream",
     "text": [
      "/venv/lib/python3.8/site-packages/pulp/pulp.py:1352: UserWarning: Spaces are not permitted in the name. Converted to '_'\n",
      "  warnings.warn(\"Spaces are not permitted in the name. Converted to '_'\")\n"
     ]
    },
    {
     "data": {
      "text/html": [
       "<div>\n",
       "<style scoped>\n",
       "    .dataframe tbody tr th:only-of-type {\n",
       "        vertical-align: middle;\n",
       "    }\n",
       "\n",
       "    .dataframe tbody tr th {\n",
       "        vertical-align: top;\n",
       "    }\n",
       "\n",
       "    .dataframe thead th {\n",
       "        text-align: right;\n",
       "    }\n",
       "</style>\n",
       "<table border=\"1\" class=\"dataframe\">\n",
       "  <thead>\n",
       "    <tr style=\"text-align: right;\">\n",
       "      <th></th>\n",
       "      <th>timestamp</th>\n",
       "      <th>action</th>\n",
       "      <th>quantity</th>\n",
       "      <th>base_token</th>\n",
       "      <th>limit_price</th>\n",
       "      <th>quote_token</th>\n",
       "      <th>deposit_address</th>\n",
       "      <th>q_pi_star</th>\n",
       "      <th>q_tau_star</th>\n",
       "      <th>effective_price</th>\n",
       "    </tr>\n",
       "  </thead>\n",
       "  <tbody>\n",
       "    <tr>\n",
       "      <th>0</th>\n",
       "      <td>2023-04-19 13:48:54.948404+00:00</td>\n",
       "      <td>buy</td>\n",
       "      <td>4</td>\n",
       "      <td>BTC</td>\n",
       "      <td>3.0</td>\n",
       "      <td>ETH</td>\n",
       "      <td>1</td>\n",
       "      <td>4.0</td>\n",
       "      <td>12.0</td>\n",
       "      <td>3.0</td>\n",
       "    </tr>\n",
       "    <tr>\n",
       "      <th>1</th>\n",
       "      <td>2023-04-19 13:48:54.950188+00:00</td>\n",
       "      <td>buy</td>\n",
       "      <td>2</td>\n",
       "      <td>BTC</td>\n",
       "      <td>3.5</td>\n",
       "      <td>ETH</td>\n",
       "      <td>1</td>\n",
       "      <td>2.0</td>\n",
       "      <td>7.0</td>\n",
       "      <td>3.5</td>\n",
       "    </tr>\n",
       "    <tr>\n",
       "      <th>2</th>\n",
       "      <td>2023-04-19 13:48:54.950289+00:00</td>\n",
       "      <td>sell</td>\n",
       "      <td>5</td>\n",
       "      <td>BTC</td>\n",
       "      <td>1.5</td>\n",
       "      <td>ETH</td>\n",
       "      <td>1</td>\n",
       "      <td>5.0</td>\n",
       "      <td>7.5</td>\n",
       "      <td>1.5</td>\n",
       "    </tr>\n",
       "    <tr>\n",
       "      <th>3</th>\n",
       "      <td>2023-04-19 13:48:54.950332+00:00</td>\n",
       "      <td>sell</td>\n",
       "      <td>3</td>\n",
       "      <td>BTC</td>\n",
       "      <td>1.9</td>\n",
       "      <td>ETH</td>\n",
       "      <td>1</td>\n",
       "      <td>3.0</td>\n",
       "      <td>13.5</td>\n",
       "      <td>4.5</td>\n",
       "    </tr>\n",
       "    <tr>\n",
       "      <th>4</th>\n",
       "      <td>2023-04-19 13:48:54.950371+00:00</td>\n",
       "      <td>buy</td>\n",
       "      <td>6</td>\n",
       "      <td>ETH</td>\n",
       "      <td>0.6</td>\n",
       "      <td>BTC</td>\n",
       "      <td>1</td>\n",
       "      <td>6.0</td>\n",
       "      <td>3.6</td>\n",
       "      <td>0.6</td>\n",
       "    </tr>\n",
       "    <tr>\n",
       "      <th>5</th>\n",
       "      <td>2023-04-19 13:48:54.950410+00:00</td>\n",
       "      <td>buy</td>\n",
       "      <td>2</td>\n",
       "      <td>ETH</td>\n",
       "      <td>2.0</td>\n",
       "      <td>BTC</td>\n",
       "      <td>1</td>\n",
       "      <td>2.0</td>\n",
       "      <td>4.0</td>\n",
       "      <td>2.0</td>\n",
       "    </tr>\n",
       "    <tr>\n",
       "      <th>6</th>\n",
       "      <td>2023-04-19 13:48:54.950449+00:00</td>\n",
       "      <td>sell</td>\n",
       "      <td>9</td>\n",
       "      <td>ETH</td>\n",
       "      <td>0.1</td>\n",
       "      <td>BTC</td>\n",
       "      <td>1</td>\n",
       "      <td>9.0</td>\n",
       "      <td>0.9</td>\n",
       "      <td>0.1</td>\n",
       "    </tr>\n",
       "    <tr>\n",
       "      <th>7</th>\n",
       "      <td>2023-04-19 13:48:54.950486+00:00</td>\n",
       "      <td>sell</td>\n",
       "      <td>1</td>\n",
       "      <td>ETH</td>\n",
       "      <td>0.25</td>\n",
       "      <td>BTC</td>\n",
       "      <td>1</td>\n",
       "      <td>1.0</td>\n",
       "      <td>8.7</td>\n",
       "      <td>8.7</td>\n",
       "    </tr>\n",
       "  </tbody>\n",
       "</table>\n",
       "</div>"
      ],
      "text/plain": [
       "                         timestamp action  quantity base_token  limit_price quote_token  deposit_address  q_pi_star  q_tau_star  effective_price\n",
       "0 2023-04-19 13:48:54.948404+00:00    buy         4        BTC          3.0         ETH                1        4.0        12.0              3.0\n",
       "1 2023-04-19 13:48:54.950188+00:00    buy         2        BTC          3.5         ETH                1        2.0         7.0              3.5\n",
       "2 2023-04-19 13:48:54.950289+00:00   sell         5        BTC          1.5         ETH                1        5.0         7.5              1.5\n",
       "3 2023-04-19 13:48:54.950332+00:00   sell         3        BTC          1.9         ETH                1        3.0        13.5              4.5\n",
       "4 2023-04-19 13:48:54.950371+00:00    buy         6        ETH          0.6         BTC                1        6.0         3.6              0.6\n",
       "5 2023-04-19 13:48:54.950410+00:00    buy         2        ETH          2.0         BTC                1        2.0         4.0              2.0\n",
       "6 2023-04-19 13:48:54.950449+00:00   sell         9        ETH          0.1         BTC                1        9.0         0.9              0.1\n",
       "7 2023-04-19 13:48:54.950486+00:00   sell         1        ETH         0.25         BTC                1        1.0         8.7              8.7"
      ]
     },
     "metadata": {},
     "output_type": "display_data"
    }
   ],
   "source": [
    "daoswap_results = ddacropt.run_daoswap_solver(orders)\n",
    "display(daoswap_results)"
   ]
  },
  {
   "cell_type": "code",
   "execution_count": null,
   "id": "ad783bb2",
   "metadata": {},
   "outputs": [],
   "source": []
  }
 ],
 "metadata": {
  "kernelspec": {
   "display_name": "Python 3 (ipykernel)",
   "language": "python",
   "name": "python3"
  },
  "language_info": {
   "codemirror_mode": {
    "name": "ipython",
    "version": 3
   },
   "file_extension": ".py",
   "mimetype": "text/x-python",
   "name": "python",
   "nbconvert_exporter": "python",
   "pygments_lexer": "ipython3",
   "version": "3.8.10"
  },
  "toc": {
   "base_numbering": 1,
   "nav_menu": {},
   "number_sections": true,
   "sideBar": true,
   "skip_h1_title": false,
   "title_cell": "Table of Contents",
   "title_sidebar": "Contents",
   "toc_cell": false,
   "toc_position": {},
   "toc_section_display": true,
   "toc_window_display": false
  }
 },
 "nbformat": 4,
 "nbformat_minor": 5
}
