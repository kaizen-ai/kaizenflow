{
 "cells": [
  {
   "cell_type": "code",
   "execution_count": 2,
   "id": "dabd8faa",
   "metadata": {},
   "outputs": [],
   "source": [
    "import os\n",
    "import sys\n",
    "import time\n",
    "import pprint\n",
    "\n",
    "from eth_account import Account\n",
    "from eth_account.signers.local import LocalAccount\n",
    "import web3\n",
    "from web3 import Web3, EthereumTesterProvider\n",
    "from web3.middleware import construct_sign_and_send_raw_middleware\n",
    "import solcx"
   ]
  },
  {
   "cell_type": "markdown",
   "id": "62307f20",
   "metadata": {},
   "source": [
    "# Set-up Ganache & Accounts"
   ]
  },
  {
   "cell_type": "code",
   "execution_count": 3,
   "id": "399b4d49",
   "metadata": {},
   "outputs": [],
   "source": [
    "ganache_url = \"http://127.0.0.1:8545\"\n",
    "w3 = web3.Web3(web3.Web3.HTTPProvider(ganache_url))"
   ]
  },
  {
   "cell_type": "code",
   "execution_count": 4,
   "id": "ead67cac",
   "metadata": {},
   "outputs": [
    {
     "name": "stdout",
     "output_type": "stream",
     "text": [
      "Your hot wallet address is 0x6531e2613bbbEEcd898356F7b9bEfBaEfd42804B\n"
     ]
    }
   ],
   "source": [
    "account_addr = \"0x90F8bf6A479f320ead074411a4B0e7944Ea8c9C1\"\n",
    "private_key = \"0x4f3edf983ac636a65a842ce7c78d9aa706d3b113bce9c46f30d7d21715b23b1d\"\n",
    "\n",
    "account: LocalAccount = Account.from_key(private_key)\n",
    "w3.middleware_onion.add(construct_sign_and_send_raw_middleware(account))\n",
    "\n",
    "print(f\"Your hot wallet address is {account.address}\")"
   ]
  },
  {
   "cell_type": "markdown",
   "id": "f56658e4",
   "metadata": {},
   "source": [
    "# Functions"
   ]
  },
  {
   "cell_type": "code",
   "execution_count": 47,
   "id": "33612ba6",
   "metadata": {},
   "outputs": [],
   "source": [
    "def compile_source_file(file_path):\n",
    "    with open(file_path, 'r') as f:\n",
    "        source = f.read()\n",
    "    return solcx.compile_source(source, output_values=[\"abi\", \"bin\", \"bin-runtime\"])\n",
    "\n",
    "\n",
    "def deploy_contract(w3, account, contract_interface):\n",
    "    func = w3.eth.contract(\n",
    "        abi=contract_interface[\"abi\"],\n",
    "        bytecode=contract_interface[\"bin\"]).constructor()\n",
    "    #\n",
    "    gas_estimate = func.estimate_gas()\n",
    "    print(\"gas_estimate=\", gas_estimate) \n",
    "    #\n",
    "    tx_hash = func.transact({\"from\": account})\n",
    "    address = w3.eth.get_transaction_receipt(tx_hash)[\"contractAddress\"]\n",
    "    return address\n",
    "\n",
    "def gas_estimate_for_func(w3, func):\n",
    "    # Get current gas price in GWEI from https://etherscan.io/gastracker.\n",
    "    gas_price = get_curr_gas_gwei()\n",
    "    print(\"Current gas price [GWEI]=\", gas_price)\n",
    "    gas_estimate = func.estimate_gas()\n",
    "    print(\"Gas estimate for func [units]=\", gas_estimate)\n",
    "    gas_to_usd(gas_estimate, gas_price)\n",
    "    \n",
    "    \n",
    "def gas_to_usd(gas_estimate, gas_price):\n",
    "    # Convert price to WEI.\n",
    "    gas_price_wei = gas_price * 1000000000\n",
    "    # Calculate function cost in WEI.\n",
    "    gas_cost = gas_estimate * gas_price_wei\n",
    "    # Calculate function cost in ETH.\n",
    "    gas_cost_eth = w3.fromWei(gas_cost, \"ether\")\n",
    "    print(\"Gas price for func [ETH]=\", gas_cost_eth)\n",
    "    #\n",
    "    eth_price_USD = 1523\n",
    "    gas_cost_USD = gas_cost_eth * eth_price_USD\n",
    "    print(\"Gas price for func [USD]=\", gas_cost_USD)\n",
    "    \n",
    "    \n",
    "def get_curr_gas_gwei():\n",
    "    return 18\n",
    "    "
   ]
  },
  {
   "cell_type": "markdown",
   "id": "bd398cbc",
   "metadata": {},
   "source": [
    "# Experiments"
   ]
  },
  {
   "cell_type": "markdown",
   "id": "1b2cf1c6",
   "metadata": {},
   "source": [
    "In the experimients we'll concentracte on the price of iterating the array of buy/ sell orders, since we're doing it twice in our code and this is considered as a coslty operation. Let's measure how the gas amount will scale with increasing of the numbers of orders.\n",
    "\n",
    "We will use only Buy Orders here since there is no big computational difference which order to iterate + we don't have ERC20 tokens to send to simulate Sell Order."
   ]
  },
  {
   "cell_type": "code",
   "execution_count": 7,
   "id": "7a265f34",
   "metadata": {},
   "outputs": [],
   "source": [
    "compiled = compile_source_file(\"contracts/DaoSwap.sol\")\n",
    "contract_interface = compiled[\"<stdin>:DaoSwap\"]"
   ]
  },
  {
   "cell_type": "code",
   "execution_count": 12,
   "id": "f463cc80",
   "metadata": {},
   "outputs": [],
   "source": [
    "contractName = \"DaoSwap\";\n",
    "tokens = [\"0xfb6115445Bff7b52FeB98650C87f44907E58f802\"];\n",
    "swapPeriodInSecs = 300;\n",
    "swapRandomizationInSecs = 5;\n",
    "feesAsPct = 5;\n",
    "priceMode = 3;\n",
    "priceOracle = \"0x547a514d5e3769680Ce22B2361c10Ea13619e8a9\";\n",
    "swapMode = 1;\n",
    "\n",
    "func=w3.eth.contract(\n",
    "    abi=contract_interface[\"abi\"],\n",
    "    bytecode=contract_interface[\"bin\"]).constructor(\n",
    "        contractName, \n",
    "        tokens,\n",
    "        swapPeriodInSecs,\n",
    "        swapRandomizationInSecs,\n",
    "        feesAsPct,\n",
    "        priceMode,\n",
    "        priceOracle,\n",
    "        swapMode)"
   ]
  },
  {
   "cell_type": "markdown",
   "id": "5eb6cb08",
   "metadata": {},
   "source": [
    "Estimate the price of deployment."
   ]
  },
  {
   "cell_type": "code",
   "execution_count": 23,
   "id": "9a0b8e63",
   "metadata": {},
   "outputs": [
    {
     "name": "stdout",
     "output_type": "stream",
     "text": [
      "Current gas price [GWEI]= 18\n",
      "Gas estimate for func [units]= 2701653\n",
      "Gas price for func [ETH]= 0.048629754\n",
      "Gas price for func [USD]= 74.063115342\n"
     ]
    }
   ],
   "source": [
    "# Get the price for deployment.\n",
    "gas_estimate_for_func(w3, func)"
   ]
  },
  {
   "cell_type": "markdown",
   "id": "3d31e3f7",
   "metadata": {},
   "source": [
    "Deploy the contract."
   ]
  },
  {
   "cell_type": "code",
   "execution_count": 14,
   "id": "a57acc38",
   "metadata": {},
   "outputs": [],
   "source": [
    "tx_hash = func.transact({\"from\": account_addr})\n",
    "address = w3.eth.get_transaction_receipt(tx_hash)[\"contractAddress\"]"
   ]
  },
  {
   "cell_type": "markdown",
   "id": "92ab9bfc",
   "metadata": {},
   "source": [
    "From ganache: gas usage 2778140"
   ]
  },
  {
   "cell_type": "markdown",
   "id": "2cdb00cc",
   "metadata": {},
   "source": [
    "Get DaoSwap contract instance."
   ]
  },
  {
   "cell_type": "code",
   "execution_count": 16,
   "id": "aa012336",
   "metadata": {},
   "outputs": [],
   "source": [
    "contract = w3.eth.contract(address=address, abi=contract_interface[\"abi\"])"
   ]
  },
  {
   "cell_type": "markdown",
   "id": "5aeba182",
   "metadata": {},
   "source": [
    "Construct Buy Orders arguments."
   ]
  },
  {
   "cell_type": "code",
   "execution_count": 17,
   "id": "a240ec6e",
   "metadata": {},
   "outputs": [],
   "source": [
    "token_to_buy=\"0xfb6115445Bff7b52FeB98650C87f44907E58f802\"\n",
    "amount_of_token_18dec=1000000000000000000\n",
    "limit_price=54430000000000000\n",
    "deposit_addr=\"0x5B38Da6a701c568545dCfcB03FcB875f56beddC4\""
   ]
  },
  {
   "cell_type": "code",
   "execution_count": 18,
   "id": "7137e9e5",
   "metadata": {},
   "outputs": [],
   "source": [
    "buy_order = contract.functions.buyOrder(token_to_buy,\n",
    "                           amount_of_token_18dec,\n",
    "                           limit_price,\n",
    "                           deposit_addr).transact(\n",
    "                    {\"from\": account_addr, \"value\": 54430000000000000})"
   ]
  },
  {
   "cell_type": "code",
   "execution_count": 23,
   "id": "8f77065f",
   "metadata": {},
   "outputs": [
    {
     "data": {
      "text/plain": [
       "AttributeDict({'transactionHash': HexBytes('0x1922fc32053543102696bd809160ee187a71b8b1511e5bec667a5cd20183f8ae'),\n",
       " 'transactionIndex': 0,\n",
       " 'blockNumber': 3,\n",
       " 'blockHash': HexBytes('0x3ff94b4150a47eafe0d50c6740ad43533cda6b501a1ae74b270c2b677f241bed'),\n",
       " 'from': '0x90F8bf6A479f320ead074411a4B0e7944Ea8c9C1',\n",
       " 'to': '0x5b1869D9A4C187F2EAa108f3062412ecf0526b24',\n",
       " 'cumulativeGasUsed': 183893,\n",
       " 'gasUsed': 183893,\n",
       " 'contractAddress': None,\n",
       " 'logs': [],\n",
       " 'logsBloom': HexBytes('0x00000000000000000000000000000000000000000000000000000000000000000000000000000000000000000000000000000000000000000000000000000000000000000000000000000000000000000000000000000000000000000000000000000000000000000000000000000000000000000000000000000000000000000000000000000000000000000000000000000000000000000000000000000000000000000000000000000000000000000000000000000000000000000000000000000000000000000000000000000000000000000000000000000000000000000000000000000000000000000000000000000000000000000000000000000000'),\n",
       " 'status': 1,\n",
       " 'effectiveGasPrice': 1705466848,\n",
       " 'type': '0x2'})"
      ]
     },
     "execution_count": 23,
     "metadata": {},
     "output_type": "execute_result"
    }
   ],
   "source": [
    "# 183893 gas\n",
    "w3.eth.wait_for_transaction_receipt(buy_order)"
   ]
  },
  {
   "cell_type": "markdown",
   "id": "d420699c",
   "metadata": {},
   "source": [
    "Check if the order was added - get the current array of Orders."
   ]
  },
  {
   "cell_type": "code",
   "execution_count": 24,
   "id": "335c44dd",
   "metadata": {},
   "outputs": [
    {
     "data": {
      "text/plain": [
       "[(True,\n",
       "  False,\n",
       "  '0xfb6115445Bff7b52FeB98650C87f44907E58f802',\n",
       "  '0x0000000000000000000000000000000000000000',\n",
       "  '0x5B38Da6a701c568545dCfcB03FcB875f56beddC4',\n",
       "  '0x90F8bf6A479f320ead074411a4B0e7944Ea8c9C1',\n",
       "  1676270695,\n",
       "  1000000000000000000,\n",
       "  54430000000000000)]"
      ]
     },
     "execution_count": 24,
     "metadata": {},
     "output_type": "execute_result"
    }
   ],
   "source": [
    "contract.functions.getOrders().call({\"from\": account_addr})"
   ]
  },
  {
   "cell_type": "markdown",
   "id": "cbe34107",
   "metadata": {},
   "source": [
    "We have for loops in `getTotals` and `executeProportional` functions. Let's check how amount of consumed gas will increase with the growth of Orders array."
   ]
  },
  {
   "cell_type": "markdown",
   "id": "6f896d53",
   "metadata": {},
   "source": [
    "Iterate one order."
   ]
  },
  {
   "cell_type": "code",
   "execution_count": 29,
   "id": "82367ec3",
   "metadata": {
    "scrolled": true
   },
   "outputs": [
    {
     "name": "stdout",
     "output_type": "stream",
     "text": [
      "Current gas price [GWEI]= 18\n",
      "Gas estimate for func [units]= 31680\n",
      "Gas price for func [ETH]= 0.00057024\n",
      "Gas price for func [USD]= 0.86847552\n"
     ]
    }
   ],
   "source": [
    "price_of_token = 54330000000000000\n",
    "print_gas_estimate(w3, contract.functions.getTotals(price_of_token))"
   ]
  },
  {
   "cell_type": "code",
   "execution_count": 31,
   "id": "2d584305",
   "metadata": {},
   "outputs": [
    {
     "data": {
      "text/plain": [
       "[1000000000000000000, 0]"
      ]
     },
     "execution_count": 31,
     "metadata": {},
     "output_type": "execute_result"
    }
   ],
   "source": [
    "contract.functions.getTotals(price_of_token).call()\n",
    "# 1000000000000000000 = 1 token with 18 decimals"
   ]
  },
  {
   "cell_type": "markdown",
   "id": "0e61c202",
   "metadata": {},
   "source": [
    "Add one more order and check how the gas price will change."
   ]
  },
  {
   "cell_type": "code",
   "execution_count": 32,
   "id": "e51df349",
   "metadata": {},
   "outputs": [],
   "source": [
    "buy_order = contract.functions.buyOrder(token_to_buy,\n",
    "                           amount_of_token_18dec,\n",
    "                           limit_price,\n",
    "                           deposit_addr).transact(\n",
    "                    {\"from\": account_addr, \"value\": 54430000000000000})"
   ]
  },
  {
   "cell_type": "code",
   "execution_count": 33,
   "id": "cc091eba",
   "metadata": {},
   "outputs": [
    {
     "data": {
      "text/plain": [
       "[(True,\n",
       "  False,\n",
       "  '0xfb6115445Bff7b52FeB98650C87f44907E58f802',\n",
       "  '0x0000000000000000000000000000000000000000',\n",
       "  '0x5B38Da6a701c568545dCfcB03FcB875f56beddC4',\n",
       "  '0x90F8bf6A479f320ead074411a4B0e7944Ea8c9C1',\n",
       "  1676270695,\n",
       "  1000000000000000000,\n",
       "  54430000000000000),\n",
       " (True,\n",
       "  False,\n",
       "  '0xfb6115445Bff7b52FeB98650C87f44907E58f802',\n",
       "  '0x0000000000000000000000000000000000000000',\n",
       "  '0x5B38Da6a701c568545dCfcB03FcB875f56beddC4',\n",
       "  '0x90F8bf6A479f320ead074411a4B0e7944Ea8c9C1',\n",
       "  1676271496,\n",
       "  1000000000000000000,\n",
       "  54430000000000000)]"
      ]
     },
     "execution_count": 33,
     "metadata": {},
     "output_type": "execute_result"
    }
   ],
   "source": [
    "contract.functions.getOrders().call({\"from\": account_addr})"
   ]
  },
  {
   "cell_type": "markdown",
   "id": "ccd87be4",
   "metadata": {},
   "source": [
    "Iterate two orders."
   ]
  },
  {
   "cell_type": "code",
   "execution_count": 35,
   "id": "2d82fa90",
   "metadata": {},
   "outputs": [
    {
     "name": "stdout",
     "output_type": "stream",
     "text": [
      "Current gas price [GWEI]= 18\n",
      "Gas estimate for func [units]= 39167\n",
      "Gas price for func [ETH]= 0.000705006\n",
      "Gas price for func [USD]= 1.073724138\n"
     ]
    }
   ],
   "source": [
    "print_gas_estimate(w3, contract.functions.getTotals(price_of_token))"
   ]
  },
  {
   "cell_type": "markdown",
   "id": "1431cd0e",
   "metadata": {},
   "source": [
    "We already have 2 orders, let's add 98 more to get 100 overall. Let's imagine that we're a famous swap and can get 100 orders in 300 seconds!"
   ]
  },
  {
   "cell_type": "code",
   "execution_count": 36,
   "id": "6d88bee3",
   "metadata": {},
   "outputs": [],
   "source": [
    "for i in range(98):\n",
    "    contract.functions.buyOrder(token_to_buy,\n",
    "                           amount_of_token_18dec,\n",
    "                           limit_price,\n",
    "                           deposit_addr).transact(\n",
    "                    {\"from\": account_addr, \"value\": 54430000000000000})\n",
    "    "
   ]
  },
  {
   "cell_type": "code",
   "execution_count": 38,
   "id": "f07e89b9",
   "metadata": {},
   "outputs": [
    {
     "data": {
      "text/plain": [
       "100"
      ]
     },
     "execution_count": 38,
     "metadata": {},
     "output_type": "execute_result"
    }
   ],
   "source": [
    "len(contract.functions.getOrders().call({\"from\": account_addr}))"
   ]
  },
  {
   "cell_type": "markdown",
   "id": "535f047f",
   "metadata": {},
   "source": [
    "Iterate 100 orders."
   ]
  },
  {
   "cell_type": "code",
   "execution_count": 39,
   "id": "5c9b3469",
   "metadata": {},
   "outputs": [
    {
     "name": "stdout",
     "output_type": "stream",
     "text": [
      "Current gas price [GWEI]= 18\n",
      "Gas estimate for func [units]= 772893\n",
      "Gas price for func [ETH]= 0.013912074\n",
      "Gas price for func [USD]= 21.188088702\n"
     ]
    }
   ],
   "source": [
    "print_gas_estimate(w3, contract.functions.getTotals(price_of_token))"
   ]
  },
  {
   "cell_type": "markdown",
   "id": "cc70a413",
   "metadata": {},
   "source": [
    "But `getTotals` is not the only function with the for loop we have! To reproduce the whole swap cycle, we also need to `executeProportional`, which iterates the orders and sends eth/tokens to users."
   ]
  },
  {
   "cell_type": "code",
   "execution_count": 44,
   "id": "3c6a8b6b",
   "metadata": {},
   "outputs": [],
   "source": [
    "tokens_to_buy = 102000000000000000000\n",
    "tokens_to_sell = 0\n",
    "decimals = 3\n",
    "\n",
    "execute_prop = contract.functions.executeProportional(\n",
    "    tokens_to_buy, \n",
    "    tokens_to_sell, \n",
    "    decimals, \n",
    "    price_of_token).call({\"from\": account_addr})\n"
   ]
  },
  {
   "cell_type": "code",
   "execution_count": 50,
   "id": "592a6395",
   "metadata": {},
   "outputs": [
    {
     "data": {
      "text/plain": [
       "[]"
      ]
     },
     "execution_count": 50,
     "metadata": {},
     "output_type": "execute_result"
    }
   ],
   "source": [
    "# Function does not return anything.\n",
    "execute_prop"
   ]
  },
  {
   "cell_type": "markdown",
   "id": "edc9ae4a",
   "metadata": {},
   "source": [
    "I took transaction hash from ganache console."
   ]
  },
  {
   "cell_type": "code",
   "execution_count": 45,
   "id": "71cca0ea",
   "metadata": {},
   "outputs": [
    {
     "data": {
      "text/plain": [
       "AttributeDict({'transactionHash': HexBytes('0x3b142c88da51d827f2cba8cc5b05dc9a769129ce2fb7fabb00cd039dbe4d2114'),\n",
       " 'transactionIndex': 0,\n",
       " 'blockNumber': 101,\n",
       " 'blockHash': HexBytes('0x1f95b699cbb3bca375bcef6cb0950ac3e59c866acbd52195ebdf6666b5934dc8'),\n",
       " 'from': '0x90F8bf6A479f320ead074411a4B0e7944Ea8c9C1',\n",
       " 'to': '0xe78A0F7E598Cc8b0Bb87894B0F60dD2a88d6a8Ab',\n",
       " 'cumulativeGasUsed': 166793,\n",
       " 'gasUsed': 166793,\n",
       " 'contractAddress': None,\n",
       " 'logs': [],\n",
       " 'logsBloom': HexBytes('0x00000000000000000000000000000000000000000000000000000000000000000000000000000000000000000000000000000000000000000000000000000000000000000000000000000000000000000000000000000000000000000000000000000000000000000000000000000000000000000000000000000000000000000000000000000000000000000000000000000000000000000000000000000000000000000000000000000000000000000000000000000000000000000000000000000000000000000000000000000000000000000000000000000000000000000000000000000000000000000000000000000000000000000000000000000000'),\n",
       " 'status': 1,\n",
       " 'effectiveGasPrice': 1000001673,\n",
       " 'type': '0x2'})"
      ]
     },
     "execution_count": 45,
     "metadata": {},
     "output_type": "execute_result"
    }
   ],
   "source": [
    "w3.eth.wait_for_transaction_receipt(\"0x3b142c88da51d827f2cba8cc5b05dc9a769129ce2fb7fabb00cd039dbe4d2114\")"
   ]
  },
  {
   "cell_type": "markdown",
   "id": "8469dc2e",
   "metadata": {},
   "source": [
    "Also we need to keep in mind that `executeProportional` sends tokens to users by design, but in compiled code the line that sends tokens\n",
    "`IERC20(orders[i].tokenToBuy).transfer(orders[i].depositAddress, tokenAmount);`\n",
    "is commented out since we don't have tokens to send.\n"
   ]
  },
  {
   "cell_type": "code",
   "execution_count": 48,
   "id": "69fa895c",
   "metadata": {},
   "outputs": [
    {
     "name": "stdout",
     "output_type": "stream",
     "text": [
      "Gas price for func [ETH]= 0.003002274\n",
      "Gas price for func [USD]= 4.572463302\n"
     ]
    }
   ],
   "source": [
    "gas_to_usd(166793, 18)"
   ]
  },
  {
   "cell_type": "markdown",
   "id": "a33997ef",
   "metadata": {},
   "source": [
    "**How to improve: combine mapping and array**"
   ]
  },
  {
   "cell_type": "markdown",
   "id": "996b9906",
   "metadata": {},
   "source": [
    "From https://www.devtwins.com/blog/understanding-mapping-vs-array-in-solidity:\n",
    "    \n",
    "`If you need to be able to iterate over your group of data (such as with a for loop), then use an array.\n",
    "\n",
    "If you don't need to be able to iterate over your data, and will be able to fetch values based on a known key, then use a mapping.\n",
    "\n",
    "However, sometimes it is optimal to use both. Since iterating over an array can be an expensive action in Solidity (compared to fetching data from a mapping), and since you may want to be able to store both a value and its key within your smart contract, developers sometimes opt to create an array of keys, which serve as a reference to even more data that can then be retrieved from its associated value inside of a mapping.\n",
    "\n",
    "Keep in mind that you should never allow an array in Solidity to grow too large, since in theory iterating over a big enough array could end up costing more in gas fees than the value of the transaction is worth (another reason to consider using mapping when possible).`"
   ]
  },
  {
   "cell_type": "markdown",
   "id": "5086e7b4",
   "metadata": {},
   "source": [
    "**About the gas refunds**\n",
    "\n",
    "After each swap we erase the orders array, so we'll get some gas refunds."
   ]
  },
  {
   "cell_type": "markdown",
   "id": "165a5c73",
   "metadata": {},
   "source": [
    "From https://soliditydeveloper.com/design-pattern-solidity-free-up-unused-storage:\n",
    "\n",
    "You can receive gas refunds for releasing unused storage. In the yellow paper on page 25 'Appendix G. Fee Schedule', you can read the gas costs for each instruction. As you might know, SSTORE will generally create the most costs in your contracts with a significant cost of 20,000 gas per instruction. On the contrary, if you look at R_sclear:\n",
    "\n",
    "Refund given when the storage value is set to zero from non-zero.\n",
    "\n",
    "15,000 gas refund means you can actually get 75% of your storing costs back! That is a large amount, do not forget about this. And the solution is simple, just set a value back to 0 once you are sure it will not be used anymore.\n",
    "\n"
   ]
  },
  {
   "cell_type": "code",
   "execution_count": null,
   "id": "2dd4ff7f",
   "metadata": {},
   "outputs": [],
   "source": []
  }
 ],
 "metadata": {
  "kernelspec": {
   "display_name": "Python 3",
   "language": "python",
   "name": "python3"
  },
  "language_info": {
   "codemirror_mode": {
    "name": "ipython",
    "version": 3
   },
   "file_extension": ".py",
   "mimetype": "text/x-python",
   "name": "python",
   "nbconvert_exporter": "python",
   "pygments_lexer": "ipython3",
   "version": "3.8.10"
  },
  "vscode": {
   "interpreter": {
    "hash": "916dbcbb3f70747c44a77c7bcd40155683ae19c65e1c03b4aa3499c5328201f1"
   }
  }
 },
 "nbformat": 4,
 "nbformat_minor": 5
}
