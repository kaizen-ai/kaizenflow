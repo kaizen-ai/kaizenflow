{
 "cells": [
  {
   "cell_type": "markdown",
   "id": "85eef944",
   "metadata": {},
   "source": [
    "# Binance native downloader"
   ]
  },
  {
   "cell_type": "markdown",
   "id": "3ad45660",
   "metadata": {
    "heading_collapsed": true
   },
   "source": [
    "## Clone repo"
   ]
  },
  {
   "cell_type": "markdown",
   "id": "306c0a52",
   "metadata": {
    "hidden": true
   },
   "source": [
    "```bash\n",
    "git clone https://github.com/binance/binance-public-data.git\n",
    "cd binance-public-data\n",
    "```"
   ]
  },
  {
   "cell_type": "markdown",
   "id": "61f1c89b",
   "metadata": {
    "heading_collapsed": true
   },
   "source": [
    "## Download one month data"
   ]
  },
  {
   "cell_type": "markdown",
   "id": "ed3d2af9",
   "metadata": {
    "hidden": true
   },
   "source": [
    "```bash\n",
    "python3 download-trade.py -t um -s \"BTCUSDT\" -startDate 2023-03-01 -endDate 2023-03-01 -folder \"/app/im_v2/binance/data/download\"\n",
    "```"
   ]
  },
  {
   "cell_type": "markdown",
   "id": "38043464",
   "metadata": {
    "hidden": true
   },
   "source": [
    "```bash\n",
    "python3 download-trade.py -t spot -s \"BTCUSDT\" -startDate 2020-01-01 -endDate 2020-02-01 -folder \"/app/im_v2/binance/data/download\"\n",
    "```"
   ]
  },
  {
   "cell_type": "markdown",
   "id": "eaf05ec1",
   "metadata": {},
   "source": [
    "# Imports"
   ]
  },
  {
   "cell_type": "code",
   "execution_count": 4,
   "id": "0d80c28c",
   "metadata": {
    "ExecuteTime": {
     "end_time": "2023-04-17T07:32:05.656804Z",
     "start_time": "2023-04-17T07:32:02.617004Z"
    }
   },
   "outputs": [
    {
     "name": "stderr",
     "output_type": "stream",
     "text": [
      "/app/core/signal_processing/decorrelation.py:12: TqdmExperimentalWarning: Using `tqdm.autonotebook.tqdm` in notebook mode. Use `tqdm.tqdm` instead to force console mode (e.g. in jupyter console)\n",
      "  from tqdm.autonotebook import tqdm\n"
     ]
    }
   ],
   "source": [
    "import logging\n",
    "\n",
    "import numpy as np\n",
    "import pandas as pd\n",
    "\n",
    "import helpers.hdatetime as hdateti\n",
    "import helpers.hdbg as hdbg\n",
    "import helpers.henv as henv\n",
    "import helpers.hpandas as hpandas\n",
    "import helpers.hprint as hprint\n",
    "import im_v2.ccxt.data.extract.extractor as ivcdexex\n",
    "import im_v2.common.data.client.im_raw_data_client as imvcdcimrdc\n",
    "import im_v2.common.data.qa.dataset_validator as imvcdqdava\n",
    "import im_v2.common.data.qa.qa_check as imvcdqqach\n",
    "import im_v2.common.universe as ivcu\n",
    "import im_v2.common.universe.universe as imvcounun\n",
    "\n",
    "%load_ext autoreload\n",
    "%autoreload 2"
   ]
  },
  {
   "cell_type": "code",
   "execution_count": 5,
   "id": "aecd42b2",
   "metadata": {
    "ExecuteTime": {
     "end_time": "2023-04-17T07:32:05.996219Z",
     "start_time": "2023-04-17T07:32:05.659931Z"
    }
   },
   "outputs": [
    {
     "name": "stdout",
     "output_type": "stream",
     "text": [
      "\u001b[0m\u001b[36mINFO\u001b[0m: > cmd='/venv/lib/python3.8/site-packages/ipykernel_launcher.py -f /home/.local/share/jupyter/runtime/kernel-9ce134c5-c361-4152-866a-3fc617f88e8a.json'\n",
      "WARNING: Running in Jupyter\n",
      "\u001b[31m-----------------------------------------------------------------------------\n",
      "This code is not in sync with the container:\n",
      "code_version='1.4.3' != container_version='1.4.0'\n",
      "-----------------------------------------------------------------------------\n",
      "You need to:\n",
      "- merge origin/master into your branch with `invoke git_merge_master`\n",
      "- pull the latest container with `invoke docker_pull`\u001b[0m\n",
      "INFO  # Git\n",
      "  branch_name='CmTask4098_Download_binance_spotfutures_historical_trades_data'\n",
      "  hash='bc6b60131'\n",
      "  # Last commits:\n",
      "    * bc6b60131 Grigorii Pomazkin checkpoint (#4230)                                                (    2 days ago) Fri Apr 14 20:18:37 2023  (HEAD -> CmTask4098_Download_binance_spotfutures_historical_trades_data, origin/master, origin/HEAD, origin/CmTask4098_Download_binance_spotfutures_historical_trades_data, master)\n",
      "    * cec6e5bed Nina Lee Cm task4175 test log child order (#4233)                          (    3 days ago) Fri Apr 14 17:43:19 2023           \n",
      "    * 7618d8655 Nina Lee CmTask4175_log_child_order_fills (#4215)                          (    3 days ago) Fri Apr 14 17:00:46 2023           \n",
      "# Machine info\n",
      "  system=Linux\n",
      "  node name=7fd160e9dd79\n",
      "  release=5.15.0-1033-aws\n",
      "  version=#37~20.04.1-Ubuntu SMP Fri Mar 17 11:39:30 UTC 2023\n",
      "  machine=x86_64\n",
      "  processor=x86_64\n",
      "  cpu count=8\n",
      "  cpu freq=scpufreq(current=2499.998, min=0.0, max=0.0)\n",
      "  memory=svmem(total=33292873728, available=29776252928, percent=10.6, used=3053301760, free=11569557504, active=7149441024, inactive=12253708288, buffers=2731495424, cached=15938519040, shared=1794048, slab=2073960448)\n",
      "  disk usage=sdiskusage(total=156052275200, used=42006388736, free=114029109248, percent=26.9)\n",
      "# Packages\n",
      "  python: 3.8.10\n",
      "  cvxopt: 1.3.0\n",
      "  cvxpy: 1.2.2\n",
      "  gluonnlp: ?\n",
      "  gluonts: 0.6.7\n",
      "  joblib: 1.2.0\n",
      "  mxnet: 1.9.1\n",
      "  numpy: 1.23.4\n",
      "  pandas: 1.5.1\n",
      "  pyarrow: 10.0.0\n",
      "  scipy: 1.9.3\n",
      "  seaborn: 0.12.1\n",
      "  sklearn: 1.1.3\n",
      "  statsmodels: 0.13.5\n"
     ]
    }
   ],
   "source": [
    "hdbg.init_logger(verbosity=logging.INFO)\n",
    "\n",
    "_LOG = logging.getLogger(__name__)\n",
    "\n",
    "_LOG.info(\"%s\", henv.get_system_signature()[0])\n",
    "\n",
    "hprint.config_notebook()"
   ]
  },
  {
   "cell_type": "markdown",
   "id": "39cb867f",
   "metadata": {
    "heading_collapsed": true
   },
   "source": [
    "# Download 1 day by CCXT extractor"
   ]
  },
  {
   "cell_type": "code",
   "execution_count": 18,
   "id": "2aaae006",
   "metadata": {
    "ExecuteTime": {
     "end_time": "2023-03-15T15:12:27.074500Z",
     "start_time": "2023-03-15T15:11:52.728273Z"
    },
    "hidden": true
   },
   "outputs": [
    {
     "name": "stdout",
     "output_type": "stream",
     "text": [
      "\u001b[0m\u001b[36mINFO\u001b[0m: > cmd='/app/im_v2/common/data/extract/download_bulk.py --download_mode bulk --downloading_entity manual --action_tag downloaded_1min --vendor ccxt --start_timestamp 2023-03-01T00:00:00+00:00 --end_timestamp 2023-03-01T00:10:00+00:00 --exchange_id binance --universe v7.3 --aws_profile ck --data_type trades --data_format csv --contract_type futures --s3_path s3://cryptokaizen-data-test/'\n",
      "report_memory_usage=False report_cpu_usage=False\n",
      "\u001b[36mINFO\u001b[0m: Saving log to file '/app/im_v2/common/data/extract/download_bulk.py.log'\n",
      "11:11:56 - \u001b[36mINFO \u001b[0m dataset_schema_utils.py _get_dataset_schema_file_path:39 Loading dataset schema file: /app/data_schema/dataset_schema_versions/dataset_schema_v3.json\n",
      "11:11:56 - \u001b[36mINFO \u001b[0m dataset_schema_utils.py get_dataset_schema:74          Loaded dataset schema version v3\n",
      "11:12:00 - \u001b[36mINFO \u001b[0m extract_utils.py download_historical_data:734          Saving the dataset into s3://cryptokaizen-data-test/v3/bulk/manual/downloaded_1min/csv/trades/futures/v7_3/ccxt/binance/v1_0_0\n",
      "11:12:07 - \u001b[36mINFO \u001b[0m extract_utils.py download_historical_data:734          Saving the dataset into s3://cryptokaizen-data-test/v3/bulk/manual/downloaded_1min/csv/trades/futures/v7_3/ccxt/binance/v1_0_0\n",
      "11:12:08 - \u001b[36mINFO \u001b[0m extract_utils.py download_historical_data:734          Saving the dataset into s3://cryptokaizen-data-test/v3/bulk/manual/downloaded_1min/csv/trades/futures/v7_3/ccxt/binance/v1_0_0\n",
      "11:12:08 - \u001b[36mINFO \u001b[0m extract_utils.py download_historical_data:734          Saving the dataset into s3://cryptokaizen-data-test/v3/bulk/manual/downloaded_1min/csv/trades/futures/v7_3/ccxt/binance/v1_0_0\n",
      "11:12:09 - \u001b[36mINFO \u001b[0m extract_utils.py download_historical_data:734          Saving the dataset into s3://cryptokaizen-data-test/v3/bulk/manual/downloaded_1min/csv/trades/futures/v7_3/ccxt/binance/v1_0_0\n",
      "11:12:10 - \u001b[36mINFO \u001b[0m extract_utils.py download_historical_data:734          Saving the dataset into s3://cryptokaizen-data-test/v3/bulk/manual/downloaded_1min/csv/trades/futures/v7_3/ccxt/binance/v1_0_0\n",
      "11:12:11 - \u001b[36mINFO \u001b[0m extract_utils.py download_historical_data:734          Saving the dataset into s3://cryptokaizen-data-test/v3/bulk/manual/downloaded_1min/csv/trades/futures/v7_3/ccxt/binance/v1_0_0\n",
      "11:12:11 - \u001b[36mINFO \u001b[0m extract_utils.py download_historical_data:734          Saving the dataset into s3://cryptokaizen-data-test/v3/bulk/manual/downloaded_1min/csv/trades/futures/v7_3/ccxt/binance/v1_0_0\n",
      "11:12:12 - \u001b[36mINFO \u001b[0m extract_utils.py download_historical_data:734          Saving the dataset into s3://cryptokaizen-data-test/v3/bulk/manual/downloaded_1min/csv/trades/futures/v7_3/ccxt/binance/v1_0_0\n",
      "11:12:14 - \u001b[36mINFO \u001b[0m extract_utils.py download_historical_data:734          Saving the dataset into s3://cryptokaizen-data-test/v3/bulk/manual/downloaded_1min/csv/trades/futures/v7_3/ccxt/binance/v1_0_0\n",
      "11:12:14 - \u001b[36mINFO \u001b[0m extract_utils.py download_historical_data:734          Saving the dataset into s3://cryptokaizen-data-test/v3/bulk/manual/downloaded_1min/csv/trades/futures/v7_3/ccxt/binance/v1_0_0\n",
      "11:12:14 - \u001b[36mINFO \u001b[0m extract_utils.py download_historical_data:734          Saving the dataset into s3://cryptokaizen-data-test/v3/bulk/manual/downloaded_1min/csv/trades/futures/v7_3/ccxt/binance/v1_0_0\n",
      "11:12:15 - \u001b[36mINFO \u001b[0m extract_utils.py download_historical_data:734          Saving the dataset into s3://cryptokaizen-data-test/v3/bulk/manual/downloaded_1min/csv/trades/futures/v7_3/ccxt/binance/v1_0_0\n",
      "11:12:15 - \u001b[36mINFO \u001b[0m extract_utils.py download_historical_data:734          Saving the dataset into s3://cryptokaizen-data-test/v3/bulk/manual/downloaded_1min/csv/trades/futures/v7_3/ccxt/binance/v1_0_0\n",
      "11:12:16 - \u001b[36mINFO \u001b[0m extract_utils.py download_historical_data:734          Saving the dataset into s3://cryptokaizen-data-test/v3/bulk/manual/downloaded_1min/csv/trades/futures/v7_3/ccxt/binance/v1_0_0\n",
      "11:12:17 - \u001b[36mINFO \u001b[0m extract_utils.py download_historical_data:734          Saving the dataset into s3://cryptokaizen-data-test/v3/bulk/manual/downloaded_1min/csv/trades/futures/v7_3/ccxt/binance/v1_0_0\n",
      "11:12:17 - \u001b[36mINFO \u001b[0m extract_utils.py download_historical_data:734          Saving the dataset into s3://cryptokaizen-data-test/v3/bulk/manual/downloaded_1min/csv/trades/futures/v7_3/ccxt/binance/v1_0_0\n",
      "11:12:18 - \u001b[36mINFO \u001b[0m extract_utils.py download_historical_data:734          Saving the dataset into s3://cryptokaizen-data-test/v3/bulk/manual/downloaded_1min/csv/trades/futures/v7_3/ccxt/binance/v1_0_0\n",
      "11:12:19 - \u001b[36mINFO \u001b[0m extract_utils.py download_historical_data:734          Saving the dataset into s3://cryptokaizen-data-test/v3/bulk/manual/downloaded_1min/csv/trades/futures/v7_3/ccxt/binance/v1_0_0\n",
      "11:12:21 - \u001b[36mINFO \u001b[0m extract_utils.py download_historical_data:734          Saving the dataset into s3://cryptokaizen-data-test/v3/bulk/manual/downloaded_1min/csv/trades/futures/v7_3/ccxt/binance/v1_0_0\n",
      "11:12:23 - \u001b[36mINFO \u001b[0m extract_utils.py download_historical_data:734          Saving the dataset into s3://cryptokaizen-data-test/v3/bulk/manual/downloaded_1min/csv/trades/futures/v7_3/ccxt/binance/v1_0_0\n",
      "11:12:23 - \u001b[36mINFO \u001b[0m extract_utils.py download_historical_data:734          Saving the dataset into s3://cryptokaizen-data-test/v3/bulk/manual/downloaded_1min/csv/trades/futures/v7_3/ccxt/binance/v1_0_0\n",
      "11:12:24 - \u001b[36mINFO \u001b[0m extract_utils.py download_historical_data:734          Saving the dataset into s3://cryptokaizen-data-test/v3/bulk/manual/downloaded_1min/csv/trades/futures/v7_3/ccxt/binance/v1_0_0\n",
      "11:12:26 - \u001b[36mINFO \u001b[0m extract_utils.py download_historical_data:734          Saving the dataset into s3://cryptokaizen-data-test/v3/bulk/manual/downloaded_1min/csv/trades/futures/v7_3/ccxt/binance/v1_0_0\n",
      "11:12:26 - \u001b[36mINFO \u001b[0m extract_utils.py download_historical_data:734          Saving the dataset into s3://cryptokaizen-data-test/v3/bulk/manual/downloaded_1min/csv/trades/futures/v7_3/ccxt/binance/v1_0_0\n",
      "11:12:26 - \u001b[36mINFO \u001b[0m hcache.py clear_global_cache:292                       Before clear_global_cache: 'global mem' cache: path='/mnt/tmpfs/tmp.cache.mem', size=32.0 KB\n",
      "11:12:26 - \u001b[41mWARN \u001b[0m hcache.py clear_global_cache:293                       Resetting 'global mem' cache '/mnt/tmpfs/tmp.cache.mem'\n",
      "11:12:26 - \u001b[41mWARN \u001b[0m hcache.py clear_global_cache:303                       Destroying '/mnt/tmpfs/tmp.cache.mem' ...\n",
      "11:12:26 - \u001b[36mINFO \u001b[0m hcache.py clear_global_cache:319                       After clear_global_cache: 'global mem' cache: path='/mnt/tmpfs/tmp.cache.mem', size=nan\n"
     ]
    }
   ],
   "source": [
    "%%bash\n",
    "/app/im_v2/common/data/extract/download_bulk.py \\\n",
    "    --download_mode 'bulk' \\\n",
    "    --downloading_entity 'manual' \\\n",
    "    --action_tag 'downloaded_1min' \\\n",
    "    --vendor 'ccxt' \\\n",
    "    --start_timestamp '2023-03-01T00:00:00+00:00' \\\n",
    "    --end_timestamp '2023-03-01T00:10:00+00:00' \\\n",
    "    --exchange_id 'binance' \\\n",
    "    --universe 'v7.3' \\\n",
    "    --aws_profile 'ck' \\\n",
    "    --data_type 'trades' \\\n",
    "    --data_format 'csv' \\\n",
    "    --contract_type 'futures' \\\n",
    "    --s3_path 's3://cryptokaizen-data-test/'"
   ]
  },
  {
   "cell_type": "markdown",
   "id": "21f82b32",
   "metadata": {
    "heading_collapsed": true
   },
   "source": [
    "# Read CCXT extractor data"
   ]
  },
  {
   "cell_type": "code",
   "execution_count": 59,
   "id": "ec2ecb59",
   "metadata": {
    "ExecuteTime": {
     "end_time": "2023-03-22T16:51:29.094978Z",
     "start_time": "2023-03-22T16:51:27.699422Z"
    },
    "hidden": true
   },
   "outputs": [
    {
     "name": "stdout",
     "output_type": "stream",
     "text": [
      "s3://cryptokaizen-data-test\n",
      "s3://cryptokaizen-data-test/v3/bulk/manual/downloaded_1min/csv/trades/futures/v7_3/ccxt/binance/v1_0_0\n"
     ]
    },
    {
     "data": {
      "text/html": [
       "<div>\n",
       "<style scoped>\n",
       "    .dataframe tbody tr th:only-of-type {\n",
       "        vertical-align: middle;\n",
       "    }\n",
       "\n",
       "    .dataframe tbody tr th {\n",
       "        vertical-align: top;\n",
       "    }\n",
       "\n",
       "    .dataframe thead th {\n",
       "        text-align: right;\n",
       "    }\n",
       "</style>\n",
       "<table border=\"1\" class=\"dataframe\">\n",
       "  <thead>\n",
       "    <tr style=\"text-align: right;\">\n",
       "      <th></th>\n",
       "      <th>id</th>\n",
       "      <th>timestamp</th>\n",
       "      <th>symbol</th>\n",
       "      <th>side</th>\n",
       "      <th>price</th>\n",
       "      <th>amount</th>\n",
       "      <th>end_download_timestamp</th>\n",
       "      <th>currency_pair</th>\n",
       "      <th>exchange_id</th>\n",
       "      <th>knowledge_timestamp</th>\n",
       "    </tr>\n",
       "  </thead>\n",
       "  <tbody>\n",
       "    <tr>\n",
       "      <th>0</th>\n",
       "      <td>1618988283</td>\n",
       "      <td>1677628800053</td>\n",
       "      <td>BTC/USDT</td>\n",
       "      <td>buy</td>\n",
       "      <td>23129.7</td>\n",
       "      <td>2.451</td>\n",
       "      <td>2023-03-15 15:12:07.394774+00:00</td>\n",
       "      <td>BTC_USDT</td>\n",
       "      <td>binance</td>\n",
       "      <td>2023-03-15 15:12:07.397800+00:00</td>\n",
       "    </tr>\n",
       "    <tr>\n",
       "      <th>1</th>\n",
       "      <td>1618988284</td>\n",
       "      <td>1677628800085</td>\n",
       "      <td>BTC/USDT</td>\n",
       "      <td>sell</td>\n",
       "      <td>23129.6</td>\n",
       "      <td>0.321</td>\n",
       "      <td>2023-03-15 15:12:07.394774+00:00</td>\n",
       "      <td>BTC_USDT</td>\n",
       "      <td>binance</td>\n",
       "      <td>2023-03-15 15:12:07.397800+00:00</td>\n",
       "    </tr>\n",
       "    <tr>\n",
       "      <th>2</th>\n",
       "      <td>1618988285</td>\n",
       "      <td>1677628803913</td>\n",
       "      <td>BTC/USDT</td>\n",
       "      <td>buy</td>\n",
       "      <td>23129.7</td>\n",
       "      <td>0.002</td>\n",
       "      <td>2023-03-15 15:12:07.394774+00:00</td>\n",
       "      <td>BTC_USDT</td>\n",
       "      <td>binance</td>\n",
       "      <td>2023-03-15 15:12:07.397800+00:00</td>\n",
       "    </tr>\n",
       "    <tr>\n",
       "      <th>3</th>\n",
       "      <td>1618988286</td>\n",
       "      <td>1677628804251</td>\n",
       "      <td>BTC/USDT</td>\n",
       "      <td>buy</td>\n",
       "      <td>23129.7</td>\n",
       "      <td>8.720</td>\n",
       "      <td>2023-03-15 15:12:07.394774+00:00</td>\n",
       "      <td>BTC_USDT</td>\n",
       "      <td>binance</td>\n",
       "      <td>2023-03-15 15:12:07.397800+00:00</td>\n",
       "    </tr>\n",
       "    <tr>\n",
       "      <th>4</th>\n",
       "      <td>1618988287</td>\n",
       "      <td>1677628804255</td>\n",
       "      <td>BTC/USDT</td>\n",
       "      <td>buy</td>\n",
       "      <td>23129.8</td>\n",
       "      <td>0.059</td>\n",
       "      <td>2023-03-15 15:12:07.394774+00:00</td>\n",
       "      <td>BTC_USDT</td>\n",
       "      <td>binance</td>\n",
       "      <td>2023-03-15 15:12:07.397800+00:00</td>\n",
       "    </tr>\n",
       "  </tbody>\n",
       "</table>\n",
       "</div>"
      ],
      "text/plain": [
       "           id      timestamp    symbol  side    price  amount  \\\n",
       "0  1618988283  1677628800053  BTC/USDT   buy  23129.7   2.451   \n",
       "1  1618988284  1677628800085  BTC/USDT  sell  23129.6   0.321   \n",
       "2  1618988285  1677628803913  BTC/USDT   buy  23129.7   0.002   \n",
       "3  1618988286  1677628804251  BTC/USDT   buy  23129.7   8.720   \n",
       "4  1618988287  1677628804255  BTC/USDT   buy  23129.8   0.059   \n",
       "\n",
       "             end_download_timestamp currency_pair exchange_id  \\\n",
       "0  2023-03-15 15:12:07.394774+00:00      BTC_USDT     binance   \n",
       "1  2023-03-15 15:12:07.394774+00:00      BTC_USDT     binance   \n",
       "2  2023-03-15 15:12:07.394774+00:00      BTC_USDT     binance   \n",
       "3  2023-03-15 15:12:07.394774+00:00      BTC_USDT     binance   \n",
       "4  2023-03-15 15:12:07.394774+00:00      BTC_USDT     binance   \n",
       "\n",
       "                knowledge_timestamp  \n",
       "0  2023-03-15 15:12:07.397800+00:00  \n",
       "1  2023-03-15 15:12:07.397800+00:00  \n",
       "2  2023-03-15 15:12:07.397800+00:00  \n",
       "3  2023-03-15 15:12:07.397800+00:00  \n",
       "4  2023-03-15 15:12:07.397800+00:00  "
      ]
     },
     "execution_count": 59,
     "metadata": {},
     "output_type": "execute_result"
    }
   ],
   "source": [
    "signature = (\n",
    "    \"bulk.manual.downloaded_1min.csv.trades.futures.v7_3.ccxt.binance.v1_0_0\"\n",
    ")\n",
    "reader = imvcdcimrdc.RawDataReader(signature, stage=\"test\")\n",
    "start_timestamp = pd.Timestamp(\"2023-03-01T00:00:00+00:00\")\n",
    "end_timestamp = pd.Timestamp(\"2023-03-02T00:00:00+00:00\")\n",
    "currency_pair = \"BTC_USDT\"\n",
    "ccxt_trades = reader.load_csv(\n",
    "    currency_pair, start_timestamp=start_timestamp, end_timestamp=end_timestamp\n",
    ")\n",
    "ccxt_trades.head()"
   ]
  },
  {
   "cell_type": "code",
   "execution_count": 41,
   "id": "0975c137",
   "metadata": {
    "ExecuteTime": {
     "end_time": "2023-03-15T15:41:35.692336Z",
     "start_time": "2023-03-15T15:41:35.651035Z"
    },
    "hidden": true
   },
   "outputs": [
    {
     "data": {
      "text/html": [
       "<div>\n",
       "<style scoped>\n",
       "    .dataframe tbody tr th:only-of-type {\n",
       "        vertical-align: middle;\n",
       "    }\n",
       "\n",
       "    .dataframe tbody tr th {\n",
       "        vertical-align: top;\n",
       "    }\n",
       "\n",
       "    .dataframe thead th {\n",
       "        text-align: right;\n",
       "    }\n",
       "</style>\n",
       "<table border=\"1\" class=\"dataframe\">\n",
       "  <thead>\n",
       "    <tr style=\"text-align: right;\">\n",
       "      <th></th>\n",
       "      <th>id</th>\n",
       "      <th>timestamp</th>\n",
       "      <th>symbol</th>\n",
       "      <th>side</th>\n",
       "      <th>price</th>\n",
       "      <th>amount</th>\n",
       "      <th>end_download_timestamp</th>\n",
       "      <th>currency_pair</th>\n",
       "      <th>exchange_id</th>\n",
       "      <th>knowledge_timestamp</th>\n",
       "    </tr>\n",
       "  </thead>\n",
       "  <tbody>\n",
       "    <tr>\n",
       "      <th>0</th>\n",
       "      <td>1618988283</td>\n",
       "      <td>1677628800053</td>\n",
       "      <td>BTC/USDT</td>\n",
       "      <td>buy</td>\n",
       "      <td>23129.7</td>\n",
       "      <td>2.451</td>\n",
       "      <td>2023-03-15 15:12:07.394774+00:00</td>\n",
       "      <td>BTC_USDT</td>\n",
       "      <td>binance</td>\n",
       "      <td>2023-03-15 15:12:07.397800+00:00</td>\n",
       "    </tr>\n",
       "    <tr>\n",
       "      <th>1</th>\n",
       "      <td>1618988284</td>\n",
       "      <td>1677628800085</td>\n",
       "      <td>BTC/USDT</td>\n",
       "      <td>sell</td>\n",
       "      <td>23129.6</td>\n",
       "      <td>0.321</td>\n",
       "      <td>2023-03-15 15:12:07.394774+00:00</td>\n",
       "      <td>BTC_USDT</td>\n",
       "      <td>binance</td>\n",
       "      <td>2023-03-15 15:12:07.397800+00:00</td>\n",
       "    </tr>\n",
       "    <tr>\n",
       "      <th>2</th>\n",
       "      <td>1618988285</td>\n",
       "      <td>1677628803913</td>\n",
       "      <td>BTC/USDT</td>\n",
       "      <td>buy</td>\n",
       "      <td>23129.7</td>\n",
       "      <td>0.002</td>\n",
       "      <td>2023-03-15 15:12:07.394774+00:00</td>\n",
       "      <td>BTC_USDT</td>\n",
       "      <td>binance</td>\n",
       "      <td>2023-03-15 15:12:07.397800+00:00</td>\n",
       "    </tr>\n",
       "    <tr>\n",
       "      <th>3</th>\n",
       "      <td>1618988286</td>\n",
       "      <td>1677628804251</td>\n",
       "      <td>BTC/USDT</td>\n",
       "      <td>buy</td>\n",
       "      <td>23129.7</td>\n",
       "      <td>8.720</td>\n",
       "      <td>2023-03-15 15:12:07.394774+00:00</td>\n",
       "      <td>BTC_USDT</td>\n",
       "      <td>binance</td>\n",
       "      <td>2023-03-15 15:12:07.397800+00:00</td>\n",
       "    </tr>\n",
       "    <tr>\n",
       "      <th>4</th>\n",
       "      <td>1618988287</td>\n",
       "      <td>1677628804255</td>\n",
       "      <td>BTC/USDT</td>\n",
       "      <td>buy</td>\n",
       "      <td>23129.8</td>\n",
       "      <td>0.059</td>\n",
       "      <td>2023-03-15 15:12:07.394774+00:00</td>\n",
       "      <td>BTC_USDT</td>\n",
       "      <td>binance</td>\n",
       "      <td>2023-03-15 15:12:07.397800+00:00</td>\n",
       "    </tr>\n",
       "    <tr>\n",
       "      <th>...</th>\n",
       "      <td>...</td>\n",
       "      <td>...</td>\n",
       "      <td>...</td>\n",
       "      <td>...</td>\n",
       "      <td>...</td>\n",
       "      <td>...</td>\n",
       "      <td>...</td>\n",
       "      <td>...</td>\n",
       "      <td>...</td>\n",
       "      <td>...</td>\n",
       "    </tr>\n",
       "    <tr>\n",
       "      <th>6671</th>\n",
       "      <td>1618994954</td>\n",
       "      <td>1677629399445</td>\n",
       "      <td>BTC/USDT</td>\n",
       "      <td>sell</td>\n",
       "      <td>23108.7</td>\n",
       "      <td>0.002</td>\n",
       "      <td>2023-03-15 15:12:07.394774+00:00</td>\n",
       "      <td>BTC_USDT</td>\n",
       "      <td>binance</td>\n",
       "      <td>2023-03-15 15:12:07.397800+00:00</td>\n",
       "    </tr>\n",
       "    <tr>\n",
       "      <th>6672</th>\n",
       "      <td>1618994955</td>\n",
       "      <td>1677629399637</td>\n",
       "      <td>BTC/USDT</td>\n",
       "      <td>sell</td>\n",
       "      <td>23108.7</td>\n",
       "      <td>0.015</td>\n",
       "      <td>2023-03-15 15:12:07.394774+00:00</td>\n",
       "      <td>BTC_USDT</td>\n",
       "      <td>binance</td>\n",
       "      <td>2023-03-15 15:12:07.397800+00:00</td>\n",
       "    </tr>\n",
       "    <tr>\n",
       "      <th>6673</th>\n",
       "      <td>1618994956</td>\n",
       "      <td>1677629399807</td>\n",
       "      <td>BTC/USDT</td>\n",
       "      <td>sell</td>\n",
       "      <td>23108.7</td>\n",
       "      <td>0.001</td>\n",
       "      <td>2023-03-15 15:12:07.394774+00:00</td>\n",
       "      <td>BTC_USDT</td>\n",
       "      <td>binance</td>\n",
       "      <td>2023-03-15 15:12:07.397800+00:00</td>\n",
       "    </tr>\n",
       "    <tr>\n",
       "      <th>6674</th>\n",
       "      <td>1618994957</td>\n",
       "      <td>1677629399807</td>\n",
       "      <td>BTC/USDT</td>\n",
       "      <td>sell</td>\n",
       "      <td>23108.6</td>\n",
       "      <td>0.005</td>\n",
       "      <td>2023-03-15 15:12:07.394774+00:00</td>\n",
       "      <td>BTC_USDT</td>\n",
       "      <td>binance</td>\n",
       "      <td>2023-03-15 15:12:07.397800+00:00</td>\n",
       "    </tr>\n",
       "    <tr>\n",
       "      <th>6675</th>\n",
       "      <td>1618994958</td>\n",
       "      <td>1677629399880</td>\n",
       "      <td>BTC/USDT</td>\n",
       "      <td>buy</td>\n",
       "      <td>23108.5</td>\n",
       "      <td>0.200</td>\n",
       "      <td>2023-03-15 15:12:07.394774+00:00</td>\n",
       "      <td>BTC_USDT</td>\n",
       "      <td>binance</td>\n",
       "      <td>2023-03-15 15:12:07.397800+00:00</td>\n",
       "    </tr>\n",
       "  </tbody>\n",
       "</table>\n",
       "<p>6676 rows × 10 columns</p>\n",
       "</div>"
      ],
      "text/plain": [
       "              id      timestamp    symbol  side    price  amount            end_download_timestamp currency_pair exchange_id               knowledge_timestamp\n",
       "0     1618988283  1677628800053  BTC/USDT   buy  23129.7   2.451  2023-03-15 15:12:07.394774+00:00      BTC_USDT     binance  2023-03-15 15:12:07.397800+00:00\n",
       "1     1618988284  1677628800085  BTC/USDT  sell  23129.6   0.321  2023-03-15 15:12:07.394774+00:00      BTC_USDT     binance  2023-03-15 15:12:07.397800+00:00\n",
       "2     1618988285  1677628803913  BTC/USDT   buy  23129.7   0.002  2023-03-15 15:12:07.394774+00:00      BTC_USDT     binance  2023-03-15 15:12:07.397800+00:00\n",
       "3     1618988286  1677628804251  BTC/USDT   buy  23129.7   8.720  2023-03-15 15:12:07.394774+00:00      BTC_USDT     binance  2023-03-15 15:12:07.397800+00:00\n",
       "4     1618988287  1677628804255  BTC/USDT   buy  23129.8   0.059  2023-03-15 15:12:07.394774+00:00      BTC_USDT     binance  2023-03-15 15:12:07.397800+00:00\n",
       "...          ...            ...       ...   ...      ...     ...                               ...           ...         ...                               ...\n",
       "6671  1618994954  1677629399445  BTC/USDT  sell  23108.7   0.002  2023-03-15 15:12:07.394774+00:00      BTC_USDT     binance  2023-03-15 15:12:07.397800+00:00\n",
       "6672  1618994955  1677629399637  BTC/USDT  sell  23108.7   0.015  2023-03-15 15:12:07.394774+00:00      BTC_USDT     binance  2023-03-15 15:12:07.397800+00:00\n",
       "6673  1618994956  1677629399807  BTC/USDT  sell  23108.7   0.001  2023-03-15 15:12:07.394774+00:00      BTC_USDT     binance  2023-03-15 15:12:07.397800+00:00\n",
       "6674  1618994957  1677629399807  BTC/USDT  sell  23108.6   0.005  2023-03-15 15:12:07.394774+00:00      BTC_USDT     binance  2023-03-15 15:12:07.397800+00:00\n",
       "6675  1618994958  1677629399880  BTC/USDT   buy  23108.5   0.200  2023-03-15 15:12:07.394774+00:00      BTC_USDT     binance  2023-03-15 15:12:07.397800+00:00\n",
       "\n",
       "[6676 rows x 10 columns]"
      ]
     },
     "execution_count": 41,
     "metadata": {},
     "output_type": "execute_result"
    }
   ],
   "source": [
    "ccxt_trades"
   ]
  },
  {
   "cell_type": "markdown",
   "id": "5bc14d08",
   "metadata": {
    "heading_collapsed": true
   },
   "source": [
    "# Read native Binance data"
   ]
  },
  {
   "cell_type": "code",
   "execution_count": 121,
   "id": "5bceb8fb",
   "metadata": {
    "ExecuteTime": {
     "end_time": "2023-03-15T16:43:43.843367Z",
     "start_time": "2023-03-15T16:43:41.351825Z"
    },
    "hidden": true
   },
   "outputs": [],
   "source": [
    "file_path = \"/app/im_v2/binance/data/download/data/futures/um/daily/trades/BTCUSDT/2023-03-01_2023-03-01/BTCUSDT-trades-2023-03-01.zip\"\n",
    "# columns = [\"trade_id\", \"price\", \"qty\", \"quoteQty\", \"time\", \"isBuyerMaker\", \"isBestMatch\"]\n",
    "binance_data = pd.read_csv(file_path)"
   ]
  },
  {
   "cell_type": "code",
   "execution_count": 122,
   "id": "371770db",
   "metadata": {
    "ExecuteTime": {
     "end_time": "2023-03-15T16:43:45.252466Z",
     "start_time": "2023-03-15T16:43:45.217384Z"
    },
    "hidden": true
   },
   "outputs": [],
   "source": [
    "start_timestamp = pd.Timestamp(\"2023-03-01T00:00:00+00:00\")\n",
    "end_timestamp = pd.Timestamp(\"2023-03-01T00:10:00+00:00\")\n",
    "start_timestamp = hdateti.convert_timestamp_to_unix_epoch(start_timestamp, \"ms\")\n",
    "end_timestamp = hdateti.convert_timestamp_to_unix_epoch(end_timestamp, \"ms\")"
   ]
  },
  {
   "cell_type": "code",
   "execution_count": 123,
   "id": "3c08dcc5",
   "metadata": {
    "ExecuteTime": {
     "end_time": "2023-03-15T16:43:46.272798Z",
     "start_time": "2023-03-15T16:43:46.222499Z"
    },
    "hidden": true
   },
   "outputs": [],
   "source": [
    "binance_data = binance_data[\n",
    "    binance_data.time.between(start_timestamp, end_timestamp)\n",
    "]"
   ]
  },
  {
   "cell_type": "code",
   "execution_count": 124,
   "id": "382253d1",
   "metadata": {
    "ExecuteTime": {
     "end_time": "2023-03-15T16:43:48.429864Z",
     "start_time": "2023-03-15T16:43:48.391151Z"
    },
    "hidden": true
   },
   "outputs": [
    {
     "data": {
      "text/html": [
       "<div>\n",
       "<style scoped>\n",
       "    .dataframe tbody tr th:only-of-type {\n",
       "        vertical-align: middle;\n",
       "    }\n",
       "\n",
       "    .dataframe tbody tr th {\n",
       "        vertical-align: top;\n",
       "    }\n",
       "\n",
       "    .dataframe thead th {\n",
       "        text-align: right;\n",
       "    }\n",
       "</style>\n",
       "<table border=\"1\" class=\"dataframe\">\n",
       "  <thead>\n",
       "    <tr style=\"text-align: right;\">\n",
       "      <th></th>\n",
       "      <th>id</th>\n",
       "      <th>price</th>\n",
       "      <th>qty</th>\n",
       "      <th>quote_qty</th>\n",
       "      <th>time</th>\n",
       "      <th>is_buyer_maker</th>\n",
       "    </tr>\n",
       "  </thead>\n",
       "  <tbody>\n",
       "    <tr>\n",
       "      <th>0</th>\n",
       "      <td>3348676218</td>\n",
       "      <td>23129.7</td>\n",
       "      <td>0.224</td>\n",
       "      <td>5181.05</td>\n",
       "      <td>1677628800053</td>\n",
       "      <td>False</td>\n",
       "    </tr>\n",
       "    <tr>\n",
       "      <th>1</th>\n",
       "      <td>3348676219</td>\n",
       "      <td>23129.7</td>\n",
       "      <td>0.004</td>\n",
       "      <td>92.51</td>\n",
       "      <td>1677628800084</td>\n",
       "      <td>False</td>\n",
       "    </tr>\n",
       "    <tr>\n",
       "      <th>2</th>\n",
       "      <td>3348676220</td>\n",
       "      <td>23129.7</td>\n",
       "      <td>0.023</td>\n",
       "      <td>531.98</td>\n",
       "      <td>1677628800084</td>\n",
       "      <td>False</td>\n",
       "    </tr>\n",
       "    <tr>\n",
       "      <th>3</th>\n",
       "      <td>3348676221</td>\n",
       "      <td>23129.7</td>\n",
       "      <td>0.048</td>\n",
       "      <td>1110.22</td>\n",
       "      <td>1677628800084</td>\n",
       "      <td>False</td>\n",
       "    </tr>\n",
       "    <tr>\n",
       "      <th>4</th>\n",
       "      <td>3348676222</td>\n",
       "      <td>23129.7</td>\n",
       "      <td>0.007</td>\n",
       "      <td>161.90</td>\n",
       "      <td>1677628800084</td>\n",
       "      <td>False</td>\n",
       "    </tr>\n",
       "    <tr>\n",
       "      <th>...</th>\n",
       "      <td>...</td>\n",
       "      <td>...</td>\n",
       "      <td>...</td>\n",
       "      <td>...</td>\n",
       "      <td>...</td>\n",
       "      <td>...</td>\n",
       "    </tr>\n",
       "    <tr>\n",
       "      <th>22045</th>\n",
       "      <td>3348698263</td>\n",
       "      <td>23108.7</td>\n",
       "      <td>0.001</td>\n",
       "      <td>23.10</td>\n",
       "      <td>1677629399807</td>\n",
       "      <td>True</td>\n",
       "    </tr>\n",
       "    <tr>\n",
       "      <th>22046</th>\n",
       "      <td>3348698264</td>\n",
       "      <td>23108.6</td>\n",
       "      <td>0.001</td>\n",
       "      <td>23.10</td>\n",
       "      <td>1677629399807</td>\n",
       "      <td>True</td>\n",
       "    </tr>\n",
       "    <tr>\n",
       "      <th>22047</th>\n",
       "      <td>3348698265</td>\n",
       "      <td>23108.6</td>\n",
       "      <td>0.001</td>\n",
       "      <td>23.10</td>\n",
       "      <td>1677629399807</td>\n",
       "      <td>True</td>\n",
       "    </tr>\n",
       "    <tr>\n",
       "      <th>22048</th>\n",
       "      <td>3348698266</td>\n",
       "      <td>23108.6</td>\n",
       "      <td>0.003</td>\n",
       "      <td>69.32</td>\n",
       "      <td>1677629399807</td>\n",
       "      <td>True</td>\n",
       "    </tr>\n",
       "    <tr>\n",
       "      <th>22049</th>\n",
       "      <td>3348698267</td>\n",
       "      <td>23108.5</td>\n",
       "      <td>0.200</td>\n",
       "      <td>4621.70</td>\n",
       "      <td>1677629399880</td>\n",
       "      <td>False</td>\n",
       "    </tr>\n",
       "  </tbody>\n",
       "</table>\n",
       "<p>22050 rows × 6 columns</p>\n",
       "</div>"
      ],
      "text/plain": [
       "               id    price    qty  quote_qty           time  is_buyer_maker\n",
       "0      3348676218  23129.7  0.224    5181.05  1677628800053           False\n",
       "1      3348676219  23129.7  0.004      92.51  1677628800084           False\n",
       "2      3348676220  23129.7  0.023     531.98  1677628800084           False\n",
       "3      3348676221  23129.7  0.048    1110.22  1677628800084           False\n",
       "4      3348676222  23129.7  0.007     161.90  1677628800084           False\n",
       "...           ...      ...    ...        ...            ...             ...\n",
       "22045  3348698263  23108.7  0.001      23.10  1677629399807            True\n",
       "22046  3348698264  23108.6  0.001      23.10  1677629399807            True\n",
       "22047  3348698265  23108.6  0.001      23.10  1677629399807            True\n",
       "22048  3348698266  23108.6  0.003      69.32  1677629399807            True\n",
       "22049  3348698267  23108.5  0.200    4621.70  1677629399880           False\n",
       "\n",
       "[22050 rows x 6 columns]"
      ]
     },
     "execution_count": 124,
     "metadata": {},
     "output_type": "execute_result"
    }
   ],
   "source": [
    "binance_data"
   ]
  },
  {
   "cell_type": "markdown",
   "id": "055a724f",
   "metadata": {
    "hidden": true
   },
   "source": [
    "## Compare min-max timestamps"
   ]
  },
  {
   "cell_type": "code",
   "execution_count": 116,
   "id": "e7978721",
   "metadata": {
    "ExecuteTime": {
     "end_time": "2023-03-15T16:41:20.304061Z",
     "start_time": "2023-03-15T16:41:20.269858Z"
    },
    "hidden": true
   },
   "outputs": [
    {
     "data": {
      "text/plain": [
       "min   2023-03-01 00:00:00.053\n",
       "max   2023-03-01 00:09:59.880\n",
       "Name: time, dtype: datetime64[ns]"
      ]
     },
     "execution_count": 116,
     "metadata": {},
     "output_type": "execute_result"
    }
   ],
   "source": [
    "binance_data.time.agg([\"min\", \"max\"]).apply(pd.Timestamp, unit=\"ms\")"
   ]
  },
  {
   "cell_type": "code",
   "execution_count": 40,
   "id": "0b3443cf",
   "metadata": {
    "ExecuteTime": {
     "end_time": "2023-03-15T15:41:04.459107Z",
     "start_time": "2023-03-15T15:41:04.422275Z"
    },
    "hidden": true
   },
   "outputs": [
    {
     "data": {
      "text/plain": [
       "min   2023-03-01 00:00:00.053\n",
       "max   2023-03-01 00:09:59.880\n",
       "Name: timestamp, dtype: datetime64[ns]"
      ]
     },
     "execution_count": 40,
     "metadata": {},
     "output_type": "execute_result"
    }
   ],
   "source": [
    "ccxt_trades.timestamp.agg([\"min\", \"max\"]).apply(pd.Timestamp, unit=\"ms\")"
   ]
  },
  {
   "cell_type": "markdown",
   "id": "4596df6a",
   "metadata": {
    "hidden": true
   },
   "source": [
    "## Compare IDs"
   ]
  },
  {
   "cell_type": "code",
   "execution_count": 47,
   "id": "005d864b",
   "metadata": {
    "ExecuteTime": {
     "end_time": "2023-03-15T15:46:20.936299Z",
     "start_time": "2023-03-15T15:46:20.900800Z"
    },
    "hidden": true
   },
   "outputs": [
    {
     "data": {
      "text/html": [
       "<div>\n",
       "<style scoped>\n",
       "    .dataframe tbody tr th:only-of-type {\n",
       "        vertical-align: middle;\n",
       "    }\n",
       "\n",
       "    .dataframe tbody tr th {\n",
       "        vertical-align: top;\n",
       "    }\n",
       "\n",
       "    .dataframe thead th {\n",
       "        text-align: right;\n",
       "    }\n",
       "</style>\n",
       "<table border=\"1\" class=\"dataframe\">\n",
       "  <thead>\n",
       "    <tr style=\"text-align: right;\">\n",
       "      <th></th>\n",
       "      <th>id</th>\n",
       "      <th>timestamp</th>\n",
       "      <th>symbol</th>\n",
       "      <th>side</th>\n",
       "      <th>price</th>\n",
       "      <th>amount</th>\n",
       "      <th>end_download_timestamp</th>\n",
       "      <th>currency_pair</th>\n",
       "      <th>exchange_id</th>\n",
       "      <th>knowledge_timestamp</th>\n",
       "    </tr>\n",
       "  </thead>\n",
       "  <tbody>\n",
       "  </tbody>\n",
       "</table>\n",
       "</div>"
      ],
      "text/plain": [
       "Empty DataFrame\n",
       "Columns: [id, timestamp, symbol, side, price, amount, end_download_timestamp, currency_pair, exchange_id, knowledge_timestamp]\n",
       "Index: []"
      ]
     },
     "execution_count": 47,
     "metadata": {},
     "output_type": "execute_result"
    }
   ],
   "source": [
    "ccxt_trades[ccxt_trades.id.isin(binance_data.id)]"
   ]
  },
  {
   "cell_type": "code",
   "execution_count": 58,
   "id": "e86c2f6a",
   "metadata": {
    "ExecuteTime": {
     "end_time": "2023-03-15T15:49:34.532111Z",
     "start_time": "2023-03-15T15:49:34.497698Z"
    },
    "hidden": true
   },
   "outputs": [
    {
     "data": {
      "text/plain": [
       "0    1677628800053\n",
       "1    1677628800085\n",
       "2    1677628803913\n",
       "3    1677628804251\n",
       "4    1677628804255\n",
       "5    1677628804298\n",
       "6    1677628804323\n",
       "7    1677628804358\n",
       "8    1677628804414\n",
       "9    1677628804417\n",
       "Name: timestamp, dtype: int64"
      ]
     },
     "execution_count": 58,
     "metadata": {},
     "output_type": "execute_result"
    }
   ],
   "source": [
    "ccxt_trades[ccxt_trades.timestamp.isin(binance_data.time)].head(10)[\"timestamp\"]"
   ]
  },
  {
   "cell_type": "code",
   "execution_count": 80,
   "id": "f304b8fc",
   "metadata": {
    "ExecuteTime": {
     "end_time": "2023-03-15T15:55:20.501133Z",
     "start_time": "2023-03-15T15:55:20.461630Z"
    },
    "hidden": true
   },
   "outputs": [
    {
     "data": {
      "text/html": [
       "<div>\n",
       "<style scoped>\n",
       "    .dataframe tbody tr th:only-of-type {\n",
       "        vertical-align: middle;\n",
       "    }\n",
       "\n",
       "    .dataframe tbody tr th {\n",
       "        vertical-align: top;\n",
       "    }\n",
       "\n",
       "    .dataframe thead th {\n",
       "        text-align: right;\n",
       "    }\n",
       "</style>\n",
       "<table border=\"1\" class=\"dataframe\">\n",
       "  <thead>\n",
       "    <tr style=\"text-align: right;\">\n",
       "      <th></th>\n",
       "      <th>id</th>\n",
       "      <th>timestamp</th>\n",
       "      <th>symbol</th>\n",
       "      <th>side</th>\n",
       "      <th>price</th>\n",
       "      <th>amount</th>\n",
       "      <th>end_download_timestamp</th>\n",
       "      <th>currency_pair</th>\n",
       "      <th>exchange_id</th>\n",
       "      <th>knowledge_timestamp</th>\n",
       "    </tr>\n",
       "  </thead>\n",
       "  <tbody>\n",
       "    <tr>\n",
       "      <th>4</th>\n",
       "      <td>1618988287</td>\n",
       "      <td>1677628804255</td>\n",
       "      <td>BTC/USDT</td>\n",
       "      <td>buy</td>\n",
       "      <td>23129.8</td>\n",
       "      <td>0.059</td>\n",
       "      <td>2023-03-15 15:12:07.394774+00:00</td>\n",
       "      <td>BTC_USDT</td>\n",
       "      <td>binance</td>\n",
       "      <td>2023-03-15 15:12:07.397800+00:00</td>\n",
       "    </tr>\n",
       "  </tbody>\n",
       "</table>\n",
       "</div>"
      ],
      "text/plain": [
       "           id      timestamp    symbol side    price  amount            end_download_timestamp currency_pair exchange_id               knowledge_timestamp\n",
       "4  1618988287  1677628804255  BTC/USDT  buy  23129.8   0.059  2023-03-15 15:12:07.394774+00:00      BTC_USDT     binance  2023-03-15 15:12:07.397800+00:00"
      ]
     },
     "execution_count": 80,
     "metadata": {},
     "output_type": "execute_result"
    }
   ],
   "source": [
    "ccxt_trades[ccxt_trades.timestamp == 1677628804255]"
   ]
  },
  {
   "cell_type": "code",
   "execution_count": 86,
   "id": "25a05b8c",
   "metadata": {
    "ExecuteTime": {
     "end_time": "2023-03-15T16:08:35.306946Z",
     "start_time": "2023-03-15T16:08:35.268449Z"
    },
    "hidden": true
   },
   "outputs": [
    {
     "data": {
      "text/html": [
       "<div>\n",
       "<style scoped>\n",
       "    .dataframe tbody tr th:only-of-type {\n",
       "        vertical-align: middle;\n",
       "    }\n",
       "\n",
       "    .dataframe tbody tr th {\n",
       "        vertical-align: top;\n",
       "    }\n",
       "\n",
       "    .dataframe thead th {\n",
       "        text-align: right;\n",
       "    }\n",
       "</style>\n",
       "<table border=\"1\" class=\"dataframe\">\n",
       "  <thead>\n",
       "    <tr style=\"text-align: right;\">\n",
       "      <th></th>\n",
       "      <th>id</th>\n",
       "      <th>price</th>\n",
       "      <th>qty</th>\n",
       "      <th>quote_qty</th>\n",
       "      <th>time</th>\n",
       "      <th>is_buyer_maker</th>\n",
       "    </tr>\n",
       "  </thead>\n",
       "  <tbody>\n",
       "    <tr>\n",
       "      <th>49</th>\n",
       "      <td>3348676267</td>\n",
       "      <td>23129.7</td>\n",
       "      <td>1.448</td>\n",
       "      <td>33491.80</td>\n",
       "      <td>1677628804255</td>\n",
       "      <td>False</td>\n",
       "    </tr>\n",
       "    <tr>\n",
       "      <th>50</th>\n",
       "      <td>3348676268</td>\n",
       "      <td>23129.7</td>\n",
       "      <td>0.080</td>\n",
       "      <td>1850.37</td>\n",
       "      <td>1677628804255</td>\n",
       "      <td>False</td>\n",
       "    </tr>\n",
       "    <tr>\n",
       "      <th>51</th>\n",
       "      <td>3348676269</td>\n",
       "      <td>23129.7</td>\n",
       "      <td>0.344</td>\n",
       "      <td>7956.61</td>\n",
       "      <td>1677628804255</td>\n",
       "      <td>False</td>\n",
       "    </tr>\n",
       "    <tr>\n",
       "      <th>52</th>\n",
       "      <td>3348676270</td>\n",
       "      <td>23129.7</td>\n",
       "      <td>0.158</td>\n",
       "      <td>3654.49</td>\n",
       "      <td>1677628804255</td>\n",
       "      <td>False</td>\n",
       "    </tr>\n",
       "    <tr>\n",
       "      <th>53</th>\n",
       "      <td>3348676271</td>\n",
       "      <td>23129.8</td>\n",
       "      <td>0.059</td>\n",
       "      <td>1364.65</td>\n",
       "      <td>1677628804255</td>\n",
       "      <td>False</td>\n",
       "    </tr>\n",
       "  </tbody>\n",
       "</table>\n",
       "</div>"
      ],
      "text/plain": [
       "            id    price    qty  quote_qty           time  is_buyer_maker\n",
       "49  3348676267  23129.7  1.448   33491.80  1677628804255           False\n",
       "50  3348676268  23129.7  0.080    1850.37  1677628804255           False\n",
       "51  3348676269  23129.7  0.344    7956.61  1677628804255           False\n",
       "52  3348676270  23129.7  0.158    3654.49  1677628804255           False\n",
       "53  3348676271  23129.8  0.059    1364.65  1677628804255           False"
      ]
     },
     "execution_count": 86,
     "metadata": {},
     "output_type": "execute_result"
    }
   ],
   "source": [
    "binance_data[binance_data.time == 1677628804255]"
   ]
  },
  {
   "cell_type": "code",
   "execution_count": 84,
   "id": "b810f694",
   "metadata": {
    "ExecuteTime": {
     "end_time": "2023-03-15T15:58:34.821308Z",
     "start_time": "2023-03-15T15:58:34.783585Z"
    },
    "hidden": true
   },
   "outputs": [
    {
     "data": {
      "text/html": [
       "<div>\n",
       "<style scoped>\n",
       "    .dataframe tbody tr th:only-of-type {\n",
       "        vertical-align: middle;\n",
       "    }\n",
       "\n",
       "    .dataframe tbody tr th {\n",
       "        vertical-align: top;\n",
       "    }\n",
       "\n",
       "    .dataframe thead th {\n",
       "        text-align: right;\n",
       "    }\n",
       "</style>\n",
       "<table border=\"1\" class=\"dataframe\">\n",
       "  <thead>\n",
       "    <tr style=\"text-align: right;\">\n",
       "      <th></th>\n",
       "      <th>id</th>\n",
       "      <th>price</th>\n",
       "      <th>qty</th>\n",
       "      <th>quote_qty</th>\n",
       "      <th>time</th>\n",
       "      <th>is_buyer_maker</th>\n",
       "    </tr>\n",
       "  </thead>\n",
       "  <tbody>\n",
       "    <tr>\n",
       "      <th>53</th>\n",
       "      <td>3348676271</td>\n",
       "      <td>23129.8</td>\n",
       "      <td>0.059</td>\n",
       "      <td>1364.65</td>\n",
       "      <td>1677628804255</td>\n",
       "      <td>False</td>\n",
       "    </tr>\n",
       "  </tbody>\n",
       "</table>\n",
       "</div>"
      ],
      "text/plain": [
       "            id    price    qty  quote_qty           time  is_buyer_maker\n",
       "53  3348676271  23129.8  0.059    1364.65  1677628804255           False"
      ]
     },
     "execution_count": 84,
     "metadata": {},
     "output_type": "execute_result"
    }
   ],
   "source": [
    "binance_data[(binance_data.time == 1677628804255) & (binance_data.qty == 0.059)]"
   ]
  },
  {
   "cell_type": "code",
   "execution_count": 79,
   "id": "6bb0a847",
   "metadata": {
    "ExecuteTime": {
     "end_time": "2023-03-15T15:55:17.150416Z",
     "start_time": "2023-03-15T15:55:17.115503Z"
    },
    "hidden": true
   },
   "outputs": [
    {
     "data": {
      "text/plain": [
       "2.089"
      ]
     },
     "execution_count": 79,
     "metadata": {},
     "output_type": "execute_result"
    }
   ],
   "source": [
    "binance_data[binance_data.time == 1677628804255].agg(\"sum\")[\"qty\"]"
   ]
  },
  {
   "cell_type": "markdown",
   "id": "bd46f519",
   "metadata": {
    "hidden": true
   },
   "source": [
    "## Adjust CCXT data"
   ]
  },
  {
   "cell_type": "code",
   "execution_count": 3,
   "id": "368a710b",
   "metadata": {
    "ExecuteTime": {
     "end_time": "2023-03-15T11:35:40.094896Z",
     "start_time": "2023-03-15T11:35:39.917105Z"
    },
    "hidden": true
   },
   "outputs": [
    {
     "ename": "NameError",
     "evalue": "name 'ccxt_trades' is not defined",
     "output_type": "error",
     "traceback": [
      "\u001b[0;31m---------------------------------------------------------------------------\u001b[0m",
      "\u001b[0;31mNameError\u001b[0m                                 Traceback (most recent call last)",
      "Cell \u001b[0;32mIn [3], line 1\u001b[0m\n\u001b[0;32m----> 1\u001b[0m ccxt_trades \u001b[38;5;241m=\u001b[39m \u001b[43mccxt_trades\u001b[49m\u001b[38;5;241m.\u001b[39mreset_index(drop\u001b[38;5;241m=\u001b[39m\u001b[38;5;28;01mTrue\u001b[39;00m)\n",
      "\u001b[0;31mNameError\u001b[0m: name 'ccxt_trades' is not defined"
     ]
    }
   ],
   "source": [
    "ccxt_trades = ccxt_trades.reset_index(drop=True)"
   ]
  },
  {
   "cell_type": "code",
   "execution_count": 160,
   "id": "98425099",
   "metadata": {
    "ExecuteTime": {
     "end_time": "2023-03-14T17:48:41.108628Z",
     "start_time": "2023-03-14T17:48:40.627080Z"
    },
    "hidden": true
   },
   "outputs": [],
   "source": [
    "btc_ccxt_trades = ccxt_trades[ccxt_trades.currency_pair == \"BTC_USDT\"]"
   ]
  },
  {
   "cell_type": "code",
   "execution_count": 161,
   "id": "832b808f",
   "metadata": {
    "ExecuteTime": {
     "end_time": "2023-03-14T17:48:42.083641Z",
     "start_time": "2023-03-14T17:48:41.924456Z"
    },
    "hidden": true
   },
   "outputs": [],
   "source": [
    "btc_ccxt_trades.drop(\n",
    "    columns=[\n",
    "        \"year\",\n",
    "        \"month\",\n",
    "        \"day\",\n",
    "        \"currency_pair\",\n",
    "        \"exchange_id\",\n",
    "        \"knowledge_timestamp\",\n",
    "        \"symbol\",\n",
    "    ],\n",
    "    inplace=True,\n",
    ")"
   ]
  },
  {
   "cell_type": "code",
   "execution_count": 162,
   "id": "1967477d",
   "metadata": {
    "ExecuteTime": {
     "end_time": "2023-03-14T17:48:47.867291Z",
     "start_time": "2023-03-14T17:48:47.819707Z"
    },
    "hidden": true
   },
   "outputs": [],
   "source": [
    "btc_ccxt_trades = btc_ccxt_trades.reset_index(drop=True)"
   ]
  },
  {
   "cell_type": "code",
   "execution_count": 163,
   "id": "459cdfa3",
   "metadata": {
    "ExecuteTime": {
     "end_time": "2023-03-14T17:49:03.932317Z",
     "start_time": "2023-03-14T17:49:03.771776Z"
    },
    "hidden": true
   },
   "outputs": [
    {
     "data": {
      "text/html": [
       "<div>\n",
       "<style scoped>\n",
       "    .dataframe tbody tr th:only-of-type {\n",
       "        vertical-align: middle;\n",
       "    }\n",
       "\n",
       "    .dataframe tbody tr th {\n",
       "        vertical-align: top;\n",
       "    }\n",
       "\n",
       "    .dataframe thead th {\n",
       "        text-align: right;\n",
       "    }\n",
       "</style>\n",
       "<table border=\"1\" class=\"dataframe\">\n",
       "  <thead>\n",
       "    <tr style=\"text-align: right;\">\n",
       "      <th></th>\n",
       "      <th>timestamp</th>\n",
       "      <th>side</th>\n",
       "      <th>price</th>\n",
       "      <th>amount</th>\n",
       "    </tr>\n",
       "  </thead>\n",
       "  <tbody>\n",
       "  </tbody>\n",
       "</table>\n",
       "</div>"
      ],
      "text/plain": [
       "Empty DataFrame\n",
       "Columns: [timestamp, side, price, amount]\n",
       "Index: []"
      ]
     },
     "execution_count": 163,
     "metadata": {},
     "output_type": "execute_result"
    }
   ],
   "source": [
    "btc_ccxt_trades[~btc_ccxt_trades.timestamp.isin(binance_data.time.unique())]"
   ]
  },
  {
   "cell_type": "markdown",
   "id": "2532b766",
   "metadata": {
    "hidden": true
   },
   "source": [
    "## Adjust binance native data"
   ]
  },
  {
   "cell_type": "code",
   "execution_count": 170,
   "id": "3128e362",
   "metadata": {
    "ExecuteTime": {
     "end_time": "2023-03-14T17:52:57.730149Z",
     "start_time": "2023-03-14T17:52:57.635869Z"
    },
    "hidden": true
   },
   "outputs": [],
   "source": [
    "binance_data[\"side\"] = binance_data.is_buyer_maker.map(\n",
    "    {False: \"sell\", True: \"buy\"}\n",
    ")"
   ]
  },
  {
   "cell_type": "code",
   "execution_count": 168,
   "id": "11384944",
   "metadata": {
    "ExecuteTime": {
     "end_time": "2023-03-14T17:52:37.582049Z",
     "start_time": "2023-03-14T17:52:37.549395Z"
    },
    "hidden": true
   },
   "outputs": [],
   "source": [
    "binance_data.rename(columns={\"time\": \"timestamp\", \"qty\": \"amount\"}, inplace=True)"
   ]
  },
  {
   "cell_type": "code",
   "execution_count": 171,
   "id": "c481bcaf",
   "metadata": {
    "ExecuteTime": {
     "end_time": "2023-03-14T17:53:01.167360Z",
     "start_time": "2023-03-14T17:53:00.914427Z"
    },
    "hidden": true
   },
   "outputs": [],
   "source": [
    "binance_data = binance_data[[\"timestamp\", \"side\", \"price\", \"amount\"]]"
   ]
  },
  {
   "cell_type": "code",
   "execution_count": 172,
   "id": "677724db",
   "metadata": {
    "ExecuteTime": {
     "end_time": "2023-03-14T17:53:05.998245Z",
     "start_time": "2023-03-14T17:53:05.891513Z"
    },
    "hidden": true
   },
   "outputs": [],
   "source": [
    "btc_ccxt_trades.sort_values(by=[\"timestamp\"], ignore_index=True, inplace=True)"
   ]
  },
  {
   "cell_type": "code",
   "execution_count": 173,
   "id": "d0b45ac4",
   "metadata": {
    "ExecuteTime": {
     "end_time": "2023-03-14T17:53:08.084541Z",
     "start_time": "2023-03-14T17:53:08.052050Z"
    },
    "hidden": true
   },
   "outputs": [
    {
     "data": {
      "text/plain": [
       "2969174"
      ]
     },
     "execution_count": 173,
     "metadata": {},
     "output_type": "execute_result"
    }
   ],
   "source": [
    "len(binance_data) - len(btc_ccxt_trades)"
   ]
  },
  {
   "cell_type": "code",
   "execution_count": 174,
   "id": "c7bd7f75",
   "metadata": {
    "ExecuteTime": {
     "end_time": "2023-03-14T17:53:20.649969Z",
     "start_time": "2023-03-14T17:53:20.186225Z"
    },
    "hidden": true
   },
   "outputs": [],
   "source": [
    "binance_data = binance_data[\n",
    "    binance_data.timestamp.isin(btc_ccxt_trades.timestamp)\n",
    "]"
   ]
  },
  {
   "cell_type": "code",
   "execution_count": 178,
   "id": "466f124c",
   "metadata": {
    "ExecuteTime": {
     "end_time": "2023-03-14T17:54:22.762357Z",
     "start_time": "2023-03-14T17:54:22.729142Z"
    },
    "hidden": true
   },
   "outputs": [
    {
     "data": {
      "text/plain": [
       "2000805"
      ]
     },
     "execution_count": 178,
     "metadata": {},
     "output_type": "execute_result"
    }
   ],
   "source": [
    "len(binance_data) - len(btc_ccxt_trades)"
   ]
  },
  {
   "cell_type": "markdown",
   "id": "eb4594f7",
   "metadata": {
    "heading_collapsed": true
   },
   "source": [
    "# Bare CCXT client data"
   ]
  },
  {
   "cell_type": "code",
   "execution_count": 201,
   "id": "f15f24c6",
   "metadata": {
    "ExecuteTime": {
     "end_time": "2023-03-15T17:34:40.168686Z",
     "start_time": "2023-03-15T17:34:40.116537Z"
    },
    "hidden": true
   },
   "outputs": [],
   "source": [
    "import ccxt\n",
    "\n",
    "extractor = ccxt.binance({\"options\": {\"defaultType\": \"future\"}})"
   ]
  },
  {
   "cell_type": "code",
   "execution_count": 202,
   "id": "fd42fe5b",
   "metadata": {
    "ExecuteTime": {
     "end_time": "2023-03-15T17:34:42.246240Z",
     "start_time": "2023-03-15T17:34:40.899582Z"
    },
    "hidden": true
   },
   "outputs": [],
   "source": [
    "start_timestamp = pd.Timestamp(\"2023-03-01T00:00:00+00:00\")\n",
    "start_timestamp = hdateti.convert_timestamp_to_unix_epoch(start_timestamp)\n",
    "currency_pair = \"BTC/USDT\"\n",
    "limit = 1000\n",
    "data = extractor.fetch_trades(\n",
    "    currency_pair,\n",
    "    since=start_timestamp,\n",
    "    limit=limit,\n",
    ")"
   ]
  },
  {
   "cell_type": "code",
   "execution_count": 203,
   "id": "db9892ff",
   "metadata": {
    "ExecuteTime": {
     "end_time": "2023-03-15T17:34:42.282559Z",
     "start_time": "2023-03-15T17:34:42.248881Z"
    },
    "hidden": true
   },
   "outputs": [],
   "source": [
    "data = pd.DataFrame(data)"
   ]
  },
  {
   "cell_type": "code",
   "execution_count": 204,
   "id": "8af91d82",
   "metadata": {
    "ExecuteTime": {
     "end_time": "2023-03-15T17:34:43.599189Z",
     "start_time": "2023-03-15T17:34:43.555125Z"
    },
    "hidden": true
   },
   "outputs": [
    {
     "data": {
      "text/html": [
       "<div>\n",
       "<style scoped>\n",
       "    .dataframe tbody tr th:only-of-type {\n",
       "        vertical-align: middle;\n",
       "    }\n",
       "\n",
       "    .dataframe tbody tr th {\n",
       "        vertical-align: top;\n",
       "    }\n",
       "\n",
       "    .dataframe thead th {\n",
       "        text-align: right;\n",
       "    }\n",
       "</style>\n",
       "<table border=\"1\" class=\"dataframe\">\n",
       "  <thead>\n",
       "    <tr style=\"text-align: right;\">\n",
       "      <th></th>\n",
       "      <th>info</th>\n",
       "      <th>timestamp</th>\n",
       "      <th>datetime</th>\n",
       "      <th>symbol</th>\n",
       "      <th>id</th>\n",
       "      <th>order</th>\n",
       "      <th>type</th>\n",
       "      <th>side</th>\n",
       "      <th>takerOrMaker</th>\n",
       "      <th>price</th>\n",
       "      <th>amount</th>\n",
       "      <th>cost</th>\n",
       "      <th>fee</th>\n",
       "      <th>fees</th>\n",
       "    </tr>\n",
       "  </thead>\n",
       "  <tbody>\n",
       "    <tr>\n",
       "      <th>0</th>\n",
       "      <td>{'a': '1618988283', 'p': '23129.70', 'q': '2.4...</td>\n",
       "      <td>1677628800053</td>\n",
       "      <td>2023-03-01T00:00:00.053Z</td>\n",
       "      <td>BTC/USDT</td>\n",
       "      <td>1618988283</td>\n",
       "      <td>None</td>\n",
       "      <td>None</td>\n",
       "      <td>buy</td>\n",
       "      <td>taker</td>\n",
       "      <td>23129.7</td>\n",
       "      <td>2.451</td>\n",
       "      <td>56690.8947</td>\n",
       "      <td>None</td>\n",
       "      <td>[]</td>\n",
       "    </tr>\n",
       "    <tr>\n",
       "      <th>1</th>\n",
       "      <td>{'a': '1618988284', 'p': '23129.60', 'q': '0.3...</td>\n",
       "      <td>1677628800085</td>\n",
       "      <td>2023-03-01T00:00:00.085Z</td>\n",
       "      <td>BTC/USDT</td>\n",
       "      <td>1618988284</td>\n",
       "      <td>None</td>\n",
       "      <td>None</td>\n",
       "      <td>sell</td>\n",
       "      <td>taker</td>\n",
       "      <td>23129.6</td>\n",
       "      <td>0.321</td>\n",
       "      <td>7424.6016</td>\n",
       "      <td>None</td>\n",
       "      <td>[]</td>\n",
       "    </tr>\n",
       "    <tr>\n",
       "      <th>2</th>\n",
       "      <td>{'a': '1618988285', 'p': '23129.70', 'q': '0.0...</td>\n",
       "      <td>1677628803913</td>\n",
       "      <td>2023-03-01T00:00:03.913Z</td>\n",
       "      <td>BTC/USDT</td>\n",
       "      <td>1618988285</td>\n",
       "      <td>None</td>\n",
       "      <td>None</td>\n",
       "      <td>buy</td>\n",
       "      <td>taker</td>\n",
       "      <td>23129.7</td>\n",
       "      <td>0.002</td>\n",
       "      <td>46.2594</td>\n",
       "      <td>None</td>\n",
       "      <td>[]</td>\n",
       "    </tr>\n",
       "    <tr>\n",
       "      <th>3</th>\n",
       "      <td>{'a': '1618988286', 'p': '23129.70', 'q': '8.7...</td>\n",
       "      <td>1677628804251</td>\n",
       "      <td>2023-03-01T00:00:04.251Z</td>\n",
       "      <td>BTC/USDT</td>\n",
       "      <td>1618988286</td>\n",
       "      <td>None</td>\n",
       "      <td>None</td>\n",
       "      <td>buy</td>\n",
       "      <td>taker</td>\n",
       "      <td>23129.7</td>\n",
       "      <td>8.720</td>\n",
       "      <td>201690.9840</td>\n",
       "      <td>None</td>\n",
       "      <td>[]</td>\n",
       "    </tr>\n",
       "    <tr>\n",
       "      <th>4</th>\n",
       "      <td>{'a': '1618988287', 'p': '23129.80', 'q': '0.0...</td>\n",
       "      <td>1677628804255</td>\n",
       "      <td>2023-03-01T00:00:04.255Z</td>\n",
       "      <td>BTC/USDT</td>\n",
       "      <td>1618988287</td>\n",
       "      <td>None</td>\n",
       "      <td>None</td>\n",
       "      <td>buy</td>\n",
       "      <td>taker</td>\n",
       "      <td>23129.8</td>\n",
       "      <td>0.059</td>\n",
       "      <td>1364.6582</td>\n",
       "      <td>None</td>\n",
       "      <td>[]</td>\n",
       "    </tr>\n",
       "  </tbody>\n",
       "</table>\n",
       "</div>"
      ],
      "text/plain": [
       "                                                info      timestamp                  datetime    symbol          id order  type  side takerOrMaker    price  amount         cost   fee fees\n",
       "0  {'a': '1618988283', 'p': '23129.70', 'q': '2.4...  1677628800053  2023-03-01T00:00:00.053Z  BTC/USDT  1618988283  None  None   buy        taker  23129.7   2.451   56690.8947  None   []\n",
       "1  {'a': '1618988284', 'p': '23129.60', 'q': '0.3...  1677628800085  2023-03-01T00:00:00.085Z  BTC/USDT  1618988284  None  None  sell        taker  23129.6   0.321    7424.6016  None   []\n",
       "2  {'a': '1618988285', 'p': '23129.70', 'q': '0.0...  1677628803913  2023-03-01T00:00:03.913Z  BTC/USDT  1618988285  None  None   buy        taker  23129.7   0.002      46.2594  None   []\n",
       "3  {'a': '1618988286', 'p': '23129.70', 'q': '8.7...  1677628804251  2023-03-01T00:00:04.251Z  BTC/USDT  1618988286  None  None   buy        taker  23129.7   8.720  201690.9840  None   []\n",
       "4  {'a': '1618988287', 'p': '23129.80', 'q': '0.0...  1677628804255  2023-03-01T00:00:04.255Z  BTC/USDT  1618988287  None  None   buy        taker  23129.8   0.059    1364.6582  None   []"
      ]
     },
     "execution_count": 204,
     "metadata": {},
     "output_type": "execute_result"
    }
   ],
   "source": [
    "data[data.timestamp.isin(binance_data.time)].head()"
   ]
  },
  {
   "cell_type": "code",
   "execution_count": 133,
   "id": "55e99671",
   "metadata": {
    "ExecuteTime": {
     "end_time": "2023-03-15T16:46:21.415466Z",
     "start_time": "2023-03-15T16:46:21.384527Z"
    },
    "hidden": true
   },
   "outputs": [],
   "source": [
    "import json"
   ]
  },
  {
   "cell_type": "code",
   "execution_count": 205,
   "id": "d17c0108",
   "metadata": {
    "ExecuteTime": {
     "end_time": "2023-03-15T17:34:53.458852Z",
     "start_time": "2023-03-15T17:34:53.419061Z"
    },
    "hidden": true
   },
   "outputs": [
    {
     "data": {
      "text/html": [
       "<div>\n",
       "<style scoped>\n",
       "    .dataframe tbody tr th:only-of-type {\n",
       "        vertical-align: middle;\n",
       "    }\n",
       "\n",
       "    .dataframe tbody tr th {\n",
       "        vertical-align: top;\n",
       "    }\n",
       "\n",
       "    .dataframe thead th {\n",
       "        text-align: right;\n",
       "    }\n",
       "</style>\n",
       "<table border=\"1\" class=\"dataframe\">\n",
       "  <thead>\n",
       "    <tr style=\"text-align: right;\">\n",
       "      <th></th>\n",
       "      <th>info</th>\n",
       "      <th>timestamp</th>\n",
       "      <th>datetime</th>\n",
       "      <th>symbol</th>\n",
       "      <th>id</th>\n",
       "      <th>order</th>\n",
       "      <th>type</th>\n",
       "      <th>side</th>\n",
       "      <th>takerOrMaker</th>\n",
       "      <th>price</th>\n",
       "      <th>amount</th>\n",
       "      <th>cost</th>\n",
       "      <th>fee</th>\n",
       "      <th>fees</th>\n",
       "    </tr>\n",
       "  </thead>\n",
       "  <tbody>\n",
       "    <tr>\n",
       "      <th>0</th>\n",
       "      <td>{'a': '1618988283', 'p': '23129.70', 'q': '2.4...</td>\n",
       "      <td>1677628800053</td>\n",
       "      <td>2023-03-01T00:00:00.053Z</td>\n",
       "      <td>BTC/USDT</td>\n",
       "      <td>1618988283</td>\n",
       "      <td>None</td>\n",
       "      <td>None</td>\n",
       "      <td>buy</td>\n",
       "      <td>taker</td>\n",
       "      <td>23129.7</td>\n",
       "      <td>2.451</td>\n",
       "      <td>56690.8947</td>\n",
       "      <td>None</td>\n",
       "      <td>[]</td>\n",
       "    </tr>\n",
       "  </tbody>\n",
       "</table>\n",
       "</div>"
      ],
      "text/plain": [
       "                                                info      timestamp                  datetime    symbol          id order  type side takerOrMaker    price  amount        cost   fee fees\n",
       "0  {'a': '1618988283', 'p': '23129.70', 'q': '2.4...  1677628800053  2023-03-01T00:00:00.053Z  BTC/USDT  1618988283  None  None  buy        taker  23129.7   2.451  56690.8947  None   []"
      ]
     },
     "execution_count": 205,
     "metadata": {},
     "output_type": "execute_result"
    }
   ],
   "source": [
    "data[data.timestamp == 1677628800053]"
   ]
  },
  {
   "cell_type": "code",
   "execution_count": 206,
   "id": "718eb58a",
   "metadata": {
    "ExecuteTime": {
     "end_time": "2023-03-15T17:34:54.363454Z",
     "start_time": "2023-03-15T17:34:54.330106Z"
    },
    "hidden": true
   },
   "outputs": [
    {
     "data": {
      "text/plain": [
       "'{\"0\":{\"a\":\"1618988283\",\"p\":\"23129.70\",\"q\":\"2.451\",\"f\":\"3348676218\",\"l\":\"3348676236\",\"T\":\"1677628800053\",\"m\":false}}'"
      ]
     },
     "execution_count": 206,
     "metadata": {},
     "output_type": "execute_result"
    }
   ],
   "source": [
    "data[data.timestamp == 1677628800053][\"info\"].to_json()"
   ]
  },
  {
   "cell_type": "code",
   "execution_count": 207,
   "id": "7980a2c3",
   "metadata": {
    "ExecuteTime": {
     "end_time": "2023-03-15T17:34:55.151334Z",
     "start_time": "2023-03-15T17:34:55.114426Z"
    },
    "hidden": true
   },
   "outputs": [
    {
     "data": {
      "text/html": [
       "<div>\n",
       "<style scoped>\n",
       "    .dataframe tbody tr th:only-of-type {\n",
       "        vertical-align: middle;\n",
       "    }\n",
       "\n",
       "    .dataframe tbody tr th {\n",
       "        vertical-align: top;\n",
       "    }\n",
       "\n",
       "    .dataframe thead th {\n",
       "        text-align: right;\n",
       "    }\n",
       "</style>\n",
       "<table border=\"1\" class=\"dataframe\">\n",
       "  <thead>\n",
       "    <tr style=\"text-align: right;\">\n",
       "      <th></th>\n",
       "      <th>id</th>\n",
       "      <th>price</th>\n",
       "      <th>qty</th>\n",
       "      <th>quote_qty</th>\n",
       "      <th>time</th>\n",
       "      <th>is_buyer_maker</th>\n",
       "    </tr>\n",
       "  </thead>\n",
       "  <tbody>\n",
       "    <tr>\n",
       "      <th>0</th>\n",
       "      <td>3348676218</td>\n",
       "      <td>23129.7</td>\n",
       "      <td>0.224</td>\n",
       "      <td>5181.05</td>\n",
       "      <td>1677628800053</td>\n",
       "      <td>False</td>\n",
       "    </tr>\n",
       "  </tbody>\n",
       "</table>\n",
       "</div>"
      ],
      "text/plain": [
       "           id    price    qty  quote_qty           time  is_buyer_maker\n",
       "0  3348676218  23129.7  0.224    5181.05  1677628800053           False"
      ]
     },
     "execution_count": 207,
     "metadata": {},
     "output_type": "execute_result"
    }
   ],
   "source": [
    "binance_data[binance_data.time == 1677628800053]"
   ]
  },
  {
   "cell_type": "markdown",
   "id": "783cd27c",
   "metadata": {
    "heading_collapsed": true
   },
   "source": [
    "# BinanceExtractor download - futures"
   ]
  },
  {
   "cell_type": "code",
   "execution_count": 60,
   "id": "8cf8fd15",
   "metadata": {
    "ExecuteTime": {
     "end_time": "2023-03-24T18:12:27.087534Z",
     "start_time": "2023-03-24T18:12:27.022035Z"
    },
    "hidden": true
   },
   "outputs": [],
   "source": [
    "import im_v2.binance.data.extract.extractor as ivbdexex\n",
    "\n",
    "contract_type = \"futures\"\n",
    "binance_extractor = ivbdexex.BinanceExtractor(contract_type)"
   ]
  },
  {
   "cell_type": "code",
   "execution_count": 61,
   "id": "b867a016",
   "metadata": {
    "ExecuteTime": {
     "end_time": "2023-03-24T18:12:36.272662Z",
     "start_time": "2023-03-24T18:12:27.165216Z"
    },
    "hidden": true
   },
   "outputs": [
    {
     "name": "stdout",
     "output_type": "stream",
     "text": [
      "\n",
      "File Download: https://data.binance.vision/data/futures/um/daily/trades/BTCUSDT/BTCUSDT-trades-2021-08-31.zip\n",
      "[##################################################]INFO  Extracting ./tmp/binance/8fa3fe97-10c1-4107-b8b6-d592c8126a61/BTCUSDT-trades-2021-08-31.zip\n"
     ]
    }
   ],
   "source": [
    "exchange_id = \"binance\"\n",
    "currency_pair = \"BTC_USDT\"\n",
    "start_timestamp = pd.Timestamp(\"2021-08-31 00:00:00\")\n",
    "end_timestamp = pd.Timestamp(\"2021-08-31 23:59:59\")\n",
    "binance_data = binance_extractor._download_trades(\n",
    "    exchange_id,\n",
    "    currency_pair,\n",
    "    start_timestamp=start_timestamp,\n",
    "    end_timestamp=end_timestamp,\n",
    ")"
   ]
  },
  {
   "cell_type": "code",
   "execution_count": 62,
   "id": "6f31164c",
   "metadata": {
    "ExecuteTime": {
     "end_time": "2023-03-24T18:12:43.299041Z",
     "start_time": "2023-03-24T18:12:43.262026Z"
    },
    "hidden": true
   },
   "outputs": [
    {
     "data": {
      "text/html": [
       "<div>\n",
       "<style scoped>\n",
       "    .dataframe tbody tr th:only-of-type {\n",
       "        vertical-align: middle;\n",
       "    }\n",
       "\n",
       "    .dataframe tbody tr th {\n",
       "        vertical-align: top;\n",
       "    }\n",
       "\n",
       "    .dataframe thead th {\n",
       "        text-align: right;\n",
       "    }\n",
       "</style>\n",
       "<table border=\"1\" class=\"dataframe\">\n",
       "  <thead>\n",
       "    <tr style=\"text-align: right;\">\n",
       "      <th></th>\n",
       "      <th>timestamp</th>\n",
       "      <th>price</th>\n",
       "      <th>amount</th>\n",
       "      <th>side</th>\n",
       "      <th>end_download_timestamp</th>\n",
       "    </tr>\n",
       "  </thead>\n",
       "  <tbody>\n",
       "    <tr>\n",
       "      <th>0</th>\n",
       "      <td>1630368000073</td>\n",
       "      <td>47024.69</td>\n",
       "      <td>0.001</td>\n",
       "      <td>buy</td>\n",
       "      <td>2023-03-24 18:12:35.904601+00:00</td>\n",
       "    </tr>\n",
       "    <tr>\n",
       "      <th>1</th>\n",
       "      <td>1630368003229</td>\n",
       "      <td>47024.69</td>\n",
       "      <td>0.021</td>\n",
       "      <td>buy</td>\n",
       "      <td>2023-03-24 18:12:35.904601+00:00</td>\n",
       "    </tr>\n",
       "    <tr>\n",
       "      <th>2</th>\n",
       "      <td>1630368003229</td>\n",
       "      <td>47024.69</td>\n",
       "      <td>0.010</td>\n",
       "      <td>buy</td>\n",
       "      <td>2023-03-24 18:12:35.904601+00:00</td>\n",
       "    </tr>\n",
       "    <tr>\n",
       "      <th>3</th>\n",
       "      <td>1630368003230</td>\n",
       "      <td>47024.69</td>\n",
       "      <td>0.024</td>\n",
       "      <td>buy</td>\n",
       "      <td>2023-03-24 18:12:35.904601+00:00</td>\n",
       "    </tr>\n",
       "    <tr>\n",
       "      <th>4</th>\n",
       "      <td>1630368003231</td>\n",
       "      <td>47024.70</td>\n",
       "      <td>0.007</td>\n",
       "      <td>sell</td>\n",
       "      <td>2023-03-24 18:12:35.904601+00:00</td>\n",
       "    </tr>\n",
       "  </tbody>\n",
       "</table>\n",
       "</div>"
      ],
      "text/plain": [
       "       timestamp     price  amount  side            end_download_timestamp\n",
       "0  1630368000073  47024.69   0.001   buy  2023-03-24 18:12:35.904601+00:00\n",
       "1  1630368003229  47024.69   0.021   buy  2023-03-24 18:12:35.904601+00:00\n",
       "2  1630368003229  47024.69   0.010   buy  2023-03-24 18:12:35.904601+00:00\n",
       "3  1630368003230  47024.69   0.024   buy  2023-03-24 18:12:35.904601+00:00\n",
       "4  1630368003231  47024.70   0.007  sell  2023-03-24 18:12:35.904601+00:00"
      ]
     },
     "execution_count": 62,
     "metadata": {},
     "output_type": "execute_result"
    }
   ],
   "source": [
    "binance_data.head()"
   ]
  },
  {
   "cell_type": "code",
   "execution_count": 53,
   "id": "e4b5458e",
   "metadata": {
    "ExecuteTime": {
     "end_time": "2023-03-24T18:08:30.491744Z",
     "start_time": "2023-03-24T18:08:30.446338Z"
    },
    "hidden": true
   },
   "outputs": [
    {
     "data": {
      "text/plain": [
       "min   2021-08-31 00:00:00.073\n",
       "max   2021-08-31 23:59:58.985\n",
       "Name: timestamp, dtype: datetime64[ns]"
      ]
     },
     "execution_count": 53,
     "metadata": {},
     "output_type": "execute_result"
    }
   ],
   "source": [
    "binance_data.timestamp.agg([\"min\", \"max\"]).apply(pd.Timestamp, unit=\"ms\")"
   ]
  },
  {
   "cell_type": "markdown",
   "id": "cc2e6157",
   "metadata": {},
   "source": [
    "# BinanceExtractor download - trades - spot"
   ]
  },
  {
   "cell_type": "code",
   "execution_count": 10,
   "id": "5a70ecb6",
   "metadata": {
    "ExecuteTime": {
     "end_time": "2023-04-17T07:38:07.572275Z",
     "start_time": "2023-04-17T07:38:07.535205Z"
    }
   },
   "outputs": [],
   "source": [
    "import im_v2.binance.data.extract.extractor as ivbdexex\n",
    "\n",
    "contract_type = \"spot\"\n",
    "time_period = ivbdexex.BinanceNativeTimePeriod.DAILY\n",
    "binance_extractor = ivbdexex.BinanceExtractor(contract_type, time_period)"
   ]
  },
  {
   "cell_type": "code",
   "execution_count": 11,
   "id": "8e1c3a4c",
   "metadata": {
    "ExecuteTime": {
     "end_time": "2023-04-17T07:41:10.899346Z",
     "start_time": "2023-04-17T07:38:07.758433Z"
    }
   },
   "outputs": [
    {
     "name": "stdout",
     "output_type": "stream",
     "text": [
      "\n",
      "File Download: https://data.binance.vision/data/spot/daily/trades/BTCUSDT/BTCUSDT-trades-2021-04-01.zip\n",
      "[##################################################]\n",
      "\n",
      "\n",
      "File Download: https://data.binance.vision/data/spot/daily/trades/BTCUSDT/BTCUSDT-trades-2021-04-02.zip\n",
      "[##################################################]\n",
      "\n",
      "\n",
      "File Download: https://data.binance.vision/data/spot/daily/trades/BTCUSDT/BTCUSDT-trades-2021-04-03.zip\n",
      "[##################################################]\n",
      "\n",
      "\n",
      "File Download: https://data.binance.vision/data/spot/daily/trades/BTCUSDT/BTCUSDT-trades-2021-04-04.zip\n",
      "[##################################################]\n",
      "\n",
      "\n",
      "File Download: https://data.binance.vision/data/spot/daily/trades/BTCUSDT/BTCUSDT-trades-2021-04-05.zip\n",
      "[##################################################]\n",
      "\n",
      "\n",
      "File Download: https://data.binance.vision/data/spot/daily/trades/BTCUSDT/BTCUSDT-trades-2021-04-06.zip\n",
      "[##################################################]\n",
      "\n",
      "\n",
      "File Download: https://data.binance.vision/data/spot/daily/trades/BTCUSDT/BTCUSDT-trades-2021-04-07.zip\n",
      "[##################################################]\n",
      "\n",
      "\n",
      "File Download: https://data.binance.vision/data/spot/daily/trades/BTCUSDT/BTCUSDT-trades-2021-04-08.zip\n",
      "[##################################################]\n",
      "\n",
      "\n",
      "File Download: https://data.binance.vision/data/spot/daily/trades/BTCUSDT/BTCUSDT-trades-2021-04-09.zip\n",
      "[##################################################]\n",
      "\n",
      "\n",
      "File Download: https://data.binance.vision/data/spot/daily/trades/BTCUSDT/BTCUSDT-trades-2021-04-10.zip\n",
      "[##################################################]\n",
      "\n",
      "\n",
      "File Download: https://data.binance.vision/data/spot/daily/trades/BTCUSDT/BTCUSDT-trades-2021-04-11.zip\n",
      "[##################################################]\n",
      "\n",
      "\n",
      "File Download: https://data.binance.vision/data/spot/daily/trades/BTCUSDT/BTCUSDT-trades-2021-04-12.zip\n",
      "[##################################################]\n",
      "\n",
      "\n",
      "File Download: https://data.binance.vision/data/spot/daily/trades/BTCUSDT/BTCUSDT-trades-2021-04-13.zip\n",
      "[##################################################]\n",
      "\n",
      "\n",
      "File Download: https://data.binance.vision/data/spot/daily/trades/BTCUSDT/BTCUSDT-trades-2021-04-14.zip\n",
      "[##################################################]\n",
      "\n",
      "\n",
      "File Download: https://data.binance.vision/data/spot/daily/trades/BTCUSDT/BTCUSDT-trades-2021-04-15.zip\n",
      "[##################################################]\n",
      "\n",
      "\n",
      "File Download: https://data.binance.vision/data/spot/daily/trades/BTCUSDT/BTCUSDT-trades-2021-04-16.zip\n",
      "[##################################################]\n",
      "\n",
      "\n",
      "File Download: https://data.binance.vision/data/spot/daily/trades/BTCUSDT/BTCUSDT-trades-2021-04-17.zip\n",
      "[##################################################]\n",
      "\n",
      "\n",
      "File Download: https://data.binance.vision/data/spot/daily/trades/BTCUSDT/BTCUSDT-trades-2021-04-18.zip\n",
      "[##################################################]\n",
      "\n",
      "\n",
      "File Download: https://data.binance.vision/data/spot/daily/trades/BTCUSDT/BTCUSDT-trades-2021-04-19.zip\n",
      "[##################################################]\n",
      "\n",
      "\n",
      "File Download: https://data.binance.vision/data/spot/daily/trades/BTCUSDT/BTCUSDT-trades-2021-04-20.zip\n",
      "[##################################################]\n",
      "\n",
      "\n",
      "File Download: https://data.binance.vision/data/spot/daily/trades/BTCUSDT/BTCUSDT-trades-2021-04-21.zip\n",
      "[##################################################]\n",
      "\n",
      "\n",
      "File Download: https://data.binance.vision/data/spot/daily/trades/BTCUSDT/BTCUSDT-trades-2021-04-22.zip\n",
      "[##################################################]\n",
      "\n",
      "\n",
      "File Download: https://data.binance.vision/data/spot/daily/trades/BTCUSDT/BTCUSDT-trades-2021-04-23.zip\n",
      "[##################################################]\n",
      "\n",
      "\n",
      "File Download: https://data.binance.vision/data/spot/daily/trades/BTCUSDT/BTCUSDT-trades-2021-04-24.zip\n",
      "[##################################################]\n",
      "\n",
      "\n",
      "File Download: https://data.binance.vision/data/spot/daily/trades/BTCUSDT/BTCUSDT-trades-2021-04-25.zip\n",
      "[##################################################]\n",
      "\n",
      "\n",
      "File Download: https://data.binance.vision/data/spot/daily/trades/BTCUSDT/BTCUSDT-trades-2021-04-26.zip\n",
      "[##################################################]\n",
      "\n",
      "\n",
      "File Download: https://data.binance.vision/data/spot/daily/trades/BTCUSDT/BTCUSDT-trades-2021-04-27.zip\n",
      "[##################################################]\n",
      "\n",
      "\n",
      "File Download: https://data.binance.vision/data/spot/daily/trades/BTCUSDT/BTCUSDT-trades-2021-04-28.zip\n",
      "[##################################################]\n",
      "\n",
      "\n",
      "File Download: https://data.binance.vision/data/spot/daily/trades/BTCUSDT/BTCUSDT-trades-2021-04-29.zip\n",
      "[##################################################]\n",
      "\n",
      "\n",
      "File Download: https://data.binance.vision/data/spot/daily/trades/BTCUSDT/BTCUSDT-trades-2021-04-30.zip\n",
      "[##################################################]\n",
      "\n"
     ]
    }
   ],
   "source": [
    "exchange_id = \"binance\"\n",
    "currency_pair = \"BTC_USDT\"\n",
    "start_timestamp = pd.Timestamp(\"2021-04-01T00:00:00+00:00\")\n",
    "end_timestamp = pd.Timestamp(\"2021-04-30T23:59:59+00:00\")\n",
    "binance_data = binance_extractor._download_trades(\n",
    "    exchange_id,\n",
    "    currency_pair,\n",
    "    start_timestamp=start_timestamp,\n",
    "    end_timestamp=end_timestamp,\n",
    ")"
   ]
  },
  {
   "cell_type": "code",
   "execution_count": 12,
   "id": "c6393fd2",
   "metadata": {
    "ExecuteTime": {
     "end_time": "2023-04-17T07:42:24.109364Z",
     "start_time": "2023-04-17T07:42:16.503873Z"
    }
   },
   "outputs": [],
   "source": [
    "df1 = next(binance_data)"
   ]
  },
  {
   "cell_type": "code",
   "execution_count": 15,
   "id": "ed90246f",
   "metadata": {
    "ExecuteTime": {
     "end_time": "2023-04-17T07:44:36.069276Z",
     "start_time": "2023-04-17T07:44:30.396464Z"
    }
   },
   "outputs": [
    {
     "data": {
      "text/plain": [
       "0         2021-04-09 00:00:00.007\n",
       "1         2021-04-09 00:00:00.065\n",
       "2         2021-04-09 00:00:00.129\n",
       "3         2021-04-09 00:00:00.160\n",
       "4         2021-04-09 00:00:00.166\n",
       "                    ...          \n",
       "1615957   2021-04-09 23:59:59.665\n",
       "1615958   2021-04-09 23:59:59.747\n",
       "1615959   2021-04-09 23:59:59.838\n",
       "1615960   2021-04-09 23:59:59.876\n",
       "1615961   2021-04-09 23:59:59.904\n",
       "Name: timestamp, Length: 1615962, dtype: datetime64[ns]"
      ]
     },
     "execution_count": 15,
     "metadata": {},
     "output_type": "execute_result"
    }
   ],
   "source": [
    "df1.timestamp.sort_values().apply(pd.Timestamp, unit=\"ms\")"
   ]
  },
  {
   "cell_type": "markdown",
   "id": "e72236b1",
   "metadata": {},
   "source": [
    "# BinanceExtractor download - trades - spot - monthly"
   ]
  },
  {
   "cell_type": "code",
   "execution_count": 90,
   "id": "f317b276",
   "metadata": {
    "ExecuteTime": {
     "end_time": "2023-04-05T17:14:02.243194Z",
     "start_time": "2023-04-05T17:14:01.970738Z"
    }
   },
   "outputs": [],
   "source": [
    "import im_v2.binance.data.extract.extractor as ivbdexex\n",
    "\n",
    "contract_type = \"spot\"\n",
    "time_period = ivbdexex.BinanceNativeTimePeriod.MONTHLY\n",
    "binance_extractor = ivbdexex.BinanceExtractor(\n",
    "    contract_type, time_period=time_period\n",
    ")"
   ]
  },
  {
   "cell_type": "code",
   "execution_count": 91,
   "id": "7e7f25c9",
   "metadata": {
    "ExecuteTime": {
     "end_time": "2023-04-05T17:14:21.631187Z",
     "start_time": "2023-04-05T17:14:02.472458Z"
    }
   },
   "outputs": [
    {
     "name": "stdout",
     "output_type": "stream",
     "text": [
      "\n",
      "File Download: https://data.binance.vision/data/spot/monthly/trades/BTCUSDT/BTCUSDT-trades-2020-01.zip\n",
      "[##################################################]\n",
      "\n"
     ]
    }
   ],
   "source": [
    "exchange_id = \"binance\"\n",
    "currency_pair = \"BTCUSDT\"\n",
    "start_timestamp = pd.Timestamp(\"2020-01-01 00:00:00\")\n",
    "end_timestamp = pd.Timestamp(\"2020-02-01 00:00:00\")\n",
    "monthly_iterator = binance_extractor._get_trades_iterator(\n",
    "    currency_pair, start_timestamp, end_timestamp\n",
    ")"
   ]
  },
  {
   "cell_type": "code",
   "execution_count": 92,
   "id": "00f0e2ac",
   "metadata": {
    "ExecuteTime": {
     "end_time": "2023-04-05T17:14:22.674995Z",
     "start_time": "2023-04-05T17:14:21.634054Z"
    }
   },
   "outputs": [],
   "source": [
    "df = next(monthly_iterator)"
   ]
  },
  {
   "cell_type": "code",
   "execution_count": 93,
   "id": "bb60e2d0",
   "metadata": {
    "ExecuteTime": {
     "end_time": "2023-04-05T17:14:40.795553Z",
     "start_time": "2023-04-05T17:14:40.760802Z"
    }
   },
   "outputs": [],
   "source": [
    "del monthly_iterator"
   ]
  },
  {
   "cell_type": "code",
   "execution_count": 94,
   "id": "43142682",
   "metadata": {
    "ExecuteTime": {
     "end_time": "2023-04-05T17:14:42.533765Z",
     "start_time": "2023-04-05T17:14:42.498490Z"
    }
   },
   "outputs": [
    {
     "data": {
      "text/plain": [
       "True"
      ]
     },
     "execution_count": 94,
     "metadata": {},
     "output_type": "execute_result"
    }
   ],
   "source": [
    "hasattr(binance_extractor, \"tmp_dir_path\")"
   ]
  },
  {
   "cell_type": "code",
   "execution_count": 95,
   "id": "8d14c021",
   "metadata": {
    "ExecuteTime": {
     "end_time": "2023-04-05T17:14:44.047977Z",
     "start_time": "2023-04-05T17:14:44.009153Z"
    }
   },
   "outputs": [
    {
     "data": {
      "text/plain": [
       "'./tmp/binance/1a9df707-acaf-4f93-8650-27a681f6f21d'"
      ]
     },
     "execution_count": 95,
     "metadata": {},
     "output_type": "execute_result"
    }
   ],
   "source": [
    "binance_extractor.tmp_dir_path"
   ]
  },
  {
   "cell_type": "code",
   "execution_count": 96,
   "id": "8b3c7bd7",
   "metadata": {
    "ExecuteTime": {
     "end_time": "2023-04-05T17:14:48.759237Z",
     "start_time": "2023-04-05T17:14:48.681730Z"
    }
   },
   "outputs": [],
   "source": [
    "del binance_extractor"
   ]
  },
  {
   "cell_type": "code",
   "execution_count": 56,
   "id": "bc7e5cf7",
   "metadata": {
    "ExecuteTime": {
     "end_time": "2023-04-05T16:29:07.478483Z",
     "start_time": "2023-04-05T16:29:07.442932Z"
    }
   },
   "outputs": [],
   "source": [
    "import os\n",
    "\n",
    "import helpers.hio as hio"
   ]
  },
  {
   "cell_type": "code",
   "execution_count": 97,
   "id": "d0d6c39d",
   "metadata": {
    "ExecuteTime": {
     "end_time": "2023-04-05T17:15:02.462691Z",
     "start_time": "2023-04-05T17:15:02.425906Z"
    }
   },
   "outputs": [
    {
     "data": {
      "text/plain": [
       "False"
      ]
     },
     "execution_count": 97,
     "metadata": {},
     "output_type": "execute_result"
    }
   ],
   "source": [
    "os.path.exists(\"./tmp/binance/1a9df707-acaf-4f93-8650-27a681f6f21d\")"
   ]
  },
  {
   "cell_type": "code",
   "execution_count": 37,
   "id": "2051b319",
   "metadata": {
    "ExecuteTime": {
     "end_time": "2023-04-04T17:54:30.163572Z",
     "start_time": "2023-04-04T17:54:30.123390Z"
    }
   },
   "outputs": [
    {
     "data": {
      "text/html": [
       "<div>\n",
       "<style scoped>\n",
       "    .dataframe tbody tr th:only-of-type {\n",
       "        vertical-align: middle;\n",
       "    }\n",
       "\n",
       "    .dataframe tbody tr th {\n",
       "        vertical-align: top;\n",
       "    }\n",
       "\n",
       "    .dataframe thead th {\n",
       "        text-align: right;\n",
       "    }\n",
       "</style>\n",
       "<table border=\"1\" class=\"dataframe\">\n",
       "  <thead>\n",
       "    <tr style=\"text-align: right;\">\n",
       "      <th></th>\n",
       "      <th>timestamp</th>\n",
       "      <th>price</th>\n",
       "      <th>amount</th>\n",
       "      <th>side</th>\n",
       "      <th>end_download_timestamp</th>\n",
       "    </tr>\n",
       "  </thead>\n",
       "  <tbody>\n",
       "    <tr>\n",
       "      <th>0</th>\n",
       "      <td>1577836800594</td>\n",
       "      <td>7195.24</td>\n",
       "      <td>0.001500</td>\n",
       "      <td>buy</td>\n",
       "      <td>2023-04-04 17:54:30.113616+00:00</td>\n",
       "    </tr>\n",
       "    <tr>\n",
       "      <th>1</th>\n",
       "      <td>1577836800862</td>\n",
       "      <td>7196.25</td>\n",
       "      <td>0.022706</td>\n",
       "      <td>sell</td>\n",
       "      <td>2023-04-04 17:54:30.113616+00:00</td>\n",
       "    </tr>\n",
       "    <tr>\n",
       "      <th>2</th>\n",
       "      <td>1577836800862</td>\n",
       "      <td>7196.25</td>\n",
       "      <td>0.099650</td>\n",
       "      <td>sell</td>\n",
       "      <td>2023-04-04 17:54:30.113616+00:00</td>\n",
       "    </tr>\n",
       "    <tr>\n",
       "      <th>3</th>\n",
       "      <td>1577836800998</td>\n",
       "      <td>7196.25</td>\n",
       "      <td>0.001543</td>\n",
       "      <td>sell</td>\n",
       "      <td>2023-04-04 17:54:30.113616+00:00</td>\n",
       "    </tr>\n",
       "    <tr>\n",
       "      <th>4</th>\n",
       "      <td>1577836801503</td>\n",
       "      <td>7195.25</td>\n",
       "      <td>0.400000</td>\n",
       "      <td>buy</td>\n",
       "      <td>2023-04-04 17:54:30.113616+00:00</td>\n",
       "    </tr>\n",
       "    <tr>\n",
       "      <th>...</th>\n",
       "      <td>...</td>\n",
       "      <td>...</td>\n",
       "      <td>...</td>\n",
       "      <td>...</td>\n",
       "      <td>...</td>\n",
       "    </tr>\n",
       "    <tr>\n",
       "      <th>19995</th>\n",
       "      <td>1577845659218</td>\n",
       "      <td>7236.91</td>\n",
       "      <td>0.003329</td>\n",
       "      <td>sell</td>\n",
       "      <td>2023-04-04 17:54:30.113616+00:00</td>\n",
       "    </tr>\n",
       "    <tr>\n",
       "      <th>19996</th>\n",
       "      <td>1577845659401</td>\n",
       "      <td>7236.84</td>\n",
       "      <td>0.060016</td>\n",
       "      <td>sell</td>\n",
       "      <td>2023-04-04 17:54:30.113616+00:00</td>\n",
       "    </tr>\n",
       "    <tr>\n",
       "      <th>19997</th>\n",
       "      <td>1577845659768</td>\n",
       "      <td>7237.08</td>\n",
       "      <td>0.060192</td>\n",
       "      <td>sell</td>\n",
       "      <td>2023-04-04 17:54:30.113616+00:00</td>\n",
       "    </tr>\n",
       "    <tr>\n",
       "      <th>19998</th>\n",
       "      <td>1577845660008</td>\n",
       "      <td>7236.83</td>\n",
       "      <td>0.006467</td>\n",
       "      <td>sell</td>\n",
       "      <td>2023-04-04 17:54:30.113616+00:00</td>\n",
       "    </tr>\n",
       "    <tr>\n",
       "      <th>19999</th>\n",
       "      <td>1577845660008</td>\n",
       "      <td>7237.08</td>\n",
       "      <td>0.053655</td>\n",
       "      <td>sell</td>\n",
       "      <td>2023-04-04 17:54:30.113616+00:00</td>\n",
       "    </tr>\n",
       "  </tbody>\n",
       "</table>\n",
       "<p>20000 rows × 5 columns</p>\n",
       "</div>"
      ],
      "text/plain": [
       "           timestamp    price    amount  side            end_download_timestamp\n",
       "0      1577836800594  7195.24  0.001500   buy  2023-04-04 17:54:30.113616+00:00\n",
       "1      1577836800862  7196.25  0.022706  sell  2023-04-04 17:54:30.113616+00:00\n",
       "2      1577836800862  7196.25  0.099650  sell  2023-04-04 17:54:30.113616+00:00\n",
       "3      1577836800998  7196.25  0.001543  sell  2023-04-04 17:54:30.113616+00:00\n",
       "4      1577836801503  7195.25  0.400000   buy  2023-04-04 17:54:30.113616+00:00\n",
       "...              ...      ...       ...   ...                               ...\n",
       "19995  1577845659218  7236.91  0.003329  sell  2023-04-04 17:54:30.113616+00:00\n",
       "19996  1577845659401  7236.84  0.060016  sell  2023-04-04 17:54:30.113616+00:00\n",
       "19997  1577845659768  7237.08  0.060192  sell  2023-04-04 17:54:30.113616+00:00\n",
       "19998  1577845660008  7236.83  0.006467  sell  2023-04-04 17:54:30.113616+00:00\n",
       "19999  1577845660008  7237.08  0.053655  sell  2023-04-04 17:54:30.113616+00:00\n",
       "\n",
       "[20000 rows x 5 columns]"
      ]
     },
     "execution_count": 37,
     "metadata": {},
     "output_type": "execute_result"
    }
   ],
   "source": [
    "df"
   ]
  },
  {
   "cell_type": "markdown",
   "id": "9bcc6f47",
   "metadata": {
    "heading_collapsed": true
   },
   "source": [
    "# Download by script - trades - futures"
   ]
  },
  {
   "cell_type": "code",
   "execution_count": 17,
   "id": "ee04fa6d",
   "metadata": {
    "ExecuteTime": {
     "end_time": "2023-03-24T08:56:34.746845Z",
     "start_time": "2023-03-24T08:51:49.362373Z"
    },
    "hidden": true
   },
   "outputs": [
    {
     "name": "stdout",
     "output_type": "stream",
     "text": [
      "\u001b[0m\u001b[36mINFO\u001b[0m: > cmd='/app/im_v2/common/data/extract/download_bulk.py --download_mode bulk --downloading_entity airflow --action_tag downloaded_1min --vendor binance --start_timestamp 2021-08-31T00:00:00+00:00 --end_timestamp 2021-08-31T23:59:00+00:00 --exchange_id binance --universe v1 --incremental --aws_profile ck --data_type trades --data_format parquet --contract_type futures --s3_path s3://cryptokaizen-data-test/'\n",
      "report_memory_usage=False report_cpu_usage=False\n",
      "\u001b[36mINFO\u001b[0m: Saving log to file '/app/im_v2/common/data/extract/download_bulk.py.log'\n",
      "04:51:53 - \u001b[36mINFO \u001b[0m dataset_schema_utils.py _get_dataset_schema_file_path:39 Loading dataset schema file: /app/data_schema/dataset_schema_versions/dataset_schema_v3.json\n",
      "04:51:53 - \u001b[36mINFO \u001b[0m dataset_schema_utils.py get_dataset_schema:74          Loaded dataset schema version v3\n",
      "04:51:53 - \u001b[36mINFO \u001b[0m dataset_schema_utils.py _get_dataset_schema_file_path:39 Loading dataset schema file: /app/data_schema/dataset_schema_versions/dataset_schema_v3.json\n",
      "04:51:53 - \u001b[36mINFO \u001b[0m dataset_schema_utils.py get_dataset_schema:74          Loaded dataset schema version v3\n",
      "\n",
      "File Download: ./tmp/binance/31260a26-d8ab-4f8b-87e6-a0a9bfae5184/ETHUSDT-trades-2021-08-31.zip\n",
      "[##################################################]04:51:57 - \u001b[36mINFO \u001b[0m extractor.py _extract_data_from_binance_files:215      Extracting ./tmp/binance/31260a26-d8ab-4f8b-87e6-a0a9bfae5184/ETHUSDT-trades-2021-08-31.zip\n",
      "04:52:01 - \u001b[36mINFO \u001b[0m extract_utils.py download_historical_data:734          Saving the dataset into s3://cryptokaizen-data-test/v3/bulk/airflow/downloaded_1min/parquet/trades/futures/v1/binance/binance/v1_0_0\n",
      "\n",
      "File Download: ./tmp/binance/456951bb-c681-42a8-ace0-5503567f384b/BTCUSDT-trades-2021-08-31.zip\n",
      "[##################################################]04:52:28 - \u001b[36mINFO \u001b[0m extractor.py _extract_data_from_binance_files:215      Extracting ./tmp/binance/456951bb-c681-42a8-ace0-5503567f384b/BTCUSDT-trades-2021-08-31.zip\n",
      "04:52:30 - \u001b[36mINFO \u001b[0m extract_utils.py download_historical_data:734          Saving the dataset into s3://cryptokaizen-data-test/v3/bulk/airflow/downloaded_1min/parquet/trades/futures/v1/binance/binance/v1_0_0\n",
      "\n",
      "File Download: ./tmp/binance/047df514-9269-4247-ab2c-266c01fe5ca9/SANDUSDT-trades-2021-08-31.zip\n",
      "[##################################################]04:52:54 - \u001b[36mINFO \u001b[0m extractor.py _extract_data_from_binance_files:215      Extracting ./tmp/binance/047df514-9269-4247-ab2c-266c01fe5ca9/SANDUSDT-trades-2021-08-31.zip\n",
      "04:52:54 - \u001b[36mINFO \u001b[0m extract_utils.py download_historical_data:734          Saving the dataset into s3://cryptokaizen-data-test/v3/bulk/airflow/downloaded_1min/parquet/trades/futures/v1/binance/binance/v1_0_0\n",
      "\n",
      "File Download: ./tmp/binance/939aceed-970b-4885-a4d1-e82bfde30cda/STORJUSDT-trades-2021-08-31.zip\n",
      "[##################################################]04:53:04 - \u001b[36mINFO \u001b[0m extractor.py _extract_data_from_binance_files:215      Extracting ./tmp/binance/939aceed-970b-4885-a4d1-e82bfde30cda/STORJUSDT-trades-2021-08-31.zip\n",
      "04:53:04 - \u001b[36mINFO \u001b[0m extract_utils.py download_historical_data:734          Saving the dataset into s3://cryptokaizen-data-test/v3/bulk/airflow/downloaded_1min/parquet/trades/futures/v1/binance/binance/v1_0_0\n",
      "04:53:06 - \u001b[41mWARN \u001b[0m extractor.py _download_single_binance_file:114         File not found: https://data.binance.vision/data/futures/um/daily/trades/GMTUSDT/GMTUSDT-trades-2021-08-31.zip\n",
      "04:53:06 - \u001b[41mWARN \u001b[0m extractor.py _extract_data_from_binance_files:220      No data found in ./tmp/binance/e476f216-e0f6-4414-9ce4-dba720639524\n",
      "\n",
      "File Download: ./tmp/binance/ee78aa67-0255-4d19-9039-652a37e5d19a/AVAXUSDT-trades-2021-08-31.zip\n",
      "[##################################################]04:53:09 - \u001b[36mINFO \u001b[0m extractor.py _extract_data_from_binance_files:215      Extracting ./tmp/binance/ee78aa67-0255-4d19-9039-652a37e5d19a/AVAXUSDT-trades-2021-08-31.zip\n",
      "04:53:10 - \u001b[36mINFO \u001b[0m extract_utils.py download_historical_data:734          Saving the dataset into s3://cryptokaizen-data-test/v3/bulk/airflow/downloaded_1min/parquet/trades/futures/v1/binance/binance/v1_0_0\n",
      "\n",
      "File Download: ./tmp/binance/3fa412b5-2f7d-4041-ad2d-ec161a96f560/BNBUSDT-trades-2021-08-31.zip\n",
      "[##################################################]04:53:21 - \u001b[36mINFO \u001b[0m extractor.py _extract_data_from_binance_files:215      Extracting ./tmp/binance/3fa412b5-2f7d-4041-ad2d-ec161a96f560/BNBUSDT-trades-2021-08-31.zip\n",
      "04:53:22 - \u001b[36mINFO \u001b[0m extract_utils.py download_historical_data:734          Saving the dataset into s3://cryptokaizen-data-test/v3/bulk/airflow/downloaded_1min/parquet/trades/futures/v1/binance/binance/v1_0_0\n",
      "04:53:31 - \u001b[41mWARN \u001b[0m extractor.py _download_single_binance_file:114         File not found: https://data.binance.vision/data/futures/um/daily/trades/APEUSDT/APEUSDT-trades-2021-08-31.zip\n",
      "04:53:31 - \u001b[41mWARN \u001b[0m extractor.py _extract_data_from_binance_files:220      No data found in ./tmp/binance/6088b7f2-b329-4455-bb0c-29f901f907df\n",
      "\n",
      "File Download: ./tmp/binance/38979954-16ab-4001-9ec2-a202bfbe83ad/MATICUSDT-trades-2021-08-31.zip\n",
      "[##################################################]04:53:34 - \u001b[36mINFO \u001b[0m extractor.py _extract_data_from_binance_files:215      Extracting ./tmp/binance/38979954-16ab-4001-9ec2-a202bfbe83ad/MATICUSDT-trades-2021-08-31.zip\n",
      "04:53:35 - \u001b[36mINFO \u001b[0m extract_utils.py download_historical_data:734          Saving the dataset into s3://cryptokaizen-data-test/v3/bulk/airflow/downloaded_1min/parquet/trades/futures/v1/binance/binance/v1_0_0\n",
      "04:53:40 - \u001b[41mWARN \u001b[0m extractor.py _download_single_binance_file:114         File not found: https://data.binance.vision/data/futures/um/daily/trades/DYDXUSDT/DYDXUSDT-trades-2021-08-31.zip\n",
      "04:53:40 - \u001b[41mWARN \u001b[0m extractor.py _extract_data_from_binance_files:220      No data found in ./tmp/binance/71c2abaa-134f-4bf7-af76-e6b1c84b5c96\n",
      "\n",
      "File Download: ./tmp/binance/16e8129a-5129-439a-baaf-eda529134aff/DOTUSDT-trades-2021-08-31.zip\n",
      "[##################################################]04:53:45 - \u001b[36mINFO \u001b[0m extractor.py _extract_data_from_binance_files:215      Extracting ./tmp/binance/16e8129a-5129-439a-baaf-eda529134aff/DOTUSDT-trades-2021-08-31.zip\n",
      "04:53:47 - \u001b[36mINFO \u001b[0m extract_utils.py download_historical_data:734          Saving the dataset into s3://cryptokaizen-data-test/v3/bulk/airflow/downloaded_1min/parquet/trades/futures/v1/binance/binance/v1_0_0\n",
      "\n",
      "File Download: ./tmp/binance/6aed9c06-76c2-4c0d-97c6-14148564f063/UNFIUSDT-trades-2021-08-31.zip\n",
      "[##################################################]04:54:17 - \u001b[36mINFO \u001b[0m extractor.py _extract_data_from_binance_files:215      Extracting ./tmp/binance/6aed9c06-76c2-4c0d-97c6-14148564f063/UNFIUSDT-trades-2021-08-31.zip\n",
      "04:54:17 - \u001b[36mINFO \u001b[0m extract_utils.py download_historical_data:734          Saving the dataset into s3://cryptokaizen-data-test/v3/bulk/airflow/downloaded_1min/parquet/trades/futures/v1/binance/binance/v1_0_0\n",
      "\n",
      "File Download: ./tmp/binance/24f3f54a-7e25-4f22-900c-54d5ff83c732/LINKUSDT-trades-2021-08-31.zip\n",
      "[##################################################]04:54:22 - \u001b[36mINFO \u001b[0m extractor.py _extract_data_from_binance_files:215      Extracting ./tmp/binance/24f3f54a-7e25-4f22-900c-54d5ff83c732/LINKUSDT-trades-2021-08-31.zip\n",
      "04:54:22 - \u001b[36mINFO \u001b[0m extract_utils.py download_historical_data:734          Saving the dataset into s3://cryptokaizen-data-test/v3/bulk/airflow/downloaded_1min/parquet/trades/futures/v1/binance/binance/v1_0_0\n",
      "\n",
      "File Download: ./tmp/binance/deb2f9e0-aaed-4b93-8917-36263f10ec96/XRPUSDT-trades-2021-08-31.zip\n",
      "[##################################################]04:54:33 - \u001b[36mINFO \u001b[0m extractor.py _extract_data_from_binance_files:215      Extracting ./tmp/binance/deb2f9e0-aaed-4b93-8917-36263f10ec96/XRPUSDT-trades-2021-08-31.zip\n",
      "04:54:34 - \u001b[36mINFO \u001b[0m extract_utils.py download_historical_data:734          Saving the dataset into s3://cryptokaizen-data-test/v3/bulk/airflow/downloaded_1min/parquet/trades/futures/v1/binance/binance/v1_0_0\n",
      "\n",
      "File Download: ./tmp/binance/006e8fbc-049c-4ba4-afe7-3f2cd9af232f/CRVUSDT-trades-2021-08-31.zip\n",
      "[##################################################]04:54:49 - \u001b[36mINFO \u001b[0m extractor.py _extract_data_from_binance_files:215      Extracting ./tmp/binance/006e8fbc-049c-4ba4-afe7-3f2cd9af232f/CRVUSDT-trades-2021-08-31.zip\n"
     ]
    },
    {
     "name": "stdout",
     "output_type": "stream",
     "text": [
      "04:54:50 - \u001b[36mINFO \u001b[0m extract_utils.py download_historical_data:734          Saving the dataset into s3://cryptokaizen-data-test/v3/bulk/airflow/downloaded_1min/parquet/trades/futures/v1/binance/binance/v1_0_0\n",
      "\n",
      "File Download: ./tmp/binance/62019104-d1cd-4cdc-b487-0d2d6cca8ccb/RUNEUSDT-trades-2021-08-31.zip\n",
      "[##################################################]04:54:54 - \u001b[36mINFO \u001b[0m extractor.py _extract_data_from_binance_files:215      Extracting ./tmp/binance/62019104-d1cd-4cdc-b487-0d2d6cca8ccb/RUNEUSDT-trades-2021-08-31.zip\n",
      "04:54:54 - \u001b[36mINFO \u001b[0m extract_utils.py download_historical_data:734          Saving the dataset into s3://cryptokaizen-data-test/v3/bulk/airflow/downloaded_1min/parquet/trades/futures/v1/binance/binance/v1_0_0\n",
      "\n",
      "File Download: ./tmp/binance/b6add9d8-e7e7-43fd-9dfc-63bbe8e631ad/BAKEUSDT-trades-2021-08-31.zip\n",
      "[##################################################]04:55:00 - \u001b[36mINFO \u001b[0m extractor.py _extract_data_from_binance_files:215      Extracting ./tmp/binance/b6add9d8-e7e7-43fd-9dfc-63bbe8e631ad/BAKEUSDT-trades-2021-08-31.zip\n",
      "04:55:00 - \u001b[36mINFO \u001b[0m extract_utils.py download_historical_data:734          Saving the dataset into s3://cryptokaizen-data-test/v3/bulk/airflow/downloaded_1min/parquet/trades/futures/v1/binance/binance/v1_0_0\n",
      "\n",
      "File Download: ./tmp/binance/8f60a128-4b10-4f11-88da-9cb0ab8d0dd7/NEARUSDT-trades-2021-08-31.zip\n",
      "[##################################################]04:55:05 - \u001b[36mINFO \u001b[0m extractor.py _extract_data_from_binance_files:215      Extracting ./tmp/binance/8f60a128-4b10-4f11-88da-9cb0ab8d0dd7/NEARUSDT-trades-2021-08-31.zip\n",
      "04:55:05 - \u001b[36mINFO \u001b[0m extract_utils.py download_historical_data:734          Saving the dataset into s3://cryptokaizen-data-test/v3/bulk/airflow/downloaded_1min/parquet/trades/futures/v1/binance/binance/v1_0_0\n",
      "\n",
      "File Download: ./tmp/binance/c617278d-c8fe-47c4-83d5-2d83a746e1ac/FTMUSDT-trades-2021-08-31.zip\n",
      "[##################################################]04:55:11 - \u001b[36mINFO \u001b[0m extractor.py _extract_data_from_binance_files:215      Extracting ./tmp/binance/c617278d-c8fe-47c4-83d5-2d83a746e1ac/FTMUSDT-trades-2021-08-31.zip\n",
      "04:55:13 - \u001b[36mINFO \u001b[0m extract_utils.py download_historical_data:734          Saving the dataset into s3://cryptokaizen-data-test/v3/bulk/airflow/downloaded_1min/parquet/trades/futures/v1/binance/binance/v1_0_0\n",
      "\n",
      "File Download: ./tmp/binance/d073aab0-7fff-47c0-961f-b9c9b9a7a0ee/WAVESUSDT-trades-2021-08-31.zip\n",
      "[##################################################]04:55:30 - \u001b[36mINFO \u001b[0m extractor.py _extract_data_from_binance_files:215      Extracting ./tmp/binance/d073aab0-7fff-47c0-961f-b9c9b9a7a0ee/WAVESUSDT-trades-2021-08-31.zip\n",
      "04:55:30 - \u001b[36mINFO \u001b[0m extract_utils.py download_historical_data:734          Saving the dataset into s3://cryptokaizen-data-test/v3/bulk/airflow/downloaded_1min/parquet/trades/futures/v1/binance/binance/v1_0_0\n",
      "\n",
      "File Download: ./tmp/binance/8563e9a5-986c-4841-8029-c5179e0a853e/AXSUSDT-trades-2021-08-31.zip\n",
      "[##################################################]04:55:34 - \u001b[36mINFO \u001b[0m extractor.py _extract_data_from_binance_files:215      Extracting ./tmp/binance/8563e9a5-986c-4841-8029-c5179e0a853e/AXSUSDT-trades-2021-08-31.zip\n",
      "04:55:35 - \u001b[36mINFO \u001b[0m extract_utils.py download_historical_data:734          Saving the dataset into s3://cryptokaizen-data-test/v3/bulk/airflow/downloaded_1min/parquet/trades/futures/v1/binance/binance/v1_0_0\n",
      "\n",
      "File Download: ./tmp/binance/bb8d5694-d69a-40c4-a00b-b0b1ed8dc7ba/OGNUSDT-trades-2021-08-31.zip\n",
      "[##################################################]04:55:40 - \u001b[36mINFO \u001b[0m extractor.py _extract_data_from_binance_files:215      Extracting ./tmp/binance/bb8d5694-d69a-40c4-a00b-b0b1ed8dc7ba/OGNUSDT-trades-2021-08-31.zip\n",
      "04:55:40 - \u001b[36mINFO \u001b[0m extract_utils.py download_historical_data:734          Saving the dataset into s3://cryptokaizen-data-test/v3/bulk/airflow/downloaded_1min/parquet/trades/futures/v1/binance/binance/v1_0_0\n",
      "\n",
      "File Download: ./tmp/binance/f1df0edc-dac0-4934-bf2b-1b0d4c356511/DOGEUSDT-trades-2021-08-31.zip\n",
      "[##################################################]04:55:46 - \u001b[36mINFO \u001b[0m extractor.py _extract_data_from_binance_files:215      Extracting ./tmp/binance/f1df0edc-dac0-4934-bf2b-1b0d4c356511/DOGEUSDT-trades-2021-08-31.zip\n",
      "04:55:47 - \u001b[36mINFO \u001b[0m extract_utils.py download_historical_data:734          Saving the dataset into s3://cryptokaizen-data-test/v3/bulk/airflow/downloaded_1min/parquet/trades/futures/v1/binance/binance/v1_0_0\n",
      "\n",
      "File Download: ./tmp/binance/87c3c197-a4cc-4229-8b33-ad420c585877/SOLUSDT-trades-2021-08-31.zip\n",
      "[##################################################]04:56:01 - \u001b[36mINFO \u001b[0m extractor.py _extract_data_from_binance_files:215      Extracting ./tmp/binance/87c3c197-a4cc-4229-8b33-ad420c585877/SOLUSDT-trades-2021-08-31.zip\n",
      "04:56:04 - \u001b[36mINFO \u001b[0m extract_utils.py download_historical_data:734          Saving the dataset into s3://cryptokaizen-data-test/v3/bulk/airflow/downloaded_1min/parquet/trades/futures/v1/binance/binance/v1_0_0\n",
      "\n",
      "File Download: ./tmp/binance/0a86f27b-b57f-4028-bd2e-e4d148dc78da/CTKUSDT-trades-2021-08-31.zip\n",
      "[##################################################]04:56:31 - \u001b[36mINFO \u001b[0m extractor.py _extract_data_from_binance_files:215      Extracting ./tmp/binance/0a86f27b-b57f-4028-bd2e-e4d148dc78da/CTKUSDT-trades-2021-08-31.zip\n",
      "04:56:31 - \u001b[36mINFO \u001b[0m extract_utils.py download_historical_data:734          Saving the dataset into s3://cryptokaizen-data-test/v3/bulk/airflow/downloaded_1min/parquet/trades/futures/v1/binance/binance/v1_0_0\n",
      "04:56:34 - \u001b[36mINFO \u001b[0m hcache.py clear_global_cache:292                       Before clear_global_cache: 'global mem' cache: path='/mnt/tmpfs/tmp.cache.mem', size=32.0 KB\n",
      "04:56:34 - \u001b[41mWARN \u001b[0m hcache.py clear_global_cache:293                       Resetting 'global mem' cache '/mnt/tmpfs/tmp.cache.mem'\n",
      "04:56:34 - \u001b[41mWARN \u001b[0m hcache.py clear_global_cache:303                       Destroying '/mnt/tmpfs/tmp.cache.mem' ...\n",
      "04:56:34 - \u001b[36mINFO \u001b[0m hcache.py clear_global_cache:319                       After clear_global_cache: 'global mem' cache: path='/mnt/tmpfs/tmp.cache.mem', size=nan\n"
     ]
    }
   ],
   "source": [
    "%%bash\n",
    "/app/im_v2/common/data/extract/download_bulk.py \\\n",
    "    --download_mode 'bulk' \\\n",
    "    --downloading_entity 'airflow' \\\n",
    "    --action_tag 'downloaded_1min' \\\n",
    "    --vendor 'binance' \\\n",
    "    --start_timestamp '2021-08-31T00:00:00+00:00' \\\n",
    "    --end_timestamp '2021-08-31T23:59:00+00:00' \\\n",
    "    --exchange_id 'binance' \\\n",
    "    --universe 'v1' \\\n",
    "    --incremental \\\n",
    "    --aws_profile 'ck' \\\n",
    "    --data_type 'trades' \\\n",
    "    --data_format 'parquet' \\\n",
    "    --contract_type 'futures' \\\n",
    "    --s3_path 's3://cryptokaizen-data-test/'"
   ]
  },
  {
   "cell_type": "markdown",
   "id": "54b98bb1",
   "metadata": {
    "hidden": true
   },
   "source": [
    "## Read data saved by script"
   ]
  },
  {
   "cell_type": "code",
   "execution_count": 134,
   "id": "93e22094",
   "metadata": {
    "ExecuteTime": {
     "end_time": "2023-03-27T08:50:26.367597Z",
     "start_time": "2023-03-27T08:50:23.979803Z"
    },
    "hidden": true
   },
   "outputs": [
    {
     "name": "stdout",
     "output_type": "stream",
     "text": [
      "INFO  Loading dataset schema file: /app/data_schema/dataset_schema_versions/dataset_schema_v3.json\n",
      "INFO  Loaded dataset schema version v3\n",
      "INFO  Loading dataset schema file: /app/data_schema/dataset_schema_versions/dataset_schema_v3.json\n",
      "INFO  Loaded dataset schema version v3\n",
      "INFO  Loading dataset schema file: /app/data_schema/dataset_schema_versions/dataset_schema_v3.json\n",
      "INFO  Loaded dataset schema version v3\n"
     ]
    },
    {
     "data": {
      "text/html": [
       "<div>\n",
       "<style scoped>\n",
       "    .dataframe tbody tr th:only-of-type {\n",
       "        vertical-align: middle;\n",
       "    }\n",
       "\n",
       "    .dataframe tbody tr th {\n",
       "        vertical-align: top;\n",
       "    }\n",
       "\n",
       "    .dataframe thead th {\n",
       "        text-align: right;\n",
       "    }\n",
       "</style>\n",
       "<table border=\"1\" class=\"dataframe\">\n",
       "  <thead>\n",
       "    <tr style=\"text-align: right;\">\n",
       "      <th></th>\n",
       "      <th>timestamp</th>\n",
       "      <th>price</th>\n",
       "      <th>amount</th>\n",
       "      <th>side</th>\n",
       "      <th>exchange_id</th>\n",
       "      <th>knowledge_timestamp</th>\n",
       "      <th>currency_pair</th>\n",
       "      <th>year</th>\n",
       "      <th>month</th>\n",
       "      <th>day</th>\n",
       "    </tr>\n",
       "    <tr>\n",
       "      <th>timestamp</th>\n",
       "      <th></th>\n",
       "      <th></th>\n",
       "      <th></th>\n",
       "      <th></th>\n",
       "      <th></th>\n",
       "      <th></th>\n",
       "      <th></th>\n",
       "      <th></th>\n",
       "      <th></th>\n",
       "      <th></th>\n",
       "    </tr>\n",
       "  </thead>\n",
       "  <tbody>\n",
       "  </tbody>\n",
       "</table>\n",
       "</div>"
      ],
      "text/plain": [
       "Empty DataFrame\n",
       "Columns: [timestamp, price, amount, side, exchange_id, knowledge_timestamp, currency_pair, year, month, day]\n",
       "Index: []"
      ]
     },
     "execution_count": 134,
     "metadata": {},
     "output_type": "execute_result"
    }
   ],
   "source": [
    "signature = (\n",
    "    \"bulk.airflow.downloaded_1min.parquet.trades.spot.v1.binance.binance.v1_0_0\"\n",
    ")\n",
    "reader = imvcdcimrdc.RawDataReader(signature, stage=\"test\")\n",
    "start_timestamp = pd.Timestamp(\"2020-02-10T00:00:00+00:00\")\n",
    "end_timestamp = pd.Timestamp(\"2020-02-10T23:59:00+00:00\")\n",
    "currency_pairs = [\"BTC_USDT\"]\n",
    "binance_trades = reader.read_data(\n",
    "    start_timestamp,\n",
    "    end_timestamp,\n",
    "    currency_pairs=currency_pairs,\n",
    ")\n",
    "binance_trades.head()"
   ]
  },
  {
   "cell_type": "code",
   "execution_count": 135,
   "id": "45fc044e",
   "metadata": {
    "ExecuteTime": {
     "end_time": "2023-03-27T08:50:26.404372Z",
     "start_time": "2023-03-27T08:50:26.370006Z"
    },
    "hidden": true
   },
   "outputs": [
    {
     "data": {
      "text/plain": [
       "False"
      ]
     },
     "execution_count": 135,
     "metadata": {},
     "output_type": "execute_result"
    }
   ],
   "source": [
    "binance_trades.isna().any().any()"
   ]
  },
  {
   "cell_type": "code",
   "execution_count": 136,
   "id": "f7b8c587",
   "metadata": {
    "ExecuteTime": {
     "end_time": "2023-03-27T08:50:26.472365Z",
     "start_time": "2023-03-27T08:50:26.406324Z"
    },
    "hidden": true
   },
   "outputs": [
    {
     "data": {
      "text/plain": [
       "(0, 10)"
      ]
     },
     "execution_count": 136,
     "metadata": {},
     "output_type": "execute_result"
    }
   ],
   "source": [
    "binance_trades.shape"
   ]
  },
  {
   "cell_type": "code",
   "execution_count": 137,
   "id": "947aac5b",
   "metadata": {
    "ExecuteTime": {
     "end_time": "2023-03-27T08:50:26.542391Z",
     "start_time": "2023-03-27T08:50:26.480829Z"
    },
    "hidden": true
   },
   "outputs": [
    {
     "data": {
      "text/plain": [
       "min   NaT\n",
       "max   NaT\n",
       "Name: timestamp, dtype: datetime64[ns]"
      ]
     },
     "execution_count": 137,
     "metadata": {},
     "output_type": "execute_result"
    }
   ],
   "source": [
    "binance_trades.timestamp.agg([\"min\", \"max\"]).apply(pd.Timestamp, unit=\"ms\")"
   ]
  },
  {
   "cell_type": "markdown",
   "id": "9d6a37c1",
   "metadata": {
    "heading_collapsed": true
   },
   "source": [
    "# Download by script - trades - spot"
   ]
  },
  {
   "cell_type": "code",
   "execution_count": 146,
   "id": "c4fdccb3",
   "metadata": {
    "ExecuteTime": {
     "end_time": "2023-03-27T09:42:25.279149Z",
     "start_time": "2023-03-27T09:40:11.553865Z"
    },
    "hidden": true
   },
   "outputs": [
    {
     "name": "stdout",
     "output_type": "stream",
     "text": [
      "\u001b[0m\u001b[36mINFO\u001b[0m: > cmd='/app/im_v2/common/data/extract/download_bulk.py --download_mode bulk --downloading_entity airflow --action_tag downloaded_1min --vendor binance --start_timestamp 2021-07-01T00:00:00+00:00 --end_timestamp 2021-07-01T23:59:00+00:00 --exchange_id binance --universe v1 --incremental --aws_profile ck --data_type trades --data_format parquet --contract_type spot --s3_path s3://cryptokaizen-data-test/'\n",
      "report_memory_usage=False report_cpu_usage=False\n",
      "\u001b[36mINFO\u001b[0m: Saving log to file '/app/im_v2/common/data/extract/download_bulk.py.log'\n",
      "05:40:15 - \u001b[36mINFO \u001b[0m dataset_schema_utils.py _get_dataset_schema_file_path:39 Loading dataset schema file: /app/data_schema/dataset_schema_versions/dataset_schema_v3.json\n",
      "05:40:15 - \u001b[36mINFO \u001b[0m dataset_schema_utils.py get_dataset_schema:74          Loaded dataset schema version v3\n",
      "05:40:15 - \u001b[36mINFO \u001b[0m dataset_schema_utils.py _get_dataset_schema_file_path:39 Loading dataset schema file: /app/data_schema/dataset_schema_versions/dataset_schema_v3.json\n",
      "05:40:15 - \u001b[36mINFO \u001b[0m dataset_schema_utils.py get_dataset_schema:74          Loaded dataset schema version v3\n",
      "\n",
      "File Download: https://data.binance.vision/data/spot/daily/trades/ETHUSDT/ETHUSDT-trades-2021-07-01.zip\n",
      "[##################################################]05:40:20 - \u001b[36mINFO \u001b[0m extractor.py _extract_data_from_binance_files:226      Extracting ./tmp/binance/c9c8bc9f-1dbe-433c-960e-6c3c80242d32/ETHUSDT-trades-2021-07-01.zip\n",
      "05:40:22 - \u001b[36mINFO \u001b[0m extract_utils.py download_historical_data:734          Saving the dataset into s3://cryptokaizen-data-test/v3/bulk/airflow/downloaded_1min/parquet/trades/spot/v1/binance/binance/v1_0_0\n",
      "\n",
      "File Download: https://data.binance.vision/data/spot/daily/trades/BTCUSDT/BTCUSDT-trades-2021-07-01.zip\n",
      "[##################################################]05:40:35 - \u001b[36mINFO \u001b[0m extractor.py _extract_data_from_binance_files:226      Extracting ./tmp/binance/f89c0821-8482-4e0d-a4ca-8805984c78a6/BTCUSDT-trades-2021-07-01.zip\n",
      "05:40:37 - \u001b[36mINFO \u001b[0m extract_utils.py download_historical_data:734          Saving the dataset into s3://cryptokaizen-data-test/v3/bulk/airflow/downloaded_1min/parquet/trades/spot/v1/binance/binance/v1_0_0\n",
      "\n",
      "File Download: https://data.binance.vision/data/spot/daily/trades/SANDUSDT/SANDUSDT-trades-2021-07-01.zip\n",
      "[##################################################]05:40:48 - \u001b[36mINFO \u001b[0m extractor.py _extract_data_from_binance_files:226      Extracting ./tmp/binance/04ff09a8-a8c2-4c2c-9644-a888cb839af1/SANDUSDT-trades-2021-07-01.zip\n",
      "05:40:48 - \u001b[36mINFO \u001b[0m extract_utils.py download_historical_data:734          Saving the dataset into s3://cryptokaizen-data-test/v3/bulk/airflow/downloaded_1min/parquet/trades/spot/v1/binance/binance/v1_0_0\n",
      "\n",
      "File Download: https://data.binance.vision/data/spot/daily/trades/STORJUSDT/STORJUSDT-trades-2021-07-01.zip\n",
      "[##################################################]05:40:51 - \u001b[36mINFO \u001b[0m extractor.py _extract_data_from_binance_files:226      Extracting ./tmp/binance/c9cc5b59-2dfc-4dcd-a431-59d55cad6bc5/STORJUSDT-trades-2021-07-01.zip\n",
      "05:40:51 - \u001b[36mINFO \u001b[0m extract_utils.py download_historical_data:734          Saving the dataset into s3://cryptokaizen-data-test/v3/bulk/airflow/downloaded_1min/parquet/trades/spot/v1/binance/binance/v1_0_0\n",
      "05:40:53 - \u001b[41mWARN \u001b[0m extractor.py _download_single_binance_file:120         File not found: https://data.binance.vision/data/spot/daily/trades/GMTUSDT/GMTUSDT-trades-2021-07-01.zip\n",
      "05:40:53 - \u001b[41mWARN \u001b[0m extractor.py _extract_data_from_binance_files:231      No data found in ./tmp/binance/81b2f2bc-6bb1-453a-aca9-f3c525e3cb1d\n",
      "\n",
      "File Download: https://data.binance.vision/data/spot/daily/trades/AVAXUSDT/AVAXUSDT-trades-2021-07-01.zip\n",
      "[##################################################]05:40:55 - \u001b[36mINFO \u001b[0m extractor.py _extract_data_from_binance_files:226      Extracting ./tmp/binance/17b44724-3e26-4654-9ddf-c2f50f0780e7/AVAXUSDT-trades-2021-07-01.zip\n",
      "05:40:55 - \u001b[36mINFO \u001b[0m extract_utils.py download_historical_data:734          Saving the dataset into s3://cryptokaizen-data-test/v3/bulk/airflow/downloaded_1min/parquet/trades/spot/v1/binance/binance/v1_0_0\n",
      "\n",
      "File Download: https://data.binance.vision/data/spot/daily/trades/BNBUSDT/BNBUSDT-trades-2021-07-01.zip\n",
      "[##################################################]05:40:59 - \u001b[36mINFO \u001b[0m extractor.py _extract_data_from_binance_files:226      Extracting ./tmp/binance/b0d7fac3-fb57-4d47-921f-36cd29aaa978/BNBUSDT-trades-2021-07-01.zip\n",
      "05:41:00 - \u001b[36mINFO \u001b[0m extract_utils.py download_historical_data:734          Saving the dataset into s3://cryptokaizen-data-test/v3/bulk/airflow/downloaded_1min/parquet/trades/spot/v1/binance/binance/v1_0_0\n",
      "05:41:05 - \u001b[41mWARN \u001b[0m extractor.py _download_single_binance_file:120         File not found: https://data.binance.vision/data/spot/daily/trades/APEUSDT/APEUSDT-trades-2021-07-01.zip\n",
      "05:41:05 - \u001b[41mWARN \u001b[0m extractor.py _extract_data_from_binance_files:231      No data found in ./tmp/binance/799137ab-d211-4b78-930b-a10956fdcc9b\n",
      "\n",
      "File Download: https://data.binance.vision/data/spot/daily/trades/MATICUSDT/MATICUSDT-trades-2021-07-01.zip\n",
      "[##################################################]05:41:08 - \u001b[36mINFO \u001b[0m extractor.py _extract_data_from_binance_files:226      Extracting ./tmp/binance/d3a94ac4-e231-4d80-9ce5-8753f35f0bdd/MATICUSDT-trades-2021-07-01.zip\n",
      "05:41:09 - \u001b[36mINFO \u001b[0m extract_utils.py download_historical_data:734          Saving the dataset into s3://cryptokaizen-data-test/v3/bulk/airflow/downloaded_1min/parquet/trades/spot/v1/binance/binance/v1_0_0\n",
      "05:41:12 - \u001b[41mWARN \u001b[0m extractor.py _download_single_binance_file:120         File not found: https://data.binance.vision/data/spot/daily/trades/DYDXUSDT/DYDXUSDT-trades-2021-07-01.zip\n",
      "05:41:12 - \u001b[41mWARN \u001b[0m extractor.py _extract_data_from_binance_files:231      No data found in ./tmp/binance/b6e70343-51bc-4548-a7e6-43ab09cd7c25\n",
      "\n",
      "File Download: https://data.binance.vision/data/spot/daily/trades/DOTUSDT/DOTUSDT-trades-2021-07-01.zip\n",
      "[##################################################]05:41:15 - \u001b[36mINFO \u001b[0m extractor.py _extract_data_from_binance_files:226      Extracting ./tmp/binance/d60102b5-ccd7-4f1c-a76f-2709a837cc7b/DOTUSDT-trades-2021-07-01.zip\n",
      "05:41:15 - \u001b[36mINFO \u001b[0m extract_utils.py download_historical_data:734          Saving the dataset into s3://cryptokaizen-data-test/v3/bulk/airflow/downloaded_1min/parquet/trades/spot/v1/binance/binance/v1_0_0\n",
      "\n",
      "File Download: https://data.binance.vision/data/spot/daily/trades/UNFIUSDT/UNFIUSDT-trades-2021-07-01.zip\n",
      "[##################################################]05:41:19 - \u001b[36mINFO \u001b[0m extractor.py _extract_data_from_binance_files:226      Extracting ./tmp/binance/8663d075-6e10-47a1-adc3-a9e94cd95db8/UNFIUSDT-trades-2021-07-01.zip\n",
      "05:41:19 - \u001b[36mINFO \u001b[0m extract_utils.py download_historical_data:734          Saving the dataset into s3://cryptokaizen-data-test/v3/bulk/airflow/downloaded_1min/parquet/trades/spot/v1/binance/binance/v1_0_0\n",
      "\n",
      "File Download: https://data.binance.vision/data/spot/daily/trades/LINKUSDT/LINKUSDT-trades-2021-07-01.zip\n",
      "[##################################################]05:41:22 - \u001b[36mINFO \u001b[0m extractor.py _extract_data_from_binance_files:226      Extracting ./tmp/binance/fdf92e0a-e72d-408b-b369-c9d6f3f975a4/LINKUSDT-trades-2021-07-01.zip\n",
      "05:41:22 - \u001b[36mINFO \u001b[0m extract_utils.py download_historical_data:734          Saving the dataset into s3://cryptokaizen-data-test/v3/bulk/airflow/downloaded_1min/parquet/trades/spot/v1/binance/binance/v1_0_0\n",
      "\n",
      "File Download: https://data.binance.vision/data/spot/daily/trades/XRPUSDT/XRPUSDT-trades-2021-07-01.zip\n",
      "[##################################################]05:41:27 - \u001b[36mINFO \u001b[0m extractor.py _extract_data_from_binance_files:226      Extracting ./tmp/binance/0e36dd07-0306-486c-95a3-abded1d4b13a/XRPUSDT-trades-2021-07-01.zip\n",
      "05:41:28 - \u001b[36mINFO \u001b[0m extract_utils.py download_historical_data:734          Saving the dataset into s3://cryptokaizen-data-test/v3/bulk/airflow/downloaded_1min/parquet/trades/spot/v1/binance/binance/v1_0_0\n",
      "\n",
      "File Download: https://data.binance.vision/data/spot/daily/trades/CRVUSDT/CRVUSDT-trades-2021-07-01.zip\n"
     ]
    },
    {
     "name": "stdout",
     "output_type": "stream",
     "text": [
      "[##################################################]05:41:32 - \u001b[36mINFO \u001b[0m extractor.py _extract_data_from_binance_files:226      Extracting ./tmp/binance/fdb63e21-2e5d-443f-a158-b1e2893868bc/CRVUSDT-trades-2021-07-01.zip\n",
      "05:41:32 - \u001b[36mINFO \u001b[0m extract_utils.py download_historical_data:734          Saving the dataset into s3://cryptokaizen-data-test/v3/bulk/airflow/downloaded_1min/parquet/trades/spot/v1/binance/binance/v1_0_0\n",
      "\n",
      "File Download: https://data.binance.vision/data/spot/daily/trades/RUNEUSDT/RUNEUSDT-trades-2021-07-01.zip\n",
      "[##################################################]05:41:34 - \u001b[36mINFO \u001b[0m extractor.py _extract_data_from_binance_files:226      Extracting ./tmp/binance/a04834e2-da09-4733-bdc7-3cebd0991a06/RUNEUSDT-trades-2021-07-01.zip\n",
      "05:41:34 - \u001b[36mINFO \u001b[0m extract_utils.py download_historical_data:734          Saving the dataset into s3://cryptokaizen-data-test/v3/bulk/airflow/downloaded_1min/parquet/trades/spot/v1/binance/binance/v1_0_0\n",
      "\n",
      "File Download: https://data.binance.vision/data/spot/daily/trades/BAKEUSDT/BAKEUSDT-trades-2021-07-01.zip\n",
      "[##################################################]05:41:37 - \u001b[36mINFO \u001b[0m extractor.py _extract_data_from_binance_files:226      Extracting ./tmp/binance/497985f2-7c70-495e-94d1-80e4d9711b76/BAKEUSDT-trades-2021-07-01.zip\n",
      "05:41:37 - \u001b[36mINFO \u001b[0m extract_utils.py download_historical_data:734          Saving the dataset into s3://cryptokaizen-data-test/v3/bulk/airflow/downloaded_1min/parquet/trades/spot/v1/binance/binance/v1_0_0\n",
      "\n",
      "File Download: https://data.binance.vision/data/spot/daily/trades/NEARUSDT/NEARUSDT-trades-2021-07-01.zip\n",
      "[##################################################]05:41:40 - \u001b[36mINFO \u001b[0m extractor.py _extract_data_from_binance_files:226      Extracting ./tmp/binance/a7adfb6f-ac9c-43e8-8831-8430408f9174/NEARUSDT-trades-2021-07-01.zip\n",
      "05:41:40 - \u001b[36mINFO \u001b[0m extract_utils.py download_historical_data:734          Saving the dataset into s3://cryptokaizen-data-test/v3/bulk/airflow/downloaded_1min/parquet/trades/spot/v1/binance/binance/v1_0_0\n",
      "\n",
      "File Download: https://data.binance.vision/data/spot/daily/trades/FTMUSDT/FTMUSDT-trades-2021-07-01.zip\n",
      "[##################################################]05:41:45 - \u001b[36mINFO \u001b[0m extractor.py _extract_data_from_binance_files:226      Extracting ./tmp/binance/608d2100-d6d5-44b4-8b93-75489d5d818d/FTMUSDT-trades-2021-07-01.zip\n",
      "05:41:45 - \u001b[36mINFO \u001b[0m extract_utils.py download_historical_data:734          Saving the dataset into s3://cryptokaizen-data-test/v3/bulk/airflow/downloaded_1min/parquet/trades/spot/v1/binance/binance/v1_0_0\n",
      "\n",
      "File Download: https://data.binance.vision/data/spot/daily/trades/WAVESUSDT/WAVESUSDT-trades-2021-07-01.zip\n",
      "[##################################################]05:41:53 - \u001b[36mINFO \u001b[0m extractor.py _extract_data_from_binance_files:226      Extracting ./tmp/binance/3a31a4ba-a165-40b0-9e99-1305408d3e9b/WAVESUSDT-trades-2021-07-01.zip\n",
      "05:41:53 - \u001b[36mINFO \u001b[0m extract_utils.py download_historical_data:734          Saving the dataset into s3://cryptokaizen-data-test/v3/bulk/airflow/downloaded_1min/parquet/trades/spot/v1/binance/binance/v1_0_0\n",
      "\n",
      "File Download: https://data.binance.vision/data/spot/daily/trades/AXSUSDT/AXSUSDT-trades-2021-07-01.zip\n",
      "[##################################################]05:41:57 - \u001b[36mINFO \u001b[0m extractor.py _extract_data_from_binance_files:226      Extracting ./tmp/binance/439576f9-9422-4862-b5f4-d05504f01026/AXSUSDT-trades-2021-07-01.zip\n",
      "05:41:57 - \u001b[36mINFO \u001b[0m extract_utils.py download_historical_data:734          Saving the dataset into s3://cryptokaizen-data-test/v3/bulk/airflow/downloaded_1min/parquet/trades/spot/v1/binance/binance/v1_0_0\n",
      "\n",
      "File Download: https://data.binance.vision/data/spot/daily/trades/OGNUSDT/OGNUSDT-trades-2021-07-01.zip\n",
      "[##################################################]05:42:04 - \u001b[36mINFO \u001b[0m extractor.py _extract_data_from_binance_files:226      Extracting ./tmp/binance/fc50550b-59c8-42f7-a51f-cb44e23b6c35/OGNUSDT-trades-2021-07-01.zip\n",
      "05:42:04 - \u001b[36mINFO \u001b[0m extract_utils.py download_historical_data:734          Saving the dataset into s3://cryptokaizen-data-test/v3/bulk/airflow/downloaded_1min/parquet/trades/spot/v1/binance/binance/v1_0_0\n",
      "\n",
      "File Download: https://data.binance.vision/data/spot/daily/trades/DOGEUSDT/DOGEUSDT-trades-2021-07-01.zip\n",
      "[##################################################]05:42:07 - \u001b[36mINFO \u001b[0m extractor.py _extract_data_from_binance_files:226      Extracting ./tmp/binance/c695d089-6a36-4dd0-9ba0-75773dbf71b1/DOGEUSDT-trades-2021-07-01.zip\n",
      "05:42:08 - \u001b[36mINFO \u001b[0m extract_utils.py download_historical_data:734          Saving the dataset into s3://cryptokaizen-data-test/v3/bulk/airflow/downloaded_1min/parquet/trades/spot/v1/binance/binance/v1_0_0\n",
      "\n",
      "File Download: https://data.binance.vision/data/spot/daily/trades/SOLUSDT/SOLUSDT-trades-2021-07-01.zip\n",
      "[##################################################]05:42:17 - \u001b[36mINFO \u001b[0m extractor.py _extract_data_from_binance_files:226      Extracting ./tmp/binance/982aed66-8a9b-4232-aa81-dcfd4bdd0f9a/SOLUSDT-trades-2021-07-01.zip\n",
      "05:42:17 - \u001b[36mINFO \u001b[0m extract_utils.py download_historical_data:734          Saving the dataset into s3://cryptokaizen-data-test/v3/bulk/airflow/downloaded_1min/parquet/trades/spot/v1/binance/binance/v1_0_0\n",
      "\n",
      "File Download: https://data.binance.vision/data/spot/daily/trades/CTKUSDT/CTKUSDT-trades-2021-07-01.zip\n",
      "[##################################################]05:42:23 - \u001b[36mINFO \u001b[0m extractor.py _extract_data_from_binance_files:226      Extracting ./tmp/binance/3c2b6684-ae78-489c-aa32-f69053831831/CTKUSDT-trades-2021-07-01.zip\n",
      "05:42:23 - \u001b[36mINFO \u001b[0m extract_utils.py download_historical_data:734          Saving the dataset into s3://cryptokaizen-data-test/v3/bulk/airflow/downloaded_1min/parquet/trades/spot/v1/binance/binance/v1_0_0\n",
      "05:42:24 - \u001b[36mINFO \u001b[0m hcache.py clear_global_cache:292                       Before clear_global_cache: 'global mem' cache: path='/mnt/tmpfs/tmp.cache.mem', size=32.0 KB\n",
      "05:42:24 - \u001b[41mWARN \u001b[0m hcache.py clear_global_cache:293                       Resetting 'global mem' cache '/mnt/tmpfs/tmp.cache.mem'\n",
      "05:42:24 - \u001b[41mWARN \u001b[0m hcache.py clear_global_cache:303                       Destroying '/mnt/tmpfs/tmp.cache.mem' ...\n",
      "05:42:24 - \u001b[36mINFO \u001b[0m hcache.py clear_global_cache:319                       After clear_global_cache: 'global mem' cache: path='/mnt/tmpfs/tmp.cache.mem', size=nan\n"
     ]
    }
   ],
   "source": [
    "%%bash\n",
    "/app/im_v2/common/data/extract/download_bulk.py \\\n",
    "    --download_mode 'bulk' \\\n",
    "    --downloading_entity 'airflow' \\\n",
    "    --action_tag 'downloaded_1min' \\\n",
    "    --vendor 'binance' \\\n",
    "    --start_timestamp '2021-07-01T00:00:00+00:00' \\\n",
    "    --end_timestamp '2021-07-01T23:59:00+00:00' \\\n",
    "    --exchange_id 'binance' \\\n",
    "    --universe 'v1' \\\n",
    "    --incremental \\\n",
    "    --aws_profile 'ck' \\\n",
    "    --data_type 'trades' \\\n",
    "    --data_format 'parquet' \\\n",
    "    --contract_type 'spot' \\\n",
    "    --s3_path 's3://cryptokaizen-data-test/'"
   ]
  },
  {
   "cell_type": "markdown",
   "id": "961dd3b5",
   "metadata": {
    "heading_collapsed": true
   },
   "source": [
    "# Download by script - trades - spot - monthly - 2020"
   ]
  },
  {
   "cell_type": "code",
   "execution_count": 77,
   "id": "e658b9f3",
   "metadata": {
    "ExecuteTime": {
     "end_time": "2023-04-05T14:58:54.587869Z",
     "start_time": "2023-04-05T14:58:49.071854Z"
    },
    "hidden": true
   },
   "outputs": [
    {
     "name": "stdout",
     "output_type": "stream",
     "text": [
      "\u001b[0m\u001b[36mINFO\u001b[0m: > cmd='/app/im_v2/common/data/extract/download_bulk.py --download_mode bulk --downloading_entity airflow --action_tag downloaded_1min --vendor binance --start_timestamp 2020-02-01T00:00:00+00:00 --end_timestamp 2020-03-01T00:00:00+00:00 --exchange_id binance --universe v1 --aws_profile ck --data_type trades --data_format parquet --contract_type spot --s3_path s3://cryptokaizen-data-test/'\n",
      "report_memory_usage=False report_cpu_usage=False\n",
      "\u001b[36mINFO\u001b[0m: Saving log to file '/app/im_v2/common/data/extract/download_bulk.py.log'\n",
      "10:58:53 - \u001b[36mINFO \u001b[0m dataset_schema_utils.py _get_dataset_schema_file_path:39 Loading dataset schema file: /app/data_schema/dataset_schema_versions/dataset_schema_v3.json\n",
      "10:58:53 - \u001b[36mINFO \u001b[0m dataset_schema_utils.py get_dataset_schema:74          Loaded dataset schema version v3\n",
      "10:58:53 - \u001b[36mINFO \u001b[0m dataset_schema_utils.py _get_dataset_schema_file_path:39 Loading dataset schema file: /app/data_schema/dataset_schema_versions/dataset_schema_v3.json\n",
      "10:58:53 - \u001b[36mINFO \u001b[0m dataset_schema_utils.py get_dataset_schema:74          Loaded dataset schema version v3\n"
     ]
    },
    {
     "name": "stderr",
     "output_type": "stream",
     "text": [
      "Traceback (most recent call last):\n",
      "  File \"/app/im_v2/common/data/extract/download_bulk.py\", line 83, in <module>\n",
      "    _main(_parse())\n",
      "  File \"/app/im_v2/common/data/extract/download_bulk.py\", line 80, in _main\n",
      "    _run(args)\n",
      "  File \"/app/im_v2/common/data/extract/download_bulk.py\", line 76, in _run\n",
      "    imvcdeexut.download_historical_data(args, exchange)\n",
      "  File \"/app/im_v2/common/data/extract/extract_utils.py\", line 745, in download_historical_data\n",
      "    hs3.dassert_path_not_exists(path_to_dataset, args[\"aws_profile\"])\n",
      "  File \"/app/helpers/hs3.py\", line 135, in dassert_path_not_exists\n",
      "    hdbg.dassert(not s3fs_.exists(path), f\"S3 path '{path}' already exist!\")\n",
      "  File \"/app/helpers/hdbg.py\", line 159, in dassert\n",
      "    _dfatal(txt, msg, *args, only_warning=only_warning)\n",
      "  File \"/app/helpers/hdbg.py\", line 142, in _dfatal\n",
      "    dfatal(dfatal_txt)\n",
      "  File \"/app/helpers/hdbg.py\", line 71, in dfatal\n",
      "    raise assertion_type(ret)\n",
      "AssertionError: \n",
      "################################################################################\n",
      "* Failed assertion *\n",
      "cond=False\n",
      "S3 path 's3://cryptokaizen-data-test/v3/bulk/airflow/downloaded_1min/parquet/trades/spot/v1/binance/binance/v1_0_0' already exist!\n",
      "################################################################################\n",
      "\n"
     ]
    },
    {
     "name": "stdout",
     "output_type": "stream",
     "text": [
      "10:58:53 - \u001b[36mINFO \u001b[0m hcache.py clear_global_cache:292                       Before clear_global_cache: 'global mem' cache: path='/mnt/tmpfs/tmp.cache.mem', size=32.0 KB\n",
      "10:58:53 - \u001b[41mWARN \u001b[0m hcache.py clear_global_cache:293                       Resetting 'global mem' cache '/mnt/tmpfs/tmp.cache.mem'\n",
      "10:58:53 - \u001b[41mWARN \u001b[0m hcache.py clear_global_cache:303                       Destroying '/mnt/tmpfs/tmp.cache.mem' ...\n",
      "10:58:53 - \u001b[36mINFO \u001b[0m hcache.py clear_global_cache:319                       After clear_global_cache: 'global mem' cache: path='/mnt/tmpfs/tmp.cache.mem', size=nan\n"
     ]
    },
    {
     "ename": "CalledProcessError",
     "evalue": "Command 'b\"/app/im_v2/common/data/extract/download_bulk.py \\\\\\n    --download_mode 'bulk' \\\\\\n    --downloading_entity 'airflow' \\\\\\n    --action_tag 'downloaded_1min' \\\\\\n    --vendor 'binance' \\\\\\n    --start_timestamp '2020-02-01T00:00:00+00:00' \\\\\\n    --end_timestamp '2020-03-01T00:00:00+00:00' \\\\\\n    --exchange_id 'binance' \\\\\\n    --universe 'v1' \\\\\\n    --aws_profile 'ck' \\\\\\n    --data_type 'trades' \\\\\\n    --data_format 'parquet' \\\\\\n    --contract_type 'spot' \\\\\\n    --s3_path 's3://cryptokaizen-data-test/'\\n\"' returned non-zero exit status 1.",
     "output_type": "error",
     "traceback": [
      "\u001b[0;31m---------------------------------------------------------------------------\u001b[0m",
      "\u001b[0;31mCalledProcessError\u001b[0m                        Traceback (most recent call last)",
      "Cell \u001b[0;32mIn [77], line 1\u001b[0m\n\u001b[0;32m----> 1\u001b[0m \u001b[43mget_ipython\u001b[49m\u001b[43m(\u001b[49m\u001b[43m)\u001b[49m\u001b[38;5;241;43m.\u001b[39;49m\u001b[43mrun_cell_magic\u001b[49m\u001b[43m(\u001b[49m\u001b[38;5;124;43m'\u001b[39;49m\u001b[38;5;124;43mbash\u001b[39;49m\u001b[38;5;124;43m'\u001b[39;49m\u001b[43m,\u001b[49m\u001b[43m \u001b[49m\u001b[38;5;124;43m'\u001b[39;49m\u001b[38;5;124;43m'\u001b[39;49m\u001b[43m,\u001b[49m\u001b[43m \u001b[49m\u001b[38;5;124;43m\"\u001b[39;49m\u001b[38;5;124;43m/app/im_v2/common/data/extract/download_bulk.py \u001b[39;49m\u001b[38;5;130;43;01m\\\\\u001b[39;49;00m\u001b[38;5;130;43;01m\\n\u001b[39;49;00m\u001b[38;5;124;43m    --download_mode \u001b[39;49m\u001b[38;5;124;43m'\u001b[39;49m\u001b[38;5;124;43mbulk\u001b[39;49m\u001b[38;5;124;43m'\u001b[39;49m\u001b[38;5;124;43m \u001b[39;49m\u001b[38;5;130;43;01m\\\\\u001b[39;49;00m\u001b[38;5;130;43;01m\\n\u001b[39;49;00m\u001b[38;5;124;43m    --downloading_entity \u001b[39;49m\u001b[38;5;124;43m'\u001b[39;49m\u001b[38;5;124;43mairflow\u001b[39;49m\u001b[38;5;124;43m'\u001b[39;49m\u001b[38;5;124;43m \u001b[39;49m\u001b[38;5;130;43;01m\\\\\u001b[39;49;00m\u001b[38;5;130;43;01m\\n\u001b[39;49;00m\u001b[38;5;124;43m    --action_tag \u001b[39;49m\u001b[38;5;124;43m'\u001b[39;49m\u001b[38;5;124;43mdownloaded_1min\u001b[39;49m\u001b[38;5;124;43m'\u001b[39;49m\u001b[38;5;124;43m \u001b[39;49m\u001b[38;5;130;43;01m\\\\\u001b[39;49;00m\u001b[38;5;130;43;01m\\n\u001b[39;49;00m\u001b[38;5;124;43m    --vendor \u001b[39;49m\u001b[38;5;124;43m'\u001b[39;49m\u001b[38;5;124;43mbinance\u001b[39;49m\u001b[38;5;124;43m'\u001b[39;49m\u001b[38;5;124;43m \u001b[39;49m\u001b[38;5;130;43;01m\\\\\u001b[39;49;00m\u001b[38;5;130;43;01m\\n\u001b[39;49;00m\u001b[38;5;124;43m    --start_timestamp \u001b[39;49m\u001b[38;5;124;43m'\u001b[39;49m\u001b[38;5;124;43m2020-02-01T00:00:00+00:00\u001b[39;49m\u001b[38;5;124;43m'\u001b[39;49m\u001b[38;5;124;43m \u001b[39;49m\u001b[38;5;130;43;01m\\\\\u001b[39;49;00m\u001b[38;5;130;43;01m\\n\u001b[39;49;00m\u001b[38;5;124;43m    --end_timestamp \u001b[39;49m\u001b[38;5;124;43m'\u001b[39;49m\u001b[38;5;124;43m2020-03-01T00:00:00+00:00\u001b[39;49m\u001b[38;5;124;43m'\u001b[39;49m\u001b[38;5;124;43m \u001b[39;49m\u001b[38;5;130;43;01m\\\\\u001b[39;49;00m\u001b[38;5;130;43;01m\\n\u001b[39;49;00m\u001b[38;5;124;43m    --exchange_id \u001b[39;49m\u001b[38;5;124;43m'\u001b[39;49m\u001b[38;5;124;43mbinance\u001b[39;49m\u001b[38;5;124;43m'\u001b[39;49m\u001b[38;5;124;43m \u001b[39;49m\u001b[38;5;130;43;01m\\\\\u001b[39;49;00m\u001b[38;5;130;43;01m\\n\u001b[39;49;00m\u001b[38;5;124;43m    --universe \u001b[39;49m\u001b[38;5;124;43m'\u001b[39;49m\u001b[38;5;124;43mv1\u001b[39;49m\u001b[38;5;124;43m'\u001b[39;49m\u001b[38;5;124;43m \u001b[39;49m\u001b[38;5;130;43;01m\\\\\u001b[39;49;00m\u001b[38;5;130;43;01m\\n\u001b[39;49;00m\u001b[38;5;124;43m    --aws_profile \u001b[39;49m\u001b[38;5;124;43m'\u001b[39;49m\u001b[38;5;124;43mck\u001b[39;49m\u001b[38;5;124;43m'\u001b[39;49m\u001b[38;5;124;43m \u001b[39;49m\u001b[38;5;130;43;01m\\\\\u001b[39;49;00m\u001b[38;5;130;43;01m\\n\u001b[39;49;00m\u001b[38;5;124;43m    --data_type \u001b[39;49m\u001b[38;5;124;43m'\u001b[39;49m\u001b[38;5;124;43mtrades\u001b[39;49m\u001b[38;5;124;43m'\u001b[39;49m\u001b[38;5;124;43m \u001b[39;49m\u001b[38;5;130;43;01m\\\\\u001b[39;49;00m\u001b[38;5;130;43;01m\\n\u001b[39;49;00m\u001b[38;5;124;43m    --data_format \u001b[39;49m\u001b[38;5;124;43m'\u001b[39;49m\u001b[38;5;124;43mparquet\u001b[39;49m\u001b[38;5;124;43m'\u001b[39;49m\u001b[38;5;124;43m \u001b[39;49m\u001b[38;5;130;43;01m\\\\\u001b[39;49;00m\u001b[38;5;130;43;01m\\n\u001b[39;49;00m\u001b[38;5;124;43m    --contract_type \u001b[39;49m\u001b[38;5;124;43m'\u001b[39;49m\u001b[38;5;124;43mspot\u001b[39;49m\u001b[38;5;124;43m'\u001b[39;49m\u001b[38;5;124;43m \u001b[39;49m\u001b[38;5;130;43;01m\\\\\u001b[39;49;00m\u001b[38;5;130;43;01m\\n\u001b[39;49;00m\u001b[38;5;124;43m    --s3_path \u001b[39;49m\u001b[38;5;124;43m'\u001b[39;49m\u001b[38;5;124;43ms3://cryptokaizen-data-test/\u001b[39;49m\u001b[38;5;124;43m'\u001b[39;49m\u001b[38;5;130;43;01m\\n\u001b[39;49;00m\u001b[38;5;124;43m\"\u001b[39;49m\u001b[43m)\u001b[49m\n",
      "File \u001b[0;32m/venv/lib/python3.8/site-packages/IPython/core/interactiveshell.py:2417\u001b[0m, in \u001b[0;36mInteractiveShell.run_cell_magic\u001b[0;34m(self, magic_name, line, cell)\u001b[0m\n\u001b[1;32m   2415\u001b[0m \u001b[38;5;28;01mwith\u001b[39;00m \u001b[38;5;28mself\u001b[39m\u001b[38;5;241m.\u001b[39mbuiltin_trap:\n\u001b[1;32m   2416\u001b[0m     args \u001b[38;5;241m=\u001b[39m (magic_arg_s, cell)\n\u001b[0;32m-> 2417\u001b[0m     result \u001b[38;5;241m=\u001b[39m \u001b[43mfn\u001b[49m\u001b[43m(\u001b[49m\u001b[38;5;241;43m*\u001b[39;49m\u001b[43margs\u001b[49m\u001b[43m,\u001b[49m\u001b[43m \u001b[49m\u001b[38;5;241;43m*\u001b[39;49m\u001b[38;5;241;43m*\u001b[39;49m\u001b[43mkwargs\u001b[49m\u001b[43m)\u001b[49m\n\u001b[1;32m   2418\u001b[0m \u001b[38;5;28;01mreturn\u001b[39;00m result\n",
      "File \u001b[0;32m/venv/lib/python3.8/site-packages/IPython/core/magics/script.py:153\u001b[0m, in \u001b[0;36mScriptMagics._make_script_magic.<locals>.named_script_magic\u001b[0;34m(line, cell)\u001b[0m\n\u001b[1;32m    151\u001b[0m \u001b[38;5;28;01melse\u001b[39;00m:\n\u001b[1;32m    152\u001b[0m     line \u001b[38;5;241m=\u001b[39m script\n\u001b[0;32m--> 153\u001b[0m \u001b[38;5;28;01mreturn\u001b[39;00m \u001b[38;5;28;43mself\u001b[39;49m\u001b[38;5;241;43m.\u001b[39;49m\u001b[43mshebang\u001b[49m\u001b[43m(\u001b[49m\u001b[43mline\u001b[49m\u001b[43m,\u001b[49m\u001b[43m \u001b[49m\u001b[43mcell\u001b[49m\u001b[43m)\u001b[49m\n",
      "File \u001b[0;32m/venv/lib/python3.8/site-packages/IPython/core/magics/script.py:305\u001b[0m, in \u001b[0;36mScriptMagics.shebang\u001b[0;34m(self, line, cell)\u001b[0m\n\u001b[1;32m    300\u001b[0m \u001b[38;5;28;01mif\u001b[39;00m args\u001b[38;5;241m.\u001b[39mraise_error \u001b[38;5;129;01mand\u001b[39;00m p\u001b[38;5;241m.\u001b[39mreturncode \u001b[38;5;241m!=\u001b[39m \u001b[38;5;241m0\u001b[39m:\n\u001b[1;32m    301\u001b[0m     \u001b[38;5;66;03m# If we get here and p.returncode is still None, we must have\u001b[39;00m\n\u001b[1;32m    302\u001b[0m     \u001b[38;5;66;03m# killed it but not yet seen its return code. We don't wait for it,\u001b[39;00m\n\u001b[1;32m    303\u001b[0m     \u001b[38;5;66;03m# in case it's stuck in uninterruptible sleep. -9 = SIGKILL\u001b[39;00m\n\u001b[1;32m    304\u001b[0m     rc \u001b[38;5;241m=\u001b[39m p\u001b[38;5;241m.\u001b[39mreturncode \u001b[38;5;129;01mor\u001b[39;00m \u001b[38;5;241m-\u001b[39m\u001b[38;5;241m9\u001b[39m\n\u001b[0;32m--> 305\u001b[0m     \u001b[38;5;28;01mraise\u001b[39;00m CalledProcessError(rc, cell)\n",
      "\u001b[0;31mCalledProcessError\u001b[0m: Command 'b\"/app/im_v2/common/data/extract/download_bulk.py \\\\\\n    --download_mode 'bulk' \\\\\\n    --downloading_entity 'airflow' \\\\\\n    --action_tag 'downloaded_1min' \\\\\\n    --vendor 'binance' \\\\\\n    --start_timestamp '2020-02-01T00:00:00+00:00' \\\\\\n    --end_timestamp '2020-03-01T00:00:00+00:00' \\\\\\n    --exchange_id 'binance' \\\\\\n    --universe 'v1' \\\\\\n    --aws_profile 'ck' \\\\\\n    --data_type 'trades' \\\\\\n    --data_format 'parquet' \\\\\\n    --contract_type 'spot' \\\\\\n    --s3_path 's3://cryptokaizen-data-test/'\\n\"' returned non-zero exit status 1."
     ]
    }
   ],
   "source": [
    "%%bash\n",
    "/app/im_v2/common/data/extract/download_bulk.py \\\n",
    "    --download_mode 'bulk' \\\n",
    "    --downloading_entity 'airflow' \\\n",
    "    --action_tag 'downloaded_1min' \\\n",
    "    --vendor 'binance' \\\n",
    "    --start_timestamp '2020-02-01T00:00:00+00:00' \\\n",
    "    --end_timestamp '2020-03-01T00:00:00+00:00' \\\n",
    "    --exchange_id 'binance' \\\n",
    "    --universe 'v1' \\\n",
    "    --aws_profile 'ck' \\\n",
    "    --data_type 'trades' \\\n",
    "    --data_format 'parquet' \\\n",
    "    --contract_type 'spot' \\\n",
    "    --s3_path 's3://cryptokaizen-data-test/'"
   ]
  },
  {
   "cell_type": "markdown",
   "id": "0972a66c",
   "metadata": {
    "hidden": true
   },
   "source": [
    "## Read and check the data"
   ]
  },
  {
   "cell_type": "code",
   "execution_count": 22,
   "id": "cfab3ff2",
   "metadata": {
    "ExecuteTime": {
     "end_time": "2023-04-05T15:27:08.992142Z",
     "start_time": "2023-04-05T15:26:39.036624Z"
    },
    "hidden": true
   },
   "outputs": [
    {
     "name": "stdout",
     "output_type": "stream",
     "text": [
      "INFO  Loading dataset schema file: /app/data_schema/dataset_schema_versions/dataset_schema_v3.json\n",
      "INFO  Loaded dataset schema version v3\n",
      "INFO  Loading dataset schema file: /app/data_schema/dataset_schema_versions/dataset_schema_v3.json\n",
      "INFO  Loaded dataset schema version v3\n",
      "INFO  Loading dataset schema file: /app/data_schema/dataset_schema_versions/dataset_schema_v3.json\n",
      "INFO  Loaded dataset schema version v3\n"
     ]
    },
    {
     "data": {
      "text/html": [
       "<div>\n",
       "<style scoped>\n",
       "    .dataframe tbody tr th:only-of-type {\n",
       "        vertical-align: middle;\n",
       "    }\n",
       "\n",
       "    .dataframe tbody tr th {\n",
       "        vertical-align: top;\n",
       "    }\n",
       "\n",
       "    .dataframe thead th {\n",
       "        text-align: right;\n",
       "    }\n",
       "</style>\n",
       "<table border=\"1\" class=\"dataframe\">\n",
       "  <thead>\n",
       "    <tr style=\"text-align: right;\">\n",
       "      <th></th>\n",
       "      <th>timestamp</th>\n",
       "      <th>price</th>\n",
       "      <th>amount</th>\n",
       "      <th>side</th>\n",
       "      <th>exchange_id</th>\n",
       "      <th>knowledge_timestamp</th>\n",
       "      <th>currency_pair</th>\n",
       "      <th>year</th>\n",
       "      <th>month</th>\n",
       "      <th>day</th>\n",
       "    </tr>\n",
       "    <tr>\n",
       "      <th>timestamp</th>\n",
       "      <th></th>\n",
       "      <th></th>\n",
       "      <th></th>\n",
       "      <th></th>\n",
       "      <th></th>\n",
       "      <th></th>\n",
       "      <th></th>\n",
       "      <th></th>\n",
       "      <th></th>\n",
       "      <th></th>\n",
       "    </tr>\n",
       "  </thead>\n",
       "  <tbody>\n",
       "    <tr>\n",
       "      <th>2020-12-01 00:00:00.040000+00:00</th>\n",
       "      <td>1606780800040</td>\n",
       "      <td>19695.87</td>\n",
       "      <td>0.061389</td>\n",
       "      <td>sell</td>\n",
       "      <td>binance</td>\n",
       "      <td>2023-04-05 13:57:18.553026+00:00</td>\n",
       "      <td>BTC_USDT</td>\n",
       "      <td>2020</td>\n",
       "      <td>12</td>\n",
       "      <td>1</td>\n",
       "    </tr>\n",
       "    <tr>\n",
       "      <th>2020-12-01 00:00:00.258000+00:00</th>\n",
       "      <td>1606780800258</td>\n",
       "      <td>19695.86</td>\n",
       "      <td>0.250000</td>\n",
       "      <td>buy</td>\n",
       "      <td>binance</td>\n",
       "      <td>2023-04-05 13:57:18.553026+00:00</td>\n",
       "      <td>BTC_USDT</td>\n",
       "      <td>2020</td>\n",
       "      <td>12</td>\n",
       "      <td>1</td>\n",
       "    </tr>\n",
       "    <tr>\n",
       "      <th>2020-12-01 00:00:00.258000+00:00</th>\n",
       "      <td>1606780800258</td>\n",
       "      <td>19695.86</td>\n",
       "      <td>0.430000</td>\n",
       "      <td>buy</td>\n",
       "      <td>binance</td>\n",
       "      <td>2023-04-05 13:57:18.553026+00:00</td>\n",
       "      <td>BTC_USDT</td>\n",
       "      <td>2020</td>\n",
       "      <td>12</td>\n",
       "      <td>1</td>\n",
       "    </tr>\n",
       "    <tr>\n",
       "      <th>2020-12-01 00:00:00.273000+00:00</th>\n",
       "      <td>1606780800273</td>\n",
       "      <td>19695.86</td>\n",
       "      <td>0.170000</td>\n",
       "      <td>buy</td>\n",
       "      <td>binance</td>\n",
       "      <td>2023-04-05 13:57:18.553026+00:00</td>\n",
       "      <td>BTC_USDT</td>\n",
       "      <td>2020</td>\n",
       "      <td>12</td>\n",
       "      <td>1</td>\n",
       "    </tr>\n",
       "    <tr>\n",
       "      <th>2020-12-01 00:00:00.273000+00:00</th>\n",
       "      <td>1606780800273</td>\n",
       "      <td>19695.17</td>\n",
       "      <td>0.059377</td>\n",
       "      <td>buy</td>\n",
       "      <td>binance</td>\n",
       "      <td>2023-04-05 13:57:18.553026+00:00</td>\n",
       "      <td>BTC_USDT</td>\n",
       "      <td>2020</td>\n",
       "      <td>12</td>\n",
       "      <td>1</td>\n",
       "    </tr>\n",
       "  </tbody>\n",
       "</table>\n",
       "</div>"
      ],
      "text/plain": [
       "                                      timestamp     price    amount  side exchange_id              knowledge_timestamp currency_pair  year  month  day\n",
       "timestamp                                                                                                                                             \n",
       "2020-12-01 00:00:00.040000+00:00  1606780800040  19695.87  0.061389  sell     binance 2023-04-05 13:57:18.553026+00:00      BTC_USDT  2020     12    1\n",
       "2020-12-01 00:00:00.258000+00:00  1606780800258  19695.86  0.250000   buy     binance 2023-04-05 13:57:18.553026+00:00      BTC_USDT  2020     12    1\n",
       "2020-12-01 00:00:00.258000+00:00  1606780800258  19695.86  0.430000   buy     binance 2023-04-05 13:57:18.553026+00:00      BTC_USDT  2020     12    1\n",
       "2020-12-01 00:00:00.273000+00:00  1606780800273  19695.86  0.170000   buy     binance 2023-04-05 13:57:18.553026+00:00      BTC_USDT  2020     12    1\n",
       "2020-12-01 00:00:00.273000+00:00  1606780800273  19695.17  0.059377   buy     binance 2023-04-05 13:57:18.553026+00:00      BTC_USDT  2020     12    1"
      ]
     },
     "execution_count": 22,
     "metadata": {},
     "output_type": "execute_result"
    }
   ],
   "source": [
    "signature = (\n",
    "    \"bulk.airflow.downloaded_1min.parquet.trades.spot.v1.binance.binance.v1_0_0\"\n",
    ")\n",
    "reader = imvcdcimrdc.RawDataReader(signature, stage=\"test\")\n",
    "start_timestamp = pd.Timestamp(\"2020-12-01T00:00:00+00:00\")\n",
    "end_timestamp = pd.Timestamp(\"2021-01-01T00:00:00+00:00\")\n",
    "currency_pairs = [\"BTC_USDT\"]\n",
    "binance_trades = reader.read_data(\n",
    "    start_timestamp,\n",
    "    end_timestamp,\n",
    "    currency_pairs=currency_pairs,\n",
    ")\n",
    "binance_trades.head()"
   ]
  },
  {
   "cell_type": "code",
   "execution_count": 23,
   "id": "ede9e119",
   "metadata": {
    "ExecuteTime": {
     "end_time": "2023-04-05T15:27:24.248123Z",
     "start_time": "2023-04-05T15:27:08.995060Z"
    },
    "hidden": true
   },
   "outputs": [
    {
     "data": {
      "text/plain": [
       "False"
      ]
     },
     "execution_count": 23,
     "metadata": {},
     "output_type": "execute_result"
    }
   ],
   "source": [
    "binance_trades.isna().any().any()"
   ]
  },
  {
   "cell_type": "code",
   "execution_count": 24,
   "id": "f0113c7d",
   "metadata": {
    "ExecuteTime": {
     "end_time": "2023-04-05T15:27:24.294241Z",
     "start_time": "2023-04-05T15:27:24.256286Z"
    },
    "hidden": true
   },
   "outputs": [
    {
     "data": {
      "text/plain": [
       "(45342701, 10)"
      ]
     },
     "execution_count": 24,
     "metadata": {},
     "output_type": "execute_result"
    }
   ],
   "source": [
    "binance_trades.shape"
   ]
  },
  {
   "cell_type": "code",
   "execution_count": 25,
   "id": "053eb4ae",
   "metadata": {
    "ExecuteTime": {
     "end_time": "2023-04-05T15:27:24.403866Z",
     "start_time": "2023-04-05T15:27:24.296696Z"
    },
    "hidden": true
   },
   "outputs": [
    {
     "data": {
      "text/plain": [
       "min   2020-12-01 00:00:00.040\n",
       "max   2020-12-31 23:59:58.615\n",
       "Name: timestamp, dtype: datetime64[ns]"
      ]
     },
     "execution_count": 25,
     "metadata": {},
     "output_type": "execute_result"
    }
   ],
   "source": [
    "binance_trades.timestamp.agg([\"min\", \"max\"]).apply(pd.Timestamp, unit=\"ms\")"
   ]
  }
 ],
 "metadata": {
  "kernelspec": {
   "display_name": "Python 3 (ipykernel)",
   "language": "python",
   "name": "python3"
  },
  "language_info": {
   "codemirror_mode": {
    "name": "ipython",
    "version": 3
   },
   "file_extension": ".py",
   "mimetype": "text/x-python",
   "name": "python",
   "nbconvert_exporter": "python",
   "pygments_lexer": "ipython3",
   "version": "3.8.10"
  },
  "toc": {
   "base_numbering": 1,
   "nav_menu": {},
   "number_sections": true,
   "sideBar": true,
   "skip_h1_title": false,
   "title_cell": "Table of Contents",
   "title_sidebar": "Contents",
   "toc_cell": false,
   "toc_position": {},
   "toc_section_display": true,
   "toc_window_display": false
  }
 },
 "nbformat": 4,
 "nbformat_minor": 5
}
