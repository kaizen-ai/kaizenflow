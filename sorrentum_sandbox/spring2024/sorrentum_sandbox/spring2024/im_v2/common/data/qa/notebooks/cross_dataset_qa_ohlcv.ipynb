{
 "cells": [
  {
   "cell_type": "markdown",
   "id": "f79cb17c",
   "metadata": {},
   "source": [
    "# Cross dataset OHLCV Data QA\n",
    "\n",
    "This notebook is used to perform quality assurance of cross dataset OHLCV data.\n",
    "As displayed below, the notebook assumes environment variables for the data QA parameters. The intended usage\n",
    "is via invoke target `dev_scripts.lib_tasks_data_qa.run_cross_dataset_qa_notebook`"
   ]
  },
  {
   "cell_type": "markdown",
   "id": "74fffce0",
   "metadata": {},
   "source": [
    "## Imports and logging"
   ]
  },
  {
   "cell_type": "code",
   "execution_count": 1,
   "id": "33463922",
   "metadata": {
    "ExecuteTime": {
     "end_time": "2024-02-19T11:31:20.716573Z",
     "start_time": "2024-02-19T11:31:12.983907Z"
    }
   },
   "outputs": [
    {
     "name": "stderr",
     "output_type": "stream",
     "text": [
      "/app/amp/core/statistics/random_samples.py:12: TqdmExperimentalWarning: Using `tqdm.autonotebook.tqdm` in notebook mode. Use `tqdm.tqdm` instead to force console mode (e.g. in jupyter console)\n",
      "  from tqdm.autonotebook import tqdm\n",
      "\u001b[33mWARNING\u001b[0m: No module named 'gluonts'\n"
     ]
    }
   ],
   "source": [
    "import logging\n",
    "\n",
    "import pandas as pd\n",
    "\n",
    "import core.config as cconfig\n",
    "import data_schema.dataset_schema_utils as dsdascut\n",
    "import helpers.hdbg as hdbg\n",
    "import helpers.henv as henv\n",
    "import helpers.hio as hio\n",
    "import helpers.hprint as hprint\n",
    "import im_v2.common.data.client.im_raw_data_client as imvcdcimrdc\n",
    "import im_v2.common.data.qa.dataset_validator as imvcdqdava\n",
    "import im_v2.common.data.qa.qa_check as imvcdqqach\n",
    "import im_v2.common.universe.universe as imvcounun"
   ]
  },
  {
   "cell_type": "markdown",
   "id": "ee01fc74",
   "metadata": {
    "ExecuteTime": {
     "end_time": "2022-11-02T15:57:34.347866Z",
     "start_time": "2022-11-02T15:57:34.345134Z"
    }
   },
   "source": [
    "### Logging"
   ]
  },
  {
   "cell_type": "code",
   "execution_count": 2,
   "id": "36d9e44a",
   "metadata": {
    "ExecuteTime": {
     "end_time": "2024-02-19T11:31:21.446986Z",
     "start_time": "2024-02-19T11:31:20.720572Z"
    }
   },
   "outputs": [
    {
     "name": "stdout",
     "output_type": "stream",
     "text": [
      "\u001b[0m\u001b[36mINFO\u001b[0m: > cmd='/venv/lib/python3.9/site-packages/ipykernel_launcher.py -f /home/.local/share/jupyter/runtime/kernel-99ea5ec0-d5ca-40f4-9df9-b33fd05bf48c.json'\n",
      "WARNING: Running in Jupyter\n",
      "INFO  # Git\n",
      "  branch_name='CmampTask7260_Make_QA_errors_more_informative'\n",
      "  hash='89043f127'\n",
      "  # Last commits:\n",
      "    * 89043f127 Sonya Nikiforova Cm task7225 add a toc to a notebook 2 (#7254)                     (   9 hours ago) Mon Feb 19 02:19:04 2024  (HEAD -> CmampTask7260_Make_QA_errors_more_informative, origin/master, origin/HEAD, master)\n",
      "    * f0603f9bb Nina Lee CmTask6284_Add_LimitPriceComputer_and_its_kwargs_to_the_System_config_2 (#7092) (  13 hours ago) Sun Feb 18 22:46:46 2024           \n",
      "    * 83cb21e36 Juraj Smeriga CmampTask7165_Document_archiving_EFS_to_S3_flow (#7257)           (  19 hours ago) Sun Feb 18 16:29:57 2024           \n",
      "# Machine info\n",
      "  system=Linux\n",
      "  node name=b4daca3a2157\n",
      "  release=5.15.0-1052-aws\n",
      "  version=#57~20.04.1-Ubuntu SMP Mon Jan 15 17:04:56 UTC 2024\n",
      "  machine=x86_64\n",
      "  processor=x86_64\n",
      "  cpu count=8\n",
      "  cpu freq=scpufreq(current=2499.9959999999996, min=0.0, max=0.0)\n",
      "  memory=svmem(total=33280286720, available=28298702848, percent=15.0, used=4135743488, free=9981796352, active=4800937984, inactive=8606986240, buffers=1116409856, cached=18046337024, shared=1814528, slab=9641553920)\n",
      "  disk usage=sdiskusage(total=156052275200, used=47586775040, free=108448722944, percent=30.5)\n",
      "# Packages\n",
      "  python: 3.9.5\n",
      "  cvxopt: 1.3.2\n",
      "  cvxpy: 1.4.1\n",
      "  gluonnlp: ?\n",
      "  gluonts: ?\n",
      "  joblib: 1.3.2\n",
      "  mxnet: ?\n",
      "  numpy: 1.26.0\n",
      "  pandas: 2.1.1\n",
      "  pyarrow: 10.0.0\n",
      "  scipy: 1.11.3\n",
      "  seaborn: 0.13.0\n",
      "  sklearn: 1.3.1\n",
      "  statsmodels: 0.14.0\n"
     ]
    }
   ],
   "source": [
    "hdbg.init_logger(verbosity=logging.INFO)\n",
    "\n",
    "_LOG = logging.getLogger(__name__)\n",
    "\n",
    "_LOG.info(\"%s\", henv.get_system_signature()[0])\n",
    "\n",
    "hprint.config_notebook()"
   ]
  },
  {
   "cell_type": "markdown",
   "id": "ebd1c29f",
   "metadata": {},
   "source": [
    "## QA parameters\n",
    "\n",
    "To assist debugging you can override any of the parameters after its loaded and rerun QA"
   ]
  },
  {
   "cell_type": "code",
   "execution_count": 3,
   "id": "1ea45c7d",
   "metadata": {
    "ExecuteTime": {
     "end_time": "2024-02-19T11:31:21.461016Z",
     "start_time": "2024-02-19T11:31:21.452868Z"
    }
   },
   "outputs": [
    {
     "name": "stdout",
     "output_type": "stream",
     "text": [
      "WARNING Environment variable 'CK_DATA_RECONCILIATION_CONFIG' not defined: no config retrieved\n"
     ]
    }
   ],
   "source": [
    "env_var_name = \"CK_DATA_RECONCILIATION_CONFIG\"\n",
    "config = cconfig.Config.from_env_var(env_var_name)"
   ]
  },
  {
   "cell_type": "code",
   "execution_count": 4,
   "id": "492481a7",
   "metadata": {
    "ExecuteTime": {
     "end_time": "2024-02-19T11:31:21.487749Z",
     "start_time": "2024-02-19T11:31:21.464686Z"
    }
   },
   "outputs": [
    {
     "data": {
      "text/plain": [
       "{'stage': 'preprod',\n",
       " 'start_timestamp': '2024-01-03T20:12:00+00:00',\n",
       " 'end_timestamp': '2024-01-03T20:50:00+00:00',\n",
       " 'aws_profile': 'ck',\n",
       " 'dataset_signature1': 'realtime.airflow.downloaded_1min.postgres.ohlcv.futures.v7_3.ccxt.binance.v1_0_0',\n",
       " 'dataset_signature2': 'periodic_daily.airflow.downloaded_1min.parquet.ohlcv.futures.v7_3.ccxt.binance.v1_0_0',\n",
       " 'bid_ask_accuracy': 1}"
      ]
     },
     "execution_count": 4,
     "metadata": {},
     "output_type": "execute_result"
    }
   ],
   "source": [
    "if config:\n",
    "    config = config.to_dict()\n",
    "else:\n",
    "    config = {\n",
    "        \"stage\": \"preprod\",\n",
    "        \"start_timestamp\": \"2024-01-03T20:12:00+00:00\",\n",
    "        \"end_timestamp\": \"2024-01-03T20:50:00+00:00\",\n",
    "        \"aws_profile\": \"ck\",\n",
    "        \"dataset_signature1\": \"realtime.airflow.downloaded_1min.postgres.ohlcv.futures.v7_3.ccxt.binance.v1_0_0\",\n",
    "        \"dataset_signature2\": \"periodic_daily.airflow.downloaded_1min.parquet.ohlcv.futures.v7_3.ccxt.binance.v1_0_0\",\n",
    "        \"bid_ask_accuracy\": 1,\n",
    "    }\n",
    "# bid_ask_accuracy needs to be cast to int if its defined\n",
    "config[\"bid_ask_accuracy\"] = (\n",
    "    int(config[\"bid_ask_accuracy\"]) if config[\"bid_ask_accuracy\"] else None\n",
    ")\n",
    "# bid_ask_depth needs to be cast to int if its defined\n",
    "# config[\"bid_ask_depth\"] = int(config[\"bid_ask_depth\"]) if config[\"bid_ask_depth\"] else None\n",
    "config"
   ]
  },
  {
   "cell_type": "markdown",
   "id": "2a33a55c",
   "metadata": {},
   "source": [
    "### Parse dataset signature\n",
    "\n",
    "1. Load dataset schema\n",
    "2. Validate dataset signature\n",
    "3. Parse dataset attributes to drive some of the QA configuration"
   ]
  },
  {
   "cell_type": "code",
   "execution_count": 5,
   "id": "429d9458",
   "metadata": {
    "ExecuteTime": {
     "end_time": "2024-02-19T11:31:21.615065Z",
     "start_time": "2024-02-19T11:31:21.493103Z"
    }
   },
   "outputs": [
    {
     "name": "stdout",
     "output_type": "stream",
     "text": [
      "INFO  Loading dataset schema file: /app/amp/data_schema/dataset_schema_versions/dataset_schema_v3.json\n",
      "INFO  Loaded dataset schema version v3\n"
     ]
    },
    {
     "data": {
      "text/plain": [
       "True"
      ]
     },
     "execution_count": 5,
     "metadata": {},
     "output_type": "execute_result"
    }
   ],
   "source": [
    "dataset_schema = dsdascut.get_dataset_schema()\n",
    "dsdascut.validate_dataset_signature(config[\"dataset_signature1\"], dataset_schema)\n",
    "dsdascut.validate_dataset_signature(config[\"dataset_signature2\"], dataset_schema)"
   ]
  },
  {
   "cell_type": "code",
   "execution_count": 6,
   "id": "b0ccf635",
   "metadata": {
    "ExecuteTime": {
     "end_time": "2024-02-19T11:31:21.638128Z",
     "start_time": "2024-02-19T11:31:21.621386Z"
    }
   },
   "outputs": [
    {
     "data": {
      "text/plain": [
       "{'download_mode': 'realtime',\n",
       " 'downloading_entity': 'airflow',\n",
       " 'action_tag': 'downloaded_1min',\n",
       " 'data_format': 'postgres',\n",
       " 'data_type': 'ohlcv',\n",
       " 'asset_type': 'futures',\n",
       " 'universe': 'v7_3',\n",
       " 'vendor': 'ccxt',\n",
       " 'exchange_id': 'binance',\n",
       " 'version': 'v1_0_0'}"
      ]
     },
     "execution_count": 6,
     "metadata": {},
     "output_type": "execute_result"
    }
   ],
   "source": [
    "dataset_signature_as_dict1 = dsdascut.parse_dataset_signature_to_args(\n",
    "    config[\"dataset_signature1\"], dataset_schema\n",
    ")\n",
    "dataset_signature_as_dict1"
   ]
  },
  {
   "cell_type": "code",
   "execution_count": 7,
   "id": "302df279",
   "metadata": {
    "ExecuteTime": {
     "end_time": "2024-02-19T11:31:21.651438Z",
     "start_time": "2024-02-19T11:31:21.641918Z"
    }
   },
   "outputs": [
    {
     "data": {
      "text/plain": [
       "{'download_mode': 'periodic_daily',\n",
       " 'downloading_entity': 'airflow',\n",
       " 'action_tag': 'downloaded_1min',\n",
       " 'data_format': 'parquet',\n",
       " 'data_type': 'ohlcv',\n",
       " 'asset_type': 'futures',\n",
       " 'universe': 'v7_3',\n",
       " 'vendor': 'ccxt',\n",
       " 'exchange_id': 'binance',\n",
       " 'version': 'v1_0_0'}"
      ]
     },
     "execution_count": 7,
     "metadata": {},
     "output_type": "execute_result"
    }
   ],
   "source": [
    "dataset_signature_as_dict2 = dsdascut.parse_dataset_signature_to_args(\n",
    "    config[\"dataset_signature2\"], dataset_schema\n",
    ")\n",
    "dataset_signature_as_dict2"
   ]
  },
  {
   "cell_type": "markdown",
   "id": "7e9686a8",
   "metadata": {
    "ExecuteTime": {
     "end_time": "2022-10-28T14:48:05.494917Z",
     "start_time": "2022-10-28T14:48:05.490692Z"
    }
   },
   "source": [
    "## Load Data\n",
    "\n",
    "TODO(Juraj): At the moment assume that first dataset argument is a DB dataset and second is from S3 because of small preprocessing operations needed before performing QA"
   ]
  },
  {
   "cell_type": "markdown",
   "id": "5e4bf1d8",
   "metadata": {},
   "source": [
    "### First dataset"
   ]
  },
  {
   "cell_type": "code",
   "execution_count": 8,
   "id": "61cfcc30",
   "metadata": {
    "ExecuteTime": {
     "end_time": "2024-02-19T11:31:22.457589Z",
     "start_time": "2024-02-19T11:31:21.654244Z"
    }
   },
   "outputs": [
    {
     "name": "stdout",
     "output_type": "stream",
     "text": [
      "INFO  Loading dataset schema file: /app/amp/data_schema/dataset_schema_versions/dataset_schema_v3.json\n",
      "INFO  Loaded dataset schema version v3\n",
      "INFO  Loading dataset schema file: /app/amp/data_schema/dataset_schema_versions/dataset_schema_v3.json\n",
      "INFO  Loaded dataset schema version v3\n",
      "INFO  Unable to fetch DB credentials from environment variables: \n",
      "\t'POSTGRES_HOST'\n",
      "\tAttempting env file method.\n",
      "INFO  Unable to fetch DB credentials from env file: \n",
      "\t\n",
      "################################################################################\n",
      "* Failed assertion *\n",
      "File '/app/amp/im_v2/devops/env/preprod.im_db_config.env' doesn't exist\n",
      "################################################################################\n",
      "\n",
      "\tAttempting AWS SecretsManager method.\n",
      "INFO  Fetching secret: preprod.im_data_db\n",
      "INFO  Created preprod DB connection: \n",
      " None\n",
      "INFO  Enabled connection to the `ccxt_ohlcv_futures` DB table\n",
      "INFO  Executing query: \n",
      "\tSELECT * FROM ccxt_ohlcv_futures WHERE timestamp >= 1704312720000 AND timestamp <= 1704315000000 AND exchange_id = 'binance'\n"
     ]
    },
    {
     "name": "stderr",
     "output_type": "stream",
     "text": [
      "/app/amp/helpers/hsql_implementation.py:582: UserWarning: pandas only supports SQLAlchemy connectable (engine/connection) or database string URI or sqlite3 DBAPI2 connection. Other DBAPI2 objects are not tested. Please consider using SQLAlchemy.\n",
      "  df = pd.read_sql_query(query, connection)\n"
     ]
    }
   ],
   "source": [
    "raw_data_client = imvcdcimrdc.RawDataReader(\n",
    "    config[\"dataset_signature1\"], stage=config[\"stage\"]\n",
    ")\n",
    "data1 = raw_data_client.read_data(\n",
    "    pd.Timestamp(config[\"start_timestamp\"]), pd.Timestamp(config[\"end_timestamp\"])\n",
    ")"
   ]
  },
  {
   "cell_type": "code",
   "execution_count": 9,
   "id": "dc68d350",
   "metadata": {
    "ExecuteTime": {
     "end_time": "2024-02-19T11:31:22.491207Z",
     "start_time": "2024-02-19T11:31:22.463240Z"
    }
   },
   "outputs": [
    {
     "data": {
      "text/html": [
       "<div>\n",
       "<style scoped>\n",
       "    .dataframe tbody tr th:only-of-type {\n",
       "        vertical-align: middle;\n",
       "    }\n",
       "\n",
       "    .dataframe tbody tr th {\n",
       "        vertical-align: top;\n",
       "    }\n",
       "\n",
       "    .dataframe thead th {\n",
       "        text-align: right;\n",
       "    }\n",
       "</style>\n",
       "<table border=\"1\" class=\"dataframe\">\n",
       "  <thead>\n",
       "    <tr style=\"text-align: right;\">\n",
       "      <th></th>\n",
       "      <th>id</th>\n",
       "      <th>timestamp</th>\n",
       "      <th>open</th>\n",
       "      <th>high</th>\n",
       "      <th>low</th>\n",
       "      <th>close</th>\n",
       "      <th>volume</th>\n",
       "      <th>currency_pair</th>\n",
       "      <th>exchange_id</th>\n",
       "      <th>end_download_timestamp</th>\n",
       "      <th>knowledge_timestamp</th>\n",
       "    </tr>\n",
       "  </thead>\n",
       "  <tbody>\n",
       "    <tr>\n",
       "      <th>0</th>\n",
       "      <td>436454641</td>\n",
       "      <td>1704312720000</td>\n",
       "      <td>2209.3400</td>\n",
       "      <td>2209.3500</td>\n",
       "      <td>2207.4900</td>\n",
       "      <td>2207.5000</td>\n",
       "      <td>448.182</td>\n",
       "      <td>ETH_USDT</td>\n",
       "      <td>binance</td>\n",
       "      <td>2024-01-03 20:13:10.020069+00:00</td>\n",
       "      <td>2024-01-03 20:13:10.044211+00:00</td>\n",
       "    </tr>\n",
       "    <tr>\n",
       "      <th>1</th>\n",
       "      <td>436454642</td>\n",
       "      <td>1704312720000</td>\n",
       "      <td>42613.6000</td>\n",
       "      <td>42613.7000</td>\n",
       "      <td>42574.1000</td>\n",
       "      <td>42574.1000</td>\n",
       "      <td>76.916</td>\n",
       "      <td>BTC_USDT</td>\n",
       "      <td>binance</td>\n",
       "      <td>2024-01-03 20:13:10.020484+00:00</td>\n",
       "      <td>2024-01-03 20:13:10.044211+00:00</td>\n",
       "    </tr>\n",
       "    <tr>\n",
       "      <th>2</th>\n",
       "      <td>436454643</td>\n",
       "      <td>1704312720000</td>\n",
       "      <td>0.5088</td>\n",
       "      <td>0.5088</td>\n",
       "      <td>0.5080</td>\n",
       "      <td>0.5081</td>\n",
       "      <td>91672.000</td>\n",
       "      <td>SAND_USDT</td>\n",
       "      <td>binance</td>\n",
       "      <td>2024-01-03 20:13:10.020835+00:00</td>\n",
       "      <td>2024-01-03 20:13:10.044211+00:00</td>\n",
       "    </tr>\n",
       "    <tr>\n",
       "      <th>3</th>\n",
       "      <td>436454644</td>\n",
       "      <td>1704312720000</td>\n",
       "      <td>0.6235</td>\n",
       "      <td>0.6235</td>\n",
       "      <td>0.6201</td>\n",
       "      <td>0.6201</td>\n",
       "      <td>111169.000</td>\n",
       "      <td>STORJ_USDT</td>\n",
       "      <td>binance</td>\n",
       "      <td>2024-01-03 20:13:10.021199+00:00</td>\n",
       "      <td>2024-01-03 20:13:10.044211+00:00</td>\n",
       "    </tr>\n",
       "    <tr>\n",
       "      <th>4</th>\n",
       "      <td>436454645</td>\n",
       "      <td>1704312720000</td>\n",
       "      <td>0.3087</td>\n",
       "      <td>0.3088</td>\n",
       "      <td>0.3084</td>\n",
       "      <td>0.3084</td>\n",
       "      <td>114903.000</td>\n",
       "      <td>GMT_USDT</td>\n",
       "      <td>binance</td>\n",
       "      <td>2024-01-03 20:13:10.021623+00:00</td>\n",
       "      <td>2024-01-03 20:13:10.044211+00:00</td>\n",
       "    </tr>\n",
       "  </tbody>\n",
       "</table>\n",
       "</div>"
      ],
      "text/plain": [
       "          id      timestamp        open        high         low       close      volume currency_pair exchange_id           end_download_timestamp              knowledge_timestamp\n",
       "0  436454641  1704312720000   2209.3400   2209.3500   2207.4900   2207.5000     448.182      ETH_USDT     binance 2024-01-03 20:13:10.020069+00:00 2024-01-03 20:13:10.044211+00:00\n",
       "1  436454642  1704312720000  42613.6000  42613.7000  42574.1000  42574.1000      76.916      BTC_USDT     binance 2024-01-03 20:13:10.020484+00:00 2024-01-03 20:13:10.044211+00:00\n",
       "2  436454643  1704312720000      0.5088      0.5088      0.5080      0.5081   91672.000     SAND_USDT     binance 2024-01-03 20:13:10.020835+00:00 2024-01-03 20:13:10.044211+00:00\n",
       "3  436454644  1704312720000      0.6235      0.6235      0.6201      0.6201  111169.000    STORJ_USDT     binance 2024-01-03 20:13:10.021199+00:00 2024-01-03 20:13:10.044211+00:00\n",
       "4  436454645  1704312720000      0.3087      0.3088      0.3084      0.3084  114903.000      GMT_USDT     binance 2024-01-03 20:13:10.021623+00:00 2024-01-03 20:13:10.044211+00:00"
      ]
     },
     "execution_count": 9,
     "metadata": {},
     "output_type": "execute_result"
    }
   ],
   "source": [
    "data1.head()"
   ]
  },
  {
   "cell_type": "markdown",
   "id": "c0827068",
   "metadata": {},
   "source": [
    "### Second dataset"
   ]
  },
  {
   "cell_type": "code",
   "execution_count": 10,
   "id": "a1a32b55",
   "metadata": {
    "ExecuteTime": {
     "end_time": "2024-02-19T11:34:08.708741Z",
     "start_time": "2024-02-19T11:31:22.494892Z"
    }
   },
   "outputs": [
    {
     "name": "stdout",
     "output_type": "stream",
     "text": [
      "INFO  Loading dataset schema file: /app/amp/data_schema/dataset_schema_versions/dataset_schema_v3.json\n",
      "INFO  Loaded dataset schema version v3\n",
      "INFO  Loading dataset schema file: /app/amp/data_schema/dataset_schema_versions/dataset_schema_v3.json\n",
      "INFO  Loaded dataset schema version v3\n",
      "INFO  Loading dataset schema file: /app/amp/data_schema/dataset_schema_versions/dataset_schema_v3.json\n",
      "INFO  Loaded dataset schema version v3\n",
      "INFO  Loading dataset schema file: /app/amp/data_schema/dataset_schema_versions/dataset_schema_v3.json\n",
      "INFO  Loaded dataset schema version v3\n"
     ]
    }
   ],
   "source": [
    "raw_data_client = imvcdcimrdc.RawDataReader(\n",
    "    config[\"dataset_signature2\"], stage=config[\"stage\"]\n",
    ")\n",
    "data2 = raw_data_client.read_data(\n",
    "    pd.Timestamp(config[\"start_timestamp\"]), pd.Timestamp(config[\"end_timestamp\"])\n",
    ")\n",
    "data2 = data2.reset_index(drop=True)"
   ]
  },
  {
   "cell_type": "code",
   "execution_count": 11,
   "id": "a03b3a36",
   "metadata": {
    "ExecuteTime": {
     "end_time": "2024-02-19T11:34:08.736133Z",
     "start_time": "2024-02-19T11:34:08.712312Z"
    }
   },
   "outputs": [
    {
     "data": {
      "text/html": [
       "<div>\n",
       "<style scoped>\n",
       "    .dataframe tbody tr th:only-of-type {\n",
       "        vertical-align: middle;\n",
       "    }\n",
       "\n",
       "    .dataframe tbody tr th {\n",
       "        vertical-align: top;\n",
       "    }\n",
       "\n",
       "    .dataframe thead th {\n",
       "        text-align: right;\n",
       "    }\n",
       "</style>\n",
       "<table border=\"1\" class=\"dataframe\">\n",
       "  <thead>\n",
       "    <tr style=\"text-align: right;\">\n",
       "      <th></th>\n",
       "      <th>timestamp</th>\n",
       "      <th>open</th>\n",
       "      <th>high</th>\n",
       "      <th>low</th>\n",
       "      <th>close</th>\n",
       "      <th>volume</th>\n",
       "      <th>exchange_id</th>\n",
       "      <th>knowledge_timestamp</th>\n",
       "      <th>currency_pair</th>\n",
       "      <th>year</th>\n",
       "      <th>month</th>\n",
       "    </tr>\n",
       "  </thead>\n",
       "  <tbody>\n",
       "    <tr>\n",
       "      <th>0</th>\n",
       "      <td>1704312720000</td>\n",
       "      <td>1.452</td>\n",
       "      <td>1.452</td>\n",
       "      <td>1.450</td>\n",
       "      <td>1.451</td>\n",
       "      <td>43148.0</td>\n",
       "      <td>binance</td>\n",
       "      <td>2024-01-04 01:23:12.362895+00:00</td>\n",
       "      <td>APE_USDT</td>\n",
       "      <td>2024</td>\n",
       "      <td>1</td>\n",
       "    </tr>\n",
       "    <tr>\n",
       "      <th>1</th>\n",
       "      <td>1704312780000</td>\n",
       "      <td>1.451</td>\n",
       "      <td>1.453</td>\n",
       "      <td>1.450</td>\n",
       "      <td>1.452</td>\n",
       "      <td>21826.0</td>\n",
       "      <td>binance</td>\n",
       "      <td>2024-01-04 01:23:12.362895+00:00</td>\n",
       "      <td>APE_USDT</td>\n",
       "      <td>2024</td>\n",
       "      <td>1</td>\n",
       "    </tr>\n",
       "    <tr>\n",
       "      <th>2</th>\n",
       "      <td>1704312840000</td>\n",
       "      <td>1.451</td>\n",
       "      <td>1.453</td>\n",
       "      <td>1.450</td>\n",
       "      <td>1.453</td>\n",
       "      <td>12976.0</td>\n",
       "      <td>binance</td>\n",
       "      <td>2024-01-04 01:23:12.362895+00:00</td>\n",
       "      <td>APE_USDT</td>\n",
       "      <td>2024</td>\n",
       "      <td>1</td>\n",
       "    </tr>\n",
       "    <tr>\n",
       "      <th>3</th>\n",
       "      <td>1704312900000</td>\n",
       "      <td>1.452</td>\n",
       "      <td>1.456</td>\n",
       "      <td>1.452</td>\n",
       "      <td>1.456</td>\n",
       "      <td>38907.0</td>\n",
       "      <td>binance</td>\n",
       "      <td>2024-01-04 01:23:12.362895+00:00</td>\n",
       "      <td>APE_USDT</td>\n",
       "      <td>2024</td>\n",
       "      <td>1</td>\n",
       "    </tr>\n",
       "    <tr>\n",
       "      <th>4</th>\n",
       "      <td>1704312960000</td>\n",
       "      <td>1.455</td>\n",
       "      <td>1.458</td>\n",
       "      <td>1.455</td>\n",
       "      <td>1.457</td>\n",
       "      <td>55444.0</td>\n",
       "      <td>binance</td>\n",
       "      <td>2024-01-04 01:23:12.362895+00:00</td>\n",
       "      <td>APE_USDT</td>\n",
       "      <td>2024</td>\n",
       "      <td>1</td>\n",
       "    </tr>\n",
       "  </tbody>\n",
       "</table>\n",
       "</div>"
      ],
      "text/plain": [
       "       timestamp   open   high    low  close   volume exchange_id              knowledge_timestamp currency_pair  year  month\n",
       "0  1704312720000  1.452  1.452  1.450  1.451  43148.0     binance 2024-01-04 01:23:12.362895+00:00      APE_USDT  2024      1\n",
       "1  1704312780000  1.451  1.453  1.450  1.452  21826.0     binance 2024-01-04 01:23:12.362895+00:00      APE_USDT  2024      1\n",
       "2  1704312840000  1.451  1.453  1.450  1.453  12976.0     binance 2024-01-04 01:23:12.362895+00:00      APE_USDT  2024      1\n",
       "3  1704312900000  1.452  1.456  1.452  1.456  38907.0     binance 2024-01-04 01:23:12.362895+00:00      APE_USDT  2024      1\n",
       "4  1704312960000  1.455  1.458  1.455  1.457  55444.0     binance 2024-01-04 01:23:12.362895+00:00      APE_USDT  2024      1"
      ]
     },
     "execution_count": 11,
     "metadata": {},
     "output_type": "execute_result"
    }
   ],
   "source": [
    "data2.head()"
   ]
  },
  {
   "cell_type": "markdown",
   "id": "db9ea1f9",
   "metadata": {},
   "source": [
    "### Preprocess raw data\n",
    "- remove columns unimportant for QA\n",
    "- remove duplicates"
   ]
  },
  {
   "cell_type": "code",
   "execution_count": 12,
   "id": "27a49326",
   "metadata": {
    "ExecuteTime": {
     "end_time": "2024-02-19T11:34:08.761558Z",
     "start_time": "2024-02-19T11:34:08.742980Z"
    }
   },
   "outputs": [],
   "source": [
    "cols_to_keep = [\n",
    "    \"timestamp\",\n",
    "    \"open\",\n",
    "    \"high\",\n",
    "    \"low\",\n",
    "    \"close\",\n",
    "    \"volume\",\n",
    "    \"currency_pair\",\n",
    "    \"exchange_id\",\n",
    "]\n",
    "data1 = data1[cols_to_keep].sort_values(\n",
    "    [\"currency_pair\", \"timestamp\"], ascending=True, ignore_index=True\n",
    ")\n",
    "data2 = data2[cols_to_keep].sort_values(\n",
    "    [\"currency_pair\", \"timestamp\"], ascending=True, ignore_index=True\n",
    ")"
   ]
  },
  {
   "cell_type": "code",
   "execution_count": 13,
   "id": "87b28d7d",
   "metadata": {
    "ExecuteTime": {
     "end_time": "2024-02-19T11:34:08.775377Z",
     "start_time": "2024-02-19T11:34:08.764781Z"
    }
   },
   "outputs": [],
   "source": [
    "data1 = data1.drop_duplicates()\n",
    "data2 = data2.drop_duplicates()"
   ]
  },
  {
   "cell_type": "code",
   "execution_count": 14,
   "id": "9b3838da",
   "metadata": {
    "ExecuteTime": {
     "end_time": "2024-02-19T11:34:08.795981Z",
     "start_time": "2024-02-19T11:34:08.778179Z"
    }
   },
   "outputs": [
    {
     "data": {
      "text/html": [
       "<div>\n",
       "<style scoped>\n",
       "    .dataframe tbody tr th:only-of-type {\n",
       "        vertical-align: middle;\n",
       "    }\n",
       "\n",
       "    .dataframe tbody tr th {\n",
       "        vertical-align: top;\n",
       "    }\n",
       "\n",
       "    .dataframe thead th {\n",
       "        text-align: right;\n",
       "    }\n",
       "</style>\n",
       "<table border=\"1\" class=\"dataframe\">\n",
       "  <thead>\n",
       "    <tr style=\"text-align: right;\">\n",
       "      <th></th>\n",
       "      <th>timestamp</th>\n",
       "      <th>open</th>\n",
       "      <th>high</th>\n",
       "      <th>low</th>\n",
       "      <th>close</th>\n",
       "      <th>volume</th>\n",
       "      <th>currency_pair</th>\n",
       "      <th>exchange_id</th>\n",
       "    </tr>\n",
       "  </thead>\n",
       "  <tbody>\n",
       "    <tr>\n",
       "      <th>0</th>\n",
       "      <td>1704312720000</td>\n",
       "      <td>1.452</td>\n",
       "      <td>1.452</td>\n",
       "      <td>1.450</td>\n",
       "      <td>1.451</td>\n",
       "      <td>43148.0</td>\n",
       "      <td>APE_USDT</td>\n",
       "      <td>binance</td>\n",
       "    </tr>\n",
       "    <tr>\n",
       "      <th>1</th>\n",
       "      <td>1704312780000</td>\n",
       "      <td>1.451</td>\n",
       "      <td>1.453</td>\n",
       "      <td>1.450</td>\n",
       "      <td>1.452</td>\n",
       "      <td>21826.0</td>\n",
       "      <td>APE_USDT</td>\n",
       "      <td>binance</td>\n",
       "    </tr>\n",
       "    <tr>\n",
       "      <th>2</th>\n",
       "      <td>1704312840000</td>\n",
       "      <td>1.451</td>\n",
       "      <td>1.453</td>\n",
       "      <td>1.450</td>\n",
       "      <td>1.453</td>\n",
       "      <td>12976.0</td>\n",
       "      <td>APE_USDT</td>\n",
       "      <td>binance</td>\n",
       "    </tr>\n",
       "    <tr>\n",
       "      <th>3</th>\n",
       "      <td>1704312900000</td>\n",
       "      <td>1.452</td>\n",
       "      <td>1.456</td>\n",
       "      <td>1.452</td>\n",
       "      <td>1.456</td>\n",
       "      <td>38907.0</td>\n",
       "      <td>APE_USDT</td>\n",
       "      <td>binance</td>\n",
       "    </tr>\n",
       "    <tr>\n",
       "      <th>4</th>\n",
       "      <td>1704312960000</td>\n",
       "      <td>1.455</td>\n",
       "      <td>1.458</td>\n",
       "      <td>1.455</td>\n",
       "      <td>1.457</td>\n",
       "      <td>55444.0</td>\n",
       "      <td>APE_USDT</td>\n",
       "      <td>binance</td>\n",
       "    </tr>\n",
       "  </tbody>\n",
       "</table>\n",
       "</div>"
      ],
      "text/plain": [
       "       timestamp   open   high    low  close   volume currency_pair exchange_id\n",
       "0  1704312720000  1.452  1.452  1.450  1.451  43148.0      APE_USDT     binance\n",
       "1  1704312780000  1.451  1.453  1.450  1.452  21826.0      APE_USDT     binance\n",
       "2  1704312840000  1.451  1.453  1.450  1.453  12976.0      APE_USDT     binance\n",
       "3  1704312900000  1.452  1.456  1.452  1.456  38907.0      APE_USDT     binance\n",
       "4  1704312960000  1.455  1.458  1.455  1.457  55444.0      APE_USDT     binance"
      ]
     },
     "execution_count": 14,
     "metadata": {},
     "output_type": "execute_result"
    }
   ],
   "source": [
    "data1.head()"
   ]
  },
  {
   "cell_type": "code",
   "execution_count": 15,
   "id": "5a1ae7d2",
   "metadata": {
    "ExecuteTime": {
     "end_time": "2024-02-19T11:34:08.816190Z",
     "start_time": "2024-02-19T11:34:08.798734Z"
    }
   },
   "outputs": [
    {
     "data": {
      "text/html": [
       "<div>\n",
       "<style scoped>\n",
       "    .dataframe tbody tr th:only-of-type {\n",
       "        vertical-align: middle;\n",
       "    }\n",
       "\n",
       "    .dataframe tbody tr th {\n",
       "        vertical-align: top;\n",
       "    }\n",
       "\n",
       "    .dataframe thead th {\n",
       "        text-align: right;\n",
       "    }\n",
       "</style>\n",
       "<table border=\"1\" class=\"dataframe\">\n",
       "  <thead>\n",
       "    <tr style=\"text-align: right;\">\n",
       "      <th></th>\n",
       "      <th>timestamp</th>\n",
       "      <th>open</th>\n",
       "      <th>high</th>\n",
       "      <th>low</th>\n",
       "      <th>close</th>\n",
       "      <th>volume</th>\n",
       "      <th>currency_pair</th>\n",
       "      <th>exchange_id</th>\n",
       "    </tr>\n",
       "  </thead>\n",
       "  <tbody>\n",
       "    <tr>\n",
       "      <th>0</th>\n",
       "      <td>1704312720000</td>\n",
       "      <td>1.452</td>\n",
       "      <td>1.452</td>\n",
       "      <td>1.450</td>\n",
       "      <td>1.451</td>\n",
       "      <td>43148.0</td>\n",
       "      <td>APE_USDT</td>\n",
       "      <td>binance</td>\n",
       "    </tr>\n",
       "    <tr>\n",
       "      <th>1</th>\n",
       "      <td>1704312780000</td>\n",
       "      <td>1.451</td>\n",
       "      <td>1.453</td>\n",
       "      <td>1.450</td>\n",
       "      <td>1.452</td>\n",
       "      <td>21826.0</td>\n",
       "      <td>APE_USDT</td>\n",
       "      <td>binance</td>\n",
       "    </tr>\n",
       "    <tr>\n",
       "      <th>2</th>\n",
       "      <td>1704312840000</td>\n",
       "      <td>1.451</td>\n",
       "      <td>1.453</td>\n",
       "      <td>1.450</td>\n",
       "      <td>1.453</td>\n",
       "      <td>12976.0</td>\n",
       "      <td>APE_USDT</td>\n",
       "      <td>binance</td>\n",
       "    </tr>\n",
       "    <tr>\n",
       "      <th>3</th>\n",
       "      <td>1704312900000</td>\n",
       "      <td>1.452</td>\n",
       "      <td>1.456</td>\n",
       "      <td>1.452</td>\n",
       "      <td>1.456</td>\n",
       "      <td>38907.0</td>\n",
       "      <td>APE_USDT</td>\n",
       "      <td>binance</td>\n",
       "    </tr>\n",
       "    <tr>\n",
       "      <th>4</th>\n",
       "      <td>1704312960000</td>\n",
       "      <td>1.455</td>\n",
       "      <td>1.458</td>\n",
       "      <td>1.455</td>\n",
       "      <td>1.457</td>\n",
       "      <td>55444.0</td>\n",
       "      <td>APE_USDT</td>\n",
       "      <td>binance</td>\n",
       "    </tr>\n",
       "  </tbody>\n",
       "</table>\n",
       "</div>"
      ],
      "text/plain": [
       "       timestamp   open   high    low  close   volume currency_pair exchange_id\n",
       "0  1704312720000  1.452  1.452  1.450  1.451  43148.0      APE_USDT     binance\n",
       "1  1704312780000  1.451  1.453  1.450  1.452  21826.0      APE_USDT     binance\n",
       "2  1704312840000  1.451  1.453  1.450  1.453  12976.0      APE_USDT     binance\n",
       "3  1704312900000  1.452  1.456  1.452  1.456  38907.0      APE_USDT     binance\n",
       "4  1704312960000  1.455  1.458  1.455  1.457  55444.0      APE_USDT     binance"
      ]
     },
     "execution_count": 15,
     "metadata": {},
     "output_type": "execute_result"
    }
   ],
   "source": [
    "data2.head()"
   ]
  },
  {
   "cell_type": "markdown",
   "id": "400935eb",
   "metadata": {},
   "source": [
    "## Initialize QA checks"
   ]
  },
  {
   "cell_type": "markdown",
   "id": "b2785b1c",
   "metadata": {},
   "source": [
    "### Single dataset checks"
   ]
  },
  {
   "cell_type": "code",
   "execution_count": 16,
   "id": "591048db",
   "metadata": {
    "ExecuteTime": {
     "end_time": "2024-02-19T11:34:08.830207Z",
     "start_time": "2024-02-19T11:34:08.822872Z"
    }
   },
   "outputs": [],
   "source": [
    "datasets = [data1, data2]\n",
    "signatures = [dataset_signature_as_dict1, dataset_signature_as_dict2]\n",
    "qa_check_lists = []"
   ]
  },
  {
   "cell_type": "code",
   "execution_count": 17,
   "id": "3fe97b82",
   "metadata": {
    "ExecuteTime": {
     "end_time": "2024-02-19T11:34:08.845146Z",
     "start_time": "2024-02-19T11:34:08.834081Z"
    }
   },
   "outputs": [],
   "source": [
    "for signature in signatures:\n",
    "    # TODO(Juraj): this behavior should be encapsulated in some utility function\n",
    "    data_frequency = \"T\" if \"1min\" in signature[\"action_tag\"] else \"S\"\n",
    "    vendor_name = signature[\"vendor\"].upper()\n",
    "    mode = \"download\"\n",
    "    version = signature[\"universe\"].replace(\"_\", \".\")\n",
    "    exchange_id = signature[\"exchange_id\"]\n",
    "    universe = imvcounun.get_vendor_universe(vendor_name, mode, version=version)\n",
    "    universe_list = universe[exchange_id]\n",
    "    qa_check_list = [\n",
    "        imvcdqqach.GapsInTimeIntervalBySymbolsCheck(\n",
    "            config[\"start_timestamp\"], config[\"end_timestamp\"], data_frequency\n",
    "        ),\n",
    "        imvcdqqach.NaNChecks(),\n",
    "        imvcdqqach.OhlcvLogicalValuesCheck(),\n",
    "        imvcdqqach.FullUniversePresentCheck(universe_list),\n",
    "        imvcdqqach.DuplicateDifferingOhlcvCheck(),\n",
    "    ]\n",
    "    qa_check_lists.append(qa_check_list)"
   ]
  },
  {
   "cell_type": "markdown",
   "id": "1aeb6fa4",
   "metadata": {},
   "source": [
    "### Cross dataset checks"
   ]
  },
  {
   "cell_type": "code",
   "execution_count": 18,
   "id": "2ac6d821",
   "metadata": {
    "ExecuteTime": {
     "end_time": "2024-02-19T11:34:08.853100Z",
     "start_time": "2024-02-19T11:34:08.848240Z"
    }
   },
   "outputs": [],
   "source": [
    "cross_qa_check_list = [imvcdqqach.OuterCrossOHLCVDataCheck()]"
   ]
  },
  {
   "cell_type": "markdown",
   "id": "47d4deff",
   "metadata": {},
   "source": [
    "## Initialize QA validators"
   ]
  },
  {
   "cell_type": "code",
   "execution_count": 19,
   "id": "9bca8f0b",
   "metadata": {
    "ExecuteTime": {
     "end_time": "2024-02-19T11:34:08.860580Z",
     "start_time": "2024-02-19T11:34:08.856048Z"
    }
   },
   "outputs": [],
   "source": [
    "dataset_validator1 = imvcdqdava.DataFrameDatasetValidator(qa_check_lists[0])\n",
    "dataset_validator2 = imvcdqdava.DataFrameDatasetValidator(qa_check_lists[1])\n",
    "cross_dataset_validator = imvcdqdava.DataFrameDatasetValidator(\n",
    "    cross_qa_check_list\n",
    ")"
   ]
  },
  {
   "cell_type": "markdown",
   "id": "7664b43b",
   "metadata": {},
   "source": [
    "## Run QA"
   ]
  },
  {
   "cell_type": "code",
   "execution_count": 22,
   "id": "3d5504c1",
   "metadata": {
    "ExecuteTime": {
     "end_time": "2024-02-19T11:35:19.186369Z",
     "start_time": "2024-02-19T11:35:18.937060Z"
    }
   },
   "outputs": [
    {
     "name": "stdout",
     "output_type": "stream",
     "text": [
      "INFO  First dataset QA:\n",
      "INFO  Running all QA checks:\n",
      "INFO  \tGapsInTimeIntervalBySymbolsCheck: PASSED\n",
      "INFO  \tNaNChecks: PASSED\n",
      "INFO  \tOhlcvLogicalValuesCheck: PASSED\n",
      "INFO  \tFullUniversePresentCheck: PASSED\n",
      "INFO  \tDuplicateDifferingOhlcvCheck: FAILED: Duplicate table contents:\n",
      "\t         timestamp    open    high     low   close  volume currency_pair exchange_id\n",
      "186  1704314520000  315.72  315.94  315.53  315.71  493.17      BNB_USDT     binance\n",
      "187  1704314520000  315.72  315.94  315.53  315.75  509.53      BNB_USDT     binance\n",
      "INFO  Second dataset QA:\n",
      "INFO  Running all QA checks:\n",
      "INFO  \tGapsInTimeIntervalBySymbolsCheck: PASSED\n",
      "INFO  \tNaNChecks: PASSED\n",
      "INFO  \tOhlcvLogicalValuesCheck: PASSED\n",
      "INFO  \tFullUniversePresentCheck: PASSED\n",
      "INFO  \tDuplicateDifferingOhlcvCheck: PASSED\n",
      "INFO  Cross dataset QA:\n",
      "INFO  Running all QA checks:\n",
      "INFO  \tOuterCrossOHLCVDataCheck: FAILED: Different data found:\n",
      "\t         timestamp  open_A  high_A   low_A  close_A  volume_A currency_pair exchange_id_A  open_B  high_B   low_B  close_B  volume_B exchange_id_B  QAcheck\n",
      "186  1704314520000  315.72  315.94  315.53   315.71    493.17      BNB_USDT       binance  315.72  315.94  315.53   315.75    509.53       binance    False\n"
     ]
    }
   ],
   "source": [
    "full_error_msgs = []\n",
    "status = \"SUCCESS\"\n",
    "_LOG.info(\"First dataset QA:\")\n",
    "error_msgs = dataset_validator1.run_all_checks([data1], abort_on_error=False)\n",
    "if error_msgs:\n",
    "    full_error_msgs.append(error_msgs)\n",
    "    _LOG.info(error_msgs)\n",
    "    status = \"FAILED\"\n",
    "_LOG.info(\"Second dataset QA:\")\n",
    "error_msgs = dataset_validator1.run_all_checks([data2], abort_on_error=False)\n",
    "if error_msgs:\n",
    "    full_error_msgs.append(error_msgs)\n",
    "    _LOG.info(error_msgs)\n",
    "    status = \"FAILED\"\n",
    "_LOG.info(\"Cross dataset QA:\")\n",
    "error_msgs = cross_dataset_validator.run_all_checks(datasets, abort_on_error=False)\n",
    "if error_msgs:\n",
    "    full_error_msgs.append(error_msgs)\n",
    "    _LOG.info(error_msgs)\n",
    "    status = \"FAILED\"\n",
    "# If no exception was raised mark the QA as successful.\n",
    "data_qa_outcome = status\n",
    "full_error_msgs = '\\n'.join(full_error_msgs)"
   ]
  },
  {
   "cell_type": "code",
   "execution_count": 26,
   "id": "2c6ea180",
   "metadata": {
    "ExecuteTime": {
     "end_time": "2024-02-19T11:36:01.289304Z",
     "start_time": "2024-02-19T11:36:01.246434Z"
    },
    "lines_to_next_cell": 2
   },
   "outputs": [
    {
     "ename": "AssertionError",
     "evalue": "\n################################################################################\nQA Check unsuccessful for atleast one of the dataset, with the following errors:\n \tDuplicateDifferingOhlcvCheck: FAILED: Duplicate table contents:\n\t         timestamp    open    high     low   close  volume currency_pair exchange_id\n186  1704314520000  315.72  315.94  315.53  315.71  493.17      BNB_USDT     binance\n187  1704314520000  315.72  315.94  315.53  315.75  509.53      BNB_USDT     binance\n\tOuterCrossOHLCVDataCheck: FAILED: Different data found:\n\t         timestamp  open_A  high_A   low_A  close_A  volume_A currency_pair exchange_id_A  open_B  high_B   low_B  close_B  volume_B exchange_id_B  QAcheck\n186  1704314520000  315.72  315.94  315.53   315.71    493.17      BNB_USDT       binance  315.72  315.94  315.53   315.75    509.53       binance    False\n################################################################################\n",
     "output_type": "error",
     "traceback": [
      "\u001b[0;31m---------------------------------------------------------------------------\u001b[0m",
      "\u001b[0;31mAssertionError\u001b[0m                            Traceback (most recent call last)",
      "Cell \u001b[0;32mIn[26], line 2\u001b[0m\n\u001b[1;32m      1\u001b[0m \u001b[38;5;28;01mif\u001b[39;00m data_qa_outcome \u001b[38;5;241m==\u001b[39m \u001b[38;5;124m\"\u001b[39m\u001b[38;5;124mFAILED\u001b[39m\u001b[38;5;124m\"\u001b[39m:\n\u001b[0;32m----> 2\u001b[0m     \u001b[43mhdbg\u001b[49m\u001b[38;5;241;43m.\u001b[39;49m\u001b[43mdfatal\u001b[49m\u001b[43m(\u001b[49m\u001b[38;5;124;43mf\u001b[39;49m\u001b[38;5;124;43m\"\u001b[39;49m\u001b[38;5;124;43mQA Check unsuccessful for atleast one of the dataset, with the following errors:\u001b[39;49m\u001b[38;5;130;43;01m\\n\u001b[39;49;00m\u001b[38;5;124;43m \u001b[39;49m\u001b[38;5;132;43;01m{\u001b[39;49;00m\u001b[43mfull_error_msgs\u001b[49m\u001b[38;5;132;43;01m}\u001b[39;49;00m\u001b[38;5;124;43m\"\u001b[39;49m\u001b[43m)\u001b[49m\n",
      "File \u001b[0;32m/app/amp/helpers/hdbg.py:71\u001b[0m, in \u001b[0;36mdfatal\u001b[0;34m(message, assertion_type)\u001b[0m\n\u001b[1;32m     69\u001b[0m \u001b[38;5;28;01mif\u001b[39;00m assertion_type \u001b[38;5;129;01mis\u001b[39;00m \u001b[38;5;28;01mNone\u001b[39;00m:\n\u001b[1;32m     70\u001b[0m     assertion_type \u001b[38;5;241m=\u001b[39m \u001b[38;5;167;01mAssertionError\u001b[39;00m\n\u001b[0;32m---> 71\u001b[0m \u001b[38;5;28;01mraise\u001b[39;00m assertion_type(ret)\n",
      "\u001b[0;31mAssertionError\u001b[0m: \n################################################################################\nQA Check unsuccessful for atleast one of the dataset, with the following errors:\n \tDuplicateDifferingOhlcvCheck: FAILED: Duplicate table contents:\n\t         timestamp    open    high     low   close  volume currency_pair exchange_id\n186  1704314520000  315.72  315.94  315.53  315.71  493.17      BNB_USDT     binance\n187  1704314520000  315.72  315.94  315.53  315.75  509.53      BNB_USDT     binance\n\tOuterCrossOHLCVDataCheck: FAILED: Different data found:\n\t         timestamp  open_A  high_A   low_A  close_A  volume_A currency_pair exchange_id_A  open_B  high_B   low_B  close_B  volume_B exchange_id_B  QAcheck\n186  1704314520000  315.72  315.94  315.53   315.71    493.17      BNB_USDT       binance  315.72  315.94  315.53   315.75    509.53       binance    False\n################################################################################\n"
     ]
    }
   ],
   "source": [
    "if data_qa_outcome == \"FAILED\":\n",
    "    hdbg.dfatal(f\"QA Check unsuccessful for atleast one of the dataset, with the following errors:\\n {full_error_msgs}\")"
   ]
  },
  {
   "cell_type": "code",
   "execution_count": null,
   "id": "5bab3cea",
   "metadata": {
    "ExecuteTime": {
     "end_time": "2024-02-19T11:34:09.865461Z",
     "start_time": "2024-02-19T11:34:09.865437Z"
    }
   },
   "outputs": [],
   "source": [
    "# This can be read by the invoke task to find out if QA was successful.\n",
    "hio.to_file(\"/app/ck_data_reconciliation_outcome.txt\", data_qa_outcome)"
   ]
  },
  {
   "cell_type": "code",
   "execution_count": null,
   "id": "5c16b322",
   "metadata": {},
   "outputs": [],
   "source": []
  }
 ],
 "metadata": {
  "kernelspec": {
   "display_name": "Python 3 (ipykernel)",
   "language": "python",
   "name": "python3"
  },
  "language_info": {
   "codemirror_mode": {
    "name": "ipython",
    "version": 3
   },
   "file_extension": ".py",
   "mimetype": "text/x-python",
   "name": "python",
   "nbconvert_exporter": "python",
   "pygments_lexer": "ipython3",
   "version": "3.9.5"
  },
  "toc": {
   "base_numbering": 1,
   "nav_menu": {},
   "number_sections": true,
   "sideBar": true,
   "skip_h1_title": false,
   "title_cell": "Table of Contents",
   "title_sidebar": "Contents",
   "toc_cell": false,
   "toc_position": {},
   "toc_section_display": true,
   "toc_window_display": false
  }
 },
 "nbformat": 4,
 "nbformat_minor": 5
}
