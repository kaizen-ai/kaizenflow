{
 "cells": [
  {
   "cell_type": "markdown",
   "id": "f79cb17c",
   "metadata": {},
   "source": [
    "# Cross dataset Bid/Ask Data QA\n",
    "\n",
    "This notebook is used to perform quality assurance of cross dataset Bid/Ask data.\n",
    "As displayed below, the notebook assumes environment variables for the data QA parameters. The intended usage\n",
    "is via invoke target `dev_scripts.lib_tasks_data_qa.run_cross_dataset_qa_notebook`"
   ]
  },
  {
   "cell_type": "markdown",
   "id": "74fffce0",
   "metadata": {},
   "source": [
    "## Imports and logging"
   ]
  },
  {
   "cell_type": "code",
   "execution_count": null,
   "id": "33463922",
   "metadata": {
    "ExecuteTime": {
     "end_time": "2023-01-27T16:01:07.339018Z",
     "start_time": "2023-01-27T16:01:04.380588Z"
    }
   },
   "outputs": [],
   "source": [
    "import argparse\n",
    "import logging\n",
    "\n",
    "import pandas as pd\n",
    "\n",
    "import core.config as cconfig\n",
    "import data_schema.dataset_schema_utils as dsdascut\n",
    "import helpers.hdbg as hdbg\n",
    "import helpers.henv as henv\n",
    "import helpers.hio as hio\n",
    "import helpers.hprint as hprint\n",
    "import im_v2.common.data.client.im_raw_data_client as imvcdcimrdc\n",
    "import im_v2.common.data.extract.data_qa as imvcdedaqa\n",
    "import im_v2.common.data.qa.dataset_validator as imvcdqdava\n",
    "import im_v2.common.data.qa.qa_check as imvcdqqach\n",
    "import im_v2.common.universe.universe as imvcounun"
   ]
  },
  {
   "cell_type": "markdown",
   "id": "ee01fc74",
   "metadata": {
    "ExecuteTime": {
     "end_time": "2022-11-02T15:57:34.347866Z",
     "start_time": "2022-11-02T15:57:34.345134Z"
    }
   },
   "source": [
    "### Logging"
   ]
  },
  {
   "cell_type": "code",
   "execution_count": null,
   "id": "36d9e44a",
   "metadata": {
    "ExecuteTime": {
     "end_time": "2023-01-27T16:01:18.928698Z",
     "start_time": "2023-01-27T16:01:18.692389Z"
    }
   },
   "outputs": [],
   "source": [
    "hdbg.init_logger(verbosity=logging.INFO)\n",
    "\n",
    "_LOG = logging.getLogger(__name__)\n",
    "\n",
    "_LOG.info(\"%s\", henv.get_system_signature()[0])\n",
    "\n",
    "hprint.config_notebook()"
   ]
  },
  {
   "cell_type": "markdown",
   "id": "ebd1c29f",
   "metadata": {},
   "source": [
    "## QA parameters\n",
    "\n",
    "To assist debugging you can override any of the parameters after its loaded and rerun QA"
   ]
  },
  {
   "cell_type": "code",
   "execution_count": null,
   "id": "1ea45c7d",
   "metadata": {
    "ExecuteTime": {
     "end_time": "2023-01-27T16:01:22.847717Z",
     "start_time": "2023-01-27T16:01:22.843716Z"
    }
   },
   "outputs": [],
   "source": [
    "env_var_name = \"CK_DATA_RECONCILIATION_CONFIG\"\n",
    "config = cconfig.Config.from_env_var(env_var_name)"
   ]
  },
  {
   "cell_type": "code",
   "execution_count": null,
   "id": "492481a7",
   "metadata": {
    "ExecuteTime": {
     "end_time": "2023-01-23T16:20:03.002121Z",
     "start_time": "2023-01-23T16:20:02.866509Z"
    }
   },
   "outputs": [],
   "source": [
    "config = config.to_dict()\n",
    "# bid_ask_accuracy needs to be cast to int if its defined\n",
    "config[\"bid_ask_accuracy\"] = (\n",
    "    int(config[\"bid_ask_accuracy\"]) if config[\"bid_ask_accuracy\"] else None\n",
    ")\n",
    "# bid_ask_depth needs to be cast to int if its defined\n",
    "# config[\"bid_ask_depth\"] = int(config[\"bid_ask_depth\"]) if config[\"bid_ask_depth\"] else None\n",
    "config"
   ]
  },
  {
   "cell_type": "markdown",
   "id": "2a33a55c",
   "metadata": {},
   "source": [
    "### Parse dataset signature\n",
    "\n",
    "1. Load dataset schema\n",
    "2. Validate dataset signature\n",
    "3. Parse dataset attributes to drive some of the QA configuration"
   ]
  },
  {
   "cell_type": "code",
   "execution_count": null,
   "id": "429d9458",
   "metadata": {
    "ExecuteTime": {
     "end_time": "2023-01-27T16:01:28.383055Z",
     "start_time": "2023-01-27T16:01:28.322307Z"
    }
   },
   "outputs": [],
   "source": [
    "dataset_schema = dsdascut.get_dataset_schema()\n",
    "dsdascut.validate_dataset_signature(config[\"dataset_signature1\"], dataset_schema)\n",
    "dsdascut.validate_dataset_signature(config[\"dataset_signature2\"], dataset_schema)"
   ]
  },
  {
   "cell_type": "code",
   "execution_count": null,
   "id": "b0ccf635",
   "metadata": {
    "ExecuteTime": {
     "end_time": "2023-01-27T16:01:38.144044Z",
     "start_time": "2023-01-27T16:01:38.138766Z"
    }
   },
   "outputs": [],
   "source": [
    "dataset_signature_as_dict1 = dsdascut.parse_dataset_signature_to_args(\n",
    "    config[\"dataset_signature1\"], dataset_schema\n",
    ")\n",
    "dataset_signature_as_dict1"
   ]
  },
  {
   "cell_type": "code",
   "execution_count": null,
   "id": "302df279",
   "metadata": {
    "ExecuteTime": {
     "end_time": "2023-01-27T16:01:41.110515Z",
     "start_time": "2023-01-27T16:01:41.106575Z"
    }
   },
   "outputs": [],
   "source": [
    "dataset_signature_as_dict2 = dsdascut.parse_dataset_signature_to_args(\n",
    "    config[\"dataset_signature2\"], dataset_schema\n",
    ")\n",
    "dataset_signature_as_dict2"
   ]
  },
  {
   "cell_type": "markdown",
   "id": "7e9686a8",
   "metadata": {
    "ExecuteTime": {
     "end_time": "2022-10-28T14:48:05.494917Z",
     "start_time": "2022-10-28T14:48:05.490692Z"
    }
   },
   "source": [
    "## Load Data\n",
    "\n",
    "TODO(Juraj): At the moment assume that first dataset argument is a DB dataset and second is from S3 because of small preprocessing operations needed before performing QA"
   ]
  },
  {
   "cell_type": "markdown",
   "id": "5e4bf1d8",
   "metadata": {},
   "source": [
    "### First dataset\n",
    "\n",
    "\\#TODO(Juraj): It is assumed that the first dataset signature refers to the Postgres DB data"
   ]
  },
  {
   "cell_type": "code",
   "execution_count": null,
   "id": "61cfcc30",
   "metadata": {
    "ExecuteTime": {
     "end_time": "2023-01-27T16:20:42.474029Z",
     "start_time": "2023-01-27T16:20:42.097284Z"
    }
   },
   "outputs": [],
   "source": [
    "raw_data_client = imvcdcimrdc.RawDataReader(\n",
    "    config[\"dataset_signature1\"], stage=config[\"stage\"]\n",
    ")\n",
    "data1 = raw_data_client.read_data(\n",
    "    pd.Timestamp(config[\"start_timestamp\"]), pd.Timestamp(config[\"end_timestamp\"])\n",
    ")"
   ]
  },
  {
   "cell_type": "code",
   "execution_count": null,
   "id": "dc68d350",
   "metadata": {
    "ExecuteTime": {
     "end_time": "2023-01-27T16:20:43.009828Z",
     "start_time": "2023-01-27T16:20:42.998583Z"
    }
   },
   "outputs": [],
   "source": [
    "data1.head()"
   ]
  },
  {
   "cell_type": "markdown",
   "id": "c0827068",
   "metadata": {},
   "source": [
    "### Second dataset"
   ]
  },
  {
   "cell_type": "code",
   "execution_count": null,
   "id": "a1a32b55",
   "metadata": {
    "ExecuteTime": {
     "end_time": "2023-01-27T16:21:07.189964Z",
     "start_time": "2023-01-27T16:20:44.181270Z"
    }
   },
   "outputs": [],
   "source": [
    "raw_data_client = imvcdcimrdc.RawDataReader(\n",
    "    config[\"dataset_signature2\"], stage=config[\"stage\"]\n",
    ")\n",
    "data2 = raw_data_client.read_data(\n",
    "    pd.Timestamp(config[\"start_timestamp\"]), pd.Timestamp(config[\"end_timestamp\"])\n",
    ")\n",
    "data2 = data2.reset_index(drop=True)\n",
    "data2[\"timestamp\"] = data2[\"timestamp\"] * 1000"
   ]
  },
  {
   "cell_type": "code",
   "execution_count": null,
   "id": "a03b3a36",
   "metadata": {
    "ExecuteTime": {
     "end_time": "2023-01-27T16:21:07.205330Z",
     "start_time": "2023-01-27T16:21:07.192676Z"
    }
   },
   "outputs": [],
   "source": [
    "data2.head()"
   ]
  },
  {
   "cell_type": "markdown",
   "id": "db9ea1f9",
   "metadata": {},
   "source": [
    "### Preprocess raw data\n",
    "- remove columns unimportant for QA\n",
    "- remove duplicates"
   ]
  },
  {
   "cell_type": "code",
   "execution_count": null,
   "id": "27a49326",
   "metadata": {
    "ExecuteTime": {
     "end_time": "2023-01-27T16:53:09.518558Z",
     "start_time": "2023-01-27T16:53:09.487567Z"
    }
   },
   "outputs": [],
   "source": [
    "cols_to_keep = imvcdqqach.get_multilevel_bid_ask_column_names() + [\n",
    "    \"timestamp\",\n",
    "    \"currency_pair\",\n",
    "    \"exchange_id\",\n",
    "]\n",
    "data1 = data1[cols_to_keep].sort_values(\n",
    "    [\"currency_pair\", \"timestamp\"], ascending=True, ignore_index=True\n",
    ")\n",
    "data2 = data2[cols_to_keep].sort_values(\n",
    "    [\"currency_pair\", \"timestamp\"], ascending=True, ignore_index=True\n",
    ")"
   ]
  },
  {
   "cell_type": "code",
   "execution_count": null,
   "id": "87b28d7d",
   "metadata": {
    "ExecuteTime": {
     "end_time": "2023-01-27T16:53:10.248359Z",
     "start_time": "2023-01-27T16:53:10.210600Z"
    }
   },
   "outputs": [],
   "source": [
    "data1 = data1.drop_duplicates()\n",
    "data2 = data2.drop_duplicates()"
   ]
  },
  {
   "cell_type": "code",
   "execution_count": null,
   "id": "9b3838da",
   "metadata": {
    "ExecuteTime": {
     "end_time": "2023-01-27T16:53:10.644082Z",
     "start_time": "2023-01-27T16:53:10.634827Z"
    }
   },
   "outputs": [],
   "source": [
    "data1.head()"
   ]
  },
  {
   "cell_type": "code",
   "execution_count": null,
   "id": "5a1ae7d2",
   "metadata": {
    "ExecuteTime": {
     "end_time": "2023-01-27T16:53:11.865669Z",
     "start_time": "2023-01-27T16:53:11.855609Z"
    }
   },
   "outputs": [],
   "source": [
    "data2.head()"
   ]
  },
  {
   "cell_type": "markdown",
   "id": "400935eb",
   "metadata": {},
   "source": [
    "## Initialize QA checks"
   ]
  },
  {
   "cell_type": "markdown",
   "id": "b2785b1c",
   "metadata": {},
   "source": [
    "### Single dataset checks"
   ]
  },
  {
   "cell_type": "code",
   "execution_count": null,
   "id": "591048db",
   "metadata": {
    "ExecuteTime": {
     "end_time": "2023-01-27T16:53:27.673417Z",
     "start_time": "2023-01-27T16:53:27.670567Z"
    }
   },
   "outputs": [],
   "source": [
    "datasets = [data1, data2]\n",
    "signatures = [dataset_signature_as_dict1, dataset_signature_as_dict2]\n",
    "qa_check_lists = []"
   ]
  },
  {
   "cell_type": "code",
   "execution_count": null,
   "id": "3fe97b82",
   "metadata": {
    "ExecuteTime": {
     "end_time": "2023-01-27T16:53:28.733266Z",
     "start_time": "2023-01-27T16:53:28.728625Z"
    }
   },
   "outputs": [],
   "source": [
    "for signature in signatures:\n",
    "    # TODO(Juraj): this behavior should be encapsulated in some utility function\n",
    "    data_frequency = \"T\" if \"1min\" in signature[\"action_tag\"] else \"S\"\n",
    "    vendor_name = signature[\"vendor\"]\n",
    "    vendor_name = vendor_name.upper() if vendor_name == \"ccxt\" else vendor_name\n",
    "    mode = \"download\"\n",
    "    version = signature[\"universe\"].replace(\"_\", \".\")\n",
    "    exchange_id = signature[\"exchange_id\"]\n",
    "    universe = imvcounun.get_vendor_universe(vendor_name, mode, version=version)\n",
    "    universe_list = universe[exchange_id]\n",
    "    qa_check_list = [\n",
    "        imvcdqqach.GapsInTimeIntervalBySymbolsCheck(\n",
    "            config[\"start_timestamp\"], config[\"end_timestamp\"], data_frequency\n",
    "        ),\n",
    "        imvcdqqach.FullUniversePresentCheck(universe_list),\n",
    "    ]\n",
    "    qa_check_lists.append(qa_check_list)"
   ]
  },
  {
   "cell_type": "markdown",
   "id": "1aeb6fa4",
   "metadata": {},
   "source": [
    "### Cross dataset checks"
   ]
  },
  {
   "cell_type": "code",
   "execution_count": null,
   "id": "a2ace0c0",
   "metadata": {
    "ExecuteTime": {
     "end_time": "2023-02-06T13:13:50.813332Z",
     "start_time": "2023-02-06T13:13:50.679434Z"
    }
   },
   "outputs": [],
   "source": [
    "# Set up accuracy threshold dict for bid/ask columns\n",
    "# TODO(Juraj): Add support in the invocation to pass different values for different columns\n",
    "accuracy_threshold_dict = {\n",
    "    col: config[\"bid_ask_accuracy\"]\n",
    "    for col in imvcdqqach.get_multilevel_bid_ask_column_names()\n",
    "}"
   ]
  },
  {
   "cell_type": "code",
   "execution_count": null,
   "id": "2ac6d821",
   "metadata": {
    "ExecuteTime": {
     "end_time": "2023-01-27T16:53:30.225073Z",
     "start_time": "2023-01-27T16:53:30.222649Z"
    }
   },
   "outputs": [],
   "source": [
    "cross_qa_check_list = [\n",
    "    imvcdqqach.BidAskDataFramesSimilarityCheck(accuracy_threshold_dict)\n",
    "]"
   ]
  },
  {
   "cell_type": "markdown",
   "id": "47d4deff",
   "metadata": {},
   "source": [
    "## Initialize QA validators"
   ]
  },
  {
   "cell_type": "code",
   "execution_count": null,
   "id": "9bca8f0b",
   "metadata": {
    "ExecuteTime": {
     "end_time": "2023-01-27T16:53:31.141334Z",
     "start_time": "2023-01-27T16:53:31.138709Z"
    }
   },
   "outputs": [],
   "source": [
    "dataset_validator1 = imvcdqdava.DataFrameDatasetValidator(qa_check_lists[0])\n",
    "dataset_validator2 = imvcdqdava.DataFrameDatasetValidator(qa_check_lists[1])\n",
    "cross_dataset_validator = imvcdqdava.DataFrameDatasetValidator(\n",
    "    cross_qa_check_list\n",
    ")"
   ]
  },
  {
   "cell_type": "markdown",
   "id": "7664b43b",
   "metadata": {},
   "source": [
    "## Run QA"
   ]
  },
  {
   "cell_type": "code",
   "execution_count": null,
   "id": "3d5504c1",
   "metadata": {
    "ExecuteTime": {
     "end_time": "2023-01-27T16:53:32.481845Z",
     "start_time": "2023-01-27T16:53:32.425678Z"
    }
   },
   "outputs": [],
   "source": [
    "try:\n",
    "    # TODO(Juraj): bid/ask data quality is very variable when collected in realtime for a big universe.\n",
    "    # _LOG.info(\"First dataset QA:\")\n",
    "    # dataset_validator1.run_all_checks([data1])\n",
    "    _LOG.info(\"Second dataset QA:\")\n",
    "    dataset_validator2.run_all_checks([data2])\n",
    "    _LOG.info(\"Cross dataset QA:\")\n",
    "    cross_dataset_validator.run_all_checks(datasets)\n",
    "except Exception as e:\n",
    "    # Pass information about success or failure of the QA\n",
    "    #  back to the task that invoked it.\n",
    "    data_qa_outcome = str(e)\n",
    "    raise e\n",
    "# If no exception was raised mark the QA as successful.\n",
    "data_qa_outcome = \"SUCCESS\""
   ]
  },
  {
   "cell_type": "code",
   "execution_count": null,
   "id": "5bab3cea",
   "metadata": {
    "ExecuteTime": {
     "end_time": "2022-11-08T18:52:47.460265Z",
     "start_time": "2022-11-08T18:52:46.944118Z"
    }
   },
   "outputs": [],
   "source": [
    "# This can be read by the invoke task to find out if QA was successful.\n",
    "hio.to_file(\"/app/ck_data_reconciliation_outcome.txt\", data_qa_outcome)"
   ]
  }
 ],
 "metadata": {
  "kernelspec": {
   "display_name": "Python 3 (ipykernel)",
   "language": "python",
   "name": "python3"
  },
  "language_info": {
   "codemirror_mode": {
    "name": "ipython",
    "version": 3
   },
   "file_extension": ".py",
   "mimetype": "text/x-python",
   "name": "python",
   "nbconvert_exporter": "python",
   "pygments_lexer": "ipython3",
   "version": "3.9.5"
  },
  "toc": {
   "base_numbering": 1,
   "nav_menu": {},
   "number_sections": true,
   "sideBar": true,
   "skip_h1_title": false,
   "title_cell": "Table of Contents",
   "title_sidebar": "Contents",
   "toc_cell": false,
   "toc_position": {},
   "toc_section_display": true,
   "toc_window_display": false
  }
 },
 "nbformat": 4,
 "nbformat_minor": 5
}
