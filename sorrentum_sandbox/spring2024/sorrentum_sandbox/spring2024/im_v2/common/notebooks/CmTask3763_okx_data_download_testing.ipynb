{
 "cells": [
  {
   "cell_type": "markdown",
   "id": "eaf05ec1",
   "metadata": {
    "heading_collapsed": true
   },
   "source": [
    "# Imports"
   ]
  },
  {
   "cell_type": "code",
   "execution_count": 5,
   "id": "0d80c28c",
   "metadata": {
    "ExecuteTime": {
     "end_time": "2023-02-16T17:08:09.891913Z",
     "start_time": "2023-02-16T17:08:07.186295Z"
    },
    "hidden": true
   },
   "outputs": [
    {
     "name": "stderr",
     "output_type": "stream",
     "text": [
      "/app/core/signal_processing/decorrelation.py:12: TqdmExperimentalWarning: Using `tqdm.autonotebook.tqdm` in notebook mode. Use `tqdm.tqdm` instead to force console mode (e.g. in jupyter console)\n",
      "  from tqdm.autonotebook import tqdm\n"
     ]
    }
   ],
   "source": [
    "import logging\n",
    "\n",
    "import pandas as pd\n",
    "\n",
    "import helpers.hdbg as hdbg\n",
    "import helpers.henv as henv\n",
    "import helpers.hprint as hprint\n",
    "import im_v2.common.data.client.im_raw_data_client as imvcdcimrdc\n",
    "import im_v2.common.data.qa.dataset_validator as imvcdqdava\n",
    "import im_v2.common.data.qa.qa_check as imvcdqqach\n",
    "import im_v2.common.universe as ivcu\n",
    "import im_v2.common.universe.universe as imvcounun"
   ]
  },
  {
   "cell_type": "code",
   "execution_count": 6,
   "id": "aecd42b2",
   "metadata": {
    "ExecuteTime": {
     "end_time": "2023-02-16T17:08:10.128930Z",
     "start_time": "2023-02-16T17:08:09.894789Z"
    },
    "hidden": true
   },
   "outputs": [
    {
     "name": "stdout",
     "output_type": "stream",
     "text": [
      "\u001b[0m\u001b[36mINFO\u001b[0m: > cmd='/venv/lib/python3.8/site-packages/ipykernel_launcher.py -f /home/.local/share/jupyter/runtime/kernel-33082fde-479a-4c25-88d0-b7813c040797.json'\n",
      "WARNING: Running in Jupyter\n",
      "\u001b[31m-----------------------------------------------------------------------------\n",
      "This code is not in sync with the container:\n",
      "code_version='1.4.2' != container_version='1.4.0'\n",
      "-----------------------------------------------------------------------------\n",
      "You need to:\n",
      "- merge origin/master into your branch with `invoke git_merge_master`\n",
      "- pull the latest container with `invoke docker_pull`\u001b[0m\n",
      "INFO  # Git\n",
      "  branch_name='CmTask3831_Fix_processing_incoming_websocket_data'\n",
      "  hash='a597c8832'\n",
      "  # Last commits:\n",
      "    * a597c8832 vlady    CmTask3763: playing with ccxt websockets, okx data download testing (   4 hours ago) Thu Feb 16 13:34:36 2023  (HEAD -> CmTask3831_Fix_processing_incoming_websocket_data, origin/CmTask3831_Fix_processing_incoming_websocket_data)\n",
      "    * b1853feeb Vlad     CmTask3866_Hot_fix_in_CCXT_extractor,_OKX_echange_for_the_handing_rest_and_websockets (#3867) (53 minutes ago) Thu Feb 16 16:15:20 2023  (origin/master, origin/HEAD, master)\n",
      "    * eeeceba90 Paul     Cm task3856 add execution stats data (#3869)                      (74 minutes ago) Thu Feb 16 15:54:30 2023           \n",
      "# Machine info\n",
      "  system=Linux\n",
      "  node name=e12ed730f9c0\n",
      "  release=5.15.0-1028-aws\n",
      "  version=#32~20.04.1-Ubuntu SMP Mon Jan 9 18:02:08 UTC 2023\n",
      "  machine=x86_64\n",
      "  processor=x86_64\n",
      "  cpu count=8\n",
      "  cpu freq=scpufreq(current=2499.998, min=0.0, max=0.0)\n",
      "  memory=svmem(total=33292881920, available=25828827136, percent=22.4, used=6997942272, free=935432192, active=15933419520, inactive=14292938752, buffers=1488404480, cached=23871102976, shared=2658304, slab=1795178496)\n",
      "  disk usage=sdiskusage(total=156052275200, used=30187913216, free=125847584768, percent=19.3)\n",
      "# Packages\n",
      "  python: 3.8.10\n",
      "  cvxopt: 1.3.0\n",
      "  cvxpy: 1.2.2\n",
      "  gluonnlp: ?\n",
      "  gluonts: 0.6.7\n",
      "  joblib: 1.2.0\n",
      "  mxnet: 1.9.1\n",
      "  numpy: 1.23.4\n",
      "  pandas: 1.5.1\n",
      "  pyarrow: 10.0.0\n",
      "  scipy: 1.9.3\n",
      "  seaborn: 0.12.1\n",
      "  sklearn: 1.1.3\n",
      "  statsmodels: 0.13.5\n"
     ]
    }
   ],
   "source": [
    "hdbg.init_logger(verbosity=logging.INFO)\n",
    "\n",
    "_LOG = logging.getLogger(__name__)\n",
    "\n",
    "_LOG.info(\"%s\", henv.get_system_signature()[0])\n",
    "\n",
    "hprint.config_notebook()"
   ]
  },
  {
   "cell_type": "markdown",
   "id": "725e56c7",
   "metadata": {
    "heading_collapsed": true
   },
   "source": [
    "# One time download okx data to DB"
   ]
  },
  {
   "cell_type": "markdown",
   "id": "d83ddb21",
   "metadata": {
    "hidden": true
   },
   "source": [
    "## OHLCV"
   ]
  },
  {
   "cell_type": "code",
   "execution_count": 1,
   "id": "b3e06ae4",
   "metadata": {
    "ExecuteTime": {
     "end_time": "2023-02-10T05:26:21.577450Z",
     "start_time": "2023-02-10T05:26:01.461192Z"
    },
    "hidden": true
   },
   "outputs": [
    {
     "name": "stdout",
     "output_type": "stream",
     "text": [
      "\u001b[0m\u001b[36mINFO\u001b[0m: > cmd='/app/im_v2/ccxt/data/extract/download_exchange_data_to_db.py --download_mode bulk --downloading_entity manual --action_tag downloaded_1min --vendor ccxt --start_timestamp 2023-01-01 10:00:00+00:00 --end_timestamp 2023-01-01 17:30:00+00:00 --exchange_id okx --universe v7.3 --db_stage test --db_table ccxt_ohlcv_futures --s3_path s3://cryptokaizen-data-test/ --data_type ohlcv --data_format postgres --contract_type futures'\n",
      "report_memory_usage=False report_cpu_usage=False\n",
      "\u001b[36mINFO\u001b[0m: Saving log to file '/app/im_v2/ccxt/data/extract/download_exchange_data_to_db.py.log'\n",
      "00:26:11 - \u001b[36mINFO \u001b[0m db_utils.py get_connection:84                          Unable to fetch DB credentials from environment variables: \n",
      "\t'POSTGRES_HOST'\n",
      "\tAttempting env file method.\n",
      "00:26:11 - \u001b[36mINFO \u001b[0m db_utils.py get_connection:103                         Created test DB connection: \n",
      " <connection object at 0x7fc8571df680; dsn: 'user=ck_test password=xxx dbname=test.im_data_db host=dev-im-db.cpox8ul7pzan.eu-north-1.rds.amazonaws.com port=5432', closed: 0>\n",
      "00:26:11 - \u001b[41mWARN \u001b[0m db_utils.py save_data_to_db:378                        The DataFame is empty, nothing to insert.\n"
     ]
    },
    {
     "name": "stderr",
     "output_type": "stream",
     "text": [
      "100%|██████████| 1/1 [00:00<00:00,  2.18it/s]\n",
      "/app/im_v2/ccxt/data/extract/extractor.py:173: FutureWarning: is_monotonic is deprecated and will be removed in a future version. Use is_monotonic_increasing instead.\n",
      "  hdbg.dassert(all_bars_df.timestamp.is_monotonic)\n"
     ]
    },
    {
     "name": "stdout",
     "output_type": "stream",
     "text": [
      "00:26:12 - \u001b[41mWARN \u001b[0m db_utils.py save_data_to_db:378                        The DataFame is empty, nothing to insert.\n"
     ]
    },
    {
     "name": "stderr",
     "output_type": "stream",
     "text": [
      "100%|██████████| 1/1 [00:00<00:00,  2.21it/s]\n",
      "/app/im_v2/ccxt/data/extract/extractor.py:173: FutureWarning: is_monotonic is deprecated and will be removed in a future version. Use is_monotonic_increasing instead.\n",
      "  hdbg.dassert(all_bars_df.timestamp.is_monotonic)\n"
     ]
    },
    {
     "name": "stdout",
     "output_type": "stream",
     "text": [
      "00:26:12 - \u001b[41mWARN \u001b[0m db_utils.py save_data_to_db:378                        The DataFame is empty, nothing to insert.\n"
     ]
    },
    {
     "name": "stderr",
     "output_type": "stream",
     "text": [
      "100%|██████████| 1/1 [00:00<00:00,  2.16it/s]\n",
      "/app/im_v2/ccxt/data/extract/extractor.py:173: FutureWarning: is_monotonic is deprecated and will be removed in a future version. Use is_monotonic_increasing instead.\n",
      "  hdbg.dassert(all_bars_df.timestamp.is_monotonic)\n"
     ]
    },
    {
     "name": "stdout",
     "output_type": "stream",
     "text": [
      "00:26:13 - \u001b[41mWARN \u001b[0m db_utils.py save_data_to_db:378                        The DataFame is empty, nothing to insert.\n"
     ]
    },
    {
     "name": "stderr",
     "output_type": "stream",
     "text": [
      "100%|██████████| 1/1 [00:00<00:00,  2.14it/s]\n",
      "/app/im_v2/ccxt/data/extract/extractor.py:173: FutureWarning: is_monotonic is deprecated and will be removed in a future version. Use is_monotonic_increasing instead.\n",
      "  hdbg.dassert(all_bars_df.timestamp.is_monotonic)\n"
     ]
    },
    {
     "name": "stdout",
     "output_type": "stream",
     "text": [
      "00:26:13 - \u001b[41mWARN \u001b[0m db_utils.py save_data_to_db:378                        The DataFame is empty, nothing to insert.\n"
     ]
    },
    {
     "name": "stderr",
     "output_type": "stream",
     "text": [
      "100%|██████████| 1/1 [00:00<00:00,  2.21it/s]\n",
      "/app/im_v2/ccxt/data/extract/extractor.py:173: FutureWarning: is_monotonic is deprecated and will be removed in a future version. Use is_monotonic_increasing instead.\n",
      "  hdbg.dassert(all_bars_df.timestamp.is_monotonic)\n"
     ]
    },
    {
     "name": "stdout",
     "output_type": "stream",
     "text": [
      "00:26:14 - \u001b[41mWARN \u001b[0m db_utils.py save_data_to_db:378                        The DataFame is empty, nothing to insert.\n"
     ]
    },
    {
     "name": "stderr",
     "output_type": "stream",
     "text": [
      "100%|██████████| 1/1 [00:00<00:00,  2.20it/s]\n",
      "/app/im_v2/ccxt/data/extract/extractor.py:173: FutureWarning: is_monotonic is deprecated and will be removed in a future version. Use is_monotonic_increasing instead.\n",
      "  hdbg.dassert(all_bars_df.timestamp.is_monotonic)\n"
     ]
    },
    {
     "name": "stdout",
     "output_type": "stream",
     "text": [
      "00:26:14 - \u001b[41mWARN \u001b[0m db_utils.py save_data_to_db:378                        The DataFame is empty, nothing to insert.\n"
     ]
    },
    {
     "name": "stderr",
     "output_type": "stream",
     "text": [
      "100%|██████████| 1/1 [00:00<00:00,  2.18it/s]\n",
      "/app/im_v2/ccxt/data/extract/extractor.py:173: FutureWarning: is_monotonic is deprecated and will be removed in a future version. Use is_monotonic_increasing instead.\n",
      "  hdbg.dassert(all_bars_df.timestamp.is_monotonic)\n"
     ]
    },
    {
     "name": "stdout",
     "output_type": "stream",
     "text": [
      "00:26:15 - \u001b[41mWARN \u001b[0m db_utils.py save_data_to_db:378                        The DataFame is empty, nothing to insert.\n"
     ]
    },
    {
     "name": "stderr",
     "output_type": "stream",
     "text": [
      "100%|██████████| 1/1 [00:00<00:00,  2.19it/s]\n",
      "/app/im_v2/ccxt/data/extract/extractor.py:173: FutureWarning: is_monotonic is deprecated and will be removed in a future version. Use is_monotonic_increasing instead.\n",
      "  hdbg.dassert(all_bars_df.timestamp.is_monotonic)\n"
     ]
    },
    {
     "name": "stdout",
     "output_type": "stream",
     "text": [
      "00:26:15 - \u001b[41mWARN \u001b[0m db_utils.py save_data_to_db:378                        The DataFame is empty, nothing to insert.\n"
     ]
    },
    {
     "name": "stderr",
     "output_type": "stream",
     "text": [
      "100%|██████████| 1/1 [00:00<00:00,  2.20it/s]\n",
      "/app/im_v2/ccxt/data/extract/extractor.py:173: FutureWarning: is_monotonic is deprecated and will be removed in a future version. Use is_monotonic_increasing instead.\n",
      "  hdbg.dassert(all_bars_df.timestamp.is_monotonic)\n"
     ]
    },
    {
     "name": "stdout",
     "output_type": "stream",
     "text": [
      "00:26:16 - \u001b[41mWARN \u001b[0m db_utils.py save_data_to_db:378                        The DataFame is empty, nothing to insert.\n"
     ]
    },
    {
     "name": "stderr",
     "output_type": "stream",
     "text": [
      "100%|██████████| 1/1 [00:00<00:00,  2.17it/s]\n",
      "/app/im_v2/ccxt/data/extract/extractor.py:173: FutureWarning: is_monotonic is deprecated and will be removed in a future version. Use is_monotonic_increasing instead.\n",
      "  hdbg.dassert(all_bars_df.timestamp.is_monotonic)\n"
     ]
    },
    {
     "name": "stdout",
     "output_type": "stream",
     "text": [
      "00:26:16 - \u001b[41mWARN \u001b[0m db_utils.py save_data_to_db:378                        The DataFame is empty, nothing to insert.\n"
     ]
    },
    {
     "name": "stderr",
     "output_type": "stream",
     "text": [
      "100%|██████████| 1/1 [00:00<00:00,  2.18it/s]\n",
      "/app/im_v2/ccxt/data/extract/extractor.py:173: FutureWarning: is_monotonic is deprecated and will be removed in a future version. Use is_monotonic_increasing instead.\n",
      "  hdbg.dassert(all_bars_df.timestamp.is_monotonic)\n"
     ]
    },
    {
     "name": "stdout",
     "output_type": "stream",
     "text": [
      "00:26:17 - \u001b[41mWARN \u001b[0m db_utils.py save_data_to_db:378                        The DataFame is empty, nothing to insert.\n"
     ]
    },
    {
     "name": "stderr",
     "output_type": "stream",
     "text": [
      "100%|██████████| 1/1 [00:00<00:00,  2.17it/s]\n",
      "/app/im_v2/ccxt/data/extract/extractor.py:173: FutureWarning: is_monotonic is deprecated and will be removed in a future version. Use is_monotonic_increasing instead.\n",
      "  hdbg.dassert(all_bars_df.timestamp.is_monotonic)\n"
     ]
    },
    {
     "name": "stdout",
     "output_type": "stream",
     "text": [
      "00:26:17 - \u001b[41mWARN \u001b[0m db_utils.py save_data_to_db:378                        The DataFame is empty, nothing to insert.\n"
     ]
    },
    {
     "name": "stderr",
     "output_type": "stream",
     "text": [
      "100%|██████████| 1/1 [00:00<00:00,  2.16it/s]\n",
      "/app/im_v2/ccxt/data/extract/extractor.py:173: FutureWarning: is_monotonic is deprecated and will be removed in a future version. Use is_monotonic_increasing instead.\n",
      "  hdbg.dassert(all_bars_df.timestamp.is_monotonic)\n"
     ]
    },
    {
     "name": "stdout",
     "output_type": "stream",
     "text": [
      "00:26:17 - \u001b[41mWARN \u001b[0m db_utils.py save_data_to_db:378                        The DataFame is empty, nothing to insert.\n"
     ]
    },
    {
     "name": "stderr",
     "output_type": "stream",
     "text": [
      "100%|██████████| 1/1 [00:00<00:00,  2.18it/s]\n",
      "/app/im_v2/ccxt/data/extract/extractor.py:173: FutureWarning: is_monotonic is deprecated and will be removed in a future version. Use is_monotonic_increasing instead.\n",
      "  hdbg.dassert(all_bars_df.timestamp.is_monotonic)\n"
     ]
    },
    {
     "name": "stdout",
     "output_type": "stream",
     "text": [
      "00:26:18 - \u001b[41mWARN \u001b[0m db_utils.py save_data_to_db:378                        The DataFame is empty, nothing to insert.\n"
     ]
    },
    {
     "name": "stderr",
     "output_type": "stream",
     "text": [
      "100%|██████████| 1/1 [00:00<00:00,  2.14it/s]\n",
      "/app/im_v2/ccxt/data/extract/extractor.py:173: FutureWarning: is_monotonic is deprecated and will be removed in a future version. Use is_monotonic_increasing instead.\n",
      "  hdbg.dassert(all_bars_df.timestamp.is_monotonic)\n"
     ]
    },
    {
     "name": "stdout",
     "output_type": "stream",
     "text": [
      "00:26:18 - \u001b[41mWARN \u001b[0m db_utils.py save_data_to_db:378                        The DataFame is empty, nothing to insert.\n"
     ]
    },
    {
     "name": "stderr",
     "output_type": "stream",
     "text": [
      "100%|██████████| 1/1 [00:00<00:00,  2.16it/s]\n",
      "/app/im_v2/ccxt/data/extract/extractor.py:173: FutureWarning: is_monotonic is deprecated and will be removed in a future version. Use is_monotonic_increasing instead.\n",
      "  hdbg.dassert(all_bars_df.timestamp.is_monotonic)\n"
     ]
    },
    {
     "name": "stdout",
     "output_type": "stream",
     "text": [
      "00:26:19 - \u001b[41mWARN \u001b[0m db_utils.py save_data_to_db:378                        The DataFame is empty, nothing to insert.\n"
     ]
    },
    {
     "name": "stderr",
     "output_type": "stream",
     "text": [
      "100%|██████████| 1/1 [00:00<00:00,  2.17it/s]\n",
      "/app/im_v2/ccxt/data/extract/extractor.py:173: FutureWarning: is_monotonic is deprecated and will be removed in a future version. Use is_monotonic_increasing instead.\n",
      "  hdbg.dassert(all_bars_df.timestamp.is_monotonic)\n"
     ]
    },
    {
     "name": "stdout",
     "output_type": "stream",
     "text": [
      "00:26:19 - \u001b[41mWARN \u001b[0m db_utils.py save_data_to_db:378                        The DataFame is empty, nothing to insert.\n"
     ]
    },
    {
     "name": "stderr",
     "output_type": "stream",
     "text": [
      "100%|██████████| 1/1 [00:00<00:00,  2.16it/s]\n",
      "/app/im_v2/ccxt/data/extract/extractor.py:173: FutureWarning: is_monotonic is deprecated and will be removed in a future version. Use is_monotonic_increasing instead.\n",
      "  hdbg.dassert(all_bars_df.timestamp.is_monotonic)\n"
     ]
    },
    {
     "name": "stdout",
     "output_type": "stream",
     "text": [
      "00:26:19 - \u001b[36mINFO \u001b[0m hcache.py clear_global_cache:292                       Before clear_global_cache: 'global mem' cache: path='/mnt/tmpfs/tmp.cache.mem', size=32.0 KB\n",
      "00:26:19 - \u001b[41mWARN \u001b[0m hcache.py clear_global_cache:293                       Resetting 'global mem' cache '/mnt/tmpfs/tmp.cache.mem'\n",
      "00:26:19 - \u001b[41mWARN \u001b[0m hcache.py clear_global_cache:303                       Destroying '/mnt/tmpfs/tmp.cache.mem' ...\n",
      "00:26:19 - \u001b[36mINFO \u001b[0m hcache.py clear_global_cache:319                       After clear_global_cache: 'global mem' cache: path='/mnt/tmpfs/tmp.cache.mem', size=nan\n"
     ]
    }
   ],
   "source": [
    "%%bash\n",
    "/app/im_v2/ccxt/data/extract/download_exchange_data_to_db.py \\\n",
    "    --download_mode 'bulk' \\\n",
    "    --downloading_entity 'manual' \\\n",
    "    --action_tag 'downloaded_1min' \\\n",
    "    --vendor 'ccxt' \\\n",
    "    --start_timestamp '2023-01-01 10:00:00+00:00' \\\n",
    "    --end_timestamp '2023-01-01 17:30:00+00:00' \\\n",
    "    --exchange_id 'okx' \\\n",
    "    --universe 'v7.3' \\\n",
    "    --db_stage 'test' \\\n",
    "    --db_table 'ccxt_ohlcv_futures' \\\n",
    "    --s3_path 's3://cryptokaizen-data-test/' \\\n",
    "    --data_type 'ohlcv' \\\n",
    "    --data_format 'postgres' \\\n",
    "    --contract_type 'futures'\n"
   ]
  },
  {
   "cell_type": "markdown",
   "id": "3e9086d6",
   "metadata": {
    "hidden": true
   },
   "source": [
    "### Errors"
   ]
  },
  {
   "cell_type": "markdown",
   "id": "96e078c4",
   "metadata": {
    "hidden": true
   },
   "source": [
    "Next currency pairs is not presented in the okx:\n",
    "- UNFI_USDT\n",
    "- RUNE/USDT\n",
    "- OGN/USDT\n"
   ]
  },
  {
   "cell_type": "markdown",
   "id": "a8400b8d",
   "metadata": {
    "hidden": true
   },
   "source": [
    "## Bid ask"
   ]
  },
  {
   "cell_type": "code",
   "execution_count": 44,
   "id": "6c352535",
   "metadata": {
    "ExecuteTime": {
     "end_time": "2023-02-08T17:17:44.688156Z",
     "start_time": "2023-02-08T17:17:34.882698Z"
    },
    "hidden": true
   },
   "outputs": [
    {
     "name": "stdout",
     "output_type": "stream",
     "text": [
      "\u001b[0m\u001b[36mINFO\u001b[0m: > cmd='/app/im_v2/ccxt/data/extract/download_exchange_data_to_db.py --download_mode bulk --downloading_entity manual --action_tag downloaded_1min --vendor ccxt --start_timestamp 2023-01-01 10:00:00+00:00 --end_timestamp 2023-01-01 20:30:00+00:00 --exchange_id okx --universe v7.3 --db_stage test --db_table ccxt_bid_ask_futures_raw --s3_path s3://cryptokaizen-data-test/ --data_type bid_ask --data_format postgres --contract_type futures'\n",
      "report_memory_usage=False report_cpu_usage=False\n",
      "\u001b[36mINFO\u001b[0m: Saving log to file '/app/im_v2/ccxt/data/extract/download_exchange_data_to_db.py.log'\n",
      "12:17:40 - \u001b[36mINFO \u001b[0m db_utils.py get_connection:84                          Unable to fetch DB credentials from environment variables: \n",
      "\t'POSTGRES_HOST'\n",
      "\tAttempting env file method.\n",
      "12:17:40 - \u001b[36mINFO \u001b[0m db_utils.py get_connection:103                         Created test DB connection: \n",
      " <connection object at 0x7f8e1f579680; dsn: 'user=ck_test password=xxx dbname=test.im_data_db host=dev-im-db.cpox8ul7pzan.eu-north-1.rds.amazonaws.com port=5432', closed: 0>\n",
      "12:17:44 - \u001b[36mINFO \u001b[0m hcache.py clear_global_cache:292                       Before clear_global_cache: 'global mem' cache: path='/mnt/tmpfs/tmp.cache.mem', size=32.0 KB\n",
      "12:17:44 - \u001b[41mWARN \u001b[0m hcache.py clear_global_cache:293                       Resetting 'global mem' cache '/mnt/tmpfs/tmp.cache.mem'\n",
      "12:17:44 - \u001b[41mWARN \u001b[0m hcache.py clear_global_cache:303                       Destroying '/mnt/tmpfs/tmp.cache.mem' ...\n",
      "12:17:44 - \u001b[36mINFO \u001b[0m hcache.py clear_global_cache:319                       After clear_global_cache: 'global mem' cache: path='/mnt/tmpfs/tmp.cache.mem', size=nan\n"
     ]
    }
   ],
   "source": [
    "%%bash\n",
    "/app/im_v2/ccxt/data/extract/download_exchange_data_to_db.py \\\n",
    "    --download_mode 'bulk' \\\n",
    "    --downloading_entity 'manual' \\\n",
    "    --action_tag 'downloaded_1min' \\\n",
    "    --vendor 'ccxt' \\\n",
    "    --start_timestamp '2023-01-01 10:00:00+00:00' \\\n",
    "    --end_timestamp '2023-01-01 20:30:00+00:00' \\\n",
    "    --exchange_id 'okx' \\\n",
    "    --universe 'v7.3' \\\n",
    "    --db_stage 'test' \\\n",
    "    --db_table 'ccxt_bid_ask_futures_raw' \\\n",
    "    --s3_path 's3://cryptokaizen-data-test/' \\\n",
    "    --data_type 'bid_ask' \\\n",
    "    --data_format 'postgres' \\\n",
    "    --contract_type 'futures'\n"
   ]
  },
  {
   "cell_type": "markdown",
   "id": "9ff9e065",
   "metadata": {
    "hidden": true
   },
   "source": [
    "### Warinings"
   ]
  },
  {
   "cell_type": "markdown",
   "id": "fe8e1cb1",
   "metadata": {
    "hidden": true
   },
   "source": [
    "There is no progress bars."
   ]
  },
  {
   "cell_type": "markdown",
   "id": "a408ef81",
   "metadata": {
    "hidden": true
   },
   "source": [
    "## Trades"
   ]
  },
  {
   "cell_type": "code",
   "execution_count": null,
   "id": "919f8ed7",
   "metadata": {
    "hidden": true
   },
   "outputs": [],
   "source": [
    "%%bash\n",
    "/app/im_v2/ccxt/data/extract/download_exchange_data_to_db.py \\\n",
    "    --download_mode 'bulk' \\\n",
    "    --downloading_entity 'manual' \\\n",
    "    --action_tag 'downloaded_1min' \\\n",
    "    --vendor 'ccxt' \\\n",
    "    --start_timestamp '2023-01-01 10:00:00+00:00' \\\n",
    "    --end_timestamp '2023-01-01 20:30:00+00:00' \\\n",
    "    --exchange_id 'okx' \\\n",
    "    --universe 'v7.3' \\\n",
    "    --db_stage 'test' \\\n",
    "    --db_table 'ccxt_trades_futures' \\\n",
    "    --s3_path 's3://cryptokaizen-data-test/' \\\n",
    "    --data_type 'trades' \\\n",
    "    --data_format 'postgres' \\\n",
    "    --contract_type 'futures'"
   ]
  },
  {
   "cell_type": "markdown",
   "id": "1ed3b954",
   "metadata": {
    "hidden": true
   },
   "source": [
    "### Warnings"
   ]
  },
  {
   "cell_type": "markdown",
   "id": "82330ad8",
   "metadata": {
    "hidden": true
   },
   "source": [
    "- trades tables didn't found - skipping"
   ]
  },
  {
   "cell_type": "markdown",
   "id": "5d096362",
   "metadata": {
    "heading_collapsed": true
   },
   "source": [
    "# Run periodical download okx - websockets"
   ]
  },
  {
   "cell_type": "markdown",
   "id": "ff6fa8c4",
   "metadata": {
    "hidden": true
   },
   "source": [
    "## OHLCV"
   ]
  },
  {
   "cell_type": "code",
   "execution_count": 3,
   "id": "926c53cd",
   "metadata": {
    "ExecuteTime": {
     "end_time": "2023-02-16T17:08:00.565725Z",
     "start_time": "2023-02-16T17:05:00.589712Z"
    },
    "hidden": true
   },
   "outputs": [
    {
     "name": "stdout",
     "output_type": "stream",
     "text": [
      "\u001b[0m\u001b[36mINFO\u001b[0m: > cmd='/app/im_v2/ccxt/data/extract/download_exchange_data_to_db_periodically.py --download_mode periodic_1min --downloading_entity manual --action_tag downloaded_1min --vendor ccxt --exchange_id okx --universe v7.3 --db_stage test --db_table ccxt_ohlcv_futures --aws_profile ck --data_type ohlcv --data_format postgres --contract_type futures --interval_min 1 --start_time 2023-02-16 17:06:00+00:00 --stop_time 2023-02-16 17:08:00+00:00 --method websocket'\n",
      "report_memory_usage=False report_cpu_usage=False\n",
      "\u001b[36mINFO\u001b[0m: Saving log to file '/app/im_v2/ccxt/data/extract/download_exchange_data_to_db_periodically.py.log'\n",
      "12:05:05 - \u001b[36mINFO \u001b[0m Task-1 db_utils.py get_connection:84                   Unable to fetch DB credentials from environment variables: \n",
      "\t'POSTGRES_HOST'\n",
      "\tAttempting env file method.\n",
      "12:05:05 - \u001b[36mINFO \u001b[0m Task-1 db_utils.py get_connection:103                  Created test DB connection: \n",
      " <connection object at 0x7f530b950680; dsn: 'user=ck_test password=xxx dbname=test.im_data_db host=dev-im-db.cpox8ul7pzan.eu-north-1.rds.amazonaws.com port=5432', closed: 0>\n",
      "12:05:10 - \u001b[36mINFO \u001b[0m Task-1 extract_utils.py _download_websocket_realtime_for_one_exchange_periodically:391 Subscribed to okx websocket data successfully\n",
      "12:05:10 - \u001b[36mINFO \u001b[0m Task-1 extract_utils.py _download_websocket_realtime_for_one_exchange_periodically:398 Syncing with the start time, waiting for 49.404517 seconds\n",
      "12:06:00 - \u001b[36mINFO \u001b[0m Task-1 extract_utils.py _download_websocket_realtime_for_one_exchange_periodically:435 Iteration took 81 ms, waiting between iterations for 59918 ms\n",
      "12:07:00 - \u001b[36mINFO \u001b[0m Task-1 extract_utils.py _download_websocket_realtime_for_one_exchange_periodically:435 Iteration took 77 ms, waiting between iterations for 59922 ms\n",
      "12:08:00 - \u001b[36mINFO \u001b[0m Task-1 extract_utils.py _download_websocket_realtime_for_one_exchange_periodically:441 Websocket download finished at 2023-02-16 17:08:00.005185+00:00\n",
      "12:08:00 - \u001b[36mINFO \u001b[0m hcache.py clear_global_cache:292                       Before clear_global_cache: 'global mem' cache: path='/mnt/tmpfs/tmp.cache.mem', size=32.0 KB\n",
      "12:08:00 - \u001b[41mWARN \u001b[0m hcache.py clear_global_cache:293                       Resetting 'global mem' cache '/mnt/tmpfs/tmp.cache.mem'\n",
      "12:08:00 - \u001b[41mWARN \u001b[0m hcache.py clear_global_cache:303                       Destroying '/mnt/tmpfs/tmp.cache.mem' ...\n",
      "12:08:00 - \u001b[36mINFO \u001b[0m hcache.py clear_global_cache:319                       After clear_global_cache: 'global mem' cache: path='/mnt/tmpfs/tmp.cache.mem', size=nan\n"
     ]
    }
   ],
   "source": [
    "%%bash\n",
    "/app/im_v2/ccxt/data/extract/download_exchange_data_to_db_periodically.py \\\n",
    "    --download_mode 'periodic_1min' \\\n",
    "    --downloading_entity 'manual' \\\n",
    "    --action_tag 'downloaded_1min' \\\n",
    "    --vendor 'ccxt' \\\n",
    "    --exchange_id 'okx' \\\n",
    "    --universe 'v7.3' \\\n",
    "    --db_stage 'test' \\\n",
    "    --db_table 'ccxt_ohlcv_futures' \\\n",
    "    --aws_profile 'ck' \\\n",
    "    --data_type 'ohlcv' \\\n",
    "    --data_format 'postgres' \\\n",
    "    --contract_type 'futures' \\\n",
    "    --interval_min '1' \\\n",
    "    --start_time \"$(date -d 'today + 1 minutes' +'%Y-%m-%d %H:%M:00+00:00')\" \\\n",
    "    --stop_time \"$(date -d 'today + 3 minutes' +'%Y-%m-%d %H:%M:00+00:00')\" \\\n",
    "    --method 'websocket'"
   ]
  },
  {
   "cell_type": "markdown",
   "id": "68ddf65f",
   "metadata": {
    "hidden": true
   },
   "source": [
    "### Read data from postgres"
   ]
  },
  {
   "cell_type": "code",
   "execution_count": 10,
   "id": "7eeab6a3",
   "metadata": {
    "ExecuteTime": {
     "end_time": "2023-02-16T17:10:27.945735Z",
     "start_time": "2023-02-16T17:10:27.940510Z"
    },
    "hidden": true
   },
   "outputs": [
    {
     "name": "stdout",
     "output_type": "stream",
     "text": [
      "INFO  Loading dataset schema file: /app/data_schema/dataset_schema_versions/dataset_schema_v3.json\n",
      "INFO  Loaded dataset schema version v3\n"
     ]
    }
   ],
   "source": [
    "signature = \"bulk.manual.downloaded_1min.postgres.ohlcv.futures.v7_3.ccxt.okx.v1_0_0\"\n",
    "reader = imvcdcimrdc.RawDataReader(signature, stage=\"test\")\n",
    "start_timestamp = pd.Timestamp.now() - pd.Timedelta(minutes=10)\n",
    "end_timestamp = pd.Timestamp.now()"
   ]
  },
  {
   "cell_type": "code",
   "execution_count": 11,
   "id": "24dd7572",
   "metadata": {
    "ExecuteTime": {
     "end_time": "2023-02-16T17:10:29.755426Z",
     "start_time": "2023-02-16T17:10:29.745310Z"
    },
    "hidden": true
   },
   "outputs": [
    {
     "name": "stdout",
     "output_type": "stream",
     "text": [
      "INFO  Loading the data from `ccxt_ohlcv_futures` table\n"
     ]
    },
    {
     "name": "stderr",
     "output_type": "stream",
     "text": [
      "/app/helpers/hsql_implementation.py:582: UserWarning: pandas only supports SQLAlchemy connectable (engine/connection) or database string URI or sqlite3 DBAPI2 connection. Other DBAPI2 objects are not tested. Please consider using SQLAlchemy.\n",
      "  df = pd.read_sql_query(query, connection)\n"
     ]
    }
   ],
   "source": [
    "ohlcv_data = reader.read_data(start_timestamp, end_timestamp)"
   ]
  },
  {
   "cell_type": "code",
   "execution_count": 13,
   "id": "67b712bc",
   "metadata": {
    "ExecuteTime": {
     "end_time": "2023-02-16T17:10:41.162964Z",
     "start_time": "2023-02-16T17:10:41.151516Z"
    },
    "hidden": true
   },
   "outputs": [
    {
     "data": {
      "text/html": [
       "<div>\n",
       "<style scoped>\n",
       "    .dataframe tbody tr th:only-of-type {\n",
       "        vertical-align: middle;\n",
       "    }\n",
       "\n",
       "    .dataframe tbody tr th {\n",
       "        vertical-align: top;\n",
       "    }\n",
       "\n",
       "    .dataframe thead th {\n",
       "        text-align: right;\n",
       "    }\n",
       "</style>\n",
       "<table border=\"1\" class=\"dataframe\">\n",
       "  <thead>\n",
       "    <tr style=\"text-align: right;\">\n",
       "      <th></th>\n",
       "      <th>id</th>\n",
       "      <th>timestamp</th>\n",
       "      <th>open</th>\n",
       "      <th>high</th>\n",
       "      <th>low</th>\n",
       "      <th>close</th>\n",
       "      <th>volume</th>\n",
       "      <th>currency_pair</th>\n",
       "      <th>exchange_id</th>\n",
       "      <th>end_download_timestamp</th>\n",
       "      <th>knowledge_timestamp</th>\n",
       "    </tr>\n",
       "  </thead>\n",
       "  <tbody>\n",
       "    <tr>\n",
       "      <th>0</th>\n",
       "      <td>1556489</td>\n",
       "      <td>1676566920000</td>\n",
       "      <td>1716.9400</td>\n",
       "      <td>1717.4900</td>\n",
       "      <td>1715.8400</td>\n",
       "      <td>1715.9400</td>\n",
       "      <td>107.782190</td>\n",
       "      <td>ETH-USDT</td>\n",
       "      <td>okx</td>\n",
       "      <td>2023-02-16 17:03:00.001668+00:00</td>\n",
       "      <td>2023-02-16 17:03:00.017795+00:00</td>\n",
       "    </tr>\n",
       "    <tr>\n",
       "      <th>1</th>\n",
       "      <td>1556490</td>\n",
       "      <td>1676566920000</td>\n",
       "      <td>24909.9000</td>\n",
       "      <td>24919.5000</td>\n",
       "      <td>24873.8000</td>\n",
       "      <td>24887.2000</td>\n",
       "      <td>35.463077</td>\n",
       "      <td>BTC-USDT</td>\n",
       "      <td>okx</td>\n",
       "      <td>2023-02-16 17:03:00.001798+00:00</td>\n",
       "      <td>2023-02-16 17:03:00.017795+00:00</td>\n",
       "    </tr>\n",
       "    <tr>\n",
       "      <th>2</th>\n",
       "      <td>1556491</td>\n",
       "      <td>1676566920000</td>\n",
       "      <td>0.7877</td>\n",
       "      <td>0.7877</td>\n",
       "      <td>0.7865</td>\n",
       "      <td>0.7868</td>\n",
       "      <td>24226.283707</td>\n",
       "      <td>SAND-USDT</td>\n",
       "      <td>okx</td>\n",
       "      <td>2023-02-16 17:03:00.001872+00:00</td>\n",
       "      <td>2023-02-16 17:03:00.017795+00:00</td>\n",
       "    </tr>\n",
       "    <tr>\n",
       "      <th>3</th>\n",
       "      <td>1556492</td>\n",
       "      <td>1676566920000</td>\n",
       "      <td>0.4251</td>\n",
       "      <td>0.4253</td>\n",
       "      <td>0.4249</td>\n",
       "      <td>0.4250</td>\n",
       "      <td>862.673600</td>\n",
       "      <td>STORJ-USDT</td>\n",
       "      <td>okx</td>\n",
       "      <td>2023-02-16 17:03:00.001946+00:00</td>\n",
       "      <td>2023-02-16 17:03:00.017795+00:00</td>\n",
       "    </tr>\n",
       "    <tr>\n",
       "      <th>4</th>\n",
       "      <td>1556493</td>\n",
       "      <td>1676566920000</td>\n",
       "      <td>0.4755</td>\n",
       "      <td>0.4755</td>\n",
       "      <td>0.4753</td>\n",
       "      <td>0.4755</td>\n",
       "      <td>1787.045900</td>\n",
       "      <td>GMT-USDT</td>\n",
       "      <td>okx</td>\n",
       "      <td>2023-02-16 17:03:00.002013+00:00</td>\n",
       "      <td>2023-02-16 17:03:00.017795+00:00</td>\n",
       "    </tr>\n",
       "  </tbody>\n",
       "</table>\n",
       "</div>"
      ],
      "text/plain": [
       "        id      timestamp        open        high         low       close        volume currency_pair exchange_id           end_download_timestamp              knowledge_timestamp\n",
       "0  1556489  1676566920000   1716.9400   1717.4900   1715.8400   1715.9400    107.782190      ETH-USDT         okx 2023-02-16 17:03:00.001668+00:00 2023-02-16 17:03:00.017795+00:00\n",
       "1  1556490  1676566920000  24909.9000  24919.5000  24873.8000  24887.2000     35.463077      BTC-USDT         okx 2023-02-16 17:03:00.001798+00:00 2023-02-16 17:03:00.017795+00:00\n",
       "2  1556491  1676566920000      0.7877      0.7877      0.7865      0.7868  24226.283707     SAND-USDT         okx 2023-02-16 17:03:00.001872+00:00 2023-02-16 17:03:00.017795+00:00\n",
       "3  1556492  1676566920000      0.4251      0.4253      0.4249      0.4250    862.673600    STORJ-USDT         okx 2023-02-16 17:03:00.001946+00:00 2023-02-16 17:03:00.017795+00:00\n",
       "4  1556493  1676566920000      0.4755      0.4755      0.4753      0.4755   1787.045900      GMT-USDT         okx 2023-02-16 17:03:00.002013+00:00 2023-02-16 17:03:00.017795+00:00"
      ]
     },
     "execution_count": 13,
     "metadata": {},
     "output_type": "execute_result"
    }
   ],
   "source": [
    "ohlcv_data.head()"
   ]
  },
  {
   "cell_type": "code",
   "execution_count": 15,
   "id": "4b8d0682",
   "metadata": {
    "ExecuteTime": {
     "end_time": "2023-02-16T17:11:33.523282Z",
     "start_time": "2023-02-16T17:11:33.516320Z"
    },
    "hidden": true
   },
   "outputs": [
    {
     "data": {
      "text/plain": [
       "min   2023-02-16 17:02:00\n",
       "max   2023-02-16 17:06:00\n",
       "Name: timestamp, dtype: datetime64[ns]"
      ]
     },
     "execution_count": 15,
     "metadata": {},
     "output_type": "execute_result"
    }
   ],
   "source": [
    "ohlcv_data.timestamp.agg([\"min\", \"max\"]).apply(pd.Timestamp, unit=\"ms\")"
   ]
  },
  {
   "cell_type": "markdown",
   "id": "8423527b",
   "metadata": {
    "heading_collapsed": true
   },
   "source": [
    "# Run a one time bulk parquet downoad"
   ]
  },
  {
   "cell_type": "markdown",
   "id": "d1481069",
   "metadata": {
    "hidden": true
   },
   "source": [
    "## OHLCV"
   ]
  },
  {
   "cell_type": "code",
   "execution_count": 16,
   "id": "0ef78e9d",
   "metadata": {
    "ExecuteTime": {
     "end_time": "2023-02-16T17:13:04.259591Z",
     "start_time": "2023-02-16T17:12:50.281334Z"
    },
    "hidden": true
   },
   "outputs": [
    {
     "name": "stdout",
     "output_type": "stream",
     "text": [
      "\u001b[0m\u001b[36mINFO\u001b[0m: > cmd='/app/im_v2/common/data/extract/download_bulk.py --download_mode bulk --downloading_entity manual --action_tag downloaded_1min --vendor ccxt --start_timestamp 2023-01-01 10:00:00+00:00 --end_timestamp 2023-01-01 17:30:00+00:00 --exchange_id okx --universe v7.3 --aws_profile ck --incremental --data_type ohlcv --data_format parquet --contract_type futures --s3_path s3://cryptokaizen-data-test/'\n",
      "report_memory_usage=False report_cpu_usage=False\n",
      "\u001b[36mINFO\u001b[0m: Saving log to file '/app/im_v2/common/data/extract/download_bulk.py.log'\n",
      "12:12:54 - \u001b[36mINFO \u001b[0m dataset_schema_utils.py _get_dataset_schema_file_path:37 Loading dataset schema file: /app/data_schema/dataset_schema_versions/dataset_schema_v3.json\n",
      "12:12:54 - \u001b[36mINFO \u001b[0m dataset_schema_utils.py get_dataset_schema:72          Loaded dataset schema version v3\n"
     ]
    },
    {
     "name": "stderr",
     "output_type": "stream",
     "text": [
      "100%|██████████| 1/1 [00:00<00:00,  2.07it/s]\n",
      "/app/im_v2/ccxt/data/extract/extractor.py:189: FutureWarning: is_monotonic is deprecated and will be removed in a future version. Use is_monotonic_increasing instead.\n",
      "  hdbg.dassert(all_bars_df.timestamp.is_monotonic)\n",
      "100%|██████████| 1/1 [00:00<00:00,  2.12it/s]\n",
      "/app/im_v2/ccxt/data/extract/extractor.py:189: FutureWarning: is_monotonic is deprecated and will be removed in a future version. Use is_monotonic_increasing instead.\n",
      "  hdbg.dassert(all_bars_df.timestamp.is_monotonic)\n",
      "100%|██████████| 1/1 [00:00<00:00,  2.06it/s]\n",
      "/app/im_v2/ccxt/data/extract/extractor.py:189: FutureWarning: is_monotonic is deprecated and will be removed in a future version. Use is_monotonic_increasing instead.\n",
      "  hdbg.dassert(all_bars_df.timestamp.is_monotonic)\n",
      "100%|██████████| 1/1 [00:00<00:00,  2.12it/s]\n",
      "/app/im_v2/ccxt/data/extract/extractor.py:189: FutureWarning: is_monotonic is deprecated and will be removed in a future version. Use is_monotonic_increasing instead.\n",
      "  hdbg.dassert(all_bars_df.timestamp.is_monotonic)\n",
      "100%|██████████| 1/1 [00:00<00:00,  2.12it/s]\n",
      "/app/im_v2/ccxt/data/extract/extractor.py:189: FutureWarning: is_monotonic is deprecated and will be removed in a future version. Use is_monotonic_increasing instead.\n",
      "  hdbg.dassert(all_bars_df.timestamp.is_monotonic)\n",
      "100%|██████████| 1/1 [00:00<00:00,  2.00it/s]\n",
      "/app/im_v2/ccxt/data/extract/extractor.py:189: FutureWarning: is_monotonic is deprecated and will be removed in a future version. Use is_monotonic_increasing instead.\n",
      "  hdbg.dassert(all_bars_df.timestamp.is_monotonic)\n",
      "100%|██████████| 1/1 [00:00<00:00,  2.09it/s]\n",
      "/app/im_v2/ccxt/data/extract/extractor.py:189: FutureWarning: is_monotonic is deprecated and will be removed in a future version. Use is_monotonic_increasing instead.\n",
      "  hdbg.dassert(all_bars_df.timestamp.is_monotonic)\n",
      "100%|██████████| 1/1 [00:00<00:00,  2.05it/s]\n",
      "/app/im_v2/ccxt/data/extract/extractor.py:189: FutureWarning: is_monotonic is deprecated and will be removed in a future version. Use is_monotonic_increasing instead.\n",
      "  hdbg.dassert(all_bars_df.timestamp.is_monotonic)\n",
      "100%|██████████| 1/1 [00:00<00:00,  2.12it/s]\n",
      "/app/im_v2/ccxt/data/extract/extractor.py:189: FutureWarning: is_monotonic is deprecated and will be removed in a future version. Use is_monotonic_increasing instead.\n",
      "  hdbg.dassert(all_bars_df.timestamp.is_monotonic)\n",
      "100%|██████████| 1/1 [00:00<00:00,  2.06it/s]\n",
      "/app/im_v2/ccxt/data/extract/extractor.py:189: FutureWarning: is_monotonic is deprecated and will be removed in a future version. Use is_monotonic_increasing instead.\n",
      "  hdbg.dassert(all_bars_df.timestamp.is_monotonic)\n",
      "100%|██████████| 1/1 [00:00<00:00,  2.05it/s]\n",
      "/app/im_v2/ccxt/data/extract/extractor.py:189: FutureWarning: is_monotonic is deprecated and will be removed in a future version. Use is_monotonic_increasing instead.\n",
      "  hdbg.dassert(all_bars_df.timestamp.is_monotonic)\n",
      "100%|██████████| 1/1 [00:00<00:00,  2.11it/s]\n",
      "/app/im_v2/ccxt/data/extract/extractor.py:189: FutureWarning: is_monotonic is deprecated and will be removed in a future version. Use is_monotonic_increasing instead.\n",
      "  hdbg.dassert(all_bars_df.timestamp.is_monotonic)\n",
      "100%|██████████| 1/1 [00:00<00:00,  2.08it/s]\n",
      "/app/im_v2/ccxt/data/extract/extractor.py:189: FutureWarning: is_monotonic is deprecated and will be removed in a future version. Use is_monotonic_increasing instead.\n",
      "  hdbg.dassert(all_bars_df.timestamp.is_monotonic)\n",
      "100%|██████████| 1/1 [00:00<00:00,  2.09it/s]\n",
      "/app/im_v2/ccxt/data/extract/extractor.py:189: FutureWarning: is_monotonic is deprecated and will be removed in a future version. Use is_monotonic_increasing instead.\n",
      "  hdbg.dassert(all_bars_df.timestamp.is_monotonic)\n",
      "100%|██████████| 1/1 [00:00<00:00,  2.12it/s]\n",
      "/app/im_v2/ccxt/data/extract/extractor.py:189: FutureWarning: is_monotonic is deprecated and will be removed in a future version. Use is_monotonic_increasing instead.\n",
      "  hdbg.dassert(all_bars_df.timestamp.is_monotonic)\n",
      "100%|██████████| 1/1 [00:00<00:00,  2.12it/s]\n",
      "/app/im_v2/ccxt/data/extract/extractor.py:189: FutureWarning: is_monotonic is deprecated and will be removed in a future version. Use is_monotonic_increasing instead.\n",
      "  hdbg.dassert(all_bars_df.timestamp.is_monotonic)\n",
      "100%|██████████| 1/1 [00:00<00:00,  2.12it/s]\n",
      "/app/im_v2/ccxt/data/extract/extractor.py:189: FutureWarning: is_monotonic is deprecated and will be removed in a future version. Use is_monotonic_increasing instead.\n",
      "  hdbg.dassert(all_bars_df.timestamp.is_monotonic)\n",
      "100%|██████████| 1/1 [00:00<00:00,  2.11it/s]\n",
      "/app/im_v2/ccxt/data/extract/extractor.py:189: FutureWarning: is_monotonic is deprecated and will be removed in a future version. Use is_monotonic_increasing instead.\n",
      "  hdbg.dassert(all_bars_df.timestamp.is_monotonic)\n"
     ]
    },
    {
     "name": "stdout",
     "output_type": "stream",
     "text": [
      "12:13:03 - \u001b[36mINFO \u001b[0m hcache.py clear_global_cache:292                       Before clear_global_cache: 'global mem' cache: path='/mnt/tmpfs/tmp.cache.mem', size=32.0 KB\n",
      "12:13:03 - \u001b[41mWARN \u001b[0m hcache.py clear_global_cache:293                       Resetting 'global mem' cache '/mnt/tmpfs/tmp.cache.mem'\n",
      "12:13:03 - \u001b[41mWARN \u001b[0m hcache.py clear_global_cache:303                       Destroying '/mnt/tmpfs/tmp.cache.mem' ...\n",
      "12:13:03 - \u001b[36mINFO \u001b[0m hcache.py clear_global_cache:319                       After clear_global_cache: 'global mem' cache: path='/mnt/tmpfs/tmp.cache.mem', size=nan\n"
     ]
    }
   ],
   "source": [
    "%%bash\n",
    "/app/im_v2/common/data/extract/download_bulk.py \\\n",
    "    --download_mode 'bulk' \\\n",
    "    --downloading_entity 'manual' \\\n",
    "    --action_tag 'downloaded_1min' \\\n",
    "    --vendor 'ccxt' \\\n",
    "    --start_timestamp '2023-01-01 10:00:00+00:00' \\\n",
    "    --end_timestamp '2023-01-01 17:30:00+00:00' \\\n",
    "    --exchange_id 'okx' \\\n",
    "    --universe 'v7.3' \\\n",
    "    --aws_profile 'ck' \\\n",
    "    --incremental \\\n",
    "    --data_type 'ohlcv' \\\n",
    "    --data_format 'parquet' \\\n",
    "    --contract_type 'futures' \\\n",
    "    --s3_path 's3://cryptokaizen-data-test/'"
   ]
  },
  {
   "cell_type": "markdown",
   "id": "ef077e7d",
   "metadata": {
    "hidden": true
   },
   "source": [
    "## Bid_ask"
   ]
  },
  {
   "cell_type": "code",
   "execution_count": 17,
   "id": "caa4cd8c",
   "metadata": {
    "ExecuteTime": {
     "end_time": "2023-02-16T17:13:35.847805Z",
     "start_time": "2023-02-16T17:13:25.276106Z"
    },
    "hidden": true
   },
   "outputs": [
    {
     "name": "stdout",
     "output_type": "stream",
     "text": [
      "\u001b[0m\u001b[36mINFO\u001b[0m: > cmd='/app/im_v2/common/data/extract/download_bulk.py --download_mode bulk --downloading_entity airflow --action_tag downloaded_1min --vendor ccxt --start_timestamp 2023-01-01 10:00:00+00:00 --end_timestamp 2023-01-01 20:30:00+00:00 --exchange_id okx --universe v7.3 --aws_profile ck --incremental --data_type bid_ask --data_format parquet --contract_type futures --s3_path s3://cryptokaizen-data-test/'\n",
      "report_memory_usage=False report_cpu_usage=False\n",
      "\u001b[36mINFO\u001b[0m: Saving log to file '/app/im_v2/common/data/extract/download_bulk.py.log'\n",
      "12:13:29 - \u001b[36mINFO \u001b[0m dataset_schema_utils.py _get_dataset_schema_file_path:37 Loading dataset schema file: /app/data_schema/dataset_schema_versions/dataset_schema_v3.json\n",
      "12:13:29 - \u001b[36mINFO \u001b[0m dataset_schema_utils.py get_dataset_schema:72          Loaded dataset schema version v3\n",
      "12:13:30 - \u001b[36mINFO \u001b[0m extract_utils.py download_historical_data:716          Saving the dataset into s3://cryptokaizen-data-test/v3/bulk/airflow/downloaded_1min/parquet/bid_ask/futures/v7_3/ccxt/okx/v1_0_0\n",
      "12:13:30 - \u001b[36mINFO \u001b[0m extract_utils.py download_historical_data:716          Saving the dataset into s3://cryptokaizen-data-test/v3/bulk/airflow/downloaded_1min/parquet/bid_ask/futures/v7_3/ccxt/okx/v1_0_0\n",
      "12:13:30 - \u001b[36mINFO \u001b[0m extract_utils.py download_historical_data:716          Saving the dataset into s3://cryptokaizen-data-test/v3/bulk/airflow/downloaded_1min/parquet/bid_ask/futures/v7_3/ccxt/okx/v1_0_0\n",
      "12:13:31 - \u001b[36mINFO \u001b[0m extract_utils.py download_historical_data:716          Saving the dataset into s3://cryptokaizen-data-test/v3/bulk/airflow/downloaded_1min/parquet/bid_ask/futures/v7_3/ccxt/okx/v1_0_0\n",
      "12:13:31 - \u001b[36mINFO \u001b[0m extract_utils.py download_historical_data:716          Saving the dataset into s3://cryptokaizen-data-test/v3/bulk/airflow/downloaded_1min/parquet/bid_ask/futures/v7_3/ccxt/okx/v1_0_0\n",
      "12:13:31 - \u001b[36mINFO \u001b[0m extract_utils.py download_historical_data:716          Saving the dataset into s3://cryptokaizen-data-test/v3/bulk/airflow/downloaded_1min/parquet/bid_ask/futures/v7_3/ccxt/okx/v1_0_0\n",
      "12:13:32 - \u001b[36mINFO \u001b[0m extract_utils.py download_historical_data:716          Saving the dataset into s3://cryptokaizen-data-test/v3/bulk/airflow/downloaded_1min/parquet/bid_ask/futures/v7_3/ccxt/okx/v1_0_0\n",
      "12:13:32 - \u001b[36mINFO \u001b[0m extract_utils.py download_historical_data:716          Saving the dataset into s3://cryptokaizen-data-test/v3/bulk/airflow/downloaded_1min/parquet/bid_ask/futures/v7_3/ccxt/okx/v1_0_0\n",
      "12:13:32 - \u001b[36mINFO \u001b[0m extract_utils.py download_historical_data:716          Saving the dataset into s3://cryptokaizen-data-test/v3/bulk/airflow/downloaded_1min/parquet/bid_ask/futures/v7_3/ccxt/okx/v1_0_0\n",
      "12:13:32 - \u001b[36mINFO \u001b[0m extract_utils.py download_historical_data:716          Saving the dataset into s3://cryptokaizen-data-test/v3/bulk/airflow/downloaded_1min/parquet/bid_ask/futures/v7_3/ccxt/okx/v1_0_0\n",
      "12:13:33 - \u001b[36mINFO \u001b[0m extract_utils.py download_historical_data:716          Saving the dataset into s3://cryptokaizen-data-test/v3/bulk/airflow/downloaded_1min/parquet/bid_ask/futures/v7_3/ccxt/okx/v1_0_0\n",
      "12:13:33 - \u001b[36mINFO \u001b[0m extract_utils.py download_historical_data:716          Saving the dataset into s3://cryptokaizen-data-test/v3/bulk/airflow/downloaded_1min/parquet/bid_ask/futures/v7_3/ccxt/okx/v1_0_0\n",
      "12:13:33 - \u001b[36mINFO \u001b[0m extract_utils.py download_historical_data:716          Saving the dataset into s3://cryptokaizen-data-test/v3/bulk/airflow/downloaded_1min/parquet/bid_ask/futures/v7_3/ccxt/okx/v1_0_0\n",
      "12:13:34 - \u001b[36mINFO \u001b[0m extract_utils.py download_historical_data:716          Saving the dataset into s3://cryptokaizen-data-test/v3/bulk/airflow/downloaded_1min/parquet/bid_ask/futures/v7_3/ccxt/okx/v1_0_0\n",
      "12:13:34 - \u001b[36mINFO \u001b[0m extract_utils.py download_historical_data:716          Saving the dataset into s3://cryptokaizen-data-test/v3/bulk/airflow/downloaded_1min/parquet/bid_ask/futures/v7_3/ccxt/okx/v1_0_0\n",
      "12:13:34 - \u001b[36mINFO \u001b[0m extract_utils.py download_historical_data:716          Saving the dataset into s3://cryptokaizen-data-test/v3/bulk/airflow/downloaded_1min/parquet/bid_ask/futures/v7_3/ccxt/okx/v1_0_0\n",
      "12:13:34 - \u001b[36mINFO \u001b[0m extract_utils.py download_historical_data:716          Saving the dataset into s3://cryptokaizen-data-test/v3/bulk/airflow/downloaded_1min/parquet/bid_ask/futures/v7_3/ccxt/okx/v1_0_0\n",
      "12:13:35 - \u001b[36mINFO \u001b[0m extract_utils.py download_historical_data:716          Saving the dataset into s3://cryptokaizen-data-test/v3/bulk/airflow/downloaded_1min/parquet/bid_ask/futures/v7_3/ccxt/okx/v1_0_0\n",
      "12:13:35 - \u001b[36mINFO \u001b[0m hcache.py clear_global_cache:292                       Before clear_global_cache: 'global mem' cache: path='/mnt/tmpfs/tmp.cache.mem', size=32.0 KB\n",
      "12:13:35 - \u001b[41mWARN \u001b[0m hcache.py clear_global_cache:293                       Resetting 'global mem' cache '/mnt/tmpfs/tmp.cache.mem'\n",
      "12:13:35 - \u001b[41mWARN \u001b[0m hcache.py clear_global_cache:303                       Destroying '/mnt/tmpfs/tmp.cache.mem' ...\n",
      "12:13:35 - \u001b[36mINFO \u001b[0m hcache.py clear_global_cache:319                       After clear_global_cache: 'global mem' cache: path='/mnt/tmpfs/tmp.cache.mem', size=nan\n"
     ]
    }
   ],
   "source": [
    "%%bash\n",
    "/app/im_v2/common/data/extract/download_bulk.py \\\n",
    "    --download_mode 'bulk' \\\n",
    "    --downloading_entity 'airflow' \\\n",
    "    --action_tag 'downloaded_1min' \\\n",
    "    --vendor 'ccxt' \\\n",
    "    --start_timestamp '2023-01-01 10:00:00+00:00' \\\n",
    "    --end_timestamp '2023-01-01 20:30:00+00:00' \\\n",
    "    --exchange_id 'okx' \\\n",
    "    --universe 'v7.3' \\\n",
    "    --aws_profile 'ck' \\\n",
    "    --incremental \\\n",
    "    --data_type 'bid_ask' \\\n",
    "    --data_format 'parquet' \\\n",
    "    --contract_type 'futures' \\\n",
    "    --s3_path 's3://cryptokaizen-data-test/'"
   ]
  },
  {
   "cell_type": "markdown",
   "id": "2fbc41f6",
   "metadata": {
    "hidden": true
   },
   "source": [
    "### Warnings"
   ]
  },
  {
   "cell_type": "markdown",
   "id": "9c6d6b99",
   "metadata": {
    "ExecuteTime": {
     "end_time": "2023-02-08T16:17:14.518666Z",
     "start_time": "2023-02-08T16:17:14.513989Z"
    },
    "hidden": true
   },
   "source": [
    "- no progress bar"
   ]
  },
  {
   "cell_type": "markdown",
   "id": "d3305a33",
   "metadata": {
    "hidden": true
   },
   "source": [
    "## Trades"
   ]
  },
  {
   "cell_type": "code",
   "execution_count": 18,
   "id": "476e7c7d",
   "metadata": {
    "ExecuteTime": {
     "end_time": "2023-02-16T17:13:56.495511Z",
     "start_time": "2023-02-16T17:13:46.825966Z"
    },
    "hidden": true
   },
   "outputs": [
    {
     "name": "stdout",
     "output_type": "stream",
     "text": [
      "\u001b[0m\u001b[36mINFO\u001b[0m: > cmd='/app/im_v2/common/data/extract/download_bulk.py --download_mode bulk --downloading_entity manual --action_tag downloaded_1min --vendor ccxt --start_timestamp 2023-01-01 10:00:00+00:00 --end_timestamp 2023-02-14 00:30:00+07:00 --exchange_id okx --universe v7.3 --aws_profile ck --data_type trades --data_format parquet --contract_type futures --s3_path s3://cryptokaizen-data-test/'\n",
      "report_memory_usage=False report_cpu_usage=False\n",
      "\u001b[36mINFO\u001b[0m: Saving log to file '/app/im_v2/common/data/extract/download_bulk.py.log'\n",
      "12:13:51 - \u001b[36mINFO \u001b[0m dataset_schema_utils.py _get_dataset_schema_file_path:37 Loading dataset schema file: /app/data_schema/dataset_schema_versions/dataset_schema_v3.json\n",
      "12:13:51 - \u001b[36mINFO \u001b[0m dataset_schema_utils.py get_dataset_schema:72          Loaded dataset schema version v3\n",
      "12:13:55 - \u001b[36mINFO \u001b[0m hcache.py clear_global_cache:292                       Before clear_global_cache: 'global mem' cache: path='/mnt/tmpfs/tmp.cache.mem', size=32.0 KB\n",
      "12:13:55 - \u001b[41mWARN \u001b[0m hcache.py clear_global_cache:293                       Resetting 'global mem' cache '/mnt/tmpfs/tmp.cache.mem'\n",
      "12:13:55 - \u001b[41mWARN \u001b[0m hcache.py clear_global_cache:303                       Destroying '/mnt/tmpfs/tmp.cache.mem' ...\n",
      "12:13:55 - \u001b[36mINFO \u001b[0m hcache.py clear_global_cache:319                       After clear_global_cache: 'global mem' cache: path='/mnt/tmpfs/tmp.cache.mem', size=nan\n"
     ]
    }
   ],
   "source": [
    "%%bash\n",
    "/app/im_v2/common/data/extract/download_bulk.py \\\n",
    "    --download_mode 'bulk' \\\n",
    "    --downloading_entity 'manual' \\\n",
    "    --action_tag 'downloaded_1min' \\\n",
    "    --vendor 'ccxt' \\\n",
    "    --start_timestamp '2023-01-01 10:00:00+00:00' \\\n",
    "    --end_timestamp '2023-02-14 00:30:00+07:00' \\\n",
    "    --exchange_id 'okx' \\\n",
    "    --universe 'v7.3' \\\n",
    "    --aws_profile 'ck' \\\n",
    "    --data_type 'trades' \\\n",
    "    --data_format 'parquet' \\\n",
    "    --contract_type 'futures' \\\n",
    "    --s3_path 's3://cryptokaizen-data-test/'"
   ]
  },
  {
   "cell_type": "markdown",
   "id": "c2c27039",
   "metadata": {
    "hidden": true
   },
   "source": [
    "### Warnings"
   ]
  },
  {
   "cell_type": "markdown",
   "id": "a84d493d",
   "metadata": {
    "hidden": true
   },
   "source": [
    "- CCXT didn't download the trades data properly. It gets the data irrespectively to the given date-time range."
   ]
  },
  {
   "cell_type": "code",
   "execution_count": 58,
   "id": "6f67d915",
   "metadata": {
    "ExecuteTime": {
     "end_time": "2023-02-09T11:01:38.798073Z",
     "start_time": "2023-02-09T11:01:37.605523Z"
    },
    "hidden": true
   },
   "outputs": [],
   "source": [
    "import ccxt\n",
    "\n",
    "import helpers.hdatetime as hdateti\n",
    "\n",
    "extractor = ccxt.okx()\n",
    "start_timestamp = hdateti.convert_timestamp_to_unix_epoch(\n",
    "    pd.Timestamp(\"2023-01-01 10:00:00+00:00\")\n",
    ")\n",
    "data = extractor.fetch_trades(\"BTC/USDT\", since=start_timestamp)"
   ]
  },
  {
   "cell_type": "code",
   "execution_count": 60,
   "id": "f0920cca",
   "metadata": {
    "ExecuteTime": {
     "end_time": "2023-02-09T11:02:06.390672Z",
     "start_time": "2023-02-09T11:02:06.386091Z"
    },
    "hidden": true
   },
   "outputs": [],
   "source": [
    "df = pd.DataFrame(data)"
   ]
  },
  {
   "cell_type": "code",
   "execution_count": 71,
   "id": "ad00e212",
   "metadata": {
    "ExecuteTime": {
     "end_time": "2023-02-09T11:07:25.982981Z",
     "start_time": "2023-02-09T11:07:25.975300Z"
    },
    "hidden": true
   },
   "outputs": [
    {
     "data": {
      "text/plain": [
       "min   2023-02-09 10:57:29.186\n",
       "max   2023-02-09 11:01:34.468\n",
       "Name: timestamp, dtype: datetime64[ns]"
      ]
     },
     "execution_count": 71,
     "metadata": {},
     "output_type": "execute_result"
    }
   ],
   "source": [
    "df[\"timestamp\"].agg([\"min\", \"max\"]).apply(pd.to_datetime, unit=\"ms\")"
   ]
  },
  {
   "cell_type": "markdown",
   "id": "c2dc5839",
   "metadata": {
    "heading_collapsed": true
   },
   "source": [
    "# Load a preview of the downloaded data - rest"
   ]
  },
  {
   "cell_type": "code",
   "execution_count": 5,
   "id": "0fbbddff",
   "metadata": {
    "ExecuteTime": {
     "end_time": "2023-02-10T12:26:40.989551Z",
     "start_time": "2023-02-10T12:26:40.278555Z"
    },
    "hidden": true
   },
   "outputs": [
    {
     "name": "stderr",
     "output_type": "stream",
     "text": [
      "/app/core/signal_processing/decorrelation.py:12: TqdmExperimentalWarning: Using `tqdm.autonotebook.tqdm` in notebook mode. Use `tqdm.tqdm` instead to force console mode (e.g. in jupyter console)\n",
      "  from tqdm.autonotebook import tqdm\n"
     ]
    }
   ],
   "source": []
  },
  {
   "cell_type": "markdown",
   "id": "3cb9936a",
   "metadata": {
    "hidden": true
   },
   "source": [
    "## OHLCV"
   ]
  },
  {
   "cell_type": "code",
   "execution_count": 6,
   "id": "69b2064f",
   "metadata": {
    "ExecuteTime": {
     "end_time": "2023-02-10T12:26:43.320236Z",
     "start_time": "2023-02-10T12:26:43.259320Z"
    },
    "hidden": true
   },
   "outputs": [
    {
     "name": "stdout",
     "output_type": "stream",
     "text": [
      "INFO  Loading dataset schema file: /app/data_schema/dataset_schema_versions/dataset_schema_v3.json\n",
      "INFO  Loaded dataset schema version v3\n"
     ]
    }
   ],
   "source": [
    "signature = \"bulk.manual.downloaded_1min.parquet.ohlcv.futures.v7_3.ccxt.okx.v1_0_0\"\n",
    "reader = imvcdcimrdc.RawDataReader(signature, stage=\"test\")\n",
    "start_timestamp = pd.Timestamp(\"2023-01-01 10:00:00+00:00\")\n",
    "end_timestamp = pd.Timestamp(\"2023-01-01 17:30:00+00:00\")"
   ]
  },
  {
   "cell_type": "code",
   "execution_count": 7,
   "id": "b349defb",
   "metadata": {
    "ExecuteTime": {
     "end_time": "2023-02-10T12:26:46.739447Z",
     "start_time": "2023-02-10T12:26:45.969285Z"
    },
    "hidden": true
   },
   "outputs": [
    {
     "name": "stdout",
     "output_type": "stream",
     "text": [
      "INFO  Loading dataset schema file: /app/data_schema/dataset_schema_versions/dataset_schema_v3.json\n",
      "INFO  Loaded dataset schema version v3\n"
     ]
    }
   ],
   "source": [
    "ohlcv_data = reader.read_data(start_timestamp, end_timestamp)"
   ]
  },
  {
   "cell_type": "code",
   "execution_count": 8,
   "id": "b881b7aa",
   "metadata": {
    "ExecuteTime": {
     "end_time": "2023-02-10T12:26:48.807727Z",
     "start_time": "2023-02-10T12:26:48.784119Z"
    },
    "hidden": true
   },
   "outputs": [
    {
     "data": {
      "text/html": [
       "<div>\n",
       "<style scoped>\n",
       "    .dataframe tbody tr th:only-of-type {\n",
       "        vertical-align: middle;\n",
       "    }\n",
       "\n",
       "    .dataframe tbody tr th {\n",
       "        vertical-align: top;\n",
       "    }\n",
       "\n",
       "    .dataframe thead th {\n",
       "        text-align: right;\n",
       "    }\n",
       "</style>\n",
       "<table border=\"1\" class=\"dataframe\">\n",
       "  <thead>\n",
       "    <tr style=\"text-align: right;\">\n",
       "      <th></th>\n",
       "      <th>timestamp</th>\n",
       "      <th>open</th>\n",
       "      <th>high</th>\n",
       "      <th>low</th>\n",
       "      <th>close</th>\n",
       "      <th>volume</th>\n",
       "      <th>exchange_id</th>\n",
       "      <th>knowledge_timestamp</th>\n",
       "      <th>currency_pair</th>\n",
       "      <th>year</th>\n",
       "      <th>month</th>\n",
       "    </tr>\n",
       "    <tr>\n",
       "      <th>timestamp</th>\n",
       "      <th></th>\n",
       "      <th></th>\n",
       "      <th></th>\n",
       "      <th></th>\n",
       "      <th></th>\n",
       "      <th></th>\n",
       "      <th></th>\n",
       "      <th></th>\n",
       "      <th></th>\n",
       "      <th></th>\n",
       "      <th></th>\n",
       "    </tr>\n",
       "  </thead>\n",
       "  <tbody>\n",
       "    <tr>\n",
       "      <th>2023-01-01 16:40:00+00:00</th>\n",
       "      <td>1672591200000</td>\n",
       "      <td>3.72540</td>\n",
       "      <td>3.72920</td>\n",
       "      <td>3.72540</td>\n",
       "      <td>3.72600</td>\n",
       "      <td>734.279007</td>\n",
       "      <td>okx</td>\n",
       "      <td>2023-02-08 16:14:01.418073+00:00</td>\n",
       "      <td>APE_USDT</td>\n",
       "      <td>2023</td>\n",
       "      <td>1</td>\n",
       "    </tr>\n",
       "    <tr>\n",
       "      <th>2023-01-01 16:41:00+00:00</th>\n",
       "      <td>1672591260000</td>\n",
       "      <td>3.72920</td>\n",
       "      <td>3.73910</td>\n",
       "      <td>3.72740</td>\n",
       "      <td>3.73150</td>\n",
       "      <td>5803.487853</td>\n",
       "      <td>okx</td>\n",
       "      <td>2023-02-08 16:14:01.418073+00:00</td>\n",
       "      <td>APE_USDT</td>\n",
       "      <td>2023</td>\n",
       "      <td>1</td>\n",
       "    </tr>\n",
       "    <tr>\n",
       "      <th>2023-01-01 16:42:00+00:00</th>\n",
       "      <td>1672591320000</td>\n",
       "      <td>3.72950</td>\n",
       "      <td>3.72960</td>\n",
       "      <td>3.71930</td>\n",
       "      <td>3.71980</td>\n",
       "      <td>1693.620346</td>\n",
       "      <td>okx</td>\n",
       "      <td>2023-02-08 16:14:01.418073+00:00</td>\n",
       "      <td>APE_USDT</td>\n",
       "      <td>2023</td>\n",
       "      <td>1</td>\n",
       "    </tr>\n",
       "    <tr>\n",
       "      <th>2023-01-01 16:43:00+00:00</th>\n",
       "      <td>1672591380000</td>\n",
       "      <td>3.71940</td>\n",
       "      <td>3.72220</td>\n",
       "      <td>3.71640</td>\n",
       "      <td>3.71770</td>\n",
       "      <td>1309.281925</td>\n",
       "      <td>okx</td>\n",
       "      <td>2023-02-08 16:14:01.418073+00:00</td>\n",
       "      <td>APE_USDT</td>\n",
       "      <td>2023</td>\n",
       "      <td>1</td>\n",
       "    </tr>\n",
       "    <tr>\n",
       "      <th>2023-01-01 16:44:00+00:00</th>\n",
       "      <td>1672591440000</td>\n",
       "      <td>3.71540</td>\n",
       "      <td>3.71690</td>\n",
       "      <td>3.71290</td>\n",
       "      <td>3.71550</td>\n",
       "      <td>590.205562</td>\n",
       "      <td>okx</td>\n",
       "      <td>2023-02-08 16:14:01.418073+00:00</td>\n",
       "      <td>APE_USDT</td>\n",
       "      <td>2023</td>\n",
       "      <td>1</td>\n",
       "    </tr>\n",
       "    <tr>\n",
       "      <th>...</th>\n",
       "      <td>...</td>\n",
       "      <td>...</td>\n",
       "      <td>...</td>\n",
       "      <td>...</td>\n",
       "      <td>...</td>\n",
       "      <td>...</td>\n",
       "      <td>...</td>\n",
       "      <td>...</td>\n",
       "      <td>...</td>\n",
       "      <td>...</td>\n",
       "      <td>...</td>\n",
       "    </tr>\n",
       "    <tr>\n",
       "      <th>2023-01-01 17:26:00+00:00</th>\n",
       "      <td>1672593960000</td>\n",
       "      <td>0.33791</td>\n",
       "      <td>0.33816</td>\n",
       "      <td>0.33791</td>\n",
       "      <td>0.33814</td>\n",
       "      <td>40028.271287</td>\n",
       "      <td>okx</td>\n",
       "      <td>2023-02-08 16:14:04.492518+00:00</td>\n",
       "      <td>XRP_USDT</td>\n",
       "      <td>2023</td>\n",
       "      <td>1</td>\n",
       "    </tr>\n",
       "    <tr>\n",
       "      <th>2023-01-01 17:27:00+00:00</th>\n",
       "      <td>1672594020000</td>\n",
       "      <td>0.33813</td>\n",
       "      <td>0.33830</td>\n",
       "      <td>0.33813</td>\n",
       "      <td>0.33827</td>\n",
       "      <td>28838.186196</td>\n",
       "      <td>okx</td>\n",
       "      <td>2023-02-08 16:14:04.492518+00:00</td>\n",
       "      <td>XRP_USDT</td>\n",
       "      <td>2023</td>\n",
       "      <td>1</td>\n",
       "    </tr>\n",
       "    <tr>\n",
       "      <th>2023-01-01 17:28:00+00:00</th>\n",
       "      <td>1672594080000</td>\n",
       "      <td>0.33826</td>\n",
       "      <td>0.33849</td>\n",
       "      <td>0.33826</td>\n",
       "      <td>0.33849</td>\n",
       "      <td>1217.788777</td>\n",
       "      <td>okx</td>\n",
       "      <td>2023-02-08 16:14:04.492518+00:00</td>\n",
       "      <td>XRP_USDT</td>\n",
       "      <td>2023</td>\n",
       "      <td>1</td>\n",
       "    </tr>\n",
       "    <tr>\n",
       "      <th>2023-01-01 17:29:00+00:00</th>\n",
       "      <td>1672594140000</td>\n",
       "      <td>0.33849</td>\n",
       "      <td>0.33849</td>\n",
       "      <td>0.33833</td>\n",
       "      <td>0.33837</td>\n",
       "      <td>18064.620880</td>\n",
       "      <td>okx</td>\n",
       "      <td>2023-02-08 16:14:04.492518+00:00</td>\n",
       "      <td>XRP_USDT</td>\n",
       "      <td>2023</td>\n",
       "      <td>1</td>\n",
       "    </tr>\n",
       "    <tr>\n",
       "      <th>2023-01-01 17:30:00+00:00</th>\n",
       "      <td>1672594200000</td>\n",
       "      <td>0.33838</td>\n",
       "      <td>0.33838</td>\n",
       "      <td>0.33835</td>\n",
       "      <td>0.33835</td>\n",
       "      <td>750.981762</td>\n",
       "      <td>okx</td>\n",
       "      <td>2023-02-08 16:14:04.492518+00:00</td>\n",
       "      <td>XRP_USDT</td>\n",
       "      <td>2023</td>\n",
       "      <td>1</td>\n",
       "    </tr>\n",
       "  </tbody>\n",
       "</table>\n",
       "<p>918 rows × 11 columns</p>\n",
       "</div>"
      ],
      "text/plain": [
       "                               timestamp     open     high      low    close        volume exchange_id              knowledge_timestamp currency_pair  year  month\n",
       "timestamp                                                                                                                                                         \n",
       "2023-01-01 16:40:00+00:00  1672591200000  3.72540  3.72920  3.72540  3.72600    734.279007         okx 2023-02-08 16:14:01.418073+00:00      APE_USDT  2023      1\n",
       "2023-01-01 16:41:00+00:00  1672591260000  3.72920  3.73910  3.72740  3.73150   5803.487853         okx 2023-02-08 16:14:01.418073+00:00      APE_USDT  2023      1\n",
       "2023-01-01 16:42:00+00:00  1672591320000  3.72950  3.72960  3.71930  3.71980   1693.620346         okx 2023-02-08 16:14:01.418073+00:00      APE_USDT  2023      1\n",
       "2023-01-01 16:43:00+00:00  1672591380000  3.71940  3.72220  3.71640  3.71770   1309.281925         okx 2023-02-08 16:14:01.418073+00:00      APE_USDT  2023      1\n",
       "2023-01-01 16:44:00+00:00  1672591440000  3.71540  3.71690  3.71290  3.71550    590.205562         okx 2023-02-08 16:14:01.418073+00:00      APE_USDT  2023      1\n",
       "...                                  ...      ...      ...      ...      ...           ...         ...                              ...           ...   ...    ...\n",
       "2023-01-01 17:26:00+00:00  1672593960000  0.33791  0.33816  0.33791  0.33814  40028.271287         okx 2023-02-08 16:14:04.492518+00:00      XRP_USDT  2023      1\n",
       "2023-01-01 17:27:00+00:00  1672594020000  0.33813  0.33830  0.33813  0.33827  28838.186196         okx 2023-02-08 16:14:04.492518+00:00      XRP_USDT  2023      1\n",
       "2023-01-01 17:28:00+00:00  1672594080000  0.33826  0.33849  0.33826  0.33849   1217.788777         okx 2023-02-08 16:14:04.492518+00:00      XRP_USDT  2023      1\n",
       "2023-01-01 17:29:00+00:00  1672594140000  0.33849  0.33849  0.33833  0.33837  18064.620880         okx 2023-02-08 16:14:04.492518+00:00      XRP_USDT  2023      1\n",
       "2023-01-01 17:30:00+00:00  1672594200000  0.33838  0.33838  0.33835  0.33835    750.981762         okx 2023-02-08 16:14:04.492518+00:00      XRP_USDT  2023      1\n",
       "\n",
       "[918 rows x 11 columns]"
      ]
     },
     "execution_count": 8,
     "metadata": {},
     "output_type": "execute_result"
    }
   ],
   "source": [
    "ohlcv_data"
   ]
  },
  {
   "cell_type": "code",
   "execution_count": 10,
   "id": "3bf02df7",
   "metadata": {
    "ExecuteTime": {
     "end_time": "2023-02-10T05:31:28.282764Z",
     "start_time": "2023-02-10T05:31:28.254070Z"
    },
    "hidden": true
   },
   "outputs": [
    {
     "data": {
      "text/plain": [
       "min   2023-01-01 16:40:00\n",
       "max   2023-01-01 17:30:00\n",
       "Name: timestamp, dtype: datetime64[ns]"
      ]
     },
     "execution_count": 10,
     "metadata": {},
     "output_type": "execute_result"
    }
   ],
   "source": [
    "ohlcv_data.timestamp.agg([\"min\", \"max\"]).apply(pd.to_datetime, unit=\"ms\")"
   ]
  },
  {
   "cell_type": "code",
   "execution_count": 11,
   "id": "862f8436",
   "metadata": {
    "ExecuteTime": {
     "end_time": "2023-02-10T05:31:31.374512Z",
     "start_time": "2023-02-10T05:31:31.354620Z"
    },
    "hidden": true
   },
   "outputs": [
    {
     "data": {
      "text/plain": [
       "min   2023-01-01 16:40:00+00:00\n",
       "max   2023-01-01 17:30:00+00:00\n",
       "Name: timestamp, dtype: datetime64[ns, UTC]"
      ]
     },
     "execution_count": 11,
     "metadata": {},
     "output_type": "execute_result"
    }
   ],
   "source": [
    "pd.Series(ohlcv_data.index).agg([\"min\", \"max\"])"
   ]
  },
  {
   "cell_type": "markdown",
   "id": "1bbfd04e",
   "metadata": {
    "hidden": true
   },
   "source": [
    "## airflow - OHLCV"
   ]
  },
  {
   "cell_type": "code",
   "execution_count": 24,
   "id": "b0ab2900",
   "metadata": {
    "ExecuteTime": {
     "end_time": "2023-02-10T17:41:58.035712Z",
     "start_time": "2023-02-10T17:41:58.030567Z"
    },
    "hidden": true
   },
   "outputs": [
    {
     "name": "stdout",
     "output_type": "stream",
     "text": [
      "INFO  Loading dataset schema file: /app/data_schema/dataset_schema_versions/dataset_schema_v3.json\n",
      "INFO  Loaded dataset schema version v3\n"
     ]
    }
   ],
   "source": [
    "signature = \"bulk.airflow.downloaded_1min.parquet.ohlcv.futures.v7_3.ccxt.okx.v1_0_0\"\n",
    "reader = imvcdcimrdc.RawDataReader(signature, stage=\"test\")\n",
    "start_timestamp = pd.Timestamp(\"2021-01-01 10:00:00+00:00\")\n",
    "end_timestamp = pd.Timestamp(\"2021-04-01 17:30:00+00:00\")"
   ]
  },
  {
   "cell_type": "code",
   "execution_count": 25,
   "id": "ded5d7ba",
   "metadata": {
    "ExecuteTime": {
     "end_time": "2023-02-10T17:41:59.991988Z",
     "start_time": "2023-02-10T17:41:58.311165Z"
    },
    "hidden": true
   },
   "outputs": [
    {
     "name": "stdout",
     "output_type": "stream",
     "text": [
      "INFO  Loading dataset schema file: /app/data_schema/dataset_schema_versions/dataset_schema_v3.json\n",
      "INFO  Loaded dataset schema version v3\n"
     ]
    }
   ],
   "source": [
    "ohlcv_data = reader.read_data(start_timestamp, end_timestamp)"
   ]
  },
  {
   "cell_type": "code",
   "execution_count": 26,
   "id": "4f54aac4",
   "metadata": {
    "ExecuteTime": {
     "end_time": "2023-02-10T17:42:00.002656Z",
     "start_time": "2023-02-10T17:41:59.994772Z"
    },
    "hidden": true
   },
   "outputs": [
    {
     "data": {
      "text/plain": [
       "min   2021-01-01 15:00:00\n",
       "max   2021-04-01 16:39:00\n",
       "Name: timestamp, dtype: datetime64[ns]"
      ]
     },
     "execution_count": 26,
     "metadata": {},
     "output_type": "execute_result"
    }
   ],
   "source": [
    "ohlcv_data.timestamp.agg([\"min\", \"max\"]).apply(pd.to_datetime, unit=\"ms\")b"
   ]
  },
  {
   "cell_type": "code",
   "execution_count": 27,
   "id": "ada7bc6b",
   "metadata": {
    "ExecuteTime": {
     "end_time": "2023-02-10T17:42:21.554988Z",
     "start_time": "2023-02-10T17:42:21.550852Z"
    },
    "hidden": true
   },
   "outputs": [
    {
     "data": {
      "text/plain": [
       "(157300, 11)"
      ]
     },
     "execution_count": 27,
     "metadata": {},
     "output_type": "execute_result"
    }
   ],
   "source": [
    "ohlcv_data.shape"
   ]
  },
  {
   "cell_type": "markdown",
   "id": "742bdddc",
   "metadata": {
    "ExecuteTime": {
     "end_time": "2023-02-08T16:19:57.577114Z",
     "start_time": "2023-02-08T16:19:57.574583Z"
    },
    "hidden": true
   },
   "source": [
    "## Bid_ask"
   ]
  },
  {
   "cell_type": "code",
   "execution_count": 16,
   "id": "afbe9288",
   "metadata": {
    "ExecuteTime": {
     "end_time": "2023-02-10T05:34:27.294722Z",
     "start_time": "2023-02-10T05:34:27.282663Z"
    },
    "hidden": true
   },
   "outputs": [],
   "source": [
    "signature = \"bulk.manual.downloaded_1min.parquet.bid_ask.futures.v7_3.crypto_chassis.okex.v1_0_0\"\n",
    "reader = imvcdcimrdc.RawDataReader(signature, stage=\"test\")\n",
    "start_timestamp = pd.Timestamp(\"2023-01-01 10:00:00+00:00\")\n",
    "end_timestamp = pd.Timestamp(\"2023-01-01 20:30:00+00:00\")"
   ]
  },
  {
   "cell_type": "code",
   "execution_count": 17,
   "id": "fc1b6159",
   "metadata": {
    "ExecuteTime": {
     "end_time": "2023-02-10T05:34:29.279503Z",
     "start_time": "2023-02-10T05:34:28.317091Z"
    },
    "hidden": true
   },
   "outputs": [],
   "source": [
    "bid_ask_data = reader.read_data(start_timestamp, end_timestamp)"
   ]
  },
  {
   "cell_type": "code",
   "execution_count": 18,
   "id": "0c720ccb",
   "metadata": {
    "ExecuteTime": {
     "end_time": "2023-02-10T05:34:33.388581Z",
     "start_time": "2023-02-10T05:34:33.348686Z"
    },
    "hidden": true
   },
   "outputs": [
    {
     "data": {
      "text/html": [
       "<div>\n",
       "<style scoped>\n",
       "    .dataframe tbody tr th:only-of-type {\n",
       "        vertical-align: middle;\n",
       "    }\n",
       "\n",
       "    .dataframe tbody tr th {\n",
       "        vertical-align: top;\n",
       "    }\n",
       "\n",
       "    .dataframe thead th {\n",
       "        text-align: right;\n",
       "    }\n",
       "</style>\n",
       "<table border=\"1\" class=\"dataframe\">\n",
       "  <thead>\n",
       "    <tr style=\"text-align: right;\">\n",
       "      <th></th>\n",
       "      <th>timestamp</th>\n",
       "      <th>bid_price_l1</th>\n",
       "      <th>bid_size_l1</th>\n",
       "      <th>ask_price_l1</th>\n",
       "      <th>ask_size_l1</th>\n",
       "      <th>exchange_id</th>\n",
       "      <th>knowledge_timestamp</th>\n",
       "      <th>currency_pair</th>\n",
       "      <th>year</th>\n",
       "      <th>month</th>\n",
       "    </tr>\n",
       "    <tr>\n",
       "      <th>timestamp</th>\n",
       "      <th></th>\n",
       "      <th></th>\n",
       "      <th></th>\n",
       "      <th></th>\n",
       "      <th></th>\n",
       "      <th></th>\n",
       "      <th></th>\n",
       "      <th></th>\n",
       "      <th></th>\n",
       "      <th></th>\n",
       "    </tr>\n",
       "  </thead>\n",
       "  <tbody>\n",
       "    <tr>\n",
       "      <th>2023-01-01 10:00:00+00:00</th>\n",
       "      <td>1672567200</td>\n",
       "      <td>16543.70000</td>\n",
       "      <td>0.513005</td>\n",
       "      <td>16543.8000</td>\n",
       "      <td>4.554899</td>\n",
       "      <td>okex</td>\n",
       "      <td>2023-02-10 05:33:33.840176+00:00</td>\n",
       "      <td>BTC_USDT</td>\n",
       "      <td>2023</td>\n",
       "      <td>1</td>\n",
       "    </tr>\n",
       "    <tr>\n",
       "      <th>2023-01-01 10:00:01+00:00</th>\n",
       "      <td>1672567201</td>\n",
       "      <td>16543.70000</td>\n",
       "      <td>0.027252</td>\n",
       "      <td>16543.8000</td>\n",
       "      <td>6.868339</td>\n",
       "      <td>okex</td>\n",
       "      <td>2023-02-10 05:33:33.840176+00:00</td>\n",
       "      <td>BTC_USDT</td>\n",
       "      <td>2023</td>\n",
       "      <td>1</td>\n",
       "    </tr>\n",
       "    <tr>\n",
       "      <th>2023-01-01 10:00:02+00:00</th>\n",
       "      <td>1672567202</td>\n",
       "      <td>16543.70000</td>\n",
       "      <td>0.027252</td>\n",
       "      <td>16543.8000</td>\n",
       "      <td>6.868031</td>\n",
       "      <td>okex</td>\n",
       "      <td>2023-02-10 05:33:33.840176+00:00</td>\n",
       "      <td>BTC_USDT</td>\n",
       "      <td>2023</td>\n",
       "      <td>1</td>\n",
       "    </tr>\n",
       "    <tr>\n",
       "      <th>2023-01-01 10:00:03+00:00</th>\n",
       "      <td>1672567203</td>\n",
       "      <td>16543.70000</td>\n",
       "      <td>0.028340</td>\n",
       "      <td>16543.8000</td>\n",
       "      <td>5.206411</td>\n",
       "      <td>okex</td>\n",
       "      <td>2023-02-10 05:33:33.840176+00:00</td>\n",
       "      <td>BTC_USDT</td>\n",
       "      <td>2023</td>\n",
       "      <td>1</td>\n",
       "    </tr>\n",
       "    <tr>\n",
       "      <th>2023-01-01 10:00:04+00:00</th>\n",
       "      <td>1672567204</td>\n",
       "      <td>16543.70000</td>\n",
       "      <td>0.027252</td>\n",
       "      <td>16543.8000</td>\n",
       "      <td>5.356411</td>\n",
       "      <td>okex</td>\n",
       "      <td>2023-02-10 05:33:33.840176+00:00</td>\n",
       "      <td>BTC_USDT</td>\n",
       "      <td>2023</td>\n",
       "      <td>1</td>\n",
       "    </tr>\n",
       "    <tr>\n",
       "      <th>...</th>\n",
       "      <td>...</td>\n",
       "      <td>...</td>\n",
       "      <td>...</td>\n",
       "      <td>...</td>\n",
       "      <td>...</td>\n",
       "      <td>...</td>\n",
       "      <td>...</td>\n",
       "      <td>...</td>\n",
       "      <td>...</td>\n",
       "      <td>...</td>\n",
       "    </tr>\n",
       "    <tr>\n",
       "      <th>2023-01-01 20:29:36+00:00</th>\n",
       "      <td>1672604976</td>\n",
       "      <td>0.33889</td>\n",
       "      <td>3095.475050</td>\n",
       "      <td>0.3389</td>\n",
       "      <td>4451.927274</td>\n",
       "      <td>okex</td>\n",
       "      <td>2023-02-09 17:35:34.724493+00:00</td>\n",
       "      <td>XRP_USDT</td>\n",
       "      <td>2023</td>\n",
       "      <td>1</td>\n",
       "    </tr>\n",
       "    <tr>\n",
       "      <th>2023-01-01 20:29:45+00:00</th>\n",
       "      <td>1672604985</td>\n",
       "      <td>0.33889</td>\n",
       "      <td>3095.475050</td>\n",
       "      <td>0.3389</td>\n",
       "      <td>5221.000000</td>\n",
       "      <td>okex</td>\n",
       "      <td>2023-02-09 17:35:34.724493+00:00</td>\n",
       "      <td>XRP_USDT</td>\n",
       "      <td>2023</td>\n",
       "      <td>1</td>\n",
       "    </tr>\n",
       "    <tr>\n",
       "      <th>2023-01-01 20:29:47+00:00</th>\n",
       "      <td>1672604987</td>\n",
       "      <td>0.33889</td>\n",
       "      <td>3095.870922</td>\n",
       "      <td>0.3389</td>\n",
       "      <td>5221.000000</td>\n",
       "      <td>okex</td>\n",
       "      <td>2023-02-09 17:35:34.724493+00:00</td>\n",
       "      <td>XRP_USDT</td>\n",
       "      <td>2023</td>\n",
       "      <td>1</td>\n",
       "    </tr>\n",
       "    <tr>\n",
       "      <th>2023-01-01 20:29:55+00:00</th>\n",
       "      <td>1672604995</td>\n",
       "      <td>0.33889</td>\n",
       "      <td>2934.433600</td>\n",
       "      <td>0.3389</td>\n",
       "      <td>5221.000000</td>\n",
       "      <td>okex</td>\n",
       "      <td>2023-02-09 17:35:34.724493+00:00</td>\n",
       "      <td>XRP_USDT</td>\n",
       "      <td>2023</td>\n",
       "      <td>1</td>\n",
       "    </tr>\n",
       "    <tr>\n",
       "      <th>2023-01-01 20:29:56+00:00</th>\n",
       "      <td>1672604996</td>\n",
       "      <td>0.33889</td>\n",
       "      <td>12547.938619</td>\n",
       "      <td>0.3389</td>\n",
       "      <td>5221.000000</td>\n",
       "      <td>okex</td>\n",
       "      <td>2023-02-09 17:35:34.724493+00:00</td>\n",
       "      <td>XRP_USDT</td>\n",
       "      <td>2023</td>\n",
       "      <td>1</td>\n",
       "    </tr>\n",
       "  </tbody>\n",
       "</table>\n",
       "<p>410661 rows × 10 columns</p>\n",
       "</div>"
      ],
      "text/plain": [
       "                            timestamp  bid_price_l1   bid_size_l1  \\\n",
       "timestamp                                                           \n",
       "2023-01-01 10:00:00+00:00  1672567200   16543.70000      0.513005   \n",
       "2023-01-01 10:00:01+00:00  1672567201   16543.70000      0.027252   \n",
       "2023-01-01 10:00:02+00:00  1672567202   16543.70000      0.027252   \n",
       "2023-01-01 10:00:03+00:00  1672567203   16543.70000      0.028340   \n",
       "2023-01-01 10:00:04+00:00  1672567204   16543.70000      0.027252   \n",
       "...                               ...           ...           ...   \n",
       "2023-01-01 20:29:36+00:00  1672604976       0.33889   3095.475050   \n",
       "2023-01-01 20:29:45+00:00  1672604985       0.33889   3095.475050   \n",
       "2023-01-01 20:29:47+00:00  1672604987       0.33889   3095.870922   \n",
       "2023-01-01 20:29:55+00:00  1672604995       0.33889   2934.433600   \n",
       "2023-01-01 20:29:56+00:00  1672604996       0.33889  12547.938619   \n",
       "\n",
       "                           ask_price_l1  ask_size_l1 exchange_id  \\\n",
       "timestamp                                                          \n",
       "2023-01-01 10:00:00+00:00    16543.8000     4.554899        okex   \n",
       "2023-01-01 10:00:01+00:00    16543.8000     6.868339        okex   \n",
       "2023-01-01 10:00:02+00:00    16543.8000     6.868031        okex   \n",
       "2023-01-01 10:00:03+00:00    16543.8000     5.206411        okex   \n",
       "2023-01-01 10:00:04+00:00    16543.8000     5.356411        okex   \n",
       "...                                 ...          ...         ...   \n",
       "2023-01-01 20:29:36+00:00        0.3389  4451.927274        okex   \n",
       "2023-01-01 20:29:45+00:00        0.3389  5221.000000        okex   \n",
       "2023-01-01 20:29:47+00:00        0.3389  5221.000000        okex   \n",
       "2023-01-01 20:29:55+00:00        0.3389  5221.000000        okex   \n",
       "2023-01-01 20:29:56+00:00        0.3389  5221.000000        okex   \n",
       "\n",
       "                                       knowledge_timestamp currency_pair  \\\n",
       "timestamp                                                                  \n",
       "2023-01-01 10:00:00+00:00 2023-02-10 05:33:33.840176+00:00      BTC_USDT   \n",
       "2023-01-01 10:00:01+00:00 2023-02-10 05:33:33.840176+00:00      BTC_USDT   \n",
       "2023-01-01 10:00:02+00:00 2023-02-10 05:33:33.840176+00:00      BTC_USDT   \n",
       "2023-01-01 10:00:03+00:00 2023-02-10 05:33:33.840176+00:00      BTC_USDT   \n",
       "2023-01-01 10:00:04+00:00 2023-02-10 05:33:33.840176+00:00      BTC_USDT   \n",
       "...                                                    ...           ...   \n",
       "2023-01-01 20:29:36+00:00 2023-02-09 17:35:34.724493+00:00      XRP_USDT   \n",
       "2023-01-01 20:29:45+00:00 2023-02-09 17:35:34.724493+00:00      XRP_USDT   \n",
       "2023-01-01 20:29:47+00:00 2023-02-09 17:35:34.724493+00:00      XRP_USDT   \n",
       "2023-01-01 20:29:55+00:00 2023-02-09 17:35:34.724493+00:00      XRP_USDT   \n",
       "2023-01-01 20:29:56+00:00 2023-02-09 17:35:34.724493+00:00      XRP_USDT   \n",
       "\n",
       "                           year  month  \n",
       "timestamp                               \n",
       "2023-01-01 10:00:00+00:00  2023      1  \n",
       "2023-01-01 10:00:01+00:00  2023      1  \n",
       "2023-01-01 10:00:02+00:00  2023      1  \n",
       "2023-01-01 10:00:03+00:00  2023      1  \n",
       "2023-01-01 10:00:04+00:00  2023      1  \n",
       "...                         ...    ...  \n",
       "2023-01-01 20:29:36+00:00  2023      1  \n",
       "2023-01-01 20:29:45+00:00  2023      1  \n",
       "2023-01-01 20:29:47+00:00  2023      1  \n",
       "2023-01-01 20:29:55+00:00  2023      1  \n",
       "2023-01-01 20:29:56+00:00  2023      1  \n",
       "\n",
       "[410661 rows x 10 columns]"
      ]
     },
     "execution_count": 18,
     "metadata": {},
     "output_type": "execute_result"
    }
   ],
   "source": [
    "bid_ask_data"
   ]
  },
  {
   "cell_type": "code",
   "execution_count": 42,
   "id": "8b29d143",
   "metadata": {
    "ExecuteTime": {
     "end_time": "2023-02-08T17:06:35.960971Z",
     "start_time": "2023-02-08T17:06:35.513163Z"
    },
    "hidden": true
   },
   "outputs": [
    {
     "data": {
      "text/html": [
       "<div>\n",
       "<style scoped>\n",
       "    .dataframe tbody tr th:only-of-type {\n",
       "        vertical-align: middle;\n",
       "    }\n",
       "\n",
       "    .dataframe tbody tr th {\n",
       "        vertical-align: top;\n",
       "    }\n",
       "\n",
       "    .dataframe thead th {\n",
       "        text-align: right;\n",
       "    }\n",
       "</style>\n",
       "<table border=\"1\" class=\"dataframe\">\n",
       "  <thead>\n",
       "    <tr style=\"text-align: right;\">\n",
       "      <th></th>\n",
       "      <th>timestamp</th>\n",
       "      <th>bid_price</th>\n",
       "      <th>bid_size</th>\n",
       "      <th>ask_price</th>\n",
       "      <th>ask_size</th>\n",
       "      <th>level</th>\n",
       "      <th>exchange_id</th>\n",
       "      <th>knowledge_timestamp</th>\n",
       "      <th>currency_pair</th>\n",
       "      <th>year</th>\n",
       "      <th>month</th>\n",
       "    </tr>\n",
       "    <tr>\n",
       "      <th>timestamp</th>\n",
       "      <th></th>\n",
       "      <th></th>\n",
       "      <th></th>\n",
       "      <th></th>\n",
       "      <th></th>\n",
       "      <th></th>\n",
       "      <th></th>\n",
       "      <th></th>\n",
       "      <th></th>\n",
       "      <th></th>\n",
       "      <th></th>\n",
       "    </tr>\n",
       "  </thead>\n",
       "  <tbody>\n",
       "    <tr>\n",
       "      <th>2023-02-08 16:16:45.856000+00:00</th>\n",
       "      <td>1675873005856</td>\n",
       "      <td>5.73580</td>\n",
       "      <td>12.203860</td>\n",
       "      <td>5.73880</td>\n",
       "      <td>17.425296</td>\n",
       "      <td>1</td>\n",
       "      <td>okx</td>\n",
       "      <td>2023-02-08 16:16:46.094124+00:00</td>\n",
       "      <td>APE_USDT</td>\n",
       "      <td>2023</td>\n",
       "      <td>2</td>\n",
       "    </tr>\n",
       "    <tr>\n",
       "      <th>2023-02-08 16:16:45.856000+00:00</th>\n",
       "      <td>1675873005856</td>\n",
       "      <td>5.73530</td>\n",
       "      <td>74.512504</td>\n",
       "      <td>5.73920</td>\n",
       "      <td>43.560187</td>\n",
       "      <td>2</td>\n",
       "      <td>okx</td>\n",
       "      <td>2023-02-08 16:16:46.094124+00:00</td>\n",
       "      <td>APE_USDT</td>\n",
       "      <td>2023</td>\n",
       "      <td>2</td>\n",
       "    </tr>\n",
       "    <tr>\n",
       "      <th>2023-02-08 16:16:45.856000+00:00</th>\n",
       "      <td>1675873005856</td>\n",
       "      <td>5.73510</td>\n",
       "      <td>61.026624</td>\n",
       "      <td>5.73930</td>\n",
       "      <td>44.000000</td>\n",
       "      <td>3</td>\n",
       "      <td>okx</td>\n",
       "      <td>2023-02-08 16:16:46.094124+00:00</td>\n",
       "      <td>APE_USDT</td>\n",
       "      <td>2023</td>\n",
       "      <td>2</td>\n",
       "    </tr>\n",
       "    <tr>\n",
       "      <th>2023-02-08 16:16:45.856000+00:00</th>\n",
       "      <td>1675873005856</td>\n",
       "      <td>5.73500</td>\n",
       "      <td>44.000000</td>\n",
       "      <td>5.73950</td>\n",
       "      <td>87.116029</td>\n",
       "      <td>4</td>\n",
       "      <td>okx</td>\n",
       "      <td>2023-02-08 16:16:46.094124+00:00</td>\n",
       "      <td>APE_USDT</td>\n",
       "      <td>2023</td>\n",
       "      <td>2</td>\n",
       "    </tr>\n",
       "    <tr>\n",
       "      <th>2023-02-08 16:16:45.856000+00:00</th>\n",
       "      <td>1675873005856</td>\n",
       "      <td>5.73480</td>\n",
       "      <td>20.000000</td>\n",
       "      <td>5.74010</td>\n",
       "      <td>72.441998</td>\n",
       "      <td>5</td>\n",
       "      <td>okx</td>\n",
       "      <td>2023-02-08 16:16:46.094124+00:00</td>\n",
       "      <td>APE_USDT</td>\n",
       "      <td>2023</td>\n",
       "      <td>2</td>\n",
       "    </tr>\n",
       "    <tr>\n",
       "      <th>...</th>\n",
       "      <td>...</td>\n",
       "      <td>...</td>\n",
       "      <td>...</td>\n",
       "      <td>...</td>\n",
       "      <td>...</td>\n",
       "      <td>...</td>\n",
       "      <td>...</td>\n",
       "      <td>...</td>\n",
       "      <td>...</td>\n",
       "      <td>...</td>\n",
       "      <td>...</td>\n",
       "    </tr>\n",
       "    <tr>\n",
       "      <th>2023-02-08 16:16:46.903000+00:00</th>\n",
       "      <td>1675873006903</td>\n",
       "      <td>0.39671</td>\n",
       "      <td>1273.546780</td>\n",
       "      <td>0.39713</td>\n",
       "      <td>390.000000</td>\n",
       "      <td>16</td>\n",
       "      <td>okx</td>\n",
       "      <td>2023-02-08 16:16:47.121453+00:00</td>\n",
       "      <td>XRP_USDT</td>\n",
       "      <td>2023</td>\n",
       "      <td>2</td>\n",
       "    </tr>\n",
       "    <tr>\n",
       "      <th>2023-02-08 16:16:46.903000+00:00</th>\n",
       "      <td>1675873006903</td>\n",
       "      <td>0.39670</td>\n",
       "      <td>1273.546780</td>\n",
       "      <td>0.39714</td>\n",
       "      <td>1305.931340</td>\n",
       "      <td>17</td>\n",
       "      <td>okx</td>\n",
       "      <td>2023-02-08 16:16:47.121453+00:00</td>\n",
       "      <td>XRP_USDT</td>\n",
       "      <td>2023</td>\n",
       "      <td>2</td>\n",
       "    </tr>\n",
       "    <tr>\n",
       "      <th>2023-02-08 16:16:46.903000+00:00</th>\n",
       "      <td>1675873006903</td>\n",
       "      <td>0.39668</td>\n",
       "      <td>2246.818200</td>\n",
       "      <td>0.39715</td>\n",
       "      <td>2926.149480</td>\n",
       "      <td>18</td>\n",
       "      <td>okx</td>\n",
       "      <td>2023-02-08 16:16:47.121453+00:00</td>\n",
       "      <td>XRP_USDT</td>\n",
       "      <td>2023</td>\n",
       "      <td>2</td>\n",
       "    </tr>\n",
       "    <tr>\n",
       "      <th>2023-02-08 16:16:46.903000+00:00</th>\n",
       "      <td>1675873006903</td>\n",
       "      <td>0.39667</td>\n",
       "      <td>2548.727280</td>\n",
       "      <td>0.39716</td>\n",
       "      <td>1511.449228</td>\n",
       "      <td>19</td>\n",
       "      <td>okx</td>\n",
       "      <td>2023-02-08 16:16:47.121453+00:00</td>\n",
       "      <td>XRP_USDT</td>\n",
       "      <td>2023</td>\n",
       "      <td>2</td>\n",
       "    </tr>\n",
       "    <tr>\n",
       "      <th>2023-02-08 16:16:46.903000+00:00</th>\n",
       "      <td>1675873006903</td>\n",
       "      <td>0.39666</td>\n",
       "      <td>2246.818200</td>\n",
       "      <td>0.39717</td>\n",
       "      <td>1200.830110</td>\n",
       "      <td>20</td>\n",
       "      <td>okx</td>\n",
       "      <td>2023-02-08 16:16:47.121453+00:00</td>\n",
       "      <td>XRP_USDT</td>\n",
       "      <td>2023</td>\n",
       "      <td>2</td>\n",
       "    </tr>\n",
       "  </tbody>\n",
       "</table>\n",
       "<p>360 rows × 11 columns</p>\n",
       "</div>"
      ],
      "text/plain": [
       "                                      timestamp  bid_price     bid_size  \\\n",
       "timestamp                                                                 \n",
       "2023-02-08 16:16:45.856000+00:00  1675873005856    5.73580    12.203860   \n",
       "2023-02-08 16:16:45.856000+00:00  1675873005856    5.73530    74.512504   \n",
       "2023-02-08 16:16:45.856000+00:00  1675873005856    5.73510    61.026624   \n",
       "2023-02-08 16:16:45.856000+00:00  1675873005856    5.73500    44.000000   \n",
       "2023-02-08 16:16:45.856000+00:00  1675873005856    5.73480    20.000000   \n",
       "...                                         ...        ...          ...   \n",
       "2023-02-08 16:16:46.903000+00:00  1675873006903    0.39671  1273.546780   \n",
       "2023-02-08 16:16:46.903000+00:00  1675873006903    0.39670  1273.546780   \n",
       "2023-02-08 16:16:46.903000+00:00  1675873006903    0.39668  2246.818200   \n",
       "2023-02-08 16:16:46.903000+00:00  1675873006903    0.39667  2548.727280   \n",
       "2023-02-08 16:16:46.903000+00:00  1675873006903    0.39666  2246.818200   \n",
       "\n",
       "                                  ask_price     ask_size  level exchange_id  \\\n",
       "timestamp                                                                     \n",
       "2023-02-08 16:16:45.856000+00:00    5.73880    17.425296      1         okx   \n",
       "2023-02-08 16:16:45.856000+00:00    5.73920    43.560187      2         okx   \n",
       "2023-02-08 16:16:45.856000+00:00    5.73930    44.000000      3         okx   \n",
       "2023-02-08 16:16:45.856000+00:00    5.73950    87.116029      4         okx   \n",
       "2023-02-08 16:16:45.856000+00:00    5.74010    72.441998      5         okx   \n",
       "...                                     ...          ...    ...         ...   \n",
       "2023-02-08 16:16:46.903000+00:00    0.39713   390.000000     16         okx   \n",
       "2023-02-08 16:16:46.903000+00:00    0.39714  1305.931340     17         okx   \n",
       "2023-02-08 16:16:46.903000+00:00    0.39715  2926.149480     18         okx   \n",
       "2023-02-08 16:16:46.903000+00:00    0.39716  1511.449228     19         okx   \n",
       "2023-02-08 16:16:46.903000+00:00    0.39717  1200.830110     20         okx   \n",
       "\n",
       "                                              knowledge_timestamp  \\\n",
       "timestamp                                                           \n",
       "2023-02-08 16:16:45.856000+00:00 2023-02-08 16:16:46.094124+00:00   \n",
       "2023-02-08 16:16:45.856000+00:00 2023-02-08 16:16:46.094124+00:00   \n",
       "2023-02-08 16:16:45.856000+00:00 2023-02-08 16:16:46.094124+00:00   \n",
       "2023-02-08 16:16:45.856000+00:00 2023-02-08 16:16:46.094124+00:00   \n",
       "2023-02-08 16:16:45.856000+00:00 2023-02-08 16:16:46.094124+00:00   \n",
       "...                                                           ...   \n",
       "2023-02-08 16:16:46.903000+00:00 2023-02-08 16:16:47.121453+00:00   \n",
       "2023-02-08 16:16:46.903000+00:00 2023-02-08 16:16:47.121453+00:00   \n",
       "2023-02-08 16:16:46.903000+00:00 2023-02-08 16:16:47.121453+00:00   \n",
       "2023-02-08 16:16:46.903000+00:00 2023-02-08 16:16:47.121453+00:00   \n",
       "2023-02-08 16:16:46.903000+00:00 2023-02-08 16:16:47.121453+00:00   \n",
       "\n",
       "                                 currency_pair  year  month  \n",
       "timestamp                                                    \n",
       "2023-02-08 16:16:45.856000+00:00      APE_USDT  2023      2  \n",
       "2023-02-08 16:16:45.856000+00:00      APE_USDT  2023      2  \n",
       "2023-02-08 16:16:45.856000+00:00      APE_USDT  2023      2  \n",
       "2023-02-08 16:16:45.856000+00:00      APE_USDT  2023      2  \n",
       "2023-02-08 16:16:45.856000+00:00      APE_USDT  2023      2  \n",
       "...                                        ...   ...    ...  \n",
       "2023-02-08 16:16:46.903000+00:00      XRP_USDT  2023      2  \n",
       "2023-02-08 16:16:46.903000+00:00      XRP_USDT  2023      2  \n",
       "2023-02-08 16:16:46.903000+00:00      XRP_USDT  2023      2  \n",
       "2023-02-08 16:16:46.903000+00:00      XRP_USDT  2023      2  \n",
       "2023-02-08 16:16:46.903000+00:00      XRP_USDT  2023      2  \n",
       "\n",
       "[360 rows x 11 columns]"
      ]
     },
     "execution_count": 42,
     "metadata": {},
     "output_type": "execute_result"
    }
   ],
   "source": [
    "start_timestamp = pd.Timestamp(\"2023-02-01 00:00:00+00:00\")\n",
    "end_timestamp = pd.Timestamp(\"2023-02-28 00:00:00+00:00\")\n",
    "reader.read_data(start_timestamp, end_timestamp)"
   ]
  },
  {
   "cell_type": "markdown",
   "id": "aacc9381",
   "metadata": {
    "hidden": true
   },
   "source": [
    "### Errors"
   ]
  },
  {
   "cell_type": "markdown",
   "id": "9d0a17ab",
   "metadata": {
    "hidden": true
   },
   "source": [
    "- wrong timestamps"
   ]
  },
  {
   "cell_type": "markdown",
   "id": "08749dc5",
   "metadata": {
    "heading_collapsed": true,
    "hidden": true
   },
   "source": [
    "## Trades"
   ]
  },
  {
   "cell_type": "code",
   "execution_count": 124,
   "id": "e4775171",
   "metadata": {
    "ExecuteTime": {
     "end_time": "2023-02-09T18:57:47.692617Z",
     "start_time": "2023-02-09T18:57:47.686938Z"
    },
    "hidden": true
   },
   "outputs": [
    {
     "name": "stdout",
     "output_type": "stream",
     "text": [
      "INFO  Loading dataset schema file: /app/data_schema/dataset_schema_versions/dataset_schema_v3.json\n",
      "INFO  Loaded dataset schema version v3\n"
     ]
    }
   ],
   "source": [
    "signature = \"bulk.manual.downloaded_1min.parquet.trades.futures.v7_3.ccxt.okx.v1_0_0\"\n",
    "reader = imvcdcimrdc.RawDataReader(signature, stage=\"test\")\n",
    "start_timestamp = pd.Timestamp(\"2023-01-01 10:00:00+00:00\")\n",
    "end_timestamp = pd.Timestamp(\"2023-01-01 20:30:00+00:00\")"
   ]
  },
  {
   "cell_type": "code",
   "execution_count": 125,
   "id": "8283f1c9",
   "metadata": {
    "ExecuteTime": {
     "end_time": "2023-02-09T18:57:49.391962Z",
     "start_time": "2023-02-09T18:57:49.305615Z"
    },
    "hidden": true
   },
   "outputs": [
    {
     "name": "stdout",
     "output_type": "stream",
     "text": [
      "INFO  Loading dataset schema file: /app/data_schema/dataset_schema_versions/dataset_schema_v3.json\n",
      "INFO  Loaded dataset schema version v3\n"
     ]
    },
    {
     "ename": "AssertionError",
     "evalue": "\n################################################################################\n* Failed assertion *\ncond=False\nS3 path 's3://cryptokaizen-data-test/v3/bulk/manual/downloaded_1min/parquet/trades/futures/v7_3/ccxt/okx/v1_0_0' doesn't exist!\n################################################################################\n",
     "output_type": "error",
     "traceback": [
      "\u001b[0;31m---------------------------------------------------------------------------\u001b[0m",
      "\u001b[0;31mAssertionError\u001b[0m                            Traceback (most recent call last)",
      "Cell \u001b[0;32mIn [125], line 1\u001b[0m\n\u001b[0;32m----> 1\u001b[0m \u001b[43mreader\u001b[49m\u001b[38;5;241;43m.\u001b[39;49m\u001b[43mread_data\u001b[49m\u001b[43m(\u001b[49m\u001b[43mstart_timestamp\u001b[49m\u001b[43m,\u001b[49m\u001b[43m \u001b[49m\u001b[43mend_timestamp\u001b[49m\u001b[43m)\u001b[49m\n",
      "File \u001b[0;32m/app/im_v2/common/data/client/im_raw_data_client.py:74\u001b[0m, in \u001b[0;36mRawDataReader.read_data\u001b[0;34m(self, start_timestamp, end_timestamp)\u001b[0m\n\u001b[1;32m     69\u001b[0m \u001b[38;5;124;03m\"\"\"\u001b[39;00m\n\u001b[1;32m     70\u001b[0m \u001b[38;5;124;03mLoad data in a specified time interval.\u001b[39;00m\n\u001b[1;32m     71\u001b[0m \u001b[38;5;124;03m\"\"\"\u001b[39;00m\n\u001b[1;32m     72\u001b[0m \u001b[38;5;28;01mif\u001b[39;00m \u001b[38;5;28mself\u001b[39m\u001b[38;5;241m.\u001b[39margs[\u001b[38;5;124m\"\u001b[39m\u001b[38;5;124mdata_format\u001b[39m\u001b[38;5;124m\"\u001b[39m] \u001b[38;5;241m==\u001b[39m \u001b[38;5;124m\"\u001b[39m\u001b[38;5;124mparquet\u001b[39m\u001b[38;5;124m\"\u001b[39m:\n\u001b[1;32m     73\u001b[0m     \u001b[38;5;66;03m# Load the data from Parquet.\u001b[39;00m\n\u001b[0;32m---> 74\u001b[0m     data \u001b[38;5;241m=\u001b[39m \u001b[38;5;28;43mself\u001b[39;49m\u001b[38;5;241;43m.\u001b[39;49m\u001b[43mload_parquet\u001b[49m\u001b[43m(\u001b[49m\u001b[43mstart_timestamp\u001b[49m\u001b[43m,\u001b[49m\u001b[43m \u001b[49m\u001b[43mend_timestamp\u001b[49m\u001b[43m)\u001b[49m\n\u001b[1;32m     75\u001b[0m \u001b[38;5;28;01melse\u001b[39;00m:\n\u001b[1;32m     76\u001b[0m     \u001b[38;5;66;03m# Load the data from DB.\u001b[39;00m\n\u001b[1;32m     77\u001b[0m     data \u001b[38;5;241m=\u001b[39m \u001b[38;5;28mself\u001b[39m\u001b[38;5;241m.\u001b[39mload_db_table(start_timestamp, end_timestamp)\n",
      "File \u001b[0;32m/app/im_v2/common/data/client/im_raw_data_client.py:149\u001b[0m, in \u001b[0;36mRawDataReader.load_parquet\u001b[0;34m(self, start_ts, end_ts)\u001b[0m\n\u001b[1;32m    147\u001b[0m s3_path \u001b[38;5;241m=\u001b[39m \u001b[38;5;28mself\u001b[39m\u001b[38;5;241m.\u001b[39m_build_s3_pq_file_path()\n\u001b[1;32m    148\u001b[0m filters \u001b[38;5;241m=\u001b[39m [(\u001b[38;5;124m\"\u001b[39m\u001b[38;5;124mtimestamp\u001b[39m\u001b[38;5;124m\"\u001b[39m, \u001b[38;5;124m\"\u001b[39m\u001b[38;5;124m>=\u001b[39m\u001b[38;5;124m\"\u001b[39m, start_ts), (\u001b[38;5;124m\"\u001b[39m\u001b[38;5;124mtimestamp\u001b[39m\u001b[38;5;124m\"\u001b[39m, \u001b[38;5;124m\"\u001b[39m\u001b[38;5;124m<=\u001b[39m\u001b[38;5;124m\"\u001b[39m, end_ts)]\n\u001b[0;32m--> 149\u001b[0m data \u001b[38;5;241m=\u001b[39m \u001b[43mhparque\u001b[49m\u001b[38;5;241;43m.\u001b[39;49m\u001b[43mfrom_parquet\u001b[49m\u001b[43m(\u001b[49m\u001b[43ms3_path\u001b[49m\u001b[43m,\u001b[49m\u001b[43m \u001b[49m\u001b[43mfilters\u001b[49m\u001b[38;5;241;43m=\u001b[39;49m\u001b[43mfilters\u001b[49m\u001b[43m,\u001b[49m\u001b[43m \u001b[49m\u001b[43maws_profile\u001b[49m\u001b[38;5;241;43m=\u001b[39;49m\u001b[38;5;124;43m\"\u001b[39;49m\u001b[38;5;124;43mck\u001b[39;49m\u001b[38;5;124;43m\"\u001b[39;49m\u001b[43m)\u001b[49m\n\u001b[1;32m    150\u001b[0m \u001b[38;5;28;01mreturn\u001b[39;00m data\n",
      "File \u001b[0;32m/app/helpers/hparquet.py:100\u001b[0m, in \u001b[0;36mfrom_parquet\u001b[0;34m(file_name, columns, filters, n_rows, schema, log_level, report_stats, aws_profile)\u001b[0m\n\u001b[1;32m     98\u001b[0m     \u001b[38;5;66;03m# Pyarrow S3FileSystem does not have `exists` method.\u001b[39;00m\n\u001b[1;32m     99\u001b[0m     s3_filesystem \u001b[38;5;241m=\u001b[39m hs3\u001b[38;5;241m.\u001b[39mget_s3fs(aws_profile)\n\u001b[0;32m--> 100\u001b[0m     \u001b[43mhs3\u001b[49m\u001b[38;5;241;43m.\u001b[39;49m\u001b[43mdassert_path_exists\u001b[49m\u001b[43m(\u001b[49m\u001b[43mfile_name\u001b[49m\u001b[43m,\u001b[49m\u001b[43m \u001b[49m\u001b[43ms3_filesystem\u001b[49m\u001b[43m)\u001b[49m\n\u001b[1;32m    101\u001b[0m     file_name \u001b[38;5;241m=\u001b[39m file_name\u001b[38;5;241m.\u001b[39mlstrip(\u001b[38;5;124m\"\u001b[39m\u001b[38;5;124ms3://\u001b[39m\u001b[38;5;124m\"\u001b[39m)\n\u001b[1;32m    102\u001b[0m \u001b[38;5;28;01melse\u001b[39;00m:\n",
      "File \u001b[0;32m/app/helpers/hs3.py:118\u001b[0m, in \u001b[0;36mdassert_path_exists\u001b[0;34m(path, aws_profile)\u001b[0m\n\u001b[1;32m    116\u001b[0m \u001b[38;5;28;01mif\u001b[39;00m is_s3_path(path):\n\u001b[1;32m    117\u001b[0m     s3fs_ \u001b[38;5;241m=\u001b[39m get_s3fs(aws_profile)\n\u001b[0;32m--> 118\u001b[0m     \u001b[43mhdbg\u001b[49m\u001b[38;5;241;43m.\u001b[39;49m\u001b[43mdassert\u001b[49m\u001b[43m(\u001b[49m\u001b[43ms3fs_\u001b[49m\u001b[38;5;241;43m.\u001b[39;49m\u001b[43mexists\u001b[49m\u001b[43m(\u001b[49m\u001b[43mpath\u001b[49m\u001b[43m)\u001b[49m\u001b[43m,\u001b[49m\u001b[43m \u001b[49m\u001b[38;5;124;43mf\u001b[39;49m\u001b[38;5;124;43m\"\u001b[39;49m\u001b[38;5;124;43mS3 path \u001b[39;49m\u001b[38;5;124;43m'\u001b[39;49m\u001b[38;5;132;43;01m{\u001b[39;49;00m\u001b[43mpath\u001b[49m\u001b[38;5;132;43;01m}\u001b[39;49;00m\u001b[38;5;124;43m'\u001b[39;49m\u001b[38;5;124;43m doesn\u001b[39;49m\u001b[38;5;124;43m'\u001b[39;49m\u001b[38;5;124;43mt exist!\u001b[39;49m\u001b[38;5;124;43m\"\u001b[39;49m\u001b[43m)\u001b[49m\n\u001b[1;32m    119\u001b[0m \u001b[38;5;28;01melse\u001b[39;00m:\n\u001b[1;32m    120\u001b[0m     hdbg\u001b[38;5;241m.\u001b[39mdassert_path_exists(path)\n",
      "File \u001b[0;32m/app/helpers/hdbg.py:159\u001b[0m, in \u001b[0;36mdassert\u001b[0;34m(cond, msg, only_warning, *args)\u001b[0m\n\u001b[1;32m    157\u001b[0m \u001b[38;5;28;01mif\u001b[39;00m \u001b[38;5;129;01mnot\u001b[39;00m cond:\n\u001b[1;32m    158\u001b[0m     txt \u001b[38;5;241m=\u001b[39m \u001b[38;5;124mf\u001b[39m\u001b[38;5;124m\"\u001b[39m\u001b[38;5;124mcond=\u001b[39m\u001b[38;5;132;01m{\u001b[39;00mcond\u001b[38;5;132;01m}\u001b[39;00m\u001b[38;5;124m\"\u001b[39m\n\u001b[0;32m--> 159\u001b[0m     \u001b[43m_dfatal\u001b[49m\u001b[43m(\u001b[49m\u001b[43mtxt\u001b[49m\u001b[43m,\u001b[49m\u001b[43m \u001b[49m\u001b[43mmsg\u001b[49m\u001b[43m,\u001b[49m\u001b[43m \u001b[49m\u001b[38;5;241;43m*\u001b[39;49m\u001b[43margs\u001b[49m\u001b[43m,\u001b[49m\u001b[43m \u001b[49m\u001b[43monly_warning\u001b[49m\u001b[38;5;241;43m=\u001b[39;49m\u001b[43monly_warning\u001b[49m\u001b[43m)\u001b[49m\n",
      "File \u001b[0;32m/app/helpers/hdbg.py:142\u001b[0m, in \u001b[0;36m_dfatal\u001b[0;34m(txt, msg, only_warning, *args)\u001b[0m\n\u001b[1;32m    139\u001b[0m     _LOG\u001b[38;5;241m.\u001b[39mwarning(dfatal_txt)\n\u001b[1;32m    140\u001b[0m \u001b[38;5;28;01melse\u001b[39;00m:\n\u001b[1;32m    141\u001b[0m     \u001b[38;5;66;03m# Abort.\u001b[39;00m\n\u001b[0;32m--> 142\u001b[0m     \u001b[43mdfatal\u001b[49m\u001b[43m(\u001b[49m\u001b[43mdfatal_txt\u001b[49m\u001b[43m)\u001b[49m\n",
      "File \u001b[0;32m/app/helpers/hdbg.py:71\u001b[0m, in \u001b[0;36mdfatal\u001b[0;34m(message, assertion_type)\u001b[0m\n\u001b[1;32m     69\u001b[0m \u001b[38;5;28;01mif\u001b[39;00m assertion_type \u001b[38;5;129;01mis\u001b[39;00m \u001b[38;5;28;01mNone\u001b[39;00m:\n\u001b[1;32m     70\u001b[0m     assertion_type \u001b[38;5;241m=\u001b[39m \u001b[38;5;167;01mAssertionError\u001b[39;00m\n\u001b[0;32m---> 71\u001b[0m \u001b[38;5;28;01mraise\u001b[39;00m assertion_type(ret)\n",
      "\u001b[0;31mAssertionError\u001b[0m: \n################################################################################\n* Failed assertion *\ncond=False\nS3 path 's3://cryptokaizen-data-test/v3/bulk/manual/downloaded_1min/parquet/trades/futures/v7_3/ccxt/okx/v1_0_0' doesn't exist!\n################################################################################\n"
     ]
    }
   ],
   "source": [
    "reader.read_data(start_timestamp, end_timestamp)"
   ]
  },
  {
   "cell_type": "markdown",
   "id": "5dec25ef",
   "metadata": {
    "hidden": true
   },
   "source": [
    "### Errors"
   ]
  },
  {
   "cell_type": "markdown",
   "id": "5f55e8f4",
   "metadata": {
    "hidden": true
   },
   "source": [
    "- no data"
   ]
  },
  {
   "cell_type": "markdown",
   "id": "0febbd74",
   "metadata": {
    "heading_collapsed": true
   },
   "source": [
    "# Crypto_chassis"
   ]
  },
  {
   "cell_type": "markdown",
   "id": "e8d505c1",
   "metadata": {
    "hidden": true
   },
   "source": [
    "## Preview availability\t of the symbols"
   ]
  },
  {
   "cell_type": "code",
   "execution_count": 103,
   "id": "562284f8",
   "metadata": {
    "ExecuteTime": {
     "end_time": "2023-02-14T19:48:04.750867Z",
     "start_time": "2023-02-14T19:48:04.267745Z"
    },
    "hidden": true,
    "lines_to_next_cell": 2
   },
   "outputs": [],
   "source": [
    "import requests\n",
    "\n",
    "resp = requests.get(\"https://api.cryptochassis.com/v1/information?exchange=okex&dataType=market-depth\")"
   ]
  },
  {
   "cell_type": "code",
   "execution_count": 104,
   "id": "50f4af5f",
   "metadata": {
    "ExecuteTime": {
     "end_time": "2023-02-14T19:48:04.757666Z",
     "start_time": "2023-02-14T19:48:04.753816Z"
    },
    "hidden": true
   },
   "outputs": [],
   "source": [
    "data = pd.DataFrame(resp.json())"
   ]
  },
  {
   "cell_type": "code",
   "execution_count": 105,
   "id": "08668f2f",
   "metadata": {
    "ExecuteTime": {
     "end_time": "2023-02-14T19:48:14.169387Z",
     "start_time": "2023-02-14T19:48:14.164998Z"
    },
    "hidden": true
   },
   "outputs": [
    {
     "data": {
      "text/plain": [
       "{'depth_10': {'firstAvailableTime': {'seconds': 1628294400,\n",
       "   'iso': '2021-08-07T00:00:00.000Z'},\n",
       "  'lastAvailableTime': {'seconds': 1676246400,\n",
       "   'iso': '2023-02-13T00:00:00.000Z'}},\n",
       " 'depth_1': {'firstAvailableTime': {'seconds': 1628294400,\n",
       "   'iso': '2021-08-07T00:00:00.000Z'},\n",
       "  'lastAvailableTime': {'seconds': 1676246400,\n",
       "   'iso': '2023-02-13T00:00:00.000Z'}}}"
      ]
     },
     "execution_count": 105,
     "metadata": {},
     "output_type": "execute_result"
    }
   ],
   "source": [
    "data.head().availability[0]"
   ]
  },
  {
   "cell_type": "code",
   "execution_count": 109,
   "id": "df035d1c",
   "metadata": {
    "ExecuteTime": {
     "end_time": "2023-02-14T20:01:26.546009Z",
     "start_time": "2023-02-14T20:01:26.529485Z"
    },
    "hidden": true
   },
   "outputs": [
    {
     "data": {
      "text/html": [
       "<div>\n",
       "<style scoped>\n",
       "    .dataframe tbody tr th:only-of-type {\n",
       "        vertical-align: middle;\n",
       "    }\n",
       "\n",
       "    .dataframe tbody tr th {\n",
       "        vertical-align: top;\n",
       "    }\n",
       "\n",
       "    .dataframe thead th {\n",
       "        text-align: right;\n",
       "    }\n",
       "</style>\n",
       "<table border=\"1\" class=\"dataframe\">\n",
       "  <thead>\n",
       "    <tr style=\"text-align: right;\">\n",
       "      <th></th>\n",
       "      <th>dataType</th>\n",
       "      <th>exchange</th>\n",
       "      <th>instrument</th>\n",
       "      <th>availability</th>\n",
       "      <th>examples</th>\n",
       "    </tr>\n",
       "  </thead>\n",
       "  <tbody>\n",
       "    <tr>\n",
       "      <th>0</th>\n",
       "      <td>market-depth</td>\n",
       "      <td>okex</td>\n",
       "      <td>ada-btc</td>\n",
       "      <td>{'depth_10': {'firstAvailableTime': {'seconds'...</td>\n",
       "      <td>[https://api.cryptochassis.com/v1/market-depth...</td>\n",
       "    </tr>\n",
       "    <tr>\n",
       "      <th>1</th>\n",
       "      <td>market-depth</td>\n",
       "      <td>okex</td>\n",
       "      <td>ada-usd-swap</td>\n",
       "      <td>{'depth_10': {'firstAvailableTime': {'seconds'...</td>\n",
       "      <td>[https://api.cryptochassis.com/v1/market-depth...</td>\n",
       "    </tr>\n",
       "    <tr>\n",
       "      <th>2</th>\n",
       "      <td>market-depth</td>\n",
       "      <td>okex</td>\n",
       "      <td>ada-usdt</td>\n",
       "      <td>{'depth_10': {'firstAvailableTime': {'seconds'...</td>\n",
       "      <td>[https://api.cryptochassis.com/v1/market-depth...</td>\n",
       "    </tr>\n",
       "    <tr>\n",
       "      <th>3</th>\n",
       "      <td>market-depth</td>\n",
       "      <td>okex</td>\n",
       "      <td>ada-usdt-swap</td>\n",
       "      <td>{'depth_10': {'firstAvailableTime': {'seconds'...</td>\n",
       "      <td>[https://api.cryptochassis.com/v1/market-depth...</td>\n",
       "    </tr>\n",
       "    <tr>\n",
       "      <th>4</th>\n",
       "      <td>market-depth</td>\n",
       "      <td>okex</td>\n",
       "      <td>bch-btc</td>\n",
       "      <td>{'depth_10': {'firstAvailableTime': {'seconds'...</td>\n",
       "      <td>[https://api.cryptochassis.com/v1/market-depth...</td>\n",
       "    </tr>\n",
       "  </tbody>\n",
       "</table>\n",
       "</div>"
      ],
      "text/plain": [
       "       dataType exchange     instrument                                       availability                                           examples\n",
       "0  market-depth     okex        ada-btc  {'depth_10': {'firstAvailableTime': {'seconds'...  [https://api.cryptochassis.com/v1/market-depth...\n",
       "1  market-depth     okex   ada-usd-swap  {'depth_10': {'firstAvailableTime': {'seconds'...  [https://api.cryptochassis.com/v1/market-depth...\n",
       "2  market-depth     okex       ada-usdt  {'depth_10': {'firstAvailableTime': {'seconds'...  [https://api.cryptochassis.com/v1/market-depth...\n",
       "3  market-depth     okex  ada-usdt-swap  {'depth_10': {'firstAvailableTime': {'seconds'...  [https://api.cryptochassis.com/v1/market-depth...\n",
       "4  market-depth     okex        bch-btc  {'depth_10': {'firstAvailableTime': {'seconds'...  [https://api.cryptochassis.com/v1/market-depth..."
      ]
     },
     "execution_count": 109,
     "metadata": {},
     "output_type": "execute_result"
    }
   ],
   "source": [
    "data.head()"
   ]
  },
  {
   "cell_type": "code",
   "execution_count": 85,
   "id": "38ec5810",
   "metadata": {
    "ExecuteTime": {
     "end_time": "2023-02-14T19:25:53.902354Z",
     "start_time": "2023-02-14T19:25:53.890370Z"
    },
    "hidden": true
   },
   "outputs": [
    {
     "data": {
      "text/plain": [
       "array(['ada-btc', 'ada-usd-swap', 'ada-usdt', 'ada-usdt-swap', 'bch-btc',\n",
       "       'bch-usdc', 'bch-usd-swap', 'bch-usdt', 'bch-usdt-swap',\n",
       "       'bnb-usd-swap', 'bnb-usdt-swap', 'btc-usdc', 'btc-usd-swap',\n",
       "       'btc-usdt', 'btc-usdt-swap', 'doge-btc', 'doge-usd-swap',\n",
       "       'doge-usdt', 'doge-usdt-swap', 'dot-btc', 'dot-usd-swap',\n",
       "       'dot-usdt', 'dot-usdt-swap', 'eos-btc', 'eos-usdc', 'eos-usd-swap',\n",
       "       'eos-usdt', 'eos-usdt-swap', 'eth-btc', 'eth-usdc', 'eth-usd-swap',\n",
       "       'eth-usdt', 'eth-usdt-swap', 'ltc-btc', 'ltc-usdc', 'ltc-usd-swap',\n",
       "       'ltc-usdt', 'ltc-usdt-swap', 'luna-btc', 'luna-usd-swap',\n",
       "       'luna-usdt', 'luna-usdt-swap', 'sol-btc', 'sol-usd-swap',\n",
       "       'sol-usdt', 'sol-usdt-swap', 'uni-btc', 'uni-usd-swap', 'uni-usdt',\n",
       "       'uni-usdt-swap', 'xrp-btc', 'xrp-usdc', 'xrp-usd-swap', 'xrp-usdt',\n",
       "       'xrp-usdt-swap'], dtype=object)"
      ]
     },
     "execution_count": 85,
     "metadata": {},
     "output_type": "execute_result"
    }
   ],
   "source": [
    "data.instrument.unique()"
   ]
  },
  {
   "cell_type": "markdown",
   "id": "c09e4683",
   "metadata": {
    "hidden": true
   },
   "source": [
    "### Compare symbols sets"
   ]
  },
  {
   "cell_type": "code",
   "execution_count": 86,
   "id": "e852a3c8",
   "metadata": {
    "ExecuteTime": {
     "end_time": "2023-02-14T19:32:39.982989Z",
     "start_time": "2023-02-14T19:32:39.978395Z"
    },
    "hidden": true
   },
   "outputs": [],
   "source": [
    "data_frequency = \"T\"\n",
    "vendor_name = \"crypto_chassis\"\n",
    "mode = \"download\"\n",
    "version = \"v7.3\"\n",
    "exchange_id = \"okex\"\n",
    "universe = imvcounun.get_vendor_universe(\n",
    "    vendor_name,\n",
    "    mode,\n",
    "    version=version)"
   ]
  },
  {
   "cell_type": "code",
   "execution_count": 89,
   "id": "1737e6b1",
   "metadata": {
    "ExecuteTime": {
     "end_time": "2023-02-14T19:35:06.792773Z",
     "start_time": "2023-02-14T19:35:06.789134Z"
    },
    "hidden": true
   },
   "outputs": [],
   "source": [
    "symbols = pd.Series(universe[exchange_id]).str.lower()"
   ]
  },
  {
   "cell_type": "code",
   "execution_count": 92,
   "id": "73562a64",
   "metadata": {
    "ExecuteTime": {
     "end_time": "2023-02-14T19:36:23.752919Z",
     "start_time": "2023-02-14T19:36:23.749929Z"
    },
    "hidden": true
   },
   "outputs": [],
   "source": [
    "symbols = symbols.str.replace(\"_\", \"-\")"
   ]
  },
  {
   "cell_type": "code",
   "execution_count": 96,
   "id": "1081a8ed",
   "metadata": {
    "ExecuteTime": {
     "end_time": "2023-02-14T19:38:41.514064Z",
     "start_time": "2023-02-14T19:38:41.509463Z"
    },
    "hidden": true
   },
   "outputs": [
    {
     "data": {
      "text/plain": [
       "0       eth-usdt\n",
       "1       btc-usdt\n",
       "2      sand-usdt\n",
       "3     storj-usdt\n",
       "4       gmt-usdt\n",
       "5      avax-usdt\n",
       "6       bnb-usdt\n",
       "7       ape-usdt\n",
       "8     matic-usdt\n",
       "9       dot-usdt\n",
       "10     link-usdt\n",
       "11      xrp-usdt\n",
       "12     near-usdt\n",
       "13      ftm-usdt\n",
       "14    waves-usdt\n",
       "15      axs-usdt\n",
       "16     doge-usdt\n",
       "17      sol-usdt\n",
       "dtype: object"
      ]
     },
     "execution_count": 96,
     "metadata": {},
     "output_type": "execute_result"
    }
   ],
   "source": [
    "symbols"
   ]
  },
  {
   "cell_type": "code",
   "execution_count": 97,
   "id": "c8942825",
   "metadata": {
    "ExecuteTime": {
     "end_time": "2023-02-14T19:39:38.504809Z",
     "start_time": "2023-02-14T19:39:38.499367Z"
    },
    "hidden": true
   },
   "outputs": [
    {
     "data": {
      "text/plain": [
       "0      eth-usdt\n",
       "1      btc-usdt\n",
       "9      dot-usdt\n",
       "11     xrp-usdt\n",
       "16    doge-usdt\n",
       "17     sol-usdt\n",
       "dtype: object"
      ]
     },
     "execution_count": 97,
     "metadata": {},
     "output_type": "execute_result"
    }
   ],
   "source": [
    "symbols[symbols.isin(data.instrument)]"
   ]
  },
  {
   "cell_type": "markdown",
   "id": "834dc297",
   "metadata": {
    "hidden": true
   },
   "source": [
    "## Download to parquet and preview"
   ]
  },
  {
   "cell_type": "markdown",
   "id": "c41f55f9",
   "metadata": {
    "hidden": true
   },
   "source": [
    "### Bid_ask"
   ]
  },
  {
   "cell_type": "code",
   "execution_count": 20,
   "id": "7d7759bc",
   "metadata": {
    "ExecuteTime": {
     "end_time": "2023-02-15T14:39:35.302020Z",
     "start_time": "2023-02-15T14:39:11.191486Z"
    },
    "hidden": true
   },
   "outputs": [
    {
     "name": "stdout",
     "output_type": "stream",
     "text": [
      "\u001b[0m\u001b[36mINFO\u001b[0m: > cmd='/app/im_v2/common/data/extract/download_bulk.py --download_mode bulk --downloading_entity manual --action_tag downloaded_1min --vendor crypto_chassis --start_timestamp 2023-01-01 10:00:00+00:00 --end_timestamp 2023-01-01 20:30:00+00:00 --exchange_id okex --universe v4 --aws_profile ck --data_type bid_ask --data_format parquet --contract_type spot --s3_path s3://cryptokaizen-data-test/'\n",
      "report_memory_usage=False report_cpu_usage=False\n",
      "\u001b[36mINFO\u001b[0m: Saving log to file '/app/im_v2/common/data/extract/download_bulk.py.log'\n",
      "09:39:15 - \u001b[36mINFO \u001b[0m dataset_schema_utils.py _get_dataset_schema_file_path:37 Loading dataset schema file: /app/data_schema/dataset_schema_versions/dataset_schema_v3.json\n",
      "09:39:15 - \u001b[36mINFO \u001b[0m dataset_schema_utils.py get_dataset_schema:72          Loaded dataset schema version v3\n",
      "09:39:15 - \u001b[36mINFO \u001b[0m extractor.py _download_bid_ask:228                     https://api.cryptochassis.com/v1/market-depth/okex/eth-usdt?startTime=2023-01-01T10:00:00Z\n",
      "09:39:17 - \u001b[36mINFO \u001b[0m extractor.py _download_bid_ask:259                     DataFrame shape before timestamp filter: (56133, 5)\n",
      "09:39:17 - \u001b[36mINFO \u001b[0m extractor.py _download_bid_ask:262                     DataFrame shape after timestamp filter: (25431, 5)\n",
      "09:39:17 - \u001b[36mINFO \u001b[0m extract_utils.py download_historical_data:716          Saving the dataset into s3://cryptokaizen-data-test/v3/bulk/manual/downloaded_1min/parquet/bid_ask/spot/v4/crypto_chassis/okex/v1_0_0\n"
     ]
    },
    {
     "name": "stderr",
     "output_type": "stream",
     "text": [
      "\r",
      "  0%|          | 0/1 [00:00<?, ?it/s]\r",
      "100%|██████████| 1/1 [00:01<00:00,  1.55s/it]\r",
      "100%|██████████| 1/1 [00:01<00:00,  1.55s/it]\n"
     ]
    },
    {
     "name": "stdout",
     "output_type": "stream",
     "text": [
      "09:39:17 - \u001b[36mINFO \u001b[0m extractor.py _download_bid_ask:228                     https://api.cryptochassis.com/v1/market-depth/okex/btc-usdt?startTime=2023-01-01T10:00:00Z\n",
      "09:39:19 - \u001b[36mINFO \u001b[0m extractor.py _download_bid_ask:259                     DataFrame shape before timestamp filter: (67545, 5)\n",
      "09:39:19 - \u001b[36mINFO \u001b[0m extractor.py _download_bid_ask:262                     DataFrame shape after timestamp filter: (29047, 5)\n",
      "09:39:20 - \u001b[36mINFO \u001b[0m extract_utils.py download_historical_data:716          Saving the dataset into s3://cryptokaizen-data-test/v3/bulk/manual/downloaded_1min/parquet/bid_ask/spot/v4/crypto_chassis/okex/v1_0_0\n"
     ]
    },
    {
     "name": "stderr",
     "output_type": "stream",
     "text": [
      "\r",
      "  0%|          | 0/1 [00:00<?, ?it/s]\r",
      "100%|██████████| 1/1 [00:01<00:00,  1.61s/it]\r",
      "100%|██████████| 1/1 [00:01<00:00,  1.61s/it]\n"
     ]
    },
    {
     "name": "stdout",
     "output_type": "stream",
     "text": [
      "09:39:20 - \u001b[36mINFO \u001b[0m extractor.py _download_bid_ask:228                     https://api.cryptochassis.com/v1/market-depth/okex/sand-usdt?startTime=2023-01-01T10:00:00Z\n",
      "09:39:20 - \u001b[41mWARN \u001b[0m extractor.py _download_bid_ask:235                     No data at https://api.cryptochassis.com/v1/market-depth/okex/sand-usdt?startTime=2023-01-01T10:00:00Z\n",
      "09:39:20 - \u001b[41mWARN \u001b[0m extractor.py _download_bid_ask:244                     No data found for given query parameters.\n"
     ]
    },
    {
     "name": "stderr",
     "output_type": "stream",
     "text": [
      "\r",
      "  0%|          | 0/1 [00:00<?, ?it/s]\r",
      "100%|██████████| 1/1 [00:00<00:00,  2.19it/s]\r",
      "100%|██████████| 1/1 [00:00<00:00,  2.19it/s]\n"
     ]
    },
    {
     "name": "stdout",
     "output_type": "stream",
     "text": [
      "09:39:20 - \u001b[36mINFO \u001b[0m extractor.py _download_bid_ask:228                     https://api.cryptochassis.com/v1/market-depth/okex/storj-usdt?startTime=2023-01-01T10:00:00Z\n",
      "09:39:21 - \u001b[41mWARN \u001b[0m extractor.py _download_bid_ask:235                     No data at https://api.cryptochassis.com/v1/market-depth/okex/storj-usdt?startTime=2023-01-01T10:00:00Z\n",
      "09:39:21 - \u001b[41mWARN \u001b[0m extractor.py _download_bid_ask:244                     No data found for given query parameters.\n"
     ]
    },
    {
     "name": "stderr",
     "output_type": "stream",
     "text": [
      "\r",
      "  0%|          | 0/1 [00:00<?, ?it/s]\r",
      "100%|██████████| 1/1 [00:00<00:00,  2.19it/s]\r",
      "100%|██████████| 1/1 [00:00<00:00,  2.19it/s]\n"
     ]
    },
    {
     "name": "stdout",
     "output_type": "stream",
     "text": [
      "09:39:21 - \u001b[36mINFO \u001b[0m extractor.py _download_bid_ask:228                     https://api.cryptochassis.com/v1/market-depth/okex/gmt-usdt?startTime=2023-01-01T10:00:00Z\n",
      "09:39:21 - \u001b[41mWARN \u001b[0m extractor.py _download_bid_ask:235                     No data at https://api.cryptochassis.com/v1/market-depth/okex/gmt-usdt?startTime=2023-01-01T10:00:00Z\n",
      "09:39:21 - \u001b[41mWARN \u001b[0m extractor.py _download_bid_ask:244                     No data found for given query parameters.\n"
     ]
    },
    {
     "name": "stderr",
     "output_type": "stream",
     "text": [
      "\r",
      "  0%|          | 0/1 [00:00<?, ?it/s]\r",
      "100%|██████████| 1/1 [00:00<00:00,  2.18it/s]\r",
      "100%|██████████| 1/1 [00:00<00:00,  2.18it/s]\n"
     ]
    },
    {
     "name": "stdout",
     "output_type": "stream",
     "text": [
      "09:39:21 - \u001b[36mINFO \u001b[0m extractor.py _download_bid_ask:228                     https://api.cryptochassis.com/v1/market-depth/okex/avax-usdt?startTime=2023-01-01T10:00:00Z\n",
      "09:39:22 - \u001b[41mWARN \u001b[0m extractor.py _download_bid_ask:235                     No data at https://api.cryptochassis.com/v1/market-depth/okex/avax-usdt?startTime=2023-01-01T10:00:00Z\n",
      "09:39:22 - \u001b[41mWARN \u001b[0m extractor.py _download_bid_ask:244                     No data found for given query parameters.\n"
     ]
    },
    {
     "name": "stderr",
     "output_type": "stream",
     "text": [
      "\r",
      "  0%|          | 0/1 [00:00<?, ?it/s]\r",
      "100%|██████████| 1/1 [00:00<00:00,  2.21it/s]\r",
      "100%|██████████| 1/1 [00:00<00:00,  2.21it/s]\n"
     ]
    },
    {
     "name": "stdout",
     "output_type": "stream",
     "text": [
      "09:39:22 - \u001b[36mINFO \u001b[0m extractor.py _download_bid_ask:228                     https://api.cryptochassis.com/v1/market-depth/okex/bnb-usdt?startTime=2023-01-01T10:00:00Z\n",
      "09:39:22 - \u001b[41mWARN \u001b[0m extractor.py _download_bid_ask:235                     No data at https://api.cryptochassis.com/v1/market-depth/okex/bnb-usdt?startTime=2023-01-01T10:00:00Z\n",
      "09:39:22 - \u001b[41mWARN \u001b[0m extractor.py _download_bid_ask:244                     No data found for given query parameters.\n"
     ]
    },
    {
     "name": "stderr",
     "output_type": "stream",
     "text": [
      "\r",
      "  0%|          | 0/1 [00:00<?, ?it/s]\r",
      "100%|██████████| 1/1 [00:00<00:00,  2.21it/s]\r",
      "100%|██████████| 1/1 [00:00<00:00,  2.21it/s]\n"
     ]
    },
    {
     "name": "stdout",
     "output_type": "stream",
     "text": [
      "09:39:22 - \u001b[36mINFO \u001b[0m extractor.py _download_bid_ask:228                     https://api.cryptochassis.com/v1/market-depth/okex/ape-usdt?startTime=2023-01-01T10:00:00Z\n",
      "09:39:23 - \u001b[41mWARN \u001b[0m extractor.py _download_bid_ask:235                     No data at https://api.cryptochassis.com/v1/market-depth/okex/ape-usdt?startTime=2023-01-01T10:00:00Z\n",
      "09:39:23 - \u001b[41mWARN \u001b[0m extractor.py _download_bid_ask:244                     No data found for given query parameters.\n"
     ]
    },
    {
     "name": "stderr",
     "output_type": "stream",
     "text": [
      "\r",
      "  0%|          | 0/1 [00:00<?, ?it/s]\r",
      "100%|██████████| 1/1 [00:00<00:00,  2.19it/s]\r",
      "100%|██████████| 1/1 [00:00<00:00,  2.19it/s]\n"
     ]
    },
    {
     "name": "stdout",
     "output_type": "stream",
     "text": [
      "09:39:23 - \u001b[36mINFO \u001b[0m extractor.py _download_bid_ask:228                     https://api.cryptochassis.com/v1/market-depth/okex/matic-usdt?startTime=2023-01-01T10:00:00Z\n",
      "09:39:23 - \u001b[41mWARN \u001b[0m extractor.py _download_bid_ask:235                     No data at https://api.cryptochassis.com/v1/market-depth/okex/matic-usdt?startTime=2023-01-01T10:00:00Z\n",
      "09:39:23 - \u001b[41mWARN \u001b[0m extractor.py _download_bid_ask:244                     No data found for given query parameters.\n"
     ]
    },
    {
     "name": "stderr",
     "output_type": "stream",
     "text": [
      "\r",
      "  0%|          | 0/1 [00:00<?, ?it/s]\r",
      "100%|██████████| 1/1 [00:00<00:00,  2.18it/s]\r",
      "100%|██████████| 1/1 [00:00<00:00,  2.18it/s]\n"
     ]
    },
    {
     "name": "stdout",
     "output_type": "stream",
     "text": [
      "09:39:23 - \u001b[36mINFO \u001b[0m extractor.py _download_bid_ask:228                     https://api.cryptochassis.com/v1/market-depth/okex/dot-usdt?startTime=2023-01-01T10:00:00Z\n",
      "09:39:25 - \u001b[36mINFO \u001b[0m extractor.py _download_bid_ask:259                     DataFrame shape before timestamp filter: (55024, 5)\n",
      "09:39:25 - \u001b[36mINFO \u001b[0m extractor.py _download_bid_ask:262                     DataFrame shape after timestamp filter: (24595, 5)\n",
      "09:39:25 - \u001b[36mINFO \u001b[0m extract_utils.py download_historical_data:716          Saving the dataset into s3://cryptokaizen-data-test/v3/bulk/manual/downloaded_1min/parquet/bid_ask/spot/v4/crypto_chassis/okex/v1_0_0\n"
     ]
    },
    {
     "name": "stderr",
     "output_type": "stream",
     "text": [
      "\r",
      "  0%|          | 0/1 [00:00<?, ?it/s]\r",
      "100%|██████████| 1/1 [00:01<00:00,  1.47s/it]\r",
      "100%|██████████| 1/1 [00:01<00:00,  1.47s/it]\n"
     ]
    },
    {
     "name": "stdout",
     "output_type": "stream",
     "text": [
      "09:39:25 - \u001b[36mINFO \u001b[0m extractor.py _download_bid_ask:228                     https://api.cryptochassis.com/v1/market-depth/okex/link-usdt?startTime=2023-01-01T10:00:00Z\n",
      "09:39:26 - \u001b[41mWARN \u001b[0m extractor.py _download_bid_ask:235                     No data at https://api.cryptochassis.com/v1/market-depth/okex/link-usdt?startTime=2023-01-01T10:00:00Z\n",
      "09:39:26 - \u001b[41mWARN \u001b[0m extractor.py _download_bid_ask:244                     No data found for given query parameters.\n"
     ]
    },
    {
     "name": "stderr",
     "output_type": "stream",
     "text": [
      "\r",
      "  0%|          | 0/1 [00:00<?, ?it/s]\r",
      "100%|██████████| 1/1 [00:00<00:00,  2.17it/s]\r",
      "100%|██████████| 1/1 [00:00<00:00,  2.17it/s]\n"
     ]
    },
    {
     "name": "stdout",
     "output_type": "stream",
     "text": [
      "09:39:26 - \u001b[36mINFO \u001b[0m extractor.py _download_bid_ask:228                     https://api.cryptochassis.com/v1/market-depth/okex/xrp-usdt?startTime=2023-01-01T10:00:00Z\n",
      "09:39:28 - \u001b[36mINFO \u001b[0m extractor.py _download_bid_ask:259                     DataFrame shape before timestamp filter: (36651, 5)\n",
      "09:39:28 - \u001b[36mINFO \u001b[0m extractor.py _download_bid_ask:262                     DataFrame shape after timestamp filter: (16125, 5)\n",
      "09:39:28 - \u001b[36mINFO \u001b[0m extract_utils.py download_historical_data:716          Saving the dataset into s3://cryptokaizen-data-test/v3/bulk/manual/downloaded_1min/parquet/bid_ask/spot/v4/crypto_chassis/okex/v1_0_0\n"
     ]
    },
    {
     "name": "stderr",
     "output_type": "stream",
     "text": [
      "\r",
      "  0%|          | 0/1 [00:00<?, ?it/s]\r",
      "100%|██████████| 1/1 [00:01<00:00,  1.50s/it]\r",
      "100%|██████████| 1/1 [00:01<00:00,  1.50s/it]\n"
     ]
    },
    {
     "name": "stdout",
     "output_type": "stream",
     "text": [
      "09:39:28 - \u001b[36mINFO \u001b[0m extractor.py _download_bid_ask:228                     https://api.cryptochassis.com/v1/market-depth/okex/near-usdt?startTime=2023-01-01T10:00:00Z\n",
      "09:39:28 - \u001b[41mWARN \u001b[0m extractor.py _download_bid_ask:235                     No data at https://api.cryptochassis.com/v1/market-depth/okex/near-usdt?startTime=2023-01-01T10:00:00Z\n",
      "09:39:28 - \u001b[41mWARN \u001b[0m extractor.py _download_bid_ask:244                     No data found for given query parameters.\n"
     ]
    },
    {
     "name": "stderr",
     "output_type": "stream",
     "text": [
      "\r",
      "  0%|          | 0/1 [00:00<?, ?it/s]\r",
      "100%|██████████| 1/1 [00:00<00:00,  2.21it/s]\r",
      "100%|██████████| 1/1 [00:00<00:00,  2.21it/s]\n"
     ]
    },
    {
     "name": "stdout",
     "output_type": "stream",
     "text": [
      "09:39:28 - \u001b[36mINFO \u001b[0m extractor.py _download_bid_ask:228                     https://api.cryptochassis.com/v1/market-depth/okex/ftm-usdt?startTime=2023-01-01T10:00:00Z\n",
      "09:39:29 - \u001b[41mWARN \u001b[0m extractor.py _download_bid_ask:235                     No data at https://api.cryptochassis.com/v1/market-depth/okex/ftm-usdt?startTime=2023-01-01T10:00:00Z\n",
      "09:39:29 - \u001b[41mWARN \u001b[0m extractor.py _download_bid_ask:244                     No data found for given query parameters.\n"
     ]
    },
    {
     "name": "stderr",
     "output_type": "stream",
     "text": [
      "\r",
      "  0%|          | 0/1 [00:00<?, ?it/s]\r",
      "100%|██████████| 1/1 [00:00<00:00,  2.19it/s]\r",
      "100%|██████████| 1/1 [00:00<00:00,  2.19it/s]\n"
     ]
    },
    {
     "name": "stdout",
     "output_type": "stream",
     "text": [
      "09:39:29 - \u001b[36mINFO \u001b[0m extractor.py _download_bid_ask:228                     https://api.cryptochassis.com/v1/market-depth/okex/waves-usdt?startTime=2023-01-01T10:00:00Z\n",
      "09:39:29 - \u001b[41mWARN \u001b[0m extractor.py _download_bid_ask:235                     No data at https://api.cryptochassis.com/v1/market-depth/okex/waves-usdt?startTime=2023-01-01T10:00:00Z\n",
      "09:39:29 - \u001b[41mWARN \u001b[0m extractor.py _download_bid_ask:244                     No data found for given query parameters.\n"
     ]
    },
    {
     "name": "stderr",
     "output_type": "stream",
     "text": [
      "\r",
      "  0%|          | 0/1 [00:00<?, ?it/s]\r",
      "100%|██████████| 1/1 [00:00<00:00,  2.19it/s]\r",
      "100%|██████████| 1/1 [00:00<00:00,  2.19it/s]\n"
     ]
    },
    {
     "name": "stdout",
     "output_type": "stream",
     "text": [
      "09:39:29 - \u001b[36mINFO \u001b[0m extractor.py _download_bid_ask:228                     https://api.cryptochassis.com/v1/market-depth/okex/axs-usdt?startTime=2023-01-01T10:00:00Z\n",
      "09:39:30 - \u001b[41mWARN \u001b[0m extractor.py _download_bid_ask:235                     No data at https://api.cryptochassis.com/v1/market-depth/okex/axs-usdt?startTime=2023-01-01T10:00:00Z\n",
      "09:39:30 - \u001b[41mWARN \u001b[0m extractor.py _download_bid_ask:244                     No data found for given query parameters.\n"
     ]
    },
    {
     "name": "stderr",
     "output_type": "stream",
     "text": [
      "\r",
      "  0%|          | 0/1 [00:00<?, ?it/s]\r",
      "100%|██████████| 1/1 [00:00<00:00,  2.19it/s]\r",
      "100%|██████████| 1/1 [00:00<00:00,  2.19it/s]\n"
     ]
    },
    {
     "name": "stdout",
     "output_type": "stream",
     "text": [
      "09:39:30 - \u001b[36mINFO \u001b[0m extractor.py _download_bid_ask:228                     https://api.cryptochassis.com/v1/market-depth/okex/doge-usdt?startTime=2023-01-01T10:00:00Z\n",
      "09:39:32 - \u001b[36mINFO \u001b[0m extractor.py _download_bid_ask:259                     DataFrame shape before timestamp filter: (50903, 5)\n",
      "09:39:32 - \u001b[36mINFO \u001b[0m extractor.py _download_bid_ask:262                     DataFrame shape after timestamp filter: (21543, 5)\n",
      "09:39:32 - \u001b[36mINFO \u001b[0m extract_utils.py download_historical_data:716          Saving the dataset into s3://cryptokaizen-data-test/v3/bulk/manual/downloaded_1min/parquet/bid_ask/spot/v4/crypto_chassis/okex/v1_0_0\n"
     ]
    },
    {
     "name": "stderr",
     "output_type": "stream",
     "text": [
      "\r",
      "  0%|          | 0/1 [00:00<?, ?it/s]\r",
      "100%|██████████| 1/1 [00:01<00:00,  1.60s/it]\r",
      "100%|██████████| 1/1 [00:01<00:00,  1.60s/it]\n"
     ]
    },
    {
     "name": "stdout",
     "output_type": "stream",
     "text": [
      "09:39:32 - \u001b[36mINFO \u001b[0m extractor.py _download_bid_ask:228                     https://api.cryptochassis.com/v1/market-depth/okex/sol-usdt?startTime=2023-01-01T10:00:00Z\n",
      "09:39:34 - \u001b[36mINFO \u001b[0m extractor.py _download_bid_ask:259                     DataFrame shape before timestamp filter: (47766, 5)\n",
      "09:39:34 - \u001b[36mINFO \u001b[0m extractor.py _download_bid_ask:262                     DataFrame shape after timestamp filter: (20146, 5)\n",
      "09:39:34 - \u001b[36mINFO \u001b[0m extract_utils.py download_historical_data:716          Saving the dataset into s3://cryptokaizen-data-test/v3/bulk/manual/downloaded_1min/parquet/bid_ask/spot/v4/crypto_chassis/okex/v1_0_0\n"
     ]
    },
    {
     "name": "stderr",
     "output_type": "stream",
     "text": [
      "\r",
      "  0%|          | 0/1 [00:00<?, ?it/s]\r",
      "100%|██████████| 1/1 [00:01<00:00,  1.58s/it]\r",
      "100%|██████████| 1/1 [00:01<00:00,  1.58s/it]\n"
     ]
    },
    {
     "name": "stdout",
     "output_type": "stream",
     "text": [
      "09:39:34 - \u001b[36mINFO \u001b[0m hcache.py clear_global_cache:292                       Before clear_global_cache: 'global mem' cache: path='/mnt/tmpfs/tmp.cache.mem', size=32.0 KB\n",
      "09:39:34 - \u001b[41mWARN \u001b[0m hcache.py clear_global_cache:293                       Resetting 'global mem' cache '/mnt/tmpfs/tmp.cache.mem'\n",
      "09:39:34 - \u001b[41mWARN \u001b[0m hcache.py clear_global_cache:303                       Destroying '/mnt/tmpfs/tmp.cache.mem' ...\n",
      "09:39:34 - \u001b[36mINFO \u001b[0m hcache.py clear_global_cache:319                       After clear_global_cache: 'global mem' cache: path='/mnt/tmpfs/tmp.cache.mem', size=nan\n"
     ]
    }
   ],
   "source": [
    "%%bash\n",
    "/app/im_v2/common/data/extract/download_bulk.py \\\n",
    "    --download_mode 'bulk' \\\n",
    "    --downloading_entity 'manual' \\\n",
    "    --action_tag 'downloaded_1min' \\\n",
    "    --vendor 'crypto_chassis' \\\n",
    "    --start_timestamp '2023-01-01 10:00:00+00:00' \\\n",
    "    --end_timestamp '2023-01-01 20:30:00+00:00' \\\n",
    "    --exchange_id 'okex' \\\n",
    "    --universe 'v4' \\\n",
    "    --aws_profile 'ck' \\\n",
    "    --data_type 'bid_ask' \\\n",
    "    --data_format 'parquet' \\\n",
    "    --contract_type 'spot' \\\n",
    "    --s3_path 's3://cryptokaizen-data-test/'"
   ]
  },
  {
   "cell_type": "markdown",
   "id": "a9f6aaf6",
   "metadata": {
    "hidden": true
   },
   "source": [
    "### Preview bid_ask"
   ]
  },
  {
   "cell_type": "code",
   "execution_count": 22,
   "id": "67c679d0",
   "metadata": {
    "ExecuteTime": {
     "end_time": "2023-02-15T14:40:39.757696Z",
     "start_time": "2023-02-15T14:40:39.751688Z"
    },
    "hidden": true
   },
   "outputs": [
    {
     "name": "stdout",
     "output_type": "stream",
     "text": [
      "INFO  Loading dataset schema file: /app/data_schema/dataset_schema_versions/dataset_schema_v3.json\n",
      "INFO  Loaded dataset schema version v3\n"
     ]
    }
   ],
   "source": [
    "signature = \"bulk.manual.downloaded_1min.parquet.bid_ask.spot.v7_3.crypto_chassis.okex.v1_0_0\"\n",
    "reader = imvcdcimrdc.RawDataReader(signature, stage=\"test\")\n",
    "start_timestamp = pd.Timestamp(\"2023-01-01 10:00:00+00:00\")\n",
    "end_timestamp = pd.Timestamp(\"2023-01-01 20:30:00+00:00\")"
   ]
  },
  {
   "cell_type": "code",
   "execution_count": 23,
   "id": "a98f6548",
   "metadata": {
    "ExecuteTime": {
     "end_time": "2023-02-15T14:40:41.358793Z",
     "start_time": "2023-02-15T14:40:40.841511Z"
    },
    "hidden": true
   },
   "outputs": [
    {
     "name": "stdout",
     "output_type": "stream",
     "text": [
      "INFO  Loading dataset schema file: /app/data_schema/dataset_schema_versions/dataset_schema_v3.json\n",
      "INFO  Loaded dataset schema version v3\n"
     ]
    }
   ],
   "source": [
    "bid_ask_data = reader.read_data(start_timestamp, end_timestamp)"
   ]
  },
  {
   "cell_type": "code",
   "execution_count": 24,
   "id": "5113ba90",
   "metadata": {
    "ExecuteTime": {
     "end_time": "2023-02-15T14:40:42.283451Z",
     "start_time": "2023-02-15T14:40:42.262600Z"
    },
    "hidden": true
   },
   "outputs": [
    {
     "data": {
      "text/html": [
       "<div>\n",
       "<style scoped>\n",
       "    .dataframe tbody tr th:only-of-type {\n",
       "        vertical-align: middle;\n",
       "    }\n",
       "\n",
       "    .dataframe tbody tr th {\n",
       "        vertical-align: top;\n",
       "    }\n",
       "\n",
       "    .dataframe thead th {\n",
       "        text-align: right;\n",
       "    }\n",
       "</style>\n",
       "<table border=\"1\" class=\"dataframe\">\n",
       "  <thead>\n",
       "    <tr style=\"text-align: right;\">\n",
       "      <th></th>\n",
       "      <th>timestamp</th>\n",
       "      <th>bid_price_l1</th>\n",
       "      <th>bid_size_l1</th>\n",
       "      <th>ask_price_l1</th>\n",
       "      <th>ask_size_l1</th>\n",
       "      <th>exchange_id</th>\n",
       "      <th>knowledge_timestamp</th>\n",
       "      <th>currency_pair</th>\n",
       "      <th>year</th>\n",
       "      <th>month</th>\n",
       "    </tr>\n",
       "    <tr>\n",
       "      <th>timestamp</th>\n",
       "      <th></th>\n",
       "      <th></th>\n",
       "      <th></th>\n",
       "      <th></th>\n",
       "      <th></th>\n",
       "      <th></th>\n",
       "      <th></th>\n",
       "      <th></th>\n",
       "      <th></th>\n",
       "      <th></th>\n",
       "    </tr>\n",
       "  </thead>\n",
       "  <tbody>\n",
       "    <tr>\n",
       "      <th>2023-01-01 10:00:00+00:00</th>\n",
       "      <td>1672567200</td>\n",
       "      <td>16543.7</td>\n",
       "      <td>0.513005</td>\n",
       "      <td>16543.8</td>\n",
       "      <td>4.554899</td>\n",
       "      <td>okex</td>\n",
       "      <td>2023-02-15 12:42:32.108873+00:00</td>\n",
       "      <td>BTC_USDT</td>\n",
       "      <td>2023</td>\n",
       "      <td>1</td>\n",
       "    </tr>\n",
       "    <tr>\n",
       "      <th>2023-01-01 10:00:01+00:00</th>\n",
       "      <td>1672567201</td>\n",
       "      <td>16543.7</td>\n",
       "      <td>0.027252</td>\n",
       "      <td>16543.8</td>\n",
       "      <td>6.868339</td>\n",
       "      <td>okex</td>\n",
       "      <td>2023-02-15 12:42:32.108873+00:00</td>\n",
       "      <td>BTC_USDT</td>\n",
       "      <td>2023</td>\n",
       "      <td>1</td>\n",
       "    </tr>\n",
       "    <tr>\n",
       "      <th>2023-01-01 10:00:02+00:00</th>\n",
       "      <td>1672567202</td>\n",
       "      <td>16543.7</td>\n",
       "      <td>0.027252</td>\n",
       "      <td>16543.8</td>\n",
       "      <td>6.868031</td>\n",
       "      <td>okex</td>\n",
       "      <td>2023-02-15 12:42:32.108873+00:00</td>\n",
       "      <td>BTC_USDT</td>\n",
       "      <td>2023</td>\n",
       "      <td>1</td>\n",
       "    </tr>\n",
       "    <tr>\n",
       "      <th>2023-01-01 10:00:03+00:00</th>\n",
       "      <td>1672567203</td>\n",
       "      <td>16543.7</td>\n",
       "      <td>0.028340</td>\n",
       "      <td>16543.8</td>\n",
       "      <td>5.206411</td>\n",
       "      <td>okex</td>\n",
       "      <td>2023-02-15 12:42:32.108873+00:00</td>\n",
       "      <td>BTC_USDT</td>\n",
       "      <td>2023</td>\n",
       "      <td>1</td>\n",
       "    </tr>\n",
       "    <tr>\n",
       "      <th>2023-01-01 10:00:04+00:00</th>\n",
       "      <td>1672567204</td>\n",
       "      <td>16543.7</td>\n",
       "      <td>0.027252</td>\n",
       "      <td>16543.8</td>\n",
       "      <td>5.356411</td>\n",
       "      <td>okex</td>\n",
       "      <td>2023-02-15 12:42:32.108873+00:00</td>\n",
       "      <td>BTC_USDT</td>\n",
       "      <td>2023</td>\n",
       "      <td>1</td>\n",
       "    </tr>\n",
       "  </tbody>\n",
       "</table>\n",
       "</div>"
      ],
      "text/plain": [
       "                            timestamp  bid_price_l1  bid_size_l1  ask_price_l1  ask_size_l1 exchange_id              knowledge_timestamp currency_pair  year  month\n",
       "timestamp                                                                                                                                                          \n",
       "2023-01-01 10:00:00+00:00  1672567200       16543.7     0.513005       16543.8     4.554899        okex 2023-02-15 12:42:32.108873+00:00      BTC_USDT  2023      1\n",
       "2023-01-01 10:00:01+00:00  1672567201       16543.7     0.027252       16543.8     6.868339        okex 2023-02-15 12:42:32.108873+00:00      BTC_USDT  2023      1\n",
       "2023-01-01 10:00:02+00:00  1672567202       16543.7     0.027252       16543.8     6.868031        okex 2023-02-15 12:42:32.108873+00:00      BTC_USDT  2023      1\n",
       "2023-01-01 10:00:03+00:00  1672567203       16543.7     0.028340       16543.8     5.206411        okex 2023-02-15 12:42:32.108873+00:00      BTC_USDT  2023      1\n",
       "2023-01-01 10:00:04+00:00  1672567204       16543.7     0.027252       16543.8     5.356411        okex 2023-02-15 12:42:32.108873+00:00      BTC_USDT  2023      1"
      ]
     },
     "execution_count": 24,
     "metadata": {},
     "output_type": "execute_result"
    }
   ],
   "source": [
    "bid_ask_data.head()"
   ]
  },
  {
   "cell_type": "markdown",
   "id": "5984e907",
   "metadata": {
    "hidden": true
   },
   "source": [
    "### trades"
   ]
  },
  {
   "cell_type": "code",
   "execution_count": 21,
   "id": "0d5dc987",
   "metadata": {
    "ExecuteTime": {
     "end_time": "2023-02-15T14:40:33.071144Z",
     "start_time": "2023-02-15T14:40:13.357361Z"
    },
    "hidden": true
   },
   "outputs": [
    {
     "name": "stdout",
     "output_type": "stream",
     "text": [
      "\u001b[0m\u001b[36mINFO\u001b[0m: > cmd='/app/im_v2/common/data/extract/download_bulk.py --download_mode bulk --downloading_entity manual --action_tag downloaded_1min --vendor crypto_chassis --start_timestamp 2023-01-01 10:00:00+00:00 --end_timestamp 2023-01-01 20:30:00+00:00 --exchange_id okex --universe v4 --aws_profile ck --data_type trades --data_format parquet --contract_type spot --s3_path s3://cryptokaizen-data-test/'\n",
      "report_memory_usage=False report_cpu_usage=False\n",
      "\u001b[36mINFO\u001b[0m: Saving log to file '/app/im_v2/common/data/extract/download_bulk.py.log'\n",
      "09:40:17 - \u001b[36mINFO \u001b[0m dataset_schema_utils.py _get_dataset_schema_file_path:37 Loading dataset schema file: /app/data_schema/dataset_schema_versions/dataset_schema_v3.json\n",
      "09:40:17 - \u001b[36mINFO \u001b[0m dataset_schema_utils.py get_dataset_schema:72          Loaded dataset schema version v3\n",
      "09:40:18 - \u001b[36mINFO \u001b[0m extract_utils.py download_historical_data:716          Saving the dataset into s3://cryptokaizen-data-test/v3/bulk/manual/downloaded_1min/parquet/trades/spot/v4/crypto_chassis/okex/v1_0_0\n",
      "09:40:20 - \u001b[36mINFO \u001b[0m extract_utils.py download_historical_data:716          Saving the dataset into s3://cryptokaizen-data-test/v3/bulk/manual/downloaded_1min/parquet/trades/spot/v4/crypto_chassis/okex/v1_0_0\n",
      "09:40:21 - \u001b[36mINFO \u001b[0m extractor.py _download_trades:435                      Unable to retrieve data for sand-usdt and start_timestamp=2023-01-01T10:00:00Z\n",
      "09:40:21 - \u001b[36mINFO \u001b[0m extractor.py _download_trades:435                      Unable to retrieve data for storj-usdt and start_timestamp=2023-01-01T10:00:00Z\n",
      "09:40:22 - \u001b[36mINFO \u001b[0m extractor.py _download_trades:435                      Unable to retrieve data for gmt-usdt and start_timestamp=2023-01-01T10:00:00Z\n",
      "09:40:22 - \u001b[36mINFO \u001b[0m extractor.py _download_trades:435                      Unable to retrieve data for avax-usdt and start_timestamp=2023-01-01T10:00:00Z\n",
      "09:40:23 - \u001b[36mINFO \u001b[0m extractor.py _download_trades:435                      Unable to retrieve data for bnb-usdt and start_timestamp=2023-01-01T10:00:00Z\n",
      "09:40:23 - \u001b[36mINFO \u001b[0m extractor.py _download_trades:435                      Unable to retrieve data for ape-usdt and start_timestamp=2023-01-01T10:00:00Z\n",
      "09:40:24 - \u001b[36mINFO \u001b[0m extractor.py _download_trades:435                      Unable to retrieve data for matic-usdt and start_timestamp=2023-01-01T10:00:00Z\n",
      "09:40:25 - \u001b[36mINFO \u001b[0m extract_utils.py download_historical_data:716          Saving the dataset into s3://cryptokaizen-data-test/v3/bulk/manual/downloaded_1min/parquet/trades/spot/v4/crypto_chassis/okex/v1_0_0\n",
      "09:40:25 - \u001b[36mINFO \u001b[0m extractor.py _download_trades:435                      Unable to retrieve data for link-usdt and start_timestamp=2023-01-01T10:00:00Z\n",
      "09:40:27 - \u001b[36mINFO \u001b[0m extract_utils.py download_historical_data:716          Saving the dataset into s3://cryptokaizen-data-test/v3/bulk/manual/downloaded_1min/parquet/trades/spot/v4/crypto_chassis/okex/v1_0_0\n",
      "09:40:27 - \u001b[36mINFO \u001b[0m extractor.py _download_trades:435                      Unable to retrieve data for near-usdt and start_timestamp=2023-01-01T10:00:00Z\n",
      "09:40:28 - \u001b[36mINFO \u001b[0m extractor.py _download_trades:435                      Unable to retrieve data for ftm-usdt and start_timestamp=2023-01-01T10:00:00Z\n",
      "09:40:28 - \u001b[36mINFO \u001b[0m extractor.py _download_trades:435                      Unable to retrieve data for waves-usdt and start_timestamp=2023-01-01T10:00:00Z\n",
      "09:40:29 - \u001b[36mINFO \u001b[0m extractor.py _download_trades:435                      Unable to retrieve data for axs-usdt and start_timestamp=2023-01-01T10:00:00Z\n",
      "09:40:30 - \u001b[36mINFO \u001b[0m extract_utils.py download_historical_data:716          Saving the dataset into s3://cryptokaizen-data-test/v3/bulk/manual/downloaded_1min/parquet/trades/spot/v4/crypto_chassis/okex/v1_0_0\n",
      "09:40:32 - \u001b[36mINFO \u001b[0m extract_utils.py download_historical_data:716          Saving the dataset into s3://cryptokaizen-data-test/v3/bulk/manual/downloaded_1min/parquet/trades/spot/v4/crypto_chassis/okex/v1_0_0\n",
      "09:40:32 - \u001b[36mINFO \u001b[0m hcache.py clear_global_cache:292                       Before clear_global_cache: 'global mem' cache: path='/mnt/tmpfs/tmp.cache.mem', size=32.0 KB\n",
      "09:40:32 - \u001b[41mWARN \u001b[0m hcache.py clear_global_cache:293                       Resetting 'global mem' cache '/mnt/tmpfs/tmp.cache.mem'\n",
      "09:40:32 - \u001b[41mWARN \u001b[0m hcache.py clear_global_cache:303                       Destroying '/mnt/tmpfs/tmp.cache.mem' ...\n",
      "09:40:32 - \u001b[36mINFO \u001b[0m hcache.py clear_global_cache:319                       After clear_global_cache: 'global mem' cache: path='/mnt/tmpfs/tmp.cache.mem', size=nan\n"
     ]
    }
   ],
   "source": [
    "%%bash\n",
    "/app/im_v2/common/data/extract/download_bulk.py \\\n",
    "    --download_mode 'bulk' \\\n",
    "    --downloading_entity 'manual' \\\n",
    "    --action_tag 'downloaded_1min' \\\n",
    "    --vendor 'crypto_chassis' \\\n",
    "    --start_timestamp '2023-01-01 10:00:00+00:00' \\\n",
    "    --end_timestamp '2023-01-01 20:30:00+00:00' \\\n",
    "    --exchange_id 'okex' \\\n",
    "    --universe 'v4' \\\n",
    "    --aws_profile 'ck' \\\n",
    "    --data_type 'trades' \\\n",
    "    --data_format 'parquet' \\\n",
    "    --contract_type 'spot' \\\n",
    "    --s3_path 's3://cryptokaizen-data-test/'"
   ]
  },
  {
   "cell_type": "markdown",
   "id": "a078c787",
   "metadata": {
    "heading_collapsed": true,
    "hidden": true
   },
   "source": [
    "### trades preview"
   ]
  },
  {
   "cell_type": "code",
   "execution_count": 25,
   "id": "69cde4f7",
   "metadata": {
    "ExecuteTime": {
     "end_time": "2023-02-15T14:40:54.787083Z",
     "start_time": "2023-02-15T14:40:54.781562Z"
    },
    "hidden": true
   },
   "outputs": [
    {
     "name": "stdout",
     "output_type": "stream",
     "text": [
      "INFO  Loading dataset schema file: /app/data_schema/dataset_schema_versions/dataset_schema_v3.json\n",
      "INFO  Loaded dataset schema version v3\n"
     ]
    }
   ],
   "source": [
    "signature = \"bulk.manual.downloaded_1min.parquet.trades.spot.v7_3.crypto_chassis.okex.v1_0_0\"\n",
    "reader = imvcdcimrdc.RawDataReader(signature, stage=\"test\")\n",
    "start_timestamp = pd.Timestamp(\"2023-01-01 10:00:00+00:00\")\n",
    "end_timestamp = pd.Timestamp(\"2023-01-01 20:30:00+00:00\")"
   ]
  },
  {
   "cell_type": "code",
   "execution_count": 26,
   "id": "03b4723a",
   "metadata": {
    "ExecuteTime": {
     "end_time": "2023-02-15T14:40:56.633990Z",
     "start_time": "2023-02-15T14:40:56.086855Z"
    },
    "hidden": true
   },
   "outputs": [
    {
     "name": "stdout",
     "output_type": "stream",
     "text": [
      "INFO  Loading dataset schema file: /app/data_schema/dataset_schema_versions/dataset_schema_v3.json\n",
      "INFO  Loaded dataset schema version v3\n"
     ]
    }
   ],
   "source": [
    "trades_data = reader.read_data(start_timestamp, end_timestamp)"
   ]
  },
  {
   "cell_type": "code",
   "execution_count": 27,
   "id": "d8c257a4",
   "metadata": {
    "ExecuteTime": {
     "end_time": "2023-02-15T14:40:57.752104Z",
     "start_time": "2023-02-15T14:40:57.741703Z"
    },
    "hidden": true,
    "scrolled": true
   },
   "outputs": [
    {
     "data": {
      "text/html": [
       "<div>\n",
       "<style scoped>\n",
       "    .dataframe tbody tr th:only-of-type {\n",
       "        vertical-align: middle;\n",
       "    }\n",
       "\n",
       "    .dataframe tbody tr th {\n",
       "        vertical-align: top;\n",
       "    }\n",
       "\n",
       "    .dataframe thead th {\n",
       "        text-align: right;\n",
       "    }\n",
       "</style>\n",
       "<table border=\"1\" class=\"dataframe\">\n",
       "  <thead>\n",
       "    <tr style=\"text-align: right;\">\n",
       "      <th></th>\n",
       "      <th>timestamp</th>\n",
       "      <th>price</th>\n",
       "      <th>size</th>\n",
       "      <th>is_buyer_maker</th>\n",
       "      <th>exchange_id</th>\n",
       "      <th>knowledge_timestamp</th>\n",
       "      <th>currency_pair</th>\n",
       "      <th>year</th>\n",
       "      <th>month</th>\n",
       "    </tr>\n",
       "    <tr>\n",
       "      <th>timestamp</th>\n",
       "      <th></th>\n",
       "      <th></th>\n",
       "      <th></th>\n",
       "      <th></th>\n",
       "      <th></th>\n",
       "      <th></th>\n",
       "      <th></th>\n",
       "      <th></th>\n",
       "      <th></th>\n",
       "    </tr>\n",
       "  </thead>\n",
       "  <tbody>\n",
       "    <tr>\n",
       "      <th>2023-01-01 10:00:01+00:00</th>\n",
       "      <td>1672567201</td>\n",
       "      <td>16543.8</td>\n",
       "      <td>0.000308</td>\n",
       "      <td>0</td>\n",
       "      <td>okex</td>\n",
       "      <td>2023-02-15 12:51:58.919076+00:00</td>\n",
       "      <td>BTC_USDT</td>\n",
       "      <td>2023</td>\n",
       "      <td>1</td>\n",
       "    </tr>\n",
       "    <tr>\n",
       "      <th>2023-01-01 10:00:04+00:00</th>\n",
       "      <td>1672567204</td>\n",
       "      <td>16543.8</td>\n",
       "      <td>0.000115</td>\n",
       "      <td>0</td>\n",
       "      <td>okex</td>\n",
       "      <td>2023-02-15 12:51:58.919076+00:00</td>\n",
       "      <td>BTC_USDT</td>\n",
       "      <td>2023</td>\n",
       "      <td>1</td>\n",
       "    </tr>\n",
       "    <tr>\n",
       "      <th>2023-01-01 10:00:04+00:00</th>\n",
       "      <td>1672567204</td>\n",
       "      <td>16543.8</td>\n",
       "      <td>0.000296</td>\n",
       "      <td>0</td>\n",
       "      <td>okex</td>\n",
       "      <td>2023-02-15 12:51:58.919076+00:00</td>\n",
       "      <td>BTC_USDT</td>\n",
       "      <td>2023</td>\n",
       "      <td>1</td>\n",
       "    </tr>\n",
       "    <tr>\n",
       "      <th>2023-01-01 10:00:04+00:00</th>\n",
       "      <td>1672567204</td>\n",
       "      <td>16543.7</td>\n",
       "      <td>0.003700</td>\n",
       "      <td>1</td>\n",
       "      <td>okex</td>\n",
       "      <td>2023-02-15 12:51:58.919076+00:00</td>\n",
       "      <td>BTC_USDT</td>\n",
       "      <td>2023</td>\n",
       "      <td>1</td>\n",
       "    </tr>\n",
       "    <tr>\n",
       "      <th>2023-01-01 10:00:05+00:00</th>\n",
       "      <td>1672567205</td>\n",
       "      <td>16543.7</td>\n",
       "      <td>0.012298</td>\n",
       "      <td>1</td>\n",
       "      <td>okex</td>\n",
       "      <td>2023-02-15 12:51:58.919076+00:00</td>\n",
       "      <td>BTC_USDT</td>\n",
       "      <td>2023</td>\n",
       "      <td>1</td>\n",
       "    </tr>\n",
       "  </tbody>\n",
       "</table>\n",
       "</div>"
      ],
      "text/plain": [
       "                            timestamp    price      size  is_buyer_maker exchange_id              knowledge_timestamp currency_pair  year  month\n",
       "timestamp                                                                                                                                       \n",
       "2023-01-01 10:00:01+00:00  1672567201  16543.8  0.000308               0        okex 2023-02-15 12:51:58.919076+00:00      BTC_USDT  2023      1\n",
       "2023-01-01 10:00:04+00:00  1672567204  16543.8  0.000115               0        okex 2023-02-15 12:51:58.919076+00:00      BTC_USDT  2023      1\n",
       "2023-01-01 10:00:04+00:00  1672567204  16543.8  0.000296               0        okex 2023-02-15 12:51:58.919076+00:00      BTC_USDT  2023      1\n",
       "2023-01-01 10:00:04+00:00  1672567204  16543.7  0.003700               1        okex 2023-02-15 12:51:58.919076+00:00      BTC_USDT  2023      1\n",
       "2023-01-01 10:00:05+00:00  1672567205  16543.7  0.012298               1        okex 2023-02-15 12:51:58.919076+00:00      BTC_USDT  2023      1"
      ]
     },
     "execution_count": 27,
     "metadata": {},
     "output_type": "execute_result"
    }
   ],
   "source": [
    "trades_data.head()"
   ]
  },
  {
   "cell_type": "markdown",
   "id": "4bbae904",
   "metadata": {
    "heading_collapsed": true
   },
   "source": [
    "# QA checks"
   ]
  },
  {
   "cell_type": "code",
   "execution_count": 11,
   "id": "064507ff",
   "metadata": {
    "ExecuteTime": {
     "end_time": "2023-02-10T12:26:56.514166Z",
     "start_time": "2023-02-10T12:26:56.509367Z"
    },
    "hidden": true,
    "lines_to_next_cell": 2
   },
   "outputs": [],
   "source": [
    "data_frequency = \"T\"\n",
    "vendor_name = \"CCXT\"\n",
    "mode = \"download\"\n",
    "version = \"v7.3\"\n",
    "exchange_id = \"okx\"\n",
    "start_timestamp = pd.Timestamp(\"2023-01-01 10:00:00+00:00\")\n",
    "end_timestamp = pd.Timestamp(\"2023-01-01 17:30:00+00:00\")\n",
    "universe = imvcounun.get_vendor_universe(\n",
    "    vendor_name,\n",
    "    mode,\n",
    "    version=version)\n",
    "universe_list = universe[exchange_id]"
   ]
  },
  {
   "cell_type": "code",
   "execution_count": 12,
   "id": "1a4cee09",
   "metadata": {
    "ExecuteTime": {
     "end_time": "2023-02-10T12:27:01.331805Z",
     "start_time": "2023-02-10T12:27:01.328714Z"
    },
    "hidden": true,
    "lines_to_next_cell": 2
   },
   "outputs": [],
   "source": [
    "qa_check_list = [\n",
    "    imvcdqqach.GapsInTimeIntervalBySymbolsCheck(\n",
    "        start_timestamp,\n",
    "        end_timestamp,\n",
    "        data_frequency\n",
    "    ),\n",
    "    imvcdqqach.NaNChecks(),\n",
    "    imvcdqqach.OhlcvLogicalValuesCheck(),\n",
    "    imvcdqqach.FullUniversePresentCheck(universe_list)\n",
    "]\n",
    "dataset_validator = imvcdqdava.SingleDataFrameDatasetValidator(qa_check_list)"
   ]
  },
  {
   "cell_type": "code",
   "execution_count": 13,
   "id": "c7a83d8d",
   "metadata": {
    "ExecuteTime": {
     "end_time": "2023-02-10T12:27:03.544345Z",
     "start_time": "2023-02-10T12:27:03.469122Z"
    },
    "hidden": true
   },
   "outputs": [
    {
     "name": "stdout",
     "output_type": "stream",
     "text": [
      "INFO  Running all QA checks:\n",
      "INFO  \tNaNChecks: PASSED\n",
      "INFO  \tFullUniversePresentCheck: PASSED\n"
     ]
    },
    {
     "ename": "AssertionError",
     "evalue": "\n################################################################################\n\tGapsInTimeIntervalBySymbolsCheck: GapsInTimeIntervalCheck: FAILED: Found gaps DatetimeIndex(['2023-01-01 10:00:00+00:00', '2023-01-01 10:01:00+00:00', '2023-01-01 10:02:00+00:00', '2023-01-01 10:03:00+00:00', '2023-01-01 10:04:00+00:00', '2023-01-01 10:05:00+00:00', '2023-01-01 10:06:00+00:00', '2023-01-01 10:07:00+00:00', '2023-01-01 10:08:00+00:00', '2023-01-01 10:09:00+00:00',\n               ...\n               '2023-01-01 16:30:00+00:00', '2023-01-01 16:31:00+00:00', '2023-01-01 16:32:00+00:00', '2023-01-01 16:33:00+00:00', '2023-01-01 16:34:00+00:00', '2023-01-01 16:35:00+00:00', '2023-01-01 16:36:00+00:00', '2023-01-01 16:37:00+00:00', '2023-01-01 16:38:00+00:00', '2023-01-01 16:39:00+00:00'], dtype='datetime64[ns, UTC]', length=400, freq=None) in the dataset.. Currency pair = APE_USDT.\n\tOhlcvLogicalValuesCheck: FAILED: next logical checks is not passed: ['volume_is_not_0']\n################################################################################\n",
     "output_type": "error",
     "traceback": [
      "\u001b[0;31m---------------------------------------------------------------------------\u001b[0m",
      "\u001b[0;31mAssertionError\u001b[0m                            Traceback (most recent call last)",
      "Cell \u001b[0;32mIn [13], line 1\u001b[0m\n\u001b[0;32m----> 1\u001b[0m \u001b[43mdataset_validator\u001b[49m\u001b[38;5;241;43m.\u001b[39;49m\u001b[43mrun_all_checks\u001b[49m\u001b[43m(\u001b[49m\u001b[43m[\u001b[49m\u001b[43mohlcv_data\u001b[49m\u001b[43m]\u001b[49m\u001b[43m,\u001b[49m\u001b[43m \u001b[49m\u001b[43m_LOG\u001b[49m\u001b[43m)\u001b[49m\n",
      "File \u001b[0;32m/app/im_v2/common/data/qa/dataset_validator.py:26\u001b[0m, in \u001b[0;36mSingleDataFrameDatasetValidator.run_all_checks\u001b[0;34m(self, datasets, logger)\u001b[0m\n\u001b[1;32m     24\u001b[0m \u001b[38;5;28;01mif\u001b[39;00m error_msgs:\n\u001b[1;32m     25\u001b[0m     error_msg \u001b[38;5;241m=\u001b[39m \u001b[38;5;124m\"\u001b[39m\u001b[38;5;130;01m\\n\u001b[39;00m\u001b[38;5;124m\"\u001b[39m\u001b[38;5;241m.\u001b[39mjoin(error_msgs)\n\u001b[0;32m---> 26\u001b[0m     \u001b[43mhdbg\u001b[49m\u001b[38;5;241;43m.\u001b[39;49m\u001b[43mdfatal\u001b[49m\u001b[43m(\u001b[49m\u001b[43merror_msg\u001b[49m\u001b[43m)\u001b[49m\n",
      "File \u001b[0;32m/app/helpers/hdbg.py:71\u001b[0m, in \u001b[0;36mdfatal\u001b[0;34m(message, assertion_type)\u001b[0m\n\u001b[1;32m     69\u001b[0m \u001b[38;5;28;01mif\u001b[39;00m assertion_type \u001b[38;5;129;01mis\u001b[39;00m \u001b[38;5;28;01mNone\u001b[39;00m:\n\u001b[1;32m     70\u001b[0m     assertion_type \u001b[38;5;241m=\u001b[39m \u001b[38;5;167;01mAssertionError\u001b[39;00m\n\u001b[0;32m---> 71\u001b[0m \u001b[38;5;28;01mraise\u001b[39;00m assertion_type(ret)\n",
      "\u001b[0;31mAssertionError\u001b[0m: \n################################################################################\n\tGapsInTimeIntervalBySymbolsCheck: GapsInTimeIntervalCheck: FAILED: Found gaps DatetimeIndex(['2023-01-01 10:00:00+00:00', '2023-01-01 10:01:00+00:00', '2023-01-01 10:02:00+00:00', '2023-01-01 10:03:00+00:00', '2023-01-01 10:04:00+00:00', '2023-01-01 10:05:00+00:00', '2023-01-01 10:06:00+00:00', '2023-01-01 10:07:00+00:00', '2023-01-01 10:08:00+00:00', '2023-01-01 10:09:00+00:00',\n               ...\n               '2023-01-01 16:30:00+00:00', '2023-01-01 16:31:00+00:00', '2023-01-01 16:32:00+00:00', '2023-01-01 16:33:00+00:00', '2023-01-01 16:34:00+00:00', '2023-01-01 16:35:00+00:00', '2023-01-01 16:36:00+00:00', '2023-01-01 16:37:00+00:00', '2023-01-01 16:38:00+00:00', '2023-01-01 16:39:00+00:00'], dtype='datetime64[ns, UTC]', length=400, freq=None) in the dataset.. Currency pair = APE_USDT.\n\tOhlcvLogicalValuesCheck: FAILED: next logical checks is not passed: ['volume_is_not_0']\n################################################################################\n"
     ]
    }
   ],
   "source": [
    "dataset_validator.run_all_checks([ohlcv_data], _LOG)"
   ]
  },
  {
   "cell_type": "code",
   "execution_count": 18,
   "id": "09c96688",
   "metadata": {
    "ExecuteTime": {
     "end_time": "2023-02-10T12:28:36.763616Z",
     "start_time": "2023-02-10T12:28:36.758360Z"
    },
    "hidden": true
   },
   "outputs": [
    {
     "data": {
      "text/plain": [
       "221"
      ]
     },
     "execution_count": 18,
     "metadata": {},
     "output_type": "execute_result"
    }
   ],
   "source": [
    "len(ohlcv_data[ohlcv_data.volume == 0])"
   ]
  },
  {
   "cell_type": "code",
   "execution_count": 19,
   "id": "c480fb2a",
   "metadata": {
    "ExecuteTime": {
     "end_time": "2023-02-10T12:28:38.433250Z",
     "start_time": "2023-02-10T12:28:38.429529Z"
    },
    "hidden": true
   },
   "outputs": [
    {
     "data": {
      "text/plain": [
       "918"
      ]
     },
     "execution_count": 19,
     "metadata": {},
     "output_type": "execute_result"
    }
   ],
   "source": [
    "len(ohlcv_data)"
   ]
  },
  {
   "cell_type": "markdown",
   "id": "0a794c93",
   "metadata": {
    "heading_collapsed": true
   },
   "source": [
    "# CmTask3791: airflow download bulk  - QA"
   ]
  },
  {
   "cell_type": "markdown",
   "id": "6b68136c",
   "metadata": {
    "hidden": true
   },
   "source": [
    "## OHLCV - futures"
   ]
  },
  {
   "cell_type": "code",
   "execution_count": 33,
   "id": "c95d39d8",
   "metadata": {
    "ExecuteTime": {
     "end_time": "2023-02-10T17:54:29.882848Z",
     "start_time": "2023-02-10T17:54:29.877333Z"
    },
    "hidden": true
   },
   "outputs": [
    {
     "name": "stdout",
     "output_type": "stream",
     "text": [
      "INFO  Loading dataset schema file: /app/data_schema/dataset_schema_versions/dataset_schema_v3.json\n",
      "INFO  Loaded dataset schema version v3\n"
     ]
    }
   ],
   "source": [
    "signature = \"bulk.airflow.downloaded_1min.parquet.ohlcv.futures.v7_3.ccxt.okx.v1_0_0\"\n",
    "reader = imvcdcimrdc.RawDataReader(signature, stage=\"test\")\n",
    "start_timestamp = pd.Timestamp(\"2021-01-01 00:00:00+00:00\")\n",
    "end_timestamp = pd.Timestamp(\"2021-05-01 00:00:00+00:00\")"
   ]
  },
  {
   "cell_type": "code",
   "execution_count": 34,
   "id": "ee297b06",
   "metadata": {
    "ExecuteTime": {
     "end_time": "2023-02-10T17:54:31.769472Z",
     "start_time": "2023-02-10T17:54:30.152993Z"
    },
    "hidden": true
   },
   "outputs": [
    {
     "name": "stdout",
     "output_type": "stream",
     "text": [
      "INFO  Loading dataset schema file: /app/data_schema/dataset_schema_versions/dataset_schema_v3.json\n",
      "INFO  Loaded dataset schema version v3\n"
     ]
    }
   ],
   "source": [
    "ohlcv_data = reader.read_data(start_timestamp, end_timestamp)"
   ]
  },
  {
   "cell_type": "code",
   "execution_count": 35,
   "id": "c4785db8",
   "metadata": {
    "ExecuteTime": {
     "end_time": "2023-02-10T17:54:31.786820Z",
     "start_time": "2023-02-10T17:54:31.771904Z"
    },
    "hidden": true
   },
   "outputs": [
    {
     "data": {
      "text/html": [
       "<div>\n",
       "<style scoped>\n",
       "    .dataframe tbody tr th:only-of-type {\n",
       "        vertical-align: middle;\n",
       "    }\n",
       "\n",
       "    .dataframe tbody tr th {\n",
       "        vertical-align: top;\n",
       "    }\n",
       "\n",
       "    .dataframe thead th {\n",
       "        text-align: right;\n",
       "    }\n",
       "</style>\n",
       "<table border=\"1\" class=\"dataframe\">\n",
       "  <thead>\n",
       "    <tr style=\"text-align: right;\">\n",
       "      <th></th>\n",
       "      <th>timestamp</th>\n",
       "      <th>open</th>\n",
       "      <th>high</th>\n",
       "      <th>low</th>\n",
       "      <th>close</th>\n",
       "      <th>volume</th>\n",
       "      <th>exchange_id</th>\n",
       "      <th>knowledge_timestamp</th>\n",
       "      <th>currency_pair</th>\n",
       "      <th>year</th>\n",
       "      <th>month</th>\n",
       "    </tr>\n",
       "    <tr>\n",
       "      <th>timestamp</th>\n",
       "      <th></th>\n",
       "      <th></th>\n",
       "      <th></th>\n",
       "      <th></th>\n",
       "      <th></th>\n",
       "      <th></th>\n",
       "      <th></th>\n",
       "      <th></th>\n",
       "      <th></th>\n",
       "      <th></th>\n",
       "      <th></th>\n",
       "    </tr>\n",
       "  </thead>\n",
       "  <tbody>\n",
       "    <tr>\n",
       "      <th>2021-01-01 15:00:00+00:00</th>\n",
       "      <td>1609513200000</td>\n",
       "      <td>3.72800</td>\n",
       "      <td>3.72800</td>\n",
       "      <td>3.72800</td>\n",
       "      <td>3.72800</td>\n",
       "      <td>0.000000</td>\n",
       "      <td>okx</td>\n",
       "      <td>2023-02-10 17:11:33.698173+00:00</td>\n",
       "      <td>AVAX_USDT</td>\n",
       "      <td>2021</td>\n",
       "      <td>1</td>\n",
       "    </tr>\n",
       "    <tr>\n",
       "      <th>2021-01-01 15:01:00+00:00</th>\n",
       "      <td>1609513260000</td>\n",
       "      <td>3.72800</td>\n",
       "      <td>3.72800</td>\n",
       "      <td>3.72800</td>\n",
       "      <td>3.72800</td>\n",
       "      <td>0.000000</td>\n",
       "      <td>okx</td>\n",
       "      <td>2023-02-10 17:11:33.698173+00:00</td>\n",
       "      <td>AVAX_USDT</td>\n",
       "      <td>2021</td>\n",
       "      <td>1</td>\n",
       "    </tr>\n",
       "    <tr>\n",
       "      <th>2021-01-01 15:02:00+00:00</th>\n",
       "      <td>1609513320000</td>\n",
       "      <td>3.72500</td>\n",
       "      <td>3.72600</td>\n",
       "      <td>3.72500</td>\n",
       "      <td>3.72600</td>\n",
       "      <td>137.169200</td>\n",
       "      <td>okx</td>\n",
       "      <td>2023-02-10 17:11:33.698173+00:00</td>\n",
       "      <td>AVAX_USDT</td>\n",
       "      <td>2021</td>\n",
       "      <td>1</td>\n",
       "    </tr>\n",
       "    <tr>\n",
       "      <th>2021-01-01 15:03:00+00:00</th>\n",
       "      <td>1609513380000</td>\n",
       "      <td>3.71900</td>\n",
       "      <td>3.71900</td>\n",
       "      <td>3.71900</td>\n",
       "      <td>3.71900</td>\n",
       "      <td>33.754300</td>\n",
       "      <td>okx</td>\n",
       "      <td>2023-02-10 17:11:33.698173+00:00</td>\n",
       "      <td>AVAX_USDT</td>\n",
       "      <td>2021</td>\n",
       "      <td>1</td>\n",
       "    </tr>\n",
       "    <tr>\n",
       "      <th>2021-01-01 15:04:00+00:00</th>\n",
       "      <td>1609513440000</td>\n",
       "      <td>3.71900</td>\n",
       "      <td>3.71900</td>\n",
       "      <td>3.71900</td>\n",
       "      <td>3.71900</td>\n",
       "      <td>0.000000</td>\n",
       "      <td>okx</td>\n",
       "      <td>2023-02-10 17:11:33.698173+00:00</td>\n",
       "      <td>AVAX_USDT</td>\n",
       "      <td>2021</td>\n",
       "      <td>1</td>\n",
       "    </tr>\n",
       "    <tr>\n",
       "      <th>...</th>\n",
       "      <td>...</td>\n",
       "      <td>...</td>\n",
       "      <td>...</td>\n",
       "      <td>...</td>\n",
       "      <td>...</td>\n",
       "      <td>...</td>\n",
       "      <td>...</td>\n",
       "      <td>...</td>\n",
       "      <td>...</td>\n",
       "      <td>...</td>\n",
       "      <td>...</td>\n",
       "    </tr>\n",
       "    <tr>\n",
       "      <th>2021-04-30 20:35:00+00:00</th>\n",
       "      <td>1619814900000</td>\n",
       "      <td>1.57375</td>\n",
       "      <td>1.58036</td>\n",
       "      <td>1.57375</td>\n",
       "      <td>1.58032</td>\n",
       "      <td>121684.714422</td>\n",
       "      <td>okx</td>\n",
       "      <td>2023-02-10 17:39:09.192469+00:00</td>\n",
       "      <td>XRP_USDT</td>\n",
       "      <td>2021</td>\n",
       "      <td>4</td>\n",
       "    </tr>\n",
       "    <tr>\n",
       "      <th>2021-04-30 20:36:00+00:00</th>\n",
       "      <td>1619814960000</td>\n",
       "      <td>1.58036</td>\n",
       "      <td>1.58147</td>\n",
       "      <td>1.57775</td>\n",
       "      <td>1.58060</td>\n",
       "      <td>115936.415953</td>\n",
       "      <td>okx</td>\n",
       "      <td>2023-02-10 17:39:09.192469+00:00</td>\n",
       "      <td>XRP_USDT</td>\n",
       "      <td>2021</td>\n",
       "      <td>4</td>\n",
       "    </tr>\n",
       "    <tr>\n",
       "      <th>2021-04-30 20:37:00+00:00</th>\n",
       "      <td>1619815020000</td>\n",
       "      <td>1.58030</td>\n",
       "      <td>1.58030</td>\n",
       "      <td>1.57764</td>\n",
       "      <td>1.57904</td>\n",
       "      <td>71280.589603</td>\n",
       "      <td>okx</td>\n",
       "      <td>2023-02-10 17:39:09.192469+00:00</td>\n",
       "      <td>XRP_USDT</td>\n",
       "      <td>2021</td>\n",
       "      <td>4</td>\n",
       "    </tr>\n",
       "    <tr>\n",
       "      <th>2021-04-30 20:38:00+00:00</th>\n",
       "      <td>1619815080000</td>\n",
       "      <td>1.57974</td>\n",
       "      <td>1.58081</td>\n",
       "      <td>1.57838</td>\n",
       "      <td>1.57925</td>\n",
       "      <td>37031.328210</td>\n",
       "      <td>okx</td>\n",
       "      <td>2023-02-10 17:39:09.192469+00:00</td>\n",
       "      <td>XRP_USDT</td>\n",
       "      <td>2021</td>\n",
       "      <td>4</td>\n",
       "    </tr>\n",
       "    <tr>\n",
       "      <th>2021-04-30 20:39:00+00:00</th>\n",
       "      <td>1619815140000</td>\n",
       "      <td>1.57989</td>\n",
       "      <td>1.58049</td>\n",
       "      <td>1.57828</td>\n",
       "      <td>1.58048</td>\n",
       "      <td>45675.092846</td>\n",
       "      <td>okx</td>\n",
       "      <td>2023-02-10 17:39:09.192469+00:00</td>\n",
       "      <td>XRP_USDT</td>\n",
       "      <td>2021</td>\n",
       "      <td>4</td>\n",
       "    </tr>\n",
       "  </tbody>\n",
       "</table>\n",
       "<p>216100 rows × 11 columns</p>\n",
       "</div>"
      ],
      "text/plain": [
       "                               timestamp     open     high      low    close         volume exchange_id              knowledge_timestamp currency_pair  year  month\n",
       "timestamp                                                                                                                                                          \n",
       "2021-01-01 15:00:00+00:00  1609513200000  3.72800  3.72800  3.72800  3.72800       0.000000         okx 2023-02-10 17:11:33.698173+00:00     AVAX_USDT  2021      1\n",
       "2021-01-01 15:01:00+00:00  1609513260000  3.72800  3.72800  3.72800  3.72800       0.000000         okx 2023-02-10 17:11:33.698173+00:00     AVAX_USDT  2021      1\n",
       "2021-01-01 15:02:00+00:00  1609513320000  3.72500  3.72600  3.72500  3.72600     137.169200         okx 2023-02-10 17:11:33.698173+00:00     AVAX_USDT  2021      1\n",
       "2021-01-01 15:03:00+00:00  1609513380000  3.71900  3.71900  3.71900  3.71900      33.754300         okx 2023-02-10 17:11:33.698173+00:00     AVAX_USDT  2021      1\n",
       "2021-01-01 15:04:00+00:00  1609513440000  3.71900  3.71900  3.71900  3.71900       0.000000         okx 2023-02-10 17:11:33.698173+00:00     AVAX_USDT  2021      1\n",
       "...                                  ...      ...      ...      ...      ...            ...         ...                              ...           ...   ...    ...\n",
       "2021-04-30 20:35:00+00:00  1619814900000  1.57375  1.58036  1.57375  1.58032  121684.714422         okx 2023-02-10 17:39:09.192469+00:00      XRP_USDT  2021      4\n",
       "2021-04-30 20:36:00+00:00  1619814960000  1.58036  1.58147  1.57775  1.58060  115936.415953         okx 2023-02-10 17:39:09.192469+00:00      XRP_USDT  2021      4\n",
       "2021-04-30 20:37:00+00:00  1619815020000  1.58030  1.58030  1.57764  1.57904   71280.589603         okx 2023-02-10 17:39:09.192469+00:00      XRP_USDT  2021      4\n",
       "2021-04-30 20:38:00+00:00  1619815080000  1.57974  1.58081  1.57838  1.57925   37031.328210         okx 2023-02-10 17:39:09.192469+00:00      XRP_USDT  2021      4\n",
       "2021-04-30 20:39:00+00:00  1619815140000  1.57989  1.58049  1.57828  1.58048   45675.092846         okx 2023-02-10 17:39:09.192469+00:00      XRP_USDT  2021      4\n",
       "\n",
       "[216100 rows x 11 columns]"
      ]
     },
     "execution_count": 35,
     "metadata": {},
     "output_type": "execute_result"
    }
   ],
   "source": [
    "ohlcv_data"
   ]
  },
  {
   "cell_type": "code",
   "execution_count": 36,
   "id": "bb073a77",
   "metadata": {
    "ExecuteTime": {
     "end_time": "2023-02-10T17:54:47.719842Z",
     "start_time": "2023-02-10T17:54:47.715935Z"
    },
    "hidden": true,
    "lines_to_next_cell": 2
   },
   "outputs": [],
   "source": [
    "data_frequency = \"T\"\n",
    "vendor_name = \"CCXT\"\n",
    "mode = \"download\"\n",
    "version = \"v7.3\"\n",
    "exchange_id = \"okx\"\n",
    "universe = imvcounun.get_vendor_universe(\n",
    "    vendor_name,\n",
    "    mode,\n",
    "    version=version)\n",
    "universe_list = universe[exchange_id]"
   ]
  },
  {
   "cell_type": "code",
   "execution_count": 37,
   "id": "65e1d7c2",
   "metadata": {
    "ExecuteTime": {
     "end_time": "2023-02-10T17:54:47.725949Z",
     "start_time": "2023-02-10T17:54:47.723107Z"
    },
    "hidden": true,
    "lines_to_next_cell": 2
   },
   "outputs": [],
   "source": [
    "qa_check_list = [\n",
    "    imvcdqqach.GapsInTimeIntervalBySymbolsCheck(\n",
    "        start_timestamp,\n",
    "        end_timestamp,\n",
    "        data_frequency\n",
    "    ),\n",
    "    imvcdqqach.NaNChecks(),\n",
    "    imvcdqqach.OhlcvLogicalValuesCheck(),\n",
    "    imvcdqqach.FullUniversePresentCheck(universe_list)\n",
    "]\n",
    "dataset_validator = imvcdqdava.SingleDataFrameDatasetValidator(qa_check_list)"
   ]
  },
  {
   "cell_type": "code",
   "execution_count": 38,
   "id": "958103cf",
   "metadata": {
    "ExecuteTime": {
     "end_time": "2023-02-10T17:54:47.904309Z",
     "start_time": "2023-02-10T17:54:47.728188Z"
    },
    "hidden": true
   },
   "outputs": [
    {
     "name": "stdout",
     "output_type": "stream",
     "text": [
      "INFO  Running all QA checks:\n",
      "INFO  \tNaNChecks: PASSED\n"
     ]
    },
    {
     "ename": "AssertionError",
     "evalue": "\n################################################################################\n\tGapsInTimeIntervalBySymbolsCheck: GapsInTimeIntervalCheck: FAILED: Found gaps DatetimeIndex(['2021-01-01 00:00:00+00:00', '2021-01-01 00:01:00+00:00', '2021-01-01 00:02:00+00:00', '2021-01-01 00:03:00+00:00', '2021-01-01 00:04:00+00:00', '2021-01-01 00:05:00+00:00', '2021-01-01 00:06:00+00:00', '2021-01-01 00:07:00+00:00', '2021-01-01 00:08:00+00:00', '2021-01-01 00:09:00+00:00',\n               ...\n               '2021-04-30 23:51:00+00:00', '2021-04-30 23:52:00+00:00', '2021-04-30 23:53:00+00:00', '2021-04-30 23:54:00+00:00', '2021-04-30 23:55:00+00:00', '2021-04-30 23:56:00+00:00', '2021-04-30 23:57:00+00:00', '2021-04-30 23:58:00+00:00', '2021-04-30 23:59:00+00:00', '2021-05-01 00:00:00+00:00'], dtype='datetime64[ns, UTC]', length=155701, freq=None) in the dataset.. Currency pair = AVAX_USDT.\n\tOhlcvLogicalValuesCheck: FAILED: next logical checks is not passed: ['volume_is_not_0']\n\tFullUniversePresentCheck: FAILED: Found missing symbols in dataset:\n\t{'AXS_USDT', 'GMT_USDT', 'BNB_USDT', 'APE_USDT'}\n################################################################################\n",
     "output_type": "error",
     "traceback": [
      "\u001b[0;31m---------------------------------------------------------------------------\u001b[0m",
      "\u001b[0;31mAssertionError\u001b[0m                            Traceback (most recent call last)",
      "Cell \u001b[0;32mIn [38], line 1\u001b[0m\n\u001b[0;32m----> 1\u001b[0m \u001b[43mdataset_validator\u001b[49m\u001b[38;5;241;43m.\u001b[39;49m\u001b[43mrun_all_checks\u001b[49m\u001b[43m(\u001b[49m\u001b[43m[\u001b[49m\u001b[43mohlcv_data\u001b[49m\u001b[43m]\u001b[49m\u001b[43m,\u001b[49m\u001b[43m \u001b[49m\u001b[43m_LOG\u001b[49m\u001b[43m)\u001b[49m\n",
      "File \u001b[0;32m/app/im_v2/common/data/qa/dataset_validator.py:26\u001b[0m, in \u001b[0;36mSingleDataFrameDatasetValidator.run_all_checks\u001b[0;34m(self, datasets, logger)\u001b[0m\n\u001b[1;32m     24\u001b[0m \u001b[38;5;28;01mif\u001b[39;00m error_msgs:\n\u001b[1;32m     25\u001b[0m     error_msg \u001b[38;5;241m=\u001b[39m \u001b[38;5;124m\"\u001b[39m\u001b[38;5;130;01m\\n\u001b[39;00m\u001b[38;5;124m\"\u001b[39m\u001b[38;5;241m.\u001b[39mjoin(error_msgs)\n\u001b[0;32m---> 26\u001b[0m     \u001b[43mhdbg\u001b[49m\u001b[38;5;241;43m.\u001b[39;49m\u001b[43mdfatal\u001b[49m\u001b[43m(\u001b[49m\u001b[43merror_msg\u001b[49m\u001b[43m)\u001b[49m\n",
      "File \u001b[0;32m/app/helpers/hdbg.py:71\u001b[0m, in \u001b[0;36mdfatal\u001b[0;34m(message, assertion_type)\u001b[0m\n\u001b[1;32m     69\u001b[0m \u001b[38;5;28;01mif\u001b[39;00m assertion_type \u001b[38;5;129;01mis\u001b[39;00m \u001b[38;5;28;01mNone\u001b[39;00m:\n\u001b[1;32m     70\u001b[0m     assertion_type \u001b[38;5;241m=\u001b[39m \u001b[38;5;167;01mAssertionError\u001b[39;00m\n\u001b[0;32m---> 71\u001b[0m \u001b[38;5;28;01mraise\u001b[39;00m assertion_type(ret)\n",
      "\u001b[0;31mAssertionError\u001b[0m: \n################################################################################\n\tGapsInTimeIntervalBySymbolsCheck: GapsInTimeIntervalCheck: FAILED: Found gaps DatetimeIndex(['2021-01-01 00:00:00+00:00', '2021-01-01 00:01:00+00:00', '2021-01-01 00:02:00+00:00', '2021-01-01 00:03:00+00:00', '2021-01-01 00:04:00+00:00', '2021-01-01 00:05:00+00:00', '2021-01-01 00:06:00+00:00', '2021-01-01 00:07:00+00:00', '2021-01-01 00:08:00+00:00', '2021-01-01 00:09:00+00:00',\n               ...\n               '2021-04-30 23:51:00+00:00', '2021-04-30 23:52:00+00:00', '2021-04-30 23:53:00+00:00', '2021-04-30 23:54:00+00:00', '2021-04-30 23:55:00+00:00', '2021-04-30 23:56:00+00:00', '2021-04-30 23:57:00+00:00', '2021-04-30 23:58:00+00:00', '2021-04-30 23:59:00+00:00', '2021-05-01 00:00:00+00:00'], dtype='datetime64[ns, UTC]', length=155701, freq=None) in the dataset.. Currency pair = AVAX_USDT.\n\tOhlcvLogicalValuesCheck: FAILED: next logical checks is not passed: ['volume_is_not_0']\n\tFullUniversePresentCheck: FAILED: Found missing symbols in dataset:\n\t{'AXS_USDT', 'GMT_USDT', 'BNB_USDT', 'APE_USDT'}\n################################################################################\n"
     ]
    }
   ],
   "source": [
    "dataset_validator.run_all_checks([ohlcv_data], _LOG)"
   ]
  },
  {
   "cell_type": "code",
   "execution_count": 31,
   "id": "cf1afd6a",
   "metadata": {
    "ExecuteTime": {
     "end_time": "2023-02-10T17:51:32.511229Z",
     "start_time": "2023-02-10T17:51:32.506240Z"
    },
    "hidden": true
   },
   "outputs": [
    {
     "data": {
      "text/plain": [
       "1762"
      ]
     },
     "execution_count": 31,
     "metadata": {},
     "output_type": "execute_result"
    }
   ],
   "source": [
    "len(ohlcv_data[ohlcv_data.volume == 0])"
   ]
  },
  {
   "cell_type": "markdown",
   "id": "a3de7155",
   "metadata": {
    "hidden": true
   },
   "source": [
    "## bid_ask - spot"
   ]
  },
  {
   "cell_type": "markdown",
   "id": "427bf67f",
   "metadata": {
    "hidden": true
   },
   "source": [
    "### bid_ask - probe download"
   ]
  },
  {
   "cell_type": "code",
   "execution_count": 28,
   "id": "22353e4e",
   "metadata": {
    "ExecuteTime": {
     "end_time": "2023-02-15T14:41:50.954238Z",
     "start_time": "2023-02-15T14:41:27.186672Z"
    },
    "hidden": true
   },
   "outputs": [
    {
     "name": "stdout",
     "output_type": "stream",
     "text": [
      "\u001b[0m\u001b[36mINFO\u001b[0m: > cmd='/app/im_v2/common/data/extract/download_bulk.py --download_mode bulk --downloading_entity airflow --action_tag downloaded_1min --vendor crypto_chassis --start_timestamp 2023-01-01 10:00:00+00:00 --end_timestamp 2023-01-01 20:30:00+00:00 --exchange_id okex --universe v4 --aws_profile ck --data_type bid_ask --data_format parquet --contract_type spot --s3_path s3://cryptokaizen-data-test/'\n",
      "report_memory_usage=False report_cpu_usage=False\n",
      "\u001b[36mINFO\u001b[0m: Saving log to file '/app/im_v2/common/data/extract/download_bulk.py.log'\n",
      "09:41:30 - \u001b[36mINFO \u001b[0m dataset_schema_utils.py _get_dataset_schema_file_path:37 Loading dataset schema file: /app/data_schema/dataset_schema_versions/dataset_schema_v3.json\n",
      "09:41:30 - \u001b[36mINFO \u001b[0m dataset_schema_utils.py get_dataset_schema:72          Loaded dataset schema version v3\n",
      "09:41:30 - \u001b[36mINFO \u001b[0m extractor.py _download_bid_ask:228                     https://api.cryptochassis.com/v1/market-depth/okex/eth-usdt?startTime=2023-01-01T10:00:00Z\n",
      "09:41:33 - \u001b[36mINFO \u001b[0m extractor.py _download_bid_ask:259                     DataFrame shape before timestamp filter: (56133, 5)\n",
      "09:41:33 - \u001b[36mINFO \u001b[0m extractor.py _download_bid_ask:262                     DataFrame shape after timestamp filter: (25431, 5)\n",
      "09:41:33 - \u001b[36mINFO \u001b[0m extract_utils.py download_historical_data:716          Saving the dataset into s3://cryptokaizen-data-test/v3/bulk/airflow/downloaded_1min/parquet/bid_ask/spot/v4/crypto_chassis/okex/v1_0_0\n"
     ]
    },
    {
     "name": "stderr",
     "output_type": "stream",
     "text": [
      "\r",
      "  0%|          | 0/1 [00:00<?, ?it/s]\r",
      "100%|██████████| 1/1 [00:01<00:00,  1.61s/it]\r",
      "100%|██████████| 1/1 [00:01<00:00,  1.61s/it]\n"
     ]
    },
    {
     "name": "stdout",
     "output_type": "stream",
     "text": [
      "09:41:33 - \u001b[36mINFO \u001b[0m extractor.py _download_bid_ask:228                     https://api.cryptochassis.com/v1/market-depth/okex/btc-usdt?startTime=2023-01-01T10:00:00Z\n",
      "09:41:35 - \u001b[36mINFO \u001b[0m extractor.py _download_bid_ask:259                     DataFrame shape before timestamp filter: (67545, 5)\n",
      "09:41:35 - \u001b[36mINFO \u001b[0m extractor.py _download_bid_ask:262                     DataFrame shape after timestamp filter: (29047, 5)\n",
      "09:41:35 - \u001b[36mINFO \u001b[0m extract_utils.py download_historical_data:716          Saving the dataset into s3://cryptokaizen-data-test/v3/bulk/airflow/downloaded_1min/parquet/bid_ask/spot/v4/crypto_chassis/okex/v1_0_0\n"
     ]
    },
    {
     "name": "stderr",
     "output_type": "stream",
     "text": [
      "\r",
      "  0%|          | 0/1 [00:00<?, ?it/s]\r",
      "100%|██████████| 1/1 [00:01<00:00,  1.59s/it]\r",
      "100%|██████████| 1/1 [00:01<00:00,  1.59s/it]\n"
     ]
    },
    {
     "name": "stdout",
     "output_type": "stream",
     "text": [
      "09:41:36 - \u001b[36mINFO \u001b[0m extractor.py _download_bid_ask:228                     https://api.cryptochassis.com/v1/market-depth/okex/sand-usdt?startTime=2023-01-01T10:00:00Z\n",
      "09:41:36 - \u001b[41mWARN \u001b[0m extractor.py _download_bid_ask:235                     No data at https://api.cryptochassis.com/v1/market-depth/okex/sand-usdt?startTime=2023-01-01T10:00:00Z\n",
      "09:41:36 - \u001b[41mWARN \u001b[0m extractor.py _download_bid_ask:244                     No data found for given query parameters.\n"
     ]
    },
    {
     "name": "stderr",
     "output_type": "stream",
     "text": [
      "\r",
      "  0%|          | 0/1 [00:00<?, ?it/s]\r",
      "100%|██████████| 1/1 [00:00<00:00,  2.17it/s]\r",
      "100%|██████████| 1/1 [00:00<00:00,  2.17it/s]\n"
     ]
    },
    {
     "name": "stdout",
     "output_type": "stream",
     "text": [
      "09:41:36 - \u001b[36mINFO \u001b[0m extractor.py _download_bid_ask:228                     https://api.cryptochassis.com/v1/market-depth/okex/storj-usdt?startTime=2023-01-01T10:00:00Z\n",
      "09:41:36 - \u001b[41mWARN \u001b[0m extractor.py _download_bid_ask:235                     No data at https://api.cryptochassis.com/v1/market-depth/okex/storj-usdt?startTime=2023-01-01T10:00:00Z\n",
      "09:41:36 - \u001b[41mWARN \u001b[0m extractor.py _download_bid_ask:244                     No data found for given query parameters.\n"
     ]
    },
    {
     "name": "stderr",
     "output_type": "stream",
     "text": [
      "\r",
      "  0%|          | 0/1 [00:00<?, ?it/s]\r",
      "100%|██████████| 1/1 [00:00<00:00,  2.19it/s]\r",
      "100%|██████████| 1/1 [00:00<00:00,  2.19it/s]\n"
     ]
    },
    {
     "name": "stdout",
     "output_type": "stream",
     "text": [
      "09:41:36 - \u001b[36mINFO \u001b[0m extractor.py _download_bid_ask:228                     https://api.cryptochassis.com/v1/market-depth/okex/gmt-usdt?startTime=2023-01-01T10:00:00Z\n",
      "09:41:37 - \u001b[41mWARN \u001b[0m extractor.py _download_bid_ask:235                     No data at https://api.cryptochassis.com/v1/market-depth/okex/gmt-usdt?startTime=2023-01-01T10:00:00Z\n",
      "09:41:37 - \u001b[41mWARN \u001b[0m extractor.py _download_bid_ask:244                     No data found for given query parameters.\n"
     ]
    },
    {
     "name": "stderr",
     "output_type": "stream",
     "text": [
      "\r",
      "  0%|          | 0/1 [00:00<?, ?it/s]\r",
      "100%|██████████| 1/1 [00:00<00:00,  2.19it/s]\r",
      "100%|██████████| 1/1 [00:00<00:00,  2.19it/s]\n"
     ]
    },
    {
     "name": "stdout",
     "output_type": "stream",
     "text": [
      "09:41:37 - \u001b[36mINFO \u001b[0m extractor.py _download_bid_ask:228                     https://api.cryptochassis.com/v1/market-depth/okex/avax-usdt?startTime=2023-01-01T10:00:00Z\n",
      "09:41:37 - \u001b[41mWARN \u001b[0m extractor.py _download_bid_ask:235                     No data at https://api.cryptochassis.com/v1/market-depth/okex/avax-usdt?startTime=2023-01-01T10:00:00Z\n",
      "09:41:37 - \u001b[41mWARN \u001b[0m extractor.py _download_bid_ask:244                     No data found for given query parameters.\n"
     ]
    },
    {
     "name": "stderr",
     "output_type": "stream",
     "text": [
      "\r",
      "  0%|          | 0/1 [00:00<?, ?it/s]\r",
      "100%|██████████| 1/1 [00:00<00:00,  2.17it/s]\r",
      "100%|██████████| 1/1 [00:00<00:00,  2.17it/s]\n"
     ]
    },
    {
     "name": "stdout",
     "output_type": "stream",
     "text": [
      "09:41:37 - \u001b[36mINFO \u001b[0m extractor.py _download_bid_ask:228                     https://api.cryptochassis.com/v1/market-depth/okex/bnb-usdt?startTime=2023-01-01T10:00:00Z\n",
      "09:41:38 - \u001b[41mWARN \u001b[0m extractor.py _download_bid_ask:235                     No data at https://api.cryptochassis.com/v1/market-depth/okex/bnb-usdt?startTime=2023-01-01T10:00:00Z\n",
      "09:41:38 - \u001b[41mWARN \u001b[0m extractor.py _download_bid_ask:244                     No data found for given query parameters.\n"
     ]
    },
    {
     "name": "stderr",
     "output_type": "stream",
     "text": [
      "\r",
      "  0%|          | 0/1 [00:00<?, ?it/s]\r",
      "100%|██████████| 1/1 [00:00<00:00,  2.19it/s]\r",
      "100%|██████████| 1/1 [00:00<00:00,  2.19it/s]\n"
     ]
    },
    {
     "name": "stdout",
     "output_type": "stream",
     "text": [
      "09:41:38 - \u001b[36mINFO \u001b[0m extractor.py _download_bid_ask:228                     https://api.cryptochassis.com/v1/market-depth/okex/ape-usdt?startTime=2023-01-01T10:00:00Z\n",
      "09:41:38 - \u001b[41mWARN \u001b[0m extractor.py _download_bid_ask:235                     No data at https://api.cryptochassis.com/v1/market-depth/okex/ape-usdt?startTime=2023-01-01T10:00:00Z\n",
      "09:41:38 - \u001b[41mWARN \u001b[0m extractor.py _download_bid_ask:244                     No data found for given query parameters.\n"
     ]
    },
    {
     "name": "stderr",
     "output_type": "stream",
     "text": [
      "\r",
      "  0%|          | 0/1 [00:00<?, ?it/s]\r",
      "100%|██████████| 1/1 [00:00<00:00,  2.22it/s]\r",
      "100%|██████████| 1/1 [00:00<00:00,  2.22it/s]\n"
     ]
    },
    {
     "name": "stdout",
     "output_type": "stream",
     "text": [
      "09:41:38 - \u001b[36mINFO \u001b[0m extractor.py _download_bid_ask:228                     https://api.cryptochassis.com/v1/market-depth/okex/matic-usdt?startTime=2023-01-01T10:00:00Z\n",
      "09:41:39 - \u001b[41mWARN \u001b[0m extractor.py _download_bid_ask:235                     No data at https://api.cryptochassis.com/v1/market-depth/okex/matic-usdt?startTime=2023-01-01T10:00:00Z\n",
      "09:41:39 - \u001b[41mWARN \u001b[0m extractor.py _download_bid_ask:244                     No data found for given query parameters.\n"
     ]
    },
    {
     "name": "stderr",
     "output_type": "stream",
     "text": [
      "\r",
      "  0%|          | 0/1 [00:00<?, ?it/s]\r",
      "100%|██████████| 1/1 [00:00<00:00,  2.21it/s]\r",
      "100%|██████████| 1/1 [00:00<00:00,  2.20it/s]\n"
     ]
    },
    {
     "name": "stdout",
     "output_type": "stream",
     "text": [
      "09:41:39 - \u001b[36mINFO \u001b[0m extractor.py _download_bid_ask:228                     https://api.cryptochassis.com/v1/market-depth/okex/dot-usdt?startTime=2023-01-01T10:00:00Z\n",
      "09:41:41 - \u001b[36mINFO \u001b[0m extractor.py _download_bid_ask:259                     DataFrame shape before timestamp filter: (55024, 5)\n",
      "09:41:41 - \u001b[36mINFO \u001b[0m extractor.py _download_bid_ask:262                     DataFrame shape after timestamp filter: (24595, 5)\n",
      "09:41:41 - \u001b[36mINFO \u001b[0m extract_utils.py download_historical_data:716          Saving the dataset into s3://cryptokaizen-data-test/v3/bulk/airflow/downloaded_1min/parquet/bid_ask/spot/v4/crypto_chassis/okex/v1_0_0\n"
     ]
    },
    {
     "name": "stderr",
     "output_type": "stream",
     "text": [
      "\r",
      "  0%|          | 0/1 [00:00<?, ?it/s]\r",
      "100%|██████████| 1/1 [00:01<00:00,  1.57s/it]\r",
      "100%|██████████| 1/1 [00:01<00:00,  1.57s/it]\n"
     ]
    },
    {
     "name": "stdout",
     "output_type": "stream",
     "text": [
      "09:41:41 - \u001b[36mINFO \u001b[0m extractor.py _download_bid_ask:228                     https://api.cryptochassis.com/v1/market-depth/okex/link-usdt?startTime=2023-01-01T10:00:00Z\n",
      "09:41:42 - \u001b[41mWARN \u001b[0m extractor.py _download_bid_ask:235                     No data at https://api.cryptochassis.com/v1/market-depth/okex/link-usdt?startTime=2023-01-01T10:00:00Z\n",
      "09:41:42 - \u001b[41mWARN \u001b[0m extractor.py _download_bid_ask:244                     No data found for given query parameters.\n"
     ]
    },
    {
     "name": "stderr",
     "output_type": "stream",
     "text": [
      "\r",
      "  0%|          | 0/1 [00:00<?, ?it/s]\r",
      "100%|██████████| 1/1 [00:00<00:00,  2.19it/s]\r",
      "100%|██████████| 1/1 [00:00<00:00,  2.19it/s]\n"
     ]
    },
    {
     "name": "stdout",
     "output_type": "stream",
     "text": [
      "09:41:42 - \u001b[36mINFO \u001b[0m extractor.py _download_bid_ask:228                     https://api.cryptochassis.com/v1/market-depth/okex/xrp-usdt?startTime=2023-01-01T10:00:00Z\n",
      "09:41:43 - \u001b[36mINFO \u001b[0m extractor.py _download_bid_ask:259                     DataFrame shape before timestamp filter: (36651, 5)\n",
      "09:41:43 - \u001b[36mINFO \u001b[0m extractor.py _download_bid_ask:262                     DataFrame shape after timestamp filter: (16125, 5)\n",
      "09:41:43 - \u001b[36mINFO \u001b[0m extract_utils.py download_historical_data:716          Saving the dataset into s3://cryptokaizen-data-test/v3/bulk/airflow/downloaded_1min/parquet/bid_ask/spot/v4/crypto_chassis/okex/v1_0_0\n"
     ]
    },
    {
     "name": "stderr",
     "output_type": "stream",
     "text": [
      "\r",
      "  0%|          | 0/1 [00:00<?, ?it/s]\r",
      "100%|██████████| 1/1 [00:01<00:00,  1.47s/it]\r",
      "100%|██████████| 1/1 [00:01<00:00,  1.47s/it]\n"
     ]
    },
    {
     "name": "stdout",
     "output_type": "stream",
     "text": [
      "09:41:44 - \u001b[36mINFO \u001b[0m extractor.py _download_bid_ask:228                     https://api.cryptochassis.com/v1/market-depth/okex/near-usdt?startTime=2023-01-01T10:00:00Z\n",
      "09:41:44 - \u001b[41mWARN \u001b[0m extractor.py _download_bid_ask:235                     No data at https://api.cryptochassis.com/v1/market-depth/okex/near-usdt?startTime=2023-01-01T10:00:00Z\n",
      "09:41:44 - \u001b[41mWARN \u001b[0m extractor.py _download_bid_ask:244                     No data found for given query parameters.\n"
     ]
    },
    {
     "name": "stderr",
     "output_type": "stream",
     "text": [
      "\r",
      "  0%|          | 0/1 [00:00<?, ?it/s]\r",
      "100%|██████████| 1/1 [00:00<00:00,  2.18it/s]\r",
      "100%|██████████| 1/1 [00:00<00:00,  2.18it/s]\n"
     ]
    },
    {
     "name": "stdout",
     "output_type": "stream",
     "text": [
      "09:41:44 - \u001b[36mINFO \u001b[0m extractor.py _download_bid_ask:228                     https://api.cryptochassis.com/v1/market-depth/okex/ftm-usdt?startTime=2023-01-01T10:00:00Z\n",
      "09:41:45 - \u001b[41mWARN \u001b[0m extractor.py _download_bid_ask:235                     No data at https://api.cryptochassis.com/v1/market-depth/okex/ftm-usdt?startTime=2023-01-01T10:00:00Z\n",
      "09:41:45 - \u001b[41mWARN \u001b[0m extractor.py _download_bid_ask:244                     No data found for given query parameters.\n"
     ]
    },
    {
     "name": "stderr",
     "output_type": "stream",
     "text": [
      "\r",
      "  0%|          | 0/1 [00:00<?, ?it/s]\r",
      "100%|██████████| 1/1 [00:00<00:00,  2.21it/s]\r",
      "100%|██████████| 1/1 [00:00<00:00,  2.21it/s]\n"
     ]
    },
    {
     "name": "stdout",
     "output_type": "stream",
     "text": [
      "09:41:45 - \u001b[36mINFO \u001b[0m extractor.py _download_bid_ask:228                     https://api.cryptochassis.com/v1/market-depth/okex/waves-usdt?startTime=2023-01-01T10:00:00Z\n",
      "09:41:45 - \u001b[41mWARN \u001b[0m extractor.py _download_bid_ask:235                     No data at https://api.cryptochassis.com/v1/market-depth/okex/waves-usdt?startTime=2023-01-01T10:00:00Z\n",
      "09:41:45 - \u001b[41mWARN \u001b[0m extractor.py _download_bid_ask:244                     No data found for given query parameters.\n"
     ]
    },
    {
     "name": "stderr",
     "output_type": "stream",
     "text": [
      "\r",
      "  0%|          | 0/1 [00:00<?, ?it/s]\r",
      "100%|██████████| 1/1 [00:00<00:00,  2.22it/s]\r",
      "100%|██████████| 1/1 [00:00<00:00,  2.21it/s]\n"
     ]
    },
    {
     "name": "stdout",
     "output_type": "stream",
     "text": [
      "09:41:45 - \u001b[36mINFO \u001b[0m extractor.py _download_bid_ask:228                     https://api.cryptochassis.com/v1/market-depth/okex/axs-usdt?startTime=2023-01-01T10:00:00Z\n",
      "09:41:45 - \u001b[41mWARN \u001b[0m extractor.py _download_bid_ask:235                     No data at https://api.cryptochassis.com/v1/market-depth/okex/axs-usdt?startTime=2023-01-01T10:00:00Z\n",
      "09:41:45 - \u001b[41mWARN \u001b[0m extractor.py _download_bid_ask:244                     No data found for given query parameters.\n"
     ]
    },
    {
     "name": "stderr",
     "output_type": "stream",
     "text": [
      "\r",
      "  0%|          | 0/1 [00:00<?, ?it/s]\r",
      "100%|██████████| 1/1 [00:00<00:00,  2.17it/s]\r",
      "100%|██████████| 1/1 [00:00<00:00,  2.17it/s]\n"
     ]
    },
    {
     "name": "stdout",
     "output_type": "stream",
     "text": [
      "09:41:45 - \u001b[36mINFO \u001b[0m extractor.py _download_bid_ask:228                     https://api.cryptochassis.com/v1/market-depth/okex/doge-usdt?startTime=2023-01-01T10:00:00Z\n",
      "09:41:48 - \u001b[36mINFO \u001b[0m extractor.py _download_bid_ask:259                     DataFrame shape before timestamp filter: (50903, 5)\n",
      "09:41:48 - \u001b[36mINFO \u001b[0m extractor.py _download_bid_ask:262                     DataFrame shape after timestamp filter: (21543, 5)\n",
      "09:41:48 - \u001b[36mINFO \u001b[0m extract_utils.py download_historical_data:716          Saving the dataset into s3://cryptokaizen-data-test/v3/bulk/airflow/downloaded_1min/parquet/bid_ask/spot/v4/crypto_chassis/okex/v1_0_0\n"
     ]
    },
    {
     "name": "stderr",
     "output_type": "stream",
     "text": [
      "\r",
      "  0%|          | 0/1 [00:00<?, ?it/s]\r",
      "100%|██████████| 1/1 [00:01<00:00,  1.61s/it]\r",
      "100%|██████████| 1/1 [00:01<00:00,  1.61s/it]\n"
     ]
    },
    {
     "name": "stdout",
     "output_type": "stream",
     "text": [
      "09:41:48 - \u001b[36mINFO \u001b[0m extractor.py _download_bid_ask:228                     https://api.cryptochassis.com/v1/market-depth/okex/sol-usdt?startTime=2023-01-01T10:00:00Z\n",
      "09:41:50 - \u001b[36mINFO \u001b[0m extractor.py _download_bid_ask:259                     DataFrame shape before timestamp filter: (47766, 5)\n",
      "09:41:50 - \u001b[36mINFO \u001b[0m extractor.py _download_bid_ask:262                     DataFrame shape after timestamp filter: (20146, 5)\n",
      "09:41:50 - \u001b[36mINFO \u001b[0m extract_utils.py download_historical_data:716          Saving the dataset into s3://cryptokaizen-data-test/v3/bulk/airflow/downloaded_1min/parquet/bid_ask/spot/v4/crypto_chassis/okex/v1_0_0\n"
     ]
    },
    {
     "name": "stderr",
     "output_type": "stream",
     "text": [
      "\r",
      "  0%|          | 0/1 [00:00<?, ?it/s]\r",
      "100%|██████████| 1/1 [00:01<00:00,  1.46s/it]\r",
      "100%|██████████| 1/1 [00:01<00:00,  1.46s/it]\n"
     ]
    },
    {
     "name": "stdout",
     "output_type": "stream",
     "text": [
      "09:41:50 - \u001b[36mINFO \u001b[0m hcache.py clear_global_cache:292                       Before clear_global_cache: 'global mem' cache: path='/mnt/tmpfs/tmp.cache.mem', size=32.0 KB\n",
      "09:41:50 - \u001b[41mWARN \u001b[0m hcache.py clear_global_cache:293                       Resetting 'global mem' cache '/mnt/tmpfs/tmp.cache.mem'\n",
      "09:41:50 - \u001b[41mWARN \u001b[0m hcache.py clear_global_cache:303                       Destroying '/mnt/tmpfs/tmp.cache.mem' ...\n",
      "09:41:50 - \u001b[36mINFO \u001b[0m hcache.py clear_global_cache:319                       After clear_global_cache: 'global mem' cache: path='/mnt/tmpfs/tmp.cache.mem', size=nan\n"
     ]
    }
   ],
   "source": [
    "%%bash\n",
    "/app/im_v2/common/data/extract/download_bulk.py \\\n",
    "    --download_mode 'bulk' \\\n",
    "    --downloading_entity 'airflow' \\\n",
    "    --action_tag 'downloaded_1min' \\\n",
    "    --vendor 'crypto_chassis' \\\n",
    "    --start_timestamp '2023-01-01 10:00:00+00:00' \\\n",
    "    --end_timestamp '2023-01-01 20:30:00+00:00' \\\n",
    "    --exchange_id 'okex' \\\n",
    "    --universe 'v4' \\\n",
    "    --aws_profile 'ck' \\\n",
    "    --data_type 'bid_ask' \\\n",
    "    --data_format 'parquet' \\\n",
    "    --contract_type 'spot' \\\n",
    "    --s3_path 's3://cryptokaizen-data-test/'"
   ]
  },
  {
   "cell_type": "code",
   "execution_count": null,
   "id": "e6fca5c2",
   "metadata": {
    "hidden": true
   },
   "outputs": [],
   "source": []
  },
  {
   "cell_type": "markdown",
   "id": "ff52f8d0",
   "metadata": {
    "hidden": true
   },
   "source": [
    "### bid_ask - preview"
   ]
  },
  {
   "cell_type": "code",
   "execution_count": 29,
   "id": "36f4df40",
   "metadata": {
    "ExecuteTime": {
     "end_time": "2023-02-15T14:41:53.518548Z",
     "start_time": "2023-02-15T14:41:53.512193Z"
    },
    "hidden": true
   },
   "outputs": [
    {
     "name": "stdout",
     "output_type": "stream",
     "text": [
      "INFO  Loading dataset schema file: /app/data_schema/dataset_schema_versions/dataset_schema_v3.json\n",
      "INFO  Loaded dataset schema version v3\n"
     ]
    }
   ],
   "source": [
    "signature = \"bulk.airflow.downloaded_1min.parquet.bid_ask.spot.v4.crypto_chassis.okex.v1_0_0\"\n",
    "reader = imvcdcimrdc.RawDataReader(signature, stage=\"test\")\n",
    "start_timestamp = pd.Timestamp(\"2023-01-01 00:00:00+00:00\")\n",
    "end_timestamp = pd.Timestamp(\"2023-01-06 00:00:00+00:00\")"
   ]
  },
  {
   "cell_type": "code",
   "execution_count": 30,
   "id": "92cce007",
   "metadata": {
    "ExecuteTime": {
     "end_time": "2023-02-15T14:41:54.005202Z",
     "start_time": "2023-02-15T14:41:53.570667Z"
    },
    "hidden": true
   },
   "outputs": [
    {
     "name": "stdout",
     "output_type": "stream",
     "text": [
      "INFO  Loading dataset schema file: /app/data_schema/dataset_schema_versions/dataset_schema_v3.json\n",
      "INFO  Loaded dataset schema version v3\n"
     ]
    }
   ],
   "source": [
    "bid_ask_data = reader.read_data(start_timestamp, end_timestamp)"
   ]
  },
  {
   "cell_type": "code",
   "execution_count": 31,
   "id": "09ea1934",
   "metadata": {
    "ExecuteTime": {
     "end_time": "2023-02-15T14:41:54.909051Z",
     "start_time": "2023-02-15T14:41:54.896721Z"
    },
    "hidden": true
   },
   "outputs": [
    {
     "data": {
      "text/html": [
       "<div>\n",
       "<style scoped>\n",
       "    .dataframe tbody tr th:only-of-type {\n",
       "        vertical-align: middle;\n",
       "    }\n",
       "\n",
       "    .dataframe tbody tr th {\n",
       "        vertical-align: top;\n",
       "    }\n",
       "\n",
       "    .dataframe thead th {\n",
       "        text-align: right;\n",
       "    }\n",
       "</style>\n",
       "<table border=\"1\" class=\"dataframe\">\n",
       "  <thead>\n",
       "    <tr style=\"text-align: right;\">\n",
       "      <th></th>\n",
       "      <th>timestamp</th>\n",
       "      <th>bid_price_l1</th>\n",
       "      <th>bid_size_l1</th>\n",
       "      <th>ask_price_l1</th>\n",
       "      <th>ask_size_l1</th>\n",
       "      <th>exchange_id</th>\n",
       "      <th>knowledge_timestamp</th>\n",
       "      <th>currency_pair</th>\n",
       "      <th>year</th>\n",
       "      <th>month</th>\n",
       "    </tr>\n",
       "    <tr>\n",
       "      <th>timestamp</th>\n",
       "      <th></th>\n",
       "      <th></th>\n",
       "      <th></th>\n",
       "      <th></th>\n",
       "      <th></th>\n",
       "      <th></th>\n",
       "      <th></th>\n",
       "      <th></th>\n",
       "      <th></th>\n",
       "      <th></th>\n",
       "    </tr>\n",
       "  </thead>\n",
       "  <tbody>\n",
       "    <tr>\n",
       "      <th>2023-01-01 10:00:00+00:00</th>\n",
       "      <td>1672567200</td>\n",
       "      <td>16543.7</td>\n",
       "      <td>0.513005</td>\n",
       "      <td>16543.8</td>\n",
       "      <td>4.554899</td>\n",
       "      <td>okex</td>\n",
       "      <td>2023-02-15 14:41:35.695371+00:00</td>\n",
       "      <td>BTC_USDT</td>\n",
       "      <td>2023</td>\n",
       "      <td>1</td>\n",
       "    </tr>\n",
       "    <tr>\n",
       "      <th>2023-01-01 10:00:01+00:00</th>\n",
       "      <td>1672567201</td>\n",
       "      <td>16543.7</td>\n",
       "      <td>0.027252</td>\n",
       "      <td>16543.8</td>\n",
       "      <td>6.868339</td>\n",
       "      <td>okex</td>\n",
       "      <td>2023-02-15 14:41:35.695371+00:00</td>\n",
       "      <td>BTC_USDT</td>\n",
       "      <td>2023</td>\n",
       "      <td>1</td>\n",
       "    </tr>\n",
       "    <tr>\n",
       "      <th>2023-01-01 10:00:02+00:00</th>\n",
       "      <td>1672567202</td>\n",
       "      <td>16543.7</td>\n",
       "      <td>0.027252</td>\n",
       "      <td>16543.8</td>\n",
       "      <td>6.868031</td>\n",
       "      <td>okex</td>\n",
       "      <td>2023-02-15 14:41:35.695371+00:00</td>\n",
       "      <td>BTC_USDT</td>\n",
       "      <td>2023</td>\n",
       "      <td>1</td>\n",
       "    </tr>\n",
       "    <tr>\n",
       "      <th>2023-01-01 10:00:03+00:00</th>\n",
       "      <td>1672567203</td>\n",
       "      <td>16543.7</td>\n",
       "      <td>0.028340</td>\n",
       "      <td>16543.8</td>\n",
       "      <td>5.206411</td>\n",
       "      <td>okex</td>\n",
       "      <td>2023-02-15 14:41:35.695371+00:00</td>\n",
       "      <td>BTC_USDT</td>\n",
       "      <td>2023</td>\n",
       "      <td>1</td>\n",
       "    </tr>\n",
       "    <tr>\n",
       "      <th>2023-01-01 10:00:04+00:00</th>\n",
       "      <td>1672567204</td>\n",
       "      <td>16543.7</td>\n",
       "      <td>0.027252</td>\n",
       "      <td>16543.8</td>\n",
       "      <td>5.356411</td>\n",
       "      <td>okex</td>\n",
       "      <td>2023-02-15 14:41:35.695371+00:00</td>\n",
       "      <td>BTC_USDT</td>\n",
       "      <td>2023</td>\n",
       "      <td>1</td>\n",
       "    </tr>\n",
       "  </tbody>\n",
       "</table>\n",
       "</div>"
      ],
      "text/plain": [
       "                            timestamp  bid_price_l1  bid_size_l1  ask_price_l1  ask_size_l1 exchange_id              knowledge_timestamp currency_pair  year  month\n",
       "timestamp                                                                                                                                                          \n",
       "2023-01-01 10:00:00+00:00  1672567200       16543.7     0.513005       16543.8     4.554899        okex 2023-02-15 14:41:35.695371+00:00      BTC_USDT  2023      1\n",
       "2023-01-01 10:00:01+00:00  1672567201       16543.7     0.027252       16543.8     6.868339        okex 2023-02-15 14:41:35.695371+00:00      BTC_USDT  2023      1\n",
       "2023-01-01 10:00:02+00:00  1672567202       16543.7     0.027252       16543.8     6.868031        okex 2023-02-15 14:41:35.695371+00:00      BTC_USDT  2023      1\n",
       "2023-01-01 10:00:03+00:00  1672567203       16543.7     0.028340       16543.8     5.206411        okex 2023-02-15 14:41:35.695371+00:00      BTC_USDT  2023      1\n",
       "2023-01-01 10:00:04+00:00  1672567204       16543.7     0.027252       16543.8     5.356411        okex 2023-02-15 14:41:35.695371+00:00      BTC_USDT  2023      1"
      ]
     },
     "execution_count": 31,
     "metadata": {},
     "output_type": "execute_result"
    }
   ],
   "source": [
    "bid_ask_data.head()"
   ]
  },
  {
   "cell_type": "code",
   "execution_count": 32,
   "id": "26675493",
   "metadata": {
    "ExecuteTime": {
     "end_time": "2023-02-15T14:41:59.439408Z",
     "start_time": "2023-02-15T14:41:59.432151Z"
    },
    "hidden": true
   },
   "outputs": [
    {
     "data": {
      "text/plain": [
       "min   2023-01-01 10:00:00\n",
       "max   2023-01-01 20:30:00\n",
       "Name: timestamp, dtype: datetime64[ns]"
      ]
     },
     "execution_count": 32,
     "metadata": {},
     "output_type": "execute_result"
    }
   ],
   "source": [
    "bid_ask_data.timestamp.agg([\"min\", \"max\"]).apply(pd.Timestamp, unit=\"s\")"
   ]
  },
  {
   "cell_type": "code",
   "execution_count": 33,
   "id": "0a9de9b8",
   "metadata": {
    "ExecuteTime": {
     "end_time": "2023-02-15T14:41:59.785265Z",
     "start_time": "2023-02-15T14:41:59.781422Z"
    },
    "hidden": true
   },
   "outputs": [
    {
     "data": {
      "text/plain": [
       "Index(['timestamp', 'bid_price_l1', 'bid_size_l1', 'ask_price_l1', 'ask_size_l1', 'exchange_id', 'knowledge_timestamp', 'currency_pair', 'year', 'month'], dtype='object')"
      ]
     },
     "execution_count": 33,
     "metadata": {},
     "output_type": "execute_result"
    }
   ],
   "source": [
    "bid_ask_data.columns"
   ]
  },
  {
   "cell_type": "code",
   "execution_count": 34,
   "id": "25340f69",
   "metadata": {
    "ExecuteTime": {
     "end_time": "2023-02-15T14:42:00.541529Z",
     "start_time": "2023-02-15T14:42:00.531294Z"
    },
    "hidden": true
   },
   "outputs": [
    {
     "data": {
      "text/plain": [
       "array(['BTC_USDT', 'DOGE_USDT', 'DOT_USDT', 'ETH_USDT', 'SOL_USDT',\n",
       "       'XRP_USDT'], dtype=object)"
      ]
     },
     "execution_count": 34,
     "metadata": {},
     "output_type": "execute_result"
    }
   ],
   "source": [
    "bid_ask_data.currency_pair.unique()"
   ]
  },
  {
   "cell_type": "code",
   "execution_count": 35,
   "id": "c4521017",
   "metadata": {
    "ExecuteTime": {
     "end_time": "2023-02-15T14:42:01.360790Z",
     "start_time": "2023-02-15T14:42:01.352393Z"
    },
    "hidden": true
   },
   "outputs": [
    {
     "data": {
      "text/plain": [
       "array(['okex'], dtype=object)"
      ]
     },
     "execution_count": 35,
     "metadata": {},
     "output_type": "execute_result"
    }
   ],
   "source": [
    "bid_ask_data.exchange_id.unique()"
   ]
  },
  {
   "cell_type": "markdown",
   "id": "0930451c",
   "metadata": {
    "hidden": true
   },
   "source": [
    "## trades - spot"
   ]
  },
  {
   "cell_type": "markdown",
   "id": "ef67990d",
   "metadata": {
    "hidden": true
   },
   "source": [
    "### trades - probe download"
   ]
  },
  {
   "cell_type": "code",
   "execution_count": 36,
   "id": "c20a8a35",
   "metadata": {
    "ExecuteTime": {
     "end_time": "2023-02-15T14:42:35.570066Z",
     "start_time": "2023-02-15T14:42:15.721689Z"
    },
    "hidden": true
   },
   "outputs": [
    {
     "name": "stdout",
     "output_type": "stream",
     "text": [
      "\u001b[0m\u001b[36mINFO\u001b[0m: > cmd='/app/im_v2/common/data/extract/download_bulk.py --download_mode bulk --downloading_entity airflow --action_tag downloaded_1min --vendor crypto_chassis --start_timestamp 2023-01-01 10:00:00+00:00 --end_timestamp 2023-01-01 20:30:00+00:00 --exchange_id okex --universe v4 --aws_profile ck --data_type trades --data_format parquet --contract_type spot --s3_path s3://cryptokaizen-data-test/'\n",
      "report_memory_usage=False report_cpu_usage=False\n",
      "\u001b[36mINFO\u001b[0m: Saving log to file '/app/im_v2/common/data/extract/download_bulk.py.log'\n",
      "09:42:19 - \u001b[36mINFO \u001b[0m dataset_schema_utils.py _get_dataset_schema_file_path:37 Loading dataset schema file: /app/data_schema/dataset_schema_versions/dataset_schema_v3.json\n",
      "09:42:19 - \u001b[36mINFO \u001b[0m dataset_schema_utils.py get_dataset_schema:72          Loaded dataset schema version v3\n",
      "09:42:21 - \u001b[36mINFO \u001b[0m extract_utils.py download_historical_data:716          Saving the dataset into s3://cryptokaizen-data-test/v3/bulk/airflow/downloaded_1min/parquet/trades/spot/v4/crypto_chassis/okex/v1_0_0\n",
      "09:42:22 - \u001b[36mINFO \u001b[0m extract_utils.py download_historical_data:716          Saving the dataset into s3://cryptokaizen-data-test/v3/bulk/airflow/downloaded_1min/parquet/trades/spot/v4/crypto_chassis/okex/v1_0_0\n",
      "09:42:23 - \u001b[36mINFO \u001b[0m extractor.py _download_trades:435                      Unable to retrieve data for sand-usdt and start_timestamp=2023-01-01T10:00:00Z\n",
      "09:42:24 - \u001b[36mINFO \u001b[0m extractor.py _download_trades:435                      Unable to retrieve data for storj-usdt and start_timestamp=2023-01-01T10:00:00Z\n",
      "09:42:24 - \u001b[36mINFO \u001b[0m extractor.py _download_trades:435                      Unable to retrieve data for gmt-usdt and start_timestamp=2023-01-01T10:00:00Z\n",
      "09:42:25 - \u001b[36mINFO \u001b[0m extractor.py _download_trades:435                      Unable to retrieve data for avax-usdt and start_timestamp=2023-01-01T10:00:00Z\n",
      "09:42:25 - \u001b[36mINFO \u001b[0m extractor.py _download_trades:435                      Unable to retrieve data for bnb-usdt and start_timestamp=2023-01-01T10:00:00Z\n",
      "09:42:25 - \u001b[36mINFO \u001b[0m extractor.py _download_trades:435                      Unable to retrieve data for ape-usdt and start_timestamp=2023-01-01T10:00:00Z\n",
      "09:42:26 - \u001b[36mINFO \u001b[0m extractor.py _download_trades:435                      Unable to retrieve data for matic-usdt and start_timestamp=2023-01-01T10:00:00Z\n",
      "09:42:27 - \u001b[36mINFO \u001b[0m extract_utils.py download_historical_data:716          Saving the dataset into s3://cryptokaizen-data-test/v3/bulk/airflow/downloaded_1min/parquet/trades/spot/v4/crypto_chassis/okex/v1_0_0\n",
      "09:42:28 - \u001b[36mINFO \u001b[0m extractor.py _download_trades:435                      Unable to retrieve data for link-usdt and start_timestamp=2023-01-01T10:00:00Z\n",
      "09:42:29 - \u001b[36mINFO \u001b[0m extract_utils.py download_historical_data:716          Saving the dataset into s3://cryptokaizen-data-test/v3/bulk/airflow/downloaded_1min/parquet/trades/spot/v4/crypto_chassis/okex/v1_0_0\n",
      "09:42:30 - \u001b[36mINFO \u001b[0m extractor.py _download_trades:435                      Unable to retrieve data for near-usdt and start_timestamp=2023-01-01T10:00:00Z\n",
      "09:42:30 - \u001b[36mINFO \u001b[0m extractor.py _download_trades:435                      Unable to retrieve data for ftm-usdt and start_timestamp=2023-01-01T10:00:00Z\n",
      "09:42:31 - \u001b[36mINFO \u001b[0m extractor.py _download_trades:435                      Unable to retrieve data for waves-usdt and start_timestamp=2023-01-01T10:00:00Z\n",
      "09:42:31 - \u001b[36mINFO \u001b[0m extractor.py _download_trades:435                      Unable to retrieve data for axs-usdt and start_timestamp=2023-01-01T10:00:00Z\n",
      "09:42:32 - \u001b[36mINFO \u001b[0m extract_utils.py download_historical_data:716          Saving the dataset into s3://cryptokaizen-data-test/v3/bulk/airflow/downloaded_1min/parquet/trades/spot/v4/crypto_chassis/okex/v1_0_0\n",
      "09:42:34 - \u001b[36mINFO \u001b[0m extract_utils.py download_historical_data:716          Saving the dataset into s3://cryptokaizen-data-test/v3/bulk/airflow/downloaded_1min/parquet/trades/spot/v4/crypto_chassis/okex/v1_0_0\n",
      "09:42:35 - \u001b[36mINFO \u001b[0m hcache.py clear_global_cache:292                       Before clear_global_cache: 'global mem' cache: path='/mnt/tmpfs/tmp.cache.mem', size=32.0 KB\n",
      "09:42:35 - \u001b[41mWARN \u001b[0m hcache.py clear_global_cache:293                       Resetting 'global mem' cache '/mnt/tmpfs/tmp.cache.mem'\n",
      "09:42:35 - \u001b[41mWARN \u001b[0m hcache.py clear_global_cache:303                       Destroying '/mnt/tmpfs/tmp.cache.mem' ...\n",
      "09:42:35 - \u001b[36mINFO \u001b[0m hcache.py clear_global_cache:319                       After clear_global_cache: 'global mem' cache: path='/mnt/tmpfs/tmp.cache.mem', size=nan\n"
     ]
    }
   ],
   "source": [
    "%%bash\n",
    "/app/im_v2/common/data/extract/download_bulk.py \\\n",
    "    --download_mode 'bulk' \\\n",
    "    --downloading_entity 'airflow' \\\n",
    "    --action_tag 'downloaded_1min' \\\n",
    "    --vendor 'crypto_chassis' \\\n",
    "    --start_timestamp '2023-01-01 10:00:00+00:00' \\\n",
    "    --end_timestamp '2023-01-01 20:30:00+00:00' \\\n",
    "    --exchange_id 'okex' \\\n",
    "    --universe 'v4' \\\n",
    "    --aws_profile 'ck' \\\n",
    "    --data_type 'trades' \\\n",
    "    --data_format 'parquet' \\\n",
    "    --contract_type 'spot' \\\n",
    "    --s3_path 's3://cryptokaizen-data-test/'"
   ]
  },
  {
   "cell_type": "markdown",
   "id": "50e238db",
   "metadata": {
    "hidden": true
   },
   "source": [
    "### trades - preview"
   ]
  },
  {
   "cell_type": "code",
   "execution_count": 45,
   "id": "e3eaf043",
   "metadata": {
    "ExecuteTime": {
     "end_time": "2023-02-15T14:44:52.902469Z",
     "start_time": "2023-02-15T14:44:52.896584Z"
    },
    "hidden": true
   },
   "outputs": [
    {
     "name": "stdout",
     "output_type": "stream",
     "text": [
      "INFO  Loading dataset schema file: /app/data_schema/dataset_schema_versions/dataset_schema_v3.json\n",
      "INFO  Loaded dataset schema version v3\n"
     ]
    }
   ],
   "source": [
    "signature = \"bulk.airflow.downloaded_1min.parquet.trades.spot.v4.crypto_chassis.okex.v1_0_0\"\n",
    "reader = imvcdcimrdc.RawDataReader(signature, stage=\"test\")\n",
    "start_timestamp = pd.Timestamp(\"2023-01-01 00:00:00+00:00\")\n",
    "end_timestamp = pd.Timestamp(\"2023-02-01 00:00:00+00:00\")"
   ]
  },
  {
   "cell_type": "code",
   "execution_count": 46,
   "id": "ee0e7063",
   "metadata": {
    "ExecuteTime": {
     "end_time": "2023-02-15T14:44:54.237830Z",
     "start_time": "2023-02-15T14:44:53.716914Z"
    },
    "hidden": true
   },
   "outputs": [
    {
     "name": "stdout",
     "output_type": "stream",
     "text": [
      "INFO  Loading dataset schema file: /app/data_schema/dataset_schema_versions/dataset_schema_v3.json\n",
      "INFO  Loaded dataset schema version v3\n"
     ]
    }
   ],
   "source": [
    "trades_data = reader.read_data(start_timestamp, end_timestamp)"
   ]
  },
  {
   "cell_type": "code",
   "execution_count": 47,
   "id": "f120e274",
   "metadata": {
    "ExecuteTime": {
     "end_time": "2023-02-15T14:44:55.757165Z",
     "start_time": "2023-02-15T14:44:55.746422Z"
    },
    "hidden": true
   },
   "outputs": [
    {
     "data": {
      "text/html": [
       "<div>\n",
       "<style scoped>\n",
       "    .dataframe tbody tr th:only-of-type {\n",
       "        vertical-align: middle;\n",
       "    }\n",
       "\n",
       "    .dataframe tbody tr th {\n",
       "        vertical-align: top;\n",
       "    }\n",
       "\n",
       "    .dataframe thead th {\n",
       "        text-align: right;\n",
       "    }\n",
       "</style>\n",
       "<table border=\"1\" class=\"dataframe\">\n",
       "  <thead>\n",
       "    <tr style=\"text-align: right;\">\n",
       "      <th></th>\n",
       "      <th>timestamp</th>\n",
       "      <th>price</th>\n",
       "      <th>size</th>\n",
       "      <th>is_buyer_maker</th>\n",
       "      <th>exchange_id</th>\n",
       "      <th>knowledge_timestamp</th>\n",
       "      <th>currency_pair</th>\n",
       "      <th>year</th>\n",
       "      <th>month</th>\n",
       "    </tr>\n",
       "    <tr>\n",
       "      <th>timestamp</th>\n",
       "      <th></th>\n",
       "      <th></th>\n",
       "      <th></th>\n",
       "      <th></th>\n",
       "      <th></th>\n",
       "      <th></th>\n",
       "      <th></th>\n",
       "      <th></th>\n",
       "      <th></th>\n",
       "    </tr>\n",
       "  </thead>\n",
       "  <tbody>\n",
       "    <tr>\n",
       "      <th>2023-01-01 00:00:02+00:00</th>\n",
       "      <td>1672531202</td>\n",
       "      <td>16546.1</td>\n",
       "      <td>0.000919</td>\n",
       "      <td>0</td>\n",
       "      <td>okex</td>\n",
       "      <td>2023-02-15 14:42:22.767330+00:00</td>\n",
       "      <td>BTC_USDT</td>\n",
       "      <td>2023</td>\n",
       "      <td>1</td>\n",
       "    </tr>\n",
       "    <tr>\n",
       "      <th>2023-01-01 00:00:02+00:00</th>\n",
       "      <td>1672531202</td>\n",
       "      <td>16546.1</td>\n",
       "      <td>0.000902</td>\n",
       "      <td>0</td>\n",
       "      <td>okex</td>\n",
       "      <td>2023-02-15 14:42:22.767330+00:00</td>\n",
       "      <td>BTC_USDT</td>\n",
       "      <td>2023</td>\n",
       "      <td>1</td>\n",
       "    </tr>\n",
       "    <tr>\n",
       "      <th>2023-01-01 00:00:02+00:00</th>\n",
       "      <td>1672531202</td>\n",
       "      <td>16546.9</td>\n",
       "      <td>0.000198</td>\n",
       "      <td>0</td>\n",
       "      <td>okex</td>\n",
       "      <td>2023-02-15 14:42:22.767330+00:00</td>\n",
       "      <td>BTC_USDT</td>\n",
       "      <td>2023</td>\n",
       "      <td>1</td>\n",
       "    </tr>\n",
       "    <tr>\n",
       "      <th>2023-01-01 00:00:02+00:00</th>\n",
       "      <td>1672531202</td>\n",
       "      <td>16546.2</td>\n",
       "      <td>0.007252</td>\n",
       "      <td>0</td>\n",
       "      <td>okex</td>\n",
       "      <td>2023-02-15 14:42:22.767330+00:00</td>\n",
       "      <td>BTC_USDT</td>\n",
       "      <td>2023</td>\n",
       "      <td>1</td>\n",
       "    </tr>\n",
       "    <tr>\n",
       "      <th>2023-01-01 00:00:04+00:00</th>\n",
       "      <td>1672531204</td>\n",
       "      <td>16546.1</td>\n",
       "      <td>0.012309</td>\n",
       "      <td>1</td>\n",
       "      <td>okex</td>\n",
       "      <td>2023-02-15 14:42:22.767330+00:00</td>\n",
       "      <td>BTC_USDT</td>\n",
       "      <td>2023</td>\n",
       "      <td>1</td>\n",
       "    </tr>\n",
       "  </tbody>\n",
       "</table>\n",
       "</div>"
      ],
      "text/plain": [
       "                            timestamp    price      size  is_buyer_maker exchange_id              knowledge_timestamp currency_pair  year  month\n",
       "timestamp                                                                                                                                       \n",
       "2023-01-01 00:00:02+00:00  1672531202  16546.1  0.000919               0        okex 2023-02-15 14:42:22.767330+00:00      BTC_USDT  2023      1\n",
       "2023-01-01 00:00:02+00:00  1672531202  16546.1  0.000902               0        okex 2023-02-15 14:42:22.767330+00:00      BTC_USDT  2023      1\n",
       "2023-01-01 00:00:02+00:00  1672531202  16546.9  0.000198               0        okex 2023-02-15 14:42:22.767330+00:00      BTC_USDT  2023      1\n",
       "2023-01-01 00:00:02+00:00  1672531202  16546.2  0.007252               0        okex 2023-02-15 14:42:22.767330+00:00      BTC_USDT  2023      1\n",
       "2023-01-01 00:00:04+00:00  1672531204  16546.1  0.012309               1        okex 2023-02-15 14:42:22.767330+00:00      BTC_USDT  2023      1"
      ]
     },
     "execution_count": 47,
     "metadata": {},
     "output_type": "execute_result"
    }
   ],
   "source": [
    "trades_data.head()"
   ]
  },
  {
   "cell_type": "code",
   "execution_count": 48,
   "id": "0901db57",
   "metadata": {
    "ExecuteTime": {
     "end_time": "2023-02-15T14:44:58.829065Z",
     "start_time": "2023-02-15T14:44:58.821849Z"
    },
    "hidden": true
   },
   "outputs": [
    {
     "data": {
      "text/plain": [
       "min   2023-01-01 00:00:00\n",
       "max   2023-01-01 23:59:58\n",
       "Name: timestamp, dtype: datetime64[ns]"
      ]
     },
     "execution_count": 48,
     "metadata": {},
     "output_type": "execute_result"
    }
   ],
   "source": [
    "trades_data.timestamp.agg([\"min\", \"max\"]).apply(pd.Timestamp, unit=\"s\")"
   ]
  },
  {
   "cell_type": "code",
   "execution_count": 49,
   "id": "2eb6fb39",
   "metadata": {
    "ExecuteTime": {
     "end_time": "2023-02-15T14:44:59.166630Z",
     "start_time": "2023-02-15T14:44:59.161590Z"
    },
    "hidden": true
   },
   "outputs": [
    {
     "data": {
      "text/plain": [
       "Index(['timestamp', 'price', 'size', 'is_buyer_maker', 'exchange_id', 'knowledge_timestamp', 'currency_pair', 'year', 'month'], dtype='object')"
      ]
     },
     "execution_count": 49,
     "metadata": {},
     "output_type": "execute_result"
    }
   ],
   "source": [
    "trades_data.columns"
   ]
  },
  {
   "cell_type": "code",
   "execution_count": 50,
   "id": "988adabc",
   "metadata": {
    "ExecuteTime": {
     "end_time": "2023-02-15T14:44:59.583086Z",
     "start_time": "2023-02-15T14:44:59.571627Z"
    },
    "hidden": true
   },
   "outputs": [
    {
     "data": {
      "text/plain": [
       "array(['BTC_USDT', 'DOGE_USDT', 'DOT_USDT', 'ETH_USDT', 'SOL_USDT',\n",
       "       'XRP_USDT'], dtype=object)"
      ]
     },
     "execution_count": 50,
     "metadata": {},
     "output_type": "execute_result"
    }
   ],
   "source": [
    "trades_data.currency_pair.unique()"
   ]
  },
  {
   "cell_type": "code",
   "execution_count": 51,
   "id": "a5994834",
   "metadata": {
    "ExecuteTime": {
     "end_time": "2023-02-15T14:44:59.912250Z",
     "start_time": "2023-02-15T14:44:59.901710Z"
    },
    "hidden": true
   },
   "outputs": [
    {
     "data": {
      "text/plain": [
       "array(['okex'], dtype=object)"
      ]
     },
     "execution_count": 51,
     "metadata": {},
     "output_type": "execute_result"
    }
   ],
   "source": [
    "trades_data.exchange_id.unique()"
   ]
  }
 ],
 "metadata": {
  "kernelspec": {
   "display_name": "Python 3 (ipykernel)",
   "language": "python",
   "name": "python3"
  },
  "language_info": {
   "codemirror_mode": {
    "name": "ipython",
    "version": 3
   },
   "file_extension": ".py",
   "mimetype": "text/x-python",
   "name": "python",
   "nbconvert_exporter": "python",
   "pygments_lexer": "ipython3",
   "version": "3.8.10"
  },
  "toc": {
   "base_numbering": 1,
   "nav_menu": {
    "height": "565px",
    "width": "291px"
   },
   "number_sections": true,
   "sideBar": true,
   "skip_h1_title": false,
   "title_cell": "Table of Contents",
   "title_sidebar": "Contents",
   "toc_cell": false,
   "toc_position": {},
   "toc_section_display": true,
   "toc_window_display": false
  }
 },
 "nbformat": 4,
 "nbformat_minor": 5
}
