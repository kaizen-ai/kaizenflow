{
 "cells": [
  {
   "cell_type": "markdown",
   "id": "28c42e34",
   "metadata": {
    "heading_collapsed": true
   },
   "source": [
    "# Imports"
   ]
  },
  {
   "cell_type": "code",
   "execution_count": 3,
   "id": "41e1ec23",
   "metadata": {
    "ExecuteTime": {
     "end_time": "2023-06-21T07:11:40.802641Z",
     "start_time": "2023-06-21T07:11:40.571441Z"
    },
    "hidden": true,
    "lines_to_next_cell": 2
   },
   "outputs": [
    {
     "name": "stdout",
     "output_type": "stream",
     "text": [
      "The autoreload extension is already loaded. To reload it, use:\n",
      "  %reload_ext autoreload\n"
     ]
    }
   ],
   "source": [
    "import json\n",
    "\n",
    "\n",
    "import ccxt\n",
    "import requests\n",
    "\n",
    "\n",
    "import logging\n",
    "\n",
    "import pandas as pd\n",
    "\n",
    "import helpers.hdatetime as hdateti\n",
    "import helpers.hdbg as hdbg\n",
    "import helpers.henv as henv\n",
    "import helpers.hpandas as hpandas\n",
    "import helpers.hprint as hprint\n",
    "import im_v2.ccxt.data.extract.extractor as imvcdexex\n",
    "import im_v2.common.data.client.im_raw_data_client as imvcdcimrdc\n",
    "import im_v2.common.data.qa.dataset_validator as imvcdqdava\n",
    "import im_v2.common.data.qa.qa_check as imvcdqqach\n",
    "import im_v2.common.universe as ivcu\n",
    "import im_v2.common.universe.universe as imvcounun\n",
    "\n",
    "%load_ext autoreload\n",
    "%autoreload 2"
   ]
  },
  {
   "cell_type": "code",
   "execution_count": 4,
   "id": "57989590",
   "metadata": {
    "ExecuteTime": {
     "end_time": "2023-06-21T07:11:41.087434Z",
     "start_time": "2023-06-21T07:11:40.807528Z"
    },
    "hidden": true
   },
   "outputs": [
    {
     "name": "stdout",
     "output_type": "stream",
     "text": [
      "\u001b[0m\u001b[33mWARNING\u001b[0m: Logger already initialized: skipping\n",
      "\u001b[31m-----------------------------------------------------------------------------\n",
      "This code is not in sync with the container:\n",
      "code_version='1.4.3' != container_version='1.4.0'\n",
      "-----------------------------------------------------------------------------\n",
      "You need to:\n",
      "- merge origin/master into your branch with `invoke git_merge_master`\n",
      "- pull the latest container with `invoke docker_pull`\u001b[0m\n",
      "INFO  # Git\n",
      "  branch_name='CmTask4582_Download_larger_universe_'\n",
      "  hash='844105035'\n",
      "  # Last commits:\n",
      "    * 844105035 vlady    CmTask4582: fix for empty dataframes                              (  14 hours ago) Tue Jun 20 17:09:06 2023  (HEAD -> CmTask4582_Download_larger_universe_, origin/CmTask4582_Download_larger_universe_)\n",
      "    * 2ea4d214f vlady    CmTask4582: new universe v7_5                                     (  18 hours ago) Tue Jun 20 12:54:02 2023           \n",
      "    * 40f5f7872 vlady    CmTask4582: compare up to 200 symbols from the coinmarketcap      (  19 hours ago) Tue Jun 20 12:35:19 2023           \n",
      "# Machine info\n",
      "  system=Linux\n",
      "  node name=b9099da173ec\n",
      "  release=5.15.0-1033-aws\n",
      "  version=#37~20.04.1-Ubuntu SMP Fri Mar 17 11:39:30 UTC 2023\n",
      "  machine=x86_64\n",
      "  processor=x86_64\n",
      "  cpu count=8\n",
      "  cpu freq=scpufreq(current=2499.998, min=0.0, max=0.0)\n",
      "  memory=svmem(total=33292873728, available=27496026112, percent=17.4, used=5323550720, free=3150442496, active=3016749056, inactive=22087860224, buffers=577232896, cached=24241647616, shared=2727936, slab=4749811712)\n",
      "  disk usage=sdiskusage(total=156052275200, used=43478695936, free=112556802048, percent=27.9)\n",
      "# Packages\n",
      "  python: 3.8.10\n",
      "  cvxopt: 1.3.0\n",
      "  cvxpy: 1.2.2\n",
      "  gluonnlp: ?\n",
      "  gluonts: 0.6.7\n",
      "  joblib: 1.2.0\n",
      "  mxnet: 1.9.1\n",
      "  numpy: 1.23.4\n",
      "  pandas: 1.5.1\n",
      "  pyarrow: 10.0.0\n",
      "  scipy: 1.9.3\n",
      "  seaborn: 0.12.1\n",
      "  sklearn: 1.1.3\n",
      "  statsmodels: 0.13.5\n"
     ]
    }
   ],
   "source": [
    "hdbg.init_logger(verbosity=logging.INFO)\n",
    "\n",
    "_LOG = logging.getLogger(__name__)\n",
    "\n",
    "_LOG.info(\"%s\", henv.get_system_signature()[0])\n",
    "\n",
    "hprint.config_notebook()"
   ]
  },
  {
   "cell_type": "markdown",
   "id": "9316e5da",
   "metadata": {
    "heading_collapsed": true
   },
   "source": [
    "# Get coinmarketcap top 200"
   ]
  },
  {
   "cell_type": "code",
   "execution_count": 13,
   "id": "c43e13e2",
   "metadata": {
    "ExecuteTime": {
     "end_time": "2023-06-21T07:31:07.445850Z",
     "start_time": "2023-06-21T07:31:07.403982Z"
    },
    "hidden": true
   },
   "outputs": [],
   "source": [
    "# To download top 100 from https://coinmarketcap.com/ we will use it's API. \n",
    "# Simple registration give us personal API KEY\n",
    "\n",
    "CMC_PRO_API_KEY = \"31eb170c-a347-4c3e-824a-76c5aaa8b22d\"\n",
    "LIMIT = \"200\"\n",
    "latest_url = \"https://pro-api.coinmarketcap.com/v1/cryptocurrency/listings/latest\"\n",
    "parameters = {\n",
    "  'start':'1',\n",
    "  'limit': LIMIT,\n",
    "  'convert':'USD'\n",
    "}\n",
    "headers = {\n",
    "  'Accepts': 'application/json',\n",
    "  'X-CMC_PRO_API_KEY': CMC_PRO_API_KEY,\n",
    "}"
   ]
  },
  {
   "cell_type": "code",
   "execution_count": 14,
   "id": "2d7cd836",
   "metadata": {
    "ExecuteTime": {
     "end_time": "2023-06-21T07:31:09.238212Z",
     "start_time": "2023-06-21T07:31:07.560907Z"
    },
    "hidden": true
   },
   "outputs": [],
   "source": [
    "result = requests.get(\n",
    "    latest_url,\n",
    "    params=parameters,\n",
    "    headers=headers\n",
    ")"
   ]
  },
  {
   "cell_type": "code",
   "execution_count": 15,
   "id": "541dbd29",
   "metadata": {
    "ExecuteTime": {
     "end_time": "2023-06-21T07:31:09.281309Z",
     "start_time": "2023-06-21T07:31:09.241185Z"
    },
    "hidden": true
   },
   "outputs": [],
   "source": [
    "data = result.json()[\"data\"]"
   ]
  },
  {
   "cell_type": "code",
   "execution_count": 16,
   "id": "2a7ddf17",
   "metadata": {
    "ExecuteTime": {
     "end_time": "2023-06-21T07:31:09.321726Z",
     "start_time": "2023-06-21T07:31:09.284046Z"
    },
    "hidden": true
   },
   "outputs": [],
   "source": [
    "coinmarketcap_symbols = [e[\"symbol\"] for e in data]"
   ]
  },
  {
   "cell_type": "code",
   "execution_count": 17,
   "id": "1f0674e2",
   "metadata": {
    "ExecuteTime": {
     "end_time": "2023-06-21T07:31:09.366423Z",
     "start_time": "2023-06-21T07:31:09.325286Z"
    },
    "hidden": true
   },
   "outputs": [],
   "source": [
    "coinmarketcap_symbols = pd.Series(coinmarketcap_symbols)"
   ]
  },
  {
   "cell_type": "markdown",
   "id": "00094707",
   "metadata": {
    "heading_collapsed": true
   },
   "source": [
    "# Get available binance futures currency pairs"
   ]
  },
  {
   "cell_type": "markdown",
   "id": "654bc5e5",
   "metadata": {
    "heading_collapsed": true,
    "hidden": true
   },
   "source": [
    "## CCXT"
   ]
  },
  {
   "cell_type": "code",
   "execution_count": 30,
   "id": "95f6f051",
   "metadata": {
    "ExecuteTime": {
     "end_time": "2023-06-19T17:09:23.722536Z",
     "start_time": "2023-06-19T17:09:23.694312Z"
    },
    "hidden": true
   },
   "outputs": [],
   "source": [
    "binance_ccxt = ccxt.binance({'options': {'defaultType': 'future'}, })"
   ]
  },
  {
   "cell_type": "code",
   "execution_count": 31,
   "id": "dbdd7d1a",
   "metadata": {
    "ExecuteTime": {
     "end_time": "2023-06-19T17:09:26.756010Z",
     "start_time": "2023-06-19T17:09:23.889782Z"
    },
    "hidden": true
   },
   "outputs": [],
   "source": [
    "markets = binance_ccxt.loadMarkets()"
   ]
  },
  {
   "cell_type": "code",
   "execution_count": 33,
   "id": "60d3397c",
   "metadata": {
    "ExecuteTime": {
     "end_time": "2023-06-19T17:11:03.173464Z",
     "start_time": "2023-06-19T17:11:03.166094Z"
    },
    "hidden": true
   },
   "outputs": [],
   "source": [
    "markets_futures = {pair: data for pair, data in markets.items() if data[\"future\"]}"
   ]
  },
  {
   "cell_type": "code",
   "execution_count": 34,
   "id": "05f7231e",
   "metadata": {
    "ExecuteTime": {
     "end_time": "2023-06-19T17:11:04.193165Z",
     "start_time": "2023-06-19T17:11:04.180599Z"
    },
    "hidden": true
   },
   "outputs": [],
   "source": [
    "market_futures_currencies = [data[\"base\"] for pair, data in markets_futures.items()]"
   ]
  },
  {
   "cell_type": "code",
   "execution_count": 78,
   "id": "32285ad0",
   "metadata": {
    "ExecuteTime": {
     "end_time": "2023-06-19T17:52:50.483949Z",
     "start_time": "2023-06-19T17:52:50.480769Z"
    },
    "hidden": true
   },
   "outputs": [],
   "source": [
    "ccxt_market_futures_currencies = pd.Series(list(set(market_futures_currencies)))"
   ]
  },
  {
   "cell_type": "markdown",
   "id": "0455a3ae",
   "metadata": {
    "hidden": true
   },
   "source": [
    "## Binance API"
   ]
  },
  {
   "cell_type": "code",
   "execution_count": 18,
   "id": "36bdd2fc",
   "metadata": {
    "ExecuteTime": {
     "end_time": "2023-06-21T07:31:16.460559Z",
     "start_time": "2023-06-21T07:31:15.432533Z"
    },
    "hidden": true
   },
   "outputs": [],
   "source": [
    "url = \"https://fapi.binance.com/fapi/v1/exchangeInfo\"\n",
    "\n",
    "payload = {}\n",
    "headers = {\n",
    "  'Content-Type': 'application/json'\n",
    "}\n",
    "\n",
    "response = requests.request(\"GET\", url, headers=headers, data=payload)"
   ]
  },
  {
   "cell_type": "code",
   "execution_count": 19,
   "id": "d899e5df",
   "metadata": {
    "ExecuteTime": {
     "end_time": "2023-06-21T07:31:16.512403Z",
     "start_time": "2023-06-21T07:31:16.465606Z"
    },
    "hidden": true
   },
   "outputs": [],
   "source": [
    "symbols = [symbol for symbol in response.json()[\"symbols\"] if symbol[\"status\"] == \"TRADING\"]"
   ]
  },
  {
   "cell_type": "code",
   "execution_count": 20,
   "id": "2ad782b8",
   "metadata": {
    "ExecuteTime": {
     "end_time": "2023-06-21T07:31:16.561317Z",
     "start_time": "2023-06-21T07:31:16.515831Z"
    },
    "hidden": true
   },
   "outputs": [],
   "source": [
    "binance_api_symbols = set([s[\"baseAsset\"] for s in symbols])"
   ]
  },
  {
   "cell_type": "code",
   "execution_count": 21,
   "id": "95ce38d0",
   "metadata": {
    "ExecuteTime": {
     "end_time": "2023-06-21T07:31:16.610101Z",
     "start_time": "2023-06-21T07:31:16.564737Z"
    },
    "hidden": true
   },
   "outputs": [],
   "source": [
    "binnace_api_symbols = pd.Series(list(binance_api_symbols))"
   ]
  },
  {
   "cell_type": "markdown",
   "id": "22c0fae4",
   "metadata": {
    "heading_collapsed": true
   },
   "source": [
    "# Find intersections"
   ]
  },
  {
   "cell_type": "code",
   "execution_count": 22,
   "id": "3f7d385e",
   "metadata": {
    "ExecuteTime": {
     "end_time": "2023-06-21T07:31:19.716615Z",
     "start_time": "2023-06-21T07:31:19.673584Z"
    },
    "hidden": true
   },
   "outputs": [
    {
     "data": {
      "text/plain": [
       "128"
      ]
     },
     "execution_count": 22,
     "metadata": {},
     "output_type": "execute_result"
    }
   ],
   "source": [
    "len(coinmarketcap_symbols[coinmarketcap_symbols.isin(binnace_api_symbols)])"
   ]
  },
  {
   "cell_type": "code",
   "execution_count": 23,
   "id": "55a32c41",
   "metadata": {
    "ExecuteTime": {
     "end_time": "2023-06-21T07:31:19.879302Z",
     "start_time": "2023-06-21T07:31:19.806880Z"
    },
    "hidden": true
   },
   "outputs": [
    {
     "ename": "NameError",
     "evalue": "name 'ccxt_market_futures_currencies' is not defined",
     "output_type": "error",
     "traceback": [
      "\u001b[0;31m---------------------------------------------------------------------------\u001b[0m",
      "\u001b[0;31mNameError\u001b[0m                                 Traceback (most recent call last)",
      "Cell \u001b[0;32mIn [23], line 1\u001b[0m\n\u001b[0;32m----> 1\u001b[0m \u001b[38;5;28mlen\u001b[39m(coinmarketcap_symbols[coinmarketcap_symbols\u001b[38;5;241m.\u001b[39misin(\u001b[43mccxt_market_futures_currencies\u001b[49m)])\n",
      "\u001b[0;31mNameError\u001b[0m: name 'ccxt_market_futures_currencies' is not defined"
     ]
    }
   ],
   "source": [
    "len(coinmarketcap_symbols[coinmarketcap_symbols.isin(ccxt_market_futures_currencies)])"
   ]
  },
  {
   "cell_type": "code",
   "execution_count": 24,
   "id": "33377677",
   "metadata": {
    "ExecuteTime": {
     "end_time": "2023-06-21T07:31:20.010556Z",
     "start_time": "2023-06-21T07:31:19.950443Z"
    },
    "hidden": true
   },
   "outputs": [],
   "source": [
    "symbols_intersection = list(coinmarketcap_symbols[coinmarketcap_symbols.isin(binnace_api_symbols)])"
   ]
  },
  {
   "cell_type": "code",
   "execution_count": 25,
   "id": "94e1acf2",
   "metadata": {
    "ExecuteTime": {
     "end_time": "2023-06-21T07:31:20.126820Z",
     "start_time": "2023-06-21T07:31:20.075532Z"
    },
    "hidden": true
   },
   "outputs": [],
   "source": [
    "top_100_symbols_intersections = symbols_intersection[:100]"
   ]
  },
  {
   "cell_type": "code",
   "execution_count": 27,
   "id": "a666b66d",
   "metadata": {
    "ExecuteTime": {
     "end_time": "2023-06-21T07:31:21.688505Z",
     "start_time": "2023-06-21T07:31:21.642092Z"
    },
    "hidden": true
   },
   "outputs": [],
   "source": [
    "new_universe = [f\"{symbol}_USDT\" for symbol in top_100_symbols_intersections]"
   ]
  },
  {
   "cell_type": "code",
   "execution_count": 28,
   "id": "a282ba78",
   "metadata": {
    "ExecuteTime": {
     "end_time": "2023-06-21T07:31:22.735927Z",
     "start_time": "2023-06-21T07:31:22.697052Z"
    },
    "hidden": true
   },
   "outputs": [],
   "source": [
    "old_universe = [\n",
    "        \"ETH_USDT\",\n",
    "        \"BTC_USDT\",\n",
    "        \"SAND_USDT\",\n",
    "        \"STORJ_USDT\",\n",
    "        \"GMT_USDT\",\n",
    "        \"AVAX_USDT\",\n",
    "        \"BNB_USDT\",\n",
    "        \"APE_USDT\",\n",
    "        \"MATIC_USDT\",\n",
    "        \"DYDX_USDT\",\n",
    "        \"DOT_USDT\",\n",
    "        \"UNFI_USDT\",\n",
    "        \"LINK_USDT\",\n",
    "        \"XRP_USDT\",\n",
    "        \"CRV_USDT\",\n",
    "        \"RUNE_USDT\",\n",
    "        \"BAKE_USDT\",\n",
    "        \"NEAR_USDT\",\n",
    "        \"FTM_USDT\",\n",
    "        \"WAVES_USDT\",\n",
    "        \"AXS_USDT\",\n",
    "        \"OGN_USDT\",\n",
    "        \"DOGE_USDT\",\n",
    "        \"SOL_USDT\",\n",
    "        \"CTK_USDT\"\n",
    "   ]"
   ]
  },
  {
   "cell_type": "code",
   "execution_count": 29,
   "id": "f02018d3",
   "metadata": {
    "ExecuteTime": {
     "end_time": "2023-06-21T07:31:23.713425Z",
     "start_time": "2023-06-21T07:31:23.644338Z"
    },
    "hidden": true
   },
   "outputs": [],
   "source": [
    "new_mixed_universe = list(set(new_universe + old_universe))"
   ]
  },
  {
   "cell_type": "code",
   "execution_count": 31,
   "id": "2d625641",
   "metadata": {
    "ExecuteTime": {
     "end_time": "2023-06-21T07:31:33.817505Z",
     "start_time": "2023-06-21T07:31:33.776932Z"
    },
    "hidden": true
   },
   "outputs": [
    {
     "data": {
      "text/plain": [
       "106"
      ]
     },
     "execution_count": 31,
     "metadata": {},
     "output_type": "execute_result"
    }
   ],
   "source": [
    "len(new_mixed_universe)"
   ]
  },
  {
   "cell_type": "markdown",
   "id": "83c28e6a",
   "metadata": {},
   "source": [
    "# Read and check downloaded data"
   ]
  },
  {
   "cell_type": "code",
   "execution_count": 8,
   "id": "dc7a5007",
   "metadata": {
    "ExecuteTime": {
     "end_time": "2023-06-21T07:28:43.535003Z",
     "start_time": "2023-06-21T07:28:27.900581Z"
    }
   },
   "outputs": [
    {
     "name": "stdout",
     "output_type": "stream",
     "text": [
      "INFO  Loading dataset schema file: /app/data_schema/dataset_schema_versions/dataset_schema_v3.json\n",
      "INFO  Loaded dataset schema version v3\n",
      "INFO  Loading dataset schema file: /app/data_schema/dataset_schema_versions/dataset_schema_v3.json\n",
      "INFO  Loaded dataset schema version v3\n",
      "INFO  Loading dataset schema file: /app/data_schema/dataset_schema_versions/dataset_schema_v3.json\n",
      "INFO  Loaded dataset schema version v3\n"
     ]
    }
   ],
   "source": [
    "signature = \"bulk.airflow.downloaded_1min.parquet.ohlcv.futures.v7_5.ccxt.binance.v1_0_0\"\n",
    "reader = imvcdcimrdc.RawDataReader(signature, stage=\"test\")\n",
    "start_timestamp = pd.Timestamp(\"2023-02-01T00:00:00+00:00\")\n",
    "end_timestamp = pd.Timestamp(\"2023-06-01T00:00:00+00:00\")\n",
    "binance_ohlcv_data = reader.read_data(start_timestamp, end_timestamp)"
   ]
  },
  {
   "cell_type": "code",
   "execution_count": 9,
   "id": "77b35259",
   "metadata": {
    "ExecuteTime": {
     "end_time": "2023-06-21T07:29:41.450490Z",
     "start_time": "2023-06-21T07:29:41.382901Z"
    }
   },
   "outputs": [
    {
     "data": {
      "text/html": [
       "<div>\n",
       "<style scoped>\n",
       "    .dataframe tbody tr th:only-of-type {\n",
       "        vertical-align: middle;\n",
       "    }\n",
       "\n",
       "    .dataframe tbody tr th {\n",
       "        vertical-align: top;\n",
       "    }\n",
       "\n",
       "    .dataframe thead th {\n",
       "        text-align: right;\n",
       "    }\n",
       "</style>\n",
       "<table border=\"1\" class=\"dataframe\">\n",
       "  <thead>\n",
       "    <tr style=\"text-align: right;\">\n",
       "      <th></th>\n",
       "      <th>timestamp</th>\n",
       "      <th>open</th>\n",
       "      <th>high</th>\n",
       "      <th>low</th>\n",
       "      <th>close</th>\n",
       "      <th>volume</th>\n",
       "      <th>exchange_id</th>\n",
       "      <th>knowledge_timestamp</th>\n",
       "      <th>currency_pair</th>\n",
       "      <th>year</th>\n",
       "      <th>month</th>\n",
       "    </tr>\n",
       "    <tr>\n",
       "      <th>timestamp</th>\n",
       "      <th></th>\n",
       "      <th></th>\n",
       "      <th></th>\n",
       "      <th></th>\n",
       "      <th></th>\n",
       "      <th></th>\n",
       "      <th></th>\n",
       "      <th></th>\n",
       "      <th></th>\n",
       "      <th></th>\n",
       "      <th></th>\n",
       "    </tr>\n",
       "  </thead>\n",
       "  <tbody>\n",
       "    <tr>\n",
       "      <th>2023-02-01 00:00:00+00:00</th>\n",
       "      <td>1675209600000</td>\n",
       "      <td>0.5141</td>\n",
       "      <td>0.5143</td>\n",
       "      <td>0.5137</td>\n",
       "      <td>0.5142</td>\n",
       "      <td>59009.0</td>\n",
       "      <td>binance</td>\n",
       "      <td>2023-06-20 17:19:02.877891+00:00</td>\n",
       "      <td>1INCH_USDT</td>\n",
       "      <td>2023</td>\n",
       "      <td>2</td>\n",
       "    </tr>\n",
       "    <tr>\n",
       "      <th>2023-02-01 00:01:00+00:00</th>\n",
       "      <td>1675209660000</td>\n",
       "      <td>0.5142</td>\n",
       "      <td>0.5143</td>\n",
       "      <td>0.5140</td>\n",
       "      <td>0.5140</td>\n",
       "      <td>26966.0</td>\n",
       "      <td>binance</td>\n",
       "      <td>2023-06-20 17:19:02.877891+00:00</td>\n",
       "      <td>1INCH_USDT</td>\n",
       "      <td>2023</td>\n",
       "      <td>2</td>\n",
       "    </tr>\n",
       "    <tr>\n",
       "      <th>2023-02-01 00:02:00+00:00</th>\n",
       "      <td>1675209720000</td>\n",
       "      <td>0.5141</td>\n",
       "      <td>0.5157</td>\n",
       "      <td>0.5141</td>\n",
       "      <td>0.5154</td>\n",
       "      <td>49452.0</td>\n",
       "      <td>binance</td>\n",
       "      <td>2023-06-20 17:19:02.877891+00:00</td>\n",
       "      <td>1INCH_USDT</td>\n",
       "      <td>2023</td>\n",
       "      <td>2</td>\n",
       "    </tr>\n",
       "    <tr>\n",
       "      <th>2023-02-01 00:03:00+00:00</th>\n",
       "      <td>1675209780000</td>\n",
       "      <td>0.5154</td>\n",
       "      <td>0.5162</td>\n",
       "      <td>0.5153</td>\n",
       "      <td>0.5157</td>\n",
       "      <td>60371.0</td>\n",
       "      <td>binance</td>\n",
       "      <td>2023-06-20 17:19:02.877891+00:00</td>\n",
       "      <td>1INCH_USDT</td>\n",
       "      <td>2023</td>\n",
       "      <td>2</td>\n",
       "    </tr>\n",
       "    <tr>\n",
       "      <th>2023-02-01 00:04:00+00:00</th>\n",
       "      <td>1675209840000</td>\n",
       "      <td>0.5155</td>\n",
       "      <td>0.5157</td>\n",
       "      <td>0.5147</td>\n",
       "      <td>0.5148</td>\n",
       "      <td>24003.0</td>\n",
       "      <td>binance</td>\n",
       "      <td>2023-06-20 17:19:02.877891+00:00</td>\n",
       "      <td>1INCH_USDT</td>\n",
       "      <td>2023</td>\n",
       "      <td>2</td>\n",
       "    </tr>\n",
       "  </tbody>\n",
       "</table>\n",
       "</div>"
      ],
      "text/plain": [
       "                               timestamp    open    high     low   close   volume exchange_id              knowledge_timestamp currency_pair  year  month\n",
       "timestamp                                                                                                                                                \n",
       "2023-02-01 00:00:00+00:00  1675209600000  0.5141  0.5143  0.5137  0.5142  59009.0     binance 2023-06-20 17:19:02.877891+00:00    1INCH_USDT  2023      2\n",
       "2023-02-01 00:01:00+00:00  1675209660000  0.5142  0.5143  0.5140  0.5140  26966.0     binance 2023-06-20 17:19:02.877891+00:00    1INCH_USDT  2023      2\n",
       "2023-02-01 00:02:00+00:00  1675209720000  0.5141  0.5157  0.5141  0.5154  49452.0     binance 2023-06-20 17:19:02.877891+00:00    1INCH_USDT  2023      2\n",
       "2023-02-01 00:03:00+00:00  1675209780000  0.5154  0.5162  0.5153  0.5157  60371.0     binance 2023-06-20 17:19:02.877891+00:00    1INCH_USDT  2023      2\n",
       "2023-02-01 00:04:00+00:00  1675209840000  0.5155  0.5157  0.5147  0.5148  24003.0     binance 2023-06-20 17:19:02.877891+00:00    1INCH_USDT  2023      2"
      ]
     },
     "execution_count": 9,
     "metadata": {},
     "output_type": "execute_result"
    }
   ],
   "source": [
    "binance_ohlcv_data.head()"
   ]
  },
  {
   "cell_type": "code",
   "execution_count": 10,
   "id": "cffa47e9",
   "metadata": {
    "ExecuteTime": {
     "end_time": "2023-06-21T07:30:25.799811Z",
     "start_time": "2023-06-21T07:30:24.579188Z"
    }
   },
   "outputs": [],
   "source": [
    "downloaded_currency_pairs = pd.Series(binance_ohlcv_data.currency_pair.unique())"
   ]
  },
  {
   "cell_type": "code",
   "execution_count": 45,
   "id": "6a9652f0",
   "metadata": {
    "ExecuteTime": {
     "end_time": "2023-06-21T07:40:41.016141Z",
     "start_time": "2023-06-21T07:40:40.899406Z"
    }
   },
   "outputs": [
    {
     "data": {
      "text/plain": [
       "(105,)"
      ]
     },
     "execution_count": 45,
     "metadata": {},
     "output_type": "execute_result"
    }
   ],
   "source": [
    "downloaded_currency_pairs.shape"
   ]
  }
 ],
 "metadata": {
  "kernelspec": {
   "display_name": "Python 3 (ipykernel)",
   "language": "python",
   "name": "python3"
  },
  "language_info": {
   "codemirror_mode": {
    "name": "ipython",
    "version": 3
   },
   "file_extension": ".py",
   "mimetype": "text/x-python",
   "name": "python",
   "nbconvert_exporter": "python",
   "pygments_lexer": "ipython3",
   "version": "3.8.10"
  },
  "toc": {
   "base_numbering": 1,
   "nav_menu": {},
   "number_sections": true,
   "sideBar": true,
   "skip_h1_title": false,
   "title_cell": "Table of Contents",
   "title_sidebar": "Contents",
   "toc_cell": false,
   "toc_position": {},
   "toc_section_display": true,
   "toc_window_display": false
  }
 },
 "nbformat": 4,
 "nbformat_minor": 5
}
