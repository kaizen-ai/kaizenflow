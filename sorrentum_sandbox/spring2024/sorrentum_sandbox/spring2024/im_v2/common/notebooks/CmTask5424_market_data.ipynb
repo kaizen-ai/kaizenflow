{
 "cells": [
  {
   "cell_type": "code",
   "execution_count": 2,
   "id": "5d7cfa02",
   "metadata": {
    "ExecuteTime": {
     "end_time": "2023-12-15T12:37:49.372265Z",
     "start_time": "2023-12-15T12:37:49.355159Z"
    }
   },
   "outputs": [
    {
     "name": "stdout",
     "output_type": "stream",
     "text": [
      "The autoreload extension is already loaded. To reload it, use:\n",
      "  %reload_ext autoreload\n"
     ]
    }
   ],
   "source": [
    "%load_ext autoreload\n",
    "%autoreload 2"
   ]
  },
  {
   "cell_type": "markdown",
   "id": "f644cde3",
   "metadata": {},
   "source": [
    "# Imports"
   ]
  },
  {
   "cell_type": "code",
   "execution_count": 3,
   "id": "1ec68197",
   "metadata": {
    "ExecuteTime": {
     "end_time": "2023-12-15T12:37:53.770823Z",
     "start_time": "2023-12-15T12:37:50.615097Z"
    }
   },
   "outputs": [
    {
     "name": "stderr",
     "output_type": "stream",
     "text": [
      "/app/core/statistics/random_samples.py:12: TqdmExperimentalWarning: Using `tqdm.autonotebook.tqdm` in notebook mode. Use `tqdm.tqdm` instead to force console mode (e.g. in jupyter console)\n",
      "  from tqdm.autonotebook import tqdm\n"
     ]
    }
   ],
   "source": [
    "import logging\n",
    "\n",
    "import pandas as pd\n",
    "\n",
    "import core.config as cconfig\n",
    "import helpers.hdbg as hdbg\n",
    "import helpers.henv as henv\n",
    "import helpers.hpandas as hpandas\n",
    "import helpers.hprint as hprint\n",
    "import im_v2.common.data.client.historical_pq_clients as imvcdchpcl\n",
    "import market_data as mdata"
   ]
  },
  {
   "cell_type": "code",
   "execution_count": 4,
   "id": "efee783a",
   "metadata": {
    "ExecuteTime": {
     "end_time": "2023-12-15T12:37:54.454420Z",
     "start_time": "2023-12-15T12:37:53.772134Z"
    }
   },
   "outputs": [
    {
     "name": "stdout",
     "output_type": "stream",
     "text": [
      "\u001b[0m\u001b[36mINFO\u001b[0m: > cmd='/venv/lib/python3.9/site-packages/ipykernel_launcher.py -f /home/.local/share/jupyter/runtime/kernel-ced49272-fc0d-47f6-ab9f-9224d8c446d1.json'\n",
      "WARNING: Running in Jupyter\n",
      "\u001b[31m-----------------------------------------------------------------------------\n",
      "This code is not in sync with the container:\n",
      "code_version='1.10.0' != container_version='1.12.0'\n",
      "-----------------------------------------------------------------------------\n",
      "You need to:\n",
      "- merge origin/master into your branch with `invoke git_merge_master`\n",
      "- pull the latest container with `invoke docker_pull`\u001b[0m\n",
      "(CVXPY) Dec 15 12:37:54 PM: Encountered unexpected exception importing solver GLPK:\n",
      "ImportError(\"cannot import name 'glpk' from 'cvxopt' (/venv/lib/python3.9/site-packages/cvxopt/__init__.py)\")\n",
      "(CVXPY) Dec 15 12:37:54 PM: Encountered unexpected exception importing solver GLPK_MI:\n",
      "ImportError(\"cannot import name 'glpk' from 'cvxopt' (/venv/lib/python3.9/site-packages/cvxopt/__init__.py)\")\n",
      "INFO  # Git\n",
      "  branch_name='gp_scratch'\n",
      "  hash='bc42b5cf5'\n",
      "  # Last commits:\n",
      "    *   bc42b5cf5 GP Saggese Merge branch 'master' into gp_scratch                             (18 minutes ago) Fri Dec 15 12:19:31 2023  (HEAD -> gp_scratch, origin/gp_scratch)\n",
      "    |\\  \n",
      "    * | 64038f907 GP Saggese Update                                                            (18 minutes ago) Fri Dec 15 12:19:25 2023           \n",
      "    | * b82312b4f Sameep Pote CmTask6546 db_stage hardcoded in bid_ask_execution notebook (#6557) (54 minutes ago) Fri Dec 15 11:43:42 2023  (origin/master, origin/HEAD, master)\n",
      "# Machine info\n",
      "  system=Linux\n",
      "  node name=4e257bac38f9\n",
      "  release=5.15.49-linuxkit\n",
      "  version=#1 SMP PREEMPT Tue Sep 13 07:51:32 UTC 2022\n",
      "  machine=aarch64\n",
      "  processor=aarch64\n",
      "  cpu count=4\n",
      "  cpu freq=None\n",
      "  memory=svmem(total=8233017344, available=6535741440, percent=20.6, used=1147150336, free=1390657536, active=946548736, inactive=5037363200, buffers=382861312, cached=5312348160, shared=342540288, slab=737648640)\n",
      "  disk usage=sdiskusage(total=62671097856, used=38982500352, free=20471881728, percent=65.6)\n",
      "# Packages\n",
      "  python: 3.9.5\n",
      "  cvxopt: 1.3.2\n",
      "  cvxpy: 1.4.1\n",
      "  gluonnlp: ?\n",
      "  gluonts: ?\n",
      "  joblib: 1.3.2\n",
      "  mxnet: ?\n",
      "  numpy: 1.26.0\n",
      "  pandas: 2.1.1\n",
      "  pyarrow: 10.0.0\n",
      "  scipy: 1.11.3\n",
      "  seaborn: 0.13.0\n",
      "  sklearn: 1.3.1\n",
      "  statsmodels: 0.14.0\n"
     ]
    }
   ],
   "source": [
    "hdbg.init_logger(verbosity=logging.INFO)\n",
    "log_level = logging.INFO\n",
    "\n",
    "_LOG = logging.getLogger(__name__)\n",
    "\n",
    "_LOG.info(\"%s\", henv.get_system_signature()[0])\n",
    "\n",
    "hprint.config_notebook()"
   ]
  },
  {
   "cell_type": "markdown",
   "id": "2d9b9c1d",
   "metadata": {},
   "source": [
    "# Build config"
   ]
  },
  {
   "cell_type": "code",
   "execution_count": 5,
   "id": "36e3394f",
   "metadata": {
    "ExecuteTime": {
     "end_time": "2023-12-15T12:37:55.490701Z",
     "start_time": "2023-12-15T12:37:55.430632Z"
    }
   },
   "outputs": [
    {
     "name": "stdout",
     "output_type": "stream",
     "text": [
      "start_ts: None\n",
      "end_ts: None\n",
      "wall_clock_time: 2100-01-01 00:00:00+00:00\n",
      "columns: None\n",
      "columns_remap: None\n",
      "ts_col_name: end_ts\n",
      "im_client: \n",
      "  vendor: bloomberg\n",
      "  universe_version: v1\n",
      "  root_dir: s3://cryptokaizen-data-test/v3/bulk\n",
      "  partition_mode: by_year_month\n",
      "  dataset: ohlcv\n",
      "  contract_type: spot\n",
      "  data_snapshot: \n",
      "  download_mode: manual\n",
      "  downloading_entity: \n",
      "  aws_profile: ck\n",
      "  resample_1min: False\n",
      "  version: v1_0_0\n",
      "  tag: resampled_1min\n"
     ]
    }
   ],
   "source": [
    "config = {\n",
    "    \"start_ts\": None,\n",
    "    \"end_ts\": None,\n",
    "    \"wall_clock_time\": pd.Timestamp(\"2100-01-01T00:00:00+00:00\"),\n",
    "    \"columns\": None,\n",
    "    \"columns_remap\": None,\n",
    "    \"ts_col_name\": \"end_ts\",\n",
    "    \"im_client\": {\n",
    "        \"vendor\": \"bloomberg\",\n",
    "        \"universe_version\": \"v1\",\n",
    "        \"root_dir\": \"s3://cryptokaizen-data-test/v3/bulk\",\n",
    "        \"partition_mode\": \"by_year_month\",\n",
    "        \"dataset\": \"ohlcv\",\n",
    "        \"contract_type\": \"spot\",\n",
    "        \"data_snapshot\": \"\",\n",
    "        \"download_mode\": \"manual\",\n",
    "        \"downloading_entity\": \"\",\n",
    "        \"aws_profile\": \"ck\",\n",
    "        \"resample_1min\": False,\n",
    "        \"version\": \"v1_0_0\",\n",
    "        \"tag\": \"resampled_1min\",\n",
    "    },\n",
    "}\n",
    "config = cconfig.Config.from_dict(config)\n",
    "print(config)"
   ]
  },
  {
   "cell_type": "markdown",
   "id": "b2d486a9",
   "metadata": {},
   "source": [
    "# Load data"
   ]
  },
  {
   "cell_type": "code",
   "execution_count": null,
   "id": "085c0176",
   "metadata": {
    "ExecuteTime": {
     "end_time": "2023-09-18T18:28:06.470507Z",
     "start_time": "2023-09-18T18:28:06.350081Z"
    }
   },
   "outputs": [],
   "source": [
    "im_client = imvcdchpcl.HistoricalPqByCurrencyPairTileClient(**config[\"im_client\"])"
   ]
  },
  {
   "cell_type": "code",
   "execution_count": null,
   "id": "07d50b95",
   "metadata": {
    "ExecuteTime": {
     "end_time": "2023-09-18T18:28:07.400388Z",
     "start_time": "2023-09-18T18:28:06.473717Z"
    }
   },
   "outputs": [],
   "source": [
    "full_symbols = im_client.get_universe()\n",
    "filter_data_mode = \"assert\"\n",
    "actual_df = im_client.read_data(\n",
    "    full_symbols,\n",
    "    config[\"start_ts\"],\n",
    "    config[\"end_ts\"],\n",
    "    config[\"columns\"],\n",
    "    filter_data_mode,\n",
    ")\n",
    "hpandas.df_to_str(actual_df, num_rows=5, log_level=logging.INFO)"
   ]
  },
  {
   "cell_type": "code",
   "execution_count": null,
   "id": "d70a8782",
   "metadata": {
    "ExecuteTime": {
     "end_time": "2023-09-18T18:28:07.449019Z",
     "start_time": "2023-09-18T18:28:07.402961Z"
    },
    "run_control": {
     "marked": true
    }
   },
   "outputs": [],
   "source": [
    "asset_ids = im_client.get_asset_ids_from_full_symbols(full_symbols)\n",
    "market_data = mdata.get_HistoricalImClientMarketData_example1(\n",
    "    im_client,\n",
    "    asset_ids,\n",
    "    config[\"columns\"],\n",
    "    config[\"columns_remap\"],\n",
    "    wall_clock_time=config[\"wall_clock_time\"],\n",
    ")"
   ]
  },
  {
   "cell_type": "code",
   "execution_count": null,
   "id": "12e66150",
   "metadata": {
    "ExecuteTime": {
     "end_time": "2023-09-18T18:28:08.235397Z",
     "start_time": "2023-09-18T18:28:07.451901Z"
    }
   },
   "outputs": [],
   "source": [
    "asset_ids = None\n",
    "market_data_df = market_data.get_data_for_interval(\n",
    "    config[\"start_ts\"], config[\"end_ts\"], config[\"ts_col_name\"], asset_ids\n",
    ")\n",
    "hpandas.df_to_str(market_data_df, num_rows=5, log_level=logging.INFO)"
   ]
  }
 ],
 "metadata": {
  "kernelspec": {
   "display_name": "Python 3 (ipykernel)",
   "language": "python",
   "name": "python3"
  },
  "language_info": {
   "codemirror_mode": {
    "name": "ipython",
    "version": 3
   },
   "file_extension": ".py",
   "mimetype": "text/x-python",
   "name": "python",
   "nbconvert_exporter": "python",
   "pygments_lexer": "ipython3",
   "version": "3.9.5"
  },
  "toc": {
   "base_numbering": 1,
   "nav_menu": {},
   "number_sections": true,
   "sideBar": true,
   "skip_h1_title": false,
   "title_cell": "Table of Contents",
   "title_sidebar": "Contents",
   "toc_cell": false,
   "toc_position": {},
   "toc_section_display": true,
   "toc_window_display": false
  }
 },
 "nbformat": 4,
 "nbformat_minor": 5
}
