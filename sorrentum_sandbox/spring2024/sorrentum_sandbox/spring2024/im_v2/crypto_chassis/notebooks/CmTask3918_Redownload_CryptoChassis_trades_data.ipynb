{
 "cells": [
  {
   "cell_type": "markdown",
   "id": "eaf05ec1",
   "metadata": {},
   "source": [
    "# Imports"
   ]
  },
  {
   "cell_type": "code",
   "execution_count": 1,
   "id": "0d80c28c",
   "metadata": {
    "ExecuteTime": {
     "end_time": "2023-05-11T10:39:13.025285Z",
     "start_time": "2023-05-11T10:39:09.571245Z"
    }
   },
   "outputs": [
    {
     "name": "stderr",
     "output_type": "stream",
     "text": [
      "/app/core/signal_processing/decorrelation.py:12: TqdmExperimentalWarning: Using `tqdm.autonotebook.tqdm` in notebook mode. Use `tqdm.tqdm` instead to force console mode (e.g. in jupyter console)\n",
      "  from tqdm.autonotebook import tqdm\n"
     ]
    }
   ],
   "source": [
    "import logging\n",
    "\n",
    "import pandas as pd\n",
    "\n",
    "import helpers.hdatetime as hdateti\n",
    "import helpers.hdbg as hdbg\n",
    "import helpers.henv as henv\n",
    "import helpers.hpandas as hpandas\n",
    "import helpers.hprint as hprint\n",
    "import im_v2.ccxt.data.extract.extractor as imvcdexex\n",
    "import im_v2.common.data.client.im_raw_data_client as imvcdcimrdc\n",
    "import im_v2.common.data.qa.dataset_validator as imvcdqdava\n",
    "import im_v2.common.data.qa.qa_check as imvcdqqach\n",
    "import im_v2.common.universe as ivcu\n",
    "import im_v2.common.universe.universe as imvcounun\n",
    "import im_v2.crypto_chassis.data.extract.extractor as imvccdexex\n",
    "\n",
    "%load_ext autoreload\n",
    "%autoreload 2"
   ]
  },
  {
   "cell_type": "code",
   "execution_count": 2,
   "id": "aecd42b2",
   "metadata": {
    "ExecuteTime": {
     "end_time": "2023-05-11T10:39:13.333561Z",
     "start_time": "2023-05-11T10:39:13.028085Z"
    }
   },
   "outputs": [
    {
     "name": "stdout",
     "output_type": "stream",
     "text": [
      "\u001b[0m\u001b[36mINFO\u001b[0m: > cmd='/venv/lib/python3.8/site-packages/ipykernel_launcher.py -f /home/.local/share/jupyter/runtime/kernel-c2ba9f8b-17f9-4f57-8daa-98aa82dd21c8.json'\n",
      "WARNING: Running in Jupyter\n",
      "\u001b[31m-----------------------------------------------------------------------------\n",
      "This code is not in sync with the container:\n",
      "code_version='1.4.3' != container_version='1.4.0'\n",
      "-----------------------------------------------------------------------------\n",
      "You need to:\n",
      "- merge origin/master into your branch with `invoke git_merge_master`\n",
      "- pull the latest container with `invoke docker_pull`\u001b[0m\n",
      "INFO  # Git\n",
      "  branch_name='CmTask3918_Redownload_CryptoChassis_trades_data_'\n",
      "  hash='52d7b7bbc'\n",
      "  # Last commits:\n",
      "    * 52d7b7bbc vlady    CmTask3918: minor fixes in crypto_chassis                         (    7 days ago) Thu May 4 19:20:54 2023  (HEAD -> CmTask3918_Redownload_CryptoChassis_trades_data_, origin/CmTask3918_Redownload_CryptoChassis_trades_data_)\n",
      "    * 6e275c009 vlady    CmTask3918: minor refactoring by the comments                     (    8 days ago) Wed May 3 18:04:50 2023           \n",
      "    * 7fcc55d74 vlady    CmTask3918: minor changes by the comment                          (    8 days ago) Wed May 3 17:06:04 2023           \n",
      "# Machine info\n",
      "  system=Linux\n",
      "  node name=7fd160e9dd79\n",
      "  release=5.15.0-1033-aws\n",
      "  version=#37~20.04.1-Ubuntu SMP Fri Mar 17 11:39:30 UTC 2023\n",
      "  machine=x86_64\n",
      "  processor=x86_64\n",
      "  cpu count=8\n",
      "  cpu freq=scpufreq(current=2499.998, min=0.0, max=0.0)\n",
      "  memory=svmem(total=33292873728, available=27512479744, percent=17.4, used=5318778880, free=8489070592, active=9857839104, inactive=11860414464, buffers=2601984000, cached=16883040256, shared=2437120, slab=2789138432)\n",
      "  disk usage=sdiskusage(total=156052275200, used=37065240576, free=118970257408, percent=23.8)\n",
      "# Packages\n",
      "  python: 3.8.10\n",
      "  cvxopt: 1.3.0\n",
      "  cvxpy: 1.2.2\n",
      "  gluonnlp: ?\n",
      "  gluonts: 0.6.7\n",
      "  joblib: 1.2.0\n",
      "  mxnet: 1.9.1\n",
      "  numpy: 1.23.4\n",
      "  pandas: 1.5.1\n",
      "  pyarrow: 10.0.0\n",
      "  scipy: 1.9.3\n",
      "  seaborn: 0.12.1\n",
      "  sklearn: 1.1.3\n",
      "  statsmodels: 0.13.5\n"
     ]
    }
   ],
   "source": [
    "hdbg.init_logger(verbosity=logging.INFO)\n",
    "\n",
    "_LOG = logging.getLogger(__name__)\n",
    "\n",
    "_LOG.info(\"%s\", henv.get_system_signature()[0])\n",
    "\n",
    "hprint.config_notebook()"
   ]
  },
  {
   "cell_type": "code",
   "execution_count": 3,
   "id": "4f1202fc",
   "metadata": {
    "ExecuteTime": {
     "end_time": "2023-05-11T10:39:13.532055Z",
     "start_time": "2023-05-11T10:39:13.335712Z"
    }
   },
   "outputs": [
    {
     "name": "stdout",
     "output_type": "stream",
     "text": [
      "The autoreload extension is already loaded. To reload it, use:\n",
      "  %reload_ext autoreload\n",
      "\u001b[0m\u001b[33mWARNING\u001b[0m: Logger already initialized: skipping\n",
      "\u001b[31m-----------------------------------------------------------------------------\n",
      "This code is not in sync with the container:\n",
      "code_version='1.4.3' != container_version='1.4.0'\n",
      "-----------------------------------------------------------------------------\n",
      "You need to:\n",
      "- merge origin/master into your branch with `invoke git_merge_master`\n",
      "- pull the latest container with `invoke docker_pull`\u001b[0m\n",
      "INFO  # Git\n",
      "  branch_name='CmTask3918_Redownload_CryptoChassis_trades_data_'\n",
      "  hash='52d7b7bbc'\n",
      "  # Last commits:\n",
      "    * 52d7b7bbc vlady    CmTask3918: minor fixes in crypto_chassis                         (    7 days ago) Thu May 4 19:20:54 2023  (HEAD -> CmTask3918_Redownload_CryptoChassis_trades_data_, origin/CmTask3918_Redownload_CryptoChassis_trades_data_)\n",
      "    * 6e275c009 vlady    CmTask3918: minor refactoring by the comments                     (    8 days ago) Wed May 3 18:04:50 2023           \n",
      "    * 7fcc55d74 vlady    CmTask3918: minor changes by the comment                          (    8 days ago) Wed May 3 17:06:04 2023           \n",
      "# Machine info\n",
      "  system=Linux\n",
      "  node name=7fd160e9dd79\n",
      "  release=5.15.0-1033-aws\n",
      "  version=#37~20.04.1-Ubuntu SMP Fri Mar 17 11:39:30 UTC 2023\n",
      "  machine=x86_64\n",
      "  processor=x86_64\n",
      "  cpu count=8\n",
      "  cpu freq=scpufreq(current=2499.998, min=0.0, max=0.0)\n",
      "  memory=svmem(total=33292873728, available=27497811968, percent=17.4, used=5333454848, free=8474361856, active=9857961984, inactive=11864133632, buffers=2601984000, cached=16883073024, shared=2437120, slab=2789138432)\n",
      "  disk usage=sdiskusage(total=156052275200, used=37065240576, free=118970257408, percent=23.8)\n",
      "# Packages\n",
      "  python: 3.8.10\n",
      "  cvxopt: 1.3.0\n",
      "  cvxpy: 1.2.2\n",
      "  gluonnlp: ?\n",
      "  gluonts: 0.6.7\n",
      "  joblib: 1.2.0\n",
      "  mxnet: 1.9.1\n",
      "  numpy: 1.23.4\n",
      "  pandas: 1.5.1\n",
      "  pyarrow: 10.0.0\n",
      "  scipy: 1.9.3\n",
      "  seaborn: 0.12.1\n",
      "  sklearn: 1.1.3\n",
      "  statsmodels: 0.13.5\n"
     ]
    }
   ],
   "source": [
    "# Imports\n",
    "\n",
    "import logging\n",
    "\n",
    "import pandas as pd\n",
    "\n",
    "import helpers.hdatetime as hdateti\n",
    "import helpers.hdbg as hdbg\n",
    "import helpers.henv as henv\n",
    "import helpers.hpandas as hpandas\n",
    "import helpers.hprint as hprint\n",
    "import im_v2.ccxt.data.extract.extractor as imvcdexex\n",
    "import im_v2.common.data.client.im_raw_data_client as imvcdcimrdc\n",
    "import im_v2.common.data.qa.dataset_validator as imvcdqdava\n",
    "import im_v2.common.data.qa.qa_check as imvcdqqach\n",
    "import im_v2.common.universe as ivcu\n",
    "import im_v2.common.universe.universe as imvcounun\n",
    "\n",
    "%load_ext autoreload\n",
    "%autoreload 2\n",
    "\n",
    "hdbg.init_logger(verbosity=logging.INFO)\n",
    "\n",
    "_LOG = logging.getLogger(__name__)\n",
    "\n",
    "_LOG.info(\"%s\", henv.get_system_signature()[0])\n",
    "\n",
    "hprint.config_notebook()"
   ]
  },
  {
   "cell_type": "markdown",
   "id": "d10953de",
   "metadata": {},
   "source": [
    "# Crypto chassis Script bulk download"
   ]
  },
  {
   "cell_type": "code",
   "execution_count": 15,
   "id": "1f294020",
   "metadata": {
    "ExecuteTime": {
     "end_time": "2023-05-04T18:43:17.760909Z",
     "start_time": "2023-05-04T18:43:12.276303Z"
    }
   },
   "outputs": [
    {
     "name": "stdout",
     "output_type": "stream",
     "text": [
      "\u001b[0m\u001b[36mINFO\u001b[0m: > cmd='/app/im_v2/common/data/extract/download_bulk.py --download_mode bulk --downloading_entity manual --action_tag downloaded_1min --vendor crypto_chassis --start_timestamp 2022-01-01T01:00:00+00:00 --end_timestamp 2022-03-15T02:00:00+00:00 --exchange_id okx --universe v4 --aws_profile ck --data_type trades --data_format parquet --contract_type spot --universe_part 1 --s3_path s3://cryptokaizen-data-test/'\n",
      "report_memory_usage=False report_cpu_usage=False\n",
      "\u001b[36mINFO\u001b[0m: Saving log to file '/app/im_v2/common/data/extract/download_bulk.py.log'\n",
      "14:43:16 - \u001b[36mINFO \u001b[0m dataset_schema_utils.py _get_dataset_schema_file_path:39 Loading dataset schema file: /app/data_schema/dataset_schema_versions/dataset_schema_v3.json\n",
      "14:43:16 - \u001b[36mINFO \u001b[0m dataset_schema_utils.py get_dataset_schema:74          Loaded dataset schema version v3\n",
      "14:43:16 - \u001b[36mINFO \u001b[0m dataset_schema_utils.py _get_dataset_schema_file_path:39 Loading dataset schema file: /app/data_schema/dataset_schema_versions/dataset_schema_v3.json\n",
      "14:43:16 - \u001b[36mINFO \u001b[0m dataset_schema_utils.py get_dataset_schema:74          Loaded dataset schema version v3\n",
      "14:43:16 - \u001b[36mINFO \u001b[0m extract_utils.py download_historical_data:808          Using part 1 of crypto_chassis universe v4:\n",
      "14:43:16 - \u001b[36mINFO \u001b[0m extract_utils.py download_historical_data:812          \t ['ETH_USDT', 'BTC_USDT', 'SAND_USDT', 'STORJ_USDT', 'GMT_USDT', 'AVAX_USDT', 'BNB_USDT', 'APE_USDT', 'MATIC_USDT', 'DOT_USDT']\n",
      "14:43:17 - \u001b[41mERROR\u001b[0m extractor.py _download_trades:436                      Unable to retrieve data for eth-usdt message=Too many requests, please try again later.\n"
     ]
    },
    {
     "name": "stderr",
     "output_type": "stream",
     "text": [
      "Traceback (most recent call last):\n",
      "  File \"/venv/lib/python3.8/site-packages/requests/models.py\", line 971, in json\n",
      "    return complexjson.loads(self.text, **kwargs)\n",
      "  File \"/usr/lib/python3.8/json/__init__.py\", line 357, in loads\n",
      "    return _default_decoder.decode(s)\n",
      "  File \"/usr/lib/python3.8/json/decoder.py\", line 337, in decode\n",
      "    obj, end = self.raw_decode(s, idx=_w(s, 0).end())\n",
      "  File \"/usr/lib/python3.8/json/decoder.py\", line 355, in raw_decode\n",
      "    raise JSONDecodeError(\"Expecting value\", s, err.value) from None\n",
      "json.decoder.JSONDecodeError: Expecting value: line 1 column 1 (char 0)\n",
      "\n",
      "During handling of the above exception, another exception occurred:\n",
      "\n",
      "Traceback (most recent call last):\n",
      "  File \"/app/im_v2/common/data/extract/download_bulk.py\", line 106, in <module>\n",
      "    _main(_parse())\n",
      "  File \"/app/im_v2/common/data/extract/download_bulk.py\", line 102, in _main\n",
      "    _run(args)\n",
      "  File \"/app/im_v2/common/data/extract/download_bulk.py\", line 97, in _run\n",
      "    imvcdeexut.download_historical_data(args, exchange)\n",
      "  File \"/app/im_v2/common/data/extract/extract_utils.py\", line 823, in download_historical_data\n",
      "    data = exchange.download_data(\n",
      "  File \"/app/im_v2/common/data/extract/extractor.py\", line 45, in download_data\n",
      "    data = self._download_trades(exchange_id, currency_pair, **kwargs)\n",
      "  File \"/app/im_v2/crypto_chassis/data/extract/extractor.py\", line 441, in _download_trades\n",
      "    raise e\n",
      "  File \"/app/im_v2/crypto_chassis/data/extract/extractor.py\", line 434, in _download_trades\n",
      "    data_json = r.json()\n",
      "  File \"/venv/lib/python3.8/site-packages/requests/models.py\", line 975, in json\n",
      "    raise RequestsJSONDecodeError(e.msg, e.doc, e.pos)\n",
      "requests.exceptions.JSONDecodeError: Expecting value: line 1 column 1 (char 0)\n"
     ]
    },
    {
     "name": "stdout",
     "output_type": "stream",
     "text": [
      "14:43:17 - \u001b[36mINFO \u001b[0m hcache.py clear_global_cache:292                       Before clear_global_cache: 'global mem' cache: path='/mnt/tmpfs/tmp.cache.mem', size=32.0 KB\n",
      "14:43:17 - \u001b[41mWARN \u001b[0m hcache.py clear_global_cache:293                       Resetting 'global mem' cache '/mnt/tmpfs/tmp.cache.mem'\n",
      "14:43:17 - \u001b[41mWARN \u001b[0m hcache.py clear_global_cache:303                       Destroying '/mnt/tmpfs/tmp.cache.mem' ...\n",
      "14:43:17 - \u001b[36mINFO \u001b[0m hcache.py clear_global_cache:319                       After clear_global_cache: 'global mem' cache: path='/mnt/tmpfs/tmp.cache.mem', size=nan\n"
     ]
    },
    {
     "ename": "CalledProcessError",
     "evalue": "Command 'b\"/app/im_v2/common/data/extract/download_bulk.py \\\\\\n    --download_mode 'bulk' \\\\\\n    --downloading_entity 'manual' \\\\\\n    --action_tag 'downloaded_1min' \\\\\\n    --vendor 'crypto_chassis' \\\\\\n    --start_timestamp '2022-01-01T01:00:00+00:00' \\\\\\n    --end_timestamp '2022-03-15T02:00:00+00:00' \\\\\\n    --exchange_id 'okx' \\\\\\n    --universe 'v4' \\\\\\n    --aws_profile 'ck' \\\\\\n    --data_type 'trades' \\\\\\n    --data_format 'parquet' \\\\\\n    --contract_type 'spot' \\\\\\n    --universe_part 1 \\\\\\n    --s3_path 's3://cryptokaizen-data-test/'\\n\"' returned non-zero exit status 1.",
     "output_type": "error",
     "traceback": [
      "\u001b[0;31m---------------------------------------------------------------------------\u001b[0m",
      "\u001b[0;31mCalledProcessError\u001b[0m                        Traceback (most recent call last)",
      "Cell \u001b[0;32mIn [15], line 1\u001b[0m\n\u001b[0;32m----> 1\u001b[0m \u001b[43mget_ipython\u001b[49m\u001b[43m(\u001b[49m\u001b[43m)\u001b[49m\u001b[38;5;241;43m.\u001b[39;49m\u001b[43mrun_cell_magic\u001b[49m\u001b[43m(\u001b[49m\u001b[38;5;124;43m'\u001b[39;49m\u001b[38;5;124;43mbash\u001b[39;49m\u001b[38;5;124;43m'\u001b[39;49m\u001b[43m,\u001b[49m\u001b[43m \u001b[49m\u001b[38;5;124;43m'\u001b[39;49m\u001b[38;5;124;43m'\u001b[39;49m\u001b[43m,\u001b[49m\u001b[43m \u001b[49m\u001b[38;5;124;43m\"\u001b[39;49m\u001b[38;5;124;43m/app/im_v2/common/data/extract/download_bulk.py \u001b[39;49m\u001b[38;5;130;43;01m\\\\\u001b[39;49;00m\u001b[38;5;130;43;01m\\n\u001b[39;49;00m\u001b[38;5;124;43m    --download_mode \u001b[39;49m\u001b[38;5;124;43m'\u001b[39;49m\u001b[38;5;124;43mbulk\u001b[39;49m\u001b[38;5;124;43m'\u001b[39;49m\u001b[38;5;124;43m \u001b[39;49m\u001b[38;5;130;43;01m\\\\\u001b[39;49;00m\u001b[38;5;130;43;01m\\n\u001b[39;49;00m\u001b[38;5;124;43m    --downloading_entity \u001b[39;49m\u001b[38;5;124;43m'\u001b[39;49m\u001b[38;5;124;43mmanual\u001b[39;49m\u001b[38;5;124;43m'\u001b[39;49m\u001b[38;5;124;43m \u001b[39;49m\u001b[38;5;130;43;01m\\\\\u001b[39;49;00m\u001b[38;5;130;43;01m\\n\u001b[39;49;00m\u001b[38;5;124;43m    --action_tag \u001b[39;49m\u001b[38;5;124;43m'\u001b[39;49m\u001b[38;5;124;43mdownloaded_1min\u001b[39;49m\u001b[38;5;124;43m'\u001b[39;49m\u001b[38;5;124;43m \u001b[39;49m\u001b[38;5;130;43;01m\\\\\u001b[39;49;00m\u001b[38;5;130;43;01m\\n\u001b[39;49;00m\u001b[38;5;124;43m    --vendor \u001b[39;49m\u001b[38;5;124;43m'\u001b[39;49m\u001b[38;5;124;43mcrypto_chassis\u001b[39;49m\u001b[38;5;124;43m'\u001b[39;49m\u001b[38;5;124;43m \u001b[39;49m\u001b[38;5;130;43;01m\\\\\u001b[39;49;00m\u001b[38;5;130;43;01m\\n\u001b[39;49;00m\u001b[38;5;124;43m    --start_timestamp \u001b[39;49m\u001b[38;5;124;43m'\u001b[39;49m\u001b[38;5;124;43m2022-01-01T01:00:00+00:00\u001b[39;49m\u001b[38;5;124;43m'\u001b[39;49m\u001b[38;5;124;43m \u001b[39;49m\u001b[38;5;130;43;01m\\\\\u001b[39;49;00m\u001b[38;5;130;43;01m\\n\u001b[39;49;00m\u001b[38;5;124;43m    --end_timestamp \u001b[39;49m\u001b[38;5;124;43m'\u001b[39;49m\u001b[38;5;124;43m2022-03-15T02:00:00+00:00\u001b[39;49m\u001b[38;5;124;43m'\u001b[39;49m\u001b[38;5;124;43m \u001b[39;49m\u001b[38;5;130;43;01m\\\\\u001b[39;49;00m\u001b[38;5;130;43;01m\\n\u001b[39;49;00m\u001b[38;5;124;43m    --exchange_id \u001b[39;49m\u001b[38;5;124;43m'\u001b[39;49m\u001b[38;5;124;43mokx\u001b[39;49m\u001b[38;5;124;43m'\u001b[39;49m\u001b[38;5;124;43m \u001b[39;49m\u001b[38;5;130;43;01m\\\\\u001b[39;49;00m\u001b[38;5;130;43;01m\\n\u001b[39;49;00m\u001b[38;5;124;43m    --universe \u001b[39;49m\u001b[38;5;124;43m'\u001b[39;49m\u001b[38;5;124;43mv4\u001b[39;49m\u001b[38;5;124;43m'\u001b[39;49m\u001b[38;5;124;43m \u001b[39;49m\u001b[38;5;130;43;01m\\\\\u001b[39;49;00m\u001b[38;5;130;43;01m\\n\u001b[39;49;00m\u001b[38;5;124;43m    --aws_profile \u001b[39;49m\u001b[38;5;124;43m'\u001b[39;49m\u001b[38;5;124;43mck\u001b[39;49m\u001b[38;5;124;43m'\u001b[39;49m\u001b[38;5;124;43m \u001b[39;49m\u001b[38;5;130;43;01m\\\\\u001b[39;49;00m\u001b[38;5;130;43;01m\\n\u001b[39;49;00m\u001b[38;5;124;43m    --data_type \u001b[39;49m\u001b[38;5;124;43m'\u001b[39;49m\u001b[38;5;124;43mtrades\u001b[39;49m\u001b[38;5;124;43m'\u001b[39;49m\u001b[38;5;124;43m \u001b[39;49m\u001b[38;5;130;43;01m\\\\\u001b[39;49;00m\u001b[38;5;130;43;01m\\n\u001b[39;49;00m\u001b[38;5;124;43m    --data_format \u001b[39;49m\u001b[38;5;124;43m'\u001b[39;49m\u001b[38;5;124;43mparquet\u001b[39;49m\u001b[38;5;124;43m'\u001b[39;49m\u001b[38;5;124;43m \u001b[39;49m\u001b[38;5;130;43;01m\\\\\u001b[39;49;00m\u001b[38;5;130;43;01m\\n\u001b[39;49;00m\u001b[38;5;124;43m    --contract_type \u001b[39;49m\u001b[38;5;124;43m'\u001b[39;49m\u001b[38;5;124;43mspot\u001b[39;49m\u001b[38;5;124;43m'\u001b[39;49m\u001b[38;5;124;43m \u001b[39;49m\u001b[38;5;130;43;01m\\\\\u001b[39;49;00m\u001b[38;5;130;43;01m\\n\u001b[39;49;00m\u001b[38;5;124;43m    --universe_part 1 \u001b[39;49m\u001b[38;5;130;43;01m\\\\\u001b[39;49;00m\u001b[38;5;130;43;01m\\n\u001b[39;49;00m\u001b[38;5;124;43m    --s3_path \u001b[39;49m\u001b[38;5;124;43m'\u001b[39;49m\u001b[38;5;124;43ms3://cryptokaizen-data-test/\u001b[39;49m\u001b[38;5;124;43m'\u001b[39;49m\u001b[38;5;130;43;01m\\n\u001b[39;49;00m\u001b[38;5;124;43m\"\u001b[39;49m\u001b[43m)\u001b[49m\n",
      "File \u001b[0;32m/venv/lib/python3.8/site-packages/IPython/core/interactiveshell.py:2417\u001b[0m, in \u001b[0;36mInteractiveShell.run_cell_magic\u001b[0;34m(self, magic_name, line, cell)\u001b[0m\n\u001b[1;32m   2415\u001b[0m \u001b[38;5;28;01mwith\u001b[39;00m \u001b[38;5;28mself\u001b[39m\u001b[38;5;241m.\u001b[39mbuiltin_trap:\n\u001b[1;32m   2416\u001b[0m     args \u001b[38;5;241m=\u001b[39m (magic_arg_s, cell)\n\u001b[0;32m-> 2417\u001b[0m     result \u001b[38;5;241m=\u001b[39m \u001b[43mfn\u001b[49m\u001b[43m(\u001b[49m\u001b[38;5;241;43m*\u001b[39;49m\u001b[43margs\u001b[49m\u001b[43m,\u001b[49m\u001b[43m \u001b[49m\u001b[38;5;241;43m*\u001b[39;49m\u001b[38;5;241;43m*\u001b[39;49m\u001b[43mkwargs\u001b[49m\u001b[43m)\u001b[49m\n\u001b[1;32m   2418\u001b[0m \u001b[38;5;28;01mreturn\u001b[39;00m result\n",
      "File \u001b[0;32m/venv/lib/python3.8/site-packages/IPython/core/magics/script.py:153\u001b[0m, in \u001b[0;36mScriptMagics._make_script_magic.<locals>.named_script_magic\u001b[0;34m(line, cell)\u001b[0m\n\u001b[1;32m    151\u001b[0m \u001b[38;5;28;01melse\u001b[39;00m:\n\u001b[1;32m    152\u001b[0m     line \u001b[38;5;241m=\u001b[39m script\n\u001b[0;32m--> 153\u001b[0m \u001b[38;5;28;01mreturn\u001b[39;00m \u001b[38;5;28;43mself\u001b[39;49m\u001b[38;5;241;43m.\u001b[39;49m\u001b[43mshebang\u001b[49m\u001b[43m(\u001b[49m\u001b[43mline\u001b[49m\u001b[43m,\u001b[49m\u001b[43m \u001b[49m\u001b[43mcell\u001b[49m\u001b[43m)\u001b[49m\n",
      "File \u001b[0;32m/venv/lib/python3.8/site-packages/IPython/core/magics/script.py:305\u001b[0m, in \u001b[0;36mScriptMagics.shebang\u001b[0;34m(self, line, cell)\u001b[0m\n\u001b[1;32m    300\u001b[0m \u001b[38;5;28;01mif\u001b[39;00m args\u001b[38;5;241m.\u001b[39mraise_error \u001b[38;5;129;01mand\u001b[39;00m p\u001b[38;5;241m.\u001b[39mreturncode \u001b[38;5;241m!=\u001b[39m \u001b[38;5;241m0\u001b[39m:\n\u001b[1;32m    301\u001b[0m     \u001b[38;5;66;03m# If we get here and p.returncode is still None, we must have\u001b[39;00m\n\u001b[1;32m    302\u001b[0m     \u001b[38;5;66;03m# killed it but not yet seen its return code. We don't wait for it,\u001b[39;00m\n\u001b[1;32m    303\u001b[0m     \u001b[38;5;66;03m# in case it's stuck in uninterruptible sleep. -9 = SIGKILL\u001b[39;00m\n\u001b[1;32m    304\u001b[0m     rc \u001b[38;5;241m=\u001b[39m p\u001b[38;5;241m.\u001b[39mreturncode \u001b[38;5;129;01mor\u001b[39;00m \u001b[38;5;241m-\u001b[39m\u001b[38;5;241m9\u001b[39m\n\u001b[0;32m--> 305\u001b[0m     \u001b[38;5;28;01mraise\u001b[39;00m CalledProcessError(rc, cell)\n",
      "\u001b[0;31mCalledProcessError\u001b[0m: Command 'b\"/app/im_v2/common/data/extract/download_bulk.py \\\\\\n    --download_mode 'bulk' \\\\\\n    --downloading_entity 'manual' \\\\\\n    --action_tag 'downloaded_1min' \\\\\\n    --vendor 'crypto_chassis' \\\\\\n    --start_timestamp '2022-01-01T01:00:00+00:00' \\\\\\n    --end_timestamp '2022-03-15T02:00:00+00:00' \\\\\\n    --exchange_id 'okx' \\\\\\n    --universe 'v4' \\\\\\n    --aws_profile 'ck' \\\\\\n    --data_type 'trades' \\\\\\n    --data_format 'parquet' \\\\\\n    --contract_type 'spot' \\\\\\n    --universe_part 1 \\\\\\n    --s3_path 's3://cryptokaizen-data-test/'\\n\"' returned non-zero exit status 1."
     ]
    }
   ],
   "source": [
    "%%bash\n",
    "/app/im_v2/common/data/extract/download_bulk.py \\\n",
    "    --download_mode 'bulk' \\\n",
    "    --downloading_entity 'manual' \\\n",
    "    --action_tag 'downloaded_1min' \\\n",
    "    --vendor 'crypto_chassis' \\\n",
    "    --start_timestamp '2022-01-01T01:00:00+00:00' \\\n",
    "    --end_timestamp '2022-03-15T02:00:00+00:00' \\\n",
    "    --exchange_id 'okx' \\\n",
    "    --universe 'v4' \\\n",
    "    --aws_profile 'ck' \\\n",
    "    --data_type 'trades' \\\n",
    "    --data_format 'parquet' \\\n",
    "    --contract_type 'spot' \\\n",
    "    --universe_part 1 \\\n",
    "    --s3_path 's3://cryptokaizen-data-test/'"
   ]
  },
  {
   "cell_type": "markdown",
   "id": "011021ce",
   "metadata": {},
   "source": [
    "### Check data by reader"
   ]
  },
  {
   "cell_type": "code",
   "execution_count": 11,
   "id": "7191fbf9",
   "metadata": {
    "ExecuteTime": {
     "end_time": "2023-05-04T18:40:42.182868Z",
     "start_time": "2023-05-04T18:40:42.133043Z"
    }
   },
   "outputs": [
    {
     "name": "stdout",
     "output_type": "stream",
     "text": [
      "INFO  Loading dataset schema file: /app/data_schema/dataset_schema_versions/dataset_schema_v3.json\n",
      "INFO  Loaded dataset schema version v3\n",
      "INFO  Loading dataset schema file: /app/data_schema/dataset_schema_versions/dataset_schema_v3.json\n",
      "INFO  Loaded dataset schema version v3\n"
     ]
    }
   ],
   "source": [
    "signature = \"bulk.manual.downloaded_1min.parquet.trades.futures.v4.crypto_chassis.okx.v1_0_0\"\n",
    "reader = imvcdcimrdc.RawDataReader(signature, stage=\"test\")\n",
    "start_timestamp = pd.Timestamp(\"2022-01-01T01:00:00+00:00\")\n",
    "end_timestamp = pd.Timestamp(\"2022-03-15T02:00:00+00:00\")"
   ]
  },
  {
   "cell_type": "code",
   "execution_count": 12,
   "id": "117ec56c",
   "metadata": {
    "ExecuteTime": {
     "end_time": "2023-05-04T18:40:44.167187Z",
     "start_time": "2023-05-04T18:40:43.382623Z"
    }
   },
   "outputs": [
    {
     "name": "stdout",
     "output_type": "stream",
     "text": [
      "INFO  Loading dataset schema file: /app/data_schema/dataset_schema_versions/dataset_schema_v3.json\n",
      "INFO  Loaded dataset schema version v3\n"
     ]
    }
   ],
   "source": [
    "trades = reader.read_data(start_timestamp, end_timestamp)"
   ]
  },
  {
   "cell_type": "code",
   "execution_count": 13,
   "id": "eac00b26",
   "metadata": {
    "ExecuteTime": {
     "end_time": "2023-05-04T18:40:53.519878Z",
     "start_time": "2023-05-04T18:40:53.404080Z"
    }
   },
   "outputs": [
    {
     "data": {
      "text/html": [
       "<div>\n",
       "<style scoped>\n",
       "    .dataframe tbody tr th:only-of-type {\n",
       "        vertical-align: middle;\n",
       "    }\n",
       "\n",
       "    .dataframe tbody tr th {\n",
       "        vertical-align: top;\n",
       "    }\n",
       "\n",
       "    .dataframe thead th {\n",
       "        text-align: right;\n",
       "    }\n",
       "</style>\n",
       "<table border=\"1\" class=\"dataframe\">\n",
       "  <thead>\n",
       "    <tr style=\"text-align: right;\">\n",
       "      <th></th>\n",
       "      <th>timestamp</th>\n",
       "      <th>price</th>\n",
       "      <th>amount</th>\n",
       "      <th>side</th>\n",
       "      <th>exchange_id</th>\n",
       "      <th>knowledge_timestamp</th>\n",
       "      <th>currency_pair</th>\n",
       "      <th>year</th>\n",
       "      <th>month</th>\n",
       "      <th>day</th>\n",
       "    </tr>\n",
       "    <tr>\n",
       "      <th>timestamp</th>\n",
       "      <th></th>\n",
       "      <th></th>\n",
       "      <th></th>\n",
       "      <th></th>\n",
       "      <th></th>\n",
       "      <th></th>\n",
       "      <th></th>\n",
       "      <th></th>\n",
       "      <th></th>\n",
       "      <th></th>\n",
       "    </tr>\n",
       "  </thead>\n",
       "  <tbody>\n",
       "    <tr>\n",
       "      <th>2022-01-01 01:00:01.552000+00:00</th>\n",
       "      <td>1640998801552</td>\n",
       "      <td>46655.1</td>\n",
       "      <td>0.000100</td>\n",
       "      <td>sell</td>\n",
       "      <td>okx</td>\n",
       "      <td>2023-05-04 18:34:34.822878+00:00</td>\n",
       "      <td>BTC_USDT</td>\n",
       "      <td>2022</td>\n",
       "      <td>1</td>\n",
       "      <td>1</td>\n",
       "    </tr>\n",
       "    <tr>\n",
       "      <th>2022-01-01 01:00:01.552000+00:00</th>\n",
       "      <td>1640998801552</td>\n",
       "      <td>46655.1</td>\n",
       "      <td>0.000029</td>\n",
       "      <td>sell</td>\n",
       "      <td>okx</td>\n",
       "      <td>2023-05-04 18:34:34.822878+00:00</td>\n",
       "      <td>BTC_USDT</td>\n",
       "      <td>2022</td>\n",
       "      <td>1</td>\n",
       "      <td>1</td>\n",
       "    </tr>\n",
       "    <tr>\n",
       "      <th>2022-01-01 01:00:01.802000+00:00</th>\n",
       "      <td>1640998801802</td>\n",
       "      <td>46655.1</td>\n",
       "      <td>0.000020</td>\n",
       "      <td>sell</td>\n",
       "      <td>okx</td>\n",
       "      <td>2023-05-04 18:34:34.822878+00:00</td>\n",
       "      <td>BTC_USDT</td>\n",
       "      <td>2022</td>\n",
       "      <td>1</td>\n",
       "      <td>1</td>\n",
       "    </tr>\n",
       "    <tr>\n",
       "      <th>2022-01-01 01:00:01.802000+00:00</th>\n",
       "      <td>1640998801802</td>\n",
       "      <td>46655.1</td>\n",
       "      <td>0.000037</td>\n",
       "      <td>sell</td>\n",
       "      <td>okx</td>\n",
       "      <td>2023-05-04 18:34:34.822878+00:00</td>\n",
       "      <td>BTC_USDT</td>\n",
       "      <td>2022</td>\n",
       "      <td>1</td>\n",
       "      <td>1</td>\n",
       "    </tr>\n",
       "    <tr>\n",
       "      <th>2022-01-01 01:00:01.802000+00:00</th>\n",
       "      <td>1640998801802</td>\n",
       "      <td>46655.1</td>\n",
       "      <td>0.000025</td>\n",
       "      <td>sell</td>\n",
       "      <td>okx</td>\n",
       "      <td>2023-05-04 18:34:34.822878+00:00</td>\n",
       "      <td>BTC_USDT</td>\n",
       "      <td>2022</td>\n",
       "      <td>1</td>\n",
       "      <td>1</td>\n",
       "    </tr>\n",
       "  </tbody>\n",
       "</table>\n",
       "</div>"
      ],
      "text/plain": [
       "                                      timestamp    price    amount  side exchange_id              knowledge_timestamp currency_pair  year  month  day\n",
       "timestamp                                                                                                                                            \n",
       "2022-01-01 01:00:01.552000+00:00  1640998801552  46655.1  0.000100  sell         okx 2023-05-04 18:34:34.822878+00:00      BTC_USDT  2022      1    1\n",
       "2022-01-01 01:00:01.552000+00:00  1640998801552  46655.1  0.000029  sell         okx 2023-05-04 18:34:34.822878+00:00      BTC_USDT  2022      1    1\n",
       "2022-01-01 01:00:01.802000+00:00  1640998801802  46655.1  0.000020  sell         okx 2023-05-04 18:34:34.822878+00:00      BTC_USDT  2022      1    1\n",
       "2022-01-01 01:00:01.802000+00:00  1640998801802  46655.1  0.000037  sell         okx 2023-05-04 18:34:34.822878+00:00      BTC_USDT  2022      1    1\n",
       "2022-01-01 01:00:01.802000+00:00  1640998801802  46655.1  0.000025  sell         okx 2023-05-04 18:34:34.822878+00:00      BTC_USDT  2022      1    1"
      ]
     },
     "execution_count": 13,
     "metadata": {},
     "output_type": "execute_result"
    }
   ],
   "source": [
    "trades.head()"
   ]
  },
  {
   "cell_type": "markdown",
   "id": "10368c6e",
   "metadata": {},
   "source": [
    "# Fetch trades by CryptoChassisExtractor"
   ]
  },
  {
   "cell_type": "code",
   "execution_count": 8,
   "id": "0ed02952",
   "metadata": {
    "ExecuteTime": {
     "end_time": "2023-04-20T08:46:13.323490Z",
     "start_time": "2023-04-20T08:46:10.070462Z"
    }
   },
   "outputs": [],
   "source": [
    "contract_type = \"futures\"\n",
    "cc_extractor = imvccdexex.CryptoChassisExtractor(contract_type)\n",
    "exchange_id = \"binance\"\n",
    "currency_pair = \"BTC_USDT\"\n",
    "converted_currency_pair = cc_extractor.convert_currency_pair(currency_pair)\n",
    "trades = cc_extractor._download_trades(exchange_id, converted_currency_pair)"
   ]
  },
  {
   "cell_type": "code",
   "execution_count": 9,
   "id": "d40106aa",
   "metadata": {
    "ExecuteTime": {
     "end_time": "2023-04-20T08:46:14.234381Z",
     "start_time": "2023-04-20T08:46:14.198375Z"
    }
   },
   "outputs": [
    {
     "data": {
      "text/html": [
       "<div>\n",
       "<style scoped>\n",
       "    .dataframe tbody tr th:only-of-type {\n",
       "        vertical-align: middle;\n",
       "    }\n",
       "\n",
       "    .dataframe tbody tr th {\n",
       "        vertical-align: top;\n",
       "    }\n",
       "\n",
       "    .dataframe thead th {\n",
       "        text-align: right;\n",
       "    }\n",
       "</style>\n",
       "<table border=\"1\" class=\"dataframe\">\n",
       "  <thead>\n",
       "    <tr style=\"text-align: right;\">\n",
       "      <th></th>\n",
       "      <th>timestamp</th>\n",
       "      <th>price</th>\n",
       "      <th>amount</th>\n",
       "      <th>side</th>\n",
       "    </tr>\n",
       "  </thead>\n",
       "  <tbody>\n",
       "    <tr>\n",
       "      <th>0</th>\n",
       "      <td>1681862400041</td>\n",
       "      <td>30365.9</td>\n",
       "      <td>0.038</td>\n",
       "      <td>sell</td>\n",
       "    </tr>\n",
       "    <tr>\n",
       "      <th>1</th>\n",
       "      <td>1681862400076</td>\n",
       "      <td>30365.8</td>\n",
       "      <td>0.035</td>\n",
       "      <td>buy</td>\n",
       "    </tr>\n",
       "    <tr>\n",
       "      <th>2</th>\n",
       "      <td>1681862400189</td>\n",
       "      <td>30365.9</td>\n",
       "      <td>0.035</td>\n",
       "      <td>sell</td>\n",
       "    </tr>\n",
       "    <tr>\n",
       "      <th>3</th>\n",
       "      <td>1681862400199</td>\n",
       "      <td>30365.8</td>\n",
       "      <td>0.495</td>\n",
       "      <td>buy</td>\n",
       "    </tr>\n",
       "    <tr>\n",
       "      <th>4</th>\n",
       "      <td>1681862400216</td>\n",
       "      <td>30365.9</td>\n",
       "      <td>0.007</td>\n",
       "      <td>sell</td>\n",
       "    </tr>\n",
       "  </tbody>\n",
       "</table>\n",
       "</div>"
      ],
      "text/plain": [
       "       timestamp    price  amount  side\n",
       "0  1681862400041  30365.9   0.038  sell\n",
       "1  1681862400076  30365.8   0.035   buy\n",
       "2  1681862400189  30365.9   0.035  sell\n",
       "3  1681862400199  30365.8   0.495   buy\n",
       "4  1681862400216  30365.9   0.007  sell"
      ]
     },
     "execution_count": 9,
     "metadata": {},
     "output_type": "execute_result"
    }
   ],
   "source": [
    "trades.head()"
   ]
  },
  {
   "cell_type": "markdown",
   "id": "79b5a843",
   "metadata": {},
   "source": [
    "## Manual QA"
   ]
  },
  {
   "cell_type": "code",
   "execution_count": 11,
   "id": "79ad7dfb",
   "metadata": {
    "ExecuteTime": {
     "end_time": "2023-04-20T08:48:00.432365Z",
     "start_time": "2023-04-20T08:48:00.306219Z"
    }
   },
   "outputs": [
    {
     "name": "stdout",
     "output_type": "stream",
     "text": [
      "INFO  Loading dataset schema file: /app/data_schema/dataset_schema_versions/dataset_schema_v3.json\n",
      "INFO  Loaded dataset schema version v3\n"
     ]
    }
   ],
   "source": [
    "signature = \"bulk.manual.downloaded_1min.parquet.trades.futures.v4.crypto_chassis.binance.v1_0_0\"\n",
    "reader = imvcdcimrdc.RawDataReader(signature, stage=\"test\")\n",
    "start_timestamp = pd.Timestamp(\"2023-03-15T01:00:00+00:00\")\n",
    "end_timestamp = pd.Timestamp(\"2023-03-15T02:00:00+00:00\")"
   ]
  },
  {
   "cell_type": "code",
   "execution_count": 12,
   "id": "8580bca2",
   "metadata": {
    "ExecuteTime": {
     "end_time": "2023-04-20T08:48:04.078731Z",
     "start_time": "2023-04-20T08:48:02.498028Z"
    }
   },
   "outputs": [
    {
     "name": "stdout",
     "output_type": "stream",
     "text": [
      "INFO  Loading dataset schema file: /app/data_schema/dataset_schema_versions/dataset_schema_v3.json\n",
      "INFO  Loaded dataset schema version v3\n"
     ]
    },
    {
     "data": {
      "text/html": [
       "<div>\n",
       "<style scoped>\n",
       "    .dataframe tbody tr th:only-of-type {\n",
       "        vertical-align: middle;\n",
       "    }\n",
       "\n",
       "    .dataframe tbody tr th {\n",
       "        vertical-align: top;\n",
       "    }\n",
       "\n",
       "    .dataframe thead th {\n",
       "        text-align: right;\n",
       "    }\n",
       "</style>\n",
       "<table border=\"1\" class=\"dataframe\">\n",
       "  <thead>\n",
       "    <tr style=\"text-align: right;\">\n",
       "      <th></th>\n",
       "      <th>timestamp</th>\n",
       "      <th>price</th>\n",
       "      <th>size</th>\n",
       "      <th>is_buyer_maker</th>\n",
       "      <th>exchange_id</th>\n",
       "      <th>knowledge_timestamp</th>\n",
       "      <th>currency_pair</th>\n",
       "      <th>year</th>\n",
       "      <th>month</th>\n",
       "      <th>day</th>\n",
       "    </tr>\n",
       "    <tr>\n",
       "      <th>timestamp</th>\n",
       "      <th></th>\n",
       "      <th></th>\n",
       "      <th></th>\n",
       "      <th></th>\n",
       "      <th></th>\n",
       "      <th></th>\n",
       "      <th></th>\n",
       "      <th></th>\n",
       "      <th></th>\n",
       "      <th></th>\n",
       "    </tr>\n",
       "  </thead>\n",
       "  <tbody>\n",
       "    <tr>\n",
       "      <th>2023-03-15 01:00:00.240000+00:00</th>\n",
       "      <td>1678842000240</td>\n",
       "      <td>308.88</td>\n",
       "      <td>NaN</td>\n",
       "      <td>NaN</td>\n",
       "      <td>binance</td>\n",
       "      <td>2023-04-20 08:47:42.967231+00:00</td>\n",
       "      <td>BNB_USDT</td>\n",
       "      <td>2023</td>\n",
       "      <td>3</td>\n",
       "      <td>15</td>\n",
       "    </tr>\n",
       "    <tr>\n",
       "      <th>2023-03-15 01:00:00.258000+00:00</th>\n",
       "      <td>1678842000258</td>\n",
       "      <td>308.87</td>\n",
       "      <td>NaN</td>\n",
       "      <td>NaN</td>\n",
       "      <td>binance</td>\n",
       "      <td>2023-04-20 08:47:42.967231+00:00</td>\n",
       "      <td>BNB_USDT</td>\n",
       "      <td>2023</td>\n",
       "      <td>3</td>\n",
       "      <td>15</td>\n",
       "    </tr>\n",
       "    <tr>\n",
       "      <th>2023-03-15 01:00:00.289000+00:00</th>\n",
       "      <td>1678842000289</td>\n",
       "      <td>308.86</td>\n",
       "      <td>NaN</td>\n",
       "      <td>NaN</td>\n",
       "      <td>binance</td>\n",
       "      <td>2023-04-20 08:47:42.967231+00:00</td>\n",
       "      <td>BNB_USDT</td>\n",
       "      <td>2023</td>\n",
       "      <td>3</td>\n",
       "      <td>15</td>\n",
       "    </tr>\n",
       "    <tr>\n",
       "      <th>2023-03-15 01:00:00.511000+00:00</th>\n",
       "      <td>1678842000511</td>\n",
       "      <td>308.86</td>\n",
       "      <td>NaN</td>\n",
       "      <td>NaN</td>\n",
       "      <td>binance</td>\n",
       "      <td>2023-04-20 08:47:42.967231+00:00</td>\n",
       "      <td>BNB_USDT</td>\n",
       "      <td>2023</td>\n",
       "      <td>3</td>\n",
       "      <td>15</td>\n",
       "    </tr>\n",
       "    <tr>\n",
       "      <th>2023-03-15 01:00:00.668000+00:00</th>\n",
       "      <td>1678842000668</td>\n",
       "      <td>308.86</td>\n",
       "      <td>NaN</td>\n",
       "      <td>NaN</td>\n",
       "      <td>binance</td>\n",
       "      <td>2023-04-20 08:47:42.967231+00:00</td>\n",
       "      <td>BNB_USDT</td>\n",
       "      <td>2023</td>\n",
       "      <td>3</td>\n",
       "      <td>15</td>\n",
       "    </tr>\n",
       "  </tbody>\n",
       "</table>\n",
       "</div>"
      ],
      "text/plain": [
       "                                      timestamp   price  size  is_buyer_maker exchange_id              knowledge_timestamp currency_pair  year  month  day\n",
       "timestamp                                                                                                                                                 \n",
       "2023-03-15 01:00:00.240000+00:00  1678842000240  308.88   NaN             NaN     binance 2023-04-20 08:47:42.967231+00:00      BNB_USDT  2023      3   15\n",
       "2023-03-15 01:00:00.258000+00:00  1678842000258  308.87   NaN             NaN     binance 2023-04-20 08:47:42.967231+00:00      BNB_USDT  2023      3   15\n",
       "2023-03-15 01:00:00.289000+00:00  1678842000289  308.86   NaN             NaN     binance 2023-04-20 08:47:42.967231+00:00      BNB_USDT  2023      3   15\n",
       "2023-03-15 01:00:00.511000+00:00  1678842000511  308.86   NaN             NaN     binance 2023-04-20 08:47:42.967231+00:00      BNB_USDT  2023      3   15\n",
       "2023-03-15 01:00:00.668000+00:00  1678842000668  308.86   NaN             NaN     binance 2023-04-20 08:47:42.967231+00:00      BNB_USDT  2023      3   15"
      ]
     },
     "execution_count": 12,
     "metadata": {},
     "output_type": "execute_result"
    }
   ],
   "source": [
    "trades = reader.read_data(start_timestamp, end_timestamp)\n",
    "trades.head()"
   ]
  },
  {
   "cell_type": "markdown",
   "id": "4a4c91a5",
   "metadata": {
    "heading_collapsed": true
   },
   "source": [
    "# CCXT script bulk download"
   ]
  },
  {
   "cell_type": "code",
   "execution_count": 36,
   "id": "ec97bf95",
   "metadata": {
    "ExecuteTime": {
     "end_time": "2023-03-10T18:42:32.110263Z",
     "start_time": "2023-03-10T18:41:04.212483Z"
    },
    "hidden": true
   },
   "outputs": [
    {
     "name": "stdout",
     "output_type": "stream",
     "text": [
      "\u001b[0m\u001b[36mINFO\u001b[0m: > cmd='/app/im_v2/common/data/extract/download_bulk.py --download_mode bulk --downloading_entity manual --action_tag downloaded_1min --vendor ccxt --start_timestamp 2023-02-05T01:00:00+00:00 --end_timestamp 2023-02-05T02:00:00+00:00 --exchange_id binance --incremental --universe v7.3 --aws_profile ck --data_type trades --data_format parquet --contract_type futures --s3_path s3://cryptokaizen-data-test/'\n",
      "report_memory_usage=False report_cpu_usage=False\n",
      "\u001b[36mINFO\u001b[0m: Saving log to file '/app/im_v2/common/data/extract/download_bulk.py.log'\n",
      "13:41:07 - \u001b[36mINFO \u001b[0m dataset_schema_utils.py _get_dataset_schema_file_path:39 Loading dataset schema file: /app/data_schema/dataset_schema_versions/dataset_schema_v3.json\n",
      "13:41:07 - \u001b[36mINFO \u001b[0m dataset_schema_utils.py get_dataset_schema:74          Loaded dataset schema version v3\n",
      "13:41:18 - \u001b[36mINFO \u001b[0m extract_utils.py download_historical_data:733          Saving the dataset into s3://cryptokaizen-data-test/v3/bulk/manual/downloaded_1min/parquet/trades/futures/v7_3/ccxt/binance/v1_0_0\n",
      "13:41:29 - \u001b[36mINFO \u001b[0m extract_utils.py download_historical_data:733          Saving the dataset into s3://cryptokaizen-data-test/v3/bulk/manual/downloaded_1min/parquet/trades/futures/v7_3/ccxt/binance/v1_0_0\n",
      "13:41:31 - \u001b[36mINFO \u001b[0m extract_utils.py download_historical_data:733          Saving the dataset into s3://cryptokaizen-data-test/v3/bulk/manual/downloaded_1min/parquet/trades/futures/v7_3/ccxt/binance/v1_0_0\n",
      "13:41:32 - \u001b[36mINFO \u001b[0m extract_utils.py download_historical_data:733          Saving the dataset into s3://cryptokaizen-data-test/v3/bulk/manual/downloaded_1min/parquet/trades/futures/v7_3/ccxt/binance/v1_0_0\n",
      "13:41:34 - \u001b[36mINFO \u001b[0m extract_utils.py download_historical_data:733          Saving the dataset into s3://cryptokaizen-data-test/v3/bulk/manual/downloaded_1min/parquet/trades/futures/v7_3/ccxt/binance/v1_0_0\n",
      "13:41:37 - \u001b[36mINFO \u001b[0m extract_utils.py download_historical_data:733          Saving the dataset into s3://cryptokaizen-data-test/v3/bulk/manual/downloaded_1min/parquet/trades/futures/v7_3/ccxt/binance/v1_0_0\n",
      "13:41:40 - \u001b[36mINFO \u001b[0m extract_utils.py download_historical_data:733          Saving the dataset into s3://cryptokaizen-data-test/v3/bulk/manual/downloaded_1min/parquet/trades/futures/v7_3/ccxt/binance/v1_0_0\n",
      "13:41:42 - \u001b[36mINFO \u001b[0m extract_utils.py download_historical_data:733          Saving the dataset into s3://cryptokaizen-data-test/v3/bulk/manual/downloaded_1min/parquet/trades/futures/v7_3/ccxt/binance/v1_0_0\n",
      "13:41:45 - \u001b[36mINFO \u001b[0m extract_utils.py download_historical_data:733          Saving the dataset into s3://cryptokaizen-data-test/v3/bulk/manual/downloaded_1min/parquet/trades/futures/v7_3/ccxt/binance/v1_0_0\n",
      "13:41:53 - \u001b[36mINFO \u001b[0m extract_utils.py download_historical_data:733          Saving the dataset into s3://cryptokaizen-data-test/v3/bulk/manual/downloaded_1min/parquet/trades/futures/v7_3/ccxt/binance/v1_0_0\n",
      "13:41:55 - \u001b[36mINFO \u001b[0m extract_utils.py download_historical_data:733          Saving the dataset into s3://cryptokaizen-data-test/v3/bulk/manual/downloaded_1min/parquet/trades/futures/v7_3/ccxt/binance/v1_0_0\n",
      "13:41:56 - \u001b[36mINFO \u001b[0m extract_utils.py download_historical_data:733          Saving the dataset into s3://cryptokaizen-data-test/v3/bulk/manual/downloaded_1min/parquet/trades/futures/v7_3/ccxt/binance/v1_0_0\n",
      "13:41:58 - \u001b[36mINFO \u001b[0m extract_utils.py download_historical_data:733          Saving the dataset into s3://cryptokaizen-data-test/v3/bulk/manual/downloaded_1min/parquet/trades/futures/v7_3/ccxt/binance/v1_0_0\n",
      "13:42:00 - \u001b[36mINFO \u001b[0m extract_utils.py download_historical_data:733          Saving the dataset into s3://cryptokaizen-data-test/v3/bulk/manual/downloaded_1min/parquet/trades/futures/v7_3/ccxt/binance/v1_0_0\n",
      "13:42:01 - \u001b[36mINFO \u001b[0m extract_utils.py download_historical_data:733          Saving the dataset into s3://cryptokaizen-data-test/v3/bulk/manual/downloaded_1min/parquet/trades/futures/v7_3/ccxt/binance/v1_0_0\n",
      "13:42:02 - \u001b[36mINFO \u001b[0m extract_utils.py download_historical_data:733          Saving the dataset into s3://cryptokaizen-data-test/v3/bulk/manual/downloaded_1min/parquet/trades/futures/v7_3/ccxt/binance/v1_0_0\n",
      "13:42:07 - \u001b[36mINFO \u001b[0m extract_utils.py download_historical_data:733          Saving the dataset into s3://cryptokaizen-data-test/v3/bulk/manual/downloaded_1min/parquet/trades/futures/v7_3/ccxt/binance/v1_0_0\n",
      "13:42:09 - \u001b[36mINFO \u001b[0m extract_utils.py download_historical_data:733          Saving the dataset into s3://cryptokaizen-data-test/v3/bulk/manual/downloaded_1min/parquet/trades/futures/v7_3/ccxt/binance/v1_0_0\n",
      "13:42:13 - \u001b[36mINFO \u001b[0m extract_utils.py download_historical_data:733          Saving the dataset into s3://cryptokaizen-data-test/v3/bulk/manual/downloaded_1min/parquet/trades/futures/v7_3/ccxt/binance/v1_0_0\n",
      "13:42:19 - \u001b[36mINFO \u001b[0m extract_utils.py download_historical_data:733          Saving the dataset into s3://cryptokaizen-data-test/v3/bulk/manual/downloaded_1min/parquet/trades/futures/v7_3/ccxt/binance/v1_0_0\n",
      "13:42:21 - \u001b[36mINFO \u001b[0m extract_utils.py download_historical_data:733          Saving the dataset into s3://cryptokaizen-data-test/v3/bulk/manual/downloaded_1min/parquet/trades/futures/v7_3/ccxt/binance/v1_0_0\n",
      "13:42:22 - \u001b[36mINFO \u001b[0m extract_utils.py download_historical_data:733          Saving the dataset into s3://cryptokaizen-data-test/v3/bulk/manual/downloaded_1min/parquet/trades/futures/v7_3/ccxt/binance/v1_0_0\n",
      "13:42:26 - \u001b[36mINFO \u001b[0m extract_utils.py download_historical_data:733          Saving the dataset into s3://cryptokaizen-data-test/v3/bulk/manual/downloaded_1min/parquet/trades/futures/v7_3/ccxt/binance/v1_0_0\n",
      "13:42:30 - \u001b[36mINFO \u001b[0m extract_utils.py download_historical_data:733          Saving the dataset into s3://cryptokaizen-data-test/v3/bulk/manual/downloaded_1min/parquet/trades/futures/v7_3/ccxt/binance/v1_0_0\n",
      "13:42:31 - \u001b[36mINFO \u001b[0m extract_utils.py download_historical_data:733          Saving the dataset into s3://cryptokaizen-data-test/v3/bulk/manual/downloaded_1min/parquet/trades/futures/v7_3/ccxt/binance/v1_0_0\n",
      "13:42:31 - \u001b[36mINFO \u001b[0m hcache.py clear_global_cache:292                       Before clear_global_cache: 'global mem' cache: path='/mnt/tmpfs/tmp.cache.mem', size=32.0 KB\n",
      "13:42:31 - \u001b[41mWARN \u001b[0m hcache.py clear_global_cache:293                       Resetting 'global mem' cache '/mnt/tmpfs/tmp.cache.mem'\n",
      "13:42:31 - \u001b[41mWARN \u001b[0m hcache.py clear_global_cache:303                       Destroying '/mnt/tmpfs/tmp.cache.mem' ...\n",
      "13:42:31 - \u001b[36mINFO \u001b[0m hcache.py clear_global_cache:319                       After clear_global_cache: 'global mem' cache: path='/mnt/tmpfs/tmp.cache.mem', size=nan\n"
     ]
    }
   ],
   "source": [
    "%%bash\n",
    "/app/im_v2/common/data/extract/download_bulk.py \\\n",
    "    --download_mode 'bulk' \\\n",
    "    --downloading_entity 'manual' \\\n",
    "    --action_tag 'downloaded_1min' \\\n",
    "    --vendor 'ccxt' \\\n",
    "    --start_timestamp '2023-02-05T01:00:00+00:00' \\\n",
    "    --end_timestamp '2023-02-05T02:00:00+00:00' \\\n",
    "    --exchange_id 'binance' \\\n",
    "    --incremental \\\n",
    "    --universe 'v7.3' \\\n",
    "    --aws_profile 'ck' \\\n",
    "    --data_type 'trades' \\\n",
    "    --data_format 'parquet' \\\n",
    "    --contract_type 'futures' \\\n",
    "    --s3_path 's3://cryptokaizen-data-test/'"
   ]
  },
  {
   "cell_type": "markdown",
   "id": "a34dcd79",
   "metadata": {},
   "source": [
    "# Compare trades crypto_chassis vs CCXT"
   ]
  },
  {
   "cell_type": "code",
   "execution_count": 38,
   "id": "c9f26dfc",
   "metadata": {
    "ExecuteTime": {
     "end_time": "2023-05-02T09:03:52.074115Z",
     "start_time": "2023-05-02T09:03:52.030425Z"
    }
   },
   "outputs": [
    {
     "name": "stdout",
     "output_type": "stream",
     "text": [
      "INFO  Loading dataset schema file: /app/data_schema/dataset_schema_versions/dataset_schema_v3.json\n",
      "INFO  Loaded dataset schema version v3\n"
     ]
    }
   ],
   "source": [
    "signature = \"bulk.airflow.downloaded_1min.parquet.trades.futures.v4.crypto_chassis.binance.v1_0_0\"\n",
    "reader = imvcdcimrdc.RawDataReader(signature, stage=\"test\")\n",
    "start_timestamp = pd.Timestamp(\"2023-03-15T01:00:00+00:00\")\n",
    "end_timestamp = pd.Timestamp(\"2023-03-15T02:00:00+00:00\")"
   ]
  },
  {
   "cell_type": "code",
   "execution_count": 39,
   "id": "93317810",
   "metadata": {
    "ExecuteTime": {
     "end_time": "2023-05-02T09:03:53.662021Z",
     "start_time": "2023-05-02T09:03:52.727386Z"
    }
   },
   "outputs": [
    {
     "name": "stdout",
     "output_type": "stream",
     "text": [
      "INFO  Loading dataset schema file: /app/data_schema/dataset_schema_versions/dataset_schema_v3.json\n",
      "INFO  Loaded dataset schema version v3\n"
     ]
    }
   ],
   "source": [
    "crypto_chassis_trades = reader.read_data(start_timestamp, end_timestamp)"
   ]
  },
  {
   "cell_type": "code",
   "execution_count": 40,
   "id": "7feca944",
   "metadata": {
    "ExecuteTime": {
     "end_time": "2023-05-02T09:03:54.762221Z",
     "start_time": "2023-05-02T09:03:54.718977Z"
    }
   },
   "outputs": [
    {
     "data": {
      "text/html": [
       "<div>\n",
       "<style scoped>\n",
       "    .dataframe tbody tr th:only-of-type {\n",
       "        vertical-align: middle;\n",
       "    }\n",
       "\n",
       "    .dataframe tbody tr th {\n",
       "        vertical-align: top;\n",
       "    }\n",
       "\n",
       "    .dataframe thead th {\n",
       "        text-align: right;\n",
       "    }\n",
       "</style>\n",
       "<table border=\"1\" class=\"dataframe\">\n",
       "  <thead>\n",
       "    <tr style=\"text-align: right;\">\n",
       "      <th></th>\n",
       "      <th>timestamp</th>\n",
       "      <th>price</th>\n",
       "      <th>amount</th>\n",
       "      <th>side</th>\n",
       "      <th>exchange_id</th>\n",
       "      <th>knowledge_timestamp</th>\n",
       "      <th>currency_pair</th>\n",
       "      <th>year</th>\n",
       "      <th>month</th>\n",
       "      <th>day</th>\n",
       "    </tr>\n",
       "    <tr>\n",
       "      <th>timestamp</th>\n",
       "      <th></th>\n",
       "      <th></th>\n",
       "      <th></th>\n",
       "      <th></th>\n",
       "      <th></th>\n",
       "      <th></th>\n",
       "      <th></th>\n",
       "      <th></th>\n",
       "      <th></th>\n",
       "      <th></th>\n",
       "    </tr>\n",
       "  </thead>\n",
       "  <tbody>\n",
       "    <tr>\n",
       "      <th>2023-03-15 01:00:00.240000+00:00</th>\n",
       "      <td>1678842000240</td>\n",
       "      <td>308.88</td>\n",
       "      <td>8.04</td>\n",
       "      <td>buy</td>\n",
       "      <td>binance</td>\n",
       "      <td>2023-05-02 09:01:51.217372+00:00</td>\n",
       "      <td>BNB_USDT</td>\n",
       "      <td>2023</td>\n",
       "      <td>3</td>\n",
       "      <td>15</td>\n",
       "    </tr>\n",
       "    <tr>\n",
       "      <th>2023-03-15 01:00:00.258000+00:00</th>\n",
       "      <td>1678842000258</td>\n",
       "      <td>308.87</td>\n",
       "      <td>0.88</td>\n",
       "      <td>sell</td>\n",
       "      <td>binance</td>\n",
       "      <td>2023-05-02 09:01:51.217372+00:00</td>\n",
       "      <td>BNB_USDT</td>\n",
       "      <td>2023</td>\n",
       "      <td>3</td>\n",
       "      <td>15</td>\n",
       "    </tr>\n",
       "    <tr>\n",
       "      <th>2023-03-15 01:00:00.289000+00:00</th>\n",
       "      <td>1678842000289</td>\n",
       "      <td>308.86</td>\n",
       "      <td>0.09</td>\n",
       "      <td>buy</td>\n",
       "      <td>binance</td>\n",
       "      <td>2023-05-02 09:01:51.217372+00:00</td>\n",
       "      <td>BNB_USDT</td>\n",
       "      <td>2023</td>\n",
       "      <td>3</td>\n",
       "      <td>15</td>\n",
       "    </tr>\n",
       "    <tr>\n",
       "      <th>2023-03-15 01:00:00.511000+00:00</th>\n",
       "      <td>1678842000511</td>\n",
       "      <td>308.86</td>\n",
       "      <td>0.59</td>\n",
       "      <td>buy</td>\n",
       "      <td>binance</td>\n",
       "      <td>2023-05-02 09:01:51.217372+00:00</td>\n",
       "      <td>BNB_USDT</td>\n",
       "      <td>2023</td>\n",
       "      <td>3</td>\n",
       "      <td>15</td>\n",
       "    </tr>\n",
       "    <tr>\n",
       "      <th>2023-03-15 01:00:00.668000+00:00</th>\n",
       "      <td>1678842000668</td>\n",
       "      <td>308.86</td>\n",
       "      <td>2.81</td>\n",
       "      <td>buy</td>\n",
       "      <td>binance</td>\n",
       "      <td>2023-05-02 09:01:51.217372+00:00</td>\n",
       "      <td>BNB_USDT</td>\n",
       "      <td>2023</td>\n",
       "      <td>3</td>\n",
       "      <td>15</td>\n",
       "    </tr>\n",
       "  </tbody>\n",
       "</table>\n",
       "</div>"
      ],
      "text/plain": [
       "                                      timestamp   price  amount  side exchange_id              knowledge_timestamp currency_pair  year  month  day\n",
       "timestamp                                                                                                                                         \n",
       "2023-03-15 01:00:00.240000+00:00  1678842000240  308.88    8.04   buy     binance 2023-05-02 09:01:51.217372+00:00      BNB_USDT  2023      3   15\n",
       "2023-03-15 01:00:00.258000+00:00  1678842000258  308.87    0.88  sell     binance 2023-05-02 09:01:51.217372+00:00      BNB_USDT  2023      3   15\n",
       "2023-03-15 01:00:00.289000+00:00  1678842000289  308.86    0.09   buy     binance 2023-05-02 09:01:51.217372+00:00      BNB_USDT  2023      3   15\n",
       "2023-03-15 01:00:00.511000+00:00  1678842000511  308.86    0.59   buy     binance 2023-05-02 09:01:51.217372+00:00      BNB_USDT  2023      3   15\n",
       "2023-03-15 01:00:00.668000+00:00  1678842000668  308.86    2.81   buy     binance 2023-05-02 09:01:51.217372+00:00      BNB_USDT  2023      3   15"
      ]
     },
     "execution_count": 40,
     "metadata": {},
     "output_type": "execute_result"
    }
   ],
   "source": [
    "crypto_chassis_trades.head()"
   ]
  },
  {
   "cell_type": "code",
   "execution_count": 33,
   "id": "5db19afd",
   "metadata": {
    "ExecuteTime": {
     "end_time": "2023-05-01T19:43:52.103163Z",
     "start_time": "2023-05-01T19:43:52.069938Z"
    }
   },
   "outputs": [
    {
     "data": {
      "text/plain": [
       "Index(['timestamp', 'price', 'amount', 'side', 'exchange_id', 'knowledge_timestamp', 'currency_pair', 'year', 'month', 'day'], dtype='object')"
      ]
     },
     "execution_count": 33,
     "metadata": {},
     "output_type": "execute_result"
    }
   ],
   "source": [
    "crypto_chassis_trades.columns"
   ]
  },
  {
   "cell_type": "code",
   "execution_count": 42,
   "id": "cc880156",
   "metadata": {
    "ExecuteTime": {
     "end_time": "2023-03-10T18:48:42.811575Z",
     "start_time": "2023-03-10T18:48:42.772527Z"
    }
   },
   "outputs": [],
   "source": [
    "crypto_chassis_trades = crypto_chassis_trades.rename(columns={\"size\": \"amount\"})"
   ]
  },
  {
   "cell_type": "code",
   "execution_count": 44,
   "id": "9714044e",
   "metadata": {
    "ExecuteTime": {
     "end_time": "2023-03-10T18:52:17.718351Z",
     "start_time": "2023-03-10T18:52:17.679023Z"
    }
   },
   "outputs": [],
   "source": [
    "crypto_chassis_trades = crypto_chassis_trades[\n",
    "    [\"timestamp\", \"price\", \"amount\", \"side\", \"currency_pair\"]\n",
    "]"
   ]
  },
  {
   "cell_type": "code",
   "execution_count": 54,
   "id": "6eaf838f",
   "metadata": {
    "ExecuteTime": {
     "end_time": "2023-03-10T18:58:31.777750Z",
     "start_time": "2023-03-10T18:58:31.707178Z"
    }
   },
   "outputs": [
    {
     "data": {
      "text/html": [
       "<div>\n",
       "<style scoped>\n",
       "    .dataframe tbody tr th:only-of-type {\n",
       "        vertical-align: middle;\n",
       "    }\n",
       "\n",
       "    .dataframe tbody tr th {\n",
       "        vertical-align: top;\n",
       "    }\n",
       "\n",
       "    .dataframe thead th {\n",
       "        text-align: right;\n",
       "    }\n",
       "</style>\n",
       "<table border=\"1\" class=\"dataframe\">\n",
       "  <thead>\n",
       "    <tr style=\"text-align: right;\">\n",
       "      <th></th>\n",
       "      <th>timestamp</th>\n",
       "      <th>price</th>\n",
       "      <th>amount</th>\n",
       "      <th>side</th>\n",
       "      <th>currency_pair</th>\n",
       "    </tr>\n",
       "    <tr>\n",
       "      <th>timestamp</th>\n",
       "      <th></th>\n",
       "      <th></th>\n",
       "      <th></th>\n",
       "      <th></th>\n",
       "      <th></th>\n",
       "    </tr>\n",
       "  </thead>\n",
       "  <tbody>\n",
       "    <tr>\n",
       "      <th>2023-02-05 01:00:00.010000+00:00</th>\n",
       "      <td>1675558800010</td>\n",
       "      <td>23287.5000</td>\n",
       "      <td>4.953</td>\n",
       "      <td>sell</td>\n",
       "      <td>BTC_USDT</td>\n",
       "    </tr>\n",
       "    <tr>\n",
       "      <th>2023-02-05 01:00:00.026000+00:00</th>\n",
       "      <td>1675558800026</td>\n",
       "      <td>0.4092</td>\n",
       "      <td>21.900</td>\n",
       "      <td>buy</td>\n",
       "      <td>XRP_USDT</td>\n",
       "    </tr>\n",
       "    <tr>\n",
       "      <th>2023-02-05 01:00:00.026000+00:00</th>\n",
       "      <td>1675558800026</td>\n",
       "      <td>0.4093</td>\n",
       "      <td>487.100</td>\n",
       "      <td>sell</td>\n",
       "      <td>XRP_USDT</td>\n",
       "    </tr>\n",
       "    <tr>\n",
       "      <th>2023-02-05 01:00:00.062000+00:00</th>\n",
       "      <td>1675558800062</td>\n",
       "      <td>24.1800</td>\n",
       "      <td>111.000</td>\n",
       "      <td>sell</td>\n",
       "      <td>SOL_USDT</td>\n",
       "    </tr>\n",
       "    <tr>\n",
       "      <th>2023-02-05 01:00:00.063000+00:00</th>\n",
       "      <td>1675558800063</td>\n",
       "      <td>23287.8000</td>\n",
       "      <td>0.904</td>\n",
       "      <td>sell</td>\n",
       "      <td>BTC_USDT</td>\n",
       "    </tr>\n",
       "  </tbody>\n",
       "</table>\n",
       "</div>"
      ],
      "text/plain": [
       "                                      timestamp       price   amount  side currency_pair\n",
       "timestamp                                                                               \n",
       "2023-02-05 01:00:00.010000+00:00  1675558800010  23287.5000    4.953  sell      BTC_USDT\n",
       "2023-02-05 01:00:00.026000+00:00  1675558800026      0.4092   21.900   buy      XRP_USDT\n",
       "2023-02-05 01:00:00.026000+00:00  1675558800026      0.4093  487.100  sell      XRP_USDT\n",
       "2023-02-05 01:00:00.062000+00:00  1675558800062     24.1800  111.000  sell      SOL_USDT\n",
       "2023-02-05 01:00:00.063000+00:00  1675558800063  23287.8000    0.904  sell      BTC_USDT"
      ]
     },
     "execution_count": 54,
     "metadata": {},
     "output_type": "execute_result"
    }
   ],
   "source": [
    "crypto_chassis_trades = crypto_chassis_trades.drop_duplicates().sort_index()"
   ]
  },
  {
   "cell_type": "code",
   "execution_count": 47,
   "id": "8eda30ef",
   "metadata": {
    "ExecuteTime": {
     "end_time": "2023-03-10T18:53:04.886777Z",
     "start_time": "2023-03-10T18:53:03.286111Z"
    },
    "lines_to_next_cell": 2
   },
   "outputs": [
    {
     "name": "stdout",
     "output_type": "stream",
     "text": [
      "INFO  Loading dataset schema file: /app/data_schema/dataset_schema_versions/dataset_schema_v3.json\n",
      "INFO  Loaded dataset schema version v3\n",
      "INFO  Loading dataset schema file: /app/data_schema/dataset_schema_versions/dataset_schema_v3.json\n",
      "INFO  Loaded dataset schema version v3\n"
     ]
    }
   ],
   "source": [
    "signature = (\n",
    "    \"bulk.manual.downloaded_1min.parquet.trades.futures.v7_3.ccxt.binance.v1_0_0\"\n",
    ")\n",
    "reader = imvcdcimrdc.RawDataReader(signature, stage=\"test\")\n",
    "start_timestamp = pd.Timestamp(\"2023-02-05T01:00:00+00:00\")\n",
    "end_timestamp = pd.Timestamp(\"2023-02-05T02:00:00+00:00\")\n",
    "\n",
    "ccxt_trades = reader.read_data(start_timestamp, end_timestamp)"
   ]
  },
  {
   "cell_type": "code",
   "execution_count": 48,
   "id": "03ff38fc",
   "metadata": {
    "ExecuteTime": {
     "end_time": "2023-03-10T18:53:14.250640Z",
     "start_time": "2023-03-10T18:53:14.214615Z"
    }
   },
   "outputs": [],
   "source": [
    "ccxt_trades = ccxt_trades[\n",
    "    [\"timestamp\", \"price\", \"amount\", \"side\", \"currency_pair\"]\n",
    "]"
   ]
  },
  {
   "cell_type": "code",
   "execution_count": 55,
   "id": "061b4db5",
   "metadata": {
    "ExecuteTime": {
     "end_time": "2023-03-10T18:58:52.203968Z",
     "start_time": "2023-03-10T18:58:52.124498Z"
    }
   },
   "outputs": [
    {
     "data": {
      "text/html": [
       "<div>\n",
       "<style scoped>\n",
       "    .dataframe tbody tr th:only-of-type {\n",
       "        vertical-align: middle;\n",
       "    }\n",
       "\n",
       "    .dataframe tbody tr th {\n",
       "        vertical-align: top;\n",
       "    }\n",
       "\n",
       "    .dataframe thead th {\n",
       "        text-align: right;\n",
       "    }\n",
       "</style>\n",
       "<table border=\"1\" class=\"dataframe\">\n",
       "  <thead>\n",
       "    <tr style=\"text-align: right;\">\n",
       "      <th></th>\n",
       "      <th>timestamp</th>\n",
       "      <th>price</th>\n",
       "      <th>amount</th>\n",
       "      <th>side</th>\n",
       "      <th>currency_pair</th>\n",
       "    </tr>\n",
       "    <tr>\n",
       "      <th>timestamp</th>\n",
       "      <th></th>\n",
       "      <th></th>\n",
       "      <th></th>\n",
       "      <th></th>\n",
       "      <th></th>\n",
       "    </tr>\n",
       "  </thead>\n",
       "  <tbody>\n",
       "    <tr>\n",
       "      <th>2023-02-05 01:00:00.010000+00:00</th>\n",
       "      <td>1675558800010</td>\n",
       "      <td>23287.5000</td>\n",
       "      <td>4.953</td>\n",
       "      <td>buy</td>\n",
       "      <td>BTC_USDT</td>\n",
       "    </tr>\n",
       "    <tr>\n",
       "      <th>2023-02-05 01:00:00.026000+00:00</th>\n",
       "      <td>1675558800026</td>\n",
       "      <td>0.4093</td>\n",
       "      <td>487.100</td>\n",
       "      <td>buy</td>\n",
       "      <td>XRP_USDT</td>\n",
       "    </tr>\n",
       "    <tr>\n",
       "      <th>2023-02-05 01:00:00.026000+00:00</th>\n",
       "      <td>1675558800026</td>\n",
       "      <td>0.4092</td>\n",
       "      <td>21.900</td>\n",
       "      <td>sell</td>\n",
       "      <td>XRP_USDT</td>\n",
       "    </tr>\n",
       "    <tr>\n",
       "      <th>2023-02-05 01:00:00.062000+00:00</th>\n",
       "      <td>1675558800062</td>\n",
       "      <td>24.1800</td>\n",
       "      <td>111.000</td>\n",
       "      <td>buy</td>\n",
       "      <td>SOL_USDT</td>\n",
       "    </tr>\n",
       "    <tr>\n",
       "      <th>2023-02-05 01:00:00.063000+00:00</th>\n",
       "      <td>1675558800063</td>\n",
       "      <td>23287.6000</td>\n",
       "      <td>3.001</td>\n",
       "      <td>buy</td>\n",
       "      <td>BTC_USDT</td>\n",
       "    </tr>\n",
       "  </tbody>\n",
       "</table>\n",
       "</div>"
      ],
      "text/plain": [
       "                                      timestamp       price   amount  side currency_pair\n",
       "timestamp                                                                               \n",
       "2023-02-05 01:00:00.010000+00:00  1675558800010  23287.5000    4.953   buy      BTC_USDT\n",
       "2023-02-05 01:00:00.026000+00:00  1675558800026      0.4093  487.100   buy      XRP_USDT\n",
       "2023-02-05 01:00:00.026000+00:00  1675558800026      0.4092   21.900  sell      XRP_USDT\n",
       "2023-02-05 01:00:00.062000+00:00  1675558800062     24.1800  111.000   buy      SOL_USDT\n",
       "2023-02-05 01:00:00.063000+00:00  1675558800063  23287.6000    3.001   buy      BTC_USDT"
      ]
     },
     "execution_count": 55,
     "metadata": {},
     "output_type": "execute_result"
    }
   ],
   "source": [
    "ccxt_trades = ccxt_trades.drop_duplicates().sort_index()"
   ]
  },
  {
   "cell_type": "code",
   "execution_count": 56,
   "id": "1adce720",
   "metadata": {
    "ExecuteTime": {
     "end_time": "2023-03-10T19:00:24.784368Z",
     "start_time": "2023-03-10T19:00:24.751522Z"
    }
   },
   "outputs": [
    {
     "data": {
      "text/plain": [
       "False"
      ]
     },
     "execution_count": 56,
     "metadata": {},
     "output_type": "execute_result"
    }
   ],
   "source": [
    "ccxt_trades.equals(crypto_chassis_trades)"
   ]
  },
  {
   "cell_type": "code",
   "execution_count": 64,
   "id": "42db8cec",
   "metadata": {
    "ExecuteTime": {
     "end_time": "2023-03-10T19:02:56.172282Z",
     "start_time": "2023-03-10T19:02:56.138303Z"
    }
   },
   "outputs": [
    {
     "data": {
      "text/plain": [
       "True"
      ]
     },
     "execution_count": 64,
     "metadata": {},
     "output_type": "execute_result"
    }
   ],
   "source": [
    "ccxt_trades.index.name == crypto_chassis_trades.index.name"
   ]
  },
  {
   "cell_type": "code",
   "execution_count": 65,
   "id": "8b4c05ca",
   "metadata": {
    "ExecuteTime": {
     "end_time": "2023-03-10T19:03:17.153849Z",
     "start_time": "2023-03-10T19:03:17.120733Z"
    }
   },
   "outputs": [
    {
     "data": {
      "text/plain": [
       "array([ True,  True,  True,  True,  True])"
      ]
     },
     "execution_count": 65,
     "metadata": {},
     "output_type": "execute_result"
    }
   ],
   "source": [
    "ccxt_trades.columns == crypto_chassis_trades.columns"
   ]
  },
  {
   "cell_type": "code",
   "execution_count": 72,
   "id": "770f346d",
   "metadata": {
    "ExecuteTime": {
     "end_time": "2023-03-10T19:08:41.689069Z",
     "start_time": "2023-03-10T19:08:41.648461Z"
    }
   },
   "outputs": [],
   "source": [
    "crypto_chassis_trades.sort_index(inplace=True)"
   ]
  },
  {
   "cell_type": "code",
   "execution_count": 73,
   "id": "41257066",
   "metadata": {
    "ExecuteTime": {
     "end_time": "2023-03-10T19:08:50.036589Z",
     "start_time": "2023-03-10T19:08:49.989675Z"
    }
   },
   "outputs": [],
   "source": [
    "ccxt_trades.sort_index(inplace=True)"
   ]
  },
  {
   "cell_type": "code",
   "execution_count": 100,
   "id": "e498bb39",
   "metadata": {
    "ExecuteTime": {
     "end_time": "2023-03-10T19:24:39.034244Z",
     "start_time": "2023-03-10T19:24:39.001859Z"
    }
   },
   "outputs": [
    {
     "data": {
      "text/plain": [
       "(61812, 5)"
      ]
     },
     "execution_count": 100,
     "metadata": {},
     "output_type": "execute_result"
    }
   ],
   "source": [
    "ccxt_trades.shape"
   ]
  },
  {
   "cell_type": "code",
   "execution_count": 101,
   "id": "6bf6aebe",
   "metadata": {
    "ExecuteTime": {
     "end_time": "2023-03-10T19:24:40.184931Z",
     "start_time": "2023-03-10T19:24:40.151965Z"
    }
   },
   "outputs": [
    {
     "data": {
      "text/plain": [
       "(123624, 5)"
      ]
     },
     "execution_count": 101,
     "metadata": {},
     "output_type": "execute_result"
    }
   ],
   "source": [
    "crypto_chassis_trades.shape"
   ]
  },
  {
   "cell_type": "code",
   "execution_count": 91,
   "id": "9e7af81f",
   "metadata": {
    "ExecuteTime": {
     "end_time": "2023-03-10T19:16:41.962829Z",
     "start_time": "2023-03-10T19:16:41.928448Z"
    }
   },
   "outputs": [
    {
     "data": {
      "text/plain": [
       "min   2023-02-05 01:00:00.010\n",
       "max   2023-02-05 01:59:59.824\n",
       "Name: timestamp, dtype: datetime64[ns]"
      ]
     },
     "execution_count": 91,
     "metadata": {},
     "output_type": "execute_result"
    }
   ],
   "source": [
    "crypto_chassis_trades.timestamp.agg([\"min\", \"max\"]).apply(pd.Timestamp, unit=\"ms\")"
   ]
  },
  {
   "cell_type": "code",
   "execution_count": 92,
   "id": "fc7b8f14",
   "metadata": {
    "ExecuteTime": {
     "end_time": "2023-03-10T19:16:42.264669Z",
     "start_time": "2023-03-10T19:16:42.229989Z"
    }
   },
   "outputs": [
    {
     "data": {
      "text/plain": [
       "min   2023-02-05 01:00:00.010\n",
       "max   2023-02-05 01:59:59.824\n",
       "Name: timestamp, dtype: datetime64[ns]"
      ]
     },
     "execution_count": 92,
     "metadata": {},
     "output_type": "execute_result"
    }
   ],
   "source": [
    "ccxt_trades.timestamp.agg([\"min\", \"max\"]).apply(pd.Timestamp, unit=\"ms\")"
   ]
  },
  {
   "cell_type": "code",
   "execution_count": 89,
   "id": "48f0fa53",
   "metadata": {
    "ExecuteTime": {
     "end_time": "2023-03-10T19:16:30.159995Z",
     "start_time": "2023-03-10T19:16:30.120387Z"
    }
   },
   "outputs": [],
   "source": [
    "ccxt_trades = ccxt_trades[\n",
    "    ccxt_trades.timestamp <= crypto_chassis_trades.timestamp.max()\n",
    "]"
   ]
  },
  {
   "cell_type": "code",
   "execution_count": 102,
   "id": "8746e242",
   "metadata": {
    "ExecuteTime": {
     "end_time": "2023-03-10T19:24:55.845959Z",
     "start_time": "2023-03-10T19:24:55.808019Z"
    }
   },
   "outputs": [
    {
     "data": {
      "text/plain": [
       "array(['BTC_USDT', 'XRP_USDT', 'SOL_USDT', 'DOT_USDT', 'ETH_USDT',\n",
       "       'DOGE_USDT', 'BNB_USDT'], dtype=object)"
      ]
     },
     "execution_count": 102,
     "metadata": {},
     "output_type": "execute_result"
    }
   ],
   "source": [
    "crypto_chassis_trades.currency_pair.unique()"
   ]
  },
  {
   "cell_type": "code",
   "execution_count": 103,
   "id": "b82c8b0e",
   "metadata": {
    "ExecuteTime": {
     "end_time": "2023-03-10T19:24:56.731306Z",
     "start_time": "2023-03-10T19:24:56.695274Z"
    }
   },
   "outputs": [
    {
     "data": {
      "text/plain": [
       "array(['BTC_USDT', 'XRP_USDT', 'SOL_USDT', 'DOT_USDT', 'ETH_USDT',\n",
       "       'DOGE_USDT', 'BNB_USDT'], dtype=object)"
      ]
     },
     "execution_count": 103,
     "metadata": {},
     "output_type": "execute_result"
    }
   ],
   "source": [
    "ccxt_trades.currency_pair.unique()"
   ]
  },
  {
   "cell_type": "code",
   "execution_count": 98,
   "id": "994a0079",
   "metadata": {
    "ExecuteTime": {
     "end_time": "2023-03-10T19:24:23.526133Z",
     "start_time": "2023-03-10T19:24:23.481999Z"
    }
   },
   "outputs": [],
   "source": [
    "ccxt_trades = ccxt_trades[\n",
    "    ccxt_trades.currency_pair.isin(crypto_chassis_trades.currency_pair.unique())\n",
    "]"
   ]
  },
  {
   "cell_type": "code",
   "execution_count": 99,
   "id": "dea8f400",
   "metadata": {
    "ExecuteTime": {
     "end_time": "2023-03-10T19:24:29.532175Z",
     "start_time": "2023-03-10T19:24:29.466579Z"
    }
   },
   "outputs": [
    {
     "ename": "ValueError",
     "evalue": "Can only compare identically-labeled DataFrame objects",
     "output_type": "error",
     "traceback": [
      "\u001b[0;31m---------------------------------------------------------------------------\u001b[0m",
      "\u001b[0;31mValueError\u001b[0m                                Traceback (most recent call last)",
      "Cell \u001b[0;32mIn [99], line 1\u001b[0m\n\u001b[0;32m----> 1\u001b[0m \u001b[43mccxt_trades\u001b[49m\u001b[43m \u001b[49m\u001b[38;5;241;43m==\u001b[39;49m\u001b[43m \u001b[49m\u001b[43mcrypto_chassis_trades\u001b[49m\n",
      "File \u001b[0;32m/venv/lib/python3.8/site-packages/pandas/core/ops/common.py:72\u001b[0m, in \u001b[0;36m_unpack_zerodim_and_defer.<locals>.new_method\u001b[0;34m(self, other)\u001b[0m\n\u001b[1;32m     68\u001b[0m             \u001b[38;5;28;01mreturn\u001b[39;00m \u001b[38;5;28mNotImplemented\u001b[39m\n\u001b[1;32m     70\u001b[0m other \u001b[38;5;241m=\u001b[39m item_from_zerodim(other)\n\u001b[0;32m---> 72\u001b[0m \u001b[38;5;28;01mreturn\u001b[39;00m \u001b[43mmethod\u001b[49m\u001b[43m(\u001b[49m\u001b[38;5;28;43mself\u001b[39;49m\u001b[43m,\u001b[49m\u001b[43m \u001b[49m\u001b[43mother\u001b[49m\u001b[43m)\u001b[49m\n",
      "File \u001b[0;32m/venv/lib/python3.8/site-packages/pandas/core/arraylike.py:42\u001b[0m, in \u001b[0;36mOpsMixin.__eq__\u001b[0;34m(self, other)\u001b[0m\n\u001b[1;32m     40\u001b[0m \u001b[38;5;129m@unpack_zerodim_and_defer\u001b[39m(\u001b[38;5;124m\"\u001b[39m\u001b[38;5;124m__eq__\u001b[39m\u001b[38;5;124m\"\u001b[39m)\n\u001b[1;32m     41\u001b[0m \u001b[38;5;28;01mdef\u001b[39;00m \u001b[38;5;21m__eq__\u001b[39m(\u001b[38;5;28mself\u001b[39m, other):\n\u001b[0;32m---> 42\u001b[0m     \u001b[38;5;28;01mreturn\u001b[39;00m \u001b[38;5;28;43mself\u001b[39;49m\u001b[38;5;241;43m.\u001b[39;49m\u001b[43m_cmp_method\u001b[49m\u001b[43m(\u001b[49m\u001b[43mother\u001b[49m\u001b[43m,\u001b[49m\u001b[43m \u001b[49m\u001b[43moperator\u001b[49m\u001b[38;5;241;43m.\u001b[39;49m\u001b[43meq\u001b[49m\u001b[43m)\u001b[49m\n",
      "File \u001b[0;32m/venv/lib/python3.8/site-packages/pandas/core/frame.py:7568\u001b[0m, in \u001b[0;36mDataFrame._cmp_method\u001b[0;34m(self, other, op)\u001b[0m\n\u001b[1;32m   7565\u001b[0m \u001b[38;5;28;01mdef\u001b[39;00m \u001b[38;5;21m_cmp_method\u001b[39m(\u001b[38;5;28mself\u001b[39m, other, op):\n\u001b[1;32m   7566\u001b[0m     axis \u001b[38;5;241m=\u001b[39m \u001b[38;5;241m1\u001b[39m  \u001b[38;5;66;03m# only relevant for Series other case\u001b[39;00m\n\u001b[0;32m-> 7568\u001b[0m     \u001b[38;5;28mself\u001b[39m, other \u001b[38;5;241m=\u001b[39m \u001b[43mops\u001b[49m\u001b[38;5;241;43m.\u001b[39;49m\u001b[43malign_method_FRAME\u001b[49m\u001b[43m(\u001b[49m\u001b[38;5;28;43mself\u001b[39;49m\u001b[43m,\u001b[49m\u001b[43m \u001b[49m\u001b[43mother\u001b[49m\u001b[43m,\u001b[49m\u001b[43m \u001b[49m\u001b[43maxis\u001b[49m\u001b[43m,\u001b[49m\u001b[43m \u001b[49m\u001b[43mflex\u001b[49m\u001b[38;5;241;43m=\u001b[39;49m\u001b[38;5;28;43;01mFalse\u001b[39;49;00m\u001b[43m,\u001b[49m\u001b[43m \u001b[49m\u001b[43mlevel\u001b[49m\u001b[38;5;241;43m=\u001b[39;49m\u001b[38;5;28;43;01mNone\u001b[39;49;00m\u001b[43m)\u001b[49m\n\u001b[1;32m   7570\u001b[0m     \u001b[38;5;66;03m# See GH#4537 for discussion of scalar op behavior\u001b[39;00m\n\u001b[1;32m   7571\u001b[0m     new_data \u001b[38;5;241m=\u001b[39m \u001b[38;5;28mself\u001b[39m\u001b[38;5;241m.\u001b[39m_dispatch_frame_op(other, op, axis\u001b[38;5;241m=\u001b[39maxis)\n",
      "File \u001b[0;32m/venv/lib/python3.8/site-packages/pandas/core/ops/__init__.py:289\u001b[0m, in \u001b[0;36malign_method_FRAME\u001b[0;34m(left, right, axis, flex, level)\u001b[0m\n\u001b[1;32m    287\u001b[0m             left, right \u001b[38;5;241m=\u001b[39m left\u001b[38;5;241m.\u001b[39malign(right, join\u001b[38;5;241m=\u001b[39m\u001b[38;5;124m\"\u001b[39m\u001b[38;5;124mouter\u001b[39m\u001b[38;5;124m\"\u001b[39m, level\u001b[38;5;241m=\u001b[39mlevel, copy\u001b[38;5;241m=\u001b[39m\u001b[38;5;28;01mFalse\u001b[39;00m)\n\u001b[1;32m    288\u001b[0m         \u001b[38;5;28;01melse\u001b[39;00m:\n\u001b[0;32m--> 289\u001b[0m             \u001b[38;5;28;01mraise\u001b[39;00m \u001b[38;5;167;01mValueError\u001b[39;00m(\n\u001b[1;32m    290\u001b[0m                 \u001b[38;5;124m\"\u001b[39m\u001b[38;5;124mCan only compare identically-labeled DataFrame objects\u001b[39m\u001b[38;5;124m\"\u001b[39m\n\u001b[1;32m    291\u001b[0m             )\n\u001b[1;32m    292\u001b[0m \u001b[38;5;28;01melif\u001b[39;00m \u001b[38;5;28misinstance\u001b[39m(right, ABCSeries):\n\u001b[1;32m    293\u001b[0m     \u001b[38;5;66;03m# axis=1 is default for DataFrame-with-Series op\u001b[39;00m\n\u001b[1;32m    294\u001b[0m     axis \u001b[38;5;241m=\u001b[39m left\u001b[38;5;241m.\u001b[39m_get_axis_number(axis) \u001b[38;5;28;01mif\u001b[39;00m axis \u001b[38;5;129;01mis\u001b[39;00m \u001b[38;5;129;01mnot\u001b[39;00m \u001b[38;5;28;01mNone\u001b[39;00m \u001b[38;5;28;01melse\u001b[39;00m \u001b[38;5;241m1\u001b[39m\n",
      "\u001b[0;31mValueError\u001b[0m: Can only compare identically-labeled DataFrame objects"
     ]
    }
   ],
   "source": [
    "ccxt_trades == crypto_chassis_trades"
   ]
  },
  {
   "cell_type": "markdown",
   "id": "31df5a23",
   "metadata": {},
   "source": [
    "# Compare OKX trades spot data from CCXT and crypto_chassis"
   ]
  },
  {
   "cell_type": "code",
   "execution_count": 4,
   "id": "53291dec",
   "metadata": {
    "ExecuteTime": {
     "end_time": "2023-05-11T10:39:16.916849Z",
     "start_time": "2023-05-11T10:39:16.856614Z"
    },
    "lines_to_next_cell": 2
   },
   "outputs": [
    {
     "data": {
      "text/plain": [
       "min   2023-05-08 14:32:44.942\n",
       "max   2023-05-08 14:36:36.523\n",
       "Name: timestamp, dtype: datetime64[ns]"
      ]
     },
     "execution_count": 4,
     "metadata": {},
     "output_type": "execute_result"
    }
   ],
   "source": [
    "ccxt_trades = pd.read_csv(\"/app/im_v2/ccxt/notebooks/ccxt_okx_trades_spot\")\n",
    "ccxt_trades.timestamp.agg([\"min\", \"max\"]).apply(pd.Timestamp, unit=\"ms\")"
   ]
  },
  {
   "cell_type": "code",
   "execution_count": 20,
   "id": "6492646f",
   "metadata": {
    "ExecuteTime": {
     "end_time": "2023-05-11T10:51:25.956374Z",
     "start_time": "2023-05-11T10:51:25.919745Z"
    }
   },
   "outputs": [
    {
     "data": {
      "text/plain": [
       "array([1683556364942, 1683556365139, 1683556365542, 1683556365940,\n",
       "       1683556366339])"
      ]
     },
     "execution_count": 20,
     "metadata": {},
     "output_type": "execute_result"
    }
   ],
   "source": [
    "ccxt_trades.timestamp.unique()[:5]"
   ]
  },
  {
   "cell_type": "code",
   "execution_count": 11,
   "id": "a9be7be6",
   "metadata": {
    "ExecuteTime": {
     "end_time": "2023-05-11T10:44:21.795599Z",
     "start_time": "2023-05-11T10:44:21.754304Z"
    }
   },
   "outputs": [],
   "source": [
    "ccxt_trades_ts_min = min(ccxt_trades.timestamp)\n",
    "ccxt_trades_ts_max = max(ccxt_trades.timestamp)"
   ]
  },
  {
   "cell_type": "code",
   "execution_count": 5,
   "id": "ae5d616d",
   "metadata": {
    "ExecuteTime": {
     "end_time": "2023-05-11T10:39:21.540255Z",
     "start_time": "2023-05-11T10:39:21.507046Z"
    }
   },
   "outputs": [],
   "source": [
    "import im_v2.crypto_chassis.data.extract.extractor as imvccdexex\n",
    "\n",
    "contract_type = \"spot\"\n",
    "cc_extractor = imvccdexex.CryptoChassisExtractor(contract_type)"
   ]
  },
  {
   "cell_type": "code",
   "execution_count": 7,
   "id": "3b4b1fc8",
   "metadata": {
    "ExecuteTime": {
     "end_time": "2023-05-11T10:40:43.087126Z",
     "start_time": "2023-05-11T10:40:41.156800Z"
    },
    "lines_to_next_cell": 2
   },
   "outputs": [
    {
     "data": {
      "text/html": [
       "<div>\n",
       "<style scoped>\n",
       "    .dataframe tbody tr th:only-of-type {\n",
       "        vertical-align: middle;\n",
       "    }\n",
       "\n",
       "    .dataframe tbody tr th {\n",
       "        vertical-align: top;\n",
       "    }\n",
       "\n",
       "    .dataframe thead th {\n",
       "        text-align: right;\n",
       "    }\n",
       "</style>\n",
       "<table border=\"1\" class=\"dataframe\">\n",
       "  <thead>\n",
       "    <tr style=\"text-align: right;\">\n",
       "      <th></th>\n",
       "      <th>timestamp</th>\n",
       "      <th>price</th>\n",
       "      <th>amount</th>\n",
       "      <th>side</th>\n",
       "    </tr>\n",
       "  </thead>\n",
       "  <tbody>\n",
       "    <tr>\n",
       "      <th>0</th>\n",
       "      <td>1683504000079</td>\n",
       "      <td>1870.0</td>\n",
       "      <td>1.300001</td>\n",
       "      <td>sell</td>\n",
       "    </tr>\n",
       "    <tr>\n",
       "      <th>1</th>\n",
       "      <td>1683504000092</td>\n",
       "      <td>1870.0</td>\n",
       "      <td>0.399999</td>\n",
       "      <td>sell</td>\n",
       "    </tr>\n",
       "    <tr>\n",
       "      <th>2</th>\n",
       "      <td>1683504000108</td>\n",
       "      <td>1870.0</td>\n",
       "      <td>4.094000</td>\n",
       "      <td>sell</td>\n",
       "    </tr>\n",
       "    <tr>\n",
       "      <th>3</th>\n",
       "      <td>1683504000133</td>\n",
       "      <td>1870.0</td>\n",
       "      <td>3.652358</td>\n",
       "      <td>sell</td>\n",
       "    </tr>\n",
       "    <tr>\n",
       "      <th>4</th>\n",
       "      <td>1683504000178</td>\n",
       "      <td>1870.0</td>\n",
       "      <td>3.173150</td>\n",
       "      <td>sell</td>\n",
       "    </tr>\n",
       "  </tbody>\n",
       "</table>\n",
       "</div>"
      ],
      "text/plain": [
       "       timestamp   price    amount  side\n",
       "0  1683504000079  1870.0  1.300001  sell\n",
       "1  1683504000092  1870.0  0.399999  sell\n",
       "2  1683504000108  1870.0  4.094000  sell\n",
       "3  1683504000133  1870.0  3.652358  sell\n",
       "4  1683504000178  1870.0  3.173150  sell"
      ]
     },
     "execution_count": 7,
     "metadata": {},
     "output_type": "execute_result"
    }
   ],
   "source": [
    "exchange_id = \"okx\"\n",
    "currency_pair = \"ETH_USDT\"\n",
    "start_timestamp = pd.Timestamp(\"2023-05-08 14:32:44\")\n",
    "converted_currency_pair = cc_extractor.convert_currency_pair(currency_pair)\n",
    "# start_timestamp = hdateti.convert_timestamp_to_unix_epoch(\n",
    "#     start_timestamp\n",
    "# )\n",
    "start_timestamp\n",
    "cc_data = cc_extractor._download_trades(\n",
    "    exchange_id, converted_currency_pair, start_timestamp=start_timestamp\n",
    ")"
   ]
  },
  {
   "cell_type": "code",
   "execution_count": 9,
   "id": "d02422e3",
   "metadata": {
    "ExecuteTime": {
     "end_time": "2023-05-11T10:42:36.847165Z",
     "start_time": "2023-05-11T10:42:36.809853Z"
    }
   },
   "outputs": [
    {
     "data": {
      "text/plain": [
       "min   2023-05-08 00:00:00.079\n",
       "max   2023-05-08 23:59:43.151\n",
       "Name: timestamp, dtype: datetime64[ns]"
      ]
     },
     "execution_count": 9,
     "metadata": {},
     "output_type": "execute_result"
    }
   ],
   "source": [
    "cc_data.timestamp.agg([\"min\", \"max\"]).apply(pd.Timestamp, unit=\"ms\")"
   ]
  },
  {
   "cell_type": "code",
   "execution_count": 12,
   "id": "96fa60cc",
   "metadata": {
    "ExecuteTime": {
     "end_time": "2023-05-11T10:44:35.793789Z",
     "start_time": "2023-05-11T10:44:35.758209Z"
    }
   },
   "outputs": [],
   "source": [
    "cc_data_part = cc_data[\n",
    "    cc_data.timestamp.between(ccxt_trades_ts_min, ccxt_trades_ts_max)\n",
    "]"
   ]
  },
  {
   "cell_type": "code",
   "execution_count": 25,
   "id": "8bfa9e29",
   "metadata": {
    "ExecuteTime": {
     "end_time": "2023-05-11T10:52:37.894019Z",
     "start_time": "2023-05-11T10:52:37.855181Z"
    }
   },
   "outputs": [
    {
     "data": {
      "text/html": [
       "<div>\n",
       "<style scoped>\n",
       "    .dataframe tbody tr th:only-of-type {\n",
       "        vertical-align: middle;\n",
       "    }\n",
       "\n",
       "    .dataframe tbody tr th {\n",
       "        vertical-align: top;\n",
       "    }\n",
       "\n",
       "    .dataframe thead th {\n",
       "        text-align: right;\n",
       "    }\n",
       "</style>\n",
       "<table border=\"1\" class=\"dataframe\">\n",
       "  <thead>\n",
       "    <tr style=\"text-align: right;\">\n",
       "      <th></th>\n",
       "      <th>timestamp</th>\n",
       "      <th>price</th>\n",
       "      <th>amount</th>\n",
       "      <th>side</th>\n",
       "    </tr>\n",
       "  </thead>\n",
       "  <tbody>\n",
       "    <tr>\n",
       "      <th>152564</th>\n",
       "      <td>1683556365542</td>\n",
       "      <td>1855.66</td>\n",
       "      <td>0.275914</td>\n",
       "      <td>sell</td>\n",
       "    </tr>\n",
       "    <tr>\n",
       "      <th>152565</th>\n",
       "      <td>1683556365542</td>\n",
       "      <td>1855.72</td>\n",
       "      <td>0.000700</td>\n",
       "      <td>sell</td>\n",
       "    </tr>\n",
       "    <tr>\n",
       "      <th>152566</th>\n",
       "      <td>1683556365542</td>\n",
       "      <td>1855.75</td>\n",
       "      <td>0.104538</td>\n",
       "      <td>sell</td>\n",
       "    </tr>\n",
       "  </tbody>\n",
       "</table>\n",
       "</div>"
      ],
      "text/plain": [
       "            timestamp    price    amount  side\n",
       "152564  1683556365542  1855.66  0.275914  sell\n",
       "152565  1683556365542  1855.72  0.000700  sell\n",
       "152566  1683556365542  1855.75  0.104538  sell"
      ]
     },
     "execution_count": 25,
     "metadata": {},
     "output_type": "execute_result"
    }
   ],
   "source": [
    "cc_data_part[cc_data_part.timestamp == 1683556365542]"
   ]
  },
  {
   "cell_type": "code",
   "execution_count": 8,
   "id": "e9fbaf27",
   "metadata": {
    "ExecuteTime": {
     "end_time": "2023-05-11T10:40:59.178408Z",
     "start_time": "2023-05-11T10:40:59.131562Z"
    }
   },
   "outputs": [
    {
     "data": {
      "text/html": [
       "<div>\n",
       "<style scoped>\n",
       "    .dataframe tbody tr th:only-of-type {\n",
       "        vertical-align: middle;\n",
       "    }\n",
       "\n",
       "    .dataframe tbody tr th {\n",
       "        vertical-align: top;\n",
       "    }\n",
       "\n",
       "    .dataframe thead th {\n",
       "        text-align: right;\n",
       "    }\n",
       "</style>\n",
       "<table border=\"1\" class=\"dataframe\">\n",
       "  <thead>\n",
       "    <tr style=\"text-align: right;\">\n",
       "      <th></th>\n",
       "      <th>Unnamed: 0</th>\n",
       "      <th>info</th>\n",
       "      <th>timestamp</th>\n",
       "      <th>datetime</th>\n",
       "      <th>symbol</th>\n",
       "      <th>id</th>\n",
       "      <th>order</th>\n",
       "      <th>type</th>\n",
       "      <th>takerOrMaker</th>\n",
       "      <th>side</th>\n",
       "      <th>price</th>\n",
       "      <th>amount</th>\n",
       "      <th>cost</th>\n",
       "      <th>fee</th>\n",
       "      <th>fees</th>\n",
       "    </tr>\n",
       "  </thead>\n",
       "  <tbody>\n",
       "    <tr>\n",
       "      <th>0</th>\n",
       "      <td>0</td>\n",
       "      <td>{'instId': 'ETH-USDT', 'side': 'buy', 'sz': '0...</td>\n",
       "      <td>1683556364942</td>\n",
       "      <td>2023-05-08T14:32:44.942Z</td>\n",
       "      <td>ETH/USDT</td>\n",
       "      <td>297019693</td>\n",
       "      <td>NaN</td>\n",
       "      <td>NaN</td>\n",
       "      <td>NaN</td>\n",
       "      <td>buy</td>\n",
       "      <td>1855.66</td>\n",
       "      <td>0.000869</td>\n",
       "      <td>1.612569</td>\n",
       "      <td>NaN</td>\n",
       "      <td>[]</td>\n",
       "    </tr>\n",
       "    <tr>\n",
       "      <th>1</th>\n",
       "      <td>1</td>\n",
       "      <td>{'instId': 'ETH-USDT', 'side': 'buy', 'sz': '0...</td>\n",
       "      <td>1683556364942</td>\n",
       "      <td>2023-05-08T14:32:44.942Z</td>\n",
       "      <td>ETH/USDT</td>\n",
       "      <td>297019694</td>\n",
       "      <td>NaN</td>\n",
       "      <td>NaN</td>\n",
       "      <td>NaN</td>\n",
       "      <td>buy</td>\n",
       "      <td>1855.66</td>\n",
       "      <td>0.000869</td>\n",
       "      <td>1.612569</td>\n",
       "      <td>NaN</td>\n",
       "      <td>[]</td>\n",
       "    </tr>\n",
       "    <tr>\n",
       "      <th>2</th>\n",
       "      <td>2</td>\n",
       "      <td>{'instId': 'ETH-USDT', 'side': 'buy', 'sz': '0...</td>\n",
       "      <td>1683556364942</td>\n",
       "      <td>2023-05-08T14:32:44.942Z</td>\n",
       "      <td>ETH/USDT</td>\n",
       "      <td>297019695</td>\n",
       "      <td>NaN</td>\n",
       "      <td>NaN</td>\n",
       "      <td>NaN</td>\n",
       "      <td>buy</td>\n",
       "      <td>1855.66</td>\n",
       "      <td>0.000869</td>\n",
       "      <td>1.612569</td>\n",
       "      <td>NaN</td>\n",
       "      <td>[]</td>\n",
       "    </tr>\n",
       "    <tr>\n",
       "      <th>3</th>\n",
       "      <td>3</td>\n",
       "      <td>{'instId': 'ETH-USDT', 'side': 'buy', 'sz': '0...</td>\n",
       "      <td>1683556364942</td>\n",
       "      <td>2023-05-08T14:32:44.942Z</td>\n",
       "      <td>ETH/USDT</td>\n",
       "      <td>297019696</td>\n",
       "      <td>NaN</td>\n",
       "      <td>NaN</td>\n",
       "      <td>NaN</td>\n",
       "      <td>buy</td>\n",
       "      <td>1855.66</td>\n",
       "      <td>0.000869</td>\n",
       "      <td>1.612569</td>\n",
       "      <td>NaN</td>\n",
       "      <td>[]</td>\n",
       "    </tr>\n",
       "    <tr>\n",
       "      <th>4</th>\n",
       "      <td>4</td>\n",
       "      <td>{'instId': 'ETH-USDT', 'side': 'buy', 'sz': '0...</td>\n",
       "      <td>1683556364942</td>\n",
       "      <td>2023-05-08T14:32:44.942Z</td>\n",
       "      <td>ETH/USDT</td>\n",
       "      <td>297019697</td>\n",
       "      <td>NaN</td>\n",
       "      <td>NaN</td>\n",
       "      <td>NaN</td>\n",
       "      <td>buy</td>\n",
       "      <td>1855.66</td>\n",
       "      <td>0.000869</td>\n",
       "      <td>1.612569</td>\n",
       "      <td>NaN</td>\n",
       "      <td>[]</td>\n",
       "    </tr>\n",
       "  </tbody>\n",
       "</table>\n",
       "</div>"
      ],
      "text/plain": [
       "   Unnamed: 0                                               info      timestamp                  datetime    symbol         id  order  type  takerOrMaker side    price    amount      cost  fee fees\n",
       "0           0  {'instId': 'ETH-USDT', 'side': 'buy', 'sz': '0...  1683556364942  2023-05-08T14:32:44.942Z  ETH/USDT  297019693    NaN   NaN           NaN  buy  1855.66  0.000869  1.612569  NaN   []\n",
       "1           1  {'instId': 'ETH-USDT', 'side': 'buy', 'sz': '0...  1683556364942  2023-05-08T14:32:44.942Z  ETH/USDT  297019694    NaN   NaN           NaN  buy  1855.66  0.000869  1.612569  NaN   []\n",
       "2           2  {'instId': 'ETH-USDT', 'side': 'buy', 'sz': '0...  1683556364942  2023-05-08T14:32:44.942Z  ETH/USDT  297019695    NaN   NaN           NaN  buy  1855.66  0.000869  1.612569  NaN   []\n",
       "3           3  {'instId': 'ETH-USDT', 'side': 'buy', 'sz': '0...  1683556364942  2023-05-08T14:32:44.942Z  ETH/USDT  297019696    NaN   NaN           NaN  buy  1855.66  0.000869  1.612569  NaN   []\n",
       "4           4  {'instId': 'ETH-USDT', 'side': 'buy', 'sz': '0...  1683556364942  2023-05-08T14:32:44.942Z  ETH/USDT  297019697    NaN   NaN           NaN  buy  1855.66  0.000869  1.612569  NaN   []"
      ]
     },
     "execution_count": 8,
     "metadata": {},
     "output_type": "execute_result"
    }
   ],
   "source": [
    "1683556365542"
   ]
  },
  {
   "cell_type": "code",
   "execution_count": 26,
   "id": "8f6dbbb9",
   "metadata": {
    "ExecuteTime": {
     "end_time": "2023-05-11T10:52:43.415224Z",
     "start_time": "2023-05-11T10:52:43.371722Z"
    }
   },
   "outputs": [
    {
     "data": {
      "text/html": [
       "<div>\n",
       "<style scoped>\n",
       "    .dataframe tbody tr th:only-of-type {\n",
       "        vertical-align: middle;\n",
       "    }\n",
       "\n",
       "    .dataframe tbody tr th {\n",
       "        vertical-align: top;\n",
       "    }\n",
       "\n",
       "    .dataframe thead th {\n",
       "        text-align: right;\n",
       "    }\n",
       "</style>\n",
       "<table border=\"1\" class=\"dataframe\">\n",
       "  <thead>\n",
       "    <tr style=\"text-align: right;\">\n",
       "      <th></th>\n",
       "      <th>Unnamed: 0</th>\n",
       "      <th>info</th>\n",
       "      <th>timestamp</th>\n",
       "      <th>datetime</th>\n",
       "      <th>symbol</th>\n",
       "      <th>id</th>\n",
       "      <th>order</th>\n",
       "      <th>type</th>\n",
       "      <th>takerOrMaker</th>\n",
       "      <th>side</th>\n",
       "      <th>price</th>\n",
       "      <th>amount</th>\n",
       "      <th>cost</th>\n",
       "      <th>fee</th>\n",
       "      <th>fees</th>\n",
       "    </tr>\n",
       "  </thead>\n",
       "  <tbody>\n",
       "    <tr>\n",
       "      <th>19</th>\n",
       "      <td>19</td>\n",
       "      <td>{'instId': 'ETH-USDT', 'side': 'buy', 'sz': '0...</td>\n",
       "      <td>1683556365542</td>\n",
       "      <td>2023-05-08T14:32:45.542Z</td>\n",
       "      <td>ETH/USDT</td>\n",
       "      <td>297019712</td>\n",
       "      <td>NaN</td>\n",
       "      <td>NaN</td>\n",
       "      <td>NaN</td>\n",
       "      <td>buy</td>\n",
       "      <td>1855.66</td>\n",
       "      <td>0.275914</td>\n",
       "      <td>512.002573</td>\n",
       "      <td>NaN</td>\n",
       "      <td>[]</td>\n",
       "    </tr>\n",
       "    <tr>\n",
       "      <th>20</th>\n",
       "      <td>20</td>\n",
       "      <td>{'instId': 'ETH-USDT', 'side': 'buy', 'sz': '0...</td>\n",
       "      <td>1683556365542</td>\n",
       "      <td>2023-05-08T14:32:45.542Z</td>\n",
       "      <td>ETH/USDT</td>\n",
       "      <td>297019713</td>\n",
       "      <td>NaN</td>\n",
       "      <td>NaN</td>\n",
       "      <td>NaN</td>\n",
       "      <td>buy</td>\n",
       "      <td>1855.72</td>\n",
       "      <td>0.000700</td>\n",
       "      <td>1.299004</td>\n",
       "      <td>NaN</td>\n",
       "      <td>[]</td>\n",
       "    </tr>\n",
       "    <tr>\n",
       "      <th>21</th>\n",
       "      <td>21</td>\n",
       "      <td>{'instId': 'ETH-USDT', 'side': 'buy', 'sz': '0...</td>\n",
       "      <td>1683556365542</td>\n",
       "      <td>2023-05-08T14:32:45.542Z</td>\n",
       "      <td>ETH/USDT</td>\n",
       "      <td>297019714</td>\n",
       "      <td>NaN</td>\n",
       "      <td>NaN</td>\n",
       "      <td>NaN</td>\n",
       "      <td>buy</td>\n",
       "      <td>1855.75</td>\n",
       "      <td>0.104538</td>\n",
       "      <td>193.996394</td>\n",
       "      <td>NaN</td>\n",
       "      <td>[]</td>\n",
       "    </tr>\n",
       "  </tbody>\n",
       "</table>\n",
       "</div>"
      ],
      "text/plain": [
       "    Unnamed: 0                                               info      timestamp                  datetime    symbol         id  order  type  takerOrMaker side    price    amount        cost  fee fees\n",
       "19          19  {'instId': 'ETH-USDT', 'side': 'buy', 'sz': '0...  1683556365542  2023-05-08T14:32:45.542Z  ETH/USDT  297019712    NaN   NaN           NaN  buy  1855.66  0.275914  512.002573  NaN   []\n",
       "20          20  {'instId': 'ETH-USDT', 'side': 'buy', 'sz': '0...  1683556365542  2023-05-08T14:32:45.542Z  ETH/USDT  297019713    NaN   NaN           NaN  buy  1855.72  0.000700    1.299004  NaN   []\n",
       "21          21  {'instId': 'ETH-USDT', 'side': 'buy', 'sz': '0...  1683556365542  2023-05-08T14:32:45.542Z  ETH/USDT  297019714    NaN   NaN           NaN  buy  1855.75  0.104538  193.996394  NaN   []"
      ]
     },
     "execution_count": 26,
     "metadata": {},
     "output_type": "execute_result"
    }
   ],
   "source": [
    "ccxt_trades[ccxt_trades.timestamp == 1683556365542]"
   ]
  },
  {
   "cell_type": "code",
   "execution_count": null,
   "id": "a6c06b9b",
   "metadata": {},
   "outputs": [],
   "source": []
  }
 ],
 "metadata": {
  "kernelspec": {
   "display_name": "Python 3 (ipykernel)",
   "language": "python",
   "name": "python3"
  },
  "language_info": {
   "codemirror_mode": {
    "name": "ipython",
    "version": 3
   },
   "file_extension": ".py",
   "mimetype": "text/x-python",
   "name": "python",
   "nbconvert_exporter": "python",
   "pygments_lexer": "ipython3",
   "version": "3.8.10"
  },
  "toc": {
   "base_numbering": 1,
   "nav_menu": {},
   "number_sections": true,
   "sideBar": true,
   "skip_h1_title": false,
   "title_cell": "Table of Contents",
   "title_sidebar": "Contents",
   "toc_cell": false,
   "toc_position": {},
   "toc_section_display": true,
   "toc_window_display": false
  }
 },
 "nbformat": 4,
 "nbformat_minor": 5
}
