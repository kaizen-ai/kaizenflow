{
 "cells": [
  {
   "cell_type": "markdown",
   "id": "64bd8eca",
   "metadata": {},
   "source": [
    "## Description"
   ]
  },
  {
   "cell_type": "markdown",
   "id": "715f0b52",
   "metadata": {},
   "source": [
    "This notebook contains reference of the main API endpoints and data examples for CryptoChassis.\n",
    "\n",
    "CryptoChassis API docs: https://github.com/crypto-chassis/cryptochassis-data-api-docs"
   ]
  },
  {
   "cell_type": "code",
   "execution_count": 51,
   "id": "d5232998",
   "metadata": {
    "ExecuteTime": {
     "end_time": "2022-07-15T12:11:56.836815Z",
     "start_time": "2022-07-15T12:11:56.833397Z"
    }
   },
   "outputs": [],
   "source": [
    "import pandas as pd\n",
    "import requests\n",
    "\n",
    "import im_v2.common.universe.universe as imvcounun\n",
    "import im_v2.crypto_chassis.data.extract.extractor as imvccdexex"
   ]
  },
  {
   "cell_type": "markdown",
   "id": "aa557d6e",
   "metadata": {},
   "source": [
    "## General endpoints and Extractor methods"
   ]
  },
  {
   "cell_type": "markdown",
   "id": "d0a0349b",
   "metadata": {},
   "source": [
    "### General endpoints"
   ]
  },
  {
   "cell_type": "code",
   "execution_count": 52,
   "id": "27e59747",
   "metadata": {
    "ExecuteTime": {
     "end_time": "2022-07-15T12:11:57.638077Z",
     "start_time": "2022-07-15T12:11:57.174586Z"
    }
   },
   "outputs": [
    {
     "data": {
      "text/plain": [
       "{'time': {'seconds': 1657887117, 'iso': '2022-07-15T12:11:57.000Z'},\n",
       " 'apiDocsUrl': 'https://github.com/cryptochassis/cryptochassis-api-docs'}"
      ]
     },
     "execution_count": 52,
     "metadata": {},
     "output_type": "execute_result"
    }
   ],
   "source": [
    "# Base url for all requests to append to.\n",
    "base_url = \"https://api.cryptochassis.com/v1\"\n",
    "response = requests.get(base_url)\n",
    "response.json()"
   ]
  },
  {
   "cell_type": "markdown",
   "id": "513435b8",
   "metadata": {},
   "source": [
    "### Information\n",
    "https://github.com/crypto-chassis/cryptochassis-data-api-docs#information"
   ]
  },
  {
   "cell_type": "code",
   "execution_count": 53,
   "id": "d88c4ce3",
   "metadata": {
    "ExecuteTime": {
     "end_time": "2022-07-15T12:11:58.140393Z",
     "start_time": "2022-07-15T12:11:57.651562Z"
    }
   },
   "outputs": [
    {
     "data": {
      "text/plain": [
       "[{'dataType': 'market-depth',\n",
       "  'exchange': 'coinbase',\n",
       "  'instrument': 'ada-btc',\n",
       "  'availability': {'depth_10': {'firstAvailableTime': {'seconds': 1628294400,\n",
       "     'iso': '2021-08-07T00:00:00.000Z'},\n",
       "    'lastAvailableTime': {'seconds': 1657756800,\n",
       "     'iso': '2022-07-14T00:00:00.000Z'}},\n",
       "   'depth_1': {'firstAvailableTime': {'seconds': 1628294400,\n",
       "     'iso': '2021-08-07T00:00:00.000Z'},\n",
       "    'lastAvailableTime': {'seconds': 1657756800,\n",
       "     'iso': '2022-07-14T00:00:00.000Z'}}},\n",
       "  'examples': ['https://api.cryptochassis.com/v1/market-depth/coinbase/ada-btc']},\n",
       " {'dataType': 'market-depth',\n",
       "  'exchange': 'coinbase',\n",
       "  'instrument': 'ada-eur',\n",
       "  'availability': {'depth_10': {'firstAvailableTime': {'seconds': 1628294400,\n",
       "     'iso': '2021-08-07T00:00:00.000Z'},\n",
       "    'lastAvailableTime': {'seconds': 1657756800,\n",
       "     'iso': '2022-07-14T00:00:00.000Z'}},\n",
       "   'depth_1': {'firstAvailableTime': {'seconds': 1628294400,\n",
       "     'iso': '2021-08-07T00:00:00.000Z'},\n",
       "    'lastAvailableTime': {'seconds': 1657756800,\n",
       "     'iso': '2022-07-14T00:00:00.000Z'}}},\n",
       "  'examples': ['https://api.cryptochassis.com/v1/market-depth/coinbase/ada-eur']},\n",
       " {'dataType': 'market-depth',\n",
       "  'exchange': 'coinbase',\n",
       "  'instrument': 'ada-usd',\n",
       "  'availability': {'depth_10': {'firstAvailableTime': {'seconds': 1628294400,\n",
       "     'iso': '2021-08-07T00:00:00.000Z'},\n",
       "    'lastAvailableTime': {'seconds': 1657756800,\n",
       "     'iso': '2022-07-14T00:00:00.000Z'}},\n",
       "   'depth_1': {'firstAvailableTime': {'seconds': 1628294400,\n",
       "     'iso': '2021-08-07T00:00:00.000Z'},\n",
       "    'lastAvailableTime': {'seconds': 1657756800,\n",
       "     'iso': '2022-07-14T00:00:00.000Z'}}},\n",
       "  'examples': ['https://api.cryptochassis.com/v1/market-depth/coinbase/ada-usd']},\n",
       " {'dataType': 'market-depth',\n",
       "  'exchange': 'coinbase',\n",
       "  'instrument': 'ada-usdc',\n",
       "  'availability': {'depth_10': {'firstAvailableTime': {'seconds': 1628294400,\n",
       "     'iso': '2021-08-07T00:00:00.000Z'},\n",
       "    'lastAvailableTime': {'seconds': 1657756800,\n",
       "     'iso': '2022-07-14T00:00:00.000Z'}},\n",
       "   'depth_1': {'firstAvailableTime': {'seconds': 1628294400,\n",
       "     'iso': '2021-08-07T00:00:00.000Z'},\n",
       "    'lastAvailableTime': {'seconds': 1657756800,\n",
       "     'iso': '2022-07-14T00:00:00.000Z'}}},\n",
       "  'examples': ['https://api.cryptochassis.com/v1/market-depth/coinbase/ada-usdc']},\n",
       " {'dataType': 'market-depth',\n",
       "  'exchange': 'coinbase',\n",
       "  'instrument': 'bch-btc',\n",
       "  'availability': {'depth_10': {'firstAvailableTime': {'seconds': 1628294400,\n",
       "     'iso': '2021-08-07T00:00:00.000Z'},\n",
       "    'lastAvailableTime': {'seconds': 1657756800,\n",
       "     'iso': '2022-07-14T00:00:00.000Z'}},\n",
       "   'depth_1': {'firstAvailableTime': {'seconds': 1628294400,\n",
       "     'iso': '2021-08-07T00:00:00.000Z'},\n",
       "    'lastAvailableTime': {'seconds': 1657756800,\n",
       "     'iso': '2022-07-14T00:00:00.000Z'}}},\n",
       "  'examples': ['https://api.cryptochassis.com/v1/market-depth/coinbase/bch-btc']},\n",
       " {'dataType': 'market-depth',\n",
       "  'exchange': 'coinbase',\n",
       "  'instrument': 'bch-eur',\n",
       "  'availability': {'depth_10': {'firstAvailableTime': {'seconds': 1628294400,\n",
       "     'iso': '2021-08-07T00:00:00.000Z'},\n",
       "    'lastAvailableTime': {'seconds': 1657756800,\n",
       "     'iso': '2022-07-14T00:00:00.000Z'}},\n",
       "   'depth_1': {'firstAvailableTime': {'seconds': 1628294400,\n",
       "     'iso': '2021-08-07T00:00:00.000Z'},\n",
       "    'lastAvailableTime': {'seconds': 1657756800,\n",
       "     'iso': '2022-07-14T00:00:00.000Z'}}},\n",
       "  'examples': ['https://api.cryptochassis.com/v1/market-depth/coinbase/bch-eur']},\n",
       " {'dataType': 'market-depth',\n",
       "  'exchange': 'coinbase',\n",
       "  'instrument': 'bch-usd',\n",
       "  'availability': {'depth_10': {'firstAvailableTime': {'seconds': 1597881600,\n",
       "     'iso': '2020-08-20T00:00:00.000Z'},\n",
       "    'lastAvailableTime': {'seconds': 1657756800,\n",
       "     'iso': '2022-07-14T00:00:00.000Z'}},\n",
       "   'depth_1': {'firstAvailableTime': {'seconds': 1577404800,\n",
       "     'iso': '2019-12-27T00:00:00.000Z'},\n",
       "    'lastAvailableTime': {'seconds': 1657756800,\n",
       "     'iso': '2022-07-14T00:00:00.000Z'}}},\n",
       "  'examples': ['https://api.cryptochassis.com/v1/market-depth/coinbase/bch-usd']},\n",
       " {'dataType': 'market-depth',\n",
       "  'exchange': 'coinbase',\n",
       "  'instrument': 'btc-eur',\n",
       "  'availability': {'depth_10': {'firstAvailableTime': {'seconds': 1628294400,\n",
       "     'iso': '2021-08-07T00:00:00.000Z'},\n",
       "    'lastAvailableTime': {'seconds': 1657756800,\n",
       "     'iso': '2022-07-14T00:00:00.000Z'}},\n",
       "   'depth_1': {'firstAvailableTime': {'seconds': 1628294400,\n",
       "     'iso': '2021-08-07T00:00:00.000Z'},\n",
       "    'lastAvailableTime': {'seconds': 1657756800,\n",
       "     'iso': '2022-07-14T00:00:00.000Z'}}},\n",
       "  'examples': ['https://api.cryptochassis.com/v1/market-depth/coinbase/btc-eur']},\n",
       " {'dataType': 'market-depth',\n",
       "  'exchange': 'coinbase',\n",
       "  'instrument': 'btc-usd',\n",
       "  'availability': {'depth_10': {'firstAvailableTime': {'seconds': 1594166400,\n",
       "     'iso': '2020-07-08T00:00:00.000Z'},\n",
       "    'lastAvailableTime': {'seconds': 1657756800,\n",
       "     'iso': '2022-07-14T00:00:00.000Z'}},\n",
       "   'depth_1': {'firstAvailableTime': {'seconds': 1572480000,\n",
       "     'iso': '2019-10-31T00:00:00.000Z'},\n",
       "    'lastAvailableTime': {'seconds': 1657756800,\n",
       "     'iso': '2022-07-14T00:00:00.000Z'}}},\n",
       "  'examples': ['https://api.cryptochassis.com/v1/market-depth/coinbase/btc-usd']},\n",
       " {'dataType': 'market-depth',\n",
       "  'exchange': 'coinbase',\n",
       "  'instrument': 'btc-usdc',\n",
       "  'availability': {'depth_10': {'firstAvailableTime': {'seconds': 1628294400,\n",
       "     'iso': '2021-08-07T00:00:00.000Z'},\n",
       "    'lastAvailableTime': {'seconds': 1657756800,\n",
       "     'iso': '2022-07-14T00:00:00.000Z'}},\n",
       "   'depth_1': {'firstAvailableTime': {'seconds': 1628294400,\n",
       "     'iso': '2021-08-07T00:00:00.000Z'},\n",
       "    'lastAvailableTime': {'seconds': 1657756800,\n",
       "     'iso': '2022-07-14T00:00:00.000Z'}}},\n",
       "  'examples': ['https://api.cryptochassis.com/v1/market-depth/coinbase/btc-usdc']},\n",
       " {'dataType': 'market-depth',\n",
       "  'exchange': 'coinbase',\n",
       "  'instrument': 'btc-usdt',\n",
       "  'availability': {'depth_10': {'firstAvailableTime': {'seconds': 1633996800,\n",
       "     'iso': '2021-10-12T00:00:00.000Z'},\n",
       "    'lastAvailableTime': {'seconds': 1657756800,\n",
       "     'iso': '2022-07-14T00:00:00.000Z'}},\n",
       "   'depth_1': {'firstAvailableTime': {'seconds': 1633996800,\n",
       "     'iso': '2021-10-12T00:00:00.000Z'},\n",
       "    'lastAvailableTime': {'seconds': 1657756800,\n",
       "     'iso': '2022-07-14T00:00:00.000Z'}}},\n",
       "  'examples': ['https://api.cryptochassis.com/v1/market-depth/coinbase/btc-usdt']},\n",
       " {'dataType': 'market-depth',\n",
       "  'exchange': 'coinbase',\n",
       "  'instrument': 'doge-btc',\n",
       "  'availability': {'depth_10': {'firstAvailableTime': {'seconds': 1633996800,\n",
       "     'iso': '2021-10-12T00:00:00.000Z'},\n",
       "    'lastAvailableTime': {'seconds': 1657756800,\n",
       "     'iso': '2022-07-14T00:00:00.000Z'}},\n",
       "   'depth_1': {'firstAvailableTime': {'seconds': 1633996800,\n",
       "     'iso': '2021-10-12T00:00:00.000Z'},\n",
       "    'lastAvailableTime': {'seconds': 1657756800,\n",
       "     'iso': '2022-07-14T00:00:00.000Z'}}},\n",
       "  'examples': ['https://api.cryptochassis.com/v1/market-depth/coinbase/doge-btc']},\n",
       " {'dataType': 'market-depth',\n",
       "  'exchange': 'coinbase',\n",
       "  'instrument': 'doge-eur',\n",
       "  'availability': {'depth_10': {'firstAvailableTime': {'seconds': 1633996800,\n",
       "     'iso': '2021-10-12T00:00:00.000Z'},\n",
       "    'lastAvailableTime': {'seconds': 1657756800,\n",
       "     'iso': '2022-07-14T00:00:00.000Z'}},\n",
       "   'depth_1': {'firstAvailableTime': {'seconds': 1633996800,\n",
       "     'iso': '2021-10-12T00:00:00.000Z'},\n",
       "    'lastAvailableTime': {'seconds': 1657756800,\n",
       "     'iso': '2022-07-14T00:00:00.000Z'}}},\n",
       "  'examples': ['https://api.cryptochassis.com/v1/market-depth/coinbase/doge-eur']},\n",
       " {'dataType': 'market-depth',\n",
       "  'exchange': 'coinbase',\n",
       "  'instrument': 'doge-usd',\n",
       "  'availability': {'depth_10': {'firstAvailableTime': {'seconds': 1633996800,\n",
       "     'iso': '2021-10-12T00:00:00.000Z'},\n",
       "    'lastAvailableTime': {'seconds': 1657756800,\n",
       "     'iso': '2022-07-14T00:00:00.000Z'}},\n",
       "   'depth_1': {'firstAvailableTime': {'seconds': 1633996800,\n",
       "     'iso': '2021-10-12T00:00:00.000Z'},\n",
       "    'lastAvailableTime': {'seconds': 1657756800,\n",
       "     'iso': '2022-07-14T00:00:00.000Z'}}},\n",
       "  'examples': ['https://api.cryptochassis.com/v1/market-depth/coinbase/doge-usd']},\n",
       " {'dataType': 'market-depth',\n",
       "  'exchange': 'coinbase',\n",
       "  'instrument': 'doge-usdt',\n",
       "  'availability': {'depth_10': {'firstAvailableTime': {'seconds': 1633996800,\n",
       "     'iso': '2021-10-12T00:00:00.000Z'},\n",
       "    'lastAvailableTime': {'seconds': 1657756800,\n",
       "     'iso': '2022-07-14T00:00:00.000Z'}},\n",
       "   'depth_1': {'firstAvailableTime': {'seconds': 1633996800,\n",
       "     'iso': '2021-10-12T00:00:00.000Z'},\n",
       "    'lastAvailableTime': {'seconds': 1657756800,\n",
       "     'iso': '2022-07-14T00:00:00.000Z'}}},\n",
       "  'examples': ['https://api.cryptochassis.com/v1/market-depth/coinbase/doge-usdt']},\n",
       " {'dataType': 'market-depth',\n",
       "  'exchange': 'coinbase',\n",
       "  'instrument': 'dot-btc',\n",
       "  'availability': {'depth_10': {'firstAvailableTime': {'seconds': 1633996800,\n",
       "     'iso': '2021-10-12T00:00:00.000Z'},\n",
       "    'lastAvailableTime': {'seconds': 1657756800,\n",
       "     'iso': '2022-07-14T00:00:00.000Z'}},\n",
       "   'depth_1': {'firstAvailableTime': {'seconds': 1633996800,\n",
       "     'iso': '2021-10-12T00:00:00.000Z'},\n",
       "    'lastAvailableTime': {'seconds': 1657756800,\n",
       "     'iso': '2022-07-14T00:00:00.000Z'}}},\n",
       "  'examples': ['https://api.cryptochassis.com/v1/market-depth/coinbase/dot-btc']},\n",
       " {'dataType': 'market-depth',\n",
       "  'exchange': 'coinbase',\n",
       "  'instrument': 'dot-eur',\n",
       "  'availability': {'depth_10': {'firstAvailableTime': {'seconds': 1633996800,\n",
       "     'iso': '2021-10-12T00:00:00.000Z'},\n",
       "    'lastAvailableTime': {'seconds': 1657756800,\n",
       "     'iso': '2022-07-14T00:00:00.000Z'}},\n",
       "   'depth_1': {'firstAvailableTime': {'seconds': 1633996800,\n",
       "     'iso': '2021-10-12T00:00:00.000Z'},\n",
       "    'lastAvailableTime': {'seconds': 1657756800,\n",
       "     'iso': '2022-07-14T00:00:00.000Z'}}},\n",
       "  'examples': ['https://api.cryptochassis.com/v1/market-depth/coinbase/dot-eur']},\n",
       " {'dataType': 'market-depth',\n",
       "  'exchange': 'coinbase',\n",
       "  'instrument': 'dot-usd',\n",
       "  'availability': {'depth_10': {'firstAvailableTime': {'seconds': 1633996800,\n",
       "     'iso': '2021-10-12T00:00:00.000Z'},\n",
       "    'lastAvailableTime': {'seconds': 1657756800,\n",
       "     'iso': '2022-07-14T00:00:00.000Z'}},\n",
       "   'depth_1': {'firstAvailableTime': {'seconds': 1633996800,\n",
       "     'iso': '2021-10-12T00:00:00.000Z'},\n",
       "    'lastAvailableTime': {'seconds': 1657756800,\n",
       "     'iso': '2022-07-14T00:00:00.000Z'}}},\n",
       "  'examples': ['https://api.cryptochassis.com/v1/market-depth/coinbase/dot-usd']},\n",
       " {'dataType': 'market-depth',\n",
       "  'exchange': 'coinbase',\n",
       "  'instrument': 'dot-usdt',\n",
       "  'availability': {'depth_10': {'firstAvailableTime': {'seconds': 1633996800,\n",
       "     'iso': '2021-10-12T00:00:00.000Z'},\n",
       "    'lastAvailableTime': {'seconds': 1657756800,\n",
       "     'iso': '2022-07-14T00:00:00.000Z'}},\n",
       "   'depth_1': {'firstAvailableTime': {'seconds': 1633996800,\n",
       "     'iso': '2021-10-12T00:00:00.000Z'},\n",
       "    'lastAvailableTime': {'seconds': 1657756800,\n",
       "     'iso': '2022-07-14T00:00:00.000Z'}}},\n",
       "  'examples': ['https://api.cryptochassis.com/v1/market-depth/coinbase/dot-usdt']},\n",
       " {'dataType': 'market-depth',\n",
       "  'exchange': 'coinbase',\n",
       "  'instrument': 'eos-btc',\n",
       "  'availability': {'depth_10': {'firstAvailableTime': {'seconds': 1628294400,\n",
       "     'iso': '2021-08-07T00:00:00.000Z'},\n",
       "    'lastAvailableTime': {'seconds': 1657756800,\n",
       "     'iso': '2022-07-14T00:00:00.000Z'}},\n",
       "   'depth_1': {'firstAvailableTime': {'seconds': 1628294400,\n",
       "     'iso': '2021-08-07T00:00:00.000Z'},\n",
       "    'lastAvailableTime': {'seconds': 1657756800,\n",
       "     'iso': '2022-07-14T00:00:00.000Z'}}},\n",
       "  'examples': ['https://api.cryptochassis.com/v1/market-depth/coinbase/eos-btc']},\n",
       " {'dataType': 'market-depth',\n",
       "  'exchange': 'coinbase',\n",
       "  'instrument': 'eos-eur',\n",
       "  'availability': {'depth_10': {'firstAvailableTime': {'seconds': 1628294400,\n",
       "     'iso': '2021-08-07T00:00:00.000Z'},\n",
       "    'lastAvailableTime': {'seconds': 1657756800,\n",
       "     'iso': '2022-07-14T00:00:00.000Z'}},\n",
       "   'depth_1': {'firstAvailableTime': {'seconds': 1628294400,\n",
       "     'iso': '2021-08-07T00:00:00.000Z'},\n",
       "    'lastAvailableTime': {'seconds': 1657756800,\n",
       "     'iso': '2022-07-14T00:00:00.000Z'}}},\n",
       "  'examples': ['https://api.cryptochassis.com/v1/market-depth/coinbase/eos-eur']},\n",
       " {'dataType': 'market-depth',\n",
       "  'exchange': 'coinbase',\n",
       "  'instrument': 'eos-usd',\n",
       "  'availability': {'depth_10': {'firstAvailableTime': {'seconds': 1597881600,\n",
       "     'iso': '2020-08-20T00:00:00.000Z'},\n",
       "    'lastAvailableTime': {'seconds': 1657756800,\n",
       "     'iso': '2022-07-14T00:00:00.000Z'}},\n",
       "   'depth_1': {'firstAvailableTime': {'seconds': 1577404800,\n",
       "     'iso': '2019-12-27T00:00:00.000Z'},\n",
       "    'lastAvailableTime': {'seconds': 1657756800,\n",
       "     'iso': '2022-07-14T00:00:00.000Z'}}},\n",
       "  'examples': ['https://api.cryptochassis.com/v1/market-depth/coinbase/eos-usd']},\n",
       " {'dataType': 'market-depth',\n",
       "  'exchange': 'coinbase',\n",
       "  'instrument': 'eth-btc',\n",
       "  'availability': {'depth_10': {'firstAvailableTime': {'seconds': 1628294400,\n",
       "     'iso': '2021-08-07T00:00:00.000Z'},\n",
       "    'lastAvailableTime': {'seconds': 1657756800,\n",
       "     'iso': '2022-07-14T00:00:00.000Z'}},\n",
       "   'depth_1': {'firstAvailableTime': {'seconds': 1628294400,\n",
       "     'iso': '2021-08-07T00:00:00.000Z'},\n",
       "    'lastAvailableTime': {'seconds': 1657756800,\n",
       "     'iso': '2022-07-14T00:00:00.000Z'}}},\n",
       "  'examples': ['https://api.cryptochassis.com/v1/market-depth/coinbase/eth-btc']},\n",
       " {'dataType': 'market-depth',\n",
       "  'exchange': 'coinbase',\n",
       "  'instrument': 'eth-eur',\n",
       "  'availability': {'depth_10': {'firstAvailableTime': {'seconds': 1628294400,\n",
       "     'iso': '2021-08-07T00:00:00.000Z'},\n",
       "    'lastAvailableTime': {'seconds': 1657756800,\n",
       "     'iso': '2022-07-14T00:00:00.000Z'}},\n",
       "   'depth_1': {'firstAvailableTime': {'seconds': 1628294400,\n",
       "     'iso': '2021-08-07T00:00:00.000Z'},\n",
       "    'lastAvailableTime': {'seconds': 1657756800,\n",
       "     'iso': '2022-07-14T00:00:00.000Z'}}},\n",
       "  'examples': ['https://api.cryptochassis.com/v1/market-depth/coinbase/eth-eur']},\n",
       " {'dataType': 'market-depth',\n",
       "  'exchange': 'coinbase',\n",
       "  'instrument': 'eth-usd',\n",
       "  'availability': {'depth_10': {'firstAvailableTime': {'seconds': 1597881600,\n",
       "     'iso': '2020-08-20T00:00:00.000Z'},\n",
       "    'lastAvailableTime': {'seconds': 1657756800,\n",
       "     'iso': '2022-07-14T00:00:00.000Z'}},\n",
       "   'depth_1': {'firstAvailableTime': {'seconds': 1572480000,\n",
       "     'iso': '2019-10-31T00:00:00.000Z'},\n",
       "    'lastAvailableTime': {'seconds': 1657756800,\n",
       "     'iso': '2022-07-14T00:00:00.000Z'}}},\n",
       "  'examples': ['https://api.cryptochassis.com/v1/market-depth/coinbase/eth-usd']},\n",
       " {'dataType': 'market-depth',\n",
       "  'exchange': 'coinbase',\n",
       "  'instrument': 'eth-usdc',\n",
       "  'availability': {'depth_10': {'firstAvailableTime': {'seconds': 1628294400,\n",
       "     'iso': '2021-08-07T00:00:00.000Z'},\n",
       "    'lastAvailableTime': {'seconds': 1657756800,\n",
       "     'iso': '2022-07-14T00:00:00.000Z'}},\n",
       "   'depth_1': {'firstAvailableTime': {'seconds': 1628294400,\n",
       "     'iso': '2021-08-07T00:00:00.000Z'},\n",
       "    'lastAvailableTime': {'seconds': 1657756800,\n",
       "     'iso': '2022-07-14T00:00:00.000Z'}}},\n",
       "  'examples': ['https://api.cryptochassis.com/v1/market-depth/coinbase/eth-usdc']},\n",
       " {'dataType': 'market-depth',\n",
       "  'exchange': 'coinbase',\n",
       "  'instrument': 'eth-usdt',\n",
       "  'availability': {'depth_10': {'firstAvailableTime': {'seconds': 1633996800,\n",
       "     'iso': '2021-10-12T00:00:00.000Z'},\n",
       "    'lastAvailableTime': {'seconds': 1657756800,\n",
       "     'iso': '2022-07-14T00:00:00.000Z'}},\n",
       "   'depth_1': {'firstAvailableTime': {'seconds': 1633996800,\n",
       "     'iso': '2021-10-12T00:00:00.000Z'},\n",
       "    'lastAvailableTime': {'seconds': 1657756800,\n",
       "     'iso': '2022-07-14T00:00:00.000Z'}}},\n",
       "  'examples': ['https://api.cryptochassis.com/v1/market-depth/coinbase/eth-usdt']},\n",
       " {'dataType': 'market-depth',\n",
       "  'exchange': 'coinbase',\n",
       "  'instrument': 'ltc-btc',\n",
       "  'availability': {'depth_10': {'firstAvailableTime': {'seconds': 1628294400,\n",
       "     'iso': '2021-08-07T00:00:00.000Z'},\n",
       "    'lastAvailableTime': {'seconds': 1657756800,\n",
       "     'iso': '2022-07-14T00:00:00.000Z'}},\n",
       "   'depth_1': {'firstAvailableTime': {'seconds': 1628294400,\n",
       "     'iso': '2021-08-07T00:00:00.000Z'},\n",
       "    'lastAvailableTime': {'seconds': 1657756800,\n",
       "     'iso': '2022-07-14T00:00:00.000Z'}}},\n",
       "  'examples': ['https://api.cryptochassis.com/v1/market-depth/coinbase/ltc-btc']},\n",
       " {'dataType': 'market-depth',\n",
       "  'exchange': 'coinbase',\n",
       "  'instrument': 'ltc-eur',\n",
       "  'availability': {'depth_10': {'firstAvailableTime': {'seconds': 1628294400,\n",
       "     'iso': '2021-08-07T00:00:00.000Z'},\n",
       "    'lastAvailableTime': {'seconds': 1657756800,\n",
       "     'iso': '2022-07-14T00:00:00.000Z'}},\n",
       "   'depth_1': {'firstAvailableTime': {'seconds': 1628294400,\n",
       "     'iso': '2021-08-07T00:00:00.000Z'},\n",
       "    'lastAvailableTime': {'seconds': 1657756800,\n",
       "     'iso': '2022-07-14T00:00:00.000Z'}}},\n",
       "  'examples': ['https://api.cryptochassis.com/v1/market-depth/coinbase/ltc-eur']},\n",
       " {'dataType': 'market-depth',\n",
       "  'exchange': 'coinbase',\n",
       "  'instrument': 'ltc-usd',\n",
       "  'availability': {'depth_10': {'firstAvailableTime': {'seconds': 1597881600,\n",
       "     'iso': '2020-08-20T00:00:00.000Z'},\n",
       "    'lastAvailableTime': {'seconds': 1657756800,\n",
       "     'iso': '2022-07-14T00:00:00.000Z'}},\n",
       "   'depth_1': {'firstAvailableTime': {'seconds': 1577404800,\n",
       "     'iso': '2019-12-27T00:00:00.000Z'},\n",
       "    'lastAvailableTime': {'seconds': 1657756800,\n",
       "     'iso': '2022-07-14T00:00:00.000Z'}}},\n",
       "  'examples': ['https://api.cryptochassis.com/v1/market-depth/coinbase/ltc-usd']},\n",
       " {'dataType': 'market-depth',\n",
       "  'exchange': 'coinbase',\n",
       "  'instrument': 'sol-btc',\n",
       "  'availability': {'depth_10': {'firstAvailableTime': {'seconds': 1634083200,\n",
       "     'iso': '2021-10-13T00:00:00.000Z'},\n",
       "    'lastAvailableTime': {'seconds': 1657756800,\n",
       "     'iso': '2022-07-14T00:00:00.000Z'}},\n",
       "   'depth_1': {'firstAvailableTime': {'seconds': 1634083200,\n",
       "     'iso': '2021-10-13T00:00:00.000Z'},\n",
       "    'lastAvailableTime': {'seconds': 1657756800,\n",
       "     'iso': '2022-07-14T00:00:00.000Z'}}},\n",
       "  'examples': ['https://api.cryptochassis.com/v1/market-depth/coinbase/sol-btc']},\n",
       " {'dataType': 'market-depth',\n",
       "  'exchange': 'coinbase',\n",
       "  'instrument': 'sol-eur',\n",
       "  'availability': {'depth_10': {'firstAvailableTime': {'seconds': 1634083200,\n",
       "     'iso': '2021-10-13T00:00:00.000Z'},\n",
       "    'lastAvailableTime': {'seconds': 1657756800,\n",
       "     'iso': '2022-07-14T00:00:00.000Z'}},\n",
       "   'depth_1': {'firstAvailableTime': {'seconds': 1634083200,\n",
       "     'iso': '2021-10-13T00:00:00.000Z'},\n",
       "    'lastAvailableTime': {'seconds': 1657756800,\n",
       "     'iso': '2022-07-14T00:00:00.000Z'}}},\n",
       "  'examples': ['https://api.cryptochassis.com/v1/market-depth/coinbase/sol-eur']},\n",
       " {'dataType': 'market-depth',\n",
       "  'exchange': 'coinbase',\n",
       "  'instrument': 'sol-usd',\n",
       "  'availability': {'depth_10': {'firstAvailableTime': {'seconds': 1634083200,\n",
       "     'iso': '2021-10-13T00:00:00.000Z'},\n",
       "    'lastAvailableTime': {'seconds': 1657756800,\n",
       "     'iso': '2022-07-14T00:00:00.000Z'}},\n",
       "   'depth_1': {'firstAvailableTime': {'seconds': 1634083200,\n",
       "     'iso': '2021-10-13T00:00:00.000Z'},\n",
       "    'lastAvailableTime': {'seconds': 1657756800,\n",
       "     'iso': '2022-07-14T00:00:00.000Z'}}},\n",
       "  'examples': ['https://api.cryptochassis.com/v1/market-depth/coinbase/sol-usd']},\n",
       " {'dataType': 'market-depth',\n",
       "  'exchange': 'coinbase',\n",
       "  'instrument': 'sol-usdt',\n",
       "  'availability': {'depth_10': {'firstAvailableTime': {'seconds': 1634083200,\n",
       "     'iso': '2021-10-13T00:00:00.000Z'},\n",
       "    'lastAvailableTime': {'seconds': 1657756800,\n",
       "     'iso': '2022-07-14T00:00:00.000Z'}},\n",
       "   'depth_1': {'firstAvailableTime': {'seconds': 1634083200,\n",
       "     'iso': '2021-10-13T00:00:00.000Z'},\n",
       "    'lastAvailableTime': {'seconds': 1657756800,\n",
       "     'iso': '2022-07-14T00:00:00.000Z'}}},\n",
       "  'examples': ['https://api.cryptochassis.com/v1/market-depth/coinbase/sol-usdt']},\n",
       " {'dataType': 'market-depth',\n",
       "  'exchange': 'coinbase',\n",
       "  'instrument': 'uni-btc',\n",
       "  'availability': {'depth_10': {'firstAvailableTime': {'seconds': 1634083200,\n",
       "     'iso': '2021-10-13T00:00:00.000Z'},\n",
       "    'lastAvailableTime': {'seconds': 1657756800,\n",
       "     'iso': '2022-07-14T00:00:00.000Z'}},\n",
       "   'depth_1': {'firstAvailableTime': {'seconds': 1634083200,\n",
       "     'iso': '2021-10-13T00:00:00.000Z'},\n",
       "    'lastAvailableTime': {'seconds': 1657756800,\n",
       "     'iso': '2022-07-14T00:00:00.000Z'}}},\n",
       "  'examples': ['https://api.cryptochassis.com/v1/market-depth/coinbase/uni-btc']},\n",
       " {'dataType': 'market-depth',\n",
       "  'exchange': 'coinbase',\n",
       "  'instrument': 'uni-eur',\n",
       "  'availability': {'depth_10': {'firstAvailableTime': {'seconds': 1635984000,\n",
       "     'iso': '2021-11-04T00:00:00.000Z'},\n",
       "    'lastAvailableTime': {'seconds': 1657756800,\n",
       "     'iso': '2022-07-14T00:00:00.000Z'}},\n",
       "   'depth_1': {'firstAvailableTime': {'seconds': 1635984000,\n",
       "     'iso': '2021-11-04T00:00:00.000Z'},\n",
       "    'lastAvailableTime': {'seconds': 1657756800,\n",
       "     'iso': '2022-07-14T00:00:00.000Z'}}},\n",
       "  'examples': ['https://api.cryptochassis.com/v1/market-depth/coinbase/uni-eur']},\n",
       " {'dataType': 'market-depth',\n",
       "  'exchange': 'coinbase',\n",
       "  'instrument': 'uni-usd',\n",
       "  'availability': {'depth_10': {'firstAvailableTime': {'seconds': 1634083200,\n",
       "     'iso': '2021-10-13T00:00:00.000Z'},\n",
       "    'lastAvailableTime': {'seconds': 1657756800,\n",
       "     'iso': '2022-07-14T00:00:00.000Z'}},\n",
       "   'depth_1': {'firstAvailableTime': {'seconds': 1634083200,\n",
       "     'iso': '2021-10-13T00:00:00.000Z'},\n",
       "    'lastAvailableTime': {'seconds': 1657756800,\n",
       "     'iso': '2022-07-14T00:00:00.000Z'}}},\n",
       "  'examples': ['https://api.cryptochassis.com/v1/market-depth/coinbase/uni-usd']}]"
      ]
     },
     "execution_count": 53,
     "metadata": {},
     "output_type": "execute_result"
    }
   ],
   "source": [
    "example_url = \"https://api.cryptochassis.com/v1/information?dataType=market-depth&exchange=coinbase\"\n",
    "response = requests.get(example_url)\n",
    "response.json()"
   ]
  },
  {
   "cell_type": "markdown",
   "id": "f04aac48",
   "metadata": {},
   "source": [
    "### Types of extractor"
   ]
  },
  {
   "cell_type": "code",
   "execution_count": 54,
   "id": "aa495c8d",
   "metadata": {
    "ExecuteTime": {
     "end_time": "2022-07-15T12:11:58.146454Z",
     "start_time": "2022-07-15T12:11:58.143475Z"
    }
   },
   "outputs": [],
   "source": [
    "extractor_spot = imvccdexex.CryptoChassisExtractor(\"spot\")"
   ]
  },
  {
   "cell_type": "code",
   "execution_count": 55,
   "id": "d5fdb5ef",
   "metadata": {
    "ExecuteTime": {
     "end_time": "2022-07-15T12:11:58.151498Z",
     "start_time": "2022-07-15T12:11:58.148347Z"
    }
   },
   "outputs": [],
   "source": [
    "# Only binance futures are supported.\n",
    "extractor_futures = imvccdexex.CryptoChassisExtractor(\"futures\")"
   ]
  },
  {
   "cell_type": "markdown",
   "id": "413d9ace",
   "metadata": {},
   "source": [
    "### Methods for building an URL"
   ]
  },
  {
   "cell_type": "markdown",
   "id": "512ca42f",
   "metadata": {},
   "source": [
    "#### Building an URL"
   ]
  },
  {
   "cell_type": "code",
   "execution_count": 80,
   "id": "8a56e4e7",
   "metadata": {
    "ExecuteTime": {
     "end_time": "2022-07-15T12:15:16.154018Z",
     "start_time": "2022-07-15T12:15:16.149418Z"
    }
   },
   "outputs": [
    {
     "data": {
      "text/plain": [
       "'https://api.cryptochassis.com/v1/ohlc/binance/btc-usdt'"
      ]
     },
     "execution_count": 80,
     "metadata": {},
     "output_type": "execute_result"
    }
   ],
   "source": [
    "base_url = extractor_spot._build_base_url(\"ohlc\", \"binance\", \"btc-usdt\")\n",
    "base_url"
   ]
  },
  {
   "cell_type": "code",
   "execution_count": 81,
   "id": "af3b1460",
   "metadata": {
    "ExecuteTime": {
     "end_time": "2022-07-15T12:15:17.363125Z",
     "start_time": "2022-07-15T12:15:16.881021Z"
    },
    "scrolled": true
   },
   "outputs": [
    {
     "data": {
      "text/plain": [
       "{'recent': {'startTime': {'seconds': 1657886760,\n",
       "   'iso': '2022-07-15T12:06:00.000Z'},\n",
       "  'endTime': {'seconds': 1657887360, 'iso': '2022-07-15T12:16:00.000Z'},\n",
       "  'fields': 'time_seconds, open, high, low, close, volume, vwap, number_of_trades, twap',\n",
       "  'data': [[1657886760,\n",
       "    '20790.97',\n",
       "    '20798.22',\n",
       "    '20777.94',\n",
       "    '20780.48',\n",
       "    '47.29312',\n",
       "    '20788.7027',\n",
       "    1644,\n",
       "    '20788.7767'],\n",
       "   [1657886820,\n",
       "    '20780.48',\n",
       "    '20790.84',\n",
       "    '20772.41',\n",
       "    '20787.68',\n",
       "    '48.89685',\n",
       "    '20781.713',\n",
       "    1762,\n",
       "    '20781.7018'],\n",
       "   [1657886880,\n",
       "    '20787.68',\n",
       "    '20804.99',\n",
       "    '20784.35',\n",
       "    '20790.85',\n",
       "    '85.18028',\n",
       "    '20795.8921',\n",
       "    2107,\n",
       "    '20793.6858'],\n",
       "   [1657886940,\n",
       "    '20792.05',\n",
       "    '20803.41',\n",
       "    '20786.9',\n",
       "    '20791.12',\n",
       "    '74.45113',\n",
       "    '20793.9814',\n",
       "    1645,\n",
       "    '20795.3513'],\n",
       "   [1657887000,\n",
       "    '20793.36',\n",
       "    '20793.4',\n",
       "    '20775.05',\n",
       "    '20778.85',\n",
       "    '84.89033',\n",
       "    '20782.4377',\n",
       "    1945,\n",
       "    '20782.5448'],\n",
       "   [1657887060,\n",
       "    '20780.13',\n",
       "    '20784.65',\n",
       "    '20767.02',\n",
       "    '20776.83',\n",
       "    '48.34743',\n",
       "    '20775.6598',\n",
       "    1898,\n",
       "    '20775.2956'],\n",
       "   [1657887120,\n",
       "    '20776.83',\n",
       "    '20804.99',\n",
       "    '20774.65',\n",
       "    '20800.65',\n",
       "    '94.82575',\n",
       "    '20792.069',\n",
       "    2420,\n",
       "    '20791.8995'],\n",
       "   [1657887180,\n",
       "    '20800.65',\n",
       "    '20809.75',\n",
       "    '20783.71',\n",
       "    '20788.22',\n",
       "    '60.87194',\n",
       "    '20799.6994',\n",
       "    2051,\n",
       "    '20797.9322']]}}"
      ]
     },
     "execution_count": 81,
     "metadata": {},
     "output_type": "execute_result"
    }
   ],
   "source": [
    "response = requests.get(base_url)\n",
    "response.json()"
   ]
  },
  {
   "cell_type": "markdown",
   "id": "d2149415",
   "metadata": {},
   "source": [
    "#### Specifying a query"
   ]
  },
  {
   "cell_type": "code",
   "execution_count": 82,
   "id": "c6f9f6d3",
   "metadata": {
    "ExecuteTime": {
     "end_time": "2022-07-15T12:15:24.353884Z",
     "start_time": "2022-07-15T12:15:24.348694Z"
    },
    "run_control": {
     "marked": false
    }
   },
   "outputs": [
    {
     "data": {
      "text/plain": [
       "'https://api.cryptochassis.com/v1/ohlc/binance/btc-usdt?startTime=2019-12-26T00:00:00.000Z&endTime=2019-12-27T00:00:00.000Z&interval=1m'"
      ]
     },
     "execution_count": 82,
     "metadata": {},
     "output_type": "execute_result"
    }
   ],
   "source": [
    "startTime = \"2019-12-26T00:00:00.000Z\"\n",
    "endTime = \"2019-12-27T00:00:00.000Z\"\n",
    "interval = \"1m\"\n",
    "query_url = extractor_spot._build_query_url(\n",
    "    base_url, startTime=startTime, endTime=endTime, interval=interval\n",
    ")\n",
    "query_url"
   ]
  },
  {
   "cell_type": "code",
   "execution_count": null,
   "id": "d3d62b58",
   "metadata": {
    "ExecuteTime": {
     "end_time": "2022-07-15T12:15:27.981911Z",
     "start_time": "2022-07-15T12:15:27.503582Z"
    },
    "pycharm": {
     "is_executing": true
    }
   },
   "outputs": [],
   "source": [
    "response = requests.get(query_url)\n",
    "response.json()"
   ]
  },
  {
   "cell_type": "markdown",
   "id": "c6e14425",
   "metadata": {},
   "source": [
    "### Available data types"
   ]
  },
  {
   "cell_type": "code",
   "execution_count": 60,
   "id": "5bd4d236",
   "metadata": {
    "ExecuteTime": {
     "end_time": "2022-07-15T12:11:59.896221Z",
     "start_time": "2022-07-15T12:11:59.429491Z"
    }
   },
   "outputs": [
    {
     "data": {
      "text/plain": [
       "{'message': \"Please provide mandatory query parameter 'dataType'. Allowed values: market-depth,ohlc,trade.\"}"
      ]
     },
     "execution_count": 60,
     "metadata": {},
     "output_type": "execute_result"
    }
   ],
   "source": [
    "url = \"https://api.cryptochassis.com/v1/information\"\n",
    "response = requests.get(url)\n",
    "response.json()"
   ]
  },
  {
   "cell_type": "code",
   "execution_count": 61,
   "id": "9fc8acda",
   "metadata": {
    "ExecuteTime": {
     "end_time": "2022-07-15T12:12:01.286232Z",
     "start_time": "2022-07-15T12:11:59.898000Z"
    }
   },
   "outputs": [
    {
     "name": "stdout",
     "output_type": "stream",
     "text": [
      "https://api.cryptochassis.com/v1/information?dataType=market-depth\n",
      "{'message': \"Please provide mandatory query parameter 'exchange'. Allowed values: bitfinex,bitmex,binance,binance-coin-futures,binance-usds-futures,binance-us,bitstamp,coinbase,deribit,ftx,ftx-us,gateio,gateio-perpetual-futures,gemini,huobi,huobi-coin-swap,huobi-usdt-swap,kucoin,kraken,kraken-futures,okex.\"}\n",
      "https://api.cryptochassis.com/v1/information?dataType=ohlc\n",
      "{'message': \"Please provide mandatory query parameter 'exchange'. Allowed values: bitfinex,bitmex,binance,binance-coin-futures,binance-usds-futures,binance-us,bitstamp,coinbase,deribit,ftx,ftx-us,gateio,gateio-perpetual-futures,gemini,huobi,huobi-coin-swap,huobi-usdt-swap,kucoin,kraken,kraken-futures,okex.\"}\n",
      "https://api.cryptochassis.com/v1/information?dataType=trade\n",
      "{'message': \"Please provide mandatory query parameter 'exchange'. Allowed values: bitfinex,bitmex,binance,binance-coin-futures,binance-usds-futures,binance-us,bitstamp,coinbase,deribit,ftx,ftx-us,gateio,gateio-perpetual-futures,gemini,huobi,huobi-coin-swap,huobi-usdt-swap,kucoin,kraken,kraken-futures,okex.\"}\n"
     ]
    }
   ],
   "source": [
    "data_types = [\"market-depth\", \"ohlc\", \"trade\"]\n",
    "for data_type in data_types:\n",
    "    url = f\"https://api.cryptochassis.com/v1/information?dataType={data_type}\"\n",
    "    print(url)\n",
    "    print(requests.get(url).json())"
   ]
  },
  {
   "cell_type": "markdown",
   "id": "fb12427c",
   "metadata": {},
   "source": [
    "### Available instruments"
   ]
  },
  {
   "cell_type": "markdown",
   "id": "50c6b346",
   "metadata": {},
   "source": [
    "Only for those included in universe v5."
   ]
  },
  {
   "cell_type": "code",
   "execution_count": 62,
   "id": "84601555",
   "metadata": {
    "ExecuteTime": {
     "end_time": "2022-07-15T12:12:01.379388Z",
     "start_time": "2022-07-15T12:12:01.288371Z"
    }
   },
   "outputs": [],
   "source": [
    "universe = imvcounun.get_vendor_universe(\"crypto_chassis\", \"download\")\n",
    "supported_exchanges = list(universe.keys())"
   ]
  },
  {
   "cell_type": "code",
   "execution_count": 63,
   "id": "13dd542d",
   "metadata": {
    "ExecuteTime": {
     "end_time": "2022-07-15T12:12:01.387000Z",
     "start_time": "2022-07-15T12:12:01.382219Z"
    }
   },
   "outputs": [
    {
     "data": {
      "text/plain": [
       "['binance', 'coinbase', 'ftx', 'gateio', 'kucoin']"
      ]
     },
     "execution_count": 63,
     "metadata": {},
     "output_type": "execute_result"
    }
   ],
   "source": [
    "supported_exchanges"
   ]
  },
  {
   "cell_type": "markdown",
   "id": "3ed184c3",
   "metadata": {},
   "source": [
    "## OHLCV"
   ]
  },
  {
   "cell_type": "markdown",
   "id": "20f2b2d4",
   "metadata": {},
   "source": [
    "### Spot"
   ]
  },
  {
   "cell_type": "markdown",
   "id": "b00ba026",
   "metadata": {},
   "source": [
    "#### Raw data example (using `requests`)"
   ]
  },
  {
   "cell_type": "code",
   "execution_count": 64,
   "id": "51d106d9",
   "metadata": {
    "ExecuteTime": {
     "end_time": "2022-07-15T12:12:01.978116Z",
     "start_time": "2022-07-15T12:12:01.389375Z"
    }
   },
   "outputs": [
    {
     "name": "stdout",
     "output_type": "stream",
     "text": [
      "https://api.cryptochassis.com/v1/ohlc/ftx/btc-usdt?startTime=1657778400&endTime=1657789200\n",
      "{'recent': {'startTime': {'seconds': 1657778400, 'iso': '2022-07-14T06:00:00.000Z'}, 'endTime': {'seconds': 1657789200, 'iso': '2022-07-14T09:00:00.000Z'}, 'fields': 'time_seconds, open, high, low, close, volume, vwap, number_of_trades, twap', 'data': [[1657778400, '20109', '20109', '20093', '20095', '1.0908', '20101.96', 44, '20101.34'], [1657778460, '20094', '20094', '20088', '20088', '0.9441', '20089.07', 22, '20091.45'], [1657778520, '20088', '20092', '20083', '20085', '0.1125', '20085.41', 14, '20085.29'], [1657778580, '20085', '20096', '20085', '20087', '0.423', '20089.26', 31, '20089.61'], [1657778640, '20087', '20094', '20086', '20094', '0.4443', '20090.96', 18, '20089.17'], [1657778700, '20094', '20110', '20078', '20110', '0.9536', '20094.91', 42, '20092.64'], [1657778760, '20110', '20122', '20105', '20121', '0.8634', '20111.7', 34, '20113.18'], [1657778820, '20121', '20143', '20114', '20116', '3.6558', '20134.04', 68, '20128.6'], [1657778880, '20118', '20122', '20114', '20117', '0.393', '20116.16', 14, '20117.07'], [1657778940, '20117', '20122', '20113', '20121', '0.122', '20117.55', 16, '20117.75'], [1657779000, '20118', '20118', '20116', '20116', '0.0321', '20117.9', 5, '20117.4'], [1657779060, '20116', '20121', '20102', '20102', '0.8523', '20113.66', 25, '20112.96'], [1657779120, '20103', '20112', '20093', '20096', '2.1254', '20099.58', 33, '20102.33'], [1657779180, '20096', '20108', '20096', '20103', '0.6374', '20099.08', 21, '20101.71'], [1657779240, '20104', '20107', '20095', '20099', '0.7563', '20103.12', 24, '20101.54'], [1657779300, '20099', '20099', '20095', '20096', '0.2286', '20098.49', 10, '20096.7'], [1657779360, '20094', '20094', '20086', '20086', '0.0914', '20086.56', 10, '20089'], [1657779420, '20086', '20096', '20086', '20096', '0.3693', '20088.34', 13, '20089.54'], [1657779480, '20096', '20114', '20092', '20114', '1.519', '20099.13', 30, '20099.27'], [1657779540, '20114', '20122', '20114', '20122', '0.3624', '20119.2', 14, '20119.14'], [1657779600, '20123', '20124', '20109', '20109', '1.0157', '20120.45', 30, '20117.53'], [1657779660, '20107', '20112', '20106', '20107', '0.0187', '20106.94', 10, '20108.4'], [1657779720, '20105', '20118', '20104', '20111', '0.4071', '20108.88', 16, '20108.56'], [1657779780, '20111', '20124', '20111', '20121', '0.8216', '20118.83', 21, '20118.71'], [1657779840, '20123', '20123', '20089', '20089', '1.0804', '20104.39', 39, '20102.28'], [1657779900, '20088', '20088', '20038', '20047', '4.7893', '20057.05', 127, '20056.74'], [1657779960, '20048', '20068', '20048', '20049', '1.4208', '20059.11', 50, '20057.44'], [1657780020, '20052', '20062', '20052', '20062', '0.3328', '20061.89', 11, '20057.82'], [1657780080, '20061', '20061', '20056', '20056', '0.437', '20059.68', 17, '20058.12'], [1657780140, '20055', '20056', '20000', '20001', '14.8135', '20022.25', 135, '20024.22'], [1657780200, '20005', '20045', '19926', '19973', '32.3734', '19993.26', 336, '19988.4'], [1657780260, '19970', '19970', '19901', '19934', '20.8625', '19934.32', 203, '19934.02'], [1657780320, '19934', '19944', '19917', '19927', '0.9867', '19932.63', 40, '19932.3'], [1657780380, '19927', '19952', '19927', '19952', '0.883', '19942.23', 37, '19939.73'], [1657780440, '19951', '19951', '19936', '19936', '1.8899', '19942.19', 40, '19942.6'], [1657780500, '19936', '19983', '19936', '19980', '3.3016', '19958.83', 74, '19960.03'], [1657780560, '19980', '19982', '19960', '19974', '0.7002', '19974.79', 36, '19972.39'], [1657780620, '19978', '19985', '19976', '19983', '0.5399', '19983.97', 19, '19981.42'], [1657780680, '19984', '19997', '19983', '19994', '1.4977', '19989.6', 28, '19989.07'], [1657780740, '19991', '19999', '19983', '19983', '3.2694', '19990.49', 36, '19991.47'], [1657780800, '19983', '19983', '19969', '19975', '0.5927', '19973.16', 24, '19974.67'], [1657780860, '19973', '19978', '19971', '19973', '1.3774', '19976.18', 20, '19975.25'], [1657780920, '19971', '19974', '19965', '19972', '0.3612', '19968.67', 23, '19969.83'], [1657780980, '19971', '19983', '19971', '19982', '0.6198', '19976.82', 29, '19977.83'], [1657781040, '19980', '20001', '19980', '19995', '0.508', '19995.34', 23, '19992.87'], [1657781100, '19999', '20050', '19999', '20042', '2.5602', '20034.16', 93, '20033.66'], [1657781160, '20043', '20061', '20038', '20038', '1.1744', '20049.26', 57, '20048.32'], [1657781220, '20039', '20057', '20039', '20041', '1.4085', '20043.03', 34, '20046.21'], [1657781280, '20040', '20053', '20040', '20045', '0.7659', '20043.95', 26, '20045.88'], [1657781340, '20045', '20056', '20045', '20048', '0.2852', '20049.48', 19, '20049.89'], [1657781400, '20048', '20048', '20029', '20032', '0.2924', '20037.93', 29, '20037.69'], [1657781460, '20035', '20050', '20035', '20050', '0.1811', '20044.94', 13, '20043.31'], [1657781520, '20049', '20049', '20030', '20035', '0.8591', '20039.46', 33, '20038.33'], [1657781580, '20034', '20034', '20018', '20023', '2.0785', '20023.72', 41, '20023.07'], [1657781640, '20021', '20036', '20015', '20016', '0.9113', '20026.16', 40, '20024.13'], [1657781700, '20018', '20023', '20016', '20020', '0.4153', '20018.55', 21, '20018.95'], [1657781760, '20020', '20031', '20020', '20020', '1.0452', '20027.14', 26, '20025.73'], [1657781820, '20020', '20030', '20015', '20030', '3.2292', '20021.65', 32, '20021.06'], [1657781880, '20029', '20040', '20027', '20040', '0.2397', '20035.22', 17, '20034.06'], [1657781940, '20043', '20043', '20024', '20024', '0.6694', '20034.39', 21, '20034.38'], [1657782000, '20024', '20040', '20020', '20037', '0.5226', '20027.96', 36, '20029.42'], [1657782060, '20038', '20047', '20031', '20041', '0.9447', '20039.79', 27, '20041.04'], [1657782120, '20038', '20038', '20033', '20034', '0.0235', '20035.54', 11, '20035.91'], [1657782180, '20031', '20034', '20023', '20023', '0.2238', '20029.14', 12, '20029.08'], [1657782240, '20023', '20025', '20016', '20016', '0.2705', '20024.35', 21, '20021.24'], [1657782300, '20014', '20014', '19957', '19957', '2.3202', '19988.59', 75, '19989.47'], [1657782360, '19960', '19972', '19944', '19972', '1.3728', '19954.22', 69, '19955.48'], [1657782420, '19972', '19976', '19958', '19965', '0.9525', '19965.41', 45, '19965.69'], [1657782480, '19962', '19962', '19920', '19945', '9.881', '19928.63', 58, '19937.79'], [1657782540, '19945', '19945', '19933', '19933', '0.8212', '19938.45', 25, '19939.36'], [1657782600, '19931', '19964', '19926', '19958', '3.9697', '19948.16', 61, '19946.38'], [1657782660, '19958', '19982', '19958', '19976', '0.4296', '19967.37', 39, '19973.18'], [1657782720, '19974', '19984', '19967', '19976', '0.9921', '19977.18', 28, '19976.21'], [1657782780, '19978', '19982', '19959', '19963', '0.6832', '19966.18', 31, '19969.94'], [1657782840, '19960', '19981', '19960', '19973', '2.2089', '19971.61', 45, '19969.84'], [1657782900, '19974', '19981', '19974', '19980', '3.8649', '19976.51', 38, '19977.76'], [1657782960, '19981', '19985', '19973', '19974', '1.4178', '19978.19', 27, '19979.04'], [1657783020, '19973', '19988', '19967', '19988', '4.0166', '19977.01', 42, '19976.93'], [1657783080, '19989', '19995', '19983', '19983', '4.2209', '19985.69', 51, '19987.92'], [1657783140, '19982', '20000', '19982', '19996', '0.343', '19995.8', 33, '19993.7'], [1657783200, '19992', '20000', '19992', '20000', '0.2765', '19999.63', 10, '19997.2'], [1657783260, '19998', '20007', '19998', '20007', '0.6182', '19998.38', 14, '19999.5'], [1657783320, '20009', '20029', '20009', '20023', '1.8365', '20014.4', 53, '20018.19'], [1657783380, '20022', '20022', '20005', '20007', '0.63', '20011.68', 32, '20010.28'], [1657783440, '20007', '20007', '19982', '19984', '3.4131', '19984.5', 38, '19990.61'], [1657783500, '19985', '19985', '19972', '19975', '2.7473', '19975.98', 39, '19976.77'], [1657783560, '19976', '19977', '19970', '19970', '0.8306', '19971.51', 14, '19973.14'], [1657783620, '19972', '19983', '19963', '19982', '8.0754', '19978.28', 75, '19975.45'], [1657783680, '19983', '20004', '19983', '19989', '2.2058', '19995.46', 49, '19994.2'], [1657783740, '19990', '19990', '19980', '19986', '1.3231', '19987.28', 34, '19985.06'], [1657783800, '19988', '20006', '19987', '20006', '2.0037', '19999.32', 39, '19998.51'], [1657783860, '20006', '20018', '20002', '20004', '0.5623', '20013.2', 26, '20010.08'], [1657783920, '20003', '20003', '19987', '19987', '0.3615', '19998.68', 24, '19995.25'], [1657783980, '19986', '19987', '19972', '19972', '0.9589', '19983.3', 28, '19982.11'], [1657784040, '19972', '19977', '19965', '19977', '1.9679', '19970.03', 39, '19971.28'], [1657784100, '19979', '19996', '19979', '19996', '1.2289', '19986.8', 28, '19987.07'], [1657784160, '19998', '20016', '19996', '20016', '1.2552', '20003.02', 28, '20003.07'], [1657784220, '20016', '20016', '19997', '20005', '3.4389', '20003.5', 55, '20004.76'], [1657784280, '20004', '20007', '19995', '19995', '0.7529', '20002.02', 20, '20002.75'], [1657784340, '19996', '19999', '19981', '19981', '0.5456', '19987.87', 18, '19992.83'], [1657784400, '19978', '19981', '19968', '19968', '1.1106', '19974.45', 26, '19974.31'], [1657784460, '19967', '19968', '19934', '19948', '6.6317', '19951.11', 101, '19949.32'], [1657784520, '19946', '19962', '19946', '19962', '1.8234', '19954.51', 37, '19954.49'], [1657784580, '19962', '20016', '19962', '20006', '3.687', '19991.31', 67, '19989.27'], [1657784640, '20004', '20007', '19970', '19977', '1.2039', '19990.15', 40, '19993.18'], [1657784700, '19980', '19983', '19955', '19965', '0.8599', '19962.03', 33, '19966.24'], [1657784760, '19963', '19963', '19956', '19958', '0.5557', '19960.79', 21, '19960'], [1657784820, '19959', '19982', '19958', '19981', '1.1436', '19973.64', 35, '19970.89'], [1657784880, '19983', '19984', '19962', '19963', '0.7207', '19976.59', 26, '19973.81'], [1657784940, '19962', '19967', '19960', '19966', '1.1814', '19962.29', 21, '19962.71'], [1657785000, '19960', '19967', '19955', '19961', '1.6096', '19962.52', 34, '19961.06'], [1657785060, '19963', '19976', '19961', '19976', '3.5353', '19966.24', 40, '19968.38'], [1657785120, '19973', '19980', '19965', '19980', '0.3831', '19972.1', 20, '19972.15'], [1657785180, '19981', '19988', '19976', '19988', '0.3189', '19979.58', 15, '19980.73'], [1657785240, '19990', '19996', '19983', '19996', '0.6437', '19989.09', 31, '19989.58'], [1657785300, '19994', '19999', '19988', '19995', '0.5495', '19993.94', 19, '19992.37'], [1657785360, '19992', '20006', '19992', '19994', '0.9512', '20000.41', 33, '19999.06'], [1657785420, '19996', '19996', '19978', '19988', '1.9358', '19986.21', 44, '19986.98'], [1657785480, '19991', '19991', '19986', '19987', '0.113', '19988.99', 10, '19988.2'], [1657785540, '19989', '19991', '19981', '19990', '0.2588', '19984.85', 17, '19985.18'], [1657785600, '19992', '20011', '19973', '20011', '1.5884', '19993.22', 42, '19990.38'], [1657785660, '20013', '20041', '20013', '20035', '2.6005', '20027.29', 80, '20029.76'], [1657785720, '20033', '20033', '20013', '20014', '1.4624', '20021.01', 46, '20021.11'], [1657785780, '20014', '20051', '20013', '20042', '1.3325', '20038.19', 49, '20033'], [1657785840, '20042', '20042', '20027', '20035', '1.2193', '20034.33', 35, '20034.2'], [1657785900, '20035', '20035', '20009', '20009', '1.8614', '20023.88', 40, '20023.12'], [1657785960, '20004', '20004', '19956', '19959', '5.3319', '19969.78', 114, '19972.99'], [1657786020, '19957', '19978', '19950', '19950', '2.6719', '19961.15', 56, '19961.71'], [1657786080, '19951', '19968', '19951', '19964', '2.1554', '19958', 40, '19960.18'], [1657786140, '19965', '19985', '19965', '19985', '0.6615', '19969.09', 24, '19972.37'], [1657786200, '19986', '19986', '19975', '19978', '0.9434', '19979.65', 23, '19978.78'], [1657786260, '19978', '20000', '19978', '19993', '1.5579', '19986.97', 40, '19987.2'], [1657786320, '19994', '20015', '19981', '20004', '4.1415', '20004.76', 64, '19999.75'], [1657786380, '20003', '20013', '20000', '20007', '1.1713', '20003.16', 26, '20005.85'], [1657786440, '20010', '20010', '20005', '20009', '0.2565', '20009.44', 15, '20007.8'], [1657786500, '20011', '20024', '20001', '20001', '3.2879', '20013.96', 75, '20013.39'], [1657786560, '20000', '20000', '19982', '19990', '1.5823', '19988.88', 39, '19990.64'], [1657786620, '19991', '20015', '19987', '20007', '1.5989', '20003.78', 42, '20000.76'], [1657786680, '20004', '20009', '19991', '19991', '2.2257', '20001.53', 36, '20000.5'], [1657786740, '19991', '20010', '19991', '19992', '1.7001', '20003.83', 34, '20002.32'], [1657786800, '19994', '20004', '19989', '19992', '0.659', '19995.01', 24, '19995.04'], [1657786860, '19994', '19995', '19980', '19987', '1.2446', '19987.33', 30, '19986.17'], [1657786920, '19990', '19994', '19985', '19987', '1.0843', '19989.91', 26, '19989.27'], [1657786980, '19985', '19994', '19982', '19982', '0.895', '19984.91', 21, '19986.9'], [1657787040, '19982', '19982', '19969', '19975', '2.1213', '19975.83', 43, '19975.09'], [1657787100, '19973', '19980', '19969', '19971', '1.748', '19974.1', 48, '19973.85'], [1657787160, '19972', '19987', '19972', '19978', '1.245', '19978.53', 29, '19979.9'], [1657787220, '19984', '19991', '19978', '19978', '1.1684', '19981.47', 33, '19981.91'], [1657787280, '19978', '19980', '19976', '19976', '0.9677', '19976.8', 18, '19977.17'], [1657787340, '19974', '19976', '19962', '19974', '1.0575', '19972.52', 36, '19971.53'], [1657787400, '19972', '19976', '19968', '19970', '0.8803', '19970.93', 20, '19970.9'], [1657787460, '19968', '19974', '19962', '19971', '1.2733', '19967.47', 27, '19969.11'], [1657787520, '19972', '19985', '19972', '19975', '0.3121', '19974.3', 29, '19976.48'], [1657787580, '19976', '19983', '19974', '19977', '0.4055', '19977.19', 15, '19977.6'], [1657787640, '19974', '19974', '19967', '19967', '0.2915', '19968.22', 10, '19970.6'], [1657787700, '19966', '19969', '19938', '19939', '1.7189', '19957.01', 48, '19952.15'], [1657787760, '19939', '19944', '19898', '19906', '3.5411', '19917.23', 98, '19919.35'], [1657787820, '19906', '19922', '19906', '19922', '0.8704', '19916.34', 32, '19914.12'], [1657787880, '19923', '19935', '19902', '19902', '1.8629', '19916.82', 51, '19920.65'], [1657787940, '19897', '19919', '19878', '19888', '0.7352', '19898.15', 87, '19895.17'], [1657788000, '19888', '19913', '19862', '19913', '1.8274', '19888.53', 98, '19881.96'], [1657788060, '19913', '19913', '19874', '19874', '1.0224', '19899.63', 46, '19888.54'], [1657788120, '19871', '19884', '19865', '19883', '3.4827', '19873.92', 58, '19874.64'], [1657788180, '19885', '19885', '19850', '19861', '5.3323', '19860.39', 116, '19862.87'], [1657788240, '19865', '19870', '19840', '19847', '2.9445', '19855.17', 88, '19855.44'], [1657788300, '19846', '19867', '19838', '19855', '11.9368', '19840.48', 81, '19852.63'], [1657788360, '19853', '19868', '19850', '19867', '2.3475', '19863.32', 33, '19861.21'], [1657788420, '19868', '19873', '19859', '19867', '2.0559', '19866.42', 47, '19867.13'], [1657788480, '19870', '19871', '19858', '19866', '0.5554', '19865.51', 25, '19864.88'], [1657788540, '19863', '19868', '19851', '19851', '0.7006', '19854.18', 20, '19860.55'], [1657788600, '19851', '19856', '19850', '19851', '1.2412', '19850.58', 19, '19852.21'], [1657788660, '19850', '19850', '19817', '19842', '7.5881', '19836.98', 102, '19834.73'], [1657788720, '19840', '19840', '19768', '19784', '14.9344', '19792.3', 212, '19797.46'], [1657788780, '19786', '19788', '19767', '19777', '13.9349', '19782.46', 86, '19779.12'], [1657788840, '19777', '19785', '19759', '19763', '0.56', '19776.01', 44, '19773.84'], [1657788900, '19761', '19775', '19751', '19763', '3.9025', '19764.76', 74, '19761.82'], [1657788960, '19766', '19771', '19746', '19757', '4.3741', '19758.37', 83, '19760.12'], [1657789020, '19759', '19760', '19743', '19743', '3.5728', '19753.94', 46, '19753.07'], [1657789080, '19743', '19768', '19743', '19767', '3.1127', '19761.87', 46, '19759.72'], [1657789140, '19767', '19773', '19753', '19764', '1.6588', '19762.2', 47, '19762.53']]}}\n"
     ]
    }
   ],
   "source": [
    "url = f\"https://api.cryptochassis.com/v1/ohlc/ftx/btc-usdt?startTime=1657778400&endTime=1657789200\"\n",
    "response = requests.get(url)\n",
    "print(url)\n",
    "print(response.json())"
   ]
  },
  {
   "cell_type": "markdown",
   "id": "3e2c9e91",
   "metadata": {},
   "source": [
    "#### DataFrame example using Extractor class"
   ]
  },
  {
   "cell_type": "code",
   "execution_count": 65,
   "id": "7822f3c5",
   "metadata": {
    "ExecuteTime": {
     "end_time": "2022-07-15T12:12:05.011543Z",
     "start_time": "2022-07-15T12:12:01.980380Z"
    }
   },
   "outputs": [
    {
     "data": {
      "text/html": [
       "<div>\n",
       "<style scoped>\n",
       "    .dataframe tbody tr th:only-of-type {\n",
       "        vertical-align: middle;\n",
       "    }\n",
       "\n",
       "    .dataframe tbody tr th {\n",
       "        vertical-align: top;\n",
       "    }\n",
       "\n",
       "    .dataframe thead th {\n",
       "        text-align: right;\n",
       "    }\n",
       "</style>\n",
       "<table border=\"1\" class=\"dataframe\">\n",
       "  <thead>\n",
       "    <tr style=\"text-align: right;\">\n",
       "      <th></th>\n",
       "      <th>timestamp</th>\n",
       "      <th>open</th>\n",
       "      <th>high</th>\n",
       "      <th>low</th>\n",
       "      <th>close</th>\n",
       "      <th>volume</th>\n",
       "      <th>vwap</th>\n",
       "      <th>number_of_trades</th>\n",
       "      <th>twap</th>\n",
       "    </tr>\n",
       "  </thead>\n",
       "  <tbody>\n",
       "    <tr>\n",
       "      <th>446952</th>\n",
       "      <td>1655200800</td>\n",
       "      <td>22308.0</td>\n",
       "      <td>22319.0</td>\n",
       "      <td>22280.0</td>\n",
       "      <td>22304.0</td>\n",
       "      <td>4.9872</td>\n",
       "      <td>22290.76</td>\n",
       "      <td>59</td>\n",
       "      <td>22291.97</td>\n",
       "    </tr>\n",
       "    <tr>\n",
       "      <th>446953</th>\n",
       "      <td>1655200860</td>\n",
       "      <td>22302.0</td>\n",
       "      <td>22323.0</td>\n",
       "      <td>22276.0</td>\n",
       "      <td>22320.0</td>\n",
       "      <td>6.4465</td>\n",
       "      <td>22302.28</td>\n",
       "      <td>60</td>\n",
       "      <td>22299.92</td>\n",
       "    </tr>\n",
       "    <tr>\n",
       "      <th>446954</th>\n",
       "      <td>1655200920</td>\n",
       "      <td>22318.0</td>\n",
       "      <td>22339.0</td>\n",
       "      <td>22317.0</td>\n",
       "      <td>22336.0</td>\n",
       "      <td>3.4770</td>\n",
       "      <td>22330.43</td>\n",
       "      <td>35</td>\n",
       "      <td>22330.26</td>\n",
       "    </tr>\n",
       "    <tr>\n",
       "      <th>446955</th>\n",
       "      <td>1655200980</td>\n",
       "      <td>22337.0</td>\n",
       "      <td>22337.0</td>\n",
       "      <td>22270.0</td>\n",
       "      <td>22274.0</td>\n",
       "      <td>2.1692</td>\n",
       "      <td>22297.47</td>\n",
       "      <td>36</td>\n",
       "      <td>22288.83</td>\n",
       "    </tr>\n",
       "    <tr>\n",
       "      <th>446956</th>\n",
       "      <td>1655201040</td>\n",
       "      <td>22273.0</td>\n",
       "      <td>22300.0</td>\n",
       "      <td>22258.0</td>\n",
       "      <td>22262.0</td>\n",
       "      <td>6.5203</td>\n",
       "      <td>22273.90</td>\n",
       "      <td>52</td>\n",
       "      <td>22276.10</td>\n",
       "    </tr>\n",
       "    <tr>\n",
       "      <th>...</th>\n",
       "      <td>...</td>\n",
       "      <td>...</td>\n",
       "      <td>...</td>\n",
       "      <td>...</td>\n",
       "      <td>...</td>\n",
       "      <td>...</td>\n",
       "      <td>...</td>\n",
       "      <td>...</td>\n",
       "      <td>...</td>\n",
       "    </tr>\n",
       "    <tr>\n",
       "      <th>447127</th>\n",
       "      <td>1655211300</td>\n",
       "      <td>22194.0</td>\n",
       "      <td>22236.0</td>\n",
       "      <td>22150.0</td>\n",
       "      <td>22150.0</td>\n",
       "      <td>4.3421</td>\n",
       "      <td>22191.58</td>\n",
       "      <td>50</td>\n",
       "      <td>22190.46</td>\n",
       "    </tr>\n",
       "    <tr>\n",
       "      <th>447128</th>\n",
       "      <td>1655211360</td>\n",
       "      <td>22150.0</td>\n",
       "      <td>22197.0</td>\n",
       "      <td>22136.0</td>\n",
       "      <td>22136.0</td>\n",
       "      <td>5.1520</td>\n",
       "      <td>22157.65</td>\n",
       "      <td>64</td>\n",
       "      <td>22158.36</td>\n",
       "    </tr>\n",
       "    <tr>\n",
       "      <th>447129</th>\n",
       "      <td>1655211420</td>\n",
       "      <td>22160.0</td>\n",
       "      <td>22193.0</td>\n",
       "      <td>22160.0</td>\n",
       "      <td>22160.0</td>\n",
       "      <td>4.3106</td>\n",
       "      <td>22187.51</td>\n",
       "      <td>23</td>\n",
       "      <td>22179.48</td>\n",
       "    </tr>\n",
       "    <tr>\n",
       "      <th>447130</th>\n",
       "      <td>1655211480</td>\n",
       "      <td>22154.0</td>\n",
       "      <td>22186.0</td>\n",
       "      <td>22154.0</td>\n",
       "      <td>22154.0</td>\n",
       "      <td>4.7718</td>\n",
       "      <td>22171.77</td>\n",
       "      <td>48</td>\n",
       "      <td>22170.60</td>\n",
       "    </tr>\n",
       "    <tr>\n",
       "      <th>447131</th>\n",
       "      <td>1655211540</td>\n",
       "      <td>22157.0</td>\n",
       "      <td>22168.0</td>\n",
       "      <td>22132.0</td>\n",
       "      <td>22143.0</td>\n",
       "      <td>2.2400</td>\n",
       "      <td>22150.33</td>\n",
       "      <td>35</td>\n",
       "      <td>22151.77</td>\n",
       "    </tr>\n",
       "  </tbody>\n",
       "</table>\n",
       "<p>180 rows × 9 columns</p>\n",
       "</div>"
      ],
      "text/plain": [
       "         timestamp     open     high      low    close  volume      vwap  \\\n",
       "446952  1655200800  22308.0  22319.0  22280.0  22304.0  4.9872  22290.76   \n",
       "446953  1655200860  22302.0  22323.0  22276.0  22320.0  6.4465  22302.28   \n",
       "446954  1655200920  22318.0  22339.0  22317.0  22336.0  3.4770  22330.43   \n",
       "446955  1655200980  22337.0  22337.0  22270.0  22274.0  2.1692  22297.47   \n",
       "446956  1655201040  22273.0  22300.0  22258.0  22262.0  6.5203  22273.90   \n",
       "...            ...      ...      ...      ...      ...     ...       ...   \n",
       "447127  1655211300  22194.0  22236.0  22150.0  22150.0  4.3421  22191.58   \n",
       "447128  1655211360  22150.0  22197.0  22136.0  22136.0  5.1520  22157.65   \n",
       "447129  1655211420  22160.0  22193.0  22160.0  22160.0  4.3106  22187.51   \n",
       "447130  1655211480  22154.0  22186.0  22154.0  22154.0  4.7718  22171.77   \n",
       "447131  1655211540  22157.0  22168.0  22132.0  22143.0  2.2400  22150.33   \n",
       "\n",
       "        number_of_trades      twap  \n",
       "446952                59  22291.97  \n",
       "446953                60  22299.92  \n",
       "446954                35  22330.26  \n",
       "446955                36  22288.83  \n",
       "446956                52  22276.10  \n",
       "...                  ...       ...  \n",
       "447127                50  22190.46  \n",
       "447128                64  22158.36  \n",
       "447129                23  22179.48  \n",
       "447130                48  22170.60  \n",
       "447131                35  22151.77  \n",
       "\n",
       "[180 rows x 9 columns]"
      ]
     },
     "execution_count": 65,
     "metadata": {},
     "output_type": "execute_result"
    }
   ],
   "source": [
    "start_timestamp = pd.Timestamp(\"2022-06-14T10:00:00\", tz=\"UTC\")\n",
    "end_timestamp = pd.Timestamp(\"2022-06-14T12:59:00\", tz=\"UTC\")\n",
    "extractor_spot._download_ohlcv(\n",
    "    \"ftx\",\n",
    "    \"btc-usdt\",\n",
    "    start_timestamp=start_timestamp,\n",
    "    end_timestamp=end_timestamp,\n",
    ")"
   ]
  },
  {
   "cell_type": "markdown",
   "id": "47657a94",
   "metadata": {},
   "source": [
    "### Futures"
   ]
  },
  {
   "cell_type": "markdown",
   "id": "a7223e90",
   "metadata": {},
   "source": [
    "#### Raw data example (using `requests`)"
   ]
  },
  {
   "cell_type": "code",
   "execution_count": null,
   "id": "717c7bef",
   "metadata": {
    "ExecuteTime": {
     "end_time": "2022-07-15T12:12:05.482301Z",
     "start_time": "2022-07-15T12:12:05.014808Z"
    },
    "pycharm": {
     "is_executing": true
    }
   },
   "outputs": [],
   "source": [
    "url = f\"https://api.cryptochassis.com/v1/ohlc/binance-usds-futures/btcusdt?startTime=1654718400&endTime=1654740000\"\n",
    "response = requests.get(url)\n",
    "print(url)\n",
    "# The raw data is in the value of the `urls.url` field zipped into the csv.gz archive,\n",
    "# which contains dataframe which is unpacked by the extractor.\n",
    "print(response.json())"
   ]
  },
  {
   "cell_type": "markdown",
   "id": "17efec5a",
   "metadata": {},
   "source": [
    "#### DataFrame example using Extractor class"
   ]
  },
  {
   "cell_type": "code",
   "execution_count": 71,
   "id": "398224e8",
   "metadata": {
    "ExecuteTime": {
     "end_time": "2022-07-15T12:12:35.788352Z",
     "start_time": "2022-07-15T12:12:32.492325Z"
    }
   },
   "outputs": [
    {
     "data": {
      "text/html": [
       "<div>\n",
       "<style scoped>\n",
       "    .dataframe tbody tr th:only-of-type {\n",
       "        vertical-align: middle;\n",
       "    }\n",
       "\n",
       "    .dataframe tbody tr th {\n",
       "        vertical-align: top;\n",
       "    }\n",
       "\n",
       "    .dataframe thead th {\n",
       "        text-align: right;\n",
       "    }\n",
       "</style>\n",
       "<table border=\"1\" class=\"dataframe\">\n",
       "  <thead>\n",
       "    <tr style=\"text-align: right;\">\n",
       "      <th></th>\n",
       "      <th>timestamp</th>\n",
       "      <th>open</th>\n",
       "      <th>high</th>\n",
       "      <th>low</th>\n",
       "      <th>close</th>\n",
       "      <th>volume</th>\n",
       "      <th>vwap</th>\n",
       "      <th>number_of_trades</th>\n",
       "      <th>twap</th>\n",
       "    </tr>\n",
       "  </thead>\n",
       "  <tbody>\n",
       "    <tr>\n",
       "      <th>440421</th>\n",
       "      <td>1654732800</td>\n",
       "      <td>30192.6</td>\n",
       "      <td>30214.3</td>\n",
       "      <td>30192.5</td>\n",
       "      <td>30212.0</td>\n",
       "      <td>155.545</td>\n",
       "      <td>30205.567</td>\n",
       "      <td>1126</td>\n",
       "      <td>30204.366</td>\n",
       "    </tr>\n",
       "    <tr>\n",
       "      <th>440422</th>\n",
       "      <td>1654732860</td>\n",
       "      <td>30212.0</td>\n",
       "      <td>30232.4</td>\n",
       "      <td>30201.0</td>\n",
       "      <td>30201.8</td>\n",
       "      <td>215.314</td>\n",
       "      <td>30225.374</td>\n",
       "      <td>740</td>\n",
       "      <td>30224.264</td>\n",
       "    </tr>\n",
       "    <tr>\n",
       "      <th>440423</th>\n",
       "      <td>1654732920</td>\n",
       "      <td>30201.8</td>\n",
       "      <td>30201.8</td>\n",
       "      <td>30155.0</td>\n",
       "      <td>30155.0</td>\n",
       "      <td>603.105</td>\n",
       "      <td>30173.402</td>\n",
       "      <td>1320</td>\n",
       "      <td>30171.075</td>\n",
       "    </tr>\n",
       "    <tr>\n",
       "      <th>440424</th>\n",
       "      <td>1654732980</td>\n",
       "      <td>30155.1</td>\n",
       "      <td>30190.3</td>\n",
       "      <td>30152.2</td>\n",
       "      <td>30169.3</td>\n",
       "      <td>302.726</td>\n",
       "      <td>30168.783</td>\n",
       "      <td>1261</td>\n",
       "      <td>30170.223</td>\n",
       "    </tr>\n",
       "    <tr>\n",
       "      <th>440425</th>\n",
       "      <td>1654733040</td>\n",
       "      <td>30169.2</td>\n",
       "      <td>30190.4</td>\n",
       "      <td>30149.4</td>\n",
       "      <td>30154.6</td>\n",
       "      <td>148.219</td>\n",
       "      <td>30161.431</td>\n",
       "      <td>743</td>\n",
       "      <td>30164.793</td>\n",
       "    </tr>\n",
       "    <tr>\n",
       "      <th>...</th>\n",
       "      <td>...</td>\n",
       "      <td>...</td>\n",
       "      <td>...</td>\n",
       "      <td>...</td>\n",
       "      <td>...</td>\n",
       "      <td>...</td>\n",
       "      <td>...</td>\n",
       "      <td>...</td>\n",
       "      <td>...</td>\n",
       "    </tr>\n",
       "    <tr>\n",
       "      <th>441857</th>\n",
       "      <td>1654818960</td>\n",
       "      <td>30104.5</td>\n",
       "      <td>30108.0</td>\n",
       "      <td>30090.5</td>\n",
       "      <td>30105.1</td>\n",
       "      <td>79.671</td>\n",
       "      <td>30098.609</td>\n",
       "      <td>385</td>\n",
       "      <td>30100.381</td>\n",
       "    </tr>\n",
       "    <tr>\n",
       "      <th>441858</th>\n",
       "      <td>1654819020</td>\n",
       "      <td>30105.1</td>\n",
       "      <td>30107.3</td>\n",
       "      <td>30090.5</td>\n",
       "      <td>30103.5</td>\n",
       "      <td>51.219</td>\n",
       "      <td>30099.119</td>\n",
       "      <td>303</td>\n",
       "      <td>30100.102</td>\n",
       "    </tr>\n",
       "    <tr>\n",
       "      <th>441859</th>\n",
       "      <td>1654819080</td>\n",
       "      <td>30103.5</td>\n",
       "      <td>30103.5</td>\n",
       "      <td>30090.0</td>\n",
       "      <td>30090.1</td>\n",
       "      <td>31.519</td>\n",
       "      <td>30097.066</td>\n",
       "      <td>255</td>\n",
       "      <td>30097.436</td>\n",
       "    </tr>\n",
       "    <tr>\n",
       "      <th>441860</th>\n",
       "      <td>1654819140</td>\n",
       "      <td>30090.1</td>\n",
       "      <td>30093.4</td>\n",
       "      <td>30088.2</td>\n",
       "      <td>30093.3</td>\n",
       "      <td>31.198</td>\n",
       "      <td>30089.784</td>\n",
       "      <td>196</td>\n",
       "      <td>30089.768</td>\n",
       "    </tr>\n",
       "    <tr>\n",
       "      <th>441861</th>\n",
       "      <td>1654819200</td>\n",
       "      <td>30093.4</td>\n",
       "      <td>30097.7</td>\n",
       "      <td>30078.0</td>\n",
       "      <td>30090.0</td>\n",
       "      <td>117.871</td>\n",
       "      <td>30085.828</td>\n",
       "      <td>949</td>\n",
       "      <td>30087.273</td>\n",
       "    </tr>\n",
       "  </tbody>\n",
       "</table>\n",
       "<p>1441 rows × 9 columns</p>\n",
       "</div>"
      ],
      "text/plain": [
       "         timestamp     open     high      low    close   volume       vwap  \\\n",
       "440421  1654732800  30192.6  30214.3  30192.5  30212.0  155.545  30205.567   \n",
       "440422  1654732860  30212.0  30232.4  30201.0  30201.8  215.314  30225.374   \n",
       "440423  1654732920  30201.8  30201.8  30155.0  30155.0  603.105  30173.402   \n",
       "440424  1654732980  30155.1  30190.3  30152.2  30169.3  302.726  30168.783   \n",
       "440425  1654733040  30169.2  30190.4  30149.4  30154.6  148.219  30161.431   \n",
       "...            ...      ...      ...      ...      ...      ...        ...   \n",
       "441857  1654818960  30104.5  30108.0  30090.5  30105.1   79.671  30098.609   \n",
       "441858  1654819020  30105.1  30107.3  30090.5  30103.5   51.219  30099.119   \n",
       "441859  1654819080  30103.5  30103.5  30090.0  30090.1   31.519  30097.066   \n",
       "441860  1654819140  30090.1  30093.4  30088.2  30093.3   31.198  30089.784   \n",
       "441861  1654819200  30093.4  30097.7  30078.0  30090.0  117.871  30085.828   \n",
       "\n",
       "        number_of_trades       twap  \n",
       "440421              1126  30204.366  \n",
       "440422               740  30224.264  \n",
       "440423              1320  30171.075  \n",
       "440424              1261  30170.223  \n",
       "440425               743  30164.793  \n",
       "...                  ...        ...  \n",
       "441857               385  30100.381  \n",
       "441858               303  30100.102  \n",
       "441859               255  30097.436  \n",
       "441860               196  30089.768  \n",
       "441861               949  30087.273  \n",
       "\n",
       "[1441 rows x 9 columns]"
      ]
     },
     "execution_count": 71,
     "metadata": {},
     "output_type": "execute_result"
    }
   ],
   "source": [
    "start_timestamp = pd.Timestamp(\"2022-06-09T00:00:00\", tz=\"UTC\")\n",
    "end_timestamp = pd.Timestamp(\"2022-06-10T00:00:00\", tz=\"UTC\")\n",
    "extractor_futures._download_ohlcv(\n",
    "    \"binance\",\n",
    "    \"btc/usdt\",\n",
    "    start_timestamp=start_timestamp,\n",
    "    end_timestamp=end_timestamp,\n",
    ")"
   ]
  },
  {
   "cell_type": "markdown",
   "id": "d13ba26a",
   "metadata": {},
   "source": [
    "## Bid/ask"
   ]
  },
  {
   "cell_type": "markdown",
   "id": "7c3c94ca",
   "metadata": {},
   "source": [
    "### Spot"
   ]
  },
  {
   "cell_type": "markdown",
   "id": "c61ae671",
   "metadata": {},
   "source": [
    "#### Raw data example (using `requests`)"
   ]
  },
  {
   "cell_type": "code",
   "execution_count": null,
   "id": "c77dd5be",
   "metadata": {
    "ExecuteTime": {
     "end_time": "2022-07-15T12:12:36.262437Z",
     "start_time": "2022-07-15T12:12:35.790268Z"
    },
    "pycharm": {
     "is_executing": true
    }
   },
   "outputs": [],
   "source": [
    "url = f\"https://api.cryptochassis.com/v1/market-depth/ftx/btc-usdt?startTime=1655204609&endTime=1655206609\"\n",
    "response = requests.get(url)\n",
    "# The raw data is in the value of the `urls.url` field zipped into the csv.gz archive,\n",
    "# which contains dataframe which is unpacked by the extractor.\n",
    "response.json()"
   ]
  },
  {
   "cell_type": "markdown",
   "id": "46ce264a",
   "metadata": {},
   "source": [
    "#### DataFrame example using Extractor class"
   ]
  },
  {
   "cell_type": "code",
   "execution_count": 73,
   "id": "cab53660",
   "metadata": {
    "ExecuteTime": {
     "end_time": "2022-07-15T12:12:39.902414Z",
     "start_time": "2022-07-15T12:12:37.310734Z"
    }
   },
   "outputs": [
    {
     "name": "stderr",
     "output_type": "stream",
     "text": [
      "100%|████████████████████████████████████████████████████████████████████████████████████| 1/1 [00:01<00:00,  1.62s/it]\n"
     ]
    },
    {
     "data": {
      "text/html": [
       "<div>\n",
       "<style scoped>\n",
       "    .dataframe tbody tr th:only-of-type {\n",
       "        vertical-align: middle;\n",
       "    }\n",
       "\n",
       "    .dataframe tbody tr th {\n",
       "        vertical-align: top;\n",
       "    }\n",
       "\n",
       "    .dataframe thead th {\n",
       "        text-align: right;\n",
       "    }\n",
       "</style>\n",
       "<table border=\"1\" class=\"dataframe\">\n",
       "  <thead>\n",
       "    <tr style=\"text-align: right;\">\n",
       "      <th></th>\n",
       "      <th>timestamp</th>\n",
       "      <th>bid_price</th>\n",
       "      <th>bid_size</th>\n",
       "      <th>ask_price</th>\n",
       "      <th>ask_size</th>\n",
       "    </tr>\n",
       "  </thead>\n",
       "  <tbody>\n",
       "    <tr>\n",
       "      <th>0</th>\n",
       "      <td>1655164800</td>\n",
       "      <td>22473.0</td>\n",
       "      <td>0.2253</td>\n",
       "      <td>22478.0</td>\n",
       "      <td>0.2253</td>\n",
       "    </tr>\n",
       "    <tr>\n",
       "      <th>1</th>\n",
       "      <td>1655164801</td>\n",
       "      <td>22468.0</td>\n",
       "      <td>0.4700</td>\n",
       "      <td>22478.0</td>\n",
       "      <td>0.2250</td>\n",
       "    </tr>\n",
       "    <tr>\n",
       "      <th>2</th>\n",
       "      <td>1655164802</td>\n",
       "      <td>22471.0</td>\n",
       "      <td>0.7513</td>\n",
       "      <td>22478.0</td>\n",
       "      <td>0.2250</td>\n",
       "    </tr>\n",
       "    <tr>\n",
       "      <th>3</th>\n",
       "      <td>1655164803</td>\n",
       "      <td>22458.0</td>\n",
       "      <td>1.2250</td>\n",
       "      <td>22471.0</td>\n",
       "      <td>0.2253</td>\n",
       "    </tr>\n",
       "    <tr>\n",
       "      <th>4</th>\n",
       "      <td>1655164804</td>\n",
       "      <td>22463.0</td>\n",
       "      <td>0.0449</td>\n",
       "      <td>22471.0</td>\n",
       "      <td>0.2253</td>\n",
       "    </tr>\n",
       "    <tr>\n",
       "      <th>...</th>\n",
       "      <td>...</td>\n",
       "      <td>...</td>\n",
       "      <td>...</td>\n",
       "      <td>...</td>\n",
       "      <td>...</td>\n",
       "    </tr>\n",
       "    <tr>\n",
       "      <th>82092</th>\n",
       "      <td>1655251195</td>\n",
       "      <td>22150.0</td>\n",
       "      <td>0.2229</td>\n",
       "      <td>22153.0</td>\n",
       "      <td>0.2716</td>\n",
       "    </tr>\n",
       "    <tr>\n",
       "      <th>82093</th>\n",
       "      <td>1655251196</td>\n",
       "      <td>22150.0</td>\n",
       "      <td>0.0015</td>\n",
       "      <td>22152.0</td>\n",
       "      <td>2.0000</td>\n",
       "    </tr>\n",
       "    <tr>\n",
       "      <th>82094</th>\n",
       "      <td>1655251197</td>\n",
       "      <td>22128.0</td>\n",
       "      <td>0.9175</td>\n",
       "      <td>22136.0</td>\n",
       "      <td>0.8439</td>\n",
       "    </tr>\n",
       "    <tr>\n",
       "      <th>82095</th>\n",
       "      <td>1655251198</td>\n",
       "      <td>22130.0</td>\n",
       "      <td>0.2275</td>\n",
       "      <td>22143.0</td>\n",
       "      <td>2.2000</td>\n",
       "    </tr>\n",
       "    <tr>\n",
       "      <th>82096</th>\n",
       "      <td>1655251199</td>\n",
       "      <td>22127.0</td>\n",
       "      <td>0.2275</td>\n",
       "      <td>22138.0</td>\n",
       "      <td>0.2400</td>\n",
       "    </tr>\n",
       "  </tbody>\n",
       "</table>\n",
       "<p>82097 rows × 5 columns</p>\n",
       "</div>"
      ],
      "text/plain": [
       "        timestamp  bid_price  bid_size  ask_price  ask_size\n",
       "0      1655164800    22473.0    0.2253    22478.0    0.2253\n",
       "1      1655164801    22468.0    0.4700    22478.0    0.2250\n",
       "2      1655164802    22471.0    0.7513    22478.0    0.2250\n",
       "3      1655164803    22458.0    1.2250    22471.0    0.2253\n",
       "4      1655164804    22463.0    0.0449    22471.0    0.2253\n",
       "...           ...        ...       ...        ...       ...\n",
       "82092  1655251195    22150.0    0.2229    22153.0    0.2716\n",
       "82093  1655251196    22150.0    0.0015    22152.0    2.0000\n",
       "82094  1655251197    22128.0    0.9175    22136.0    0.8439\n",
       "82095  1655251198    22130.0    0.2275    22143.0    2.2000\n",
       "82096  1655251199    22127.0    0.2275    22138.0    0.2400\n",
       "\n",
       "[82097 rows x 5 columns]"
      ]
     },
     "execution_count": 73,
     "metadata": {},
     "output_type": "execute_result"
    }
   ],
   "source": [
    "start_timestamp = pd.Timestamp(\"2022-06-14T10:00:00\", tz=\"UTC\")\n",
    "end_timestamp = pd.Timestamp(\"2022-06-14T12:59:00\", tz=\"UTC\")\n",
    "extractor_spot._download_bid_ask(\n",
    "    \"ftx\",\n",
    "    \"btc-usdt\",\n",
    "    start_timestamp=start_timestamp,\n",
    "    end_timestamp=end_timestamp,\n",
    ")"
   ]
  },
  {
   "cell_type": "markdown",
   "id": "5441d157",
   "metadata": {},
   "source": [
    "### Futures"
   ]
  },
  {
   "cell_type": "markdown",
   "id": "b9dbd873",
   "metadata": {},
   "source": [
    "#### Raw data example (using `requests`)"
   ]
  },
  {
   "cell_type": "code",
   "execution_count": null,
   "id": "a4bcfa73",
   "metadata": {
    "ExecuteTime": {
     "end_time": "2022-07-15T12:12:40.374635Z",
     "start_time": "2022-07-15T12:12:39.904557Z"
    },
    "pycharm": {
     "is_executing": true
    }
   },
   "outputs": [],
   "source": [
    "url = f\"https://api.cryptochassis.com/v1/market-depth/binance-usds-futures/btcusdt?startTime=1654718400&endTime=1654740000\"\n",
    "response = requests.get(url)\n",
    "print(url)\n",
    "# The raw data is in the value of the `urls.url` field zipped into the csv.gz archive,\n",
    "# which contains dataframe which is unpacked by the extractor.\n",
    "print(response.json())"
   ]
  },
  {
   "cell_type": "markdown",
   "id": "76794aaa",
   "metadata": {},
   "source": [
    "#### DataFrame example using Extractor class"
   ]
  },
  {
   "cell_type": "code",
   "execution_count": 75,
   "id": "a6da90c0",
   "metadata": {
    "ExecuteTime": {
     "end_time": "2022-07-15T12:12:44.586985Z",
     "start_time": "2022-07-15T12:12:42.115661Z"
    }
   },
   "outputs": [
    {
     "name": "stderr",
     "output_type": "stream",
     "text": [
      "100%|████████████████████████████████████████████████████████████████████████████████████| 1/1 [00:01<00:00,  1.64s/it]\n"
     ]
    },
    {
     "data": {
      "text/html": [
       "<div>\n",
       "<style scoped>\n",
       "    .dataframe tbody tr th:only-of-type {\n",
       "        vertical-align: middle;\n",
       "    }\n",
       "\n",
       "    .dataframe tbody tr th {\n",
       "        vertical-align: top;\n",
       "    }\n",
       "\n",
       "    .dataframe thead th {\n",
       "        text-align: right;\n",
       "    }\n",
       "</style>\n",
       "<table border=\"1\" class=\"dataframe\">\n",
       "  <thead>\n",
       "    <tr style=\"text-align: right;\">\n",
       "      <th></th>\n",
       "      <th>timestamp</th>\n",
       "      <th>bid_price</th>\n",
       "      <th>bid_size</th>\n",
       "      <th>ask_price</th>\n",
       "      <th>ask_size</th>\n",
       "    </tr>\n",
       "  </thead>\n",
       "  <tbody>\n",
       "    <tr>\n",
       "      <th>0</th>\n",
       "      <td>1654732800</td>\n",
       "      <td>30192.5</td>\n",
       "      <td>0.655</td>\n",
       "      <td>30192.6</td>\n",
       "      <td>3.219</td>\n",
       "    </tr>\n",
       "    <tr>\n",
       "      <th>1</th>\n",
       "      <td>1654732801</td>\n",
       "      <td>30192.8</td>\n",
       "      <td>4.320</td>\n",
       "      <td>30192.9</td>\n",
       "      <td>0.002</td>\n",
       "    </tr>\n",
       "    <tr>\n",
       "      <th>2</th>\n",
       "      <td>1654732802</td>\n",
       "      <td>30192.8</td>\n",
       "      <td>3.620</td>\n",
       "      <td>30192.9</td>\n",
       "      <td>0.002</td>\n",
       "    </tr>\n",
       "    <tr>\n",
       "      <th>3</th>\n",
       "      <td>1654732803</td>\n",
       "      <td>30192.8</td>\n",
       "      <td>3.621</td>\n",
       "      <td>30192.9</td>\n",
       "      <td>0.002</td>\n",
       "    </tr>\n",
       "    <tr>\n",
       "      <th>4</th>\n",
       "      <td>1654732804</td>\n",
       "      <td>30195.3</td>\n",
       "      <td>0.140</td>\n",
       "      <td>30197.4</td>\n",
       "      <td>0.700</td>\n",
       "    </tr>\n",
       "    <tr>\n",
       "      <th>...</th>\n",
       "      <td>...</td>\n",
       "      <td>...</td>\n",
       "      <td>...</td>\n",
       "      <td>...</td>\n",
       "      <td>...</td>\n",
       "    </tr>\n",
       "    <tr>\n",
       "      <th>86382</th>\n",
       "      <td>1654819195</td>\n",
       "      <td>30093.3</td>\n",
       "      <td>7.624</td>\n",
       "      <td>30093.4</td>\n",
       "      <td>2.271</td>\n",
       "    </tr>\n",
       "    <tr>\n",
       "      <th>86383</th>\n",
       "      <td>1654819196</td>\n",
       "      <td>30093.3</td>\n",
       "      <td>10.199</td>\n",
       "      <td>30093.4</td>\n",
       "      <td>1.419</td>\n",
       "    </tr>\n",
       "    <tr>\n",
       "      <th>86384</th>\n",
       "      <td>1654819197</td>\n",
       "      <td>30093.3</td>\n",
       "      <td>12.234</td>\n",
       "      <td>30093.4</td>\n",
       "      <td>1.685</td>\n",
       "    </tr>\n",
       "    <tr>\n",
       "      <th>86385</th>\n",
       "      <td>1654819198</td>\n",
       "      <td>30093.3</td>\n",
       "      <td>12.511</td>\n",
       "      <td>30093.4</td>\n",
       "      <td>2.547</td>\n",
       "    </tr>\n",
       "    <tr>\n",
       "      <th>86386</th>\n",
       "      <td>1654819199</td>\n",
       "      <td>30093.3</td>\n",
       "      <td>11.948</td>\n",
       "      <td>30093.4</td>\n",
       "      <td>2.513</td>\n",
       "    </tr>\n",
       "  </tbody>\n",
       "</table>\n",
       "<p>86387 rows × 5 columns</p>\n",
       "</div>"
      ],
      "text/plain": [
       "        timestamp  bid_price  bid_size  ask_price  ask_size\n",
       "0      1654732800    30192.5     0.655    30192.6     3.219\n",
       "1      1654732801    30192.8     4.320    30192.9     0.002\n",
       "2      1654732802    30192.8     3.620    30192.9     0.002\n",
       "3      1654732803    30192.8     3.621    30192.9     0.002\n",
       "4      1654732804    30195.3     0.140    30197.4     0.700\n",
       "...           ...        ...       ...        ...       ...\n",
       "86382  1654819195    30093.3     7.624    30093.4     2.271\n",
       "86383  1654819196    30093.3    10.199    30093.4     1.419\n",
       "86384  1654819197    30093.3    12.234    30093.4     1.685\n",
       "86385  1654819198    30093.3    12.511    30093.4     2.547\n",
       "86386  1654819199    30093.3    11.948    30093.4     2.513\n",
       "\n",
       "[86387 rows x 5 columns]"
      ]
     },
     "execution_count": 75,
     "metadata": {},
     "output_type": "execute_result"
    }
   ],
   "source": [
    "start_timestamp = pd.Timestamp(\"2022-06-09T00:00:00\", tz=\"UTC\")\n",
    "end_timestamp = pd.Timestamp(\"2022-06-09T07:00:00\", tz=\"UTC\")\n",
    "extractor_futures._download_bid_ask(\n",
    "    \"binance\",\n",
    "    \"btc/usdt\",\n",
    "    start_timestamp=start_timestamp,\n",
    "    end_timestamp=end_timestamp,\n",
    ")"
   ]
  },
  {
   "cell_type": "markdown",
   "id": "f07b517d",
   "metadata": {},
   "source": [
    "## Trade"
   ]
  },
  {
   "cell_type": "markdown",
   "id": "c7ac7cac",
   "metadata": {},
   "source": [
    "### Spot"
   ]
  },
  {
   "cell_type": "markdown",
   "id": "012245eb",
   "metadata": {},
   "source": [
    "#### Raw data example (using `requests`)"
   ]
  },
  {
   "cell_type": "code",
   "execution_count": null,
   "id": "3c356c8c",
   "metadata": {
    "ExecuteTime": {
     "end_time": "2022-07-15T12:12:45.059280Z",
     "start_time": "2022-07-15T12:12:44.588917Z"
    },
    "pycharm": {
     "is_executing": true
    }
   },
   "outputs": [],
   "source": [
    "url = f\"https://api.cryptochassis.com/v1/trade/ftx/btc-usdt?startTime=1655204609\"\n",
    "response = requests.get(url)\n",
    "# The raw data is in the value of the `urls.url` field zipped into the csv.gz archive,\n",
    "# which contains dataframe which is unpacked by the extractor.\n",
    "response.json()"
   ]
  },
  {
   "cell_type": "markdown",
   "id": "de7b2e1b",
   "metadata": {},
   "source": [
    "#### DataFrame example using Extractor class"
   ]
  },
  {
   "cell_type": "code",
   "execution_count": 77,
   "id": "72a383be",
   "metadata": {
    "ExecuteTime": {
     "end_time": "2022-07-15T12:12:49.716758Z",
     "start_time": "2022-07-15T12:12:48.237702Z"
    }
   },
   "outputs": [
    {
     "data": {
      "text/html": [
       "<div>\n",
       "<style scoped>\n",
       "    .dataframe tbody tr th:only-of-type {\n",
       "        vertical-align: middle;\n",
       "    }\n",
       "\n",
       "    .dataframe tbody tr th {\n",
       "        vertical-align: top;\n",
       "    }\n",
       "\n",
       "    .dataframe thead th {\n",
       "        text-align: right;\n",
       "    }\n",
       "</style>\n",
       "<table border=\"1\" class=\"dataframe\">\n",
       "  <thead>\n",
       "    <tr style=\"text-align: right;\">\n",
       "      <th></th>\n",
       "      <th>timestamp</th>\n",
       "      <th>price</th>\n",
       "      <th>size</th>\n",
       "      <th>is_buyer_maker</th>\n",
       "    </tr>\n",
       "  </thead>\n",
       "  <tbody>\n",
       "    <tr>\n",
       "      <th>0</th>\n",
       "      <td>1657411201</td>\n",
       "      <td>21592</td>\n",
       "      <td>0.0002</td>\n",
       "      <td>1</td>\n",
       "    </tr>\n",
       "    <tr>\n",
       "      <th>1</th>\n",
       "      <td>1657411201</td>\n",
       "      <td>21592</td>\n",
       "      <td>0.0230</td>\n",
       "      <td>1</td>\n",
       "    </tr>\n",
       "    <tr>\n",
       "      <th>2</th>\n",
       "      <td>1657411203</td>\n",
       "      <td>21592</td>\n",
       "      <td>0.0232</td>\n",
       "      <td>1</td>\n",
       "    </tr>\n",
       "    <tr>\n",
       "      <th>3</th>\n",
       "      <td>1657411204</td>\n",
       "      <td>21593</td>\n",
       "      <td>0.0006</td>\n",
       "      <td>0</td>\n",
       "    </tr>\n",
       "    <tr>\n",
       "      <th>4</th>\n",
       "      <td>1657411205</td>\n",
       "      <td>21592</td>\n",
       "      <td>0.0141</td>\n",
       "      <td>1</td>\n",
       "    </tr>\n",
       "    <tr>\n",
       "      <th>...</th>\n",
       "      <td>...</td>\n",
       "      <td>...</td>\n",
       "      <td>...</td>\n",
       "      <td>...</td>\n",
       "    </tr>\n",
       "    <tr>\n",
       "      <th>43266</th>\n",
       "      <td>1657497589</td>\n",
       "      <td>20850</td>\n",
       "      <td>0.0156</td>\n",
       "      <td>0</td>\n",
       "    </tr>\n",
       "    <tr>\n",
       "      <th>43267</th>\n",
       "      <td>1657497596</td>\n",
       "      <td>20851</td>\n",
       "      <td>0.0002</td>\n",
       "      <td>0</td>\n",
       "    </tr>\n",
       "    <tr>\n",
       "      <th>43268</th>\n",
       "      <td>1657497596</td>\n",
       "      <td>20853</td>\n",
       "      <td>0.0015</td>\n",
       "      <td>0</td>\n",
       "    </tr>\n",
       "    <tr>\n",
       "      <th>43269</th>\n",
       "      <td>1657497596</td>\n",
       "      <td>20855</td>\n",
       "      <td>0.1000</td>\n",
       "      <td>0</td>\n",
       "    </tr>\n",
       "    <tr>\n",
       "      <th>43270</th>\n",
       "      <td>1657497597</td>\n",
       "      <td>20856</td>\n",
       "      <td>0.1000</td>\n",
       "      <td>0</td>\n",
       "    </tr>\n",
       "  </tbody>\n",
       "</table>\n",
       "<p>43271 rows × 4 columns</p>\n",
       "</div>"
      ],
      "text/plain": [
       "        timestamp  price    size  is_buyer_maker\n",
       "0      1657411201  21592  0.0002               1\n",
       "1      1657411201  21592  0.0230               1\n",
       "2      1657411203  21592  0.0232               1\n",
       "3      1657411204  21593  0.0006               0\n",
       "4      1657411205  21592  0.0141               1\n",
       "...           ...    ...     ...             ...\n",
       "43266  1657497589  20850  0.0156               0\n",
       "43267  1657497596  20851  0.0002               0\n",
       "43268  1657497596  20853  0.0015               0\n",
       "43269  1657497596  20855  0.1000               0\n",
       "43270  1657497597  20856  0.1000               0\n",
       "\n",
       "[43271 rows x 4 columns]"
      ]
     },
     "execution_count": 77,
     "metadata": {},
     "output_type": "execute_result"
    }
   ],
   "source": [
    "start_timestamp = pd.Timestamp(\"2022-07-10T10:00:00\", tz=\"UTC\")\n",
    "extractor_spot._download_trades(\n",
    "    \"ftx\", \"btc-usdt\", start_timestamp=start_timestamp\n",
    ")"
   ]
  },
  {
   "cell_type": "markdown",
   "id": "dbe774b2",
   "metadata": {},
   "source": [
    "### Futures"
   ]
  },
  {
   "cell_type": "markdown",
   "id": "ecac9f71",
   "metadata": {},
   "source": [
    "#### Raw data example (using `requests`)"
   ]
  },
  {
   "cell_type": "code",
   "execution_count": null,
   "id": "999f42bd",
   "metadata": {
    "ExecuteTime": {
     "end_time": "2022-07-15T12:12:50.184138Z",
     "start_time": "2022-07-15T12:12:49.719293Z"
    },
    "pycharm": {
     "is_executing": true
    }
   },
   "outputs": [],
   "source": [
    "url = f\"https://api.cryptochassis.com/v1/trade/binance-usds-futures/btcusdt?startTime=1654718400\"\n",
    "response = requests.get(url)\n",
    "print(url)\n",
    "# The raw data is in the value of the `urls.url` field zipped into the csv.gz archive,\n",
    "# which contains dataframe which is unpacked by the extractor.\n",
    "print(response.json())"
   ]
  },
  {
   "cell_type": "markdown",
   "id": "b1b2f00f",
   "metadata": {},
   "source": [
    "#### DataFrame example using Extractor class"
   ]
  },
  {
   "cell_type": "code",
   "execution_count": 79,
   "id": "73e5caf7",
   "metadata": {
    "ExecuteTime": {
     "end_time": "2022-07-15T12:12:55.603179Z",
     "start_time": "2022-07-15T12:12:50.186482Z"
    }
   },
   "outputs": [
    {
     "data": {
      "text/html": [
       "<div>\n",
       "<style scoped>\n",
       "    .dataframe tbody tr th:only-of-type {\n",
       "        vertical-align: middle;\n",
       "    }\n",
       "\n",
       "    .dataframe tbody tr th {\n",
       "        vertical-align: top;\n",
       "    }\n",
       "\n",
       "    .dataframe thead th {\n",
       "        text-align: right;\n",
       "    }\n",
       "</style>\n",
       "<table border=\"1\" class=\"dataframe\">\n",
       "  <thead>\n",
       "    <tr style=\"text-align: right;\">\n",
       "      <th></th>\n",
       "      <th>timestamp</th>\n",
       "      <th>price</th>\n",
       "      <th>size</th>\n",
       "      <th>is_buyer_maker</th>\n",
       "    </tr>\n",
       "  </thead>\n",
       "  <tbody>\n",
       "    <tr>\n",
       "      <th>0</th>\n",
       "      <td>1657756800</td>\n",
       "      <td>20220.0</td>\n",
       "      <td>3.071</td>\n",
       "      <td>1</td>\n",
       "    </tr>\n",
       "    <tr>\n",
       "      <th>1</th>\n",
       "      <td>1657756800</td>\n",
       "      <td>20220.1</td>\n",
       "      <td>0.498</td>\n",
       "      <td>0</td>\n",
       "    </tr>\n",
       "    <tr>\n",
       "      <th>2</th>\n",
       "      <td>1657756802</td>\n",
       "      <td>20220.1</td>\n",
       "      <td>0.205</td>\n",
       "      <td>0</td>\n",
       "    </tr>\n",
       "    <tr>\n",
       "      <th>3</th>\n",
       "      <td>1657756802</td>\n",
       "      <td>20220.0</td>\n",
       "      <td>0.022</td>\n",
       "      <td>1</td>\n",
       "    </tr>\n",
       "    <tr>\n",
       "      <th>4</th>\n",
       "      <td>1657756802</td>\n",
       "      <td>20220.1</td>\n",
       "      <td>0.049</td>\n",
       "      <td>0</td>\n",
       "    </tr>\n",
       "    <tr>\n",
       "      <th>...</th>\n",
       "      <td>...</td>\n",
       "      <td>...</td>\n",
       "      <td>...</td>\n",
       "      <td>...</td>\n",
       "    </tr>\n",
       "    <tr>\n",
       "      <th>2394781</th>\n",
       "      <td>1657843199</td>\n",
       "      <td>20579.3</td>\n",
       "      <td>0.597</td>\n",
       "      <td>0</td>\n",
       "    </tr>\n",
       "    <tr>\n",
       "      <th>2394782</th>\n",
       "      <td>1657843199</td>\n",
       "      <td>20579.2</td>\n",
       "      <td>0.311</td>\n",
       "      <td>1</td>\n",
       "    </tr>\n",
       "    <tr>\n",
       "      <th>2394783</th>\n",
       "      <td>1657843199</td>\n",
       "      <td>20579.2</td>\n",
       "      <td>0.322</td>\n",
       "      <td>1</td>\n",
       "    </tr>\n",
       "    <tr>\n",
       "      <th>2394784</th>\n",
       "      <td>1657843199</td>\n",
       "      <td>20578.9</td>\n",
       "      <td>0.010</td>\n",
       "      <td>1</td>\n",
       "    </tr>\n",
       "    <tr>\n",
       "      <th>2394785</th>\n",
       "      <td>1657843199</td>\n",
       "      <td>20578.6</td>\n",
       "      <td>0.249</td>\n",
       "      <td>1</td>\n",
       "    </tr>\n",
       "  </tbody>\n",
       "</table>\n",
       "<p>2394786 rows × 4 columns</p>\n",
       "</div>"
      ],
      "text/plain": [
       "          timestamp    price   size  is_buyer_maker\n",
       "0        1657756800  20220.0  3.071               1\n",
       "1        1657756800  20220.1  0.498               0\n",
       "2        1657756802  20220.1  0.205               0\n",
       "3        1657756802  20220.0  0.022               1\n",
       "4        1657756802  20220.1  0.049               0\n",
       "...             ...      ...    ...             ...\n",
       "2394781  1657843199  20579.3  0.597               0\n",
       "2394782  1657843199  20579.2  0.311               1\n",
       "2394783  1657843199  20579.2  0.322               1\n",
       "2394784  1657843199  20578.9  0.010               1\n",
       "2394785  1657843199  20578.6  0.249               1\n",
       "\n",
       "[2394786 rows x 4 columns]"
      ]
     },
     "execution_count": 79,
     "metadata": {},
     "output_type": "execute_result"
    }
   ],
   "source": [
    "start_timestamp = pd.Timestamp(\"2022-07-15T14:00:00\", tz=\"UTC\")\n",
    "extractor_futures._download_trades(\n",
    "    \"binance\", \"btc/usdt\", start_timestamp=start_timestamp\n",
    ")"
   ]
  },
  {
   "cell_type": "code",
   "execution_count": null,
   "id": "2ba0b311",
   "metadata": {},
   "outputs": [],
   "source": []
  }
 ],
 "metadata": {
  "jupytext": {
   "formats": "ipynb,py:percent"
  },
  "kernelspec": {
   "display_name": "Python 3 (ipykernel)",
   "language": "python",
   "name": "python3"
  },
  "language_info": {
   "codemirror_mode": {
    "name": "ipython",
    "version": 3
   },
   "file_extension": ".py",
   "mimetype": "text/x-python",
   "name": "python",
   "nbconvert_exporter": "python",
   "pygments_lexer": "ipython3",
   "version": "3.8.10"
  },
  "toc": {
   "base_numbering": 1,
   "nav_menu": {},
   "number_sections": true,
   "sideBar": true,
   "skip_h1_title": false,
   "title_cell": "Table of Contents",
   "title_sidebar": "Contents",
   "toc_cell": false,
   "toc_position": {},
   "toc_section_display": true,
   "toc_window_display": false
  }
 },
 "nbformat": 4,
 "nbformat_minor": 5
}