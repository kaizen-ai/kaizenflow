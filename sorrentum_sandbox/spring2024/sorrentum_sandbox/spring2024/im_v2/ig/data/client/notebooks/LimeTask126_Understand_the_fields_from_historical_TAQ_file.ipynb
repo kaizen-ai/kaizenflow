{
 "cells": [
  {
   "cell_type": "markdown",
   "id": "7a3fb16f",
   "metadata": {},
   "source": [
    "## Imports"
   ]
  },
  {
   "cell_type": "code",
   "execution_count": 42,
   "id": "031e6de8",
   "metadata": {
    "ExecuteTime": {
     "end_time": "2021-08-31T21:32:28.007197Z",
     "start_time": "2021-08-31T21:32:27.979445Z"
    }
   },
   "outputs": [
    {
     "name": "stdout",
     "output_type": "stream",
     "text": [
      "The autoreload extension is already loaded. To reload it, use:\n",
      "  %reload_ext autoreload\n"
     ]
    }
   ],
   "source": [
    "%load_ext autoreload\n",
    "%autoreload 2\n",
    "\n",
    "import logging\n",
    "\n",
    "import pandas as pd\n",
    "\n",
    "import helpers.hdbg as hdbg\n",
    "import helpers.hprint as hprint\n",
    "import im_v2.ig.data.client.historical_bars as imvidchiba"
   ]
  },
  {
   "cell_type": "code",
   "execution_count": null,
   "id": "eca5cf0a",
   "metadata": {},
   "outputs": [],
   "source": [
    "hprint.config_notebook()\n",
    "\n",
    "# hdbg.init_logger(verbosity=logging.DEBUG)\n",
    "hdbg.init_logger(verbosity=logging.INFO)\n",
    "# hdbg.test_logger()\n",
    "_LOG = logging.getLogger(__name__)"
   ]
  },
  {
   "cell_type": "markdown",
   "id": "3dda966e",
   "metadata": {},
   "source": [
    "## Data"
   ]
  },
  {
   "cell_type": "code",
   "execution_count": 11,
   "id": "2ec2d767",
   "metadata": {
    "ExecuteTime": {
     "end_time": "2021-08-23T22:20:17.524816Z",
     "start_time": "2021-08-23T22:19:55.850457Z"
    }
   },
   "outputs": [],
   "source": [
    "ig_date = \"20190701\"\n",
    "df = imvidchiba.get_raw_historical_data(ig_date)"
   ]
  },
  {
   "cell_type": "code",
   "execution_count": 12,
   "id": "40d61cec",
   "metadata": {
    "ExecuteTime": {
     "end_time": "2021-08-23T22:20:27.410621Z",
     "start_time": "2021-08-23T22:20:27.386099Z"
    }
   },
   "outputs": [
    {
     "name": "stdout",
     "output_type": "stream",
     "text": [
      "(4131854, 50)\n"
     ]
    }
   ],
   "source": [
    "print(df.shape)"
   ]
  },
  {
   "cell_type": "code",
   "execution_count": 6,
   "id": "10dcffcf",
   "metadata": {
    "ExecuteTime": {
     "end_time": "2021-08-23T22:11:24.487554Z",
     "start_time": "2021-08-23T22:11:24.458809Z"
    },
    "scrolled": false
   },
   "outputs": [
    {
     "data": {
      "text/plain": [
       "vendor_date               2019-07-01\n",
       "interval                          60\n",
       "start_time                1561986000\n",
       "end_time                  1561986060\n",
       "ticker                             A\n",
       "currency                         USD\n",
       "open                             NaN\n",
       "close                            NaN\n",
       "low                              NaN\n",
       "high                             NaN\n",
       "volume                             0\n",
       "notional                         0.0\n",
       "last_trade_time                    0\n",
       "all_day_volume                    10\n",
       "all_day_notional              746.49\n",
       "day_volume                        10\n",
       "day_notional                  746.49\n",
       "day_vol_prc_sqr           55726.4253\n",
       "day_num_trade                      5\n",
       "bid                            74.05\n",
       "ask                             78.0\n",
       "bid_size                        1000\n",
       "ask_size                         100\n",
       "good_bid                       74.05\n",
       "good_ask                        78.0\n",
       "good_bid_size                   1000\n",
       "good_ask_size                    100\n",
       "day_spread                    233.05\n",
       "day_num_spread                    59\n",
       "day_low                          NaN\n",
       "day_high                         NaN\n",
       "last_trade                       NaN\n",
       "last_trade_volume                  0\n",
       "bid_high                       74.25\n",
       "ask_high                       79.93\n",
       "bid_low                         66.0\n",
       "ask_low                         78.0\n",
       "sided_bid_count                    0\n",
       "sided_bid_shares                   0\n",
       "sided_bid_notional               0.0\n",
       "day_sided_bid_count                0\n",
       "day_sided_bid_shares               0\n",
       "day_sided_bid_notional           0.0\n",
       "sided_ask_count                    0\n",
       "sided_ask_shares                   0\n",
       "sided_ask_notional               0.0\n",
       "day_sided_ask_count                0\n",
       "day_sided_ask_shares               0\n",
       "day_sided_ask_notional           0.0\n",
       "igid                         16572.0\n",
       "Name: 0, dtype: object"
      ]
     },
     "execution_count": 6,
     "metadata": {},
     "output_type": "execute_result"
    }
   ],
   "source": [
    "df.iloc[0]"
   ]
  },
  {
   "cell_type": "code",
   "execution_count": 30,
   "id": "d3a6f1aa",
   "metadata": {
    "ExecuteTime": {
     "end_time": "2021-08-23T22:29:56.744428Z",
     "start_time": "2021-08-23T22:29:56.516285Z"
    }
   },
   "outputs": [
    {
     "ename": "TypeError",
     "evalue": "utcfromtimestamp() got an unexpected keyword argument 'utc'",
     "output_type": "error",
     "traceback": [
      "\u001b[0;31m---------------------------------------------------------------------------\u001b[0m",
      "\u001b[0;31mTypeError\u001b[0m                                 Traceback (most recent call last)",
      "\u001b[0;32m/tmp/ipykernel_174/117561044.py\u001b[0m in \u001b[0;36m<module>\u001b[0;34m\u001b[0m\n\u001b[0;32m----> 1\u001b[0;31m \u001b[0mdf\u001b[0m\u001b[0;34m[\u001b[0m\u001b[0;34m\"start_time\"\u001b[0m\u001b[0;34m]\u001b[0m\u001b[0;34m.\u001b[0m\u001b[0mapply\u001b[0m\u001b[0;34m(\u001b[0m\u001b[0;32mlambda\u001b[0m \u001b[0mx\u001b[0m\u001b[0;34m:\u001b[0m \u001b[0mpd\u001b[0m\u001b[0;34m.\u001b[0m\u001b[0mTimestamp\u001b[0m\u001b[0;34m.\u001b[0m\u001b[0mutcfromtimestamp\u001b[0m\u001b[0;34m(\u001b[0m\u001b[0mx\u001b[0m\u001b[0;34m,\u001b[0m \u001b[0mutc\u001b[0m\u001b[0;34m=\u001b[0m\u001b[0;32mTrue\u001b[0m\u001b[0;34m)\u001b[0m\u001b[0;34m)\u001b[0m\u001b[0;34m\u001b[0m\u001b[0;34m\u001b[0m\u001b[0m\n\u001b[0m",
      "\u001b[0;32m/venv/lib/python3.8/site-packages/pandas/core/series.py\u001b[0m in \u001b[0;36mapply\u001b[0;34m(self, func, convert_dtype, args, **kwargs)\u001b[0m\n\u001b[1;32m   4354\u001b[0m         \u001b[0mdtype\u001b[0m\u001b[0;34m:\u001b[0m \u001b[0mfloat64\u001b[0m\u001b[0;34m\u001b[0m\u001b[0;34m\u001b[0m\u001b[0m\n\u001b[1;32m   4355\u001b[0m         \"\"\"\n\u001b[0;32m-> 4356\u001b[0;31m         \u001b[0;32mreturn\u001b[0m \u001b[0mSeriesApply\u001b[0m\u001b[0;34m(\u001b[0m\u001b[0mself\u001b[0m\u001b[0;34m,\u001b[0m \u001b[0mfunc\u001b[0m\u001b[0;34m,\u001b[0m \u001b[0mconvert_dtype\u001b[0m\u001b[0;34m,\u001b[0m \u001b[0margs\u001b[0m\u001b[0;34m,\u001b[0m \u001b[0mkwargs\u001b[0m\u001b[0;34m)\u001b[0m\u001b[0;34m.\u001b[0m\u001b[0mapply\u001b[0m\u001b[0;34m(\u001b[0m\u001b[0;34m)\u001b[0m\u001b[0;34m\u001b[0m\u001b[0;34m\u001b[0m\u001b[0m\n\u001b[0m\u001b[1;32m   4357\u001b[0m \u001b[0;34m\u001b[0m\u001b[0m\n\u001b[1;32m   4358\u001b[0m     def _reduce(\n",
      "\u001b[0;32m/venv/lib/python3.8/site-packages/pandas/core/apply.py\u001b[0m in \u001b[0;36mapply\u001b[0;34m(self)\u001b[0m\n\u001b[1;32m   1034\u001b[0m             \u001b[0;32mreturn\u001b[0m \u001b[0mself\u001b[0m\u001b[0;34m.\u001b[0m\u001b[0mapply_str\u001b[0m\u001b[0;34m(\u001b[0m\u001b[0;34m)\u001b[0m\u001b[0;34m\u001b[0m\u001b[0;34m\u001b[0m\u001b[0m\n\u001b[1;32m   1035\u001b[0m \u001b[0;34m\u001b[0m\u001b[0m\n\u001b[0;32m-> 1036\u001b[0;31m         \u001b[0;32mreturn\u001b[0m \u001b[0mself\u001b[0m\u001b[0;34m.\u001b[0m\u001b[0mapply_standard\u001b[0m\u001b[0;34m(\u001b[0m\u001b[0;34m)\u001b[0m\u001b[0;34m\u001b[0m\u001b[0;34m\u001b[0m\u001b[0m\n\u001b[0m\u001b[1;32m   1037\u001b[0m \u001b[0;34m\u001b[0m\u001b[0m\n\u001b[1;32m   1038\u001b[0m     \u001b[0;32mdef\u001b[0m \u001b[0magg\u001b[0m\u001b[0;34m(\u001b[0m\u001b[0mself\u001b[0m\u001b[0;34m)\u001b[0m\u001b[0;34m:\u001b[0m\u001b[0;34m\u001b[0m\u001b[0;34m\u001b[0m\u001b[0m\n",
      "\u001b[0;32m/venv/lib/python3.8/site-packages/pandas/core/apply.py\u001b[0m in \u001b[0;36mapply_standard\u001b[0;34m(self)\u001b[0m\n\u001b[1;32m   1090\u001b[0m                 \u001b[0;31m# List[Union[Callable[..., Any], str]]]]]\"; expected\u001b[0m\u001b[0;34m\u001b[0m\u001b[0;34m\u001b[0m\u001b[0;34m\u001b[0m\u001b[0m\n\u001b[1;32m   1091\u001b[0m                 \u001b[0;31m# \"Callable[[Any], Any]\"\u001b[0m\u001b[0;34m\u001b[0m\u001b[0;34m\u001b[0m\u001b[0;34m\u001b[0m\u001b[0m\n\u001b[0;32m-> 1092\u001b[0;31m                 mapped = lib.map_infer(\n\u001b[0m\u001b[1;32m   1093\u001b[0m                     \u001b[0mvalues\u001b[0m\u001b[0;34m,\u001b[0m\u001b[0;34m\u001b[0m\u001b[0;34m\u001b[0m\u001b[0m\n\u001b[1;32m   1094\u001b[0m                     \u001b[0mf\u001b[0m\u001b[0;34m,\u001b[0m  \u001b[0;31m# type: ignore[arg-type]\u001b[0m\u001b[0;34m\u001b[0m\u001b[0;34m\u001b[0m\u001b[0m\n",
      "\u001b[0;32m/venv/lib/python3.8/site-packages/pandas/_libs/lib.pyx\u001b[0m in \u001b[0;36mpandas._libs.lib.map_infer\u001b[0;34m()\u001b[0m\n",
      "\u001b[0;32m/tmp/ipykernel_174/117561044.py\u001b[0m in \u001b[0;36m<lambda>\u001b[0;34m(x)\u001b[0m\n\u001b[0;32m----> 1\u001b[0;31m \u001b[0mdf\u001b[0m\u001b[0;34m[\u001b[0m\u001b[0;34m\"start_time\"\u001b[0m\u001b[0;34m]\u001b[0m\u001b[0;34m.\u001b[0m\u001b[0mapply\u001b[0m\u001b[0;34m(\u001b[0m\u001b[0;32mlambda\u001b[0m \u001b[0mx\u001b[0m\u001b[0;34m:\u001b[0m \u001b[0mpd\u001b[0m\u001b[0;34m.\u001b[0m\u001b[0mTimestamp\u001b[0m\u001b[0;34m.\u001b[0m\u001b[0mutcfromtimestamp\u001b[0m\u001b[0;34m(\u001b[0m\u001b[0mx\u001b[0m\u001b[0;34m,\u001b[0m \u001b[0mutc\u001b[0m\u001b[0;34m=\u001b[0m\u001b[0;32mTrue\u001b[0m\u001b[0;34m)\u001b[0m\u001b[0;34m)\u001b[0m\u001b[0;34m\u001b[0m\u001b[0;34m\u001b[0m\u001b[0m\n\u001b[0m",
      "\u001b[0;32m/venv/lib/python3.8/site-packages/pandas/_libs/tslibs/timestamps.pyx\u001b[0m in \u001b[0;36mpandas._libs.tslibs.timestamps.Timestamp.utcfromtimestamp\u001b[0;34m()\u001b[0m\n",
      "\u001b[0;31mTypeError\u001b[0m: utcfromtimestamp() got an unexpected keyword argument 'utc'"
     ]
    }
   ],
   "source": [
    "df[\"start_time\"].apply(lambda x: pd.Timestamp.utcfromtimestamp(x, utc=True))"
   ]
  },
  {
   "cell_type": "code",
   "execution_count": 23,
   "id": "1651f3d7",
   "metadata": {
    "ExecuteTime": {
     "end_time": "2021-08-23T22:24:11.049493Z",
     "start_time": "2021-08-23T22:23:28.195924Z"
    }
   },
   "outputs": [
    {
     "name": "stdout",
     "output_type": "stream",
     "text": [
      "all ...\n",
      "fromtimestamp ...\n",
      "fromtimestamp done (2.494 s)\n",
      "pd.to_datetime ...\n",
      "pd.to_datetime done (17.840 s)\n",
      "tz_localize ...\n",
      "tz_localize done (0.010 s)\n",
      "tz_convert ...\n",
      "tz_convert done (0.009 s)\n",
      "fromtimestamp ...\n",
      "fromtimestamp done (2.520 s)\n",
      "pd.to_datetime ...\n",
      "pd.to_datetime done (17.206 s)\n",
      "tz_localize ...\n",
      "tz_localize done (0.008 s)\n",
      "tz_convert ...\n",
      "tz_convert done (0.007 s)\n",
      "all done (41.297 s)\n"
     ]
    }
   ],
   "source": [
    "dtf_df = imvidchiba.normalize_bar_data(df, drop_ts_epoch=True, inplace=False)"
   ]
  },
  {
   "cell_type": "code",
   "execution_count": 35,
   "id": "71b866aa",
   "metadata": {
    "ExecuteTime": {
     "end_time": "2021-08-23T22:45:07.242918Z",
     "start_time": "2021-08-23T22:44:59.782496Z"
    }
   },
   "outputs": [
    {
     "name": "stdout",
     "output_type": "stream",
     "text": [
      "all ...\n",
      "fromtimestamp ...\n",
      "fromtimestamp done (2.161 s)\n",
      "pd.to_datetime ...\n",
      "pd.to_datetime done (0.128 s)\n",
      "tz_convert ...\n",
      "tz_convert done (0.007 s)\n",
      "fromtimestamp ...\n",
      "fromtimestamp done (2.350 s)\n",
      "pd.to_datetime ...\n",
      "pd.to_datetime done (0.063 s)\n",
      "tz_convert ...\n",
      "tz_convert done (0.006 s)\n",
      "all done (5.953 s)\n"
     ]
    }
   ],
   "source": [
    "dtf_df2 = imvidchiba.normalize_bar_data(df, drop_ts_epoch=True, inplace=False)"
   ]
  },
  {
   "cell_type": "code",
   "execution_count": 34,
   "id": "d94bb613",
   "metadata": {
    "ExecuteTime": {
     "end_time": "2021-08-23T22:39:28.759176Z",
     "start_time": "2021-08-23T22:39:27.632393Z"
    }
   },
   "outputs": [
    {
     "data": {
      "text/plain": [
       "True"
      ]
     },
     "execution_count": 34,
     "metadata": {},
     "output_type": "execute_result"
    }
   ],
   "source": [
    "dtf_df.equals(dtf_df2)"
   ]
  },
  {
   "cell_type": "code",
   "execution_count": 46,
   "id": "6ed98dda",
   "metadata": {
    "ExecuteTime": {
     "end_time": "2021-08-24T00:25:17.535291Z",
     "start_time": "2021-08-24T00:25:17.467108Z"
    }
   },
   "outputs": [
    {
     "data": {
      "text/html": [
       "<div>\n",
       "<style scoped>\n",
       "    .dataframe tbody tr th:only-of-type {\n",
       "        vertical-align: middle;\n",
       "    }\n",
       "\n",
       "    .dataframe tbody tr th {\n",
       "        vertical-align: top;\n",
       "    }\n",
       "\n",
       "    .dataframe thead th {\n",
       "        text-align: right;\n",
       "    }\n",
       "</style>\n",
       "<table border=\"1\" class=\"dataframe\">\n",
       "  <thead>\n",
       "    <tr style=\"text-align: right;\">\n",
       "      <th></th>\n",
       "      <th>vendor_date</th>\n",
       "      <th>interval</th>\n",
       "      <th>start_time</th>\n",
       "      <th>ticker</th>\n",
       "      <th>currency</th>\n",
       "      <th>open</th>\n",
       "      <th>close</th>\n",
       "      <th>low</th>\n",
       "      <th>high</th>\n",
       "      <th>volume</th>\n",
       "      <th>notional</th>\n",
       "      <th>last_trade_time</th>\n",
       "      <th>all_day_volume</th>\n",
       "      <th>all_day_notional</th>\n",
       "      <th>day_volume</th>\n",
       "      <th>day_notional</th>\n",
       "      <th>day_vol_prc_sqr</th>\n",
       "      <th>day_num_trade</th>\n",
       "      <th>bid</th>\n",
       "      <th>ask</th>\n",
       "      <th>bid_size</th>\n",
       "      <th>ask_size</th>\n",
       "      <th>good_bid</th>\n",
       "      <th>good_ask</th>\n",
       "      <th>good_bid_size</th>\n",
       "      <th>good_ask_size</th>\n",
       "      <th>day_spread</th>\n",
       "      <th>day_num_spread</th>\n",
       "      <th>day_low</th>\n",
       "      <th>day_high</th>\n",
       "      <th>last_trade</th>\n",
       "      <th>last_trade_volume</th>\n",
       "      <th>bid_high</th>\n",
       "      <th>ask_high</th>\n",
       "      <th>bid_low</th>\n",
       "      <th>ask_low</th>\n",
       "      <th>sided_bid_count</th>\n",
       "      <th>sided_bid_shares</th>\n",
       "      <th>sided_bid_notional</th>\n",
       "      <th>day_sided_bid_count</th>\n",
       "      <th>day_sided_bid_shares</th>\n",
       "      <th>day_sided_bid_notional</th>\n",
       "      <th>sided_ask_count</th>\n",
       "      <th>sided_ask_shares</th>\n",
       "      <th>sided_ask_notional</th>\n",
       "      <th>day_sided_ask_count</th>\n",
       "      <th>day_sided_ask_shares</th>\n",
       "      <th>day_sided_ask_notional</th>\n",
       "      <th>igid</th>\n",
       "    </tr>\n",
       "    <tr>\n",
       "      <th>end_time</th>\n",
       "      <th></th>\n",
       "      <th></th>\n",
       "      <th></th>\n",
       "      <th></th>\n",
       "      <th></th>\n",
       "      <th></th>\n",
       "      <th></th>\n",
       "      <th></th>\n",
       "      <th></th>\n",
       "      <th></th>\n",
       "      <th></th>\n",
       "      <th></th>\n",
       "      <th></th>\n",
       "      <th></th>\n",
       "      <th></th>\n",
       "      <th></th>\n",
       "      <th></th>\n",
       "      <th></th>\n",
       "      <th></th>\n",
       "      <th></th>\n",
       "      <th></th>\n",
       "      <th></th>\n",
       "      <th></th>\n",
       "      <th></th>\n",
       "      <th></th>\n",
       "      <th></th>\n",
       "      <th></th>\n",
       "      <th></th>\n",
       "      <th></th>\n",
       "      <th></th>\n",
       "      <th></th>\n",
       "      <th></th>\n",
       "      <th></th>\n",
       "      <th></th>\n",
       "      <th></th>\n",
       "      <th></th>\n",
       "      <th></th>\n",
       "      <th></th>\n",
       "      <th></th>\n",
       "      <th></th>\n",
       "      <th></th>\n",
       "      <th></th>\n",
       "      <th></th>\n",
       "      <th></th>\n",
       "      <th></th>\n",
       "      <th></th>\n",
       "      <th></th>\n",
       "      <th></th>\n",
       "      <th></th>\n",
       "    </tr>\n",
       "  </thead>\n",
       "  <tbody>\n",
       "    <tr>\n",
       "      <th>2019-07-01 09:01:00-04:00</th>\n",
       "      <td>2019-07-01</td>\n",
       "      <td>60</td>\n",
       "      <td>2019-07-01 09:00:00-04:00</td>\n",
       "      <td>A</td>\n",
       "      <td>USD</td>\n",
       "      <td>NaN</td>\n",
       "      <td>NaN</td>\n",
       "      <td>NaN</td>\n",
       "      <td>NaN</td>\n",
       "      <td>0</td>\n",
       "      <td>0.0</td>\n",
       "      <td>0</td>\n",
       "      <td>10</td>\n",
       "      <td>746.490</td>\n",
       "      <td>10</td>\n",
       "      <td>746.490</td>\n",
       "      <td>5.572643e+04</td>\n",
       "      <td>5</td>\n",
       "      <td>74.05</td>\n",
       "      <td>78.00</td>\n",
       "      <td>1000</td>\n",
       "      <td>100</td>\n",
       "      <td>74.05</td>\n",
       "      <td>78.00</td>\n",
       "      <td>1000</td>\n",
       "      <td>100</td>\n",
       "      <td>233.05</td>\n",
       "      <td>59</td>\n",
       "      <td>NaN</td>\n",
       "      <td>NaN</td>\n",
       "      <td>NaN</td>\n",
       "      <td>0</td>\n",
       "      <td>74.25</td>\n",
       "      <td>79.93</td>\n",
       "      <td>66.00</td>\n",
       "      <td>78.00</td>\n",
       "      <td>0</td>\n",
       "      <td>0</td>\n",
       "      <td>0.0</td>\n",
       "      <td>0</td>\n",
       "      <td>0</td>\n",
       "      <td>0.0</td>\n",
       "      <td>0</td>\n",
       "      <td>0</td>\n",
       "      <td>0.0</td>\n",
       "      <td>0</td>\n",
       "      <td>0</td>\n",
       "      <td>0.0</td>\n",
       "      <td>16572.0</td>\n",
       "    </tr>\n",
       "    <tr>\n",
       "      <th>2019-07-01 09:01:00-04:00</th>\n",
       "      <td>2019-07-01</td>\n",
       "      <td>60</td>\n",
       "      <td>2019-07-01 09:00:00-04:00</td>\n",
       "      <td>AA</td>\n",
       "      <td>USD</td>\n",
       "      <td>NaN</td>\n",
       "      <td>NaN</td>\n",
       "      <td>NaN</td>\n",
       "      <td>NaN</td>\n",
       "      <td>0</td>\n",
       "      <td>0.0</td>\n",
       "      <td>0</td>\n",
       "      <td>14900</td>\n",
       "      <td>352858.173</td>\n",
       "      <td>14900</td>\n",
       "      <td>352858.173</td>\n",
       "      <td>8.356427e+06</td>\n",
       "      <td>36</td>\n",
       "      <td>23.60</td>\n",
       "      <td>23.80</td>\n",
       "      <td>300</td>\n",
       "      <td>100</td>\n",
       "      <td>23.60</td>\n",
       "      <td>23.80</td>\n",
       "      <td>300</td>\n",
       "      <td>100</td>\n",
       "      <td>6.40</td>\n",
       "      <td>59</td>\n",
       "      <td>NaN</td>\n",
       "      <td>NaN</td>\n",
       "      <td>NaN</td>\n",
       "      <td>0</td>\n",
       "      <td>23.82</td>\n",
       "      <td>24.89</td>\n",
       "      <td>19.00</td>\n",
       "      <td>23.49</td>\n",
       "      <td>0</td>\n",
       "      <td>0</td>\n",
       "      <td>0.0</td>\n",
       "      <td>0</td>\n",
       "      <td>0</td>\n",
       "      <td>0.0</td>\n",
       "      <td>0</td>\n",
       "      <td>0</td>\n",
       "      <td>0.0</td>\n",
       "      <td>0</td>\n",
       "      <td>0</td>\n",
       "      <td>0.0</td>\n",
       "      <td>1218568.0</td>\n",
       "    </tr>\n",
       "    <tr>\n",
       "      <th>2019-07-01 09:01:00-04:00</th>\n",
       "      <td>2019-07-01</td>\n",
       "      <td>60</td>\n",
       "      <td>2019-07-01 09:00:00-04:00</td>\n",
       "      <td>AAAU</td>\n",
       "      <td>USD</td>\n",
       "      <td>NaN</td>\n",
       "      <td>NaN</td>\n",
       "      <td>NaN</td>\n",
       "      <td>NaN</td>\n",
       "      <td>0</td>\n",
       "      <td>0.0</td>\n",
       "      <td>0</td>\n",
       "      <td>0</td>\n",
       "      <td>0.000</td>\n",
       "      <td>0</td>\n",
       "      <td>0.000</td>\n",
       "      <td>0.000000e+00</td>\n",
       "      <td>0</td>\n",
       "      <td>13.85</td>\n",
       "      <td>14.01</td>\n",
       "      <td>10200</td>\n",
       "      <td>10200</td>\n",
       "      <td>13.85</td>\n",
       "      <td>14.01</td>\n",
       "      <td>10200</td>\n",
       "      <td>10200</td>\n",
       "      <td>9.78</td>\n",
       "      <td>59</td>\n",
       "      <td>NaN</td>\n",
       "      <td>NaN</td>\n",
       "      <td>NaN</td>\n",
       "      <td>0</td>\n",
       "      <td>13.85</td>\n",
       "      <td>14.03</td>\n",
       "      <td>13.75</td>\n",
       "      <td>14.01</td>\n",
       "      <td>0</td>\n",
       "      <td>0</td>\n",
       "      <td>0.0</td>\n",
       "      <td>0</td>\n",
       "      <td>0</td>\n",
       "      <td>0.0</td>\n",
       "      <td>0</td>\n",
       "      <td>0</td>\n",
       "      <td>0.0</td>\n",
       "      <td>0</td>\n",
       "      <td>0</td>\n",
       "      <td>0.0</td>\n",
       "      <td>1428781.0</td>\n",
       "    </tr>\n",
       "    <tr>\n",
       "      <th>2019-07-01 09:01:00-04:00</th>\n",
       "      <td>2019-07-01</td>\n",
       "      <td>60</td>\n",
       "      <td>2019-07-01 09:00:00-04:00</td>\n",
       "      <td>AABA</td>\n",
       "      <td>USD</td>\n",
       "      <td>NaN</td>\n",
       "      <td>NaN</td>\n",
       "      <td>NaN</td>\n",
       "      <td>NaN</td>\n",
       "      <td>0</td>\n",
       "      <td>0.0</td>\n",
       "      <td>0</td>\n",
       "      <td>11819</td>\n",
       "      <td>834999.525</td>\n",
       "      <td>11819</td>\n",
       "      <td>834999.525</td>\n",
       "      <td>5.899209e+07</td>\n",
       "      <td>71</td>\n",
       "      <td>70.62</td>\n",
       "      <td>71.06</td>\n",
       "      <td>200</td>\n",
       "      <td>200</td>\n",
       "      <td>70.62</td>\n",
       "      <td>71.06</td>\n",
       "      <td>200</td>\n",
       "      <td>200</td>\n",
       "      <td>26.88</td>\n",
       "      <td>59</td>\n",
       "      <td>NaN</td>\n",
       "      <td>NaN</td>\n",
       "      <td>NaN</td>\n",
       "      <td>0</td>\n",
       "      <td>70.82</td>\n",
       "      <td>71.58</td>\n",
       "      <td>68.85</td>\n",
       "      <td>70.50</td>\n",
       "      <td>0</td>\n",
       "      <td>0</td>\n",
       "      <td>0.0</td>\n",
       "      <td>0</td>\n",
       "      <td>0</td>\n",
       "      <td>0.0</td>\n",
       "      <td>0</td>\n",
       "      <td>0</td>\n",
       "      <td>0.0</td>\n",
       "      <td>0</td>\n",
       "      <td>0</td>\n",
       "      <td>0.0</td>\n",
       "      <td>10846.0</td>\n",
       "    </tr>\n",
       "    <tr>\n",
       "      <th>2019-07-01 09:01:00-04:00</th>\n",
       "      <td>2019-07-01</td>\n",
       "      <td>60</td>\n",
       "      <td>2019-07-01 09:00:00-04:00</td>\n",
       "      <td>AAC</td>\n",
       "      <td>USD</td>\n",
       "      <td>NaN</td>\n",
       "      <td>NaN</td>\n",
       "      <td>NaN</td>\n",
       "      <td>NaN</td>\n",
       "      <td>0</td>\n",
       "      <td>0.0</td>\n",
       "      <td>0</td>\n",
       "      <td>0</td>\n",
       "      <td>0.000</td>\n",
       "      <td>0</td>\n",
       "      <td>0.000</td>\n",
       "      <td>0.000000e+00</td>\n",
       "      <td>0</td>\n",
       "      <td>0.86</td>\n",
       "      <td>0.90</td>\n",
       "      <td>400</td>\n",
       "      <td>800</td>\n",
       "      <td>0.86</td>\n",
       "      <td>0.90</td>\n",
       "      <td>400</td>\n",
       "      <td>800</td>\n",
       "      <td>2.36</td>\n",
       "      <td>59</td>\n",
       "      <td>NaN</td>\n",
       "      <td>NaN</td>\n",
       "      <td>NaN</td>\n",
       "      <td>0</td>\n",
       "      <td>0.86</td>\n",
       "      <td>1.65</td>\n",
       "      <td>0.80</td>\n",
       "      <td>0.90</td>\n",
       "      <td>0</td>\n",
       "      <td>0</td>\n",
       "      <td>0.0</td>\n",
       "      <td>0</td>\n",
       "      <td>0</td>\n",
       "      <td>0.0</td>\n",
       "      <td>0</td>\n",
       "      <td>0</td>\n",
       "      <td>0.0</td>\n",
       "      <td>0</td>\n",
       "      <td>0</td>\n",
       "      <td>0.0</td>\n",
       "      <td>82941.0</td>\n",
       "    </tr>\n",
       "  </tbody>\n",
       "</table>\n",
       "</div>"
      ],
      "text/plain": [
       "                          vendor_date  interval                start_time ticker currency  open  close  low  high  volume  notional  last_trade_time  all_day_volume  all_day_notional  day_volume  day_notional  day_vol_prc_sqr  day_num_trade    bid    ask  bid_size  ask_size  good_bid  good_ask  good_bid_size  good_ask_size  day_spread  day_num_spread  day_low  day_high  last_trade  last_trade_volume  bid_high  ask_high  bid_low  ask_low  sided_bid_count  sided_bid_shares  sided_bid_notional  day_sided_bid_count  day_sided_bid_shares  day_sided_bid_notional  sided_ask_count  sided_ask_shares  sided_ask_notional  day_sided_ask_count  day_sided_ask_shares  day_sided_ask_notional       igid\n",
       "end_time                                                                                                                                                                                                                                                                                                                                                                                                                                                                                                                                                                                                                                                                                                               \n",
       "2019-07-01 09:01:00-04:00  2019-07-01        60 2019-07-01 09:00:00-04:00      A      USD   NaN    NaN  NaN   NaN       0       0.0                0              10           746.490          10       746.490     5.572643e+04              5  74.05  78.00      1000       100     74.05     78.00           1000            100      233.05              59      NaN       NaN         NaN                  0     74.25     79.93    66.00    78.00                0                 0                 0.0                    0                     0                     0.0                0                 0                 0.0                    0                     0                     0.0    16572.0\n",
       "2019-07-01 09:01:00-04:00  2019-07-01        60 2019-07-01 09:00:00-04:00     AA      USD   NaN    NaN  NaN   NaN       0       0.0                0           14900        352858.173       14900    352858.173     8.356427e+06             36  23.60  23.80       300       100     23.60     23.80            300            100        6.40              59      NaN       NaN         NaN                  0     23.82     24.89    19.00    23.49                0                 0                 0.0                    0                     0                     0.0                0                 0                 0.0                    0                     0                     0.0  1218568.0\n",
       "2019-07-01 09:01:00-04:00  2019-07-01        60 2019-07-01 09:00:00-04:00   AAAU      USD   NaN    NaN  NaN   NaN       0       0.0                0               0             0.000           0         0.000     0.000000e+00              0  13.85  14.01     10200     10200     13.85     14.01          10200          10200        9.78              59      NaN       NaN         NaN                  0     13.85     14.03    13.75    14.01                0                 0                 0.0                    0                     0                     0.0                0                 0                 0.0                    0                     0                     0.0  1428781.0\n",
       "2019-07-01 09:01:00-04:00  2019-07-01        60 2019-07-01 09:00:00-04:00   AABA      USD   NaN    NaN  NaN   NaN       0       0.0                0           11819        834999.525       11819    834999.525     5.899209e+07             71  70.62  71.06       200       200     70.62     71.06            200            200       26.88              59      NaN       NaN         NaN                  0     70.82     71.58    68.85    70.50                0                 0                 0.0                    0                     0                     0.0                0                 0                 0.0                    0                     0                     0.0    10846.0\n",
       "2019-07-01 09:01:00-04:00  2019-07-01        60 2019-07-01 09:00:00-04:00    AAC      USD   NaN    NaN  NaN   NaN       0       0.0                0               0             0.000           0         0.000     0.000000e+00              0   0.86   0.90       400       800      0.86      0.90            400            800        2.36              59      NaN       NaN         NaN                  0      0.86      1.65     0.80     0.90                0                 0                 0.0                    0                     0                     0.0                0                 0                 0.0                    0                     0                     0.0    82941.0"
      ]
     },
     "execution_count": 46,
     "metadata": {},
     "output_type": "execute_result"
    }
   ],
   "source": [
    "dtf_df.head(5)"
   ]
  },
  {
   "cell_type": "code",
   "execution_count": 57,
   "id": "4d59b193",
   "metadata": {
    "ExecuteTime": {
     "end_time": "2021-08-24T00:27:42.334708Z",
     "start_time": "2021-08-24T00:27:40.268486Z"
    }
   },
   "outputs": [
    {
     "name": "stdout",
     "output_type": "stream",
     "text": [
      "2019-07-01\n",
      "60\n",
      "2019-07-01 09:30:00-04:00\n",
      "A\n",
      "USD\n",
      "75.6\n",
      "75.295\n",
      "75.2\n",
      "75.6\n",
      "39314\n",
      "2969669.055\n",
      "1561987855\n",
      "40124\n",
      "3030807.485\n",
      "39993\n",
      "3020943.045\n",
      "228192943.961025\n",
      "85\n",
      "75.2\n",
      "75.32\n",
      "600\n",
      "1200\n",
      "75.2\n",
      "75.32\n",
      "600\n",
      "1200\n",
      "6796.15\n",
      "1859\n",
      "75.2\n",
      "75.6\n",
      "75.295\n",
      "100\n",
      "75.52\n",
      "75.99\n",
      "74.66\n",
      "75.29\n",
      "37\n",
      "5396\n",
      "406236.03\n",
      "37\n",
      "5396\n",
      "406236.03\n",
      "26\n",
      "33918\n",
      "2563433.025\n",
      "26\n",
      "33918\n",
      "2563433.025\n",
      "16572.0\n"
     ]
    }
   ],
   "source": [
    "print(\"\\n\".join(map(str, dtf_df.dropna().iloc[0].values)))"
   ]
  },
  {
   "cell_type": "code",
   "execution_count": null,
   "id": "2c0ce1c1",
   "metadata": {},
   "outputs": [],
   "source": [
    "igid"
   ]
  },
  {
   "cell_type": "code",
   "execution_count": 44,
   "id": "e38f7f7f",
   "metadata": {
    "ExecuteTime": {
     "end_time": "2021-08-24T00:24:08.504772Z",
     "start_time": "2021-08-24T00:24:08.201955Z"
    }
   },
   "outputs": [
    {
     "data": {
      "text/plain": [
       "<AxesSubplot:xlabel='end_time'>"
      ]
     },
     "execution_count": 44,
     "metadata": {},
     "output_type": "execute_result"
    },
    {
     "data": {
      "image/png": "[encoded data removed]",
      "text/plain": [
       "<Figure size 1440x360 with 1 Axes>"
      ]
     },
     "metadata": {},
     "output_type": "display_data"
    }
   ],
   "source": [
    "igid = 13684\n",
    "mask = dtf_df[\"igid\"] == igid\n",
    "dtf_df[mask][\"open close low high\".split()].dropna().tail(100).plot()"
   ]
  }
 ],
 "metadata": {
  "kernelspec": {
   "display_name": "Python 3 (ipykernel)",
   "language": "python",
   "name": "python3"
  },
  "language_info": {
   "codemirror_mode": {
    "name": "ipython",
    "version": 3
   },
   "file_extension": ".py",
   "mimetype": "text/x-python",
   "name": "python",
   "nbconvert_exporter": "python",
   "pygments_lexer": "ipython3",
   "version": "3.8.10"
  },
  "toc": {
   "base_numbering": 1,
   "nav_menu": {},
   "number_sections": true,
   "sideBar": true,
   "skip_h1_title": false,
   "title_cell": "Table of Contents",
   "title_sidebar": "Contents",
   "toc_cell": false,
   "toc_position": {},
   "toc_section_display": true,
   "toc_window_display": false
  }
 },
 "nbformat": 4,
 "nbformat_minor": 5
}
