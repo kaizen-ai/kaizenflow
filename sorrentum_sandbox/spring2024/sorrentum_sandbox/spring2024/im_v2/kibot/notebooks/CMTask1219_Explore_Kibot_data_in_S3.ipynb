{
 "cells": [
  {
   "cell_type": "markdown",
   "id": "d29d42d5",
   "metadata": {},
   "source": [
    "# Imports"
   ]
  },
  {
   "cell_type": "code",
   "execution_count": 1,
   "id": "649cc747",
   "metadata": {
    "ExecuteTime": {
     "end_time": "2022-02-21T15:28:47.046522Z",
     "start_time": "2022-02-21T15:28:46.409125Z"
    }
   },
   "outputs": [],
   "source": [
    "import logging\n",
    "\n",
    "import numpy as np\n",
    "import pandas as pd\n",
    "\n",
    "import helpers.hdbg as hdbg\n",
    "import helpers.henv as henv\n",
    "import helpers.hpandas as hpandas\n",
    "import helpers.hprint as hprint\n",
    "import helpers.hs3 as hs3\n",
    "import im.common.data.types as imcodatyp\n",
    "import im.kibot.data.load.kibot_s3_data_loader as imkdlksdlo\n",
    "import im.kibot.metadata.load.s3_backend as imkmls3ba"
   ]
  },
  {
   "cell_type": "code",
   "execution_count": 2,
   "id": "ebba40eb",
   "metadata": {
    "ExecuteTime": {
     "end_time": "2022-02-21T15:28:49.408871Z",
     "start_time": "2022-02-21T15:28:47.050160Z"
    },
    "scrolled": true
   },
   "outputs": [
    {
     "name": "stdout",
     "output_type": "stream",
     "text": [
      "\u001b[0m\u001b[36mINFO\u001b[0m: > cmd='/venv/lib/python3.8/site-packages/ipykernel_launcher.py -f /home/.local/share/jupyter/runtime/kernel-e61bc576-464f-47bd-acd7-fbbee63963d9.json'\n",
      "WARNING: Running in Jupyter\n",
      ">>ENV<<: is_inside_container=True: code_version=1.0.7, container_version=1.0.7, is_inside_docker=True, is_inside_ci=False, CI_defined=True, CI=''\n",
      ">>ENV<<: AM_AWS_PROFILE=True AM_ECR_BASE_PATH=True AM_S3_BUCKET=True AM_TELEGRAM_TOKEN=True AWS_ACCESS_KEY_ID=False AWS_DEFAULT_REGION=False AWS_SECRET_ACCESS_KEY=False GH_ACTION_ACCESS_TOKEN=True\n",
      "INFO  # Git\n",
      "    branch_name='CMTask1219_Explore_Kibot_data_in_S3'\n",
      "    hash='c4de28364'\n",
      "    # Last commits:\n",
      "      *   c4de28364 max-rsrch Merge branch 'master' into CMTask1219_Explore_Kibot_data_in_S3    (30 minutes ago) Mon Feb 21 14:58:23 2022  (HEAD -> CMTask1219_Explore_Kibot_data_in_S3)\n",
      "      |\\  \n",
      "      | * ecfade9cb Grigorii Pomazkin CmTask851: omit certain files in coverage report  (#1261)         (51 minutes ago) Mon Feb 21 14:37:36 2022  (origin/master, origin/HEAD, master)\n",
      "      | * e5333f10a Nikola Jašek CMTask849: Update test and remove reindexing by date (#971)       (   2 hours ago) Mon Feb 21 13:14:15 2022           \n",
      "# Machine info\n",
      "    system=Linux\n",
      "    node name=5d16f9b4df0d\n",
      "    release=5.11.0-1028-aws\n",
      "    version=#31~20.04.1-Ubuntu SMP Fri Jan 14 14:37:50 UTC 2022\n",
      "    machine=x86_64\n",
      "    processor=x86_64\n",
      "    cpu count=8\n",
      "    cpu freq=scpufreq(current=2499.998, min=0.0, max=0.0)\n",
      "    memory=svmem(total=33295769600, available=14722600960, percent=55.8, used=17822539776, free=4640321536, active=5266272256, inactive=21275541504, buffers=1492340736, cached=9340567552, shared=274907136, slab=1698947072)\n",
      "    disk usage=sdiskusage(total=104021790720, used=63825125376, free=40179888128, percent=61.4)\n",
      "# Packages\n",
      "    python: 3.8.10\n",
      "    gluonnlp: ?\n",
      "    gluonts: 0.6.7\n",
      "    joblib: 1.1.0\n",
      "    mxnet: 1.9.0\n",
      "    numpy: 1.22.2\n",
      "    pandas: 1.4.1\n",
      "    pyarrow: 7.0.0\n",
      "    scipy: 1.6.1\n",
      "    seaborn: 0.11.2\n",
      "    sklearn: 1.0.2\n",
      "    statsmodels: 0.13.2\n",
      "\u001b[33mWARNING\u001b[0m: Disabling annoying warnings\n"
     ]
    }
   ],
   "source": [
    "hdbg.init_logger(verbosity=logging.INFO)\n",
    "\n",
    "_LOG = logging.getLogger(__name__)\n",
    "\n",
    "_LOG.info(\"%s\", henv.get_system_signature()[0])\n",
    "\n",
    "hprint.config_notebook()"
   ]
  },
  {
   "cell_type": "code",
   "execution_count": 3,
   "id": "83c0e66d",
   "metadata": {
    "ExecuteTime": {
     "end_time": "2022-02-21T15:28:49.414035Z",
     "start_time": "2022-02-21T15:28:49.411206Z"
    }
   },
   "outputs": [],
   "source": [
    "# Disabling INFO messages from data downloads.\n",
    "logger = logging.getLogger()\n",
    "logger.setLevel(logging.CRITICAL)"
   ]
  },
  {
   "cell_type": "markdown",
   "id": "c2a1fa6a",
   "metadata": {},
   "source": [
    "# Functions"
   ]
  },
  {
   "cell_type": "code",
   "execution_count": 4,
   "id": "0916aef8",
   "metadata": {
    "ExecuteTime": {
     "end_time": "2022-02-21T15:28:49.434732Z",
     "start_time": "2022-02-21T15:28:49.416376Z"
    }
   },
   "outputs": [],
   "source": [
    "# TODO: Merge this function into `compute_start_end_table` in `research_amp/cc/statistics.py`\n",
    "def calculate_datetime_statistics_for_kibot_data(\n",
    "    list_of_symbols: list, contract_type: str, futures_frequency: str\n",
    ") -> pd.DataFrame:\n",
    "    \"\"\"\n",
    "    Load the data for each asset through the loop and proccess it to obtain\n",
    "    datetime statistics:\n",
    "\n",
    "    - start date\n",
    "    - end date\n",
    "    - data points count\n",
    "\n",
    "    :param list_of_symbols: tickers for asset in desired universe\n",
    "    :param contract_type: either 'Futures' or 'Stocks'\n",
    "    :param futures_frequency: only for Futures; \"daily\" or \"minutely\"\n",
    "    :return: datetime statistics for every asset in the given universe\n",
    "    \"\"\"\n",
    "    # Create dictionaries that will store the datetime statistics.\n",
    "    start_date_dict = {}\n",
    "    end_date_dict = {}\n",
    "    data_count_dict = {}\n",
    "    # Create a loop that loads data for a single asset and proccess it to extract datetime statistics.\n",
    "    for ticker in list_of_symbols:\n",
    "        # The code below loads the data.\n",
    "        if contract_type == \"Futures\":\n",
    "            asset_df = kibot_loader.read_data(\n",
    "                exchange=\"Any Exchange\",\n",
    "                symbol=ticker,\n",
    "                asset_class=imcodatyp.AssetClass.Futures,\n",
    "                contract_type=imcodatyp.ContractType.Continuous,\n",
    "                frequency=futures_frequency,\n",
    "            )\n",
    "        elif contract_type == \"Stocks\":\n",
    "            asset_df = kibot_loader.read_data(\n",
    "                exchange=\"Any Exchange\",\n",
    "                symbol=ticker,\n",
    "                asset_class=imcodatyp.AssetClass.Stocks,\n",
    "                frequency=imcodatyp.Frequency.Minutely,\n",
    "                unadjusted=False,\n",
    "            )\n",
    "        # Here is a condition that cuts out empty dataframes.\n",
    "        # See section 'Example of an empty stock data' for reference.\n",
    "        if asset_df.shape[0] in [1, 2]:\n",
    "            # The logic here and below: mapping the value of start date to the\n",
    "            # specific company ticker.\n",
    "            start_ind[ticker] = np.nan\n",
    "            # The logic here and below: add a particular ticket related data\n",
    "            # to the dictionaries with data for all tickers.\n",
    "            start_date_dict = start_date_dict | start_ind.items()\n",
    "            end_ind[ticker] = np.nan\n",
    "            end_date_dict = end_date_dict | end_ind.items()\n",
    "            data_count_ind[ticker] = np.nan\n",
    "            data_count_dict = data_count_dict | data_count_ind.items()\n",
    "        # The non-empty dataframes are proccessed to extract datetime statistics.\n",
    "        else:\n",
    "            # Reseting index to unleash the column with datetime data.\n",
    "            asset_df.reset_index(inplace=True)\n",
    "            # Collecting datetime statistics.\n",
    "            max_date = asset_df[\"datetime\"].max()\n",
    "            min_date = asset_df[\"datetime\"].min()\n",
    "            data_points = asset_df[\"datetime\"].count()\n",
    "            # Writing these values into the dictionaries.\n",
    "            start_ind = {ticker: min_date}\n",
    "            start_date_dict = start_date_dict | start_ind.items()\n",
    "            end_ind = {ticker: max_date}\n",
    "            end_date_dict = end_date_dict | end_ind.items()\n",
    "            data_count_ind = {ticker: data_points}\n",
    "            data_count_dict = data_count_dict | data_count_ind.items()\n",
    "        # Once all the dictionaries are filled with data - turn them to dataframes.\n",
    "        # The logic here and below: transform dictionary into `pd.DataFrame`.\n",
    "        # It has two columns: tickers and statistics value. The code below sets tickers\n",
    "        # as an index during this transformation.\n",
    "        final_start_date = pd.DataFrame(\n",
    "            start_date_dict, columns=[\"\", \"start_date\"]\n",
    "        ).set_index(\"\")\n",
    "        final_end_date = pd.DataFrame(\n",
    "            end_date_dict, columns=[\"\", \"end_date\"]\n",
    "        ).set_index(\"\")\n",
    "        final_data_count = pd.DataFrame(\n",
    "            data_count_dict, columns=[\"\", \"data_points_count\"]\n",
    "        ).set_index(\"\")\n",
    "        # Combine all statistics into a single table.\n",
    "        result = pd.concat(\n",
    "            [final_start_date, final_end_date, final_data_count], axis=1\n",
    "        )\n",
    "    return result.sort_index(ascending=True)\n",
    "\n",
    "\n",
    "def calculate_general_datetime_stats(df: pd.DataFrame) -> pd.DataFrame:\n",
    "    \"\"\"\n",
    "    Take the table with datetime stats for individual assets and compute\n",
    "    generalized stats for all universe:\n",
    "\n",
    "    - median start date\n",
    "    - median end date\n",
    "    - min start date\n",
    "    - max start date\n",
    "    - median data points\n",
    "\n",
    "    :param df: Table with datetime statistics for every asset in the given universe\n",
    "    :return: Table with general datetime statistics for all assets in given universe\n",
    "    \"\"\"\n",
    "    median_start_date = df[\"start_date\"].median()\n",
    "    median_end_date = df[\"end_date\"].median()\n",
    "    min_start_date = df[\"start_date\"].min()\n",
    "    max_end_date = df[\"end_date\"].max()\n",
    "    median_data_points = df[\"data_points_count\"].median()\n",
    "    result = pd.DataFrame(\n",
    "        [\n",
    "            median_start_date,\n",
    "            median_end_date,\n",
    "            min_start_date,\n",
    "            max_end_date,\n",
    "            median_data_points,\n",
    "        ],\n",
    "        index=[\n",
    "            \"median_start_date\",\n",
    "            \"median_end_date\",\n",
    "            \"min_start_date\",\n",
    "            \"max_end_date\",\n",
    "            \"median_data_points\",\n",
    "        ],\n",
    "        columns=[\"value\"],\n",
    "    )\n",
    "    return result"
   ]
  },
  {
   "cell_type": "markdown",
   "id": "a35e4f3c",
   "metadata": {},
   "source": [
    "# Explore the universe"
   ]
  },
  {
   "cell_type": "code",
   "execution_count": 5,
   "id": "a39099f6",
   "metadata": {
    "ExecuteTime": {
     "end_time": "2022-02-21T15:28:49.452576Z",
     "start_time": "2022-02-21T15:28:49.449937Z"
    }
   },
   "outputs": [],
   "source": [
    "s3_backend = imkmls3ba.S3Backend()"
   ]
  },
  {
   "cell_type": "markdown",
   "id": "47cfdd27",
   "metadata": {},
   "source": [
    "## Futures"
   ]
  },
  {
   "cell_type": "code",
   "execution_count": 6,
   "id": "16f79297",
   "metadata": {
    "ExecuteTime": {
     "end_time": "2022-02-21T15:28:51.485932Z",
     "start_time": "2022-02-21T15:28:49.770042Z"
    }
   },
   "outputs": [
    {
     "name": "stdout",
     "output_type": "stream",
     "text": [
      "Number of contracts: 14962\n"
     ]
    },
    {
     "data": {
      "text/html": [
       "<div>\n",
       "<style scoped>\n",
       "    .dataframe tbody tr th:only-of-type {\n",
       "        vertical-align: middle;\n",
       "    }\n",
       "\n",
       "    .dataframe tbody tr th {\n",
       "        vertical-align: top;\n",
       "    }\n",
       "\n",
       "    .dataframe thead th {\n",
       "        text-align: right;\n",
       "    }\n",
       "</style>\n",
       "<table border=\"1\" class=\"dataframe\">\n",
       "  <thead>\n",
       "    <tr style=\"text-align: right;\">\n",
       "      <th></th>\n",
       "      <th>Symbol</th>\n",
       "      <th>Link</th>\n",
       "      <th>Description</th>\n",
       "    </tr>\n",
       "    <tr>\n",
       "      <th>All_Futures_Contracts_1min.csv</th>\n",
       "      <th></th>\n",
       "      <th></th>\n",
       "      <th></th>\n",
       "    </tr>\n",
       "  </thead>\n",
       "  <tbody>\n",
       "    <tr>\n",
       "      <th>1</th>\n",
       "      <td>JY</td>\n",
       "      <td>http://api.kibot.com/?action=download&amp;link=151...</td>\n",
       "      <td>CONTINUOUS JAPANESE YEN CONTRACT</td>\n",
       "    </tr>\n",
       "    <tr>\n",
       "      <th>2</th>\n",
       "      <td>JYF18</td>\n",
       "      <td>http://api.kibot.com/?action=download&amp;link=vrv...</td>\n",
       "      <td>JAPANESE YEN JANUARY 2018</td>\n",
       "    </tr>\n",
       "    <tr>\n",
       "      <th>3</th>\n",
       "      <td>JYF19</td>\n",
       "      <td>http://api.kibot.com/?action=download&amp;link=8r8...</td>\n",
       "      <td>JAPANESE YEN JANUARY 2019</td>\n",
       "    </tr>\n",
       "  </tbody>\n",
       "</table>\n",
       "</div>"
      ],
      "text/plain": [
       "                               Symbol                                               Link                       Description\n",
       "All_Futures_Contracts_1min.csv                                                                                            \n",
       "1                                  JY  http://api.kibot.com/?action=download&link=151...  CONTINUOUS JAPANESE YEN CONTRACT\n",
       "2                               JYF18  http://api.kibot.com/?action=download&link=vrv...         JAPANESE YEN JANUARY 2018\n",
       "3                               JYF19  http://api.kibot.com/?action=download&link=8r8...         JAPANESE YEN JANUARY 2019"
      ]
     },
     "metadata": {},
     "output_type": "display_data"
    }
   ],
   "source": [
    "one_min_contract_metadata = s3_backend.read_1min_contract_metadata()\n",
    "print(\"Number of contracts:\", one_min_contract_metadata.shape[0])\n",
    "display(one_min_contract_metadata.head(3))"
   ]
  },
  {
   "cell_type": "code",
   "execution_count": 7,
   "id": "ca63ea29",
   "metadata": {
    "ExecuteTime": {
     "end_time": "2022-02-21T15:28:52.028687Z",
     "start_time": "2022-02-21T15:28:51.488682Z"
    }
   },
   "outputs": [
    {
     "name": "stdout",
     "output_type": "stream",
     "text": [
      "Number of contracts: 14962\n"
     ]
    },
    {
     "data": {
      "text/html": [
       "<div>\n",
       "<style scoped>\n",
       "    .dataframe tbody tr th:only-of-type {\n",
       "        vertical-align: middle;\n",
       "    }\n",
       "\n",
       "    .dataframe tbody tr th {\n",
       "        vertical-align: top;\n",
       "    }\n",
       "\n",
       "    .dataframe thead th {\n",
       "        text-align: right;\n",
       "    }\n",
       "</style>\n",
       "<table border=\"1\" class=\"dataframe\">\n",
       "  <thead>\n",
       "    <tr style=\"text-align: right;\">\n",
       "      <th></th>\n",
       "      <th>Symbol</th>\n",
       "      <th>Link</th>\n",
       "      <th>Description</th>\n",
       "    </tr>\n",
       "    <tr>\n",
       "      <th>All_Futures_Contracts_daily.csv</th>\n",
       "      <th></th>\n",
       "      <th></th>\n",
       "      <th></th>\n",
       "    </tr>\n",
       "  </thead>\n",
       "  <tbody>\n",
       "    <tr>\n",
       "      <th>1</th>\n",
       "      <td>JY</td>\n",
       "      <td>http://api.kibot.com/?action=download&amp;link=151...</td>\n",
       "      <td>CONTINUOUS JAPANESE YEN CONTRACT</td>\n",
       "    </tr>\n",
       "    <tr>\n",
       "      <th>2</th>\n",
       "      <td>JYF18</td>\n",
       "      <td>http://api.kibot.com/?action=download&amp;link=vrv...</td>\n",
       "      <td>JAPANESE YEN JANUARY 2018</td>\n",
       "    </tr>\n",
       "    <tr>\n",
       "      <th>3</th>\n",
       "      <td>JYF19</td>\n",
       "      <td>http://api.kibot.com/?action=download&amp;link=8r8...</td>\n",
       "      <td>JAPANESE YEN JANUARY 2019</td>\n",
       "    </tr>\n",
       "  </tbody>\n",
       "</table>\n",
       "</div>"
      ],
      "text/plain": [
       "                                Symbol                                               Link                       Description\n",
       "All_Futures_Contracts_daily.csv                                                                                            \n",
       "1                                   JY  http://api.kibot.com/?action=download&link=151...  CONTINUOUS JAPANESE YEN CONTRACT\n",
       "2                                JYF18  http://api.kibot.com/?action=download&link=vrv...         JAPANESE YEN JANUARY 2018\n",
       "3                                JYF19  http://api.kibot.com/?action=download&link=8r8...         JAPANESE YEN JANUARY 2019"
      ]
     },
     "metadata": {},
     "output_type": "display_data"
    }
   ],
   "source": [
    "daily_contract_metadata = s3_backend.read_daily_contract_metadata()\n",
    "print(\"Number of contracts:\", daily_contract_metadata.shape[0])\n",
    "display(daily_contract_metadata.head(3))"
   ]
  },
  {
   "cell_type": "code",
   "execution_count": 8,
   "id": "51ef19d0",
   "metadata": {
    "ExecuteTime": {
     "end_time": "2022-02-21T15:28:52.774526Z",
     "start_time": "2022-02-21T15:28:52.030685Z"
    }
   },
   "outputs": [
    {
     "name": "stdout",
     "output_type": "stream",
     "text": [
      "Number of contracts: 5749\n"
     ]
    },
    {
     "data": {
      "text/html": [
       "<div>\n",
       "<style scoped>\n",
       "    .dataframe tbody tr th:only-of-type {\n",
       "        vertical-align: middle;\n",
       "    }\n",
       "\n",
       "    .dataframe tbody tr th {\n",
       "        vertical-align: top;\n",
       "    }\n",
       "\n",
       "    .dataframe thead th {\n",
       "        text-align: right;\n",
       "    }\n",
       "</style>\n",
       "<table border=\"1\" class=\"dataframe\">\n",
       "  <thead>\n",
       "    <tr style=\"text-align: right;\">\n",
       "      <th></th>\n",
       "      <th>SymbolBase</th>\n",
       "      <th>Symbol</th>\n",
       "      <th>StartDate</th>\n",
       "      <th>Size(MB)</th>\n",
       "      <th>Description</th>\n",
       "      <th>Exchange</th>\n",
       "    </tr>\n",
       "  </thead>\n",
       "  <tbody>\n",
       "    <tr>\n",
       "      <th>1</th>\n",
       "      <td>ES</td>\n",
       "      <td>ES</td>\n",
       "      <td>2009-09-30</td>\n",
       "      <td>50610.0</td>\n",
       "      <td>CONTINUOUS E-MINI S&amp;P 500 CONTRACT</td>\n",
       "      <td>Chicago Mercantile Exchange Mini Sized Contrac...</td>\n",
       "    </tr>\n",
       "    <tr>\n",
       "      <th>2</th>\n",
       "      <td>ES</td>\n",
       "      <td>ESH11</td>\n",
       "      <td>2010-04-06</td>\n",
       "      <td>891.0</td>\n",
       "      <td>E-MINI S&amp;P 500 MARCH 2011</td>\n",
       "      <td>Chicago Mercantile Exchange Mini Sized Contrac...</td>\n",
       "    </tr>\n",
       "    <tr>\n",
       "      <th>3</th>\n",
       "      <td>ES</td>\n",
       "      <td>ESH12</td>\n",
       "      <td>2011-03-06</td>\n",
       "      <td>1060.0</td>\n",
       "      <td>E-MINI S&amp;P 500 MARCH 2012</td>\n",
       "      <td>Chicago Mercantile Exchange Mini Sized Contrac...</td>\n",
       "    </tr>\n",
       "  </tbody>\n",
       "</table>\n",
       "</div>"
      ],
      "text/plain": [
       "  SymbolBase Symbol  StartDate  Size(MB)                         Description                                           Exchange\n",
       "1         ES     ES 2009-09-30   50610.0  CONTINUOUS E-MINI S&P 500 CONTRACT  Chicago Mercantile Exchange Mini Sized Contrac...\n",
       "2         ES  ESH11 2010-04-06     891.0           E-MINI S&P 500 MARCH 2011  Chicago Mercantile Exchange Mini Sized Contrac...\n",
       "3         ES  ESH12 2011-03-06    1060.0           E-MINI S&P 500 MARCH 2012  Chicago Mercantile Exchange Mini Sized Contrac..."
      ]
     },
     "metadata": {},
     "output_type": "display_data"
    }
   ],
   "source": [
    "tickbidask_contract_metadata = s3_backend.read_tickbidask_contract_metadata()\n",
    "print(\"Number of contracts:\", tickbidask_contract_metadata.shape[0])\n",
    "display(tickbidask_contract_metadata.head(3))"
   ]
  },
  {
   "cell_type": "code",
   "execution_count": 9,
   "id": "0a4aa380",
   "metadata": {
    "ExecuteTime": {
     "end_time": "2022-02-21T15:28:53.042955Z",
     "start_time": "2022-02-21T15:28:52.777030Z"
    },
    "run_control": {
     "marked": false
    }
   },
   "outputs": [
    {
     "name": "stdout",
     "output_type": "stream",
     "text": [
      "Number of contracts: 87\n"
     ]
    },
    {
     "data": {
      "text/html": [
       "<div>\n",
       "<style scoped>\n",
       "    .dataframe tbody tr th:only-of-type {\n",
       "        vertical-align: middle;\n",
       "    }\n",
       "\n",
       "    .dataframe tbody tr th {\n",
       "        vertical-align: top;\n",
       "    }\n",
       "\n",
       "    .dataframe thead th {\n",
       "        text-align: right;\n",
       "    }\n",
       "</style>\n",
       "<table border=\"1\" class=\"dataframe\">\n",
       "  <thead>\n",
       "    <tr style=\"text-align: right;\">\n",
       "      <th></th>\n",
       "      <th>SymbolBase</th>\n",
       "      <th>Symbol</th>\n",
       "      <th>StartDate</th>\n",
       "      <th>Size(MB)</th>\n",
       "      <th>Description</th>\n",
       "      <th>Exchange</th>\n",
       "    </tr>\n",
       "  </thead>\n",
       "  <tbody>\n",
       "    <tr>\n",
       "      <th>1</th>\n",
       "      <td>JY</td>\n",
       "      <td>JY</td>\n",
       "      <td>2009-09-27</td>\n",
       "      <td>183.0</td>\n",
       "      <td>CONTINUOUS JAPANESE YEN CONTRACT</td>\n",
       "      <td>Chicago Mercantile Exchange (CME GLOBEX)</td>\n",
       "    </tr>\n",
       "    <tr>\n",
       "      <th>2</th>\n",
       "      <td>TY</td>\n",
       "      <td>TY</td>\n",
       "      <td>2009-09-27</td>\n",
       "      <td>180.0</td>\n",
       "      <td>CONTINUOUS 10 YR US TREASURY NOTE CONTRACT</td>\n",
       "      <td>Chicago Board Of Trade (CBOT GLOBEX)</td>\n",
       "    </tr>\n",
       "    <tr>\n",
       "      <th>3</th>\n",
       "      <td>FV</td>\n",
       "      <td>FV</td>\n",
       "      <td>2009-09-27</td>\n",
       "      <td>171.0</td>\n",
       "      <td>CONTINUOUS 5 YR US TREASURY NOTE CONTRACT</td>\n",
       "      <td>Chicago Board Of Trade (CBOT GLOBEX)</td>\n",
       "    </tr>\n",
       "  </tbody>\n",
       "</table>\n",
       "</div>"
      ],
      "text/plain": [
       "  SymbolBase Symbol  StartDate  Size(MB)                                 Description                                  Exchange\n",
       "1         JY     JY 2009-09-27     183.0            CONTINUOUS JAPANESE YEN CONTRACT  Chicago Mercantile Exchange (CME GLOBEX)\n",
       "2         TY     TY 2009-09-27     180.0  CONTINUOUS 10 YR US TREASURY NOTE CONTRACT      Chicago Board Of Trade (CBOT GLOBEX)\n",
       "3         FV     FV 2009-09-27     171.0   CONTINUOUS 5 YR US TREASURY NOTE CONTRACT      Chicago Board Of Trade (CBOT GLOBEX)"
      ]
     },
     "metadata": {},
     "output_type": "display_data"
    }
   ],
   "source": [
    "continuous_contract_metadata = s3_backend.read_continuous_contract_metadata()\n",
    "print(\"Number of contracts:\", continuous_contract_metadata.shape[0])\n",
    "display(continuous_contract_metadata.head(3))"
   ]
  },
  {
   "cell_type": "code",
   "execution_count": 10,
   "id": "a5a8697d",
   "metadata": {
    "ExecuteTime": {
     "end_time": "2022-02-21T15:28:53.304598Z",
     "start_time": "2022-02-21T15:28:53.045295Z"
    }
   },
   "outputs": [
    {
     "name": "stdout",
     "output_type": "stream",
     "text": [
      "Number of contracts: 72\n"
     ]
    },
    {
     "data": {
      "text/html": [
       "<div>\n",
       "<style scoped>\n",
       "    .dataframe tbody tr th:only-of-type {\n",
       "        vertical-align: middle;\n",
       "    }\n",
       "\n",
       "    .dataframe tbody tr th {\n",
       "        vertical-align: top;\n",
       "    }\n",
       "\n",
       "    .dataframe thead th {\n",
       "        text-align: right;\n",
       "    }\n",
       "</style>\n",
       "<table border=\"1\" class=\"dataframe\">\n",
       "  <thead>\n",
       "    <tr style=\"text-align: right;\">\n",
       "      <th></th>\n",
       "      <th>Exchange_group</th>\n",
       "      <th>Exchange_abbreviation</th>\n",
       "      <th>Exchange_symbol</th>\n",
       "    </tr>\n",
       "    <tr>\n",
       "      <th>Kibot_symbol</th>\n",
       "      <th></th>\n",
       "      <th></th>\n",
       "      <th></th>\n",
       "    </tr>\n",
       "  </thead>\n",
       "  <tbody>\n",
       "    <tr>\n",
       "      <th>AC</th>\n",
       "      <td>CME</td>\n",
       "      <td>CBOT</td>\n",
       "      <td>EH</td>\n",
       "    </tr>\n",
       "    <tr>\n",
       "      <th>AE</th>\n",
       "      <td>CME</td>\n",
       "      <td>CBOT</td>\n",
       "      <td>AW</td>\n",
       "    </tr>\n",
       "    <tr>\n",
       "      <th>BGI</th>\n",
       "      <td>CME</td>\n",
       "      <td>CME</td>\n",
       "      <td>LE</td>\n",
       "    </tr>\n",
       "  </tbody>\n",
       "</table>\n",
       "</div>"
      ],
      "text/plain": [
       "             Exchange_group Exchange_abbreviation Exchange_symbol\n",
       "Kibot_symbol                                                     \n",
       "AC                      CME                  CBOT              EH\n",
       "AE                      CME                  CBOT              AW\n",
       "BGI                     CME                   CME              LE"
      ]
     },
     "metadata": {},
     "output_type": "display_data"
    }
   ],
   "source": [
    "kibot_exchange_mapping = s3_backend.read_kibot_exchange_mapping()\n",
    "print(\"Number of contracts:\", kibot_exchange_mapping.shape[0])\n",
    "display(kibot_exchange_mapping.head(3))"
   ]
  },
  {
   "cell_type": "markdown",
   "id": "cce391e3",
   "metadata": {},
   "source": [
    "## Stocks"
   ]
  },
  {
   "cell_type": "code",
   "execution_count": 11,
   "id": "ce783df7",
   "metadata": {
    "ExecuteTime": {
     "end_time": "2022-02-21T15:28:57.019115Z",
     "start_time": "2022-02-21T15:28:53.308071Z"
    }
   },
   "outputs": [
    {
     "data": {
      "text/plain": [
       "['A', 'AA', 'AA.B', 'AAAP', 'AABA']"
      ]
     },
     "execution_count": 11,
     "metadata": {},
     "output_type": "execute_result"
    }
   ],
   "source": [
    "stocks_symbols = s3_backend.get_symbols_for_dataset(\"all_stocks_1min\")\n",
    "stocks_symbols[:5]"
   ]
  },
  {
   "cell_type": "code",
   "execution_count": 12,
   "id": "047b4710",
   "metadata": {
    "ExecuteTime": {
     "end_time": "2022-02-21T15:28:57.025293Z",
     "start_time": "2022-02-21T15:28:57.021148Z"
    }
   },
   "outputs": [
    {
     "data": {
      "text/plain": [
       "11687"
      ]
     },
     "execution_count": 12,
     "metadata": {},
     "output_type": "execute_result"
    }
   ],
   "source": [
    "len(stocks_symbols)"
   ]
  },
  {
   "cell_type": "markdown",
   "id": "47f54c7c",
   "metadata": {},
   "source": [
    "# Example for data loading"
   ]
  },
  {
   "cell_type": "code",
   "execution_count": 13,
   "id": "d77fd634",
   "metadata": {
    "ExecuteTime": {
     "end_time": "2022-02-21T15:28:57.030062Z",
     "start_time": "2022-02-21T15:28:57.027519Z"
    }
   },
   "outputs": [],
   "source": [
    "kibot_loader = imkdlksdlo.KibotS3DataLoader()"
   ]
  },
  {
   "cell_type": "markdown",
   "id": "37988e50",
   "metadata": {},
   "source": [
    "## Futures"
   ]
  },
  {
   "cell_type": "code",
   "execution_count": 14,
   "id": "41111f0a",
   "metadata": {
    "ExecuteTime": {
     "end_time": "2022-02-21T15:28:57.075457Z",
     "start_time": "2022-02-21T15:28:57.033041Z"
    }
   },
   "outputs": [
    {
     "data": {
      "text/html": [
       "<div>\n",
       "<style scoped>\n",
       "    .dataframe tbody tr th:only-of-type {\n",
       "        vertical-align: middle;\n",
       "    }\n",
       "\n",
       "    .dataframe tbody tr th {\n",
       "        vertical-align: top;\n",
       "    }\n",
       "\n",
       "    .dataframe thead th {\n",
       "        text-align: right;\n",
       "    }\n",
       "</style>\n",
       "<table border=\"1\" class=\"dataframe\">\n",
       "  <thead>\n",
       "    <tr style=\"text-align: right;\">\n",
       "      <th></th>\n",
       "      <th>open</th>\n",
       "      <th>high</th>\n",
       "      <th>low</th>\n",
       "      <th>close</th>\n",
       "      <th>vol</th>\n",
       "    </tr>\n",
       "    <tr>\n",
       "      <th>datetime</th>\n",
       "      <th></th>\n",
       "      <th></th>\n",
       "      <th></th>\n",
       "      <th></th>\n",
       "      <th></th>\n",
       "    </tr>\n",
       "  </thead>\n",
       "  <tbody>\n",
       "    <tr>\n",
       "      <th>2005-05-05</th>\n",
       "      <td>1.18</td>\n",
       "      <td>1.18</td>\n",
       "      <td>1.18</td>\n",
       "      <td>1.18</td>\n",
       "      <td>0</td>\n",
       "    </tr>\n",
       "    <tr>\n",
       "      <th>2005-05-06</th>\n",
       "      <td>1.18</td>\n",
       "      <td>1.18</td>\n",
       "      <td>1.18</td>\n",
       "      <td>1.18</td>\n",
       "      <td>0</td>\n",
       "    </tr>\n",
       "    <tr>\n",
       "      <th>2005-05-09</th>\n",
       "      <td>1.18</td>\n",
       "      <td>1.18</td>\n",
       "      <td>1.18</td>\n",
       "      <td>1.18</td>\n",
       "      <td>0</td>\n",
       "    </tr>\n",
       "    <tr>\n",
       "      <th>2005-05-10</th>\n",
       "      <td>1.18</td>\n",
       "      <td>1.18</td>\n",
       "      <td>1.18</td>\n",
       "      <td>1.18</td>\n",
       "      <td>0</td>\n",
       "    </tr>\n",
       "    <tr>\n",
       "      <th>2005-05-11</th>\n",
       "      <td>1.18</td>\n",
       "      <td>1.18</td>\n",
       "      <td>1.18</td>\n",
       "      <td>1.18</td>\n",
       "      <td>0</td>\n",
       "    </tr>\n",
       "  </tbody>\n",
       "</table>\n",
       "</div>"
      ],
      "text/plain": [
       "            open  high   low  close  vol\n",
       "datetime                                \n",
       "2005-05-05  1.18  1.18  1.18   1.18    0\n",
       "2005-05-06  1.18  1.18  1.18   1.18    0\n",
       "2005-05-09  1.18  1.18  1.18   1.18    0\n",
       "2005-05-10  1.18  1.18  1.18   1.18    0\n",
       "2005-05-11  1.18  1.18  1.18   1.18    0"
      ]
     },
     "execution_count": 14,
     "metadata": {},
     "output_type": "execute_result"
    }
   ],
   "source": [
    "# Example for CME Ethanol Daily Continuous Futures.\n",
    "# Data is presented in OHLCV type.\n",
    "ethanol_futures = kibot_loader.read_data(\n",
    "    exchange=\"Unknown\",\n",
    "    symbol=\"AC\",\n",
    "    asset_class=imcodatyp.AssetClass.Futures,\n",
    "    frequency=imcodatyp.Frequency.Daily,\n",
    "    contract_type=imcodatyp.ContractType.Continuous,\n",
    ")\n",
    "ethanol_futures.head()"
   ]
  },
  {
   "cell_type": "code",
   "execution_count": 15,
   "id": "ca7d9f4c",
   "metadata": {
    "ExecuteTime": {
     "end_time": "2022-02-21T15:28:57.112415Z",
     "start_time": "2022-02-21T15:28:57.078753Z"
    }
   },
   "outputs": [
    {
     "data": {
      "text/html": [
       "<div>\n",
       "<style scoped>\n",
       "    .dataframe tbody tr th:only-of-type {\n",
       "        vertical-align: middle;\n",
       "    }\n",
       "\n",
       "    .dataframe tbody tr th {\n",
       "        vertical-align: top;\n",
       "    }\n",
       "\n",
       "    .dataframe thead th {\n",
       "        text-align: right;\n",
       "    }\n",
       "</style>\n",
       "<table border=\"1\" class=\"dataframe\">\n",
       "  <thead>\n",
       "    <tr style=\"text-align: right;\">\n",
       "      <th></th>\n",
       "      <th>open</th>\n",
       "      <th>high</th>\n",
       "      <th>low</th>\n",
       "      <th>close</th>\n",
       "      <th>vol</th>\n",
       "    </tr>\n",
       "    <tr>\n",
       "      <th>datetime</th>\n",
       "      <th></th>\n",
       "      <th></th>\n",
       "      <th></th>\n",
       "      <th></th>\n",
       "      <th></th>\n",
       "    </tr>\n",
       "  </thead>\n",
       "  <tbody>\n",
       "    <tr>\n",
       "      <th>2017-09-18 20:54:00</th>\n",
       "      <td>0.009027</td>\n",
       "      <td>0.009027</td>\n",
       "      <td>0.009027</td>\n",
       "      <td>0.009027</td>\n",
       "      <td>5</td>\n",
       "    </tr>\n",
       "    <tr>\n",
       "      <th>2017-09-19 07:32:00</th>\n",
       "      <td>0.009019</td>\n",
       "      <td>0.009019</td>\n",
       "      <td>0.009019</td>\n",
       "      <td>0.009019</td>\n",
       "      <td>1</td>\n",
       "    </tr>\n",
       "    <tr>\n",
       "      <th>2017-09-19 08:23:00</th>\n",
       "      <td>0.009026</td>\n",
       "      <td>0.009026</td>\n",
       "      <td>0.009026</td>\n",
       "      <td>0.009026</td>\n",
       "      <td>5</td>\n",
       "    </tr>\n",
       "    <tr>\n",
       "      <th>2017-09-19 08:39:00</th>\n",
       "      <td>0.009031</td>\n",
       "      <td>0.009031</td>\n",
       "      <td>0.009031</td>\n",
       "      <td>0.009031</td>\n",
       "      <td>5</td>\n",
       "    </tr>\n",
       "    <tr>\n",
       "      <th>2017-09-19 09:16:00</th>\n",
       "      <td>0.009038</td>\n",
       "      <td>0.009040</td>\n",
       "      <td>0.009038</td>\n",
       "      <td>0.009040</td>\n",
       "      <td>10</td>\n",
       "    </tr>\n",
       "  </tbody>\n",
       "</table>\n",
       "</div>"
      ],
      "text/plain": [
       "                         open      high       low     close  vol\n",
       "datetime                                                        \n",
       "2017-09-18 20:54:00  0.009027  0.009027  0.009027  0.009027    5\n",
       "2017-09-19 07:32:00  0.009019  0.009019  0.009019  0.009019    1\n",
       "2017-09-19 08:23:00  0.009026  0.009026  0.009026  0.009026    5\n",
       "2017-09-19 08:39:00  0.009031  0.009031  0.009031  0.009031    5\n",
       "2017-09-19 09:16:00  0.009038  0.009040  0.009038  0.009040   10"
      ]
     },
     "execution_count": 15,
     "metadata": {},
     "output_type": "execute_result"
    }
   ],
   "source": [
    "# Example for Minutely Expiry Futures (JAPANESE YEN JANUARY 2018).\n",
    "japan_yen = kibot_loader.read_data(\n",
    "    exchange=\"Unknown\",\n",
    "    symbol=\"JYF18\",\n",
    "    asset_class=imcodatyp.AssetClass.Futures,\n",
    "    frequency=imcodatyp.Frequency.Minutely,\n",
    "    contract_type=imcodatyp.ContractType.Expiry,\n",
    ")\n",
    "japan_yen.head()"
   ]
  },
  {
   "cell_type": "markdown",
   "id": "a345ae46",
   "metadata": {},
   "source": [
    "## Stocks"
   ]
  },
  {
   "cell_type": "code",
   "execution_count": 16,
   "id": "b3b3dcae",
   "metadata": {
    "ExecuteTime": {
     "end_time": "2022-02-21T15:29:01.763893Z",
     "start_time": "2022-02-21T15:28:57.115034Z"
    }
   },
   "outputs": [
    {
     "data": {
      "text/html": [
       "<div>\n",
       "<style scoped>\n",
       "    .dataframe tbody tr th:only-of-type {\n",
       "        vertical-align: middle;\n",
       "    }\n",
       "\n",
       "    .dataframe tbody tr th {\n",
       "        vertical-align: top;\n",
       "    }\n",
       "\n",
       "    .dataframe thead th {\n",
       "        text-align: right;\n",
       "    }\n",
       "</style>\n",
       "<table border=\"1\" class=\"dataframe\">\n",
       "  <thead>\n",
       "    <tr style=\"text-align: right;\">\n",
       "      <th></th>\n",
       "      <th>open</th>\n",
       "      <th>high</th>\n",
       "      <th>low</th>\n",
       "      <th>close</th>\n",
       "      <th>vol</th>\n",
       "    </tr>\n",
       "    <tr>\n",
       "      <th>datetime</th>\n",
       "      <th></th>\n",
       "      <th></th>\n",
       "      <th></th>\n",
       "      <th></th>\n",
       "      <th></th>\n",
       "    </tr>\n",
       "  </thead>\n",
       "  <tbody>\n",
       "    <tr>\n",
       "      <th>2015-09-29 04:00:00</th>\n",
       "      <td>103.90</td>\n",
       "      <td>103.96</td>\n",
       "      <td>103.90</td>\n",
       "      <td>103.96</td>\n",
       "      <td>974</td>\n",
       "    </tr>\n",
       "    <tr>\n",
       "      <th>2015-09-29 04:07:00</th>\n",
       "      <td>104.24</td>\n",
       "      <td>104.24</td>\n",
       "      <td>104.24</td>\n",
       "      <td>104.24</td>\n",
       "      <td>108</td>\n",
       "    </tr>\n",
       "    <tr>\n",
       "      <th>2015-09-29 04:13:00</th>\n",
       "      <td>104.29</td>\n",
       "      <td>104.29</td>\n",
       "      <td>104.29</td>\n",
       "      <td>104.29</td>\n",
       "      <td>216</td>\n",
       "    </tr>\n",
       "    <tr>\n",
       "      <th>2015-09-29 04:14:00</th>\n",
       "      <td>104.34</td>\n",
       "      <td>104.36</td>\n",
       "      <td>104.34</td>\n",
       "      <td>104.34</td>\n",
       "      <td>2272</td>\n",
       "    </tr>\n",
       "    <tr>\n",
       "      <th>2015-09-29 04:18:00</th>\n",
       "      <td>104.37</td>\n",
       "      <td>104.37</td>\n",
       "      <td>104.37</td>\n",
       "      <td>104.37</td>\n",
       "      <td>962</td>\n",
       "    </tr>\n",
       "  </tbody>\n",
       "</table>\n",
       "</div>"
      ],
      "text/plain": [
       "                       open    high     low   close   vol\n",
       "datetime                                                 \n",
       "2015-09-29 04:00:00  103.90  103.96  103.90  103.96   974\n",
       "2015-09-29 04:07:00  104.24  104.24  104.24  104.24   108\n",
       "2015-09-29 04:13:00  104.29  104.29  104.29  104.29   216\n",
       "2015-09-29 04:14:00  104.34  104.36  104.34  104.34  2272\n",
       "2015-09-29 04:18:00  104.37  104.37  104.37  104.37   962"
      ]
     },
     "execution_count": 16,
     "metadata": {},
     "output_type": "execute_result"
    }
   ],
   "source": [
    "# Example for Apple stock.\n",
    "aapl = kibot_loader.read_data(\n",
    "    exchange=\"Q\",\n",
    "    symbol=\"AAPL\",\n",
    "    asset_class=imcodatyp.AssetClass.Stocks,\n",
    "    frequency=imcodatyp.Frequency.Minutely,\n",
    "    unadjusted=False,\n",
    ")\n",
    "aapl.head()"
   ]
  },
  {
   "cell_type": "code",
   "execution_count": 17,
   "id": "2b7b33dc",
   "metadata": {
    "ExecuteTime": {
     "end_time": "2022-02-21T15:29:05.450645Z",
     "start_time": "2022-02-21T15:29:01.766008Z"
    }
   },
   "outputs": [
    {
     "data": {
      "text/html": [
       "<div>\n",
       "<style scoped>\n",
       "    .dataframe tbody tr th:only-of-type {\n",
       "        vertical-align: middle;\n",
       "    }\n",
       "\n",
       "    .dataframe tbody tr th {\n",
       "        vertical-align: top;\n",
       "    }\n",
       "\n",
       "    .dataframe thead th {\n",
       "        text-align: right;\n",
       "    }\n",
       "</style>\n",
       "<table border=\"1\" class=\"dataframe\">\n",
       "  <thead>\n",
       "    <tr style=\"text-align: right;\">\n",
       "      <th></th>\n",
       "      <th>open</th>\n",
       "      <th>high</th>\n",
       "      <th>low</th>\n",
       "      <th>close</th>\n",
       "      <th>vol</th>\n",
       "    </tr>\n",
       "    <tr>\n",
       "      <th>datetime</th>\n",
       "      <th></th>\n",
       "      <th></th>\n",
       "      <th></th>\n",
       "      <th></th>\n",
       "      <th></th>\n",
       "    </tr>\n",
       "  </thead>\n",
       "  <tbody>\n",
       "    <tr>\n",
       "      <th>2015-09-29 04:00:00</th>\n",
       "      <td>103.90</td>\n",
       "      <td>103.96</td>\n",
       "      <td>103.90</td>\n",
       "      <td>103.96</td>\n",
       "      <td>974</td>\n",
       "    </tr>\n",
       "    <tr>\n",
       "      <th>2015-09-29 04:07:00</th>\n",
       "      <td>104.24</td>\n",
       "      <td>104.24</td>\n",
       "      <td>104.24</td>\n",
       "      <td>104.24</td>\n",
       "      <td>108</td>\n",
       "    </tr>\n",
       "    <tr>\n",
       "      <th>2015-09-29 04:13:00</th>\n",
       "      <td>104.29</td>\n",
       "      <td>104.29</td>\n",
       "      <td>104.29</td>\n",
       "      <td>104.29</td>\n",
       "      <td>216</td>\n",
       "    </tr>\n",
       "    <tr>\n",
       "      <th>2015-09-29 04:14:00</th>\n",
       "      <td>104.34</td>\n",
       "      <td>104.36</td>\n",
       "      <td>104.34</td>\n",
       "      <td>104.34</td>\n",
       "      <td>2272</td>\n",
       "    </tr>\n",
       "    <tr>\n",
       "      <th>2015-09-29 04:18:00</th>\n",
       "      <td>104.37</td>\n",
       "      <td>104.37</td>\n",
       "      <td>104.37</td>\n",
       "      <td>104.37</td>\n",
       "      <td>962</td>\n",
       "    </tr>\n",
       "  </tbody>\n",
       "</table>\n",
       "</div>"
      ],
      "text/plain": [
       "                       open    high     low   close   vol\n",
       "datetime                                                 \n",
       "2015-09-29 04:00:00  103.90  103.96  103.90  103.96   974\n",
       "2015-09-29 04:07:00  104.24  104.24  104.24  104.24   108\n",
       "2015-09-29 04:13:00  104.29  104.29  104.29  104.29   216\n",
       "2015-09-29 04:14:00  104.34  104.36  104.34  104.34  2272\n",
       "2015-09-29 04:18:00  104.37  104.37  104.37  104.37   962"
      ]
     },
     "execution_count": 17,
     "metadata": {},
     "output_type": "execute_result"
    }
   ],
   "source": [
    "# Interesting note: the necessary param 'exchange' can be any value.\n",
    "aapl_any_exchange = kibot_loader.read_data(\n",
    "    exchange=\"Any Exchange\",\n",
    "    symbol=\"AAPL\",\n",
    "    asset_class=imcodatyp.AssetClass.Stocks,\n",
    "    frequency=imcodatyp.Frequency.Minutely,\n",
    "    unadjusted=False,\n",
    ")\n",
    "aapl_any_exchange.head()"
   ]
  },
  {
   "cell_type": "markdown",
   "id": "0c26daa9",
   "metadata": {},
   "source": [
    "### Example of an empty stock data"
   ]
  },
  {
   "cell_type": "code",
   "execution_count": 18,
   "id": "97cf4689",
   "metadata": {
    "ExecuteTime": {
     "end_time": "2022-02-21T15:29:05.476076Z",
     "start_time": "2022-02-21T15:29:05.454143Z"
    }
   },
   "outputs": [
    {
     "data": {
      "text/html": [
       "<div>\n",
       "<style scoped>\n",
       "    .dataframe tbody tr th:only-of-type {\n",
       "        vertical-align: middle;\n",
       "    }\n",
       "\n",
       "    .dataframe tbody tr th {\n",
       "        vertical-align: top;\n",
       "    }\n",
       "\n",
       "    .dataframe thead th {\n",
       "        text-align: right;\n",
       "    }\n",
       "</style>\n",
       "<table border=\"1\" class=\"dataframe\">\n",
       "  <thead>\n",
       "    <tr style=\"text-align: right;\">\n",
       "      <th></th>\n",
       "      <th>0</th>\n",
       "    </tr>\n",
       "  </thead>\n",
       "  <tbody>\n",
       "    <tr>\n",
       "      <th>0</th>\n",
       "      <td>405 Data Not Found.</td>\n",
       "    </tr>\n",
       "    <tr>\n",
       "      <th>1</th>\n",
       "      <td>No data found for the specified period for AACC.</td>\n",
       "    </tr>\n",
       "  </tbody>\n",
       "</table>\n",
       "</div>"
      ],
      "text/plain": [
       "                                                  0\n",
       "0                               405 Data Not Found.\n",
       "1  No data found for the specified period for AACC."
      ]
     },
     "metadata": {},
     "output_type": "display_data"
    },
    {
     "data": {
      "text/html": [
       "<div>\n",
       "<style scoped>\n",
       "    .dataframe tbody tr th:only-of-type {\n",
       "        vertical-align: middle;\n",
       "    }\n",
       "\n",
       "    .dataframe tbody tr th {\n",
       "        vertical-align: top;\n",
       "    }\n",
       "\n",
       "    .dataframe thead th {\n",
       "        text-align: right;\n",
       "    }\n",
       "</style>\n",
       "<table border=\"1\" class=\"dataframe\">\n",
       "  <thead>\n",
       "    <tr style=\"text-align: right;\">\n",
       "      <th></th>\n",
       "      <th>0</th>\n",
       "    </tr>\n",
       "  </thead>\n",
       "  <tbody>\n",
       "    <tr>\n",
       "      <th>0</th>\n",
       "      <td>404 Symbol Not Found405 Data Not Found.</td>\n",
       "    </tr>\n",
       "    <tr>\n",
       "      <th>1</th>\n",
       "      <td>No data found for the specified period for ACN...</td>\n",
       "    </tr>\n",
       "  </tbody>\n",
       "</table>\n",
       "</div>"
      ],
      "text/plain": [
       "                                                   0\n",
       "0            404 Symbol Not Found405 Data Not Found.\n",
       "1  No data found for the specified period for ACN..."
      ]
     },
     "metadata": {},
     "output_type": "display_data"
    }
   ],
   "source": [
    "# Some files in stock universe contain no data and consider empty.\n",
    "# There are different types of these empty files.\n",
    "empty_stock_file_1 = kibot_loader.read_data(\n",
    "    exchange=\"Any Exchange\",\n",
    "    symbol=\"AACC\",\n",
    "    asset_class=imcodatyp.AssetClass.Stocks,\n",
    "    frequency=imcodatyp.Frequency.Minutely,\n",
    "    unadjusted=False,\n",
    ")\n",
    "empty_stock_file_2 = kibot_loader.read_data(\n",
    "    exchange=\"Any Exchange\",\n",
    "    symbol=\"ACND.U\",\n",
    "    asset_class=imcodatyp.AssetClass.Stocks,\n",
    "    frequency=imcodatyp.Frequency.Minutely,\n",
    "    unadjusted=False,\n",
    ")\n",
    "display(empty_stock_file_1)\n",
    "display(empty_stock_file_2)"
   ]
  },
  {
   "cell_type": "markdown",
   "id": "2adf3c9d",
   "metadata": {},
   "source": [
    "# Period of time availability"
   ]
  },
  {
   "cell_type": "markdown",
   "id": "b8bade11",
   "metadata": {},
   "source": [
    "## Stocks"
   ]
  },
  {
   "cell_type": "code",
   "execution_count": 135,
   "id": "d8b42bbc",
   "metadata": {
    "ExecuteTime": {
     "end_time": "2022-02-15T22:06:49.998374Z",
     "start_time": "2022-02-15T22:06:49.981783Z"
    }
   },
   "outputs": [
    {
     "data": {
      "text/plain": [
       "(11687, 3)"
      ]
     },
     "metadata": {},
     "output_type": "display_data"
    },
    {
     "data": {
      "text/html": [
       "<div>\n",
       "<style scoped>\n",
       "    .dataframe tbody tr th:only-of-type {\n",
       "        vertical-align: middle;\n",
       "    }\n",
       "\n",
       "    .dataframe tbody tr th {\n",
       "        vertical-align: top;\n",
       "    }\n",
       "\n",
       "    .dataframe thead th {\n",
       "        text-align: right;\n",
       "    }\n",
       "</style>\n",
       "<table border=\"1\" class=\"dataframe\">\n",
       "  <thead>\n",
       "    <tr style=\"text-align: right;\">\n",
       "      <th></th>\n",
       "      <th>start_date</th>\n",
       "      <th>end_date</th>\n",
       "      <th>data_points_count</th>\n",
       "    </tr>\n",
       "  </thead>\n",
       "  <tbody>\n",
       "    <tr>\n",
       "      <th>A</th>\n",
       "      <td>2015-09-29 09:30:00</td>\n",
       "      <td>2020-08-20 14:01:00</td>\n",
       "      <td>477400.0</td>\n",
       "    </tr>\n",
       "    <tr>\n",
       "      <th>AA</th>\n",
       "      <td>2015-09-29 07:50:00</td>\n",
       "      <td>2020-08-20 14:01:00</td>\n",
       "      <td>516662.0</td>\n",
       "    </tr>\n",
       "    <tr>\n",
       "      <th>AA.B</th>\n",
       "      <td>2015-09-29 09:30:00</td>\n",
       "      <td>2016-10-31 16:00:00</td>\n",
       "      <td>17078.0</td>\n",
       "    </tr>\n",
       "    <tr>\n",
       "      <th>AAAP</th>\n",
       "      <td>2015-11-11 10:27:00</td>\n",
       "      <td>2018-02-09 16:00:00</td>\n",
       "      <td>66561.0</td>\n",
       "    </tr>\n",
       "    <tr>\n",
       "      <th>AABA</th>\n",
       "      <td>2015-09-29 04:41:00</td>\n",
       "      <td>2019-10-02 16:06:00</td>\n",
       "      <td>417064.0</td>\n",
       "    </tr>\n",
       "    <tr>\n",
       "      <th>...</th>\n",
       "      <td>...</td>\n",
       "      <td>...</td>\n",
       "      <td>...</td>\n",
       "    </tr>\n",
       "    <tr>\n",
       "      <th>ZYME</th>\n",
       "      <td>2017-04-28 09:49:00</td>\n",
       "      <td>2020-08-19 15:29:00</td>\n",
       "      <td>123359.0</td>\n",
       "    </tr>\n",
       "    <tr>\n",
       "      <th>ZYNE</th>\n",
       "      <td>2015-09-29 09:09:00</td>\n",
       "      <td>2020-08-19 15:29:00</td>\n",
       "      <td>312789.0</td>\n",
       "    </tr>\n",
       "    <tr>\n",
       "      <th>ZYXI</th>\n",
       "      <td>2015-09-30 09:40:00</td>\n",
       "      <td>2020-08-19 15:28:00</td>\n",
       "      <td>98710.0</td>\n",
       "    </tr>\n",
       "    <tr>\n",
       "      <th>ZZ</th>\n",
       "      <td>NaT</td>\n",
       "      <td>NaT</td>\n",
       "      <td>NaN</td>\n",
       "    </tr>\n",
       "    <tr>\n",
       "      <th>ZZC</th>\n",
       "      <td>NaT</td>\n",
       "      <td>NaT</td>\n",
       "      <td>NaN</td>\n",
       "    </tr>\n",
       "  </tbody>\n",
       "</table>\n",
       "<p>11687 rows × 3 columns</p>\n",
       "</div>"
      ],
      "text/plain": [
       "              start_date            end_date  data_points_count\n",
       "A    2015-09-29 09:30:00 2020-08-20 14:01:00           477400.0\n",
       "AA   2015-09-29 07:50:00 2020-08-20 14:01:00           516662.0\n",
       "AA.B 2015-09-29 09:30:00 2016-10-31 16:00:00            17078.0\n",
       "AAAP 2015-11-11 10:27:00 2018-02-09 16:00:00            66561.0\n",
       "AABA 2015-09-29 04:41:00 2019-10-02 16:06:00           417064.0\n",
       "...                  ...                 ...                ...\n",
       "ZYME 2017-04-28 09:49:00 2020-08-19 15:29:00           123359.0\n",
       "ZYNE 2015-09-29 09:09:00 2020-08-19 15:29:00           312789.0\n",
       "ZYXI 2015-09-30 09:40:00 2020-08-19 15:28:00            98710.0\n",
       "ZZ                   NaT                 NaT                NaN\n",
       "ZZC                  NaT                 NaT                NaN\n",
       "\n",
       "[11687 rows x 3 columns]"
      ]
     },
     "metadata": {},
     "output_type": "display_data"
    }
   ],
   "source": [
    "final_stats_stocks = calculate_datetime_statistics_for_kibot_data(\n",
    "    stocks_symbols, \"Stocks\", \"stock_datasets\"\n",
    ")\n",
    "display(final_stats_stocks.shape)\n",
    "display(final_stats_stocks)"
   ]
  },
  {
   "cell_type": "code",
   "execution_count": 107,
   "id": "998c483f",
   "metadata": {
    "ExecuteTime": {
     "end_time": "2022-02-15T21:46:36.661053Z",
     "start_time": "2022-02-15T21:46:36.643087Z"
    }
   },
   "outputs": [
    {
     "data": {
      "text/html": [
       "<div>\n",
       "<style scoped>\n",
       "    .dataframe tbody tr th:only-of-type {\n",
       "        vertical-align: middle;\n",
       "    }\n",
       "\n",
       "    .dataframe tbody tr th {\n",
       "        vertical-align: top;\n",
       "    }\n",
       "\n",
       "    .dataframe thead th {\n",
       "        text-align: right;\n",
       "    }\n",
       "</style>\n",
       "<table border=\"1\" class=\"dataframe\">\n",
       "  <thead>\n",
       "    <tr style=\"text-align: right;\">\n",
       "      <th></th>\n",
       "      <th>value</th>\n",
       "    </tr>\n",
       "  </thead>\n",
       "  <tbody>\n",
       "    <tr>\n",
       "      <th>median_start_date</th>\n",
       "      <td>2015-09-29 09:30:00</td>\n",
       "    </tr>\n",
       "    <tr>\n",
       "      <th>median_end_date</th>\n",
       "      <td>2020-08-18 16:00:00</td>\n",
       "    </tr>\n",
       "    <tr>\n",
       "      <th>min_start_date</th>\n",
       "      <td>2015-08-10 12:46:00</td>\n",
       "    </tr>\n",
       "    <tr>\n",
       "      <th>max_end_date</th>\n",
       "      <td>2020-08-21 16:38:00</td>\n",
       "    </tr>\n",
       "    <tr>\n",
       "      <th>median_data_points</th>\n",
       "      <td>76472.0</td>\n",
       "    </tr>\n",
       "  </tbody>\n",
       "</table>\n",
       "</div>"
      ],
      "text/plain": [
       "                                  value\n",
       "median_start_date   2015-09-29 09:30:00\n",
       "median_end_date     2020-08-18 16:00:00\n",
       "min_start_date      2015-08-10 12:46:00\n",
       "max_end_date        2020-08-21 16:38:00\n",
       "median_data_points              76472.0"
      ]
     },
     "execution_count": 107,
     "metadata": {},
     "output_type": "execute_result"
    }
   ],
   "source": [
    "general_stats_all_stocks = calculate_general_datetime_stats(final_stats_stocks)\n",
    "general_stats_all_stocks"
   ]
  },
  {
   "cell_type": "code",
   "execution_count": 110,
   "id": "f5199250",
   "metadata": {
    "ExecuteTime": {
     "end_time": "2022-02-15T21:47:36.064396Z",
     "start_time": "2022-02-15T21:47:36.060504Z"
    }
   },
   "outputs": [
    {
     "data": {
      "text/plain": [
       "2059"
      ]
     },
     "execution_count": 110,
     "metadata": {},
     "output_type": "execute_result"
    }
   ],
   "source": [
    "# Dataframe with empty stock data files.\n",
    "empty_dataframes = final_stats_stocks[\n",
    "    final_stats_stocks[\"data_points_count\"].isna()\n",
    "]\n",
    "# Number of empty stock data files.\n",
    "len(final_stats_stocks)"
   ]
  },
  {
   "cell_type": "code",
   "execution_count": 139,
   "id": "a52a6976",
   "metadata": {
    "ExecuteTime": {
     "end_time": "2022-02-15T22:13:40.720997Z",
     "start_time": "2022-02-15T22:13:40.717115Z"
    }
   },
   "outputs": [
    {
     "name": "stdout",
     "output_type": "stream",
     "text": [
      "17.62 % of files in stock universe are empty.\n"
     ]
    }
   ],
   "source": [
    "print(\n",
    "    hprint.perc(len(empty_dataframes), len(final_stats)),\n",
    "    \"of files in stock universe are empty.\",\n",
    ")"
   ]
  },
  {
   "cell_type": "markdown",
   "id": "bcb0a431",
   "metadata": {},
   "source": [
    "## Futures"
   ]
  },
  {
   "cell_type": "markdown",
   "id": "e8993b2e",
   "metadata": {},
   "source": [
    "### Continuous contracts 1min"
   ]
  },
  {
   "cell_type": "code",
   "execution_count": 20,
   "id": "8cd6831f",
   "metadata": {
    "ExecuteTime": {
     "end_time": "2022-02-21T15:29:47.872983Z",
     "start_time": "2022-02-21T15:29:47.125612Z"
    }
   },
   "outputs": [
    {
     "data": {
      "text/plain": [
       "252"
      ]
     },
     "execution_count": 20,
     "metadata": {},
     "output_type": "execute_result"
    }
   ],
   "source": [
    "futures_continuous_contracts_1min_symbols = s3_backend.get_symbols_for_dataset(\n",
    "    \"all_futures_continuous_contracts_1min\"\n",
    ")\n",
    "len(futures_continuous_contracts_1min_symbols)"
   ]
  },
  {
   "cell_type": "code",
   "execution_count": 21,
   "id": "0c93c95c",
   "metadata": {
    "ExecuteTime": {
     "end_time": "2022-02-21T15:29:47.878285Z",
     "start_time": "2022-02-21T15:29:47.875716Z"
    }
   },
   "outputs": [],
   "source": [
    "# Getting a sample of 5 contracts.\n",
    "futures_continuous_contracts_1min_symbols_sample = (\n",
    "    futures_continuous_contracts_1min_symbols[:10]\n",
    ")"
   ]
  },
  {
   "cell_type": "code",
   "execution_count": 22,
   "id": "6b82314e",
   "metadata": {
    "ExecuteTime": {
     "end_time": "2022-02-21T15:30:34.166478Z",
     "start_time": "2022-02-21T15:29:47.880200Z"
    }
   },
   "outputs": [
    {
     "data": {
      "text/html": [
       "<div>\n",
       "<style scoped>\n",
       "    .dataframe tbody tr th:only-of-type {\n",
       "        vertical-align: middle;\n",
       "    }\n",
       "\n",
       "    .dataframe tbody tr th {\n",
       "        vertical-align: top;\n",
       "    }\n",
       "\n",
       "    .dataframe thead th {\n",
       "        text-align: right;\n",
       "    }\n",
       "</style>\n",
       "<table border=\"1\" class=\"dataframe\">\n",
       "  <thead>\n",
       "    <tr style=\"text-align: right;\">\n",
       "      <th></th>\n",
       "      <th>start_date</th>\n",
       "      <th>end_date</th>\n",
       "      <th>data_points_count</th>\n",
       "    </tr>\n",
       "    <tr>\n",
       "      <th></th>\n",
       "      <th></th>\n",
       "      <th></th>\n",
       "      <th></th>\n",
       "    </tr>\n",
       "  </thead>\n",
       "  <tbody>\n",
       "    <tr>\n",
       "      <th>AC</th>\n",
       "      <td>2009-09-28 11:56:00</td>\n",
       "      <td>2019-07-19 14:42:00</td>\n",
       "      <td>65213</td>\n",
       "    </tr>\n",
       "    <tr>\n",
       "      <th>AD</th>\n",
       "      <td>2009-09-27 18:00:00</td>\n",
       "      <td>2019-07-19 16:59:00</td>\n",
       "      <td>3282325</td>\n",
       "    </tr>\n",
       "    <tr>\n",
       "      <th>AE</th>\n",
       "      <td>2007-05-16 10:35:00</td>\n",
       "      <td>2019-07-19 11:41:00</td>\n",
       "      <td>29928</td>\n",
       "    </tr>\n",
       "    <tr>\n",
       "      <th>AEX</th>\n",
       "      <td>2009-09-28 06:01:00</td>\n",
       "      <td>2019-07-19 15:59:00</td>\n",
       "      <td>1682164</td>\n",
       "    </tr>\n",
       "    <tr>\n",
       "      <th>AJY</th>\n",
       "      <td>2009-10-21 11:22:00</td>\n",
       "      <td>2019-07-19 15:21:00</td>\n",
       "      <td>43759</td>\n",
       "    </tr>\n",
       "    <tr>\n",
       "      <th>ALJ</th>\n",
       "      <td>2014-03-31 02:30:00</td>\n",
       "      <td>2019-07-19 11:29:00</td>\n",
       "      <td>687524</td>\n",
       "    </tr>\n",
       "    <tr>\n",
       "      <th>ALM</th>\n",
       "      <td>2014-03-31 02:30:00</td>\n",
       "      <td>2019-07-19 11:29:00</td>\n",
       "      <td>421324</td>\n",
       "    </tr>\n",
       "    <tr>\n",
       "      <th>BB</th>\n",
       "      <td>2009-09-27 19:45:00</td>\n",
       "      <td>2019-07-19 16:42:00</td>\n",
       "      <td>444242</td>\n",
       "    </tr>\n",
       "    <tr>\n",
       "      <th>BBN</th>\n",
       "      <td>2011-09-25 15:48:00</td>\n",
       "      <td>2019-07-19 05:28:00</td>\n",
       "      <td>28372</td>\n",
       "    </tr>\n",
       "    <tr>\n",
       "      <th>BD</th>\n",
       "      <td>2009-09-28 02:01:00</td>\n",
       "      <td>2019-07-19 16:03:00</td>\n",
       "      <td>2058463</td>\n",
       "    </tr>\n",
       "  </tbody>\n",
       "</table>\n",
       "</div>"
      ],
      "text/plain": [
       "             start_date            end_date  data_points_count\n",
       "                                                              \n",
       "AC  2009-09-28 11:56:00 2019-07-19 14:42:00              65213\n",
       "AD  2009-09-27 18:00:00 2019-07-19 16:59:00            3282325\n",
       "AE  2007-05-16 10:35:00 2019-07-19 11:41:00              29928\n",
       "AEX 2009-09-28 06:01:00 2019-07-19 15:59:00            1682164\n",
       "AJY 2009-10-21 11:22:00 2019-07-19 15:21:00              43759\n",
       "ALJ 2014-03-31 02:30:00 2019-07-19 11:29:00             687524\n",
       "ALM 2014-03-31 02:30:00 2019-07-19 11:29:00             421324\n",
       "BB  2009-09-27 19:45:00 2019-07-19 16:42:00             444242\n",
       "BBN 2011-09-25 15:48:00 2019-07-19 05:28:00              28372\n",
       "BD  2009-09-28 02:01:00 2019-07-19 16:03:00            2058463"
      ]
     },
     "execution_count": 22,
     "metadata": {},
     "output_type": "execute_result"
    }
   ],
   "source": [
    "continuous_contracts_minutely_stats = (\n",
    "    calculate_datetime_statistics_for_kibot_data(\n",
    "        futures_continuous_contracts_1min_symbols_sample,\n",
    "        \"Futures\",\n",
    "        imcodatyp.Frequency.Minutely,\n",
    "    )\n",
    ")\n",
    "continuous_contracts_minutely_stats"
   ]
  },
  {
   "cell_type": "markdown",
   "id": "2c6364c1",
   "metadata": {},
   "source": [
    "### Continuous contracts Daily"
   ]
  },
  {
   "cell_type": "code",
   "execution_count": 23,
   "id": "29d4c907",
   "metadata": {
    "ExecuteTime": {
     "end_time": "2022-02-21T15:30:34.910825Z",
     "start_time": "2022-02-21T15:30:34.168879Z"
    }
   },
   "outputs": [
    {
     "data": {
      "text/plain": [
       "252"
      ]
     },
     "execution_count": 23,
     "metadata": {},
     "output_type": "execute_result"
    }
   ],
   "source": [
    "futures_continuous_contracts_daily_symbols = s3_backend.get_symbols_for_dataset(\n",
    "    \"all_futures_continuous_contracts_daily\"\n",
    ")\n",
    "len(futures_continuous_contracts_daily_symbols)"
   ]
  },
  {
   "cell_type": "code",
   "execution_count": 24,
   "id": "4f26f201",
   "metadata": {
    "ExecuteTime": {
     "end_time": "2022-02-21T15:30:41.844198Z",
     "start_time": "2022-02-21T15:30:34.912503Z"
    }
   },
   "outputs": [
    {
     "data": {
      "text/html": [
       "<div>\n",
       "<style scoped>\n",
       "    .dataframe tbody tr th:only-of-type {\n",
       "        vertical-align: middle;\n",
       "    }\n",
       "\n",
       "    .dataframe tbody tr th {\n",
       "        vertical-align: top;\n",
       "    }\n",
       "\n",
       "    .dataframe thead th {\n",
       "        text-align: right;\n",
       "    }\n",
       "</style>\n",
       "<table border=\"1\" class=\"dataframe\">\n",
       "  <thead>\n",
       "    <tr style=\"text-align: right;\">\n",
       "      <th></th>\n",
       "      <th>start_date</th>\n",
       "      <th>end_date</th>\n",
       "      <th>data_points_count</th>\n",
       "    </tr>\n",
       "    <tr>\n",
       "      <th></th>\n",
       "      <th></th>\n",
       "      <th></th>\n",
       "      <th></th>\n",
       "    </tr>\n",
       "  </thead>\n",
       "  <tbody>\n",
       "    <tr>\n",
       "      <th>AC</th>\n",
       "      <td>2005-05-05</td>\n",
       "      <td>2019-07-19</td>\n",
       "      <td>3487</td>\n",
       "    </tr>\n",
       "    <tr>\n",
       "      <th>AD</th>\n",
       "      <td>1995-09-13</td>\n",
       "      <td>2019-07-19</td>\n",
       "      <td>6030</td>\n",
       "    </tr>\n",
       "    <tr>\n",
       "      <th>AE</th>\n",
       "      <td>2006-10-02</td>\n",
       "      <td>2019-07-19</td>\n",
       "      <td>3228</td>\n",
       "    </tr>\n",
       "  </tbody>\n",
       "</table>\n",
       "</div>"
      ],
      "text/plain": [
       "   start_date   end_date  data_points_count\n",
       "                                           \n",
       "AC 2005-05-05 2019-07-19               3487\n",
       "AD 1995-09-13 2019-07-19               6030\n",
       "AE 2006-10-02 2019-07-19               3228"
      ]
     },
     "execution_count": 24,
     "metadata": {},
     "output_type": "execute_result"
    }
   ],
   "source": [
    "continuous_contracts_daily_stats = calculate_datetime_statistics_for_kibot_data(\n",
    "    futures_continuous_contracts_daily_symbols,\n",
    "    \"Futures\",\n",
    "    imcodatyp.Frequency.Daily,\n",
    ")\n",
    "continuous_contracts_daily_stats.head(3)"
   ]
  },
  {
   "cell_type": "code",
   "execution_count": 25,
   "id": "b68c1b22",
   "metadata": {
    "ExecuteTime": {
     "end_time": "2022-02-21T15:30:41.856602Z",
     "start_time": "2022-02-21T15:30:41.847114Z"
    }
   },
   "outputs": [
    {
     "data": {
      "text/html": [
       "<div>\n",
       "<style scoped>\n",
       "    .dataframe tbody tr th:only-of-type {\n",
       "        vertical-align: middle;\n",
       "    }\n",
       "\n",
       "    .dataframe tbody tr th {\n",
       "        vertical-align: top;\n",
       "    }\n",
       "\n",
       "    .dataframe thead th {\n",
       "        text-align: right;\n",
       "    }\n",
       "</style>\n",
       "<table border=\"1\" class=\"dataframe\">\n",
       "  <thead>\n",
       "    <tr style=\"text-align: right;\">\n",
       "      <th></th>\n",
       "      <th>value</th>\n",
       "    </tr>\n",
       "  </thead>\n",
       "  <tbody>\n",
       "    <tr>\n",
       "      <th>median_start_date</th>\n",
       "      <td>2005-09-20 00:00:00</td>\n",
       "    </tr>\n",
       "    <tr>\n",
       "      <th>median_end_date</th>\n",
       "      <td>2019-07-19 00:00:00</td>\n",
       "    </tr>\n",
       "    <tr>\n",
       "      <th>min_start_date</th>\n",
       "      <td>1982-05-03 00:00:00</td>\n",
       "    </tr>\n",
       "    <tr>\n",
       "      <th>max_end_date</th>\n",
       "      <td>2019-07-19 00:00:00</td>\n",
       "    </tr>\n",
       "    <tr>\n",
       "      <th>median_data_points</th>\n",
       "      <td>3483.5</td>\n",
       "    </tr>\n",
       "  </tbody>\n",
       "</table>\n",
       "</div>"
      ],
      "text/plain": [
       "                                  value\n",
       "median_start_date   2005-09-20 00:00:00\n",
       "median_end_date     2019-07-19 00:00:00\n",
       "min_start_date      1982-05-03 00:00:00\n",
       "max_end_date        2019-07-19 00:00:00\n",
       "median_data_points               3483.5"
      ]
     },
     "execution_count": 25,
     "metadata": {},
     "output_type": "execute_result"
    }
   ],
   "source": [
    "general_stats_all_futures = calculate_general_datetime_stats(\n",
    "    continuous_contracts_daily_stats\n",
    ")\n",
    "general_stats_all_futures"
   ]
  },
  {
   "cell_type": "markdown",
   "id": "ccb30483",
   "metadata": {},
   "source": [
    "# Read raw data"
   ]
  },
  {
   "cell_type": "code",
   "execution_count": 26,
   "id": "9313dabc",
   "metadata": {
    "ExecuteTime": {
     "end_time": "2022-02-21T15:30:41.865329Z",
     "start_time": "2022-02-21T15:30:41.860287Z"
    }
   },
   "outputs": [],
   "source": [
    "s3fs = hs3.get_s3fs(\"am\")"
   ]
  },
  {
   "cell_type": "markdown",
   "id": "29a34aaa",
   "metadata": {},
   "source": [
    "## Example of raw data for Stocks"
   ]
  },
  {
   "cell_type": "code",
   "execution_count": 27,
   "id": "0c236fcd",
   "metadata": {
    "ExecuteTime": {
     "end_time": "2022-02-21T15:30:41.871315Z",
     "start_time": "2022-02-21T15:30:41.868533Z"
    }
   },
   "outputs": [],
   "source": [
    "file_path_stock = \"s3://alphamatic-data/data/kibot/all_stocks_1min/AAPL.csv.gz\""
   ]
  },
  {
   "cell_type": "code",
   "execution_count": 28,
   "id": "8c54b24b",
   "metadata": {
    "ExecuteTime": {
     "end_time": "2022-02-21T15:30:44.664867Z",
     "start_time": "2022-02-21T15:30:41.873143Z"
    }
   },
   "outputs": [
    {
     "data": {
      "text/html": [
       "<div>\n",
       "<style scoped>\n",
       "    .dataframe tbody tr th:only-of-type {\n",
       "        vertical-align: middle;\n",
       "    }\n",
       "\n",
       "    .dataframe tbody tr th {\n",
       "        vertical-align: top;\n",
       "    }\n",
       "\n",
       "    .dataframe thead th {\n",
       "        text-align: right;\n",
       "    }\n",
       "</style>\n",
       "<table border=\"1\" class=\"dataframe\">\n",
       "  <thead>\n",
       "    <tr style=\"text-align: right;\">\n",
       "      <th></th>\n",
       "      <th>09/29/2015</th>\n",
       "      <th>04:00</th>\n",
       "      <th>103.9</th>\n",
       "      <th>103.96</th>\n",
       "      <th>103.9.1</th>\n",
       "      <th>103.96.1</th>\n",
       "      <th>974</th>\n",
       "    </tr>\n",
       "  </thead>\n",
       "  <tbody>\n",
       "    <tr>\n",
       "      <th>0</th>\n",
       "      <td>09/29/2015</td>\n",
       "      <td>04:07</td>\n",
       "      <td>104.24</td>\n",
       "      <td>104.24</td>\n",
       "      <td>104.24</td>\n",
       "      <td>104.24</td>\n",
       "      <td>108</td>\n",
       "    </tr>\n",
       "    <tr>\n",
       "      <th>1</th>\n",
       "      <td>09/29/2015</td>\n",
       "      <td>04:13</td>\n",
       "      <td>104.29</td>\n",
       "      <td>104.29</td>\n",
       "      <td>104.29</td>\n",
       "      <td>104.29</td>\n",
       "      <td>216</td>\n",
       "    </tr>\n",
       "    <tr>\n",
       "      <th>2</th>\n",
       "      <td>09/29/2015</td>\n",
       "      <td>04:14</td>\n",
       "      <td>104.34</td>\n",
       "      <td>104.36</td>\n",
       "      <td>104.34</td>\n",
       "      <td>104.34</td>\n",
       "      <td>2272</td>\n",
       "    </tr>\n",
       "    <tr>\n",
       "      <th>3</th>\n",
       "      <td>09/29/2015</td>\n",
       "      <td>04:18</td>\n",
       "      <td>104.37</td>\n",
       "      <td>104.37</td>\n",
       "      <td>104.37</td>\n",
       "      <td>104.37</td>\n",
       "      <td>962</td>\n",
       "    </tr>\n",
       "    <tr>\n",
       "      <th>4</th>\n",
       "      <td>09/29/2015</td>\n",
       "      <td>04:19</td>\n",
       "      <td>104.38</td>\n",
       "      <td>104.41</td>\n",
       "      <td>104.38</td>\n",
       "      <td>104.41</td>\n",
       "      <td>649</td>\n",
       "    </tr>\n",
       "  </tbody>\n",
       "</table>\n",
       "</div>"
      ],
      "text/plain": [
       "   09/29/2015  04:00   103.9  103.96  103.9.1  103.96.1   974\n",
       "0  09/29/2015  04:07  104.24  104.24   104.24    104.24   108\n",
       "1  09/29/2015  04:13  104.29  104.29   104.29    104.29   216\n",
       "2  09/29/2015  04:14  104.34  104.36   104.34    104.34  2272\n",
       "3  09/29/2015  04:18  104.37  104.37   104.37    104.37   962\n",
       "4  09/29/2015  04:19  104.38  104.41   104.38    104.41   649"
      ]
     },
     "execution_count": 28,
     "metadata": {},
     "output_type": "execute_result"
    }
   ],
   "source": [
    "stream, kwargs = hs3.get_local_or_s3_stream(file_path_stock, s3fs=s3fs)\n",
    "aapl_raw = hpandas.read_csv_to_df(stream, **kwargs)\n",
    "aapl_raw.head()"
   ]
  },
  {
   "cell_type": "markdown",
   "id": "926fa151",
   "metadata": {},
   "source": [
    "## Example of raw data for Futures"
   ]
  },
  {
   "cell_type": "code",
   "execution_count": 29,
   "id": "dc3859fc",
   "metadata": {
    "ExecuteTime": {
     "end_time": "2022-02-21T15:30:44.669321Z",
     "start_time": "2022-02-21T15:30:44.666805Z"
    }
   },
   "outputs": [],
   "source": [
    "file_path_futures = \"s3://alphamatic-data/data/kibot/all_futures_continuous_contracts_daily/AE.csv.gz\""
   ]
  },
  {
   "cell_type": "code",
   "execution_count": 30,
   "id": "c822be01",
   "metadata": {
    "ExecuteTime": {
     "end_time": "2022-02-21T15:30:44.853303Z",
     "start_time": "2022-02-21T15:30:44.671355Z"
    }
   },
   "outputs": [
    {
     "data": {
      "text/html": [
       "<div>\n",
       "<style scoped>\n",
       "    .dataframe tbody tr th:only-of-type {\n",
       "        vertical-align: middle;\n",
       "    }\n",
       "\n",
       "    .dataframe tbody tr th {\n",
       "        vertical-align: top;\n",
       "    }\n",
       "\n",
       "    .dataframe thead th {\n",
       "        text-align: right;\n",
       "    }\n",
       "</style>\n",
       "<table border=\"1\" class=\"dataframe\">\n",
       "  <thead>\n",
       "    <tr style=\"text-align: right;\">\n",
       "      <th></th>\n",
       "      <th>10/02/2006</th>\n",
       "      <th>158.8</th>\n",
       "      <th>158.8.1</th>\n",
       "      <th>158.8.2</th>\n",
       "      <th>158.8.3</th>\n",
       "      <th>0</th>\n",
       "    </tr>\n",
       "  </thead>\n",
       "  <tbody>\n",
       "    <tr>\n",
       "      <th>0</th>\n",
       "      <td>10/03/2006</td>\n",
       "      <td>155.7</td>\n",
       "      <td>155.7</td>\n",
       "      <td>155.7</td>\n",
       "      <td>155.7</td>\n",
       "      <td>0</td>\n",
       "    </tr>\n",
       "    <tr>\n",
       "      <th>1</th>\n",
       "      <td>10/04/2006</td>\n",
       "      <td>157.0</td>\n",
       "      <td>157.0</td>\n",
       "      <td>157.0</td>\n",
       "      <td>157.0</td>\n",
       "      <td>0</td>\n",
       "    </tr>\n",
       "    <tr>\n",
       "      <th>2</th>\n",
       "      <td>10/05/2006</td>\n",
       "      <td>159.0</td>\n",
       "      <td>159.0</td>\n",
       "      <td>159.0</td>\n",
       "      <td>159.0</td>\n",
       "      <td>50</td>\n",
       "    </tr>\n",
       "    <tr>\n",
       "      <th>3</th>\n",
       "      <td>10/06/2006</td>\n",
       "      <td>160.2</td>\n",
       "      <td>160.2</td>\n",
       "      <td>160.2</td>\n",
       "      <td>160.2</td>\n",
       "      <td>0</td>\n",
       "    </tr>\n",
       "    <tr>\n",
       "      <th>4</th>\n",
       "      <td>10/09/2006</td>\n",
       "      <td>163.6</td>\n",
       "      <td>163.6</td>\n",
       "      <td>163.6</td>\n",
       "      <td>163.5</td>\n",
       "      <td>100</td>\n",
       "    </tr>\n",
       "  </tbody>\n",
       "</table>\n",
       "</div>"
      ],
      "text/plain": [
       "   10/02/2006  158.8  158.8.1  158.8.2  158.8.3    0\n",
       "0  10/03/2006  155.7    155.7    155.7    155.7    0\n",
       "1  10/04/2006  157.0    157.0    157.0    157.0    0\n",
       "2  10/05/2006  159.0    159.0    159.0    159.0   50\n",
       "3  10/06/2006  160.2    160.2    160.2    160.2    0\n",
       "4  10/09/2006  163.6    163.6    163.6    163.5  100"
      ]
     },
     "execution_count": 30,
     "metadata": {},
     "output_type": "execute_result"
    }
   ],
   "source": [
    "stream, kwargs = hs3.get_local_or_s3_stream(file_path_futures, s3fs=s3fs)\n",
    "ae_futures_raw = hpandas.read_csv_to_df(stream, **kwargs)\n",
    "ae_futures_raw.head()"
   ]
  },
  {
   "cell_type": "markdown",
   "id": "36807867",
   "metadata": {},
   "source": [
    "## Difference of raw Parquet stock data vs. CSV stock data"
   ]
  },
  {
   "cell_type": "markdown",
   "id": "70413737",
   "metadata": {},
   "source": [
    "### CSV example of QCOM"
   ]
  },
  {
   "cell_type": "code",
   "execution_count": 31,
   "id": "a6f9379b",
   "metadata": {
    "ExecuteTime": {
     "end_time": "2022-02-21T15:30:44.858565Z",
     "start_time": "2022-02-21T15:30:44.855305Z"
    }
   },
   "outputs": [],
   "source": [
    "file_path_stock = \"s3://alphamatic-data/data/kibot/all_stocks_1min/QCOM.csv.gz\""
   ]
  },
  {
   "cell_type": "code",
   "execution_count": 32,
   "id": "8238dd5d",
   "metadata": {
    "ExecuteTime": {
     "end_time": "2022-02-21T15:30:45.005399Z",
     "start_time": "2022-02-21T15:30:44.860225Z"
    },
    "run_control": {
     "marked": false
    }
   },
   "outputs": [
    {
     "data": {
      "text/html": [
       "<div>\n",
       "<style scoped>\n",
       "    .dataframe tbody tr th:only-of-type {\n",
       "        vertical-align: middle;\n",
       "    }\n",
       "\n",
       "    .dataframe tbody tr th {\n",
       "        vertical-align: top;\n",
       "    }\n",
       "\n",
       "    .dataframe thead th {\n",
       "        text-align: right;\n",
       "    }\n",
       "</style>\n",
       "<table border=\"1\" class=\"dataframe\">\n",
       "  <thead>\n",
       "    <tr style=\"text-align: right;\">\n",
       "      <th></th>\n",
       "      <th>10/02/2006</th>\n",
       "      <th>158.8</th>\n",
       "      <th>158.8.1</th>\n",
       "      <th>158.8.2</th>\n",
       "      <th>158.8.3</th>\n",
       "      <th>0</th>\n",
       "    </tr>\n",
       "  </thead>\n",
       "  <tbody>\n",
       "    <tr>\n",
       "      <th>0</th>\n",
       "      <td>10/03/2006</td>\n",
       "      <td>155.7</td>\n",
       "      <td>155.7</td>\n",
       "      <td>155.7</td>\n",
       "      <td>155.7</td>\n",
       "      <td>0</td>\n",
       "    </tr>\n",
       "    <tr>\n",
       "      <th>1</th>\n",
       "      <td>10/04/2006</td>\n",
       "      <td>157.0</td>\n",
       "      <td>157.0</td>\n",
       "      <td>157.0</td>\n",
       "      <td>157.0</td>\n",
       "      <td>0</td>\n",
       "    </tr>\n",
       "    <tr>\n",
       "      <th>2</th>\n",
       "      <td>10/05/2006</td>\n",
       "      <td>159.0</td>\n",
       "      <td>159.0</td>\n",
       "      <td>159.0</td>\n",
       "      <td>159.0</td>\n",
       "      <td>50</td>\n",
       "    </tr>\n",
       "    <tr>\n",
       "      <th>3</th>\n",
       "      <td>10/06/2006</td>\n",
       "      <td>160.2</td>\n",
       "      <td>160.2</td>\n",
       "      <td>160.2</td>\n",
       "      <td>160.2</td>\n",
       "      <td>0</td>\n",
       "    </tr>\n",
       "    <tr>\n",
       "      <th>4</th>\n",
       "      <td>10/09/2006</td>\n",
       "      <td>163.6</td>\n",
       "      <td>163.6</td>\n",
       "      <td>163.6</td>\n",
       "      <td>163.5</td>\n",
       "      <td>100</td>\n",
       "    </tr>\n",
       "  </tbody>\n",
       "</table>\n",
       "</div>"
      ],
      "text/plain": [
       "   10/02/2006  158.8  158.8.1  158.8.2  158.8.3    0\n",
       "0  10/03/2006  155.7    155.7    155.7    155.7    0\n",
       "1  10/04/2006  157.0    157.0    157.0    157.0    0\n",
       "2  10/05/2006  159.0    159.0    159.0    159.0   50\n",
       "3  10/06/2006  160.2    160.2    160.2    160.2    0\n",
       "4  10/09/2006  163.6    163.6    163.6    163.5  100"
      ]
     },
     "execution_count": 32,
     "metadata": {},
     "output_type": "execute_result"
    }
   ],
   "source": [
    "stream, kwargs = hs3.get_local_or_s3_stream(file_path_futures, s3fs=s3fs)\n",
    "csv_qcom = hpandas.read_csv_to_df(stream, **kwargs)\n",
    "csv_qcom.head()"
   ]
  },
  {
   "cell_type": "markdown",
   "id": "436d68e3",
   "metadata": {},
   "source": [
    "### PQ example of QCOM"
   ]
  },
  {
   "cell_type": "code",
   "execution_count": 33,
   "id": "7406b5e1",
   "metadata": {
    "ExecuteTime": {
     "end_time": "2022-02-21T15:30:45.009722Z",
     "start_time": "2022-02-21T15:30:45.007107Z"
    }
   },
   "outputs": [],
   "source": [
    "file_path_stock_parquet = (\n",
    "    \"s3://alphamatic-data/data/kibot/pq/all_stocks_1min/QCOM.pq\"\n",
    ")"
   ]
  },
  {
   "cell_type": "code",
   "execution_count": 34,
   "id": "75373ee5",
   "metadata": {
    "ExecuteTime": {
     "end_time": "2022-02-21T15:30:46.066593Z",
     "start_time": "2022-02-21T15:30:45.012007Z"
    }
   },
   "outputs": [
    {
     "data": {
      "text/html": [
       "<div>\n",
       "<style scoped>\n",
       "    .dataframe tbody tr th:only-of-type {\n",
       "        vertical-align: middle;\n",
       "    }\n",
       "\n",
       "    .dataframe tbody tr th {\n",
       "        vertical-align: top;\n",
       "    }\n",
       "\n",
       "    .dataframe thead th {\n",
       "        text-align: right;\n",
       "    }\n",
       "</style>\n",
       "<table border=\"1\" class=\"dataframe\">\n",
       "  <thead>\n",
       "    <tr style=\"text-align: right;\">\n",
       "      <th></th>\n",
       "      <th>open</th>\n",
       "      <th>high</th>\n",
       "      <th>low</th>\n",
       "      <th>close</th>\n",
       "      <th>vol</th>\n",
       "    </tr>\n",
       "    <tr>\n",
       "      <th>datetime</th>\n",
       "      <th></th>\n",
       "      <th></th>\n",
       "      <th></th>\n",
       "      <th></th>\n",
       "      <th></th>\n",
       "    </tr>\n",
       "  </thead>\n",
       "  <tbody>\n",
       "    <tr>\n",
       "      <th>2015-09-29 08:05:00</th>\n",
       "      <td>44.32</td>\n",
       "      <td>44.32</td>\n",
       "      <td>44.32</td>\n",
       "      <td>44.32</td>\n",
       "      <td>357</td>\n",
       "    </tr>\n",
       "    <tr>\n",
       "      <th>2015-09-29 08:09:00</th>\n",
       "      <td>44.32</td>\n",
       "      <td>44.32</td>\n",
       "      <td>44.32</td>\n",
       "      <td>44.32</td>\n",
       "      <td>119</td>\n",
       "    </tr>\n",
       "    <tr>\n",
       "      <th>2015-09-29 08:11:00</th>\n",
       "      <td>44.32</td>\n",
       "      <td>44.32</td>\n",
       "      <td>44.32</td>\n",
       "      <td>44.32</td>\n",
       "      <td>595</td>\n",
       "    </tr>\n",
       "    <tr>\n",
       "      <th>2015-09-29 08:13:00</th>\n",
       "      <td>44.32</td>\n",
       "      <td>44.32</td>\n",
       "      <td>44.32</td>\n",
       "      <td>44.32</td>\n",
       "      <td>119</td>\n",
       "    </tr>\n",
       "    <tr>\n",
       "      <th>2015-09-29 08:18:00</th>\n",
       "      <td>44.32</td>\n",
       "      <td>44.32</td>\n",
       "      <td>44.32</td>\n",
       "      <td>44.32</td>\n",
       "      <td>476</td>\n",
       "    </tr>\n",
       "  </tbody>\n",
       "</table>\n",
       "</div>"
      ],
      "text/plain": [
       "                      open   high    low  close  vol\n",
       "datetime                                            \n",
       "2015-09-29 08:05:00  44.32  44.32  44.32  44.32  357\n",
       "2015-09-29 08:09:00  44.32  44.32  44.32  44.32  119\n",
       "2015-09-29 08:11:00  44.32  44.32  44.32  44.32  595\n",
       "2015-09-29 08:13:00  44.32  44.32  44.32  44.32  119\n",
       "2015-09-29 08:18:00  44.32  44.32  44.32  44.32  476"
      ]
     },
     "execution_count": 34,
     "metadata": {},
     "output_type": "execute_result"
    }
   ],
   "source": [
    "stream, kwargs = hs3.get_local_or_s3_stream(file_path_stock_parquet, s3fs=s3fs)\n",
    "pq_qcom = hpandas.read_parquet_to_df(stream, **kwargs)\n",
    "pq_qcom.head()"
   ]
  },
  {
   "cell_type": "markdown",
   "id": "2983f658",
   "metadata": {},
   "source": [
    "# Summary"
   ]
  },
  {
   "cell_type": "markdown",
   "id": "b4fc9525",
   "metadata": {},
   "source": [
    "- The Kibot universe that is extracted using general methods is not consistent with the actual downloaded data and most likely is being parsed from the website at some period of time.\n",
    "   - In order to observe the actual universe that is available in the database one need to run get_symbols_for_dataset().\n",
    "- Data is presented in OHLCV format.\n",
    "- The necessary param 'exchange' from read_data() is not specific at all: it can be any value.\n",
    "- The stocks data in the database is huge and consists of >11.000 tickers.\n",
    "   - However, 17.62 % of files in stock universe consists no data.\n",
    "- The average available time period for stocks is ~5 years, up to 2020.\n",
    "- The futures availability in database is much less: 252 continuous contracts for both daily and minutely frequencies.\n",
    "- The OHLCV data inside raw files is identical by values and time range.\n",
    "- PQ data is already transformed to the desired format (unlike CSV data):\n",
    "   - The heading is in place.\n",
    "   - Datetime is converted to index and presented in a complete data-time format."
   ]
  }
 ],
 "metadata": {
  "kernelspec": {
   "display_name": "Python 3 (ipykernel)",
   "language": "python",
   "name": "python3"
  },
  "language_info": {
   "codemirror_mode": {
    "name": "ipython",
    "version": 3
   },
   "file_extension": ".py",
   "mimetype": "text/x-python",
   "name": "python",
   "nbconvert_exporter": "python",
   "pygments_lexer": "ipython3",
   "version": "3.8.10"
  },
  "toc": {
   "base_numbering": 1,
   "nav_menu": {},
   "number_sections": true,
   "sideBar": true,
   "skip_h1_title": false,
   "title_cell": "Table of Contents",
   "title_sidebar": "Contents",
   "toc_cell": false,
   "toc_position": {},
   "toc_section_display": true,
   "toc_window_display": false
  }
 },
 "nbformat": 4,
 "nbformat_minor": 5
}
