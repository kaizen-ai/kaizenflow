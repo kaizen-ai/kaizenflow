{
 "cells": [
  {
   "cell_type": "markdown",
   "id": "5dd805c0",
   "metadata": {},
   "source": [
    "# Description\n",
    "\n",
    "This notebook loads CCXT universes.\n",
    "\n",
    "See versions descriptions in `im_v2/ccxt/universe/trade/universe_versions.txt`."
   ]
  },
  {
   "cell_type": "markdown",
   "id": "65fc0d47",
   "metadata": {},
   "source": [
    "# Imports"
   ]
  },
  {
   "cell_type": "code",
   "execution_count": 1,
   "id": "df5dac4c",
   "metadata": {
    "ExecuteTime": {
     "end_time": "2023-11-09T20:34:54.212492Z",
     "start_time": "2023-11-09T20:34:52.456525Z"
    }
   },
   "outputs": [],
   "source": [
    "import logging\n",
    "from typing import Dict\n",
    "\n",
    "import helpers.hdbg as hdbg\n",
    "import helpers.henv as henv\n",
    "import helpers.hprint as hprint\n",
    "import im_v2.common.universe as ivcu"
   ]
  },
  {
   "cell_type": "code",
   "execution_count": 2,
   "id": "4af84a8d",
   "metadata": {
    "ExecuteTime": {
     "end_time": "2023-11-09T20:34:57.166613Z",
     "start_time": "2023-11-09T20:34:54.217812Z"
    }
   },
   "outputs": [
    {
     "name": "stdout",
     "output_type": "stream",
     "text": [
      "\u001b[0m\u001b[36mINFO\u001b[0m: > cmd='/venv/lib/python3.9/site-packages/ipykernel_launcher.py -f /home/.local/share/jupyter/runtime/kernel-840e7d8d-a2f3-47c3-bbf0-65b2233f7f03.json'\n",
      "WARNING: Running in Jupyter\n",
      "INFO  # Git\n",
      "  branch_name='CmTask6143_Remove_CRV_USDT_from_the_current_trade_universe'\n",
      "  hash='29d0b0e71'\n",
      "  # Last commits:\n",
      "    * 29d0b0e71 Shayan   S3 Bucket Terraform module defined (#6144)                        (39 minutes ago) Thu Nov 9 19:56:10 2023  (HEAD -> CmTask6143_Remove_CRV_USDT_from_the_current_trade_universe, origin/master, origin/HEAD, master)\n",
      "    * 8815136c3 Toma Jordania CmTask6134 change default bidask lookback to 60s (#6138)          (   2 hours ago) Thu Nov 9 18:21:30 2023           \n",
      "    * a6dfa8afe Nina Lee CmTask6129_Display_configs_in_the_system_reconciliation_notebooks (#6135) (   3 hours ago) Thu Nov 9 17:47:48 2023           \n",
      "# Machine info\n",
      "  system=Linux\n",
      "  node name=454231a02c56\n",
      "  release=5.15.0-1047-aws\n",
      "  version=#52~20.04.1-Ubuntu SMP Thu Sep 21 10:05:54 UTC 2023\n",
      "  machine=x86_64\n",
      "  processor=x86_64\n",
      "  cpu count=8\n",
      "  cpu freq=scpufreq(current=2499.9959999999996, min=0.0, max=0.0)\n",
      "  memory=svmem(total=33280286720, available=8903245824, percent=73.2, used=23889104896, free=1702400000, active=1632940032, inactive=28107153408, buffers=378392576, cached=7310389248, shared=4124672, slab=1297571840)\n",
      "  disk usage=sdiskusage(total=156052275200, used=51736248320, free=104299249664, percent=33.2)\n",
      "# Packages\n",
      "  python: 3.9.5\n",
      "  cvxopt: 1.3.2\n",
      "  cvxpy: 1.3.2\n",
      "  gluonnlp: ?\n",
      "  gluonts: ?\n",
      "  joblib: 1.3.2\n",
      "  mxnet: ?\n",
      "  numpy: 1.20.3\n",
      "  pandas: 1.5.1\n",
      "  pyarrow: 10.0.0\n",
      "  scipy: 1.10.1\n",
      "  seaborn: 0.12.2\n",
      "  sklearn: 1.3.0\n",
      "  statsmodels: 0.14.0\n"
     ]
    }
   ],
   "source": [
    "hdbg.init_logger(verbosity=logging.INFO)\n",
    "\n",
    "_LOG = logging.getLogger(__name__)\n",
    "\n",
    "_LOG.info(\"%s\", henv.get_system_signature()[0])\n",
    "\n",
    "hprint.config_notebook()"
   ]
  },
  {
   "cell_type": "markdown",
   "id": "8f57431c",
   "metadata": {},
   "source": [
    "# Show all the universe versions for the vendor"
   ]
  },
  {
   "cell_type": "code",
   "execution_count": 3,
   "id": "c4095ae1",
   "metadata": {
    "ExecuteTime": {
     "end_time": "2023-11-09T20:34:57.318197Z",
     "start_time": "2023-11-09T20:34:57.169512Z"
    }
   },
   "outputs": [
    {
     "data": {
      "text/plain": [
       "['v1', 'v2', 'v3', 'v4', 'v5', 'v6', 'v7', 'v7.1', 'v7.2', 'v7.3', 'v7.4']"
      ]
     },
     "execution_count": 3,
     "metadata": {},
     "output_type": "execute_result"
    }
   ],
   "source": [
    "mode = \"trade\"\n",
    "vendor = \"CCXT\"\n",
    "ivcu.universe.get_universe_versions(vendor, mode)"
   ]
  },
  {
   "cell_type": "markdown",
   "id": "61347237",
   "metadata": {},
   "source": [
    "# Load universes"
   ]
  },
  {
   "cell_type": "code",
   "execution_count": 4,
   "id": "dc762b6d",
   "metadata": {
    "ExecuteTime": {
     "end_time": "2023-11-09T20:34:57.329246Z",
     "start_time": "2023-11-09T20:34:57.322684Z"
    }
   },
   "outputs": [],
   "source": [
    "def load_universe(version: str) -> Dict[ivcu.full_symbol.FullSymbol, int]:\n",
    "    \"\"\"\n",
    "    Load universe for CCXT.\n",
    "\n",
    "    :return: full symbol -> asset id mappings\n",
    "    \"\"\"\n",
    "    vendor = \"CCXT\"\n",
    "    mode = \"trade\"\n",
    "    version = version\n",
    "    # Get universe.\n",
    "    universe = ivcu.universe.get_vendor_universe(\n",
    "        vendor, mode, version=version, as_full_symbol=True\n",
    "    )\n",
    "    universe_mapping = ivcu.universe_utils.build_numerical_to_string_id_mapping(\n",
    "        universe\n",
    "    )\n",
    "    # Swap asset ids and full symbols to get `{full_symbol: asset_id}` mapping.\n",
    "    universe_mapping = dict(\n",
    "        (full_symbol, asset_id)\n",
    "        for asset_id, full_symbol in universe_mapping.items()\n",
    "    )\n",
    "    # Sort for readability.\n",
    "    universe_mapping = dict(sorted(universe_mapping.items()))\n",
    "    return universe_mapping"
   ]
  },
  {
   "cell_type": "markdown",
   "id": "871fe37d",
   "metadata": {},
   "source": [
    "## v7"
   ]
  },
  {
   "cell_type": "code",
   "execution_count": 5,
   "id": "fb046194",
   "metadata": {
    "ExecuteTime": {
     "end_time": "2023-11-09T20:34:57.341441Z",
     "start_time": "2023-11-09T20:34:57.332861Z"
    },
    "scrolled": true
   },
   "outputs": [
    {
     "data": {
      "text/plain": [
       "{'binance::APE_USDT': 6051632686,\n",
       " 'binance::AVAX_USDT': 8717633868,\n",
       " 'binance::AXS_USDT': 2540896331,\n",
       " 'binance::BAKE_USDT': 1528092593,\n",
       " 'binance::BNB_USDT': 8968126878,\n",
       " 'binance::BTC_BUSD': 1182743717,\n",
       " 'binance::BTC_USDT': 1467591036,\n",
       " 'binance::CRV_USDT': 2476706208,\n",
       " 'binance::CTK_USDT': 5115052901,\n",
       " 'binance::DOGE_USDT': 3065029174,\n",
       " 'binance::DOT_USDT': 1891737434,\n",
       " 'binance::DYDX_USDT': 3401245610,\n",
       " 'binance::ETH_BUSD': 4939988068,\n",
       " 'binance::ETH_USDT': 1464553467,\n",
       " 'binance::FTM_USDT': 1966583502,\n",
       " 'binance::GMT_USDT': 1030828978,\n",
       " 'binance::LINK_USDT': 2601760471,\n",
       " 'binance::MATIC_USDT': 2683705052,\n",
       " 'binance::NEAR_USDT': 9872743573,\n",
       " 'binance::OGN_USDT': 2484635488,\n",
       " 'binance::RUNE_USDT': 2099673105,\n",
       " 'binance::SAND_USDT': 4516629366,\n",
       " 'binance::SOL_USDT': 2237530510,\n",
       " 'binance::STORJ_USDT': 2425308589,\n",
       " 'binance::UNFI_USDT': 1776791608,\n",
       " 'binance::WAVES_USDT': 2384892553,\n",
       " 'binance::XRP_USDT': 5118394986}"
      ]
     },
     "execution_count": 5,
     "metadata": {},
     "output_type": "execute_result"
    }
   ],
   "source": [
    "universe_version = \"v7\"\n",
    "universe_mapping = load_universe(universe_version)\n",
    "universe_mapping"
   ]
  },
  {
   "cell_type": "code",
   "execution_count": 6,
   "id": "e81c4cc8",
   "metadata": {
    "ExecuteTime": {
     "end_time": "2023-11-09T20:34:57.352296Z",
     "start_time": "2023-11-09T20:34:57.346770Z"
    }
   },
   "outputs": [
    {
     "data": {
      "text/plain": [
       "[6051632686,\n",
       " 8717633868,\n",
       " 2540896331,\n",
       " 1528092593,\n",
       " 8968126878,\n",
       " 1182743717,\n",
       " 1467591036,\n",
       " 2476706208,\n",
       " 5115052901,\n",
       " 3065029174,\n",
       " 1891737434,\n",
       " 3401245610,\n",
       " 4939988068,\n",
       " 1464553467,\n",
       " 1966583502,\n",
       " 1030828978,\n",
       " 2601760471,\n",
       " 2683705052,\n",
       " 9872743573,\n",
       " 2484635488,\n",
       " 2099673105,\n",
       " 4516629366,\n",
       " 2237530510,\n",
       " 2425308589,\n",
       " 1776791608,\n",
       " 2384892553,\n",
       " 5118394986]"
      ]
     },
     "execution_count": 6,
     "metadata": {},
     "output_type": "execute_result"
    }
   ],
   "source": [
    "# Universe as asset ids.\n",
    "asset_ids = list(universe_mapping.values())\n",
    "asset_ids"
   ]
  },
  {
   "cell_type": "code",
   "execution_count": 7,
   "id": "366bda33",
   "metadata": {
    "ExecuteTime": {
     "end_time": "2023-11-09T20:34:57.360250Z",
     "start_time": "2023-11-09T20:34:57.354792Z"
    }
   },
   "outputs": [
    {
     "data": {
      "text/plain": [
       "['binance::APE_USDT',\n",
       " 'binance::AVAX_USDT',\n",
       " 'binance::AXS_USDT',\n",
       " 'binance::BAKE_USDT',\n",
       " 'binance::BNB_USDT',\n",
       " 'binance::BTC_BUSD',\n",
       " 'binance::BTC_USDT',\n",
       " 'binance::CRV_USDT',\n",
       " 'binance::CTK_USDT',\n",
       " 'binance::DOGE_USDT',\n",
       " 'binance::DOT_USDT',\n",
       " 'binance::DYDX_USDT',\n",
       " 'binance::ETH_BUSD',\n",
       " 'binance::ETH_USDT',\n",
       " 'binance::FTM_USDT',\n",
       " 'binance::GMT_USDT',\n",
       " 'binance::LINK_USDT',\n",
       " 'binance::MATIC_USDT',\n",
       " 'binance::NEAR_USDT',\n",
       " 'binance::OGN_USDT',\n",
       " 'binance::RUNE_USDT',\n",
       " 'binance::SAND_USDT',\n",
       " 'binance::SOL_USDT',\n",
       " 'binance::STORJ_USDT',\n",
       " 'binance::UNFI_USDT',\n",
       " 'binance::WAVES_USDT',\n",
       " 'binance::XRP_USDT']"
      ]
     },
     "execution_count": 7,
     "metadata": {},
     "output_type": "execute_result"
    }
   ],
   "source": [
    "# Universe as Full symbols.\n",
    "full_symbols = list(universe_mapping.keys())\n",
    "full_symbols"
   ]
  },
  {
   "cell_type": "markdown",
   "id": "b6d80089",
   "metadata": {},
   "source": [
    "## v7.1"
   ]
  },
  {
   "cell_type": "code",
   "execution_count": 8,
   "id": "2a943c75",
   "metadata": {
    "ExecuteTime": {
     "end_time": "2023-11-09T20:34:57.372623Z",
     "start_time": "2023-11-09T20:34:57.363156Z"
    },
    "scrolled": true
   },
   "outputs": [
    {
     "data": {
      "text/plain": [
       "{'binance::APE_USDT': 6051632686,\n",
       " 'binance::AVAX_USDT': 8717633868,\n",
       " 'binance::AXS_USDT': 2540896331,\n",
       " 'binance::BAKE_USDT': 1528092593,\n",
       " 'binance::BNB_USDT': 8968126878,\n",
       " 'binance::BTC_USDT': 1467591036,\n",
       " 'binance::CRV_USDT': 2476706208,\n",
       " 'binance::CTK_USDT': 5115052901,\n",
       " 'binance::DOGE_USDT': 3065029174,\n",
       " 'binance::DOT_USDT': 1891737434,\n",
       " 'binance::DYDX_USDT': 3401245610,\n",
       " 'binance::ETH_USDT': 1464553467,\n",
       " 'binance::FTM_USDT': 1966583502,\n",
       " 'binance::GMT_USDT': 1030828978,\n",
       " 'binance::LINK_USDT': 2601760471,\n",
       " 'binance::MATIC_USDT': 2683705052,\n",
       " 'binance::NEAR_USDT': 9872743573,\n",
       " 'binance::OGN_USDT': 2484635488,\n",
       " 'binance::RUNE_USDT': 2099673105,\n",
       " 'binance::SAND_USDT': 4516629366,\n",
       " 'binance::SOL_USDT': 2237530510,\n",
       " 'binance::STORJ_USDT': 2425308589,\n",
       " 'binance::UNFI_USDT': 1776791608,\n",
       " 'binance::WAVES_USDT': 2384892553,\n",
       " 'binance::XRP_USDT': 5118394986}"
      ]
     },
     "execution_count": 8,
     "metadata": {},
     "output_type": "execute_result"
    }
   ],
   "source": [
    "universe_version = \"v7.1\"\n",
    "universe_mapping = load_universe(universe_version)\n",
    "universe_mapping"
   ]
  },
  {
   "cell_type": "code",
   "execution_count": 9,
   "id": "6d4c80d0",
   "metadata": {
    "ExecuteTime": {
     "end_time": "2023-11-09T20:34:57.382342Z",
     "start_time": "2023-11-09T20:34:57.377131Z"
    }
   },
   "outputs": [
    {
     "data": {
      "text/plain": [
       "[6051632686,\n",
       " 8717633868,\n",
       " 2540896331,\n",
       " 1528092593,\n",
       " 8968126878,\n",
       " 1467591036,\n",
       " 2476706208,\n",
       " 5115052901,\n",
       " 3065029174,\n",
       " 1891737434,\n",
       " 3401245610,\n",
       " 1464553467,\n",
       " 1966583502,\n",
       " 1030828978,\n",
       " 2601760471,\n",
       " 2683705052,\n",
       " 9872743573,\n",
       " 2484635488,\n",
       " 2099673105,\n",
       " 4516629366,\n",
       " 2237530510,\n",
       " 2425308589,\n",
       " 1776791608,\n",
       " 2384892553,\n",
       " 5118394986]"
      ]
     },
     "execution_count": 9,
     "metadata": {},
     "output_type": "execute_result"
    }
   ],
   "source": [
    "# Universe as asset ids.\n",
    "asset_ids = list(universe_mapping.values())\n",
    "asset_ids"
   ]
  },
  {
   "cell_type": "code",
   "execution_count": 10,
   "id": "ab90097f",
   "metadata": {
    "ExecuteTime": {
     "end_time": "2023-11-09T20:34:57.390978Z",
     "start_time": "2023-11-09T20:34:57.384713Z"
    }
   },
   "outputs": [
    {
     "data": {
      "text/plain": [
       "['binance::APE_USDT',\n",
       " 'binance::AVAX_USDT',\n",
       " 'binance::AXS_USDT',\n",
       " 'binance::BAKE_USDT',\n",
       " 'binance::BNB_USDT',\n",
       " 'binance::BTC_USDT',\n",
       " 'binance::CRV_USDT',\n",
       " 'binance::CTK_USDT',\n",
       " 'binance::DOGE_USDT',\n",
       " 'binance::DOT_USDT',\n",
       " 'binance::DYDX_USDT',\n",
       " 'binance::ETH_USDT',\n",
       " 'binance::FTM_USDT',\n",
       " 'binance::GMT_USDT',\n",
       " 'binance::LINK_USDT',\n",
       " 'binance::MATIC_USDT',\n",
       " 'binance::NEAR_USDT',\n",
       " 'binance::OGN_USDT',\n",
       " 'binance::RUNE_USDT',\n",
       " 'binance::SAND_USDT',\n",
       " 'binance::SOL_USDT',\n",
       " 'binance::STORJ_USDT',\n",
       " 'binance::UNFI_USDT',\n",
       " 'binance::WAVES_USDT',\n",
       " 'binance::XRP_USDT']"
      ]
     },
     "execution_count": 10,
     "metadata": {},
     "output_type": "execute_result"
    }
   ],
   "source": [
    "# Universe as Full symbols.\n",
    "full_symbols = list(universe_mapping.keys())\n",
    "full_symbols"
   ]
  },
  {
   "cell_type": "markdown",
   "id": "c75d866a",
   "metadata": {},
   "source": [
    "## v7.2"
   ]
  },
  {
   "cell_type": "code",
   "execution_count": 11,
   "id": "3d3cea30",
   "metadata": {
    "ExecuteTime": {
     "end_time": "2023-11-09T20:34:57.402858Z",
     "start_time": "2023-11-09T20:34:57.393148Z"
    },
    "scrolled": false
   },
   "outputs": [
    {
     "data": {
      "text/plain": [
       "{'binance::APE_USDT': 6051632686,\n",
       " 'binance::AVAX_USDT': 8717633868,\n",
       " 'binance::AXS_USDT': 2540896331,\n",
       " 'binance::BNB_USDT': 8968126878,\n",
       " 'binance::BTC_BUSD': 1182743717,\n",
       " 'binance::BTC_USDT': 1467591036,\n",
       " 'binance::DOGE_USDT': 3065029174,\n",
       " 'binance::DOT_USDT': 1891737434,\n",
       " 'binance::ETH_BUSD': 4939988068,\n",
       " 'binance::ETH_USDT': 1464553467,\n",
       " 'binance::FTM_USDT': 1966583502,\n",
       " 'binance::GMT_USDT': 1030828978,\n",
       " 'binance::LINK_USDT': 2601760471,\n",
       " 'binance::MATIC_USDT': 2683705052,\n",
       " 'binance::NEAR_USDT': 9872743573,\n",
       " 'binance::OGN_USDT': 2484635488,\n",
       " 'binance::RUNE_USDT': 2099673105,\n",
       " 'binance::SAND_USDT': 4516629366,\n",
       " 'binance::SOL_USDT': 2237530510,\n",
       " 'binance::STORJ_USDT': 2425308589,\n",
       " 'binance::UNFI_USDT': 1776791608,\n",
       " 'binance::WAVES_USDT': 2384892553,\n",
       " 'binance::XRP_USDT': 5118394986}"
      ]
     },
     "execution_count": 11,
     "metadata": {},
     "output_type": "execute_result"
    }
   ],
   "source": [
    "universe_version = \"v7.2\"\n",
    "universe_mapping = load_universe(universe_version)\n",
    "universe_mapping"
   ]
  },
  {
   "cell_type": "code",
   "execution_count": 12,
   "id": "5371ca75",
   "metadata": {
    "ExecuteTime": {
     "end_time": "2023-11-09T20:34:57.419405Z",
     "start_time": "2023-11-09T20:34:57.408723Z"
    }
   },
   "outputs": [
    {
     "data": {
      "text/plain": [
       "[6051632686,\n",
       " 8717633868,\n",
       " 2540896331,\n",
       " 8968126878,\n",
       " 1182743717,\n",
       " 1467591036,\n",
       " 3065029174,\n",
       " 1891737434,\n",
       " 4939988068,\n",
       " 1464553467,\n",
       " 1966583502,\n",
       " 1030828978,\n",
       " 2601760471,\n",
       " 2683705052,\n",
       " 9872743573,\n",
       " 2484635488,\n",
       " 2099673105,\n",
       " 4516629366,\n",
       " 2237530510,\n",
       " 2425308589,\n",
       " 1776791608,\n",
       " 2384892553,\n",
       " 5118394986]"
      ]
     },
     "execution_count": 12,
     "metadata": {},
     "output_type": "execute_result"
    }
   ],
   "source": [
    "# Universe as asset ids.\n",
    "asset_ids = list(universe_mapping.values())\n",
    "asset_ids"
   ]
  },
  {
   "cell_type": "code",
   "execution_count": 13,
   "id": "b45fccf3",
   "metadata": {
    "ExecuteTime": {
     "end_time": "2023-11-09T20:34:57.434000Z",
     "start_time": "2023-11-09T20:34:57.425674Z"
    }
   },
   "outputs": [
    {
     "data": {
      "text/plain": [
       "['binance::APE_USDT',\n",
       " 'binance::AVAX_USDT',\n",
       " 'binance::AXS_USDT',\n",
       " 'binance::BNB_USDT',\n",
       " 'binance::BTC_BUSD',\n",
       " 'binance::BTC_USDT',\n",
       " 'binance::DOGE_USDT',\n",
       " 'binance::DOT_USDT',\n",
       " 'binance::ETH_BUSD',\n",
       " 'binance::ETH_USDT',\n",
       " 'binance::FTM_USDT',\n",
       " 'binance::GMT_USDT',\n",
       " 'binance::LINK_USDT',\n",
       " 'binance::MATIC_USDT',\n",
       " 'binance::NEAR_USDT',\n",
       " 'binance::OGN_USDT',\n",
       " 'binance::RUNE_USDT',\n",
       " 'binance::SAND_USDT',\n",
       " 'binance::SOL_USDT',\n",
       " 'binance::STORJ_USDT',\n",
       " 'binance::UNFI_USDT',\n",
       " 'binance::WAVES_USDT',\n",
       " 'binance::XRP_USDT']"
      ]
     },
     "execution_count": 13,
     "metadata": {},
     "output_type": "execute_result"
    }
   ],
   "source": [
    "# Universe as Full symbols.\n",
    "full_symbols = list(universe_mapping.keys())\n",
    "full_symbols"
   ]
  },
  {
   "cell_type": "markdown",
   "id": "42ee0ea3",
   "metadata": {},
   "source": [
    "## v7.3"
   ]
  },
  {
   "cell_type": "code",
   "execution_count": 14,
   "id": "4026e796",
   "metadata": {
    "ExecuteTime": {
     "end_time": "2023-11-09T20:34:57.446406Z",
     "start_time": "2023-11-09T20:34:57.439244Z"
    },
    "scrolled": false
   },
   "outputs": [
    {
     "data": {
      "text/plain": [
       "{'binance::APE_USDT': 6051632686,\n",
       " 'binance::AVAX_USDT': 8717633868,\n",
       " 'binance::AXS_USDT': 2540896331,\n",
       " 'binance::BNB_USDT': 8968126878,\n",
       " 'binance::BTC_USDT': 1467591036,\n",
       " 'binance::DOGE_USDT': 3065029174,\n",
       " 'binance::DOT_USDT': 1891737434,\n",
       " 'binance::ETH_USDT': 1464553467,\n",
       " 'binance::FTM_USDT': 1966583502,\n",
       " 'binance::GMT_USDT': 1030828978,\n",
       " 'binance::LINK_USDT': 2601760471,\n",
       " 'binance::MATIC_USDT': 2683705052,\n",
       " 'binance::NEAR_USDT': 9872743573,\n",
       " 'binance::OGN_USDT': 2484635488,\n",
       " 'binance::RUNE_USDT': 2099673105,\n",
       " 'binance::SAND_USDT': 4516629366,\n",
       " 'binance::SOL_USDT': 2237530510,\n",
       " 'binance::STORJ_USDT': 2425308589,\n",
       " 'binance::UNFI_USDT': 1776791608,\n",
       " 'binance::WAVES_USDT': 2384892553,\n",
       " 'binance::XRP_USDT': 5118394986}"
      ]
     },
     "execution_count": 14,
     "metadata": {},
     "output_type": "execute_result"
    }
   ],
   "source": [
    "universe_version = \"v7.3\"\n",
    "universe_mapping = load_universe(universe_version)\n",
    "universe_mapping"
   ]
  },
  {
   "cell_type": "code",
   "execution_count": 15,
   "id": "e9176cba",
   "metadata": {
    "ExecuteTime": {
     "end_time": "2023-11-09T20:34:57.455716Z",
     "start_time": "2023-11-09T20:34:57.450257Z"
    }
   },
   "outputs": [
    {
     "data": {
      "text/plain": [
       "[6051632686,\n",
       " 8717633868,\n",
       " 2540896331,\n",
       " 8968126878,\n",
       " 1467591036,\n",
       " 3065029174,\n",
       " 1891737434,\n",
       " 1464553467,\n",
       " 1966583502,\n",
       " 1030828978,\n",
       " 2601760471,\n",
       " 2683705052,\n",
       " 9872743573,\n",
       " 2484635488,\n",
       " 2099673105,\n",
       " 4516629366,\n",
       " 2237530510,\n",
       " 2425308589,\n",
       " 1776791608,\n",
       " 2384892553,\n",
       " 5118394986]"
      ]
     },
     "execution_count": 15,
     "metadata": {},
     "output_type": "execute_result"
    }
   ],
   "source": [
    "# Universe as asset ids.\n",
    "asset_ids = list(universe_mapping.values())\n",
    "asset_ids"
   ]
  },
  {
   "cell_type": "code",
   "execution_count": 16,
   "id": "e3890fa0",
   "metadata": {
    "ExecuteTime": {
     "end_time": "2023-11-09T20:34:57.471397Z",
     "start_time": "2023-11-09T20:34:57.462438Z"
    }
   },
   "outputs": [
    {
     "data": {
      "text/plain": [
       "['binance::APE_USDT',\n",
       " 'binance::AVAX_USDT',\n",
       " 'binance::AXS_USDT',\n",
       " 'binance::BNB_USDT',\n",
       " 'binance::BTC_USDT',\n",
       " 'binance::DOGE_USDT',\n",
       " 'binance::DOT_USDT',\n",
       " 'binance::ETH_USDT',\n",
       " 'binance::FTM_USDT',\n",
       " 'binance::GMT_USDT',\n",
       " 'binance::LINK_USDT',\n",
       " 'binance::MATIC_USDT',\n",
       " 'binance::NEAR_USDT',\n",
       " 'binance::OGN_USDT',\n",
       " 'binance::RUNE_USDT',\n",
       " 'binance::SAND_USDT',\n",
       " 'binance::SOL_USDT',\n",
       " 'binance::STORJ_USDT',\n",
       " 'binance::UNFI_USDT',\n",
       " 'binance::WAVES_USDT',\n",
       " 'binance::XRP_USDT']"
      ]
     },
     "execution_count": 16,
     "metadata": {},
     "output_type": "execute_result"
    }
   ],
   "source": [
    "# Universe as Full symbols.\n",
    "full_symbols = list(universe_mapping.keys())\n",
    "full_symbols"
   ]
  },
  {
   "cell_type": "markdown",
   "id": "fe3a65b5",
   "metadata": {},
   "source": [
    "## v7.4"
   ]
  },
  {
   "cell_type": "code",
   "execution_count": 17,
   "id": "c7ed5c48",
   "metadata": {
    "ExecuteTime": {
     "end_time": "2023-11-09T20:34:57.493217Z",
     "start_time": "2023-11-09T20:34:57.476283Z"
    }
   },
   "outputs": [
    {
     "data": {
      "text/plain": [
       "{'binance::APE_USDT': 6051632686,\n",
       " 'binance::AVAX_USDT': 8717633868,\n",
       " 'binance::AXS_USDT': 2540896331,\n",
       " 'binance::BAKE_USDT': 1528092593,\n",
       " 'binance::BNB_USDT': 8968126878,\n",
       " 'binance::BTC_USDT': 1467591036,\n",
       " 'binance::CTK_USDT': 5115052901,\n",
       " 'binance::DOGE_USDT': 3065029174,\n",
       " 'binance::DOT_USDT': 1891737434,\n",
       " 'binance::DYDX_USDT': 3401245610,\n",
       " 'binance::ETH_USDT': 1464553467,\n",
       " 'binance::FTM_USDT': 1966583502,\n",
       " 'binance::GMT_USDT': 1030828978,\n",
       " 'binance::LINK_USDT': 2601760471,\n",
       " 'binance::MATIC_USDT': 2683705052,\n",
       " 'binance::NEAR_USDT': 9872743573,\n",
       " 'binance::OGN_USDT': 2484635488,\n",
       " 'binance::RUNE_USDT': 2099673105,\n",
       " 'binance::SAND_USDT': 4516629366,\n",
       " 'binance::SOL_USDT': 2237530510,\n",
       " 'binance::STORJ_USDT': 2425308589,\n",
       " 'binance::UNFI_USDT': 1776791608,\n",
       " 'binance::WAVES_USDT': 2384892553,\n",
       " 'binance::XRP_USDT': 5118394986}"
      ]
     },
     "execution_count": 17,
     "metadata": {},
     "output_type": "execute_result"
    }
   ],
   "source": [
    "universe_version = \"v7.4\"\n",
    "universe_mapping = load_universe(universe_version)\n",
    "universe_mapping"
   ]
  },
  {
   "cell_type": "code",
   "execution_count": 18,
   "id": "f5a06328",
   "metadata": {
    "ExecuteTime": {
     "end_time": "2023-11-09T20:34:57.506697Z",
     "start_time": "2023-11-09T20:34:57.499143Z"
    }
   },
   "outputs": [
    {
     "data": {
      "text/plain": [
       "[6051632686,\n",
       " 8717633868,\n",
       " 2540896331,\n",
       " 1528092593,\n",
       " 8968126878,\n",
       " 1467591036,\n",
       " 5115052901,\n",
       " 3065029174,\n",
       " 1891737434,\n",
       " 3401245610,\n",
       " 1464553467,\n",
       " 1966583502,\n",
       " 1030828978,\n",
       " 2601760471,\n",
       " 2683705052,\n",
       " 9872743573,\n",
       " 2484635488,\n",
       " 2099673105,\n",
       " 4516629366,\n",
       " 2237530510,\n",
       " 2425308589,\n",
       " 1776791608,\n",
       " 2384892553,\n",
       " 5118394986]"
      ]
     },
     "execution_count": 18,
     "metadata": {},
     "output_type": "execute_result"
    }
   ],
   "source": [
    "# Universe as asset ids.\n",
    "asset_ids = list(universe_mapping.values())\n",
    "asset_ids"
   ]
  },
  {
   "cell_type": "code",
   "execution_count": 19,
   "id": "7d3c7e27",
   "metadata": {
    "ExecuteTime": {
     "end_time": "2023-11-09T20:34:57.518467Z",
     "start_time": "2023-11-09T20:34:57.512185Z"
    }
   },
   "outputs": [
    {
     "data": {
      "text/plain": [
       "['binance::APE_USDT',\n",
       " 'binance::AVAX_USDT',\n",
       " 'binance::AXS_USDT',\n",
       " 'binance::BAKE_USDT',\n",
       " 'binance::BNB_USDT',\n",
       " 'binance::BTC_USDT',\n",
       " 'binance::CTK_USDT',\n",
       " 'binance::DOGE_USDT',\n",
       " 'binance::DOT_USDT',\n",
       " 'binance::DYDX_USDT',\n",
       " 'binance::ETH_USDT',\n",
       " 'binance::FTM_USDT',\n",
       " 'binance::GMT_USDT',\n",
       " 'binance::LINK_USDT',\n",
       " 'binance::MATIC_USDT',\n",
       " 'binance::NEAR_USDT',\n",
       " 'binance::OGN_USDT',\n",
       " 'binance::RUNE_USDT',\n",
       " 'binance::SAND_USDT',\n",
       " 'binance::SOL_USDT',\n",
       " 'binance::STORJ_USDT',\n",
       " 'binance::UNFI_USDT',\n",
       " 'binance::WAVES_USDT',\n",
       " 'binance::XRP_USDT']"
      ]
     },
     "execution_count": 19,
     "metadata": {},
     "output_type": "execute_result"
    }
   ],
   "source": [
    "# Universe as Full symbols.\n",
    "full_symbols = list(universe_mapping.keys())\n",
    "full_symbols"
   ]
  },
  {
   "cell_type": "code",
   "execution_count": null,
   "id": "57615e00",
   "metadata": {},
   "outputs": [],
   "source": []
  }
 ],
 "metadata": {
  "kernelspec": {
   "display_name": "Python 3 (ipykernel)",
   "language": "python",
   "name": "python3"
  },
  "language_info": {
   "codemirror_mode": {
    "name": "ipython",
    "version": 3
   },
   "file_extension": ".py",
   "mimetype": "text/x-python",
   "name": "python",
   "nbconvert_exporter": "python",
   "pygments_lexer": "ipython3",
   "version": "3.9.5"
  },
  "toc": {
   "base_numbering": 1,
   "nav_menu": {},
   "number_sections": true,
   "sideBar": true,
   "skip_h1_title": false,
   "title_cell": "Table of Contents",
   "title_sidebar": "Contents",
   "toc_cell": false,
   "toc_position": {},
   "toc_section_display": true,
   "toc_window_display": false
  }
 },
 "nbformat": 4,
 "nbformat_minor": 5
}
