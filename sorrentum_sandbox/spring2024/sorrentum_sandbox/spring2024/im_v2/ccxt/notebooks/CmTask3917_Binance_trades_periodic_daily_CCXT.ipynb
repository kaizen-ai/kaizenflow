{
 "cells": [
  {
   "cell_type": "markdown",
   "id": "eaf05ec1",
   "metadata": {},
   "source": [
    "# Imports"
   ]
  },
  {
   "cell_type": "code",
   "execution_count": 3,
   "id": "0d80c28c",
   "metadata": {
    "ExecuteTime": {
     "end_time": "2023-03-07T19:43:05.956596Z",
     "start_time": "2023-03-07T19:43:02.880845Z"
    }
   },
   "outputs": [
    {
     "name": "stderr",
     "output_type": "stream",
     "text": [
      "/app/core/signal_processing/decorrelation.py:12: TqdmExperimentalWarning: Using `tqdm.autonotebook.tqdm` in notebook mode. Use `tqdm.tqdm` instead to force console mode (e.g. in jupyter console)\n",
      "  from tqdm.autonotebook import tqdm\n"
     ]
    }
   ],
   "source": [
    "import logging\n",
    "\n",
    "import pandas as pd\n",
    "\n",
    "import helpers.hdatetime as hdateti\n",
    "import helpers.hdbg as hdbg\n",
    "import helpers.henv as henv\n",
    "import helpers.hpandas as hpandas\n",
    "import helpers.hprint as hprint\n",
    "import im_v2.ccxt.data.extract.extractor as imvcdexex\n",
    "import im_v2.common.data.client.im_raw_data_client as imvcdcimrdc\n",
    "import im_v2.common.data.qa.dataset_validator as imvcdqdava\n",
    "import im_v2.common.data.qa.qa_check as imvcdqqach\n",
    "import im_v2.common.universe as ivcu\n",
    "import im_v2.common.universe.universe as imvcounun\n",
    "\n",
    "%load_ext autoreload\n",
    "%autoreload 2"
   ]
  },
  {
   "cell_type": "code",
   "execution_count": 4,
   "id": "aecd42b2",
   "metadata": {
    "ExecuteTime": {
     "end_time": "2023-03-07T19:43:06.225022Z",
     "start_time": "2023-03-07T19:43:05.959487Z"
    }
   },
   "outputs": [
    {
     "name": "stdout",
     "output_type": "stream",
     "text": [
      "\u001b[0m\u001b[36mINFO\u001b[0m: > cmd='/venv/lib/python3.8/site-packages/ipykernel_launcher.py -f /home/.local/share/jupyter/runtime/kernel-05def9c6-f47b-482e-b9a2-57c11576b7d1.json'\n",
      "WARNING: Running in Jupyter\n",
      "\u001b[31m-----------------------------------------------------------------------------\n",
      "This code is not in sync with the container:\n",
      "code_version='1.4.3' != container_version='1.4.0'\n",
      "-----------------------------------------------------------------------------\n",
      "You need to:\n",
      "- merge origin/master into your branch with `invoke git_merge_master`\n",
      "- pull the latest container with `invoke docker_pull`\u001b[0m\n",
      "INFO  # Git\n",
      "  branch_name='CmTask3917_Onboard_CCXT_Binance_historical_trades'\n",
      "  hash='e1f5a9f33'\n",
      "  # Last commits:\n",
      "    * e1f5a9f33 vlady    CmTask3917: minor changes by comments                             (51 minutes ago) Tue Mar 7 18:51:59 2023  (HEAD -> CmTask3917_Onboard_CCXT_Binance_historical_trades)\n",
      "    * 470cf5c60 vlady    CmTask3917: fix slow test                                         (   3 hours ago) Tue Mar 7 16:18:33 2023  (origin/CmTask3917_Onboard_CCXT_Binance_historical_trades)\n",
      "    * 9bbc878f4 vlady    CmTask3917: fix fast trades test                                  (   3 hours ago) Tue Mar 7 16:13:45 2023           \n",
      "# Machine info\n",
      "  system=Linux\n",
      "  node name=ec2bd97b0048\n",
      "  release=5.15.0-1028-aws\n",
      "  version=#32~20.04.1-Ubuntu SMP Mon Jan 9 18:02:08 UTC 2023\n",
      "  machine=x86_64\n",
      "  processor=x86_64\n",
      "  cpu count=8\n",
      "  cpu freq=scpufreq(current=2499.998, min=0.0, max=0.0)\n",
      "  memory=svmem(total=33292881920, available=27790012416, percent=16.5, used=5038440448, free=9706770432, active=6323765248, inactive=11678986240, buffers=1074855936, cached=17472815104, shared=2068480, slab=5269970944)\n",
      "  disk usage=sdiskusage(total=156052275200, used=37577539584, free=118457958400, percent=24.1)\n",
      "# Packages\n",
      "  python: 3.8.10\n",
      "  cvxopt: 1.3.0\n",
      "  cvxpy: 1.2.2\n",
      "  gluonnlp: ?\n",
      "  gluonts: 0.6.7\n",
      "  joblib: 1.2.0\n",
      "  mxnet: 1.9.1\n",
      "  numpy: 1.23.4\n",
      "  pandas: 1.5.1\n",
      "  pyarrow: 10.0.0\n",
      "  scipy: 1.9.3\n",
      "  seaborn: 0.12.1\n",
      "  sklearn: 1.1.3\n",
      "  statsmodels: 0.13.5\n"
     ]
    }
   ],
   "source": [
    "hdbg.init_logger(verbosity=logging.INFO)\n",
    "\n",
    "_LOG = logging.getLogger(__name__)\n",
    "\n",
    "_LOG.info(\"%s\", henv.get_system_signature()[0])\n",
    "\n",
    "hprint.config_notebook()"
   ]
  },
  {
   "cell_type": "markdown",
   "id": "72e5b740",
   "metadata": {},
   "source": [
    "# Bulk download script"
   ]
  },
  {
   "cell_type": "markdown",
   "id": "948ea7e7",
   "metadata": {
    "heading_collapsed": true
   },
   "source": [
    "## Airflow first test run"
   ]
  },
  {
   "cell_type": "code",
   "execution_count": 13,
   "id": "f83ab9f4",
   "metadata": {
    "ExecuteTime": {
     "end_time": "2023-03-07T15:14:23.183025Z",
     "start_time": "2023-03-07T15:13:10.051379Z"
    },
    "hidden": true
   },
   "outputs": [
    {
     "name": "stdout",
     "output_type": "stream",
     "text": [
      "\u001b[0m\u001b[36mINFO\u001b[0m: > cmd='/app/im_v2/common/data/extract/download_bulk.py --download_mode periodic_daily --downloading_entity airflow --action_tag downloaded_1min --vendor ccxt --start_timestamp 2023-02-05T00:00:00+00:00 --end_timestamp 2023-02-05T00:10:00+00:00 --exchange_id binance --universe v7.3 --aws_profile ck --data_type trades --data_format parquet --contract_type futures --s3_path s3://cryptokaizen-data-test/'\n",
      "report_memory_usage=False report_cpu_usage=False\n",
      "\u001b[36mINFO\u001b[0m: Saving log to file '/app/im_v2/common/data/extract/download_bulk.py.log'\n",
      "10:13:13 - \u001b[36mINFO \u001b[0m dataset_schema_utils.py _get_dataset_schema_file_path:39 Loading dataset schema file: /app/data_schema/dataset_schema_versions/dataset_schema_v3.json\n",
      "10:13:13 - \u001b[36mINFO \u001b[0m dataset_schema_utils.py get_dataset_schema:74          Loaded dataset schema version v3\n",
      "10:13:23 - \u001b[36mINFO \u001b[0m extract_utils.py download_historical_data:733          Saving the dataset into s3://cryptokaizen-data-test/v3/periodic_daily/airflow/downloaded_1min/parquet/trades/futures/v7_3/ccxt/binance/v1_0_0\n",
      "10:13:31 - \u001b[36mINFO \u001b[0m extract_utils.py download_historical_data:733          Saving the dataset into s3://cryptokaizen-data-test/v3/periodic_daily/airflow/downloaded_1min/parquet/trades/futures/v7_3/ccxt/binance/v1_0_0\n",
      "10:13:34 - \u001b[36mINFO \u001b[0m extract_utils.py download_historical_data:733          Saving the dataset into s3://cryptokaizen-data-test/v3/periodic_daily/airflow/downloaded_1min/parquet/trades/futures/v7_3/ccxt/binance/v1_0_0\n",
      "10:13:35 - \u001b[36mINFO \u001b[0m extract_utils.py download_historical_data:733          Saving the dataset into s3://cryptokaizen-data-test/v3/periodic_daily/airflow/downloaded_1min/parquet/trades/futures/v7_3/ccxt/binance/v1_0_0\n",
      "10:13:38 - \u001b[36mINFO \u001b[0m extract_utils.py download_historical_data:733          Saving the dataset into s3://cryptokaizen-data-test/v3/periodic_daily/airflow/downloaded_1min/parquet/trades/futures/v7_3/ccxt/binance/v1_0_0\n",
      "10:13:41 - \u001b[36mINFO \u001b[0m extract_utils.py download_historical_data:733          Saving the dataset into s3://cryptokaizen-data-test/v3/periodic_daily/airflow/downloaded_1min/parquet/trades/futures/v7_3/ccxt/binance/v1_0_0\n",
      "10:13:43 - \u001b[36mINFO \u001b[0m extract_utils.py download_historical_data:733          Saving the dataset into s3://cryptokaizen-data-test/v3/periodic_daily/airflow/downloaded_1min/parquet/trades/futures/v7_3/ccxt/binance/v1_0_0\n",
      "10:13:45 - \u001b[36mINFO \u001b[0m extract_utils.py download_historical_data:733          Saving the dataset into s3://cryptokaizen-data-test/v3/periodic_daily/airflow/downloaded_1min/parquet/trades/futures/v7_3/ccxt/binance/v1_0_0\n",
      "10:13:48 - \u001b[36mINFO \u001b[0m extract_utils.py download_historical_data:733          Saving the dataset into s3://cryptokaizen-data-test/v3/periodic_daily/airflow/downloaded_1min/parquet/trades/futures/v7_3/ccxt/binance/v1_0_0\n",
      "10:13:50 - \u001b[36mINFO \u001b[0m extract_utils.py download_historical_data:733          Saving the dataset into s3://cryptokaizen-data-test/v3/periodic_daily/airflow/downloaded_1min/parquet/trades/futures/v7_3/ccxt/binance/v1_0_0\n",
      "10:13:52 - \u001b[36mINFO \u001b[0m extract_utils.py download_historical_data:733          Saving the dataset into s3://cryptokaizen-data-test/v3/periodic_daily/airflow/downloaded_1min/parquet/trades/futures/v7_3/ccxt/binance/v1_0_0\n",
      "10:13:53 - \u001b[36mINFO \u001b[0m extract_utils.py download_historical_data:733          Saving the dataset into s3://cryptokaizen-data-test/v3/periodic_daily/airflow/downloaded_1min/parquet/trades/futures/v7_3/ccxt/binance/v1_0_0\n",
      "10:13:55 - \u001b[36mINFO \u001b[0m extract_utils.py download_historical_data:733          Saving the dataset into s3://cryptokaizen-data-test/v3/periodic_daily/airflow/downloaded_1min/parquet/trades/futures/v7_3/ccxt/binance/v1_0_0\n",
      "10:13:55 - \u001b[36mINFO \u001b[0m extract_utils.py download_historical_data:733          Saving the dataset into s3://cryptokaizen-data-test/v3/periodic_daily/airflow/downloaded_1min/parquet/trades/futures/v7_3/ccxt/binance/v1_0_0\n",
      "10:13:56 - \u001b[36mINFO \u001b[0m extract_utils.py download_historical_data:733          Saving the dataset into s3://cryptokaizen-data-test/v3/periodic_daily/airflow/downloaded_1min/parquet/trades/futures/v7_3/ccxt/binance/v1_0_0\n",
      "10:13:59 - \u001b[36mINFO \u001b[0m extract_utils.py download_historical_data:733          Saving the dataset into s3://cryptokaizen-data-test/v3/periodic_daily/airflow/downloaded_1min/parquet/trades/futures/v7_3/ccxt/binance/v1_0_0\n",
      "10:14:10 - \u001b[36mINFO \u001b[0m extract_utils.py download_historical_data:733          Saving the dataset into s3://cryptokaizen-data-test/v3/periodic_daily/airflow/downloaded_1min/parquet/trades/futures/v7_3/ccxt/binance/v1_0_0\n",
      "10:14:12 - \u001b[36mINFO \u001b[0m extract_utils.py download_historical_data:733          Saving the dataset into s3://cryptokaizen-data-test/v3/periodic_daily/airflow/downloaded_1min/parquet/trades/futures/v7_3/ccxt/binance/v1_0_0\n",
      "10:14:13 - \u001b[36mINFO \u001b[0m extract_utils.py download_historical_data:733          Saving the dataset into s3://cryptokaizen-data-test/v3/periodic_daily/airflow/downloaded_1min/parquet/trades/futures/v7_3/ccxt/binance/v1_0_0\n",
      "10:14:17 - \u001b[36mINFO \u001b[0m extract_utils.py download_historical_data:733          Saving the dataset into s3://cryptokaizen-data-test/v3/periodic_daily/airflow/downloaded_1min/parquet/trades/futures/v7_3/ccxt/binance/v1_0_0\n",
      "10:14:22 - \u001b[36mINFO \u001b[0m extract_utils.py download_historical_data:733          Saving the dataset into s3://cryptokaizen-data-test/v3/periodic_daily/airflow/downloaded_1min/parquet/trades/futures/v7_3/ccxt/binance/v1_0_0\n",
      "10:14:22 - \u001b[36mINFO \u001b[0m hcache.py clear_global_cache:292                       Before clear_global_cache: 'global mem' cache: path='/mnt/tmpfs/tmp.cache.mem', size=32.0 KB\n",
      "10:14:22 - \u001b[41mWARN \u001b[0m hcache.py clear_global_cache:293                       Resetting 'global mem' cache '/mnt/tmpfs/tmp.cache.mem'\n",
      "10:14:22 - \u001b[41mWARN \u001b[0m hcache.py clear_global_cache:303                       Destroying '/mnt/tmpfs/tmp.cache.mem' ...\n",
      "10:14:22 - \u001b[36mINFO \u001b[0m hcache.py clear_global_cache:319                       After clear_global_cache: 'global mem' cache: path='/mnt/tmpfs/tmp.cache.mem', size=nan\n"
     ]
    }
   ],
   "source": [
    "%%bash\n",
    "/app/im_v2/common/data/extract/download_bulk.py \\\n",
    "    --download_mode 'periodic_daily' \\\n",
    "    --downloading_entity 'airflow' \\\n",
    "    --action_tag 'downloaded_1min' \\\n",
    "    --vendor 'ccxt' \\\n",
    "    --start_timestamp '2023-02-05T00:00:00+00:00' \\\n",
    "    --end_timestamp '2023-02-05T00:10:00+00:00' \\\n",
    "    --exchange_id 'binance' \\\n",
    "    --universe 'v7.3' \\\n",
    "    --aws_profile 'ck' \\\n",
    "    --data_type 'trades' \\\n",
    "    --data_format 'parquet' \\\n",
    "    --contract_type 'futures' \\\n",
    "    --s3_path 's3://cryptokaizen-data-test/'"
   ]
  },
  {
   "cell_type": "code",
   "execution_count": 85,
   "id": "317771d4",
   "metadata": {
    "ExecuteTime": {
     "end_time": "2023-03-03T17:24:24.082971Z",
     "start_time": "2023-03-03T17:19:24.308098Z"
    },
    "hidden": true
   },
   "outputs": [
    {
     "name": "stdout",
     "output_type": "stream",
     "text": [
      "\u001b[0m\u001b[36mINFO\u001b[0m: > cmd='/app/im_v2/common/data/extract/download_bulk.py --download_mode bulk --downloading_entity manual --action_tag downloaded_1min --vendor ccxt --start_timestamp 2023-03-01T00:00:00+00:00 --end_timestamp 2023-03-01T01:00:00+00:00 --exchange_id binance --universe v7.3 --incremental --aws_profile ck --data_type trades --data_format parquet --contract_type futures --s3_path s3://cryptokaizen-data-test/'\n",
      "report_memory_usage=False report_cpu_usage=False\n",
      "\u001b[36mINFO\u001b[0m: Saving log to file '/app/im_v2/common/data/extract/download_bulk.py.log'\n",
      "12:19:28 - \u001b[36mINFO \u001b[0m dataset_schema_utils.py _get_dataset_schema_file_path:37 Loading dataset schema file: /app/data_schema/dataset_schema_versions/dataset_schema_v3.json\n",
      "12:19:28 - \u001b[36mINFO \u001b[0m dataset_schema_utils.py get_dataset_schema:72          Loaded dataset schema version v3\n",
      "12:20:26 - \u001b[36mINFO \u001b[0m extract_utils.py download_historical_data:717          Saving the dataset into s3://cryptokaizen-data-test/v3/bulk/manual/downloaded_1min/parquet/trades/futures/v7_3/ccxt/binance/v1_0_0\n",
      "12:21:42 - \u001b[36mINFO \u001b[0m extract_utils.py download_historical_data:717          Saving the dataset into s3://cryptokaizen-data-test/v3/bulk/manual/downloaded_1min/parquet/trades/futures/v7_3/ccxt/binance/v1_0_0\n",
      "12:21:51 - \u001b[36mINFO \u001b[0m extract_utils.py download_historical_data:717          Saving the dataset into s3://cryptokaizen-data-test/v3/bulk/manual/downloaded_1min/parquet/trades/futures/v7_3/ccxt/binance/v1_0_0\n",
      "12:21:54 - \u001b[36mINFO \u001b[0m extract_utils.py download_historical_data:717          Saving the dataset into s3://cryptokaizen-data-test/v3/bulk/manual/downloaded_1min/parquet/trades/futures/v7_3/ccxt/binance/v1_0_0\n",
      "12:22:02 - \u001b[36mINFO \u001b[0m extract_utils.py download_historical_data:717          Saving the dataset into s3://cryptokaizen-data-test/v3/bulk/manual/downloaded_1min/parquet/trades/futures/v7_3/ccxt/binance/v1_0_0\n",
      "12:22:12 - \u001b[36mINFO \u001b[0m extract_utils.py download_historical_data:717          Saving the dataset into s3://cryptokaizen-data-test/v3/bulk/manual/downloaded_1min/parquet/trades/futures/v7_3/ccxt/binance/v1_0_0\n",
      "12:22:21 - \u001b[36mINFO \u001b[0m extract_utils.py download_historical_data:717          Saving the dataset into s3://cryptokaizen-data-test/v3/bulk/manual/downloaded_1min/parquet/trades/futures/v7_3/ccxt/binance/v1_0_0\n",
      "12:22:27 - \u001b[36mINFO \u001b[0m extract_utils.py download_historical_data:717          Saving the dataset into s3://cryptokaizen-data-test/v3/bulk/manual/downloaded_1min/parquet/trades/futures/v7_3/ccxt/binance/v1_0_0\n",
      "12:22:43 - \u001b[36mINFO \u001b[0m extract_utils.py download_historical_data:717          Saving the dataset into s3://cryptokaizen-data-test/v3/bulk/manual/downloaded_1min/parquet/trades/futures/v7_3/ccxt/binance/v1_0_0\n",
      "12:22:50 - \u001b[36mINFO \u001b[0m extract_utils.py download_historical_data:717          Saving the dataset into s3://cryptokaizen-data-test/v3/bulk/manual/downloaded_1min/parquet/trades/futures/v7_3/ccxt/binance/v1_0_0\n",
      "12:22:56 - \u001b[36mINFO \u001b[0m extract_utils.py download_historical_data:717          Saving the dataset into s3://cryptokaizen-data-test/v3/bulk/manual/downloaded_1min/parquet/trades/futures/v7_3/ccxt/binance/v1_0_0\n",
      "12:23:04 - \u001b[36mINFO \u001b[0m extract_utils.py download_historical_data:717          Saving the dataset into s3://cryptokaizen-data-test/v3/bulk/manual/downloaded_1min/parquet/trades/futures/v7_3/ccxt/binance/v1_0_0\n",
      "12:23:13 - \u001b[36mINFO \u001b[0m extract_utils.py download_historical_data:717          Saving the dataset into s3://cryptokaizen-data-test/v3/bulk/manual/downloaded_1min/parquet/trades/futures/v7_3/ccxt/binance/v1_0_0\n",
      "12:23:14 - \u001b[36mINFO \u001b[0m extract_utils.py download_historical_data:717          Saving the dataset into s3://cryptokaizen-data-test/v3/bulk/manual/downloaded_1min/parquet/trades/futures/v7_3/ccxt/binance/v1_0_0\n",
      "12:23:20 - \u001b[36mINFO \u001b[0m extract_utils.py download_historical_data:717          Saving the dataset into s3://cryptokaizen-data-test/v3/bulk/manual/downloaded_1min/parquet/trades/futures/v7_3/ccxt/binance/v1_0_0\n",
      "12:23:31 - \u001b[36mINFO \u001b[0m extract_utils.py download_historical_data:717          Saving the dataset into s3://cryptokaizen-data-test/v3/bulk/manual/downloaded_1min/parquet/trades/futures/v7_3/ccxt/binance/v1_0_0\n",
      "12:23:43 - \u001b[36mINFO \u001b[0m extract_utils.py download_historical_data:717          Saving the dataset into s3://cryptokaizen-data-test/v3/bulk/manual/downloaded_1min/parquet/trades/futures/v7_3/ccxt/binance/v1_0_0\n",
      "12:23:52 - \u001b[36mINFO \u001b[0m extract_utils.py download_historical_data:717          Saving the dataset into s3://cryptokaizen-data-test/v3/bulk/manual/downloaded_1min/parquet/trades/futures/v7_3/ccxt/binance/v1_0_0\n",
      "12:23:54 - \u001b[36mINFO \u001b[0m extract_utils.py download_historical_data:717          Saving the dataset into s3://cryptokaizen-data-test/v3/bulk/manual/downloaded_1min/parquet/trades/futures/v7_3/ccxt/binance/v1_0_0\n",
      "12:24:02 - \u001b[36mINFO \u001b[0m extract_utils.py download_historical_data:717          Saving the dataset into s3://cryptokaizen-data-test/v3/bulk/manual/downloaded_1min/parquet/trades/futures/v7_3/ccxt/binance/v1_0_0\n",
      "12:24:23 - \u001b[36mINFO \u001b[0m extract_utils.py download_historical_data:717          Saving the dataset into s3://cryptokaizen-data-test/v3/bulk/manual/downloaded_1min/parquet/trades/futures/v7_3/ccxt/binance/v1_0_0\n",
      "12:24:23 - \u001b[36mINFO \u001b[0m hcache.py clear_global_cache:292                       Before clear_global_cache: 'global mem' cache: path='/mnt/tmpfs/tmp.cache.mem', size=32.0 KB\n",
      "12:24:23 - \u001b[41mWARN \u001b[0m hcache.py clear_global_cache:293                       Resetting 'global mem' cache '/mnt/tmpfs/tmp.cache.mem'\n",
      "12:24:23 - \u001b[41mWARN \u001b[0m hcache.py clear_global_cache:303                       Destroying '/mnt/tmpfs/tmp.cache.mem' ...\n",
      "12:24:23 - \u001b[36mINFO \u001b[0m hcache.py clear_global_cache:319                       After clear_global_cache: 'global mem' cache: path='/mnt/tmpfs/tmp.cache.mem', size=nan\n"
     ]
    }
   ],
   "source": [
    "%%bash\n",
    "/app/im_v2/common/data/extract/download_bulk.py \\\n",
    "    --download_mode 'bulk' \\\n",
    "    --downloading_entity 'manual' \\\n",
    "    --action_tag 'downloaded_1min' \\\n",
    "    --vendor 'ccxt' \\\n",
    "    --start_timestamp '2023-03-01T00:00:00+00:00' \\\n",
    "    --end_timestamp '2023-03-01T01:00:00+00:00' \\\n",
    "    --exchange_id 'binance' \\\n",
    "    --universe 'v7.3' \\\n",
    "    --incremental \\\n",
    "    --aws_profile 'ck' \\\n",
    "    --data_type 'trades' \\\n",
    "    --data_format 'parquet' \\\n",
    "    --contract_type 'futures' \\\n",
    "    --s3_path 's3://cryptokaizen-data-test/'"
   ]
  },
  {
   "cell_type": "markdown",
   "id": "df949fcb",
   "metadata": {},
   "source": [
    "## Manual QA - airflow download"
   ]
  },
  {
   "cell_type": "code",
   "execution_count": 8,
   "id": "472c1d11",
   "metadata": {
    "ExecuteTime": {
     "end_time": "2023-03-07T19:45:10.744803Z",
     "start_time": "2023-03-07T19:45:10.709794Z"
    }
   },
   "outputs": [
    {
     "name": "stdout",
     "output_type": "stream",
     "text": [
      "INFO  Loading dataset schema file: /app/data_schema/dataset_schema_versions/dataset_schema_v3.json\n",
      "INFO  Loaded dataset schema version v3\n"
     ]
    }
   ],
   "source": [
    "signature = \"periodic_daily.airflow.downloaded_1min.parquet.trades.futures.v7_3.ccxt.binance.v1_0_0\"\n",
    "reader = imvcdcimrdc.RawDataReader(signature, stage=\"test\")\n",
    "start_timestamp = pd.Timestamp(\"2023-03-07T18:00:00+00:00\")\n",
    "end_timestamp = pd.Timestamp(\"2023-03-07T19:00:00+00:00\")"
   ]
  },
  {
   "cell_type": "code",
   "execution_count": 9,
   "id": "87ac701f",
   "metadata": {
    "ExecuteTime": {
     "end_time": "2023-03-07T19:45:17.726882Z",
     "start_time": "2023-03-07T19:45:10.882960Z"
    }
   },
   "outputs": [
    {
     "name": "stdout",
     "output_type": "stream",
     "text": [
      "INFO  Loading dataset schema file: /app/data_schema/dataset_schema_versions/dataset_schema_v3.json\n",
      "INFO  Loaded dataset schema version v3\n"
     ]
    }
   ],
   "source": [
    "trades = reader.read_data(start_timestamp, end_timestamp)"
   ]
  },
  {
   "cell_type": "code",
   "execution_count": 10,
   "id": "d7006bd4",
   "metadata": {
    "ExecuteTime": {
     "end_time": "2023-03-07T19:45:17.782343Z",
     "start_time": "2023-03-07T19:45:17.729729Z"
    }
   },
   "outputs": [
    {
     "data": {
      "text/html": [
       "<div>\n",
       "<style scoped>\n",
       "    .dataframe tbody tr th:only-of-type {\n",
       "        vertical-align: middle;\n",
       "    }\n",
       "\n",
       "    .dataframe tbody tr th {\n",
       "        vertical-align: top;\n",
       "    }\n",
       "\n",
       "    .dataframe thead th {\n",
       "        text-align: right;\n",
       "    }\n",
       "</style>\n",
       "<table border=\"1\" class=\"dataframe\">\n",
       "  <thead>\n",
       "    <tr style=\"text-align: right;\">\n",
       "      <th></th>\n",
       "      <th>timestamp</th>\n",
       "      <th>symbol</th>\n",
       "      <th>side</th>\n",
       "      <th>price</th>\n",
       "      <th>amount</th>\n",
       "      <th>exchange_id</th>\n",
       "      <th>knowledge_timestamp</th>\n",
       "      <th>currency_pair</th>\n",
       "      <th>year</th>\n",
       "      <th>month</th>\n",
       "      <th>day</th>\n",
       "    </tr>\n",
       "    <tr>\n",
       "      <th>timestamp</th>\n",
       "      <th></th>\n",
       "      <th></th>\n",
       "      <th></th>\n",
       "      <th></th>\n",
       "      <th></th>\n",
       "      <th></th>\n",
       "      <th></th>\n",
       "      <th></th>\n",
       "      <th></th>\n",
       "      <th></th>\n",
       "      <th></th>\n",
       "    </tr>\n",
       "  </thead>\n",
       "  <tbody>\n",
       "    <tr>\n",
       "      <th>2023-03-07 18:51:00.519000+00:00</th>\n",
       "      <td>1678215060519</td>\n",
       "      <td>APE/USDT</td>\n",
       "      <td>sell</td>\n",
       "      <td>4.628</td>\n",
       "      <td>22.0</td>\n",
       "      <td>binance</td>\n",
       "      <td>2023-03-07 18:55:54.121942+00:00</td>\n",
       "      <td>APE_USDT</td>\n",
       "      <td>2023</td>\n",
       "      <td>3</td>\n",
       "      <td>7</td>\n",
       "    </tr>\n",
       "    <tr>\n",
       "      <th>2023-03-07 18:51:01.612000+00:00</th>\n",
       "      <td>1678215061612</td>\n",
       "      <td>APE/USDT</td>\n",
       "      <td>buy</td>\n",
       "      <td>4.629</td>\n",
       "      <td>6.0</td>\n",
       "      <td>binance</td>\n",
       "      <td>2023-03-07 18:55:54.121942+00:00</td>\n",
       "      <td>APE_USDT</td>\n",
       "      <td>2023</td>\n",
       "      <td>3</td>\n",
       "      <td>7</td>\n",
       "    </tr>\n",
       "    <tr>\n",
       "      <th>2023-03-07 18:51:01.836000+00:00</th>\n",
       "      <td>1678215061836</td>\n",
       "      <td>APE/USDT</td>\n",
       "      <td>sell</td>\n",
       "      <td>4.628</td>\n",
       "      <td>200.0</td>\n",
       "      <td>binance</td>\n",
       "      <td>2023-03-07 18:55:54.121942+00:00</td>\n",
       "      <td>APE_USDT</td>\n",
       "      <td>2023</td>\n",
       "      <td>3</td>\n",
       "      <td>7</td>\n",
       "    </tr>\n",
       "    <tr>\n",
       "      <th>2023-03-07 18:51:02.575000+00:00</th>\n",
       "      <td>1678215062575</td>\n",
       "      <td>APE/USDT</td>\n",
       "      <td>buy</td>\n",
       "      <td>4.629</td>\n",
       "      <td>25.0</td>\n",
       "      <td>binance</td>\n",
       "      <td>2023-03-07 18:55:54.121942+00:00</td>\n",
       "      <td>APE_USDT</td>\n",
       "      <td>2023</td>\n",
       "      <td>3</td>\n",
       "      <td>7</td>\n",
       "    </tr>\n",
       "    <tr>\n",
       "      <th>2023-03-07 18:51:02.850000+00:00</th>\n",
       "      <td>1678215062850</td>\n",
       "      <td>APE/USDT</td>\n",
       "      <td>buy</td>\n",
       "      <td>4.629</td>\n",
       "      <td>24.0</td>\n",
       "      <td>binance</td>\n",
       "      <td>2023-03-07 18:55:54.121942+00:00</td>\n",
       "      <td>APE_USDT</td>\n",
       "      <td>2023</td>\n",
       "      <td>3</td>\n",
       "      <td>7</td>\n",
       "    </tr>\n",
       "  </tbody>\n",
       "</table>\n",
       "</div>"
      ],
      "text/plain": [
       "                                      timestamp    symbol  side  price  amount exchange_id              knowledge_timestamp currency_pair  year  month  day\n",
       "timestamp                                                                                                                                                  \n",
       "2023-03-07 18:51:00.519000+00:00  1678215060519  APE/USDT  sell  4.628    22.0     binance 2023-03-07 18:55:54.121942+00:00      APE_USDT  2023      3    7\n",
       "2023-03-07 18:51:01.612000+00:00  1678215061612  APE/USDT   buy  4.629     6.0     binance 2023-03-07 18:55:54.121942+00:00      APE_USDT  2023      3    7\n",
       "2023-03-07 18:51:01.836000+00:00  1678215061836  APE/USDT  sell  4.628   200.0     binance 2023-03-07 18:55:54.121942+00:00      APE_USDT  2023      3    7\n",
       "2023-03-07 18:51:02.575000+00:00  1678215062575  APE/USDT   buy  4.629    25.0     binance 2023-03-07 18:55:54.121942+00:00      APE_USDT  2023      3    7\n",
       "2023-03-07 18:51:02.850000+00:00  1678215062850  APE/USDT   buy  4.629    24.0     binance 2023-03-07 18:55:54.121942+00:00      APE_USDT  2023      3    7"
      ]
     },
     "execution_count": 10,
     "metadata": {},
     "output_type": "execute_result"
    }
   ],
   "source": [
    "trades.head()"
   ]
  },
  {
   "cell_type": "code",
   "execution_count": 15,
   "id": "846e23e4",
   "metadata": {
    "ExecuteTime": {
     "end_time": "2023-03-07T19:47:44.576456Z",
     "start_time": "2023-03-07T19:47:44.456405Z"
    }
   },
   "outputs": [],
   "source": [
    "trades_pairs = trades.symbol.str.replace(\"/\", \"_\").unique()"
   ]
  },
  {
   "cell_type": "code",
   "execution_count": 12,
   "id": "3477d644",
   "metadata": {
    "ExecuteTime": {
     "end_time": "2023-03-07T19:46:47.279619Z",
     "start_time": "2023-03-07T19:46:47.248249Z"
    }
   },
   "outputs": [],
   "source": [
    "vendor = \"CCXT\"\n",
    "mode = \"download\"\n",
    "exchange_id = \"binance\"\n",
    "version = \"v7.3\"\n",
    "universe = imvcounun.get_vendor_universe(vendor, mode, version=version)"
   ]
  },
  {
   "cell_type": "code",
   "execution_count": 16,
   "id": "f0ca9cd4",
   "metadata": {
    "ExecuteTime": {
     "end_time": "2023-03-07T19:49:02.073770Z",
     "start_time": "2023-03-07T19:49:02.039948Z"
    }
   },
   "outputs": [
    {
     "data": {
      "text/plain": [
       "False"
      ]
     },
     "execution_count": 16,
     "metadata": {},
     "output_type": "execute_result"
    }
   ],
   "source": [
    "~pd.Series(trades_pairs).isin(universe[exchange_id]).any()"
   ]
  },
  {
   "cell_type": "markdown",
   "id": "783789a5",
   "metadata": {},
   "source": [
    "## Manual QA - bulk download"
   ]
  },
  {
   "cell_type": "code",
   "execution_count": 98,
   "id": "8f957de6",
   "metadata": {
    "ExecuteTime": {
     "end_time": "2023-03-03T17:38:14.244270Z",
     "start_time": "2023-03-03T17:38:14.208323Z"
    }
   },
   "outputs": [
    {
     "name": "stdout",
     "output_type": "stream",
     "text": [
      "INFO  Loading dataset schema file: /app/data_schema/dataset_schema_versions/dataset_schema_v3.json\n",
      "INFO  Loaded dataset schema version v3\n"
     ]
    }
   ],
   "source": [
    "signature = (\n",
    "    \"bulk.manual.downloaded_1min.parquet.trades.futures.v7_3.ccxt.binance.v1_0_0\"\n",
    ")\n",
    "reader = imvcdcimrdc.RawDataReader(signature, stage=\"test\")\n",
    "start_timestamp = pd.Timestamp(\"2021-03-01T00:00:00+00:00\")\n",
    "end_timestamp = pd.Timestamp(\"2021-03-01T01:00:00+00:00\")"
   ]
  },
  {
   "cell_type": "code",
   "execution_count": 99,
   "id": "356b33ec",
   "metadata": {
    "ExecuteTime": {
     "end_time": "2023-03-03T17:38:17.212608Z",
     "start_time": "2023-03-03T17:38:15.474048Z"
    }
   },
   "outputs": [
    {
     "name": "stdout",
     "output_type": "stream",
     "text": [
      "INFO  Loading dataset schema file: /app/data_schema/dataset_schema_versions/dataset_schema_v3.json\n",
      "INFO  Loaded dataset schema version v3\n"
     ]
    }
   ],
   "source": [
    "trades = reader.read_data(start_timestamp, end_timestamp)"
   ]
  },
  {
   "cell_type": "code",
   "execution_count": 100,
   "id": "d3a672d3",
   "metadata": {
    "ExecuteTime": {
     "end_time": "2023-03-03T17:38:20.291169Z",
     "start_time": "2023-03-03T17:38:20.258042Z"
    }
   },
   "outputs": [],
   "source": [
    "pairs_from_trades = trades.currency_pair.unique()"
   ]
  },
  {
   "cell_type": "code",
   "execution_count": 89,
   "id": "22598585",
   "metadata": {
    "ExecuteTime": {
     "end_time": "2023-03-03T17:33:13.156122Z",
     "start_time": "2023-03-03T17:33:13.123007Z"
    }
   },
   "outputs": [],
   "source": [
    "vendor = \"CCXT\"\n",
    "mode = \"download\"\n",
    "exchange_id = \"binance\"\n",
    "version = \"v7.3\"\n",
    "universe = imvcounun.get_vendor_universe(vendor, mode, version=version)"
   ]
  },
  {
   "cell_type": "code",
   "execution_count": 90,
   "id": "64dbfa6f",
   "metadata": {
    "ExecuteTime": {
     "end_time": "2023-03-03T17:33:13.685850Z",
     "start_time": "2023-03-03T17:33:13.647497Z"
    }
   },
   "outputs": [
    {
     "data": {
      "text/plain": [
       "False"
      ]
     },
     "execution_count": 90,
     "metadata": {},
     "output_type": "execute_result"
    }
   ],
   "source": [
    "~pd.Series(pairs_from_trades).isin(universe[exchange_id]).any()"
   ]
  },
  {
   "cell_type": "code",
   "execution_count": 91,
   "id": "7592ff05",
   "metadata": {
    "ExecuteTime": {
     "end_time": "2023-03-03T17:33:16.712718Z",
     "start_time": "2023-03-03T17:33:16.672903Z"
    }
   },
   "outputs": [
    {
     "data": {
      "text/plain": [
       "min   2023-03-01 00:00:00.045\n",
       "max   2023-03-01 00:59:59.971\n",
       "Name: timestamp, dtype: datetime64[ns]"
      ]
     },
     "execution_count": 91,
     "metadata": {},
     "output_type": "execute_result"
    }
   ],
   "source": [
    "trades.timestamp.agg([\"min\", \"max\"]).apply(pd.Timestamp, unit=\"ms\")"
   ]
  },
  {
   "cell_type": "code",
   "execution_count": 95,
   "id": "38918e80",
   "metadata": {
    "ExecuteTime": {
     "end_time": "2023-03-03T17:34:07.439638Z",
     "start_time": "2023-03-03T17:34:07.363508Z"
    }
   },
   "outputs": [
    {
     "data": {
      "text/plain": [
       "False"
      ]
     },
     "execution_count": 95,
     "metadata": {},
     "output_type": "execute_result"
    }
   ],
   "source": [
    "trades.isna().any().all()"
   ]
  },
  {
   "cell_type": "markdown",
   "id": "20f4be1c",
   "metadata": {},
   "source": [
    "## Manual QA - periodic daily"
   ]
  },
  {
   "cell_type": "code",
   "execution_count": 107,
   "id": "30414894",
   "metadata": {
    "ExecuteTime": {
     "end_time": "2023-03-03T17:39:25.314288Z",
     "start_time": "2023-03-03T17:39:25.277467Z"
    }
   },
   "outputs": [
    {
     "name": "stdout",
     "output_type": "stream",
     "text": [
      "INFO  Loading dataset schema file: /app/data_schema/dataset_schema_versions/dataset_schema_v3.json\n",
      "INFO  Loaded dataset schema version v3\n"
     ]
    }
   ],
   "source": [
    "signature = \"periodic_daily.airflow.downloaded_1min.parquet.trades.futures.v7_3.ccxt.binance.v1_0_0\"\n",
    "reader = imvcdcimrdc.RawDataReader(signature, stage=\"test\")\n",
    "start_timestamp = pd.Timestamp(\"2023-03-03T17:00:00+00:00\")\n",
    "end_timestamp = pd.Timestamp(\"2023-03-03T17:12:00+00:00\")"
   ]
  },
  {
   "cell_type": "code",
   "execution_count": 108,
   "id": "b1f25eed",
   "metadata": {
    "ExecuteTime": {
     "end_time": "2023-03-03T17:39:28.497450Z",
     "start_time": "2023-03-03T17:39:25.583241Z"
    }
   },
   "outputs": [
    {
     "name": "stdout",
     "output_type": "stream",
     "text": [
      "INFO  Loading dataset schema file: /app/data_schema/dataset_schema_versions/dataset_schema_v3.json\n",
      "INFO  Loaded dataset schema version v3\n"
     ]
    }
   ],
   "source": [
    "trades = reader.read_data(start_timestamp, end_timestamp)"
   ]
  },
  {
   "cell_type": "code",
   "execution_count": 109,
   "id": "f1aec198",
   "metadata": {
    "ExecuteTime": {
     "end_time": "2023-03-03T17:39:28.548150Z",
     "start_time": "2023-03-03T17:39:28.500083Z"
    }
   },
   "outputs": [
    {
     "data": {
      "text/html": [
       "<div>\n",
       "<style scoped>\n",
       "    .dataframe tbody tr th:only-of-type {\n",
       "        vertical-align: middle;\n",
       "    }\n",
       "\n",
       "    .dataframe tbody tr th {\n",
       "        vertical-align: top;\n",
       "    }\n",
       "\n",
       "    .dataframe thead th {\n",
       "        text-align: right;\n",
       "    }\n",
       "</style>\n",
       "<table border=\"1\" class=\"dataframe\">\n",
       "  <thead>\n",
       "    <tr style=\"text-align: right;\">\n",
       "      <th></th>\n",
       "      <th>timestamp</th>\n",
       "      <th>price</th>\n",
       "      <th>size</th>\n",
       "      <th>is_buyer_maker</th>\n",
       "      <th>exchange_id</th>\n",
       "      <th>knowledge_timestamp</th>\n",
       "      <th>currency_pair</th>\n",
       "      <th>year</th>\n",
       "      <th>month</th>\n",
       "    </tr>\n",
       "    <tr>\n",
       "      <th>timestamp</th>\n",
       "      <th></th>\n",
       "      <th></th>\n",
       "      <th></th>\n",
       "      <th></th>\n",
       "      <th></th>\n",
       "      <th></th>\n",
       "      <th></th>\n",
       "      <th></th>\n",
       "      <th></th>\n",
       "    </tr>\n",
       "  </thead>\n",
       "  <tbody>\n",
       "    <tr>\n",
       "      <th>2023-03-03 17:09:00.061000+00:00</th>\n",
       "      <td>1677863340061</td>\n",
       "      <td>4.8550</td>\n",
       "      <td>67.0</td>\n",
       "      <td>0</td>\n",
       "      <td>binance</td>\n",
       "      <td>2023-03-03 17:14:58.183456+00:00</td>\n",
       "      <td>APE_USDT</td>\n",
       "      <td>2023</td>\n",
       "      <td>3</td>\n",
       "    </tr>\n",
       "    <tr>\n",
       "      <th>2023-03-03 17:09:00.850000+00:00</th>\n",
       "      <td>1677863340850</td>\n",
       "      <td>4.8550</td>\n",
       "      <td>8.0</td>\n",
       "      <td>0</td>\n",
       "      <td>binance</td>\n",
       "      <td>2023-03-03 17:14:58.183456+00:00</td>\n",
       "      <td>APE_USDT</td>\n",
       "      <td>2023</td>\n",
       "      <td>3</td>\n",
       "    </tr>\n",
       "    <tr>\n",
       "      <th>2023-03-03 17:09:01.049000+00:00</th>\n",
       "      <td>1677863341049</td>\n",
       "      <td>4.8550</td>\n",
       "      <td>7.0</td>\n",
       "      <td>0</td>\n",
       "      <td>binance</td>\n",
       "      <td>2023-03-03 17:14:58.183456+00:00</td>\n",
       "      <td>APE_USDT</td>\n",
       "      <td>2023</td>\n",
       "      <td>3</td>\n",
       "    </tr>\n",
       "    <tr>\n",
       "      <th>2023-03-03 17:09:01.328000+00:00</th>\n",
       "      <td>1677863341328</td>\n",
       "      <td>4.8550</td>\n",
       "      <td>306.0</td>\n",
       "      <td>1</td>\n",
       "      <td>binance</td>\n",
       "      <td>2023-03-03 17:14:58.183456+00:00</td>\n",
       "      <td>APE_USDT</td>\n",
       "      <td>2023</td>\n",
       "      <td>3</td>\n",
       "    </tr>\n",
       "    <tr>\n",
       "      <th>2023-03-03 17:09:01.509000+00:00</th>\n",
       "      <td>1677863341509</td>\n",
       "      <td>4.8540</td>\n",
       "      <td>56.0</td>\n",
       "      <td>0</td>\n",
       "      <td>binance</td>\n",
       "      <td>2023-03-03 17:14:58.183456+00:00</td>\n",
       "      <td>APE_USDT</td>\n",
       "      <td>2023</td>\n",
       "      <td>3</td>\n",
       "    </tr>\n",
       "    <tr>\n",
       "      <th>...</th>\n",
       "      <td>...</td>\n",
       "      <td>...</td>\n",
       "      <td>...</td>\n",
       "      <td>...</td>\n",
       "      <td>...</td>\n",
       "      <td>...</td>\n",
       "      <td>...</td>\n",
       "      <td>...</td>\n",
       "      <td>...</td>\n",
       "    </tr>\n",
       "    <tr>\n",
       "      <th>2023-03-03 17:08:59.510000+00:00</th>\n",
       "      <td>1677863339510</td>\n",
       "      <td>0.3673</td>\n",
       "      <td>2700.0</td>\n",
       "      <td>0</td>\n",
       "      <td>binance</td>\n",
       "      <td>2023-03-03 17:11:58.547293+00:00</td>\n",
       "      <td>XRP_USDT</td>\n",
       "      <td>2023</td>\n",
       "      <td>3</td>\n",
       "    </tr>\n",
       "    <tr>\n",
       "      <th>2023-03-03 17:08:59.616000+00:00</th>\n",
       "      <td>1677863339616</td>\n",
       "      <td>0.3673</td>\n",
       "      <td>3600.0</td>\n",
       "      <td>0</td>\n",
       "      <td>binance</td>\n",
       "      <td>2023-03-03 17:11:58.547293+00:00</td>\n",
       "      <td>XRP_USDT</td>\n",
       "      <td>2023</td>\n",
       "      <td>3</td>\n",
       "    </tr>\n",
       "    <tr>\n",
       "      <th>2023-03-03 17:08:59.758000+00:00</th>\n",
       "      <td>1677863339758</td>\n",
       "      <td>0.3673</td>\n",
       "      <td>2700.0</td>\n",
       "      <td>0</td>\n",
       "      <td>binance</td>\n",
       "      <td>2023-03-03 17:11:58.547293+00:00</td>\n",
       "      <td>XRP_USDT</td>\n",
       "      <td>2023</td>\n",
       "      <td>3</td>\n",
       "    </tr>\n",
       "    <tr>\n",
       "      <th>2023-03-03 17:08:59.861000+00:00</th>\n",
       "      <td>1677863339861</td>\n",
       "      <td>0.3673</td>\n",
       "      <td>2700.0</td>\n",
       "      <td>0</td>\n",
       "      <td>binance</td>\n",
       "      <td>2023-03-03 17:11:58.547293+00:00</td>\n",
       "      <td>XRP_USDT</td>\n",
       "      <td>2023</td>\n",
       "      <td>3</td>\n",
       "    </tr>\n",
       "    <tr>\n",
       "      <th>2023-03-03 17:08:59.964000+00:00</th>\n",
       "      <td>1677863339964</td>\n",
       "      <td>0.3673</td>\n",
       "      <td>4500.0</td>\n",
       "      <td>0</td>\n",
       "      <td>binance</td>\n",
       "      <td>2023-03-03 17:11:58.547293+00:00</td>\n",
       "      <td>XRP_USDT</td>\n",
       "      <td>2023</td>\n",
       "      <td>3</td>\n",
       "    </tr>\n",
       "  </tbody>\n",
       "</table>\n",
       "<p>28926 rows × 9 columns</p>\n",
       "</div>"
      ],
      "text/plain": [
       "                                      timestamp   price    size  is_buyer_maker exchange_id              knowledge_timestamp currency_pair  year  month\n",
       "timestamp                                                                                                                                              \n",
       "2023-03-03 17:09:00.061000+00:00  1677863340061  4.8550    67.0               0     binance 2023-03-03 17:14:58.183456+00:00      APE_USDT  2023      3\n",
       "2023-03-03 17:09:00.850000+00:00  1677863340850  4.8550     8.0               0     binance 2023-03-03 17:14:58.183456+00:00      APE_USDT  2023      3\n",
       "2023-03-03 17:09:01.049000+00:00  1677863341049  4.8550     7.0               0     binance 2023-03-03 17:14:58.183456+00:00      APE_USDT  2023      3\n",
       "2023-03-03 17:09:01.328000+00:00  1677863341328  4.8550   306.0               1     binance 2023-03-03 17:14:58.183456+00:00      APE_USDT  2023      3\n",
       "2023-03-03 17:09:01.509000+00:00  1677863341509  4.8540    56.0               0     binance 2023-03-03 17:14:58.183456+00:00      APE_USDT  2023      3\n",
       "...                                         ...     ...     ...             ...         ...                              ...           ...   ...    ...\n",
       "2023-03-03 17:08:59.510000+00:00  1677863339510  0.3673  2700.0               0     binance 2023-03-03 17:11:58.547293+00:00      XRP_USDT  2023      3\n",
       "2023-03-03 17:08:59.616000+00:00  1677863339616  0.3673  3600.0               0     binance 2023-03-03 17:11:58.547293+00:00      XRP_USDT  2023      3\n",
       "2023-03-03 17:08:59.758000+00:00  1677863339758  0.3673  2700.0               0     binance 2023-03-03 17:11:58.547293+00:00      XRP_USDT  2023      3\n",
       "2023-03-03 17:08:59.861000+00:00  1677863339861  0.3673  2700.0               0     binance 2023-03-03 17:11:58.547293+00:00      XRP_USDT  2023      3\n",
       "2023-03-03 17:08:59.964000+00:00  1677863339964  0.3673  4500.0               0     binance 2023-03-03 17:11:58.547293+00:00      XRP_USDT  2023      3\n",
       "\n",
       "[28926 rows x 9 columns]"
      ]
     },
     "execution_count": 109,
     "metadata": {},
     "output_type": "execute_result"
    }
   ],
   "source": [
    "trades"
   ]
  },
  {
   "cell_type": "code",
   "execution_count": 111,
   "id": "b3334b4d",
   "metadata": {
    "ExecuteTime": {
     "end_time": "2023-03-03T17:43:45.682615Z",
     "start_time": "2023-03-03T17:43:45.638580Z"
    }
   },
   "outputs": [
    {
     "data": {
      "text/plain": [
       "False"
      ]
     },
     "execution_count": 111,
     "metadata": {},
     "output_type": "execute_result"
    }
   ],
   "source": [
    "trades.isna().any().all()"
   ]
  },
  {
   "cell_type": "code",
   "execution_count": 112,
   "id": "8afb7861",
   "metadata": {
    "ExecuteTime": {
     "end_time": "2023-03-03T17:43:45.859544Z",
     "start_time": "2023-03-03T17:43:45.824246Z"
    }
   },
   "outputs": [],
   "source": [
    "pairs_from_trades = trades.currency_pair.unique()"
   ]
  },
  {
   "cell_type": "code",
   "execution_count": 113,
   "id": "1b0e98ee",
   "metadata": {
    "ExecuteTime": {
     "end_time": "2023-03-03T17:43:47.584481Z",
     "start_time": "2023-03-03T17:43:47.549542Z"
    }
   },
   "outputs": [
    {
     "data": {
      "text/plain": [
       "False"
      ]
     },
     "execution_count": 113,
     "metadata": {},
     "output_type": "execute_result"
    }
   ],
   "source": [
    "~pd.Series(pairs_from_trades).isin(universe[exchange_id]).any()"
   ]
  },
  {
   "cell_type": "code",
   "execution_count": 114,
   "id": "f22a975b",
   "metadata": {
    "ExecuteTime": {
     "end_time": "2023-03-03T17:43:53.482524Z",
     "start_time": "2023-03-03T17:43:53.444695Z"
    }
   },
   "outputs": [
    {
     "data": {
      "text/plain": [
       "min   2023-03-03 17:00:00.051\n",
       "max   2023-03-03 17:11:59.967\n",
       "Name: timestamp, dtype: datetime64[ns]"
      ]
     },
     "execution_count": 114,
     "metadata": {},
     "output_type": "execute_result"
    }
   ],
   "source": [
    "trades.timestamp.agg([\"min\", \"max\"]).apply(pd.Timestamp, unit=\"ms\")"
   ]
  },
  {
   "cell_type": "code",
   "execution_count": null,
   "id": "72bdf6b6",
   "metadata": {},
   "outputs": [],
   "source": []
  },
  {
   "cell_type": "markdown",
   "id": "7f83e8f1",
   "metadata": {
    "heading_collapsed": true
   },
   "source": [
    "# Bare CCXT extractor test"
   ]
  },
  {
   "cell_type": "code",
   "execution_count": 42,
   "id": "dd6c9676",
   "metadata": {
    "ExecuteTime": {
     "end_time": "2023-03-02T16:31:58.783551Z",
     "start_time": "2023-03-02T16:31:58.732769Z"
    },
    "hidden": true
   },
   "outputs": [],
   "source": [
    "import ccxt\n",
    "\n",
    "extractor = ccxt.binance()"
   ]
  },
  {
   "cell_type": "code",
   "execution_count": 43,
   "id": "3f66d121",
   "metadata": {
    "ExecuteTime": {
     "end_time": "2023-03-02T16:32:00.164692Z",
     "start_time": "2023-03-02T16:31:59.192444Z"
    },
    "hidden": true
   },
   "outputs": [],
   "source": [
    "start_timestamp = pd.Timestamp(\"2021-01-01T00:00:00+00:00\")\n",
    "start_timestamp = hdateti.convert_timestamp_to_unix_epoch(start_timestamp)\n",
    "start_timestamp = 1614556800000\n",
    "currency_pair = \"ETH/BUSD\"\n",
    "limit = 500\n",
    "data = extractor.fetch_trades(\n",
    "    currency_pair,\n",
    "    since=start_timestamp,\n",
    "    limit=limit,\n",
    ")"
   ]
  },
  {
   "cell_type": "code",
   "execution_count": 44,
   "id": "e48ded0e",
   "metadata": {
    "ExecuteTime": {
     "end_time": "2023-03-02T16:32:00.768096Z",
     "start_time": "2023-03-02T16:32:00.732143Z"
    },
    "hidden": true
   },
   "outputs": [
    {
     "data": {
      "text/plain": [
       "1614556800000"
      ]
     },
     "execution_count": 44,
     "metadata": {},
     "output_type": "execute_result"
    }
   ],
   "source": [
    "start_timestamp"
   ]
  },
  {
   "cell_type": "code",
   "execution_count": 45,
   "id": "29a5ab51",
   "metadata": {
    "ExecuteTime": {
     "end_time": "2023-03-02T16:32:01.967438Z",
     "start_time": "2023-03-02T16:32:01.932309Z"
    },
    "hidden": true
   },
   "outputs": [
    {
     "data": {
      "text/plain": [
       "500"
      ]
     },
     "execution_count": 45,
     "metadata": {},
     "output_type": "execute_result"
    }
   ],
   "source": [
    "len(data)"
   ]
  },
  {
   "cell_type": "markdown",
   "id": "b52dcaa7",
   "metadata": {
    "heading_collapsed": true
   },
   "source": [
    "# CCXT extractor test"
   ]
  },
  {
   "cell_type": "code",
   "execution_count": 29,
   "id": "a9b7bb8f",
   "metadata": {
    "ExecuteTime": {
     "end_time": "2023-03-02T12:43:44.403557Z",
     "start_time": "2023-03-02T12:43:44.264656Z"
    },
    "hidden": true
   },
   "outputs": [],
   "source": [
    "import im_v2.ccxt.data.extract.extractor as imvcdexex\n",
    "\n",
    "exchange_id = \"binance\"\n",
    "contract_type = \"futures\"\n",
    "ccxt_extractor = imvcdexex.CcxtExtractor(exchange_id, contract_type)"
   ]
  },
  {
   "cell_type": "code",
   "execution_count": 32,
   "id": "8caa861d",
   "metadata": {
    "ExecuteTime": {
     "end_time": "2023-03-02T12:44:10.075163Z",
     "start_time": "2023-03-02T12:44:09.731992Z"
    },
    "hidden": true
   },
   "outputs": [
    {
     "ename": "RuntimeError",
     "evalue": "No trades were fetched with the given parameters: currency_pair=ETH/BUSD, start_timestamp=1614556800000, end_timestamp=1614560400000",
     "output_type": "error",
     "traceback": [
      "\u001b[0;31m---------------------------------------------------------------------------\u001b[0m",
      "\u001b[0;31mRuntimeError\u001b[0m                              Traceback (most recent call last)",
      "Cell \u001b[0;32mIn [32], line 5\u001b[0m\n\u001b[1;32m      3\u001b[0m start_timestamp \u001b[38;5;241m=\u001b[39m pd\u001b[38;5;241m.\u001b[39mTimestamp(\u001b[38;5;124m'\u001b[39m\u001b[38;5;124m2021-03-01T00:00:00+00:00\u001b[39m\u001b[38;5;124m'\u001b[39m)\n\u001b[1;32m      4\u001b[0m end_timestamp \u001b[38;5;241m=\u001b[39m pd\u001b[38;5;241m.\u001b[39mTimestamp(\u001b[38;5;124m'\u001b[39m\u001b[38;5;124m2021-03-01T01:00:00+00:00\u001b[39m\u001b[38;5;124m'\u001b[39m)\n\u001b[0;32m----> 5\u001b[0m data \u001b[38;5;241m=\u001b[39m \u001b[43mccxt_extractor\u001b[49m\u001b[38;5;241;43m.\u001b[39;49m\u001b[43mdownload_data\u001b[49m\u001b[43m(\u001b[49m\n\u001b[1;32m      6\u001b[0m \u001b[43m    \u001b[49m\u001b[43mdata_type\u001b[49m\u001b[43m,\u001b[49m\n\u001b[1;32m      7\u001b[0m \u001b[43m    \u001b[49m\u001b[43mexchange_id\u001b[49m\u001b[43m,\u001b[49m\n\u001b[1;32m      8\u001b[0m \u001b[43m    \u001b[49m\u001b[43mconverted_currency_pair\u001b[49m\u001b[43m,\u001b[49m\n\u001b[1;32m      9\u001b[0m \u001b[43m    \u001b[49m\u001b[43mstart_timestamp\u001b[49m\u001b[38;5;241;43m=\u001b[39;49m\u001b[43mstart_timestamp\u001b[49m\u001b[43m,\u001b[49m\n\u001b[1;32m     10\u001b[0m \u001b[43m    \u001b[49m\u001b[43mend_timestamp\u001b[49m\u001b[38;5;241;43m=\u001b[39;49m\u001b[43mend_timestamp\u001b[49m\u001b[43m,\u001b[49m\n\u001b[1;32m     11\u001b[0m \u001b[43m    \u001b[49m\u001b[43mdepth\u001b[49m\u001b[38;5;241;43m=\u001b[39;49m\u001b[38;5;241;43m10\u001b[39;49m\u001b[43m,\u001b[49m\n\u001b[1;32m     12\u001b[0m \u001b[43m)\u001b[49m\n",
      "File \u001b[0;32m/app/im_v2/common/data/extract/extractor.py:45\u001b[0m, in \u001b[0;36mExtractor.download_data\u001b[0;34m(self, data_type, exchange_id, currency_pair, **kwargs)\u001b[0m\n\u001b[1;32m     43\u001b[0m     data \u001b[38;5;241m=\u001b[39m \u001b[38;5;28mself\u001b[39m\u001b[38;5;241m.\u001b[39m_download_bid_ask(exchange_id, currency_pair, \u001b[38;5;241m*\u001b[39m\u001b[38;5;241m*\u001b[39mkwargs)\n\u001b[1;32m     44\u001b[0m \u001b[38;5;28;01melif\u001b[39;00m data_type \u001b[38;5;241m==\u001b[39m \u001b[38;5;124m\"\u001b[39m\u001b[38;5;124mtrades\u001b[39m\u001b[38;5;124m\"\u001b[39m:\n\u001b[0;32m---> 45\u001b[0m     data \u001b[38;5;241m=\u001b[39m \u001b[38;5;28;43mself\u001b[39;49m\u001b[38;5;241;43m.\u001b[39;49m\u001b[43m_download_trades\u001b[49m\u001b[43m(\u001b[49m\u001b[43mexchange_id\u001b[49m\u001b[43m,\u001b[49m\u001b[43m \u001b[49m\u001b[43mcurrency_pair\u001b[49m\u001b[43m,\u001b[49m\u001b[43m \u001b[49m\u001b[38;5;241;43m*\u001b[39;49m\u001b[38;5;241;43m*\u001b[39;49m\u001b[43mkwargs\u001b[49m\u001b[43m)\u001b[49m\n\u001b[1;32m     46\u001b[0m \u001b[38;5;28;01melse\u001b[39;00m:\n\u001b[1;32m     47\u001b[0m     hdbg\u001b[38;5;241m.\u001b[39mdfatal(\n\u001b[1;32m     48\u001b[0m         \u001b[38;5;124mf\u001b[39m\u001b[38;5;124m\"\u001b[39m\u001b[38;5;124mUnknown data type \u001b[39m\u001b[38;5;132;01m{\u001b[39;00mdata_type\u001b[38;5;132;01m}\u001b[39;00m\u001b[38;5;124m. Possible data types: ohlcv, bid_ask, trades\u001b[39m\u001b[38;5;124m\"\u001b[39m\n\u001b[1;32m     49\u001b[0m     )\n",
      "File \u001b[0;32m/app/im_v2/ccxt/data/extract/extractor.py:496\u001b[0m, in \u001b[0;36mCcxtExtractor._download_trades\u001b[0;34m(self, exchange_id, currency_pair, start_timestamp, end_timestamp, sleep_time_in_secs, trade_per_iteration, **kwargs)\u001b[0m\n\u001b[1;32m    491\u001b[0m hdbg\u001b[38;5;241m.\u001b[39mdassert_lte(\n\u001b[1;32m    492\u001b[0m     start_timestamp,\n\u001b[1;32m    493\u001b[0m     end_timestamp,\n\u001b[1;32m    494\u001b[0m )\n\u001b[1;32m    495\u001b[0m \u001b[38;5;66;03m# Fetch trades.\u001b[39;00m\n\u001b[0;32m--> 496\u001b[0m trades \u001b[38;5;241m=\u001b[39m \u001b[38;5;28;43mself\u001b[39;49m\u001b[38;5;241;43m.\u001b[39;49m\u001b[43m_fetch_trades\u001b[49m\u001b[43m(\u001b[49m\n\u001b[1;32m    497\u001b[0m \u001b[43m    \u001b[49m\u001b[43mcurrency_pair\u001b[49m\u001b[43m,\u001b[49m\n\u001b[1;32m    498\u001b[0m \u001b[43m    \u001b[49m\u001b[43mstart_timestamp\u001b[49m\u001b[38;5;241;43m=\u001b[39;49m\u001b[43mstart_timestamp\u001b[49m\u001b[43m,\u001b[49m\n\u001b[1;32m    499\u001b[0m \u001b[43m    \u001b[49m\u001b[43mend_timestamp\u001b[49m\u001b[38;5;241;43m=\u001b[39;49m\u001b[43mend_timestamp\u001b[49m\u001b[43m,\u001b[49m\n\u001b[1;32m    500\u001b[0m \u001b[43m    \u001b[49m\u001b[43msleep_time_in_secs\u001b[49m\u001b[38;5;241;43m=\u001b[39;49m\u001b[43msleep_time_in_secs\u001b[49m\u001b[43m,\u001b[49m\n\u001b[1;32m    501\u001b[0m \u001b[43m    \u001b[49m\u001b[43mlimit\u001b[49m\u001b[38;5;241;43m=\u001b[39;49m\u001b[43mtrade_per_iteration\u001b[49m\u001b[43m,\u001b[49m\n\u001b[1;32m    502\u001b[0m \u001b[43m\u001b[49m\u001b[43m)\u001b[49m\n\u001b[1;32m    503\u001b[0m \u001b[38;5;28;01mif\u001b[39;00m exchange_id \u001b[38;5;241m==\u001b[39m \u001b[38;5;124m\"\u001b[39m\u001b[38;5;124mbinance\u001b[39m\u001b[38;5;124m\"\u001b[39m:\n\u001b[1;32m    504\u001b[0m     trades \u001b[38;5;241m=\u001b[39m trades\u001b[38;5;241m.\u001b[39mrename(columns\u001b[38;5;241m=\u001b[39m{\u001b[38;5;124m\"\u001b[39m\u001b[38;5;124mamount\u001b[39m\u001b[38;5;124m\"\u001b[39m: \u001b[38;5;124m\"\u001b[39m\u001b[38;5;124msize\u001b[39m\u001b[38;5;124m\"\u001b[39m})\n",
      "File \u001b[0;32m/app/im_v2/ccxt/data/extract/extractor.py:607\u001b[0m, in \u001b[0;36mCcxtExtractor._fetch_trades\u001b[0;34m(self, currency_pair, start_timestamp, end_timestamp, sleep_time_in_secs, limit)\u001b[0m\n\u001b[1;32m    605\u001b[0m     time\u001b[38;5;241m.\u001b[39msleep(sleep_time_in_secs)\n\u001b[1;32m    606\u001b[0m \u001b[38;5;28;01mif\u001b[39;00m \u001b[38;5;28mlen\u001b[39m(trades) \u001b[38;5;241m==\u001b[39m \u001b[38;5;241m0\u001b[39m:\n\u001b[0;32m--> 607\u001b[0m     \u001b[38;5;28;01mraise\u001b[39;00m \u001b[38;5;167;01mRuntimeError\u001b[39;00m(\n\u001b[1;32m    608\u001b[0m         \u001b[38;5;124m\"\u001b[39m\u001b[38;5;124mNo trades were fetched with the given parameters: \u001b[39m\u001b[38;5;124m\"\u001b[39m\n\u001b[1;32m    609\u001b[0m         \u001b[38;5;124mf\u001b[39m\u001b[38;5;124m\"\u001b[39m\u001b[38;5;124mcurrency_pair=\u001b[39m\u001b[38;5;132;01m{\u001b[39;00mcurrency_pair\u001b[38;5;132;01m}\u001b[39;00m\u001b[38;5;124m, \u001b[39m\u001b[38;5;124m\"\u001b[39m\n\u001b[1;32m    610\u001b[0m         \u001b[38;5;124mf\u001b[39m\u001b[38;5;124m\"\u001b[39m\u001b[38;5;124mstart_timestamp=\u001b[39m\u001b[38;5;132;01m{\u001b[39;00mstart_timestamp\u001b[38;5;132;01m}\u001b[39;00m\u001b[38;5;124m, \u001b[39m\u001b[38;5;124m\"\u001b[39m\n\u001b[1;32m    611\u001b[0m         \u001b[38;5;124mf\u001b[39m\u001b[38;5;124m\"\u001b[39m\u001b[38;5;124mend_timestamp=\u001b[39m\u001b[38;5;132;01m{\u001b[39;00mend_timestamp\u001b[38;5;132;01m}\u001b[39;00m\u001b[38;5;124m\"\u001b[39m\n\u001b[1;32m    612\u001b[0m     )\n\u001b[1;32m    613\u001b[0m df \u001b[38;5;241m=\u001b[39m pd\u001b[38;5;241m.\u001b[39mconcat(trades)\u001b[38;5;241m.\u001b[39mreset_index(drop\u001b[38;5;241m=\u001b[39m\u001b[38;5;28;01mTrue\u001b[39;00m)\u001b[38;5;241m.\u001b[39mdrop(columns\u001b[38;5;241m=\u001b[39m[\u001b[38;5;124m\"\u001b[39m\u001b[38;5;124mid\u001b[39m\u001b[38;5;124m\"\u001b[39m])\n\u001b[1;32m    614\u001b[0m df[\u001b[38;5;124m\"\u001b[39m\u001b[38;5;124mend_download_timestamp\u001b[39m\u001b[38;5;124m\"\u001b[39m] \u001b[38;5;241m=\u001b[39m \u001b[38;5;28mstr\u001b[39m(hdateti\u001b[38;5;241m.\u001b[39mget_current_time(\u001b[38;5;124m\"\u001b[39m\u001b[38;5;124mUTC\u001b[39m\u001b[38;5;124m\"\u001b[39m))\n",
      "\u001b[0;31mRuntimeError\u001b[0m: No trades were fetched with the given parameters: currency_pair=ETH/BUSD, start_timestamp=1614556800000, end_timestamp=1614560400000"
     ]
    }
   ],
   "source": [
    "data_type = \"trades\"\n",
    "converted_currency_pair = currency_pair\n",
    "start_timestamp = pd.Timestamp(\"2021-03-01T00:00:00+00:00\")\n",
    "end_timestamp = pd.Timestamp(\"2021-03-01T01:00:00+00:00\")\n",
    "data = ccxt_extractor.download_data(\n",
    "    data_type,\n",
    "    exchange_id,\n",
    "    converted_currency_pair,\n",
    "    start_timestamp=start_timestamp,\n",
    "    end_timestamp=end_timestamp,\n",
    "    depth=10,\n",
    ")"
   ]
  },
  {
   "cell_type": "code",
   "execution_count": null,
   "id": "b4794657",
   "metadata": {
    "hidden": true
   },
   "outputs": [],
   "source": [
    "data"
   ]
  }
 ],
 "metadata": {
  "kernelspec": {
   "display_name": "Python 3 (ipykernel)",
   "language": "python",
   "name": "python3"
  },
  "language_info": {
   "codemirror_mode": {
    "name": "ipython",
    "version": 3
   },
   "file_extension": ".py",
   "mimetype": "text/x-python",
   "name": "python",
   "nbconvert_exporter": "python",
   "pygments_lexer": "ipython3",
   "version": "3.8.10"
  },
  "toc": {
   "base_numbering": 1,
   "nav_menu": {},
   "number_sections": true,
   "sideBar": true,
   "skip_h1_title": false,
   "title_cell": "Table of Contents",
   "title_sidebar": "Contents",
   "toc_cell": false,
   "toc_position": {},
   "toc_section_display": true,
   "toc_window_display": false
  }
 },
 "nbformat": 4,
 "nbformat_minor": 5
}
