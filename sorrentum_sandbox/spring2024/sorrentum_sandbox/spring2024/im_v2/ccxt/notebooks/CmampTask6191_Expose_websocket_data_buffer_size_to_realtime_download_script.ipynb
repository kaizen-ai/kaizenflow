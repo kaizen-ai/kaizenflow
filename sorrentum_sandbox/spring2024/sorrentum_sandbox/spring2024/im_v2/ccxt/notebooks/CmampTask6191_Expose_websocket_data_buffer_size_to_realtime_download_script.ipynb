{
 "cells": [
  {
   "cell_type": "code",
   "execution_count": 1,
   "id": "2d074167",
   "metadata": {
    "ExecuteTime": {
     "end_time": "2023-11-21T08:34:10.600040Z",
     "start_time": "2023-11-21T08:33:56.959854Z"
    }
   },
   "outputs": [
    {
     "name": "stderr",
     "output_type": "stream",
     "text": [
      "/app/core/statistics/random_samples.py:12: TqdmExperimentalWarning: Using `tqdm.autonotebook.tqdm` in notebook mode. Use `tqdm.tqdm` instead to force console mode (e.g. in jupyter console)\n",
      "  from tqdm.autonotebook import tqdm\n",
      "\u001b[33mWARNING\u001b[0m: No module named 'gluonts'\n",
      "\u001b[33mWARNING\u001b[0m: No module named 'gluonts'\n"
     ]
    }
   ],
   "source": [
    "import pandas as pd\n",
    "\n",
    "import helpers.hdatetime as hdateti\n",
    "import im_v2.common.data.client.im_raw_data_client as imvcdcimrdc\n",
    "import oms.broker.ccxt.ccxt_execution_quality as obccexqu"
   ]
  },
  {
   "cell_type": "code",
   "execution_count": 2,
   "id": "b17fae2a",
   "metadata": {
    "ExecuteTime": {
     "end_time": "2023-11-21T08:34:10.611229Z",
     "start_time": "2023-11-21T08:34:10.604010Z"
    }
   },
   "outputs": [],
   "source": [
    "signature = \"periodic_daily.airflow.downloaded_200ms.postgres.bid_ask.futures.v7_3.ccxt.binance.v1_0_0\""
   ]
  },
  {
   "cell_type": "code",
   "execution_count": 3,
   "id": "2cd21b1d",
   "metadata": {
    "ExecuteTime": {
     "end_time": "2023-11-21T08:34:11.215441Z",
     "start_time": "2023-11-21T08:34:10.615146Z"
    }
   },
   "outputs": [],
   "source": [
    "data_reader = imvcdcimrdc.RawDataReader(signature, stage=\"test\")"
   ]
  },
  {
   "cell_type": "code",
   "execution_count": 4,
   "id": "605ea03d",
   "metadata": {
    "ExecuteTime": {
     "end_time": "2023-11-21T08:34:28.854946Z",
     "start_time": "2023-11-21T08:34:11.221015Z"
    }
   },
   "outputs": [
    {
     "name": "stderr",
     "output_type": "stream",
     "text": [
      "/app/helpers/hsql_implementation.py:582: UserWarning: pandas only supports SQLAlchemy connectable (engine/connection) or database string URI or sqlite3 DBAPI2 connection. Other DBAPI2 objects are not tested. Please consider using SQLAlchemy.\n",
      "  df = pd.read_sql_query(query, connection)\n"
     ]
    }
   ],
   "source": [
    "start_time = pd.Timestamp(\"2023-11-17 09:02:00+00:00\")\n",
    "end_time = pd.Timestamp(\"2023-11-17T09:22:00+00:00\")\n",
    "df = data_reader.read_data(start_time, end_time)"
   ]
  },
  {
   "cell_type": "code",
   "execution_count": 5,
   "id": "d20b3753",
   "metadata": {
    "ExecuteTime": {
     "end_time": "2023-11-21T08:34:28.896499Z",
     "start_time": "2023-11-21T08:34:28.858906Z"
    }
   },
   "outputs": [
    {
     "data": {
      "text/html": [
       "<div>\n",
       "<style scoped>\n",
       "    .dataframe tbody tr th:only-of-type {\n",
       "        vertical-align: middle;\n",
       "    }\n",
       "\n",
       "    .dataframe tbody tr th {\n",
       "        vertical-align: top;\n",
       "    }\n",
       "\n",
       "    .dataframe thead th {\n",
       "        text-align: right;\n",
       "    }\n",
       "</style>\n",
       "<table border=\"1\" class=\"dataframe\">\n",
       "  <thead>\n",
       "    <tr style=\"text-align: right;\">\n",
       "      <th></th>\n",
       "      <th>currency_pair</th>\n",
       "      <th>exchange_id</th>\n",
       "      <th>end_download_timestamp</th>\n",
       "      <th>knowledge_timestamp</th>\n",
       "      <th>bid_size_l1</th>\n",
       "      <th>bid_size_l2</th>\n",
       "      <th>bid_size_l3</th>\n",
       "      <th>bid_size_l4</th>\n",
       "      <th>bid_size_l5</th>\n",
       "      <th>bid_size_l6</th>\n",
       "      <th>...</th>\n",
       "      <th>ask_price_l1</th>\n",
       "      <th>ask_price_l2</th>\n",
       "      <th>ask_price_l3</th>\n",
       "      <th>ask_price_l4</th>\n",
       "      <th>ask_price_l5</th>\n",
       "      <th>ask_price_l6</th>\n",
       "      <th>ask_price_l7</th>\n",
       "      <th>ask_price_l8</th>\n",
       "      <th>ask_price_l9</th>\n",
       "      <th>ask_price_l10</th>\n",
       "    </tr>\n",
       "    <tr>\n",
       "      <th>timestamp</th>\n",
       "      <th></th>\n",
       "      <th></th>\n",
       "      <th></th>\n",
       "      <th></th>\n",
       "      <th></th>\n",
       "      <th></th>\n",
       "      <th></th>\n",
       "      <th></th>\n",
       "      <th></th>\n",
       "      <th></th>\n",
       "      <th></th>\n",
       "      <th></th>\n",
       "      <th></th>\n",
       "      <th></th>\n",
       "      <th></th>\n",
       "      <th></th>\n",
       "      <th></th>\n",
       "      <th></th>\n",
       "      <th></th>\n",
       "      <th></th>\n",
       "      <th></th>\n",
       "    </tr>\n",
       "  </thead>\n",
       "  <tbody>\n",
       "    <tr>\n",
       "      <th>1700211724015</th>\n",
       "      <td>CTK_USDT</td>\n",
       "      <td>binance</td>\n",
       "      <td>2023-11-17 09:02:04.314845+00:00</td>\n",
       "      <td>2023-11-17 09:02:04.541776+00:00</td>\n",
       "      <td>114.00</td>\n",
       "      <td>213.00</td>\n",
       "      <td>972.00</td>\n",
       "      <td>963.0</td>\n",
       "      <td>368.00</td>\n",
       "      <td>1392.00</td>\n",
       "      <td>...</td>\n",
       "      <td>0.4974</td>\n",
       "      <td>0.4975</td>\n",
       "      <td>0.4976</td>\n",
       "      <td>0.4977</td>\n",
       "      <td>0.4978</td>\n",
       "      <td>0.4979</td>\n",
       "      <td>0.4980</td>\n",
       "      <td>0.4981</td>\n",
       "      <td>0.4982</td>\n",
       "      <td>0.4983</td>\n",
       "    </tr>\n",
       "    <tr>\n",
       "      <th>1700211724021</th>\n",
       "      <td>OGN_USDT</td>\n",
       "      <td>binance</td>\n",
       "      <td>2023-11-17 09:02:04.308470+00:00</td>\n",
       "      <td>2023-11-17 09:02:04.541776+00:00</td>\n",
       "      <td>103548.00</td>\n",
       "      <td>112996.00</td>\n",
       "      <td>126588.00</td>\n",
       "      <td>87247.0</td>\n",
       "      <td>151856.00</td>\n",
       "      <td>431077.00</td>\n",
       "      <td>...</td>\n",
       "      <td>0.1257</td>\n",
       "      <td>0.1258</td>\n",
       "      <td>0.1259</td>\n",
       "      <td>0.1260</td>\n",
       "      <td>0.1261</td>\n",
       "      <td>0.1262</td>\n",
       "      <td>0.1263</td>\n",
       "      <td>0.1264</td>\n",
       "      <td>0.1265</td>\n",
       "      <td>0.1266</td>\n",
       "    </tr>\n",
       "    <tr>\n",
       "      <th>1700211724041</th>\n",
       "      <td>LINK_USDT</td>\n",
       "      <td>binance</td>\n",
       "      <td>2023-11-17 09:02:04.303886+00:00</td>\n",
       "      <td>2023-11-17 09:02:04.541776+00:00</td>\n",
       "      <td>92.41</td>\n",
       "      <td>592.28</td>\n",
       "      <td>969.59</td>\n",
       "      <td>562.2</td>\n",
       "      <td>174.18</td>\n",
       "      <td>936.38</td>\n",
       "      <td>...</td>\n",
       "      <td>13.7400</td>\n",
       "      <td>13.7410</td>\n",
       "      <td>13.7420</td>\n",
       "      <td>13.7430</td>\n",
       "      <td>13.7440</td>\n",
       "      <td>13.7450</td>\n",
       "      <td>13.7460</td>\n",
       "      <td>13.7470</td>\n",
       "      <td>13.7480</td>\n",
       "      <td>13.7490</td>\n",
       "    </tr>\n",
       "    <tr>\n",
       "      <th>1700211724052</th>\n",
       "      <td>WAVES_USDT</td>\n",
       "      <td>binance</td>\n",
       "      <td>2023-11-17 09:02:04.307567+00:00</td>\n",
       "      <td>2023-11-17 09:02:04.541776+00:00</td>\n",
       "      <td>467.00</td>\n",
       "      <td>5.00</td>\n",
       "      <td>418.80</td>\n",
       "      <td>92.7</td>\n",
       "      <td>87.10</td>\n",
       "      <td>335.80</td>\n",
       "      <td>...</td>\n",
       "      <td>2.2474</td>\n",
       "      <td>2.2475</td>\n",
       "      <td>2.2477</td>\n",
       "      <td>2.2478</td>\n",
       "      <td>2.2480</td>\n",
       "      <td>2.2482</td>\n",
       "      <td>2.2483</td>\n",
       "      <td>2.2484</td>\n",
       "      <td>2.2485</td>\n",
       "      <td>2.2486</td>\n",
       "    </tr>\n",
       "    <tr>\n",
       "      <th>1700211724057</th>\n",
       "      <td>RUNE_USDT</td>\n",
       "      <td>binance</td>\n",
       "      <td>2023-11-17 09:02:04.305434+00:00</td>\n",
       "      <td>2023-11-17 09:02:04.541776+00:00</td>\n",
       "      <td>286.00</td>\n",
       "      <td>680.00</td>\n",
       "      <td>1819.00</td>\n",
       "      <td>1681.0</td>\n",
       "      <td>2199.00</td>\n",
       "      <td>1306.00</td>\n",
       "      <td>...</td>\n",
       "      <td>6.1030</td>\n",
       "      <td>6.1040</td>\n",
       "      <td>6.1050</td>\n",
       "      <td>6.1060</td>\n",
       "      <td>6.1070</td>\n",
       "      <td>6.1080</td>\n",
       "      <td>6.1090</td>\n",
       "      <td>6.1100</td>\n",
       "      <td>6.1110</td>\n",
       "      <td>6.1120</td>\n",
       "    </tr>\n",
       "  </tbody>\n",
       "</table>\n",
       "<p>5 rows × 44 columns</p>\n",
       "</div>"
      ],
      "text/plain": [
       "              currency_pair exchange_id           end_download_timestamp  \\\n",
       "timestamp                                                                  \n",
       "1700211724015      CTK_USDT     binance 2023-11-17 09:02:04.314845+00:00   \n",
       "1700211724021      OGN_USDT     binance 2023-11-17 09:02:04.308470+00:00   \n",
       "1700211724041     LINK_USDT     binance 2023-11-17 09:02:04.303886+00:00   \n",
       "1700211724052    WAVES_USDT     binance 2023-11-17 09:02:04.307567+00:00   \n",
       "1700211724057     RUNE_USDT     binance 2023-11-17 09:02:04.305434+00:00   \n",
       "\n",
       "                           knowledge_timestamp  bid_size_l1  bid_size_l2  \\\n",
       "timestamp                                                                  \n",
       "1700211724015 2023-11-17 09:02:04.541776+00:00       114.00       213.00   \n",
       "1700211724021 2023-11-17 09:02:04.541776+00:00    103548.00    112996.00   \n",
       "1700211724041 2023-11-17 09:02:04.541776+00:00        92.41       592.28   \n",
       "1700211724052 2023-11-17 09:02:04.541776+00:00       467.00         5.00   \n",
       "1700211724057 2023-11-17 09:02:04.541776+00:00       286.00       680.00   \n",
       "\n",
       "               bid_size_l3  bid_size_l4  bid_size_l5  bid_size_l6  ...  \\\n",
       "timestamp                                                          ...   \n",
       "1700211724015       972.00        963.0       368.00      1392.00  ...   \n",
       "1700211724021    126588.00      87247.0    151856.00    431077.00  ...   \n",
       "1700211724041       969.59        562.2       174.18       936.38  ...   \n",
       "1700211724052       418.80         92.7        87.10       335.80  ...   \n",
       "1700211724057      1819.00       1681.0      2199.00      1306.00  ...   \n",
       "\n",
       "               ask_price_l1  ask_price_l2  ask_price_l3  ask_price_l4  \\\n",
       "timestamp                                                               \n",
       "1700211724015        0.4974        0.4975        0.4976        0.4977   \n",
       "1700211724021        0.1257        0.1258        0.1259        0.1260   \n",
       "1700211724041       13.7400       13.7410       13.7420       13.7430   \n",
       "1700211724052        2.2474        2.2475        2.2477        2.2478   \n",
       "1700211724057        6.1030        6.1040        6.1050        6.1060   \n",
       "\n",
       "               ask_price_l5  ask_price_l6  ask_price_l7  ask_price_l8  \\\n",
       "timestamp                                                               \n",
       "1700211724015        0.4978        0.4979        0.4980        0.4981   \n",
       "1700211724021        0.1261        0.1262        0.1263        0.1264   \n",
       "1700211724041       13.7440       13.7450       13.7460       13.7470   \n",
       "1700211724052        2.2480        2.2482        2.2483        2.2484   \n",
       "1700211724057        6.1070        6.1080        6.1090        6.1100   \n",
       "\n",
       "               ask_price_l9  ask_price_l10  \n",
       "timestamp                                   \n",
       "1700211724015        0.4982         0.4983  \n",
       "1700211724021        0.1265         0.1266  \n",
       "1700211724041       13.7480        13.7490  \n",
       "1700211724052        2.2485         2.2486  \n",
       "1700211724057        6.1110         6.1120  \n",
       "\n",
       "[5 rows x 44 columns]"
      ]
     },
     "execution_count": 5,
     "metadata": {},
     "output_type": "execute_result"
    }
   ],
   "source": [
    "df.head()"
   ]
  },
  {
   "cell_type": "code",
   "execution_count": 6,
   "id": "9a8d2cea",
   "metadata": {
    "ExecuteTime": {
     "end_time": "2023-11-21T08:34:29.974206Z",
     "start_time": "2023-11-21T08:34:28.898802Z"
    }
   },
   "outputs": [],
   "source": [
    "df[\"exchange_timestamp\"] = df.index.to_series().apply(\n",
    "    lambda x: hdateti.convert_unix_epoch_to_timestamp(x)\n",
    ")"
   ]
  },
  {
   "cell_type": "code",
   "execution_count": 7,
   "id": "4611eee3",
   "metadata": {
    "ExecuteTime": {
     "end_time": "2023-11-21T08:34:29.995778Z",
     "start_time": "2023-11-21T08:34:29.979663Z"
    }
   },
   "outputs": [
    {
     "data": {
      "text/plain": [
       "132093"
      ]
     },
     "execution_count": 7,
     "metadata": {},
     "output_type": "execute_result"
    }
   ],
   "source": [
    "len(df)"
   ]
  },
  {
   "cell_type": "code",
   "execution_count": 8,
   "id": "71dac4d0",
   "metadata": {
    "ExecuteTime": {
     "end_time": "2023-11-21T08:34:30.105154Z",
     "start_time": "2023-11-21T08:34:30.001200Z"
    }
   },
   "outputs": [],
   "source": [
    "df = df.sort_values(by=['currency_pair', 'knowledge_timestamp'])"
   ]
  },
  {
   "cell_type": "code",
   "execution_count": 9,
   "id": "ad6b8e90",
   "metadata": {
    "ExecuteTime": {
     "end_time": "2023-11-21T08:34:30.171899Z",
     "start_time": "2023-11-21T08:34:30.110410Z"
    }
   },
   "outputs": [],
   "source": [
    "df = df.drop_duplicates(subset=['currency_pair', 'exchange_timestamp'], keep='first')"
   ]
  },
  {
   "cell_type": "code",
   "execution_count": 10,
   "id": "a51b3274",
   "metadata": {
    "ExecuteTime": {
     "end_time": "2023-11-21T08:34:30.182222Z",
     "start_time": "2023-11-21T08:34:30.175632Z"
    }
   },
   "outputs": [],
   "source": [
    "time = df[[\"exchange_timestamp\", \"end_download_timestamp\", \"knowledge_timestamp\"]]"
   ]
  },
  {
   "cell_type": "code",
   "execution_count": 22,
   "id": "723732fb",
   "metadata": {
    "ExecuteTime": {
     "end_time": "2023-11-21T08:46:21.873575Z",
     "start_time": "2023-11-21T08:46:21.829596Z"
    }
   },
   "outputs": [
    {
     "data": {
      "text/html": [
       "<div>\n",
       "<style scoped>\n",
       "    .dataframe tbody tr th:only-of-type {\n",
       "        vertical-align: middle;\n",
       "    }\n",
       "\n",
       "    .dataframe tbody tr th {\n",
       "        vertical-align: top;\n",
       "    }\n",
       "\n",
       "    .dataframe thead th {\n",
       "        text-align: right;\n",
       "    }\n",
       "</style>\n",
       "<table border=\"1\" class=\"dataframe\">\n",
       "  <thead>\n",
       "    <tr style=\"text-align: right;\">\n",
       "      <th></th>\n",
       "      <th>exchange_timestamp</th>\n",
       "      <th>end_download_timestamp</th>\n",
       "      <th>knowledge_timestamp</th>\n",
       "    </tr>\n",
       "    <tr>\n",
       "      <th>timestamp</th>\n",
       "      <th></th>\n",
       "      <th></th>\n",
       "      <th></th>\n",
       "    </tr>\n",
       "  </thead>\n",
       "  <tbody>\n",
       "    <tr>\n",
       "      <th>1700211724015</th>\n",
       "      <td>2023-11-17 09:02:04.015000+00:00</td>\n",
       "      <td>2023-11-17 09:02:04.314845+00:00</td>\n",
       "      <td>2023-11-17 09:02:04.541776+00:00</td>\n",
       "    </tr>\n",
       "    <tr>\n",
       "      <th>1700211724021</th>\n",
       "      <td>2023-11-17 09:02:04.021000+00:00</td>\n",
       "      <td>2023-11-17 09:02:04.308470+00:00</td>\n",
       "      <td>2023-11-17 09:02:04.541776+00:00</td>\n",
       "    </tr>\n",
       "    <tr>\n",
       "      <th>1700211724041</th>\n",
       "      <td>2023-11-17 09:02:04.041000+00:00</td>\n",
       "      <td>2023-11-17 09:02:04.303886+00:00</td>\n",
       "      <td>2023-11-17 09:02:04.541776+00:00</td>\n",
       "    </tr>\n",
       "    <tr>\n",
       "      <th>1700211724052</th>\n",
       "      <td>2023-11-17 09:02:04.052000+00:00</td>\n",
       "      <td>2023-11-17 09:02:04.307567+00:00</td>\n",
       "      <td>2023-11-17 09:02:04.541776+00:00</td>\n",
       "    </tr>\n",
       "    <tr>\n",
       "      <th>1700211724057</th>\n",
       "      <td>2023-11-17 09:02:04.057000+00:00</td>\n",
       "      <td>2023-11-17 09:02:04.305434+00:00</td>\n",
       "      <td>2023-11-17 09:02:04.541776+00:00</td>\n",
       "    </tr>\n",
       "  </tbody>\n",
       "</table>\n",
       "</div>"
      ],
      "text/plain": [
       "                            exchange_timestamp  \\\n",
       "timestamp                                        \n",
       "1700211724015 2023-11-17 09:02:04.015000+00:00   \n",
       "1700211724021 2023-11-17 09:02:04.021000+00:00   \n",
       "1700211724041 2023-11-17 09:02:04.041000+00:00   \n",
       "1700211724052 2023-11-17 09:02:04.052000+00:00   \n",
       "1700211724057 2023-11-17 09:02:04.057000+00:00   \n",
       "\n",
       "                        end_download_timestamp  \\\n",
       "timestamp                                        \n",
       "1700211724015 2023-11-17 09:02:04.314845+00:00   \n",
       "1700211724021 2023-11-17 09:02:04.308470+00:00   \n",
       "1700211724041 2023-11-17 09:02:04.303886+00:00   \n",
       "1700211724052 2023-11-17 09:02:04.307567+00:00   \n",
       "1700211724057 2023-11-17 09:02:04.305434+00:00   \n",
       "\n",
       "                           knowledge_timestamp  \n",
       "timestamp                                       \n",
       "1700211724015 2023-11-17 09:02:04.541776+00:00  \n",
       "1700211724021 2023-11-17 09:02:04.541776+00:00  \n",
       "1700211724041 2023-11-17 09:02:04.541776+00:00  \n",
       "1700211724052 2023-11-17 09:02:04.541776+00:00  \n",
       "1700211724057 2023-11-17 09:02:04.541776+00:00  "
      ]
     },
     "execution_count": 22,
     "metadata": {},
     "output_type": "execute_result"
    }
   ],
   "source": [
    "time.head()"
   ]
  },
  {
   "cell_type": "code",
   "execution_count": 12,
   "id": "70ed6438",
   "metadata": {
    "ExecuteTime": {
     "end_time": "2023-11-21T08:34:30.248444Z",
     "start_time": "2023-11-21T08:34:30.208291Z"
    }
   },
   "outputs": [
    {
     "data": {
      "text/html": [
       "<div>\n",
       "<style scoped>\n",
       "    .dataframe tbody tr th:only-of-type {\n",
       "        vertical-align: middle;\n",
       "    }\n",
       "\n",
       "    .dataframe tbody tr th {\n",
       "        vertical-align: top;\n",
       "    }\n",
       "\n",
       "    .dataframe thead th {\n",
       "        text-align: right;\n",
       "    }\n",
       "</style>\n",
       "<table border=\"1\" class=\"dataframe\">\n",
       "  <thead>\n",
       "    <tr style=\"text-align: right;\">\n",
       "      <th></th>\n",
       "      <th>currency_pair</th>\n",
       "      <th>exchange_id</th>\n",
       "      <th>end_download_timestamp</th>\n",
       "      <th>knowledge_timestamp</th>\n",
       "      <th>bid_size_l1</th>\n",
       "      <th>bid_size_l2</th>\n",
       "      <th>bid_size_l3</th>\n",
       "      <th>bid_size_l4</th>\n",
       "      <th>bid_size_l5</th>\n",
       "      <th>bid_size_l6</th>\n",
       "      <th>...</th>\n",
       "      <th>ask_price_l2</th>\n",
       "      <th>ask_price_l3</th>\n",
       "      <th>ask_price_l4</th>\n",
       "      <th>ask_price_l5</th>\n",
       "      <th>ask_price_l6</th>\n",
       "      <th>ask_price_l7</th>\n",
       "      <th>ask_price_l8</th>\n",
       "      <th>ask_price_l9</th>\n",
       "      <th>ask_price_l10</th>\n",
       "      <th>exchange_timestamp</th>\n",
       "    </tr>\n",
       "    <tr>\n",
       "      <th>timestamp</th>\n",
       "      <th></th>\n",
       "      <th></th>\n",
       "      <th></th>\n",
       "      <th></th>\n",
       "      <th></th>\n",
       "      <th></th>\n",
       "      <th></th>\n",
       "      <th></th>\n",
       "      <th></th>\n",
       "      <th></th>\n",
       "      <th></th>\n",
       "      <th></th>\n",
       "      <th></th>\n",
       "      <th></th>\n",
       "      <th></th>\n",
       "      <th></th>\n",
       "      <th></th>\n",
       "      <th></th>\n",
       "      <th></th>\n",
       "      <th></th>\n",
       "      <th></th>\n",
       "    </tr>\n",
       "  </thead>\n",
       "  <tbody>\n",
       "    <tr>\n",
       "      <th>1700211724089</th>\n",
       "      <td>APE_USDT</td>\n",
       "      <td>binance</td>\n",
       "      <td>2023-11-17 09:02:04.297465+00:00</td>\n",
       "      <td>2023-11-17 09:02:04.541776+00:00</td>\n",
       "      <td>18370.0</td>\n",
       "      <td>59594.0</td>\n",
       "      <td>52584.0</td>\n",
       "      <td>71284.0</td>\n",
       "      <td>75498.0</td>\n",
       "      <td>65850.0</td>\n",
       "      <td>...</td>\n",
       "      <td>1.404</td>\n",
       "      <td>1.405</td>\n",
       "      <td>1.406</td>\n",
       "      <td>1.407</td>\n",
       "      <td>1.408</td>\n",
       "      <td>1.409</td>\n",
       "      <td>1.41</td>\n",
       "      <td>1.411</td>\n",
       "      <td>1.412</td>\n",
       "      <td>2023-11-17 09:02:04.089000+00:00</td>\n",
       "    </tr>\n",
       "    <tr>\n",
       "      <th>1700211724191</th>\n",
       "      <td>APE_USDT</td>\n",
       "      <td>binance</td>\n",
       "      <td>2023-11-17 09:02:04.481492+00:00</td>\n",
       "      <td>2023-11-17 09:02:04.541776+00:00</td>\n",
       "      <td>18370.0</td>\n",
       "      <td>59594.0</td>\n",
       "      <td>52584.0</td>\n",
       "      <td>71284.0</td>\n",
       "      <td>75498.0</td>\n",
       "      <td>65850.0</td>\n",
       "      <td>...</td>\n",
       "      <td>1.404</td>\n",
       "      <td>1.405</td>\n",
       "      <td>1.406</td>\n",
       "      <td>1.407</td>\n",
       "      <td>1.408</td>\n",
       "      <td>1.409</td>\n",
       "      <td>1.41</td>\n",
       "      <td>1.411</td>\n",
       "      <td>1.412</td>\n",
       "      <td>2023-11-17 09:02:04.191000+00:00</td>\n",
       "    </tr>\n",
       "    <tr>\n",
       "      <th>1700211724674</th>\n",
       "      <td>APE_USDT</td>\n",
       "      <td>binance</td>\n",
       "      <td>2023-11-17 09:02:04.910208+00:00</td>\n",
       "      <td>2023-11-17 09:02:04.944851+00:00</td>\n",
       "      <td>18370.0</td>\n",
       "      <td>59594.0</td>\n",
       "      <td>54231.0</td>\n",
       "      <td>71284.0</td>\n",
       "      <td>76546.0</td>\n",
       "      <td>65850.0</td>\n",
       "      <td>...</td>\n",
       "      <td>1.404</td>\n",
       "      <td>1.405</td>\n",
       "      <td>1.406</td>\n",
       "      <td>1.407</td>\n",
       "      <td>1.408</td>\n",
       "      <td>1.409</td>\n",
       "      <td>1.41</td>\n",
       "      <td>1.411</td>\n",
       "      <td>1.412</td>\n",
       "      <td>2023-11-17 09:02:04.674000+00:00</td>\n",
       "    </tr>\n",
       "    <tr>\n",
       "      <th>1700211724921</th>\n",
       "      <td>APE_USDT</td>\n",
       "      <td>binance</td>\n",
       "      <td>2023-11-17 09:02:05.130985+00:00</td>\n",
       "      <td>2023-11-17 09:02:05.395334+00:00</td>\n",
       "      <td>18376.0</td>\n",
       "      <td>59594.0</td>\n",
       "      <td>54231.0</td>\n",
       "      <td>71284.0</td>\n",
       "      <td>76546.0</td>\n",
       "      <td>65850.0</td>\n",
       "      <td>...</td>\n",
       "      <td>1.404</td>\n",
       "      <td>1.405</td>\n",
       "      <td>1.406</td>\n",
       "      <td>1.407</td>\n",
       "      <td>1.408</td>\n",
       "      <td>1.409</td>\n",
       "      <td>1.41</td>\n",
       "      <td>1.411</td>\n",
       "      <td>1.412</td>\n",
       "      <td>2023-11-17 09:02:04.921000+00:00</td>\n",
       "    </tr>\n",
       "    <tr>\n",
       "      <th>1700211725131</th>\n",
       "      <td>APE_USDT</td>\n",
       "      <td>binance</td>\n",
       "      <td>2023-11-17 09:02:05.322279+00:00</td>\n",
       "      <td>2023-11-17 09:02:05.395334+00:00</td>\n",
       "      <td>18376.0</td>\n",
       "      <td>59594.0</td>\n",
       "      <td>54231.0</td>\n",
       "      <td>71284.0</td>\n",
       "      <td>76546.0</td>\n",
       "      <td>66916.0</td>\n",
       "      <td>...</td>\n",
       "      <td>1.404</td>\n",
       "      <td>1.405</td>\n",
       "      <td>1.406</td>\n",
       "      <td>1.407</td>\n",
       "      <td>1.408</td>\n",
       "      <td>1.409</td>\n",
       "      <td>1.41</td>\n",
       "      <td>1.411</td>\n",
       "      <td>1.412</td>\n",
       "      <td>2023-11-17 09:02:05.131000+00:00</td>\n",
       "    </tr>\n",
       "  </tbody>\n",
       "</table>\n",
       "<p>5 rows × 45 columns</p>\n",
       "</div>"
      ],
      "text/plain": [
       "              currency_pair exchange_id           end_download_timestamp  \\\n",
       "timestamp                                                                  \n",
       "1700211724089      APE_USDT     binance 2023-11-17 09:02:04.297465+00:00   \n",
       "1700211724191      APE_USDT     binance 2023-11-17 09:02:04.481492+00:00   \n",
       "1700211724674      APE_USDT     binance 2023-11-17 09:02:04.910208+00:00   \n",
       "1700211724921      APE_USDT     binance 2023-11-17 09:02:05.130985+00:00   \n",
       "1700211725131      APE_USDT     binance 2023-11-17 09:02:05.322279+00:00   \n",
       "\n",
       "                           knowledge_timestamp  bid_size_l1  bid_size_l2  \\\n",
       "timestamp                                                                  \n",
       "1700211724089 2023-11-17 09:02:04.541776+00:00      18370.0      59594.0   \n",
       "1700211724191 2023-11-17 09:02:04.541776+00:00      18370.0      59594.0   \n",
       "1700211724674 2023-11-17 09:02:04.944851+00:00      18370.0      59594.0   \n",
       "1700211724921 2023-11-17 09:02:05.395334+00:00      18376.0      59594.0   \n",
       "1700211725131 2023-11-17 09:02:05.395334+00:00      18376.0      59594.0   \n",
       "\n",
       "               bid_size_l3  bid_size_l4  bid_size_l5  bid_size_l6  ...  \\\n",
       "timestamp                                                          ...   \n",
       "1700211724089      52584.0      71284.0      75498.0      65850.0  ...   \n",
       "1700211724191      52584.0      71284.0      75498.0      65850.0  ...   \n",
       "1700211724674      54231.0      71284.0      76546.0      65850.0  ...   \n",
       "1700211724921      54231.0      71284.0      76546.0      65850.0  ...   \n",
       "1700211725131      54231.0      71284.0      76546.0      66916.0  ...   \n",
       "\n",
       "               ask_price_l2  ask_price_l3  ask_price_l4  ask_price_l5  \\\n",
       "timestamp                                                               \n",
       "1700211724089         1.404         1.405         1.406         1.407   \n",
       "1700211724191         1.404         1.405         1.406         1.407   \n",
       "1700211724674         1.404         1.405         1.406         1.407   \n",
       "1700211724921         1.404         1.405         1.406         1.407   \n",
       "1700211725131         1.404         1.405         1.406         1.407   \n",
       "\n",
       "               ask_price_l6  ask_price_l7  ask_price_l8  ask_price_l9  \\\n",
       "timestamp                                                               \n",
       "1700211724089         1.408         1.409          1.41         1.411   \n",
       "1700211724191         1.408         1.409          1.41         1.411   \n",
       "1700211724674         1.408         1.409          1.41         1.411   \n",
       "1700211724921         1.408         1.409          1.41         1.411   \n",
       "1700211725131         1.408         1.409          1.41         1.411   \n",
       "\n",
       "               ask_price_l10               exchange_timestamp  \n",
       "timestamp                                                      \n",
       "1700211724089          1.412 2023-11-17 09:02:04.089000+00:00  \n",
       "1700211724191          1.412 2023-11-17 09:02:04.191000+00:00  \n",
       "1700211724674          1.412 2023-11-17 09:02:04.674000+00:00  \n",
       "1700211724921          1.412 2023-11-17 09:02:04.921000+00:00  \n",
       "1700211725131          1.412 2023-11-17 09:02:05.131000+00:00  \n",
       "\n",
       "[5 rows x 45 columns]"
      ]
     },
     "execution_count": 12,
     "metadata": {},
     "output_type": "execute_result"
    }
   ],
   "source": [
    "df.head()"
   ]
  },
  {
   "cell_type": "code",
   "execution_count": 13,
   "id": "e4fcb796",
   "metadata": {
    "ExecuteTime": {
     "end_time": "2023-11-21T08:34:30.272685Z",
     "start_time": "2023-11-21T08:34:30.257606Z"
    }
   },
   "outputs": [
    {
     "data": {
      "text/plain": [
       "120771"
      ]
     },
     "execution_count": 13,
     "metadata": {},
     "output_type": "execute_result"
    }
   ],
   "source": [
    "len(df)"
   ]
  },
  {
   "cell_type": "code",
   "execution_count": 14,
   "id": "d6990211",
   "metadata": {
    "ExecuteTime": {
     "end_time": "2023-11-21T08:34:30.298570Z",
     "start_time": "2023-11-21T08:34:30.275668Z"
    }
   },
   "outputs": [],
   "source": [
    "time = time.sort_index()"
   ]
  },
  {
   "cell_type": "code",
   "execution_count": 15,
   "id": "9afc5dc1",
   "metadata": {
    "ExecuteTime": {
     "end_time": "2023-11-21T08:34:31.170667Z",
     "start_time": "2023-11-21T08:34:30.301759Z"
    }
   },
   "outputs": [
    {
     "data": {
      "text/plain": [
       "<Axes: ylabel='Time delay'>"
      ]
     },
     "execution_count": 15,
     "metadata": {},
     "output_type": "execute_result"
    },
    {
     "data": {
      "image/png": "[encoded data removed]",
      "text/plain": [
       "<Figure size 640x480 with 1 Axes>"
      ]
     },
     "metadata": {},
     "output_type": "display_data"
    }
   ],
   "source": [
    "time_delays = obccexqu.get_time_delay_between_events(time)\n",
    "time_delays.boxplot(rot=45, ylabel=\"Time delay\")"
   ]
  },
  {
   "cell_type": "code",
   "execution_count": 16,
   "id": "0eb82337",
   "metadata": {
    "ExecuteTime": {
     "end_time": "2023-11-21T08:34:31.204122Z",
     "start_time": "2023-11-21T08:34:31.173756Z"
    }
   },
   "outputs": [
    {
     "data": {
      "text/html": [
       "<div>\n",
       "<style scoped>\n",
       "    .dataframe tbody tr th:only-of-type {\n",
       "        vertical-align: middle;\n",
       "    }\n",
       "\n",
       "    .dataframe tbody tr th {\n",
       "        vertical-align: top;\n",
       "    }\n",
       "\n",
       "    .dataframe thead th {\n",
       "        text-align: right;\n",
       "    }\n",
       "</style>\n",
       "<table border=\"1\" class=\"dataframe\">\n",
       "  <thead>\n",
       "    <tr style=\"text-align: right;\">\n",
       "      <th></th>\n",
       "      <th>exchange_timestamp</th>\n",
       "      <th>end_download_timestamp</th>\n",
       "      <th>knowledge_timestamp</th>\n",
       "    </tr>\n",
       "    <tr>\n",
       "      <th>timestamp</th>\n",
       "      <th></th>\n",
       "      <th></th>\n",
       "      <th></th>\n",
       "    </tr>\n",
       "  </thead>\n",
       "  <tbody>\n",
       "    <tr>\n",
       "      <th>1700211724162</th>\n",
       "      <td>0.0</td>\n",
       "      <td>0.333148</td>\n",
       "      <td>0.379776</td>\n",
       "    </tr>\n",
       "    <tr>\n",
       "      <th>1700211724563</th>\n",
       "      <td>0.0</td>\n",
       "      <td>0.356891</td>\n",
       "      <td>0.381851</td>\n",
       "    </tr>\n",
       "    <tr>\n",
       "      <th>1700211725251</th>\n",
       "      <td>0.0</td>\n",
       "      <td>0.502273</td>\n",
       "      <td>0.549816</td>\n",
       "    </tr>\n",
       "    <tr>\n",
       "      <th>1700211725274</th>\n",
       "      <td>0.0</td>\n",
       "      <td>0.478344</td>\n",
       "      <td>0.526816</td>\n",
       "    </tr>\n",
       "    <tr>\n",
       "      <th>1700211725285</th>\n",
       "      <td>0.0</td>\n",
       "      <td>0.464142</td>\n",
       "      <td>0.515816</td>\n",
       "    </tr>\n",
       "    <tr>\n",
       "      <th>...</th>\n",
       "      <td>...</td>\n",
       "      <td>...</td>\n",
       "      <td>...</td>\n",
       "    </tr>\n",
       "    <tr>\n",
       "      <th>1700212918797</th>\n",
       "      <td>0.0</td>\n",
       "      <td>0.337944</td>\n",
       "      <td>0.370817</td>\n",
       "    </tr>\n",
       "    <tr>\n",
       "      <th>1700212919001</th>\n",
       "      <td>0.0</td>\n",
       "      <td>0.339753</td>\n",
       "      <td>0.563301</td>\n",
       "    </tr>\n",
       "    <tr>\n",
       "      <th>1700212919027</th>\n",
       "      <td>0.0</td>\n",
       "      <td>0.305003</td>\n",
       "      <td>0.537301</td>\n",
       "    </tr>\n",
       "    <tr>\n",
       "      <th>1700212919240</th>\n",
       "      <td>0.0</td>\n",
       "      <td>0.302133</td>\n",
       "      <td>0.324301</td>\n",
       "    </tr>\n",
       "    <tr>\n",
       "      <th>1700212919645</th>\n",
       "      <td>0.0</td>\n",
       "      <td>0.303067</td>\n",
       "      <td>0.340255</td>\n",
       "    </tr>\n",
       "  </tbody>\n",
       "</table>\n",
       "<p>10300 rows × 3 columns</p>\n",
       "</div>"
      ],
      "text/plain": [
       "               exchange_timestamp  end_download_timestamp  knowledge_timestamp\n",
       "timestamp                                                                     \n",
       "1700211724162                 0.0                0.333148             0.379776\n",
       "1700211724563                 0.0                0.356891             0.381851\n",
       "1700211725251                 0.0                0.502273             0.549816\n",
       "1700211725274                 0.0                0.478344             0.526816\n",
       "1700211725285                 0.0                0.464142             0.515816\n",
       "...                           ...                     ...                  ...\n",
       "1700212918797                 0.0                0.337944             0.370817\n",
       "1700212919001                 0.0                0.339753             0.563301\n",
       "1700212919027                 0.0                0.305003             0.537301\n",
       "1700212919240                 0.0                0.302133             0.324301\n",
       "1700212919645                 0.0                0.303067             0.340255\n",
       "\n",
       "[10300 rows x 3 columns]"
      ]
     },
     "execution_count": 16,
     "metadata": {},
     "output_type": "execute_result"
    }
   ],
   "source": [
    "time_delays[time_delays[\"end_download_timestamp\"] > 0.3]"
   ]
  },
  {
   "cell_type": "code",
   "execution_count": 17,
   "id": "06920577",
   "metadata": {
    "ExecuteTime": {
     "end_time": "2023-11-21T08:34:31.789930Z",
     "start_time": "2023-11-21T08:34:31.206835Z"
    }
   },
   "outputs": [],
   "source": [
    "# Get duplicates per asset\n",
    "subset_columns = df.columns.difference(\n",
    "    [\n",
    "        \"end_download_timestamp\",\n",
    "        \"knowledge_timestamp\",\n",
    "        \"currency_pair\",\n",
    "    ]\n",
    ")\n",
    "duplicates_count = (\n",
    "    df.groupby([\"currency_pair\"] + list(subset_columns))\n",
    "    .size()\n",
    "    .reset_index(name=\"count\")\n",
    ")"
   ]
  },
  {
   "cell_type": "code",
   "execution_count": 18,
   "id": "2cd16e87",
   "metadata": {
    "ExecuteTime": {
     "end_time": "2023-11-21T08:34:31.825082Z",
     "start_time": "2023-11-21T08:34:31.793488Z"
    }
   },
   "outputs": [],
   "source": [
    "duplicate_rows = duplicates_count[duplicates_count[\"count\"] > 1]"
   ]
  },
  {
   "cell_type": "code",
   "execution_count": 19,
   "id": "42167097",
   "metadata": {
    "ExecuteTime": {
     "end_time": "2023-11-21T08:34:31.840314Z",
     "start_time": "2023-11-21T08:34:31.829715Z"
    }
   },
   "outputs": [
    {
     "data": {
      "text/plain": [
       "Series([], Name: count, dtype: int64)"
      ]
     },
     "execution_count": 19,
     "metadata": {},
     "output_type": "execute_result"
    }
   ],
   "source": [
    "duplicate_rows.groupby(\"currency_pair\")[\"count\"].count()"
   ]
  },
  {
   "cell_type": "code",
   "execution_count": 20,
   "id": "4712ca6b",
   "metadata": {
    "ExecuteTime": {
     "end_time": "2023-11-21T08:34:46.222134Z",
     "start_time": "2023-11-21T08:34:31.843860Z"
    }
   },
   "outputs": [],
   "source": [
    "duplicate_groups = df.groupby([\"currency_pair\"] + list(subset_columns))\n",
    "limit = 10\n",
    "for (row, group) in duplicate_groups:\n",
    "    if limit == 0:\n",
    "        break\n",
    "    if len(group) > 1:\n",
    "        print(group.head())\n",
    "        limit -= 1"
   ]
  },
  {
   "cell_type": "code",
   "execution_count": null,
   "id": "8a925610",
   "metadata": {},
   "outputs": [],
   "source": []
  }
 ],
 "metadata": {
  "kernelspec": {
   "display_name": "Python 3 (ipykernel)",
   "language": "python",
   "name": "python3"
  },
  "language_info": {
   "codemirror_mode": {
    "name": "ipython",
    "version": 3
   },
   "file_extension": ".py",
   "mimetype": "text/x-python",
   "name": "python",
   "nbconvert_exporter": "python",
   "pygments_lexer": "ipython3",
   "version": "3.9.5"
  },
  "toc": {
   "base_numbering": 1,
   "nav_menu": {},
   "number_sections": true,
   "sideBar": true,
   "skip_h1_title": false,
   "title_cell": "Table of Contents",
   "title_sidebar": "Contents",
   "toc_cell": false,
   "toc_position": {},
   "toc_section_display": true,
   "toc_window_display": false
  }
 },
 "nbformat": 4,
 "nbformat_minor": 5
}
