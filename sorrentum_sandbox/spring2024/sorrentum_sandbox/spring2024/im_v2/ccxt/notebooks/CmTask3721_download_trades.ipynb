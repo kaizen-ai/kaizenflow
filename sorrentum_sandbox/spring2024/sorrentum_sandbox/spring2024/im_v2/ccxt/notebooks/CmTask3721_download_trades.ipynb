{
 "cells": [
  {
   "cell_type": "markdown",
   "id": "031707a8",
   "metadata": {},
   "source": [
    "# Imports"
   ]
  },
  {
   "cell_type": "code",
   "execution_count": null,
   "outputs": [],
   "source": [],
   "metadata": {
    "collapsed": false
   }
  },
  {
   "cell_type": "code",
   "execution_count": 1,
   "id": "3ef6edfa",
   "metadata": {},
   "outputs": [],
   "source": [
    "%load_ext autoreload\n",
    "%autoreload 2\n",
    "%reload_ext autoreload\n",
    "\n",
    "import pandas as pd\n",
    "import helpers.hdatetime as hdateti"
   ]
  },
  {
   "cell_type": "markdown",
   "id": "48292240",
   "metadata": {},
   "source": [
    "# Get trades data by CryptoChassis"
   ]
  },
  {
   "cell_type": "code",
   "execution_count": 2,
   "id": "57f00717",
   "metadata": {},
   "outputs": [],
   "source": [
    "import im_v2.crypto_chassis.data.extract.extractor as imvccdexex\n",
    "\n",
    "contract_type = \"futures\"\n",
    "\n",
    "cc_extractor = imvccdexex.CryptoChassisExtractor(\n",
    "    contract_type\n",
    ")"
   ]
  },
  {
   "cell_type": "code",
   "execution_count": 3,
   "id": "a531358b",
   "metadata": {},
   "outputs": [],
   "source": [
    "currency_pair = \"BTC_USDT\"\n",
    "exchange_id = \"binance\"\n",
    "start_timestamp = pd.Timestamp(\"2023-01-01 00:00:01\")\n",
    "end_timestamp = hdateti.convert_timestamp_to_unix_epoch(pd.Timestamp(\"2023-01-01 00:10:01\"), unit=\"s\")\n",
    "\n",
    "\n",
    "cc_data = cc_extractor._download_trades(\n",
    "    exchange_id,\n",
    "    currency_pair,\n",
    "    start_timestamp=start_timestamp\n",
    ")"
   ]
  },
  {
   "cell_type": "code",
   "execution_count": 4,
   "id": "dcc4559e",
   "metadata": {},
   "outputs": [
    {
     "data": {
      "text/html": [
       "<div>\n",
       "<style scoped>\n",
       "    .dataframe tbody tr th:only-of-type {\n",
       "        vertical-align: middle;\n",
       "    }\n",
       "\n",
       "    .dataframe tbody tr th {\n",
       "        vertical-align: top;\n",
       "    }\n",
       "\n",
       "    .dataframe thead th {\n",
       "        text-align: right;\n",
       "    }\n",
       "</style>\n",
       "<table border=\"1\" class=\"dataframe\">\n",
       "  <thead>\n",
       "    <tr style=\"text-align: right;\">\n",
       "      <th></th>\n",
       "      <th>timestamp</th>\n",
       "      <th>price</th>\n",
       "      <th>size</th>\n",
       "      <th>is_buyer_maker</th>\n",
       "    </tr>\n",
       "  </thead>\n",
       "  <tbody>\n",
       "    <tr>\n",
       "      <th>0</th>\n",
       "      <td>1672531204</td>\n",
       "      <td>16537.5</td>\n",
       "      <td>0.004</td>\n",
       "      <td>1</td>\n",
       "    </tr>\n",
       "    <tr>\n",
       "      <th>1</th>\n",
       "      <td>1672531204</td>\n",
       "      <td>16537.6</td>\n",
       "      <td>0.232</td>\n",
       "      <td>0</td>\n",
       "    </tr>\n",
       "    <tr>\n",
       "      <th>2</th>\n",
       "      <td>1672531204</td>\n",
       "      <td>16537.5</td>\n",
       "      <td>0.445</td>\n",
       "      <td>1</td>\n",
       "    </tr>\n",
       "    <tr>\n",
       "      <th>3</th>\n",
       "      <td>1672531204</td>\n",
       "      <td>16537.6</td>\n",
       "      <td>0.792</td>\n",
       "      <td>0</td>\n",
       "    </tr>\n",
       "    <tr>\n",
       "      <th>4</th>\n",
       "      <td>1672531204</td>\n",
       "      <td>16537.5</td>\n",
       "      <td>0.081</td>\n",
       "      <td>1</td>\n",
       "    </tr>\n",
       "    <tr>\n",
       "      <th>...</th>\n",
       "      <td>...</td>\n",
       "      <td>...</td>\n",
       "      <td>...</td>\n",
       "      <td>...</td>\n",
       "    </tr>\n",
       "    <tr>\n",
       "      <th>2314</th>\n",
       "      <td>1672531799</td>\n",
       "      <td>16521.5</td>\n",
       "      <td>0.013</td>\n",
       "      <td>0</td>\n",
       "    </tr>\n",
       "    <tr>\n",
       "      <th>2315</th>\n",
       "      <td>1672531799</td>\n",
       "      <td>16521.5</td>\n",
       "      <td>4.498</td>\n",
       "      <td>0</td>\n",
       "    </tr>\n",
       "    <tr>\n",
       "      <th>2316</th>\n",
       "      <td>1672531799</td>\n",
       "      <td>16521.5</td>\n",
       "      <td>0.553</td>\n",
       "      <td>0</td>\n",
       "    </tr>\n",
       "    <tr>\n",
       "      <th>2317</th>\n",
       "      <td>1672531800</td>\n",
       "      <td>16521.4</td>\n",
       "      <td>0.605</td>\n",
       "      <td>1</td>\n",
       "    </tr>\n",
       "    <tr>\n",
       "      <th>2318</th>\n",
       "      <td>1672531800</td>\n",
       "      <td>16521.4</td>\n",
       "      <td>0.197</td>\n",
       "      <td>1</td>\n",
       "    </tr>\n",
       "  </tbody>\n",
       "</table>\n",
       "<p>2319 rows × 4 columns</p>\n",
       "</div>"
      ],
      "text/plain": [
       "       timestamp    price   size  is_buyer_maker\n",
       "0     1672531204  16537.5  0.004               1\n",
       "1     1672531204  16537.6  0.232               0\n",
       "2     1672531204  16537.5  0.445               1\n",
       "3     1672531204  16537.6  0.792               0\n",
       "4     1672531204  16537.5  0.081               1\n",
       "...          ...      ...    ...             ...\n",
       "2314  1672531799  16521.5  0.013               0\n",
       "2315  1672531799  16521.5  4.498               0\n",
       "2316  1672531799  16521.5  0.553               0\n",
       "2317  1672531800  16521.4  0.605               1\n",
       "2318  1672531800  16521.4  0.197               1\n",
       "\n",
       "[2319 rows x 4 columns]"
      ]
     },
     "execution_count": 4,
     "metadata": {},
     "output_type": "execute_result"
    }
   ],
   "source": [
    "cc_data = cc_data[cc_data.timestamp < end_timestamp]\n",
    "cc_data"
   ]
  },
  {
   "cell_type": "code",
   "execution_count": 5,
   "id": "b2799be0",
   "metadata": {},
   "outputs": [
    {
     "data": {
      "text/html": [
       "<div>\n",
       "<style scoped>\n",
       "    .dataframe tbody tr th:only-of-type {\n",
       "        vertical-align: middle;\n",
       "    }\n",
       "\n",
       "    .dataframe tbody tr th {\n",
       "        vertical-align: top;\n",
       "    }\n",
       "\n",
       "    .dataframe thead th {\n",
       "        text-align: right;\n",
       "    }\n",
       "</style>\n",
       "<table border=\"1\" class=\"dataframe\">\n",
       "  <thead>\n",
       "    <tr style=\"text-align: right;\">\n",
       "      <th></th>\n",
       "      <th>timestamp</th>\n",
       "    </tr>\n",
       "  </thead>\n",
       "  <tbody>\n",
       "    <tr>\n",
       "      <th>min</th>\n",
       "      <td>2023-01-01 00:00:04</td>\n",
       "    </tr>\n",
       "    <tr>\n",
       "      <th>max</th>\n",
       "      <td>2023-01-01 00:10:00</td>\n",
       "    </tr>\n",
       "  </tbody>\n",
       "</table>\n",
       "</div>"
      ],
      "text/plain": [
       "              timestamp\n",
       "min 2023-01-01 00:00:04\n",
       "max 2023-01-01 00:10:00"
      ]
     },
     "execution_count": 5,
     "metadata": {},
     "output_type": "execute_result"
    }
   ],
   "source": [
    "cc_data[[\"timestamp\"]].agg([\"min\", \"max\"]).apply(pd.to_datetime, unit=\"s\")"
   ]
  },
  {
   "cell_type": "markdown",
   "id": "b4861bb6",
   "metadata": {},
   "source": [
    "# Get trades data by Ccxt"
   ]
  },
  {
   "cell_type": "markdown",
   "id": "707abd3d",
   "metadata": {},
   "source": [
    " Seems like we don't need takeOrMaker\n",
    " https://github.com/ccxt/ccxt/issues/4201"
   ]
  },
  {
   "cell_type": "code",
   "execution_count": 6,
   "id": "b96644f3",
   "metadata": {
    "lines_to_next_cell": 2
   },
   "outputs": [],
   "source": [
    "import im_v2.ccxt.data.extract.extractor as ivcdexex\n",
    "\n",
    "exchange_id = \"binance\"\n",
    "contract_type = \"futures\"\n",
    "\n",
    "ccxt_extractor = ivcdexex.CcxtExtractor(exchange_id, contract_type)"
   ]
  },
  {
   "cell_type": "code",
   "execution_count": 7,
   "id": "32885506",
   "metadata": {},
   "outputs": [
    {
     "data": {
      "text/html": [
       "<div>\n",
       "<style scoped>\n",
       "    .dataframe tbody tr th:only-of-type {\n",
       "        vertical-align: middle;\n",
       "    }\n",
       "\n",
       "    .dataframe tbody tr th {\n",
       "        vertical-align: top;\n",
       "    }\n",
       "\n",
       "    .dataframe thead th {\n",
       "        text-align: right;\n",
       "    }\n",
       "</style>\n",
       "<table border=\"1\" class=\"dataframe\">\n",
       "  <thead>\n",
       "    <tr style=\"text-align: right;\">\n",
       "      <th></th>\n",
       "      <th>timestamp</th>\n",
       "      <th>symbol</th>\n",
       "      <th>side</th>\n",
       "      <th>price</th>\n",
       "      <th>amount</th>\n",
       "      <th>end_download_timestamp</th>\n",
       "    </tr>\n",
       "  </thead>\n",
       "  <tbody>\n",
       "    <tr>\n",
       "      <th>0</th>\n",
       "      <td>1672531204118</td>\n",
       "      <td>BTC/USDT:USDT</td>\n",
       "      <td>sell</td>\n",
       "      <td>16537.5</td>\n",
       "      <td>0.004</td>\n",
       "      <td>2023-02-06 17:18:18.159622+00:00</td>\n",
       "    </tr>\n",
       "    <tr>\n",
       "      <th>1</th>\n",
       "      <td>1672531204178</td>\n",
       "      <td>BTC/USDT:USDT</td>\n",
       "      <td>buy</td>\n",
       "      <td>16537.6</td>\n",
       "      <td>0.232</td>\n",
       "      <td>2023-02-06 17:18:18.159622+00:00</td>\n",
       "    </tr>\n",
       "    <tr>\n",
       "      <th>2</th>\n",
       "      <td>1672531204209</td>\n",
       "      <td>BTC/USDT:USDT</td>\n",
       "      <td>sell</td>\n",
       "      <td>16537.5</td>\n",
       "      <td>0.445</td>\n",
       "      <td>2023-02-06 17:18:18.159622+00:00</td>\n",
       "    </tr>\n",
       "    <tr>\n",
       "      <th>3</th>\n",
       "      <td>1672531204229</td>\n",
       "      <td>BTC/USDT:USDT</td>\n",
       "      <td>buy</td>\n",
       "      <td>16537.6</td>\n",
       "      <td>0.792</td>\n",
       "      <td>2023-02-06 17:18:18.159622+00:00</td>\n",
       "    </tr>\n",
       "    <tr>\n",
       "      <th>4</th>\n",
       "      <td>1672531204229</td>\n",
       "      <td>BTC/USDT:USDT</td>\n",
       "      <td>sell</td>\n",
       "      <td>16537.5</td>\n",
       "      <td>0.081</td>\n",
       "      <td>2023-02-06 17:18:18.159622+00:00</td>\n",
       "    </tr>\n",
       "    <tr>\n",
       "      <th>...</th>\n",
       "      <td>...</td>\n",
       "      <td>...</td>\n",
       "      <td>...</td>\n",
       "      <td>...</td>\n",
       "      <td>...</td>\n",
       "      <td>...</td>\n",
       "    </tr>\n",
       "    <tr>\n",
       "      <th>2314</th>\n",
       "      <td>1672531799211</td>\n",
       "      <td>BTC/USDT:USDT</td>\n",
       "      <td>buy</td>\n",
       "      <td>16521.5</td>\n",
       "      <td>0.013</td>\n",
       "      <td>2023-02-06 17:18:18.159622+00:00</td>\n",
       "    </tr>\n",
       "    <tr>\n",
       "      <th>2315</th>\n",
       "      <td>1672531799475</td>\n",
       "      <td>BTC/USDT:USDT</td>\n",
       "      <td>buy</td>\n",
       "      <td>16521.5</td>\n",
       "      <td>4.498</td>\n",
       "      <td>2023-02-06 17:18:18.159622+00:00</td>\n",
       "    </tr>\n",
       "    <tr>\n",
       "      <th>2316</th>\n",
       "      <td>1672531799917</td>\n",
       "      <td>BTC/USDT:USDT</td>\n",
       "      <td>buy</td>\n",
       "      <td>16521.5</td>\n",
       "      <td>0.553</td>\n",
       "      <td>2023-02-06 17:18:18.159622+00:00</td>\n",
       "    </tr>\n",
       "    <tr>\n",
       "      <th>2317</th>\n",
       "      <td>1672531800477</td>\n",
       "      <td>BTC/USDT:USDT</td>\n",
       "      <td>sell</td>\n",
       "      <td>16521.4</td>\n",
       "      <td>0.605</td>\n",
       "      <td>2023-02-06 17:18:18.159622+00:00</td>\n",
       "    </tr>\n",
       "    <tr>\n",
       "      <th>2318</th>\n",
       "      <td>1672531800936</td>\n",
       "      <td>BTC/USDT:USDT</td>\n",
       "      <td>sell</td>\n",
       "      <td>16521.4</td>\n",
       "      <td>0.197</td>\n",
       "      <td>2023-02-06 17:18:18.159622+00:00</td>\n",
       "    </tr>\n",
       "  </tbody>\n",
       "</table>\n",
       "<p>2319 rows × 6 columns</p>\n",
       "</div>"
      ],
      "text/plain": [
       "          timestamp         symbol  side    price  amount  \\\n",
       "0     1672531204118  BTC/USDT:USDT  sell  16537.5   0.004   \n",
       "1     1672531204178  BTC/USDT:USDT   buy  16537.6   0.232   \n",
       "2     1672531204209  BTC/USDT:USDT  sell  16537.5   0.445   \n",
       "3     1672531204229  BTC/USDT:USDT   buy  16537.6   0.792   \n",
       "4     1672531204229  BTC/USDT:USDT  sell  16537.5   0.081   \n",
       "...             ...            ...   ...      ...     ...   \n",
       "2314  1672531799211  BTC/USDT:USDT   buy  16521.5   0.013   \n",
       "2315  1672531799475  BTC/USDT:USDT   buy  16521.5   4.498   \n",
       "2316  1672531799917  BTC/USDT:USDT   buy  16521.5   0.553   \n",
       "2317  1672531800477  BTC/USDT:USDT  sell  16521.4   0.605   \n",
       "2318  1672531800936  BTC/USDT:USDT  sell  16521.4   0.197   \n",
       "\n",
       "                end_download_timestamp  \n",
       "0     2023-02-06 17:18:18.159622+00:00  \n",
       "1     2023-02-06 17:18:18.159622+00:00  \n",
       "2     2023-02-06 17:18:18.159622+00:00  \n",
       "3     2023-02-06 17:18:18.159622+00:00  \n",
       "4     2023-02-06 17:18:18.159622+00:00  \n",
       "...                                ...  \n",
       "2314  2023-02-06 17:18:18.159622+00:00  \n",
       "2315  2023-02-06 17:18:18.159622+00:00  \n",
       "2316  2023-02-06 17:18:18.159622+00:00  \n",
       "2317  2023-02-06 17:18:18.159622+00:00  \n",
       "2318  2023-02-06 17:18:18.159622+00:00  \n",
       "\n",
       "[2319 rows x 6 columns]"
      ]
     },
     "execution_count": 7,
     "metadata": {},
     "output_type": "execute_result"
    }
   ],
   "source": [
    "data_type = \"trades\"\n",
    "currency_pair = \"BTC_USDT\"\n",
    "start_timestamp = pd.Timestamp(\"2023-01-01 00:00:01\")\n",
    "end_timestamp = pd.Timestamp(\"2023-01-01 00:10:01\")\n",
    "ccxt_data = ccxt_extractor.download_data(\n",
    "    data_type,\n",
    "    exchange_id,\n",
    "    currency_pair,\n",
    "    start_timestamp=start_timestamp,\n",
    "    end_timestamp=end_timestamp\n",
    ")\n",
    "ccxt_data"
   ]
  },
  {
   "cell_type": "code",
   "execution_count": 8,
   "id": "70e5f5e4",
   "metadata": {},
   "outputs": [
    {
     "data": {
      "text/html": [
       "<div>\n",
       "<style scoped>\n",
       "    .dataframe tbody tr th:only-of-type {\n",
       "        vertical-align: middle;\n",
       "    }\n",
       "\n",
       "    .dataframe tbody tr th {\n",
       "        vertical-align: top;\n",
       "    }\n",
       "\n",
       "    .dataframe thead th {\n",
       "        text-align: right;\n",
       "    }\n",
       "</style>\n",
       "<table border=\"1\" class=\"dataframe\">\n",
       "  <thead>\n",
       "    <tr style=\"text-align: right;\">\n",
       "      <th></th>\n",
       "      <th>timestamp</th>\n",
       "    </tr>\n",
       "  </thead>\n",
       "  <tbody>\n",
       "    <tr>\n",
       "      <th>min</th>\n",
       "      <td>2023-01-01 00:00:04.118</td>\n",
       "    </tr>\n",
       "    <tr>\n",
       "      <th>max</th>\n",
       "      <td>2023-01-01 00:10:00.936</td>\n",
       "    </tr>\n",
       "  </tbody>\n",
       "</table>\n",
       "</div>"
      ],
      "text/plain": [
       "                  timestamp\n",
       "min 2023-01-01 00:00:04.118\n",
       "max 2023-01-01 00:10:00.936"
      ]
     },
     "execution_count": 8,
     "metadata": {},
     "output_type": "execute_result"
    }
   ],
   "source": [
    "ccxt_data[[\"timestamp\"]].agg([\"min\", \"max\"]).apply(pd.to_datetime, unit=\"ms\")"
   ]
  },
  {
   "cell_type": "code",
   "execution_count": 9,
   "id": "fe25c446",
   "metadata": {},
   "outputs": [],
   "source": [
    "cc_data.rename(columns={\"size\": \"amount\"}, inplace=True)"
   ]
  },
  {
   "cell_type": "code",
   "execution_count": 10,
   "id": "3ae2bd80",
   "metadata": {},
   "outputs": [
    {
     "data": {
      "text/plain": [
       "price     True\n",
       "amount    True\n",
       "dtype: bool"
      ]
     },
     "execution_count": 10,
     "metadata": {},
     "output_type": "execute_result"
    }
   ],
   "source": [
    "columns_to_compare = [\"price\", \"amount\"]\n",
    "(cc_data[columns_to_compare] == ccxt_data[columns_to_compare]).all()"
   ]
  },
  {
   "cell_type": "code",
   "execution_count": null,
   "id": "094606a5",
   "metadata": {},
   "outputs": [],
   "source": []
  }
 ],
 "metadata": {
  "jupytext": {
   "formats": "ipynb,py"
  },
  "kernelspec": {
   "display_name": "Python 3 (ipykernel)",
   "language": "python",
   "name": "python3"
  },
  "language_info": {
   "codemirror_mode": {
    "name": "ipython",
    "version": 3
   },
   "file_extension": ".py",
   "mimetype": "text/x-python",
   "name": "python",
   "nbconvert_exporter": "python",
   "pygments_lexer": "ipython3",
   "version": "3.10.0"
  }
 },
 "nbformat": 4,
 "nbformat_minor": 5
}
