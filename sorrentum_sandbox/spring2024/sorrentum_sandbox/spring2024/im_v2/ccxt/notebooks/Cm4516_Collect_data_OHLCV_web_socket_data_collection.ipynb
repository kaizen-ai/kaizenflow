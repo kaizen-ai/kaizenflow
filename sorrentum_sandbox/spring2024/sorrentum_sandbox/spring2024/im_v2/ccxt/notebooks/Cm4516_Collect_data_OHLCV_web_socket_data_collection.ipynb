{
 "cells": [
  {
   "cell_type": "markdown",
   "id": "e7b0a84f",
   "metadata": {},
   "source": [
    "# Imports"
   ]
  },
  {
   "cell_type": "code",
   "execution_count": 1,
   "id": "dd948592",
   "metadata": {
    "ExecuteTime": {
     "end_time": "2023-06-28T16:39:44.722264Z",
     "start_time": "2023-06-28T16:39:40.832769Z"
    }
   },
   "outputs": [
    {
     "name": "stderr",
     "output_type": "stream",
     "text": [
      "/app/core/signal_processing/decorrelation.py:12: TqdmExperimentalWarning: Using `tqdm.autonotebook.tqdm` in notebook mode. Use `tqdm.tqdm` instead to force console mode (e.g. in jupyter console)\n",
      "  from tqdm.autonotebook import tqdm\n"
     ]
    }
   ],
   "source": [
    "import logging\n",
    "\n",
    "import pandas as pd\n",
    "\n",
    "import helpers.hdatetime as hdateti\n",
    "import helpers.hdbg as hdbg\n",
    "import helpers.henv as henv\n",
    "import helpers.hpandas as hpandas\n",
    "import helpers.hprint as hprint\n",
    "import im_v2.ccxt.data.extract.extractor as imvcdexex\n",
    "import im_v2.common.data.client.im_raw_data_client as imvcdcimrdc\n",
    "import im_v2.common.data.qa.dataset_validator as imvcdqdava\n",
    "import im_v2.common.data.qa.qa_check as imvcdqqach\n",
    "import im_v2.common.universe as ivcu\n",
    "import im_v2.common.universe.universe as imvcounun\n",
    "\n",
    "%load_ext autoreload\n",
    "%autoreload 2"
   ]
  },
  {
   "cell_type": "code",
   "execution_count": 2,
   "id": "cc516294",
   "metadata": {
    "ExecuteTime": {
     "end_time": "2023-06-28T16:39:45.033486Z",
     "start_time": "2023-06-28T16:39:44.725136Z"
    }
   },
   "outputs": [
    {
     "name": "stdout",
     "output_type": "stream",
     "text": [
      "\u001b[0m\u001b[36mINFO\u001b[0m: > cmd='/venv/lib/python3.8/site-packages/ipykernel_launcher.py -f /home/.local/share/jupyter/runtime/kernel-0c51a42f-d870-4ea0-a2a1-2148b7a42bca.json'\n",
      "WARNING: Running in Jupyter\n",
      "\u001b[31m-----------------------------------------------------------------------------\n",
      "This code is not in sync with the container:\n",
      "code_version='1.5.0' != container_version='1.4.0'\n",
      "-----------------------------------------------------------------------------\n",
      "You need to:\n",
      "- merge origin/master into your branch with `invoke git_merge_master`\n",
      "- pull the latest container with `invoke docker_pull`\u001b[0m\n",
      "INFO  # Git\n",
      "  branch_name='CmTask4516_Collect_data_OHLCV_web_socket_data_collection_2'\n",
      "  hash='f4f98058c'\n",
      "  # Last commits:\n",
      "    * f4f98058c Vlad     CmTask4516_Collect_data_OHLCV_web_socket_data_collection (#4548)  (   2 hours ago) Wed Jun 28 14:23:18 2023  (HEAD -> CmTask4516_Collect_data_OHLCV_web_socket_data_collection_2, origin/master, origin/HEAD, master)\n",
      "    * b773c6aba Toma Jordania CmTask4652: fix broker params sequence (#4653)                    (   3 hours ago) Wed Jun 28 13:50:35 2023           \n",
      "    * 4b61bb08c GP Saggese Remove white spaces (#4650)                                       (   4 hours ago) Wed Jun 28 12:42:08 2023           \n",
      "# Machine info\n",
      "  system=Linux\n",
      "  node name=16c2b87ed893\n",
      "  release=5.15.0-1033-aws\n",
      "  version=#37~20.04.1-Ubuntu SMP Fri Mar 17 11:39:30 UTC 2023\n",
      "  machine=x86_64\n",
      "  processor=x86_64\n",
      "  cpu count=8\n",
      "  cpu freq=scpufreq(current=2499.998, min=0.0, max=0.0)\n",
      "  memory=svmem(total=33292873728, available=12068823040, percent=63.7, used=20752633856, free=4191170560, active=3641212928, inactive=21646790656, buffers=1177632768, cached=7171436544, shared=2949120, slab=3452760064)\n",
      "  disk usage=sdiskusage(total=156052275200, used=74014797824, free=82020700160, percent=47.4)\n",
      "# Packages\n",
      "  python: 3.8.10\n",
      "  cvxopt: 1.3.0\n",
      "  cvxpy: 1.2.2\n",
      "  gluonnlp: ?\n",
      "  gluonts: 0.6.7\n",
      "  joblib: 1.2.0\n",
      "  mxnet: 1.9.1\n",
      "  numpy: 1.23.4\n",
      "  pandas: 1.5.1\n",
      "  pyarrow: 10.0.0\n",
      "  scipy: 1.9.3\n",
      "  seaborn: 0.12.1\n",
      "  sklearn: 1.1.3\n",
      "  statsmodels: 0.13.5\n"
     ]
    }
   ],
   "source": [
    "hdbg.init_logger(verbosity=logging.INFO)\n",
    "\n",
    "_LOG = logging.getLogger(__name__)\n",
    "\n",
    "_LOG.info(\"%s\", henv.get_system_signature()[0])\n",
    "\n",
    "hprint.config_notebook()"
   ]
  },
  {
   "cell_type": "markdown",
   "id": "2a0f3118",
   "metadata": {},
   "source": [
    "# Read all downloaded websocket data by RawReader"
   ]
  },
  {
   "cell_type": "code",
   "execution_count": 3,
   "id": "41c7306e",
   "metadata": {
    "ExecuteTime": {
     "end_time": "2023-06-28T16:39:45.535769Z",
     "start_time": "2023-06-28T16:39:45.037203Z"
    }
   },
   "outputs": [
    {
     "name": "stdout",
     "output_type": "stream",
     "text": [
      "INFO  Loading dataset schema file: /app/data_schema/dataset_schema_versions/dataset_schema_v3.json\n",
      "INFO  Loaded dataset schema version v3\n",
      "INFO  Loading dataset schema file: /app/data_schema/dataset_schema_versions/dataset_schema_v3.json\n",
      "INFO  Loaded dataset schema version v3\n",
      "INFO  Unable to fetch DB credentials from environment variables: \n",
      "\t'POSTGRES_HOST'\n",
      "\tAttempting env file method.\n",
      "INFO  Unable to fetch DB credentials from env file: \n",
      "\t\n",
      "################################################################################\n",
      "* Failed assertion *\n",
      "'test' in '['local', 'dev', 'prod']'\n",
      "################################################################################\n",
      "\n",
      "\tAttempting AWS SecretsManager method.\n",
      "INFO  Fetching secret: test.im_data_db\n",
      "INFO  Created test DB connection: \n",
      " <connection object at 0x7fa8cd0dd7c0; dsn: 'user=ck_test password=xxx dbname=test.im_data_db host=dev-im-db.cpox8ul7pzan.eu-north-1.rds.amazonaws.com port=5432', closed: 0>\n",
      "INFO  Enabled connection to the `ccxt_ohlcv_futures` DB table\n"
     ]
    }
   ],
   "source": [
    "signature = \"periodic_daily.airflow.downloaded_200ms.postgres.ohlcv.futures.v7_3.ccxt.binance.v1_0_0\"\n",
    "reader = imvcdcimrdc.RawDataReader(signature, stage=\"test\")\n",
    "start_timestamp = pd.Timestamp(\"2023-06-19T17:00:00+00:00\")\n",
    "end_timestamp = pd.Timestamp(\"2023-06-23T12:00+00:00\")\n",
    "tables_names = [\n",
    "    \"ccxt_ohlcv_futures_3sec\",\n",
    "    \"ccxt_ohlcv_futures_7sec\",\n",
    "    \"ccxt_ohlcv_futures_10sec\",\n",
    "    \"ccxt_ohlcv_futures_15sec\"\n",
    "]"
   ]
  },
  {
   "cell_type": "markdown",
   "id": "824d2495",
   "metadata": {},
   "source": [
    "### 3 seconds"
   ]
  },
  {
   "cell_type": "code",
   "execution_count": 4,
   "id": "3e7f85f2",
   "metadata": {
    "ExecuteTime": {
     "end_time": "2023-06-28T16:39:47.369025Z",
     "start_time": "2023-06-28T16:39:45.541672Z"
    }
   },
   "outputs": [
    {
     "name": "stdout",
     "output_type": "stream",
     "text": [
      "INFO  Executing query: \n",
      "\tSELECT * FROM ccxt_ohlcv_futures_3sec WHERE timestamp >= 1687194000000 AND timestamp <= 1687521600000\n"
     ]
    },
    {
     "name": "stderr",
     "output_type": "stream",
     "text": [
      "/app/helpers/hsql_implementation.py:582: UserWarning: pandas only supports SQLAlchemy connectable (engine/connection) or database string URI or sqlite3 DBAPI2 connection. Other DBAPI2 objects are not tested. Please consider using SQLAlchemy.\n",
      "  df = pd.read_sql_query(query, connection)\n"
     ]
    }
   ],
   "source": [
    "reader.table_name = tables_names[0]\n",
    "binance_ohlcv_data_3sec = reader.load_db_table(start_timestamp, end_timestamp)"
   ]
  },
  {
   "cell_type": "code",
   "execution_count": 5,
   "id": "2e3ecd47",
   "metadata": {
    "ExecuteTime": {
     "end_time": "2023-06-28T16:39:47.525409Z",
     "start_time": "2023-06-28T16:39:47.372049Z"
    }
   },
   "outputs": [],
   "source": [
    "_3sec_timestamp_by_pairs = (\n",
    "    binance_ohlcv_data_3sec.reset_index()[[\"currency_pair\", \"timestamp\"]]\n",
    "    .drop_duplicates()\n",
    "    .sort_values(by=[\"currency_pair\", \"timestamp\"]).reset_index(drop=True)\n",
    ")"
   ]
  },
  {
   "cell_type": "markdown",
   "id": "cb34257b",
   "metadata": {
    "ExecuteTime": {
     "end_time": "2023-06-12T12:38:37.958982Z",
     "start_time": "2023-06-12T12:38:37.890666Z"
    }
   },
   "source": [
    "### 7 seconds"
   ]
  },
  {
   "cell_type": "code",
   "execution_count": 6,
   "id": "6f6920af",
   "metadata": {
    "ExecuteTime": {
     "end_time": "2023-06-28T16:39:49.331620Z",
     "start_time": "2023-06-28T16:39:47.528120Z"
    }
   },
   "outputs": [
    {
     "name": "stdout",
     "output_type": "stream",
     "text": [
      "INFO  Executing query: \n",
      "\tSELECT * FROM ccxt_ohlcv_futures_7sec WHERE timestamp >= 1687194000000 AND timestamp <= 1687521600000\n"
     ]
    },
    {
     "name": "stderr",
     "output_type": "stream",
     "text": [
      "/app/helpers/hsql_implementation.py:582: UserWarning: pandas only supports SQLAlchemy connectable (engine/connection) or database string URI or sqlite3 DBAPI2 connection. Other DBAPI2 objects are not tested. Please consider using SQLAlchemy.\n",
      "  df = pd.read_sql_query(query, connection)\n"
     ]
    }
   ],
   "source": [
    "reader.table_name = tables_names[1]\n",
    "binance_ohlcv_data_7sec = reader.load_db_table(start_timestamp, end_timestamp)\n",
    "_7sec_timestamp_by_pairs = (\n",
    "    binance_ohlcv_data_7sec.reset_index()[[\"currency_pair\", \"timestamp\"]]\n",
    "    .drop_duplicates()\n",
    "    .sort_values(by=[\"currency_pair\", \"timestamp\"]).reset_index(drop=True)\n",
    ")"
   ]
  },
  {
   "cell_type": "markdown",
   "id": "1d962c0a",
   "metadata": {
    "ExecuteTime": {
     "end_time": "2023-06-12T12:38:37.958982Z",
     "start_time": "2023-06-12T12:38:37.890666Z"
    }
   },
   "source": [
    "### 10 seconds"
   ]
  },
  {
   "cell_type": "code",
   "execution_count": 7,
   "id": "e087263c",
   "metadata": {
    "ExecuteTime": {
     "end_time": "2023-06-28T16:39:51.131499Z",
     "start_time": "2023-06-28T16:39:49.334438Z"
    }
   },
   "outputs": [
    {
     "name": "stdout",
     "output_type": "stream",
     "text": [
      "INFO  Executing query: \n",
      "\tSELECT * FROM ccxt_ohlcv_futures_10sec WHERE timestamp >= 1687194000000 AND timestamp <= 1687521600000\n"
     ]
    },
    {
     "name": "stderr",
     "output_type": "stream",
     "text": [
      "/app/helpers/hsql_implementation.py:582: UserWarning: pandas only supports SQLAlchemy connectable (engine/connection) or database string URI or sqlite3 DBAPI2 connection. Other DBAPI2 objects are not tested. Please consider using SQLAlchemy.\n",
      "  df = pd.read_sql_query(query, connection)\n"
     ]
    }
   ],
   "source": [
    "reader.table_name = tables_names[2]\n",
    "binance_ohlcv_data_10sec = reader.load_db_table(start_timestamp, end_timestamp)\n",
    "_10sec_timestamp_by_pairs = (\n",
    "    binance_ohlcv_data_10sec.reset_index()[[\"currency_pair\", \"timestamp\"]]\n",
    "    .drop_duplicates()\n",
    "    .sort_values(by=[\"currency_pair\", \"timestamp\"]).reset_index(drop=True)\n",
    ")"
   ]
  },
  {
   "cell_type": "markdown",
   "id": "125e570e",
   "metadata": {
    "ExecuteTime": {
     "end_time": "2023-06-12T12:38:37.958982Z",
     "start_time": "2023-06-12T12:38:37.890666Z"
    }
   },
   "source": [
    "### 15 seconds"
   ]
  },
  {
   "cell_type": "code",
   "execution_count": 8,
   "id": "702d26e8",
   "metadata": {
    "ExecuteTime": {
     "end_time": "2023-06-28T16:39:53.027552Z",
     "start_time": "2023-06-28T16:39:51.134489Z"
    }
   },
   "outputs": [
    {
     "name": "stdout",
     "output_type": "stream",
     "text": [
      "INFO  Executing query: \n",
      "\tSELECT * FROM ccxt_ohlcv_futures_15sec WHERE timestamp >= 1687194000000 AND timestamp <= 1687521600000\n"
     ]
    },
    {
     "name": "stderr",
     "output_type": "stream",
     "text": [
      "/app/helpers/hsql_implementation.py:582: UserWarning: pandas only supports SQLAlchemy connectable (engine/connection) or database string URI or sqlite3 DBAPI2 connection. Other DBAPI2 objects are not tested. Please consider using SQLAlchemy.\n",
      "  df = pd.read_sql_query(query, connection)\n"
     ]
    }
   ],
   "source": [
    "reader.table_name = tables_names[3]\n",
    "binance_ohlcv_data_15sec = reader.load_db_table(start_timestamp, end_timestamp)\n",
    "_15sec_timestamp_by_pairs = (\n",
    "    binance_ohlcv_data_15sec.reset_index()[[\"currency_pair\", \"timestamp\"]]\n",
    "    .drop_duplicates()\n",
    "    .sort_values(by=[\"currency_pair\", \"timestamp\"]).reset_index(drop=True)\n",
    ")"
   ]
  },
  {
   "cell_type": "markdown",
   "id": "a3f4de62",
   "metadata": {},
   "source": [
    "# Read bulk downloaded data"
   ]
  },
  {
   "cell_type": "code",
   "execution_count": 9,
   "id": "06045d6b",
   "metadata": {
    "ExecuteTime": {
     "end_time": "2023-06-28T16:41:16.974135Z",
     "start_time": "2023-06-28T16:39:53.029691Z"
    }
   },
   "outputs": [
    {
     "name": "stdout",
     "output_type": "stream",
     "text": [
      "INFO  Loading dataset schema file: /app/data_schema/dataset_schema_versions/dataset_schema_v3.json\n",
      "INFO  Loaded dataset schema version v3\n",
      "INFO  Loading dataset schema file: /app/data_schema/dataset_schema_versions/dataset_schema_v3.json\n",
      "INFO  Loaded dataset schema version v3\n",
      "INFO  Loading dataset schema file: /app/data_schema/dataset_schema_versions/dataset_schema_v3.json\n",
      "INFO  Loaded dataset schema version v3\n"
     ]
    }
   ],
   "source": [
    "signature = \"periodic_daily.airflow.downloaded_1min.parquet.ohlcv.futures.v7_3.ccxt.binance.v1_0_0\"\n",
    "reader = imvcdcimrdc.RawDataReader(signature, stage=\"preprod\")\n",
    "binance_ohlcv_bulk_data = reader.read_data(start_timestamp, end_timestamp)"
   ]
  },
  {
   "cell_type": "code",
   "execution_count": 10,
   "id": "a7074147",
   "metadata": {
    "ExecuteTime": {
     "end_time": "2023-06-28T16:41:17.103132Z",
     "start_time": "2023-06-28T16:41:16.978023Z"
    }
   },
   "outputs": [],
   "source": [
    "bulk_timestamp_by_pairs = (\n",
    "    binance_ohlcv_bulk_data.reset_index(drop=True)[[\"currency_pair\", \"timestamp\"]]\n",
    "    .drop_duplicates()\n",
    "    .sort_values(by=[\"currency_pair\", \"timestamp\"]).reset_index(drop=True)\n",
    ")"
   ]
  },
  {
   "cell_type": "markdown",
   "id": "df6cc73b",
   "metadata": {},
   "source": [
    "# Analyze"
   ]
  },
  {
   "cell_type": "markdown",
   "id": "072a683a",
   "metadata": {},
   "source": [
    "## Compare 3 seconds vs daily data\n",
    "\n",
    "Find rows where the value of one the OHLCVs columns does not match between 3 second data and daily data"
   ]
  },
  {
   "cell_type": "code",
   "execution_count": 11,
   "id": "f398b3ef",
   "metadata": {
    "ExecuteTime": {
     "end_time": "2023-06-28T16:41:17.229619Z",
     "start_time": "2023-06-28T16:41:17.109276Z"
    }
   },
   "outputs": [],
   "source": [
    "#Define a funciton to filter mismatched rows\n",
    "ohlcvs_cols = [\"open\", \"low\", \"high\", \"close\", \"volume\"]\n",
    "def filter_mismatched_rows(row):\n",
    "    for col in ohlcvs_cols:\n",
    "        if row[f\"{col}_3sec\"] != row[f\"{col}_daily\"]:\n",
    "            return True\n",
    "    return False"
   ]
  },
  {
   "cell_type": "code",
   "execution_count": 12,
   "id": "568a8f1b",
   "metadata": {
    "ExecuteTime": {
     "end_time": "2023-06-28T16:41:17.363100Z",
     "start_time": "2023-06-28T16:41:17.246940Z"
    }
   },
   "outputs": [],
   "source": [
    "binance_ohlcv_bulk_data = binance_ohlcv_bulk_data.reset_index(drop=True)\n",
    "binance_ohlcv_data_3sec = binance_ohlcv_data_3sec.reset_index(drop=True)"
   ]
  },
  {
   "cell_type": "code",
   "execution_count": 13,
   "id": "9c2bcab8",
   "metadata": {
    "ExecuteTime": {
     "end_time": "2023-06-28T16:41:17.580648Z",
     "start_time": "2023-06-28T16:41:17.365527Z"
    }
   },
   "outputs": [],
   "source": [
    "_3sec_daily = pd.merge(\n",
    "    binance_ohlcv_bulk_data,\n",
    "    binance_ohlcv_data_3sec,\n",
    "    on=[\"currency_pair\",\"timestamp\"],\n",
    "    how=\"inner\",\n",
    "    suffixes=[\"_daily\", \"_3sec\"]\n",
    ")"
   ]
  },
  {
   "cell_type": "code",
   "execution_count": 14,
   "id": "06bf86ba",
   "metadata": {
    "ExecuteTime": {
     "end_time": "2023-06-28T16:41:22.417542Z",
     "start_time": "2023-06-28T16:41:17.583705Z"
    }
   },
   "outputs": [
    {
     "data": {
      "text/plain": [
       "(0, 20)"
      ]
     },
     "execution_count": 14,
     "metadata": {},
     "output_type": "execute_result"
    }
   ],
   "source": [
    "_3sec_daily_mismatch = _3sec_daily[_3sec_daily.apply(filter_mismatched_rows, axis=1)]\n",
    "_3sec_daily_mismatch.shape"
   ]
  },
  {
   "cell_type": "markdown",
   "id": "fe26401e",
   "metadata": {},
   "source": [
    "As we can see there is not mismatch."
   ]
  },
  {
   "cell_type": "markdown",
   "id": "208cb5af",
   "metadata": {},
   "source": [
    "### Date ranges"
   ]
  },
  {
   "cell_type": "code",
   "execution_count": null,
   "id": "469418f8",
   "metadata": {
    "ExecuteTime": {
     "end_time": "2023-06-23T15:39:33.418454Z",
     "start_time": "2023-06-23T15:39:33.341642Z"
    }
   },
   "outputs": [],
   "source": [
    "_3sec_timestamp_by_pairs.timestamp.agg([\"min\", \"max\"]).apply(pd.to_datetime, unit=\"ms\")"
   ]
  },
  {
   "cell_type": "code",
   "execution_count": null,
   "id": "fe47c85a",
   "metadata": {
    "ExecuteTime": {
     "end_time": "2023-06-23T15:39:34.378585Z",
     "start_time": "2023-06-23T15:39:34.327700Z"
    }
   },
   "outputs": [],
   "source": [
    "_7sec_timestamp_by_pairs.timestamp.agg([\"min\", \"max\"]).apply(pd.to_datetime, unit=\"ms\")"
   ]
  },
  {
   "cell_type": "code",
   "execution_count": null,
   "id": "a9f0813e",
   "metadata": {
    "ExecuteTime": {
     "end_time": "2023-06-23T15:39:35.278955Z",
     "start_time": "2023-06-23T15:39:35.214448Z"
    }
   },
   "outputs": [],
   "source": [
    "_10sec_timestamp_by_pairs.timestamp.agg([\"min\", \"max\"]).apply(pd.to_datetime, unit=\"ms\")"
   ]
  },
  {
   "cell_type": "code",
   "execution_count": null,
   "id": "43b9a9c9",
   "metadata": {
    "ExecuteTime": {
     "end_time": "2023-06-23T15:39:35.816513Z",
     "start_time": "2023-06-23T15:39:35.754408Z"
    }
   },
   "outputs": [],
   "source": [
    "_15sec_timestamp_by_pairs.timestamp.agg([\"min\", \"max\"]).apply(pd.to_datetime, unit=\"ms\")"
   ]
  },
  {
   "cell_type": "code",
   "execution_count": null,
   "id": "cbd161c5",
   "metadata": {
    "ExecuteTime": {
     "end_time": "2023-06-23T15:39:37.158667Z",
     "start_time": "2023-06-23T15:39:37.109209Z"
    },
    "lines_to_next_cell": 2
   },
   "outputs": [],
   "source": [
    "bulk_timestamp_by_pairs.timestamp.agg([\"min\", \"max\"]).apply(pd.to_datetime, unit=\"ms\")"
   ]
  },
  {
   "cell_type": "code",
   "execution_count": null,
   "id": "a671b8f6",
   "metadata": {
    "ExecuteTime": {
     "end_time": "2023-06-23T15:42:33.151558Z",
     "start_time": "2023-06-23T15:42:33.049796Z"
    }
   },
   "outputs": [],
   "source": [
    "max(bulk_timestamp_by_pairs.timestamp)"
   ]
  },
  {
   "cell_type": "code",
   "execution_count": null,
   "id": "48574c83",
   "metadata": {
    "ExecuteTime": {
     "end_time": "2023-06-23T15:42:57.218435Z",
     "start_time": "2023-06-23T15:42:57.135631Z"
    }
   },
   "outputs": [],
   "source": [
    "_3sec_timestamp_by_pairs = _3sec_timestamp_by_pairs[_3sec_timestamp_by_pairs.timestamp <= 1687478340000]"
   ]
  },
  {
   "cell_type": "code",
   "execution_count": null,
   "id": "2fb62367",
   "metadata": {
    "ExecuteTime": {
     "end_time": "2023-06-23T15:43:35.655255Z",
     "start_time": "2023-06-23T15:43:35.594402Z"
    }
   },
   "outputs": [],
   "source": [
    "_7sec_timestamp_by_pairs = _7sec_timestamp_by_pairs[_7sec_timestamp_by_pairs.timestamp <= 1687478340000]"
   ]
  },
  {
   "cell_type": "code",
   "execution_count": null,
   "id": "1e2cebdb",
   "metadata": {
    "ExecuteTime": {
     "end_time": "2023-06-23T15:43:35.655255Z",
     "start_time": "2023-06-23T15:43:35.594402Z"
    }
   },
   "outputs": [],
   "source": [
    "_10sec_timestamp_by_pairs = _10sec_timestamp_by_pairs[_10sec_timestamp_by_pairs.timestamp <= 1687478340000]"
   ]
  },
  {
   "cell_type": "code",
   "execution_count": null,
   "id": "2e26bc6e",
   "metadata": {
    "ExecuteTime": {
     "end_time": "2023-06-23T15:43:35.655255Z",
     "start_time": "2023-06-23T15:43:35.594402Z"
    }
   },
   "outputs": [],
   "source": [
    "_15sec_timestamp_by_pairs = _15sec_timestamp_by_pairs[_15sec_timestamp_by_pairs.timestamp <= 1687478340000]"
   ]
  },
  {
   "cell_type": "markdown",
   "id": "afe4513d",
   "metadata": {},
   "source": [
    "### 3 sec"
   ]
  },
  {
   "cell_type": "code",
   "execution_count": null,
   "id": "ea060d90",
   "metadata": {
    "ExecuteTime": {
     "end_time": "2023-06-23T15:43:46.879752Z",
     "start_time": "2023-06-23T15:43:46.825892Z"
    }
   },
   "outputs": [],
   "source": [
    "len(_3sec_timestamp_by_pairs)"
   ]
  },
  {
   "cell_type": "code",
   "execution_count": null,
   "id": "a4d62296",
   "metadata": {
    "ExecuteTime": {
     "end_time": "2023-06-23T15:43:47.996474Z",
     "start_time": "2023-06-23T15:43:47.946659Z"
    }
   },
   "outputs": [],
   "source": [
    "len(bulk_timestamp_by_pairs)"
   ]
  },
  {
   "cell_type": "code",
   "execution_count": null,
   "id": "5f339a24",
   "metadata": {
    "ExecuteTime": {
     "end_time": "2023-06-23T15:43:55.937335Z",
     "start_time": "2023-06-23T15:43:55.787849Z"
    },
    "run_control": {
     "marked": true
    }
   },
   "outputs": [],
   "source": [
    "_3sec_match = pd.merge(\n",
    "    bulk_timestamp_by_pairs, _3sec_timestamp_by_pairs,\n",
    "    how=\"inner\",\n",
    "    on=[\"currency_pair\", \"timestamp\"]\n",
    ")"
   ]
  },
  {
   "cell_type": "code",
   "execution_count": null,
   "id": "1e744b41",
   "metadata": {
    "ExecuteTime": {
     "end_time": "2023-06-23T15:43:58.915821Z",
     "start_time": "2023-06-23T15:43:58.849715Z"
    }
   },
   "outputs": [],
   "source": [
    "_3sec_match.shape"
   ]
  },
  {
   "cell_type": "code",
   "execution_count": null,
   "id": "091ed09f",
   "metadata": {
    "ExecuteTime": {
     "end_time": "2023-06-23T15:44:08.056024Z",
     "start_time": "2023-06-23T15:44:07.676129Z"
    },
    "run_control": {
     "marked": true
    }
   },
   "outputs": [],
   "source": [
    "_3sec_not_match = pd.merge(\n",
    "    bulk_timestamp_by_pairs,\n",
    "    _3sec_timestamp_by_pairs,\n",
    "    on=['currency_pair','timestamp'],\n",
    "    how=\"outer\",\n",
    "    indicator=True\n",
    ")\n",
    "_3sec_not_match = _3sec_not_match[_3sec_not_match['_merge']=='left_only']"
   ]
  },
  {
   "cell_type": "code",
   "execution_count": null,
   "id": "4320b793",
   "metadata": {
    "ExecuteTime": {
     "end_time": "2023-06-23T15:44:08.105242Z",
     "start_time": "2023-06-23T15:44:08.059050Z"
    }
   },
   "outputs": [],
   "source": [
    "_3sec_not_match.shape"
   ]
  },
  {
   "cell_type": "markdown",
   "id": "9087dca5",
   "metadata": {},
   "source": [
    "### 7 sec"
   ]
  },
  {
   "cell_type": "code",
   "execution_count": null,
   "id": "e93ef226",
   "metadata": {
    "ExecuteTime": {
     "end_time": "2023-06-23T15:44:11.036556Z",
     "start_time": "2023-06-23T15:44:10.988405Z"
    }
   },
   "outputs": [],
   "source": [
    "len(_7sec_timestamp_by_pairs)"
   ]
  },
  {
   "cell_type": "code",
   "execution_count": null,
   "id": "83802d50",
   "metadata": {
    "ExecuteTime": {
     "end_time": "2023-06-23T15:44:11.276411Z",
     "start_time": "2023-06-23T15:44:11.224020Z"
    }
   },
   "outputs": [],
   "source": [
    "len(bulk_timestamp_by_pairs)"
   ]
  },
  {
   "cell_type": "code",
   "execution_count": null,
   "id": "ccd6a543",
   "metadata": {
    "ExecuteTime": {
     "end_time": "2023-06-23T15:44:11.683442Z",
     "start_time": "2023-06-23T15:44:11.553626Z"
    }
   },
   "outputs": [],
   "source": [
    "pd.merge(\n",
    "    bulk_timestamp_by_pairs, _7sec_timestamp_by_pairs,\n",
    "    how=\"inner\",\n",
    "    on=[\"currency_pair\", \"timestamp\"]\n",
    ").shape"
   ]
  },
  {
   "cell_type": "code",
   "execution_count": null,
   "id": "d90230e6",
   "metadata": {
    "ExecuteTime": {
     "end_time": "2023-06-23T15:44:11.994940Z",
     "start_time": "2023-06-23T15:44:11.863389Z"
    },
    "run_control": {
     "marked": true
    }
   },
   "outputs": [],
   "source": [
    "_7sec_not_match = pd.merge(\n",
    "    bulk_timestamp_by_pairs,\n",
    "    _7sec_timestamp_by_pairs,\n",
    "    on=['currency_pair','timestamp'],\n",
    "    how=\"outer\",\n",
    "    indicator=True\n",
    ")\n",
    "_7sec_not_match = _7sec_not_match[_7sec_not_match['_merge']=='left_only']"
   ]
  },
  {
   "cell_type": "code",
   "execution_count": null,
   "id": "a8bcef8b",
   "metadata": {
    "ExecuteTime": {
     "end_time": "2023-06-23T15:44:12.287357Z",
     "start_time": "2023-06-23T15:44:12.219742Z"
    }
   },
   "outputs": [],
   "source": [
    "_7sec_not_match.shape"
   ]
  },
  {
   "cell_type": "markdown",
   "id": "6ac15d22",
   "metadata": {},
   "source": [
    "### 10 sec"
   ]
  },
  {
   "cell_type": "code",
   "execution_count": null,
   "id": "b22234eb",
   "metadata": {
    "ExecuteTime": {
     "end_time": "2023-06-23T15:44:12.772588Z",
     "start_time": "2023-06-23T15:44:12.731478Z"
    }
   },
   "outputs": [],
   "source": [
    "len(_10sec_timestamp_by_pairs)"
   ]
  },
  {
   "cell_type": "code",
   "execution_count": null,
   "id": "ecbfdceb",
   "metadata": {
    "ExecuteTime": {
     "end_time": "2023-06-23T15:44:12.980991Z",
     "start_time": "2023-06-23T15:44:12.940590Z"
    }
   },
   "outputs": [],
   "source": [
    "len(bulk_timestamp_by_pairs)"
   ]
  },
  {
   "cell_type": "code",
   "execution_count": null,
   "id": "ecf69e78",
   "metadata": {
    "ExecuteTime": {
     "end_time": "2023-06-23T15:44:13.370369Z",
     "start_time": "2023-06-23T15:44:13.262285Z"
    }
   },
   "outputs": [],
   "source": [
    "pd.merge(\n",
    "    bulk_timestamp_by_pairs, _10sec_timestamp_by_pairs,\n",
    "    how=\"inner\",\n",
    "    on=[\"currency_pair\", \"timestamp\"]\n",
    ").shape"
   ]
  },
  {
   "cell_type": "code",
   "execution_count": null,
   "id": "2c08833a",
   "metadata": {
    "ExecuteTime": {
     "end_time": "2023-06-23T15:44:13.926992Z",
     "start_time": "2023-06-23T15:44:13.612558Z"
    },
    "run_control": {
     "marked": true
    }
   },
   "outputs": [],
   "source": [
    "_10sec_not_match = pd.merge(\n",
    "    bulk_timestamp_by_pairs,\n",
    "    _10sec_timestamp_by_pairs,\n",
    "    on=['currency_pair','timestamp'],\n",
    "    how=\"outer\",\n",
    "    indicator=True\n",
    ")\n",
    "_10sec_not_match = _3sec_not_match[_10sec_not_match['_merge']=='left_only']"
   ]
  },
  {
   "cell_type": "code",
   "execution_count": null,
   "id": "84b5a2fd",
   "metadata": {
    "ExecuteTime": {
     "end_time": "2023-06-23T15:44:14.019985Z",
     "start_time": "2023-06-23T15:44:13.931780Z"
    }
   },
   "outputs": [],
   "source": [
    "_10sec_not_match.shape"
   ]
  },
  {
   "cell_type": "markdown",
   "id": "8d6fd29f",
   "metadata": {},
   "source": [
    "### 15 sec"
   ]
  },
  {
   "cell_type": "code",
   "execution_count": null,
   "id": "15b290c7",
   "metadata": {
    "ExecuteTime": {
     "end_time": "2023-06-23T15:44:14.359969Z",
     "start_time": "2023-06-23T15:44:14.310888Z"
    }
   },
   "outputs": [],
   "source": [
    "len(_15sec_timestamp_by_pairs)"
   ]
  },
  {
   "cell_type": "code",
   "execution_count": null,
   "id": "884b6714",
   "metadata": {
    "ExecuteTime": {
     "end_time": "2023-06-23T15:44:14.708032Z",
     "start_time": "2023-06-23T15:44:14.648351Z"
    }
   },
   "outputs": [],
   "source": [
    "len(bulk_timestamp_by_pairs)"
   ]
  },
  {
   "cell_type": "code",
   "execution_count": null,
   "id": "6a0e48a4",
   "metadata": {
    "ExecuteTime": {
     "end_time": "2023-06-23T15:44:15.190410Z",
     "start_time": "2023-06-23T15:44:14.980799Z"
    }
   },
   "outputs": [],
   "source": [
    "pd.merge(\n",
    "    bulk_timestamp_by_pairs, _15sec_timestamp_by_pairs,\n",
    "    how=\"inner\",\n",
    "    on=[\"currency_pair\", \"timestamp\"]\n",
    ").shape"
   ]
  },
  {
   "cell_type": "code",
   "execution_count": null,
   "id": "323b4ca5",
   "metadata": {
    "ExecuteTime": {
     "end_time": "2023-06-23T15:44:15.550308Z",
     "start_time": "2023-06-23T15:44:15.340923Z"
    },
    "run_control": {
     "marked": true
    }
   },
   "outputs": [],
   "source": [
    "_15sec_not_match = pd.merge(\n",
    "    bulk_timestamp_by_pairs,\n",
    "    _15sec_timestamp_by_pairs,\n",
    "    on=['currency_pair','timestamp'],\n",
    "    how=\"outer\",\n",
    "    indicator=True\n",
    ")\n",
    "_15sec_not_match = _15sec_not_match[_15sec_not_match['_merge']=='left_only']"
   ]
  },
  {
   "cell_type": "code",
   "execution_count": null,
   "id": "84d2a93f",
   "metadata": {
    "ExecuteTime": {
     "end_time": "2023-06-23T15:44:15.697867Z",
     "start_time": "2023-06-23T15:44:15.615265Z"
    }
   },
   "outputs": [],
   "source": [
    "_15sec_not_match.shape"
   ]
  }
 ],
 "metadata": {
  "kernelspec": {
   "display_name": "Python 3 (ipykernel)",
   "language": "python",
   "name": "python3"
  },
  "language_info": {
   "codemirror_mode": {
    "name": "ipython",
    "version": 3
   },
   "file_extension": ".py",
   "mimetype": "text/x-python",
   "name": "python",
   "nbconvert_exporter": "python",
   "pygments_lexer": "ipython3",
   "version": "3.8.10"
  },
  "toc": {
   "base_numbering": 1,
   "nav_menu": {},
   "number_sections": true,
   "sideBar": true,
   "skip_h1_title": false,
   "title_cell": "Table of Contents",
   "title_sidebar": "Contents",
   "toc_cell": false,
   "toc_position": {},
   "toc_section_display": true,
   "toc_window_display": false
  }
 },
 "nbformat": 4,
 "nbformat_minor": 5
}
