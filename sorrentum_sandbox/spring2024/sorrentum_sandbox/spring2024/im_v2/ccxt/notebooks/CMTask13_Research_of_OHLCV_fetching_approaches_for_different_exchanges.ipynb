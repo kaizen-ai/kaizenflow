{
 "cells": [
  {
   "cell_type": "code",
   "execution_count": 10,
   "id": "a052ac6d",
   "metadata": {
    "ExecuteTime": {
     "end_time": "2021-08-30T16:55:13.453321Z",
     "start_time": "2021-08-30T16:55:12.873962Z"
    }
   },
   "outputs": [
    {
     "name": "stdout",
     "output_type": "stream",
     "text": [
      "The autoreload extension is already loaded. To reload it, use:\n",
      "  %reload_ext autoreload\n"
     ]
    }
   ],
   "source": [
    "%load_ext autoreload\n",
    "%autoreload 2\n",
    "%matplotlib inline\n",
    "\n",
    "import logging\n",
    "import time\n",
    "\n",
    "import ccxt\n",
    "\n",
    "import helpers.hdbg as hdbg\n",
    "import helpers.henv as henv\n",
    "import helpers.hio as hio\n",
    "import helpers.hprint as hprint"
   ]
  },
  {
   "cell_type": "code",
   "execution_count": 11,
   "id": "a7a791e8",
   "metadata": {
    "ExecuteTime": {
     "end_time": "2021-08-30T16:55:15.453025Z",
     "start_time": "2021-08-30T16:55:13.462204Z"
    }
   },
   "outputs": [
    {
     "name": "stdout",
     "output_type": "stream",
     "text": [
      "\u001b[0m\u001b[33mWARNING\u001b[0m: Logger already initialized: skipping\n",
      "\u001b[33mWARNING\u001b[0m: Can't find version.txt, so using version=None\n",
      ">>ENV<<: is_inside_container=True: code_version=None, container_version=amp-1.1.1, is_inside_docker=True, is_inside_ci=False, CI_defined=True, CI=''\n",
      ">>ENV<<: AM_AWS_PROFILE=True AM_ECR_BASE_PATH=True AM_S3_BUCKET=True AM_TELEGRAM_TOKEN=True AWS_ACCESS_KEY_ID=True AWS_DEFAULT_REGION=True AWS_SECRET_ACCESS_KEY=True GH_ACTION_ACCESS_TOKEN=True\n",
      "\u001b[31m-----------------------------------------------------------------------------\n",
      "This code is not in sync with the container:\n",
      "code_version='None' != container_version='amp-1.1.1'\n",
      "-----------------------------------------------------------------------------\n",
      "You need to:\n",
      "- merge origin/master into your branch with `invoke git_merge_master`\n",
      "- pull the latest container with `invoke docker_pull`\u001b[0m\n",
      "# Git\n",
      "    branch_name='CMTask13_ccxt_historical_data'\n",
      "    hash='c8142941'\n",
      "    # Last commits:\n",
      "      * c8142941 danya    CMTask13: remove sandbox notebook                                 (  18 hours ago) Thu Sep 2 18:29:12 2021  (HEAD -> CMTask13_ccxt_historical_data, origin/CMTask13_ccxt_historical_data)\n",
      "      * 8f93824e danya    CMTask13: trades and bids/asks checkpoint                         (  18 hours ago) Thu Sep 2 18:13:23 2021           \n",
      "      * 76c41061 danya    CMTask13: OHLCV & login checkpoint                                (  20 hours ago) Thu Sep 2 16:21:40 2021           \n",
      "# Machine info\n",
      "    system=Linux\n",
      "    node name=e0e07ea5388d\n",
      "    release=4.15.0-1058-aws\n",
      "    version=#60-Ubuntu SMP Wed Jan 15 22:35:20 UTC 2020\n",
      "    machine=x86_64\n",
      "    processor=x86_64\n",
      "    cpu count=4\n",
      "    cpu freq=scpufreq(current=2500.0, min=0.0, max=0.0)\n",
      "    memory=svmem(total=16624824320, available=12479221760, percent=24.9, used=3719983104, free=1123307520, active=7240810496, inactive=7033458688, buffers=373018624, cached=11408515072, shared=103624704, slab=1018847232)\n",
      "    disk usage=sdiskusage(total=133167038464, used=14023528448, free=119126732800, percent=10.5)\n",
      "# Packages\n",
      "    python: 3.8.10\n",
      "    gluonnlp: ?\n",
      "    gluonts: 0.6.7\n",
      "    joblib: 1.0.1\n",
      "    mxnet: 1.8.0\n",
      "    numpy: 1.21.1\n",
      "    pandas: 1.3.1\n",
      "    pyarrow: 5.0.0\n",
      "    scipy: 1.6.1\n",
      "    seaborn: 0.11.1\n",
      "    sklearn: 0.24.2\n",
      "    statsmodels: 0.12.2\n"
     ]
    }
   ],
   "source": [
    "hdbg.init_logger(verbosity=logging.INFO)\n",
    "\n",
    "_LOG = logging.getLogger(__name__)\n",
    "\n",
    "_LOG.info(\"%s\", henv.get_system_signature()[0])\n",
    "\n",
    "hprint.config_notebook()"
   ]
  },
  {
   "cell_type": "code",
   "execution_count": 12,
   "id": "d554bd16",
   "metadata": {
    "ExecuteTime": {
     "end_time": "2021-08-30T16:55:15.481222Z",
     "start_time": "2021-08-30T16:55:15.455892Z"
    }
   },
   "outputs": [],
   "source": [
    "ALL_EXCHANGES = [\n",
    "    \"binance\",\n",
    "    \"coinbase\",\n",
    "    \"kraken\",\n",
    "    \"huobi\",\n",
    "    \"ftx\",\n",
    "    \"kucoin\",\n",
    "    \"bitfinex\",\n",
    "    \"gateio\",\n",
    "    # \"binanceus\" # no API access for these three exchanges.\n",
    "    # \"bithumb\"\n",
    "    # \"bitstamp\"\n",
    "]"
   ]
  },
  {
   "cell_type": "code",
   "execution_count": 14,
   "id": "058449f6",
   "metadata": {},
   "outputs": [],
   "source": [
    "credentials = hio.from_json(\"API_keys.json\")"
   ]
  },
  {
   "cell_type": "markdown",
   "id": "0b6b59fb",
   "metadata": {},
   "source": [
    "## Functions"
   ]
  },
  {
   "cell_type": "markdown",
   "id": "80547139",
   "metadata": {},
   "source": [
    "These are the functions introduced in `CMTask12_CCXT_historical_data_access.ipynb`"
   ]
  },
  {
   "cell_type": "code",
   "execution_count": 128,
   "id": "741ca54e",
   "metadata": {
    "ExecuteTime": {
     "end_time": "2021-08-30T16:55:15.510585Z",
     "start_time": "2021-08-30T16:55:15.482776Z"
    }
   },
   "outputs": [],
   "source": [
    "def log_into_exchange(exchange_id: str):\n",
    "    \"\"\"\n",
    "    Log into exchange via ccxt.\n",
    "    \"\"\"\n",
    "    credentials = hio.from_json(\"API_keys.json\")\n",
    "    hdbg.dassert_in(exchange_id, credentials, msg=\"%s exchange ID not correct.\")\n",
    "    credentials = credentials[exchange_id]\n",
    "    credentials[\"rateLimit\"] = True\n",
    "    exchange_class = getattr(ccxt, exchange_id)\n",
    "    exchange = exchange_class(credentials)\n",
    "    hdbg.dassert(\n",
    "        exchange.checkRequiredCredentials(),\n",
    "        msg=\"Required credentials not passed.\",\n",
    "    )\n",
    "    return exchange\n",
    "\n",
    "\n",
    "def describe_exchange_data(exchange_id: str):\n",
    "    \"\"\" \"\"\"\n",
    "    exchange = log_into_exchange(exchange_id)\n",
    "    print(\"%s:\" % exchange_id)\n",
    "    print(\"Has fetchOHLCV: %s\" % exchange.has[\"fetchOHLCV\"])\n",
    "    print(\"Has fetchTrades: %s\" % exchange.has[\"fetchTrades\"])\n",
    "    print(\"Available timeframes:\")\n",
    "    print(exchange.timeframes)\n",
    "    print(\"Available currency pairs:\")\n",
    "    print(exchange.load_markets().keys())\n",
    "    print(\"=\" * 50)\n",
    "    return None\n",
    "\n",
    "\n",
    "def download_ohlcv_data(\n",
    "    exchange_id,\n",
    "    start_date,\n",
    "    end_date,\n",
    "    curr_symbol,\n",
    "    timeframe=\"1m\",\n",
    "    step=500,\n",
    "    sleep_time=3,\n",
    "):\n",
    "    \"\"\"\n",
    "    Download historical OHLCV data for given time period and currency.\n",
    "    \"\"\"\n",
    "    exchange = log_into_exchange(exchange_id)\n",
    "    hdbg.dassert_in(timeframe, exchange.timeframes)\n",
    "    hdbg.dassert(exchange.has[\"fetchOHLCV\"])\n",
    "    hdbg.dassert_in(curr_symbol, exchange.load_markets().keys())\n",
    "    start_date = exchange.parse8601(start_date)\n",
    "    end_date = exchange.parse8601(end_date)\n",
    "    # Convert to ms.\n",
    "    duration = exchange.parse_timeframe(timeframe) * 1000\n",
    "    all_candles = []\n",
    "    for t in range(start_date, end_date + duration, duration * step):\n",
    "        candles = exchange.fetch_ohlcv(curr_symbol, timeframe, t, step)\n",
    "        print(\"Fetched\", len(candles), \"candles\")\n",
    "        if candles:\n",
    "            print(\n",
    "                \"From\",\n",
    "                exchange.iso8601(candles[0][0]),\n",
    "                \"to\",\n",
    "                exchange.iso8601(candles[-1][0]),\n",
    "            )\n",
    "        all_candles += candles\n",
    "        total_length = len(all_candles)\n",
    "        print(\"Fetched\", total_length, \"candles in total\")\n",
    "        time.sleep(sleep_time)\n",
    "    return all_candles\n",
    "\n",
    "\n",
    "def download_trade_data(\n",
    "    exchange_id,\n",
    "    start_date,\n",
    "    end_date,\n",
    "    curr_symbol,\n",
    "    timeframe=\"1m\",\n",
    "    step=500,\n",
    "    sleep_time=3,\n",
    "):\n",
    "    \"\"\"\n",
    "    Download historical data for given time period and currency.\n",
    "    \"\"\"\n",
    "    exchange = log_into_exchange(exchange_id)\n",
    "    hdbg.dassert_in(timeframe, exchange.timeframes)\n",
    "    hdbg.dassert(exchange.has[\"fetchTrades\"])\n",
    "    hdbg.dassert_in(curr_symbol, exchange.load_markets().keys())\n",
    "    start_date = exchange.parse8601(start_date)\n",
    "    end_date = exchange.parse8601(end_date)\n",
    "    latest_trade = start_date\n",
    "    all_trades = []\n",
    "    while latest_trade <= end_date:\n",
    "        trades = exchange.fetch_trades(\n",
    "            curr_symbol,\n",
    "            since=latest_trade,\n",
    "            limit=step,\n",
    "            params={\"endTime\": latest_trade + 36000},\n",
    "        )\n",
    "        print(\"Fetched\", len(trades), \"trades\")\n",
    "        if trades:\n",
    "            print(\n",
    "                \"From\",\n",
    "                exchange.iso8601(trades[0][\"timestamp\"]),\n",
    "                \"to\",\n",
    "                exchange.iso8601(trades[-1][\"timestamp\"]),\n",
    "            )\n",
    "            latest_trade = trades[-1][\"timestamp\"]\n",
    "        all_trades += trades\n",
    "        total_length = len(all_trades)\n",
    "        print(\"Fetched\", total_length, \"trades in total\")\n",
    "        time.sleep(sleep_time)\n",
    "    return all_trades"
   ]
  },
  {
   "cell_type": "markdown",
   "id": "0a5c107e",
   "metadata": {},
   "source": [
    "## Check availability of historical data for exchanges"
   ]
  },
  {
   "cell_type": "code",
   "execution_count": 127,
   "id": "167f21b4",
   "metadata": {},
   "outputs": [],
   "source": [
    "credentials = hio.from_json(\"API_keys.json\")"
   ]
  },
  {
   "cell_type": "code",
   "execution_count": 129,
   "id": "a80ef556",
   "metadata": {},
   "outputs": [
    {
     "name": "stdout",
     "output_type": "stream",
     "text": [
      "binance:\n",
      "Has fetchOHLCV: True\n",
      "Has fetchTrades: True\n",
      "Available timeframes:\n",
      "{'1m': '1m', '3m': '3m', '5m': '5m', '15m': '15m', '30m': '30m', '1h': '1h', '2h': '2h', '4h': '4h', '6h': '6h', '8h': '8h', '12h': '12h', '1d': '1d', '3d': '3d', '1w': '1w', '1M': '1M'}\n",
      "Available currency pairs:\n",
      "dict_keys(['ETH/BTC', 'LTC/BTC', 'BNB/BTC', 'NEO/BTC', 'QTUM/ETH', 'EOS/ETH', 'SNT/ETH', 'BNT/ETH', 'BCC/BTC', 'GAS/BTC', 'BNB/ETH', 'BTC/USDT', 'ETH/USDT', 'HSR/BTC', 'OAX/ETH', 'DNT/ETH', 'MCO/ETH', 'ICN/ETH', 'MCO/BTC', 'WTC/BTC', 'WTC/ETH', 'LRC/BTC', 'LRC/ETH', 'QTUM/BTC', 'YOYOW/BTC', 'OMG/BTC', 'OMG/ETH', 'ZRX/BTC', 'ZRX/ETH', 'STRAT/BTC', 'STRAT/ETH', 'SNGLS/BTC', 'SNGLS/ETH', 'BQX/BTC', 'BQX/ETH', 'KNC/BTC', 'KNC/ETH', 'FUN/BTC', 'FUN/ETH', 'SNM/BTC', 'SNM/ETH', 'NEO/ETH', 'IOTA/BTC', 'IOTA/ETH', 'LINK/BTC', 'LINK/ETH', 'XVG/BTC', 'XVG/ETH', 'SALT/BTC', 'SALT/ETH', 'MDA/BTC', 'MDA/ETH', 'MTL/BTC', 'MTL/ETH', 'SUB/BTC', 'SUB/ETH', 'EOS/BTC', 'SNT/BTC', 'ETC/ETH', 'ETC/BTC', 'MTH/BTC', 'MTH/ETH', 'ENG/BTC', 'ENG/ETH', 'DNT/BTC', 'ZEC/BTC', 'ZEC/ETH', 'BNT/BTC', 'AST/BTC', 'AST/ETH', 'DASH/BTC', 'DASH/ETH', 'OAX/BTC', 'ICN/BTC', 'BTG/BTC', 'BTG/ETH', 'EVX/BTC', 'EVX/ETH', 'REQ/BTC', 'REQ/ETH', 'VIB/BTC', 'VIB/ETH', 'HSR/ETH', 'TRX/BTC', 'TRX/ETH', 'POWR/BTC', 'POWR/ETH', 'ARK/BTC', 'ARK/ETH', 'YOYOW/ETH', 'XRP/BTC', 'XRP/ETH', 'MOD/BTC', 'MOD/ETH', 'ENJ/BTC', 'ENJ/ETH', 'STORJ/BTC', 'STORJ/ETH', 'BNB/USDT', 'VEN/BNB', 'YOYOW/BNB', 'POWR/BNB', 'VEN/BTC', 'VEN/ETH', 'KMD/BTC', 'KMD/ETH', 'NULS/BNB', 'RCN/BTC', 'RCN/ETH', 'RCN/BNB', 'NULS/BTC', 'NULS/ETH', 'RDN/BTC', 'RDN/ETH', 'RDN/BNB', 'XMR/BTC', 'XMR/ETH', 'DLT/BNB', 'WTC/BNB', 'DLT/BTC', 'DLT/ETH', 'AMB/BTC', 'AMB/ETH', 'AMB/BNB', 'BCC/ETH', 'BCC/USDT', 'BCC/BNB', 'BAT/BTC', 'BAT/ETH', 'BAT/BNB', 'BCPT/BTC', 'BCPT/ETH', 'BCPT/BNB', 'ARN/BTC', 'ARN/ETH', 'GVT/BTC', 'GVT/ETH', 'CDT/BTC', 'CDT/ETH', 'GXS/BTC', 'GXS/ETH', 'NEO/USDT', 'NEO/BNB', 'POE/BTC', 'POE/ETH', 'QSP/BTC', 'QSP/ETH', 'QSP/BNB', 'BTS/BTC', 'BTS/ETH', 'BTS/BNB', 'XZC/BTC', 'XZC/ETH', 'XZC/BNB', 'LSK/BTC', 'LSK/ETH', 'LSK/BNB', 'TNT/BTC', 'TNT/ETH', 'FUEL/BTC', 'FUEL/ETH', 'MANA/BTC', 'MANA/ETH', 'BCD/BTC', 'BCD/ETH', 'DGD/BTC', 'DGD/ETH', 'IOTA/BNB', 'ADX/BTC', 'ADX/ETH', 'ADX/BNB', 'ADA/BTC', 'ADA/ETH', 'PPT/BTC', 'PPT/ETH', 'CMT/BTC', 'CMT/ETH', 'CMT/BNB', 'XLM/BTC', 'XLM/ETH', 'XLM/BNB', 'CND/BTC', 'CND/ETH', 'CND/BNB', 'LEND/BTC', 'LEND/ETH', 'WABI/BTC', 'WABI/ETH', 'WABI/BNB', 'LTC/ETH', 'LTC/USDT', 'LTC/BNB', 'TNB/BTC', 'TNB/ETH', 'WAVES/BTC', 'WAVES/ETH', 'WAVES/BNB', 'GTO/BTC', 'GTO/ETH', 'GTO/BNB', 'ICX/BTC', 'ICX/ETH', 'ICX/BNB', 'OST/BTC', 'OST/ETH', 'OST/BNB', 'ELF/BTC', 'ELF/ETH', 'AION/BTC', 'AION/ETH', 'AION/BNB', 'NEBL/BTC', 'NEBL/ETH', 'NEBL/BNB', 'BRD/BTC', 'BRD/ETH', 'BRD/BNB', 'MCO/BNB', 'EDO/BTC', 'EDO/ETH', 'WINGS/BTC', 'WINGS/ETH', 'NAV/BTC', 'NAV/ETH', 'NAV/BNB', 'LUN/BTC', 'LUN/ETH', 'TRIG/BTC', 'TRIG/ETH', 'TRIG/BNB', 'APPC/BTC', 'APPC/ETH', 'APPC/BNB', 'VIBE/BTC', 'VIBE/ETH', 'RLC/BTC', 'RLC/ETH', 'RLC/BNB', 'INS/BTC', 'INS/ETH', 'PIVX/BTC', 'PIVX/ETH', 'PIVX/BNB', 'IOST/BTC', 'IOST/ETH', 'CHAT/BTC', 'CHAT/ETH', 'STEEM/BTC', 'STEEM/ETH', 'STEEM/BNB', 'NANO/BTC', 'NANO/ETH', 'NANO/BNB', 'VIA/BTC', 'VIA/ETH', 'VIA/BNB', 'BLZ/BTC', 'BLZ/ETH', 'BLZ/BNB', 'AE/BTC', 'AE/ETH', 'AE/BNB', 'RPX/BTC', 'RPX/ETH', 'RPX/BNB', 'NCASH/BTC', 'NCASH/ETH', 'NCASH/BNB', 'POA/BTC', 'POA/ETH', 'POA/BNB', 'ZIL/BTC', 'ZIL/ETH', 'ZIL/BNB', 'ONT/BTC', 'ONT/ETH', 'ONT/BNB', 'STORM/BTC', 'STORM/ETH', 'STORM/BNB', 'QTUM/BNB', 'QTUM/USDT', 'XEM/BTC', 'XEM/ETH', 'XEM/BNB', 'WAN/BTC', 'WAN/ETH', 'WAN/BNB', 'WPR/BTC', 'WPR/ETH', 'QLC/BTC', 'QLC/ETH', 'SYS/BTC', 'SYS/ETH', 'SYS/BNB', 'QLC/BNB', 'GRS/BTC', 'GRS/ETH', 'ADA/USDT', 'ADA/BNB', 'CLOAK/BTC', 'CLOAK/ETH', 'GNT/BTC', 'GNT/ETH', 'GNT/BNB', 'LOOM/BTC', 'LOOM/ETH', 'LOOM/BNB', 'XRP/USDT', 'BCN/BTC', 'BCN/ETH', 'BCN/BNB', 'REP/BTC', 'REP/ETH', 'REP/BNB', 'BTC/TUSD', 'TUSD/BTC', 'ETH/TUSD', 'TUSD/ETH', 'TUSD/BNB', 'ZEN/BTC', 'ZEN/ETH', 'ZEN/BNB', 'SKY/BTC', 'SKY/ETH', 'SKY/BNB', 'EOS/USDT', 'EOS/BNB', 'CVC/BTC', 'CVC/ETH', 'CVC/BNB', 'THETA/BTC', 'THETA/ETH', 'THETA/BNB', 'XRP/BNB', 'TUSD/USDT', 'IOTA/USDT', 'XLM/USDT', 'IOTX/BTC', 'IOTX/ETH', 'QKC/BTC', 'QKC/ETH', 'AGI/BTC', 'AGI/ETH', 'AGI/BNB', 'NXS/BTC', 'NXS/ETH', 'NXS/BNB', 'ENJ/BNB', 'DATA/BTC', 'DATA/ETH', 'ONT/USDT', 'TRX/BNB', 'TRX/USDT', 'ETC/USDT', 'ETC/BNB', 'ICX/USDT', 'SC/BTC', 'SC/ETH', 'SC/BNB', 'NPXS/BTC', 'NPXS/ETH', 'VEN/USDT', 'KEY/BTC', 'KEY/ETH', 'NAS/BTC', 'NAS/ETH', 'NAS/BNB', 'MFT/BTC', 'MFT/ETH', 'MFT/BNB', 'DENT/BTC', 'DENT/ETH', 'ARDR/BTC', 'ARDR/ETH', 'ARDR/BNB', 'NULS/USDT', 'HOT/BTC', 'HOT/ETH', 'VET/BTC', 'VET/ETH', 'VET/USDT', 'VET/BNB', 'DOCK/BTC', 'DOCK/ETH', 'POLY/BTC', 'POLY/BNB', 'PHX/BTC', 'PHX/ETH', 'PHX/BNB', 'HC/BTC', 'HC/ETH', 'GO/BTC', 'GO/BNB', 'PAX/BTC', 'PAX/BNB', 'PAX/USDT', 'PAX/ETH', 'RVN/BTC', 'RVN/BNB', 'DCR/BTC', 'DCR/BNB', 'USDC/BNB', 'MITH/BTC', 'MITH/BNB', 'BCH/BTC', 'BSV/BTC', 'BCH/USDT', 'BSV/USDT', 'BNB/PAX', 'BTC/PAX', 'ETH/PAX', 'XRP/PAX', 'EOS/PAX', 'XLM/PAX', 'REN/BTC', 'REN/BNB', 'BNB/TUSD', 'XRP/TUSD', 'EOS/TUSD', 'XLM/TUSD', 'BNB/USDC', 'BTC/USDC', 'ETH/USDC', 'XRP/USDC', 'EOS/USDC', 'XLM/USDC', 'USDC/USDT', 'ADA/TUSD', 'TRX/TUSD', 'NEO/TUSD', 'TRX/XRP', 'XZC/XRP', 'PAX/TUSD', 'USDC/TUSD', 'USDC/PAX', 'LINK/USDT', 'LINK/TUSD', 'LINK/PAX', 'LINK/USDC', 'WAVES/USDT', 'WAVES/TUSD', 'WAVES/PAX', 'WAVES/USDC', 'BCH/TUSD', 'BCH/PAX', 'BCH/USDC', 'BSV/TUSD', 'BSV/PAX', 'BSV/USDC', 'LTC/TUSD', 'LTC/PAX', 'LTC/USDC', 'TRX/PAX', 'TRX/USDC', 'BTT/BTC', 'BTT/BNB', 'BTT/USDT', 'BNB/USDS', 'BTC/USDS', 'USDS/USDT', 'USDS/PAX', 'USDS/TUSD', 'USDS/USDC', 'BTT/PAX', 'BTT/TUSD', 'BTT/USDC', 'ONG/BNB', 'ONG/BTC', 'ONG/USDT', 'HOT/BNB', 'HOT/USDT', 'ZIL/USDT', 'ZRX/BNB', 'ZRX/USDT', 'FET/BNB', 'FET/BTC', 'FET/USDT', 'BAT/USDT', 'XMR/BNB', 'XMR/USDT', 'ZEC/BNB', 'ZEC/USDT', 'ZEC/PAX', 'ZEC/TUSD', 'ZEC/USDC', 'IOST/BNB', 'IOST/USDT', 'CELR/BNB', 'CELR/BTC', 'CELR/USDT', 'ADA/PAX', 'ADA/USDC', 'NEO/PAX', 'NEO/USDC', 'DASH/BNB', 'DASH/USDT', 'NANO/USDT', 'OMG/BNB', 'OMG/USDT', 'THETA/USDT', 'ENJ/USDT', 'MITH/USDT', 'MATIC/BNB', 'MATIC/BTC', 'MATIC/USDT', 'ATOM/BNB', 'ATOM/BTC', 'ATOM/USDT', 'ATOM/USDC', 'ATOM/PAX', 'ATOM/TUSD', 'ETC/USDC', 'ETC/PAX', 'ETC/TUSD', 'BAT/USDC', 'BAT/PAX', 'BAT/TUSD', 'PHB/BNB', 'PHB/BTC', 'PHB/USDC', 'PHB/TUSD', 'PHB/PAX', 'TFUEL/BNB', 'TFUEL/BTC', 'TFUEL/USDT', 'TFUEL/USDC', 'TFUEL/TUSD', 'TFUEL/PAX', 'ONE/BNB', 'ONE/BTC', 'ONE/USDT', 'ONE/TUSD', 'ONE/PAX', 'ONE/USDC', 'FTM/BNB', 'FTM/BTC', 'FTM/USDT', 'FTM/TUSD', 'FTM/PAX', 'FTM/USDC', 'BTCB/BTC', 'BCPT/TUSD', 'BCPT/PAX', 'BCPT/USDC', 'ALGO/BNB', 'ALGO/BTC', 'ALGO/USDT', 'ALGO/TUSD', 'ALGO/PAX', 'ALGO/USDC', 'USDSB/USDT', 'USDSB/USDS', 'GTO/USDT', 'GTO/PAX', 'GTO/TUSD', 'GTO/USDC', 'ERD/BNB', 'ERD/BTC', 'ERD/USDT', 'ERD/PAX', 'ERD/USDC', 'DOGE/BNB', 'DOGE/BTC', 'DOGE/USDT', 'DOGE/PAX', 'DOGE/USDC', 'DUSK/BNB', 'DUSK/BTC', 'DUSK/USDT', 'DUSK/USDC', 'DUSK/PAX', 'BGBP/USDC', 'ANKR/BNB', 'ANKR/BTC', 'ANKR/USDT', 'ANKR/TUSD', 'ANKR/PAX', 'ANKR/USDC', 'ONT/PAX', 'ONT/USDC', 'WIN/BNB', 'WIN/BTC', 'WIN/USDT', 'WIN/USDC', 'COS/BNB', 'COS/BTC', 'COS/USDT', 'TUSDB/TUSD', 'NPXS/USDT', 'NPXS/USDC', 'COCOS/BNB', 'COCOS/BTC', 'COCOS/USDT', 'MTL/USDT', 'TOMO/BNB', 'TOMO/BTC', 'TOMO/USDT', 'TOMO/USDC', 'PERL/BNB', 'PERL/BTC', 'PERL/USDC', 'PERL/USDT', 'DENT/USDT', 'MFT/USDT', 'KEY/USDT', 'STORM/USDT', 'DOCK/USDT', 'WAN/USDT', 'FUN/USDT', 'CVC/USDT', 'BTT/TRX', 'WIN/TRX', 'CHZ/BNB', 'CHZ/BTC', 'CHZ/USDT', 'BAND/BNB', 'BAND/BTC', 'BAND/USDT', 'BNB/BUSD', 'BTC/BUSD', 'BUSD/USDT', 'BEAM/BNB', 'BEAM/BTC', 'BEAM/USDT', 'XTZ/BNB', 'XTZ/BTC', 'XTZ/USDT', 'REN/USDT', 'RVN/USDT', 'HC/USDT', 'HBAR/BNB', 'HBAR/BTC', 'HBAR/USDT', 'NKN/BNB', 'NKN/BTC', 'NKN/USDT', 'XRP/BUSD', 'ETH/BUSD', 'BCH/BUSD', 'LTC/BUSD', 'LINK/BUSD', 'ETC/BUSD', 'STX/BNB', 'STX/BTC', 'STX/USDT', 'KAVA/BNB', 'KAVA/BTC', 'KAVA/USDT', 'BUSD/NGN', 'BNB/NGN', 'BTC/NGN', 'ARPA/BNB', 'ARPA/BTC', 'ARPA/USDT', 'TRX/BUSD', 'EOS/BUSD', 'IOTX/USDT', 'RLC/USDT', 'MCO/USDT', 'XLM/BUSD', 'ADA/BUSD', 'CTXC/BNB', 'CTXC/BTC', 'CTXC/USDT', 'BCH/BNB', 'BTC/RUB', 'ETH/RUB', 'XRP/RUB', 'BNB/RUB', 'TROY/BNB', 'TROY/BTC', 'TROY/USDT', 'BUSD/RUB', 'QTUM/BUSD', 'VET/BUSD', 'VITE/BNB', 'VITE/BTC', 'VITE/USDT', 'FTT/BNB', 'FTT/BTC', 'FTT/USDT', 'BTC/TRY', 'BNB/TRY', 'BUSD/TRY', 'ETH/TRY', 'XRP/TRY', 'USDT/TRY', 'USDT/RUB', 'BTC/EUR', 'ETH/EUR', 'BNB/EUR', 'XRP/EUR', 'EUR/BUSD', 'EUR/USDT', 'OGN/BNB', 'OGN/BTC', 'OGN/USDT', 'DREP/BNB', 'DREP/BTC', 'DREP/USDT', 'BULL/USDT', 'BULL/BUSD', 'BEAR/USDT', 'BEAR/BUSD', 'ETHBULL/USDT', 'ETHBULL/BUSD', 'ETHBEAR/USDT', 'ETHBEAR/BUSD', 'TCT/BNB', 'TCT/BTC', 'TCT/USDT', 'WRX/BNB', 'WRX/BTC', 'WRX/USDT', 'ICX/BUSD', 'BTS/USDT', 'BTS/BUSD', 'LSK/USDT', 'BNT/USDT', 'BNT/BUSD', 'LTO/BNB', 'LTO/BTC', 'LTO/USDT', 'ATOM/BUSD', 'DASH/BUSD', 'NEO/BUSD', 'WAVES/BUSD', 'XTZ/BUSD', 'EOSBULL/USDT', 'EOSBULL/BUSD', 'EOSBEAR/USDT', 'EOSBEAR/BUSD', 'XRPBULL/USDT', 'XRPBULL/BUSD', 'XRPBEAR/USDT', 'XRPBEAR/BUSD', 'BAT/BUSD', 'ENJ/BUSD', 'NANO/BUSD', 'ONT/BUSD', 'RVN/BUSD', 'STRAT/BUSD', 'STRAT/BNB', 'STRAT/USDT', 'AION/BUSD', 'AION/USDT', 'MBL/BNB', 'MBL/BTC', 'MBL/USDT', 'COTI/BNB', 'COTI/BTC', 'COTI/USDT', 'ALGO/BUSD', 'BTT/BUSD', 'TOMO/BUSD', 'XMR/BUSD', 'ZEC/BUSD', 'BNBBULL/USDT', 'BNBBULL/BUSD', 'BNBBEAR/USDT', 'BNBBEAR/BUSD', 'STPT/BNB', 'STPT/BTC', 'STPT/USDT', 'BTC/ZAR', 'ETH/ZAR', 'BNB/ZAR', 'USDT/ZAR', 'BUSD/ZAR', 'BTC/BKRW', 'ETH/BKRW', 'BNB/BKRW', 'WTC/USDT', 'DATA/BUSD', 'DATA/USDT', 'XZC/USDT', 'SOL/BNB', 'SOL/BTC', 'SOL/USDT', 'SOL/BUSD', 'BTC/IDRT', 'BNB/IDRT', 'USDT/IDRT', 'BUSD/IDRT', 'CTSI/BTC', 'CTSI/USDT', 'CTSI/BNB', 'CTSI/BUSD', 'HIVE/BNB', 'HIVE/BTC', 'HIVE/USDT', 'CHR/BNB', 'CHR/BTC', 'CHR/USDT', 'BTCUP/USDT', 'BTCDOWN/USDT', 'GXS/USDT', 'ARDR/USDT', 'ERD/BUSD', 'LEND/USDT', 'HBAR/BUSD', 'MATIC/BUSD', 'WRX/BUSD', 'ZIL/BUSD', 'MDT/BNB', 'MDT/BTC', 'MDT/USDT', 'STMX/BNB', 'STMX/BTC', 'STMX/ETH', 'STMX/USDT', 'KNC/BUSD', 'KNC/USDT', 'REP/BUSD', 'REP/USDT', 'LRC/BUSD', 'LRC/USDT', 'IQ/BNB', 'IQ/BUSD', 'PNT/BTC', 'PNT/USDT', 'BTC/GBP', 'ETH/GBP', 'XRP/GBP', 'BNB/GBP', 'GBP/BUSD', 'DGB/BNB', 'DGB/BTC', 'DGB/BUSD', 'BTC/UAH', 'USDT/UAH', 'COMP/BTC', 'COMP/BNB', 'COMP/BUSD', 'COMP/USDT', 'BTC/BIDR', 'ETH/BIDR', 'BNB/BIDR', 'BUSD/BIDR', 'USDT/BIDR', 'BKRW/USDT', 'BKRW/BUSD', 'SC/USDT', 'ZEN/USDT', 'SXP/BTC', 'SXP/BNB', 'SXP/BUSD', 'SNX/BTC', 'SNX/BNB', 'SNX/BUSD', 'SNX/USDT', 'ETHUP/USDT', 'ETHDOWN/USDT', 'ADAUP/USDT', 'ADADOWN/USDT', 'LINKUP/USDT', 'LINKDOWN/USDT', 'VTHO/BNB', 'VTHO/BUSD', 'VTHO/USDT', 'DCR/BUSD', 'DGB/USDT', 'GBP/USDT', 'STORJ/BUSD', 'SXP/USDT', 'IRIS/BNB', 'IRIS/BTC', 'IRIS/BUSD', 'MKR/BNB', 'MKR/BTC', 'MKR/USDT', 'MKR/BUSD', 'DAI/BNB', 'DAI/BTC', 'DAI/USDT', 'DAI/BUSD', 'RUNE/BNB', 'RUNE/BTC', 'RUNE/BUSD', 'MANA/BUSD', 'DOGE/BUSD', 'LEND/BUSD', 'ZRX/BUSD', 'DCR/USDT', 'STORJ/USDT', 'XRP/BKRW', 'ADA/BKRW', 'BTC/AUD', 'ETH/AUD', 'AUD/BUSD', 'FIO/BNB', 'FIO/BTC', 'FIO/BUSD', 'BNBUP/USDT', 'BNBDOWN/USDT', 'XTZUP/USDT', 'XTZDOWN/USDT', 'AVA/BNB', 'AVA/BTC', 'AVA/BUSD', 'USDT/BKRW', 'BUSD/BKRW', 'IOTA/BUSD', 'MANA/USDT', 'XRP/AUD', 'BNB/AUD', 'AUD/USDT', 'BAL/BNB', 'BAL/BTC', 'BAL/BUSD', 'YFI/BNB', 'YFI/BTC', 'YFI/BUSD', 'YFI/USDT', 'BLZ/BUSD', 'KMD/BUSD', 'BAL/USDT', 'BLZ/USDT', 'IRIS/USDT', 'KMD/USDT', 'BTC/DAI', 'ETH/DAI', 'BNB/DAI', 'USDT/DAI', 'BUSD/DAI', 'JST/BNB', 'JST/BTC', 'JST/BUSD', 'JST/USDT', 'SRM/BNB', 'SRM/BTC', 'SRM/BUSD', 'SRM/USDT', 'ANT/BNB', 'ANT/BTC', 'ANT/BUSD', 'ANT/USDT', 'CRV/BNB', 'CRV/BTC', 'CRV/BUSD', 'CRV/USDT', 'SAND/BNB', 'SAND/BTC', 'SAND/USDT', 'SAND/BUSD', 'OCEAN/BNB', 'OCEAN/BTC', 'OCEAN/BUSD', 'OCEAN/USDT', 'NMR/BNB', 'NMR/BTC', 'NMR/BUSD', 'NMR/USDT', 'DOT/BNB', 'DOT/BTC', 'DOT/BUSD', 'DOT/USDT', 'LUNA/BNB', 'LUNA/BTC', 'LUNA/BUSD', 'LUNA/USDT', 'IDEX/BTC', 'IDEX/BUSD', 'RSR/BNB', 'RSR/BTC', 'RSR/BUSD', 'RSR/USDT', 'PAXG/BNB', 'PAXG/BTC', 'PAXG/BUSD', 'PAXG/USDT', 'WNXM/BNB', 'WNXM/BTC', 'WNXM/BUSD', 'WNXM/USDT', 'TRB/BNB', 'TRB/BTC', 'TRB/BUSD', 'TRB/USDT', 'ETH/NGN', 'DOT/BIDR', 'LINK/AUD', 'SXP/AUD', 'BZRX/BNB', 'BZRX/BTC', 'BZRX/BUSD', 'BZRX/USDT', 'WBTC/BTC', 'WBTC/ETH', 'SUSHI/BNB', 'SUSHI/BTC', 'SUSHI/BUSD', 'SUSHI/USDT', 'YFII/BNB', 'YFII/BTC', 'YFII/BUSD', 'YFII/USDT', 'KSM/BNB', 'KSM/BTC', 'KSM/BUSD', 'KSM/USDT', 'EGLD/BNB', 'EGLD/BTC', 'EGLD/BUSD', 'EGLD/USDT', 'DIA/BNB', 'DIA/BTC', 'DIA/BUSD', 'DIA/USDT', 'RUNE/USDT', 'FIO/USDT', 'UMA/BTC', 'UMA/USDT', 'EOSUP/USDT', 'EOSDOWN/USDT', 'TRXUP/USDT', 'TRXDOWN/USDT', 'XRPUP/USDT', 'XRPDOWN/USDT', 'DOTUP/USDT', 'DOTDOWN/USDT', 'SRM/BIDR', 'ONE/BIDR', 'LINK/TRY', 'USDT/NGN', 'BEL/BNB', 'BEL/BTC', 'BEL/BUSD', 'BEL/USDT', 'WING/BNB', 'WING/BTC', 'SWRV/BNB', 'SWRV/BUSD', 'WING/BUSD', 'WING/USDT', 'LTCUP/USDT', 'LTCDOWN/USDT', 'LEND/BKRW', 'SXP/EUR', 'CREAM/BNB', 'CREAM/BUSD', 'UNI/BNB', 'UNI/BTC', 'UNI/BUSD', 'UNI/USDT', 'NBS/BTC', 'NBS/USDT', 'OXT/BTC', 'OXT/USDT', 'SUN/BTC', 'SUN/USDT', 'AVAX/BNB', 'AVAX/BTC', 'AVAX/BUSD', 'AVAX/USDT', 'HNT/BTC', 'HNT/USDT', 'BAKE/BNB', 'BURGER/BNB', 'SXP/BIDR', 'LINK/BKRW', 'FLM/BNB', 'FLM/BTC', 'FLM/BUSD', 'FLM/USDT', 'SCRT/BTC', 'SCRT/ETH', 'CAKE/BNB', 'CAKE/BUSD', 'SPARTA/BNB', 'UNIUP/USDT', 'UNIDOWN/USDT', 'ORN/BTC', 'ORN/USDT', 'TRX/NGN', 'SXP/TRY', 'UTK/BTC', 'UTK/USDT', 'XVS/BNB', 'XVS/BTC', 'XVS/BUSD', 'XVS/USDT', 'ALPHA/BNB', 'ALPHA/BTC', 'ALPHA/BUSD', 'ALPHA/USDT', 'VIDT/BTC', 'VIDT/BUSD', 'AAVE/BNB', 'BTC/BRL', 'USDT/BRL', 'AAVE/BTC', 'AAVE/ETH', 'AAVE/BUSD', 'AAVE/USDT', 'AAVE/BKRW', 'NEAR/BNB', 'NEAR/BTC', 'NEAR/BUSD', 'NEAR/USDT', 'SXPUP/USDT', 'SXPDOWN/USDT', 'DOT/BKRW', 'SXP/GBP', 'FIL/BNB', 'FIL/BTC', 'FIL/BUSD', 'FIL/USDT', 'FILUP/USDT', 'FILDOWN/USDT', 'YFIUP/USDT', 'YFIDOWN/USDT', 'INJ/BNB', 'INJ/BTC', 'INJ/BUSD', 'INJ/USDT', 'AERGO/BTC', 'AERGO/BUSD', 'LINK/EUR', 'ONE/BUSD', 'EASY/ETH', 'AUDIO/BTC', 'AUDIO/BUSD', 'AUDIO/USDT', 'CTK/BNB', 'CTK/BTC', 'CTK/BUSD', 'CTK/USDT', 'BCHUP/USDT', 'BCHDOWN/USDT', 'BOT/BTC', 'BOT/BUSD', 'ETH/BRL', 'DOT/EUR', 'AKRO/BTC', 'AKRO/USDT', 'KP3R/BNB', 'KP3R/BUSD', 'AXS/BNB', 'AXS/BTC', 'AXS/BUSD', 'AXS/USDT', 'HARD/BNB', 'HARD/BTC', 'HARD/BUSD', 'HARD/USDT', 'BNB/BRL', 'LTC/EUR', 'RENBTC/BTC', 'RENBTC/ETH', 'DNT/BUSD', 'DNT/USDT', 'SLP/ETH', 'ADA/EUR', 'LTC/NGN', 'CVP/ETH', 'CVP/BUSD', 'STRAX/BTC', 'STRAX/ETH', 'STRAX/BUSD', 'STRAX/USDT', 'FOR/BTC', 'FOR/BUSD', 'UNFI/BNB', 'UNFI/BTC', 'UNFI/BUSD', 'UNFI/USDT', 'FRONT/ETH', 'FRONT/BUSD', 'BCHA/BUSD', 'ROSE/BTC', 'ROSE/BUSD', 'ROSE/USDT', 'AVAX/TRY', 'BUSD/BRL', 'AVA/USDT', 'SYS/BUSD', 'XEM/USDT', 'HEGIC/ETH', 'HEGIC/BUSD', 'AAVEUP/USDT', 'AAVEDOWN/USDT', 'PROM/BNB', 'PROM/BUSD', 'XRP/BRL', 'XRP/NGN', 'SKL/BTC', 'SKL/BUSD', 'SKL/USDT', 'BCH/EUR', 'YFI/EUR', 'ZIL/BIDR', 'SUSD/BTC', 'SUSD/ETH', 'SUSD/USDT', 'COVER/ETH', 'COVER/BUSD', 'GLM/BTC', 'GLM/ETH', 'GHST/ETH', 'GHST/BUSD', 'SUSHIUP/USDT', 'SUSHIDOWN/USDT', 'XLMUP/USDT', 'XLMDOWN/USDT', 'LINK/BRL', 'LINK/NGN', 'LTC/RUB', 'TRX/TRY', 'XLM/EUR', 'DF/ETH', 'DF/BUSD', 'GRT/BTC', 'GRT/ETH', 'GRT/USDT', 'JUV/BTC', 'JUV/BUSD', 'JUV/USDT', 'PSG/BTC', 'PSG/BUSD', 'PSG/USDT', 'BUSD/BVND', 'USDT/BVND', '1INCH/BTC', '1INCH/USDT', 'REEF/BTC', 'REEF/USDT', 'OG/BTC', 'OG/USDT', 'ATM/BTC', 'ATM/USDT', 'ASR/BTC', 'ASR/USDT', 'CELO/BTC', 'CELO/USDT', 'RIF/BTC', 'RIF/USDT', 'CHZ/TRY', 'XLM/TRY', 'LINK/GBP', 'GRT/EUR', 'BTCST/BTC', 'BTCST/BUSD', 'BTCST/USDT', 'TRU/BTC', 'TRU/BUSD', 'TRU/USDT', 'DEXE/ETH', 'DEXE/BUSD', 'EOS/EUR', 'LTC/BRL', 'USDC/BUSD', 'TUSD/BUSD', 'PAX/BUSD', 'CKB/BTC', 'CKB/BUSD', 'CKB/USDT', 'TWT/BTC', 'TWT/BUSD', 'TWT/USDT', 'FIRO/BTC', 'FIRO/ETH', 'FIRO/USDT', 'BETH/ETH', 'DOGE/EUR', 'DOGE/TRY', 'DOGE/AUD', 'DOGE/BRL', 'DOT/NGN', 'PROS/ETH', 'LIT/BTC', 'LIT/BUSD', 'LIT/USDT', 'BTC/VAI', 'BUSD/VAI', 'SFP/BTC', 'SFP/BUSD', 'SFP/USDT', 'DOGE/GBP', 'DOT/TRY', 'FXS/BTC', 'FXS/BUSD', 'DODO/BTC', 'DODO/BUSD', 'DODO/USDT', 'FRONT/BTC', 'EASY/BTC', 'CAKE/BTC', 'CAKE/USDT', 'BAKE/BUSD', 'UFT/ETH', 'UFT/BUSD', '1INCH/BUSD', 'BAND/BUSD', 'GRT/BUSD', 'IOST/BUSD', 'OMG/BUSD', 'REEF/BUSD', 'ACM/BTC', 'ACM/BUSD', 'ACM/USDT', 'AUCTION/BTC', 'AUCTION/BUSD', 'PHA/BTC', 'PHA/BUSD', 'DOT/GBP', 'ADA/TRY', 'ADA/BRL', 'ADA/GBP', 'TVK/BTC', 'TVK/BUSD', 'BADGER/BTC', 'BADGER/BUSD', 'BADGER/USDT', 'FIS/BTC', 'FIS/BUSD', 'FIS/USDT', 'DOT/BRL', 'ADA/AUD', 'HOT/TRY', 'EGLD/EUR', 'OM/BTC', 'OM/BUSD', 'OM/USDT', 'POND/BTC', 'POND/BUSD', 'POND/USDT', 'DEGO/BTC', 'DEGO/BUSD', 'DEGO/USDT', 'AVAX/EUR', 'BTT/TRY', 'CHZ/BRL', 'UNI/EUR', 'ALICE/BTC', 'ALICE/BUSD', 'ALICE/USDT', 'CHZ/BUSD', 'CHZ/EUR', 'CHZ/GBP', 'BIFI/BNB', 'BIFI/BUSD', 'LINA/BTC', 'LINA/BUSD', 'LINA/USDT', 'ADA/RUB', 'ENJ/BRL', 'ENJ/EUR', 'MATIC/EUR', 'NEO/TRY', 'PERP/BTC', 'PERP/BUSD', 'PERP/USDT', 'RAMP/BTC', 'RAMP/BUSD', 'RAMP/USDT', 'SUPER/BTC', 'SUPER/BUSD', 'SUPER/USDT', 'CFX/BTC', 'CFX/BUSD', 'CFX/USDT', 'ENJ/GBP', 'EOS/TRY', 'LTC/GBP', 'LUNA/EUR', 'RVN/TRY', 'THETA/EUR', 'XVG/BUSD', 'EPS/BTC', 'EPS/BUSD', 'EPS/USDT', 'AUTO/BTC', 'AUTO/BUSD', 'AUTO/USDT', 'TKO/BTC', 'TKO/BIDR', 'TKO/BUSD', 'TKO/USDT', 'PUNDIX/ETH', 'PUNDIX/USDT', 'BTT/BRL', 'BTT/EUR', 'HOT/EUR', 'WIN/EUR', 'TLM/BTC', 'TLM/BUSD', 'TLM/USDT', '1INCHUP/USDT', '1INCHDOWN/USDT', 'BTG/BUSD', 'BTG/USDT', 'HOT/BUSD', 'BNB/UAH', 'ONT/TRY', 'VET/EUR', 'VET/GBP', 'WIN/BRL', 'MIR/BTC', 'MIR/BUSD', 'MIR/USDT', 'BAR/BTC', 'BAR/BUSD', 'BAR/USDT', 'FORTH/BTC', 'FORTH/BUSD', 'FORTH/USDT', 'CAKE/GBP', 'DOGE/RUB', 'HOT/BRL', 'WRX/EUR', 'EZ/BTC', 'EZ/ETH', 'BAKE/USDT', 'BURGER/BUSD', 'BURGER/USDT', 'SLP/BUSD', 'SLP/USDT', 'TRX/AUD', 'TRX/EUR', 'VET/TRY', 'SHIB/USDT', 'SHIB/BUSD', 'ICP/BTC', 'ICP/BNB', 'ICP/BUSD', 'ICP/USDT', 'BTC/GYEN', 'USDT/GYEN', 'SHIB/EUR', 'SHIB/RUB', 'ETC/EUR', 'ETC/BRL', 'DOGE/BIDR', 'AR/BTC', 'AR/BNB', 'AR/BUSD', 'AR/USDT', 'POLS/BTC', 'POLS/BNB', 'POLS/BUSD', 'POLS/USDT', 'MDX/BTC', 'MDX/BNB', 'MDX/BUSD', 'MDX/USDT', 'MASK/BNB', 'MASK/BUSD', 'MASK/USDT', 'LPT/BTC', 'LPT/BNB', 'LPT/BUSD', 'LPT/USDT', 'ETH/UAH', 'MATIC/BRL', 'SOL/EUR', 'SHIB/BRL', 'AGIX/BTC', 'ICP/EUR', 'MATIC/GBP', 'SHIB/TRY', 'MATIC/BIDR', 'MATIC/RUB', 'NU/BTC', 'NU/BNB', 'NU/BUSD', 'NU/USDT', 'XVG/USDT', 'RLC/BUSD', 'CELR/BUSD', 'ATM/BUSD', 'ZEN/BUSD', 'FTM/BUSD', 'THETA/BUSD', 'WIN/BUSD', 'KAVA/BUSD', 'XEM/BUSD', 'ATA/BTC', 'ATA/BNB', 'ATA/BUSD', 'ATA/USDT', 'GTC/BTC', 'GTC/BNB', 'GTC/BUSD', 'GTC/USDT', 'TORN/BTC', 'TORN/BNB', 'TORN/BUSD', 'TORN/USDT', 'MATIC/TRY', 'ETC/GBP', 'SOL/GBP', 'BAKE/BTC', 'COTI/BUSD', 'KEEP/BTC', 'KEEP/BNB', 'KEEP/BUSD', 'KEEP/USDT', 'SOL/TRY', 'RUNE/GBP', 'SOL/BRL', 'SC/BUSD', 'CHR/BUSD', 'STMX/BUSD', 'HNT/BUSD', 'FTT/BUSD', 'DOCK/BUSD', 'ADA/BIDR', 'ERN/BNB', 'ERN/BUSD', 'ERN/USDT', 'KLAY/BTC', 'KLAY/BNB', 'KLAY/BUSD', 'KLAY/USDT', 'RUNE/EUR', 'MATIC/AUD', 'DOT/RUB', 'UTK/BUSD', 'IOTX/BUSD', 'PHA/USDT', 'SOL/RUB', 'RUNE/AUD', 'BUSD/UAH', 'BOND/BTC', 'BOND/BNB', 'BOND/BUSD', 'BOND/USDT', 'MLN/BTC', 'MLN/BNB', 'MLN/BUSD', 'MLN/USDT', 'GRT/TRY', 'CAKE/BRL', 'ICP/RUB', 'DOT/AUD', 'AAVE/BRL', 'EOS/AUD', 'DEXE/USDT', 'LTO/BUSD', 'ADX/BUSD', 'QUICK/BTC', 'QUICK/BNB', 'QUICK/BUSD', 'C98/USDT', 'C98/BUSD', 'C98/BNB', 'C98/BTC', 'CLV/BTC', 'CLV/BNB', 'CLV/BUSD', 'CLV/USDT', 'QNT/BTC', 'QNT/BNB', 'QNT/BUSD', 'QNT/USDT', 'FLOW/BTC', 'FLOW/BNB', 'FLOW/BUSD', 'FLOW/USDT', 'XEC/BUSD', 'AXS/BRL', 'AXS/AUD', 'TVK/USDT', 'MINA/BTC', 'MINA/BNB', 'MINA/BUSD', 'MINA/USDT', 'RAY/BNB', 'RAY/BUSD', 'RAY/USDT', 'FARM/BTC', 'FARM/BNB', 'FARM/BUSD', 'FARM/USDT', 'ALPACA/BTC', 'ALPACA/BNB', 'ALPACA/BUSD', 'ALPACA/USDT', 'TLM/TRY', 'QUICK/USDT', 'ORN/BUSD', 'MBOX/BTC', 'MBOX/BNB', 'MBOX/BUSD', 'MBOX/USDT', 'VGX/BTC', 'VGX/ETH', 'FOR/USDT', 'REQ/USDT', 'GHST/USDT', 'TRU/RUB', 'FIS/BRL', 'WAXP/USDT', 'WAXP/BUSD', 'WAXP/BNB', 'WAXP/BTC', 'TRIBE/BTC', 'TRIBE/BNB', 'TRIBE/BUSD', 'TRIBE/USDT', 'GNO/USDT', 'GNO/BUSD', 'GNO/BNB', 'GNO/BTC', 'ARPA/TRY', 'PROM/BTC', 'MTL/BUSD', 'OGN/BUSD', 'XEC/USDT', 'C98/BRL', 'SOL/AUD', 'SUSHI/BIDR', 'XRP/BIDR'])\n",
      "==================================================\n",
      "coinbase:\n",
      "Has fetchOHLCV: False\n",
      "Has fetchTrades: False\n",
      "Available timeframes:\n",
      "None\n",
      "Available currency pairs:\n"
     ]
    },
    {
     "name": "stdout",
     "output_type": "stream",
     "text": [
      "dict_keys(['BTC/AED', 'BTC/AFN', 'BTC/ALL', 'BTC/AMD', 'BTC/ANG', 'BTC/AOA', 'BTC/ARS', 'BTC/AUD', 'BTC/AWG', 'BTC/AZN', 'BTC/BAM', 'BTC/BBD', 'BTC/BDT', 'BTC/BGN', 'BTC/BHD', 'BTC/BIF', 'BTC/BMD', 'BTC/BND', 'BTC/BOB', 'BTC/BRL', 'BTC/BSD', 'BTC/BTN', 'BTC/BWP', 'BTC/BYN', 'BTC/BYR', 'BTC/BZD', 'BTC/CAD', 'BTC/CDF', 'BTC/CHF', 'BTC/CLF', 'BTC/CLP', 'BTC/CNH', 'BTC/CNY', 'BTC/COP', 'BTC/CRC', 'BTC/CUC', 'BTC/CVE', 'BTC/CZK', 'BTC/DJF', 'BTC/DKK', 'BTC/DOP', 'BTC/DZD', 'BTC/EGP', 'BTC/ERN', 'BTC/ETB', 'BTC/EUR', 'BTC/FJD', 'BTC/FKP', 'BTC/GBP', 'BTC/GBX', 'BTC/GEL', 'BTC/GGP', 'BTC/GHS', 'BTC/GIP', 'BTC/GMD', 'BTC/GNF', 'BTC/GTQ', 'BTC/GYD', 'BTC/HKD', 'BTC/HNL', 'BTC/HRK', 'BTC/HTG', 'BTC/HUF', 'BTC/IDR', 'BTC/ILS', 'BTC/IMP', 'BTC/INR', 'BTC/IQD', 'BTC/ISK', 'BTC/JEP', 'BTC/JMD', 'BTC/JOD', 'BTC/JPY', 'BTC/KES', 'BTC/KGS', 'BTC/KHR', 'BTC/KMF', 'BTC/KRW', 'BTC/KWD', 'BTC/KYD', 'BTC/KZT', 'BTC/LAK', 'BTC/LBP', 'BTC/LKR', 'BTC/LRD', 'BTC/LSL', 'BTC/LYD', 'BTC/MAD', 'BTC/MDL', 'BTC/MGA', 'BTC/MKD', 'BTC/MMK', 'BTC/MNT', 'BTC/MOP', 'BTC/MRO', 'BTC/MTL', 'BTC/MUR', 'BTC/MVR', 'BTC/MWK', 'BTC/MXN', 'BTC/MYR', 'BTC/MZN', 'BTC/NAD', 'BTC/NGN', 'BTC/NIO', 'BTC/NOK', 'BTC/NPR', 'BTC/NZD', 'BTC/OMR', 'BTC/PAB', 'BTC/PEN', 'BTC/PGK', 'BTC/PHP', 'BTC/PKR', 'BTC/PLN', 'BTC/PYG', 'BTC/QAR', 'BTC/RON', 'BTC/RSD', 'BTC/RUB', 'BTC/RWF', 'BTC/SAR', 'BTC/SBD', 'BTC/SCR', 'BTC/SEK', 'BTC/SGD', 'BTC/SHP', 'BTC/SLL', 'BTC/SOS', 'BTC/SRD', 'BTC/SSP', 'BTC/STD', 'BTC/SVC', 'BTC/SZL', 'BTC/THB', 'BTC/TJS', 'BTC/TMM', 'BTC/TMT', 'BTC/TND', 'BTC/TOP', 'BTC/TRY', 'BTC/TTD', 'BTC/TWD', 'BTC/TZS', 'BTC/UAH', 'BTC/UGX', 'BTC/USD', 'BTC/UYU', 'BTC/UZS', 'BTC/VES', 'BTC/VND', 'BTC/VUV', 'BTC/WST', 'BTC/XAF', 'BTC/XAG', 'BTC/XAU', 'BTC/XCD', 'BTC/XDR', 'BTC/XOF', 'BTC/XPD', 'BTC/XPF', 'BTC/XPT', 'BTC/YER', 'BTC/ZAR', 'BTC/ZMW', 'BTC/ZWL', 'BCH/AED', 'BCH/AFN', 'BCH/ALL', 'BCH/AMD', 'BCH/ANG', 'BCH/AOA', 'BCH/ARS', 'BCH/AUD', 'BCH/AWG', 'BCH/AZN', 'BCH/BAM', 'BCH/BBD', 'BCH/BDT', 'BCH/BGN', 'BCH/BHD', 'BCH/BIF', 'BCH/BMD', 'BCH/BND', 'BCH/BOB', 'BCH/BRL', 'BCH/BSD', 'BCH/BTN', 'BCH/BWP', 'BCH/BYN', 'BCH/BYR', 'BCH/BZD', 'BCH/CAD', 'BCH/CDF', 'BCH/CHF', 'BCH/CLF', 'BCH/CLP', 'BCH/CNH', 'BCH/CNY', 'BCH/COP', 'BCH/CRC', 'BCH/CUC', 'BCH/CVE', 'BCH/CZK', 'BCH/DJF', 'BCH/DKK', 'BCH/DOP', 'BCH/DZD', 'BCH/EGP', 'BCH/ERN', 'BCH/ETB', 'BCH/EUR', 'BCH/FJD', 'BCH/FKP', 'BCH/GBP', 'BCH/GBX', 'BCH/GEL', 'BCH/GGP', 'BCH/GHS', 'BCH/GIP', 'BCH/GMD', 'BCH/GNF', 'BCH/GTQ', 'BCH/GYD', 'BCH/HKD', 'BCH/HNL', 'BCH/HRK', 'BCH/HTG', 'BCH/HUF', 'BCH/IDR', 'BCH/ILS', 'BCH/IMP', 'BCH/INR', 'BCH/IQD', 'BCH/ISK', 'BCH/JEP', 'BCH/JMD', 'BCH/JOD', 'BCH/JPY', 'BCH/KES', 'BCH/KGS', 'BCH/KHR', 'BCH/KMF', 'BCH/KRW', 'BCH/KWD', 'BCH/KYD', 'BCH/KZT', 'BCH/LAK', 'BCH/LBP', 'BCH/LKR', 'BCH/LRD', 'BCH/LSL', 'BCH/LYD', 'BCH/MAD', 'BCH/MDL', 'BCH/MGA', 'BCH/MKD', 'BCH/MMK', 'BCH/MNT', 'BCH/MOP', 'BCH/MRO', 'BCH/MTL', 'BCH/MUR', 'BCH/MVR', 'BCH/MWK', 'BCH/MXN', 'BCH/MYR', 'BCH/MZN', 'BCH/NAD', 'BCH/NGN', 'BCH/NIO', 'BCH/NOK', 'BCH/NPR', 'BCH/NZD', 'BCH/OMR', 'BCH/PAB', 'BCH/PEN', 'BCH/PGK', 'BCH/PHP', 'BCH/PKR', 'BCH/PLN', 'BCH/PYG', 'BCH/QAR', 'BCH/RON', 'BCH/RSD', 'BCH/RUB', 'BCH/RWF', 'BCH/SAR', 'BCH/SBD', 'BCH/SCR', 'BCH/SEK', 'BCH/SGD', 'BCH/SHP', 'BCH/SLL', 'BCH/SOS', 'BCH/SRD', 'BCH/SSP', 'BCH/STD', 'BCH/SVC', 'BCH/SZL', 'BCH/THB', 'BCH/TJS', 'BCH/TMM', 'BCH/TMT', 'BCH/TND', 'BCH/TOP', 'BCH/TRY', 'BCH/TTD', 'BCH/TWD', 'BCH/TZS', 'BCH/UAH', 'BCH/UGX', 'BCH/USD', 'BCH/UYU', 'BCH/UZS', 'BCH/VES', 'BCH/VND', 'BCH/VUV', 'BCH/WST', 'BCH/XAF', 'BCH/XAG', 'BCH/XAU', 'BCH/XCD', 'BCH/XDR', 'BCH/XOF', 'BCH/XPD', 'BCH/XPF', 'BCH/XPT', 'BCH/YER', 'BCH/ZAR', 'BCH/ZMW', 'BCH/ZWL', 'BSV/AED', 'BSV/AFN', 'BSV/ALL', 'BSV/AMD', 'BSV/ANG', 'BSV/AOA', 'BSV/ARS', 'BSV/AUD', 'BSV/AWG', 'BSV/AZN', 'BSV/BAM', 'BSV/BBD', 'BSV/BDT', 'BSV/BGN', 'BSV/BHD', 'BSV/BIF', 'BSV/BMD', 'BSV/BND', 'BSV/BOB', 'BSV/BRL', 'BSV/BSD', 'BSV/BTN', 'BSV/BWP', 'BSV/BYN', 'BSV/BYR', 'BSV/BZD', 'BSV/CAD', 'BSV/CDF', 'BSV/CHF', 'BSV/CLF', 'BSV/CLP', 'BSV/CNH', 'BSV/CNY', 'BSV/COP', 'BSV/CRC', 'BSV/CUC', 'BSV/CVE', 'BSV/CZK', 'BSV/DJF', 'BSV/DKK', 'BSV/DOP', 'BSV/DZD', 'BSV/EGP', 'BSV/ERN', 'BSV/ETB', 'BSV/EUR', 'BSV/FJD', 'BSV/FKP', 'BSV/GBP', 'BSV/GBX', 'BSV/GEL', 'BSV/GGP', 'BSV/GHS', 'BSV/GIP', 'BSV/GMD', 'BSV/GNF', 'BSV/GTQ', 'BSV/GYD', 'BSV/HKD', 'BSV/HNL', 'BSV/HRK', 'BSV/HTG', 'BSV/HUF', 'BSV/IDR', 'BSV/ILS', 'BSV/IMP', 'BSV/INR', 'BSV/IQD', 'BSV/ISK', 'BSV/JEP', 'BSV/JMD', 'BSV/JOD', 'BSV/JPY', 'BSV/KES', 'BSV/KGS', 'BSV/KHR', 'BSV/KMF', 'BSV/KRW', 'BSV/KWD', 'BSV/KYD', 'BSV/KZT', 'BSV/LAK', 'BSV/LBP', 'BSV/LKR', 'BSV/LRD', 'BSV/LSL', 'BSV/LYD', 'BSV/MAD', 'BSV/MDL', 'BSV/MGA', 'BSV/MKD', 'BSV/MMK', 'BSV/MNT', 'BSV/MOP', 'BSV/MRO', 'BSV/MTL', 'BSV/MUR', 'BSV/MVR', 'BSV/MWK', 'BSV/MXN', 'BSV/MYR', 'BSV/MZN', 'BSV/NAD', 'BSV/NGN', 'BSV/NIO', 'BSV/NOK', 'BSV/NPR', 'BSV/NZD', 'BSV/OMR', 'BSV/PAB', 'BSV/PEN', 'BSV/PGK', 'BSV/PHP', 'BSV/PKR', 'BSV/PLN', 'BSV/PYG', 'BSV/QAR', 'BSV/RON', 'BSV/RSD', 'BSV/RUB', 'BSV/RWF', 'BSV/SAR', 'BSV/SBD', 'BSV/SCR', 'BSV/SEK', 'BSV/SGD', 'BSV/SHP', 'BSV/SLL', 'BSV/SOS', 'BSV/SRD', 'BSV/SSP', 'BSV/STD', 'BSV/SVC', 'BSV/SZL', 'BSV/THB', 'BSV/TJS', 'BSV/TMM', 'BSV/TMT', 'BSV/TND', 'BSV/TOP', 'BSV/TRY', 'BSV/TTD', 'BSV/TWD', 'BSV/TZS', 'BSV/UAH', 'BSV/UGX', 'BSV/USD', 'BSV/UYU', 'BSV/UZS', 'BSV/VES', 'BSV/VND', 'BSV/VUV', 'BSV/WST', 'BSV/XAF', 'BSV/XAG', 'BSV/XAU', 'BSV/XCD', 'BSV/XDR', 'BSV/XOF', 'BSV/XPD', 'BSV/XPF', 'BSV/XPT', 'BSV/YER', 'BSV/ZAR', 'BSV/ZMW', 'BSV/ZWL', 'ETH/AED', 'ETH/AFN', 'ETH/ALL', 'ETH/AMD', 'ETH/ANG', 'ETH/AOA', 'ETH/ARS', 'ETH/AUD', 'ETH/AWG', 'ETH/AZN', 'ETH/BAM', 'ETH/BBD', 'ETH/BDT', 'ETH/BGN', 'ETH/BHD', 'ETH/BIF', 'ETH/BMD', 'ETH/BND', 'ETH/BOB', 'ETH/BRL', 'ETH/BSD', 'ETH/BTN', 'ETH/BWP', 'ETH/BYN', 'ETH/BYR', 'ETH/BZD', 'ETH/CAD', 'ETH/CDF', 'ETH/CHF', 'ETH/CLF', 'ETH/CLP', 'ETH/CNH', 'ETH/CNY', 'ETH/COP', 'ETH/CRC', 'ETH/CUC', 'ETH/CVE', 'ETH/CZK', 'ETH/DJF', 'ETH/DKK', 'ETH/DOP', 'ETH/DZD', 'ETH/EGP', 'ETH/ERN', 'ETH/ETB', 'ETH/EUR', 'ETH/FJD', 'ETH/FKP', 'ETH/GBP', 'ETH/GBX', 'ETH/GEL', 'ETH/GGP', 'ETH/GHS', 'ETH/GIP', 'ETH/GMD', 'ETH/GNF', 'ETH/GTQ', 'ETH/GYD', 'ETH/HKD', 'ETH/HNL', 'ETH/HRK', 'ETH/HTG', 'ETH/HUF', 'ETH/IDR', 'ETH/ILS', 'ETH/IMP', 'ETH/INR', 'ETH/IQD', 'ETH/ISK', 'ETH/JEP', 'ETH/JMD', 'ETH/JOD', 'ETH/JPY', 'ETH/KES', 'ETH/KGS', 'ETH/KHR', 'ETH/KMF', 'ETH/KRW', 'ETH/KWD', 'ETH/KYD', 'ETH/KZT', 'ETH/LAK', 'ETH/LBP', 'ETH/LKR', 'ETH/LRD', 'ETH/LSL', 'ETH/LYD', 'ETH/MAD', 'ETH/MDL', 'ETH/MGA', 'ETH/MKD', 'ETH/MMK', 'ETH/MNT', 'ETH/MOP', 'ETH/MRO', 'ETH/MTL', 'ETH/MUR', 'ETH/MVR', 'ETH/MWK', 'ETH/MXN', 'ETH/MYR', 'ETH/MZN', 'ETH/NAD', 'ETH/NGN', 'ETH/NIO', 'ETH/NOK', 'ETH/NPR', 'ETH/NZD', 'ETH/OMR', 'ETH/PAB', 'ETH/PEN', 'ETH/PGK', 'ETH/PHP', 'ETH/PKR', 'ETH/PLN', 'ETH/PYG', 'ETH/QAR', 'ETH/RON', 'ETH/RSD', 'ETH/RUB', 'ETH/RWF', 'ETH/SAR', 'ETH/SBD', 'ETH/SCR', 'ETH/SEK', 'ETH/SGD', 'ETH/SHP', 'ETH/SLL', 'ETH/SOS', 'ETH/SRD', 'ETH/SSP', 'ETH/STD', 'ETH/SVC', 'ETH/SZL', 'ETH/THB', 'ETH/TJS', 'ETH/TMM', 'ETH/TMT', 'ETH/TND', 'ETH/TOP', 'ETH/TRY', 'ETH/TTD', 'ETH/TWD', 'ETH/TZS', 'ETH/UAH', 'ETH/UGX', 'ETH/USD', 'ETH/UYU', 'ETH/UZS', 'ETH/VES', 'ETH/VND', 'ETH/VUV', 'ETH/WST', 'ETH/XAF', 'ETH/XAG', 'ETH/XAU', 'ETH/XCD', 'ETH/XDR', 'ETH/XOF', 'ETH/XPD', 'ETH/XPF', 'ETH/XPT', 'ETH/YER', 'ETH/ZAR', 'ETH/ZMW', 'ETH/ZWL', 'ETH2/AED', 'ETH2/AFN', 'ETH2/ALL', 'ETH2/AMD', 'ETH2/ANG', 'ETH2/AOA', 'ETH2/ARS', 'ETH2/AUD', 'ETH2/AWG', 'ETH2/AZN', 'ETH2/BAM', 'ETH2/BBD', 'ETH2/BDT', 'ETH2/BGN', 'ETH2/BHD', 'ETH2/BIF', 'ETH2/BMD', 'ETH2/BND', 'ETH2/BOB', 'ETH2/BRL', 'ETH2/BSD', 'ETH2/BTN', 'ETH2/BWP', 'ETH2/BYN', 'ETH2/BYR', 'ETH2/BZD', 'ETH2/CAD', 'ETH2/CDF', 'ETH2/CHF', 'ETH2/CLF', 'ETH2/CLP', 'ETH2/CNH', 'ETH2/CNY', 'ETH2/COP', 'ETH2/CRC', 'ETH2/CUC', 'ETH2/CVE', 'ETH2/CZK', 'ETH2/DJF', 'ETH2/DKK', 'ETH2/DOP', 'ETH2/DZD', 'ETH2/EGP', 'ETH2/ERN', 'ETH2/ETB', 'ETH2/EUR', 'ETH2/FJD', 'ETH2/FKP', 'ETH2/GBP', 'ETH2/GBX', 'ETH2/GEL', 'ETH2/GGP', 'ETH2/GHS', 'ETH2/GIP', 'ETH2/GMD', 'ETH2/GNF', 'ETH2/GTQ', 'ETH2/GYD', 'ETH2/HKD', 'ETH2/HNL', 'ETH2/HRK', 'ETH2/HTG', 'ETH2/HUF', 'ETH2/IDR', 'ETH2/ILS', 'ETH2/IMP', 'ETH2/INR', 'ETH2/IQD', 'ETH2/ISK', 'ETH2/JEP', 'ETH2/JMD', 'ETH2/JOD', 'ETH2/JPY', 'ETH2/KES', 'ETH2/KGS', 'ETH2/KHR', 'ETH2/KMF', 'ETH2/KRW', 'ETH2/KWD', 'ETH2/KYD', 'ETH2/KZT', 'ETH2/LAK', 'ETH2/LBP', 'ETH2/LKR', 'ETH2/LRD', 'ETH2/LSL', 'ETH2/LYD', 'ETH2/MAD', 'ETH2/MDL', 'ETH2/MGA', 'ETH2/MKD', 'ETH2/MMK', 'ETH2/MNT', 'ETH2/MOP', 'ETH2/MRO', 'ETH2/MTL', 'ETH2/MUR', 'ETH2/MVR', 'ETH2/MWK', 'ETH2/MXN', 'ETH2/MYR', 'ETH2/MZN', 'ETH2/NAD', 'ETH2/NGN', 'ETH2/NIO', 'ETH2/NOK', 'ETH2/NPR', 'ETH2/NZD', 'ETH2/OMR', 'ETH2/PAB', 'ETH2/PEN', 'ETH2/PGK', 'ETH2/PHP', 'ETH2/PKR', 'ETH2/PLN', 'ETH2/PYG', 'ETH2/QAR', 'ETH2/RON', 'ETH2/RSD', 'ETH2/RUB', 'ETH2/RWF', 'ETH2/SAR', 'ETH2/SBD', 'ETH2/SCR', 'ETH2/SEK', 'ETH2/SGD', 'ETH2/SHP', 'ETH2/SLL', 'ETH2/SOS', 'ETH2/SRD', 'ETH2/SSP', 'ETH2/STD', 'ETH2/SVC', 'ETH2/SZL', 'ETH2/THB', 'ETH2/TJS', 'ETH2/TMM', 'ETH2/TMT', 'ETH2/TND', 'ETH2/TOP', 'ETH2/TRY', 'ETH2/TTD', 'ETH2/TWD', 'ETH2/TZS', 'ETH2/UAH', 'ETH2/UGX', 'ETH2/USD', 'ETH2/UYU', 'ETH2/UZS', 'ETH2/VES', 'ETH2/VND', 'ETH2/VUV', 'ETH2/WST', 'ETH2/XAF', 'ETH2/XAG', 'ETH2/XAU', 'ETH2/XCD', 'ETH2/XDR', 'ETH2/XOF', 'ETH2/XPD', 'ETH2/XPF', 'ETH2/XPT', 'ETH2/YER', 'ETH2/ZAR', 'ETH2/ZMW', 'ETH2/ZWL', 'ETC/AED', 'ETC/AFN', 'ETC/ALL', 'ETC/AMD', 'ETC/ANG', 'ETC/AOA', 'ETC/ARS', 'ETC/AUD', 'ETC/AWG', 'ETC/AZN', 'ETC/BAM', 'ETC/BBD', 'ETC/BDT', 'ETC/BGN', 'ETC/BHD', 'ETC/BIF', 'ETC/BMD', 'ETC/BND', 'ETC/BOB', 'ETC/BRL', 'ETC/BSD', 'ETC/BTN', 'ETC/BWP', 'ETC/BYN', 'ETC/BYR', 'ETC/BZD', 'ETC/CAD', 'ETC/CDF', 'ETC/CHF', 'ETC/CLF', 'ETC/CLP', 'ETC/CNH', 'ETC/CNY', 'ETC/COP', 'ETC/CRC', 'ETC/CUC', 'ETC/CVE', 'ETC/CZK', 'ETC/DJF', 'ETC/DKK', 'ETC/DOP', 'ETC/DZD', 'ETC/EGP', 'ETC/ERN', 'ETC/ETB', 'ETC/EUR', 'ETC/FJD', 'ETC/FKP', 'ETC/GBP', 'ETC/GBX', 'ETC/GEL', 'ETC/GGP', 'ETC/GHS', 'ETC/GIP', 'ETC/GMD', 'ETC/GNF', 'ETC/GTQ', 'ETC/GYD', 'ETC/HKD', 'ETC/HNL', 'ETC/HRK', 'ETC/HTG', 'ETC/HUF', 'ETC/IDR', 'ETC/ILS', 'ETC/IMP', 'ETC/INR', 'ETC/IQD', 'ETC/ISK', 'ETC/JEP', 'ETC/JMD', 'ETC/JOD', 'ETC/JPY', 'ETC/KES', 'ETC/KGS', 'ETC/KHR', 'ETC/KMF', 'ETC/KRW', 'ETC/KWD', 'ETC/KYD', 'ETC/KZT', 'ETC/LAK', 'ETC/LBP', 'ETC/LKR', 'ETC/LRD', 'ETC/LSL', 'ETC/LYD', 'ETC/MAD', 'ETC/MDL', 'ETC/MGA', 'ETC/MKD', 'ETC/MMK', 'ETC/MNT', 'ETC/MOP', 'ETC/MRO', 'ETC/MTL', 'ETC/MUR', 'ETC/MVR', 'ETC/MWK', 'ETC/MXN', 'ETC/MYR', 'ETC/MZN', 'ETC/NAD', 'ETC/NGN', 'ETC/NIO', 'ETC/NOK', 'ETC/NPR', 'ETC/NZD', 'ETC/OMR', 'ETC/PAB', 'ETC/PEN', 'ETC/PGK', 'ETC/PHP', 'ETC/PKR', 'ETC/PLN', 'ETC/PYG', 'ETC/QAR', 'ETC/RON', 'ETC/RSD', 'ETC/RUB', 'ETC/RWF', 'ETC/SAR', 'ETC/SBD', 'ETC/SCR', 'ETC/SEK', 'ETC/SGD', 'ETC/SHP', 'ETC/SLL', 'ETC/SOS', 'ETC/SRD', 'ETC/SSP', 'ETC/STD', 'ETC/SVC', 'ETC/SZL', 'ETC/THB', 'ETC/TJS', 'ETC/TMM', 'ETC/TMT', 'ETC/TND', 'ETC/TOP', 'ETC/TRY', 'ETC/TTD', 'ETC/TWD', 'ETC/TZS', 'ETC/UAH', 'ETC/UGX', 'ETC/USD', 'ETC/UYU', 'ETC/UZS', 'ETC/VES', 'ETC/VND', 'ETC/VUV', 'ETC/WST', 'ETC/XAF', 'ETC/XAG', 'ETC/XAU', 'ETC/XCD', 'ETC/XDR', 'ETC/XOF', 'ETC/XPD', 'ETC/XPF', 'ETC/XPT', 'ETC/YER', 'ETC/ZAR', 'ETC/ZMW', 'ETC/ZWL', 'LTC/AED', 'LTC/AFN', 'LTC/ALL', 'LTC/AMD', 'LTC/ANG', 'LTC/AOA', 'LTC/ARS', 'LTC/AUD', 'LTC/AWG', 'LTC/AZN', 'LTC/BAM', 'LTC/BBD', 'LTC/BDT', 'LTC/BGN', 'LTC/BHD', 'LTC/BIF', 'LTC/BMD', 'LTC/BND', 'LTC/BOB', 'LTC/BRL', 'LTC/BSD', 'LTC/BTN', 'LTC/BWP', 'LTC/BYN', 'LTC/BYR', 'LTC/BZD', 'LTC/CAD', 'LTC/CDF', 'LTC/CHF', 'LTC/CLF', 'LTC/CLP', 'LTC/CNH', 'LTC/CNY', 'LTC/COP', 'LTC/CRC', 'LTC/CUC', 'LTC/CVE', 'LTC/CZK', 'LTC/DJF', 'LTC/DKK', 'LTC/DOP', 'LTC/DZD', 'LTC/EGP', 'LTC/ERN', 'LTC/ETB', 'LTC/EUR', 'LTC/FJD', 'LTC/FKP', 'LTC/GBP', 'LTC/GBX', 'LTC/GEL', 'LTC/GGP', 'LTC/GHS', 'LTC/GIP', 'LTC/GMD', 'LTC/GNF', 'LTC/GTQ', 'LTC/GYD', 'LTC/HKD', 'LTC/HNL', 'LTC/HRK', 'LTC/HTG', 'LTC/HUF', 'LTC/IDR', 'LTC/ILS', 'LTC/IMP', 'LTC/INR', 'LTC/IQD', 'LTC/ISK', 'LTC/JEP', 'LTC/JMD', 'LTC/JOD', 'LTC/JPY', 'LTC/KES', 'LTC/KGS', 'LTC/KHR', 'LTC/KMF', 'LTC/KRW', 'LTC/KWD', 'LTC/KYD', 'LTC/KZT', 'LTC/LAK', 'LTC/LBP', 'LTC/LKR', 'LTC/LRD', 'LTC/LSL', 'LTC/LYD', 'LTC/MAD', 'LTC/MDL', 'LTC/MGA', 'LTC/MKD', 'LTC/MMK', 'LTC/MNT', 'LTC/MOP', 'LTC/MRO', 'LTC/MTL', 'LTC/MUR', 'LTC/MVR', 'LTC/MWK', 'LTC/MXN', 'LTC/MYR', 'LTC/MZN', 'LTC/NAD', 'LTC/NGN', 'LTC/NIO', 'LTC/NOK', 'LTC/NPR', 'LTC/NZD', 'LTC/OMR', 'LTC/PAB', 'LTC/PEN', 'LTC/PGK', 'LTC/PHP', 'LTC/PKR', 'LTC/PLN', 'LTC/PYG', 'LTC/QAR', 'LTC/RON', 'LTC/RSD', 'LTC/RUB', 'LTC/RWF', 'LTC/SAR', 'LTC/SBD', 'LTC/SCR', 'LTC/SEK', 'LTC/SGD', 'LTC/SHP', 'LTC/SLL', 'LTC/SOS', 'LTC/SRD', 'LTC/SSP', 'LTC/STD', 'LTC/SVC', 'LTC/SZL', 'LTC/THB', 'LTC/TJS', 'LTC/TMM', 'LTC/TMT', 'LTC/TND', 'LTC/TOP', 'LTC/TRY', 'LTC/TTD', 'LTC/TWD', 'LTC/TZS', 'LTC/UAH', 'LTC/UGX', 'LTC/USD', 'LTC/UYU', 'LTC/UZS', 'LTC/VES', 'LTC/VND', 'LTC/VUV', 'LTC/WST', 'LTC/XAF', 'LTC/XAG', 'LTC/XAU', 'LTC/XCD', 'LTC/XDR', 'LTC/XOF', 'LTC/XPD', 'LTC/XPF', 'LTC/XPT', 'LTC/YER', 'LTC/ZAR', 'LTC/ZMW', 'LTC/ZWL', 'ZRX/AED', 'ZRX/AFN', 'ZRX/ALL', 'ZRX/AMD', 'ZRX/ANG', 'ZRX/AOA', 'ZRX/ARS', 'ZRX/AUD', 'ZRX/AWG', 'ZRX/AZN', 'ZRX/BAM', 'ZRX/BBD', 'ZRX/BDT', 'ZRX/BGN', 'ZRX/BHD', 'ZRX/BIF', 'ZRX/BMD', 'ZRX/BND', 'ZRX/BOB', 'ZRX/BRL', 'ZRX/BSD', 'ZRX/BTN', 'ZRX/BWP', 'ZRX/BYN', 'ZRX/BYR', 'ZRX/BZD', 'ZRX/CAD', 'ZRX/CDF', 'ZRX/CHF', 'ZRX/CLF', 'ZRX/CLP', 'ZRX/CNH', 'ZRX/CNY', 'ZRX/COP', 'ZRX/CRC', 'ZRX/CUC', 'ZRX/CVE', 'ZRX/CZK', 'ZRX/DJF', 'ZRX/DKK', 'ZRX/DOP', 'ZRX/DZD', 'ZRX/EGP', 'ZRX/ERN', 'ZRX/ETB', 'ZRX/EUR', 'ZRX/FJD', 'ZRX/FKP', 'ZRX/GBP', 'ZRX/GBX', 'ZRX/GEL', 'ZRX/GGP', 'ZRX/GHS', 'ZRX/GIP', 'ZRX/GMD', 'ZRX/GNF', 'ZRX/GTQ', 'ZRX/GYD', 'ZRX/HKD', 'ZRX/HNL', 'ZRX/HRK', 'ZRX/HTG', 'ZRX/HUF', 'ZRX/IDR', 'ZRX/ILS', 'ZRX/IMP', 'ZRX/INR', 'ZRX/IQD', 'ZRX/ISK', 'ZRX/JEP', 'ZRX/JMD', 'ZRX/JOD', 'ZRX/JPY', 'ZRX/KES', 'ZRX/KGS', 'ZRX/KHR', 'ZRX/KMF', 'ZRX/KRW', 'ZRX/KWD', 'ZRX/KYD', 'ZRX/KZT', 'ZRX/LAK', 'ZRX/LBP', 'ZRX/LKR', 'ZRX/LRD', 'ZRX/LSL', 'ZRX/LYD', 'ZRX/MAD', 'ZRX/MDL', 'ZRX/MGA', 'ZRX/MKD', 'ZRX/MMK', 'ZRX/MNT', 'ZRX/MOP', 'ZRX/MRO', 'ZRX/MTL', 'ZRX/MUR', 'ZRX/MVR', 'ZRX/MWK', 'ZRX/MXN', 'ZRX/MYR', 'ZRX/MZN', 'ZRX/NAD', 'ZRX/NGN', 'ZRX/NIO', 'ZRX/NOK', 'ZRX/NPR', 'ZRX/NZD', 'ZRX/OMR', 'ZRX/PAB', 'ZRX/PEN', 'ZRX/PGK', 'ZRX/PHP', 'ZRX/PKR', 'ZRX/PLN', 'ZRX/PYG', 'ZRX/QAR', 'ZRX/RON', 'ZRX/RSD', 'ZRX/RUB', 'ZRX/RWF', 'ZRX/SAR', 'ZRX/SBD', 'ZRX/SCR', 'ZRX/SEK', 'ZRX/SGD', 'ZRX/SHP', 'ZRX/SLL', 'ZRX/SOS', 'ZRX/SRD', 'ZRX/SSP', 'ZRX/STD', 'ZRX/SVC', 'ZRX/SZL', 'ZRX/THB', 'ZRX/TJS', 'ZRX/TMM', 'ZRX/TMT', 'ZRX/TND', 'ZRX/TOP', 'ZRX/TRY', 'ZRX/TTD', 'ZRX/TWD', 'ZRX/TZS', 'ZRX/UAH', 'ZRX/UGX', 'ZRX/USD', 'ZRX/UYU', 'ZRX/UZS', 'ZRX/VES', 'ZRX/VND', 'ZRX/VUV', 'ZRX/WST', 'ZRX/XAF', 'ZRX/XAG', 'ZRX/XAU', 'ZRX/XCD', 'ZRX/XDR', 'ZRX/XOF', 'ZRX/XPD', 'ZRX/XPF', 'ZRX/XPT', 'ZRX/YER', 'ZRX/ZAR', 'ZRX/ZMW', 'ZRX/ZWL', 'USDC/AED', 'USDC/AFN', 'USDC/ALL', 'USDC/AMD', 'USDC/ANG', 'USDC/AOA', 'USDC/ARS', 'USDC/AUD', 'USDC/AWG', 'USDC/AZN', 'USDC/BAM', 'USDC/BBD', 'USDC/BDT', 'USDC/BGN', 'USDC/BHD', 'USDC/BIF', 'USDC/BMD', 'USDC/BND', 'USDC/BOB', 'USDC/BRL', 'USDC/BSD', 'USDC/BTN', 'USDC/BWP', 'USDC/BYN', 'USDC/BYR', 'USDC/BZD', 'USDC/CAD', 'USDC/CDF', 'USDC/CHF', 'USDC/CLF', 'USDC/CLP', 'USDC/CNH', 'USDC/CNY', 'USDC/COP', 'USDC/CRC', 'USDC/CUC', 'USDC/CVE', 'USDC/CZK', 'USDC/DJF', 'USDC/DKK', 'USDC/DOP', 'USDC/DZD', 'USDC/EGP', 'USDC/ERN', 'USDC/ETB', 'USDC/EUR', 'USDC/FJD', 'USDC/FKP', 'USDC/GBP', 'USDC/GBX', 'USDC/GEL', 'USDC/GGP', 'USDC/GHS', 'USDC/GIP', 'USDC/GMD', 'USDC/GNF', 'USDC/GTQ', 'USDC/GYD', 'USDC/HKD', 'USDC/HNL', 'USDC/HRK', 'USDC/HTG', 'USDC/HUF', 'USDC/IDR', 'USDC/ILS', 'USDC/IMP', 'USDC/INR', 'USDC/IQD', 'USDC/ISK', 'USDC/JEP', 'USDC/JMD', 'USDC/JOD', 'USDC/JPY', 'USDC/KES', 'USDC/KGS', 'USDC/KHR', 'USDC/KMF', 'USDC/KRW', 'USDC/KWD', 'USDC/KYD', 'USDC/KZT', 'USDC/LAK', 'USDC/LBP', 'USDC/LKR', 'USDC/LRD', 'USDC/LSL', 'USDC/LYD', 'USDC/MAD', 'USDC/MDL', 'USDC/MGA', 'USDC/MKD', 'USDC/MMK', 'USDC/MNT', 'USDC/MOP', 'USDC/MRO', 'USDC/MTL', 'USDC/MUR', 'USDC/MVR', 'USDC/MWK', 'USDC/MXN', 'USDC/MYR', 'USDC/MZN', 'USDC/NAD', 'USDC/NGN', 'USDC/NIO', 'USDC/NOK', 'USDC/NPR', 'USDC/NZD', 'USDC/OMR', 'USDC/PAB', 'USDC/PEN', 'USDC/PGK', 'USDC/PHP', 'USDC/PKR', 'USDC/PLN', 'USDC/PYG', 'USDC/QAR', 'USDC/RON', 'USDC/RSD', 'USDC/RUB', 'USDC/RWF', 'USDC/SAR', 'USDC/SBD', 'USDC/SCR', 'USDC/SEK', 'USDC/SGD', 'USDC/SHP', 'USDC/SLL', 'USDC/SOS', 'USDC/SRD', 'USDC/SSP', 'USDC/STD', 'USDC/SVC', 'USDC/SZL', 'USDC/THB', 'USDC/TJS', 'USDC/TMM', 'USDC/TMT', 'USDC/TND', 'USDC/TOP', 'USDC/TRY', 'USDC/TTD', 'USDC/TWD', 'USDC/TZS', 'USDC/UAH', 'USDC/UGX', 'USDC/USD', 'USDC/UYU', 'USDC/UZS', 'USDC/VES', 'USDC/VND', 'USDC/VUV', 'USDC/WST', 'USDC/XAF', 'USDC/XAG', 'USDC/XAU', 'USDC/XCD', 'USDC/XDR', 'USDC/XOF', 'USDC/XPD', 'USDC/XPF', 'USDC/XPT', 'USDC/YER', 'USDC/ZAR', 'USDC/ZMW', 'USDC/ZWL', 'BAT/AED', 'BAT/AFN', 'BAT/ALL', 'BAT/AMD', 'BAT/ANG', 'BAT/AOA', 'BAT/ARS', 'BAT/AUD', 'BAT/AWG', 'BAT/AZN', 'BAT/BAM', 'BAT/BBD', 'BAT/BDT', 'BAT/BGN', 'BAT/BHD', 'BAT/BIF', 'BAT/BMD', 'BAT/BND', 'BAT/BOB', 'BAT/BRL', 'BAT/BSD', 'BAT/BTN', 'BAT/BWP', 'BAT/BYN', 'BAT/BYR', 'BAT/BZD', 'BAT/CAD', 'BAT/CDF', 'BAT/CHF', 'BAT/CLF', 'BAT/CLP', 'BAT/CNH', 'BAT/CNY', 'BAT/COP', 'BAT/CRC', 'BAT/CUC', 'BAT/CVE', 'BAT/CZK', 'BAT/DJF', 'BAT/DKK', 'BAT/DOP', 'BAT/DZD', 'BAT/EGP', 'BAT/ERN', 'BAT/ETB', 'BAT/EUR', 'BAT/FJD', 'BAT/FKP', 'BAT/GBP', 'BAT/GBX', 'BAT/GEL', 'BAT/GGP', 'BAT/GHS', 'BAT/GIP', 'BAT/GMD', 'BAT/GNF', 'BAT/GTQ', 'BAT/GYD', 'BAT/HKD', 'BAT/HNL', 'BAT/HRK', 'BAT/HTG', 'BAT/HUF', 'BAT/IDR', 'BAT/ILS', 'BAT/IMP', 'BAT/INR', 'BAT/IQD', 'BAT/ISK', 'BAT/JEP', 'BAT/JMD', 'BAT/JOD', 'BAT/JPY', 'BAT/KES', 'BAT/KGS', 'BAT/KHR', 'BAT/KMF', 'BAT/KRW', 'BAT/KWD', 'BAT/KYD', 'BAT/KZT', 'BAT/LAK', 'BAT/LBP', 'BAT/LKR', 'BAT/LRD', 'BAT/LSL', 'BAT/LYD', 'BAT/MAD', 'BAT/MDL', 'BAT/MGA', 'BAT/MKD', 'BAT/MMK', 'BAT/MNT', 'BAT/MOP', 'BAT/MRO', 'BAT/MTL', 'BAT/MUR', 'BAT/MVR', 'BAT/MWK', 'BAT/MXN', 'BAT/MYR', 'BAT/MZN', 'BAT/NAD', 'BAT/NGN', 'BAT/NIO', 'BAT/NOK', 'BAT/NPR', 'BAT/NZD', 'BAT/OMR', 'BAT/PAB', 'BAT/PEN', 'BAT/PGK', 'BAT/PHP', 'BAT/PKR', 'BAT/PLN', 'BAT/PYG', 'BAT/QAR', 'BAT/RON', 'BAT/RSD', 'BAT/RUB', 'BAT/RWF', 'BAT/SAR', 'BAT/SBD', 'BAT/SCR', 'BAT/SEK', 'BAT/SGD', 'BAT/SHP', 'BAT/SLL', 'BAT/SOS', 'BAT/SRD', 'BAT/SSP', 'BAT/STD', 'BAT/SVC', 'BAT/SZL', 'BAT/THB', 'BAT/TJS', 'BAT/TMM', 'BAT/TMT', 'BAT/TND', 'BAT/TOP', 'BAT/TRY', 'BAT/TTD', 'BAT/TWD', 'BAT/TZS', 'BAT/UAH', 'BAT/UGX', 'BAT/USD', 'BAT/UYU', 'BAT/UZS', 'BAT/VES', 'BAT/VND', 'BAT/VUV', 'BAT/WST', 'BAT/XAF', 'BAT/XAG', 'BAT/XAU', 'BAT/XCD', 'BAT/XDR', 'BAT/XOF', 'BAT/XPD', 'BAT/XPF', 'BAT/XPT', 'BAT/YER', 'BAT/ZAR', 'BAT/ZMW', 'BAT/ZWL', 'MANA/AED', 'MANA/AFN', 'MANA/ALL', 'MANA/AMD', 'MANA/ANG', 'MANA/AOA', 'MANA/ARS', 'MANA/AUD', 'MANA/AWG', 'MANA/AZN', 'MANA/BAM', 'MANA/BBD', 'MANA/BDT', 'MANA/BGN', 'MANA/BHD', 'MANA/BIF', 'MANA/BMD', 'MANA/BND', 'MANA/BOB', 'MANA/BRL', 'MANA/BSD', 'MANA/BTN', 'MANA/BWP', 'MANA/BYN', 'MANA/BYR', 'MANA/BZD', 'MANA/CAD', 'MANA/CDF', 'MANA/CHF', 'MANA/CLF', 'MANA/CLP', 'MANA/CNH', 'MANA/CNY', 'MANA/COP', 'MANA/CRC', 'MANA/CUC', 'MANA/CVE', 'MANA/CZK', 'MANA/DJF', 'MANA/DKK', 'MANA/DOP', 'MANA/DZD', 'MANA/EGP', 'MANA/ERN', 'MANA/ETB', 'MANA/EUR', 'MANA/FJD', 'MANA/FKP', 'MANA/GBP', 'MANA/GBX', 'MANA/GEL', 'MANA/GGP', 'MANA/GHS', 'MANA/GIP', 'MANA/GMD', 'MANA/GNF', 'MANA/GTQ', 'MANA/GYD', 'MANA/HKD', 'MANA/HNL', 'MANA/HRK', 'MANA/HTG', 'MANA/HUF', 'MANA/IDR', 'MANA/ILS', 'MANA/IMP', 'MANA/INR', 'MANA/IQD', 'MANA/ISK', 'MANA/JEP', 'MANA/JMD', 'MANA/JOD', 'MANA/JPY', 'MANA/KES', 'MANA/KGS', 'MANA/KHR', 'MANA/KMF', 'MANA/KRW', 'MANA/KWD', 'MANA/KYD', 'MANA/KZT', 'MANA/LAK', 'MANA/LBP', 'MANA/LKR', 'MANA/LRD', 'MANA/LSL', 'MANA/LYD', 'MANA/MAD', 'MANA/MDL', 'MANA/MGA', 'MANA/MKD', 'MANA/MMK', 'MANA/MNT', 'MANA/MOP', 'MANA/MRO', 'MANA/MTL', 'MANA/MUR', 'MANA/MVR', 'MANA/MWK', 'MANA/MXN', 'MANA/MYR', 'MANA/MZN', 'MANA/NAD', 'MANA/NGN', 'MANA/NIO', 'MANA/NOK', 'MANA/NPR', 'MANA/NZD', 'MANA/OMR', 'MANA/PAB', 'MANA/PEN', 'MANA/PGK', 'MANA/PHP', 'MANA/PKR', 'MANA/PLN', 'MANA/PYG', 'MANA/QAR', 'MANA/RON', 'MANA/RSD', 'MANA/RUB', 'MANA/RWF', 'MANA/SAR', 'MANA/SBD', 'MANA/SCR', 'MANA/SEK', 'MANA/SGD', 'MANA/SHP', 'MANA/SLL', 'MANA/SOS', 'MANA/SRD', 'MANA/SSP', 'MANA/STD', 'MANA/SVC', 'MANA/SZL', 'MANA/THB', 'MANA/TJS', 'MANA/TMM', 'MANA/TMT', 'MANA/TND', 'MANA/TOP', 'MANA/TRY', 'MANA/TTD', 'MANA/TWD', 'MANA/TZS', 'MANA/UAH', 'MANA/UGX', 'MANA/USD', 'MANA/UYU', 'MANA/UZS', 'MANA/VES', 'MANA/VND', 'MANA/VUV', 'MANA/WST', 'MANA/XAF', 'MANA/XAG', 'MANA/XAU', 'MANA/XCD', 'MANA/XDR', 'MANA/XOF', 'MANA/XPD', 'MANA/XPF', 'MANA/XPT', 'MANA/YER', 'MANA/ZAR', 'MANA/ZMW', 'MANA/ZWL', 'KNC/AED', 'KNC/AFN', 'KNC/ALL', 'KNC/AMD', 'KNC/ANG', 'KNC/AOA', 'KNC/ARS', 'KNC/AUD', 'KNC/AWG', 'KNC/AZN', 'KNC/BAM', 'KNC/BBD', 'KNC/BDT', 'KNC/BGN', 'KNC/BHD', 'KNC/BIF', 'KNC/BMD', 'KNC/BND', 'KNC/BOB', 'KNC/BRL', 'KNC/BSD', 'KNC/BTN', 'KNC/BWP', 'KNC/BYN', 'KNC/BYR', 'KNC/BZD', 'KNC/CAD', 'KNC/CDF', 'KNC/CHF', 'KNC/CLF', 'KNC/CLP', 'KNC/CNH', 'KNC/CNY', 'KNC/COP', 'KNC/CRC', 'KNC/CUC', 'KNC/CVE', 'KNC/CZK', 'KNC/DJF', 'KNC/DKK', 'KNC/DOP', 'KNC/DZD', 'KNC/EGP', 'KNC/ERN', 'KNC/ETB', 'KNC/EUR', 'KNC/FJD', 'KNC/FKP', 'KNC/GBP', 'KNC/GBX', 'KNC/GEL', 'KNC/GGP', 'KNC/GHS', 'KNC/GIP', 'KNC/GMD', 'KNC/GNF', 'KNC/GTQ', 'KNC/GYD', 'KNC/HKD', 'KNC/HNL', 'KNC/HRK', 'KNC/HTG', 'KNC/HUF', 'KNC/IDR', 'KNC/ILS', 'KNC/IMP', 'KNC/INR', 'KNC/IQD', 'KNC/ISK', 'KNC/JEP', 'KNC/JMD', 'KNC/JOD', 'KNC/JPY', 'KNC/KES', 'KNC/KGS', 'KNC/KHR', 'KNC/KMF', 'KNC/KRW', 'KNC/KWD', 'KNC/KYD', 'KNC/KZT', 'KNC/LAK', 'KNC/LBP', 'KNC/LKR', 'KNC/LRD', 'KNC/LSL', 'KNC/LYD', 'KNC/MAD', 'KNC/MDL', 'KNC/MGA', 'KNC/MKD', 'KNC/MMK', 'KNC/MNT', 'KNC/MOP', 'KNC/MRO', 'KNC/MTL', 'KNC/MUR', 'KNC/MVR', 'KNC/MWK', 'KNC/MXN', 'KNC/MYR', 'KNC/MZN', 'KNC/NAD', 'KNC/NGN', 'KNC/NIO', 'KNC/NOK', 'KNC/NPR', 'KNC/NZD', 'KNC/OMR', 'KNC/PAB', 'KNC/PEN', 'KNC/PGK', 'KNC/PHP', 'KNC/PKR', 'KNC/PLN', 'KNC/PYG', 'KNC/QAR', 'KNC/RON', 'KNC/RSD', 'KNC/RUB', 'KNC/RWF', 'KNC/SAR', 'KNC/SBD', 'KNC/SCR', 'KNC/SEK', 'KNC/SGD', 'KNC/SHP', 'KNC/SLL', 'KNC/SOS', 'KNC/SRD', 'KNC/SSP', 'KNC/STD', 'KNC/SVC', 'KNC/SZL', 'KNC/THB', 'KNC/TJS', 'KNC/TMM', 'KNC/TMT', 'KNC/TND', 'KNC/TOP', 'KNC/TRY', 'KNC/TTD', 'KNC/TWD', 'KNC/TZS', 'KNC/UAH', 'KNC/UGX', 'KNC/USD', 'KNC/UYU', 'KNC/UZS', 'KNC/VES', 'KNC/VND', 'KNC/VUV', 'KNC/WST', 'KNC/XAF', 'KNC/XAG', 'KNC/XAU', 'KNC/XCD', 'KNC/XDR', 'KNC/XOF', 'KNC/XPD', 'KNC/XPF', 'KNC/XPT', 'KNC/YER', 'KNC/ZAR', 'KNC/ZMW', 'KNC/ZWL', 'LINK/AED', 'LINK/AFN', 'LINK/ALL', 'LINK/AMD', 'LINK/ANG', 'LINK/AOA', 'LINK/ARS', 'LINK/AUD', 'LINK/AWG', 'LINK/AZN', 'LINK/BAM', 'LINK/BBD', 'LINK/BDT', 'LINK/BGN', 'LINK/BHD', 'LINK/BIF', 'LINK/BMD', 'LINK/BND', 'LINK/BOB', 'LINK/BRL', 'LINK/BSD', 'LINK/BTN', 'LINK/BWP', 'LINK/BYN', 'LINK/BYR', 'LINK/BZD', 'LINK/CAD', 'LINK/CDF', 'LINK/CHF', 'LINK/CLF', 'LINK/CLP', 'LINK/CNH', 'LINK/CNY', 'LINK/COP', 'LINK/CRC', 'LINK/CUC', 'LINK/CVE', 'LINK/CZK', 'LINK/DJF', 'LINK/DKK', 'LINK/DOP', 'LINK/DZD', 'LINK/EGP', 'LINK/ERN', 'LINK/ETB', 'LINK/EUR', 'LINK/FJD', 'LINK/FKP', 'LINK/GBP', 'LINK/GBX', 'LINK/GEL', 'LINK/GGP', 'LINK/GHS', 'LINK/GIP', 'LINK/GMD', 'LINK/GNF', 'LINK/GTQ', 'LINK/GYD', 'LINK/HKD', 'LINK/HNL', 'LINK/HRK', 'LINK/HTG', 'LINK/HUF', 'LINK/IDR', 'LINK/ILS', 'LINK/IMP', 'LINK/INR', 'LINK/IQD', 'LINK/ISK', 'LINK/JEP', 'LINK/JMD', 'LINK/JOD', 'LINK/JPY', 'LINK/KES', 'LINK/KGS', 'LINK/KHR', 'LINK/KMF', 'LINK/KRW', 'LINK/KWD', 'LINK/KYD', 'LINK/KZT', 'LINK/LAK', 'LINK/LBP', 'LINK/LKR', 'LINK/LRD', 'LINK/LSL', 'LINK/LYD', 'LINK/MAD', 'LINK/MDL', 'LINK/MGA', 'LINK/MKD', 'LINK/MMK', 'LINK/MNT', 'LINK/MOP', 'LINK/MRO', 'LINK/MTL', 'LINK/MUR', 'LINK/MVR', 'LINK/MWK', 'LINK/MXN', 'LINK/MYR', 'LINK/MZN', 'LINK/NAD', 'LINK/NGN', 'LINK/NIO', 'LINK/NOK', 'LINK/NPR', 'LINK/NZD', 'LINK/OMR', 'LINK/PAB', 'LINK/PEN', 'LINK/PGK', 'LINK/PHP', 'LINK/PKR', 'LINK/PLN', 'LINK/PYG', 'LINK/QAR', 'LINK/RON', 'LINK/RSD', 'LINK/RUB', 'LINK/RWF', 'LINK/SAR', 'LINK/SBD', 'LINK/SCR', 'LINK/SEK', 'LINK/SGD', 'LINK/SHP', 'LINK/SLL', 'LINK/SOS', 'LINK/SRD', 'LINK/SSP', 'LINK/STD', 'LINK/SVC', 'LINK/SZL', 'LINK/THB', 'LINK/TJS', 'LINK/TMM', 'LINK/TMT', 'LINK/TND', 'LINK/TOP', 'LINK/TRY', 'LINK/TTD', 'LINK/TWD', 'LINK/TZS', 'LINK/UAH', 'LINK/UGX', 'LINK/USD', 'LINK/UYU', 'LINK/UZS', 'LINK/VES', 'LINK/VND', 'LINK/VUV', 'LINK/WST', 'LINK/XAF', 'LINK/XAG', 'LINK/XAU', 'LINK/XCD', 'LINK/XDR', 'LINK/XOF', 'LINK/XPD', 'LINK/XPF', 'LINK/XPT', 'LINK/YER', 'LINK/ZAR', 'LINK/ZMW', 'LINK/ZWL', 'DNT/AED', 'DNT/AFN', 'DNT/ALL', 'DNT/AMD', 'DNT/ANG', 'DNT/AOA', 'DNT/ARS', 'DNT/AUD', 'DNT/AWG', 'DNT/AZN', 'DNT/BAM', 'DNT/BBD', 'DNT/BDT', 'DNT/BGN', 'DNT/BHD', 'DNT/BIF', 'DNT/BMD', 'DNT/BND', 'DNT/BOB', 'DNT/BRL', 'DNT/BSD', 'DNT/BTN', 'DNT/BWP', 'DNT/BYN', 'DNT/BYR', 'DNT/BZD', 'DNT/CAD', 'DNT/CDF', 'DNT/CHF', 'DNT/CLF', 'DNT/CLP', 'DNT/CNH', 'DNT/CNY', 'DNT/COP', 'DNT/CRC', 'DNT/CUC', 'DNT/CVE', 'DNT/CZK', 'DNT/DJF', 'DNT/DKK', 'DNT/DOP', 'DNT/DZD', 'DNT/EGP', 'DNT/ERN', 'DNT/ETB', 'DNT/EUR', 'DNT/FJD', 'DNT/FKP', 'DNT/GBP', 'DNT/GBX', 'DNT/GEL', 'DNT/GGP', 'DNT/GHS', 'DNT/GIP', 'DNT/GMD', 'DNT/GNF', 'DNT/GTQ', 'DNT/GYD', 'DNT/HKD', 'DNT/HNL', 'DNT/HRK', 'DNT/HTG', 'DNT/HUF', 'DNT/IDR', 'DNT/ILS', 'DNT/IMP', 'DNT/INR', 'DNT/IQD', 'DNT/ISK', 'DNT/JEP', 'DNT/JMD', 'DNT/JOD', 'DNT/JPY', 'DNT/KES', 'DNT/KGS', 'DNT/KHR', 'DNT/KMF', 'DNT/KRW', 'DNT/KWD', 'DNT/KYD', 'DNT/KZT', 'DNT/LAK', 'DNT/LBP', 'DNT/LKR', 'DNT/LRD', 'DNT/LSL', 'DNT/LYD', 'DNT/MAD', 'DNT/MDL', 'DNT/MGA', 'DNT/MKD', 'DNT/MMK', 'DNT/MNT', 'DNT/MOP', 'DNT/MRO', 'DNT/MTL', 'DNT/MUR', 'DNT/MVR', 'DNT/MWK', 'DNT/MXN', 'DNT/MYR', 'DNT/MZN', 'DNT/NAD', 'DNT/NGN', 'DNT/NIO', 'DNT/NOK', 'DNT/NPR', 'DNT/NZD', 'DNT/OMR', 'DNT/PAB', 'DNT/PEN', 'DNT/PGK', 'DNT/PHP', 'DNT/PKR', 'DNT/PLN', 'DNT/PYG', 'DNT/QAR', 'DNT/RON', 'DNT/RSD', 'DNT/RUB', 'DNT/RWF', 'DNT/SAR', 'DNT/SBD', 'DNT/SCR', 'DNT/SEK', 'DNT/SGD', 'DNT/SHP', 'DNT/SLL', 'DNT/SOS', 'DNT/SRD', 'DNT/SSP', 'DNT/STD', 'DNT/SVC', 'DNT/SZL', 'DNT/THB', 'DNT/TJS', 'DNT/TMM', 'DNT/TMT', 'DNT/TND', 'DNT/TOP', 'DNT/TRY', 'DNT/TTD', 'DNT/TWD', 'DNT/TZS', 'DNT/UAH', 'DNT/UGX', 'DNT/USD', 'DNT/UYU', 'DNT/UZS', 'DNT/VES', 'DNT/VND', 'DNT/VUV', 'DNT/WST', 'DNT/XAF', 'DNT/XAG', 'DNT/XAU', 'DNT/XCD', 'DNT/XDR', 'DNT/XOF', 'DNT/XPD', 'DNT/XPF', 'DNT/XPT', 'DNT/YER', 'DNT/ZAR', 'DNT/ZMW', 'DNT/ZWL', 'MKR/AED', 'MKR/AFN', 'MKR/ALL', 'MKR/AMD', 'MKR/ANG', 'MKR/AOA', 'MKR/ARS', 'MKR/AUD', 'MKR/AWG', 'MKR/AZN', 'MKR/BAM', 'MKR/BBD', 'MKR/BDT', 'MKR/BGN', 'MKR/BHD', 'MKR/BIF', 'MKR/BMD', 'MKR/BND', 'MKR/BOB', 'MKR/BRL', 'MKR/BSD', 'MKR/BTN', 'MKR/BWP', 'MKR/BYN', 'MKR/BYR', 'MKR/BZD', 'MKR/CAD', 'MKR/CDF', 'MKR/CHF', 'MKR/CLF', 'MKR/CLP', 'MKR/CNH', 'MKR/CNY', 'MKR/COP', 'MKR/CRC', 'MKR/CUC', 'MKR/CVE', 'MKR/CZK', 'MKR/DJF', 'MKR/DKK', 'MKR/DOP', 'MKR/DZD', 'MKR/EGP', 'MKR/ERN', 'MKR/ETB', 'MKR/EUR', 'MKR/FJD', 'MKR/FKP', 'MKR/GBP', 'MKR/GBX', 'MKR/GEL', 'MKR/GGP', 'MKR/GHS', 'MKR/GIP', 'MKR/GMD', 'MKR/GNF', 'MKR/GTQ', 'MKR/GYD', 'MKR/HKD', 'MKR/HNL', 'MKR/HRK', 'MKR/HTG', 'MKR/HUF', 'MKR/IDR', 'MKR/ILS', 'MKR/IMP', 'MKR/INR', 'MKR/IQD', 'MKR/ISK', 'MKR/JEP', 'MKR/JMD', 'MKR/JOD', 'MKR/JPY', 'MKR/KES', 'MKR/KGS', 'MKR/KHR', 'MKR/KMF', 'MKR/KRW', 'MKR/KWD', 'MKR/KYD', 'MKR/KZT', 'MKR/LAK', 'MKR/LBP', 'MKR/LKR', 'MKR/LRD', 'MKR/LSL', 'MKR/LYD', 'MKR/MAD', 'MKR/MDL', 'MKR/MGA', 'MKR/MKD', 'MKR/MMK', 'MKR/MNT', 'MKR/MOP', 'MKR/MRO', 'MKR/MTL', 'MKR/MUR', 'MKR/MVR', 'MKR/MWK', 'MKR/MXN', 'MKR/MYR', 'MKR/MZN', 'MKR/NAD', 'MKR/NGN', 'MKR/NIO', 'MKR/NOK', 'MKR/NPR', 'MKR/NZD', 'MKR/OMR', 'MKR/PAB', 'MKR/PEN', 'MKR/PGK', 'MKR/PHP', 'MKR/PKR', 'MKR/PLN', 'MKR/PYG', 'MKR/QAR', 'MKR/RON', 'MKR/RSD', 'MKR/RUB', 'MKR/RWF', 'MKR/SAR', 'MKR/SBD', 'MKR/SCR', 'MKR/SEK', 'MKR/SGD', 'MKR/SHP', 'MKR/SLL', 'MKR/SOS', 'MKR/SRD', 'MKR/SSP', 'MKR/STD', 'MKR/SVC', 'MKR/SZL', 'MKR/THB', 'MKR/TJS', 'MKR/TMM', 'MKR/TMT', 'MKR/TND', 'MKR/TOP', 'MKR/TRY', 'MKR/TTD', 'MKR/TWD', 'MKR/TZS', 'MKR/UAH', 'MKR/UGX', 'MKR/USD', 'MKR/UYU', 'MKR/UZS', 'MKR/VES', 'MKR/VND', 'MKR/VUV', 'MKR/WST', 'MKR/XAF', 'MKR/XAG', 'MKR/XAU', 'MKR/XCD', 'MKR/XDR', 'MKR/XOF', 'MKR/XPD', 'MKR/XPF', 'MKR/XPT', 'MKR/YER', 'MKR/ZAR', 'MKR/ZMW', 'MKR/ZWL', 'CVC/AED', 'CVC/AFN', 'CVC/ALL', 'CVC/AMD', 'CVC/ANG', 'CVC/AOA', 'CVC/ARS', 'CVC/AUD', 'CVC/AWG', 'CVC/AZN', 'CVC/BAM', 'CVC/BBD', 'CVC/BDT', 'CVC/BGN', 'CVC/BHD', 'CVC/BIF', 'CVC/BMD', 'CVC/BND', 'CVC/BOB', 'CVC/BRL', 'CVC/BSD', 'CVC/BTN', 'CVC/BWP', 'CVC/BYN', 'CVC/BYR', 'CVC/BZD', 'CVC/CAD', 'CVC/CDF', 'CVC/CHF', 'CVC/CLF', 'CVC/CLP', 'CVC/CNH', 'CVC/CNY', 'CVC/COP', 'CVC/CRC', 'CVC/CUC', 'CVC/CVE', 'CVC/CZK', 'CVC/DJF', 'CVC/DKK', 'CVC/DOP', 'CVC/DZD', 'CVC/EGP', 'CVC/ERN', 'CVC/ETB', 'CVC/EUR', 'CVC/FJD', 'CVC/FKP', 'CVC/GBP', 'CVC/GBX', 'CVC/GEL', 'CVC/GGP', 'CVC/GHS', 'CVC/GIP', 'CVC/GMD', 'CVC/GNF', 'CVC/GTQ', 'CVC/GYD', 'CVC/HKD', 'CVC/HNL', 'CVC/HRK', 'CVC/HTG', 'CVC/HUF', 'CVC/IDR', 'CVC/ILS', 'CVC/IMP', 'CVC/INR', 'CVC/IQD', 'CVC/ISK', 'CVC/JEP', 'CVC/JMD', 'CVC/JOD', 'CVC/JPY', 'CVC/KES', 'CVC/KGS', 'CVC/KHR', 'CVC/KMF', 'CVC/KRW', 'CVC/KWD', 'CVC/KYD', 'CVC/KZT', 'CVC/LAK', 'CVC/LBP', 'CVC/LKR', 'CVC/LRD', 'CVC/LSL', 'CVC/LYD', 'CVC/MAD', 'CVC/MDL', 'CVC/MGA', 'CVC/MKD', 'CVC/MMK', 'CVC/MNT', 'CVC/MOP', 'CVC/MRO', 'CVC/MTL', 'CVC/MUR', 'CVC/MVR', 'CVC/MWK', 'CVC/MXN', 'CVC/MYR', 'CVC/MZN', 'CVC/NAD', 'CVC/NGN', 'CVC/NIO', 'CVC/NOK', 'CVC/NPR', 'CVC/NZD', 'CVC/OMR', 'CVC/PAB', 'CVC/PEN', 'CVC/PGK', 'CVC/PHP', 'CVC/PKR', 'CVC/PLN', 'CVC/PYG', 'CVC/QAR', 'CVC/RON', 'CVC/RSD', 'CVC/RUB', 'CVC/RWF', 'CVC/SAR', 'CVC/SBD', 'CVC/SCR', 'CVC/SEK', 'CVC/SGD', 'CVC/SHP', 'CVC/SLL', 'CVC/SOS', 'CVC/SRD', 'CVC/SSP', 'CVC/STD', 'CVC/SVC', 'CVC/SZL', 'CVC/THB', 'CVC/TJS', 'CVC/TMM', 'CVC/TMT', 'CVC/TND', 'CVC/TOP', 'CVC/TRY', 'CVC/TTD', 'CVC/TWD', 'CVC/TZS', 'CVC/UAH', 'CVC/UGX', 'CVC/USD', 'CVC/UYU', 'CVC/UZS', 'CVC/VES', 'CVC/VND', 'CVC/VUV', 'CVC/WST', 'CVC/XAF', 'CVC/XAG', 'CVC/XAU', 'CVC/XCD', 'CVC/XDR', 'CVC/XOF', 'CVC/XPD', 'CVC/XPF', 'CVC/XPT', 'CVC/YER', 'CVC/ZAR', 'CVC/ZMW', 'CVC/ZWL', 'OMG/AED', 'OMG/AFN', 'OMG/ALL', 'OMG/AMD', 'OMG/ANG', 'OMG/AOA', 'OMG/ARS', 'OMG/AUD', 'OMG/AWG', 'OMG/AZN', 'OMG/BAM', 'OMG/BBD', 'OMG/BDT', 'OMG/BGN', 'OMG/BHD', 'OMG/BIF', 'OMG/BMD', 'OMG/BND', 'OMG/BOB', 'OMG/BRL', 'OMG/BSD', 'OMG/BTN', 'OMG/BWP', 'OMG/BYN', 'OMG/BYR', 'OMG/BZD', 'OMG/CAD', 'OMG/CDF', 'OMG/CHF', 'OMG/CLF', 'OMG/CLP', 'OMG/CNH', 'OMG/CNY', 'OMG/COP', 'OMG/CRC', 'OMG/CUC', 'OMG/CVE', 'OMG/CZK', 'OMG/DJF', 'OMG/DKK', 'OMG/DOP', 'OMG/DZD', 'OMG/EGP', 'OMG/ERN', 'OMG/ETB', 'OMG/EUR', 'OMG/FJD', 'OMG/FKP', 'OMG/GBP', 'OMG/GBX', 'OMG/GEL', 'OMG/GGP', 'OMG/GHS', 'OMG/GIP', 'OMG/GMD', 'OMG/GNF', 'OMG/GTQ', 'OMG/GYD', 'OMG/HKD', 'OMG/HNL', 'OMG/HRK', 'OMG/HTG', 'OMG/HUF', 'OMG/IDR', 'OMG/ILS', 'OMG/IMP', 'OMG/INR', 'OMG/IQD', 'OMG/ISK', 'OMG/JEP', 'OMG/JMD', 'OMG/JOD', 'OMG/JPY', 'OMG/KES', 'OMG/KGS', 'OMG/KHR', 'OMG/KMF', 'OMG/KRW', 'OMG/KWD', 'OMG/KYD', 'OMG/KZT', 'OMG/LAK', 'OMG/LBP', 'OMG/LKR', 'OMG/LRD', 'OMG/LSL', 'OMG/LYD', 'OMG/MAD', 'OMG/MDL', 'OMG/MGA', 'OMG/MKD', 'OMG/MMK', 'OMG/MNT', 'OMG/MOP', 'OMG/MRO', 'OMG/MTL', 'OMG/MUR', 'OMG/MVR', 'OMG/MWK', 'OMG/MXN', 'OMG/MYR', 'OMG/MZN', 'OMG/NAD', 'OMG/NGN', 'OMG/NIO', 'OMG/NOK', 'OMG/NPR', 'OMG/NZD', 'OMG/OMR', 'OMG/PAB', 'OMG/PEN', 'OMG/PGK', 'OMG/PHP', 'OMG/PKR', 'OMG/PLN', 'OMG/PYG', 'OMG/QAR', 'OMG/RON', 'OMG/RSD', 'OMG/RUB', 'OMG/RWF', 'OMG/SAR', 'OMG/SBD', 'OMG/SCR', 'OMG/SEK', 'OMG/SGD', 'OMG/SHP', 'OMG/SLL', 'OMG/SOS', 'OMG/SRD', 'OMG/SSP', 'OMG/STD', 'OMG/SVC', 'OMG/SZL', 'OMG/THB', 'OMG/TJS', 'OMG/TMM', 'OMG/TMT', 'OMG/TND', 'OMG/TOP', 'OMG/TRY', 'OMG/TTD', 'OMG/TWD', 'OMG/TZS', 'OMG/UAH', 'OMG/UGX', 'OMG/USD', 'OMG/UYU', 'OMG/UZS', 'OMG/VES', 'OMG/VND', 'OMG/VUV', 'OMG/WST', 'OMG/XAF', 'OMG/XAG', 'OMG/XAU', 'OMG/XCD', 'OMG/XDR', 'OMG/XOF', 'OMG/XPD', 'OMG/XPF', 'OMG/XPT', 'OMG/YER', 'OMG/ZAR', 'OMG/ZMW', 'OMG/ZWL', 'DAI/AED', 'DAI/AFN', 'DAI/ALL', 'DAI/AMD', 'DAI/ANG', 'DAI/AOA', 'DAI/ARS', 'DAI/AUD', 'DAI/AWG', 'DAI/AZN', 'DAI/BAM', 'DAI/BBD', 'DAI/BDT', 'DAI/BGN', 'DAI/BHD', 'DAI/BIF', 'DAI/BMD', 'DAI/BND', 'DAI/BOB', 'DAI/BRL', 'DAI/BSD', 'DAI/BTN', 'DAI/BWP', 'DAI/BYN', 'DAI/BYR', 'DAI/BZD', 'DAI/CAD', 'DAI/CDF', 'DAI/CHF', 'DAI/CLF', 'DAI/CLP', 'DAI/CNH', 'DAI/CNY', 'DAI/COP', 'DAI/CRC', 'DAI/CUC', 'DAI/CVE', 'DAI/CZK', 'DAI/DJF', 'DAI/DKK', 'DAI/DOP', 'DAI/DZD', 'DAI/EGP', 'DAI/ERN', 'DAI/ETB', 'DAI/EUR', 'DAI/FJD', 'DAI/FKP', 'DAI/GBP', 'DAI/GBX', 'DAI/GEL', 'DAI/GGP', 'DAI/GHS', 'DAI/GIP', 'DAI/GMD', 'DAI/GNF', 'DAI/GTQ', 'DAI/GYD', 'DAI/HKD', 'DAI/HNL', 'DAI/HRK', 'DAI/HTG', 'DAI/HUF', 'DAI/IDR', 'DAI/ILS', 'DAI/IMP', 'DAI/INR', 'DAI/IQD', 'DAI/ISK', 'DAI/JEP', 'DAI/JMD', 'DAI/JOD', 'DAI/JPY', 'DAI/KES', 'DAI/KGS', 'DAI/KHR', 'DAI/KMF', 'DAI/KRW', 'DAI/KWD', 'DAI/KYD', 'DAI/KZT', 'DAI/LAK', 'DAI/LBP', 'DAI/LKR', 'DAI/LRD', 'DAI/LSL', 'DAI/LYD', 'DAI/MAD', 'DAI/MDL', 'DAI/MGA', 'DAI/MKD', 'DAI/MMK', 'DAI/MNT', 'DAI/MOP', 'DAI/MRO', 'DAI/MTL', 'DAI/MUR', 'DAI/MVR', 'DAI/MWK', 'DAI/MXN', 'DAI/MYR', 'DAI/MZN', 'DAI/NAD', 'DAI/NGN', 'DAI/NIO', 'DAI/NOK', 'DAI/NPR', 'DAI/NZD', 'DAI/OMR', 'DAI/PAB', 'DAI/PEN', 'DAI/PGK', 'DAI/PHP', 'DAI/PKR', 'DAI/PLN', 'DAI/PYG', 'DAI/QAR', 'DAI/RON', 'DAI/RSD', 'DAI/RUB', 'DAI/RWF', 'DAI/SAR', 'DAI/SBD', 'DAI/SCR', 'DAI/SEK', 'DAI/SGD', 'DAI/SHP', 'DAI/SLL', 'DAI/SOS', 'DAI/SRD', 'DAI/SSP', 'DAI/STD', 'DAI/SVC', 'DAI/SZL', 'DAI/THB', 'DAI/TJS', 'DAI/TMM', 'DAI/TMT', 'DAI/TND', 'DAI/TOP', 'DAI/TRY', 'DAI/TTD', 'DAI/TWD', 'DAI/TZS', 'DAI/UAH', 'DAI/UGX', 'DAI/USD', 'DAI/UYU', 'DAI/UZS', 'DAI/VES', 'DAI/VND', 'DAI/VUV', 'DAI/WST', 'DAI/XAF', 'DAI/XAG', 'DAI/XAU', 'DAI/XCD', 'DAI/XDR', 'DAI/XOF', 'DAI/XPD', 'DAI/XPF', 'DAI/XPT', 'DAI/YER', 'DAI/ZAR', 'DAI/ZMW', 'DAI/ZWL', 'ZEC/AED', 'ZEC/AFN', 'ZEC/ALL', 'ZEC/AMD', 'ZEC/ANG', 'ZEC/AOA', 'ZEC/ARS', 'ZEC/AUD', 'ZEC/AWG', 'ZEC/AZN', 'ZEC/BAM', 'ZEC/BBD', 'ZEC/BDT', 'ZEC/BGN', 'ZEC/BHD', 'ZEC/BIF', 'ZEC/BMD', 'ZEC/BND', 'ZEC/BOB', 'ZEC/BRL', 'ZEC/BSD', 'ZEC/BTN', 'ZEC/BWP', 'ZEC/BYN', 'ZEC/BYR', 'ZEC/BZD', 'ZEC/CAD', 'ZEC/CDF', 'ZEC/CHF', 'ZEC/CLF', 'ZEC/CLP', 'ZEC/CNH', 'ZEC/CNY', 'ZEC/COP', 'ZEC/CRC', 'ZEC/CUC', 'ZEC/CVE', 'ZEC/CZK', 'ZEC/DJF', 'ZEC/DKK', 'ZEC/DOP', 'ZEC/DZD', 'ZEC/EGP', 'ZEC/ERN', 'ZEC/ETB', 'ZEC/EUR', 'ZEC/FJD', 'ZEC/FKP', 'ZEC/GBP', 'ZEC/GBX', 'ZEC/GEL', 'ZEC/GGP', 'ZEC/GHS', 'ZEC/GIP', 'ZEC/GMD', 'ZEC/GNF', 'ZEC/GTQ', 'ZEC/GYD', 'ZEC/HKD', 'ZEC/HNL', 'ZEC/HRK', 'ZEC/HTG', 'ZEC/HUF', 'ZEC/IDR', 'ZEC/ILS', 'ZEC/IMP', 'ZEC/INR', 'ZEC/IQD', 'ZEC/ISK', 'ZEC/JEP', 'ZEC/JMD', 'ZEC/JOD', 'ZEC/JPY', 'ZEC/KES', 'ZEC/KGS', 'ZEC/KHR', 'ZEC/KMF', 'ZEC/KRW', 'ZEC/KWD', 'ZEC/KYD', 'ZEC/KZT', 'ZEC/LAK', 'ZEC/LBP', 'ZEC/LKR', 'ZEC/LRD', 'ZEC/LSL', 'ZEC/LYD', 'ZEC/MAD', 'ZEC/MDL', 'ZEC/MGA', 'ZEC/MKD', 'ZEC/MMK', 'ZEC/MNT', 'ZEC/MOP', 'ZEC/MRO', 'ZEC/MTL', 'ZEC/MUR', 'ZEC/MVR', 'ZEC/MWK', 'ZEC/MXN', 'ZEC/MYR', 'ZEC/MZN', 'ZEC/NAD', 'ZEC/NGN', 'ZEC/NIO', 'ZEC/NOK', 'ZEC/NPR', 'ZEC/NZD', 'ZEC/OMR', 'ZEC/PAB', 'ZEC/PEN', 'ZEC/PGK', 'ZEC/PHP', 'ZEC/PKR', 'ZEC/PLN', 'ZEC/PYG', 'ZEC/QAR', 'ZEC/RON', 'ZEC/RSD', 'ZEC/RUB', 'ZEC/RWF', 'ZEC/SAR', 'ZEC/SBD', 'ZEC/SCR', 'ZEC/SEK', 'ZEC/SGD', 'ZEC/SHP', 'ZEC/SLL', 'ZEC/SOS', 'ZEC/SRD', 'ZEC/SSP', 'ZEC/STD', 'ZEC/SVC', 'ZEC/SZL', 'ZEC/THB', 'ZEC/TJS', 'ZEC/TMM', 'ZEC/TMT', 'ZEC/TND', 'ZEC/TOP', 'ZEC/TRY', 'ZEC/TTD', 'ZEC/TWD', 'ZEC/TZS', 'ZEC/UAH', 'ZEC/UGX', 'ZEC/USD', 'ZEC/UYU', 'ZEC/UZS', 'ZEC/VES', 'ZEC/VND', 'ZEC/VUV', 'ZEC/WST', 'ZEC/XAF', 'ZEC/XAG', 'ZEC/XAU', 'ZEC/XCD', 'ZEC/XDR', 'ZEC/XOF', 'ZEC/XPD', 'ZEC/XPF', 'ZEC/XPT', 'ZEC/YER', 'ZEC/ZAR', 'ZEC/ZMW', 'ZEC/ZWL', 'XRP/AED', 'XRP/AFN', 'XRP/ALL', 'XRP/AMD', 'XRP/ANG', 'XRP/AOA', 'XRP/ARS', 'XRP/AUD', 'XRP/AWG', 'XRP/AZN', 'XRP/BAM', 'XRP/BBD', 'XRP/BDT', 'XRP/BGN', 'XRP/BHD', 'XRP/BIF', 'XRP/BMD', 'XRP/BND', 'XRP/BOB', 'XRP/BRL', 'XRP/BSD', 'XRP/BTN', 'XRP/BWP', 'XRP/BYN', 'XRP/BYR', 'XRP/BZD', 'XRP/CAD', 'XRP/CDF', 'XRP/CHF', 'XRP/CLF', 'XRP/CLP', 'XRP/CNH', 'XRP/CNY', 'XRP/COP', 'XRP/CRC', 'XRP/CUC', 'XRP/CVE', 'XRP/CZK', 'XRP/DJF', 'XRP/DKK', 'XRP/DOP', 'XRP/DZD', 'XRP/EGP', 'XRP/ERN', 'XRP/ETB', 'XRP/EUR', 'XRP/FJD', 'XRP/FKP', 'XRP/GBP', 'XRP/GBX', 'XRP/GEL', 'XRP/GGP', 'XRP/GHS', 'XRP/GIP', 'XRP/GMD', 'XRP/GNF', 'XRP/GTQ', 'XRP/GYD', 'XRP/HKD', 'XRP/HNL', 'XRP/HRK', 'XRP/HTG', 'XRP/HUF', 'XRP/IDR', 'XRP/ILS', 'XRP/IMP', 'XRP/INR', 'XRP/IQD', 'XRP/ISK', 'XRP/JEP', 'XRP/JMD', 'XRP/JOD', 'XRP/JPY', 'XRP/KES', 'XRP/KGS', 'XRP/KHR', 'XRP/KMF', 'XRP/KRW', 'XRP/KWD', 'XRP/KYD', 'XRP/KZT', 'XRP/LAK', 'XRP/LBP', 'XRP/LKR', 'XRP/LRD', 'XRP/LSL', 'XRP/LYD', 'XRP/MAD', 'XRP/MDL', 'XRP/MGA', 'XRP/MKD', 'XRP/MMK', 'XRP/MNT', 'XRP/MOP', 'XRP/MRO', 'XRP/MTL', 'XRP/MUR', 'XRP/MVR', 'XRP/MWK', 'XRP/MXN', 'XRP/MYR', 'XRP/MZN', 'XRP/NAD', 'XRP/NGN', 'XRP/NIO', 'XRP/NOK', 'XRP/NPR', 'XRP/NZD', 'XRP/OMR', 'XRP/PAB', 'XRP/PEN', 'XRP/PGK', 'XRP/PHP', 'XRP/PKR', 'XRP/PLN', 'XRP/PYG', 'XRP/QAR', 'XRP/RON', 'XRP/RSD', 'XRP/RUB', 'XRP/RWF', 'XRP/SAR', 'XRP/SBD', 'XRP/SCR', 'XRP/SEK', 'XRP/SGD', 'XRP/SHP', 'XRP/SLL', 'XRP/SOS', 'XRP/SRD', 'XRP/SSP', 'XRP/STD', 'XRP/SVC', 'XRP/SZL', 'XRP/THB', 'XRP/TJS', 'XRP/TMM', 'XRP/TMT', 'XRP/TND', 'XRP/TOP', 'XRP/TRY', 'XRP/TTD', 'XRP/TWD', 'XRP/TZS', 'XRP/UAH', 'XRP/UGX', 'XRP/USD', 'XRP/UYU', 'XRP/UZS', 'XRP/VES', 'XRP/VND', 'XRP/VUV', 'XRP/WST', 'XRP/XAF', 'XRP/XAG', 'XRP/XAU', 'XRP/XCD', 'XRP/XDR', 'XRP/XOF', 'XRP/XPD', 'XRP/XPF', 'XRP/XPT', 'XRP/YER', 'XRP/ZAR', 'XRP/ZMW', 'XRP/ZWL', 'REP/AED', 'REP/AFN', 'REP/ALL', 'REP/AMD', 'REP/ANG', 'REP/AOA', 'REP/ARS', 'REP/AUD', 'REP/AWG', 'REP/AZN', 'REP/BAM', 'REP/BBD', 'REP/BDT', 'REP/BGN', 'REP/BHD', 'REP/BIF', 'REP/BMD', 'REP/BND', 'REP/BOB', 'REP/BRL', 'REP/BSD', 'REP/BTN', 'REP/BWP', 'REP/BYN', 'REP/BYR', 'REP/BZD', 'REP/CAD', 'REP/CDF', 'REP/CHF', 'REP/CLF', 'REP/CLP', 'REP/CNH', 'REP/CNY', 'REP/COP', 'REP/CRC', 'REP/CUC', 'REP/CVE', 'REP/CZK', 'REP/DJF', 'REP/DKK', 'REP/DOP', 'REP/DZD', 'REP/EGP', 'REP/ERN', 'REP/ETB', 'REP/EUR', 'REP/FJD', 'REP/FKP', 'REP/GBP', 'REP/GBX', 'REP/GEL', 'REP/GGP', 'REP/GHS', 'REP/GIP', 'REP/GMD', 'REP/GNF', 'REP/GTQ', 'REP/GYD', 'REP/HKD', 'REP/HNL', 'REP/HRK', 'REP/HTG', 'REP/HUF', 'REP/IDR', 'REP/ILS', 'REP/IMP', 'REP/INR', 'REP/IQD', 'REP/ISK', 'REP/JEP', 'REP/JMD', 'REP/JOD', 'REP/JPY', 'REP/KES', 'REP/KGS', 'REP/KHR', 'REP/KMF', 'REP/KRW', 'REP/KWD', 'REP/KYD', 'REP/KZT', 'REP/LAK', 'REP/LBP', 'REP/LKR', 'REP/LRD', 'REP/LSL', 'REP/LYD', 'REP/MAD', 'REP/MDL', 'REP/MGA', 'REP/MKD', 'REP/MMK', 'REP/MNT', 'REP/MOP', 'REP/MRO', 'REP/MTL', 'REP/MUR', 'REP/MVR', 'REP/MWK', 'REP/MXN', 'REP/MYR', 'REP/MZN', 'REP/NAD', 'REP/NGN', 'REP/NIO', 'REP/NOK', 'REP/NPR', 'REP/NZD', 'REP/OMR', 'REP/PAB', 'REP/PEN', 'REP/PGK', 'REP/PHP', 'REP/PKR', 'REP/PLN', 'REP/PYG', 'REP/QAR', 'REP/RON', 'REP/RSD', 'REP/RUB', 'REP/RWF', 'REP/SAR', 'REP/SBD', 'REP/SCR', 'REP/SEK', 'REP/SGD', 'REP/SHP', 'REP/SLL', 'REP/SOS', 'REP/SRD', 'REP/SSP', 'REP/STD', 'REP/SVC', 'REP/SZL', 'REP/THB', 'REP/TJS', 'REP/TMM', 'REP/TMT', 'REP/TND', 'REP/TOP', 'REP/TRY', 'REP/TTD', 'REP/TWD', 'REP/TZS', 'REP/UAH', 'REP/UGX', 'REP/USD', 'REP/UYU', 'REP/UZS', 'REP/VES', 'REP/VND', 'REP/VUV', 'REP/WST', 'REP/XAF', 'REP/XAG', 'REP/XAU', 'REP/XCD', 'REP/XDR', 'REP/XOF', 'REP/XPD', 'REP/XPF', 'REP/XPT', 'REP/YER', 'REP/ZAR', 'REP/ZMW', 'REP/ZWL', 'XLM/AED', 'XLM/AFN', 'XLM/ALL', 'XLM/AMD', 'XLM/ANG', 'XLM/AOA', 'XLM/ARS', 'XLM/AUD', 'XLM/AWG', 'XLM/AZN', 'XLM/BAM', 'XLM/BBD', 'XLM/BDT', 'XLM/BGN', 'XLM/BHD', 'XLM/BIF', 'XLM/BMD', 'XLM/BND', 'XLM/BOB', 'XLM/BRL', 'XLM/BSD', 'XLM/BTN', 'XLM/BWP', 'XLM/BYN', 'XLM/BYR', 'XLM/BZD', 'XLM/CAD', 'XLM/CDF', 'XLM/CHF', 'XLM/CLF', 'XLM/CLP', 'XLM/CNH', 'XLM/CNY', 'XLM/COP', 'XLM/CRC', 'XLM/CUC', 'XLM/CVE', 'XLM/CZK', 'XLM/DJF', 'XLM/DKK', 'XLM/DOP', 'XLM/DZD', 'XLM/EGP', 'XLM/ERN', 'XLM/ETB', 'XLM/EUR', 'XLM/FJD', 'XLM/FKP', 'XLM/GBP', 'XLM/GBX', 'XLM/GEL', 'XLM/GGP', 'XLM/GHS', 'XLM/GIP', 'XLM/GMD', 'XLM/GNF', 'XLM/GTQ', 'XLM/GYD', 'XLM/HKD', 'XLM/HNL', 'XLM/HRK', 'XLM/HTG', 'XLM/HUF', 'XLM/IDR', 'XLM/ILS', 'XLM/IMP', 'XLM/INR', 'XLM/IQD', 'XLM/ISK', 'XLM/JEP', 'XLM/JMD', 'XLM/JOD', 'XLM/JPY', 'XLM/KES', 'XLM/KGS', 'XLM/KHR', 'XLM/KMF', 'XLM/KRW', 'XLM/KWD', 'XLM/KYD', 'XLM/KZT', 'XLM/LAK', 'XLM/LBP', 'XLM/LKR', 'XLM/LRD', 'XLM/LSL', 'XLM/LYD', 'XLM/MAD', 'XLM/MDL', 'XLM/MGA', 'XLM/MKD', 'XLM/MMK', 'XLM/MNT', 'XLM/MOP', 'XLM/MRO', 'XLM/MTL', 'XLM/MUR', 'XLM/MVR', 'XLM/MWK', 'XLM/MXN', 'XLM/MYR', 'XLM/MZN', 'XLM/NAD', 'XLM/NGN', 'XLM/NIO', 'XLM/NOK', 'XLM/NPR', 'XLM/NZD', 'XLM/OMR', 'XLM/PAB', 'XLM/PEN', 'XLM/PGK', 'XLM/PHP', 'XLM/PKR', 'XLM/PLN', 'XLM/PYG', 'XLM/QAR', 'XLM/RON', 'XLM/RSD', 'XLM/RUB', 'XLM/RWF', 'XLM/SAR', 'XLM/SBD', 'XLM/SCR', 'XLM/SEK', 'XLM/SGD', 'XLM/SHP', 'XLM/SLL', 'XLM/SOS', 'XLM/SRD', 'XLM/SSP', 'XLM/STD', 'XLM/SVC', 'XLM/SZL', 'XLM/THB', 'XLM/TJS', 'XLM/TMM', 'XLM/TMT', 'XLM/TND', 'XLM/TOP', 'XLM/TRY', 'XLM/TTD', 'XLM/TWD', 'XLM/TZS', 'XLM/UAH', 'XLM/UGX', 'XLM/USD', 'XLM/UYU', 'XLM/UZS', 'XLM/VES', 'XLM/VND', 'XLM/VUV', 'XLM/WST', 'XLM/XAF', 'XLM/XAG', 'XLM/XAU', 'XLM/XCD', 'XLM/XDR', 'XLM/XOF', 'XLM/XPD', 'XLM/XPF', 'XLM/XPT', 'XLM/YER', 'XLM/ZAR', 'XLM/ZMW', 'XLM/ZWL', 'EOS/AED', 'EOS/AFN', 'EOS/ALL', 'EOS/AMD', 'EOS/ANG', 'EOS/AOA', 'EOS/ARS', 'EOS/AUD', 'EOS/AWG', 'EOS/AZN', 'EOS/BAM', 'EOS/BBD', 'EOS/BDT', 'EOS/BGN', 'EOS/BHD', 'EOS/BIF', 'EOS/BMD', 'EOS/BND', 'EOS/BOB', 'EOS/BRL', 'EOS/BSD', 'EOS/BTN', 'EOS/BWP', 'EOS/BYN', 'EOS/BYR', 'EOS/BZD', 'EOS/CAD', 'EOS/CDF', 'EOS/CHF', 'EOS/CLF', 'EOS/CLP', 'EOS/CNH', 'EOS/CNY', 'EOS/COP', 'EOS/CRC', 'EOS/CUC', 'EOS/CVE', 'EOS/CZK', 'EOS/DJF', 'EOS/DKK', 'EOS/DOP', 'EOS/DZD', 'EOS/EGP', 'EOS/ERN', 'EOS/ETB', 'EOS/EUR', 'EOS/FJD', 'EOS/FKP', 'EOS/GBP', 'EOS/GBX', 'EOS/GEL', 'EOS/GGP', 'EOS/GHS', 'EOS/GIP', 'EOS/GMD', 'EOS/GNF', 'EOS/GTQ', 'EOS/GYD', 'EOS/HKD', 'EOS/HNL', 'EOS/HRK', 'EOS/HTG', 'EOS/HUF', 'EOS/IDR', 'EOS/ILS', 'EOS/IMP', 'EOS/INR', 'EOS/IQD', 'EOS/ISK', 'EOS/JEP', 'EOS/JMD', 'EOS/JOD', 'EOS/JPY', 'EOS/KES', 'EOS/KGS', 'EOS/KHR', 'EOS/KMF', 'EOS/KRW', 'EOS/KWD', 'EOS/KYD', 'EOS/KZT', 'EOS/LAK', 'EOS/LBP', 'EOS/LKR', 'EOS/LRD', 'EOS/LSL', 'EOS/LYD', 'EOS/MAD', 'EOS/MDL', 'EOS/MGA', 'EOS/MKD', 'EOS/MMK', 'EOS/MNT', 'EOS/MOP', 'EOS/MRO', 'EOS/MTL', 'EOS/MUR', 'EOS/MVR', 'EOS/MWK', 'EOS/MXN', 'EOS/MYR', 'EOS/MZN', 'EOS/NAD', 'EOS/NGN', 'EOS/NIO', 'EOS/NOK', 'EOS/NPR', 'EOS/NZD', 'EOS/OMR', 'EOS/PAB', 'EOS/PEN', 'EOS/PGK', 'EOS/PHP', 'EOS/PKR', 'EOS/PLN', 'EOS/PYG', 'EOS/QAR', 'EOS/RON', 'EOS/RSD', 'EOS/RUB', 'EOS/RWF', 'EOS/SAR', 'EOS/SBD', 'EOS/SCR', 'EOS/SEK', 'EOS/SGD', 'EOS/SHP', 'EOS/SLL', 'EOS/SOS', 'EOS/SRD', 'EOS/SSP', 'EOS/STD', 'EOS/SVC', 'EOS/SZL', 'EOS/THB', 'EOS/TJS', 'EOS/TMM', 'EOS/TMT', 'EOS/TND', 'EOS/TOP', 'EOS/TRY', 'EOS/TTD', 'EOS/TWD', 'EOS/TZS', 'EOS/UAH', 'EOS/UGX', 'EOS/USD', 'EOS/UYU', 'EOS/UZS', 'EOS/VES', 'EOS/VND', 'EOS/VUV', 'EOS/WST', 'EOS/XAF', 'EOS/XAG', 'EOS/XAU', 'EOS/XCD', 'EOS/XDR', 'EOS/XOF', 'EOS/XPD', 'EOS/XPF', 'EOS/XPT', 'EOS/YER', 'EOS/ZAR', 'EOS/ZMW', 'EOS/ZWL', 'XTZ/AED', 'XTZ/AFN', 'XTZ/ALL', 'XTZ/AMD', 'XTZ/ANG', 'XTZ/AOA', 'XTZ/ARS', 'XTZ/AUD', 'XTZ/AWG', 'XTZ/AZN', 'XTZ/BAM', 'XTZ/BBD', 'XTZ/BDT', 'XTZ/BGN', 'XTZ/BHD', 'XTZ/BIF', 'XTZ/BMD', 'XTZ/BND', 'XTZ/BOB', 'XTZ/BRL', 'XTZ/BSD', 'XTZ/BTN', 'XTZ/BWP', 'XTZ/BYN', 'XTZ/BYR', 'XTZ/BZD', 'XTZ/CAD', 'XTZ/CDF', 'XTZ/CHF', 'XTZ/CLF', 'XTZ/CLP', 'XTZ/CNH', 'XTZ/CNY', 'XTZ/COP', 'XTZ/CRC', 'XTZ/CUC', 'XTZ/CVE', 'XTZ/CZK', 'XTZ/DJF', 'XTZ/DKK', 'XTZ/DOP', 'XTZ/DZD', 'XTZ/EGP', 'XTZ/ERN', 'XTZ/ETB', 'XTZ/EUR', 'XTZ/FJD', 'XTZ/FKP', 'XTZ/GBP', 'XTZ/GBX', 'XTZ/GEL', 'XTZ/GGP', 'XTZ/GHS', 'XTZ/GIP', 'XTZ/GMD', 'XTZ/GNF', 'XTZ/GTQ', 'XTZ/GYD', 'XTZ/HKD', 'XTZ/HNL', 'XTZ/HRK', 'XTZ/HTG', 'XTZ/HUF', 'XTZ/IDR', 'XTZ/ILS', 'XTZ/IMP', 'XTZ/INR', 'XTZ/IQD', 'XTZ/ISK', 'XTZ/JEP', 'XTZ/JMD', 'XTZ/JOD', 'XTZ/JPY', 'XTZ/KES', 'XTZ/KGS', 'XTZ/KHR', 'XTZ/KMF', 'XTZ/KRW', 'XTZ/KWD', 'XTZ/KYD', 'XTZ/KZT', 'XTZ/LAK', 'XTZ/LBP', 'XTZ/LKR', 'XTZ/LRD', 'XTZ/LSL', 'XTZ/LYD', 'XTZ/MAD', 'XTZ/MDL', 'XTZ/MGA', 'XTZ/MKD', 'XTZ/MMK', 'XTZ/MNT', 'XTZ/MOP', 'XTZ/MRO', 'XTZ/MTL', 'XTZ/MUR', 'XTZ/MVR', 'XTZ/MWK', 'XTZ/MXN', 'XTZ/MYR', 'XTZ/MZN', 'XTZ/NAD', 'XTZ/NGN', 'XTZ/NIO', 'XTZ/NOK', 'XTZ/NPR', 'XTZ/NZD', 'XTZ/OMR', 'XTZ/PAB', 'XTZ/PEN', 'XTZ/PGK', 'XTZ/PHP', 'XTZ/PKR', 'XTZ/PLN', 'XTZ/PYG', 'XTZ/QAR', 'XTZ/RON', 'XTZ/RSD', 'XTZ/RUB', 'XTZ/RWF', 'XTZ/SAR', 'XTZ/SBD', 'XTZ/SCR', 'XTZ/SEK', 'XTZ/SGD', 'XTZ/SHP', 'XTZ/SLL', 'XTZ/SOS', 'XTZ/SRD', 'XTZ/SSP', 'XTZ/STD', 'XTZ/SVC', 'XTZ/SZL', 'XTZ/THB', 'XTZ/TJS', 'XTZ/TMM', 'XTZ/TMT', 'XTZ/TND', 'XTZ/TOP', 'XTZ/TRY', 'XTZ/TTD', 'XTZ/TWD', 'XTZ/TZS', 'XTZ/UAH', 'XTZ/UGX', 'XTZ/USD', 'XTZ/UYU', 'XTZ/UZS', 'XTZ/VES', 'XTZ/VND', 'XTZ/VUV', 'XTZ/WST', 'XTZ/XAF', 'XTZ/XAG', 'XTZ/XAU', 'XTZ/XCD', 'XTZ/XDR', 'XTZ/XOF', 'XTZ/XPD', 'XTZ/XPF', 'XTZ/XPT', 'XTZ/YER', 'XTZ/ZAR', 'XTZ/ZMW', 'XTZ/ZWL', 'ALGO/AED', 'ALGO/AFN', 'ALGO/ALL', 'ALGO/AMD', 'ALGO/ANG', 'ALGO/AOA', 'ALGO/ARS', 'ALGO/AUD', 'ALGO/AWG', 'ALGO/AZN', 'ALGO/BAM', 'ALGO/BBD', 'ALGO/BDT', 'ALGO/BGN', 'ALGO/BHD', 'ALGO/BIF', 'ALGO/BMD', 'ALGO/BND', 'ALGO/BOB', 'ALGO/BRL', 'ALGO/BSD', 'ALGO/BTN', 'ALGO/BWP', 'ALGO/BYN', 'ALGO/BYR', 'ALGO/BZD', 'ALGO/CAD', 'ALGO/CDF', 'ALGO/CHF', 'ALGO/CLF', 'ALGO/CLP', 'ALGO/CNH', 'ALGO/CNY', 'ALGO/COP', 'ALGO/CRC', 'ALGO/CUC', 'ALGO/CVE', 'ALGO/CZK', 'ALGO/DJF', 'ALGO/DKK', 'ALGO/DOP', 'ALGO/DZD', 'ALGO/EGP', 'ALGO/ERN', 'ALGO/ETB', 'ALGO/EUR', 'ALGO/FJD', 'ALGO/FKP', 'ALGO/GBP', 'ALGO/GBX', 'ALGO/GEL', 'ALGO/GGP', 'ALGO/GHS', 'ALGO/GIP', 'ALGO/GMD', 'ALGO/GNF', 'ALGO/GTQ', 'ALGO/GYD', 'ALGO/HKD', 'ALGO/HNL', 'ALGO/HRK', 'ALGO/HTG', 'ALGO/HUF', 'ALGO/IDR', 'ALGO/ILS', 'ALGO/IMP', 'ALGO/INR', 'ALGO/IQD', 'ALGO/ISK', 'ALGO/JEP', 'ALGO/JMD', 'ALGO/JOD', 'ALGO/JPY', 'ALGO/KES', 'ALGO/KGS', 'ALGO/KHR', 'ALGO/KMF', 'ALGO/KRW', 'ALGO/KWD', 'ALGO/KYD', 'ALGO/KZT', 'ALGO/LAK', 'ALGO/LBP', 'ALGO/LKR', 'ALGO/LRD', 'ALGO/LSL', 'ALGO/LYD', 'ALGO/MAD', 'ALGO/MDL', 'ALGO/MGA', 'ALGO/MKD', 'ALGO/MMK', 'ALGO/MNT', 'ALGO/MOP', 'ALGO/MRO', 'ALGO/MTL', 'ALGO/MUR', 'ALGO/MVR', 'ALGO/MWK', 'ALGO/MXN', 'ALGO/MYR', 'ALGO/MZN', 'ALGO/NAD', 'ALGO/NGN', 'ALGO/NIO', 'ALGO/NOK', 'ALGO/NPR', 'ALGO/NZD', 'ALGO/OMR', 'ALGO/PAB', 'ALGO/PEN', 'ALGO/PGK', 'ALGO/PHP', 'ALGO/PKR', 'ALGO/PLN', 'ALGO/PYG', 'ALGO/QAR', 'ALGO/RON', 'ALGO/RSD', 'ALGO/RUB', 'ALGO/RWF', 'ALGO/SAR', 'ALGO/SBD', 'ALGO/SCR', 'ALGO/SEK', 'ALGO/SGD', 'ALGO/SHP', 'ALGO/SLL', 'ALGO/SOS', 'ALGO/SRD', 'ALGO/SSP', 'ALGO/STD', 'ALGO/SVC', 'ALGO/SZL', 'ALGO/THB', 'ALGO/TJS', 'ALGO/TMM', 'ALGO/TMT', 'ALGO/TND', 'ALGO/TOP', 'ALGO/TRY', 'ALGO/TTD', 'ALGO/TWD', 'ALGO/TZS', 'ALGO/UAH', 'ALGO/UGX', 'ALGO/USD', 'ALGO/UYU', 'ALGO/UZS', 'ALGO/VES', 'ALGO/VND', 'ALGO/VUV', 'ALGO/WST', 'ALGO/XAF', 'ALGO/XAG', 'ALGO/XAU', 'ALGO/XCD', 'ALGO/XDR', 'ALGO/XOF', 'ALGO/XPD', 'ALGO/XPF', 'ALGO/XPT', 'ALGO/YER', 'ALGO/ZAR', 'ALGO/ZMW', 'ALGO/ZWL', 'DASH/AED', 'DASH/AFN', 'DASH/ALL', 'DASH/AMD', 'DASH/ANG', 'DASH/AOA', 'DASH/ARS', 'DASH/AUD', 'DASH/AWG', 'DASH/AZN', 'DASH/BAM', 'DASH/BBD', 'DASH/BDT', 'DASH/BGN', 'DASH/BHD', 'DASH/BIF', 'DASH/BMD', 'DASH/BND', 'DASH/BOB', 'DASH/BRL', 'DASH/BSD', 'DASH/BTN', 'DASH/BWP', 'DASH/BYN', 'DASH/BYR', 'DASH/BZD', 'DASH/CAD', 'DASH/CDF', 'DASH/CHF', 'DASH/CLF', 'DASH/CLP', 'DASH/CNH', 'DASH/CNY', 'DASH/COP', 'DASH/CRC', 'DASH/CUC', 'DASH/CVE', 'DASH/CZK', 'DASH/DJF', 'DASH/DKK', 'DASH/DOP', 'DASH/DZD', 'DASH/EGP', 'DASH/ERN', 'DASH/ETB', 'DASH/EUR', 'DASH/FJD', 'DASH/FKP', 'DASH/GBP', 'DASH/GBX', 'DASH/GEL', 'DASH/GGP', 'DASH/GHS', 'DASH/GIP', 'DASH/GMD', 'DASH/GNF', 'DASH/GTQ', 'DASH/GYD', 'DASH/HKD', 'DASH/HNL', 'DASH/HRK', 'DASH/HTG', 'DASH/HUF', 'DASH/IDR', 'DASH/ILS', 'DASH/IMP', 'DASH/INR', 'DASH/IQD', 'DASH/ISK', 'DASH/JEP', 'DASH/JMD', 'DASH/JOD', 'DASH/JPY', 'DASH/KES', 'DASH/KGS', 'DASH/KHR', 'DASH/KMF', 'DASH/KRW', 'DASH/KWD', 'DASH/KYD', 'DASH/KZT', 'DASH/LAK', 'DASH/LBP', 'DASH/LKR', 'DASH/LRD', 'DASH/LSL', 'DASH/LYD', 'DASH/MAD', 'DASH/MDL', 'DASH/MGA', 'DASH/MKD', 'DASH/MMK', 'DASH/MNT', 'DASH/MOP', 'DASH/MRO', 'DASH/MTL', 'DASH/MUR', 'DASH/MVR', 'DASH/MWK', 'DASH/MXN', 'DASH/MYR', 'DASH/MZN', 'DASH/NAD', 'DASH/NGN', 'DASH/NIO', 'DASH/NOK', 'DASH/NPR', 'DASH/NZD', 'DASH/OMR', 'DASH/PAB', 'DASH/PEN', 'DASH/PGK', 'DASH/PHP', 'DASH/PKR', 'DASH/PLN', 'DASH/PYG', 'DASH/QAR', 'DASH/RON', 'DASH/RSD', 'DASH/RUB', 'DASH/RWF', 'DASH/SAR', 'DASH/SBD', 'DASH/SCR', 'DASH/SEK', 'DASH/SGD', 'DASH/SHP', 'DASH/SLL', 'DASH/SOS', 'DASH/SRD', 'DASH/SSP', 'DASH/STD', 'DASH/SVC', 'DASH/SZL', 'DASH/THB', 'DASH/TJS', 'DASH/TMM', 'DASH/TMT', 'DASH/TND', 'DASH/TOP', 'DASH/TRY', 'DASH/TTD', 'DASH/TWD', 'DASH/TZS', 'DASH/UAH', 'DASH/UGX', 'DASH/USD', 'DASH/UYU', 'DASH/UZS', 'DASH/VES', 'DASH/VND', 'DASH/VUV', 'DASH/WST', 'DASH/XAF', 'DASH/XAG', 'DASH/XAU', 'DASH/XCD', 'DASH/XDR', 'DASH/XOF', 'DASH/XPD', 'DASH/XPF', 'DASH/XPT', 'DASH/YER', 'DASH/ZAR', 'DASH/ZMW', 'DASH/ZWL', 'ATOM/AED', 'ATOM/AFN', 'ATOM/ALL', 'ATOM/AMD', 'ATOM/ANG', 'ATOM/AOA', 'ATOM/ARS', 'ATOM/AUD', 'ATOM/AWG', 'ATOM/AZN', 'ATOM/BAM', 'ATOM/BBD', 'ATOM/BDT', 'ATOM/BGN', 'ATOM/BHD', 'ATOM/BIF', 'ATOM/BMD', 'ATOM/BND', 'ATOM/BOB', 'ATOM/BRL', 'ATOM/BSD', 'ATOM/BTN', 'ATOM/BWP', 'ATOM/BYN', 'ATOM/BYR', 'ATOM/BZD', 'ATOM/CAD', 'ATOM/CDF', 'ATOM/CHF', 'ATOM/CLF', 'ATOM/CLP', 'ATOM/CNH', 'ATOM/CNY', 'ATOM/COP', 'ATOM/CRC', 'ATOM/CUC', 'ATOM/CVE', 'ATOM/CZK', 'ATOM/DJF', 'ATOM/DKK', 'ATOM/DOP', 'ATOM/DZD', 'ATOM/EGP', 'ATOM/ERN', 'ATOM/ETB', 'ATOM/EUR', 'ATOM/FJD', 'ATOM/FKP', 'ATOM/GBP', 'ATOM/GBX', 'ATOM/GEL', 'ATOM/GGP', 'ATOM/GHS', 'ATOM/GIP', 'ATOM/GMD', 'ATOM/GNF', 'ATOM/GTQ', 'ATOM/GYD', 'ATOM/HKD', 'ATOM/HNL', 'ATOM/HRK', 'ATOM/HTG', 'ATOM/HUF', 'ATOM/IDR', 'ATOM/ILS', 'ATOM/IMP', 'ATOM/INR', 'ATOM/IQD', 'ATOM/ISK', 'ATOM/JEP', 'ATOM/JMD', 'ATOM/JOD', 'ATOM/JPY', 'ATOM/KES', 'ATOM/KGS', 'ATOM/KHR', 'ATOM/KMF', 'ATOM/KRW', 'ATOM/KWD', 'ATOM/KYD', 'ATOM/KZT', 'ATOM/LAK', 'ATOM/LBP', 'ATOM/LKR', 'ATOM/LRD', 'ATOM/LSL', 'ATOM/LYD', 'ATOM/MAD', 'ATOM/MDL', 'ATOM/MGA', 'ATOM/MKD', 'ATOM/MMK', 'ATOM/MNT', 'ATOM/MOP', 'ATOM/MRO', 'ATOM/MTL', 'ATOM/MUR', 'ATOM/MVR', 'ATOM/MWK', 'ATOM/MXN', 'ATOM/MYR', 'ATOM/MZN', 'ATOM/NAD', 'ATOM/NGN', 'ATOM/NIO', 'ATOM/NOK', 'ATOM/NPR', 'ATOM/NZD', 'ATOM/OMR', 'ATOM/PAB', 'ATOM/PEN', 'ATOM/PGK', 'ATOM/PHP', 'ATOM/PKR', 'ATOM/PLN', 'ATOM/PYG', 'ATOM/QAR', 'ATOM/RON', 'ATOM/RSD', 'ATOM/RUB', 'ATOM/RWF', 'ATOM/SAR', 'ATOM/SBD', 'ATOM/SCR', 'ATOM/SEK', 'ATOM/SGD', 'ATOM/SHP', 'ATOM/SLL', 'ATOM/SOS', 'ATOM/SRD', 'ATOM/SSP', 'ATOM/STD', 'ATOM/SVC', 'ATOM/SZL', 'ATOM/THB', 'ATOM/TJS', 'ATOM/TMM', 'ATOM/TMT', 'ATOM/TND', 'ATOM/TOP', 'ATOM/TRY', 'ATOM/TTD', 'ATOM/TWD', 'ATOM/TZS', 'ATOM/UAH', 'ATOM/UGX', 'ATOM/USD', 'ATOM/UYU', 'ATOM/UZS', 'ATOM/VES', 'ATOM/VND', 'ATOM/VUV', 'ATOM/WST', 'ATOM/XAF', 'ATOM/XAG', 'ATOM/XAU', 'ATOM/XCD', 'ATOM/XDR', 'ATOM/XOF', 'ATOM/XPD', 'ATOM/XPF', 'ATOM/XPT', 'ATOM/YER', 'ATOM/ZAR', 'ATOM/ZMW', 'ATOM/ZWL', 'OXT/AED', 'OXT/AFN', 'OXT/ALL', 'OXT/AMD', 'OXT/ANG', 'OXT/AOA', 'OXT/ARS', 'OXT/AUD', 'OXT/AWG', 'OXT/AZN', 'OXT/BAM', 'OXT/BBD', 'OXT/BDT', 'OXT/BGN', 'OXT/BHD', 'OXT/BIF', 'OXT/BMD', 'OXT/BND', 'OXT/BOB', 'OXT/BRL', 'OXT/BSD', 'OXT/BTN', 'OXT/BWP', 'OXT/BYN', 'OXT/BYR', 'OXT/BZD', 'OXT/CAD', 'OXT/CDF', 'OXT/CHF', 'OXT/CLF', 'OXT/CLP', 'OXT/CNH', 'OXT/CNY', 'OXT/COP', 'OXT/CRC', 'OXT/CUC', 'OXT/CVE', 'OXT/CZK', 'OXT/DJF', 'OXT/DKK', 'OXT/DOP', 'OXT/DZD', 'OXT/EGP', 'OXT/ERN', 'OXT/ETB', 'OXT/EUR', 'OXT/FJD', 'OXT/FKP', 'OXT/GBP', 'OXT/GBX', 'OXT/GEL', 'OXT/GGP', 'OXT/GHS', 'OXT/GIP', 'OXT/GMD', 'OXT/GNF', 'OXT/GTQ', 'OXT/GYD', 'OXT/HKD', 'OXT/HNL', 'OXT/HRK', 'OXT/HTG', 'OXT/HUF', 'OXT/IDR', 'OXT/ILS', 'OXT/IMP', 'OXT/INR', 'OXT/IQD', 'OXT/ISK', 'OXT/JEP', 'OXT/JMD', 'OXT/JOD', 'OXT/JPY', 'OXT/KES', 'OXT/KGS', 'OXT/KHR', 'OXT/KMF', 'OXT/KRW', 'OXT/KWD', 'OXT/KYD', 'OXT/KZT', 'OXT/LAK', 'OXT/LBP', 'OXT/LKR', 'OXT/LRD', 'OXT/LSL', 'OXT/LYD', 'OXT/MAD', 'OXT/MDL', 'OXT/MGA', 'OXT/MKD', 'OXT/MMK', 'OXT/MNT', 'OXT/MOP', 'OXT/MRO', 'OXT/MTL', 'OXT/MUR', 'OXT/MVR', 'OXT/MWK', 'OXT/MXN', 'OXT/MYR', 'OXT/MZN', 'OXT/NAD', 'OXT/NGN', 'OXT/NIO', 'OXT/NOK', 'OXT/NPR', 'OXT/NZD', 'OXT/OMR', 'OXT/PAB', 'OXT/PEN', 'OXT/PGK', 'OXT/PHP', 'OXT/PKR', 'OXT/PLN', 'OXT/PYG', 'OXT/QAR', 'OXT/RON', 'OXT/RSD', 'OXT/RUB', 'OXT/RWF', 'OXT/SAR', 'OXT/SBD', 'OXT/SCR', 'OXT/SEK', 'OXT/SGD', 'OXT/SHP', 'OXT/SLL', 'OXT/SOS', 'OXT/SRD', 'OXT/SSP', 'OXT/STD', 'OXT/SVC', 'OXT/SZL', 'OXT/THB', 'OXT/TJS', 'OXT/TMM', 'OXT/TMT', 'OXT/TND', 'OXT/TOP', 'OXT/TRY', 'OXT/TTD', 'OXT/TWD', 'OXT/TZS', 'OXT/UAH', 'OXT/UGX', 'OXT/USD', 'OXT/UYU', 'OXT/UZS', 'OXT/VES', 'OXT/VND', 'OXT/VUV', 'OXT/WST', 'OXT/XAF', 'OXT/XAG', 'OXT/XAU', 'OXT/XCD', 'OXT/XDR', 'OXT/XOF', 'OXT/XPD', 'OXT/XPF', 'OXT/XPT', 'OXT/YER', 'OXT/ZAR', 'OXT/ZMW', 'OXT/ZWL', 'COMP/AED', 'COMP/AFN', 'COMP/ALL', 'COMP/AMD', 'COMP/ANG', 'COMP/AOA', 'COMP/ARS', 'COMP/AUD', 'COMP/AWG', 'COMP/AZN', 'COMP/BAM', 'COMP/BBD', 'COMP/BDT', 'COMP/BGN', 'COMP/BHD', 'COMP/BIF', 'COMP/BMD', 'COMP/BND', 'COMP/BOB', 'COMP/BRL', 'COMP/BSD', 'COMP/BTN', 'COMP/BWP', 'COMP/BYN', 'COMP/BYR', 'COMP/BZD', 'COMP/CAD', 'COMP/CDF', 'COMP/CHF', 'COMP/CLF', 'COMP/CLP', 'COMP/CNH', 'COMP/CNY', 'COMP/COP', 'COMP/CRC', 'COMP/CUC', 'COMP/CVE', 'COMP/CZK', 'COMP/DJF', 'COMP/DKK', 'COMP/DOP', 'COMP/DZD', 'COMP/EGP', 'COMP/ERN', 'COMP/ETB', 'COMP/EUR', 'COMP/FJD', 'COMP/FKP', 'COMP/GBP', 'COMP/GBX', 'COMP/GEL', 'COMP/GGP', 'COMP/GHS', 'COMP/GIP', 'COMP/GMD', 'COMP/GNF', 'COMP/GTQ', 'COMP/GYD', 'COMP/HKD', 'COMP/HNL', 'COMP/HRK', 'COMP/HTG', 'COMP/HUF', 'COMP/IDR', 'COMP/ILS', 'COMP/IMP', 'COMP/INR', 'COMP/IQD', 'COMP/ISK', 'COMP/JEP', 'COMP/JMD', 'COMP/JOD', 'COMP/JPY', 'COMP/KES', 'COMP/KGS', 'COMP/KHR', 'COMP/KMF', 'COMP/KRW', 'COMP/KWD', 'COMP/KYD', 'COMP/KZT', 'COMP/LAK', 'COMP/LBP', 'COMP/LKR', 'COMP/LRD', 'COMP/LSL', 'COMP/LYD', 'COMP/MAD', 'COMP/MDL', 'COMP/MGA', 'COMP/MKD', 'COMP/MMK', 'COMP/MNT', 'COMP/MOP', 'COMP/MRO', 'COMP/MTL', 'COMP/MUR', 'COMP/MVR', 'COMP/MWK', 'COMP/MXN', 'COMP/MYR', 'COMP/MZN', 'COMP/NAD', 'COMP/NGN', 'COMP/NIO', 'COMP/NOK', 'COMP/NPR', 'COMP/NZD', 'COMP/OMR', 'COMP/PAB', 'COMP/PEN', 'COMP/PGK', 'COMP/PHP', 'COMP/PKR', 'COMP/PLN', 'COMP/PYG', 'COMP/QAR', 'COMP/RON', 'COMP/RSD', 'COMP/RUB', 'COMP/RWF', 'COMP/SAR', 'COMP/SBD', 'COMP/SCR', 'COMP/SEK', 'COMP/SGD', 'COMP/SHP', 'COMP/SLL', 'COMP/SOS', 'COMP/SRD', 'COMP/SSP', 'COMP/STD', 'COMP/SVC', 'COMP/SZL', 'COMP/THB', 'COMP/TJS', 'COMP/TMM', 'COMP/TMT', 'COMP/TND', 'COMP/TOP', 'COMP/TRY', 'COMP/TTD', 'COMP/TWD', 'COMP/TZS', 'COMP/UAH', 'COMP/UGX', 'COMP/USD', 'COMP/UYU', 'COMP/UZS', 'COMP/VES', 'COMP/VND', 'COMP/VUV', 'COMP/WST', 'COMP/XAF', 'COMP/XAG', 'COMP/XAU', 'COMP/XCD', 'COMP/XDR', 'COMP/XOF', 'COMP/XPD', 'COMP/XPF', 'COMP/XPT', 'COMP/YER', 'COMP/ZAR', 'COMP/ZMW', 'COMP/ZWL', 'ENJ/AED', 'ENJ/AFN', 'ENJ/ALL', 'ENJ/AMD', 'ENJ/ANG', 'ENJ/AOA', 'ENJ/ARS', 'ENJ/AUD', 'ENJ/AWG', 'ENJ/AZN', 'ENJ/BAM', 'ENJ/BBD', 'ENJ/BDT', 'ENJ/BGN', 'ENJ/BHD', 'ENJ/BIF', 'ENJ/BMD', 'ENJ/BND', 'ENJ/BOB', 'ENJ/BRL', 'ENJ/BSD', 'ENJ/BTN', 'ENJ/BWP', 'ENJ/BYN', 'ENJ/BYR', 'ENJ/BZD', 'ENJ/CAD', 'ENJ/CDF', 'ENJ/CHF', 'ENJ/CLF', 'ENJ/CLP', 'ENJ/CNH', 'ENJ/CNY', 'ENJ/COP', 'ENJ/CRC', 'ENJ/CUC', 'ENJ/CVE', 'ENJ/CZK', 'ENJ/DJF', 'ENJ/DKK', 'ENJ/DOP', 'ENJ/DZD', 'ENJ/EGP', 'ENJ/ERN', 'ENJ/ETB', 'ENJ/EUR', 'ENJ/FJD', 'ENJ/FKP', 'ENJ/GBP', 'ENJ/GBX', 'ENJ/GEL', 'ENJ/GGP', 'ENJ/GHS', 'ENJ/GIP', 'ENJ/GMD', 'ENJ/GNF', 'ENJ/GTQ', 'ENJ/GYD', 'ENJ/HKD', 'ENJ/HNL', 'ENJ/HRK', 'ENJ/HTG', 'ENJ/HUF', 'ENJ/IDR', 'ENJ/ILS', 'ENJ/IMP', 'ENJ/INR', 'ENJ/IQD', 'ENJ/ISK', 'ENJ/JEP', 'ENJ/JMD', 'ENJ/JOD', 'ENJ/JPY', 'ENJ/KES', 'ENJ/KGS', 'ENJ/KHR', 'ENJ/KMF', 'ENJ/KRW', 'ENJ/KWD', 'ENJ/KYD', 'ENJ/KZT', 'ENJ/LAK', 'ENJ/LBP', 'ENJ/LKR', 'ENJ/LRD', 'ENJ/LSL', 'ENJ/LYD', 'ENJ/MAD', 'ENJ/MDL', 'ENJ/MGA', 'ENJ/MKD', 'ENJ/MMK', 'ENJ/MNT', 'ENJ/MOP', 'ENJ/MRO', 'ENJ/MTL', 'ENJ/MUR', 'ENJ/MVR', 'ENJ/MWK', 'ENJ/MXN', 'ENJ/MYR', 'ENJ/MZN', 'ENJ/NAD', 'ENJ/NGN', 'ENJ/NIO', 'ENJ/NOK', 'ENJ/NPR', 'ENJ/NZD', 'ENJ/OMR', 'ENJ/PAB', 'ENJ/PEN', 'ENJ/PGK', 'ENJ/PHP', 'ENJ/PKR', 'ENJ/PLN', 'ENJ/PYG', 'ENJ/QAR', 'ENJ/RON', 'ENJ/RSD', 'ENJ/RUB', 'ENJ/RWF', 'ENJ/SAR', 'ENJ/SBD', 'ENJ/SCR', 'ENJ/SEK', 'ENJ/SGD', 'ENJ/SHP', 'ENJ/SLL', 'ENJ/SOS', 'ENJ/SRD', 'ENJ/SSP', 'ENJ/STD', 'ENJ/SVC', 'ENJ/SZL', 'ENJ/THB', 'ENJ/TJS', 'ENJ/TMM', 'ENJ/TMT', 'ENJ/TND', 'ENJ/TOP', 'ENJ/TRY', 'ENJ/TTD', 'ENJ/TWD', 'ENJ/TZS', 'ENJ/UAH', 'ENJ/UGX', 'ENJ/USD', 'ENJ/UYU', 'ENJ/UZS', 'ENJ/VES', 'ENJ/VND', 'ENJ/VUV', 'ENJ/WST', 'ENJ/XAF', 'ENJ/XAG', 'ENJ/XAU', 'ENJ/XCD', 'ENJ/XDR', 'ENJ/XOF', 'ENJ/XPD', 'ENJ/XPF', 'ENJ/XPT', 'ENJ/YER', 'ENJ/ZAR', 'ENJ/ZMW', 'ENJ/ZWL', 'REPV2/AED', 'REPV2/AFN', 'REPV2/ALL', 'REPV2/AMD', 'REPV2/ANG', 'REPV2/AOA', 'REPV2/ARS', 'REPV2/AUD', 'REPV2/AWG', 'REPV2/AZN', 'REPV2/BAM', 'REPV2/BBD', 'REPV2/BDT', 'REPV2/BGN', 'REPV2/BHD', 'REPV2/BIF', 'REPV2/BMD', 'REPV2/BND', 'REPV2/BOB', 'REPV2/BRL', 'REPV2/BSD', 'REPV2/BTN', 'REPV2/BWP', 'REPV2/BYN', 'REPV2/BYR', 'REPV2/BZD', 'REPV2/CAD', 'REPV2/CDF', 'REPV2/CHF', 'REPV2/CLF', 'REPV2/CLP', 'REPV2/CNH', 'REPV2/CNY', 'REPV2/COP', 'REPV2/CRC', 'REPV2/CUC', 'REPV2/CVE', 'REPV2/CZK', 'REPV2/DJF', 'REPV2/DKK', 'REPV2/DOP', 'REPV2/DZD', 'REPV2/EGP', 'REPV2/ERN', 'REPV2/ETB', 'REPV2/EUR', 'REPV2/FJD', 'REPV2/FKP', 'REPV2/GBP', 'REPV2/GBX', 'REPV2/GEL', 'REPV2/GGP', 'REPV2/GHS', 'REPV2/GIP', 'REPV2/GMD', 'REPV2/GNF', 'REPV2/GTQ', 'REPV2/GYD', 'REPV2/HKD', 'REPV2/HNL', 'REPV2/HRK', 'REPV2/HTG', 'REPV2/HUF', 'REPV2/IDR', 'REPV2/ILS', 'REPV2/IMP', 'REPV2/INR', 'REPV2/IQD', 'REPV2/ISK', 'REPV2/JEP', 'REPV2/JMD', 'REPV2/JOD', 'REPV2/JPY', 'REPV2/KES', 'REPV2/KGS', 'REPV2/KHR', 'REPV2/KMF', 'REPV2/KRW', 'REPV2/KWD', 'REPV2/KYD', 'REPV2/KZT', 'REPV2/LAK', 'REPV2/LBP', 'REPV2/LKR', 'REPV2/LRD', 'REPV2/LSL', 'REPV2/LYD', 'REPV2/MAD', 'REPV2/MDL', 'REPV2/MGA', 'REPV2/MKD', 'REPV2/MMK', 'REPV2/MNT', 'REPV2/MOP', 'REPV2/MRO', 'REPV2/MTL', 'REPV2/MUR', 'REPV2/MVR', 'REPV2/MWK', 'REPV2/MXN', 'REPV2/MYR', 'REPV2/MZN', 'REPV2/NAD', 'REPV2/NGN', 'REPV2/NIO', 'REPV2/NOK', 'REPV2/NPR', 'REPV2/NZD', 'REPV2/OMR', 'REPV2/PAB', 'REPV2/PEN', 'REPV2/PGK', 'REPV2/PHP', 'REPV2/PKR', 'REPV2/PLN', 'REPV2/PYG', 'REPV2/QAR', 'REPV2/RON', 'REPV2/RSD', 'REPV2/RUB', 'REPV2/RWF', 'REPV2/SAR', 'REPV2/SBD', 'REPV2/SCR', 'REPV2/SEK', 'REPV2/SGD', 'REPV2/SHP', 'REPV2/SLL', 'REPV2/SOS', 'REPV2/SRD', 'REPV2/SSP', 'REPV2/STD', 'REPV2/SVC', 'REPV2/SZL', 'REPV2/THB', 'REPV2/TJS', 'REPV2/TMM', 'REPV2/TMT', 'REPV2/TND', 'REPV2/TOP', 'REPV2/TRY', 'REPV2/TTD', 'REPV2/TWD', 'REPV2/TZS', 'REPV2/UAH', 'REPV2/UGX', 'REPV2/USD', 'REPV2/UYU', 'REPV2/UZS', 'REPV2/VES', 'REPV2/VND', 'REPV2/VUV', 'REPV2/WST', 'REPV2/XAF', 'REPV2/XAG', 'REPV2/XAU', 'REPV2/XCD', 'REPV2/XDR', 'REPV2/XOF', 'REPV2/XPD', 'REPV2/XPF', 'REPV2/XPT', 'REPV2/YER', 'REPV2/ZAR', 'REPV2/ZMW', 'REPV2/ZWL', 'BAND/AED', 'BAND/AFN', 'BAND/ALL', 'BAND/AMD', 'BAND/ANG', 'BAND/AOA', 'BAND/ARS', 'BAND/AUD', 'BAND/AWG', 'BAND/AZN', 'BAND/BAM', 'BAND/BBD', 'BAND/BDT', 'BAND/BGN', 'BAND/BHD', 'BAND/BIF', 'BAND/BMD', 'BAND/BND', 'BAND/BOB', 'BAND/BRL', 'BAND/BSD', 'BAND/BTN', 'BAND/BWP', 'BAND/BYN', 'BAND/BYR', 'BAND/BZD', 'BAND/CAD', 'BAND/CDF', 'BAND/CHF', 'BAND/CLF', 'BAND/CLP', 'BAND/CNH', 'BAND/CNY', 'BAND/COP', 'BAND/CRC', 'BAND/CUC', 'BAND/CVE', 'BAND/CZK', 'BAND/DJF', 'BAND/DKK', 'BAND/DOP', 'BAND/DZD', 'BAND/EGP', 'BAND/ERN', 'BAND/ETB', 'BAND/EUR', 'BAND/FJD', 'BAND/FKP', 'BAND/GBP', 'BAND/GBX', 'BAND/GEL', 'BAND/GGP', 'BAND/GHS', 'BAND/GIP', 'BAND/GMD', 'BAND/GNF', 'BAND/GTQ', 'BAND/GYD', 'BAND/HKD', 'BAND/HNL', 'BAND/HRK', 'BAND/HTG', 'BAND/HUF', 'BAND/IDR', 'BAND/ILS', 'BAND/IMP', 'BAND/INR', 'BAND/IQD', 'BAND/ISK', 'BAND/JEP', 'BAND/JMD', 'BAND/JOD', 'BAND/JPY', 'BAND/KES', 'BAND/KGS', 'BAND/KHR', 'BAND/KMF', 'BAND/KRW', 'BAND/KWD', 'BAND/KYD', 'BAND/KZT', 'BAND/LAK', 'BAND/LBP', 'BAND/LKR', 'BAND/LRD', 'BAND/LSL', 'BAND/LYD', 'BAND/MAD', 'BAND/MDL', 'BAND/MGA', 'BAND/MKD', 'BAND/MMK', 'BAND/MNT', 'BAND/MOP', 'BAND/MRO', 'BAND/MTL', 'BAND/MUR', 'BAND/MVR', 'BAND/MWK', 'BAND/MXN', 'BAND/MYR', 'BAND/MZN', 'BAND/NAD', 'BAND/NGN', 'BAND/NIO', 'BAND/NOK', 'BAND/NPR', 'BAND/NZD', 'BAND/OMR', 'BAND/PAB', 'BAND/PEN', 'BAND/PGK', 'BAND/PHP', 'BAND/PKR', 'BAND/PLN', 'BAND/PYG', 'BAND/QAR', 'BAND/RON', 'BAND/RSD', 'BAND/RUB', 'BAND/RWF', 'BAND/SAR', 'BAND/SBD', 'BAND/SCR', 'BAND/SEK', 'BAND/SGD', 'BAND/SHP', 'BAND/SLL', 'BAND/SOS', 'BAND/SRD', 'BAND/SSP', 'BAND/STD', 'BAND/SVC', 'BAND/SZL', 'BAND/THB', 'BAND/TJS', 'BAND/TMM', 'BAND/TMT', 'BAND/TND', 'BAND/TOP', 'BAND/TRY', 'BAND/TTD', 'BAND/TWD', 'BAND/TZS', 'BAND/UAH', 'BAND/UGX', 'BAND/USD', 'BAND/UYU', 'BAND/UZS', 'BAND/VES', 'BAND/VND', 'BAND/VUV', 'BAND/WST', 'BAND/XAF', 'BAND/XAG', 'BAND/XAU', 'BAND/XCD', 'BAND/XDR', 'BAND/XOF', 'BAND/XPD', 'BAND/XPF', 'BAND/XPT', 'BAND/YER', 'BAND/ZAR', 'BAND/ZMW', 'BAND/ZWL', 'NMR/AED', 'NMR/AFN', 'NMR/ALL', 'NMR/AMD', 'NMR/ANG', 'NMR/AOA', 'NMR/ARS', 'NMR/AUD', 'NMR/AWG', 'NMR/AZN', 'NMR/BAM', 'NMR/BBD', 'NMR/BDT', 'NMR/BGN', 'NMR/BHD', 'NMR/BIF', 'NMR/BMD', 'NMR/BND', 'NMR/BOB', 'NMR/BRL', 'NMR/BSD', 'NMR/BTN', 'NMR/BWP', 'NMR/BYN', 'NMR/BYR', 'NMR/BZD', 'NMR/CAD', 'NMR/CDF', 'NMR/CHF', 'NMR/CLF', 'NMR/CLP', 'NMR/CNH', 'NMR/CNY', 'NMR/COP', 'NMR/CRC', 'NMR/CUC', 'NMR/CVE', 'NMR/CZK', 'NMR/DJF', 'NMR/DKK', 'NMR/DOP', 'NMR/DZD', 'NMR/EGP', 'NMR/ERN', 'NMR/ETB', 'NMR/EUR', 'NMR/FJD', 'NMR/FKP', 'NMR/GBP', 'NMR/GBX', 'NMR/GEL', 'NMR/GGP', 'NMR/GHS', 'NMR/GIP', 'NMR/GMD', 'NMR/GNF', 'NMR/GTQ', 'NMR/GYD', 'NMR/HKD', 'NMR/HNL', 'NMR/HRK', 'NMR/HTG', 'NMR/HUF', 'NMR/IDR', 'NMR/ILS', 'NMR/IMP', 'NMR/INR', 'NMR/IQD', 'NMR/ISK', 'NMR/JEP', 'NMR/JMD', 'NMR/JOD', 'NMR/JPY', 'NMR/KES', 'NMR/KGS', 'NMR/KHR', 'NMR/KMF', 'NMR/KRW', 'NMR/KWD', 'NMR/KYD', 'NMR/KZT', 'NMR/LAK', 'NMR/LBP', 'NMR/LKR', 'NMR/LRD', 'NMR/LSL', 'NMR/LYD', 'NMR/MAD', 'NMR/MDL', 'NMR/MGA', 'NMR/MKD', 'NMR/MMK', 'NMR/MNT', 'NMR/MOP', 'NMR/MRO', 'NMR/MTL', 'NMR/MUR', 'NMR/MVR', 'NMR/MWK', 'NMR/MXN', 'NMR/MYR', 'NMR/MZN', 'NMR/NAD', 'NMR/NGN', 'NMR/NIO', 'NMR/NOK', 'NMR/NPR', 'NMR/NZD', 'NMR/OMR', 'NMR/PAB', 'NMR/PEN', 'NMR/PGK', 'NMR/PHP', 'NMR/PKR', 'NMR/PLN', 'NMR/PYG', 'NMR/QAR', 'NMR/RON', 'NMR/RSD', 'NMR/RUB', 'NMR/RWF', 'NMR/SAR', 'NMR/SBD', 'NMR/SCR', 'NMR/SEK', 'NMR/SGD', 'NMR/SHP', 'NMR/SLL', 'NMR/SOS', 'NMR/SRD', 'NMR/SSP', 'NMR/STD', 'NMR/SVC', 'NMR/SZL', 'NMR/THB', 'NMR/TJS', 'NMR/TMM', 'NMR/TMT', 'NMR/TND', 'NMR/TOP', 'NMR/TRY', 'NMR/TTD', 'NMR/TWD', 'NMR/TZS', 'NMR/UAH', 'NMR/UGX', 'NMR/USD', 'NMR/UYU', 'NMR/UZS', 'NMR/VES', 'NMR/VND', 'NMR/VUV', 'NMR/WST', 'NMR/XAF', 'NMR/XAG', 'NMR/XAU', 'NMR/XCD', 'NMR/XDR', 'NMR/XOF', 'NMR/XPD', 'NMR/XPF', 'NMR/XPT', 'NMR/YER', 'NMR/ZAR', 'NMR/ZMW', 'NMR/ZWL', 'CELO/AED', 'CELO/AFN', 'CELO/ALL', 'CELO/AMD', 'CELO/ANG', 'CELO/AOA', 'CELO/ARS', 'CELO/AUD', 'CELO/AWG', 'CELO/AZN', 'CELO/BAM', 'CELO/BBD', 'CELO/BDT', 'CELO/BGN', 'CELO/BHD', 'CELO/BIF', 'CELO/BMD', 'CELO/BND', 'CELO/BOB', 'CELO/BRL', 'CELO/BSD', 'CELO/BTN', 'CELO/BWP', 'CELO/BYN', 'CELO/BYR', 'CELO/BZD', 'CELO/CAD', 'CELO/CDF', 'CELO/CHF', 'CELO/CLF', 'CELO/CLP', 'CELO/CNH', 'CELO/CNY', 'CELO/COP', 'CELO/CRC', 'CELO/CUC', 'CELO/CVE', 'CELO/CZK', 'CELO/DJF', 'CELO/DKK', 'CELO/DOP', 'CELO/DZD', 'CELO/EGP', 'CELO/ERN', 'CELO/ETB', 'CELO/EUR', 'CELO/FJD', 'CELO/FKP', 'CELO/GBP', 'CELO/GBX', 'CELO/GEL', 'CELO/GGP', 'CELO/GHS', 'CELO/GIP', 'CELO/GMD', 'CELO/GNF', 'CELO/GTQ', 'CELO/GYD', 'CELO/HKD', 'CELO/HNL', 'CELO/HRK', 'CELO/HTG', 'CELO/HUF', 'CELO/IDR', 'CELO/ILS', 'CELO/IMP', 'CELO/INR', 'CELO/IQD', 'CELO/ISK', 'CELO/JEP', 'CELO/JMD', 'CELO/JOD', 'CELO/JPY', 'CELO/KES', 'CELO/KGS', 'CELO/KHR', 'CELO/KMF', 'CELO/KRW', 'CELO/KWD', 'CELO/KYD', 'CELO/KZT', 'CELO/LAK', 'CELO/LBP', 'CELO/LKR', 'CELO/LRD', 'CELO/LSL', 'CELO/LYD', 'CELO/MAD', 'CELO/MDL', 'CELO/MGA', 'CELO/MKD', 'CELO/MMK', 'CELO/MNT', 'CELO/MOP', 'CELO/MRO', 'CELO/MTL', 'CELO/MUR', 'CELO/MVR', 'CELO/MWK', 'CELO/MXN', 'CELO/MYR', 'CELO/MZN', 'CELO/NAD', 'CELO/NGN', 'CELO/NIO', 'CELO/NOK', 'CELO/NPR', 'CELO/NZD', 'CELO/OMR', 'CELO/PAB', 'CELO/PEN', 'CELO/PGK', 'CELO/PHP', 'CELO/PKR', 'CELO/PLN', 'CELO/PYG', 'CELO/QAR', 'CELO/RON', 'CELO/RSD', 'CELO/RUB', 'CELO/RWF', 'CELO/SAR', 'CELO/SBD', 'CELO/SCR', 'CELO/SEK', 'CELO/SGD', 'CELO/SHP', 'CELO/SLL', 'CELO/SOS', 'CELO/SRD', 'CELO/SSP', 'CELO/STD', 'CELO/SVC', 'CELO/SZL', 'CELO/THB', 'CELO/TJS', 'CELO/TMM', 'CELO/TMT', 'CELO/TND', 'CELO/TOP', 'CELO/TRY', 'CELO/TTD', 'CELO/TWD', 'CELO/TZS', 'CELO/UAH', 'CELO/UGX', 'CELO/USD', 'CELO/UYU', 'CELO/UZS', 'CELO/VES', 'CELO/VND', 'CELO/VUV', 'CELO/WST', 'CELO/XAF', 'CELO/XAG', 'CELO/XAU', 'CELO/XCD', 'CELO/XDR', 'CELO/XOF', 'CELO/XPD', 'CELO/XPF', 'CELO/XPT', 'CELO/YER', 'CELO/ZAR', 'CELO/ZMW', 'CELO/ZWL', 'UMA/AED', 'UMA/AFN', 'UMA/ALL', 'UMA/AMD', 'UMA/ANG', 'UMA/AOA', 'UMA/ARS', 'UMA/AUD', 'UMA/AWG', 'UMA/AZN', 'UMA/BAM', 'UMA/BBD', 'UMA/BDT', 'UMA/BGN', 'UMA/BHD', 'UMA/BIF', 'UMA/BMD', 'UMA/BND', 'UMA/BOB', 'UMA/BRL', 'UMA/BSD', 'UMA/BTN', 'UMA/BWP', 'UMA/BYN', 'UMA/BYR', 'UMA/BZD', 'UMA/CAD', 'UMA/CDF', 'UMA/CHF', 'UMA/CLF', 'UMA/CLP', 'UMA/CNH', 'UMA/CNY', 'UMA/COP', 'UMA/CRC', 'UMA/CUC', 'UMA/CVE', 'UMA/CZK', 'UMA/DJF', 'UMA/DKK', 'UMA/DOP', 'UMA/DZD', 'UMA/EGP', 'UMA/ERN', 'UMA/ETB', 'UMA/EUR', 'UMA/FJD', 'UMA/FKP', 'UMA/GBP', 'UMA/GBX', 'UMA/GEL', 'UMA/GGP', 'UMA/GHS', 'UMA/GIP', 'UMA/GMD', 'UMA/GNF', 'UMA/GTQ', 'UMA/GYD', 'UMA/HKD', 'UMA/HNL', 'UMA/HRK', 'UMA/HTG', 'UMA/HUF', 'UMA/IDR', 'UMA/ILS', 'UMA/IMP', 'UMA/INR', 'UMA/IQD', 'UMA/ISK', 'UMA/JEP', 'UMA/JMD', 'UMA/JOD', 'UMA/JPY', 'UMA/KES', 'UMA/KGS', 'UMA/KHR', 'UMA/KMF', 'UMA/KRW', 'UMA/KWD', 'UMA/KYD', 'UMA/KZT', 'UMA/LAK', 'UMA/LBP', 'UMA/LKR', 'UMA/LRD', 'UMA/LSL', 'UMA/LYD', 'UMA/MAD', 'UMA/MDL', 'UMA/MGA', 'UMA/MKD', 'UMA/MMK', 'UMA/MNT', 'UMA/MOP', 'UMA/MRO', 'UMA/MTL', 'UMA/MUR', 'UMA/MVR', 'UMA/MWK', 'UMA/MXN', 'UMA/MYR', 'UMA/MZN', 'UMA/NAD', 'UMA/NGN', 'UMA/NIO', 'UMA/NOK', 'UMA/NPR', 'UMA/NZD', 'UMA/OMR', 'UMA/PAB', 'UMA/PEN', 'UMA/PGK', 'UMA/PHP', 'UMA/PKR', 'UMA/PLN', 'UMA/PYG', 'UMA/QAR', 'UMA/RON', 'UMA/RSD', 'UMA/RUB', 'UMA/RWF', 'UMA/SAR', 'UMA/SBD', 'UMA/SCR', 'UMA/SEK', 'UMA/SGD', 'UMA/SHP', 'UMA/SLL', 'UMA/SOS', 'UMA/SRD', 'UMA/SSP', 'UMA/STD', 'UMA/SVC', 'UMA/SZL', 'UMA/THB', 'UMA/TJS', 'UMA/TMM', 'UMA/TMT', 'UMA/TND', 'UMA/TOP', 'UMA/TRY', 'UMA/TTD', 'UMA/TWD', 'UMA/TZS', 'UMA/UAH', 'UMA/UGX', 'UMA/USD', 'UMA/UYU', 'UMA/UZS', 'UMA/VES', 'UMA/VND', 'UMA/VUV', 'UMA/WST', 'UMA/XAF', 'UMA/XAG', 'UMA/XAU', 'UMA/XCD', 'UMA/XDR', 'UMA/XOF', 'UMA/XPD', 'UMA/XPF', 'UMA/XPT', 'UMA/YER', 'UMA/ZAR', 'UMA/ZMW', 'UMA/ZWL', 'LRC/AED', 'LRC/AFN', 'LRC/ALL', 'LRC/AMD', 'LRC/ANG', 'LRC/AOA', 'LRC/ARS', 'LRC/AUD', 'LRC/AWG', 'LRC/AZN', 'LRC/BAM', 'LRC/BBD', 'LRC/BDT', 'LRC/BGN', 'LRC/BHD', 'LRC/BIF', 'LRC/BMD', 'LRC/BND', 'LRC/BOB', 'LRC/BRL', 'LRC/BSD', 'LRC/BTN', 'LRC/BWP', 'LRC/BYN', 'LRC/BYR', 'LRC/BZD', 'LRC/CAD', 'LRC/CDF', 'LRC/CHF', 'LRC/CLF', 'LRC/CLP', 'LRC/CNH', 'LRC/CNY', 'LRC/COP', 'LRC/CRC', 'LRC/CUC', 'LRC/CVE', 'LRC/CZK', 'LRC/DJF', 'LRC/DKK', 'LRC/DOP', 'LRC/DZD', 'LRC/EGP', 'LRC/ERN', 'LRC/ETB', 'LRC/EUR', 'LRC/FJD', 'LRC/FKP', 'LRC/GBP', 'LRC/GBX', 'LRC/GEL', 'LRC/GGP', 'LRC/GHS', 'LRC/GIP', 'LRC/GMD', 'LRC/GNF', 'LRC/GTQ', 'LRC/GYD', 'LRC/HKD', 'LRC/HNL', 'LRC/HRK', 'LRC/HTG', 'LRC/HUF', 'LRC/IDR', 'LRC/ILS', 'LRC/IMP', 'LRC/INR', 'LRC/IQD', 'LRC/ISK', 'LRC/JEP', 'LRC/JMD', 'LRC/JOD', 'LRC/JPY', 'LRC/KES', 'LRC/KGS', 'LRC/KHR', 'LRC/KMF', 'LRC/KRW', 'LRC/KWD', 'LRC/KYD', 'LRC/KZT', 'LRC/LAK', 'LRC/LBP', 'LRC/LKR', 'LRC/LRD', 'LRC/LSL', 'LRC/LYD', 'LRC/MAD', 'LRC/MDL', 'LRC/MGA', 'LRC/MKD', 'LRC/MMK', 'LRC/MNT', 'LRC/MOP', 'LRC/MRO', 'LRC/MTL', 'LRC/MUR', 'LRC/MVR', 'LRC/MWK', 'LRC/MXN', 'LRC/MYR', 'LRC/MZN', 'LRC/NAD', 'LRC/NGN', 'LRC/NIO', 'LRC/NOK', 'LRC/NPR', 'LRC/NZD', 'LRC/OMR', 'LRC/PAB', 'LRC/PEN', 'LRC/PGK', 'LRC/PHP', 'LRC/PKR', 'LRC/PLN', 'LRC/PYG', 'LRC/QAR', 'LRC/RON', 'LRC/RSD', 'LRC/RUB', 'LRC/RWF', 'LRC/SAR', 'LRC/SBD', 'LRC/SCR', 'LRC/SEK', 'LRC/SGD', 'LRC/SHP', 'LRC/SLL', 'LRC/SOS', 'LRC/SRD', 'LRC/SSP', 'LRC/STD', 'LRC/SVC', 'LRC/SZL', 'LRC/THB', 'LRC/TJS', 'LRC/TMM', 'LRC/TMT', 'LRC/TND', 'LRC/TOP', 'LRC/TRY', 'LRC/TTD', 'LRC/TWD', 'LRC/TZS', 'LRC/UAH', 'LRC/UGX', 'LRC/USD', 'LRC/UYU', 'LRC/UZS', 'LRC/VES', 'LRC/VND', 'LRC/VUV', 'LRC/WST', 'LRC/XAF', 'LRC/XAG', 'LRC/XAU', 'LRC/XCD', 'LRC/XDR', 'LRC/XOF', 'LRC/XPD', 'LRC/XPF', 'LRC/XPT', 'LRC/YER', 'LRC/ZAR', 'LRC/ZMW', 'LRC/ZWL', 'YFI/AED', 'YFI/AFN', 'YFI/ALL', 'YFI/AMD', 'YFI/ANG', 'YFI/AOA', 'YFI/ARS', 'YFI/AUD', 'YFI/AWG', 'YFI/AZN', 'YFI/BAM', 'YFI/BBD', 'YFI/BDT', 'YFI/BGN', 'YFI/BHD', 'YFI/BIF', 'YFI/BMD', 'YFI/BND', 'YFI/BOB', 'YFI/BRL', 'YFI/BSD', 'YFI/BTN', 'YFI/BWP', 'YFI/BYN', 'YFI/BYR', 'YFI/BZD', 'YFI/CAD', 'YFI/CDF', 'YFI/CHF', 'YFI/CLF', 'YFI/CLP', 'YFI/CNH', 'YFI/CNY', 'YFI/COP', 'YFI/CRC', 'YFI/CUC', 'YFI/CVE', 'YFI/CZK', 'YFI/DJF', 'YFI/DKK', 'YFI/DOP', 'YFI/DZD', 'YFI/EGP', 'YFI/ERN', 'YFI/ETB', 'YFI/EUR', 'YFI/FJD', 'YFI/FKP', 'YFI/GBP', 'YFI/GBX', 'YFI/GEL', 'YFI/GGP', 'YFI/GHS', 'YFI/GIP', 'YFI/GMD', 'YFI/GNF', 'YFI/GTQ', 'YFI/GYD', 'YFI/HKD', 'YFI/HNL', 'YFI/HRK', 'YFI/HTG', 'YFI/HUF', 'YFI/IDR', 'YFI/ILS', 'YFI/IMP', 'YFI/INR', 'YFI/IQD', 'YFI/ISK', 'YFI/JEP', 'YFI/JMD', 'YFI/JOD', 'YFI/JPY', 'YFI/KES', 'YFI/KGS', 'YFI/KHR', 'YFI/KMF', 'YFI/KRW', 'YFI/KWD', 'YFI/KYD', 'YFI/KZT', 'YFI/LAK', 'YFI/LBP', 'YFI/LKR', 'YFI/LRD', 'YFI/LSL', 'YFI/LYD', 'YFI/MAD', 'YFI/MDL', 'YFI/MGA', 'YFI/MKD', 'YFI/MMK', 'YFI/MNT', 'YFI/MOP', 'YFI/MRO', 'YFI/MTL', 'YFI/MUR', 'YFI/MVR', 'YFI/MWK', 'YFI/MXN', 'YFI/MYR', 'YFI/MZN', 'YFI/NAD', 'YFI/NGN', 'YFI/NIO', 'YFI/NOK', 'YFI/NPR', 'YFI/NZD', 'YFI/OMR', 'YFI/PAB', 'YFI/PEN', 'YFI/PGK', 'YFI/PHP', 'YFI/PKR', 'YFI/PLN', 'YFI/PYG', 'YFI/QAR', 'YFI/RON', 'YFI/RSD', 'YFI/RUB', 'YFI/RWF', 'YFI/SAR', 'YFI/SBD', 'YFI/SCR', 'YFI/SEK', 'YFI/SGD', 'YFI/SHP', 'YFI/SLL', 'YFI/SOS', 'YFI/SRD', 'YFI/SSP', 'YFI/STD', 'YFI/SVC', 'YFI/SZL', 'YFI/THB', 'YFI/TJS', 'YFI/TMM', 'YFI/TMT', 'YFI/TND', 'YFI/TOP', 'YFI/TRY', 'YFI/TTD', 'YFI/TWD', 'YFI/TZS', 'YFI/UAH', 'YFI/UGX', 'YFI/USD', 'YFI/UYU', 'YFI/UZS', 'YFI/VES', 'YFI/VND', 'YFI/VUV', 'YFI/WST', 'YFI/XAF', 'YFI/XAG', 'YFI/XAU', 'YFI/XCD', 'YFI/XDR', 'YFI/XOF', 'YFI/XPD', 'YFI/XPF', 'YFI/XPT', 'YFI/YER', 'YFI/ZAR', 'YFI/ZMW', 'YFI/ZWL', 'UNI/AED', 'UNI/AFN', 'UNI/ALL', 'UNI/AMD', 'UNI/ANG', 'UNI/AOA', 'UNI/ARS', 'UNI/AUD', 'UNI/AWG', 'UNI/AZN', 'UNI/BAM', 'UNI/BBD', 'UNI/BDT', 'UNI/BGN', 'UNI/BHD', 'UNI/BIF', 'UNI/BMD', 'UNI/BND', 'UNI/BOB', 'UNI/BRL', 'UNI/BSD', 'UNI/BTN', 'UNI/BWP', 'UNI/BYN', 'UNI/BYR', 'UNI/BZD', 'UNI/CAD', 'UNI/CDF', 'UNI/CHF', 'UNI/CLF', 'UNI/CLP', 'UNI/CNH', 'UNI/CNY', 'UNI/COP', 'UNI/CRC', 'UNI/CUC', 'UNI/CVE', 'UNI/CZK', 'UNI/DJF', 'UNI/DKK', 'UNI/DOP', 'UNI/DZD', 'UNI/EGP', 'UNI/ERN', 'UNI/ETB', 'UNI/EUR', 'UNI/FJD', 'UNI/FKP', 'UNI/GBP', 'UNI/GBX', 'UNI/GEL', 'UNI/GGP', 'UNI/GHS', 'UNI/GIP', 'UNI/GMD', 'UNI/GNF', 'UNI/GTQ', 'UNI/GYD', 'UNI/HKD', 'UNI/HNL', 'UNI/HRK', 'UNI/HTG', 'UNI/HUF', 'UNI/IDR', 'UNI/ILS', 'UNI/IMP', 'UNI/INR', 'UNI/IQD', 'UNI/ISK', 'UNI/JEP', 'UNI/JMD', 'UNI/JOD', 'UNI/JPY', 'UNI/KES', 'UNI/KGS', 'UNI/KHR', 'UNI/KMF', 'UNI/KRW', 'UNI/KWD', 'UNI/KYD', 'UNI/KZT', 'UNI/LAK', 'UNI/LBP', 'UNI/LKR', 'UNI/LRD', 'UNI/LSL', 'UNI/LYD', 'UNI/MAD', 'UNI/MDL', 'UNI/MGA', 'UNI/MKD', 'UNI/MMK', 'UNI/MNT', 'UNI/MOP', 'UNI/MRO', 'UNI/MTL', 'UNI/MUR', 'UNI/MVR', 'UNI/MWK', 'UNI/MXN', 'UNI/MYR', 'UNI/MZN', 'UNI/NAD', 'UNI/NGN', 'UNI/NIO', 'UNI/NOK', 'UNI/NPR', 'UNI/NZD', 'UNI/OMR', 'UNI/PAB', 'UNI/PEN', 'UNI/PGK', 'UNI/PHP', 'UNI/PKR', 'UNI/PLN', 'UNI/PYG', 'UNI/QAR', 'UNI/RON', 'UNI/RSD', 'UNI/RUB', 'UNI/RWF', 'UNI/SAR', 'UNI/SBD', 'UNI/SCR', 'UNI/SEK', 'UNI/SGD', 'UNI/SHP', 'UNI/SLL', 'UNI/SOS', 'UNI/SRD', 'UNI/SSP', 'UNI/STD', 'UNI/SVC', 'UNI/SZL', 'UNI/THB', 'UNI/TJS', 'UNI/TMM', 'UNI/TMT', 'UNI/TND', 'UNI/TOP', 'UNI/TRY', 'UNI/TTD', 'UNI/TWD', 'UNI/TZS', 'UNI/UAH', 'UNI/UGX', 'UNI/USD', 'UNI/UYU', 'UNI/UZS', 'UNI/VES', 'UNI/VND', 'UNI/VUV', 'UNI/WST', 'UNI/XAF', 'UNI/XAG', 'UNI/XAU', 'UNI/XCD', 'UNI/XDR', 'UNI/XOF', 'UNI/XPD', 'UNI/XPF', 'UNI/XPT', 'UNI/YER', 'UNI/ZAR', 'UNI/ZMW', 'UNI/ZWL', 'BAL/AED', 'BAL/AFN', 'BAL/ALL', 'BAL/AMD', 'BAL/ANG', 'BAL/AOA', 'BAL/ARS', 'BAL/AUD', 'BAL/AWG', 'BAL/AZN', 'BAL/BAM', 'BAL/BBD', 'BAL/BDT', 'BAL/BGN', 'BAL/BHD', 'BAL/BIF', 'BAL/BMD', 'BAL/BND', 'BAL/BOB', 'BAL/BRL', 'BAL/BSD', 'BAL/BTN', 'BAL/BWP', 'BAL/BYN', 'BAL/BYR', 'BAL/BZD', 'BAL/CAD', 'BAL/CDF', 'BAL/CHF', 'BAL/CLF', 'BAL/CLP', 'BAL/CNH', 'BAL/CNY', 'BAL/COP', 'BAL/CRC', 'BAL/CUC', 'BAL/CVE', 'BAL/CZK', 'BAL/DJF', 'BAL/DKK', 'BAL/DOP', 'BAL/DZD', 'BAL/EGP', 'BAL/ERN', 'BAL/ETB', 'BAL/EUR', 'BAL/FJD', 'BAL/FKP', 'BAL/GBP', 'BAL/GBX', 'BAL/GEL', 'BAL/GGP', 'BAL/GHS', 'BAL/GIP', 'BAL/GMD', 'BAL/GNF', 'BAL/GTQ', 'BAL/GYD', 'BAL/HKD', 'BAL/HNL', 'BAL/HRK', 'BAL/HTG', 'BAL/HUF', 'BAL/IDR', 'BAL/ILS', 'BAL/IMP', 'BAL/INR', 'BAL/IQD', 'BAL/ISK', 'BAL/JEP', 'BAL/JMD', 'BAL/JOD', 'BAL/JPY', 'BAL/KES', 'BAL/KGS', 'BAL/KHR', 'BAL/KMF', 'BAL/KRW', 'BAL/KWD', 'BAL/KYD', 'BAL/KZT', 'BAL/LAK', 'BAL/LBP', 'BAL/LKR', 'BAL/LRD', 'BAL/LSL', 'BAL/LYD', 'BAL/MAD', 'BAL/MDL', 'BAL/MGA', 'BAL/MKD', 'BAL/MMK', 'BAL/MNT', 'BAL/MOP', 'BAL/MRO', 'BAL/MTL', 'BAL/MUR', 'BAL/MVR', 'BAL/MWK', 'BAL/MXN', 'BAL/MYR', 'BAL/MZN', 'BAL/NAD', 'BAL/NGN', 'BAL/NIO', 'BAL/NOK', 'BAL/NPR', 'BAL/NZD', 'BAL/OMR', 'BAL/PAB', 'BAL/PEN', 'BAL/PGK', 'BAL/PHP', 'BAL/PKR', 'BAL/PLN', 'BAL/PYG', 'BAL/QAR', 'BAL/RON', 'BAL/RSD', 'BAL/RUB', 'BAL/RWF', 'BAL/SAR', 'BAL/SBD', 'BAL/SCR', 'BAL/SEK', 'BAL/SGD', 'BAL/SHP', 'BAL/SLL', 'BAL/SOS', 'BAL/SRD', 'BAL/SSP', 'BAL/STD', 'BAL/SVC', 'BAL/SZL', 'BAL/THB', 'BAL/TJS', 'BAL/TMM', 'BAL/TMT', 'BAL/TND', 'BAL/TOP', 'BAL/TRY', 'BAL/TTD', 'BAL/TWD', 'BAL/TZS', 'BAL/UAH', 'BAL/UGX', 'BAL/USD', 'BAL/UYU', 'BAL/UZS', 'BAL/VES', 'BAL/VND', 'BAL/VUV', 'BAL/WST', 'BAL/XAF', 'BAL/XAG', 'BAL/XAU', 'BAL/XCD', 'BAL/XDR', 'BAL/XOF', 'BAL/XPD', 'BAL/XPF', 'BAL/XPT', 'BAL/YER', 'BAL/ZAR', 'BAL/ZMW', 'BAL/ZWL', 'REN/AED', 'REN/AFN', 'REN/ALL', 'REN/AMD', 'REN/ANG', 'REN/AOA', 'REN/ARS', 'REN/AUD', 'REN/AWG', 'REN/AZN', 'REN/BAM', 'REN/BBD', 'REN/BDT', 'REN/BGN', 'REN/BHD', 'REN/BIF', 'REN/BMD', 'REN/BND', 'REN/BOB', 'REN/BRL', 'REN/BSD', 'REN/BTN', 'REN/BWP', 'REN/BYN', 'REN/BYR', 'REN/BZD', 'REN/CAD', 'REN/CDF', 'REN/CHF', 'REN/CLF', 'REN/CLP', 'REN/CNH', 'REN/CNY', 'REN/COP', 'REN/CRC', 'REN/CUC', 'REN/CVE', 'REN/CZK', 'REN/DJF', 'REN/DKK', 'REN/DOP', 'REN/DZD', 'REN/EGP', 'REN/ERN', 'REN/ETB', 'REN/EUR', 'REN/FJD', 'REN/FKP', 'REN/GBP', 'REN/GBX', 'REN/GEL', 'REN/GGP', 'REN/GHS', 'REN/GIP', 'REN/GMD', 'REN/GNF', 'REN/GTQ', 'REN/GYD', 'REN/HKD', 'REN/HNL', 'REN/HRK', 'REN/HTG', 'REN/HUF', 'REN/IDR', 'REN/ILS', 'REN/IMP', 'REN/INR', 'REN/IQD', 'REN/ISK', 'REN/JEP', 'REN/JMD', 'REN/JOD', 'REN/JPY', 'REN/KES', 'REN/KGS', 'REN/KHR', 'REN/KMF', 'REN/KRW', 'REN/KWD', 'REN/KYD', 'REN/KZT', 'REN/LAK', 'REN/LBP', 'REN/LKR', 'REN/LRD', 'REN/LSL', 'REN/LYD', 'REN/MAD', 'REN/MDL', 'REN/MGA', 'REN/MKD', 'REN/MMK', 'REN/MNT', 'REN/MOP', 'REN/MRO', 'REN/MTL', 'REN/MUR', 'REN/MVR', 'REN/MWK', 'REN/MXN', 'REN/MYR', 'REN/MZN', 'REN/NAD', 'REN/NGN', 'REN/NIO', 'REN/NOK', 'REN/NPR', 'REN/NZD', 'REN/OMR', 'REN/PAB', 'REN/PEN', 'REN/PGK', 'REN/PHP', 'REN/PKR', 'REN/PLN', 'REN/PYG', 'REN/QAR', 'REN/RON', 'REN/RSD', 'REN/RUB', 'REN/RWF', 'REN/SAR', 'REN/SBD', 'REN/SCR', 'REN/SEK', 'REN/SGD', 'REN/SHP', 'REN/SLL', 'REN/SOS', 'REN/SRD', 'REN/SSP', 'REN/STD', 'REN/SVC', 'REN/SZL', 'REN/THB', 'REN/TJS', 'REN/TMM', 'REN/TMT', 'REN/TND', 'REN/TOP', 'REN/TRY', 'REN/TTD', 'REN/TWD', 'REN/TZS', 'REN/UAH', 'REN/UGX', 'REN/USD', 'REN/UYU', 'REN/UZS', 'REN/VES', 'REN/VND', 'REN/VUV', 'REN/WST', 'REN/XAF', 'REN/XAG', 'REN/XAU', 'REN/XCD', 'REN/XDR', 'REN/XOF', 'REN/XPD', 'REN/XPF', 'REN/XPT', 'REN/YER', 'REN/ZAR', 'REN/ZMW', 'REN/ZWL', 'WBTC/AED', 'WBTC/AFN', 'WBTC/ALL', 'WBTC/AMD', 'WBTC/ANG', 'WBTC/AOA', 'WBTC/ARS', 'WBTC/AUD', 'WBTC/AWG', 'WBTC/AZN', 'WBTC/BAM', 'WBTC/BBD', 'WBTC/BDT', 'WBTC/BGN', 'WBTC/BHD', 'WBTC/BIF', 'WBTC/BMD', 'WBTC/BND', 'WBTC/BOB', 'WBTC/BRL', 'WBTC/BSD', 'WBTC/BTN', 'WBTC/BWP', 'WBTC/BYN', 'WBTC/BYR', 'WBTC/BZD', 'WBTC/CAD', 'WBTC/CDF', 'WBTC/CHF', 'WBTC/CLF', 'WBTC/CLP', 'WBTC/CNH', 'WBTC/CNY', 'WBTC/COP', 'WBTC/CRC', 'WBTC/CUC', 'WBTC/CVE', 'WBTC/CZK', 'WBTC/DJF', 'WBTC/DKK', 'WBTC/DOP', 'WBTC/DZD', 'WBTC/EGP', 'WBTC/ERN', 'WBTC/ETB', 'WBTC/EUR', 'WBTC/FJD', 'WBTC/FKP', 'WBTC/GBP', 'WBTC/GBX', 'WBTC/GEL', 'WBTC/GGP', 'WBTC/GHS', 'WBTC/GIP', 'WBTC/GMD', 'WBTC/GNF', 'WBTC/GTQ', 'WBTC/GYD', 'WBTC/HKD', 'WBTC/HNL', 'WBTC/HRK', 'WBTC/HTG', 'WBTC/HUF', 'WBTC/IDR', 'WBTC/ILS', 'WBTC/IMP', 'WBTC/INR', 'WBTC/IQD', 'WBTC/ISK', 'WBTC/JEP', 'WBTC/JMD', 'WBTC/JOD', 'WBTC/JPY', 'WBTC/KES', 'WBTC/KGS', 'WBTC/KHR', 'WBTC/KMF', 'WBTC/KRW', 'WBTC/KWD', 'WBTC/KYD', 'WBTC/KZT', 'WBTC/LAK', 'WBTC/LBP', 'WBTC/LKR', 'WBTC/LRD', 'WBTC/LSL', 'WBTC/LYD', 'WBTC/MAD', 'WBTC/MDL', 'WBTC/MGA', 'WBTC/MKD', 'WBTC/MMK', 'WBTC/MNT', 'WBTC/MOP', 'WBTC/MRO', 'WBTC/MTL', 'WBTC/MUR', 'WBTC/MVR', 'WBTC/MWK', 'WBTC/MXN', 'WBTC/MYR', 'WBTC/MZN', 'WBTC/NAD', 'WBTC/NGN', 'WBTC/NIO', 'WBTC/NOK', 'WBTC/NPR', 'WBTC/NZD', 'WBTC/OMR', 'WBTC/PAB', 'WBTC/PEN', 'WBTC/PGK', 'WBTC/PHP', 'WBTC/PKR', 'WBTC/PLN', 'WBTC/PYG', 'WBTC/QAR', 'WBTC/RON', 'WBTC/RSD', 'WBTC/RUB', 'WBTC/RWF', 'WBTC/SAR', 'WBTC/SBD', 'WBTC/SCR', 'WBTC/SEK', 'WBTC/SGD', 'WBTC/SHP', 'WBTC/SLL', 'WBTC/SOS', 'WBTC/SRD', 'WBTC/SSP', 'WBTC/STD', 'WBTC/SVC', 'WBTC/SZL', 'WBTC/THB', 'WBTC/TJS', 'WBTC/TMM', 'WBTC/TMT', 'WBTC/TND', 'WBTC/TOP', 'WBTC/TRY', 'WBTC/TTD', 'WBTC/TWD', 'WBTC/TZS', 'WBTC/UAH', 'WBTC/UGX', 'WBTC/USD', 'WBTC/UYU', 'WBTC/UZS', 'WBTC/VES', 'WBTC/VND', 'WBTC/VUV', 'WBTC/WST', 'WBTC/XAF', 'WBTC/XAG', 'WBTC/XAU', 'WBTC/XCD', 'WBTC/XDR', 'WBTC/XOF', 'WBTC/XPD', 'WBTC/XPF', 'WBTC/XPT', 'WBTC/YER', 'WBTC/ZAR', 'WBTC/ZMW', 'WBTC/ZWL', 'NU/AED', 'NU/AFN', 'NU/ALL', 'NU/AMD', 'NU/ANG', 'NU/AOA', 'NU/ARS', 'NU/AUD', 'NU/AWG', 'NU/AZN', 'NU/BAM', 'NU/BBD', 'NU/BDT', 'NU/BGN', 'NU/BHD', 'NU/BIF', 'NU/BMD', 'NU/BND', 'NU/BOB', 'NU/BRL', 'NU/BSD', 'NU/BTN', 'NU/BWP', 'NU/BYN', 'NU/BYR', 'NU/BZD', 'NU/CAD', 'NU/CDF', 'NU/CHF', 'NU/CLF', 'NU/CLP', 'NU/CNH', 'NU/CNY', 'NU/COP', 'NU/CRC', 'NU/CUC', 'NU/CVE', 'NU/CZK', 'NU/DJF', 'NU/DKK', 'NU/DOP', 'NU/DZD', 'NU/EGP', 'NU/ERN', 'NU/ETB', 'NU/EUR', 'NU/FJD', 'NU/FKP', 'NU/GBP', 'NU/GBX', 'NU/GEL', 'NU/GGP', 'NU/GHS', 'NU/GIP', 'NU/GMD', 'NU/GNF', 'NU/GTQ', 'NU/GYD', 'NU/HKD', 'NU/HNL', 'NU/HRK', 'NU/HTG', 'NU/HUF', 'NU/IDR', 'NU/ILS', 'NU/IMP', 'NU/INR', 'NU/IQD', 'NU/ISK', 'NU/JEP', 'NU/JMD', 'NU/JOD', 'NU/JPY', 'NU/KES', 'NU/KGS', 'NU/KHR', 'NU/KMF', 'NU/KRW', 'NU/KWD', 'NU/KYD', 'NU/KZT', 'NU/LAK', 'NU/LBP', 'NU/LKR', 'NU/LRD', 'NU/LSL', 'NU/LYD', 'NU/MAD', 'NU/MDL', 'NU/MGA', 'NU/MKD', 'NU/MMK', 'NU/MNT', 'NU/MOP', 'NU/MRO', 'NU/MTL', 'NU/MUR', 'NU/MVR', 'NU/MWK', 'NU/MXN', 'NU/MYR', 'NU/MZN', 'NU/NAD', 'NU/NGN', 'NU/NIO', 'NU/NOK', 'NU/NPR', 'NU/NZD', 'NU/OMR', 'NU/PAB', 'NU/PEN', 'NU/PGK', 'NU/PHP', 'NU/PKR', 'NU/PLN', 'NU/PYG', 'NU/QAR', 'NU/RON', 'NU/RSD', 'NU/RUB', 'NU/RWF', 'NU/SAR', 'NU/SBD', 'NU/SCR', 'NU/SEK', 'NU/SGD', 'NU/SHP', 'NU/SLL', 'NU/SOS', 'NU/SRD', 'NU/SSP', 'NU/STD', 'NU/SVC', 'NU/SZL', 'NU/THB', 'NU/TJS', 'NU/TMM', 'NU/TMT', 'NU/TND', 'NU/TOP', 'NU/TRY', 'NU/TTD', 'NU/TWD', 'NU/TZS', 'NU/UAH', 'NU/UGX', 'NU/USD', 'NU/UYU', 'NU/UZS', 'NU/VES', 'NU/VND', 'NU/VUV', 'NU/WST', 'NU/XAF', 'NU/XAG', 'NU/XAU', 'NU/XCD', 'NU/XDR', 'NU/XOF', 'NU/XPD', 'NU/XPF', 'NU/XPT', 'NU/YER', 'NU/ZAR', 'NU/ZMW', 'NU/ZWL', 'YFII/AED', 'YFII/AFN', 'YFII/ALL', 'YFII/AMD', 'YFII/ANG', 'YFII/AOA', 'YFII/ARS', 'YFII/AUD', 'YFII/AWG', 'YFII/AZN', 'YFII/BAM', 'YFII/BBD', 'YFII/BDT', 'YFII/BGN', 'YFII/BHD', 'YFII/BIF', 'YFII/BMD', 'YFII/BND', 'YFII/BOB', 'YFII/BRL', 'YFII/BSD', 'YFII/BTN', 'YFII/BWP', 'YFII/BYN', 'YFII/BYR', 'YFII/BZD', 'YFII/CAD', 'YFII/CDF', 'YFII/CHF', 'YFII/CLF', 'YFII/CLP', 'YFII/CNH', 'YFII/CNY', 'YFII/COP', 'YFII/CRC', 'YFII/CUC', 'YFII/CVE', 'YFII/CZK', 'YFII/DJF', 'YFII/DKK', 'YFII/DOP', 'YFII/DZD', 'YFII/EGP', 'YFII/ERN', 'YFII/ETB', 'YFII/EUR', 'YFII/FJD', 'YFII/FKP', 'YFII/GBP', 'YFII/GBX', 'YFII/GEL', 'YFII/GGP', 'YFII/GHS', 'YFII/GIP', 'YFII/GMD', 'YFII/GNF', 'YFII/GTQ', 'YFII/GYD', 'YFII/HKD', 'YFII/HNL', 'YFII/HRK', 'YFII/HTG', 'YFII/HUF', 'YFII/IDR', 'YFII/ILS', 'YFII/IMP', 'YFII/INR', 'YFII/IQD', 'YFII/ISK', 'YFII/JEP', 'YFII/JMD', 'YFII/JOD', 'YFII/JPY', 'YFII/KES', 'YFII/KGS', 'YFII/KHR', 'YFII/KMF', 'YFII/KRW', 'YFII/KWD', 'YFII/KYD', 'YFII/KZT', 'YFII/LAK', 'YFII/LBP', 'YFII/LKR', 'YFII/LRD', 'YFII/LSL', 'YFII/LYD', 'YFII/MAD', 'YFII/MDL', 'YFII/MGA', 'YFII/MKD', 'YFII/MMK', 'YFII/MNT', 'YFII/MOP', 'YFII/MRO', 'YFII/MTL', 'YFII/MUR', 'YFII/MVR', 'YFII/MWK', 'YFII/MXN', 'YFII/MYR', 'YFII/MZN', 'YFII/NAD', 'YFII/NGN', 'YFII/NIO', 'YFII/NOK', 'YFII/NPR', 'YFII/NZD', 'YFII/OMR', 'YFII/PAB', 'YFII/PEN', 'YFII/PGK', 'YFII/PHP', 'YFII/PKR', 'YFII/PLN', 'YFII/PYG', 'YFII/QAR', 'YFII/RON', 'YFII/RSD', 'YFII/RUB', 'YFII/RWF', 'YFII/SAR', 'YFII/SBD', 'YFII/SCR', 'YFII/SEK', 'YFII/SGD', 'YFII/SHP', 'YFII/SLL', 'YFII/SOS', 'YFII/SRD', 'YFII/SSP', 'YFII/STD', 'YFII/SVC', 'YFII/SZL', 'YFII/THB', 'YFII/TJS', 'YFII/TMM', 'YFII/TMT', 'YFII/TND', 'YFII/TOP', 'YFII/TRY', 'YFII/TTD', 'YFII/TWD', 'YFII/TZS', 'YFII/UAH', 'YFII/UGX', 'YFII/USD', 'YFII/UYU', 'YFII/UZS', 'YFII/VES', 'YFII/VND', 'YFII/VUV', 'YFII/WST', 'YFII/XAF', 'YFII/XAG', 'YFII/XAU', 'YFII/XCD', 'YFII/XDR', 'YFII/XOF', 'YFII/XPD', 'YFII/XPF', 'YFII/XPT', 'YFII/YER', 'YFII/ZAR', 'YFII/ZMW', 'YFII/ZWL', 'FIL/AED', 'FIL/AFN', 'FIL/ALL', 'FIL/AMD', 'FIL/ANG', 'FIL/AOA', 'FIL/ARS', 'FIL/AUD', 'FIL/AWG', 'FIL/AZN', 'FIL/BAM', 'FIL/BBD', 'FIL/BDT', 'FIL/BGN', 'FIL/BHD', 'FIL/BIF', 'FIL/BMD', 'FIL/BND', 'FIL/BOB', 'FIL/BRL', 'FIL/BSD', 'FIL/BTN', 'FIL/BWP', 'FIL/BYN', 'FIL/BYR', 'FIL/BZD', 'FIL/CAD', 'FIL/CDF', 'FIL/CHF', 'FIL/CLF', 'FIL/CLP', 'FIL/CNH', 'FIL/CNY', 'FIL/COP', 'FIL/CRC', 'FIL/CUC', 'FIL/CVE', 'FIL/CZK', 'FIL/DJF', 'FIL/DKK', 'FIL/DOP', 'FIL/DZD', 'FIL/EGP', 'FIL/ERN', 'FIL/ETB', 'FIL/EUR', 'FIL/FJD', 'FIL/FKP', 'FIL/GBP', 'FIL/GBX', 'FIL/GEL', 'FIL/GGP', 'FIL/GHS', 'FIL/GIP', 'FIL/GMD', 'FIL/GNF', 'FIL/GTQ', 'FIL/GYD', 'FIL/HKD', 'FIL/HNL', 'FIL/HRK', 'FIL/HTG', 'FIL/HUF', 'FIL/IDR', 'FIL/ILS', 'FIL/IMP', 'FIL/INR', 'FIL/IQD', 'FIL/ISK', 'FIL/JEP', 'FIL/JMD', 'FIL/JOD', 'FIL/JPY', 'FIL/KES', 'FIL/KGS', 'FIL/KHR', 'FIL/KMF', 'FIL/KRW', 'FIL/KWD', 'FIL/KYD', 'FIL/KZT', 'FIL/LAK', 'FIL/LBP', 'FIL/LKR', 'FIL/LRD', 'FIL/LSL', 'FIL/LYD', 'FIL/MAD', 'FIL/MDL', 'FIL/MGA', 'FIL/MKD', 'FIL/MMK', 'FIL/MNT', 'FIL/MOP', 'FIL/MRO', 'FIL/MTL', 'FIL/MUR', 'FIL/MVR', 'FIL/MWK', 'FIL/MXN', 'FIL/MYR', 'FIL/MZN', 'FIL/NAD', 'FIL/NGN', 'FIL/NIO', 'FIL/NOK', 'FIL/NPR', 'FIL/NZD', 'FIL/OMR', 'FIL/PAB', 'FIL/PEN', 'FIL/PGK', 'FIL/PHP', 'FIL/PKR', 'FIL/PLN', 'FIL/PYG', 'FIL/QAR', 'FIL/RON', 'FIL/RSD', 'FIL/RUB', 'FIL/RWF', 'FIL/SAR', 'FIL/SBD', 'FIL/SCR', 'FIL/SEK', 'FIL/SGD', 'FIL/SHP', 'FIL/SLL', 'FIL/SOS', 'FIL/SRD', 'FIL/SSP', 'FIL/STD', 'FIL/SVC', 'FIL/SZL', 'FIL/THB', 'FIL/TJS', 'FIL/TMM', 'FIL/TMT', 'FIL/TND', 'FIL/TOP', 'FIL/TRY', 'FIL/TTD', 'FIL/TWD', 'FIL/TZS', 'FIL/UAH', 'FIL/UGX', 'FIL/USD', 'FIL/UYU', 'FIL/UZS', 'FIL/VES', 'FIL/VND', 'FIL/VUV', 'FIL/WST', 'FIL/XAF', 'FIL/XAG', 'FIL/XAU', 'FIL/XCD', 'FIL/XDR', 'FIL/XOF', 'FIL/XPD', 'FIL/XPF', 'FIL/XPT', 'FIL/YER', 'FIL/ZAR', 'FIL/ZMW', 'FIL/ZWL', 'AAVE/AED', 'AAVE/AFN', 'AAVE/ALL', 'AAVE/AMD', 'AAVE/ANG', 'AAVE/AOA', 'AAVE/ARS', 'AAVE/AUD', 'AAVE/AWG', 'AAVE/AZN', 'AAVE/BAM', 'AAVE/BBD', 'AAVE/BDT', 'AAVE/BGN', 'AAVE/BHD', 'AAVE/BIF', 'AAVE/BMD', 'AAVE/BND', 'AAVE/BOB', 'AAVE/BRL', 'AAVE/BSD', 'AAVE/BTN', 'AAVE/BWP', 'AAVE/BYN', 'AAVE/BYR', 'AAVE/BZD', 'AAVE/CAD', 'AAVE/CDF', 'AAVE/CHF', 'AAVE/CLF', 'AAVE/CLP', 'AAVE/CNH', 'AAVE/CNY', 'AAVE/COP', 'AAVE/CRC', 'AAVE/CUC', 'AAVE/CVE', 'AAVE/CZK', 'AAVE/DJF', 'AAVE/DKK', 'AAVE/DOP', 'AAVE/DZD', 'AAVE/EGP', 'AAVE/ERN', 'AAVE/ETB', 'AAVE/EUR', 'AAVE/FJD', 'AAVE/FKP', 'AAVE/GBP', 'AAVE/GBX', 'AAVE/GEL', 'AAVE/GGP', 'AAVE/GHS', 'AAVE/GIP', 'AAVE/GMD', 'AAVE/GNF', 'AAVE/GTQ', 'AAVE/GYD', 'AAVE/HKD', 'AAVE/HNL', 'AAVE/HRK', 'AAVE/HTG', 'AAVE/HUF', 'AAVE/IDR', 'AAVE/ILS', 'AAVE/IMP', 'AAVE/INR', 'AAVE/IQD', 'AAVE/ISK', 'AAVE/JEP', 'AAVE/JMD', 'AAVE/JOD', 'AAVE/JPY', 'AAVE/KES', 'AAVE/KGS', 'AAVE/KHR', 'AAVE/KMF', 'AAVE/KRW', 'AAVE/KWD', 'AAVE/KYD', 'AAVE/KZT', 'AAVE/LAK', 'AAVE/LBP', 'AAVE/LKR', 'AAVE/LRD', 'AAVE/LSL', 'AAVE/LYD', 'AAVE/MAD', 'AAVE/MDL', 'AAVE/MGA', 'AAVE/MKD', 'AAVE/MMK', 'AAVE/MNT', 'AAVE/MOP', 'AAVE/MRO', 'AAVE/MTL', 'AAVE/MUR', 'AAVE/MVR', 'AAVE/MWK', 'AAVE/MXN', 'AAVE/MYR', 'AAVE/MZN', 'AAVE/NAD', 'AAVE/NGN', 'AAVE/NIO', 'AAVE/NOK', 'AAVE/NPR', 'AAVE/NZD', 'AAVE/OMR', 'AAVE/PAB', 'AAVE/PEN', 'AAVE/PGK', 'AAVE/PHP', 'AAVE/PKR', 'AAVE/PLN', 'AAVE/PYG', 'AAVE/QAR', 'AAVE/RON', 'AAVE/RSD', 'AAVE/RUB', 'AAVE/RWF', 'AAVE/SAR', 'AAVE/SBD', 'AAVE/SCR', 'AAVE/SEK', 'AAVE/SGD', 'AAVE/SHP', 'AAVE/SLL', 'AAVE/SOS', 'AAVE/SRD', 'AAVE/SSP', 'AAVE/STD', 'AAVE/SVC', 'AAVE/SZL', 'AAVE/THB', 'AAVE/TJS', 'AAVE/TMM', 'AAVE/TMT', 'AAVE/TND', 'AAVE/TOP', 'AAVE/TRY', 'AAVE/TTD', 'AAVE/TWD', 'AAVE/TZS', 'AAVE/UAH', 'AAVE/UGX', 'AAVE/USD', 'AAVE/UYU', 'AAVE/UZS', 'AAVE/VES', 'AAVE/VND', 'AAVE/VUV', 'AAVE/WST', 'AAVE/XAF', 'AAVE/XAG', 'AAVE/XAU', 'AAVE/XCD', 'AAVE/XDR', 'AAVE/XOF', 'AAVE/XPD', 'AAVE/XPF', 'AAVE/XPT', 'AAVE/YER', 'AAVE/ZAR', 'AAVE/ZMW', 'AAVE/ZWL', 'BNT/AED', 'BNT/AFN', 'BNT/ALL', 'BNT/AMD', 'BNT/ANG', 'BNT/AOA', 'BNT/ARS', 'BNT/AUD', 'BNT/AWG', 'BNT/AZN', 'BNT/BAM', 'BNT/BBD', 'BNT/BDT', 'BNT/BGN', 'BNT/BHD', 'BNT/BIF', 'BNT/BMD', 'BNT/BND', 'BNT/BOB', 'BNT/BRL', 'BNT/BSD', 'BNT/BTN', 'BNT/BWP', 'BNT/BYN', 'BNT/BYR', 'BNT/BZD', 'BNT/CAD', 'BNT/CDF', 'BNT/CHF', 'BNT/CLF', 'BNT/CLP', 'BNT/CNH', 'BNT/CNY', 'BNT/COP', 'BNT/CRC', 'BNT/CUC', 'BNT/CVE', 'BNT/CZK', 'BNT/DJF', 'BNT/DKK', 'BNT/DOP', 'BNT/DZD', 'BNT/EGP', 'BNT/ERN', 'BNT/ETB', 'BNT/EUR', 'BNT/FJD', 'BNT/FKP', 'BNT/GBP', 'BNT/GBX', 'BNT/GEL', 'BNT/GGP', 'BNT/GHS', 'BNT/GIP', 'BNT/GMD', 'BNT/GNF', 'BNT/GTQ', 'BNT/GYD', 'BNT/HKD', 'BNT/HNL', 'BNT/HRK', 'BNT/HTG', 'BNT/HUF', 'BNT/IDR', 'BNT/ILS', 'BNT/IMP', 'BNT/INR', 'BNT/IQD', 'BNT/ISK', 'BNT/JEP', 'BNT/JMD', 'BNT/JOD', 'BNT/JPY', 'BNT/KES', 'BNT/KGS', 'BNT/KHR', 'BNT/KMF', 'BNT/KRW', 'BNT/KWD', 'BNT/KYD', 'BNT/KZT', 'BNT/LAK', 'BNT/LBP', 'BNT/LKR', 'BNT/LRD', 'BNT/LSL', 'BNT/LYD', 'BNT/MAD', 'BNT/MDL', 'BNT/MGA', 'BNT/MKD', 'BNT/MMK', 'BNT/MNT', 'BNT/MOP', 'BNT/MRO', 'BNT/MTL', 'BNT/MUR', 'BNT/MVR', 'BNT/MWK', 'BNT/MXN', 'BNT/MYR', 'BNT/MZN', 'BNT/NAD', 'BNT/NGN', 'BNT/NIO', 'BNT/NOK', 'BNT/NPR', 'BNT/NZD', 'BNT/OMR', 'BNT/PAB', 'BNT/PEN', 'BNT/PGK', 'BNT/PHP', 'BNT/PKR', 'BNT/PLN', 'BNT/PYG', 'BNT/QAR', 'BNT/RON', 'BNT/RSD', 'BNT/RUB', 'BNT/RWF', 'BNT/SAR', 'BNT/SBD', 'BNT/SCR', 'BNT/SEK', 'BNT/SGD', 'BNT/SHP', 'BNT/SLL', 'BNT/SOS', 'BNT/SRD', 'BNT/SSP', 'BNT/STD', 'BNT/SVC', 'BNT/SZL', 'BNT/THB', 'BNT/TJS', 'BNT/TMM', 'BNT/TMT', 'BNT/TND', 'BNT/TOP', 'BNT/TRY', 'BNT/TTD', 'BNT/TWD', 'BNT/TZS', 'BNT/UAH', 'BNT/UGX', 'BNT/USD', 'BNT/UYU', 'BNT/UZS', 'BNT/VES', 'BNT/VND', 'BNT/VUV', 'BNT/WST', 'BNT/XAF', 'BNT/XAG', 'BNT/XAU', 'BNT/XCD', 'BNT/XDR', 'BNT/XOF', 'BNT/XPD', 'BNT/XPF', 'BNT/XPT', 'BNT/YER', 'BNT/ZAR', 'BNT/ZMW', 'BNT/ZWL', 'GRT/AED', 'GRT/AFN', 'GRT/ALL', 'GRT/AMD', 'GRT/ANG', 'GRT/AOA', 'GRT/ARS', 'GRT/AUD', 'GRT/AWG', 'GRT/AZN', 'GRT/BAM', 'GRT/BBD', 'GRT/BDT', 'GRT/BGN', 'GRT/BHD', 'GRT/BIF', 'GRT/BMD', 'GRT/BND', 'GRT/BOB', 'GRT/BRL', 'GRT/BSD', 'GRT/BTN', 'GRT/BWP', 'GRT/BYN', 'GRT/BYR', 'GRT/BZD', 'GRT/CAD', 'GRT/CDF', 'GRT/CHF', 'GRT/CLF', 'GRT/CLP', 'GRT/CNH', 'GRT/CNY', 'GRT/COP', 'GRT/CRC', 'GRT/CUC', 'GRT/CVE', 'GRT/CZK', 'GRT/DJF', 'GRT/DKK', 'GRT/DOP', 'GRT/DZD', 'GRT/EGP', 'GRT/ERN', 'GRT/ETB', 'GRT/EUR', 'GRT/FJD', 'GRT/FKP', 'GRT/GBP', 'GRT/GBX', 'GRT/GEL', 'GRT/GGP', 'GRT/GHS', 'GRT/GIP', 'GRT/GMD', 'GRT/GNF', 'GRT/GTQ', 'GRT/GYD', 'GRT/HKD', 'GRT/HNL', 'GRT/HRK', 'GRT/HTG', 'GRT/HUF', 'GRT/IDR', 'GRT/ILS', 'GRT/IMP', 'GRT/INR', 'GRT/IQD', 'GRT/ISK', 'GRT/JEP', 'GRT/JMD', 'GRT/JOD', 'GRT/JPY', 'GRT/KES', 'GRT/KGS', 'GRT/KHR', 'GRT/KMF', 'GRT/KRW', 'GRT/KWD', 'GRT/KYD', 'GRT/KZT', 'GRT/LAK', 'GRT/LBP', 'GRT/LKR', 'GRT/LRD', 'GRT/LSL', 'GRT/LYD', 'GRT/MAD', 'GRT/MDL', 'GRT/MGA', 'GRT/MKD', 'GRT/MMK', 'GRT/MNT', 'GRT/MOP', 'GRT/MRO', 'GRT/MTL', 'GRT/MUR', 'GRT/MVR', 'GRT/MWK', 'GRT/MXN', 'GRT/MYR', 'GRT/MZN', 'GRT/NAD', 'GRT/NGN', 'GRT/NIO', 'GRT/NOK', 'GRT/NPR', 'GRT/NZD', 'GRT/OMR', 'GRT/PAB', 'GRT/PEN', 'GRT/PGK', 'GRT/PHP', 'GRT/PKR', 'GRT/PLN', 'GRT/PYG', 'GRT/QAR', 'GRT/RON', 'GRT/RSD', 'GRT/RUB', 'GRT/RWF', 'GRT/SAR', 'GRT/SBD', 'GRT/SCR', 'GRT/SEK', 'GRT/SGD', 'GRT/SHP', 'GRT/SLL', 'GRT/SOS', 'GRT/SRD', 'GRT/SSP', 'GRT/STD', 'GRT/SVC', 'GRT/SZL', 'GRT/THB', 'GRT/TJS', 'GRT/TMM', 'GRT/TMT', 'GRT/TND', 'GRT/TOP', 'GRT/TRY', 'GRT/TTD', 'GRT/TWD', 'GRT/TZS', 'GRT/UAH', 'GRT/UGX', 'GRT/USD', 'GRT/UYU', 'GRT/UZS', 'GRT/VES', 'GRT/VND', 'GRT/VUV', 'GRT/WST', 'GRT/XAF', 'GRT/XAG', 'GRT/XAU', 'GRT/XCD', 'GRT/XDR', 'GRT/XOF', 'GRT/XPD', 'GRT/XPF', 'GRT/XPT', 'GRT/YER', 'GRT/ZAR', 'GRT/ZMW', 'GRT/ZWL', 'SNX/AED', 'SNX/AFN', 'SNX/ALL', 'SNX/AMD', 'SNX/ANG', 'SNX/AOA', 'SNX/ARS', 'SNX/AUD', 'SNX/AWG', 'SNX/AZN', 'SNX/BAM', 'SNX/BBD', 'SNX/BDT', 'SNX/BGN', 'SNX/BHD', 'SNX/BIF', 'SNX/BMD', 'SNX/BND', 'SNX/BOB', 'SNX/BRL', 'SNX/BSD', 'SNX/BTN', 'SNX/BWP', 'SNX/BYN', 'SNX/BYR', 'SNX/BZD', 'SNX/CAD', 'SNX/CDF', 'SNX/CHF', 'SNX/CLF', 'SNX/CLP', 'SNX/CNH', 'SNX/CNY', 'SNX/COP', 'SNX/CRC', 'SNX/CUC', 'SNX/CVE', 'SNX/CZK', 'SNX/DJF', 'SNX/DKK', 'SNX/DOP', 'SNX/DZD', 'SNX/EGP', 'SNX/ERN', 'SNX/ETB', 'SNX/EUR', 'SNX/FJD', 'SNX/FKP', 'SNX/GBP', 'SNX/GBX', 'SNX/GEL', 'SNX/GGP', 'SNX/GHS', 'SNX/GIP', 'SNX/GMD', 'SNX/GNF', 'SNX/GTQ', 'SNX/GYD', 'SNX/HKD', 'SNX/HNL', 'SNX/HRK', 'SNX/HTG', 'SNX/HUF', 'SNX/IDR', 'SNX/ILS', 'SNX/IMP', 'SNX/INR', 'SNX/IQD', 'SNX/ISK', 'SNX/JEP', 'SNX/JMD', 'SNX/JOD', 'SNX/JPY', 'SNX/KES', 'SNX/KGS', 'SNX/KHR', 'SNX/KMF', 'SNX/KRW', 'SNX/KWD', 'SNX/KYD', 'SNX/KZT', 'SNX/LAK', 'SNX/LBP', 'SNX/LKR', 'SNX/LRD', 'SNX/LSL', 'SNX/LYD', 'SNX/MAD', 'SNX/MDL', 'SNX/MGA', 'SNX/MKD', 'SNX/MMK', 'SNX/MNT', 'SNX/MOP', 'SNX/MRO', 'SNX/MTL', 'SNX/MUR', 'SNX/MVR', 'SNX/MWK', 'SNX/MXN', 'SNX/MYR', 'SNX/MZN', 'SNX/NAD', 'SNX/NGN', 'SNX/NIO', 'SNX/NOK', 'SNX/NPR', 'SNX/NZD', 'SNX/OMR', 'SNX/PAB', 'SNX/PEN', 'SNX/PGK', 'SNX/PHP', 'SNX/PKR', 'SNX/PLN', 'SNX/PYG', 'SNX/QAR', 'SNX/RON', 'SNX/RSD', 'SNX/RUB', 'SNX/RWF', 'SNX/SAR', 'SNX/SBD', 'SNX/SCR', 'SNX/SEK', 'SNX/SGD', 'SNX/SHP', 'SNX/SLL', 'SNX/SOS', 'SNX/SRD', 'SNX/SSP', 'SNX/STD', 'SNX/SVC', 'SNX/SZL', 'SNX/THB', 'SNX/TJS', 'SNX/TMM', 'SNX/TMT', 'SNX/TND', 'SNX/TOP', 'SNX/TRY', 'SNX/TTD', 'SNX/TWD', 'SNX/TZS', 'SNX/UAH', 'SNX/UGX', 'SNX/USD', 'SNX/UYU', 'SNX/UZS', 'SNX/VES', 'SNX/VND', 'SNX/VUV', 'SNX/WST', 'SNX/XAF', 'SNX/XAG', 'SNX/XAU', 'SNX/XCD', 'SNX/XDR', 'SNX/XOF', 'SNX/XPD', 'SNX/XPF', 'SNX/XPT', 'SNX/YER', 'SNX/ZAR', 'SNX/ZMW', 'SNX/ZWL', 'STORJ/AED', 'STORJ/AFN', 'STORJ/ALL', 'STORJ/AMD', 'STORJ/ANG', 'STORJ/AOA', 'STORJ/ARS', 'STORJ/AUD', 'STORJ/AWG', 'STORJ/AZN', 'STORJ/BAM', 'STORJ/BBD', 'STORJ/BDT', 'STORJ/BGN', 'STORJ/BHD', 'STORJ/BIF', 'STORJ/BMD', 'STORJ/BND', 'STORJ/BOB', 'STORJ/BRL', 'STORJ/BSD', 'STORJ/BTN', 'STORJ/BWP', 'STORJ/BYN', 'STORJ/BYR', 'STORJ/BZD', 'STORJ/CAD', 'STORJ/CDF', 'STORJ/CHF', 'STORJ/CLF', 'STORJ/CLP', 'STORJ/CNH', 'STORJ/CNY', 'STORJ/COP', 'STORJ/CRC', 'STORJ/CUC', 'STORJ/CVE', 'STORJ/CZK', 'STORJ/DJF', 'STORJ/DKK', 'STORJ/DOP', 'STORJ/DZD', 'STORJ/EGP', 'STORJ/ERN', 'STORJ/ETB', 'STORJ/EUR', 'STORJ/FJD', 'STORJ/FKP', 'STORJ/GBP', 'STORJ/GBX', 'STORJ/GEL', 'STORJ/GGP', 'STORJ/GHS', 'STORJ/GIP', 'STORJ/GMD', 'STORJ/GNF', 'STORJ/GTQ', 'STORJ/GYD', 'STORJ/HKD', 'STORJ/HNL', 'STORJ/HRK', 'STORJ/HTG', 'STORJ/HUF', 'STORJ/IDR', 'STORJ/ILS', 'STORJ/IMP', 'STORJ/INR', 'STORJ/IQD', 'STORJ/ISK', 'STORJ/JEP', 'STORJ/JMD', 'STORJ/JOD', 'STORJ/JPY', 'STORJ/KES', 'STORJ/KGS', 'STORJ/KHR', 'STORJ/KMF', 'STORJ/KRW', 'STORJ/KWD', 'STORJ/KYD', 'STORJ/KZT', 'STORJ/LAK', 'STORJ/LBP', 'STORJ/LKR', 'STORJ/LRD', 'STORJ/LSL', 'STORJ/LYD', 'STORJ/MAD', 'STORJ/MDL', 'STORJ/MGA', 'STORJ/MKD', 'STORJ/MMK', 'STORJ/MNT', 'STORJ/MOP', 'STORJ/MRO', 'STORJ/MTL', 'STORJ/MUR', 'STORJ/MVR', 'STORJ/MWK', 'STORJ/MXN', 'STORJ/MYR', 'STORJ/MZN', 'STORJ/NAD', 'STORJ/NGN', 'STORJ/NIO', 'STORJ/NOK', 'STORJ/NPR', 'STORJ/NZD', 'STORJ/OMR', 'STORJ/PAB', 'STORJ/PEN', 'STORJ/PGK', 'STORJ/PHP', 'STORJ/PKR', 'STORJ/PLN', 'STORJ/PYG', 'STORJ/QAR', 'STORJ/RON', 'STORJ/RSD', 'STORJ/RUB', 'STORJ/RWF', 'STORJ/SAR', 'STORJ/SBD', 'STORJ/SCR', 'STORJ/SEK', 'STORJ/SGD', 'STORJ/SHP', 'STORJ/SLL', 'STORJ/SOS', 'STORJ/SRD', 'STORJ/SSP', 'STORJ/STD', 'STORJ/SVC', 'STORJ/SZL', 'STORJ/THB', 'STORJ/TJS', 'STORJ/TMM', 'STORJ/TMT', 'STORJ/TND', 'STORJ/TOP', 'STORJ/TRY', 'STORJ/TTD', 'STORJ/TWD', 'STORJ/TZS', 'STORJ/UAH', 'STORJ/UGX', 'STORJ/USD', 'STORJ/UYU', 'STORJ/UZS', 'STORJ/VES', 'STORJ/VND', 'STORJ/VUV', 'STORJ/WST', 'STORJ/XAF', 'STORJ/XAG', 'STORJ/XAU', 'STORJ/XCD', 'STORJ/XDR', 'STORJ/XOF', 'STORJ/XPD', 'STORJ/XPF', 'STORJ/XPT', 'STORJ/YER', 'STORJ/ZAR', 'STORJ/ZMW', 'STORJ/ZWL', 'SUSHI/AED', 'SUSHI/AFN', 'SUSHI/ALL', 'SUSHI/AMD', 'SUSHI/ANG', 'SUSHI/AOA', 'SUSHI/ARS', 'SUSHI/AUD', 'SUSHI/AWG', 'SUSHI/AZN', 'SUSHI/BAM', 'SUSHI/BBD', 'SUSHI/BDT', 'SUSHI/BGN', 'SUSHI/BHD', 'SUSHI/BIF', 'SUSHI/BMD', 'SUSHI/BND', 'SUSHI/BOB', 'SUSHI/BRL', 'SUSHI/BSD', 'SUSHI/BTN', 'SUSHI/BWP', 'SUSHI/BYN', 'SUSHI/BYR', 'SUSHI/BZD', 'SUSHI/CAD', 'SUSHI/CDF', 'SUSHI/CHF', 'SUSHI/CLF', 'SUSHI/CLP', 'SUSHI/CNH', 'SUSHI/CNY', 'SUSHI/COP', 'SUSHI/CRC', 'SUSHI/CUC', 'SUSHI/CVE', 'SUSHI/CZK', 'SUSHI/DJF', 'SUSHI/DKK', 'SUSHI/DOP', 'SUSHI/DZD', 'SUSHI/EGP', 'SUSHI/ERN', 'SUSHI/ETB', 'SUSHI/EUR', 'SUSHI/FJD', 'SUSHI/FKP', 'SUSHI/GBP', 'SUSHI/GBX', 'SUSHI/GEL', 'SUSHI/GGP', 'SUSHI/GHS', 'SUSHI/GIP', 'SUSHI/GMD', 'SUSHI/GNF', 'SUSHI/GTQ', 'SUSHI/GYD', 'SUSHI/HKD', 'SUSHI/HNL', 'SUSHI/HRK', 'SUSHI/HTG', 'SUSHI/HUF', 'SUSHI/IDR', 'SUSHI/ILS', 'SUSHI/IMP', 'SUSHI/INR', 'SUSHI/IQD', 'SUSHI/ISK', 'SUSHI/JEP', 'SUSHI/JMD', 'SUSHI/JOD', 'SUSHI/JPY', 'SUSHI/KES', 'SUSHI/KGS', 'SUSHI/KHR', 'SUSHI/KMF', 'SUSHI/KRW', 'SUSHI/KWD', 'SUSHI/KYD', 'SUSHI/KZT', 'SUSHI/LAK', 'SUSHI/LBP', 'SUSHI/LKR', 'SUSHI/LRD', 'SUSHI/LSL', 'SUSHI/LYD', 'SUSHI/MAD', 'SUSHI/MDL', 'SUSHI/MGA', 'SUSHI/MKD', 'SUSHI/MMK', 'SUSHI/MNT', 'SUSHI/MOP', 'SUSHI/MRO', 'SUSHI/MTL', 'SUSHI/MUR', 'SUSHI/MVR', 'SUSHI/MWK', 'SUSHI/MXN', 'SUSHI/MYR', 'SUSHI/MZN', 'SUSHI/NAD', 'SUSHI/NGN', 'SUSHI/NIO', 'SUSHI/NOK', 'SUSHI/NPR', 'SUSHI/NZD', 'SUSHI/OMR', 'SUSHI/PAB', 'SUSHI/PEN', 'SUSHI/PGK', 'SUSHI/PHP', 'SUSHI/PKR', 'SUSHI/PLN', 'SUSHI/PYG', 'SUSHI/QAR', 'SUSHI/RON', 'SUSHI/RSD', 'SUSHI/RUB', 'SUSHI/RWF', 'SUSHI/SAR', 'SUSHI/SBD', 'SUSHI/SCR', 'SUSHI/SEK', 'SUSHI/SGD', 'SUSHI/SHP', 'SUSHI/SLL', 'SUSHI/SOS', 'SUSHI/SRD', 'SUSHI/SSP', 'SUSHI/STD', 'SUSHI/SVC', 'SUSHI/SZL', 'SUSHI/THB', 'SUSHI/TJS', 'SUSHI/TMM', 'SUSHI/TMT', 'SUSHI/TND', 'SUSHI/TOP', 'SUSHI/TRY', 'SUSHI/TTD', 'SUSHI/TWD', 'SUSHI/TZS', 'SUSHI/UAH', 'SUSHI/UGX', 'SUSHI/USD', 'SUSHI/UYU', 'SUSHI/UZS', 'SUSHI/VES', 'SUSHI/VND', 'SUSHI/VUV', 'SUSHI/WST', 'SUSHI/XAF', 'SUSHI/XAG', 'SUSHI/XAU', 'SUSHI/XCD', 'SUSHI/XDR', 'SUSHI/XOF', 'SUSHI/XPD', 'SUSHI/XPF', 'SUSHI/XPT', 'SUSHI/YER', 'SUSHI/ZAR', 'SUSHI/ZMW', 'SUSHI/ZWL', 'MATIC/AED', 'MATIC/AFN', 'MATIC/ALL', 'MATIC/AMD', 'MATIC/ANG', 'MATIC/AOA', 'MATIC/ARS', 'MATIC/AUD', 'MATIC/AWG', 'MATIC/AZN', 'MATIC/BAM', 'MATIC/BBD', 'MATIC/BDT', 'MATIC/BGN', 'MATIC/BHD', 'MATIC/BIF', 'MATIC/BMD', 'MATIC/BND', 'MATIC/BOB', 'MATIC/BRL', 'MATIC/BSD', 'MATIC/BTN', 'MATIC/BWP', 'MATIC/BYN', 'MATIC/BYR', 'MATIC/BZD', 'MATIC/CAD', 'MATIC/CDF', 'MATIC/CHF', 'MATIC/CLF', 'MATIC/CLP', 'MATIC/CNH', 'MATIC/CNY', 'MATIC/COP', 'MATIC/CRC', 'MATIC/CUC', 'MATIC/CVE', 'MATIC/CZK', 'MATIC/DJF', 'MATIC/DKK', 'MATIC/DOP', 'MATIC/DZD', 'MATIC/EGP', 'MATIC/ERN', 'MATIC/ETB', 'MATIC/EUR', 'MATIC/FJD', 'MATIC/FKP', 'MATIC/GBP', 'MATIC/GBX', 'MATIC/GEL', 'MATIC/GGP', 'MATIC/GHS', 'MATIC/GIP', 'MATIC/GMD', 'MATIC/GNF', 'MATIC/GTQ', 'MATIC/GYD', 'MATIC/HKD', 'MATIC/HNL', 'MATIC/HRK', 'MATIC/HTG', 'MATIC/HUF', 'MATIC/IDR', 'MATIC/ILS', 'MATIC/IMP', 'MATIC/INR', 'MATIC/IQD', 'MATIC/ISK', 'MATIC/JEP', 'MATIC/JMD', 'MATIC/JOD', 'MATIC/JPY', 'MATIC/KES', 'MATIC/KGS', 'MATIC/KHR', 'MATIC/KMF', 'MATIC/KRW', 'MATIC/KWD', 'MATIC/KYD', 'MATIC/KZT', 'MATIC/LAK', 'MATIC/LBP', 'MATIC/LKR', 'MATIC/LRD', 'MATIC/LSL', 'MATIC/LYD', 'MATIC/MAD', 'MATIC/MDL', 'MATIC/MGA', 'MATIC/MKD', 'MATIC/MMK', 'MATIC/MNT', 'MATIC/MOP', 'MATIC/MRO', 'MATIC/MTL', 'MATIC/MUR', 'MATIC/MVR', 'MATIC/MWK', 'MATIC/MXN', 'MATIC/MYR', 'MATIC/MZN', 'MATIC/NAD', 'MATIC/NGN', 'MATIC/NIO', 'MATIC/NOK', 'MATIC/NPR', 'MATIC/NZD', 'MATIC/OMR', 'MATIC/PAB', 'MATIC/PEN', 'MATIC/PGK', 'MATIC/PHP', 'MATIC/PKR', 'MATIC/PLN', 'MATIC/PYG', 'MATIC/QAR', 'MATIC/RON', 'MATIC/RSD', 'MATIC/RUB', 'MATIC/RWF', 'MATIC/SAR', 'MATIC/SBD', 'MATIC/SCR', 'MATIC/SEK', 'MATIC/SGD', 'MATIC/SHP', 'MATIC/SLL', 'MATIC/SOS', 'MATIC/SRD', 'MATIC/SSP', 'MATIC/STD', 'MATIC/SVC', 'MATIC/SZL', 'MATIC/THB', 'MATIC/TJS', 'MATIC/TMM', 'MATIC/TMT', 'MATIC/TND', 'MATIC/TOP', 'MATIC/TRY', 'MATIC/TTD', 'MATIC/TWD', 'MATIC/TZS', 'MATIC/UAH', 'MATIC/UGX', 'MATIC/USD', 'MATIC/UYU', 'MATIC/UZS', 'MATIC/VES', 'MATIC/VND', 'MATIC/VUV', 'MATIC/WST', 'MATIC/XAF', 'MATIC/XAG', 'MATIC/XAU', 'MATIC/XCD', 'MATIC/XDR', 'MATIC/XOF', 'MATIC/XPD', 'MATIC/XPF', 'MATIC/XPT', 'MATIC/YER', 'MATIC/ZAR', 'MATIC/ZMW', 'MATIC/ZWL', 'SKL/AED', 'SKL/AFN', 'SKL/ALL', 'SKL/AMD', 'SKL/ANG', 'SKL/AOA', 'SKL/ARS', 'SKL/AUD', 'SKL/AWG', 'SKL/AZN', 'SKL/BAM', 'SKL/BBD', 'SKL/BDT', 'SKL/BGN', 'SKL/BHD', 'SKL/BIF', 'SKL/BMD', 'SKL/BND', 'SKL/BOB', 'SKL/BRL', 'SKL/BSD', 'SKL/BTN', 'SKL/BWP', 'SKL/BYN', 'SKL/BYR', 'SKL/BZD', 'SKL/CAD', 'SKL/CDF', 'SKL/CHF', 'SKL/CLF', 'SKL/CLP', 'SKL/CNH', 'SKL/CNY', 'SKL/COP', 'SKL/CRC', 'SKL/CUC', 'SKL/CVE', 'SKL/CZK', 'SKL/DJF', 'SKL/DKK', 'SKL/DOP', 'SKL/DZD', 'SKL/EGP', 'SKL/ERN', 'SKL/ETB', 'SKL/EUR', 'SKL/FJD', 'SKL/FKP', 'SKL/GBP', 'SKL/GBX', 'SKL/GEL', 'SKL/GGP', 'SKL/GHS', 'SKL/GIP', 'SKL/GMD', 'SKL/GNF', 'SKL/GTQ', 'SKL/GYD', 'SKL/HKD', 'SKL/HNL', 'SKL/HRK', 'SKL/HTG', 'SKL/HUF', 'SKL/IDR', 'SKL/ILS', 'SKL/IMP', 'SKL/INR', 'SKL/IQD', 'SKL/ISK', 'SKL/JEP', 'SKL/JMD', 'SKL/JOD', 'SKL/JPY', 'SKL/KES', 'SKL/KGS', 'SKL/KHR', 'SKL/KMF', 'SKL/KRW', 'SKL/KWD', 'SKL/KYD', 'SKL/KZT', 'SKL/LAK', 'SKL/LBP', 'SKL/LKR', 'SKL/LRD', 'SKL/LSL', 'SKL/LYD', 'SKL/MAD', 'SKL/MDL', 'SKL/MGA', 'SKL/MKD', 'SKL/MMK', 'SKL/MNT', 'SKL/MOP', 'SKL/MRO', 'SKL/MTL', 'SKL/MUR', 'SKL/MVR', 'SKL/MWK', 'SKL/MXN', 'SKL/MYR', 'SKL/MZN', 'SKL/NAD', 'SKL/NGN', 'SKL/NIO', 'SKL/NOK', 'SKL/NPR', 'SKL/NZD', 'SKL/OMR', 'SKL/PAB', 'SKL/PEN', 'SKL/PGK', 'SKL/PHP', 'SKL/PKR', 'SKL/PLN', 'SKL/PYG', 'SKL/QAR', 'SKL/RON', 'SKL/RSD', 'SKL/RUB', 'SKL/RWF', 'SKL/SAR', 'SKL/SBD', 'SKL/SCR', 'SKL/SEK', 'SKL/SGD', 'SKL/SHP', 'SKL/SLL', 'SKL/SOS', 'SKL/SRD', 'SKL/SSP', 'SKL/STD', 'SKL/SVC', 'SKL/SZL', 'SKL/THB', 'SKL/TJS', 'SKL/TMM', 'SKL/TMT', 'SKL/TND', 'SKL/TOP', 'SKL/TRY', 'SKL/TTD', 'SKL/TWD', 'SKL/TZS', 'SKL/UAH', 'SKL/UGX', 'SKL/USD', 'SKL/UYU', 'SKL/UZS', 'SKL/VES', 'SKL/VND', 'SKL/VUV', 'SKL/WST', 'SKL/XAF', 'SKL/XAG', 'SKL/XAU', 'SKL/XCD', 'SKL/XDR', 'SKL/XOF', 'SKL/XPD', 'SKL/XPF', 'SKL/XPT', 'SKL/YER', 'SKL/ZAR', 'SKL/ZMW', 'SKL/ZWL', 'ADA/AED', 'ADA/AFN', 'ADA/ALL', 'ADA/AMD', 'ADA/ANG', 'ADA/AOA', 'ADA/ARS', 'ADA/AUD', 'ADA/AWG', 'ADA/AZN', 'ADA/BAM', 'ADA/BBD', 'ADA/BDT', 'ADA/BGN', 'ADA/BHD', 'ADA/BIF', 'ADA/BMD', 'ADA/BND', 'ADA/BOB', 'ADA/BRL', 'ADA/BSD', 'ADA/BTN', 'ADA/BWP', 'ADA/BYN', 'ADA/BYR', 'ADA/BZD', 'ADA/CAD', 'ADA/CDF', 'ADA/CHF', 'ADA/CLF', 'ADA/CLP', 'ADA/CNH', 'ADA/CNY', 'ADA/COP', 'ADA/CRC', 'ADA/CUC', 'ADA/CVE', 'ADA/CZK', 'ADA/DJF', 'ADA/DKK', 'ADA/DOP', 'ADA/DZD', 'ADA/EGP', 'ADA/ERN', 'ADA/ETB', 'ADA/EUR', 'ADA/FJD', 'ADA/FKP', 'ADA/GBP', 'ADA/GBX', 'ADA/GEL', 'ADA/GGP', 'ADA/GHS', 'ADA/GIP', 'ADA/GMD', 'ADA/GNF', 'ADA/GTQ', 'ADA/GYD', 'ADA/HKD', 'ADA/HNL', 'ADA/HRK', 'ADA/HTG', 'ADA/HUF', 'ADA/IDR', 'ADA/ILS', 'ADA/IMP', 'ADA/INR', 'ADA/IQD', 'ADA/ISK', 'ADA/JEP', 'ADA/JMD', 'ADA/JOD', 'ADA/JPY', 'ADA/KES', 'ADA/KGS', 'ADA/KHR', 'ADA/KMF', 'ADA/KRW', 'ADA/KWD', 'ADA/KYD', 'ADA/KZT', 'ADA/LAK', 'ADA/LBP', 'ADA/LKR', 'ADA/LRD', 'ADA/LSL', 'ADA/LYD', 'ADA/MAD', 'ADA/MDL', 'ADA/MGA', 'ADA/MKD', 'ADA/MMK', 'ADA/MNT', 'ADA/MOP', 'ADA/MRO', 'ADA/MTL', 'ADA/MUR', 'ADA/MVR', 'ADA/MWK', 'ADA/MXN', 'ADA/MYR', 'ADA/MZN', 'ADA/NAD', 'ADA/NGN', 'ADA/NIO', 'ADA/NOK', 'ADA/NPR', 'ADA/NZD', 'ADA/OMR', 'ADA/PAB', 'ADA/PEN', 'ADA/PGK', 'ADA/PHP', 'ADA/PKR', 'ADA/PLN', 'ADA/PYG', 'ADA/QAR', 'ADA/RON', 'ADA/RSD', 'ADA/RUB', 'ADA/RWF', 'ADA/SAR', 'ADA/SBD', 'ADA/SCR', 'ADA/SEK', 'ADA/SGD', 'ADA/SHP', 'ADA/SLL', 'ADA/SOS', 'ADA/SRD', 'ADA/SSP', 'ADA/STD', 'ADA/SVC', 'ADA/SZL', 'ADA/THB', 'ADA/TJS', 'ADA/TMM', 'ADA/TMT', 'ADA/TND', 'ADA/TOP', 'ADA/TRY', 'ADA/TTD', 'ADA/TWD', 'ADA/TZS', 'ADA/UAH', 'ADA/UGX', 'ADA/USD', 'ADA/UYU', 'ADA/UZS', 'ADA/VES', 'ADA/VND', 'ADA/VUV', 'ADA/WST', 'ADA/XAF', 'ADA/XAG', 'ADA/XAU', 'ADA/XCD', 'ADA/XDR', 'ADA/XOF', 'ADA/XPD', 'ADA/XPF', 'ADA/XPT', 'ADA/YER', 'ADA/ZAR', 'ADA/ZMW', 'ADA/ZWL', 'ANKR/AED', 'ANKR/AFN', 'ANKR/ALL', 'ANKR/AMD', 'ANKR/ANG', 'ANKR/AOA', 'ANKR/ARS', 'ANKR/AUD', 'ANKR/AWG', 'ANKR/AZN', 'ANKR/BAM', 'ANKR/BBD', 'ANKR/BDT', 'ANKR/BGN', 'ANKR/BHD', 'ANKR/BIF', 'ANKR/BMD', 'ANKR/BND', 'ANKR/BOB', 'ANKR/BRL', 'ANKR/BSD', 'ANKR/BTN', 'ANKR/BWP', 'ANKR/BYN', 'ANKR/BYR', 'ANKR/BZD', 'ANKR/CAD', 'ANKR/CDF', 'ANKR/CHF', 'ANKR/CLF', 'ANKR/CLP', 'ANKR/CNH', 'ANKR/CNY', 'ANKR/COP', 'ANKR/CRC', 'ANKR/CUC', 'ANKR/CVE', 'ANKR/CZK', 'ANKR/DJF', 'ANKR/DKK', 'ANKR/DOP', 'ANKR/DZD', 'ANKR/EGP', 'ANKR/ERN', 'ANKR/ETB', 'ANKR/EUR', 'ANKR/FJD', 'ANKR/FKP', 'ANKR/GBP', 'ANKR/GBX', 'ANKR/GEL', 'ANKR/GGP', 'ANKR/GHS', 'ANKR/GIP', 'ANKR/GMD', 'ANKR/GNF', 'ANKR/GTQ', 'ANKR/GYD', 'ANKR/HKD', 'ANKR/HNL', 'ANKR/HRK', 'ANKR/HTG', 'ANKR/HUF', 'ANKR/IDR', 'ANKR/ILS', 'ANKR/IMP', 'ANKR/INR', 'ANKR/IQD', 'ANKR/ISK', 'ANKR/JEP', 'ANKR/JMD', 'ANKR/JOD', 'ANKR/JPY', 'ANKR/KES', 'ANKR/KGS', 'ANKR/KHR', 'ANKR/KMF', 'ANKR/KRW', 'ANKR/KWD', 'ANKR/KYD', 'ANKR/KZT', 'ANKR/LAK', 'ANKR/LBP', 'ANKR/LKR', 'ANKR/LRD', 'ANKR/LSL', 'ANKR/LYD', 'ANKR/MAD', 'ANKR/MDL', 'ANKR/MGA', 'ANKR/MKD', 'ANKR/MMK', 'ANKR/MNT', 'ANKR/MOP', 'ANKR/MRO', 'ANKR/MTL', 'ANKR/MUR', 'ANKR/MVR', 'ANKR/MWK', 'ANKR/MXN', 'ANKR/MYR', 'ANKR/MZN', 'ANKR/NAD', 'ANKR/NGN', 'ANKR/NIO', 'ANKR/NOK', 'ANKR/NPR', 'ANKR/NZD', 'ANKR/OMR', 'ANKR/PAB', 'ANKR/PEN', 'ANKR/PGK', 'ANKR/PHP', 'ANKR/PKR', 'ANKR/PLN', 'ANKR/PYG', 'ANKR/QAR', 'ANKR/RON', 'ANKR/RSD', 'ANKR/RUB', 'ANKR/RWF', 'ANKR/SAR', 'ANKR/SBD', 'ANKR/SCR', 'ANKR/SEK', 'ANKR/SGD', 'ANKR/SHP', 'ANKR/SLL', 'ANKR/SOS', 'ANKR/SRD', 'ANKR/SSP', 'ANKR/STD', 'ANKR/SVC', 'ANKR/SZL', 'ANKR/THB', 'ANKR/TJS', 'ANKR/TMM', 'ANKR/TMT', 'ANKR/TND', 'ANKR/TOP', 'ANKR/TRY', 'ANKR/TTD', 'ANKR/TWD', 'ANKR/TZS', 'ANKR/UAH', 'ANKR/UGX', 'ANKR/USD', 'ANKR/UYU', 'ANKR/UZS', 'ANKR/VES', 'ANKR/VND', 'ANKR/VUV', 'ANKR/WST', 'ANKR/XAF', 'ANKR/XAG', 'ANKR/XAU', 'ANKR/XCD', 'ANKR/XDR', 'ANKR/XOF', 'ANKR/XPD', 'ANKR/XPF', 'ANKR/XPT', 'ANKR/YER', 'ANKR/ZAR', 'ANKR/ZMW', 'ANKR/ZWL', 'CRV/AED', 'CRV/AFN', 'CRV/ALL', 'CRV/AMD', 'CRV/ANG', 'CRV/AOA', 'CRV/ARS', 'CRV/AUD', 'CRV/AWG', 'CRV/AZN', 'CRV/BAM', 'CRV/BBD', 'CRV/BDT', 'CRV/BGN', 'CRV/BHD', 'CRV/BIF', 'CRV/BMD', 'CRV/BND', 'CRV/BOB', 'CRV/BRL', 'CRV/BSD', 'CRV/BTN', 'CRV/BWP', 'CRV/BYN', 'CRV/BYR', 'CRV/BZD', 'CRV/CAD', 'CRV/CDF', 'CRV/CHF', 'CRV/CLF', 'CRV/CLP', 'CRV/CNH', 'CRV/CNY', 'CRV/COP', 'CRV/CRC', 'CRV/CUC', 'CRV/CVE', 'CRV/CZK', 'CRV/DJF', 'CRV/DKK', 'CRV/DOP', 'CRV/DZD', 'CRV/EGP', 'CRV/ERN', 'CRV/ETB', 'CRV/EUR', 'CRV/FJD', 'CRV/FKP', 'CRV/GBP', 'CRV/GBX', 'CRV/GEL', 'CRV/GGP', 'CRV/GHS', 'CRV/GIP', 'CRV/GMD', 'CRV/GNF', 'CRV/GTQ', 'CRV/GYD', 'CRV/HKD', 'CRV/HNL', 'CRV/HRK', 'CRV/HTG', 'CRV/HUF', 'CRV/IDR', 'CRV/ILS', 'CRV/IMP', 'CRV/INR', 'CRV/IQD', 'CRV/ISK', 'CRV/JEP', 'CRV/JMD', 'CRV/JOD', 'CRV/JPY', 'CRV/KES', 'CRV/KGS', 'CRV/KHR', 'CRV/KMF', 'CRV/KRW', 'CRV/KWD', 'CRV/KYD', 'CRV/KZT', 'CRV/LAK', 'CRV/LBP', 'CRV/LKR', 'CRV/LRD', 'CRV/LSL', 'CRV/LYD', 'CRV/MAD', 'CRV/MDL', 'CRV/MGA', 'CRV/MKD', 'CRV/MMK', 'CRV/MNT', 'CRV/MOP', 'CRV/MRO', 'CRV/MTL', 'CRV/MUR', 'CRV/MVR', 'CRV/MWK', 'CRV/MXN', 'CRV/MYR', 'CRV/MZN', 'CRV/NAD', 'CRV/NGN', 'CRV/NIO', 'CRV/NOK', 'CRV/NPR', 'CRV/NZD', 'CRV/OMR', 'CRV/PAB', 'CRV/PEN', 'CRV/PGK', 'CRV/PHP', 'CRV/PKR', 'CRV/PLN', 'CRV/PYG', 'CRV/QAR', 'CRV/RON', 'CRV/RSD', 'CRV/RUB', 'CRV/RWF', 'CRV/SAR', 'CRV/SBD', 'CRV/SCR', 'CRV/SEK', 'CRV/SGD', 'CRV/SHP', 'CRV/SLL', 'CRV/SOS', 'CRV/SRD', 'CRV/SSP', 'CRV/STD', 'CRV/SVC', 'CRV/SZL', 'CRV/THB', 'CRV/TJS', 'CRV/TMM', 'CRV/TMT', 'CRV/TND', 'CRV/TOP', 'CRV/TRY', 'CRV/TTD', 'CRV/TWD', 'CRV/TZS', 'CRV/UAH', 'CRV/UGX', 'CRV/USD', 'CRV/UYU', 'CRV/UZS', 'CRV/VES', 'CRV/VND', 'CRV/VUV', 'CRV/WST', 'CRV/XAF', 'CRV/XAG', 'CRV/XAU', 'CRV/XCD', 'CRV/XDR', 'CRV/XOF', 'CRV/XPD', 'CRV/XPF', 'CRV/XPT', 'CRV/YER', 'CRV/ZAR', 'CRV/ZMW', 'CRV/ZWL', 'ICP/AED', 'ICP/AFN', 'ICP/ALL', 'ICP/AMD', 'ICP/ANG', 'ICP/AOA', 'ICP/ARS', 'ICP/AUD', 'ICP/AWG', 'ICP/AZN', 'ICP/BAM', 'ICP/BBD', 'ICP/BDT', 'ICP/BGN', 'ICP/BHD', 'ICP/BIF', 'ICP/BMD', 'ICP/BND', 'ICP/BOB', 'ICP/BRL', 'ICP/BSD', 'ICP/BTN', 'ICP/BWP', 'ICP/BYN', 'ICP/BYR', 'ICP/BZD', 'ICP/CAD', 'ICP/CDF', 'ICP/CHF', 'ICP/CLF', 'ICP/CLP', 'ICP/CNH', 'ICP/CNY', 'ICP/COP', 'ICP/CRC', 'ICP/CUC', 'ICP/CVE', 'ICP/CZK', 'ICP/DJF', 'ICP/DKK', 'ICP/DOP', 'ICP/DZD', 'ICP/EGP', 'ICP/ERN', 'ICP/ETB', 'ICP/EUR', 'ICP/FJD', 'ICP/FKP', 'ICP/GBP', 'ICP/GBX', 'ICP/GEL', 'ICP/GGP', 'ICP/GHS', 'ICP/GIP', 'ICP/GMD', 'ICP/GNF', 'ICP/GTQ', 'ICP/GYD', 'ICP/HKD', 'ICP/HNL', 'ICP/HRK', 'ICP/HTG', 'ICP/HUF', 'ICP/IDR', 'ICP/ILS', 'ICP/IMP', 'ICP/INR', 'ICP/IQD', 'ICP/ISK', 'ICP/JEP', 'ICP/JMD', 'ICP/JOD', 'ICP/JPY', 'ICP/KES', 'ICP/KGS', 'ICP/KHR', 'ICP/KMF', 'ICP/KRW', 'ICP/KWD', 'ICP/KYD', 'ICP/KZT', 'ICP/LAK', 'ICP/LBP', 'ICP/LKR', 'ICP/LRD', 'ICP/LSL', 'ICP/LYD', 'ICP/MAD', 'ICP/MDL', 'ICP/MGA', 'ICP/MKD', 'ICP/MMK', 'ICP/MNT', 'ICP/MOP', 'ICP/MRO', 'ICP/MTL', 'ICP/MUR', 'ICP/MVR', 'ICP/MWK', 'ICP/MXN', 'ICP/MYR', 'ICP/MZN', 'ICP/NAD', 'ICP/NGN', 'ICP/NIO', 'ICP/NOK', 'ICP/NPR', 'ICP/NZD', 'ICP/OMR', 'ICP/PAB', 'ICP/PEN', 'ICP/PGK', 'ICP/PHP', 'ICP/PKR', 'ICP/PLN', 'ICP/PYG', 'ICP/QAR', 'ICP/RON', 'ICP/RSD', 'ICP/RUB', 'ICP/RWF', 'ICP/SAR', 'ICP/SBD', 'ICP/SCR', 'ICP/SEK', 'ICP/SGD', 'ICP/SHP', 'ICP/SLL', 'ICP/SOS', 'ICP/SRD', 'ICP/SSP', 'ICP/STD', 'ICP/SVC', 'ICP/SZL', 'ICP/THB', 'ICP/TJS', 'ICP/TMM', 'ICP/TMT', 'ICP/TND', 'ICP/TOP', 'ICP/TRY', 'ICP/TTD', 'ICP/TWD', 'ICP/TZS', 'ICP/UAH', 'ICP/UGX', 'ICP/USD', 'ICP/UYU', 'ICP/UZS', 'ICP/VES', 'ICP/VND', 'ICP/VUV', 'ICP/WST', 'ICP/XAF', 'ICP/XAG', 'ICP/XAU', 'ICP/XCD', 'ICP/XDR', 'ICP/XOF', 'ICP/XPD', 'ICP/XPF', 'ICP/XPT', 'ICP/YER', 'ICP/ZAR', 'ICP/ZMW', 'ICP/ZWL', 'NKN/AED', 'NKN/AFN', 'NKN/ALL', 'NKN/AMD', 'NKN/ANG', 'NKN/AOA', 'NKN/ARS', 'NKN/AUD', 'NKN/AWG', 'NKN/AZN', 'NKN/BAM', 'NKN/BBD', 'NKN/BDT', 'NKN/BGN', 'NKN/BHD', 'NKN/BIF', 'NKN/BMD', 'NKN/BND', 'NKN/BOB', 'NKN/BRL', 'NKN/BSD', 'NKN/BTN', 'NKN/BWP', 'NKN/BYN', 'NKN/BYR', 'NKN/BZD', 'NKN/CAD', 'NKN/CDF', 'NKN/CHF', 'NKN/CLF', 'NKN/CLP', 'NKN/CNH', 'NKN/CNY', 'NKN/COP', 'NKN/CRC', 'NKN/CUC', 'NKN/CVE', 'NKN/CZK', 'NKN/DJF', 'NKN/DKK', 'NKN/DOP', 'NKN/DZD', 'NKN/EGP', 'NKN/ERN', 'NKN/ETB', 'NKN/EUR', 'NKN/FJD', 'NKN/FKP', 'NKN/GBP', 'NKN/GBX', 'NKN/GEL', 'NKN/GGP', 'NKN/GHS', 'NKN/GIP', 'NKN/GMD', 'NKN/GNF', 'NKN/GTQ', 'NKN/GYD', 'NKN/HKD', 'NKN/HNL', 'NKN/HRK', 'NKN/HTG', 'NKN/HUF', 'NKN/IDR', 'NKN/ILS', 'NKN/IMP', 'NKN/INR', 'NKN/IQD', 'NKN/ISK', 'NKN/JEP', 'NKN/JMD', 'NKN/JOD', 'NKN/JPY', 'NKN/KES', 'NKN/KGS', 'NKN/KHR', 'NKN/KMF', 'NKN/KRW', 'NKN/KWD', 'NKN/KYD', 'NKN/KZT', 'NKN/LAK', 'NKN/LBP', 'NKN/LKR', 'NKN/LRD', 'NKN/LSL', 'NKN/LYD', 'NKN/MAD', 'NKN/MDL', 'NKN/MGA', 'NKN/MKD', 'NKN/MMK', 'NKN/MNT', 'NKN/MOP', 'NKN/MRO', 'NKN/MTL', 'NKN/MUR', 'NKN/MVR', 'NKN/MWK', 'NKN/MXN', 'NKN/MYR', 'NKN/MZN', 'NKN/NAD', 'NKN/NGN', 'NKN/NIO', 'NKN/NOK', 'NKN/NPR', 'NKN/NZD', 'NKN/OMR', 'NKN/PAB', 'NKN/PEN', 'NKN/PGK', 'NKN/PHP', 'NKN/PKR', 'NKN/PLN', 'NKN/PYG', 'NKN/QAR', 'NKN/RON', 'NKN/RSD', 'NKN/RUB', 'NKN/RWF', 'NKN/SAR', 'NKN/SBD', 'NKN/SCR', 'NKN/SEK', 'NKN/SGD', 'NKN/SHP', 'NKN/SLL', 'NKN/SOS', 'NKN/SRD', 'NKN/SSP', 'NKN/STD', 'NKN/SVC', 'NKN/SZL', 'NKN/THB', 'NKN/TJS', 'NKN/TMM', 'NKN/TMT', 'NKN/TND', 'NKN/TOP', 'NKN/TRY', 'NKN/TTD', 'NKN/TWD', 'NKN/TZS', 'NKN/UAH', 'NKN/UGX', 'NKN/USD', 'NKN/UYU', 'NKN/UZS', 'NKN/VES', 'NKN/VND', 'NKN/VUV', 'NKN/WST', 'NKN/XAF', 'NKN/XAG', 'NKN/XAU', 'NKN/XCD', 'NKN/XDR', 'NKN/XOF', 'NKN/XPD', 'NKN/XPF', 'NKN/XPT', 'NKN/YER', 'NKN/ZAR', 'NKN/ZMW', 'NKN/ZWL', 'OGN/AED', 'OGN/AFN', 'OGN/ALL', 'OGN/AMD', 'OGN/ANG', 'OGN/AOA', 'OGN/ARS', 'OGN/AUD', 'OGN/AWG', 'OGN/AZN', 'OGN/BAM', 'OGN/BBD', 'OGN/BDT', 'OGN/BGN', 'OGN/BHD', 'OGN/BIF', 'OGN/BMD', 'OGN/BND', 'OGN/BOB', 'OGN/BRL', 'OGN/BSD', 'OGN/BTN', 'OGN/BWP', 'OGN/BYN', 'OGN/BYR', 'OGN/BZD', 'OGN/CAD', 'OGN/CDF', 'OGN/CHF', 'OGN/CLF', 'OGN/CLP', 'OGN/CNH', 'OGN/CNY', 'OGN/COP', 'OGN/CRC', 'OGN/CUC', 'OGN/CVE', 'OGN/CZK', 'OGN/DJF', 'OGN/DKK', 'OGN/DOP', 'OGN/DZD', 'OGN/EGP', 'OGN/ERN', 'OGN/ETB', 'OGN/EUR', 'OGN/FJD', 'OGN/FKP', 'OGN/GBP', 'OGN/GBX', 'OGN/GEL', 'OGN/GGP', 'OGN/GHS', 'OGN/GIP', 'OGN/GMD', 'OGN/GNF', 'OGN/GTQ', 'OGN/GYD', 'OGN/HKD', 'OGN/HNL', 'OGN/HRK', 'OGN/HTG', 'OGN/HUF', 'OGN/IDR', 'OGN/ILS', 'OGN/IMP', 'OGN/INR', 'OGN/IQD', 'OGN/ISK', 'OGN/JEP', 'OGN/JMD', 'OGN/JOD', 'OGN/JPY', 'OGN/KES', 'OGN/KGS', 'OGN/KHR', 'OGN/KMF', 'OGN/KRW', 'OGN/KWD', 'OGN/KYD', 'OGN/KZT', 'OGN/LAK', 'OGN/LBP', 'OGN/LKR', 'OGN/LRD', 'OGN/LSL', 'OGN/LYD', 'OGN/MAD', 'OGN/MDL', 'OGN/MGA', 'OGN/MKD', 'OGN/MMK', 'OGN/MNT', 'OGN/MOP', 'OGN/MRO', 'OGN/MTL', 'OGN/MUR', 'OGN/MVR', 'OGN/MWK', 'OGN/MXN', 'OGN/MYR', 'OGN/MZN', 'OGN/NAD', 'OGN/NGN', 'OGN/NIO', 'OGN/NOK', 'OGN/NPR', 'OGN/NZD', 'OGN/OMR', 'OGN/PAB', 'OGN/PEN', 'OGN/PGK', 'OGN/PHP', 'OGN/PKR', 'OGN/PLN', 'OGN/PYG', 'OGN/QAR', 'OGN/RON', 'OGN/RSD', 'OGN/RUB', 'OGN/RWF', 'OGN/SAR', 'OGN/SBD', 'OGN/SCR', 'OGN/SEK', 'OGN/SGD', 'OGN/SHP', 'OGN/SLL', 'OGN/SOS', 'OGN/SRD', 'OGN/SSP', 'OGN/STD', 'OGN/SVC', 'OGN/SZL', 'OGN/THB', 'OGN/TJS', 'OGN/TMM', 'OGN/TMT', 'OGN/TND', 'OGN/TOP', 'OGN/TRY', 'OGN/TTD', 'OGN/TWD', 'OGN/TZS', 'OGN/UAH', 'OGN/UGX', 'OGN/USD', 'OGN/UYU', 'OGN/UZS', 'OGN/VES', 'OGN/VND', 'OGN/VUV', 'OGN/WST', 'OGN/XAF', 'OGN/XAG', 'OGN/XAU', 'OGN/XCD', 'OGN/XDR', 'OGN/XOF', 'OGN/XPD', 'OGN/XPF', 'OGN/XPT', 'OGN/YER', 'OGN/ZAR', 'OGN/ZMW', 'OGN/ZWL', '1INCH/AED', '1INCH/AFN', '1INCH/ALL', '1INCH/AMD', '1INCH/ANG', '1INCH/AOA', '1INCH/ARS', '1INCH/AUD', '1INCH/AWG', '1INCH/AZN', '1INCH/BAM', '1INCH/BBD', '1INCH/BDT', '1INCH/BGN', '1INCH/BHD', '1INCH/BIF', '1INCH/BMD', '1INCH/BND', '1INCH/BOB', '1INCH/BRL', '1INCH/BSD', '1INCH/BTN', '1INCH/BWP', '1INCH/BYN', '1INCH/BYR', '1INCH/BZD', '1INCH/CAD', '1INCH/CDF', '1INCH/CHF', '1INCH/CLF', '1INCH/CLP', '1INCH/CNH', '1INCH/CNY', '1INCH/COP', '1INCH/CRC', '1INCH/CUC', '1INCH/CVE', '1INCH/CZK', '1INCH/DJF', '1INCH/DKK', '1INCH/DOP', '1INCH/DZD', '1INCH/EGP', '1INCH/ERN', '1INCH/ETB', '1INCH/EUR', '1INCH/FJD', '1INCH/FKP', '1INCH/GBP', '1INCH/GBX', '1INCH/GEL', '1INCH/GGP', '1INCH/GHS', '1INCH/GIP', '1INCH/GMD', '1INCH/GNF', '1INCH/GTQ', '1INCH/GYD', '1INCH/HKD', '1INCH/HNL', '1INCH/HRK', '1INCH/HTG', '1INCH/HUF', '1INCH/IDR', '1INCH/ILS', '1INCH/IMP', '1INCH/INR', '1INCH/IQD', '1INCH/ISK', '1INCH/JEP', '1INCH/JMD', '1INCH/JOD', '1INCH/JPY', '1INCH/KES', '1INCH/KGS', '1INCH/KHR', '1INCH/KMF', '1INCH/KRW', '1INCH/KWD', '1INCH/KYD', '1INCH/KZT', '1INCH/LAK', '1INCH/LBP', '1INCH/LKR', '1INCH/LRD', '1INCH/LSL', '1INCH/LYD', '1INCH/MAD', '1INCH/MDL', '1INCH/MGA', '1INCH/MKD', '1INCH/MMK', '1INCH/MNT', '1INCH/MOP', '1INCH/MRO', '1INCH/MTL', '1INCH/MUR', '1INCH/MVR', '1INCH/MWK', '1INCH/MXN', '1INCH/MYR', '1INCH/MZN', '1INCH/NAD', '1INCH/NGN', '1INCH/NIO', '1INCH/NOK', '1INCH/NPR', '1INCH/NZD', '1INCH/OMR', '1INCH/PAB', '1INCH/PEN', '1INCH/PGK', '1INCH/PHP', '1INCH/PKR', '1INCH/PLN', '1INCH/PYG', '1INCH/QAR', '1INCH/RON', '1INCH/RSD', '1INCH/RUB', '1INCH/RWF', '1INCH/SAR', '1INCH/SBD', '1INCH/SCR', '1INCH/SEK', '1INCH/SGD', '1INCH/SHP', '1INCH/SLL', '1INCH/SOS', '1INCH/SRD', '1INCH/SSP', '1INCH/STD', '1INCH/SVC', '1INCH/SZL', '1INCH/THB', '1INCH/TJS', '1INCH/TMM', '1INCH/TMT', '1INCH/TND', '1INCH/TOP', '1INCH/TRY', '1INCH/TTD', '1INCH/TWD', '1INCH/TZS', '1INCH/UAH', '1INCH/UGX', '1INCH/USD', '1INCH/UYU', '1INCH/UZS', '1INCH/VES', '1INCH/VND', '1INCH/VUV', '1INCH/WST', '1INCH/XAF', '1INCH/XAG', '1INCH/XAU', '1INCH/XCD', '1INCH/XDR', '1INCH/XOF', '1INCH/XPD', '1INCH/XPF', '1INCH/XPT', '1INCH/YER', '1INCH/ZAR', '1INCH/ZMW', '1INCH/ZWL', 'USDT/AED', 'USDT/AFN', 'USDT/ALL', 'USDT/AMD', 'USDT/ANG', 'USDT/AOA', 'USDT/ARS', 'USDT/AUD', 'USDT/AWG', 'USDT/AZN', 'USDT/BAM', 'USDT/BBD', 'USDT/BDT', 'USDT/BGN', 'USDT/BHD', 'USDT/BIF', 'USDT/BMD', 'USDT/BND', 'USDT/BOB', 'USDT/BRL', 'USDT/BSD', 'USDT/BTN', 'USDT/BWP', 'USDT/BYN', 'USDT/BYR', 'USDT/BZD', 'USDT/CAD', 'USDT/CDF', 'USDT/CHF', 'USDT/CLF', 'USDT/CLP', 'USDT/CNH', 'USDT/CNY', 'USDT/COP', 'USDT/CRC', 'USDT/CUC', 'USDT/CVE', 'USDT/CZK', 'USDT/DJF', 'USDT/DKK', 'USDT/DOP', 'USDT/DZD', 'USDT/EGP', 'USDT/ERN', 'USDT/ETB', 'USDT/EUR', 'USDT/FJD', 'USDT/FKP', 'USDT/GBP', 'USDT/GBX', 'USDT/GEL', 'USDT/GGP', 'USDT/GHS', 'USDT/GIP', 'USDT/GMD', 'USDT/GNF', 'USDT/GTQ', 'USDT/GYD', 'USDT/HKD', 'USDT/HNL', 'USDT/HRK', 'USDT/HTG', 'USDT/HUF', 'USDT/IDR', 'USDT/ILS', 'USDT/IMP', 'USDT/INR', 'USDT/IQD', 'USDT/ISK', 'USDT/JEP', 'USDT/JMD', 'USDT/JOD', 'USDT/JPY', 'USDT/KES', 'USDT/KGS', 'USDT/KHR', 'USDT/KMF', 'USDT/KRW', 'USDT/KWD', 'USDT/KYD', 'USDT/KZT', 'USDT/LAK', 'USDT/LBP', 'USDT/LKR', 'USDT/LRD', 'USDT/LSL', 'USDT/LYD', 'USDT/MAD', 'USDT/MDL', 'USDT/MGA', 'USDT/MKD', 'USDT/MMK', 'USDT/MNT', 'USDT/MOP', 'USDT/MRO', 'USDT/MTL', 'USDT/MUR', 'USDT/MVR', 'USDT/MWK', 'USDT/MXN', 'USDT/MYR', 'USDT/MZN', 'USDT/NAD', 'USDT/NGN', 'USDT/NIO', 'USDT/NOK', 'USDT/NPR', 'USDT/NZD', 'USDT/OMR', 'USDT/PAB', 'USDT/PEN', 'USDT/PGK', 'USDT/PHP', 'USDT/PKR', 'USDT/PLN', 'USDT/PYG', 'USDT/QAR', 'USDT/RON', 'USDT/RSD', 'USDT/RUB', 'USDT/RWF', 'USDT/SAR', 'USDT/SBD', 'USDT/SCR', 'USDT/SEK', 'USDT/SGD', 'USDT/SHP', 'USDT/SLL', 'USDT/SOS', 'USDT/SRD', 'USDT/SSP', 'USDT/STD', 'USDT/SVC', 'USDT/SZL', 'USDT/THB', 'USDT/TJS', 'USDT/TMM', 'USDT/TMT', 'USDT/TND', 'USDT/TOP', 'USDT/TRY', 'USDT/TTD', 'USDT/TWD', 'USDT/TZS', 'USDT/UAH', 'USDT/UGX', 'USDT/USD', 'USDT/UYU', 'USDT/UZS', 'USDT/VES', 'USDT/VND', 'USDT/VUV', 'USDT/WST', 'USDT/XAF', 'USDT/XAG', 'USDT/XAU', 'USDT/XCD', 'USDT/XDR', 'USDT/XOF', 'USDT/XPD', 'USDT/XPF', 'USDT/XPT', 'USDT/YER', 'USDT/ZAR', 'USDT/ZMW', 'USDT/ZWL', 'FORTH/AED', 'FORTH/AFN', 'FORTH/ALL', 'FORTH/AMD', 'FORTH/ANG', 'FORTH/AOA', 'FORTH/ARS', 'FORTH/AUD', 'FORTH/AWG', 'FORTH/AZN', 'FORTH/BAM', 'FORTH/BBD', 'FORTH/BDT', 'FORTH/BGN', 'FORTH/BHD', 'FORTH/BIF', 'FORTH/BMD', 'FORTH/BND', 'FORTH/BOB', 'FORTH/BRL', 'FORTH/BSD', 'FORTH/BTN', 'FORTH/BWP', 'FORTH/BYN', 'FORTH/BYR', 'FORTH/BZD', 'FORTH/CAD', 'FORTH/CDF', 'FORTH/CHF', 'FORTH/CLF', 'FORTH/CLP', 'FORTH/CNH', 'FORTH/CNY', 'FORTH/COP', 'FORTH/CRC', 'FORTH/CUC', 'FORTH/CVE', 'FORTH/CZK', 'FORTH/DJF', 'FORTH/DKK', 'FORTH/DOP', 'FORTH/DZD', 'FORTH/EGP', 'FORTH/ERN', 'FORTH/ETB', 'FORTH/EUR', 'FORTH/FJD', 'FORTH/FKP', 'FORTH/GBP', 'FORTH/GBX', 'FORTH/GEL', 'FORTH/GGP', 'FORTH/GHS', 'FORTH/GIP', 'FORTH/GMD', 'FORTH/GNF', 'FORTH/GTQ', 'FORTH/GYD', 'FORTH/HKD', 'FORTH/HNL', 'FORTH/HRK', 'FORTH/HTG', 'FORTH/HUF', 'FORTH/IDR', 'FORTH/ILS', 'FORTH/IMP', 'FORTH/INR', 'FORTH/IQD', 'FORTH/ISK', 'FORTH/JEP', 'FORTH/JMD', 'FORTH/JOD', 'FORTH/JPY', 'FORTH/KES', 'FORTH/KGS', 'FORTH/KHR', 'FORTH/KMF', 'FORTH/KRW', 'FORTH/KWD', 'FORTH/KYD', 'FORTH/KZT', 'FORTH/LAK', 'FORTH/LBP', 'FORTH/LKR', 'FORTH/LRD', 'FORTH/LSL', 'FORTH/LYD', 'FORTH/MAD', 'FORTH/MDL', 'FORTH/MGA', 'FORTH/MKD', 'FORTH/MMK', 'FORTH/MNT', 'FORTH/MOP', 'FORTH/MRO', 'FORTH/MTL', 'FORTH/MUR', 'FORTH/MVR', 'FORTH/MWK', 'FORTH/MXN', 'FORTH/MYR', 'FORTH/MZN', 'FORTH/NAD', 'FORTH/NGN', 'FORTH/NIO', 'FORTH/NOK', 'FORTH/NPR', 'FORTH/NZD', 'FORTH/OMR', 'FORTH/PAB', 'FORTH/PEN', 'FORTH/PGK', 'FORTH/PHP', 'FORTH/PKR', 'FORTH/PLN', 'FORTH/PYG', 'FORTH/QAR', 'FORTH/RON', 'FORTH/RSD', 'FORTH/RUB', 'FORTH/RWF', 'FORTH/SAR', 'FORTH/SBD', 'FORTH/SCR', 'FORTH/SEK', 'FORTH/SGD', 'FORTH/SHP', 'FORTH/SLL', 'FORTH/SOS', 'FORTH/SRD', 'FORTH/SSP', 'FORTH/STD', 'FORTH/SVC', 'FORTH/SZL', 'FORTH/THB', 'FORTH/TJS', 'FORTH/TMM', 'FORTH/TMT', 'FORTH/TND', 'FORTH/TOP', 'FORTH/TRY', 'FORTH/TTD', 'FORTH/TWD', 'FORTH/TZS', 'FORTH/UAH', 'FORTH/UGX', 'FORTH/USD', 'FORTH/UYU', 'FORTH/UZS', 'FORTH/VES', 'FORTH/VND', 'FORTH/VUV', 'FORTH/WST', 'FORTH/XAF', 'FORTH/XAG', 'FORTH/XAU', 'FORTH/XCD', 'FORTH/XDR', 'FORTH/XOF', 'FORTH/XPD', 'FORTH/XPF', 'FORTH/XPT', 'FORTH/YER', 'FORTH/ZAR', 'FORTH/ZMW', 'FORTH/ZWL', 'CTSI/AED', 'CTSI/AFN', 'CTSI/ALL', 'CTSI/AMD', 'CTSI/ANG', 'CTSI/AOA', 'CTSI/ARS', 'CTSI/AUD', 'CTSI/AWG', 'CTSI/AZN', 'CTSI/BAM', 'CTSI/BBD', 'CTSI/BDT', 'CTSI/BGN', 'CTSI/BHD', 'CTSI/BIF', 'CTSI/BMD', 'CTSI/BND', 'CTSI/BOB', 'CTSI/BRL', 'CTSI/BSD', 'CTSI/BTN', 'CTSI/BWP', 'CTSI/BYN', 'CTSI/BYR', 'CTSI/BZD', 'CTSI/CAD', 'CTSI/CDF', 'CTSI/CHF', 'CTSI/CLF', 'CTSI/CLP', 'CTSI/CNH', 'CTSI/CNY', 'CTSI/COP', 'CTSI/CRC', 'CTSI/CUC', 'CTSI/CVE', 'CTSI/CZK', 'CTSI/DJF', 'CTSI/DKK', 'CTSI/DOP', 'CTSI/DZD', 'CTSI/EGP', 'CTSI/ERN', 'CTSI/ETB', 'CTSI/EUR', 'CTSI/FJD', 'CTSI/FKP', 'CTSI/GBP', 'CTSI/GBX', 'CTSI/GEL', 'CTSI/GGP', 'CTSI/GHS', 'CTSI/GIP', 'CTSI/GMD', 'CTSI/GNF', 'CTSI/GTQ', 'CTSI/GYD', 'CTSI/HKD', 'CTSI/HNL', 'CTSI/HRK', 'CTSI/HTG', 'CTSI/HUF', 'CTSI/IDR', 'CTSI/ILS', 'CTSI/IMP', 'CTSI/INR', 'CTSI/IQD', 'CTSI/ISK', 'CTSI/JEP', 'CTSI/JMD', 'CTSI/JOD', 'CTSI/JPY', 'CTSI/KES', 'CTSI/KGS', 'CTSI/KHR', 'CTSI/KMF', 'CTSI/KRW', 'CTSI/KWD', 'CTSI/KYD', 'CTSI/KZT', 'CTSI/LAK', 'CTSI/LBP', 'CTSI/LKR', 'CTSI/LRD', 'CTSI/LSL', 'CTSI/LYD', 'CTSI/MAD', 'CTSI/MDL', 'CTSI/MGA', 'CTSI/MKD', 'CTSI/MMK', 'CTSI/MNT', 'CTSI/MOP', 'CTSI/MRO', 'CTSI/MTL', 'CTSI/MUR', 'CTSI/MVR', 'CTSI/MWK', 'CTSI/MXN', 'CTSI/MYR', 'CTSI/MZN', 'CTSI/NAD', 'CTSI/NGN', 'CTSI/NIO', 'CTSI/NOK', 'CTSI/NPR', 'CTSI/NZD', 'CTSI/OMR', 'CTSI/PAB', 'CTSI/PEN', 'CTSI/PGK', 'CTSI/PHP', 'CTSI/PKR', 'CTSI/PLN', 'CTSI/PYG', 'CTSI/QAR', 'CTSI/RON', 'CTSI/RSD', 'CTSI/RUB', 'CTSI/RWF', 'CTSI/SAR', 'CTSI/SBD', 'CTSI/SCR', 'CTSI/SEK', 'CTSI/SGD', 'CTSI/SHP', 'CTSI/SLL', 'CTSI/SOS', 'CTSI/SRD', 'CTSI/SSP', 'CTSI/STD', 'CTSI/SVC', 'CTSI/SZL', 'CTSI/THB', 'CTSI/TJS', 'CTSI/TMM', 'CTSI/TMT', 'CTSI/TND', 'CTSI/TOP', 'CTSI/TRY', 'CTSI/TTD', 'CTSI/TWD', 'CTSI/TZS', 'CTSI/UAH', 'CTSI/UGX', 'CTSI/USD', 'CTSI/UYU', 'CTSI/UZS', 'CTSI/VES', 'CTSI/VND', 'CTSI/VUV', 'CTSI/WST', 'CTSI/XAF', 'CTSI/XAG', 'CTSI/XAU', 'CTSI/XCD', 'CTSI/XDR', 'CTSI/XOF', 'CTSI/XPD', 'CTSI/XPF', 'CTSI/XPT', 'CTSI/YER', 'CTSI/ZAR', 'CTSI/ZMW', 'CTSI/ZWL', 'TRB/AED', 'TRB/AFN', 'TRB/ALL', 'TRB/AMD', 'TRB/ANG', 'TRB/AOA', 'TRB/ARS', 'TRB/AUD', 'TRB/AWG', 'TRB/AZN', 'TRB/BAM', 'TRB/BBD', 'TRB/BDT', 'TRB/BGN', 'TRB/BHD', 'TRB/BIF', 'TRB/BMD', 'TRB/BND', 'TRB/BOB', 'TRB/BRL', 'TRB/BSD', 'TRB/BTN', 'TRB/BWP', 'TRB/BYN', 'TRB/BYR', 'TRB/BZD', 'TRB/CAD', 'TRB/CDF', 'TRB/CHF', 'TRB/CLF', 'TRB/CLP', 'TRB/CNH', 'TRB/CNY', 'TRB/COP', 'TRB/CRC', 'TRB/CUC', 'TRB/CVE', 'TRB/CZK', 'TRB/DJF', 'TRB/DKK', 'TRB/DOP', 'TRB/DZD', 'TRB/EGP', 'TRB/ERN', 'TRB/ETB', 'TRB/EUR', 'TRB/FJD', 'TRB/FKP', 'TRB/GBP', 'TRB/GBX', 'TRB/GEL', 'TRB/GGP', 'TRB/GHS', 'TRB/GIP', 'TRB/GMD', 'TRB/GNF', 'TRB/GTQ', 'TRB/GYD', 'TRB/HKD', 'TRB/HNL', 'TRB/HRK', 'TRB/HTG', 'TRB/HUF', 'TRB/IDR', 'TRB/ILS', 'TRB/IMP', 'TRB/INR', 'TRB/IQD', 'TRB/ISK', 'TRB/JEP', 'TRB/JMD', 'TRB/JOD', 'TRB/JPY', 'TRB/KES', 'TRB/KGS', 'TRB/KHR', 'TRB/KMF', 'TRB/KRW', 'TRB/KWD', 'TRB/KYD', 'TRB/KZT', 'TRB/LAK', 'TRB/LBP', 'TRB/LKR', 'TRB/LRD', 'TRB/LSL', 'TRB/LYD', 'TRB/MAD', 'TRB/MDL', 'TRB/MGA', 'TRB/MKD', 'TRB/MMK', 'TRB/MNT', 'TRB/MOP', 'TRB/MRO', 'TRB/MTL', 'TRB/MUR', 'TRB/MVR', 'TRB/MWK', 'TRB/MXN', 'TRB/MYR', 'TRB/MZN', 'TRB/NAD', 'TRB/NGN', 'TRB/NIO', 'TRB/NOK', 'TRB/NPR', 'TRB/NZD', 'TRB/OMR', 'TRB/PAB', 'TRB/PEN', 'TRB/PGK', 'TRB/PHP', 'TRB/PKR', 'TRB/PLN', 'TRB/PYG', 'TRB/QAR', 'TRB/RON', 'TRB/RSD', 'TRB/RUB', 'TRB/RWF', 'TRB/SAR', 'TRB/SBD', 'TRB/SCR', 'TRB/SEK', 'TRB/SGD', 'TRB/SHP', 'TRB/SLL', 'TRB/SOS', 'TRB/SRD', 'TRB/SSP', 'TRB/STD', 'TRB/SVC', 'TRB/SZL', 'TRB/THB', 'TRB/TJS', 'TRB/TMM', 'TRB/TMT', 'TRB/TND', 'TRB/TOP', 'TRB/TRY', 'TRB/TTD', 'TRB/TWD', 'TRB/TZS', 'TRB/UAH', 'TRB/UGX', 'TRB/USD', 'TRB/UYU', 'TRB/UZS', 'TRB/VES', 'TRB/VND', 'TRB/VUV', 'TRB/WST', 'TRB/XAF', 'TRB/XAG', 'TRB/XAU', 'TRB/XCD', 'TRB/XDR', 'TRB/XOF', 'TRB/XPD', 'TRB/XPF', 'TRB/XPT', 'TRB/YER', 'TRB/ZAR', 'TRB/ZMW', 'TRB/ZWL', 'POLY/AED', 'POLY/AFN', 'POLY/ALL', 'POLY/AMD', 'POLY/ANG', 'POLY/AOA', 'POLY/ARS', 'POLY/AUD', 'POLY/AWG', 'POLY/AZN', 'POLY/BAM', 'POLY/BBD', 'POLY/BDT', 'POLY/BGN', 'POLY/BHD', 'POLY/BIF', 'POLY/BMD', 'POLY/BND', 'POLY/BOB', 'POLY/BRL', 'POLY/BSD', 'POLY/BTN', 'POLY/BWP', 'POLY/BYN', 'POLY/BYR', 'POLY/BZD', 'POLY/CAD', 'POLY/CDF', 'POLY/CHF', 'POLY/CLF', 'POLY/CLP', 'POLY/CNH', 'POLY/CNY', 'POLY/COP', 'POLY/CRC', 'POLY/CUC', 'POLY/CVE', 'POLY/CZK', 'POLY/DJF', 'POLY/DKK', 'POLY/DOP', 'POLY/DZD', 'POLY/EGP', 'POLY/ERN', 'POLY/ETB', 'POLY/EUR', 'POLY/FJD', 'POLY/FKP', 'POLY/GBP', 'POLY/GBX', 'POLY/GEL', 'POLY/GGP', 'POLY/GHS', 'POLY/GIP', 'POLY/GMD', 'POLY/GNF', 'POLY/GTQ', 'POLY/GYD', 'POLY/HKD', 'POLY/HNL', 'POLY/HRK', 'POLY/HTG', 'POLY/HUF', 'POLY/IDR', 'POLY/ILS', 'POLY/IMP', 'POLY/INR', 'POLY/IQD', 'POLY/ISK', 'POLY/JEP', 'POLY/JMD', 'POLY/JOD', 'POLY/JPY', 'POLY/KES', 'POLY/KGS', 'POLY/KHR', 'POLY/KMF', 'POLY/KRW', 'POLY/KWD', 'POLY/KYD', 'POLY/KZT', 'POLY/LAK', 'POLY/LBP', 'POLY/LKR', 'POLY/LRD', 'POLY/LSL', 'POLY/LYD', 'POLY/MAD', 'POLY/MDL', 'POLY/MGA', 'POLY/MKD', 'POLY/MMK', 'POLY/MNT', 'POLY/MOP', 'POLY/MRO', 'POLY/MTL', 'POLY/MUR', 'POLY/MVR', 'POLY/MWK', 'POLY/MXN', 'POLY/MYR', 'POLY/MZN', 'POLY/NAD', 'POLY/NGN', 'POLY/NIO', 'POLY/NOK', 'POLY/NPR', 'POLY/NZD', 'POLY/OMR', 'POLY/PAB', 'POLY/PEN', 'POLY/PGK', 'POLY/PHP', 'POLY/PKR', 'POLY/PLN', 'POLY/PYG', 'POLY/QAR', 'POLY/RON', 'POLY/RSD', 'POLY/RUB', 'POLY/RWF', 'POLY/SAR', 'POLY/SBD', 'POLY/SCR', 'POLY/SEK', 'POLY/SGD', 'POLY/SHP', 'POLY/SLL', 'POLY/SOS', 'POLY/SRD', 'POLY/SSP', 'POLY/STD', 'POLY/SVC', 'POLY/SZL', 'POLY/THB', 'POLY/TJS', 'POLY/TMM', 'POLY/TMT', 'POLY/TND', 'POLY/TOP', 'POLY/TRY', 'POLY/TTD', 'POLY/TWD', 'POLY/TZS', 'POLY/UAH', 'POLY/UGX', 'POLY/USD', 'POLY/UYU', 'POLY/UZS', 'POLY/VES', 'POLY/VND', 'POLY/VUV', 'POLY/WST', 'POLY/XAF', 'POLY/XAG', 'POLY/XAU', 'POLY/XCD', 'POLY/XDR', 'POLY/XOF', 'POLY/XPD', 'POLY/XPF', 'POLY/XPT', 'POLY/YER', 'POLY/ZAR', 'POLY/ZMW', 'POLY/ZWL', 'MIR/AED', 'MIR/AFN', 'MIR/ALL', 'MIR/AMD', 'MIR/ANG', 'MIR/AOA', 'MIR/ARS', 'MIR/AUD', 'MIR/AWG', 'MIR/AZN', 'MIR/BAM', 'MIR/BBD', 'MIR/BDT', 'MIR/BGN', 'MIR/BHD', 'MIR/BIF', 'MIR/BMD', 'MIR/BND', 'MIR/BOB', 'MIR/BRL', 'MIR/BSD', 'MIR/BTN', 'MIR/BWP', 'MIR/BYN', 'MIR/BYR', 'MIR/BZD', 'MIR/CAD', 'MIR/CDF', 'MIR/CHF', 'MIR/CLF', 'MIR/CLP', 'MIR/CNH', 'MIR/CNY', 'MIR/COP', 'MIR/CRC', 'MIR/CUC', 'MIR/CVE', 'MIR/CZK', 'MIR/DJF', 'MIR/DKK', 'MIR/DOP', 'MIR/DZD', 'MIR/EGP', 'MIR/ERN', 'MIR/ETB', 'MIR/EUR', 'MIR/FJD', 'MIR/FKP', 'MIR/GBP', 'MIR/GBX', 'MIR/GEL', 'MIR/GGP', 'MIR/GHS', 'MIR/GIP', 'MIR/GMD', 'MIR/GNF', 'MIR/GTQ', 'MIR/GYD', 'MIR/HKD', 'MIR/HNL', 'MIR/HRK', 'MIR/HTG', 'MIR/HUF', 'MIR/IDR', 'MIR/ILS', 'MIR/IMP', 'MIR/INR', 'MIR/IQD', 'MIR/ISK', 'MIR/JEP', 'MIR/JMD', 'MIR/JOD', 'MIR/JPY', 'MIR/KES', 'MIR/KGS', 'MIR/KHR', 'MIR/KMF', 'MIR/KRW', 'MIR/KWD', 'MIR/KYD', 'MIR/KZT', 'MIR/LAK', 'MIR/LBP', 'MIR/LKR', 'MIR/LRD', 'MIR/LSL', 'MIR/LYD', 'MIR/MAD', 'MIR/MDL', 'MIR/MGA', 'MIR/MKD', 'MIR/MMK', 'MIR/MNT', 'MIR/MOP', 'MIR/MRO', 'MIR/MTL', 'MIR/MUR', 'MIR/MVR', 'MIR/MWK', 'MIR/MXN', 'MIR/MYR', 'MIR/MZN', 'MIR/NAD', 'MIR/NGN', 'MIR/NIO', 'MIR/NOK', 'MIR/NPR', 'MIR/NZD', 'MIR/OMR', 'MIR/PAB', 'MIR/PEN', 'MIR/PGK', 'MIR/PHP', 'MIR/PKR', 'MIR/PLN', 'MIR/PYG', 'MIR/QAR', 'MIR/RON', 'MIR/RSD', 'MIR/RUB', 'MIR/RWF', 'MIR/SAR', 'MIR/SBD', 'MIR/SCR', 'MIR/SEK', 'MIR/SGD', 'MIR/SHP', 'MIR/SLL', 'MIR/SOS', 'MIR/SRD', 'MIR/SSP', 'MIR/STD', 'MIR/SVC', 'MIR/SZL', 'MIR/THB', 'MIR/TJS', 'MIR/TMM', 'MIR/TMT', 'MIR/TND', 'MIR/TOP', 'MIR/TRY', 'MIR/TTD', 'MIR/TWD', 'MIR/TZS', 'MIR/UAH', 'MIR/UGX', 'MIR/USD', 'MIR/UYU', 'MIR/UZS', 'MIR/VES', 'MIR/VND', 'MIR/VUV', 'MIR/WST', 'MIR/XAF', 'MIR/XAG', 'MIR/XAU', 'MIR/XCD', 'MIR/XDR', 'MIR/XOF', 'MIR/XPD', 'MIR/XPF', 'MIR/XPT', 'MIR/YER', 'MIR/ZAR', 'MIR/ZMW', 'MIR/ZWL', 'RLC/AED', 'RLC/AFN', 'RLC/ALL', 'RLC/AMD', 'RLC/ANG', 'RLC/AOA', 'RLC/ARS', 'RLC/AUD', 'RLC/AWG', 'RLC/AZN', 'RLC/BAM', 'RLC/BBD', 'RLC/BDT', 'RLC/BGN', 'RLC/BHD', 'RLC/BIF', 'RLC/BMD', 'RLC/BND', 'RLC/BOB', 'RLC/BRL', 'RLC/BSD', 'RLC/BTN', 'RLC/BWP', 'RLC/BYN', 'RLC/BYR', 'RLC/BZD', 'RLC/CAD', 'RLC/CDF', 'RLC/CHF', 'RLC/CLF', 'RLC/CLP', 'RLC/CNH', 'RLC/CNY', 'RLC/COP', 'RLC/CRC', 'RLC/CUC', 'RLC/CVE', 'RLC/CZK', 'RLC/DJF', 'RLC/DKK', 'RLC/DOP', 'RLC/DZD', 'RLC/EGP', 'RLC/ERN', 'RLC/ETB', 'RLC/EUR', 'RLC/FJD', 'RLC/FKP', 'RLC/GBP', 'RLC/GBX', 'RLC/GEL', 'RLC/GGP', 'RLC/GHS', 'RLC/GIP', 'RLC/GMD', 'RLC/GNF', 'RLC/GTQ', 'RLC/GYD', 'RLC/HKD', 'RLC/HNL', 'RLC/HRK', 'RLC/HTG', 'RLC/HUF', 'RLC/IDR', 'RLC/ILS', 'RLC/IMP', 'RLC/INR', 'RLC/IQD', 'RLC/ISK', 'RLC/JEP', 'RLC/JMD', 'RLC/JOD', 'RLC/JPY', 'RLC/KES', 'RLC/KGS', 'RLC/KHR', 'RLC/KMF', 'RLC/KRW', 'RLC/KWD', 'RLC/KYD', 'RLC/KZT', 'RLC/LAK', 'RLC/LBP', 'RLC/LKR', 'RLC/LRD', 'RLC/LSL', 'RLC/LYD', 'RLC/MAD', 'RLC/MDL', 'RLC/MGA', 'RLC/MKD', 'RLC/MMK', 'RLC/MNT', 'RLC/MOP', 'RLC/MRO', 'RLC/MTL', 'RLC/MUR', 'RLC/MVR', 'RLC/MWK', 'RLC/MXN', 'RLC/MYR', 'RLC/MZN', 'RLC/NAD', 'RLC/NGN', 'RLC/NIO', 'RLC/NOK', 'RLC/NPR', 'RLC/NZD', 'RLC/OMR', 'RLC/PAB', 'RLC/PEN', 'RLC/PGK', 'RLC/PHP', 'RLC/PKR', 'RLC/PLN', 'RLC/PYG', 'RLC/QAR', 'RLC/RON', 'RLC/RSD', 'RLC/RUB', 'RLC/RWF', 'RLC/SAR', 'RLC/SBD', 'RLC/SCR', 'RLC/SEK', 'RLC/SGD', 'RLC/SHP', 'RLC/SLL', 'RLC/SOS', 'RLC/SRD', 'RLC/SSP', 'RLC/STD', 'RLC/SVC', 'RLC/SZL', 'RLC/THB', 'RLC/TJS', 'RLC/TMM', 'RLC/TMT', 'RLC/TND', 'RLC/TOP', 'RLC/TRY', 'RLC/TTD', 'RLC/TWD', 'RLC/TZS', 'RLC/UAH', 'RLC/UGX', 'RLC/USD', 'RLC/UYU', 'RLC/UZS', 'RLC/VES', 'RLC/VND', 'RLC/VUV', 'RLC/WST', 'RLC/XAF', 'RLC/XAG', 'RLC/XAU', 'RLC/XCD', 'RLC/XDR', 'RLC/XOF', 'RLC/XPD', 'RLC/XPF', 'RLC/XPT', 'RLC/YER', 'RLC/ZAR', 'RLC/ZMW', 'RLC/ZWL', 'DOT/AED', 'DOT/AFN', 'DOT/ALL', 'DOT/AMD', 'DOT/ANG', 'DOT/AOA', 'DOT/ARS', 'DOT/AUD', 'DOT/AWG', 'DOT/AZN', 'DOT/BAM', 'DOT/BBD', 'DOT/BDT', 'DOT/BGN', 'DOT/BHD', 'DOT/BIF', 'DOT/BMD', 'DOT/BND', 'DOT/BOB', 'DOT/BRL', 'DOT/BSD', 'DOT/BTN', 'DOT/BWP', 'DOT/BYN', 'DOT/BYR', 'DOT/BZD', 'DOT/CAD', 'DOT/CDF', 'DOT/CHF', 'DOT/CLF', 'DOT/CLP', 'DOT/CNH', 'DOT/CNY', 'DOT/COP', 'DOT/CRC', 'DOT/CUC', 'DOT/CVE', 'DOT/CZK', 'DOT/DJF', 'DOT/DKK', 'DOT/DOP', 'DOT/DZD', 'DOT/EGP', 'DOT/ERN', 'DOT/ETB', 'DOT/EUR', 'DOT/FJD', 'DOT/FKP', 'DOT/GBP', 'DOT/GBX', 'DOT/GEL', 'DOT/GGP', 'DOT/GHS', 'DOT/GIP', 'DOT/GMD', 'DOT/GNF', 'DOT/GTQ', 'DOT/GYD', 'DOT/HKD', 'DOT/HNL', 'DOT/HRK', 'DOT/HTG', 'DOT/HUF', 'DOT/IDR', 'DOT/ILS', 'DOT/IMP', 'DOT/INR', 'DOT/IQD', 'DOT/ISK', 'DOT/JEP', 'DOT/JMD', 'DOT/JOD', 'DOT/JPY', 'DOT/KES', 'DOT/KGS', 'DOT/KHR', 'DOT/KMF', 'DOT/KRW', 'DOT/KWD', 'DOT/KYD', 'DOT/KZT', 'DOT/LAK', 'DOT/LBP', 'DOT/LKR', 'DOT/LRD', 'DOT/LSL', 'DOT/LYD', 'DOT/MAD', 'DOT/MDL', 'DOT/MGA', 'DOT/MKD', 'DOT/MMK', 'DOT/MNT', 'DOT/MOP', 'DOT/MRO', 'DOT/MTL', 'DOT/MUR', 'DOT/MVR', 'DOT/MWK', 'DOT/MXN', 'DOT/MYR', 'DOT/MZN', 'DOT/NAD', 'DOT/NGN', 'DOT/NIO', 'DOT/NOK', 'DOT/NPR', 'DOT/NZD', 'DOT/OMR', 'DOT/PAB', 'DOT/PEN', 'DOT/PGK', 'DOT/PHP', 'DOT/PKR', 'DOT/PLN', 'DOT/PYG', 'DOT/QAR', 'DOT/RON', 'DOT/RSD', 'DOT/RUB', 'DOT/RWF', 'DOT/SAR', 'DOT/SBD', 'DOT/SCR', 'DOT/SEK', 'DOT/SGD', 'DOT/SHP', 'DOT/SLL', 'DOT/SOS', 'DOT/SRD', 'DOT/SSP', 'DOT/STD', 'DOT/SVC', 'DOT/SZL', 'DOT/THB', 'DOT/TJS', 'DOT/TMM', 'DOT/TMT', 'DOT/TND', 'DOT/TOP', 'DOT/TRY', 'DOT/TTD', 'DOT/TWD', 'DOT/TZS', 'DOT/UAH', 'DOT/UGX', 'DOT/USD', 'DOT/UYU', 'DOT/UZS', 'DOT/VES', 'DOT/VND', 'DOT/VUV', 'DOT/WST', 'DOT/XAF', 'DOT/XAG', 'DOT/XAU', 'DOT/XCD', 'DOT/XDR', 'DOT/XOF', 'DOT/XPD', 'DOT/XPF', 'DOT/XPT', 'DOT/YER', 'DOT/ZAR', 'DOT/ZMW', 'DOT/ZWL', 'SOL/AED', 'SOL/AFN', 'SOL/ALL', 'SOL/AMD', 'SOL/ANG', 'SOL/AOA', 'SOL/ARS', 'SOL/AUD', 'SOL/AWG', 'SOL/AZN', 'SOL/BAM', 'SOL/BBD', 'SOL/BDT', 'SOL/BGN', 'SOL/BHD', 'SOL/BIF', 'SOL/BMD', 'SOL/BND', 'SOL/BOB', 'SOL/BRL', 'SOL/BSD', 'SOL/BTN', 'SOL/BWP', 'SOL/BYN', 'SOL/BYR', 'SOL/BZD', 'SOL/CAD', 'SOL/CDF', 'SOL/CHF', 'SOL/CLF', 'SOL/CLP', 'SOL/CNH', 'SOL/CNY', 'SOL/COP', 'SOL/CRC', 'SOL/CUC', 'SOL/CVE', 'SOL/CZK', 'SOL/DJF', 'SOL/DKK', 'SOL/DOP', 'SOL/DZD', 'SOL/EGP', 'SOL/ERN', 'SOL/ETB', 'SOL/EUR', 'SOL/FJD', 'SOL/FKP', 'SOL/GBP', 'SOL/GBX', 'SOL/GEL', 'SOL/GGP', 'SOL/GHS', 'SOL/GIP', 'SOL/GMD', 'SOL/GNF', 'SOL/GTQ', 'SOL/GYD', 'SOL/HKD', 'SOL/HNL', 'SOL/HRK', 'SOL/HTG', 'SOL/HUF', 'SOL/IDR', 'SOL/ILS', 'SOL/IMP', 'SOL/INR', 'SOL/IQD', 'SOL/ISK', 'SOL/JEP', 'SOL/JMD', 'SOL/JOD', 'SOL/JPY', 'SOL/KES', 'SOL/KGS', 'SOL/KHR', 'SOL/KMF', 'SOL/KRW', 'SOL/KWD', 'SOL/KYD', 'SOL/KZT', 'SOL/LAK', 'SOL/LBP', 'SOL/LKR', 'SOL/LRD', 'SOL/LSL', 'SOL/LYD', 'SOL/MAD', 'SOL/MDL', 'SOL/MGA', 'SOL/MKD', 'SOL/MMK', 'SOL/MNT', 'SOL/MOP', 'SOL/MRO', 'SOL/MTL', 'SOL/MUR', 'SOL/MVR', 'SOL/MWK', 'SOL/MXN', 'SOL/MYR', 'SOL/MZN', 'SOL/NAD', 'SOL/NGN', 'SOL/NIO', 'SOL/NOK', 'SOL/NPR', 'SOL/NZD', 'SOL/OMR', 'SOL/PAB', 'SOL/PEN', 'SOL/PGK', 'SOL/PHP', 'SOL/PKR', 'SOL/PLN', 'SOL/PYG', 'SOL/QAR', 'SOL/RON', 'SOL/RSD', 'SOL/RUB', 'SOL/RWF', 'SOL/SAR', 'SOL/SBD', 'SOL/SCR', 'SOL/SEK', 'SOL/SGD', 'SOL/SHP', 'SOL/SLL', 'SOL/SOS', 'SOL/SRD', 'SOL/SSP', 'SOL/STD', 'SOL/SVC', 'SOL/SZL', 'SOL/THB', 'SOL/TJS', 'SOL/TMM', 'SOL/TMT', 'SOL/TND', 'SOL/TOP', 'SOL/TRY', 'SOL/TTD', 'SOL/TWD', 'SOL/TZS', 'SOL/UAH', 'SOL/UGX', 'SOL/USD', 'SOL/UYU', 'SOL/UZS', 'SOL/VES', 'SOL/VND', 'SOL/VUV', 'SOL/WST', 'SOL/XAF', 'SOL/XAG', 'SOL/XAU', 'SOL/XCD', 'SOL/XDR', 'SOL/XOF', 'SOL/XPD', 'SOL/XPF', 'SOL/XPT', 'SOL/YER', 'SOL/ZAR', 'SOL/ZMW', 'SOL/ZWL', 'DOGE/AED', 'DOGE/AFN', 'DOGE/ALL', 'DOGE/AMD', 'DOGE/ANG', 'DOGE/AOA', 'DOGE/ARS', 'DOGE/AUD', 'DOGE/AWG', 'DOGE/AZN', 'DOGE/BAM', 'DOGE/BBD', 'DOGE/BDT', 'DOGE/BGN', 'DOGE/BHD', 'DOGE/BIF', 'DOGE/BMD', 'DOGE/BND', 'DOGE/BOB', 'DOGE/BRL', 'DOGE/BSD', 'DOGE/BTN', 'DOGE/BWP', 'DOGE/BYN', 'DOGE/BYR', 'DOGE/BZD', 'DOGE/CAD', 'DOGE/CDF', 'DOGE/CHF', 'DOGE/CLF', 'DOGE/CLP', 'DOGE/CNH', 'DOGE/CNY', 'DOGE/COP', 'DOGE/CRC', 'DOGE/CUC', 'DOGE/CVE', 'DOGE/CZK', 'DOGE/DJF', 'DOGE/DKK', 'DOGE/DOP', 'DOGE/DZD', 'DOGE/EGP', 'DOGE/ERN', 'DOGE/ETB', 'DOGE/EUR', 'DOGE/FJD', 'DOGE/FKP', 'DOGE/GBP', 'DOGE/GBX', 'DOGE/GEL', 'DOGE/GGP', 'DOGE/GHS', 'DOGE/GIP', 'DOGE/GMD', 'DOGE/GNF', 'DOGE/GTQ', 'DOGE/GYD', 'DOGE/HKD', 'DOGE/HNL', 'DOGE/HRK', 'DOGE/HTG', 'DOGE/HUF', 'DOGE/IDR', 'DOGE/ILS', 'DOGE/IMP', 'DOGE/INR', 'DOGE/IQD', 'DOGE/ISK', 'DOGE/JEP', 'DOGE/JMD', 'DOGE/JOD', 'DOGE/JPY', 'DOGE/KES', 'DOGE/KGS', 'DOGE/KHR', 'DOGE/KMF', 'DOGE/KRW', 'DOGE/KWD', 'DOGE/KYD', 'DOGE/KZT', 'DOGE/LAK', 'DOGE/LBP', 'DOGE/LKR', 'DOGE/LRD', 'DOGE/LSL', 'DOGE/LYD', 'DOGE/MAD', 'DOGE/MDL', 'DOGE/MGA', 'DOGE/MKD', 'DOGE/MMK', 'DOGE/MNT', 'DOGE/MOP', 'DOGE/MRO', 'DOGE/MTL', 'DOGE/MUR', 'DOGE/MVR', 'DOGE/MWK', 'DOGE/MXN', 'DOGE/MYR', 'DOGE/MZN', 'DOGE/NAD', 'DOGE/NGN', 'DOGE/NIO', 'DOGE/NOK', 'DOGE/NPR', 'DOGE/NZD', 'DOGE/OMR', 'DOGE/PAB', 'DOGE/PEN', 'DOGE/PGK', 'DOGE/PHP', 'DOGE/PKR', 'DOGE/PLN', 'DOGE/PYG', 'DOGE/QAR', 'DOGE/RON', 'DOGE/RSD', 'DOGE/RUB', 'DOGE/RWF', 'DOGE/SAR', 'DOGE/SBD', 'DOGE/SCR', 'DOGE/SEK', 'DOGE/SGD', 'DOGE/SHP', 'DOGE/SLL', 'DOGE/SOS', 'DOGE/SRD', 'DOGE/SSP', 'DOGE/STD', 'DOGE/SVC', 'DOGE/SZL', 'DOGE/THB', 'DOGE/TJS', 'DOGE/TMM', 'DOGE/TMT', 'DOGE/TND', 'DOGE/TOP', 'DOGE/TRY', 'DOGE/TTD', 'DOGE/TWD', 'DOGE/TZS', 'DOGE/UAH', 'DOGE/UGX', 'DOGE/USD', 'DOGE/UYU', 'DOGE/UZS', 'DOGE/VES', 'DOGE/VND', 'DOGE/VUV', 'DOGE/WST', 'DOGE/XAF', 'DOGE/XAG', 'DOGE/XAU', 'DOGE/XCD', 'DOGE/XDR', 'DOGE/XOF', 'DOGE/XPD', 'DOGE/XPF', 'DOGE/XPT', 'DOGE/YER', 'DOGE/ZAR', 'DOGE/ZMW', 'DOGE/ZWL', 'MLN/AED', 'MLN/AFN', 'MLN/ALL', 'MLN/AMD', 'MLN/ANG', 'MLN/AOA', 'MLN/ARS', 'MLN/AUD', 'MLN/AWG', 'MLN/AZN', 'MLN/BAM', 'MLN/BBD', 'MLN/BDT', 'MLN/BGN', 'MLN/BHD', 'MLN/BIF', 'MLN/BMD', 'MLN/BND', 'MLN/BOB', 'MLN/BRL', 'MLN/BSD', 'MLN/BTN', 'MLN/BWP', 'MLN/BYN', 'MLN/BYR', 'MLN/BZD', 'MLN/CAD', 'MLN/CDF', 'MLN/CHF', 'MLN/CLF', 'MLN/CLP', 'MLN/CNH', 'MLN/CNY', 'MLN/COP', 'MLN/CRC', 'MLN/CUC', 'MLN/CVE', 'MLN/CZK', 'MLN/DJF', 'MLN/DKK', 'MLN/DOP', 'MLN/DZD', 'MLN/EGP', 'MLN/ERN', 'MLN/ETB', 'MLN/EUR', 'MLN/FJD', 'MLN/FKP', 'MLN/GBP', 'MLN/GBX', 'MLN/GEL', 'MLN/GGP', 'MLN/GHS', 'MLN/GIP', 'MLN/GMD', 'MLN/GNF', 'MLN/GTQ', 'MLN/GYD', 'MLN/HKD', 'MLN/HNL', 'MLN/HRK', 'MLN/HTG', 'MLN/HUF', 'MLN/IDR', 'MLN/ILS', 'MLN/IMP', 'MLN/INR', 'MLN/IQD', 'MLN/ISK', 'MLN/JEP', 'MLN/JMD', 'MLN/JOD', 'MLN/JPY', 'MLN/KES', 'MLN/KGS', 'MLN/KHR', 'MLN/KMF', 'MLN/KRW', 'MLN/KWD', 'MLN/KYD', 'MLN/KZT', 'MLN/LAK', 'MLN/LBP', 'MLN/LKR', 'MLN/LRD', 'MLN/LSL', 'MLN/LYD', 'MLN/MAD', 'MLN/MDL', 'MLN/MGA', 'MLN/MKD', 'MLN/MMK', 'MLN/MNT', 'MLN/MOP', 'MLN/MRO', 'MLN/MTL', 'MLN/MUR', 'MLN/MVR', 'MLN/MWK', 'MLN/MXN', 'MLN/MYR', 'MLN/MZN', 'MLN/NAD', 'MLN/NGN', 'MLN/NIO', 'MLN/NOK', 'MLN/NPR', 'MLN/NZD', 'MLN/OMR', 'MLN/PAB', 'MLN/PEN', 'MLN/PGK', 'MLN/PHP', 'MLN/PKR', 'MLN/PLN', 'MLN/PYG', 'MLN/QAR', 'MLN/RON', 'MLN/RSD', 'MLN/RUB', 'MLN/RWF', 'MLN/SAR', 'MLN/SBD', 'MLN/SCR', 'MLN/SEK', 'MLN/SGD', 'MLN/SHP', 'MLN/SLL', 'MLN/SOS', 'MLN/SRD', 'MLN/SSP', 'MLN/STD', 'MLN/SVC', 'MLN/SZL', 'MLN/THB', 'MLN/TJS', 'MLN/TMM', 'MLN/TMT', 'MLN/TND', 'MLN/TOP', 'MLN/TRY', 'MLN/TTD', 'MLN/TWD', 'MLN/TZS', 'MLN/UAH', 'MLN/UGX', 'MLN/USD', 'MLN/UYU', 'MLN/UZS', 'MLN/VES', 'MLN/VND', 'MLN/VUV', 'MLN/WST', 'MLN/XAF', 'MLN/XAG', 'MLN/XAU', 'MLN/XCD', 'MLN/XDR', 'MLN/XOF', 'MLN/XPD', 'MLN/XPF', 'MLN/XPT', 'MLN/YER', 'MLN/ZAR', 'MLN/ZMW', 'MLN/ZWL', 'GTC/AED', 'GTC/AFN', 'GTC/ALL', 'GTC/AMD', 'GTC/ANG', 'GTC/AOA', 'GTC/ARS', 'GTC/AUD', 'GTC/AWG', 'GTC/AZN', 'GTC/BAM', 'GTC/BBD', 'GTC/BDT', 'GTC/BGN', 'GTC/BHD', 'GTC/BIF', 'GTC/BMD', 'GTC/BND', 'GTC/BOB', 'GTC/BRL', 'GTC/BSD', 'GTC/BTN', 'GTC/BWP', 'GTC/BYN', 'GTC/BYR', 'GTC/BZD', 'GTC/CAD', 'GTC/CDF', 'GTC/CHF', 'GTC/CLF', 'GTC/CLP', 'GTC/CNH', 'GTC/CNY', 'GTC/COP', 'GTC/CRC', 'GTC/CUC', 'GTC/CVE', 'GTC/CZK', 'GTC/DJF', 'GTC/DKK', 'GTC/DOP', 'GTC/DZD', 'GTC/EGP', 'GTC/ERN', 'GTC/ETB', 'GTC/EUR', 'GTC/FJD', 'GTC/FKP', 'GTC/GBP', 'GTC/GBX', 'GTC/GEL', 'GTC/GGP', 'GTC/GHS', 'GTC/GIP', 'GTC/GMD', 'GTC/GNF', 'GTC/GTQ', 'GTC/GYD', 'GTC/HKD', 'GTC/HNL', 'GTC/HRK', 'GTC/HTG', 'GTC/HUF', 'GTC/IDR', 'GTC/ILS', 'GTC/IMP', 'GTC/INR', 'GTC/IQD', 'GTC/ISK', 'GTC/JEP', 'GTC/JMD', 'GTC/JOD', 'GTC/JPY', 'GTC/KES', 'GTC/KGS', 'GTC/KHR', 'GTC/KMF', 'GTC/KRW', 'GTC/KWD', 'GTC/KYD', 'GTC/KZT', 'GTC/LAK', 'GTC/LBP', 'GTC/LKR', 'GTC/LRD', 'GTC/LSL', 'GTC/LYD', 'GTC/MAD', 'GTC/MDL', 'GTC/MGA', 'GTC/MKD', 'GTC/MMK', 'GTC/MNT', 'GTC/MOP', 'GTC/MRO', 'GTC/MTL', 'GTC/MUR', 'GTC/MVR', 'GTC/MWK', 'GTC/MXN', 'GTC/MYR', 'GTC/MZN', 'GTC/NAD', 'GTC/NGN', 'GTC/NIO', 'GTC/NOK', 'GTC/NPR', 'GTC/NZD', 'GTC/OMR', 'GTC/PAB', 'GTC/PEN', 'GTC/PGK', 'GTC/PHP', 'GTC/PKR', 'GTC/PLN', 'GTC/PYG', 'GTC/QAR', 'GTC/RON', 'GTC/RSD', 'GTC/RUB', 'GTC/RWF', 'GTC/SAR', 'GTC/SBD', 'GTC/SCR', 'GTC/SEK', 'GTC/SGD', 'GTC/SHP', 'GTC/SLL', 'GTC/SOS', 'GTC/SRD', 'GTC/SSP', 'GTC/STD', 'GTC/SVC', 'GTC/SZL', 'GTC/THB', 'GTC/TJS', 'GTC/TMM', 'GTC/TMT', 'GTC/TND', 'GTC/TOP', 'GTC/TRY', 'GTC/TTD', 'GTC/TWD', 'GTC/TZS', 'GTC/UAH', 'GTC/UGX', 'GTC/USD', 'GTC/UYU', 'GTC/UZS', 'GTC/VES', 'GTC/VND', 'GTC/VUV', 'GTC/WST', 'GTC/XAF', 'GTC/XAG', 'GTC/XAU', 'GTC/XCD', 'GTC/XDR', 'GTC/XOF', 'GTC/XPD', 'GTC/XPF', 'GTC/XPT', 'GTC/YER', 'GTC/ZAR', 'GTC/ZMW', 'GTC/ZWL', 'AMP/AED', 'AMP/AFN', 'AMP/ALL', 'AMP/AMD', 'AMP/ANG', 'AMP/AOA', 'AMP/ARS', 'AMP/AUD', 'AMP/AWG', 'AMP/AZN', 'AMP/BAM', 'AMP/BBD', 'AMP/BDT', 'AMP/BGN', 'AMP/BHD', 'AMP/BIF', 'AMP/BMD', 'AMP/BND', 'AMP/BOB', 'AMP/BRL', 'AMP/BSD', 'AMP/BTN', 'AMP/BWP', 'AMP/BYN', 'AMP/BYR', 'AMP/BZD', 'AMP/CAD', 'AMP/CDF', 'AMP/CHF', 'AMP/CLF', 'AMP/CLP', 'AMP/CNH', 'AMP/CNY', 'AMP/COP', 'AMP/CRC', 'AMP/CUC', 'AMP/CVE', 'AMP/CZK', 'AMP/DJF', 'AMP/DKK', 'AMP/DOP', 'AMP/DZD', 'AMP/EGP', 'AMP/ERN', 'AMP/ETB', 'AMP/EUR', 'AMP/FJD', 'AMP/FKP', 'AMP/GBP', 'AMP/GBX', 'AMP/GEL', 'AMP/GGP', 'AMP/GHS', 'AMP/GIP', 'AMP/GMD', 'AMP/GNF', 'AMP/GTQ', 'AMP/GYD', 'AMP/HKD', 'AMP/HNL', 'AMP/HRK', 'AMP/HTG', 'AMP/HUF', 'AMP/IDR', 'AMP/ILS', 'AMP/IMP', 'AMP/INR', 'AMP/IQD', 'AMP/ISK', 'AMP/JEP', 'AMP/JMD', 'AMP/JOD', 'AMP/JPY', 'AMP/KES', 'AMP/KGS', 'AMP/KHR', 'AMP/KMF', 'AMP/KRW', 'AMP/KWD', 'AMP/KYD', 'AMP/KZT', 'AMP/LAK', 'AMP/LBP', 'AMP/LKR', 'AMP/LRD', 'AMP/LSL', 'AMP/LYD', 'AMP/MAD', 'AMP/MDL', 'AMP/MGA', 'AMP/MKD', 'AMP/MMK', 'AMP/MNT', 'AMP/MOP', 'AMP/MRO', 'AMP/MTL', 'AMP/MUR', 'AMP/MVR', 'AMP/MWK', 'AMP/MXN', 'AMP/MYR', 'AMP/MZN', 'AMP/NAD', 'AMP/NGN', 'AMP/NIO', 'AMP/NOK', 'AMP/NPR', 'AMP/NZD', 'AMP/OMR', 'AMP/PAB', 'AMP/PEN', 'AMP/PGK', 'AMP/PHP', 'AMP/PKR', 'AMP/PLN', 'AMP/PYG', 'AMP/QAR', 'AMP/RON', 'AMP/RSD', 'AMP/RUB', 'AMP/RWF', 'AMP/SAR', 'AMP/SBD', 'AMP/SCR', 'AMP/SEK', 'AMP/SGD', 'AMP/SHP', 'AMP/SLL', 'AMP/SOS', 'AMP/SRD', 'AMP/SSP', 'AMP/STD', 'AMP/SVC', 'AMP/SZL', 'AMP/THB', 'AMP/TJS', 'AMP/TMM', 'AMP/TMT', 'AMP/TND', 'AMP/TOP', 'AMP/TRY', 'AMP/TTD', 'AMP/TWD', 'AMP/TZS', 'AMP/UAH', 'AMP/UGX', 'AMP/USD', 'AMP/UYU', 'AMP/UZS', 'AMP/VES', 'AMP/VND', 'AMP/VUV', 'AMP/WST', 'AMP/XAF', 'AMP/XAG', 'AMP/XAU', 'AMP/XCD', 'AMP/XDR', 'AMP/XOF', 'AMP/XPD', 'AMP/XPF', 'AMP/XPT', 'AMP/YER', 'AMP/ZAR', 'AMP/ZMW', 'AMP/ZWL', 'CHZ/AED', 'CHZ/AFN', 'CHZ/ALL', 'CHZ/AMD', 'CHZ/ANG', 'CHZ/AOA', 'CHZ/ARS', 'CHZ/AUD', 'CHZ/AWG', 'CHZ/AZN', 'CHZ/BAM', 'CHZ/BBD', 'CHZ/BDT', 'CHZ/BGN', 'CHZ/BHD', 'CHZ/BIF', 'CHZ/BMD', 'CHZ/BND', 'CHZ/BOB', 'CHZ/BRL', 'CHZ/BSD', 'CHZ/BTN', 'CHZ/BWP', 'CHZ/BYN', 'CHZ/BYR', 'CHZ/BZD', 'CHZ/CAD', 'CHZ/CDF', 'CHZ/CHF', 'CHZ/CLF', 'CHZ/CLP', 'CHZ/CNH', 'CHZ/CNY', 'CHZ/COP', 'CHZ/CRC', 'CHZ/CUC', 'CHZ/CVE', 'CHZ/CZK', 'CHZ/DJF', 'CHZ/DKK', 'CHZ/DOP', 'CHZ/DZD', 'CHZ/EGP', 'CHZ/ERN', 'CHZ/ETB', 'CHZ/EUR', 'CHZ/FJD', 'CHZ/FKP', 'CHZ/GBP', 'CHZ/GBX', 'CHZ/GEL', 'CHZ/GGP', 'CHZ/GHS', 'CHZ/GIP', 'CHZ/GMD', 'CHZ/GNF', 'CHZ/GTQ', 'CHZ/GYD', 'CHZ/HKD', 'CHZ/HNL', 'CHZ/HRK', 'CHZ/HTG', 'CHZ/HUF', 'CHZ/IDR', 'CHZ/ILS', 'CHZ/IMP', 'CHZ/INR', 'CHZ/IQD', 'CHZ/ISK', 'CHZ/JEP', 'CHZ/JMD', 'CHZ/JOD', 'CHZ/JPY', 'CHZ/KES', 'CHZ/KGS', 'CHZ/KHR', 'CHZ/KMF', 'CHZ/KRW', 'CHZ/KWD', 'CHZ/KYD', 'CHZ/KZT', 'CHZ/LAK', 'CHZ/LBP', 'CHZ/LKR', 'CHZ/LRD', 'CHZ/LSL', 'CHZ/LYD', 'CHZ/MAD', 'CHZ/MDL', 'CHZ/MGA', 'CHZ/MKD', 'CHZ/MMK', 'CHZ/MNT', 'CHZ/MOP', 'CHZ/MRO', 'CHZ/MTL', 'CHZ/MUR', 'CHZ/MVR', 'CHZ/MWK', 'CHZ/MXN', 'CHZ/MYR', 'CHZ/MZN', 'CHZ/NAD', 'CHZ/NGN', 'CHZ/NIO', 'CHZ/NOK', 'CHZ/NPR', 'CHZ/NZD', 'CHZ/OMR', 'CHZ/PAB', 'CHZ/PEN', 'CHZ/PGK', 'CHZ/PHP', 'CHZ/PKR', 'CHZ/PLN', 'CHZ/PYG', 'CHZ/QAR', 'CHZ/RON', 'CHZ/RSD', 'CHZ/RUB', 'CHZ/RWF', 'CHZ/SAR', 'CHZ/SBD', 'CHZ/SCR', 'CHZ/SEK', 'CHZ/SGD', 'CHZ/SHP', 'CHZ/SLL', 'CHZ/SOS', 'CHZ/SRD', 'CHZ/SSP', 'CHZ/STD', 'CHZ/SVC', 'CHZ/SZL', 'CHZ/THB', 'CHZ/TJS', 'CHZ/TMM', 'CHZ/TMT', 'CHZ/TND', 'CHZ/TOP', 'CHZ/TRY', 'CHZ/TTD', 'CHZ/TWD', 'CHZ/TZS', 'CHZ/UAH', 'CHZ/UGX', 'CHZ/USD', 'CHZ/UYU', 'CHZ/UZS', 'CHZ/VES', 'CHZ/VND', 'CHZ/VUV', 'CHZ/WST', 'CHZ/XAF', 'CHZ/XAG', 'CHZ/XAU', 'CHZ/XCD', 'CHZ/XDR', 'CHZ/XOF', 'CHZ/XPD', 'CHZ/XPF', 'CHZ/XPT', 'CHZ/YER', 'CHZ/ZAR', 'CHZ/ZMW', 'CHZ/ZWL', 'KEEP/AED', 'KEEP/AFN', 'KEEP/ALL', 'KEEP/AMD', 'KEEP/ANG', 'KEEP/AOA', 'KEEP/ARS', 'KEEP/AUD', 'KEEP/AWG', 'KEEP/AZN', 'KEEP/BAM', 'KEEP/BBD', 'KEEP/BDT', 'KEEP/BGN', 'KEEP/BHD', 'KEEP/BIF', 'KEEP/BMD', 'KEEP/BND', 'KEEP/BOB', 'KEEP/BRL', 'KEEP/BSD', 'KEEP/BTN', 'KEEP/BWP', 'KEEP/BYN', 'KEEP/BYR', 'KEEP/BZD', 'KEEP/CAD', 'KEEP/CDF', 'KEEP/CHF', 'KEEP/CLF', 'KEEP/CLP', 'KEEP/CNH', 'KEEP/CNY', 'KEEP/COP', 'KEEP/CRC', 'KEEP/CUC', 'KEEP/CVE', 'KEEP/CZK', 'KEEP/DJF', 'KEEP/DKK', 'KEEP/DOP', 'KEEP/DZD', 'KEEP/EGP', 'KEEP/ERN', 'KEEP/ETB', 'KEEP/EUR', 'KEEP/FJD', 'KEEP/FKP', 'KEEP/GBP', 'KEEP/GBX', 'KEEP/GEL', 'KEEP/GGP', 'KEEP/GHS', 'KEEP/GIP', 'KEEP/GMD', 'KEEP/GNF', 'KEEP/GTQ', 'KEEP/GYD', 'KEEP/HKD', 'KEEP/HNL', 'KEEP/HRK', 'KEEP/HTG', 'KEEP/HUF', 'KEEP/IDR', 'KEEP/ILS', 'KEEP/IMP', 'KEEP/INR', 'KEEP/IQD', 'KEEP/ISK', 'KEEP/JEP', 'KEEP/JMD', 'KEEP/JOD', 'KEEP/JPY', 'KEEP/KES', 'KEEP/KGS', 'KEEP/KHR', 'KEEP/KMF', 'KEEP/KRW', 'KEEP/KWD', 'KEEP/KYD', 'KEEP/KZT', 'KEEP/LAK', 'KEEP/LBP', 'KEEP/LKR', 'KEEP/LRD', 'KEEP/LSL', 'KEEP/LYD', 'KEEP/MAD', 'KEEP/MDL', 'KEEP/MGA', 'KEEP/MKD', 'KEEP/MMK', 'KEEP/MNT', 'KEEP/MOP', 'KEEP/MRO', 'KEEP/MTL', 'KEEP/MUR', 'KEEP/MVR', 'KEEP/MWK', 'KEEP/MXN', 'KEEP/MYR', 'KEEP/MZN', 'KEEP/NAD', 'KEEP/NGN', 'KEEP/NIO', 'KEEP/NOK', 'KEEP/NPR', 'KEEP/NZD', 'KEEP/OMR', 'KEEP/PAB', 'KEEP/PEN', 'KEEP/PGK', 'KEEP/PHP', 'KEEP/PKR', 'KEEP/PLN', 'KEEP/PYG', 'KEEP/QAR', 'KEEP/RON', 'KEEP/RSD', 'KEEP/RUB', 'KEEP/RWF', 'KEEP/SAR', 'KEEP/SBD', 'KEEP/SCR', 'KEEP/SEK', 'KEEP/SGD', 'KEEP/SHP', 'KEEP/SLL', 'KEEP/SOS', 'KEEP/SRD', 'KEEP/SSP', 'KEEP/STD', 'KEEP/SVC', 'KEEP/SZL', 'KEEP/THB', 'KEEP/TJS', 'KEEP/TMM', 'KEEP/TMT', 'KEEP/TND', 'KEEP/TOP', 'KEEP/TRY', 'KEEP/TTD', 'KEEP/TWD', 'KEEP/TZS', 'KEEP/UAH', 'KEEP/UGX', 'KEEP/USD', 'KEEP/UYU', 'KEEP/UZS', 'KEEP/VES', 'KEEP/VND', 'KEEP/VUV', 'KEEP/WST', 'KEEP/XAF', 'KEEP/XAG', 'KEEP/XAU', 'KEEP/XCD', 'KEEP/XDR', 'KEEP/XOF', 'KEEP/XPD', 'KEEP/XPF', 'KEEP/XPT', 'KEEP/YER', 'KEEP/ZAR', 'KEEP/ZMW', 'KEEP/ZWL', 'LPT/AED', 'LPT/AFN', 'LPT/ALL', 'LPT/AMD', 'LPT/ANG', 'LPT/AOA', 'LPT/ARS', 'LPT/AUD', 'LPT/AWG', 'LPT/AZN', 'LPT/BAM', 'LPT/BBD', 'LPT/BDT', 'LPT/BGN', 'LPT/BHD', 'LPT/BIF', 'LPT/BMD', 'LPT/BND', 'LPT/BOB', 'LPT/BRL', 'LPT/BSD', 'LPT/BTN', 'LPT/BWP', 'LPT/BYN', 'LPT/BYR', 'LPT/BZD', 'LPT/CAD', 'LPT/CDF', 'LPT/CHF', 'LPT/CLF', 'LPT/CLP', 'LPT/CNH', 'LPT/CNY', 'LPT/COP', 'LPT/CRC', 'LPT/CUC', 'LPT/CVE', 'LPT/CZK', 'LPT/DJF', 'LPT/DKK', 'LPT/DOP', 'LPT/DZD', 'LPT/EGP', 'LPT/ERN', 'LPT/ETB', 'LPT/EUR', 'LPT/FJD', 'LPT/FKP', 'LPT/GBP', 'LPT/GBX', 'LPT/GEL', 'LPT/GGP', 'LPT/GHS', 'LPT/GIP', 'LPT/GMD', 'LPT/GNF', 'LPT/GTQ', 'LPT/GYD', 'LPT/HKD', 'LPT/HNL', 'LPT/HRK', 'LPT/HTG', 'LPT/HUF', 'LPT/IDR', 'LPT/ILS', 'LPT/IMP', 'LPT/INR', 'LPT/IQD', 'LPT/ISK', 'LPT/JEP', 'LPT/JMD', 'LPT/JOD', 'LPT/JPY', 'LPT/KES', 'LPT/KGS', 'LPT/KHR', 'LPT/KMF', 'LPT/KRW', 'LPT/KWD', 'LPT/KYD', 'LPT/KZT', 'LPT/LAK', 'LPT/LBP', 'LPT/LKR', 'LPT/LRD', 'LPT/LSL', 'LPT/LYD', 'LPT/MAD', 'LPT/MDL', 'LPT/MGA', 'LPT/MKD', 'LPT/MMK', 'LPT/MNT', 'LPT/MOP', 'LPT/MRO', 'LPT/MTL', 'LPT/MUR', 'LPT/MVR', 'LPT/MWK', 'LPT/MXN', 'LPT/MYR', 'LPT/MZN', 'LPT/NAD', 'LPT/NGN', 'LPT/NIO', 'LPT/NOK', 'LPT/NPR', 'LPT/NZD', 'LPT/OMR', 'LPT/PAB', 'LPT/PEN', 'LPT/PGK', 'LPT/PHP', 'LPT/PKR', 'LPT/PLN', 'LPT/PYG', 'LPT/QAR', 'LPT/RON', 'LPT/RSD', 'LPT/RUB', 'LPT/RWF', 'LPT/SAR', 'LPT/SBD', 'LPT/SCR', 'LPT/SEK', 'LPT/SGD', 'LPT/SHP', 'LPT/SLL', 'LPT/SOS', 'LPT/SRD', 'LPT/SSP', 'LPT/STD', 'LPT/SVC', 'LPT/SZL', 'LPT/THB', 'LPT/TJS', 'LPT/TMM', 'LPT/TMT', 'LPT/TND', 'LPT/TOP', 'LPT/TRY', 'LPT/TTD', 'LPT/TWD', 'LPT/TZS', 'LPT/UAH', 'LPT/UGX', 'LPT/USD', 'LPT/UYU', 'LPT/UZS', 'LPT/VES', 'LPT/VND', 'LPT/VUV', 'LPT/WST', 'LPT/XAF', 'LPT/XAG', 'LPT/XAU', 'LPT/XCD', 'LPT/XDR', 'LPT/XOF', 'LPT/XPD', 'LPT/XPF', 'LPT/XPT', 'LPT/YER', 'LPT/ZAR', 'LPT/ZMW', 'LPT/ZWL', 'QNT/AED', 'QNT/AFN', 'QNT/ALL', 'QNT/AMD', 'QNT/ANG', 'QNT/AOA', 'QNT/ARS', 'QNT/AUD', 'QNT/AWG', 'QNT/AZN', 'QNT/BAM', 'QNT/BBD', 'QNT/BDT', 'QNT/BGN', 'QNT/BHD', 'QNT/BIF', 'QNT/BMD', 'QNT/BND', 'QNT/BOB', 'QNT/BRL', 'QNT/BSD', 'QNT/BTN', 'QNT/BWP', 'QNT/BYN', 'QNT/BYR', 'QNT/BZD', 'QNT/CAD', 'QNT/CDF', 'QNT/CHF', 'QNT/CLF', 'QNT/CLP', 'QNT/CNH', 'QNT/CNY', 'QNT/COP', 'QNT/CRC', 'QNT/CUC', 'QNT/CVE', 'QNT/CZK', 'QNT/DJF', 'QNT/DKK', 'QNT/DOP', 'QNT/DZD', 'QNT/EGP', 'QNT/ERN', 'QNT/ETB', 'QNT/EUR', 'QNT/FJD', 'QNT/FKP', 'QNT/GBP', 'QNT/GBX', 'QNT/GEL', 'QNT/GGP', 'QNT/GHS', 'QNT/GIP', 'QNT/GMD', 'QNT/GNF', 'QNT/GTQ', 'QNT/GYD', 'QNT/HKD', 'QNT/HNL', 'QNT/HRK', 'QNT/HTG', 'QNT/HUF', 'QNT/IDR', 'QNT/ILS', 'QNT/IMP', 'QNT/INR', 'QNT/IQD', 'QNT/ISK', 'QNT/JEP', 'QNT/JMD', 'QNT/JOD', 'QNT/JPY', 'QNT/KES', 'QNT/KGS', 'QNT/KHR', 'QNT/KMF', 'QNT/KRW', 'QNT/KWD', 'QNT/KYD', 'QNT/KZT', 'QNT/LAK', 'QNT/LBP', 'QNT/LKR', 'QNT/LRD', 'QNT/LSL', 'QNT/LYD', 'QNT/MAD', 'QNT/MDL', 'QNT/MGA', 'QNT/MKD', 'QNT/MMK', 'QNT/MNT', 'QNT/MOP', 'QNT/MRO', 'QNT/MTL', 'QNT/MUR', 'QNT/MVR', 'QNT/MWK', 'QNT/MXN', 'QNT/MYR', 'QNT/MZN', 'QNT/NAD', 'QNT/NGN', 'QNT/NIO', 'QNT/NOK', 'QNT/NPR', 'QNT/NZD', 'QNT/OMR', 'QNT/PAB', 'QNT/PEN', 'QNT/PGK', 'QNT/PHP', 'QNT/PKR', 'QNT/PLN', 'QNT/PYG', 'QNT/QAR', 'QNT/RON', 'QNT/RSD', 'QNT/RUB', 'QNT/RWF', 'QNT/SAR', 'QNT/SBD', 'QNT/SCR', 'QNT/SEK', 'QNT/SGD', 'QNT/SHP', 'QNT/SLL', 'QNT/SOS', 'QNT/SRD', 'QNT/SSP', 'QNT/STD', 'QNT/SVC', 'QNT/SZL', 'QNT/THB', 'QNT/TJS', 'QNT/TMM', 'QNT/TMT', 'QNT/TND', 'QNT/TOP', 'QNT/TRY', 'QNT/TTD', 'QNT/TWD', 'QNT/TZS', 'QNT/UAH', 'QNT/UGX', 'QNT/USD', 'QNT/UYU', 'QNT/UZS', 'QNT/VES', 'QNT/VND', 'QNT/VUV', 'QNT/WST', 'QNT/XAF', 'QNT/XAG', 'QNT/XAU', 'QNT/XCD', 'QNT/XDR', 'QNT/XOF', 'QNT/XPD', 'QNT/XPF', 'QNT/XPT', 'QNT/YER', 'QNT/ZAR', 'QNT/ZMW', 'QNT/ZWL', 'BOND/AED', 'BOND/AFN', 'BOND/ALL', 'BOND/AMD', 'BOND/ANG', 'BOND/AOA', 'BOND/ARS', 'BOND/AUD', 'BOND/AWG', 'BOND/AZN', 'BOND/BAM', 'BOND/BBD', 'BOND/BDT', 'BOND/BGN', 'BOND/BHD', 'BOND/BIF', 'BOND/BMD', 'BOND/BND', 'BOND/BOB', 'BOND/BRL', 'BOND/BSD', 'BOND/BTN', 'BOND/BWP', 'BOND/BYN', 'BOND/BYR', 'BOND/BZD', 'BOND/CAD', 'BOND/CDF', 'BOND/CHF', 'BOND/CLF', 'BOND/CLP', 'BOND/CNH', 'BOND/CNY', 'BOND/COP', 'BOND/CRC', 'BOND/CUC', 'BOND/CVE', 'BOND/CZK', 'BOND/DJF', 'BOND/DKK', 'BOND/DOP', 'BOND/DZD', 'BOND/EGP', 'BOND/ERN', 'BOND/ETB', 'BOND/EUR', 'BOND/FJD', 'BOND/FKP', 'BOND/GBP', 'BOND/GBX', 'BOND/GEL', 'BOND/GGP', 'BOND/GHS', 'BOND/GIP', 'BOND/GMD', 'BOND/GNF', 'BOND/GTQ', 'BOND/GYD', 'BOND/HKD', 'BOND/HNL', 'BOND/HRK', 'BOND/HTG', 'BOND/HUF', 'BOND/IDR', 'BOND/ILS', 'BOND/IMP', 'BOND/INR', 'BOND/IQD', 'BOND/ISK', 'BOND/JEP', 'BOND/JMD', 'BOND/JOD', 'BOND/JPY', 'BOND/KES', 'BOND/KGS', 'BOND/KHR', 'BOND/KMF', 'BOND/KRW', 'BOND/KWD', 'BOND/KYD', 'BOND/KZT', 'BOND/LAK', 'BOND/LBP', 'BOND/LKR', 'BOND/LRD', 'BOND/LSL', 'BOND/LYD', 'BOND/MAD', 'BOND/MDL', 'BOND/MGA', 'BOND/MKD', 'BOND/MMK', 'BOND/MNT', 'BOND/MOP', 'BOND/MRO', 'BOND/MTL', 'BOND/MUR', 'BOND/MVR', 'BOND/MWK', 'BOND/MXN', 'BOND/MYR', 'BOND/MZN', 'BOND/NAD', 'BOND/NGN', 'BOND/NIO', 'BOND/NOK', 'BOND/NPR', 'BOND/NZD', 'BOND/OMR', 'BOND/PAB', 'BOND/PEN', 'BOND/PGK', 'BOND/PHP', 'BOND/PKR', 'BOND/PLN', 'BOND/PYG', 'BOND/QAR', 'BOND/RON', 'BOND/RSD', 'BOND/RUB', 'BOND/RWF', 'BOND/SAR', 'BOND/SBD', 'BOND/SCR', 'BOND/SEK', 'BOND/SGD', 'BOND/SHP', 'BOND/SLL', 'BOND/SOS', 'BOND/SRD', 'BOND/SSP', 'BOND/STD', 'BOND/SVC', 'BOND/SZL', 'BOND/THB', 'BOND/TJS', 'BOND/TMM', 'BOND/TMT', 'BOND/TND', 'BOND/TOP', 'BOND/TRY', 'BOND/TTD', 'BOND/TWD', 'BOND/TZS', 'BOND/UAH', 'BOND/UGX', 'BOND/USD', 'BOND/UYU', 'BOND/UZS', 'BOND/VES', 'BOND/VND', 'BOND/VUV', 'BOND/WST', 'BOND/XAF', 'BOND/XAG', 'BOND/XAU', 'BOND/XCD', 'BOND/XDR', 'BOND/XOF', 'BOND/XPD', 'BOND/XPF', 'BOND/XPT', 'BOND/YER', 'BOND/ZAR', 'BOND/ZMW', 'BOND/ZWL', 'RLY/AED', 'RLY/AFN', 'RLY/ALL', 'RLY/AMD', 'RLY/ANG', 'RLY/AOA', 'RLY/ARS', 'RLY/AUD', 'RLY/AWG', 'RLY/AZN', 'RLY/BAM', 'RLY/BBD', 'RLY/BDT', 'RLY/BGN', 'RLY/BHD', 'RLY/BIF', 'RLY/BMD', 'RLY/BND', 'RLY/BOB', 'RLY/BRL', 'RLY/BSD', 'RLY/BTN', 'RLY/BWP', 'RLY/BYN', 'RLY/BYR', 'RLY/BZD', 'RLY/CAD', 'RLY/CDF', 'RLY/CHF', 'RLY/CLF', 'RLY/CLP', 'RLY/CNH', 'RLY/CNY', 'RLY/COP', 'RLY/CRC', 'RLY/CUC', 'RLY/CVE', 'RLY/CZK', 'RLY/DJF', 'RLY/DKK', 'RLY/DOP', 'RLY/DZD', 'RLY/EGP', 'RLY/ERN', 'RLY/ETB', 'RLY/EUR', 'RLY/FJD', 'RLY/FKP', 'RLY/GBP', 'RLY/GBX', 'RLY/GEL', 'RLY/GGP', 'RLY/GHS', 'RLY/GIP', 'RLY/GMD', 'RLY/GNF', 'RLY/GTQ', 'RLY/GYD', 'RLY/HKD', 'RLY/HNL', 'RLY/HRK', 'RLY/HTG', 'RLY/HUF', 'RLY/IDR', 'RLY/ILS', 'RLY/IMP', 'RLY/INR', 'RLY/IQD', 'RLY/ISK', 'RLY/JEP', 'RLY/JMD', 'RLY/JOD', 'RLY/JPY', 'RLY/KES', 'RLY/KGS', 'RLY/KHR', 'RLY/KMF', 'RLY/KRW', 'RLY/KWD', 'RLY/KYD', 'RLY/KZT', 'RLY/LAK', 'RLY/LBP', 'RLY/LKR', 'RLY/LRD', 'RLY/LSL', 'RLY/LYD', 'RLY/MAD', 'RLY/MDL', 'RLY/MGA', 'RLY/MKD', 'RLY/MMK', 'RLY/MNT', 'RLY/MOP', 'RLY/MRO', 'RLY/MTL', 'RLY/MUR', 'RLY/MVR', 'RLY/MWK', 'RLY/MXN', 'RLY/MYR', 'RLY/MZN', 'RLY/NAD', 'RLY/NGN', 'RLY/NIO', 'RLY/NOK', 'RLY/NPR', 'RLY/NZD', 'RLY/OMR', 'RLY/PAB', 'RLY/PEN', 'RLY/PGK', 'RLY/PHP', 'RLY/PKR', 'RLY/PLN', 'RLY/PYG', 'RLY/QAR', 'RLY/RON', 'RLY/RSD', 'RLY/RUB', 'RLY/RWF', 'RLY/SAR', 'RLY/SBD', 'RLY/SCR', 'RLY/SEK', 'RLY/SGD', 'RLY/SHP', 'RLY/SLL', 'RLY/SOS', 'RLY/SRD', 'RLY/SSP', 'RLY/STD', 'RLY/SVC', 'RLY/SZL', 'RLY/THB', 'RLY/TJS', 'RLY/TMM', 'RLY/TMT', 'RLY/TND', 'RLY/TOP', 'RLY/TRY', 'RLY/TTD', 'RLY/TWD', 'RLY/TZS', 'RLY/UAH', 'RLY/UGX', 'RLY/USD', 'RLY/UYU', 'RLY/UZS', 'RLY/VES', 'RLY/VND', 'RLY/VUV', 'RLY/WST', 'RLY/XAF', 'RLY/XAG', 'RLY/XAU', 'RLY/XCD', 'RLY/XDR', 'RLY/XOF', 'RLY/XPD', 'RLY/XPF', 'RLY/XPT', 'RLY/YER', 'RLY/ZAR', 'RLY/ZMW', 'RLY/ZWL', 'CLV/AED', 'CLV/AFN', 'CLV/ALL', 'CLV/AMD', 'CLV/ANG', 'CLV/AOA', 'CLV/ARS', 'CLV/AUD', 'CLV/AWG', 'CLV/AZN', 'CLV/BAM', 'CLV/BBD', 'CLV/BDT', 'CLV/BGN', 'CLV/BHD', 'CLV/BIF', 'CLV/BMD', 'CLV/BND', 'CLV/BOB', 'CLV/BRL', 'CLV/BSD', 'CLV/BTN', 'CLV/BWP', 'CLV/BYN', 'CLV/BYR', 'CLV/BZD', 'CLV/CAD', 'CLV/CDF', 'CLV/CHF', 'CLV/CLF', 'CLV/CLP', 'CLV/CNH', 'CLV/CNY', 'CLV/COP', 'CLV/CRC', 'CLV/CUC', 'CLV/CVE', 'CLV/CZK', 'CLV/DJF', 'CLV/DKK', 'CLV/DOP', 'CLV/DZD', 'CLV/EGP', 'CLV/ERN', 'CLV/ETB', 'CLV/EUR', 'CLV/FJD', 'CLV/FKP', 'CLV/GBP', 'CLV/GBX', 'CLV/GEL', 'CLV/GGP', 'CLV/GHS', 'CLV/GIP', 'CLV/GMD', 'CLV/GNF', 'CLV/GTQ', 'CLV/GYD', 'CLV/HKD', 'CLV/HNL', 'CLV/HRK', 'CLV/HTG', 'CLV/HUF', 'CLV/IDR', 'CLV/ILS', 'CLV/IMP', 'CLV/INR', 'CLV/IQD', 'CLV/ISK', 'CLV/JEP', 'CLV/JMD', 'CLV/JOD', 'CLV/JPY', 'CLV/KES', 'CLV/KGS', 'CLV/KHR', 'CLV/KMF', 'CLV/KRW', 'CLV/KWD', 'CLV/KYD', 'CLV/KZT', 'CLV/LAK', 'CLV/LBP', 'CLV/LKR', 'CLV/LRD', 'CLV/LSL', 'CLV/LYD', 'CLV/MAD', 'CLV/MDL', 'CLV/MGA', 'CLV/MKD', 'CLV/MMK', 'CLV/MNT', 'CLV/MOP', 'CLV/MRO', 'CLV/MTL', 'CLV/MUR', 'CLV/MVR', 'CLV/MWK', 'CLV/MXN', 'CLV/MYR', 'CLV/MZN', 'CLV/NAD', 'CLV/NGN', 'CLV/NIO', 'CLV/NOK', 'CLV/NPR', 'CLV/NZD', 'CLV/OMR', 'CLV/PAB', 'CLV/PEN', 'CLV/PGK', 'CLV/PHP', 'CLV/PKR', 'CLV/PLN', 'CLV/PYG', 'CLV/QAR', 'CLV/RON', 'CLV/RSD', 'CLV/RUB', 'CLV/RWF', 'CLV/SAR', 'CLV/SBD', 'CLV/SCR', 'CLV/SEK', 'CLV/SGD', 'CLV/SHP', 'CLV/SLL', 'CLV/SOS', 'CLV/SRD', 'CLV/SSP', 'CLV/STD', 'CLV/SVC', 'CLV/SZL', 'CLV/THB', 'CLV/TJS', 'CLV/TMM', 'CLV/TMT', 'CLV/TND', 'CLV/TOP', 'CLV/TRY', 'CLV/TTD', 'CLV/TWD', 'CLV/TZS', 'CLV/UAH', 'CLV/UGX', 'CLV/USD', 'CLV/UYU', 'CLV/UZS', 'CLV/VES', 'CLV/VND', 'CLV/VUV', 'CLV/WST', 'CLV/XAF', 'CLV/XAG', 'CLV/XAU', 'CLV/XCD', 'CLV/XDR', 'CLV/XOF', 'CLV/XPD', 'CLV/XPF', 'CLV/XPT', 'CLV/YER', 'CLV/ZAR', 'CLV/ZMW', 'CLV/ZWL', 'FARM/AED', 'FARM/AFN', 'FARM/ALL', 'FARM/AMD', 'FARM/ANG', 'FARM/AOA', 'FARM/ARS', 'FARM/AUD', 'FARM/AWG', 'FARM/AZN', 'FARM/BAM', 'FARM/BBD', 'FARM/BDT', 'FARM/BGN', 'FARM/BHD', 'FARM/BIF', 'FARM/BMD', 'FARM/BND', 'FARM/BOB', 'FARM/BRL', 'FARM/BSD', 'FARM/BTN', 'FARM/BWP', 'FARM/BYN', 'FARM/BYR', 'FARM/BZD', 'FARM/CAD', 'FARM/CDF', 'FARM/CHF', 'FARM/CLF', 'FARM/CLP', 'FARM/CNH', 'FARM/CNY', 'FARM/COP', 'FARM/CRC', 'FARM/CUC', 'FARM/CVE', 'FARM/CZK', 'FARM/DJF', 'FARM/DKK', 'FARM/DOP', 'FARM/DZD', 'FARM/EGP', 'FARM/ERN', 'FARM/ETB', 'FARM/EUR', 'FARM/FJD', 'FARM/FKP', 'FARM/GBP', 'FARM/GBX', 'FARM/GEL', 'FARM/GGP', 'FARM/GHS', 'FARM/GIP', 'FARM/GMD', 'FARM/GNF', 'FARM/GTQ', 'FARM/GYD', 'FARM/HKD', 'FARM/HNL', 'FARM/HRK', 'FARM/HTG', 'FARM/HUF', 'FARM/IDR', 'FARM/ILS', 'FARM/IMP', 'FARM/INR', 'FARM/IQD', 'FARM/ISK', 'FARM/JEP', 'FARM/JMD', 'FARM/JOD', 'FARM/JPY', 'FARM/KES', 'FARM/KGS', 'FARM/KHR', 'FARM/KMF', 'FARM/KRW', 'FARM/KWD', 'FARM/KYD', 'FARM/KZT', 'FARM/LAK', 'FARM/LBP', 'FARM/LKR', 'FARM/LRD', 'FARM/LSL', 'FARM/LYD', 'FARM/MAD', 'FARM/MDL', 'FARM/MGA', 'FARM/MKD', 'FARM/MMK', 'FARM/MNT', 'FARM/MOP', 'FARM/MRO', 'FARM/MTL', 'FARM/MUR', 'FARM/MVR', 'FARM/MWK', 'FARM/MXN', 'FARM/MYR', 'FARM/MZN', 'FARM/NAD', 'FARM/NGN', 'FARM/NIO', 'FARM/NOK', 'FARM/NPR', 'FARM/NZD', 'FARM/OMR', 'FARM/PAB', 'FARM/PEN', 'FARM/PGK', 'FARM/PHP', 'FARM/PKR', 'FARM/PLN', 'FARM/PYG', 'FARM/QAR', 'FARM/RON', 'FARM/RSD', 'FARM/RUB', 'FARM/RWF', 'FARM/SAR', 'FARM/SBD', 'FARM/SCR', 'FARM/SEK', 'FARM/SGD', 'FARM/SHP', 'FARM/SLL', 'FARM/SOS', 'FARM/SRD', 'FARM/SSP', 'FARM/STD', 'FARM/SVC', 'FARM/SZL', 'FARM/THB', 'FARM/TJS', 'FARM/TMM', 'FARM/TMT', 'FARM/TND', 'FARM/TOP', 'FARM/TRY', 'FARM/TTD', 'FARM/TWD', 'FARM/TZS', 'FARM/UAH', 'FARM/UGX', 'FARM/USD', 'FARM/UYU', 'FARM/UZS', 'FARM/VES', 'FARM/VND', 'FARM/VUV', 'FARM/WST', 'FARM/XAF', 'FARM/XAG', 'FARM/XAU', 'FARM/XCD', 'FARM/XDR', 'FARM/XOF', 'FARM/XPD', 'FARM/XPF', 'FARM/XPT', 'FARM/YER', 'FARM/ZAR', 'FARM/ZMW', 'FARM/ZWL', 'MASK/AED', 'MASK/AFN', 'MASK/ALL', 'MASK/AMD', 'MASK/ANG', 'MASK/AOA', 'MASK/ARS', 'MASK/AUD', 'MASK/AWG', 'MASK/AZN', 'MASK/BAM', 'MASK/BBD', 'MASK/BDT', 'MASK/BGN', 'MASK/BHD', 'MASK/BIF', 'MASK/BMD', 'MASK/BND', 'MASK/BOB', 'MASK/BRL', 'MASK/BSD', 'MASK/BTN', 'MASK/BWP', 'MASK/BYN', 'MASK/BYR', 'MASK/BZD', 'MASK/CAD', 'MASK/CDF', 'MASK/CHF', 'MASK/CLF', 'MASK/CLP', 'MASK/CNH', 'MASK/CNY', 'MASK/COP', 'MASK/CRC', 'MASK/CUC', 'MASK/CVE', 'MASK/CZK', 'MASK/DJF', 'MASK/DKK', 'MASK/DOP', 'MASK/DZD', 'MASK/EGP', 'MASK/ERN', 'MASK/ETB', 'MASK/EUR', 'MASK/FJD', 'MASK/FKP', 'MASK/GBP', 'MASK/GBX', 'MASK/GEL', 'MASK/GGP', 'MASK/GHS', 'MASK/GIP', 'MASK/GMD', 'MASK/GNF', 'MASK/GTQ', 'MASK/GYD', 'MASK/HKD', 'MASK/HNL', 'MASK/HRK', 'MASK/HTG', 'MASK/HUF', 'MASK/IDR', 'MASK/ILS', 'MASK/IMP', 'MASK/INR', 'MASK/IQD', 'MASK/ISK', 'MASK/JEP', 'MASK/JMD', 'MASK/JOD', 'MASK/JPY', 'MASK/KES', 'MASK/KGS', 'MASK/KHR', 'MASK/KMF', 'MASK/KRW', 'MASK/KWD', 'MASK/KYD', 'MASK/KZT', 'MASK/LAK', 'MASK/LBP', 'MASK/LKR', 'MASK/LRD', 'MASK/LSL', 'MASK/LYD', 'MASK/MAD', 'MASK/MDL', 'MASK/MGA', 'MASK/MKD', 'MASK/MMK', 'MASK/MNT', 'MASK/MOP', 'MASK/MRO', 'MASK/MTL', 'MASK/MUR', 'MASK/MVR', 'MASK/MWK', 'MASK/MXN', 'MASK/MYR', 'MASK/MZN', 'MASK/NAD', 'MASK/NGN', 'MASK/NIO', 'MASK/NOK', 'MASK/NPR', 'MASK/NZD', 'MASK/OMR', 'MASK/PAB', 'MASK/PEN', 'MASK/PGK', 'MASK/PHP', 'MASK/PKR', 'MASK/PLN', 'MASK/PYG', 'MASK/QAR', 'MASK/RON', 'MASK/RSD', 'MASK/RUB', 'MASK/RWF', 'MASK/SAR', 'MASK/SBD', 'MASK/SCR', 'MASK/SEK', 'MASK/SGD', 'MASK/SHP', 'MASK/SLL', 'MASK/SOS', 'MASK/SRD', 'MASK/SSP', 'MASK/STD', 'MASK/SVC', 'MASK/SZL', 'MASK/THB', 'MASK/TJS', 'MASK/TMM', 'MASK/TMT', 'MASK/TND', 'MASK/TOP', 'MASK/TRY', 'MASK/TTD', 'MASK/TWD', 'MASK/TZS', 'MASK/UAH', 'MASK/UGX', 'MASK/USD', 'MASK/UYU', 'MASK/UZS', 'MASK/VES', 'MASK/VND', 'MASK/VUV', 'MASK/WST', 'MASK/XAF', 'MASK/XAG', 'MASK/XAU', 'MASK/XCD', 'MASK/XDR', 'MASK/XOF', 'MASK/XPD', 'MASK/XPF', 'MASK/XPT', 'MASK/YER', 'MASK/ZAR', 'MASK/ZMW', 'MASK/ZWL', 'FET/AED', 'FET/AFN', 'FET/ALL', 'FET/AMD', 'FET/ANG', 'FET/AOA', 'FET/ARS', 'FET/AUD', 'FET/AWG', 'FET/AZN', 'FET/BAM', 'FET/BBD', 'FET/BDT', 'FET/BGN', 'FET/BHD', 'FET/BIF', 'FET/BMD', 'FET/BND', 'FET/BOB', 'FET/BRL', 'FET/BSD', 'FET/BTN', 'FET/BWP', 'FET/BYN', 'FET/BYR', 'FET/BZD', 'FET/CAD', 'FET/CDF', 'FET/CHF', 'FET/CLF', 'FET/CLP', 'FET/CNH', 'FET/CNY', 'FET/COP', 'FET/CRC', 'FET/CUC', 'FET/CVE', 'FET/CZK', 'FET/DJF', 'FET/DKK', 'FET/DOP', 'FET/DZD', 'FET/EGP', 'FET/ERN', 'FET/ETB', 'FET/EUR', 'FET/FJD', 'FET/FKP', 'FET/GBP', 'FET/GBX', 'FET/GEL', 'FET/GGP', 'FET/GHS', 'FET/GIP', 'FET/GMD', 'FET/GNF', 'FET/GTQ', 'FET/GYD', 'FET/HKD', 'FET/HNL', 'FET/HRK', 'FET/HTG', 'FET/HUF', 'FET/IDR', 'FET/ILS', 'FET/IMP', 'FET/INR', 'FET/IQD', 'FET/ISK', 'FET/JEP', 'FET/JMD', 'FET/JOD', 'FET/JPY', 'FET/KES', 'FET/KGS', 'FET/KHR', 'FET/KMF', 'FET/KRW', 'FET/KWD', 'FET/KYD', 'FET/KZT', 'FET/LAK', 'FET/LBP', 'FET/LKR', 'FET/LRD', 'FET/LSL', 'FET/LYD', 'FET/MAD', 'FET/MDL', 'FET/MGA', 'FET/MKD', 'FET/MMK', 'FET/MNT', 'FET/MOP', 'FET/MRO', 'FET/MTL', 'FET/MUR', 'FET/MVR', 'FET/MWK', 'FET/MXN', 'FET/MYR', 'FET/MZN', 'FET/NAD', 'FET/NGN', 'FET/NIO', 'FET/NOK', 'FET/NPR', 'FET/NZD', 'FET/OMR', 'FET/PAB', 'FET/PEN', 'FET/PGK', 'FET/PHP', 'FET/PKR', 'FET/PLN', 'FET/PYG', 'FET/QAR', 'FET/RON', 'FET/RSD', 'FET/RUB', 'FET/RWF', 'FET/SAR', 'FET/SBD', 'FET/SCR', 'FET/SEK', 'FET/SGD', 'FET/SHP', 'FET/SLL', 'FET/SOS', 'FET/SRD', 'FET/SSP', 'FET/STD', 'FET/SVC', 'FET/SZL', 'FET/THB', 'FET/TJS', 'FET/TMM', 'FET/TMT', 'FET/TND', 'FET/TOP', 'FET/TRY', 'FET/TTD', 'FET/TWD', 'FET/TZS', 'FET/UAH', 'FET/UGX', 'FET/USD', 'FET/UYU', 'FET/UZS', 'FET/VES', 'FET/VND', 'FET/VUV', 'FET/WST', 'FET/XAF', 'FET/XAG', 'FET/XAU', 'FET/XCD', 'FET/XDR', 'FET/XOF', 'FET/XPD', 'FET/XPF', 'FET/XPT', 'FET/YER', 'FET/ZAR', 'FET/ZMW', 'FET/ZWL', 'PAX/AED', 'PAX/AFN', 'PAX/ALL', 'PAX/AMD', 'PAX/ANG', 'PAX/AOA', 'PAX/ARS', 'PAX/AUD', 'PAX/AWG', 'PAX/AZN', 'PAX/BAM', 'PAX/BBD', 'PAX/BDT', 'PAX/BGN', 'PAX/BHD', 'PAX/BIF', 'PAX/BMD', 'PAX/BND', 'PAX/BOB', 'PAX/BRL', 'PAX/BSD', 'PAX/BTN', 'PAX/BWP', 'PAX/BYN', 'PAX/BYR', 'PAX/BZD', 'PAX/CAD', 'PAX/CDF', 'PAX/CHF', 'PAX/CLF', 'PAX/CLP', 'PAX/CNH', 'PAX/CNY', 'PAX/COP', 'PAX/CRC', 'PAX/CUC', 'PAX/CVE', 'PAX/CZK', 'PAX/DJF', 'PAX/DKK', 'PAX/DOP', 'PAX/DZD', 'PAX/EGP', 'PAX/ERN', 'PAX/ETB', 'PAX/EUR', 'PAX/FJD', 'PAX/FKP', 'PAX/GBP', 'PAX/GBX', 'PAX/GEL', 'PAX/GGP', 'PAX/GHS', 'PAX/GIP', 'PAX/GMD', 'PAX/GNF', 'PAX/GTQ', 'PAX/GYD', 'PAX/HKD', 'PAX/HNL', 'PAX/HRK', 'PAX/HTG', 'PAX/HUF', 'PAX/IDR', 'PAX/ILS', 'PAX/IMP', 'PAX/INR', 'PAX/IQD', 'PAX/ISK', 'PAX/JEP', 'PAX/JMD', 'PAX/JOD', 'PAX/JPY', 'PAX/KES', 'PAX/KGS', 'PAX/KHR', 'PAX/KMF', 'PAX/KRW', 'PAX/KWD', 'PAX/KYD', 'PAX/KZT', 'PAX/LAK', 'PAX/LBP', 'PAX/LKR', 'PAX/LRD', 'PAX/LSL', 'PAX/LYD', 'PAX/MAD', 'PAX/MDL', 'PAX/MGA', 'PAX/MKD', 'PAX/MMK', 'PAX/MNT', 'PAX/MOP', 'PAX/MRO', 'PAX/MTL', 'PAX/MUR', 'PAX/MVR', 'PAX/MWK', 'PAX/MXN', 'PAX/MYR', 'PAX/MZN', 'PAX/NAD', 'PAX/NGN', 'PAX/NIO', 'PAX/NOK', 'PAX/NPR', 'PAX/NZD', 'PAX/OMR', 'PAX/PAB', 'PAX/PEN', 'PAX/PGK', 'PAX/PHP', 'PAX/PKR', 'PAX/PLN', 'PAX/PYG', 'PAX/QAR', 'PAX/RON', 'PAX/RSD', 'PAX/RUB', 'PAX/RWF', 'PAX/SAR', 'PAX/SBD', 'PAX/SCR', 'PAX/SEK', 'PAX/SGD', 'PAX/SHP', 'PAX/SLL', 'PAX/SOS', 'PAX/SRD', 'PAX/SSP', 'PAX/STD', 'PAX/SVC', 'PAX/SZL', 'PAX/THB', 'PAX/TJS', 'PAX/TMM', 'PAX/TMT', 'PAX/TND', 'PAX/TOP', 'PAX/TRY', 'PAX/TTD', 'PAX/TWD', 'PAX/TZS', 'PAX/UAH', 'PAX/UGX', 'PAX/USD', 'PAX/UYU', 'PAX/UZS', 'PAX/VES', 'PAX/VND', 'PAX/VUV', 'PAX/WST', 'PAX/XAF', 'PAX/XAG', 'PAX/XAU', 'PAX/XCD', 'PAX/XDR', 'PAX/XOF', 'PAX/XPD', 'PAX/XPF', 'PAX/XPT', 'PAX/YER', 'PAX/ZAR', 'PAX/ZMW', 'PAX/ZWL', 'ACH/AED', 'ACH/AFN', 'ACH/ALL', 'ACH/AMD', 'ACH/ANG', 'ACH/AOA', 'ACH/ARS', 'ACH/AUD', 'ACH/AWG', 'ACH/AZN', 'ACH/BAM', 'ACH/BBD', 'ACH/BDT', 'ACH/BGN', 'ACH/BHD', 'ACH/BIF', 'ACH/BMD', 'ACH/BND', 'ACH/BOB', 'ACH/BRL', 'ACH/BSD', 'ACH/BTN', 'ACH/BWP', 'ACH/BYN', 'ACH/BYR', 'ACH/BZD', 'ACH/CAD', 'ACH/CDF', 'ACH/CHF', 'ACH/CLF', 'ACH/CLP', 'ACH/CNH', 'ACH/CNY', 'ACH/COP', 'ACH/CRC', 'ACH/CUC', 'ACH/CVE', 'ACH/CZK', 'ACH/DJF', 'ACH/DKK', 'ACH/DOP', 'ACH/DZD', 'ACH/EGP', 'ACH/ERN', 'ACH/ETB', 'ACH/EUR', 'ACH/FJD', 'ACH/FKP', 'ACH/GBP', 'ACH/GBX', 'ACH/GEL', 'ACH/GGP', 'ACH/GHS', 'ACH/GIP', 'ACH/GMD', 'ACH/GNF', 'ACH/GTQ', 'ACH/GYD', 'ACH/HKD', 'ACH/HNL', 'ACH/HRK', 'ACH/HTG', 'ACH/HUF', 'ACH/IDR', 'ACH/ILS', 'ACH/IMP', 'ACH/INR', 'ACH/IQD', 'ACH/ISK', 'ACH/JEP', 'ACH/JMD', 'ACH/JOD', 'ACH/JPY', 'ACH/KES', 'ACH/KGS', 'ACH/KHR', 'ACH/KMF', 'ACH/KRW', 'ACH/KWD', 'ACH/KYD', 'ACH/KZT', 'ACH/LAK', 'ACH/LBP', 'ACH/LKR', 'ACH/LRD', 'ACH/LSL', 'ACH/LYD', 'ACH/MAD', 'ACH/MDL', 'ACH/MGA', 'ACH/MKD', 'ACH/MMK', 'ACH/MNT', 'ACH/MOP', 'ACH/MRO', 'ACH/MTL', 'ACH/MUR', 'ACH/MVR', 'ACH/MWK', 'ACH/MXN', 'ACH/MYR', 'ACH/MZN', 'ACH/NAD', 'ACH/NGN', 'ACH/NIO', 'ACH/NOK', 'ACH/NPR', 'ACH/NZD', 'ACH/OMR', 'ACH/PAB', 'ACH/PEN', 'ACH/PGK', 'ACH/PHP', 'ACH/PKR', 'ACH/PLN', 'ACH/PYG', 'ACH/QAR', 'ACH/RON', 'ACH/RSD', 'ACH/RUB', 'ACH/RWF', 'ACH/SAR', 'ACH/SBD', 'ACH/SCR', 'ACH/SEK', 'ACH/SGD', 'ACH/SHP', 'ACH/SLL', 'ACH/SOS', 'ACH/SRD', 'ACH/SSP', 'ACH/STD', 'ACH/SVC', 'ACH/SZL', 'ACH/THB', 'ACH/TJS', 'ACH/TMM', 'ACH/TMT', 'ACH/TND', 'ACH/TOP', 'ACH/TRY', 'ACH/TTD', 'ACH/TWD', 'ACH/TZS', 'ACH/UAH', 'ACH/UGX', 'ACH/USD', 'ACH/UYU', 'ACH/UZS', 'ACH/VES', 'ACH/VND', 'ACH/VUV', 'ACH/WST', 'ACH/XAF', 'ACH/XAG', 'ACH/XAU', 'ACH/XCD', 'ACH/XDR', 'ACH/XOF', 'ACH/XPD', 'ACH/XPF', 'ACH/XPT', 'ACH/YER', 'ACH/ZAR', 'ACH/ZMW', 'ACH/ZWL', 'PLA/AED', 'PLA/AFN', 'PLA/ALL', 'PLA/AMD', 'PLA/ANG', 'PLA/AOA', 'PLA/ARS', 'PLA/AUD', 'PLA/AWG', 'PLA/AZN', 'PLA/BAM', 'PLA/BBD', 'PLA/BDT', 'PLA/BGN', 'PLA/BHD', 'PLA/BIF', 'PLA/BMD', 'PLA/BND', 'PLA/BOB', 'PLA/BRL', 'PLA/BSD', 'PLA/BTN', 'PLA/BWP', 'PLA/BYN', 'PLA/BYR', 'PLA/BZD', 'PLA/CAD', 'PLA/CDF', 'PLA/CHF', 'PLA/CLF', 'PLA/CLP', 'PLA/CNH', 'PLA/CNY', 'PLA/COP', 'PLA/CRC', 'PLA/CUC', 'PLA/CVE', 'PLA/CZK', 'PLA/DJF', 'PLA/DKK', 'PLA/DOP', 'PLA/DZD', 'PLA/EGP', 'PLA/ERN', 'PLA/ETB', 'PLA/EUR', 'PLA/FJD', 'PLA/FKP', 'PLA/GBP', 'PLA/GBX', 'PLA/GEL', 'PLA/GGP', 'PLA/GHS', 'PLA/GIP', 'PLA/GMD', 'PLA/GNF', 'PLA/GTQ', 'PLA/GYD', 'PLA/HKD', 'PLA/HNL', 'PLA/HRK', 'PLA/HTG', 'PLA/HUF', 'PLA/IDR', 'PLA/ILS', 'PLA/IMP', 'PLA/INR', 'PLA/IQD', 'PLA/ISK', 'PLA/JEP', 'PLA/JMD', 'PLA/JOD', 'PLA/JPY', 'PLA/KES', 'PLA/KGS', 'PLA/KHR', 'PLA/KMF', 'PLA/KRW', 'PLA/KWD', 'PLA/KYD', 'PLA/KZT', 'PLA/LAK', 'PLA/LBP', 'PLA/LKR', 'PLA/LRD', 'PLA/LSL', 'PLA/LYD', 'PLA/MAD', 'PLA/MDL', 'PLA/MGA', 'PLA/MKD', 'PLA/MMK', 'PLA/MNT', 'PLA/MOP', 'PLA/MRO', 'PLA/MTL', 'PLA/MUR', 'PLA/MVR', 'PLA/MWK', 'PLA/MXN', 'PLA/MYR', 'PLA/MZN', 'PLA/NAD', 'PLA/NGN', 'PLA/NIO', 'PLA/NOK', 'PLA/NPR', 'PLA/NZD', 'PLA/OMR', 'PLA/PAB', 'PLA/PEN', 'PLA/PGK', 'PLA/PHP', 'PLA/PKR', 'PLA/PLN', 'PLA/PYG', 'PLA/QAR', 'PLA/RON', 'PLA/RSD', 'PLA/RUB', 'PLA/RWF', 'PLA/SAR', 'PLA/SBD', 'PLA/SCR', 'PLA/SEK', 'PLA/SGD', 'PLA/SHP', 'PLA/SLL', 'PLA/SOS', 'PLA/SRD', 'PLA/SSP', 'PLA/STD', 'PLA/SVC', 'PLA/SZL', 'PLA/THB', 'PLA/TJS', 'PLA/TMM', 'PLA/TMT', 'PLA/TND', 'PLA/TOP', 'PLA/TRY', 'PLA/TTD', 'PLA/TWD', 'PLA/TZS', 'PLA/UAH', 'PLA/UGX', 'PLA/USD', 'PLA/UYU', 'PLA/UZS', 'PLA/VES', 'PLA/VND', 'PLA/VUV', 'PLA/WST', 'PLA/XAF', 'PLA/XAG', 'PLA/XAU', 'PLA/XCD', 'PLA/XDR', 'PLA/XOF', 'PLA/XPD', 'PLA/XPF', 'PLA/XPT', 'PLA/YER', 'PLA/ZAR', 'PLA/ZMW', 'PLA/ZWL', 'RAI/AED', 'RAI/AFN', 'RAI/ALL', 'RAI/AMD', 'RAI/ANG', 'RAI/AOA', 'RAI/ARS', 'RAI/AUD', 'RAI/AWG', 'RAI/AZN', 'RAI/BAM', 'RAI/BBD', 'RAI/BDT', 'RAI/BGN', 'RAI/BHD', 'RAI/BIF', 'RAI/BMD', 'RAI/BND', 'RAI/BOB', 'RAI/BRL', 'RAI/BSD', 'RAI/BTN', 'RAI/BWP', 'RAI/BYN', 'RAI/BYR', 'RAI/BZD', 'RAI/CAD', 'RAI/CDF', 'RAI/CHF', 'RAI/CLF', 'RAI/CLP', 'RAI/CNH', 'RAI/CNY', 'RAI/COP', 'RAI/CRC', 'RAI/CUC', 'RAI/CVE', 'RAI/CZK', 'RAI/DJF', 'RAI/DKK', 'RAI/DOP', 'RAI/DZD', 'RAI/EGP', 'RAI/ERN', 'RAI/ETB', 'RAI/EUR', 'RAI/FJD', 'RAI/FKP', 'RAI/GBP', 'RAI/GBX', 'RAI/GEL', 'RAI/GGP', 'RAI/GHS', 'RAI/GIP', 'RAI/GMD', 'RAI/GNF', 'RAI/GTQ', 'RAI/GYD', 'RAI/HKD', 'RAI/HNL', 'RAI/HRK', 'RAI/HTG', 'RAI/HUF', 'RAI/IDR', 'RAI/ILS', 'RAI/IMP', 'RAI/INR', 'RAI/IQD', 'RAI/ISK', 'RAI/JEP', 'RAI/JMD', 'RAI/JOD', 'RAI/JPY', 'RAI/KES', 'RAI/KGS', 'RAI/KHR', 'RAI/KMF', 'RAI/KRW', 'RAI/KWD', 'RAI/KYD', 'RAI/KZT', 'RAI/LAK', 'RAI/LBP', 'RAI/LKR', 'RAI/LRD', 'RAI/LSL', 'RAI/LYD', 'RAI/MAD', 'RAI/MDL', 'RAI/MGA', 'RAI/MKD', 'RAI/MMK', 'RAI/MNT', 'RAI/MOP', 'RAI/MRO', 'RAI/MTL', 'RAI/MUR', 'RAI/MVR', 'RAI/MWK', 'RAI/MXN', 'RAI/MYR', 'RAI/MZN', 'RAI/NAD', 'RAI/NGN', 'RAI/NIO', 'RAI/NOK', 'RAI/NPR', 'RAI/NZD', 'RAI/OMR', 'RAI/PAB', 'RAI/PEN', 'RAI/PGK', 'RAI/PHP', 'RAI/PKR', 'RAI/PLN', 'RAI/PYG', 'RAI/QAR', 'RAI/RON', 'RAI/RSD', 'RAI/RUB', 'RAI/RWF', 'RAI/SAR', 'RAI/SBD', 'RAI/SCR', 'RAI/SEK', 'RAI/SGD', 'RAI/SHP', 'RAI/SLL', 'RAI/SOS', 'RAI/SRD', 'RAI/SSP', 'RAI/STD', 'RAI/SVC', 'RAI/SZL', 'RAI/THB', 'RAI/TJS', 'RAI/TMM', 'RAI/TMT', 'RAI/TND', 'RAI/TOP', 'RAI/TRY', 'RAI/TTD', 'RAI/TWD', 'RAI/TZS', 'RAI/UAH', 'RAI/UGX', 'RAI/USD', 'RAI/UYU', 'RAI/UZS', 'RAI/VES', 'RAI/VND', 'RAI/VUV', 'RAI/WST', 'RAI/XAF', 'RAI/XAG', 'RAI/XAU', 'RAI/XCD', 'RAI/XDR', 'RAI/XOF', 'RAI/XPD', 'RAI/XPF', 'RAI/XPT', 'RAI/YER', 'RAI/ZAR', 'RAI/ZMW', 'RAI/ZWL', 'TRIBE/AED', 'TRIBE/AFN', 'TRIBE/ALL', 'TRIBE/AMD', 'TRIBE/ANG', 'TRIBE/AOA', 'TRIBE/ARS', 'TRIBE/AUD', 'TRIBE/AWG', 'TRIBE/AZN', 'TRIBE/BAM', 'TRIBE/BBD', 'TRIBE/BDT', 'TRIBE/BGN', 'TRIBE/BHD', 'TRIBE/BIF', 'TRIBE/BMD', 'TRIBE/BND', 'TRIBE/BOB', 'TRIBE/BRL', 'TRIBE/BSD', 'TRIBE/BTN', 'TRIBE/BWP', 'TRIBE/BYN', 'TRIBE/BYR', 'TRIBE/BZD', 'TRIBE/CAD', 'TRIBE/CDF', 'TRIBE/CHF', 'TRIBE/CLF', 'TRIBE/CLP', 'TRIBE/CNH', 'TRIBE/CNY', 'TRIBE/COP', 'TRIBE/CRC', 'TRIBE/CUC', 'TRIBE/CVE', 'TRIBE/CZK', 'TRIBE/DJF', 'TRIBE/DKK', 'TRIBE/DOP', 'TRIBE/DZD', 'TRIBE/EGP', 'TRIBE/ERN', 'TRIBE/ETB', 'TRIBE/EUR', 'TRIBE/FJD', 'TRIBE/FKP', 'TRIBE/GBP', 'TRIBE/GBX', 'TRIBE/GEL', 'TRIBE/GGP', 'TRIBE/GHS', 'TRIBE/GIP', 'TRIBE/GMD', 'TRIBE/GNF', 'TRIBE/GTQ', 'TRIBE/GYD', 'TRIBE/HKD', 'TRIBE/HNL', 'TRIBE/HRK', 'TRIBE/HTG', 'TRIBE/HUF', 'TRIBE/IDR', 'TRIBE/ILS', 'TRIBE/IMP', 'TRIBE/INR', 'TRIBE/IQD', 'TRIBE/ISK', 'TRIBE/JEP', 'TRIBE/JMD', 'TRIBE/JOD', 'TRIBE/JPY', 'TRIBE/KES', 'TRIBE/KGS', 'TRIBE/KHR', 'TRIBE/KMF', 'TRIBE/KRW', 'TRIBE/KWD', 'TRIBE/KYD', 'TRIBE/KZT', 'TRIBE/LAK', 'TRIBE/LBP', 'TRIBE/LKR', 'TRIBE/LRD', 'TRIBE/LSL', 'TRIBE/LYD', 'TRIBE/MAD', 'TRIBE/MDL', 'TRIBE/MGA', 'TRIBE/MKD', 'TRIBE/MMK', 'TRIBE/MNT', 'TRIBE/MOP', 'TRIBE/MRO', 'TRIBE/MTL', 'TRIBE/MUR', 'TRIBE/MVR', 'TRIBE/MWK', 'TRIBE/MXN', 'TRIBE/MYR', 'TRIBE/MZN', 'TRIBE/NAD', 'TRIBE/NGN', 'TRIBE/NIO', 'TRIBE/NOK', 'TRIBE/NPR', 'TRIBE/NZD', 'TRIBE/OMR', 'TRIBE/PAB', 'TRIBE/PEN', 'TRIBE/PGK', 'TRIBE/PHP', 'TRIBE/PKR', 'TRIBE/PLN', 'TRIBE/PYG', 'TRIBE/QAR', 'TRIBE/RON', 'TRIBE/RSD', 'TRIBE/RUB', 'TRIBE/RWF', 'TRIBE/SAR', 'TRIBE/SBD', 'TRIBE/SCR', 'TRIBE/SEK', 'TRIBE/SGD', 'TRIBE/SHP', 'TRIBE/SLL', 'TRIBE/SOS', 'TRIBE/SRD', 'TRIBE/SSP', 'TRIBE/STD', 'TRIBE/SVC', 'TRIBE/SZL', 'TRIBE/THB', 'TRIBE/TJS', 'TRIBE/TMM', 'TRIBE/TMT', 'TRIBE/TND', 'TRIBE/TOP', 'TRIBE/TRY', 'TRIBE/TTD', 'TRIBE/TWD', 'TRIBE/TZS', 'TRIBE/UAH', 'TRIBE/UGX', 'TRIBE/USD', 'TRIBE/UYU', 'TRIBE/UZS', 'TRIBE/VES', 'TRIBE/VND', 'TRIBE/VUV', 'TRIBE/WST', 'TRIBE/XAF', 'TRIBE/XAG', 'TRIBE/XAU', 'TRIBE/XCD', 'TRIBE/XDR', 'TRIBE/XOF', 'TRIBE/XPD', 'TRIBE/XPF', 'TRIBE/XPT', 'TRIBE/YER', 'TRIBE/ZAR', 'TRIBE/ZMW', 'TRIBE/ZWL', 'ORN/AED', 'ORN/AFN', 'ORN/ALL', 'ORN/AMD', 'ORN/ANG', 'ORN/AOA', 'ORN/ARS', 'ORN/AUD', 'ORN/AWG', 'ORN/AZN', 'ORN/BAM', 'ORN/BBD', 'ORN/BDT', 'ORN/BGN', 'ORN/BHD', 'ORN/BIF', 'ORN/BMD', 'ORN/BND', 'ORN/BOB', 'ORN/BRL', 'ORN/BSD', 'ORN/BTN', 'ORN/BWP', 'ORN/BYN', 'ORN/BYR', 'ORN/BZD', 'ORN/CAD', 'ORN/CDF', 'ORN/CHF', 'ORN/CLF', 'ORN/CLP', 'ORN/CNH', 'ORN/CNY', 'ORN/COP', 'ORN/CRC', 'ORN/CUC', 'ORN/CVE', 'ORN/CZK', 'ORN/DJF', 'ORN/DKK', 'ORN/DOP', 'ORN/DZD', 'ORN/EGP', 'ORN/ERN', 'ORN/ETB', 'ORN/EUR', 'ORN/FJD', 'ORN/FKP', 'ORN/GBP', 'ORN/GBX', 'ORN/GEL', 'ORN/GGP', 'ORN/GHS', 'ORN/GIP', 'ORN/GMD', 'ORN/GNF', 'ORN/GTQ', 'ORN/GYD', 'ORN/HKD', 'ORN/HNL', 'ORN/HRK', 'ORN/HTG', 'ORN/HUF', 'ORN/IDR', 'ORN/ILS', 'ORN/IMP', 'ORN/INR', 'ORN/IQD', 'ORN/ISK', 'ORN/JEP', 'ORN/JMD', 'ORN/JOD', 'ORN/JPY', 'ORN/KES', 'ORN/KGS', 'ORN/KHR', 'ORN/KMF', 'ORN/KRW', 'ORN/KWD', 'ORN/KYD', 'ORN/KZT', 'ORN/LAK', 'ORN/LBP', 'ORN/LKR', 'ORN/LRD', 'ORN/LSL', 'ORN/LYD', 'ORN/MAD', 'ORN/MDL', 'ORN/MGA', 'ORN/MKD', 'ORN/MMK', 'ORN/MNT', 'ORN/MOP', 'ORN/MRO', 'ORN/MTL', 'ORN/MUR', 'ORN/MVR', 'ORN/MWK', 'ORN/MXN', 'ORN/MYR', 'ORN/MZN', 'ORN/NAD', 'ORN/NGN', 'ORN/NIO', 'ORN/NOK', 'ORN/NPR', 'ORN/NZD', 'ORN/OMR', 'ORN/PAB', 'ORN/PEN', 'ORN/PGK', 'ORN/PHP', 'ORN/PKR', 'ORN/PLN', 'ORN/PYG', 'ORN/QAR', 'ORN/RON', 'ORN/RSD', 'ORN/RUB', 'ORN/RWF', 'ORN/SAR', 'ORN/SBD', 'ORN/SCR', 'ORN/SEK', 'ORN/SGD', 'ORN/SHP', 'ORN/SLL', 'ORN/SOS', 'ORN/SRD', 'ORN/SSP', 'ORN/STD', 'ORN/SVC', 'ORN/SZL', 'ORN/THB', 'ORN/TJS', 'ORN/TMM', 'ORN/TMT', 'ORN/TND', 'ORN/TOP', 'ORN/TRY', 'ORN/TTD', 'ORN/TWD', 'ORN/TZS', 'ORN/UAH', 'ORN/UGX', 'ORN/USD', 'ORN/UYU', 'ORN/UZS', 'ORN/VES', 'ORN/VND', 'ORN/VUV', 'ORN/WST', 'ORN/XAF', 'ORN/XAG', 'ORN/XAU', 'ORN/XCD', 'ORN/XDR', 'ORN/XOF', 'ORN/XPD', 'ORN/XPF', 'ORN/XPT', 'ORN/YER', 'ORN/ZAR', 'ORN/ZMW', 'ORN/ZWL', 'IOTX/AED', 'IOTX/AFN', 'IOTX/ALL', 'IOTX/AMD', 'IOTX/ANG', 'IOTX/AOA', 'IOTX/ARS', 'IOTX/AUD', 'IOTX/AWG', 'IOTX/AZN', 'IOTX/BAM', 'IOTX/BBD', 'IOTX/BDT', 'IOTX/BGN', 'IOTX/BHD', 'IOTX/BIF', 'IOTX/BMD', 'IOTX/BND', 'IOTX/BOB', 'IOTX/BRL', 'IOTX/BSD', 'IOTX/BTN', 'IOTX/BWP', 'IOTX/BYN', 'IOTX/BYR', 'IOTX/BZD', 'IOTX/CAD', 'IOTX/CDF', 'IOTX/CHF', 'IOTX/CLF', 'IOTX/CLP', 'IOTX/CNH', 'IOTX/CNY', 'IOTX/COP', 'IOTX/CRC', 'IOTX/CUC', 'IOTX/CVE', 'IOTX/CZK', 'IOTX/DJF', 'IOTX/DKK', 'IOTX/DOP', 'IOTX/DZD', 'IOTX/EGP', 'IOTX/ERN', 'IOTX/ETB', 'IOTX/EUR', 'IOTX/FJD', 'IOTX/FKP', 'IOTX/GBP', 'IOTX/GBX', 'IOTX/GEL', 'IOTX/GGP', 'IOTX/GHS', 'IOTX/GIP', 'IOTX/GMD', 'IOTX/GNF', 'IOTX/GTQ', 'IOTX/GYD', 'IOTX/HKD', 'IOTX/HNL', 'IOTX/HRK', 'IOTX/HTG', 'IOTX/HUF', 'IOTX/IDR', 'IOTX/ILS', 'IOTX/IMP', 'IOTX/INR', 'IOTX/IQD', 'IOTX/ISK', 'IOTX/JEP', 'IOTX/JMD', 'IOTX/JOD', 'IOTX/JPY', 'IOTX/KES', 'IOTX/KGS', 'IOTX/KHR', 'IOTX/KMF', 'IOTX/KRW', 'IOTX/KWD', 'IOTX/KYD', 'IOTX/KZT', 'IOTX/LAK', 'IOTX/LBP', 'IOTX/LKR', 'IOTX/LRD', 'IOTX/LSL', 'IOTX/LYD', 'IOTX/MAD', 'IOTX/MDL', 'IOTX/MGA', 'IOTX/MKD', 'IOTX/MMK', 'IOTX/MNT', 'IOTX/MOP', 'IOTX/MRO', 'IOTX/MTL', 'IOTX/MUR', 'IOTX/MVR', 'IOTX/MWK', 'IOTX/MXN', 'IOTX/MYR', 'IOTX/MZN', 'IOTX/NAD', 'IOTX/NGN', 'IOTX/NIO', 'IOTX/NOK', 'IOTX/NPR', 'IOTX/NZD', 'IOTX/OMR', 'IOTX/PAB', 'IOTX/PEN', 'IOTX/PGK', 'IOTX/PHP', 'IOTX/PKR', 'IOTX/PLN', 'IOTX/PYG', 'IOTX/QAR', 'IOTX/RON', 'IOTX/RSD', 'IOTX/RUB', 'IOTX/RWF', 'IOTX/SAR', 'IOTX/SBD', 'IOTX/SCR', 'IOTX/SEK', 'IOTX/SGD', 'IOTX/SHP', 'IOTX/SLL', 'IOTX/SOS', 'IOTX/SRD', 'IOTX/SSP', 'IOTX/STD', 'IOTX/SVC', 'IOTX/SZL', 'IOTX/THB', 'IOTX/TJS', 'IOTX/TMM', 'IOTX/TMT', 'IOTX/TND', 'IOTX/TOP', 'IOTX/TRY', 'IOTX/TTD', 'IOTX/TWD', 'IOTX/TZS', 'IOTX/UAH', 'IOTX/UGX', 'IOTX/USD', 'IOTX/UYU', 'IOTX/UZS', 'IOTX/VES', 'IOTX/VND', 'IOTX/VUV', 'IOTX/WST', 'IOTX/XAF', 'IOTX/XAG', 'IOTX/XAU', 'IOTX/XCD', 'IOTX/XDR', 'IOTX/XOF', 'IOTX/XPD', 'IOTX/XPF', 'IOTX/XPT', 'IOTX/YER', 'IOTX/ZAR', 'IOTX/ZMW', 'IOTX/ZWL', 'UST/AED', 'UST/AFN', 'UST/ALL', 'UST/AMD', 'UST/ANG', 'UST/AOA', 'UST/ARS', 'UST/AUD', 'UST/AWG', 'UST/AZN', 'UST/BAM', 'UST/BBD', 'UST/BDT', 'UST/BGN', 'UST/BHD', 'UST/BIF', 'UST/BMD', 'UST/BND', 'UST/BOB', 'UST/BRL', 'UST/BSD', 'UST/BTN', 'UST/BWP', 'UST/BYN', 'UST/BYR', 'UST/BZD', 'UST/CAD', 'UST/CDF', 'UST/CHF', 'UST/CLF', 'UST/CLP', 'UST/CNH', 'UST/CNY', 'UST/COP', 'UST/CRC', 'UST/CUC', 'UST/CVE', 'UST/CZK', 'UST/DJF', 'UST/DKK', 'UST/DOP', 'UST/DZD', 'UST/EGP', 'UST/ERN', 'UST/ETB', 'UST/EUR', 'UST/FJD', 'UST/FKP', 'UST/GBP', 'UST/GBX', 'UST/GEL', 'UST/GGP', 'UST/GHS', 'UST/GIP', 'UST/GMD', 'UST/GNF', 'UST/GTQ', 'UST/GYD', 'UST/HKD', 'UST/HNL', 'UST/HRK', 'UST/HTG', 'UST/HUF', 'UST/IDR', 'UST/ILS', 'UST/IMP', 'UST/INR', 'UST/IQD', 'UST/ISK', 'UST/JEP', 'UST/JMD', 'UST/JOD', 'UST/JPY', 'UST/KES', 'UST/KGS', 'UST/KHR', 'UST/KMF', 'UST/KRW', 'UST/KWD', 'UST/KYD', 'UST/KZT', 'UST/LAK', 'UST/LBP', 'UST/LKR', 'UST/LRD', 'UST/LSL', 'UST/LYD', 'UST/MAD', 'UST/MDL', 'UST/MGA', 'UST/MKD', 'UST/MMK', 'UST/MNT', 'UST/MOP', 'UST/MRO', 'UST/MTL', 'UST/MUR', 'UST/MVR', 'UST/MWK', 'UST/MXN', 'UST/MYR', 'UST/MZN', 'UST/NAD', 'UST/NGN', 'UST/NIO', 'UST/NOK', 'UST/NPR', 'UST/NZD', 'UST/OMR', 'UST/PAB', 'UST/PEN', 'UST/PGK', 'UST/PHP', 'UST/PKR', 'UST/PLN', 'UST/PYG', 'UST/QAR', 'UST/RON', 'UST/RSD', 'UST/RUB', 'UST/RWF', 'UST/SAR', 'UST/SBD', 'UST/SCR', 'UST/SEK', 'UST/SGD', 'UST/SHP', 'UST/SLL', 'UST/SOS', 'UST/SRD', 'UST/SSP', 'UST/STD', 'UST/SVC', 'UST/SZL', 'UST/THB', 'UST/TJS', 'UST/TMM', 'UST/TMT', 'UST/TND', 'UST/TOP', 'UST/TRY', 'UST/TTD', 'UST/TWD', 'UST/TZS', 'UST/UAH', 'UST/UGX', 'UST/USD', 'UST/UYU', 'UST/UZS', 'UST/VES', 'UST/VND', 'UST/VUV', 'UST/WST', 'UST/XAF', 'UST/XAG', 'UST/XAU', 'UST/XCD', 'UST/XDR', 'UST/XOF', 'UST/XPD', 'UST/XPF', 'UST/XPT', 'UST/YER', 'UST/ZAR', 'UST/ZMW', 'UST/ZWL', 'QUICK/AED', 'QUICK/AFN', 'QUICK/ALL', 'QUICK/AMD', 'QUICK/ANG', 'QUICK/AOA', 'QUICK/ARS', 'QUICK/AUD', 'QUICK/AWG', 'QUICK/AZN', 'QUICK/BAM', 'QUICK/BBD', 'QUICK/BDT', 'QUICK/BGN', 'QUICK/BHD', 'QUICK/BIF', 'QUICK/BMD', 'QUICK/BND', 'QUICK/BOB', 'QUICK/BRL', 'QUICK/BSD', 'QUICK/BTN', 'QUICK/BWP', 'QUICK/BYN', 'QUICK/BYR', 'QUICK/BZD', 'QUICK/CAD', 'QUICK/CDF', 'QUICK/CHF', 'QUICK/CLF', 'QUICK/CLP', 'QUICK/CNH', 'QUICK/CNY', 'QUICK/COP', 'QUICK/CRC', 'QUICK/CUC', 'QUICK/CVE', 'QUICK/CZK', 'QUICK/DJF', 'QUICK/DKK', 'QUICK/DOP', 'QUICK/DZD', 'QUICK/EGP', 'QUICK/ERN', 'QUICK/ETB', 'QUICK/EUR', 'QUICK/FJD', 'QUICK/FKP', 'QUICK/GBP', 'QUICK/GBX', 'QUICK/GEL', 'QUICK/GGP', 'QUICK/GHS', 'QUICK/GIP', 'QUICK/GMD', 'QUICK/GNF', 'QUICK/GTQ', 'QUICK/GYD', 'QUICK/HKD', 'QUICK/HNL', 'QUICK/HRK', 'QUICK/HTG', 'QUICK/HUF', 'QUICK/IDR', 'QUICK/ILS', 'QUICK/IMP', 'QUICK/INR', 'QUICK/IQD', 'QUICK/ISK', 'QUICK/JEP', 'QUICK/JMD', 'QUICK/JOD', 'QUICK/JPY', 'QUICK/KES', 'QUICK/KGS', 'QUICK/KHR', 'QUICK/KMF', 'QUICK/KRW', 'QUICK/KWD', 'QUICK/KYD', 'QUICK/KZT', 'QUICK/LAK', 'QUICK/LBP', 'QUICK/LKR', 'QUICK/LRD', 'QUICK/LSL', 'QUICK/LYD', 'QUICK/MAD', 'QUICK/MDL', 'QUICK/MGA', 'QUICK/MKD', 'QUICK/MMK', 'QUICK/MNT', 'QUICK/MOP', 'QUICK/MRO', 'QUICK/MTL', 'QUICK/MUR', 'QUICK/MVR', 'QUICK/MWK', 'QUICK/MXN', 'QUICK/MYR', 'QUICK/MZN', 'QUICK/NAD', 'QUICK/NGN', 'QUICK/NIO', 'QUICK/NOK', 'QUICK/NPR', 'QUICK/NZD', 'QUICK/OMR', 'QUICK/PAB', 'QUICK/PEN', 'QUICK/PGK', 'QUICK/PHP', 'QUICK/PKR', 'QUICK/PLN', 'QUICK/PYG', 'QUICK/QAR', 'QUICK/RON', 'QUICK/RSD', 'QUICK/RUB', 'QUICK/RWF', 'QUICK/SAR', 'QUICK/SBD', 'QUICK/SCR', 'QUICK/SEK', 'QUICK/SGD', 'QUICK/SHP', 'QUICK/SLL', 'QUICK/SOS', 'QUICK/SRD', 'QUICK/SSP', 'QUICK/STD', 'QUICK/SVC', 'QUICK/SZL', 'QUICK/THB', 'QUICK/TJS', 'QUICK/TMM', 'QUICK/TMT', 'QUICK/TND', 'QUICK/TOP', 'QUICK/TRY', 'QUICK/TTD', 'QUICK/TWD', 'QUICK/TZS', 'QUICK/UAH', 'QUICK/UGX', 'QUICK/USD', 'QUICK/UYU', 'QUICK/UZS', 'QUICK/VES', 'QUICK/VND', 'QUICK/VUV', 'QUICK/WST', 'QUICK/XAF', 'QUICK/XAG', 'QUICK/XAU', 'QUICK/XCD', 'QUICK/XDR', 'QUICK/XOF', 'QUICK/XPD', 'QUICK/XPF', 'QUICK/XPT', 'QUICK/YER', 'QUICK/ZAR', 'QUICK/ZMW', 'QUICK/ZWL', 'AXS/AED', 'AXS/AFN', 'AXS/ALL', 'AXS/AMD', 'AXS/ANG', 'AXS/AOA', 'AXS/ARS', 'AXS/AUD', 'AXS/AWG', 'AXS/AZN', 'AXS/BAM', 'AXS/BBD', 'AXS/BDT', 'AXS/BGN', 'AXS/BHD', 'AXS/BIF', 'AXS/BMD', 'AXS/BND', 'AXS/BOB', 'AXS/BRL', 'AXS/BSD', 'AXS/BTN', 'AXS/BWP', 'AXS/BYN', 'AXS/BYR', 'AXS/BZD', 'AXS/CAD', 'AXS/CDF', 'AXS/CHF', 'AXS/CLF', 'AXS/CLP', 'AXS/CNH', 'AXS/CNY', 'AXS/COP', 'AXS/CRC', 'AXS/CUC', 'AXS/CVE', 'AXS/CZK', 'AXS/DJF', 'AXS/DKK', 'AXS/DOP', 'AXS/DZD', 'AXS/EGP', 'AXS/ERN', 'AXS/ETB', 'AXS/EUR', 'AXS/FJD', 'AXS/FKP', 'AXS/GBP', 'AXS/GBX', 'AXS/GEL', 'AXS/GGP', 'AXS/GHS', 'AXS/GIP', 'AXS/GMD', 'AXS/GNF', 'AXS/GTQ', 'AXS/GYD', 'AXS/HKD', 'AXS/HNL', 'AXS/HRK', 'AXS/HTG', 'AXS/HUF', 'AXS/IDR', 'AXS/ILS', 'AXS/IMP', 'AXS/INR', 'AXS/IQD', 'AXS/ISK', 'AXS/JEP', 'AXS/JMD', 'AXS/JOD', 'AXS/JPY', 'AXS/KES', 'AXS/KGS', 'AXS/KHR', 'AXS/KMF', 'AXS/KRW', 'AXS/KWD', 'AXS/KYD', 'AXS/KZT', 'AXS/LAK', 'AXS/LBP', 'AXS/LKR', 'AXS/LRD', 'AXS/LSL', 'AXS/LYD', 'AXS/MAD', 'AXS/MDL', 'AXS/MGA', 'AXS/MKD', 'AXS/MMK', 'AXS/MNT', 'AXS/MOP', 'AXS/MRO', 'AXS/MTL', 'AXS/MUR', 'AXS/MVR', 'AXS/MWK', 'AXS/MXN', 'AXS/MYR', 'AXS/MZN', 'AXS/NAD', 'AXS/NGN', 'AXS/NIO', 'AXS/NOK', 'AXS/NPR', 'AXS/NZD', 'AXS/OMR', 'AXS/PAB', 'AXS/PEN', 'AXS/PGK', 'AXS/PHP', 'AXS/PKR', 'AXS/PLN', 'AXS/PYG', 'AXS/QAR', 'AXS/RON', 'AXS/RSD', 'AXS/RUB', 'AXS/RWF', 'AXS/SAR', 'AXS/SBD', 'AXS/SCR', 'AXS/SEK', 'AXS/SGD', 'AXS/SHP', 'AXS/SLL', 'AXS/SOS', 'AXS/SRD', 'AXS/SSP', 'AXS/STD', 'AXS/SVC', 'AXS/SZL', 'AXS/THB', 'AXS/TJS', 'AXS/TMM', 'AXS/TMT', 'AXS/TND', 'AXS/TOP', 'AXS/TRY', 'AXS/TTD', 'AXS/TWD', 'AXS/TZS', 'AXS/UAH', 'AXS/UGX', 'AXS/USD', 'AXS/UYU', 'AXS/UZS', 'AXS/VES', 'AXS/VND', 'AXS/VUV', 'AXS/WST', 'AXS/XAF', 'AXS/XAG', 'AXS/XAU', 'AXS/XCD', 'AXS/XDR', 'AXS/XOF', 'AXS/XPD', 'AXS/XPF', 'AXS/XPT', 'AXS/YER', 'AXS/ZAR', 'AXS/ZMW', 'AXS/ZWL', 'REQ/AED', 'REQ/AFN', 'REQ/ALL', 'REQ/AMD', 'REQ/ANG', 'REQ/AOA', 'REQ/ARS', 'REQ/AUD', 'REQ/AWG', 'REQ/AZN', 'REQ/BAM', 'REQ/BBD', 'REQ/BDT', 'REQ/BGN', 'REQ/BHD', 'REQ/BIF', 'REQ/BMD', 'REQ/BND', 'REQ/BOB', 'REQ/BRL', 'REQ/BSD', 'REQ/BTN', 'REQ/BWP', 'REQ/BYN', 'REQ/BYR', 'REQ/BZD', 'REQ/CAD', 'REQ/CDF', 'REQ/CHF', 'REQ/CLF', 'REQ/CLP', 'REQ/CNH', 'REQ/CNY', 'REQ/COP', 'REQ/CRC', 'REQ/CUC', 'REQ/CVE', 'REQ/CZK', 'REQ/DJF', 'REQ/DKK', 'REQ/DOP', 'REQ/DZD', 'REQ/EGP', 'REQ/ERN', 'REQ/ETB', 'REQ/EUR', 'REQ/FJD', 'REQ/FKP', 'REQ/GBP', 'REQ/GBX', 'REQ/GEL', 'REQ/GGP', 'REQ/GHS', 'REQ/GIP', 'REQ/GMD', 'REQ/GNF', 'REQ/GTQ', 'REQ/GYD', 'REQ/HKD', 'REQ/HNL', 'REQ/HRK', 'REQ/HTG', 'REQ/HUF', 'REQ/IDR', 'REQ/ILS', 'REQ/IMP', 'REQ/INR', 'REQ/IQD', 'REQ/ISK', 'REQ/JEP', 'REQ/JMD', 'REQ/JOD', 'REQ/JPY', 'REQ/KES', 'REQ/KGS', 'REQ/KHR', 'REQ/KMF', 'REQ/KRW', 'REQ/KWD', 'REQ/KYD', 'REQ/KZT', 'REQ/LAK', 'REQ/LBP', 'REQ/LKR', 'REQ/LRD', 'REQ/LSL', 'REQ/LYD', 'REQ/MAD', 'REQ/MDL', 'REQ/MGA', 'REQ/MKD', 'REQ/MMK', 'REQ/MNT', 'REQ/MOP', 'REQ/MRO', 'REQ/MTL', 'REQ/MUR', 'REQ/MVR', 'REQ/MWK', 'REQ/MXN', 'REQ/MYR', 'REQ/MZN', 'REQ/NAD', 'REQ/NGN', 'REQ/NIO', 'REQ/NOK', 'REQ/NPR', 'REQ/NZD', 'REQ/OMR', 'REQ/PAB', 'REQ/PEN', 'REQ/PGK', 'REQ/PHP', 'REQ/PKR', 'REQ/PLN', 'REQ/PYG', 'REQ/QAR', 'REQ/RON', 'REQ/RSD', 'REQ/RUB', 'REQ/RWF', 'REQ/SAR', 'REQ/SBD', 'REQ/SCR', 'REQ/SEK', 'REQ/SGD', 'REQ/SHP', 'REQ/SLL', 'REQ/SOS', 'REQ/SRD', 'REQ/SSP', 'REQ/STD', 'REQ/SVC', 'REQ/SZL', 'REQ/THB', 'REQ/TJS', 'REQ/TMM', 'REQ/TMT', 'REQ/TND', 'REQ/TOP', 'REQ/TRY', 'REQ/TTD', 'REQ/TWD', 'REQ/TZS', 'REQ/UAH', 'REQ/UGX', 'REQ/USD', 'REQ/UYU', 'REQ/UZS', 'REQ/VES', 'REQ/VND', 'REQ/VUV', 'REQ/WST', 'REQ/XAF', 'REQ/XAG', 'REQ/XAU', 'REQ/XCD', 'REQ/XDR', 'REQ/XOF', 'REQ/XPD', 'REQ/XPF', 'REQ/XPT', 'REQ/YER', 'REQ/ZAR', 'REQ/ZMW', 'REQ/ZWL', 'WLUNA/AED', 'WLUNA/AFN', 'WLUNA/ALL', 'WLUNA/AMD', 'WLUNA/ANG', 'WLUNA/AOA', 'WLUNA/ARS', 'WLUNA/AUD', 'WLUNA/AWG', 'WLUNA/AZN', 'WLUNA/BAM', 'WLUNA/BBD', 'WLUNA/BDT', 'WLUNA/BGN', 'WLUNA/BHD', 'WLUNA/BIF', 'WLUNA/BMD', 'WLUNA/BND', 'WLUNA/BOB', 'WLUNA/BRL', 'WLUNA/BSD', 'WLUNA/BTN', 'WLUNA/BWP', 'WLUNA/BYN', 'WLUNA/BYR', 'WLUNA/BZD', 'WLUNA/CAD', 'WLUNA/CDF', 'WLUNA/CHF', 'WLUNA/CLF', 'WLUNA/CLP', 'WLUNA/CNH', 'WLUNA/CNY', 'WLUNA/COP', 'WLUNA/CRC', 'WLUNA/CUC', 'WLUNA/CVE', 'WLUNA/CZK', 'WLUNA/DJF', 'WLUNA/DKK', 'WLUNA/DOP', 'WLUNA/DZD', 'WLUNA/EGP', 'WLUNA/ERN', 'WLUNA/ETB', 'WLUNA/EUR', 'WLUNA/FJD', 'WLUNA/FKP', 'WLUNA/GBP', 'WLUNA/GBX', 'WLUNA/GEL', 'WLUNA/GGP', 'WLUNA/GHS', 'WLUNA/GIP', 'WLUNA/GMD', 'WLUNA/GNF', 'WLUNA/GTQ', 'WLUNA/GYD', 'WLUNA/HKD', 'WLUNA/HNL', 'WLUNA/HRK', 'WLUNA/HTG', 'WLUNA/HUF', 'WLUNA/IDR', 'WLUNA/ILS', 'WLUNA/IMP', 'WLUNA/INR', 'WLUNA/IQD', 'WLUNA/ISK', 'WLUNA/JEP', 'WLUNA/JMD', 'WLUNA/JOD', 'WLUNA/JPY', 'WLUNA/KES', 'WLUNA/KGS', 'WLUNA/KHR', 'WLUNA/KMF', 'WLUNA/KRW', 'WLUNA/KWD', 'WLUNA/KYD', 'WLUNA/KZT', 'WLUNA/LAK', 'WLUNA/LBP', 'WLUNA/LKR', 'WLUNA/LRD', 'WLUNA/LSL', 'WLUNA/LYD', 'WLUNA/MAD', 'WLUNA/MDL', 'WLUNA/MGA', 'WLUNA/MKD', 'WLUNA/MMK', 'WLUNA/MNT', 'WLUNA/MOP', 'WLUNA/MRO', 'WLUNA/MTL', 'WLUNA/MUR', 'WLUNA/MVR', 'WLUNA/MWK', 'WLUNA/MXN', 'WLUNA/MYR', 'WLUNA/MZN', 'WLUNA/NAD', 'WLUNA/NGN', 'WLUNA/NIO', 'WLUNA/NOK', 'WLUNA/NPR', 'WLUNA/NZD', 'WLUNA/OMR', 'WLUNA/PAB', 'WLUNA/PEN', 'WLUNA/PGK', 'WLUNA/PHP', 'WLUNA/PKR', 'WLUNA/PLN', 'WLUNA/PYG', 'WLUNA/QAR', 'WLUNA/RON', 'WLUNA/RSD', 'WLUNA/RUB', 'WLUNA/RWF', 'WLUNA/SAR', 'WLUNA/SBD', 'WLUNA/SCR', 'WLUNA/SEK', 'WLUNA/SGD', 'WLUNA/SHP', 'WLUNA/SLL', 'WLUNA/SOS', 'WLUNA/SRD', 'WLUNA/SSP', 'WLUNA/STD', 'WLUNA/SVC', 'WLUNA/SZL', 'WLUNA/THB', 'WLUNA/TJS', 'WLUNA/TMM', 'WLUNA/TMT', 'WLUNA/TND', 'WLUNA/TOP', 'WLUNA/TRY', 'WLUNA/TTD', 'WLUNA/TWD', 'WLUNA/TZS', 'WLUNA/UAH', 'WLUNA/UGX', 'WLUNA/USD', 'WLUNA/UYU', 'WLUNA/UZS', 'WLUNA/VES', 'WLUNA/VND', 'WLUNA/VUV', 'WLUNA/WST', 'WLUNA/XAF', 'WLUNA/XAG', 'WLUNA/XAU', 'WLUNA/XCD', 'WLUNA/XDR', 'WLUNA/XOF', 'WLUNA/XPD', 'WLUNA/XPF', 'WLUNA/XPT', 'WLUNA/YER', 'WLUNA/ZAR', 'WLUNA/ZMW', 'WLUNA/ZWL', 'TRU/AED', 'TRU/AFN', 'TRU/ALL', 'TRU/AMD', 'TRU/ANG', 'TRU/AOA', 'TRU/ARS', 'TRU/AUD', 'TRU/AWG', 'TRU/AZN', 'TRU/BAM', 'TRU/BBD', 'TRU/BDT', 'TRU/BGN', 'TRU/BHD', 'TRU/BIF', 'TRU/BMD', 'TRU/BND', 'TRU/BOB', 'TRU/BRL', 'TRU/BSD', 'TRU/BTN', 'TRU/BWP', 'TRU/BYN', 'TRU/BYR', 'TRU/BZD', 'TRU/CAD', 'TRU/CDF', 'TRU/CHF', 'TRU/CLF', 'TRU/CLP', 'TRU/CNH', 'TRU/CNY', 'TRU/COP', 'TRU/CRC', 'TRU/CUC', 'TRU/CVE', 'TRU/CZK', 'TRU/DJF', 'TRU/DKK', 'TRU/DOP', 'TRU/DZD', 'TRU/EGP', 'TRU/ERN', 'TRU/ETB', 'TRU/EUR', 'TRU/FJD', 'TRU/FKP', 'TRU/GBP', 'TRU/GBX', 'TRU/GEL', 'TRU/GGP', 'TRU/GHS', 'TRU/GIP', 'TRU/GMD', 'TRU/GNF', 'TRU/GTQ', 'TRU/GYD', 'TRU/HKD', 'TRU/HNL', 'TRU/HRK', 'TRU/HTG', 'TRU/HUF', 'TRU/IDR', 'TRU/ILS', 'TRU/IMP', 'TRU/INR', 'TRU/IQD', 'TRU/ISK', 'TRU/JEP', 'TRU/JMD', 'TRU/JOD', 'TRU/JPY', 'TRU/KES', 'TRU/KGS', 'TRU/KHR', 'TRU/KMF', 'TRU/KRW', 'TRU/KWD', 'TRU/KYD', 'TRU/KZT', 'TRU/LAK', 'TRU/LBP', 'TRU/LKR', 'TRU/LRD', 'TRU/LSL', 'TRU/LYD', 'TRU/MAD', 'TRU/MDL', 'TRU/MGA', 'TRU/MKD', 'TRU/MMK', 'TRU/MNT', 'TRU/MOP', 'TRU/MRO', 'TRU/MTL', 'TRU/MUR', 'TRU/MVR', 'TRU/MWK', 'TRU/MXN', 'TRU/MYR', 'TRU/MZN', 'TRU/NAD', 'TRU/NGN', 'TRU/NIO', 'TRU/NOK', 'TRU/NPR', 'TRU/NZD', 'TRU/OMR', 'TRU/PAB', 'TRU/PEN', 'TRU/PGK', 'TRU/PHP', 'TRU/PKR', 'TRU/PLN', 'TRU/PYG', 'TRU/QAR', 'TRU/RON', 'TRU/RSD', 'TRU/RUB', 'TRU/RWF', 'TRU/SAR', 'TRU/SBD', 'TRU/SCR', 'TRU/SEK', 'TRU/SGD', 'TRU/SHP', 'TRU/SLL', 'TRU/SOS', 'TRU/SRD', 'TRU/SSP', 'TRU/STD', 'TRU/SVC', 'TRU/SZL', 'TRU/THB', 'TRU/TJS', 'TRU/TMM', 'TRU/TMT', 'TRU/TND', 'TRU/TOP', 'TRU/TRY', 'TRU/TTD', 'TRU/TWD', 'TRU/TZS', 'TRU/UAH', 'TRU/UGX', 'TRU/USD', 'TRU/UYU', 'TRU/UZS', 'TRU/VES', 'TRU/VND', 'TRU/VUV', 'TRU/WST', 'TRU/XAF', 'TRU/XAG', 'TRU/XAU', 'TRU/XCD', 'TRU/XDR', 'TRU/XOF', 'TRU/XPD', 'TRU/XPF', 'TRU/XPT', 'TRU/YER', 'TRU/ZAR', 'TRU/ZMW', 'TRU/ZWL', 'RAD/AED', 'RAD/AFN', 'RAD/ALL', 'RAD/AMD', 'RAD/ANG', 'RAD/AOA', 'RAD/ARS', 'RAD/AUD', 'RAD/AWG', 'RAD/AZN', 'RAD/BAM', 'RAD/BBD', 'RAD/BDT', 'RAD/BGN', 'RAD/BHD', 'RAD/BIF', 'RAD/BMD', 'RAD/BND', 'RAD/BOB', 'RAD/BRL', 'RAD/BSD', 'RAD/BTN', 'RAD/BWP', 'RAD/BYN', 'RAD/BYR', 'RAD/BZD', 'RAD/CAD', 'RAD/CDF', 'RAD/CHF', 'RAD/CLF', 'RAD/CLP', 'RAD/CNH', 'RAD/CNY', 'RAD/COP', 'RAD/CRC', 'RAD/CUC', 'RAD/CVE', 'RAD/CZK', 'RAD/DJF', 'RAD/DKK', 'RAD/DOP', 'RAD/DZD', 'RAD/EGP', 'RAD/ERN', 'RAD/ETB', 'RAD/EUR', 'RAD/FJD', 'RAD/FKP', 'RAD/GBP', 'RAD/GBX', 'RAD/GEL', 'RAD/GGP', 'RAD/GHS', 'RAD/GIP', 'RAD/GMD', 'RAD/GNF', 'RAD/GTQ', 'RAD/GYD', 'RAD/HKD', 'RAD/HNL', 'RAD/HRK', 'RAD/HTG', 'RAD/HUF', 'RAD/IDR', 'RAD/ILS', 'RAD/IMP', 'RAD/INR', 'RAD/IQD', 'RAD/ISK', 'RAD/JEP', 'RAD/JMD', 'RAD/JOD', 'RAD/JPY', 'RAD/KES', 'RAD/KGS', 'RAD/KHR', 'RAD/KMF', 'RAD/KRW', 'RAD/KWD', 'RAD/KYD', 'RAD/KZT', 'RAD/LAK', 'RAD/LBP', 'RAD/LKR', 'RAD/LRD', 'RAD/LSL', 'RAD/LYD', 'RAD/MAD', 'RAD/MDL', 'RAD/MGA', 'RAD/MKD', 'RAD/MMK', 'RAD/MNT', 'RAD/MOP', 'RAD/MRO', 'RAD/MTL', 'RAD/MUR', 'RAD/MVR', 'RAD/MWK', 'RAD/MXN', 'RAD/MYR', 'RAD/MZN', 'RAD/NAD', 'RAD/NGN', 'RAD/NIO', 'RAD/NOK', 'RAD/NPR', 'RAD/NZD', 'RAD/OMR', 'RAD/PAB', 'RAD/PEN', 'RAD/PGK', 'RAD/PHP', 'RAD/PKR', 'RAD/PLN', 'RAD/PYG', 'RAD/QAR', 'RAD/RON', 'RAD/RSD', 'RAD/RUB', 'RAD/RWF', 'RAD/SAR', 'RAD/SBD', 'RAD/SCR', 'RAD/SEK', 'RAD/SGD', 'RAD/SHP', 'RAD/SLL', 'RAD/SOS', 'RAD/SRD', 'RAD/SSP', 'RAD/STD', 'RAD/SVC', 'RAD/SZL', 'RAD/THB', 'RAD/TJS', 'RAD/TMM', 'RAD/TMT', 'RAD/TND', 'RAD/TOP', 'RAD/TRY', 'RAD/TTD', 'RAD/TWD', 'RAD/TZS', 'RAD/UAH', 'RAD/UGX', 'RAD/USD', 'RAD/UYU', 'RAD/UZS', 'RAD/VES', 'RAD/VND', 'RAD/VUV', 'RAD/WST', 'RAD/XAF', 'RAD/XAG', 'RAD/XAU', 'RAD/XCD', 'RAD/XDR', 'RAD/XOF', 'RAD/XPD', 'RAD/XPF', 'RAD/XPT', 'RAD/YER', 'RAD/ZAR', 'RAD/ZMW', 'RAD/ZWL', 'COTI/AED', 'COTI/AFN', 'COTI/ALL', 'COTI/AMD', 'COTI/ANG', 'COTI/AOA', 'COTI/ARS', 'COTI/AUD', 'COTI/AWG', 'COTI/AZN', 'COTI/BAM', 'COTI/BBD', 'COTI/BDT', 'COTI/BGN', 'COTI/BHD', 'COTI/BIF', 'COTI/BMD', 'COTI/BND', 'COTI/BOB', 'COTI/BRL', 'COTI/BSD', 'COTI/BTN', 'COTI/BWP', 'COTI/BYN', 'COTI/BYR', 'COTI/BZD', 'COTI/CAD', 'COTI/CDF', 'COTI/CHF', 'COTI/CLF', 'COTI/CLP', 'COTI/CNH', 'COTI/CNY', 'COTI/COP', 'COTI/CRC', 'COTI/CUC', 'COTI/CVE', 'COTI/CZK', 'COTI/DJF', 'COTI/DKK', 'COTI/DOP', 'COTI/DZD', 'COTI/EGP', 'COTI/ERN', 'COTI/ETB', 'COTI/EUR', 'COTI/FJD', 'COTI/FKP', 'COTI/GBP', 'COTI/GBX', 'COTI/GEL', 'COTI/GGP', 'COTI/GHS', 'COTI/GIP', 'COTI/GMD', 'COTI/GNF', 'COTI/GTQ', 'COTI/GYD', 'COTI/HKD', 'COTI/HNL', 'COTI/HRK', 'COTI/HTG', 'COTI/HUF', 'COTI/IDR', 'COTI/ILS', 'COTI/IMP', 'COTI/INR', 'COTI/IQD', 'COTI/ISK', 'COTI/JEP', 'COTI/JMD', 'COTI/JOD', 'COTI/JPY', 'COTI/KES', 'COTI/KGS', 'COTI/KHR', 'COTI/KMF', 'COTI/KRW', 'COTI/KWD', 'COTI/KYD', 'COTI/KZT', 'COTI/LAK', 'COTI/LBP', 'COTI/LKR', 'COTI/LRD', 'COTI/LSL', 'COTI/LYD', 'COTI/MAD', 'COTI/MDL', 'COTI/MGA', 'COTI/MKD', 'COTI/MMK', 'COTI/MNT', 'COTI/MOP', 'COTI/MRO', 'COTI/MTL', 'COTI/MUR', 'COTI/MVR', 'COTI/MWK', 'COTI/MXN', 'COTI/MYR', 'COTI/MZN', 'COTI/NAD', 'COTI/NGN', 'COTI/NIO', 'COTI/NOK', 'COTI/NPR', 'COTI/NZD', 'COTI/OMR', 'COTI/PAB', 'COTI/PEN', 'COTI/PGK', 'COTI/PHP', 'COTI/PKR', 'COTI/PLN', 'COTI/PYG', 'COTI/QAR', 'COTI/RON', 'COTI/RSD', 'COTI/RUB', 'COTI/RWF', 'COTI/SAR', 'COTI/SBD', 'COTI/SCR', 'COTI/SEK', 'COTI/SGD', 'COTI/SHP', 'COTI/SLL', 'COTI/SOS', 'COTI/SRD', 'COTI/SSP', 'COTI/STD', 'COTI/SVC', 'COTI/SZL', 'COTI/THB', 'COTI/TJS', 'COTI/TMM', 'COTI/TMT', 'COTI/TND', 'COTI/TOP', 'COTI/TRY', 'COTI/TTD', 'COTI/TWD', 'COTI/TZS', 'COTI/UAH', 'COTI/UGX', 'COTI/USD', 'COTI/UYU', 'COTI/UZS', 'COTI/VES', 'COTI/VND', 'COTI/VUV', 'COTI/WST', 'COTI/XAF', 'COTI/XAG', 'COTI/XAU', 'COTI/XCD', 'COTI/XDR', 'COTI/XOF', 'COTI/XPD', 'COTI/XPF', 'COTI/XPT', 'COTI/YER', 'COTI/ZAR', 'COTI/ZMW', 'COTI/ZWL', 'DDX/AED', 'DDX/AFN', 'DDX/ALL', 'DDX/AMD', 'DDX/ANG', 'DDX/AOA', 'DDX/ARS', 'DDX/AUD', 'DDX/AWG', 'DDX/AZN', 'DDX/BAM', 'DDX/BBD', 'DDX/BDT', 'DDX/BGN', 'DDX/BHD', 'DDX/BIF', 'DDX/BMD', 'DDX/BND', 'DDX/BOB', 'DDX/BRL', 'DDX/BSD', 'DDX/BTN', 'DDX/BWP', 'DDX/BYN', 'DDX/BYR', 'DDX/BZD', 'DDX/CAD', 'DDX/CDF', 'DDX/CHF', 'DDX/CLF', 'DDX/CLP', 'DDX/CNH', 'DDX/CNY', 'DDX/COP', 'DDX/CRC', 'DDX/CUC', 'DDX/CVE', 'DDX/CZK', 'DDX/DJF', 'DDX/DKK', 'DDX/DOP', 'DDX/DZD', 'DDX/EGP', 'DDX/ERN', 'DDX/ETB', 'DDX/EUR', 'DDX/FJD', 'DDX/FKP', 'DDX/GBP', 'DDX/GBX', 'DDX/GEL', 'DDX/GGP', 'DDX/GHS', 'DDX/GIP', 'DDX/GMD', 'DDX/GNF', 'DDX/GTQ', 'DDX/GYD', 'DDX/HKD', 'DDX/HNL', 'DDX/HRK', 'DDX/HTG', 'DDX/HUF', 'DDX/IDR', 'DDX/ILS', 'DDX/IMP', 'DDX/INR', 'DDX/IQD', 'DDX/ISK', 'DDX/JEP', 'DDX/JMD', 'DDX/JOD', 'DDX/JPY', 'DDX/KES', 'DDX/KGS', 'DDX/KHR', 'DDX/KMF', 'DDX/KRW', 'DDX/KWD', 'DDX/KYD', 'DDX/KZT', 'DDX/LAK', 'DDX/LBP', 'DDX/LKR', 'DDX/LRD', 'DDX/LSL', 'DDX/LYD', 'DDX/MAD', 'DDX/MDL', 'DDX/MGA', 'DDX/MKD', 'DDX/MMK', 'DDX/MNT', 'DDX/MOP', 'DDX/MRO', 'DDX/MTL', 'DDX/MUR', 'DDX/MVR', 'DDX/MWK', 'DDX/MXN', 'DDX/MYR', 'DDX/MZN', 'DDX/NAD', 'DDX/NGN', 'DDX/NIO', 'DDX/NOK', 'DDX/NPR', 'DDX/NZD', 'DDX/OMR', 'DDX/PAB', 'DDX/PEN', 'DDX/PGK', 'DDX/PHP', 'DDX/PKR', 'DDX/PLN', 'DDX/PYG', 'DDX/QAR', 'DDX/RON', 'DDX/RSD', 'DDX/RUB', 'DDX/RWF', 'DDX/SAR', 'DDX/SBD', 'DDX/SCR', 'DDX/SEK', 'DDX/SGD', 'DDX/SHP', 'DDX/SLL', 'DDX/SOS', 'DDX/SRD', 'DDX/SSP', 'DDX/STD', 'DDX/SVC', 'DDX/SZL', 'DDX/THB', 'DDX/TJS', 'DDX/TMM', 'DDX/TMT', 'DDX/TND', 'DDX/TOP', 'DDX/TRY', 'DDX/TTD', 'DDX/TWD', 'DDX/TZS', 'DDX/UAH', 'DDX/UGX', 'DDX/USD', 'DDX/UYU', 'DDX/UZS', 'DDX/VES', 'DDX/VND', 'DDX/VUV', 'DDX/WST', 'DDX/XAF', 'DDX/XAG', 'DDX/XAU', 'DDX/XCD', 'DDX/XDR', 'DDX/XOF', 'DDX/XPD', 'DDX/XPF', 'DDX/XPT', 'DDX/YER', 'DDX/ZAR', 'DDX/ZMW', 'DDX/ZWL'])\n",
      "==================================================\n",
      "kraken:\n",
      "Has fetchOHLCV: True\n",
      "Has fetchTrades: True\n",
      "Available timeframes:\n",
      "{'1m': 1, '5m': 5, '15m': 15, '30m': 30, '1h': 60, '4h': 240, '1d': 1440, '1w': 10080, '2w': 21600}\n",
      "Available currency pairs:\n",
      "dict_keys(['1INCH/EUR', '1INCH/USD', 'AAVE/AUD', 'AAVE/ETH', 'AAVE/EUR', 'AAVE/GBP', 'AAVE/USD', 'AAVE/BTC', 'ADA/AUD', 'ADA/ETH', 'ADA/EUR', 'ADA/GBP', 'ADA/USD', 'ADA/USDT', 'ADA/BTC', 'ALGO/ETH', 'ALGO/EUR', 'ALGO/GBP', 'ALGO/USD', 'ALGO/BTC', 'ANKR/EUR', 'ANKR/GBP', 'ANKR/USD', 'ANKR/BTC', 'ANT/ETH', 'ANT/EUR', 'ANT/USD', 'ANT/BTC', 'ATOM/AUD', 'ATOM/ETH', 'ATOM/EUR', 'ATOM/GBP', 'ATOM/USD', 'ATOM/BTC', 'AUD/JPY', 'AUD/USD', 'AXS/EUR', 'AXS/USD', 'BADGER/EUR', 'BADGER/USD', 'BAL/ETH', 'BAL/EUR', 'BAL/USD', 'BAL/BTC', 'BAND/EUR', 'BAND/USD', 'BAT/ETH', 'BAT/EUR', 'BAT/USD', 'BAT/BTC', 'BCH/AUD', 'BCH/ETH', 'BCH/EUR', 'BCH/GBP', 'BCH/JPY', 'BCH/USD', 'BCH/USDT', 'BCH/BTC', 'BNT/EUR', 'BNT/GBP', 'BNT/USD', 'BNT/BTC', 'CHZ/EUR', 'CHZ/USD', 'COMP/ETH', 'COMP/EUR', 'COMP/USD', 'COMP/BTC', 'CQT/EUR', 'CQT/USD', 'CRV/ETH', 'CRV/EUR', 'CRV/USD', 'CRV/BTC', 'CTSI/EUR', 'CTSI/USD', 'DAI/EUR', 'DAI/USD', 'DAI/USDT', 'DASH/EUR', 'DASH/USD', 'DASH/BTC', 'DOT/AUD', 'DOT/ETH', 'DOT/EUR', 'DOT/GBP', 'DOT/USD', 'DOT/USDT', 'DOT/BTC', 'ENJ/EUR', 'ENJ/GBP', 'ENJ/USD', 'ENJ/BTC', 'EOS/ETH', 'EOS/EUR', 'EOS/USD', 'EOS/USDT', 'EOS/BTC', 'ETH2.S/ETH', 'ETH/AUD', 'ETH/CHF', 'ETH/DAI', 'ETH/USDC', 'ETH/USDT', 'EUR/AUD', 'EUR/CAD', 'EUR/CHF', 'EUR/GBP', 'EUR/JPY', 'EWT/EUR', 'EWT/GBP', 'EWT/USD', 'EWT/BTC', 'FIL/AUD', 'FIL/ETH', 'FIL/EUR', 'FIL/GBP', 'FIL/USD', 'FIL/BTC', 'FLOW/ETH', 'FLOW/EUR', 'FLOW/GBP', 'FLOW/USD', 'FLOW/BTC', 'GHST/EUR', 'GHST/GBP', 'GHST/USD', 'GHST/BTC', 'GNO/ETH', 'GNO/EUR', 'GNO/USD', 'GNO/BTC', 'GRT/AUD', 'GRT/ETH', 'GRT/EUR', 'GRT/GBP', 'GRT/USD', 'GRT/BTC', 'ICX/ETH', 'ICX/EUR', 'ICX/USD', 'ICX/BTC', 'INJ/EUR', 'INJ/USD', 'KAR/EUR', 'KAR/USD', 'KAVA/ETH', 'KAVA/EUR', 'KAVA/USD', 'KAVA/BTC', 'KEEP/ETH', 'KEEP/EUR', 'KEEP/USD', 'KEEP/BTC', 'KNC/ETH', 'KNC/EUR', 'KNC/USD', 'KNC/BTC', 'KSM/AUD', 'KSM/DOT', 'KSM/ETH', 'KSM/EUR', 'KSM/GBP', 'KSM/USD', 'KSM/BTC', 'LINK/AUD', 'LINK/ETH', 'LINK/EUR', 'LINK/GBP', 'LINK/USD', 'LINK/USDT', 'LINK/BTC', 'LPT/EUR', 'LPT/GBP', 'LPT/USD', 'LPT/BTC', 'LRC/EUR', 'LRC/USD', 'LSK/ETH', 'LSK/EUR', 'LSK/USD', 'LSK/BTC', 'LTC/AUD', 'LTC/ETH', 'LTC/GBP', 'LTC/USDT', 'MANA/ETH', 'MANA/EUR', 'MANA/USD', 'MANA/BTC', 'MATIC/EUR', 'MATIC/GBP', 'MATIC/USD', 'MATIC/BTC', 'MINA/EUR', 'MINA/GBP', 'MINA/USD', 'MINA/BTC', 'MIR/EUR', 'MIR/USD', 'MKR/EUR', 'MKR/GBP', 'MKR/USD', 'MKR/BTC', 'MOVR/EUR', 'MOVR/USD', 'NANO/ETH', 'NANO/EUR', 'NANO/USD', 'NANO/BTC', 'OCEAN/EUR', 'OCEAN/GBP', 'OCEAN/USD', 'OCEAN/BTC', 'OGN/EUR', 'OGN/USD', 'OMG/ETH', 'OMG/EUR', 'OMG/USD', 'OMG/BTC', 'OXT/ETH', 'OXT/EUR', 'OXT/USD', 'OXT/BTC', 'PAXG/ETH', 'PAXG/EUR', 'PAXG/USD', 'PAXG/BTC', 'PERP/EUR', 'PERP/USD', 'QTUM/ETH', 'QTUM/EUR', 'QTUM/USD', 'QTUM/BTC', 'RARI/EUR', 'RARI/GBP', 'RARI/USD', 'RARI/BTC', 'REN/EUR', 'REN/GBP', 'REN/USD', 'REN/BTC', 'REP/ETH', 'REP/EUR', 'REP/USD', 'REP/BTC', 'SAND/EUR', 'SAND/GBP', 'SAND/USD', 'SAND/BTC', 'SC/ETH', 'SC/EUR', 'SC/USD', 'SC/BTC', 'SDN/EUR', 'SDN/USD', 'SNX/AUD', 'SNX/ETH', 'SNX/EUR', 'SNX/GBP', 'SNX/USD', 'SNX/BTC', 'SOL/EUR', 'SOL/GBP', 'SOL/USD', 'SOL/BTC', 'SRM/EUR', 'SRM/GBP', 'SRM/USD', 'SRM/BTC', 'STORJ/ETH', 'STORJ/EUR', 'STORJ/USD', 'STORJ/BTC', 'SUSHI/EUR', 'SUSHI/GBP', 'SUSHI/USD', 'SUSHI/BTC', 'TBTC/ETH', 'TBTC/EUR', 'TBTC/USD', 'TBTC/BTC', 'TRX/ETH', 'TRX/EUR', 'TRX/USD', 'TRX/BTC', 'UNI/ETH', 'UNI/EUR', 'UNI/USD', 'UNI/BTC', 'USDC/AUD', 'USDC/EUR', 'USDC/GBP', 'USD/CHF', 'USDC/USD', 'USDC/USDT', 'USDT/AUD', 'USDT/CAD', 'USDT/CHF', 'USDT/EUR', 'USDT/GBP', 'USDT/JPY', 'USDT/USD', 'WAVES/ETH', 'WAVES/EUR', 'WAVES/USD', 'WAVES/BTC', 'WBTC/EUR', 'WBTC/USD', 'WBTC/BTC', 'BTC/AUD', 'BTC/CHF', 'BTC/DAI', 'BTC/USDC', 'BTC/USDT', 'DOGE/EUR', 'DOGE/USD', 'DOGE/USDT', 'ETC/ETH', 'ETC/BTC', 'ETC/EUR', 'ETC/USD', 'ETH/BTC', 'ETHXBT.d', 'ETH/CAD', 'ETHCAD.d', 'ETH/EUR', 'ETHEUR.d', 'ETH/GBP', 'ETHGBP.d', 'ETH/JPY', 'ETHJPY.d', 'ETH/USD', 'ETHUSD.d', 'LTC/BTC', 'LTC/EUR', 'LTC/JPY', 'LTC/USD', 'MLN/ETH', 'MLN/BTC', 'MLN/EUR', 'MLN/USD', 'REPV1/ETH', 'REPV1/BTC', 'REPV1/EUR', 'REPV1/USD', 'XRP/AUD', 'XRP/ETH', 'XRP/GBP', 'XRP/USDT', 'XTZ/AUD', 'XTZ/ETH', 'XTZ/EUR', 'XTZ/GBP', 'XTZ/USD', 'XTZ/BTC', 'BTC/CAD', 'XBTCAD.d', 'BTC/EUR', 'XBTEUR.d', 'BTC/GBP', 'XBTGBP.d', 'BTC/JPY', 'XBTJPY.d', 'BTC/USD', 'XBTUSD.d', 'DOGE/BTC', 'XLM/BTC', 'XLM/AUD', 'XLM/EUR', 'XLM/GBP', 'XLM/USD', 'XMR/BTC', 'XMR/EUR', 'XMR/USD', 'XRP/BTC', 'XRP/CAD', 'XRP/EUR', 'XRP/JPY', 'XRP/USD', 'ZEC/BTC', 'ZEC/EUR', 'ZEC/USD', 'YFI/AUD', 'YFI/ETH', 'YFI/EUR', 'YFI/GBP', 'YFI/USD', 'YFI/BTC', 'EUR/USD', 'GBP/USD', 'ZRX/EUR', 'ZRX/GBP', 'ZRX/USD', 'ZRX/BTC', 'USD/CAD', 'USD/JPY'])\n",
      "==================================================\n",
      "huobi:\n",
      "Has fetchOHLCV: True\n",
      "Has fetchTrades: True\n",
      "Available timeframes:\n",
      "{'1m': '1min', '5m': '5min', '15m': '15min', '30m': '30min', '1h': '60min', '4h': '4hour', '1d': '1day', '1w': '1week', '1M': '1mon', '1y': '1year'}\n",
      "Available currency pairs:\n"
     ]
    },
    {
     "name": "stdout",
     "output_type": "stream",
     "text": [
      "dict_keys(['BCH/HUSD', 'UIP/USDT', 'STN/ETH', 'HBAR/USDT', 'QASH/ETH', 'RAI/USDT', 'MX/HT', 'WNXM/BTC', 'TOS/BTC', 'BCH3L/USDT', 'YFII/BTC', 'EOS/ETH', 'APN/BTC', 'SWRV/BTC', 'DHT/ETH', 'HBC/BTC', 'BTS/BTC', 'POWR/ETH', 'TNB/USDT', 'NEXO/USDT', 'ATP/BTC', 'DTA/BTC', 'CHR/USDT', 'LRC/BTC', 'APPC/ETH', 'PORTAL/BTC', 'XTZ/HUSD', 'FORTH/ETH', 'EVX/ETH', 'IDT/BTC', 'AAC/USDT', 'MASS/USDT', 'GSC/ETH', 'AE/ETH', 'RVN/HT', 'STPT/USDT', 'EDU/BTC', 'XEM/USDT', 'AR/USDT', 'DCR/ETH', 'YCC/BTC', 'DASH/HT', 'NULS/USDT', 'AST/ETH', 'VET/HUSD', 'ZEN/ETH', 'NCASH/BTC', 'KAVA/ETH', 'BAL/BTC', 'UNI/ETH', 'Themis/BTC', 'LTC/HT', 'YGG/USDT', 'ELA/ETH', 'NU/USDT', 'SKL/ETH', 'BLZ/BTC', 'CNN/ETH', 'ONT/BTC', 'XRT/ETH', 'PUNDIX/BTC', 'ZRX/ETH', 'ICX/USDT', 'LET/USDT', 'VET/USDT', 'NEXO/ETH', 'LBA/USDT', 'UNI/USDT', 'IRIS/HUSD', 'WPR/ETH', 'BAND/ETH', 'QSP/ETH', 'TRIO/BTC', '1INCH/ETH', 'XRP/HUSD', 'FOR/HT', 'CNNS/USDT', 'DATX/ETH', 'STK/BTC', 'MT/BTC', 'LOL/BTC', 'CHZ/BTC', 'BCH/USDT', 'AE/USDT', 'BCH3S/USDT', 'AAVE/ETH', 'GOF/ETH', 'BUT/BTC', 'MASS/ETH', 'UIP/ETH', 'XMX/BTC', 'TALK/USDT', 'ALGO/USDT', 'PROPY/BTC', 'ALGO/ETH', 'SOC/USDT', 'XMR/ETH', 'ALGO/HUSD', 'GRT/USDT', 'AST/USDT', 'BOX/ETH', 'TNB/ETH', 'LYM/BTC', 'ZEN/USDT', 'MONFTER/BTC', 'BIX/ETH', 'ETN/ETH', '1INCH/USDT', 'QTUM/USDT', 'NODE/USDT', 'ZIL/HUSD', 'NULS/ETH', 'UNI/HUSD', 'HitChain/BTC', 'SUN/BTC', 'XRT/USDT', 'DBC/ETH', 'NEW/BTC', 'TT/HT', 'WXT/USDT', 'FRONT/USDT', 'LBA/ETH', 'XRP/USDT', 'INJ/BTC', 'MAN/ETH', 'QTUM/HUSD', 'SKL/USDT', 'FIRO/ETH', 'XCH/USDT', 'GLM/BTC', 'DAT/BTC', 'ETC/BTC', 'NPXS/ETH', 'UGAS/ETH', 'VEN/ETH', 'EGCC/ETH', 'SKM/USDT', 'XTZ/ETH', 'BAND/USDT', 'BTM/HUSD', 'ETC/HT', 'EKT/ETH', 'FIL/USDT', 'SHIB/USDT', 'GVE/ETH', 'PUSH/BTC', 'LUN/ETH', 'CVNT/ETH', 'EGT/USDT', 'BIX/USDT', 'NKN/BTC', 'PHA/BTC', 'EOS/HUSD', 'NEST/USDT', 'FIL3L/USDT', 'EPIK/HT', 'DGB/ETH', 'NANO/ETH', 'KSM/HT', 'CDC/ETH', 'MLN/USDT', 'FILDA/BTC', 'TOP/BTC', 'GRT/ETH', 'ONE/HT', 'AAVE/USDT', 'FRONT/ETH', 'TITAN/BTC', 'ENJ/USDT', 'FIL/HUSD', 'LINA/BTC', 'CTXC/ETH', 'OGN/USDT', 'MANA/BTC', 'PAI/BTC', 'KNC/ETH', 'EM/HT', 'EOS/USDT', 'YFI/BTC', 'DOCK/ETH', 'BTM/USDT', 'GT/HT', 'IRIS/USDT', 'HBAR/ETH', 'XRP3L/USDT', 'JST/BTC', 'LET/ETH', 'AKRO/USDT', 'NHBTC/USDT', 'MEET/ETH', 'WAXP/ETH', 'API3/USDT', 'GXC/BTC', 'RSR/USDT', 'FTI/BTC', 'AKRO/HUSD', 'RSR/HUSD', 'RBTC/BTC', 'KMD/BTC', 'SAND/HT', 'O3/BTC', 'CRE/HT', 'MDX/HT', 'XTZ/USDT', 'WBTC/BTC', 'NSURE/ETH', 'ICP/USDT', 'COVA/BTC', 'DHT/USDT', 'BCV/BTC', 'SNX/HUSD', 'BKBT/BTC', 'RNDR/BTC', 'LINK/BTC', 'INSUR/USDT', 'ATOM/ETH', 'SRN/ETH', 'TT/BTC', 'ADA/HUSD', 'ANT/BTC', 'VEN/USDT', 'BAND/HUSD', 'LAT/BTC', 'WICC/ETH', 'NANO/USDT', 'ETH3L/USDT', 'NEST/HUSD', 'AAC/ETH', 'ADA/USDT', 'TRB/BTC', 'NHBTC/ETH', 'NEST/ETH', 'XLM/BTC', 'NCC/BTC', 'CTXC/USDT', 'ZEC3S/USDT', 'FIL/ETH', 'SNC/ETH', 'DOCK/USDT', 'HPT/BTC', 'VET/ETH', 'SNX/USDT', 'NSURE/USDT', 'CRU/ETH', 'SALT/BTC', 'CKB/HT', 'Bitcoin File/BTC', 'SSP/ETH', 'SUSHI/USDT', 'MEX/BTC', 'SUSHI/HUSD', 'API3/ETH', 'KAN/USDT', 'ITC/BTC', 'SAND/USDT', 'SUSHI/BTC', 'SEELE/BTC', 'BOR/ETH', 'BTC3L/USDT', 'CRV/ETH', 'OCN/BTC', 'SWFTC/ETH', 'PHA/USDT', 'PC/ETH', 'NCC/ETH', 'MTL/BTC', 'ARPA/HT', 'MDS/ETH', 'OXT/ETH', 'USDC/HUSD', 'AKRO/HT', 'WTC/ETH', 'NEST/HT', 'BTM/ETH', 'HT/BTC', 'DF/USDT', 'ABT/ETH', 'POLS/USDT', 'XVG/BTC', 'VIDY/USDT', 'ANKR/BTC', 'DOGE/USDT', 'NEW/HT', 'TRB/USDT', 'ZKS/BTC', 'YEE/ETH', 'BAT/ETH', 'RSR/HT', 'VALUE/ETH', 'DKA/ETH', 'CVC/BTC', 'FILDA/USDT', 'NEO/BTC', 'WICC/USDT', 'MLN/BTC', 'LAT/USDT', 'HIVE/USDT', 'ATOM/USDT', 'INSUR/ETH', 'OCN/ETH', 'CRU/USDT', 'SHE/ETH', 'OXT/BTC', 'EKO/ETH', 'USDT/HUSD', 'OGN/HT', 'FIL3S/USDT', 'ENG/ETH', 'OMG/BTC', 'RDN/ETH', 'EKT/USDT', 'HT/ETH', 'AVAX/BTC', 'BCX/BTC', 'FSN/USDT', 'HBC/HT', 'LOL/HT', 'MUSK/ETH', 'XCH/BTC', 'UTK/BTC', 'STEEM/BTC', 'OMG/ETH', 'SEELE/ETH', 'SUSHI/ETH', 'AGLD/BTC', 'COMP/BTC', 'FRONT/BTC', 'MATIC/ETH', 'BADGER/USDT', 'SUN/USDT', 'UMA/BTC', 'UMA/ETH', 'MKR/BTC', 'MCO/BTC', 'LAMB/BTC', 'HPT/USDT', 'MATIC/BTC', 'SMT/USDT', 'CRE/BTC', 'LINA/ETH', 'BTT/TRX', 'TRX/ETH', 'MDX/BTC', 'IOTX/BTC', 'EKO/BTC', 'FOR/USDT', 'BFT/ETH', 'GVE/BTC', 'CRO/HUSD', 'BOT/BTC', 'ARDR/ETH', 'XTZ/BTC', 'IOTX/USDT', 'BNT/USDT', 'VALUE/BTC', 'OST/ETH', 'RING/BTC', 'BTT/ETH', 'CAN/BTC', 'RING/ETH', 'LTC/BTC', 'DGD/ETH', 'WAN/BTC', 'LOOM/BTC', 'ZJLT/ETH', 'YAM/USDT', 'KCASH/HT', 'XMR/USDT', 'NBS/USDT', 'LINK/HUSD', 'HIVE/BTC', 'MLN/ETH', 'ONE/BTC', 'GOF/USDT', 'DGD/BTC', 'FAIR/ETH', 'FLOW/USDT', 'ZIL/USDT', 'OST/BTC', 'GT/BTC', 'TRX/BTC', 'ADX/ETH', 'LUNA/USDT', 'LSK/ETH', 'WOO/USDT', 'VIDY/BTC', 'FSN/BTC', 'BTM/BTC', 'SC/BTC', 'CKB/USDT', 'NPXS/BTC', 'CRV/BTC', 'KSM/HUSD', 'DF/BTC', 'ETH/USDT', 'REQ/USDT', 'MAN/BTC', 'TITAN/USDT', 'CMT/USDT', 'STORJ/USDT', 'SC/ETH', 'NU/BTC', 'NEAR/USDT', 'IOTA/BTC', 'ONT/HUSD', 'IRIS/BTC', 'BETH/ETH', 'SNT/USDT', 'ICX/BTC', 'DOT/BTC', 'ICX/ETH', 'ACH/ETH', 'AGLD/USDT', 'IRIS/ETH', 'LAMB/USDT', 'RLC/USDT', 'KAVA/USDT', 'BADGER/BTC', 'BAL/USDT', 'ANKR/USDT', 'YAMV2/ETH', 'KNC/BTC', 'DCR/USDT', 'EOS3S/USDT', 'GRS/ETH', 'CVP/BTC', 'APN/USDT', 'REN/USDT', 'NFT/USDT', 'CDC/BTC', 'POLY/ETH', 'UC/ETH', 'SRN/BTC', 'DF/HT', 'CVC/USDT', 'IOST/HUSD', 'UIP/BTC', 'FORTH/USDT', 'DAI/USDT', 'Super Bitcoin/BTC', 'ZKS/USDT', 'WICC/BTC', 'DOGE/BTC', 'ITC/USDT', 'AIDOC/BTC', 'AXS/ETH', 'DOT/USDT', 'WBTC/ETH', 'PAX/HUSD', 'LOL/USDT', 'MUSK/BTC', 'NEW/USDT', 'BSV3S/USDT', 'HBC/USDT', 'QTUM/ETH', 'FSN/HT', 'MT/HT', 'YFI/ETH', 'LET/BTC', 'ARPA/USDT', 'BTC1S/USDT', 'NSURE/BTC', 'MANA/ETH', 'SKL/BTC', '18C/BTC', 'HC/BTC', 'MDX/ETH', 'LUNA/BTC', 'VIDY/HT', 'FIRO/USDT', 'FTI/ETH', 'IOTA/USDT', 'BNT/BTC', 'WAVES/USDT', 'YAM/BTC', 'RAD/USDT', 'TT/USDT', 'TNT/BTC', 'INSUR/BTC', 'ZEC/BTC', 'VET/BTC', 'MTX/ETH', 'ELF/BTC', 'THETA/BTC', 'AVAX/USDT', 'DHT/BTC', 'CLV/USDT', 'VEN/BTC', 'CAN/USDT', 'Hydro Protocol/ETH', 'ATOM/BTC', 'LHB/USDT', 'LINK/ETH', 'DAC/ETH', 'LEND/USDT', 'DOT2S/USDT', 'REEF/ETH', 'AE/BTC', 'LTC/USDT', 'MKR/USDT', 'DTA/USDT', 'LAMB/HT', 'LOOM/USDT', 'RVN/BTC', 'LXT/BTC', 'KCASH/BTC', 'UTK/USDT', 'RNDR/USDT', 'LUN/BTC', 'HIVE/HT', 'ANT/USDT', 'IOST/ETH', 'ELA/HUSD', 'LUNA/HT', 'STEEM/USDT', 'EKT/BTC', 'BOT/USDT', 'OGN/BTC', 'SSP/BTC', 'CRU/BTC', 'STAKE/ETH', 'COMP/USDT', 'ZRX/USDT', 'AKRO/BTC', 'RAI/ETH', 'SALT/ETH', 'FOR/BTC', 'MCO/USDT', 'TOPC/BTC', 'NFT/HT', 'BAGS/USDT', 'API3/BTC', 'POND/BTC', 'SXP/USDT', 'NAS/USDT', 'BLZ/USDT', 'DCR/BTC', 'SKM/BTC', 'KCASH/ETH', 'FIL/BTC', 'NEST/BTC', 'ETC/USDT', 'BIX/BTC', 'DBC/BTC', 'GNX/ETH', 'THETA/ETH', 'ETN/BTC', 'CVP/USDT', 'STK/ETH', 'NCASH/ETH', 'REN/BTC', 'PAI/USDT', 'Hydro Protocol/BTC', 'BSV3L/USDT', 'DTA/ETH', 'XLM/HUSD', 'BAND/BTC', 'ANKR/HT', 'YFI/HUSD', 'APPC/BTC', 'BTS/ETH', 'LRC/ETH', 'MONFTER/ETH', 'PUSH/USDT', 'BORING/USDT', 'FORTH/BTC', 'FTT/HT', 'POWR/BTC', 'PORTAL/ETH', 'GXC/ETH', 'TRIO/ETH', 'INJ/USDT', 'SNT/BTC', 'QSP/BTC', 'XMX/USDT', 'XLM/USDT', 'BUT/ETH', 'AUCTION/USDT', 'GOF/BTC', 'ZLA/ETH', 'HitChain/USDT', 'YFII/ETH', 'APN/ETH', 'PUNDIX/ETH', 'Themis/ETH', 'BCD/BTC', 'GT/USDT', 'KAVA/BTC', 'MEET/BTC', 'MXC/USDT', 'JST/ETH', 'BAL/ETH', 'ZRX/BTC', 'ONT/ETH', 'ETC/HUSD', 'AST/BTC', 'LINK3L/USDT', 'GLM/USDT', 'BLZ/ETH', 'GSC/BTC', 'ELA/BTC', 'PAI/ETH', 'HC/USDT', 'GLM/ETH', 'FIRO/BTC', 'STORJ/BTC', 'LBA/BTC', 'NULS/BTC', 'ELF/USDT', 'HitChain/ETH', 'EDU/ETH', 'SOL/USDT', 'TOS/ETH', 'XMX/ETH', 'MASS/BTC', 'BTG/BTC', 'AAVE/BTC', 'XMR/BTC', 'NBS/BTC', 'ALGO/BTC', 'YFI/USDT', 'HT/HUSD', 'STN/BTC', 'BSV/HUSD', 'LRC/USDT', 'BSV/USDT', 'CHZ/ETH', 'SWRV/ETH', 'YFII/USDT', 'EOS/BTC', 'DATX/BTC', 'QASH/BTC', 'GRS/BTC', 'DOT2L/USDT', 'OMG/HUSD', 'WBTC/USDT', 'WNXM/ETH', 'INJ/ETH', 'WPR/BTC', 'GXC/USDT', 'RUFF/USDT', 'ARPA/BTC', 'ONT/USDT', 'MDX/USDT', 'SUN/ETH', 'RSR/BTC', 'STPT/BTC', 'YGG/BTC', 'FTI/USDT', 'BOX/BTC', 'PAY/ETH', 'ADX/BTC', 'LYM/ETH', 'TOP/HT', 'KSM/BTC', 'WNXM/USDT', 'DASH/HUSD', 'SOL/ETH', 'IIC/BTC', 'FIS/ETH', 'CHR/BTC', 'ACT/ETH', 'BT2/BTC', 'SWRV/USDT', 'TUSD/HUSD', 'CRV/HUSD', 'KAN/BTC', 'POLS/BTC', 'CHR/HT', 'RLY/BTC', 'NEO/USDT', 'HPT/HT', 'PROPY/ETH', 'SAND/BTC', 'MTA/ETH', 'UC/BTC', 'ATP/USDT', 'BCHA/USDT', 'BTS/USDT', 'POLY/BTC', 'AIDOC/ETH', 'GAS/BTC', 'NEXO/BTC', 'YAM/ETH', 'THETA/HUSD', 'MX/USDT', 'BORING/ETH', 'MIR/ETH', 'XRP/HT', 'YAMV2/BTC', '1INCH/BTC', 'CHAT/BTC', 'XRP/BTC', 'RUFF/ETH', 'BTC/HUSD', 'RVN/USDT', 'ZEN/BTC', 'ETH/BTC', 'GNX/USDT', 'REQ/BTC', 'CHZ/USDT', 'ELF/ETH', 'BCH/HT', 'BNT/ETH', 'CVP/ETH', 'CKB/BTC', 'TNT/ETH', 'BTC/USDT', 'PEARL/ETH', 'KCASH/USDT', 'HC/ETH', 'NEAR/BTC', 'QTUM/BTC', 'Game.com/BTC', 'LXT/USDT', 'POND/USDT', 'RAD/BTC', 'SXP/BTC', 'XRT/BTC', 'BETH/USDT', 'LINK3S/USDT', 'NAS/BTC', 'ETH1S/USDT', 'IOST/BTC', 'LEND/BTC', 'TRX/HUSD', 'PEARL/USDT', 'UUU/USDT', 'NEO/HUSD', 'THETA/USDT', 'TUSD/USDT', 'UNI/BTC', 'WAVES/BTC', 'ZEC/USDT', 'CRV/USDT', 'EVX/BTC', 'STPT/HT', 'KNC/HUSD', 'RTE/BTC', 'BCH/BTC', 'MTA/USDT', 'CLV/BTC', 'IDT/ETH', 'REEF/BTC', 'ZEC/HUSD', 'AR/BTC', 'STAKE/BTC', 'EM/USDT', 'EOS/HT', 'CVCOIN/ETH', 'ATP/HT', 'MTX/BTC', 'TOPC/ETH', 'OCN/USDT', 'ABT/BTC', 'XEM/BTC', 'MTN/BTC', 'UNI2S/USDT', 'UUU/ETH', 'RCN/BTC', 'SMT/BTC', 'FTT/BTC', 'POND/ETH', 'RAI/BTC', 'WAXP/USDT', 'BADGER/ETH', 'MATIC/USDT', 'LXT/ETH', 'SKM/HT', 'AVAX/ETH', 'CRO/USDT', 'BTC3S/USDT', 'RLY/USDT', 'BTC/USDC', 'PVT/USDT', 'KNC/USDT', 'CVCOIN/BTC', 'XEC/USDT', 'Penta/BTC', 'TRX/USDT', 'LSK/BTC', 'RCCC/BTC', 'FLOW/ETH', 'ZIL/ETH', 'NKN/USDT', 'ZIL/BTC', 'LEND/ETH', 'BTT/BTC', 'ZKS/ETH', 'ONE/USDT', 'LTC3L/USDT', 'COTI/USDT', 'IOTX/ETH', 'REEF/USDT', 'DAC/BTC', 'ZJLT/BTC', 'MX/BTC', 'TOP/USDT', 'COVA/ETH', 'PC/BTC', 'XVG/ETH', 'COMP/ETH', 'SC/USDT', '18C/ETH', 'CMT/BTC', 'DKA/BTC', 'WOO/BTC', 'TRIBE/BTC', 'BHD/USDT', 'FLOW/BTC', 'SNX/BTC', 'DASH/BTC', 'STEEM/ETH', 'SRM/BTC', 'BAT/BTC', 'USDC/USDT', 'WTC/BTC', 'FIS/USDT', 'MDS/BTC', 'RENBTC/BTC', 'DOCK/BTC', 'RUFF/BTC', 'PHX/BTC', 'WOO/ETH', 'LAMB/ETH', 'AXS/BTC', 'EGT/HT', 'CMT/ETH', 'EPIK/USDT', 'RENBTC/ETH', 'CSPR/USDT', 'IOST/HT', 'DOGE/ETH', 'YEE/USDT', 'SNX/ETH', 'FAIR/BTC', 'VALUE/USDT', 'CNNS/BTC', 'EOS3L/USDT', 'ABT/USDT', 'OGO/USDT', 'CRE/USDT', 'BAL/HUSD', 'DASH/USDT', 'CHAT/ETH', 'POLS/ETH', 'TITAN/ETH', 'LOOM/ETH', 'NANO/BTC', 'SHE/BTC', 'BHD/BTC', 'ADA/ETH', 'BOR/USDT', 'SWFTC/BTC', 'ADA/BTC', 'SOC/BTC', 'Penta/ETH', 'TRIBE/USDT', 'ITC/ETH', 'RCCC/ETH', 'MTA/BTC', 'CVC/ETH', 'MIR/USDT', 'DOGE/HUSD', 'AAVE/HUSD', 'RING/USDT', 'BCHA/BTC', 'CTSI/USDT', 'OMG/USDT', 'AUCTION/BTC', 'LINK/USDT', 'DKA/USDT', 'LTC3S/USDT', 'ENJ/BTC', 'ACT/USDT', 'HT/USDT', 'ETH/HUSD', 'KSM/USDT', 'ENJ/ETH', 'BFT/BTC', 'VSYS/USDT', 'ICP/BTC', 'OXT/USDT', 'SEELE/USDT', 'ACH/BTC', 'CSPR/BTC', 'NKN/HT', 'UMA/USDT', 'WHALE/USDT', 'IOTA/ETH', 'REQ/ETH', 'LTC/HUSD', 'PVT/BTC', 'PVT/HT', 'MXC/BTC', 'TNB/BTC', 'FTT/USDT', 'Hydro Protocol/USDT', 'BTT/USDT', 'AUCTION/ETH', 'MT/ETH', 'AR/ETH', 'NODE/BTC', 'SRM/USDT', 'WAN/ETH', 'XLM/ETH', 'CTXC/BTC', 'GAS/ETH', 'SKU/USDT', 'COTI/BTC', 'CRO/BTC', 'RTE/ETH', 'DAC/USDT', 'UNI2L/USDT', 'FILDA/ETH', 'BORING/BTC', 'SOC/ETH', 'AAC/BTC', 'MIR/BTC', 'STAKE/USDT', 'CAN/ETH', 'IIC/ETH', 'EM/BTC', 'SOL/BTC', 'CVNT/BTC', 'ACT/BTC', 'ARDR/BTC', 'BKBT/ETH', 'PAX/USDT', 'PAY/BTC', 'BOT/ETH', 'UGAS/BTC', 'ZLA/BTC', 'DAT/ETH', 'OGO/BTC', 'WAXP/BTC', 'KAN/ETH', 'BHD/HT', 'MKR/ETH', 'BSV/BTC', 'HBAR/BTC', 'Game.com/ETH', 'RDN/BTC', 'UTK/ETH', 'MCO/ETH', 'WHALE/BTC', 'NEAR/ETH', 'KMD/ETH', 'CNN/BTC', 'DOT/HUSD', 'ACH/USDT', 'NAS/ETH', 'ZRX/HUSD', 'WXT/BTC', 'WXT/HT', 'DGB/BTC', 'DFA/USDT', 'VSYS/HT', 'BT1/BTC', 'MTN/ETH', 'PEARL/BTC', 'CNNS/HT', 'MDS/USDT', 'UUU/BTC', 'IOST/USDT', 'YCC/ETH', 'WTC/USDT', 'VSYS/BTC', 'KAVA/HUSD', 'REN/ETH', 'STN/USDT', 'ENG/BTC', 'ANT/ETH', 'PHA/ETH', 'SWFTC/USDT', 'RNDR/ETH', 'EGCC/BTC', 'TRB/ETH', 'GRT/BTC', 'YEE/BTC', 'ZEC3L/USDT', 'DAI/HUSD', 'XRP3S/USDT', 'ETH/USDC', 'JST/USDT', 'POLY/USDT', 'MANA/USDT', 'FIS/BTC', 'ETH3S/USDT', 'GNX/BTC', 'YAMV2/USDT', 'EGT/BTC', 'BOR/BTC', 'BAT/USDT', 'AXS/USDT', 'MASK/USDT', 'LINA/USDT', 'SMT/ETH', 'REN/HUSD', 'SNC/BTC', 'WAVES/ETH', 'ELA/USDT', 'NODE/HT', 'BCV/ETH', 'OGO/HT', 'RCN/ETH', 'O3/USDT', 'MEX/ETH', 'CRO/HT', 'MKR/HUSD'])\n",
      "==================================================\n",
      "ftx:\n",
      "Has fetchOHLCV: True\n",
      "Has fetchTrades: True\n",
      "Available timeframes:\n",
      "{'15s': '15', '1m': '60', '5m': '300', '15m': '900', '1h': '3600', '4h': '14400', '1d': '86400'}\n",
      "Available currency pairs:\n"
     ]
    },
    {
     "name": "stdout",
     "output_type": "stream",
     "text": [
      "dict_keys(['1INCH-PERP', '1INCH-0924', '1INCH/USD', 'AAPL-0924', 'AAPL/USD', 'AAVE-PERP', 'AAVE-0924', 'AAVE/USD', 'AAVE/USDT', 'ABNB-0924', 'ABNB/USD', 'ACB-0924', 'ACB/USD', 'ADA-PERP', 'ADA-0924', 'AKRO/USD', 'AKRO/USDT', 'ALCX-PERP', 'ALCX/USD', 'ALGO-PERP', 'ALGO-0924', 'ALICE-PERP', 'ALICE/USD', 'ALPHA-PERP', 'ALPHA/USD', 'ALT-PERP', 'ALT-0924', 'AMC-0924', 'AMC/USD', 'AMD-0924', 'AMD/USD', 'AMPL-PERP', 'AMPL/USD', 'AMPL/USDT', 'AMZN-0924', 'AMZN/USD', 'APHA/USD', 'AR-PERP', 'ARKK-0924', 'ARKK/USD', 'ASD-PERP', 'ASD/USD', 'ATLAS-PERP', 'ATLAS/USD', 'ATOM-PERP', 'ATOM-0924', 'AUDIO-PERP', 'AUDIO/USD', 'AUDIO/USDT', 'AVAX-PERP', 'AVAX-0924', 'AXS-PERP', 'AXS/USD', 'BABA-0924', 'BABA/USD', 'BADGER-PERP', 'BADGER/USD', 'BAL-PERP', 'BAL-0924', 'BAL/USD', 'BAL/USDT', 'BAND-PERP', 'BAND/USD', 'BAO-PERP', 'BAO/USD', 'BAT-PERP', 'BAT/USD', 'BB-0924', 'BB/USD', 'BCH-PERP', 'BCH-0924', 'BCH/BTC', 'BCH/USD', 'BCH/USDT', 'BILI-0924', 'BILI/USD', 'BITW-0924', 'BITW/USD', 'BNB-PERP', 'BNB-0924', 'BNB/BTC', 'BNB/USD', 'BNB/USDT', 'BNT-PERP', 'BNT/USD', 'BNTX-0924', 'BNTX/USD', 'BOLSONARO2022', 'BRZ-PERP', 'BRZ/USD', 'BRZ/USDT', 'BSV-PERP', 'BSV-0924', 'BTC-PERP', 'BTC-MOVE-0903', 'BTC-MOVE-WK-0903', 'BTC-MOVE-0904', 'BTC-MOVE-WK-0910', 'BTC-MOVE-WK-0917', 'BTC-0924', 'BTC-MOVE-2021Q3', 'BTC-MOVE-WK-0924', 'BTC-1231', 'BTC-MOVE-2021Q4', 'BTC-0325', 'BTC-MOVE-2022Q1', 'BTC/BRZ', 'BTC/EUR', 'BTC/TRYB', 'BTC/USD', 'BTC/USDT', 'BTT-PERP', 'BYND-0924', 'BYND/USD', 'C98-PERP', 'C98/USD', 'CAD/USD', 'CAKE-PERP', 'CEL-PERP', 'CEL-0924', 'CEL/BTC', 'CEL/USD', 'CGC-0924', 'CGC/USD', 'CHR-PERP', 'CHR/USD', 'CHZ-PERP', 'CHZ-0924', 'CHZ/USD', 'CHZ/USDT', 'CLV-PERP', 'CLV/USD', 'COIN/USD', 'COMP-PERP', 'COMP-0924', 'COMP/USD', 'COMP/USDT', 'CONV-PERP', 'CONV/USD', 'COPE/USD', 'CQT/USD', 'CREAM-PERP', 'CREAM/USD', 'CREAM/USDT', 'CRO-PERP', 'CRO/USD', 'CRON-0924', 'CRON/USD', 'CRV-PERP', 'CRV/USD', 'CUSDT-PERP', 'CUSDT/USD', 'CUSDT/USDT', 'DAI/USD', 'DAI/USDT', 'DASH-PERP', 'DAWN-PERP', 'DAWN/USD', 'DEFI-PERP', 'DEFI-0924', 'DENT-PERP', 'DENT/USD', 'DKNG-0924', 'DKNG/USD', 'DMG/USD', 'DMG/USDT', 'DODO-PERP', 'DODO/USD', 'DOGE-PERP', 'DOGE-0924', 'DOGE/BTC', 'DOGE/USD', 'DOGE/USDT', 'DOT-PERP', 'DOT-0924', 'DRGN-PERP', 'DRGN-0924', 'EDEN/USD', 'EGLD-PERP', 'EMB/USD', 'ENJ-PERP', 'ENJ/USD', 'EOS-PERP', 'EOS-0924', 'ETC-PERP', 'ETH-PERP', 'ETH-0924', 'ETH-1231', 'ETH-0325', 'ETH/BRZ', 'ETH/BTC', 'ETH/EUR', 'ETH/USD', 'ETH/USDT', 'ETHE-0924', 'ETHE/USD', 'EUR/USD', 'EXCH-PERP', 'EXCH-0924', 'FB-0924', 'FB/USD', 'FIDA-PERP', 'FIDA/USD', 'FIDA/USDT', 'FIL-PERP', 'FIL-0924', 'FLM-PERP', 'FLOW-PERP', 'FRONT/USD', 'FRONT/USDT', 'FTM-PERP', 'FTM/USD', 'FTT-PERP', 'FTT/BTC', 'FTT/USD', 'FTT/USDT', 'GBP/USD', 'GBTC-0924', 'GBTC/USD', 'GDX-0924', 'GDX/USD', 'GDXJ-0924', 'GDXJ/USD', 'GLD-0924', 'GLD/USD', 'GLXY/USD', 'GME-0924', 'GME/USD', 'GOOGL-0924', 'GOOGL/USD', 'GRT-PERP', 'GRT-0924', 'GRT/USD', 'GT/USD', 'HBAR-PERP', 'HGET/USD', 'HGET/USDT', 'HMT/USD', 'HNT-PERP', 'HNT/USD', 'HNT/USDT', 'HOLY-PERP', 'HOLY/USD', 'HOOD/USD', 'HOT-PERP', 'HT-PERP', 'HT/USD', 'HUM-PERP', 'HUM/USD', 'HXRO/USD', 'HXRO/USDT', 'ICP-PERP', 'ICX-PERP', 'IOTA-PERP', 'JST/USD', 'KAVA-PERP', 'KIN-PERP', 'KIN/USD', 'KNC-PERP', 'KNC/USD', 'KNC/USDT', 'KSM-PERP', 'LEO-PERP', 'LEO/USD', 'LINA-PERP', 'LINA/USD', 'LINK-PERP', 'LINK-0924', 'LINK/BTC', 'LINK/USD', 'LINK/USDT', 'LRC-PERP', 'LRC/USD', 'LTC-PERP', 'LTC-0924', 'LTC/BTC', 'LTC/USD', 'LTC/USDT', 'LUA/USD', 'LUA/USDT', 'LUNA-PERP', 'MAPS-PERP', 'MAPS/USD', 'MAPS/USDT', 'MATH/USD', 'MATH/USDT', 'MATIC-PERP', 'MATIC/BTC', 'MATIC/USD', 'MEDIA-PERP', 'MEDIA/USD', 'MER-PERP', 'MER/USD', 'MID-PERP', 'MID-0924', 'MKR-PERP', 'MKR/USD', 'MKR/USDT', 'MNGO-PERP', 'MNGO/USD', 'MOB/USD', 'MOB/USDT', 'MRNA-0924', 'MRNA/USD', 'MSTR-0924', 'MSTR/USD', 'MTA-PERP', 'MTA/USD', 'MTA/USDT', 'MTL-PERP', 'MTL/USD', 'MVDA10-PERP', 'MVDA25-PERP', 'NEAR-PERP', 'NEO-PERP', 'NFLX-0924', 'NFLX/USD', 'NIO-0924', 'NIO/USD', 'NOK-0924', 'NOK/USD', 'NVDA/USD', 'OKB-PERP', 'OKB-0924', 'OKB/USD', 'OMG-PERP', 'OMG-0924', 'OMG/USD', 'ONT-PERP', 'ORBS-PERP', 'ORBS/USD', 'OXY-PERP', 'OXY/USD', 'OXY/USDT', 'PAXG-PERP', 'PAXG/USD', 'PAXG/USDT', 'PENN-0924', 'PENN/USD', 'PERP-PERP', 'PERP/USD', 'PFE-0924', 'PFE/USD', 'POLIS-PERP', 'POLIS/USD', 'TRUMP2024', 'PRIV-PERP', 'PRIV-0924', 'PROM-PERP', 'PROM/USD', 'PUNDIX-PERP', 'PUNDIX/USD', 'PYPL-0924', 'PYPL/USD', 'QTUM-PERP', 'RAMP-PERP', 'RAMP/USD', 'RAY-PERP', 'RAY/USD', 'REEF-PERP', 'REEF-0924', 'REEF/USD', 'REN-PERP', 'REN/USD', 'ROOK-PERP', 'ROOK/USD', 'ROOK/USDT', 'RSR-PERP', 'RSR/USD', 'RUNE-PERP', 'RUNE/USD', 'RUNE/USDT', 'SAND-PERP', 'SAND/USD', 'SC-PERP', 'SECO-PERP', 'SECO/USD', 'SHIB-PERP', 'SHIB/USD', 'SHIT-PERP', 'SHIT-0924', 'SKL-PERP', 'SKL/USD', 'SLP-PERP', 'SLP/USD', 'SLRS/USD', 'SLV-0924', 'SLV/USD', 'SNX-PERP', 'SNX/USD', 'SNY/USD', 'SOL-PERP', 'SOL-0924', 'SOL-1231', 'SOL/BTC', 'SOL/USD', 'SOL/USDT', 'SPY-0924', 'SPY/USD', 'SQ-0924', 'SQ/USD', 'SRM-PERP', 'SRM/USD', 'SRM/USDT', 'SRN-PERP', 'STEP-PERP', 'STEP/USD', 'STMX-PERP', 'STMX/USD', 'STORJ-PERP', 'STORJ/USD', 'STX-PERP', 'SUN/USD', 'SUSHI-PERP', 'SUSHI-0924', 'SUSHI/BTC', 'SUSHI/USD', 'SUSHI/USDT', 'SXP-PERP', 'SXP-0924', 'SXP/BTC', 'SXP/USD', 'SXP/USDT', 'THETA-PERP', 'THETA-0924', 'TLM-PERP', 'TLM/USD', 'TLRY-0924', 'TLRY/USD', 'TOMO-PERP', 'TOMO/USD', 'TOMO/USDT', 'TRU-PERP', 'TRU/USD', 'TRU/USDT', 'TRX-PERP', 'TRX-0924', 'TRX/BTC', 'TRX/USD', 'TRX/USDT', 'TRYB-PERP', 'TRYB/USD', 'TSLA-0924', 'TSLA/BTC', 'TSLA/DOGE', 'TSLA/USD', 'TSM-0924', 'TSM/USD', 'TWTR-0924', 'TWTR/USD', 'UBER-0924', 'UBER/USD', 'UBXT/USD', 'UBXT/USDT', 'UNI-PERP', 'UNI-0924', 'UNI/BTC', 'UNI/USD', 'UNI/USDT', 'UNISWAP-PERP', 'UNISWAP-0924', 'USDT-PERP', 'USDT-0924', 'USDT/USD', 'USO-0924', 'USO/USD', 'VET-PERP', 'WAVES-PERP', 'WAVES-0924', 'WAVES/USD', 'WBTC/BTC', 'WBTC/USD', 'WRX/USD', 'WRX/USDT', 'WSB-0924', 'XAUT-PERP', 'XAUT-0924', 'XAUT/USD', 'XAUT/USDT', 'XEM-PERP', 'XLM-PERP', 'XMR-PERP', 'XRP-PERP', 'XRP-0924', 'XRP/BTC', 'XRP/USD', 'XRP/USDT', 'XTZ-PERP', 'XTZ-0924', 'YFI-PERP', 'YFI-0924', 'YFI/BTC', 'YFI/USD', 'YFI/USDT', 'YFII-PERP', 'YFII/USD', 'ZEC-PERP', 'ZIL-PERP', 'ZM-0924', 'ZM/USD', 'ZRX-PERP', 'ZRX/USD', 'ADABEAR/USD', 'ADABULL/USD', 'ADAHALF/USD', 'ADAHEDGE/USD', 'ALGOBEAR/USD', 'ALGOBULL/USD', 'ALGOHALF/USD', 'ALGOHEDGE/USD', 'ALTBEAR/USD', 'ALTBULL/USD', 'ALTHALF/USD', 'ALTHEDGE/USD', 'ASDBEAR/USD', 'ASDBEAR/USDT', 'ASDBULL/USD', 'ASDBULL/USDT', 'ASDHALF/USD', 'ASDHEDGE/USD', 'ATOMBEAR/USD', 'ATOMBULL/USD', 'ATOMHALF/USD', 'ATOMHEDGE/USD', 'BALBEAR/USD', 'BALBEAR/USDT', 'BALBULL/USD', 'BALBULL/USDT', 'BALHALF/USD', 'BALHEDGE/USD', 'BCHBEAR/USD', 'BCHBEAR/USDT', 'BCHBULL/USD', 'BCHBULL/USDT', 'BCHHALF/USD', 'BCHHEDGE/USD', 'BEAR/USD', 'BEAR/USDT', 'BEARSHIT/USD', 'BNBBEAR/USD', 'BNBBEAR/USDT', 'BNBBULL/USD', 'BNBBULL/USDT', 'BNBHALF/USD', 'BNBHEDGE/USD', 'BSVBEAR/USD', 'BSVBEAR/USDT', 'BSVBULL/USD', 'BSVBULL/USDT', 'BSVHALF/USD', 'BSVHEDGE/USD', 'BULL/USD', 'BULL/USDT', 'BULLSHIT/USD', 'BVOL/BTC', 'BVOL/USD', 'BVOL/USDT', 'COMPBEAR/USD', 'COMPBEAR/USDT', 'COMPBULL/USD', 'COMPBULL/USDT', 'COMPHALF/USD', 'COMPHEDGE/USD', 'CUSDTBEAR/USD', 'CUSDTBEAR/USDT', 'CUSDTBULL/USD', 'CUSDTBULL/USDT', 'CUSDTHALF/USD', 'CUSDTHEDGE/USD', 'DEFIBEAR/USD', 'DEFIBEAR/USDT', 'DEFIBULL/USD', 'DEFIBULL/USDT', 'DEFIHALF/USD', 'DEFIHEDGE/USD', 'DOGEBEAR2021/USD', 'DOGEBULL/USD', 'DOGEHALF/USD', 'DOGEHEDGE/USD', 'DRGNBEAR/USD', 'DRGNBULL/USD', 'DRGNHALF/USD', 'DRGNHEDGE/USD', 'EOSBEAR/USD', 'EOSBEAR/USDT', 'EOSBULL/USD', 'EOSBULL/USDT', 'EOSHALF/USD', 'EOSHEDGE/USD', 'ETCBEAR/USD', 'ETCBULL/USD', 'ETCHALF/USD', 'ETCHEDGE/USD', 'ETHBEAR/USD', 'ETHBEAR/USDT', 'ETHBULL/USD', 'ETHBULL/USDT', 'ETHHALF/USD', 'ETHHEDGE/USD', 'EXCHBEAR/USD', 'EXCHBULL/USD', 'EXCHHALF/USD', 'EXCHHEDGE/USD', 'GRTBEAR/USD', 'GRTBULL/USD', 'HALF/USD', 'HALFSHIT/USD', 'HEDGE/USD', 'HEDGESHIT/USD', 'HTBEAR/USD', 'HTBULL/USD', 'HTHALF/USD', 'HTHEDGE/USD', 'IBVOL/BTC', 'IBVOL/USD', 'IBVOL/USDT', 'KNCBEAR/USD', 'KNCBEAR/USDT', 'KNCBULL/USD', 'KNCBULL/USDT', 'KNCHALF/USD', 'KNCHEDGE/USD', 'LEOBEAR/USD', 'LEOBULL/USD', 'LEOHALF/USD', 'LEOHEDGE/USD', 'LINKBEAR/USD', 'LINKBEAR/USDT', 'LINKBULL/USD', 'LINKBULL/USDT', 'LINKHALF/USD', 'LINKHEDGE/USD', 'LTCBEAR/USD', 'LTCBEAR/USDT', 'LTCBULL/USD', 'LTCBULL/USDT', 'LTCHALF/USD', 'LTCHEDGE/USD', 'MATICBEAR2021/USD', 'MATICBULL/USD', 'MATICHALF/USD', 'MATICHEDGE/USD', 'MIDBEAR/USD', 'MIDBULL/USD', 'MIDHALF/USD', 'MIDHEDGE/USD', 'MKRBEAR/USD', 'MKRBULL/USD', 'OKBBEAR/USD', 'OKBBULL/USD', 'OKBHALF/USD', 'OKBHEDGE/USD', 'PAXGBEAR/USD', 'PAXGBULL/USD', 'PAXGHALF/USD', 'PAXGHEDGE/USD', 'PRIVBEAR/USD', 'PRIVBULL/USD', 'PRIVHALF/USD', 'PRIVHEDGE/USD', 'SUSHIBEAR/USD', 'SUSHIBULL/USD', 'SXPBEAR/USD', 'SXPBULL/USD', 'SXPHALF/USD', 'SXPHALF/USDT', 'SXPHEDGE/USD', 'THETABEAR/USD', 'THETABULL/USD', 'THETAHALF/USD', 'THETAHEDGE/USD', 'TOMOBEAR2021/USD', 'TOMOBULL/USD', 'TOMOHALF/USD', 'TOMOHEDGE/USD', 'TRXBEAR/USD', 'TRXBULL/USD', 'TRXHALF/USD', 'TRXHEDGE/USD', 'TRYBBEAR/USD', 'TRYBBULL/USD', 'TRYBHALF/USD', 'TRYBHEDGE/USD', 'UNISWAPBEAR/USD', 'UNISWAPBULL/USD', 'USDTBEAR/USD', 'USDTBULL/USD', 'USDTHALF/USD', 'USDTHEDGE/USD', 'VETBEAR/USD', 'VETBEAR/USDT', 'VETBULL/USD', 'VETBULL/USDT', 'VETHEDGE/USD', 'XAUTBEAR/USD', 'XAUTBULL/USD', 'XAUTHALF/USD', 'XAUTHEDGE/USD', 'XLMBEAR/USD', 'XLMBULL/USD', 'XRPBEAR/USD', 'XRPBEAR/USDT', 'XRPBULL/USD', 'XRPBULL/USDT', 'XRPHALF/USD', 'XRPHEDGE/USD', 'XTZBEAR/USD', 'XTZBEAR/USDT', 'XTZBULL/USD', 'XTZBULL/USDT', 'XTZHALF/USD', 'XTZHEDGE/USD', 'ZECBEAR/USD', 'ZECBULL/USD'])\n",
      "==================================================\n",
      "kucoin:\n",
      "Has fetchOHLCV: True\n",
      "Has fetchTrades: True\n",
      "Available timeframes:\n",
      "{'1m': '1min', '3m': '3min', '5m': '5min', '15m': '15min', '30m': '30min', '1h': '1hour', '2h': '2hour', '4h': '4hour', '6h': '6hour', '8h': '8hour', '12h': '12hour', '1d': '1day', '1w': '1week'}\n",
      "Available currency pairs:\n"
     ]
    },
    {
     "name": "stdout",
     "output_type": "stream",
     "text": [
      "dict_keys(['REQ/ETH', 'REQ/BTC', 'NULS/ETH', 'NULS/BTC', 'CVC/BTC', 'NEBL/BTC', 'SNT/ETH', 'SNT/BTC', 'PPT/ETH', 'PPT/BTC', 'BSV/BTC', 'POWR/BTC', 'POWR/ETH', 'BCD/BTC', 'BCD/ETH', 'KNC/ETH', 'KNC/BTC', 'DACC/BTC', 'OMG/ETH', 'OMG/BTC', 'CHSB/BTC', 'CHSB/ETH', 'MANA/BTC', 'BTM/BTC', 'AMB/ETH', 'MANA/ETH', 'AMB/BTC', 'BTM/ETH', 'ETN/BTC', 'DGB/BTC', 'DGB/ETH', 'QTUM/BTC', 'AION/ETH', 'AION/BTC', 'WTC/BTC', 'ENJ/BTC', 'ENJ/ETH', 'SNX/ETH', 'OPEN/ETH', 'TIME/ETH', 'SNX/USDT', 'OPEN/BTC', 'SNX/BTC', 'TIME/BTC', 'XLM/USDT', 'VET/USDT', 'DASH/ETH', 'UTK/BTC', 'UTK/ETH', 'DASH/BTC', 'GO/USDT', 'AXPR/ETH', 'AXPR/BTC', 'ACT/ETH', 'ACT/BTC', 'EOS/KCS', 'ETC/ETH', 'EOS/BTC', 'PLAY/BTC', 'ETC/BTC', 'EOS/USDT', 'EOS/ETH', 'GAS/BTC', 'BCH/BTC', 'PLAY/ETH', 'ETC/USDT', 'DENT/ETH', 'DENT/BTC', 'MWAT/BTC', 'MWAT/ETH', 'DRGN/BTC', 'DRGN/ETH', 'LTC/USDT', 'CV/BTC', 'LTC/ETH', 'CV/ETH', 'LTC/BTC', 'DBC/ETH', 'DBC/BTC', 'KEY/BTC', 'KEY/ETH', 'IOST/ETH', 'ADB/ETH', 'ADB/BTC', 'HPB/BTC', 'HPB/ETH', 'IOST/BTC', 'TEL/BTC', 'CXO/BTC', 'WAXP/BTC', 'COFI/BTC', 'TEL/ETH', 'WAXP/ETH', 'COFI/ETH', 'CXO/ETH', 'CAPP/ETH', 'NANO/USDT', 'TKY/BTC', 'CAPP/BTC', 'NANO/BTC', 'NANO/ETH', 'TKY/ETH', 'ELF/ETH', 'COV/ETH', 'ZIL/BTC', 'ELF/BTC', 'LTC/KCS', 'MAN/BTC', 'COV/BTC', 'ZIL/ETH', 'TOMO/ETH', 'ONT/BTC', 'GO/BTC', 'TOMO/BTC', 'BAX/ETH', 'LYM/ETH', 'TRAC/ETH', 'IOTX/ETH', 'SOUL/BTC', 'ONT/ETH', 'LOOM/ETH', 'TRAC/BTC', 'DATX/BTC', 'DATX/ETH', 'QKC/BTC', 'IOTX/BTC', 'LYM/USDT', 'GO/ETH', 'QKC/ETH', 'TKY/USDT', 'ONT/USDT', 'BAX/BTC', 'LOOM/BTC', 'SOUL/ETH', 'LYM/BTC', 'CS/BTC', 'WAN/ETH', 'WAN/BTC', 'DOCK/BTC', 'ETN/ETH', 'AOA/USDT', 'DOCK/ETH', 'DACC/ETH', 'CS/ETH', 'AOA/BTC', 'DAG/ETH', 'SUSD/USDT', 'ELA/BTC', 'CBC/BTC', 'TRX/BTC', 'ZRX/BTC', 'XLM/ETH', 'TRX/ETH', 'XLM/BTC', 'SUSD/ETH', 'DAG/BTC', 'CPC/ETH', 'TRX/USDT', 'SUSD/BTC', 'MVP/BTC', 'CPC/BTC', 'ZRX/ETH', 'MVP/ETH', 'ELA/ETH', 'CRPT/ETH', 'OLT/ETH', 'OLT/BTC', 'MTC/ETH', 'CRPT/BTC', 'EDN/ETH', 'EDN/BTC', 'BSV/USDT', 'BSV/ETH', 'DCR/ETH', 'DCR/BTC', 'KCS/USDT', 'KCS/ETH', 'KCS/BTC', 'VET/BTC', 'VET/ETH', 'NEO/ETH', 'NEO/BTC', 'NEO/USDT', 'USDT/PAX', 'USDT/TUSD', 'NEO/KCS', 'USDT/USDC', 'ETH/PAX', 'ETH/USDC', 'ETH/TUSD', 'BCH/USDT', 'BTC/TUSD', 'ETH/USDT', 'BTC/USDT', 'BTC/PAX', 'ETH/BTC', 'BTC/USDC', 'MHC/ETH', 'MHC/BTC', 'CSP/BTC', 'CSP/ETH', 'LOKI/BTC', 'LOKI/ETH', 'NRG/BTC', 'AVA/USDT', 'FET/BTC', 'FET/ETH', 'ANKR/BTC', 'MHC/USDT', 'XMR/BTC', 'XMR/ETH', 'RBTC/BTC', 'RIF/BTC', 'TRTL/BTC', 'TRTL/ETH', 'MTV/BTC', 'MTV/ETH', 'CRO/BTC', 'MTV/USDT', 'KMD/BTC', 'KMD/USDT', 'RFOX/USDT', 'TEL/USDT', 'XMR/USDT', 'TRX/KCS', 'ATOM/BTC', 'ATOM/ETH', 'ATOM/USDT', 'ATOM/KCS', 'ETN/USDT', 'FTM/USDT', 'TOMO/USDT', 'VSYS/USDT', 'OCEAN/BTC', 'OCEAN/ETH', 'CHR/BTC', 'CHR/USDT', 'FX/BTC', 'FX/ETH', 'NIM/BTC', 'NIM/ETH', 'COTI/BTC', 'COTI/USDT', 'NRG/ETH', 'PIVX/BTC', 'PIVX/ETH', 'BNB/BTC', 'BNB/USDT', 'JAR/BTC', 'JAR/USDT', 'ALGO/BTC', 'ALGO/ETH', 'ALGO/USDT', 'XEM/BTC', 'XEM/USDT', 'CIX100/USDT', 'XTZ/BTC', 'XTZ/USDT', 'ZEC/BTC', 'ZEC/USDT', 'ADA/BTC', 'ADA/USDT', 'R/USDT', 'WXT/BTC', 'WXT/USDT', 'FORESTPLUS/BTC', 'FORESTPLUS/USDT', 'BOLT/BTC', 'BOLT/USDT', 'ARPA/USDT', 'SERO/USDT', 'CHZ/BTC', 'CHZ/USDT', 'DAPPT/BTC', 'DAPPT/USDT', 'NOIA/BTC', 'NOIA/USDT', 'BLOC/USDT', 'WIN/BTC', 'WIN/USDT', 'DERO/BTC', 'DERO/USDT', 'BTT/USDT', 'EOSC/USDT', 'FKX/BTC', 'FKX/ETH', 'ENQ/BTC', 'ENQ/USDT', 'ONE/BTC', 'ONE/USDT', 'TOKO/BTC', 'TOKO/USDT', 'VID/BTC', 'VID/USDT', 'LUNA/BTC', 'LUNA/USDT', 'MXW/USDT', 'SXP/BTC', 'SXP/USDT', 'VIDT/BTC', 'AKRO/BTC', 'AKRO/USDT', 'ROOBEE/BTC', 'BTT/TRX', 'WIN/TRX', 'MAP/BTC', 'MAP/USDT', 'AMPL/BTC', 'AMPL/USDT', 'DAG/USDT', 'POL/USDT', 'ARX/USDT', 'NWC/BTC', 'NWC/USDT', 'BEPRO/BTC', 'BEPRO/USDT', 'VRA/BTC', 'VRA/USDT', 'KSM/BTC', 'KSM/USDT', 'DASH/USDT', 'SUTER/USDT', 'ACOIN/USDT', 'SUTER/BTC', 'SENSO/USDT', 'PRE/BTC', 'XDB/USDT', 'SYLO/USDT', 'WOM/USDT', 'SENSO/BTC', 'DGB/USDT', 'LYXE/USDT', 'LYXE/ETH', 'XDB/BTC', 'STX/BTC', 'STX/USDT', 'USDN/USDT', 'XSR/USDT', 'COMP/USDT', 'CRO/USDT', 'DGTX/ETH', 'DGTX/BTC', 'KAI/USDT', 'KAI/BTC', 'WEST/BTC', 'WEST/USDT', 'EWT/BTC', 'WAVES/USDT', 'WAVES/BTC', 'ORN/USDT', 'AMPL/ETH', 'BNS/USDT', 'BNS/BTC', 'MKR/USDT', 'SUKU/BTC', 'MLK/BTC', 'MLK/USDT', 'JST/USDT', 'KAI/ETH', 'SUKU/USDT', 'DIA/USDT', 'DIA/BTC', 'LINK/BTC', 'LINK/USDT', 'DMG/USDT', 'DOT/USDT', 'DOT/BTC', 'SHA/BTC', 'SHA/USDT', 'EWT/USDT', 'USDJ/USDT', 'EFX/BTC', 'CKB/BTC', 'CKB/USDT', 'UMA/USDT', 'ALEPH/USDT', 'VELO/USDT', 'SUN/USDT', 'BUY/USDT', 'YFI/USDT', 'LOKI/USDT', 'UNI/USDT', 'SNTVT/BTC', 'SNTVT/ETH', 'UOS/USDT', 'UOS/BTC', 'NIM/USDT', 'DEGO/USDT', 'DEGO/ETH', 'UDOO/ETH', 'RFUEL/USDT', 'FIL/USDT', 'UBX/ETH', 'REAP/USDT', 'AAVE/USDT', 'AAVE/BTC', 'TONE/BTC', 'TONE/ETH', 'UQC/BTC', 'UQC/ETH', 'OPCT/BTC', 'OPCT/ETH', 'PRE/USDT', 'COMB/USDT', 'SHR/BTC', 'SHR/USDT', 'WIS/BTC', 'VIDT/USDT', 'UBXT/USDT', 'BCHA/USDT', 'ROSE/USDT', 'BTC/UST', 'ETH/UST', 'USDT/UST', 'LUNA/UST', 'USDC/USDT', 'CTI/USDT', 'CTI/ETH', 'ETH2/ETH', 'BUX/BTC', 'XHV/USDT', 'PLU/USDT', 'GRT/USDT', 'CAS/BTC', 'CAS/USDT', 'MSWAP/BTC', 'MSWAP/USDT', 'GOM2/BTC', 'GOM2/USDT', 'REVV/BTC', 'REVV/USDT', 'LON/USDT', '1INCH/USDT', 'LOC/USDT', 'API3/USDT', 'UNFI/USDT', 'HTR/USDT', 'FRONT/USDT', 'FRONT/BTC', 'WBTC/BTC', 'WBTC/ETH', 'DOT/UST', 'ATOM/UST', 'AAVE/UST', 'YFI/UST', 'SNX/UST', 'USDC/UST', 'MIR/USDT', 'MIR/UST', 'LTC/USDC', 'BCH/USDC', 'HYDRA/USDT', 'DFI/USDT', 'DFI/BTC', 'CRV/USDT', 'SUSHI/USDT', 'FRM/USDT', 'EOS/USDC', 'BSV/USDC', 'PROPS/USDT', 'ZEN/USDT', 'PROPS/BTC', 'CUDOS/USDT', 'ADA/USDC', 'REN/USDT', 'LRC/USDT', 'LINK/USDC', 'KLV/USDT', 'KLV/BTC', 'BOA/USDT', 'THETA/USDT', 'QNT/USDT', 'BAT/USDT', 'DOGE/USDT', 'DOGE/USDC', 'DAO/USDT', 'STRONG/USDT', 'TRIAS/USDT', 'TRIAS/BTC', 'DOGE/BTC', 'MITX/BTC', 'MITX/USDT', 'CAKE/USDT', 'ORAI/USDT', 'ZEE/USDT', 'LTX/USDT', 'LTX/BTC', 'MASK/USDT', 'KLV/TRX', 'IDEA/USDT', 'PHA/USDT', 'PHA/ETH', 'BCH/KCS', 'SRK/USDT', 'SRK/BTC', 'PIVX/USDT', 'LUNA/KCS', 'ADA/KCS', 'HTR/BTC', 'BSV/KCS', 'DOT/KCS', 'LINK/KCS', 'MIR/KCS', 'BNB/KCS', 'XLM/KCS', 'VET/KCS', 'SWINGBY/USDT', 'SWINGBY/BTC', 'XHV/BTC', 'DASH/KCS', 'UNI/KCS', 'AAVE/KCS', 'DOGE/KCS', 'ZEC/KCS', 'XTZ/KCS', 'GRT/KCS', 'NANO/KCS', 'ALGO/KCS', 'EWT/KCS', 'GAS/USDT', 'AVAX/USDT', 'AVAX/BTC', 'KRL/BTC', 'KRL/USDT', 'POLK/USDT', 'POLK/BTC', 'ENJ/USDT', 'MANA/USDT', 'RNDR/USDT', 'RNDR/BTC', 'RLY/USDT', 'ANC/USDT', 'ANC/UST', 'SKEY/USDT', 'LAYER/USDT', 'TARA/USDT', 'TARA/ETH', 'IOST/USDT', 'DYP/USDT', 'DYP/ETH', 'XYM/USDT', 'XYM/BTC', 'PCX/USDT', 'PCX/BTC', 'ORBS/USDT', 'ORBS/BTC', 'BTC3L/USDT', 'BTC3S/USDT', 'ETH3L/USDT', 'ETH3S/USDT', 'ANKR/USDT', 'DSLA/USDT', 'DSLA/BTC', 'SPI/USDT', 'GSPI/USDT', 'SAND/USDT', 'VAIOT/USDT', 'XCUR/USDT', 'XCUR/BTC', 'FLUX/USDT', 'OMG/USDT', 'ZIL/USDT', 'DODO/USDT', 'CBC/USDT', 'MAN/USDT', 'BAX/USDT', 'BOSON/USDT', 'BOSON/ETH', 'PUNDIX/USDT', 'PUNDIX/BTC', 'WAXP/USDT', 'HT/USDT', 'PDEX/USDT', 'LABS/USDT', 'LABS/ETH', 'GMB/USDT', 'PHNX/USDT', 'PHNX/BTC', 'HAI/USDT', 'EQZ/USDT', 'EQZ/BTC', 'FORTH/USDT', 'CARR/USDT', 'CARR/BTC', 'HORD/USDT', 'CGG/USDT', 'UBX/USDT', 'GHX/USDT', 'TCP/USDT', 'STND/USDT', 'STND/ETH', 'TOWER/USDT', 'TOWER/BTC', 'ACE/USDT', 'LOCG/USDT', 'CARD/USDT', 'FLY/USDT', 'CWS/USDT', 'XDC/USDT', 'XDC/ETH', 'STRK/BTC', 'STRK/ETH', 'SHIB/USDT', 'POLX/USDT', 'KDA/USDT', 'KDA/BTC', 'ICP/USDT', 'ICP/BTC', 'STC/USDT', 'STC/BTC', 'GOVI/USDT', 'GOVI/BTC', 'FKX/USDT', 'CELO/USDT', 'CELO/BTC', 'CUSD/USDT', 'CUSD/BTC', 'FCL/USDT', 'MATIC/USDT', 'MATIC/BTC', 'ELA/USDT', 'CRPT/USDT', 'OPCT/USDT', 'OGN/USDT', 'OGN/BTC', 'OUSD/USDT', 'OUSD/BTC', 'TLOS/USDT', 'TLOS/BTC', 'LNCHX/USDT', 'YOP/USDT', 'YOP/ETH', 'GLQ/USDT', 'GLQ/BTC', 'NIF/USDT', 'MXC/USDT', 'ERSDL/USDT', 'HOTCROSS/USDT', 'ADA3L/USDT', 'ADA3S/USDT', 'HYVE/USDT', 'HYVE/BTC', 'DAPPX/USDT', 'DPI/USDT', 'KONO/USDT', 'PRQ/USDT', 'MAHA/USDT', 'MAHA/BTC', 'FEAR/USDT', 'PYR/USDT', 'PYR/BTC', 'PROM/USDT', 'PROM/BTC', 'GLCH/USDT', 'UNO/USDT', 'ALBT/USDT', 'ALBT/ETH', 'XCAD/USDT', 'EOS3L/USDT', 'EOS3S/USDT', 'BCH3L/USDT', 'BCH3S/USDT', 'ELON/USDT', 'APL/USDT', 'APL/BTC', 'FCL/ETH', 'VEED/USDT', 'VEED/BTC', 'DIVI/USDT', 'PDEX/BTC', 'JUP/USDT', 'JUP/ETH', 'POLS/USDT', 'POLS/BTC', 'LPOOL/USDT', 'LPOOL/BTC', 'LSS/USDT', 'VET3L/USDT', 'VET3S/USDT', 'LTC3L/USDT', 'LTC3S/USDT', 'ETHO/USDT', 'ETHO/BTC', 'ABBC/USDT', 'ABBC/BTC', 'KOK/USDT', 'ROSN/USDT', 'DORA/USDT', 'DORA/BTC', 'ZCX/USDT', 'ZCX/BTC', 'NORD/USDT', 'GMEE/USDT', 'SFUND/USDT', 'XAVA/USDT', 'AI/USDT', 'ALPACA/USDT', 'IOI/USDT', 'NFT/USDT', 'NFT/TRX', 'MNST/USDT', 'MEM/USDT', 'AGIX/USDT', 'AGIX/BTC', 'AGIX/ETH', 'CQT/USDT', 'AIOZ/USDT', 'MARSH/USDT', 'OPS/USDT', 'HAPI/USDT', 'MODEFI/USDT', 'MODEFI/BTC', 'YFDAI/USDT', 'YFDAI/BTC', 'GENS/USDT', 'FORM/USDT', 'ARRR/USDT', 'ARRR/BTC', 'TOKO/KCS', 'CEUR/USDT', 'CEUR/BTC', 'EXRD/USDT', 'NGM/USDT', 'LPT/USDT', 'STMX/USDT', 'ASD/USDT', 'BOND/USDT', 'HAI/BTC', 'SOUL/USDT', '2CRZ/USDT', '2CRZ/BTC', 'ZORT/USDT', 'NEAR/USDT', 'NEAR/BTC', 'DFYN/USDT', 'OOE/USDT', 'CFG/USDT', 'CFG/BTC', 'AXC/USDT', 'AXS/USDT', 'CLV/USDT', 'ROUTE/USDT', 'OPS/ETH', 'KAR/USDT', 'EFX/USDT', 'BURP/USDT', 'XDC/BTC', 'SHFT/USDT', 'PMON/USDT', 'DPET/USDT', 'ERG/USDT', 'ERG/BTC', 'SOL/USDT', 'SLP/USDT', 'LITH/USDT', 'LITH/ETH', 'XCH/USDT', 'HAKA/USDT', 'LAYER/BTC', 'MTL/USDT', 'MTL/BTC', 'IOTX/USDT', 'GALAX/USDT', 'REQ/USDT', 'TXA/USDT', 'TXA/USDC', 'CIRUS/USDT', 'QI/USDT', 'QI/BTC', 'ODDZ/USDT', 'PNT/USDT', 'PNT/BTC', 'LUNA/ETH', 'XPR/USDT', 'XPR/BTC', 'TRIBE/USDT', 'SHFT/BTC', 'MOVR/USDT', 'MOVR/ETH', 'WOO/USDT', 'WILD/USDT', 'QRDO/USDT', 'QRDO/ETH', 'SDN/USDT', 'SDN/ETH', 'MAKI/USDT', 'MAKI/BTC', 'REP/USDT', 'REP/BTC', 'REP/ETH', 'BNT/USDT', 'BNT/BTC', 'BNT/ETH', 'BAL/USDT', 'BAL/BTC', 'BAL/ETH', 'STORJ/USDT', 'STORJ/BTC', 'STORJ/ETH', 'AERGO/BTC', 'AERGO/ETH', 'XYO/ETH', 'XRP/TUSD', 'ETH/DAI', 'LSK/BTC', 'GMB/ETH', 'GMB/BTC', 'KAT/USDT', 'MKR/BTC', 'KAT/BTC', 'XRP/USDC', 'XYO/BTC', 'LSK/ETH', 'XRP/BTC', 'XRP/KCS', 'AVA/BTC', 'XRP/PAX', 'XRP/USDT', 'FTM/BTC', 'USDT/DAI', 'BTC/DAI', 'AVA/ETH', 'MKR/ETH', 'XRP/ETH', 'FTM/ETH', 'VSYS/BTC', 'MKR/DAI', 'BTT/BTC', 'BTT/ETH', 'SOLVE/BTC', 'GRIN/BTC', 'GRIN/ETH', 'GRIN/USDT'])\n",
      "==================================================\n",
      "bitfinex:\n",
      "Has fetchOHLCV: True\n",
      "Has fetchTrades: True\n",
      "Available timeframes:\n",
      "{'1m': '1m', '5m': '5m', '15m': '15m', '30m': '30m', '1h': '1h', '3h': '3h', '4h': '4h', '6h': '6h', '12h': '12h', '1d': '1D', '1w': '7D', '2w': '14D', '1M': '1M'}\n",
      "Available currency pairs:\n",
      "dict_keys(['BTC/USD', 'LTC/USD', 'LTC/BTC', 'ETH/USD', 'ETH/BTC', 'ETC/BTC', 'ETC/USD', 'RRT/USD', 'ZEC/USD', 'ZEC/BTC', 'XMR/USD', 'XMR/BTC', 'DASH/USD', 'DASH/BTC', 'BTC/EUR', 'BTC/JPY', 'XRP/USD', 'XRP/BTC', 'IOTA/USD', 'IOTA/BTC', 'IOTA/ETH', 'EOS/USD', 'EOS/BTC', 'EOS/ETH', 'SAN/USD', 'SAN/BTC', 'SAN/ETH', 'OMG/USD', 'OMG/BTC', 'OMG/ETH', 'NEO/USD', 'NEO/BTC', 'NEO/ETH', 'ETP/USD', 'ETP/BTC', 'ETP/ETH', 'QTUM/USD', 'QTUM/BTC', 'PNT/USD', 'PNT/BTC', 'PNT/ETH', 'BTG/USD', 'BTG/BTC', 'DATA/USD', 'DATA/BTC', 'QASH/USD', 'GNT/USD', 'SNT/USD', 'IOTA/EUR', 'BAT/USD', 'BAT/BTC', 'BAT/ETH', 'MANA/USD', 'MANA/BTC', 'FUN/USD', 'ZRX/USD', 'ZRX/BTC', 'ZRX/ETH', 'TRX/USD', 'TRX/BTC', 'TRX/ETH', 'SNGLS/USD', 'REP/USD', 'REP/BTC', 'NEC/USD', 'BTC/GBP', 'ETH/EUR', 'ETH/JPY', 'ETH/GBP', 'NEO/EUR', 'NEO/JPY', 'NEO/GBP', 'EOS/EUR', 'EOS/JPY', 'EOS/GBP', 'IOTA/JPY', 'IOTA/GBP', 'REQ/USD', 'LRC/USD', 'WAXP/USD', 'DAI/USD', 'DAI/BTC', 'DAI/ETH', 'BFT/USD', 'ODE/USD', 'ANT/USD', 'ANT/BTC', 'ANT/ETH', 'STORJ/USD', 'XLM/USD', 'XLM/BTC', 'XLM/ETH', 'XVG/USD', 'MKR/USD', 'KNC/USD', 'KNC/BTC', 'LYM/USD', 'UTK/USD', 'VEE/USD', 'ORS Group/USD', 'ZCN/USD', 'ESS/USD', 'IQ/USD', 'ZIL/USD', 'ZIL/BTC', 'BNT/USD', 'XRA/USD', 'VET/USD', 'VET/BTC', 'GOT/USD', 'GOT/EUR', 'XTZ/USD', 'XTZ/BTC', 'TRX/EUR', 'YGG/USD', 'MLN/USD', 'OMN/USD', 'PNK/USD', 'PNK/ETH', 'DGB/USD', 'BSV/USD', 'BSV/BTC', 'ENJ/USD', 'RBTC/USD', 'RBTC/BTC', 'USDT/USD', 'EURT/EUR', 'EURT/USD', 'USDC/USD', 'TUSD/USD', 'PAX/USD', 'PASS/USD', 'VSYS/USD', 'VSYS/BTC', 'BTT/USD', 'BTC/USDT', 'ETH/USDT', 'CLO/USD', 'LTC/USDT', 'EOS/USDT', 'GNO/USD', 'ATOM/USD', 'ATOM/BTC', 'ATOM/ETH', 'WBT/USD', 'XCHF/USD', 'EURS/USD', 'LEO/USD', 'LEO/BTC', 'LEO/USDT', 'LEO/EOS', 'LEO/ETH', 'GTX/USD', 'KAN/USD', 'GTX/USDT', 'KAN/USDT', 'AMPL/USD', 'ALGO/USD', 'ALGO/BTC', 'ALGO/USDT', 'BTC/XCHF', 'AMPL/USDT', 'DUSK/USD', 'DUSK/BTC', 'UOS/USD', 'UOS/BTC', 'RRB/USD', 'RRB/USDT', 'AMPL/BTC', 'FTT/USD', 'FTT/USDT', 'PAX/USDT', 'USDC/USDT', 'TUSD/USDT', 'BTC/CNHT', 'USDT/CNHT', 'CNH/CNHT', 'CHZ/USD', 'CHZ/USDT', 'XAUT/USD', 'XAUT/BTC', 'XAUT/USDT', 'RINGX/USD', 'BTSE/USD', 'TESTBTC/TESTUSD', 'TESTBTC/TESTUSDT', 'AAA/BBB', 'MDOGE/USD', 'MDOGE/BTC', 'MDOGE/USDT', 'DOT/USD', 'ADA/USD', 'ADA/BTC', 'ADA/USDT', 'FET/USD', 'FET/USDT', 'DOT/USDT', 'LINK/USD', 'LINK/USDT', 'COMP/USD', 'COMP/USDT', 'KSM/USD', 'KSM/USDT', 'EGLD/USD', 'EGLD/USDT', 'UNI/USD', 'UNI/USDT', 'BAND/USD', 'BAND/USDT', 'AVAX/USD', 'AVAX/USDT', 'SNX/USD', 'SNX/USDT', 'YFI/USD', 'YFI/USDT', 'BAL/USD', 'BAL/USDT', 'EOSDT/USD', 'EOSDT/USDT', 'FIL/USD', 'FIL/USDT', 'JST/USD', 'JST/BTC', 'JST/USDT', 'IQ/USDT', 'HEZ/USD', 'HEZ/USDT', 'BCHA/USD', 'BCH/USD', 'XDC/USD', 'XDC/USDT', 'PLU/USD', 'SUN/USD', 'SUN/USDT', 'UOP/USD', 'UOP/USDT', 'EURT/USDT', 'XMR/USDT', 'XRP/USDT', 'B21X/USD', 'B21X/USDT', 'SUSHI/USD', 'SUSHI/USDT', 'XSN/USD', 'DOT/BTC', 'ETH2X/USD', 'ETH2X/USDT', 'ETH2X/ETH', 'AAVE/USD', 'AAVE/USDT', 'XLM/USDT', 'CTK/USD', 'CTK/USDT', 'SOL/USD', 'SOL/USDT', 'BEST/USD', 'ALBT/USD', 'ALBT/USDT', 'CEL/USD', 'CEL/USDT', 'SUKU/USD', 'SUKU/USDT', 'BMI/USD', 'BMI/USDT', 'MOB/USD', 'MOB/USDT', 'NEAR/USD', 'NEAR/USDT', 'BOSON/USD', 'BOSON/USDT', 'LUNA/USD', 'LUNA/USDT', 'ICE/USD', 'DOGE/USD', 'DOGE/USDT', 'OXY/USD', 'OXY/USDT', '1INCH/USD', '1INCH/USDT', 'IDX/USD', 'FORTH/USD', 'FORTH/USDT', 'IDX/USDT', 'CHEX/USD', 'QTF/USD', 'QTF/BTC', 'OCEAN/USD', 'OCEAN/USDT', 'PLANETS/USD', 'PLANETS/USDT', 'FTM/USD', 'FTM/USDT', 'NEXO/USD', 'NEXO/BTC', 'NEXO/USDT', 'VELO/USD', 'VELO/USDT', 'ICP/USD', 'ICP/BTC', 'ICP/USDT', 'FCL/USD', 'FCL/USDT', 'UST/USD', 'UST/USDT', 'MIR/USD', 'MIR/USDT', 'GRT/USD', 'GRT/USDT', 'WAVES/USD', 'WAVES/USDT', 'REEF/USD', 'REEF/USDT', 'BTC/EURT', 'DCR/USD', 'LUNA/BTC', 'CHSB/USD', 'CHSB/BTC', 'CHSB/USDT', 'XRD/USD', 'XRD/BTC', 'BTCF0/USTF0', 'ETHF0/USTF0', 'XAUTF0/USTF0', 'BTCDOMF0/USTF0', 'TESTBTCF0/TESTUSDTF0', 'AMPF0/USTF0', 'EURF0/USTF0', 'GBPF0/USTF0', 'JPYF0/USTF0', 'EUROPE50IXF0/USTF0', 'GERMANY30IXF0/USTF0', 'EOSF0/USTF0', 'LTCF0/USTF0', 'DOTF0/USTF0', 'XAGF0/USTF0', 'IOTF0/USTF0', 'LINKF0/USTF0', 'UNIF0/USTF0', 'ETHF0/BTCF0', 'ADAF0/USTF0', 'XLMF0/USTF0', 'DOTF0/BTCF0', 'LTCF0/BTCF0', 'XAUTF0/BTCF0', 'DOGEF0/USTF0', 'SOLF0/USTF0', 'SUSHIF0/USTF0', 'LUNAF0/USTF0', 'FILF0/USTF0', 'AVAXF0/USTF0'])\n",
      "==================================================\n",
      "gateio:\n",
      "Has fetchOHLCV: True\n",
      "Has fetchTrades: True\n",
      "Available timeframes:\n",
      "{'10s': '10s', '1m': '1m', '5m': '5m', '15m': '15m', '30m': '30m', '1h': '1h', '4h': '4h', '8h': '8h', '1d': '1d', '7d': '7d'}\n",
      "Available currency pairs:\n"
     ]
    },
    {
     "name": "stdout",
     "output_type": "stream",
     "text": [
      "dict_keys(['IHT/ETH', 'AME/ETH', 'ALEPH/USDT', 'OGN/USDT', 'HC/USDT', 'SAL/USDT', 'QNT/USDT', 'QTUM/ETH', 'MAHA/ETH', 'POOL/USDT', 'KGC/USDT', 'HARD/USDT', 'FTT/ETH', 'K21/ETH', 'FINE/USDT', 'REP/USDT', 'SKM/ETH', 'QLC/ETH', 'GAS/BTC', 'ALICE3L/USDT', 'BAO/USDT', 'ANT/USDT', 'VIDYX/USDT', 'SMTY/ETH', 'HERO/USDT', 'SHARE/USDT', 'FIN/USDT', 'MTV/USDT', 'JNT/ETH', 'SMTY/USDT', 'ORAO/USDT', 'AE/ETH', 'SUSD/USDT', 'MAN/USDT', 'VET/USDT', 'WAXP/ETH', 'MDA/ETH', 'SPS/USDT', 'STX/ETH', 'WSIENNA/USDT', 'NAOS/BTC', 'NFTX/USDT', 'ICP3L/USDT', 'SFI/ETH', 'BSV3L/USDT', 'DIS/ETH', 'FET/USDT', 'VELO/USDT', 'NSBT/BTC', 'GSE/ETH', 'HNS/BTC', 'BACON/USDT', 'DUSK/USDT', 'EGLD/ETH', 'C983L/USDT', 'FAN/ETH', 'CZZ/USDT', 'SWRV/USDT', 'ONT/ETH', 'KINE/ETH', 'SAKE/ETH', 'SUSD/ETH', 'ONC/USDT', 'VEGA/ETH', 'DAI/USDT', 'PERL/ETH', 'MATIC3S/USDT', 'STMX/USDT', 'SKL/USDT', 'AMPL3S/USDT', 'WEX/USDT', 'ULU/ETH', 'LIKE/ETH', 'INSUR/ETH', 'CAKE/ETH', 'SXP/ETH', 'COTI/USDT', 'AVA/USDT', 'OPA/USDT', 'VEGA/USDT', 'HitChain/ETH', 'SPS/ETH', 'FSN/USDT', 'EOS/ETH', 'KYL/USDT', 'REVV/ETH', 'XRP/USDT', 'ICP/ETH', 'ALICE3S/USDT', 'PCX/USDT', 'LEMO/ETH', 'MKR/ETH', 'CART/ETH', 'MATIC/USDT', 'UNI/USD', 'VAIOT/ETH', 'MOBI/BTC', 'ICP3S/USDT', 'BEAM/BTC', 'FTT/USDT', 'IQ/ETH', 'AMPL3L/USDT', 'TAI/USDT', 'DHV/ETH', 'AST/USDT', 'XAVA/USDT', 'LSS/USDT', 'SNX3S/USDT', 'PBR/USDT', 'XEND/ETH', 'SHR/ETH', 'PRQ/USDT', 'MATIC3L/USDT', 'LPOOL/USDT', 'CBK/USDT', 'BXC/USDT', 'REVO/BTC', 'DEGO/USDT', 'OCT/USDT', 'L3P/USDT', 'ONC/ETH', 'AXS/USD', 'XTZ/ETH', 'NEO3L/USDT', 'FROG/USDT', 'XNFT/USDT', 'BCH3S/USDT', 'ROUTE/USDT', 'GLM/USDT', 'SLRS/ETH', 'VRA/USDT', 'ONS/USDT', 'ZEC3L/USDT', 'KFT/ETH', 'TFD/ETH', 'FRA/USDT', 'RDN/ETH', 'BLANK/USDT', 'DDD/USDT', 'DOGE/USD', 'AKRO/ETH', 'GITCOIN/USDT', 'LTO/ETH', 'FLY/USDT', 'CREDIT/USDT', 'ZRX/ETH', 'CRP/ETH', 'NBOT/USDT', 'HT3L/USDT', 'DORA/ETH', 'LLT/SNET', 'ASD/USDT', 'XMR/USDT', 'FTM/USDT', 'MTL/ETH', 'ADX/ETH', 'RUNE/ETH', 'PIG/USDT', 'BCUG/USDT', 'EGG/ETH', 'BTG/USDT', 'SKYRIM/USDT', 'CS/USDT', 'XVS/USDT', 'A5T/USDT', 'GOD/BTC', 'WAVES/USDT', 'LSK/BTC', 'BTT/TRX', 'POLC/USDT', 'MIR/ETH', 'SRM/ETH', 'ORN/ETH', 'RBC/ETH', 'SMG/ETH', 'BSCS/ETH', 'ZEC3S/USDT', 'DOS/USDT', 'HT3S/USDT', 'RING/USDT', 'BCD/BTC', 'FIRO/USDT', 'AUDIO/USDT', 'CRBN/USDT', 'MM/ETH', 'XMARK/USDT', 'SAKE/USDT', 'SLP/USDT', 'LUNA/USDT', 'FTM3L/USDT', 'RFUEL/USDT', 'NEO3S/USDT', 'TNT/ETH', 'MIR/USDT', 'ETC/BTC', 'ALPACA/ETH', 'KSM/USDT', 'XMARK/ETH', 'QTUM/USDT', 'C983S/USDT', 'DOGE3S/USDT', 'RVN/USDT', 'ARES/ETH', 'Trinity Network Credit/ETH', 'SENC/ETH', 'ONE/USDT', 'FTM3S/USDT', 'FLUX/USDT', 'STORJ/ETH', 'MTN/ETH', 'BLES/ETH', 'LIME/ETH', 'XOR/ETH', 'JFI/USDT', 'USDG/USDT', 'BOND/ETH', 'ENJ/USDT', 'DOGE3L/USDT', 'FORM/USDT', 'ONX/USDT', 'ISP/ETH', 'NIIFI/USDT', 'VRX/USDT', 'CTSI/USDT', 'ORBS/USDT', 'ZLW/ETH', 'FIL/USDT', 'FTI/ETH', 'CTK/USDT', 'CBK/BTC', 'MBOX/ETH', 'RAM/USDT', 'IRIS/USDT', 'AME/USDT', 'RING/ETH', 'JULD/ETH', 'POLK/ETH', 'ACH3S/USDT', 'HYVE/ETH', 'MIX/ETH', 'ORAO/ETH', 'IHT/USDT', 'MXC/BTC', 'DDD/BTC', 'CHESS/ETH', 'SHIB/USDT', 'NFT/USDT', 'TSHP/USDT', 'AMP/USDT', 'BTCST/ETH', 'O3/USDT', 'GS/ETH', 'DX/ETH', 'NYZO/ETH', 'RATING/ETH', 'GALA/ETH', 'LON3L/USDT', 'LINK/ETH', 'SKU/USDT', 'QLC/USDT', 'IDEA/USDT', 'ACH3L/USDT', 'POWR/ETH', 'VET/ETH', 'ALGO/USDT', 'BAO/ETH', 'TORN/ETH', 'VRT/USDT', 'BLANKV2/ETH', 'AUCTION/ETH', 'NWC/BTC', 'DOT5S/USDT', 'MRCH/ETH', 'CELR/ETH', 'CHESS/USDT', 'XLM3L/USDT', 'TRU/ETH', 'EPK/USDT', 'MED/ETH', 'BSCPAD/ETH', 'ZCN/USDT', 'AIOZ/ETH', 'FOR/ETH', 'CVC3L/USDT', 'SALT/USDT', 'PLY/ETH', 'FIS/USDT', 'STOX/ETH', 'CRV/BTC', 'SCRT/ETH', 'ROSE/USDT', 'SKILL/ETH', 'FRAX/USDT', 'BAGS/USDT', 'WIKEN/BTC', 'WOO/USDT', 'BBANK/ETH', 'SNX3L/USDT', 'VTHO/USDT', 'OKB3L/USDT', 'SAFEMOON/USDT', 'RAD/ETH', 'IOI/USDT', 'LAMB/USDT', 'CHZ/USDT', 'FAR/ETH', 'OKB3S/USDT', 'JGN/ETH', 'EOS3S/USDT', 'DBC/USDT', 'ATOM/USDT', 'ACH/ETH', 'OST/ETH', 'EWT/ETH', 'FXS/USDT', 'ATA/USDT', 'CVC3S/USDT', 'ALPA/ETH', 'CGG/ETH', 'CIR/ETH', 'LON3S/USDT', 'INJ/USDT', 'FIRE/ETH', 'MAHA/USDT', 'NU/ETH', 'LEO/BTC', 'CRV/USDT', 'WHALE/USDT', 'INJ/ETH', 'GRAP/USDT', 'AVAX3S/USDT', 'C98/USDT', 'ERN/ETH', 'SUSHI/ETH', 'VET3S/USDT', 'KPAD/USDT', 'CRO/USDT', 'LEMD/USDT', 'ETH2/ETH', 'BASE/ETH', 'PERL/USDT', 'BANK/ETH', 'LST/ETH', 'PYR/ETH', 'UMB/USDT', 'SWINGBY/ETH', 'WICC/ETH', 'BORING/ETH', 'SDN/USDT', 'GXS/BTC', 'ALICE/ETH', 'ELEC/USDT', 'SFG/USDT', 'COFIX/USDT', 'TIPS/ETH', 'FIL/BTC', 'WILD/USDT', 'RENBTC/USDT', 'TRU/USDT', 'IOST/BTC', 'PPS/USDT', 'DAFI/ETH', 'UNISTAKE/ETH', 'SHIB3S/USDT', 'BNB/USD', 'GTH/ETH', 'ZCX/USDT', 'GLQ/USDT', 'PROPS/USDT', 'KFT/USDT', 'AERGO/USDT', 'RUFF/ETH', 'EOS3L/USDT', 'API3/USDT', 'MINA/BTC', 'ETHA/ETH', 'AXIS/ETH', 'LOON/USDT', 'AVAX3L/USDT', 'VET3L/USDT', 'AE/USDT', 'LYM/USDT', 'DCR/BTC', 'LBK/USDT', 'LAVA/USDT', 'RSV/USDT', 'KIF/USDT', 'LUNA/ETH', 'OGN/ETH', 'TOTM/USDT', 'Beyond Finance/ETH', 'MINA/USDT', 'PUNDIX/ETH', 'DG/ETH', 'DOT5L/USDT', 'TRADE/USDT', 'NU/USDT', 'BLANK/ETH', 'PCNT/ETH', 'POLS/USDT', 'MTA/USDT', 'YIELD/USDT', 'LUN/ETH', 'ZCN/ETH', 'DVP/ETH', 'SYLO/USDT', 'BASE/USDT', 'ICX/USDT', 'PET/USDT', 'RED/ETH', 'Super Bitcoin/USDT', 'SOL/USD', 'NAFT/USDT', 'Game.com/USDT', 'CVP/ETH', 'XRPBEAR/USDT', 'SXP/USDT', 'FAST/USDT', 'QASH/USDT', 'BCD/USDT', 'SRM/USDT', 'ZEC/USDT', 'UFT/USDT', 'ERN/USDT', 'EHASH/ETH', 'BADGER/ETH', 'AUDIO/ETH', 'DOCK/ETH', 'QSP/USDT', 'FLM/USDT', 'AAVE3S/USDT', 'BOND/USDT', 'TARA/USDT', 'TRX/USDT', 'SPO/USDT', 'DSLA/USDT', 'LTC/BTC', 'DOGE/USDT', 'SLIM/ETH', 'ALN/ETH', 'CFX3S/USDT', 'YAMV2/USDT', 'FXS/ETH', 'RARE/ETH', 'ETH/USD', 'SDN/BTC', 'QUICK/USDT', 'UTK/USDT', 'TRB/USDT', 'ALPHA/ETH', 'CVC/ETH', 'WSG/USDT', 'UNI/ETH', 'DASH3L/USDT', 'SFP/ETH', 'RUFF/BTC', 'ALPHA3S/USDT', 'WIKEN/USDT', 'OMG3S/USDT', 'BCH5S/USDT', 'UTK/ETH', 'MED/USDT', 'MAN/ETH', 'CGG/USDT', 'CRE/USDT', 'ABT/USDT', 'DPET/USDT', 'WOM/USDT', 'RIF/USDT', 'BENQI/USDT', 'Game.com/BTC', 'LAT/USDT', 'DLTA/USDT', 'SMT/USDT', 'APYS/USDT', 'MFT/ETH', 'ABT/ETH', 'STOX/USDT', 'ZRX/BTC', 'GMAT/USDT', 'ROOM/ETH', 'STORJ/BTC', 'RAZOR/USDT', 'RAGE/USDT', 'DOCK/USDT', 'RDN/USDT', 'MTR/USDT', 'NKN/USDT', 'DENT/ETH', 'DFND/USDT', 'BLES/USDT', 'WNXM/ETH', 'BTC3S/USDT', 'BKC/USDT', 'THETA3L/USDT', 'AVAX/ETH', 'NANO/BTC', 'BCX/BTC', 'BCH/USD', 'ETH3L/USDT', 'QLC/BTC', 'BCUG/ETH', 'NEAR/ETH', 'PNL/USDT', 'ODDZ/ETH', 'ATOM/BTC', 'XRP/BTC', 'BULL/USDT', 'HMT/USDT', 'STND/USDT', 'LPT/USDT', 'LTC3L/USDT', 'QI/ETH', 'TVK/USDT', 'CWS/USDT', 'SWOP/USDT', 'WBTC/USDT', 'INSTAR/ETH', 'ICX/ETH', 'PAID/ETH', 'XTZ/BTC', 'AGS/USDT', 'TARA/BTC', 'SASHIMI/ETH', 'GDAO/USDT', 'MARS/ETH', 'PMON/USDT', 'TVK/ETH', 'POWR/USDT', 'UOS/USDT', 'SLICE/USDT', 'ARRR/ETH', 'NSBT/USDT', 'STR/ETH', 'BEAM3L/USDT', 'BEL/USDT', 'MM/USDT', 'AXS/ETH', 'WEST/ETH', 'OMI/USDT', 'TIPS/USDT', 'FEI/USDT', 'GEM/USDT', 'PVU/USDT', 'XED/ETH', 'LRN/ETH', 'LION/USDT', 'BLACK/USDT', 'CUDOS/USDT', 'PCNT/USDT', 'OVR/USDT', 'ETC3S/USDT', 'CHR/ETH', 'MER/USDT', 'FUEL/USDT', 'BAC/USDT', 'CONV/ETH', 'CDT/BTC', 'OPIUM/USDT', 'JST3L/USDT', 'BONDLY/USDT', 'RAZE/USDT', 'LIME/BTC', 'NFTX/ETH', 'PNK/ETH', 'ALPHR/ETH', 'RLY/USDT', 'INK/BTC', 'NEAR3S/USDT', 'XLM3S/USDT', 'AR/USDT', 'AKT/USDT', 'REEF/ETH', 'BZZ/USDT', 'SRM3L/USDT', 'OPIUM/ETH', 'EWT/USDT', 'ALCX/ETH', 'CORN/USDT', 'HYDRA/USDT', 'RUNE/USD', 'STEP/USDT', 'CKB/BTC', 'MATTER/USDT', 'FXF/ETH', 'LIKE/USDT', 'HitChain/USDT', 'LEO/USDT', 'COMP/USDT', 'BAL/USDT', 'AQT/USDT', 'LINK3S/USDT', 'BUY/ETH', 'ROOK/ETH', 'EFI/USDT', 'OKT/ETH', 'RUNE/USDT', 'TCP/USDT', 'RBC/USDT', 'SPI/USDT', 'ETC/USDT', 'RENBTC/BTC', 'ETC/ETH', 'GNX/ETH', 'KISHU/USDT', 'AE/BTC', 'LIEN/USDT', 'CREAM/USDT', 'ATOM3S/USDT', 'FORTH/ETH', 'PYR/USDT', 'KTN/ETH', 'TKO/ETH', 'CIR/USDT', 'BEAM/ETH', 'TCP/ETH', 'SRM/USD', 'BLANKV2/USDT', 'FORM/ETH', 'BBANK/USDT', 'BAL3S/USDT', 'REVO/ETH', 'KNC/USDT', 'GAS/USDT', 'MCO/USDT', 'SAFEMARS/USDT', 'NWC/USDT', 'VALUE/USDT', 'ATA/ETH', 'JOE/USDT', 'BAS/ETH', 'BIT/USDT', 'QNT/ETH', 'RFOX/ETH', 'CRV3L/USDT', 'OXT/USDT', 'SHFT/USDT', 'LYM/ETH', 'BP/USDT', 'PERP/USDT', 'VELO/ETH', 'DUCK2/USDT', 'DUCK2/ETH', 'UNCX/ETH', 'SERO/ETH', 'STX/USDT', 'KEX/ETH', 'CARDS/USDT', 'GALA/USDT', 'KAVA3L/USDT', 'GARD/USDT', 'ANY/USDT', 'GRT3L/USDT', 'BFC/USDT', 'COMBO/ETH', 'PAID/USDT', 'MKR/USDT', 'MASK/USDT', 'AVAX/USDT', 'SKL3L/USDT', 'BMI/ETH', 'SFIL/USDT', 'KLV/USDT', 'MKR3L/USDT', 'UST/USDT', 'LEDU/BTC', 'XLM/BTC', 'OIN/USDT', 'CAKE/USDT', 'RNDR/USDT', 'SHR/USDT', 'OXY/ETH', 'ONT/USDT', 'FUSE/ETH', 'PNT/ETH', 'MATH/USDT', 'FEG/USDT', 'DERC/USDT', 'DUCK/ETH', 'MITH/ETH', 'OCTO/ETH', 'LIEN/ETH', 'ZRX/USDT', 'AKT/ETH', 'BRY/ETH', 'BAND/USDT', 'TROY/ETH', 'REQ/ETH', 'SOP/ETH', 'GT/BTC', 'THETA/USDT', 'BOSON/ETH', 'NBS/USDT', 'DATA/ETH', 'AUCTION/USDT', 'ORC/USDT', 'LIME/USDT', 'BSCS/USDT', 'VAIOT/USDT', 'RVC/USDT', 'NULS/USDT', 'PEARL/USDT', 'COMP3S/USDT', 'SAND/ETH', 'PHTR/USDT', 'OST/USDT', 'ALGO3L/USDT', 'LINK/USD', 'BFT/USDT', 'SOUL/USDT', 'LRC/BTC', 'POOLZ/USDT', 'ZIL/USDT', 'STEP/ETH', 'DG/USDT', 'DENT/USDT', 'REN/USDT', 'MPH/USDT', 'LOCG/USDT', 'BLZ/USDT', 'CHAIN/ETH', 'LTC/SGD', 'HEGIC/USDT', 'DPY/USDT', 'ETC/SGD', 'GRIN3L/USDT', 'UNI3S/USDT', 'FOR/USDT', 'GEM/ETH', 'GSE/USDT', 'RAZOR/ETH', 'WEST/USDT', 'BTM3S/USDT', 'ARRR/USDT', 'RAY/ETH', 'ALY/USDT', 'WAVES3L/USDT', 'ELF/ETH', 'BBANK/BTC', 'RUNE3S/USDT', 'BAT/USDT', 'RAMP/USDT', 'GARD/ETH', 'CRU/ETH', 'OCC/USDT', 'BMON/USDT', 'CHNG/BTC', 'KINE/USDT', 'AUTO/ETH', 'COOK/USDT', 'BDT/USDT', 'BNTY/ETH', 'MDT/BTC', 'ANC/USDT', 'TOOLS/ETH', 'OPEN/ETH', 'ALCX/USDT', 'GRAP/ETH', 'TWT/ETH', 'KTN/USDT', 'POLY/ETH', 'BEAM/USDT', 'STAR/USDT', 'AAVE/USD', 'PAY/ETH', 'RCN/USDT', 'BMI/USDT', 'MATIC/ETH', 'LOWB/USDT', 'SNET/ETH', 'SLP/ETH', 'DILI/USDT', 'OM/USDT', 'KIMCHI/ETH', 'UNN/USDT', 'POND/USDT', 'EDEN/USDT', 'MUSE/USDT', 'UNFI/USDT', 'FORTH/USDT', 'ADD/ETH', 'RLC/USDT', 'YFDAI/USDT', 'SAND3L/USDT', 'SENC/USDT', 'DOT/BTC', 'MTL3L/USDT', 'FIRE/USDT', 'NEST/USDT', 'XRP3S/USDT', 'AUTO/USDT', 'VSO/USDT', 'XRP/SGD', 'ATP/ETH', 'OCN/USDT', 'PLA/USDT', 'CYS/USDT', 'CHZ/ETH', 'VRA/BTC', 'SOL3L/USDT', 'BU/ETH', 'XEM/ETH', 'ALAYA/ETH', 'LTC5L/USDT', 'WBTC/BTC', 'DRGN/ETH', 'WRX/USDT', 'POWR/BTC', 'BNT/ETH', 'HEGIC/ETH', '1INCH3S/USDT', 'HNT/USDT', 'BBK/ETH', 'YIELD/ETH', 'XRP5S/USDT', 'DOGGY/USDT', 'RAY/USDT', 'DSLA/ETH', 'SFI/USDT', 'CFX/USDT', 'NOIA/ETH', 'PNG/USDT', 'SWTH/ETH', 'PRARE/USDT', 'TOMO/USDT', 'XNFT/ETH', 'MOBI/ETH', 'PARA/USDT', 'ONG/ETH', 'OKT/USDT', 'SUSHI/USD', 'HOGE/USDT', 'SUSHI3L/USDT', 'CAPS/USDT', 'HSC/USDT', 'STBU/USDT', 'OLT/USDT', 'ACH/USDT', 'XYM/ETH', 'GTH/USDT', 'AKRO/USDT', 'TOMO/ETH', 'TCT/ETH', 'WNCG/USDT', 'IOTA/BTC', 'CVP/USDT', 'MARS/USDT', 'FAST/ETH', 'MTA/ETH', 'DDD/ETH', 'YFII3L/USDT', 'ETHBULL/USDT', 'MATH/ETH', 'WICC/USDT', 'HNT/ETH', 'STMX/ETH', 'METIS/USDT', 'ROSE3S/USDT', 'FEAR/USDT', 'KAVA/USDT', 'APN/USDT', 'CONV/USDT', 'RAZE/ETH', 'WNCG/BTC', 'QTUM3S/USDT', 'LRC3S/USDT', 'RNDR/ETH', 'TRX3S/USDT', 'APYS/ETH', 'BCHA/BTC', 'ROOK/USDT', 'PHA/USDT', 'ELF/USDT', 'WAR/USDT', 'KNC/ETH', 'VSO/ETH', 'NAS/USDT', 'VIDY/USDT', 'HOT/USDT', 'WEMIX/ETH', 'LUNA3S/USDT', 'INV/ETH', 'ALICE/USDT', 'CBK/ETH', 'XCAD/USDT', 'UFT/ETH', 'AERGO/ETH', 'FARM/ETH', 'ETHBEAR/USDT', 'LTO/USDT', 'ONX/ETH', 'RFR/ETH', 'BNB3L/USDT', 'IOST/USDT', 'BTO/USDT', 'STR/USDT', 'UMB/ETH', 'FIL/ETH', 'FEI/ETH', 'DHV/USDT', 'SPA/USDT', 'DNT/ETH', 'BTCST/USDT', 'WHITE/ETH', 'STARL/USDT', 'ORAI/ETH', 'REM/ETH', 'BCDN/USDT', 'YFII/ETH', '1INCH/ETH', 'LINK/USDT', 'TLM/USDT', 'RARE/USDT', 'BTG/BTC', 'PSG/USDT', 'KEY/USDT', 'ALN/USDT', 'BAND/ETH', 'BTC/SGD', 'K21/USDT', 'MAPS/USDT', 'BSV5L/USDT', 'XMR3L/USDT', 'KONO/ETH', 'KTON/USDT', 'KP3R/ETH', 'NEST/ETH', 'XMC/BTC', 'SASHIMI/USDT', 'CYS/ETH', 'HYVE/USDT', 'DASH/BTC', 'DYP/ETH', 'ZPT/BTC', 'TARA/ETH', 'ELEC/ETH', 'ANC/ETH', 'DBC/ETH', 'GHST/ETH', 'OXY/USDT', 'BOA/USDT', 'MPH/ETH', 'SERO3S/USDT', 'CQT/ETH', 'MARSH/USDT', 'TWT/USDT', 'ARPA/USDT', 'EZ/ETH', 'WHITE/USDT', 'EGLD3S/USDT', 'BDT/ETH', 'MINI/ETH', 'MIX/USDT', 'POND/ETH', 'REN/ETH', 'XPR/ETH', 'PET/ETH', 'APN/ETH', 'CHAIN/USDT', 'ONT3S/USDT', 'UNFI/ETH', 'PUNDIX/USDT', 'UNI/USDT', 'DOGE/BTC', 'USDT/USD', 'NAS/ETH', 'CSPR/USDT', 'CVX/ETH', 'GNO/ETH', 'RIF/ETH', 'METIS/ETH', 'QRDO/USDT', 'OPEN/USDT', 'BAL/ETH', 'GRT/USDT', 'PST/ETH', 'BLACK/ETH', 'ADEL/USDT', 'ZEE/ETH', 'XYM/USDT', 'EGLD/USDT', 'TSL/USDT', 'CKB/ETH', 'CVC/USDT', 'TOOLS/USDT', 'FAR/USDT', 'DIS/USDT', 'MOBI/USDT', 'DDOS/USDT', 'MLN/ETH', 'MOVR/ETH', 'ETH5S/USDT', 'DKA/ETH', 'OLYMPUS/USDT', 'FEVR/USDT', 'MBL/USDT', 'NRV/USDT', 'KIN/USDT', 'ETH5L/USDT', 'KALM/USDT', 'DX/USDT', 'BAGS/ETH', 'ADA/BTC', 'EOSBEAR/USDT', 'FET/ETH', 'MEETONE/ETH', 'DUSK/ETH', 'FXF/USDT', 'Morpher/ETH', 'YOP/ETH', 'NOIA/USDT', 'LSS/ETH', 'BNB/USDT', 'SALT/ETH', 'CORAL/USDT', 'MDX/USDT', 'OMG/ETH', 'XPRT/ETH', 'DEXE/ETH', 'LKR/ETH', 'GLQ/ETH', 'ZIL/ETH', 'BTC5L/USDT', 'LABS/ETH', 'NKN/ETH', 'HAI/ETH', 'PSG/ETH', 'CRP/USDT', 'COVER/ETH', 'GDT/ETH', 'DFA/USDT', 'YFI/USDT', 'PWAR/ETH', 'DASH/USDT', 'DDIM/USDT', 'REQ/USDT', 'ZIL3L/USDT', 'NYZO/USDT', 'CORE/USDT', 'UNN/ETH', 'INSUR/USDT', 'JOE/ETH', 'LRN/USDT', 'JGN/USDT', 'QKC/ETH', 'SNT/ETH', 'DRGN/USDT', 'CORAL/ETH', 'WAVES3S/USDT', 'ZSC/USDT', 'NUX/USDT', 'TRX/ETH', 'NEAR/USDT', 'ZOON/USDT', 'XLM/ETH', 'QASH/BTC', 'MTRG/USDT', 'EFI/ETH', 'MRCH/USDT', 'TCT/USDT', 'BTM/BTC', 'FST/USDT', 'YFII/USDT', 'BCN/BTC', 'POLY/USDT', 'SOL/USDT', 'BTC5S/USDT', 'COMBO/USDT', 'AXS/USDT', 'FIO/USDT', 'EDEN/ETH', 'OOE/ETH', 'SUKU/ETH', 'LIT/USDT', 'FIL3S/USDT', 'SKYRIM/ETH', 'ELON/USDT', 'FLOW/ETH', 'SNOW/USDT', 'DPR/ETH', 'BLY/BTC', 'UNCX/USDT', 'UMX/USDT', 'ZIL3S/USDT', 'BEAR/USDT', 'ARMOR/USDT', 'KONO/USDT', 'MDA/USDT', 'OCN/ETH', 'FUEL/ETH', 'KSM3L/USDT', 'LYM/BTC', 'SDN/ETH', 'MUSE/ETH', 'PRARE/ETH', 'MINI/USDT', 'BIRD/ETH', 'MANA/ETH', 'ORAI/USDT', 'ZSC/ETH', 'SERO3L/USDT', 'GRT/ETH', 'MANA/USDT', 'SKRT/USDT', 'LRC/ETH', 'OKB/USDT', 'ATD/USDT', 'MTN/USDT', 'DDIM/ETH', 'COMP3L/USDT', 'QKC/USDT', 'STORJ/USDT', 'XEM/USDT', 'LSK/USDT', 'PWAR/USDT', 'IOTX/USDT', 'CVX/USDT', 'Game.com/ETH', 'CEL/ETH', 'FILDA/USDT', 'BORING/USDT', 'OAX/BTC', 'WNXM/USDT', 'ETH/USDT', 'EGLD3L/USDT', 'BU/USDT', 'XMR/BTC', 'GXS/USDT', 'DEK/USDT', 'QBT/ETH', 'YFDAI/ETH', 'KSM3S/USDT', 'CHR/USDT', 'SDAO/ETH', 'CART/USDT', 'ZEN3S/USDT', 'ONS/ETH', 'CSPR/ETH', 'XVS/ETH', 'DOWS/ETH', 'ALPACA/USDT', 'UST/ETH', 'LINA/ETH', 'HIVE/USDT', 'KP3R/USDT', 'KYL/ETH', 'BAT/BTC', 'WXT/ETH', 'LON/ETH', 'MFT/USDT', 'GS/USDT', 'MIS/ETH', 'ZEN3L/USDT', 'ANKR/USDT', 'LIT/ETH', 'LUN/USDT', 'SERO/USDT', 'WINGS/USDT', 'PAY/BTC', 'HOPR/ETH', 'RLY/ETH', 'XCH/USDT', 'ORN/USDT', 'TRIBE/ETH', 'EOS5S/USDT', 'BADGER/USDT', 'HGET/USDT', 'LKR/USDT', 'AXS3L/USDT', 'ADA3S/USDT', 'GRIN/ETH', 'BAKE/USDT', 'STN/ETH', 'SNT/USDT', 'NAX/USDT', 'DREP/USDT', 'CFX/ETH', 'YFI/ETH', 'CS/ETH', 'NORD/USDT', 'HOT/ETH', 'BOSON/USDT', 'DVP/USDT', 'POOL/ETH', 'OMG/USDT', 'Morpher/USDT', 'DOP/USDT', 'BCN/USDT', 'SMG/USDT', 'BURP/USDT', 'MDS/ETH', 'HC/BTC', 'Rai Reflex Index/USDT', 'GOD/USDT', 'WAR/ETH', 'ZEN/USDT', 'PI/BTC', 'SC/USDT', 'GUM/USDT', 'DORA/USDT', 'DIA/ETH', '100X/USDT', 'JASMY/ETH', 'SLNV2/ETH', 'REEF/USDT', 'COS/USDT', 'PROM/USDT', 'ARNX/USDT', 'IPAD/USDT', 'AXS3S/USDT', 'BTT/ETH', 'NEO/BTC', 'SKM/USDT', 'EOS5L/USDT', 'ADA3L/USDT', 'TIDAL/ETH', 'EPS/ETH', 'INK/ETH', 'STC/USDT', 'DOT/USDT', 'MDS/USDT', 'CKB/USDT', 'CRU/USDT', 'PLA/ETH', 'BEPRO/ETH', 'GITCOIN/ETH', 'STEEM/USDT', 'PNL/ETH', 'CNNS/USDT', 'BTF/USDT', 'MASK/ETH', 'MATIC/USD', 'ZPT/USDT', 'STRAX/BTC', 'COMP/USD', 'ETHA/USDT', 'RLC/ETH', 'ALPA/USDT', 'FIL3L/USDT', 'EON/ETH', 'A5T/ETH', 'SWAP/USDT', 'UOS/ETH', 'EOSDAC/ETH', 'XTZ3S/USDT', 'BFT/ETH', 'DYP/USDT', 'RARI/ETH', 'BONDLY/ETH', 'XTZ3L/USDT', 'XLM/USDT', 'PBTC35A/USDT', 'BSCPAD/USDT', 'DUCK/USDT', 'SNX/USDT', 'CARDS/ETH', 'KFC/USDT', 'HPB/ETH', 'RSR/USDT', 'MITH/USDT', 'CWS/ETH', 'FUN/ETH', 'EXRD/ETH', 'ILV/ETH', 'WAXP/USDT', 'RCN/ETH', 'AST/ETH', 'AXIS/USDT', 'NAOS/USDT', 'XMC/USDT', 'NPXS/ETH', 'FST/ETH', 'TIDAL/USDT', 'TBE/USDT', 'MARSH/ETH', 'PERA/USDT', 'NPXS/USDT', 'BFC/ETH', 'ZLW/USDT', 'BCDN/ETH', 'XED/USDT', 'BENQI/ETH', 'DOT3L/USDT', 'ASS/USDT', 'DNXC/USDT', 'ATD/ETH', 'WING/ETH', 'SPI/ETH', 'BONDED/ETH', 'SHARE/ETH', 'REVV/USDT', 'ALAYA/USDT', 'ESD/USDT', 'YFI3L/USDT', 'SKT/USDT', 'FINE/ETH', 'NBOT/ETH', 'KLV/ETH', 'SUP/USDT', 'RACA/USDT', 'ODDZ/USDT', 'PROM/ETH', 'SNOW/ETH', 'RATING/USDT', 'BTM/USDT', 'TKO/USDT', 'FLURRY/USDT', 'ZKS/ETH', 'CHZ3S/USDT', 'LBA/USDT', 'DefiBox/USDT', 'ARCX/ETH', 'BAMBOO/USDT', 'PKF/USDT', 'KIF/ETH', 'FIDA/USDT', 'HSC/ETH', 'TFUEL/USDT', 'TRB/ETH', 'FARM/USDT', 'LRC/USDT', 'STND/ETH', 'CHNG/USDT', 'EHASH/USDT', 'IOTA/USDT', 'RFOX/USDT', 'IAG/USDT', 'FRONT/ETH', 'NORD/ETH', 'KEEP/USDT', 'ENJ/ETH', 'LAYER/ETH', 'XRPBULL/USDT', 'DOT3S/USDT', 'HAI/USDT', 'BNB/BTC', 'BTC/USDT', 'CEL/USDT', 'NMT/USDT', 'WAVES/BTC', 'LTC/USDT', 'NSURE/ETH', 'ARPA/ETH', 'DAO/ETH', 'VIDYX/ETH', 'PICKLE/USDT', 'GMAT/ETH', 'MET/ETH', 'VRT/ETH', 'XEND/USDT', 'PVU/ETH', 'BXH/ETH', 'WOOP/USDT', 'LPOOL/ETH', 'OMI/ETH', 'CLV/USDT', '1INCH/USD', 'MIS/USDT', 'SWINGBY/USDT', 'HT/BTC', 'BTT/USDT', 'NFTB/USDT', 'FLUX/ETH', 'Super Bitcoin/BTC', 'YFI3S/USDT', 'ONT3L/USDT', 'OLY/USDT', 'CHZ3L/USDT', 'ESS/ETH', 'XCUR/USDT', 'L3P/ETH', 'CFX3L/USDT', 'GNX/USDT', 'JASMY/USDT', 'XVG/BTC', 'ETH3S/USDT', 'TLOS/BTC', 'EDR/ETH', 'WOZX/USDT', 'ZEE/USDT', 'FUN/USDT', 'GO/ETH', 'PBR/ETH', 'NOA/USDT', 'LON/USDT', 'BTC3L/USDT', 'WOO/ETH', 'THETA3S/USDT', 'BLZ/ETH', 'ISP/USDT', 'BUY/USDT', 'ANY/ETH', 'USDT/CNYX', 'GRT3S/USDT', 'DF/ETH', 'SWTH/USDT', 'NRV/ETH', 'WRX/ETH', 'FIDA/ETH', 'MKR3S/USDT', 'DIGG/USDT', 'EOS/BTC', 'BTS/BTC', 'TROY/USDT', 'BCH/USDT', 'KLAY/USDT', 'WING/USDT', 'ROSE/ETH', 'TON/USDT', 'AAVE3L/USDT', 'LAVA/ETH', 'FSN/ETH', 'KABY/USDT', 'GAME/USDT', 'FIC/USDT', 'QBT/USDT', 'BAKE/ETH', 'ONG/USDT', 'ERG/USDT', 'CREDIT/ETH', 'ALPHA/USDT', 'CELO/USDT', 'XVG/USDT', 'BTS/USDT', 'DIA/USDT', 'STAKE/USDT', 'AGLD/ETH', 'OAX/ETH', 'XEC/USDT', 'LBA/ETH', 'FRAX/ETH', 'PBTC35A/ETH', 'EOS/USDT', 'EOSBULL/USDT', 'SHIB3L/USDT', 'ESD/ETH', 'FLM/ETH', 'NAOS/ETH', 'SFP/USDT', 'PET/BTC', 'GNO/USDT', 'BIFIF/ETH', 'YLD/USDT', 'MOMA/ETH', 'BAS/USDT', 'SHOPX/USDT', 'OM/ETH', 'DHX/USDT', 'REM/USDT', 'ARCX/USDT', 'ADEL/ETH', 'EOSDAC/USDT', 'MBL/ETH', 'ROOM/USDT', 'GO/USDT', 'BZZ/ETH', 'OCN/BTC', 'DF/USDT', 'TPT/USDT', 'BAC/ETH', 'NSBT/ETH', 'BEAM3S/USDT', 'SUPER/ETH', 'KPAD/ETH', 'POOLZ/ETH', 'BCH5L/USDT', 'OXT/ETH', 'REVO/USDT', 'OMG3L/USDT', 'RFR/USDT', 'FTM/ETH', 'CFI/USDT', 'NMR/USDT', 'FEAR/ETH', 'QTUM/BTC', 'BTC/USD', 'SLM/USDT', 'HNS/USDT', 'LTC3S/USDT', 'WINGS/ETH', 'XCUR/ETH', 'QASH/ETH', 'FIS/ETH', 'DIGG/ETH', 'TLOS/USDT', 'XOR/USDT', 'SPHRI/USDT', 'BSV/BTC', 'SHIB/USD', 'CTI/USDT', 'ARNX/ETH', 'SKL3S/USDT', 'NANO/USDT', 'ATMI/ETH', 'LAMB/ETH', 'WOOP/ETH', 'SDAO/USDT', 'PNT/USDT', 'VSP/USDT', 'VALUE/ETH', 'GDAO/ETH', 'SUN/USDT', 'SNET/USDT', 'DATA/USDT', 'KIMCHI/USDT', 'SUKU/USDT', 'LABS/USDT', 'AAVE/USDT', 'FTI/USDT', 'ETH/SGD', 'SRM3S/USDT', 'ZKS/USDT', 'NAX/ETH', 'ABBC/USDT', 'GLM/ETH', 'BLY/USDT', 'JST/USDT', 'DPY/ETH', 'JULD/USDT', 'BU/BTC', 'TRX/USD', 'KEY/ETH', 'BAT/ETH', 'XEM/BTC', 'BAL3L/USDT', 'YAMV2/ETH', 'AMPL/USDT', 'GRIN3S/USDT', 'AAVE/ETH', 'UDO/ETH', 'HOD/USDT', 'ZEC/BTC', 'HUR/ETH', 'EDG/USDT', 'NEAR3L/USDT', 'BABYDOGE/USDT', 'BCX/USDT', 'XCH/ETH', 'MCRN/ETH', 'SOP/USDT', 'LTC/USD', 'MTL/USDT', 'JNT/BTC', 'BCHA/USDT', 'SWRV/ETH', 'CREAM/ETH', 'Trinity Network Credit/BTC', 'CTI/ETH', 'DSD/ETH', 'BUSY/USDT', 'HARD/ETH', 'BXC/ETH', 'XTZ/USDT', 'TRIBE/USDT', 'CDT/USDT', 'PDEX/USDT', 'BCH/SGD', 'MDT/USDT', 'FRA/ETH', 'DOG/USDT', 'XRP/USD', 'KEX/USDT', 'OMG/BTC', 'ETH2/USDT', 'UNISTAKE/USDT', 'CLV/ETH', 'VRX/ETH', 'MAPS/ETH', 'UMX/ETH', 'LPT/ETH', 'COCOS/USDT', 'MATTER/ETH', 'DOWS/USDT', 'QRDO/ETH', 'ATP/USDT', 'ATOM3L/USDT', 'PMON/ETH', 'JST3S/USDT', 'AGLD/USDT', 'ORBS/ETH', 'O3/ETH', 'GOF/USDT', 'LEV/USDT', 'LEMD/ETH', 'PST/USDT', 'AKITA/USDT', 'MDT/ETH', 'SHOPX/ETH', 'MCRN/USDT', 'CRV3S/USDT', 'DAFI/USDT', 'XPRT/USDT', 'SLICE/ETH', 'MET/USDT', 'BEL/ETH', 'HMT/ETH', 'PROPS/ETH', 'TORN/USDT', 'HPB/USDT', 'KAI/USDT', 'DCR/USDT', '1INCH/USDT', 'KAVA3S/USDT', 'EGG/USDT', 'LEMO/USDT', 'OOE/USDT', 'LINK3L/USDT', 'STRAX/USDT', 'CFI/ETH', 'PERI/USDT', 'YAM/USDT', 'FILDA/ETH', 'BDP/ETH', 'DODO/USDT', 'COFI/ETH', 'SUKU/BTC', 'ADX/USDT', 'ALPHA3L/USDT', 'FAN/USDT', 'EZ/USDT', 'GRIN/USDT', 'MXC/USDT', 'SLIM/USDT', 'COVER/USDT', 'HGET/ETH', 'DREP/ETH', 'COOK/ETH', 'DPR/USDT', 'CRV/ETH', 'BTM3L/USDT', 'API3/ETH', 'POLK/USDT', 'HOPR/USDT', 'SHFT/ETH', 'SMT/ETH', 'ULU/USDT', 'INV/USDT', 'RUNE3L/USDT', 'XRP3L/USDT', 'LAYER/USDT', 'STBU/ETH', 'PLAY/USDT', 'DAO/USDT', 'EPS/USDT', 'LOCG/ETH', 'MOFI/USDT', 'AMP/ETH', 'MBOX/USDT', 'NULS/ETH', 'SOL3S/USDT', 'CORE/ETH', 'DEXE/USDT', 'INK/USDT', 'NSURE/USDT', 'PUSH/ETH', 'Bitcoin File/USDT', 'ALEPH/ETH', 'SUTER/USDT', 'HAPI/USDT', 'LEDU/ETH', 'BNTY/USDT', 'CTK/ETH', 'IDV/USDT', 'HORD/USDT', 'SUPER/USDT', 'OCTO/USDT', 'SRK/ETH', 'CDT/ETH', 'HERO/ETH', 'ALGO3S/USDT', 'ARMOR/ETH', 'FROG/ETH', 'BXH/USDT', 'FLOW/USDT', 'RARI/USDT', 'BTM/ETH', 'ARGON/ETH', 'EDG/ETH', 'SC/ETH', 'YGG/ETH', 'SLNV2/USDT', 'HT/USDT', 'Beyond Finance/USDT', 'GDT/USDT', 'SKILL/USDT', 'BANK/USDT', 'NBAI/ETH', 'TRX3L/USDT', 'ICP/USDT', 'EXRD/USDT', 'HC/ETH', 'PICKLE/ETH', 'ARGON/USDT', 'YGG/USDT', 'XRP5L/USDT', 'REP/ETH', 'STN/USDT', 'TLM/ETH', 'LTC5S/USDT', 'FIO/ETH', 'MTL3S/USDT', 'BCH3L/USDT', 'BZRX/USDT', 'SNT/BTC', 'PERP/ETH', 'AIOZ/USDT', 'UPP/ETH', 'TPT/ETH', 'BEPRO/USDT', 'NEO/USDT', 'MLN/USDT', 'MOVR/USDT', 'UMA/USDT', 'THETA/ETH', 'SPA/ETH', 'XPR/USDT', 'SWOP/ETH', 'ETC3L/USDT', 'ERG/ETH', 'Bitcoin File/BTC', 'Trinity Network Credit/USDT', 'KEEP/ETH', 'BONDED/USDT', 'YOP/USDT', 'QKC/BTC', 'KAR/USDT', 'VTHO/ETH', 'COFI/USDT', 'CRBN/ETH', 'SAITO/USDT', 'NMT/ETH', 'GRIN/BTC', 'WOZX/ETH', 'STRAX/ETH', '10SET/USDT', 'LUNA3L/USDT', 'MOMA/USDT', 'BURP/ETH', 'JNT/USDT', 'STRONG/USDT', 'LRC3L/USDT', 'PAY/USDT', 'PKF/ETH', 'SHIP/ETH', 'ESS/USDT', 'DFL/USDT', 'BTF/BTC', 'YAM/ETH', 'VIDY/ETH', 'QSP/ETH', 'CQT/USDT', 'RED/USDT', 'BRY/USDT', 'STAR/ETH', 'STPT/USDT', 'ROSE3L/USDT', 'DPET/ETH', 'BTO/ETH', 'PNK/USDT', 'YFX/USDT', 'IDV/ETH', 'STRONG/ETH', 'BIFIF/USDT', 'SAND3S/USDT', 'RUFF/USDT', 'GT/USDT', 'TFUEL/ETH', 'NFTB/ETH', 'ROOBEE/USDT', 'SOUL/ETH', 'OCEAN/USDT', 'BSV/USDT', 'SRK/USDT', 'GHST/USDT', 'CELR/USDT', 'LINA/USDT', 'SAND/USDT', 'ILV/USDT', 'Rai Reflex Index/ETH', 'ADA/USDT', 'BNB3S/USDT', 'TNT/USDT', 'BIRD/USDT', 'SWAP/ETH', 'SUSHI3S/USDT', 'LOON/ETH', 'FRONT/USDT', 'IOTX/ETH', 'DODO/ETH', 'QTUM3L/USDT', 'UNI3L/USDT', 'POLC/ETH', 'TMT/ETH', 'HORD/ETH', 'FUSE/USDT', 'CRT/USDT', 'DFYN/USDT', 'WGRT/USDT', 'MDX/ETH', 'NMR/ETH', 'NUX/ETH', '1INCH3L/USDT', 'DKA/USDT', 'FREE/USDT', 'XMR3S/USDT', 'SCRT/USDT', 'YFII3S/USDT', 'QUICK/ETH', 'BMON/ETH', 'PUSH/USDT', 'QI/USDT', 'BSV5S/USDT', 'RAD/USDT', 'NAS/BTC', 'SLRS/USDT', 'WXT/USDT', 'CNNS/ETH', 'WEMIX/USDT', 'BCH/BTC', 'PI/USDT', 'C98/BTC', 'HBAR/USDT', 'DBC/BTC', 'ZPT/ETH', 'WOM/ETH', 'ARES/USDT', 'DOG/ETH', 'VSP/ETH', 'SUSHI/USDT', 'BDP/USDT', 'ETH/BTC', 'BSV3S/USDT', 'UDO/USDT', 'MXC/ETH', 'DASH3S/USDT', 'WIN/USDT', 'OAX/USDT', 'DSD/USDT', 'ALPHR/USDT'])\n",
      "==================================================\n"
     ]
    }
   ],
   "source": [
    "for e in ALL_EXCHANGES:\n",
    "    describe_exchange_data(e)"
   ]
  },
  {
   "cell_type": "markdown",
   "id": "6e75135d",
   "metadata": {},
   "source": [
    "### Checking data availability at coinbase"
   ]
  },
  {
   "cell_type": "code",
   "execution_count": 130,
   "id": "3d523ad9",
   "metadata": {},
   "outputs": [],
   "source": [
    "coinbase = log_into_exchange(\"coinbase\")"
   ]
  },
  {
   "cell_type": "code",
   "execution_count": 131,
   "id": "cff32524",
   "metadata": {},
   "outputs": [
    {
     "data": {
      "text/plain": [
       "{'loadMarkets': True,\n",
       " 'cancelAllOrders': False,\n",
       " 'cancelOrder': False,\n",
       " 'cancelOrders': False,\n",
       " 'CORS': True,\n",
       " 'createDepositAddress': True,\n",
       " 'createLimitOrder': True,\n",
       " 'createMarketOrder': True,\n",
       " 'createOrder': False,\n",
       " 'deposit': False,\n",
       " 'editOrder': 'emulated',\n",
       " 'fetchBalance': True,\n",
       " 'fetchClosedOrders': False,\n",
       " 'fetchCurrencies': True,\n",
       " 'fetchDepositAddress': False,\n",
       " 'fetchDeposits': True,\n",
       " 'fetchL2OrderBook': False,\n",
       " 'fetchLedger': True,\n",
       " 'fetchMarkets': True,\n",
       " 'fetchMyTrades': False,\n",
       " 'fetchOHLCV': False,\n",
       " 'fetchOpenOrders': False,\n",
       " 'fetchOrder': False,\n",
       " 'fetchOrderBook': False,\n",
       " 'fetchOrderBooks': False,\n",
       " 'fetchOrders': False,\n",
       " 'fetchOrderTrades': False,\n",
       " 'fetchStatus': 'emulated',\n",
       " 'fetchTicker': True,\n",
       " 'fetchTickers': False,\n",
       " 'fetchTime': True,\n",
       " 'fetchTrades': False,\n",
       " 'fetchTradingFee': False,\n",
       " 'fetchTradingFees': False,\n",
       " 'fetchFundingFee': False,\n",
       " 'fetchFundingFees': False,\n",
       " 'fetchTradingLimits': False,\n",
       " 'fetchTransactions': False,\n",
       " 'fetchWithdrawals': True,\n",
       " 'privateAPI': True,\n",
       " 'publicAPI': True,\n",
       " 'signIn': False,\n",
       " 'withdraw': False,\n",
       " 'fetchBidsAsks': False,\n",
       " 'fetchMySells': True,\n",
       " 'fetchMyBuys': True}"
      ]
     },
     "execution_count": 131,
     "metadata": {},
     "output_type": "execute_result"
    }
   ],
   "source": [
    "coinbase.has"
   ]
  },
  {
   "cell_type": "markdown",
   "id": "62d43bd5",
   "metadata": {},
   "source": [
    "`coinbase` exchange does not provide any kind of historical data (neither on OHLCV nor on trading orders), and it seems that its API allows only for trading."
   ]
  },
  {
   "cell_type": "markdown",
   "id": "0c78c943",
   "metadata": {},
   "source": [
    "## Loading OHLCV data"
   ]
  },
  {
   "cell_type": "markdown",
   "id": "7ad863cf",
   "metadata": {},
   "source": [
    "### Binance"
   ]
  },
  {
   "cell_type": "markdown",
   "id": "763e09a5",
   "metadata": {},
   "source": [
    "Binance data is being loaded correctly with specified functions."
   ]
  },
  {
   "cell_type": "code",
   "execution_count": 9,
   "id": "745ee13e",
   "metadata": {
    "scrolled": true
   },
   "outputs": [
    {
     "name": "stdout",
     "output_type": "stream",
     "text": [
      "Fetched 500 candles\n",
      "From 2018-01-01T00:00:00.000Z to 2018-01-01T08:19:00.000Z\n",
      "Fetched 500 candles in total\n",
      "Fetched 500 candles\n",
      "From 2018-01-01T08:20:00.000Z to 2018-01-01T16:39:00.000Z\n",
      "Fetched 1000 candles in total\n",
      "Fetched 500 candles\n",
      "From 2018-01-01T16:40:00.000Z to 2018-01-02T00:59:00.000Z\n",
      "Fetched 1500 candles in total\n",
      "Fetched 500 candles\n",
      "From 2018-01-02T01:00:00.000Z to 2018-01-02T09:19:00.000Z\n",
      "Fetched 2000 candles in total\n",
      "Fetched 500 candles\n",
      "From 2018-01-02T09:20:00.000Z to 2018-01-02T17:39:00.000Z\n",
      "Fetched 2500 candles in total\n",
      "Fetched 500 candles\n",
      "From 2018-01-02T17:40:00.000Z to 2018-01-03T01:59:00.000Z\n",
      "Fetched 3000 candles in total\n",
      "Fetched 500 candles\n",
      "From 2018-01-03T02:00:00.000Z to 2018-01-03T10:19:00.000Z\n",
      "Fetched 3500 candles in total\n",
      "Fetched 500 candles\n",
      "From 2018-01-03T10:20:00.000Z to 2018-01-03T18:39:00.000Z\n",
      "Fetched 4000 candles in total\n",
      "Fetched 500 candles\n",
      "From 2018-01-03T18:40:00.000Z to 2018-01-04T02:59:00.000Z\n",
      "Fetched 4500 candles in total\n",
      "Fetched 375 candles\n",
      "From 2018-01-04T03:00:00.000Z to 2018-01-04T11:19:00.000Z\n",
      "Fetched 4875 candles in total\n",
      "Fetched 500 candles\n",
      "From 2018-01-04T11:20:00.000Z to 2018-01-04T19:39:00.000Z\n",
      "Fetched 5375 candles in total\n",
      "Fetched 500 candles\n",
      "From 2018-01-04T19:40:00.000Z to 2018-01-05T03:59:00.000Z\n",
      "Fetched 5875 candles in total\n",
      "Fetched 500 candles\n",
      "From 2018-01-05T04:00:00.000Z to 2018-01-05T12:19:00.000Z\n",
      "Fetched 6375 candles in total\n",
      "Fetched 500 candles\n",
      "From 2018-01-05T12:20:00.000Z to 2018-01-05T20:39:00.000Z\n",
      "Fetched 6875 candles in total\n",
      "Fetched 500 candles\n",
      "From 2018-01-05T20:40:00.000Z to 2018-01-06T04:59:00.000Z\n",
      "Fetched 7375 candles in total\n",
      "Fetched 500 candles\n",
      "From 2018-01-06T05:00:00.000Z to 2018-01-06T13:19:00.000Z\n",
      "Fetched 7875 candles in total\n",
      "Fetched 500 candles\n",
      "From 2018-01-06T13:20:00.000Z to 2018-01-06T21:39:00.000Z\n",
      "Fetched 8375 candles in total\n",
      "Fetched 500 candles\n",
      "From 2018-01-06T21:40:00.000Z to 2018-01-07T05:59:00.000Z\n",
      "Fetched 8875 candles in total\n",
      "Fetched 500 candles\n",
      "From 2018-01-07T06:00:00.000Z to 2018-01-07T14:19:00.000Z\n",
      "Fetched 9375 candles in total\n",
      "Fetched 500 candles\n",
      "From 2018-01-07T14:20:00.000Z to 2018-01-07T22:39:00.000Z\n",
      "Fetched 9875 candles in total\n",
      "Fetched 500 candles\n",
      "From 2018-01-07T22:40:00.000Z to 2018-01-08T06:59:00.000Z\n",
      "Fetched 10375 candles in total\n",
      "Fetched 500 candles\n",
      "From 2018-01-08T07:00:00.000Z to 2018-01-08T15:19:00.000Z\n",
      "Fetched 10875 candles in total\n",
      "Fetched 500 candles\n",
      "From 2018-01-08T15:20:00.000Z to 2018-01-08T23:39:00.000Z\n",
      "Fetched 11375 candles in total\n",
      "Fetched 500 candles\n",
      "From 2018-01-08T23:40:00.000Z to 2018-01-09T07:59:00.000Z\n",
      "Fetched 11875 candles in total\n",
      "Fetched 500 candles\n",
      "From 2018-01-09T08:00:00.000Z to 2018-01-09T16:19:00.000Z\n",
      "Fetched 12375 candles in total\n",
      "Fetched 500 candles\n",
      "From 2018-01-09T16:20:00.000Z to 2018-01-10T00:39:00.000Z\n",
      "Fetched 12875 candles in total\n",
      "Fetched 500 candles\n",
      "From 2018-01-10T00:40:00.000Z to 2018-01-10T08:59:00.000Z\n",
      "Fetched 13375 candles in total\n",
      "Fetched 500 candles\n",
      "From 2018-01-10T09:00:00.000Z to 2018-01-10T17:19:00.000Z\n",
      "Fetched 13875 candles in total\n",
      "Fetched 500 candles\n",
      "From 2018-01-10T17:20:00.000Z to 2018-01-11T01:39:00.000Z\n",
      "Fetched 14375 candles in total\n",
      "Fetched 500 candles\n",
      "From 2018-01-11T01:40:00.000Z to 2018-01-11T09:59:00.000Z\n",
      "Fetched 14875 candles in total\n",
      "Fetched 500 candles\n",
      "From 2018-01-11T10:00:00.000Z to 2018-01-11T18:19:00.000Z\n",
      "Fetched 15375 candles in total\n",
      "Fetched 500 candles\n",
      "From 2018-01-11T18:20:00.000Z to 2018-01-12T02:39:00.000Z\n",
      "Fetched 15875 candles in total\n",
      "Fetched 500 candles\n",
      "From 2018-01-12T02:40:00.000Z to 2018-01-12T10:59:00.000Z\n",
      "Fetched 16375 candles in total\n",
      "Fetched 500 candles\n",
      "From 2018-01-12T11:00:00.000Z to 2018-01-12T19:19:00.000Z\n",
      "Fetched 16875 candles in total\n",
      "Fetched 500 candles\n",
      "From 2018-01-12T19:20:00.000Z to 2018-01-13T03:39:00.000Z\n",
      "Fetched 17375 candles in total\n",
      "Fetched 500 candles\n",
      "From 2018-01-13T03:40:00.000Z to 2018-01-13T11:59:00.000Z\n",
      "Fetched 17875 candles in total\n",
      "Fetched 500 candles\n",
      "From 2018-01-13T12:00:00.000Z to 2018-01-13T20:19:00.000Z\n",
      "Fetched 18375 candles in total\n",
      "Fetched 500 candles\n",
      "From 2018-01-13T20:20:00.000Z to 2018-01-14T04:39:00.000Z\n",
      "Fetched 18875 candles in total\n",
      "Fetched 500 candles\n",
      "From 2018-01-14T04:40:00.000Z to 2018-01-14T12:59:00.000Z\n",
      "Fetched 19375 candles in total\n",
      "Fetched 500 candles\n",
      "From 2018-01-14T13:00:00.000Z to 2018-01-14T21:19:00.000Z\n",
      "Fetched 19875 candles in total\n",
      "Fetched 500 candles\n",
      "From 2018-01-14T21:20:00.000Z to 2018-01-15T05:39:00.000Z\n",
      "Fetched 20375 candles in total\n",
      "Fetched 500 candles\n",
      "From 2018-01-15T05:40:00.000Z to 2018-01-15T13:59:00.000Z\n",
      "Fetched 20875 candles in total\n",
      "Fetched 500 candles\n",
      "From 2018-01-15T14:00:00.000Z to 2018-01-15T22:19:00.000Z\n",
      "Fetched 21375 candles in total\n",
      "Fetched 500 candles\n",
      "From 2018-01-15T22:20:00.000Z to 2018-01-16T06:39:00.000Z\n",
      "Fetched 21875 candles in total\n",
      "Fetched 500 candles\n",
      "From 2018-01-16T06:40:00.000Z to 2018-01-16T14:59:00.000Z\n",
      "Fetched 22375 candles in total\n",
      "Fetched 500 candles\n",
      "From 2018-01-16T15:00:00.000Z to 2018-01-16T23:19:00.000Z\n",
      "Fetched 22875 candles in total\n",
      "Fetched 500 candles\n",
      "From 2018-01-16T23:20:00.000Z to 2018-01-17T07:39:00.000Z\n",
      "Fetched 23375 candles in total\n",
      "Fetched 500 candles\n",
      "From 2018-01-17T07:40:00.000Z to 2018-01-17T15:59:00.000Z\n",
      "Fetched 23875 candles in total\n",
      "Fetched 500 candles\n",
      "From 2018-01-17T16:00:00.000Z to 2018-01-18T00:19:00.000Z\n",
      "Fetched 24375 candles in total\n",
      "Fetched 500 candles\n",
      "From 2018-01-18T00:20:00.000Z to 2018-01-18T08:39:00.000Z\n",
      "Fetched 24875 candles in total\n",
      "Fetched 500 candles\n",
      "From 2018-01-18T08:40:00.000Z to 2018-01-18T16:59:00.000Z\n",
      "Fetched 25375 candles in total\n",
      "Fetched 500 candles\n",
      "From 2018-01-18T17:00:00.000Z to 2018-01-19T01:19:00.000Z\n",
      "Fetched 25875 candles in total\n",
      "Fetched 500 candles\n",
      "From 2018-01-19T01:20:00.000Z to 2018-01-19T09:39:00.000Z\n",
      "Fetched 26375 candles in total\n",
      "Fetched 500 candles\n",
      "From 2018-01-19T09:40:00.000Z to 2018-01-19T17:59:00.000Z\n",
      "Fetched 26875 candles in total\n",
      "Fetched 500 candles\n",
      "From 2018-01-19T18:00:00.000Z to 2018-01-20T02:19:00.000Z\n",
      "Fetched 27375 candles in total\n",
      "Fetched 500 candles\n",
      "From 2018-01-20T02:20:00.000Z to 2018-01-20T10:39:00.000Z\n",
      "Fetched 27875 candles in total\n",
      "Fetched 500 candles\n",
      "From 2018-01-20T10:40:00.000Z to 2018-01-20T18:59:00.000Z\n",
      "Fetched 28375 candles in total\n",
      "Fetched 500 candles\n",
      "From 2018-01-20T19:00:00.000Z to 2018-01-21T03:19:00.000Z\n",
      "Fetched 28875 candles in total\n",
      "Fetched 500 candles\n",
      "From 2018-01-21T03:20:00.000Z to 2018-01-21T11:39:00.000Z\n",
      "Fetched 29375 candles in total\n",
      "Fetched 500 candles\n",
      "From 2018-01-21T11:40:00.000Z to 2018-01-21T19:59:00.000Z\n",
      "Fetched 29875 candles in total\n",
      "Fetched 500 candles\n",
      "From 2018-01-21T20:00:00.000Z to 2018-01-22T04:19:00.000Z\n",
      "Fetched 30375 candles in total\n",
      "Fetched 500 candles\n",
      "From 2018-01-22T04:20:00.000Z to 2018-01-22T12:39:00.000Z\n",
      "Fetched 30875 candles in total\n",
      "Fetched 500 candles\n",
      "From 2018-01-22T12:40:00.000Z to 2018-01-22T20:59:00.000Z\n",
      "Fetched 31375 candles in total\n",
      "Fetched 500 candles\n",
      "From 2018-01-22T21:00:00.000Z to 2018-01-23T05:19:00.000Z\n",
      "Fetched 31875 candles in total\n",
      "Fetched 500 candles\n",
      "From 2018-01-23T05:20:00.000Z to 2018-01-23T13:39:00.000Z\n",
      "Fetched 32375 candles in total\n",
      "Fetched 500 candles\n",
      "From 2018-01-23T13:40:00.000Z to 2018-01-23T21:59:00.000Z\n",
      "Fetched 32875 candles in total\n",
      "Fetched 500 candles\n",
      "From 2018-01-23T22:00:00.000Z to 2018-01-24T06:19:00.000Z\n",
      "Fetched 33375 candles in total\n",
      "Fetched 500 candles\n",
      "From 2018-01-24T06:20:00.000Z to 2018-01-24T14:39:00.000Z\n",
      "Fetched 33875 candles in total\n",
      "Fetched 500 candles\n",
      "From 2018-01-24T14:40:00.000Z to 2018-01-24T22:59:00.000Z\n",
      "Fetched 34375 candles in total\n",
      "Fetched 500 candles\n",
      "From 2018-01-24T23:00:00.000Z to 2018-01-25T07:19:00.000Z\n",
      "Fetched 34875 candles in total\n",
      "Fetched 500 candles\n",
      "From 2018-01-25T07:20:00.000Z to 2018-01-25T15:39:00.000Z\n",
      "Fetched 35375 candles in total\n",
      "Fetched 500 candles\n",
      "From 2018-01-25T15:40:00.000Z to 2018-01-25T23:59:00.000Z\n",
      "Fetched 35875 candles in total\n",
      "Fetched 500 candles\n",
      "From 2018-01-26T00:00:00.000Z to 2018-01-26T08:19:00.000Z\n",
      "Fetched 36375 candles in total\n",
      "Fetched 500 candles\n",
      "From 2018-01-26T08:20:00.000Z to 2018-01-26T16:39:00.000Z\n",
      "Fetched 36875 candles in total\n",
      "Fetched 500 candles\n",
      "From 2018-01-26T16:40:00.000Z to 2018-01-27T00:59:00.000Z\n",
      "Fetched 37375 candles in total\n",
      "Fetched 500 candles\n",
      "From 2018-01-27T01:00:00.000Z to 2018-01-27T09:19:00.000Z\n",
      "Fetched 37875 candles in total\n"
     ]
    },
    {
     "name": "stdout",
     "output_type": "stream",
     "text": [
      "Fetched 500 candles\n",
      "From 2018-01-27T09:20:00.000Z to 2018-01-27T17:39:00.000Z\n",
      "Fetched 38375 candles in total\n",
      "Fetched 500 candles\n",
      "From 2018-01-27T17:40:00.000Z to 2018-01-28T01:59:00.000Z\n",
      "Fetched 38875 candles in total\n",
      "Fetched 500 candles\n",
      "From 2018-01-28T02:00:00.000Z to 2018-01-28T10:19:00.000Z\n",
      "Fetched 39375 candles in total\n",
      "Fetched 500 candles\n",
      "From 2018-01-28T10:20:00.000Z to 2018-01-28T18:39:00.000Z\n",
      "Fetched 39875 candles in total\n",
      "Fetched 500 candles\n",
      "From 2018-01-28T18:40:00.000Z to 2018-01-29T02:59:00.000Z\n",
      "Fetched 40375 candles in total\n",
      "Fetched 500 candles\n",
      "From 2018-01-29T03:00:00.000Z to 2018-01-29T11:19:00.000Z\n",
      "Fetched 40875 candles in total\n",
      "Fetched 500 candles\n",
      "From 2018-01-29T11:20:00.000Z to 2018-01-29T19:39:00.000Z\n",
      "Fetched 41375 candles in total\n",
      "Fetched 500 candles\n",
      "From 2018-01-29T19:40:00.000Z to 2018-01-30T03:59:00.000Z\n",
      "Fetched 41875 candles in total\n",
      "Fetched 500 candles\n",
      "From 2018-01-30T04:00:00.000Z to 2018-01-30T12:19:00.000Z\n",
      "Fetched 42375 candles in total\n",
      "Fetched 500 candles\n",
      "From 2018-01-30T12:20:00.000Z to 2018-01-30T20:39:00.000Z\n",
      "Fetched 42875 candles in total\n",
      "Fetched 500 candles\n",
      "From 2018-01-30T20:40:00.000Z to 2018-01-31T04:59:00.000Z\n",
      "Fetched 43375 candles in total\n",
      "Fetched 500 candles\n",
      "From 2018-01-31T05:00:00.000Z to 2018-01-31T13:19:00.000Z\n",
      "Fetched 43875 candles in total\n",
      "Fetched 500 candles\n",
      "From 2018-01-31T13:20:00.000Z to 2018-01-31T21:39:00.000Z\n",
      "Fetched 44375 candles in total\n",
      "Fetched 500 candles\n",
      "From 2018-01-31T21:40:00.000Z to 2018-02-01T05:59:00.000Z\n",
      "Fetched 44875 candles in total\n"
     ]
    }
   ],
   "source": [
    "binance_data = download_ohlcv_data(\n",
    "    \"binance\", \"2018-01-01T00:00:00Z\", \"2018-02-01T00:00:00Z\", \"BTC/USDT\"\n",
    ")"
   ]
  },
  {
   "cell_type": "markdown",
   "id": "d3be9c68",
   "metadata": {},
   "source": [
    "### Huobi"
   ]
  },
  {
   "cell_type": "markdown",
   "id": "6ef0dac6",
   "metadata": {},
   "source": [
    "For Huobi we see that the data is starting to be loaded from incorrect and a very recent time period that does not belong to the specified time range."
   ]
  },
  {
   "cell_type": "code",
   "execution_count": 133,
   "id": "c4169b0d",
   "metadata": {
    "scrolled": true
   },
   "outputs": [
    {
     "name": "stdout",
     "output_type": "stream",
     "text": [
      "Fetched 500 candles\n",
      "From 2021-09-03T05:31:00.000Z to 2021-09-03T13:50:00.000Z\n",
      "Fetched 500 candles in total\n",
      "Fetched 500 candles\n",
      "From 2021-09-03T05:31:00.000Z to 2021-09-03T13:50:00.000Z\n",
      "Fetched 1000 candles in total\n",
      "Fetched 500 candles\n",
      "From 2021-09-03T05:32:00.000Z to 2021-09-03T13:51:00.000Z\n",
      "Fetched 1500 candles in total\n"
     ]
    },
    {
     "ename": "KeyboardInterrupt",
     "evalue": "",
     "output_type": "error",
     "traceback": [
      "\u001b[0;31m---------------------------------------------------------------------------\u001b[0m",
      "\u001b[0;31mKeyboardInterrupt\u001b[0m                         Traceback (most recent call last)",
      "\u001b[0;32m/tmp/ipykernel_74/343730319.py\u001b[0m in \u001b[0;36m<module>\u001b[0;34m\u001b[0m\n\u001b[0;32m----> 1\u001b[0;31m huobi_data = download_ohlcv_data(\"huobi\",\n\u001b[0m\u001b[1;32m      2\u001b[0m                                   \u001b[0;34m\"2021-01-01T00:00:00Z\"\u001b[0m\u001b[0;34m,\u001b[0m\u001b[0;34m\u001b[0m\u001b[0;34m\u001b[0m\u001b[0m\n\u001b[1;32m      3\u001b[0m                                   \u001b[0;34m\"2021-02-01T00:00:00Z\"\u001b[0m\u001b[0;34m,\u001b[0m\u001b[0;34m\u001b[0m\u001b[0;34m\u001b[0m\u001b[0m\n\u001b[1;32m      4\u001b[0m                                   \"BTC/USDT\")\n",
      "\u001b[0;32m/tmp/ipykernel_74/3454738206.py\u001b[0m in \u001b[0;36mdownload_ohlcv_data\u001b[0;34m(exchange_id, start_date, end_date, curr_symbol, timeframe, step, sleep_time)\u001b[0m\n\u001b[1;32m     55\u001b[0m         \u001b[0mtotal_length\u001b[0m \u001b[0;34m=\u001b[0m \u001b[0mlen\u001b[0m\u001b[0;34m(\u001b[0m\u001b[0mall_candles\u001b[0m\u001b[0;34m)\u001b[0m\u001b[0;34m\u001b[0m\u001b[0;34m\u001b[0m\u001b[0m\n\u001b[1;32m     56\u001b[0m         \u001b[0mprint\u001b[0m\u001b[0;34m(\u001b[0m\u001b[0;34m'Fetched'\u001b[0m\u001b[0;34m,\u001b[0m \u001b[0mtotal_length\u001b[0m\u001b[0;34m,\u001b[0m \u001b[0;34m'candles in total'\u001b[0m\u001b[0;34m)\u001b[0m\u001b[0;34m\u001b[0m\u001b[0;34m\u001b[0m\u001b[0m\n\u001b[0;32m---> 57\u001b[0;31m         \u001b[0mtime\u001b[0m\u001b[0;34m.\u001b[0m\u001b[0msleep\u001b[0m\u001b[0;34m(\u001b[0m\u001b[0msleep_time\u001b[0m\u001b[0;34m)\u001b[0m\u001b[0;34m\u001b[0m\u001b[0;34m\u001b[0m\u001b[0m\n\u001b[0m\u001b[1;32m     58\u001b[0m     \u001b[0;32mreturn\u001b[0m \u001b[0mall_candles\u001b[0m\u001b[0;34m\u001b[0m\u001b[0;34m\u001b[0m\u001b[0m\n\u001b[1;32m     59\u001b[0m \u001b[0;34m\u001b[0m\u001b[0m\n",
      "\u001b[0;31mKeyboardInterrupt\u001b[0m: "
     ]
    }
   ],
   "source": [
    "huobi_data = download_ohlcv_data(\n",
    "    \"huobi\", \"2021-01-01T00:00:00Z\", \"2021-02-01T00:00:00Z\", \"BTC/USDT\"\n",
    ")"
   ]
  },
  {
   "cell_type": "markdown",
   "id": "8ae6a7d1",
   "metadata": {},
   "source": [
    "The reason behind it is that Huobi outputs candles in reverced order.<br>\n",
    "To demonstrate it let's run `fetch_ohlcv()` for Huobi with differnt limits."
   ]
  },
  {
   "cell_type": "code",
   "execution_count": 48,
   "id": "1d29547e",
   "metadata": {},
   "outputs": [],
   "source": [
    "huobi_exchange = log_into_exchange(\"huobi\")\n",
    "start_date = huobi_exchange.parse8601(\"2021-01-01T00:00:00Z\")\n",
    "limit1 = 500\n",
    "limit2 = 1000\n",
    "limit3 = 2000"
   ]
  },
  {
   "cell_type": "code",
   "execution_count": 49,
   "id": "6bd2da51",
   "metadata": {},
   "outputs": [],
   "source": [
    "huobi_all_data1 = huobi_exchange.fetch_ohlcv(\"BTC/USDT\", \"1m\", start_date, limit1)\n",
    "huobi_all_data2 = huobi_exchange.fetch_ohlcv(\"BTC/USDT\", \"1m\", start_date, limit2)\n",
    "huobi_all_data3 = huobi_exchange.fetch_ohlcv(\"BTC/USDT\", \"1m\", start_date, limit3)"
   ]
  },
  {
   "cell_type": "markdown",
   "id": "e7c57766",
   "metadata": {},
   "source": [
    "The amount of loaded candles is equal to the specified limit, so the data is available."
   ]
  },
  {
   "cell_type": "code",
   "execution_count": 50,
   "id": "bd394714",
   "metadata": {},
   "outputs": [
    {
     "name": "stdout",
     "output_type": "stream",
     "text": [
      "500\n",
      "1000\n",
      "2000\n"
     ]
    }
   ],
   "source": [
    "print(len(huobi_all_data1))\n",
    "print(len(huobi_all_data2))\n",
    "print(len(huobi_all_data3))"
   ]
  },
  {
   "cell_type": "markdown",
   "id": "7e14ba45",
   "metadata": {},
   "source": [
    "However, if we take a look at the timestamps of the first and the last candles, we see that the last candle is always the most recent one while the first one is equal to the most recent candle's timestamp munis the rime range specified in the request."
   ]
  },
  {
   "cell_type": "code",
   "execution_count": 41,
   "id": "836306c3",
   "metadata": {},
   "outputs": [
    {
     "name": "stdout",
     "output_type": "stream",
     "text": [
      "2021-09-03T04:11:00.000Z\n",
      "2021-09-02T19:51:00.000Z\n",
      "2021-09-02T03:11:00.000Z\n"
     ]
    }
   ],
   "source": [
    "huobi_first_candle_date1 = huobi_exchange.iso8601(huobi_all_data1[0][0])\n",
    "print(huobi_first_candle_date1)\n",
    "#\n",
    "huobi_first_candle_date2 = huobi_exchange.iso8601(huobi_all_data2[0][0])\n",
    "print(huobi_first_candle_date2)\n",
    "#\n",
    "huobi_first_candle_date3 = huobi_exchange.iso8601(huobi_all_data3[0][0])\n",
    "print(huobi_first_candle_date3)"
   ]
  },
  {
   "cell_type": "code",
   "execution_count": 42,
   "id": "9ab972b6",
   "metadata": {},
   "outputs": [
    {
     "name": "stdout",
     "output_type": "stream",
     "text": [
      "2021-09-03T12:30:00.000Z\n",
      "2021-09-03T12:30:00.000Z\n",
      "2021-09-03T12:30:00.000Z\n"
     ]
    }
   ],
   "source": [
    "huobi_last_candle_date1 = huobi_exchange.iso8601(huobi_all_data1[-1][0])\n",
    "print(huobi_last_candle_date1)\n",
    "#\n",
    "huobi_last_candle_date2 = huobi_exchange.iso8601(huobi_all_data2[-1][0])\n",
    "print(huobi_last_candle_date2)\n",
    "#\n",
    "huobi_last_candle_date3 = huobi_exchange.iso8601(huobi_all_data3[-1][0])\n",
    "print(huobi_last_candle_date3)"
   ]
  },
  {
   "cell_type": "markdown",
   "id": "32f1b575",
   "metadata": {},
   "source": [
    "This is confirmed by calculation of steps between the last and first candles timestamps"
   ]
  },
  {
   "cell_type": "code",
   "execution_count": 60,
   "id": "3bd1c41b",
   "metadata": {},
   "outputs": [
    {
     "name": "stdout",
     "output_type": "stream",
     "text": [
      "500.0\n",
      "1000.0\n",
      "2000.0\n"
     ]
    }
   ],
   "source": [
    "print((huobi_all_data1[-1][0] - huobi_all_data1[0][0]) / 60 / 1000 + 1)\n",
    "print((huobi_all_data2[-1][0] - huobi_all_data2[0][0]) / 60 / 1000 + 1)\n",
    "print((huobi_all_data3[-1][0] - huobi_all_data3[0][0]) / 60 / 1000 + 1)"
   ]
  },
  {
   "cell_type": "markdown",
   "id": "73656927",
   "metadata": {},
   "source": [
    "Therefore, it seems that Huobi data can be loaded, but additional research is needed to understand, how to do it correctly and it definitely needs a 'personal' approach."
   ]
  },
  {
   "cell_type": "markdown",
   "id": "8f4efd40",
   "metadata": {},
   "source": [
    "### FTX"
   ]
  },
  {
   "cell_type": "markdown",
   "id": "ac6829bc",
   "metadata": {
    "scrolled": true
   },
   "source": [
    "FTX data is being loaded correctly, we have it starting from 2020-03-28 14:40:00"
   ]
  },
  {
   "cell_type": "code",
   "execution_count": 76,
   "id": "377c79f0",
   "metadata": {
    "scrolled": true
   },
   "outputs": [
    {
     "name": "stdout",
     "output_type": "stream",
     "text": [
      "Fetched 0 candles\n",
      "Fetched 0 candles in total\n",
      "Fetched 121 candles\n",
      "From 2020-03-28T14:40:00.000Z to 2020-03-28T16:40:00.000Z\n",
      "Fetched 121 candles in total\n",
      "Fetched 500 candles\n",
      "From 2020-03-28T16:40:00.000Z to 2020-03-29T00:59:00.000Z\n",
      "Fetched 621 candles in total\n",
      "Fetched 500 candles\n",
      "From 2020-03-29T01:00:00.000Z to 2020-03-29T09:19:00.000Z\n",
      "Fetched 1121 candles in total\n",
      "Fetched 500 candles\n",
      "From 2020-03-29T09:20:00.000Z to 2020-03-29T17:39:00.000Z\n",
      "Fetched 1621 candles in total\n",
      "Fetched 500 candles\n",
      "From 2020-03-29T17:40:00.000Z to 2020-03-30T01:59:00.000Z\n",
      "Fetched 2121 candles in total\n",
      "Fetched 500 candles\n",
      "From 2020-03-30T02:00:00.000Z to 2020-03-30T10:19:00.000Z\n",
      "Fetched 2621 candles in total\n",
      "Fetched 500 candles\n",
      "From 2020-03-30T10:20:00.000Z to 2020-03-30T18:39:00.000Z\n",
      "Fetched 3121 candles in total\n",
      "Fetched 500 candles\n",
      "From 2020-03-30T18:40:00.000Z to 2020-03-31T02:59:00.000Z\n",
      "Fetched 3621 candles in total\n",
      "Fetched 500 candles\n",
      "From 2020-03-31T03:00:00.000Z to 2020-03-31T11:19:00.000Z\n",
      "Fetched 4121 candles in total\n",
      "Fetched 500 candles\n",
      "From 2020-03-31T11:20:00.000Z to 2020-03-31T19:39:00.000Z\n",
      "Fetched 4621 candles in total\n",
      "Fetched 500 candles\n",
      "From 2020-03-31T19:40:00.000Z to 2020-04-01T03:59:00.000Z\n",
      "Fetched 5121 candles in total\n"
     ]
    }
   ],
   "source": [
    "ftx_data = download_ohlcv_data(\n",
    "    \"ftx\", \"2020-03-28T00:00:00Z\", \"2020-04-01T00:00:00Z\", \"BTC/USDT\"\n",
    ")"
   ]
  },
  {
   "cell_type": "markdown",
   "id": "4f43e612",
   "metadata": {},
   "source": [
    "### Kucoin"
   ]
  },
  {
   "cell_type": "markdown",
   "id": "d1cde64c",
   "metadata": {},
   "source": [
    "Kucoin data is being loaded correctly as well."
   ]
  },
  {
   "cell_type": "code",
   "execution_count": 134,
   "id": "07aaf156",
   "metadata": {
    "scrolled": true
   },
   "outputs": [
    {
     "name": "stdout",
     "output_type": "stream",
     "text": [
      "Fetched 500 candles\n",
      "From 2021-01-01T00:00:00.000Z to 2021-01-01T08:19:00.000Z\n",
      "Fetched 500 candles in total\n",
      "Fetched 500 candles\n",
      "From 2021-01-01T08:20:00.000Z to 2021-01-01T16:39:00.000Z\n",
      "Fetched 1000 candles in total\n",
      "Fetched 500 candles\n",
      "From 2021-01-01T16:40:00.000Z to 2021-01-02T00:59:00.000Z\n",
      "Fetched 1500 candles in total\n",
      "Fetched 500 candles\n",
      "From 2021-01-02T01:00:00.000Z to 2021-01-02T09:19:00.000Z\n",
      "Fetched 2000 candles in total\n",
      "Fetched 500 candles\n",
      "From 2021-01-02T09:20:00.000Z to 2021-01-02T17:39:00.000Z\n",
      "Fetched 2500 candles in total\n",
      "Fetched 500 candles\n",
      "From 2021-01-02T17:40:00.000Z to 2021-01-03T01:59:00.000Z\n",
      "Fetched 3000 candles in total\n",
      "Fetched 500 candles\n",
      "From 2021-01-03T02:00:00.000Z to 2021-01-03T10:19:00.000Z\n",
      "Fetched 3500 candles in total\n",
      "Fetched 500 candles\n",
      "From 2021-01-03T10:20:00.000Z to 2021-01-03T18:39:00.000Z\n",
      "Fetched 4000 candles in total\n",
      "Fetched 500 candles\n",
      "From 2021-01-03T18:40:00.000Z to 2021-01-04T02:59:00.000Z\n",
      "Fetched 4500 candles in total\n"
     ]
    }
   ],
   "source": [
    "kucoin_data2021 = download_ohlcv_data(\n",
    "    \"kucoin\", \"2021-01-01T00:00:00Z\", \"2021-01-04T00:00:00Z\", \"BTC/USDT\"\n",
    ")"
   ]
  },
  {
   "cell_type": "markdown",
   "id": "ffde384c",
   "metadata": {},
   "source": [
    "However, the amount of candles for earlier periods is unstable and timestamps are slipping. Additional research is required to understand if the data is really missing or its some sort of a bug."
   ]
  },
  {
   "cell_type": "code",
   "execution_count": 135,
   "id": "d895f937",
   "metadata": {
    "scrolled": true
   },
   "outputs": [
    {
     "name": "stdout",
     "output_type": "stream",
     "text": [
      "Fetched 95 candles\n",
      "From 2018-01-01T00:03:00.000Z to 2018-01-01T08:18:00.000Z\n",
      "Fetched 95 candles in total\n",
      "Fetched 98 candles\n",
      "From 2018-01-01T08:27:00.000Z to 2018-01-01T16:34:00.000Z\n",
      "Fetched 193 candles in total\n",
      "Fetched 123 candles\n",
      "From 2018-01-01T16:41:00.000Z to 2018-01-02T00:59:00.000Z\n",
      "Fetched 316 candles in total\n",
      "Fetched 184 candles\n",
      "From 2018-01-02T01:00:00.000Z to 2018-01-02T09:18:00.000Z\n",
      "Fetched 500 candles in total\n",
      "Fetched 157 candles\n",
      "From 2018-01-02T09:21:00.000Z to 2018-01-02T17:39:00.000Z\n",
      "Fetched 657 candles in total\n",
      "Fetched 252 candles\n",
      "From 2018-01-02T17:40:00.000Z to 2018-01-03T01:56:00.000Z\n",
      "Fetched 909 candles in total\n",
      "Fetched 168 candles\n",
      "From 2018-01-03T02:07:00.000Z to 2018-01-03T10:16:00.000Z\n",
      "Fetched 1077 candles in total\n",
      "Fetched 139 candles\n",
      "From 2018-01-03T10:21:00.000Z to 2018-01-03T18:38:00.000Z\n",
      "Fetched 1216 candles in total\n",
      "Fetched 241 candles\n",
      "From 2018-01-03T18:40:00.000Z to 2018-01-04T02:57:00.000Z\n",
      "Fetched 1457 candles in total\n"
     ]
    }
   ],
   "source": [
    "kucoin_data2018 = download_ohlcv_data(\n",
    "    \"kucoin\", \"2018-01-01T00:00:00Z\", \"2018-01-04T00:00:00Z\", \"BTC/USDT\"\n",
    ")"
   ]
  },
  {
   "cell_type": "markdown",
   "id": "386640a6",
   "metadata": {},
   "source": [
    "### Bitfinex"
   ]
  },
  {
   "cell_type": "markdown",
   "id": "a2fc7783",
   "metadata": {},
   "source": [
    "The Bitfinex candles are being loaded with overlapping time periods."
   ]
  },
  {
   "cell_type": "code",
   "execution_count": 94,
   "id": "8c718a71",
   "metadata": {
    "scrolled": true
   },
   "outputs": [
    {
     "name": "stdout",
     "output_type": "stream",
     "text": [
      "Fetched 500 candles\n",
      "From 2020-01-01T00:00:00.000Z to 2020-01-02T17:14:00.000Z\n",
      "Fetched 500 candles in total\n",
      "Fetched 500 candles\n",
      "From 2020-01-01T08:21:00.000Z to 2020-01-02T20:22:00.000Z\n",
      "Fetched 1000 candles in total\n",
      "Fetched 500 candles\n",
      "From 2020-01-01T16:55:00.000Z to 2020-01-03T01:13:00.000Z\n",
      "Fetched 1500 candles in total\n",
      "Fetched 500 candles\n",
      "From 2020-01-02T01:07:00.000Z to 2020-01-03T04:40:00.000Z\n",
      "Fetched 2000 candles in total\n",
      "Fetched 500 candles\n",
      "From 2020-01-02T09:25:00.000Z to 2020-01-03T08:44:00.000Z\n",
      "Fetched 2500 candles in total\n"
     ]
    },
    {
     "ename": "KeyboardInterrupt",
     "evalue": "",
     "output_type": "error",
     "traceback": [
      "\u001b[0;31m---------------------------------------------------------------------------\u001b[0m",
      "\u001b[0;31mKeyboardInterrupt\u001b[0m                         Traceback (most recent call last)",
      "\u001b[0;32m/tmp/ipykernel_74/3035446893.py\u001b[0m in \u001b[0;36m<module>\u001b[0;34m\u001b[0m\n\u001b[0;32m----> 1\u001b[0;31m bitfinex_data = download_ohlcv_data(\"bitfinex\",\n\u001b[0m\u001b[1;32m      2\u001b[0m                                   \u001b[0;34m\"2020-01-01T00:00:00Z\"\u001b[0m\u001b[0;34m,\u001b[0m\u001b[0;34m\u001b[0m\u001b[0;34m\u001b[0m\u001b[0m\n\u001b[1;32m      3\u001b[0m                                   \u001b[0;34m\"2020-02-01T00:00:00Z\"\u001b[0m\u001b[0;34m,\u001b[0m\u001b[0;34m\u001b[0m\u001b[0;34m\u001b[0m\u001b[0m\n\u001b[1;32m      4\u001b[0m                                   \"BTC/USDT\")\n",
      "\u001b[0;32m/tmp/ipykernel_74/2307265792.py\u001b[0m in \u001b[0;36mdownload_ohlcv_data\u001b[0;34m(exchange_id, start_date, end_date, curr_symbol, timeframe, step, sleep_time)\u001b[0m\n\u001b[1;32m     40\u001b[0m         \u001b[0mtotal_length\u001b[0m \u001b[0;34m=\u001b[0m \u001b[0mlen\u001b[0m\u001b[0;34m(\u001b[0m\u001b[0mall_candles\u001b[0m\u001b[0;34m)\u001b[0m\u001b[0;34m\u001b[0m\u001b[0;34m\u001b[0m\u001b[0m\n\u001b[1;32m     41\u001b[0m         \u001b[0mprint\u001b[0m\u001b[0;34m(\u001b[0m\u001b[0;34m'Fetched'\u001b[0m\u001b[0;34m,\u001b[0m \u001b[0mtotal_length\u001b[0m\u001b[0;34m,\u001b[0m \u001b[0;34m'candles in total'\u001b[0m\u001b[0;34m)\u001b[0m\u001b[0;34m\u001b[0m\u001b[0;34m\u001b[0m\u001b[0m\n\u001b[0;32m---> 42\u001b[0;31m         \u001b[0mtime\u001b[0m\u001b[0;34m.\u001b[0m\u001b[0msleep\u001b[0m\u001b[0;34m(\u001b[0m\u001b[0msleep_time\u001b[0m\u001b[0;34m)\u001b[0m\u001b[0;34m\u001b[0m\u001b[0;34m\u001b[0m\u001b[0m\n\u001b[0m\u001b[1;32m     43\u001b[0m     \u001b[0;32mreturn\u001b[0m \u001b[0mall_candles\u001b[0m\u001b[0;34m\u001b[0m\u001b[0;34m\u001b[0m\u001b[0m\n\u001b[1;32m     44\u001b[0m \u001b[0;34m\u001b[0m\u001b[0m\n",
      "\u001b[0;31mKeyboardInterrupt\u001b[0m: "
     ]
    }
   ],
   "source": [
    "bitfinex_data = download_ohlcv_data(\n",
    "    \"bitfinex\", \"2020-01-01T00:00:00Z\", \"2020-02-01T00:00:00Z\", \"BTC/USDT\"\n",
    ")"
   ]
  },
  {
   "cell_type": "markdown",
   "id": "cdb73447",
   "metadata": {},
   "source": [
    "To research this let's check the amount of minute steps between the last candle timestamp and the first one."
   ]
  },
  {
   "cell_type": "code",
   "execution_count": 88,
   "id": "879ead2c",
   "metadata": {},
   "outputs": [],
   "source": [
    "bitfinex_exchange = log_into_exchange(\"bitfinex\")\n",
    "start_date = bitfinex_exchange.parse8601(\"2021-01-01T00:00:00Z\")\n",
    "limit1 = 500\n",
    "limit2 = 1000\n",
    "limit3 = 2000"
   ]
  },
  {
   "cell_type": "code",
   "execution_count": 89,
   "id": "e926b19a",
   "metadata": {},
   "outputs": [],
   "source": [
    "bitfinex_all_data1 = bitfinex_exchange.fetch_ohlcv(\n",
    "    \"BTC/USDT\", \"1m\", start_date, limit1\n",
    ")\n",
    "bitfinex_all_data2 = bitfinex_exchange.fetch_ohlcv(\n",
    "    \"BTC/USDT\", \"1m\", start_date, limit2\n",
    ")\n",
    "bitfinex_all_data3 = bitfinex_exchange.fetch_ohlcv(\n",
    "    \"BTC/USDT\", \"1m\", start_date, limit3\n",
    ")"
   ]
  },
  {
   "cell_type": "code",
   "execution_count": 90,
   "id": "e783ddb0",
   "metadata": {},
   "outputs": [
    {
     "name": "stdout",
     "output_type": "stream",
     "text": [
      "500\n",
      "1000\n",
      "2000\n"
     ]
    }
   ],
   "source": [
    "print(len(bitfinex_all_data1))\n",
    "print(len(bitfinex_all_data2))\n",
    "print(len(bitfinex_all_data3))"
   ]
  },
  {
   "cell_type": "code",
   "execution_count": 91,
   "id": "caca128f",
   "metadata": {},
   "outputs": [
    {
     "name": "stdout",
     "output_type": "stream",
     "text": [
      "2021-01-01T00:00:00.000Z\n",
      "2021-01-01T00:00:00.000Z\n",
      "2021-01-01T00:00:00.000Z\n"
     ]
    }
   ],
   "source": [
    "bitfinex_first_candle_date1 = bitfinex_exchange.iso8601(bitfinex_all_data1[0][0])\n",
    "print(bitfinex_first_candle_date1)\n",
    "#\n",
    "bitfinex_first_candle_date2 = bitfinex_exchange.iso8601(bitfinex_all_data2[0][0])\n",
    "print(bitfinex_first_candle_date2)\n",
    "#\n",
    "bitfinex_first_candle_date3 = bitfinex_exchange.iso8601(bitfinex_all_data3[0][0])\n",
    "print(bitfinex_first_candle_date3)"
   ]
  },
  {
   "cell_type": "code",
   "execution_count": 92,
   "id": "44353e7e",
   "metadata": {},
   "outputs": [
    {
     "name": "stdout",
     "output_type": "stream",
     "text": [
      "2021-01-01T11:07:00.000Z\n",
      "2021-01-01T22:29:00.000Z\n",
      "2021-01-02T20:00:00.000Z\n"
     ]
    }
   ],
   "source": [
    "bitfinex_last_candle_date1 = bitfinex_exchange.iso8601(bitfinex_all_data1[-1][0])\n",
    "print(bitfinex_last_candle_date1)\n",
    "#\n",
    "bitfinex_last_candle_date2 = bitfinex_exchange.iso8601(bitfinex_all_data2[-1][0])\n",
    "print(bitfinex_last_candle_date2)\n",
    "#\n",
    "bitfinex_last_candle_date3 = bitfinex_exchange.iso8601(bitfinex_all_data3[-1][0])\n",
    "print(bitfinex_last_candle_date3)"
   ]
  },
  {
   "cell_type": "markdown",
   "id": "5b4baf28",
   "metadata": {},
   "source": [
    "Turns out that the amount of minute steps betweent the last and the firt candles is higher than the specified limits. One possible reason is that Bitfinex has gaps in its data. However, if this is true, why the behaviour for Kucoin was correct since there is a clear gap in data for it in 2018?\n",
    "Thus, this should be researched."
   ]
  },
  {
   "cell_type": "code",
   "execution_count": 93,
   "id": "3a490c3a",
   "metadata": {},
   "outputs": [
    {
     "name": "stdout",
     "output_type": "stream",
     "text": [
      "668.0\n",
      "1350.0\n",
      "2641.0\n"
     ]
    }
   ],
   "source": [
    "print((bitfinex_all_data1[-1][0] - bitfinex_all_data1[0][0]) / 60 / 1000 + 1)\n",
    "print((bitfinex_all_data2[-1][0] - bitfinex_all_data2[0][0]) / 60 / 1000 + 1)\n",
    "print((bitfinex_all_data3[-1][0] - bitfinex_all_data3[0][0]) / 60 / 1000 + 1)"
   ]
  },
  {
   "cell_type": "markdown",
   "id": "9749ba4f",
   "metadata": {},
   "source": [
    "Still, we see that Bitfinex has data and it is more than possible to extract it. Here we wanted to develop a unified approach for loading data from different exchanges. If this doesn't work for Bitfinex, there is and example guide in CCXT library https://github.com/ccxt/ccxt/blob/master/examples/py/fetch-bitfinex-ohlcv-history.py that we can use to develop a 'personal' approach to this exchange. So we're good here."
   ]
  },
  {
   "cell_type": "markdown",
   "id": "cc637d9a",
   "metadata": {},
   "source": [
    "### Gateio"
   ]
  },
  {
   "cell_type": "markdown",
   "id": "b1fdc513",
   "metadata": {},
   "source": [
    "Gateio data is being loaded correctly, we have it starting from 2021-06-05 13:33:00"
   ]
  },
  {
   "cell_type": "code",
   "execution_count": 136,
   "id": "df5ccda6",
   "metadata": {
    "scrolled": true
   },
   "outputs": [
    {
     "name": "stdout",
     "output_type": "stream",
     "text": [
      "Fetched 0 candles\n",
      "Fetched 0 candles in total\n",
      "Fetched 168 candles\n",
      "From 2021-06-05T13:52:00.000Z to 2021-06-05T16:39:00.000Z\n",
      "Fetched 168 candles in total\n",
      "Fetched 500 candles\n",
      "From 2021-06-05T16:40:00.000Z to 2021-06-06T00:59:00.000Z\n",
      "Fetched 668 candles in total\n",
      "Fetched 500 candles\n",
      "From 2021-06-06T01:00:00.000Z to 2021-06-06T09:19:00.000Z\n",
      "Fetched 1168 candles in total\n",
      "Fetched 500 candles\n",
      "From 2021-06-06T09:20:00.000Z to 2021-06-06T17:39:00.000Z\n",
      "Fetched 1668 candles in total\n",
      "Fetched 500 candles\n",
      "From 2021-06-06T17:40:00.000Z to 2021-06-07T01:59:00.000Z\n",
      "Fetched 2168 candles in total\n",
      "Fetched 500 candles\n",
      "From 2021-06-07T02:00:00.000Z to 2021-06-07T10:19:00.000Z\n",
      "Fetched 2668 candles in total\n",
      "Fetched 500 candles\n",
      "From 2021-06-07T10:20:00.000Z to 2021-06-07T18:39:00.000Z\n",
      "Fetched 3168 candles in total\n",
      "Fetched 500 candles\n",
      "From 2021-06-07T18:40:00.000Z to 2021-06-08T02:59:00.000Z\n",
      "Fetched 3668 candles in total\n",
      "Fetched 500 candles\n",
      "From 2021-06-08T03:00:00.000Z to 2021-06-08T11:19:00.000Z\n",
      "Fetched 4168 candles in total\n",
      "Fetched 500 candles\n",
      "From 2021-06-08T11:20:00.000Z to 2021-06-08T19:39:00.000Z\n",
      "Fetched 4668 candles in total\n",
      "Fetched 500 candles\n",
      "From 2021-06-08T19:40:00.000Z to 2021-06-09T03:59:00.000Z\n",
      "Fetched 5168 candles in total\n",
      "Fetched 500 candles\n",
      "From 2021-06-09T04:00:00.000Z to 2021-06-09T12:19:00.000Z\n",
      "Fetched 5668 candles in total\n",
      "Fetched 500 candles\n",
      "From 2021-06-09T12:20:00.000Z to 2021-06-09T20:39:00.000Z\n",
      "Fetched 6168 candles in total\n",
      "Fetched 500 candles\n",
      "From 2021-06-09T20:40:00.000Z to 2021-06-10T04:59:00.000Z\n",
      "Fetched 6668 candles in total\n"
     ]
    }
   ],
   "source": [
    "gateio_data = download_ohlcv_data(\n",
    "    \"gateio\", \"2021-06-05T00:00:00Z\", \"2021-06-10T00:00:00Z\", \"BTC/USDT\"\n",
    ")"
   ]
  },
  {
   "cell_type": "markdown",
   "id": "1f154ab6",
   "metadata": {},
   "source": [
    "### Kraken"
   ]
  },
  {
   "cell_type": "markdown",
   "id": "5e6c2882",
   "metadata": {},
   "source": [
    "Kraken provides only 720 of candles into the past for any selected time step. (see https://github.com/ccxt/ccxt/issues/8091#issuecomment-739600165)<br>\n",
    "We can track its data further on but there is no way to get its historical data further than that."
   ]
  },
  {
   "cell_type": "code",
   "execution_count": 123,
   "id": "bf00f92c",
   "metadata": {},
   "outputs": [],
   "source": [
    "kraken_exchange = log_into_exchange(\"kraken\")\n",
    "start_date = kraken_exchange.parse8601(\"2020-01-01T00:00:00Z\")\n",
    "kraken_all_data = kraken_exchange.fetch_ohlcv(\"BTC/USDT\", \"1m\", start_date, 1000)"
   ]
  },
  {
   "cell_type": "code",
   "execution_count": 124,
   "id": "4ce77164",
   "metadata": {},
   "outputs": [
    {
     "data": {
      "text/plain": [
       "720"
      ]
     },
     "execution_count": 124,
     "metadata": {},
     "output_type": "execute_result"
    }
   ],
   "source": [
    "len(kraken_all_data)"
   ]
  },
  {
   "cell_type": "markdown",
   "id": "198408d0",
   "metadata": {},
   "source": [
    "The first and the last candles timstamps are being updated all the time, no matter which start date you specify in the query."
   ]
  },
  {
   "cell_type": "code",
   "execution_count": 125,
   "id": "2b561275",
   "metadata": {},
   "outputs": [
    {
     "data": {
      "text/plain": [
       "'2021-09-03T01:39:00.000Z'"
      ]
     },
     "execution_count": 125,
     "metadata": {},
     "output_type": "execute_result"
    }
   ],
   "source": [
    "kraken_first_candle_date = kraken_exchange.iso8601(kraken_all_data[0][0])\n",
    "kraken_first_candle_date"
   ]
  },
  {
   "cell_type": "code",
   "execution_count": 126,
   "id": "be47b7ca",
   "metadata": {},
   "outputs": [
    {
     "data": {
      "text/plain": [
       "'2021-09-03T13:38:00.000Z'"
      ]
     },
     "execution_count": 126,
     "metadata": {},
     "output_type": "execute_result"
    }
   ],
   "source": [
    "kraken_last_candle_date = kraken_exchange.iso8601(kraken_all_data[-1][0])\n",
    "kraken_last_candle_date"
   ]
  },
  {
   "cell_type": "markdown",
   "id": "d038b433",
   "metadata": {},
   "source": [
    "## Summary"
   ]
  },
  {
   "cell_type": "markdown",
   "id": "3267470c",
   "metadata": {},
   "source": [
    "- We can apply sort of a unified approach to load all the historical data for Binance, FTX, Kucoin, and Gateio. Although, Kucoin case should be investigated a bit more in order to confirm that there is no bug.\n",
    "- Huobi and Bitfinex seem to have the data to provide but they require a 'personal' approaches that need to be developed.\n",
    "- Kraken provides only 720 last candles for a specified time step. We may decide to track it from acertain moment or just forget about it in terms of historical data.\n",
    "- Coinbase exchange does not provide any kind of historical data."
   ]
  },
  {
   "cell_type": "code",
   "execution_count": null,
   "id": "678ed2d6",
   "metadata": {},
   "outputs": [],
   "source": []
  }
 ],
 "metadata": {
  "jupytext": {
   "formats": "ipynb,py:percent"
  },
  "kernelspec": {
   "display_name": "Python 3 (ipykernel)",
   "language": "python",
   "name": "python3"
  },
  "language_info": {
   "codemirror_mode": {
    "name": "ipython",
    "version": 3
   },
   "file_extension": ".py",
   "mimetype": "text/x-python",
   "name": "python",
   "nbconvert_exporter": "python",
   "pygments_lexer": "ipython3",
   "version": "3.8.10"
  },
  "toc": {
   "base_numbering": 1,
   "nav_menu": {},
   "number_sections": true,
   "sideBar": true,
   "skip_h1_title": false,
   "title_cell": "Table of Contents",
   "title_sidebar": "Contents",
   "toc_cell": false,
   "toc_position": {},
   "toc_section_display": true,
   "toc_window_display": false
  }
 },
 "nbformat": 4,
 "nbformat_minor": 5
}
