{
 "cells": [
  {
   "cell_type": "code",
   "execution_count": null,
   "id": "2f11778c-dd2f-4356-8ef7-4b087912a7e2",
   "metadata": {
    "scrolled": true
   },
   "outputs": [],
   "source": [
    "pip install kazoo"
   ]
  },
  {
   "cell_type": "markdown",
   "id": "a3f6c48b-c6e1-4b98-8ccf-619675732e0c",
   "metadata": {},
   "source": [
    "## ZooKeeperLock Class:\n",
    "   - `__init__`: Initializes the class with ZooKeeper connection details, lock name, logger, and timeout.\n",
    "   - `create_lock`: Creates a lock node in ZooKeeper.\n",
    "   - `acquire`: Acquires the lock, optionally blocking until the lock is acquired.\n",
    "   - `release`: Releases the lock.\n",
    "   - `__del__`: Destructor to destroy the lock.\n",
    "   - `destroy_lock`: Destroys the lock by stopping and closing the ZooKeeper client connection."
   ]
  },
  {
   "cell_type": "code",
   "execution_count": 5,
   "id": "c5663f2e-dcf2-4020-904d-7a6998998ffa",
   "metadata": {},
   "outputs": [],
   "source": [
    "import logging\n",
    "import os\n",
    "import time\n",
    "from kazoo.client import KazooClient\n",
    "from kazoo.recipe.lock import Lock\n",
    "\n",
    "class ZooKeeperLock:  # Initializes the ZooKeeperLock class.\n",
    "    def __init__(self, hosts, lock_name, logger=None, timeout=1):\n",
    "        self.hosts = hosts\n",
    "        self.timeout = timeout\n",
    "        self.zk_client = KazooClient(hosts=self.hosts, logger=logger, timeout=self.timeout)\n",
    "        self.lock_name = lock_name\n",
    "        self.lock_handle = None\n",
    "        self.logger = logger or logging.getLogger(__name__)\n",
    "\n",
    "    def create_lock(self):  # Creates a lock node in ZooKeeper.\n",
    "        try:\n",
    "            self.zk_client.start(timeout=self.timeout)\n",
    "            lock_path = os.path.join(\"/\", \"locks\", self.lock_name)\n",
    "            self.lock_handle = Lock(self.zk_client, lock_path)\n",
    "        except Exception as ex:\n",
    "            self.logger.error(\"Failed to create lock: %s\", ex)\n",
    "            raise\n",
    "\n",
    "    def acquire(self, blocking=True, timeout=None): # Acquires the lock.\n",
    "        if self.lock_handle is None:\n",
    "            return False\n",
    "        try:\n",
    "            return self.lock_handle.acquire(blocking=blocking, timeout=timeout)\n",
    "        except Exception as ex:\n",
    "            self.logger.error(\"Failed to acquire lock: %s\", ex)\n",
    "            return False\n",
    "\n",
    "    def release(self):  # Releases the lock.\n",
    "        if self.lock_handle is None:\n",
    "            return False\n",
    "        try:\n",
    "            self.lock_handle.release()\n",
    "            return True\n",
    "        except Exception as ex:\n",
    "            self.logger.error(\"Failed to release lock: %s\", ex)\n",
    "            return False\n",
    "\n",
    "    def __del__(self):  # Destructor to destroy the lock.\n",
    "        self.destroy_lock()\n",
    "\n",
    "    def destroy_lock(self):  # Destroys the lock by stopping and closing the ZooKeeper client connection.\n",
    "        if self.zk_client is not None:\n",
    "            self.zk_client.stop()\n",
    "            self.zk_client.close()\n"
   ]
  },
  {
   "cell_type": "code",
   "execution_count": 6,
   "id": "709abf4d-eace-4b84-a8e5-e8434071e670",
   "metadata": {},
   "outputs": [],
   "source": [
    "zookeeper_hosts = 'zookeeper1:2181,zookeeper2:2181,zookeeper3:2181'"
   ]
  },
  {
   "cell_type": "markdown",
   "id": "c5985cee-8e56-4d20-8f99-acd49e66d3f2",
   "metadata": {},
   "source": [
    "## Simulated Work\n",
    "\n",
    "\n",
    "1. **Lock Initialization**: A lock named \"test\" is initialized for the ZooKeeper cluster.\n",
    "2. **Lock Operations**: It tries to create and acquire the lock. If the lock is successfully acquired, it proceeds; if not, it logs a failure message and exits.\n",
    "3. **Simulated Work**: Upon successful lock acquisition, it logs this event and then simulates a task that runs for 10 seconds (counting from 1 to 10 with a one-second pause between counts).\n",
    "4. **Release Lock**: After the task, it releases the lock and logs this event.\n",
    "5. **Exception Handling**: The main function is wrapped in a try-except block to catch and log any exceptions that might occur during execution, which helps in debugging.\n",
    "7. **Run Guard**: The `if __name__ == \"__main__\":` guard ensures that the code in the block runs only if the script is executed directly (not imported as a module). This is useful for scripts intended to be run as standalone programs."
   ]
  },
  {
   "cell_type": "code",
   "execution_count": null,
   "id": "6ccb21e6-cb82-4720-8ac5-e2b46223b05b",
   "metadata": {},
   "outputs": [],
   "source": [
    "def main():\n",
    "    logging.basicConfig(level=logging.INFO, format='%(asctime)s - %(levelname)s - %(message)s')\n",
    "    lock_name = \"test\"\n",
    "    lock = ZooKeeperLock(zookeeper_hosts, lock_name, logger=logging.getLogger())\n",
    "    lock.create_lock()\n",
    "    ret = lock.acquire()\n",
    "    if not ret:\n",
    "        logging.info(\"Failed to acquire lock!\")\n",
    "        return\n",
    "\n",
    "    logging.info(\"Lock acquired! Doing something! Sleeping for 10 seconds.\")\n",
    "    for i in range(1, 11):\n",
    "        time.sleep(1)\n",
    "        print(i)\n",
    "\n",
    "    lock.release()\n",
    "    logging.info(\"Lock released.\")\n",
    "\n",
    "if __name__ == \"__main__\":\n",
    "    try:\n",
    "        main()\n",
    "    except Exception as ex:\n",
    "        print(\"An exception occurred: {}\".format(ex))\n"
   ]
  }
 ],
 "metadata": {
  "kernelspec": {
   "display_name": "Python 3 (ipykernel)",
   "language": "python",
   "name": "python3"
  },
  "language_info": {
   "codemirror_mode": {
    "name": "ipython",
    "version": 3
   },
   "file_extension": ".py",
   "mimetype": "text/x-python",
   "name": "python",
   "nbconvert_exporter": "python",
   "pygments_lexer": "ipython3",
   "version": "3.11.6"
  }
 },
 "nbformat": 4,
 "nbformat_minor": 5
}
