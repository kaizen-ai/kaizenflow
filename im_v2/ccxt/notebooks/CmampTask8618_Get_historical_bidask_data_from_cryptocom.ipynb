{
 "cells": [
  {
   "cell_type": "code",
   "execution_count": 3,
   "id": "d8f66063",
   "metadata": {
    "ExecuteTime": {
     "end_time": "2024-06-17T06:25:20.383170Z",
     "start_time": "2024-06-17T06:25:16.276278Z"
    }
   },
   "outputs": [
    {
     "name": "stdout",
     "output_type": "stream",
     "text": [
      "Requirement already satisfied: pysftp in /venv/lib/python3.9/site-packages (0.2.9)\n",
      "Requirement already satisfied: paramiko>=1.17 in /venv/lib/python3.9/site-packages (from pysftp) (3.4.0)\n",
      "Requirement already satisfied: bcrypt>=3.2 in /venv/lib/python3.9/site-packages (from paramiko>=1.17->pysftp) (4.1.3)\n",
      "Requirement already satisfied: cryptography>=3.3 in /venv/lib/python3.9/site-packages (from paramiko>=1.17->pysftp) (3.4.7)\n",
      "Requirement already satisfied: pynacl>=1.5 in /venv/lib/python3.9/site-packages (from paramiko>=1.17->pysftp) (1.5.0)\n",
      "Requirement already satisfied: cffi>=1.12 in /venv/lib/python3.9/site-packages (from cryptography>=3.3->paramiko>=1.17->pysftp) (1.16.0)\n",
      "Requirement already satisfied: pycparser in /venv/lib/python3.9/site-packages (from cffi>=1.12->cryptography>=3.3->paramiko>=1.17->pysftp) (2.21)\n"
     ]
    }
   ],
   "source": [
    "!sudo /venv/bin/pip install pysftp"
   ]
  },
  {
   "cell_type": "code",
   "execution_count": 43,
   "id": "a834676f",
   "metadata": {
    "ExecuteTime": {
     "end_time": "2024-06-18T01:55:08.589983Z",
     "start_time": "2024-06-18T01:55:08.582358Z"
    }
   },
   "outputs": [],
   "source": [
    "# Importing modules.\n",
    "import gzip\n",
    "import logging\n",
    "import os\n",
    "from io import BytesIO\n",
    "\n",
    "import pandas as pd\n",
    "import pysftp\n",
    "\n",
    "import helpers.haws as haws\n",
    "import helpers.hdbg as hdbg\n",
    "import helpers.henv as henv\n",
    "import helpers.hprint as hprint\n",
    "import helpers.hs3 as hs3"
   ]
  },
  {
   "cell_type": "code",
   "execution_count": 25,
   "id": "19b95e7e",
   "metadata": {
    "ExecuteTime": {
     "end_time": "2024-06-17T16:24:06.610779Z",
     "start_time": "2024-06-17T16:24:06.384783Z"
    }
   },
   "outputs": [
    {
     "name": "stdout",
     "output_type": "stream",
     "text": [
      "\u001b[0m\u001b[33mWARNING\u001b[0m: Logger already initialized: skipping\n",
      "INFO  # Git\n",
      "  branch_name='CmampTask8618_Get_historical_bidask_data_from_cryptocom'\n",
      "  hash='4d9345e9d'\n",
      "  # Last commits:\n",
      "    * 4d9345e9d sonaalKant checkpoint                                                        (  10 hours ago) Mon Jun 17 06:33:55 2024  (HEAD -> CmampTask8618_Get_historical_bidask_data_from_cryptocom, origin/CmampTask8618_Get_historical_bidask_data_from_cryptocom)\n",
      "    * ccab990af Nina Lee CmTask8531_Trading_AirFlow_DAGs_clean_up (#8629)                  (    3 days ago) Fri Jun 14 19:54:13 2024  (origin/master, origin/HEAD)\n",
      "    * c24fda767 Vedanshu Joshi CmTask8440 Update docs for shadow trading DAGs (#8582)            (    3 days ago) Fri Jun 14 18:38:32 2024           \n",
      "# Machine info\n",
      "  system=Linux\n",
      "  node name=905f8b01ec55\n",
      "  release=5.15.0-1056-aws\n",
      "  version=#61~20.04.1-Ubuntu SMP Wed Mar 13 17:40:41 UTC 2024\n",
      "  machine=x86_64\n",
      "  processor=x86_64\n",
      "  cpu count=8\n",
      "  cpu freq=scpufreq(current=2499.998, min=0.0, max=0.0)\n",
      "  memory=svmem(total=33280270336, available=22957608960, percent=31.0, used=9838440448, free=5818880000, active=5452124160, inactive=10025857024, buffers=2001997824, cached=15620952064, shared=2088960, slab=11502321664)\n",
      "  disk usage=sdiskusage(total=218506772480, used=107836424192, free=110653571072, percent=49.4)\n",
      "# Packages\n",
      "  python: 3.9.5\n",
      "  cvxopt: 1.3.2\n",
      "  cvxpy: 1.4.2\n",
      "  gluonnlp: ?\n",
      "  gluonts: ?\n",
      "  joblib: 1.3.2\n",
      "  mxnet: ?\n",
      "  numpy: 1.26.0\n",
      "  pandas: 2.1.1\n",
      "  pyarrow: 15.0.0\n",
      "  scipy: 1.11.3\n",
      "  seaborn: 0.13.0\n",
      "  sklearn: 1.3.1\n",
      "  statsmodels: 0.14.0\n"
     ]
    }
   ],
   "source": [
    "hdbg.init_logger(verbosity=logging.INFO)\n",
    "log_level = logging.INFO\n",
    "\n",
    "_LOG = logging.getLogger(__name__)\n",
    "\n",
    "_LOG.info(\"%s\", henv.get_system_signature()[0])\n",
    "\n",
    "hprint.config_notebook()\n",
    "\n",
    "# Configuration\n",
    "config = {\n",
    "    \"stage\": \"test\",\n",
    "    \"save_path_prefix\": \"sonaal/cryptocom/historical_bid_ask/\",\n",
    "    \"hostname\": \"data.crypto.com\",\n",
    "    \"username\": \"user005\",\n",
    "    \"private_key_path\": \"/app/amp/cryptocom-privatekey.pem\",\n",
    "    # Download config.\n",
    "    \"currency_pair\": \"BTC_USDT\",\n",
    "    \"date\": \"2023-10-01\",\n",
    "}\n",
    "\n",
    "# Disable host key checking\n",
    "cnopts = pysftp.CnOpts()\n",
    "cnopts.hostkeys = None"
   ]
  },
  {
   "cell_type": "code",
   "execution_count": 27,
   "id": "5bff0fe8",
   "metadata": {
    "ExecuteTime": {
     "end_time": "2024-06-17T16:24:07.366736Z",
     "start_time": "2024-06-17T16:24:07.358878Z"
    }
   },
   "outputs": [],
   "source": [
    "def sftp_to_s3(sftp, remote_dir, s3_bucket, s3_prefix):\n",
    "    \"\"\"\n",
    "    Download data from sftp server and upload to S3 bucket.\n",
    "    \"\"\"\n",
    "    for item in sftp.listdir_attr(remote_dir):\n",
    "        remote_path = f\"{remote_dir}/{item.filename}\"\n",
    "        s3_key = f\"{s3_prefix}/{item.filename}\" if s3_prefix else item.filename\n",
    "        with sftp.open(remote_path) as file_obj:\n",
    "            file_data = file_obj.read()\n",
    "            s3_client.upload_fileobj(BytesIO(file_data), s3_bucket, s3_key)\n",
    "            _LOG.info(f\"Uploaded: {remote_path} to s3://{s3_bucket}/{s3_key}\")"
   ]
  },
  {
   "cell_type": "code",
   "execution_count": 77,
   "id": "6165d3c0",
   "metadata": {
    "ExecuteTime": {
     "end_time": "2024-06-18T02:57:36.642548Z",
     "start_time": "2024-06-18T02:57:36.628462Z"
    }
   },
   "outputs": [],
   "source": [
    "def load_data(\n",
    "    s3: boto3.client,\n",
    "    s3_path: str,\n",
    "    s3_bucket: str,\n",
    ") -> list:\n",
    "    \"\"\"\n",
    "    Loads and performs a QA check on files in a specified S3 bucket and path.\n",
    "\n",
    "    This function lists all objects in a given S3 path, downloads each\n",
    "    file, checks for empty files, reads and parses the content of\n",
    "    gzipped JSON files, and collects the data into a list of pandas\n",
    "    DataFrames.\n",
    "\n",
    "    :param s3: an S3 client object from boto3.\n",
    "    :param s3_path: S3 path (prefix) to list and load files from.\n",
    "    :param s3_bucket: name of the S3 bucket.\n",
    "    :return: list of pandas DataFrames containing the data from the\n",
    "        files.\n",
    "    \"\"\"\n",
    "    dataframes = []\n",
    "    # List all objects in the specified S3 bucket and path\n",
    "    files = haws.list_all_objects(s3, s3_bucket, s3_path)\n",
    "    for file in files:\n",
    "        # Check for empty files\n",
    "        if file[\"Size\"] == 0:\n",
    "            _LOG.info(\"Found empty file %s\", file[\"Key\"])\n",
    "            continue\n",
    "        # Download the file from S3 to a local temporary path\n",
    "        local_dst_path = \"tmp.data.gz\"\n",
    "        s3_file_path = file[\"Key\"]\n",
    "        s3.download_file(s3_bucket, s3_file_path, local_dst_path)\n",
    "        # Read and parse the gzipped JSON file\n",
    "        with gzip.open(local_dst_path, \"rt\") as gz_file:\n",
    "            file_content = gz_file.read()\n",
    "            df = pd.read_json(file_content, lines=True)\n",
    "        # Append the DataFrame to the list\n",
    "        dataframes.append(df)\n",
    "    return dataframes"
   ]
  },
  {
   "cell_type": "code",
   "execution_count": 72,
   "id": "0da1db75",
   "metadata": {
    "ExecuteTime": {
     "end_time": "2024-06-18T02:45:30.345557Z",
     "start_time": "2024-06-18T02:45:27.068793Z"
    }
   },
   "outputs": [
    {
     "name": "stdout",
     "output_type": "stream",
     "text": [
      "INFO  Connected (version 2.0, client AWS_SFTP_1.1)\n",
      "INFO  Authentication (publickey) successful!\n",
      "Connection successfully established ...\n"
     ]
    },
    {
     "ename": "KeyboardInterrupt",
     "evalue": "",
     "output_type": "error",
     "traceback": [
      "\u001b[0;31m---------------------------------------------------------------------------\u001b[0m",
      "\u001b[0;31mKeyboardInterrupt\u001b[0m                         Traceback (most recent call last)",
      "Cell \u001b[0;32mIn[72], line 23\u001b[0m\n\u001b[1;32m     21\u001b[0m     \u001b[38;5;28mprint\u001b[39m(\u001b[38;5;124m\"\u001b[39m\u001b[38;5;124mConnection successfully established ...\u001b[39m\u001b[38;5;124m\"\u001b[39m)\n\u001b[1;32m     22\u001b[0m     \u001b[38;5;66;03m# Start the recursive download from the remote root directory\u001b[39;00m\n\u001b[0;32m---> 23\u001b[0m     \u001b[43msftp_to_s3\u001b[49m\u001b[43m(\u001b[49m\u001b[43msftp\u001b[49m\u001b[43m,\u001b[49m\u001b[43m \u001b[49m\u001b[43msftp_data_path\u001b[49m\u001b[43m \u001b[49m\u001b[43m,\u001b[49m\u001b[43m \u001b[49m\u001b[43mbucket_name\u001b[49m\u001b[43m,\u001b[49m\u001b[43m \u001b[49m\u001b[43ms3_save_path\u001b[49m\u001b[43m)\u001b[49m\n\u001b[1;32m     25\u001b[0m \u001b[38;5;28mprint\u001b[39m(\u001b[38;5;124m\"\u001b[39m\u001b[38;5;124mAll files have been downloaded successfully.\u001b[39m\u001b[38;5;124m\"\u001b[39m)\n\u001b[1;32m     27\u001b[0m data \u001b[38;5;241m=\u001b[39m load_data(s3, s3_save_path, bucket_name)\n",
      "Cell \u001b[0;32mIn[27], line 2\u001b[0m, in \u001b[0;36msftp_to_s3\u001b[0;34m(sftp, remote_dir, s3_bucket, s3_prefix)\u001b[0m\n\u001b[1;32m      1\u001b[0m \u001b[38;5;28;01mdef\u001b[39;00m \u001b[38;5;21msftp_to_s3\u001b[39m(sftp, remote_dir, s3_bucket, s3_prefix):\n\u001b[0;32m----> 2\u001b[0m     \u001b[38;5;28;01mfor\u001b[39;00m item \u001b[38;5;129;01min\u001b[39;00m \u001b[43msftp\u001b[49m\u001b[38;5;241;43m.\u001b[39;49m\u001b[43mlistdir_attr\u001b[49m\u001b[43m(\u001b[49m\u001b[43mremote_dir\u001b[49m\u001b[43m)\u001b[49m:\n\u001b[1;32m      3\u001b[0m         remote_path \u001b[38;5;241m=\u001b[39m \u001b[38;5;124mf\u001b[39m\u001b[38;5;124m\"\u001b[39m\u001b[38;5;132;01m{\u001b[39;00mremote_dir\u001b[38;5;132;01m}\u001b[39;00m\u001b[38;5;124m/\u001b[39m\u001b[38;5;132;01m{\u001b[39;00mitem\u001b[38;5;241m.\u001b[39mfilename\u001b[38;5;132;01m}\u001b[39;00m\u001b[38;5;124m\"\u001b[39m\n\u001b[1;32m      4\u001b[0m         s3_key \u001b[38;5;241m=\u001b[39m \u001b[38;5;124mf\u001b[39m\u001b[38;5;124m\"\u001b[39m\u001b[38;5;132;01m{\u001b[39;00ms3_prefix\u001b[38;5;132;01m}\u001b[39;00m\u001b[38;5;124m/\u001b[39m\u001b[38;5;132;01m{\u001b[39;00mitem\u001b[38;5;241m.\u001b[39mfilename\u001b[38;5;132;01m}\u001b[39;00m\u001b[38;5;124m\"\u001b[39m \u001b[38;5;28;01mif\u001b[39;00m s3_prefix \u001b[38;5;28;01melse\u001b[39;00m item\u001b[38;5;241m.\u001b[39mfilename\n",
      "File \u001b[0;32m/venv/lib/python3.9/site-packages/pysftp/__init__.py:609\u001b[0m, in \u001b[0;36mConnection.listdir_attr\u001b[0;34m(self, remotepath)\u001b[0m\n\u001b[1;32m    594\u001b[0m \u001b[38;5;28;01mdef\u001b[39;00m \u001b[38;5;21mlistdir_attr\u001b[39m(\u001b[38;5;28mself\u001b[39m, remotepath\u001b[38;5;241m=\u001b[39m\u001b[38;5;124m'\u001b[39m\u001b[38;5;124m.\u001b[39m\u001b[38;5;124m'\u001b[39m):\n\u001b[1;32m    595\u001b[0m \u001b[38;5;250m    \u001b[39m\u001b[38;5;124;03m\"\"\"return a list of SFTPAttribute objects of the files/directories for\u001b[39;00m\n\u001b[1;32m    596\u001b[0m \u001b[38;5;124;03m    the given remote path. The list is in arbitrary order. It does not\u001b[39;00m\n\u001b[1;32m    597\u001b[0m \u001b[38;5;124;03m    include the special entries '.' and '..'.\u001b[39;00m\n\u001b[0;32m   (...)\u001b[0m\n\u001b[1;32m    607\u001b[0m \n\u001b[1;32m    608\u001b[0m \u001b[38;5;124;03m    \"\"\"\u001b[39;00m\n\u001b[0;32m--> 609\u001b[0m     \u001b[38;5;28;43mself\u001b[39;49m\u001b[38;5;241;43m.\u001b[39;49m\u001b[43m_sftp_connect\u001b[49m\u001b[43m(\u001b[49m\u001b[43m)\u001b[49m\n\u001b[1;32m    610\u001b[0m     \u001b[38;5;28;01mreturn\u001b[39;00m \u001b[38;5;28msorted\u001b[39m(\u001b[38;5;28mself\u001b[39m\u001b[38;5;241m.\u001b[39m_sftp\u001b[38;5;241m.\u001b[39mlistdir_attr(remotepath),\n\u001b[1;32m    611\u001b[0m                   key\u001b[38;5;241m=\u001b[39m\u001b[38;5;28;01mlambda\u001b[39;00m attr: attr\u001b[38;5;241m.\u001b[39mfilename)\n",
      "File \u001b[0;32m/venv/lib/python3.9/site-packages/pysftp/__init__.py:205\u001b[0m, in \u001b[0;36mConnection._sftp_connect\u001b[0;34m(self)\u001b[0m\n\u001b[1;32m    203\u001b[0m \u001b[38;5;250m\u001b[39m\u001b[38;5;124;03m\"\"\"Establish the SFTP connection.\"\"\"\u001b[39;00m\n\u001b[1;32m    204\u001b[0m \u001b[38;5;28;01mif\u001b[39;00m \u001b[38;5;129;01mnot\u001b[39;00m \u001b[38;5;28mself\u001b[39m\u001b[38;5;241m.\u001b[39m_sftp_live:\n\u001b[0;32m--> 205\u001b[0m     \u001b[38;5;28mself\u001b[39m\u001b[38;5;241m.\u001b[39m_sftp \u001b[38;5;241m=\u001b[39m \u001b[43mparamiko\u001b[49m\u001b[38;5;241;43m.\u001b[39;49m\u001b[43mSFTPClient\u001b[49m\u001b[38;5;241;43m.\u001b[39;49m\u001b[43mfrom_transport\u001b[49m\u001b[43m(\u001b[49m\u001b[38;5;28;43mself\u001b[39;49m\u001b[38;5;241;43m.\u001b[39;49m\u001b[43m_transport\u001b[49m\u001b[43m)\u001b[49m\n\u001b[1;32m    206\u001b[0m     \u001b[38;5;28;01mif\u001b[39;00m \u001b[38;5;28mself\u001b[39m\u001b[38;5;241m.\u001b[39m_default_path \u001b[38;5;129;01mis\u001b[39;00m \u001b[38;5;129;01mnot\u001b[39;00m \u001b[38;5;28;01mNone\u001b[39;00m:\n\u001b[1;32m    207\u001b[0m         \u001b[38;5;66;03m# print(\"_default_path: [%s]\" % self._default_path)\u001b[39;00m\n\u001b[1;32m    208\u001b[0m         \u001b[38;5;28mself\u001b[39m\u001b[38;5;241m.\u001b[39m_sftp\u001b[38;5;241m.\u001b[39mchdir(\u001b[38;5;28mself\u001b[39m\u001b[38;5;241m.\u001b[39m_default_path)\n",
      "File \u001b[0;32m/venv/lib/python3.9/site-packages/paramiko/sftp_client.py:164\u001b[0m, in \u001b[0;36mSFTPClient.from_transport\u001b[0;34m(cls, t, window_size, max_packet_size)\u001b[0m\n\u001b[1;32m    140\u001b[0m \u001b[38;5;129m@classmethod\u001b[39m\n\u001b[1;32m    141\u001b[0m \u001b[38;5;28;01mdef\u001b[39;00m \u001b[38;5;21mfrom_transport\u001b[39m(\u001b[38;5;28mcls\u001b[39m, t, window_size\u001b[38;5;241m=\u001b[39m\u001b[38;5;28;01mNone\u001b[39;00m, max_packet_size\u001b[38;5;241m=\u001b[39m\u001b[38;5;28;01mNone\u001b[39;00m):\n\u001b[1;32m    142\u001b[0m \u001b[38;5;250m    \u001b[39m\u001b[38;5;124;03m\"\"\"\u001b[39;00m\n\u001b[1;32m    143\u001b[0m \u001b[38;5;124;03m    Create an SFTP client channel from an open `.Transport`.\u001b[39;00m\n\u001b[1;32m    144\u001b[0m \n\u001b[0;32m   (...)\u001b[0m\n\u001b[1;32m    162\u001b[0m \u001b[38;5;124;03m        Added the ``window_size`` and ``max_packet_size`` arguments.\u001b[39;00m\n\u001b[1;32m    163\u001b[0m \u001b[38;5;124;03m    \"\"\"\u001b[39;00m\n\u001b[0;32m--> 164\u001b[0m     chan \u001b[38;5;241m=\u001b[39m \u001b[43mt\u001b[49m\u001b[38;5;241;43m.\u001b[39;49m\u001b[43mopen_session\u001b[49m\u001b[43m(\u001b[49m\n\u001b[1;32m    165\u001b[0m \u001b[43m        \u001b[49m\u001b[43mwindow_size\u001b[49m\u001b[38;5;241;43m=\u001b[39;49m\u001b[43mwindow_size\u001b[49m\u001b[43m,\u001b[49m\u001b[43m \u001b[49m\u001b[43mmax_packet_size\u001b[49m\u001b[38;5;241;43m=\u001b[39;49m\u001b[43mmax_packet_size\u001b[49m\n\u001b[1;32m    166\u001b[0m \u001b[43m    \u001b[49m\u001b[43m)\u001b[49m\n\u001b[1;32m    167\u001b[0m     \u001b[38;5;28;01mif\u001b[39;00m chan \u001b[38;5;129;01mis\u001b[39;00m \u001b[38;5;28;01mNone\u001b[39;00m:\n\u001b[1;32m    168\u001b[0m         \u001b[38;5;28;01mreturn\u001b[39;00m \u001b[38;5;28;01mNone\u001b[39;00m\n",
      "File \u001b[0;32m/venv/lib/python3.9/site-packages/paramiko/transport.py:959\u001b[0m, in \u001b[0;36mTransport.open_session\u001b[0;34m(self, window_size, max_packet_size, timeout)\u001b[0m\n\u001b[1;32m    931\u001b[0m \u001b[38;5;28;01mdef\u001b[39;00m \u001b[38;5;21mopen_session\u001b[39m(\n\u001b[1;32m    932\u001b[0m     \u001b[38;5;28mself\u001b[39m, window_size\u001b[38;5;241m=\u001b[39m\u001b[38;5;28;01mNone\u001b[39;00m, max_packet_size\u001b[38;5;241m=\u001b[39m\u001b[38;5;28;01mNone\u001b[39;00m, timeout\u001b[38;5;241m=\u001b[39m\u001b[38;5;28;01mNone\u001b[39;00m\n\u001b[1;32m    933\u001b[0m ):\n\u001b[1;32m    934\u001b[0m \u001b[38;5;250m    \u001b[39m\u001b[38;5;124;03m\"\"\"\u001b[39;00m\n\u001b[1;32m    935\u001b[0m \u001b[38;5;124;03m    Request a new channel to the server, of type ``\"session\"``.  This is\u001b[39;00m\n\u001b[1;32m    936\u001b[0m \u001b[38;5;124;03m    just an alias for calling `open_channel` with an argument of\u001b[39;00m\n\u001b[0;32m   (...)\u001b[0m\n\u001b[1;32m    957\u001b[0m \u001b[38;5;124;03m        Added the ``window_size`` and ``max_packet_size`` arguments.\u001b[39;00m\n\u001b[1;32m    958\u001b[0m \u001b[38;5;124;03m    \"\"\"\u001b[39;00m\n\u001b[0;32m--> 959\u001b[0m     \u001b[38;5;28;01mreturn\u001b[39;00m \u001b[38;5;28;43mself\u001b[39;49m\u001b[38;5;241;43m.\u001b[39;49m\u001b[43mopen_channel\u001b[49m\u001b[43m(\u001b[49m\n\u001b[1;32m    960\u001b[0m \u001b[43m        \u001b[49m\u001b[38;5;124;43m\"\u001b[39;49m\u001b[38;5;124;43msession\u001b[39;49m\u001b[38;5;124;43m\"\u001b[39;49m\u001b[43m,\u001b[49m\n\u001b[1;32m    961\u001b[0m \u001b[43m        \u001b[49m\u001b[43mwindow_size\u001b[49m\u001b[38;5;241;43m=\u001b[39;49m\u001b[43mwindow_size\u001b[49m\u001b[43m,\u001b[49m\n\u001b[1;32m    962\u001b[0m \u001b[43m        \u001b[49m\u001b[43mmax_packet_size\u001b[49m\u001b[38;5;241;43m=\u001b[39;49m\u001b[43mmax_packet_size\u001b[49m\u001b[43m,\u001b[49m\n\u001b[1;32m    963\u001b[0m \u001b[43m        \u001b[49m\u001b[43mtimeout\u001b[49m\u001b[38;5;241;43m=\u001b[39;49m\u001b[43mtimeout\u001b[49m\u001b[43m,\u001b[49m\n\u001b[1;32m    964\u001b[0m \u001b[43m    \u001b[49m\u001b[43m)\u001b[49m\n",
      "File \u001b[0;32m/venv/lib/python3.9/site-packages/paramiko/transport.py:1085\u001b[0m, in \u001b[0;36mTransport.open_channel\u001b[0;34m(self, kind, dest_addr, src_addr, window_size, max_packet_size, timeout)\u001b[0m\n\u001b[1;32m   1083\u001b[0m start_ts \u001b[38;5;241m=\u001b[39m time\u001b[38;5;241m.\u001b[39mtime()\n\u001b[1;32m   1084\u001b[0m \u001b[38;5;28;01mwhile\u001b[39;00m \u001b[38;5;28;01mTrue\u001b[39;00m:\n\u001b[0;32m-> 1085\u001b[0m     \u001b[43mevent\u001b[49m\u001b[38;5;241;43m.\u001b[39;49m\u001b[43mwait\u001b[49m\u001b[43m(\u001b[49m\u001b[38;5;241;43m0.1\u001b[39;49m\u001b[43m)\u001b[49m\n\u001b[1;32m   1086\u001b[0m     \u001b[38;5;28;01mif\u001b[39;00m \u001b[38;5;129;01mnot\u001b[39;00m \u001b[38;5;28mself\u001b[39m\u001b[38;5;241m.\u001b[39mactive:\n\u001b[1;32m   1087\u001b[0m         e \u001b[38;5;241m=\u001b[39m \u001b[38;5;28mself\u001b[39m\u001b[38;5;241m.\u001b[39mget_exception()\n",
      "File \u001b[0;32m/usr/lib/python3.9/threading.py:574\u001b[0m, in \u001b[0;36mEvent.wait\u001b[0;34m(self, timeout)\u001b[0m\n\u001b[1;32m    572\u001b[0m signaled \u001b[38;5;241m=\u001b[39m \u001b[38;5;28mself\u001b[39m\u001b[38;5;241m.\u001b[39m_flag\n\u001b[1;32m    573\u001b[0m \u001b[38;5;28;01mif\u001b[39;00m \u001b[38;5;129;01mnot\u001b[39;00m signaled:\n\u001b[0;32m--> 574\u001b[0m     signaled \u001b[38;5;241m=\u001b[39m \u001b[38;5;28;43mself\u001b[39;49m\u001b[38;5;241;43m.\u001b[39;49m\u001b[43m_cond\u001b[49m\u001b[38;5;241;43m.\u001b[39;49m\u001b[43mwait\u001b[49m\u001b[43m(\u001b[49m\u001b[43mtimeout\u001b[49m\u001b[43m)\u001b[49m\n\u001b[1;32m    575\u001b[0m \u001b[38;5;28;01mreturn\u001b[39;00m signaled\n",
      "File \u001b[0;32m/usr/lib/python3.9/threading.py:316\u001b[0m, in \u001b[0;36mCondition.wait\u001b[0;34m(self, timeout)\u001b[0m\n\u001b[1;32m    314\u001b[0m \u001b[38;5;28;01melse\u001b[39;00m:\n\u001b[1;32m    315\u001b[0m     \u001b[38;5;28;01mif\u001b[39;00m timeout \u001b[38;5;241m>\u001b[39m \u001b[38;5;241m0\u001b[39m:\n\u001b[0;32m--> 316\u001b[0m         gotit \u001b[38;5;241m=\u001b[39m \u001b[43mwaiter\u001b[49m\u001b[38;5;241;43m.\u001b[39;49m\u001b[43macquire\u001b[49m\u001b[43m(\u001b[49m\u001b[38;5;28;43;01mTrue\u001b[39;49;00m\u001b[43m,\u001b[49m\u001b[43m \u001b[49m\u001b[43mtimeout\u001b[49m\u001b[43m)\u001b[49m\n\u001b[1;32m    317\u001b[0m     \u001b[38;5;28;01melse\u001b[39;00m:\n\u001b[1;32m    318\u001b[0m         gotit \u001b[38;5;241m=\u001b[39m waiter\u001b[38;5;241m.\u001b[39macquire(\u001b[38;5;28;01mFalse\u001b[39;00m)\n",
      "\u001b[0;31mKeyboardInterrupt\u001b[0m: "
     ]
    }
   ],
   "source": [
    "hostname = config[\"hostname\"]\n",
    "username = config[\"username\"]\n",
    "private_key = config[\"private_key_path\"]\n",
    "\n",
    "s3_client = haws.get_service_client(aws_profile=\"ck\", service_name=\"s3\")\n",
    "bucket_name = hs3.get_s3_bucket_from_stage(stage=config[\"stage\"])\n",
    "prefix = config[\"save_path_prefix\"]\n",
    "\n",
    "currency_pair = config[\"currency_pair\"]\n",
    "date = pd.to_datetime(config[\"date\"])\n",
    "year = date.year\n",
    "month = date.month\n",
    "day = date.day\n",
    "\n",
    "sftp_data_path = (\n",
    "    f\"/exchange/book_l2_150_0010/{year}/{month}/{day}/cdc/{currency_pair}\"\n",
    ")\n",
    "\n",
    "s3_save_path = os.path.join(prefix, currency_pair, config[\"date\"])\n",
    "\n",
    "# Establish the SFTP connection\n",
    "with pysftp.Connection(\n",
    "    hostname, username=username, private_key=private_key_path, cnopts=cnopts\n",
    ") as sftp:\n",
    "    print(\"Connection successfully established ...\")\n",
    "    # Start the recursive download from the remote root directory\n",
    "    sftp_to_s3(sftp, sftp_data_path, bucket_name, s3_save_path)\n",
    "\n",
    "print(\"All files have been downloaded successfully.\")\n",
    "\n",
    "data = load_data(s3, s3_save_path, bucket_name)"
   ]
  },
  {
   "cell_type": "code",
   "execution_count": 78,
   "id": "bad3e5c6",
   "metadata": {
    "ExecuteTime": {
     "end_time": "2024-06-18T02:58:05.950181Z",
     "start_time": "2024-06-18T02:57:42.977569Z"
    }
   },
   "outputs": [
    {
     "name": "stdout",
     "output_type": "stream",
     "text": [
      "sonaal/cryptocom/historical_bid_ask/BTC_USDT/2023-10-01/1696118400003.gz\n"
     ]
    },
    {
     "name": "stderr",
     "output_type": "stream",
     "text": [
      "/tmp/ipykernel_1054/566169817.py:21: FutureWarning: Passing literal json to 'read_json' is deprecated and will be removed in a future version. To read from a literal string, wrap it in a 'StringIO' object.\n",
      "  df = pd.read_json(file_content, lines=True)\n"
     ]
    },
    {
     "name": "stdout",
     "output_type": "stream",
     "text": [
      "sonaal/cryptocom/historical_bid_ask/BTC_USDT/2023-10-01/1696118483737.gz\n"
     ]
    },
    {
     "name": "stderr",
     "output_type": "stream",
     "text": [
      "/tmp/ipykernel_1054/566169817.py:21: FutureWarning: Passing literal json to 'read_json' is deprecated and will be removed in a future version. To read from a literal string, wrap it in a 'StringIO' object.\n",
      "  df = pd.read_json(file_content, lines=True)\n",
      "/tmp/ipykernel_1054/566169817.py:21: FutureWarning: Passing literal json to 'read_json' is deprecated and will be removed in a future version. To read from a literal string, wrap it in a 'StringIO' object.\n",
      "  df = pd.read_json(file_content, lines=True)\n"
     ]
    },
    {
     "name": "stdout",
     "output_type": "stream",
     "text": [
      "sonaal/cryptocom/historical_bid_ask/BTC_USDT/2023-10-01/1696118586375.gz\n",
      "sonaal/cryptocom/historical_bid_ask/BTC_USDT/2023-10-01/1696118663726.gz\n"
     ]
    },
    {
     "name": "stderr",
     "output_type": "stream",
     "text": [
      "/tmp/ipykernel_1054/566169817.py:21: FutureWarning: Passing literal json to 'read_json' is deprecated and will be removed in a future version. To read from a literal string, wrap it in a 'StringIO' object.\n",
      "  df = pd.read_json(file_content, lines=True)\n",
      "/tmp/ipykernel_1054/566169817.py:21: FutureWarning: Passing literal json to 'read_json' is deprecated and will be removed in a future version. To read from a literal string, wrap it in a 'StringIO' object.\n",
      "  df = pd.read_json(file_content, lines=True)\n"
     ]
    },
    {
     "name": "stdout",
     "output_type": "stream",
     "text": [
      "sonaal/cryptocom/historical_bid_ask/BTC_USDT/2023-10-01/1696118741974.gz\n",
      "sonaal/cryptocom/historical_bid_ask/BTC_USDT/2023-10-01/1696118826888.gz\n",
      "sonaal/cryptocom/historical_bid_ask/BTC_USDT/2023-10-01/1696118844019.gz\n"
     ]
    },
    {
     "name": "stderr",
     "output_type": "stream",
     "text": [
      "/tmp/ipykernel_1054/566169817.py:21: FutureWarning: Passing literal json to 'read_json' is deprecated and will be removed in a future version. To read from a literal string, wrap it in a 'StringIO' object.\n",
      "  df = pd.read_json(file_content, lines=True)\n",
      "/tmp/ipykernel_1054/566169817.py:21: FutureWarning: Passing literal json to 'read_json' is deprecated and will be removed in a future version. To read from a literal string, wrap it in a 'StringIO' object.\n",
      "  df = pd.read_json(file_content, lines=True)\n"
     ]
    },
    {
     "name": "stdout",
     "output_type": "stream",
     "text": [
      "sonaal/cryptocom/historical_bid_ask/BTC_USDT/2023-10-01/1696118950529.gz\n"
     ]
    },
    {
     "name": "stderr",
     "output_type": "stream",
     "text": [
      "/tmp/ipykernel_1054/566169817.py:21: FutureWarning: Passing literal json to 'read_json' is deprecated and will be removed in a future version. To read from a literal string, wrap it in a 'StringIO' object.\n",
      "  df = pd.read_json(file_content, lines=True)\n",
      "/tmp/ipykernel_1054/566169817.py:21: FutureWarning: Passing literal json to 'read_json' is deprecated and will be removed in a future version. To read from a literal string, wrap it in a 'StringIO' object.\n",
      "  df = pd.read_json(file_content, lines=True)\n",
      "/tmp/ipykernel_1054/566169817.py:21: FutureWarning: Passing literal json to 'read_json' is deprecated and will be removed in a future version. To read from a literal string, wrap it in a 'StringIO' object.\n",
      "  df = pd.read_json(file_content, lines=True)\n"
     ]
    },
    {
     "name": "stdout",
     "output_type": "stream",
     "text": [
      "sonaal/cryptocom/historical_bid_ask/BTC_USDT/2023-10-01/1696119023792.gz\n",
      "sonaal/cryptocom/historical_bid_ask/BTC_USDT/2023-10-01/1696119118424.gz\n",
      "sonaal/cryptocom/historical_bid_ask/BTC_USDT/2023-10-01/1696119203723.gz\n",
      "sonaal/cryptocom/historical_bid_ask/BTC_USDT/2023-10-01/1696119283662.gz\n"
     ]
    },
    {
     "name": "stderr",
     "output_type": "stream",
     "text": [
      "/tmp/ipykernel_1054/566169817.py:21: FutureWarning: Passing literal json to 'read_json' is deprecated and will be removed in a future version. To read from a literal string, wrap it in a 'StringIO' object.\n",
      "  df = pd.read_json(file_content, lines=True)\n",
      "/tmp/ipykernel_1054/566169817.py:21: FutureWarning: Passing literal json to 'read_json' is deprecated and will be removed in a future version. To read from a literal string, wrap it in a 'StringIO' object.\n",
      "  df = pd.read_json(file_content, lines=True)\n"
     ]
    },
    {
     "name": "stdout",
     "output_type": "stream",
     "text": [
      "sonaal/cryptocom/historical_bid_ask/BTC_USDT/2023-10-01/1696119384096.gz\n",
      "sonaal/cryptocom/historical_bid_ask/BTC_USDT/2023-10-01/1696119494142.gz\n"
     ]
    },
    {
     "name": "stderr",
     "output_type": "stream",
     "text": [
      "/tmp/ipykernel_1054/566169817.py:21: FutureWarning: Passing literal json to 'read_json' is deprecated and will be removed in a future version. To read from a literal string, wrap it in a 'StringIO' object.\n",
      "  df = pd.read_json(file_content, lines=True)\n",
      "/tmp/ipykernel_1054/566169817.py:21: FutureWarning: Passing literal json to 'read_json' is deprecated and will be removed in a future version. To read from a literal string, wrap it in a 'StringIO' object.\n",
      "  df = pd.read_json(file_content, lines=True)\n"
     ]
    },
    {
     "name": "stdout",
     "output_type": "stream",
     "text": [
      "sonaal/cryptocom/historical_bid_ask/BTC_USDT/2023-10-01/1696119563747.gz\n"
     ]
    },
    {
     "name": "stderr",
     "output_type": "stream",
     "text": [
      "/tmp/ipykernel_1054/566169817.py:21: FutureWarning: Passing literal json to 'read_json' is deprecated and will be removed in a future version. To read from a literal string, wrap it in a 'StringIO' object.\n",
      "  df = pd.read_json(file_content, lines=True)\n",
      "/tmp/ipykernel_1054/566169817.py:21: FutureWarning: Passing literal json to 'read_json' is deprecated and will be removed in a future version. To read from a literal string, wrap it in a 'StringIO' object.\n",
      "  df = pd.read_json(file_content, lines=True)\n"
     ]
    },
    {
     "name": "stdout",
     "output_type": "stream",
     "text": [
      "sonaal/cryptocom/historical_bid_ask/BTC_USDT/2023-10-01/1696119700300.gz\n",
      "sonaal/cryptocom/historical_bid_ask/BTC_USDT/2023-10-01/1696119744166.gz\n"
     ]
    },
    {
     "name": "stderr",
     "output_type": "stream",
     "text": [
      "/tmp/ipykernel_1054/566169817.py:21: FutureWarning: Passing literal json to 'read_json' is deprecated and will be removed in a future version. To read from a literal string, wrap it in a 'StringIO' object.\n",
      "  df = pd.read_json(file_content, lines=True)\n",
      "/tmp/ipykernel_1054/566169817.py:21: FutureWarning: Passing literal json to 'read_json' is deprecated and will be removed in a future version. To read from a literal string, wrap it in a 'StringIO' object.\n",
      "  df = pd.read_json(file_content, lines=True)\n"
     ]
    },
    {
     "name": "stdout",
     "output_type": "stream",
     "text": [
      "sonaal/cryptocom/historical_bid_ask/BTC_USDT/2023-10-01/1696119857380.gz\n",
      "sonaal/cryptocom/historical_bid_ask/BTC_USDT/2023-10-01/1696119923721.gz\n"
     ]
    },
    {
     "name": "stderr",
     "output_type": "stream",
     "text": [
      "/tmp/ipykernel_1054/566169817.py:21: FutureWarning: Passing literal json to 'read_json' is deprecated and will be removed in a future version. To read from a literal string, wrap it in a 'StringIO' object.\n",
      "  df = pd.read_json(file_content, lines=True)\n",
      "/tmp/ipykernel_1054/566169817.py:21: FutureWarning: Passing literal json to 'read_json' is deprecated and will be removed in a future version. To read from a literal string, wrap it in a 'StringIO' object.\n",
      "  df = pd.read_json(file_content, lines=True)\n",
      "/tmp/ipykernel_1054/566169817.py:21: FutureWarning: Passing literal json to 'read_json' is deprecated and will be removed in a future version. To read from a literal string, wrap it in a 'StringIO' object.\n",
      "  df = pd.read_json(file_content, lines=True)\n"
     ]
    },
    {
     "name": "stdout",
     "output_type": "stream",
     "text": [
      "sonaal/cryptocom/historical_bid_ask/BTC_USDT/2023-10-01/1696120060049.gz\n",
      "sonaal/cryptocom/historical_bid_ask/BTC_USDT/2023-10-01/1696120103918.gz\n",
      "sonaal/cryptocom/historical_bid_ask/BTC_USDT/2023-10-01/1696120191609.gz\n",
      "sonaal/cryptocom/historical_bid_ask/BTC_USDT/2023-10-01/1696120273205.gz\n"
     ]
    },
    {
     "name": "stderr",
     "output_type": "stream",
     "text": [
      "/tmp/ipykernel_1054/566169817.py:21: FutureWarning: Passing literal json to 'read_json' is deprecated and will be removed in a future version. To read from a literal string, wrap it in a 'StringIO' object.\n",
      "  df = pd.read_json(file_content, lines=True)\n",
      "/tmp/ipykernel_1054/566169817.py:21: FutureWarning: Passing literal json to 'read_json' is deprecated and will be removed in a future version. To read from a literal string, wrap it in a 'StringIO' object.\n",
      "  df = pd.read_json(file_content, lines=True)\n"
     ]
    },
    {
     "name": "stdout",
     "output_type": "stream",
     "text": [
      "sonaal/cryptocom/historical_bid_ask/BTC_USDT/2023-10-01/1696120368288.gz\n"
     ]
    },
    {
     "name": "stderr",
     "output_type": "stream",
     "text": [
      "/tmp/ipykernel_1054/566169817.py:21: FutureWarning: Passing literal json to 'read_json' is deprecated and will be removed in a future version. To read from a literal string, wrap it in a 'StringIO' object.\n",
      "  df = pd.read_json(file_content, lines=True)\n"
     ]
    },
    {
     "name": "stdout",
     "output_type": "stream",
     "text": [
      "sonaal/cryptocom/historical_bid_ask/BTC_USDT/2023-10-01/1696120459602.gz\n",
      "sonaal/cryptocom/historical_bid_ask/BTC_USDT/2023-10-01/1696120528767.gz\n"
     ]
    },
    {
     "name": "stderr",
     "output_type": "stream",
     "text": [
      "/tmp/ipykernel_1054/566169817.py:21: FutureWarning: Passing literal json to 'read_json' is deprecated and will be removed in a future version. To read from a literal string, wrap it in a 'StringIO' object.\n",
      "  df = pd.read_json(file_content, lines=True)\n",
      "/tmp/ipykernel_1054/566169817.py:21: FutureWarning: Passing literal json to 'read_json' is deprecated and will be removed in a future version. To read from a literal string, wrap it in a 'StringIO' object.\n",
      "  df = pd.read_json(file_content, lines=True)\n"
     ]
    },
    {
     "name": "stdout",
     "output_type": "stream",
     "text": [
      "sonaal/cryptocom/historical_bid_ask/BTC_USDT/2023-10-01/1696120602168.gz\n",
      "sonaal/cryptocom/historical_bid_ask/BTC_USDT/2023-10-01/1696120643734.gz\n"
     ]
    },
    {
     "name": "stderr",
     "output_type": "stream",
     "text": [
      "/tmp/ipykernel_1054/566169817.py:21: FutureWarning: Passing literal json to 'read_json' is deprecated and will be removed in a future version. To read from a literal string, wrap it in a 'StringIO' object.\n",
      "  df = pd.read_json(file_content, lines=True)\n",
      "/tmp/ipykernel_1054/566169817.py:21: FutureWarning: Passing literal json to 'read_json' is deprecated and will be removed in a future version. To read from a literal string, wrap it in a 'StringIO' object.\n",
      "  df = pd.read_json(file_content, lines=True)\n"
     ]
    },
    {
     "name": "stdout",
     "output_type": "stream",
     "text": [
      "sonaal/cryptocom/historical_bid_ask/BTC_USDT/2023-10-01/1696120720255.gz\n"
     ]
    },
    {
     "name": "stderr",
     "output_type": "stream",
     "text": [
      "/tmp/ipykernel_1054/566169817.py:21: FutureWarning: Passing literal json to 'read_json' is deprecated and will be removed in a future version. To read from a literal string, wrap it in a 'StringIO' object.\n",
      "  df = pd.read_json(file_content, lines=True)\n"
     ]
    },
    {
     "name": "stdout",
     "output_type": "stream",
     "text": [
      "sonaal/cryptocom/historical_bid_ask/BTC_USDT/2023-10-01/1696120822723.gz\n",
      "sonaal/cryptocom/historical_bid_ask/BTC_USDT/2023-10-01/1696120919301.gz\n"
     ]
    },
    {
     "name": "stderr",
     "output_type": "stream",
     "text": [
      "/tmp/ipykernel_1054/566169817.py:21: FutureWarning: Passing literal json to 'read_json' is deprecated and will be removed in a future version. To read from a literal string, wrap it in a 'StringIO' object.\n",
      "  df = pd.read_json(file_content, lines=True)\n",
      "/tmp/ipykernel_1054/566169817.py:21: FutureWarning: Passing literal json to 'read_json' is deprecated and will be removed in a future version. To read from a literal string, wrap it in a 'StringIO' object.\n",
      "  df = pd.read_json(file_content, lines=True)\n"
     ]
    },
    {
     "name": "stdout",
     "output_type": "stream",
     "text": [
      "sonaal/cryptocom/historical_bid_ask/BTC_USDT/2023-10-01/1696120980749.gz\n",
      "sonaal/cryptocom/historical_bid_ask/BTC_USDT/2023-10-01/1696121003955.gz\n"
     ]
    },
    {
     "name": "stderr",
     "output_type": "stream",
     "text": [
      "/tmp/ipykernel_1054/566169817.py:21: FutureWarning: Passing literal json to 'read_json' is deprecated and will be removed in a future version. To read from a literal string, wrap it in a 'StringIO' object.\n",
      "  df = pd.read_json(file_content, lines=True)\n",
      "/tmp/ipykernel_1054/566169817.py:21: FutureWarning: Passing literal json to 'read_json' is deprecated and will be removed in a future version. To read from a literal string, wrap it in a 'StringIO' object.\n",
      "  df = pd.read_json(file_content, lines=True)\n"
     ]
    },
    {
     "name": "stdout",
     "output_type": "stream",
     "text": [
      "sonaal/cryptocom/historical_bid_ask/BTC_USDT/2023-10-01/1696121097399.gz\n",
      "sonaal/cryptocom/historical_bid_ask/BTC_USDT/2023-10-01/1696121183847.gz\n"
     ]
    },
    {
     "name": "stderr",
     "output_type": "stream",
     "text": [
      "/tmp/ipykernel_1054/566169817.py:21: FutureWarning: Passing literal json to 'read_json' is deprecated and will be removed in a future version. To read from a literal string, wrap it in a 'StringIO' object.\n",
      "  df = pd.read_json(file_content, lines=True)\n",
      "/tmp/ipykernel_1054/566169817.py:21: FutureWarning: Passing literal json to 'read_json' is deprecated and will be removed in a future version. To read from a literal string, wrap it in a 'StringIO' object.\n",
      "  df = pd.read_json(file_content, lines=True)\n"
     ]
    },
    {
     "name": "stdout",
     "output_type": "stream",
     "text": [
      "sonaal/cryptocom/historical_bid_ask/BTC_USDT/2023-10-01/1696121278247.gz\n",
      "sonaal/cryptocom/historical_bid_ask/BTC_USDT/2023-10-01/1696121364031.gz\n"
     ]
    },
    {
     "name": "stderr",
     "output_type": "stream",
     "text": [
      "/tmp/ipykernel_1054/566169817.py:21: FutureWarning: Passing literal json to 'read_json' is deprecated and will be removed in a future version. To read from a literal string, wrap it in a 'StringIO' object.\n",
      "  df = pd.read_json(file_content, lines=True)\n",
      "/tmp/ipykernel_1054/566169817.py:21: FutureWarning: Passing literal json to 'read_json' is deprecated and will be removed in a future version. To read from a literal string, wrap it in a 'StringIO' object.\n",
      "  df = pd.read_json(file_content, lines=True)\n"
     ]
    },
    {
     "name": "stdout",
     "output_type": "stream",
     "text": [
      "sonaal/cryptocom/historical_bid_ask/BTC_USDT/2023-10-01/1696121524313.gz\n",
      "sonaal/cryptocom/historical_bid_ask/BTC_USDT/2023-10-01/1696121544149.gz\n"
     ]
    },
    {
     "name": "stderr",
     "output_type": "stream",
     "text": [
      "/tmp/ipykernel_1054/566169817.py:21: FutureWarning: Passing literal json to 'read_json' is deprecated and will be removed in a future version. To read from a literal string, wrap it in a 'StringIO' object.\n",
      "  df = pd.read_json(file_content, lines=True)\n",
      "/tmp/ipykernel_1054/566169817.py:21: FutureWarning: Passing literal json to 'read_json' is deprecated and will be removed in a future version. To read from a literal string, wrap it in a 'StringIO' object.\n",
      "  df = pd.read_json(file_content, lines=True)\n"
     ]
    },
    {
     "name": "stdout",
     "output_type": "stream",
     "text": [
      "sonaal/cryptocom/historical_bid_ask/BTC_USDT/2023-10-01/1696121641396.gz\n",
      "sonaal/cryptocom/historical_bid_ask/BTC_USDT/2023-10-01/1696121723722.gz\n"
     ]
    },
    {
     "name": "stderr",
     "output_type": "stream",
     "text": [
      "/tmp/ipykernel_1054/566169817.py:21: FutureWarning: Passing literal json to 'read_json' is deprecated and will be removed in a future version. To read from a literal string, wrap it in a 'StringIO' object.\n",
      "  df = pd.read_json(file_content, lines=True)\n",
      "/tmp/ipykernel_1054/566169817.py:21: FutureWarning: Passing literal json to 'read_json' is deprecated and will be removed in a future version. To read from a literal string, wrap it in a 'StringIO' object.\n",
      "  df = pd.read_json(file_content, lines=True)\n"
     ]
    },
    {
     "name": "stdout",
     "output_type": "stream",
     "text": [
      "sonaal/cryptocom/historical_bid_ask/BTC_USDT/2023-10-01/1696121853842.gz\n",
      "sonaal/cryptocom/historical_bid_ask/BTC_USDT/2023-10-01/1696121904090.gz\n"
     ]
    },
    {
     "name": "stderr",
     "output_type": "stream",
     "text": [
      "/tmp/ipykernel_1054/566169817.py:21: FutureWarning: Passing literal json to 'read_json' is deprecated and will be removed in a future version. To read from a literal string, wrap it in a 'StringIO' object.\n",
      "  df = pd.read_json(file_content, lines=True)\n",
      "/tmp/ipykernel_1054/566169817.py:21: FutureWarning: Passing literal json to 'read_json' is deprecated and will be removed in a future version. To read from a literal string, wrap it in a 'StringIO' object.\n",
      "  df = pd.read_json(file_content, lines=True)\n"
     ]
    },
    {
     "name": "stdout",
     "output_type": "stream",
     "text": [
      "sonaal/cryptocom/historical_bid_ask/BTC_USDT/2023-10-01/1696122047791.gz\n",
      "sonaal/cryptocom/historical_bid_ask/BTC_USDT/2023-10-01/1696122083883.gz\n"
     ]
    },
    {
     "name": "stderr",
     "output_type": "stream",
     "text": [
      "/tmp/ipykernel_1054/566169817.py:21: FutureWarning: Passing literal json to 'read_json' is deprecated and will be removed in a future version. To read from a literal string, wrap it in a 'StringIO' object.\n",
      "  df = pd.read_json(file_content, lines=True)\n",
      "/tmp/ipykernel_1054/566169817.py:21: FutureWarning: Passing literal json to 'read_json' is deprecated and will be removed in a future version. To read from a literal string, wrap it in a 'StringIO' object.\n",
      "  df = pd.read_json(file_content, lines=True)\n"
     ]
    },
    {
     "name": "stdout",
     "output_type": "stream",
     "text": [
      "sonaal/cryptocom/historical_bid_ask/BTC_USDT/2023-10-01/1696122191703.gz\n",
      "sonaal/cryptocom/historical_bid_ask/BTC_USDT/2023-10-01/1696122264011.gz\n"
     ]
    },
    {
     "name": "stderr",
     "output_type": "stream",
     "text": [
      "/tmp/ipykernel_1054/566169817.py:21: FutureWarning: Passing literal json to 'read_json' is deprecated and will be removed in a future version. To read from a literal string, wrap it in a 'StringIO' object.\n",
      "  df = pd.read_json(file_content, lines=True)\n",
      "/tmp/ipykernel_1054/566169817.py:21: FutureWarning: Passing literal json to 'read_json' is deprecated and will be removed in a future version. To read from a literal string, wrap it in a 'StringIO' object.\n",
      "  df = pd.read_json(file_content, lines=True)\n"
     ]
    },
    {
     "name": "stdout",
     "output_type": "stream",
     "text": [
      "sonaal/cryptocom/historical_bid_ask/BTC_USDT/2023-10-01/1696122372123.gz\n"
     ]
    },
    {
     "name": "stderr",
     "output_type": "stream",
     "text": [
      "/tmp/ipykernel_1054/566169817.py:21: FutureWarning: Passing literal json to 'read_json' is deprecated and will be removed in a future version. To read from a literal string, wrap it in a 'StringIO' object.\n",
      "  df = pd.read_json(file_content, lines=True)\n"
     ]
    },
    {
     "name": "stdout",
     "output_type": "stream",
     "text": [
      "sonaal/cryptocom/historical_bid_ask/BTC_USDT/2023-10-01/1696122443702.gz\n"
     ]
    },
    {
     "name": "stderr",
     "output_type": "stream",
     "text": [
      "/tmp/ipykernel_1054/566169817.py:21: FutureWarning: Passing literal json to 'read_json' is deprecated and will be removed in a future version. To read from a literal string, wrap it in a 'StringIO' object.\n",
      "  df = pd.read_json(file_content, lines=True)\n",
      "/tmp/ipykernel_1054/566169817.py:21: FutureWarning: Passing literal json to 'read_json' is deprecated and will be removed in a future version. To read from a literal string, wrap it in a 'StringIO' object.\n",
      "  df = pd.read_json(file_content, lines=True)\n"
     ]
    },
    {
     "name": "stdout",
     "output_type": "stream",
     "text": [
      "sonaal/cryptocom/historical_bid_ask/BTC_USDT/2023-10-01/1696122556043.gz\n",
      "sonaal/cryptocom/historical_bid_ask/BTC_USDT/2023-10-01/1696122623743.gz\n"
     ]
    },
    {
     "name": "stderr",
     "output_type": "stream",
     "text": [
      "/tmp/ipykernel_1054/566169817.py:21: FutureWarning: Passing literal json to 'read_json' is deprecated and will be removed in a future version. To read from a literal string, wrap it in a 'StringIO' object.\n",
      "  df = pd.read_json(file_content, lines=True)\n",
      "/tmp/ipykernel_1054/566169817.py:21: FutureWarning: Passing literal json to 'read_json' is deprecated and will be removed in a future version. To read from a literal string, wrap it in a 'StringIO' object.\n",
      "  df = pd.read_json(file_content, lines=True)\n"
     ]
    },
    {
     "name": "stdout",
     "output_type": "stream",
     "text": [
      "sonaal/cryptocom/historical_bid_ask/BTC_USDT/2023-10-01/1696122751024.gz\n",
      "sonaal/cryptocom/historical_bid_ask/BTC_USDT/2023-10-01/1696122803865.gz\n"
     ]
    },
    {
     "name": "stderr",
     "output_type": "stream",
     "text": [
      "/tmp/ipykernel_1054/566169817.py:21: FutureWarning: Passing literal json to 'read_json' is deprecated and will be removed in a future version. To read from a literal string, wrap it in a 'StringIO' object.\n",
      "  df = pd.read_json(file_content, lines=True)\n",
      "/tmp/ipykernel_1054/566169817.py:21: FutureWarning: Passing literal json to 'read_json' is deprecated and will be removed in a future version. To read from a literal string, wrap it in a 'StringIO' object.\n",
      "  df = pd.read_json(file_content, lines=True)\n",
      "/tmp/ipykernel_1054/566169817.py:21: FutureWarning: Passing literal json to 'read_json' is deprecated and will be removed in a future version. To read from a literal string, wrap it in a 'StringIO' object.\n",
      "  df = pd.read_json(file_content, lines=True)\n"
     ]
    },
    {
     "name": "stdout",
     "output_type": "stream",
     "text": [
      "sonaal/cryptocom/historical_bid_ask/BTC_USDT/2023-10-01/1696122926900.gz\n",
      "sonaal/cryptocom/historical_bid_ask/BTC_USDT/2023-10-01/1696122983747.gz\n",
      "sonaal/cryptocom/historical_bid_ask/BTC_USDT/2023-10-01/1696123092041.gz\n",
      "sonaal/cryptocom/historical_bid_ask/BTC_USDT/2023-10-01/1696123163761.gz\n"
     ]
    },
    {
     "name": "stderr",
     "output_type": "stream",
     "text": [
      "/tmp/ipykernel_1054/566169817.py:21: FutureWarning: Passing literal json to 'read_json' is deprecated and will be removed in a future version. To read from a literal string, wrap it in a 'StringIO' object.\n",
      "  df = pd.read_json(file_content, lines=True)\n",
      "/tmp/ipykernel_1054/566169817.py:21: FutureWarning: Passing literal json to 'read_json' is deprecated and will be removed in a future version. To read from a literal string, wrap it in a 'StringIO' object.\n",
      "  df = pd.read_json(file_content, lines=True)\n"
     ]
    },
    {
     "name": "stdout",
     "output_type": "stream",
     "text": [
      "sonaal/cryptocom/historical_bid_ask/BTC_USDT/2023-10-01/1696123283960.gz\n",
      "sonaal/cryptocom/historical_bid_ask/BTC_USDT/2023-10-01/1696123343777.gz\n"
     ]
    },
    {
     "name": "stderr",
     "output_type": "stream",
     "text": [
      "/tmp/ipykernel_1054/566169817.py:21: FutureWarning: Passing literal json to 'read_json' is deprecated and will be removed in a future version. To read from a literal string, wrap it in a 'StringIO' object.\n",
      "  df = pd.read_json(file_content, lines=True)\n",
      "/tmp/ipykernel_1054/566169817.py:21: FutureWarning: Passing literal json to 'read_json' is deprecated and will be removed in a future version. To read from a literal string, wrap it in a 'StringIO' object.\n",
      "  df = pd.read_json(file_content, lines=True)\n"
     ]
    },
    {
     "name": "stdout",
     "output_type": "stream",
     "text": [
      "sonaal/cryptocom/historical_bid_ask/BTC_USDT/2023-10-01/1696123445031.gz\n",
      "sonaal/cryptocom/historical_bid_ask/BTC_USDT/2023-10-01/1696123523795.gz\n"
     ]
    },
    {
     "name": "stderr",
     "output_type": "stream",
     "text": [
      "/tmp/ipykernel_1054/566169817.py:21: FutureWarning: Passing literal json to 'read_json' is deprecated and will be removed in a future version. To read from a literal string, wrap it in a 'StringIO' object.\n",
      "  df = pd.read_json(file_content, lines=True)\n",
      "/tmp/ipykernel_1054/566169817.py:21: FutureWarning: Passing literal json to 'read_json' is deprecated and will be removed in a future version. To read from a literal string, wrap it in a 'StringIO' object.\n",
      "  df = pd.read_json(file_content, lines=True)\n"
     ]
    },
    {
     "name": "stdout",
     "output_type": "stream",
     "text": [
      "sonaal/cryptocom/historical_bid_ask/BTC_USDT/2023-10-01/1696123616561.gz\n",
      "sonaal/cryptocom/historical_bid_ask/BTC_USDT/2023-10-01/1696123703610.gz\n"
     ]
    },
    {
     "name": "stderr",
     "output_type": "stream",
     "text": [
      "/tmp/ipykernel_1054/566169817.py:21: FutureWarning: Passing literal json to 'read_json' is deprecated and will be removed in a future version. To read from a literal string, wrap it in a 'StringIO' object.\n",
      "  df = pd.read_json(file_content, lines=True)\n",
      "/tmp/ipykernel_1054/566169817.py:21: FutureWarning: Passing literal json to 'read_json' is deprecated and will be removed in a future version. To read from a literal string, wrap it in a 'StringIO' object.\n",
      "  df = pd.read_json(file_content, lines=True)\n"
     ]
    },
    {
     "name": "stdout",
     "output_type": "stream",
     "text": [
      "sonaal/cryptocom/historical_bid_ask/BTC_USDT/2023-10-01/1696123757443.gz\n",
      "sonaal/cryptocom/historical_bid_ask/BTC_USDT/2023-10-01/1696123811168.gz\n"
     ]
    },
    {
     "name": "stderr",
     "output_type": "stream",
     "text": [
      "/tmp/ipykernel_1054/566169817.py:21: FutureWarning: Passing literal json to 'read_json' is deprecated and will be removed in a future version. To read from a literal string, wrap it in a 'StringIO' object.\n",
      "  df = pd.read_json(file_content, lines=True)\n",
      "/tmp/ipykernel_1054/566169817.py:21: FutureWarning: Passing literal json to 'read_json' is deprecated and will be removed in a future version. To read from a literal string, wrap it in a 'StringIO' object.\n",
      "  df = pd.read_json(file_content, lines=True)\n"
     ]
    },
    {
     "name": "stdout",
     "output_type": "stream",
     "text": [
      "sonaal/cryptocom/historical_bid_ask/BTC_USDT/2023-10-01/1696123883757.gz\n",
      "sonaal/cryptocom/historical_bid_ask/BTC_USDT/2023-10-01/1696123973147.gz\n"
     ]
    },
    {
     "name": "stderr",
     "output_type": "stream",
     "text": [
      "/tmp/ipykernel_1054/566169817.py:21: FutureWarning: Passing literal json to 'read_json' is deprecated and will be removed in a future version. To read from a literal string, wrap it in a 'StringIO' object.\n",
      "  df = pd.read_json(file_content, lines=True)\n",
      "/tmp/ipykernel_1054/566169817.py:21: FutureWarning: Passing literal json to 'read_json' is deprecated and will be removed in a future version. To read from a literal string, wrap it in a 'StringIO' object.\n",
      "  df = pd.read_json(file_content, lines=True)\n"
     ]
    },
    {
     "name": "stdout",
     "output_type": "stream",
     "text": [
      "sonaal/cryptocom/historical_bid_ask/BTC_USDT/2023-10-01/1696124063911.gz\n",
      "sonaal/cryptocom/historical_bid_ask/BTC_USDT/2023-10-01/1696124157379.gz\n"
     ]
    },
    {
     "name": "stderr",
     "output_type": "stream",
     "text": [
      "/tmp/ipykernel_1054/566169817.py:21: FutureWarning: Passing literal json to 'read_json' is deprecated and will be removed in a future version. To read from a literal string, wrap it in a 'StringIO' object.\n",
      "  df = pd.read_json(file_content, lines=True)\n",
      "/tmp/ipykernel_1054/566169817.py:21: FutureWarning: Passing literal json to 'read_json' is deprecated and will be removed in a future version. To read from a literal string, wrap it in a 'StringIO' object.\n",
      "  df = pd.read_json(file_content, lines=True)\n"
     ]
    },
    {
     "name": "stdout",
     "output_type": "stream",
     "text": [
      "sonaal/cryptocom/historical_bid_ask/BTC_USDT/2023-10-01/1696124243918.gz\n",
      "sonaal/cryptocom/historical_bid_ask/BTC_USDT/2023-10-01/1696124381250.gz\n"
     ]
    },
    {
     "name": "stderr",
     "output_type": "stream",
     "text": [
      "/tmp/ipykernel_1054/566169817.py:21: FutureWarning: Passing literal json to 'read_json' is deprecated and will be removed in a future version. To read from a literal string, wrap it in a 'StringIO' object.\n",
      "  df = pd.read_json(file_content, lines=True)\n",
      "/tmp/ipykernel_1054/566169817.py:21: FutureWarning: Passing literal json to 'read_json' is deprecated and will be removed in a future version. To read from a literal string, wrap it in a 'StringIO' object.\n",
      "  df = pd.read_json(file_content, lines=True)\n",
      "/tmp/ipykernel_1054/566169817.py:21: FutureWarning: Passing literal json to 'read_json' is deprecated and will be removed in a future version. To read from a literal string, wrap it in a 'StringIO' object.\n",
      "  df = pd.read_json(file_content, lines=True)\n"
     ]
    },
    {
     "name": "stdout",
     "output_type": "stream",
     "text": [
      "sonaal/cryptocom/historical_bid_ask/BTC_USDT/2023-10-01/1696124423734.gz\n",
      "sonaal/cryptocom/historical_bid_ask/BTC_USDT/2023-10-01/1696124534244.gz\n"
     ]
    },
    {
     "name": "stderr",
     "output_type": "stream",
     "text": [
      "/tmp/ipykernel_1054/566169817.py:21: FutureWarning: Passing literal json to 'read_json' is deprecated and will be removed in a future version. To read from a literal string, wrap it in a 'StringIO' object.\n",
      "  df = pd.read_json(file_content, lines=True)\n",
      "/tmp/ipykernel_1054/566169817.py:21: FutureWarning: Passing literal json to 'read_json' is deprecated and will be removed in a future version. To read from a literal string, wrap it in a 'StringIO' object.\n",
      "  df = pd.read_json(file_content, lines=True)\n"
     ]
    },
    {
     "name": "stdout",
     "output_type": "stream",
     "text": [
      "sonaal/cryptocom/historical_bid_ask/BTC_USDT/2023-10-01/1696124603771.gz\n",
      "sonaal/cryptocom/historical_bid_ask/BTC_USDT/2023-10-01/1696124716749.gz\n"
     ]
    },
    {
     "name": "stderr",
     "output_type": "stream",
     "text": [
      "/tmp/ipykernel_1054/566169817.py:21: FutureWarning: Passing literal json to 'read_json' is deprecated and will be removed in a future version. To read from a literal string, wrap it in a 'StringIO' object.\n",
      "  df = pd.read_json(file_content, lines=True)\n",
      "/tmp/ipykernel_1054/566169817.py:21: FutureWarning: Passing literal json to 'read_json' is deprecated and will be removed in a future version. To read from a literal string, wrap it in a 'StringIO' object.\n",
      "  df = pd.read_json(file_content, lines=True)\n"
     ]
    },
    {
     "name": "stdout",
     "output_type": "stream",
     "text": [
      "sonaal/cryptocom/historical_bid_ask/BTC_USDT/2023-10-01/1696124783724.gz\n",
      "sonaal/cryptocom/historical_bid_ask/BTC_USDT/2023-10-01/1696124956540.gz\n",
      "sonaal/cryptocom/historical_bid_ask/BTC_USDT/2023-10-01/1696125094131.gz\n"
     ]
    },
    {
     "name": "stderr",
     "output_type": "stream",
     "text": [
      "/tmp/ipykernel_1054/566169817.py:21: FutureWarning: Passing literal json to 'read_json' is deprecated and will be removed in a future version. To read from a literal string, wrap it in a 'StringIO' object.\n",
      "  df = pd.read_json(file_content, lines=True)\n"
     ]
    },
    {
     "ename": "KeyboardInterrupt",
     "evalue": "",
     "output_type": "error",
     "traceback": [
      "\u001b[0;31m---------------------------------------------------------------------------\u001b[0m",
      "\u001b[0;31mKeyboardInterrupt\u001b[0m                         Traceback (most recent call last)",
      "Cell \u001b[0;32mIn[78], line 1\u001b[0m\n\u001b[0;32m----> 1\u001b[0m data \u001b[38;5;241m=\u001b[39m \u001b[43mload_data\u001b[49m\u001b[43m(\u001b[49m\u001b[43ms3_client\u001b[49m\u001b[43m,\u001b[49m\u001b[43m \u001b[49m\u001b[43ms3_save_path\u001b[49m\u001b[43m,\u001b[49m\u001b[43m \u001b[49m\u001b[43mbucket_name\u001b[49m\u001b[43m)\u001b[49m\n",
      "Cell \u001b[0;32mIn[77], line 17\u001b[0m, in \u001b[0;36mload_data\u001b[0;34m(s3, s3_path, s3_bucket)\u001b[0m\n\u001b[1;32m     15\u001b[0m s3_file_path \u001b[38;5;241m=\u001b[39m file[\u001b[38;5;124m'\u001b[39m\u001b[38;5;124mKey\u001b[39m\u001b[38;5;124m'\u001b[39m]\n\u001b[1;32m     16\u001b[0m \u001b[38;5;28mprint\u001b[39m(s3_file_path)\n\u001b[0;32m---> 17\u001b[0m \u001b[43ms3\u001b[49m\u001b[38;5;241;43m.\u001b[39;49m\u001b[43mdownload_file\u001b[49m\u001b[43m(\u001b[49m\u001b[43ms3_bucket\u001b[49m\u001b[43m,\u001b[49m\u001b[43m \u001b[49m\u001b[43ms3_file_path\u001b[49m\u001b[43m,\u001b[49m\u001b[43m \u001b[49m\u001b[43mlocal_dst_path\u001b[49m\u001b[43m)\u001b[49m\n\u001b[1;32m     18\u001b[0m \u001b[38;5;28;01mwith\u001b[39;00m gzip\u001b[38;5;241m.\u001b[39mopen(local_dst_path, \u001b[38;5;124m'\u001b[39m\u001b[38;5;124mrt\u001b[39m\u001b[38;5;124m'\u001b[39m) \u001b[38;5;28;01mas\u001b[39;00m gz_file:\n\u001b[1;32m     19\u001b[0m     \u001b[38;5;66;03m# Read the entire file content\u001b[39;00m\n\u001b[1;32m     20\u001b[0m     file_content \u001b[38;5;241m=\u001b[39m gz_file\u001b[38;5;241m.\u001b[39mread()\n",
      "File \u001b[0;32m/venv/lib/python3.9/site-packages/boto3/s3/inject.py:190\u001b[0m, in \u001b[0;36mdownload_file\u001b[0;34m(self, Bucket, Key, Filename, ExtraArgs, Callback, Config)\u001b[0m\n\u001b[1;32m    155\u001b[0m \u001b[38;5;250m\u001b[39m\u001b[38;5;124;03m\"\"\"Download an S3 object to a file.\u001b[39;00m\n\u001b[1;32m    156\u001b[0m \n\u001b[1;32m    157\u001b[0m \u001b[38;5;124;03mUsage::\u001b[39;00m\n\u001b[0;32m   (...)\u001b[0m\n\u001b[1;32m    187\u001b[0m \u001b[38;5;124;03m    transfer.\u001b[39;00m\n\u001b[1;32m    188\u001b[0m \u001b[38;5;124;03m\"\"\"\u001b[39;00m\n\u001b[1;32m    189\u001b[0m \u001b[38;5;28;01mwith\u001b[39;00m S3Transfer(\u001b[38;5;28mself\u001b[39m, Config) \u001b[38;5;28;01mas\u001b[39;00m transfer:\n\u001b[0;32m--> 190\u001b[0m     \u001b[38;5;28;01mreturn\u001b[39;00m \u001b[43mtransfer\u001b[49m\u001b[38;5;241;43m.\u001b[39;49m\u001b[43mdownload_file\u001b[49m\u001b[43m(\u001b[49m\n\u001b[1;32m    191\u001b[0m \u001b[43m        \u001b[49m\u001b[43mbucket\u001b[49m\u001b[38;5;241;43m=\u001b[39;49m\u001b[43mBucket\u001b[49m\u001b[43m,\u001b[49m\n\u001b[1;32m    192\u001b[0m \u001b[43m        \u001b[49m\u001b[43mkey\u001b[49m\u001b[38;5;241;43m=\u001b[39;49m\u001b[43mKey\u001b[49m\u001b[43m,\u001b[49m\n\u001b[1;32m    193\u001b[0m \u001b[43m        \u001b[49m\u001b[43mfilename\u001b[49m\u001b[38;5;241;43m=\u001b[39;49m\u001b[43mFilename\u001b[49m\u001b[43m,\u001b[49m\n\u001b[1;32m    194\u001b[0m \u001b[43m        \u001b[49m\u001b[43mextra_args\u001b[49m\u001b[38;5;241;43m=\u001b[39;49m\u001b[43mExtraArgs\u001b[49m\u001b[43m,\u001b[49m\n\u001b[1;32m    195\u001b[0m \u001b[43m        \u001b[49m\u001b[43mcallback\u001b[49m\u001b[38;5;241;43m=\u001b[39;49m\u001b[43mCallback\u001b[49m\u001b[43m,\u001b[49m\n\u001b[1;32m    196\u001b[0m \u001b[43m    \u001b[49m\u001b[43m)\u001b[49m\n",
      "File \u001b[0;32m/venv/lib/python3.9/site-packages/boto3/s3/transfer.py:326\u001b[0m, in \u001b[0;36mS3Transfer.download_file\u001b[0;34m(self, bucket, key, filename, extra_args, callback)\u001b[0m\n\u001b[1;32m    322\u001b[0m future \u001b[38;5;241m=\u001b[39m \u001b[38;5;28mself\u001b[39m\u001b[38;5;241m.\u001b[39m_manager\u001b[38;5;241m.\u001b[39mdownload(\n\u001b[1;32m    323\u001b[0m     bucket, key, filename, extra_args, subscribers\n\u001b[1;32m    324\u001b[0m )\n\u001b[1;32m    325\u001b[0m \u001b[38;5;28;01mtry\u001b[39;00m:\n\u001b[0;32m--> 326\u001b[0m     \u001b[43mfuture\u001b[49m\u001b[38;5;241;43m.\u001b[39;49m\u001b[43mresult\u001b[49m\u001b[43m(\u001b[49m\u001b[43m)\u001b[49m\n\u001b[1;32m    327\u001b[0m \u001b[38;5;66;03m# This is for backwards compatibility where when retries are\u001b[39;00m\n\u001b[1;32m    328\u001b[0m \u001b[38;5;66;03m# exceeded we need to throw the same error from boto3 instead of\u001b[39;00m\n\u001b[1;32m    329\u001b[0m \u001b[38;5;66;03m# s3transfer's built in RetriesExceededError as current users are\u001b[39;00m\n\u001b[1;32m    330\u001b[0m \u001b[38;5;66;03m# catching the boto3 one instead of the s3transfer exception to do\u001b[39;00m\n\u001b[1;32m    331\u001b[0m \u001b[38;5;66;03m# their own retries.\u001b[39;00m\n\u001b[1;32m    332\u001b[0m \u001b[38;5;28;01mexcept\u001b[39;00m S3TransferRetriesExceededError \u001b[38;5;28;01mas\u001b[39;00m e:\n",
      "File \u001b[0;32m/venv/lib/python3.9/site-packages/s3transfer/futures.py:106\u001b[0m, in \u001b[0;36mTransferFuture.result\u001b[0;34m(self)\u001b[0m\n\u001b[1;32m    104\u001b[0m \u001b[38;5;28;01mexcept\u001b[39;00m \u001b[38;5;167;01mKeyboardInterrupt\u001b[39;00m \u001b[38;5;28;01mas\u001b[39;00m e:\n\u001b[1;32m    105\u001b[0m     \u001b[38;5;28mself\u001b[39m\u001b[38;5;241m.\u001b[39mcancel()\n\u001b[0;32m--> 106\u001b[0m     \u001b[38;5;28;01mraise\u001b[39;00m e\n",
      "File \u001b[0;32m/venv/lib/python3.9/site-packages/s3transfer/futures.py:103\u001b[0m, in \u001b[0;36mTransferFuture.result\u001b[0;34m(self)\u001b[0m\n\u001b[1;32m     98\u001b[0m \u001b[38;5;28;01mdef\u001b[39;00m \u001b[38;5;21mresult\u001b[39m(\u001b[38;5;28mself\u001b[39m):\n\u001b[1;32m     99\u001b[0m     \u001b[38;5;28;01mtry\u001b[39;00m:\n\u001b[1;32m    100\u001b[0m         \u001b[38;5;66;03m# Usually the result() method blocks until the transfer is done,\u001b[39;00m\n\u001b[1;32m    101\u001b[0m         \u001b[38;5;66;03m# however if a KeyboardInterrupt is raised we want want to exit\u001b[39;00m\n\u001b[1;32m    102\u001b[0m         \u001b[38;5;66;03m# out of this and propagate the exception.\u001b[39;00m\n\u001b[0;32m--> 103\u001b[0m         \u001b[38;5;28;01mreturn\u001b[39;00m \u001b[38;5;28;43mself\u001b[39;49m\u001b[38;5;241;43m.\u001b[39;49m\u001b[43m_coordinator\u001b[49m\u001b[38;5;241;43m.\u001b[39;49m\u001b[43mresult\u001b[49m\u001b[43m(\u001b[49m\u001b[43m)\u001b[49m\n\u001b[1;32m    104\u001b[0m     \u001b[38;5;28;01mexcept\u001b[39;00m \u001b[38;5;167;01mKeyboardInterrupt\u001b[39;00m \u001b[38;5;28;01mas\u001b[39;00m e:\n\u001b[1;32m    105\u001b[0m         \u001b[38;5;28mself\u001b[39m\u001b[38;5;241m.\u001b[39mcancel()\n",
      "File \u001b[0;32m/venv/lib/python3.9/site-packages/s3transfer/futures.py:261\u001b[0m, in \u001b[0;36mTransferCoordinator.result\u001b[0;34m(self)\u001b[0m\n\u001b[1;32m    251\u001b[0m \u001b[38;5;250m\u001b[39m\u001b[38;5;124;03m\"\"\"Waits until TransferFuture is done and returns the result\u001b[39;00m\n\u001b[1;32m    252\u001b[0m \n\u001b[1;32m    253\u001b[0m \u001b[38;5;124;03mIf the TransferFuture succeeded, it will return the result. If the\u001b[39;00m\n\u001b[1;32m    254\u001b[0m \u001b[38;5;124;03mTransferFuture failed, it will raise the exception associated to the\u001b[39;00m\n\u001b[1;32m    255\u001b[0m \u001b[38;5;124;03mfailure.\u001b[39;00m\n\u001b[1;32m    256\u001b[0m \u001b[38;5;124;03m\"\"\"\u001b[39;00m\n\u001b[1;32m    257\u001b[0m \u001b[38;5;66;03m# Doing a wait() with no timeout cannot be interrupted in python2 but\u001b[39;00m\n\u001b[1;32m    258\u001b[0m \u001b[38;5;66;03m# can be interrupted in python3 so we just wait with the largest\u001b[39;00m\n\u001b[1;32m    259\u001b[0m \u001b[38;5;66;03m# possible value integer value, which is on the scale of billions of\u001b[39;00m\n\u001b[1;32m    260\u001b[0m \u001b[38;5;66;03m# years...\u001b[39;00m\n\u001b[0;32m--> 261\u001b[0m \u001b[38;5;28;43mself\u001b[39;49m\u001b[38;5;241;43m.\u001b[39;49m\u001b[43m_done_event\u001b[49m\u001b[38;5;241;43m.\u001b[39;49m\u001b[43mwait\u001b[49m\u001b[43m(\u001b[49m\u001b[43mMAXINT\u001b[49m\u001b[43m)\u001b[49m\n\u001b[1;32m    263\u001b[0m \u001b[38;5;66;03m# Once done waiting, raise an exception if present or return the\u001b[39;00m\n\u001b[1;32m    264\u001b[0m \u001b[38;5;66;03m# final result.\u001b[39;00m\n\u001b[1;32m    265\u001b[0m \u001b[38;5;28;01mif\u001b[39;00m \u001b[38;5;28mself\u001b[39m\u001b[38;5;241m.\u001b[39m_exception:\n",
      "File \u001b[0;32m/usr/lib/python3.9/threading.py:574\u001b[0m, in \u001b[0;36mEvent.wait\u001b[0;34m(self, timeout)\u001b[0m\n\u001b[1;32m    572\u001b[0m signaled \u001b[38;5;241m=\u001b[39m \u001b[38;5;28mself\u001b[39m\u001b[38;5;241m.\u001b[39m_flag\n\u001b[1;32m    573\u001b[0m \u001b[38;5;28;01mif\u001b[39;00m \u001b[38;5;129;01mnot\u001b[39;00m signaled:\n\u001b[0;32m--> 574\u001b[0m     signaled \u001b[38;5;241m=\u001b[39m \u001b[38;5;28;43mself\u001b[39;49m\u001b[38;5;241;43m.\u001b[39;49m\u001b[43m_cond\u001b[49m\u001b[38;5;241;43m.\u001b[39;49m\u001b[43mwait\u001b[49m\u001b[43m(\u001b[49m\u001b[43mtimeout\u001b[49m\u001b[43m)\u001b[49m\n\u001b[1;32m    575\u001b[0m \u001b[38;5;28;01mreturn\u001b[39;00m signaled\n",
      "File \u001b[0;32m/usr/lib/python3.9/threading.py:312\u001b[0m, in \u001b[0;36mCondition.wait\u001b[0;34m(self, timeout)\u001b[0m\n\u001b[1;32m    310\u001b[0m \u001b[38;5;28;01mtry\u001b[39;00m:    \u001b[38;5;66;03m# restore state no matter what (e.g., KeyboardInterrupt)\u001b[39;00m\n\u001b[1;32m    311\u001b[0m     \u001b[38;5;28;01mif\u001b[39;00m timeout \u001b[38;5;129;01mis\u001b[39;00m \u001b[38;5;28;01mNone\u001b[39;00m:\n\u001b[0;32m--> 312\u001b[0m         \u001b[43mwaiter\u001b[49m\u001b[38;5;241;43m.\u001b[39;49m\u001b[43macquire\u001b[49m\u001b[43m(\u001b[49m\u001b[43m)\u001b[49m\n\u001b[1;32m    313\u001b[0m         gotit \u001b[38;5;241m=\u001b[39m \u001b[38;5;28;01mTrue\u001b[39;00m\n\u001b[1;32m    314\u001b[0m     \u001b[38;5;28;01melse\u001b[39;00m:\n",
      "\u001b[0;31mKeyboardInterrupt\u001b[0m: "
     ]
    }
   ],
   "source": [
    "data = load_data(s3_client, s3_save_path, bucket_name)"
   ]
  },
  {
   "cell_type": "code",
   "execution_count": 76,
   "id": "2fd9f760",
   "metadata": {
    "ExecuteTime": {
     "end_time": "2024-06-18T02:56:56.378148Z",
     "start_time": "2024-06-18T02:56:56.235357Z"
    }
   },
   "outputs": [
    {
     "data": {
      "text/html": [
       "<div>\n",
       "<style scoped>\n",
       "    .dataframe tbody tr th:only-of-type {\n",
       "        vertical-align: middle;\n",
       "    }\n",
       "\n",
       "    .dataframe tbody tr th {\n",
       "        vertical-align: top;\n",
       "    }\n",
       "\n",
       "    .dataframe thead th {\n",
       "        text-align: right;\n",
       "    }\n",
       "</style>\n",
       "<table border=\"1\" class=\"dataframe\">\n",
       "  <thead>\n",
       "    <tr style=\"text-align: right;\">\n",
       "      <th></th>\n",
       "      <th>S</th>\n",
       "      <th>s</th>\n",
       "      <th>t</th>\n",
       "      <th>p</th>\n",
       "      <th>a</th>\n",
       "      <th>b</th>\n",
       "    </tr>\n",
       "  </thead>\n",
       "  <tbody>\n",
       "    <tr>\n",
       "      <th>0</th>\n",
       "      <td>BTC_USDT</td>\n",
       "      <td>1</td>\n",
       "      <td>1696118400003</td>\n",
       "      <td>1696118400007</td>\n",
       "      <td>[[26962.18, 0.23306000000000002], [26964.73, 0...</td>\n",
       "      <td>[[26962.17, 0.00018], [26960.42, 0.04], [26960...</td>\n",
       "    </tr>\n",
       "    <tr>\n",
       "      <th>1</th>\n",
       "      <td>BTC_USDT</td>\n",
       "      <td>1</td>\n",
       "      <td>1696118400034</td>\n",
       "      <td>1696118400036</td>\n",
       "      <td>[[26962.18, 0.23306000000000002], [26964.73, 0...</td>\n",
       "      <td>[[26962.17, 0.00018], [26960.41, 0.08], [26960...</td>\n",
       "    </tr>\n",
       "    <tr>\n",
       "      <th>2</th>\n",
       "      <td>BTC_USDT</td>\n",
       "      <td>1</td>\n",
       "      <td>1696118400098</td>\n",
       "      <td>1696118400100</td>\n",
       "      <td>[[26962.18, 0.23901000000000003], [26964.73, 0...</td>\n",
       "      <td>[[26962.17, 0.03654], [26960.42, 0.04], [26960...</td>\n",
       "    </tr>\n",
       "    <tr>\n",
       "      <th>3</th>\n",
       "      <td>BTC_USDT</td>\n",
       "      <td>1</td>\n",
       "      <td>1696118400199</td>\n",
       "      <td>1696118400201</td>\n",
       "      <td>[[26962.18, 0.23306000000000002], [26964.73, 0...</td>\n",
       "      <td>[[26962.17, 0.03654], [26960.42, 0.04], [26960...</td>\n",
       "    </tr>\n",
       "    <tr>\n",
       "      <th>4</th>\n",
       "      <td>BTC_USDT</td>\n",
       "      <td>1</td>\n",
       "      <td>1696118400255</td>\n",
       "      <td>1696118400256</td>\n",
       "      <td>[[26962.18, 0.23306000000000002], [26962.82, 0...</td>\n",
       "      <td>[[26962.17, 0.03654], [26960.42, 0.04], [26960...</td>\n",
       "    </tr>\n",
       "  </tbody>\n",
       "</table>\n",
       "</div>"
      ],
      "text/plain": [
       "          S  s              t              p                                                  a                                                  b\n",
       "0  BTC_USDT  1  1696118400003  1696118400007  [[26962.18, 0.23306000000000002], [26964.73, 0...  [[26962.17, 0.00018], [26960.42, 0.04], [26960...\n",
       "1  BTC_USDT  1  1696118400034  1696118400036  [[26962.18, 0.23306000000000002], [26964.73, 0...  [[26962.17, 0.00018], [26960.41, 0.08], [26960...\n",
       "2  BTC_USDT  1  1696118400098  1696118400100  [[26962.18, 0.23901000000000003], [26964.73, 0...  [[26962.17, 0.03654], [26960.42, 0.04], [26960...\n",
       "3  BTC_USDT  1  1696118400199  1696118400201  [[26962.18, 0.23306000000000002], [26964.73, 0...  [[26962.17, 0.03654], [26960.42, 0.04], [26960...\n",
       "4  BTC_USDT  1  1696118400255  1696118400256  [[26962.18, 0.23306000000000002], [26962.82, 0...  [[26962.17, 0.03654], [26960.42, 0.04], [26960..."
      ]
     },
     "execution_count": 76,
     "metadata": {},
     "output_type": "execute_result"
    }
   ],
   "source": [
    "data[0].head()"
   ]
  },
  {
   "cell_type": "code",
   "execution_count": null,
   "id": "d907cab8",
   "metadata": {},
   "outputs": [],
   "source": []
  }
 ],
 "metadata": {
  "kernelspec": {
   "display_name": "Python 3 (ipykernel)",
   "language": "python",
   "name": "python3"
  },
  "language_info": {
   "codemirror_mode": {
    "name": "ipython",
    "version": 3
   },
   "file_extension": ".py",
   "mimetype": "text/x-python",
   "name": "python",
   "nbconvert_exporter": "python",
   "pygments_lexer": "ipython3",
   "version": "3.9.5"
  },
  "toc": {
   "base_numbering": 1,
   "nav_menu": {},
   "number_sections": true,
   "sideBar": true,
   "skip_h1_title": false,
   "title_cell": "Table of Contents",
   "title_sidebar": "Contents",
   "toc_cell": false,
   "toc_position": {},
   "toc_section_display": true,
   "toc_window_display": false
  }
 },
 "nbformat": 4,
 "nbformat_minor": 5
}
