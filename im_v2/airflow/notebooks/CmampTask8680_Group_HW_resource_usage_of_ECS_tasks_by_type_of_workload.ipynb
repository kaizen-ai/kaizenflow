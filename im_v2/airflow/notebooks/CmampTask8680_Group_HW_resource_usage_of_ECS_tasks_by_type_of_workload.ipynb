{
 "cells": [
  {
   "cell_type": "markdown",
   "id": "f0db6b86",
   "metadata": {},
   "source": [
    "# Analyze container HW usage in ECS per type of workload"
   ]
  },
  {
   "cell_type": "markdown",
   "id": "edb94bdf",
   "metadata": {},
   "source": [
    "- Each ECS tasks has a unique task ID in form of a hash\n",
    "- We perform the analysis per each region (results should be very similar if not identical)\n",
    "- We have two types of log statistics\n",
    "    - Table that shows us task ID with a concrete type of workload, e.g. python script or invoke target\n",
    "    - Table that shows us information about HW resource usage of a given container from CloudWatch Container Insights\n",
    "- Data spans 24 hour time interval\n",
    "- Strategy to compute the table of HW usage per type of workload\n",
    "    1. Parse the entrypoint - e.g. remove the parameters from the script/invoke calls because these will differ\n",
    "    2. Group by type of entrypoint and compute average maximum utilization of RAM/CPU"
   ]
  },
  {
   "cell_type": "code",
   "execution_count": 1,
   "id": "7adaf960",
   "metadata": {
    "ExecuteTime": {
     "end_time": "2024-07-12T13:01:36.979750Z",
     "start_time": "2024-07-12T13:01:35.595923Z"
    }
   },
   "outputs": [],
   "source": [
    "import pandas as pd"
   ]
  },
  {
   "cell_type": "markdown",
   "id": "97793387",
   "metadata": {
    "ExecuteTime": {
     "end_time": "2024-07-11T18:52:34.082384Z",
     "start_time": "2024-07-11T18:52:33.306038Z"
    }
   },
   "source": [
    "## Load data"
   ]
  },
  {
   "cell_type": "code",
   "execution_count": 2,
   "id": "bd687938",
   "metadata": {
    "ExecuteTime": {
     "end_time": "2024-07-12T13:01:37.040396Z",
     "start_time": "2024-07-12T13:01:36.982227Z"
    }
   },
   "outputs": [],
   "source": [
    "europe_task_ids = pd.read_csv(\"stockholm-logs-insights-results-tasks.csv\")\n",
    "europe_task_ids[\"region\"] = \"eu-north-1\"\n",
    "tokyo_task_ids = pd.read_csv(\"tokyo-logs-insights-results-tasks.csv\")\n",
    "tokyo_task_ids[\"region\"] = \"ap-northeast-1\""
   ]
  },
  {
   "cell_type": "code",
   "execution_count": 3,
   "id": "48642641",
   "metadata": {
    "ExecuteTime": {
     "end_time": "2024-07-12T13:01:37.047576Z",
     "start_time": "2024-07-12T13:01:37.043974Z"
    }
   },
   "outputs": [],
   "source": [
    "task_ids = pd.concat([europe_task_ids, tokyo_task_ids], axis=0)"
   ]
  },
  {
   "cell_type": "code",
   "execution_count": 4,
   "id": "eac0e1d5",
   "metadata": {
    "ExecuteTime": {
     "end_time": "2024-07-12T13:01:37.061387Z",
     "start_time": "2024-07-12T13:01:37.049686Z"
    }
   },
   "outputs": [],
   "source": [
    "europe_container_insights = pd.read_csv(\"stockholm-logs-insights-results-container-insights.csv\")\n",
    "europe_container_insights[\"region\"] = \"eu-north-1\"\n",
    "tokyo_container_insights = pd.read_csv(\"tokyo-logs-insights-results-container-insights.csv\")\n",
    "tokyo_container_insights[\"region\"] = \"ap-northeast-1\""
   ]
  },
  {
   "cell_type": "code",
   "execution_count": 5,
   "id": "b1dc2016",
   "metadata": {
    "ExecuteTime": {
     "end_time": "2024-07-12T13:01:37.067333Z",
     "start_time": "2024-07-12T13:01:37.063421Z"
    }
   },
   "outputs": [],
   "source": [
    "container_insights = pd.concat([europe_container_insights, tokyo_container_insights], axis=0)"
   ]
  },
  {
   "cell_type": "markdown",
   "id": "bb87b4e2",
   "metadata": {},
   "source": [
    "## Pre-process"
   ]
  },
  {
   "cell_type": "code",
   "execution_count": 6,
   "id": "09aab3ee",
   "metadata": {
    "ExecuteTime": {
     "end_time": "2024-07-12T13:01:37.088931Z",
     "start_time": "2024-07-12T13:01:37.069120Z"
    }
   },
   "outputs": [
    {
     "data": {
      "text/html": [
       "<div>\n",
       "<style scoped>\n",
       "    .dataframe tbody tr th:only-of-type {\n",
       "        vertical-align: middle;\n",
       "    }\n",
       "\n",
       "    .dataframe tbody tr th {\n",
       "        vertical-align: top;\n",
       "    }\n",
       "\n",
       "    .dataframe thead th {\n",
       "        text-align: right;\n",
       "    }\n",
       "</style>\n",
       "<table border=\"1\" class=\"dataframe\">\n",
       "  <thead>\n",
       "    <tr style=\"text-align: right;\">\n",
       "      <th></th>\n",
       "      <th>@timestamp</th>\n",
       "      <th>@message</th>\n",
       "      <th>@log</th>\n",
       "      <th>@logStream</th>\n",
       "      <th>cmd</th>\n",
       "      <th>region</th>\n",
       "    </tr>\n",
       "  </thead>\n",
       "  <tbody>\n",
       "    <tr>\n",
       "      <th>0</th>\n",
       "      <td>2024-07-12 12:47:29.977</td>\n",
       "      <td>entrypoint.sh: 'mkdir /.dockerenv &amp;&amp; invoke ru...</td>\n",
       "      <td>623860924167:/ecs/cmamp-preprod</td>\n",
       "      <td>ecs/cmamp-preprod/f2b57ebf3efd4005b85c93696a2e...</td>\n",
       "      <td>'mkdir /.dockerenv &amp;&amp; invoke run_single_datase...</td>\n",
       "      <td>eu-north-1</td>\n",
       "    </tr>\n",
       "    <tr>\n",
       "      <th>1</th>\n",
       "      <td>2024-07-12 12:47:29.830</td>\n",
       "      <td>entrypoint.sh: '/app/amp/im_v2/ccxt/db/archive...</td>\n",
       "      <td>623860924167:/ecs/cmamp-preprod</td>\n",
       "      <td>ecs/cmamp-preprod/f359a05ff7a049a991f1f939da5c...</td>\n",
       "      <td>'/app/amp/im_v2/ccxt/db/archive_db_data_to_s3....</td>\n",
       "      <td>eu-north-1</td>\n",
       "    </tr>\n",
       "    <tr>\n",
       "      <th>2</th>\n",
       "      <td>2024-07-12 12:47:10.821</td>\n",
       "      <td>entrypoint.sh: 'mkdir /.dockerenv &amp;&amp; invoke ru...</td>\n",
       "      <td>623860924167:/ecs/cmamp-preprod</td>\n",
       "      <td>ecs/cmamp-preprod/d8714db7525f4581941dbdd4f822...</td>\n",
       "      <td>'mkdir /.dockerenv &amp;&amp; invoke run_single_datase...</td>\n",
       "      <td>eu-north-1</td>\n",
       "    </tr>\n",
       "    <tr>\n",
       "      <th>3</th>\n",
       "      <td>2024-07-12 12:44:22.772</td>\n",
       "      <td>entrypoint.sh: '/app/amp/im_v2/ccxt/db/archive...</td>\n",
       "      <td>623860924167:/ecs/cmamp-preprod</td>\n",
       "      <td>ecs/cmamp-preprod/180fcc2badc24d13a9ccd93ecef2...</td>\n",
       "      <td>'/app/amp/im_v2/ccxt/db/archive_db_data_to_s3....</td>\n",
       "      <td>eu-north-1</td>\n",
       "    </tr>\n",
       "    <tr>\n",
       "      <th>4</th>\n",
       "      <td>2024-07-12 12:42:18.427</td>\n",
       "      <td>entrypoint.sh: '/app/amp/im_v2/common/data/ext...</td>\n",
       "      <td>623860924167:/ecs/cmamp-preprod</td>\n",
       "      <td>ecs/cmamp-preprod/0503278ebfe7435aa0dc9307cd74...</td>\n",
       "      <td>'/app/amp/im_v2/common/data/extract/download_b...</td>\n",
       "      <td>eu-north-1</td>\n",
       "    </tr>\n",
       "  </tbody>\n",
       "</table>\n",
       "</div>"
      ],
      "text/plain": [
       "                @timestamp                                           @message  \\\n",
       "0  2024-07-12 12:47:29.977  entrypoint.sh: 'mkdir /.dockerenv && invoke ru...   \n",
       "1  2024-07-12 12:47:29.830  entrypoint.sh: '/app/amp/im_v2/ccxt/db/archive...   \n",
       "2  2024-07-12 12:47:10.821  entrypoint.sh: 'mkdir /.dockerenv && invoke ru...   \n",
       "3  2024-07-12 12:44:22.772  entrypoint.sh: '/app/amp/im_v2/ccxt/db/archive...   \n",
       "4  2024-07-12 12:42:18.427  entrypoint.sh: '/app/amp/im_v2/common/data/ext...   \n",
       "\n",
       "                              @log  \\\n",
       "0  623860924167:/ecs/cmamp-preprod   \n",
       "1  623860924167:/ecs/cmamp-preprod   \n",
       "2  623860924167:/ecs/cmamp-preprod   \n",
       "3  623860924167:/ecs/cmamp-preprod   \n",
       "4  623860924167:/ecs/cmamp-preprod   \n",
       "\n",
       "                                          @logStream  \\\n",
       "0  ecs/cmamp-preprod/f2b57ebf3efd4005b85c93696a2e...   \n",
       "1  ecs/cmamp-preprod/f359a05ff7a049a991f1f939da5c...   \n",
       "2  ecs/cmamp-preprod/d8714db7525f4581941dbdd4f822...   \n",
       "3  ecs/cmamp-preprod/180fcc2badc24d13a9ccd93ecef2...   \n",
       "4  ecs/cmamp-preprod/0503278ebfe7435aa0dc9307cd74...   \n",
       "\n",
       "                                                 cmd      region  \n",
       "0  'mkdir /.dockerenv && invoke run_single_datase...  eu-north-1  \n",
       "1  '/app/amp/im_v2/ccxt/db/archive_db_data_to_s3....  eu-north-1  \n",
       "2  'mkdir /.dockerenv && invoke run_single_datase...  eu-north-1  \n",
       "3  '/app/amp/im_v2/ccxt/db/archive_db_data_to_s3....  eu-north-1  \n",
       "4  '/app/amp/im_v2/common/data/extract/download_b...  eu-north-1  "
      ]
     },
     "execution_count": 6,
     "metadata": {},
     "output_type": "execute_result"
    }
   ],
   "source": [
    "task_ids.head()"
   ]
  },
  {
   "cell_type": "code",
   "execution_count": 7,
   "id": "b3919f67",
   "metadata": {
    "ExecuteTime": {
     "end_time": "2024-07-12T13:01:37.097765Z",
     "start_time": "2024-07-12T13:01:37.090711Z"
    }
   },
   "outputs": [
    {
     "data": {
      "text/plain": [
       "(3700, 6)"
      ]
     },
     "execution_count": 7,
     "metadata": {},
     "output_type": "execute_result"
    }
   ],
   "source": [
    "task_ids.shape"
   ]
  },
  {
   "cell_type": "code",
   "execution_count": 8,
   "id": "36f0f9a0",
   "metadata": {
    "ExecuteTime": {
     "end_time": "2024-07-12T13:01:37.108781Z",
     "start_time": "2024-07-12T13:01:37.099403Z"
    }
   },
   "outputs": [
    {
     "data": {
      "text/html": [
       "<div>\n",
       "<style scoped>\n",
       "    .dataframe tbody tr th:only-of-type {\n",
       "        vertical-align: middle;\n",
       "    }\n",
       "\n",
       "    .dataframe tbody tr th {\n",
       "        vertical-align: top;\n",
       "    }\n",
       "\n",
       "    .dataframe thead th {\n",
       "        text-align: right;\n",
       "    }\n",
       "</style>\n",
       "<table border=\"1\" class=\"dataframe\">\n",
       "  <thead>\n",
       "    <tr style=\"text-align: right;\">\n",
       "      <th></th>\n",
       "      <th>TaskId</th>\n",
       "      <th>max(CpuUtilized)</th>\n",
       "      <th>max(CpuReserved)</th>\n",
       "      <th>max(MemoryUtilized)</th>\n",
       "      <th>max(MemoryReserved)</th>\n",
       "      <th>region</th>\n",
       "    </tr>\n",
       "  </thead>\n",
       "  <tbody>\n",
       "    <tr>\n",
       "      <th>0</th>\n",
       "      <td>f073519d79404acea3d9ccd4180422e3</td>\n",
       "      <td>255.7964</td>\n",
       "      <td>256</td>\n",
       "      <td>355</td>\n",
       "      <td>1024</td>\n",
       "      <td>eu-north-1</td>\n",
       "    </tr>\n",
       "    <tr>\n",
       "      <th>1</th>\n",
       "      <td>814feea28885429ba67a12017c16b87b</td>\n",
       "      <td>506.5957</td>\n",
       "      <td>512</td>\n",
       "      <td>149</td>\n",
       "      <td>2048</td>\n",
       "      <td>eu-north-1</td>\n",
       "    </tr>\n",
       "    <tr>\n",
       "      <th>2</th>\n",
       "      <td>e1ef148de5e446ee86f0e05ca19ecccf</td>\n",
       "      <td>411.1087</td>\n",
       "      <td>512</td>\n",
       "      <td>338</td>\n",
       "      <td>2048</td>\n",
       "      <td>eu-north-1</td>\n",
       "    </tr>\n",
       "    <tr>\n",
       "      <th>3</th>\n",
       "      <td>0503278ebfe7435aa0dc9307cd743a0e</td>\n",
       "      <td>275.4289</td>\n",
       "      <td>512</td>\n",
       "      <td>324</td>\n",
       "      <td>1024</td>\n",
       "      <td>eu-north-1</td>\n",
       "    </tr>\n",
       "    <tr>\n",
       "      <th>4</th>\n",
       "      <td>744dc8f5455e42e3baeaedc0e4a2a859</td>\n",
       "      <td>256.0683</td>\n",
       "      <td>256</td>\n",
       "      <td>259</td>\n",
       "      <td>1024</td>\n",
       "      <td>eu-north-1</td>\n",
       "    </tr>\n",
       "  </tbody>\n",
       "</table>\n",
       "</div>"
      ],
      "text/plain": [
       "                             TaskId  max(CpuUtilized)  max(CpuReserved)  \\\n",
       "0  f073519d79404acea3d9ccd4180422e3          255.7964               256   \n",
       "1  814feea28885429ba67a12017c16b87b          506.5957               512   \n",
       "2  e1ef148de5e446ee86f0e05ca19ecccf          411.1087               512   \n",
       "3  0503278ebfe7435aa0dc9307cd743a0e          275.4289               512   \n",
       "4  744dc8f5455e42e3baeaedc0e4a2a859          256.0683               256   \n",
       "\n",
       "   max(MemoryUtilized)  max(MemoryReserved)      region  \n",
       "0                  355                 1024  eu-north-1  \n",
       "1                  149                 2048  eu-north-1  \n",
       "2                  338                 2048  eu-north-1  \n",
       "3                  324                 1024  eu-north-1  \n",
       "4                  259                 1024  eu-north-1  "
      ]
     },
     "execution_count": 8,
     "metadata": {},
     "output_type": "execute_result"
    }
   ],
   "source": [
    "container_insights.head()"
   ]
  },
  {
   "cell_type": "code",
   "execution_count": 9,
   "id": "18c01583",
   "metadata": {
    "ExecuteTime": {
     "end_time": "2024-07-12T13:01:37.117264Z",
     "start_time": "2024-07-12T13:01:37.113478Z"
    }
   },
   "outputs": [
    {
     "data": {
      "text/plain": [
       "(3346, 6)"
      ]
     },
     "execution_count": 9,
     "metadata": {},
     "output_type": "execute_result"
    }
   ],
   "source": [
    "container_insights.shape"
   ]
  },
  {
   "cell_type": "markdown",
   "id": "d9bef692",
   "metadata": {},
   "source": [
    "Number of rows might slightly differ since the query insights command that generated the data were executed\n",
    "a few minutes apart"
   ]
  },
  {
   "cell_type": "markdown",
   "id": "3364ca61",
   "metadata": {},
   "source": [
    "Check the various starts of the commands"
   ]
  },
  {
   "cell_type": "code",
   "execution_count": 10,
   "id": "0d6b6a6c",
   "metadata": {
    "ExecuteTime": {
     "end_time": "2024-07-12T13:01:37.126618Z",
     "start_time": "2024-07-12T13:01:37.119611Z"
    }
   },
   "outputs": [
    {
     "data": {
      "text/plain": [
       "array([\"'mkdir /.dockere\", \"'/app/amp/im_v2/\", \"'python /app/amp\",\n",
       "       \"'amp/im_v2/commo\", \"'aws s3 sync s3:\", \"'invoke run_cros\",\n",
       "       \"'/app/amp/datafl\", \"'cd /data/shared\", \"'invoke run_note\"],\n",
       "      dtype=object)"
      ]
     },
     "execution_count": 10,
     "metadata": {},
     "output_type": "execute_result"
    }
   ],
   "source": [
    "task_ids[\"cmd\"].str[:16].unique()"
   ]
  },
  {
   "cell_type": "markdown",
   "id": "ce1c47df",
   "metadata": {},
   "source": [
    "Remove single quotes and `'mkdir /.dockerenv && ` it's not informative"
   ]
  },
  {
   "cell_type": "code",
   "execution_count": 11,
   "id": "09b9d54a",
   "metadata": {
    "ExecuteTime": {
     "end_time": "2024-07-12T13:01:37.141348Z",
     "start_time": "2024-07-12T13:01:37.130509Z"
    }
   },
   "outputs": [],
   "source": [
    "task_ids[\"cmd\"] = task_ids[\"cmd\"].str.strip(\"'\")\n",
    "task_ids[\"cmd\"] = task_ids[\"cmd\"].str.strip()"
   ]
  },
  {
   "cell_type": "code",
   "execution_count": 12,
   "id": "5cb95a86",
   "metadata": {
    "ExecuteTime": {
     "end_time": "2024-07-12T13:01:37.149852Z",
     "start_time": "2024-07-12T13:01:37.143456Z"
    }
   },
   "outputs": [],
   "source": [
    "task_ids[\"cmd\"] = task_ids[\"cmd\"].str.replace(\"mkdir /.dockerenv && \", \"\")"
   ]
  },
  {
   "cell_type": "code",
   "execution_count": 13,
   "id": "15b91feb",
   "metadata": {
    "ExecuteTime": {
     "end_time": "2024-07-12T13:01:37.161319Z",
     "start_time": "2024-07-12T13:01:37.152082Z"
    }
   },
   "outputs": [
    {
     "data": {
      "text/html": [
       "<div>\n",
       "<style scoped>\n",
       "    .dataframe tbody tr th:only-of-type {\n",
       "        vertical-align: middle;\n",
       "    }\n",
       "\n",
       "    .dataframe tbody tr th {\n",
       "        vertical-align: top;\n",
       "    }\n",
       "\n",
       "    .dataframe thead th {\n",
       "        text-align: right;\n",
       "    }\n",
       "</style>\n",
       "<table border=\"1\" class=\"dataframe\">\n",
       "  <thead>\n",
       "    <tr style=\"text-align: right;\">\n",
       "      <th></th>\n",
       "      <th>@timestamp</th>\n",
       "      <th>@message</th>\n",
       "      <th>@log</th>\n",
       "      <th>@logStream</th>\n",
       "      <th>cmd</th>\n",
       "      <th>region</th>\n",
       "    </tr>\n",
       "  </thead>\n",
       "  <tbody>\n",
       "    <tr>\n",
       "      <th>0</th>\n",
       "      <td>2024-07-12 12:47:29.977</td>\n",
       "      <td>entrypoint.sh: 'mkdir /.dockerenv &amp;&amp; invoke ru...</td>\n",
       "      <td>623860924167:/ecs/cmamp-preprod</td>\n",
       "      <td>ecs/cmamp-preprod/f2b57ebf3efd4005b85c93696a2e...</td>\n",
       "      <td>invoke run_single_dataset_qa_notebook --stage ...</td>\n",
       "      <td>eu-north-1</td>\n",
       "    </tr>\n",
       "    <tr>\n",
       "      <th>1</th>\n",
       "      <td>2024-07-12 12:47:29.830</td>\n",
       "      <td>entrypoint.sh: '/app/amp/im_v2/ccxt/db/archive...</td>\n",
       "      <td>623860924167:/ecs/cmamp-preprod</td>\n",
       "      <td>ecs/cmamp-preprod/f359a05ff7a049a991f1f939da5c...</td>\n",
       "      <td>/app/amp/im_v2/ccxt/db/archive_db_data_to_s3.p...</td>\n",
       "      <td>eu-north-1</td>\n",
       "    </tr>\n",
       "    <tr>\n",
       "      <th>2</th>\n",
       "      <td>2024-07-12 12:47:10.821</td>\n",
       "      <td>entrypoint.sh: 'mkdir /.dockerenv &amp;&amp; invoke ru...</td>\n",
       "      <td>623860924167:/ecs/cmamp-preprod</td>\n",
       "      <td>ecs/cmamp-preprod/d8714db7525f4581941dbdd4f822...</td>\n",
       "      <td>invoke run_single_dataset_qa_notebook --stage ...</td>\n",
       "      <td>eu-north-1</td>\n",
       "    </tr>\n",
       "    <tr>\n",
       "      <th>3</th>\n",
       "      <td>2024-07-12 12:44:22.772</td>\n",
       "      <td>entrypoint.sh: '/app/amp/im_v2/ccxt/db/archive...</td>\n",
       "      <td>623860924167:/ecs/cmamp-preprod</td>\n",
       "      <td>ecs/cmamp-preprod/180fcc2badc24d13a9ccd93ecef2...</td>\n",
       "      <td>/app/amp/im_v2/ccxt/db/archive_db_data_to_s3.p...</td>\n",
       "      <td>eu-north-1</td>\n",
       "    </tr>\n",
       "    <tr>\n",
       "      <th>4</th>\n",
       "      <td>2024-07-12 12:42:18.427</td>\n",
       "      <td>entrypoint.sh: '/app/amp/im_v2/common/data/ext...</td>\n",
       "      <td>623860924167:/ecs/cmamp-preprod</td>\n",
       "      <td>ecs/cmamp-preprod/0503278ebfe7435aa0dc9307cd74...</td>\n",
       "      <td>/app/amp/im_v2/common/data/extract/download_bu...</td>\n",
       "      <td>eu-north-1</td>\n",
       "    </tr>\n",
       "  </tbody>\n",
       "</table>\n",
       "</div>"
      ],
      "text/plain": [
       "                @timestamp                                           @message  \\\n",
       "0  2024-07-12 12:47:29.977  entrypoint.sh: 'mkdir /.dockerenv && invoke ru...   \n",
       "1  2024-07-12 12:47:29.830  entrypoint.sh: '/app/amp/im_v2/ccxt/db/archive...   \n",
       "2  2024-07-12 12:47:10.821  entrypoint.sh: 'mkdir /.dockerenv && invoke ru...   \n",
       "3  2024-07-12 12:44:22.772  entrypoint.sh: '/app/amp/im_v2/ccxt/db/archive...   \n",
       "4  2024-07-12 12:42:18.427  entrypoint.sh: '/app/amp/im_v2/common/data/ext...   \n",
       "\n",
       "                              @log  \\\n",
       "0  623860924167:/ecs/cmamp-preprod   \n",
       "1  623860924167:/ecs/cmamp-preprod   \n",
       "2  623860924167:/ecs/cmamp-preprod   \n",
       "3  623860924167:/ecs/cmamp-preprod   \n",
       "4  623860924167:/ecs/cmamp-preprod   \n",
       "\n",
       "                                          @logStream  \\\n",
       "0  ecs/cmamp-preprod/f2b57ebf3efd4005b85c93696a2e...   \n",
       "1  ecs/cmamp-preprod/f359a05ff7a049a991f1f939da5c...   \n",
       "2  ecs/cmamp-preprod/d8714db7525f4581941dbdd4f822...   \n",
       "3  ecs/cmamp-preprod/180fcc2badc24d13a9ccd93ecef2...   \n",
       "4  ecs/cmamp-preprod/0503278ebfe7435aa0dc9307cd74...   \n",
       "\n",
       "                                                 cmd      region  \n",
       "0  invoke run_single_dataset_qa_notebook --stage ...  eu-north-1  \n",
       "1  /app/amp/im_v2/ccxt/db/archive_db_data_to_s3.p...  eu-north-1  \n",
       "2  invoke run_single_dataset_qa_notebook --stage ...  eu-north-1  \n",
       "3  /app/amp/im_v2/ccxt/db/archive_db_data_to_s3.p...  eu-north-1  \n",
       "4  /app/amp/im_v2/common/data/extract/download_bu...  eu-north-1  "
      ]
     },
     "execution_count": 13,
     "metadata": {},
     "output_type": "execute_result"
    }
   ],
   "source": [
    "task_ids.head()"
   ]
  },
  {
   "cell_type": "markdown",
   "id": "f36f3205",
   "metadata": {},
   "source": [
    "Log stream suffix matches the task hash, parse it"
   ]
  },
  {
   "cell_type": "code",
   "execution_count": 14,
   "id": "45317bd0",
   "metadata": {
    "ExecuteTime": {
     "end_time": "2024-07-12T13:01:37.172855Z",
     "start_time": "2024-07-12T13:01:37.163164Z"
    }
   },
   "outputs": [],
   "source": [
    "task_ids[\"TaskId\"] = task_ids[\"@logStream\"].str.split(\"/\").str[-1]"
   ]
  },
  {
   "cell_type": "markdown",
   "id": "b005fc39",
   "metadata": {},
   "source": [
    "## Join datasets and compute statistics"
   ]
  },
  {
   "cell_type": "code",
   "execution_count": 15,
   "id": "214c5711",
   "metadata": {
    "ExecuteTime": {
     "end_time": "2024-07-12T13:01:37.179455Z",
     "start_time": "2024-07-12T13:01:37.175494Z"
    }
   },
   "outputs": [],
   "source": [
    "container_insights[\"max_cpu_ut_pct\"] = (\n",
    "    container_insights[\"max(CpuUtilized)\"] / container_insights[\"max(CpuReserved)\"]\n",
    ") * 100"
   ]
  },
  {
   "cell_type": "code",
   "execution_count": 16,
   "id": "ce502e62",
   "metadata": {
    "ExecuteTime": {
     "end_time": "2024-07-12T13:01:37.186119Z",
     "start_time": "2024-07-12T13:01:37.181783Z"
    }
   },
   "outputs": [],
   "source": [
    "container_insights[\"max_mem_ut_pct\"] = (\n",
    "    container_insights[\"max(MemoryUtilized)\"] / container_insights[\"max(MemoryReserved)\"]\n",
    ") * 100"
   ]
  },
  {
   "cell_type": "code",
   "execution_count": 17,
   "id": "a6002dd9",
   "metadata": {
    "ExecuteTime": {
     "end_time": "2024-07-12T13:01:37.198224Z",
     "start_time": "2024-07-12T13:01:37.187748Z"
    }
   },
   "outputs": [],
   "source": [
    "hw_utilization_data = task_ids.merge(container_insights, on=\"TaskId\")"
   ]
  },
  {
   "cell_type": "code",
   "execution_count": 18,
   "id": "913ec100",
   "metadata": {
    "ExecuteTime": {
     "end_time": "2024-07-12T13:01:37.219785Z",
     "start_time": "2024-07-12T13:01:37.200426Z"
    }
   },
   "outputs": [
    {
     "data": {
      "text/html": [
       "<div>\n",
       "<style scoped>\n",
       "    .dataframe tbody tr th:only-of-type {\n",
       "        vertical-align: middle;\n",
       "    }\n",
       "\n",
       "    .dataframe tbody tr th {\n",
       "        vertical-align: top;\n",
       "    }\n",
       "\n",
       "    .dataframe thead th {\n",
       "        text-align: right;\n",
       "    }\n",
       "</style>\n",
       "<table border=\"1\" class=\"dataframe\">\n",
       "  <thead>\n",
       "    <tr style=\"text-align: right;\">\n",
       "      <th></th>\n",
       "      <th>@timestamp</th>\n",
       "      <th>@message</th>\n",
       "      <th>@log</th>\n",
       "      <th>@logStream</th>\n",
       "      <th>cmd</th>\n",
       "      <th>region_x</th>\n",
       "      <th>TaskId</th>\n",
       "      <th>max(CpuUtilized)</th>\n",
       "      <th>max(CpuReserved)</th>\n",
       "      <th>max(MemoryUtilized)</th>\n",
       "      <th>max(MemoryReserved)</th>\n",
       "      <th>region_y</th>\n",
       "      <th>max_cpu_ut_pct</th>\n",
       "      <th>max_mem_ut_pct</th>\n",
       "    </tr>\n",
       "  </thead>\n",
       "  <tbody>\n",
       "    <tr>\n",
       "      <th>0</th>\n",
       "      <td>2024-07-12 12:44:22.772</td>\n",
       "      <td>entrypoint.sh: '/app/amp/im_v2/ccxt/db/archive...</td>\n",
       "      <td>623860924167:/ecs/cmamp-preprod</td>\n",
       "      <td>ecs/cmamp-preprod/180fcc2badc24d13a9ccd93ecef2...</td>\n",
       "      <td>/app/amp/im_v2/ccxt/db/archive_db_data_to_s3.p...</td>\n",
       "      <td>eu-north-1</td>\n",
       "      <td>180fcc2badc24d13a9ccd93ecef28a0d</td>\n",
       "      <td>513.7388</td>\n",
       "      <td>512</td>\n",
       "      <td>216</td>\n",
       "      <td>1024</td>\n",
       "      <td>eu-north-1</td>\n",
       "      <td>100.339609</td>\n",
       "      <td>21.093750</td>\n",
       "    </tr>\n",
       "    <tr>\n",
       "      <th>1</th>\n",
       "      <td>2024-07-12 12:42:18.427</td>\n",
       "      <td>entrypoint.sh: '/app/amp/im_v2/common/data/ext...</td>\n",
       "      <td>623860924167:/ecs/cmamp-preprod</td>\n",
       "      <td>ecs/cmamp-preprod/0503278ebfe7435aa0dc9307cd74...</td>\n",
       "      <td>/app/amp/im_v2/common/data/extract/download_bu...</td>\n",
       "      <td>eu-north-1</td>\n",
       "      <td>0503278ebfe7435aa0dc9307cd743a0e</td>\n",
       "      <td>275.4289</td>\n",
       "      <td>512</td>\n",
       "      <td>324</td>\n",
       "      <td>1024</td>\n",
       "      <td>eu-north-1</td>\n",
       "      <td>53.794707</td>\n",
       "      <td>31.640625</td>\n",
       "    </tr>\n",
       "    <tr>\n",
       "      <th>2</th>\n",
       "      <td>2024-07-12 12:38:07.086</td>\n",
       "      <td>entrypoint.sh: '/app/amp/im_v2/ccxt/db/archive...</td>\n",
       "      <td>623860924167:/ecs/cmamp-preprod</td>\n",
       "      <td>ecs/cmamp-preprod/ec35f6677fa9485283bc23f90908...</td>\n",
       "      <td>/app/amp/im_v2/ccxt/db/archive_db_data_to_s3.p...</td>\n",
       "      <td>eu-north-1</td>\n",
       "      <td>ec35f6677fa9485283bc23f909086e3b</td>\n",
       "      <td>295.4143</td>\n",
       "      <td>2048</td>\n",
       "      <td>244</td>\n",
       "      <td>16384</td>\n",
       "      <td>eu-north-1</td>\n",
       "      <td>14.424526</td>\n",
       "      <td>1.489258</td>\n",
       "    </tr>\n",
       "    <tr>\n",
       "      <th>3</th>\n",
       "      <td>2024-07-12 12:34:38.882</td>\n",
       "      <td>entrypoint.sh: '/app/amp/im_v2/ccxt/db/archive...</td>\n",
       "      <td>623860924167:/ecs/cmamp-preprod</td>\n",
       "      <td>ecs/cmamp-preprod/583fbe372d2345bfbad5cfbabdc4...</td>\n",
       "      <td>/app/amp/im_v2/ccxt/db/archive_db_data_to_s3.p...</td>\n",
       "      <td>eu-north-1</td>\n",
       "      <td>583fbe372d2345bfbad5cfbabdc4bc49</td>\n",
       "      <td>502.6486</td>\n",
       "      <td>512</td>\n",
       "      <td>200</td>\n",
       "      <td>1024</td>\n",
       "      <td>eu-north-1</td>\n",
       "      <td>98.173555</td>\n",
       "      <td>19.531250</td>\n",
       "    </tr>\n",
       "    <tr>\n",
       "      <th>4</th>\n",
       "      <td>2024-07-12 12:32:47.354</td>\n",
       "      <td>entrypoint.sh: 'mkdir /.dockerenv &amp;&amp; invoke ru...</td>\n",
       "      <td>623860924167:/ecs/cmamp-preprod</td>\n",
       "      <td>ecs/cmamp-preprod/015af97ae20a43e4b330340e7f30...</td>\n",
       "      <td>invoke run_cross_dataset_qa_notebook --stage '...</td>\n",
       "      <td>eu-north-1</td>\n",
       "      <td>015af97ae20a43e4b330340e7f300c7f</td>\n",
       "      <td>512.0856</td>\n",
       "      <td>512</td>\n",
       "      <td>691</td>\n",
       "      <td>2048</td>\n",
       "      <td>eu-north-1</td>\n",
       "      <td>100.016719</td>\n",
       "      <td>33.740234</td>\n",
       "    </tr>\n",
       "  </tbody>\n",
       "</table>\n",
       "</div>"
      ],
      "text/plain": [
       "                @timestamp                                           @message  \\\n",
       "0  2024-07-12 12:44:22.772  entrypoint.sh: '/app/amp/im_v2/ccxt/db/archive...   \n",
       "1  2024-07-12 12:42:18.427  entrypoint.sh: '/app/amp/im_v2/common/data/ext...   \n",
       "2  2024-07-12 12:38:07.086  entrypoint.sh: '/app/amp/im_v2/ccxt/db/archive...   \n",
       "3  2024-07-12 12:34:38.882  entrypoint.sh: '/app/amp/im_v2/ccxt/db/archive...   \n",
       "4  2024-07-12 12:32:47.354  entrypoint.sh: 'mkdir /.dockerenv && invoke ru...   \n",
       "\n",
       "                              @log  \\\n",
       "0  623860924167:/ecs/cmamp-preprod   \n",
       "1  623860924167:/ecs/cmamp-preprod   \n",
       "2  623860924167:/ecs/cmamp-preprod   \n",
       "3  623860924167:/ecs/cmamp-preprod   \n",
       "4  623860924167:/ecs/cmamp-preprod   \n",
       "\n",
       "                                          @logStream  \\\n",
       "0  ecs/cmamp-preprod/180fcc2badc24d13a9ccd93ecef2...   \n",
       "1  ecs/cmamp-preprod/0503278ebfe7435aa0dc9307cd74...   \n",
       "2  ecs/cmamp-preprod/ec35f6677fa9485283bc23f90908...   \n",
       "3  ecs/cmamp-preprod/583fbe372d2345bfbad5cfbabdc4...   \n",
       "4  ecs/cmamp-preprod/015af97ae20a43e4b330340e7f30...   \n",
       "\n",
       "                                                 cmd    region_x  \\\n",
       "0  /app/amp/im_v2/ccxt/db/archive_db_data_to_s3.p...  eu-north-1   \n",
       "1  /app/amp/im_v2/common/data/extract/download_bu...  eu-north-1   \n",
       "2  /app/amp/im_v2/ccxt/db/archive_db_data_to_s3.p...  eu-north-1   \n",
       "3  /app/amp/im_v2/ccxt/db/archive_db_data_to_s3.p...  eu-north-1   \n",
       "4  invoke run_cross_dataset_qa_notebook --stage '...  eu-north-1   \n",
       "\n",
       "                             TaskId  max(CpuUtilized)  max(CpuReserved)  \\\n",
       "0  180fcc2badc24d13a9ccd93ecef28a0d          513.7388               512   \n",
       "1  0503278ebfe7435aa0dc9307cd743a0e          275.4289               512   \n",
       "2  ec35f6677fa9485283bc23f909086e3b          295.4143              2048   \n",
       "3  583fbe372d2345bfbad5cfbabdc4bc49          502.6486               512   \n",
       "4  015af97ae20a43e4b330340e7f300c7f          512.0856               512   \n",
       "\n",
       "   max(MemoryUtilized)  max(MemoryReserved)    region_y  max_cpu_ut_pct  \\\n",
       "0                  216                 1024  eu-north-1      100.339609   \n",
       "1                  324                 1024  eu-north-1       53.794707   \n",
       "2                  244                16384  eu-north-1       14.424526   \n",
       "3                  200                 1024  eu-north-1       98.173555   \n",
       "4                  691                 2048  eu-north-1      100.016719   \n",
       "\n",
       "   max_mem_ut_pct  \n",
       "0       21.093750  \n",
       "1       31.640625  \n",
       "2        1.489258  \n",
       "3       19.531250  \n",
       "4       33.740234  "
      ]
     },
     "execution_count": 18,
     "metadata": {},
     "output_type": "execute_result"
    }
   ],
   "source": [
    "hw_utilization_data.head()"
   ]
  },
  {
   "cell_type": "code",
   "execution_count": 19,
   "id": "7ea7d5e0",
   "metadata": {
    "ExecuteTime": {
     "end_time": "2024-07-12T13:01:37.229506Z",
     "start_time": "2024-07-12T13:01:37.222217Z"
    }
   },
   "outputs": [
    {
     "data": {
      "text/plain": [
       "(2271, 14)"
      ]
     },
     "execution_count": 19,
     "metadata": {},
     "output_type": "execute_result"
    }
   ],
   "source": [
    "hw_utilization_data.shape"
   ]
  },
  {
   "cell_type": "code",
   "execution_count": 27,
   "id": "ca25806a",
   "metadata": {
    "ExecuteTime": {
     "end_time": "2024-07-12T13:02:19.807164Z",
     "start_time": "2024-07-12T13:02:19.802585Z"
    }
   },
   "outputs": [],
   "source": [
    "# These are heuristical observed cases\n",
    "def parse_workload(command: str) -> str:\n",
    "    if command.startswith(\"invoke\") or command.startswith(\"python\"):\n",
    "        # invoke my_invoke --arg 1 --arg2\n",
    "        # ->\n",
    "        # invoke my_invoke\n",
    "        return \" \".join(command.split(\" \")[:2])\n",
    "    elif command.startswith(\"aws s3 sync\"):\n",
    "        return \"aws s3 sync\"\n",
    "    elif command.startswith(\"cd /data/shared/ecs_tokyo/preprod/ && tar -czf\"):\n",
    "        return \"tar -czf\"\n",
    "    else:\n",
    "        # /app/amp/my_script.py --arg 1\n",
    "        # ->\n",
    "        # /app/amp/my_script.py\n",
    "        return command.split(\" \")[0]"
   ]
  },
  {
   "cell_type": "code",
   "execution_count": 33,
   "id": "2f649ecf",
   "metadata": {
    "ExecuteTime": {
     "end_time": "2024-07-12T13:02:49.303224Z",
     "start_time": "2024-07-12T13:02:49.295215Z"
    }
   },
   "outputs": [],
   "source": [
    "hw_utilization_data[\"task_type\"] = hw_utilization_data[\"cmd\"].apply(parse_workload) "
   ]
  },
  {
   "cell_type": "code",
   "execution_count": 34,
   "id": "fa1adaf6",
   "metadata": {
    "ExecuteTime": {
     "end_time": "2024-07-12T13:02:49.683633Z",
     "start_time": "2024-07-12T13:02:49.678254Z"
    }
   },
   "outputs": [
    {
     "data": {
      "text/plain": [
       "array(['/app/amp/im_v2/ccxt/db/archive_db_data_to_s3.py',\n",
       "       '/app/amp/im_v2/common/data/extract/download_bulk.py',\n",
       "       'invoke run_cross_dataset_qa_notebook',\n",
       "       'invoke run_single_dataset_qa_notebook',\n",
       "       '/app/amp/im_v2/ccxt/data/extract/download_exchange_data_to_db_periodically.py',\n",
       "       '/app/amp/im_v2/common/data/transform/resample_rt_bid_ask_data_periodically.py',\n",
       "       'python /app/amp/im_v2/binance/data/extract/download_historical_bid_ask.py',\n",
       "       '/app/amp/im_v2/ccxt/data/extract/download_cryptocom_bid_ask.py',\n",
       "       'amp/im_v2/common/data/transform/resample_daily_bid_ask_data.py',\n",
       "       'aws s3 sync',\n",
       "       '/app/amp/dataflow_amp/system/Cx/scripts/run_Cx_prod_system.py',\n",
       "       'tar -czf'], dtype=object)"
      ]
     },
     "execution_count": 34,
     "metadata": {},
     "output_type": "execute_result"
    }
   ],
   "source": [
    "hw_utilization_data[\"task_type\"].unique()"
   ]
  },
  {
   "cell_type": "code",
   "execution_count": 35,
   "id": "9dcf43be",
   "metadata": {
    "ExecuteTime": {
     "end_time": "2024-07-12T13:02:50.681660Z",
     "start_time": "2024-07-12T13:02:50.667877Z"
    }
   },
   "outputs": [
    {
     "data": {
      "text/html": [
       "<div>\n",
       "<style scoped>\n",
       "    .dataframe tbody tr th:only-of-type {\n",
       "        vertical-align: middle;\n",
       "    }\n",
       "\n",
       "    .dataframe tbody tr th {\n",
       "        vertical-align: top;\n",
       "    }\n",
       "\n",
       "    .dataframe thead th {\n",
       "        text-align: right;\n",
       "    }\n",
       "</style>\n",
       "<table border=\"1\" class=\"dataframe\">\n",
       "  <thead>\n",
       "    <tr style=\"text-align: right;\">\n",
       "      <th></th>\n",
       "      <th>@timestamp</th>\n",
       "      <th>@message</th>\n",
       "      <th>@log</th>\n",
       "      <th>@logStream</th>\n",
       "      <th>cmd</th>\n",
       "      <th>region_x</th>\n",
       "      <th>TaskId</th>\n",
       "      <th>max(CpuUtilized)</th>\n",
       "      <th>max(CpuReserved)</th>\n",
       "      <th>max(MemoryUtilized)</th>\n",
       "      <th>max(MemoryReserved)</th>\n",
       "      <th>region_y</th>\n",
       "      <th>max_cpu_ut_pct</th>\n",
       "      <th>max_mem_ut_pct</th>\n",
       "      <th>task_type</th>\n",
       "    </tr>\n",
       "  </thead>\n",
       "  <tbody>\n",
       "    <tr>\n",
       "      <th>0</th>\n",
       "      <td>2024-07-12 12:44:22.772</td>\n",
       "      <td>entrypoint.sh: '/app/amp/im_v2/ccxt/db/archive...</td>\n",
       "      <td>623860924167:/ecs/cmamp-preprod</td>\n",
       "      <td>ecs/cmamp-preprod/180fcc2badc24d13a9ccd93ecef2...</td>\n",
       "      <td>/app/amp/im_v2/ccxt/db/archive_db_data_to_s3.p...</td>\n",
       "      <td>eu-north-1</td>\n",
       "      <td>180fcc2badc24d13a9ccd93ecef28a0d</td>\n",
       "      <td>513.7388</td>\n",
       "      <td>512</td>\n",
       "      <td>216</td>\n",
       "      <td>1024</td>\n",
       "      <td>eu-north-1</td>\n",
       "      <td>100.339609</td>\n",
       "      <td>21.093750</td>\n",
       "      <td>/app/amp/im_v2/ccxt/db/archive_db_data_to_s3.py</td>\n",
       "    </tr>\n",
       "    <tr>\n",
       "      <th>1</th>\n",
       "      <td>2024-07-12 12:42:18.427</td>\n",
       "      <td>entrypoint.sh: '/app/amp/im_v2/common/data/ext...</td>\n",
       "      <td>623860924167:/ecs/cmamp-preprod</td>\n",
       "      <td>ecs/cmamp-preprod/0503278ebfe7435aa0dc9307cd74...</td>\n",
       "      <td>/app/amp/im_v2/common/data/extract/download_bu...</td>\n",
       "      <td>eu-north-1</td>\n",
       "      <td>0503278ebfe7435aa0dc9307cd743a0e</td>\n",
       "      <td>275.4289</td>\n",
       "      <td>512</td>\n",
       "      <td>324</td>\n",
       "      <td>1024</td>\n",
       "      <td>eu-north-1</td>\n",
       "      <td>53.794707</td>\n",
       "      <td>31.640625</td>\n",
       "      <td>/app/amp/im_v2/common/data/extract/download_bu...</td>\n",
       "    </tr>\n",
       "    <tr>\n",
       "      <th>2</th>\n",
       "      <td>2024-07-12 12:38:07.086</td>\n",
       "      <td>entrypoint.sh: '/app/amp/im_v2/ccxt/db/archive...</td>\n",
       "      <td>623860924167:/ecs/cmamp-preprod</td>\n",
       "      <td>ecs/cmamp-preprod/ec35f6677fa9485283bc23f90908...</td>\n",
       "      <td>/app/amp/im_v2/ccxt/db/archive_db_data_to_s3.p...</td>\n",
       "      <td>eu-north-1</td>\n",
       "      <td>ec35f6677fa9485283bc23f909086e3b</td>\n",
       "      <td>295.4143</td>\n",
       "      <td>2048</td>\n",
       "      <td>244</td>\n",
       "      <td>16384</td>\n",
       "      <td>eu-north-1</td>\n",
       "      <td>14.424526</td>\n",
       "      <td>1.489258</td>\n",
       "      <td>/app/amp/im_v2/ccxt/db/archive_db_data_to_s3.py</td>\n",
       "    </tr>\n",
       "    <tr>\n",
       "      <th>3</th>\n",
       "      <td>2024-07-12 12:34:38.882</td>\n",
       "      <td>entrypoint.sh: '/app/amp/im_v2/ccxt/db/archive...</td>\n",
       "      <td>623860924167:/ecs/cmamp-preprod</td>\n",
       "      <td>ecs/cmamp-preprod/583fbe372d2345bfbad5cfbabdc4...</td>\n",
       "      <td>/app/amp/im_v2/ccxt/db/archive_db_data_to_s3.p...</td>\n",
       "      <td>eu-north-1</td>\n",
       "      <td>583fbe372d2345bfbad5cfbabdc4bc49</td>\n",
       "      <td>502.6486</td>\n",
       "      <td>512</td>\n",
       "      <td>200</td>\n",
       "      <td>1024</td>\n",
       "      <td>eu-north-1</td>\n",
       "      <td>98.173555</td>\n",
       "      <td>19.531250</td>\n",
       "      <td>/app/amp/im_v2/ccxt/db/archive_db_data_to_s3.py</td>\n",
       "    </tr>\n",
       "    <tr>\n",
       "      <th>4</th>\n",
       "      <td>2024-07-12 12:32:47.354</td>\n",
       "      <td>entrypoint.sh: 'mkdir /.dockerenv &amp;&amp; invoke ru...</td>\n",
       "      <td>623860924167:/ecs/cmamp-preprod</td>\n",
       "      <td>ecs/cmamp-preprod/015af97ae20a43e4b330340e7f30...</td>\n",
       "      <td>invoke run_cross_dataset_qa_notebook --stage '...</td>\n",
       "      <td>eu-north-1</td>\n",
       "      <td>015af97ae20a43e4b330340e7f300c7f</td>\n",
       "      <td>512.0856</td>\n",
       "      <td>512</td>\n",
       "      <td>691</td>\n",
       "      <td>2048</td>\n",
       "      <td>eu-north-1</td>\n",
       "      <td>100.016719</td>\n",
       "      <td>33.740234</td>\n",
       "      <td>invoke run_cross_dataset_qa_notebook</td>\n",
       "    </tr>\n",
       "  </tbody>\n",
       "</table>\n",
       "</div>"
      ],
      "text/plain": [
       "                @timestamp                                           @message  \\\n",
       "0  2024-07-12 12:44:22.772  entrypoint.sh: '/app/amp/im_v2/ccxt/db/archive...   \n",
       "1  2024-07-12 12:42:18.427  entrypoint.sh: '/app/amp/im_v2/common/data/ext...   \n",
       "2  2024-07-12 12:38:07.086  entrypoint.sh: '/app/amp/im_v2/ccxt/db/archive...   \n",
       "3  2024-07-12 12:34:38.882  entrypoint.sh: '/app/amp/im_v2/ccxt/db/archive...   \n",
       "4  2024-07-12 12:32:47.354  entrypoint.sh: 'mkdir /.dockerenv && invoke ru...   \n",
       "\n",
       "                              @log  \\\n",
       "0  623860924167:/ecs/cmamp-preprod   \n",
       "1  623860924167:/ecs/cmamp-preprod   \n",
       "2  623860924167:/ecs/cmamp-preprod   \n",
       "3  623860924167:/ecs/cmamp-preprod   \n",
       "4  623860924167:/ecs/cmamp-preprod   \n",
       "\n",
       "                                          @logStream  \\\n",
       "0  ecs/cmamp-preprod/180fcc2badc24d13a9ccd93ecef2...   \n",
       "1  ecs/cmamp-preprod/0503278ebfe7435aa0dc9307cd74...   \n",
       "2  ecs/cmamp-preprod/ec35f6677fa9485283bc23f90908...   \n",
       "3  ecs/cmamp-preprod/583fbe372d2345bfbad5cfbabdc4...   \n",
       "4  ecs/cmamp-preprod/015af97ae20a43e4b330340e7f30...   \n",
       "\n",
       "                                                 cmd    region_x  \\\n",
       "0  /app/amp/im_v2/ccxt/db/archive_db_data_to_s3.p...  eu-north-1   \n",
       "1  /app/amp/im_v2/common/data/extract/download_bu...  eu-north-1   \n",
       "2  /app/amp/im_v2/ccxt/db/archive_db_data_to_s3.p...  eu-north-1   \n",
       "3  /app/amp/im_v2/ccxt/db/archive_db_data_to_s3.p...  eu-north-1   \n",
       "4  invoke run_cross_dataset_qa_notebook --stage '...  eu-north-1   \n",
       "\n",
       "                             TaskId  max(CpuUtilized)  max(CpuReserved)  \\\n",
       "0  180fcc2badc24d13a9ccd93ecef28a0d          513.7388               512   \n",
       "1  0503278ebfe7435aa0dc9307cd743a0e          275.4289               512   \n",
       "2  ec35f6677fa9485283bc23f909086e3b          295.4143              2048   \n",
       "3  583fbe372d2345bfbad5cfbabdc4bc49          502.6486               512   \n",
       "4  015af97ae20a43e4b330340e7f300c7f          512.0856               512   \n",
       "\n",
       "   max(MemoryUtilized)  max(MemoryReserved)    region_y  max_cpu_ut_pct  \\\n",
       "0                  216                 1024  eu-north-1      100.339609   \n",
       "1                  324                 1024  eu-north-1       53.794707   \n",
       "2                  244                16384  eu-north-1       14.424526   \n",
       "3                  200                 1024  eu-north-1       98.173555   \n",
       "4                  691                 2048  eu-north-1      100.016719   \n",
       "\n",
       "   max_mem_ut_pct                                          task_type  \n",
       "0       21.093750    /app/amp/im_v2/ccxt/db/archive_db_data_to_s3.py  \n",
       "1       31.640625  /app/amp/im_v2/common/data/extract/download_bu...  \n",
       "2        1.489258    /app/amp/im_v2/ccxt/db/archive_db_data_to_s3.py  \n",
       "3       19.531250    /app/amp/im_v2/ccxt/db/archive_db_data_to_s3.py  \n",
       "4       33.740234               invoke run_cross_dataset_qa_notebook  "
      ]
     },
     "execution_count": 35,
     "metadata": {},
     "output_type": "execute_result"
    }
   ],
   "source": [
    "hw_utilization_data.head()"
   ]
  },
  {
   "cell_type": "code",
   "execution_count": 36,
   "id": "563aac60",
   "metadata": {
    "ExecuteTime": {
     "end_time": "2024-07-12T13:02:51.914739Z",
     "start_time": "2024-07-12T13:02:51.906091Z"
    }
   },
   "outputs": [],
   "source": [
    "hw_utilization_stats = hw_utilization_data.groupby(\"task_type\")[[\"max_cpu_ut_pct\",\"max_mem_ut_pct\"]].agg(['mean', 'max'])"
   ]
  },
  {
   "cell_type": "code",
   "execution_count": 37,
   "id": "919399d9",
   "metadata": {
    "ExecuteTime": {
     "end_time": "2024-07-12T13:02:52.329182Z",
     "start_time": "2024-07-12T13:02:52.316010Z"
    }
   },
   "outputs": [
    {
     "data": {
      "text/html": [
       "<div>\n",
       "<style scoped>\n",
       "    .dataframe tbody tr th:only-of-type {\n",
       "        vertical-align: middle;\n",
       "    }\n",
       "\n",
       "    .dataframe tbody tr th {\n",
       "        vertical-align: top;\n",
       "    }\n",
       "\n",
       "    .dataframe thead tr th {\n",
       "        text-align: left;\n",
       "    }\n",
       "\n",
       "    .dataframe thead tr:last-of-type th {\n",
       "        text-align: right;\n",
       "    }\n",
       "</style>\n",
       "<table border=\"1\" class=\"dataframe\">\n",
       "  <thead>\n",
       "    <tr>\n",
       "      <th></th>\n",
       "      <th colspan=\"2\" halign=\"left\">max_cpu_ut_pct</th>\n",
       "      <th colspan=\"2\" halign=\"left\">max_mem_ut_pct</th>\n",
       "    </tr>\n",
       "    <tr>\n",
       "      <th></th>\n",
       "      <th>mean</th>\n",
       "      <th>max</th>\n",
       "      <th>mean</th>\n",
       "      <th>max</th>\n",
       "    </tr>\n",
       "    <tr>\n",
       "      <th>task_type</th>\n",
       "      <th></th>\n",
       "      <th></th>\n",
       "      <th></th>\n",
       "      <th></th>\n",
       "    </tr>\n",
       "  </thead>\n",
       "  <tbody>\n",
       "    <tr>\n",
       "      <th>/app/amp/dataflow_amp/system/Cx/scripts/run_Cx_prod_system.py</th>\n",
       "      <td>29.314713</td>\n",
       "      <td>39.564175</td>\n",
       "      <td>3.971354</td>\n",
       "      <td>8.203125</td>\n",
       "    </tr>\n",
       "    <tr>\n",
       "      <th>/app/amp/im_v2/ccxt/data/extract/download_cryptocom_bid_ask.py</th>\n",
       "      <td>59.713353</td>\n",
       "      <td>98.944473</td>\n",
       "      <td>7.634277</td>\n",
       "      <td>8.154297</td>\n",
       "    </tr>\n",
       "    <tr>\n",
       "      <th>/app/amp/im_v2/ccxt/data/extract/download_exchange_data_to_db_periodically.py</th>\n",
       "      <td>76.636006</td>\n",
       "      <td>100.250703</td>\n",
       "      <td>21.662239</td>\n",
       "      <td>36.718750</td>\n",
       "    </tr>\n",
       "    <tr>\n",
       "      <th>/app/amp/im_v2/ccxt/db/archive_db_data_to_s3.py</th>\n",
       "      <td>60.690039</td>\n",
       "      <td>100.344199</td>\n",
       "      <td>13.356254</td>\n",
       "      <td>54.486084</td>\n",
       "    </tr>\n",
       "    <tr>\n",
       "      <th>/app/amp/im_v2/common/data/extract/download_bulk.py</th>\n",
       "      <td>68.380907</td>\n",
       "      <td>100.617695</td>\n",
       "      <td>21.642790</td>\n",
       "      <td>58.984375</td>\n",
       "    </tr>\n",
       "    <tr>\n",
       "      <th>/app/amp/im_v2/common/data/transform/resample_rt_bid_ask_data_periodically.py</th>\n",
       "      <td>46.394865</td>\n",
       "      <td>92.929473</td>\n",
       "      <td>11.505392</td>\n",
       "      <td>25.000000</td>\n",
       "    </tr>\n",
       "    <tr>\n",
       "      <th>amp/im_v2/common/data/transform/resample_daily_bid_ask_data.py</th>\n",
       "      <td>48.934553</td>\n",
       "      <td>86.273975</td>\n",
       "      <td>54.335007</td>\n",
       "      <td>78.566081</td>\n",
       "    </tr>\n",
       "    <tr>\n",
       "      <th>aws s3 sync</th>\n",
       "      <td>78.475548</td>\n",
       "      <td>99.086875</td>\n",
       "      <td>16.057478</td>\n",
       "      <td>27.734375</td>\n",
       "    </tr>\n",
       "    <tr>\n",
       "      <th>invoke run_cross_dataset_qa_notebook</th>\n",
       "      <td>86.425432</td>\n",
       "      <td>100.077168</td>\n",
       "      <td>20.677359</td>\n",
       "      <td>82.983398</td>\n",
       "    </tr>\n",
       "    <tr>\n",
       "      <th>invoke run_single_dataset_qa_notebook</th>\n",
       "      <td>98.673216</td>\n",
       "      <td>100.609961</td>\n",
       "      <td>28.315666</td>\n",
       "      <td>37.255859</td>\n",
       "    </tr>\n",
       "    <tr>\n",
       "      <th>python /app/amp/im_v2/binance/data/extract/download_historical_bid_ask.py</th>\n",
       "      <td>96.325454</td>\n",
       "      <td>100.073730</td>\n",
       "      <td>10.580679</td>\n",
       "      <td>11.816406</td>\n",
       "    </tr>\n",
       "    <tr>\n",
       "      <th>tar -czf</th>\n",
       "      <td>96.689395</td>\n",
       "      <td>98.693438</td>\n",
       "      <td>13.248698</td>\n",
       "      <td>16.210938</td>\n",
       "    </tr>\n",
       "  </tbody>\n",
       "</table>\n",
       "</div>"
      ],
      "text/plain": [
       "                                                   max_cpu_ut_pct              \\\n",
       "                                                             mean         max   \n",
       "task_type                                                                       \n",
       "/app/amp/dataflow_amp/system/Cx/scripts/run_Cx_...      29.314713   39.564175   \n",
       "/app/amp/im_v2/ccxt/data/extract/download_crypt...      59.713353   98.944473   \n",
       "/app/amp/im_v2/ccxt/data/extract/download_excha...      76.636006  100.250703   \n",
       "/app/amp/im_v2/ccxt/db/archive_db_data_to_s3.py         60.690039  100.344199   \n",
       "/app/amp/im_v2/common/data/extract/download_bul...      68.380907  100.617695   \n",
       "/app/amp/im_v2/common/data/transform/resample_r...      46.394865   92.929473   \n",
       "amp/im_v2/common/data/transform/resample_daily_...      48.934553   86.273975   \n",
       "aws s3 sync                                             78.475548   99.086875   \n",
       "invoke run_cross_dataset_qa_notebook                    86.425432  100.077168   \n",
       "invoke run_single_dataset_qa_notebook                   98.673216  100.609961   \n",
       "python /app/amp/im_v2/binance/data/extract/down...      96.325454  100.073730   \n",
       "tar -czf                                                96.689395   98.693438   \n",
       "\n",
       "                                                   max_mem_ut_pct             \n",
       "                                                             mean        max  \n",
       "task_type                                                                     \n",
       "/app/amp/dataflow_amp/system/Cx/scripts/run_Cx_...       3.971354   8.203125  \n",
       "/app/amp/im_v2/ccxt/data/extract/download_crypt...       7.634277   8.154297  \n",
       "/app/amp/im_v2/ccxt/data/extract/download_excha...      21.662239  36.718750  \n",
       "/app/amp/im_v2/ccxt/db/archive_db_data_to_s3.py         13.356254  54.486084  \n",
       "/app/amp/im_v2/common/data/extract/download_bul...      21.642790  58.984375  \n",
       "/app/amp/im_v2/common/data/transform/resample_r...      11.505392  25.000000  \n",
       "amp/im_v2/common/data/transform/resample_daily_...      54.335007  78.566081  \n",
       "aws s3 sync                                             16.057478  27.734375  \n",
       "invoke run_cross_dataset_qa_notebook                    20.677359  82.983398  \n",
       "invoke run_single_dataset_qa_notebook                   28.315666  37.255859  \n",
       "python /app/amp/im_v2/binance/data/extract/down...      10.580679  11.816406  \n",
       "tar -czf                                                13.248698  16.210938  "
      ]
     },
     "execution_count": 37,
     "metadata": {},
     "output_type": "execute_result"
    }
   ],
   "source": [
    "hw_utilization_stats"
   ]
  },
  {
   "cell_type": "markdown",
   "id": "df7917ab",
   "metadata": {},
   "source": [
    "Necessary dependency for `to_markdown()`"
   ]
  },
  {
   "cell_type": "code",
   "execution_count": null,
   "id": "22d8e5d5",
   "metadata": {},
   "outputs": [],
   "source": [
    "! sudo /venv/bin/pip install tabulate"
   ]
  },
  {
   "cell_type": "code",
   "execution_count": 41,
   "id": "357bb0da",
   "metadata": {
    "ExecuteTime": {
     "end_time": "2024-07-12T13:07:18.158242Z",
     "start_time": "2024-07-12T13:07:18.148741Z"
    }
   },
   "outputs": [],
   "source": [
    "hw_utilization_stats.to_markdown(\"hw_utilizations_stats.md\")"
   ]
  },
  {
   "cell_type": "code",
   "execution_count": 39,
   "id": "40430ec5",
   "metadata": {
    "ExecuteTime": {
     "end_time": "2024-07-12T13:03:58.561179Z",
     "start_time": "2024-07-12T13:03:54.423860Z"
    }
   },
   "outputs": [
    {
     "name": "stdout",
     "output_type": "stream",
     "text": [
      "Collecting tabulate\n",
      "  Downloading tabulate-0.9.0-py3-none-any.whl (35 kB)\n",
      "Installing collected packages: tabulate\n",
      "Successfully installed tabulate-0.9.0\n"
     ]
    }
   ],
   "source": [
    "! sudo /venv/bin/pip install tabulate"
   ]
  },
  {
   "cell_type": "code",
   "execution_count": null,
   "id": "cef0e520",
   "metadata": {},
   "outputs": [],
   "source": []
  }
 ],
 "metadata": {
  "kernelspec": {
   "display_name": "Python 3 (ipykernel)",
   "language": "python",
   "name": "python3"
  },
  "language_info": {
   "codemirror_mode": {
    "name": "ipython",
    "version": 3
   },
   "file_extension": ".py",
   "mimetype": "text/x-python",
   "name": "python",
   "nbconvert_exporter": "python",
   "pygments_lexer": "ipython3",
   "version": "3.9.5"
  },
  "toc": {
   "base_numbering": 1,
   "nav_menu": {},
   "number_sections": true,
   "sideBar": true,
   "skip_h1_title": false,
   "title_cell": "Table of Contents",
   "title_sidebar": "Contents",
   "toc_cell": false,
   "toc_position": {},
   "toc_section_display": true,
   "toc_window_display": false
  }
 },
 "nbformat": 4,
 "nbformat_minor": 5
}
