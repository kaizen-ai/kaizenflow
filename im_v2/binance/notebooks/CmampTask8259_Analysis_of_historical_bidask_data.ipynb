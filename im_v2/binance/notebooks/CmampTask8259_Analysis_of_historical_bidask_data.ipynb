{
 "cells": [
  {
   "cell_type": "markdown",
   "id": "3d50bc24",
   "metadata": {},
   "source": [
    "# DESCRIPTION\n",
    "\n",
    "In this notebook we will load the historical bid ask data, and do some basic analysis."
   ]
  },
  {
   "cell_type": "code",
   "execution_count": 4,
   "id": "c4b9b7ca",
   "metadata": {
    "ExecuteTime": {
     "end_time": "2024-05-21T03:42:28.706836Z",
     "start_time": "2024-05-21T03:42:23.170290Z"
    }
   },
   "outputs": [
    {
     "name": "stderr",
     "output_type": "stream",
     "text": [
      "/app/amp/core/statistics/random_samples.py:12: TqdmExperimentalWarning: Using `tqdm.autonotebook.tqdm` in notebook mode. Use `tqdm.tqdm` instead to force console mode (e.g. in jupyter console)\n",
      "  from tqdm.autonotebook import tqdm\n",
      "\u001b[33mWARNING\u001b[0m: No module named 'gluonts'\n"
     ]
    }
   ],
   "source": [
    "import logging\n",
    "import os\n",
    "import tarfile\n",
    "\n",
    "import boto3\n",
    "import numpy as np\n",
    "import pandas as pd\n",
    "\n",
    "import core.finance.resampling as cfinresa\n",
    "import core.plotting.boxplot as cploboxp\n",
    "import helpers.hdatetime as hdateti\n",
    "import helpers.hdbg as hdbg\n",
    "import helpers.henv as henv\n",
    "import helpers.hpandas as hpandas\n",
    "import helpers.hprint as hprint\n",
    "import im_v2.common.data.client.im_raw_data_client as imvcdcimrdc\n",
    "import im_v2.common.data.qa.dataset_validator as imvcdqdava\n",
    "import im_v2.common.data.qa.qa_check as imvcdqqach\n",
    "import im_v2.common.universe.universe as imvcounun\n",
    "\n",
    "# Initialize the S3 client\n",
    "s3 = boto3.client('s3')"
   ]
  },
  {
   "cell_type": "code",
   "execution_count": 5,
   "id": "8462dede",
   "metadata": {
    "ExecuteTime": {
     "end_time": "2024-05-21T03:42:29.150957Z",
     "start_time": "2024-05-21T03:42:28.710107Z"
    }
   },
   "outputs": [
    {
     "name": "stdout",
     "output_type": "stream",
     "text": [
      "\u001b[0m\u001b[36mINFO\u001b[0m: > cmd='/venv/lib/python3.9/site-packages/ipykernel_launcher.py -f /home/.local/share/jupyter/runtime/kernel-b67bcec8-eed1-420e-b26a-73159a6de990.json'\n",
      "WARNING: Running in Jupyter\n",
      "INFO  # Git\n",
      "  branch_name='CmampTask8259_Analysis_of_historical_bidask_data'\n",
      "  hash='4f5c88066'\n",
      "  # Last commits:\n",
      "    * 4f5c88066 sonaalKant checkpoint                                                        (    5 days ago) Wed May 15 16:44:26 2024  (HEAD -> CmampTask8259_Analysis_of_historical_bidask_data, origin/CmampTask8259_Analysis_of_historical_bidask_data)\n",
      "    * b97667c16 sonaalKant checkpoint                                                        (    5 days ago) Wed May 15 16:41:23 2024           \n",
      "    * 9e8ed8b65 sonaalKant checkpoint                                                        (    6 days ago) Wed May 15 14:57:46 2024           \n",
      "# Machine info\n",
      "  system=Linux\n",
      "  node name=9b9993f4b4da\n",
      "  release=5.15.0-1056-aws\n",
      "  version=#61~20.04.1-Ubuntu SMP Wed Mar 13 17:40:41 UTC 2024\n",
      "  machine=x86_64\n",
      "  processor=x86_64\n",
      "  cpu count=8\n",
      "  cpu freq=scpufreq(current=2499.998, min=0.0, max=0.0)\n",
      "  memory=svmem(total=33280270336, available=12259586048, percent=63.2, used=20493115392, free=4965085184, active=1486340096, inactive=18885591040, buffers=213921792, cached=7608147968, shared=765952, slab=7527231488)\n",
      "  disk usage=sdiskusage(total=218506772480, used=125593104384, free=92896890880, percent=57.5)\n",
      "# Packages\n",
      "  python: 3.9.5\n",
      "  cvxopt: 1.3.2\n",
      "  cvxpy: 1.4.2\n",
      "  gluonnlp: ?\n",
      "  gluonts: ?\n",
      "  joblib: 1.3.2\n",
      "  mxnet: ?\n",
      "  numpy: 1.26.0\n",
      "  pandas: 2.1.1\n",
      "  pyarrow: 15.0.0\n",
      "  scipy: 1.11.3\n",
      "  seaborn: 0.13.0\n",
      "  sklearn: 1.3.1\n",
      "  statsmodels: 0.14.0\n"
     ]
    }
   ],
   "source": [
    "hdbg.init_logger(verbosity=logging.INFO)\n",
    "log_level = logging.INFO\n",
    "\n",
    "_LOG = logging.getLogger(__name__)\n",
    "\n",
    "_LOG.info(\"%s\", henv.get_system_signature()[0])\n",
    "\n",
    "hprint.config_notebook()"
   ]
  },
  {
   "cell_type": "code",
   "execution_count": 39,
   "id": "9cee1d49",
   "metadata": {
    "ExecuteTime": {
     "end_time": "2024-05-21T04:06:18.390649Z",
     "start_time": "2024-05-21T04:06:18.368788Z"
    }
   },
   "outputs": [],
   "source": [
    "def get_historical_data(currency_pair: str, date: pd.Timestamp, data_type: str = \"T_DEPTH\"):\n",
    "    \"\"\"\n",
    "    Copy the tar file from S3 to local, load the tar file and return.\n",
    "\n",
    "    :param currency_pair: symbol name for the bid_ask data eg: BTC_USDT\n",
    "    :param date: download data date\n",
    "    :param data_type: 'T_DEPTH' or 'S_DEPTH'\n",
    "    \"\"\"\n",
    "    # Specify the bucket name and object key of the .tar.gz file on S3\n",
    "    date_str = date.strftime('%Y-%m-%d')\n",
    "    bucket_name = 'cryptokaizen-data-test'\n",
    "    object_key = f'sonaal_test/binance/historical_bid_ask/{data_type}/{currency_pair}/{date_str}/data.tar.gz'\n",
    "    # Specify the local directory where you want to extract the contents\n",
    "    local_dir = 'temp/'\n",
    "    # Create the local directory if it doesn't exist\n",
    "    os.makedirs(local_dir, exist_ok=True)\n",
    "    # Download the .tar.gz file from S3 to a local file\n",
    "    local_file = os.path.join(local_dir, 'file.tar.gz')\n",
    "    s3.download_file(bucket_name, object_key, local_file)\n",
    "    # Extract the contents of the .tar.gz file\n",
    "    with tarfile.open(local_file, 'r:gz') as tar:\n",
    "        tar.extractall(local_dir)\n",
    "    # Optionally, delete the downloaded .tar.gz file\n",
    "    os.remove(local_file)\n",
    "    symbol = currency_pair.replace(\"_\",\"\")\n",
    "    if data_type == \"T_DEPTH\":\n",
    "        snap_csv = pd.read_csv(f\"temp/{symbol}_T_DEPTH_2024-04-04_depth_snap.csv\")\n",
    "        update_csv = pd.read_csv(f\"temp/{symbol}_T_DEPTH_2024-04-04_depth_update.csv\")\n",
    "        return snap_csv, update_csv\n",
    "    elif data_type == \"S_DEPTH\":\n",
    "        s_depth = pd.read_csv(f\"temp/{symbol}_S_DEPTH_2024-04-04.csv\")\n",
    "        return s_depth"
   ]
  },
  {
   "cell_type": "code",
   "execution_count": 8,
   "id": "69fad2d4",
   "metadata": {
    "ExecuteTime": {
     "end_time": "2024-05-21T03:42:29.181377Z",
     "start_time": "2024-05-21T03:42:29.175140Z"
    }
   },
   "outputs": [],
   "source": [
    "start_timestamp = pd.Timestamp(\"2024-04-04T00:00:00+00:00\")\n",
    "end_timestamp = pd.Timestamp(\"2024-04-04T00:20:00+00:00\")\n",
    "currency_pair = \"BNB_USDT\""
   ]
  },
  {
   "cell_type": "code",
   "execution_count": 9,
   "id": "e0ddcea9",
   "metadata": {
    "ExecuteTime": {
     "end_time": "2024-05-21T03:43:46.581412Z",
     "start_time": "2024-05-21T03:42:29.183722Z"
    }
   },
   "outputs": [],
   "source": [
    "snap_csv, update_csv = get_historical_data(currency_pair, start_timestamp)\n",
    "snap_csv = snap_csv.rename(columns={\"symbol\" : \"currency_pair\"})\n",
    "update_csv = update_csv.rename(columns={\"symbol\" : \"currency_pair\"})"
   ]
  },
  {
   "cell_type": "markdown",
   "id": "a460c581",
   "metadata": {},
   "source": [
    "## Sanity checks Snapshot CSV"
   ]
  },
  {
   "cell_type": "code",
   "execution_count": 10,
   "id": "ed2f36d4",
   "metadata": {
    "ExecuteTime": {
     "end_time": "2024-05-21T03:43:47.017939Z",
     "start_time": "2024-05-21T03:43:46.623720Z"
    }
   },
   "outputs": [
    {
     "data": {
      "text/html": [
       "<div>\n",
       "<style scoped>\n",
       "    .dataframe tbody tr th:only-of-type {\n",
       "        vertical-align: middle;\n",
       "    }\n",
       "\n",
       "    .dataframe tbody tr th {\n",
       "        vertical-align: top;\n",
       "    }\n",
       "\n",
       "    .dataframe thead th {\n",
       "        text-align: right;\n",
       "    }\n",
       "</style>\n",
       "<table border=\"1\" class=\"dataframe\">\n",
       "  <thead>\n",
       "    <tr style=\"text-align: right;\">\n",
       "      <th></th>\n",
       "      <th>currency_pair</th>\n",
       "      <th>timestamp</th>\n",
       "      <th>trans_id</th>\n",
       "      <th>first_update_id</th>\n",
       "      <th>last_update_id</th>\n",
       "      <th>side</th>\n",
       "      <th>update_type</th>\n",
       "      <th>price</th>\n",
       "      <th>qty</th>\n",
       "    </tr>\n",
       "  </thead>\n",
       "  <tbody>\n",
       "    <tr>\n",
       "      <th>0</th>\n",
       "      <td>BNBUSDT</td>\n",
       "      <td>1712188765826</td>\n",
       "      <td>1712146277903521488</td>\n",
       "      <td>4339359418118</td>\n",
       "      <td>4339359418118</td>\n",
       "      <td>a</td>\n",
       "      <td>snap</td>\n",
       "      <td>575.151</td>\n",
       "      <td>0.03</td>\n",
       "    </tr>\n",
       "    <tr>\n",
       "      <th>1</th>\n",
       "      <td>BNBUSDT</td>\n",
       "      <td>1712188765826</td>\n",
       "      <td>1712146277903521488</td>\n",
       "      <td>4339359418118</td>\n",
       "      <td>4339359418118</td>\n",
       "      <td>a</td>\n",
       "      <td>snap</td>\n",
       "      <td>581.862</td>\n",
       "      <td>0.03</td>\n",
       "    </tr>\n",
       "    <tr>\n",
       "      <th>2</th>\n",
       "      <td>BNBUSDT</td>\n",
       "      <td>1712188765826</td>\n",
       "      <td>1712146277903521488</td>\n",
       "      <td>4339359418118</td>\n",
       "      <td>4339359418118</td>\n",
       "      <td>a</td>\n",
       "      <td>snap</td>\n",
       "      <td>588.573</td>\n",
       "      <td>0.03</td>\n",
       "    </tr>\n",
       "    <tr>\n",
       "      <th>3</th>\n",
       "      <td>BNBUSDT</td>\n",
       "      <td>1712188765826</td>\n",
       "      <td>1712146277903521488</td>\n",
       "      <td>4339359418118</td>\n",
       "      <td>4339359418118</td>\n",
       "      <td>a</td>\n",
       "      <td>snap</td>\n",
       "      <td>589.780</td>\n",
       "      <td>0.05</td>\n",
       "    </tr>\n",
       "    <tr>\n",
       "      <th>4</th>\n",
       "      <td>BNBUSDT</td>\n",
       "      <td>1712188765826</td>\n",
       "      <td>1712146277903521488</td>\n",
       "      <td>4339359418118</td>\n",
       "      <td>4339359418118</td>\n",
       "      <td>a</td>\n",
       "      <td>snap</td>\n",
       "      <td>593.480</td>\n",
       "      <td>0.18</td>\n",
       "    </tr>\n",
       "  </tbody>\n",
       "</table>\n",
       "</div>"
      ],
      "text/plain": [
       "  currency_pair      timestamp             trans_id  first_update_id  last_update_id side update_type    price   qty\n",
       "0       BNBUSDT  1712188765826  1712146277903521488    4339359418118   4339359418118    a        snap  575.151  0.03\n",
       "1       BNBUSDT  1712188765826  1712146277903521488    4339359418118   4339359418118    a        snap  581.862  0.03\n",
       "2       BNBUSDT  1712188765826  1712146277903521488    4339359418118   4339359418118    a        snap  588.573  0.03\n",
       "3       BNBUSDT  1712188765826  1712146277903521488    4339359418118   4339359418118    a        snap  589.780  0.05\n",
       "4       BNBUSDT  1712188765826  1712146277903521488    4339359418118   4339359418118    a        snap  593.480  0.18"
      ]
     },
     "execution_count": 10,
     "metadata": {},
     "output_type": "execute_result"
    }
   ],
   "source": [
    "snap_csv.head()"
   ]
  },
  {
   "cell_type": "code",
   "execution_count": 11,
   "id": "c749f376",
   "metadata": {
    "ExecuteTime": {
     "end_time": "2024-05-21T03:43:47.093300Z",
     "start_time": "2024-05-21T03:43:47.020248Z"
    }
   },
   "outputs": [
    {
     "data": {
      "text/plain": [
       "True"
      ]
     },
     "execution_count": 11,
     "metadata": {},
     "output_type": "execute_result"
    }
   ],
   "source": [
    "# max of ask price < min of bid price\n",
    "snap_csv[snap_csv[\"side\"] == \"a\"][\"price\"].min() > snap_csv[snap_csv[\"side\"] == \"b\"][\"price\"].max()"
   ]
  },
  {
   "cell_type": "code",
   "execution_count": 12,
   "id": "ac826041",
   "metadata": {
    "ExecuteTime": {
     "end_time": "2024-05-21T03:43:47.147744Z",
     "start_time": "2024-05-21T03:43:47.114755Z"
    }
   },
   "outputs": [
    {
     "data": {
      "text/plain": [
       "[562.1,\n",
       " 562.11,\n",
       " 562.12,\n",
       " 562.13,\n",
       " 562.14,\n",
       " 562.15,\n",
       " 562.16,\n",
       " 562.17,\n",
       " 562.18,\n",
       " 562.19,\n",
       " 562.2,\n",
       " 562.21,\n",
       " 562.22,\n",
       " 562.23,\n",
       " 562.24,\n",
       " 562.25,\n",
       " 562.26,\n",
       " 562.27,\n",
       " 562.28,\n",
       " 562.29]"
      ]
     },
     "execution_count": 12,
     "metadata": {},
     "output_type": "execute_result"
    }
   ],
   "source": [
    "sorted(snap_csv[snap_csv[\"side\"] == \"a\"][\"price\"])[:20]"
   ]
  },
  {
   "cell_type": "code",
   "execution_count": 13,
   "id": "12fdc4ab",
   "metadata": {
    "ExecuteTime": {
     "end_time": "2024-05-21T03:43:47.174036Z",
     "start_time": "2024-05-21T03:43:47.150701Z"
    }
   },
   "outputs": [
    {
     "data": {
      "text/plain": [
       "[562.09,\n",
       " 562.08,\n",
       " 562.07,\n",
       " 562.06,\n",
       " 562.05,\n",
       " 562.04,\n",
       " 562.03,\n",
       " 562.02,\n",
       " 562.01,\n",
       " 562.0,\n",
       " 561.99,\n",
       " 561.98,\n",
       " 561.97,\n",
       " 561.96,\n",
       " 561.95,\n",
       " 561.94,\n",
       " 561.93,\n",
       " 561.92,\n",
       " 561.91,\n",
       " 561.9]"
      ]
     },
     "execution_count": 13,
     "metadata": {},
     "output_type": "execute_result"
    }
   ],
   "source": [
    "sorted(snap_csv[snap_csv[\"side\"] == \"b\"][\"price\"])[::-1][:20]"
   ]
  },
  {
   "cell_type": "code",
   "execution_count": 14,
   "id": "2712a089",
   "metadata": {
    "ExecuteTime": {
     "end_time": "2024-05-21T03:43:47.307520Z",
     "start_time": "2024-05-21T03:43:47.178962Z"
    }
   },
   "outputs": [],
   "source": [
    "bids_snap = snap_csv[snap_csv['side'] == 'b'].groupby('price')['qty'].sum().sort_index(ascending=False)\n",
    "ask_snap = snap_csv[snap_csv['side'] == 'a'].groupby('price')['qty'].sum().sort_index()"
   ]
  },
  {
   "cell_type": "code",
   "execution_count": 15,
   "id": "2bc746c3",
   "metadata": {
    "ExecuteTime": {
     "end_time": "2024-05-21T03:43:47.322617Z",
     "start_time": "2024-05-21T03:43:47.309583Z"
    }
   },
   "outputs": [
    {
     "data": {
      "text/plain": [
       "price\n",
       "562.090        41.60\n",
       "562.080         8.82\n",
       "562.070         9.49\n",
       "562.060         8.65\n",
       "562.050         5.23\n",
       "             ...    \n",
       "0.005      100050.00\n",
       "0.004      375050.00\n",
       "0.003      100050.00\n",
       "0.002      200050.00\n",
       "0.001      203106.27\n",
       "Name: qty, Length: 20374, dtype: float64"
      ]
     },
     "execution_count": 15,
     "metadata": {},
     "output_type": "execute_result"
    }
   ],
   "source": [
    "bids_snap"
   ]
  },
  {
   "cell_type": "code",
   "execution_count": 16,
   "id": "d3c9fa09",
   "metadata": {
    "ExecuteTime": {
     "end_time": "2024-05-21T03:43:47.332404Z",
     "start_time": "2024-05-21T03:43:47.326114Z"
    }
   },
   "outputs": [
    {
     "data": {
      "text/plain": [
       "price\n",
       "562.10      12.02\n",
       "562.11       0.05\n",
       "562.12       2.17\n",
       "562.13      11.57\n",
       "562.14      10.84\n",
       "            ...  \n",
       "58800.60     0.10\n",
       "61800.60     0.10\n",
       "64800.60     0.10\n",
       "67800.60     0.10\n",
       "70800.60     0.08\n",
       "Name: qty, Length: 16540, dtype: float64"
      ]
     },
     "execution_count": 16,
     "metadata": {},
     "output_type": "execute_result"
    }
   ],
   "source": [
    "ask_snap"
   ]
  },
  {
   "cell_type": "code",
   "execution_count": 49,
   "id": "6a627f9e",
   "metadata": {
    "ExecuteTime": {
     "end_time": "2024-05-21T04:12:40.853842Z",
     "start_time": "2024-05-21T04:12:40.535988Z"
    }
   },
   "outputs": [
    {
     "data": {
      "image/png": "[encoded data removed]",
      "text/plain": [
       "<Figure size 1200x600 with 1 Axes>"
      ]
     },
     "metadata": {},
     "output_type": "display_data"
    }
   ],
   "source": [
    "cploboxp.plot_bid_ask_price_levels(bids_snap, ask_snap)"
   ]
  },
  {
   "cell_type": "code",
   "execution_count": 19,
   "id": "2af78c07",
   "metadata": {
    "ExecuteTime": {
     "end_time": "2024-05-21T03:43:48.541036Z",
     "start_time": "2024-05-21T03:43:48.522580Z"
    }
   },
   "outputs": [
    {
     "data": {
      "text/plain": [
       "trans_id\n",
       "1712146277903521488    21795\n",
       "1712154385668255484       33\n",
       "1712188759597141007       19\n",
       "1712185207493183258       18\n",
       "1712181614022411399       17\n",
       "                       ...  \n",
       "1712177186415903470        1\n",
       "1712177199737227430        1\n",
       "1712177202503654730        1\n",
       "1712177209453337176        1\n",
       "1712177129404310103        1\n",
       "Name: count, Length: 14644, dtype: int64"
      ]
     },
     "execution_count": 19,
     "metadata": {},
     "output_type": "execute_result"
    }
   ],
   "source": [
    "snap_csv[\"trans_id\"].value_counts()"
   ]
  },
  {
   "cell_type": "code",
   "execution_count": 20,
   "id": "aab86cd6",
   "metadata": {
    "ExecuteTime": {
     "end_time": "2024-05-21T03:43:48.557715Z",
     "start_time": "2024-05-21T03:43:48.544040Z"
    }
   },
   "outputs": [
    {
     "data": {
      "text/plain": [
       "price\n",
       "564.050    1\n",
       "575.151    1\n",
       "581.862    1\n",
       "588.573    1\n",
       "589.780    1\n",
       "          ..\n",
       "594.810    1\n",
       "594.870    1\n",
       "594.890    1\n",
       "595.010    1\n",
       "595.030    1\n",
       "Name: count, Length: 36914, dtype: int64"
      ]
     },
     "execution_count": 20,
     "metadata": {},
     "output_type": "execute_result"
    }
   ],
   "source": [
    "snap_csv[\"price\"].value_counts()"
   ]
  },
  {
   "cell_type": "code",
   "execution_count": 21,
   "id": "52b8d34d",
   "metadata": {
    "ExecuteTime": {
     "end_time": "2024-05-21T03:43:48.635877Z",
     "start_time": "2024-05-21T03:43:48.559838Z"
    }
   },
   "outputs": [
    {
     "data": {
      "text/html": [
       "<div>\n",
       "<style scoped>\n",
       "    .dataframe tbody tr th:only-of-type {\n",
       "        vertical-align: middle;\n",
       "    }\n",
       "\n",
       "    .dataframe tbody tr th {\n",
       "        vertical-align: top;\n",
       "    }\n",
       "\n",
       "    .dataframe thead th {\n",
       "        text-align: right;\n",
       "    }\n",
       "</style>\n",
       "<table border=\"1\" class=\"dataframe\">\n",
       "  <thead>\n",
       "    <tr style=\"text-align: right;\">\n",
       "      <th></th>\n",
       "      <th>price</th>\n",
       "      <th>qty</th>\n",
       "    </tr>\n",
       "  </thead>\n",
       "  <tbody>\n",
       "    <tr>\n",
       "      <th>count</th>\n",
       "      <td>36914.000000</td>\n",
       "      <td>36914.000000</td>\n",
       "    </tr>\n",
       "    <tr>\n",
       "      <th>mean</th>\n",
       "      <td>561.395125</td>\n",
       "      <td>46.178959</td>\n",
       "    </tr>\n",
       "    <tr>\n",
       "      <th>std</th>\n",
       "      <td>1085.458072</td>\n",
       "      <td>2973.784195</td>\n",
       "    </tr>\n",
       "    <tr>\n",
       "      <th>min</th>\n",
       "      <td>0.001000</td>\n",
       "      <td>0.010000</td>\n",
       "    </tr>\n",
       "    <tr>\n",
       "      <th>25%</th>\n",
       "      <td>418.602500</td>\n",
       "      <td>0.040000</td>\n",
       "    </tr>\n",
       "    <tr>\n",
       "      <th>50%</th>\n",
       "      <td>542.235000</td>\n",
       "      <td>0.130000</td>\n",
       "    </tr>\n",
       "    <tr>\n",
       "      <th>75%</th>\n",
       "      <td>641.337500</td>\n",
       "      <td>0.640000</td>\n",
       "    </tr>\n",
       "    <tr>\n",
       "      <th>max</th>\n",
       "      <td>70800.600000</td>\n",
       "      <td>375050.000000</td>\n",
       "    </tr>\n",
       "  </tbody>\n",
       "</table>\n",
       "</div>"
      ],
      "text/plain": [
       "              price            qty\n",
       "count  36914.000000   36914.000000\n",
       "mean     561.395125      46.178959\n",
       "std     1085.458072    2973.784195\n",
       "min        0.001000       0.010000\n",
       "25%      418.602500       0.040000\n",
       "50%      542.235000       0.130000\n",
       "75%      641.337500       0.640000\n",
       "max    70800.600000  375050.000000"
      ]
     },
     "execution_count": 21,
     "metadata": {},
     "output_type": "execute_result"
    }
   ],
   "source": [
    "snap_csv[[\"price\", \"qty\"]].describe()"
   ]
  },
  {
   "cell_type": "markdown",
   "id": "0dab218e",
   "metadata": {},
   "source": [
    "## Sanity Checks Update CSV"
   ]
  },
  {
   "cell_type": "code",
   "execution_count": 50,
   "id": "f1f9ac15",
   "metadata": {
    "ExecuteTime": {
     "end_time": "2024-05-21T04:20:23.086122Z",
     "start_time": "2024-05-21T04:20:23.072313Z"
    }
   },
   "outputs": [
    {
     "data": {
      "text/html": [
       "<div>\n",
       "<style scoped>\n",
       "    .dataframe tbody tr th:only-of-type {\n",
       "        vertical-align: middle;\n",
       "    }\n",
       "\n",
       "    .dataframe tbody tr th {\n",
       "        vertical-align: top;\n",
       "    }\n",
       "\n",
       "    .dataframe thead th {\n",
       "        text-align: right;\n",
       "    }\n",
       "</style>\n",
       "<table border=\"1\" class=\"dataframe\">\n",
       "  <thead>\n",
       "    <tr style=\"text-align: right;\">\n",
       "      <th></th>\n",
       "      <th>currency_pair</th>\n",
       "      <th>timestamp</th>\n",
       "      <th>trans_id</th>\n",
       "      <th>first_update_id</th>\n",
       "      <th>last_update_id</th>\n",
       "      <th>side</th>\n",
       "      <th>update_type</th>\n",
       "      <th>price</th>\n",
       "      <th>qty</th>\n",
       "    </tr>\n",
       "  </thead>\n",
       "  <tbody>\n",
       "    <tr>\n",
       "      <th>0</th>\n",
       "      <td>BNBUSDT</td>\n",
       "      <td>1712188765842</td>\n",
       "      <td>1712188765842937155</td>\n",
       "      <td>4339359418584</td>\n",
       "      <td>4339359418584</td>\n",
       "      <td>a</td>\n",
       "      <td>set</td>\n",
       "      <td>563.88</td>\n",
       "      <td>17.49</td>\n",
       "    </tr>\n",
       "    <tr>\n",
       "      <th>1</th>\n",
       "      <td>BNBUSDT</td>\n",
       "      <td>1712188765842</td>\n",
       "      <td>1712188765842937155</td>\n",
       "      <td>4339359418584</td>\n",
       "      <td>4339359418584</td>\n",
       "      <td>a</td>\n",
       "      <td>set</td>\n",
       "      <td>564.04</td>\n",
       "      <td>43.26</td>\n",
       "    </tr>\n",
       "    <tr>\n",
       "      <th>2</th>\n",
       "      <td>BNBUSDT</td>\n",
       "      <td>1712188765885</td>\n",
       "      <td>1712188765885433835</td>\n",
       "      <td>4339359419908</td>\n",
       "      <td>4339359419908</td>\n",
       "      <td>b</td>\n",
       "      <td>set</td>\n",
       "      <td>561.80</td>\n",
       "      <td>62.30</td>\n",
       "    </tr>\n",
       "    <tr>\n",
       "      <th>3</th>\n",
       "      <td>BNBUSDT</td>\n",
       "      <td>1712188765885</td>\n",
       "      <td>1712188765885801968</td>\n",
       "      <td>4339359419918</td>\n",
       "      <td>4339359419918</td>\n",
       "      <td>b</td>\n",
       "      <td>set</td>\n",
       "      <td>561.80</td>\n",
       "      <td>62.38</td>\n",
       "    </tr>\n",
       "    <tr>\n",
       "      <th>4</th>\n",
       "      <td>BNBUSDT</td>\n",
       "      <td>1712188765895</td>\n",
       "      <td>1712188765895661954</td>\n",
       "      <td>4339359420161</td>\n",
       "      <td>4339359420161</td>\n",
       "      <td>b</td>\n",
       "      <td>set</td>\n",
       "      <td>25.00</td>\n",
       "      <td>0.20</td>\n",
       "    </tr>\n",
       "  </tbody>\n",
       "</table>\n",
       "</div>"
      ],
      "text/plain": [
       "  currency_pair      timestamp             trans_id  first_update_id  last_update_id side update_type   price    qty\n",
       "0       BNBUSDT  1712188765842  1712188765842937155    4339359418584   4339359418584    a         set  563.88  17.49\n",
       "1       BNBUSDT  1712188765842  1712188765842937155    4339359418584   4339359418584    a         set  564.04  43.26\n",
       "2       BNBUSDT  1712188765885  1712188765885433835    4339359419908   4339359419908    b         set  561.80  62.30\n",
       "3       BNBUSDT  1712188765885  1712188765885801968    4339359419918   4339359419918    b         set  561.80  62.38\n",
       "4       BNBUSDT  1712188765895  1712188765895661954    4339359420161   4339359420161    b         set   25.00   0.20"
      ]
     },
     "execution_count": 50,
     "metadata": {},
     "output_type": "execute_result"
    }
   ],
   "source": [
    "update_csv.head()"
   ]
  },
  {
   "cell_type": "code",
   "execution_count": 51,
   "id": "d2bb0a60",
   "metadata": {
    "ExecuteTime": {
     "end_time": "2024-05-21T04:20:25.460760Z",
     "start_time": "2024-05-21T04:20:23.289438Z"
    }
   },
   "outputs": [
    {
     "data": {
      "text/plain": [
       "update_type\n",
       "set    33116001\n",
       "Name: count, dtype: int64"
      ]
     },
     "execution_count": 51,
     "metadata": {},
     "output_type": "execute_result"
    }
   ],
   "source": [
    "update_csv[\"update_type\"].value_counts()"
   ]
  },
  {
   "cell_type": "code",
   "execution_count": 52,
   "id": "3c0b073b",
   "metadata": {
    "ExecuteTime": {
     "end_time": "2024-05-21T04:20:36.269153Z",
     "start_time": "2024-05-21T04:20:25.463779Z"
    }
   },
   "outputs": [
    {
     "data": {
      "text/html": [
       "<div>\n",
       "<style scoped>\n",
       "    .dataframe tbody tr th:only-of-type {\n",
       "        vertical-align: middle;\n",
       "    }\n",
       "\n",
       "    .dataframe tbody tr th {\n",
       "        vertical-align: top;\n",
       "    }\n",
       "\n",
       "    .dataframe thead th {\n",
       "        text-align: right;\n",
       "    }\n",
       "</style>\n",
       "<table border=\"1\" class=\"dataframe\">\n",
       "  <thead>\n",
       "    <tr style=\"text-align: right;\">\n",
       "      <th></th>\n",
       "      <th>price</th>\n",
       "      <th>qty</th>\n",
       "    </tr>\n",
       "  </thead>\n",
       "  <tbody>\n",
       "    <tr>\n",
       "      <th>count</th>\n",
       "      <td>3.311600e+07</td>\n",
       "      <td>3.311600e+07</td>\n",
       "    </tr>\n",
       "    <tr>\n",
       "      <th>mean</th>\n",
       "      <td>5.597827e+02</td>\n",
       "      <td>1.791265e+01</td>\n",
       "    </tr>\n",
       "    <tr>\n",
       "      <th>std</th>\n",
       "      <td>1.151970e+02</td>\n",
       "      <td>5.189023e+01</td>\n",
       "    </tr>\n",
       "    <tr>\n",
       "      <th>min</th>\n",
       "      <td>6.610000e+00</td>\n",
       "      <td>0.000000e+00</td>\n",
       "    </tr>\n",
       "    <tr>\n",
       "      <th>25%</th>\n",
       "      <td>5.774900e+02</td>\n",
       "      <td>2.050000e+00</td>\n",
       "    </tr>\n",
       "    <tr>\n",
       "      <th>50%</th>\n",
       "      <td>5.836700e+02</td>\n",
       "      <td>8.290000e+00</td>\n",
       "    </tr>\n",
       "    <tr>\n",
       "      <th>75%</th>\n",
       "      <td>5.888800e+02</td>\n",
       "      <td>1.936000e+01</td>\n",
       "    </tr>\n",
       "    <tr>\n",
       "      <th>max</th>\n",
       "      <td>6.745000e+04</td>\n",
       "      <td>6.099430e+03</td>\n",
       "    </tr>\n",
       "  </tbody>\n",
       "</table>\n",
       "</div>"
      ],
      "text/plain": [
       "              price           qty\n",
       "count  3.311600e+07  3.311600e+07\n",
       "mean   5.597827e+02  1.791265e+01\n",
       "std    1.151970e+02  5.189023e+01\n",
       "min    6.610000e+00  0.000000e+00\n",
       "25%    5.774900e+02  2.050000e+00\n",
       "50%    5.836700e+02  8.290000e+00\n",
       "75%    5.888800e+02  1.936000e+01\n",
       "max    6.745000e+04  6.099430e+03"
      ]
     },
     "execution_count": 52,
     "metadata": {},
     "output_type": "execute_result"
    }
   ],
   "source": [
    "update_csv[[\"price\", \"qty\"]].describe()"
   ]
  },
  {
   "cell_type": "markdown",
   "id": "86965d30",
   "metadata": {},
   "source": [
    "## QA Check\n",
    "\n",
    "Perform basic QA to check:\n",
    "1. Gaps in data\n",
    "2. NaN values in data"
   ]
  },
  {
   "cell_type": "code",
   "execution_count": 53,
   "id": "ac69522b",
   "metadata": {
    "ExecuteTime": {
     "end_time": "2024-05-21T04:20:36.276916Z",
     "start_time": "2024-05-21T04:20:36.272805Z"
    }
   },
   "outputs": [],
   "source": [
    "\n",
    "qa_check_list = [\n",
    "    imvcdqqach.GapsInTimeIntervalBySymbolsCheck(\n",
    "        start_timestamp, end_timestamp, \"1T\", align=True\n",
    "    ),\n",
    "    imvcdqqach.NaNChecks(),\n",
    "]\n",
    "dataset_validator = imvcdqdava.DataFrameDatasetValidator(qa_check_list)"
   ]
  },
  {
   "cell_type": "code",
   "execution_count": 26,
   "id": "e1d81e08",
   "metadata": {
    "ExecuteTime": {
     "end_time": "2024-05-21T03:47:18.796160Z",
     "start_time": "2024-05-21T03:44:01.580776Z"
    }
   },
   "outputs": [
    {
     "name": "stdout",
     "output_type": "stream",
     "text": [
      "INFO  Running all QA checks:\n",
      "INFO  \tGapsInTimeIntervalBySymbolsCheck: PASSED\n",
      "INFO  \tNaNChecks: PASSED\n"
     ]
    }
   ],
   "source": [
    "try:\n",
    "    dataset_validator.run_all_checks([update_csv])\n",
    "except Exception as e:\n",
    "    # Pass information about success or failure of the QA\n",
    "    #  back to the task that invoked it.\n",
    "    data_qa_outcome = str(e)\n",
    "    raise e"
   ]
  },
  {
   "cell_type": "code",
   "execution_count": null,
   "id": "42e9489a",
   "metadata": {},
   "outputs": [],
   "source": []
  }
 ],
 "metadata": {
  "kernelspec": {
   "display_name": "Python 3 (ipykernel)",
   "language": "python",
   "name": "python3"
  },
  "language_info": {
   "codemirror_mode": {
    "name": "ipython",
    "version": 3
   },
   "file_extension": ".py",
   "mimetype": "text/x-python",
   "name": "python",
   "nbconvert_exporter": "python",
   "pygments_lexer": "ipython3",
   "version": "3.9.5"
  },
  "toc": {
   "base_numbering": 1,
   "nav_menu": {},
   "number_sections": true,
   "sideBar": true,
   "skip_h1_title": false,
   "title_cell": "Table of Contents",
   "title_sidebar": "Contents",
   "toc_cell": false,
   "toc_position": {},
   "toc_section_display": true,
   "toc_window_display": false
  }
 },
 "nbformat": 4,
 "nbformat_minor": 5
}
