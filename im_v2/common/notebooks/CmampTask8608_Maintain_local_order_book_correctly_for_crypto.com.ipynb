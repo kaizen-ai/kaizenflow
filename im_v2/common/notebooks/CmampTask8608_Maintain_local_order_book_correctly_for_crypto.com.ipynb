{
 "cells": [
  {
   "cell_type": "markdown",
   "id": "46ff7f2a",
   "metadata": {},
   "source": [
    "# Compare crypto.com historical data and our realtime archived data\n",
    "\n",
    "This notebook builds upon previous work. For details on the historical data source refer to `im_v2/common/notebooks/CmampTask8547_Short_EDA_on_crypto.com_bidask_historical_data.ipynb`\n",
    "- the dataset doesn't have a signature yet, we only have snippets of data, the epic to on-board the data is https://github.com/cryptokaizen/cmamp/issues/8520\n",
    "\n",
    "Realtime archived data comes from our downloaders, dataset signature:\n",
    "`periodic_daily.airflow.archived_200ms.parquet.bid_ask.futures.v7_4.ccxt.cryptocom.v1_0_0`"
   ]
  },
  {
   "cell_type": "code",
   "execution_count": 109,
   "id": "49bccd9c",
   "metadata": {
    "ExecuteTime": {
     "end_time": "2024-06-26T14:56:10.850053Z",
     "start_time": "2024-06-26T14:56:10.765018Z"
    }
   },
   "outputs": [
    {
     "name": "stdout",
     "output_type": "stream",
     "text": [
      "The autoreload extension is already loaded. To reload it, use:\n",
      "  %reload_ext autoreload\n"
     ]
    }
   ],
   "source": [
    "%load_ext autoreload\n",
    "%autoreload 2\n",
    "\n",
    "import logging\n",
    "import numpy as np\n",
    "import glob\n",
    "import seaborn as sns\n",
    "import matplotlib.pyplot as plt\n",
    "import pandas as pd\n",
    "import helpers.hdbg as hdbg\n",
    "import helpers.henv as henv\n",
    "import helpers.hprint as hprint\n",
    "import helpers.hpandas as hpandas\n",
    "import helpers.hprint as hprint\n",
    "import im_v2.common.data.client.im_raw_data_client as imvcdcimrdc\n",
    "import core.finance.resampling as cfinresa"
   ]
  },
  {
   "cell_type": "code",
   "execution_count": 2,
   "id": "eed5a705",
   "metadata": {
    "ExecuteTime": {
     "end_time": "2024-06-24T16:34:52.635379Z",
     "start_time": "2024-06-24T16:34:51.991500Z"
    }
   },
   "outputs": [
    {
     "name": "stdout",
     "output_type": "stream",
     "text": [
      "\u001b[0mWARNING: Running in Jupyter\n",
      "INFO  > cmd='/venv/lib/python3.9/site-packages/ipykernel_launcher.py -f /home/.local/share/jupyter/runtime/kernel-1370d960-d200-4542-a8bb-8e9724776ca2.json'\n",
      "INFO  # Git\n",
      "  branch_name='CmampTask8608_Maintain_local_order_book_correctly_for_crypto.com'\n",
      "  hash='07d85a13b'\n",
      "  # Last commits:\n",
      "    * 07d85a13b Vedanshu Joshi CmTask8720 Create pre-prod DAGs for shadow trading (#8727)        (   4 hours ago) Mon Jun 24 12:19:40 2024  (HEAD -> CmampTask8608_Maintain_local_order_book_correctly_for_crypto.com, origin/master, origin/HEAD, origin/CmampTask8733_Deploy_dash_app_behind_VPN, origin/CmampTask8608_Maintain_local_order_book_correctly_for_crypto.com, master)\n",
      "    * aca12ce15 Shayan   Updated the docs with the new infra SMTP (#8738)                  (   5 hours ago) Mon Jun 24 11:17:40 2024           \n",
      "    * fb325a7dc Shayan   Updated EFS throughput mode (#8736)                               (   6 hours ago) Mon Jun 24 10:07:37 2024           \n",
      "# Machine info\n",
      "  system=Linux\n",
      "  node name=3bfe3a23d5d2\n",
      "  release=5.15.0-1058-aws\n",
      "  version=#64~20.04.1-Ubuntu SMP Tue Apr 9 11:12:27 UTC 2024\n",
      "  machine=x86_64\n",
      "  processor=x86_64\n",
      "  cpu count=8\n",
      "  cpu freq=scpufreq(current=2499.998, min=0.0, max=0.0)\n",
      "  memory=svmem(total=33280274432, available=17913470976, percent=46.2, used=14889623552, free=1627226112, active=6954901504, inactive=20178849792, buffers=1336758272, cached=15426666496, shared=1601536, slab=3993333760)\n",
      "  disk usage=sdiskusage(total=218506772480, used=103914151936, free=114575843328, percent=47.6)\n",
      "# Packages\n",
      "  python: 3.9.5\n",
      "  cvxopt: 1.3.2\n",
      "  cvxpy: 1.4.2\n",
      "  gluonnlp: ?\n",
      "  gluonts: ?\n",
      "  joblib: 1.3.2\n",
      "  mxnet: ?\n",
      "  numpy: 1.26.0\n",
      "  pandas: 2.1.1\n",
      "  pyarrow: 15.0.0\n",
      "  scipy: 1.11.3\n",
      "  seaborn: 0.13.0\n",
      "  sklearn: 1.3.1\n",
      "  statsmodels: 0.14.0\n"
     ]
    }
   ],
   "source": [
    "hdbg.init_logger(verbosity=logging.INFO)\n",
    "log_level = logging.INFO\n",
    "\n",
    "_LOG = logging.getLogger(__name__)\n",
    "\n",
    "_LOG.info(\"%s\", henv.get_system_signature()[0])\n",
    "\n",
    "hprint.config_notebook()"
   ]
  },
  {
   "cell_type": "markdown",
   "id": "a5960935",
   "metadata": {},
   "source": [
    "## Load Historical Data"
   ]
  },
  {
   "cell_type": "markdown",
   "id": "6e532928",
   "metadata": {},
   "source": [
    "Snippet of ~10 minutes of data ata for June 23th ~3:00PM"
   ]
  },
  {
   "cell_type": "code",
   "execution_count": 60,
   "id": "8497b79f",
   "metadata": {
    "ExecuteTime": {
     "end_time": "2024-06-25T18:13:41.860145Z",
     "start_time": "2024-06-25T18:13:41.070210Z"
    }
   },
   "outputs": [
    {
     "name": "stdout",
     "output_type": "stream",
     "text": [
      "1719154946422  1719155126448  1719155306502\r\n",
      "1719155058911  1719155251740  1719155414737\r\n"
     ]
    }
   ],
   "source": [
    "! ls /shared_data/CmTask8608"
   ]
  },
  {
   "cell_type": "code",
   "execution_count": 61,
   "id": "1d62befc",
   "metadata": {
    "ExecuteTime": {
     "end_time": "2024-06-25T18:13:42.458624Z",
     "start_time": "2024-06-25T18:13:42.410829Z"
    }
   },
   "outputs": [
    {
     "data": {
      "text/plain": [
       "['/shared_data/CmTask8608/1719155251740',\n",
       " '/shared_data/CmTask8608/1719155126448',\n",
       " '/shared_data/CmTask8608/1719155058911',\n",
       " '/shared_data/CmTask8608/1719155306502',\n",
       " '/shared_data/CmTask8608/1719155414737',\n",
       " '/shared_data/CmTask8608/1719154946422']"
      ]
     },
     "execution_count": 61,
     "metadata": {},
     "output_type": "execute_result"
    }
   ],
   "source": [
    "glob.glob(\"/shared_data/CmTask8608/*\")"
   ]
  },
  {
   "cell_type": "code",
   "execution_count": 62,
   "id": "210c9760",
   "metadata": {
    "ExecuteTime": {
     "end_time": "2024-06-25T18:13:44.316079Z",
     "start_time": "2024-06-25T18:13:42.980681Z"
    }
   },
   "outputs": [],
   "source": [
    "dfs = []\n",
    "for file in glob.glob(\"/shared_data/CmTask8608/*\"):\n",
    "    df_ = pd.read_json(file, lines=True)\n",
    "    dfs.append(df_)\n",
    "\n",
    "df = pd.concat(dfs, axis=0)"
   ]
  },
  {
   "cell_type": "code",
   "execution_count": 13,
   "id": "2386f279",
   "metadata": {
    "ExecuteTime": {
     "end_time": "2024-06-24T16:57:11.801176Z",
     "start_time": "2024-06-24T16:57:11.774373Z"
    }
   },
   "outputs": [],
   "source": [
    "df = df.drop_duplicates(subset=[\"p\"])"
   ]
  },
  {
   "cell_type": "markdown",
   "id": "8a5a6cc5",
   "metadata": {},
   "source": [
    "- We have confirmation from CCXT discord that the timestamp used by CCXT here https://github.com/ccxt/ccxt/blob/1cca6b0883a0e471fede443ebf8501601e40836a/python/ccxt/pro/cryptocom.py#L208 is the time of message publish, AKA\n",
    "'t' field from https://exchange-docs.crypto.com/exchange/v1/rest-ws/index.html#book-instrument_name-depth\n",
    "\n",
    "- We have confirmation from telegram that \"p\" field in the historical data also corresponds to the publish time"
   ]
  },
  {
   "cell_type": "code",
   "execution_count": 87,
   "id": "a865ecc4",
   "metadata": {
    "ExecuteTime": {
     "end_time": "2024-06-26T14:41:27.859033Z",
     "start_time": "2024-06-26T14:41:27.776234Z"
    }
   },
   "outputs": [],
   "source": [
    "df[\"p\"] = pd.to_datetime(df[\"p\"], unit=\"ms\", utc=True)"
   ]
  },
  {
   "cell_type": "code",
   "execution_count": 88,
   "id": "c950895f",
   "metadata": {
    "ExecuteTime": {
     "end_time": "2024-06-26T14:41:28.535884Z",
     "start_time": "2024-06-26T14:41:28.455051Z"
    }
   },
   "outputs": [],
   "source": [
    "historical_df = df.set_index(\"p\", drop=True)"
   ]
  },
  {
   "cell_type": "code",
   "execution_count": 89,
   "id": "9feb7369",
   "metadata": {
    "ExecuteTime": {
     "end_time": "2024-06-26T14:41:29.049407Z",
     "start_time": "2024-06-26T14:41:28.978331Z"
    }
   },
   "outputs": [
    {
     "data": {
      "text/plain": [
       "Timestamp('2024-06-23 15:02:26.424000+0000', tz='UTC')"
      ]
     },
     "execution_count": 89,
     "metadata": {},
     "output_type": "execute_result"
    }
   ],
   "source": [
    "historical_df.index.min()"
   ]
  },
  {
   "cell_type": "markdown",
   "id": "4ad80c7e",
   "metadata": {},
   "source": [
    "Get top of the book data"
   ]
  },
  {
   "cell_type": "code",
   "execution_count": 90,
   "id": "e3ce7f4a",
   "metadata": {
    "ExecuteTime": {
     "end_time": "2024-06-26T14:41:32.493709Z",
     "start_time": "2024-06-26T14:41:30.806397Z"
    }
   },
   "outputs": [],
   "source": [
    "historical_df[[\"bid_price\", \"bid_size\"]] = historical_df[\"b\"].map(lambda x: x[0]).apply(pd.Series)\n",
    "historical_df[[\"ask_price\", \"ask_size\"]] = historical_df[\"a\"].map(lambda x: x[0]).apply(pd.Series)"
   ]
  },
  {
   "cell_type": "code",
   "execution_count": 91,
   "id": "ed04edcf",
   "metadata": {
    "ExecuteTime": {
     "end_time": "2024-06-26T14:41:34.718579Z",
     "start_time": "2024-06-26T14:41:34.671182Z"
    }
   },
   "outputs": [],
   "source": [
    "historical_df.index.name = \"timestamp\""
   ]
  },
  {
   "cell_type": "markdown",
   "id": "aacd44e9",
   "metadata": {},
   "source": [
    "## Load our data"
   ]
  },
  {
   "cell_type": "code",
   "execution_count": 98,
   "id": "f90a5789",
   "metadata": {
    "ExecuteTime": {
     "end_time": "2024-06-26T14:44:29.981563Z",
     "start_time": "2024-06-26T14:44:24.506423Z"
    }
   },
   "outputs": [
    {
     "name": "stdout",
     "output_type": "stream",
     "text": [
      "INFO  Loading dataset schema file: /app/amp/data_schema/dataset_schema_versions/dataset_schema_v3.json\n",
      "INFO  Loaded dataset schema version v3\n",
      "INFO  Loading dataset schema file: /app/amp/data_schema/dataset_schema_versions/dataset_schema_v3.json\n",
      "INFO  Loaded dataset schema version v3\n",
      "INFO  Loading dataset schema file: /app/amp/data_schema/dataset_schema_versions/dataset_schema_v3.json\n",
      "INFO  Loaded dataset schema version v3\n"
     ]
    },
    {
     "data": {
      "text/html": [
       "<div>\n",
       "<style scoped>\n",
       "    .dataframe tbody tr th:only-of-type {\n",
       "        vertical-align: middle;\n",
       "    }\n",
       "\n",
       "    .dataframe tbody tr th {\n",
       "        vertical-align: top;\n",
       "    }\n",
       "\n",
       "    .dataframe thead th {\n",
       "        text-align: right;\n",
       "    }\n",
       "</style>\n",
       "<table border=\"1\" class=\"dataframe\">\n",
       "  <thead>\n",
       "    <tr style=\"text-align: right;\">\n",
       "      <th></th>\n",
       "      <th>timestamp</th>\n",
       "      <th>bid_size</th>\n",
       "      <th>bid_price</th>\n",
       "      <th>ask_size</th>\n",
       "      <th>ask_price</th>\n",
       "      <th>exchange_id</th>\n",
       "      <th>level</th>\n",
       "      <th>end_download_timestamp</th>\n",
       "      <th>knowledge_timestamp</th>\n",
       "      <th>currency_pair</th>\n",
       "      <th>year</th>\n",
       "      <th>month</th>\n",
       "      <th>day</th>\n",
       "    </tr>\n",
       "  </thead>\n",
       "  <tbody>\n",
       "    <tr>\n",
       "      <th>2024-06-23 15:01:26.659000+00:00</th>\n",
       "      <td>1719154886659</td>\n",
       "      <td>0.203</td>\n",
       "      <td>64121.6</td>\n",
       "      <td>0.253</td>\n",
       "      <td>64121.7</td>\n",
       "      <td>cryptocom</td>\n",
       "      <td>1</td>\n",
       "      <td>2024-06-23 15:01:26.800326+00:00</td>\n",
       "      <td>2024-06-23 15:01:32.743258+00:00</td>\n",
       "      <td>BTC_USD</td>\n",
       "      <td>2024</td>\n",
       "      <td>6</td>\n",
       "      <td>23</td>\n",
       "    </tr>\n",
       "    <tr>\n",
       "      <th>2024-06-23 15:01:26.659000+00:00</th>\n",
       "      <td>1719154886659</td>\n",
       "      <td>0.125</td>\n",
       "      <td>64121.0</td>\n",
       "      <td>0.05</td>\n",
       "      <td>64122.2</td>\n",
       "      <td>cryptocom</td>\n",
       "      <td>2</td>\n",
       "      <td>2024-06-23 15:01:26.800326+00:00</td>\n",
       "      <td>2024-06-23 15:01:32.743258+00:00</td>\n",
       "      <td>BTC_USD</td>\n",
       "      <td>2024</td>\n",
       "      <td>6</td>\n",
       "      <td>23</td>\n",
       "    </tr>\n",
       "    <tr>\n",
       "      <th>2024-06-23 15:01:26.659000+00:00</th>\n",
       "      <td>1719154886659</td>\n",
       "      <td>0.01</td>\n",
       "      <td>64119.7</td>\n",
       "      <td>0.125</td>\n",
       "      <td>64124.7</td>\n",
       "      <td>cryptocom</td>\n",
       "      <td>3</td>\n",
       "      <td>2024-06-23 15:01:26.800326+00:00</td>\n",
       "      <td>2024-06-23 15:01:32.743258+00:00</td>\n",
       "      <td>BTC_USD</td>\n",
       "      <td>2024</td>\n",
       "      <td>6</td>\n",
       "      <td>23</td>\n",
       "    </tr>\n",
       "    <tr>\n",
       "      <th></th>\n",
       "      <td>...</td>\n",
       "      <td>...</td>\n",
       "      <td>...</td>\n",
       "      <td>...</td>\n",
       "      <td>...</td>\n",
       "      <td>...</td>\n",
       "      <td>...</td>\n",
       "      <td>...</td>\n",
       "      <td>...</td>\n",
       "      <td>...</td>\n",
       "      <td>...</td>\n",
       "      <td>...</td>\n",
       "      <td>...</td>\n",
       "    </tr>\n",
       "    <tr>\n",
       "      <th>2024-06-23 15:10:26.353000+00:00</th>\n",
       "      <td>1719155426353</td>\n",
       "      <td>0.0693</td>\n",
       "      <td>64114.4</td>\n",
       "      <td>0.0079</td>\n",
       "      <td>64128.1</td>\n",
       "      <td>cryptocom</td>\n",
       "      <td>8</td>\n",
       "      <td>2024-06-23 15:10:26.520302+00:00</td>\n",
       "      <td>2024-06-23 15:10:30.460438+00:00</td>\n",
       "      <td>BTC_USD</td>\n",
       "      <td>2024</td>\n",
       "      <td>6</td>\n",
       "      <td>23</td>\n",
       "    </tr>\n",
       "    <tr>\n",
       "      <th>2024-06-23 15:10:26.353000+00:00</th>\n",
       "      <td>1719155426353</td>\n",
       "      <td>0.204</td>\n",
       "      <td>64114.0</td>\n",
       "      <td>0.202</td>\n",
       "      <td>64128.2</td>\n",
       "      <td>cryptocom</td>\n",
       "      <td>9</td>\n",
       "      <td>2024-06-23 15:10:26.520302+00:00</td>\n",
       "      <td>2024-06-23 15:10:30.460438+00:00</td>\n",
       "      <td>BTC_USD</td>\n",
       "      <td>2024</td>\n",
       "      <td>6</td>\n",
       "      <td>23</td>\n",
       "    </tr>\n",
       "    <tr>\n",
       "      <th>2024-06-23 15:10:26.353000+00:00</th>\n",
       "      <td>1719155426353</td>\n",
       "      <td>0.105</td>\n",
       "      <td>64113.8</td>\n",
       "      <td>0.204</td>\n",
       "      <td>64128.8</td>\n",
       "      <td>cryptocom</td>\n",
       "      <td>10</td>\n",
       "      <td>2024-06-23 15:10:26.520302+00:00</td>\n",
       "      <td>2024-06-23 15:10:30.460438+00:00</td>\n",
       "      <td>BTC_USD</td>\n",
       "      <td>2024</td>\n",
       "      <td>6</td>\n",
       "      <td>23</td>\n",
       "    </tr>\n",
       "  </tbody>\n",
       "</table>\n",
       "</div>"
      ],
      "text/plain": [
       "                                      timestamp bid_size bid_price ask_size ask_price exchange_id level            end_download_timestamp               knowledge_timestamp currency_pair  year month  day\n",
       "2024-06-23 15:01:26.659000+00:00  1719154886659    0.203   64121.6    0.253   64121.7   cryptocom     1  2024-06-23 15:01:26.800326+00:00  2024-06-23 15:01:32.743258+00:00       BTC_USD  2024     6   23\n",
       "2024-06-23 15:01:26.659000+00:00  1719154886659    0.125   64121.0     0.05   64122.2   cryptocom     2  2024-06-23 15:01:26.800326+00:00  2024-06-23 15:01:32.743258+00:00       BTC_USD  2024     6   23\n",
       "2024-06-23 15:01:26.659000+00:00  1719154886659     0.01   64119.7    0.125   64124.7   cryptocom     3  2024-06-23 15:01:26.800326+00:00  2024-06-23 15:01:32.743258+00:00       BTC_USD  2024     6   23\n",
       "                                            ...      ...       ...      ...       ...         ...   ...                               ...                               ...           ...   ...   ...  ...\n",
       "2024-06-23 15:10:26.353000+00:00  1719155426353   0.0693   64114.4   0.0079   64128.1   cryptocom     8  2024-06-23 15:10:26.520302+00:00  2024-06-23 15:10:30.460438+00:00       BTC_USD  2024     6   23\n",
       "2024-06-23 15:10:26.353000+00:00  1719155426353    0.204   64114.0    0.202   64128.2   cryptocom     9  2024-06-23 15:10:26.520302+00:00  2024-06-23 15:10:30.460438+00:00       BTC_USD  2024     6   23\n",
       "2024-06-23 15:10:26.353000+00:00  1719155426353    0.105   64113.8    0.204   64128.8   cryptocom    10  2024-06-23 15:10:26.520302+00:00  2024-06-23 15:10:30.460438+00:00       BTC_USD  2024     6   23"
      ]
     },
     "metadata": {},
     "output_type": "display_data"
    },
    {
     "name": "stdout",
     "output_type": "stream",
     "text": [
      "INFO  None\n"
     ]
    }
   ],
   "source": [
    "signature = \"periodic_daily.airflow.archived_200ms.parquet.bid_ask.futures.v7_4.ccxt.cryptocom.v1_0_0\"\n",
    "reader = imvcdcimrdc.RawDataReader(signature, stage=\"preprod\")\n",
    "start_timestamp = historical_df.index.min() - pd.Timedelta(minutes=1)\n",
    "end_timestamp = historical_df.index.max() + - pd.Timedelta(minutes=1)\n",
    "archived_data = reader.read_data(start_timestamp, end_timestamp, currency_pairs=[\"BTC_USD\"])\n",
    "_LOG.log(log_level, hpandas.df_to_str(archived_data, log_level=log_level))"
   ]
  },
  {
   "cell_type": "code",
   "execution_count": 99,
   "id": "e728ecdd",
   "metadata": {
    "ExecuteTime": {
     "end_time": "2024-06-26T14:44:30.072167Z",
     "start_time": "2024-06-26T14:44:29.988130Z"
    }
   },
   "outputs": [],
   "source": [
    "archived_data = archived_data[archived_data.level == 1].drop(\"timestamp\", axis=1)"
   ]
  },
  {
   "cell_type": "code",
   "execution_count": 100,
   "id": "c8520d96",
   "metadata": {
    "ExecuteTime": {
     "end_time": "2024-06-26T14:44:30.200053Z",
     "start_time": "2024-06-26T14:44:30.083729Z"
    }
   },
   "outputs": [],
   "source": [
    "merged_df = pd.merge(historical_df, archived_data, on='timestamp', suffixes=('_historical', '_rt_archived'))\n",
    "\n",
    "# Calculate the deviation percentage for each column\n",
    "for column in ['bid_size', 'bid_price', 'ask_size', 'ask_price']:\n",
    "    merged_df[f'{column}_deviation'] = abs(merged_df[f'{column}_historical'] - merged_df[f'{column}_rt_archived'])"
   ]
  },
  {
   "cell_type": "code",
   "execution_count": 96,
   "id": "8562bb58",
   "metadata": {
    "ExecuteTime": {
     "end_time": "2024-06-26T14:41:41.937699Z",
     "start_time": "2024-06-26T14:41:41.878241Z"
    }
   },
   "outputs": [
    {
     "data": {
      "text/plain": [
       "(5, 25)"
      ]
     },
     "execution_count": 96,
     "metadata": {},
     "output_type": "execute_result"
    }
   ],
   "source": [
    "merged_df.shape"
   ]
  },
  {
   "cell_type": "code",
   "execution_count": 102,
   "id": "7295eba9",
   "metadata": {
    "ExecuteTime": {
     "end_time": "2024-06-26T14:44:36.712921Z",
     "start_time": "2024-06-26T14:44:36.626236Z"
    }
   },
   "outputs": [
    {
     "data": {
      "text/html": [
       "<div>\n",
       "<style scoped>\n",
       "    .dataframe tbody tr th:only-of-type {\n",
       "        vertical-align: middle;\n",
       "    }\n",
       "\n",
       "    .dataframe tbody tr th {\n",
       "        vertical-align: top;\n",
       "    }\n",
       "\n",
       "    .dataframe thead th {\n",
       "        text-align: right;\n",
       "    }\n",
       "</style>\n",
       "<table border=\"1\" class=\"dataframe\">\n",
       "  <thead>\n",
       "    <tr style=\"text-align: right;\">\n",
       "      <th></th>\n",
       "      <th>bid_size_deviation</th>\n",
       "      <th>bid_price_deviation</th>\n",
       "      <th>ask_size_deviation</th>\n",
       "      <th>ask_price_deviation</th>\n",
       "    </tr>\n",
       "  </thead>\n",
       "  <tbody>\n",
       "    <tr>\n",
       "      <th>count</th>\n",
       "      <td>5.000000e+00</td>\n",
       "      <td>5.0</td>\n",
       "      <td>5.000000e+00</td>\n",
       "      <td>5.000000</td>\n",
       "    </tr>\n",
       "    <tr>\n",
       "      <th>mean</th>\n",
       "      <td>1.110223e-17</td>\n",
       "      <td>0.0</td>\n",
       "      <td>6.320000e-02</td>\n",
       "      <td>0.400000</td>\n",
       "    </tr>\n",
       "    <tr>\n",
       "      <th>std</th>\n",
       "      <td>1.161099e-17</td>\n",
       "      <td>0.0</td>\n",
       "      <td>1.413195e-01</td>\n",
       "      <td>0.894427</td>\n",
       "    </tr>\n",
       "    <tr>\n",
       "      <th>min</th>\n",
       "      <td>0.000000e+00</td>\n",
       "      <td>0.0</td>\n",
       "      <td>0.000000e+00</td>\n",
       "      <td>0.000000</td>\n",
       "    </tr>\n",
       "    <tr>\n",
       "      <th>25%</th>\n",
       "      <td>0.000000e+00</td>\n",
       "      <td>0.0</td>\n",
       "      <td>0.000000e+00</td>\n",
       "      <td>0.000000</td>\n",
       "    </tr>\n",
       "    <tr>\n",
       "      <th>50%</th>\n",
       "      <td>1.387779e-17</td>\n",
       "      <td>0.0</td>\n",
       "      <td>1.387779e-17</td>\n",
       "      <td>0.000000</td>\n",
       "    </tr>\n",
       "    <tr>\n",
       "      <th>75%</th>\n",
       "      <td>1.387779e-17</td>\n",
       "      <td>0.0</td>\n",
       "      <td>2.775558e-17</td>\n",
       "      <td>0.000000</td>\n",
       "    </tr>\n",
       "    <tr>\n",
       "      <th>max</th>\n",
       "      <td>2.775558e-17</td>\n",
       "      <td>0.0</td>\n",
       "      <td>3.160000e-01</td>\n",
       "      <td>2.000000</td>\n",
       "    </tr>\n",
       "  </tbody>\n",
       "</table>\n",
       "</div>"
      ],
      "text/plain": [
       "       bid_size_deviation  bid_price_deviation  ask_size_deviation  ask_price_deviation\n",
       "count        5.000000e+00                  5.0        5.000000e+00             5.000000\n",
       "mean         1.110223e-17                  0.0        6.320000e-02             0.400000\n",
       "std          1.161099e-17                  0.0        1.413195e-01             0.894427\n",
       "min          0.000000e+00                  0.0        0.000000e+00             0.000000\n",
       "25%          0.000000e+00                  0.0        0.000000e+00             0.000000\n",
       "50%          1.387779e-17                  0.0        1.387779e-17             0.000000\n",
       "75%          1.387779e-17                  0.0        2.775558e-17             0.000000\n",
       "max          2.775558e-17                  0.0        3.160000e-01             2.000000"
      ]
     },
     "execution_count": 102,
     "metadata": {},
     "output_type": "execute_result"
    }
   ],
   "source": [
    "merged_df[\n",
    "    [\"bid_size_deviation\", \"bid_price_deviation\", \"ask_size_deviation\", \"ask_price_deviation\"]\n",
    "].describe()"
   ]
  },
  {
   "cell_type": "markdown",
   "id": "ac29c9d0",
   "metadata": {},
   "source": [
    "Conclusion, we have very small overlap of the timestamps between the datasets, which is surprising given the fact\n",
    "that both datasets should be snapshots using the same timestamp semantics - the message publish time"
   ]
  },
  {
   "cell_type": "markdown",
   "id": "3d0b4d14",
   "metadata": {},
   "source": [
    "### Align both datasets to 100ms grid\n",
    "\n",
    "- Choosing very conservative forward filling"
   ]
  },
  {
   "cell_type": "code",
   "execution_count": 110,
   "id": "f9c6505f",
   "metadata": {
    "ExecuteTime": {
     "end_time": "2024-06-26T14:56:15.923515Z",
     "start_time": "2024-06-26T14:56:15.866138Z"
    }
   },
   "outputs": [],
   "source": [
    "historical_df_100ms_grid = cfinresa.resample(historical_df, rule=\"100ms\").last().ffill(limit=10)"
   ]
  },
  {
   "cell_type": "code",
   "execution_count": 111,
   "id": "cb00dfa3",
   "metadata": {
    "ExecuteTime": {
     "end_time": "2024-06-26T14:57:51.981654Z",
     "start_time": "2024-06-26T14:57:51.895942Z"
    }
   },
   "outputs": [],
   "source": [
    "archived_data_100ms_grid = cfinresa.resample(archived_data, rule=\"100ms\").last().ffill(limit=10)"
   ]
  },
  {
   "cell_type": "code",
   "execution_count": 113,
   "id": "cd8fdcc4",
   "metadata": {
    "ExecuteTime": {
     "end_time": "2024-06-26T14:59:37.360435Z",
     "start_time": "2024-06-26T14:59:37.260411Z"
    }
   },
   "outputs": [],
   "source": [
    "merged_df = pd.merge(historical_df_100ms_grid, archived_data_100ms_grid, on='timestamp', suffixes=('_historical', '_rt_archived'))\n",
    "\n",
    "# Calculate the deviation percentage for each column\n",
    "for column in ['bid_size', 'bid_price', 'ask_size', 'ask_price']:\n",
    "    merged_df[f'{column}_deviation'] = abs(merged_df[f'{column}_historical'] - merged_df[f'{column}_rt_archived'])"
   ]
  },
  {
   "cell_type": "code",
   "execution_count": 114,
   "id": "bd7e8486",
   "metadata": {
    "ExecuteTime": {
     "end_time": "2024-06-26T14:59:40.216111Z",
     "start_time": "2024-06-26T14:59:40.177923Z"
    }
   },
   "outputs": [
    {
     "data": {
      "text/plain": [
       "(4800, 25)"
      ]
     },
     "execution_count": 114,
     "metadata": {},
     "output_type": "execute_result"
    }
   ],
   "source": [
    "merged_df.shape"
   ]
  },
  {
   "cell_type": "code",
   "execution_count": 115,
   "id": "51cf3e26",
   "metadata": {
    "ExecuteTime": {
     "end_time": "2024-06-26T14:59:46.734738Z",
     "start_time": "2024-06-26T14:59:46.652891Z"
    }
   },
   "outputs": [
    {
     "data": {
      "text/html": [
       "<div>\n",
       "<style scoped>\n",
       "    .dataframe tbody tr th:only-of-type {\n",
       "        vertical-align: middle;\n",
       "    }\n",
       "\n",
       "    .dataframe tbody tr th {\n",
       "        vertical-align: top;\n",
       "    }\n",
       "\n",
       "    .dataframe thead th {\n",
       "        text-align: right;\n",
       "    }\n",
       "</style>\n",
       "<table border=\"1\" class=\"dataframe\">\n",
       "  <thead>\n",
       "    <tr style=\"text-align: right;\">\n",
       "      <th></th>\n",
       "      <th>bid_size_deviation</th>\n",
       "      <th>bid_price_deviation</th>\n",
       "      <th>ask_size_deviation</th>\n",
       "      <th>ask_price_deviation</th>\n",
       "    </tr>\n",
       "  </thead>\n",
       "  <tbody>\n",
       "    <tr>\n",
       "      <th>count</th>\n",
       "      <td>4.765000e+03</td>\n",
       "      <td>4765.000000</td>\n",
       "      <td>4.765000e+03</td>\n",
       "      <td>4765.000000</td>\n",
       "    </tr>\n",
       "    <tr>\n",
       "      <th>mean</th>\n",
       "      <td>3.577083e-02</td>\n",
       "      <td>0.395551</td>\n",
       "      <td>4.355448e-02</td>\n",
       "      <td>0.405876</td>\n",
       "    </tr>\n",
       "    <tr>\n",
       "      <th>std</th>\n",
       "      <td>7.258316e-02</td>\n",
       "      <td>1.119618</td>\n",
       "      <td>9.250891e-02</td>\n",
       "      <td>1.162211</td>\n",
       "    </tr>\n",
       "    <tr>\n",
       "      <th>min</th>\n",
       "      <td>0.000000e+00</td>\n",
       "      <td>0.000000</td>\n",
       "      <td>0.000000e+00</td>\n",
       "      <td>0.000000</td>\n",
       "    </tr>\n",
       "    <tr>\n",
       "      <th>25%</th>\n",
       "      <td>0.000000e+00</td>\n",
       "      <td>0.000000</td>\n",
       "      <td>0.000000e+00</td>\n",
       "      <td>0.000000</td>\n",
       "    </tr>\n",
       "    <tr>\n",
       "      <th>50%</th>\n",
       "      <td>1.387779e-17</td>\n",
       "      <td>0.000000</td>\n",
       "      <td>1.387779e-17</td>\n",
       "      <td>0.000000</td>\n",
       "    </tr>\n",
       "    <tr>\n",
       "      <th>75%</th>\n",
       "      <td>4.060000e-02</td>\n",
       "      <td>0.200000</td>\n",
       "      <td>5.000000e-02</td>\n",
       "      <td>0.100000</td>\n",
       "    </tr>\n",
       "    <tr>\n",
       "      <th>max</th>\n",
       "      <td>6.870000e-01</td>\n",
       "      <td>13.400000</td>\n",
       "      <td>9.185000e-01</td>\n",
       "      <td>13.800000</td>\n",
       "    </tr>\n",
       "  </tbody>\n",
       "</table>\n",
       "</div>"
      ],
      "text/plain": [
       "       bid_size_deviation  bid_price_deviation  ask_size_deviation  ask_price_deviation\n",
       "count        4.765000e+03          4765.000000        4.765000e+03          4765.000000\n",
       "mean         3.577083e-02             0.395551        4.355448e-02             0.405876\n",
       "std          7.258316e-02             1.119618        9.250891e-02             1.162211\n",
       "min          0.000000e+00             0.000000        0.000000e+00             0.000000\n",
       "25%          0.000000e+00             0.000000        0.000000e+00             0.000000\n",
       "50%          1.387779e-17             0.000000        1.387779e-17             0.000000\n",
       "75%          4.060000e-02             0.200000        5.000000e-02             0.100000\n",
       "max          6.870000e-01            13.400000        9.185000e-01            13.800000"
      ]
     },
     "execution_count": 115,
     "metadata": {},
     "output_type": "execute_result"
    }
   ],
   "source": [
    "merged_df[\n",
    "    [\"bid_size_deviation\", \"bid_price_deviation\", \"ask_size_deviation\", \"ask_price_deviation\"]\n",
    "].describe()"
   ]
  },
  {
   "cell_type": "markdown",
   "id": "0fd61a0d",
   "metadata": {},
   "source": [
    "After aligning on a grid the results are very encouraging, we see very close match at the top of the book\n",
    "for all levels"
   ]
  },
  {
   "cell_type": "code",
   "execution_count": null,
   "id": "4735c991",
   "metadata": {},
   "outputs": [],
   "source": []
  }
 ],
 "metadata": {
  "kernelspec": {
   "display_name": "Python 3 (ipykernel)",
   "language": "python",
   "name": "python3"
  },
  "language_info": {
   "codemirror_mode": {
    "name": "ipython",
    "version": 3
   },
   "file_extension": ".py",
   "mimetype": "text/x-python",
   "name": "python",
   "nbconvert_exporter": "python",
   "pygments_lexer": "ipython3",
   "version": "3.9.5"
  },
  "toc": {
   "base_numbering": 1,
   "nav_menu": {},
   "number_sections": true,
   "sideBar": true,
   "skip_h1_title": false,
   "title_cell": "Table of Contents",
   "title_sidebar": "Contents",
   "toc_cell": false,
   "toc_position": {},
   "toc_section_display": true,
   "toc_window_display": false
  }
 },
 "nbformat": 4,
 "nbformat_minor": 5
}
